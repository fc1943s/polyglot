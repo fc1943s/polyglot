{
 "cells": [
  {
   "cell_type": "markdown",
   "metadata": {
    "dotnet_repl_cellExecutionStartTime": "2023-07-25T16:03:14.4085125-03:00",
    "dotnet_repl_cellExecutionEndTime": "2023-07-25T16:03:14.4626408-03:00",
    "dotnet_repl_cellExecutionTime": "54.3175ms"
   },
   "source": [
    "# Common (Polyglot)"
   ]
  },
  {
   "cell_type": "code",
   "execution_count": null,
   "metadata": {
    "dotnet_repl_cellExecutionStartTime": "2023-07-25T16:03:14.4664188-03:00",
    "dotnet_repl_cellExecutionEndTime": "2023-07-25T16:03:19.2476998-03:00",
    "dotnet_repl_cellExecutionTime": "4.7812857s",
    "dotnet_interactive": {
     "language": "fsharp"
    },
    "polyglot_notebook": {
     "kernelName": "fsharp"
    }
   },
   "outputs": [],
   "source": [
    "#!import ../nbs/Testing.dib"
   ]
  },
  {
   "cell_type": "code",
   "execution_count": null,
   "metadata": {
    "dotnet_repl_cellExecutionStartTime": "2023-07-25T16:03:19.2477681-03:00",
    "dotnet_repl_cellExecutionEndTime": "2023-07-25T16:03:19.2575832-03:00",
    "dotnet_repl_cellExecutionTime": "9.8196ms",
    "dotnet_interactive": {
     "language": "fsharp"
    },
    "polyglot_notebook": {
     "kernelName": "fsharp"
    }
   },
   "outputs": [],
   "source": [
    "let nl = System.Environment.NewLine"
   ]
  },
  {
   "cell_type": "code",
   "execution_count": null,
   "metadata": {
    "dotnet_repl_cellExecutionStartTime": "2023-07-25T16:03:19.2576172-03:00",
    "dotnet_repl_cellExecutionEndTime": "2023-07-25T16:03:19.2926366-03:00",
    "dotnet_repl_cellExecutionTime": "35.0238ms",
    "dotnet_interactive": {
     "language": "fsharp"
    },
    "polyglot_notebook": {
     "kernelName": "fsharp"
    }
   },
   "outputs": [],
   "source": [
    "let cons head tail = head :: tail"
   ]
  },
  {
   "cell_type": "code",
   "execution_count": null,
   "metadata": {
    "dotnet_repl_cellExecutionStartTime": "2023-07-25T16:03:19.2926786-03:00",
    "dotnet_repl_cellExecutionEndTime": "2023-07-25T16:03:19.3507023-03:00",
    "dotnet_repl_cellExecutionTime": "58.0284ms",
    "dotnet_interactive": {
     "language": "fsharp"
    },
    "polyglot_notebook": {
     "kernelName": "fsharp"
    }
   },
   "outputs": [],
   "source": [
    "module String =\n",
    "    let endsWith (value : string) (input : string) =\n",
    "        input.EndsWith value\n",
    "\n",
    "    let padLeft totalWidth paddingChar (input : string) =\n",
    "        input.PadLeft (totalWidth, paddingChar)\n",
    "\n",
    "    let replace (oldValue : string) (newValue : string) (input : string) =\n",
    "        input.Replace (oldValue, newValue)\n",
    "\n",
    "    let split separator (input : string) =\n",
    "        input.Split separator\n",
    "\n",
    "    let splitString (separator : string array) (input : string) =\n",
    "        input.Split (separator, System.StringSplitOptions.None)\n",
    "\n",
    "    let startsWith (value : string) (input : string) =\n",
    "        input.StartsWith value\n",
    "\n",
    "    let substring startIndex length (input : string) =\n",
    "        input.Substring (startIndex, length)\n",
    "\n",
    "    let trim (input : string) =\n",
    "        input.Trim ()\n",
    "    \n",
    "    let trimEnd (trimChars : char array) (input : string) =\n",
    "        input.TrimEnd trimChars\n",
    "\n",
    "    let trimStart (trimChars : char array) (input : string) =\n",
    "        input.TrimStart trimChars"
   ]
  },
  {
   "cell_type": "code",
   "execution_count": null,
   "metadata": {
    "dotnet_repl_cellExecutionStartTime": "2023-07-25T16:03:19.3507387-03:00",
    "dotnet_repl_cellExecutionEndTime": "2023-07-25T16:03:19.3726056-03:00",
    "dotnet_repl_cellExecutionTime": "21.8803ms",
    "dotnet_interactive": {
     "language": "fsharp"
    },
    "polyglot_notebook": {
     "kernelName": "fsharp"
    }
   },
   "outputs": [],
   "source": [
    "type TicksGuid = System.Guid\n",
    "type DateTimeGuid = System.Guid"
   ]
  },
  {
   "cell_type": "code",
   "execution_count": null,
   "metadata": {
    "dotnet_repl_cellExecutionStartTime": "2023-07-25T16:03:19.3726468-03:00",
    "dotnet_repl_cellExecutionEndTime": "2023-07-25T16:03:19.381224-03:00",
    "dotnet_repl_cellExecutionTime": "8.5816ms",
    "dotnet_interactive": {
     "language": "fsharp"
    },
    "polyglot_notebook": {
     "kernelName": "fsharp"
    }
   },
   "outputs": [],
   "source": [
    "//// test\n",
    "\n",
    "let testGuid = Guid \"FEDCBA98-7654-3210-FEDC-BA9876543210\""
   ]
  },
  {
   "cell_type": "markdown",
   "metadata": {
    "dotnet_repl_cellExecutionStartTime": "2023-07-25T16:03:19.3812556-03:00",
    "dotnet_repl_cellExecutionEndTime": "2023-07-25T16:03:19.3845858-03:00",
    "dotnet_repl_cellExecutionTime": "3.336ms"
   },
   "source": [
    "## dateTimeGuidFromDateTime"
   ]
  },
  {
   "cell_type": "code",
   "execution_count": null,
   "metadata": {
    "dotnet_repl_cellExecutionStartTime": "2023-07-25T16:03:19.3846448-03:00",
    "dotnet_repl_cellExecutionEndTime": "2023-07-25T16:03:19.4411894-03:00",
    "dotnet_repl_cellExecutionTime": "56.5486ms",
    "dotnet_interactive": {
     "language": "fsharp"
    },
    "polyglot_notebook": {
     "kernelName": "fsharp"
    }
   },
   "outputs": [],
   "source": [
    "let inline dateTimeGuidFromDateTime (guid: System.Guid) (dateTime: System.DateTime) =\n",
    "    let guid = guid |> string\n",
    "    let prefix = dateTime.ToString \"yyyyMMdd-HHmm-ssff-ffff-f\"\n",
    "    DateTimeGuid $\"{prefix}{guid.[prefix.Length..]}\""
   ]
  },
  {
   "cell_type": "code",
   "execution_count": null,
   "metadata": {
    "dotnet_repl_cellExecutionStartTime": "2023-07-25T16:03:19.4412217-03:00",
    "dotnet_repl_cellExecutionEndTime": "2023-07-25T16:03:19.4824616-03:00",
    "dotnet_repl_cellExecutionTime": "41.2447ms",
    "dotnet_interactive": {
     "language": "fsharp"
    },
    "polyglot_notebook": {
     "kernelName": "fsharp"
    }
   },
   "outputs": [
    {
     "name": "stdout",
     "output_type": "stream",
     "text": [
      "00010101-0000-0000-0000-0a9876543210\r\n"
     ]
    }
   ],
   "source": [
    "//// test\n",
    "\n",
    "dateTimeGuidFromDateTime testGuid DateTime.MinValue\n",
    "|> _equal (DateTimeGuid \"00010101-0000-0000-0000-0a9876543210\")"
   ]
  },
  {
   "cell_type": "code",
   "execution_count": null,
   "metadata": {
    "dotnet_repl_cellExecutionStartTime": "2023-07-25T16:03:19.4825085-03:00",
    "dotnet_repl_cellExecutionEndTime": "2023-07-25T16:03:19.5244271-03:00",
    "dotnet_repl_cellExecutionTime": "41.9217ms",
    "dotnet_interactive": {
     "language": "fsharp"
    },
    "polyglot_notebook": {
     "kernelName": "fsharp"
    }
   },
   "outputs": [
    {
     "name": "stdout",
     "output_type": "stream",
     "text": [
      "99991231-2359-5999-9999-9a9876543210\r\n"
     ]
    }
   ],
   "source": [
    "//// test\n",
    "\n",
    "dateTimeGuidFromDateTime testGuid DateTime.MaxValue\n",
    "|> _equal (DateTimeGuid $\"99991231-2359-5999-9999-9{(testGuid |> string).[^10..]}\")"
   ]
  },
  {
   "cell_type": "code",
   "execution_count": null,
   "metadata": {
    "dotnet_repl_cellExecutionStartTime": "2023-07-25T16:03:19.5244708-03:00",
    "dotnet_repl_cellExecutionEndTime": "2023-07-25T16:03:19.5561703-03:00",
    "dotnet_repl_cellExecutionTime": "31.704ms",
    "dotnet_interactive": {
     "language": "fsharp"
    },
    "polyglot_notebook": {
     "kernelName": "fsharp"
    }
   },
   "outputs": [
    {
     "name": "stdout",
     "output_type": "stream",
     "text": [
      "19700101-0000-0000-0000-0a9876543210\r\n"
     ]
    }
   ],
   "source": [
    "//// test\n",
    "\n",
    "dateTimeGuidFromDateTime testGuid DateTime.UnixEpoch\n",
    "|> _equal (DateTimeGuid $\"19700101-0000-0000-0000-0{(testGuid |> string).[^10..]}\")"
   ]
  },
  {
   "cell_type": "markdown",
   "metadata": {
    "dotnet_repl_cellExecutionStartTime": "2023-07-25T16:03:19.5562214-03:00",
    "dotnet_repl_cellExecutionEndTime": "2023-07-25T16:03:19.5586569-03:00",
    "dotnet_repl_cellExecutionTime": "2.439ms"
   },
   "source": [
    "## dateTimeFromGuid"
   ]
  },
  {
   "cell_type": "code",
   "execution_count": null,
   "metadata": {
    "dotnet_repl_cellExecutionStartTime": "2023-07-25T16:03:19.5586858-03:00",
    "dotnet_repl_cellExecutionEndTime": "2023-07-25T16:03:19.6246809-03:00",
    "dotnet_repl_cellExecutionTime": "65.9996ms",
    "dotnet_interactive": {
     "language": "fsharp"
    },
    "polyglot_notebook": {
     "kernelName": "fsharp"
    }
   },
   "outputs": [],
   "source": [
    "let inline dateTimeFromGuid (dateTimeGuid: DateTimeGuid) =\n",
    "    let dateTimeGuid = dateTimeGuid |> string\n",
    "    System.DateTime.ParseExact (dateTimeGuid.[..24] |> String.replace \"-\" \"\", \"yyyyMMddHHmmssfffffff\", null)"
   ]
  },
  {
   "cell_type": "code",
   "execution_count": null,
   "metadata": {
    "dotnet_repl_cellExecutionStartTime": "2023-07-25T16:03:19.6247127-03:00",
    "dotnet_repl_cellExecutionEndTime": "2023-07-25T16:03:19.6467136-03:00",
    "dotnet_repl_cellExecutionTime": "22.0043ms",
    "dotnet_interactive": {
     "language": "fsharp"
    },
    "polyglot_notebook": {
     "kernelName": "fsharp"
    }
   },
   "outputs": [
    {
     "name": "stdout",
     "output_type": "stream",
     "text": [
      "0001-01-01 00:00:00Z\r\n"
     ]
    }
   ],
   "source": [
    "//// test\n",
    "\n",
    "dateTimeFromGuid (DateTimeGuid \"00010101-0000-0000-0000-0a9876543210\")\n",
    "|> _equal DateTime.MinValue"
   ]
  },
  {
   "cell_type": "code",
   "execution_count": null,
   "metadata": {
    "dotnet_repl_cellExecutionStartTime": "2023-07-25T16:03:19.6467476-03:00",
    "dotnet_repl_cellExecutionEndTime": "2023-07-25T16:03:19.6772752-03:00",
    "dotnet_repl_cellExecutionTime": "30.5389ms",
    "dotnet_interactive": {
     "language": "fsharp"
    },
    "polyglot_notebook": {
     "kernelName": "fsharp"
    }
   },
   "outputs": [
    {
     "name": "stdout",
     "output_type": "stream",
     "text": [
      "9999-12-31 23:59:59Z\r\n"
     ]
    }
   ],
   "source": [
    "//// test\n",
    "\n",
    "dateTimeFromGuid (DateTimeGuid $\"99991231-2359-5999-9999-9{(testGuid |> string).[^10..]}\")\n",
    "|> _equal DateTime.MaxValue"
   ]
  },
  {
   "cell_type": "code",
   "execution_count": null,
   "metadata": {
    "dotnet_repl_cellExecutionStartTime": "2023-07-25T16:03:19.6773242-03:00",
    "dotnet_repl_cellExecutionEndTime": "2023-07-25T16:03:19.7069866-03:00",
    "dotnet_repl_cellExecutionTime": "29.6649ms",
    "dotnet_interactive": {
     "language": "fsharp"
    },
    "polyglot_notebook": {
     "kernelName": "fsharp"
    }
   },
   "outputs": [
    {
     "name": "stdout",
     "output_type": "stream",
     "text": [
      "1970-01-01 00:00:00Z\r\n"
     ]
    }
   ],
   "source": [
    "//// test\n",
    "\n",
    "dateTimeFromGuid (DateTimeGuid $\"19700101-0000-0000-0000-0{(testGuid |> string).[^10..]}\")\n",
    "|> _equal DateTime.UnixEpoch"
   ]
  },
  {
   "cell_type": "markdown",
   "metadata": {
    "dotnet_repl_cellExecutionStartTime": "2023-07-25T16:03:19.7070176-03:00",
    "dotnet_repl_cellExecutionEndTime": "2023-07-25T16:03:19.709653-03:00",
    "dotnet_repl_cellExecutionTime": "2.6392ms"
   },
   "source": [
    "## ticksGuidFromTicks"
   ]
  },
  {
   "cell_type": "code",
   "execution_count": null,
   "metadata": {
    "dotnet_repl_cellExecutionStartTime": "2023-07-25T16:03:19.709678-03:00",
    "dotnet_repl_cellExecutionEndTime": "2023-07-25T16:03:19.7380834-03:00",
    "dotnet_repl_cellExecutionTime": "28.4099ms",
    "dotnet_interactive": {
     "language": "fsharp"
    },
    "polyglot_notebook": {
     "kernelName": "fsharp"
    }
   },
   "outputs": [],
   "source": [
    "let inline ticksGuidFromTicks (guid: System.Guid) (ticks: int64) =\n",
    "    let guid = guid |> string\n",
    "    let ticks = ticks |> string |> String.padLeft 18 '0'\n",
    "    TicksGuid $\"{ticks.[0..7]}-{ticks.[8..11]}-{ticks.[12..15]}-{ticks.[16..17]}{guid.[21..]}\""
   ]
  },
  {
   "cell_type": "code",
   "execution_count": null,
   "metadata": {
    "dotnet_repl_cellExecutionStartTime": "2023-07-25T16:03:19.7381156-03:00",
    "dotnet_repl_cellExecutionEndTime": "2023-07-25T16:03:19.7661932-03:00",
    "dotnet_repl_cellExecutionTime": "28.0838ms",
    "dotnet_interactive": {
     "language": "fsharp"
    },
    "polyglot_notebook": {
     "kernelName": "fsharp"
    }
   },
   "outputs": [
    {
     "name": "stdout",
     "output_type": "stream",
     "text": [
      "00000000-0000-0000-00dc-ba9876543210\r\n"
     ]
    }
   ],
   "source": [
    "//// test\n",
    "\n",
    "ticksGuidFromTicks testGuid 0L\n",
    "|> _equal (TicksGuid \"00000000-0000-0000-00dc-ba9876543210\")"
   ]
  },
  {
   "cell_type": "code",
   "execution_count": null,
   "metadata": {
    "dotnet_repl_cellExecutionStartTime": "2023-07-25T16:03:19.7662582-03:00",
    "dotnet_repl_cellExecutionEndTime": "2023-07-25T16:03:19.8022374-03:00",
    "dotnet_repl_cellExecutionTime": "35.9851ms",
    "dotnet_interactive": {
     "language": "fsharp"
    },
    "polyglot_notebook": {
     "kernelName": "fsharp"
    }
   },
   "outputs": [
    {
     "name": "stdout",
     "output_type": "stream",
     "text": [
      "99999999-9999-9999-99dc-ba9876543210\r\n"
     ]
    }
   ],
   "source": [
    "//// test\n",
    "\n",
    "ticksGuidFromTicks testGuid 999999999999999999L\n",
    "|> _equal (TicksGuid $\"99999999-9999-9999-99dc-b{(testGuid |> string).[^10..]}\")"
   ]
  },
  {
   "cell_type": "markdown",
   "metadata": {
    "dotnet_repl_cellExecutionStartTime": "2023-07-25T16:03:19.8023332-03:00",
    "dotnet_repl_cellExecutionEndTime": "2023-07-25T16:03:19.805604-03:00",
    "dotnet_repl_cellExecutionTime": "3.2753ms"
   },
   "source": [
    "## ticksFromGuid"
   ]
  },
  {
   "cell_type": "code",
   "execution_count": null,
   "metadata": {
    "dotnet_repl_cellExecutionStartTime": "2023-07-25T16:03:19.8056435-03:00",
    "dotnet_repl_cellExecutionEndTime": "2023-07-25T16:03:19.8852704-03:00",
    "dotnet_repl_cellExecutionTime": "79.6336ms",
    "dotnet_interactive": {
     "language": "fsharp"
    },
    "polyglot_notebook": {
     "kernelName": "fsharp"
    }
   },
   "outputs": [],
   "source": [
    "let inline ticksFromGuid (ticksGuid: DateTimeGuid) =\n",
    "    let ticks = ticksGuid |> string\n",
    "    int64 $\"{ticks.[0..7]}{ticks.[9..12]}{ticks.[14..17]}{ticks.[19..20]}\""
   ]
  },
  {
   "cell_type": "code",
   "execution_count": null,
   "metadata": {
    "dotnet_repl_cellExecutionStartTime": "2023-07-25T16:03:19.885469-03:00",
    "dotnet_repl_cellExecutionEndTime": "2023-07-25T16:03:19.9096413-03:00",
    "dotnet_repl_cellExecutionTime": "24.1777ms",
    "dotnet_interactive": {
     "language": "fsharp"
    },
    "polyglot_notebook": {
     "kernelName": "fsharp"
    }
   },
   "outputs": [
    {
     "name": "stdout",
     "output_type": "stream",
     "text": [
      "0\r\n"
     ]
    }
   ],
   "source": [
    "//// test\n",
    "\n",
    "ticksFromGuid (TicksGuid \"00000000-0000-0000-00dc-ba9876543210\")\n",
    "|> _equal 0L"
   ]
  },
  {
   "cell_type": "code",
   "execution_count": null,
   "metadata": {
    "dotnet_repl_cellExecutionStartTime": "2023-07-25T16:03:19.9096898-03:00",
    "dotnet_repl_cellExecutionEndTime": "2023-07-25T16:03:19.9493085-03:00",
    "dotnet_repl_cellExecutionTime": "39.6235ms",
    "dotnet_interactive": {
     "language": "fsharp"
    },
    "polyglot_notebook": {
     "kernelName": "fsharp"
    }
   },
   "outputs": [
    {
     "name": "stdout",
     "output_type": "stream",
     "text": [
      "999999999999999999\r\n"
     ]
    }
   ],
   "source": [
    "//// test\n",
    "\n",
    "ticksFromGuid (TicksGuid $\"99999999-9999-9999-99{(testGuid |> string).[^14..]}\")\n",
    "|> _equal 999999999999999999L"
   ]
  },
  {
   "cell_type": "markdown",
   "metadata": {
    "dotnet_repl_cellExecutionStartTime": "2023-07-25T16:03:19.9493662-03:00",
    "dotnet_repl_cellExecutionEndTime": "2023-07-25T16:03:19.9523618-03:00",
    "dotnet_repl_cellExecutionTime": "3.0027ms"
   },
   "source": [
    "## newGuidFromDateTime"
   ]
  },
  {
   "cell_type": "code",
   "execution_count": null,
   "metadata": {
    "dotnet_repl_cellExecutionStartTime": "2023-07-25T16:03:19.9524132-03:00",
    "dotnet_repl_cellExecutionEndTime": "2023-07-25T16:03:19.9636659-03:00",
    "dotnet_repl_cellExecutionTime": "11.2589ms",
    "dotnet_interactive": {
     "language": "fsharp"
    },
    "polyglot_notebook": {
     "kernelName": "fsharp"
    }
   },
   "outputs": [],
   "source": [
    "let inline newGuidFromDateTime (dateTime: System.DateTime) =\n",
    "    let guid = System.Guid.NewGuid ()\n",
    "    dateTimeGuidFromDateTime guid dateTime"
   ]
  },
  {
   "cell_type": "code",
   "execution_count": null,
   "metadata": {
    "dotnet_repl_cellExecutionStartTime": "2023-07-25T16:03:19.9637029-03:00",
    "dotnet_repl_cellExecutionEndTime": "2023-07-25T16:03:20.04-03:00",
    "dotnet_repl_cellExecutionTime": "76.3005ms",
    "dotnet_interactive": {
     "language": "fsharp"
    },
    "polyglot_notebook": {
     "kernelName": "fsharp"
    }
   },
   "outputs": [
    {
     "name": "stdout",
     "output_type": "stream",
     "text": [
      "0\r\n"
     ]
    }
   ],
   "source": [
    "//// test\n",
    "\n",
    "newGuidFromDateTime System.DateTime.UtcNow\n",
    "|> dateTimeFromGuid\n",
    "|> fun dateTime -> (dateTime - System.DateTime.UtcNow).TotalSeconds |> int\n",
    "|> _equal 0"
   ]
  },
  {
   "cell_type": "markdown",
   "metadata": {
    "dotnet_repl_cellExecutionStartTime": "2023-07-25T16:03:20.0400339-03:00",
    "dotnet_repl_cellExecutionEndTime": "2023-07-25T16:03:20.0423762-03:00",
    "dotnet_repl_cellExecutionTime": "2.3461ms"
   },
   "source": [
    "## newGuidFromTicks"
   ]
  },
  {
   "cell_type": "code",
   "execution_count": null,
   "metadata": {
    "dotnet_repl_cellExecutionStartTime": "2023-07-25T16:03:20.0424059-03:00",
    "dotnet_repl_cellExecutionEndTime": "2023-07-25T16:03:20.0560594-03:00",
    "dotnet_repl_cellExecutionTime": "13.6591ms",
    "dotnet_interactive": {
     "language": "fsharp"
    },
    "polyglot_notebook": {
     "kernelName": "fsharp"
    }
   },
   "outputs": [],
   "source": [
    "let inline newGuidFromTicks (ticks: int64) =\n",
    "    let guid = System.Guid.NewGuid ()\n",
    "    ticksGuidFromTicks guid ticks"
   ]
  },
  {
   "cell_type": "code",
   "execution_count": null,
   "metadata": {
    "dotnet_repl_cellExecutionStartTime": "2023-07-25T16:03:20.0561009-03:00",
    "dotnet_repl_cellExecutionEndTime": "2023-07-25T16:03:20.1104645-03:00",
    "dotnet_repl_cellExecutionTime": "54.3667ms",
    "dotnet_interactive": {
     "language": "fsharp"
    },
    "polyglot_notebook": {
     "kernelName": "fsharp"
    }
   },
   "outputs": [
    {
     "name": "stdout",
     "output_type": "stream",
     "text": [
      "0\r\n"
     ]
    }
   ],
   "source": [
    "//// test\n",
    "\n",
    "newGuidFromTicks System.DateTime.UtcNow.Ticks\n",
    "|> ticksFromGuid\n",
    "|> fun ticks -> (ticks - System.DateTime.UtcNow.Ticks) / 100000L\n",
    "|> _equal 0L"
   ]
  },
  {
   "cell_type": "markdown",
   "metadata": {
    "dotnet_repl_cellExecutionStartTime": "2023-07-25T16:03:20.1105051-03:00",
    "dotnet_repl_cellExecutionEndTime": "2023-07-25T16:03:20.1126896-03:00",
    "dotnet_repl_cellExecutionTime": "2.1891ms"
   },
   "source": [
    "## trace"
   ]
  },
  {
   "cell_type": "code",
   "execution_count": null,
   "metadata": {
    "dotnet_repl_cellExecutionStartTime": "2023-07-25T16:03:20.1127274-03:00",
    "dotnet_repl_cellExecutionEndTime": "2023-07-25T16:03:20.29399-03:00",
    "dotnet_repl_cellExecutionTime": "181.2673ms",
    "dotnet_interactive": {
     "language": "fsharp"
    },
    "polyglot_notebook": {
     "kernelName": "fsharp"
    }
   },
   "outputs": [],
   "source": [
    "type TraceLevel =\n",
    "    | Verbose\n",
    "    | Debug\n",
    "    | Info\n",
    "    | Warn\n",
    "    | Error\n",
    "\n",
    "let inline getLocals () = \"\"\n",
    "\n",
    "let mutable traceEnabled = true\n",
    "let mutable traceCount = 0\n",
    "let mutable traceLevel = Verbose\n",
    "\n",
    "\n",
    "let trace level fn getLocals =\n",
    "    if traceEnabled && level >= traceLevel then\n",
    "        traceCount <- traceCount + 1\n",
    "        let time = System.DateTime.Now.ToString \"HH:mm:ss\"\n",
    "        $\"{time} #{traceCount} [{level}] {fn ()} / {getLocals ()}\"\n",
    "        |> String.trimEnd [| ' '; '/' |]\n",
    "        |> System.Console.WriteLine\n",
    "\n",
    "let withTrace enabled fn =\n",
    "    let oldTraceEnabled = traceEnabled\n",
    "    try\n",
    "        traceEnabled <- enabled\n",
    "        fn ()\n",
    "    finally\n",
    "        traceEnabled <- oldTraceEnabled\n",
    "\n",
    "let withTraceEnabled fn =\n",
    "    withTrace true fn\n",
    "\n",
    "let withTraceDisabled fn =\n",
    "    withTrace false fn\n",
    "\n",
    "let withTraceLevel level fn =\n",
    "    let oldTraceLevel = traceLevel\n",
    "    try\n",
    "        traceLevel <- level\n",
    "        fn ()\n",
    "    finally\n",
    "        traceLevel <- oldTraceLevel"
   ]
  },
  {
   "cell_type": "code",
   "execution_count": null,
   "metadata": {
    "dotnet_repl_cellExecutionStartTime": "2023-07-25T16:03:20.2940229-03:00",
    "dotnet_repl_cellExecutionEndTime": "2023-07-25T16:03:20.3284464-03:00",
    "dotnet_repl_cellExecutionTime": "34.4257ms",
    "dotnet_interactive": {
     "language": "fsharp"
    },
    "polyglot_notebook": {
     "kernelName": "fsharp"
    }
   },
   "outputs": [
    {
     "name": "stdout",
     "output_type": "stream",
     "text": [
      "16:03:20 #1 [Debug] test\r\n"
     ]
    }
   ],
   "source": [
    "//// test\n",
    "\n",
    "trace Debug (fun () -> \"test\") getLocals"
   ]
  },
  {
   "cell_type": "markdown",
   "metadata": {
    "dotnet_repl_cellExecutionStartTime": "2023-07-25T16:03:20.3284759-03:00",
    "dotnet_repl_cellExecutionEndTime": "2023-07-25T16:03:20.331075-03:00",
    "dotnet_repl_cellExecutionTime": "2.6041ms"
   },
   "source": [
    "## newDisposable"
   ]
  },
  {
   "cell_type": "code",
   "execution_count": null,
   "metadata": {
    "dotnet_repl_cellExecutionStartTime": "2023-07-25T16:03:20.3311249-03:00",
    "dotnet_repl_cellExecutionEndTime": "2023-07-25T16:03:20.3826591-03:00",
    "dotnet_repl_cellExecutionTime": "51.5403ms",
    "dotnet_interactive": {
     "language": "fsharp"
    },
    "polyglot_notebook": {
     "kernelName": "fsharp"
    }
   },
   "outputs": [],
   "source": [
    "let inline newDisposable fn =\n",
    "    { new System.IDisposable with\n",
    "        member _.Dispose () = fn ()\n",
    "    }"
   ]
  },
  {
   "cell_type": "code",
   "execution_count": null,
   "metadata": {
    "dotnet_repl_cellExecutionStartTime": "2023-07-25T16:03:20.382698-03:00",
    "dotnet_repl_cellExecutionEndTime": "2023-07-25T16:03:20.3976243-03:00",
    "dotnet_repl_cellExecutionTime": "14.936ms",
    "dotnet_interactive": {
     "language": "fsharp"
    },
    "polyglot_notebook": {
     "kernelName": "fsharp"
    }
   },
   "outputs": [
    {
     "name": "stdout",
     "output_type": "stream",
     "text": [
      "1\r\n"
     ]
    }
   ],
   "source": [
    "//// test\n",
    "\n",
    "let mutable newDisposableTest = 0\n",
    "newDisposable (fun () -> newDisposableTest <- newDisposableTest + 1)\n",
    "|> fun x -> x.Dispose ()\n",
    "newDisposableTest |> _equal 1"
   ]
  },
  {
   "cell_type": "code",
   "execution_count": null,
   "metadata": {
    "dotnet_repl_cellExecutionStartTime": "2023-07-25T16:03:20.3977038-03:00",
    "dotnet_repl_cellExecutionEndTime": "2023-07-25T16:03:20.5151815-03:00",
    "dotnet_repl_cellExecutionTime": "117.4798ms",
    "dotnet_interactive": {
     "language": "fsharp"
    },
    "polyglot_notebook": {
     "kernelName": "fsharp"
    }
   },
   "outputs": [
    {
     "name": "stdout",
     "output_type": "stream",
     "text": [
      "1\r\n"
     ]
    }
   ],
   "source": [
    "//// test\n",
    "\n",
    "let mutable newDisposableTest = 0\n",
    "fun () -> task {\n",
    "    use x = newDisposable (fun () -> newDisposableTest <- newDisposableTest + 1)\n",
    "    ()\n",
    "}\n",
    "|> fun x -> x () |> Async.AwaitTask |> Async.RunSynchronously\n",
    "newDisposableTest |> _equal 1"
   ]
  },
  {
   "cell_type": "code",
   "execution_count": null,
   "metadata": {
    "dotnet_repl_cellExecutionStartTime": "2023-07-25T16:03:20.5152131-03:00",
    "dotnet_repl_cellExecutionEndTime": "2023-07-25T16:03:20.5356034-03:00",
    "dotnet_repl_cellExecutionTime": "20.3943ms",
    "dotnet_interactive": {
     "language": "fsharp"
    },
    "polyglot_notebook": {
     "kernelName": "fsharp"
    }
   },
   "outputs": [
    {
     "name": "stdout",
     "output_type": "stream",
     "text": [
      "1\r\n"
     ]
    }
   ],
   "source": [
    "//// test\n",
    "\n",
    "let mutable newDisposableTest = 0\n",
    "async {\n",
    "    use x = newDisposable (fun () -> newDisposableTest <- newDisposableTest + 1)\n",
    "    ()\n",
    "}\n",
    "|> Async.RunSynchronously\n",
    "newDisposableTest |> _equal 1"
   ]
  },
  {
   "cell_type": "code",
   "execution_count": null,
   "metadata": {
    "dotnet_repl_cellExecutionStartTime": "2023-07-25T16:03:20.5356637-03:00",
    "dotnet_repl_cellExecutionEndTime": "2023-07-25T16:03:20.5603861-03:00",
    "dotnet_repl_cellExecutionTime": "24.7274ms",
    "dotnet_interactive": {
     "language": "fsharp"
    },
    "polyglot_notebook": {
     "kernelName": "fsharp"
    }
   },
   "outputs": [
    {
     "name": "stdout",
     "output_type": "stream",
     "text": [
      "0\r\n"
     ]
    }
   ],
   "source": [
    "//// test\n",
    "\n",
    "let mutable newDisposableTest = 0\n",
    "async {\n",
    "    let x = newDisposable (fun () -> newDisposableTest <- newDisposableTest + 1)\n",
    "    ()\n",
    "}\n",
    "|> Async.RunSynchronously\n",
    "newDisposableTest |> _equal 0"
   ]
  },
  {
   "cell_type": "markdown",
   "metadata": {
    "dotnet_repl_cellExecutionStartTime": "2023-07-25T16:03:20.5604282-03:00",
    "dotnet_repl_cellExecutionEndTime": "2023-07-25T16:03:20.5632442-03:00",
    "dotnet_repl_cellExecutionTime": "2.8218ms"
   },
   "source": [
    "## printException"
   ]
  },
  {
   "cell_type": "code",
   "execution_count": null,
   "metadata": {
    "dotnet_repl_cellExecutionStartTime": "2023-07-25T16:03:20.5632845-03:00",
    "dotnet_repl_cellExecutionEndTime": "2023-07-25T16:03:20.5727719-03:00",
    "dotnet_repl_cellExecutionTime": "9.4919ms",
    "dotnet_interactive": {
     "language": "fsharp"
    },
    "polyglot_notebook": {
     "kernelName": "fsharp"
    }
   },
   "outputs": [],
   "source": [
    "let printException (ex : System.Exception) =\n",
    "    $\"{ex.GetType ()}: {ex.Message}\""
   ]
  },
  {
   "cell_type": "code",
   "execution_count": null,
   "metadata": {
    "dotnet_repl_cellExecutionStartTime": "2023-07-25T16:03:20.5728039-03:00",
    "dotnet_repl_cellExecutionEndTime": "2023-07-25T16:03:20.6123212-03:00",
    "dotnet_repl_cellExecutionTime": "39.5223ms",
    "dotnet_interactive": {
     "language": "fsharp"
    },
    "polyglot_notebook": {
     "kernelName": "fsharp"
    }
   },
   "outputs": [
    {
     "name": "stdout",
     "output_type": "stream",
     "text": [
      "FSI_0039+it@3-4\r\n",
      "System.Exception: test\r\n"
     ]
    }
   ],
   "source": [
    "//// test\n",
    "\n",
    "fun () -> failwith \"test\"\n",
    "|> _throwsC (fun ex _ ->\n",
    "    printException ex\n",
    "    |> _equal \"System.Exception: test\"\n",
    ")"
   ]
  },
  {
   "cell_type": "markdown",
   "metadata": {
    "dotnet_repl_cellExecutionStartTime": "2023-07-25T16:03:20.6124117-03:00",
    "dotnet_repl_cellExecutionEndTime": "2023-07-25T16:03:20.6154264-03:00",
    "dotnet_repl_cellExecutionTime": "3.0206ms"
   },
   "source": [
    "## retryFn"
   ]
  },
  {
   "cell_type": "code",
   "execution_count": null,
   "metadata": {
    "dotnet_repl_cellExecutionStartTime": "2023-07-25T16:03:20.615479-03:00",
    "dotnet_repl_cellExecutionEndTime": "2023-07-25T16:03:20.6746298-03:00",
    "dotnet_repl_cellExecutionTime": "59.1555ms",
    "dotnet_interactive": {
     "language": "fsharp"
    },
    "polyglot_notebook": {
     "kernelName": "fsharp"
    }
   },
   "outputs": [],
   "source": [
    "let retryFn retries fn =\n",
    "    let rec loop retry =\n",
    "        try\n",
    "            if retry < retries\n",
    "            then fn () |> Some\n",
    "            else None\n",
    "        with ex ->\n",
    "            let getLocals () = $\"ex: {ex |> printException} / {getLocals ()}\"\n",
    "            trace Warn (fun () -> \"retryFn\") getLocals\n",
    "            System.Threading.Thread.Sleep 1\n",
    "            loop (retry + 1)\n",
    "    loop 0"
   ]
  },
  {
   "cell_type": "code",
   "execution_count": null,
   "metadata": {
    "dotnet_repl_cellExecutionStartTime": "2023-07-25T16:03:20.6746621-03:00",
    "dotnet_repl_cellExecutionEndTime": "2023-07-25T16:03:20.693053-03:00",
    "dotnet_repl_cellExecutionTime": "18.3942ms",
    "dotnet_interactive": {
     "language": "fsharp"
    },
    "polyglot_notebook": {
     "kernelName": "fsharp"
    }
   },
   "outputs": [
    {
     "name": "stdout",
     "output_type": "stream",
     "text": [
      "FSharpOption<Int32>\r\n",
      "      Value: 1\r\n"
     ]
    }
   ],
   "source": [
    "//// test\n",
    "\n",
    "let mutable retryFnTest = 0\n",
    "fun () ->\n",
    "    retryFnTest <- retryFnTest + 1\n",
    "    retryFnTest\n",
    "|> retryFn 3\n",
    "|> _equal (Some 1)"
   ]
  },
  {
   "cell_type": "code",
   "execution_count": null,
   "metadata": {
    "dotnet_repl_cellExecutionStartTime": "2023-07-25T16:03:20.6930855-03:00",
    "dotnet_repl_cellExecutionEndTime": "2023-07-25T16:03:20.7538138-03:00",
    "dotnet_repl_cellExecutionTime": "60.7301ms",
    "dotnet_interactive": {
     "language": "fsharp"
    },
    "polyglot_notebook": {
     "kernelName": "fsharp"
    }
   },
   "outputs": [
    {
     "name": "stdout",
     "output_type": "stream",
     "text": [
      "16:03:20 #2 [Warn] retryFn / ex: System.Exception: test\r\n",
      "16:03:20 #3 [Warn] retryFn / ex: System.Exception: test\r\n",
      "16:03:20 #4 [Warn] retryFn / ex: System.Exception: test\r\n",
      "<null>\r\n"
     ]
    }
   ],
   "source": [
    "//// test\n",
    "\n",
    "fun () -> failwith \"test\"\n",
    "|> retryFn 3\n",
    "|> _equal None"
   ]
  },
  {
   "cell_type": "code",
   "execution_count": null,
   "metadata": {
    "dotnet_repl_cellExecutionStartTime": "2023-07-25T16:03:20.7538427-03:00",
    "dotnet_repl_cellExecutionEndTime": "2023-07-25T16:03:20.8000335-03:00",
    "dotnet_repl_cellExecutionTime": "46.1948ms",
    "dotnet_interactive": {
     "language": "fsharp"
    },
    "polyglot_notebook": {
     "kernelName": "fsharp"
    }
   },
   "outputs": [
    {
     "name": "stdout",
     "output_type": "stream",
     "text": [
      "16:03:20 #5 [Warn] retryFn / ex: System.Exception: test\r\n",
      "16:03:20 #6 [Warn] retryFn / ex: System.Exception: test\r\n",
      "FSharpOption<Int32>\r\n",
      "      Value: 2\r\n"
     ]
    }
   ],
   "source": [
    "//// test\n",
    "\n",
    "let mutable retryFnTest = 0\n",
    "fun () ->\n",
    "    if retryFnTest >= 2\n",
    "    then retryFnTest\n",
    "    else\n",
    "        retryFnTest <- retryFnTest + 1\n",
    "        failwith \"test\"\n",
    "|> retryFn 3\n",
    "|> _equal (Some 2)"
   ]
  }
 ],
 "metadata": {
  "kernelspec": {
   "display_name": ".NET (C#)",
   "language": "C#",
   "name": ".net-csharp"
  },
  "language_info": {
   "file_extension": ".cs",
   "mimetype": "text/x-csharp",
   "name": "C#",
   "pygments_lexer": "csharp",
   "version": "10.0"
  },
  "polyglot_notebook": {
   "defaultKernelName": "csharp",
   "items": [
    {
     "name": "csharp"
    }
   ]
  },
  "dotnet_interactive": {
   "defaultKernelName": "csharp",
   "items": [
    {
     "name": "csharp"
    }
   ]
  }
 },
 "nbformat": 4,
 "nbformat_minor": 5
}