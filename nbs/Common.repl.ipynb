{
 "cells": [
  {
   "cell_type": "markdown",
   "metadata": {
    "dotnet_repl_cellExecutionStartTime": "2023-07-25T21:41:23.2026963-03:00",
    "dotnet_repl_cellExecutionEndTime": "2023-07-25T21:41:23.2573428-03:00",
    "dotnet_repl_cellExecutionTime": "54.8051ms"
   },
   "source": [
    "# Common (Polyglot)"
   ]
  },
  {
   "cell_type": "code",
   "execution_count": null,
   "metadata": {
    "dotnet_repl_cellExecutionStartTime": "2023-07-25T21:41:23.2595093-03:00",
    "dotnet_repl_cellExecutionEndTime": "2023-07-25T21:41:28.2998709-03:00",
    "dotnet_repl_cellExecutionTime": "5.0403753s",
    "dotnet_interactive": {
     "language": "fsharp"
    },
    "polyglot_notebook": {
     "kernelName": "fsharp"
    }
   },
   "outputs": [],
   "source": [
    "#!import ../nbs/Testing.dib"
   ]
  },
  {
   "cell_type": "code",
   "execution_count": null,
   "metadata": {
    "dotnet_repl_cellExecutionStartTime": "2023-07-25T21:41:28.2999406-03:00",
    "dotnet_repl_cellExecutionEndTime": "2023-07-25T21:41:28.3103041-03:00",
    "dotnet_repl_cellExecutionTime": "10.3672ms",
    "dotnet_interactive": {
     "language": "fsharp"
    },
    "polyglot_notebook": {
     "kernelName": "fsharp"
    }
   },
   "outputs": [],
   "source": [
    "let nl = System.Environment.NewLine"
   ]
  },
  {
   "cell_type": "code",
   "execution_count": null,
   "metadata": {
    "dotnet_repl_cellExecutionStartTime": "2023-07-25T21:41:28.3103373-03:00",
    "dotnet_repl_cellExecutionEndTime": "2023-07-25T21:41:28.3500286-03:00",
    "dotnet_repl_cellExecutionTime": "39.6955ms",
    "dotnet_interactive": {
     "language": "fsharp"
    },
    "polyglot_notebook": {
     "kernelName": "fsharp"
    }
   },
   "outputs": [],
   "source": [
    "let inline cons head tail = head :: tail"
   ]
  },
  {
   "cell_type": "code",
   "execution_count": null,
   "metadata": {
    "dotnet_repl_cellExecutionStartTime": "2023-07-25T21:41:28.3500752-03:00",
    "dotnet_repl_cellExecutionEndTime": "2023-07-25T21:41:28.4161871-03:00",
    "dotnet_repl_cellExecutionTime": "66.1158ms",
    "dotnet_interactive": {
     "language": "fsharp"
    },
    "polyglot_notebook": {
     "kernelName": "fsharp"
    }
   },
   "outputs": [],
   "source": [
    "module String =\n",
    "    let inline endsWith (value : string) (input : string) =\n",
    "        input.EndsWith value\n",
    "\n",
    "    let inline padLeft totalWidth paddingChar (input : string) =\n",
    "        input.PadLeft (totalWidth, paddingChar)\n",
    "\n",
    "    let inline replace (oldValue : string) (newValue : string) (input : string) =\n",
    "        input.Replace (oldValue, newValue)\n",
    "\n",
    "    let inline split separator (input : string) =\n",
    "        input.Split separator\n",
    "\n",
    "    let inline splitString (separator : string array) (input : string) =\n",
    "        input.Split (separator, System.StringSplitOptions.None)\n",
    "\n",
    "    let inline startsWith (value : string) (input : string) =\n",
    "        input.StartsWith value\n",
    "\n",
    "    let inline substring startIndex length (input : string) =\n",
    "        input.Substring (startIndex, length)\n",
    "\n",
    "    let inline trim (input : string) =\n",
    "        input.Trim ()\n",
    "    \n",
    "    let inline trimEnd (trimChars : char array) (input : string) =\n",
    "        input.TrimEnd trimChars\n",
    "\n",
    "    let inline trimStart (trimChars : char array) (input : string) =\n",
    "        input.TrimStart trimChars"
   ]
  },
  {
   "cell_type": "code",
   "execution_count": null,
   "metadata": {
    "dotnet_repl_cellExecutionStartTime": "2023-07-25T21:41:28.4162198-03:00",
    "dotnet_repl_cellExecutionEndTime": "2023-07-25T21:41:28.4420528-03:00",
    "dotnet_repl_cellExecutionTime": "25.8378ms",
    "dotnet_interactive": {
     "language": "fsharp"
    },
    "polyglot_notebook": {
     "kernelName": "fsharp"
    }
   },
   "outputs": [],
   "source": [
    "type TicksGuid = System.Guid\n",
    "type DateTimeGuid = System.Guid"
   ]
  },
  {
   "cell_type": "code",
   "execution_count": null,
   "metadata": {
    "dotnet_repl_cellExecutionStartTime": "2023-07-25T21:41:28.442102-03:00",
    "dotnet_repl_cellExecutionEndTime": "2023-07-25T21:41:28.4526777-03:00",
    "dotnet_repl_cellExecutionTime": "10.5794ms",
    "dotnet_interactive": {
     "language": "fsharp"
    },
    "polyglot_notebook": {
     "kernelName": "fsharp"
    }
   },
   "outputs": [],
   "source": [
    "//// test\n",
    "\n",
    "let testGuid = Guid \"FEDCBA98-7654-3210-FEDC-BA9876543210\""
   ]
  },
  {
   "cell_type": "markdown",
   "metadata": {
    "dotnet_repl_cellExecutionStartTime": "2023-07-25T21:41:28.4527243-03:00",
    "dotnet_repl_cellExecutionEndTime": "2023-07-25T21:41:28.4558121-03:00",
    "dotnet_repl_cellExecutionTime": "3.0935ms"
   },
   "source": [
    "## dateTimeGuidFromDateTime"
   ]
  },
  {
   "cell_type": "code",
   "execution_count": null,
   "metadata": {
    "dotnet_repl_cellExecutionStartTime": "2023-07-25T21:41:28.4558664-03:00",
    "dotnet_repl_cellExecutionEndTime": "2023-07-25T21:41:28.5148585-03:00",
    "dotnet_repl_cellExecutionTime": "58.9961ms",
    "dotnet_interactive": {
     "language": "fsharp"
    },
    "polyglot_notebook": {
     "kernelName": "fsharp"
    }
   },
   "outputs": [],
   "source": [
    "let inline dateTimeGuidFromDateTime (guid: System.Guid) (dateTime: System.DateTime) =\n",
    "    let guid = guid |> string\n",
    "    let prefix = dateTime.ToString \"yyyyMMdd-HHmm-ssff-ffff-f\"\n",
    "    DateTimeGuid $\"{prefix}{guid.[prefix.Length..]}\""
   ]
  },
  {
   "cell_type": "code",
   "execution_count": null,
   "metadata": {
    "dotnet_repl_cellExecutionStartTime": "2023-07-25T21:41:28.5149023-03:00",
    "dotnet_repl_cellExecutionEndTime": "2023-07-25T21:41:28.6010407-03:00",
    "dotnet_repl_cellExecutionTime": "86.1439ms",
    "dotnet_interactive": {
     "language": "fsharp"
    },
    "polyglot_notebook": {
     "kernelName": "fsharp"
    }
   },
   "outputs": [
    {
     "name": "stdout",
     "output_type": "stream",
     "text": [
      "00010101-0000-0000-0000-0a9876543210\r\n"
     ]
    }
   ],
   "source": [
    "//// test\n",
    "\n",
    "dateTimeGuidFromDateTime testGuid DateTime.MinValue\n",
    "|> _equal (DateTimeGuid \"00010101-0000-0000-0000-0a9876543210\")"
   ]
  },
  {
   "cell_type": "code",
   "execution_count": null,
   "metadata": {
    "dotnet_repl_cellExecutionStartTime": "2023-07-25T21:41:28.6011266-03:00",
    "dotnet_repl_cellExecutionEndTime": "2023-07-25T21:41:28.6563732-03:00",
    "dotnet_repl_cellExecutionTime": "55.2519ms",
    "dotnet_interactive": {
     "language": "fsharp"
    },
    "polyglot_notebook": {
     "kernelName": "fsharp"
    }
   },
   "outputs": [
    {
     "name": "stdout",
     "output_type": "stream",
     "text": [
      "99991231-2359-5999-9999-9a9876543210\r\n"
     ]
    }
   ],
   "source": [
    "//// test\n",
    "\n",
    "dateTimeGuidFromDateTime testGuid DateTime.MaxValue\n",
    "|> _equal (DateTimeGuid $\"99991231-2359-5999-9999-9{(testGuid |> string).[^10..]}\")"
   ]
  },
  {
   "cell_type": "code",
   "execution_count": null,
   "metadata": {
    "dotnet_repl_cellExecutionStartTime": "2023-07-25T21:41:28.6564371-03:00",
    "dotnet_repl_cellExecutionEndTime": "2023-07-25T21:41:28.6966536-03:00",
    "dotnet_repl_cellExecutionTime": "40.2195ms",
    "dotnet_interactive": {
     "language": "fsharp"
    },
    "polyglot_notebook": {
     "kernelName": "fsharp"
    }
   },
   "outputs": [
    {
     "name": "stdout",
     "output_type": "stream",
     "text": [
      "19700101-0000-0000-0000-0a9876543210\r\n"
     ]
    }
   ],
   "source": [
    "//// test\n",
    "\n",
    "dateTimeGuidFromDateTime testGuid DateTime.UnixEpoch\n",
    "|> _equal (DateTimeGuid $\"19700101-0000-0000-0000-0{(testGuid |> string).[^10..]}\")"
   ]
  },
  {
   "cell_type": "markdown",
   "metadata": {
    "dotnet_repl_cellExecutionStartTime": "2023-07-25T21:41:28.6966903-03:00",
    "dotnet_repl_cellExecutionEndTime": "2023-07-25T21:41:28.6988817-03:00",
    "dotnet_repl_cellExecutionTime": "2.1936ms"
   },
   "source": [
    "## dateTimeFromGuid"
   ]
  },
  {
   "cell_type": "code",
   "execution_count": null,
   "metadata": {
    "dotnet_repl_cellExecutionStartTime": "2023-07-25T21:41:28.6989067-03:00",
    "dotnet_repl_cellExecutionEndTime": "2023-07-25T21:41:28.7696678-03:00",
    "dotnet_repl_cellExecutionTime": "70.765ms",
    "dotnet_interactive": {
     "language": "fsharp"
    },
    "polyglot_notebook": {
     "kernelName": "fsharp"
    }
   },
   "outputs": [],
   "source": [
    "let inline dateTimeFromGuid (dateTimeGuid: DateTimeGuid) =\n",
    "    let dateTimeGuid = dateTimeGuid |> string\n",
    "    System.DateTime.ParseExact (dateTimeGuid.[..24] |> String.replace \"-\" \"\", \"yyyyMMddHHmmssfffffff\", null)"
   ]
  },
  {
   "cell_type": "code",
   "execution_count": null,
   "metadata": {
    "dotnet_repl_cellExecutionStartTime": "2023-07-25T21:41:28.7697031-03:00",
    "dotnet_repl_cellExecutionEndTime": "2023-07-25T21:41:28.8058588-03:00",
    "dotnet_repl_cellExecutionTime": "36.1588ms",
    "dotnet_interactive": {
     "language": "fsharp"
    },
    "polyglot_notebook": {
     "kernelName": "fsharp"
    }
   },
   "outputs": [
    {
     "name": "stdout",
     "output_type": "stream",
     "text": [
      "0001-01-01 00:00:00Z\r\n"
     ]
    }
   ],
   "source": [
    "//// test\n",
    "\n",
    "dateTimeFromGuid (DateTimeGuid \"00010101-0000-0000-0000-0a9876543210\")\n",
    "|> _equal DateTime.MinValue"
   ]
  },
  {
   "cell_type": "code",
   "execution_count": null,
   "metadata": {
    "dotnet_repl_cellExecutionStartTime": "2023-07-25T21:41:28.805899-03:00",
    "dotnet_repl_cellExecutionEndTime": "2023-07-25T21:41:28.8546849-03:00",
    "dotnet_repl_cellExecutionTime": "48.7892ms",
    "dotnet_interactive": {
     "language": "fsharp"
    },
    "polyglot_notebook": {
     "kernelName": "fsharp"
    }
   },
   "outputs": [
    {
     "name": "stdout",
     "output_type": "stream",
     "text": [
      "9999-12-31 23:59:59Z\r\n"
     ]
    }
   ],
   "source": [
    "//// test\n",
    "\n",
    "dateTimeFromGuid (DateTimeGuid $\"99991231-2359-5999-9999-9{(testGuid |> string).[^10..]}\")\n",
    "|> _equal DateTime.MaxValue"
   ]
  },
  {
   "cell_type": "code",
   "execution_count": null,
   "metadata": {
    "dotnet_repl_cellExecutionStartTime": "2023-07-25T21:41:28.85473-03:00",
    "dotnet_repl_cellExecutionEndTime": "2023-07-25T21:41:28.8939945-03:00",
    "dotnet_repl_cellExecutionTime": "39.2669ms",
    "dotnet_interactive": {
     "language": "fsharp"
    },
    "polyglot_notebook": {
     "kernelName": "fsharp"
    }
   },
   "outputs": [
    {
     "name": "stdout",
     "output_type": "stream",
     "text": [
      "1970-01-01 00:00:00Z\r\n"
     ]
    }
   ],
   "source": [
    "//// test\n",
    "\n",
    "dateTimeFromGuid (DateTimeGuid $\"19700101-0000-0000-0000-0{(testGuid |> string).[^10..]}\")\n",
    "|> _equal DateTime.UnixEpoch"
   ]
  },
  {
   "cell_type": "markdown",
   "metadata": {
    "dotnet_repl_cellExecutionStartTime": "2023-07-25T21:41:28.8940265-03:00",
    "dotnet_repl_cellExecutionEndTime": "2023-07-25T21:41:28.8964832-03:00",
    "dotnet_repl_cellExecutionTime": "2.4607ms"
   },
   "source": [
    "## ticksGuidFromTicks"
   ]
  },
  {
   "cell_type": "code",
   "execution_count": null,
   "metadata": {
    "dotnet_repl_cellExecutionStartTime": "2023-07-25T21:41:28.8965251-03:00",
    "dotnet_repl_cellExecutionEndTime": "2023-07-25T21:41:28.9259829-03:00",
    "dotnet_repl_cellExecutionTime": "29.4613ms",
    "dotnet_interactive": {
     "language": "fsharp"
    },
    "polyglot_notebook": {
     "kernelName": "fsharp"
    }
   },
   "outputs": [],
   "source": [
    "let inline ticksGuidFromTicks (guid: System.Guid) (ticks: int64) =\n",
    "    let guid = guid |> string\n",
    "    let ticks = ticks |> string |> String.padLeft 18 '0'\n",
    "    TicksGuid $\"{ticks.[0..7]}-{ticks.[8..11]}-{ticks.[12..15]}-{ticks.[16..17]}{guid.[21..]}\""
   ]
  },
  {
   "cell_type": "code",
   "execution_count": null,
   "metadata": {
    "dotnet_repl_cellExecutionStartTime": "2023-07-25T21:41:28.926026-03:00",
    "dotnet_repl_cellExecutionEndTime": "2023-07-25T21:41:28.972808-03:00",
    "dotnet_repl_cellExecutionTime": "46.7862ms",
    "dotnet_interactive": {
     "language": "fsharp"
    },
    "polyglot_notebook": {
     "kernelName": "fsharp"
    }
   },
   "outputs": [
    {
     "name": "stdout",
     "output_type": "stream",
     "text": [
      "00000000-0000-0000-00dc-ba9876543210\r\n"
     ]
    }
   ],
   "source": [
    "//// test\n",
    "\n",
    "ticksGuidFromTicks testGuid 0L\n",
    "|> _equal (TicksGuid \"00000000-0000-0000-00dc-ba9876543210\")"
   ]
  },
  {
   "cell_type": "code",
   "execution_count": null,
   "metadata": {
    "dotnet_repl_cellExecutionStartTime": "2023-07-25T21:41:28.9728511-03:00",
    "dotnet_repl_cellExecutionEndTime": "2023-07-25T21:41:29.023164-03:00",
    "dotnet_repl_cellExecutionTime": "50.3155ms",
    "dotnet_interactive": {
     "language": "fsharp"
    },
    "polyglot_notebook": {
     "kernelName": "fsharp"
    }
   },
   "outputs": [
    {
     "name": "stdout",
     "output_type": "stream",
     "text": [
      "99999999-9999-9999-99dc-ba9876543210\r\n"
     ]
    }
   ],
   "source": [
    "//// test\n",
    "\n",
    "ticksGuidFromTicks testGuid 999999999999999999L\n",
    "|> _equal (TicksGuid $\"99999999-9999-9999-99dc-b{(testGuid |> string).[^10..]}\")"
   ]
  },
  {
   "cell_type": "markdown",
   "metadata": {
    "dotnet_repl_cellExecutionStartTime": "2023-07-25T21:41:29.0232114-03:00",
    "dotnet_repl_cellExecutionEndTime": "2023-07-25T21:41:29.0258369-03:00",
    "dotnet_repl_cellExecutionTime": "2.6288ms"
   },
   "source": [
    "## ticksFromGuid"
   ]
  },
  {
   "cell_type": "code",
   "execution_count": null,
   "metadata": {
    "dotnet_repl_cellExecutionStartTime": "2023-07-25T21:41:29.0259069-03:00",
    "dotnet_repl_cellExecutionEndTime": "2023-07-25T21:41:29.1005206-03:00",
    "dotnet_repl_cellExecutionTime": "74.6199ms",
    "dotnet_interactive": {
     "language": "fsharp"
    },
    "polyglot_notebook": {
     "kernelName": "fsharp"
    }
   },
   "outputs": [],
   "source": [
    "let inline ticksFromGuid (ticksGuid: DateTimeGuid) =\n",
    "    let ticks = ticksGuid |> string\n",
    "    int64 $\"{ticks.[0..7]}{ticks.[9..12]}{ticks.[14..17]}{ticks.[19..20]}\""
   ]
  },
  {
   "cell_type": "code",
   "execution_count": null,
   "metadata": {
    "dotnet_repl_cellExecutionStartTime": "2023-07-25T21:41:29.1005727-03:00",
    "dotnet_repl_cellExecutionEndTime": "2023-07-25T21:41:29.1383231-03:00",
    "dotnet_repl_cellExecutionTime": "37.7532ms",
    "dotnet_interactive": {
     "language": "fsharp"
    },
    "polyglot_notebook": {
     "kernelName": "fsharp"
    }
   },
   "outputs": [
    {
     "name": "stdout",
     "output_type": "stream",
     "text": [
      "0\r\n"
     ]
    }
   ],
   "source": [
    "//// test\n",
    "\n",
    "ticksFromGuid (TicksGuid \"00000000-0000-0000-00dc-ba9876543210\")\n",
    "|> _equal 0L"
   ]
  },
  {
   "cell_type": "code",
   "execution_count": null,
   "metadata": {
    "dotnet_repl_cellExecutionStartTime": "2023-07-25T21:41:29.1383641-03:00",
    "dotnet_repl_cellExecutionEndTime": "2023-07-25T21:41:29.1856208-03:00",
    "dotnet_repl_cellExecutionTime": "47.2607ms",
    "dotnet_interactive": {
     "language": "fsharp"
    },
    "polyglot_notebook": {
     "kernelName": "fsharp"
    }
   },
   "outputs": [
    {
     "name": "stdout",
     "output_type": "stream",
     "text": [
      "999999999999999999\r\n"
     ]
    }
   ],
   "source": [
    "//// test\n",
    "\n",
    "ticksFromGuid (TicksGuid $\"99999999-9999-9999-99{(testGuid |> string).[^14..]}\")\n",
    "|> _equal 999999999999999999L"
   ]
  },
  {
   "cell_type": "markdown",
   "metadata": {
    "dotnet_repl_cellExecutionStartTime": "2023-07-25T21:41:29.1856634-03:00",
    "dotnet_repl_cellExecutionEndTime": "2023-07-25T21:41:29.1881432-03:00",
    "dotnet_repl_cellExecutionTime": "2.483ms"
   },
   "source": [
    "## newGuidFromDateTime"
   ]
  },
  {
   "cell_type": "code",
   "execution_count": null,
   "metadata": {
    "dotnet_repl_cellExecutionStartTime": "2023-07-25T21:41:29.1881716-03:00",
    "dotnet_repl_cellExecutionEndTime": "2023-07-25T21:41:29.2027621-03:00",
    "dotnet_repl_cellExecutionTime": "14.5939ms",
    "dotnet_interactive": {
     "language": "fsharp"
    },
    "polyglot_notebook": {
     "kernelName": "fsharp"
    }
   },
   "outputs": [],
   "source": [
    "let inline newGuidFromDateTime (dateTime: System.DateTime) =\n",
    "    let guid = System.Guid.NewGuid ()\n",
    "    dateTimeGuidFromDateTime guid dateTime"
   ]
  },
  {
   "cell_type": "code",
   "execution_count": null,
   "metadata": {
    "dotnet_repl_cellExecutionStartTime": "2023-07-25T21:41:29.2028042-03:00",
    "dotnet_repl_cellExecutionEndTime": "2023-07-25T21:41:29.2715515-03:00",
    "dotnet_repl_cellExecutionTime": "68.7515ms",
    "dotnet_interactive": {
     "language": "fsharp"
    },
    "polyglot_notebook": {
     "kernelName": "fsharp"
    }
   },
   "outputs": [
    {
     "name": "stdout",
     "output_type": "stream",
     "text": [
      "0\r\n"
     ]
    }
   ],
   "source": [
    "//// test\n",
    "\n",
    "newGuidFromDateTime System.DateTime.UtcNow\n",
    "|> dateTimeFromGuid\n",
    "|> fun dateTime -> (dateTime - System.DateTime.UtcNow).TotalSeconds |> int\n",
    "|> _equal 0"
   ]
  },
  {
   "cell_type": "markdown",
   "metadata": {
    "dotnet_repl_cellExecutionStartTime": "2023-07-25T21:41:29.2715921-03:00",
    "dotnet_repl_cellExecutionEndTime": "2023-07-25T21:41:29.2739373-03:00",
    "dotnet_repl_cellExecutionTime": "2.3487ms"
   },
   "source": [
    "## newGuidFromTicks"
   ]
  },
  {
   "cell_type": "code",
   "execution_count": null,
   "metadata": {
    "dotnet_repl_cellExecutionStartTime": "2023-07-25T21:41:29.2739686-03:00",
    "dotnet_repl_cellExecutionEndTime": "2023-07-25T21:41:29.2923969-03:00",
    "dotnet_repl_cellExecutionTime": "18.432ms",
    "dotnet_interactive": {
     "language": "fsharp"
    },
    "polyglot_notebook": {
     "kernelName": "fsharp"
    }
   },
   "outputs": [],
   "source": [
    "let inline newGuidFromTicks (ticks: int64) =\n",
    "    let guid = System.Guid.NewGuid ()\n",
    "    ticksGuidFromTicks guid ticks"
   ]
  },
  {
   "cell_type": "code",
   "execution_count": null,
   "metadata": {
    "dotnet_repl_cellExecutionStartTime": "2023-07-25T21:41:29.2924307-03:00",
    "dotnet_repl_cellExecutionEndTime": "2023-07-25T21:41:29.3499231-03:00",
    "dotnet_repl_cellExecutionTime": "57.4972ms",
    "dotnet_interactive": {
     "language": "fsharp"
    },
    "polyglot_notebook": {
     "kernelName": "fsharp"
    }
   },
   "outputs": [
    {
     "name": "stdout",
     "output_type": "stream",
     "text": [
      "0\r\n"
     ]
    }
   ],
   "source": [
    "//// test\n",
    "\n",
    "newGuidFromTicks System.DateTime.UtcNow.Ticks\n",
    "|> ticksFromGuid\n",
    "|> fun ticks -> (ticks - System.DateTime.UtcNow.Ticks) / 100000L\n",
    "|> _equal 0L"
   ]
  },
  {
   "cell_type": "markdown",
   "metadata": {
    "dotnet_repl_cellExecutionStartTime": "2023-07-25T21:41:29.3499903-03:00",
    "dotnet_repl_cellExecutionEndTime": "2023-07-25T21:41:29.3535216-03:00",
    "dotnet_repl_cellExecutionTime": "3.5353ms"
   },
   "source": [
    "## trace"
   ]
  },
  {
   "cell_type": "code",
   "execution_count": null,
   "metadata": {
    "dotnet_repl_cellExecutionStartTime": "2023-07-25T21:41:29.3535676-03:00",
    "dotnet_repl_cellExecutionEndTime": "2023-07-25T21:41:29.5154477-03:00",
    "dotnet_repl_cellExecutionTime": "161.8835ms",
    "dotnet_interactive": {
     "language": "fsharp"
    },
    "polyglot_notebook": {
     "kernelName": "fsharp"
    }
   },
   "outputs": [],
   "source": [
    "type TraceLevel =\n",
    "    | Verbose\n",
    "    | Debug\n",
    "    | Info\n",
    "    | Warn\n",
    "    | Error\n",
    "\n",
    "let inline getLocals () = \"\"\n",
    "\n",
    "let mutable traceEnabled = true\n",
    "let mutable traceCount = 0\n",
    "let mutable traceLevel = Verbose\n",
    "\n",
    "\n",
    "let inline trace level fn getLocals =\n",
    "    if traceEnabled && level >= traceLevel then\n",
    "        traceCount <- traceCount + 1\n",
    "        let time = System.DateTime.Now.ToString \"HH:mm:ss\"\n",
    "        $\"{time} #{traceCount} [{level}] {fn ()} / {getLocals ()}\"\n",
    "        |> String.trimEnd [| ' '; '/' |]\n",
    "        |> System.Console.WriteLine\n",
    "\n",
    "let inline withTrace enabled fn =\n",
    "    let oldTraceEnabled = traceEnabled\n",
    "    try\n",
    "        traceEnabled <- enabled\n",
    "        fn ()\n",
    "    finally\n",
    "        traceEnabled <- oldTraceEnabled\n",
    "\n",
    "let inline withTraceEnabled fn =\n",
    "    withTrace true fn\n",
    "\n",
    "let inline withTraceDisabled fn =\n",
    "    withTrace false fn\n",
    "\n",
    "let inline withTraceLevel level fn =\n",
    "    let oldTraceLevel = traceLevel\n",
    "    try\n",
    "        traceLevel <- level\n",
    "        fn ()\n",
    "    finally\n",
    "        traceLevel <- oldTraceLevel"
   ]
  },
  {
   "cell_type": "code",
   "execution_count": null,
   "metadata": {
    "dotnet_repl_cellExecutionStartTime": "2023-07-25T21:41:29.5154897-03:00",
    "dotnet_repl_cellExecutionEndTime": "2023-07-25T21:41:29.5478594-03:00",
    "dotnet_repl_cellExecutionTime": "32.3741ms",
    "dotnet_interactive": {
     "language": "fsharp"
    },
    "polyglot_notebook": {
     "kernelName": "fsharp"
    }
   },
   "outputs": [
    {
     "name": "stdout",
     "output_type": "stream",
     "text": [
      "21:41:29 #1 [Debug] test\r\n"
     ]
    }
   ],
   "source": [
    "//// test\n",
    "\n",
    "trace Debug (fun () -> \"test\") getLocals"
   ]
  },
  {
   "cell_type": "markdown",
   "metadata": {
    "dotnet_repl_cellExecutionStartTime": "2023-07-25T21:41:29.5479462-03:00",
    "dotnet_repl_cellExecutionEndTime": "2023-07-25T21:41:29.5517969-03:00",
    "dotnet_repl_cellExecutionTime": "3.8553ms"
   },
   "source": [
    "## newDisposable"
   ]
  },
  {
   "cell_type": "code",
   "execution_count": null,
   "metadata": {
    "dotnet_repl_cellExecutionStartTime": "2023-07-25T21:41:29.5518319-03:00",
    "dotnet_repl_cellExecutionEndTime": "2023-07-25T21:41:29.6041428-03:00",
    "dotnet_repl_cellExecutionTime": "52.3147ms",
    "dotnet_interactive": {
     "language": "fsharp"
    },
    "polyglot_notebook": {
     "kernelName": "fsharp"
    }
   },
   "outputs": [],
   "source": [
    "let inline newDisposable fn =\n",
    "    { new System.IDisposable with\n",
    "        member _.Dispose () = fn ()\n",
    "    }"
   ]
  },
  {
   "cell_type": "code",
   "execution_count": null,
   "metadata": {
    "dotnet_repl_cellExecutionStartTime": "2023-07-25T21:41:29.6041756-03:00",
    "dotnet_repl_cellExecutionEndTime": "2023-07-25T21:41:29.6323684-03:00",
    "dotnet_repl_cellExecutionTime": "28.1961ms",
    "dotnet_interactive": {
     "language": "fsharp"
    },
    "polyglot_notebook": {
     "kernelName": "fsharp"
    }
   },
   "outputs": [
    {
     "name": "stdout",
     "output_type": "stream",
     "text": [
      "1\r\n"
     ]
    }
   ],
   "source": [
    "//// test\n",
    "\n",
    "let mutable newDisposableTest = 0\n",
    "newDisposable (fun () -> newDisposableTest <- newDisposableTest + 1)\n",
    "|> fun x -> x.Dispose ()\n",
    "newDisposableTest |> _equal 1"
   ]
  },
  {
   "cell_type": "code",
   "execution_count": null,
   "metadata": {
    "dotnet_repl_cellExecutionStartTime": "2023-07-25T21:41:29.632408-03:00",
    "dotnet_repl_cellExecutionEndTime": "2023-07-25T21:41:29.7734336-03:00",
    "dotnet_repl_cellExecutionTime": "141.0281ms",
    "dotnet_interactive": {
     "language": "fsharp"
    },
    "polyglot_notebook": {
     "kernelName": "fsharp"
    }
   },
   "outputs": [
    {
     "name": "stdout",
     "output_type": "stream",
     "text": [
      "1\r\n"
     ]
    }
   ],
   "source": [
    "//// test\n",
    "\n",
    "let mutable newDisposableTest = 0\n",
    "fun () -> task {\n",
    "    use x = newDisposable (fun () -> newDisposableTest <- newDisposableTest + 1)\n",
    "    ()\n",
    "}\n",
    "|> fun x -> x () |> Async.AwaitTask |> Async.RunSynchronously\n",
    "newDisposableTest |> _equal 1"
   ]
  },
  {
   "cell_type": "code",
   "execution_count": null,
   "metadata": {
    "dotnet_repl_cellExecutionStartTime": "2023-07-25T21:41:29.7734657-03:00",
    "dotnet_repl_cellExecutionEndTime": "2023-07-25T21:41:29.8099859-03:00",
    "dotnet_repl_cellExecutionTime": "36.5234ms",
    "dotnet_interactive": {
     "language": "fsharp"
    },
    "polyglot_notebook": {
     "kernelName": "fsharp"
    }
   },
   "outputs": [
    {
     "name": "stdout",
     "output_type": "stream",
     "text": [
      "1\r\n"
     ]
    }
   ],
   "source": [
    "//// test\n",
    "\n",
    "let mutable newDisposableTest = 0\n",
    "async {\n",
    "    use x = newDisposable (fun () -> newDisposableTest <- newDisposableTest + 1)\n",
    "    ()\n",
    "}\n",
    "|> Async.RunSynchronously\n",
    "newDisposableTest |> _equal 1"
   ]
  },
  {
   "cell_type": "code",
   "execution_count": null,
   "metadata": {
    "dotnet_repl_cellExecutionStartTime": "2023-07-25T21:41:29.8100201-03:00",
    "dotnet_repl_cellExecutionEndTime": "2023-07-25T21:41:29.9147024-03:00",
    "dotnet_repl_cellExecutionTime": "104.6874ms",
    "dotnet_interactive": {
     "language": "fsharp"
    },
    "polyglot_notebook": {
     "kernelName": "fsharp"
    }
   },
   "outputs": [
    {
     "name": "stdout",
     "output_type": "stream",
     "text": [
      "0\r\n"
     ]
    }
   ],
   "source": [
    "//// test\n",
    "\n",
    "let mutable newDisposableTest = 0\n",
    "async {\n",
    "    let x = newDisposable (fun () -> newDisposableTest <- newDisposableTest + 1)\n",
    "    ()\n",
    "}\n",
    "|> Async.RunSynchronously\n",
    "newDisposableTest |> _equal 0"
   ]
  },
  {
   "cell_type": "markdown",
   "metadata": {
    "dotnet_repl_cellExecutionStartTime": "2023-07-25T21:41:29.9147593-03:00",
    "dotnet_repl_cellExecutionEndTime": "2023-07-25T21:41:29.9176349-03:00",
    "dotnet_repl_cellExecutionTime": "2.8814ms"
   },
   "source": [
    "## printException"
   ]
  },
  {
   "cell_type": "code",
   "execution_count": null,
   "metadata": {
    "dotnet_repl_cellExecutionStartTime": "2023-07-25T21:41:29.917682-03:00",
    "dotnet_repl_cellExecutionEndTime": "2023-07-25T21:41:29.9270272-03:00",
    "dotnet_repl_cellExecutionTime": "9.3494ms",
    "dotnet_interactive": {
     "language": "fsharp"
    },
    "polyglot_notebook": {
     "kernelName": "fsharp"
    }
   },
   "outputs": [],
   "source": [
    "let inline printException (ex : System.Exception) =\n",
    "    $\"{ex.GetType ()}: {ex.Message}\""
   ]
  },
  {
   "cell_type": "code",
   "execution_count": null,
   "metadata": {
    "dotnet_repl_cellExecutionStartTime": "2023-07-25T21:41:29.927064-03:00",
    "dotnet_repl_cellExecutionEndTime": "2023-07-25T21:41:29.9948419-03:00",
    "dotnet_repl_cellExecutionTime": "67.7803ms",
    "dotnet_interactive": {
     "language": "fsharp"
    },
    "polyglot_notebook": {
     "kernelName": "fsharp"
    }
   },
   "outputs": [
    {
     "name": "stdout",
     "output_type": "stream",
     "text": [
      "FSI_0039+it@3-1\r\n",
      "System.Exception: test\r\n"
     ]
    }
   ],
   "source": [
    "//// test\n",
    "\n",
    "fun () -> failwith \"test\"\n",
    "|> _throwsC (fun ex _ ->\n",
    "    printException ex\n",
    "    |> _equal \"System.Exception: test\"\n",
    ")"
   ]
  },
  {
   "cell_type": "markdown",
   "metadata": {
    "dotnet_repl_cellExecutionStartTime": "2023-07-25T21:41:29.9948752-03:00",
    "dotnet_repl_cellExecutionEndTime": "2023-07-25T21:41:29.9970583-03:00",
    "dotnet_repl_cellExecutionTime": "2.1893ms"
   },
   "source": [
    "## retryFn"
   ]
  },
  {
   "cell_type": "code",
   "execution_count": null,
   "metadata": {
    "dotnet_repl_cellExecutionStartTime": "2023-07-25T21:41:29.9971287-03:00",
    "dotnet_repl_cellExecutionEndTime": "2023-07-25T21:41:30.0611176-03:00",
    "dotnet_repl_cellExecutionTime": "63.9926ms",
    "dotnet_interactive": {
     "language": "fsharp"
    },
    "polyglot_notebook": {
     "kernelName": "fsharp"
    }
   },
   "outputs": [],
   "source": [
    "let inline retryFn retries fn =\n",
    "    let rec loop retry =\n",
    "        try\n",
    "            if retry < retries\n",
    "            then fn () |> Some\n",
    "            else None\n",
    "        with ex ->\n",
    "            let getLocals () = $\"retry: {retry} / ex: {ex |> printException} / {getLocals ()}\"\n",
    "            trace Warn (fun () -> \"retryFn\") getLocals\n",
    "            System.Threading.Thread.Sleep 1\n",
    "            loop (retry + 1)\n",
    "    loop 0"
   ]
  },
  {
   "cell_type": "code",
   "execution_count": null,
   "metadata": {
    "dotnet_repl_cellExecutionStartTime": "2023-07-25T21:41:30.0611517-03:00",
    "dotnet_repl_cellExecutionEndTime": "2023-07-25T21:41:30.1059368-03:00",
    "dotnet_repl_cellExecutionTime": "44.7866ms",
    "dotnet_interactive": {
     "language": "fsharp"
    },
    "polyglot_notebook": {
     "kernelName": "fsharp"
    }
   },
   "outputs": [
    {
     "name": "stdout",
     "output_type": "stream",
     "text": [
      "FSharpOption<Int32>\r\n",
      "      Value: 1\r\n"
     ]
    }
   ],
   "source": [
    "//// test\n",
    "\n",
    "let mutable retryFnTest = 0\n",
    "fun () ->\n",
    "    retryFnTest <- retryFnTest + 1\n",
    "    retryFnTest\n",
    "|> retryFn 3\n",
    "|> _equal (Some 1)"
   ]
  },
  {
   "cell_type": "code",
   "execution_count": null,
   "metadata": {
    "dotnet_repl_cellExecutionStartTime": "2023-07-25T21:41:30.1059843-03:00",
    "dotnet_repl_cellExecutionEndTime": "2023-07-25T21:41:30.1868263-03:00",
    "dotnet_repl_cellExecutionTime": "80.844ms",
    "dotnet_interactive": {
     "language": "fsharp"
    },
    "polyglot_notebook": {
     "kernelName": "fsharp"
    }
   },
   "outputs": [
    {
     "name": "stdout",
     "output_type": "stream",
     "text": [
      "21:41:30 #2 [Warn] retryFn / retry: 0 / ex: System.Exception: test\r\n",
      "21:41:30 #3 [Warn] retryFn / retry: 1 / ex: System.Exception: test\r\n",
      "21:41:30 #4 [Warn] retryFn / retry: 2 / ex: System.Exception: test\r\n",
      "<null>\r\n"
     ]
    }
   ],
   "source": [
    "//// test\n",
    "\n",
    "fun () -> failwith \"test\"\n",
    "|> retryFn 3\n",
    "|> _equal None"
   ]
  },
  {
   "cell_type": "code",
   "execution_count": null,
   "metadata": {
    "dotnet_repl_cellExecutionStartTime": "2023-07-25T21:41:30.1868557-03:00",
    "dotnet_repl_cellExecutionEndTime": "2023-07-25T21:41:30.2468502-03:00",
    "dotnet_repl_cellExecutionTime": "60.0002ms",
    "dotnet_interactive": {
     "language": "fsharp"
    },
    "polyglot_notebook": {
     "kernelName": "fsharp"
    }
   },
   "outputs": [
    {
     "name": "stdout",
     "output_type": "stream",
     "text": [
      "21:41:30 #5 [Warn] retryFn / retry: 0 / ex: System.Exception: test\r\n",
      "21:41:30 #6 [Warn] retryFn / retry: 1 / ex: System.Exception: test\r\n",
      "FSharpOption<Int32>\r\n",
      "      Value: 2\r\n"
     ]
    }
   ],
   "source": [
    "//// test\n",
    "\n",
    "let mutable retryFnTest = 0\n",
    "fun () ->\n",
    "    if retryFnTest >= 2\n",
    "    then retryFnTest\n",
    "    else\n",
    "        retryFnTest <- retryFnTest + 1\n",
    "        failwith \"test\"\n",
    "|> retryFn 3\n",
    "|> _equal (Some 2)"
   ]
  }
 ],
 "metadata": {
  "kernelspec": {
   "display_name": ".NET (C#)",
   "language": "C#",
   "name": ".net-csharp"
  },
  "language_info": {
   "file_extension": ".cs",
   "mimetype": "text/x-csharp",
   "name": "C#",
   "pygments_lexer": "csharp",
   "version": "10.0"
  },
  "polyglot_notebook": {
   "defaultKernelName": "csharp",
   "items": [
    {
     "name": "csharp"
    }
   ]
  },
  "dotnet_interactive": {
   "defaultKernelName": "csharp",
   "items": [
    {
     "name": "csharp"
    }
   ]
  }
 },
 "nbformat": 4,
 "nbformat_minor": 5
}