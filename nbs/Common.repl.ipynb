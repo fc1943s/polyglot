{
 "cells": [
  {
   "cell_type": "markdown",
   "metadata": {
    "dotnet_repl_cellExecutionStartTime": "2023-07-21T16:14:42.0095425-03:00",
    "dotnet_repl_cellExecutionEndTime": "2023-07-21T16:14:42.0893415-03:00",
    "dotnet_repl_cellExecutionTime": "79.9987ms"
   },
   "source": [
    "# Common (Polyglot)"
   ]
  },
  {
   "cell_type": "code",
   "execution_count": null,
   "metadata": {
    "dotnet_repl_cellExecutionStartTime": "2023-07-21T16:14:42.0923117-03:00",
    "dotnet_repl_cellExecutionEndTime": "2023-07-21T16:14:54.7567257-03:00",
    "dotnet_repl_cellExecutionTime": "12.6644161s",
    "dotnet_interactive": {
     "language": "fsharp"
    },
    "polyglot_notebook": {
     "kernelName": "fsharp"
    }
   },
   "outputs": [
    {
     "data": {
      "text/html": [
       "<div><div></div><div><strong>Installing Packages</strong><ul><li><span>Expecto</span></li></ul></div><div></div></div>"
      ]
     },
     "metadata": {},
     "output_type": "display_data"
    },
    {
     "data": {
      "text/html": [
       "<div><div></div><div><strong>Installing Packages</strong><ul><li><span>Expecto.</span></li></ul></div><div></div></div>"
      ]
     },
     "metadata": {},
     "output_type": "display_data"
    },
    {
     "data": {
      "text/html": [
       "<div><div></div><div><strong>Installing Packages</strong><ul><li><span>Expecto..</span></li></ul></div><div></div></div>"
      ]
     },
     "metadata": {},
     "output_type": "display_data"
    },
    {
     "data": {
      "text/html": [
       "<div><div></div><div><strong>Installing Packages</strong><ul><li><span>Expecto...</span></li></ul></div><div></div></div>"
      ]
     },
     "metadata": {},
     "output_type": "display_data"
    },
    {
     "data": {
      "text/html": [
       "<div><div></div><div><strong>Installing Packages</strong><ul><li><span>Expecto....</span></li></ul></div><div></div></div>"
      ]
     },
     "metadata": {},
     "output_type": "display_data"
    },
    {
     "data": {
      "text/html": [
       "<div><div></div><div><strong>Installing Packages</strong><ul><li><span>Expecto.....</span></li></ul></div><div></div></div>"
      ]
     },
     "metadata": {},
     "output_type": "display_data"
    },
    {
     "data": {
      "text/html": [
       "<div><div></div><div><strong>Installing Packages</strong><ul><li><span>Expecto......</span></li></ul></div><div></div></div>"
      ]
     },
     "metadata": {},
     "output_type": "display_data"
    },
    {
     "data": {
      "text/html": [
       "<div><div></div><div><strong>Installing Packages</strong><ul><li><span>Expecto.......</span></li></ul></div><div></div></div>"
      ]
     },
     "metadata": {},
     "output_type": "display_data"
    },
    {
     "data": {
      "text/html": [
       "<div><div></div><div><strong>Installing Packages</strong><ul><li><span>Expecto........</span></li></ul></div><div></div></div>"
      ]
     },
     "metadata": {},
     "output_type": "display_data"
    },
    {
     "data": {
      "text/html": [
       "<div><div></div><div><strong>Installing Packages</strong><ul><li><span>Expecto.........</span></li></ul></div><div></div></div>"
      ]
     },
     "metadata": {},
     "output_type": "display_data"
    },
    {
     "data": {
      "text/html": [
       "<div><div></div><div></div><div><strong>Installed Packages</strong><ul><li><span>Expecto, 10.1.0</span></li></ul></div></div>"
      ]
     },
     "metadata": {},
     "output_type": "display_data"
    }
   ],
   "source": [
    "#!import ../nbs/Testing.dib"
   ]
  },
  {
   "cell_type": "code",
   "execution_count": null,
   "metadata": {
    "dotnet_repl_cellExecutionStartTime": "2023-07-21T16:14:54.7568381-03:00",
    "dotnet_repl_cellExecutionEndTime": "2023-07-21T16:14:54.7683526-03:00",
    "dotnet_repl_cellExecutionTime": "11.5171ms",
    "dotnet_interactive": {
     "language": "fsharp"
    },
    "polyglot_notebook": {
     "kernelName": "fsharp"
    }
   },
   "outputs": [],
   "source": [
    "let nl = System.Environment.NewLine"
   ]
  },
  {
   "cell_type": "code",
   "execution_count": null,
   "metadata": {
    "dotnet_repl_cellExecutionStartTime": "2023-07-21T16:14:54.768398-03:00",
    "dotnet_repl_cellExecutionEndTime": "2023-07-21T16:14:54.8217647-03:00",
    "dotnet_repl_cellExecutionTime": "53.3692ms",
    "dotnet_interactive": {
     "language": "fsharp"
    },
    "polyglot_notebook": {
     "kernelName": "fsharp"
    }
   },
   "outputs": [],
   "source": [
    "let cons head tail = head :: tail"
   ]
  },
  {
   "cell_type": "code",
   "execution_count": null,
   "metadata": {
    "dotnet_repl_cellExecutionStartTime": "2023-07-21T16:14:54.8218124-03:00",
    "dotnet_repl_cellExecutionEndTime": "2023-07-21T16:14:54.9097396-03:00",
    "dotnet_repl_cellExecutionTime": "87.9295ms",
    "dotnet_interactive": {
     "language": "fsharp"
    },
    "polyglot_notebook": {
     "kernelName": "fsharp"
    }
   },
   "outputs": [],
   "source": [
    "module String =\n",
    "    let endsWith (value : string) (input : string) =\n",
    "        input.EndsWith value\n",
    "\n",
    "    let padLeft totalWidth paddingChar (input : string) =\n",
    "        input.PadLeft (totalWidth, paddingChar)\n",
    "\n",
    "    let replace (oldValue : string) (newValue : string) (input : string) =\n",
    "        input.Replace (oldValue, newValue)\n",
    "\n",
    "    let split separator (input : string) =\n",
    "        input.Split separator\n",
    "\n",
    "    let splitString (separator : string array) (input : string) =\n",
    "        input.Split (separator, System.StringSplitOptions.None)\n",
    "\n",
    "    let startsWith (value : string) (input : string) =\n",
    "        input.StartsWith value\n",
    "\n",
    "    let trim (input : string) =\n",
    "        input.Trim ()\n",
    "    \n",
    "    let trimEnd (trimChars : char array) (input : string) =\n",
    "        input.TrimEnd trimChars\n",
    "\n",
    "    let trimStart (trimChars : char array) (input : string) =\n",
    "        input.TrimStart trimChars"
   ]
  },
  {
   "cell_type": "code",
   "execution_count": null,
   "metadata": {
    "dotnet_repl_cellExecutionStartTime": "2023-07-21T16:14:54.9097839-03:00",
    "dotnet_repl_cellExecutionEndTime": "2023-07-21T16:14:54.9350262-03:00",
    "dotnet_repl_cellExecutionTime": "25.2453ms",
    "dotnet_interactive": {
     "language": "fsharp"
    },
    "polyglot_notebook": {
     "kernelName": "fsharp"
    }
   },
   "outputs": [],
   "source": [
    "type TicksGuid = System.Guid\n",
    "type DateTimeGuid = System.Guid"
   ]
  },
  {
   "cell_type": "code",
   "execution_count": null,
   "metadata": {
    "dotnet_repl_cellExecutionStartTime": "2023-07-21T16:14:54.9350735-03:00",
    "dotnet_repl_cellExecutionEndTime": "2023-07-21T16:14:54.9439695-03:00",
    "dotnet_repl_cellExecutionTime": "8.8985ms",
    "dotnet_interactive": {
     "language": "fsharp"
    },
    "polyglot_notebook": {
     "kernelName": "fsharp"
    }
   },
   "outputs": [],
   "source": [
    "//// test\n",
    "\n",
    "let testGuid = Guid \"FEDCBA98-7654-3210-FEDC-BA9876543210\""
   ]
  },
  {
   "cell_type": "markdown",
   "metadata": {
    "dotnet_repl_cellExecutionStartTime": "2023-07-21T16:14:54.9440119-03:00",
    "dotnet_repl_cellExecutionEndTime": "2023-07-21T16:14:54.9460158-03:00",
    "dotnet_repl_cellExecutionTime": "2.0062ms"
   },
   "source": [
    "## dateTimeGuidFromDateTime"
   ]
  },
  {
   "cell_type": "code",
   "execution_count": null,
   "metadata": {
    "dotnet_repl_cellExecutionStartTime": "2023-07-21T16:14:54.9460514-03:00",
    "dotnet_repl_cellExecutionEndTime": "2023-07-21T16:14:55.036945-03:00",
    "dotnet_repl_cellExecutionTime": "90.8954ms",
    "dotnet_interactive": {
     "language": "fsharp"
    },
    "polyglot_notebook": {
     "kernelName": "fsharp"
    }
   },
   "outputs": [],
   "source": [
    "let inline dateTimeGuidFromDateTime (guid: System.Guid) (dateTime: System.DateTime) =\n",
    "    let guid = guid |> string\n",
    "    let prefix = dateTime.ToString \"yyyyMMdd-HHmm-ssff-ffff-f\"\n",
    "    DateTimeGuid $\"{prefix}{guid.[prefix.Length..]}\""
   ]
  },
  {
   "cell_type": "code",
   "execution_count": null,
   "metadata": {
    "dotnet_repl_cellExecutionStartTime": "2023-07-21T16:14:55.0369792-03:00",
    "dotnet_repl_cellExecutionEndTime": "2023-07-21T16:14:55.1231686-03:00",
    "dotnet_repl_cellExecutionTime": "86.1916ms",
    "dotnet_interactive": {
     "language": "fsharp"
    },
    "polyglot_notebook": {
     "kernelName": "fsharp"
    }
   },
   "outputs": [
    {
     "name": "stdout",
     "output_type": "stream",
     "text": [
      "00010101-0000-0000-0000-0a9876543210\r\n"
     ]
    }
   ],
   "source": [
    "//// test\n",
    "\n",
    "dateTimeGuidFromDateTime testGuid DateTime.MinValue\n",
    "|> _equal (DateTimeGuid \"00010101-0000-0000-0000-0a9876543210\")"
   ]
  },
  {
   "cell_type": "code",
   "execution_count": null,
   "metadata": {
    "dotnet_repl_cellExecutionStartTime": "2023-07-21T16:14:55.1232245-03:00",
    "dotnet_repl_cellExecutionEndTime": "2023-07-21T16:14:55.1768715-03:00",
    "dotnet_repl_cellExecutionTime": "53.6489ms",
    "dotnet_interactive": {
     "language": "fsharp"
    },
    "polyglot_notebook": {
     "kernelName": "fsharp"
    }
   },
   "outputs": [
    {
     "name": "stdout",
     "output_type": "stream",
     "text": [
      "99991231-2359-5999-9999-9a9876543210\r\n"
     ]
    }
   ],
   "source": [
    "//// test\n",
    "\n",
    "dateTimeGuidFromDateTime testGuid DateTime.MaxValue\n",
    "|> _equal (DateTimeGuid $\"99991231-2359-5999-9999-9{(testGuid |> string).[^10..]}\")"
   ]
  },
  {
   "cell_type": "code",
   "execution_count": null,
   "metadata": {
    "dotnet_repl_cellExecutionStartTime": "2023-07-21T16:14:55.1769155-03:00",
    "dotnet_repl_cellExecutionEndTime": "2023-07-21T16:14:55.2235002-03:00",
    "dotnet_repl_cellExecutionTime": "46.5862ms",
    "dotnet_interactive": {
     "language": "fsharp"
    },
    "polyglot_notebook": {
     "kernelName": "fsharp"
    }
   },
   "outputs": [
    {
     "name": "stdout",
     "output_type": "stream",
     "text": [
      "19700101-0000-0000-0000-0a9876543210\r\n"
     ]
    }
   ],
   "source": [
    "//// test\n",
    "\n",
    "dateTimeGuidFromDateTime testGuid DateTime.UnixEpoch\n",
    "|> _equal (DateTimeGuid $\"19700101-0000-0000-0000-0{(testGuid |> string).[^10..]}\")"
   ]
  },
  {
   "cell_type": "markdown",
   "metadata": {
    "dotnet_repl_cellExecutionStartTime": "2023-07-21T16:14:55.2235392-03:00",
    "dotnet_repl_cellExecutionEndTime": "2023-07-21T16:14:55.2253772-03:00",
    "dotnet_repl_cellExecutionTime": "1.8395ms"
   },
   "source": [
    "## dateTimeFromGuid"
   ]
  },
  {
   "cell_type": "code",
   "execution_count": null,
   "metadata": {
    "dotnet_repl_cellExecutionStartTime": "2023-07-21T16:14:55.2254088-03:00",
    "dotnet_repl_cellExecutionEndTime": "2023-07-21T16:14:55.324572-03:00",
    "dotnet_repl_cellExecutionTime": "99.1656ms",
    "dotnet_interactive": {
     "language": "fsharp"
    },
    "polyglot_notebook": {
     "kernelName": "fsharp"
    }
   },
   "outputs": [],
   "source": [
    "let inline dateTimeFromGuid (dateTimeGuid: DateTimeGuid) =\n",
    "    let dateTimeGuid = dateTimeGuid |> string\n",
    "    System.DateTime.ParseExact (dateTimeGuid.[..24] |> String.replace \"-\" \"\", \"yyyyMMddHHmmssfffffff\", null)"
   ]
  },
  {
   "cell_type": "code",
   "execution_count": null,
   "metadata": {
    "dotnet_repl_cellExecutionStartTime": "2023-07-21T16:14:55.3246163-03:00",
    "dotnet_repl_cellExecutionEndTime": "2023-07-21T16:14:55.3605266-03:00",
    "dotnet_repl_cellExecutionTime": "35.9127ms",
    "dotnet_interactive": {
     "language": "fsharp"
    },
    "polyglot_notebook": {
     "kernelName": "fsharp"
    }
   },
   "outputs": [
    {
     "name": "stdout",
     "output_type": "stream",
     "text": [
      "0001-01-01 00:00:00Z\r\n"
     ]
    }
   ],
   "source": [
    "//// test\n",
    "\n",
    "dateTimeFromGuid (DateTimeGuid \"00010101-0000-0000-0000-0a9876543210\")\n",
    "|> _equal DateTime.MinValue"
   ]
  },
  {
   "cell_type": "code",
   "execution_count": null,
   "metadata": {
    "dotnet_repl_cellExecutionStartTime": "2023-07-21T16:14:55.3605948-03:00",
    "dotnet_repl_cellExecutionEndTime": "2023-07-21T16:14:55.4216408-03:00",
    "dotnet_repl_cellExecutionTime": "61.0489ms",
    "dotnet_interactive": {
     "language": "fsharp"
    },
    "polyglot_notebook": {
     "kernelName": "fsharp"
    }
   },
   "outputs": [
    {
     "name": "stdout",
     "output_type": "stream",
     "text": [
      "9999-12-31 23:59:59Z\r\n"
     ]
    }
   ],
   "source": [
    "//// test\n",
    "\n",
    "dateTimeFromGuid (DateTimeGuid $\"99991231-2359-5999-9999-9{(testGuid |> string).[^10..]}\")\n",
    "|> _equal DateTime.MaxValue"
   ]
  },
  {
   "cell_type": "code",
   "execution_count": null,
   "metadata": {
    "dotnet_repl_cellExecutionStartTime": "2023-07-21T16:14:55.4217079-03:00",
    "dotnet_repl_cellExecutionEndTime": "2023-07-21T16:14:55.4750744-03:00",
    "dotnet_repl_cellExecutionTime": "53.3687ms",
    "dotnet_interactive": {
     "language": "fsharp"
    },
    "polyglot_notebook": {
     "kernelName": "fsharp"
    }
   },
   "outputs": [
    {
     "name": "stdout",
     "output_type": "stream",
     "text": [
      "1970-01-01 00:00:00Z\r\n"
     ]
    }
   ],
   "source": [
    "//// test\n",
    "\n",
    "dateTimeFromGuid (DateTimeGuid $\"19700101-0000-0000-0000-0{(testGuid |> string).[^10..]}\")\n",
    "|> _equal DateTime.UnixEpoch"
   ]
  },
  {
   "cell_type": "markdown",
   "metadata": {
    "dotnet_repl_cellExecutionStartTime": "2023-07-21T16:14:55.4751206-03:00",
    "dotnet_repl_cellExecutionEndTime": "2023-07-21T16:14:55.4774405-03:00",
    "dotnet_repl_cellExecutionTime": "2.3219ms"
   },
   "source": [
    "## ticksGuidFromTicks"
   ]
  },
  {
   "cell_type": "code",
   "execution_count": null,
   "metadata": {
    "dotnet_repl_cellExecutionStartTime": "2023-07-21T16:14:55.4774834-03:00",
    "dotnet_repl_cellExecutionEndTime": "2023-07-21T16:14:55.5229161-03:00",
    "dotnet_repl_cellExecutionTime": "45.4347ms",
    "dotnet_interactive": {
     "language": "fsharp"
    },
    "polyglot_notebook": {
     "kernelName": "fsharp"
    }
   },
   "outputs": [],
   "source": [
    "let inline ticksGuidFromTicks (guid: System.Guid) (ticks: int64) =\n",
    "    let guid = guid |> string\n",
    "    let ticks = ticks |> string |> String.padLeft 18 '0'\n",
    "    TicksGuid $\"{ticks.[0..7]}-{ticks.[8..11]}-{ticks.[12..15]}-{ticks.[16..17]}{guid.[21..]}\""
   ]
  },
  {
   "cell_type": "code",
   "execution_count": null,
   "metadata": {
    "dotnet_repl_cellExecutionStartTime": "2023-07-21T16:14:55.5229592-03:00",
    "dotnet_repl_cellExecutionEndTime": "2023-07-21T16:14:55.5781553-03:00",
    "dotnet_repl_cellExecutionTime": "55.1977ms",
    "dotnet_interactive": {
     "language": "fsharp"
    },
    "polyglot_notebook": {
     "kernelName": "fsharp"
    }
   },
   "outputs": [
    {
     "name": "stdout",
     "output_type": "stream",
     "text": [
      "00000000-0000-0000-00dc-ba9876543210\r\n"
     ]
    }
   ],
   "source": [
    "//// test\n",
    "\n",
    "ticksGuidFromTicks testGuid 0L\n",
    "|> _equal (TicksGuid \"00000000-0000-0000-00dc-ba9876543210\")"
   ]
  },
  {
   "cell_type": "code",
   "execution_count": null,
   "metadata": {
    "dotnet_repl_cellExecutionStartTime": "2023-07-21T16:14:55.5781947-03:00",
    "dotnet_repl_cellExecutionEndTime": "2023-07-21T16:14:55.6421078-03:00",
    "dotnet_repl_cellExecutionTime": "63.9149ms",
    "dotnet_interactive": {
     "language": "fsharp"
    },
    "polyglot_notebook": {
     "kernelName": "fsharp"
    }
   },
   "outputs": [
    {
     "name": "stdout",
     "output_type": "stream",
     "text": [
      "99999999-9999-9999-99dc-ba9876543210\r\n"
     ]
    }
   ],
   "source": [
    "//// test\n",
    "\n",
    "ticksGuidFromTicks testGuid 999999999999999999L\n",
    "|> _equal (TicksGuid $\"99999999-9999-9999-99dc-b{(testGuid |> string).[^10..]}\")"
   ]
  },
  {
   "cell_type": "markdown",
   "metadata": {
    "dotnet_repl_cellExecutionStartTime": "2023-07-21T16:14:55.6421536-03:00",
    "dotnet_repl_cellExecutionEndTime": "2023-07-21T16:14:55.6442747-03:00",
    "dotnet_repl_cellExecutionTime": "2.1225ms"
   },
   "source": [
    "## ticksFromGuid"
   ]
  },
  {
   "cell_type": "code",
   "execution_count": null,
   "metadata": {
    "dotnet_repl_cellExecutionStartTime": "2023-07-21T16:14:55.6443051-03:00",
    "dotnet_repl_cellExecutionEndTime": "2023-07-21T16:14:55.7610062-03:00",
    "dotnet_repl_cellExecutionTime": "116.7043ms",
    "dotnet_interactive": {
     "language": "fsharp"
    },
    "polyglot_notebook": {
     "kernelName": "fsharp"
    }
   },
   "outputs": [],
   "source": [
    "let inline ticksFromGuid (ticksGuid: DateTimeGuid) =\n",
    "    let ticks = ticksGuid |> string\n",
    "    int64 $\"{ticks.[0..7]}{ticks.[9..12]}{ticks.[14..17]}{ticks.[19..20]}\""
   ]
  },
  {
   "cell_type": "code",
   "execution_count": null,
   "metadata": {
    "dotnet_repl_cellExecutionStartTime": "2023-07-21T16:14:55.7610498-03:00",
    "dotnet_repl_cellExecutionEndTime": "2023-07-21T16:14:55.8094349-03:00",
    "dotnet_repl_cellExecutionTime": "48.3875ms",
    "dotnet_interactive": {
     "language": "fsharp"
    },
    "polyglot_notebook": {
     "kernelName": "fsharp"
    }
   },
   "outputs": [
    {
     "name": "stdout",
     "output_type": "stream",
     "text": [
      "0\r\n"
     ]
    }
   ],
   "source": [
    "//// test\n",
    "\n",
    "ticksFromGuid (TicksGuid \"00000000-0000-0000-00dc-ba9876543210\")\n",
    "|> _equal 0L"
   ]
  },
  {
   "cell_type": "code",
   "execution_count": null,
   "metadata": {
    "dotnet_repl_cellExecutionStartTime": "2023-07-21T16:14:55.80948-03:00",
    "dotnet_repl_cellExecutionEndTime": "2023-07-21T16:14:55.8825735-03:00",
    "dotnet_repl_cellExecutionTime": "73.0962ms",
    "dotnet_interactive": {
     "language": "fsharp"
    },
    "polyglot_notebook": {
     "kernelName": "fsharp"
    }
   },
   "outputs": [
    {
     "name": "stdout",
     "output_type": "stream",
     "text": [
      "999999999999999999\r\n"
     ]
    }
   ],
   "source": [
    "//// test\n",
    "\n",
    "ticksFromGuid (TicksGuid $\"99999999-9999-9999-99{(testGuid |> string).[^14..]}\")\n",
    "|> _equal 999999999999999999L"
   ]
  },
  {
   "cell_type": "markdown",
   "metadata": {
    "dotnet_repl_cellExecutionStartTime": "2023-07-21T16:14:55.8826247-03:00",
    "dotnet_repl_cellExecutionEndTime": "2023-07-21T16:14:55.8852096-03:00",
    "dotnet_repl_cellExecutionTime": "2.5878ms"
   },
   "source": [
    "## newGuidFromDateTime"
   ]
  },
  {
   "cell_type": "code",
   "execution_count": null,
   "metadata": {
    "dotnet_repl_cellExecutionStartTime": "2023-07-21T16:14:55.8852854-03:00",
    "dotnet_repl_cellExecutionEndTime": "2023-07-21T16:14:55.8965209-03:00",
    "dotnet_repl_cellExecutionTime": "11.2373ms",
    "dotnet_interactive": {
     "language": "fsharp"
    },
    "polyglot_notebook": {
     "kernelName": "fsharp"
    }
   },
   "outputs": [],
   "source": [
    "let inline newGuidFromDateTime (dateTime: System.DateTime) =\n",
    "    let guid = System.Guid.NewGuid ()\n",
    "    dateTimeGuidFromDateTime guid dateTime"
   ]
  },
  {
   "cell_type": "code",
   "execution_count": null,
   "metadata": {
    "dotnet_repl_cellExecutionStartTime": "2023-07-21T16:14:55.8965574-03:00",
    "dotnet_repl_cellExecutionEndTime": "2023-07-21T16:14:55.9917006-03:00",
    "dotnet_repl_cellExecutionTime": "95.1456ms",
    "dotnet_interactive": {
     "language": "fsharp"
    },
    "polyglot_notebook": {
     "kernelName": "fsharp"
    }
   },
   "outputs": [
    {
     "name": "stdout",
     "output_type": "stream",
     "text": [
      "0\r\n"
     ]
    }
   ],
   "source": [
    "//// test\n",
    "\n",
    "newGuidFromDateTime System.DateTime.UtcNow\n",
    "|> dateTimeFromGuid\n",
    "|> fun dateTime -> (dateTime - System.DateTime.UtcNow).TotalSeconds |> int\n",
    "|> _equal 0"
   ]
  },
  {
   "cell_type": "markdown",
   "metadata": {
    "dotnet_repl_cellExecutionStartTime": "2023-07-21T16:14:55.9917475-03:00",
    "dotnet_repl_cellExecutionEndTime": "2023-07-21T16:14:55.9936144-03:00",
    "dotnet_repl_cellExecutionTime": "1.8688ms"
   },
   "source": [
    "## newGuidFromTicks"
   ]
  },
  {
   "cell_type": "code",
   "execution_count": null,
   "metadata": {
    "dotnet_repl_cellExecutionStartTime": "2023-07-21T16:14:55.9936479-03:00",
    "dotnet_repl_cellExecutionEndTime": "2023-07-21T16:14:56.0065386-03:00",
    "dotnet_repl_cellExecutionTime": "12.8933ms",
    "dotnet_interactive": {
     "language": "fsharp"
    },
    "polyglot_notebook": {
     "kernelName": "fsharp"
    }
   },
   "outputs": [],
   "source": [
    "let inline newGuidFromTicks (ticks: int64) =\n",
    "    let guid = System.Guid.NewGuid ()\n",
    "    ticksGuidFromTicks guid ticks"
   ]
  },
  {
   "cell_type": "code",
   "execution_count": null,
   "metadata": {
    "dotnet_repl_cellExecutionStartTime": "2023-07-21T16:14:56.0065809-03:00",
    "dotnet_repl_cellExecutionEndTime": "2023-07-21T16:14:56.0952078-03:00",
    "dotnet_repl_cellExecutionTime": "88.6285ms",
    "dotnet_interactive": {
     "language": "fsharp"
    },
    "polyglot_notebook": {
     "kernelName": "fsharp"
    }
   },
   "outputs": [
    {
     "name": "stdout",
     "output_type": "stream",
     "text": [
      "0\r\n"
     ]
    }
   ],
   "source": [
    "//// test\n",
    "\n",
    "newGuidFromTicks System.DateTime.UtcNow.Ticks\n",
    "|> ticksFromGuid\n",
    "|> fun ticks -> (ticks - System.DateTime.UtcNow.Ticks) / 100000L\n",
    "|> _equal 0L"
   ]
  },
  {
   "cell_type": "markdown",
   "metadata": {
    "dotnet_repl_cellExecutionStartTime": "2023-07-21T16:14:56.0952575-03:00",
    "dotnet_repl_cellExecutionEndTime": "2023-07-21T16:14:56.0971542-03:00",
    "dotnet_repl_cellExecutionTime": "1.8979ms"
   },
   "source": [
    "## trace"
   ]
  },
  {
   "cell_type": "code",
   "execution_count": null,
   "metadata": {
    "dotnet_repl_cellExecutionStartTime": "2023-07-21T16:14:56.0971794-03:00",
    "dotnet_repl_cellExecutionEndTime": "2023-07-21T16:14:56.3387639-03:00",
    "dotnet_repl_cellExecutionTime": "241.5862ms",
    "dotnet_interactive": {
     "language": "fsharp"
    },
    "polyglot_notebook": {
     "kernelName": "fsharp"
    }
   },
   "outputs": [],
   "source": [
    "type TraceLevel =\n",
    "    | Verbose\n",
    "    | Debug\n",
    "    | Info\n",
    "    | Warn\n",
    "    | Error\n",
    "\n",
    "let inline getLocals () = \"\"\n",
    "\n",
    "let mutable traceEnabled = true\n",
    "let mutable traceCount = 0\n",
    "let mutable traceLevel = Verbose\n",
    "\n",
    "\n",
    "let trace level fn getLocals =\n",
    "    if traceEnabled && level >= traceLevel then\n",
    "        traceCount <- traceCount + 1\n",
    "        let time = System.DateTime.Now.ToString \"HH:mm:ss\"\n",
    "        $\"{time} #{traceCount} [{level}] {fn ()} / {getLocals ()}\"\n",
    "        |> String.trimEnd [| ' '; '/' |]\n",
    "        |> System.Console.WriteLine\n",
    "\n",
    "let withTrace enabled fn =\n",
    "    let oldTraceEnabled = traceEnabled\n",
    "    try\n",
    "        traceEnabled <- enabled\n",
    "        fn ()\n",
    "    finally\n",
    "        traceEnabled <- oldTraceEnabled\n",
    "\n",
    "let withTraceEnabled fn =\n",
    "    withTrace true fn\n",
    "\n",
    "let withTraceDisabled fn =\n",
    "    withTrace false fn\n",
    "\n",
    "let withTraceLevel level fn =\n",
    "    let oldTraceLevel = traceLevel\n",
    "    try\n",
    "        traceLevel <- level\n",
    "        fn ()\n",
    "    finally\n",
    "        traceLevel <- oldTraceLevel"
   ]
  },
  {
   "cell_type": "code",
   "execution_count": null,
   "metadata": {
    "dotnet_repl_cellExecutionStartTime": "2023-07-21T16:14:56.3387976-03:00",
    "dotnet_repl_cellExecutionEndTime": "2023-07-21T16:14:56.3914952-03:00",
    "dotnet_repl_cellExecutionTime": "52.6991ms",
    "dotnet_interactive": {
     "language": "fsharp"
    },
    "polyglot_notebook": {
     "kernelName": "fsharp"
    }
   },
   "outputs": [
    {
     "name": "stdout",
     "output_type": "stream",
     "text": [
      "16:14:56 #1 [Debug] test\r\n"
     ]
    }
   ],
   "source": [
    "//// test\n",
    "\n",
    "trace Debug (fun () -> \"test\") getLocals"
   ]
  },
  {
   "cell_type": "markdown",
   "metadata": {
    "dotnet_repl_cellExecutionStartTime": "2023-07-21T16:14:56.3915359-03:00",
    "dotnet_repl_cellExecutionEndTime": "2023-07-21T16:14:56.3936569-03:00",
    "dotnet_repl_cellExecutionTime": "2.123ms"
   },
   "source": [
    "## newDisposable"
   ]
  },
  {
   "cell_type": "code",
   "execution_count": null,
   "metadata": {
    "dotnet_repl_cellExecutionStartTime": "2023-07-21T16:14:56.393698-03:00",
    "dotnet_repl_cellExecutionEndTime": "2023-07-21T16:14:56.4582086-03:00",
    "dotnet_repl_cellExecutionTime": "64.5126ms",
    "dotnet_interactive": {
     "language": "fsharp"
    },
    "polyglot_notebook": {
     "kernelName": "fsharp"
    }
   },
   "outputs": [],
   "source": [
    "let inline newDisposable fn =\n",
    "    { new System.IDisposable with\n",
    "        member _.Dispose () = fn ()\n",
    "    }"
   ]
  },
  {
   "cell_type": "code",
   "execution_count": null,
   "metadata": {
    "dotnet_repl_cellExecutionStartTime": "2023-07-21T16:14:56.4582434-03:00",
    "dotnet_repl_cellExecutionEndTime": "2023-07-21T16:14:56.4774166-03:00",
    "dotnet_repl_cellExecutionTime": "19.1757ms",
    "dotnet_interactive": {
     "language": "fsharp"
    },
    "polyglot_notebook": {
     "kernelName": "fsharp"
    }
   },
   "outputs": [
    {
     "name": "stdout",
     "output_type": "stream",
     "text": [
      "1\r\n"
     ]
    }
   ],
   "source": [
    "//// test\n",
    "\n",
    "let mutable newDisposableTest = 0\n",
    "newDisposable (fun () -> newDisposableTest <- newDisposableTest + 1)\n",
    "|> fun x -> x.Dispose ()\n",
    "newDisposableTest |> _equal 1"
   ]
  },
  {
   "cell_type": "code",
   "execution_count": null,
   "metadata": {
    "dotnet_repl_cellExecutionStartTime": "2023-07-21T16:14:56.4774673-03:00",
    "dotnet_repl_cellExecutionEndTime": "2023-07-21T16:14:56.6760235-03:00",
    "dotnet_repl_cellExecutionTime": "198.5596ms",
    "dotnet_interactive": {
     "language": "fsharp"
    },
    "polyglot_notebook": {
     "kernelName": "fsharp"
    }
   },
   "outputs": [
    {
     "name": "stdout",
     "output_type": "stream",
     "text": [
      "1\r\n"
     ]
    }
   ],
   "source": [
    "//// test\n",
    "\n",
    "let mutable newDisposableTest = 0\n",
    "fun () -> task {\n",
    "    use x = newDisposable (fun () -> newDisposableTest <- newDisposableTest + 1)\n",
    "    ()\n",
    "}\n",
    "|> fun x -> x () |> Async.AwaitTask |> Async.RunSynchronously\n",
    "newDisposableTest |> _equal 1"
   ]
  },
  {
   "cell_type": "code",
   "execution_count": null,
   "metadata": {
    "dotnet_repl_cellExecutionStartTime": "2023-07-21T16:14:56.6760586-03:00",
    "dotnet_repl_cellExecutionEndTime": "2023-07-21T16:14:56.7156828-03:00",
    "dotnet_repl_cellExecutionTime": "39.6264ms",
    "dotnet_interactive": {
     "language": "fsharp"
    },
    "polyglot_notebook": {
     "kernelName": "fsharp"
    }
   },
   "outputs": [
    {
     "name": "stdout",
     "output_type": "stream",
     "text": [
      "1\r\n"
     ]
    }
   ],
   "source": [
    "//// test\n",
    "\n",
    "let mutable newDisposableTest = 0\n",
    "async {\n",
    "    use x = newDisposable (fun () -> newDisposableTest <- newDisposableTest + 1)\n",
    "    ()\n",
    "}\n",
    "|> Async.RunSynchronously\n",
    "newDisposableTest |> _equal 1"
   ]
  },
  {
   "cell_type": "code",
   "execution_count": null,
   "metadata": {
    "dotnet_repl_cellExecutionStartTime": "2023-07-21T16:14:56.7157314-03:00",
    "dotnet_repl_cellExecutionEndTime": "2023-07-21T16:14:56.7513351-03:00",
    "dotnet_repl_cellExecutionTime": "35.6054ms",
    "dotnet_interactive": {
     "language": "fsharp"
    },
    "polyglot_notebook": {
     "kernelName": "fsharp"
    }
   },
   "outputs": [
    {
     "name": "stdout",
     "output_type": "stream",
     "text": [
      "0\r\n"
     ]
    }
   ],
   "source": [
    "//// test\n",
    "\n",
    "let mutable newDisposableTest = 0\n",
    "async {\n",
    "    let x = newDisposable (fun () -> newDisposableTest <- newDisposableTest + 1)\n",
    "    ()\n",
    "}\n",
    "|> Async.RunSynchronously\n",
    "newDisposableTest |> _equal 0"
   ]
  }
 ],
 "metadata": {
  "kernelspec": {
   "display_name": ".NET (C#)",
   "language": "C#",
   "name": ".net-csharp"
  },
  "language_info": {
   "file_extension": ".cs",
   "mimetype": "text/x-csharp",
   "name": "C#",
   "pygments_lexer": "csharp",
   "version": "10.0"
  },
  "polyglot_notebook": {
   "defaultKernelName": "csharp",
   "items": [
    {
     "name": "csharp"
    }
   ]
  },
  "dotnet_interactive": {
   "defaultKernelName": "csharp",
   "items": [
    {
     "name": "csharp"
    }
   ]
  }
 },
 "nbformat": 4,
 "nbformat_minor": 5
}