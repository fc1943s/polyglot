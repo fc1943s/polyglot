{
 "cells": [
  {
   "cell_type": "markdown",
   "metadata": {
    "dotnet_repl_cellExecutionStartTime": "2023-07-29T04:41:40.3698995-03:00",
    "dotnet_repl_cellExecutionEndTime": "2023-07-29T04:41:40.428493-03:00",
    "dotnet_repl_cellExecutionTime": "58.7537ms"
   },
   "source": [
    "# Common (Polyglot)"
   ]
  },
  {
   "cell_type": "code",
   "execution_count": null,
   "metadata": {
    "dotnet_repl_cellExecutionStartTime": "2023-07-29T04:41:40.4316955-03:00",
    "dotnet_repl_cellExecutionEndTime": "2023-07-29T04:41:45.242337-03:00",
    "dotnet_repl_cellExecutionTime": "4.8106464s",
    "dotnet_interactive": {
     "language": "fsharp"
    },
    "polyglot_notebook": {
     "kernelName": "fsharp"
    }
   },
   "outputs": [],
   "source": [
    "#!import ../nbs/Testing.dib"
   ]
  },
  {
   "cell_type": "code",
   "execution_count": null,
   "metadata": {
    "dotnet_repl_cellExecutionStartTime": "2023-07-29T04:41:45.2424147-03:00",
    "dotnet_repl_cellExecutionEndTime": "2023-07-29T04:41:45.2525296-03:00",
    "dotnet_repl_cellExecutionTime": "10.1193ms",
    "dotnet_interactive": {
     "language": "fsharp"
    },
    "polyglot_notebook": {
     "kernelName": "fsharp"
    }
   },
   "outputs": [],
   "source": [
    "let nl = System.Environment.NewLine"
   ]
  },
  {
   "cell_type": "code",
   "execution_count": null,
   "metadata": {
    "dotnet_repl_cellExecutionStartTime": "2023-07-29T04:41:45.2525631-03:00",
    "dotnet_repl_cellExecutionEndTime": "2023-07-29T04:41:45.2859745-03:00",
    "dotnet_repl_cellExecutionTime": "33.4158ms",
    "dotnet_interactive": {
     "language": "fsharp"
    },
    "polyglot_notebook": {
     "kernelName": "fsharp"
    }
   },
   "outputs": [],
   "source": [
    "let inline cons head tail = head :: tail"
   ]
  },
  {
   "cell_type": "code",
   "execution_count": null,
   "metadata": {
    "dotnet_repl_cellExecutionStartTime": "2023-07-29T04:41:45.2860093-03:00",
    "dotnet_repl_cellExecutionEndTime": "2023-07-29T04:41:45.3484202-03:00",
    "dotnet_repl_cellExecutionTime": "62.4158ms",
    "dotnet_interactive": {
     "language": "fsharp"
    },
    "polyglot_notebook": {
     "kernelName": "fsharp"
    }
   },
   "outputs": [],
   "source": [
    "module String =\n",
    "    let inline contains (value : string) (input : string) =\n",
    "        input.Contains value\n",
    "\n",
    "    let inline endsWith (value : string) (input : string) =\n",
    "        input.EndsWith value\n",
    "\n",
    "    let inline padLeft totalWidth paddingChar (input : string) =\n",
    "        input.PadLeft (totalWidth, paddingChar)\n",
    "\n",
    "    let inline replace (oldValue : string) (newValue : string) (input : string) =\n",
    "        input.Replace (oldValue, newValue)\n",
    "\n",
    "    let inline split separator (input : string) =\n",
    "        input.Split separator\n",
    "\n",
    "    let inline splitString (separator : string array) (input : string) =\n",
    "        input.Split (separator, System.StringSplitOptions.None)\n",
    "\n",
    "    let inline startsWith (value : string) (input : string) =\n",
    "        input.StartsWith value\n",
    "\n",
    "    let inline substring startIndex length (input : string) =\n",
    "        input.Substring (startIndex, length)\n",
    "\n",
    "    let inline trim (input : string) =\n",
    "        input.Trim ()\n",
    "    \n",
    "    let inline trimEnd (trimChars : char array) (input : string) =\n",
    "        input.TrimEnd trimChars\n",
    "\n",
    "    let inline trimStart (trimChars : char array) (input : string) =\n",
    "        input.TrimStart trimChars"
   ]
  },
  {
   "cell_type": "code",
   "execution_count": null,
   "metadata": {
    "dotnet_repl_cellExecutionStartTime": "2023-07-29T04:41:45.3484563-03:00",
    "dotnet_repl_cellExecutionEndTime": "2023-07-29T04:41:45.3727052-03:00",
    "dotnet_repl_cellExecutionTime": "24.2562ms",
    "dotnet_interactive": {
     "language": "fsharp"
    },
    "polyglot_notebook": {
     "kernelName": "fsharp"
    }
   },
   "outputs": [],
   "source": [
    "type TicksGuid = System.Guid\n",
    "type DateTimeGuid = System.Guid"
   ]
  },
  {
   "cell_type": "code",
   "execution_count": null,
   "metadata": {
    "dotnet_repl_cellExecutionStartTime": "2023-07-29T04:41:45.3727447-03:00",
    "dotnet_repl_cellExecutionEndTime": "2023-07-29T04:41:45.3811252-03:00",
    "dotnet_repl_cellExecutionTime": "8.3851ms",
    "dotnet_interactive": {
     "language": "fsharp"
    },
    "polyglot_notebook": {
     "kernelName": "fsharp"
    }
   },
   "outputs": [],
   "source": [
    "//// test\n",
    "\n",
    "let testGuid = Guid \"FEDCBA98-7654-3210-FEDC-BA9876543210\""
   ]
  },
  {
   "cell_type": "markdown",
   "metadata": {
    "dotnet_repl_cellExecutionStartTime": "2023-07-29T04:41:45.3811579-03:00",
    "dotnet_repl_cellExecutionEndTime": "2023-07-29T04:41:45.3840467-03:00",
    "dotnet_repl_cellExecutionTime": "2.9048ms"
   },
   "source": [
    "## dateTimeGuidFromDateTime"
   ]
  },
  {
   "cell_type": "code",
   "execution_count": null,
   "metadata": {
    "dotnet_repl_cellExecutionStartTime": "2023-07-29T04:41:45.3840977-03:00",
    "dotnet_repl_cellExecutionEndTime": "2023-07-29T04:41:45.4394588-03:00",
    "dotnet_repl_cellExecutionTime": "55.3662ms",
    "dotnet_interactive": {
     "language": "fsharp"
    },
    "polyglot_notebook": {
     "kernelName": "fsharp"
    }
   },
   "outputs": [],
   "source": [
    "let inline dateTimeGuidFromDateTime (guid: System.Guid) (dateTime: System.DateTime) =\n",
    "    let guid = guid |> string\n",
    "    let prefix = dateTime.ToString \"yyyyMMdd-HHmm-ssff-ffff-f\"\n",
    "    DateTimeGuid $\"{prefix}{guid.[prefix.Length..]}\""
   ]
  },
  {
   "cell_type": "code",
   "execution_count": null,
   "metadata": {
    "dotnet_repl_cellExecutionStartTime": "2023-07-29T04:41:45.4394935-03:00",
    "dotnet_repl_cellExecutionEndTime": "2023-07-29T04:41:45.5266208-03:00",
    "dotnet_repl_cellExecutionTime": "87.1306ms",
    "dotnet_interactive": {
     "language": "fsharp"
    },
    "polyglot_notebook": {
     "kernelName": "fsharp"
    }
   },
   "outputs": [
    {
     "name": "stdout",
     "output_type": "stream",
     "text": [
      "00010101-0000-0000-0000-0a9876543210\r\n"
     ]
    }
   ],
   "source": [
    "//// test\n",
    "\n",
    "dateTimeGuidFromDateTime testGuid DateTime.MinValue\n",
    "|> _equal (DateTimeGuid \"00010101-0000-0000-0000-0a9876543210\")"
   ]
  },
  {
   "cell_type": "code",
   "execution_count": null,
   "metadata": {
    "dotnet_repl_cellExecutionStartTime": "2023-07-29T04:41:45.5267241-03:00",
    "dotnet_repl_cellExecutionEndTime": "2023-07-29T04:41:45.5690398-03:00",
    "dotnet_repl_cellExecutionTime": "42.3316ms",
    "dotnet_interactive": {
     "language": "fsharp"
    },
    "polyglot_notebook": {
     "kernelName": "fsharp"
    }
   },
   "outputs": [
    {
     "name": "stdout",
     "output_type": "stream",
     "text": [
      "99991231-2359-5999-9999-9a9876543210\r\n"
     ]
    }
   ],
   "source": [
    "//// test\n",
    "\n",
    "dateTimeGuidFromDateTime testGuid DateTime.MaxValue\n",
    "|> _equal (DateTimeGuid $\"99991231-2359-5999-9999-9{(testGuid |> string).[^10..]}\")"
   ]
  },
  {
   "cell_type": "code",
   "execution_count": null,
   "metadata": {
    "dotnet_repl_cellExecutionStartTime": "2023-07-29T04:41:45.5691188-03:00",
    "dotnet_repl_cellExecutionEndTime": "2023-07-29T04:41:45.6121478-03:00",
    "dotnet_repl_cellExecutionTime": "43.031ms",
    "dotnet_interactive": {
     "language": "fsharp"
    },
    "polyglot_notebook": {
     "kernelName": "fsharp"
    }
   },
   "outputs": [
    {
     "name": "stdout",
     "output_type": "stream",
     "text": [
      "19700101-0000-0000-0000-0a9876543210\r\n"
     ]
    }
   ],
   "source": [
    "//// test\n",
    "\n",
    "dateTimeGuidFromDateTime testGuid DateTime.UnixEpoch\n",
    "|> _equal (DateTimeGuid $\"19700101-0000-0000-0000-0{(testGuid |> string).[^10..]}\")"
   ]
  },
  {
   "cell_type": "markdown",
   "metadata": {
    "dotnet_repl_cellExecutionStartTime": "2023-07-29T04:41:45.6121803-03:00",
    "dotnet_repl_cellExecutionEndTime": "2023-07-29T04:41:45.614422-03:00",
    "dotnet_repl_cellExecutionTime": "2.2434ms"
   },
   "source": [
    "## dateTimeFromGuid"
   ]
  },
  {
   "cell_type": "code",
   "execution_count": null,
   "metadata": {
    "dotnet_repl_cellExecutionStartTime": "2023-07-29T04:41:45.6144417-03:00",
    "dotnet_repl_cellExecutionEndTime": "2023-07-29T04:41:45.673357-03:00",
    "dotnet_repl_cellExecutionTime": "58.9197ms",
    "dotnet_interactive": {
     "language": "fsharp"
    },
    "polyglot_notebook": {
     "kernelName": "fsharp"
    }
   },
   "outputs": [],
   "source": [
    "let inline dateTimeFromGuid (dateTimeGuid: DateTimeGuid) =\n",
    "    let dateTimeGuid = dateTimeGuid |> string\n",
    "    System.DateTime.ParseExact (dateTimeGuid.[..24] |> String.replace \"-\" \"\", \"yyyyMMddHHmmssfffffff\", null)"
   ]
  },
  {
   "cell_type": "code",
   "execution_count": null,
   "metadata": {
    "dotnet_repl_cellExecutionStartTime": "2023-07-29T04:41:45.6733985-03:00",
    "dotnet_repl_cellExecutionEndTime": "2023-07-29T04:41:45.7069536-03:00",
    "dotnet_repl_cellExecutionTime": "33.5583ms",
    "dotnet_interactive": {
     "language": "fsharp"
    },
    "polyglot_notebook": {
     "kernelName": "fsharp"
    }
   },
   "outputs": [
    {
     "name": "stdout",
     "output_type": "stream",
     "text": [
      "0001-01-01 00:00:00Z\r\n"
     ]
    }
   ],
   "source": [
    "//// test\n",
    "\n",
    "dateTimeFromGuid (DateTimeGuid \"00010101-0000-0000-0000-0a9876543210\")\n",
    "|> _equal DateTime.MinValue"
   ]
  },
  {
   "cell_type": "code",
   "execution_count": null,
   "metadata": {
    "dotnet_repl_cellExecutionStartTime": "2023-07-29T04:41:45.7070135-03:00",
    "dotnet_repl_cellExecutionEndTime": "2023-07-29T04:41:45.7494796-03:00",
    "dotnet_repl_cellExecutionTime": "42.4711ms",
    "dotnet_interactive": {
     "language": "fsharp"
    },
    "polyglot_notebook": {
     "kernelName": "fsharp"
    }
   },
   "outputs": [
    {
     "name": "stdout",
     "output_type": "stream",
     "text": [
      "9999-12-31 23:59:59Z\r\n"
     ]
    }
   ],
   "source": [
    "//// test\n",
    "\n",
    "dateTimeFromGuid (DateTimeGuid $\"99991231-2359-5999-9999-9{(testGuid |> string).[^10..]}\")\n",
    "|> _equal DateTime.MaxValue"
   ]
  },
  {
   "cell_type": "code",
   "execution_count": null,
   "metadata": {
    "dotnet_repl_cellExecutionStartTime": "2023-07-29T04:41:45.7495575-03:00",
    "dotnet_repl_cellExecutionEndTime": "2023-07-29T04:41:45.7961434-03:00",
    "dotnet_repl_cellExecutionTime": "46.5881ms",
    "dotnet_interactive": {
     "language": "fsharp"
    },
    "polyglot_notebook": {
     "kernelName": "fsharp"
    }
   },
   "outputs": [
    {
     "name": "stdout",
     "output_type": "stream",
     "text": [
      "1970-01-01 00:00:00Z\r\n"
     ]
    }
   ],
   "source": [
    "//// test\n",
    "\n",
    "dateTimeFromGuid (DateTimeGuid $\"19700101-0000-0000-0000-0{(testGuid |> string).[^10..]}\")\n",
    "|> _equal DateTime.UnixEpoch"
   ]
  },
  {
   "cell_type": "markdown",
   "metadata": {
    "dotnet_repl_cellExecutionStartTime": "2023-07-29T04:41:45.7961774-03:00",
    "dotnet_repl_cellExecutionEndTime": "2023-07-29T04:41:45.7984786-03:00",
    "dotnet_repl_cellExecutionTime": "2.3037ms"
   },
   "source": [
    "## ticksGuidFromTicks"
   ]
  },
  {
   "cell_type": "code",
   "execution_count": null,
   "metadata": {
    "dotnet_repl_cellExecutionStartTime": "2023-07-29T04:41:45.7985048-03:00",
    "dotnet_repl_cellExecutionEndTime": "2023-07-29T04:41:45.830439-03:00",
    "dotnet_repl_cellExecutionTime": "31.9381ms",
    "dotnet_interactive": {
     "language": "fsharp"
    },
    "polyglot_notebook": {
     "kernelName": "fsharp"
    }
   },
   "outputs": [],
   "source": [
    "let inline ticksGuidFromTicks (guid: System.Guid) (ticks: int64) =\n",
    "    let guid = guid |> string\n",
    "    let ticks = ticks |> string |> String.padLeft 18 '0'\n",
    "    TicksGuid $\"{ticks.[0..7]}-{ticks.[8..11]}-{ticks.[12..15]}-{ticks.[16..17]}{guid.[21..]}\""
   ]
  },
  {
   "cell_type": "code",
   "execution_count": null,
   "metadata": {
    "dotnet_repl_cellExecutionStartTime": "2023-07-29T04:41:45.8304709-03:00",
    "dotnet_repl_cellExecutionEndTime": "2023-07-29T04:41:45.8693021-03:00",
    "dotnet_repl_cellExecutionTime": "38.8366ms",
    "dotnet_interactive": {
     "language": "fsharp"
    },
    "polyglot_notebook": {
     "kernelName": "fsharp"
    }
   },
   "outputs": [
    {
     "name": "stdout",
     "output_type": "stream",
     "text": [
      "00000000-0000-0000-00dc-ba9876543210\r\n"
     ]
    }
   ],
   "source": [
    "//// test\n",
    "\n",
    "ticksGuidFromTicks testGuid 0L\n",
    "|> _equal (TicksGuid \"00000000-0000-0000-00dc-ba9876543210\")"
   ]
  },
  {
   "cell_type": "code",
   "execution_count": null,
   "metadata": {
    "dotnet_repl_cellExecutionStartTime": "2023-07-29T04:41:45.8694317-03:00",
    "dotnet_repl_cellExecutionEndTime": "2023-07-29T04:41:45.9190708-03:00",
    "dotnet_repl_cellExecutionTime": "49.6437ms",
    "dotnet_interactive": {
     "language": "fsharp"
    },
    "polyglot_notebook": {
     "kernelName": "fsharp"
    }
   },
   "outputs": [
    {
     "name": "stdout",
     "output_type": "stream",
     "text": [
      "99999999-9999-9999-99dc-ba9876543210\r\n"
     ]
    }
   ],
   "source": [
    "//// test\n",
    "\n",
    "ticksGuidFromTicks testGuid 999999999999999999L\n",
    "|> _equal (TicksGuid $\"99999999-9999-9999-99dc-b{(testGuid |> string).[^10..]}\")"
   ]
  },
  {
   "cell_type": "markdown",
   "metadata": {
    "dotnet_repl_cellExecutionStartTime": "2023-07-29T04:41:45.9191536-03:00",
    "dotnet_repl_cellExecutionEndTime": "2023-07-29T04:41:45.9220245-03:00",
    "dotnet_repl_cellExecutionTime": "2.8754ms"
   },
   "source": [
    "## ticksFromGuid"
   ]
  },
  {
   "cell_type": "code",
   "execution_count": null,
   "metadata": {
    "dotnet_repl_cellExecutionStartTime": "2023-07-29T04:41:45.9221041-03:00",
    "dotnet_repl_cellExecutionEndTime": "2023-07-29T04:41:46.002683-03:00",
    "dotnet_repl_cellExecutionTime": "80.5855ms",
    "dotnet_interactive": {
     "language": "fsharp"
    },
    "polyglot_notebook": {
     "kernelName": "fsharp"
    }
   },
   "outputs": [],
   "source": [
    "let inline ticksFromGuid (ticksGuid: DateTimeGuid) =\n",
    "    let ticks = ticksGuid |> string\n",
    "    int64 $\"{ticks.[0..7]}{ticks.[9..12]}{ticks.[14..17]}{ticks.[19..20]}\""
   ]
  },
  {
   "cell_type": "code",
   "execution_count": null,
   "metadata": {
    "dotnet_repl_cellExecutionStartTime": "2023-07-29T04:41:46.002727-03:00",
    "dotnet_repl_cellExecutionEndTime": "2023-07-29T04:41:46.0354923-03:00",
    "dotnet_repl_cellExecutionTime": "32.7704ms",
    "dotnet_interactive": {
     "language": "fsharp"
    },
    "polyglot_notebook": {
     "kernelName": "fsharp"
    }
   },
   "outputs": [
    {
     "name": "stdout",
     "output_type": "stream",
     "text": [
      "0\r\n"
     ]
    }
   ],
   "source": [
    "//// test\n",
    "\n",
    "ticksFromGuid (TicksGuid \"00000000-0000-0000-00dc-ba9876543210\")\n",
    "|> _equal 0L"
   ]
  },
  {
   "cell_type": "code",
   "execution_count": null,
   "metadata": {
    "dotnet_repl_cellExecutionStartTime": "2023-07-29T04:41:46.0355481-03:00",
    "dotnet_repl_cellExecutionEndTime": "2023-07-29T04:41:46.0797104-03:00",
    "dotnet_repl_cellExecutionTime": "44.1656ms",
    "dotnet_interactive": {
     "language": "fsharp"
    },
    "polyglot_notebook": {
     "kernelName": "fsharp"
    }
   },
   "outputs": [
    {
     "name": "stdout",
     "output_type": "stream",
     "text": [
      "999999999999999999\r\n"
     ]
    }
   ],
   "source": [
    "//// test\n",
    "\n",
    "ticksFromGuid (TicksGuid $\"99999999-9999-9999-99{(testGuid |> string).[^14..]}\")\n",
    "|> _equal 999999999999999999L"
   ]
  },
  {
   "cell_type": "markdown",
   "metadata": {
    "dotnet_repl_cellExecutionStartTime": "2023-07-29T04:41:46.0797487-03:00",
    "dotnet_repl_cellExecutionEndTime": "2023-07-29T04:41:46.0824219-03:00",
    "dotnet_repl_cellExecutionTime": "2.6873ms"
   },
   "source": [
    "## newGuidFromDateTime"
   ]
  },
  {
   "cell_type": "code",
   "execution_count": null,
   "metadata": {
    "dotnet_repl_cellExecutionStartTime": "2023-07-29T04:41:46.082486-03:00",
    "dotnet_repl_cellExecutionEndTime": "2023-07-29T04:41:46.093132-03:00",
    "dotnet_repl_cellExecutionTime": "10.6506ms",
    "dotnet_interactive": {
     "language": "fsharp"
    },
    "polyglot_notebook": {
     "kernelName": "fsharp"
    }
   },
   "outputs": [],
   "source": [
    "let inline newGuidFromDateTime (dateTime: System.DateTime) =\n",
    "    let guid = System.Guid.NewGuid ()\n",
    "    dateTimeGuidFromDateTime guid dateTime"
   ]
  },
  {
   "cell_type": "code",
   "execution_count": null,
   "metadata": {
    "dotnet_repl_cellExecutionStartTime": "2023-07-29T04:41:46.0931661-03:00",
    "dotnet_repl_cellExecutionEndTime": "2023-07-29T04:41:46.1603945-03:00",
    "dotnet_repl_cellExecutionTime": "67.2322ms",
    "dotnet_interactive": {
     "language": "fsharp"
    },
    "polyglot_notebook": {
     "kernelName": "fsharp"
    }
   },
   "outputs": [
    {
     "name": "stdout",
     "output_type": "stream",
     "text": [
      "0\r\n"
     ]
    }
   ],
   "source": [
    "//// test\n",
    "\n",
    "newGuidFromDateTime System.DateTime.UtcNow\n",
    "|> dateTimeFromGuid\n",
    "|> fun dateTime -> (dateTime - System.DateTime.UtcNow).TotalSeconds |> int\n",
    "|> _equal 0"
   ]
  },
  {
   "cell_type": "markdown",
   "metadata": {
    "dotnet_repl_cellExecutionStartTime": "2023-07-29T04:41:46.1604387-03:00",
    "dotnet_repl_cellExecutionEndTime": "2023-07-29T04:41:46.1628257-03:00",
    "dotnet_repl_cellExecutionTime": "2.3891ms"
   },
   "source": [
    "## newGuidFromTicks"
   ]
  },
  {
   "cell_type": "code",
   "execution_count": null,
   "metadata": {
    "dotnet_repl_cellExecutionStartTime": "2023-07-29T04:41:46.1628459-03:00",
    "dotnet_repl_cellExecutionEndTime": "2023-07-29T04:41:46.1783642-03:00",
    "dotnet_repl_cellExecutionTime": "15.5229ms",
    "dotnet_interactive": {
     "language": "fsharp"
    },
    "polyglot_notebook": {
     "kernelName": "fsharp"
    }
   },
   "outputs": [],
   "source": [
    "let inline newGuidFromTicks (ticks: int64) =\n",
    "    let guid = System.Guid.NewGuid ()\n",
    "    ticksGuidFromTicks guid ticks"
   ]
  },
  {
   "cell_type": "code",
   "execution_count": null,
   "metadata": {
    "dotnet_repl_cellExecutionStartTime": "2023-07-29T04:41:46.1783978-03:00",
    "dotnet_repl_cellExecutionEndTime": "2023-07-29T04:41:46.2301293-03:00",
    "dotnet_repl_cellExecutionTime": "51.7343ms",
    "dotnet_interactive": {
     "language": "fsharp"
    },
    "polyglot_notebook": {
     "kernelName": "fsharp"
    }
   },
   "outputs": [
    {
     "name": "stdout",
     "output_type": "stream",
     "text": [
      "0\r\n"
     ]
    }
   ],
   "source": [
    "//// test\n",
    "\n",
    "newGuidFromTicks System.DateTime.UtcNow.Ticks\n",
    "|> ticksFromGuid\n",
    "|> fun ticks -> (ticks - System.DateTime.UtcNow.Ticks) / 100000L\n",
    "|> _equal 0L"
   ]
  },
  {
   "cell_type": "markdown",
   "metadata": {
    "dotnet_repl_cellExecutionStartTime": "2023-07-29T04:41:46.2301695-03:00",
    "dotnet_repl_cellExecutionEndTime": "2023-07-29T04:41:46.2326581-03:00",
    "dotnet_repl_cellExecutionTime": "2.493ms"
   },
   "source": [
    "## trace"
   ]
  },
  {
   "cell_type": "code",
   "execution_count": null,
   "metadata": {
    "dotnet_repl_cellExecutionStartTime": "2023-07-29T04:41:46.232701-03:00",
    "dotnet_repl_cellExecutionEndTime": "2023-07-29T04:41:46.3846404-03:00",
    "dotnet_repl_cellExecutionTime": "151.9436ms",
    "dotnet_interactive": {
     "language": "fsharp"
    },
    "polyglot_notebook": {
     "kernelName": "fsharp"
    }
   },
   "outputs": [],
   "source": [
    "type TraceLevel =\n",
    "    | Verbose\n",
    "    | Debug\n",
    "    | Info\n",
    "    | Warn\n",
    "    | Error\n",
    "\n",
    "let inline getLocals () = \"\"\n",
    "\n",
    "let mutable traceEnabled = true\n",
    "let mutable traceCount = 0\n",
    "let mutable traceLevel = Verbose\n",
    "\n",
    "\n",
    "let inline trace level fn getLocals =\n",
    "    if traceEnabled && level >= traceLevel then\n",
    "        traceCount <- traceCount + 1\n",
    "        let time = System.DateTime.Now.ToString \"HH:mm:ss\"\n",
    "        $\"{time} #{traceCount} [{level}] {fn ()} / {getLocals ()}\"\n",
    "        |> String.trimEnd [| ' '; '/' |]\n",
    "        |> System.Console.WriteLine\n",
    "\n",
    "let inline withTrace enabled fn =\n",
    "    let oldTraceEnabled = traceEnabled\n",
    "    try\n",
    "        traceEnabled <- enabled\n",
    "        fn ()\n",
    "    finally\n",
    "        traceEnabled <- oldTraceEnabled\n",
    "\n",
    "let inline withTraceEnabled fn =\n",
    "    withTrace true fn\n",
    "\n",
    "let inline withTraceDisabled fn =\n",
    "    withTrace false fn\n",
    "\n",
    "let inline withTraceLevel level fn =\n",
    "    let oldTraceLevel = traceLevel\n",
    "    try\n",
    "        traceLevel <- level\n",
    "        fn ()\n",
    "    finally\n",
    "        traceLevel <- oldTraceLevel"
   ]
  },
  {
   "cell_type": "code",
   "execution_count": null,
   "metadata": {
    "dotnet_repl_cellExecutionStartTime": "2023-07-29T04:41:46.3846811-03:00",
    "dotnet_repl_cellExecutionEndTime": "2023-07-29T04:41:46.4156351-03:00",
    "dotnet_repl_cellExecutionTime": "30.9585ms",
    "dotnet_interactive": {
     "language": "fsharp"
    },
    "polyglot_notebook": {
     "kernelName": "fsharp"
    }
   },
   "outputs": [
    {
     "name": "stdout",
     "output_type": "stream",
     "text": [
      "04:41:46 #1 [Debug] test\r\n"
     ]
    }
   ],
   "source": [
    "//// test\n",
    "\n",
    "trace Debug (fun () -> \"test\") getLocals"
   ]
  },
  {
   "cell_type": "markdown",
   "metadata": {
    "dotnet_repl_cellExecutionStartTime": "2023-07-29T04:41:46.4156929-03:00",
    "dotnet_repl_cellExecutionEndTime": "2023-07-29T04:41:46.4225612-03:00",
    "dotnet_repl_cellExecutionTime": "6.8736ms"
   },
   "source": [
    "## newDisposable"
   ]
  },
  {
   "cell_type": "code",
   "execution_count": null,
   "metadata": {
    "dotnet_repl_cellExecutionStartTime": "2023-07-29T04:41:46.4226084-03:00",
    "dotnet_repl_cellExecutionEndTime": "2023-07-29T04:41:46.5539447-03:00",
    "dotnet_repl_cellExecutionTime": "131.3416ms",
    "dotnet_interactive": {
     "language": "fsharp"
    },
    "polyglot_notebook": {
     "kernelName": "fsharp"
    }
   },
   "outputs": [],
   "source": [
    "let inline newDisposable fn =\n",
    "    { new System.IDisposable with\n",
    "        member _.Dispose () = fn ()\n",
    "    }"
   ]
  },
  {
   "cell_type": "code",
   "execution_count": null,
   "metadata": {
    "dotnet_repl_cellExecutionStartTime": "2023-07-29T04:41:46.5539891-03:00",
    "dotnet_repl_cellExecutionEndTime": "2023-07-29T04:41:46.6046383-03:00",
    "dotnet_repl_cellExecutionTime": "50.6543ms",
    "dotnet_interactive": {
     "language": "fsharp"
    },
    "polyglot_notebook": {
     "kernelName": "fsharp"
    }
   },
   "outputs": [
    {
     "name": "stdout",
     "output_type": "stream",
     "text": [
      "1\r\n"
     ]
    }
   ],
   "source": [
    "//// test\n",
    "\n",
    "let mutable newDisposableTest = 0\n",
    "newDisposable (fun () -> newDisposableTest <- newDisposableTest + 1)\n",
    "|> fun x -> x.Dispose ()\n",
    "newDisposableTest |> _equal 1"
   ]
  },
  {
   "cell_type": "code",
   "execution_count": null,
   "metadata": {
    "dotnet_repl_cellExecutionStartTime": "2023-07-29T04:41:46.6046821-03:00",
    "dotnet_repl_cellExecutionEndTime": "2023-07-29T04:41:46.7537981-03:00",
    "dotnet_repl_cellExecutionTime": "149.1187ms",
    "dotnet_interactive": {
     "language": "fsharp"
    },
    "polyglot_notebook": {
     "kernelName": "fsharp"
    }
   },
   "outputs": [
    {
     "name": "stdout",
     "output_type": "stream",
     "text": [
      "1\r\n"
     ]
    }
   ],
   "source": [
    "//// test\n",
    "\n",
    "let mutable newDisposableTest = 0\n",
    "fun () -> task {\n",
    "    use x = newDisposable (fun () -> newDisposableTest <- newDisposableTest + 1)\n",
    "    ()\n",
    "}\n",
    "|> fun x -> x () |> Async.AwaitTask |> Async.RunSynchronously\n",
    "newDisposableTest |> _equal 1"
   ]
  },
  {
   "cell_type": "code",
   "execution_count": null,
   "metadata": {
    "dotnet_repl_cellExecutionStartTime": "2023-07-29T04:41:46.7538408-03:00",
    "dotnet_repl_cellExecutionEndTime": "2023-07-29T04:41:46.8087302-03:00",
    "dotnet_repl_cellExecutionTime": "54.8952ms",
    "dotnet_interactive": {
     "language": "fsharp"
    },
    "polyglot_notebook": {
     "kernelName": "fsharp"
    }
   },
   "outputs": [
    {
     "name": "stdout",
     "output_type": "stream",
     "text": [
      "1\r\n"
     ]
    }
   ],
   "source": [
    "//// test\n",
    "\n",
    "let mutable newDisposableTest = 0\n",
    "async {\n",
    "    use x = newDisposable (fun () -> newDisposableTest <- newDisposableTest + 1)\n",
    "    ()\n",
    "}\n",
    "|> Async.RunSynchronously\n",
    "newDisposableTest |> _equal 1"
   ]
  },
  {
   "cell_type": "code",
   "execution_count": null,
   "metadata": {
    "dotnet_repl_cellExecutionStartTime": "2023-07-29T04:41:46.8087936-03:00",
    "dotnet_repl_cellExecutionEndTime": "2023-07-29T04:41:46.8595823-03:00",
    "dotnet_repl_cellExecutionTime": "50.7953ms",
    "dotnet_interactive": {
     "language": "fsharp"
    },
    "polyglot_notebook": {
     "kernelName": "fsharp"
    }
   },
   "outputs": [
    {
     "name": "stdout",
     "output_type": "stream",
     "text": [
      "0\r\n"
     ]
    }
   ],
   "source": [
    "//// test\n",
    "\n",
    "let mutable newDisposableTest = 0\n",
    "async {\n",
    "    let x = newDisposable (fun () -> newDisposableTest <- newDisposableTest + 1)\n",
    "    ()\n",
    "}\n",
    "|> Async.RunSynchronously\n",
    "newDisposableTest |> _equal 0"
   ]
  },
  {
   "cell_type": "markdown",
   "metadata": {
    "dotnet_repl_cellExecutionStartTime": "2023-07-29T04:41:46.8596424-03:00",
    "dotnet_repl_cellExecutionEndTime": "2023-07-29T04:41:46.862395-03:00",
    "dotnet_repl_cellExecutionTime": "2.759ms"
   },
   "source": [
    "## printException"
   ]
  },
  {
   "cell_type": "code",
   "execution_count": null,
   "metadata": {
    "dotnet_repl_cellExecutionStartTime": "2023-07-29T04:41:46.8624368-03:00",
    "dotnet_repl_cellExecutionEndTime": "2023-07-29T04:41:46.874563-03:00",
    "dotnet_repl_cellExecutionTime": "12.1315ms",
    "dotnet_interactive": {
     "language": "fsharp"
    },
    "polyglot_notebook": {
     "kernelName": "fsharp"
    }
   },
   "outputs": [],
   "source": [
    "let inline printException (ex : System.Exception) =\n",
    "    $\"{ex.GetType ()}: {ex.Message}\""
   ]
  },
  {
   "cell_type": "code",
   "execution_count": null,
   "metadata": {
    "dotnet_repl_cellExecutionStartTime": "2023-07-29T04:41:46.8746058-03:00",
    "dotnet_repl_cellExecutionEndTime": "2023-07-29T04:41:46.9426037-03:00",
    "dotnet_repl_cellExecutionTime": "68ms",
    "dotnet_interactive": {
     "language": "fsharp"
    },
    "polyglot_notebook": {
     "kernelName": "fsharp"
    }
   },
   "outputs": [
    {
     "name": "stdout",
     "output_type": "stream",
     "text": [
      "FSI_0039+it@3-1\r\n",
      "System.Exception: test\r\n"
     ]
    }
   ],
   "source": [
    "//// test\n",
    "\n",
    "fun () -> failwith \"test\"\n",
    "|> _throwsC (fun ex _ ->\n",
    "    printException ex\n",
    "    |> _equal \"System.Exception: test\"\n",
    ")"
   ]
  },
  {
   "cell_type": "markdown",
   "metadata": {
    "dotnet_repl_cellExecutionStartTime": "2023-07-29T04:41:46.9426347-03:00",
    "dotnet_repl_cellExecutionEndTime": "2023-07-29T04:41:46.9448274-03:00",
    "dotnet_repl_cellExecutionTime": "2.1945ms"
   },
   "source": [
    "## retryFn"
   ]
  },
  {
   "cell_type": "code",
   "execution_count": null,
   "metadata": {
    "dotnet_repl_cellExecutionStartTime": "2023-07-29T04:41:46.9448495-03:00",
    "dotnet_repl_cellExecutionEndTime": "2023-07-29T04:41:47.0038743-03:00",
    "dotnet_repl_cellExecutionTime": "59.0293ms",
    "dotnet_interactive": {
     "language": "fsharp"
    },
    "polyglot_notebook": {
     "kernelName": "fsharp"
    }
   },
   "outputs": [],
   "source": [
    "let inline retryFn retries fn =\n",
    "    let rec loop retry =\n",
    "        try\n",
    "            if retry < retries\n",
    "            then fn () |> Some\n",
    "            else None\n",
    "        with ex ->\n",
    "            let getLocals () = $\"retry: {retry} / ex: {ex |> printException} / {getLocals ()}\"\n",
    "            trace Warn (fun () -> \"retryFn\") getLocals\n",
    "            System.Threading.Thread.Sleep 1\n",
    "            loop (retry + 1)\n",
    "    loop 0"
   ]
  },
  {
   "cell_type": "code",
   "execution_count": null,
   "metadata": {
    "dotnet_repl_cellExecutionStartTime": "2023-07-29T04:41:47.003908-03:00",
    "dotnet_repl_cellExecutionEndTime": "2023-07-29T04:41:47.0493044-03:00",
    "dotnet_repl_cellExecutionTime": "45.4016ms",
    "dotnet_interactive": {
     "language": "fsharp"
    },
    "polyglot_notebook": {
     "kernelName": "fsharp"
    }
   },
   "outputs": [
    {
     "name": "stdout",
     "output_type": "stream",
     "text": [
      "FSharpOption<Int32>\r\n",
      "      Value: 1\r\n"
     ]
    }
   ],
   "source": [
    "//// test\n",
    "\n",
    "let mutable retryFnTest = 0\n",
    "fun () ->\n",
    "    retryFnTest <- retryFnTest + 1\n",
    "    retryFnTest\n",
    "|> retryFn 3\n",
    "|> _equal (Some 1)"
   ]
  },
  {
   "cell_type": "code",
   "execution_count": null,
   "metadata": {
    "dotnet_repl_cellExecutionStartTime": "2023-07-29T04:41:47.0493542-03:00",
    "dotnet_repl_cellExecutionEndTime": "2023-07-29T04:41:47.1297126-03:00",
    "dotnet_repl_cellExecutionTime": "80.3657ms",
    "dotnet_interactive": {
     "language": "fsharp"
    },
    "polyglot_notebook": {
     "kernelName": "fsharp"
    }
   },
   "outputs": [
    {
     "name": "stdout",
     "output_type": "stream",
     "text": [
      "04:41:47 #2 [Warn] retryFn / retry: 0 / ex: System.Exception: test\r\n",
      "04:41:47 #3 [Warn] retryFn / retry: 1 / ex: System.Exception: test\r\n",
      "04:41:47 #4 [Warn] retryFn / retry: 2 / ex: System.Exception: test\r\n",
      "<null>\r\n"
     ]
    }
   ],
   "source": [
    "//// test\n",
    "\n",
    "fun () -> failwith \"test\"\n",
    "|> retryFn 3\n",
    "|> _equal None"
   ]
  },
  {
   "cell_type": "code",
   "execution_count": null,
   "metadata": {
    "dotnet_repl_cellExecutionStartTime": "2023-07-29T04:41:47.1297785-03:00",
    "dotnet_repl_cellExecutionEndTime": "2023-07-29T04:41:47.193432-03:00",
    "dotnet_repl_cellExecutionTime": "63.6588ms",
    "dotnet_interactive": {
     "language": "fsharp"
    },
    "polyglot_notebook": {
     "kernelName": "fsharp"
    }
   },
   "outputs": [
    {
     "name": "stdout",
     "output_type": "stream",
     "text": [
      "04:41:47 #5 [Warn] retryFn / retry: 0 / ex: System.Exception: test\r\n",
      "04:41:47 #6 [Warn] retryFn / retry: 1 / ex: System.Exception: test\r\n",
      "FSharpOption<Int32>\r\n",
      "      Value: 2\r\n"
     ]
    }
   ],
   "source": [
    "//// test\n",
    "\n",
    "let mutable retryFnTest = 0\n",
    "fun () ->\n",
    "    if retryFnTest >= 2\n",
    "    then retryFnTest\n",
    "    else\n",
    "        retryFnTest <- retryFnTest + 1\n",
    "        failwith \"test\"\n",
    "|> retryFn 3\n",
    "|> _equal (Some 2)"
   ]
  }
 ],
 "metadata": {
  "kernelspec": {
   "display_name": ".NET (C#)",
   "language": "C#",
   "name": ".net-csharp"
  },
  "language_info": {
   "file_extension": ".cs",
   "mimetype": "text/x-csharp",
   "name": "C#",
   "pygments_lexer": "csharp",
   "version": "10.0"
  },
  "polyglot_notebook": {
   "defaultKernelName": "csharp",
   "items": [
    {
     "name": "csharp"
    }
   ]
  },
  "dotnet_interactive": {
   "defaultKernelName": "csharp",
   "items": [
    {
     "name": "csharp"
    }
   ]
  }
 },
 "nbformat": 4,
 "nbformat_minor": 5
}