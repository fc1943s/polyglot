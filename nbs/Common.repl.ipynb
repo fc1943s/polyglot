{
 "cells": [
  {
   "cell_type": "markdown",
   "metadata": {
    "dotnet_repl_cellExecutionStartTime": "2023-07-18T03:01:24.2424426-03:00",
    "dotnet_repl_cellExecutionEndTime": "2023-07-18T03:01:24.4064149-03:00",
    "dotnet_repl_cellExecutionTime": "164.1376ms"
   },
   "source": [
    "# Common (Polyglot)"
   ]
  },
  {
   "cell_type": "code",
   "execution_count": null,
   "metadata": {
    "dotnet_repl_cellExecutionStartTime": "2023-07-18T03:01:24.4091487-03:00",
    "dotnet_repl_cellExecutionEndTime": "2023-07-18T03:01:34.7020191-03:00",
    "dotnet_repl_cellExecutionTime": "10.2928726s",
    "dotnet_interactive": {
     "language": "fsharp"
    },
    "polyglot_notebook": {
     "kernelName": "fsharp"
    }
   },
   "outputs": [
    {
     "data": {
      "text/html": [
       "<div><div></div><div><strong>Installing Packages</strong><ul><li><span>Expecto</span></li></ul></div><div></div></div>"
      ]
     },
     "metadata": {},
     "output_type": "display_data"
    },
    {
     "data": {
      "text/html": [
       "<div><div></div><div><strong>Installing Packages</strong><ul><li><span>Expecto.</span></li></ul></div><div></div></div>"
      ]
     },
     "metadata": {},
     "output_type": "display_data"
    },
    {
     "data": {
      "text/html": [
       "<div><div></div><div><strong>Installing Packages</strong><ul><li><span>Expecto..</span></li></ul></div><div></div></div>"
      ]
     },
     "metadata": {},
     "output_type": "display_data"
    },
    {
     "data": {
      "text/html": [
       "<div><div></div><div><strong>Installing Packages</strong><ul><li><span>Expecto...</span></li></ul></div><div></div></div>"
      ]
     },
     "metadata": {},
     "output_type": "display_data"
    },
    {
     "data": {
      "text/html": [
       "<div><div></div><div><strong>Installing Packages</strong><ul><li><span>Expecto....</span></li></ul></div><div></div></div>"
      ]
     },
     "metadata": {},
     "output_type": "display_data"
    },
    {
     "data": {
      "text/html": [
       "<div><div></div><div><strong>Installing Packages</strong><ul><li><span>Expecto.....</span></li></ul></div><div></div></div>"
      ]
     },
     "metadata": {},
     "output_type": "display_data"
    },
    {
     "data": {
      "text/html": [
       "<div><div></div><div><strong>Installing Packages</strong><ul><li><span>Expecto......</span></li></ul></div><div></div></div>"
      ]
     },
     "metadata": {},
     "output_type": "display_data"
    },
    {
     "data": {
      "text/html": [
       "<div><div></div><div><strong>Installing Packages</strong><ul><li><span>Expecto.......</span></li></ul></div><div></div></div>"
      ]
     },
     "metadata": {},
     "output_type": "display_data"
    },
    {
     "data": {
      "text/html": [
       "<div><div></div><div></div><div><strong>Installed Packages</strong><ul><li><span>Expecto, 10.1.0</span></li></ul></div></div>"
      ]
     },
     "metadata": {},
     "output_type": "display_data"
    }
   ],
   "source": [
    "#!import ../nbs/Testing.dib"
   ]
  },
  {
   "cell_type": "code",
   "execution_count": null,
   "metadata": {
    "dotnet_repl_cellExecutionStartTime": "2023-07-18T03:01:34.702148-03:00",
    "dotnet_repl_cellExecutionEndTime": "2023-07-18T03:01:34.7142658-03:00",
    "dotnet_repl_cellExecutionTime": "12.1196ms",
    "dotnet_interactive": {
     "language": "fsharp"
    },
    "polyglot_notebook": {
     "kernelName": "fsharp"
    }
   },
   "outputs": [],
   "source": [
    "let nl = System.Environment.NewLine"
   ]
  },
  {
   "cell_type": "code",
   "execution_count": null,
   "metadata": {
    "dotnet_repl_cellExecutionStartTime": "2023-07-18T03:01:34.7143098-03:00",
    "dotnet_repl_cellExecutionEndTime": "2023-07-18T03:01:34.7333176-03:00",
    "dotnet_repl_cellExecutionTime": "19.0098ms",
    "dotnet_interactive": {
     "language": "fsharp"
    },
    "polyglot_notebook": {
     "kernelName": "fsharp"
    }
   },
   "outputs": [],
   "source": [
    "module String =\n",
    "    let trim (input : string) =\n",
    "        input.Trim ()"
   ]
  },
  {
   "cell_type": "code",
   "execution_count": null,
   "metadata": {
    "dotnet_repl_cellExecutionStartTime": "2023-07-18T03:01:34.7333489-03:00",
    "dotnet_repl_cellExecutionEndTime": "2023-07-18T03:01:34.75915-03:00",
    "dotnet_repl_cellExecutionTime": "25.803ms",
    "dotnet_interactive": {
     "language": "fsharp"
    },
    "polyglot_notebook": {
     "kernelName": "fsharp"
    }
   },
   "outputs": [],
   "source": [
    "type TicksGuid = System.Guid\n",
    "type DateTimeGuid = System.Guid"
   ]
  },
  {
   "cell_type": "code",
   "execution_count": null,
   "metadata": {
    "dotnet_repl_cellExecutionStartTime": "2023-07-18T03:01:34.7591883-03:00",
    "dotnet_repl_cellExecutionEndTime": "2023-07-18T03:01:34.7705208-03:00",
    "dotnet_repl_cellExecutionTime": "11.3344ms",
    "dotnet_interactive": {
     "language": "fsharp"
    },
    "polyglot_notebook": {
     "kernelName": "fsharp"
    }
   },
   "outputs": [],
   "source": [
    "//// test\n",
    "\n",
    "let testGuid = Guid \"FEDCBA98-7654-3210-FEDC-BA9876543210\""
   ]
  },
  {
   "cell_type": "code",
   "execution_count": null,
   "metadata": {
    "dotnet_repl_cellExecutionStartTime": "2023-07-18T03:01:34.7705531-03:00",
    "dotnet_repl_cellExecutionEndTime": "2023-07-18T03:01:34.8470858-03:00",
    "dotnet_repl_cellExecutionTime": "76.5346ms",
    "dotnet_interactive": {
     "language": "fsharp"
    },
    "polyglot_notebook": {
     "kernelName": "fsharp"
    }
   },
   "outputs": [],
   "source": [
    "let inline dateTimeGuidFromDateTime (guid: System.Guid) (dateTime: System.DateTime) =\n",
    "    let guid = guid |> string\n",
    "    let prefix = dateTime.ToString \"yyyyMMdd-HHmm-ssff-ffff-f\"\n",
    "    DateTimeGuid $\"{prefix}{guid.[prefix.Length..]}\""
   ]
  },
  {
   "cell_type": "code",
   "execution_count": null,
   "metadata": {
    "dotnet_repl_cellExecutionStartTime": "2023-07-18T03:01:34.8471176-03:00",
    "dotnet_repl_cellExecutionEndTime": "2023-07-18T03:01:34.9024265-03:00",
    "dotnet_repl_cellExecutionTime": "55.3103ms",
    "dotnet_interactive": {
     "language": "fsharp"
    },
    "polyglot_notebook": {
     "kernelName": "fsharp"
    }
   },
   "outputs": [
    {
     "name": "stdout",
     "output_type": "stream",
     "text": [
      "00010101-0000-0000-0000-0a9876543210\r\n"
     ]
    }
   ],
   "source": [
    "//// test\n",
    "\n",
    "dateTimeGuidFromDateTime testGuid DateTime.MinValue\n",
    "|> _equal (DateTimeGuid \"00010101-0000-0000-0000-0a9876543210\")"
   ]
  },
  {
   "cell_type": "code",
   "execution_count": null,
   "metadata": {
    "dotnet_repl_cellExecutionStartTime": "2023-07-18T03:01:34.9024589-03:00",
    "dotnet_repl_cellExecutionEndTime": "2023-07-18T03:01:34.9514743-03:00",
    "dotnet_repl_cellExecutionTime": "49.0172ms",
    "dotnet_interactive": {
     "language": "fsharp"
    },
    "polyglot_notebook": {
     "kernelName": "fsharp"
    }
   },
   "outputs": [
    {
     "name": "stdout",
     "output_type": "stream",
     "text": [
      "99991231-2359-5999-9999-9a9876543210\r\n"
     ]
    }
   ],
   "source": [
    "//// test\n",
    "\n",
    "dateTimeGuidFromDateTime testGuid DateTime.MaxValue\n",
    "|> _equal (DateTimeGuid $\"99991231-2359-5999-9999-9{(testGuid |> string).[^10..]}\")"
   ]
  },
  {
   "cell_type": "code",
   "execution_count": null,
   "metadata": {
    "dotnet_repl_cellExecutionStartTime": "2023-07-18T03:01:34.9515097-03:00",
    "dotnet_repl_cellExecutionEndTime": "2023-07-18T03:01:34.9939101-03:00",
    "dotnet_repl_cellExecutionTime": "42.4022ms",
    "dotnet_interactive": {
     "language": "fsharp"
    },
    "polyglot_notebook": {
     "kernelName": "fsharp"
    }
   },
   "outputs": [
    {
     "name": "stdout",
     "output_type": "stream",
     "text": [
      "19700101-0000-0000-0000-0a9876543210\r\n"
     ]
    }
   ],
   "source": [
    "//// test\n",
    "\n",
    "dateTimeGuidFromDateTime testGuid DateTime.UnixEpoch\n",
    "|> _equal (DateTimeGuid $\"19700101-0000-0000-0000-0{(testGuid |> string).[^10..]}\")"
   ]
  },
  {
   "cell_type": "code",
   "execution_count": null,
   "metadata": {
    "dotnet_repl_cellExecutionStartTime": "2023-07-18T03:01:34.9939414-03:00",
    "dotnet_repl_cellExecutionEndTime": "2023-07-18T03:01:35.0668438-03:00",
    "dotnet_repl_cellExecutionTime": "72.9041ms",
    "dotnet_interactive": {
     "language": "fsharp"
    },
    "polyglot_notebook": {
     "kernelName": "fsharp"
    }
   },
   "outputs": [],
   "source": [
    "let inline dateTimeFromGuid (dateTimeGuid: DateTimeGuid) =\n",
    "    let dateTimeGuid = dateTimeGuid |> string\n",
    "    System.DateTime.ParseExact (dateTimeGuid.[..24].Replace (\"-\", \"\"), \"yyyyMMddHHmmssfffffff\", null)"
   ]
  },
  {
   "cell_type": "code",
   "execution_count": null,
   "metadata": {
    "dotnet_repl_cellExecutionStartTime": "2023-07-18T03:01:35.0668753-03:00",
    "dotnet_repl_cellExecutionEndTime": "2023-07-18T03:01:35.0923487-03:00",
    "dotnet_repl_cellExecutionTime": "25.4753ms",
    "dotnet_interactive": {
     "language": "fsharp"
    },
    "polyglot_notebook": {
     "kernelName": "fsharp"
    }
   },
   "outputs": [
    {
     "name": "stdout",
     "output_type": "stream",
     "text": [
      "0001-01-01 00:00:00Z\r\n"
     ]
    }
   ],
   "source": [
    "//// test\n",
    "\n",
    "dateTimeFromGuid (DateTimeGuid \"00010101-0000-0000-0000-0a9876543210\")\n",
    "|> _equal DateTime.MinValue"
   ]
  },
  {
   "cell_type": "code",
   "execution_count": null,
   "metadata": {
    "dotnet_repl_cellExecutionStartTime": "2023-07-18T03:01:35.0923819-03:00",
    "dotnet_repl_cellExecutionEndTime": "2023-07-18T03:01:35.1343293-03:00",
    "dotnet_repl_cellExecutionTime": "41.9488ms",
    "dotnet_interactive": {
     "language": "fsharp"
    },
    "polyglot_notebook": {
     "kernelName": "fsharp"
    }
   },
   "outputs": [
    {
     "name": "stdout",
     "output_type": "stream",
     "text": [
      "9999-12-31 23:59:59Z\r\n"
     ]
    }
   ],
   "source": [
    "//// test\n",
    "\n",
    "dateTimeFromGuid (DateTimeGuid $\"99991231-2359-5999-9999-9{(testGuid |> string).[^10..]}\")\n",
    "|> _equal DateTime.MaxValue"
   ]
  },
  {
   "cell_type": "code",
   "execution_count": null,
   "metadata": {
    "dotnet_repl_cellExecutionStartTime": "2023-07-18T03:01:35.1343611-03:00",
    "dotnet_repl_cellExecutionEndTime": "2023-07-18T03:01:35.1707924-03:00",
    "dotnet_repl_cellExecutionTime": "36.4333ms",
    "dotnet_interactive": {
     "language": "fsharp"
    },
    "polyglot_notebook": {
     "kernelName": "fsharp"
    }
   },
   "outputs": [
    {
     "name": "stdout",
     "output_type": "stream",
     "text": [
      "1970-01-01 00:00:00Z\r\n"
     ]
    }
   ],
   "source": [
    "//// test\n",
    "\n",
    "dateTimeFromGuid (DateTimeGuid $\"19700101-0000-0000-0000-0{(testGuid |> string).[^10..]}\")\n",
    "|> _equal DateTime.UnixEpoch"
   ]
  },
  {
   "cell_type": "code",
   "execution_count": null,
   "metadata": {
    "dotnet_repl_cellExecutionStartTime": "2023-07-18T03:01:35.1708269-03:00",
    "dotnet_repl_cellExecutionEndTime": "2023-07-18T03:01:35.1955082-03:00",
    "dotnet_repl_cellExecutionTime": "24.6832ms",
    "dotnet_interactive": {
     "language": "fsharp"
    },
    "polyglot_notebook": {
     "kernelName": "fsharp"
    }
   },
   "outputs": [],
   "source": [
    "let inline ticksGuidFromTicks (guid: System.Guid) (ticks: int64) =\n",
    "    let guid = guid |> string\n",
    "    let ticks = (ticks |> string).PadLeft (18, '0')\n",
    "    TicksGuid $\"{ticks.[0..7]}-{ticks.[8..11]}-{ticks.[12..15]}-{ticks.[16..17]}{guid.[21..]}\""
   ]
  },
  {
   "cell_type": "code",
   "execution_count": null,
   "metadata": {
    "dotnet_repl_cellExecutionStartTime": "2023-07-18T03:01:35.1955389-03:00",
    "dotnet_repl_cellExecutionEndTime": "2023-07-18T03:01:35.2331858-03:00",
    "dotnet_repl_cellExecutionTime": "37.6488ms",
    "dotnet_interactive": {
     "language": "fsharp"
    },
    "polyglot_notebook": {
     "kernelName": "fsharp"
    }
   },
   "outputs": [
    {
     "name": "stdout",
     "output_type": "stream",
     "text": [
      "00000000-0000-0000-00dc-ba9876543210\r\n"
     ]
    }
   ],
   "source": [
    "//// test\n",
    "\n",
    "ticksGuidFromTicks testGuid 0L\n",
    "|> _equal (TicksGuid \"00000000-0000-0000-00dc-ba9876543210\")"
   ]
  },
  {
   "cell_type": "code",
   "execution_count": null,
   "metadata": {
    "dotnet_repl_cellExecutionStartTime": "2023-07-18T03:01:35.2332168-03:00",
    "dotnet_repl_cellExecutionEndTime": "2023-07-18T03:01:35.2914229-03:00",
    "dotnet_repl_cellExecutionTime": "58.2077ms",
    "dotnet_interactive": {
     "language": "fsharp"
    },
    "polyglot_notebook": {
     "kernelName": "fsharp"
    }
   },
   "outputs": [
    {
     "name": "stdout",
     "output_type": "stream",
     "text": [
      "99999999-9999-9999-99dc-ba9876543210\r\n"
     ]
    }
   ],
   "source": [
    "//// test\n",
    "\n",
    "ticksGuidFromTicks testGuid 999999999999999999L\n",
    "|> _equal (TicksGuid $\"99999999-9999-9999-99dc-b{(testGuid |> string).[^10..]}\")"
   ]
  },
  {
   "cell_type": "code",
   "execution_count": null,
   "metadata": {
    "dotnet_repl_cellExecutionStartTime": "2023-07-18T03:01:35.2914548-03:00",
    "dotnet_repl_cellExecutionEndTime": "2023-07-18T03:01:35.358098-03:00",
    "dotnet_repl_cellExecutionTime": "66.6451ms",
    "dotnet_interactive": {
     "language": "fsharp"
    },
    "polyglot_notebook": {
     "kernelName": "fsharp"
    }
   },
   "outputs": [],
   "source": [
    "let inline ticksFromGuid (ticksGuid: DateTimeGuid) =\n",
    "    let ticks = ticksGuid |> string\n",
    "    int64 $\"{ticks.[0..7]}{ticks.[9..12]}{ticks.[14..17]}{ticks.[19..20]}\""
   ]
  },
  {
   "cell_type": "code",
   "execution_count": null,
   "metadata": {
    "dotnet_repl_cellExecutionStartTime": "2023-07-18T03:01:35.3581327-03:00",
    "dotnet_repl_cellExecutionEndTime": "2023-07-18T03:01:35.3926474-03:00",
    "dotnet_repl_cellExecutionTime": "34.5163ms",
    "dotnet_interactive": {
     "language": "fsharp"
    },
    "polyglot_notebook": {
     "kernelName": "fsharp"
    }
   },
   "outputs": [
    {
     "name": "stdout",
     "output_type": "stream",
     "text": [
      "0\r\n"
     ]
    }
   ],
   "source": [
    "//// test\n",
    "\n",
    "ticksFromGuid (TicksGuid \"00000000-0000-0000-00dc-ba9876543210\")\n",
    "|> _equal 0L"
   ]
  },
  {
   "cell_type": "code",
   "execution_count": null,
   "metadata": {
    "dotnet_repl_cellExecutionStartTime": "2023-07-18T03:01:35.3926949-03:00",
    "dotnet_repl_cellExecutionEndTime": "2023-07-18T03:01:35.4485623-03:00",
    "dotnet_repl_cellExecutionTime": "55.8691ms",
    "dotnet_interactive": {
     "language": "fsharp"
    },
    "polyglot_notebook": {
     "kernelName": "fsharp"
    }
   },
   "outputs": [
    {
     "name": "stdout",
     "output_type": "stream",
     "text": [
      "999999999999999999\r\n"
     ]
    }
   ],
   "source": [
    "//// test\n",
    "\n",
    "ticksFromGuid (TicksGuid $\"99999999-9999-9999-99{(testGuid |> string).[^14..]}\")\n",
    "|> _equal 999999999999999999L"
   ]
  },
  {
   "cell_type": "code",
   "execution_count": null,
   "metadata": {
    "dotnet_repl_cellExecutionStartTime": "2023-07-18T03:01:35.4485947-03:00",
    "dotnet_repl_cellExecutionEndTime": "2023-07-18T03:01:35.4604058-03:00",
    "dotnet_repl_cellExecutionTime": "11.814ms",
    "dotnet_interactive": {
     "language": "fsharp"
    },
    "polyglot_notebook": {
     "kernelName": "fsharp"
    }
   },
   "outputs": [],
   "source": [
    "let inline newGuidFromDateTime (dateTime: System.DateTime) =\n",
    "    let guid = System.Guid.NewGuid ()\n",
    "    dateTimeGuidFromDateTime guid dateTime"
   ]
  },
  {
   "cell_type": "code",
   "execution_count": null,
   "metadata": {
    "dotnet_repl_cellExecutionStartTime": "2023-07-18T03:01:35.4604438-03:00",
    "dotnet_repl_cellExecutionEndTime": "2023-07-18T03:01:35.5300785-03:00",
    "dotnet_repl_cellExecutionTime": "69.6361ms",
    "dotnet_interactive": {
     "language": "fsharp"
    },
    "polyglot_notebook": {
     "kernelName": "fsharp"
    }
   },
   "outputs": [
    {
     "name": "stdout",
     "output_type": "stream",
     "text": [
      "0\r\n"
     ]
    }
   ],
   "source": [
    "//// test\n",
    "\n",
    "newGuidFromDateTime System.DateTime.UtcNow\n",
    "|> dateTimeFromGuid\n",
    "|> fun dateTime -> (dateTime - System.DateTime.UtcNow).TotalSeconds |> int\n",
    "|> _equal 0"
   ]
  },
  {
   "cell_type": "code",
   "execution_count": null,
   "metadata": {
    "dotnet_repl_cellExecutionStartTime": "2023-07-18T03:01:35.5301122-03:00",
    "dotnet_repl_cellExecutionEndTime": "2023-07-18T03:01:35.5424996-03:00",
    "dotnet_repl_cellExecutionTime": "12.3893ms",
    "dotnet_interactive": {
     "language": "fsharp"
    },
    "polyglot_notebook": {
     "kernelName": "fsharp"
    }
   },
   "outputs": [],
   "source": [
    "let inline newGuidFromTicks (ticks: int64) =\n",
    "    let guid = System.Guid.NewGuid ()\n",
    "    ticksGuidFromTicks guid ticks"
   ]
  },
  {
   "cell_type": "code",
   "execution_count": null,
   "metadata": {
    "dotnet_repl_cellExecutionStartTime": "2023-07-18T03:01:35.5425295-03:00",
    "dotnet_repl_cellExecutionEndTime": "2023-07-18T03:01:35.6059478-03:00",
    "dotnet_repl_cellExecutionTime": "63.4199ms",
    "dotnet_interactive": {
     "language": "fsharp"
    },
    "polyglot_notebook": {
     "kernelName": "fsharp"
    }
   },
   "outputs": [
    {
     "name": "stdout",
     "output_type": "stream",
     "text": [
      "0\r\n"
     ]
    }
   ],
   "source": [
    "//// test\n",
    "\n",
    "newGuidFromTicks System.DateTime.UtcNow.Ticks\n",
    "|> ticksFromGuid\n",
    "|> fun ticks -> (ticks - System.DateTime.UtcNow.Ticks) / 100000L\n",
    "|> _equal 0L"
   ]
  },
  {
   "cell_type": "code",
   "execution_count": null,
   "metadata": {
    "dotnet_repl_cellExecutionStartTime": "2023-07-18T03:01:35.6059869-03:00",
    "dotnet_repl_cellExecutionEndTime": "2023-07-18T03:01:35.6262022-03:00",
    "dotnet_repl_cellExecutionTime": "20.217ms",
    "dotnet_interactive": {
     "language": "fsharp"
    },
    "polyglot_notebook": {
     "kernelName": "fsharp"
    }
   },
   "outputs": [],
   "source": [
    "let inline (</>) a b = System.IO.Path.Combine (a, b)"
   ]
  },
  {
   "cell_type": "code",
   "execution_count": null,
   "metadata": {
    "dotnet_repl_cellExecutionStartTime": "2023-07-18T03:01:35.6262332-03:00",
    "dotnet_repl_cellExecutionEndTime": "2023-07-18T03:01:35.8237753-03:00",
    "dotnet_repl_cellExecutionTime": "197.5439ms",
    "dotnet_interactive": {
     "language": "fsharp"
    },
    "polyglot_notebook": {
     "kernelName": "fsharp"
    }
   },
   "outputs": [],
   "source": [
    "type TraceLevel =\n",
    "    | Verbose\n",
    "    | Debug\n",
    "    | Info\n",
    "    | Warn\n",
    "    | Error\n",
    "\n",
    "let inline getLocals () = \"\"\n",
    "\n",
    "let mutable traceEnabled = true\n",
    "let mutable traceCount = 0\n",
    "let mutable traceLevel = Verbose\n",
    "\n",
    "\n",
    "let trace level fn getLocals =\n",
    "    if traceEnabled && level >= traceLevel then\n",
    "        traceCount <- traceCount + 1\n",
    "        let time = System.DateTime.Now.ToString \"HH:mm:ss\"\n",
    "        System.Console.WriteLine ($\"{time} #{traceCount} [{level}] {fn ()} / {getLocals ()}\".TrimEnd [| ' '; '/' |])\n",
    "\n",
    "let withTrace enabled fn =\n",
    "    let oldTraceEnabled = traceEnabled\n",
    "    try\n",
    "        traceEnabled <- enabled\n",
    "        fn ()\n",
    "    finally\n",
    "        traceEnabled <- oldTraceEnabled\n",
    "\n",
    "let withTraceEnabled fn =\n",
    "    withTrace true fn\n",
    "\n",
    "let withTraceDisabled fn =\n",
    "    withTrace false fn\n",
    "\n",
    "let withTraceLevel level fn =\n",
    "    let oldTraceLevel = traceLevel\n",
    "    try\n",
    "        traceLevel <- level\n",
    "        fn ()\n",
    "    finally\n",
    "        traceLevel <- oldTraceLevel"
   ]
  },
  {
   "cell_type": "code",
   "execution_count": null,
   "metadata": {
    "dotnet_repl_cellExecutionStartTime": "2023-07-18T03:01:35.8238066-03:00",
    "dotnet_repl_cellExecutionEndTime": "2023-07-18T03:01:35.8678609-03:00",
    "dotnet_repl_cellExecutionTime": "44.0561ms",
    "dotnet_interactive": {
     "language": "fsharp"
    },
    "polyglot_notebook": {
     "kernelName": "fsharp"
    }
   },
   "outputs": [
    {
     "name": "stdout",
     "output_type": "stream",
     "text": [
      "03:01:35 #1 [Debug] test\r\n"
     ]
    }
   ],
   "source": [
    "//// test\n",
    "\n",
    "trace Debug (fun () -> \"test\") getLocals"
   ]
  },
  {
   "cell_type": "code",
   "execution_count": null,
   "metadata": {
    "dotnet_repl_cellExecutionStartTime": "2023-07-18T03:01:35.8679024-03:00",
    "dotnet_repl_cellExecutionEndTime": "2023-07-18T03:01:35.8959143-03:00",
    "dotnet_repl_cellExecutionTime": "28.014ms",
    "dotnet_interactive": {
     "language": "fsharp"
    },
    "polyglot_notebook": {
     "kernelName": "fsharp"
    }
   },
   "outputs": [],
   "source": [
    "module OS =\n",
    "    let isWindows () =\n",
    "        System.Runtime.InteropServices.RuntimeInformation.IsOSPlatform System.Runtime.InteropServices.OSPlatform.Windows"
   ]
  },
  {
   "cell_type": "code",
   "execution_count": null,
   "metadata": {
    "dotnet_repl_cellExecutionStartTime": "2023-07-18T03:01:35.8959488-03:00",
    "dotnet_repl_cellExecutionEndTime": "2023-07-18T03:01:35.9410893-03:00",
    "dotnet_repl_cellExecutionTime": "45.1425ms",
    "dotnet_interactive": {
     "language": "fsharp"
    },
    "polyglot_notebook": {
     "kernelName": "fsharp"
    }
   },
   "outputs": [
    {
     "data": {
      "text/html": [
       "<div class=\"dni-plaintext\"><pre>True</pre></div><style>\r\n",
       ".dni-code-hint {\r\n",
       "    font-style: italic;\r\n",
       "    overflow: hidden;\r\n",
       "    white-space: nowrap;\r\n",
       "}\r\n",
       ".dni-treeview {\r\n",
       "    white-space: nowrap;\r\n",
       "}\r\n",
       ".dni-treeview td {\r\n",
       "    vertical-align: top;\r\n",
       "    text-align: start;\r\n",
       "}\r\n",
       "details.dni-treeview {\r\n",
       "    padding-left: 1em;\r\n",
       "}\r\n",
       "table td {\r\n",
       "    text-align: start;\r\n",
       "}\r\n",
       "table tr { \r\n",
       "    vertical-align: top; \r\n",
       "    margin: 0em 0px;\r\n",
       "}\r\n",
       "table tr td pre \r\n",
       "{ \r\n",
       "    vertical-align: top !important; \r\n",
       "    margin: 0em 0px !important;\r\n",
       "} \r\n",
       "table th {\r\n",
       "    text-align: start;\r\n",
       "}\r\n",
       "</style>"
      ]
     },
     "metadata": {},
     "output_type": "display_data"
    }
   ],
   "source": [
    "//// test\n",
    "\n",
    "OS.isWindows ()"
   ]
  },
  {
   "cell_type": "code",
   "execution_count": null,
   "metadata": {
    "dotnet_repl_cellExecutionStartTime": "2023-07-18T03:01:35.9411221-03:00",
    "dotnet_repl_cellExecutionEndTime": "2023-07-18T03:01:35.9922783-03:00",
    "dotnet_repl_cellExecutionTime": "51.1579ms",
    "dotnet_interactive": {
     "language": "fsharp"
    },
    "polyglot_notebook": {
     "kernelName": "fsharp"
    }
   },
   "outputs": [],
   "source": [
    "module Object =\n",
    "    let inline newDisposable fn =\n",
    "        { new System.IDisposable with\n",
    "            member _.Dispose () = fn ()\n",
    "        }"
   ]
  },
  {
   "cell_type": "code",
   "execution_count": null,
   "metadata": {
    "dotnet_repl_cellExecutionStartTime": "2023-07-18T03:01:35.9923156-03:00",
    "dotnet_repl_cellExecutionEndTime": "2023-07-18T03:01:36.0085797-03:00",
    "dotnet_repl_cellExecutionTime": "16.2653ms",
    "dotnet_interactive": {
     "language": "fsharp"
    },
    "polyglot_notebook": {
     "kernelName": "fsharp"
    }
   },
   "outputs": [
    {
     "name": "stdout",
     "output_type": "stream",
     "text": [
      "1\r\n"
     ]
    }
   ],
   "source": [
    "//// test\n",
    "\n",
    "let mutable newDisposableTest = 0\n",
    "Object.newDisposable (fun () -> newDisposableTest <- newDisposableTest + 1)\n",
    "|> fun x -> x.Dispose ()\n",
    "newDisposableTest |> _equal 1"
   ]
  },
  {
   "cell_type": "code",
   "execution_count": null,
   "metadata": {
    "dotnet_repl_cellExecutionStartTime": "2023-07-18T03:01:36.0086159-03:00",
    "dotnet_repl_cellExecutionEndTime": "2023-07-18T03:01:36.1559535-03:00",
    "dotnet_repl_cellExecutionTime": "147.3391ms",
    "dotnet_interactive": {
     "language": "fsharp"
    },
    "polyglot_notebook": {
     "kernelName": "fsharp"
    }
   },
   "outputs": [
    {
     "name": "stdout",
     "output_type": "stream",
     "text": [
      "1\r\n"
     ]
    }
   ],
   "source": [
    "//// test\n",
    "\n",
    "let mutable newDisposableTest = 0\n",
    "fun () -> task {\n",
    "    use x = Object.newDisposable (fun () -> newDisposableTest <- newDisposableTest + 1)\n",
    "    ()\n",
    "}\n",
    "|> fun x -> x () |> Async.AwaitTask |> Async.RunSynchronously\n",
    "newDisposableTest |> _equal 1"
   ]
  },
  {
   "cell_type": "code",
   "execution_count": null,
   "metadata": {
    "dotnet_repl_cellExecutionStartTime": "2023-07-18T03:01:36.1559936-03:00",
    "dotnet_repl_cellExecutionEndTime": "2023-07-18T03:01:36.2062288-03:00",
    "dotnet_repl_cellExecutionTime": "50.2366ms",
    "dotnet_interactive": {
     "language": "fsharp"
    },
    "polyglot_notebook": {
     "kernelName": "fsharp"
    }
   },
   "outputs": [
    {
     "name": "stdout",
     "output_type": "stream",
     "text": [
      "1\r\n"
     ]
    }
   ],
   "source": [
    "//// test\n",
    "\n",
    "let mutable newDisposableTest = 0\n",
    "async {\n",
    "    use x = Object.newDisposable (fun () -> newDisposableTest <- newDisposableTest + 1)\n",
    "    ()\n",
    "}\n",
    "|> Async.RunSynchronously\n",
    "newDisposableTest |> _equal 1"
   ]
  },
  {
   "cell_type": "code",
   "execution_count": null,
   "metadata": {
    "dotnet_repl_cellExecutionStartTime": "2023-07-18T03:01:36.206261-03:00",
    "dotnet_repl_cellExecutionEndTime": "2023-07-18T03:01:36.2341496-03:00",
    "dotnet_repl_cellExecutionTime": "27.8928ms",
    "dotnet_interactive": {
     "language": "fsharp"
    },
    "polyglot_notebook": {
     "kernelName": "fsharp"
    }
   },
   "outputs": [
    {
     "name": "stdout",
     "output_type": "stream",
     "text": [
      "0\r\n"
     ]
    }
   ],
   "source": [
    "//// test\n",
    "\n",
    "let mutable newDisposableTest = 0\n",
    "async {\n",
    "    let x = Object.newDisposable (fun () -> newDisposableTest <- newDisposableTest + 1)\n",
    "    ()\n",
    "}\n",
    "|> Async.RunSynchronously\n",
    "newDisposableTest |> _equal 0"
   ]
  }
 ],
 "metadata": {
  "kernelspec": {
   "display_name": ".NET (C#)",
   "language": "C#",
   "name": ".net-csharp"
  },
  "language_info": {
   "file_extension": ".cs",
   "mimetype": "text/x-csharp",
   "name": "C#",
   "pygments_lexer": "csharp",
   "version": "10.0"
  },
  "polyglot_notebook": {
   "defaultKernelName": "csharp",
   "items": [
    {
     "name": "csharp"
    }
   ]
  },
  "dotnet_interactive": {
   "defaultKernelName": "csharp",
   "items": [
    {
     "name": "csharp"
    }
   ]
  }
 },
 "nbformat": 4,
 "nbformat_minor": 5
}