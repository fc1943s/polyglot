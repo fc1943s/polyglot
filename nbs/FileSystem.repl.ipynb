{
 "cells": [
  {
   "cell_type": "markdown",
   "metadata": {
    "dotnet_repl_cellExecutionStartTime": "2023-07-25T16:03:22.8837928-03:00",
    "dotnet_repl_cellExecutionEndTime": "2023-07-25T16:03:22.9386931-03:00",
    "dotnet_repl_cellExecutionTime": "55.0332ms"
   },
   "source": [
    "# FileSystem (Polyglot)"
   ]
  },
  {
   "cell_type": "code",
   "execution_count": null,
   "metadata": {
    "dotnet_repl_cellExecutionStartTime": "2023-07-25T16:03:22.9418085-03:00",
    "dotnet_repl_cellExecutionEndTime": "2023-07-25T16:03:27.83785-03:00",
    "dotnet_repl_cellExecutionTime": "4.896045s",
    "dotnet_interactive": {
     "language": "fsharp"
    },
    "polyglot_notebook": {
     "kernelName": "fsharp"
    }
   },
   "outputs": [],
   "source": [
    "#!import ../nbs/Testing.dib"
   ]
  },
  {
   "cell_type": "code",
   "execution_count": null,
   "metadata": {
    "dotnet_repl_cellExecutionStartTime": "2023-07-25T16:03:27.83792-03:00",
    "dotnet_repl_cellExecutionEndTime": "2023-07-25T16:03:27.8587323-03:00",
    "dotnet_repl_cellExecutionTime": "20.8141ms",
    "dotnet_interactive": {
     "language": "fsharp"
    },
    "polyglot_notebook": {
     "kernelName": "fsharp"
    }
   },
   "outputs": [],
   "source": [
    "// #r \"nuget:FSharp.Control.AsyncSeq,3.2.1\"\n",
    "// #r \"nuget:System.Reactive,5.0.0\"\n",
    "// #r \"nuget:System.Reactive.Linq,6.0.0-preview.1\"\n",
    "\n",
    "#r @\"../../../../../../../.nuget/packages/fsharp.control.asyncseq/3.2.1/lib/netstandard2.1/FSharp.Control.AsyncSeq.dll\"\n",
    "#r @\"../../../../../../../.nuget/packages/system.reactive/5.0.0/lib/net5.0/System.Reactive.dll\"\n",
    "#r @\"../../../../../../../.nuget/packages/system.reactive.linq/6.0.1-preview.1/lib/netstandard2.0/System.Reactive.Linq.dll\""
   ]
  },
  {
   "cell_type": "code",
   "execution_count": null,
   "metadata": {
    "dotnet_repl_cellExecutionStartTime": "2023-07-25T16:03:27.8587692-03:00",
    "dotnet_repl_cellExecutionEndTime": "2023-07-25T16:03:28.9410588-03:00",
    "dotnet_repl_cellExecutionTime": "1.082293s",
    "dotnet_interactive": {
     "language": "fsharp"
    },
    "polyglot_notebook": {
     "kernelName": "fsharp"
    }
   },
   "outputs": [],
   "source": [
    "#!import ../nbs/Common.fs\n",
    "#!import ../nbs/Async.fs\n",
    "#!import ../nbs/AsyncSeq.fs\n",
    "#!import ../nbs/Runtime.fs"
   ]
  },
  {
   "cell_type": "code",
   "execution_count": null,
   "metadata": {
    "dotnet_repl_cellExecutionStartTime": "2023-07-25T16:03:28.9410884-03:00",
    "dotnet_repl_cellExecutionEndTime": "2023-07-25T16:03:28.9529231-03:00",
    "dotnet_repl_cellExecutionTime": "11.8384ms",
    "dotnet_interactive": {
     "language": "fsharp"
    },
    "polyglot_notebook": {
     "kernelName": "fsharp"
    }
   },
   "outputs": [],
   "source": [
    "open Common"
   ]
  },
  {
   "cell_type": "markdown",
   "metadata": {
    "dotnet_repl_cellExecutionStartTime": "2023-07-25T16:03:28.9529684-03:00",
    "dotnet_repl_cellExecutionEndTime": "2023-07-25T16:03:28.9561024-03:00",
    "dotnet_repl_cellExecutionTime": "3.1376ms"
   },
   "source": [
    "## Operators"
   ]
  },
  {
   "cell_type": "code",
   "execution_count": null,
   "metadata": {
    "dotnet_repl_cellExecutionStartTime": "2023-07-25T16:03:28.956134-03:00",
    "dotnet_repl_cellExecutionEndTime": "2023-07-25T16:03:28.9672446-03:00",
    "dotnet_repl_cellExecutionTime": "11.1151ms",
    "dotnet_interactive": {
     "language": "fsharp"
    },
    "polyglot_notebook": {
     "kernelName": "fsharp"
    }
   },
   "outputs": [],
   "source": [
    "let inline (</>) a b = System.IO.Path.Combine (a, b)"
   ]
  },
  {
   "cell_type": "markdown",
   "metadata": {
    "dotnet_repl_cellExecutionStartTime": "2023-07-25T16:03:28.9672776-03:00",
    "dotnet_repl_cellExecutionEndTime": "2023-07-25T16:03:28.9700964-03:00",
    "dotnet_repl_cellExecutionTime": "2.8223ms"
   },
   "source": [
    "## createTempDirectoryName"
   ]
  },
  {
   "cell_type": "code",
   "execution_count": null,
   "metadata": {
    "dotnet_repl_cellExecutionStartTime": "2023-07-25T16:03:28.970123-03:00",
    "dotnet_repl_cellExecutionEndTime": "2023-07-25T16:03:28.9980306-03:00",
    "dotnet_repl_cellExecutionTime": "27.9111ms",
    "dotnet_interactive": {
     "language": "fsharp"
    },
    "polyglot_notebook": {
     "kernelName": "fsharp"
    }
   },
   "outputs": [],
   "source": [
    "let createTempDirectoryName () =\n",
    "    let root =\n",
    "        match System.Reflection.Assembly.GetEntryAssembly().GetName().Name with\n",
    "        | assemblyName -> assemblyName\n",
    "\n",
    "    System.IO.Path.GetTempPath ()\n",
    "    </> $\"!{root}\"\n",
    "    </> string (newGuidFromDateTime System.DateTime.Now)"
   ]
  },
  {
   "cell_type": "code",
   "execution_count": null,
   "metadata": {
    "dotnet_repl_cellExecutionStartTime": "2023-07-25T16:03:28.9980665-03:00",
    "dotnet_repl_cellExecutionEndTime": "2023-07-25T16:03:29.0421539-03:00",
    "dotnet_repl_cellExecutionTime": "44.0927ms",
    "dotnet_interactive": {
     "language": "fsharp"
    },
    "polyglot_notebook": {
     "kernelName": "fsharp"
    }
   },
   "outputs": [
    {
     "name": "stdout",
     "output_type": "stream",
     "text": [
      "C:\\Users\\i574n\\AppData\\Local\\Temp\\!dotnet-repl\\20230725-1603-2901-0114-0d99add1e7f9\r\n"
     ]
    }
   ],
   "source": [
    "//// test\n",
    "\n",
    "createTempDirectoryName ()\n",
    "|> _contains System.IO.Path.DirectorySeparatorChar"
   ]
  },
  {
   "cell_type": "markdown",
   "metadata": {
    "dotnet_repl_cellExecutionStartTime": "2023-07-25T16:03:29.042229-03:00",
    "dotnet_repl_cellExecutionEndTime": "2023-07-25T16:03:29.0456445-03:00",
    "dotnet_repl_cellExecutionTime": "3.4196ms"
   },
   "source": [
    "## createTempDirectory"
   ]
  },
  {
   "cell_type": "code",
   "execution_count": null,
   "metadata": {
    "dotnet_repl_cellExecutionStartTime": "2023-07-25T16:03:29.0456795-03:00",
    "dotnet_repl_cellExecutionEndTime": "2023-07-25T16:03:29.1150851-03:00",
    "dotnet_repl_cellExecutionTime": "69.4094ms",
    "dotnet_interactive": {
     "language": "fsharp"
    },
    "polyglot_notebook": {
     "kernelName": "fsharp"
    }
   },
   "outputs": [],
   "source": [
    "let createTempDirectory () =\n",
    "    let tempFolder = createTempDirectoryName ()\n",
    "    let result = System.IO.Directory.CreateDirectory tempFolder\n",
    "\n",
    "    let getLocals () =\n",
    "        $\"tempFolder: {tempFolder} / result: {({|\n",
    "            Exists = result.Exists\n",
    "            CreationTime = result.CreationTime\n",
    "        |})} {getLocals ()}\"\n",
    "\n",
    "    trace Debug (fun () -> \"createTempDirectory\") getLocals\n",
    "\n",
    "    tempFolder"
   ]
  },
  {
   "cell_type": "code",
   "execution_count": null,
   "metadata": {
    "dotnet_repl_cellExecutionStartTime": "2023-07-25T16:03:29.1151245-03:00",
    "dotnet_repl_cellExecutionEndTime": "2023-07-25T16:03:29.1650464-03:00",
    "dotnet_repl_cellExecutionTime": "49.9361ms",
    "dotnet_interactive": {
     "language": "fsharp"
    },
    "polyglot_notebook": {
     "kernelName": "fsharp"
    }
   },
   "outputs": [
    {
     "name": "stdout",
     "output_type": "stream",
     "text": [
      "16:03:29 #1 [Debug] createTempDirectory / tempFolder: C:\\Users\\i574n\\AppData\\Local\\Temp\\!dotnet-repl\\20230725-1603-2912-1244-1d013cf772c8 / result: { CreationTime = 2023-07-25 4:03:29 PM\n",
      "  Exists = true }\r\n",
      "True\r\n"
     ]
    }
   ],
   "source": [
    "//// test\n",
    "\n",
    "let tempDirectory = createTempDirectory ()\n",
    "\n",
    "Directory.Exists tempDirectory\n",
    "|> _equal true"
   ]
  },
  {
   "cell_type": "markdown",
   "metadata": {
    "dotnet_repl_cellExecutionStartTime": "2023-07-25T16:03:29.1651171-03:00",
    "dotnet_repl_cellExecutionEndTime": "2023-07-25T16:03:29.1679193-03:00",
    "dotnet_repl_cellExecutionTime": "2.8044ms"
   },
   "source": [
    "## waitForFileAccess"
   ]
  },
  {
   "cell_type": "code",
   "execution_count": null,
   "metadata": {
    "dotnet_repl_cellExecutionStartTime": "2023-07-25T16:03:29.1679405-03:00",
    "dotnet_repl_cellExecutionEndTime": "2023-07-25T16:03:29.23114-03:00",
    "dotnet_repl_cellExecutionTime": "63.2032ms",
    "dotnet_interactive": {
     "language": "fsharp"
    },
    "polyglot_notebook": {
     "kernelName": "fsharp"
    }
   },
   "outputs": [],
   "source": [
    "let waitForFileAccess path =\n",
    "    let rec loop retry = async {\n",
    "        try\n",
    "            use _ = new System.IO.FileStream (\n",
    "                path,\n",
    "                System.IO.FileMode.Open,\n",
    "                System.IO.FileAccess.ReadWrite,\n",
    "                System.IO.FileShare.None\n",
    "            )\n",
    "            return retry\n",
    "        with ex ->\n",
    "            if retry % 100 = 0 then\n",
    "                let getLocals () = $\"path: {path} / ex: {ex |> printException} / {getLocals ()}\"\n",
    "                trace Warn (fun () -> \"waitForFileAccess\") getLocals\n",
    "            do! Async.Sleep 10\n",
    "            return! loop (retry + 1)\n",
    "    }\n",
    "    loop 0"
   ]
  },
  {
   "cell_type": "code",
   "execution_count": null,
   "metadata": {
    "dotnet_repl_cellExecutionStartTime": "2023-07-25T16:03:29.2311805-03:00",
    "dotnet_repl_cellExecutionEndTime": "2023-07-25T16:03:31.4528461-03:00",
    "dotnet_repl_cellExecutionTime": "2.2216709s",
    "dotnet_interactive": {
     "language": "fsharp"
    },
    "polyglot_notebook": {
     "kernelName": "fsharp"
    }
   },
   "outputs": [
    {
     "name": "stdout",
     "output_type": "stream",
     "text": [
      "16:03:29 #2 [Debug] createTempDirectory / tempFolder: C:\\Users\\i574n\\AppData\\Local\\Temp\\!dotnet-repl\\20230725-1603-2933-3364-3883491ac616 / result: { CreationTime = 2023-07-25 4:03:29 PM\n",
      "  Exists = true }\r\n",
      "16:03:29 #3 [Debug] 1\r\n",
      "16:03:29 #4 [Debug] 2\r\n",
      "16:03:29 #5 [Debug] _1\r\n",
      "16:03:29 #6 [Debug] 3\r\n",
      "16:03:29 #7 [Debug] _2\r\n",
      "16:03:29 #8 [Debug] 4\r\n",
      "16:03:29 #9 [Warn] waitForFileAccess / path: C:\\Users\\i574n\\AppData\\Local\\Temp\\!dotnet-repl\\20230725-1603-2933-3364-3883491ac616\\test.txt / ex: System.IO.IOException: The process cannot access the file 'C:\\Users\\i574n\\AppData\\Local\\Temp\\!dotnet-repl\\20230725-1603-2933-3364-3883491ac616\\test.txt' because it is being used by another process.\r\n",
      "16:03:30 #10 [Warn] waitForFileAccess / path: C:\\Users\\i574n\\AppData\\Local\\Temp\\!dotnet-repl\\20230725-1603-2933-3364-3883491ac616\\test.txt / ex: System.IO.IOException: The process cannot access the file 'C:\\Users\\i574n\\AppData\\Local\\Temp\\!dotnet-repl\\20230725-1603-2933-3364-3883491ac616\\test.txt' because it is being used by another process.\r\n",
      "16:03:31 #11 [Debug] _3\r\n",
      "16:03:31 #12 [Debug] _4\r\n",
      "16:03:31 #13 [Debug] _5\r\n",
      "16:03:31 #14 [Debug] _6\r\n",
      "16:03:31 #15 [Debug] 5\r\n",
      "16:03:31 #16 [Debug] 6\r\n",
      "16:03:31 #17 [Debug] 7\r\n",
      "127\r\n",
      "127\r\n",
      "127\r\n",
      "1\r\n",
      "True\r\n"
     ]
    }
   ],
   "source": [
    "//// test\n",
    "\n",
    "let tempFolder = createTempDirectory ()\n",
    "let path = tempFolder </> \"test.txt\"\n",
    "\n",
    "let lockFile () = async {\n",
    "    trace Debug (fun () -> \"_1\") getLocals\n",
    "    use stream = new System.IO.FileStream (path, System.IO.FileMode.Open, System.IO.FileAccess.ReadWrite)\n",
    "    trace Debug (fun () -> \"_2\") getLocals\n",
    "    do! Async.Sleep 2000\n",
    "    trace Debug (fun () -> \"_3\") getLocals\n",
    "    stream.Seek (0L, SeekOrigin.Begin) |> ignore\n",
    "    trace Debug (fun () -> \"_4\") getLocals\n",
    "    stream.WriteByte 49uy\n",
    "    trace Debug (fun () -> \"_5\") getLocals\n",
    "    stream.Flush ()\n",
    "    trace Debug (fun () -> \"_6\") getLocals\n",
    "}\n",
    "\n",
    "async {\n",
    "    trace Debug (fun () -> \"1\") getLocals\n",
    "    do! File.WriteAllTextAsync (path, \"0\") |> Async.AwaitTask\n",
    "    trace Debug (fun () -> \"2\") getLocals\n",
    "    let! child = lockFile () |> Async.StartChild\n",
    "    trace Debug (fun () -> \"3\") getLocals\n",
    "    do! Async.Sleep 1\n",
    "    trace Debug (fun () -> \"4\") getLocals\n",
    "    let! retries = waitForFileAccess path\n",
    "    trace Debug (fun () -> \"5\") getLocals\n",
    "    let! text = File.ReadAllTextAsync path |> Async.AwaitTask\n",
    "    trace Debug (fun () -> \"6\") getLocals\n",
    "    do! child\n",
    "    trace Debug (fun () -> \"7\") getLocals\n",
    "    return retries, text\n",
    "}\n",
    "|> Async.runWithTimeout 3000\n",
    "|> function\n",
    "    | Some (retries, text) ->\n",
    "        retries\n",
    "        |> _isBetween\n",
    "            (if Runtime.isWindows () then 100 else 100)\n",
    "            (if Runtime.isWindows () then 150 else 150)\n",
    "        \n",
    "        text |> _equal \"1\"\n",
    "        \n",
    "        true\n",
    "    | _ -> false\n",
    "|> _equal true"
   ]
  },
  {
   "cell_type": "markdown",
   "metadata": {
    "dotnet_repl_cellExecutionStartTime": "2023-07-25T16:03:31.4529079-03:00",
    "dotnet_repl_cellExecutionEndTime": "2023-07-25T16:03:31.4552449-03:00",
    "dotnet_repl_cellExecutionTime": "2.3411ms"
   },
   "source": [
    "## deleteDirectoryAsync"
   ]
  },
  {
   "cell_type": "code",
   "execution_count": null,
   "metadata": {
    "dotnet_repl_cellExecutionStartTime": "2023-07-25T16:03:31.4552795-03:00",
    "dotnet_repl_cellExecutionEndTime": "2023-07-25T16:03:31.5085626-03:00",
    "dotnet_repl_cellExecutionTime": "53.2966ms",
    "dotnet_interactive": {
     "language": "fsharp"
    },
    "polyglot_notebook": {
     "kernelName": "fsharp"
    }
   },
   "outputs": [],
   "source": [
    "let deleteDirectoryAsync path =\n",
    "    let rec loop retry = async {\n",
    "        try\n",
    "            System.IO.Directory.Delete (path, true)\n",
    "            return retry\n",
    "        with ex ->\n",
    "            if retry % 100 = 0 then\n",
    "                let getLocals () = $\"path: {path} / ex: {ex |> printException} / {getLocals ()}\"\n",
    "                trace Warn (fun () -> \"deleteDirectoryAsync\") getLocals\n",
    "            do! Async.Sleep 10\n",
    "            return! loop (retry + 1)\n",
    "    }\n",
    "    loop 0"
   ]
  },
  {
   "cell_type": "code",
   "execution_count": null,
   "metadata": {
    "dotnet_repl_cellExecutionStartTime": "2023-07-25T16:03:31.5086027-03:00",
    "dotnet_repl_cellExecutionEndTime": "2023-07-25T16:03:33.6615606-03:00",
    "dotnet_repl_cellExecutionTime": "2.1529634s",
    "dotnet_interactive": {
     "language": "fsharp"
    },
    "polyglot_notebook": {
     "kernelName": "fsharp"
    }
   },
   "outputs": [
    {
     "name": "stdout",
     "output_type": "stream",
     "text": [
      "16:03:31 #18 [Debug] createTempDirectory / tempFolder: C:\\Users\\i574n\\AppData\\Local\\Temp\\!dotnet-repl\\20230725-1603-3161-6101-6ebbfdeaaa89 / result: { CreationTime = 2023-07-25 4:03:31 PM\n",
      "  Exists = true }\r\n",
      "16:03:31 #19 [Debug] 1\r\n",
      "16:03:31 #20 [Debug] 2\r\n",
      "16:03:31 #21 [Debug] 3\r\n",
      "16:03:31 #22 [Debug] _1\r\n",
      "16:03:31 #23 [Debug] _2\r\n",
      "16:03:31 #24 [Debug] 4\r\n",
      "16:03:31 #25 [Warn] deleteDirectoryAsync / path: C:\\Users\\i574n\\AppData\\Local\\Temp\\!dotnet-repl\\20230725-1603-3161-6101-6ebbfdeaaa89\\test / ex: System.IO.IOException: The process cannot access the file 'test.txt' because it is being used by another process.\r\n",
      "16:03:33 #26 [Warn] deleteDirectoryAsync / path: C:\\Users\\i574n\\AppData\\Local\\Temp\\!dotnet-repl\\20230725-1603-3161-6101-6ebbfdeaaa89\\test / ex: System.IO.IOException: The process cannot access the file 'test.txt' because it is being used by another process.\r\n",
      "16:03:33 #27 [Debug] _3\r\n",
      "16:03:33 #28 [Debug] 5\r\n",
      "16:03:33 #29 [Debug] 6\r\n",
      "128\r\n",
      "128\r\n",
      "128\r\n",
      "True\r\n"
     ]
    }
   ],
   "source": [
    "//// test\n",
    "\n",
    "let tempFolder = createTempDirectory ()\n",
    "let path = tempFolder </> \"test\"\n",
    "\n",
    "let lockDirectory () = async {\n",
    "    trace Debug (fun () -> \"_1\") getLocals\n",
    "    System.IO.File.WriteAllText (path </> \"test.txt\", \"0\")\n",
    "    use _ = new System.IO.FileStream (path </> \"test.txt\", System.IO.FileMode.Open, System.IO.FileAccess.ReadWrite)\n",
    "    trace Debug (fun () -> \"_2\") getLocals\n",
    "    do! Async.Sleep 2000\n",
    "    trace Debug (fun () -> \"_3\") getLocals\n",
    "}\n",
    "\n",
    "async {\n",
    "    trace Debug (fun () -> \"1\") getLocals\n",
    "    Directory.CreateDirectory path |> ignore\n",
    "    trace Debug (fun () -> \"2\") getLocals\n",
    "    let! child = lockDirectory () |> Async.StartChild\n",
    "    trace Debug (fun () -> \"3\") getLocals\n",
    "    do! Async.Sleep 1\n",
    "    trace Debug (fun () -> \"4\") getLocals\n",
    "    let! retries = deleteDirectoryAsync path\n",
    "    trace Debug (fun () -> \"5\") getLocals\n",
    "    do! child\n",
    "    trace Debug (fun () -> \"6\") getLocals\n",
    "    return retries\n",
    "}\n",
    "|> Async.runWithTimeout 3000\n",
    "|> function\n",
    "    | Some retries ->\n",
    "        retries\n",
    "        |> _isBetween\n",
    "            (if Runtime.isWindows () then 100 else 100)\n",
    "            (if Runtime.isWindows () then 150 else 150)\n",
    "\n",
    "        true\n",
    "    | _ -> false\n",
    "|> _equal true"
   ]
  },
  {
   "cell_type": "markdown",
   "metadata": {
    "dotnet_repl_cellExecutionStartTime": "2023-07-25T16:03:33.6616095-03:00",
    "dotnet_repl_cellExecutionEndTime": "2023-07-25T16:03:33.6643437-03:00",
    "dotnet_repl_cellExecutionTime": "2.7392ms"
   },
   "source": [
    "## deleteFileAsync"
   ]
  },
  {
   "cell_type": "code",
   "execution_count": null,
   "metadata": {
    "dotnet_repl_cellExecutionStartTime": "2023-07-25T16:03:33.6643789-03:00",
    "dotnet_repl_cellExecutionEndTime": "2023-07-25T16:03:33.7063769-03:00",
    "dotnet_repl_cellExecutionTime": "42.0029ms",
    "dotnet_interactive": {
     "language": "fsharp"
    },
    "polyglot_notebook": {
     "kernelName": "fsharp"
    }
   },
   "outputs": [],
   "source": [
    "let deleteFileAsync path =\n",
    "    let rec loop retry = async {\n",
    "        try\n",
    "            System.IO.File.Delete path\n",
    "            return retry\n",
    "        with ex ->\n",
    "            if retry % 100 = 0 then\n",
    "                let getLocals () = $\"path: {path} / ex: {ex |> printException} / {getLocals ()}\"\n",
    "                trace Warn (fun () -> \"deleteFileAsync\") getLocals\n",
    "            do! Async.Sleep 10\n",
    "            return! loop (retry + 1)\n",
    "    }\n",
    "    loop 0"
   ]
  },
  {
   "cell_type": "code",
   "execution_count": null,
   "metadata": {
    "dotnet_repl_cellExecutionStartTime": "2023-07-25T16:03:33.7064118-03:00",
    "dotnet_repl_cellExecutionEndTime": "2023-07-25T16:03:35.825452-03:00",
    "dotnet_repl_cellExecutionTime": "2.1190504s",
    "dotnet_interactive": {
     "language": "fsharp"
    },
    "polyglot_notebook": {
     "kernelName": "fsharp"
    }
   },
   "outputs": [
    {
     "name": "stdout",
     "output_type": "stream",
     "text": [
      "16:03:33 #30 [Debug] createTempDirectory / tempFolder: C:\\Users\\i574n\\AppData\\Local\\Temp\\!dotnet-repl\\20230725-1603-3377-7772-74525a8bf63d / result: { CreationTime = 2023-07-25 4:03:33 PM\n",
      "  Exists = true }\r\n",
      "16:03:33 #31 [Debug] 1\r\n",
      "16:03:33 #32 [Debug] 2\r\n",
      "16:03:33 #33 [Debug] 3\r\n",
      "16:03:33 #34 [Debug] _1\r\n",
      "16:03:33 #35 [Debug] _2\r\n",
      "16:03:33 #36 [Debug] 4\r\n",
      "16:03:33 #37 [Warn] deleteFileAsync / path: C:\\Users\\i574n\\AppData\\Local\\Temp\\!dotnet-repl\\20230725-1603-3377-7772-74525a8bf63d\\test.txt / ex: System.IO.IOException: The process cannot access the file 'C:\\Users\\i574n\\AppData\\Local\\Temp\\!dotnet-repl\\20230725-1603-3377-7772-74525a8bf63d\\test.txt' because it is being used by another process.\r\n",
      "16:03:35 #38 [Warn] deleteFileAsync / path: C:\\Users\\i574n\\AppData\\Local\\Temp\\!dotnet-repl\\20230725-1603-3377-7772-74525a8bf63d\\test.txt / ex: System.IO.IOException: The process cannot access the file 'C:\\Users\\i574n\\AppData\\Local\\Temp\\!dotnet-repl\\20230725-1603-3377-7772-74525a8bf63d\\test.txt' because it is being used by another process.\r\n",
      "16:03:35 #39 [Debug] _3\r\n",
      "16:03:35 #40 [Debug] 5\r\n",
      "16:03:35 #41 [Debug] 6\r\n",
      "126\r\n",
      "126\r\n",
      "126\r\n",
      "True\r\n"
     ]
    }
   ],
   "source": [
    "//// test\n",
    "\n",
    "let tempFolder = createTempDirectory ()\n",
    "let path = tempFolder </> \"test.txt\"\n",
    "\n",
    "let lockFile () = async {\n",
    "    trace Debug (fun () -> \"_1\") getLocals\n",
    "    use _ = new System.IO.FileStream (path, System.IO.FileMode.Open, System.IO.FileAccess.ReadWrite)\n",
    "    trace Debug (fun () -> \"_2\") getLocals\n",
    "    do! Async.Sleep 2000\n",
    "    trace Debug (fun () -> \"_3\") getLocals\n",
    "}\n",
    "\n",
    "async {\n",
    "    trace Debug (fun () -> \"1\") getLocals\n",
    "    do! File.WriteAllTextAsync (path, \"0\") |> Async.AwaitTask\n",
    "    trace Debug (fun () -> \"2\") getLocals\n",
    "    let! child = lockFile () |> Async.StartChild\n",
    "    trace Debug (fun () -> \"3\") getLocals\n",
    "    do! Async.Sleep 1\n",
    "    trace Debug (fun () -> \"4\") getLocals\n",
    "    let! retries = deleteFileAsync path\n",
    "    trace Debug (fun () -> \"5\") getLocals\n",
    "    do! child\n",
    "    trace Debug (fun () -> \"6\") getLocals\n",
    "    return retries\n",
    "}\n",
    "|> Async.runWithTimeout 3000\n",
    "|> function\n",
    "    | Some retries ->\n",
    "        retries\n",
    "        |> _isBetween\n",
    "            (if Runtime.isWindows () then 100 else 100)\n",
    "            (if Runtime.isWindows () then 150 else 150)\n",
    "\n",
    "        true\n",
    "    | _ -> false\n",
    "|> _equal true"
   ]
  },
  {
   "cell_type": "markdown",
   "metadata": {
    "dotnet_repl_cellExecutionStartTime": "2023-07-25T16:03:35.8255606-03:00",
    "dotnet_repl_cellExecutionEndTime": "2023-07-25T16:03:35.8305768-03:00",
    "dotnet_repl_cellExecutionTime": "5.0241ms"
   },
   "source": [
    "## moveFileAsync"
   ]
  },
  {
   "cell_type": "code",
   "execution_count": null,
   "metadata": {
    "dotnet_repl_cellExecutionStartTime": "2023-07-25T16:03:35.8306416-03:00",
    "dotnet_repl_cellExecutionEndTime": "2023-07-25T16:03:35.8756999-03:00",
    "dotnet_repl_cellExecutionTime": "45.0678ms",
    "dotnet_interactive": {
     "language": "fsharp"
    },
    "polyglot_notebook": {
     "kernelName": "fsharp"
    }
   },
   "outputs": [],
   "source": [
    "let moveFileAsync newPath oldPath =\n",
    "    let rec loop retry = async {\n",
    "        try\n",
    "            System.IO.File.Move (oldPath, newPath)\n",
    "            return retry\n",
    "        with ex ->\n",
    "            if retry % 100 = 0 then\n",
    "                let getLocals () =\n",
    "                    $\"oldPath: {oldPath} / newPath: {newPath} / ex: {ex |> printException} / {getLocals ()}\"\n",
    "                trace Warn (fun () -> \"moveFileAsync\") getLocals\n",
    "            do! Async.Sleep 10\n",
    "            return! loop (retry + 1)\n",
    "    }\n",
    "    loop 0"
   ]
  },
  {
   "cell_type": "code",
   "execution_count": null,
   "metadata": {
    "dotnet_repl_cellExecutionStartTime": "2023-07-25T16:03:35.8757548-03:00",
    "dotnet_repl_cellExecutionEndTime": "2023-07-25T16:03:38.0340838-03:00",
    "dotnet_repl_cellExecutionTime": "2.1583313s",
    "dotnet_interactive": {
     "language": "fsharp"
    },
    "polyglot_notebook": {
     "kernelName": "fsharp"
    }
   },
   "outputs": [
    {
     "name": "stdout",
     "output_type": "stream",
     "text": [
      "16:03:35 #42 [Debug] createTempDirectory / tempFolder: C:\\Users\\i574n\\AppData\\Local\\Temp\\!dotnet-repl\\20230725-1603-3596-9605-9a236e50a5b4 / result: { CreationTime = 2023-07-25 4:03:35 PM\n",
      "  Exists = true }\r\n",
      "16:03:35 #43 [Debug] 1\r\n",
      "16:03:35 #44 [Debug] 2\r\n",
      "16:03:35 #45 [Debug] 3\r\n",
      "16:03:35 #46 [Debug] _1\r\n",
      "16:03:35 #47 [Debug] _2\r\n",
      "16:03:35 #48 [Debug] 4\r\n",
      "16:03:35 #49 [Warn] moveFileAsync / oldPath: C:\\Users\\i574n\\AppData\\Local\\Temp\\!dotnet-repl\\20230725-1603-3596-9605-9a236e50a5b4\\test.txt / newPath: C:\\Users\\i574n\\AppData\\Local\\Temp\\!dotnet-repl\\20230725-1603-3596-9605-9a236e50a5b4\\test2.txt / ex: System.IO.IOException: The process cannot access the file because it is being used by another process.\r\n",
      "16:03:37 #50 [Warn] moveFileAsync / oldPath: C:\\Users\\i574n\\AppData\\Local\\Temp\\!dotnet-repl\\20230725-1603-3596-9605-9a236e50a5b4\\test.txt / newPath: C:\\Users\\i574n\\AppData\\Local\\Temp\\!dotnet-repl\\20230725-1603-3596-9605-9a236e50a5b4\\test2.txt / ex: System.IO.IOException: The process cannot access the file because it is being used by another process.\r\n",
      "16:03:37 #51 [Debug] _3\r\n",
      "16:03:38 #52 [Debug] 5\r\n",
      "16:03:38 #53 [Debug] 6\r\n",
      "16:03:38 #54 [Debug] 7\r\n",
      "128\r\n",
      "128\r\n",
      "128\r\n",
      "0\r\n",
      "True\r\n"
     ]
    }
   ],
   "source": [
    "//// test\n",
    "\n",
    "let tempFolder = createTempDirectory ()\n",
    "let path = tempFolder </> \"test.txt\"\n",
    "let newPath = tempFolder </> \"test2.txt\"\n",
    "\n",
    "let lockFile () = async {\n",
    "    trace Debug (fun () -> \"_1\") getLocals\n",
    "    use _ = new System.IO.FileStream (path, System.IO.FileMode.Open, System.IO.FileAccess.ReadWrite)\n",
    "    trace Debug (fun () -> \"_2\") getLocals\n",
    "    do! Async.Sleep 2000\n",
    "    trace Debug (fun () -> \"_3\") getLocals\n",
    "}\n",
    "\n",
    "async {\n",
    "    trace Debug (fun () -> \"1\") getLocals\n",
    "    do! File.WriteAllTextAsync (path, \"0\") |> Async.AwaitTask\n",
    "    trace Debug (fun () -> \"2\") getLocals\n",
    "    let! child = lockFile () |> Async.StartChild\n",
    "    trace Debug (fun () -> \"3\") getLocals\n",
    "    do! Async.Sleep 1\n",
    "    trace Debug (fun () -> \"4\") getLocals\n",
    "    let! retries = path |> moveFileAsync newPath\n",
    "    trace Debug (fun () -> \"5\") getLocals\n",
    "    let! text = File.ReadAllTextAsync newPath |> Async.AwaitTask\n",
    "    trace Debug (fun () -> \"6\") getLocals\n",
    "    do! child\n",
    "    trace Debug (fun () -> \"7\") getLocals\n",
    "    return retries, text\n",
    "}\n",
    "|> Async.runWithTimeout 3000\n",
    "|> function\n",
    "    | Some (retries, text) ->\n",
    "        retries\n",
    "        |> _isBetween\n",
    "            (if Runtime.isWindows () then 100 else 100)\n",
    "            (if Runtime.isWindows () then 150 else 150)\n",
    "        \n",
    "        text |> _equal \"0\"\n",
    "        \n",
    "        true\n",
    "    | _ -> false\n",
    "|> _equal true"
   ]
  },
  {
   "cell_type": "markdown",
   "metadata": {
    "dotnet_repl_cellExecutionStartTime": "2023-07-25T16:03:38.0341396-03:00",
    "dotnet_repl_cellExecutionEndTime": "2023-07-25T16:03:38.0392945-03:00",
    "dotnet_repl_cellExecutionTime": "5.1576ms"
   },
   "source": [
    "## watchDirectory"
   ]
  },
  {
   "cell_type": "code",
   "execution_count": null,
   "metadata": {
    "dotnet_repl_cellExecutionStartTime": "2023-07-25T16:03:38.039345-03:00",
    "dotnet_repl_cellExecutionEndTime": "2023-07-25T16:03:38.2908235-03:00",
    "dotnet_repl_cellExecutionTime": "251.48ms",
    "dotnet_interactive": {
     "language": "fsharp"
    },
    "polyglot_notebook": {
     "kernelName": "fsharp"
    }
   },
   "outputs": [],
   "source": [
    "[<RequireQualifiedAccess>]\n",
    "type FileSystemChangeType =\n",
    "    | Error\n",
    "    | Changed\n",
    "    | Created\n",
    "    | Deleted\n",
    "    | Renamed\n",
    "\n",
    "[<RequireQualifiedAccess>]\n",
    "type FileSystemChange =\n",
    "    | Error of exn: exn\n",
    "    | Changed of path: string * content: string option\n",
    "    | Created of path: string * content: string option\n",
    "    | Deleted of path: string\n",
    "    | Renamed of oldPath: string * (string * string option)\n",
    "\n",
    "\n",
    "let watchDirectoryWithFilter filter shouldReadContent path =\n",
    "    let fullPath = System.IO.Path.GetFullPath path\n",
    "    let getLocals () = $\"fullPath: {fullPath} / filter: {filter} / {getLocals ()}\"\n",
    "\n",
    "    let watcher =\n",
    "        new System.IO.FileSystemWatcher (\n",
    "            Path = fullPath,\n",
    "            NotifyFilter = filter,\n",
    "            EnableRaisingEvents = true,\n",
    "            IncludeSubdirectories = true\n",
    "        )\n",
    "\n",
    "    let getEventPath (path : string) =\n",
    "        path |> String.trim |> String.replace fullPath \"\" |> String.trimStart [| '/'; '\\\\' |]\n",
    "\n",
    "    let ticks () =\n",
    "        System.DateTime.UtcNow.Ticks\n",
    "\n",
    "    let changedStream =\n",
    "        AsyncSeq.subscribeEvent\n",
    "            watcher.Changed\n",
    "            (fun event ->\n",
    "                ticks (),\n",
    "                [ FileSystemChange.Changed (getEventPath event.FullPath, None) ]\n",
    "            )\n",
    "\n",
    "    let deletedStream =\n",
    "        AsyncSeq.subscribeEvent\n",
    "            watcher.Deleted\n",
    "            (fun event ->\n",
    "                ticks (),\n",
    "                [ FileSystemChange.Deleted (getEventPath event.FullPath) ]\n",
    "            )\n",
    "\n",
    "    let createdStream =\n",
    "        AsyncSeq.subscribeEvent\n",
    "            watcher.Created\n",
    "            (fun event ->\n",
    "                let path = getEventPath event.FullPath\n",
    "                ticks (), [\n",
    "                    FileSystemChange.Created (path, None)\n",
    "                    if Runtime.isWindows () then\n",
    "                        FileSystemChange.Changed (path, None)\n",
    "                ])\n",
    "\n",
    "    let renamedStream =\n",
    "        AsyncSeq.subscribeEvent\n",
    "            watcher.Renamed\n",
    "            (fun event ->\n",
    "                ticks (), [\n",
    "                    FileSystemChange.Renamed (\n",
    "                        getEventPath event.OldFullPath,\n",
    "                        (getEventPath event.FullPath, None)\n",
    "                    )\n",
    "                ]\n",
    "            )\n",
    "\n",
    "    let errorStream =\n",
    "        AsyncSeq.subscribeEvent\n",
    "            watcher.Error\n",
    "            (fun event -> ticks (), [ FileSystemChange.Error (event.GetException ()) ])\n",
    "\n",
    "\n",
    "    let readContent fullPath = async {\n",
    "        try\n",
    "            do! waitForFileAccess fullPath |> Async.runWithTimeoutAsync 30000 |> Async.Ignore\n",
    "            return! System.IO.File.ReadAllTextAsync fullPath |> Async.AwaitTask |> Async.map Some\n",
    "        with ex ->\n",
    "            trace Error (fun () -> $\"watchWithFilter / readContent / ex: {ex |> printException}\") getLocals\n",
    "            return None\n",
    "    }\n",
    "\n",
    "    let stream =\n",
    "        [\n",
    "            changedStream\n",
    "            deletedStream\n",
    "            createdStream\n",
    "            renamedStream\n",
    "            errorStream\n",
    "        ]\n",
    "        |> FSharp.Control.AsyncSeq.mergeAll\n",
    "        |> FSharp.Control.AsyncSeq.mapAsync (fun (n, events) -> async {\n",
    "            let! events =\n",
    "                if not shouldReadContent\n",
    "                then events |> Async.init\n",
    "                else \n",
    "                    events\n",
    "                    |> List.map (fun event -> async {\n",
    "                        match event with\n",
    "                        | FileSystemChange.Changed (path, _) ->\n",
    "                            let! content = fullPath </> path |> readContent\n",
    "                            return FileSystemChange.Changed (path, content)\n",
    "                        | FileSystemChange.Created (path, _) ->\n",
    "                            do! Async.Sleep 1\n",
    "                            let! content = fullPath </> path |> readContent\n",
    "                            return FileSystemChange.Created (path, content)\n",
    "                        | FileSystemChange.Renamed (oldPath, (newPath, _)) ->\n",
    "                            let! content = fullPath </> newPath |> readContent\n",
    "                            return FileSystemChange.Renamed (oldPath, (newPath, content))\n",
    "                        | _ -> return event\n",
    "                    })\n",
    "                    |> Async.Parallel\n",
    "                    |> Async.map Array.toList\n",
    "\n",
    "            return\n",
    "                events\n",
    "                |> List.fold\n",
    "                    (fun (i, events) event ->\n",
    "                        i + 1L,\n",
    "                        (n + i, event) :: events)\n",
    "                    (0L, [])\n",
    "                |> snd\n",
    "                |> List.rev\n",
    "        })\n",
    "        |> FSharp.Control.AsyncSeq.concatSeq\n",
    "\n",
    "    let disposable =\n",
    "        newDisposable (fun () ->\n",
    "            trace Debug (fun () -> \"watchWithFilter / Disposing watch stream\") getLocals\n",
    "            watcher.EnableRaisingEvents <- false\n",
    "            watcher.Dispose ()\n",
    "        )\n",
    "\n",
    "    stream, disposable\n",
    "\n",
    "let watchDirectory path =\n",
    "    watchDirectoryWithFilter\n",
    "        (System.IO.NotifyFilters.Attributes\n",
    "        ||| System.IO.NotifyFilters.CreationTime\n",
    "        ||| System.IO.NotifyFilters.DirectoryName\n",
    "        ||| System.IO.NotifyFilters.FileName\n",
    "        //  ||| System.IO.NotifyFilters.LastAccess\n",
    "        //  ||| System.IO.NotifyFilters.LastWrite\n",
    "        ||| System.IO.NotifyFilters.Security\n",
    "        //  ||| System.IO.NotifyFilters.Size\n",
    "        )\n",
    "        path"
   ]
  },
  {
   "cell_type": "markdown",
   "metadata": {
    "dotnet_repl_cellExecutionStartTime": "2023-07-25T16:03:38.2908624-03:00",
    "dotnet_repl_cellExecutionEndTime": "2023-07-25T16:03:38.2932557-03:00",
    "dotnet_repl_cellExecutionTime": "2.3943ms"
   },
   "source": [
    "### testEventsRaw (test)"
   ]
  },
  {
   "cell_type": "code",
   "execution_count": null,
   "metadata": {
    "dotnet_repl_cellExecutionStartTime": "2023-07-25T16:03:38.2932745-03:00",
    "dotnet_repl_cellExecutionEndTime": "2023-07-25T16:03:38.3866549-03:00",
    "dotnet_repl_cellExecutionTime": "93.3818ms",
    "dotnet_interactive": {
     "language": "fsharp"
    },
    "polyglot_notebook": {
     "kernelName": "fsharp"
    }
   },
   "outputs": [],
   "source": [
    "//// test\n",
    "\n",
    "let testEventsRaw\n",
    "    (watchFn : bool -> string -> FSharp.Control.AsyncSeq<int64 * FileSystemChange> * IDisposable)\n",
    "    write\n",
    "    =\n",
    "    let tempDirectory = createTempDirectory ()\n",
    "    let stream, disposable = watchFn true tempDirectory\n",
    "\n",
    "    let events = System.Collections.Concurrent.ConcurrentBag ()\n",
    "\n",
    "    let iter () =\n",
    "        stream\n",
    "        |> FSharp.Control.AsyncSeq.iterAsyncParallel (fun event -> async { events.Add event })\n",
    "\n",
    "    let run = async {\n",
    "        let! _ = iter () |> Async.StartChild\n",
    "        do! Async.Sleep 150\n",
    "        return! write tempDirectory\n",
    "    }\n",
    "\n",
    "    try\n",
    "        run\n",
    "        |> Async.runWithTimeout 30000\n",
    "        |> _equal (Some ())\n",
    "    finally\n",
    "        disposable.Dispose ()\n",
    "        deleteDirectoryAsync tempDirectory |> Async.Ignore |> Async.RunSynchronously\n",
    "\n",
    "    let eventsLog =\n",
    "        events\n",
    "        |> Seq.toList\n",
    "        |> List.sortBy fst\n",
    "        |> List.fold\n",
    "            (fun (prev, acc) (ticks, event) ->\n",
    "                ticks, (ticks, (if prev = 0L then 0L else ticks - prev), event) :: acc\n",
    "            )\n",
    "            (0L, [])\n",
    "        |> snd\n",
    "        |> List.rev\n",
    "        |> List.map (fun (diff, n, event) ->\n",
    "            let text = $\"{n} / {diff} / {event}\"\n",
    "            if text |> String.length <= 100\n",
    "            then text\n",
    "            else text |> String.substring 0 100\n",
    "        )\n",
    "        |> String.concat \"\\n\"\n",
    "    let getLocals () = $\"eventsLog: \\n{eventsLog} / {getLocals ()}\"\n",
    "    trace Debug (fun () -> \"testEventsRaw\") getLocals\n",
    "\n",
    "    events\n",
    "    |> Seq.toList\n",
    "    |> List.sortBy fst\n",
    "    |> List.map snd\n",
    "    |> List.fold\n",
    "        (fun (map, acc) event ->\n",
    "            match event with\n",
    "            | FileSystemChange.Changed (path, (Some _ as content)) ->\n",
    "                if map |> Map.containsKey path && map.[path] = content\n",
    "                then map, acc\n",
    "                else (map |> Map.add path content), event :: acc\n",
    "            | FileSystemChange.Created (path, _)\n",
    "            | FileSystemChange.Deleted path ->\n",
    "                (map |> Map.remove path), event :: acc\n",
    "            | FileSystemChange.Renamed (oldPath, (newPath, content)) ->\n",
    "                (map |> Map.remove oldPath |> Map.remove newPath), event :: acc\n",
    "            | _ -> map, event :: acc\n",
    "        )\n",
    "        (Map.empty, [])\n",
    "    |> snd\n",
    "    |> List.rev"
   ]
  },
  {
   "cell_type": "markdown",
   "metadata": {
    "dotnet_repl_cellExecutionStartTime": "2023-07-25T16:03:38.3867174-03:00",
    "dotnet_repl_cellExecutionEndTime": "2023-07-25T16:03:38.3890813-03:00",
    "dotnet_repl_cellExecutionTime": "2.3647ms"
   },
   "source": [
    "#### fast (test)"
   ]
  },
  {
   "cell_type": "code",
   "execution_count": null,
   "metadata": {
    "dotnet_repl_cellExecutionStartTime": "2023-07-25T16:03:38.389099-03:00",
    "dotnet_repl_cellExecutionEndTime": "2023-07-25T16:03:40.0746073-03:00",
    "dotnet_repl_cellExecutionTime": "1.68551s",
    "dotnet_interactive": {
     "language": "fsharp"
    },
    "polyglot_notebook": {
     "kernelName": "fsharp"
    }
   },
   "outputs": [
    {
     "name": "stdout",
     "output_type": "stream",
     "text": [
      "16:03:38 #55 [Debug] createTempDirectory / tempFolder: C:\\Users\\i574n\\AppData\\Local\\Temp\\!dotnet-repl\\20230725-1603-3854-5485-56058fa1b75b / result: { CreationTime = 2023-07-25 4:03:38 PM\n",
      "  Exists = true }\r\n",
      "FSharpOption<Unit>\r\n",
      "      Value: <null>\r\n",
      "16:03:40 #56 [Debug] watchWithFilter / Disposing watch stream / fullPath: C:\\Users\\i574n\\AppData\\Local\\Temp\\!dotnet-repl\\20230725-1603-3854-5485-56058fa1b75b / filter: FileName, DirectoryName, Attributes, CreationTime, Security\r\n",
      "16:03:40 #57 [Debug] testEventsRaw / eventsLog: \n",
      "0 / 638259086187257100 / Created (\"file1.txt\", Some \"a1\")\n",
      "1 / 638259086187257101 / Changed (\"file1.txt\", Some \"a1\")\n",
      "38632 / 638259086187295733 / Created (\"file2.txt\", Some \"a2\")\n",
      "1 / 638259086187295734 / Changed (\"file2.txt\", Some \"a2\")\n",
      "2427598 / 638259086189723332 / Changed (\"file1.txt\", Some \"b1\")\n",
      "9680 / 638259086189733012 / Changed (\"file2.txt\", Some \"b2\")\n",
      "2483832 / 638259086192216844 / Renamed (\"file1.txt\", (\"file_1.txt\", Some \"b1\"))\n",
      "3663 / 638259086192220507 / Renamed (\"file2.txt\", (\"file_2.txt\", Some \"b2\"))\n",
      "2630434 / 638259086194850941 / Changed (\"file_1.txt\", Some \"c1\")\n",
      "11399 / 638259086194862340 / Changed (\"file_2.txt\", Some \"c2\")\n",
      "2499824 / 638259086197362164 / Deleted \"file_1.txt\"\n",
      "3419 / 638259086197365583 / Deleted \"file_2.txt\"\r\n",
      "FSharpList<FileSystemChange>\r\n",
      "      - path: file1.txt\r\n",
      "        content: FSharpOption<String>\r\n",
      "          Value: a1\r\n",
      "      - path: file1.txt\r\n",
      "        content: FSharpOption<String>\r\n",
      "          Value: a1\r\n",
      "      - path: file2.txt\r\n",
      "        content: FSharpOption<String>\r\n",
      "          Value: a2\r\n",
      "      - path: file2.txt\r\n",
      "        content: FSharpOption<String>\r\n",
      "          Value: a2\r\n",
      "      - path: file1.txt\r\n",
      "        content: FSharpOption<String>\r\n",
      "          Value: b1\r\n",
      "      - path: file2.txt\r\n",
      "        content: FSharpOption<String>\r\n",
      "          Value: b2\r\n",
      "      - oldPath: file1.txt\r\n",
      "        Item2:         - file_1.txt\r\n",
      "        - FSharpOption<String>\r\n",
      "            Value: b1\r\n",
      "      - oldPath: file2.txt\r\n",
      "        Item2:         - file_2.txt\r\n",
      "        - FSharpOption<String>\r\n",
      "            Value: b2\r\n",
      "      - path: file_1.txt\r\n",
      "        content: FSharpOption<String>\r\n",
      "          Value: c1\r\n",
      "      - path: file_2.txt\r\n",
      "        content: FSharpOption<String>\r\n",
      "          Value: c2\r\n",
      "      - path: file_1.txt\r\n",
      "      - path: file_2.txt\r\n",
      "FSharpOption<Unit>\r\n",
      "      Value: <null>\r\n"
     ]
    }
   ],
   "source": [
    "//// test\n",
    "\n",
    "let write path = async {\n",
    "    let n = 2\n",
    "\n",
    "    for i = 1 to n do\n",
    "        do! System.IO.File.WriteAllTextAsync (path </> $\"file{i}.txt\", $\"a{i}\") |> Async.AwaitTask\n",
    "\n",
    "    do! Async.Sleep 250\n",
    "\n",
    "    for i = 1 to n do\n",
    "        do! System.IO.File.WriteAllTextAsync (path </> $\"file{i}.txt\", $\"b{i}\") |> Async.AwaitTask\n",
    "\n",
    "    do! Async.Sleep 250\n",
    "\n",
    "    for i = 1 to n do\n",
    "        do! path </> $\"file{i}.txt\" |> moveFileAsync (path </> $\"file_{i}.txt\") |> Async.Ignore\n",
    "\n",
    "    do! Async.Sleep 250\n",
    "\n",
    "    for i = 1 to n do\n",
    "        do! System.IO.File.WriteAllTextAsync (path </> $\"file_{i}.txt\", $\"c{i}\") |> Async.AwaitTask\n",
    "\n",
    "    do! Async.Sleep 250\n",
    "\n",
    "    for i = 1 to n do\n",
    "        do! deleteFileAsync (path </> $\"file_{i}.txt\") |> Async.Ignore\n",
    "\n",
    "    do! Async.Sleep 250\n",
    "}\n",
    "\n",
    "let run () =\n",
    "    let events = testEventsRaw watchDirectory write\n",
    "\n",
    "    events\n",
    "    |> _sequenceEqual [\n",
    "        FileSystemChange.Created (\"file1.txt\", Some \"a1\")\n",
    "        FileSystemChange.Changed (\"file1.txt\", Some \"a1\")\n",
    "        FileSystemChange.Created (\"file2.txt\", Some \"a2\")\n",
    "        FileSystemChange.Changed (\"file2.txt\", Some \"a2\")\n",
    "\n",
    "        FileSystemChange.Changed (\"file1.txt\", Some \"b1\")\n",
    "        FileSystemChange.Changed (\"file2.txt\", Some \"b2\")\n",
    "\n",
    "        FileSystemChange.Renamed (\"file1.txt\", (\"file_1.txt\", Some \"b1\"))\n",
    "        FileSystemChange.Renamed (\"file2.txt\", (\"file_2.txt\", Some \"b2\"))\n",
    "\n",
    "        FileSystemChange.Changed (\"file_1.txt\", Some \"c1\")\n",
    "        FileSystemChange.Changed (\"file_2.txt\", Some \"c2\")\n",
    "\n",
    "        FileSystemChange.Deleted \"file_1.txt\"\n",
    "        FileSystemChange.Deleted \"file_2.txt\"\n",
    "    ]\n",
    "\n",
    "run\n",
    "|> retryFn 3\n",
    "|> _equal (Some ())"
   ]
  },
  {
   "cell_type": "markdown",
   "metadata": {
    "dotnet_repl_cellExecutionStartTime": "2023-07-25T16:03:40.074653-03:00",
    "dotnet_repl_cellExecutionEndTime": "2023-07-25T16:03:40.0767732-03:00",
    "dotnet_repl_cellExecutionTime": "2.1222ms"
   },
   "source": [
    "#### slow (test)"
   ]
  },
  {
   "cell_type": "code",
   "execution_count": null,
   "metadata": {
    "dotnet_repl_cellExecutionStartTime": "2023-07-25T16:03:40.0768133-03:00",
    "dotnet_repl_cellExecutionEndTime": "2023-07-25T16:03:41.7078825-03:00",
    "dotnet_repl_cellExecutionTime": "1.6310709s",
    "dotnet_interactive": {
     "language": "fsharp"
    },
    "polyglot_notebook": {
     "kernelName": "fsharp"
    }
   },
   "outputs": [
    {
     "name": "stdout",
     "output_type": "stream",
     "text": [
      "16:03:40 #58 [Debug] createTempDirectory / tempFolder: C:\\Users\\i574n\\AppData\\Local\\Temp\\!dotnet-repl\\20230725-1603-4025-2563-289b33a32545 / result: { CreationTime = 2023-07-25 4:03:40 PM\n",
      "  Exists = true }\r\n",
      "16:03:40 #59 [Warn] waitForFileAccess / path: C:\\Users\\i574n\\AppData\\Local\\Temp\\!dotnet-repl\\20230725-1603-4025-2563-289b33a32545\\file1.txt / ex: System.IO.IOException: The process cannot access the file 'C:\\Users\\i574n\\AppData\\Local\\Temp\\!dotnet-repl\\20230725-1603-4025-2563-289b33a32545\\file1.txt' because it is being used by another process.\r\n",
      "16:03:40 #60 [Warn] waitForFileAccess / path: C:\\Users\\i574n\\AppData\\Local\\Temp\\!dotnet-repl\\20230725-1603-4025-2563-289b33a32545\\file1.txt / ex: System.IO.IOException: The process cannot access the file 'C:\\Users\\i574n\\AppData\\Local\\Temp\\!dotnet-repl\\20230725-1603-4025-2563-289b33a32545\\file1.txt' because it is being used by another process.\r\n",
      "16:03:40 #61 [Warn] waitForFileAccess / path: C:\\Users\\i574n\\AppData\\Local\\Temp\\!dotnet-repl\\20230725-1603-4025-2563-289b33a32545\\file1.txt / ex: System.IO.IOException: The process cannot access the file 'C:\\Users\\i574n\\AppData\\Local\\Temp\\!dotnet-repl\\20230725-1603-4025-2563-289b33a32545\\file1.txt' because it is being used by another process.\r\n",
      "16:03:41 #62 [Warn] waitForFileAccess / path: C:\\Users\\i574n\\AppData\\Local\\Temp\\!dotnet-repl\\20230725-1603-4025-2563-289b33a32545\\file_1.txt / ex: System.IO.IOException: The process cannot access the file 'C:\\Users\\i574n\\AppData\\Local\\Temp\\!dotnet-repl\\20230725-1603-4025-2563-289b33a32545\\file_1.txt' because it is being used by another process.\r\n",
      "FSharpOption<Unit>\r\n",
      "      Value: <null>\r\n",
      "16:03:41 #63 [Debug] watchWithFilter / Disposing watch stream / fullPath: C:\\Users\\i574n\\AppData\\Local\\Temp\\!dotnet-repl\\20230725-1603-4025-2563-289b33a32545 / filter: FileName, DirectoryName, Attributes, CreationTime, Security\r\n",
      "16:03:41 #64 [Debug] testEventsRaw / eventsLog: \n",
      "0 / 638259086204323887 / Created\n",
      "  (\"file1.txt\",\n",
      "   Some\n",
      "     \"1111111111111111111111111111111111111\n",
      "1 / 638259086204323888 / Changed\n",
      "  (\"file1.txt\",\n",
      "   Some\n",
      "     \"1111111111111111111111111111111111111\n",
      "352708 / 638259086204676596 / Created\n",
      "  (\"file2.txt\",\n",
      "   Some\n",
      "     \"22222222222222222222222222222222\n",
      "1 / 638259086204676597 / Changed\n",
      "  (\"file2.txt\",\n",
      "   Some\n",
      "     \"2222222222222222222222222222222222222\n",
      "1831517 / 638259086206508114 / Changed\n",
      "  (\"file1.txt\",\n",
      "   Some\n",
      "     \"1111111111111111111111111111111\n",
      "212558 / 638259086206720672 / Changed\n",
      "  (\"file2.txt\",\n",
      "   Some\n",
      "     \"22222222222222222222222222222222\n",
      "1657192 / 638259086208377864 / Renamed\n",
      "  (\"file1.txt\",\n",
      "   (\"file_1.txt\",\n",
      "    Some\n",
      "      \"11111111111\n",
      "29576 / 638259086208407440 / Renamed\n",
      "  (\"file2.txt\",\n",
      "   (\"file_2.txt\",\n",
      "    Some\n",
      "      \"2222222222222\n",
      "1735264 / 638259086210142704 / Changed\n",
      "  (\"file_1.txt\",\n",
      "   Some\n",
      "     \"111111111111111111111111111111\n",
      "258451 / 638259086210401155 / Changed\n",
      "  (\"file_2.txt\",\n",
      "   Some\n",
      "     \"2222222222222222222222222222222\n",
      "1727760 / 638259086212128915 / Deleted \"file_1.txt\"\n",
      "24119 / 638259086212153034 / Deleted \"file_2.txt\"\r\n",
      "FSharpList<FileSystemChange>\r\n",
      "      - path: file1.txt\r\n",
      "        content: FSharpOption<String>\r\n",
      "          Value: 1a\r\n",
      "      - path: file1.txt\r\n",
      "        content: FSharpOption<String>\r\n",
      "          Value: 1a\r\n",
      "      - path: file2.txt\r\n",
      "        content: FSharpOption<String>\r\n",
      "          Value: 2a\r\n",
      "      - path: file2.txt\r\n",
      "        content: FSharpOption<String>\r\n",
      "          Value: 2a\r\n",
      "      - path: file1.txt\r\n",
      "        content: FSharpOption<String>\r\n",
      "          Value: 1b\r\n",
      "      - path: file2.txt\r\n",
      "        content: FSharpOption<String>\r\n",
      "          Value: 2b\r\n",
      "      - oldPath: file1.txt\r\n",
      "        Item2:         - file_1.txt\r\n",
      "        - FSharpOption<String>\r\n",
      "            Value: 1b\r\n",
      "      - oldPath: file2.txt\r\n",
      "        Item2:         - file_2.txt\r\n",
      "        - FSharpOption<String>\r\n",
      "            Value: 2b\r\n",
      "      - path: file_1.txt\r\n",
      "        content: FSharpOption<String>\r\n",
      "          Value: 1c\r\n",
      "      - path: file_2.txt\r\n",
      "        content: FSharpOption<String>\r\n",
      "          Value: 2c\r\n",
      "      - path: file_1.txt\r\n",
      "      - path: file_2.txt\r\n",
      "FSharpOption<Unit>\r\n",
      "      Value: <null>\r\n"
     ]
    }
   ],
   "source": [
    "//// test\n",
    "\n",
    "let write path = async {\n",
    "    let n = 2\n",
    "\n",
    "    let contents =\n",
    "        [1..n]\n",
    "        |> List.map (string >> String.replicate 1_000_000)\n",
    "\n",
    "    for i = 1 to n do\n",
    "        do! System.IO.File.WriteAllTextAsync (path </> $\"file{i}.txt\", $\"{contents.[i - 1]}a\") |> Async.AwaitTask\n",
    "\n",
    "    do! Async.Sleep 150\n",
    "\n",
    "    for i = 1 to n do\n",
    "        do! System.IO.File.WriteAllTextAsync (path </> $\"file{i}.txt\", $\"{contents.[i - 1]}b\") |> Async.AwaitTask\n",
    "\n",
    "    do! Async.Sleep 150\n",
    "\n",
    "    for i = 1 to n do\n",
    "        do! path </> $\"file{i}.txt\" |> moveFileAsync (path </> $\"file_{i}.txt\") |> Async.Ignore\n",
    "\n",
    "    do! Async.Sleep 150\n",
    "\n",
    "    for i = 1 to n do\n",
    "        do! System.IO.File.WriteAllTextAsync (path </> $\"file_{i}.txt\", $\"{contents.[i - 1]}c\") |> Async.AwaitTask\n",
    "\n",
    "    do! Async.Sleep 150\n",
    "\n",
    "    for i = 1 to n do\n",
    "        do! deleteFileAsync (path </> $\"file_{i}.txt\") |> Async.Ignore\n",
    "\n",
    "    do! Async.Sleep 150\n",
    "}\n",
    "\n",
    "let run () =\n",
    "    let events =\n",
    "        testEventsRaw watchDirectory write\n",
    "        |> List.map (function\n",
    "            | FileSystemChange.Changed (path, Some content) ->\n",
    "                FileSystemChange.Changed (path, content |> Seq.distinct |> Seq.map string |> String.concat \"\" |> Some)\n",
    "            | FileSystemChange.Created (path, Some content) ->\n",
    "                FileSystemChange.Created (path, content |> Seq.distinct |> Seq.map string |> String.concat \"\" |> Some)\n",
    "            | FileSystemChange.Renamed (oldPath, (newPath, Some content)) ->\n",
    "                FileSystemChange.Renamed (\n",
    "                    oldPath,\n",
    "                    (newPath, content |> Seq.distinct |> Seq.map string |> String.concat \"\" |> Some)\n",
    "                )\n",
    "            | event -> event\n",
    "        )\n",
    "\n",
    "    events\n",
    "    |> _sequenceEqual [\n",
    "        FileSystemChange.Created (\"file1.txt\", Some \"1a\")\n",
    "        FileSystemChange.Changed (\"file1.txt\", Some \"1a\")\n",
    "        FileSystemChange.Created (\"file2.txt\", Some \"2a\")\n",
    "        FileSystemChange.Changed (\"file2.txt\", Some \"2a\")\n",
    "\n",
    "        FileSystemChange.Changed (\"file1.txt\", Some \"1b\")\n",
    "        FileSystemChange.Changed (\"file2.txt\", Some \"2b\")\n",
    "\n",
    "        FileSystemChange.Renamed (\"file1.txt\", (\"file_1.txt\", Some \"1b\"))\n",
    "        FileSystemChange.Renamed (\"file2.txt\", (\"file_2.txt\", Some \"2b\"))\n",
    "\n",
    "        FileSystemChange.Changed (\"file_1.txt\", Some \"1c\")\n",
    "        FileSystemChange.Changed (\"file_2.txt\", Some \"2c\")\n",
    "\n",
    "        FileSystemChange.Deleted \"file_1.txt\"\n",
    "        FileSystemChange.Deleted \"file_2.txt\"\n",
    "    ]\n",
    "\n",
    "run\n",
    "|> retryFn 3\n",
    "|> _equal (Some ())"
   ]
  },
  {
   "cell_type": "markdown",
   "metadata": {
    "dotnet_repl_cellExecutionStartTime": "2023-07-25T16:03:41.7079316-03:00",
    "dotnet_repl_cellExecutionEndTime": "2023-07-25T16:03:41.7103762-03:00",
    "dotnet_repl_cellExecutionTime": "2.4473ms"
   },
   "source": [
    "### testEventsSorted (test)"
   ]
  },
  {
   "cell_type": "code",
   "execution_count": null,
   "metadata": {
    "dotnet_repl_cellExecutionStartTime": "2023-07-25T16:03:41.7104227-03:00",
    "dotnet_repl_cellExecutionEndTime": "2023-07-25T16:03:41.8141542-03:00",
    "dotnet_repl_cellExecutionTime": "103.7328ms",
    "dotnet_interactive": {
     "language": "fsharp"
    },
    "polyglot_notebook": {
     "kernelName": "fsharp"
    }
   },
   "outputs": [],
   "source": [
    "//// test\n",
    "\n",
    "let sortEvent event =\n",
    "    match event with\n",
    "    | FileSystemChange.Error _ -> 0\n",
    "    | FileSystemChange.Created _ -> 1\n",
    "    | FileSystemChange.Changed _ -> 2\n",
    "    | FileSystemChange.Renamed (_oldPath, _) -> 3\n",
    "    | FileSystemChange.Deleted _ -> 4\n",
    "\n",
    "let formatEvents events =\n",
    "    events\n",
    "    |> Seq.toList\n",
    "    |> List.sortBy (snd >> sortEvent)\n",
    "    |> List.choose (fun (ticks, event) ->\n",
    "        match event with\n",
    "        | FileSystemChange.Error _ ->\n",
    "            None\n",
    "        | FileSystemChange.Changed (path, _) ->\n",
    "            Some (ticks, System.IO.Path.GetFileName path, nameof FileSystemChangeType.Changed)\n",
    "        | FileSystemChange.Created (path, _) ->\n",
    "            Some (ticks, System.IO.Path.GetFileName path, nameof FileSystemChangeType.Created)\n",
    "        | FileSystemChange.Deleted path ->\n",
    "            Some (ticks, System.IO.Path.GetFileName path, nameof FileSystemChangeType.Deleted)\n",
    "        | FileSystemChange.Renamed (_oldPath, (path, _)) ->\n",
    "            Some (ticks, System.IO.Path.GetFileName path, nameof FileSystemChangeType.Renamed)\n",
    "    )\n",
    "    |> List.sortBy (fun (_, path, _) -> path)\n",
    "    |> List.distinctBy (fun (_, path, event) -> path, event)\n",
    "\n",
    "let testEventsSorted (watchFn : string -> FSharp.Control.AsyncSeq<int64 * FileSystemChange> * IDisposable) write =\n",
    "    let path = createTempDirectory ()\n",
    "    let stream, disposable = watchFn path\n",
    "\n",
    "    let events = System.Collections.Concurrent.ConcurrentBag ()\n",
    "\n",
    "    let iter () =\n",
    "        stream\n",
    "        |> FSharp.Control.AsyncSeq.iterAsyncParallel (fun event -> async { events.Add event })\n",
    "\n",
    "    let run = async {\n",
    "        let! _ = iter () |> Async.StartChild\n",
    "        do! Async.Sleep 150\n",
    "        return! write path\n",
    "    }\n",
    "\n",
    "    try\n",
    "        run\n",
    "        |> Async.runWithTimeout 3000\n",
    "        |> _equal (Some ())\n",
    "    finally\n",
    "        disposable.Dispose ()\n",
    "        deleteDirectoryAsync path |> Async.Ignore |> Async.RunSynchronously\n",
    "\n",
    "    let events = formatEvents events\n",
    "\n",
    "    let eventMap =\n",
    "        events\n",
    "        |> List.map (fun (ticks, path, event) -> path, (event, ticks))\n",
    "        |> List.groupBy fst\n",
    "        |> List.map (fun (path, events) ->\n",
    "            let event, _ticks =\n",
    "                events\n",
    "                |> List.map snd\n",
    "                |> List.sortByDescending snd\n",
    "                |> List.head\n",
    "\n",
    "            path, event\n",
    "        )\n",
    "        |> Map.ofList\n",
    "\n",
    "    let eventList =\n",
    "        events\n",
    "        |> List.map (fun (_ticks, path, event) -> path, event)\n",
    "\n",
    "    eventMap, eventList"
   ]
  },
  {
   "cell_type": "markdown",
   "metadata": {
    "dotnet_repl_cellExecutionStartTime": "2023-07-25T16:03:41.8141962-03:00",
    "dotnet_repl_cellExecutionEndTime": "2023-07-25T16:03:41.8163988-03:00",
    "dotnet_repl_cellExecutionTime": "2.2039ms"
   },
   "source": [
    "#### create and delete (test)"
   ]
  },
  {
   "cell_type": "code",
   "execution_count": null,
   "metadata": {
    "dotnet_repl_cellExecutionStartTime": "2023-07-25T16:03:41.816423-03:00",
    "dotnet_repl_cellExecutionEndTime": "2023-07-25T16:03:42.2694474-03:00",
    "dotnet_repl_cellExecutionTime": "453.0262ms",
    "dotnet_interactive": {
     "language": "fsharp"
    },
    "polyglot_notebook": {
     "kernelName": "fsharp"
    }
   },
   "outputs": [
    {
     "name": "stdout",
     "output_type": "stream",
     "text": [
      "16:03:41 #65 [Debug] createTempDirectory / tempFolder: C:\\Users\\i574n\\AppData\\Local\\Temp\\!dotnet-repl\\20230725-1603-4188-8808-87e648f07dce / result: { CreationTime = 2023-07-25 4:03:41 PM\n",
      "  Exists = true }\r\n",
      "FSharpOption<Unit>\r\n",
      "      Value: <null>\r\n",
      "16:03:42 #66 [Debug] watchWithFilter / Disposing watch stream / fullPath: C:\\Users\\i574n\\AppData\\Local\\Temp\\!dotnet-repl\\20230725-1603-4188-8808-87e648f07dce / filter: FileName, DirectoryName, Attributes, CreationTime, Security\r\n",
      "FSharpList<Tuple<String,String>>\r\n",
      "( file1.txt, Created )\r\n",
      "( file1.txt, Changed )\r\n",
      "( file1.txt, Deleted )\r\n",
      "( file2.txt, Created )\r\n",
      "( file2.txt, Changed )\r\n",
      "( file2.txt, Deleted )\r\n",
      "( file3.txt, Created )\r\n",
      "( file3.txt, Changed )\r\n",
      "( file3.txt, Deleted )\r\n",
      "FSharpMap<String,String>\r\n",
      "      - Key: file1.txt\r\n",
      "        Value: Deleted\r\n",
      "      - Key: file2.txt\r\n",
      "        Value: Deleted\r\n",
      "      - Key: file3.txt\r\n",
      "        Value: Deleted\r\n"
     ]
    }
   ],
   "source": [
    "//// test\n",
    "\n",
    "let write path = async {\n",
    "    let n = 3\n",
    "\n",
    "    for i = 1 to n do\n",
    "        do! System.IO.File.WriteAllTextAsync (path </> $\"file{i}.txt\", $\"{i}\") |> Async.AwaitTask\n",
    "\n",
    "    for i = 1 to n do\n",
    "        do! deleteFileAsync (path </> $\"file{i}.txt\") |> Async.Ignore\n",
    "    \n",
    "    do! Async.Sleep 150\n",
    "}\n",
    "\n",
    "let eventMap, eventList = testEventsSorted (watchDirectory false) write\n",
    "\n",
    "[\n",
    "    \"file1.txt\", nameof FileSystemChangeType.Created\n",
    "    \"file1.txt\", nameof FileSystemChangeType.Changed\n",
    "    \"file1.txt\", nameof FileSystemChangeType.Deleted\n",
    "\n",
    "    \"file2.txt\", nameof FileSystemChangeType.Created\n",
    "    \"file2.txt\", nameof FileSystemChangeType.Changed\n",
    "    \"file2.txt\", nameof FileSystemChangeType.Deleted\n",
    "\n",
    "    \"file3.txt\", nameof FileSystemChangeType.Created\n",
    "    \"file3.txt\", nameof FileSystemChangeType.Changed\n",
    "    \"file3.txt\", nameof FileSystemChangeType.Deleted\n",
    "]\n",
    "|> _sequenceEqual eventList\n",
    "\n",
    "[\n",
    "    \"file1.txt\", nameof FileSystemChangeType.Deleted\n",
    "    \"file2.txt\", nameof FileSystemChangeType.Deleted\n",
    "    \"file3.txt\", nameof FileSystemChangeType.Deleted\n",
    "]\n",
    "|> Map.ofList\n",
    "|> _sequenceEqual eventMap"
   ]
  },
  {
   "cell_type": "markdown",
   "metadata": {
    "dotnet_repl_cellExecutionStartTime": "2023-07-25T16:03:42.2695237-03:00",
    "dotnet_repl_cellExecutionEndTime": "2023-07-25T16:03:42.2715117-03:00",
    "dotnet_repl_cellExecutionTime": "1.994ms"
   },
   "source": [
    "#### change (test)"
   ]
  },
  {
   "cell_type": "code",
   "execution_count": null,
   "metadata": {
    "dotnet_repl_cellExecutionStartTime": "2023-07-25T16:03:42.2716024-03:00",
    "dotnet_repl_cellExecutionEndTime": "2023-07-25T16:03:42.684787-03:00",
    "dotnet_repl_cellExecutionTime": "413.1858ms",
    "dotnet_interactive": {
     "language": "fsharp"
    },
    "polyglot_notebook": {
     "kernelName": "fsharp"
    }
   },
   "outputs": [
    {
     "name": "stdout",
     "output_type": "stream",
     "text": [
      "16:03:42 #67 [Debug] createTempDirectory / tempFolder: C:\\Users\\i574n\\AppData\\Local\\Temp\\!dotnet-repl\\20230725-1603-4235-3513-3b1cc9066282 / result: { CreationTime = 2023-07-25 4:03:42 PM\n",
      "  Exists = true }\r\n",
      "FSharpOption<Unit>\r\n",
      "      Value: <null>\r\n",
      "16:03:42 #68 [Debug] watchWithFilter / Disposing watch stream / fullPath: C:\\Users\\i574n\\AppData\\Local\\Temp\\!dotnet-repl\\20230725-1603-4235-3513-3b1cc9066282 / filter: FileName, DirectoryName, Attributes, CreationTime, Security\r\n",
      "FSharpList<Tuple<String,String>>\r\n",
      "( file1.txt, Created )\r\n",
      "( file1.txt, Changed )\r\n",
      "( file1.txt, Deleted )\r\n",
      "( file2.txt, Created )\r\n",
      "( file2.txt, Changed )\r\n",
      "( file2.txt, Deleted )\r\n",
      "FSharpMap<String,String>\r\n",
      "      - Key: file1.txt\r\n",
      "        Value: Deleted\r\n",
      "      - Key: file2.txt\r\n",
      "        Value: Deleted\r\n"
     ]
    }
   ],
   "source": [
    "//// test\n",
    "\n",
    "let write path = async {\n",
    "    let n = 2\n",
    "\n",
    "    for i = 1 to n do\n",
    "        do! System.IO.File.WriteAllTextAsync (path </> $\"file{i}.txt\", $\"{i}\") |> Async.AwaitTask\n",
    "\n",
    "    for i = 1 to n do\n",
    "        do! System.IO.File.WriteAllTextAsync (path </> $\"file{i}.txt\", \"\") |> Async.AwaitTask\n",
    "\n",
    "    for i = 1 to n do\n",
    "        do! deleteFileAsync (path </> $\"file{i}.txt\") |> Async.Ignore\n",
    "    \n",
    "    do! Async.Sleep 150\n",
    "}\n",
    "\n",
    "let eventMap, eventList = testEventsSorted (watchDirectory false) write\n",
    "\n",
    "[\n",
    "    \"file1.txt\", nameof FileSystemChangeType.Created\n",
    "    \"file1.txt\", nameof FileSystemChangeType.Changed\n",
    "    \"file1.txt\", nameof FileSystemChangeType.Deleted\n",
    "\n",
    "    \"file2.txt\", nameof FileSystemChangeType.Created\n",
    "    \"file2.txt\", nameof FileSystemChangeType.Changed\n",
    "    \"file2.txt\", nameof FileSystemChangeType.Deleted\n",
    "]\n",
    "|> _sequenceEqual eventList\n",
    "\n",
    "[\n",
    "    \"file1.txt\", nameof FileSystemChangeType.Deleted\n",
    "    \"file2.txt\", nameof FileSystemChangeType.Deleted\n",
    "]\n",
    "|> Map.ofList\n",
    "|> _sequenceEqual eventMap"
   ]
  },
  {
   "cell_type": "markdown",
   "metadata": {
    "dotnet_repl_cellExecutionStartTime": "2023-07-25T16:03:42.6848165-03:00",
    "dotnet_repl_cellExecutionEndTime": "2023-07-25T16:03:42.6871244-03:00",
    "dotnet_repl_cellExecutionTime": "2.3097ms"
   },
   "source": [
    "#### rename (test)"
   ]
  },
  {
   "cell_type": "code",
   "execution_count": null,
   "metadata": {
    "dotnet_repl_cellExecutionStartTime": "2023-07-25T16:03:42.6871647-03:00",
    "dotnet_repl_cellExecutionEndTime": "2023-07-25T16:03:43.1551298-03:00",
    "dotnet_repl_cellExecutionTime": "467.9681ms",
    "dotnet_interactive": {
     "language": "fsharp"
    },
    "polyglot_notebook": {
     "kernelName": "fsharp"
    }
   },
   "outputs": [
    {
     "name": "stdout",
     "output_type": "stream",
     "text": [
      "16:03:42 #69 [Debug] createTempDirectory / tempFolder: C:\\Users\\i574n\\AppData\\Local\\Temp\\!dotnet-repl\\20230725-1603-4277-7763-7bc96d83c27c / result: { CreationTime = 2023-07-25 4:03:42 PM\n",
      "  Exists = true }\r\n",
      "FSharpOption<Unit>\r\n",
      "      Value: <null>\r\n",
      "16:03:43 #70 [Debug] watchWithFilter / Disposing watch stream / fullPath: C:\\Users\\i574n\\AppData\\Local\\Temp\\!dotnet-repl\\20230725-1603-4277-7763-7bc96d83c27c / filter: FileName, DirectoryName, Attributes, CreationTime, Security\r\n",
      "FSharpList<Tuple<String,String>>\r\n",
      "( file1.txt, Created )\r\n",
      "( file1.txt, Changed )\r\n",
      "( file2.txt, Created )\r\n",
      "( file2.txt, Changed )\r\n",
      "( file_1.txt, Renamed )\r\n",
      "( file_1.txt, Deleted )\r\n",
      "( file_2.txt, Renamed )\r\n",
      "( file_2.txt, Deleted )\r\n",
      "FSharpMap<String,String>\r\n",
      "      - Key: file1.txt\r\n",
      "        Value: Changed\r\n",
      "      - Key: file2.txt\r\n",
      "        Value: Changed\r\n",
      "      - Key: file_1.txt\r\n",
      "        Value: Deleted\r\n",
      "      - Key: file_2.txt\r\n",
      "        Value: Deleted\r\n"
     ]
    }
   ],
   "source": [
    "//// test\n",
    "\n",
    "let write path = async {\n",
    "    let n = 2\n",
    "\n",
    "    for i = 1 to n do\n",
    "        do! System.IO.File.WriteAllTextAsync (path </> $\"file{i}.txt\", $\"{i}\") |> Async.AwaitTask\n",
    "\n",
    "    for i = 1 to n do\n",
    "        do! path </> $\"file{i}.txt\" |> moveFileAsync (path </> $\"file_{i}.txt\") |> Async.Ignore\n",
    "\n",
    "    for i = 1 to n do\n",
    "        do! deleteFileAsync (path </> $\"file_{i}.txt\") |> Async.Ignore\n",
    "    \n",
    "    do! Async.Sleep 150\n",
    "}\n",
    "\n",
    "let eventMap, eventList = testEventsSorted (watchDirectory false) write\n",
    "\n",
    "[\n",
    "    \"file1.txt\", nameof FileSystemChangeType.Created\n",
    "    \"file1.txt\", nameof FileSystemChangeType.Changed\n",
    "    \"file2.txt\", nameof FileSystemChangeType.Created\n",
    "    \"file2.txt\", nameof FileSystemChangeType.Changed\n",
    "\n",
    "    \"file_1.txt\", nameof FileSystemChangeType.Renamed\n",
    "    \"file_1.txt\", nameof FileSystemChangeType.Deleted\n",
    "\n",
    "    \"file_2.txt\", nameof FileSystemChangeType.Renamed\n",
    "    \"file_2.txt\", nameof FileSystemChangeType.Deleted\n",
    "]\n",
    "|> _sequenceEqual eventList\n",
    "\n",
    "[\n",
    "    \"file1.txt\", nameof FileSystemChangeType.Changed\n",
    "    \"file2.txt\", nameof FileSystemChangeType.Changed\n",
    "    \"file_1.txt\", nameof FileSystemChangeType.Deleted\n",
    "    \"file_2.txt\", nameof FileSystemChangeType.Deleted\n",
    "]\n",
    "|> Map.ofList\n",
    "|> _sequenceEqual eventMap"
   ]
  },
  {
   "cell_type": "markdown",
   "metadata": {
    "dotnet_repl_cellExecutionStartTime": "2023-07-25T16:03:43.1552003-03:00",
    "dotnet_repl_cellExecutionEndTime": "2023-07-25T16:03:43.1603666-03:00",
    "dotnet_repl_cellExecutionTime": "5.1697ms"
   },
   "source": [
    "#### full (test)"
   ]
  },
  {
   "cell_type": "code",
   "execution_count": null,
   "metadata": {
    "dotnet_repl_cellExecutionStartTime": "2023-07-25T16:03:43.1604365-03:00",
    "dotnet_repl_cellExecutionEndTime": "2023-07-25T16:03:43.6383318-03:00",
    "dotnet_repl_cellExecutionTime": "477.8972ms",
    "dotnet_interactive": {
     "language": "fsharp"
    },
    "polyglot_notebook": {
     "kernelName": "fsharp"
    }
   },
   "outputs": [
    {
     "name": "stdout",
     "output_type": "stream",
     "text": [
      "16:03:43 #71 [Debug] createTempDirectory / tempFolder: C:\\Users\\i574n\\AppData\\Local\\Temp\\!dotnet-repl\\20230725-1603-4327-2792-22d528f01c88 / result: { CreationTime = 2023-07-25 4:03:43 PM\n",
      "  Exists = true }\r\n",
      "FSharpOption<Unit>\r\n",
      "      Value: <null>\r\n",
      "16:03:43 #72 [Debug] watchWithFilter / Disposing watch stream / fullPath: C:\\Users\\i574n\\AppData\\Local\\Temp\\!dotnet-repl\\20230725-1603-4327-2792-22d528f01c88 / filter: FileName, DirectoryName, Attributes, CreationTime, Security\r\n",
      "FSharpList<Tuple<String,String>>\r\n",
      "( file1.txt, Created )\r\n",
      "( file1.txt, Changed )\r\n",
      "( file2.txt, Created )\r\n",
      "( file2.txt, Changed )\r\n",
      "( file_1.txt, Changed )\r\n",
      "( file_1.txt, Renamed )\r\n",
      "( file_1.txt, Deleted )\r\n",
      "( file_2.txt, Changed )\r\n",
      "( file_2.txt, Renamed )\r\n",
      "( file_2.txt, Deleted )\r\n",
      "FSharpMap<String,String>\r\n",
      "      - Key: file1.txt\r\n",
      "        Value: Changed\r\n",
      "      - Key: file2.txt\r\n",
      "        Value: Changed\r\n",
      "      - Key: file_1.txt\r\n",
      "        Value: Deleted\r\n",
      "      - Key: file_2.txt\r\n",
      "        Value: Deleted\r\n"
     ]
    }
   ],
   "source": [
    "//// test\n",
    "\n",
    "let write path = async {\n",
    "    let n = 2\n",
    "\n",
    "    for i = 1 to n do\n",
    "        do! System.IO.File.WriteAllTextAsync (path </> $\"file{i}.txt\", $\"{i}\") |> Async.AwaitTask\n",
    "\n",
    "    for i = 1 to n do\n",
    "        do! System.IO.File.WriteAllTextAsync (path </> $\"file{i}.txt\", \"\") |> Async.AwaitTask\n",
    "\n",
    "    for i = 1 to n do\n",
    "        do! path </> $\"file{i}.txt\" |> moveFileAsync (path </> $\"file_{i}.txt\") |> Async.Ignore\n",
    "\n",
    "    for i = 1 to n do\n",
    "        do! System.IO.File.WriteAllTextAsync (path </> $\"file_{i}.txt\", $\"{i}\") |> Async.AwaitTask\n",
    "\n",
    "    for i = 1 to n do\n",
    "        do! deleteFileAsync (path </> $\"file_{i}.txt\") |> Async.Ignore\n",
    "    \n",
    "    do! Async.Sleep 150\n",
    "}\n",
    "\n",
    "let eventMap, eventList = testEventsSorted (watchDirectory false) write\n",
    "\n",
    "[\n",
    "    \"file1.txt\", nameof FileSystemChangeType.Created\n",
    "    \"file1.txt\", nameof FileSystemChangeType.Changed\n",
    "    \"file2.txt\", nameof FileSystemChangeType.Created\n",
    "    \"file2.txt\", nameof FileSystemChangeType.Changed\n",
    "\n",
    "    \"file_1.txt\", nameof FileSystemChangeType.Changed\n",
    "    \"file_1.txt\", nameof FileSystemChangeType.Renamed\n",
    "    \"file_1.txt\", nameof FileSystemChangeType.Deleted\n",
    "\n",
    "    \"file_2.txt\", nameof FileSystemChangeType.Changed\n",
    "    \"file_2.txt\", nameof FileSystemChangeType.Renamed\n",
    "    \"file_2.txt\", nameof FileSystemChangeType.Deleted\n",
    "]\n",
    "|> _sequenceEqual eventList\n",
    "\n",
    "[\n",
    "    \"file1.txt\", nameof FileSystemChangeType.Changed\n",
    "    \"file2.txt\", nameof FileSystemChangeType.Changed\n",
    "    \"file_1.txt\", nameof FileSystemChangeType.Deleted\n",
    "    \"file_2.txt\", nameof FileSystemChangeType.Deleted\n",
    "]\n",
    "|> Map.ofList\n",
    "|> _sequenceEqual eventMap"
   ]
  }
 ],
 "metadata": {
  "kernelspec": {
   "display_name": ".NET (C#)",
   "language": "C#",
   "name": ".net-csharp"
  },
  "language_info": {
   "file_extension": ".cs",
   "mimetype": "text/x-csharp",
   "name": "C#",
   "pygments_lexer": "csharp",
   "version": "10.0"
  },
  "polyglot_notebook": {
   "defaultKernelName": "csharp",
   "items": [
    {
     "name": "csharp"
    }
   ]
  },
  "dotnet_interactive": {
   "defaultKernelName": "csharp",
   "items": [
    {
     "name": "csharp"
    }
   ]
  }
 },
 "nbformat": 4,
 "nbformat_minor": 5
}