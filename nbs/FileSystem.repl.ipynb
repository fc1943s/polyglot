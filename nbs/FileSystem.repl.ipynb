{
 "cells": [
  {
   "cell_type": "markdown",
   "metadata": {},
   "source": [
    "# FileSystem (Polyglot)"
   ]
  },
  {
   "cell_type": "code",
   "execution_count": null,
   "metadata": {
    "dotnet_interactive": {
     "language": "fsharp"
    },
    "polyglot_notebook": {
     "kernelName": "fsharp"
    }
   },
   "outputs": [],
   "source": [
    "#!import ../nbs/Testing.dib"
   ]
  },
  {
   "cell_type": "code",
   "execution_count": null,
   "metadata": {
    "dotnet_interactive": {
     "language": "fsharp"
    },
    "polyglot_notebook": {
     "kernelName": "fsharp"
    }
   },
   "outputs": [],
   "source": [
    "#r @\"../../../../../../../.nuget/packages/fsharp.control.asyncseq/3.2.1/lib/netstandard2.1/FSharp.Control.AsyncSeq.dll\"\n",
    "#r @\"../../../../../../../.nuget/packages/system.reactive/5.0.0/lib/net5.0/System.Reactive.dll\"\n",
    "#r @\"../../../../../../../.nuget/packages/system.reactive.linq/6.0.1-preview.1/lib/netstandard2.0/System.Reactive.Linq.dll\"\n",
    "#r @\"../../../../../../../.nuget/packages/argu/6.1.1/lib/netstandard2.0/Argu.dll\"\n",
    "#r @\"../../../../../../../.nuget/packages/system.commandline/2.0.0-beta4.22272.1/lib/net6.0/System.CommandLine.dll\""
   ]
  },
  {
   "cell_type": "code",
   "execution_count": null,
   "metadata": {
    "dotnet_interactive": {
     "language": "fsharp"
    },
    "polyglot_notebook": {
     "kernelName": "fsharp"
    }
   },
   "outputs": [],
   "source": [
    "#!import ../nbs/Common.fs\n",
    "#!import ../nbs/Async.fs\n",
    "#!import ../nbs/AsyncSeq.fs\n",
    "#!import ../nbs/Runtime.fs"
   ]
  },
  {
   "cell_type": "code",
   "execution_count": null,
   "metadata": {
    "dotnet_interactive": {
     "language": "fsharp"
    },
    "polyglot_notebook": {
     "kernelName": "fsharp"
    }
   },
   "outputs": [],
   "source": [
    "open Common"
   ]
  },
  {
   "cell_type": "markdown",
   "metadata": {},
   "source": [
    "## Operators"
   ]
  },
  {
   "cell_type": "code",
   "execution_count": null,
   "metadata": {
    "dotnet_interactive": {
     "language": "fsharp"
    },
    "polyglot_notebook": {
     "kernelName": "fsharp"
    }
   },
   "outputs": [],
   "source": [
    "let inline (</>) a b = System.IO.Path.Combine (a, b)"
   ]
  },
  {
   "cell_type": "markdown",
   "metadata": {},
   "source": [
    "## createTempDirectoryName"
   ]
  },
  {
   "cell_type": "code",
   "execution_count": null,
   "metadata": {
    "dotnet_interactive": {
     "language": "fsharp"
    },
    "polyglot_notebook": {
     "kernelName": "fsharp"
    }
   },
   "outputs": [],
   "source": [
    "let inline createTempDirectoryName () =\n",
    "    let root =\n",
    "        match System.Reflection.Assembly.GetEntryAssembly().GetName().Name with\n",
    "        | assemblyName -> assemblyName\n",
    "\n",
    "    System.IO.Path.GetTempPath ()\n",
    "    </> $\"!{root}\"\n",
    "    </> string (newGuidFromDateTime System.DateTime.Now)"
   ]
  },
  {
   "cell_type": "code",
   "execution_count": null,
   "metadata": {
    "dotnet_interactive": {
     "language": "fsharp"
    },
    "polyglot_notebook": {
     "kernelName": "fsharp"
    }
   },
   "outputs": [
    {
     "name": "stdout",
     "output_type": "stream",
     "text": [
      "C:\\Users\\i574n\\AppData\\Local\\Temp\\!dotnet-repl\\20230801-1927-4425-2532-2b28b7e52df4\r\n"
     ]
    }
   ],
   "source": [
    "//// test\n",
    "\n",
    "createTempDirectoryName ()\n",
    "|> _contains System.IO.Path.DirectorySeparatorChar"
   ]
  },
  {
   "cell_type": "markdown",
   "metadata": {},
   "source": [
    "## createTempDirectory"
   ]
  },
  {
   "cell_type": "code",
   "execution_count": null,
   "metadata": {
    "dotnet_interactive": {
     "language": "fsharp"
    },
    "polyglot_notebook": {
     "kernelName": "fsharp"
    }
   },
   "outputs": [],
   "source": [
    "let inline createTempDirectory () =\n",
    "    let tempFolder = createTempDirectoryName ()\n",
    "    let result = System.IO.Directory.CreateDirectory tempFolder\n",
    "\n",
    "    let getLocals () =\n",
    "        $\"tempFolder: {tempFolder} / result: {({|\n",
    "            Exists = result.Exists\n",
    "            CreationTime = result.CreationTime\n",
    "        |})} {getLocals ()}\"\n",
    "\n",
    "    trace Debug (fun () -> \"createTempDirectory\") getLocals\n",
    "\n",
    "    tempFolder"
   ]
  },
  {
   "cell_type": "code",
   "execution_count": null,
   "metadata": {
    "dotnet_interactive": {
     "language": "fsharp"
    },
    "polyglot_notebook": {
     "kernelName": "fsharp"
    }
   },
   "outputs": [
    {
     "name": "stdout",
     "output_type": "stream",
     "text": [
      "19:27:44 #1 [Debug] createTempDirectory / tempFolder: C:\\Users\\i574n\\AppData\\Local\\Temp\\!dotnet-repl\\20230801-1927-4442-4284-41f9137db955 / result: { CreationTime = 2023-08-01 7:27:44 PM\n",
      "  Exists = true }\r\n",
      "True\r\n"
     ]
    }
   ],
   "source": [
    "//// test\n",
    "\n",
    "let tempDirectory = createTempDirectory ()\n",
    "\n",
    "Directory.Exists tempDirectory\n",
    "|> _equal true"
   ]
  },
  {
   "cell_type": "markdown",
   "metadata": {},
   "source": [
    "## waitForFileAccess"
   ]
  },
  {
   "cell_type": "code",
   "execution_count": null,
   "metadata": {
    "dotnet_interactive": {
     "language": "fsharp"
    },
    "polyglot_notebook": {
     "kernelName": "fsharp"
    }
   },
   "outputs": [],
   "source": [
    "let inline waitForFileAccess access path =\n",
    "    let fileAccess, fileShare =\n",
    "        access\n",
    "        |> Option.defaultValue (System.IO.FileAccess.ReadWrite, System.IO.FileShare.Read)\n",
    "\n",
    "    let rec loop retry = async {\n",
    "        try\n",
    "            use _ = new System.IO.FileStream (\n",
    "                path,\n",
    "                System.IO.FileMode.Open,\n",
    "                fileAccess,\n",
    "                fileShare\n",
    "            )\n",
    "            return retry\n",
    "        with ex ->\n",
    "            if retry % 100 = 0 then\n",
    "                let getLocals () = $\"path: {path} / ex: {ex |> printException} / {getLocals ()}\"\n",
    "                trace Warn (fun () -> \"waitForFileAccess\") getLocals\n",
    "            do! Async.Sleep 10\n",
    "            return! loop (retry + 1)\n",
    "    }\n",
    "    loop 0"
   ]
  },
  {
   "cell_type": "code",
   "execution_count": null,
   "metadata": {
    "dotnet_interactive": {
     "language": "fsharp"
    },
    "polyglot_notebook": {
     "kernelName": "fsharp"
    }
   },
   "outputs": [
    {
     "name": "stdout",
     "output_type": "stream",
     "text": [
      "19:27:44 #2 [Debug] createTempDirectory / tempFolder: C:\\Users\\i574n\\AppData\\Local\\Temp\\!dotnet-repl\\20230801-1927-4499-9963-953ed4c3031d / result: { CreationTime = 2023-08-01 7:27:44 PM\n",
      "  Exists = true }\r\n",
      "19:27:45 #3 [Debug] 1\r\n",
      "19:27:45 #4 [Debug] 2\r\n",
      "19:27:45 #5 [Debug] _1\r\n",
      "19:27:45 #6 [Debug] 3\r\n",
      "19:27:45 #7 [Debug] _2\r\n",
      "19:27:45 #8 [Debug] 4\r\n",
      "19:27:45 #9 [Warn] waitForFileAccess / path: C:\\Users\\i574n\\AppData\\Local\\Temp\\!dotnet-repl\\20230801-1927-4499-9963-953ed4c3031d\\test.txt / ex: System.IO.IOException: The process cannot access the file 'C:\\Users\\i574n\\AppData\\Local\\Temp\\!dotnet-repl\\20230801-1927-4499-9963-953ed4c3031d\\test.txt' because it is being used by another process.\r\n",
      "19:27:46 #10 [Warn] waitForFileAccess / path: C:\\Users\\i574n\\AppData\\Local\\Temp\\!dotnet-repl\\20230801-1927-4499-9963-953ed4c3031d\\test.txt / ex: System.IO.IOException: The process cannot access the file 'C:\\Users\\i574n\\AppData\\Local\\Temp\\!dotnet-repl\\20230801-1927-4499-9963-953ed4c3031d\\test.txt' because it is being used by another process.\r\n",
      "19:27:47 #11 [Debug] _3\r\n",
      "19:27:47 #12 [Debug] _4\r\n",
      "19:27:47 #13 [Debug] _5\r\n",
      "19:27:47 #14 [Debug] _6\r\n",
      "19:27:47 #15 [Debug] 5\r\n",
      "19:27:47 #16 [Debug] 6\r\n",
      "19:27:47 #17 [Debug] 7\r\n",
      "125\r\n",
      "125\r\n",
      "125\r\n",
      "1\r\n",
      "True\r\n"
     ]
    }
   ],
   "source": [
    "//// test\n",
    "\n",
    "let tempFolder = createTempDirectory ()\n",
    "let path = tempFolder </> \"test.txt\"\n",
    "\n",
    "let inline lockFile () = async {\n",
    "    trace Debug (fun () -> \"_1\") getLocals\n",
    "    use stream = new System.IO.FileStream (\n",
    "        path,\n",
    "        System.IO.FileMode.Open,\n",
    "        System.IO.FileAccess.ReadWrite,\n",
    "        System.IO.FileShare.None\n",
    "    )\n",
    "    trace Debug (fun () -> \"_2\") getLocals\n",
    "    do! Async.Sleep 2000\n",
    "    trace Debug (fun () -> \"_3\") getLocals\n",
    "    stream.Seek (0L, SeekOrigin.Begin) |> ignore\n",
    "    trace Debug (fun () -> \"_4\") getLocals\n",
    "    stream.WriteByte 49uy\n",
    "    trace Debug (fun () -> \"_5\") getLocals\n",
    "    stream.Flush ()\n",
    "    trace Debug (fun () -> \"_6\") getLocals\n",
    "}\n",
    "\n",
    "async {\n",
    "    trace Debug (fun () -> \"1\") getLocals\n",
    "    do! File.WriteAllTextAsync (path, \"0\") |> Async.AwaitTask\n",
    "    trace Debug (fun () -> \"2\") getLocals\n",
    "    let! child = lockFile () |> Async.StartChild\n",
    "    trace Debug (fun () -> \"3\") getLocals\n",
    "    do! Async.Sleep 1\n",
    "    trace Debug (fun () -> \"4\") getLocals\n",
    "    let! retries = path |> waitForFileAccess None\n",
    "    trace Debug (fun () -> \"5\") getLocals\n",
    "    let! text = File.ReadAllTextAsync path |> Async.AwaitTask\n",
    "    trace Debug (fun () -> \"6\") getLocals\n",
    "    do! child\n",
    "    trace Debug (fun () -> \"7\") getLocals\n",
    "    return retries, text\n",
    "}\n",
    "|> Async.runWithTimeout 3000\n",
    "|> function\n",
    "    | Some (retries, text) ->\n",
    "        retries\n",
    "        |> _isBetween\n",
    "            (if Runtime.isWindows () then 100 else 100)\n",
    "            (if Runtime.isWindows () then 150 else 200)\n",
    "        \n",
    "        text |> _equal \"1\"\n",
    "        \n",
    "        true\n",
    "    | _ -> false\n",
    "|> _equal true"
   ]
  },
  {
   "cell_type": "markdown",
   "metadata": {},
   "source": [
    "## deleteDirectoryAsync"
   ]
  },
  {
   "cell_type": "code",
   "execution_count": null,
   "metadata": {
    "dotnet_interactive": {
     "language": "fsharp"
    },
    "polyglot_notebook": {
     "kernelName": "fsharp"
    }
   },
   "outputs": [],
   "source": [
    "let inline deleteDirectoryAsync path =\n",
    "    let rec loop retry = async {\n",
    "        try\n",
    "            System.IO.Directory.Delete (path, true)\n",
    "            return retry\n",
    "        with ex ->\n",
    "            if retry % 100 = 0 then\n",
    "                let getLocals () = $\"path: {path} / ex: {ex |> printException} / {getLocals ()}\"\n",
    "                trace Warn (fun () -> \"deleteDirectoryAsync\") getLocals\n",
    "            do! Async.Sleep 10\n",
    "            return! loop (retry + 1)\n",
    "    }\n",
    "    loop 0"
   ]
  },
  {
   "cell_type": "code",
   "execution_count": null,
   "metadata": {
    "dotnet_interactive": {
     "language": "fsharp"
    },
    "polyglot_notebook": {
     "kernelName": "fsharp"
    }
   },
   "outputs": [
    {
     "name": "stdout",
     "output_type": "stream",
     "text": [
      "19:27:47 #18 [Debug] createTempDirectory / tempFolder: C:\\Users\\i574n\\AppData\\Local\\Temp\\!dotnet-repl\\20230801-1927-4750-5015-5897651e40c5 / result: { CreationTime = 2023-08-01 7:27:47 PM\n",
      "  Exists = true }\r\n",
      "19:27:47 #19 [Debug] 1\r\n",
      "19:27:47 #20 [Debug] 2\r\n",
      "19:27:47 #21 [Debug] 3\r\n",
      "19:27:47 #22 [Debug] _1\r\n",
      "19:27:47 #23 [Debug] _2\r\n",
      "19:27:47 #24 [Debug] 4\r\n",
      "19:27:47 #25 [Warn] deleteDirectoryAsync / path: C:\\Users\\i574n\\AppData\\Local\\Temp\\!dotnet-repl\\20230801-1927-4750-5015-5897651e40c5\\test / ex: System.IO.IOException: The process cannot access the file 'test.txt' because it is being used by another process.\r\n",
      "19:27:49 #26 [Warn] deleteDirectoryAsync / path: C:\\Users\\i574n\\AppData\\Local\\Temp\\!dotnet-repl\\20230801-1927-4750-5015-5897651e40c5\\test / ex: System.IO.IOException: The process cannot access the file 'test.txt' because it is being used by another process.\r\n",
      "19:27:49 #27 [Debug] _3\r\n",
      "19:27:49 #28 [Debug] 5\r\n",
      "19:27:49 #29 [Debug] 6\r\n",
      "127\r\n",
      "127\r\n",
      "127\r\n",
      "True\r\n"
     ]
    }
   ],
   "source": [
    "//// test\n",
    "\n",
    "let tempFolder = createTempDirectory ()\n",
    "let path = tempFolder </> \"test\"\n",
    "\n",
    "let inline lockDirectory () = async {\n",
    "    trace Debug (fun () -> \"_1\") getLocals\n",
    "    System.IO.File.WriteAllText (path </> \"test.txt\", \"0\")\n",
    "    use _ = new System.IO.FileStream (\n",
    "        path </> \"test.txt\",\n",
    "        System.IO.FileMode.Open,\n",
    "        System.IO.FileAccess.ReadWrite,\n",
    "        System.IO.FileShare.None\n",
    "    )\n",
    "    trace Debug (fun () -> \"_2\") getLocals\n",
    "    do! Async.Sleep 2000\n",
    "    trace Debug (fun () -> \"_3\") getLocals\n",
    "}\n",
    "\n",
    "async {\n",
    "    trace Debug (fun () -> \"1\") getLocals\n",
    "    Directory.CreateDirectory path |> ignore\n",
    "    trace Debug (fun () -> \"2\") getLocals\n",
    "    let! child = lockDirectory () |> Async.StartChild\n",
    "    trace Debug (fun () -> \"3\") getLocals\n",
    "    do! Async.Sleep 1\n",
    "    trace Debug (fun () -> \"4\") getLocals\n",
    "    let! retries = deleteDirectoryAsync path\n",
    "    trace Debug (fun () -> \"5\") getLocals\n",
    "    do! child\n",
    "    trace Debug (fun () -> \"6\") getLocals\n",
    "    return retries\n",
    "}\n",
    "|> Async.runWithTimeout 3000\n",
    "|> function\n",
    "    | Some retries ->\n",
    "        retries\n",
    "        |> _isBetween\n",
    "            (if Runtime.isWindows () then 100 else 0)\n",
    "            (if Runtime.isWindows () then 150 else 0)\n",
    "\n",
    "        true\n",
    "    | _ -> false\n",
    "|> _equal true"
   ]
  },
  {
   "cell_type": "markdown",
   "metadata": {},
   "source": [
    "## deleteFileAsync"
   ]
  },
  {
   "cell_type": "code",
   "execution_count": null,
   "metadata": {
    "dotnet_interactive": {
     "language": "fsharp"
    },
    "polyglot_notebook": {
     "kernelName": "fsharp"
    }
   },
   "outputs": [],
   "source": [
    "let inline deleteFileAsync path =\n",
    "    let rec loop retry = async {\n",
    "        try\n",
    "            System.IO.File.Delete path\n",
    "            return retry\n",
    "        with ex ->\n",
    "            if retry % 100 = 0 then\n",
    "                let getLocals () = $\"path: {path} / ex: {ex |> printException} / {getLocals ()}\"\n",
    "                trace Warn (fun () -> \"deleteFileAsync\") getLocals\n",
    "            do! Async.Sleep 10\n",
    "            return! loop (retry + 1)\n",
    "    }\n",
    "    loop 0"
   ]
  },
  {
   "cell_type": "code",
   "execution_count": null,
   "metadata": {
    "dotnet_interactive": {
     "language": "fsharp"
    },
    "polyglot_notebook": {
     "kernelName": "fsharp"
    }
   },
   "outputs": [
    {
     "name": "stdout",
     "output_type": "stream",
     "text": [
      "19:27:49 #30 [Debug] createTempDirectory / tempFolder: C:\\Users\\i574n\\AppData\\Local\\Temp\\!dotnet-repl\\20230801-1927-4988-8849-87ee0e6b5743 / result: { CreationTime = 2023-08-01 7:27:49 PM\n",
      "  Exists = true }\r\n",
      "19:27:49 #31 [Debug] 1\r\n",
      "19:27:49 #32 [Debug] 2\r\n",
      "19:27:49 #33 [Debug] 3\r\n",
      "19:27:49 #34 [Debug] _1\r\n",
      "19:27:49 #35 [Debug] _2\r\n",
      "19:27:49 #36 [Debug] 4\r\n",
      "19:27:49 #37 [Warn] deleteFileAsync / path: C:\\Users\\i574n\\AppData\\Local\\Temp\\!dotnet-repl\\20230801-1927-4988-8849-87ee0e6b5743\\test.txt / ex: System.IO.IOException: The process cannot access the file 'C:\\Users\\i574n\\AppData\\Local\\Temp\\!dotnet-repl\\20230801-1927-4988-8849-87ee0e6b5743\\test.txt' because it is being used by another process.\r\n",
      "19:27:51 #38 [Warn] deleteFileAsync / path: C:\\Users\\i574n\\AppData\\Local\\Temp\\!dotnet-repl\\20230801-1927-4988-8849-87ee0e6b5743\\test.txt / ex: System.IO.IOException: The process cannot access the file 'C:\\Users\\i574n\\AppData\\Local\\Temp\\!dotnet-repl\\20230801-1927-4988-8849-87ee0e6b5743\\test.txt' because it is being used by another process.\r\n",
      "19:27:51 #39 [Debug] _3\r\n",
      "19:27:51 #40 [Debug] 5\r\n",
      "19:27:51 #41 [Debug] 6\r\n",
      "127\r\n",
      "127\r\n",
      "127\r\n",
      "True\r\n"
     ]
    }
   ],
   "source": [
    "//// test\n",
    "\n",
    "let tempFolder = createTempDirectory ()\n",
    "let path = tempFolder </> \"test.txt\"\n",
    "\n",
    "let inline lockFile () = async {\n",
    "    trace Debug (fun () -> \"_1\") getLocals\n",
    "    use _ = new System.IO.FileStream (\n",
    "        path,\n",
    "        System.IO.FileMode.Open,\n",
    "        System.IO.FileAccess.ReadWrite,\n",
    "        System.IO.FileShare.None\n",
    "    )\n",
    "    trace Debug (fun () -> \"_2\") getLocals\n",
    "    do! Async.Sleep 2000\n",
    "    trace Debug (fun () -> \"_3\") getLocals\n",
    "}\n",
    "\n",
    "async {\n",
    "    trace Debug (fun () -> \"1\") getLocals\n",
    "    do! File.WriteAllTextAsync (path, \"0\") |> Async.AwaitTask\n",
    "    trace Debug (fun () -> \"2\") getLocals\n",
    "    let! child = lockFile () |> Async.StartChild\n",
    "    trace Debug (fun () -> \"3\") getLocals\n",
    "    do! Async.Sleep 1\n",
    "    trace Debug (fun () -> \"4\") getLocals\n",
    "    let! retries = deleteFileAsync path\n",
    "    trace Debug (fun () -> \"5\") getLocals\n",
    "    do! child\n",
    "    trace Debug (fun () -> \"6\") getLocals\n",
    "    return retries\n",
    "}\n",
    "|> Async.runWithTimeout 3000\n",
    "|> function\n",
    "    | Some retries ->\n",
    "        retries\n",
    "        |> _isBetween\n",
    "            (if Runtime.isWindows () then 100 else 0)\n",
    "            (if Runtime.isWindows () then 150 else 0)\n",
    "\n",
    "        true\n",
    "    | _ -> false\n",
    "|> _equal true"
   ]
  },
  {
   "cell_type": "markdown",
   "metadata": {},
   "source": [
    "## moveFileAsync"
   ]
  },
  {
   "cell_type": "code",
   "execution_count": null,
   "metadata": {
    "dotnet_interactive": {
     "language": "fsharp"
    },
    "polyglot_notebook": {
     "kernelName": "fsharp"
    }
   },
   "outputs": [],
   "source": [
    "let inline moveFileAsync newPath oldPath =\n",
    "    let rec loop retry = async {\n",
    "        try\n",
    "            System.IO.File.Move (oldPath, newPath)\n",
    "            return retry\n",
    "        with ex ->\n",
    "            if retry % 100 = 0 then\n",
    "                let getLocals () =\n",
    "                    $\"oldPath: {oldPath} / newPath: {newPath} / ex: {ex |> printException} / {getLocals ()}\"\n",
    "                trace Warn (fun () -> \"moveFileAsync\") getLocals\n",
    "            do! Async.Sleep 10\n",
    "            return! loop (retry + 1)\n",
    "    }\n",
    "    loop 0"
   ]
  },
  {
   "cell_type": "code",
   "execution_count": null,
   "metadata": {
    "dotnet_interactive": {
     "language": "fsharp"
    },
    "polyglot_notebook": {
     "kernelName": "fsharp"
    }
   },
   "outputs": [
    {
     "name": "stdout",
     "output_type": "stream",
     "text": [
      "19:27:52 #42 [Debug] createTempDirectory / tempFolder: C:\\Users\\i574n\\AppData\\Local\\Temp\\!dotnet-repl\\20230801-1927-5239-3938-3e46c6996b43 / result: { CreationTime = 2023-08-01 7:27:52 PM\n",
      "  Exists = true }\r\n",
      "19:27:52 #43 [Debug] 1\r\n",
      "19:27:52 #44 [Debug] 2\r\n",
      "19:27:52 #45 [Debug] 3\r\n",
      "19:27:52 #46 [Debug] _1\r\n",
      "19:27:52 #47 [Debug] _2\r\n",
      "19:27:52 #48 [Debug] 4\r\n",
      "19:27:52 #49 [Warn] moveFileAsync / oldPath: C:\\Users\\i574n\\AppData\\Local\\Temp\\!dotnet-repl\\20230801-1927-5239-3938-3e46c6996b43\\test.txt / newPath: C:\\Users\\i574n\\AppData\\Local\\Temp\\!dotnet-repl\\20230801-1927-5239-3938-3e46c6996b43\\test2.txt / ex: System.IO.IOException: The process cannot access the file because it is being used by another process.\r\n",
      "19:27:54 #50 [Warn] moveFileAsync / oldPath: C:\\Users\\i574n\\AppData\\Local\\Temp\\!dotnet-repl\\20230801-1927-5239-3938-3e46c6996b43\\test.txt / newPath: C:\\Users\\i574n\\AppData\\Local\\Temp\\!dotnet-repl\\20230801-1927-5239-3938-3e46c6996b43\\test2.txt / ex: System.IO.IOException: The process cannot access the file because it is being used by another process.\r\n",
      "19:27:54 #51 [Debug] _3\r\n",
      "19:27:54 #52 [Debug] 5\r\n",
      "19:27:54 #53 [Debug] 6\r\n",
      "19:27:54 #54 [Debug] 7\r\n",
      "19:27:54 #55 [Debug] 8\r\n",
      "126\r\n",
      "126\r\n",
      "126\r\n",
      "0\r\n",
      "0\r\n",
      "0\r\n",
      "0\r\n",
      "True\r\n"
     ]
    }
   ],
   "source": [
    "//// test\n",
    "\n",
    "let tempFolder = createTempDirectory ()\n",
    "let path = tempFolder </> \"test.txt\"\n",
    "let newPath = tempFolder </> \"test2.txt\"\n",
    "\n",
    "let inline lockFile () = async {\n",
    "    trace Debug (fun () -> \"_1\") getLocals\n",
    "    use _ = new System.IO.FileStream (\n",
    "        path,\n",
    "        System.IO.FileMode.Open,\n",
    "        System.IO.FileAccess.ReadWrite,\n",
    "        System.IO.FileShare.None\n",
    "    )\n",
    "    trace Debug (fun () -> \"_2\") getLocals\n",
    "    do! Async.Sleep 2000\n",
    "    trace Debug (fun () -> \"_3\") getLocals\n",
    "}\n",
    "\n",
    "async {\n",
    "    trace Debug (fun () -> \"1\") getLocals\n",
    "    do! File.WriteAllTextAsync (path, \"0\") |> Async.AwaitTask\n",
    "    trace Debug (fun () -> \"2\") getLocals\n",
    "    let! child = lockFile () |> Async.StartChild\n",
    "    trace Debug (fun () -> \"3\") getLocals\n",
    "    do! Async.Sleep 1\n",
    "    trace Debug (fun () -> \"4\") getLocals\n",
    "    let! retries1 = path |> moveFileAsync newPath\n",
    "    trace Debug (fun () -> \"5\") getLocals\n",
    "    let! retries2 = newPath |> waitForFileAccess None\n",
    "    trace Debug (fun () -> \"6\") getLocals\n",
    "    let! text = File.ReadAllTextAsync newPath |> Async.AwaitTask\n",
    "    trace Debug (fun () -> \"7\") getLocals\n",
    "    do! child\n",
    "    trace Debug (fun () -> \"8\") getLocals\n",
    "    return retries1, retries2, text\n",
    "}\n",
    "|> Async.runWithTimeout 3000\n",
    "|> function\n",
    "    | Some (retries1, retries2, text) ->\n",
    "        retries1\n",
    "        |> _isBetween\n",
    "            (if Runtime.isWindows () then 100 else 0)\n",
    "            (if Runtime.isWindows () then 150 else 0)\n",
    "\n",
    "        retries2\n",
    "        |> _isBetween\n",
    "            (if Runtime.isWindows () then 0 else 100)\n",
    "            (if Runtime.isWindows () then 0 else 200)\n",
    "        \n",
    "        text |> _equal \"0\"\n",
    "        \n",
    "        true\n",
    "    | _ -> false\n",
    "|> _equal true"
   ]
  },
  {
   "cell_type": "markdown",
   "metadata": {},
   "source": [
    "## watchDirectory"
   ]
  },
  {
   "cell_type": "code",
   "execution_count": null,
   "metadata": {
    "dotnet_interactive": {
     "language": "fsharp"
    },
    "polyglot_notebook": {
     "kernelName": "fsharp"
    }
   },
   "outputs": [],
   "source": [
    "[<RequireQualifiedAccess>]\n",
    "type FileSystemChangeType =\n",
    "    | Error\n",
    "    | Changed\n",
    "    | Created\n",
    "    | Deleted\n",
    "    | Renamed\n",
    "\n",
    "[<RequireQualifiedAccess>]\n",
    "type FileSystemChange =\n",
    "    | Error of exn: exn\n",
    "    | Changed of path: string * content: string option\n",
    "    | Created of path: string * content: string option\n",
    "    | Deleted of path: string\n",
    "    | Renamed of oldPath: string * (string * string option)\n",
    "\n",
    "\n",
    "let inline watchDirectoryWithFilter filter shouldReadContent path =\n",
    "    let fullPath = path |> System.IO.Path.GetFullPath\n",
    "    let getLocals () = $\"fullPath: {fullPath} / filter: {filter} / {getLocals ()}\"\n",
    "\n",
    "    let watcher =\n",
    "        new System.IO.FileSystemWatcher (\n",
    "            Path = fullPath,\n",
    "            NotifyFilter = filter,\n",
    "            EnableRaisingEvents = true,\n",
    "            IncludeSubdirectories = true\n",
    "        )\n",
    "\n",
    "    let inline getEventPath (path : string) =\n",
    "        path |> String.trim |> String.replace fullPath \"\" |> String.trimStart [| '/'; '\\\\' |]\n",
    "\n",
    "    let inline ticks () =\n",
    "        System.DateTime.UtcNow.Ticks\n",
    "\n",
    "    let changedStream =\n",
    "        AsyncSeq.subscribeEvent\n",
    "            watcher.Changed\n",
    "            (fun event ->\n",
    "                ticks (),\n",
    "                [ FileSystemChange.Changed (getEventPath event.FullPath, None) ]\n",
    "            )\n",
    "\n",
    "    let deletedStream =\n",
    "        AsyncSeq.subscribeEvent\n",
    "            watcher.Deleted\n",
    "            (fun event ->\n",
    "                ticks (),\n",
    "                [ FileSystemChange.Deleted (getEventPath event.FullPath) ]\n",
    "            )\n",
    "\n",
    "    let createdStream =\n",
    "        AsyncSeq.subscribeEvent\n",
    "            watcher.Created\n",
    "            (fun event ->\n",
    "                let path = getEventPath event.FullPath\n",
    "                ticks (), [\n",
    "                    FileSystemChange.Created (path, None)\n",
    "                    if Runtime.isWindows () then\n",
    "                        FileSystemChange.Changed (path, None)\n",
    "                ])\n",
    "\n",
    "    let renamedStream =\n",
    "        AsyncSeq.subscribeEvent\n",
    "            watcher.Renamed\n",
    "            (fun event ->\n",
    "                ticks (), [\n",
    "                    FileSystemChange.Renamed (\n",
    "                        getEventPath event.OldFullPath,\n",
    "                        (getEventPath event.FullPath, None)\n",
    "                    )\n",
    "                ]\n",
    "            )\n",
    "\n",
    "    let errorStream =\n",
    "        AsyncSeq.subscribeEvent\n",
    "            watcher.Error\n",
    "            (fun event -> ticks (), [ FileSystemChange.Error (event.GetException ()) ])\n",
    "\n",
    "    let inline readContent fullPath =\n",
    "        let rec loop retry = async {\n",
    "            try\n",
    "                if retry > 0\n",
    "                then do!\n",
    "                    fullPath\n",
    "                    |> waitForFileAccess (Some (\n",
    "                        System.IO.FileAccess.Read,\n",
    "                        System.IO.FileShare.Read\n",
    "                    ))\n",
    "                    |> Async.runWithTimeoutAsync 10000\n",
    "                    |> Async.Ignore\n",
    "                return! System.IO.File.ReadAllTextAsync fullPath |> Async.AwaitTask |> Async.map Some\n",
    "            with ex ->\n",
    "                let getLocals () = $\"retry: {retry} / ex: {ex |> printException} / {getLocals ()}\"\n",
    "                trace Error (fun () -> $\"watchWithFilter / readContent\") getLocals\n",
    "                if retry = 0\n",
    "                then return! loop (retry + 1)\n",
    "                else return None\n",
    "        }\n",
    "        loop 0\n",
    "\n",
    "    let stream =\n",
    "        [\n",
    "            changedStream\n",
    "            deletedStream\n",
    "            createdStream\n",
    "            renamedStream\n",
    "            errorStream\n",
    "        ]\n",
    "        |> FSharp.Control.AsyncSeq.mergeAll\n",
    "        |> FSharp.Control.AsyncSeq.map (fun (t, events) ->\n",
    "            events\n",
    "            |> List.fold\n",
    "                (fun (i, events) event ->\n",
    "                    i + 1L,\n",
    "                    (t + i, event) :: events)\n",
    "                (0L, [])\n",
    "            |> snd\n",
    "            |> List.rev\n",
    "        )\n",
    "        |> FSharp.Control.AsyncSeq.concatSeq\n",
    "        |> FSharp.Control.AsyncSeq.mapAsyncParallel (fun (t, event) -> async {\n",
    "            match shouldReadContent, event with\n",
    "            | true, FileSystemChange.Changed (path, _) ->\n",
    "                let! content = fullPath </> path |> readContent\n",
    "                return t, FileSystemChange.Changed (path, content)\n",
    "            | true, FileSystemChange.Created (path, _) ->\n",
    "                let! content = fullPath </> path |> readContent\n",
    "                return t, FileSystemChange.Created (path, content)\n",
    "            | true, FileSystemChange.Renamed (oldPath, (newPath, _)) ->\n",
    "                let! content = fullPath </> newPath |> readContent\n",
    "                return t, FileSystemChange.Renamed (oldPath, (newPath, content))\n",
    "            | _ -> return t, event\n",
    "        })\n",
    "\n",
    "    let disposable =\n",
    "        newDisposable (fun () ->\n",
    "            trace Debug (fun () -> \"watchWithFilter / Disposing watch stream\") getLocals\n",
    "            watcher.EnableRaisingEvents <- false\n",
    "            watcher.Dispose ()\n",
    "        )\n",
    "\n",
    "    stream, disposable\n",
    "\n",
    "let inline watchDirectory path =\n",
    "    watchDirectoryWithFilter\n",
    "        (System.IO.NotifyFilters.FileName\n",
    "        // ||| System.IO.NotifyFilters.DirectoryName\n",
    "        // ||| System.IO.NotifyFilters.Attributes\n",
    "        //// ||| System.IO.NotifyFilters.Size\n",
    "        ||| System.IO.NotifyFilters.LastWrite\n",
    "        //// ||| System.IO.NotifyFilters.LastAccess\n",
    "        // ||| System.IO.NotifyFilters.CreationTime\n",
    "        // ||| System.IO.NotifyFilters.Security\n",
    "        )\n",
    "        path"
   ]
  },
  {
   "cell_type": "markdown",
   "metadata": {},
   "source": [
    "### testEventsRaw (test)"
   ]
  },
  {
   "cell_type": "code",
   "execution_count": null,
   "metadata": {
    "dotnet_interactive": {
     "language": "fsharp"
    },
    "polyglot_notebook": {
     "kernelName": "fsharp"
    }
   },
   "outputs": [],
   "source": [
    "//// test\n",
    "\n",
    "let inline testEventsRaw\n",
    "    (watchFn : bool -> string -> FSharp.Control.AsyncSeq<int64 * FileSystemChange> * IDisposable)\n",
    "    write\n",
    "    =\n",
    "    let tempDirectory = createTempDirectory ()\n",
    "    let stream, disposable = watchFn true tempDirectory\n",
    "\n",
    "    let events = System.Collections.Concurrent.ConcurrentBag ()\n",
    "\n",
    "    let inline iter () =\n",
    "        stream\n",
    "        |> FSharp.Control.AsyncSeq.iterAsyncParallel (fun event -> async { events.Add event })\n",
    "\n",
    "    let run = async {\n",
    "        let! _ = iter () |> Async.StartChild\n",
    "        do! Async.Sleep 250\n",
    "        return! write tempDirectory\n",
    "    }\n",
    "\n",
    "    try\n",
    "        run\n",
    "        |> Async.runWithTimeout 60000\n",
    "        |> _equal (Some ())\n",
    "    finally\n",
    "        disposable.Dispose ()\n",
    "        deleteDirectoryAsync tempDirectory |> Async.Ignore |> Async.RunSynchronously\n",
    "\n",
    "    let eventsLog =\n",
    "        events\n",
    "        |> Seq.toList\n",
    "        |> List.sortBy fst\n",
    "        |> List.fold\n",
    "            (fun (prev, acc) (ticks, event) ->\n",
    "                ticks, (ticks, (if prev = 0L then 0L else ticks - prev), event) :: acc\n",
    "            )\n",
    "            (0L, [])\n",
    "        |> snd\n",
    "        |> List.rev\n",
    "        |> List.map (fun (diff, n, event) ->\n",
    "            let text = $\"{n} / {diff} / {event}\"\n",
    "            if text |> String.length <= 100\n",
    "            then text\n",
    "            else text |> String.substring 0 100 |> String.replace \"\\n\" \"\"\n",
    "        )\n",
    "        |> String.concat \"\\n\"\n",
    "    let getLocals () = $\"eventsLog: \\n{eventsLog} / {getLocals ()}\"\n",
    "    trace Debug (fun () -> \"testEventsRaw\") getLocals\n",
    "\n",
    "    events\n",
    "    |> Seq.toList\n",
    "    |> List.sortBy fst\n",
    "    |> List.map snd\n",
    "    |> List.fold\n",
    "        (fun acc event ->\n",
    "            match acc, event with\n",
    "            | FileSystemChange.Changed (lastPath, Some lastContent) as lastEvent :: acc,\n",
    "                FileSystemChange.Changed (path, Some content)\n",
    "                when lastPath = path && content |> String.startsWith lastContent\n",
    "                ->\n",
    "                event :: acc\n",
    "            | _ -> event :: acc\n",
    "        )\n",
    "        []\n",
    "    |> List.rev"
   ]
  },
  {
   "cell_type": "markdown",
   "metadata": {},
   "source": [
    "#### fast (test)"
   ]
  },
  {
   "cell_type": "code",
   "execution_count": null,
   "metadata": {
    "dotnet_interactive": {
     "language": "fsharp"
    },
    "polyglot_notebook": {
     "kernelName": "fsharp"
    }
   },
   "outputs": [
    {
     "name": "stdout",
     "output_type": "stream",
     "text": [
      "19:28:00 #56 [Debug] createTempDirectory / tempFolder: C:\\Users\\i574n\\AppData\\Local\\Temp\\!dotnet-repl\\20230801-1928-0099-9986-9c86ea3ce330 / result: { CreationTime = 2023-08-01 7:28:00 PM\n",
      "  Exists = true }\r\n",
      "FSharpOption<Unit>\r\n",
      "      Value: <null>\r\n",
      "19:28:02 #57 [Debug] watchWithFilter / Disposing watch stream / fullPath: C:\\Users\\i574n\\AppData\\Local\\Temp\\!dotnet-repl\\20230801-1928-0099-9986-9c86ea3ce330 / filter: FileName, LastWrite\r\n",
      "19:28:02 #58 [Debug] testEventsRaw / eventsLog: \n",
      "0 / 638265256813043867 / Created (\"file1.txt\", Some \"a1\")\n",
      "1 / 638265256813043868 / Changed (\"file1.txt\", Some \"a1\")\n",
      "34917 / 638265256813078785 / Changed (\"file1.txt\", Some \"a1\")\n",
      "3575 / 638265256813082360 / Created (\"file2.txt\", Some \"a2\")\n",
      "1 / 638265256813082361 / Changed (\"file2.txt\", Some \"a2\")\n",
      "107 / 638265256813082468 / Changed (\"file2.txt\", Some \"a2\")\n",
      "2621469 / 638265256815703937 / Changed (\"file1.txt\", Some \"b1\")\n",
      "2629 / 638265256815706566 / Changed (\"file1.txt\", Some \"b1\")\n",
      "8644 / 638265256815715210 / Changed (\"file2.txt\", Some \"b2\")\n",
      "1962 / 638265256815717172 / Changed (\"file2.txt\", Some \"b2\")\n",
      "2722324 / 638265256818439496 / Renamed (\"file1.txt\", (\"file_1.txt\", Some \"b1\"))\n",
      "6339 / 638265256818445835 / Renamed (\"file2.txt\", (\"file_2.txt\", Some \"b2\"))\n",
      "2665700 / 638265256821111535 / Changed (\"file_1.txt\", Some \"c1\")\n",
      "3372 / 638265256821114907 / Changed (\"file_1.txt\", Some \"c1\")\n",
      "16134 / 638265256821131041 / Changed (\"file_2.txt\", Some \"c2\")\n",
      "1668 / 638265256821132709 / Changed (\"file_2.txt\", Some \"c2\")\n",
      "2685212 / 638265256823817921 / Deleted \"file_1.txt\"\n",
      "4042 / 638265256823821963 / Deleted \"file_2.txt\"\r\n",
      "FSharpList<FileSystemChange>\r\n",
      "      - path: file1.txt\r\n",
      "        content: FSharpOption<String>\r\n",
      "          Value: a1\r\n",
      "      - path: file1.txt\r\n",
      "        content: FSharpOption<String>\r\n",
      "          Value: a1\r\n",
      "      - path: file2.txt\r\n",
      "        content: FSharpOption<String>\r\n",
      "          Value: a2\r\n",
      "      - path: file2.txt\r\n",
      "        content: FSharpOption<String>\r\n",
      "          Value: a2\r\n",
      "      - path: file1.txt\r\n",
      "        content: FSharpOption<String>\r\n",
      "          Value: b1\r\n",
      "      - path: file2.txt\r\n",
      "        content: FSharpOption<String>\r\n",
      "          Value: b2\r\n",
      "      - oldPath: file1.txt\r\n",
      "        Item2:         - file_1.txt\r\n",
      "        - FSharpOption<String>\r\n",
      "            Value: b1\r\n",
      "      - oldPath: file2.txt\r\n",
      "        Item2:         - file_2.txt\r\n",
      "        - FSharpOption<String>\r\n",
      "            Value: b2\r\n",
      "      - path: file_1.txt\r\n",
      "        content: FSharpOption<String>\r\n",
      "          Value: c1\r\n",
      "      - path: file_2.txt\r\n",
      "        content: FSharpOption<String>\r\n",
      "          Value: c2\r\n",
      "      - path: file_1.txt\r\n",
      "      - path: file_2.txt\r\n",
      "FSharpOption<Unit>\r\n",
      "      Value: <null>\r\n"
     ]
    }
   ],
   "source": [
    "//// test\n",
    "\n",
    "let inline write path = async {\n",
    "    let n = 2\n",
    "\n",
    "    for i = 1 to n do\n",
    "        do! System.IO.File.WriteAllTextAsync (path </> $\"file{i}.txt\", $\"a{i}\") |> Async.AwaitTask\n",
    "\n",
    "    do! Async.Sleep 250\n",
    "\n",
    "    for i = 1 to n do\n",
    "        do! System.IO.File.WriteAllTextAsync (path </> $\"file{i}.txt\", $\"b{i}\") |> Async.AwaitTask\n",
    "\n",
    "    do! Async.Sleep 250\n",
    "\n",
    "    for i = 1 to n do\n",
    "        do! path </> $\"file{i}.txt\" |> moveFileAsync (path </> $\"file_{i}.txt\") |> Async.Ignore\n",
    "\n",
    "    do! Async.Sleep 250\n",
    "\n",
    "    for i = 1 to n do\n",
    "        do! System.IO.File.WriteAllTextAsync (path </> $\"file_{i}.txt\", $\"c{i}\") |> Async.AwaitTask\n",
    "\n",
    "    do! Async.Sleep 250\n",
    "\n",
    "    for i = 1 to n do\n",
    "        do! deleteFileAsync (path </> $\"file_{i}.txt\") |> Async.Ignore\n",
    "\n",
    "    do! Async.Sleep 250\n",
    "}\n",
    "\n",
    "let inline run () =\n",
    "    let events = testEventsRaw watchDirectory write\n",
    "\n",
    "    events\n",
    "    |> _sequenceEqual [\n",
    "        FileSystemChange.Created (\"file1.txt\", Some \"a1\")\n",
    "        FileSystemChange.Changed (\"file1.txt\", Some \"a1\")\n",
    "        FileSystemChange.Created (\"file2.txt\", Some \"a2\")\n",
    "        FileSystemChange.Changed (\"file2.txt\", Some \"a2\")\n",
    "\n",
    "        FileSystemChange.Changed (\"file1.txt\", Some \"b1\")\n",
    "        FileSystemChange.Changed (\"file2.txt\", Some \"b2\")\n",
    "\n",
    "        FileSystemChange.Renamed (\"file1.txt\", (\"file_1.txt\", Some \"b1\"))\n",
    "        FileSystemChange.Renamed (\"file2.txt\", (\"file_2.txt\", Some \"b2\"))\n",
    "\n",
    "        FileSystemChange.Changed (\"file_1.txt\", Some \"c1\")\n",
    "        FileSystemChange.Changed (\"file_2.txt\", Some \"c2\")\n",
    "\n",
    "        FileSystemChange.Deleted \"file_1.txt\"\n",
    "        FileSystemChange.Deleted \"file_2.txt\"\n",
    "    ]\n",
    "\n",
    "run\n",
    "|> retryFn 3\n",
    "|> _equal (Some ())"
   ]
  },
  {
   "cell_type": "markdown",
   "metadata": {},
   "source": [
    "#### slow (test)"
   ]
  },
  {
   "cell_type": "code",
   "execution_count": null,
   "metadata": {
    "dotnet_interactive": {
     "language": "fsharp"
    },
    "polyglot_notebook": {
     "kernelName": "fsharp"
    }
   },
   "outputs": [
    {
     "name": "stdout",
     "output_type": "stream",
     "text": [
      "19:28:08 #59 [Debug] createTempDirectory / tempFolder: C:\\Users\\i574n\\AppData\\Local\\Temp\\!dotnet-repl\\20230801-1928-0819-1931-111c7bc77dcc / result: { CreationTime = 2023-08-01 7:28:08 PM\n",
      "  Exists = true }\r\n",
      "19:28:08 #62 [Error] watchWithFilter / readContent / retry: 0 / ex: System.AggregateException: One or more errors occurred. (The process cannot access the file 'C:\\Users\\i574n\\AppData\\Local\\Temp\\!dotnet-repl\\20230801-1928-0819-1931-111c7bc77dcc\\file1.txt' because it is being used by another process.) / fullPath: C:\\Users\\i574n\\AppData\\Local\\Temp\\!dotnet-repl\\20230801-1928-0819-1931-111c7bc77dcc / filter: FileName, LastWrite\r\n",
      "19:28:08 #62 [Error] watchWithFilter / readContent / retry: 0 / ex: System.AggregateException: One or more errors occurred. (The process cannot access the file 'C:\\Users\\i574n\\AppData\\Local\\Temp\\!dotnet-repl\\20230801-1928-0819-1931-111c7bc77dcc\\file2.txt' because it is being used by another process.) / fullPath: C:\\Users\\i574n\\AppData\\Local\\Temp\\!dotnet-repl\\20230801-1928-0819-1931-111c7bc77dcc / filter: FileName, LastWrite\r\n",
      "19:28:08 #63 [Error] watchWithFilter / readContent / retry: 0 / ex: System.AggregateException: One or more errors occurred. (The process cannot access the file 'C:\\Users\\i574n\\AppData\\Local\\Temp\\!dotnet-repl\\20230801-1928-0819-1931-111c7bc77dcc\\file2.txt' because it is being used by another process.) / fullPath: C:\\Users\\i574n\\AppData\\Local\\Temp\\!dotnet-repl\\20230801-1928-0819-1931-111c7bc77dcc / filter: FileName, LastWrite\r\n",
      "19:28:08 #60 [Error] watchWithFilter / readContent / retry: 0 / ex: System.AggregateException: One or more errors occurred. (The process cannot access the file 'C:\\Users\\i574n\\AppData\\Local\\Temp\\!dotnet-repl\\20230801-1928-0819-1931-111c7bc77dcc\\file1.txt' because it is being used by another process.) / fullPath: C:\\Users\\i574n\\AppData\\Local\\Temp\\!dotnet-repl\\20230801-1928-0819-1931-111c7bc77dcc / filter: FileName, LastWrite\r\n",
      "19:28:08 #64 [Warn] waitForFileAccess / path: C:\\Users\\i574n\\AppData\\Local\\Temp\\!dotnet-repl\\20230801-1928-0819-1931-111c7bc77dcc\\file2.txt / ex: System.IO.IOException: The process cannot access the file 'C:\\Users\\i574n\\AppData\\Local\\Temp\\!dotnet-repl\\20230801-1928-0819-1931-111c7bc77dcc\\file2.txt' because it is being used by another process.\r\n",
      "19:28:08 #65 [Warn] waitForFileAccess / path: C:\\Users\\i574n\\AppData\\Local\\Temp\\!dotnet-repl\\20230801-1928-0819-1931-111c7bc77dcc\\file2.txt / ex: System.IO.IOException: The process cannot access the file 'C:\\Users\\i574n\\AppData\\Local\\Temp\\!dotnet-repl\\20230801-1928-0819-1931-111c7bc77dcc\\file2.txt' because it is being used by another process.\r\n",
      "19:28:10 #66 [Error] watchWithFilter / readContent / retry: 0 / ex: System.AggregateException: One or more errors occurred. (The process cannot access the file 'C:\\Users\\i574n\\AppData\\Local\\Temp\\!dotnet-repl\\20230801-1928-0819-1931-111c7bc77dcc\\file1.txt' because it is being used by another process.) / fullPath: C:\\Users\\i574n\\AppData\\Local\\Temp\\!dotnet-repl\\20230801-1928-0819-1931-111c7bc77dcc / filter: FileName, LastWrite\r\n",
      "19:28:10 #67 [Warn] waitForFileAccess / path: C:\\Users\\i574n\\AppData\\Local\\Temp\\!dotnet-repl\\20230801-1928-0819-1931-111c7bc77dcc\\file1.txt / ex: System.IO.IOException: The process cannot access the file 'C:\\Users\\i574n\\AppData\\Local\\Temp\\!dotnet-repl\\20230801-1928-0819-1931-111c7bc77dcc\\file1.txt' because it is being used by another process.\r\n",
      "19:28:10 #68 [Error] watchWithFilter / readContent / retry: 0 / ex: System.AggregateException: One or more errors occurred. (The process cannot access the file 'C:\\Users\\i574n\\AppData\\Local\\Temp\\!dotnet-repl\\20230801-1928-0819-1931-111c7bc77dcc\\file2.txt' because it is being used by another process.) / fullPath: C:\\Users\\i574n\\AppData\\Local\\Temp\\!dotnet-repl\\20230801-1928-0819-1931-111c7bc77dcc / filter: FileName, LastWrite\r\n",
      "19:28:10 #69 [Warn] waitForFileAccess / path: C:\\Users\\i574n\\AppData\\Local\\Temp\\!dotnet-repl\\20230801-1928-0819-1931-111c7bc77dcc\\file2.txt / ex: System.IO.IOException: The process cannot access the file 'C:\\Users\\i574n\\AppData\\Local\\Temp\\!dotnet-repl\\20230801-1928-0819-1931-111c7bc77dcc\\file2.txt' because it is being used by another process.\r\n",
      "19:28:13 #70 [Error] watchWithFilter / readContent / retry: 0 / ex: System.AggregateException: One or more errors occurred. (The process cannot access the file 'C:\\Users\\i574n\\AppData\\Local\\Temp\\!dotnet-repl\\20230801-1928-0819-1931-111c7bc77dcc\\file_1.txt' because it is being used by another process.) / fullPath: C:\\Users\\i574n\\AppData\\Local\\Temp\\!dotnet-repl\\20230801-1928-0819-1931-111c7bc77dcc / filter: FileName, LastWrite\r\n",
      "19:28:13 #71 [Warn] waitForFileAccess / path: C:\\Users\\i574n\\AppData\\Local\\Temp\\!dotnet-repl\\20230801-1928-0819-1931-111c7bc77dcc\\file_1.txt / ex: System.IO.IOException: The process cannot access the file 'C:\\Users\\i574n\\AppData\\Local\\Temp\\!dotnet-repl\\20230801-1928-0819-1931-111c7bc77dcc\\file_1.txt' because it is being used by another process.\r\n",
      "19:28:13 #72 [Error] watchWithFilter / readContent / retry: 0 / ex: System.AggregateException: One or more errors occurred. (The process cannot access the file 'C:\\Users\\i574n\\AppData\\Local\\Temp\\!dotnet-repl\\20230801-1928-0819-1931-111c7bc77dcc\\file_2.txt' because it is being used by another process.) / fullPath: C:\\Users\\i574n\\AppData\\Local\\Temp\\!dotnet-repl\\20230801-1928-0819-1931-111c7bc77dcc / filter: FileName, LastWrite\r\n",
      "19:28:13 #73 [Warn] waitForFileAccess / path: C:\\Users\\i574n\\AppData\\Local\\Temp\\!dotnet-repl\\20230801-1928-0819-1931-111c7bc77dcc\\file_2.txt / ex: System.IO.IOException: The process cannot access the file 'C:\\Users\\i574n\\AppData\\Local\\Temp\\!dotnet-repl\\20230801-1928-0819-1931-111c7bc77dcc\\file_2.txt' because it is being used by another process.\r\n",
      "FSharpOption<Unit>\r\n",
      "      Value: <null>\r\n",
      "19:28:16 #74 [Debug] watchWithFilter / Disposing watch stream / fullPath: C:\\Users\\i574n\\AppData\\Local\\Temp\\!dotnet-repl\\20230801-1928-0819-1931-111c7bc77dcc / filter: FileName, LastWrite\r\n",
      "19:28:16 #75 [Debug] testEventsRaw / eventsLog: \n",
      "0 / 638265256884846436 / Created  (\"file1.txt\",   Some     \"1111111111111111111111111111111111111\n",
      "1 / 638265256884846437 / Changed  (\"file1.txt\",   Some     \"1111111111111111111111111111111111111\n",
      "164335 / 638265256885010772 / Changed  (\"file1.txt\",   Some     \"11111111111111111111111111111111\n",
      "18707 / 638265256885029479 / Created  (\"file2.txt\",   Some     \"222222222222222222222222222222222\n",
      "1 / 638265256885029480 / Changed  (\"file2.txt\",   Some     \"2222222222222222222222222222222222222\n",
      "182383 / 638265256885211863 / Changed  (\"file2.txt\",   Some     \"22222222222222222222222222222222\n",
      "15188752 / 638265256900400615 / Changed  (\"file1.txt\",   Some     \"111111111111111111111111111111\n",
      "168511 / 638265256900569126 / Changed  (\"file1.txt\",   Some     \"11111111111111111111111111111111\n",
      "27660 / 638265256900596786 / Changed  (\"file2.txt\",   Some     \"222222222222222222222222222222222\n",
      "117620 / 638265256900714406 / Changed  (\"file2.txt\",   Some     \"22222222222222222222222222222222\n",
      "15166940 / 638265256915881346 / Renamed  (\"file1.txt\",   (\"file_1.txt\",    Some      \"1111111111\n",
      "8412 / 638265256915889758 / Renamed  (\"file2.txt\",   (\"file_2.txt\",    Some      \"22222222222222\n",
      "15243112 / 638265256931132870 / Changed  (\"file_1.txt\",   Some     \"11111111111111111111111111111\n",
      "163406 / 638265256931296276 / Changed  (\"file_1.txt\",   Some     \"1111111111111111111111111111111\n",
      "32625 / 638265256931328901 / Changed  (\"file_2.txt\",   Some     \"22222222222222222222222222222222\n",
      "153673 / 638265256931482574 / Changed  (\"file_2.txt\",   Some     \"2222222222222222222222222222222\n",
      "15145697 / 638265256946628271 / Deleted \"file_1.txt\"\n",
      "8306 / 638265256946636577 / Deleted \"file_2.txt\"\r\n",
      "FSharpList<FileSystemChange>\r\n",
      "      - path: file1.txt\r\n",
      "        content: FSharpOption<String>\r\n",
      "          Value: 1a\r\n",
      "      - path: file1.txt\r\n",
      "        content: FSharpOption<String>\r\n",
      "          Value: 1a\r\n",
      "      - path: file2.txt\r\n",
      "        content: FSharpOption<String>\r\n",
      "          Value: 2a\r\n",
      "      - path: file2.txt\r\n",
      "        content: FSharpOption<String>\r\n",
      "          Value: 2a\r\n",
      "      - path: file1.txt\r\n",
      "        content: FSharpOption<String>\r\n",
      "          Value: 1b\r\n",
      "      - path: file2.txt\r\n",
      "        content: FSharpOption<String>\r\n",
      "          Value: 2b\r\n",
      "      - oldPath: file1.txt\r\n",
      "        Item2:         - file_1.txt\r\n",
      "        - FSharpOption<String>\r\n",
      "            Value: 1b\r\n",
      "      - oldPath: file2.txt\r\n",
      "        Item2:         - file_2.txt\r\n",
      "        - FSharpOption<String>\r\n",
      "            Value: 2b\r\n",
      "      - path: file_1.txt\r\n",
      "        content: FSharpOption<String>\r\n",
      "          Value: 1c\r\n",
      "      - path: file_2.txt\r\n",
      "        content: FSharpOption<String>\r\n",
      "          Value: 2c\r\n",
      "      - path: file_1.txt\r\n",
      "      - path: file_2.txt\r\n",
      "FSharpOption<Unit>\r\n",
      "      Value: <null>\r\n"
     ]
    }
   ],
   "source": [
    "//// test\n",
    "\n",
    "let inline write path = async {\n",
    "    let n = 2\n",
    "\n",
    "    let contents =\n",
    "        [1..n]\n",
    "        |> List.map (string >> String.replicate 1_000_000)\n",
    "\n",
    "    for i = 1 to n do\n",
    "        do! System.IO.File.WriteAllTextAsync (path </> $\"file{i}.txt\", $\"{contents.[i - 1]}a\") |> Async.AwaitTask\n",
    "\n",
    "    do! Async.Sleep 1500\n",
    "\n",
    "    for i = 1 to n do\n",
    "        do! System.IO.File.WriteAllTextAsync (path </> $\"file{i}.txt\", $\"{contents.[i - 1]}b\") |> Async.AwaitTask\n",
    "\n",
    "    do! Async.Sleep 1500\n",
    "\n",
    "    for i = 1 to n do\n",
    "        do! path </> $\"file{i}.txt\" |> moveFileAsync (path </> $\"file_{i}.txt\") |> Async.Ignore\n",
    "\n",
    "    do! Async.Sleep 1500\n",
    "\n",
    "    for i = 1 to n do\n",
    "        do! System.IO.File.WriteAllTextAsync (path </> $\"file_{i}.txt\", $\"{contents.[i - 1]}c\") |> Async.AwaitTask\n",
    "\n",
    "    do! Async.Sleep 1500\n",
    "\n",
    "    for i = 1 to n do\n",
    "        do! deleteFileAsync (path </> $\"file_{i}.txt\") |> Async.Ignore\n",
    "\n",
    "    do! Async.Sleep 1500\n",
    "}\n",
    "\n",
    "let inline run () =\n",
    "    let events =\n",
    "        testEventsRaw watchDirectory write\n",
    "        |> List.map (function\n",
    "            | FileSystemChange.Changed (path, Some content) ->\n",
    "                FileSystemChange.Changed (path, content |> Seq.distinct |> Seq.map string |> String.concat \"\" |> Some)\n",
    "            | FileSystemChange.Created (path, Some content) ->\n",
    "                FileSystemChange.Created (path, content |> Seq.distinct |> Seq.map string |> String.concat \"\" |> Some)\n",
    "            | FileSystemChange.Renamed (oldPath, (newPath, Some content)) ->\n",
    "                FileSystemChange.Renamed (\n",
    "                    oldPath,\n",
    "                    (newPath, content |> Seq.distinct |> Seq.map string |> String.concat \"\" |> Some)\n",
    "                )\n",
    "            | event -> event\n",
    "        )\n",
    "\n",
    "    events\n",
    "    |> _sequenceEqual [\n",
    "        FileSystemChange.Created (\"file1.txt\", Some \"1a\")\n",
    "        FileSystemChange.Changed (\"file1.txt\", Some \"1a\")\n",
    "        FileSystemChange.Created (\"file2.txt\", Some \"2a\")\n",
    "        FileSystemChange.Changed (\"file2.txt\", Some \"2a\")\n",
    "\n",
    "        FileSystemChange.Changed (\"file1.txt\", Some \"1b\")\n",
    "        FileSystemChange.Changed (\"file2.txt\", Some \"2b\")\n",
    "\n",
    "        FileSystemChange.Renamed (\"file1.txt\", (\"file_1.txt\", Some \"1b\"))\n",
    "        FileSystemChange.Renamed (\"file2.txt\", (\"file_2.txt\", Some \"2b\"))\n",
    "\n",
    "        FileSystemChange.Changed (\"file_1.txt\", Some \"1c\")\n",
    "        FileSystemChange.Changed (\"file_2.txt\", Some \"2c\")\n",
    "\n",
    "        FileSystemChange.Deleted \"file_1.txt\"\n",
    "        FileSystemChange.Deleted \"file_2.txt\"\n",
    "    ]\n",
    "\n",
    "run\n",
    "|> retryFn 3\n",
    "|> _equal (Some ())"
   ]
  },
  {
   "cell_type": "markdown",
   "metadata": {},
   "source": [
    "### testEventsSorted (test)"
   ]
  },
  {
   "cell_type": "code",
   "execution_count": null,
   "metadata": {
    "dotnet_interactive": {
     "language": "fsharp"
    },
    "polyglot_notebook": {
     "kernelName": "fsharp"
    }
   },
   "outputs": [],
   "source": [
    "//// test\n",
    "\n",
    "let inline sortEvent event =\n",
    "    match event with\n",
    "    | FileSystemChange.Error _ -> 0\n",
    "    | FileSystemChange.Created _ -> 1\n",
    "    | FileSystemChange.Changed _ -> 2\n",
    "    | FileSystemChange.Renamed (_oldPath, _) -> 3\n",
    "    | FileSystemChange.Deleted _ -> 4\n",
    "\n",
    "let inline formatEvents events =\n",
    "    events\n",
    "    |> Seq.toList\n",
    "    |> List.sortBy (snd >> sortEvent)\n",
    "    |> List.choose (fun (ticks, event) ->\n",
    "        match event with\n",
    "        | FileSystemChange.Error _ ->\n",
    "            None\n",
    "        | FileSystemChange.Changed (path, _) ->\n",
    "            Some (ticks, System.IO.Path.GetFileName path, nameof FileSystemChangeType.Changed)\n",
    "        | FileSystemChange.Created (path, _) ->\n",
    "            Some (ticks, System.IO.Path.GetFileName path, nameof FileSystemChangeType.Created)\n",
    "        | FileSystemChange.Deleted path ->\n",
    "            Some (ticks, System.IO.Path.GetFileName path, nameof FileSystemChangeType.Deleted)\n",
    "        | FileSystemChange.Renamed (_oldPath, (path, _)) ->\n",
    "            Some (ticks, System.IO.Path.GetFileName path, nameof FileSystemChangeType.Renamed)\n",
    "    )\n",
    "    |> List.sortBy (fun (_, path, _) -> path)\n",
    "    |> List.distinctBy (fun (_, path, event) -> path, event)\n",
    "\n",
    "let inline testEventsSorted\n",
    "    (watchFn : string -> FSharp.Control.AsyncSeq<int64 * FileSystemChange> * IDisposable)\n",
    "    write\n",
    "    =\n",
    "    let path = createTempDirectory ()\n",
    "    let stream, disposable = watchFn path\n",
    "\n",
    "    let events = System.Collections.Concurrent.ConcurrentBag ()\n",
    "\n",
    "    let inline iter () =\n",
    "        stream\n",
    "        |> FSharp.Control.AsyncSeq.iterAsyncParallel (fun event -> async { events.Add event })\n",
    "\n",
    "    let run = async {\n",
    "        let! _ = iter () |> Async.StartChild\n",
    "        do! Async.Sleep 250\n",
    "        return! write path\n",
    "    }\n",
    "\n",
    "    try\n",
    "        run\n",
    "        |> Async.runWithTimeout 5000\n",
    "        |> _equal (Some ())\n",
    "    finally\n",
    "        disposable.Dispose ()\n",
    "        deleteDirectoryAsync path |> Async.Ignore |> Async.RunSynchronously\n",
    "\n",
    "    let events = formatEvents events\n",
    "\n",
    "    let eventMap =\n",
    "        events\n",
    "        |> List.map (fun (ticks, path, event) -> path, (event, ticks))\n",
    "        |> List.groupBy fst\n",
    "        |> List.map (fun (path, events) ->\n",
    "            let event, _ticks =\n",
    "                events\n",
    "                |> List.map snd\n",
    "                |> List.sortByDescending snd\n",
    "                |> List.head\n",
    "\n",
    "            path, event\n",
    "        )\n",
    "        |> Map.ofList\n",
    "\n",
    "    let eventList =\n",
    "        events\n",
    "        |> List.map (fun (_ticks, path, event) -> path, event)\n",
    "\n",
    "    eventMap, eventList"
   ]
  },
  {
   "cell_type": "markdown",
   "metadata": {},
   "source": [
    "#### create and delete (test)"
   ]
  },
  {
   "cell_type": "code",
   "execution_count": null,
   "metadata": {
    "dotnet_interactive": {
     "language": "fsharp"
    },
    "polyglot_notebook": {
     "kernelName": "fsharp"
    }
   },
   "outputs": [
    {
     "name": "stdout",
     "output_type": "stream",
     "text": [
      "19:28:20 #76 [Debug] createTempDirectory / tempFolder: C:\\Users\\i574n\\AppData\\Local\\Temp\\!dotnet-repl\\20230801-1928-2034-3459-38e817d644e6 / result: { CreationTime = 2023-08-01 7:28:20 PM\n",
      "  Exists = true }\r\n",
      "FSharpOption<Unit>\r\n",
      "      Value: <null>\r\n",
      "19:28:20 #77 [Debug] watchWithFilter / Disposing watch stream / fullPath: C:\\Users\\i574n\\AppData\\Local\\Temp\\!dotnet-repl\\20230801-1928-2034-3459-38e817d644e6 / filter: FileName, LastWrite\r\n",
      "FSharpList<Tuple<String,String>>\r\n",
      "( file1.txt, Created )\r\n",
      "( file1.txt, Changed )\r\n",
      "( file1.txt, Deleted )\r\n",
      "( file2.txt, Created )\r\n",
      "( file2.txt, Changed )\r\n",
      "( file2.txt, Deleted )\r\n",
      "( file3.txt, Created )\r\n",
      "( file3.txt, Changed )\r\n",
      "( file3.txt, Deleted )\r\n",
      "FSharpMap<String,String>\r\n",
      "      - Key: file1.txt\r\n",
      "        Value: Deleted\r\n",
      "      - Key: file2.txt\r\n",
      "        Value: Deleted\r\n",
      "      - Key: file3.txt\r\n",
      "        Value: Deleted\r\n",
      "FSharpOption<Unit>\r\n",
      "      Value: <null>\r\n"
     ]
    }
   ],
   "source": [
    "//// test\n",
    "\n",
    "let inline write path = async {\n",
    "    let n = 3\n",
    "\n",
    "    for i = 1 to n do\n",
    "        do! System.IO.File.WriteAllTextAsync (path </> $\"file{i}.txt\", $\"{i}\") |> Async.AwaitTask\n",
    "\n",
    "    for i = 1 to n do\n",
    "        do! deleteFileAsync (path </> $\"file{i}.txt\") |> Async.Ignore\n",
    "    \n",
    "    do! Async.Sleep 150\n",
    "}\n",
    "\n",
    "let inline run () =\n",
    "    let eventMap, eventList = testEventsSorted (watchDirectory false) write\n",
    "\n",
    "    [\n",
    "        \"file1.txt\", nameof FileSystemChangeType.Created\n",
    "        \"file1.txt\", nameof FileSystemChangeType.Changed\n",
    "        \"file1.txt\", nameof FileSystemChangeType.Deleted\n",
    "\n",
    "        \"file2.txt\", nameof FileSystemChangeType.Created\n",
    "        \"file2.txt\", nameof FileSystemChangeType.Changed\n",
    "        \"file2.txt\", nameof FileSystemChangeType.Deleted\n",
    "\n",
    "        \"file3.txt\", nameof FileSystemChangeType.Created\n",
    "        \"file3.txt\", nameof FileSystemChangeType.Changed\n",
    "        \"file3.txt\", nameof FileSystemChangeType.Deleted\n",
    "    ]\n",
    "    |> _sequenceEqual eventList\n",
    "\n",
    "    [\n",
    "        \"file1.txt\", nameof FileSystemChangeType.Deleted\n",
    "        \"file2.txt\", nameof FileSystemChangeType.Deleted\n",
    "        \"file3.txt\", nameof FileSystemChangeType.Deleted\n",
    "    ]\n",
    "    |> Map.ofList\n",
    "    |> _sequenceEqual eventMap\n",
    "\n",
    "run\n",
    "|> retryFn 3\n",
    "|> _equal (Some ())"
   ]
  },
  {
   "cell_type": "markdown",
   "metadata": {},
   "source": [
    "#### change (test)"
   ]
  },
  {
   "cell_type": "code",
   "execution_count": null,
   "metadata": {
    "dotnet_interactive": {
     "language": "fsharp"
    },
    "polyglot_notebook": {
     "kernelName": "fsharp"
    }
   },
   "outputs": [
    {
     "name": "stdout",
     "output_type": "stream",
     "text": [
      "19:28:23 #78 [Debug] createTempDirectory / tempFolder: C:\\Users\\i574n\\AppData\\Local\\Temp\\!dotnet-repl\\20230801-1928-2345-4586-492ed6cf7979 / result: { CreationTime = 2023-08-01 7:28:23 PM\n",
      "  Exists = true }\r\n",
      "FSharpOption<Unit>\r\n",
      "      Value: <null>\r\n",
      "19:28:23 #79 [Debug] watchWithFilter / Disposing watch stream / fullPath: C:\\Users\\i574n\\AppData\\Local\\Temp\\!dotnet-repl\\20230801-1928-2345-4586-492ed6cf7979 / filter: FileName, LastWrite\r\n",
      "FSharpList<Tuple<String,String>>\r\n",
      "( file1.txt, Created )\r\n",
      "( file1.txt, Changed )\r\n",
      "( file1.txt, Deleted )\r\n",
      "( file2.txt, Created )\r\n",
      "( file2.txt, Changed )\r\n",
      "( file2.txt, Deleted )\r\n",
      "FSharpMap<String,String>\r\n",
      "      - Key: file1.txt\r\n",
      "        Value: Deleted\r\n",
      "      - Key: file2.txt\r\n",
      "        Value: Deleted\r\n",
      "FSharpOption<Unit>\r\n",
      "      Value: <null>\r\n"
     ]
    }
   ],
   "source": [
    "//// test\n",
    "\n",
    "let inline write path = async {\n",
    "    let n = 2\n",
    "\n",
    "    for i = 1 to n do\n",
    "        do! System.IO.File.WriteAllTextAsync (path </> $\"file{i}.txt\", $\"{i}\") |> Async.AwaitTask\n",
    "\n",
    "    for i = 1 to n do\n",
    "        do! System.IO.File.WriteAllTextAsync (path </> $\"file{i}.txt\", \"\") |> Async.AwaitTask\n",
    "\n",
    "    for i = 1 to n do\n",
    "        do! deleteFileAsync (path </> $\"file{i}.txt\") |> Async.Ignore\n",
    "    \n",
    "    do! Async.Sleep 150\n",
    "}\n",
    "\n",
    "let inline run () =\n",
    "    let eventMap, eventList = testEventsSorted (watchDirectory false) write\n",
    "\n",
    "    [\n",
    "        \"file1.txt\", nameof FileSystemChangeType.Created\n",
    "        \"file1.txt\", nameof FileSystemChangeType.Changed\n",
    "        \"file1.txt\", nameof FileSystemChangeType.Deleted\n",
    "\n",
    "        \"file2.txt\", nameof FileSystemChangeType.Created\n",
    "        \"file2.txt\", nameof FileSystemChangeType.Changed\n",
    "        \"file2.txt\", nameof FileSystemChangeType.Deleted\n",
    "    ]\n",
    "    |> _sequenceEqual eventList\n",
    "\n",
    "    [\n",
    "        \"file1.txt\", nameof FileSystemChangeType.Deleted\n",
    "        \"file2.txt\", nameof FileSystemChangeType.Deleted\n",
    "    ]\n",
    "    |> Map.ofList\n",
    "    |> _sequenceEqual eventMap\n",
    "\n",
    "run\n",
    "|> retryFn 3\n",
    "|> _equal (Some ())"
   ]
  },
  {
   "cell_type": "markdown",
   "metadata": {},
   "source": [
    "#### rename (test)"
   ]
  },
  {
   "cell_type": "code",
   "execution_count": null,
   "metadata": {
    "dotnet_interactive": {
     "language": "fsharp"
    },
    "polyglot_notebook": {
     "kernelName": "fsharp"
    }
   },
   "outputs": [
    {
     "name": "stdout",
     "output_type": "stream",
     "text": [
      "19:28:26 #80 [Debug] createTempDirectory / tempFolder: C:\\Users\\i574n\\AppData\\Local\\Temp\\!dotnet-repl\\20230801-1928-2695-9587-9b40188d9b8a / result: { CreationTime = 2023-08-01 7:28:26 PM\n",
      "  Exists = true }\r\n",
      "FSharpOption<Unit>\r\n",
      "      Value: <null>\r\n",
      "19:28:27 #81 [Debug] watchWithFilter / Disposing watch stream / fullPath: C:\\Users\\i574n\\AppData\\Local\\Temp\\!dotnet-repl\\20230801-1928-2695-9587-9b40188d9b8a / filter: FileName, LastWrite\r\n",
      "FSharpList<Tuple<String,String>>\r\n",
      "( file1.txt, Created )\r\n",
      "( file1.txt, Changed )\r\n",
      "( file2.txt, Created )\r\n",
      "( file2.txt, Changed )\r\n",
      "( file_1.txt, Renamed )\r\n",
      "( file_1.txt, Deleted )\r\n",
      "( file_2.txt, Renamed )\r\n",
      "( file_2.txt, Deleted )\r\n",
      "FSharpMap<String,String>\r\n",
      "      - Key: file1.txt\r\n",
      "        Value: Changed\r\n",
      "      - Key: file2.txt\r\n",
      "        Value: Changed\r\n",
      "      - Key: file_1.txt\r\n",
      "        Value: Deleted\r\n",
      "      - Key: file_2.txt\r\n",
      "        Value: Deleted\r\n",
      "FSharpOption<Unit>\r\n",
      "      Value: <null>\r\n"
     ]
    }
   ],
   "source": [
    "//// test\n",
    "\n",
    "let inline write path = async {\n",
    "    let n = 2\n",
    "\n",
    "    for i = 1 to n do\n",
    "        do! System.IO.File.WriteAllTextAsync (path </> $\"file{i}.txt\", $\"{i}\") |> Async.AwaitTask\n",
    "\n",
    "    for i = 1 to n do\n",
    "        do! path </> $\"file{i}.txt\" |> moveFileAsync (path </> $\"file_{i}.txt\") |> Async.Ignore\n",
    "\n",
    "    for i = 1 to n do\n",
    "        do! deleteFileAsync (path </> $\"file_{i}.txt\") |> Async.Ignore\n",
    "    \n",
    "    do! Async.Sleep 150\n",
    "}\n",
    "\n",
    "let inline run () =\n",
    "    let eventMap, eventList = testEventsSorted (watchDirectory false) write\n",
    "\n",
    "    [\n",
    "        \"file1.txt\", nameof FileSystemChangeType.Created\n",
    "        \"file1.txt\", nameof FileSystemChangeType.Changed\n",
    "        \"file2.txt\", nameof FileSystemChangeType.Created\n",
    "        \"file2.txt\", nameof FileSystemChangeType.Changed\n",
    "\n",
    "        \"file_1.txt\", nameof FileSystemChangeType.Renamed\n",
    "        \"file_1.txt\", nameof FileSystemChangeType.Deleted\n",
    "\n",
    "        \"file_2.txt\", nameof FileSystemChangeType.Renamed\n",
    "        \"file_2.txt\", nameof FileSystemChangeType.Deleted\n",
    "    ]\n",
    "    |> _sequenceEqual eventList\n",
    "\n",
    "    [\n",
    "        \"file1.txt\", nameof FileSystemChangeType.Changed\n",
    "        \"file2.txt\", nameof FileSystemChangeType.Changed\n",
    "        \"file_1.txt\", nameof FileSystemChangeType.Deleted\n",
    "        \"file_2.txt\", nameof FileSystemChangeType.Deleted\n",
    "    ]\n",
    "    |> Map.ofList\n",
    "    |> _sequenceEqual eventMap\n",
    "\n",
    "run\n",
    "|> retryFn 3\n",
    "|> _equal (Some ())"
   ]
  },
  {
   "cell_type": "markdown",
   "metadata": {},
   "source": [
    "#### full (test)"
   ]
  },
  {
   "cell_type": "code",
   "execution_count": null,
   "metadata": {
    "dotnet_interactive": {
     "language": "fsharp"
    },
    "polyglot_notebook": {
     "kernelName": "fsharp"
    }
   },
   "outputs": [
    {
     "name": "stdout",
     "output_type": "stream",
     "text": [
      "19:28:31 #82 [Debug] createTempDirectory / tempFolder: C:\\Users\\i574n\\AppData\\Local\\Temp\\!dotnet-repl\\20230801-1928-3137-3703-307c4681b875 / result: { CreationTime = 2023-08-01 7:28:31 PM\n",
      "  Exists = true }\r\n",
      "FSharpOption<Unit>\r\n",
      "      Value: <null>\r\n",
      "19:28:31 #83 [Debug] watchWithFilter / Disposing watch stream / fullPath: C:\\Users\\i574n\\AppData\\Local\\Temp\\!dotnet-repl\\20230801-1928-3137-3703-307c4681b875 / filter: FileName, LastWrite\r\n",
      "FSharpList<Tuple<String,String>>\r\n",
      "( file1.txt, Created )\r\n",
      "( file1.txt, Changed )\r\n",
      "( file2.txt, Created )\r\n",
      "( file2.txt, Changed )\r\n",
      "( file_1.txt, Changed )\r\n",
      "( file_1.txt, Renamed )\r\n",
      "( file_1.txt, Deleted )\r\n",
      "( file_2.txt, Changed )\r\n",
      "( file_2.txt, Renamed )\r\n",
      "( file_2.txt, Deleted )\r\n",
      "FSharpMap<String,String>\r\n",
      "      - Key: file1.txt\r\n",
      "        Value: Changed\r\n",
      "      - Key: file2.txt\r\n",
      "        Value: Changed\r\n",
      "      - Key: file_1.txt\r\n",
      "        Value: Deleted\r\n",
      "      - Key: file_2.txt\r\n",
      "        Value: Deleted\r\n",
      "FSharpOption<Unit>\r\n",
      "      Value: <null>\r\n"
     ]
    }
   ],
   "source": [
    "//// test\n",
    "\n",
    "let inline write path = async {\n",
    "    let n = 2\n",
    "\n",
    "    for i = 1 to n do\n",
    "        do! System.IO.File.WriteAllTextAsync (path </> $\"file{i}.txt\", $\"{i}\") |> Async.AwaitTask\n",
    "\n",
    "    for i = 1 to n do\n",
    "        do! System.IO.File.WriteAllTextAsync (path </> $\"file{i}.txt\", \"\") |> Async.AwaitTask\n",
    "\n",
    "    for i = 1 to n do\n",
    "        do! path </> $\"file{i}.txt\" |> moveFileAsync (path </> $\"file_{i}.txt\") |> Async.Ignore\n",
    "\n",
    "    for i = 1 to n do\n",
    "        do! System.IO.File.WriteAllTextAsync (path </> $\"file_{i}.txt\", $\"{i}\") |> Async.AwaitTask\n",
    "\n",
    "    for i = 1 to n do\n",
    "        do! deleteFileAsync (path </> $\"file_{i}.txt\") |> Async.Ignore\n",
    "    \n",
    "    do! Async.Sleep 150\n",
    "}\n",
    "\n",
    "let inline run () =\n",
    "    let eventMap, eventList = testEventsSorted (watchDirectory false) write\n",
    "\n",
    "    [\n",
    "        \"file1.txt\", nameof FileSystemChangeType.Created\n",
    "        \"file1.txt\", nameof FileSystemChangeType.Changed\n",
    "        \"file2.txt\", nameof FileSystemChangeType.Created\n",
    "        \"file2.txt\", nameof FileSystemChangeType.Changed\n",
    "\n",
    "        \"file_1.txt\", nameof FileSystemChangeType.Changed\n",
    "        \"file_1.txt\", nameof FileSystemChangeType.Renamed\n",
    "        \"file_1.txt\", nameof FileSystemChangeType.Deleted\n",
    "\n",
    "        \"file_2.txt\", nameof FileSystemChangeType.Changed\n",
    "        \"file_2.txt\", nameof FileSystemChangeType.Renamed\n",
    "        \"file_2.txt\", nameof FileSystemChangeType.Deleted\n",
    "    ]\n",
    "    |> _sequenceEqual eventList\n",
    "\n",
    "    [\n",
    "        \"file1.txt\", nameof FileSystemChangeType.Changed\n",
    "        \"file2.txt\", nameof FileSystemChangeType.Changed\n",
    "        \"file_1.txt\", nameof FileSystemChangeType.Deleted\n",
    "        \"file_2.txt\", nameof FileSystemChangeType.Deleted\n",
    "    ]\n",
    "    |> Map.ofList\n",
    "    |> _sequenceEqual eventMap\n",
    "\n",
    "run\n",
    "|> retryFn 3\n",
    "|> _equal (Some ())"
   ]
  }
 ],
 "metadata": {
  "kernelspec": {
   "display_name": ".NET (C#)",
   "language": "C#",
   "name": ".net-csharp"
  },
  "language_info": {
   "file_extension": ".cs",
   "mimetype": "text/x-csharp",
   "name": "C#",
   "pygments_lexer": "csharp",
   "version": "10.0"
  },
  "polyglot_notebook": {
   "defaultKernelName": "csharp",
   "items": [
    {
     "name": "csharp"
    }
   ]
  },
  "dotnet_interactive": {
   "defaultKernelName": "csharp",
   "items": [
    {
     "name": "csharp"
    }
   ]
  }
 },
 "nbformat": 4,
 "nbformat_minor": 5
}