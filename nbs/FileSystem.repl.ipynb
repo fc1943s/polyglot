{
 "cells": [
  {
   "cell_type": "markdown",
   "metadata": {
    "dotnet_repl_cellExecutionStartTime": "2023-07-20T19:44:51.4498894-03:00",
    "dotnet_repl_cellExecutionEndTime": "2023-07-20T19:44:51.5093387-03:00",
    "dotnet_repl_cellExecutionTime": "59.8201ms"
   },
   "source": [
    "# FileSystem (Polyglot)"
   ]
  },
  {
   "cell_type": "code",
   "execution_count": null,
   "metadata": {
    "dotnet_repl_cellExecutionStartTime": "2023-07-20T19:44:51.5130928-03:00",
    "dotnet_repl_cellExecutionEndTime": "2023-07-20T19:45:02.3547227-03:00",
    "dotnet_repl_cellExecutionTime": "10.8416314s",
    "dotnet_interactive": {
     "language": "fsharp"
    },
    "polyglot_notebook": {
     "kernelName": "fsharp"
    }
   },
   "outputs": [
    {
     "data": {
      "text/html": [
       "<div><div></div><div><strong>Installing Packages</strong><ul><li><span>Expecto</span></li></ul></div><div></div></div>"
      ]
     },
     "metadata": {},
     "output_type": "display_data"
    },
    {
     "data": {
      "text/html": [
       "<div><div></div><div><strong>Installing Packages</strong><ul><li><span>Expecto.</span></li></ul></div><div></div></div>"
      ]
     },
     "metadata": {},
     "output_type": "display_data"
    },
    {
     "data": {
      "text/html": [
       "<div><div></div><div><strong>Installing Packages</strong><ul><li><span>Expecto..</span></li></ul></div><div></div></div>"
      ]
     },
     "metadata": {},
     "output_type": "display_data"
    },
    {
     "data": {
      "text/html": [
       "<div><div></div><div><strong>Installing Packages</strong><ul><li><span>Expecto...</span></li></ul></div><div></div></div>"
      ]
     },
     "metadata": {},
     "output_type": "display_data"
    },
    {
     "data": {
      "text/html": [
       "<div><div></div><div><strong>Installing Packages</strong><ul><li><span>Expecto....</span></li></ul></div><div></div></div>"
      ]
     },
     "metadata": {},
     "output_type": "display_data"
    },
    {
     "data": {
      "text/html": [
       "<div><div></div><div><strong>Installing Packages</strong><ul><li><span>Expecto.....</span></li></ul></div><div></div></div>"
      ]
     },
     "metadata": {},
     "output_type": "display_data"
    },
    {
     "data": {
      "text/html": [
       "<div><div></div><div><strong>Installing Packages</strong><ul><li><span>Expecto......</span></li></ul></div><div></div></div>"
      ]
     },
     "metadata": {},
     "output_type": "display_data"
    },
    {
     "data": {
      "text/html": [
       "<div><div></div><div><strong>Installing Packages</strong><ul><li><span>Expecto.......</span></li></ul></div><div></div></div>"
      ]
     },
     "metadata": {},
     "output_type": "display_data"
    },
    {
     "data": {
      "text/html": [
       "<div><div></div><div><strong>Installing Packages</strong><ul><li><span>Expecto........</span></li></ul></div><div></div></div>"
      ]
     },
     "metadata": {},
     "output_type": "display_data"
    },
    {
     "data": {
      "text/html": [
       "<div><div></div><div><strong>Installing Packages</strong><ul><li><span>Expecto.........</span></li></ul></div><div></div></div>"
      ]
     },
     "metadata": {},
     "output_type": "display_data"
    },
    {
     "data": {
      "text/html": [
       "<div><div></div><div></div><div><strong>Installed Packages</strong><ul><li><span>Expecto, 10.1.0</span></li></ul></div></div>"
      ]
     },
     "metadata": {},
     "output_type": "display_data"
    }
   ],
   "source": [
    "#!import ../nbs/Testing.dib"
   ]
  },
  {
   "cell_type": "code",
   "execution_count": null,
   "metadata": {
    "dotnet_repl_cellExecutionStartTime": "2023-07-20T19:45:02.354814-03:00",
    "dotnet_repl_cellExecutionEndTime": "2023-07-20T19:45:05.8417526-03:00",
    "dotnet_repl_cellExecutionTime": "3.4869404s",
    "dotnet_interactive": {
     "language": "fsharp"
    },
    "polyglot_notebook": {
     "kernelName": "fsharp"
    }
   },
   "outputs": [
    {
     "data": {
      "text/html": [
       "<div><div></div><div><strong>Installing Packages</strong><ul><li><span>FSharp.Control.AsyncSeq</span></li><li><span>System.Reactive</span></li><li><span>System.Reactive.Linq</span></li></ul></div><div></div></div>"
      ]
     },
     "metadata": {},
     "output_type": "display_data"
    },
    {
     "data": {
      "text/html": [
       "<div><div></div><div><strong>Installing Packages</strong><ul><li><span>FSharp.Control.AsyncSeq.</span></li><li><span>System.Reactive.</span></li><li><span>System.Reactive.Linq.</span></li></ul></div><div></div></div>"
      ]
     },
     "metadata": {},
     "output_type": "display_data"
    },
    {
     "data": {
      "text/html": [
       "<div><div></div><div><strong>Installing Packages</strong><ul><li><span>FSharp.Control.AsyncSeq..</span></li><li><span>System.Reactive..</span></li><li><span>System.Reactive.Linq..</span></li></ul></div><div></div></div>"
      ]
     },
     "metadata": {},
     "output_type": "display_data"
    },
    {
     "data": {
      "text/html": [
       "<div><div></div><div><strong>Installing Packages</strong><ul><li><span>FSharp.Control.AsyncSeq...</span></li><li><span>System.Reactive...</span></li><li><span>System.Reactive.Linq...</span></li></ul></div><div></div></div>"
      ]
     },
     "metadata": {},
     "output_type": "display_data"
    },
    {
     "data": {
      "text/html": [
       "<div><div></div><div><strong>Installing Packages</strong><ul><li><span>FSharp.Control.AsyncSeq....</span></li><li><span>System.Reactive....</span></li><li><span>System.Reactive.Linq....</span></li></ul></div><div></div></div>"
      ]
     },
     "metadata": {},
     "output_type": "display_data"
    },
    {
     "data": {
      "text/html": [
       "<div><div></div><div><strong>Installing Packages</strong><ul><li><span>FSharp.Control.AsyncSeq.....</span></li><li><span>System.Reactive.....</span></li><li><span>System.Reactive.Linq.....</span></li></ul></div><div></div></div>"
      ]
     },
     "metadata": {},
     "output_type": "display_data"
    },
    {
     "data": {
      "text/html": [
       "<div><div></div><div><strong>Installing Packages</strong><ul><li><span>FSharp.Control.AsyncSeq......</span></li><li><span>System.Reactive......</span></li><li><span>System.Reactive.Linq......</span></li></ul></div><div></div></div>"
      ]
     },
     "metadata": {},
     "output_type": "display_data"
    },
    {
     "data": {
      "text/html": [
       "<div><div></div><div></div><div><strong>Installed Packages</strong><ul><li><span>FSharp.Control.AsyncSeq, 3.2.1</span></li><li><span>System.Reactive, 5.0.0</span></li><li><span>System.Reactive.Linq, 6.0.0-preview.1</span></li></ul></div></div>"
      ]
     },
     "metadata": {},
     "output_type": "display_data"
    }
   ],
   "source": [
    "#r \"nuget:FSharp.Control.AsyncSeq\"\n",
    "#r \"nuget:System.Reactive,5.0.0\"\n",
    "#r \"nuget:System.Reactive.Linq,6.0.0-preview.1\""
   ]
  },
  {
   "cell_type": "code",
   "execution_count": null,
   "metadata": {
    "dotnet_repl_cellExecutionStartTime": "2023-07-20T19:45:05.8417876-03:00",
    "dotnet_repl_cellExecutionEndTime": "2023-07-20T19:45:06.5766474-03:00",
    "dotnet_repl_cellExecutionTime": "734.862ms",
    "dotnet_interactive": {
     "language": "fsharp"
    },
    "polyglot_notebook": {
     "kernelName": "fsharp"
    }
   },
   "outputs": [],
   "source": [
    "#!import ../nbs/Common.fs\n",
    "#!import ../nbs/Async.fs\n",
    "#!import ../nbs/AsyncSeq.fs"
   ]
  },
  {
   "cell_type": "code",
   "execution_count": null,
   "metadata": {
    "dotnet_repl_cellExecutionStartTime": "2023-07-20T19:45:06.5766874-03:00",
    "dotnet_repl_cellExecutionEndTime": "2023-07-20T19:45:06.5814284-03:00",
    "dotnet_repl_cellExecutionTime": "4.7423ms",
    "dotnet_interactive": {
     "language": "fsharp"
    },
    "polyglot_notebook": {
     "kernelName": "fsharp"
    }
   },
   "outputs": [],
   "source": [
    "open Common"
   ]
  },
  {
   "cell_type": "markdown",
   "metadata": {
    "dotnet_repl_cellExecutionStartTime": "2023-07-20T19:45:06.5814658-03:00",
    "dotnet_repl_cellExecutionEndTime": "2023-07-20T19:45:06.5834733-03:00",
    "dotnet_repl_cellExecutionTime": "2.0088ms"
   },
   "source": [
    "## createTempDirectoryName"
   ]
  },
  {
   "cell_type": "code",
   "execution_count": null,
   "metadata": {
    "dotnet_repl_cellExecutionStartTime": "2023-07-20T19:45:06.5834964-03:00",
    "dotnet_repl_cellExecutionEndTime": "2023-07-20T19:45:06.6088544-03:00",
    "dotnet_repl_cellExecutionTime": "25.3597ms",
    "dotnet_interactive": {
     "language": "fsharp"
    },
    "polyglot_notebook": {
     "kernelName": "fsharp"
    }
   },
   "outputs": [],
   "source": [
    "let createTempDirectoryName () =\n",
    "    let root =\n",
    "        match System.Reflection.Assembly.GetEntryAssembly().GetName().Name with\n",
    "        | assemblyName -> assemblyName\n",
    "\n",
    "    System.IO.Path.GetTempPath ()\n",
    "    </> $\"!{root}\"\n",
    "    </> string (newGuidFromDateTime System.DateTime.Now)"
   ]
  },
  {
   "cell_type": "code",
   "execution_count": null,
   "metadata": {
    "dotnet_repl_cellExecutionStartTime": "2023-07-20T19:45:06.6088934-03:00",
    "dotnet_repl_cellExecutionEndTime": "2023-07-20T19:45:06.6603439-03:00",
    "dotnet_repl_cellExecutionTime": "51.4514ms",
    "dotnet_interactive": {
     "language": "fsharp"
    },
    "polyglot_notebook": {
     "kernelName": "fsharp"
    }
   },
   "outputs": [
    {
     "name": "stdout",
     "output_type": "stream",
     "text": [
      "C:\\Users\\i574n\\AppData\\Local\\Temp\\!dotnet-repl\\20230720-1945-0664-6483-6c0cee362018\r\n"
     ]
    }
   ],
   "source": [
    "//// test\n",
    "\n",
    "createTempDirectoryName ()\n",
    "|> _contains System.IO.Path.DirectorySeparatorChar"
   ]
  },
  {
   "cell_type": "markdown",
   "metadata": {
    "dotnet_repl_cellExecutionStartTime": "2023-07-20T19:45:06.6603722-03:00",
    "dotnet_repl_cellExecutionEndTime": "2023-07-20T19:45:06.6620752-03:00",
    "dotnet_repl_cellExecutionTime": "1.7043ms"
   },
   "source": [
    "## createTempDirectory"
   ]
  },
  {
   "cell_type": "code",
   "execution_count": null,
   "metadata": {
    "dotnet_repl_cellExecutionStartTime": "2023-07-20T19:45:06.6621-03:00",
    "dotnet_repl_cellExecutionEndTime": "2023-07-20T19:45:06.7423772-03:00",
    "dotnet_repl_cellExecutionTime": "80.2786ms",
    "dotnet_interactive": {
     "language": "fsharp"
    },
    "polyglot_notebook": {
     "kernelName": "fsharp"
    }
   },
   "outputs": [],
   "source": [
    "let createTempDirectory () =\n",
    "    let tempFolder = createTempDirectoryName ()\n",
    "    let result = System.IO.Directory.CreateDirectory tempFolder\n",
    "\n",
    "    let getLocals () =\n",
    "        $\"tempFolder: {tempFolder} / result: {({|\n",
    "            Exists = result.Exists\n",
    "            CreationTime = result.CreationTime\n",
    "        |})} {getLocals ()}\"\n",
    "\n",
    "    trace Debug (fun () -> \"createTempDirectory\") getLocals\n",
    "\n",
    "    tempFolder"
   ]
  },
  {
   "cell_type": "code",
   "execution_count": null,
   "metadata": {
    "dotnet_repl_cellExecutionStartTime": "2023-07-20T19:45:06.7424164-03:00",
    "dotnet_repl_cellExecutionEndTime": "2023-07-20T19:45:06.7919524-03:00",
    "dotnet_repl_cellExecutionTime": "49.5383ms",
    "dotnet_interactive": {
     "language": "fsharp"
    },
    "polyglot_notebook": {
     "kernelName": "fsharp"
    }
   },
   "outputs": [
    {
     "name": "stdout",
     "output_type": "stream",
     "text": [
      "19:45:06 #1 [Debug] createTempDirectory / tempFolder: C:\\Users\\i574n\\AppData\\Local\\Temp\\!dotnet-repl\\20230720-1945-0675-7507-7c149607c0ec / result: { CreationTime = 2023-07-20 7:45:06 PM\n",
      "  Exists = true }\r\n",
      "True\r\n"
     ]
    }
   ],
   "source": [
    "//// test\n",
    "\n",
    "let tempDirectory = createTempDirectory ()\n",
    "\n",
    "Directory.Exists tempDirectory\n",
    "|> _equal true"
   ]
  },
  {
   "cell_type": "markdown",
   "metadata": {
    "dotnet_repl_cellExecutionStartTime": "2023-07-20T19:45:06.7920032-03:00",
    "dotnet_repl_cellExecutionEndTime": "2023-07-20T19:45:06.7937727-03:00",
    "dotnet_repl_cellExecutionTime": "1.7728ms"
   },
   "source": [
    "## waitForFileAccess"
   ]
  },
  {
   "cell_type": "code",
   "execution_count": null,
   "metadata": {
    "dotnet_repl_cellExecutionStartTime": "2023-07-20T19:45:06.793816-03:00",
    "dotnet_repl_cellExecutionEndTime": "2023-07-20T19:45:06.9893086-03:00",
    "dotnet_repl_cellExecutionTime": "195.4943ms",
    "dotnet_interactive": {
     "language": "fsharp"
    },
    "polyglot_notebook": {
     "kernelName": "fsharp"
    }
   },
   "outputs": [],
   "source": [
    "let waitForFileAccess path =\n",
    "    let rec loop retry = async {\n",
    "        try\n",
    "            use _ = new System.IO.FileStream (\n",
    "                path,\n",
    "                System.IO.FileMode.Open,\n",
    "                System.IO.FileAccess.ReadWrite,\n",
    "                System.IO.FileShare.None\n",
    "            )\n",
    "            return retry\n",
    "        with ex ->\n",
    "            if retry % 100 = 0 then\n",
    "                let getLocals () = $\"path: {path} / message: {ex.Message} / {getLocals ()}\"\n",
    "                trace Warn (fun () -> \"waitForFileAccess\") getLocals\n",
    "            do! Async.Sleep 1\n",
    "            return! loop (retry + 1)\n",
    "    }\n",
    "    loop 0"
   ]
  },
  {
   "cell_type": "code",
   "execution_count": null,
   "metadata": {
    "dotnet_repl_cellExecutionStartTime": "2023-07-20T19:45:06.9893426-03:00",
    "dotnet_repl_cellExecutionEndTime": "2023-07-20T19:45:09.2140833-03:00",
    "dotnet_repl_cellExecutionTime": "2.2247692s",
    "dotnet_interactive": {
     "language": "fsharp"
    },
    "polyglot_notebook": {
     "kernelName": "fsharp"
    }
   },
   "outputs": [
    {
     "name": "stdout",
     "output_type": "stream",
     "text": [
      "19:45:07 #2 [Debug] createTempDirectory / tempFolder: C:\\Users\\i574n\\AppData\\Local\\Temp\\!dotnet-repl\\20230720-1945-0715-1523-1a6c6381cb4d / result: { CreationTime = 2023-07-20 7:45:07 PM\n",
      "  Exists = true }\r\n",
      "19:45:07 #3 [Debug] 1\r\n",
      "19:45:07 #4 [Debug] 2\r\n",
      "19:45:07 #5 [Debug] _1\r\n",
      "19:45:07 #6 [Debug] 3\r\n",
      "19:45:07 #7 [Debug] _2\r\n",
      "19:45:07 #8 [Debug] 4\r\n",
      "19:45:07 #9 [Warn] waitForFileAccess / path: C:\\Users\\i574n\\AppData\\Local\\Temp\\!dotnet-repl\\20230720-1945-0715-1523-1a6c6381cb4d\\test.txt / message: The process cannot access the file 'C:\\Users\\i574n\\AppData\\Local\\Temp\\!dotnet-repl\\20230720-1945-0715-1523-1a6c6381cb4d\\test.txt' because it is being used by another process.\r\n",
      "19:45:08 #10 [Warn] waitForFileAccess / path: C:\\Users\\i574n\\AppData\\Local\\Temp\\!dotnet-repl\\20230720-1945-0715-1523-1a6c6381cb4d\\test.txt / message: The process cannot access the file 'C:\\Users\\i574n\\AppData\\Local\\Temp\\!dotnet-repl\\20230720-1945-0715-1523-1a6c6381cb4d\\test.txt' because it is being used by another process.\r\n",
      "19:45:09 #11 [Debug] _3\r\n",
      "19:45:09 #12 [Debug] _4\r\n",
      "19:45:09 #13 [Debug] _5\r\n",
      "19:45:09 #14 [Debug] _6\r\n",
      "120\r\n",
      "1\r\n",
      "FSharpOption<Unit>\r\n",
      "      Value: <null>\r\n"
     ]
    }
   ],
   "source": [
    "//// test\n",
    "\n",
    "let tempFolder = createTempDirectory ()\n",
    "let path = tempFolder </> \"test.txt\"\n",
    "\n",
    "let lockFile () = async {\n",
    "    trace Debug (fun () -> \"_1\") getLocals\n",
    "    use stream = new System.IO.FileStream (path, System.IO.FileMode.Open, System.IO.FileAccess.ReadWrite)\n",
    "    trace Debug (fun () -> \"_2\") getLocals\n",
    "    do! Async.Sleep 2000\n",
    "    trace Debug (fun () -> \"_3\") getLocals\n",
    "    stream.Seek (0L, SeekOrigin.Begin) |> ignore\n",
    "    trace Debug (fun () -> \"_4\") getLocals\n",
    "    stream.WriteByte (49uy) |> ignore\n",
    "    trace Debug (fun () -> \"_5\") getLocals\n",
    "    stream.Flush ()\n",
    "    trace Debug (fun () -> \"_6\") getLocals\n",
    "}\n",
    "\n",
    "async {\n",
    "    trace Debug (fun () -> \"1\") getLocals\n",
    "    do! File.WriteAllTextAsync (path, \"0\") |> Async.AwaitTask\n",
    "    trace Debug (fun () -> \"2\") getLocals\n",
    "    let! _ = lockFile () |> Async.StartChild\n",
    "    trace Debug (fun () -> \"3\") getLocals\n",
    "    do! Async.Sleep 1\n",
    "    trace Debug (fun () -> \"4\") getLocals\n",
    "    let! retries = waitForFileAccess path\n",
    "    retries |> _isGreaterThan 100\n",
    "    let text = File.ReadAllText path\n",
    "    text |> _equal \"1\"\n",
    "}\n",
    "|> Async.runWithTimeout 3000\n",
    "|> _equal (Some ())"
   ]
  },
  {
   "cell_type": "markdown",
   "metadata": {
    "dotnet_repl_cellExecutionStartTime": "2023-07-20T19:45:09.2142195-03:00",
    "dotnet_repl_cellExecutionEndTime": "2023-07-20T19:45:09.216397-03:00",
    "dotnet_repl_cellExecutionTime": "2.1811ms"
   },
   "source": [
    "## deleteDirectoryAsync"
   ]
  },
  {
   "cell_type": "code",
   "execution_count": null,
   "metadata": {
    "dotnet_repl_cellExecutionStartTime": "2023-07-20T19:45:09.2164496-03:00",
    "dotnet_repl_cellExecutionEndTime": "2023-07-20T19:45:09.3116769-03:00",
    "dotnet_repl_cellExecutionTime": "95.2303ms",
    "dotnet_interactive": {
     "language": "fsharp"
    },
    "polyglot_notebook": {
     "kernelName": "fsharp"
    }
   },
   "outputs": [],
   "source": [
    "let deleteDirectoryAsync path =\n",
    "    let rec loop retry = async {\n",
    "        try\n",
    "            System.IO.Directory.Delete (path, true)\n",
    "        with ex ->\n",
    "            if retry % 100 = 0 then\n",
    "                let getLocals () = $\"path: {path} / message: {ex.Message} / {getLocals ()}\"\n",
    "                trace Warn (fun () -> \"deleteDirectoryAsync\") getLocals\n",
    "            do! Async.Sleep 1\n",
    "            return! loop (retry + 1)\n",
    "    }\n",
    "    loop 0"
   ]
  },
  {
   "cell_type": "code",
   "execution_count": null,
   "metadata": {
    "dotnet_repl_cellExecutionStartTime": "2023-07-20T19:45:09.3117333-03:00",
    "dotnet_repl_cellExecutionEndTime": "2023-07-20T19:45:11.4830856-03:00",
    "dotnet_repl_cellExecutionTime": "2.1713542s",
    "dotnet_interactive": {
     "language": "fsharp"
    },
    "polyglot_notebook": {
     "kernelName": "fsharp"
    }
   },
   "outputs": [
    {
     "name": "stdout",
     "output_type": "stream",
     "text": [
      "19:45:09 #15 [Debug] createTempDirectory / tempFolder: C:\\Users\\i574n\\AppData\\Local\\Temp\\!dotnet-repl\\20230720-1945-0944-4441-498468d383e0 / result: { CreationTime = 2023-07-20 7:45:09 PM\n",
      "  Exists = true }\r\n",
      "19:45:09 #16 [Debug] 1\r\n",
      "19:45:09 #17 [Debug] 2\r\n",
      "19:45:09 #18 [Debug] 3\r\n",
      "19:45:09 #19 [Debug] _1\r\n",
      "19:45:09 #20 [Debug] _2\r\n",
      "19:45:09 #21 [Debug] 4\r\n",
      "19:45:09 #22 [Warn] deleteDirectoryAsync / path: C:\\Users\\i574n\\AppData\\Local\\Temp\\!dotnet-repl\\20230720-1945-0944-4441-498468d383e0\\test / message: The process cannot access the file 'test.txt' because it is being used by another process.\r\n",
      "19:45:11 #23 [Warn] deleteDirectoryAsync / path: C:\\Users\\i574n\\AppData\\Local\\Temp\\!dotnet-repl\\20230720-1945-0944-4441-498468d383e0\\test / message: The process cannot access the file 'test.txt' because it is being used by another process.\r\n",
      "19:45:11 #24 [Debug] _3\r\n",
      "19:45:11 #25 [Debug] 5\r\n",
      "FSharpOption<Unit>\r\n",
      "      Value: <null>\r\n"
     ]
    }
   ],
   "source": [
    "//// test\n",
    "\n",
    "let tempFolder = createTempDirectory ()\n",
    "let path = tempFolder </> \"test\"\n",
    "\n",
    "let lockDirectory () = async {\n",
    "    trace Debug (fun () -> \"_1\") getLocals\n",
    "    System.IO.File.WriteAllText (path </> \"test.txt\", \"\")\n",
    "    use _ = new System.IO.FileStream (path </> \"test.txt\", System.IO.FileMode.Open, System.IO.FileAccess.ReadWrite)\n",
    "    trace Debug (fun () -> \"_2\") getLocals\n",
    "    do! Async.Sleep 2000\n",
    "    trace Debug (fun () -> \"_3\") getLocals\n",
    "}\n",
    "\n",
    "async {\n",
    "    trace Debug (fun () -> \"1\") getLocals\n",
    "    Directory.CreateDirectory path |> ignore\n",
    "    trace Debug (fun () -> \"2\") getLocals\n",
    "    let! _ = lockDirectory () |> Async.StartChild\n",
    "    trace Debug (fun () -> \"3\") getLocals\n",
    "    do! Async.Sleep 1\n",
    "    trace Debug (fun () -> \"4\") getLocals\n",
    "    do! deleteDirectoryAsync path\n",
    "    trace Debug (fun () -> \"5\") getLocals\n",
    "}\n",
    "|> Async.runWithTimeout 3000\n",
    "|> _equal (Some ())"
   ]
  },
  {
   "cell_type": "markdown",
   "metadata": {
    "dotnet_repl_cellExecutionStartTime": "2023-07-20T19:45:11.4831304-03:00",
    "dotnet_repl_cellExecutionEndTime": "2023-07-20T19:45:11.4849397-03:00",
    "dotnet_repl_cellExecutionTime": "1.8115ms"
   },
   "source": [
    "## deleteFileAsync"
   ]
  },
  {
   "cell_type": "code",
   "execution_count": null,
   "metadata": {
    "dotnet_repl_cellExecutionStartTime": "2023-07-20T19:45:11.4849728-03:00",
    "dotnet_repl_cellExecutionEndTime": "2023-07-20T19:45:11.5526175-03:00",
    "dotnet_repl_cellExecutionTime": "67.6465ms",
    "dotnet_interactive": {
     "language": "fsharp"
    },
    "polyglot_notebook": {
     "kernelName": "fsharp"
    }
   },
   "outputs": [],
   "source": [
    "let deleteFileAsync path =\n",
    "    let rec loop retry = async {\n",
    "        try\n",
    "            System.IO.File.Delete path\n",
    "        with ex ->\n",
    "            if retry % 100 = 0 then\n",
    "                let getLocals () = $\"path: {path} / message: {ex.Message} / {getLocals ()}\"\n",
    "                trace Warn (fun () -> \"deleteFileAsync\") getLocals\n",
    "            do! Async.Sleep 1\n",
    "            return! loop (retry + 1)\n",
    "    }\n",
    "    loop 0"
   ]
  },
  {
   "cell_type": "code",
   "execution_count": null,
   "metadata": {
    "dotnet_repl_cellExecutionStartTime": "2023-07-20T19:45:11.5526532-03:00",
    "dotnet_repl_cellExecutionEndTime": "2023-07-20T19:45:13.7227668-03:00",
    "dotnet_repl_cellExecutionTime": "2.1701144s",
    "dotnet_interactive": {
     "language": "fsharp"
    },
    "polyglot_notebook": {
     "kernelName": "fsharp"
    }
   },
   "outputs": [
    {
     "name": "stdout",
     "output_type": "stream",
     "text": [
      "19:45:11 #26 [Debug] createTempDirectory / tempFolder: C:\\Users\\i574n\\AppData\\Local\\Temp\\!dotnet-repl\\20230720-1945-1167-6757-68cb84144152 / result: { CreationTime = 2023-07-20 7:45:11 PM\n",
      "  Exists = true }\r\n",
      "19:45:11 #27 [Debug] 1\r\n",
      "19:45:11 #28 [Debug] 2\r\n",
      "19:45:11 #29 [Debug] 3\r\n",
      "19:45:11 #30 [Debug] _1\r\n",
      "19:45:11 #31 [Debug] _2\r\n",
      "19:45:11 #32 [Debug] 4\r\n",
      "19:45:11 #33 [Warn] deleteFileAsync / path: C:\\Users\\i574n\\AppData\\Local\\Temp\\!dotnet-repl\\20230720-1945-1167-6757-68cb84144152\\test.txt / message: The process cannot access the file 'C:\\Users\\i574n\\AppData\\Local\\Temp\\!dotnet-repl\\20230720-1945-1167-6757-68cb84144152\\test.txt' because it is being used by another process.\r\n",
      "19:45:13 #34 [Warn] deleteFileAsync / path: C:\\Users\\i574n\\AppData\\Local\\Temp\\!dotnet-repl\\20230720-1945-1167-6757-68cb84144152\\test.txt / message: The process cannot access the file 'C:\\Users\\i574n\\AppData\\Local\\Temp\\!dotnet-repl\\20230720-1945-1167-6757-68cb84144152\\test.txt' because it is being used by another process.\r\n",
      "19:45:13 #35 [Debug] _3\r\n",
      "19:45:13 #36 [Debug] 5\r\n",
      "FSharpOption<Unit>\r\n",
      "      Value: <null>\r\n"
     ]
    }
   ],
   "source": [
    "//// test\n",
    "\n",
    "let tempFolder = createTempDirectory ()\n",
    "let path = tempFolder </> \"test.txt\"\n",
    "\n",
    "let lockFile () = async {\n",
    "    trace Debug (fun () -> \"_1\") getLocals\n",
    "    use _ = new System.IO.FileStream (path, System.IO.FileMode.Open, System.IO.FileAccess.ReadWrite)\n",
    "    trace Debug (fun () -> \"_2\") getLocals\n",
    "    do! Async.Sleep 2000\n",
    "    trace Debug (fun () -> \"_3\") getLocals\n",
    "}\n",
    "\n",
    "async {\n",
    "    trace Debug (fun () -> \"1\") getLocals\n",
    "    do! File.WriteAllTextAsync (path, \"0\") |> Async.AwaitTask\n",
    "    trace Debug (fun () -> \"2\") getLocals\n",
    "    let! _ = lockFile () |> Async.StartChild\n",
    "    trace Debug (fun () -> \"3\") getLocals\n",
    "    do! Async.Sleep 1\n",
    "    trace Debug (fun () -> \"4\") getLocals\n",
    "    do! deleteFileAsync path\n",
    "    trace Debug (fun () -> \"5\") getLocals\n",
    "}\n",
    "|> Async.runWithTimeout 3000\n",
    "|> _equal (Some ())"
   ]
  },
  {
   "cell_type": "markdown",
   "metadata": {
    "dotnet_repl_cellExecutionStartTime": "2023-07-20T19:45:13.7227914-03:00",
    "dotnet_repl_cellExecutionEndTime": "2023-07-20T19:45:13.7242392-03:00",
    "dotnet_repl_cellExecutionTime": "1.4486ms"
   },
   "source": [
    "## moveFileAsync"
   ]
  },
  {
   "cell_type": "code",
   "execution_count": null,
   "metadata": {
    "dotnet_repl_cellExecutionStartTime": "2023-07-20T19:45:13.7242551-03:00",
    "dotnet_repl_cellExecutionEndTime": "2023-07-20T19:45:13.7852426-03:00",
    "dotnet_repl_cellExecutionTime": "60.9897ms",
    "dotnet_interactive": {
     "language": "fsharp"
    },
    "polyglot_notebook": {
     "kernelName": "fsharp"
    }
   },
   "outputs": [],
   "source": [
    "let moveFileAsync newPath oldPath =\n",
    "    let rec loop retry = async {\n",
    "        try\n",
    "            System.IO.File.Move (oldPath, newPath)\n",
    "        with ex ->\n",
    "            if retry % 100 = 0 then\n",
    "                let getLocals () =\n",
    "                    $\"oldPath: {oldPath} / newPath: {newPath} / message: {ex.Message} / {getLocals ()}\"\n",
    "                trace Warn (fun () -> \"moveFileAsync\") getLocals\n",
    "            do! Async.Sleep 1\n",
    "            return! loop (retry + 1)\n",
    "    }\n",
    "    loop 0"
   ]
  },
  {
   "cell_type": "code",
   "execution_count": null,
   "metadata": {
    "dotnet_repl_cellExecutionStartTime": "2023-07-20T19:45:13.7852891-03:00",
    "dotnet_repl_cellExecutionEndTime": "2023-07-20T19:45:15.9396919-03:00",
    "dotnet_repl_cellExecutionTime": "2.1544044s",
    "dotnet_interactive": {
     "language": "fsharp"
    },
    "polyglot_notebook": {
     "kernelName": "fsharp"
    }
   },
   "outputs": [
    {
     "name": "stdout",
     "output_type": "stream",
     "text": [
      "19:45:13 #37 [Debug] createTempDirectory / tempFolder: C:\\Users\\i574n\\AppData\\Local\\Temp\\!dotnet-repl\\20230720-1945-1389-8967-89d717c0a3cf / result: { CreationTime = 2023-07-20 7:45:13 PM\n",
      "  Exists = true }\r\n",
      "19:45:13 #38 [Debug] 1\r\n",
      "19:45:13 #39 [Debug] 2\r\n",
      "19:45:13 #40 [Debug] 3\r\n",
      "19:45:13 #41 [Debug] _1\r\n",
      "19:45:13 #42 [Debug] _2\r\n",
      "19:45:13 #43 [Debug] 4\r\n",
      "19:45:13 #44 [Warn] moveFileAsync / oldPath: C:\\Users\\i574n\\AppData\\Local\\Temp\\!dotnet-repl\\20230720-1945-1389-8967-89d717c0a3cf\\test.txt / newPath: C:\\Users\\i574n\\AppData\\Local\\Temp\\!dotnet-repl\\20230720-1945-1389-8967-89d717c0a3cf\\test2.txt / message: The process cannot access the file because it is being used by another process.\r\n",
      "19:45:15 #45 [Warn] moveFileAsync / oldPath: C:\\Users\\i574n\\AppData\\Local\\Temp\\!dotnet-repl\\20230720-1945-1389-8967-89d717c0a3cf\\test.txt / newPath: C:\\Users\\i574n\\AppData\\Local\\Temp\\!dotnet-repl\\20230720-1945-1389-8967-89d717c0a3cf\\test2.txt / message: The process cannot access the file because it is being used by another process.\r\n",
      "19:45:15 #46 [Debug] _3\r\n",
      "19:45:15 #47 [Debug] 5\r\n",
      "FSharpOption<String>\r\n",
      "      Value: 0\r\n"
     ]
    }
   ],
   "source": [
    "//// test\n",
    "\n",
    "let tempFolder = createTempDirectory ()\n",
    "let path = tempFolder </> \"test.txt\"\n",
    "let newPath = tempFolder </> \"test2.txt\"\n",
    "\n",
    "let lockFile () = async {\n",
    "    trace Debug (fun () -> \"_1\") getLocals\n",
    "    use _ = new System.IO.FileStream (path, System.IO.FileMode.Open, System.IO.FileAccess.ReadWrite)\n",
    "    trace Debug (fun () -> \"_2\") getLocals\n",
    "    do! Async.Sleep 2000\n",
    "    trace Debug (fun () -> \"_3\") getLocals\n",
    "}\n",
    "\n",
    "async {\n",
    "    trace Debug (fun () -> \"1\") getLocals\n",
    "    do! File.WriteAllTextAsync (path, \"0\") |> Async.AwaitTask\n",
    "    trace Debug (fun () -> \"2\") getLocals\n",
    "    let! _ = lockFile () |> Async.StartChild\n",
    "    trace Debug (fun () -> \"3\") getLocals\n",
    "    do! Async.Sleep 1\n",
    "    trace Debug (fun () -> \"4\") getLocals\n",
    "    do! path |> moveFileAsync newPath\n",
    "    trace Debug (fun () -> \"5\") getLocals\n",
    "    return File.ReadAllText newPath\n",
    "}\n",
    "|> Async.runWithTimeout 3000\n",
    "|> _equal (Some \"0\")"
   ]
  },
  {
   "cell_type": "markdown",
   "metadata": {
    "dotnet_repl_cellExecutionStartTime": "2023-07-20T19:45:15.939735-03:00",
    "dotnet_repl_cellExecutionEndTime": "2023-07-20T19:45:15.9415624-03:00",
    "dotnet_repl_cellExecutionTime": "1.8295ms"
   },
   "source": [
    "## watch"
   ]
  },
  {
   "cell_type": "code",
   "execution_count": null,
   "metadata": {
    "dotnet_repl_cellExecutionStartTime": "2023-07-20T19:45:15.9416225-03:00",
    "dotnet_repl_cellExecutionEndTime": "2023-07-20T19:45:16.3036274-03:00",
    "dotnet_repl_cellExecutionTime": "362.0077ms",
    "dotnet_interactive": {
     "language": "fsharp"
    },
    "polyglot_notebook": {
     "kernelName": "fsharp"
    }
   },
   "outputs": [],
   "source": [
    "[<RequireQualifiedAccess>]\n",
    "type FileSystemChangeType =\n",
    "    | Error\n",
    "    | Changed\n",
    "    | Created\n",
    "    | Deleted\n",
    "    | Renamed\n",
    "\n",
    "[<RequireQualifiedAccess>]\n",
    "type FileSystemChange =\n",
    "    | Error of exn: exn\n",
    "    | Changed of path: string * content: string option\n",
    "    | Created of path: string * content: string option\n",
    "    | Deleted of path: string\n",
    "    | Renamed of oldPath: string * (string * string option)\n",
    "\n",
    "\n",
    "let watchWithFilter filter shouldReadContent path =\n",
    "    let fullPath = System.IO.Path.GetFullPath path\n",
    "    let getLocals () = $\"fullPath: {fullPath} / filter: {filter} / {getLocals ()}\"\n",
    "\n",
    "    let watcher =\n",
    "        new System.IO.FileSystemWatcher (\n",
    "            Path = fullPath,\n",
    "            NotifyFilter = filter,\n",
    "            EnableRaisingEvents = true,\n",
    "            IncludeSubdirectories = true\n",
    "        )\n",
    "\n",
    "    let getEventPath (path : string) =\n",
    "        path.Trim().Replace(fullPath, \"\").TrimStart [| '/'; '\\\\' |]\n",
    "\n",
    "    let ticks () =\n",
    "        System.DateTime.UtcNow.Ticks\n",
    "\n",
    "    let readContent fullPath =\n",
    "        if not shouldReadContent\n",
    "        then None\n",
    "        else\n",
    "            try\n",
    "                waitForFileAccess fullPath |> Async.runWithTimeout 30000 |> ignore\n",
    "                System.IO.File.ReadAllText fullPath |> Some\n",
    "            with ex ->\n",
    "                trace Error (fun () -> $\"watchWithFilter / readContent / message: {ex.Message}\") getLocals\n",
    "                None\n",
    "\n",
    "    let changedStream =\n",
    "        AsyncSeq.subscribeEvent\n",
    "            watcher.Changed\n",
    "            (fun event ->\n",
    "                ticks (),\n",
    "                [ FileSystemChange.Changed (getEventPath event.FullPath, readContent event.FullPath) ]\n",
    "            )\n",
    "\n",
    "    let deletedStream =\n",
    "        AsyncSeq.subscribeEvent\n",
    "            watcher.Deleted\n",
    "            (fun event ->\n",
    "                ticks (),\n",
    "                [ FileSystemChange.Deleted (getEventPath event.FullPath) ]\n",
    "            )\n",
    "\n",
    "    let createdStream =\n",
    "        AsyncSeq.subscribeEvent\n",
    "            watcher.Created\n",
    "            (fun event ->\n",
    "                let path = getEventPath event.FullPath\n",
    "                let content = readContent event.FullPath\n",
    "                ticks (), [\n",
    "                    FileSystemChange.Created (path, content)\n",
    "                    if OS.isWindows () then\n",
    "                        FileSystemChange.Changed (path, content)\n",
    "                ])\n",
    "\n",
    "    let renamedStream =\n",
    "        AsyncSeq.subscribeEvent\n",
    "            watcher.Renamed\n",
    "            (fun event ->\n",
    "                ticks (), [\n",
    "                    FileSystemChange.Renamed (\n",
    "                        getEventPath event.OldFullPath,\n",
    "                        (getEventPath event.FullPath, readContent event.FullPath)\n",
    "                    )\n",
    "                ]\n",
    "            )\n",
    "\n",
    "    let errorStream =\n",
    "        AsyncSeq.subscribeEvent\n",
    "            watcher.Error\n",
    "            (fun event -> ticks (), [ FileSystemChange.Error (event.GetException ()) ])\n",
    "\n",
    "    let stream =\n",
    "        [\n",
    "            changedStream\n",
    "            deletedStream\n",
    "            createdStream\n",
    "            renamedStream\n",
    "            errorStream\n",
    "        ]\n",
    "        |> FSharp.Control.AsyncSeq.mergeAll\n",
    "        |> FSharp.Control.AsyncSeq.map (fun (n, events) ->\n",
    "            events\n",
    "            |> List.fold\n",
    "                (fun (i, events) event ->\n",
    "                    i + 1L,\n",
    "                    (n + i, event) :: events)\n",
    "                (0L, [])\n",
    "            |> snd\n",
    "            |> List.rev\n",
    "        )\n",
    "        |> FSharp.Control.AsyncSeq.concatSeq\n",
    "\n",
    "    let disposable =\n",
    "        Object.newDisposable (fun () ->\n",
    "            trace Debug (fun () -> \"watchWithFilter / Disposing watch stream\") getLocals\n",
    "            watcher.EnableRaisingEvents <- false\n",
    "            watcher.Dispose ()\n",
    "        )\n",
    "\n",
    "    stream, disposable\n",
    "\n",
    "let watch path =\n",
    "    watchWithFilter\n",
    "        (System.IO.NotifyFilters.Attributes\n",
    "        ||| System.IO.NotifyFilters.CreationTime\n",
    "        ||| System.IO.NotifyFilters.DirectoryName\n",
    "        ||| System.IO.NotifyFilters.FileName\n",
    "        //  ||| System.IO.NotifyFilters.LastAccess\n",
    "        //  ||| System.IO.NotifyFilters.LastWrite\n",
    "        ||| System.IO.NotifyFilters.Security\n",
    "        //  ||| System.IO.NotifyFilters.Size\n",
    "        )\n",
    "        path"
   ]
  },
  {
   "cell_type": "markdown",
   "metadata": {
    "dotnet_repl_cellExecutionStartTime": "2023-07-20T19:45:16.3036627-03:00",
    "dotnet_repl_cellExecutionEndTime": "2023-07-20T19:45:16.3053472-03:00",
    "dotnet_repl_cellExecutionTime": "1.6856ms"
   },
   "source": [
    "### testEventsRaw (test)"
   ]
  },
  {
   "cell_type": "code",
   "execution_count": null,
   "metadata": {
    "dotnet_repl_cellExecutionStartTime": "2023-07-20T19:45:16.3053671-03:00",
    "dotnet_repl_cellExecutionEndTime": "2023-07-20T19:45:16.4795314-03:00",
    "dotnet_repl_cellExecutionTime": "174.1658ms",
    "dotnet_interactive": {
     "language": "fsharp"
    },
    "polyglot_notebook": {
     "kernelName": "fsharp"
    }
   },
   "outputs": [],
   "source": [
    "//// test\n",
    "\n",
    "let testEventsRaw\n",
    "    (watchFn : bool -> string -> FSharp.Control.AsyncSeq<int64 * FileSystemChange> * IDisposable)\n",
    "    write\n",
    "    =\n",
    "    let tempDirectory = createTempDirectory ()\n",
    "    let stream, disposable = watchFn true tempDirectory\n",
    "\n",
    "    let events = System.Collections.Concurrent.ConcurrentBag ()\n",
    "\n",
    "    let iter () =\n",
    "        stream\n",
    "        |> FSharp.Control.AsyncSeq.iterAsyncParallel (fun event -> async { events.Add event })\n",
    "\n",
    "    let run = async {\n",
    "        let! _ = iter () |> Async.StartChild\n",
    "        do! Async.Sleep 150\n",
    "        return! write tempDirectory\n",
    "    }\n",
    "\n",
    "    try\n",
    "        run\n",
    "        |> Async.runWithTimeout 10000\n",
    "        |> _equal (Some ())\n",
    "    finally\n",
    "        disposable.Dispose ()\n",
    "        deleteDirectoryAsync tempDirectory |> Async.RunSynchronously\n",
    "\n",
    "    let eventsLog =\n",
    "        events\n",
    "        |> Seq.toList\n",
    "        |> List.sortBy fst\n",
    "        |> List.fold\n",
    "            (fun (prev, acc) (ticks, event) ->\n",
    "                ticks, (ticks, (if prev = 0L then 0L else ticks - prev), event) :: acc\n",
    "            )\n",
    "            (0L, [])\n",
    "        |> snd\n",
    "        |> List.rev\n",
    "        |> List.map (fun (diff, n, event) ->\n",
    "            let text = $\"{n} / {diff} / {event}\"\n",
    "            text.Substring (0, min 100 text.Length)\n",
    "        )\n",
    "        |> String.concat \"\\n\"\n",
    "    let getLocals () = $\"eventsLog: \\n{eventsLog} / {getLocals ()}\"\n",
    "    trace Debug (fun () -> \"testEventsRaw\") getLocals\n",
    "\n",
    "    events\n",
    "    |> Seq.toList\n",
    "    |> List.sortBy fst\n",
    "    |> List.map snd\n",
    "    |> List.fold\n",
    "        (fun (map, acc) event ->\n",
    "            match event with\n",
    "            | FileSystemChange.Changed (path, (Some _ as content)) ->\n",
    "                if map |> Map.containsKey path && map.[path] = content\n",
    "                then map, acc\n",
    "                else (map |> Map.add path content), event :: acc\n",
    "            | FileSystemChange.Created (path, _)\n",
    "            | FileSystemChange.Deleted path ->\n",
    "                (map |> Map.remove path), event :: acc\n",
    "            | FileSystemChange.Renamed (oldPath, (newPath, content)) ->\n",
    "                (map |> Map.remove oldPath |> Map.remove newPath), event :: acc\n",
    "            | _ -> map, event :: acc\n",
    "        )\n",
    "        (Map.empty, [])\n",
    "    |> snd\n",
    "    |> List.rev"
   ]
  },
  {
   "cell_type": "markdown",
   "metadata": {
    "dotnet_repl_cellExecutionStartTime": "2023-07-20T19:45:16.4795576-03:00",
    "dotnet_repl_cellExecutionEndTime": "2023-07-20T19:45:16.481129-03:00",
    "dotnet_repl_cellExecutionTime": "1.5722ms"
   },
   "source": [
    "#### fast (test)"
   ]
  },
  {
   "cell_type": "code",
   "execution_count": null,
   "metadata": {
    "dotnet_repl_cellExecutionStartTime": "2023-07-20T19:45:16.4811449-03:00",
    "dotnet_repl_cellExecutionEndTime": "2023-07-20T19:45:17.3762853-03:00",
    "dotnet_repl_cellExecutionTime": "895.1427ms",
    "dotnet_interactive": {
     "language": "fsharp"
    },
    "polyglot_notebook": {
     "kernelName": "fsharp"
    }
   },
   "outputs": [
    {
     "name": "stdout",
     "output_type": "stream",
     "text": [
      "19:45:16 #48 [Debug] createTempDirectory / tempFolder: C:\\Users\\i574n\\AppData\\Local\\Temp\\!dotnet-repl\\20230720-1945-1683-8302-8353fbdfa431 / result: { CreationTime = 2023-07-20 7:45:16 PM\n",
      "  Exists = true }\r\n",
      "19:45:17 #49 [Warn] waitForFileAccess / path: C:\\Users\\i574n\\AppData\\Local\\Temp\\!dotnet-repl\\20230720-1945-1683-8302-8353fbdfa431\\file_1.txt / message: The process cannot access the file 'C:\\Users\\i574n\\AppData\\Local\\Temp\\!dotnet-repl\\20230720-1945-1683-8302-8353fbdfa431\\file_1.txt' because it is being used by another process.\r\n",
      "FSharpOption<Unit>\r\n",
      "      Value: <null>\r\n",
      "19:45:17 #50 [Debug] watchWithFilter / Disposing watch stream / fullPath: C:\\Users\\i574n\\AppData\\Local\\Temp\\!dotnet-repl\\20230720-1945-1683-8302-8353fbdfa431 / filter: FileName, DirectoryName, Attributes, CreationTime, Security\r\n",
      "19:45:17 #51 [Debug] testEventsRaw / eventsLog: \n",
      "0 / 638254899170114899 / Created (\"file1.txt\", Some \"a1\")\n",
      "1 / 638254899170114900 / Changed (\"file1.txt\", Some \"a1\")\n",
      "20827 / 638254899170135727 / Created (\"file2.txt\", Some \"a2\")\n",
      "1 / 638254899170135728 / Changed (\"file2.txt\", Some \"a2\")\n",
      "575977 / 638254899170711705 / Changed (\"file1.txt\", Some \"b1\")\n",
      "6929 / 638254899170718634 / Changed (\"file2.txt\", Some \"b2\")\n",
      "635905 / 638254899171354539 / Renamed (\"file1.txt\", (\"file_1.txt\", Some \"b1\"))\n",
      "5432 / 638254899171359971 / Renamed (\"file2.txt\", (\"file_2.txt\", Some \"b2\"))\n",
      "618100 / 638254899171978071 / Changed (\"file_1.txt\", Some \"c1\")\n",
      "131142 / 638254899172109213 / Changed (\"file_2.txt\", Some \"c2\")\n",
      "493417 / 638254899172602630 / Deleted \"file_1.txt\"\n",
      "2437 / 638254899172605067 / Deleted \"file_2.txt\"\r\n",
      "FSharpList<FileSystemChange>\r\n",
      "      - path: file1.txt\r\n",
      "        content: FSharpOption<String>\r\n",
      "          Value: a1\r\n",
      "      - path: file1.txt\r\n",
      "        content: FSharpOption<String>\r\n",
      "          Value: a1\r\n",
      "      - path: file2.txt\r\n",
      "        content: FSharpOption<String>\r\n",
      "          Value: a2\r\n",
      "      - path: file2.txt\r\n",
      "        content: FSharpOption<String>\r\n",
      "          Value: a2\r\n",
      "      - path: file1.txt\r\n",
      "        content: FSharpOption<String>\r\n",
      "          Value: b1\r\n",
      "      - path: file2.txt\r\n",
      "        content: FSharpOption<String>\r\n",
      "          Value: b2\r\n",
      "      - oldPath: file1.txt\r\n",
      "        Item2:         - file_1.txt\r\n",
      "        - FSharpOption<String>\r\n",
      "            Value: b1\r\n",
      "      - oldPath: file2.txt\r\n",
      "        Item2:         - file_2.txt\r\n",
      "        - FSharpOption<String>\r\n",
      "            Value: b2\r\n",
      "      - path: file_1.txt\r\n",
      "        content: FSharpOption<String>\r\n",
      "          Value: c1\r\n",
      "      - path: file_2.txt\r\n",
      "        content: FSharpOption<String>\r\n",
      "          Value: c2\r\n",
      "      - path: file_1.txt\r\n",
      "      - path: file_2.txt\r\n"
     ]
    }
   ],
   "source": [
    "//// test\n",
    "\n",
    "let write path = async {\n",
    "    let n = 2\n",
    "\n",
    "    for i = 1 to n do\n",
    "        do! System.IO.File.WriteAllTextAsync (path </> $\"file{i}.txt\", $\"a{i}\") |> Async.AwaitTask\n",
    "\n",
    "    do! Async.Sleep 50\n",
    "\n",
    "    for i = 1 to n do\n",
    "        do! System.IO.File.WriteAllTextAsync (path </> $\"file{i}.txt\", $\"b{i}\") |> Async.AwaitTask\n",
    "\n",
    "    do! Async.Sleep 50\n",
    "\n",
    "    for i = 1 to n do\n",
    "        do! path </> $\"file{i}.txt\" |> moveFileAsync (path </> $\"file_{i}.txt\")\n",
    "\n",
    "    do! Async.Sleep 50\n",
    "\n",
    "    for i = 1 to n do\n",
    "        do! System.IO.File.WriteAllTextAsync (path </> $\"file_{i}.txt\", $\"c{i}\") |> Async.AwaitTask\n",
    "\n",
    "    do! Async.Sleep 50\n",
    "\n",
    "    for i = 1 to n do\n",
    "        do! deleteFileAsync (path </> $\"file_{i}.txt\")\n",
    "\n",
    "    do! Async.Sleep 50\n",
    "}\n",
    "\n",
    "let events = testEventsRaw watch write\n",
    "\n",
    "events\n",
    "|> _sequenceEqual [\n",
    "    FileSystemChange.Created (\"file1.txt\", Some \"a1\")\n",
    "    FileSystemChange.Changed (\"file1.txt\", Some \"a1\")\n",
    "    FileSystemChange.Created (\"file2.txt\", Some \"a2\")\n",
    "    FileSystemChange.Changed (\"file2.txt\", Some \"a2\")\n",
    "\n",
    "    FileSystemChange.Changed (\"file1.txt\", Some \"b1\")\n",
    "    FileSystemChange.Changed (\"file2.txt\", Some \"b2\")\n",
    "\n",
    "    FileSystemChange.Renamed (\"file1.txt\", (\"file_1.txt\", Some \"b1\"))\n",
    "    FileSystemChange.Renamed (\"file2.txt\", (\"file_2.txt\", Some \"b2\"))\n",
    "\n",
    "    FileSystemChange.Changed (\"file_1.txt\", Some \"c1\")\n",
    "    FileSystemChange.Changed (\"file_2.txt\", Some \"c2\")\n",
    "\n",
    "    FileSystemChange.Deleted \"file_1.txt\"\n",
    "    FileSystemChange.Deleted \"file_2.txt\"\n",
    "]"
   ]
  },
  {
   "cell_type": "markdown",
   "metadata": {
    "dotnet_repl_cellExecutionStartTime": "2023-07-20T19:45:17.3763557-03:00",
    "dotnet_repl_cellExecutionEndTime": "2023-07-20T19:45:17.3785569-03:00",
    "dotnet_repl_cellExecutionTime": "2.2027ms"
   },
   "source": [
    "#### slow (test)"
   ]
  },
  {
   "cell_type": "code",
   "execution_count": null,
   "metadata": {
    "dotnet_repl_cellExecutionStartTime": "2023-07-20T19:45:17.3785813-03:00",
    "dotnet_repl_cellExecutionEndTime": "2023-07-20T19:45:18.9216004-03:00",
    "dotnet_repl_cellExecutionTime": "1.5430216s",
    "dotnet_interactive": {
     "language": "fsharp"
    },
    "polyglot_notebook": {
     "kernelName": "fsharp"
    }
   },
   "outputs": [
    {
     "name": "stdout",
     "output_type": "stream",
     "text": [
      "19:45:17 #52 [Debug] createTempDirectory / tempFolder: C:\\Users\\i574n\\AppData\\Local\\Temp\\!dotnet-repl\\20230720-1945-1775-7564-79e312b7ad4b / result: { CreationTime = 2023-07-20 7:45:17 PM\n",
      "  Exists = true }\r\n",
      "19:45:17 #53 [Warn] waitForFileAccess / path: C:\\Users\\i574n\\AppData\\Local\\Temp\\!dotnet-repl\\20230720-1945-1775-7564-79e312b7ad4b\\file1.txt / message: The process cannot access the file 'C:\\Users\\i574n\\AppData\\Local\\Temp\\!dotnet-repl\\20230720-1945-1775-7564-79e312b7ad4b\\file1.txt' because it is being used by another process.\r\n",
      "19:45:18 #54 [Warn] waitForFileAccess / path: C:\\Users\\i574n\\AppData\\Local\\Temp\\!dotnet-repl\\20230720-1945-1775-7564-79e312b7ad4b\\file1.txt / message: The process cannot access the file 'C:\\Users\\i574n\\AppData\\Local\\Temp\\!dotnet-repl\\20230720-1945-1775-7564-79e312b7ad4b\\file1.txt' because it is being used by another process.\r\n",
      "19:45:18 #55 [Warn] waitForFileAccess / path: C:\\Users\\i574n\\AppData\\Local\\Temp\\!dotnet-repl\\20230720-1945-1775-7564-79e312b7ad4b\\file2.txt / message: The process cannot access the file 'C:\\Users\\i574n\\AppData\\Local\\Temp\\!dotnet-repl\\20230720-1945-1775-7564-79e312b7ad4b\\file2.txt' because it is being used by another process.\r\n",
      "19:45:18 #56 [Warn] waitForFileAccess / path: C:\\Users\\i574n\\AppData\\Local\\Temp\\!dotnet-repl\\20230720-1945-1775-7564-79e312b7ad4b\\file_1.txt / message: The process cannot access the file 'C:\\Users\\i574n\\AppData\\Local\\Temp\\!dotnet-repl\\20230720-1945-1775-7564-79e312b7ad4b\\file_1.txt' because it is being used by another process.\r\n",
      "FSharpOption<Unit>\r\n",
      "      Value: <null>\r\n",
      "19:45:18 #57 [Debug] watchWithFilter / Disposing watch stream / fullPath: C:\\Users\\i574n\\AppData\\Local\\Temp\\!dotnet-repl\\20230720-1945-1775-7564-79e312b7ad4b / filter: FileName, DirectoryName, Attributes, CreationTime, Security\r\n",
      "19:45:18 #58 [Debug] testEventsRaw / eventsLog: \n",
      "0 / 638254899179564099 / Created\n",
      "  (\"file1.txt\",\n",
      "   Some\n",
      "     \"1111111111111111111111111111111111111\n",
      "1 / 638254899179564100 / Changed\n",
      "  (\"file1.txt\",\n",
      "   Some\n",
      "     \"1111111111111111111111111111111111111\n",
      "69563 / 638254899179633663 / Created\n",
      "  (\"file2.txt\",\n",
      "   Some\n",
      "     \"222222222222222222222222222222222\n",
      "1 / 638254899179633664 / Changed\n",
      "  (\"file2.txt\",\n",
      "   Some\n",
      "     \"2222222222222222222222222222222222222\n",
      "1056550 / 638254899180690214 / Changed\n",
      "  (\"file1.txt\",\n",
      "   Some\n",
      "     \"1111111111111111111111111111111\n",
      "145925 / 638254899180836139 / Changed\n",
      "  (\"file2.txt\",\n",
      "   Some\n",
      "     \"22222222222222222222222222222222\n",
      "1251940 / 638254899182088079 / Renamed\n",
      "  (\"file1.txt\",\n",
      "   (\"file_1.txt\",\n",
      "    Some\n",
      "      \"11111111111\n",
      "54915 / 638254899182142994 / Renamed\n",
      "  (\"file2.txt\",\n",
      "   (\"file_2.txt\",\n",
      "    Some\n",
      "      \"2222222222222\n",
      "1073841 / 638254899183216835 / Changed\n",
      "  (\"file_1.txt\",\n",
      "   Some\n",
      "     \"111111111111111111111111111111\n",
      "278687 / 638254899183495522 / Changed\n",
      "  (\"file_2.txt\",\n",
      "   Some\n",
      "     \"2222222222222222222222222222222\n",
      "945401 / 638254899184440923 / Deleted \"file_1.txt\"\n",
      "6553 / 638254899184447476 / Deleted \"file_2.txt\"\r\n",
      "FSharpList<FileSystemChange>\r\n",
      "      - path: file1.txt\r\n",
      "        content: FSharpOption<String>\r\n",
      "          Value: 1a\r\n",
      "      - path: file1.txt\r\n",
      "        content: FSharpOption<String>\r\n",
      "          Value: 1a\r\n",
      "      - path: file2.txt\r\n",
      "        content: FSharpOption<String>\r\n",
      "          Value: 2a\r\n",
      "      - path: file2.txt\r\n",
      "        content: FSharpOption<String>\r\n",
      "          Value: 2a\r\n",
      "      - path: file1.txt\r\n",
      "        content: FSharpOption<String>\r\n",
      "          Value: 1b\r\n",
      "      - path: file2.txt\r\n",
      "        content: FSharpOption<String>\r\n",
      "          Value: 2b\r\n",
      "      - oldPath: file1.txt\r\n",
      "        Item2:         - file_1.txt\r\n",
      "        - FSharpOption<String>\r\n",
      "            Value: 1b\r\n",
      "      - oldPath: file2.txt\r\n",
      "        Item2:         - file_2.txt\r\n",
      "        - FSharpOption<String>\r\n",
      "            Value: 2b\r\n",
      "      - path: file_1.txt\r\n",
      "        content: FSharpOption<String>\r\n",
      "          Value: 1c\r\n",
      "      - path: file_2.txt\r\n",
      "        content: FSharpOption<String>\r\n",
      "          Value: 2c\r\n",
      "      - path: file_1.txt\r\n",
      "      - path: file_2.txt\r\n"
     ]
    }
   ],
   "source": [
    "//// test\n",
    "\n",
    "let write path = async {\n",
    "    let n = 2\n",
    "\n",
    "    let contents =\n",
    "        [1..n]\n",
    "        |> List.map (string >> String.replicate 1_000_000)\n",
    "\n",
    "    for i = 1 to n do\n",
    "        do! System.IO.File.WriteAllTextAsync (path </> $\"file{i}.txt\", $\"{contents.[i - 1]}a\") |> Async.AwaitTask\n",
    "\n",
    "    do! Async.Sleep 100\n",
    "\n",
    "    for i = 1 to n do\n",
    "        do! System.IO.File.WriteAllTextAsync (path </> $\"file{i}.txt\", $\"{contents.[i - 1]}b\") |> Async.AwaitTask\n",
    "\n",
    "    do! Async.Sleep 100\n",
    "\n",
    "    for i = 1 to n do\n",
    "        do! path </> $\"file{i}.txt\" |> moveFileAsync (path </> $\"file_{i}.txt\")\n",
    "\n",
    "    do! Async.Sleep 100\n",
    "\n",
    "    for i = 1 to n do\n",
    "        do! System.IO.File.WriteAllTextAsync (path </> $\"file_{i}.txt\", $\"{contents.[i - 1]}c\") |> Async.AwaitTask\n",
    "\n",
    "    do! Async.Sleep 100\n",
    "\n",
    "    for i = 1 to n do\n",
    "        do! deleteFileAsync (path </> $\"file_{i}.txt\")\n",
    "\n",
    "    do! Async.Sleep 100\n",
    "}\n",
    "\n",
    "let events =\n",
    "    testEventsRaw watch write\n",
    "    |> List.map (function\n",
    "        | FileSystemChange.Changed (path, Some content) ->\n",
    "            FileSystemChange.Changed (path, content |> Seq.distinct |> Seq.map string |> String.concat \"\" |> Some)\n",
    "        | FileSystemChange.Created (path, Some content) ->\n",
    "            FileSystemChange.Created (path, content |> Seq.distinct |> Seq.map string |> String.concat \"\" |> Some)\n",
    "        | FileSystemChange.Renamed (oldPath, (newPath, Some content)) ->\n",
    "            FileSystemChange.Renamed (\n",
    "                oldPath,\n",
    "                (newPath, content |> Seq.distinct |> Seq.map string |> String.concat \"\" |> Some)\n",
    "            )\n",
    "        | event -> event\n",
    "    )\n",
    "\n",
    "events\n",
    "|> _sequenceEqual [\n",
    "    FileSystemChange.Created (\"file1.txt\", Some \"1a\")\n",
    "    FileSystemChange.Changed (\"file1.txt\", Some \"1a\")\n",
    "    FileSystemChange.Created (\"file2.txt\", Some \"2a\")\n",
    "    FileSystemChange.Changed (\"file2.txt\", Some \"2a\")\n",
    "\n",
    "    FileSystemChange.Changed (\"file1.txt\", Some \"1b\")\n",
    "    FileSystemChange.Changed (\"file2.txt\", Some \"2b\")\n",
    "\n",
    "    FileSystemChange.Renamed (\"file1.txt\", (\"file_1.txt\", Some \"1b\"))\n",
    "    FileSystemChange.Renamed (\"file2.txt\", (\"file_2.txt\", Some \"2b\"))\n",
    "\n",
    "    FileSystemChange.Changed (\"file_1.txt\", Some \"1c\")\n",
    "    FileSystemChange.Changed (\"file_2.txt\", Some \"2c\")\n",
    "\n",
    "    FileSystemChange.Deleted \"file_1.txt\"\n",
    "    FileSystemChange.Deleted \"file_2.txt\"\n",
    "]"
   ]
  },
  {
   "cell_type": "markdown",
   "metadata": {
    "dotnet_repl_cellExecutionStartTime": "2023-07-20T19:45:18.9216476-03:00",
    "dotnet_repl_cellExecutionEndTime": "2023-07-20T19:45:18.9235869-03:00",
    "dotnet_repl_cellExecutionTime": "1.9417ms"
   },
   "source": [
    "### testEventsSorted (test)"
   ]
  },
  {
   "cell_type": "code",
   "execution_count": null,
   "metadata": {
    "dotnet_repl_cellExecutionStartTime": "2023-07-20T19:45:18.923616-03:00",
    "dotnet_repl_cellExecutionEndTime": "2023-07-20T19:45:19.135527-03:00",
    "dotnet_repl_cellExecutionTime": "211.9131ms",
    "dotnet_interactive": {
     "language": "fsharp"
    },
    "polyglot_notebook": {
     "kernelName": "fsharp"
    }
   },
   "outputs": [],
   "source": [
    "//// test\n",
    "\n",
    "let sortEvent event =\n",
    "    match event with\n",
    "    | FileSystemChange.Error _ -> 0\n",
    "    | FileSystemChange.Created _ -> 1\n",
    "    | FileSystemChange.Changed _ -> 2\n",
    "    | FileSystemChange.Renamed (_oldPath, _) -> 3\n",
    "    | FileSystemChange.Deleted _ -> 4\n",
    "\n",
    "let formatEvents events =\n",
    "    events\n",
    "    |> Seq.toList\n",
    "    |> List.sortBy (snd >> sortEvent)\n",
    "    |> List.choose (fun (ticks, event) ->\n",
    "        match event with\n",
    "        | FileSystemChange.Error _ ->\n",
    "            None\n",
    "        | FileSystemChange.Changed (path, _) ->\n",
    "            Some (ticks, System.IO.Path.GetFileName path, nameof FileSystemChangeType.Changed)\n",
    "        | FileSystemChange.Created (path, _) ->\n",
    "            Some (ticks, System.IO.Path.GetFileName path, nameof FileSystemChangeType.Created)\n",
    "        | FileSystemChange.Deleted path ->\n",
    "            Some (ticks, System.IO.Path.GetFileName path, nameof FileSystemChangeType.Deleted)\n",
    "        | FileSystemChange.Renamed (_oldPath, (path, _)) ->\n",
    "            Some (ticks, System.IO.Path.GetFileName path, nameof FileSystemChangeType.Renamed)\n",
    "    )\n",
    "    |> List.sortBy (fun (_, path, _) -> path)\n",
    "    |> List.distinctBy (fun (_, path, event) -> path, event)\n",
    "\n",
    "let testEventsSorted (watchFn : string -> FSharp.Control.AsyncSeq<int64 * FileSystemChange> * IDisposable) write =\n",
    "    let path = createTempDirectory ()\n",
    "    let stream, disposable = watchFn path\n",
    "\n",
    "    let events = System.Collections.Concurrent.ConcurrentBag ()\n",
    "\n",
    "    let iter () =\n",
    "        stream\n",
    "        |> FSharp.Control.AsyncSeq.iterAsyncParallel (fun event -> async { events.Add event })\n",
    "\n",
    "    let run = async {\n",
    "        let! child = iter () |> Async.StartChild\n",
    "        do! Async.Sleep 150\n",
    "        do! write path\n",
    "        do! child\n",
    "    }\n",
    "\n",
    "    try\n",
    "        run\n",
    "        |> Async.runWithTimeout 500\n",
    "        |> ignore\n",
    "    finally\n",
    "        disposable.Dispose ()\n",
    "        deleteDirectoryAsync path |> Async.RunSynchronously\n",
    "\n",
    "    let events = formatEvents events\n",
    "\n",
    "    let eventMap =\n",
    "        events\n",
    "        |> List.map (fun (ticks, path, event) -> path, (event, ticks))\n",
    "        |> List.groupBy fst\n",
    "        |> List.map (fun (path, events) ->\n",
    "            let event, _ticks =\n",
    "                events\n",
    "                |> List.map snd\n",
    "                |> List.sortByDescending snd\n",
    "                |> List.head\n",
    "\n",
    "            path, event\n",
    "        )\n",
    "        |> Map.ofList\n",
    "\n",
    "    let eventList =\n",
    "        events\n",
    "        |> List.map (fun (_ticks, path, event) -> path, event)\n",
    "\n",
    "    eventMap, eventList"
   ]
  },
  {
   "cell_type": "markdown",
   "metadata": {
    "dotnet_repl_cellExecutionStartTime": "2023-07-20T19:45:19.1361333-03:00",
    "dotnet_repl_cellExecutionEndTime": "2023-07-20T19:45:19.138266-03:00",
    "dotnet_repl_cellExecutionTime": "2.1352ms"
   },
   "source": [
    "#### create and delete (test)"
   ]
  },
  {
   "cell_type": "code",
   "execution_count": null,
   "metadata": {
    "dotnet_repl_cellExecutionStartTime": "2023-07-20T19:45:19.1383472-03:00",
    "dotnet_repl_cellExecutionEndTime": "2023-07-20T19:45:20.001925-03:00",
    "dotnet_repl_cellExecutionTime": "863.5799ms",
    "dotnet_interactive": {
     "language": "fsharp"
    },
    "polyglot_notebook": {
     "kernelName": "fsharp"
    }
   },
   "outputs": [
    {
     "name": "stdout",
     "output_type": "stream",
     "text": [
      "19:45:19 #59 [Debug] createTempDirectory / tempFolder: C:\\Users\\i574n\\AppData\\Local\\Temp\\!dotnet-repl\\20230720-1945-1941-4177-41c1c94583da / result: { CreationTime = 2023-07-20 7:45:19 PM\n",
      "  Exists = true }\r\n",
      "19:45:19 #60 [Debug] runWithTimeout / timeout: 500 / exception: The operation has timed out.\r\n",
      "19:45:19 #61 [Debug] watchWithFilter / Disposing watch stream / fullPath: C:\\Users\\i574n\\AppData\\Local\\Temp\\!dotnet-repl\\20230720-1945-1941-4177-41c1c94583da / filter: FileName, DirectoryName, Attributes, CreationTime, Security\r\n",
      "FSharpList<Tuple<String,String>>\r\n",
      "( file1.txt, Created )\r\n",
      "( file1.txt, Changed )\r\n",
      "( file1.txt, Deleted )\r\n",
      "( file2.txt, Created )\r\n",
      "( file2.txt, Changed )\r\n",
      "( file2.txt, Deleted )\r\n",
      "( file3.txt, Created )\r\n",
      "( file3.txt, Changed )\r\n",
      "( file3.txt, Deleted )\r\n",
      "FSharpMap<String,String>\r\n",
      "      - Key: file1.txt\r\n",
      "        Value: Deleted\r\n",
      "      - Key: file2.txt\r\n",
      "        Value: Deleted\r\n",
      "      - Key: file3.txt\r\n",
      "        Value: Deleted\r\n"
     ]
    }
   ],
   "source": [
    "//// test\n",
    "\n",
    "let write path = async {\n",
    "    let n = 3\n",
    "\n",
    "    for i = 1 to n do\n",
    "        do! System.IO.File.WriteAllTextAsync (path </> $\"file{i}.txt\", $\"{i}\") |> Async.AwaitTask\n",
    "\n",
    "    for i = 1 to n do\n",
    "        do! deleteFileAsync (path </> $\"file{i}.txt\")\n",
    "}\n",
    "\n",
    "let eventMap, eventList = testEventsSorted (watch false) write\n",
    "\n",
    "[\n",
    "    \"file1.txt\", nameof FileSystemChangeType.Created\n",
    "    \"file1.txt\", nameof FileSystemChangeType.Changed\n",
    "    \"file1.txt\", nameof FileSystemChangeType.Deleted\n",
    "\n",
    "    \"file2.txt\", nameof FileSystemChangeType.Created\n",
    "    \"file2.txt\", nameof FileSystemChangeType.Changed\n",
    "    \"file2.txt\", nameof FileSystemChangeType.Deleted\n",
    "\n",
    "    \"file3.txt\", nameof FileSystemChangeType.Created\n",
    "    \"file3.txt\", nameof FileSystemChangeType.Changed\n",
    "    \"file3.txt\", nameof FileSystemChangeType.Deleted\n",
    "]\n",
    "|> _sequenceEqual eventList\n",
    "\n",
    "[\n",
    "    \"file1.txt\", nameof FileSystemChangeType.Deleted\n",
    "    \"file2.txt\", nameof FileSystemChangeType.Deleted\n",
    "    \"file3.txt\", nameof FileSystemChangeType.Deleted\n",
    "]\n",
    "|> Map.ofList\n",
    "|> _sequenceEqual eventMap"
   ]
  },
  {
   "cell_type": "markdown",
   "metadata": {
    "dotnet_repl_cellExecutionStartTime": "2023-07-20T19:45:20.0019755-03:00",
    "dotnet_repl_cellExecutionEndTime": "2023-07-20T19:45:20.003924-03:00",
    "dotnet_repl_cellExecutionTime": "1.9612ms"
   },
   "source": [
    "#### change (test)"
   ]
  },
  {
   "cell_type": "code",
   "execution_count": null,
   "metadata": {
    "dotnet_repl_cellExecutionStartTime": "2023-07-20T19:45:20.0039595-03:00",
    "dotnet_repl_cellExecutionEndTime": "2023-07-20T19:45:20.6836047-03:00",
    "dotnet_repl_cellExecutionTime": "679.6479ms",
    "dotnet_interactive": {
     "language": "fsharp"
    },
    "polyglot_notebook": {
     "kernelName": "fsharp"
    }
   },
   "outputs": [
    {
     "name": "stdout",
     "output_type": "stream",
     "text": [
      "19:45:20 #62 [Debug] createTempDirectory / tempFolder: C:\\Users\\i574n\\AppData\\Local\\Temp\\!dotnet-repl\\20230720-1945-2014-1441-1090ac59dca2 / result: { CreationTime = 2023-07-20 7:45:20 PM\n",
      "  Exists = true }\r\n",
      "19:45:20 #63 [Debug] runWithTimeout / timeout: 500 / exception: The operation has timed out.\r\n",
      "19:45:20 #64 [Debug] watchWithFilter / Disposing watch stream / fullPath: C:\\Users\\i574n\\AppData\\Local\\Temp\\!dotnet-repl\\20230720-1945-2014-1441-1090ac59dca2 / filter: FileName, DirectoryName, Attributes, CreationTime, Security\r\n",
      "FSharpList<Tuple<String,String>>\r\n",
      "( file1.txt, Created )\r\n",
      "( file1.txt, Changed )\r\n",
      "( file1.txt, Deleted )\r\n",
      "( file2.txt, Created )\r\n",
      "( file2.txt, Changed )\r\n",
      "( file2.txt, Deleted )\r\n",
      "FSharpMap<String,String>\r\n",
      "      - Key: file1.txt\r\n",
      "        Value: Deleted\r\n",
      "      - Key: file2.txt\r\n",
      "        Value: Deleted\r\n"
     ]
    }
   ],
   "source": [
    "//// test\n",
    "\n",
    "let write path = async {\n",
    "    let n = 2\n",
    "\n",
    "    for i = 1 to n do\n",
    "        do! System.IO.File.WriteAllTextAsync (path </> $\"file{i}.txt\", $\"{i}\") |> Async.AwaitTask\n",
    "\n",
    "    for i = 1 to n do\n",
    "        do! System.IO.File.WriteAllTextAsync (path </> $\"file{i}.txt\", \"\") |> Async.AwaitTask\n",
    "\n",
    "    for i = 1 to n do\n",
    "        do! deleteFileAsync (path </> $\"file{i}.txt\")\n",
    "}\n",
    "\n",
    "let eventMap, eventList = testEventsSorted (watch false) write\n",
    "\n",
    "[\n",
    "    \"file1.txt\", nameof FileSystemChangeType.Created\n",
    "    \"file1.txt\", nameof FileSystemChangeType.Changed\n",
    "    \"file1.txt\", nameof FileSystemChangeType.Deleted\n",
    "\n",
    "    \"file2.txt\", nameof FileSystemChangeType.Created\n",
    "    \"file2.txt\", nameof FileSystemChangeType.Changed\n",
    "    \"file2.txt\", nameof FileSystemChangeType.Deleted\n",
    "]\n",
    "|> _sequenceEqual eventList\n",
    "\n",
    "[\n",
    "    \"file1.txt\", nameof FileSystemChangeType.Deleted\n",
    "    \"file2.txt\", nameof FileSystemChangeType.Deleted\n",
    "]\n",
    "|> Map.ofList\n",
    "|> _sequenceEqual eventMap"
   ]
  },
  {
   "cell_type": "markdown",
   "metadata": {
    "dotnet_repl_cellExecutionStartTime": "2023-07-20T19:45:20.6836358-03:00",
    "dotnet_repl_cellExecutionEndTime": "2023-07-20T19:45:20.6854414-03:00",
    "dotnet_repl_cellExecutionTime": "1.8069ms"
   },
   "source": [
    "#### rename (test)"
   ]
  },
  {
   "cell_type": "code",
   "execution_count": null,
   "metadata": {
    "dotnet_repl_cellExecutionStartTime": "2023-07-20T19:45:20.6854595-03:00",
    "dotnet_repl_cellExecutionEndTime": "2023-07-20T19:45:21.443248-03:00",
    "dotnet_repl_cellExecutionTime": "757.7898ms",
    "dotnet_interactive": {
     "language": "fsharp"
    },
    "polyglot_notebook": {
     "kernelName": "fsharp"
    }
   },
   "outputs": [
    {
     "name": "stdout",
     "output_type": "stream",
     "text": [
      "19:45:20 #65 [Debug] createTempDirectory / tempFolder: C:\\Users\\i574n\\AppData\\Local\\Temp\\!dotnet-repl\\20230720-1945-2090-9082-9c2d347a08b6 / result: { CreationTime = 2023-07-20 7:45:20 PM\n",
      "  Exists = true }\r\n",
      "19:45:21 #66 [Debug] runWithTimeout / timeout: 500 / exception: The operation has timed out.\r\n",
      "19:45:21 #67 [Debug] watchWithFilter / Disposing watch stream / fullPath: C:\\Users\\i574n\\AppData\\Local\\Temp\\!dotnet-repl\\20230720-1945-2090-9082-9c2d347a08b6 / filter: FileName, DirectoryName, Attributes, CreationTime, Security\r\n",
      "FSharpList<Tuple<String,String>>\r\n",
      "( file1.txt, Created )\r\n",
      "( file1.txt, Changed )\r\n",
      "( file2.txt, Created )\r\n",
      "( file2.txt, Changed )\r\n",
      "( file_1.txt, Renamed )\r\n",
      "( file_1.txt, Deleted )\r\n",
      "( file_2.txt, Renamed )\r\n",
      "( file_2.txt, Deleted )\r\n",
      "FSharpMap<String,String>\r\n",
      "      - Key: file1.txt\r\n",
      "        Value: Changed\r\n",
      "      - Key: file2.txt\r\n",
      "        Value: Changed\r\n",
      "      - Key: file_1.txt\r\n",
      "        Value: Deleted\r\n",
      "      - Key: file_2.txt\r\n",
      "        Value: Deleted\r\n"
     ]
    }
   ],
   "source": [
    "//// test\n",
    "\n",
    "let write path = async {\n",
    "    let n = 2\n",
    "\n",
    "    for i = 1 to n do\n",
    "        do! System.IO.File.WriteAllTextAsync (path </> $\"file{i}.txt\", $\"{i}\") |> Async.AwaitTask\n",
    "\n",
    "    for i = 1 to n do\n",
    "        do! path </> $\"file{i}.txt\" |> moveFileAsync (path </> $\"file_{i}.txt\")\n",
    "\n",
    "    for i = 1 to n do\n",
    "        do! deleteFileAsync (path </> $\"file_{i}.txt\")\n",
    "}\n",
    "\n",
    "let eventMap, eventList = testEventsSorted (watch false) write\n",
    "\n",
    "[\n",
    "    \"file1.txt\", nameof FileSystemChangeType.Created\n",
    "    \"file1.txt\", nameof FileSystemChangeType.Changed\n",
    "    \"file2.txt\", nameof FileSystemChangeType.Created\n",
    "    \"file2.txt\", nameof FileSystemChangeType.Changed\n",
    "\n",
    "    \"file_1.txt\", nameof FileSystemChangeType.Renamed\n",
    "    \"file_1.txt\", nameof FileSystemChangeType.Deleted\n",
    "\n",
    "    \"file_2.txt\", nameof FileSystemChangeType.Renamed\n",
    "    \"file_2.txt\", nameof FileSystemChangeType.Deleted\n",
    "]\n",
    "|> _sequenceEqual eventList\n",
    "\n",
    "[\n",
    "    \"file1.txt\", nameof FileSystemChangeType.Changed\n",
    "    \"file2.txt\", nameof FileSystemChangeType.Changed\n",
    "    \"file_1.txt\", nameof FileSystemChangeType.Deleted\n",
    "    \"file_2.txt\", nameof FileSystemChangeType.Deleted\n",
    "]\n",
    "|> Map.ofList\n",
    "|> _sequenceEqual eventMap"
   ]
  },
  {
   "cell_type": "markdown",
   "metadata": {
    "dotnet_repl_cellExecutionStartTime": "2023-07-20T19:45:21.443269-03:00",
    "dotnet_repl_cellExecutionEndTime": "2023-07-20T19:45:21.4447573-03:00",
    "dotnet_repl_cellExecutionTime": "1.4898ms"
   },
   "source": [
    "#### full (test)"
   ]
  },
  {
   "cell_type": "code",
   "execution_count": null,
   "metadata": {
    "dotnet_repl_cellExecutionStartTime": "2023-07-20T19:45:21.4447761-03:00",
    "dotnet_repl_cellExecutionEndTime": "2023-07-20T19:45:22.2198213-03:00",
    "dotnet_repl_cellExecutionTime": "775.046ms",
    "dotnet_interactive": {
     "language": "fsharp"
    },
    "polyglot_notebook": {
     "kernelName": "fsharp"
    }
   },
   "outputs": [
    {
     "name": "stdout",
     "output_type": "stream",
     "text": [
      "19:45:21 #68 [Debug] createTempDirectory / tempFolder: C:\\Users\\i574n\\AppData\\Local\\Temp\\!dotnet-repl\\20230720-1945-2168-6832-6bffb8a777d7 / result: { CreationTime = 2023-07-20 7:45:21 PM\n",
      "  Exists = true }\r\n",
      "19:45:22 #69 [Debug] runWithTimeout / timeout: 500 / exception: The operation has timed out.\r\n",
      "19:45:22 #70 [Debug] watchWithFilter / Disposing watch stream / fullPath: C:\\Users\\i574n\\AppData\\Local\\Temp\\!dotnet-repl\\20230720-1945-2168-6832-6bffb8a777d7 / filter: FileName, DirectoryName, Attributes, CreationTime, Security\r\n",
      "FSharpList<Tuple<String,String>>\r\n",
      "( file1.txt, Created )\r\n",
      "( file1.txt, Changed )\r\n",
      "( file2.txt, Created )\r\n",
      "( file2.txt, Changed )\r\n",
      "( file_1.txt, Changed )\r\n",
      "( file_1.txt, Renamed )\r\n",
      "( file_1.txt, Deleted )\r\n",
      "( file_2.txt, Changed )\r\n",
      "( file_2.txt, Renamed )\r\n",
      "( file_2.txt, Deleted )\r\n",
      "FSharpMap<String,String>\r\n",
      "      - Key: file1.txt\r\n",
      "        Value: Changed\r\n",
      "      - Key: file2.txt\r\n",
      "        Value: Changed\r\n",
      "      - Key: file_1.txt\r\n",
      "        Value: Deleted\r\n",
      "      - Key: file_2.txt\r\n",
      "        Value: Deleted\r\n"
     ]
    }
   ],
   "source": [
    "//// test\n",
    "\n",
    "let write path = async {\n",
    "    let n = 2\n",
    "\n",
    "    for i = 1 to n do\n",
    "        do! System.IO.File.WriteAllTextAsync (path </> $\"file{i}.txt\", $\"{i}\") |> Async.AwaitTask\n",
    "\n",
    "    for i = 1 to n do\n",
    "        do! System.IO.File.WriteAllTextAsync (path </> $\"file{i}.txt\", \"\") |> Async.AwaitTask\n",
    "\n",
    "    for i = 1 to n do\n",
    "        do! path </> $\"file{i}.txt\" |> moveFileAsync (path </> $\"file_{i}.txt\")\n",
    "\n",
    "    for i = 1 to n do\n",
    "        do! System.IO.File.WriteAllTextAsync (path </> $\"file_{i}.txt\", $\"{i}\") |> Async.AwaitTask\n",
    "\n",
    "    for i = 1 to n do\n",
    "        do! deleteFileAsync (path </> $\"file_{i}.txt\")\n",
    "}\n",
    "\n",
    "let eventMap, eventList = testEventsSorted (watch false) write\n",
    "\n",
    "[\n",
    "    \"file1.txt\", nameof FileSystemChangeType.Created\n",
    "    \"file1.txt\", nameof FileSystemChangeType.Changed\n",
    "    \"file2.txt\", nameof FileSystemChangeType.Created\n",
    "    \"file2.txt\", nameof FileSystemChangeType.Changed\n",
    "\n",
    "    \"file_1.txt\", nameof FileSystemChangeType.Changed\n",
    "    \"file_1.txt\", nameof FileSystemChangeType.Renamed\n",
    "    \"file_1.txt\", nameof FileSystemChangeType.Deleted\n",
    "\n",
    "    \"file_2.txt\", nameof FileSystemChangeType.Changed\n",
    "    \"file_2.txt\", nameof FileSystemChangeType.Renamed\n",
    "    \"file_2.txt\", nameof FileSystemChangeType.Deleted\n",
    "]\n",
    "|> _sequenceEqual eventList\n",
    "\n",
    "[\n",
    "    \"file1.txt\", nameof FileSystemChangeType.Changed\n",
    "    \"file2.txt\", nameof FileSystemChangeType.Changed\n",
    "    \"file_1.txt\", nameof FileSystemChangeType.Deleted\n",
    "    \"file_2.txt\", nameof FileSystemChangeType.Deleted\n",
    "]\n",
    "|> Map.ofList\n",
    "|> _sequenceEqual eventMap"
   ]
  }
 ],
 "metadata": {
  "kernelspec": {
   "display_name": ".NET (C#)",
   "language": "C#",
   "name": ".net-csharp"
  },
  "language_info": {
   "file_extension": ".cs",
   "mimetype": "text/x-csharp",
   "name": "C#",
   "pygments_lexer": "csharp",
   "version": "10.0"
  },
  "polyglot_notebook": {
   "defaultKernelName": "csharp",
   "items": [
    {
     "name": "csharp"
    }
   ]
  },
  "dotnet_interactive": {
   "defaultKernelName": "csharp",
   "items": [
    {
     "name": "csharp"
    }
   ]
  }
 },
 "nbformat": 4,
 "nbformat_minor": 5
}