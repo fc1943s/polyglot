{
 "cells": [
  {
   "cell_type": "markdown",
   "metadata": {
    "dotnet_repl_cellExecutionStartTime": "2023-07-19T14:07:00.6025253-03:00",
    "dotnet_repl_cellExecutionEndTime": "2023-07-19T14:07:00.6588277-03:00",
    "dotnet_repl_cellExecutionTime": "56.4466ms"
   },
   "source": [
    "# FileSystem (Polyglot)"
   ]
  },
  {
   "cell_type": "code",
   "execution_count": null,
   "metadata": {
    "dotnet_repl_cellExecutionStartTime": "2023-07-19T14:07:00.6616345-03:00",
    "dotnet_repl_cellExecutionEndTime": "2023-07-19T14:07:16.3368043-03:00",
    "dotnet_repl_cellExecutionTime": "15.6751727s",
    "dotnet_interactive": {
     "language": "fsharp"
    },
    "polyglot_notebook": {
     "kernelName": "fsharp"
    }
   },
   "outputs": [
    {
     "data": {
      "text/markdown": [
       "# Async (Polyglot)"
      ]
     },
     "metadata": {},
     "output_type": "display_data"
    },
    {
     "data": {
      "text/markdown": [
       "# Common (Polyglot)"
      ]
     },
     "metadata": {},
     "output_type": "display_data"
    },
    {
     "data": {
      "text/html": [
       "<div><div></div><div><strong>Installing Packages</strong><ul><li><span>Expecto</span></li></ul></div><div></div></div>"
      ]
     },
     "metadata": {},
     "output_type": "display_data"
    },
    {
     "data": {
      "text/html": [
       "<div><div></div><div><strong>Installing Packages</strong><ul><li><span>Expecto.</span></li></ul></div><div></div></div>"
      ]
     },
     "metadata": {},
     "output_type": "display_data"
    },
    {
     "data": {
      "text/html": [
       "<div><div></div><div><strong>Installing Packages</strong><ul><li><span>Expecto..</span></li></ul></div><div></div></div>"
      ]
     },
     "metadata": {},
     "output_type": "display_data"
    },
    {
     "data": {
      "text/html": [
       "<div><div></div><div><strong>Installing Packages</strong><ul><li><span>Expecto...</span></li></ul></div><div></div></div>"
      ]
     },
     "metadata": {},
     "output_type": "display_data"
    },
    {
     "data": {
      "text/html": [
       "<div><div></div><div><strong>Installing Packages</strong><ul><li><span>Expecto....</span></li></ul></div><div></div></div>"
      ]
     },
     "metadata": {},
     "output_type": "display_data"
    },
    {
     "data": {
      "text/html": [
       "<div><div></div><div><strong>Installing Packages</strong><ul><li><span>Expecto.....</span></li></ul></div><div></div></div>"
      ]
     },
     "metadata": {},
     "output_type": "display_data"
    },
    {
     "data": {
      "text/html": [
       "<div><div></div><div><strong>Installing Packages</strong><ul><li><span>Expecto......</span></li></ul></div><div></div></div>"
      ]
     },
     "metadata": {},
     "output_type": "display_data"
    },
    {
     "data": {
      "text/html": [
       "<div><div></div><div><strong>Installing Packages</strong><ul><li><span>Expecto.......</span></li></ul></div><div></div></div>"
      ]
     },
     "metadata": {},
     "output_type": "display_data"
    },
    {
     "data": {
      "text/html": [
       "<div><div></div><div></div><div><strong>Installed Packages</strong><ul><li><span>Expecto, 10.1.0</span></li></ul></div></div>"
      ]
     },
     "metadata": {},
     "output_type": "display_data"
    },
    {
     "data": {
      "text/html": [
       "<div class=\"dni-plaintext\"><pre>True</pre></div><style>\r\n",
       ".dni-code-hint {\r\n",
       "    font-style: italic;\r\n",
       "    overflow: hidden;\r\n",
       "    white-space: nowrap;\r\n",
       "}\r\n",
       ".dni-treeview {\r\n",
       "    white-space: nowrap;\r\n",
       "}\r\n",
       ".dni-treeview td {\r\n",
       "    vertical-align: top;\r\n",
       "    text-align: start;\r\n",
       "}\r\n",
       "details.dni-treeview {\r\n",
       "    padding-left: 1em;\r\n",
       "}\r\n",
       "table td {\r\n",
       "    text-align: start;\r\n",
       "}\r\n",
       "table tr { \r\n",
       "    vertical-align: top; \r\n",
       "    margin: 0em 0px;\r\n",
       "}\r\n",
       "table tr td pre \r\n",
       "{ \r\n",
       "    vertical-align: top !important; \r\n",
       "    margin: 0em 0px !important;\r\n",
       "} \r\n",
       "table th {\r\n",
       "    text-align: start;\r\n",
       "}\r\n",
       "</style>"
      ]
     },
     "metadata": {},
     "output_type": "display_data"
    },
    {
     "data": {
      "text/html": [
       "<div><div></div><div><strong>Installing Packages</strong><ul><li><span>FSharp.Control.AsyncSeq</span></li><li><span>System.Reactive</span></li><li><span>System.Reactive.Linq</span></li></ul></div><div></div></div>"
      ]
     },
     "metadata": {},
     "output_type": "display_data"
    },
    {
     "data": {
      "text/html": [
       "<div><div></div><div><strong>Installing Packages</strong><ul><li><span>FSharp.Control.AsyncSeq.</span></li><li><span>System.Reactive.</span></li><li><span>System.Reactive.Linq.</span></li></ul></div><div></div></div>"
      ]
     },
     "metadata": {},
     "output_type": "display_data"
    },
    {
     "data": {
      "text/html": [
       "<div><div></div><div><strong>Installing Packages</strong><ul><li><span>FSharp.Control.AsyncSeq..</span></li><li><span>System.Reactive..</span></li><li><span>System.Reactive.Linq..</span></li></ul></div><div></div></div>"
      ]
     },
     "metadata": {},
     "output_type": "display_data"
    },
    {
     "data": {
      "text/html": [
       "<div><div></div><div><strong>Installing Packages</strong><ul><li><span>FSharp.Control.AsyncSeq...</span></li><li><span>System.Reactive...</span></li><li><span>System.Reactive.Linq...</span></li></ul></div><div></div></div>"
      ]
     },
     "metadata": {},
     "output_type": "display_data"
    },
    {
     "data": {
      "text/html": [
       "<div><div></div><div><strong>Installing Packages</strong><ul><li><span>FSharp.Control.AsyncSeq....</span></li><li><span>System.Reactive....</span></li><li><span>System.Reactive.Linq....</span></li></ul></div><div></div></div>"
      ]
     },
     "metadata": {},
     "output_type": "display_data"
    },
    {
     "data": {
      "text/html": [
       "<div><div></div><div><strong>Installing Packages</strong><ul><li><span>FSharp.Control.AsyncSeq.....</span></li><li><span>System.Reactive.....</span></li><li><span>System.Reactive.Linq.....</span></li></ul></div><div></div></div>"
      ]
     },
     "metadata": {},
     "output_type": "display_data"
    },
    {
     "data": {
      "text/html": [
       "<div><div></div><div><strong>Installing Packages</strong><ul><li><span>FSharp.Control.AsyncSeq......</span></li><li><span>System.Reactive......</span></li><li><span>System.Reactive.Linq......</span></li></ul></div><div></div></div>"
      ]
     },
     "metadata": {},
     "output_type": "display_data"
    },
    {
     "data": {
      "text/html": [
       "<div><div></div><div><strong>Installing Packages</strong><ul><li><span>FSharp.Control.AsyncSeq.......</span></li><li><span>System.Reactive.......</span></li><li><span>System.Reactive.Linq.......</span></li></ul></div><div></div></div>"
      ]
     },
     "metadata": {},
     "output_type": "display_data"
    },
    {
     "data": {
      "text/html": [
       "<div><div></div><div></div><div><strong>Installed Packages</strong><ul><li><span>FSharp.Control.AsyncSeq, 3.2.1</span></li><li><span>System.Reactive, 5.0.0</span></li><li><span>System.Reactive.Linq, 6.0.0-preview.1</span></li></ul></div></div>"
      ]
     },
     "metadata": {},
     "output_type": "display_data"
    },
    {
     "name": "stdout",
     "output_type": "stream",
     "text": [
      "00010101-0000-0000-0000-0a9876543210\r\n",
      "99991231-2359-5999-9999-9a9876543210\r\n",
      "19700101-0000-0000-0000-0a9876543210\r\n",
      "0001-01-01 00:00:00Z\r\n",
      "9999-12-31 23:59:59Z\r\n",
      "1970-01-01 00:00:00Z\r\n",
      "00000000-0000-0000-00dc-ba9876543210\r\n",
      "99999999-9999-9999-99dc-ba9876543210\r\n",
      "0\r\n",
      "999999999999999999\r\n",
      "0\r\n",
      "0\r\n",
      "14:07:11 #1 [Debug] test\r\n",
      "1\r\n",
      "1\r\n",
      "1\r\n",
      "0\r\n",
      "14:07:15 #1 [Debug] runWithTimeout / timeout: 10 / exception: The operation has timed out.\r\n",
      "<null>\r\n",
      "FSharpOption<Unit>\r\n",
      "      Value: <null>\r\n",
      "14:07:15 #2 [Debug] runWithTimeout / timeout: 100 / exception: The operation has timed out.\r\n",
      "<null>\r\n",
      "[ 1, AddHandler, 2, RemoveHandler ]\r\n",
      "14:07:16 #3 [Debug] runWithTimeout / timeout: 100 / exception: The operation has timed out.\r\n",
      "<null>\r\n",
      "[ 1, AddHandler, 2, IObservable.Subscribe, 3, RemoveHandler, IObservable.Dispose ]\r\n",
      "14:07:16 #4 [Debug] runWithTimeout / timeout: 100 / exception: The operation has timed out.\r\n",
      "<null>\r\n",
      "[ 1, AddHandler, 2, IObservable.Subscribe, 3, TestEvent.Subscribe(error), TestEvent.Iter(0:error), testEvent.EventInterface.Subscribe(error), 4, RemoveHandler, IObservable.Dispose ]\r\n"
     ]
    }
   ],
   "source": [
    "#!import ../nbs/Async.dib"
   ]
  },
  {
   "cell_type": "code",
   "execution_count": null,
   "metadata": {
    "dotnet_repl_cellExecutionStartTime": "2023-07-19T14:07:16.3370435-03:00",
    "dotnet_repl_cellExecutionEndTime": "2023-07-19T14:07:16.5537011-03:00",
    "dotnet_repl_cellExecutionTime": "216.6597ms",
    "dotnet_interactive": {
     "language": "fsharp"
    },
    "polyglot_notebook": {
     "kernelName": "fsharp"
    }
   },
   "outputs": [],
   "source": [
    "#!import ../nbs/Common.fs\n",
    "#!import ../nbs/Async.fs"
   ]
  },
  {
   "cell_type": "code",
   "execution_count": null,
   "metadata": {
    "dotnet_repl_cellExecutionStartTime": "2023-07-19T14:07:16.5537908-03:00",
    "dotnet_repl_cellExecutionEndTime": "2023-07-19T14:07:16.5611531-03:00",
    "dotnet_repl_cellExecutionTime": "7.3647ms",
    "dotnet_interactive": {
     "language": "fsharp"
    },
    "polyglot_notebook": {
     "kernelName": "fsharp"
    }
   },
   "outputs": [],
   "source": [
    "open Common\n",
    "open Async"
   ]
  },
  {
   "cell_type": "markdown",
   "metadata": {
    "dotnet_repl_cellExecutionStartTime": "2023-07-19T14:07:16.5611829-03:00",
    "dotnet_repl_cellExecutionEndTime": "2023-07-19T14:07:16.5645097-03:00",
    "dotnet_repl_cellExecutionTime": "3.329ms"
   },
   "source": [
    "## TempDirectory"
   ]
  },
  {
   "cell_type": "code",
   "execution_count": null,
   "metadata": {
    "dotnet_repl_cellExecutionStartTime": "2023-07-19T14:07:16.5645353-03:00",
    "dotnet_repl_cellExecutionEndTime": "2023-07-19T14:07:16.6561566-03:00",
    "dotnet_repl_cellExecutionTime": "91.623ms",
    "dotnet_interactive": {
     "language": "fsharp"
    },
    "polyglot_notebook": {
     "kernelName": "fsharp"
    }
   },
   "outputs": [],
   "source": [
    "let createTempDirectoryName () =\n",
    "    let root =\n",
    "        match System.Reflection.Assembly.GetEntryAssembly().GetName().Name with\n",
    "        | assemblyName -> assemblyName\n",
    "\n",
    "    System.IO.Path.GetTempPath ()\n",
    "    </> $\"!{root}\"\n",
    "    </> string (newGuidFromDateTime System.DateTime.Now)\n",
    "\n",
    "let createTempDirectory () =\n",
    "    let tempFolder = createTempDirectoryName ()\n",
    "    let result = System.IO.Directory.CreateDirectory tempFolder\n",
    "\n",
    "    let getLocals () =\n",
    "        $\"tempFolder: {tempFolder} / result: {({|\n",
    "            Exists = result.Exists\n",
    "            CreationTime = result.CreationTime\n",
    "        |})} {getLocals ()}\"\n",
    "\n",
    "    trace Debug (fun () -> \"createTempDirectory\") getLocals\n",
    "\n",
    "    tempFolder"
   ]
  },
  {
   "cell_type": "code",
   "execution_count": null,
   "metadata": {
    "dotnet_repl_cellExecutionStartTime": "2023-07-19T14:07:16.6562006-03:00",
    "dotnet_repl_cellExecutionEndTime": "2023-07-19T14:07:16.6687322-03:00",
    "dotnet_repl_cellExecutionTime": "12.5335ms",
    "dotnet_interactive": {
     "language": "fsharp"
    },
    "polyglot_notebook": {
     "kernelName": "fsharp"
    }
   },
   "outputs": [
    {
     "data": {
      "text/plain": [
       "C:\\Users\\i574n\\AppData\\Local\\Temp\\!dotnet-repl\\20230719-1407-1666-6643-6732732c4df5"
      ]
     },
     "metadata": {},
     "output_type": "display_data"
    }
   ],
   "source": [
    "//// test\n",
    "\n",
    "createTempDirectoryName ()"
   ]
  },
  {
   "cell_type": "markdown",
   "metadata": {
    "dotnet_repl_cellExecutionStartTime": "2023-07-19T14:07:16.6687631-03:00",
    "dotnet_repl_cellExecutionEndTime": "2023-07-19T14:07:16.671903-03:00",
    "dotnet_repl_cellExecutionTime": "3.1431ms"
   },
   "source": [
    "## WaitForFileAccess"
   ]
  },
  {
   "cell_type": "code",
   "execution_count": null,
   "metadata": {
    "dotnet_repl_cellExecutionStartTime": "2023-07-19T14:07:16.6719892-03:00",
    "dotnet_repl_cellExecutionEndTime": "2023-07-19T14:07:16.7962927-03:00",
    "dotnet_repl_cellExecutionTime": "124.3053ms",
    "dotnet_interactive": {
     "language": "fsharp"
    },
    "polyglot_notebook": {
     "kernelName": "fsharp"
    }
   },
   "outputs": [],
   "source": [
    "let rec waitForFileAccess path = async {\n",
    "    let rec loop retry = async {\n",
    "        try\n",
    "            use _ = new System.IO.FileStream (path, FileMode.Open, FileAccess.ReadWrite)\n",
    "            ()\n",
    "        with ex ->\n",
    "            if retry % 100 = 0 then\n",
    "                let getLocals () = $\"path: {path} / message: {ex.Message} / {getLocals ()}\"\n",
    "                trace Warn (fun () -> nameof waitForFileAccess) getLocals\n",
    "            do! Async.Sleep 1\n",
    "            return! loop (retry + 1)\n",
    "    }\n",
    "    return! loop 0\n",
    "}"
   ]
  },
  {
   "cell_type": "code",
   "execution_count": null,
   "metadata": {
    "dotnet_repl_cellExecutionStartTime": "2023-07-19T14:07:16.7963206-03:00",
    "dotnet_repl_cellExecutionEndTime": "2023-07-19T14:07:19.0061941-03:00",
    "dotnet_repl_cellExecutionTime": "2.2098788s",
    "dotnet_interactive": {
     "language": "fsharp"
    },
    "polyglot_notebook": {
     "kernelName": "fsharp"
    }
   },
   "outputs": [
    {
     "name": "stdout",
     "output_type": "stream",
     "text": [
      "14:07:16 #1 [Debug] createTempDirectory / tempFolder: C:\\Users\\i574n\\AppData\\Local\\Temp\\!dotnet-repl\\20230719-1407-1693-9395-91eb083bc405 / result: { CreationTime = 2023-07-19 2:07:16 PM\n",
      "  Exists = true }\r\n",
      "14:07:16 #2 [Debug] 1\r\n",
      "14:07:16 #3 [Debug] 2\r\n",
      "14:07:16 #4 [Debug] 3\r\n",
      "14:07:16 #5 [Debug] _1\r\n",
      "14:07:16 #6 [Debug] _2\r\n",
      "14:07:16 #7 [Debug] 4\r\n",
      "14:07:16 #8 [Warn] waitForFileAccess / path: C:\\Users\\i574n\\AppData\\Local\\Temp\\!dotnet-repl\\20230719-1407-1693-9395-91eb083bc405\\test.txt / message: The process cannot access the file 'C:\\Users\\i574n\\AppData\\Local\\Temp\\!dotnet-repl\\20230719-1407-1693-9395-91eb083bc405\\test.txt' because it is being used by another process.\r\n",
      "14:07:18 #9 [Warn] waitForFileAccess / path: C:\\Users\\i574n\\AppData\\Local\\Temp\\!dotnet-repl\\20230719-1407-1693-9395-91eb083bc405\\test.txt / message: The process cannot access the file 'C:\\Users\\i574n\\AppData\\Local\\Temp\\!dotnet-repl\\20230719-1407-1693-9395-91eb083bc405\\test.txt' because it is being used by another process.\r\n",
      "14:07:18 #10 [Debug] _3\r\n",
      "14:07:18 #11 [Debug] _4\r\n",
      "14:07:18 #12 [Debug] _5\r\n",
      "14:07:18 #13 [Debug] _6\r\n",
      "14:07:18 #14 [Debug] 5\r\n",
      "14:07:18 #15 [Debug] text: 1\r\n",
      "FSharpOption<String>\r\n",
      "      Value: 1\r\n"
     ]
    }
   ],
   "source": [
    "//// test\n",
    "\n",
    "let tempFolder = createTempDirectory ()\n",
    "let path = tempFolder </> \"test.txt\"\n",
    "\n",
    "let lockFile () = async {\n",
    "    trace Debug (fun () -> \"_1\") getLocals\n",
    "    use stream = new System.IO.FileStream (path, FileMode.Open, FileAccess.ReadWrite)\n",
    "    trace Debug (fun () -> \"_2\") getLocals\n",
    "    do! Async.Sleep 2000\n",
    "    trace Debug (fun () -> \"_3\") getLocals\n",
    "    stream.Seek (0L, SeekOrigin.Begin) |> ignore\n",
    "    trace Debug (fun () -> \"_4\") getLocals\n",
    "    stream.WriteByte (49uy) |> ignore\n",
    "    trace Debug (fun () -> \"_5\") getLocals\n",
    "    stream.Flush ()\n",
    "    trace Debug (fun () -> \"_6\") getLocals\n",
    "}\n",
    "\n",
    "async {\n",
    "    trace Debug (fun () -> \"1\") getLocals\n",
    "    do! File.WriteAllTextAsync (path, \"0\") |> Async.AwaitTask\n",
    "    trace Debug (fun () -> \"2\") getLocals\n",
    "    let! _ = lockFile () |> Async.StartChild\n",
    "    trace Debug (fun () -> \"3\") getLocals\n",
    "    do! Async.Sleep 1\n",
    "    trace Debug (fun () -> \"4\") getLocals\n",
    "    do! waitForFileAccess path\n",
    "    trace Debug (fun () -> \"5\") getLocals\n",
    "    let text = File.ReadAllText path\n",
    "    trace Debug (fun () -> $\"text: {text}\") getLocals\n",
    "    return text\n",
    "}\n",
    "|> Async.runWithTimeout 3000\n",
    "|> _equal (Some \"1\")"
   ]
  },
  {
   "cell_type": "markdown",
   "metadata": {
    "dotnet_repl_cellExecutionStartTime": "2023-07-19T14:07:19.0062415-03:00",
    "dotnet_repl_cellExecutionEndTime": "2023-07-19T14:07:19.0111473-03:00",
    "dotnet_repl_cellExecutionTime": "4.908ms"
   },
   "source": [
    "## DeleteDirectoryAsync"
   ]
  },
  {
   "cell_type": "code",
   "execution_count": null,
   "metadata": {
    "dotnet_repl_cellExecutionStartTime": "2023-07-19T14:07:19.0111861-03:00",
    "dotnet_repl_cellExecutionEndTime": "2023-07-19T14:07:19.0921955-03:00",
    "dotnet_repl_cellExecutionTime": "81.011ms",
    "dotnet_interactive": {
     "language": "fsharp"
    },
    "polyglot_notebook": {
     "kernelName": "fsharp"
    }
   },
   "outputs": [],
   "source": [
    "let rec deleteDirectoryAsync path = async {\n",
    "    let rec loop retry = async {\n",
    "        try\n",
    "            System.IO.Directory.Delete (path, true)\n",
    "        with ex ->\n",
    "            if retry % 100 = 0 then\n",
    "                let getLocals () = $\"path: {path} / message: {ex.Message} / {getLocals ()}\"\n",
    "                trace Warn (fun () -> nameof deleteDirectoryAsync) getLocals\n",
    "            do! Async.Sleep 1\n",
    "            return! loop (retry + 1)\n",
    "    }\n",
    "    return! loop 0\n",
    "}"
   ]
  },
  {
   "cell_type": "code",
   "execution_count": null,
   "metadata": {
    "dotnet_repl_cellExecutionStartTime": "2023-07-19T14:07:19.0922323-03:00",
    "dotnet_repl_cellExecutionEndTime": "2023-07-19T14:07:21.284501-03:00",
    "dotnet_repl_cellExecutionTime": "2.1922744s",
    "dotnet_interactive": {
     "language": "fsharp"
    },
    "polyglot_notebook": {
     "kernelName": "fsharp"
    }
   },
   "outputs": [
    {
     "name": "stdout",
     "output_type": "stream",
     "text": [
      "14:07:19 #16 [Debug] createTempDirectory / tempFolder: C:\\Users\\i574n\\AppData\\Local\\Temp\\!dotnet-repl\\20230719-1407-1921-2171-22633d46a919 / result: { CreationTime = 2023-07-19 2:07:19 PM\n",
      "  Exists = true }\r\n",
      "14:07:19 #17 [Debug] 1\r\n",
      "14:07:19 #18 [Debug] 2\r\n",
      "14:07:19 #19 [Debug] 3\r\n",
      "14:07:19 #20 [Debug] _1\r\n",
      "14:07:19 #21 [Debug] _2\r\n",
      "14:07:19 #22 [Debug] 4\r\n",
      "14:07:19 #23 [Warn] deleteDirectoryAsync / path: C:\\Users\\i574n\\AppData\\Local\\Temp\\!dotnet-repl\\20230719-1407-1921-2171-22633d46a919\\test / message: The process cannot access the file 'test.txt' because it is being used by another process.\r\n",
      "14:07:20 #24 [Warn] deleteDirectoryAsync / path: C:\\Users\\i574n\\AppData\\Local\\Temp\\!dotnet-repl\\20230719-1407-1921-2171-22633d46a919\\test / message: The process cannot access the file 'test.txt' because it is being used by another process.\r\n",
      "14:07:21 #25 [Debug] _3\r\n",
      "14:07:21 #26 [Debug] 5\r\n",
      "FSharpOption<Unit>\r\n",
      "      Value: <null>\r\n"
     ]
    }
   ],
   "source": [
    "//// test\n",
    "\n",
    "let tempFolder = createTempDirectory ()\n",
    "let path = tempFolder </> \"test\"\n",
    "\n",
    "let lockDirectory () = async {\n",
    "    trace Debug (fun () -> \"_1\") getLocals\n",
    "    System.IO.File.WriteAllText (path </> \"test.txt\", \"\")\n",
    "    use _ = new System.IO.FileStream (path </> \"test.txt\", FileMode.Open, FileAccess.ReadWrite)\n",
    "    trace Debug (fun () -> \"_2\") getLocals\n",
    "    do! Async.Sleep 2000\n",
    "    trace Debug (fun () -> \"_3\") getLocals\n",
    "}\n",
    "\n",
    "async {\n",
    "    trace Debug (fun () -> \"1\") getLocals\n",
    "    Directory.CreateDirectory path |> ignore\n",
    "    trace Debug (fun () -> \"2\") getLocals\n",
    "    let! _ = lockDirectory () |> Async.StartChild\n",
    "    trace Debug (fun () -> \"3\") getLocals\n",
    "    do! Async.Sleep 1\n",
    "    trace Debug (fun () -> \"4\") getLocals\n",
    "    do! deleteDirectoryAsync path\n",
    "    trace Debug (fun () -> \"5\") getLocals\n",
    "}\n",
    "|> Async.runWithTimeout 3000\n",
    "|> _equal (Some ())"
   ]
  },
  {
   "cell_type": "markdown",
   "metadata": {
    "dotnet_repl_cellExecutionStartTime": "2023-07-19T14:07:21.284938-03:00",
    "dotnet_repl_cellExecutionEndTime": "2023-07-19T14:07:21.2959143-03:00",
    "dotnet_repl_cellExecutionTime": "10.9816ms"
   },
   "source": [
    "## DeleteFileAsync"
   ]
  },
  {
   "cell_type": "code",
   "execution_count": null,
   "metadata": {
    "dotnet_repl_cellExecutionStartTime": "2023-07-19T14:07:21.2959901-03:00",
    "dotnet_repl_cellExecutionEndTime": "2023-07-19T14:07:21.394278-03:00",
    "dotnet_repl_cellExecutionTime": "98.29ms",
    "dotnet_interactive": {
     "language": "fsharp"
    },
    "polyglot_notebook": {
     "kernelName": "fsharp"
    }
   },
   "outputs": [],
   "source": [
    "let rec deleteFileAsync path = async {\n",
    "    let rec loop retry = async {\n",
    "        try\n",
    "            System.IO.File.Delete path\n",
    "        with ex ->\n",
    "            if retry % 100 = 0 then\n",
    "                let getLocals () = $\"path: {path} / message: {ex.Message} / {getLocals ()}\"\n",
    "                trace Warn (fun () -> nameof deleteFileAsync) getLocals\n",
    "            do! Async.Sleep 1\n",
    "            return! loop (retry + 1)\n",
    "    }\n",
    "    return! loop 0\n",
    "}"
   ]
  },
  {
   "cell_type": "code",
   "execution_count": null,
   "metadata": {
    "dotnet_repl_cellExecutionStartTime": "2023-07-19T14:07:21.3943163-03:00",
    "dotnet_repl_cellExecutionEndTime": "2023-07-19T14:07:23.5810812-03:00",
    "dotnet_repl_cellExecutionTime": "2.186768s",
    "dotnet_interactive": {
     "language": "fsharp"
    },
    "polyglot_notebook": {
     "kernelName": "fsharp"
    }
   },
   "outputs": [
    {
     "name": "stdout",
     "output_type": "stream",
     "text": [
      "14:07:21 #27 [Debug] createTempDirectory / tempFolder: C:\\Users\\i574n\\AppData\\Local\\Temp\\!dotnet-repl\\20230719-1407-2151-5104-5405b2900543 / result: { CreationTime = 2023-07-19 2:07:21 PM\n",
      "  Exists = true }\r\n",
      "14:07:21 #28 [Debug] 1\r\n",
      "14:07:21 #29 [Debug] 2\r\n",
      "14:07:21 #30 [Debug] 3\r\n",
      "14:07:21 #31 [Debug] _1\r\n",
      "14:07:21 #32 [Debug] _2\r\n",
      "14:07:21 #33 [Debug] 4\r\n",
      "14:07:21 #34 [Warn] deleteFileAsync / path: C:\\Users\\i574n\\AppData\\Local\\Temp\\!dotnet-repl\\20230719-1407-2151-5104-5405b2900543\\test.txt / message: The process cannot access the file 'C:\\Users\\i574n\\AppData\\Local\\Temp\\!dotnet-repl\\20230719-1407-2151-5104-5405b2900543\\test.txt' because it is being used by another process.\r\n",
      "14:07:22 #35 [Warn] deleteFileAsync / path: C:\\Users\\i574n\\AppData\\Local\\Temp\\!dotnet-repl\\20230719-1407-2151-5104-5405b2900543\\test.txt / message: The process cannot access the file 'C:\\Users\\i574n\\AppData\\Local\\Temp\\!dotnet-repl\\20230719-1407-2151-5104-5405b2900543\\test.txt' because it is being used by another process.\r\n",
      "14:07:23 #36 [Debug] _3\r\n",
      "14:07:23 #37 [Debug] 5\r\n",
      "FSharpOption<Unit>\r\n",
      "      Value: <null>\r\n"
     ]
    }
   ],
   "source": [
    "//// test\n",
    "\n",
    "let tempFolder = createTempDirectory ()\n",
    "let path = tempFolder </> \"test.txt\"\n",
    "\n",
    "let lockFile () = async {\n",
    "    trace Debug (fun () -> \"_1\") getLocals\n",
    "    use _ = new System.IO.FileStream (path, FileMode.Open, FileAccess.ReadWrite)\n",
    "    trace Debug (fun () -> \"_2\") getLocals\n",
    "    do! Async.Sleep 2000\n",
    "    trace Debug (fun () -> \"_3\") getLocals\n",
    "}\n",
    "\n",
    "async {\n",
    "    trace Debug (fun () -> \"1\") getLocals\n",
    "    do! File.WriteAllTextAsync (path, \"0\") |> Async.AwaitTask\n",
    "    trace Debug (fun () -> \"2\") getLocals\n",
    "    let! _ = lockFile () |> Async.StartChild\n",
    "    trace Debug (fun () -> \"3\") getLocals\n",
    "    do! Async.Sleep 1\n",
    "    trace Debug (fun () -> \"4\") getLocals\n",
    "    do! deleteFileAsync path\n",
    "    trace Debug (fun () -> \"5\") getLocals\n",
    "}\n",
    "|> Async.runWithTimeout 3000\n",
    "|> _equal (Some ())"
   ]
  },
  {
   "cell_type": "markdown",
   "metadata": {
    "dotnet_repl_cellExecutionStartTime": "2023-07-19T14:07:23.581131-03:00",
    "dotnet_repl_cellExecutionEndTime": "2023-07-19T14:07:23.5879456-03:00",
    "dotnet_repl_cellExecutionTime": "6.8179ms"
   },
   "source": [
    "## MoveFileAsync"
   ]
  },
  {
   "cell_type": "code",
   "execution_count": null,
   "metadata": {
    "dotnet_repl_cellExecutionStartTime": "2023-07-19T14:07:23.5880021-03:00",
    "dotnet_repl_cellExecutionEndTime": "2023-07-19T14:07:23.6834897-03:00",
    "dotnet_repl_cellExecutionTime": "95.4893ms",
    "dotnet_interactive": {
     "language": "fsharp"
    },
    "polyglot_notebook": {
     "kernelName": "fsharp"
    }
   },
   "outputs": [],
   "source": [
    "let rec moveFileAsync newPath oldPath = async {\n",
    "    let rec loop retry = async {\n",
    "        try\n",
    "            System.IO.File.Move (oldPath, newPath)\n",
    "        with ex ->\n",
    "            if retry % 100 = 0 then\n",
    "                let getLocals () = $\"path: {path} / message: {ex.Message} / {getLocals ()}\"\n",
    "                trace Warn (fun () -> nameof moveFileAsync) getLocals\n",
    "            do! Async.Sleep 1\n",
    "            return! loop (retry + 1)\n",
    "    }\n",
    "    return! loop 0\n",
    "}"
   ]
  },
  {
   "cell_type": "code",
   "execution_count": null,
   "metadata": {
    "dotnet_repl_cellExecutionStartTime": "2023-07-19T14:07:23.683519-03:00",
    "dotnet_repl_cellExecutionEndTime": "2023-07-19T14:07:25.8616551-03:00",
    "dotnet_repl_cellExecutionTime": "2.1781389s",
    "dotnet_interactive": {
     "language": "fsharp"
    },
    "polyglot_notebook": {
     "kernelName": "fsharp"
    }
   },
   "outputs": [
    {
     "name": "stdout",
     "output_type": "stream",
     "text": [
      "14:07:23 #38 [Debug] createTempDirectory / tempFolder: C:\\Users\\i574n\\AppData\\Local\\Temp\\!dotnet-repl\\20230719-1407-2379-7990-72220044e7b5 / result: { CreationTime = 2023-07-19 2:07:23 PM\n",
      "  Exists = true }\r\n",
      "14:07:23 #39 [Debug] 1\r\n",
      "14:07:23 #40 [Debug] 2\r\n",
      "14:07:23 #41 [Debug] 3\r\n",
      "14:07:23 #42 [Debug] _1\r\n",
      "14:07:23 #43 [Debug] _2\r\n",
      "14:07:23 #44 [Debug] 4\r\n",
      "14:07:23 #45 [Warn] moveFileAsync / path: C:\\Users\\i574n\\AppData\\Local\\Temp\\!dotnet-repl\\20230719-1407-2151-5104-5405b2900543\\test.txt / message: The process cannot access the file because it is being used by another process.\r\n",
      "14:07:25 #46 [Warn] moveFileAsync / path: C:\\Users\\i574n\\AppData\\Local\\Temp\\!dotnet-repl\\20230719-1407-2151-5104-5405b2900543\\test.txt / message: The process cannot access the file because it is being used by another process.\r\n",
      "14:07:25 #47 [Debug] _3\r\n",
      "14:07:25 #48 [Debug] 5\r\n",
      "FSharpOption<String>\r\n",
      "      Value: 0\r\n"
     ]
    }
   ],
   "source": [
    "//// test\n",
    "\n",
    "let tempFolder = createTempDirectory ()\n",
    "let path = tempFolder </> \"test.txt\"\n",
    "let newPath = tempFolder </> \"test2.txt\"\n",
    "\n",
    "let lockFile () = async {\n",
    "    trace Debug (fun () -> \"_1\") getLocals\n",
    "    use _ = new System.IO.FileStream (path, FileMode.Open, FileAccess.ReadWrite)\n",
    "    trace Debug (fun () -> \"_2\") getLocals\n",
    "    do! Async.Sleep 2000\n",
    "    trace Debug (fun () -> \"_3\") getLocals\n",
    "}\n",
    "\n",
    "async {\n",
    "    trace Debug (fun () -> \"1\") getLocals\n",
    "    do! File.WriteAllTextAsync (path, \"0\") |> Async.AwaitTask\n",
    "    trace Debug (fun () -> \"2\") getLocals\n",
    "    let! _ = lockFile () |> Async.StartChild\n",
    "    trace Debug (fun () -> \"3\") getLocals\n",
    "    do! Async.Sleep 1\n",
    "    trace Debug (fun () -> \"4\") getLocals\n",
    "    do! path |> moveFileAsync newPath\n",
    "    trace Debug (fun () -> \"5\") getLocals\n",
    "    return File.ReadAllText newPath\n",
    "}\n",
    "|> Async.runWithTimeout 3000\n",
    "|> _equal (Some \"0\")"
   ]
  },
  {
   "cell_type": "markdown",
   "metadata": {
    "dotnet_repl_cellExecutionStartTime": "2023-07-19T14:07:25.861704-03:00",
    "dotnet_repl_cellExecutionEndTime": "2023-07-19T14:07:25.8690589-03:00",
    "dotnet_repl_cellExecutionTime": "7.3584ms"
   },
   "source": [
    "## FileSystemWatcher"
   ]
  },
  {
   "cell_type": "code",
   "execution_count": null,
   "metadata": {
    "dotnet_repl_cellExecutionStartTime": "2023-07-19T14:07:25.8691119-03:00",
    "dotnet_repl_cellExecutionEndTime": "2023-07-19T14:07:26.2238242-03:00",
    "dotnet_repl_cellExecutionTime": "354.7138ms",
    "dotnet_interactive": {
     "language": "fsharp"
    },
    "polyglot_notebook": {
     "kernelName": "fsharp"
    }
   },
   "outputs": [],
   "source": [
    "[<RequireQualifiedAccess>]\n",
    "type FileSystemChangeType =\n",
    "    | Error\n",
    "    | Changed\n",
    "    | Created\n",
    "    | Deleted\n",
    "    | Renamed\n",
    "\n",
    "[<RequireQualifiedAccess>]\n",
    "type FileSystemChange =\n",
    "    | Error of exn: exn\n",
    "    | Changed of path: string * content: string option\n",
    "    | Created of path: string * content: string option\n",
    "    | Deleted of path: string\n",
    "    | Renamed of oldPath: string * (string * string option)\n",
    "\n",
    "\n",
    "let watchWithFilter filter shouldReadContent path =\n",
    "    let fullPath = System.IO.Path.GetFullPath path\n",
    "    let getLocals () = $\"fullPath: {fullPath} / filter: {filter} / {getLocals ()}\"\n",
    "\n",
    "    let watcher =\n",
    "        new System.IO.FileSystemWatcher (\n",
    "            Path = fullPath,\n",
    "            NotifyFilter = filter,\n",
    "            EnableRaisingEvents = true,\n",
    "            IncludeSubdirectories = true\n",
    "        )\n",
    "\n",
    "    let getEventPath (path : string) = path.Trim().Replace(fullPath, \"\").TrimStart [| '/'; '\\\\' |]\n",
    "\n",
    "    let ticks () = System.DateTime.UtcNow.Ticks\n",
    "\n",
    "    let readContent fullPath =\n",
    "        if not shouldReadContent\n",
    "        then None\n",
    "        else\n",
    "            try\n",
    "                waitForFileAccess fullPath |> Async.runWithTimeout 30000 |> ignore\n",
    "                System.IO.File.ReadAllText fullPath |> Some\n",
    "            with ex ->\n",
    "                trace Error (fun () -> $\"Failed to read file content: {ex.Message}\") getLocals\n",
    "                None\n",
    "\n",
    "    let changedStream =\n",
    "        AsyncSeq.subscribeEvent\n",
    "            watcher.Changed\n",
    "            (fun event ->\n",
    "                ticks (),\n",
    "                [ FileSystemChange.Changed (getEventPath event.FullPath, readContent event.FullPath) ]\n",
    "            )\n",
    "\n",
    "    let deletedStream =\n",
    "        AsyncSeq.subscribeEvent\n",
    "            watcher.Deleted\n",
    "            (fun event ->\n",
    "                ticks (),\n",
    "                [ FileSystemChange.Deleted (getEventPath event.FullPath) ]\n",
    "            )\n",
    "\n",
    "    let createdStream =\n",
    "        AsyncSeq.subscribeEvent\n",
    "            watcher.Created\n",
    "            (fun event ->\n",
    "                let path = getEventPath event.FullPath\n",
    "                let content = readContent event.FullPath\n",
    "                ticks (), [\n",
    "                    FileSystemChange.Created (path, content)\n",
    "                    if OS.isWindows () then\n",
    "                        FileSystemChange.Changed (path, content)\n",
    "                ])\n",
    "\n",
    "    let renamedStream =\n",
    "        AsyncSeq.subscribeEvent\n",
    "            watcher.Renamed\n",
    "            (fun event ->\n",
    "                ticks (), [\n",
    "                    FileSystemChange.Renamed (\n",
    "                        getEventPath event.OldFullPath,\n",
    "                        (getEventPath event.FullPath, readContent event.FullPath)\n",
    "                    )\n",
    "                ]\n",
    "            )\n",
    "\n",
    "    let errorStream =\n",
    "        AsyncSeq.subscribeEvent\n",
    "            watcher.Error\n",
    "            (fun event -> ticks (), [ FileSystemChange.Error (event.GetException ()) ])\n",
    "\n",
    "    let stream =\n",
    "        [\n",
    "            changedStream\n",
    "            deletedStream\n",
    "            createdStream\n",
    "            renamedStream\n",
    "            errorStream\n",
    "        ]\n",
    "        |> FSharp.Control.AsyncSeq.mergeAll\n",
    "        |> FSharp.Control.AsyncSeq.map (fun (n, events) ->\n",
    "            events\n",
    "            |> List.fold\n",
    "                (fun (i, events) event ->\n",
    "                    i + 1L,\n",
    "                    (n + i, event) :: events)\n",
    "                (0L, [])\n",
    "            |> snd\n",
    "            |> List.rev\n",
    "        )\n",
    "        |> FSharp.Control.AsyncSeq.concatSeq\n",
    "\n",
    "    let disposable =\n",
    "        Object.newDisposable (fun () ->\n",
    "            trace Debug (fun () -> \"Disposing watch stream\") getLocals\n",
    "            watcher.EnableRaisingEvents <- false\n",
    "            watcher.Dispose ()\n",
    "        )\n",
    "\n",
    "    stream, disposable\n",
    "\n",
    "let watch path =\n",
    "    watchWithFilter\n",
    "        (System.IO.NotifyFilters.Attributes\n",
    "        ||| System.IO.NotifyFilters.CreationTime\n",
    "        ||| System.IO.NotifyFilters.DirectoryName\n",
    "        ||| System.IO.NotifyFilters.FileName\n",
    "        //  ||| System.IO.NotifyFilters.LastAccess\n",
    "        //  ||| System.IO.NotifyFilters.LastWrite\n",
    "        ||| System.IO.NotifyFilters.Security\n",
    "        //  ||| System.IO.NotifyFilters.Size\n",
    "        )\n",
    "        path"
   ]
  },
  {
   "cell_type": "markdown",
   "metadata": {
    "dotnet_repl_cellExecutionStartTime": "2023-07-19T14:07:26.2238599-03:00",
    "dotnet_repl_cellExecutionEndTime": "2023-07-19T14:07:26.2269513-03:00",
    "dotnet_repl_cellExecutionTime": "3.0931ms"
   },
   "source": [
    "### testEventsRaw (test)"
   ]
  },
  {
   "cell_type": "code",
   "execution_count": null,
   "metadata": {
    "dotnet_repl_cellExecutionStartTime": "2023-07-19T14:07:26.2269771-03:00",
    "dotnet_repl_cellExecutionEndTime": "2023-07-19T14:07:26.4136562-03:00",
    "dotnet_repl_cellExecutionTime": "186.6809ms",
    "dotnet_interactive": {
     "language": "fsharp"
    },
    "polyglot_notebook": {
     "kernelName": "fsharp"
    }
   },
   "outputs": [],
   "source": [
    "//// test\n",
    "\n",
    "let testEventsRaw (watchFn : bool -> string -> FSharp.Control.AsyncSeq<int64 * FileSystemChange> * IDisposable) write =\n",
    "    let tempDirectory = createTempDirectory ()\n",
    "    let stream, disposable = watchFn true tempDirectory\n",
    "\n",
    "    let events = System.Collections.Concurrent.ConcurrentBag ()\n",
    "\n",
    "    let iter () =\n",
    "        stream\n",
    "        |> FSharp.Control.AsyncSeq.iterAsyncParallel (fun event -> async { events.Add event })\n",
    "\n",
    "    let run = async {\n",
    "        let! _ = iter () |> Async.StartChild\n",
    "        do! Async.Sleep 150\n",
    "        return! write tempDirectory\n",
    "    }\n",
    "\n",
    "    try\n",
    "        run\n",
    "        |> Async.runWithTimeout 10000\n",
    "        |> _equal (Some ())\n",
    "    finally\n",
    "        disposable.Dispose ()\n",
    "        deleteDirectoryAsync tempDirectory |> Async.RunSynchronously\n",
    "\n",
    "    let eventsLog =\n",
    "        events\n",
    "        |> Seq.toList\n",
    "        |> List.sortBy fst\n",
    "        |> List.fold\n",
    "            (fun (prev, acc) (ticks, event) -> ticks, (ticks, (if prev = 0L then 0L else ticks - prev), event) :: acc)\n",
    "            (0L, [])\n",
    "        |> snd\n",
    "        |> List.rev\n",
    "        |> List.map (fun (diff, n, event) ->\n",
    "            let text = $\"{n} / {diff} / {event}\"\n",
    "            text.Substring (0, min 100 text.Length)\n",
    "        )\n",
    "        |> String.concat \"\\n\"\n",
    "    let getLocals () = $\"eventsLog: \\n{eventsLog} / {getLocals ()}\"\n",
    "    trace Debug (fun () -> \"testEventsRaw\") getLocals\n",
    "\n",
    "    events\n",
    "    |> Seq.toList\n",
    "    |> List.sortBy fst\n",
    "    |> List.map snd\n",
    "    |> List.fold\n",
    "        (fun (map, acc) event ->\n",
    "            match event with\n",
    "            | FileSystemChange.Changed (path, (Some _ as content)) ->\n",
    "                if map |> Map.containsKey path && map.[path] = content\n",
    "                then map, acc\n",
    "                else (map |> Map.add path content), event :: acc\n",
    "            | FileSystemChange.Created (path, _)\n",
    "            | FileSystemChange.Deleted path ->\n",
    "                (map |> Map.remove path), event :: acc\n",
    "            | FileSystemChange.Renamed (oldPath, (newPath, content)) ->\n",
    "                (map |> Map.remove oldPath |> Map.remove newPath), event :: acc\n",
    "            | _ -> map, event :: acc\n",
    "        )\n",
    "        (Map.empty, [])\n",
    "    |> snd\n",
    "    |> List.rev"
   ]
  },
  {
   "cell_type": "code",
   "execution_count": null,
   "metadata": {
    "dotnet_repl_cellExecutionStartTime": "2023-07-19T14:07:26.4136921-03:00",
    "dotnet_repl_cellExecutionEndTime": "2023-07-19T14:07:27.204445-03:00",
    "dotnet_repl_cellExecutionTime": "790.7549ms",
    "dotnet_interactive": {
     "language": "fsharp"
    },
    "polyglot_notebook": {
     "kernelName": "fsharp"
    }
   },
   "outputs": [
    {
     "name": "stdout",
     "output_type": "stream",
     "text": [
      "14:07:26 #49 [Debug] createTempDirectory / tempFolder: C:\\Users\\i574n\\AppData\\Local\\Temp\\!dotnet-repl\\20230719-1407-2673-7354-7d376492ca01 / result: { CreationTime = 2023-07-19 2:07:26 PM\n",
      "  Exists = true }\r\n",
      "FSharpOption<Unit>\r\n",
      "      Value: <null>\r\n",
      "14:07:27 #50 [Debug] Disposing watch stream / fullPath: C:\\Users\\i574n\\AppData\\Local\\Temp\\!dotnet-repl\\20230719-1407-2673-7354-7d376492ca01 / filter: FileName, DirectoryName, Attributes, CreationTime, Security\r\n",
      "14:07:27 #51 [Debug] testEventsRaw / eventsLog: \n",
      "0 / 638253832469313249 / Created (\"file1.txt\", Some \"a1\")\n",
      "1 / 638253832469313250 / Changed (\"file1.txt\", Some \"a1\")\n",
      "42151 / 638253832469355401 / Created (\"file2.txt\", Some \"a2\")\n",
      "1 / 638253832469355402 / Changed (\"file2.txt\", Some \"a2\")\n",
      "352096 / 638253832469707498 / Changed (\"file1.txt\", Some \"b1\")\n",
      "6478 / 638253832469713976 / Changed (\"file2.txt\", Some \"b2\")\n",
      "486836 / 638253832470200812 / Renamed (\"file1.txt\", (\"file_1.txt\", Some \"b1\"))\n",
      "11365 / 638253832470212177 / Renamed (\"file2.txt\", (\"file_2.txt\", Some \"b2\"))\n",
      "445966 / 638253832470658143 / Changed (\"file_1.txt\", Some \"c1\")\n",
      "14115 / 638253832470672258 / Changed (\"file_2.txt\", Some \"c2\")\n",
      "434254 / 638253832471106512 / Deleted \"file_1.txt\"\n",
      "4211 / 638253832471110723 / Deleted \"file_2.txt\"\r\n",
      "FSharpList<FileSystemChange>\r\n",
      "      - path: file1.txt\r\n",
      "        content: FSharpOption<String>\r\n",
      "          Value: a1\r\n",
      "      - path: file1.txt\r\n",
      "        content: FSharpOption<String>\r\n",
      "          Value: a1\r\n",
      "      - path: file2.txt\r\n",
      "        content: FSharpOption<String>\r\n",
      "          Value: a2\r\n",
      "      - path: file2.txt\r\n",
      "        content: FSharpOption<String>\r\n",
      "          Value: a2\r\n",
      "      - path: file1.txt\r\n",
      "        content: FSharpOption<String>\r\n",
      "          Value: b1\r\n",
      "      - path: file2.txt\r\n",
      "        content: FSharpOption<String>\r\n",
      "          Value: b2\r\n",
      "      - oldPath: file1.txt\r\n",
      "        Item2:         - file_1.txt\r\n",
      "        - FSharpOption<String>\r\n",
      "            Value: b1\r\n",
      "      - oldPath: file2.txt\r\n",
      "        Item2:         - file_2.txt\r\n",
      "        - FSharpOption<String>\r\n",
      "            Value: b2\r\n",
      "      - path: file_1.txt\r\n",
      "        content: FSharpOption<String>\r\n",
      "          Value: c1\r\n",
      "      - path: file_2.txt\r\n",
      "        content: FSharpOption<String>\r\n",
      "          Value: c2\r\n",
      "      - path: file_1.txt\r\n",
      "      - path: file_2.txt\r\n"
     ]
    }
   ],
   "source": [
    "//// test\n",
    "\n",
    "let write path = async {\n",
    "    let n = 2\n",
    "\n",
    "    for i = 1 to n do\n",
    "        do! System.IO.File.WriteAllTextAsync (path </> $\"file{i}.txt\", $\"a{i}\") |> Async.AwaitTask\n",
    "\n",
    "    do! Async.Sleep 30\n",
    "\n",
    "    for i = 1 to n do\n",
    "        do! System.IO.File.WriteAllTextAsync (path </> $\"file{i}.txt\", $\"b{i}\") |> Async.AwaitTask\n",
    "\n",
    "    do! Async.Sleep 30\n",
    "\n",
    "    for i = 1 to n do\n",
    "        do! path </> $\"file{i}.txt\" |> moveFileAsync (path </> $\"file_{i}.txt\")\n",
    "\n",
    "    do! Async.Sleep 30\n",
    "\n",
    "    for i = 1 to n do\n",
    "        do! System.IO.File.WriteAllTextAsync (path </> $\"file_{i}.txt\", $\"c{i}\") |> Async.AwaitTask\n",
    "\n",
    "    do! Async.Sleep 30\n",
    "\n",
    "    for i = 1 to n do\n",
    "        do! deleteFileAsync (path </> $\"file_{i}.txt\")\n",
    "}\n",
    "\n",
    "let events = testEventsRaw watch write\n",
    "\n",
    "events\n",
    "|> _sequenceEqual [\n",
    "    FileSystemChange.Created (\"file1.txt\", Some \"a1\")\n",
    "    FileSystemChange.Changed (\"file1.txt\", Some \"a1\")\n",
    "    FileSystemChange.Created (\"file2.txt\", Some \"a2\")\n",
    "    FileSystemChange.Changed (\"file2.txt\", Some \"a2\")\n",
    "\n",
    "    FileSystemChange.Changed (\"file1.txt\", Some \"b1\")\n",
    "    FileSystemChange.Changed (\"file2.txt\", Some \"b2\")\n",
    "\n",
    "    FileSystemChange.Renamed (\"file1.txt\", (\"file_1.txt\", Some \"b1\"))\n",
    "    FileSystemChange.Renamed (\"file2.txt\", (\"file_2.txt\", Some \"b2\"))\n",
    "\n",
    "    FileSystemChange.Changed (\"file_1.txt\", Some \"c1\")\n",
    "    FileSystemChange.Changed (\"file_2.txt\", Some \"c2\")\n",
    "\n",
    "    FileSystemChange.Deleted \"file_1.txt\"\n",
    "    FileSystemChange.Deleted \"file_2.txt\"\n",
    "]"
   ]
  },
  {
   "cell_type": "markdown",
   "metadata": {
    "dotnet_repl_cellExecutionStartTime": "2023-07-19T14:07:27.2044811-03:00",
    "dotnet_repl_cellExecutionEndTime": "2023-07-19T14:07:27.2075809-03:00",
    "dotnet_repl_cellExecutionTime": "3.1026ms"
   },
   "source": [
    "### testEventsSorted (test)"
   ]
  },
  {
   "cell_type": "code",
   "execution_count": null,
   "metadata": {
    "dotnet_repl_cellExecutionStartTime": "2023-07-19T14:07:27.2076192-03:00",
    "dotnet_repl_cellExecutionEndTime": "2023-07-19T14:07:28.4845733-03:00",
    "dotnet_repl_cellExecutionTime": "1.2769557s",
    "dotnet_interactive": {
     "language": "fsharp"
    },
    "polyglot_notebook": {
     "kernelName": "fsharp"
    }
   },
   "outputs": [
    {
     "name": "stdout",
     "output_type": "stream",
     "text": [
      "14:07:27 #52 [Debug] createTempDirectory / tempFolder: C:\\Users\\i574n\\AppData\\Local\\Temp\\!dotnet-repl\\20230719-1407-2766-6650-67ae89c855d0 / result: { CreationTime = 2023-07-19 2:07:27 PM\n",
      "  Exists = true }\r\n",
      "14:07:27 #53 [Warn] waitForFileAccess / path: C:\\Users\\i574n\\AppData\\Local\\Temp\\!dotnet-repl\\20230719-1407-2766-6650-67ae89c855d0\\file1.txt / message: The process cannot access the file 'C:\\Users\\i574n\\AppData\\Local\\Temp\\!dotnet-repl\\20230719-1407-2766-6650-67ae89c855d0\\file1.txt' because it is being used by another process.\r\n",
      "14:07:27 #54 [Warn] waitForFileAccess / path: C:\\Users\\i574n\\AppData\\Local\\Temp\\!dotnet-repl\\20230719-1407-2766-6650-67ae89c855d0\\file2.txt / message: The process cannot access the file 'C:\\Users\\i574n\\AppData\\Local\\Temp\\!dotnet-repl\\20230719-1407-2766-6650-67ae89c855d0\\file2.txt' because it is being used by another process.\r\n",
      "14:07:27 #55 [Warn] waitForFileAccess / path: C:\\Users\\i574n\\AppData\\Local\\Temp\\!dotnet-repl\\20230719-1407-2766-6650-67ae89c855d0\\file1.txt / message: The process cannot access the file 'C:\\Users\\i574n\\AppData\\Local\\Temp\\!dotnet-repl\\20230719-1407-2766-6650-67ae89c855d0\\file1.txt' because it is being used by another process.\r\n",
      "14:07:28 #56 [Warn] waitForFileAccess / path: C:\\Users\\i574n\\AppData\\Local\\Temp\\!dotnet-repl\\20230719-1407-2766-6650-67ae89c855d0\\file_1.txt / message: The process cannot access the file 'C:\\Users\\i574n\\AppData\\Local\\Temp\\!dotnet-repl\\20230719-1407-2766-6650-67ae89c855d0\\file_1.txt' because it is being used by another process.\r\n",
      "FSharpOption<Unit>\r\n",
      "      Value: <null>\r\n",
      "14:07:28 #57 [Debug] Disposing watch stream / fullPath: C:\\Users\\i574n\\AppData\\Local\\Temp\\!dotnet-repl\\20230719-1407-2766-6650-67ae89c855d0 / filter: FileName, DirectoryName, Attributes, CreationTime, Security\r\n",
      "14:07:28 #58 [Debug] testEventsRaw / eventsLog: \n",
      "0 / 638253832479015585 / Created\n",
      "  (\"file1.txt\",\n",
      "   Some\n",
      "     \"a111111111111111111111111111111111111\n",
      "1 / 638253832479015586 / Changed\n",
      "  (\"file1.txt\",\n",
      "   Some\n",
      "     \"a111111111111111111111111111111111111\n",
      "124035 / 638253832479139621 / Created\n",
      "  (\"file2.txt\",\n",
      "   Some\n",
      "     \"a2222222222222222222222222222222\n",
      "1 / 638253832479139622 / Changed\n",
      "  (\"file2.txt\",\n",
      "   Some\n",
      "     \"a222222222222222222222222222222222222\n",
      "322645 / 638253832479462267 / Changed\n",
      "  (\"file1.txt\",\n",
      "   Some\n",
      "     \"b1111111111111111111111111111111\n",
      "448221 / 638253832479910488 / Changed\n",
      "  (\"file2.txt\",\n",
      "   Some\n",
      "     \"b2222222222222222222222222222222\n",
      "344443 / 638253832480254931 / Renamed\n",
      "  (\"file1.txt\",\n",
      "   (\"file_1.txt\",\n",
      "    Some\n",
      "      \"b11111111111\n",
      "284394 / 638253832480539325 / Renamed\n",
      "  (\"file2.txt\",\n",
      "   (\"file_2.txt\",\n",
      "    Some\n",
      "      \"b22222222222\n",
      "196865 / 638253832480736190 / Changed\n",
      "  (\"file_1.txt\",\n",
      "   Some\n",
      "     \"c111111111111111111111111111111\n",
      "316635 / 638253832481052825 / Changed\n",
      "  (\"file_2.txt\",\n",
      "   Some\n",
      "     \"c222222222222222222222222222222\n",
      "441855 / 638253832481494680 / Deleted \"file_1.txt\"\n",
      "7097 / 638253832481501777 / Deleted \"file_2.txt\"\r\n",
      "FSharpList<FileSystemChange>\r\n",
      "      - path: file1.txt\r\n",
      "        content: FSharpOption<String>\r\n",
      "          Value: a1\r\n",
      "      - path: file1.txt\r\n",
      "        content: FSharpOption<String>\r\n",
      "          Value: a1\r\n",
      "      - path: file2.txt\r\n",
      "        content: FSharpOption<String>\r\n",
      "          Value: a2\r\n",
      "      - path: file2.txt\r\n",
      "        content: FSharpOption<String>\r\n",
      "          Value: a2\r\n",
      "      - path: file1.txt\r\n",
      "        content: FSharpOption<String>\r\n",
      "          Value: b1\r\n",
      "      - path: file2.txt\r\n",
      "        content: FSharpOption<String>\r\n",
      "          Value: b2\r\n",
      "      - oldPath: file1.txt\r\n",
      "        Item2:         - file_1.txt\r\n",
      "        - FSharpOption<String>\r\n",
      "            Value: b1\r\n",
      "      - oldPath: file2.txt\r\n",
      "        Item2:         - file_2.txt\r\n",
      "        - FSharpOption<String>\r\n",
      "            Value: b2\r\n",
      "      - path: file_1.txt\r\n",
      "        content: FSharpOption<String>\r\n",
      "          Value: c1\r\n",
      "      - path: file_2.txt\r\n",
      "        content: FSharpOption<String>\r\n",
      "          Value: c2\r\n",
      "      - path: file_1.txt\r\n",
      "      - path: file_2.txt\r\n"
     ]
    }
   ],
   "source": [
    "//// test\n",
    "\n",
    "let write path = async {\n",
    "    let n = 2\n",
    "\n",
    "    try\n",
    "        let contents =\n",
    "            [1..n]\n",
    "            |> List.map (fun i -> String.replicate 1_000_000 (string i))\n",
    "\n",
    "        for i = 1 to n do\n",
    "            do! System.IO.File.WriteAllTextAsync (path </> $\"file{i}.txt\", $\"a{contents.[i - 1]}\") |> Async.AwaitTask\n",
    "\n",
    "        do! Async.Sleep 30\n",
    "\n",
    "        for i = 1 to n do\n",
    "            do! System.IO.File.WriteAllTextAsync (path </> $\"file{i}.txt\", $\"b{contents.[i - 1]}\") |> Async.AwaitTask\n",
    "\n",
    "        do! Async.Sleep 30\n",
    "\n",
    "        for i = 1 to n do\n",
    "            do! path </> $\"file{i}.txt\" |> moveFileAsync (path </> $\"file_{i}.txt\")\n",
    "\n",
    "        do! Async.Sleep 30\n",
    "\n",
    "        for i = 1 to n do\n",
    "            do! System.IO.File.WriteAllTextAsync (path </> $\"file_{i}.txt\", $\"c{contents.[i - 1]}\") |> Async.AwaitTask\n",
    "\n",
    "        do! Async.Sleep 30\n",
    "\n",
    "        for i = 1 to n do\n",
    "            do! deleteFileAsync (path </> $\"file_{i}.txt\")\n",
    "    with ex ->\n",
    "        trace Error (fun () -> $\"write: {ex.Message}\") getLocals\n",
    "}\n",
    "\n",
    "let events =\n",
    "    testEventsRaw watch write\n",
    "    |> List.map (function\n",
    "        | FileSystemChange.Changed (path, Some content) ->\n",
    "            FileSystemChange.Changed (path, content |> Seq.distinct |> Seq.map string |> String.concat \"\" |> Some)\n",
    "        | FileSystemChange.Created (path, Some content) ->\n",
    "            FileSystemChange.Created (path, content |> Seq.distinct |> Seq.map string |> String.concat \"\" |> Some)\n",
    "        | FileSystemChange.Renamed (oldPath, (newPath, Some content)) ->\n",
    "            FileSystemChange.Renamed (\n",
    "                oldPath,\n",
    "                (newPath, content |> Seq.distinct |> Seq.map string |> String.concat \"\" |> Some)\n",
    "            )\n",
    "        | event -> event\n",
    "    )\n",
    "\n",
    "events\n",
    "|> _sequenceEqual [\n",
    "    FileSystemChange.Created (\"file1.txt\", Some \"a1\")\n",
    "    FileSystemChange.Changed (\"file1.txt\", Some \"a1\")\n",
    "    FileSystemChange.Created (\"file2.txt\", Some \"a2\")\n",
    "    FileSystemChange.Changed (\"file2.txt\", Some \"a2\")\n",
    "\n",
    "    FileSystemChange.Changed (\"file1.txt\", Some \"b1\")\n",
    "    FileSystemChange.Changed (\"file2.txt\", Some \"b2\")\n",
    "\n",
    "    FileSystemChange.Renamed (\"file1.txt\", (\"file_1.txt\", Some \"b1\"))\n",
    "    FileSystemChange.Renamed (\"file2.txt\", (\"file_2.txt\", Some \"b2\"))\n",
    "\n",
    "    FileSystemChange.Changed (\"file_1.txt\", Some \"c1\")\n",
    "    FileSystemChange.Changed (\"file_2.txt\", Some \"c2\")\n",
    "\n",
    "    FileSystemChange.Deleted \"file_1.txt\"\n",
    "    FileSystemChange.Deleted \"file_2.txt\"\n",
    "]"
   ]
  },
  {
   "cell_type": "code",
   "execution_count": null,
   "metadata": {
    "dotnet_repl_cellExecutionStartTime": "2023-07-19T14:07:28.4846122-03:00",
    "dotnet_repl_cellExecutionEndTime": "2023-07-19T14:07:28.6378842-03:00",
    "dotnet_repl_cellExecutionTime": "153.2739ms",
    "dotnet_interactive": {
     "language": "fsharp"
    },
    "polyglot_notebook": {
     "kernelName": "fsharp"
    }
   },
   "outputs": [],
   "source": [
    "//// test\n",
    "\n",
    "let sortEvent event =\n",
    "    match event with\n",
    "    | FileSystemChange.Error _ -> 0\n",
    "    | FileSystemChange.Created _ -> 1\n",
    "    | FileSystemChange.Changed _ -> 2\n",
    "    | FileSystemChange.Renamed (_oldPath, _) -> 3\n",
    "    | FileSystemChange.Deleted _ -> 4\n",
    "\n",
    "let formatEvents events =\n",
    "    events\n",
    "    |> Seq.toList\n",
    "    |> List.sortBy (snd >> sortEvent)\n",
    "    |> List.choose (fun (ticks, event) ->\n",
    "        match event with\n",
    "        | FileSystemChange.Error _ ->\n",
    "            None\n",
    "        | FileSystemChange.Changed (path, _) ->\n",
    "            Some (ticks, System.IO.Path.GetFileName path, nameof FileSystemChangeType.Changed)\n",
    "        | FileSystemChange.Created (path, _) ->\n",
    "            Some (ticks, System.IO.Path.GetFileName path, nameof FileSystemChangeType.Created)\n",
    "        | FileSystemChange.Deleted path ->\n",
    "            Some (ticks, System.IO.Path.GetFileName path, nameof FileSystemChangeType.Deleted)\n",
    "        | FileSystemChange.Renamed (_oldPath, (path, _)) ->\n",
    "            Some (ticks, System.IO.Path.GetFileName path, nameof FileSystemChangeType.Renamed)\n",
    "    )\n",
    "    |> List.sortBy (fun (_, path, _) -> path)\n",
    "    |> List.distinctBy (fun (_, path, event) -> path, event)\n",
    "\n",
    "let testEventsSorted (watchFn : string -> FSharp.Control.AsyncSeq<int64 * FileSystemChange> * IDisposable) write =\n",
    "    let path = createTempDirectory ()\n",
    "    let stream, disposable = watchFn path\n",
    "\n",
    "    let events = System.Collections.Concurrent.ConcurrentBag ()\n",
    "\n",
    "    let iter () =\n",
    "        stream\n",
    "        |> FSharp.Control.AsyncSeq.iterAsyncParallel (fun event -> async { events.Add event })\n",
    "\n",
    "    let run = async {\n",
    "        let! child = iter () |> Async.StartChild\n",
    "        do! Async.Sleep 150\n",
    "        do! write path\n",
    "        do! child\n",
    "    }\n",
    "\n",
    "    try\n",
    "        run\n",
    "        |> Async.runWithTimeout 500\n",
    "        |> ignore\n",
    "    finally\n",
    "        disposable.Dispose ()\n",
    "        deleteDirectoryAsync path |> Async.RunSynchronously\n",
    "\n",
    "    let events = formatEvents events\n",
    "\n",
    "    let eventMap =\n",
    "        events\n",
    "        |> List.map (fun (ticks, path, event) -> path, (event, ticks))\n",
    "        |> List.groupBy fst\n",
    "        |> List.map (fun (path, events) ->\n",
    "            let event, _ticks =\n",
    "                events\n",
    "                |> List.map snd\n",
    "                |> List.sortByDescending snd\n",
    "                |> List.head\n",
    "\n",
    "            path, event\n",
    "        )\n",
    "        |> Map.ofList\n",
    "\n",
    "    let eventList =\n",
    "        events\n",
    "        |> List.map (fun (_ticks, path, event) -> path, event)\n",
    "\n",
    "    eventMap, eventList"
   ]
  },
  {
   "cell_type": "markdown",
   "metadata": {
    "dotnet_repl_cellExecutionStartTime": "2023-07-19T14:07:28.6379149-03:00",
    "dotnet_repl_cellExecutionEndTime": "2023-07-19T14:07:28.6407487-03:00",
    "dotnet_repl_cellExecutionTime": "2.8453ms"
   },
   "source": [
    "#### create and delete (test)"
   ]
  },
  {
   "cell_type": "code",
   "execution_count": null,
   "metadata": {
    "dotnet_repl_cellExecutionStartTime": "2023-07-19T14:07:28.6407787-03:00",
    "dotnet_repl_cellExecutionEndTime": "2023-07-19T14:07:29.3278033-03:00",
    "dotnet_repl_cellExecutionTime": "687.0273ms",
    "dotnet_interactive": {
     "language": "fsharp"
    },
    "polyglot_notebook": {
     "kernelName": "fsharp"
    }
   },
   "outputs": [
    {
     "name": "stdout",
     "output_type": "stream",
     "text": [
      "14:07:28 #59 [Debug] createTempDirectory / tempFolder: C:\\Users\\i574n\\AppData\\Local\\Temp\\!dotnet-repl\\20230719-1407-2875-7520-72eec22c6279 / result: { CreationTime = 2023-07-19 2:07:28 PM\n",
      "  Exists = true }\r\n",
      "14:07:29 #60 [Debug] runWithTimeout / timeout: 500 / exception: The operation has timed out.\r\n",
      "14:07:29 #61 [Debug] Disposing watch stream / fullPath: C:\\Users\\i574n\\AppData\\Local\\Temp\\!dotnet-repl\\20230719-1407-2875-7520-72eec22c6279 / filter: FileName, DirectoryName, Attributes, CreationTime, Security\r\n",
      "FSharpList<Tuple<String,String>>\r\n",
      "( file1.txt, Created )\r\n",
      "( file1.txt, Changed )\r\n",
      "( file1.txt, Deleted )\r\n",
      "( file2.txt, Created )\r\n",
      "( file2.txt, Changed )\r\n",
      "( file2.txt, Deleted )\r\n",
      "( file3.txt, Created )\r\n",
      "( file3.txt, Changed )\r\n",
      "( file3.txt, Deleted )\r\n",
      "FSharpMap<String,String>\r\n",
      "      - Key: file1.txt\r\n",
      "        Value: Deleted\r\n",
      "      - Key: file2.txt\r\n",
      "        Value: Deleted\r\n",
      "      - Key: file3.txt\r\n",
      "        Value: Deleted\r\n"
     ]
    }
   ],
   "source": [
    "//// test\n",
    "\n",
    "let write path = async {\n",
    "    let n = 3\n",
    "\n",
    "    for i = 1 to n do\n",
    "        do! System.IO.File.WriteAllTextAsync (path </> $\"file{i}.txt\", $\"{i}\") |> Async.AwaitTask\n",
    "\n",
    "    for i = 1 to n do\n",
    "        do! deleteFileAsync (path </> $\"file{i}.txt\")\n",
    "}\n",
    "\n",
    "let eventMap, eventList = testEventsSorted (watch false) write\n",
    "\n",
    "[\n",
    "    \"file1.txt\", nameof FileSystemChangeType.Created\n",
    "    \"file1.txt\", nameof FileSystemChangeType.Changed\n",
    "    \"file1.txt\", nameof FileSystemChangeType.Deleted\n",
    "\n",
    "    \"file2.txt\", nameof FileSystemChangeType.Created\n",
    "    \"file2.txt\", nameof FileSystemChangeType.Changed\n",
    "    \"file2.txt\", nameof FileSystemChangeType.Deleted\n",
    "\n",
    "    \"file3.txt\", nameof FileSystemChangeType.Created\n",
    "    \"file3.txt\", nameof FileSystemChangeType.Changed\n",
    "    \"file3.txt\", nameof FileSystemChangeType.Deleted\n",
    "]\n",
    "|> _sequenceEqual eventList\n",
    "\n",
    "[\n",
    "    \"file1.txt\", nameof FileSystemChangeType.Deleted\n",
    "    \"file2.txt\", nameof FileSystemChangeType.Deleted\n",
    "    \"file3.txt\", nameof FileSystemChangeType.Deleted\n",
    "]\n",
    "|> Map.ofList\n",
    "|> _sequenceEqual eventMap"
   ]
  },
  {
   "cell_type": "markdown",
   "metadata": {
    "dotnet_repl_cellExecutionStartTime": "2023-07-19T14:07:29.3278402-03:00",
    "dotnet_repl_cellExecutionEndTime": "2023-07-19T14:07:29.3312019-03:00",
    "dotnet_repl_cellExecutionTime": "3.3641ms"
   },
   "source": [
    "#### change (test)"
   ]
  },
  {
   "cell_type": "code",
   "execution_count": null,
   "metadata": {
    "dotnet_repl_cellExecutionStartTime": "2023-07-19T14:07:29.3312253-03:00",
    "dotnet_repl_cellExecutionEndTime": "2023-07-19T14:07:30.0330476-03:00",
    "dotnet_repl_cellExecutionTime": "701.8244ms",
    "dotnet_interactive": {
     "language": "fsharp"
    },
    "polyglot_notebook": {
     "kernelName": "fsharp"
    }
   },
   "outputs": [
    {
     "name": "stdout",
     "output_type": "stream",
     "text": [
      "14:07:29 #62 [Debug] createTempDirectory / tempFolder: C:\\Users\\i574n\\AppData\\Local\\Temp\\!dotnet-repl\\20230719-1407-2947-4793-42d668054208 / result: { CreationTime = 2023-07-19 2:07:29 PM\n",
      "  Exists = true }\r\n",
      "14:07:29 #63 [Debug] runWithTimeout / timeout: 500 / exception: The operation has timed out.\r\n",
      "14:07:29 #64 [Debug] Disposing watch stream / fullPath: C:\\Users\\i574n\\AppData\\Local\\Temp\\!dotnet-repl\\20230719-1407-2947-4793-42d668054208 / filter: FileName, DirectoryName, Attributes, CreationTime, Security\r\n",
      "FSharpList<Tuple<String,String>>\r\n",
      "( file1.txt, Created )\r\n",
      "( file1.txt, Changed )\r\n",
      "( file1.txt, Deleted )\r\n",
      "( file2.txt, Created )\r\n",
      "( file2.txt, Changed )\r\n",
      "( file2.txt, Deleted )\r\n",
      "FSharpMap<String,String>\r\n",
      "      - Key: file1.txt\r\n",
      "        Value: Deleted\r\n",
      "      - Key: file2.txt\r\n",
      "        Value: Deleted\r\n"
     ]
    }
   ],
   "source": [
    "//// test\n",
    "\n",
    "let write path = async {\n",
    "    let n = 2\n",
    "\n",
    "    for i = 1 to n do\n",
    "        do! System.IO.File.WriteAllTextAsync (path </> $\"file{i}.txt\", $\"{i}\") |> Async.AwaitTask\n",
    "\n",
    "    for i = 1 to n do\n",
    "        do! System.IO.File.WriteAllTextAsync (path </> $\"file{i}.txt\", \"\") |> Async.AwaitTask\n",
    "\n",
    "    for i = 1 to n do\n",
    "        do! deleteFileAsync (path </> $\"file{i}.txt\")\n",
    "}\n",
    "\n",
    "let eventMap, eventList = testEventsSorted (watch false) write\n",
    "\n",
    "[\n",
    "    \"file1.txt\", nameof FileSystemChangeType.Created\n",
    "    \"file1.txt\", nameof FileSystemChangeType.Changed\n",
    "    \"file1.txt\", nameof FileSystemChangeType.Deleted\n",
    "\n",
    "    \"file2.txt\", nameof FileSystemChangeType.Created\n",
    "    \"file2.txt\", nameof FileSystemChangeType.Changed\n",
    "    \"file2.txt\", nameof FileSystemChangeType.Deleted\n",
    "]\n",
    "|> _sequenceEqual eventList\n",
    "\n",
    "[\n",
    "    \"file1.txt\", nameof FileSystemChangeType.Deleted\n",
    "    \"file2.txt\", nameof FileSystemChangeType.Deleted\n",
    "]\n",
    "|> Map.ofList\n",
    "|> _sequenceEqual eventMap"
   ]
  },
  {
   "cell_type": "markdown",
   "metadata": {
    "dotnet_repl_cellExecutionStartTime": "2023-07-19T14:07:30.0330945-03:00",
    "dotnet_repl_cellExecutionEndTime": "2023-07-19T14:07:30.037202-03:00",
    "dotnet_repl_cellExecutionTime": "4.1096ms"
   },
   "source": [
    "#### rename (test)"
   ]
  },
  {
   "cell_type": "code",
   "execution_count": null,
   "metadata": {
    "dotnet_repl_cellExecutionStartTime": "2023-07-19T14:07:30.0372297-03:00",
    "dotnet_repl_cellExecutionEndTime": "2023-07-19T14:07:30.7390832-03:00",
    "dotnet_repl_cellExecutionTime": "701.8575ms",
    "dotnet_interactive": {
     "language": "fsharp"
    },
    "polyglot_notebook": {
     "kernelName": "fsharp"
    }
   },
   "outputs": [
    {
     "name": "stdout",
     "output_type": "stream",
     "text": [
      "14:07:30 #65 [Debug] createTempDirectory / tempFolder: C:\\Users\\i574n\\AppData\\Local\\Temp\\!dotnet-repl\\20230719-1407-3018-1861-18abec33a176 / result: { CreationTime = 2023-07-19 2:07:30 PM\n",
      "  Exists = true }\r\n",
      "14:07:30 #66 [Debug] runWithTimeout / timeout: 500 / exception: The operation has timed out.\r\n",
      "14:07:30 #67 [Debug] Disposing watch stream / fullPath: C:\\Users\\i574n\\AppData\\Local\\Temp\\!dotnet-repl\\20230719-1407-3018-1861-18abec33a176 / filter: FileName, DirectoryName, Attributes, CreationTime, Security\r\n",
      "FSharpList<Tuple<String,String>>\r\n",
      "( file1.txt, Created )\r\n",
      "( file1.txt, Changed )\r\n",
      "( file2.txt, Created )\r\n",
      "( file2.txt, Changed )\r\n",
      "( file_1.txt, Renamed )\r\n",
      "( file_1.txt, Deleted )\r\n",
      "( file_2.txt, Renamed )\r\n",
      "( file_2.txt, Deleted )\r\n",
      "FSharpMap<String,String>\r\n",
      "      - Key: file1.txt\r\n",
      "        Value: Changed\r\n",
      "      - Key: file2.txt\r\n",
      "        Value: Changed\r\n",
      "      - Key: file_1.txt\r\n",
      "        Value: Deleted\r\n",
      "      - Key: file_2.txt\r\n",
      "        Value: Deleted\r\n"
     ]
    }
   ],
   "source": [
    "//// test\n",
    "\n",
    "let write path = async {\n",
    "    let n = 2\n",
    "\n",
    "    for i = 1 to n do\n",
    "        do! System.IO.File.WriteAllTextAsync (path </> $\"file{i}.txt\", $\"{i}\") |> Async.AwaitTask\n",
    "\n",
    "    for i = 1 to n do\n",
    "        do! path </> $\"file{i}.txt\" |> moveFileAsync (path </> $\"file_{i}.txt\")\n",
    "\n",
    "    for i = 1 to n do\n",
    "        do! deleteFileAsync (path </> $\"file_{i}.txt\")\n",
    "}\n",
    "\n",
    "let eventMap, eventList = testEventsSorted (watch false) write\n",
    "\n",
    "[\n",
    "    \"file1.txt\", nameof FileSystemChangeType.Created\n",
    "    \"file1.txt\", nameof FileSystemChangeType.Changed\n",
    "    \"file2.txt\", nameof FileSystemChangeType.Created\n",
    "    \"file2.txt\", nameof FileSystemChangeType.Changed\n",
    "\n",
    "    \"file_1.txt\", nameof FileSystemChangeType.Renamed\n",
    "    \"file_1.txt\", nameof FileSystemChangeType.Deleted\n",
    "\n",
    "    \"file_2.txt\", nameof FileSystemChangeType.Renamed\n",
    "    \"file_2.txt\", nameof FileSystemChangeType.Deleted\n",
    "]\n",
    "|> _sequenceEqual eventList\n",
    "\n",
    "[\n",
    "    \"file1.txt\", nameof FileSystemChangeType.Changed\n",
    "    \"file2.txt\", nameof FileSystemChangeType.Changed\n",
    "    \"file_1.txt\", nameof FileSystemChangeType.Deleted\n",
    "    \"file_2.txt\", nameof FileSystemChangeType.Deleted\n",
    "]\n",
    "|> Map.ofList\n",
    "|> _sequenceEqual eventMap"
   ]
  },
  {
   "cell_type": "markdown",
   "metadata": {
    "dotnet_repl_cellExecutionStartTime": "2023-07-19T14:07:30.7391407-03:00",
    "dotnet_repl_cellExecutionEndTime": "2023-07-19T14:07:30.7446645-03:00",
    "dotnet_repl_cellExecutionTime": "5.5267ms"
   },
   "source": [
    "#### full (test)"
   ]
  },
  {
   "cell_type": "code",
   "execution_count": null,
   "metadata": {
    "dotnet_repl_cellExecutionStartTime": "2023-07-19T14:07:30.7446914-03:00",
    "dotnet_repl_cellExecutionEndTime": "2023-07-19T14:07:31.5233265-03:00",
    "dotnet_repl_cellExecutionTime": "778.6383ms",
    "dotnet_interactive": {
     "language": "fsharp"
    },
    "polyglot_notebook": {
     "kernelName": "fsharp"
    }
   },
   "outputs": [
    {
     "name": "stdout",
     "output_type": "stream",
     "text": [
      "14:07:30 #68 [Debug] createTempDirectory / tempFolder: C:\\Users\\i574n\\AppData\\Local\\Temp\\!dotnet-repl\\20230719-1407-3098-9834-9fcdf4f0537e / result: { CreationTime = 2023-07-19 2:07:30 PM\n",
      "  Exists = true }\r\n",
      "14:07:31 #69 [Debug] runWithTimeout / timeout: 500 / exception: The operation has timed out.\r\n",
      "14:07:31 #70 [Debug] Disposing watch stream / fullPath: C:\\Users\\i574n\\AppData\\Local\\Temp\\!dotnet-repl\\20230719-1407-3098-9834-9fcdf4f0537e / filter: FileName, DirectoryName, Attributes, CreationTime, Security\r\n",
      "FSharpList<Tuple<String,String>>\r\n",
      "( file1.txt, Created )\r\n",
      "( file1.txt, Changed )\r\n",
      "( file2.txt, Created )\r\n",
      "( file2.txt, Changed )\r\n",
      "( file_1.txt, Changed )\r\n",
      "( file_1.txt, Renamed )\r\n",
      "( file_1.txt, Deleted )\r\n",
      "( file_2.txt, Changed )\r\n",
      "( file_2.txt, Renamed )\r\n",
      "( file_2.txt, Deleted )\r\n",
      "FSharpMap<String,String>\r\n",
      "      - Key: file1.txt\r\n",
      "        Value: Changed\r\n",
      "      - Key: file2.txt\r\n",
      "        Value: Changed\r\n",
      "      - Key: file_1.txt\r\n",
      "        Value: Deleted\r\n",
      "      - Key: file_2.txt\r\n",
      "        Value: Deleted\r\n"
     ]
    }
   ],
   "source": [
    "//// test\n",
    "\n",
    "let write path = async {\n",
    "    let n = 2\n",
    "\n",
    "    for i = 1 to n do\n",
    "        do! System.IO.File.WriteAllTextAsync (path </> $\"file{i}.txt\", $\"{i}\") |> Async.AwaitTask\n",
    "\n",
    "    for i = 1 to n do\n",
    "        do! System.IO.File.WriteAllTextAsync (path </> $\"file{i}.txt\", \"\") |> Async.AwaitTask\n",
    "\n",
    "    for i = 1 to n do\n",
    "        do! path </> $\"file{i}.txt\" |> moveFileAsync (path </> $\"file_{i}.txt\")\n",
    "\n",
    "    for i = 1 to n do\n",
    "        do! System.IO.File.WriteAllTextAsync (path </> $\"file_{i}.txt\", $\"{i}\") |> Async.AwaitTask\n",
    "\n",
    "    for i = 1 to n do\n",
    "        do! deleteFileAsync (path </> $\"file_{i}.txt\")\n",
    "}\n",
    "\n",
    "let eventMap, eventList = testEventsSorted (watch false) write\n",
    "\n",
    "[\n",
    "    \"file1.txt\", nameof FileSystemChangeType.Created\n",
    "    \"file1.txt\", nameof FileSystemChangeType.Changed\n",
    "    \"file2.txt\", nameof FileSystemChangeType.Created\n",
    "    \"file2.txt\", nameof FileSystemChangeType.Changed\n",
    "\n",
    "    \"file_1.txt\", nameof FileSystemChangeType.Changed\n",
    "    \"file_1.txt\", nameof FileSystemChangeType.Renamed\n",
    "    \"file_1.txt\", nameof FileSystemChangeType.Deleted\n",
    "\n",
    "    \"file_2.txt\", nameof FileSystemChangeType.Changed\n",
    "    \"file_2.txt\", nameof FileSystemChangeType.Renamed\n",
    "    \"file_2.txt\", nameof FileSystemChangeType.Deleted\n",
    "]\n",
    "|> _sequenceEqual eventList\n",
    "\n",
    "[\n",
    "    \"file1.txt\", nameof FileSystemChangeType.Changed\n",
    "    \"file2.txt\", nameof FileSystemChangeType.Changed\n",
    "    \"file_1.txt\", nameof FileSystemChangeType.Deleted\n",
    "    \"file_2.txt\", nameof FileSystemChangeType.Deleted\n",
    "]\n",
    "|> Map.ofList\n",
    "|> _sequenceEqual eventMap"
   ]
  }
 ],
 "metadata": {
  "kernelspec": {
   "display_name": ".NET (C#)",
   "language": "C#",
   "name": ".net-csharp"
  },
  "language_info": {
   "file_extension": ".cs",
   "mimetype": "text/x-csharp",
   "name": "C#",
   "pygments_lexer": "csharp",
   "version": "10.0"
  },
  "polyglot_notebook": {
   "defaultKernelName": "csharp",
   "items": [
    {
     "name": "csharp"
    }
   ]
  },
  "dotnet_interactive": {
   "defaultKernelName": "csharp",
   "items": [
    {
     "name": "csharp"
    }
   ]
  }
 },
 "nbformat": 4,
 "nbformat_minor": 5
}