{
 "cells": [
  {
   "cell_type": "markdown",
   "metadata": {
    "dotnet_repl_cellExecutionStartTime": "2023-07-19T13:32:06.4905263-03:00",
    "dotnet_repl_cellExecutionEndTime": "2023-07-19T13:32:06.5469661-03:00",
    "dotnet_repl_cellExecutionTime": "56.5825ms"
   },
   "source": [
    "# FileSystem (Polyglot)"
   ]
  },
  {
   "cell_type": "code",
   "execution_count": null,
   "metadata": {
    "dotnet_repl_cellExecutionStartTime": "2023-07-19T13:32:06.5497395-03:00",
    "dotnet_repl_cellExecutionEndTime": "2023-07-19T13:32:23.6132076-03:00",
    "dotnet_repl_cellExecutionTime": "17.0634702s",
    "dotnet_interactive": {
     "language": "fsharp"
    },
    "polyglot_notebook": {
     "kernelName": "fsharp"
    }
   },
   "outputs": [
    {
     "data": {
      "text/markdown": [
       "# Async (Polyglot)"
      ]
     },
     "metadata": {},
     "output_type": "display_data"
    },
    {
     "data": {
      "text/markdown": [
       "# Common (Polyglot)"
      ]
     },
     "metadata": {},
     "output_type": "display_data"
    },
    {
     "data": {
      "text/html": [
       "<div><div></div><div><strong>Installing Packages</strong><ul><li><span>Expecto</span></li></ul></div><div></div></div>"
      ]
     },
     "metadata": {},
     "output_type": "display_data"
    },
    {
     "data": {
      "text/html": [
       "<div><div></div><div><strong>Installing Packages</strong><ul><li><span>Expecto.</span></li></ul></div><div></div></div>"
      ]
     },
     "metadata": {},
     "output_type": "display_data"
    },
    {
     "data": {
      "text/html": [
       "<div><div></div><div><strong>Installing Packages</strong><ul><li><span>Expecto..</span></li></ul></div><div></div></div>"
      ]
     },
     "metadata": {},
     "output_type": "display_data"
    },
    {
     "data": {
      "text/html": [
       "<div><div></div><div><strong>Installing Packages</strong><ul><li><span>Expecto...</span></li></ul></div><div></div></div>"
      ]
     },
     "metadata": {},
     "output_type": "display_data"
    },
    {
     "data": {
      "text/html": [
       "<div><div></div><div><strong>Installing Packages</strong><ul><li><span>Expecto....</span></li></ul></div><div></div></div>"
      ]
     },
     "metadata": {},
     "output_type": "display_data"
    },
    {
     "data": {
      "text/html": [
       "<div><div></div><div><strong>Installing Packages</strong><ul><li><span>Expecto.....</span></li></ul></div><div></div></div>"
      ]
     },
     "metadata": {},
     "output_type": "display_data"
    },
    {
     "data": {
      "text/html": [
       "<div><div></div><div><strong>Installing Packages</strong><ul><li><span>Expecto......</span></li></ul></div><div></div></div>"
      ]
     },
     "metadata": {},
     "output_type": "display_data"
    },
    {
     "data": {
      "text/html": [
       "<div><div></div><div><strong>Installing Packages</strong><ul><li><span>Expecto.......</span></li></ul></div><div></div></div>"
      ]
     },
     "metadata": {},
     "output_type": "display_data"
    },
    {
     "data": {
      "text/html": [
       "<div><div></div><div></div><div><strong>Installed Packages</strong><ul><li><span>Expecto, 10.1.0</span></li></ul></div></div>"
      ]
     },
     "metadata": {},
     "output_type": "display_data"
    },
    {
     "data": {
      "text/html": [
       "<div class=\"dni-plaintext\"><pre>True</pre></div><style>\r\n",
       ".dni-code-hint {\r\n",
       "    font-style: italic;\r\n",
       "    overflow: hidden;\r\n",
       "    white-space: nowrap;\r\n",
       "}\r\n",
       ".dni-treeview {\r\n",
       "    white-space: nowrap;\r\n",
       "}\r\n",
       ".dni-treeview td {\r\n",
       "    vertical-align: top;\r\n",
       "    text-align: start;\r\n",
       "}\r\n",
       "details.dni-treeview {\r\n",
       "    padding-left: 1em;\r\n",
       "}\r\n",
       "table td {\r\n",
       "    text-align: start;\r\n",
       "}\r\n",
       "table tr { \r\n",
       "    vertical-align: top; \r\n",
       "    margin: 0em 0px;\r\n",
       "}\r\n",
       "table tr td pre \r\n",
       "{ \r\n",
       "    vertical-align: top !important; \r\n",
       "    margin: 0em 0px !important;\r\n",
       "} \r\n",
       "table th {\r\n",
       "    text-align: start;\r\n",
       "}\r\n",
       "</style>"
      ]
     },
     "metadata": {},
     "output_type": "display_data"
    },
    {
     "data": {
      "text/html": [
       "<div><div></div><div><strong>Installing Packages</strong><ul><li><span>FSharp.Control.AsyncSeq</span></li><li><span>System.Reactive</span></li><li><span>System.Reactive.Linq</span></li></ul></div><div></div></div>"
      ]
     },
     "metadata": {},
     "output_type": "display_data"
    },
    {
     "data": {
      "text/html": [
       "<div><div></div><div><strong>Installing Packages</strong><ul><li><span>FSharp.Control.AsyncSeq.</span></li><li><span>System.Reactive.</span></li><li><span>System.Reactive.Linq.</span></li></ul></div><div></div></div>"
      ]
     },
     "metadata": {},
     "output_type": "display_data"
    },
    {
     "data": {
      "text/html": [
       "<div><div></div><div><strong>Installing Packages</strong><ul><li><span>FSharp.Control.AsyncSeq..</span></li><li><span>System.Reactive..</span></li><li><span>System.Reactive.Linq..</span></li></ul></div><div></div></div>"
      ]
     },
     "metadata": {},
     "output_type": "display_data"
    },
    {
     "data": {
      "text/html": [
       "<div><div></div><div><strong>Installing Packages</strong><ul><li><span>FSharp.Control.AsyncSeq...</span></li><li><span>System.Reactive...</span></li><li><span>System.Reactive.Linq...</span></li></ul></div><div></div></div>"
      ]
     },
     "metadata": {},
     "output_type": "display_data"
    },
    {
     "data": {
      "text/html": [
       "<div><div></div><div><strong>Installing Packages</strong><ul><li><span>FSharp.Control.AsyncSeq....</span></li><li><span>System.Reactive....</span></li><li><span>System.Reactive.Linq....</span></li></ul></div><div></div></div>"
      ]
     },
     "metadata": {},
     "output_type": "display_data"
    },
    {
     "data": {
      "text/html": [
       "<div><div></div><div><strong>Installing Packages</strong><ul><li><span>FSharp.Control.AsyncSeq.....</span></li><li><span>System.Reactive.....</span></li><li><span>System.Reactive.Linq.....</span></li></ul></div><div></div></div>"
      ]
     },
     "metadata": {},
     "output_type": "display_data"
    },
    {
     "data": {
      "text/html": [
       "<div><div></div><div><strong>Installing Packages</strong><ul><li><span>FSharp.Control.AsyncSeq......</span></li><li><span>System.Reactive......</span></li><li><span>System.Reactive.Linq......</span></li></ul></div><div></div></div>"
      ]
     },
     "metadata": {},
     "output_type": "display_data"
    },
    {
     "data": {
      "text/html": [
       "<div><div></div><div><strong>Installing Packages</strong><ul><li><span>FSharp.Control.AsyncSeq.......</span></li><li><span>System.Reactive.......</span></li><li><span>System.Reactive.Linq.......</span></li></ul></div><div></div></div>"
      ]
     },
     "metadata": {},
     "output_type": "display_data"
    },
    {
     "data": {
      "text/html": [
       "<div><div></div><div></div><div><strong>Installed Packages</strong><ul><li><span>FSharp.Control.AsyncSeq, 3.2.1</span></li><li><span>System.Reactive, 5.0.0</span></li><li><span>System.Reactive.Linq, 6.0.0-preview.1</span></li></ul></div></div>"
      ]
     },
     "metadata": {},
     "output_type": "display_data"
    },
    {
     "name": "stdout",
     "output_type": "stream",
     "text": [
      "00010101-0000-0000-0000-0a9876543210\r\n",
      "99991231-2359-5999-9999-9a9876543210\r\n",
      "19700101-0000-0000-0000-0a9876543210\r\n",
      "0001-01-01 00:00:00Z\r\n",
      "9999-12-31 23:59:59Z\r\n",
      "1970-01-01 00:00:00Z\r\n",
      "00000000-0000-0000-00dc-ba9876543210\r\n",
      "99999999-9999-9999-99dc-ba9876543210\r\n",
      "0\r\n",
      "999999999999999999\r\n",
      "0\r\n",
      "0\r\n",
      "13:32:18 #1 [Debug] test\r\n",
      "1\r\n",
      "1\r\n",
      "1\r\n",
      "0\r\n",
      "13:32:22 #1 [Debug] runWithTimeout / timeout: 10 / exception: The operation has timed out.\r\n",
      "<null>\r\n",
      "FSharpOption<Unit>\r\n",
      "      Value: <null>\r\n",
      "13:32:23 #2 [Debug] runWithTimeout / timeout: 100 / exception: The operation has timed out.\r\n",
      "<null>\r\n",
      "[ 1, AddHandler, 2, RemoveHandler ]\r\n",
      "13:32:23 #3 [Debug] runWithTimeout / timeout: 100 / exception: The operation has timed out.\r\n",
      "<null>\r\n",
      "[ 1, AddHandler, 2, IObservable.Subscribe, 3, RemoveHandler, IObservable.Dispose ]\r\n",
      "13:32:23 #4 [Debug] runWithTimeout / timeout: 100 / exception: The operation has timed out.\r\n",
      "<null>\r\n",
      "[ 1, AddHandler, 2, IObservable.Subscribe, 3, TestEvent.Subscribe(error), TestEvent.Iter(0:error), testEvent.EventInterface.Subscribe(error), 4, RemoveHandler, IObservable.Dispose ]\r\n"
     ]
    }
   ],
   "source": [
    "#!import ../nbs/Async.dib"
   ]
  },
  {
   "cell_type": "code",
   "execution_count": null,
   "metadata": {
    "dotnet_repl_cellExecutionStartTime": "2023-07-19T13:32:23.6134433-03:00",
    "dotnet_repl_cellExecutionEndTime": "2023-07-19T13:32:23.8135757-03:00",
    "dotnet_repl_cellExecutionTime": "200.1342ms",
    "dotnet_interactive": {
     "language": "fsharp"
    },
    "polyglot_notebook": {
     "kernelName": "fsharp"
    }
   },
   "outputs": [],
   "source": [
    "#!import ../nbs/Common.fs\n",
    "#!import ../nbs/Async.fs"
   ]
  },
  {
   "cell_type": "code",
   "execution_count": null,
   "metadata": {
    "dotnet_repl_cellExecutionStartTime": "2023-07-19T13:32:23.8136134-03:00",
    "dotnet_repl_cellExecutionEndTime": "2023-07-19T13:32:23.8205801-03:00",
    "dotnet_repl_cellExecutionTime": "6.9684ms",
    "dotnet_interactive": {
     "language": "fsharp"
    },
    "polyglot_notebook": {
     "kernelName": "fsharp"
    }
   },
   "outputs": [],
   "source": [
    "open Common\n",
    "open Async"
   ]
  },
  {
   "cell_type": "markdown",
   "metadata": {
    "dotnet_repl_cellExecutionStartTime": "2023-07-19T13:32:23.8206093-03:00",
    "dotnet_repl_cellExecutionEndTime": "2023-07-19T13:32:23.8234582-03:00",
    "dotnet_repl_cellExecutionTime": "2.8507ms"
   },
   "source": [
    "## TempDirectory"
   ]
  },
  {
   "cell_type": "code",
   "execution_count": null,
   "metadata": {
    "dotnet_repl_cellExecutionStartTime": "2023-07-19T13:32:23.8234828-03:00",
    "dotnet_repl_cellExecutionEndTime": "2023-07-19T13:32:23.9136335-03:00",
    "dotnet_repl_cellExecutionTime": "90.1524ms",
    "dotnet_interactive": {
     "language": "fsharp"
    },
    "polyglot_notebook": {
     "kernelName": "fsharp"
    }
   },
   "outputs": [],
   "source": [
    "let createTempDirectoryName () =\n",
    "    let root =\n",
    "        match System.Reflection.Assembly.GetEntryAssembly().GetName().Name with\n",
    "        | assemblyName -> assemblyName\n",
    "\n",
    "    System.IO.Path.GetTempPath ()\n",
    "    </> $\"!{root}\"\n",
    "    </> string (newGuidFromDateTime System.DateTime.Now)\n",
    "\n",
    "let createTempDirectory () =\n",
    "    let tempFolder = createTempDirectoryName ()\n",
    "    let result = System.IO.Directory.CreateDirectory tempFolder\n",
    "\n",
    "    let getLocals () =\n",
    "        $\"tempFolder: {tempFolder} / result: {({|\n",
    "            Exists = result.Exists\n",
    "            CreationTime = result.CreationTime\n",
    "        |})} {getLocals ()}\"\n",
    "\n",
    "    trace Debug (fun () -> \"createTempDirectory\") getLocals\n",
    "\n",
    "    tempFolder"
   ]
  },
  {
   "cell_type": "code",
   "execution_count": null,
   "metadata": {
    "dotnet_repl_cellExecutionStartTime": "2023-07-19T13:32:23.9136619-03:00",
    "dotnet_repl_cellExecutionEndTime": "2023-07-19T13:32:23.925495-03:00",
    "dotnet_repl_cellExecutionTime": "11.8344ms",
    "dotnet_interactive": {
     "language": "fsharp"
    },
    "polyglot_notebook": {
     "kernelName": "fsharp"
    }
   },
   "outputs": [
    {
     "data": {
      "text/plain": [
       "C:\\Users\\i574n\\AppData\\Local\\Temp\\!dotnet-repl\\20230719-1332-2392-9218-9652feb7c0a4"
      ]
     },
     "metadata": {},
     "output_type": "display_data"
    }
   ],
   "source": [
    "//// test\n",
    "\n",
    "createTempDirectoryName ()"
   ]
  },
  {
   "cell_type": "markdown",
   "metadata": {
    "dotnet_repl_cellExecutionStartTime": "2023-07-19T13:32:23.9255204-03:00",
    "dotnet_repl_cellExecutionEndTime": "2023-07-19T13:32:23.9284068-03:00",
    "dotnet_repl_cellExecutionTime": "2.8879ms"
   },
   "source": [
    "## WaitForFileAccess"
   ]
  },
  {
   "cell_type": "code",
   "execution_count": null,
   "metadata": {
    "dotnet_repl_cellExecutionStartTime": "2023-07-19T13:32:23.9284356-03:00",
    "dotnet_repl_cellExecutionEndTime": "2023-07-19T13:32:24.0653248-03:00",
    "dotnet_repl_cellExecutionTime": "136.8911ms",
    "dotnet_interactive": {
     "language": "fsharp"
    },
    "polyglot_notebook": {
     "kernelName": "fsharp"
    }
   },
   "outputs": [],
   "source": [
    "let rec waitForFileAccess path = async {\n",
    "    let rec loop retry = async {\n",
    "        try\n",
    "            use _ = new FileStream (path, FileMode.Open, FileAccess.ReadWrite)\n",
    "            ()\n",
    "        with ex ->\n",
    "            if retry % 100 = 0 then\n",
    "                let getLocals () = $\"path: {path} / message: {ex.Message} / {getLocals ()}\"\n",
    "                trace Warn (fun () -> nameof waitForFileAccess) getLocals\n",
    "            do! Async.Sleep 1\n",
    "            return! loop (retry + 1)\n",
    "    }\n",
    "    return! loop 0\n",
    "}"
   ]
  },
  {
   "cell_type": "code",
   "execution_count": null,
   "metadata": {
    "dotnet_repl_cellExecutionStartTime": "2023-07-19T13:32:24.0653558-03:00",
    "dotnet_repl_cellExecutionEndTime": "2023-07-19T13:32:26.268091-03:00",
    "dotnet_repl_cellExecutionTime": "2.202739s",
    "dotnet_interactive": {
     "language": "fsharp"
    },
    "polyglot_notebook": {
     "kernelName": "fsharp"
    }
   },
   "outputs": [
    {
     "name": "stdout",
     "output_type": "stream",
     "text": [
      "13:32:24 #1 [Debug] createTempDirectory / tempFolder: C:\\Users\\i574n\\AppData\\Local\\Temp\\!dotnet-repl\\20230719-1332-2420-2073-285ab53ca2d0 / result: { CreationTime = 2023-07-19 1:32:24 PM\n",
      "  Exists = true }\r\n",
      "13:32:24 #2 [Debug] 1\r\n",
      "13:32:24 #3 [Debug] 2\r\n",
      "13:32:24 #4 [Debug] 3\r\n",
      "13:32:24 #5 [Debug] _1\r\n",
      "13:32:24 #6 [Debug] _2\r\n",
      "13:32:24 #7 [Debug] 4\r\n",
      "13:32:24 #8 [Warn] waitForFileAccess / path: C:\\Users\\i574n\\AppData\\Local\\Temp\\!dotnet-repl\\20230719-1332-2420-2073-285ab53ca2d0\\test.txt / message: The process cannot access the file 'C:\\Users\\i574n\\AppData\\Local\\Temp\\!dotnet-repl\\20230719-1332-2420-2073-285ab53ca2d0\\test.txt' because it is being used by another process.\r\n",
      "13:32:25 #9 [Warn] waitForFileAccess / path: C:\\Users\\i574n\\AppData\\Local\\Temp\\!dotnet-repl\\20230719-1332-2420-2073-285ab53ca2d0\\test.txt / message: The process cannot access the file 'C:\\Users\\i574n\\AppData\\Local\\Temp\\!dotnet-repl\\20230719-1332-2420-2073-285ab53ca2d0\\test.txt' because it is being used by another process.\r\n",
      "13:32:26 #10 [Debug] _3\r\n",
      "13:32:26 #11 [Debug] _4\r\n",
      "13:32:26 #12 [Debug] _5\r\n",
      "13:32:26 #13 [Debug] _6\r\n",
      "13:32:26 #14 [Debug] 5\r\n",
      "13:32:26 #15 [Debug] text: 1\r\n",
      "FSharpOption<String>\r\n",
      "      Value: 1\r\n"
     ]
    }
   ],
   "source": [
    "//// test\n",
    "\n",
    "let tempFolder = createTempDirectory ()\n",
    "let path = tempFolder </> \"test.txt\"\n",
    "\n",
    "let lockFile () = async {\n",
    "    trace Debug (fun () -> \"_1\") getLocals\n",
    "    use stream = new FileStream (path, FileMode.Open, FileAccess.ReadWrite)\n",
    "    trace Debug (fun () -> \"_2\") getLocals\n",
    "    do! Async.Sleep 2000\n",
    "    trace Debug (fun () -> \"_3\") getLocals\n",
    "    stream.Seek (0L, SeekOrigin.Begin) |> ignore\n",
    "    trace Debug (fun () -> \"_4\") getLocals\n",
    "    stream.WriteByte (49uy) |> ignore\n",
    "    trace Debug (fun () -> \"_5\") getLocals\n",
    "    stream.Flush ()\n",
    "    trace Debug (fun () -> \"_6\") getLocals\n",
    "}\n",
    "\n",
    "async {\n",
    "    trace Debug (fun () -> \"1\") getLocals\n",
    "    do! File.WriteAllTextAsync (path, \"0\") |> Async.AwaitTask\n",
    "    trace Debug (fun () -> \"2\") getLocals\n",
    "    let! _ = lockFile () |> Async.StartChild\n",
    "    trace Debug (fun () -> \"3\") getLocals\n",
    "    do! Async.Sleep 1\n",
    "    trace Debug (fun () -> \"4\") getLocals\n",
    "    do! waitForFileAccess path\n",
    "    trace Debug (fun () -> \"5\") getLocals\n",
    "    let text = File.ReadAllText path\n",
    "    trace Debug (fun () -> $\"text: {text}\") getLocals\n",
    "    return text\n",
    "}\n",
    "|> Async.runWithTimeout 3000\n",
    "|> _equal (Some \"1\")"
   ]
  },
  {
   "cell_type": "markdown",
   "metadata": {
    "dotnet_repl_cellExecutionStartTime": "2023-07-19T13:32:26.2681296-03:00",
    "dotnet_repl_cellExecutionEndTime": "2023-07-19T13:32:26.2711415-03:00",
    "dotnet_repl_cellExecutionTime": "3.0133ms"
   },
   "source": [
    "## DeleteDirectoryAsync"
   ]
  },
  {
   "cell_type": "code",
   "execution_count": null,
   "metadata": {
    "dotnet_repl_cellExecutionStartTime": "2023-07-19T13:32:26.2711608-03:00",
    "dotnet_repl_cellExecutionEndTime": "2023-07-19T13:32:26.3822716-03:00",
    "dotnet_repl_cellExecutionTime": "111.1131ms",
    "dotnet_interactive": {
     "language": "fsharp"
    },
    "polyglot_notebook": {
     "kernelName": "fsharp"
    }
   },
   "outputs": [],
   "source": [
    "let rec deleteDirectoryAsync path = async {\n",
    "    let rec loop retry = async {\n",
    "        try\n",
    "            System.IO.Directory.Delete (path, true)\n",
    "        with ex ->\n",
    "            if retry % 100 = 0 then\n",
    "                let getLocals () = $\"path: {path} / message: {ex.Message} / {getLocals ()}\"\n",
    "                trace Warn (fun () -> nameof deleteDirectoryAsync) getLocals\n",
    "            do! Async.Sleep 1\n",
    "            return! loop (retry + 1)\n",
    "    }\n",
    "    return! loop 0\n",
    "}"
   ]
  },
  {
   "cell_type": "code",
   "execution_count": null,
   "metadata": {
    "dotnet_repl_cellExecutionStartTime": "2023-07-19T13:32:26.3823095-03:00",
    "dotnet_repl_cellExecutionEndTime": "2023-07-19T13:32:28.5591639-03:00",
    "dotnet_repl_cellExecutionTime": "2.1768566s",
    "dotnet_interactive": {
     "language": "fsharp"
    },
    "polyglot_notebook": {
     "kernelName": "fsharp"
    }
   },
   "outputs": [
    {
     "name": "stdout",
     "output_type": "stream",
     "text": [
      "13:32:26 #16 [Debug] createTempDirectory / tempFolder: C:\\Users\\i574n\\AppData\\Local\\Temp\\!dotnet-repl\\20230719-1332-2651-5153-5d94146758d4 / result: { CreationTime = 2023-07-19 1:32:26 PM\n",
      "  Exists = true }\r\n",
      "13:32:26 #17 [Debug] 1\r\n",
      "13:32:26 #18 [Debug] 2\r\n",
      "13:32:26 #19 [Debug] 3\r\n",
      "13:32:26 #20 [Debug] _1\r\n",
      "13:32:26 #21 [Debug] _2\r\n",
      "13:32:26 #22 [Debug] 4\r\n",
      "13:32:26 #23 [Warn] deleteDirectoryAsync / path: C:\\Users\\i574n\\AppData\\Local\\Temp\\!dotnet-repl\\20230719-1332-2651-5153-5d94146758d4\\test / message: The process cannot access the file 'test.txt' because it is being used by another process.\r\n",
      "13:32:27 #24 [Warn] deleteDirectoryAsync / path: C:\\Users\\i574n\\AppData\\Local\\Temp\\!dotnet-repl\\20230719-1332-2651-5153-5d94146758d4\\test / message: The process cannot access the file 'test.txt' because it is being used by another process.\r\n",
      "13:32:28 #25 [Debug] _3\r\n",
      "13:32:28 #26 [Debug] 5\r\n",
      "FSharpOption<Unit>\r\n",
      "      Value: <null>\r\n"
     ]
    }
   ],
   "source": [
    "//// test\n",
    "\n",
    "let tempFolder = createTempDirectory ()\n",
    "let path = tempFolder </> \"test\"\n",
    "\n",
    "let lockDirectory () = async {\n",
    "    trace Debug (fun () -> \"_1\") getLocals\n",
    "    System.IO.File.WriteAllText (path </> \"test.txt\", \"\")\n",
    "    use _ = new FileStream (path </> \"test.txt\", FileMode.Open, FileAccess.ReadWrite)\n",
    "    trace Debug (fun () -> \"_2\") getLocals\n",
    "    do! Async.Sleep 2000\n",
    "    trace Debug (fun () -> \"_3\") getLocals\n",
    "}\n",
    "\n",
    "async {\n",
    "    trace Debug (fun () -> \"1\") getLocals\n",
    "    Directory.CreateDirectory path |> ignore\n",
    "    trace Debug (fun () -> \"2\") getLocals\n",
    "    let! _ = lockDirectory () |> Async.StartChild\n",
    "    trace Debug (fun () -> \"3\") getLocals\n",
    "    do! Async.Sleep 1\n",
    "    trace Debug (fun () -> \"4\") getLocals\n",
    "    do! deleteDirectoryAsync path\n",
    "    trace Debug (fun () -> \"5\") getLocals\n",
    "}\n",
    "|> Async.runWithTimeout 3000\n",
    "|> _equal (Some ())"
   ]
  },
  {
   "cell_type": "markdown",
   "metadata": {
    "dotnet_repl_cellExecutionStartTime": "2023-07-19T13:32:28.5592097-03:00",
    "dotnet_repl_cellExecutionEndTime": "2023-07-19T13:32:28.5622889-03:00",
    "dotnet_repl_cellExecutionTime": "3.0815ms"
   },
   "source": [
    "## DeleteFileAsync"
   ]
  },
  {
   "cell_type": "code",
   "execution_count": null,
   "metadata": {
    "dotnet_repl_cellExecutionStartTime": "2023-07-19T13:32:28.5623234-03:00",
    "dotnet_repl_cellExecutionEndTime": "2023-07-19T13:32:28.7103329-03:00",
    "dotnet_repl_cellExecutionTime": "148.0118ms",
    "dotnet_interactive": {
     "language": "fsharp"
    },
    "polyglot_notebook": {
     "kernelName": "fsharp"
    }
   },
   "outputs": [],
   "source": [
    "let rec deleteFileAsync path = async {\n",
    "    let rec loop retry = async {\n",
    "        try\n",
    "            System.IO.File.Delete path\n",
    "        with ex ->\n",
    "            if retry % 100 = 0 then\n",
    "                let getLocals () = $\"path: {path} / message: {ex.Message} / {getLocals ()}\"\n",
    "                trace Warn (fun () -> nameof deleteFileAsync) getLocals\n",
    "            do! Async.Sleep 1\n",
    "            return! loop (retry + 1)\n",
    "    }\n",
    "    return! loop 0\n",
    "}"
   ]
  },
  {
   "cell_type": "code",
   "execution_count": null,
   "metadata": {
    "dotnet_repl_cellExecutionStartTime": "2023-07-19T13:32:28.71037-03:00",
    "dotnet_repl_cellExecutionEndTime": "2023-07-19T13:32:30.9160088-03:00",
    "dotnet_repl_cellExecutionTime": "2.205641s",
    "dotnet_interactive": {
     "language": "fsharp"
    },
    "polyglot_notebook": {
     "kernelName": "fsharp"
    }
   },
   "outputs": [
    {
     "name": "stdout",
     "output_type": "stream",
     "text": [
      "13:32:28 #27 [Debug] createTempDirectory / tempFolder: C:\\Users\\i574n\\AppData\\Local\\Temp\\!dotnet-repl\\20230719-1332-2886-8667-8dfa5bd0973f / result: { CreationTime = 2023-07-19 1:32:28 PM\n",
      "  Exists = true }\r\n",
      "13:32:28 #28 [Debug] 1\r\n",
      "13:32:28 #29 [Debug] 2\r\n",
      "13:32:28 #30 [Debug] 3\r\n",
      "13:32:28 #31 [Debug] _1\r\n",
      "13:32:28 #32 [Debug] _2\r\n",
      "13:32:28 #33 [Debug] 4\r\n",
      "13:32:28 #34 [Warn] deleteFileAsync / path: C:\\Users\\i574n\\AppData\\Local\\Temp\\!dotnet-repl\\20230719-1332-2886-8667-8dfa5bd0973f\\test.txt / message: The process cannot access the file 'C:\\Users\\i574n\\AppData\\Local\\Temp\\!dotnet-repl\\20230719-1332-2886-8667-8dfa5bd0973f\\test.txt' because it is being used by another process.\r\n",
      "13:32:30 #35 [Warn] deleteFileAsync / path: C:\\Users\\i574n\\AppData\\Local\\Temp\\!dotnet-repl\\20230719-1332-2886-8667-8dfa5bd0973f\\test.txt / message: The process cannot access the file 'C:\\Users\\i574n\\AppData\\Local\\Temp\\!dotnet-repl\\20230719-1332-2886-8667-8dfa5bd0973f\\test.txt' because it is being used by another process.\r\n",
      "13:32:30 #36 [Debug] _3\r\n",
      "13:32:30 #37 [Debug] 5\r\n",
      "FSharpOption<Unit>\r\n",
      "      Value: <null>\r\n"
     ]
    }
   ],
   "source": [
    "//// test\n",
    "\n",
    "let tempFolder = createTempDirectory ()\n",
    "let path = tempFolder </> \"test.txt\"\n",
    "\n",
    "let lockFile () = async {\n",
    "    trace Debug (fun () -> \"_1\") getLocals\n",
    "    use _ = new FileStream (path, FileMode.Open, FileAccess.ReadWrite)\n",
    "    trace Debug (fun () -> \"_2\") getLocals\n",
    "    do! Async.Sleep 2000\n",
    "    trace Debug (fun () -> \"_3\") getLocals\n",
    "}\n",
    "\n",
    "async {\n",
    "    trace Debug (fun () -> \"1\") getLocals\n",
    "    do! File.WriteAllTextAsync (path, \"0\") |> Async.AwaitTask\n",
    "    trace Debug (fun () -> \"2\") getLocals\n",
    "    let! _ = lockFile () |> Async.StartChild\n",
    "    trace Debug (fun () -> \"3\") getLocals\n",
    "    do! Async.Sleep 1\n",
    "    trace Debug (fun () -> \"4\") getLocals\n",
    "    do! deleteFileAsync path\n",
    "    trace Debug (fun () -> \"5\") getLocals\n",
    "}\n",
    "|> Async.runWithTimeout 3000\n",
    "|> _equal (Some ())"
   ]
  },
  {
   "cell_type": "markdown",
   "metadata": {
    "dotnet_repl_cellExecutionStartTime": "2023-07-19T13:32:30.9160457-03:00",
    "dotnet_repl_cellExecutionEndTime": "2023-07-19T13:32:30.9191976-03:00",
    "dotnet_repl_cellExecutionTime": "3.1547ms"
   },
   "source": [
    "## MoveFileAsync"
   ]
  },
  {
   "cell_type": "code",
   "execution_count": null,
   "metadata": {
    "dotnet_repl_cellExecutionStartTime": "2023-07-19T13:32:30.9192357-03:00",
    "dotnet_repl_cellExecutionEndTime": "2023-07-19T13:32:31.0181502-03:00",
    "dotnet_repl_cellExecutionTime": "98.9161ms",
    "dotnet_interactive": {
     "language": "fsharp"
    },
    "polyglot_notebook": {
     "kernelName": "fsharp"
    }
   },
   "outputs": [],
   "source": [
    "let rec moveFileAsync newPath oldPath = async {\n",
    "    let rec loop retry = async {\n",
    "        try\n",
    "            System.IO.File.Move (oldPath, newPath)\n",
    "        with ex ->\n",
    "            if retry % 100 = 0 then\n",
    "                let getLocals () = $\"path: {path} / message: {ex.Message} / {getLocals ()}\"\n",
    "                trace Warn (fun () -> nameof moveFileAsync) getLocals\n",
    "            do! Async.Sleep 1\n",
    "            return! loop (retry + 1)\n",
    "    }\n",
    "    return! loop 0\n",
    "}"
   ]
  },
  {
   "cell_type": "code",
   "execution_count": null,
   "metadata": {
    "dotnet_repl_cellExecutionStartTime": "2023-07-19T13:32:31.0181782-03:00",
    "dotnet_repl_cellExecutionEndTime": "2023-07-19T13:32:33.2310295-03:00",
    "dotnet_repl_cellExecutionTime": "2.2128538s",
    "dotnet_interactive": {
     "language": "fsharp"
    },
    "polyglot_notebook": {
     "kernelName": "fsharp"
    }
   },
   "outputs": [
    {
     "name": "stdout",
     "output_type": "stream",
     "text": [
      "13:32:31 #38 [Debug] createTempDirectory / tempFolder: C:\\Users\\i574n\\AppData\\Local\\Temp\\!dotnet-repl\\20230719-1332-3117-1793-17a1d42bbd64 / result: { CreationTime = 2023-07-19 1:32:31 PM\n",
      "  Exists = true }\r\n",
      "13:32:31 #39 [Debug] 1\r\n",
      "13:32:31 #40 [Debug] 2\r\n",
      "13:32:31 #41 [Debug] 3\r\n",
      "13:32:31 #42 [Debug] _1\r\n",
      "13:32:31 #43 [Debug] _2\r\n",
      "13:32:31 #44 [Debug] 4\r\n",
      "13:32:31 #45 [Warn] moveFileAsync / path: C:\\Users\\i574n\\AppData\\Local\\Temp\\!dotnet-repl\\20230719-1332-2886-8667-8dfa5bd0973f\\test.txt / message: The process cannot access the file because it is being used by another process.\r\n",
      "13:32:32 #46 [Warn] moveFileAsync / path: C:\\Users\\i574n\\AppData\\Local\\Temp\\!dotnet-repl\\20230719-1332-2886-8667-8dfa5bd0973f\\test.txt / message: The process cannot access the file because it is being used by another process.\r\n",
      "13:32:33 #47 [Debug] _3\r\n",
      "13:32:33 #48 [Debug] 5\r\n",
      "FSharpOption<String>\r\n",
      "      Value: 0\r\n"
     ]
    }
   ],
   "source": [
    "//// test\n",
    "\n",
    "let tempFolder = createTempDirectory ()\n",
    "let path = tempFolder </> \"test.txt\"\n",
    "let newPath = tempFolder </> \"test2.txt\"\n",
    "\n",
    "let lockFile () = async {\n",
    "    trace Debug (fun () -> \"_1\") getLocals\n",
    "    use _ = new FileStream (path, FileMode.Open, FileAccess.ReadWrite)\n",
    "    trace Debug (fun () -> \"_2\") getLocals\n",
    "    do! Async.Sleep 2000\n",
    "    trace Debug (fun () -> \"_3\") getLocals\n",
    "}\n",
    "\n",
    "async {\n",
    "    trace Debug (fun () -> \"1\") getLocals\n",
    "    do! File.WriteAllTextAsync (path, \"0\") |> Async.AwaitTask\n",
    "    trace Debug (fun () -> \"2\") getLocals\n",
    "    let! _ = lockFile () |> Async.StartChild\n",
    "    trace Debug (fun () -> \"3\") getLocals\n",
    "    do! Async.Sleep 1\n",
    "    trace Debug (fun () -> \"4\") getLocals\n",
    "    do! path |> moveFileAsync newPath\n",
    "    trace Debug (fun () -> \"5\") getLocals\n",
    "    return File.ReadAllText newPath\n",
    "}\n",
    "|> Async.runWithTimeout 3000\n",
    "|> _equal (Some \"0\")"
   ]
  },
  {
   "cell_type": "markdown",
   "metadata": {
    "dotnet_repl_cellExecutionStartTime": "2023-07-19T13:32:33.2310977-03:00",
    "dotnet_repl_cellExecutionEndTime": "2023-07-19T13:32:33.2347111-03:00",
    "dotnet_repl_cellExecutionTime": "3.6166ms"
   },
   "source": [
    "## FileSystemWatcher"
   ]
  },
  {
   "cell_type": "code",
   "execution_count": null,
   "metadata": {
    "dotnet_repl_cellExecutionStartTime": "2023-07-19T13:32:33.2347725-03:00",
    "dotnet_repl_cellExecutionEndTime": "2023-07-19T13:32:33.6795109-03:00",
    "dotnet_repl_cellExecutionTime": "444.7401ms",
    "dotnet_interactive": {
     "language": "fsharp"
    },
    "polyglot_notebook": {
     "kernelName": "fsharp"
    }
   },
   "outputs": [],
   "source": [
    "[<RequireQualifiedAccess>]\n",
    "type FileSystemChangeType =\n",
    "    | Error\n",
    "    | Changed\n",
    "    | Created\n",
    "    | Deleted\n",
    "    | Renamed\n",
    "\n",
    "[<RequireQualifiedAccess>]\n",
    "type FileSystemChange =\n",
    "    | Error of exn: exn\n",
    "    | Changed of path: string * content: string option\n",
    "    | Created of path: string * content: string option\n",
    "    | Deleted of path: string\n",
    "    | Renamed of oldPath: string * (string * string option)\n",
    "\n",
    "\n",
    "let watchWithFilter filter shouldReadContent path =\n",
    "    let fullPath = System.IO.Path.GetFullPath path\n",
    "    let getLocals () = $\"fullPath: {fullPath} / filter: {filter} / {getLocals ()}\"\n",
    "\n",
    "    let watcher =\n",
    "        new System.IO.FileSystemWatcher (\n",
    "            Path = fullPath,\n",
    "            NotifyFilter = filter,\n",
    "            EnableRaisingEvents = true,\n",
    "            IncludeSubdirectories = true\n",
    "        )\n",
    "\n",
    "    let getEventPath (path : string) = path.Trim().Replace(fullPath, \"\").TrimStart [| '/'; '\\\\' |]\n",
    "\n",
    "    let ticks () = System.DateTime.UtcNow.Ticks\n",
    "\n",
    "    let readContent fullPath =\n",
    "        if not shouldReadContent\n",
    "        then None\n",
    "        else\n",
    "            try\n",
    "                waitForFileAccess fullPath |> Async.runWithTimeout 30000 |> ignore\n",
    "                System.IO.File.ReadAllText fullPath |> Some\n",
    "            with ex ->\n",
    "                trace Error (fun () -> $\"Failed to read file content: {ex.Message}\") getLocals\n",
    "                None\n",
    "\n",
    "    let changedStream =\n",
    "        AsyncSeq.subscribeEvent\n",
    "            watcher.Changed\n",
    "            (fun event ->\n",
    "                ticks (),\n",
    "                [ FileSystemChange.Changed (getEventPath event.FullPath, readContent event.FullPath) ]\n",
    "            )\n",
    "\n",
    "    let deletedStream =\n",
    "        AsyncSeq.subscribeEvent\n",
    "            watcher.Deleted\n",
    "            (fun event ->\n",
    "                ticks (),\n",
    "                [ FileSystemChange.Deleted (getEventPath event.FullPath) ]\n",
    "            )\n",
    "\n",
    "    let createdStream =\n",
    "        AsyncSeq.subscribeEvent\n",
    "            watcher.Created\n",
    "            (fun event ->\n",
    "                let path = getEventPath event.FullPath\n",
    "                let content = readContent event.FullPath\n",
    "                ticks (), [\n",
    "                    FileSystemChange.Created (path, content)\n",
    "                    if OS.isWindows () then\n",
    "                        FileSystemChange.Changed (path, content)\n",
    "                ])\n",
    "\n",
    "    let renamedStream =\n",
    "        AsyncSeq.subscribeEvent\n",
    "            watcher.Renamed\n",
    "            (fun event ->\n",
    "                ticks (), [\n",
    "                    FileSystemChange.Renamed (\n",
    "                        getEventPath event.OldFullPath,\n",
    "                        (getEventPath event.FullPath, readContent event.FullPath)\n",
    "                    )\n",
    "                ]\n",
    "            )\n",
    "\n",
    "    let errorStream =\n",
    "        AsyncSeq.subscribeEvent\n",
    "            watcher.Error\n",
    "            (fun event -> ticks (), [ FileSystemChange.Error (event.GetException ()) ])\n",
    "\n",
    "    let stream =\n",
    "        [\n",
    "            changedStream\n",
    "            deletedStream\n",
    "            createdStream\n",
    "            renamedStream\n",
    "            errorStream\n",
    "        ]\n",
    "        |> FSharp.Control.AsyncSeq.mergeAll\n",
    "        |> FSharp.Control.AsyncSeq.map (fun (n, events) ->\n",
    "            events\n",
    "            |> List.fold\n",
    "                (fun (i, events) event ->\n",
    "                    i + 1L,\n",
    "                    (n + i, event) :: events)\n",
    "                (0L, [])\n",
    "            |> snd\n",
    "            |> List.rev\n",
    "        )\n",
    "        |> FSharp.Control.AsyncSeq.concatSeq\n",
    "\n",
    "    let disposable =\n",
    "        Object.newDisposable (fun () ->\n",
    "            trace Debug (fun () -> \"Disposing watch stream\") getLocals\n",
    "            watcher.EnableRaisingEvents <- false\n",
    "            watcher.Dispose ()\n",
    "        )\n",
    "\n",
    "    stream, disposable\n",
    "\n",
    "let watch path =\n",
    "    watchWithFilter\n",
    "        (System.IO.NotifyFilters.Attributes\n",
    "        ||| System.IO.NotifyFilters.CreationTime\n",
    "        ||| System.IO.NotifyFilters.DirectoryName\n",
    "        ||| System.IO.NotifyFilters.FileName\n",
    "        //  ||| System.IO.NotifyFilters.LastAccess\n",
    "        //  ||| System.IO.NotifyFilters.LastWrite\n",
    "        ||| System.IO.NotifyFilters.Security\n",
    "        //  ||| System.IO.NotifyFilters.Size\n",
    "        )\n",
    "        path"
   ]
  },
  {
   "cell_type": "markdown",
   "metadata": {
    "dotnet_repl_cellExecutionStartTime": "2023-07-19T13:32:33.6795392-03:00",
    "dotnet_repl_cellExecutionEndTime": "2023-07-19T13:32:33.6824356-03:00",
    "dotnet_repl_cellExecutionTime": "2.8977ms"
   },
   "source": [
    "### testEventsRaw (test)"
   ]
  },
  {
   "cell_type": "code",
   "execution_count": null,
   "metadata": {
    "dotnet_repl_cellExecutionStartTime": "2023-07-19T13:32:33.6824557-03:00",
    "dotnet_repl_cellExecutionEndTime": "2023-07-19T13:32:33.9212807-03:00",
    "dotnet_repl_cellExecutionTime": "238.8268ms",
    "dotnet_interactive": {
     "language": "fsharp"
    },
    "polyglot_notebook": {
     "kernelName": "fsharp"
    }
   },
   "outputs": [],
   "source": [
    "//// test\n",
    "\n",
    "let testEventsRaw (watchFn : bool -> string -> FSharp.Control.AsyncSeq<int64 * FileSystemChange> * IDisposable) write =\n",
    "    let tempDirectory = createTempDirectory ()\n",
    "    let stream, disposable = watchFn true tempDirectory\n",
    "\n",
    "    let events = System.Collections.Concurrent.ConcurrentBag ()\n",
    "\n",
    "    let iter () =\n",
    "        stream\n",
    "        |> FSharp.Control.AsyncSeq.iterAsyncParallel (fun event -> async { events.Add event })\n",
    "\n",
    "    let run = async {\n",
    "        let! _ = iter () |> Async.StartChild\n",
    "        do! Async.Sleep 150\n",
    "        return! write tempDirectory\n",
    "    }\n",
    "\n",
    "    try\n",
    "        run\n",
    "        |> Async.runWithTimeout 10000\n",
    "        |> _equal (Some ())\n",
    "    finally\n",
    "        disposable.Dispose ()\n",
    "        deleteDirectoryAsync tempDirectory |> Async.RunSynchronously\n",
    "\n",
    "    let eventsLog =\n",
    "        events\n",
    "        |> Seq.toList\n",
    "        |> List.sortBy fst\n",
    "        |> List.fold\n",
    "            (fun (prev, acc) (ticks, event) -> ticks, (ticks, (if prev = 0L then 0L else ticks - prev), event) :: acc)\n",
    "            (0L, [])\n",
    "        |> snd\n",
    "        |> List.rev\n",
    "        |> List.map (fun (diff, n, event) ->\n",
    "            let text = $\"{n} / {diff} / {event}\"\n",
    "            text.Substring (0, min 100 text.Length)\n",
    "        )\n",
    "        |> String.concat \"\\n\"\n",
    "    let getLocals () = $\"eventsLog: \\n{eventsLog} / {getLocals ()}\"\n",
    "    trace Debug (fun () -> \"testEventsRaw\") getLocals\n",
    "\n",
    "    events\n",
    "    |> Seq.toList\n",
    "    |> List.sortBy fst\n",
    "    |> List.map snd\n",
    "    |> List.fold\n",
    "        (fun (map, acc) event ->\n",
    "            match event with\n",
    "            | FileSystemChange.Changed (path, (Some _ as content)) ->\n",
    "                if map |> Map.containsKey path && map.[path] = content\n",
    "                then map, acc\n",
    "                else (map |> Map.add path content), event :: acc\n",
    "            | FileSystemChange.Created (path, _)\n",
    "            | FileSystemChange.Deleted path ->\n",
    "                (map |> Map.remove path), event :: acc\n",
    "            | FileSystemChange.Renamed (oldPath, (newPath, content)) ->\n",
    "                (map |> Map.remove oldPath |> Map.remove newPath), event :: acc\n",
    "            | _ -> map, event :: acc\n",
    "        )\n",
    "        (Map.empty, [])\n",
    "    |> snd\n",
    "    |> List.rev"
   ]
  },
  {
   "cell_type": "code",
   "execution_count": null,
   "metadata": {
    "dotnet_repl_cellExecutionStartTime": "2023-07-19T13:32:33.9213108-03:00",
    "dotnet_repl_cellExecutionEndTime": "2023-07-19T13:32:34.7140359-03:00",
    "dotnet_repl_cellExecutionTime": "792.7267ms",
    "dotnet_interactive": {
     "language": "fsharp"
    },
    "polyglot_notebook": {
     "kernelName": "fsharp"
    }
   },
   "outputs": [
    {
     "name": "stdout",
     "output_type": "stream",
     "text": [
      "13:32:34 #49 [Debug] createTempDirectory / tempFolder: C:\\Users\\i574n\\AppData\\Local\\Temp\\!dotnet-repl\\20230719-1332-3427-2749-2427fd32d3ed / result: { CreationTime = 2023-07-19 1:32:34 PM\n",
      "  Exists = true }\r\n",
      "FSharpOption<Unit>\r\n",
      "      Value: <null>\r\n",
      "13:32:34 #50 [Debug] Disposing watch stream / fullPath: C:\\Users\\i574n\\AppData\\Local\\Temp\\!dotnet-repl\\20230719-1332-3427-2749-2427fd32d3ed / filter: FileName, DirectoryName, Attributes, CreationTime, Security\r\n",
      "13:32:34 #51 [Debug] testEventsRaw / eventsLog: \n",
      "0 / 638253811544554438 / Created (\"file1.txt\", Some \"a1\")\n",
      "1 / 638253811544554439 / Changed (\"file1.txt\", Some \"a1\")\n",
      "25627 / 638253811544580066 / Created (\"file2.txt\", Some \"a2\")\n",
      "1 / 638253811544580067 / Changed (\"file2.txt\", Some \"a2\")\n",
      "371532 / 638253811544951599 / Changed (\"file1.txt\", Some \"b1\")\n",
      "5673 / 638253811544957272 / Changed (\"file2.txt\", Some \"b2\")\n",
      "506621 / 638253811545463893 / Renamed (\"file1.txt\", (\"file_1.txt\", Some \"b1\"))\n",
      "19545 / 638253811545483438 / Renamed (\"file2.txt\", (\"file_2.txt\", Some \"b2\"))\n",
      "435675 / 638253811545919113 / Changed (\"file_1.txt\", Some \"c1\")\n",
      "22206 / 638253811545941319 / Changed (\"file_2.txt\", Some \"c2\")\n",
      "440473 / 638253811546381792 / Deleted \"file_1.txt\"\n",
      "5201 / 638253811546386993 / Deleted \"file_2.txt\"\r\n",
      "FSharpList<FileSystemChange>\r\n",
      "      - path: file1.txt\r\n",
      "        content: FSharpOption<String>\r\n",
      "          Value: a1\r\n",
      "      - path: file1.txt\r\n",
      "        content: FSharpOption<String>\r\n",
      "          Value: a1\r\n",
      "      - path: file2.txt\r\n",
      "        content: FSharpOption<String>\r\n",
      "          Value: a2\r\n",
      "      - path: file2.txt\r\n",
      "        content: FSharpOption<String>\r\n",
      "          Value: a2\r\n",
      "      - path: file1.txt\r\n",
      "        content: FSharpOption<String>\r\n",
      "          Value: b1\r\n",
      "      - path: file2.txt\r\n",
      "        content: FSharpOption<String>\r\n",
      "          Value: b2\r\n",
      "      - oldPath: file1.txt\r\n",
      "        Item2:         - file_1.txt\r\n",
      "        - FSharpOption<String>\r\n",
      "            Value: b1\r\n",
      "      - oldPath: file2.txt\r\n",
      "        Item2:         - file_2.txt\r\n",
      "        - FSharpOption<String>\r\n",
      "            Value: b2\r\n",
      "      - path: file_1.txt\r\n",
      "        content: FSharpOption<String>\r\n",
      "          Value: c1\r\n",
      "      - path: file_2.txt\r\n",
      "        content: FSharpOption<String>\r\n",
      "          Value: c2\r\n",
      "      - path: file_1.txt\r\n",
      "      - path: file_2.txt\r\n"
     ]
    }
   ],
   "source": [
    "//// test\n",
    "\n",
    "let write path = async {\n",
    "    let n = 2\n",
    "\n",
    "    for i = 1 to n do\n",
    "        do! System.IO.File.WriteAllTextAsync (path </> $\"file{i}.txt\", $\"a{i}\") |> Async.AwaitTask\n",
    "\n",
    "    do! Async.Sleep 30\n",
    "\n",
    "    for i = 1 to n do\n",
    "        do! System.IO.File.WriteAllTextAsync (path </> $\"file{i}.txt\", $\"b{i}\") |> Async.AwaitTask\n",
    "\n",
    "    do! Async.Sleep 30\n",
    "\n",
    "    for i = 1 to n do\n",
    "        do! path </> $\"file{i}.txt\" |> moveFileAsync (path </> $\"file_{i}.txt\")\n",
    "\n",
    "    do! Async.Sleep 30\n",
    "\n",
    "    for i = 1 to n do\n",
    "        do! System.IO.File.WriteAllTextAsync (path </> $\"file_{i}.txt\", $\"c{i}\") |> Async.AwaitTask\n",
    "\n",
    "    do! Async.Sleep 30\n",
    "\n",
    "    for i = 1 to n do\n",
    "        do! deleteFileAsync (path </> $\"file_{i}.txt\")\n",
    "}\n",
    "\n",
    "let events = testEventsRaw watch write\n",
    "\n",
    "events\n",
    "|> _sequenceEqual [\n",
    "    FileSystemChange.Created (\"file1.txt\", Some \"a1\")\n",
    "    FileSystemChange.Changed (\"file1.txt\", Some \"a1\")\n",
    "    FileSystemChange.Created (\"file2.txt\", Some \"a2\")\n",
    "    FileSystemChange.Changed (\"file2.txt\", Some \"a2\")\n",
    "\n",
    "    FileSystemChange.Changed (\"file1.txt\", Some \"b1\")\n",
    "    FileSystemChange.Changed (\"file2.txt\", Some \"b2\")\n",
    "\n",
    "    FileSystemChange.Renamed (\"file1.txt\", (\"file_1.txt\", Some \"b1\"))\n",
    "    FileSystemChange.Renamed (\"file2.txt\", (\"file_2.txt\", Some \"b2\"))\n",
    "\n",
    "    FileSystemChange.Changed (\"file_1.txt\", Some \"c1\")\n",
    "    FileSystemChange.Changed (\"file_2.txt\", Some \"c2\")\n",
    "\n",
    "    FileSystemChange.Deleted \"file_1.txt\"\n",
    "    FileSystemChange.Deleted \"file_2.txt\"\n",
    "]"
   ]
  },
  {
   "cell_type": "markdown",
   "metadata": {
    "dotnet_repl_cellExecutionStartTime": "2023-07-19T13:32:34.714073-03:00",
    "dotnet_repl_cellExecutionEndTime": "2023-07-19T13:32:34.7171717-03:00",
    "dotnet_repl_cellExecutionTime": "3.1008ms"
   },
   "source": [
    "### testEventsSorted (test)"
   ]
  },
  {
   "cell_type": "code",
   "execution_count": null,
   "metadata": {
    "dotnet_repl_cellExecutionStartTime": "2023-07-19T13:32:34.7172021-03:00",
    "dotnet_repl_cellExecutionEndTime": "2023-07-19T13:32:36.0922056-03:00",
    "dotnet_repl_cellExecutionTime": "1.3750062s",
    "dotnet_interactive": {
     "language": "fsharp"
    },
    "polyglot_notebook": {
     "kernelName": "fsharp"
    }
   },
   "outputs": [
    {
     "name": "stdout",
     "output_type": "stream",
     "text": [
      "13:32:35 #52 [Debug] createTempDirectory / tempFolder: C:\\Users\\i574n\\AppData\\Local\\Temp\\!dotnet-repl\\20230719-1332-3511-1118-14502bdb3f71 / result: { CreationTime = 2023-07-19 1:32:35 PM\n",
      "  Exists = true }\r\n",
      "13:32:35 #53 [Warn] waitForFileAccess / path: C:\\Users\\i574n\\AppData\\Local\\Temp\\!dotnet-repl\\20230719-1332-3511-1118-14502bdb3f71\\file1.txt / message: The process cannot access the file 'C:\\Users\\i574n\\AppData\\Local\\Temp\\!dotnet-repl\\20230719-1332-3511-1118-14502bdb3f71\\file1.txt' because it is being used by another process.\r\n",
      "13:32:35 #54 [Warn] waitForFileAccess / path: C:\\Users\\i574n\\AppData\\Local\\Temp\\!dotnet-repl\\20230719-1332-3511-1118-14502bdb3f71\\file2.txt / message: The process cannot access the file 'C:\\Users\\i574n\\AppData\\Local\\Temp\\!dotnet-repl\\20230719-1332-3511-1118-14502bdb3f71\\file2.txt' because it is being used by another process.\r\n",
      "13:32:35 #55 [Warn] waitForFileAccess / path: C:\\Users\\i574n\\AppData\\Local\\Temp\\!dotnet-repl\\20230719-1332-3511-1118-14502bdb3f71\\file1.txt / message: The process cannot access the file 'C:\\Users\\i574n\\AppData\\Local\\Temp\\!dotnet-repl\\20230719-1332-3511-1118-14502bdb3f71\\file1.txt' because it is being used by another process.\r\n",
      "13:32:35 #56 [Warn] waitForFileAccess / path: C:\\Users\\i574n\\AppData\\Local\\Temp\\!dotnet-repl\\20230719-1332-3511-1118-14502bdb3f71\\file_1.txt / message: The process cannot access the file 'C:\\Users\\i574n\\AppData\\Local\\Temp\\!dotnet-repl\\20230719-1332-3511-1118-14502bdb3f71\\file_1.txt' because it is being used by another process.\r\n",
      "13:32:35 #57 [Warn] waitForFileAccess / path: C:\\Users\\i574n\\AppData\\Local\\Temp\\!dotnet-repl\\20230719-1332-3511-1118-14502bdb3f71\\file_2.txt / message: The process cannot access the file 'C:\\Users\\i574n\\AppData\\Local\\Temp\\!dotnet-repl\\20230719-1332-3511-1118-14502bdb3f71\\file_2.txt' because it is being used by another process.\r\n",
      "FSharpOption<Unit>\r\n",
      "      Value: <null>\r\n",
      "13:32:35 #58 [Debug] Disposing watch stream / fullPath: C:\\Users\\i574n\\AppData\\Local\\Temp\\!dotnet-repl\\20230719-1332-3511-1118-14502bdb3f71 / filter: FileName, DirectoryName, Attributes, CreationTime, Security\r\n",
      "13:32:35 #59 [Debug] testEventsRaw / eventsLog: \n",
      "0 / 638253811553500258 / Created\n",
      "  (\"file1.txt\",\n",
      "   Some\n",
      "     \"a111111111111111111111111111111111111\n",
      "1 / 638253811553500259 / Changed\n",
      "  (\"file1.txt\",\n",
      "   Some\n",
      "     \"a111111111111111111111111111111111111\n",
      "252917 / 638253811553753176 / Created\n",
      "  (\"file2.txt\",\n",
      "   Some\n",
      "     \"a2222222222222222222222222222222\n",
      "1 / 638253811553753177 / Changed\n",
      "  (\"file2.txt\",\n",
      "   Some\n",
      "     \"a222222222222222222222222222222222222\n",
      "319094 / 638253811554072271 / Changed\n",
      "  (\"file1.txt\",\n",
      "   Some\n",
      "     \"b1111111111111111111111111111111\n",
      "309837 / 638253811554382108 / Changed\n",
      "  (\"file2.txt\",\n",
      "   Some\n",
      "     \"b2222222222222222222222222222222\n",
      "454749 / 638253811554836857 / Renamed\n",
      "  (\"file1.txt\",\n",
      "   (\"file_1.txt\",\n",
      "    Some\n",
      "      \"b11111111111\n",
      "39922 / 638253811554876779 / Renamed\n",
      "  (\"file2.txt\",\n",
      "   (\"file_2.txt\",\n",
      "    Some\n",
      "      \"b222222222222\n",
      "592775 / 638253811555469554 / Changed\n",
      "  (\"file_1.txt\",\n",
      "   Some\n",
      "     \"c111111111111111111111111111111\n",
      "374841 / 638253811555844395 / Changed\n",
      "  (\"file_2.txt\",\n",
      "   Some\n",
      "     \"c222222222222222222222222222222\n",
      "549376 / 638253811556393771 / Deleted \"file_1.txt\"\n",
      "7962 / 638253811556401733 / Deleted \"file_2.txt\"\r\n",
      "FSharpList<FileSystemChange>\r\n",
      "      - path: file1.txt\r\n",
      "        content: FSharpOption<String>\r\n",
      "          Value: a1\r\n",
      "      - path: file1.txt\r\n",
      "        content: FSharpOption<String>\r\n",
      "          Value: a1\r\n",
      "      - path: file2.txt\r\n",
      "        content: FSharpOption<String>\r\n",
      "          Value: a2\r\n",
      "      - path: file2.txt\r\n",
      "        content: FSharpOption<String>\r\n",
      "          Value: a2\r\n",
      "      - path: file1.txt\r\n",
      "        content: FSharpOption<String>\r\n",
      "          Value: b1\r\n",
      "      - path: file2.txt\r\n",
      "        content: FSharpOption<String>\r\n",
      "          Value: b2\r\n",
      "      - oldPath: file1.txt\r\n",
      "        Item2:         - file_1.txt\r\n",
      "        - FSharpOption<String>\r\n",
      "            Value: b1\r\n",
      "      - oldPath: file2.txt\r\n",
      "        Item2:         - file_2.txt\r\n",
      "        - FSharpOption<String>\r\n",
      "            Value: b2\r\n",
      "      - path: file_1.txt\r\n",
      "        content: FSharpOption<String>\r\n",
      "          Value: c1\r\n",
      "      - path: file_2.txt\r\n",
      "        content: FSharpOption<String>\r\n",
      "          Value: c2\r\n",
      "      - path: file_1.txt\r\n",
      "      - path: file_2.txt\r\n"
     ]
    }
   ],
   "source": [
    "//// test\n",
    "\n",
    "let write path = async {\n",
    "    let n = 2\n",
    "\n",
    "    try\n",
    "        let contents =\n",
    "            [1..n]\n",
    "            |> List.map (fun i -> String.replicate 1_000_000 (string i))\n",
    "\n",
    "        for i = 1 to n do\n",
    "            do! System.IO.File.WriteAllTextAsync (path </> $\"file{i}.txt\", $\"a{contents.[i - 1]}\") |> Async.AwaitTask\n",
    "\n",
    "        do! Async.Sleep 30\n",
    "\n",
    "        for i = 1 to n do\n",
    "            do! System.IO.File.WriteAllTextAsync (path </> $\"file{i}.txt\", $\"b{contents.[i - 1]}\") |> Async.AwaitTask\n",
    "\n",
    "        do! Async.Sleep 30\n",
    "\n",
    "        for i = 1 to n do\n",
    "            do! path </> $\"file{i}.txt\" |> moveFileAsync (path </> $\"file_{i}.txt\")\n",
    "\n",
    "        do! Async.Sleep 30\n",
    "\n",
    "        for i = 1 to n do\n",
    "            do! System.IO.File.WriteAllTextAsync (path </> $\"file_{i}.txt\", $\"c{contents.[i - 1]}\") |> Async.AwaitTask\n",
    "\n",
    "        do! Async.Sleep 30\n",
    "\n",
    "        for i = 1 to n do\n",
    "            do! deleteFileAsync (path </> $\"file_{i}.txt\")\n",
    "    with ex ->\n",
    "        trace Error (fun () -> $\"write: {ex.Message}\") getLocals\n",
    "}\n",
    "\n",
    "let events =\n",
    "    testEventsRaw watch write\n",
    "    |> List.map (function\n",
    "        | FileSystemChange.Changed (path, Some content) ->\n",
    "            FileSystemChange.Changed (path, content |> Seq.distinct |> Seq.map string |> String.concat \"\" |> Some)\n",
    "        | FileSystemChange.Created (path, Some content) ->\n",
    "            FileSystemChange.Created (path, content |> Seq.distinct |> Seq.map string |> String.concat \"\" |> Some)\n",
    "        | FileSystemChange.Renamed (oldPath, (newPath, Some content)) ->\n",
    "            FileSystemChange.Renamed (\n",
    "                oldPath,\n",
    "                (newPath, content |> Seq.distinct |> Seq.map string |> String.concat \"\" |> Some)\n",
    "            )\n",
    "        | event -> event\n",
    "    )\n",
    "\n",
    "events\n",
    "|> _sequenceEqual [\n",
    "    FileSystemChange.Created (\"file1.txt\", Some \"a1\")\n",
    "    FileSystemChange.Changed (\"file1.txt\", Some \"a1\")\n",
    "    FileSystemChange.Created (\"file2.txt\", Some \"a2\")\n",
    "    FileSystemChange.Changed (\"file2.txt\", Some \"a2\")\n",
    "\n",
    "    FileSystemChange.Changed (\"file1.txt\", Some \"b1\")\n",
    "    FileSystemChange.Changed (\"file2.txt\", Some \"b2\")\n",
    "\n",
    "    FileSystemChange.Renamed (\"file1.txt\", (\"file_1.txt\", Some \"b1\"))\n",
    "    FileSystemChange.Renamed (\"file2.txt\", (\"file_2.txt\", Some \"b2\"))\n",
    "\n",
    "    FileSystemChange.Changed (\"file_1.txt\", Some \"c1\")\n",
    "    FileSystemChange.Changed (\"file_2.txt\", Some \"c2\")\n",
    "\n",
    "    FileSystemChange.Deleted \"file_1.txt\"\n",
    "    FileSystemChange.Deleted \"file_2.txt\"\n",
    "]"
   ]
  },
  {
   "cell_type": "code",
   "execution_count": null,
   "metadata": {
    "dotnet_repl_cellExecutionStartTime": "2023-07-19T13:32:36.0922471-03:00",
    "dotnet_repl_cellExecutionEndTime": "2023-07-19T13:32:36.4720855-03:00",
    "dotnet_repl_cellExecutionTime": "379.8416ms",
    "dotnet_interactive": {
     "language": "fsharp"
    },
    "polyglot_notebook": {
     "kernelName": "fsharp"
    }
   },
   "outputs": [],
   "source": [
    "//// test\n",
    "\n",
    "let sortEvent event =\n",
    "    match event with\n",
    "    | FileSystemChange.Error _ -> 0\n",
    "    | FileSystemChange.Created _ -> 1\n",
    "    | FileSystemChange.Changed _ -> 2\n",
    "    | FileSystemChange.Renamed (_oldPath, _) -> 3\n",
    "    | FileSystemChange.Deleted _ -> 4\n",
    "\n",
    "let formatEvents events =\n",
    "    events\n",
    "    |> Seq.toList\n",
    "    |> List.sortBy (snd >> sortEvent)\n",
    "    |> List.choose (fun (ticks, event) ->\n",
    "        match event with\n",
    "        | FileSystemChange.Error _ ->\n",
    "            None\n",
    "        | FileSystemChange.Changed (path, _) ->\n",
    "            Some (ticks, System.IO.Path.GetFileName path, nameof FileSystemChangeType.Changed)\n",
    "        | FileSystemChange.Created (path, _) ->\n",
    "            Some (ticks, System.IO.Path.GetFileName path, nameof FileSystemChangeType.Created)\n",
    "        | FileSystemChange.Deleted path ->\n",
    "            Some (ticks, System.IO.Path.GetFileName path, nameof FileSystemChangeType.Deleted)\n",
    "        | FileSystemChange.Renamed (_oldPath, (path, _)) ->\n",
    "            Some (ticks, System.IO.Path.GetFileName path, nameof FileSystemChangeType.Renamed)\n",
    "    )\n",
    "    |> List.sortBy (fun (_, path, _) -> path)\n",
    "    |> List.distinctBy (fun (_, path, event) -> path, event)\n",
    "\n",
    "let testEventsSorted (watchFn : string -> FSharp.Control.AsyncSeq<int64 * FileSystemChange> * IDisposable) write =\n",
    "    let path = createTempDirectory ()\n",
    "    let stream, disposable = watchFn path\n",
    "\n",
    "    let events = System.Collections.Concurrent.ConcurrentBag ()\n",
    "\n",
    "    let iter () =\n",
    "        stream\n",
    "        |> FSharp.Control.AsyncSeq.iterAsyncParallel (fun event -> async { events.Add event })\n",
    "\n",
    "    let run = async {\n",
    "        let! child = iter () |> Async.StartChild\n",
    "        do! Async.Sleep 150\n",
    "        do! write path\n",
    "        do! child\n",
    "    }\n",
    "\n",
    "    try\n",
    "        run\n",
    "        |> Async.runWithTimeout 500\n",
    "        |> ignore\n",
    "    finally\n",
    "        disposable.Dispose ()\n",
    "        deleteDirectoryAsync path |> Async.RunSynchronously\n",
    "\n",
    "    let events = formatEvents events\n",
    "\n",
    "    let eventMap =\n",
    "        events\n",
    "        |> List.map (fun (ticks, path, event) -> path, (event, ticks))\n",
    "        |> List.groupBy fst\n",
    "        |> List.map (fun (path, events) ->\n",
    "            let event, _ticks =\n",
    "                events\n",
    "                |> List.map snd\n",
    "                |> List.sortByDescending snd\n",
    "                |> List.head\n",
    "\n",
    "            path, event\n",
    "        )\n",
    "        |> Map.ofList\n",
    "\n",
    "    let eventList =\n",
    "        events\n",
    "        |> List.map (fun (_ticks, path, event) -> path, event)\n",
    "\n",
    "    eventMap, eventList"
   ]
  },
  {
   "cell_type": "markdown",
   "metadata": {
    "dotnet_repl_cellExecutionStartTime": "2023-07-19T13:32:36.4721719-03:00",
    "dotnet_repl_cellExecutionEndTime": "2023-07-19T13:32:36.4764877-03:00",
    "dotnet_repl_cellExecutionTime": "4.319ms"
   },
   "source": [
    "#### create and delete (test)"
   ]
  },
  {
   "cell_type": "code",
   "execution_count": null,
   "metadata": {
    "dotnet_repl_cellExecutionStartTime": "2023-07-19T13:32:36.4765269-03:00",
    "dotnet_repl_cellExecutionEndTime": "2023-07-19T13:32:37.2507498-03:00",
    "dotnet_repl_cellExecutionTime": "774.2257ms",
    "dotnet_interactive": {
     "language": "fsharp"
    },
    "polyglot_notebook": {
     "kernelName": "fsharp"
    }
   },
   "outputs": [
    {
     "name": "stdout",
     "output_type": "stream",
     "text": [
      "13:32:36 #60 [Debug] createTempDirectory / tempFolder: C:\\Users\\i574n\\AppData\\Local\\Temp\\!dotnet-repl\\20230719-1332-3665-6519-67506c107368 / result: { CreationTime = 2023-07-19 1:32:36 PM\n",
      "  Exists = true }\r\n",
      "13:32:37 #61 [Debug] runWithTimeout / timeout: 500 / exception: The operation has timed out.\r\n",
      "13:32:37 #62 [Debug] Disposing watch stream / fullPath: C:\\Users\\i574n\\AppData\\Local\\Temp\\!dotnet-repl\\20230719-1332-3665-6519-67506c107368 / filter: FileName, DirectoryName, Attributes, CreationTime, Security\r\n",
      "FSharpList<Tuple<String,String>>\r\n",
      "( file1.txt, Created )\r\n",
      "( file1.txt, Changed )\r\n",
      "( file1.txt, Deleted )\r\n",
      "( file2.txt, Created )\r\n",
      "( file2.txt, Changed )\r\n",
      "( file2.txt, Deleted )\r\n",
      "( file3.txt, Created )\r\n",
      "( file3.txt, Changed )\r\n",
      "( file3.txt, Deleted )\r\n",
      "FSharpMap<String,String>\r\n",
      "      - Key: file1.txt\r\n",
      "        Value: Deleted\r\n",
      "      - Key: file2.txt\r\n",
      "        Value: Deleted\r\n",
      "      - Key: file3.txt\r\n",
      "        Value: Deleted\r\n"
     ]
    }
   ],
   "source": [
    "//// test\n",
    "\n",
    "let write path = async {\n",
    "    let n = 3\n",
    "\n",
    "    for i = 1 to n do\n",
    "        do! System.IO.File.WriteAllTextAsync (path </> $\"file{i}.txt\", $\"{i}\") |> Async.AwaitTask\n",
    "\n",
    "    for i = 1 to n do\n",
    "        do! deleteFileAsync (path </> $\"file{i}.txt\")\n",
    "}\n",
    "\n",
    "let eventMap, eventList = testEventsSorted (watch false) write\n",
    "\n",
    "[\n",
    "    \"file1.txt\", nameof FileSystemChangeType.Created\n",
    "    \"file1.txt\", nameof FileSystemChangeType.Changed\n",
    "    \"file1.txt\", nameof FileSystemChangeType.Deleted\n",
    "\n",
    "    \"file2.txt\", nameof FileSystemChangeType.Created\n",
    "    \"file2.txt\", nameof FileSystemChangeType.Changed\n",
    "    \"file2.txt\", nameof FileSystemChangeType.Deleted\n",
    "\n",
    "    \"file3.txt\", nameof FileSystemChangeType.Created\n",
    "    \"file3.txt\", nameof FileSystemChangeType.Changed\n",
    "    \"file3.txt\", nameof FileSystemChangeType.Deleted\n",
    "]\n",
    "|> _sequenceEqual eventList\n",
    "\n",
    "[\n",
    "    \"file1.txt\", nameof FileSystemChangeType.Deleted\n",
    "    \"file2.txt\", nameof FileSystemChangeType.Deleted\n",
    "    \"file3.txt\", nameof FileSystemChangeType.Deleted\n",
    "]\n",
    "|> Map.ofList\n",
    "|> _sequenceEqual eventMap"
   ]
  },
  {
   "cell_type": "markdown",
   "metadata": {
    "dotnet_repl_cellExecutionStartTime": "2023-07-19T13:32:37.2507963-03:00",
    "dotnet_repl_cellExecutionEndTime": "2023-07-19T13:32:37.2543197-03:00",
    "dotnet_repl_cellExecutionTime": "3.5262ms"
   },
   "source": [
    "#### change (test)"
   ]
  },
  {
   "cell_type": "code",
   "execution_count": null,
   "metadata": {
    "dotnet_repl_cellExecutionStartTime": "2023-07-19T13:32:37.2543498-03:00",
    "dotnet_repl_cellExecutionEndTime": "2023-07-19T13:32:37.978104-03:00",
    "dotnet_repl_cellExecutionTime": "723.7565ms",
    "dotnet_interactive": {
     "language": "fsharp"
    },
    "polyglot_notebook": {
     "kernelName": "fsharp"
    }
   },
   "outputs": [
    {
     "name": "stdout",
     "output_type": "stream",
     "text": [
      "13:32:37 #63 [Debug] createTempDirectory / tempFolder: C:\\Users\\i574n\\AppData\\Local\\Temp\\!dotnet-repl\\20230719-1332-3744-4403-469314f307a7 / result: { CreationTime = 2023-07-19 1:32:37 PM\n",
      "  Exists = true }\r\n",
      "13:32:37 #64 [Debug] runWithTimeout / timeout: 500 / exception: The operation has timed out.\r\n",
      "13:32:37 #65 [Debug] Disposing watch stream / fullPath: C:\\Users\\i574n\\AppData\\Local\\Temp\\!dotnet-repl\\20230719-1332-3744-4403-469314f307a7 / filter: FileName, DirectoryName, Attributes, CreationTime, Security\r\n",
      "FSharpList<Tuple<String,String>>\r\n",
      "( file1.txt, Created )\r\n",
      "( file1.txt, Changed )\r\n",
      "( file1.txt, Deleted )\r\n",
      "( file2.txt, Created )\r\n",
      "( file2.txt, Changed )\r\n",
      "( file2.txt, Deleted )\r\n",
      "FSharpMap<String,String>\r\n",
      "      - Key: file1.txt\r\n",
      "        Value: Deleted\r\n",
      "      - Key: file2.txt\r\n",
      "        Value: Deleted\r\n"
     ]
    }
   ],
   "source": [
    "//// test\n",
    "\n",
    "let write path = async {\n",
    "    let n = 2\n",
    "\n",
    "    for i = 1 to n do\n",
    "        do! System.IO.File.WriteAllTextAsync (path </> $\"file{i}.txt\", $\"{i}\") |> Async.AwaitTask\n",
    "\n",
    "    for i = 1 to n do\n",
    "        do! System.IO.File.WriteAllTextAsync (path </> $\"file{i}.txt\", \"\") |> Async.AwaitTask\n",
    "\n",
    "    for i = 1 to n do\n",
    "        do! deleteFileAsync (path </> $\"file{i}.txt\")\n",
    "}\n",
    "\n",
    "let eventMap, eventList = testEventsSorted (watch false) write\n",
    "\n",
    "[\n",
    "    \"file1.txt\", nameof FileSystemChangeType.Created\n",
    "    \"file1.txt\", nameof FileSystemChangeType.Changed\n",
    "    \"file1.txt\", nameof FileSystemChangeType.Deleted\n",
    "\n",
    "    \"file2.txt\", nameof FileSystemChangeType.Created\n",
    "    \"file2.txt\", nameof FileSystemChangeType.Changed\n",
    "    \"file2.txt\", nameof FileSystemChangeType.Deleted\n",
    "]\n",
    "|> _sequenceEqual eventList\n",
    "\n",
    "[\n",
    "    \"file1.txt\", nameof FileSystemChangeType.Deleted\n",
    "    \"file2.txt\", nameof FileSystemChangeType.Deleted\n",
    "]\n",
    "|> Map.ofList\n",
    "|> _sequenceEqual eventMap"
   ]
  },
  {
   "cell_type": "markdown",
   "metadata": {
    "dotnet_repl_cellExecutionStartTime": "2023-07-19T13:32:37.9781479-03:00",
    "dotnet_repl_cellExecutionEndTime": "2023-07-19T13:32:37.981229-03:00",
    "dotnet_repl_cellExecutionTime": "3.0857ms"
   },
   "source": [
    "#### rename (test)"
   ]
  },
  {
   "cell_type": "code",
   "execution_count": null,
   "metadata": {
    "dotnet_repl_cellExecutionStartTime": "2023-07-19T13:32:37.9812592-03:00",
    "dotnet_repl_cellExecutionEndTime": "2023-07-19T13:32:38.690618-03:00",
    "dotnet_repl_cellExecutionTime": "709.3623ms",
    "dotnet_interactive": {
     "language": "fsharp"
    },
    "polyglot_notebook": {
     "kernelName": "fsharp"
    }
   },
   "outputs": [
    {
     "name": "stdout",
     "output_type": "stream",
     "text": [
      "13:32:38 #66 [Debug] createTempDirectory / tempFolder: C:\\Users\\i574n\\AppData\\Local\\Temp\\!dotnet-repl\\20230719-1332-3814-1418-1da0d382b670 / result: { CreationTime = 2023-07-19 1:32:38 PM\n",
      "  Exists = true }\r\n",
      "13:32:38 #67 [Debug] runWithTimeout / timeout: 500 / exception: The operation has timed out.\r\n",
      "13:32:38 #68 [Debug] Disposing watch stream / fullPath: C:\\Users\\i574n\\AppData\\Local\\Temp\\!dotnet-repl\\20230719-1332-3814-1418-1da0d382b670 / filter: FileName, DirectoryName, Attributes, CreationTime, Security\r\n",
      "FSharpList<Tuple<String,String>>\r\n",
      "( file1.txt, Created )\r\n",
      "( file1.txt, Changed )\r\n",
      "( file2.txt, Created )\r\n",
      "( file2.txt, Changed )\r\n",
      "( file_1.txt, Renamed )\r\n",
      "( file_1.txt, Deleted )\r\n",
      "( file_2.txt, Renamed )\r\n",
      "( file_2.txt, Deleted )\r\n",
      "FSharpMap<String,String>\r\n",
      "      - Key: file1.txt\r\n",
      "        Value: Changed\r\n",
      "      - Key: file2.txt\r\n",
      "        Value: Changed\r\n",
      "      - Key: file_1.txt\r\n",
      "        Value: Deleted\r\n",
      "      - Key: file_2.txt\r\n",
      "        Value: Deleted\r\n"
     ]
    }
   ],
   "source": [
    "//// test\n",
    "\n",
    "let write path = async {\n",
    "    let n = 2\n",
    "\n",
    "    for i = 1 to n do\n",
    "        do! System.IO.File.WriteAllTextAsync (path </> $\"file{i}.txt\", $\"{i}\") |> Async.AwaitTask\n",
    "\n",
    "    for i = 1 to n do\n",
    "        do! path </> $\"file{i}.txt\" |> moveFileAsync (path </> $\"file_{i}.txt\")\n",
    "\n",
    "    for i = 1 to n do\n",
    "        do! deleteFileAsync (path </> $\"file_{i}.txt\")\n",
    "}\n",
    "\n",
    "let eventMap, eventList = testEventsSorted (watch false) write\n",
    "\n",
    "[\n",
    "    \"file1.txt\", nameof FileSystemChangeType.Created\n",
    "    \"file1.txt\", nameof FileSystemChangeType.Changed\n",
    "    \"file2.txt\", nameof FileSystemChangeType.Created\n",
    "    \"file2.txt\", nameof FileSystemChangeType.Changed\n",
    "\n",
    "    \"file_1.txt\", nameof FileSystemChangeType.Renamed\n",
    "    \"file_1.txt\", nameof FileSystemChangeType.Deleted\n",
    "\n",
    "    \"file_2.txt\", nameof FileSystemChangeType.Renamed\n",
    "    \"file_2.txt\", nameof FileSystemChangeType.Deleted\n",
    "]\n",
    "|> _sequenceEqual eventList\n",
    "\n",
    "[\n",
    "    \"file1.txt\", nameof FileSystemChangeType.Changed\n",
    "    \"file2.txt\", nameof FileSystemChangeType.Changed\n",
    "    \"file_1.txt\", nameof FileSystemChangeType.Deleted\n",
    "    \"file_2.txt\", nameof FileSystemChangeType.Deleted\n",
    "]\n",
    "|> Map.ofList\n",
    "|> _sequenceEqual eventMap"
   ]
  },
  {
   "cell_type": "markdown",
   "metadata": {
    "dotnet_repl_cellExecutionStartTime": "2023-07-19T13:32:38.6906686-03:00",
    "dotnet_repl_cellExecutionEndTime": "2023-07-19T13:32:38.695496-03:00",
    "dotnet_repl_cellExecutionTime": "4.8351ms"
   },
   "source": [
    "#### full (test)"
   ]
  },
  {
   "cell_type": "code",
   "execution_count": null,
   "metadata": {
    "dotnet_repl_cellExecutionStartTime": "2023-07-19T13:32:38.6955412-03:00",
    "dotnet_repl_cellExecutionEndTime": "2023-07-19T13:32:39.5995333-03:00",
    "dotnet_repl_cellExecutionTime": "903.9943ms",
    "dotnet_interactive": {
     "language": "fsharp"
    },
    "polyglot_notebook": {
     "kernelName": "fsharp"
    }
   },
   "outputs": [
    {
     "name": "stdout",
     "output_type": "stream",
     "text": [
      "13:32:39 #69 [Debug] createTempDirectory / tempFolder: C:\\Users\\i574n\\AppData\\Local\\Temp\\!dotnet-repl\\20230719-1332-3905-0524-04daac22c858 / result: { CreationTime = 2023-07-19 1:32:39 PM\n",
      "  Exists = true }\r\n",
      "13:32:39 #70 [Debug] runWithTimeout / timeout: 500 / exception: The operation has timed out.\r\n",
      "13:32:39 #71 [Debug] Disposing watch stream / fullPath: C:\\Users\\i574n\\AppData\\Local\\Temp\\!dotnet-repl\\20230719-1332-3905-0524-04daac22c858 / filter: FileName, DirectoryName, Attributes, CreationTime, Security\r\n",
      "FSharpList<Tuple<String,String>>\r\n",
      "( file1.txt, Created )\r\n",
      "( file1.txt, Changed )\r\n",
      "( file2.txt, Created )\r\n",
      "( file2.txt, Changed )\r\n",
      "( file_1.txt, Changed )\r\n",
      "( file_1.txt, Renamed )\r\n",
      "( file_1.txt, Deleted )\r\n",
      "( file_2.txt, Changed )\r\n",
      "( file_2.txt, Renamed )\r\n",
      "( file_2.txt, Deleted )\r\n",
      "FSharpMap<String,String>\r\n",
      "      - Key: file1.txt\r\n",
      "        Value: Changed\r\n",
      "      - Key: file2.txt\r\n",
      "        Value: Changed\r\n",
      "      - Key: file_1.txt\r\n",
      "        Value: Deleted\r\n",
      "      - Key: file_2.txt\r\n",
      "        Value: Deleted\r\n"
     ]
    }
   ],
   "source": [
    "//// test\n",
    "\n",
    "let write path = async {\n",
    "    let n = 2\n",
    "\n",
    "    for i = 1 to n do\n",
    "        do! System.IO.File.WriteAllTextAsync (path </> $\"file{i}.txt\", $\"{i}\") |> Async.AwaitTask\n",
    "\n",
    "    for i = 1 to n do\n",
    "        do! System.IO.File.WriteAllTextAsync (path </> $\"file{i}.txt\", \"\") |> Async.AwaitTask\n",
    "\n",
    "    for i = 1 to n do\n",
    "        do! path </> $\"file{i}.txt\" |> moveFileAsync (path </> $\"file_{i}.txt\")\n",
    "\n",
    "    for i = 1 to n do\n",
    "        do! System.IO.File.WriteAllTextAsync (path </> $\"file_{i}.txt\", $\"{i}\") |> Async.AwaitTask\n",
    "\n",
    "    for i = 1 to n do\n",
    "        do! deleteFileAsync (path </> $\"file_{i}.txt\")\n",
    "}\n",
    "\n",
    "let eventMap, eventList = testEventsSorted (watch false) write\n",
    "\n",
    "[\n",
    "    \"file1.txt\", nameof FileSystemChangeType.Created\n",
    "    \"file1.txt\", nameof FileSystemChangeType.Changed\n",
    "    \"file2.txt\", nameof FileSystemChangeType.Created\n",
    "    \"file2.txt\", nameof FileSystemChangeType.Changed\n",
    "\n",
    "    \"file_1.txt\", nameof FileSystemChangeType.Changed\n",
    "    \"file_1.txt\", nameof FileSystemChangeType.Renamed\n",
    "    \"file_1.txt\", nameof FileSystemChangeType.Deleted\n",
    "\n",
    "    \"file_2.txt\", nameof FileSystemChangeType.Changed\n",
    "    \"file_2.txt\", nameof FileSystemChangeType.Renamed\n",
    "    \"file_2.txt\", nameof FileSystemChangeType.Deleted\n",
    "]\n",
    "|> _sequenceEqual eventList\n",
    "\n",
    "[\n",
    "    \"file1.txt\", nameof FileSystemChangeType.Changed\n",
    "    \"file2.txt\", nameof FileSystemChangeType.Changed\n",
    "    \"file_1.txt\", nameof FileSystemChangeType.Deleted\n",
    "    \"file_2.txt\", nameof FileSystemChangeType.Deleted\n",
    "]\n",
    "|> Map.ofList\n",
    "|> _sequenceEqual eventMap"
   ]
  }
 ],
 "metadata": {
  "kernelspec": {
   "display_name": ".NET (C#)",
   "language": "C#",
   "name": ".net-csharp"
  },
  "language_info": {
   "file_extension": ".cs",
   "mimetype": "text/x-csharp",
   "name": "C#",
   "pygments_lexer": "csharp",
   "version": "10.0"
  },
  "polyglot_notebook": {
   "defaultKernelName": "csharp",
   "items": [
    {
     "name": "csharp"
    }
   ]
  },
  "dotnet_interactive": {
   "defaultKernelName": "csharp",
   "items": [
    {
     "name": "csharp"
    }
   ]
  }
 },
 "nbformat": 4,
 "nbformat_minor": 5
}