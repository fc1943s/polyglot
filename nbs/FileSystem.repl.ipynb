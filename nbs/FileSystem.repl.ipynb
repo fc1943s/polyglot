{
 "cells": [
  {
   "cell_type": "markdown",
   "metadata": {},
   "source": [
    "# FileSystem (Polyglot)"
   ]
  },
  {
   "cell_type": "code",
   "execution_count": null,
   "metadata": {
    "dotnet_interactive": {
     "language": "fsharp"
    },
    "polyglot_notebook": {
     "kernelName": "fsharp"
    }
   },
   "outputs": [],
   "source": [
    "#!import ../nbs/Testing.dib"
   ]
  },
  {
   "cell_type": "code",
   "execution_count": null,
   "metadata": {
    "dotnet_interactive": {
     "language": "fsharp"
    },
    "polyglot_notebook": {
     "kernelName": "fsharp"
    }
   },
   "outputs": [],
   "source": [
    "#r @\"../../../../../../../.nuget/packages/fsharp.control.asyncseq/3.2.1/lib/netstandard2.1/FSharp.Control.AsyncSeq.dll\"\n",
    "#r @\"../../../../../../../.nuget/packages/system.reactive/5.0.0/lib/net5.0/System.Reactive.dll\"\n",
    "#r @\"../../../../../../../.nuget/packages/system.reactive.linq/6.0.1-preview.1/lib/netstandard2.0/System.Reactive.Linq.dll\"\n",
    "#r @\"../../../../../../../.nuget/packages/argu/6.1.1/lib/netstandard2.0/Argu.dll\"\n",
    "#r @\"../../../../../../../.nuget/packages/system.commandline/2.0.0-beta4.22272.1/lib/net6.0/System.CommandLine.dll\""
   ]
  },
  {
   "cell_type": "code",
   "execution_count": null,
   "metadata": {
    "dotnet_interactive": {
     "language": "fsharp"
    },
    "polyglot_notebook": {
     "kernelName": "fsharp"
    }
   },
   "outputs": [],
   "source": [
    "#!import ../nbs/Common.fs\n",
    "#!import ../nbs/CommonFSharp.fs\n",
    "#!import ../nbs/Async.fs\n",
    "#!import ../nbs/AsyncSeq.fs\n",
    "#!import ../nbs/Runtime.fs"
   ]
  },
  {
   "cell_type": "code",
   "execution_count": null,
   "metadata": {
    "dotnet_interactive": {
     "language": "fsharp"
    },
    "polyglot_notebook": {
     "kernelName": "fsharp"
    }
   },
   "outputs": [],
   "source": [
    "open Common"
   ]
  },
  {
   "cell_type": "markdown",
   "metadata": {},
   "source": [
    "## Operators"
   ]
  },
  {
   "cell_type": "code",
   "execution_count": null,
   "metadata": {
    "dotnet_interactive": {
     "language": "fsharp"
    },
    "polyglot_notebook": {
     "kernelName": "fsharp"
    }
   },
   "outputs": [],
   "source": [
    "let inline (</>) a b =\n",
    "    System.IO.Path.Combine (a, b)"
   ]
  },
  {
   "cell_type": "markdown",
   "metadata": {},
   "source": [
    "## createTempDirectoryName"
   ]
  },
  {
   "cell_type": "code",
   "execution_count": null,
   "metadata": {
    "dotnet_interactive": {
     "language": "fsharp"
    },
    "polyglot_notebook": {
     "kernelName": "fsharp"
    }
   },
   "outputs": [],
   "source": [
    "let inline createTempDirectoryName () =\n",
    "    let root = System.Reflection.Assembly.GetEntryAssembly().GetName().Name\n",
    "\n",
    "    System.IO.Path.GetTempPath ()\n",
    "    </> $\"!{root}\"\n",
    "    </> string (newGuidFromDateTime System.DateTime.Now)"
   ]
  },
  {
   "cell_type": "code",
   "execution_count": null,
   "metadata": {
    "dotnet_interactive": {
     "language": "fsharp"
    },
    "polyglot_notebook": {
     "kernelName": "fsharp"
    }
   },
   "outputs": [
    {
     "name": "stdout",
     "output_type": "stream",
     "text": [
      "C:\\Users\\i574n\\AppData\\Local\\Temp\\!dotnet-repl\\20230803-0622-0750-5079-5cca7e04d813\r\n"
     ]
    }
   ],
   "source": [
    "//// test\n",
    "\n",
    "createTempDirectoryName ()\n",
    "|> _contains System.IO.Path.DirectorySeparatorChar"
   ]
  },
  {
   "cell_type": "markdown",
   "metadata": {},
   "source": [
    "## createTempDirectory"
   ]
  },
  {
   "cell_type": "code",
   "execution_count": null,
   "metadata": {
    "dotnet_interactive": {
     "language": "fsharp"
    },
    "polyglot_notebook": {
     "kernelName": "fsharp"
    }
   },
   "outputs": [],
   "source": [
    "let inline createTempDirectory () =\n",
    "    let tempFolder = createTempDirectoryName ()\n",
    "    let result = System.IO.Directory.CreateDirectory tempFolder\n",
    "\n",
    "    let getLocals () =\n",
    "        $\"tempFolder: {tempFolder} / result: {({|\n",
    "            Exists = result.Exists\n",
    "            CreationTime = result.CreationTime\n",
    "        |})} {getLocals ()}\"\n",
    "\n",
    "    trace Debug (fun () -> \"createTempDirectory\") getLocals\n",
    "\n",
    "    tempFolder"
   ]
  },
  {
   "cell_type": "code",
   "execution_count": null,
   "metadata": {
    "dotnet_interactive": {
     "language": "fsharp"
    },
    "polyglot_notebook": {
     "kernelName": "fsharp"
    }
   },
   "outputs": [
    {
     "name": "stdout",
     "output_type": "stream",
     "text": [
      "00:00:00 #1 [Debug] createTempDirectory / tempFolder: C:\\Users\\i574n\\AppData\\Local\\Temp\\!dotnet-repl\\20230803-0622-0763-6361-6aa1f812850a / result: { CreationTime = 2023-08-03 6:22:07 AM\n",
      "  Exists = true }\r\n",
      "True\r\n"
     ]
    }
   ],
   "source": [
    "//// test\n",
    "\n",
    "let tempDirectory = createTempDirectory ()\n",
    "\n",
    "Directory.Exists tempDirectory\n",
    "|> _equal true"
   ]
  },
  {
   "cell_type": "markdown",
   "metadata": {},
   "source": [
    "## getSourceDirectory"
   ]
  },
  {
   "cell_type": "code",
   "execution_count": null,
   "metadata": {
    "dotnet_interactive": {
     "language": "fsharp"
    },
    "polyglot_notebook": {
     "kernelName": "fsharp"
    }
   },
   "outputs": [],
   "source": [
    "let getSourceDirectory =\n",
    "    fun () -> __SOURCE_DIRECTORY__\n",
    "    |> memoize"
   ]
  },
  {
   "cell_type": "code",
   "execution_count": null,
   "metadata": {
    "dotnet_interactive": {
     "language": "fsharp"
    },
    "polyglot_notebook": {
     "kernelName": "fsharp"
    }
   },
   "outputs": [
    {
     "name": "stdout",
     "output_type": "stream",
     "text": [
      "nbs\r\n"
     ]
    }
   ],
   "source": [
    "//// test\n",
    "\n",
    "getSourceDirectory ()\n",
    "|> System.IO.DirectoryInfo\n",
    "|> fun dir -> dir.Name\n",
    "|> _equal \"nbs\""
   ]
  },
  {
   "cell_type": "markdown",
   "metadata": {},
   "source": [
    "## findParent"
   ]
  },
  {
   "cell_type": "code",
   "execution_count": null,
   "metadata": {
    "dotnet_interactive": {
     "language": "fsharp"
    },
    "polyglot_notebook": {
     "kernelName": "fsharp"
    }
   },
   "outputs": [],
   "source": [
    "let inline findParent name isFile rootDir =\n",
    "    let rec loop dir =\n",
    "        if dir </> name |> (if isFile then System.IO.File.Exists else System.IO.Directory.Exists)\n",
    "        then dir\n",
    "        else\n",
    "            dir\n",
    "            |> System.IO.Directory.GetParent\n",
    "            |> function\n",
    "                | null -> failwith $\"\"\"No parent for {if isFile then \"file\" else \"dir\"} '{name}' at '{rootDir}'\"\"\"\n",
    "                | parent -> parent.FullName |> loop\n",
    "    loop rootDir"
   ]
  },
  {
   "cell_type": "code",
   "execution_count": null,
   "metadata": {
    "dotnet_interactive": {
     "language": "fsharp"
    },
    "polyglot_notebook": {
     "kernelName": "fsharp"
    }
   },
   "outputs": [
    {
     "name": "stdout",
     "output_type": "stream",
     "text": [
      "polyglot\r\n"
     ]
    }
   ],
   "source": [
    "//// test\n",
    "\n",
    "getSourceDirectory () |> findParent \".paket\" false\n",
    "|> System.IO.DirectoryInfo\n",
    "|> fun dir -> dir.Name\n",
    "|> _equal \"polyglot\""
   ]
  },
  {
   "cell_type": "code",
   "execution_count": null,
   "metadata": {
    "dotnet_interactive": {
     "language": "fsharp"
    },
    "polyglot_notebook": {
     "kernelName": "fsharp"
    }
   },
   "outputs": [
    {
     "name": "stdout",
     "output_type": "stream",
     "text": [
      "polyglot\r\n"
     ]
    }
   ],
   "source": [
    "//// test\n",
    "\n",
    "getSourceDirectory () |> findParent \"paket.dependencies\" true\n",
    "|> System.IO.DirectoryInfo\n",
    "|> fun dir -> dir.Name\n",
    "|> _equal \"polyglot\""
   ]
  },
  {
   "cell_type": "markdown",
   "metadata": {},
   "source": [
    "## writeAllTextAsync"
   ]
  },
  {
   "cell_type": "code",
   "execution_count": null,
   "metadata": {
    "dotnet_interactive": {
     "language": "fsharp"
    },
    "polyglot_notebook": {
     "kernelName": "fsharp"
    }
   },
   "outputs": [],
   "source": [
    "let inline writeAllTextAsync path contents =\n",
    "    System.IO.File.WriteAllTextAsync (path, contents) |> Async.AwaitTask"
   ]
  },
  {
   "cell_type": "markdown",
   "metadata": {},
   "source": [
    "## readAllTextAsync"
   ]
  },
  {
   "cell_type": "code",
   "execution_count": null,
   "metadata": {
    "dotnet_interactive": {
     "language": "fsharp"
    },
    "polyglot_notebook": {
     "kernelName": "fsharp"
    }
   },
   "outputs": [],
   "source": [
    "let inline readAllTextAsync path =\n",
    "    System.IO.File.ReadAllTextAsync path |> Async.AwaitTask"
   ]
  },
  {
   "cell_type": "markdown",
   "metadata": {},
   "source": [
    "## waitForFileAccess"
   ]
  },
  {
   "cell_type": "code",
   "execution_count": null,
   "metadata": {
    "dotnet_interactive": {
     "language": "fsharp"
    },
    "polyglot_notebook": {
     "kernelName": "fsharp"
    }
   },
   "outputs": [],
   "source": [
    "let inline waitForFileAccess access path =\n",
    "    let fileAccess, fileShare =\n",
    "        access\n",
    "        |> Option.defaultValue (System.IO.FileAccess.ReadWrite, System.IO.FileShare.Read)\n",
    "\n",
    "    let rec loop retry = async {\n",
    "        try\n",
    "            use _ = new System.IO.FileStream (\n",
    "                path,\n",
    "                System.IO.FileMode.Open,\n",
    "                fileAccess,\n",
    "                fileShare\n",
    "            )\n",
    "            return retry\n",
    "        with ex ->\n",
    "            if retry % 100 = 0 then\n",
    "                let getLocals () = $\"path: {path} / ex: {ex |> printException} / {getLocals ()}\"\n",
    "                trace Warn (fun () -> \"waitForFileAccess\") getLocals\n",
    "            do! Async.Sleep 10\n",
    "            return! loop (retry + 1)\n",
    "    }\n",
    "    loop 0"
   ]
  },
  {
   "cell_type": "code",
   "execution_count": null,
   "metadata": {
    "dotnet_interactive": {
     "language": "fsharp"
    },
    "polyglot_notebook": {
     "kernelName": "fsharp"
    }
   },
   "outputs": [
    {
     "name": "stdout",
     "output_type": "stream",
     "text": [
      "00:00:00 #2 [Debug] createTempDirectory / tempFolder: C:\\Users\\i574n\\AppData\\Local\\Temp\\!dotnet-repl\\20230803-0622-0823-2385-280cc773c406 / result: { CreationTime = 2023-08-03 6:22:08 AM\n",
      "  Exists = true }\r\n",
      "00:00:00 #3 [Debug] 1\r\n",
      "00:00:00 #4 [Debug] 2\r\n",
      "00:00:00 #5 [Debug] _1\r\n",
      "00:00:00 #6 [Debug] 3\r\n",
      "00:00:00 #7 [Debug] _2\r\n",
      "00:00:00 #8 [Debug] 4\r\n",
      "00:00:00 #9 [Warn] waitForFileAccess / path: C:\\Users\\i574n\\AppData\\Local\\Temp\\!dotnet-repl\\20230803-0622-0823-2385-280cc773c406\\test.txt / ex: System.IO.IOException: The process cannot access the file 'C:\\Users\\i574n\\AppData\\Local\\Temp\\!dotnet-repl\\20230803-0622-0823-2385-280cc773c406\\test.txt' because it is being used by another process.\r\n",
      "00:00:02 #10 [Warn] waitForFileAccess / path: C:\\Users\\i574n\\AppData\\Local\\Temp\\!dotnet-repl\\20230803-0622-0823-2385-280cc773c406\\test.txt / ex: System.IO.IOException: The process cannot access the file 'C:\\Users\\i574n\\AppData\\Local\\Temp\\!dotnet-repl\\20230803-0622-0823-2385-280cc773c406\\test.txt' because it is being used by another process.\r\n",
      "00:00:02 #11 [Debug] _3\r\n",
      "00:00:02 #12 [Debug] _4\r\n",
      "00:00:02 #13 [Debug] _5\r\n",
      "00:00:02 #14 [Debug] _6\r\n",
      "00:00:02 #15 [Debug] 5\r\n",
      "00:00:02 #16 [Debug] 6\r\n",
      "00:00:02 #17 [Debug] 7\r\n",
      "128\r\n",
      "128\r\n",
      "128\r\n",
      "1\r\n",
      "True\r\n"
     ]
    }
   ],
   "source": [
    "//// test\n",
    "\n",
    "let tempFolder = createTempDirectory ()\n",
    "let path = tempFolder </> \"test.txt\"\n",
    "\n",
    "let inline lockFile () = async {\n",
    "    trace Debug (fun () -> \"_1\") getLocals\n",
    "    use stream = new System.IO.FileStream (\n",
    "        path,\n",
    "        System.IO.FileMode.Open,\n",
    "        System.IO.FileAccess.ReadWrite,\n",
    "        System.IO.FileShare.None\n",
    "    )\n",
    "    trace Debug (fun () -> \"_2\") getLocals\n",
    "    do! Async.Sleep 2000\n",
    "    trace Debug (fun () -> \"_3\") getLocals\n",
    "    stream.Seek (0L, SeekOrigin.Begin) |> ignore\n",
    "    trace Debug (fun () -> \"_4\") getLocals\n",
    "    stream.WriteByte 49uy\n",
    "    trace Debug (fun () -> \"_5\") getLocals\n",
    "    stream.Flush ()\n",
    "    trace Debug (fun () -> \"_6\") getLocals\n",
    "}\n",
    "\n",
    "async {\n",
    "    trace Debug (fun () -> \"1\") getLocals\n",
    "    do! \"0\" |> writeAllTextAsync path\n",
    "    trace Debug (fun () -> \"2\") getLocals\n",
    "    let! child = lockFile () |> Async.StartChild\n",
    "    trace Debug (fun () -> \"3\") getLocals\n",
    "    do! Async.Sleep 1\n",
    "    trace Debug (fun () -> \"4\") getLocals\n",
    "    let! retries = path |> waitForFileAccess None\n",
    "    trace Debug (fun () -> \"5\") getLocals\n",
    "    let! text = path |> readAllTextAsync\n",
    "    trace Debug (fun () -> \"6\") getLocals\n",
    "    do! child\n",
    "    trace Debug (fun () -> \"7\") getLocals\n",
    "    return retries, text\n",
    "}\n",
    "|> Async.runWithTimeout 3000\n",
    "|> function\n",
    "    | Some (retries, text) ->\n",
    "        retries\n",
    "        |> _isBetween\n",
    "            (if Runtime.isWindows () then 100 else 100)\n",
    "            (if Runtime.isWindows () then 150 else 200)\n",
    "        \n",
    "        text |> _equal \"1\"\n",
    "        \n",
    "        true\n",
    "    | _ -> false\n",
    "|> _equal true"
   ]
  },
  {
   "cell_type": "markdown",
   "metadata": {},
   "source": [
    "## deleteDirectoryAsync"
   ]
  },
  {
   "cell_type": "code",
   "execution_count": null,
   "metadata": {
    "dotnet_interactive": {
     "language": "fsharp"
    },
    "polyglot_notebook": {
     "kernelName": "fsharp"
    }
   },
   "outputs": [],
   "source": [
    "let inline deleteDirectoryAsync path =\n",
    "    let rec loop retry = async {\n",
    "        try\n",
    "            System.IO.Directory.Delete (path, true)\n",
    "            return retry\n",
    "        with ex ->\n",
    "            if retry % 100 = 0 then\n",
    "                let getLocals () = $\"path: {path} / ex: {ex |> printException} / {getLocals ()}\"\n",
    "                trace Warn (fun () -> \"deleteDirectoryAsync\") getLocals\n",
    "            do! Async.Sleep 10\n",
    "            return! loop (retry + 1)\n",
    "    }\n",
    "    loop 0"
   ]
  },
  {
   "cell_type": "code",
   "execution_count": null,
   "metadata": {
    "dotnet_interactive": {
     "language": "fsharp"
    },
    "polyglot_notebook": {
     "kernelName": "fsharp"
    }
   },
   "outputs": [
    {
     "name": "stdout",
     "output_type": "stream",
     "text": [
      "00:00:02 #18 [Debug] createTempDirectory / tempFolder: C:\\Users\\i574n\\AppData\\Local\\Temp\\!dotnet-repl\\20230803-0622-1057-5767-58677df5dbf4 / result: { CreationTime = 2023-08-03 6:22:10 AM\n",
      "  Exists = true }\r\n",
      "00:00:02 #19 [Debug] 1\r\n",
      "00:00:02 #20 [Debug] 2\r\n",
      "00:00:02 #21 [Debug] 3\r\n",
      "00:00:02 #22 [Debug] 4\r\n",
      "00:00:02 #23 [Debug] _1\r\n",
      "00:00:02 #24 [Debug] _2\r\n",
      "00:00:02 #25 [Warn] deleteDirectoryAsync / path: C:\\Users\\i574n\\AppData\\Local\\Temp\\!dotnet-repl\\20230803-0622-1057-5767-58677df5dbf4\\test / ex: System.IO.IOException: The process cannot access the file 'test.txt' because it is being used by another process.\r\n",
      "00:00:04 #26 [Warn] deleteDirectoryAsync / path: C:\\Users\\i574n\\AppData\\Local\\Temp\\!dotnet-repl\\20230803-0622-1057-5767-58677df5dbf4\\test / ex: System.IO.IOException: The process cannot access the file 'test.txt' because it is being used by another process.\r\n",
      "00:00:04 #27 [Debug] _3\r\n",
      "00:00:04 #28 [Debug] 5\r\n",
      "00:00:04 #29 [Debug] 6\r\n",
      "129\r\n",
      "129\r\n",
      "129\r\n",
      "True\r\n"
     ]
    }
   ],
   "source": [
    "//// test\n",
    "\n",
    "let tempFolder = createTempDirectory ()\n",
    "let path = tempFolder </> \"test\"\n",
    "\n",
    "let inline lockDirectory () = async {\n",
    "    trace Debug (fun () -> \"_1\") getLocals\n",
    "    System.IO.File.WriteAllText (path </> \"test.txt\", \"0\")\n",
    "    use _ = new System.IO.FileStream (\n",
    "        path </> \"test.txt\",\n",
    "        System.IO.FileMode.Open,\n",
    "        System.IO.FileAccess.ReadWrite,\n",
    "        System.IO.FileShare.None\n",
    "    )\n",
    "    trace Debug (fun () -> \"_2\") getLocals\n",
    "    do! Async.Sleep 2000\n",
    "    trace Debug (fun () -> \"_3\") getLocals\n",
    "}\n",
    "\n",
    "async {\n",
    "    trace Debug (fun () -> \"1\") getLocals\n",
    "    Directory.CreateDirectory path |> ignore\n",
    "    trace Debug (fun () -> \"2\") getLocals\n",
    "    let! child = lockDirectory () |> Async.StartChild\n",
    "    trace Debug (fun () -> \"3\") getLocals\n",
    "    do! Async.Sleep 1\n",
    "    trace Debug (fun () -> \"4\") getLocals\n",
    "    let! retries = deleteDirectoryAsync path\n",
    "    trace Debug (fun () -> \"5\") getLocals\n",
    "    do! child\n",
    "    trace Debug (fun () -> \"6\") getLocals\n",
    "    return retries\n",
    "}\n",
    "|> Async.runWithTimeout 3000\n",
    "|> function\n",
    "    | Some retries ->\n",
    "        retries\n",
    "        |> _isBetween\n",
    "            (if Runtime.isWindows () then 100 else 0)\n",
    "            (if Runtime.isWindows () then 150 else 0)\n",
    "\n",
    "        true\n",
    "    | _ -> false\n",
    "|> _equal true"
   ]
  },
  {
   "cell_type": "markdown",
   "metadata": {},
   "source": [
    "## deleteFileAsync"
   ]
  },
  {
   "cell_type": "code",
   "execution_count": null,
   "metadata": {
    "dotnet_interactive": {
     "language": "fsharp"
    },
    "polyglot_notebook": {
     "kernelName": "fsharp"
    }
   },
   "outputs": [],
   "source": [
    "let inline deleteFileAsync path =\n",
    "    let rec loop retry = async {\n",
    "        try\n",
    "            System.IO.File.Delete path\n",
    "            return retry\n",
    "        with ex ->\n",
    "            if retry % 100 = 0 then\n",
    "                let getLocals () = $\"path: {path} / ex: {ex |> printException} / {getLocals ()}\"\n",
    "                trace Warn (fun () -> \"deleteFileAsync\") getLocals\n",
    "            do! Async.Sleep 10\n",
    "            return! loop (retry + 1)\n",
    "    }\n",
    "    loop 0"
   ]
  },
  {
   "cell_type": "code",
   "execution_count": null,
   "metadata": {
    "dotnet_interactive": {
     "language": "fsharp"
    },
    "polyglot_notebook": {
     "kernelName": "fsharp"
    }
   },
   "outputs": [
    {
     "name": "stdout",
     "output_type": "stream",
     "text": [
      "00:00:05 #30 [Debug] createTempDirectory / tempFolder: C:\\Users\\i574n\\AppData\\Local\\Temp\\!dotnet-repl\\20230803-0622-1285-8593-816e9c0ce2c1 / result: { CreationTime = 2023-08-03 6:22:12 AM\n",
      "  Exists = true }\r\n",
      "00:00:05 #31 [Debug] 1\r\n",
      "00:00:05 #32 [Debug] 2\r\n",
      "00:00:05 #33 [Debug] 3\r\n",
      "00:00:05 #34 [Debug] _1\r\n",
      "00:00:05 #35 [Debug] _2\r\n",
      "00:00:05 #36 [Debug] 4\r\n",
      "00:00:05 #37 [Warn] deleteFileAsync / path: C:\\Users\\i574n\\AppData\\Local\\Temp\\!dotnet-repl\\20230803-0622-1285-8593-816e9c0ce2c1\\test.txt / ex: System.IO.IOException: The process cannot access the file 'C:\\Users\\i574n\\AppData\\Local\\Temp\\!dotnet-repl\\20230803-0622-1285-8593-816e9c0ce2c1\\test.txt' because it is being used by another process.\r\n",
      "00:00:06 #38 [Warn] deleteFileAsync / path: C:\\Users\\i574n\\AppData\\Local\\Temp\\!dotnet-repl\\20230803-0622-1285-8593-816e9c0ce2c1\\test.txt / ex: System.IO.IOException: The process cannot access the file 'C:\\Users\\i574n\\AppData\\Local\\Temp\\!dotnet-repl\\20230803-0622-1285-8593-816e9c0ce2c1\\test.txt' because it is being used by another process.\r\n",
      "00:00:07 #39 [Debug] _3\r\n",
      "00:00:07 #40 [Debug] 5\r\n",
      "00:00:07 #41 [Debug] 6\r\n",
      "127\r\n",
      "127\r\n",
      "127\r\n",
      "True\r\n"
     ]
    }
   ],
   "source": [
    "//// test\n",
    "\n",
    "let tempFolder = createTempDirectory ()\n",
    "let path = tempFolder </> \"test.txt\"\n",
    "\n",
    "let inline lockFile () = async {\n",
    "    trace Debug (fun () -> \"_1\") getLocals\n",
    "    use _ = new System.IO.FileStream (\n",
    "        path,\n",
    "        System.IO.FileMode.Open,\n",
    "        System.IO.FileAccess.ReadWrite,\n",
    "        System.IO.FileShare.None\n",
    "    )\n",
    "    trace Debug (fun () -> \"_2\") getLocals\n",
    "    do! Async.Sleep 2000\n",
    "    trace Debug (fun () -> \"_3\") getLocals\n",
    "}\n",
    "\n",
    "async {\n",
    "    trace Debug (fun () -> \"1\") getLocals\n",
    "    do! \"0\" |> writeAllTextAsync path\n",
    "    trace Debug (fun () -> \"2\") getLocals\n",
    "    let! child = lockFile () |> Async.StartChild\n",
    "    trace Debug (fun () -> \"3\") getLocals\n",
    "    do! Async.Sleep 1\n",
    "    trace Debug (fun () -> \"4\") getLocals\n",
    "    let! retries = deleteFileAsync path\n",
    "    trace Debug (fun () -> \"5\") getLocals\n",
    "    do! child\n",
    "    trace Debug (fun () -> \"6\") getLocals\n",
    "    return retries\n",
    "}\n",
    "|> Async.runWithTimeout 3000\n",
    "|> function\n",
    "    | Some retries ->\n",
    "        retries\n",
    "        |> _isBetween\n",
    "            (if Runtime.isWindows () then 100 else 0)\n",
    "            (if Runtime.isWindows () then 150 else 0)\n",
    "\n",
    "        true\n",
    "    | _ -> false\n",
    "|> _equal true"
   ]
  },
  {
   "cell_type": "markdown",
   "metadata": {},
   "source": [
    "## moveFileAsync"
   ]
  },
  {
   "cell_type": "code",
   "execution_count": null,
   "metadata": {
    "dotnet_interactive": {
     "language": "fsharp"
    },
    "polyglot_notebook": {
     "kernelName": "fsharp"
    }
   },
   "outputs": [],
   "source": [
    "let inline moveFileAsync newPath oldPath =\n",
    "    let rec loop retry = async {\n",
    "        try\n",
    "            System.IO.File.Move (oldPath, newPath)\n",
    "            return retry\n",
    "        with ex ->\n",
    "            if retry % 100 = 0 then\n",
    "                let getLocals () =\n",
    "                    $\"oldPath: {oldPath} / newPath: {newPath} / ex: {ex |> printException} / {getLocals ()}\"\n",
    "                trace Warn (fun () -> \"moveFileAsync\") getLocals\n",
    "            do! Async.Sleep 10\n",
    "            return! loop (retry + 1)\n",
    "    }\n",
    "    loop 0"
   ]
  },
  {
   "cell_type": "code",
   "execution_count": null,
   "metadata": {
    "dotnet_interactive": {
     "language": "fsharp"
    },
    "polyglot_notebook": {
     "kernelName": "fsharp"
    }
   },
   "outputs": [
    {
     "name": "stdout",
     "output_type": "stream",
     "text": [
      "00:00:07 #42 [Debug] createTempDirectory / tempFolder: C:\\Users\\i574n\\AppData\\Local\\Temp\\!dotnet-repl\\20230803-0622-1536-3653-34943f584e1c / result: { CreationTime = 2023-08-03 6:22:15 AM\n",
      "  Exists = true }\r\n",
      "00:00:07 #43 [Debug] 1\r\n",
      "00:00:07 #44 [Debug] 2\r\n",
      "00:00:07 #45 [Debug] 3\r\n",
      "00:00:07 #46 [Debug] _1\r\n",
      "00:00:07 #47 [Debug] _2\r\n",
      "00:00:07 #48 [Debug] 4\r\n",
      "00:00:07 #49 [Warn] moveFileAsync / oldPath: C:\\Users\\i574n\\AppData\\Local\\Temp\\!dotnet-repl\\20230803-0622-1536-3653-34943f584e1c\\test.txt / newPath: C:\\Users\\i574n\\AppData\\Local\\Temp\\!dotnet-repl\\20230803-0622-1536-3653-34943f584e1c\\test2.txt / ex: System.IO.IOException: The process cannot access the file because it is being used by another process.\r\n",
      "00:00:09 #50 [Warn] moveFileAsync / oldPath: C:\\Users\\i574n\\AppData\\Local\\Temp\\!dotnet-repl\\20230803-0622-1536-3653-34943f584e1c\\test.txt / newPath: C:\\Users\\i574n\\AppData\\Local\\Temp\\!dotnet-repl\\20230803-0622-1536-3653-34943f584e1c\\test2.txt / ex: System.IO.IOException: The process cannot access the file because it is being used by another process.\r\n",
      "00:00:09 #51 [Debug] _3\r\n",
      "00:00:09 #52 [Debug] 5\r\n",
      "00:00:09 #53 [Debug] 6\r\n",
      "00:00:09 #54 [Debug] 7\r\n",
      "00:00:09 #55 [Debug] 8\r\n",
      "128\r\n",
      "128\r\n",
      "128\r\n",
      "0\r\n",
      "0\r\n",
      "0\r\n",
      "0\r\n",
      "True\r\n"
     ]
    }
   ],
   "source": [
    "//// test\n",
    "\n",
    "let tempFolder = createTempDirectory ()\n",
    "let path = tempFolder </> \"test.txt\"\n",
    "let newPath = tempFolder </> \"test2.txt\"\n",
    "\n",
    "let inline lockFile () = async {\n",
    "    trace Debug (fun () -> \"_1\") getLocals\n",
    "    use _ = new System.IO.FileStream (\n",
    "        path,\n",
    "        System.IO.FileMode.Open,\n",
    "        System.IO.FileAccess.ReadWrite,\n",
    "        System.IO.FileShare.None\n",
    "    )\n",
    "    trace Debug (fun () -> \"_2\") getLocals\n",
    "    do! Async.Sleep 2000\n",
    "    trace Debug (fun () -> \"_3\") getLocals\n",
    "}\n",
    "\n",
    "async {\n",
    "    trace Debug (fun () -> \"1\") getLocals\n",
    "    do! \"0\" |> writeAllTextAsync path\n",
    "    trace Debug (fun () -> \"2\") getLocals\n",
    "    let! child = lockFile () |> Async.StartChild\n",
    "    trace Debug (fun () -> \"3\") getLocals\n",
    "    do! Async.Sleep 1\n",
    "    trace Debug (fun () -> \"4\") getLocals\n",
    "    let! retries1 = path |> moveFileAsync newPath\n",
    "    trace Debug (fun () -> \"5\") getLocals\n",
    "    let! retries2 = newPath |> waitForFileAccess None\n",
    "    trace Debug (fun () -> \"6\") getLocals\n",
    "    let! text = newPath |> readAllTextAsync\n",
    "    trace Debug (fun () -> \"7\") getLocals\n",
    "    do! child\n",
    "    trace Debug (fun () -> \"8\") getLocals\n",
    "    return retries1, retries2, text\n",
    "}\n",
    "|> Async.runWithTimeout 3000\n",
    "|> function\n",
    "    | Some (retries1, retries2, text) ->\n",
    "        retries1\n",
    "        |> _isBetween\n",
    "            (if Runtime.isWindows () then 100 else 0)\n",
    "            (if Runtime.isWindows () then 150 else 0)\n",
    "\n",
    "        retries2\n",
    "        |> _isBetween\n",
    "            (if Runtime.isWindows () then 0 else 100)\n",
    "            (if Runtime.isWindows () then 0 else 200)\n",
    "        \n",
    "        text |> _equal \"0\"\n",
    "        \n",
    "        true\n",
    "    | _ -> false\n",
    "|> _equal true"
   ]
  },
  {
   "cell_type": "markdown",
   "metadata": {},
   "source": [
    "## watchDirectory"
   ]
  },
  {
   "cell_type": "code",
   "execution_count": null,
   "metadata": {
    "dotnet_interactive": {
     "language": "fsharp"
    },
    "polyglot_notebook": {
     "kernelName": "fsharp"
    }
   },
   "outputs": [],
   "source": [
    "[<RequireQualifiedAccess>]\n",
    "type FileSystemChangeType =\n",
    "    | Error\n",
    "    | Changed\n",
    "    | Created\n",
    "    | Deleted\n",
    "    | Renamed\n",
    "\n",
    "[<RequireQualifiedAccess>]\n",
    "type FileSystemChange =\n",
    "    | Error of exn: exn\n",
    "    | Changed of path: string * content: string option\n",
    "    | Created of path: string * content: string option\n",
    "    | Deleted of path: string\n",
    "    | Renamed of oldPath: string * (string * string option)\n",
    "\n",
    "\n",
    "let inline watchDirectoryWithFilter filter shouldReadContent path =\n",
    "    let fullPath = path |> System.IO.Path.GetFullPath\n",
    "    let getLocals () = $\"fullPath: {fullPath} / filter: {filter} / {getLocals ()}\"\n",
    "\n",
    "    let watcher =\n",
    "        new System.IO.FileSystemWatcher (\n",
    "            Path = fullPath,\n",
    "            NotifyFilter = filter,\n",
    "            EnableRaisingEvents = true,\n",
    "            IncludeSubdirectories = true\n",
    "        )\n",
    "\n",
    "    let inline getEventPath (path : string) =\n",
    "        path |> String.trim |> String.replace fullPath \"\" |> String.trimStart [| '/'; '\\\\' |]\n",
    "\n",
    "    let inline ticks () =\n",
    "        System.DateTime.UtcNow.Ticks\n",
    "\n",
    "    let changedStream =\n",
    "        AsyncSeq.subscribeEvent\n",
    "            watcher.Changed\n",
    "            (fun event ->\n",
    "                ticks (),\n",
    "                [ FileSystemChange.Changed (getEventPath event.FullPath, None) ]\n",
    "            )\n",
    "\n",
    "    let deletedStream =\n",
    "        AsyncSeq.subscribeEvent\n",
    "            watcher.Deleted\n",
    "            (fun event ->\n",
    "                ticks (),\n",
    "                [ FileSystemChange.Deleted (getEventPath event.FullPath) ]\n",
    "            )\n",
    "\n",
    "    let createdStream =\n",
    "        AsyncSeq.subscribeEvent\n",
    "            watcher.Created\n",
    "            (fun event ->\n",
    "                let path = getEventPath event.FullPath\n",
    "                ticks (), [\n",
    "                    FileSystemChange.Created (path, None)\n",
    "                    if Runtime.isWindows () then\n",
    "                        FileSystemChange.Changed (path, None)\n",
    "                ])\n",
    "\n",
    "    let renamedStream =\n",
    "        AsyncSeq.subscribeEvent\n",
    "            watcher.Renamed\n",
    "            (fun event ->\n",
    "                ticks (), [\n",
    "                    FileSystemChange.Renamed (\n",
    "                        getEventPath event.OldFullPath,\n",
    "                        (getEventPath event.FullPath, None)\n",
    "                    )\n",
    "                ]\n",
    "            )\n",
    "\n",
    "    let errorStream =\n",
    "        AsyncSeq.subscribeEvent\n",
    "            watcher.Error\n",
    "            (fun event -> ticks (), [ FileSystemChange.Error (event.GetException ()) ])\n",
    "\n",
    "    let inline readContent fullPath =\n",
    "        let rec loop retry = async {\n",
    "            try\n",
    "                if retry > 0\n",
    "                then do!\n",
    "                    fullPath\n",
    "                    |> waitForFileAccess (Some (\n",
    "                        System.IO.FileAccess.Read,\n",
    "                        System.IO.FileShare.Read\n",
    "                    ))\n",
    "                    |> Async.runWithTimeoutAsync 10000\n",
    "                    |> Async.Ignore\n",
    "                return! fullPath |> readAllTextAsync |> Async.map Some\n",
    "            with ex ->\n",
    "                let getLocals () = $\"retry: {retry} / ex: {ex |> printException} / {getLocals ()}\"\n",
    "                trace Error (fun () -> $\"watchWithFilter / readContent\") getLocals\n",
    "                if retry = 0\n",
    "                then return! loop (retry + 1)\n",
    "                else return None\n",
    "        }\n",
    "        loop 0\n",
    "\n",
    "    let stream =\n",
    "        [\n",
    "            changedStream\n",
    "            deletedStream\n",
    "            createdStream\n",
    "            renamedStream\n",
    "            errorStream\n",
    "        ]\n",
    "        |> FSharp.Control.AsyncSeq.mergeAll\n",
    "        |> FSharp.Control.AsyncSeq.map (fun (t, events) ->\n",
    "            events\n",
    "            |> List.fold\n",
    "                (fun (i, events) event ->\n",
    "                    i + 1L,\n",
    "                    (t + i, event) :: events)\n",
    "                (0L, [])\n",
    "            |> snd\n",
    "            |> List.rev\n",
    "        )\n",
    "        |> FSharp.Control.AsyncSeq.concatSeq\n",
    "        |> FSharp.Control.AsyncSeq.mapAsyncParallel (fun (t, event) -> async {\n",
    "            match shouldReadContent, event with\n",
    "            | true, FileSystemChange.Changed (path, _) ->\n",
    "                let! content = fullPath </> path |> readContent\n",
    "                return t, FileSystemChange.Changed (path, content)\n",
    "            | true, FileSystemChange.Created (path, _) ->\n",
    "                let! content = fullPath </> path |> readContent\n",
    "                return t, FileSystemChange.Created (path, content)\n",
    "            | true, FileSystemChange.Renamed (oldPath, (newPath, _)) ->\n",
    "                let! content = fullPath </> newPath |> readContent\n",
    "                return t, FileSystemChange.Renamed (oldPath, (newPath, content))\n",
    "            | _ -> return t, event\n",
    "        })\n",
    "\n",
    "    let disposable =\n",
    "        newDisposable (fun () ->\n",
    "            trace Debug (fun () -> \"watchWithFilter / Disposing watch stream\") getLocals\n",
    "            watcher.EnableRaisingEvents <- false\n",
    "            watcher.Dispose ()\n",
    "        )\n",
    "\n",
    "    stream, disposable\n",
    "\n",
    "let inline watchDirectory path =\n",
    "    watchDirectoryWithFilter\n",
    "        (System.IO.NotifyFilters.FileName\n",
    "        // ||| System.IO.NotifyFilters.DirectoryName\n",
    "        // ||| System.IO.NotifyFilters.Attributes\n",
    "        //// ||| System.IO.NotifyFilters.Size\n",
    "        ||| System.IO.NotifyFilters.LastWrite\n",
    "        //// ||| System.IO.NotifyFilters.LastAccess\n",
    "        // ||| System.IO.NotifyFilters.CreationTime\n",
    "        // ||| System.IO.NotifyFilters.Security\n",
    "        )\n",
    "        path"
   ]
  },
  {
   "cell_type": "markdown",
   "metadata": {},
   "source": [
    "### testEventsRaw (test)"
   ]
  },
  {
   "cell_type": "code",
   "execution_count": null,
   "metadata": {
    "dotnet_interactive": {
     "language": "fsharp"
    },
    "polyglot_notebook": {
     "kernelName": "fsharp"
    }
   },
   "outputs": [],
   "source": [
    "//// test\n",
    "\n",
    "let inline testEventsRaw\n",
    "    (watchFn : bool -> string -> FSharp.Control.AsyncSeq<int64 * FileSystemChange> * IDisposable)\n",
    "    write\n",
    "    =\n",
    "    let tempDirectory = createTempDirectory ()\n",
    "    let stream, disposable = watchFn true tempDirectory\n",
    "\n",
    "    let events = System.Collections.Concurrent.ConcurrentBag ()\n",
    "\n",
    "    let inline iter () =\n",
    "        stream\n",
    "        |> FSharp.Control.AsyncSeq.iterAsyncParallel (fun event -> async { events.Add event })\n",
    "\n",
    "    let run = async {\n",
    "        let! _ = iter () |> Async.StartChild\n",
    "        do! Async.Sleep 250\n",
    "        return! write tempDirectory\n",
    "    }\n",
    "\n",
    "    try\n",
    "        run\n",
    "        |> Async.runWithTimeout 60000\n",
    "        |> _equal (Some ())\n",
    "    finally\n",
    "        disposable.Dispose ()\n",
    "        deleteDirectoryAsync tempDirectory |> Async.Ignore |> Async.RunSynchronously\n",
    "\n",
    "    let eventsLog =\n",
    "        events\n",
    "        |> Seq.toList\n",
    "        |> List.sortBy fst\n",
    "        |> List.fold\n",
    "            (fun (prev, acc) (ticks, event) ->\n",
    "                ticks, (ticks, (if prev = 0L then 0L else ticks - prev), event) :: acc\n",
    "            )\n",
    "            (0L, [])\n",
    "        |> snd\n",
    "        |> List.rev\n",
    "        |> List.map (fun (diff, n, event) ->\n",
    "            let text = $\"{n} / {diff} / {event}\"\n",
    "            if text |> String.length <= 100\n",
    "            then text\n",
    "            else text |> String.substring 0 100 |> String.replace \"\\n\" \"\"\n",
    "        )\n",
    "        |> String.concat \"\\n\"\n",
    "    let getLocals () = $\"eventsLog: \\n{eventsLog} / {getLocals ()}\"\n",
    "    trace Debug (fun () -> \"testEventsRaw\") getLocals\n",
    "\n",
    "    events\n",
    "    |> Seq.toList\n",
    "    |> List.sortBy fst\n",
    "    |> List.map snd\n",
    "    |> List.fold\n",
    "        (fun acc event ->\n",
    "            match acc, event with\n",
    "            | FileSystemChange.Changed (lastPath, Some lastContent) as lastEvent :: acc,\n",
    "                FileSystemChange.Changed (path, Some content)\n",
    "                when lastPath = path && content |> String.startsWith lastContent\n",
    "                ->\n",
    "                event :: acc\n",
    "            | _ -> event :: acc\n",
    "        )\n",
    "        []\n",
    "    |> List.rev"
   ]
  },
  {
   "cell_type": "markdown",
   "metadata": {},
   "source": [
    "#### fast (test)"
   ]
  },
  {
   "cell_type": "code",
   "execution_count": null,
   "metadata": {
    "dotnet_interactive": {
     "language": "fsharp"
    },
    "polyglot_notebook": {
     "kernelName": "fsharp"
    }
   },
   "outputs": [
    {
     "name": "stdout",
     "output_type": "stream",
     "text": [
      "00:00:14 #56 [Debug] createTempDirectory / tempFolder: C:\\Users\\i574n\\AppData\\Local\\Temp\\!dotnet-repl\\20230803-0622-2212-1234-1d5f0cac3d04 / result: { CreationTime = 2023-08-03 6:22:22 AM\n",
      "  Exists = true }\r\n",
      "FSharpOption<Unit>\r\n",
      "      Value: <null>\r\n",
      "00:00:16 #57 [Debug] watchWithFilter / Disposing watch stream / fullPath: C:\\Users\\i574n\\AppData\\Local\\Temp\\!dotnet-repl\\20230803-0622-2212-1234-1d5f0cac3d04 / filter: FileName, LastWrite\r\n",
      "00:00:16 #58 [Debug] testEventsRaw / eventsLog: \n",
      "0 / 638266513423885641 / Created (\"file1.txt\", Some \"a1\")\n",
      "1 / 638266513423885642 / Changed (\"file1.txt\", Some \"a1\")\n",
      "31005 / 638266513423916647 / Changed (\"file1.txt\", Some \"a1\")\n",
      "3341 / 638266513423919988 / Created (\"file2.txt\", Some \"a2\")\n",
      "1 / 638266513423919989 / Changed (\"file2.txt\", Some \"a2\")\n",
      "61 / 638266513423920050 / Changed (\"file2.txt\", Some \"a2\")\n",
      "2445918 / 638266513426365968 / Changed (\"file1.txt\", Some \"b1\")\n",
      "2239 / 638266513426368207 / Changed (\"file1.txt\", Some \"b1\")\n",
      "9835 / 638266513426378042 / Changed (\"file2.txt\", Some \"b2\")\n",
      "1812 / 638266513426379854 / Changed (\"file2.txt\", Some \"b2\")\n",
      "2632186 / 638266513429012040 / Renamed (\"file1.txt\", (\"file_1.txt\", Some \"b1\"))\n",
      "5954 / 638266513429017994 / Renamed (\"file2.txt\", (\"file_2.txt\", Some \"b2\"))\n",
      "2434339 / 638266513431452333 / Changed (\"file_1.txt\", Some \"c1\")\n",
      "1596 / 638266513431453929 / Changed (\"file_1.txt\", Some \"c1\")\n",
      "10938 / 638266513431464867 / Changed (\"file_2.txt\", Some \"c2\")\n",
      "1317 / 638266513431466184 / Changed (\"file_2.txt\", Some \"c2\")\n",
      "2560827 / 638266513434027011 / Deleted \"file_1.txt\"\n",
      "2653 / 638266513434029664 / Deleted \"file_2.txt\"\r\n",
      "FSharpList<FileSystemChange>\r\n",
      "      - path: file1.txt\r\n",
      "        content: FSharpOption<String>\r\n",
      "          Value: a1\r\n",
      "      - path: file1.txt\r\n",
      "        content: FSharpOption<String>\r\n",
      "          Value: a1\r\n",
      "      - path: file2.txt\r\n",
      "        content: FSharpOption<String>\r\n",
      "          Value: a2\r\n",
      "      - path: file2.txt\r\n",
      "        content: FSharpOption<String>\r\n",
      "          Value: a2\r\n",
      "      - path: file1.txt\r\n",
      "        content: FSharpOption<String>\r\n",
      "          Value: b1\r\n",
      "      - path: file2.txt\r\n",
      "        content: FSharpOption<String>\r\n",
      "          Value: b2\r\n",
      "      - oldPath: file1.txt\r\n",
      "        Item2:         - file_1.txt\r\n",
      "        - FSharpOption<String>\r\n",
      "            Value: b1\r\n",
      "      - oldPath: file2.txt\r\n",
      "        Item2:         - file_2.txt\r\n",
      "        - FSharpOption<String>\r\n",
      "            Value: b2\r\n",
      "      - path: file_1.txt\r\n",
      "        content: FSharpOption<String>\r\n",
      "          Value: c1\r\n",
      "      - path: file_2.txt\r\n",
      "        content: FSharpOption<String>\r\n",
      "          Value: c2\r\n",
      "      - path: file_1.txt\r\n",
      "      - path: file_2.txt\r\n",
      "FSharpOption<Unit>\r\n",
      "      Value: <null>\r\n"
     ]
    }
   ],
   "source": [
    "//// test\n",
    "\n",
    "let inline write path = async {\n",
    "    let n = 2\n",
    "\n",
    "    for i = 1 to n do\n",
    "        do! $\"a{i}\" |> writeAllTextAsync (path </> $\"file{i}.txt\")\n",
    "\n",
    "    do! Async.Sleep 250\n",
    "\n",
    "    for i = 1 to n do\n",
    "        do! $\"b{i}\" |> writeAllTextAsync (path </> $\"file{i}.txt\")\n",
    "\n",
    "    do! Async.Sleep 250\n",
    "\n",
    "    for i = 1 to n do\n",
    "        do! path </> $\"file{i}.txt\" |> moveFileAsync (path </> $\"file_{i}.txt\") |> Async.Ignore\n",
    "\n",
    "    do! Async.Sleep 250\n",
    "\n",
    "    for i = 1 to n do\n",
    "        do! $\"c{i}\" |> writeAllTextAsync (path </> $\"file_{i}.txt\")\n",
    "\n",
    "    do! Async.Sleep 250\n",
    "\n",
    "    for i = 1 to n do\n",
    "        do! deleteFileAsync (path </> $\"file_{i}.txt\") |> Async.Ignore\n",
    "\n",
    "    do! Async.Sleep 250\n",
    "}\n",
    "\n",
    "let inline run () =\n",
    "    let events = testEventsRaw watchDirectory write\n",
    "\n",
    "    events\n",
    "    |> _sequenceEqual [\n",
    "        FileSystemChange.Created (\"file1.txt\", Some \"a1\")\n",
    "        FileSystemChange.Changed (\"file1.txt\", Some \"a1\")\n",
    "        FileSystemChange.Created (\"file2.txt\", Some \"a2\")\n",
    "        FileSystemChange.Changed (\"file2.txt\", Some \"a2\")\n",
    "\n",
    "        FileSystemChange.Changed (\"file1.txt\", Some \"b1\")\n",
    "        FileSystemChange.Changed (\"file2.txt\", Some \"b2\")\n",
    "\n",
    "        FileSystemChange.Renamed (\"file1.txt\", (\"file_1.txt\", Some \"b1\"))\n",
    "        FileSystemChange.Renamed (\"file2.txt\", (\"file_2.txt\", Some \"b2\"))\n",
    "\n",
    "        FileSystemChange.Changed (\"file_1.txt\", Some \"c1\")\n",
    "        FileSystemChange.Changed (\"file_2.txt\", Some \"c2\")\n",
    "\n",
    "        FileSystemChange.Deleted \"file_1.txt\"\n",
    "        FileSystemChange.Deleted \"file_2.txt\"\n",
    "    ]\n",
    "\n",
    "run\n",
    "|> retryFn 3\n",
    "|> _equal (Some ())"
   ]
  },
  {
   "cell_type": "markdown",
   "metadata": {},
   "source": [
    "#### slow (test)"
   ]
  },
  {
   "cell_type": "code",
   "execution_count": null,
   "metadata": {
    "dotnet_interactive": {
     "language": "fsharp"
    },
    "polyglot_notebook": {
     "kernelName": "fsharp"
    }
   },
   "outputs": [
    {
     "name": "stdout",
     "output_type": "stream",
     "text": [
      "00:00:20 #59 [Debug] createTempDirectory / tempFolder: C:\\Users\\i574n\\AppData\\Local\\Temp\\!dotnet-repl\\20230803-0622-2789-8956-8d6a0700bcd6 / result: { CreationTime = 2023-08-03 6:22:27 AM\n",
      "  Exists = true }\r\n",
      "00:00:20 #60 [Error] watchWithFilter / readContent / retry: 0 / ex: System.AggregateException: One or more errors occurred. (The process cannot access the file 'C:\\Users\\i574n\\AppData\\Local\\Temp\\!dotnet-repl\\20230803-0622-2789-8956-8d6a0700bcd6\\file1.txt' because it is being used by another process.) / fullPath: C:\\Users\\i574n\\AppData\\Local\\Temp\\!dotnet-repl\\20230803-0622-2789-8956-8d6a0700bcd6 / filter: FileName, LastWrite\r\n",
      "00:00:20 #61 [Error] watchWithFilter / readContent / retry: 0 / ex: System.AggregateException: One or more errors occurred. (The process cannot access the file 'C:\\Users\\i574n\\AppData\\Local\\Temp\\!dotnet-repl\\20230803-0622-2789-8956-8d6a0700bcd6\\file1.txt' because it is being used by another process.) / fullPath: C:\\Users\\i574n\\AppData\\Local\\Temp\\!dotnet-repl\\20230803-0622-2789-8956-8d6a0700bcd6 / filter: FileName, LastWrite\r\n",
      "00:00:20 #62 [Error] watchWithFilter / readContent / retry: 0 / ex: System.AggregateException: One or more errors occurred. (The process cannot access the file 'C:\\Users\\i574n\\AppData\\Local\\Temp\\!dotnet-repl\\20230803-0622-2789-8956-8d6a0700bcd6\\file2.txt' because it is being used by another process.) / fullPath: C:\\Users\\i574n\\AppData\\Local\\Temp\\!dotnet-repl\\20230803-0622-2789-8956-8d6a0700bcd6 / filter: FileName, LastWrite\r\n",
      "00:00:20 #63 [Error] watchWithFilter / readContent / retry: 0 / ex: System.AggregateException: One or more errors occurred. (The process cannot access the file 'C:\\Users\\i574n\\AppData\\Local\\Temp\\!dotnet-repl\\20230803-0622-2789-8956-8d6a0700bcd6\\file2.txt' because it is being used by another process.) / fullPath: C:\\Users\\i574n\\AppData\\Local\\Temp\\!dotnet-repl\\20230803-0622-2789-8956-8d6a0700bcd6 / filter: FileName, LastWrite\r\n",
      "00:00:20 #65 [Warn] waitForFileAccess / path: C:\\Users\\i574n\\AppData\\Local\\Temp\\!dotnet-repl\\20230803-0622-2789-8956-8d6a0700bcd6\\file2.txt / ex: System.IO.IOException: The process cannot access the file 'C:\\Users\\i574n\\AppData\\Local\\Temp\\!dotnet-repl\\20230803-0622-2789-8956-8d6a0700bcd6\\file2.txt' because it is being used by another process.\r\n",
      "00:00:20 #64 [Warn] waitForFileAccess / path: C:\\Users\\i574n\\AppData\\Local\\Temp\\!dotnet-repl\\20230803-0622-2789-8956-8d6a0700bcd6\\file2.txt / ex: System.IO.IOException: The process cannot access the file 'C:\\Users\\i574n\\AppData\\Local\\Temp\\!dotnet-repl\\20230803-0622-2789-8956-8d6a0700bcd6\\file2.txt' because it is being used by another process.\r\n",
      "00:00:22 #66 [Error] watchWithFilter / readContent / retry: 0 / ex: System.AggregateException: One or more errors occurred. (The process cannot access the file 'C:\\Users\\i574n\\AppData\\Local\\Temp\\!dotnet-repl\\20230803-0622-2789-8956-8d6a0700bcd6\\file1.txt' because it is being used by another process.) / fullPath: C:\\Users\\i574n\\AppData\\Local\\Temp\\!dotnet-repl\\20230803-0622-2789-8956-8d6a0700bcd6 / filter: FileName, LastWrite\r\n",
      "00:00:22 #67 [Warn] waitForFileAccess / path: C:\\Users\\i574n\\AppData\\Local\\Temp\\!dotnet-repl\\20230803-0622-2789-8956-8d6a0700bcd6\\file1.txt / ex: System.IO.IOException: The process cannot access the file 'C:\\Users\\i574n\\AppData\\Local\\Temp\\!dotnet-repl\\20230803-0622-2789-8956-8d6a0700bcd6\\file1.txt' because it is being used by another process.\r\n",
      "00:00:22 #68 [Error] watchWithFilter / readContent / retry: 0 / ex: System.AggregateException: One or more errors occurred. (The process cannot access the file 'C:\\Users\\i574n\\AppData\\Local\\Temp\\!dotnet-repl\\20230803-0622-2789-8956-8d6a0700bcd6\\file2.txt' because it is being used by another process.) / fullPath: C:\\Users\\i574n\\AppData\\Local\\Temp\\!dotnet-repl\\20230803-0622-2789-8956-8d6a0700bcd6 / filter: FileName, LastWrite\r\n",
      "00:00:22 #69 [Warn] waitForFileAccess / path: C:\\Users\\i574n\\AppData\\Local\\Temp\\!dotnet-repl\\20230803-0622-2789-8956-8d6a0700bcd6\\file2.txt / ex: System.IO.IOException: The process cannot access the file 'C:\\Users\\i574n\\AppData\\Local\\Temp\\!dotnet-repl\\20230803-0622-2789-8956-8d6a0700bcd6\\file2.txt' because it is being used by another process.\r\n",
      "00:00:25 #70 [Error] watchWithFilter / readContent / retry: 0 / ex: System.AggregateException: One or more errors occurred. (The process cannot access the file 'C:\\Users\\i574n\\AppData\\Local\\Temp\\!dotnet-repl\\20230803-0622-2789-8956-8d6a0700bcd6\\file_1.txt' because it is being used by another process.) / fullPath: C:\\Users\\i574n\\AppData\\Local\\Temp\\!dotnet-repl\\20230803-0622-2789-8956-8d6a0700bcd6 / filter: FileName, LastWrite\r\n",
      "00:00:25 #71 [Warn] waitForFileAccess / path: C:\\Users\\i574n\\AppData\\Local\\Temp\\!dotnet-repl\\20230803-0622-2789-8956-8d6a0700bcd6\\file_1.txt / ex: System.IO.IOException: The process cannot access the file 'C:\\Users\\i574n\\AppData\\Local\\Temp\\!dotnet-repl\\20230803-0622-2789-8956-8d6a0700bcd6\\file_1.txt' because it is being used by another process.\r\n",
      "00:00:25 #72 [Error] watchWithFilter / readContent / retry: 0 / ex: System.AggregateException: One or more errors occurred. (The process cannot access the file 'C:\\Users\\i574n\\AppData\\Local\\Temp\\!dotnet-repl\\20230803-0622-2789-8956-8d6a0700bcd6\\file_2.txt' because it is being used by another process.) / fullPath: C:\\Users\\i574n\\AppData\\Local\\Temp\\!dotnet-repl\\20230803-0622-2789-8956-8d6a0700bcd6 / filter: FileName, LastWrite\r\n",
      "00:00:25 #73 [Warn] waitForFileAccess / path: C:\\Users\\i574n\\AppData\\Local\\Temp\\!dotnet-repl\\20230803-0622-2789-8956-8d6a0700bcd6\\file_2.txt / ex: System.IO.IOException: The process cannot access the file 'C:\\Users\\i574n\\AppData\\Local\\Temp\\!dotnet-repl\\20230803-0622-2789-8956-8d6a0700bcd6\\file_2.txt' because it is being used by another process.\r\n",
      "FSharpOption<Unit>\r\n",
      "      Value: <null>\r\n",
      "00:00:28 #74 [Debug] watchWithFilter / Disposing watch stream / fullPath: C:\\Users\\i574n\\AppData\\Local\\Temp\\!dotnet-repl\\20230803-0622-2789-8956-8d6a0700bcd6 / filter: FileName, LastWrite\r\n",
      "00:00:28 #75 [Debug] testEventsRaw / eventsLog: \n",
      "0 / 638266513481717454 / Created  (\"file1.txt\",   Some     \"1111111111111111111111111111111111111\n",
      "1 / 638266513481717455 / Changed  (\"file1.txt\",   Some     \"1111111111111111111111111111111111111\n",
      "207673 / 638266513481925128 / Changed  (\"file1.txt\",   Some     \"11111111111111111111111111111111\n",
      "18032 / 638266513481943160 / Created  (\"file2.txt\",   Some     \"222222222222222222222222222222222\n",
      "1 / 638266513481943161 / Changed  (\"file2.txt\",   Some     \"2222222222222222222222222222222222222\n",
      "174859 / 638266513482118020 / Changed  (\"file2.txt\",   Some     \"22222222222222222222222222222222\n",
      "15176354 / 638266513497294374 / Changed  (\"file1.txt\",   Some     \"111111111111111111111111111111\n",
      "193461 / 638266513497487835 / Changed  (\"file1.txt\",   Some     \"11111111111111111111111111111111\n",
      "50372 / 638266513497538207 / Changed  (\"file2.txt\",   Some     \"222222222222222222222222222222222\n",
      "194214 / 638266513497732421 / Changed  (\"file2.txt\",   Some     \"22222222222222222222222222222222\n",
      "15018939 / 638266513512751360 / Renamed  (\"file1.txt\",   (\"file_1.txt\",    Some      \"1111111111\n",
      "5404 / 638266513512756764 / Renamed  (\"file2.txt\",   (\"file_2.txt\",    Some      \"22222222222222\n",
      "15095225 / 638266513527851989 / Changed  (\"file_1.txt\",   Some     \"11111111111111111111111111111\n",
      "103990 / 638266513527955979 / Changed  (\"file_1.txt\",   Some     \"1111111111111111111111111111111\n",
      "35769 / 638266513527991748 / Changed  (\"file_2.txt\",   Some     \"22222222222222222222222222222222\n",
      "120383 / 638266513528112131 / Changed  (\"file_2.txt\",   Some     \"2222222222222222222222222222222\n",
      "15074876 / 638266513543187007 / Deleted \"file_1.txt\"\n",
      "19800 / 638266513543206807 / Deleted \"file_2.txt\"\r\n",
      "FSharpList<FileSystemChange>\r\n",
      "      - path: file1.txt\r\n",
      "        content: FSharpOption<String>\r\n",
      "          Value: 1a\r\n",
      "      - path: file1.txt\r\n",
      "        content: FSharpOption<String>\r\n",
      "          Value: 1a\r\n",
      "      - path: file2.txt\r\n",
      "        content: FSharpOption<String>\r\n",
      "          Value: 2a\r\n",
      "      - path: file2.txt\r\n",
      "        content: FSharpOption<String>\r\n",
      "          Value: 2a\r\n",
      "      - path: file1.txt\r\n",
      "        content: FSharpOption<String>\r\n",
      "          Value: 1b\r\n",
      "      - path: file2.txt\r\n",
      "        content: FSharpOption<String>\r\n",
      "          Value: 2b\r\n",
      "      - oldPath: file1.txt\r\n",
      "        Item2:         - file_1.txt\r\n",
      "        - FSharpOption<String>\r\n",
      "            Value: 1b\r\n",
      "      - oldPath: file2.txt\r\n",
      "        Item2:         - file_2.txt\r\n",
      "        - FSharpOption<String>\r\n",
      "            Value: 2b\r\n",
      "      - path: file_1.txt\r\n",
      "        content: FSharpOption<String>\r\n",
      "          Value: 1c\r\n",
      "      - path: file_2.txt\r\n",
      "        content: FSharpOption<String>\r\n",
      "          Value: 2c\r\n",
      "      - path: file_1.txt\r\n",
      "      - path: file_2.txt\r\n",
      "FSharpOption<Unit>\r\n",
      "      Value: <null>\r\n"
     ]
    }
   ],
   "source": [
    "//// test\n",
    "\n",
    "let inline write path = async {\n",
    "    let n = 2\n",
    "\n",
    "    let contents =\n",
    "        [1..n]\n",
    "        |> List.map (string >> String.replicate 1_000_000)\n",
    "\n",
    "    for i = 1 to n do\n",
    "        do! $\"{contents.[i - 1]}a\" |> writeAllTextAsync (path </> $\"file{i}.txt\")\n",
    "\n",
    "    do! Async.Sleep 1500\n",
    "\n",
    "    for i = 1 to n do\n",
    "        do! $\"{contents.[i - 1]}b\" |> writeAllTextAsync (path </> $\"file{i}.txt\")\n",
    "\n",
    "    do! Async.Sleep 1500\n",
    "\n",
    "    for i = 1 to n do\n",
    "        do! path </> $\"file{i}.txt\" |> moveFileAsync (path </> $\"file_{i}.txt\") |> Async.Ignore\n",
    "\n",
    "    do! Async.Sleep 1500\n",
    "\n",
    "    for i = 1 to n do\n",
    "        do! $\"{contents.[i - 1]}c\" |> writeAllTextAsync (path </> $\"file_{i}.txt\")\n",
    "\n",
    "    do! Async.Sleep 1500\n",
    "\n",
    "    for i = 1 to n do\n",
    "        do! deleteFileAsync (path </> $\"file_{i}.txt\") |> Async.Ignore\n",
    "\n",
    "    do! Async.Sleep 1500\n",
    "}\n",
    "\n",
    "let inline run () =\n",
    "    let events =\n",
    "        testEventsRaw watchDirectory write\n",
    "        |> List.map (function\n",
    "            | FileSystemChange.Changed (path, Some content) ->\n",
    "                FileSystemChange.Changed (path, content |> Seq.distinct |> Seq.map string |> String.concat \"\" |> Some)\n",
    "            | FileSystemChange.Created (path, Some content) ->\n",
    "                FileSystemChange.Created (path, content |> Seq.distinct |> Seq.map string |> String.concat \"\" |> Some)\n",
    "            | FileSystemChange.Renamed (oldPath, (newPath, Some content)) ->\n",
    "                FileSystemChange.Renamed (\n",
    "                    oldPath,\n",
    "                    (newPath, content |> Seq.distinct |> Seq.map string |> String.concat \"\" |> Some)\n",
    "                )\n",
    "            | event -> event\n",
    "        )\n",
    "\n",
    "    events\n",
    "    |> _sequenceEqual [\n",
    "        FileSystemChange.Created (\"file1.txt\", Some \"1a\")\n",
    "        FileSystemChange.Changed (\"file1.txt\", Some \"1a\")\n",
    "        FileSystemChange.Created (\"file2.txt\", Some \"2a\")\n",
    "        FileSystemChange.Changed (\"file2.txt\", Some \"2a\")\n",
    "\n",
    "        FileSystemChange.Changed (\"file1.txt\", Some \"1b\")\n",
    "        FileSystemChange.Changed (\"file2.txt\", Some \"2b\")\n",
    "\n",
    "        FileSystemChange.Renamed (\"file1.txt\", (\"file_1.txt\", Some \"1b\"))\n",
    "        FileSystemChange.Renamed (\"file2.txt\", (\"file_2.txt\", Some \"2b\"))\n",
    "\n",
    "        FileSystemChange.Changed (\"file_1.txt\", Some \"1c\")\n",
    "        FileSystemChange.Changed (\"file_2.txt\", Some \"2c\")\n",
    "\n",
    "        FileSystemChange.Deleted \"file_1.txt\"\n",
    "        FileSystemChange.Deleted \"file_2.txt\"\n",
    "    ]\n",
    "\n",
    "run\n",
    "|> retryFn 3\n",
    "|> _equal (Some ())"
   ]
  },
  {
   "cell_type": "markdown",
   "metadata": {},
   "source": [
    "### testEventsSorted (test)"
   ]
  },
  {
   "cell_type": "code",
   "execution_count": null,
   "metadata": {
    "dotnet_interactive": {
     "language": "fsharp"
    },
    "polyglot_notebook": {
     "kernelName": "fsharp"
    }
   },
   "outputs": [],
   "source": [
    "//// test\n",
    "\n",
    "let inline sortEvent event =\n",
    "    match event with\n",
    "    | FileSystemChange.Error _ -> 0\n",
    "    | FileSystemChange.Created _ -> 1\n",
    "    | FileSystemChange.Changed _ -> 2\n",
    "    | FileSystemChange.Renamed (_oldPath, _) -> 3\n",
    "    | FileSystemChange.Deleted _ -> 4\n",
    "\n",
    "let inline formatEvents events =\n",
    "    events\n",
    "    |> Seq.toList\n",
    "    |> List.sortBy (snd >> sortEvent)\n",
    "    |> List.choose (fun (ticks, event) ->\n",
    "        match event with\n",
    "        | FileSystemChange.Error _ ->\n",
    "            None\n",
    "        | FileSystemChange.Changed (path, _) ->\n",
    "            Some (ticks, System.IO.Path.GetFileName path, nameof FileSystemChangeType.Changed)\n",
    "        | FileSystemChange.Created (path, _) ->\n",
    "            Some (ticks, System.IO.Path.GetFileName path, nameof FileSystemChangeType.Created)\n",
    "        | FileSystemChange.Deleted path ->\n",
    "            Some (ticks, System.IO.Path.GetFileName path, nameof FileSystemChangeType.Deleted)\n",
    "        | FileSystemChange.Renamed (_oldPath, (path, _)) ->\n",
    "            Some (ticks, System.IO.Path.GetFileName path, nameof FileSystemChangeType.Renamed)\n",
    "    )\n",
    "    |> List.sortBy (fun (_, path, _) -> path)\n",
    "    |> List.distinctBy (fun (_, path, event) -> path, event)\n",
    "\n",
    "let inline testEventsSorted\n",
    "    (watchFn : string -> FSharp.Control.AsyncSeq<int64 * FileSystemChange> * IDisposable)\n",
    "    write\n",
    "    =\n",
    "    let path = createTempDirectory ()\n",
    "    let stream, disposable = watchFn path\n",
    "\n",
    "    let events = System.Collections.Concurrent.ConcurrentBag ()\n",
    "\n",
    "    let inline iter () =\n",
    "        stream\n",
    "        |> FSharp.Control.AsyncSeq.iterAsyncParallel (fun event -> async { events.Add event })\n",
    "\n",
    "    let run = async {\n",
    "        let! _ = iter () |> Async.StartChild\n",
    "        do! Async.Sleep 250\n",
    "        return! write path\n",
    "    }\n",
    "\n",
    "    try\n",
    "        run\n",
    "        |> Async.runWithTimeout 5000\n",
    "        |> _equal (Some ())\n",
    "    finally\n",
    "        disposable.Dispose ()\n",
    "        deleteDirectoryAsync path |> Async.Ignore |> Async.RunSynchronously\n",
    "\n",
    "    let events = formatEvents events\n",
    "\n",
    "    let eventMap =\n",
    "        events\n",
    "        |> List.map (fun (ticks, path, event) -> path, (event, ticks))\n",
    "        |> List.groupBy fst\n",
    "        |> List.map (fun (path, events) ->\n",
    "            let event, _ticks =\n",
    "                events\n",
    "                |> List.map snd\n",
    "                |> List.sortByDescending snd\n",
    "                |> List.head\n",
    "\n",
    "            path, event\n",
    "        )\n",
    "        |> Map.ofList\n",
    "\n",
    "    let eventList =\n",
    "        events\n",
    "        |> List.map (fun (_ticks, path, event) -> path, event)\n",
    "\n",
    "    eventMap, eventList"
   ]
  },
  {
   "cell_type": "markdown",
   "metadata": {},
   "source": [
    "#### create and delete (test)"
   ]
  },
  {
   "cell_type": "code",
   "execution_count": null,
   "metadata": {
    "dotnet_interactive": {
     "language": "fsharp"
    },
    "polyglot_notebook": {
     "kernelName": "fsharp"
    }
   },
   "outputs": [
    {
     "name": "stdout",
     "output_type": "stream",
     "text": [
      "00:00:30 #76 [Debug] createTempDirectory / tempFolder: C:\\Users\\i574n\\AppData\\Local\\Temp\\!dotnet-repl\\20230803-0622-3847-4748-43c60868c638 / result: { CreationTime = 2023-08-03 6:22:38 AM\n",
      "  Exists = true }\r\n",
      "FSharpOption<Unit>\r\n",
      "      Value: <null>\r\n",
      "00:00:31 #77 [Debug] watchWithFilter / Disposing watch stream / fullPath: C:\\Users\\i574n\\AppData\\Local\\Temp\\!dotnet-repl\\20230803-0622-3847-4748-43c60868c638 / filter: FileName, LastWrite\r\n",
      "FSharpList<Tuple<String,String>>\r\n",
      "( file1.txt, Created )\r\n",
      "( file1.txt, Changed )\r\n",
      "( file1.txt, Deleted )\r\n",
      "( file2.txt, Created )\r\n",
      "( file2.txt, Changed )\r\n",
      "( file2.txt, Deleted )\r\n",
      "( file3.txt, Created )\r\n",
      "( file3.txt, Changed )\r\n",
      "( file3.txt, Deleted )\r\n",
      "FSharpMap<String,String>\r\n",
      "      - Key: file1.txt\r\n",
      "        Value: Deleted\r\n",
      "      - Key: file2.txt\r\n",
      "        Value: Deleted\r\n",
      "      - Key: file3.txt\r\n",
      "        Value: Deleted\r\n",
      "FSharpOption<Unit>\r\n",
      "      Value: <null>\r\n"
     ]
    }
   ],
   "source": [
    "//// test\n",
    "\n",
    "let inline write path = async {\n",
    "    let n = 3\n",
    "\n",
    "    for i = 1 to n do\n",
    "        do! $\"{i}\" |> writeAllTextAsync (path </> $\"file{i}.txt\")\n",
    "\n",
    "    for i = 1 to n do\n",
    "        do! deleteFileAsync (path </> $\"file{i}.txt\") |> Async.Ignore\n",
    "    \n",
    "    do! Async.Sleep 150\n",
    "}\n",
    "\n",
    "let inline run () =\n",
    "    let eventMap, eventList = testEventsSorted (watchDirectory false) write\n",
    "\n",
    "    [\n",
    "        \"file1.txt\", nameof FileSystemChangeType.Created\n",
    "        \"file1.txt\", nameof FileSystemChangeType.Changed\n",
    "        \"file1.txt\", nameof FileSystemChangeType.Deleted\n",
    "\n",
    "        \"file2.txt\", nameof FileSystemChangeType.Created\n",
    "        \"file2.txt\", nameof FileSystemChangeType.Changed\n",
    "        \"file2.txt\", nameof FileSystemChangeType.Deleted\n",
    "\n",
    "        \"file3.txt\", nameof FileSystemChangeType.Created\n",
    "        \"file3.txt\", nameof FileSystemChangeType.Changed\n",
    "        \"file3.txt\", nameof FileSystemChangeType.Deleted\n",
    "    ]\n",
    "    |> _sequenceEqual eventList\n",
    "\n",
    "    [\n",
    "        \"file1.txt\", nameof FileSystemChangeType.Deleted\n",
    "        \"file2.txt\", nameof FileSystemChangeType.Deleted\n",
    "        \"file3.txt\", nameof FileSystemChangeType.Deleted\n",
    "    ]\n",
    "    |> Map.ofList\n",
    "    |> _sequenceEqual eventMap\n",
    "\n",
    "run\n",
    "|> retryFn 3\n",
    "|> _equal (Some ())"
   ]
  },
  {
   "cell_type": "markdown",
   "metadata": {},
   "source": [
    "#### change (test)"
   ]
  },
  {
   "cell_type": "code",
   "execution_count": null,
   "metadata": {
    "dotnet_interactive": {
     "language": "fsharp"
    },
    "polyglot_notebook": {
     "kernelName": "fsharp"
    }
   },
   "outputs": [
    {
     "name": "stdout",
     "output_type": "stream",
     "text": [
      "00:00:33 #78 [Debug] createTempDirectory / tempFolder: C:\\Users\\i574n\\AppData\\Local\\Temp\\!dotnet-repl\\20230803-0622-4146-4655-4c6271f4999a / result: { CreationTime = 2023-08-03 6:22:41 AM\n",
      "  Exists = true }\r\n",
      "FSharpOption<Unit>\r\n",
      "      Value: <null>\r\n",
      "00:00:34 #79 [Debug] watchWithFilter / Disposing watch stream / fullPath: C:\\Users\\i574n\\AppData\\Local\\Temp\\!dotnet-repl\\20230803-0622-4146-4655-4c6271f4999a / filter: FileName, LastWrite\r\n",
      "FSharpList<Tuple<String,String>>\r\n",
      "( file1.txt, Created )\r\n",
      "( file1.txt, Changed )\r\n",
      "( file1.txt, Deleted )\r\n",
      "( file2.txt, Created )\r\n",
      "( file2.txt, Changed )\r\n",
      "( file2.txt, Deleted )\r\n",
      "FSharpMap<String,String>\r\n",
      "      - Key: file1.txt\r\n",
      "        Value: Deleted\r\n",
      "      - Key: file2.txt\r\n",
      "        Value: Deleted\r\n",
      "FSharpOption<Unit>\r\n",
      "      Value: <null>\r\n"
     ]
    }
   ],
   "source": [
    "//// test\n",
    "\n",
    "let inline write path = async {\n",
    "    let n = 2\n",
    "\n",
    "    for i = 1 to n do\n",
    "        do! $\"{i}\" |> writeAllTextAsync (path </> $\"file{i}.txt\")\n",
    "\n",
    "    for i = 1 to n do\n",
    "        do! \"\" |> writeAllTextAsync (path </> $\"file{i}.txt\")\n",
    "\n",
    "    for i = 1 to n do\n",
    "        do! deleteFileAsync (path </> $\"file{i}.txt\") |> Async.Ignore\n",
    "    \n",
    "    do! Async.Sleep 150\n",
    "}\n",
    "\n",
    "let inline run () =\n",
    "    let eventMap, eventList = testEventsSorted (watchDirectory false) write\n",
    "\n",
    "    [\n",
    "        \"file1.txt\", nameof FileSystemChangeType.Created\n",
    "        \"file1.txt\", nameof FileSystemChangeType.Changed\n",
    "        \"file1.txt\", nameof FileSystemChangeType.Deleted\n",
    "\n",
    "        \"file2.txt\", nameof FileSystemChangeType.Created\n",
    "        \"file2.txt\", nameof FileSystemChangeType.Changed\n",
    "        \"file2.txt\", nameof FileSystemChangeType.Deleted\n",
    "    ]\n",
    "    |> _sequenceEqual eventList\n",
    "\n",
    "    [\n",
    "        \"file1.txt\", nameof FileSystemChangeType.Deleted\n",
    "        \"file2.txt\", nameof FileSystemChangeType.Deleted\n",
    "    ]\n",
    "    |> Map.ofList\n",
    "    |> _sequenceEqual eventMap\n",
    "\n",
    "run\n",
    "|> retryFn 3\n",
    "|> _equal (Some ())"
   ]
  },
  {
   "cell_type": "markdown",
   "metadata": {},
   "source": [
    "#### rename (test)"
   ]
  },
  {
   "cell_type": "code",
   "execution_count": null,
   "metadata": {
    "dotnet_interactive": {
     "language": "fsharp"
    },
    "polyglot_notebook": {
     "kernelName": "fsharp"
    }
   },
   "outputs": [
    {
     "name": "stdout",
     "output_type": "stream",
     "text": [
      "00:00:36 #80 [Debug] createTempDirectory / tempFolder: C:\\Users\\i574n\\AppData\\Local\\Temp\\!dotnet-repl\\20230803-0622-4451-5133-5be065de157f / result: { CreationTime = 2023-08-03 6:22:44 AM\n",
      "  Exists = true }\r\n",
      "FSharpOption<Unit>\r\n",
      "      Value: <null>\r\n",
      "00:00:37 #81 [Debug] watchWithFilter / Disposing watch stream / fullPath: C:\\Users\\i574n\\AppData\\Local\\Temp\\!dotnet-repl\\20230803-0622-4451-5133-5be065de157f / filter: FileName, LastWrite\r\n",
      "FSharpList<Tuple<String,String>>\r\n",
      "( file1.txt, Created )\r\n",
      "( file1.txt, Changed )\r\n",
      "( file2.txt, Created )\r\n",
      "( file2.txt, Changed )\r\n",
      "( file_1.txt, Renamed )\r\n",
      "( file_1.txt, Deleted )\r\n",
      "( file_2.txt, Renamed )\r\n",
      "( file_2.txt, Deleted )\r\n",
      "FSharpMap<String,String>\r\n",
      "      - Key: file1.txt\r\n",
      "        Value: Changed\r\n",
      "      - Key: file2.txt\r\n",
      "        Value: Changed\r\n",
      "      - Key: file_1.txt\r\n",
      "        Value: Deleted\r\n",
      "      - Key: file_2.txt\r\n",
      "        Value: Deleted\r\n",
      "FSharpOption<Unit>\r\n",
      "      Value: <null>\r\n"
     ]
    }
   ],
   "source": [
    "//// test\n",
    "\n",
    "let inline write path = async {\n",
    "    let n = 2\n",
    "\n",
    "    for i = 1 to n do\n",
    "        do! $\"{i}\" |> writeAllTextAsync (path </> $\"file{i}.txt\")\n",
    "\n",
    "    for i = 1 to n do\n",
    "        do! path </> $\"file{i}.txt\" |> moveFileAsync (path </> $\"file_{i}.txt\") |> Async.Ignore\n",
    "\n",
    "    for i = 1 to n do\n",
    "        do! deleteFileAsync (path </> $\"file_{i}.txt\") |> Async.Ignore\n",
    "    \n",
    "    do! Async.Sleep 150\n",
    "}\n",
    "\n",
    "let inline run () =\n",
    "    let eventMap, eventList = testEventsSorted (watchDirectory false) write\n",
    "\n",
    "    [\n",
    "        \"file1.txt\", nameof FileSystemChangeType.Created\n",
    "        \"file1.txt\", nameof FileSystemChangeType.Changed\n",
    "        \"file2.txt\", nameof FileSystemChangeType.Created\n",
    "        \"file2.txt\", nameof FileSystemChangeType.Changed\n",
    "\n",
    "        \"file_1.txt\", nameof FileSystemChangeType.Renamed\n",
    "        \"file_1.txt\", nameof FileSystemChangeType.Deleted\n",
    "\n",
    "        \"file_2.txt\", nameof FileSystemChangeType.Renamed\n",
    "        \"file_2.txt\", nameof FileSystemChangeType.Deleted\n",
    "    ]\n",
    "    |> _sequenceEqual eventList\n",
    "\n",
    "    [\n",
    "        \"file1.txt\", nameof FileSystemChangeType.Changed\n",
    "        \"file2.txt\", nameof FileSystemChangeType.Changed\n",
    "        \"file_1.txt\", nameof FileSystemChangeType.Deleted\n",
    "        \"file_2.txt\", nameof FileSystemChangeType.Deleted\n",
    "    ]\n",
    "    |> Map.ofList\n",
    "    |> _sequenceEqual eventMap\n",
    "\n",
    "run\n",
    "|> retryFn 3\n",
    "|> _equal (Some ())"
   ]
  },
  {
   "cell_type": "markdown",
   "metadata": {},
   "source": [
    "#### full (test)"
   ]
  },
  {
   "cell_type": "code",
   "execution_count": null,
   "metadata": {
    "dotnet_interactive": {
     "language": "fsharp"
    },
    "polyglot_notebook": {
     "kernelName": "fsharp"
    }
   },
   "outputs": [
    {
     "name": "stdout",
     "output_type": "stream",
     "text": [
      "00:00:40 #82 [Debug] createTempDirectory / tempFolder: C:\\Users\\i574n\\AppData\\Local\\Temp\\!dotnet-repl\\20230803-0622-4781-8141-86d8dd46d5d5 / result: { CreationTime = 2023-08-03 6:22:47 AM\n",
      "  Exists = true }\r\n",
      "FSharpOption<Unit>\r\n",
      "      Value: <null>\r\n",
      "00:00:40 #83 [Debug] watchWithFilter / Disposing watch stream / fullPath: C:\\Users\\i574n\\AppData\\Local\\Temp\\!dotnet-repl\\20230803-0622-4781-8141-86d8dd46d5d5 / filter: FileName, LastWrite\r\n",
      "FSharpList<Tuple<String,String>>\r\n",
      "( file1.txt, Created )\r\n",
      "( file1.txt, Changed )\r\n",
      "( file2.txt, Created )\r\n",
      "( file2.txt, Changed )\r\n",
      "( file_1.txt, Changed )\r\n",
      "( file_1.txt, Renamed )\r\n",
      "( file_1.txt, Deleted )\r\n",
      "( file_2.txt, Changed )\r\n",
      "( file_2.txt, Renamed )\r\n",
      "( file_2.txt, Deleted )\r\n",
      "FSharpMap<String,String>\r\n",
      "      - Key: file1.txt\r\n",
      "        Value: Changed\r\n",
      "      - Key: file2.txt\r\n",
      "        Value: Changed\r\n",
      "      - Key: file_1.txt\r\n",
      "        Value: Deleted\r\n",
      "      - Key: file_2.txt\r\n",
      "        Value: Deleted\r\n",
      "FSharpOption<Unit>\r\n",
      "      Value: <null>\r\n"
     ]
    }
   ],
   "source": [
    "//// test\n",
    "\n",
    "let inline write path = async {\n",
    "    let n = 2\n",
    "\n",
    "    for i = 1 to n do\n",
    "        do! $\"{i}\" |> writeAllTextAsync (path </> $\"file{i}.txt\")\n",
    "\n",
    "    for i = 1 to n do\n",
    "        do! \"\" |> writeAllTextAsync (path </> $\"file{i}.txt\")\n",
    "\n",
    "    for i = 1 to n do\n",
    "        do! path </> $\"file{i}.txt\" |> moveFileAsync (path </> $\"file_{i}.txt\") |> Async.Ignore\n",
    "\n",
    "    for i = 1 to n do\n",
    "        do! $\"{i}\" |> writeAllTextAsync (path </> $\"file_{i}.txt\")\n",
    "\n",
    "    for i = 1 to n do\n",
    "        do! deleteFileAsync (path </> $\"file_{i}.txt\") |> Async.Ignore\n",
    "    \n",
    "    do! Async.Sleep 150\n",
    "}\n",
    "\n",
    "let inline run () =\n",
    "    let eventMap, eventList = testEventsSorted (watchDirectory false) write\n",
    "\n",
    "    [\n",
    "        \"file1.txt\", nameof FileSystemChangeType.Created\n",
    "        \"file1.txt\", nameof FileSystemChangeType.Changed\n",
    "        \"file2.txt\", nameof FileSystemChangeType.Created\n",
    "        \"file2.txt\", nameof FileSystemChangeType.Changed\n",
    "\n",
    "        \"file_1.txt\", nameof FileSystemChangeType.Changed\n",
    "        \"file_1.txt\", nameof FileSystemChangeType.Renamed\n",
    "        \"file_1.txt\", nameof FileSystemChangeType.Deleted\n",
    "\n",
    "        \"file_2.txt\", nameof FileSystemChangeType.Changed\n",
    "        \"file_2.txt\", nameof FileSystemChangeType.Renamed\n",
    "        \"file_2.txt\", nameof FileSystemChangeType.Deleted\n",
    "    ]\n",
    "    |> _sequenceEqual eventList\n",
    "\n",
    "    [\n",
    "        \"file1.txt\", nameof FileSystemChangeType.Changed\n",
    "        \"file2.txt\", nameof FileSystemChangeType.Changed\n",
    "        \"file_1.txt\", nameof FileSystemChangeType.Deleted\n",
    "        \"file_2.txt\", nameof FileSystemChangeType.Deleted\n",
    "    ]\n",
    "    |> Map.ofList\n",
    "    |> _sequenceEqual eventMap\n",
    "\n",
    "run\n",
    "|> retryFn 3\n",
    "|> _equal (Some ())"
   ]
  }
 ],
 "metadata": {
  "kernelspec": {
   "display_name": ".NET (C#)",
   "language": "C#",
   "name": ".net-csharp"
  },
  "language_info": {
   "file_extension": ".cs",
   "mimetype": "text/x-csharp",
   "name": "C#",
   "pygments_lexer": "csharp",
   "version": "10.0"
  },
  "polyglot_notebook": {
   "defaultKernelName": "csharp",
   "items": [
    {
     "name": "csharp"
    }
   ]
  },
  "dotnet_interactive": {
   "defaultKernelName": "csharp",
   "items": [
    {
     "name": "csharp"
    }
   ]
  }
 },
 "nbformat": 4,
 "nbformat_minor": 5
}