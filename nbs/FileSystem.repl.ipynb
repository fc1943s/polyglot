{
 "cells": [
  {
   "cell_type": "markdown",
   "metadata": {
    "dotnet_repl_cellExecutionStartTime": "2023-07-21T16:14:59.9249112-03:00",
    "dotnet_repl_cellExecutionEndTime": "2023-07-21T16:15:00.0327004-03:00",
    "dotnet_repl_cellExecutionTime": "108.1995ms"
   },
   "source": [
    "# FileSystem (Polyglot)"
   ]
  },
  {
   "cell_type": "code",
   "execution_count": null,
   "metadata": {
    "dotnet_repl_cellExecutionStartTime": "2023-07-21T16:15:00.0401674-03:00",
    "dotnet_repl_cellExecutionEndTime": "2023-07-21T16:15:11.6935546-03:00",
    "dotnet_repl_cellExecutionTime": "11.6533895s",
    "dotnet_interactive": {
     "language": "fsharp"
    },
    "polyglot_notebook": {
     "kernelName": "fsharp"
    }
   },
   "outputs": [
    {
     "data": {
      "text/html": [
       "<div><div></div><div><strong>Installing Packages</strong><ul><li><span>Expecto</span></li></ul></div><div></div></div>"
      ]
     },
     "metadata": {},
     "output_type": "display_data"
    },
    {
     "data": {
      "text/html": [
       "<div><div></div><div><strong>Installing Packages</strong><ul><li><span>Expecto.</span></li></ul></div><div></div></div>"
      ]
     },
     "metadata": {},
     "output_type": "display_data"
    },
    {
     "data": {
      "text/html": [
       "<div><div></div><div><strong>Installing Packages</strong><ul><li><span>Expecto..</span></li></ul></div><div></div></div>"
      ]
     },
     "metadata": {},
     "output_type": "display_data"
    },
    {
     "data": {
      "text/html": [
       "<div><div></div><div><strong>Installing Packages</strong><ul><li><span>Expecto...</span></li></ul></div><div></div></div>"
      ]
     },
     "metadata": {},
     "output_type": "display_data"
    },
    {
     "data": {
      "text/html": [
       "<div><div></div><div><strong>Installing Packages</strong><ul><li><span>Expecto....</span></li></ul></div><div></div></div>"
      ]
     },
     "metadata": {},
     "output_type": "display_data"
    },
    {
     "data": {
      "text/html": [
       "<div><div></div><div><strong>Installing Packages</strong><ul><li><span>Expecto.....</span></li></ul></div><div></div></div>"
      ]
     },
     "metadata": {},
     "output_type": "display_data"
    },
    {
     "data": {
      "text/html": [
       "<div><div></div><div><strong>Installing Packages</strong><ul><li><span>Expecto......</span></li></ul></div><div></div></div>"
      ]
     },
     "metadata": {},
     "output_type": "display_data"
    },
    {
     "data": {
      "text/html": [
       "<div><div></div><div><strong>Installing Packages</strong><ul><li><span>Expecto.......</span></li></ul></div><div></div></div>"
      ]
     },
     "metadata": {},
     "output_type": "display_data"
    },
    {
     "data": {
      "text/html": [
       "<div><div></div><div><strong>Installing Packages</strong><ul><li><span>Expecto........</span></li></ul></div><div></div></div>"
      ]
     },
     "metadata": {},
     "output_type": "display_data"
    },
    {
     "data": {
      "text/html": [
       "<div><div></div><div></div><div><strong>Installed Packages</strong><ul><li><span>Expecto, 10.1.0</span></li></ul></div></div>"
      ]
     },
     "metadata": {},
     "output_type": "display_data"
    }
   ],
   "source": [
    "#!import ../nbs/Testing.dib"
   ]
  },
  {
   "cell_type": "code",
   "execution_count": null,
   "metadata": {
    "dotnet_repl_cellExecutionStartTime": "2023-07-21T16:15:11.6936699-03:00",
    "dotnet_repl_cellExecutionEndTime": "2023-07-21T16:15:16.0617931-03:00",
    "dotnet_repl_cellExecutionTime": "4.3681282s",
    "dotnet_interactive": {
     "language": "fsharp"
    },
    "polyglot_notebook": {
     "kernelName": "fsharp"
    }
   },
   "outputs": [
    {
     "data": {
      "text/html": [
       "<div><div></div><div><strong>Installing Packages</strong><ul><li><span>FSharp.Control.AsyncSeq</span></li><li><span>System.Reactive</span></li><li><span>System.Reactive.Linq</span></li></ul></div><div></div></div>"
      ]
     },
     "metadata": {},
     "output_type": "display_data"
    },
    {
     "data": {
      "text/html": [
       "<div><div></div><div><strong>Installing Packages</strong><ul><li><span>FSharp.Control.AsyncSeq.</span></li><li><span>System.Reactive.</span></li><li><span>System.Reactive.Linq.</span></li></ul></div><div></div></div>"
      ]
     },
     "metadata": {},
     "output_type": "display_data"
    },
    {
     "data": {
      "text/html": [
       "<div><div></div><div><strong>Installing Packages</strong><ul><li><span>FSharp.Control.AsyncSeq..</span></li><li><span>System.Reactive..</span></li><li><span>System.Reactive.Linq..</span></li></ul></div><div></div></div>"
      ]
     },
     "metadata": {},
     "output_type": "display_data"
    },
    {
     "data": {
      "text/html": [
       "<div><div></div><div><strong>Installing Packages</strong><ul><li><span>FSharp.Control.AsyncSeq...</span></li><li><span>System.Reactive...</span></li><li><span>System.Reactive.Linq...</span></li></ul></div><div></div></div>"
      ]
     },
     "metadata": {},
     "output_type": "display_data"
    },
    {
     "data": {
      "text/html": [
       "<div><div></div><div><strong>Installing Packages</strong><ul><li><span>FSharp.Control.AsyncSeq....</span></li><li><span>System.Reactive....</span></li><li><span>System.Reactive.Linq....</span></li></ul></div><div></div></div>"
      ]
     },
     "metadata": {},
     "output_type": "display_data"
    },
    {
     "data": {
      "text/html": [
       "<div><div></div><div><strong>Installing Packages</strong><ul><li><span>FSharp.Control.AsyncSeq.....</span></li><li><span>System.Reactive.....</span></li><li><span>System.Reactive.Linq.....</span></li></ul></div><div></div></div>"
      ]
     },
     "metadata": {},
     "output_type": "display_data"
    },
    {
     "data": {
      "text/html": [
       "<div><div></div><div><strong>Installing Packages</strong><ul><li><span>FSharp.Control.AsyncSeq......</span></li><li><span>System.Reactive......</span></li><li><span>System.Reactive.Linq......</span></li></ul></div><div></div></div>"
      ]
     },
     "metadata": {},
     "output_type": "display_data"
    },
    {
     "data": {
      "text/html": [
       "<div><div></div><div><strong>Installing Packages</strong><ul><li><span>FSharp.Control.AsyncSeq.......</span></li><li><span>System.Reactive.......</span></li><li><span>System.Reactive.Linq.......</span></li></ul></div><div></div></div>"
      ]
     },
     "metadata": {},
     "output_type": "display_data"
    },
    {
     "data": {
      "text/html": [
       "<div><div></div><div><strong>Installing Packages</strong><ul><li><span>FSharp.Control.AsyncSeq........</span></li><li><span>System.Reactive........</span></li><li><span>System.Reactive.Linq........</span></li></ul></div><div></div></div>"
      ]
     },
     "metadata": {},
     "output_type": "display_data"
    },
    {
     "data": {
      "text/html": [
       "<div><div></div><div></div><div><strong>Installed Packages</strong><ul><li><span>FSharp.Control.AsyncSeq, 3.2.1</span></li><li><span>System.Reactive, 5.0.0</span></li><li><span>System.Reactive.Linq, 6.0.0-preview.1</span></li></ul></div></div>"
      ]
     },
     "metadata": {},
     "output_type": "display_data"
    }
   ],
   "source": [
    "#r \"nuget:FSharp.Control.AsyncSeq\"\n",
    "#r \"nuget:System.Reactive,5.0.0\"\n",
    "#r \"nuget:System.Reactive.Linq,6.0.0-preview.1\""
   ]
  },
  {
   "cell_type": "code",
   "execution_count": null,
   "metadata": {
    "dotnet_repl_cellExecutionStartTime": "2023-07-21T16:15:16.0618847-03:00",
    "dotnet_repl_cellExecutionEndTime": "2023-07-21T16:15:18.1991117-03:00",
    "dotnet_repl_cellExecutionTime": "2.1372302s",
    "dotnet_interactive": {
     "language": "fsharp"
    },
    "polyglot_notebook": {
     "kernelName": "fsharp"
    }
   },
   "outputs": [],
   "source": [
    "#!import ../nbs/Common.fs\n",
    "#!import ../nbs/Async.fs\n",
    "#!import ../nbs/AsyncSeq.fs\n",
    "#!import ../nbs/Runtime.fs"
   ]
  },
  {
   "cell_type": "code",
   "execution_count": null,
   "metadata": {
    "dotnet_repl_cellExecutionStartTime": "2023-07-21T16:15:18.1991801-03:00",
    "dotnet_repl_cellExecutionEndTime": "2023-07-21T16:15:18.2089964-03:00",
    "dotnet_repl_cellExecutionTime": "9.8185ms",
    "dotnet_interactive": {
     "language": "fsharp"
    },
    "polyglot_notebook": {
     "kernelName": "fsharp"
    }
   },
   "outputs": [],
   "source": [
    "open Common"
   ]
  },
  {
   "cell_type": "markdown",
   "metadata": {
    "dotnet_repl_cellExecutionStartTime": "2023-07-21T16:15:18.2090456-03:00",
    "dotnet_repl_cellExecutionEndTime": "2023-07-21T16:15:18.212008-03:00",
    "dotnet_repl_cellExecutionTime": "2.9661ms"
   },
   "source": [
    "## Operators"
   ]
  },
  {
   "cell_type": "code",
   "execution_count": null,
   "metadata": {
    "dotnet_repl_cellExecutionStartTime": "2023-07-21T16:15:18.2120633-03:00",
    "dotnet_repl_cellExecutionEndTime": "2023-07-21T16:15:18.22324-03:00",
    "dotnet_repl_cellExecutionTime": "11.1803ms",
    "dotnet_interactive": {
     "language": "fsharp"
    },
    "polyglot_notebook": {
     "kernelName": "fsharp"
    }
   },
   "outputs": [],
   "source": [
    "let inline (</>) a b = System.IO.Path.Combine (a, b)"
   ]
  },
  {
   "cell_type": "markdown",
   "metadata": {
    "dotnet_repl_cellExecutionStartTime": "2023-07-21T16:15:18.2232983-03:00",
    "dotnet_repl_cellExecutionEndTime": "2023-07-21T16:15:18.2261811-03:00",
    "dotnet_repl_cellExecutionTime": "2.887ms"
   },
   "source": [
    "## createTempDirectoryName"
   ]
  },
  {
   "cell_type": "code",
   "execution_count": null,
   "metadata": {
    "dotnet_repl_cellExecutionStartTime": "2023-07-21T16:15:18.2262298-03:00",
    "dotnet_repl_cellExecutionEndTime": "2023-07-21T16:15:18.2622369-03:00",
    "dotnet_repl_cellExecutionTime": "36.0104ms",
    "dotnet_interactive": {
     "language": "fsharp"
    },
    "polyglot_notebook": {
     "kernelName": "fsharp"
    }
   },
   "outputs": [],
   "source": [
    "let createTempDirectoryName () =\n",
    "    let root =\n",
    "        match System.Reflection.Assembly.GetEntryAssembly().GetName().Name with\n",
    "        | assemblyName -> assemblyName\n",
    "\n",
    "    System.IO.Path.GetTempPath ()\n",
    "    </> $\"!{root}\"\n",
    "    </> string (newGuidFromDateTime System.DateTime.Now)"
   ]
  },
  {
   "cell_type": "code",
   "execution_count": null,
   "metadata": {
    "dotnet_repl_cellExecutionStartTime": "2023-07-21T16:15:18.2623248-03:00",
    "dotnet_repl_cellExecutionEndTime": "2023-07-21T16:15:18.3005419-03:00",
    "dotnet_repl_cellExecutionTime": "38.2202ms",
    "dotnet_interactive": {
     "language": "fsharp"
    },
    "polyglot_notebook": {
     "kernelName": "fsharp"
    }
   },
   "outputs": [
    {
     "name": "stdout",
     "output_type": "stream",
     "text": [
      "C:\\Users\\i574n\\AppData\\Local\\Temp\\!dotnet-repl\\20230721-1615-1828-2816-2bab4f2193cd\r\n"
     ]
    }
   ],
   "source": [
    "//// test\n",
    "\n",
    "createTempDirectoryName ()\n",
    "|> _contains System.IO.Path.DirectorySeparatorChar"
   ]
  },
  {
   "cell_type": "markdown",
   "metadata": {
    "dotnet_repl_cellExecutionStartTime": "2023-07-21T16:15:18.3005969-03:00",
    "dotnet_repl_cellExecutionEndTime": "2023-07-21T16:15:18.3025748-03:00",
    "dotnet_repl_cellExecutionTime": "1.9806ms"
   },
   "source": [
    "## createTempDirectory"
   ]
  },
  {
   "cell_type": "code",
   "execution_count": null,
   "metadata": {
    "dotnet_repl_cellExecutionStartTime": "2023-07-21T16:15:18.3026022-03:00",
    "dotnet_repl_cellExecutionEndTime": "2023-07-21T16:15:18.3993555-03:00",
    "dotnet_repl_cellExecutionTime": "96.7563ms",
    "dotnet_interactive": {
     "language": "fsharp"
    },
    "polyglot_notebook": {
     "kernelName": "fsharp"
    }
   },
   "outputs": [],
   "source": [
    "let createTempDirectory () =\n",
    "    let tempFolder = createTempDirectoryName ()\n",
    "    let result = System.IO.Directory.CreateDirectory tempFolder\n",
    "\n",
    "    let getLocals () =\n",
    "        $\"tempFolder: {tempFolder} / result: {({|\n",
    "            Exists = result.Exists\n",
    "            CreationTime = result.CreationTime\n",
    "        |})} {getLocals ()}\"\n",
    "\n",
    "    trace Debug (fun () -> \"createTempDirectory\") getLocals\n",
    "\n",
    "    tempFolder"
   ]
  },
  {
   "cell_type": "code",
   "execution_count": null,
   "metadata": {
    "dotnet_repl_cellExecutionStartTime": "2023-07-21T16:15:18.3993992-03:00",
    "dotnet_repl_cellExecutionEndTime": "2023-07-21T16:15:18.4612993-03:00",
    "dotnet_repl_cellExecutionTime": "61.9043ms",
    "dotnet_interactive": {
     "language": "fsharp"
    },
    "polyglot_notebook": {
     "kernelName": "fsharp"
    }
   },
   "outputs": [
    {
     "name": "stdout",
     "output_type": "stream",
     "text": [
      "16:15:18 #1 [Debug] createTempDirectory / tempFolder: C:\\Users\\i574n\\AppData\\Local\\Temp\\!dotnet-repl\\20230721-1615-1840-4095-4f31a7b1057b / result: { CreationTime = 2023-07-21 4:15:18 PM\n",
      "  Exists = true }\r\n",
      "True\r\n"
     ]
    }
   ],
   "source": [
    "//// test\n",
    "\n",
    "let tempDirectory = createTempDirectory ()\n",
    "\n",
    "Directory.Exists tempDirectory\n",
    "|> _equal true"
   ]
  },
  {
   "cell_type": "markdown",
   "metadata": {
    "dotnet_repl_cellExecutionStartTime": "2023-07-21T16:15:18.4613439-03:00",
    "dotnet_repl_cellExecutionEndTime": "2023-07-21T16:15:18.4632909-03:00",
    "dotnet_repl_cellExecutionTime": "1.9509ms"
   },
   "source": [
    "## waitForFileAccess"
   ]
  },
  {
   "cell_type": "code",
   "execution_count": null,
   "metadata": {
    "dotnet_repl_cellExecutionStartTime": "2023-07-21T16:15:18.4633212-03:00",
    "dotnet_repl_cellExecutionEndTime": "2023-07-21T16:15:18.5773799-03:00",
    "dotnet_repl_cellExecutionTime": "114.0619ms",
    "dotnet_interactive": {
     "language": "fsharp"
    },
    "polyglot_notebook": {
     "kernelName": "fsharp"
    }
   },
   "outputs": [],
   "source": [
    "let waitForFileAccess path =\n",
    "    let rec loop retry = async {\n",
    "        try\n",
    "            use _ = new System.IO.FileStream (\n",
    "                path,\n",
    "                System.IO.FileMode.Open,\n",
    "                System.IO.FileAccess.ReadWrite,\n",
    "                System.IO.FileShare.None\n",
    "            )\n",
    "            return retry\n",
    "        with ex ->\n",
    "            if retry % 100 = 0 then\n",
    "                let getLocals () = $\"path: {path} / message: {ex.Message} / {getLocals ()}\"\n",
    "                trace Warn (fun () -> \"waitForFileAccess\") getLocals\n",
    "            do! Async.Sleep 1\n",
    "            return! loop (retry + 1)\n",
    "    }\n",
    "    loop 0"
   ]
  },
  {
   "cell_type": "code",
   "execution_count": null,
   "metadata": {
    "dotnet_repl_cellExecutionStartTime": "2023-07-21T16:15:18.5774248-03:00",
    "dotnet_repl_cellExecutionEndTime": "2023-07-21T16:15:20.9602367-03:00",
    "dotnet_repl_cellExecutionTime": "2.3828145s",
    "dotnet_interactive": {
     "language": "fsharp"
    },
    "polyglot_notebook": {
     "kernelName": "fsharp"
    }
   },
   "outputs": [
    {
     "name": "stdout",
     "output_type": "stream",
     "text": [
      "16:15:18 #2 [Debug] createTempDirectory / tempFolder: C:\\Users\\i574n\\AppData\\Local\\Temp\\!dotnet-repl\\20230721-1615-1886-8696-88a5af6f7400 / result: { CreationTime = 2023-07-21 4:15:18 PM\n",
      "  Exists = true }\r\n",
      "16:15:18 #3 [Debug] 1\r\n",
      "16:15:18 #4 [Debug] 2\r\n",
      "16:15:18 #5 [Debug] _1\r\n",
      "16:15:18 #6 [Debug] 3\r\n",
      "16:15:18 #7 [Debug] _2\r\n",
      "16:15:18 #8 [Debug] 4\r\n",
      "16:15:18 #9 [Warn] waitForFileAccess / path: C:\\Users\\i574n\\AppData\\Local\\Temp\\!dotnet-repl\\20230721-1615-1886-8696-88a5af6f7400\\test.txt / message: The process cannot access the file 'C:\\Users\\i574n\\AppData\\Local\\Temp\\!dotnet-repl\\20230721-1615-1886-8696-88a5af6f7400\\test.txt' because it is being used by another process.\r\n",
      "16:15:20 #10 [Warn] waitForFileAccess / path: C:\\Users\\i574n\\AppData\\Local\\Temp\\!dotnet-repl\\20230721-1615-1886-8696-88a5af6f7400\\test.txt / message: The process cannot access the file 'C:\\Users\\i574n\\AppData\\Local\\Temp\\!dotnet-repl\\20230721-1615-1886-8696-88a5af6f7400\\test.txt' because it is being used by another process.\r\n",
      "16:15:20 #11 [Debug] _3\r\n",
      "16:15:20 #12 [Debug] _4\r\n",
      "16:15:20 #13 [Debug] _5\r\n",
      "16:15:20 #14 [Debug] _6\r\n",
      "127\r\n",
      "1\r\n",
      "FSharpOption<Unit>\r\n",
      "      Value: <null>\r\n"
     ]
    }
   ],
   "source": [
    "//// test\n",
    "\n",
    "let tempFolder = createTempDirectory ()\n",
    "let path = tempFolder </> \"test.txt\"\n",
    "\n",
    "let lockFile () = async {\n",
    "    trace Debug (fun () -> \"_1\") getLocals\n",
    "    use stream = new System.IO.FileStream (path, System.IO.FileMode.Open, System.IO.FileAccess.ReadWrite)\n",
    "    trace Debug (fun () -> \"_2\") getLocals\n",
    "    do! Async.Sleep 2000\n",
    "    trace Debug (fun () -> \"_3\") getLocals\n",
    "    stream.Seek (0L, SeekOrigin.Begin) |> ignore\n",
    "    trace Debug (fun () -> \"_4\") getLocals\n",
    "    stream.WriteByte (49uy) |> ignore\n",
    "    trace Debug (fun () -> \"_5\") getLocals\n",
    "    stream.Flush ()\n",
    "    trace Debug (fun () -> \"_6\") getLocals\n",
    "}\n",
    "\n",
    "async {\n",
    "    trace Debug (fun () -> \"1\") getLocals\n",
    "    do! File.WriteAllTextAsync (path, \"0\") |> Async.AwaitTask\n",
    "    trace Debug (fun () -> \"2\") getLocals\n",
    "    let! _ = lockFile () |> Async.StartChild\n",
    "    trace Debug (fun () -> \"3\") getLocals\n",
    "    do! Async.Sleep 1\n",
    "    trace Debug (fun () -> \"4\") getLocals\n",
    "    let! retries = waitForFileAccess path\n",
    "    retries |> _isGreaterThan 100\n",
    "    let text = File.ReadAllText path\n",
    "    text |> _equal \"1\"\n",
    "}\n",
    "|> Async.runWithTimeout 3000\n",
    "|> _equal (Some ())"
   ]
  },
  {
   "cell_type": "markdown",
   "metadata": {
    "dotnet_repl_cellExecutionStartTime": "2023-07-21T16:15:20.9602787-03:00",
    "dotnet_repl_cellExecutionEndTime": "2023-07-21T16:15:20.9622976-03:00",
    "dotnet_repl_cellExecutionTime": "2.0213ms"
   },
   "source": [
    "## deleteDirectoryAsync"
   ]
  },
  {
   "cell_type": "code",
   "execution_count": null,
   "metadata": {
    "dotnet_repl_cellExecutionStartTime": "2023-07-21T16:15:20.9623339-03:00",
    "dotnet_repl_cellExecutionEndTime": "2023-07-21T16:15:21.0557221-03:00",
    "dotnet_repl_cellExecutionTime": "93.3901ms",
    "dotnet_interactive": {
     "language": "fsharp"
    },
    "polyglot_notebook": {
     "kernelName": "fsharp"
    }
   },
   "outputs": [],
   "source": [
    "let deleteDirectoryAsync path =\n",
    "    let rec loop retry = async {\n",
    "        try\n",
    "            System.IO.Directory.Delete (path, true)\n",
    "        with ex ->\n",
    "            if retry % 100 = 0 then\n",
    "                let getLocals () = $\"path: {path} / message: {ex.Message} / {getLocals ()}\"\n",
    "                trace Warn (fun () -> \"deleteDirectoryAsync\") getLocals\n",
    "            do! Async.Sleep 1\n",
    "            return! loop (retry + 1)\n",
    "    }\n",
    "    loop 0"
   ]
  },
  {
   "cell_type": "code",
   "execution_count": null,
   "metadata": {
    "dotnet_repl_cellExecutionStartTime": "2023-07-21T16:15:21.0557554-03:00",
    "dotnet_repl_cellExecutionEndTime": "2023-07-21T16:15:23.2512677-03:00",
    "dotnet_repl_cellExecutionTime": "2.195514s",
    "dotnet_interactive": {
     "language": "fsharp"
    },
    "polyglot_notebook": {
     "kernelName": "fsharp"
    }
   },
   "outputs": [
    {
     "name": "stdout",
     "output_type": "stream",
     "text": [
      "16:15:21 #15 [Debug] createTempDirectory / tempFolder: C:\\Users\\i574n\\AppData\\Local\\Temp\\!dotnet-repl\\20230721-1615-2121-2110-24211ecd5a60 / result: { CreationTime = 2023-07-21 4:15:21 PM\n",
      "  Exists = true }\r\n",
      "16:15:21 #16 [Debug] 1\r\n",
      "16:15:21 #17 [Debug] 2\r\n",
      "16:15:21 #18 [Debug] 3\r\n",
      "16:15:21 #19 [Debug] _1\r\n",
      "16:15:21 #20 [Debug] _2\r\n",
      "16:15:21 #21 [Debug] 4\r\n",
      "16:15:21 #22 [Warn] deleteDirectoryAsync / path: C:\\Users\\i574n\\AppData\\Local\\Temp\\!dotnet-repl\\20230721-1615-2121-2110-24211ecd5a60\\test / message: The process cannot access the file 'test.txt' because it is being used by another process.\r\n",
      "16:15:22 #23 [Warn] deleteDirectoryAsync / path: C:\\Users\\i574n\\AppData\\Local\\Temp\\!dotnet-repl\\20230721-1615-2121-2110-24211ecd5a60\\test / message: The process cannot access the file 'test.txt' because it is being used by another process.\r\n",
      "16:15:23 #24 [Debug] _3\r\n",
      "16:15:23 #25 [Debug] 5\r\n",
      "FSharpOption<Unit>\r\n",
      "      Value: <null>\r\n"
     ]
    }
   ],
   "source": [
    "//// test\n",
    "\n",
    "let tempFolder = createTempDirectory ()\n",
    "let path = tempFolder </> \"test\"\n",
    "\n",
    "let lockDirectory () = async {\n",
    "    trace Debug (fun () -> \"_1\") getLocals\n",
    "    System.IO.File.WriteAllText (path </> \"test.txt\", \"\")\n",
    "    use _ = new System.IO.FileStream (path </> \"test.txt\", System.IO.FileMode.Open, System.IO.FileAccess.ReadWrite)\n",
    "    trace Debug (fun () -> \"_2\") getLocals\n",
    "    do! Async.Sleep 2000\n",
    "    trace Debug (fun () -> \"_3\") getLocals\n",
    "}\n",
    "\n",
    "async {\n",
    "    trace Debug (fun () -> \"1\") getLocals\n",
    "    Directory.CreateDirectory path |> ignore\n",
    "    trace Debug (fun () -> \"2\") getLocals\n",
    "    let! _ = lockDirectory () |> Async.StartChild\n",
    "    trace Debug (fun () -> \"3\") getLocals\n",
    "    do! Async.Sleep 1\n",
    "    trace Debug (fun () -> \"4\") getLocals\n",
    "    do! deleteDirectoryAsync path\n",
    "    trace Debug (fun () -> \"5\") getLocals\n",
    "}\n",
    "|> Async.runWithTimeout 3000\n",
    "|> _equal (Some ())"
   ]
  },
  {
   "cell_type": "markdown",
   "metadata": {
    "dotnet_repl_cellExecutionStartTime": "2023-07-21T16:15:23.2513007-03:00",
    "dotnet_repl_cellExecutionEndTime": "2023-07-21T16:15:23.2531542-03:00",
    "dotnet_repl_cellExecutionTime": "1.8549ms"
   },
   "source": [
    "## deleteFileAsync"
   ]
  },
  {
   "cell_type": "code",
   "execution_count": null,
   "metadata": {
    "dotnet_repl_cellExecutionStartTime": "2023-07-21T16:15:23.2531751-03:00",
    "dotnet_repl_cellExecutionEndTime": "2023-07-21T16:15:23.3451787-03:00",
    "dotnet_repl_cellExecutionTime": "92.0057ms",
    "dotnet_interactive": {
     "language": "fsharp"
    },
    "polyglot_notebook": {
     "kernelName": "fsharp"
    }
   },
   "outputs": [],
   "source": [
    "let deleteFileAsync path =\n",
    "    let rec loop retry = async {\n",
    "        try\n",
    "            System.IO.File.Delete path\n",
    "        with ex ->\n",
    "            if retry % 100 = 0 then\n",
    "                let getLocals () = $\"path: {path} / message: {ex.Message} / {getLocals ()}\"\n",
    "                trace Warn (fun () -> \"deleteFileAsync\") getLocals\n",
    "            do! Async.Sleep 1\n",
    "            return! loop (retry + 1)\n",
    "    }\n",
    "    loop 0"
   ]
  },
  {
   "cell_type": "code",
   "execution_count": null,
   "metadata": {
    "dotnet_repl_cellExecutionStartTime": "2023-07-21T16:15:23.3452077-03:00",
    "dotnet_repl_cellExecutionEndTime": "2023-07-21T16:15:25.5425668-03:00",
    "dotnet_repl_cellExecutionTime": "2.1973613s",
    "dotnet_interactive": {
     "language": "fsharp"
    },
    "polyglot_notebook": {
     "kernelName": "fsharp"
    }
   },
   "outputs": [
    {
     "name": "stdout",
     "output_type": "stream",
     "text": [
      "16:15:23 #26 [Debug] createTempDirectory / tempFolder: C:\\Users\\i574n\\AppData\\Local\\Temp\\!dotnet-repl\\20230721-1615-2349-4961-4a147f5e88ea / result: { CreationTime = 2023-07-21 4:15:23 PM\n",
      "  Exists = true }\r\n",
      "16:15:23 #27 [Debug] 1\r\n",
      "16:15:23 #28 [Debug] 2\r\n",
      "16:15:23 #29 [Debug] 3\r\n",
      "16:15:23 #30 [Debug] _1\r\n",
      "16:15:23 #31 [Debug] _2\r\n",
      "16:15:23 #32 [Debug] 4\r\n",
      "16:15:23 #33 [Warn] deleteFileAsync / path: C:\\Users\\i574n\\AppData\\Local\\Temp\\!dotnet-repl\\20230721-1615-2349-4961-4a147f5e88ea\\test.txt / message: The process cannot access the file 'C:\\Users\\i574n\\AppData\\Local\\Temp\\!dotnet-repl\\20230721-1615-2349-4961-4a147f5e88ea\\test.txt' because it is being used by another process.\r\n",
      "16:15:25 #34 [Warn] deleteFileAsync / path: C:\\Users\\i574n\\AppData\\Local\\Temp\\!dotnet-repl\\20230721-1615-2349-4961-4a147f5e88ea\\test.txt / message: The process cannot access the file 'C:\\Users\\i574n\\AppData\\Local\\Temp\\!dotnet-repl\\20230721-1615-2349-4961-4a147f5e88ea\\test.txt' because it is being used by another process.\r\n",
      "16:15:25 #35 [Debug] _3\r\n",
      "16:15:25 #36 [Debug] 5\r\n",
      "FSharpOption<Unit>\r\n",
      "      Value: <null>\r\n"
     ]
    }
   ],
   "source": [
    "//// test\n",
    "\n",
    "let tempFolder = createTempDirectory ()\n",
    "let path = tempFolder </> \"test.txt\"\n",
    "\n",
    "let lockFile () = async {\n",
    "    trace Debug (fun () -> \"_1\") getLocals\n",
    "    use _ = new System.IO.FileStream (path, System.IO.FileMode.Open, System.IO.FileAccess.ReadWrite)\n",
    "    trace Debug (fun () -> \"_2\") getLocals\n",
    "    do! Async.Sleep 2000\n",
    "    trace Debug (fun () -> \"_3\") getLocals\n",
    "}\n",
    "\n",
    "async {\n",
    "    trace Debug (fun () -> \"1\") getLocals\n",
    "    do! File.WriteAllTextAsync (path, \"0\") |> Async.AwaitTask\n",
    "    trace Debug (fun () -> \"2\") getLocals\n",
    "    let! _ = lockFile () |> Async.StartChild\n",
    "    trace Debug (fun () -> \"3\") getLocals\n",
    "    do! Async.Sleep 1\n",
    "    trace Debug (fun () -> \"4\") getLocals\n",
    "    do! deleteFileAsync path\n",
    "    trace Debug (fun () -> \"5\") getLocals\n",
    "}\n",
    "|> Async.runWithTimeout 3000\n",
    "|> _equal (Some ())"
   ]
  },
  {
   "cell_type": "markdown",
   "metadata": {
    "dotnet_repl_cellExecutionStartTime": "2023-07-21T16:15:25.5426051-03:00",
    "dotnet_repl_cellExecutionEndTime": "2023-07-21T16:15:25.5444412-03:00",
    "dotnet_repl_cellExecutionTime": "1.8383ms"
   },
   "source": [
    "## moveFileAsync"
   ]
  },
  {
   "cell_type": "code",
   "execution_count": null,
   "metadata": {
    "dotnet_repl_cellExecutionStartTime": "2023-07-21T16:15:25.5444757-03:00",
    "dotnet_repl_cellExecutionEndTime": "2023-07-21T16:15:25.6489119-03:00",
    "dotnet_repl_cellExecutionTime": "104.4386ms",
    "dotnet_interactive": {
     "language": "fsharp"
    },
    "polyglot_notebook": {
     "kernelName": "fsharp"
    }
   },
   "outputs": [],
   "source": [
    "let moveFileAsync newPath oldPath =\n",
    "    let rec loop retry = async {\n",
    "        try\n",
    "            System.IO.File.Move (oldPath, newPath)\n",
    "        with ex ->\n",
    "            if retry % 100 = 0 then\n",
    "                let getLocals () =\n",
    "                    $\"oldPath: {oldPath} / newPath: {newPath} / message: {ex.Message} / {getLocals ()}\"\n",
    "                trace Warn (fun () -> \"moveFileAsync\") getLocals\n",
    "            do! Async.Sleep 1\n",
    "            return! loop (retry + 1)\n",
    "    }\n",
    "    loop 0"
   ]
  },
  {
   "cell_type": "code",
   "execution_count": null,
   "metadata": {
    "dotnet_repl_cellExecutionStartTime": "2023-07-21T16:15:25.6489417-03:00",
    "dotnet_repl_cellExecutionEndTime": "2023-07-21T16:15:27.8350538-03:00",
    "dotnet_repl_cellExecutionTime": "2.1861145s",
    "dotnet_interactive": {
     "language": "fsharp"
    },
    "polyglot_notebook": {
     "kernelName": "fsharp"
    }
   },
   "outputs": [
    {
     "name": "stdout",
     "output_type": "stream",
     "text": [
      "16:15:25 #37 [Debug] createTempDirectory / tempFolder: C:\\Users\\i574n\\AppData\\Local\\Temp\\!dotnet-repl\\20230721-1615-2579-7904-7be577650566 / result: { CreationTime = 2023-07-21 4:15:25 PM\n",
      "  Exists = true }\r\n",
      "16:15:25 #38 [Debug] 1\r\n",
      "16:15:25 #39 [Debug] 2\r\n",
      "16:15:25 #40 [Debug] 3\r\n",
      "16:15:25 #41 [Debug] _1\r\n",
      "16:15:25 #42 [Debug] _2\r\n",
      "16:15:25 #43 [Debug] 4\r\n",
      "16:15:25 #44 [Warn] moveFileAsync / oldPath: C:\\Users\\i574n\\AppData\\Local\\Temp\\!dotnet-repl\\20230721-1615-2579-7904-7be577650566\\test.txt / newPath: C:\\Users\\i574n\\AppData\\Local\\Temp\\!dotnet-repl\\20230721-1615-2579-7904-7be577650566\\test2.txt / message: The process cannot access the file because it is being used by another process.\r\n",
      "16:15:27 #45 [Warn] moveFileAsync / oldPath: C:\\Users\\i574n\\AppData\\Local\\Temp\\!dotnet-repl\\20230721-1615-2579-7904-7be577650566\\test.txt / newPath: C:\\Users\\i574n\\AppData\\Local\\Temp\\!dotnet-repl\\20230721-1615-2579-7904-7be577650566\\test2.txt / message: The process cannot access the file because it is being used by another process.\r\n",
      "16:15:27 #46 [Debug] _3\r\n",
      "16:15:27 #47 [Debug] 5\r\n",
      "FSharpOption<String>\r\n",
      "      Value: 0\r\n"
     ]
    }
   ],
   "source": [
    "//// test\n",
    "\n",
    "let tempFolder = createTempDirectory ()\n",
    "let path = tempFolder </> \"test.txt\"\n",
    "let newPath = tempFolder </> \"test2.txt\"\n",
    "\n",
    "let lockFile () = async {\n",
    "    trace Debug (fun () -> \"_1\") getLocals\n",
    "    use _ = new System.IO.FileStream (path, System.IO.FileMode.Open, System.IO.FileAccess.ReadWrite)\n",
    "    trace Debug (fun () -> \"_2\") getLocals\n",
    "    do! Async.Sleep 2000\n",
    "    trace Debug (fun () -> \"_3\") getLocals\n",
    "}\n",
    "\n",
    "async {\n",
    "    trace Debug (fun () -> \"1\") getLocals\n",
    "    do! File.WriteAllTextAsync (path, \"0\") |> Async.AwaitTask\n",
    "    trace Debug (fun () -> \"2\") getLocals\n",
    "    let! _ = lockFile () |> Async.StartChild\n",
    "    trace Debug (fun () -> \"3\") getLocals\n",
    "    do! Async.Sleep 1\n",
    "    trace Debug (fun () -> \"4\") getLocals\n",
    "    do! path |> moveFileAsync newPath\n",
    "    trace Debug (fun () -> \"5\") getLocals\n",
    "    return File.ReadAllText newPath\n",
    "}\n",
    "|> Async.runWithTimeout 3000\n",
    "|> _equal (Some \"0\")"
   ]
  },
  {
   "cell_type": "markdown",
   "metadata": {
    "dotnet_repl_cellExecutionStartTime": "2023-07-21T16:15:27.8350857-03:00",
    "dotnet_repl_cellExecutionEndTime": "2023-07-21T16:15:27.8366001-03:00",
    "dotnet_repl_cellExecutionTime": "1.5157ms"
   },
   "source": [
    "## watchDirectory"
   ]
  },
  {
   "cell_type": "code",
   "execution_count": null,
   "metadata": {
    "dotnet_repl_cellExecutionStartTime": "2023-07-21T16:15:27.836618-03:00",
    "dotnet_repl_cellExecutionEndTime": "2023-07-21T16:15:28.2133275-03:00",
    "dotnet_repl_cellExecutionTime": "376.7124ms",
    "dotnet_interactive": {
     "language": "fsharp"
    },
    "polyglot_notebook": {
     "kernelName": "fsharp"
    }
   },
   "outputs": [],
   "source": [
    "[<RequireQualifiedAccess>]\n",
    "type FileSystemChangeType =\n",
    "    | Error\n",
    "    | Changed\n",
    "    | Created\n",
    "    | Deleted\n",
    "    | Renamed\n",
    "\n",
    "[<RequireQualifiedAccess>]\n",
    "type FileSystemChange =\n",
    "    | Error of exn: exn\n",
    "    | Changed of path: string * content: string option\n",
    "    | Created of path: string * content: string option\n",
    "    | Deleted of path: string\n",
    "    | Renamed of oldPath: string * (string * string option)\n",
    "\n",
    "\n",
    "let watchDirectoryWithFilter filter shouldReadContent path =\n",
    "    let fullPath = System.IO.Path.GetFullPath path\n",
    "    let getLocals () = $\"fullPath: {fullPath} / filter: {filter} / {getLocals ()}\"\n",
    "\n",
    "    let watcher =\n",
    "        new System.IO.FileSystemWatcher (\n",
    "            Path = fullPath,\n",
    "            NotifyFilter = filter,\n",
    "            EnableRaisingEvents = true,\n",
    "            IncludeSubdirectories = true\n",
    "        )\n",
    "\n",
    "    let getEventPath (path : string) =\n",
    "        path.Trim().Replace(fullPath, \"\").TrimStart [| '/'; '\\\\' |]\n",
    "\n",
    "    let ticks () =\n",
    "        System.DateTime.UtcNow.Ticks\n",
    "\n",
    "    let readContent fullPath =\n",
    "        if not shouldReadContent\n",
    "        then None\n",
    "        else\n",
    "            try\n",
    "                waitForFileAccess fullPath |> Async.runWithTimeout 30000 |> ignore\n",
    "                System.IO.File.ReadAllText fullPath |> Some\n",
    "            with ex ->\n",
    "                trace Error (fun () -> $\"watchWithFilter / readContent / message: {ex.Message}\") getLocals\n",
    "                None\n",
    "\n",
    "    let changedStream =\n",
    "        AsyncSeq.subscribeEvent\n",
    "            watcher.Changed\n",
    "            (fun event ->\n",
    "                ticks (),\n",
    "                [ FileSystemChange.Changed (getEventPath event.FullPath, readContent event.FullPath) ]\n",
    "            )\n",
    "\n",
    "    let deletedStream =\n",
    "        AsyncSeq.subscribeEvent\n",
    "            watcher.Deleted\n",
    "            (fun event ->\n",
    "                ticks (),\n",
    "                [ FileSystemChange.Deleted (getEventPath event.FullPath) ]\n",
    "            )\n",
    "\n",
    "    let createdStream =\n",
    "        AsyncSeq.subscribeEvent\n",
    "            watcher.Created\n",
    "            (fun event ->\n",
    "                let path = getEventPath event.FullPath\n",
    "                let content = readContent event.FullPath\n",
    "                ticks (), [\n",
    "                    FileSystemChange.Created (path, content)\n",
    "                    if Runtime.isWindows () then\n",
    "                        FileSystemChange.Changed (path, content)\n",
    "                ])\n",
    "\n",
    "    let renamedStream =\n",
    "        AsyncSeq.subscribeEvent\n",
    "            watcher.Renamed\n",
    "            (fun event ->\n",
    "                ticks (), [\n",
    "                    FileSystemChange.Renamed (\n",
    "                        getEventPath event.OldFullPath,\n",
    "                        (getEventPath event.FullPath, readContent event.FullPath)\n",
    "                    )\n",
    "                ]\n",
    "            )\n",
    "\n",
    "    let errorStream =\n",
    "        AsyncSeq.subscribeEvent\n",
    "            watcher.Error\n",
    "            (fun event -> ticks (), [ FileSystemChange.Error (event.GetException ()) ])\n",
    "\n",
    "    let stream =\n",
    "        [\n",
    "            changedStream\n",
    "            deletedStream\n",
    "            createdStream\n",
    "            renamedStream\n",
    "            errorStream\n",
    "        ]\n",
    "        |> FSharp.Control.AsyncSeq.mergeAll\n",
    "        |> FSharp.Control.AsyncSeq.map (fun (n, events) ->\n",
    "            events\n",
    "            |> List.fold\n",
    "                (fun (i, events) event ->\n",
    "                    i + 1L,\n",
    "                    (n + i, event) :: events)\n",
    "                (0L, [])\n",
    "            |> snd\n",
    "            |> List.rev\n",
    "        )\n",
    "        |> FSharp.Control.AsyncSeq.concatSeq\n",
    "\n",
    "    let disposable =\n",
    "        newDisposable (fun () ->\n",
    "            trace Debug (fun () -> \"watchWithFilter / Disposing watch stream\") getLocals\n",
    "            watcher.EnableRaisingEvents <- false\n",
    "            watcher.Dispose ()\n",
    "        )\n",
    "\n",
    "    stream, disposable\n",
    "\n",
    "let watchDirectory path =\n",
    "    watchDirectoryWithFilter\n",
    "        (System.IO.NotifyFilters.Attributes\n",
    "        ||| System.IO.NotifyFilters.CreationTime\n",
    "        ||| System.IO.NotifyFilters.DirectoryName\n",
    "        ||| System.IO.NotifyFilters.FileName\n",
    "        //  ||| System.IO.NotifyFilters.LastAccess\n",
    "        //  ||| System.IO.NotifyFilters.LastWrite\n",
    "        ||| System.IO.NotifyFilters.Security\n",
    "        //  ||| System.IO.NotifyFilters.Size\n",
    "        )\n",
    "        path"
   ]
  },
  {
   "cell_type": "markdown",
   "metadata": {
    "dotnet_repl_cellExecutionStartTime": "2023-07-21T16:15:28.2133643-03:00",
    "dotnet_repl_cellExecutionEndTime": "2023-07-21T16:15:28.2153758-03:00",
    "dotnet_repl_cellExecutionTime": "2.013ms"
   },
   "source": [
    "### testEventsRaw (test)"
   ]
  },
  {
   "cell_type": "code",
   "execution_count": null,
   "metadata": {
    "dotnet_repl_cellExecutionStartTime": "2023-07-21T16:15:28.215396-03:00",
    "dotnet_repl_cellExecutionEndTime": "2023-07-21T16:15:28.4748208-03:00",
    "dotnet_repl_cellExecutionTime": "259.4281ms",
    "dotnet_interactive": {
     "language": "fsharp"
    },
    "polyglot_notebook": {
     "kernelName": "fsharp"
    }
   },
   "outputs": [],
   "source": [
    "//// test\n",
    "\n",
    "let testEventsRaw\n",
    "    (watchFn : bool -> string -> FSharp.Control.AsyncSeq<int64 * FileSystemChange> * IDisposable)\n",
    "    write\n",
    "    =\n",
    "    let tempDirectory = createTempDirectory ()\n",
    "    let stream, disposable = watchFn true tempDirectory\n",
    "\n",
    "    let events = System.Collections.Concurrent.ConcurrentBag ()\n",
    "\n",
    "    let iter () =\n",
    "        stream\n",
    "        |> FSharp.Control.AsyncSeq.iterAsyncParallel (fun event -> async { events.Add event })\n",
    "\n",
    "    let run = async {\n",
    "        let! _ = iter () |> Async.StartChild\n",
    "        do! Async.Sleep 150\n",
    "        return! write tempDirectory\n",
    "    }\n",
    "\n",
    "    try\n",
    "        run\n",
    "        |> Async.runWithTimeout 10000\n",
    "        |> _equal (Some ())\n",
    "    finally\n",
    "        disposable.Dispose ()\n",
    "        deleteDirectoryAsync tempDirectory |> Async.RunSynchronously\n",
    "\n",
    "    let eventsLog =\n",
    "        events\n",
    "        |> Seq.toList\n",
    "        |> List.sortBy fst\n",
    "        |> List.fold\n",
    "            (fun (prev, acc) (ticks, event) ->\n",
    "                ticks, (ticks, (if prev = 0L then 0L else ticks - prev), event) :: acc\n",
    "            )\n",
    "            (0L, [])\n",
    "        |> snd\n",
    "        |> List.rev\n",
    "        |> List.map (fun (diff, n, event) ->\n",
    "            let text = $\"{n} / {diff} / {event}\"\n",
    "            text.Substring (0, min 100 text.Length)\n",
    "        )\n",
    "        |> String.concat \"\\n\"\n",
    "    let getLocals () = $\"eventsLog: \\n{eventsLog} / {getLocals ()}\"\n",
    "    trace Debug (fun () -> \"testEventsRaw\") getLocals\n",
    "\n",
    "    events\n",
    "    |> Seq.toList\n",
    "    |> List.sortBy fst\n",
    "    |> List.map snd\n",
    "    |> List.fold\n",
    "        (fun (map, acc) event ->\n",
    "            match event with\n",
    "            | FileSystemChange.Changed (path, (Some _ as content)) ->\n",
    "                if map |> Map.containsKey path && map.[path] = content\n",
    "                then map, acc\n",
    "                else (map |> Map.add path content), event :: acc\n",
    "            | FileSystemChange.Created (path, _)\n",
    "            | FileSystemChange.Deleted path ->\n",
    "                (map |> Map.remove path), event :: acc\n",
    "            | FileSystemChange.Renamed (oldPath, (newPath, content)) ->\n",
    "                (map |> Map.remove oldPath |> Map.remove newPath), event :: acc\n",
    "            | _ -> map, event :: acc\n",
    "        )\n",
    "        (Map.empty, [])\n",
    "    |> snd\n",
    "    |> List.rev"
   ]
  },
  {
   "cell_type": "markdown",
   "metadata": {
    "dotnet_repl_cellExecutionStartTime": "2023-07-21T16:15:28.4748609-03:00",
    "dotnet_repl_cellExecutionEndTime": "2023-07-21T16:15:28.4767433-03:00",
    "dotnet_repl_cellExecutionTime": "1.8844ms"
   },
   "source": [
    "#### fast (test)"
   ]
  },
  {
   "cell_type": "code",
   "execution_count": null,
   "metadata": {
    "dotnet_repl_cellExecutionStartTime": "2023-07-21T16:15:28.4767756-03:00",
    "dotnet_repl_cellExecutionEndTime": "2023-07-21T16:15:29.5721793-03:00",
    "dotnet_repl_cellExecutionTime": "1.0954063s",
    "dotnet_interactive": {
     "language": "fsharp"
    },
    "polyglot_notebook": {
     "kernelName": "fsharp"
    }
   },
   "outputs": [
    {
     "name": "stdout",
     "output_type": "stream",
     "text": [
      "16:15:29 #48 [Debug] createTempDirectory / tempFolder: C:\\Users\\i574n\\AppData\\Local\\Temp\\!dotnet-repl\\20230721-1615-2900-0090-0974868fc436 / result: { CreationTime = 2023-07-21 4:15:29 PM\n",
      "  Exists = true }\r\n",
      "16:15:29 #49 [Warn] waitForFileAccess / path: C:\\Users\\i574n\\AppData\\Local\\Temp\\!dotnet-repl\\20230721-1615-2900-0090-0974868fc436\\file2.txt / message: The process cannot access the file 'C:\\Users\\i574n\\AppData\\Local\\Temp\\!dotnet-repl\\20230721-1615-2900-0090-0974868fc436\\file2.txt' because it is being used by another process.\r\n",
      "FSharpOption<Unit>\r\n",
      "      Value: <null>\r\n",
      "16:15:29 #50 [Debug] watchWithFilter / Disposing watch stream / fullPath: C:\\Users\\i574n\\AppData\\Local\\Temp\\!dotnet-repl\\20230721-1615-2900-0090-0974868fc436 / filter: FileName, DirectoryName, Attributes, CreationTime, Security\r\n",
      "16:15:29 #51 [Debug] testEventsRaw / eventsLog: \n",
      "0 / 638255637292016197 / Created (\"file1.txt\", Some \"a1\")\n",
      "1 / 638255637292016198 / Changed (\"file1.txt\", Some \"a1\")\n",
      "22520 / 638255637292038718 / Created (\"file2.txt\", Some \"a2\")\n",
      "1 / 638255637292038719 / Changed (\"file2.txt\", Some \"a2\")\n",
      "541337 / 638255637292580056 / Changed (\"file1.txt\", Some \"b1\")\n",
      "9308 / 638255637292589364 / Changed (\"file2.txt\", Some \"b2\")\n",
      "653891 / 638255637293243255 / Renamed (\"file1.txt\", (\"file_1.txt\", Some \"b1\"))\n",
      "8110 / 638255637293251365 / Renamed (\"file2.txt\", (\"file_2.txt\", Some \"b2\"))\n",
      "610701 / 638255637293862066 / Changed (\"file_1.txt\", Some \"c1\")\n",
      "15057 / 638255637293877123 / Changed (\"file_2.txt\", Some \"c2\")\n",
      "616612 / 638255637294493735 / Deleted \"file_1.txt\"\n",
      "4130 / 638255637294497865 / Deleted \"file_2.txt\"\r\n",
      "FSharpList<FileSystemChange>\r\n",
      "      - path: file1.txt\r\n",
      "        content: FSharpOption<String>\r\n",
      "          Value: a1\r\n",
      "      - path: file1.txt\r\n",
      "        content: FSharpOption<String>\r\n",
      "          Value: a1\r\n",
      "      - path: file2.txt\r\n",
      "        content: FSharpOption<String>\r\n",
      "          Value: a2\r\n",
      "      - path: file2.txt\r\n",
      "        content: FSharpOption<String>\r\n",
      "          Value: a2\r\n",
      "      - path: file1.txt\r\n",
      "        content: FSharpOption<String>\r\n",
      "          Value: b1\r\n",
      "      - path: file2.txt\r\n",
      "        content: FSharpOption<String>\r\n",
      "          Value: b2\r\n",
      "      - oldPath: file1.txt\r\n",
      "        Item2:         - file_1.txt\r\n",
      "        - FSharpOption<String>\r\n",
      "            Value: b1\r\n",
      "      - oldPath: file2.txt\r\n",
      "        Item2:         - file_2.txt\r\n",
      "        - FSharpOption<String>\r\n",
      "            Value: b2\r\n",
      "      - path: file_1.txt\r\n",
      "        content: FSharpOption<String>\r\n",
      "          Value: c1\r\n",
      "      - path: file_2.txt\r\n",
      "        content: FSharpOption<String>\r\n",
      "          Value: c2\r\n",
      "      - path: file_1.txt\r\n",
      "      - path: file_2.txt\r\n"
     ]
    }
   ],
   "source": [
    "//// test\n",
    "\n",
    "let write path = async {\n",
    "    let n = 2\n",
    "\n",
    "    for i = 1 to n do\n",
    "        do! System.IO.File.WriteAllTextAsync (path </> $\"file{i}.txt\", $\"a{i}\") |> Async.AwaitTask\n",
    "\n",
    "    do! Async.Sleep 50\n",
    "\n",
    "    for i = 1 to n do\n",
    "        do! System.IO.File.WriteAllTextAsync (path </> $\"file{i}.txt\", $\"b{i}\") |> Async.AwaitTask\n",
    "\n",
    "    do! Async.Sleep 50\n",
    "\n",
    "    for i = 1 to n do\n",
    "        do! path </> $\"file{i}.txt\" |> moveFileAsync (path </> $\"file_{i}.txt\")\n",
    "\n",
    "    do! Async.Sleep 50\n",
    "\n",
    "    for i = 1 to n do\n",
    "        do! System.IO.File.WriteAllTextAsync (path </> $\"file_{i}.txt\", $\"c{i}\") |> Async.AwaitTask\n",
    "\n",
    "    do! Async.Sleep 50\n",
    "\n",
    "    for i = 1 to n do\n",
    "        do! deleteFileAsync (path </> $\"file_{i}.txt\")\n",
    "\n",
    "    do! Async.Sleep 50\n",
    "}\n",
    "\n",
    "let events = testEventsRaw watchDirectory write\n",
    "\n",
    "events\n",
    "|> _sequenceEqual [\n",
    "    FileSystemChange.Created (\"file1.txt\", Some \"a1\")\n",
    "    FileSystemChange.Changed (\"file1.txt\", Some \"a1\")\n",
    "    FileSystemChange.Created (\"file2.txt\", Some \"a2\")\n",
    "    FileSystemChange.Changed (\"file2.txt\", Some \"a2\")\n",
    "\n",
    "    FileSystemChange.Changed (\"file1.txt\", Some \"b1\")\n",
    "    FileSystemChange.Changed (\"file2.txt\", Some \"b2\")\n",
    "\n",
    "    FileSystemChange.Renamed (\"file1.txt\", (\"file_1.txt\", Some \"b1\"))\n",
    "    FileSystemChange.Renamed (\"file2.txt\", (\"file_2.txt\", Some \"b2\"))\n",
    "\n",
    "    FileSystemChange.Changed (\"file_1.txt\", Some \"c1\")\n",
    "    FileSystemChange.Changed (\"file_2.txt\", Some \"c2\")\n",
    "\n",
    "    FileSystemChange.Deleted \"file_1.txt\"\n",
    "    FileSystemChange.Deleted \"file_2.txt\"\n",
    "]"
   ]
  },
  {
   "cell_type": "markdown",
   "metadata": {
    "dotnet_repl_cellExecutionStartTime": "2023-07-21T16:15:29.5722376-03:00",
    "dotnet_repl_cellExecutionEndTime": "2023-07-21T16:15:29.5752089-03:00",
    "dotnet_repl_cellExecutionTime": "2.9741ms"
   },
   "source": [
    "#### slow (test)"
   ]
  },
  {
   "cell_type": "code",
   "execution_count": null,
   "metadata": {
    "dotnet_repl_cellExecutionStartTime": "2023-07-21T16:15:29.5752453-03:00",
    "dotnet_repl_cellExecutionEndTime": "2023-07-21T16:15:31.3622009-03:00",
    "dotnet_repl_cellExecutionTime": "1.7869579s",
    "dotnet_interactive": {
     "language": "fsharp"
    },
    "polyglot_notebook": {
     "kernelName": "fsharp"
    }
   },
   "outputs": [
    {
     "name": "stdout",
     "output_type": "stream",
     "text": [
      "16:15:30 #52 [Debug] createTempDirectory / tempFolder: C:\\Users\\i574n\\AppData\\Local\\Temp\\!dotnet-repl\\20230721-1615-3005-0557-024029dda810 / result: { CreationTime = 2023-07-21 4:15:30 PM\n",
      "  Exists = true }\r\n",
      "16:15:30 #53 [Warn] waitForFileAccess / path: C:\\Users\\i574n\\AppData\\Local\\Temp\\!dotnet-repl\\20230721-1615-3005-0557-024029dda810\\file1.txt / message: The process cannot access the file 'C:\\Users\\i574n\\AppData\\Local\\Temp\\!dotnet-repl\\20230721-1615-3005-0557-024029dda810\\file1.txt' because it is being used by another process.\r\n",
      "16:15:30 #54 [Warn] waitForFileAccess / path: C:\\Users\\i574n\\AppData\\Local\\Temp\\!dotnet-repl\\20230721-1615-3005-0557-024029dda810\\file1.txt / message: The process cannot access the file 'C:\\Users\\i574n\\AppData\\Local\\Temp\\!dotnet-repl\\20230721-1615-3005-0557-024029dda810\\file1.txt' because it is being used by another process.\r\n",
      "16:15:30 #55 [Warn] waitForFileAccess / path: C:\\Users\\i574n\\AppData\\Local\\Temp\\!dotnet-repl\\20230721-1615-3005-0557-024029dda810\\file2.txt / message: The process cannot access the file 'C:\\Users\\i574n\\AppData\\Local\\Temp\\!dotnet-repl\\20230721-1615-3005-0557-024029dda810\\file2.txt' because it is being used by another process.\r\n",
      "16:15:30 #56 [Warn] waitForFileAccess / path: C:\\Users\\i574n\\AppData\\Local\\Temp\\!dotnet-repl\\20230721-1615-3005-0557-024029dda810\\file_1.txt / message: The process cannot access the file 'C:\\Users\\i574n\\AppData\\Local\\Temp\\!dotnet-repl\\20230721-1615-3005-0557-024029dda810\\file_1.txt' because it is being used by another process.\r\n",
      "16:15:30 #57 [Warn] waitForFileAccess / path: C:\\Users\\i574n\\AppData\\Local\\Temp\\!dotnet-repl\\20230721-1615-3005-0557-024029dda810\\file_2.txt / message: The process cannot access the file 'C:\\Users\\i574n\\AppData\\Local\\Temp\\!dotnet-repl\\20230721-1615-3005-0557-024029dda810\\file_2.txt' because it is being used by another process.\r\n",
      "FSharpOption<Unit>\r\n",
      "      Value: <null>\r\n",
      "16:15:30 #58 [Debug] watchWithFilter / Disposing watch stream / fullPath: C:\\Users\\i574n\\AppData\\Local\\Temp\\!dotnet-repl\\20230721-1615-3005-0557-024029dda810 / filter: FileName, DirectoryName, Attributes, CreationTime, Security\r\n",
      "16:15:30 #59 [Debug] testEventsRaw / eventsLog: \n",
      "0 / 638255637302557102 / Created\n",
      "  (\"file1.txt\",\n",
      "   Some\n",
      "     \"1111111111111111111111111111111111111\n",
      "1 / 638255637302557103 / Changed\n",
      "  (\"file1.txt\",\n",
      "   Some\n",
      "     \"1111111111111111111111111111111111111\n",
      "62662 / 638255637302619765 / Created\n",
      "  (\"file2.txt\",\n",
      "   Some\n",
      "     \"222222222222222222222222222222222\n",
      "1 / 638255637302619766 / Changed\n",
      "  (\"file2.txt\",\n",
      "   Some\n",
      "     \"2222222222222222222222222222222222222\n",
      "1054408 / 638255637303674174 / Changed\n",
      "  (\"file1.txt\",\n",
      "   Some\n",
      "     \"1111111111111111111111111111111\n",
      "177702 / 638255637303851876 / Changed\n",
      "  (\"file2.txt\",\n",
      "   Some\n",
      "     \"22222222222222222222222222222222\n",
      "1075594 / 638255637304927470 / Renamed\n",
      "  (\"file1.txt\",\n",
      "   (\"file_1.txt\",\n",
      "    Some\n",
      "      \"11111111111\n",
      "75539 / 638255637305003009 / Renamed\n",
      "  (\"file2.txt\",\n",
      "   (\"file_2.txt\",\n",
      "    Some\n",
      "      \"2222222222222\n",
      "1330377 / 638255637306333386 / Changed\n",
      "  (\"file_1.txt\",\n",
      "   Some\n",
      "     \"111111111111111111111111111111\n",
      "192125 / 638255637306525511 / Changed\n",
      "  (\"file_2.txt\",\n",
      "   Some\n",
      "     \"2222222222222222222222222222222\n",
      "1076158 / 638255637307601669 / Deleted \"file_1.txt\"\n",
      "7637 / 638255637307609306 / Deleted \"file_2.txt\"\r\n",
      "FSharpList<FileSystemChange>\r\n",
      "      - path: file1.txt\r\n",
      "        content: FSharpOption<String>\r\n",
      "          Value: 1a\r\n",
      "      - path: file1.txt\r\n",
      "        content: FSharpOption<String>\r\n",
      "          Value: 1a\r\n",
      "      - path: file2.txt\r\n",
      "        content: FSharpOption<String>\r\n",
      "          Value: 2a\r\n",
      "      - path: file2.txt\r\n",
      "        content: FSharpOption<String>\r\n",
      "          Value: 2a\r\n",
      "      - path: file1.txt\r\n",
      "        content: FSharpOption<String>\r\n",
      "          Value: 1b\r\n",
      "      - path: file2.txt\r\n",
      "        content: FSharpOption<String>\r\n",
      "          Value: 2b\r\n",
      "      - oldPath: file1.txt\r\n",
      "        Item2:         - file_1.txt\r\n",
      "        - FSharpOption<String>\r\n",
      "            Value: 1b\r\n",
      "      - oldPath: file2.txt\r\n",
      "        Item2:         - file_2.txt\r\n",
      "        - FSharpOption<String>\r\n",
      "            Value: 2b\r\n",
      "      - path: file_1.txt\r\n",
      "        content: FSharpOption<String>\r\n",
      "          Value: 1c\r\n",
      "      - path: file_2.txt\r\n",
      "        content: FSharpOption<String>\r\n",
      "          Value: 2c\r\n",
      "      - path: file_1.txt\r\n",
      "      - path: file_2.txt\r\n"
     ]
    }
   ],
   "source": [
    "//// test\n",
    "\n",
    "let write path = async {\n",
    "    let n = 2\n",
    "\n",
    "    let contents =\n",
    "        [1..n]\n",
    "        |> List.map (string >> String.replicate 1_000_000)\n",
    "\n",
    "    for i = 1 to n do\n",
    "        do! System.IO.File.WriteAllTextAsync (path </> $\"file{i}.txt\", $\"{contents.[i - 1]}a\") |> Async.AwaitTask\n",
    "\n",
    "    do! Async.Sleep 100\n",
    "\n",
    "    for i = 1 to n do\n",
    "        do! System.IO.File.WriteAllTextAsync (path </> $\"file{i}.txt\", $\"{contents.[i - 1]}b\") |> Async.AwaitTask\n",
    "\n",
    "    do! Async.Sleep 100\n",
    "\n",
    "    for i = 1 to n do\n",
    "        do! path </> $\"file{i}.txt\" |> moveFileAsync (path </> $\"file_{i}.txt\")\n",
    "\n",
    "    do! Async.Sleep 100\n",
    "\n",
    "    for i = 1 to n do\n",
    "        do! System.IO.File.WriteAllTextAsync (path </> $\"file_{i}.txt\", $\"{contents.[i - 1]}c\") |> Async.AwaitTask\n",
    "\n",
    "    do! Async.Sleep 100\n",
    "\n",
    "    for i = 1 to n do\n",
    "        do! deleteFileAsync (path </> $\"file_{i}.txt\")\n",
    "\n",
    "    do! Async.Sleep 100\n",
    "}\n",
    "\n",
    "let events =\n",
    "    testEventsRaw watchDirectory write\n",
    "    |> List.map (function\n",
    "        | FileSystemChange.Changed (path, Some content) ->\n",
    "            FileSystemChange.Changed (path, content |> Seq.distinct |> Seq.map string |> String.concat \"\" |> Some)\n",
    "        | FileSystemChange.Created (path, Some content) ->\n",
    "            FileSystemChange.Created (path, content |> Seq.distinct |> Seq.map string |> String.concat \"\" |> Some)\n",
    "        | FileSystemChange.Renamed (oldPath, (newPath, Some content)) ->\n",
    "            FileSystemChange.Renamed (\n",
    "                oldPath,\n",
    "                (newPath, content |> Seq.distinct |> Seq.map string |> String.concat \"\" |> Some)\n",
    "            )\n",
    "        | event -> event\n",
    "    )\n",
    "\n",
    "events\n",
    "|> _sequenceEqual [\n",
    "    FileSystemChange.Created (\"file1.txt\", Some \"1a\")\n",
    "    FileSystemChange.Changed (\"file1.txt\", Some \"1a\")\n",
    "    FileSystemChange.Created (\"file2.txt\", Some \"2a\")\n",
    "    FileSystemChange.Changed (\"file2.txt\", Some \"2a\")\n",
    "\n",
    "    FileSystemChange.Changed (\"file1.txt\", Some \"1b\")\n",
    "    FileSystemChange.Changed (\"file2.txt\", Some \"2b\")\n",
    "\n",
    "    FileSystemChange.Renamed (\"file1.txt\", (\"file_1.txt\", Some \"1b\"))\n",
    "    FileSystemChange.Renamed (\"file2.txt\", (\"file_2.txt\", Some \"2b\"))\n",
    "\n",
    "    FileSystemChange.Changed (\"file_1.txt\", Some \"1c\")\n",
    "    FileSystemChange.Changed (\"file_2.txt\", Some \"2c\")\n",
    "\n",
    "    FileSystemChange.Deleted \"file_1.txt\"\n",
    "    FileSystemChange.Deleted \"file_2.txt\"\n",
    "]"
   ]
  },
  {
   "cell_type": "markdown",
   "metadata": {
    "dotnet_repl_cellExecutionStartTime": "2023-07-21T16:15:31.3622432-03:00",
    "dotnet_repl_cellExecutionEndTime": "2023-07-21T16:15:31.3642266-03:00",
    "dotnet_repl_cellExecutionTime": "1.9851ms"
   },
   "source": [
    "### testEventsSorted (test)"
   ]
  },
  {
   "cell_type": "code",
   "execution_count": null,
   "metadata": {
    "dotnet_repl_cellExecutionStartTime": "2023-07-21T16:15:31.3642483-03:00",
    "dotnet_repl_cellExecutionEndTime": "2023-07-21T16:15:31.5716318-03:00",
    "dotnet_repl_cellExecutionTime": "207.3856ms",
    "dotnet_interactive": {
     "language": "fsharp"
    },
    "polyglot_notebook": {
     "kernelName": "fsharp"
    }
   },
   "outputs": [],
   "source": [
    "//// test\n",
    "\n",
    "let sortEvent event =\n",
    "    match event with\n",
    "    | FileSystemChange.Error _ -> 0\n",
    "    | FileSystemChange.Created _ -> 1\n",
    "    | FileSystemChange.Changed _ -> 2\n",
    "    | FileSystemChange.Renamed (_oldPath, _) -> 3\n",
    "    | FileSystemChange.Deleted _ -> 4\n",
    "\n",
    "let formatEvents events =\n",
    "    events\n",
    "    |> Seq.toList\n",
    "    |> List.sortBy (snd >> sortEvent)\n",
    "    |> List.choose (fun (ticks, event) ->\n",
    "        match event with\n",
    "        | FileSystemChange.Error _ ->\n",
    "            None\n",
    "        | FileSystemChange.Changed (path, _) ->\n",
    "            Some (ticks, System.IO.Path.GetFileName path, nameof FileSystemChangeType.Changed)\n",
    "        | FileSystemChange.Created (path, _) ->\n",
    "            Some (ticks, System.IO.Path.GetFileName path, nameof FileSystemChangeType.Created)\n",
    "        | FileSystemChange.Deleted path ->\n",
    "            Some (ticks, System.IO.Path.GetFileName path, nameof FileSystemChangeType.Deleted)\n",
    "        | FileSystemChange.Renamed (_oldPath, (path, _)) ->\n",
    "            Some (ticks, System.IO.Path.GetFileName path, nameof FileSystemChangeType.Renamed)\n",
    "    )\n",
    "    |> List.sortBy (fun (_, path, _) -> path)\n",
    "    |> List.distinctBy (fun (_, path, event) -> path, event)\n",
    "\n",
    "let testEventsSorted (watchFn : string -> FSharp.Control.AsyncSeq<int64 * FileSystemChange> * IDisposable) write =\n",
    "    let path = createTempDirectory ()\n",
    "    let stream, disposable = watchFn path\n",
    "\n",
    "    let events = System.Collections.Concurrent.ConcurrentBag ()\n",
    "\n",
    "    let iter () =\n",
    "        stream\n",
    "        |> FSharp.Control.AsyncSeq.iterAsyncParallel (fun event -> async { events.Add event })\n",
    "\n",
    "    let run = async {\n",
    "        let! child = iter () |> Async.StartChild\n",
    "        do! Async.Sleep 150\n",
    "        do! write path\n",
    "        do! child\n",
    "    }\n",
    "\n",
    "    try\n",
    "        run\n",
    "        |> Async.runWithTimeout 500\n",
    "        |> ignore\n",
    "    finally\n",
    "        disposable.Dispose ()\n",
    "        deleteDirectoryAsync path |> Async.RunSynchronously\n",
    "\n",
    "    let events = formatEvents events\n",
    "\n",
    "    let eventMap =\n",
    "        events\n",
    "        |> List.map (fun (ticks, path, event) -> path, (event, ticks))\n",
    "        |> List.groupBy fst\n",
    "        |> List.map (fun (path, events) ->\n",
    "            let event, _ticks =\n",
    "                events\n",
    "                |> List.map snd\n",
    "                |> List.sortByDescending snd\n",
    "                |> List.head\n",
    "\n",
    "            path, event\n",
    "        )\n",
    "        |> Map.ofList\n",
    "\n",
    "    let eventList =\n",
    "        events\n",
    "        |> List.map (fun (_ticks, path, event) -> path, event)\n",
    "\n",
    "    eventMap, eventList"
   ]
  },
  {
   "cell_type": "markdown",
   "metadata": {
    "dotnet_repl_cellExecutionStartTime": "2023-07-21T16:15:31.5716646-03:00",
    "dotnet_repl_cellExecutionEndTime": "2023-07-21T16:15:31.5736987-03:00",
    "dotnet_repl_cellExecutionTime": "2.0362ms"
   },
   "source": [
    "#### create and delete (test)"
   ]
  },
  {
   "cell_type": "code",
   "execution_count": null,
   "metadata": {
    "dotnet_repl_cellExecutionStartTime": "2023-07-21T16:15:31.5737211-03:00",
    "dotnet_repl_cellExecutionEndTime": "2023-07-21T16:15:32.2569123-03:00",
    "dotnet_repl_cellExecutionTime": "683.1937ms",
    "dotnet_interactive": {
     "language": "fsharp"
    },
    "polyglot_notebook": {
     "kernelName": "fsharp"
    }
   },
   "outputs": [
    {
     "name": "stdout",
     "output_type": "stream",
     "text": [
      "16:15:31 #60 [Debug] createTempDirectory / tempFolder: C:\\Users\\i574n\\AppData\\Local\\Temp\\!dotnet-repl\\20230721-1615-3170-7091-7fd35e80efcd / result: { CreationTime = 2023-07-21 4:15:31 PM\n",
      "  Exists = true }\r\n",
      "16:15:32 #61 [Debug] runWithTimeout / timeout: 500\r\n",
      "16:15:32 #62 [Debug] watchWithFilter / Disposing watch stream / fullPath: C:\\Users\\i574n\\AppData\\Local\\Temp\\!dotnet-repl\\20230721-1615-3170-7091-7fd35e80efcd / filter: FileName, DirectoryName, Attributes, CreationTime, Security\r\n",
      "FSharpList<Tuple<String,String>>\r\n",
      "( file1.txt, Created )\r\n",
      "( file1.txt, Changed )\r\n",
      "( file1.txt, Deleted )\r\n",
      "( file2.txt, Created )\r\n",
      "( file2.txt, Changed )\r\n",
      "( file2.txt, Deleted )\r\n",
      "( file3.txt, Created )\r\n",
      "( file3.txt, Changed )\r\n",
      "( file3.txt, Deleted )\r\n",
      "FSharpMap<String,String>\r\n",
      "      - Key: file1.txt\r\n",
      "        Value: Deleted\r\n",
      "      - Key: file2.txt\r\n",
      "        Value: Deleted\r\n",
      "      - Key: file3.txt\r\n",
      "        Value: Deleted\r\n"
     ]
    }
   ],
   "source": [
    "//// test\n",
    "\n",
    "let write path = async {\n",
    "    let n = 3\n",
    "\n",
    "    for i = 1 to n do\n",
    "        do! System.IO.File.WriteAllTextAsync (path </> $\"file{i}.txt\", $\"{i}\") |> Async.AwaitTask\n",
    "\n",
    "    for i = 1 to n do\n",
    "        do! deleteFileAsync (path </> $\"file{i}.txt\")\n",
    "}\n",
    "\n",
    "let eventMap, eventList = testEventsSorted (watchDirectory false) write\n",
    "\n",
    "[\n",
    "    \"file1.txt\", nameof FileSystemChangeType.Created\n",
    "    \"file1.txt\", nameof FileSystemChangeType.Changed\n",
    "    \"file1.txt\", nameof FileSystemChangeType.Deleted\n",
    "\n",
    "    \"file2.txt\", nameof FileSystemChangeType.Created\n",
    "    \"file2.txt\", nameof FileSystemChangeType.Changed\n",
    "    \"file2.txt\", nameof FileSystemChangeType.Deleted\n",
    "\n",
    "    \"file3.txt\", nameof FileSystemChangeType.Created\n",
    "    \"file3.txt\", nameof FileSystemChangeType.Changed\n",
    "    \"file3.txt\", nameof FileSystemChangeType.Deleted\n",
    "]\n",
    "|> _sequenceEqual eventList\n",
    "\n",
    "[\n",
    "    \"file1.txt\", nameof FileSystemChangeType.Deleted\n",
    "    \"file2.txt\", nameof FileSystemChangeType.Deleted\n",
    "    \"file3.txt\", nameof FileSystemChangeType.Deleted\n",
    "]\n",
    "|> Map.ofList\n",
    "|> _sequenceEqual eventMap"
   ]
  },
  {
   "cell_type": "markdown",
   "metadata": {
    "dotnet_repl_cellExecutionStartTime": "2023-07-21T16:15:32.256951-03:00",
    "dotnet_repl_cellExecutionEndTime": "2023-07-21T16:15:32.2586436-03:00",
    "dotnet_repl_cellExecutionTime": "1.6945ms"
   },
   "source": [
    "#### change (test)"
   ]
  },
  {
   "cell_type": "code",
   "execution_count": null,
   "metadata": {
    "dotnet_repl_cellExecutionStartTime": "2023-07-21T16:15:32.25868-03:00",
    "dotnet_repl_cellExecutionEndTime": "2023-07-21T16:15:32.9564709-03:00",
    "dotnet_repl_cellExecutionTime": "697.7927ms",
    "dotnet_interactive": {
     "language": "fsharp"
    },
    "polyglot_notebook": {
     "kernelName": "fsharp"
    }
   },
   "outputs": [
    {
     "name": "stdout",
     "output_type": "stream",
     "text": [
      "16:15:32 #63 [Debug] createTempDirectory / tempFolder: C:\\Users\\i574n\\AppData\\Local\\Temp\\!dotnet-repl\\20230721-1615-3243-4395-44144ffc28b2 / result: { CreationTime = 2023-07-21 4:15:32 PM\n",
      "  Exists = true }\r\n",
      "16:15:32 #64 [Debug] runWithTimeout / timeout: 500\r\n",
      "16:15:32 #65 [Debug] watchWithFilter / Disposing watch stream / fullPath: C:\\Users\\i574n\\AppData\\Local\\Temp\\!dotnet-repl\\20230721-1615-3243-4395-44144ffc28b2 / filter: FileName, DirectoryName, Attributes, CreationTime, Security\r\n",
      "FSharpList<Tuple<String,String>>\r\n",
      "( file1.txt, Created )\r\n",
      "( file1.txt, Changed )\r\n",
      "( file1.txt, Deleted )\r\n",
      "( file2.txt, Created )\r\n",
      "( file2.txt, Changed )\r\n",
      "( file2.txt, Deleted )\r\n",
      "FSharpMap<String,String>\r\n",
      "      - Key: file1.txt\r\n",
      "        Value: Deleted\r\n",
      "      - Key: file2.txt\r\n",
      "        Value: Deleted\r\n"
     ]
    }
   ],
   "source": [
    "//// test\n",
    "\n",
    "let write path = async {\n",
    "    let n = 2\n",
    "\n",
    "    for i = 1 to n do\n",
    "        do! System.IO.File.WriteAllTextAsync (path </> $\"file{i}.txt\", $\"{i}\") |> Async.AwaitTask\n",
    "\n",
    "    for i = 1 to n do\n",
    "        do! System.IO.File.WriteAllTextAsync (path </> $\"file{i}.txt\", \"\") |> Async.AwaitTask\n",
    "\n",
    "    for i = 1 to n do\n",
    "        do! deleteFileAsync (path </> $\"file{i}.txt\")\n",
    "}\n",
    "\n",
    "let eventMap, eventList = testEventsSorted (watchDirectory false) write\n",
    "\n",
    "[\n",
    "    \"file1.txt\", nameof FileSystemChangeType.Created\n",
    "    \"file1.txt\", nameof FileSystemChangeType.Changed\n",
    "    \"file1.txt\", nameof FileSystemChangeType.Deleted\n",
    "\n",
    "    \"file2.txt\", nameof FileSystemChangeType.Created\n",
    "    \"file2.txt\", nameof FileSystemChangeType.Changed\n",
    "    \"file2.txt\", nameof FileSystemChangeType.Deleted\n",
    "]\n",
    "|> _sequenceEqual eventList\n",
    "\n",
    "[\n",
    "    \"file1.txt\", nameof FileSystemChangeType.Deleted\n",
    "    \"file2.txt\", nameof FileSystemChangeType.Deleted\n",
    "]\n",
    "|> Map.ofList\n",
    "|> _sequenceEqual eventMap"
   ]
  },
  {
   "cell_type": "markdown",
   "metadata": {
    "dotnet_repl_cellExecutionStartTime": "2023-07-21T16:15:32.9564967-03:00",
    "dotnet_repl_cellExecutionEndTime": "2023-07-21T16:15:32.9584635-03:00",
    "dotnet_repl_cellExecutionTime": "1.9687ms"
   },
   "source": [
    "#### rename (test)"
   ]
  },
  {
   "cell_type": "code",
   "execution_count": null,
   "metadata": {
    "dotnet_repl_cellExecutionStartTime": "2023-07-21T16:15:32.9584812-03:00",
    "dotnet_repl_cellExecutionEndTime": "2023-07-21T16:15:33.7206635-03:00",
    "dotnet_repl_cellExecutionTime": "762.1855ms",
    "dotnet_interactive": {
     "language": "fsharp"
    },
    "polyglot_notebook": {
     "kernelName": "fsharp"
    }
   },
   "outputs": [
    {
     "name": "stdout",
     "output_type": "stream",
     "text": [
      "16:15:33 #66 [Debug] createTempDirectory / tempFolder: C:\\Users\\i574n\\AppData\\Local\\Temp\\!dotnet-repl\\20230721-1615-3319-1938-124514f6dda4 / result: { CreationTime = 2023-07-21 4:15:33 PM\n",
      "  Exists = true }\r\n",
      "16:15:33 #67 [Debug] runWithTimeout / timeout: 500\r\n",
      "16:15:33 #68 [Debug] watchWithFilter / Disposing watch stream / fullPath: C:\\Users\\i574n\\AppData\\Local\\Temp\\!dotnet-repl\\20230721-1615-3319-1938-124514f6dda4 / filter: FileName, DirectoryName, Attributes, CreationTime, Security\r\n",
      "FSharpList<Tuple<String,String>>\r\n",
      "( file1.txt, Created )\r\n",
      "( file1.txt, Changed )\r\n",
      "( file2.txt, Created )\r\n",
      "( file2.txt, Changed )\r\n",
      "( file_1.txt, Renamed )\r\n",
      "( file_1.txt, Deleted )\r\n",
      "( file_2.txt, Renamed )\r\n",
      "( file_2.txt, Deleted )\r\n",
      "FSharpMap<String,String>\r\n",
      "      - Key: file1.txt\r\n",
      "        Value: Changed\r\n",
      "      - Key: file2.txt\r\n",
      "        Value: Changed\r\n",
      "      - Key: file_1.txt\r\n",
      "        Value: Deleted\r\n",
      "      - Key: file_2.txt\r\n",
      "        Value: Deleted\r\n"
     ]
    }
   ],
   "source": [
    "//// test\n",
    "\n",
    "let write path = async {\n",
    "    let n = 2\n",
    "\n",
    "    for i = 1 to n do\n",
    "        do! System.IO.File.WriteAllTextAsync (path </> $\"file{i}.txt\", $\"{i}\") |> Async.AwaitTask\n",
    "\n",
    "    for i = 1 to n do\n",
    "        do! path </> $\"file{i}.txt\" |> moveFileAsync (path </> $\"file_{i}.txt\")\n",
    "\n",
    "    for i = 1 to n do\n",
    "        do! deleteFileAsync (path </> $\"file_{i}.txt\")\n",
    "}\n",
    "\n",
    "let eventMap, eventList = testEventsSorted (watchDirectory false) write\n",
    "\n",
    "[\n",
    "    \"file1.txt\", nameof FileSystemChangeType.Created\n",
    "    \"file1.txt\", nameof FileSystemChangeType.Changed\n",
    "    \"file2.txt\", nameof FileSystemChangeType.Created\n",
    "    \"file2.txt\", nameof FileSystemChangeType.Changed\n",
    "\n",
    "    \"file_1.txt\", nameof FileSystemChangeType.Renamed\n",
    "    \"file_1.txt\", nameof FileSystemChangeType.Deleted\n",
    "\n",
    "    \"file_2.txt\", nameof FileSystemChangeType.Renamed\n",
    "    \"file_2.txt\", nameof FileSystemChangeType.Deleted\n",
    "]\n",
    "|> _sequenceEqual eventList\n",
    "\n",
    "[\n",
    "    \"file1.txt\", nameof FileSystemChangeType.Changed\n",
    "    \"file2.txt\", nameof FileSystemChangeType.Changed\n",
    "    \"file_1.txt\", nameof FileSystemChangeType.Deleted\n",
    "    \"file_2.txt\", nameof FileSystemChangeType.Deleted\n",
    "]\n",
    "|> Map.ofList\n",
    "|> _sequenceEqual eventMap"
   ]
  },
  {
   "cell_type": "markdown",
   "metadata": {
    "dotnet_repl_cellExecutionStartTime": "2023-07-21T16:15:33.7207276-03:00",
    "dotnet_repl_cellExecutionEndTime": "2023-07-21T16:15:33.7227744-03:00",
    "dotnet_repl_cellExecutionTime": "2.0491ms"
   },
   "source": [
    "#### full (test)"
   ]
  },
  {
   "cell_type": "code",
   "execution_count": null,
   "metadata": {
    "dotnet_repl_cellExecutionStartTime": "2023-07-21T16:15:33.7227975-03:00",
    "dotnet_repl_cellExecutionEndTime": "2023-07-21T16:15:34.6030886-03:00",
    "dotnet_repl_cellExecutionTime": "880.2931ms",
    "dotnet_interactive": {
     "language": "fsharp"
    },
    "polyglot_notebook": {
     "kernelName": "fsharp"
    }
   },
   "outputs": [
    {
     "name": "stdout",
     "output_type": "stream",
     "text": [
      "16:15:34 #69 [Debug] createTempDirectory / tempFolder: C:\\Users\\i574n\\AppData\\Local\\Temp\\!dotnet-repl\\20230721-1615-3408-0874-04b6b530451c / result: { CreationTime = 2023-07-21 4:15:34 PM\n",
      "  Exists = true }\r\n",
      "16:15:34 #70 [Debug] runWithTimeout / timeout: 500\r\n",
      "16:15:34 #71 [Debug] watchWithFilter / Disposing watch stream / fullPath: C:\\Users\\i574n\\AppData\\Local\\Temp\\!dotnet-repl\\20230721-1615-3408-0874-04b6b530451c / filter: FileName, DirectoryName, Attributes, CreationTime, Security\r\n",
      "FSharpList<Tuple<String,String>>\r\n",
      "( file1.txt, Created )\r\n",
      "( file1.txt, Changed )\r\n",
      "( file2.txt, Created )\r\n",
      "( file2.txt, Changed )\r\n",
      "( file_1.txt, Changed )\r\n",
      "( file_1.txt, Renamed )\r\n",
      "( file_1.txt, Deleted )\r\n",
      "( file_2.txt, Changed )\r\n",
      "( file_2.txt, Renamed )\r\n",
      "( file_2.txt, Deleted )\r\n",
      "FSharpMap<String,String>\r\n",
      "      - Key: file1.txt\r\n",
      "        Value: Changed\r\n",
      "      - Key: file2.txt\r\n",
      "        Value: Changed\r\n",
      "      - Key: file_1.txt\r\n",
      "        Value: Deleted\r\n",
      "      - Key: file_2.txt\r\n",
      "        Value: Deleted\r\n"
     ]
    }
   ],
   "source": [
    "//// test\n",
    "\n",
    "let write path = async {\n",
    "    let n = 2\n",
    "\n",
    "    for i = 1 to n do\n",
    "        do! System.IO.File.WriteAllTextAsync (path </> $\"file{i}.txt\", $\"{i}\") |> Async.AwaitTask\n",
    "\n",
    "    for i = 1 to n do\n",
    "        do! System.IO.File.WriteAllTextAsync (path </> $\"file{i}.txt\", \"\") |> Async.AwaitTask\n",
    "\n",
    "    for i = 1 to n do\n",
    "        do! path </> $\"file{i}.txt\" |> moveFileAsync (path </> $\"file_{i}.txt\")\n",
    "\n",
    "    for i = 1 to n do\n",
    "        do! System.IO.File.WriteAllTextAsync (path </> $\"file_{i}.txt\", $\"{i}\") |> Async.AwaitTask\n",
    "\n",
    "    for i = 1 to n do\n",
    "        do! deleteFileAsync (path </> $\"file_{i}.txt\")\n",
    "}\n",
    "\n",
    "let eventMap, eventList = testEventsSorted (watchDirectory false) write\n",
    "\n",
    "[\n",
    "    \"file1.txt\", nameof FileSystemChangeType.Created\n",
    "    \"file1.txt\", nameof FileSystemChangeType.Changed\n",
    "    \"file2.txt\", nameof FileSystemChangeType.Created\n",
    "    \"file2.txt\", nameof FileSystemChangeType.Changed\n",
    "\n",
    "    \"file_1.txt\", nameof FileSystemChangeType.Changed\n",
    "    \"file_1.txt\", nameof FileSystemChangeType.Renamed\n",
    "    \"file_1.txt\", nameof FileSystemChangeType.Deleted\n",
    "\n",
    "    \"file_2.txt\", nameof FileSystemChangeType.Changed\n",
    "    \"file_2.txt\", nameof FileSystemChangeType.Renamed\n",
    "    \"file_2.txt\", nameof FileSystemChangeType.Deleted\n",
    "]\n",
    "|> _sequenceEqual eventList\n",
    "\n",
    "[\n",
    "    \"file1.txt\", nameof FileSystemChangeType.Changed\n",
    "    \"file2.txt\", nameof FileSystemChangeType.Changed\n",
    "    \"file_1.txt\", nameof FileSystemChangeType.Deleted\n",
    "    \"file_2.txt\", nameof FileSystemChangeType.Deleted\n",
    "]\n",
    "|> Map.ofList\n",
    "|> _sequenceEqual eventMap"
   ]
  }
 ],
 "metadata": {
  "kernelspec": {
   "display_name": ".NET (C#)",
   "language": "C#",
   "name": ".net-csharp"
  },
  "language_info": {
   "file_extension": ".cs",
   "mimetype": "text/x-csharp",
   "name": "C#",
   "pygments_lexer": "csharp",
   "version": "10.0"
  },
  "polyglot_notebook": {
   "defaultKernelName": "csharp",
   "items": [
    {
     "name": "csharp"
    }
   ]
  },
  "dotnet_interactive": {
   "defaultKernelName": "csharp",
   "items": [
    {
     "name": "csharp"
    }
   ]
  }
 },
 "nbformat": 4,
 "nbformat_minor": 5
}