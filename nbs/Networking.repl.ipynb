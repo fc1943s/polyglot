{
 "cells": [
  {
   "cell_type": "markdown",
   "metadata": {},
   "source": [
    "# Networking (Polyglot)"
   ]
  },
  {
   "cell_type": "code",
   "execution_count": null,
   "metadata": {
    "dotnet_interactive": {
     "language": "fsharp"
    },
    "polyglot_notebook": {
     "kernelName": "fsharp"
    }
   },
   "outputs": [],
   "source": [
    "#!import ../nbs/Testing.dib"
   ]
  },
  {
   "cell_type": "code",
   "execution_count": null,
   "metadata": {
    "dotnet_interactive": {
     "language": "fsharp"
    },
    "polyglot_notebook": {
     "kernelName": "fsharp"
    }
   },
   "outputs": [],
   "source": [
    "#r @\"../../../../../../../.nuget/packages/argu/6.1.1/lib/netstandard2.0/Argu.dll\"\n",
    "#r @\"../../../../../../../.nuget/packages/system.commandline/2.0.0-beta4.22272.1/lib/net6.0/System.CommandLine.dll\""
   ]
  },
  {
   "cell_type": "code",
   "execution_count": null,
   "metadata": {
    "dotnet_interactive": {
     "language": "fsharp"
    },
    "polyglot_notebook": {
     "kernelName": "fsharp"
    }
   },
   "outputs": [],
   "source": [
    "#!import ../nbs/Common.fs\n",
    "#!import ../nbs/CommonFSharp.fs\n",
    "#!import ../nbs/Async.fs\n",
    "#!import ../nbs/Runtime.fs"
   ]
  },
  {
   "cell_type": "code",
   "execution_count": null,
   "metadata": {
    "dotnet_interactive": {
     "language": "fsharp"
    },
    "polyglot_notebook": {
     "kernelName": "fsharp"
    }
   },
   "outputs": [],
   "source": [
    "open Common"
   ]
  },
  {
   "cell_type": "markdown",
   "metadata": {},
   "source": [
    "## testPortOpen"
   ]
  },
  {
   "cell_type": "code",
   "execution_count": null,
   "metadata": {
    "dotnet_interactive": {
     "language": "fsharp"
    },
    "polyglot_notebook": {
     "kernelName": "fsharp"
    }
   },
   "outputs": [],
   "source": [
    "let inline testPortOpen port = async {\n",
    "    let! ct = Async.CancellationToken\n",
    "    use client = new System.Net.Sockets.TcpClient ()\n",
    "    try\n",
    "        do! client.ConnectAsync (\"127.0.0.1\", port, ct) |> Async.awaitValueTaskUnit\n",
    "        return true\n",
    "    with ex ->\n",
    "        trace Verbose (fun () -> $\"testPortOpen / ex: {ex |> printException}\") getLocals\n",
    "        return false\n",
    "}"
   ]
  },
  {
   "cell_type": "code",
   "execution_count": null,
   "metadata": {
    "dotnet_interactive": {
     "language": "fsharp"
    },
    "polyglot_notebook": {
     "kernelName": "fsharp"
    }
   },
   "outputs": [
    {
     "name": "stdout",
     "output_type": "stream",
     "text": [
      "00:00:00 #1 [Verbose] testPortOpen / ex: System.ArgumentOutOfRangeException: Specified argument was out of the range of valid values. (Parameter 'port')\r\n",
      "FSharpOption<Boolean>\r\n",
      "      Value: False\r\n"
     ]
    }
   ],
   "source": [
    "//// test\n",
    "\n",
    "testPortOpen 65536\n",
    "|> Async.runWithTimeout 60\n",
    "|> _equal (Some false)"
   ]
  },
  {
   "cell_type": "code",
   "execution_count": null,
   "metadata": {
    "dotnet_interactive": {
     "language": "fsharp"
    },
    "polyglot_notebook": {
     "kernelName": "fsharp"
    }
   },
   "outputs": [],
   "source": [
    "let inline testPortOpenTimeout timeout port = async {\n",
    "    let! result =\n",
    "        testPortOpen port\n",
    "        |> Async.runWithTimeoutAsync timeout\n",
    "    return\n",
    "        match result with\n",
    "        | None -> false\n",
    "        | Some result -> result\n",
    "}"
   ]
  },
  {
   "cell_type": "code",
   "execution_count": null,
   "metadata": {
    "dotnet_interactive": {
     "language": "fsharp"
    },
    "polyglot_notebook": {
     "kernelName": "fsharp"
    }
   },
   "outputs": [
    {
     "name": "stdout",
     "output_type": "stream",
     "text": [
      "00:00:00 #2 [Debug] runWithTimeoutAsync / timeout: 60\r\n",
      "False\r\n"
     ]
    }
   ],
   "source": [
    "//// test\n",
    "\n",
    "testPortOpenTimeout 60 65535\n",
    "|> Async.RunSynchronously\n",
    "|> _equal false"
   ]
  },
  {
   "cell_type": "markdown",
   "metadata": {},
   "source": [
    "## waitForPortAccess"
   ]
  },
  {
   "cell_type": "code",
   "execution_count": null,
   "metadata": {
    "dotnet_interactive": {
     "language": "fsharp"
    },
    "polyglot_notebook": {
     "kernelName": "fsharp"
    }
   },
   "outputs": [],
   "source": [
    "let inline waitForPortAccess timeout status port =\n",
    "    let rec loop retry = async {\n",
    "        let! isPortOpen =\n",
    "            match timeout with\n",
    "            | None -> testPortOpen port\n",
    "            | Some timeout -> testPortOpenTimeout timeout port\n",
    "        if isPortOpen = status\n",
    "        then return retry\n",
    "        else\n",
    "            if retry % 100 = 0 then\n",
    "                let getLocals () = $\"port: {port} / retry: {retry} / {getLocals ()}\"\n",
    "                trace Warn (fun () -> \"waitForPortAccess\") getLocals\n",
    "            do! Async.Sleep 10\n",
    "            return! loop (retry + 1)\n",
    "    }\n",
    "    loop 0"
   ]
  },
  {
   "cell_type": "code",
   "execution_count": null,
   "metadata": {
    "dotnet_interactive": {
     "language": "fsharp"
    },
    "polyglot_notebook": {
     "kernelName": "fsharp"
    }
   },
   "outputs": [
    {
     "name": "stdout",
     "output_type": "stream",
     "text": [
      "00:00:00 #3 [Debug] 1\r\n",
      "00:00:00 #4 [Debug] _1\r\n",
      "00:00:00 #5 [Debug] 2\r\n",
      "00:00:00 #6 [Debug] 3\r\n",
      "00:00:02 #7 [Verbose] testPortOpen / ex: System.AggregateException: One or more errors occurred. (No connection could be made because the target machine actively refused it.)\r\n",
      "00:00:02 #8 [Warn] waitForPortAccess / port: 5000 / retry: 0\r\n",
      "00:00:04 #9 [Verbose] testPortOpen / ex: System.AggregateException: One or more errors occurred. (No connection could be made because the target machine actively refused it.)\r\n",
      "00:00:05 #10 [Debug] _2\r\n",
      "00:00:05 #11 [Debug] _3\r\n",
      "00:00:05 #12 [Debug] 4\r\n",
      "00:00:05 #13 [Warn] waitForPortAccess / port: 5000 / retry: 0\r\n",
      "00:00:07 #14 [Warn] waitForPortAccess / port: 5000 / retry: 100\r\n",
      "00:00:07 #15 [Debug] _4\r\n",
      "00:00:07 #16 [Debug] _5\r\n",
      "00:00:09 #17 [Verbose] testPortOpen / ex: System.AggregateException: One or more errors occurred. (No connection could be made because the target machine actively refused it.)\r\n",
      "00:00:09 #18 [Debug] 5\r\n",
      "00:00:09 #19 [Debug] 6\r\n",
      "2\r\n",
      "2\r\n",
      "2\r\n",
      "120\r\n",
      "120\r\n",
      "120\r\n",
      "True\r\n"
     ]
    }
   ],
   "source": [
    "//// test\n",
    "\n",
    "let port = 5000\n",
    "\n",
    "let inline lockPort () = async {\n",
    "    trace Debug (fun () -> \"_1\") getLocals\n",
    "    do! Async.Sleep 5000\n",
    "    let listener = System.Net.Sockets.TcpListener (System.Net.IPAddress.Parse \"127.0.0.1\", port)\n",
    "    trace Debug (fun () -> \"_2\") getLocals\n",
    "    listener.Start ()\n",
    "    trace Debug (fun () -> \"_3\") getLocals\n",
    "    do! Async.Sleep 2000\n",
    "    trace Debug (fun () -> \"_4\") getLocals\n",
    "    listener.Stop ()\n",
    "    trace Debug (fun () -> \"_5\") getLocals\n",
    "}\n",
    "\n",
    "async {\n",
    "    trace Debug (fun () -> \"1\") getLocals\n",
    "    let! child = lockPort () |> Async.StartChild\n",
    "    trace Debug (fun () -> \"2\") getLocals\n",
    "    do! Async.Sleep 1\n",
    "    trace Debug (fun () -> \"3\") getLocals\n",
    "    let! retries1 = waitForPortAccess None true port\n",
    "    trace Debug (fun () -> \"4\") getLocals\n",
    "    let! retries2 = waitForPortAccess None false port\n",
    "    trace Debug (fun () -> \"5\") getLocals\n",
    "    do! child\n",
    "    trace Debug (fun () -> \"6\") getLocals\n",
    "    return retries1, retries2\n",
    "}\n",
    "|> Async.runWithTimeout 20000\n",
    "|> function\n",
    "    | Some (retries1, retries2) ->\n",
    "        retries1\n",
    "        |> _isBetween\n",
    "            (if Runtime.isWindows () then 2 else 2)\n",
    "            (if Runtime.isWindows () then 5 else 1500)\n",
    "\n",
    "        retries2\n",
    "        |> _isBetween\n",
    "            (if Runtime.isWindows () then 80 else 80)\n",
    "            (if Runtime.isWindows () then 150 else 600)\n",
    "\n",
    "        true\n",
    "    | _ -> false\n",
    "|> _equal true"
   ]
  },
  {
   "cell_type": "code",
   "execution_count": null,
   "metadata": {
    "dotnet_interactive": {
     "language": "fsharp"
    },
    "polyglot_notebook": {
     "kernelName": "fsharp"
    }
   },
   "outputs": [
    {
     "name": "stdout",
     "output_type": "stream",
     "text": [
      "00:00:10 #20 [Debug] 1\r\n",
      "00:00:10 #22 [Debug] _1\r\n",
      "00:00:10 #21 [Debug] 2\r\n",
      "00:00:10 #23 [Debug] 3\r\n",
      "00:00:10 #24 [Debug] runWithTimeoutAsync / timeout: 60\r\n",
      "00:00:10 #25 [Warn] waitForPortAccess / port: 5000 / retry: 0\r\n",
      "00:00:10 #26 [Debug] runWithTimeoutAsync / timeout: 60\r\n",
      "00:00:10 #27 [Debug] runWithTimeoutAsync / timeout: 60\r\n",
      "00:00:10 #28 [Debug] runWithTimeoutAsync / timeout: 60\r\n",
      "00:00:10 #29 [Debug] runWithTimeoutAsync / timeout: 60\r\n",
      "00:00:11 #30 [Debug] runWithTimeoutAsync / timeout: 60\r\n",
      "00:00:11 #31 [Debug] _2\r\n",
      "00:00:11 #32 [Debug] _3\r\n",
      "00:00:11 #33 [Debug] 4\r\n",
      "00:00:11 #34 [Warn] waitForPortAccess / port: 5000 / retry: 0\r\n",
      "00:00:11 #35 [Debug] _4\r\n",
      "00:00:11 #36 [Debug] _5\r\n",
      "00:00:11 #37 [Debug] runWithTimeoutAsync / timeout: 60\r\n",
      "00:00:11 #38 [Debug] 5\r\n",
      "00:00:11 #39 [Debug] 6\r\n",
      "6\r\n",
      "6\r\n",
      "6\r\n",
      "12\r\n",
      "12\r\n",
      "12\r\n",
      "True\r\n"
     ]
    }
   ],
   "source": [
    "//// test\n",
    "\n",
    "let port = 5000\n",
    "\n",
    "let inline lockPort () = async {\n",
    "    trace Debug (fun () -> \"_1\") getLocals\n",
    "    do! Async.Sleep 500\n",
    "    let listener = System.Net.Sockets.TcpListener (System.Net.IPAddress.Parse \"127.0.0.1\", port)\n",
    "    trace Debug (fun () -> \"_2\") getLocals\n",
    "    listener.Start ()\n",
    "    trace Debug (fun () -> \"_3\") getLocals\n",
    "    do! Async.Sleep 200\n",
    "    trace Debug (fun () -> \"_4\") getLocals\n",
    "    listener.Stop ()\n",
    "    trace Debug (fun () -> \"_5\") getLocals\n",
    "}\n",
    "\n",
    "async {\n",
    "    trace Debug (fun () -> \"1\") getLocals\n",
    "    let! child = lockPort () |> Async.StartChild\n",
    "    trace Debug (fun () -> \"2\") getLocals\n",
    "    do! Async.Sleep 1\n",
    "    trace Debug (fun () -> \"3\") getLocals\n",
    "    let! retries1 = waitForPortAccess (Some 60) true port\n",
    "    trace Debug (fun () -> \"4\") getLocals\n",
    "    let! retries2 = waitForPortAccess (Some 60) false port\n",
    "    trace Debug (fun () -> \"5\") getLocals\n",
    "    do! child\n",
    "    trace Debug (fun () -> \"6\") getLocals\n",
    "    return retries1, retries2\n",
    "}\n",
    "|> Async.runWithTimeout 2000\n",
    "|> function\n",
    "    | Some (retries1, retries2) ->\n",
    "        retries1\n",
    "        |> _isBetween\n",
    "            (if Runtime.isWindows () then 4 else 2)\n",
    "            (if Runtime.isWindows () then 15 else 150)\n",
    "\n",
    "        retries2\n",
    "        |> _isBetween\n",
    "            (if Runtime.isWindows () then 5 else 0)\n",
    "            (if Runtime.isWindows () then 20 else 60)\n",
    "\n",
    "        true\n",
    "    | _ -> false\n",
    "|> _equal true"
   ]
  },
  {
   "cell_type": "markdown",
   "metadata": {},
   "source": [
    "## getAvailablePort"
   ]
  },
  {
   "cell_type": "code",
   "execution_count": null,
   "metadata": {
    "dotnet_interactive": {
     "language": "fsharp"
    },
    "polyglot_notebook": {
     "kernelName": "fsharp"
    }
   },
   "outputs": [],
   "source": [
    "let inline getAvailablePort timeout initialPort =\n",
    "    let rec loop port = async {\n",
    "        let! isPortOpen =\n",
    "            match timeout with\n",
    "            | None -> testPortOpen port\n",
    "            | Some timeout -> testPortOpenTimeout timeout port\n",
    "        if not isPortOpen\n",
    "        then return port\n",
    "        else return! loop (port + 1)\n",
    "    }\n",
    "    loop initialPort"
   ]
  },
  {
   "cell_type": "code",
   "execution_count": null,
   "metadata": {
    "dotnet_interactive": {
     "language": "fsharp"
    },
    "polyglot_notebook": {
     "kernelName": "fsharp"
    }
   },
   "outputs": [
    {
     "name": "stdout",
     "output_type": "stream",
     "text": [
      "00:00:11 #40 [Debug] 1\r\n",
      "00:00:11 #41 [Debug] 2\r\n",
      "00:00:11 #42 [Debug] _1\r\n",
      "00:00:11 #43 [Debug] _2\r\n",
      "00:00:11 #44 [Debug] _3\r\n",
      "00:00:11 #45 [Debug] 3\r\n",
      "00:00:13 #46 [Verbose] testPortOpen / ex: System.AggregateException: One or more errors occurred. (No connection could be made because the target machine actively refused it.)\r\n",
      "00:00:13 #47 [Debug] 4\r\n",
      "00:00:13 #48 [Warn] waitForPortAccess / port: 5000 / retry: 0\r\n",
      "00:00:15 #49 [Warn] waitForPortAccess / port: 5000 / retry: 100\r\n",
      "00:00:15 #50 [Debug] _4\r\n",
      "00:00:15 #51 [Debug] _5\r\n",
      "00:00:17 #52 [Verbose] testPortOpen / ex: System.AggregateException: One or more errors occurred. (No connection could be made because the target machine actively refused it.)\r\n",
      "00:00:17 #53 [Debug] 5\r\n",
      "00:00:17 #54 [Debug] 6\r\n",
      "5002\r\n",
      "120\r\n",
      "120\r\n",
      "120\r\n",
      "True\r\n"
     ]
    }
   ],
   "source": [
    "//// test\n",
    "\n",
    "let port = 5000\n",
    "\n",
    "let inline lockPorts () = async {\n",
    "    trace Debug (fun () -> \"_1\") getLocals\n",
    "    let listener1 = System.Net.Sockets.TcpListener (System.Net.IPAddress.Parse \"127.0.0.1\", port)\n",
    "    let listener2 = System.Net.Sockets.TcpListener (System.Net.IPAddress.Parse \"127.0.0.1\", port + 1)\n",
    "    trace Debug (fun () -> \"_2\") getLocals\n",
    "    listener1.Start ()\n",
    "    listener2.Start ()\n",
    "    trace Debug (fun () -> \"_3\") getLocals\n",
    "    do! Async.Sleep 4000\n",
    "    trace Debug (fun () -> \"_4\") getLocals\n",
    "    listener1.Stop ()\n",
    "    listener2.Stop ()\n",
    "    trace Debug (fun () -> \"_5\") getLocals\n",
    "}\n",
    "\n",
    "async {\n",
    "    trace Debug (fun () -> \"1\") getLocals\n",
    "    let! child = lockPorts () |> Async.StartChild\n",
    "    trace Debug (fun () -> \"2\") getLocals\n",
    "    do! Async.Sleep 60\n",
    "    trace Debug (fun () -> \"3\") getLocals\n",
    "    let! availablePort = getAvailablePort None port\n",
    "    trace Debug (fun () -> \"4\") getLocals\n",
    "    let! retries = waitForPortAccess None false port\n",
    "    trace Debug (fun () -> \"5\") getLocals\n",
    "    do! child\n",
    "    trace Debug (fun () -> \"6\") getLocals\n",
    "    return availablePort, retries\n",
    "}\n",
    "|> Async.runWithTimeout 15000\n",
    "|> function\n",
    "    | Some (availablePort, retries) ->\n",
    "        availablePort |> _equal (port + 2)\n",
    "\n",
    "        retries\n",
    "        |> _isBetween\n",
    "            (if Runtime.isWindows () then 100 else 100)\n",
    "            (if Runtime.isWindows () then 150 else 1200)\n",
    "\n",
    "        true\n",
    "    | _ -> false\n",
    "|> _equal true"
   ]
  },
  {
   "cell_type": "code",
   "execution_count": null,
   "metadata": {
    "dotnet_interactive": {
     "language": "fsharp"
    },
    "polyglot_notebook": {
     "kernelName": "fsharp"
    }
   },
   "outputs": [
    {
     "name": "stdout",
     "output_type": "stream",
     "text": [
      "00:00:18 #55 [Debug] 1\r\n",
      "00:00:18 #56 [Debug] 2\r\n",
      "00:00:18 #57 [Debug] _1\r\n",
      "00:00:18 #58 [Debug] _2\r\n",
      "00:00:18 #59 [Debug] _3\r\n",
      "00:00:18 #60 [Debug] 3\r\n",
      "00:00:18 #61 [Debug] runWithTimeoutAsync / timeout: 60\r\n",
      "00:00:18 #62 [Debug] 4\r\n",
      "00:00:18 #63 [Warn] waitForPortAccess / port: 5000 / retry: 0\r\n",
      "00:00:18 #64 [Debug] _4\r\n",
      "00:00:18 #65 [Debug] _5\r\n",
      "00:00:18 #66 [Debug] runWithTimeoutAsync / timeout: 60\r\n",
      "00:00:18 #67 [Debug] 5\r\n",
      "00:00:18 #68 [Debug] 6\r\n",
      "5002\r\n",
      "15\r\n",
      "15\r\n",
      "15\r\n",
      "True\r\n"
     ]
    }
   ],
   "source": [
    "//// test\n",
    "\n",
    "let port = 5000\n",
    "\n",
    "let inline lockPorts () = async {\n",
    "    trace Debug (fun () -> \"_1\") getLocals\n",
    "    let listener1 = System.Net.Sockets.TcpListener (System.Net.IPAddress.Parse \"127.0.0.1\", port)\n",
    "    let listener2 = System.Net.Sockets.TcpListener (System.Net.IPAddress.Parse \"127.0.0.1\", port + 1)\n",
    "    trace Debug (fun () -> \"_2\") getLocals\n",
    "    listener1.Start ()\n",
    "    listener2.Start ()\n",
    "    trace Debug (fun () -> \"_3\") getLocals\n",
    "    do! Async.Sleep 400\n",
    "    trace Debug (fun () -> \"_4\") getLocals\n",
    "    listener1.Stop ()\n",
    "    listener2.Stop ()\n",
    "    trace Debug (fun () -> \"_5\") getLocals\n",
    "}\n",
    "\n",
    "async {\n",
    "    trace Debug (fun () -> \"1\") getLocals\n",
    "    let! child = lockPorts () |> Async.StartChild\n",
    "    trace Debug (fun () -> \"2\") getLocals\n",
    "    do! Async.Sleep 60\n",
    "    trace Debug (fun () -> \"3\") getLocals\n",
    "    let! availablePort = getAvailablePort (Some 60) port\n",
    "    trace Debug (fun () -> \"4\") getLocals\n",
    "    let! retries = waitForPortAccess (Some 60) false port\n",
    "    trace Debug (fun () -> \"5\") getLocals\n",
    "    do! child\n",
    "    trace Debug (fun () -> \"6\") getLocals\n",
    "    return availablePort, retries\n",
    "}\n",
    "|> Async.runWithTimeout 1500\n",
    "|> function\n",
    "    | Some (availablePort, retries) ->\n",
    "        availablePort |> _equal (port + 2)\n",
    "\n",
    "        retries\n",
    "        |> _isBetween\n",
    "            (if Runtime.isWindows () then 10 else 1)\n",
    "            (if Runtime.isWindows () then 30 else 120)\n",
    "\n",
    "        true\n",
    "    | _ -> false\n",
    "|> _equal true"
   ]
  }
 ],
 "metadata": {
  "kernelspec": {
   "display_name": ".NET (C#)",
   "language": "C#",
   "name": ".net-csharp"
  },
  "language_info": {
   "file_extension": ".cs",
   "mimetype": "text/x-csharp",
   "name": "C#",
   "pygments_lexer": "csharp",
   "version": "10.0"
  },
  "polyglot_notebook": {
   "defaultKernelName": "csharp",
   "items": [
    {
     "name": "csharp"
    }
   ]
  },
  "dotnet_interactive": {
   "defaultKernelName": "csharp",
   "items": [
    {
     "name": "csharp"
    }
   ]
  }
 },
 "nbformat": 4,
 "nbformat_minor": 5
}