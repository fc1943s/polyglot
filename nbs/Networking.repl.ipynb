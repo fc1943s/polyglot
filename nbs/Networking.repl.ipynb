{
 "cells": [
  {
   "cell_type": "markdown",
   "metadata": {
    "dotnet_repl_cellExecutionStartTime": "2023-07-25T16:03:45.6444014-03:00",
    "dotnet_repl_cellExecutionEndTime": "2023-07-25T16:03:45.7016311-03:00",
    "dotnet_repl_cellExecutionTime": "57.3748ms"
   },
   "source": [
    "# Networking (Polyglot)"
   ]
  },
  {
   "cell_type": "code",
   "execution_count": null,
   "metadata": {
    "dotnet_repl_cellExecutionStartTime": "2023-07-25T16:03:45.703856-03:00",
    "dotnet_repl_cellExecutionEndTime": "2023-07-25T16:03:50.5199354-03:00",
    "dotnet_repl_cellExecutionTime": "4.8160846s",
    "dotnet_interactive": {
     "language": "fsharp"
    },
    "polyglot_notebook": {
     "kernelName": "fsharp"
    }
   },
   "outputs": [],
   "source": [
    "#!import ../nbs/Testing.dib"
   ]
  },
  {
   "cell_type": "code",
   "execution_count": null,
   "metadata": {
    "dotnet_repl_cellExecutionStartTime": "2023-07-25T16:03:50.5200191-03:00",
    "dotnet_repl_cellExecutionEndTime": "2023-07-25T16:03:51.5867345-03:00",
    "dotnet_repl_cellExecutionTime": "1.0667199s",
    "dotnet_interactive": {
     "language": "fsharp"
    },
    "polyglot_notebook": {
     "kernelName": "fsharp"
    }
   },
   "outputs": [],
   "source": [
    "#!import ../nbs/Common.fs\n",
    "#!import ../nbs/Async.fs\n",
    "#!import ../nbs/Runtime.fs"
   ]
  },
  {
   "cell_type": "code",
   "execution_count": null,
   "metadata": {
    "dotnet_repl_cellExecutionStartTime": "2023-07-25T16:03:51.5867737-03:00",
    "dotnet_repl_cellExecutionEndTime": "2023-07-25T16:03:51.5931891-03:00",
    "dotnet_repl_cellExecutionTime": "6.4198ms",
    "dotnet_interactive": {
     "language": "fsharp"
    },
    "polyglot_notebook": {
     "kernelName": "fsharp"
    }
   },
   "outputs": [],
   "source": [
    "open Common"
   ]
  },
  {
   "cell_type": "markdown",
   "metadata": {
    "dotnet_repl_cellExecutionStartTime": "2023-07-25T16:03:51.5932259-03:00",
    "dotnet_repl_cellExecutionEndTime": "2023-07-25T16:03:51.5960255-03:00",
    "dotnet_repl_cellExecutionTime": "2.8038ms"
   },
   "source": [
    "## testPortOpen"
   ]
  },
  {
   "cell_type": "code",
   "execution_count": null,
   "metadata": {
    "dotnet_repl_cellExecutionStartTime": "2023-07-25T16:03:51.5960601-03:00",
    "dotnet_repl_cellExecutionEndTime": "2023-07-25T16:03:51.6484032-03:00",
    "dotnet_repl_cellExecutionTime": "52.3527ms",
    "dotnet_interactive": {
     "language": "fsharp"
    },
    "polyglot_notebook": {
     "kernelName": "fsharp"
    }
   },
   "outputs": [],
   "source": [
    "let testPortOpen port = async {\n",
    "    let! ct = Async.CancellationToken\n",
    "    use client = new System.Net.Sockets.TcpClient ()\n",
    "    try\n",
    "        do! client.ConnectAsync (\"127.0.0.1\", port, ct) |> Async.awaitValueTaskUnit\n",
    "        return true\n",
    "    with ex ->\n",
    "        trace Verbose (fun () -> $\"testPortOpen / ex: {ex |> printException}\") getLocals\n",
    "        return false\n",
    "}"
   ]
  },
  {
   "cell_type": "code",
   "execution_count": null,
   "metadata": {
    "dotnet_repl_cellExecutionStartTime": "2023-07-25T16:03:51.6484561-03:00",
    "dotnet_repl_cellExecutionEndTime": "2023-07-25T16:03:51.759813-03:00",
    "dotnet_repl_cellExecutionTime": "111.3587ms",
    "dotnet_interactive": {
     "language": "fsharp"
    },
    "polyglot_notebook": {
     "kernelName": "fsharp"
    }
   },
   "outputs": [
    {
     "name": "stdout",
     "output_type": "stream",
     "text": [
      "16:03:51 #1 [Verbose] testPortOpen / ex: System.ArgumentOutOfRangeException: Specified argument was out of the range of valid values. (Parameter 'port')\r\n",
      "FSharpOption<Boolean>\r\n",
      "      Value: False\r\n"
     ]
    }
   ],
   "source": [
    "//// test\n",
    "\n",
    "testPortOpen 65536\n",
    "|> Async.runWithTimeout 60\n",
    "|> _equal (Some false)"
   ]
  },
  {
   "cell_type": "code",
   "execution_count": null,
   "metadata": {
    "dotnet_repl_cellExecutionStartTime": "2023-07-25T16:03:51.7598641-03:00",
    "dotnet_repl_cellExecutionEndTime": "2023-07-25T16:03:51.7768168-03:00",
    "dotnet_repl_cellExecutionTime": "16.9576ms",
    "dotnet_interactive": {
     "language": "fsharp"
    },
    "polyglot_notebook": {
     "kernelName": "fsharp"
    }
   },
   "outputs": [],
   "source": [
    "let testPortOpenTimeout timeout port = async {\n",
    "    let! result =\n",
    "        testPortOpen port\n",
    "        |> Async.runWithTimeoutAsync timeout\n",
    "    return\n",
    "        match result with\n",
    "        | None -> false\n",
    "        | Some result -> result\n",
    "}"
   ]
  },
  {
   "cell_type": "code",
   "execution_count": null,
   "metadata": {
    "dotnet_repl_cellExecutionStartTime": "2023-07-25T16:03:51.7768527-03:00",
    "dotnet_repl_cellExecutionEndTime": "2023-07-25T16:03:51.8658324-03:00",
    "dotnet_repl_cellExecutionTime": "88.9872ms",
    "dotnet_interactive": {
     "language": "fsharp"
    },
    "polyglot_notebook": {
     "kernelName": "fsharp"
    }
   },
   "outputs": [
    {
     "name": "stdout",
     "output_type": "stream",
     "text": [
      "16:03:51 #2 [Debug] runWithTimeoutAsync / timeout: 60\r\n",
      "False\r\n"
     ]
    }
   ],
   "source": [
    "//// test\n",
    "\n",
    "testPortOpenTimeout 60 65535\n",
    "|> Async.RunSynchronously\n",
    "|> _equal false"
   ]
  },
  {
   "cell_type": "markdown",
   "metadata": {
    "dotnet_repl_cellExecutionStartTime": "2023-07-25T16:03:51.8659065-03:00",
    "dotnet_repl_cellExecutionEndTime": "2023-07-25T16:03:51.8711264-03:00",
    "dotnet_repl_cellExecutionTime": "5.2252ms"
   },
   "source": [
    "## waitForPortAccess"
   ]
  },
  {
   "cell_type": "code",
   "execution_count": null,
   "metadata": {
    "dotnet_repl_cellExecutionStartTime": "2023-07-25T16:03:51.8711759-03:00",
    "dotnet_repl_cellExecutionEndTime": "2023-07-25T16:03:51.9377099-03:00",
    "dotnet_repl_cellExecutionTime": "66.5384ms",
    "dotnet_interactive": {
     "language": "fsharp"
    },
    "polyglot_notebook": {
     "kernelName": "fsharp"
    }
   },
   "outputs": [],
   "source": [
    "let waitForPortAccess timeout status port =\n",
    "    let rec loop retry = async {\n",
    "        let! isPortOpen =\n",
    "            match timeout with\n",
    "            | None -> testPortOpen port\n",
    "            | Some timeout -> testPortOpenTimeout timeout port\n",
    "        if isPortOpen = status\n",
    "        then return retry\n",
    "        else\n",
    "            if retry % 100 = 0 then\n",
    "                let getLocals () = $\"port: {port} / retry: {retry} / {getLocals ()}\"\n",
    "                trace Warn (fun () -> \"waitForPortAccess\") getLocals\n",
    "            do! Async.Sleep 10\n",
    "            return! loop (retry + 1)\n",
    "    }\n",
    "    loop 0"
   ]
  },
  {
   "cell_type": "code",
   "execution_count": null,
   "metadata": {
    "dotnet_repl_cellExecutionStartTime": "2023-07-25T16:03:51.9377442-03:00",
    "dotnet_repl_cellExecutionEndTime": "2023-07-25T16:04:01.1795302-03:00",
    "dotnet_repl_cellExecutionTime": "9.2417876s",
    "dotnet_interactive": {
     "language": "fsharp"
    },
    "polyglot_notebook": {
     "kernelName": "fsharp"
    }
   },
   "outputs": [
    {
     "name": "stdout",
     "output_type": "stream",
     "text": [
      "16:03:52 #3 [Debug] 1\r\n",
      "16:03:52 #4 [Debug] _1\r\n",
      "16:03:52 #5 [Debug] 2\r\n",
      "16:03:52 #6 [Debug] 3\r\n",
      "16:03:54 #7 [Verbose] testPortOpen / ex: System.AggregateException: One or more errors occurred. (No connection could be made because the target machine actively refused it.)\r\n",
      "16:03:54 #8 [Warn] waitForPortAccess / port: 5000 / retry: 0\r\n",
      "16:03:56 #9 [Verbose] testPortOpen / ex: System.AggregateException: One or more errors occurred. (No connection could be made because the target machine actively refused it.)\r\n",
      "16:03:57 #10 [Debug] _2\r\n",
      "16:03:57 #11 [Debug] _3\r\n",
      "16:03:57 #12 [Debug] 4\r\n",
      "16:03:57 #13 [Warn] waitForPortAccess / port: 5000 / retry: 0\r\n",
      "16:03:58 #14 [Warn] waitForPortAccess / port: 5000 / retry: 100\r\n",
      "16:03:59 #15 [Debug] _4\r\n",
      "16:03:59 #16 [Debug] _5\r\n",
      "16:04:01 #17 [Verbose] testPortOpen / ex: System.AggregateException: One or more errors occurred. (No connection could be made because the target machine actively refused it.)\r\n",
      "16:04:01 #18 [Debug] 5\r\n",
      "16:04:01 #19 [Debug] 6\r\n",
      "2\r\n",
      "2\r\n",
      "2\r\n",
      "123\r\n",
      "123\r\n",
      "123\r\n",
      "True\r\n"
     ]
    }
   ],
   "source": [
    "//// test\n",
    "\n",
    "let port = 5000\n",
    "\n",
    "let lockPort () = async {\n",
    "    trace Debug (fun () -> \"_1\") getLocals\n",
    "    do! Async.Sleep 5000\n",
    "    let listener = System.Net.Sockets.TcpListener (System.Net.IPAddress.Parse \"127.0.0.1\", port)\n",
    "    trace Debug (fun () -> \"_2\") getLocals\n",
    "    listener.Start ()\n",
    "    trace Debug (fun () -> \"_3\") getLocals\n",
    "    do! Async.Sleep 2000\n",
    "    trace Debug (fun () -> \"_4\") getLocals\n",
    "    listener.Stop ()\n",
    "    trace Debug (fun () -> \"_5\") getLocals\n",
    "}\n",
    "\n",
    "async {\n",
    "    trace Debug (fun () -> \"1\") getLocals\n",
    "    let! child = lockPort () |> Async.StartChild\n",
    "    trace Debug (fun () -> \"2\") getLocals\n",
    "    do! Async.Sleep 1\n",
    "    trace Debug (fun () -> \"3\") getLocals\n",
    "    let! retries1 = waitForPortAccess None true port\n",
    "    trace Debug (fun () -> \"4\") getLocals\n",
    "    let! retries2 = waitForPortAccess None false port\n",
    "    trace Debug (fun () -> \"5\") getLocals\n",
    "    do! child\n",
    "    trace Debug (fun () -> \"6\") getLocals\n",
    "    return retries1, retries2\n",
    "}\n",
    "|> Async.runWithTimeout 20000\n",
    "|> function\n",
    "    | Some (retries1, retries2) ->\n",
    "        retries1\n",
    "        |> _isBetween\n",
    "            (if Runtime.isWindows () then 2 else 2)\n",
    "            (if Runtime.isWindows () then 5 else 1500)\n",
    "\n",
    "        retries2\n",
    "        |> _isBetween\n",
    "            (if Runtime.isWindows () then 80 else 80)\n",
    "            (if Runtime.isWindows () then 150 else 600)\n",
    "\n",
    "        true\n",
    "    | _ -> false\n",
    "|> _equal true"
   ]
  },
  {
   "cell_type": "code",
   "execution_count": null,
   "metadata": {
    "dotnet_repl_cellExecutionStartTime": "2023-07-25T16:04:01.1796136-03:00",
    "dotnet_repl_cellExecutionEndTime": "2023-07-25T16:04:02.0727695-03:00",
    "dotnet_repl_cellExecutionTime": "893.158ms",
    "dotnet_interactive": {
     "language": "fsharp"
    },
    "polyglot_notebook": {
     "kernelName": "fsharp"
    }
   },
   "outputs": [
    {
     "name": "stdout",
     "output_type": "stream",
     "text": [
      "16:04:01 #20 [Debug] 1\r\n",
      "16:04:01 #21 [Debug] 2\r\n",
      "16:04:01 #22 [Debug] _1\r\n",
      "16:04:01 #23 [Debug] 3\r\n",
      "16:04:01 #24 [Debug] runWithTimeoutAsync / timeout: 60\r\n",
      "16:04:01 #25 [Warn] waitForPortAccess / port: 5000 / retry: 0\r\n",
      "16:04:01 #26 [Debug] runWithTimeoutAsync / timeout: 60\r\n",
      "16:04:01 #27 [Debug] runWithTimeoutAsync / timeout: 60\r\n",
      "16:04:01 #28 [Debug] runWithTimeoutAsync / timeout: 60\r\n",
      "16:04:01 #29 [Debug] runWithTimeoutAsync / timeout: 60\r\n",
      "16:04:01 #30 [Debug] runWithTimeoutAsync / timeout: 60\r\n",
      "16:04:01 #31 [Debug] _2\r\n",
      "16:04:01 #32 [Debug] _3\r\n",
      "16:04:01 #33 [Debug] runWithTimeoutAsync / timeout: 60\r\n",
      "16:04:01 #34 [Debug] 4\r\n",
      "16:04:01 #35 [Warn] waitForPortAccess / port: 5000 / retry: 0\r\n",
      "16:04:01 #36 [Debug] _4\r\n",
      "16:04:01 #37 [Debug] _5\r\n",
      "16:04:02 #38 [Debug] runWithTimeoutAsync / timeout: 60\r\n",
      "16:04:02 #39 [Debug] 5\r\n",
      "16:04:02 #40 [Debug] 6\r\n",
      "7\r\n",
      "7\r\n",
      "7\r\n",
      "11\r\n",
      "11\r\n",
      "11\r\n",
      "True\r\n"
     ]
    }
   ],
   "source": [
    "//// test\n",
    "\n",
    "let port = 5000\n",
    "\n",
    "let lockPort () = async {\n",
    "    trace Debug (fun () -> \"_1\") getLocals\n",
    "    do! Async.Sleep 500\n",
    "    let listener = System.Net.Sockets.TcpListener (System.Net.IPAddress.Parse \"127.0.0.1\", port)\n",
    "    trace Debug (fun () -> \"_2\") getLocals\n",
    "    listener.Start ()\n",
    "    trace Debug (fun () -> \"_3\") getLocals\n",
    "    do! Async.Sleep 200\n",
    "    trace Debug (fun () -> \"_4\") getLocals\n",
    "    listener.Stop ()\n",
    "    trace Debug (fun () -> \"_5\") getLocals\n",
    "}\n",
    "\n",
    "async {\n",
    "    trace Debug (fun () -> \"1\") getLocals\n",
    "    let! child = lockPort () |> Async.StartChild\n",
    "    trace Debug (fun () -> \"2\") getLocals\n",
    "    do! Async.Sleep 1\n",
    "    trace Debug (fun () -> \"3\") getLocals\n",
    "    let! retries1 = waitForPortAccess (Some 60) true port\n",
    "    trace Debug (fun () -> \"4\") getLocals\n",
    "    let! retries2 = waitForPortAccess (Some 60) false port\n",
    "    trace Debug (fun () -> \"5\") getLocals\n",
    "    do! child\n",
    "    trace Debug (fun () -> \"6\") getLocals\n",
    "    return retries1, retries2\n",
    "}\n",
    "|> Async.runWithTimeout 2000\n",
    "|> function\n",
    "    | Some (retries1, retries2) ->\n",
    "        retries1\n",
    "        |> _isBetween\n",
    "            (if Runtime.isWindows () then 4 else 2)\n",
    "            (if Runtime.isWindows () then 15 else 150)\n",
    "\n",
    "        retries2\n",
    "        |> _isBetween\n",
    "            (if Runtime.isWindows () then 5 else 3)\n",
    "            (if Runtime.isWindows () then 20 else 60)\n",
    "\n",
    "        true\n",
    "    | _ -> false\n",
    "|> _equal true"
   ]
  },
  {
   "cell_type": "markdown",
   "metadata": {
    "dotnet_repl_cellExecutionStartTime": "2023-07-25T16:04:02.072815-03:00",
    "dotnet_repl_cellExecutionEndTime": "2023-07-25T16:04:02.0758657-03:00",
    "dotnet_repl_cellExecutionTime": "3.0525ms"
   },
   "source": [
    "## getAvailablePort"
   ]
  },
  {
   "cell_type": "code",
   "execution_count": null,
   "metadata": {
    "dotnet_repl_cellExecutionStartTime": "2023-07-25T16:04:02.0759091-03:00",
    "dotnet_repl_cellExecutionEndTime": "2023-07-25T16:04:02.0972559-03:00",
    "dotnet_repl_cellExecutionTime": "21.349ms",
    "dotnet_interactive": {
     "language": "fsharp"
    },
    "polyglot_notebook": {
     "kernelName": "fsharp"
    }
   },
   "outputs": [],
   "source": [
    "let getAvailablePort timeout initialPort =\n",
    "    let rec loop port = async {\n",
    "        let! isPortOpen =\n",
    "            match timeout with\n",
    "            | None -> testPortOpen port\n",
    "            | Some timeout -> testPortOpenTimeout timeout port\n",
    "        if not isPortOpen\n",
    "        then return port\n",
    "        else return! loop (port + 1)\n",
    "    }\n",
    "    loop initialPort"
   ]
  },
  {
   "cell_type": "code",
   "execution_count": null,
   "metadata": {
    "dotnet_repl_cellExecutionStartTime": "2023-07-25T16:04:02.0972891-03:00",
    "dotnet_repl_cellExecutionEndTime": "2023-07-25T16:04:08.2986468-03:00",
    "dotnet_repl_cellExecutionTime": "6.2013623s",
    "dotnet_interactive": {
     "language": "fsharp"
    },
    "polyglot_notebook": {
     "kernelName": "fsharp"
    }
   },
   "outputs": [
    {
     "name": "stdout",
     "output_type": "stream",
     "text": [
      "16:04:02 #41 [Debug] 1\r\n",
      "16:04:02 #42 [Debug] 2\r\n",
      "16:04:02 #43 [Debug] _1\r\n",
      "16:04:02 #44 [Debug] _2\r\n",
      "16:04:02 #45 [Debug] _3\r\n",
      "16:04:02 #46 [Debug] 3\r\n",
      "16:04:04 #47 [Verbose] testPortOpen / ex: System.AggregateException: One or more errors occurred. (No connection could be made because the target machine actively refused it.)\r\n",
      "16:04:04 #48 [Debug] 4\r\n",
      "16:04:04 #49 [Warn] waitForPortAccess / port: 5000 / retry: 0\r\n",
      "16:04:05 #50 [Warn] waitForPortAccess / port: 5000 / retry: 100\r\n",
      "16:04:06 #51 [Debug] _4\r\n",
      "16:04:06 #52 [Debug] _5\r\n",
      "16:04:08 #53 [Verbose] testPortOpen / ex: System.AggregateException: One or more errors occurred. (No connection could be made because the target machine actively refused it.)\r\n",
      "16:04:08 #54 [Debug] 5\r\n",
      "16:04:08 #55 [Debug] 6\r\n",
      "5002\r\n",
      "122\r\n",
      "122\r\n",
      "122\r\n",
      "True\r\n"
     ]
    }
   ],
   "source": [
    "//// test\n",
    "\n",
    "let port = 5000\n",
    "\n",
    "let lockPorts () = async {\n",
    "    trace Debug (fun () -> \"_1\") getLocals\n",
    "    let listener1 = System.Net.Sockets.TcpListener (System.Net.IPAddress.Parse \"127.0.0.1\", port)\n",
    "    let listener2 = System.Net.Sockets.TcpListener (System.Net.IPAddress.Parse \"127.0.0.1\", port + 1)\n",
    "    trace Debug (fun () -> \"_2\") getLocals\n",
    "    listener1.Start ()\n",
    "    listener2.Start ()\n",
    "    trace Debug (fun () -> \"_3\") getLocals\n",
    "    do! Async.Sleep 4000\n",
    "    trace Debug (fun () -> \"_4\") getLocals\n",
    "    listener1.Stop ()\n",
    "    listener2.Stop ()\n",
    "    trace Debug (fun () -> \"_5\") getLocals\n",
    "}\n",
    "\n",
    "async {\n",
    "    trace Debug (fun () -> \"1\") getLocals\n",
    "    let! child = lockPorts () |> Async.StartChild\n",
    "    trace Debug (fun () -> \"2\") getLocals\n",
    "    do! Async.Sleep 60\n",
    "    trace Debug (fun () -> \"3\") getLocals\n",
    "    let! availablePort = getAvailablePort None port\n",
    "    trace Debug (fun () -> \"4\") getLocals\n",
    "    let! retries = waitForPortAccess None false port\n",
    "    trace Debug (fun () -> \"5\") getLocals\n",
    "    do! child\n",
    "    trace Debug (fun () -> \"6\") getLocals\n",
    "    return availablePort, retries\n",
    "}\n",
    "|> Async.runWithTimeout 15000\n",
    "|> function\n",
    "    | Some (availablePort, retries) ->\n",
    "        availablePort |> _equal (port + 2)\n",
    "\n",
    "        retries\n",
    "        |> _isBetween\n",
    "            (if Runtime.isWindows () then 100 else 100)\n",
    "            (if Runtime.isWindows () then 150 else 1200)\n",
    "\n",
    "        true\n",
    "    | _ -> false\n",
    "|> _equal true"
   ]
  },
  {
   "cell_type": "code",
   "execution_count": null,
   "metadata": {
    "dotnet_repl_cellExecutionStartTime": "2023-07-25T16:04:08.2987961-03:00",
    "dotnet_repl_cellExecutionEndTime": "2023-07-25T16:04:08.9133852-03:00",
    "dotnet_repl_cellExecutionTime": "614.592ms",
    "dotnet_interactive": {
     "language": "fsharp"
    },
    "polyglot_notebook": {
     "kernelName": "fsharp"
    }
   },
   "outputs": [
    {
     "name": "stdout",
     "output_type": "stream",
     "text": [
      "16:04:08 #56 [Debug] 1\r\n",
      "16:04:08 #57 [Debug] 2\r\n",
      "16:04:08 #58 [Debug] _1\r\n",
      "16:04:08 #59 [Debug] _2\r\n",
      "16:04:08 #60 [Debug] _3\r\n",
      "16:04:08 #61 [Debug] 3\r\n",
      "16:04:08 #62 [Debug] runWithTimeoutAsync / timeout: 60\r\n",
      "16:04:08 #63 [Debug] 4\r\n",
      "16:04:08 #64 [Warn] waitForPortAccess / port: 5000 / retry: 0\r\n",
      "16:04:08 #65 [Debug] _4\r\n",
      "16:04:08 #66 [Debug] _5\r\n",
      "16:04:08 #67 [Debug] runWithTimeoutAsync / timeout: 60\r\n",
      "16:04:08 #68 [Debug] 5\r\n",
      "16:04:08 #69 [Debug] 6\r\n",
      "5002\r\n",
      "21\r\n",
      "21\r\n",
      "21\r\n",
      "True\r\n"
     ]
    }
   ],
   "source": [
    "//// test\n",
    "\n",
    "let port = 5000\n",
    "\n",
    "let lockPorts () = async {\n",
    "    trace Debug (fun () -> \"_1\") getLocals\n",
    "    let listener1 = System.Net.Sockets.TcpListener (System.Net.IPAddress.Parse \"127.0.0.1\", port)\n",
    "    let listener2 = System.Net.Sockets.TcpListener (System.Net.IPAddress.Parse \"127.0.0.1\", port + 1)\n",
    "    trace Debug (fun () -> \"_2\") getLocals\n",
    "    listener1.Start ()\n",
    "    listener2.Start ()\n",
    "    trace Debug (fun () -> \"_3\") getLocals\n",
    "    do! Async.Sleep 400\n",
    "    trace Debug (fun () -> \"_4\") getLocals\n",
    "    listener1.Stop ()\n",
    "    listener2.Stop ()\n",
    "    trace Debug (fun () -> \"_5\") getLocals\n",
    "}\n",
    "\n",
    "async {\n",
    "    trace Debug (fun () -> \"1\") getLocals\n",
    "    let! child = lockPorts () |> Async.StartChild\n",
    "    trace Debug (fun () -> \"2\") getLocals\n",
    "    do! Async.Sleep 20\n",
    "    trace Debug (fun () -> \"3\") getLocals\n",
    "    let! availablePort = getAvailablePort (Some 60) port\n",
    "    trace Debug (fun () -> \"4\") getLocals\n",
    "    let! retries = waitForPortAccess (Some 60) false port\n",
    "    trace Debug (fun () -> \"5\") getLocals\n",
    "    do! child\n",
    "    trace Debug (fun () -> \"6\") getLocals\n",
    "    return availablePort, retries\n",
    "}\n",
    "|> Async.runWithTimeout 1500\n",
    "|> function\n",
    "    | Some (availablePort, retries) ->\n",
    "        availablePort |> _equal (port + 2)\n",
    "\n",
    "        retries\n",
    "        |> _isBetween\n",
    "            (if Runtime.isWindows () then 10 else 10)\n",
    "            (if Runtime.isWindows () then 30 else 120)\n",
    "\n",
    "        true\n",
    "    | _ -> false\n",
    "|> _equal true"
   ]
  }
 ],
 "metadata": {
  "kernelspec": {
   "display_name": ".NET (C#)",
   "language": "C#",
   "name": ".net-csharp"
  },
  "language_info": {
   "file_extension": ".cs",
   "mimetype": "text/x-csharp",
   "name": "C#",
   "pygments_lexer": "csharp",
   "version": "10.0"
  },
  "polyglot_notebook": {
   "defaultKernelName": "csharp",
   "items": [
    {
     "name": "csharp"
    }
   ]
  },
  "dotnet_interactive": {
   "defaultKernelName": "csharp",
   "items": [
    {
     "name": "csharp"
    }
   ]
  }
 },
 "nbformat": 4,
 "nbformat_minor": 5
}