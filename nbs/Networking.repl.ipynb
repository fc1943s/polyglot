{
 "cells": [
  {
   "cell_type": "markdown",
   "metadata": {
    "dotnet_repl_cellExecutionStartTime": "2023-07-24T17:25:13.1837778-03:00",
    "dotnet_repl_cellExecutionEndTime": "2023-07-24T17:25:13.2351253-03:00",
    "dotnet_repl_cellExecutionTime": "51.4902ms"
   },
   "source": [
    "# Networking (Polyglot)"
   ]
  },
  {
   "cell_type": "code",
   "execution_count": null,
   "metadata": {
    "dotnet_repl_cellExecutionStartTime": "2023-07-24T17:25:13.2374164-03:00",
    "dotnet_repl_cellExecutionEndTime": "2023-07-24T17:25:21.9222147-03:00",
    "dotnet_repl_cellExecutionTime": "8.6848002s",
    "dotnet_interactive": {
     "language": "fsharp"
    },
    "polyglot_notebook": {
     "kernelName": "fsharp"
    }
   },
   "outputs": [
    {
     "data": {
      "text/html": [
       "<div><div></div><div><strong>Installing Packages</strong><ul><li><span>Expecto</span></li></ul></div><div></div></div>"
      ]
     },
     "metadata": {},
     "output_type": "display_data"
    },
    {
     "data": {
      "text/html": [
       "<div><div></div><div><strong>Installing Packages</strong><ul><li><span>Expecto.</span></li></ul></div><div></div></div>"
      ]
     },
     "metadata": {},
     "output_type": "display_data"
    },
    {
     "data": {
      "text/html": [
       "<div><div></div><div><strong>Installing Packages</strong><ul><li><span>Expecto..</span></li></ul></div><div></div></div>"
      ]
     },
     "metadata": {},
     "output_type": "display_data"
    },
    {
     "data": {
      "text/html": [
       "<div><div></div><div><strong>Installing Packages</strong><ul><li><span>Expecto...</span></li></ul></div><div></div></div>"
      ]
     },
     "metadata": {},
     "output_type": "display_data"
    },
    {
     "data": {
      "text/html": [
       "<div><div></div><div><strong>Installing Packages</strong><ul><li><span>Expecto....</span></li></ul></div><div></div></div>"
      ]
     },
     "metadata": {},
     "output_type": "display_data"
    },
    {
     "data": {
      "text/html": [
       "<div><div></div><div><strong>Installing Packages</strong><ul><li><span>Expecto.....</span></li></ul></div><div></div></div>"
      ]
     },
     "metadata": {},
     "output_type": "display_data"
    },
    {
     "data": {
      "text/html": [
       "<div><div></div><div><strong>Installing Packages</strong><ul><li><span>Expecto......</span></li></ul></div><div></div></div>"
      ]
     },
     "metadata": {},
     "output_type": "display_data"
    },
    {
     "data": {
      "text/html": [
       "<div><div></div><div><strong>Installing Packages</strong><ul><li><span>Expecto.......</span></li></ul></div><div></div></div>"
      ]
     },
     "metadata": {},
     "output_type": "display_data"
    },
    {
     "data": {
      "text/html": [
       "<div><div></div><div></div><div><strong>Installed Packages</strong><ul><li><span>Expecto, 10.1.0</span></li></ul></div></div>"
      ]
     },
     "metadata": {},
     "output_type": "display_data"
    }
   ],
   "source": [
    "#!import ../nbs/Testing.dib"
   ]
  },
  {
   "cell_type": "code",
   "execution_count": null,
   "metadata": {
    "dotnet_repl_cellExecutionStartTime": "2023-07-24T17:25:21.9223513-03:00",
    "dotnet_repl_cellExecutionEndTime": "2023-07-24T17:25:22.7749477-03:00",
    "dotnet_repl_cellExecutionTime": "852.598ms",
    "dotnet_interactive": {
     "language": "fsharp"
    },
    "polyglot_notebook": {
     "kernelName": "fsharp"
    }
   },
   "outputs": [],
   "source": [
    "#!import ../nbs/Common.fs\n",
    "#!import ../nbs/Async.fs"
   ]
  },
  {
   "cell_type": "code",
   "execution_count": null,
   "metadata": {
    "dotnet_repl_cellExecutionStartTime": "2023-07-24T17:25:22.7750066-03:00",
    "dotnet_repl_cellExecutionEndTime": "2023-07-24T17:25:22.7807778-03:00",
    "dotnet_repl_cellExecutionTime": "5.7728ms",
    "dotnet_interactive": {
     "language": "fsharp"
    },
    "polyglot_notebook": {
     "kernelName": "fsharp"
    }
   },
   "outputs": [],
   "source": [
    "open Common"
   ]
  },
  {
   "cell_type": "markdown",
   "metadata": {
    "dotnet_repl_cellExecutionStartTime": "2023-07-24T17:25:22.7808067-03:00",
    "dotnet_repl_cellExecutionEndTime": "2023-07-24T17:25:22.783603-03:00",
    "dotnet_repl_cellExecutionTime": "2.7988ms"
   },
   "source": [
    "## testPortOpen"
   ]
  },
  {
   "cell_type": "code",
   "execution_count": null,
   "metadata": {
    "dotnet_repl_cellExecutionStartTime": "2023-07-24T17:25:22.7836395-03:00",
    "dotnet_repl_cellExecutionEndTime": "2023-07-24T17:25:22.8482186-03:00",
    "dotnet_repl_cellExecutionTime": "64.5807ms",
    "dotnet_interactive": {
     "language": "fsharp"
    },
    "polyglot_notebook": {
     "kernelName": "fsharp"
    }
   },
   "outputs": [],
   "source": [
    "let testPortOpen port = async {\n",
    "    let! ct = Async.CancellationToken\n",
    "    use client = new System.Net.Sockets.TcpClient ()\n",
    "    try\n",
    "        do! client.ConnectAsync (\"127.0.0.1\", port, ct) |> Async.awaitValueTaskUnit\n",
    "        return true\n",
    "    with ex ->\n",
    "        trace Verbose (fun () -> $\"testPortOpen / ex: {ex |> printException}\") getLocals\n",
    "        return false\n",
    "}"
   ]
  },
  {
   "cell_type": "code",
   "execution_count": null,
   "metadata": {
    "dotnet_repl_cellExecutionStartTime": "2023-07-24T17:25:22.8482572-03:00",
    "dotnet_repl_cellExecutionEndTime": "2023-07-24T17:25:22.9348709-03:00",
    "dotnet_repl_cellExecutionTime": "86.616ms",
    "dotnet_interactive": {
     "language": "fsharp"
    },
    "polyglot_notebook": {
     "kernelName": "fsharp"
    }
   },
   "outputs": [
    {
     "name": "stdout",
     "output_type": "stream",
     "text": [
      "17:25:22 #1 [Verbose] testPortOpen / ex: System.ArgumentOutOfRangeException: Specified argument was out of the range of valid values. (Parameter 'port')\r\n",
      "FSharpOption<Boolean>\r\n",
      "      Value: False\r\n"
     ]
    }
   ],
   "source": [
    "//// test\n",
    "\n",
    "testPortOpen 65536\n",
    "|> Async.runWithTimeout 60\n",
    "|> _equal (Some false)"
   ]
  },
  {
   "cell_type": "code",
   "execution_count": null,
   "metadata": {
    "dotnet_repl_cellExecutionStartTime": "2023-07-24T17:25:22.9349111-03:00",
    "dotnet_repl_cellExecutionEndTime": "2023-07-24T17:25:22.9718627-03:00",
    "dotnet_repl_cellExecutionTime": "36.9624ms",
    "dotnet_interactive": {
     "language": "fsharp"
    },
    "polyglot_notebook": {
     "kernelName": "fsharp"
    }
   },
   "outputs": [],
   "source": [
    "let testPortOpenTimeout timeout port = async {\n",
    "    let! result =\n",
    "        testPortOpen port\n",
    "        |> Async.runWithTimeoutAsync timeout\n",
    "    return\n",
    "        match result with\n",
    "        | None -> false\n",
    "        | Some result -> result\n",
    "}"
   ]
  },
  {
   "cell_type": "code",
   "execution_count": null,
   "metadata": {
    "dotnet_repl_cellExecutionStartTime": "2023-07-24T17:25:22.9718998-03:00",
    "dotnet_repl_cellExecutionEndTime": "2023-07-24T17:25:23.0478283-03:00",
    "dotnet_repl_cellExecutionTime": "75.9297ms",
    "dotnet_interactive": {
     "language": "fsharp"
    },
    "polyglot_notebook": {
     "kernelName": "fsharp"
    }
   },
   "outputs": [
    {
     "name": "stdout",
     "output_type": "stream",
     "text": [
      "17:25:23 #2 [Debug] runWithTimeoutAsync / timeout: 60\r\n",
      "False\r\n"
     ]
    }
   ],
   "source": [
    "//// test\n",
    "\n",
    "testPortOpenTimeout 60 65535\n",
    "|> Async.RunSynchronously\n",
    "|> _equal false"
   ]
  },
  {
   "cell_type": "markdown",
   "metadata": {
    "dotnet_repl_cellExecutionStartTime": "2023-07-24T17:25:23.0478566-03:00",
    "dotnet_repl_cellExecutionEndTime": "2023-07-24T17:25:23.0500343-03:00",
    "dotnet_repl_cellExecutionTime": "2.1795ms"
   },
   "source": [
    "## waitForPortAccess"
   ]
  },
  {
   "cell_type": "code",
   "execution_count": null,
   "metadata": {
    "dotnet_repl_cellExecutionStartTime": "2023-07-24T17:25:23.0500651-03:00",
    "dotnet_repl_cellExecutionEndTime": "2023-07-24T17:25:23.1479512-03:00",
    "dotnet_repl_cellExecutionTime": "97.8877ms",
    "dotnet_interactive": {
     "language": "fsharp"
    },
    "polyglot_notebook": {
     "kernelName": "fsharp"
    }
   },
   "outputs": [],
   "source": [
    "let waitForPortAccess timeout status port =\n",
    "    let rec loop retry = async {\n",
    "        let! isPortOpen =\n",
    "            match timeout with\n",
    "            | None -> testPortOpen port\n",
    "            | Some timeout -> testPortOpenTimeout timeout port\n",
    "        if isPortOpen = status\n",
    "        then return retry\n",
    "        else\n",
    "            if retry % 100 = 0 then\n",
    "                let getLocals () = $\"port: {port} / retry: {retry} / {getLocals ()}\"\n",
    "                trace Warn (fun () -> \"waitForPortAccess\") getLocals\n",
    "            do! Async.Sleep 1\n",
    "            return! loop (retry + 1)\n",
    "    }\n",
    "    loop 0"
   ]
  },
  {
   "cell_type": "code",
   "execution_count": null,
   "metadata": {
    "dotnet_repl_cellExecutionStartTime": "2023-07-24T17:25:23.1479894-03:00",
    "dotnet_repl_cellExecutionEndTime": "2023-07-24T17:25:32.3717464-03:00",
    "dotnet_repl_cellExecutionTime": "9.2237611s",
    "dotnet_interactive": {
     "language": "fsharp"
    },
    "polyglot_notebook": {
     "kernelName": "fsharp"
    }
   },
   "outputs": [
    {
     "name": "stdout",
     "output_type": "stream",
     "text": [
      "17:25:23 #3 [Debug] 1\r\n",
      "17:25:23 #4 [Debug] _1\r\n",
      "17:25:23 #5 [Debug] 2\r\n",
      "17:25:23 #6 [Debug] 3\r\n",
      "17:25:25 #7 [Verbose] testPortOpen / ex: System.AggregateException: One or more errors occurred. (No connection could be made because the target machine actively refused it.)\r\n",
      "17:25:25 #8 [Warn] waitForPortAccess / port: 5000 / retry: 0\r\n",
      "17:25:27 #9 [Verbose] testPortOpen / ex: System.AggregateException: One or more errors occurred. (No connection could be made because the target machine actively refused it.)\r\n",
      "17:25:28 #10 [Debug] _2\r\n",
      "17:25:28 #11 [Debug] _3\r\n",
      "17:25:28 #12 [Warn] waitForPortAccess / port: 5000 / retry: 0\r\n",
      "17:25:29 #13 [Warn] waitForPortAccess / port: 5000 / retry: 100\r\n",
      "17:25:30 #14 [Debug] _4\r\n",
      "17:25:30 #15 [Debug] _5\r\n",
      "17:25:32 #16 [Verbose] testPortOpen / ex: System.AggregateException: One or more errors occurred. (No connection could be made because the target machine actively refused it.)\r\n",
      "2\r\n",
      "120\r\n",
      "True\r\n"
     ]
    }
   ],
   "source": [
    "//// test\n",
    "\n",
    "let port = 5000\n",
    "\n",
    "let lockPort () = async {\n",
    "    trace Debug (fun () -> \"_1\") getLocals\n",
    "    do! Async.Sleep 5000\n",
    "    let listener = System.Net.Sockets.TcpListener (System.Net.IPAddress.Parse \"127.0.0.1\", port)\n",
    "    trace Debug (fun () -> \"_2\") getLocals\n",
    "    listener.Start ()\n",
    "    trace Debug (fun () -> \"_3\") getLocals\n",
    "    do! Async.Sleep 2000\n",
    "    trace Debug (fun () -> \"_4\") getLocals\n",
    "    listener.Stop ()\n",
    "    trace Debug (fun () -> \"_5\") getLocals\n",
    "}\n",
    "\n",
    "async {\n",
    "    trace Debug (fun () -> \"1\") getLocals\n",
    "    let! _ = lockPort () |> Async.StartChild\n",
    "    trace Debug (fun () -> \"2\") getLocals\n",
    "    do! Async.Sleep 1\n",
    "    trace Debug (fun () -> \"3\") getLocals\n",
    "    let! retries1 = waitForPortAccess None true port\n",
    "    let! retries2 = waitForPortAccess None false port\n",
    "    return retries1, retries2\n",
    "}\n",
    "|> Async.runWithTimeout 20000\n",
    "|> function\n",
    "    | Some (retries1, retries2) ->\n",
    "        retries1 |> _isGreaterThanOrEqual 2\n",
    "        retries2 |> _isGreaterThanOrEqual 100\n",
    "        true\n",
    "    | _ -> false\n",
    "|> _equal true"
   ]
  },
  {
   "cell_type": "code",
   "execution_count": null,
   "metadata": {
    "dotnet_repl_cellExecutionStartTime": "2023-07-24T17:25:32.3719109-03:00",
    "dotnet_repl_cellExecutionEndTime": "2023-07-24T17:25:33.2928294-03:00",
    "dotnet_repl_cellExecutionTime": "920.9227ms",
    "dotnet_interactive": {
     "language": "fsharp"
    },
    "polyglot_notebook": {
     "kernelName": "fsharp"
    }
   },
   "outputs": [
    {
     "name": "stdout",
     "output_type": "stream",
     "text": [
      "17:25:32 #17 [Debug] 1\r\n",
      "17:25:32 #18 [Debug] 2\r\n",
      "17:25:32 #19 [Debug] _1\r\n",
      "17:25:32 #20 [Debug] 3\r\n",
      "17:25:32 #21 [Debug] runWithTimeoutAsync / timeout: 60\r\n",
      "17:25:32 #22 [Warn] waitForPortAccess / port: 5000 / retry: 0\r\n",
      "17:25:32 #23 [Debug] runWithTimeoutAsync / timeout: 60\r\n",
      "17:25:32 #24 [Debug] runWithTimeoutAsync / timeout: 60\r\n",
      "17:25:32 #25 [Debug] runWithTimeoutAsync / timeout: 60\r\n",
      "17:25:32 #26 [Debug] runWithTimeoutAsync / timeout: 60\r\n",
      "17:25:32 #27 [Debug] runWithTimeoutAsync / timeout: 60\r\n",
      "17:25:33 #28 [Debug] _2\r\n",
      "17:25:33 #29 [Debug] _3\r\n",
      "17:25:33 #30 [Debug] runWithTimeoutAsync / timeout: 60\r\n",
      "17:25:33 #31 [Warn] waitForPortAccess / port: 5000 / retry: 0\r\n",
      "17:25:33 #32 [Debug] _4\r\n",
      "17:25:33 #33 [Debug] _5\r\n",
      "17:25:33 #34 [Debug] runWithTimeoutAsync / timeout: 60\r\n",
      "7\r\n",
      "10\r\n",
      "True\r\n"
     ]
    }
   ],
   "source": [
    "//// test\n",
    "\n",
    "let port = 5000\n",
    "\n",
    "let lockPort () = async {\n",
    "    trace Debug (fun () -> \"_1\") getLocals\n",
    "    do! Async.Sleep 500\n",
    "    let listener = System.Net.Sockets.TcpListener (System.Net.IPAddress.Parse \"127.0.0.1\", port)\n",
    "    trace Debug (fun () -> \"_2\") getLocals\n",
    "    listener.Start ()\n",
    "    trace Debug (fun () -> \"_3\") getLocals\n",
    "    do! Async.Sleep 200\n",
    "    trace Debug (fun () -> \"_4\") getLocals\n",
    "    listener.Stop ()\n",
    "    trace Debug (fun () -> \"_5\") getLocals\n",
    "}\n",
    "\n",
    "async {\n",
    "    trace Debug (fun () -> \"1\") getLocals\n",
    "    let! _ = lockPort () |> Async.StartChild\n",
    "    trace Debug (fun () -> \"2\") getLocals\n",
    "    do! Async.Sleep 1\n",
    "    trace Debug (fun () -> \"3\") getLocals\n",
    "    let! retries1 = waitForPortAccess (Some 60) true port\n",
    "    let! retries2 = waitForPortAccess (Some 60) false port\n",
    "    return retries1, retries2\n",
    "}\n",
    "|> Async.runWithTimeout 2000\n",
    "|> function\n",
    "    | Some (retries1, retries2) ->\n",
    "        retries1 |> _isGreaterThanOrEqual 2\n",
    "        retries2 |> _isGreaterThanOrEqual 10\n",
    "        true\n",
    "    | _ -> false\n",
    "|> _equal true"
   ]
  },
  {
   "cell_type": "markdown",
   "metadata": {
    "dotnet_repl_cellExecutionStartTime": "2023-07-24T17:25:33.292872-03:00",
    "dotnet_repl_cellExecutionEndTime": "2023-07-24T17:25:33.2952439-03:00",
    "dotnet_repl_cellExecutionTime": "2.3744ms"
   },
   "source": [
    "## getAvailablePort"
   ]
  },
  {
   "cell_type": "code",
   "execution_count": null,
   "metadata": {
    "dotnet_repl_cellExecutionStartTime": "2023-07-24T17:25:33.2952825-03:00",
    "dotnet_repl_cellExecutionEndTime": "2023-07-24T17:25:33.3348299-03:00",
    "dotnet_repl_cellExecutionTime": "39.549ms",
    "dotnet_interactive": {
     "language": "fsharp"
    },
    "polyglot_notebook": {
     "kernelName": "fsharp"
    }
   },
   "outputs": [],
   "source": [
    "let getAvailablePort timeout initialPort =\n",
    "    let rec loop port = async {\n",
    "        let! isPortOpen =\n",
    "            match timeout with\n",
    "            | None -> testPortOpen port\n",
    "            | Some timeout -> testPortOpenTimeout timeout port\n",
    "        if not isPortOpen\n",
    "        then return port\n",
    "        else return! loop (port + 1)\n",
    "    }\n",
    "    loop initialPort"
   ]
  },
  {
   "cell_type": "code",
   "execution_count": null,
   "metadata": {
    "dotnet_repl_cellExecutionStartTime": "2023-07-24T17:25:33.3348714-03:00",
    "dotnet_repl_cellExecutionEndTime": "2023-07-24T17:25:39.5140893-03:00",
    "dotnet_repl_cellExecutionTime": "6.1792209s",
    "dotnet_interactive": {
     "language": "fsharp"
    },
    "polyglot_notebook": {
     "kernelName": "fsharp"
    }
   },
   "outputs": [
    {
     "name": "stdout",
     "output_type": "stream",
     "text": [
      "17:25:33 #35 [Debug] 1\r\n",
      "17:25:33 #36 [Debug] 2\r\n",
      "17:25:33 #37 [Debug] _1\r\n",
      "17:25:33 #38 [Debug] _2\r\n",
      "17:25:33 #39 [Debug] _3\r\n",
      "17:25:33 #40 [Debug] 3\r\n",
      "17:25:35 #41 [Verbose] testPortOpen / ex: System.AggregateException: One or more errors occurred. (No connection could be made because the target machine actively refused it.)\r\n",
      "17:25:35 #42 [Warn] waitForPortAccess / port: 5000 / retry: 0\r\n",
      "17:25:37 #43 [Warn] waitForPortAccess / port: 5000 / retry: 100\r\n",
      "17:25:37 #44 [Debug] _4\r\n",
      "17:25:37 #45 [Debug] _5\r\n",
      "17:25:39 #46 [Verbose] testPortOpen / ex: System.AggregateException: One or more errors occurred. (No connection could be made because the target machine actively refused it.)\r\n",
      "5002\r\n",
      "124\r\n",
      "True\r\n"
     ]
    }
   ],
   "source": [
    "//// test\n",
    "\n",
    "let port = 5000\n",
    "\n",
    "let lockPorts () = async {\n",
    "    trace Debug (fun () -> \"_1\") getLocals\n",
    "    let listener1 = System.Net.Sockets.TcpListener (System.Net.IPAddress.Parse \"127.0.0.1\", port)\n",
    "    let listener2 = System.Net.Sockets.TcpListener (System.Net.IPAddress.Parse \"127.0.0.1\", port + 1)\n",
    "    trace Debug (fun () -> \"_2\") getLocals\n",
    "    listener1.Start ()\n",
    "    listener2.Start ()\n",
    "    trace Debug (fun () -> \"_3\") getLocals\n",
    "    do! Async.Sleep 4000\n",
    "    trace Debug (fun () -> \"_4\") getLocals\n",
    "    listener1.Stop ()\n",
    "    listener2.Stop ()\n",
    "    trace Debug (fun () -> \"_5\") getLocals\n",
    "}\n",
    "\n",
    "async {\n",
    "    trace Debug (fun () -> \"1\") getLocals\n",
    "    let! _ = lockPorts () |> Async.StartChild\n",
    "    trace Debug (fun () -> \"2\") getLocals\n",
    "    do! Async.Sleep 1\n",
    "    trace Debug (fun () -> \"3\") getLocals\n",
    "    let! availablePort = getAvailablePort None port\n",
    "    let! retries = waitForPortAccess None false port\n",
    "    return availablePort, retries\n",
    "}\n",
    "|> Async.runWithTimeout 15000\n",
    "|> function\n",
    "    | Some (availablePort, retries) ->\n",
    "        availablePort |> _equal (port + 2)\n",
    "        retries |> _isGreaterThanOrEqual 100\n",
    "        true\n",
    "    | _ -> false\n",
    "|> _equal true"
   ]
  },
  {
   "cell_type": "code",
   "execution_count": null,
   "metadata": {
    "dotnet_repl_cellExecutionStartTime": "2023-07-24T17:25:39.514149-03:00",
    "dotnet_repl_cellExecutionEndTime": "2023-07-24T17:25:40.1628173-03:00",
    "dotnet_repl_cellExecutionTime": "648.6745ms",
    "dotnet_interactive": {
     "language": "fsharp"
    },
    "polyglot_notebook": {
     "kernelName": "fsharp"
    }
   },
   "outputs": [
    {
     "name": "stdout",
     "output_type": "stream",
     "text": [
      "17:25:39 #47 [Debug] 1\r\n",
      "17:25:39 #48 [Debug] 2\r\n",
      "17:25:39 #49 [Debug] _1\r\n",
      "17:25:39 #50 [Debug] _2\r\n",
      "17:25:39 #51 [Debug] _3\r\n",
      "17:25:39 #52 [Debug] 3\r\n",
      "17:25:39 #53 [Debug] runWithTimeoutAsync / timeout: 60\r\n",
      "17:25:39 #54 [Warn] waitForPortAccess / port: 5000 / retry: 0\r\n",
      "17:25:40 #55 [Debug] _4\r\n",
      "17:25:40 #56 [Debug] _5\r\n",
      "17:25:40 #57 [Debug] runWithTimeoutAsync / timeout: 60\r\n",
      "5002\r\n",
      "22\r\n",
      "True\r\n"
     ]
    }
   ],
   "source": [
    "//// test\n",
    "\n",
    "let port = 5000\n",
    "\n",
    "let lockPorts () = async {\n",
    "    trace Debug (fun () -> \"_1\") getLocals\n",
    "    let listener1 = System.Net.Sockets.TcpListener (System.Net.IPAddress.Parse \"127.0.0.1\", port)\n",
    "    let listener2 = System.Net.Sockets.TcpListener (System.Net.IPAddress.Parse \"127.0.0.1\", port + 1)\n",
    "    trace Debug (fun () -> \"_2\") getLocals\n",
    "    listener1.Start ()\n",
    "    listener2.Start ()\n",
    "    trace Debug (fun () -> \"_3\") getLocals\n",
    "    do! Async.Sleep 400\n",
    "    trace Debug (fun () -> \"_4\") getLocals\n",
    "    listener1.Stop ()\n",
    "    listener2.Stop ()\n",
    "    trace Debug (fun () -> \"_5\") getLocals\n",
    "}\n",
    "\n",
    "async {\n",
    "    trace Debug (fun () -> \"1\") getLocals\n",
    "    let! _ = lockPorts () |> Async.StartChild\n",
    "    trace Debug (fun () -> \"2\") getLocals\n",
    "    do! Async.Sleep 1\n",
    "    trace Debug (fun () -> \"3\") getLocals\n",
    "    let! availablePort = getAvailablePort (Some 60) port\n",
    "    let! retries = waitForPortAccess (Some 60) false port\n",
    "    return availablePort, retries\n",
    "}\n",
    "|> Async.runWithTimeout 1500\n",
    "|> function\n",
    "    | Some (availablePort, retries) ->\n",
    "        availablePort |> _equal (port + 2)\n",
    "        retries |> _isGreaterThanOrEqual 10\n",
    "        true\n",
    "    | _ -> false\n",
    "|> _equal true"
   ]
  }
 ],
 "metadata": {
  "kernelspec": {
   "display_name": ".NET (C#)",
   "language": "C#",
   "name": ".net-csharp"
  },
  "language_info": {
   "file_extension": ".cs",
   "mimetype": "text/x-csharp",
   "name": "C#",
   "pygments_lexer": "csharp",
   "version": "10.0"
  },
  "polyglot_notebook": {
   "defaultKernelName": "csharp",
   "items": [
    {
     "name": "csharp"
    }
   ]
  },
  "dotnet_interactive": {
   "defaultKernelName": "csharp",
   "items": [
    {
     "name": "csharp"
    }
   ]
  }
 },
 "nbformat": 4,
 "nbformat_minor": 5
}