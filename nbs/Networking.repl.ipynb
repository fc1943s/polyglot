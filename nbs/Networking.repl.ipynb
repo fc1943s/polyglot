{
 "cells": [
  {
   "cell_type": "markdown",
   "metadata": {
    "dotnet_repl_cellExecutionStartTime": "2023-07-20T19:44:22.4274308-03:00",
    "dotnet_repl_cellExecutionEndTime": "2023-07-20T19:44:22.4850082-03:00",
    "dotnet_repl_cellExecutionTime": "57.7498ms"
   },
   "source": [
    "# Networking (Polyglot)"
   ]
  },
  {
   "cell_type": "code",
   "execution_count": null,
   "metadata": {
    "dotnet_repl_cellExecutionStartTime": "2023-07-20T19:44:22.4881293-03:00",
    "dotnet_repl_cellExecutionEndTime": "2023-07-20T19:44:32.5627794-03:00",
    "dotnet_repl_cellExecutionTime": "10.074652s",
    "dotnet_interactive": {
     "language": "fsharp"
    },
    "polyglot_notebook": {
     "kernelName": "fsharp"
    }
   },
   "outputs": [
    {
     "data": {
      "text/html": [
       "<div><div></div><div><strong>Installing Packages</strong><ul><li><span>Expecto</span></li></ul></div><div></div></div>"
      ]
     },
     "metadata": {},
     "output_type": "display_data"
    },
    {
     "data": {
      "text/html": [
       "<div><div></div><div><strong>Installing Packages</strong><ul><li><span>Expecto.</span></li></ul></div><div></div></div>"
      ]
     },
     "metadata": {},
     "output_type": "display_data"
    },
    {
     "data": {
      "text/html": [
       "<div><div></div><div><strong>Installing Packages</strong><ul><li><span>Expecto..</span></li></ul></div><div></div></div>"
      ]
     },
     "metadata": {},
     "output_type": "display_data"
    },
    {
     "data": {
      "text/html": [
       "<div><div></div><div><strong>Installing Packages</strong><ul><li><span>Expecto...</span></li></ul></div><div></div></div>"
      ]
     },
     "metadata": {},
     "output_type": "display_data"
    },
    {
     "data": {
      "text/html": [
       "<div><div></div><div><strong>Installing Packages</strong><ul><li><span>Expecto....</span></li></ul></div><div></div></div>"
      ]
     },
     "metadata": {},
     "output_type": "display_data"
    },
    {
     "data": {
      "text/html": [
       "<div><div></div><div><strong>Installing Packages</strong><ul><li><span>Expecto.....</span></li></ul></div><div></div></div>"
      ]
     },
     "metadata": {},
     "output_type": "display_data"
    },
    {
     "data": {
      "text/html": [
       "<div><div></div><div><strong>Installing Packages</strong><ul><li><span>Expecto......</span></li></ul></div><div></div></div>"
      ]
     },
     "metadata": {},
     "output_type": "display_data"
    },
    {
     "data": {
      "text/html": [
       "<div><div></div><div><strong>Installing Packages</strong><ul><li><span>Expecto.......</span></li></ul></div><div></div></div>"
      ]
     },
     "metadata": {},
     "output_type": "display_data"
    },
    {
     "data": {
      "text/html": [
       "<div><div></div><div></div><div><strong>Installed Packages</strong><ul><li><span>Expecto, 10.1.0</span></li></ul></div></div>"
      ]
     },
     "metadata": {},
     "output_type": "display_data"
    }
   ],
   "source": [
    "#!import ../nbs/Testing.dib"
   ]
  },
  {
   "cell_type": "code",
   "execution_count": null,
   "metadata": {
    "dotnet_repl_cellExecutionStartTime": "2023-07-20T19:44:32.562924-03:00",
    "dotnet_repl_cellExecutionEndTime": "2023-07-20T19:44:33.1290112-03:00",
    "dotnet_repl_cellExecutionTime": "566.0889ms",
    "dotnet_interactive": {
     "language": "fsharp"
    },
    "polyglot_notebook": {
     "kernelName": "fsharp"
    }
   },
   "outputs": [],
   "source": [
    "#!import ../nbs/Common.fs\n",
    "#!import ../nbs/Async.fs"
   ]
  },
  {
   "cell_type": "code",
   "execution_count": null,
   "metadata": {
    "dotnet_repl_cellExecutionStartTime": "2023-07-20T19:44:33.1290413-03:00",
    "dotnet_repl_cellExecutionEndTime": "2023-07-20T19:44:33.1347987-03:00",
    "dotnet_repl_cellExecutionTime": "5.7593ms",
    "dotnet_interactive": {
     "language": "fsharp"
    },
    "polyglot_notebook": {
     "kernelName": "fsharp"
    }
   },
   "outputs": [],
   "source": [
    "open Common"
   ]
  },
  {
   "cell_type": "markdown",
   "metadata": {
    "dotnet_repl_cellExecutionStartTime": "2023-07-20T19:44:33.1348304-03:00",
    "dotnet_repl_cellExecutionEndTime": "2023-07-20T19:44:33.1369228-03:00",
    "dotnet_repl_cellExecutionTime": "2.0939ms"
   },
   "source": [
    "## testPortOpen"
   ]
  },
  {
   "cell_type": "code",
   "execution_count": null,
   "metadata": {
    "dotnet_repl_cellExecutionStartTime": "2023-07-20T19:44:33.1369476-03:00",
    "dotnet_repl_cellExecutionEndTime": "2023-07-20T19:44:33.3011329-03:00",
    "dotnet_repl_cellExecutionTime": "164.1878ms",
    "dotnet_interactive": {
     "language": "fsharp"
    },
    "polyglot_notebook": {
     "kernelName": "fsharp"
    }
   },
   "outputs": [],
   "source": [
    "let testPortOpen port = async {\n",
    "    use client = new System.Net.Sockets.TcpClient ()\n",
    "    try\n",
    "        do! client.ConnectAsync (\"127.0.0.1\", port) |> Async.AwaitTask\n",
    "        return true\n",
    "    with ex ->\n",
    "        trace Warn (fun () -> $\"testPortOpen / message: {ex.Message}\") getLocals\n",
    "        return false\n",
    "}"
   ]
  },
  {
   "cell_type": "code",
   "execution_count": null,
   "metadata": {
    "dotnet_repl_cellExecutionStartTime": "2023-07-20T19:44:33.3011869-03:00",
    "dotnet_repl_cellExecutionEndTime": "2023-07-20T19:44:33.4212304-03:00",
    "dotnet_repl_cellExecutionTime": "120.0464ms",
    "dotnet_interactive": {
     "language": "fsharp"
    },
    "polyglot_notebook": {
     "kernelName": "fsharp"
    }
   },
   "outputs": [
    {
     "name": "stdout",
     "output_type": "stream",
     "text": [
      "19:44:33 #1 [Warn] testPortOpen / message: Specified argument was out of the range of valid values. (Parameter 'port')\r\n",
      "False\r\n"
     ]
    }
   ],
   "source": [
    "//// test\n",
    "\n",
    "testPortOpen 65536\n",
    "|> Async.RunSynchronously\n",
    "|> _equal false"
   ]
  },
  {
   "cell_type": "markdown",
   "metadata": {
    "dotnet_repl_cellExecutionStartTime": "2023-07-20T19:44:33.4212929-03:00",
    "dotnet_repl_cellExecutionEndTime": "2023-07-20T19:44:33.4263333-03:00",
    "dotnet_repl_cellExecutionTime": "5.0455ms"
   },
   "source": [
    "## waitForPortAccess"
   ]
  },
  {
   "cell_type": "code",
   "execution_count": null,
   "metadata": {
    "dotnet_repl_cellExecutionStartTime": "2023-07-20T19:44:33.4264795-03:00",
    "dotnet_repl_cellExecutionEndTime": "2023-07-20T19:44:33.5960888-03:00",
    "dotnet_repl_cellExecutionTime": "169.6114ms",
    "dotnet_interactive": {
     "language": "fsharp"
    },
    "polyglot_notebook": {
     "kernelName": "fsharp"
    }
   },
   "outputs": [],
   "source": [
    "let waitForPortAccess status port =\n",
    "    let rec loop retry = async {\n",
    "        let! isPortOpen = testPortOpen port\n",
    "        if isPortOpen = status\n",
    "        then return retry\n",
    "        else\n",
    "            if retry % 100 = 0 then\n",
    "                let getLocals () = $\"port: {port} / retry: {retry} / {getLocals ()}\"\n",
    "                trace Warn (fun () -> \"waitForPortAccess\") getLocals\n",
    "            do! Async.Sleep 1\n",
    "            return! loop (retry + 1)\n",
    "    }\n",
    "    loop 0"
   ]
  },
  {
   "cell_type": "code",
   "execution_count": null,
   "metadata": {
    "dotnet_repl_cellExecutionStartTime": "2023-07-20T19:44:33.5961287-03:00",
    "dotnet_repl_cellExecutionEndTime": "2023-07-20T19:44:42.9359224-03:00",
    "dotnet_repl_cellExecutionTime": "9.3397945s",
    "dotnet_interactive": {
     "language": "fsharp"
    },
    "polyglot_notebook": {
     "kernelName": "fsharp"
    }
   },
   "outputs": [
    {
     "name": "stdout",
     "output_type": "stream",
     "text": [
      "19:44:33 #2 [Debug] 1\r\n",
      "19:44:33 #3 [Debug] _1\r\n",
      "19:44:33 #4 [Debug] 2\r\n",
      "19:44:33 #5 [Debug] 3\r\n",
      "19:44:35 #6 [Warn] testPortOpen / message: One or more errors occurred. (No connection could be made because the target machine actively refused it.)\r\n",
      "19:44:35 #7 [Warn] waitForPortAccess / port: 5000 / retry: 0\r\n",
      "19:44:37 #8 [Warn] testPortOpen / message: One or more errors occurred. (No connection could be made because the target machine actively refused it.)\r\n",
      "19:44:38 #9 [Debug] _2\r\n",
      "19:44:38 #10 [Debug] _3\r\n",
      "2\r\n",
      "19:44:38 #11 [Warn] waitForPortAccess / port: 5000 / retry: 0\r\n",
      "19:44:40 #12 [Warn] waitForPortAccess / port: 5000 / retry: 100\r\n",
      "19:44:40 #13 [Debug] _4\r\n",
      "19:44:40 #14 [Debug] _5\r\n",
      "19:44:42 #15 [Warn] testPortOpen / message: One or more errors occurred. (No connection could be made because the target machine actively refused it.)\r\n",
      "127\r\n",
      "FSharpOption<Unit>\r\n",
      "      Value: <null>\r\n"
     ]
    }
   ],
   "source": [
    "//// test\n",
    "\n",
    "let port = 5000\n",
    "\n",
    "let lockPort () = async {\n",
    "    trace Debug (fun () -> \"_1\") getLocals\n",
    "    do! Async.Sleep 5000\n",
    "    let listener = System.Net.Sockets.TcpListener (System.Net.IPAddress.Parse \"127.0.0.1\", port)\n",
    "    trace Debug (fun () -> \"_2\") getLocals\n",
    "    listener.Start ()\n",
    "    trace Debug (fun () -> \"_3\") getLocals\n",
    "    do! Async.Sleep 2000\n",
    "    trace Debug (fun () -> \"_4\") getLocals\n",
    "    listener.Stop ()\n",
    "    trace Debug (fun () -> \"_5\") getLocals\n",
    "}\n",
    "\n",
    "async {\n",
    "    trace Debug (fun () -> \"1\") getLocals\n",
    "    let! _ = lockPort () |> Async.StartChild\n",
    "    trace Debug (fun () -> \"2\") getLocals\n",
    "    do! Async.Sleep 1\n",
    "    trace Debug (fun () -> \"3\") getLocals\n",
    "    let! retries = waitForPortAccess true port\n",
    "    retries |> _isGreaterThanOrEqual 2\n",
    "    let! retries = waitForPortAccess false port\n",
    "    retries |> _isGreaterThanOrEqual 100\n",
    "}\n",
    "|> Async.runWithTimeout 15000\n",
    "|> _equal (Some ())"
   ]
  },
  {
   "cell_type": "markdown",
   "metadata": {
    "dotnet_repl_cellExecutionStartTime": "2023-07-20T19:44:42.9359715-03:00",
    "dotnet_repl_cellExecutionEndTime": "2023-07-20T19:44:42.9374847-03:00",
    "dotnet_repl_cellExecutionTime": "1.5141ms"
   },
   "source": [
    "## getAvailablePort"
   ]
  },
  {
   "cell_type": "code",
   "execution_count": null,
   "metadata": {
    "dotnet_repl_cellExecutionStartTime": "2023-07-20T19:44:42.9375005-03:00",
    "dotnet_repl_cellExecutionEndTime": "2023-07-20T19:44:42.9657872-03:00",
    "dotnet_repl_cellExecutionTime": "28.2895ms",
    "dotnet_interactive": {
     "language": "fsharp"
    },
    "polyglot_notebook": {
     "kernelName": "fsharp"
    }
   },
   "outputs": [],
   "source": [
    "let getAvailablePort initialPort =\n",
    "    let rec loop port = async {\n",
    "        let! isPortOpen = testPortOpen port\n",
    "        if not isPortOpen\n",
    "        then return port\n",
    "        else return! loop (port + 1)\n",
    "    }\n",
    "    loop initialPort"
   ]
  },
  {
   "cell_type": "code",
   "execution_count": null,
   "metadata": {
    "dotnet_repl_cellExecutionStartTime": "2023-07-20T19:44:42.9658351-03:00",
    "dotnet_repl_cellExecutionEndTime": "2023-07-20T19:44:49.1370067-03:00",
    "dotnet_repl_cellExecutionTime": "6.1711734s",
    "dotnet_interactive": {
     "language": "fsharp"
    },
    "polyglot_notebook": {
     "kernelName": "fsharp"
    }
   },
   "outputs": [
    {
     "name": "stdout",
     "output_type": "stream",
     "text": [
      "19:44:43 #16 [Debug] 1\r\n",
      "19:44:43 #17 [Debug] 2\r\n",
      "19:44:43 #18 [Debug] _1\r\n",
      "19:44:43 #19 [Debug] _2\r\n",
      "19:44:43 #20 [Debug] _3\r\n",
      "19:44:43 #21 [Debug] 3\r\n",
      "19:44:45 #22 [Warn] testPortOpen / message: One or more errors occurred. (No connection could be made because the target machine actively refused it.)\r\n",
      "5002\r\n",
      "19:44:45 #23 [Warn] waitForPortAccess / port: 5000 / retry: 0\r\n",
      "19:44:46 #24 [Warn] waitForPortAccess / port: 5000 / retry: 100\r\n",
      "19:44:47 #25 [Debug] _4\r\n",
      "19:44:47 #26 [Debug] _5\r\n",
      "19:44:49 #27 [Warn] testPortOpen / message: One or more errors occurred. (No connection could be made because the target machine actively refused it.)\r\n",
      "133\r\n",
      "FSharpOption<Unit>\r\n",
      "      Value: <null>\r\n"
     ]
    }
   ],
   "source": [
    "//// test\n",
    "\n",
    "let port = 5000\n",
    "\n",
    "let lockPorts () = async {\n",
    "    trace Debug (fun () -> \"_1\") getLocals\n",
    "    let listener1 = System.Net.Sockets.TcpListener (System.Net.IPAddress.Parse \"127.0.0.1\", port)\n",
    "    let listener2 = System.Net.Sockets.TcpListener (System.Net.IPAddress.Parse \"127.0.0.1\", port + 1)\n",
    "    trace Debug (fun () -> \"_2\") getLocals\n",
    "    listener1.Start ()\n",
    "    listener2.Start ()\n",
    "    trace Debug (fun () -> \"_3\") getLocals\n",
    "    do! Async.Sleep 4000\n",
    "    trace Debug (fun () -> \"_4\") getLocals\n",
    "    listener1.Stop ()\n",
    "    listener2.Stop ()\n",
    "    trace Debug (fun () -> \"_5\") getLocals\n",
    "}\n",
    "\n",
    "async {\n",
    "    trace Debug (fun () -> \"1\") getLocals\n",
    "    let! _ = lockPorts () |> Async.StartChild\n",
    "    trace Debug (fun () -> \"2\") getLocals\n",
    "    do! Async.Sleep 1\n",
    "    trace Debug (fun () -> \"3\") getLocals\n",
    "    let! availablePort = getAvailablePort port\n",
    "    availablePort |> _equal (port + 2)\n",
    "    let! retries = waitForPortAccess false port\n",
    "    retries |> _isGreaterThanOrEqual 100\n",
    "}\n",
    "|> Async.runWithTimeout 10000\n",
    "|> _equal (Some ())"
   ]
  }
 ],
 "metadata": {
  "kernelspec": {
   "display_name": ".NET (C#)",
   "language": "C#",
   "name": ".net-csharp"
  },
  "language_info": {
   "file_extension": ".cs",
   "mimetype": "text/x-csharp",
   "name": "C#",
   "pygments_lexer": "csharp",
   "version": "10.0"
  },
  "polyglot_notebook": {
   "defaultKernelName": "csharp",
   "items": [
    {
     "name": "csharp"
    }
   ]
  },
  "dotnet_interactive": {
   "defaultKernelName": "csharp",
   "items": [
    {
     "name": "csharp"
    }
   ]
  }
 },
 "nbformat": 4,
 "nbformat_minor": 5
}