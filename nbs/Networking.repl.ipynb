{
 "cells": [
  {
   "cell_type": "markdown",
   "metadata": {
    "dotnet_repl_cellExecutionStartTime": "2023-07-25T21:42:14.7543346-03:00",
    "dotnet_repl_cellExecutionEndTime": "2023-07-25T21:42:14.8064926-03:00",
    "dotnet_repl_cellExecutionTime": "52.2926ms"
   },
   "source": [
    "# Networking (Polyglot)"
   ]
  },
  {
   "cell_type": "code",
   "execution_count": null,
   "metadata": {
    "dotnet_repl_cellExecutionStartTime": "2023-07-25T21:42:14.8086612-03:00",
    "dotnet_repl_cellExecutionEndTime": "2023-07-25T21:42:19.8984591-03:00",
    "dotnet_repl_cellExecutionTime": "5.0898106s",
    "dotnet_interactive": {
     "language": "fsharp"
    },
    "polyglot_notebook": {
     "kernelName": "fsharp"
    }
   },
   "outputs": [],
   "source": [
    "#!import ../nbs/Testing.dib"
   ]
  },
  {
   "cell_type": "code",
   "execution_count": null,
   "metadata": {
    "dotnet_repl_cellExecutionStartTime": "2023-07-25T21:42:19.8985183-03:00",
    "dotnet_repl_cellExecutionEndTime": "2023-07-25T21:42:21.1178975-03:00",
    "dotnet_repl_cellExecutionTime": "1.2193828s",
    "dotnet_interactive": {
     "language": "fsharp"
    },
    "polyglot_notebook": {
     "kernelName": "fsharp"
    }
   },
   "outputs": [],
   "source": [
    "#!import ../nbs/Common.fs\n",
    "#!import ../nbs/Async.fs\n",
    "#!import ../nbs/Runtime.fs"
   ]
  },
  {
   "cell_type": "code",
   "execution_count": null,
   "metadata": {
    "dotnet_repl_cellExecutionStartTime": "2023-07-25T21:42:21.1179348-03:00",
    "dotnet_repl_cellExecutionEndTime": "2023-07-25T21:42:21.124041-03:00",
    "dotnet_repl_cellExecutionTime": "6.1094ms",
    "dotnet_interactive": {
     "language": "fsharp"
    },
    "polyglot_notebook": {
     "kernelName": "fsharp"
    }
   },
   "outputs": [],
   "source": [
    "open Common"
   ]
  },
  {
   "cell_type": "markdown",
   "metadata": {
    "dotnet_repl_cellExecutionStartTime": "2023-07-25T21:42:21.1240812-03:00",
    "dotnet_repl_cellExecutionEndTime": "2023-07-25T21:42:21.1271699-03:00",
    "dotnet_repl_cellExecutionTime": "3.0947ms"
   },
   "source": [
    "## testPortOpen"
   ]
  },
  {
   "cell_type": "code",
   "execution_count": null,
   "metadata": {
    "dotnet_repl_cellExecutionStartTime": "2023-07-25T21:42:21.127237-03:00",
    "dotnet_repl_cellExecutionEndTime": "2023-07-25T21:42:21.1887712-03:00",
    "dotnet_repl_cellExecutionTime": "61.5379ms",
    "dotnet_interactive": {
     "language": "fsharp"
    },
    "polyglot_notebook": {
     "kernelName": "fsharp"
    }
   },
   "outputs": [],
   "source": [
    "let inline testPortOpen port = async {\n",
    "    let! ct = Async.CancellationToken\n",
    "    use client = new System.Net.Sockets.TcpClient ()\n",
    "    try\n",
    "        do! client.ConnectAsync (\"127.0.0.1\", port, ct) |> Async.awaitValueTaskUnit\n",
    "        return true\n",
    "    with ex ->\n",
    "        trace Verbose (fun () -> $\"testPortOpen / ex: {ex |> printException}\") getLocals\n",
    "        return false\n",
    "}"
   ]
  },
  {
   "cell_type": "code",
   "execution_count": null,
   "metadata": {
    "dotnet_repl_cellExecutionStartTime": "2023-07-25T21:42:21.1888083-03:00",
    "dotnet_repl_cellExecutionEndTime": "2023-07-25T21:42:21.3547488-03:00",
    "dotnet_repl_cellExecutionTime": "165.9423ms",
    "dotnet_interactive": {
     "language": "fsharp"
    },
    "polyglot_notebook": {
     "kernelName": "fsharp"
    }
   },
   "outputs": [
    {
     "name": "stdout",
     "output_type": "stream",
     "text": [
      "21:42:21 #1 [Verbose] testPortOpen / ex: System.ArgumentOutOfRangeException: Specified argument was out of the range of valid values. (Parameter 'port')\r\n",
      "FSharpOption<Boolean>\r\n",
      "      Value: False\r\n"
     ]
    }
   ],
   "source": [
    "//// test\n",
    "\n",
    "testPortOpen 65536\n",
    "|> Async.runWithTimeout 60\n",
    "|> _equal (Some false)"
   ]
  },
  {
   "cell_type": "code",
   "execution_count": null,
   "metadata": {
    "dotnet_repl_cellExecutionStartTime": "2023-07-25T21:42:21.3547797-03:00",
    "dotnet_repl_cellExecutionEndTime": "2023-07-25T21:42:21.4560844-03:00",
    "dotnet_repl_cellExecutionTime": "101.3082ms",
    "dotnet_interactive": {
     "language": "fsharp"
    },
    "polyglot_notebook": {
     "kernelName": "fsharp"
    }
   },
   "outputs": [],
   "source": [
    "let inline testPortOpenTimeout timeout port = async {\n",
    "    let! result =\n",
    "        testPortOpen port\n",
    "        |> Async.runWithTimeoutAsync timeout\n",
    "    return\n",
    "        match result with\n",
    "        | None -> false\n",
    "        | Some result -> result\n",
    "}"
   ]
  },
  {
   "cell_type": "code",
   "execution_count": null,
   "metadata": {
    "dotnet_repl_cellExecutionStartTime": "2023-07-25T21:42:21.4561171-03:00",
    "dotnet_repl_cellExecutionEndTime": "2023-07-25T21:42:21.7165001-03:00",
    "dotnet_repl_cellExecutionTime": "260.3862ms",
    "dotnet_interactive": {
     "language": "fsharp"
    },
    "polyglot_notebook": {
     "kernelName": "fsharp"
    }
   },
   "outputs": [
    {
     "name": "stdout",
     "output_type": "stream",
     "text": [
      "21:42:21 #2 [Debug] runWithTimeoutAsync / timeout: 60\r\n",
      "False\r\n"
     ]
    }
   ],
   "source": [
    "//// test\n",
    "\n",
    "testPortOpenTimeout 60 65535\n",
    "|> Async.RunSynchronously\n",
    "|> _equal false"
   ]
  },
  {
   "cell_type": "markdown",
   "metadata": {
    "dotnet_repl_cellExecutionStartTime": "2023-07-25T21:42:21.7165459-03:00",
    "dotnet_repl_cellExecutionEndTime": "2023-07-25T21:42:21.7210606-03:00",
    "dotnet_repl_cellExecutionTime": "4.5197ms"
   },
   "source": [
    "## waitForPortAccess"
   ]
  },
  {
   "cell_type": "code",
   "execution_count": null,
   "metadata": {
    "dotnet_repl_cellExecutionStartTime": "2023-07-25T21:42:21.7211113-03:00",
    "dotnet_repl_cellExecutionEndTime": "2023-07-25T21:42:21.8949336-03:00",
    "dotnet_repl_cellExecutionTime": "173.826ms",
    "dotnet_interactive": {
     "language": "fsharp"
    },
    "polyglot_notebook": {
     "kernelName": "fsharp"
    }
   },
   "outputs": [],
   "source": [
    "let inline waitForPortAccess timeout status port =\n",
    "    let rec loop retry = async {\n",
    "        let! isPortOpen =\n",
    "            match timeout with\n",
    "            | None -> testPortOpen port\n",
    "            | Some timeout -> testPortOpenTimeout timeout port\n",
    "        if isPortOpen = status\n",
    "        then return retry\n",
    "        else\n",
    "            if retry % 100 = 0 then\n",
    "                let getLocals () = $\"port: {port} / retry: {retry} / {getLocals ()}\"\n",
    "                trace Warn (fun () -> \"waitForPortAccess\") getLocals\n",
    "            do! Async.Sleep 10\n",
    "            return! loop (retry + 1)\n",
    "    }\n",
    "    loop 0"
   ]
  },
  {
   "cell_type": "code",
   "execution_count": null,
   "metadata": {
    "dotnet_repl_cellExecutionStartTime": "2023-07-25T21:42:21.8949669-03:00",
    "dotnet_repl_cellExecutionEndTime": "2023-07-25T21:42:31.4770179-03:00",
    "dotnet_repl_cellExecutionTime": "9.5820575s",
    "dotnet_interactive": {
     "language": "fsharp"
    },
    "polyglot_notebook": {
     "kernelName": "fsharp"
    }
   },
   "outputs": [
    {
     "name": "stdout",
     "output_type": "stream",
     "text": [
      "21:42:22 #3 [Debug] 1\r\n",
      "21:42:22 #4 [Debug] _1\r\n",
      "21:42:22 #5 [Debug] 2\r\n",
      "21:42:22 #6 [Debug] 3\r\n",
      "21:42:24 #7 [Verbose] testPortOpen / ex: System.AggregateException: One or more errors occurred. (No connection could be made because the target machine actively refused it.)\r\n",
      "21:42:24 #8 [Warn] waitForPortAccess / port: 5000 / retry: 0\r\n",
      "21:42:26 #9 [Verbose] testPortOpen / ex: System.AggregateException: One or more errors occurred. (No connection could be made because the target machine actively refused it.)\r\n",
      "21:42:27 #10 [Debug] _2\r\n",
      "21:42:27 #11 [Debug] _3\r\n",
      "21:42:27 #12 [Debug] 4\r\n",
      "21:42:27 #13 [Warn] waitForPortAccess / port: 5000 / retry: 0\r\n",
      "21:42:29 #14 [Warn] waitForPortAccess / port: 5000 / retry: 100\r\n",
      "21:42:29 #15 [Debug] _4\r\n",
      "21:42:29 #16 [Debug] _5\r\n",
      "21:42:31 #17 [Verbose] testPortOpen / ex: System.AggregateException: One or more errors occurred. (No connection could be made because the target machine actively refused it.)\r\n",
      "21:42:31 #18 [Debug] 5\r\n",
      "21:42:31 #19 [Debug] 6\r\n",
      "2\r\n",
      "2\r\n",
      "2\r\n",
      "115\r\n",
      "115\r\n",
      "115\r\n",
      "True\r\n"
     ]
    }
   ],
   "source": [
    "//// test\n",
    "\n",
    "let port = 5000\n",
    "\n",
    "let inline lockPort () = async {\n",
    "    trace Debug (fun () -> \"_1\") getLocals\n",
    "    do! Async.Sleep 5000\n",
    "    let listener = System.Net.Sockets.TcpListener (System.Net.IPAddress.Parse \"127.0.0.1\", port)\n",
    "    trace Debug (fun () -> \"_2\") getLocals\n",
    "    listener.Start ()\n",
    "    trace Debug (fun () -> \"_3\") getLocals\n",
    "    do! Async.Sleep 2000\n",
    "    trace Debug (fun () -> \"_4\") getLocals\n",
    "    listener.Stop ()\n",
    "    trace Debug (fun () -> \"_5\") getLocals\n",
    "}\n",
    "\n",
    "async {\n",
    "    trace Debug (fun () -> \"1\") getLocals\n",
    "    let! child = lockPort () |> Async.StartChild\n",
    "    trace Debug (fun () -> \"2\") getLocals\n",
    "    do! Async.Sleep 1\n",
    "    trace Debug (fun () -> \"3\") getLocals\n",
    "    let! retries1 = waitForPortAccess None true port\n",
    "    trace Debug (fun () -> \"4\") getLocals\n",
    "    let! retries2 = waitForPortAccess None false port\n",
    "    trace Debug (fun () -> \"5\") getLocals\n",
    "    do! child\n",
    "    trace Debug (fun () -> \"6\") getLocals\n",
    "    return retries1, retries2\n",
    "}\n",
    "|> Async.runWithTimeout 20000\n",
    "|> function\n",
    "    | Some (retries1, retries2) ->\n",
    "        retries1\n",
    "        |> _isBetween\n",
    "            (if Runtime.isWindows () then 2 else 2)\n",
    "            (if Runtime.isWindows () then 5 else 1500)\n",
    "\n",
    "        retries2\n",
    "        |> _isBetween\n",
    "            (if Runtime.isWindows () then 80 else 80)\n",
    "            (if Runtime.isWindows () then 150 else 600)\n",
    "\n",
    "        true\n",
    "    | _ -> false\n",
    "|> _equal true"
   ]
  },
  {
   "cell_type": "code",
   "execution_count": null,
   "metadata": {
    "dotnet_repl_cellExecutionStartTime": "2023-07-25T21:42:31.4772315-03:00",
    "dotnet_repl_cellExecutionEndTime": "2023-07-25T21:42:32.6723036-03:00",
    "dotnet_repl_cellExecutionTime": "1.1950743s",
    "dotnet_interactive": {
     "language": "fsharp"
    },
    "polyglot_notebook": {
     "kernelName": "fsharp"
    }
   },
   "outputs": [
    {
     "name": "stdout",
     "output_type": "stream",
     "text": [
      "21:42:31 #20 [Debug] 1\r\n",
      "21:42:31 #21 [Debug] 2\r\n",
      "21:42:31 #22 [Debug] _1\r\n",
      "21:42:31 #23 [Debug] 3\r\n",
      "21:42:31 #24 [Debug] runWithTimeoutAsync / timeout: 60\r\n",
      "21:42:31 #25 [Warn] waitForPortAccess / port: 5000 / retry: 0\r\n",
      "21:42:32 #26 [Debug] runWithTimeoutAsync / timeout: 60\r\n",
      "21:42:32 #27 [Debug] runWithTimeoutAsync / timeout: 60\r\n",
      "21:42:32 #28 [Debug] runWithTimeoutAsync / timeout: 60\r\n",
      "21:42:32 #29 [Debug] runWithTimeoutAsync / timeout: 60\r\n",
      "21:42:32 #30 [Debug] runWithTimeoutAsync / timeout: 60\r\n",
      "21:42:32 #31 [Debug] _2\r\n",
      "21:42:32 #32 [Debug] _3\r\n",
      "21:42:32 #33 [Debug] 4\r\n",
      "21:42:32 #34 [Warn] waitForPortAccess / port: 5000 / retry: 0\r\n",
      "21:42:32 #35 [Debug] _4\r\n",
      "21:42:32 #36 [Debug] _5\r\n",
      "21:42:32 #37 [Debug] runWithTimeoutAsync / timeout: 60\r\n",
      "21:42:32 #38 [Debug] 5\r\n",
      "21:42:32 #39 [Debug] 6\r\n",
      "6\r\n",
      "6\r\n",
      "6\r\n",
      "12\r\n",
      "12\r\n",
      "12\r\n",
      "True\r\n"
     ]
    }
   ],
   "source": [
    "//// test\n",
    "\n",
    "let port = 5000\n",
    "\n",
    "let inline lockPort () = async {\n",
    "    trace Debug (fun () -> \"_1\") getLocals\n",
    "    do! Async.Sleep 500\n",
    "    let listener = System.Net.Sockets.TcpListener (System.Net.IPAddress.Parse \"127.0.0.1\", port)\n",
    "    trace Debug (fun () -> \"_2\") getLocals\n",
    "    listener.Start ()\n",
    "    trace Debug (fun () -> \"_3\") getLocals\n",
    "    do! Async.Sleep 200\n",
    "    trace Debug (fun () -> \"_4\") getLocals\n",
    "    listener.Stop ()\n",
    "    trace Debug (fun () -> \"_5\") getLocals\n",
    "}\n",
    "\n",
    "async {\n",
    "    trace Debug (fun () -> \"1\") getLocals\n",
    "    let! child = lockPort () |> Async.StartChild\n",
    "    trace Debug (fun () -> \"2\") getLocals\n",
    "    do! Async.Sleep 1\n",
    "    trace Debug (fun () -> \"3\") getLocals\n",
    "    let! retries1 = waitForPortAccess (Some 60) true port\n",
    "    trace Debug (fun () -> \"4\") getLocals\n",
    "    let! retries2 = waitForPortAccess (Some 60) false port\n",
    "    trace Debug (fun () -> \"5\") getLocals\n",
    "    do! child\n",
    "    trace Debug (fun () -> \"6\") getLocals\n",
    "    return retries1, retries2\n",
    "}\n",
    "|> Async.runWithTimeout 2000\n",
    "|> function\n",
    "    | Some (retries1, retries2) ->\n",
    "        retries1\n",
    "        |> _isBetween\n",
    "            (if Runtime.isWindows () then 4 else 2)\n",
    "            (if Runtime.isWindows () then 15 else 150)\n",
    "\n",
    "        retries2\n",
    "        |> _isBetween\n",
    "            (if Runtime.isWindows () then 5 else 0)\n",
    "            (if Runtime.isWindows () then 20 else 60)\n",
    "\n",
    "        true\n",
    "    | _ -> false\n",
    "|> _equal true"
   ]
  },
  {
   "cell_type": "markdown",
   "metadata": {
    "dotnet_repl_cellExecutionStartTime": "2023-07-25T21:42:32.672352-03:00",
    "dotnet_repl_cellExecutionEndTime": "2023-07-25T21:42:32.6755922-03:00",
    "dotnet_repl_cellExecutionTime": "3.2426ms"
   },
   "source": [
    "## getAvailablePort"
   ]
  },
  {
   "cell_type": "code",
   "execution_count": null,
   "metadata": {
    "dotnet_repl_cellExecutionStartTime": "2023-07-25T21:42:32.6756392-03:00",
    "dotnet_repl_cellExecutionEndTime": "2023-07-25T21:42:32.7821954-03:00",
    "dotnet_repl_cellExecutionTime": "106.5578ms",
    "dotnet_interactive": {
     "language": "fsharp"
    },
    "polyglot_notebook": {
     "kernelName": "fsharp"
    }
   },
   "outputs": [],
   "source": [
    "let inline getAvailablePort timeout initialPort =\n",
    "    let rec loop port = async {\n",
    "        let! isPortOpen =\n",
    "            match timeout with\n",
    "            | None -> testPortOpen port\n",
    "            | Some timeout -> testPortOpenTimeout timeout port\n",
    "        if not isPortOpen\n",
    "        then return port\n",
    "        else return! loop (port + 1)\n",
    "    }\n",
    "    loop initialPort"
   ]
  },
  {
   "cell_type": "code",
   "execution_count": null,
   "metadata": {
    "dotnet_repl_cellExecutionStartTime": "2023-07-25T21:42:32.7822393-03:00",
    "dotnet_repl_cellExecutionEndTime": "2023-07-25T21:42:39.16148-03:00",
    "dotnet_repl_cellExecutionTime": "6.3792465s",
    "dotnet_interactive": {
     "language": "fsharp"
    },
    "polyglot_notebook": {
     "kernelName": "fsharp"
    }
   },
   "outputs": [
    {
     "name": "stdout",
     "output_type": "stream",
     "text": [
      "21:42:33 #40 [Debug] 1\r\n",
      "21:42:33 #41 [Debug] 2\r\n",
      "21:42:33 #42 [Debug] _1\r\n",
      "21:42:33 #43 [Debug] _2\r\n",
      "21:42:33 #44 [Debug] _3\r\n",
      "21:42:33 #45 [Debug] 3\r\n",
      "21:42:35 #46 [Verbose] testPortOpen / ex: System.AggregateException: One or more errors occurred. (No connection could be made because the target machine actively refused it.)\r\n",
      "21:42:35 #47 [Debug] 4\r\n",
      "21:42:35 #48 [Warn] waitForPortAccess / port: 5000 / retry: 0\r\n",
      "21:42:36 #49 [Warn] waitForPortAccess / port: 5000 / retry: 100\r\n",
      "21:42:37 #50 [Debug] _4\r\n",
      "21:42:37 #51 [Debug] _5\r\n",
      "21:42:39 #52 [Verbose] testPortOpen / ex: System.AggregateException: One or more errors occurred. (No connection could be made because the target machine actively refused it.)\r\n",
      "21:42:39 #53 [Debug] 5\r\n",
      "21:42:39 #54 [Debug] 6\r\n",
      "5002\r\n",
      "118\r\n",
      "118\r\n",
      "118\r\n",
      "True\r\n"
     ]
    }
   ],
   "source": [
    "//// test\n",
    "\n",
    "let port = 5000\n",
    "\n",
    "let inline lockPorts () = async {\n",
    "    trace Debug (fun () -> \"_1\") getLocals\n",
    "    let listener1 = System.Net.Sockets.TcpListener (System.Net.IPAddress.Parse \"127.0.0.1\", port)\n",
    "    let listener2 = System.Net.Sockets.TcpListener (System.Net.IPAddress.Parse \"127.0.0.1\", port + 1)\n",
    "    trace Debug (fun () -> \"_2\") getLocals\n",
    "    listener1.Start ()\n",
    "    listener2.Start ()\n",
    "    trace Debug (fun () -> \"_3\") getLocals\n",
    "    do! Async.Sleep 4000\n",
    "    trace Debug (fun () -> \"_4\") getLocals\n",
    "    listener1.Stop ()\n",
    "    listener2.Stop ()\n",
    "    trace Debug (fun () -> \"_5\") getLocals\n",
    "}\n",
    "\n",
    "async {\n",
    "    trace Debug (fun () -> \"1\") getLocals\n",
    "    let! child = lockPorts () |> Async.StartChild\n",
    "    trace Debug (fun () -> \"2\") getLocals\n",
    "    do! Async.Sleep 60\n",
    "    trace Debug (fun () -> \"3\") getLocals\n",
    "    let! availablePort = getAvailablePort None port\n",
    "    trace Debug (fun () -> \"4\") getLocals\n",
    "    let! retries = waitForPortAccess None false port\n",
    "    trace Debug (fun () -> \"5\") getLocals\n",
    "    do! child\n",
    "    trace Debug (fun () -> \"6\") getLocals\n",
    "    return availablePort, retries\n",
    "}\n",
    "|> Async.runWithTimeout 15000\n",
    "|> function\n",
    "    | Some (availablePort, retries) ->\n",
    "        availablePort |> _equal (port + 2)\n",
    "\n",
    "        retries\n",
    "        |> _isBetween\n",
    "            (if Runtime.isWindows () then 100 else 100)\n",
    "            (if Runtime.isWindows () then 150 else 1200)\n",
    "\n",
    "        true\n",
    "    | _ -> false\n",
    "|> _equal true"
   ]
  },
  {
   "cell_type": "code",
   "execution_count": null,
   "metadata": {
    "dotnet_repl_cellExecutionStartTime": "2023-07-25T21:42:39.1615508-03:00",
    "dotnet_repl_cellExecutionEndTime": "2023-07-25T21:42:40.0864972-03:00",
    "dotnet_repl_cellExecutionTime": "924.9486ms",
    "dotnet_interactive": {
     "language": "fsharp"
    },
    "polyglot_notebook": {
     "kernelName": "fsharp"
    }
   },
   "outputs": [
    {
     "name": "stdout",
     "output_type": "stream",
     "text": [
      "21:42:39 #55 [Debug] 1\r\n",
      "21:42:39 #56 [Debug] 2\r\n",
      "21:42:39 #57 [Debug] _1\r\n",
      "21:42:39 #58 [Debug] _2\r\n",
      "21:42:39 #59 [Debug] _3\r\n",
      "21:42:39 #60 [Debug] 3\r\n",
      "21:42:39 #61 [Debug] runWithTimeoutAsync / timeout: 60\r\n",
      "21:42:39 #62 [Debug] 4\r\n",
      "21:42:39 #63 [Warn] waitForPortAccess / port: 5000 / retry: 0\r\n",
      "21:42:39 #64 [Debug] _4\r\n",
      "21:42:39 #65 [Debug] _5\r\n",
      "21:42:40 #66 [Debug] runWithTimeoutAsync / timeout: 60\r\n",
      "21:42:40 #67 [Debug] 5\r\n",
      "21:42:40 #68 [Debug] 6\r\n",
      "5002\r\n",
      "16\r\n",
      "16\r\n",
      "16\r\n",
      "True\r\n"
     ]
    }
   ],
   "source": [
    "//// test\n",
    "\n",
    "let port = 5000\n",
    "\n",
    "let inline lockPorts () = async {\n",
    "    trace Debug (fun () -> \"_1\") getLocals\n",
    "    let listener1 = System.Net.Sockets.TcpListener (System.Net.IPAddress.Parse \"127.0.0.1\", port)\n",
    "    let listener2 = System.Net.Sockets.TcpListener (System.Net.IPAddress.Parse \"127.0.0.1\", port + 1)\n",
    "    trace Debug (fun () -> \"_2\") getLocals\n",
    "    listener1.Start ()\n",
    "    listener2.Start ()\n",
    "    trace Debug (fun () -> \"_3\") getLocals\n",
    "    do! Async.Sleep 400\n",
    "    trace Debug (fun () -> \"_4\") getLocals\n",
    "    listener1.Stop ()\n",
    "    listener2.Stop ()\n",
    "    trace Debug (fun () -> \"_5\") getLocals\n",
    "}\n",
    "\n",
    "async {\n",
    "    trace Debug (fun () -> \"1\") getLocals\n",
    "    let! child = lockPorts () |> Async.StartChild\n",
    "    trace Debug (fun () -> \"2\") getLocals\n",
    "    do! Async.Sleep 20\n",
    "    trace Debug (fun () -> \"3\") getLocals\n",
    "    let! availablePort = getAvailablePort (Some 60) port\n",
    "    trace Debug (fun () -> \"4\") getLocals\n",
    "    let! retries = waitForPortAccess (Some 60) false port\n",
    "    trace Debug (fun () -> \"5\") getLocals\n",
    "    do! child\n",
    "    trace Debug (fun () -> \"6\") getLocals\n",
    "    return availablePort, retries\n",
    "}\n",
    "|> Async.runWithTimeout 1500\n",
    "|> function\n",
    "    | Some (availablePort, retries) ->\n",
    "        availablePort |> _equal (port + 2)\n",
    "\n",
    "        retries\n",
    "        |> _isBetween\n",
    "            (if Runtime.isWindows () then 10 else 1)\n",
    "            (if Runtime.isWindows () then 30 else 120)\n",
    "\n",
    "        true\n",
    "    | _ -> false\n",
    "|> _equal true"
   ]
  }
 ],
 "metadata": {
  "kernelspec": {
   "display_name": ".NET (C#)",
   "language": "C#",
   "name": ".net-csharp"
  },
  "language_info": {
   "file_extension": ".cs",
   "mimetype": "text/x-csharp",
   "name": "C#",
   "pygments_lexer": "csharp",
   "version": "10.0"
  },
  "polyglot_notebook": {
   "defaultKernelName": "csharp",
   "items": [
    {
     "name": "csharp"
    }
   ]
  },
  "dotnet_interactive": {
   "defaultKernelName": "csharp",
   "items": [
    {
     "name": "csharp"
    }
   ]
  }
 },
 "nbformat": 4,
 "nbformat_minor": 5
}