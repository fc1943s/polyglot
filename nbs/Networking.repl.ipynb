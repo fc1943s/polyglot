{
 "cells": [
  {
   "cell_type": "markdown",
   "metadata": {
    "dotnet_repl_cellExecutionStartTime": "2023-07-21T16:15:38.8871202-03:00",
    "dotnet_repl_cellExecutionEndTime": "2023-07-21T16:15:38.9686291-03:00",
    "dotnet_repl_cellExecutionTime": "81.8376ms"
   },
   "source": [
    "# Networking (Polyglot)"
   ]
  },
  {
   "cell_type": "code",
   "execution_count": null,
   "metadata": {
    "dotnet_repl_cellExecutionStartTime": "2023-07-21T16:15:38.9738324-03:00",
    "dotnet_repl_cellExecutionEndTime": "2023-07-21T16:15:51.3252516-03:00",
    "dotnet_repl_cellExecutionTime": "12.351421s",
    "dotnet_interactive": {
     "language": "fsharp"
    },
    "polyglot_notebook": {
     "kernelName": "fsharp"
    }
   },
   "outputs": [
    {
     "data": {
      "text/html": [
       "<div><div></div><div><strong>Installing Packages</strong><ul><li><span>Expecto</span></li></ul></div><div></div></div>"
      ]
     },
     "metadata": {},
     "output_type": "display_data"
    },
    {
     "data": {
      "text/html": [
       "<div><div></div><div><strong>Installing Packages</strong><ul><li><span>Expecto.</span></li></ul></div><div></div></div>"
      ]
     },
     "metadata": {},
     "output_type": "display_data"
    },
    {
     "data": {
      "text/html": [
       "<div><div></div><div><strong>Installing Packages</strong><ul><li><span>Expecto..</span></li></ul></div><div></div></div>"
      ]
     },
     "metadata": {},
     "output_type": "display_data"
    },
    {
     "data": {
      "text/html": [
       "<div><div></div><div><strong>Installing Packages</strong><ul><li><span>Expecto...</span></li></ul></div><div></div></div>"
      ]
     },
     "metadata": {},
     "output_type": "display_data"
    },
    {
     "data": {
      "text/html": [
       "<div><div></div><div><strong>Installing Packages</strong><ul><li><span>Expecto....</span></li></ul></div><div></div></div>"
      ]
     },
     "metadata": {},
     "output_type": "display_data"
    },
    {
     "data": {
      "text/html": [
       "<div><div></div><div><strong>Installing Packages</strong><ul><li><span>Expecto.....</span></li></ul></div><div></div></div>"
      ]
     },
     "metadata": {},
     "output_type": "display_data"
    },
    {
     "data": {
      "text/html": [
       "<div><div></div><div><strong>Installing Packages</strong><ul><li><span>Expecto......</span></li></ul></div><div></div></div>"
      ]
     },
     "metadata": {},
     "output_type": "display_data"
    },
    {
     "data": {
      "text/html": [
       "<div><div></div><div><strong>Installing Packages</strong><ul><li><span>Expecto.......</span></li></ul></div><div></div></div>"
      ]
     },
     "metadata": {},
     "output_type": "display_data"
    },
    {
     "data": {
      "text/html": [
       "<div><div></div><div><strong>Installing Packages</strong><ul><li><span>Expecto........</span></li></ul></div><div></div></div>"
      ]
     },
     "metadata": {},
     "output_type": "display_data"
    },
    {
     "data": {
      "text/html": [
       "<div><div></div><div></div><div><strong>Installed Packages</strong><ul><li><span>Expecto, 10.1.0</span></li></ul></div></div>"
      ]
     },
     "metadata": {},
     "output_type": "display_data"
    }
   ],
   "source": [
    "#!import ../nbs/Testing.dib"
   ]
  },
  {
   "cell_type": "code",
   "execution_count": null,
   "metadata": {
    "dotnet_repl_cellExecutionStartTime": "2023-07-21T16:15:51.3253405-03:00",
    "dotnet_repl_cellExecutionEndTime": "2023-07-21T16:15:52.3792128-03:00",
    "dotnet_repl_cellExecutionTime": "1.0538746s",
    "dotnet_interactive": {
     "language": "fsharp"
    },
    "polyglot_notebook": {
     "kernelName": "fsharp"
    }
   },
   "outputs": [],
   "source": [
    "#!import ../nbs/Common.fs\n",
    "#!import ../nbs/Async.fs"
   ]
  },
  {
   "cell_type": "code",
   "execution_count": null,
   "metadata": {
    "dotnet_repl_cellExecutionStartTime": "2023-07-21T16:15:52.3792565-03:00",
    "dotnet_repl_cellExecutionEndTime": "2023-07-21T16:15:52.3956866-03:00",
    "dotnet_repl_cellExecutionTime": "16.4326ms",
    "dotnet_interactive": {
     "language": "fsharp"
    },
    "polyglot_notebook": {
     "kernelName": "fsharp"
    }
   },
   "outputs": [],
   "source": [
    "open Common"
   ]
  },
  {
   "cell_type": "markdown",
   "metadata": {
    "dotnet_repl_cellExecutionStartTime": "2023-07-21T16:15:52.3957323-03:00",
    "dotnet_repl_cellExecutionEndTime": "2023-07-21T16:15:52.3997854-03:00",
    "dotnet_repl_cellExecutionTime": "4.068ms"
   },
   "source": [
    "## testPortOpen"
   ]
  },
  {
   "cell_type": "code",
   "execution_count": null,
   "metadata": {
    "dotnet_repl_cellExecutionStartTime": "2023-07-21T16:15:52.3998631-03:00",
    "dotnet_repl_cellExecutionEndTime": "2023-07-21T16:15:52.5291009-03:00",
    "dotnet_repl_cellExecutionTime": "129.2401ms",
    "dotnet_interactive": {
     "language": "fsharp"
    },
    "polyglot_notebook": {
     "kernelName": "fsharp"
    }
   },
   "outputs": [],
   "source": [
    "let testPortOpen port = async {\n",
    "    use client = new System.Net.Sockets.TcpClient ()\n",
    "    try\n",
    "        do! client.ConnectAsync (\"127.0.0.1\", port) |> Async.AwaitTask\n",
    "        return true\n",
    "    with ex ->\n",
    "        trace Warn (fun () -> $\"testPortOpen / message: {ex.Message}\") getLocals\n",
    "        return false\n",
    "}"
   ]
  },
  {
   "cell_type": "code",
   "execution_count": null,
   "metadata": {
    "dotnet_repl_cellExecutionStartTime": "2023-07-21T16:15:52.5291488-03:00",
    "dotnet_repl_cellExecutionEndTime": "2023-07-21T16:15:52.6164226-03:00",
    "dotnet_repl_cellExecutionTime": "87.2765ms",
    "dotnet_interactive": {
     "language": "fsharp"
    },
    "polyglot_notebook": {
     "kernelName": "fsharp"
    }
   },
   "outputs": [
    {
     "name": "stdout",
     "output_type": "stream",
     "text": [
      "16:15:52 #1 [Warn] testPortOpen / message: Specified argument was out of the range of valid values. (Parameter 'port')\r\n",
      "False\r\n"
     ]
    }
   ],
   "source": [
    "//// test\n",
    "\n",
    "testPortOpen 65536\n",
    "|> Async.RunSynchronously\n",
    "|> _equal false"
   ]
  },
  {
   "cell_type": "markdown",
   "metadata": {
    "dotnet_repl_cellExecutionStartTime": "2023-07-21T16:15:52.6164677-03:00",
    "dotnet_repl_cellExecutionEndTime": "2023-07-21T16:15:52.6183344-03:00",
    "dotnet_repl_cellExecutionTime": "1.8677ms"
   },
   "source": [
    "## waitForPortAccess"
   ]
  },
  {
   "cell_type": "code",
   "execution_count": null,
   "metadata": {
    "dotnet_repl_cellExecutionStartTime": "2023-07-21T16:15:52.6183579-03:00",
    "dotnet_repl_cellExecutionEndTime": "2023-07-21T16:15:52.7423355-03:00",
    "dotnet_repl_cellExecutionTime": "123.9802ms",
    "dotnet_interactive": {
     "language": "fsharp"
    },
    "polyglot_notebook": {
     "kernelName": "fsharp"
    }
   },
   "outputs": [],
   "source": [
    "let waitForPortAccess status port =\n",
    "    let rec loop retry = async {\n",
    "        let! isPortOpen = testPortOpen port\n",
    "        if isPortOpen = status\n",
    "        then return retry\n",
    "        else\n",
    "            if retry % 100 = 0 then\n",
    "                let getLocals () = $\"port: {port} / retry: {retry} / {getLocals ()}\"\n",
    "                trace Warn (fun () -> \"waitForPortAccess\") getLocals\n",
    "            do! Async.Sleep 1\n",
    "            return! loop (retry + 1)\n",
    "    }\n",
    "    loop 0"
   ]
  },
  {
   "cell_type": "code",
   "execution_count": null,
   "metadata": {
    "dotnet_repl_cellExecutionStartTime": "2023-07-21T16:15:52.7423804-03:00",
    "dotnet_repl_cellExecutionEndTime": "2023-07-21T16:16:02.0524699-03:00",
    "dotnet_repl_cellExecutionTime": "9.3100923s",
    "dotnet_interactive": {
     "language": "fsharp"
    },
    "polyglot_notebook": {
     "kernelName": "fsharp"
    }
   },
   "outputs": [
    {
     "name": "stdout",
     "output_type": "stream",
     "text": [
      "16:15:52 #2 [Debug] 1\r\n",
      "16:15:52 #3 [Debug] _1\r\n",
      "16:15:52 #4 [Debug] 2\r\n",
      "16:15:52 #5 [Debug] 3\r\n",
      "16:15:55 #6 [Warn] testPortOpen / message: One or more errors occurred. (No connection could be made because the target machine actively refused it.)\r\n",
      "16:15:55 #7 [Warn] waitForPortAccess / port: 5000 / retry: 0\r\n",
      "16:15:57 #8 [Warn] testPortOpen / message: One or more errors occurred. (No connection could be made because the target machine actively refused it.)\r\n",
      "16:15:57 #9 [Debug] _2\r\n",
      "16:15:57 #10 [Debug] _3\r\n",
      "2\r\n",
      "16:15:58 #11 [Warn] waitForPortAccess / port: 5000 / retry: 0\r\n",
      "16:15:59 #12 [Warn] waitForPortAccess / port: 5000 / retry: 100\r\n",
      "16:15:59 #13 [Debug] _4\r\n",
      "16:15:59 #14 [Debug] _5\r\n",
      "16:16:02 #15 [Warn] testPortOpen / message: One or more errors occurred. (No connection could be made because the target machine actively refused it.)\r\n",
      "124\r\n",
      "FSharpOption<Unit>\r\n",
      "      Value: <null>\r\n"
     ]
    }
   ],
   "source": [
    "//// test\n",
    "\n",
    "let port = 5000\n",
    "\n",
    "let lockPort () = async {\n",
    "    trace Debug (fun () -> \"_1\") getLocals\n",
    "    do! Async.Sleep 5000\n",
    "    let listener = System.Net.Sockets.TcpListener (System.Net.IPAddress.Parse \"127.0.0.1\", port)\n",
    "    trace Debug (fun () -> \"_2\") getLocals\n",
    "    listener.Start ()\n",
    "    trace Debug (fun () -> \"_3\") getLocals\n",
    "    do! Async.Sleep 2000\n",
    "    trace Debug (fun () -> \"_4\") getLocals\n",
    "    listener.Stop ()\n",
    "    trace Debug (fun () -> \"_5\") getLocals\n",
    "}\n",
    "\n",
    "async {\n",
    "    trace Debug (fun () -> \"1\") getLocals\n",
    "    let! _ = lockPort () |> Async.StartChild\n",
    "    trace Debug (fun () -> \"2\") getLocals\n",
    "    do! Async.Sleep 1\n",
    "    trace Debug (fun () -> \"3\") getLocals\n",
    "    let! retries = waitForPortAccess true port\n",
    "    retries |> _isGreaterThanOrEqual 2\n",
    "    let! retries = waitForPortAccess false port\n",
    "    retries |> _isGreaterThanOrEqual 100\n",
    "}\n",
    "|> Async.runWithTimeout 15000\n",
    "|> _equal (Some ())"
   ]
  },
  {
   "cell_type": "markdown",
   "metadata": {
    "dotnet_repl_cellExecutionStartTime": "2023-07-21T16:16:02.0525324-03:00",
    "dotnet_repl_cellExecutionEndTime": "2023-07-21T16:16:02.0544041-03:00",
    "dotnet_repl_cellExecutionTime": "1.8727ms"
   },
   "source": [
    "## getAvailablePort"
   ]
  },
  {
   "cell_type": "code",
   "execution_count": null,
   "metadata": {
    "dotnet_repl_cellExecutionStartTime": "2023-07-21T16:16:02.0544229-03:00",
    "dotnet_repl_cellExecutionEndTime": "2023-07-21T16:16:02.0834187-03:00",
    "dotnet_repl_cellExecutionTime": "28.9977ms",
    "dotnet_interactive": {
     "language": "fsharp"
    },
    "polyglot_notebook": {
     "kernelName": "fsharp"
    }
   },
   "outputs": [],
   "source": [
    "let getAvailablePort initialPort =\n",
    "    let rec loop port = async {\n",
    "        let! isPortOpen = testPortOpen port\n",
    "        if not isPortOpen\n",
    "        then return port\n",
    "        else return! loop (port + 1)\n",
    "    }\n",
    "    loop initialPort"
   ]
  },
  {
   "cell_type": "code",
   "execution_count": null,
   "metadata": {
    "dotnet_repl_cellExecutionStartTime": "2023-07-21T16:16:02.083446-03:00",
    "dotnet_repl_cellExecutionEndTime": "2023-07-21T16:16:08.2799065-03:00",
    "dotnet_repl_cellExecutionTime": "6.1964623s",
    "dotnet_interactive": {
     "language": "fsharp"
    },
    "polyglot_notebook": {
     "kernelName": "fsharp"
    }
   },
   "outputs": [
    {
     "name": "stdout",
     "output_type": "stream",
     "text": [
      "16:16:02 #16 [Debug] 1\r\n",
      "16:16:02 #17 [Debug] 2\r\n",
      "16:16:02 #18 [Debug] _1\r\n",
      "16:16:02 #19 [Debug] _2\r\n",
      "16:16:02 #20 [Debug] 3\r\n",
      "16:16:02 #21 [Debug] _3\r\n",
      "16:16:04 #22 [Warn] testPortOpen / message: One or more errors occurred. (No connection could be made because the target machine actively refused it.)\r\n",
      "5002\r\n",
      "16:16:04 #23 [Warn] waitForPortAccess / port: 5000 / retry: 0\r\n",
      "16:16:05 #24 [Warn] waitForPortAccess / port: 5000 / retry: 100\r\n",
      "16:16:06 #25 [Debug] _4\r\n",
      "16:16:06 #26 [Debug] _5\r\n",
      "16:16:08 #27 [Warn] testPortOpen / message: One or more errors occurred. (No connection could be made because the target machine actively refused it.)\r\n",
      "133\r\n",
      "FSharpOption<Unit>\r\n",
      "      Value: <null>\r\n"
     ]
    }
   ],
   "source": [
    "//// test\n",
    "\n",
    "let port = 5000\n",
    "\n",
    "let lockPorts () = async {\n",
    "    trace Debug (fun () -> \"_1\") getLocals\n",
    "    let listener1 = System.Net.Sockets.TcpListener (System.Net.IPAddress.Parse \"127.0.0.1\", port)\n",
    "    let listener2 = System.Net.Sockets.TcpListener (System.Net.IPAddress.Parse \"127.0.0.1\", port + 1)\n",
    "    trace Debug (fun () -> \"_2\") getLocals\n",
    "    listener1.Start ()\n",
    "    listener2.Start ()\n",
    "    trace Debug (fun () -> \"_3\") getLocals\n",
    "    do! Async.Sleep 4000\n",
    "    trace Debug (fun () -> \"_4\") getLocals\n",
    "    listener1.Stop ()\n",
    "    listener2.Stop ()\n",
    "    trace Debug (fun () -> \"_5\") getLocals\n",
    "}\n",
    "\n",
    "async {\n",
    "    trace Debug (fun () -> \"1\") getLocals\n",
    "    let! _ = lockPorts () |> Async.StartChild\n",
    "    trace Debug (fun () -> \"2\") getLocals\n",
    "    do! Async.Sleep 1\n",
    "    trace Debug (fun () -> \"3\") getLocals\n",
    "    let! availablePort = getAvailablePort port\n",
    "    availablePort |> _equal (port + 2)\n",
    "    let! retries = waitForPortAccess false port\n",
    "    retries |> _isGreaterThanOrEqual 100\n",
    "}\n",
    "|> Async.runWithTimeout 10000\n",
    "|> _equal (Some ())"
   ]
  }
 ],
 "metadata": {
  "kernelspec": {
   "display_name": ".NET (C#)",
   "language": "C#",
   "name": ".net-csharp"
  },
  "language_info": {
   "file_extension": ".cs",
   "mimetype": "text/x-csharp",
   "name": "C#",
   "pygments_lexer": "csharp",
   "version": "10.0"
  },
  "polyglot_notebook": {
   "defaultKernelName": "csharp",
   "items": [
    {
     "name": "csharp"
    }
   ]
  },
  "dotnet_interactive": {
   "defaultKernelName": "csharp",
   "items": [
    {
     "name": "csharp"
    }
   ]
  }
 },
 "nbformat": 4,
 "nbformat_minor": 5
}