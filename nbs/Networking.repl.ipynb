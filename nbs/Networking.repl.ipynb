{
 "cells": [
  {
   "cell_type": "markdown",
   "metadata": {},
   "source": [
    "# Networking (Polyglot)"
   ]
  },
  {
   "cell_type": "code",
   "execution_count": null,
   "metadata": {
    "dotnet_interactive": {
     "language": "fsharp"
    },
    "polyglot_notebook": {
     "kernelName": "fsharp"
    }
   },
   "outputs": [],
   "source": [
    "#!import ../nbs/Testing.dib"
   ]
  },
  {
   "cell_type": "code",
   "execution_count": null,
   "metadata": {
    "dotnet_interactive": {
     "language": "fsharp"
    },
    "polyglot_notebook": {
     "kernelName": "fsharp"
    }
   },
   "outputs": [],
   "source": [
    "#r @\"../../../../../../../.nuget/packages/argu/6.1.1/lib/netstandard2.0/Argu.dll\"\n",
    "#r @\"../../../../../../../.nuget/packages/system.commandline/2.0.0-beta4.22272.1/lib/net6.0/System.CommandLine.dll\""
   ]
  },
  {
   "cell_type": "code",
   "execution_count": null,
   "metadata": {
    "dotnet_interactive": {
     "language": "fsharp"
    },
    "polyglot_notebook": {
     "kernelName": "fsharp"
    }
   },
   "outputs": [],
   "source": [
    "#!import ../nbs/Common.fs\n",
    "#!import ../nbs/CommonFSharp.fs\n",
    "#!import ../nbs/Async.fs\n",
    "#!import ../nbs/Runtime.fs"
   ]
  },
  {
   "cell_type": "code",
   "execution_count": null,
   "metadata": {
    "dotnet_interactive": {
     "language": "fsharp"
    },
    "polyglot_notebook": {
     "kernelName": "fsharp"
    }
   },
   "outputs": [],
   "source": [
    "open Common"
   ]
  },
  {
   "cell_type": "markdown",
   "metadata": {},
   "source": [
    "## testPortOpen"
   ]
  },
  {
   "cell_type": "code",
   "execution_count": null,
   "metadata": {
    "dotnet_interactive": {
     "language": "fsharp"
    },
    "polyglot_notebook": {
     "kernelName": "fsharp"
    }
   },
   "outputs": [],
   "source": [
    "let inline testPortOpen port = async {\n",
    "    let! ct = Async.CancellationToken\n",
    "    use client = new System.Net.Sockets.TcpClient ()\n",
    "    try\n",
    "        do! client.ConnectAsync (\"127.0.0.1\", port, ct) |> Async.awaitValueTaskUnit\n",
    "        return true\n",
    "    with ex ->\n",
    "        trace Verbose (fun () -> $\"testPortOpen / ex: {ex |> printException}\") getLocals\n",
    "        return false\n",
    "}"
   ]
  },
  {
   "cell_type": "code",
   "execution_count": null,
   "metadata": {
    "dotnet_interactive": {
     "language": "fsharp"
    },
    "polyglot_notebook": {
     "kernelName": "fsharp"
    }
   },
   "outputs": [
    {
     "name": "stdout",
     "output_type": "stream",
     "text": [
      "00:00:00 #1 [Verbose] testPortOpen / ex: System.ArgumentOutOfRangeException: Specified argument was out of the range of valid values. (Parameter 'port')\r\n",
      "FSharpOption<Boolean>\r\n",
      "      Value: False\r\n"
     ]
    }
   ],
   "source": [
    "//// test\n",
    "\n",
    "testPortOpen 65536\n",
    "|> Async.runWithTimeout 120\n",
    "|> _equal (Some false)"
   ]
  },
  {
   "cell_type": "code",
   "execution_count": null,
   "metadata": {
    "dotnet_interactive": {
     "language": "fsharp"
    },
    "polyglot_notebook": {
     "kernelName": "fsharp"
    }
   },
   "outputs": [],
   "source": [
    "let inline testPortOpenTimeout timeout port = async {\n",
    "    let! result =\n",
    "        testPortOpen port\n",
    "        |> Async.runWithTimeoutAsync timeout\n",
    "    return\n",
    "        match result with\n",
    "        | None -> false\n",
    "        | Some result -> result\n",
    "}"
   ]
  },
  {
   "cell_type": "code",
   "execution_count": null,
   "metadata": {
    "dotnet_interactive": {
     "language": "fsharp"
    },
    "polyglot_notebook": {
     "kernelName": "fsharp"
    }
   },
   "outputs": [
    {
     "name": "stdout",
     "output_type": "stream",
     "text": [
      "00:00:00 #2 [Debug] runWithTimeoutAsync / timeout: 120\r\n",
      "False\r\n"
     ]
    }
   ],
   "source": [
    "//// test\n",
    "\n",
    "testPortOpenTimeout 120 65535\n",
    "|> Async.RunSynchronously\n",
    "|> _equal false"
   ]
  },
  {
   "cell_type": "markdown",
   "metadata": {},
   "source": [
    "## waitForPortAccess"
   ]
  },
  {
   "cell_type": "code",
   "execution_count": null,
   "metadata": {
    "dotnet_interactive": {
     "language": "fsharp"
    },
    "polyglot_notebook": {
     "kernelName": "fsharp"
    }
   },
   "outputs": [],
   "source": [
    "let inline waitForPortAccess timeout status port =\n",
    "    let rec loop retry = async {\n",
    "        let! isPortOpen =\n",
    "            match timeout with\n",
    "            | None -> testPortOpen port\n",
    "            | Some timeout -> testPortOpenTimeout timeout port\n",
    "        if isPortOpen = status\n",
    "        then return retry\n",
    "        else\n",
    "            if retry % 100 = 0 then\n",
    "                let getLocals () = $\"port: {port} / retry: {retry} / {getLocals ()}\"\n",
    "                trace Warn (fun () -> \"waitForPortAccess\") getLocals\n",
    "            do! Async.Sleep 10\n",
    "            return! loop (retry + 1)\n",
    "    }\n",
    "    loop 0"
   ]
  },
  {
   "cell_type": "code",
   "execution_count": null,
   "metadata": {
    "dotnet_interactive": {
     "language": "fsharp"
    },
    "polyglot_notebook": {
     "kernelName": "fsharp"
    }
   },
   "outputs": [
    {
     "name": "stdout",
     "output_type": "stream",
     "text": [
      "00:00:01 #3 [Debug] 1\r\n",
      "00:00:01 #4 [Debug] _1\r\n",
      "00:00:01 #5 [Debug] 2\r\n",
      "00:00:01 #6 [Debug] 3\r\n",
      "00:00:03 #7 [Verbose] testPortOpen / ex: System.AggregateException: One or more errors occurred. (No connection could be made because the target machine actively refused it.)\r\n",
      "00:00:03 #8 [Warn] waitForPortAccess / port: 5000 / retry: 0\r\n",
      "00:00:05 #9 [Verbose] testPortOpen / ex: System.AggregateException: One or more errors occurred. (No connection could be made because the target machine actively refused it.)\r\n",
      "00:00:06 #10 [Debug] _2\r\n",
      "00:00:06 #11 [Debug] _3\r\n",
      "00:00:06 #12 [Debug] 4\r\n",
      "00:00:06 #13 [Warn] waitForPortAccess / port: 5000 / retry: 0\r\n",
      "00:00:07 #14 [Warn] waitForPortAccess / port: 5000 / retry: 100\r\n",
      "00:00:08 #15 [Debug] _4\r\n",
      "00:00:08 #16 [Debug] _5\r\n",
      "00:00:10 #17 [Verbose] testPortOpen / ex: System.AggregateException: One or more errors occurred. (No connection could be made because the target machine actively refused it.)\r\n",
      "00:00:10 #18 [Debug] 5\r\n",
      "00:00:10 #19 [Debug] 6\r\n",
      "2\r\n",
      "2\r\n",
      "2\r\n",
      "119\r\n",
      "119\r\n",
      "119\r\n",
      "True\r\n"
     ]
    }
   ],
   "source": [
    "//// test\n",
    "\n",
    "let port = 5000\n",
    "\n",
    "let inline lockPort () = async {\n",
    "    trace Debug (fun () -> \"_1\") getLocals\n",
    "    do! Async.Sleep 5000\n",
    "    let listener = System.Net.Sockets.TcpListener (System.Net.IPAddress.Parse \"127.0.0.1\", port)\n",
    "    trace Debug (fun () -> \"_2\") getLocals\n",
    "    listener.Start ()\n",
    "    trace Debug (fun () -> \"_3\") getLocals\n",
    "    do! Async.Sleep 2000\n",
    "    trace Debug (fun () -> \"_4\") getLocals\n",
    "    listener.Stop ()\n",
    "    trace Debug (fun () -> \"_5\") getLocals\n",
    "}\n",
    "\n",
    "async {\n",
    "    trace Debug (fun () -> \"1\") getLocals\n",
    "    let! child = lockPort () |> Async.StartChild\n",
    "    trace Debug (fun () -> \"2\") getLocals\n",
    "    do! Async.Sleep 1\n",
    "    trace Debug (fun () -> \"3\") getLocals\n",
    "    let! retries1 = waitForPortAccess None true port\n",
    "    trace Debug (fun () -> \"4\") getLocals\n",
    "    let! retries2 = waitForPortAccess None false port\n",
    "    trace Debug (fun () -> \"5\") getLocals\n",
    "    do! child\n",
    "    trace Debug (fun () -> \"6\") getLocals\n",
    "    return retries1, retries2\n",
    "}\n",
    "|> Async.runWithTimeout 20000\n",
    "|> function\n",
    "    | Some (retries1, retries2) ->\n",
    "        retries1\n",
    "        |> _isBetween\n",
    "            (if Runtime.isWindows () then 2 else 2)\n",
    "            (if Runtime.isWindows () then 5 else 1500)\n",
    "\n",
    "        retries2\n",
    "        |> _isBetween\n",
    "            (if Runtime.isWindows () then 80 else 80)\n",
    "            (if Runtime.isWindows () then 150 else 600)\n",
    "\n",
    "        true\n",
    "    | _ -> false\n",
    "|> _equal true"
   ]
  },
  {
   "cell_type": "code",
   "execution_count": null,
   "metadata": {
    "dotnet_interactive": {
     "language": "fsharp"
    },
    "polyglot_notebook": {
     "kernelName": "fsharp"
    }
   },
   "outputs": [
    {
     "name": "stdout",
     "output_type": "stream",
     "text": [
      "00:00:10 #20 [Debug] 1\r\n",
      "00:00:10 #21 [Debug] 2\r\n",
      "00:00:10 #22 [Debug] _1\r\n",
      "00:00:10 #23 [Debug] 3\r\n",
      "00:00:10 #24 [Debug] runWithTimeoutAsync / timeout: 60\r\n",
      "00:00:10 #25 [Warn] waitForPortAccess / port: 5000 / retry: 0\r\n",
      "00:00:10 #26 [Debug] runWithTimeoutAsync / timeout: 60\r\n",
      "00:00:11 #27 [Debug] runWithTimeoutAsync / timeout: 60\r\n",
      "00:00:11 #28 [Debug] runWithTimeoutAsync / timeout: 60\r\n",
      "00:00:11 #29 [Debug] runWithTimeoutAsync / timeout: 60\r\n",
      "00:00:11 #30 [Debug] runWithTimeoutAsync / timeout: 60\r\n",
      "00:00:11 #31 [Debug] _2\r\n",
      "00:00:11 #32 [Debug] _3\r\n",
      "00:00:11 #33 [Debug] runWithTimeoutAsync / timeout: 60\r\n",
      "00:00:11 #34 [Debug] 4\r\n",
      "00:00:11 #35 [Warn] waitForPortAccess / port: 5000 / retry: 0\r\n",
      "00:00:11 #36 [Debug] _4\r\n",
      "00:00:11 #37 [Debug] _5\r\n",
      "00:00:11 #38 [Debug] runWithTimeoutAsync / timeout: 60\r\n",
      "00:00:11 #39 [Debug] 5\r\n",
      "00:00:11 #40 [Debug] 6\r\n",
      "7\r\n",
      "7\r\n",
      "7\r\n",
      "8\r\n",
      "8\r\n",
      "8\r\n",
      "True\r\n"
     ]
    }
   ],
   "source": [
    "//// test\n",
    "\n",
    "let port = 5000\n",
    "\n",
    "let inline lockPort () = async {\n",
    "    trace Debug (fun () -> \"_1\") getLocals\n",
    "    do! Async.Sleep 500\n",
    "    let listener = System.Net.Sockets.TcpListener (System.Net.IPAddress.Parse \"127.0.0.1\", port)\n",
    "    trace Debug (fun () -> \"_2\") getLocals\n",
    "    listener.Start ()\n",
    "    trace Debug (fun () -> \"_3\") getLocals\n",
    "    do! Async.Sleep 200\n",
    "    trace Debug (fun () -> \"_4\") getLocals\n",
    "    listener.Stop ()\n",
    "    trace Debug (fun () -> \"_5\") getLocals\n",
    "}\n",
    "\n",
    "async {\n",
    "    trace Debug (fun () -> \"1\") getLocals\n",
    "    let! child = lockPort () |> Async.StartChild\n",
    "    trace Debug (fun () -> \"2\") getLocals\n",
    "    do! Async.Sleep 1\n",
    "    trace Debug (fun () -> \"3\") getLocals\n",
    "    let! retries1 = waitForPortAccess (Some 60) true port\n",
    "    trace Debug (fun () -> \"4\") getLocals\n",
    "    let! retries2 = waitForPortAccess (Some 60) false port\n",
    "    trace Debug (fun () -> \"5\") getLocals\n",
    "    do! child\n",
    "    trace Debug (fun () -> \"6\") getLocals\n",
    "    return retries1, retries2\n",
    "}\n",
    "|> Async.runWithTimeout 2000\n",
    "|> function\n",
    "    | Some (retries1, retries2) ->\n",
    "        retries1\n",
    "        |> _isBetween\n",
    "            (if Runtime.isWindows () then 4 else 2)\n",
    "            (if Runtime.isWindows () then 15 else 150)\n",
    "\n",
    "        retries2\n",
    "        |> _isBetween\n",
    "            (if Runtime.isWindows () then 5 else 0)\n",
    "            (if Runtime.isWindows () then 20 else 60)\n",
    "\n",
    "        true\n",
    "    | _ -> false\n",
    "|> _equal true"
   ]
  },
  {
   "cell_type": "markdown",
   "metadata": {},
   "source": [
    "## getAvailablePort"
   ]
  },
  {
   "cell_type": "code",
   "execution_count": null,
   "metadata": {
    "dotnet_interactive": {
     "language": "fsharp"
    },
    "polyglot_notebook": {
     "kernelName": "fsharp"
    }
   },
   "outputs": [],
   "source": [
    "let inline getAvailablePort timeout initialPort =\n",
    "    let rec loop port = async {\n",
    "        let! isPortOpen =\n",
    "            match timeout with\n",
    "            | None -> testPortOpen port\n",
    "            | Some timeout -> testPortOpenTimeout timeout port\n",
    "        if not isPortOpen\n",
    "        then return port\n",
    "        else return! loop (port + 1)\n",
    "    }\n",
    "    loop initialPort"
   ]
  },
  {
   "cell_type": "code",
   "execution_count": null,
   "metadata": {
    "dotnet_interactive": {
     "language": "fsharp"
    },
    "polyglot_notebook": {
     "kernelName": "fsharp"
    }
   },
   "outputs": [
    {
     "name": "stdout",
     "output_type": "stream",
     "text": [
      "00:00:12 #41 [Debug] 1\r\n",
      "00:00:12 #42 [Debug] 2\r\n",
      "00:00:12 #43 [Debug] _1\r\n",
      "00:00:12 #44 [Debug] _2\r\n",
      "00:00:12 #45 [Debug] _3\r\n",
      "00:00:12 #46 [Debug] 3\r\n",
      "00:00:14 #47 [Verbose] testPortOpen / ex: System.AggregateException: One or more errors occurred. (No connection could be made because the target machine actively refused it.)\r\n",
      "00:00:14 #48 [Debug] 4\r\n",
      "00:00:14 #49 [Warn] waitForPortAccess / port: 5000 / retry: 0\r\n",
      "00:00:16 #50 [Warn] waitForPortAccess / port: 5000 / retry: 100\r\n",
      "00:00:16 #51 [Debug] _4\r\n",
      "00:00:16 #52 [Debug] _5\r\n",
      "00:00:18 #53 [Verbose] testPortOpen / ex: System.AggregateException: One or more errors occurred. (No connection could be made because the target machine actively refused it.)\r\n",
      "00:00:18 #54 [Debug] 5\r\n",
      "00:00:18 #55 [Debug] 6\r\n",
      "5002\r\n",
      "109\r\n",
      "109\r\n",
      "109\r\n",
      "True\r\n"
     ]
    }
   ],
   "source": [
    "//// test\n",
    "\n",
    "let port = 5000\n",
    "\n",
    "let inline lockPorts () = async {\n",
    "    trace Debug (fun () -> \"_1\") getLocals\n",
    "    let listener1 = System.Net.Sockets.TcpListener (System.Net.IPAddress.Parse \"127.0.0.1\", port)\n",
    "    let listener2 = System.Net.Sockets.TcpListener (System.Net.IPAddress.Parse \"127.0.0.1\", port + 1)\n",
    "    trace Debug (fun () -> \"_2\") getLocals\n",
    "    listener1.Start ()\n",
    "    listener2.Start ()\n",
    "    trace Debug (fun () -> \"_3\") getLocals\n",
    "    do! Async.Sleep 4000\n",
    "    trace Debug (fun () -> \"_4\") getLocals\n",
    "    listener1.Stop ()\n",
    "    listener2.Stop ()\n",
    "    trace Debug (fun () -> \"_5\") getLocals\n",
    "}\n",
    "\n",
    "async {\n",
    "    trace Debug (fun () -> \"1\") getLocals\n",
    "    let! child = lockPorts () |> Async.StartChild\n",
    "    trace Debug (fun () -> \"2\") getLocals\n",
    "    do! Async.Sleep 180\n",
    "    trace Debug (fun () -> \"3\") getLocals\n",
    "    let! availablePort = getAvailablePort None port\n",
    "    trace Debug (fun () -> \"4\") getLocals\n",
    "    let! retries = waitForPortAccess None false port\n",
    "    trace Debug (fun () -> \"5\") getLocals\n",
    "    do! child\n",
    "    trace Debug (fun () -> \"6\") getLocals\n",
    "    return availablePort, retries\n",
    "}\n",
    "|> Async.runWithTimeout 15000\n",
    "|> function\n",
    "    | Some (availablePort, retries) ->\n",
    "        availablePort |> _equal (port + 2)\n",
    "\n",
    "        retries\n",
    "        |> _isBetween\n",
    "            (if Runtime.isWindows () then 100 else 100)\n",
    "            (if Runtime.isWindows () then 150 else 1200)\n",
    "\n",
    "        true\n",
    "    | _ -> false\n",
    "|> _equal true"
   ]
  },
  {
   "cell_type": "code",
   "execution_count": null,
   "metadata": {
    "dotnet_interactive": {
     "language": "fsharp"
    },
    "polyglot_notebook": {
     "kernelName": "fsharp"
    }
   },
   "outputs": [
    {
     "name": "stdout",
     "output_type": "stream",
     "text": [
      "00:00:18 #56 [Debug] 1\r\n",
      "00:00:18 #57 [Debug] 2\r\n",
      "00:00:18 #58 [Debug] _1\r\n",
      "00:00:18 #59 [Debug] _2\r\n",
      "00:00:18 #60 [Debug] _3\r\n",
      "00:00:18 #61 [Debug] 3\r\n",
      "00:00:18 #62 [Debug] runWithTimeoutAsync / timeout: 60\r\n",
      "00:00:19 #63 [Debug] 4\r\n",
      "00:00:19 #64 [Warn] waitForPortAccess / port: 5000 / retry: 0\r\n",
      "00:00:19 #65 [Debug] _4\r\n",
      "00:00:19 #66 [Debug] _5\r\n",
      "00:00:19 #67 [Debug] runWithTimeoutAsync / timeout: 60\r\n",
      "00:00:19 #68 [Debug] 5\r\n",
      "00:00:19 #69 [Debug] 6\r\n",
      "5002\r\n",
      "17\r\n",
      "17\r\n",
      "17\r\n",
      "True\r\n"
     ]
    }
   ],
   "source": [
    "//// test\n",
    "\n",
    "let port = 5000\n",
    "\n",
    "let inline lockPorts () = async {\n",
    "    trace Debug (fun () -> \"_1\") getLocals\n",
    "    let listener1 = System.Net.Sockets.TcpListener (System.Net.IPAddress.Parse \"127.0.0.1\", port)\n",
    "    let listener2 = System.Net.Sockets.TcpListener (System.Net.IPAddress.Parse \"127.0.0.1\", port + 1)\n",
    "    trace Debug (fun () -> \"_2\") getLocals\n",
    "    listener1.Start ()\n",
    "    listener2.Start ()\n",
    "    trace Debug (fun () -> \"_3\") getLocals\n",
    "    do! Async.Sleep 400\n",
    "    trace Debug (fun () -> \"_4\") getLocals\n",
    "    listener1.Stop ()\n",
    "    listener2.Stop ()\n",
    "    trace Debug (fun () -> \"_5\") getLocals\n",
    "}\n",
    "\n",
    "async {\n",
    "    trace Debug (fun () -> \"1\") getLocals\n",
    "    let! child = lockPorts () |> Async.StartChild\n",
    "    trace Debug (fun () -> \"2\") getLocals\n",
    "    do! Async.Sleep 60\n",
    "    trace Debug (fun () -> \"3\") getLocals\n",
    "    let! availablePort = getAvailablePort (Some 60) port\n",
    "    trace Debug (fun () -> \"4\") getLocals\n",
    "    let! retries = waitForPortAccess (Some 60) false port\n",
    "    trace Debug (fun () -> \"5\") getLocals\n",
    "    do! child\n",
    "    trace Debug (fun () -> \"6\") getLocals\n",
    "    return availablePort, retries\n",
    "}\n",
    "|> Async.runWithTimeout 1500\n",
    "|> function\n",
    "    | Some (availablePort, retries) ->\n",
    "        availablePort |> _equal (port + 2)\n",
    "\n",
    "        retries\n",
    "        |> _isBetween\n",
    "            (if Runtime.isWindows () then 10 else 1)\n",
    "            (if Runtime.isWindows () then 30 else 120)\n",
    "\n",
    "        true\n",
    "    | _ -> false\n",
    "|> _equal true"
   ]
  }
 ],
 "metadata": {
  "kernelspec": {
   "display_name": ".NET (C#)",
   "language": "C#",
   "name": ".net-csharp"
  },
  "language_info": {
   "file_extension": ".cs",
   "mimetype": "text/x-csharp",
   "name": "C#",
   "pygments_lexer": "csharp",
   "version": "10.0"
  },
  "polyglot_notebook": {
   "defaultKernelName": "csharp",
   "items": [
    {
     "name": "csharp"
    }
   ]
  },
  "dotnet_interactive": {
   "defaultKernelName": "csharp",
   "items": [
    {
     "name": "csharp"
    }
   ]
  }
 },
 "nbformat": 4,
 "nbformat_minor": 5
}