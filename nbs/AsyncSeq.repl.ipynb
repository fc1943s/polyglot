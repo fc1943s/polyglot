{
 "cells": [
  {
   "cell_type": "markdown",
   "metadata": {
    "dotnet_repl_cellExecutionStartTime": "2023-07-21T16:14:20.7806967-03:00",
    "dotnet_repl_cellExecutionEndTime": "2023-07-21T16:14:20.8470046-03:00",
    "dotnet_repl_cellExecutionTime": "66.4858ms"
   },
   "source": [
    "# AsyncSeq (Polyglot)"
   ]
  },
  {
   "cell_type": "code",
   "execution_count": null,
   "metadata": {
    "dotnet_repl_cellExecutionStartTime": "2023-07-21T16:14:20.8513882-03:00",
    "dotnet_repl_cellExecutionEndTime": "2023-07-21T16:14:31.9713394-03:00",
    "dotnet_repl_cellExecutionTime": "11.1199531s",
    "dotnet_interactive": {
     "language": "fsharp"
    },
    "polyglot_notebook": {
     "kernelName": "fsharp"
    }
   },
   "outputs": [
    {
     "data": {
      "text/html": [
       "<div><div></div><div><strong>Installing Packages</strong><ul><li><span>Expecto</span></li></ul></div><div></div></div>"
      ]
     },
     "metadata": {},
     "output_type": "display_data"
    },
    {
     "data": {
      "text/html": [
       "<div><div></div><div><strong>Installing Packages</strong><ul><li><span>Expecto.</span></li></ul></div><div></div></div>"
      ]
     },
     "metadata": {},
     "output_type": "display_data"
    },
    {
     "data": {
      "text/html": [
       "<div><div></div><div><strong>Installing Packages</strong><ul><li><span>Expecto..</span></li></ul></div><div></div></div>"
      ]
     },
     "metadata": {},
     "output_type": "display_data"
    },
    {
     "data": {
      "text/html": [
       "<div><div></div><div><strong>Installing Packages</strong><ul><li><span>Expecto...</span></li></ul></div><div></div></div>"
      ]
     },
     "metadata": {},
     "output_type": "display_data"
    },
    {
     "data": {
      "text/html": [
       "<div><div></div><div><strong>Installing Packages</strong><ul><li><span>Expecto....</span></li></ul></div><div></div></div>"
      ]
     },
     "metadata": {},
     "output_type": "display_data"
    },
    {
     "data": {
      "text/html": [
       "<div><div></div><div><strong>Installing Packages</strong><ul><li><span>Expecto.....</span></li></ul></div><div></div></div>"
      ]
     },
     "metadata": {},
     "output_type": "display_data"
    },
    {
     "data": {
      "text/html": [
       "<div><div></div><div><strong>Installing Packages</strong><ul><li><span>Expecto......</span></li></ul></div><div></div></div>"
      ]
     },
     "metadata": {},
     "output_type": "display_data"
    },
    {
     "data": {
      "text/html": [
       "<div><div></div><div><strong>Installing Packages</strong><ul><li><span>Expecto.......</span></li></ul></div><div></div></div>"
      ]
     },
     "metadata": {},
     "output_type": "display_data"
    },
    {
     "data": {
      "text/html": [
       "<div><div></div><div><strong>Installing Packages</strong><ul><li><span>Expecto........</span></li></ul></div><div></div></div>"
      ]
     },
     "metadata": {},
     "output_type": "display_data"
    },
    {
     "data": {
      "text/html": [
       "<div><div></div><div></div><div><strong>Installed Packages</strong><ul><li><span>Expecto, 10.1.0</span></li></ul></div></div>"
      ]
     },
     "metadata": {},
     "output_type": "display_data"
    }
   ],
   "source": [
    "#!import ../nbs/Testing.dib"
   ]
  },
  {
   "cell_type": "code",
   "execution_count": null,
   "metadata": {
    "dotnet_repl_cellExecutionStartTime": "2023-07-21T16:14:31.9714541-03:00",
    "dotnet_repl_cellExecutionEndTime": "2023-07-21T16:14:36.5281101-03:00",
    "dotnet_repl_cellExecutionTime": "4.5566592s",
    "dotnet_interactive": {
     "language": "fsharp"
    },
    "polyglot_notebook": {
     "kernelName": "fsharp"
    }
   },
   "outputs": [
    {
     "data": {
      "text/html": [
       "<div><div></div><div><strong>Installing Packages</strong><ul><li><span>FSharp.Control.AsyncSeq</span></li><li><span>System.Reactive</span></li><li><span>System.Reactive.Linq</span></li></ul></div><div></div></div>"
      ]
     },
     "metadata": {},
     "output_type": "display_data"
    },
    {
     "data": {
      "text/html": [
       "<div><div></div><div><strong>Installing Packages</strong><ul><li><span>FSharp.Control.AsyncSeq.</span></li><li><span>System.Reactive.</span></li><li><span>System.Reactive.Linq.</span></li></ul></div><div></div></div>"
      ]
     },
     "metadata": {},
     "output_type": "display_data"
    },
    {
     "data": {
      "text/html": [
       "<div><div></div><div><strong>Installing Packages</strong><ul><li><span>FSharp.Control.AsyncSeq..</span></li><li><span>System.Reactive..</span></li><li><span>System.Reactive.Linq..</span></li></ul></div><div></div></div>"
      ]
     },
     "metadata": {},
     "output_type": "display_data"
    },
    {
     "data": {
      "text/html": [
       "<div><div></div><div><strong>Installing Packages</strong><ul><li><span>FSharp.Control.AsyncSeq...</span></li><li><span>System.Reactive...</span></li><li><span>System.Reactive.Linq...</span></li></ul></div><div></div></div>"
      ]
     },
     "metadata": {},
     "output_type": "display_data"
    },
    {
     "data": {
      "text/html": [
       "<div><div></div><div><strong>Installing Packages</strong><ul><li><span>FSharp.Control.AsyncSeq....</span></li><li><span>System.Reactive....</span></li><li><span>System.Reactive.Linq....</span></li></ul></div><div></div></div>"
      ]
     },
     "metadata": {},
     "output_type": "display_data"
    },
    {
     "data": {
      "text/html": [
       "<div><div></div><div><strong>Installing Packages</strong><ul><li><span>FSharp.Control.AsyncSeq.....</span></li><li><span>System.Reactive.....</span></li><li><span>System.Reactive.Linq.....</span></li></ul></div><div></div></div>"
      ]
     },
     "metadata": {},
     "output_type": "display_data"
    },
    {
     "data": {
      "text/html": [
       "<div><div></div><div><strong>Installing Packages</strong><ul><li><span>FSharp.Control.AsyncSeq......</span></li><li><span>System.Reactive......</span></li><li><span>System.Reactive.Linq......</span></li></ul></div><div></div></div>"
      ]
     },
     "metadata": {},
     "output_type": "display_data"
    },
    {
     "data": {
      "text/html": [
       "<div><div></div><div><strong>Installing Packages</strong><ul><li><span>FSharp.Control.AsyncSeq.......</span></li><li><span>System.Reactive.......</span></li><li><span>System.Reactive.Linq.......</span></li></ul></div><div></div></div>"
      ]
     },
     "metadata": {},
     "output_type": "display_data"
    },
    {
     "data": {
      "text/html": [
       "<div><div></div><div><strong>Installing Packages</strong><ul><li><span>FSharp.Control.AsyncSeq........</span></li><li><span>System.Reactive........</span></li><li><span>System.Reactive.Linq........</span></li></ul></div><div></div></div>"
      ]
     },
     "metadata": {},
     "output_type": "display_data"
    },
    {
     "data": {
      "text/html": [
       "<div><div></div><div></div><div><strong>Installed Packages</strong><ul><li><span>FSharp.Control.AsyncSeq, 3.2.1</span></li><li><span>System.Reactive, 5.0.0</span></li><li><span>System.Reactive.Linq, 6.0.0-preview.1</span></li></ul></div></div>"
      ]
     },
     "metadata": {},
     "output_type": "display_data"
    }
   ],
   "source": [
    "#r \"nuget:FSharp.Control.AsyncSeq\"\n",
    "#r \"nuget:System.Reactive,5.0.0\"\n",
    "#r \"nuget:System.Reactive.Linq,6.0.0-preview.1\""
   ]
  },
  {
   "cell_type": "code",
   "execution_count": null,
   "metadata": {
    "dotnet_repl_cellExecutionStartTime": "2023-07-21T16:14:36.5281661-03:00",
    "dotnet_repl_cellExecutionEndTime": "2023-07-21T16:14:37.6119267-03:00",
    "dotnet_repl_cellExecutionTime": "1.0837626s",
    "dotnet_interactive": {
     "language": "fsharp"
    },
    "polyglot_notebook": {
     "kernelName": "fsharp"
    }
   },
   "outputs": [],
   "source": [
    "#!import ../nbs/Common.fs\n",
    "#!import ../nbs/Async.fs"
   ]
  },
  {
   "cell_type": "code",
   "execution_count": null,
   "metadata": {
    "dotnet_repl_cellExecutionStartTime": "2023-07-21T16:14:37.6119584-03:00",
    "dotnet_repl_cellExecutionEndTime": "2023-07-21T16:14:37.6172098-03:00",
    "dotnet_repl_cellExecutionTime": "5.2536ms",
    "dotnet_interactive": {
     "language": "fsharp"
    },
    "polyglot_notebook": {
     "kernelName": "fsharp"
    }
   },
   "outputs": [],
   "source": [
    "open Common"
   ]
  },
  {
   "cell_type": "markdown",
   "metadata": {
    "dotnet_repl_cellExecutionStartTime": "2023-07-21T16:14:37.6172439-03:00",
    "dotnet_repl_cellExecutionEndTime": "2023-07-21T16:14:37.6192098-03:00",
    "dotnet_repl_cellExecutionTime": "1.9673ms"
   },
   "source": [
    "## subscribeEvent"
   ]
  },
  {
   "cell_type": "code",
   "execution_count": null,
   "metadata": {
    "dotnet_repl_cellExecutionStartTime": "2023-07-21T16:14:37.6192339-03:00",
    "dotnet_repl_cellExecutionEndTime": "2023-07-21T16:14:37.6935939-03:00",
    "dotnet_repl_cellExecutionTime": "74.362ms",
    "dotnet_interactive": {
     "language": "fsharp"
    },
    "polyglot_notebook": {
     "kernelName": "fsharp"
    }
   },
   "outputs": [],
   "source": [
    "let subscribeEvent (event: IEvent<'H, 'A>) map =\n",
    "    let observable = System.Reactive.Linq.Observable.FromEventPattern<'H, 'A>(event.AddHandler, event.RemoveHandler)\n",
    "    System.Reactive.Linq.Observable.Select (observable, fun event -> map event.EventArgs)\n",
    "    |> FSharp.Control.AsyncSeq.ofObservableBuffered"
   ]
  },
  {
   "cell_type": "code",
   "execution_count": null,
   "metadata": {
    "dotnet_repl_cellExecutionStartTime": "2023-07-21T16:14:37.6936288-03:00",
    "dotnet_repl_cellExecutionEndTime": "2023-07-21T16:14:37.893613-03:00",
    "dotnet_repl_cellExecutionTime": "199.9861ms",
    "dotnet_interactive": {
     "language": "fsharp"
    },
    "polyglot_notebook": {
     "kernelName": "fsharp"
    }
   },
   "outputs": [],
   "source": [
    "//// test\n",
    "\n",
    "type TestEvent () as self =\n",
    "    member val Calls = [] with get, set\n",
    "    member val Event = Event<ErrorEventHandler, ErrorEventArgs> () with get\n",
    "\n",
    "    member _.AddCall text =\n",
    "        self.Calls <- self.Calls @ [ text ]\n",
    "\n",
    "    member _.EventInterface =\n",
    "        { new IEvent<ErrorEventHandler, ErrorEventArgs> with\n",
    "            member _.AddHandler handler =\n",
    "                self.AddCall \"AddHandler\"\n",
    "                self.Event.Publish.AddHandler handler\n",
    "\n",
    "            member _.RemoveHandler handler =\n",
    "                self.AddCall \"RemoveHandler\"\n",
    "                self.Event.Publish.RemoveHandler handler\n",
    "\n",
    "            member _.Subscribe observer =\n",
    "                self.AddCall \"IObservable.Subscribe\"\n",
    "                let disposable = self.Event.Publish.Subscribe observer\n",
    "                newDisposable (fun () ->\n",
    "                    self.AddCall \"IObservable.Dispose\"\n",
    "                    disposable.Dispose ()\n",
    "                )\n",
    "        }\n",
    "\n",
    "    member _.Subscribe () =\n",
    "        subscribeEvent\n",
    "            self.EventInterface\n",
    "            (fun args ->\n",
    "                let result = args.GetException().Message\n",
    "                self.AddCall $\"TestEvent.Subscribe({result})\"\n",
    "                result\n",
    "            )\n",
    "\n",
    "    member _.Iter subscription =\n",
    "        subscription\n",
    "        |> FSharp.Control.AsyncSeq.iteriAsync (fun i message -> async {\n",
    "            self.AddCall $\"TestEvent.Iter({i}:{message})\"\n",
    "        })\n",
    "\n",
    "    member _.WaitCall text = async {\n",
    "        while self.Calls |> List.last <> text do\n",
    "            do! Async.SwitchToThreadPool ()\n",
    "    }"
   ]
  },
  {
   "cell_type": "code",
   "execution_count": null,
   "metadata": {
    "dotnet_repl_cellExecutionStartTime": "2023-07-21T16:14:37.8936469-03:00",
    "dotnet_repl_cellExecutionEndTime": "2023-07-21T16:14:38.2477273-03:00",
    "dotnet_repl_cellExecutionTime": "354.0826ms",
    "dotnet_interactive": {
     "language": "fsharp"
    },
    "polyglot_notebook": {
     "kernelName": "fsharp"
    }
   },
   "outputs": [
    {
     "name": "stdout",
     "output_type": "stream",
     "text": [
      "16:14:38 #1 [Debug] runWithTimeout / timeout: 200\r\n",
      "<null>\r\n",
      "[ 1, AddHandler, 2, RemoveHandler ]\r\n"
     ]
    }
   ],
   "source": [
    "//// test\n",
    "\n",
    "let testEvent = TestEvent ()\n",
    "\n",
    "async {\n",
    "    testEvent.AddCall \"1\"\n",
    "    let! child = testEvent.Subscribe () |> testEvent.Iter |> Async.StartChild\n",
    "    do! testEvent.WaitCall \"AddHandler\"\n",
    "    testEvent.AddCall \"2\"\n",
    "    do! child\n",
    "    testEvent.AddCall \"3\"\n",
    "}\n",
    "|> Async.runWithTimeout 200\n",
    "|> _equal None\n",
    "\n",
    "testEvent.Calls\n",
    "|> Seq.toList\n",
    "|> _equal [ \"1\"; \"AddHandler\"; \"2\"; \"RemoveHandler\" ]"
   ]
  },
  {
   "cell_type": "code",
   "execution_count": null,
   "metadata": {
    "dotnet_repl_cellExecutionStartTime": "2023-07-21T16:14:38.2477973-03:00",
    "dotnet_repl_cellExecutionEndTime": "2023-07-21T16:14:38.5763959-03:00",
    "dotnet_repl_cellExecutionTime": "328.6002ms",
    "dotnet_interactive": {
     "language": "fsharp"
    },
    "polyglot_notebook": {
     "kernelName": "fsharp"
    }
   },
   "outputs": [
    {
     "name": "stdout",
     "output_type": "stream",
     "text": [
      "16:14:38 #2 [Debug] runWithTimeout / timeout: 200\r\n",
      "<null>\r\n",
      "[ 1, AddHandler, 2, IObservable.Subscribe, 3, RemoveHandler, IObservable.Dispose ]\r\n"
     ]
    }
   ],
   "source": [
    "//// test\n",
    "\n",
    "let testEvent = TestEvent ()\n",
    "\n",
    "async {\n",
    "    testEvent.AddCall \"1\"\n",
    "    let! child = testEvent.Subscribe () |> testEvent.Iter |> Async.StartChild\n",
    "    do! testEvent.WaitCall \"AddHandler\"\n",
    "    testEvent.AddCall \"2\"\n",
    "    use _ = testEvent.EventInterface.Subscribe (fun args ->\n",
    "        testEvent.AddCall $\"testEvent.EventInterface.Subscribe({args})\"\n",
    "    )\n",
    "    testEvent.AddCall \"3\"\n",
    "    do! child\n",
    "    testEvent.AddCall \"4\"\n",
    "}\n",
    "|> Async.runWithTimeout 200\n",
    "|> _equal None\n",
    "\n",
    "testEvent.Calls\n",
    "|> _equal [ \"1\"; \"AddHandler\"; \"2\"; \"IObservable.Subscribe\"; \"3\"; \"RemoveHandler\"; \"IObservable.Dispose\" ]"
   ]
  },
  {
   "cell_type": "code",
   "execution_count": null,
   "metadata": {
    "dotnet_repl_cellExecutionStartTime": "2023-07-21T16:14:38.5764263-03:00",
    "dotnet_repl_cellExecutionEndTime": "2023-07-21T16:14:38.89473-03:00",
    "dotnet_repl_cellExecutionTime": "318.3053ms",
    "dotnet_interactive": {
     "language": "fsharp"
    },
    "polyglot_notebook": {
     "kernelName": "fsharp"
    }
   },
   "outputs": [
    {
     "name": "stdout",
     "output_type": "stream",
     "text": [
      "16:14:38 #3 [Debug] runWithTimeout / timeout: 200\r\n",
      "<null>\r\n",
      "[ 1, AddHandler, 2, IObservable.Subscribe, 3, TestEvent.Subscribe(error), TestEvent.Iter(0:error), testEvent.EventInterface.Subscribe(error), 4, RemoveHandler, IObservable.Dispose ]\r\n"
     ]
    }
   ],
   "source": [
    "//// test\n",
    "\n",
    "let testEvent = TestEvent ()\n",
    "\n",
    "async {\n",
    "    testEvent.AddCall \"1\"\n",
    "    let! child = testEvent.Subscribe () |> testEvent.Iter |> Async.StartChild\n",
    "    do! testEvent.WaitCall \"AddHandler\"\n",
    "    testEvent.AddCall \"2\"\n",
    "    use _ = testEvent.EventInterface.Subscribe (fun args ->\n",
    "        async {\n",
    "            do! testEvent.WaitCall \"TestEvent.Iter(0:error)\"\n",
    "            testEvent.AddCall $\"testEvent.EventInterface.Subscribe({args.GetException().Message})\"\n",
    "        }\n",
    "        |> Async.RunSynchronously\n",
    "    )\n",
    "    testEvent.AddCall \"3\"\n",
    "    testEvent.Event.Trigger (null, ErrorEventArgs (Exception \"error\"))\n",
    "    testEvent.AddCall \"4\"\n",
    "    do! child\n",
    "    testEvent.AddCall \"5\"\n",
    "}\n",
    "|> Async.runWithTimeout 200\n",
    "|> _equal None\n",
    "\n",
    "testEvent.Calls\n",
    "|> _equal [\n",
    "    \"1\"\n",
    "    \"AddHandler\"\n",
    "    \"2\"\n",
    "    \"IObservable.Subscribe\"\n",
    "    \"3\"\n",
    "    \"TestEvent.Subscribe(error)\"\n",
    "    \"TestEvent.Iter(0:error)\"\n",
    "    \"testEvent.EventInterface.Subscribe(error)\"\n",
    "    \"4\"\n",
    "    \"RemoveHandler\"\n",
    "    \"IObservable.Dispose\"\n",
    "]"
   ]
  }
 ],
 "metadata": {
  "kernelspec": {
   "display_name": ".NET (C#)",
   "language": "C#",
   "name": ".net-csharp"
  },
  "language_info": {
   "file_extension": ".cs",
   "mimetype": "text/x-csharp",
   "name": "C#",
   "pygments_lexer": "csharp",
   "version": "10.0"
  },
  "polyglot_notebook": {
   "defaultKernelName": "csharp",
   "items": [
    {
     "name": "csharp"
    }
   ]
  },
  "dotnet_interactive": {
   "defaultKernelName": "csharp",
   "items": [
    {
     "name": "csharp"
    }
   ]
  }
 },
 "nbformat": 4,
 "nbformat_minor": 5
}