{
 "cells": [
  {
   "cell_type": "markdown",
   "metadata": {
    "dotnet_repl_cellExecutionStartTime": "2023-07-24T18:09:40.653322-03:00",
    "dotnet_repl_cellExecutionEndTime": "2023-07-24T18:09:40.7055819-03:00",
    "dotnet_repl_cellExecutionTime": "52.4416ms"
   },
   "source": [
    "# AsyncSeq (Polyglot)"
   ]
  },
  {
   "cell_type": "code",
   "execution_count": null,
   "metadata": {
    "dotnet_repl_cellExecutionStartTime": "2023-07-24T18:09:40.7077516-03:00",
    "dotnet_repl_cellExecutionEndTime": "2023-07-24T18:09:49.6402252-03:00",
    "dotnet_repl_cellExecutionTime": "8.9324761s",
    "dotnet_interactive": {
     "language": "fsharp"
    },
    "polyglot_notebook": {
     "kernelName": "fsharp"
    }
   },
   "outputs": [
    {
     "data": {
      "text/html": [
       "<div><div></div><div><strong>Installing Packages</strong><ul><li><span>Expecto</span></li></ul></div><div></div></div>"
      ]
     },
     "metadata": {},
     "output_type": "display_data"
    },
    {
     "data": {
      "text/html": [
       "<div><div></div><div><strong>Installing Packages</strong><ul><li><span>Expecto.</span></li></ul></div><div></div></div>"
      ]
     },
     "metadata": {},
     "output_type": "display_data"
    },
    {
     "data": {
      "text/html": [
       "<div><div></div><div><strong>Installing Packages</strong><ul><li><span>Expecto..</span></li></ul></div><div></div></div>"
      ]
     },
     "metadata": {},
     "output_type": "display_data"
    },
    {
     "data": {
      "text/html": [
       "<div><div></div><div><strong>Installing Packages</strong><ul><li><span>Expecto...</span></li></ul></div><div></div></div>"
      ]
     },
     "metadata": {},
     "output_type": "display_data"
    },
    {
     "data": {
      "text/html": [
       "<div><div></div><div><strong>Installing Packages</strong><ul><li><span>Expecto....</span></li></ul></div><div></div></div>"
      ]
     },
     "metadata": {},
     "output_type": "display_data"
    },
    {
     "data": {
      "text/html": [
       "<div><div></div><div><strong>Installing Packages</strong><ul><li><span>Expecto.....</span></li></ul></div><div></div></div>"
      ]
     },
     "metadata": {},
     "output_type": "display_data"
    },
    {
     "data": {
      "text/html": [
       "<div><div></div><div><strong>Installing Packages</strong><ul><li><span>Expecto......</span></li></ul></div><div></div></div>"
      ]
     },
     "metadata": {},
     "output_type": "display_data"
    },
    {
     "data": {
      "text/html": [
       "<div><div></div><div><strong>Installing Packages</strong><ul><li><span>Expecto.......</span></li></ul></div><div></div></div>"
      ]
     },
     "metadata": {},
     "output_type": "display_data"
    },
    {
     "data": {
      "text/html": [
       "<div><div></div><div></div><div><strong>Installed Packages</strong><ul><li><span>Expecto, 10.1.0</span></li></ul></div></div>"
      ]
     },
     "metadata": {},
     "output_type": "display_data"
    }
   ],
   "source": [
    "#!import ../nbs/Testing.dib"
   ]
  },
  {
   "cell_type": "code",
   "execution_count": null,
   "metadata": {
    "dotnet_repl_cellExecutionStartTime": "2023-07-24T18:09:49.6404271-03:00",
    "dotnet_repl_cellExecutionEndTime": "2023-07-24T18:09:53.1733175-03:00",
    "dotnet_repl_cellExecutionTime": "3.5328923s",
    "dotnet_interactive": {
     "language": "fsharp"
    },
    "polyglot_notebook": {
     "kernelName": "fsharp"
    }
   },
   "outputs": [
    {
     "data": {
      "text/html": [
       "<div><div></div><div><strong>Installing Packages</strong><ul><li><span>FSharp.Control.AsyncSeq</span></li><li><span>System.Reactive</span></li><li><span>System.Reactive.Linq</span></li></ul></div><div></div></div>"
      ]
     },
     "metadata": {},
     "output_type": "display_data"
    },
    {
     "data": {
      "text/html": [
       "<div><div></div><div><strong>Installing Packages</strong><ul><li><span>FSharp.Control.AsyncSeq.</span></li><li><span>System.Reactive.</span></li><li><span>System.Reactive.Linq.</span></li></ul></div><div></div></div>"
      ]
     },
     "metadata": {},
     "output_type": "display_data"
    },
    {
     "data": {
      "text/html": [
       "<div><div></div><div><strong>Installing Packages</strong><ul><li><span>FSharp.Control.AsyncSeq..</span></li><li><span>System.Reactive..</span></li><li><span>System.Reactive.Linq..</span></li></ul></div><div></div></div>"
      ]
     },
     "metadata": {},
     "output_type": "display_data"
    },
    {
     "data": {
      "text/html": [
       "<div><div></div><div><strong>Installing Packages</strong><ul><li><span>FSharp.Control.AsyncSeq...</span></li><li><span>System.Reactive...</span></li><li><span>System.Reactive.Linq...</span></li></ul></div><div></div></div>"
      ]
     },
     "metadata": {},
     "output_type": "display_data"
    },
    {
     "data": {
      "text/html": [
       "<div><div></div><div><strong>Installing Packages</strong><ul><li><span>FSharp.Control.AsyncSeq....</span></li><li><span>System.Reactive....</span></li><li><span>System.Reactive.Linq....</span></li></ul></div><div></div></div>"
      ]
     },
     "metadata": {},
     "output_type": "display_data"
    },
    {
     "data": {
      "text/html": [
       "<div><div></div><div><strong>Installing Packages</strong><ul><li><span>FSharp.Control.AsyncSeq.....</span></li><li><span>System.Reactive.....</span></li><li><span>System.Reactive.Linq.....</span></li></ul></div><div></div></div>"
      ]
     },
     "metadata": {},
     "output_type": "display_data"
    },
    {
     "data": {
      "text/html": [
       "<div><div></div><div><strong>Installing Packages</strong><ul><li><span>FSharp.Control.AsyncSeq......</span></li><li><span>System.Reactive......</span></li><li><span>System.Reactive.Linq......</span></li></ul></div><div></div></div>"
      ]
     },
     "metadata": {},
     "output_type": "display_data"
    },
    {
     "data": {
      "text/html": [
       "<div><div></div><div></div><div><strong>Installed Packages</strong><ul><li><span>FSharp.Control.AsyncSeq, 3.2.1</span></li><li><span>System.Reactive, 5.0.0</span></li><li><span>System.Reactive.Linq, 6.0.0-preview.1</span></li></ul></div></div>"
      ]
     },
     "metadata": {},
     "output_type": "display_data"
    }
   ],
   "source": [
    "#r \"nuget:FSharp.Control.AsyncSeq\"\n",
    "#r \"nuget:System.Reactive,5.0.0\"\n",
    "#r \"nuget:System.Reactive.Linq,6.0.0-preview.1\""
   ]
  },
  {
   "cell_type": "code",
   "execution_count": null,
   "metadata": {
    "dotnet_repl_cellExecutionStartTime": "2023-07-24T18:09:53.173348-03:00",
    "dotnet_repl_cellExecutionEndTime": "2023-07-24T18:09:54.0601764-03:00",
    "dotnet_repl_cellExecutionTime": "886.83ms",
    "dotnet_interactive": {
     "language": "fsharp"
    },
    "polyglot_notebook": {
     "kernelName": "fsharp"
    }
   },
   "outputs": [],
   "source": [
    "#!import ../nbs/Common.fs\n",
    "#!import ../nbs/Async.fs"
   ]
  },
  {
   "cell_type": "code",
   "execution_count": null,
   "metadata": {
    "dotnet_repl_cellExecutionStartTime": "2023-07-24T18:09:54.0602192-03:00",
    "dotnet_repl_cellExecutionEndTime": "2023-07-24T18:09:54.0677425-03:00",
    "dotnet_repl_cellExecutionTime": "7.5248ms",
    "dotnet_interactive": {
     "language": "fsharp"
    },
    "polyglot_notebook": {
     "kernelName": "fsharp"
    }
   },
   "outputs": [],
   "source": [
    "open Common"
   ]
  },
  {
   "cell_type": "markdown",
   "metadata": {
    "dotnet_repl_cellExecutionStartTime": "2023-07-24T18:09:54.0677795-03:00",
    "dotnet_repl_cellExecutionEndTime": "2023-07-24T18:09:54.070254-03:00",
    "dotnet_repl_cellExecutionTime": "2.476ms"
   },
   "source": [
    "## subscribeEvent"
   ]
  },
  {
   "cell_type": "code",
   "execution_count": null,
   "metadata": {
    "dotnet_repl_cellExecutionStartTime": "2023-07-24T18:09:54.0702832-03:00",
    "dotnet_repl_cellExecutionEndTime": "2023-07-24T18:09:54.1187076-03:00",
    "dotnet_repl_cellExecutionTime": "48.4261ms",
    "dotnet_interactive": {
     "language": "fsharp"
    },
    "polyglot_notebook": {
     "kernelName": "fsharp"
    }
   },
   "outputs": [],
   "source": [
    "let subscribeEvent (event: IEvent<'H, 'A>) map =\n",
    "    let observable = System.Reactive.Linq.Observable.FromEventPattern<'H, 'A>(event.AddHandler, event.RemoveHandler)\n",
    "    System.Reactive.Linq.Observable.Select (observable, fun event -> map event.EventArgs)\n",
    "    |> FSharp.Control.AsyncSeq.ofObservableBuffered"
   ]
  },
  {
   "cell_type": "code",
   "execution_count": null,
   "metadata": {
    "dotnet_repl_cellExecutionStartTime": "2023-07-24T18:09:54.1187464-03:00",
    "dotnet_repl_cellExecutionEndTime": "2023-07-24T18:09:54.2717749-03:00",
    "dotnet_repl_cellExecutionTime": "153.03ms",
    "dotnet_interactive": {
     "language": "fsharp"
    },
    "polyglot_notebook": {
     "kernelName": "fsharp"
    }
   },
   "outputs": [],
   "source": [
    "//// test\n",
    "\n",
    "type TestEvent () as self =\n",
    "    member val Calls = [] with get, set\n",
    "    member val Event = Event<ErrorEventHandler, ErrorEventArgs> () with get\n",
    "\n",
    "    member _.AddCall text =\n",
    "        self.Calls <- self.Calls @ [ text ]\n",
    "\n",
    "    member _.EventInterface =\n",
    "        { new IEvent<ErrorEventHandler, ErrorEventArgs> with\n",
    "            member _.AddHandler handler =\n",
    "                self.AddCall \"AddHandler\"\n",
    "                self.Event.Publish.AddHandler handler\n",
    "\n",
    "            member _.RemoveHandler handler =\n",
    "                self.AddCall \"RemoveHandler\"\n",
    "                self.Event.Publish.RemoveHandler handler\n",
    "\n",
    "            member _.Subscribe observer =\n",
    "                self.AddCall \"IObservable.Subscribe\"\n",
    "                let disposable = self.Event.Publish.Subscribe observer\n",
    "                newDisposable (fun () ->\n",
    "                    self.AddCall \"IObservable.Dispose\"\n",
    "                    disposable.Dispose ()\n",
    "                )\n",
    "        }\n",
    "\n",
    "    member _.Subscribe () =\n",
    "        subscribeEvent\n",
    "            self.EventInterface\n",
    "            (fun args ->\n",
    "                let result = args.GetException () |> printException\n",
    "                self.AddCall $\"TestEvent.Subscribe({result})\"\n",
    "                result\n",
    "            )\n",
    "\n",
    "    member _.Iter subscription =\n",
    "        subscription\n",
    "        |> FSharp.Control.AsyncSeq.iteriAsync (fun i error -> async {\n",
    "            self.AddCall $\"TestEvent.Iter({i}: {error})\"\n",
    "        })\n",
    "\n",
    "    member _.WaitCall text = async {\n",
    "        while self.Calls |> List.last <> text do\n",
    "            do! Async.SwitchToThreadPool ()\n",
    "    }"
   ]
  },
  {
   "cell_type": "code",
   "execution_count": null,
   "metadata": {
    "dotnet_repl_cellExecutionStartTime": "2023-07-24T18:09:54.2718141-03:00",
    "dotnet_repl_cellExecutionEndTime": "2023-07-24T18:09:54.7032375-03:00",
    "dotnet_repl_cellExecutionTime": "431.4246ms",
    "dotnet_interactive": {
     "language": "fsharp"
    },
    "polyglot_notebook": {
     "kernelName": "fsharp"
    }
   },
   "outputs": [
    {
     "name": "stdout",
     "output_type": "stream",
     "text": [
      "18:09:54 #1 [Debug] runWithTimeoutAsync / timeout: 300\r\n",
      "<null>\r\n",
      "[ 1, AddHandler, 2, RemoveHandler ]\r\n"
     ]
    }
   ],
   "source": [
    "//// test\n",
    "\n",
    "let testEvent = TestEvent ()\n",
    "\n",
    "async {\n",
    "    testEvent.AddCall \"1\"\n",
    "    let! child = testEvent.Subscribe () |> testEvent.Iter |> Async.StartChild\n",
    "    do! testEvent.WaitCall \"AddHandler\"\n",
    "    testEvent.AddCall \"2\"\n",
    "    do! child\n",
    "    testEvent.AddCall \"3\"\n",
    "}\n",
    "|> Async.runWithTimeout 300\n",
    "|> _equal None\n",
    "\n",
    "testEvent.Calls\n",
    "|> Seq.toList\n",
    "|> _equal [ \"1\"; \"AddHandler\"; \"2\"; \"RemoveHandler\" ]"
   ]
  },
  {
   "cell_type": "code",
   "execution_count": null,
   "metadata": {
    "dotnet_repl_cellExecutionStartTime": "2023-07-24T18:09:54.7032847-03:00",
    "dotnet_repl_cellExecutionEndTime": "2023-07-24T18:09:55.0839421-03:00",
    "dotnet_repl_cellExecutionTime": "380.6584ms",
    "dotnet_interactive": {
     "language": "fsharp"
    },
    "polyglot_notebook": {
     "kernelName": "fsharp"
    }
   },
   "outputs": [
    {
     "name": "stdout",
     "output_type": "stream",
     "text": [
      "18:09:55 #2 [Debug] runWithTimeoutAsync / timeout: 300\r\n",
      "<null>\r\n",
      "[ 1, AddHandler, 2, IObservable.Subscribe, 3, RemoveHandler, IObservable.Dispose ]\r\n"
     ]
    }
   ],
   "source": [
    "//// test\n",
    "\n",
    "let testEvent = TestEvent ()\n",
    "\n",
    "async {\n",
    "    testEvent.AddCall \"1\"\n",
    "    let! child = testEvent.Subscribe () |> testEvent.Iter |> Async.StartChild\n",
    "    do! testEvent.WaitCall \"AddHandler\"\n",
    "    testEvent.AddCall \"2\"\n",
    "    use _ = testEvent.EventInterface.Subscribe (fun args ->\n",
    "        testEvent.AddCall $\"testEvent.EventInterface.Subscribe({args})\"\n",
    "    )\n",
    "    testEvent.AddCall \"3\"\n",
    "    do! child\n",
    "    testEvent.AddCall \"4\"\n",
    "}\n",
    "|> Async.runWithTimeout 300\n",
    "|> _equal None\n",
    "\n",
    "testEvent.Calls\n",
    "|> _equal [ \"1\"; \"AddHandler\"; \"2\"; \"IObservable.Subscribe\"; \"3\"; \"RemoveHandler\"; \"IObservable.Dispose\" ]"
   ]
  },
  {
   "cell_type": "code",
   "execution_count": null,
   "metadata": {
    "dotnet_repl_cellExecutionStartTime": "2023-07-24T18:09:55.0839692-03:00",
    "dotnet_repl_cellExecutionEndTime": "2023-07-24T18:09:55.4815463-03:00",
    "dotnet_repl_cellExecutionTime": "397.578ms",
    "dotnet_interactive": {
     "language": "fsharp"
    },
    "polyglot_notebook": {
     "kernelName": "fsharp"
    }
   },
   "outputs": [
    {
     "name": "stdout",
     "output_type": "stream",
     "text": [
      "18:09:55 #3 [Debug] runWithTimeoutAsync / timeout: 300\r\n",
      "<null>\r\n",
      "[ 1, AddHandler, 2, IObservable.Subscribe, 3, TestEvent.Subscribe(System.Exception: error), TestEvent.Iter(0: System.Exception: error), testEvent.EventInterface.Subscribe(System.Exception: error), 4, RemoveHandler, IObservable.Dispose ]\r\n"
     ]
    }
   ],
   "source": [
    "//// test\n",
    "\n",
    "let testEvent = TestEvent ()\n",
    "\n",
    "async {\n",
    "    testEvent.AddCall \"1\"\n",
    "    let! child = testEvent.Subscribe () |> testEvent.Iter |> Async.StartChild\n",
    "    do! testEvent.WaitCall \"AddHandler\"\n",
    "    testEvent.AddCall \"2\"\n",
    "    use _ = testEvent.EventInterface.Subscribe (fun args ->\n",
    "        async {\n",
    "            do! testEvent.WaitCall \"TestEvent.Iter(0: System.Exception: error)\"\n",
    "            testEvent.AddCall $\"testEvent.EventInterface.Subscribe({args.GetException () |> printException})\"\n",
    "        }\n",
    "        |> Async.RunSynchronously\n",
    "    )\n",
    "    testEvent.AddCall \"3\"\n",
    "    testEvent.Event.Trigger (null, ErrorEventArgs (Exception \"error\"))\n",
    "    testEvent.AddCall \"4\"\n",
    "    do! child\n",
    "    testEvent.AddCall \"5\"\n",
    "}\n",
    "|> Async.runWithTimeout 300\n",
    "|> _equal None\n",
    "\n",
    "testEvent.Calls\n",
    "|> _equal [\n",
    "    \"1\"\n",
    "    \"AddHandler\"\n",
    "    \"2\"\n",
    "    \"IObservable.Subscribe\"\n",
    "    \"3\"\n",
    "    \"TestEvent.Subscribe(System.Exception: error)\"\n",
    "    \"TestEvent.Iter(0: System.Exception: error)\"\n",
    "    \"testEvent.EventInterface.Subscribe(System.Exception: error)\"\n",
    "    \"4\"\n",
    "    \"RemoveHandler\"\n",
    "    \"IObservable.Dispose\"\n",
    "]"
   ]
  }
 ],
 "metadata": {
  "kernelspec": {
   "display_name": ".NET (C#)",
   "language": "C#",
   "name": ".net-csharp"
  },
  "language_info": {
   "file_extension": ".cs",
   "mimetype": "text/x-csharp",
   "name": "C#",
   "pygments_lexer": "csharp",
   "version": "10.0"
  },
  "polyglot_notebook": {
   "defaultKernelName": "csharp",
   "items": [
    {
     "name": "csharp"
    }
   ]
  },
  "dotnet_interactive": {
   "defaultKernelName": "csharp",
   "items": [
    {
     "name": "csharp"
    }
   ]
  }
 },
 "nbformat": 4,
 "nbformat_minor": 5
}