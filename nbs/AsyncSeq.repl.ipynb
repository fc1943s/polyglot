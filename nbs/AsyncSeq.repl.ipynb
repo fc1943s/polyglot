{
 "cells": [
  {
   "cell_type": "markdown",
   "metadata": {
    "dotnet_repl_cellExecutionStartTime": "2023-07-20T19:44:06.5974862-03:00",
    "dotnet_repl_cellExecutionEndTime": "2023-07-20T19:44:06.6550665-03:00",
    "dotnet_repl_cellExecutionTime": "57.7476ms"
   },
   "source": [
    "# AsyncSeq (Polyglot)"
   ]
  },
  {
   "cell_type": "code",
   "execution_count": null,
   "metadata": {
    "dotnet_repl_cellExecutionStartTime": "2023-07-20T19:44:06.6577244-03:00",
    "dotnet_repl_cellExecutionEndTime": "2023-07-20T19:44:15.3447846-03:00",
    "dotnet_repl_cellExecutionTime": "8.6870618s",
    "dotnet_interactive": {
     "language": "fsharp"
    },
    "polyglot_notebook": {
     "kernelName": "fsharp"
    }
   },
   "outputs": [
    {
     "data": {
      "text/html": [
       "<div><div></div><div><strong>Installing Packages</strong><ul><li><span>Expecto</span></li></ul></div><div></div></div>"
      ]
     },
     "metadata": {},
     "output_type": "display_data"
    },
    {
     "data": {
      "text/html": [
       "<div><div></div><div><strong>Installing Packages</strong><ul><li><span>Expecto.</span></li></ul></div><div></div></div>"
      ]
     },
     "metadata": {},
     "output_type": "display_data"
    },
    {
     "data": {
      "text/html": [
       "<div><div></div><div><strong>Installing Packages</strong><ul><li><span>Expecto..</span></li></ul></div><div></div></div>"
      ]
     },
     "metadata": {},
     "output_type": "display_data"
    },
    {
     "data": {
      "text/html": [
       "<div><div></div><div><strong>Installing Packages</strong><ul><li><span>Expecto...</span></li></ul></div><div></div></div>"
      ]
     },
     "metadata": {},
     "output_type": "display_data"
    },
    {
     "data": {
      "text/html": [
       "<div><div></div><div><strong>Installing Packages</strong><ul><li><span>Expecto....</span></li></ul></div><div></div></div>"
      ]
     },
     "metadata": {},
     "output_type": "display_data"
    },
    {
     "data": {
      "text/html": [
       "<div><div></div><div><strong>Installing Packages</strong><ul><li><span>Expecto.....</span></li></ul></div><div></div></div>"
      ]
     },
     "metadata": {},
     "output_type": "display_data"
    },
    {
     "data": {
      "text/html": [
       "<div><div></div><div><strong>Installing Packages</strong><ul><li><span>Expecto......</span></li></ul></div><div></div></div>"
      ]
     },
     "metadata": {},
     "output_type": "display_data"
    },
    {
     "data": {
      "text/html": [
       "<div><div></div><div></div><div><strong>Installed Packages</strong><ul><li><span>Expecto, 10.1.0</span></li></ul></div></div>"
      ]
     },
     "metadata": {},
     "output_type": "display_data"
    }
   ],
   "source": [
    "#!import ../nbs/Testing.dib"
   ]
  },
  {
   "cell_type": "code",
   "execution_count": null,
   "metadata": {
    "dotnet_repl_cellExecutionStartTime": "2023-07-20T19:44:15.3448777-03:00",
    "dotnet_repl_cellExecutionEndTime": "2023-07-20T19:44:18.9535695-03:00",
    "dotnet_repl_cellExecutionTime": "3.6086936s",
    "dotnet_interactive": {
     "language": "fsharp"
    },
    "polyglot_notebook": {
     "kernelName": "fsharp"
    }
   },
   "outputs": [
    {
     "data": {
      "text/html": [
       "<div><div></div><div><strong>Installing Packages</strong><ul><li><span>FSharp.Control.AsyncSeq</span></li><li><span>System.Reactive</span></li><li><span>System.Reactive.Linq</span></li></ul></div><div></div></div>"
      ]
     },
     "metadata": {},
     "output_type": "display_data"
    },
    {
     "data": {
      "text/html": [
       "<div><div></div><div><strong>Installing Packages</strong><ul><li><span>FSharp.Control.AsyncSeq.</span></li><li><span>System.Reactive.</span></li><li><span>System.Reactive.Linq.</span></li></ul></div><div></div></div>"
      ]
     },
     "metadata": {},
     "output_type": "display_data"
    },
    {
     "data": {
      "text/html": [
       "<div><div></div><div><strong>Installing Packages</strong><ul><li><span>FSharp.Control.AsyncSeq..</span></li><li><span>System.Reactive..</span></li><li><span>System.Reactive.Linq..</span></li></ul></div><div></div></div>"
      ]
     },
     "metadata": {},
     "output_type": "display_data"
    },
    {
     "data": {
      "text/html": [
       "<div><div></div><div><strong>Installing Packages</strong><ul><li><span>FSharp.Control.AsyncSeq...</span></li><li><span>System.Reactive...</span></li><li><span>System.Reactive.Linq...</span></li></ul></div><div></div></div>"
      ]
     },
     "metadata": {},
     "output_type": "display_data"
    },
    {
     "data": {
      "text/html": [
       "<div><div></div><div><strong>Installing Packages</strong><ul><li><span>FSharp.Control.AsyncSeq....</span></li><li><span>System.Reactive....</span></li><li><span>System.Reactive.Linq....</span></li></ul></div><div></div></div>"
      ]
     },
     "metadata": {},
     "output_type": "display_data"
    },
    {
     "data": {
      "text/html": [
       "<div><div></div><div><strong>Installing Packages</strong><ul><li><span>FSharp.Control.AsyncSeq.....</span></li><li><span>System.Reactive.....</span></li><li><span>System.Reactive.Linq.....</span></li></ul></div><div></div></div>"
      ]
     },
     "metadata": {},
     "output_type": "display_data"
    },
    {
     "data": {
      "text/html": [
       "<div><div></div><div><strong>Installing Packages</strong><ul><li><span>FSharp.Control.AsyncSeq......</span></li><li><span>System.Reactive......</span></li><li><span>System.Reactive.Linq......</span></li></ul></div><div></div></div>"
      ]
     },
     "metadata": {},
     "output_type": "display_data"
    },
    {
     "data": {
      "text/html": [
       "<div><div></div><div><strong>Installing Packages</strong><ul><li><span>FSharp.Control.AsyncSeq.......</span></li><li><span>System.Reactive.......</span></li><li><span>System.Reactive.Linq.......</span></li></ul></div><div></div></div>"
      ]
     },
     "metadata": {},
     "output_type": "display_data"
    },
    {
     "data": {
      "text/html": [
       "<div><div></div><div></div><div><strong>Installed Packages</strong><ul><li><span>FSharp.Control.AsyncSeq, 3.2.1</span></li><li><span>System.Reactive, 5.0.0</span></li><li><span>System.Reactive.Linq, 6.0.0-preview.1</span></li></ul></div></div>"
      ]
     },
     "metadata": {},
     "output_type": "display_data"
    }
   ],
   "source": [
    "#r \"nuget:FSharp.Control.AsyncSeq\"\n",
    "#r \"nuget:System.Reactive,5.0.0\"\n",
    "#r \"nuget:System.Reactive.Linq,6.0.0-preview.1\""
   ]
  },
  {
   "cell_type": "code",
   "execution_count": null,
   "metadata": {
    "dotnet_repl_cellExecutionStartTime": "2023-07-20T19:44:18.9536055-03:00",
    "dotnet_repl_cellExecutionEndTime": "2023-07-20T19:44:19.537081-03:00",
    "dotnet_repl_cellExecutionTime": "583.4775ms",
    "dotnet_interactive": {
     "language": "fsharp"
    },
    "polyglot_notebook": {
     "kernelName": "fsharp"
    }
   },
   "outputs": [],
   "source": [
    "#!import ../nbs/Common.fs\n",
    "#!import ../nbs/Async.fs"
   ]
  },
  {
   "cell_type": "code",
   "execution_count": null,
   "metadata": {
    "dotnet_repl_cellExecutionStartTime": "2023-07-20T19:44:19.5371088-03:00",
    "dotnet_repl_cellExecutionEndTime": "2023-07-20T19:44:19.5419118-03:00",
    "dotnet_repl_cellExecutionTime": "4.8048ms",
    "dotnet_interactive": {
     "language": "fsharp"
    },
    "polyglot_notebook": {
     "kernelName": "fsharp"
    }
   },
   "outputs": [],
   "source": [
    "open Common"
   ]
  },
  {
   "cell_type": "markdown",
   "metadata": {
    "dotnet_repl_cellExecutionStartTime": "2023-07-20T19:44:19.5419654-03:00",
    "dotnet_repl_cellExecutionEndTime": "2023-07-20T19:44:19.5442326-03:00",
    "dotnet_repl_cellExecutionTime": "2.2698ms"
   },
   "source": [
    "## subscribeEvent"
   ]
  },
  {
   "cell_type": "code",
   "execution_count": null,
   "metadata": {
    "dotnet_repl_cellExecutionStartTime": "2023-07-20T19:44:19.5442777-03:00",
    "dotnet_repl_cellExecutionEndTime": "2023-07-20T19:44:19.6045029-03:00",
    "dotnet_repl_cellExecutionTime": "60.2271ms",
    "dotnet_interactive": {
     "language": "fsharp"
    },
    "polyglot_notebook": {
     "kernelName": "fsharp"
    }
   },
   "outputs": [],
   "source": [
    "let subscribeEvent (event: IEvent<'H, 'A>) map =\n",
    "    let observable = System.Reactive.Linq.Observable.FromEventPattern<'H, 'A>(event.AddHandler, event.RemoveHandler)\n",
    "    System.Reactive.Linq.Observable.Select (observable, fun event -> map event.EventArgs)\n",
    "    |> FSharp.Control.AsyncSeq.ofObservableBuffered"
   ]
  },
  {
   "cell_type": "code",
   "execution_count": null,
   "metadata": {
    "dotnet_repl_cellExecutionStartTime": "2023-07-20T19:44:19.6045456-03:00",
    "dotnet_repl_cellExecutionEndTime": "2023-07-20T19:44:19.8080956-03:00",
    "dotnet_repl_cellExecutionTime": "203.5522ms",
    "dotnet_interactive": {
     "language": "fsharp"
    },
    "polyglot_notebook": {
     "kernelName": "fsharp"
    }
   },
   "outputs": [],
   "source": [
    "//// test\n",
    "\n",
    "type TestEvent () as self =\n",
    "    member val Calls = [] with get, set\n",
    "    member val Event = Event<ErrorEventHandler, ErrorEventArgs> () with get\n",
    "\n",
    "    member _.AddCall text =\n",
    "        self.Calls <- self.Calls @ [ text ]\n",
    "\n",
    "    member _.EventInterface =\n",
    "        { new IEvent<ErrorEventHandler, ErrorEventArgs> with\n",
    "            member _.AddHandler handler =\n",
    "                self.AddCall \"AddHandler\"\n",
    "                self.Event.Publish.AddHandler handler\n",
    "\n",
    "            member _.RemoveHandler handler =\n",
    "                self.AddCall \"RemoveHandler\"\n",
    "                self.Event.Publish.RemoveHandler handler\n",
    "\n",
    "            member _.Subscribe observer =\n",
    "                self.AddCall \"IObservable.Subscribe\"\n",
    "                let disposable = self.Event.Publish.Subscribe observer\n",
    "                Object.newDisposable (fun () ->\n",
    "                    self.AddCall \"IObservable.Dispose\"\n",
    "                    disposable.Dispose ()\n",
    "                )\n",
    "        }\n",
    "\n",
    "    member _.Subscribe () =\n",
    "        subscribeEvent\n",
    "            self.EventInterface\n",
    "            (fun args ->\n",
    "                let result = args.GetException().Message\n",
    "                self.AddCall $\"TestEvent.Subscribe({result})\"\n",
    "                result\n",
    "            )\n",
    "\n",
    "    member _.Iter subscription =\n",
    "        subscription\n",
    "        |> FSharp.Control.AsyncSeq.iteriAsync (fun i message -> async {\n",
    "            self.AddCall $\"TestEvent.Iter({i}:{message})\"\n",
    "        })\n",
    "\n",
    "    member _.WaitCall text = async {\n",
    "        while self.Calls |> List.last <> text do\n",
    "            do! Async.SwitchToThreadPool ()\n",
    "    }"
   ]
  },
  {
   "cell_type": "code",
   "execution_count": null,
   "metadata": {
    "dotnet_repl_cellExecutionStartTime": "2023-07-20T19:44:19.8081352-03:00",
    "dotnet_repl_cellExecutionEndTime": "2023-07-20T19:44:20.0472079-03:00",
    "dotnet_repl_cellExecutionTime": "239.0741ms",
    "dotnet_interactive": {
     "language": "fsharp"
    },
    "polyglot_notebook": {
     "kernelName": "fsharp"
    }
   },
   "outputs": [
    {
     "name": "stdout",
     "output_type": "stream",
     "text": [
      "19:44:20 #1 [Debug] runWithTimeout / timeout: 100 / exception: The operation has timed out.\r\n",
      "<null>\r\n",
      "[ 1, AddHandler, 2, RemoveHandler ]\r\n"
     ]
    }
   ],
   "source": [
    "//// test\n",
    "\n",
    "let testEvent = TestEvent ()\n",
    "\n",
    "async {\n",
    "    testEvent.AddCall \"1\"\n",
    "    let! child = testEvent.Subscribe () |> testEvent.Iter |> Async.StartChild\n",
    "    do! testEvent.WaitCall \"AddHandler\"\n",
    "    testEvent.AddCall \"2\"\n",
    "    do! child\n",
    "    testEvent.AddCall \"3\"\n",
    "}\n",
    "|> Async.runWithTimeout 100\n",
    "|> _equal None\n",
    "\n",
    "testEvent.Calls\n",
    "|> Seq.toList\n",
    "|> _equal [ \"1\"; \"AddHandler\"; \"2\"; \"RemoveHandler\" ]"
   ]
  },
  {
   "cell_type": "code",
   "execution_count": null,
   "metadata": {
    "dotnet_repl_cellExecutionStartTime": "2023-07-20T19:44:20.0472459-03:00",
    "dotnet_repl_cellExecutionEndTime": "2023-07-20T19:44:20.2339384-03:00",
    "dotnet_repl_cellExecutionTime": "186.6937ms",
    "dotnet_interactive": {
     "language": "fsharp"
    },
    "polyglot_notebook": {
     "kernelName": "fsharp"
    }
   },
   "outputs": [
    {
     "name": "stdout",
     "output_type": "stream",
     "text": [
      "19:44:20 #2 [Debug] runWithTimeout / timeout: 100 / exception: The operation has timed out.\r\n",
      "<null>\r\n",
      "[ 1, AddHandler, 2, IObservable.Subscribe, 3, RemoveHandler, IObservable.Dispose ]\r\n"
     ]
    }
   ],
   "source": [
    "//// test\n",
    "\n",
    "let testEvent = TestEvent ()\n",
    "\n",
    "async {\n",
    "    testEvent.AddCall \"1\"\n",
    "    let! child = testEvent.Subscribe () |> testEvent.Iter |> Async.StartChild\n",
    "    do! testEvent.WaitCall \"AddHandler\"\n",
    "    testEvent.AddCall \"2\"\n",
    "    use _ = testEvent.EventInterface.Subscribe (fun args ->\n",
    "        testEvent.AddCall $\"testEvent.EventInterface.Subscribe({args})\"\n",
    "    )\n",
    "    testEvent.AddCall \"3\"\n",
    "    do! child\n",
    "    testEvent.AddCall \"4\"\n",
    "}\n",
    "|> Async.runWithTimeout 100\n",
    "|> _equal None\n",
    "\n",
    "testEvent.Calls\n",
    "|> _equal [ \"1\"; \"AddHandler\"; \"2\"; \"IObservable.Subscribe\"; \"3\"; \"RemoveHandler\"; \"IObservable.Dispose\" ]"
   ]
  },
  {
   "cell_type": "code",
   "execution_count": null,
   "metadata": {
    "dotnet_repl_cellExecutionStartTime": "2023-07-20T19:44:20.2339751-03:00",
    "dotnet_repl_cellExecutionEndTime": "2023-07-20T19:44:20.4384841-03:00",
    "dotnet_repl_cellExecutionTime": "204.5108ms",
    "dotnet_interactive": {
     "language": "fsharp"
    },
    "polyglot_notebook": {
     "kernelName": "fsharp"
    }
   },
   "outputs": [
    {
     "name": "stdout",
     "output_type": "stream",
     "text": [
      "19:44:20 #3 [Debug] runWithTimeout / timeout: 100 / exception: The operation has timed out.\r\n",
      "<null>\r\n",
      "[ 1, AddHandler, 2, IObservable.Subscribe, 3, TestEvent.Subscribe(error), TestEvent.Iter(0:error), testEvent.EventInterface.Subscribe(error), 4, RemoveHandler, IObservable.Dispose ]\r\n"
     ]
    }
   ],
   "source": [
    "//// test\n",
    "\n",
    "let testEvent = TestEvent ()\n",
    "\n",
    "async {\n",
    "    testEvent.AddCall \"1\"\n",
    "    let! child = testEvent.Subscribe () |> testEvent.Iter |> Async.StartChild\n",
    "    do! testEvent.WaitCall \"AddHandler\"\n",
    "    testEvent.AddCall \"2\"\n",
    "    use _ = testEvent.EventInterface.Subscribe (fun args ->\n",
    "        async {\n",
    "            do! testEvent.WaitCall \"TestEvent.Iter(0:error)\"\n",
    "            testEvent.AddCall $\"testEvent.EventInterface.Subscribe({args.GetException().Message})\"\n",
    "        }\n",
    "        |> Async.RunSynchronously\n",
    "    )\n",
    "    testEvent.AddCall \"3\"\n",
    "    testEvent.Event.Trigger (null, ErrorEventArgs (Exception \"error\"))\n",
    "    testEvent.AddCall \"4\"\n",
    "    do! child\n",
    "    testEvent.AddCall \"5\"\n",
    "}\n",
    "|> Async.runWithTimeout 100\n",
    "|> _equal None\n",
    "\n",
    "testEvent.Calls\n",
    "|> _equal [\n",
    "    \"1\"\n",
    "    \"AddHandler\"\n",
    "    \"2\"\n",
    "    \"IObservable.Subscribe\"\n",
    "    \"3\"\n",
    "    \"TestEvent.Subscribe(error)\"\n",
    "    \"TestEvent.Iter(0:error)\"\n",
    "    \"testEvent.EventInterface.Subscribe(error)\"\n",
    "    \"4\"\n",
    "    \"RemoveHandler\"\n",
    "    \"IObservable.Dispose\"\n",
    "]"
   ]
  }
 ],
 "metadata": {
  "kernelspec": {
   "display_name": ".NET (C#)",
   "language": "C#",
   "name": ".net-csharp"
  },
  "language_info": {
   "file_extension": ".cs",
   "mimetype": "text/x-csharp",
   "name": "C#",
   "pygments_lexer": "csharp",
   "version": "10.0"
  },
  "polyglot_notebook": {
   "defaultKernelName": "csharp",
   "items": [
    {
     "name": "csharp"
    }
   ]
  },
  "dotnet_interactive": {
   "defaultKernelName": "csharp",
   "items": [
    {
     "name": "csharp"
    }
   ]
  }
 },
 "nbformat": 4,
 "nbformat_minor": 5
}