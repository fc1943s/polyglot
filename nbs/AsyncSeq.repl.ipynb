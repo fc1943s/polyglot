{
 "cells": [
  {
   "cell_type": "markdown",
   "metadata": {
    "dotnet_repl_cellExecutionStartTime": "2023-07-24T17:24:01.8683015-03:00",
    "dotnet_repl_cellExecutionEndTime": "2023-07-24T17:24:01.9207196-03:00",
    "dotnet_repl_cellExecutionTime": "52.5599ms"
   },
   "source": [
    "# AsyncSeq (Polyglot)"
   ]
  },
  {
   "cell_type": "code",
   "execution_count": null,
   "metadata": {
    "dotnet_repl_cellExecutionStartTime": "2023-07-24T17:24:01.9229145-03:00",
    "dotnet_repl_cellExecutionEndTime": "2023-07-24T17:24:10.5577175-03:00",
    "dotnet_repl_cellExecutionTime": "8.6348048s",
    "dotnet_interactive": {
     "language": "fsharp"
    },
    "polyglot_notebook": {
     "kernelName": "fsharp"
    }
   },
   "outputs": [
    {
     "data": {
      "text/html": [
       "<div><div></div><div><strong>Installing Packages</strong><ul><li><span>Expecto</span></li></ul></div><div></div></div>"
      ]
     },
     "metadata": {},
     "output_type": "display_data"
    },
    {
     "data": {
      "text/html": [
       "<div><div></div><div><strong>Installing Packages</strong><ul><li><span>Expecto.</span></li></ul></div><div></div></div>"
      ]
     },
     "metadata": {},
     "output_type": "display_data"
    },
    {
     "data": {
      "text/html": [
       "<div><div></div><div><strong>Installing Packages</strong><ul><li><span>Expecto..</span></li></ul></div><div></div></div>"
      ]
     },
     "metadata": {},
     "output_type": "display_data"
    },
    {
     "data": {
      "text/html": [
       "<div><div></div><div><strong>Installing Packages</strong><ul><li><span>Expecto...</span></li></ul></div><div></div></div>"
      ]
     },
     "metadata": {},
     "output_type": "display_data"
    },
    {
     "data": {
      "text/html": [
       "<div><div></div><div><strong>Installing Packages</strong><ul><li><span>Expecto....</span></li></ul></div><div></div></div>"
      ]
     },
     "metadata": {},
     "output_type": "display_data"
    },
    {
     "data": {
      "text/html": [
       "<div><div></div><div><strong>Installing Packages</strong><ul><li><span>Expecto.....</span></li></ul></div><div></div></div>"
      ]
     },
     "metadata": {},
     "output_type": "display_data"
    },
    {
     "data": {
      "text/html": [
       "<div><div></div><div><strong>Installing Packages</strong><ul><li><span>Expecto......</span></li></ul></div><div></div></div>"
      ]
     },
     "metadata": {},
     "output_type": "display_data"
    },
    {
     "data": {
      "text/html": [
       "<div><div></div><div></div><div><strong>Installed Packages</strong><ul><li><span>Expecto, 10.1.0</span></li></ul></div></div>"
      ]
     },
     "metadata": {},
     "output_type": "display_data"
    }
   ],
   "source": [
    "#!import ../nbs/Testing.dib"
   ]
  },
  {
   "cell_type": "code",
   "execution_count": null,
   "metadata": {
    "dotnet_repl_cellExecutionStartTime": "2023-07-24T17:24:10.557827-03:00",
    "dotnet_repl_cellExecutionEndTime": "2023-07-24T17:24:14.2103519-03:00",
    "dotnet_repl_cellExecutionTime": "3.6525272s",
    "dotnet_interactive": {
     "language": "fsharp"
    },
    "polyglot_notebook": {
     "kernelName": "fsharp"
    }
   },
   "outputs": [
    {
     "data": {
      "text/html": [
       "<div><div></div><div><strong>Installing Packages</strong><ul><li><span>FSharp.Control.AsyncSeq</span></li><li><span>System.Reactive</span></li><li><span>System.Reactive.Linq</span></li></ul></div><div></div></div>"
      ]
     },
     "metadata": {},
     "output_type": "display_data"
    },
    {
     "data": {
      "text/html": [
       "<div><div></div><div><strong>Installing Packages</strong><ul><li><span>FSharp.Control.AsyncSeq.</span></li><li><span>System.Reactive.</span></li><li><span>System.Reactive.Linq.</span></li></ul></div><div></div></div>"
      ]
     },
     "metadata": {},
     "output_type": "display_data"
    },
    {
     "data": {
      "text/html": [
       "<div><div></div><div><strong>Installing Packages</strong><ul><li><span>FSharp.Control.AsyncSeq..</span></li><li><span>System.Reactive..</span></li><li><span>System.Reactive.Linq..</span></li></ul></div><div></div></div>"
      ]
     },
     "metadata": {},
     "output_type": "display_data"
    },
    {
     "data": {
      "text/html": [
       "<div><div></div><div><strong>Installing Packages</strong><ul><li><span>FSharp.Control.AsyncSeq...</span></li><li><span>System.Reactive...</span></li><li><span>System.Reactive.Linq...</span></li></ul></div><div></div></div>"
      ]
     },
     "metadata": {},
     "output_type": "display_data"
    },
    {
     "data": {
      "text/html": [
       "<div><div></div><div><strong>Installing Packages</strong><ul><li><span>FSharp.Control.AsyncSeq....</span></li><li><span>System.Reactive....</span></li><li><span>System.Reactive.Linq....</span></li></ul></div><div></div></div>"
      ]
     },
     "metadata": {},
     "output_type": "display_data"
    },
    {
     "data": {
      "text/html": [
       "<div><div></div><div><strong>Installing Packages</strong><ul><li><span>FSharp.Control.AsyncSeq.....</span></li><li><span>System.Reactive.....</span></li><li><span>System.Reactive.Linq.....</span></li></ul></div><div></div></div>"
      ]
     },
     "metadata": {},
     "output_type": "display_data"
    },
    {
     "data": {
      "text/html": [
       "<div><div></div><div><strong>Installing Packages</strong><ul><li><span>FSharp.Control.AsyncSeq......</span></li><li><span>System.Reactive......</span></li><li><span>System.Reactive.Linq......</span></li></ul></div><div></div></div>"
      ]
     },
     "metadata": {},
     "output_type": "display_data"
    },
    {
     "data": {
      "text/html": [
       "<div><div></div><div><strong>Installing Packages</strong><ul><li><span>FSharp.Control.AsyncSeq.......</span></li><li><span>System.Reactive.......</span></li><li><span>System.Reactive.Linq.......</span></li></ul></div><div></div></div>"
      ]
     },
     "metadata": {},
     "output_type": "display_data"
    },
    {
     "data": {
      "text/html": [
       "<div><div></div><div></div><div><strong>Installed Packages</strong><ul><li><span>FSharp.Control.AsyncSeq, 3.2.1</span></li><li><span>System.Reactive, 5.0.0</span></li><li><span>System.Reactive.Linq, 6.0.0-preview.1</span></li></ul></div></div>"
      ]
     },
     "metadata": {},
     "output_type": "display_data"
    }
   ],
   "source": [
    "#r \"nuget:FSharp.Control.AsyncSeq\"\n",
    "#r \"nuget:System.Reactive,5.0.0\"\n",
    "#r \"nuget:System.Reactive.Linq,6.0.0-preview.1\""
   ]
  },
  {
   "cell_type": "code",
   "execution_count": null,
   "metadata": {
    "dotnet_repl_cellExecutionStartTime": "2023-07-24T17:24:14.2103871-03:00",
    "dotnet_repl_cellExecutionEndTime": "2023-07-24T17:24:15.1412249-03:00",
    "dotnet_repl_cellExecutionTime": "930.8397ms",
    "dotnet_interactive": {
     "language": "fsharp"
    },
    "polyglot_notebook": {
     "kernelName": "fsharp"
    }
   },
   "outputs": [],
   "source": [
    "#!import ../nbs/Common.fs\n",
    "#!import ../nbs/Async.fs"
   ]
  },
  {
   "cell_type": "code",
   "execution_count": null,
   "metadata": {
    "dotnet_repl_cellExecutionStartTime": "2023-07-24T17:24:15.1412543-03:00",
    "dotnet_repl_cellExecutionEndTime": "2023-07-24T17:24:15.147104-03:00",
    "dotnet_repl_cellExecutionTime": "5.8516ms",
    "dotnet_interactive": {
     "language": "fsharp"
    },
    "polyglot_notebook": {
     "kernelName": "fsharp"
    }
   },
   "outputs": [],
   "source": [
    "open Common"
   ]
  },
  {
   "cell_type": "markdown",
   "metadata": {
    "dotnet_repl_cellExecutionStartTime": "2023-07-24T17:24:15.1471428-03:00",
    "dotnet_repl_cellExecutionEndTime": "2023-07-24T17:24:15.1501889-03:00",
    "dotnet_repl_cellExecutionTime": "3.0482ms"
   },
   "source": [
    "## subscribeEvent"
   ]
  },
  {
   "cell_type": "code",
   "execution_count": null,
   "metadata": {
    "dotnet_repl_cellExecutionStartTime": "2023-07-24T17:24:15.1502331-03:00",
    "dotnet_repl_cellExecutionEndTime": "2023-07-24T17:24:15.2017143-03:00",
    "dotnet_repl_cellExecutionTime": "51.4829ms",
    "dotnet_interactive": {
     "language": "fsharp"
    },
    "polyglot_notebook": {
     "kernelName": "fsharp"
    }
   },
   "outputs": [],
   "source": [
    "let subscribeEvent (event: IEvent<'H, 'A>) map =\n",
    "    let observable = System.Reactive.Linq.Observable.FromEventPattern<'H, 'A>(event.AddHandler, event.RemoveHandler)\n",
    "    System.Reactive.Linq.Observable.Select (observable, fun event -> map event.EventArgs)\n",
    "    |> FSharp.Control.AsyncSeq.ofObservableBuffered"
   ]
  },
  {
   "cell_type": "code",
   "execution_count": null,
   "metadata": {
    "dotnet_repl_cellExecutionStartTime": "2023-07-24T17:24:15.2017664-03:00",
    "dotnet_repl_cellExecutionEndTime": "2023-07-24T17:24:15.343563-03:00",
    "dotnet_repl_cellExecutionTime": "141.8072ms",
    "dotnet_interactive": {
     "language": "fsharp"
    },
    "polyglot_notebook": {
     "kernelName": "fsharp"
    }
   },
   "outputs": [],
   "source": [
    "//// test\n",
    "\n",
    "type TestEvent () as self =\n",
    "    member val Calls = [] with get, set\n",
    "    member val Event = Event<ErrorEventHandler, ErrorEventArgs> () with get\n",
    "\n",
    "    member _.AddCall text =\n",
    "        self.Calls <- self.Calls @ [ text ]\n",
    "\n",
    "    member _.EventInterface =\n",
    "        { new IEvent<ErrorEventHandler, ErrorEventArgs> with\n",
    "            member _.AddHandler handler =\n",
    "                self.AddCall \"AddHandler\"\n",
    "                self.Event.Publish.AddHandler handler\n",
    "\n",
    "            member _.RemoveHandler handler =\n",
    "                self.AddCall \"RemoveHandler\"\n",
    "                self.Event.Publish.RemoveHandler handler\n",
    "\n",
    "            member _.Subscribe observer =\n",
    "                self.AddCall \"IObservable.Subscribe\"\n",
    "                let disposable = self.Event.Publish.Subscribe observer\n",
    "                newDisposable (fun () ->\n",
    "                    self.AddCall \"IObservable.Dispose\"\n",
    "                    disposable.Dispose ()\n",
    "                )\n",
    "        }\n",
    "\n",
    "    member _.Subscribe () =\n",
    "        subscribeEvent\n",
    "            self.EventInterface\n",
    "            (fun args ->\n",
    "                let result = args.GetException().Message\n",
    "                self.AddCall $\"TestEvent.Subscribe({result})\"\n",
    "                result\n",
    "            )\n",
    "\n",
    "    member _.Iter subscription =\n",
    "        subscription\n",
    "        |> FSharp.Control.AsyncSeq.iteriAsync (fun i message -> async {\n",
    "            self.AddCall $\"TestEvent.Iter({i}:{message})\"\n",
    "        })\n",
    "\n",
    "    member _.WaitCall text = async {\n",
    "        while self.Calls |> List.last <> text do\n",
    "            do! Async.SwitchToThreadPool ()\n",
    "    }"
   ]
  },
  {
   "cell_type": "code",
   "execution_count": null,
   "metadata": {
    "dotnet_repl_cellExecutionStartTime": "2023-07-24T17:24:15.343602-03:00",
    "dotnet_repl_cellExecutionEndTime": "2023-07-24T17:24:15.7919667-03:00",
    "dotnet_repl_cellExecutionTime": "448.3657ms",
    "dotnet_interactive": {
     "language": "fsharp"
    },
    "polyglot_notebook": {
     "kernelName": "fsharp"
    }
   },
   "outputs": [
    {
     "name": "stdout",
     "output_type": "stream",
     "text": [
      "17:24:15 #1 [Debug] runWithTimeoutAsync / timeout: 300\r\n",
      "<null>\r\n",
      "[ 1, AddHandler, 2, RemoveHandler ]\r\n"
     ]
    }
   ],
   "source": [
    "//// test\n",
    "\n",
    "let testEvent = TestEvent ()\n",
    "\n",
    "async {\n",
    "    testEvent.AddCall \"1\"\n",
    "    let! child = testEvent.Subscribe () |> testEvent.Iter |> Async.StartChild\n",
    "    do! testEvent.WaitCall \"AddHandler\"\n",
    "    testEvent.AddCall \"2\"\n",
    "    do! child\n",
    "    testEvent.AddCall \"3\"\n",
    "}\n",
    "|> Async.runWithTimeout 300\n",
    "|> _equal None\n",
    "\n",
    "testEvent.Calls\n",
    "|> Seq.toList\n",
    "|> _equal [ \"1\"; \"AddHandler\"; \"2\"; \"RemoveHandler\" ]"
   ]
  },
  {
   "cell_type": "code",
   "execution_count": null,
   "metadata": {
    "dotnet_repl_cellExecutionStartTime": "2023-07-24T17:24:15.7920083-03:00",
    "dotnet_repl_cellExecutionEndTime": "2023-07-24T17:24:16.1930027-03:00",
    "dotnet_repl_cellExecutionTime": "400.9965ms",
    "dotnet_interactive": {
     "language": "fsharp"
    },
    "polyglot_notebook": {
     "kernelName": "fsharp"
    }
   },
   "outputs": [
    {
     "name": "stdout",
     "output_type": "stream",
     "text": [
      "17:24:16 #2 [Debug] runWithTimeoutAsync / timeout: 300\r\n",
      "<null>\r\n",
      "[ 1, AddHandler, 2, IObservable.Subscribe, 3, RemoveHandler, IObservable.Dispose ]\r\n"
     ]
    }
   ],
   "source": [
    "//// test\n",
    "\n",
    "let testEvent = TestEvent ()\n",
    "\n",
    "async {\n",
    "    testEvent.AddCall \"1\"\n",
    "    let! child = testEvent.Subscribe () |> testEvent.Iter |> Async.StartChild\n",
    "    do! testEvent.WaitCall \"AddHandler\"\n",
    "    testEvent.AddCall \"2\"\n",
    "    use _ = testEvent.EventInterface.Subscribe (fun args ->\n",
    "        testEvent.AddCall $\"testEvent.EventInterface.Subscribe({args})\"\n",
    "    )\n",
    "    testEvent.AddCall \"3\"\n",
    "    do! child\n",
    "    testEvent.AddCall \"4\"\n",
    "}\n",
    "|> Async.runWithTimeout 300\n",
    "|> _equal None\n",
    "\n",
    "testEvent.Calls\n",
    "|> _equal [ \"1\"; \"AddHandler\"; \"2\"; \"IObservable.Subscribe\"; \"3\"; \"RemoveHandler\"; \"IObservable.Dispose\" ]"
   ]
  },
  {
   "cell_type": "code",
   "execution_count": null,
   "metadata": {
    "dotnet_repl_cellExecutionStartTime": "2023-07-24T17:24:16.1930706-03:00",
    "dotnet_repl_cellExecutionEndTime": "2023-07-24T17:24:16.6449941-03:00",
    "dotnet_repl_cellExecutionTime": "451.9246ms",
    "dotnet_interactive": {
     "language": "fsharp"
    },
    "polyglot_notebook": {
     "kernelName": "fsharp"
    }
   },
   "outputs": [
    {
     "name": "stdout",
     "output_type": "stream",
     "text": [
      "17:24:16 #3 [Debug] runWithTimeoutAsync / timeout: 300\r\n",
      "<null>\r\n",
      "[ 1, AddHandler, 2, IObservable.Subscribe, 3, TestEvent.Subscribe(error), TestEvent.Iter(0:error), testEvent.EventInterface.Subscribe(error), 4, RemoveHandler, IObservable.Dispose ]\r\n"
     ]
    }
   ],
   "source": [
    "//// test\n",
    "\n",
    "let testEvent = TestEvent ()\n",
    "\n",
    "async {\n",
    "    testEvent.AddCall \"1\"\n",
    "    let! child = testEvent.Subscribe () |> testEvent.Iter |> Async.StartChild\n",
    "    do! testEvent.WaitCall \"AddHandler\"\n",
    "    testEvent.AddCall \"2\"\n",
    "    use _ = testEvent.EventInterface.Subscribe (fun args ->\n",
    "        async {\n",
    "            do! testEvent.WaitCall \"TestEvent.Iter(0:error)\"\n",
    "            testEvent.AddCall $\"testEvent.EventInterface.Subscribe({args.GetException().Message})\"\n",
    "        }\n",
    "        |> Async.RunSynchronously\n",
    "    )\n",
    "    testEvent.AddCall \"3\"\n",
    "    testEvent.Event.Trigger (null, ErrorEventArgs (Exception \"error\"))\n",
    "    testEvent.AddCall \"4\"\n",
    "    do! child\n",
    "    testEvent.AddCall \"5\"\n",
    "}\n",
    "|> Async.runWithTimeout 300\n",
    "|> _equal None\n",
    "\n",
    "testEvent.Calls\n",
    "|> _equal [\n",
    "    \"1\"\n",
    "    \"AddHandler\"\n",
    "    \"2\"\n",
    "    \"IObservable.Subscribe\"\n",
    "    \"3\"\n",
    "    \"TestEvent.Subscribe(error)\"\n",
    "    \"TestEvent.Iter(0:error)\"\n",
    "    \"testEvent.EventInterface.Subscribe(error)\"\n",
    "    \"4\"\n",
    "    \"RemoveHandler\"\n",
    "    \"IObservable.Dispose\"\n",
    "]"
   ]
  }
 ],
 "metadata": {
  "kernelspec": {
   "display_name": ".NET (C#)",
   "language": "C#",
   "name": ".net-csharp"
  },
  "language_info": {
   "file_extension": ".cs",
   "mimetype": "text/x-csharp",
   "name": "C#",
   "pygments_lexer": "csharp",
   "version": "10.0"
  },
  "polyglot_notebook": {
   "defaultKernelName": "csharp",
   "items": [
    {
     "name": "csharp"
    }
   ]
  },
  "dotnet_interactive": {
   "defaultKernelName": "csharp",
   "items": [
    {
     "name": "csharp"
    }
   ]
  }
 },
 "nbformat": 4,
 "nbformat_minor": 5
}