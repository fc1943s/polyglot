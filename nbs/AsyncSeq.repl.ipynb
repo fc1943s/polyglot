{
 "cells": [
  {
   "cell_type": "markdown",
   "metadata": {
    "dotnet_repl_cellExecutionStartTime": "2023-07-25T16:03:05.2942109-03:00",
    "dotnet_repl_cellExecutionEndTime": "2023-07-25T16:03:05.3481713-03:00",
    "dotnet_repl_cellExecutionTime": "54.089ms"
   },
   "source": [
    "# AsyncSeq (Polyglot)"
   ]
  },
  {
   "cell_type": "code",
   "execution_count": null,
   "metadata": {
    "dotnet_repl_cellExecutionStartTime": "2023-07-25T16:03:05.3502792-03:00",
    "dotnet_repl_cellExecutionEndTime": "2023-07-25T16:03:10.1460696-03:00",
    "dotnet_repl_cellExecutionTime": "4.7957953s",
    "dotnet_interactive": {
     "language": "fsharp"
    },
    "polyglot_notebook": {
     "kernelName": "fsharp"
    }
   },
   "outputs": [],
   "source": [
    "#!import ../nbs/Testing.dib"
   ]
  },
  {
   "cell_type": "code",
   "execution_count": null,
   "metadata": {
    "dotnet_repl_cellExecutionStartTime": "2023-07-25T16:03:10.1461376-03:00",
    "dotnet_repl_cellExecutionEndTime": "2023-07-25T16:03:10.1871424-03:00",
    "dotnet_repl_cellExecutionTime": "41.0101ms",
    "dotnet_interactive": {
     "language": "fsharp"
    },
    "polyglot_notebook": {
     "kernelName": "fsharp"
    }
   },
   "outputs": [],
   "source": [
    "// #r \"nuget:FSharp.Control.AsyncSeq,3.2.1\"\n",
    "// #r \"nuget:System.Reactive,5.0.0\"\n",
    "// #r \"nuget:System.Reactive.Linq,6.0.0-preview.1\"\n",
    "\n",
    "#r @\"../../../../../../../.nuget/packages/fsharp.control.asyncseq/3.2.1/lib/netstandard2.1/FSharp.Control.AsyncSeq.dll\"\n",
    "#r @\"../../../../../../../.nuget/packages/system.reactive/5.0.0/lib/net5.0/System.Reactive.dll\"\n",
    "#r @\"../../../../../../../.nuget/packages/system.reactive.linq/6.0.1-preview.1/lib/netstandard2.0/System.Reactive.Linq.dll\""
   ]
  },
  {
   "cell_type": "code",
   "execution_count": null,
   "metadata": {
    "dotnet_repl_cellExecutionStartTime": "2023-07-25T16:03:10.1871778-03:00",
    "dotnet_repl_cellExecutionEndTime": "2023-07-25T16:03:11.0165255-03:00",
    "dotnet_repl_cellExecutionTime": "829.3525ms",
    "dotnet_interactive": {
     "language": "fsharp"
    },
    "polyglot_notebook": {
     "kernelName": "fsharp"
    }
   },
   "outputs": [],
   "source": [
    "#!import ../nbs/Common.fs\n",
    "#!import ../nbs/Async.fs"
   ]
  },
  {
   "cell_type": "code",
   "execution_count": null,
   "metadata": {
    "dotnet_repl_cellExecutionStartTime": "2023-07-25T16:03:11.0165598-03:00",
    "dotnet_repl_cellExecutionEndTime": "2023-07-25T16:03:11.0233932-03:00",
    "dotnet_repl_cellExecutionTime": "6.8376ms",
    "dotnet_interactive": {
     "language": "fsharp"
    },
    "polyglot_notebook": {
     "kernelName": "fsharp"
    }
   },
   "outputs": [],
   "source": [
    "open Common"
   ]
  },
  {
   "cell_type": "markdown",
   "metadata": {
    "dotnet_repl_cellExecutionStartTime": "2023-07-25T16:03:11.0234343-03:00",
    "dotnet_repl_cellExecutionEndTime": "2023-07-25T16:03:11.0263083-03:00",
    "dotnet_repl_cellExecutionTime": "2.8785ms"
   },
   "source": [
    "## subscribeEvent"
   ]
  },
  {
   "cell_type": "code",
   "execution_count": null,
   "metadata": {
    "dotnet_repl_cellExecutionStartTime": "2023-07-25T16:03:11.0263466-03:00",
    "dotnet_repl_cellExecutionEndTime": "2023-07-25T16:03:11.09296-03:00",
    "dotnet_repl_cellExecutionTime": "66.618ms",
    "dotnet_interactive": {
     "language": "fsharp"
    },
    "polyglot_notebook": {
     "kernelName": "fsharp"
    }
   },
   "outputs": [],
   "source": [
    "let subscribeEvent (event: IEvent<'H, 'A>) map =\n",
    "    let observable = System.Reactive.Linq.Observable.FromEventPattern<'H, 'A>(event.AddHandler, event.RemoveHandler)\n",
    "    System.Reactive.Linq.Observable.Select (observable, fun event -> map event.EventArgs)\n",
    "    |> FSharp.Control.AsyncSeq.ofObservableBuffered"
   ]
  },
  {
   "cell_type": "code",
   "execution_count": null,
   "metadata": {
    "dotnet_repl_cellExecutionStartTime": "2023-07-25T16:03:11.0929952-03:00",
    "dotnet_repl_cellExecutionEndTime": "2023-07-25T16:03:11.2237467-03:00",
    "dotnet_repl_cellExecutionTime": "130.7558ms",
    "dotnet_interactive": {
     "language": "fsharp"
    },
    "polyglot_notebook": {
     "kernelName": "fsharp"
    }
   },
   "outputs": [],
   "source": [
    "//// test\n",
    "\n",
    "type TestEvent () as self =\n",
    "    member val Calls = [] with get, set\n",
    "    member val Event = Event<ErrorEventHandler, ErrorEventArgs> () with get\n",
    "\n",
    "    member _.AddCall text =\n",
    "        self.Calls <- self.Calls @ [ text ]\n",
    "\n",
    "    member _.EventInterface =\n",
    "        { new IEvent<ErrorEventHandler, ErrorEventArgs> with\n",
    "            member _.AddHandler handler =\n",
    "                self.AddCall \"AddHandler\"\n",
    "                self.Event.Publish.AddHandler handler\n",
    "\n",
    "            member _.RemoveHandler handler =\n",
    "                self.AddCall \"RemoveHandler\"\n",
    "                self.Event.Publish.RemoveHandler handler\n",
    "\n",
    "            member _.Subscribe observer =\n",
    "                self.AddCall \"IObservable.Subscribe\"\n",
    "                let disposable = self.Event.Publish.Subscribe observer\n",
    "                newDisposable (fun () ->\n",
    "                    self.AddCall \"IObservable.Dispose\"\n",
    "                    disposable.Dispose ()\n",
    "                )\n",
    "        }\n",
    "\n",
    "    member _.Subscribe () =\n",
    "        subscribeEvent\n",
    "            self.EventInterface\n",
    "            (fun args ->\n",
    "                let result = args.GetException () |> printException\n",
    "                self.AddCall $\"TestEvent.Subscribe({result})\"\n",
    "                result\n",
    "            )\n",
    "\n",
    "    member _.Iter subscription =\n",
    "        subscription\n",
    "        |> FSharp.Control.AsyncSeq.iteriAsync (fun i error -> async {\n",
    "            self.AddCall $\"TestEvent.Iter({i}: {error})\"\n",
    "        })\n",
    "\n",
    "    member _.WaitCall text = async {\n",
    "        while self.Calls |> List.last <> text do\n",
    "            do! Async.SwitchToThreadPool ()\n",
    "    }"
   ]
  },
  {
   "cell_type": "code",
   "execution_count": null,
   "metadata": {
    "dotnet_repl_cellExecutionStartTime": "2023-07-25T16:03:11.2237908-03:00",
    "dotnet_repl_cellExecutionEndTime": "2023-07-25T16:03:11.6656823-03:00",
    "dotnet_repl_cellExecutionTime": "441.8933ms",
    "dotnet_interactive": {
     "language": "fsharp"
    },
    "polyglot_notebook": {
     "kernelName": "fsharp"
    }
   },
   "outputs": [
    {
     "name": "stdout",
     "output_type": "stream",
     "text": [
      "16:03:11 #1 [Debug] runWithTimeoutAsync / timeout: 300\r\n",
      "<null>\r\n",
      "[ 1, AddHandler, 2, RemoveHandler ]\r\n"
     ]
    }
   ],
   "source": [
    "//// test\n",
    "\n",
    "let testEvent = TestEvent ()\n",
    "\n",
    "async {\n",
    "    testEvent.AddCall \"1\"\n",
    "    let! child = testEvent.Subscribe () |> testEvent.Iter |> Async.StartChild\n",
    "    do! testEvent.WaitCall \"AddHandler\"\n",
    "    testEvent.AddCall \"2\"\n",
    "    do! child\n",
    "    testEvent.AddCall \"3\"\n",
    "}\n",
    "|> Async.runWithTimeout 300\n",
    "|> _equal None\n",
    "\n",
    "testEvent.Calls\n",
    "|> Seq.toList\n",
    "|> _equal [ \"1\"; \"AddHandler\"; \"2\"; \"RemoveHandler\" ]"
   ]
  },
  {
   "cell_type": "code",
   "execution_count": null,
   "metadata": {
    "dotnet_repl_cellExecutionStartTime": "2023-07-25T16:03:11.6657145-03:00",
    "dotnet_repl_cellExecutionEndTime": "2023-07-25T16:03:12.0139571-03:00",
    "dotnet_repl_cellExecutionTime": "348.2444ms",
    "dotnet_interactive": {
     "language": "fsharp"
    },
    "polyglot_notebook": {
     "kernelName": "fsharp"
    }
   },
   "outputs": [
    {
     "name": "stdout",
     "output_type": "stream",
     "text": [
      "16:03:12 #2 [Debug] runWithTimeoutAsync / timeout: 300\r\n",
      "<null>\r\n",
      "[ 1, AddHandler, 2, IObservable.Subscribe, 3, RemoveHandler, IObservable.Dispose ]\r\n"
     ]
    }
   ],
   "source": [
    "//// test\n",
    "\n",
    "let testEvent = TestEvent ()\n",
    "\n",
    "async {\n",
    "    testEvent.AddCall \"1\"\n",
    "    let! child = testEvent.Subscribe () |> testEvent.Iter |> Async.StartChild\n",
    "    do! testEvent.WaitCall \"AddHandler\"\n",
    "    testEvent.AddCall \"2\"\n",
    "    use _ = testEvent.EventInterface.Subscribe (fun args ->\n",
    "        testEvent.AddCall $\"testEvent.EventInterface.Subscribe({args})\"\n",
    "    )\n",
    "    testEvent.AddCall \"3\"\n",
    "    do! child\n",
    "    testEvent.AddCall \"4\"\n",
    "}\n",
    "|> Async.runWithTimeout 300\n",
    "|> _equal None\n",
    "\n",
    "testEvent.Calls\n",
    "|> _equal [ \"1\"; \"AddHandler\"; \"2\"; \"IObservable.Subscribe\"; \"3\"; \"RemoveHandler\"; \"IObservable.Dispose\" ]"
   ]
  },
  {
   "cell_type": "code",
   "execution_count": null,
   "metadata": {
    "dotnet_repl_cellExecutionStartTime": "2023-07-25T16:03:12.0140175-03:00",
    "dotnet_repl_cellExecutionEndTime": "2023-07-25T16:03:12.3810569-03:00",
    "dotnet_repl_cellExecutionTime": "367.0413ms",
    "dotnet_interactive": {
     "language": "fsharp"
    },
    "polyglot_notebook": {
     "kernelName": "fsharp"
    }
   },
   "outputs": [
    {
     "name": "stdout",
     "output_type": "stream",
     "text": [
      "16:03:12 #3 [Debug] runWithTimeoutAsync / timeout: 300\r\n",
      "<null>\r\n",
      "[ 1, AddHandler, 2, IObservable.Subscribe, 3, TestEvent.Subscribe(System.Exception: error), TestEvent.Iter(0: System.Exception: error), testEvent.EventInterface.Subscribe(System.Exception: error), 4, RemoveHandler, IObservable.Dispose ]\r\n"
     ]
    }
   ],
   "source": [
    "//// test\n",
    "\n",
    "let testEvent = TestEvent ()\n",
    "\n",
    "async {\n",
    "    testEvent.AddCall \"1\"\n",
    "    let! child = testEvent.Subscribe () |> testEvent.Iter |> Async.StartChild\n",
    "    do! testEvent.WaitCall \"AddHandler\"\n",
    "    testEvent.AddCall \"2\"\n",
    "    use _ = testEvent.EventInterface.Subscribe (fun args ->\n",
    "        async {\n",
    "            do! testEvent.WaitCall \"TestEvent.Iter(0: System.Exception: error)\"\n",
    "            testEvent.AddCall $\"testEvent.EventInterface.Subscribe({args.GetException () |> printException})\"\n",
    "        }\n",
    "        |> Async.RunSynchronously\n",
    "    )\n",
    "    testEvent.AddCall \"3\"\n",
    "    testEvent.Event.Trigger (null, ErrorEventArgs (Exception \"error\"))\n",
    "    testEvent.AddCall \"4\"\n",
    "    do! child\n",
    "    testEvent.AddCall \"5\"\n",
    "}\n",
    "|> Async.runWithTimeout 300\n",
    "|> _equal None\n",
    "\n",
    "testEvent.Calls\n",
    "|> _equal [\n",
    "    \"1\"\n",
    "    \"AddHandler\"\n",
    "    \"2\"\n",
    "    \"IObservable.Subscribe\"\n",
    "    \"3\"\n",
    "    \"TestEvent.Subscribe(System.Exception: error)\"\n",
    "    \"TestEvent.Iter(0: System.Exception: error)\"\n",
    "    \"testEvent.EventInterface.Subscribe(System.Exception: error)\"\n",
    "    \"4\"\n",
    "    \"RemoveHandler\"\n",
    "    \"IObservable.Dispose\"\n",
    "]"
   ]
  }
 ],
 "metadata": {
  "kernelspec": {
   "display_name": ".NET (C#)",
   "language": "C#",
   "name": ".net-csharp"
  },
  "language_info": {
   "file_extension": ".cs",
   "mimetype": "text/x-csharp",
   "name": "C#",
   "pygments_lexer": "csharp",
   "version": "10.0"
  },
  "polyglot_notebook": {
   "defaultKernelName": "csharp",
   "items": [
    {
     "name": "csharp"
    }
   ]
  },
  "dotnet_interactive": {
   "defaultKernelName": "csharp",
   "items": [
    {
     "name": "csharp"
    }
   ]
  }
 },
 "nbformat": 4,
 "nbformat_minor": 5
}