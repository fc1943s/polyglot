{
 "cells": [
  {
   "cell_type": "markdown",
   "metadata": {
    "dotnet_repl_cellExecutionStartTime": "2023-07-30T02:41:20.282853-03:00",
    "dotnet_repl_cellExecutionEndTime": "2023-07-30T02:41:20.3380274-03:00",
    "dotnet_repl_cellExecutionTime": "55.4365ms"
   },
   "source": [
    "# Runtime (Polyglot)"
   ]
  },
  {
   "cell_type": "code",
   "execution_count": null,
   "metadata": {
    "dotnet_repl_cellExecutionStartTime": "2023-07-30T02:41:20.3410218-03:00",
    "dotnet_repl_cellExecutionEndTime": "2023-07-30T02:41:27.0803974-03:00",
    "dotnet_repl_cellExecutionTime": "6.7393791s",
    "dotnet_interactive": {
     "language": "fsharp"
    },
    "polyglot_notebook": {
     "kernelName": "fsharp"
    }
   },
   "outputs": [],
   "source": [
    "#!import ../nbs/Testing.dib"
   ]
  },
  {
   "cell_type": "code",
   "execution_count": null,
   "metadata": {
    "dotnet_repl_cellExecutionStartTime": "2023-07-30T02:41:27.0804502-03:00",
    "dotnet_repl_cellExecutionEndTime": "2023-07-30T02:41:27.1089757-03:00",
    "dotnet_repl_cellExecutionTime": "28.5305ms",
    "dotnet_interactive": {
     "language": "fsharp"
    },
    "polyglot_notebook": {
     "kernelName": "fsharp"
    }
   },
   "outputs": [],
   "source": [
    "#r @\"../../../../../../../.nuget/packages/fsharp.control.asyncseq/3.2.1/lib/netstandard2.1/FSharp.Control.AsyncSeq.dll\"\n",
    "#r @\"../../../../../../../.nuget/packages/system.reactive/5.0.0/lib/net5.0/System.Reactive.dll\"\n",
    "#r @\"../../../../../../../.nuget/packages/system.reactive.linq/6.0.1-preview.1/lib/netstandard2.0/System.Reactive.Linq.dll\""
   ]
  },
  {
   "cell_type": "code",
   "execution_count": null,
   "metadata": {
    "dotnet_repl_cellExecutionStartTime": "2023-07-30T02:41:27.1090228-03:00",
    "dotnet_repl_cellExecutionEndTime": "2023-07-30T02:41:31.6923647-03:00",
    "dotnet_repl_cellExecutionTime": "4.583345s",
    "dotnet_interactive": {
     "language": "fsharp"
    },
    "polyglot_notebook": {
     "kernelName": "fsharp"
    }
   },
   "outputs": [],
   "source": [
    "#!import ../nbs/Common.fs\n",
    "#!import ../nbs/Async.fs\n",
    "#!import ../nbs/AsyncSeq.fs\n",
    "#!import ../nbs/Runtime.fs\n",
    "#!import ../nbs/FileSystem.fs"
   ]
  },
  {
   "cell_type": "code",
   "execution_count": null,
   "metadata": {
    "dotnet_repl_cellExecutionStartTime": "2023-07-30T02:41:31.6924287-03:00",
    "dotnet_repl_cellExecutionEndTime": "2023-07-30T02:41:31.7015416-03:00",
    "dotnet_repl_cellExecutionTime": "9.1148ms",
    "dotnet_interactive": {
     "language": "fsharp"
    },
    "polyglot_notebook": {
     "kernelName": "fsharp"
    }
   },
   "outputs": [],
   "source": [
    "open Common"
   ]
  },
  {
   "cell_type": "code",
   "execution_count": null,
   "metadata": {
    "dotnet_repl_cellExecutionStartTime": "2023-07-30T02:41:31.7015821-03:00",
    "dotnet_repl_cellExecutionEndTime": "2023-07-30T02:41:31.7103858-03:00",
    "dotnet_repl_cellExecutionTime": "8.8055ms",
    "dotnet_interactive": {
     "language": "fsharp"
    },
    "polyglot_notebook": {
     "kernelName": "fsharp"
    }
   },
   "outputs": [],
   "source": [
    "//// test\n",
    "\n",
    "open FileSystem"
   ]
  },
  {
   "cell_type": "markdown",
   "metadata": {
    "dotnet_repl_cellExecutionStartTime": "2023-07-30T02:41:31.7104291-03:00",
    "dotnet_repl_cellExecutionEndTime": "2023-07-30T02:41:31.7136927-03:00",
    "dotnet_repl_cellExecutionTime": "3.2651ms"
   },
   "source": [
    "## isWindows"
   ]
  },
  {
   "cell_type": "code",
   "execution_count": null,
   "metadata": {
    "dotnet_repl_cellExecutionStartTime": "2023-07-30T02:41:31.7137247-03:00",
    "dotnet_repl_cellExecutionEndTime": "2023-07-30T02:41:31.7305904-03:00",
    "dotnet_repl_cellExecutionTime": "16.8675ms",
    "dotnet_interactive": {
     "language": "fsharp"
    },
    "polyglot_notebook": {
     "kernelName": "fsharp"
    }
   },
   "outputs": [],
   "source": [
    "let inline isWindows () =\n",
    "    System.Runtime.InteropServices.RuntimeInformation.IsOSPlatform System.Runtime.InteropServices.OSPlatform.Windows"
   ]
  },
  {
   "cell_type": "code",
   "execution_count": null,
   "metadata": {
    "dotnet_repl_cellExecutionStartTime": "2023-07-30T02:41:31.7306225-03:00",
    "dotnet_repl_cellExecutionEndTime": "2023-07-30T02:41:31.8434848-03:00",
    "dotnet_repl_cellExecutionTime": "112.8649ms",
    "dotnet_interactive": {
     "language": "fsharp"
    },
    "polyglot_notebook": {
     "kernelName": "fsharp"
    }
   },
   "outputs": [
    {
     "data": {
      "text/html": [
       "<div class=\"dni-plaintext\"><pre>True</pre></div><style>\r\n",
       ".dni-code-hint {\r\n",
       "    font-style: italic;\r\n",
       "    overflow: hidden;\r\n",
       "    white-space: nowrap;\r\n",
       "}\r\n",
       ".dni-treeview {\r\n",
       "    white-space: nowrap;\r\n",
       "}\r\n",
       ".dni-treeview td {\r\n",
       "    vertical-align: top;\r\n",
       "    text-align: start;\r\n",
       "}\r\n",
       "details.dni-treeview {\r\n",
       "    padding-left: 1em;\r\n",
       "}\r\n",
       "table td {\r\n",
       "    text-align: start;\r\n",
       "}\r\n",
       "table tr { \r\n",
       "    vertical-align: top; \r\n",
       "    margin: 0em 0px;\r\n",
       "}\r\n",
       "table tr td pre \r\n",
       "{ \r\n",
       "    vertical-align: top !important; \r\n",
       "    margin: 0em 0px !important;\r\n",
       "} \r\n",
       "table th {\r\n",
       "    text-align: start;\r\n",
       "}\r\n",
       "</style>"
      ]
     },
     "metadata": {},
     "output_type": "display_data"
    }
   ],
   "source": [
    "//// test\n",
    "\n",
    "isWindows ()"
   ]
  },
  {
   "cell_type": "markdown",
   "metadata": {
    "dotnet_repl_cellExecutionStartTime": "2023-07-30T02:41:31.8435283-03:00",
    "dotnet_repl_cellExecutionEndTime": "2023-07-30T02:41:31.847026-03:00",
    "dotnet_repl_cellExecutionTime": "3.4995ms"
   },
   "source": [
    "## splitCommand"
   ]
  },
  {
   "cell_type": "code",
   "execution_count": null,
   "metadata": {
    "dotnet_repl_cellExecutionStartTime": "2023-07-30T02:41:31.8470572-03:00",
    "dotnet_repl_cellExecutionEndTime": "2023-07-30T02:41:31.9268007-03:00",
    "dotnet_repl_cellExecutionTime": "79.7469ms",
    "dotnet_interactive": {
     "language": "fsharp"
    },
    "polyglot_notebook": {
     "kernelName": "fsharp"
    }
   },
   "outputs": [],
   "source": [
    "type private CommandParseStep =\n",
    "    | Start\n",
    "    | Path of quoted: bool\n",
    "    | Arguments\n",
    "\n",
    "let splitCommand (command: string) =\n",
    "    let rec loop (path, args) chars step =\n",
    "        match chars, step with\n",
    "        | ('\"' | '\\'') :: tail, _ when path = \"\" -> loop (path, args) tail (Path true)\n",
    "        | ('\"' | '\\'') :: tail, Path true -> loop (path, args) tail (Path false)\n",
    "        | ' ' :: tail, Path true -> loop ($\"{path} \", args) tail (Path true)\n",
    "        | ' ' :: tail, (Start | Path _) -> loop (path, args) tail Arguments\n",
    "        | char :: tail, Arguments -> loop (path, $\"{args}{char}\") tail Arguments\n",
    "        | char :: tail, _ -> loop ($\"{path}{char}\", args) tail step\n",
    "        | _, _ -> path |> String.replace @\"\\\" \"/\", args\n",
    "    let path, args = loop (\"\", \"\") (command |> Seq.toList) Start\n",
    "    let workingDirectory, fileName =\n",
    "        if path |> String.startsWith \"./\" || path |> String.contains \"/\"\n",
    "        then path |> System.IO.Path.GetDirectoryName |> String.replace @\"\\\" \"/\", System.IO.Path.GetFileName path\n",
    "        else \".\", path\n",
    "    workingDirectory, fileName, args"
   ]
  },
  {
   "cell_type": "code",
   "execution_count": null,
   "metadata": {
    "dotnet_repl_cellExecutionStartTime": "2023-07-30T02:41:31.9268438-03:00",
    "dotnet_repl_cellExecutionEndTime": "2023-07-30T02:41:32.0521208-03:00",
    "dotnet_repl_cellExecutionTime": "125.2796ms",
    "dotnet_interactive": {
     "language": "fsharp"
    },
    "polyglot_notebook": {
     "kernelName": "fsharp"
    }
   },
   "outputs": [
    {
     "name": "stdout",
     "output_type": "stream",
     "text": [
      "( ., ,  )\r\n",
      "( /a/b, c,  )\r\n",
      "( ., cat, file.txt )\r\n",
      "( ../.., file.exe, file1.txt file2.txt )\r\n",
      "( c:/dir, file.exe, \"file1.txt file2.txt\" )\r\n",
      "( ../../dir name, file.exe, \"file 1.txt\" file2.txt )\r\n",
      "( ../.., file 1.exe, -c \\\\\"echo 1\\\\\" )\r\n",
      "( ../.., file, 1.exe -c \\\\\"echo 1\\\\\" )\r\n"
     ]
    }
   ],
   "source": [
    "//// test\n",
    "\n",
    "splitCommand \"\"\n",
    "|> _equal (\".\", \"\", \"\")\n",
    "\n",
    "splitCommand \"/a/b/c\"\n",
    "|> _equal (\"/a/b\", \"c\", \"\")\n",
    "\n",
    "splitCommand \"cat file.txt\"\n",
    "|> _equal (\".\", \"cat\", \"file.txt\")\n",
    "\n",
    "splitCommand @\"..\\..\\file.exe file1.txt file2.txt\"\n",
    "|> _equal (\"../..\", \"file.exe\", \"file1.txt file2.txt\")\n",
    "\n",
    "splitCommand @\"c:\\dir\\file.exe \"\"file1.txt file2.txt\"\"\"\n",
    "|> _equal (@\"c:/dir\", \"file.exe\", @\"\"\"file1.txt file2.txt\"\"\")\n",
    "\n",
    "splitCommand @\"\"\"..\\..\\dir name\\file.exe\"\" \"\"file 1.txt\"\" file2.txt\"\n",
    "|> _equal (\"../../dir name\", \"file.exe\", @\"\"\"file 1.txt\"\" file2.txt\")\n",
    "\n",
    "splitCommand @\"\"\"..\\..\\file 1.exe\"\" -c \\\\\"\"echo 1\\\\\"\"\"\n",
    "|> _equal (\"../..\", \"file 1.exe\", @\"-c \\\\\"\"echo 1\\\\\"\"\")\n",
    "\n",
    "splitCommand @\"..\\..\\file 1.exe -c \\\\\"\"echo 1\\\\\"\"\"\n",
    "|> _equal (\"../..\", \"file\", @\"1.exe -c \\\\\"\"echo 1\\\\\"\"\")"
   ]
  },
  {
   "cell_type": "markdown",
   "metadata": {
    "dotnet_repl_cellExecutionStartTime": "2023-07-30T02:41:32.0521826-03:00",
    "dotnet_repl_cellExecutionEndTime": "2023-07-30T02:41:32.0562623-03:00",
    "dotnet_repl_cellExecutionTime": "4.0835ms"
   },
   "source": [
    "## executeAsync"
   ]
  },
  {
   "cell_type": "code",
   "execution_count": null,
   "metadata": {
    "dotnet_repl_cellExecutionStartTime": "2023-07-30T02:41:32.0563129-03:00",
    "dotnet_repl_cellExecutionEndTime": "2023-07-30T02:41:32.6077802-03:00",
    "dotnet_repl_cellExecutionTime": "551.4692ms",
    "dotnet_interactive": {
     "language": "fsharp"
    },
    "polyglot_notebook": {
     "kernelName": "fsharp"
    }
   },
   "outputs": [],
   "source": [
    "type ExecutionLine =\n",
    "    {\n",
    "        ProcessId : int\n",
    "        Line : string\n",
    "        Error : bool\n",
    "    }\n",
    "\n",
    "type ExecutionOptions =\n",
    "    {\n",
    "        Command : string\n",
    "        CancellationToken : System.Threading.CancellationToken option\n",
    "        OnLine : (ExecutionLine -> Async<unit>) option\n",
    "    }\n",
    "\n",
    "let inline executeWithOptionsAsync (options : ExecutionOptions) = async {\n",
    "    let workingDirectory, fileName, arguments = options.Command |> splitCommand\n",
    "    let getLocals () = $\"workingDirectory: {workingDirectory} / fileName: {fileName} / arguments: {arguments} / {getLocals ()}\"\n",
    "    \n",
    "    let startInfo = System.Diagnostics.ProcessStartInfo (\n",
    "        WorkingDirectory = workingDirectory,\n",
    "        FileName = fileName,\n",
    "        Arguments = arguments,\n",
    "        RedirectStandardOutput = true,\n",
    "        RedirectStandardError = true,\n",
    "        UseShellExecute = false,\n",
    "        CreateNoWindow = true\n",
    "    )\n",
    "\n",
    "    use proc = new System.Diagnostics.Process (StartInfo = startInfo)\n",
    "    let output = System.Collections.Concurrent.ConcurrentStack<string> ()\n",
    "\n",
    "    let inline event error (e: System.Diagnostics.DataReceivedEventArgs) = async {\n",
    "        if e.Data <> null then\n",
    "            match options.OnLine with\n",
    "            | Some onLine ->\n",
    "                do!\n",
    "                    onLine\n",
    "                        {\n",
    "                            ProcessId = proc.Id\n",
    "                            Line = e.Data\n",
    "                            Error = error\n",
    "                        }\n",
    "            | None -> ()\n",
    "\n",
    "            trace\n",
    "                (if error then Error else Debug)\n",
    "                (fun () -> $\"{if error then 'E' else ' '}{proc.Id}: {e.Data}\")\n",
    "                Common.getLocals\n",
    "\n",
    "            output.Push\n",
    "                $\"{\n",
    "                    if error then '['.ToString() else System.String.Empty\n",
    "                }{\n",
    "                    e.Data\n",
    "                }{\n",
    "                    if error then ']'.ToString() else System.String.Empty\n",
    "                }\"\n",
    "    }\n",
    "\n",
    "    proc.OutputDataReceived.Add (event false >> Async.StartImmediate)\n",
    "    proc.ErrorDataReceived.Add (event true >> Async.StartImmediate)\n",
    "\n",
    "    trace Debug (fun () -> $\"executeAsync\") getLocals\n",
    "\n",
    "    if proc.Start () |> not\n",
    "    then failwith $\"executeAsync / proc.Start() error\"\n",
    "\n",
    "    proc.BeginErrorReadLine ()\n",
    "    proc.BeginOutputReadLine ()\n",
    "\n",
    "    let! ct =\n",
    "        options.CancellationToken\n",
    "        |> Option.map Async.init\n",
    "        |> Option.defaultValue Async.CancellationToken\n",
    "\n",
    "    use reg = ct.Register (fun _ ->\n",
    "        if not proc.HasExited then proc.Kill ()\n",
    "    )\n",
    "\n",
    "    let! exitCode = async {\n",
    "        try\n",
    "            do! proc.WaitForExitAsync ct |> Async.AwaitTask\n",
    "            return proc.ExitCode\n",
    "        with :? System.Threading.Tasks.TaskCanceledException as ex ->\n",
    "            trace Warn (fun () -> $\"executeAsync / WaitForExitAsync / ex: {ex |> printException}\") getLocals\n",
    "            ex |> printException |> output.Push\n",
    "            return System.Int32.MinValue\n",
    "    }\n",
    "\n",
    "    let output = output |> Seq.rev |> String.concat System.Environment.NewLine\n",
    "\n",
    "    trace Debug (fun () -> $\"executeAsync / exitCode: {exitCode} / output.Length: {output.Length}\") getLocals\n",
    "\n",
    "    return exitCode, output\n",
    "}\n",
    "\n",
    "let inline executeAsync command =\n",
    "    executeWithOptionsAsync\n",
    "        {\n",
    "            Command = command\n",
    "            CancellationToken = None\n",
    "            OnLine = None\n",
    "        }"
   ]
  },
  {
   "cell_type": "code",
   "execution_count": null,
   "metadata": {
    "dotnet_repl_cellExecutionStartTime": "2023-07-30T02:41:32.6078132-03:00",
    "dotnet_repl_cellExecutionEndTime": "2023-07-30T02:41:35.8378833-03:00",
    "dotnet_repl_cellExecutionTime": "3.2300726s",
    "dotnet_interactive": {
     "language": "fsharp"
    },
    "polyglot_notebook": {
     "kernelName": "fsharp"
    }
   },
   "outputs": [
    {
     "name": "stdout",
     "output_type": "stream",
     "text": [
      "02:41:33 #1 [Debug] createTempDirectory / tempFolder: C:\\Users\\i574n\\AppData\\Local\\Temp\\!dotnet-repl\\20230730-0241-3318-1862-1a103632cbaf / result: { CreationTime = 2023-07-30 2:41:33 AM\n",
      "  Exists = true }\r\n",
      "02:41:33 #2 [Debug] executeAsync / workingDirectory: . / fileName: pwsh / arguments: -c \"Get-Content C:\\Users\\i574n\\AppData\\Local\\Temp\\!dotnet-repl\\20230730-0241-3318-1862-1a103632cbaf\\test.txt\"\r\n",
      "02:41:34 #3 [Error] E1824: \u001B[31;1mGet-Content: \u001B[31;1mCannot find path 'C:\\Users\\i574n\\AppData\\Local\\Temp\\!dotnet-repl\\20230730-0241-3318-1862-1a103632cbaf\\test.txt' because it does not exist.\u001B[0m\r\n",
      "02:41:34 #4 [Debug] executeAsync / exitCode: 1 / output.Length: 171 / workingDirectory: . / fileName: pwsh / arguments: -c \"Get-Content C:\\Users\\i574n\\AppData\\Local\\Temp\\!dotnet-repl\\20230730-0241-3318-1862-1a103632cbaf\\test.txt\"\r\n",
      "1\r\n",
      "[\u001B[31;1mGet-Content: \u001B[31;1mCannot find path 'C:\\Users\\i574n\\AppData\\Local\\Temp\\!dotnet-repl\\20230730-0241-3318-1862-1a103632cbaf\\test.txt' because it does not exist.\u001B[0m]\r\n",
      "02:41:34 #5 [Debug] executeAsync / workingDirectory: . / fileName: pwsh / arguments: -c \"Get-Content C:\\Users\\i574n\\AppData\\Local\\Temp\\!dotnet-repl\\20230730-0241-3318-1862-1a103632cbaf\\test.txt\"\r\n",
      "02:41:35 #6 [Debug]  8492: 0\r\n",
      "02:41:35 #7 [Debug] executeAsync / exitCode: 0 / output.Length: 1 / workingDirectory: . / fileName: pwsh / arguments: -c \"Get-Content C:\\Users\\i574n\\AppData\\Local\\Temp\\!dotnet-repl\\20230730-0241-3318-1862-1a103632cbaf\\test.txt\"\r\n",
      "0\r\n",
      "0\r\n",
      "True\r\n"
     ]
    }
   ],
   "source": [
    "//// test\n",
    "\n",
    "let tempFolder = FileSystem.createTempDirectory ()\n",
    "let path = tempFolder </> \"test.txt\"\n",
    "\n",
    "let command = @$\"pwsh -c \"\"Get-Content {path}\"\"\"\n",
    "\n",
    "async {\n",
    "    let! exitCode, result = executeAsync command\n",
    "    exitCode |> _equal 1\n",
    "    result |> _stringContains \"not exist\"\n",
    "\n",
    "    do! File.WriteAllTextAsync (path, \"0\") |> Async.AwaitTask\n",
    "\n",
    "    return! executeAsync command\n",
    "    \n",
    "}\n",
    "|> Async.runWithTimeout 10000\n",
    "|> function\n",
    "    | Some (exitCode, output) ->\n",
    "        exitCode |> _equal 0\n",
    "        output |> _equal \"0\"\n",
    "\n",
    "        true\n",
    "    | _ -> false\n",
    "|> _equal true"
   ]
  },
  {
   "cell_type": "code",
   "execution_count": null,
   "metadata": {
    "dotnet_repl_cellExecutionStartTime": "2023-07-30T02:41:35.8381337-03:00",
    "dotnet_repl_cellExecutionEndTime": "2023-07-30T02:41:36.5459268-03:00",
    "dotnet_repl_cellExecutionTime": "707.7967ms",
    "dotnet_interactive": {
     "language": "fsharp"
    },
    "polyglot_notebook": {
     "kernelName": "fsharp"
    }
   },
   "outputs": [
    {
     "name": "stdout",
     "output_type": "stream",
     "text": [
      "02:41:36 #8 [Debug] createTempDirectory / tempFolder: C:\\Users\\i574n\\AppData\\Local\\Temp\\!dotnet-repl\\20230730-0241-3637-3779-3e0866ab25f6 / result: { CreationTime = 2023-07-30 2:41:36 AM\n",
      "  Exists = true }\r\n",
      "02:41:36 #9 [Debug] 1\r\n",
      "02:41:36 #10 [Debug] 2\r\n",
      "02:41:36 #11 [Debug] executeAsync / workingDirectory: . / fileName: pwsh / arguments: -c \"Get-Content C:\\Users\\i574n\\AppData\\Local\\Temp\\!dotnet-repl\\20230730-0241-3637-3779-3e0866ab25f6\\test.txt\"\r\n",
      "02:41:36 #12 [Debug] 3\r\n",
      "02:41:36 #13 [Debug] 4\r\n",
      "02:41:36 #14 [Warn] executeAsync / WaitForExitAsync / ex: System.Threading.Tasks.TaskCanceledException: A task was canceled. / workingDirectory: . / fileName: pwsh / arguments: -c \"Get-Content C:\\Users\\i574n\\AppData\\Local\\Temp\\!dotnet-repl\\20230730-0241-3637-3779-3e0866ab25f6\\test.txt\"\r\n",
      "02:41:36 #15 [Debug] executeAsync / exitCode: -2147483648 / output.Length: 66 / workingDirectory: . / fileName: pwsh / arguments: -c \"Get-Content C:\\Users\\i574n\\AppData\\Local\\Temp\\!dotnet-repl\\20230730-0241-3637-3779-3e0866ab25f6\\test.txt\"\r\n",
      "02:41:36 #16 [Debug] 5\r\n",
      "-2147483648\r\n",
      "System.Threading.Tasks.TaskCanceledException: A task was canceled.\r\n",
      "True\r\n"
     ]
    }
   ],
   "source": [
    "//// test\n",
    "\n",
    "let tempFolder = FileSystem.createTempDirectory ()\n",
    "let path = tempFolder </> \"test.txt\"\n",
    "\n",
    "let command = @$\"pwsh -c \"\"Get-Content {path}\"\"\"\n",
    "\n",
    "async {\n",
    "    do! File.WriteAllTextAsync (path, \"0\") |> Async.AwaitTask\n",
    "    let cts = new System.Threading.CancellationTokenSource ()\n",
    "    trace Debug (fun () -> $\"1\") getLocals\n",
    "    let! result =\n",
    "        executeWithOptionsAsync\n",
    "            {\n",
    "                Command = command\n",
    "                CancellationToken = Some cts.Token\n",
    "                OnLine = None\n",
    "            }\n",
    "        |> Async.StartChild\n",
    "    trace Debug (fun () -> $\"2\") getLocals\n",
    "    do! Async.Sleep 100\n",
    "    trace Debug (fun () -> $\"3\") getLocals\n",
    "    cts.Cancel ()\n",
    "    trace Debug (fun () -> $\"4\") getLocals\n",
    "    let! exitCode, output = result\n",
    "    trace Debug (fun () -> $\"5\") getLocals\n",
    "    return exitCode, output\n",
    "}\n",
    "|> Async.runWithTimeout 10000\n",
    "|> function\n",
    "    | Some (exitCode, output) ->\n",
    "        exitCode |> _equal -2147483648\n",
    "        output |> _equal \"System.Threading.Tasks.TaskCanceledException: A task was canceled.\"\n",
    "\n",
    "        true\n",
    "    | _ -> false\n",
    "|> _equal true"
   ]
  }
 ],
 "metadata": {
  "kernelspec": {
   "display_name": ".NET (C#)",
   "language": "C#",
   "name": ".net-csharp"
  },
  "language_info": {
   "file_extension": ".cs",
   "mimetype": "text/x-csharp",
   "name": "C#",
   "pygments_lexer": "csharp",
   "version": "10.0"
  },
  "polyglot_notebook": {
   "defaultKernelName": "csharp",
   "items": [
    {
     "name": "csharp"
    }
   ]
  },
  "dotnet_interactive": {
   "defaultKernelName": "csharp",
   "items": [
    {
     "name": "csharp"
    }
   ]
  }
 },
 "nbformat": 4,
 "nbformat_minor": 5
}