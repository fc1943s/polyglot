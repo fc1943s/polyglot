{
 "cells": [
  {
   "cell_type": "markdown",
   "metadata": {
    "dotnet_repl_cellExecutionStartTime": "2023-07-29T04:43:03.6219322-03:00",
    "dotnet_repl_cellExecutionEndTime": "2023-07-29T04:43:03.6777808-03:00",
    "dotnet_repl_cellExecutionTime": "56.0164ms"
   },
   "source": [
    "# Runtime (Polyglot)"
   ]
  },
  {
   "cell_type": "code",
   "execution_count": null,
   "metadata": {
    "dotnet_repl_cellExecutionStartTime": "2023-07-29T04:43:03.6805601-03:00",
    "dotnet_repl_cellExecutionEndTime": "2023-07-29T04:43:08.3953617-03:00",
    "dotnet_repl_cellExecutionTime": "4.7148053s",
    "dotnet_interactive": {
     "language": "fsharp"
    },
    "polyglot_notebook": {
     "kernelName": "fsharp"
    }
   },
   "outputs": [],
   "source": [
    "#!import ../nbs/Testing.dib"
   ]
  },
  {
   "cell_type": "code",
   "execution_count": null,
   "metadata": {
    "dotnet_repl_cellExecutionStartTime": "2023-07-29T04:43:08.3954323-03:00",
    "dotnet_repl_cellExecutionEndTime": "2023-07-29T04:43:08.4145094-03:00",
    "dotnet_repl_cellExecutionTime": "19.0804ms",
    "dotnet_interactive": {
     "language": "fsharp"
    },
    "polyglot_notebook": {
     "kernelName": "fsharp"
    }
   },
   "outputs": [],
   "source": [
    "#r @\"../../../../../../../.nuget/packages/fsharp.control.asyncseq/3.2.1/lib/netstandard2.1/FSharp.Control.AsyncSeq.dll\"\n",
    "#r @\"../../../../../../../.nuget/packages/system.reactive/5.0.0/lib/net5.0/System.Reactive.dll\"\n",
    "#r @\"../../../../../../../.nuget/packages/system.reactive.linq/6.0.1-preview.1/lib/netstandard2.0/System.Reactive.Linq.dll\""
   ]
  },
  {
   "cell_type": "code",
   "execution_count": null,
   "metadata": {
    "dotnet_repl_cellExecutionStartTime": "2023-07-29T04:43:08.4145408-03:00",
    "dotnet_repl_cellExecutionEndTime": "2023-07-29T04:43:11.7917592-03:00",
    "dotnet_repl_cellExecutionTime": "3.377223s",
    "dotnet_interactive": {
     "language": "fsharp"
    },
    "polyglot_notebook": {
     "kernelName": "fsharp"
    }
   },
   "outputs": [],
   "source": [
    "#!import ../nbs/Common.fs\n",
    "#!import ../nbs/Async.fs\n",
    "#!import ../nbs/AsyncSeq.fs\n",
    "#!import ../nbs/Runtime.fs\n",
    "#!import ../nbs/FileSystem.fs"
   ]
  },
  {
   "cell_type": "code",
   "execution_count": null,
   "metadata": {
    "dotnet_repl_cellExecutionStartTime": "2023-07-29T04:43:11.7917914-03:00",
    "dotnet_repl_cellExecutionEndTime": "2023-07-29T04:43:11.7998971-03:00",
    "dotnet_repl_cellExecutionTime": "8.1101ms",
    "dotnet_interactive": {
     "language": "fsharp"
    },
    "polyglot_notebook": {
     "kernelName": "fsharp"
    }
   },
   "outputs": [],
   "source": [
    "open Common"
   ]
  },
  {
   "cell_type": "code",
   "execution_count": null,
   "metadata": {
    "dotnet_repl_cellExecutionStartTime": "2023-07-29T04:43:11.7999303-03:00",
    "dotnet_repl_cellExecutionEndTime": "2023-07-29T04:43:11.8080755-03:00",
    "dotnet_repl_cellExecutionTime": "8.1505ms",
    "dotnet_interactive": {
     "language": "fsharp"
    },
    "polyglot_notebook": {
     "kernelName": "fsharp"
    }
   },
   "outputs": [],
   "source": [
    "//// test\n",
    "\n",
    "open FileSystem"
   ]
  },
  {
   "cell_type": "markdown",
   "metadata": {
    "dotnet_repl_cellExecutionStartTime": "2023-07-29T04:43:11.8081127-03:00",
    "dotnet_repl_cellExecutionEndTime": "2023-07-29T04:43:11.8108531-03:00",
    "dotnet_repl_cellExecutionTime": "2.7445ms"
   },
   "source": [
    "## isWindows"
   ]
  },
  {
   "cell_type": "code",
   "execution_count": null,
   "metadata": {
    "dotnet_repl_cellExecutionStartTime": "2023-07-29T04:43:11.8108822-03:00",
    "dotnet_repl_cellExecutionEndTime": "2023-07-29T04:43:11.8217988-03:00",
    "dotnet_repl_cellExecutionTime": "10.9218ms",
    "dotnet_interactive": {
     "language": "fsharp"
    },
    "polyglot_notebook": {
     "kernelName": "fsharp"
    }
   },
   "outputs": [],
   "source": [
    "let inline isWindows () =\n",
    "    System.Runtime.InteropServices.RuntimeInformation.IsOSPlatform System.Runtime.InteropServices.OSPlatform.Windows"
   ]
  },
  {
   "cell_type": "code",
   "execution_count": null,
   "metadata": {
    "dotnet_repl_cellExecutionStartTime": "2023-07-29T04:43:11.8218389-03:00",
    "dotnet_repl_cellExecutionEndTime": "2023-07-29T04:43:11.918214-03:00",
    "dotnet_repl_cellExecutionTime": "96.3799ms",
    "dotnet_interactive": {
     "language": "fsharp"
    },
    "polyglot_notebook": {
     "kernelName": "fsharp"
    }
   },
   "outputs": [
    {
     "data": {
      "text/html": [
       "<div class=\"dni-plaintext\"><pre>True</pre></div><style>\r\n",
       ".dni-code-hint {\r\n",
       "    font-style: italic;\r\n",
       "    overflow: hidden;\r\n",
       "    white-space: nowrap;\r\n",
       "}\r\n",
       ".dni-treeview {\r\n",
       "    white-space: nowrap;\r\n",
       "}\r\n",
       ".dni-treeview td {\r\n",
       "    vertical-align: top;\r\n",
       "    text-align: start;\r\n",
       "}\r\n",
       "details.dni-treeview {\r\n",
       "    padding-left: 1em;\r\n",
       "}\r\n",
       "table td {\r\n",
       "    text-align: start;\r\n",
       "}\r\n",
       "table tr { \r\n",
       "    vertical-align: top; \r\n",
       "    margin: 0em 0px;\r\n",
       "}\r\n",
       "table tr td pre \r\n",
       "{ \r\n",
       "    vertical-align: top !important; \r\n",
       "    margin: 0em 0px !important;\r\n",
       "} \r\n",
       "table th {\r\n",
       "    text-align: start;\r\n",
       "}\r\n",
       "</style>"
      ]
     },
     "metadata": {},
     "output_type": "display_data"
    }
   ],
   "source": [
    "//// test\n",
    "\n",
    "isWindows ()"
   ]
  },
  {
   "cell_type": "markdown",
   "metadata": {
    "dotnet_repl_cellExecutionStartTime": "2023-07-29T04:43:11.9182667-03:00",
    "dotnet_repl_cellExecutionEndTime": "2023-07-29T04:43:11.9205524-03:00",
    "dotnet_repl_cellExecutionTime": "2.2912ms"
   },
   "source": [
    "## splitCommand"
   ]
  },
  {
   "cell_type": "code",
   "execution_count": null,
   "metadata": {
    "dotnet_repl_cellExecutionStartTime": "2023-07-29T04:43:11.9205893-03:00",
    "dotnet_repl_cellExecutionEndTime": "2023-07-29T04:43:11.9822775-03:00",
    "dotnet_repl_cellExecutionTime": "61.6922ms",
    "dotnet_interactive": {
     "language": "fsharp"
    },
    "polyglot_notebook": {
     "kernelName": "fsharp"
    }
   },
   "outputs": [],
   "source": [
    "type private CommandParseStep =\n",
    "    | Start\n",
    "    | Path of quoted: bool\n",
    "    | Arguments\n",
    "\n",
    "let splitCommand (command: string) =\n",
    "    let rec loop (path, args) chars step =\n",
    "        match chars, step with\n",
    "        | ('\"' | '\\'') :: tail, _ when path = \"\" -> loop (path, args) tail (Path true)\n",
    "        | ('\"' | '\\'') :: tail, Path true -> loop (path, args) tail (Path false)\n",
    "        | ' ' :: tail, Path true -> loop ($\"{path} \", args) tail (Path true)\n",
    "        | ' ' :: tail, (Start | Path _) -> loop (path, args) tail Arguments\n",
    "        | char :: tail, Arguments -> loop (path, $\"{args}{char}\") tail Arguments\n",
    "        | char :: tail, _ -> loop ($\"{path}{char}\", args) tail step\n",
    "        | _, _ -> path |> String.replace @\"\\\" \"/\", args\n",
    "    let path, args = loop (\"\", \"\") (command |> Seq.toList) Start\n",
    "    let workingDirectory, fileName =\n",
    "        if path |> String.startsWith \"./\" || path |> String.contains \"/\"\n",
    "        then path |> System.IO.Path.GetDirectoryName |> String.replace @\"\\\" \"/\", System.IO.Path.GetFileName path\n",
    "        else \".\", path\n",
    "    workingDirectory, fileName, args"
   ]
  },
  {
   "cell_type": "code",
   "execution_count": null,
   "metadata": {
    "dotnet_repl_cellExecutionStartTime": "2023-07-29T04:43:11.9823086-03:00",
    "dotnet_repl_cellExecutionEndTime": "2023-07-29T04:43:12.0802119-03:00",
    "dotnet_repl_cellExecutionTime": "97.9071ms",
    "dotnet_interactive": {
     "language": "fsharp"
    },
    "polyglot_notebook": {
     "kernelName": "fsharp"
    }
   },
   "outputs": [
    {
     "name": "stdout",
     "output_type": "stream",
     "text": [
      "( ., ,  )\r\n",
      "( /a/b, c,  )\r\n",
      "( ., cat, file.txt )\r\n",
      "( ../.., file.exe, file1.txt file2.txt )\r\n",
      "( c:/dir, file.exe, \"file1.txt file2.txt\" )\r\n",
      "( ../../dir name, file.exe, \"file 1.txt\" file2.txt )\r\n",
      "( ../.., file 1.exe, -c \\\\\"echo 1\\\\\" )\r\n",
      "( ../.., file, 1.exe -c \\\\\"echo 1\\\\\" )\r\n"
     ]
    }
   ],
   "source": [
    "//// test\n",
    "\n",
    "splitCommand \"\"\n",
    "|> _equal (\".\", \"\", \"\")\n",
    "\n",
    "splitCommand \"/a/b/c\"\n",
    "|> _equal (\"/a/b\", \"c\", \"\")\n",
    "\n",
    "splitCommand \"cat file.txt\"\n",
    "|> _equal (\".\", \"cat\", \"file.txt\")\n",
    "\n",
    "splitCommand @\"..\\..\\file.exe file1.txt file2.txt\"\n",
    "|> _equal (\"../..\", \"file.exe\", \"file1.txt file2.txt\")\n",
    "\n",
    "splitCommand @\"c:\\dir\\file.exe \"\"file1.txt file2.txt\"\"\"\n",
    "|> _equal (@\"c:/dir\", \"file.exe\", @\"\"\"file1.txt file2.txt\"\"\")\n",
    "\n",
    "splitCommand @\"\"\"..\\..\\dir name\\file.exe\"\" \"\"file 1.txt\"\" file2.txt\"\n",
    "|> _equal (\"../../dir name\", \"file.exe\", @\"\"\"file 1.txt\"\" file2.txt\")\n",
    "\n",
    "splitCommand @\"\"\"..\\..\\file 1.exe\"\" -c \\\\\"\"echo 1\\\\\"\"\"\n",
    "|> _equal (\"../..\", \"file 1.exe\", @\"-c \\\\\"\"echo 1\\\\\"\"\")\n",
    "\n",
    "splitCommand @\"..\\..\\file 1.exe -c \\\\\"\"echo 1\\\\\"\"\"\n",
    "|> _equal (\"../..\", \"file\", @\"1.exe -c \\\\\"\"echo 1\\\\\"\"\")"
   ]
  },
  {
   "cell_type": "markdown",
   "metadata": {
    "dotnet_repl_cellExecutionStartTime": "2023-07-29T04:43:12.0802524-03:00",
    "dotnet_repl_cellExecutionEndTime": "2023-07-29T04:43:12.0825642-03:00",
    "dotnet_repl_cellExecutionTime": "2.3183ms"
   },
   "source": [
    "## executeAsync"
   ]
  },
  {
   "cell_type": "code",
   "execution_count": null,
   "metadata": {
    "dotnet_repl_cellExecutionStartTime": "2023-07-29T04:43:12.0825931-03:00",
    "dotnet_repl_cellExecutionEndTime": "2023-07-29T04:43:12.5083023-03:00",
    "dotnet_repl_cellExecutionTime": "425.7127ms",
    "dotnet_interactive": {
     "language": "fsharp"
    },
    "polyglot_notebook": {
     "kernelName": "fsharp"
    }
   },
   "outputs": [],
   "source": [
    "type ExecutionLine =\n",
    "    {\n",
    "        ProcessId : int\n",
    "        Line : string\n",
    "        Error : bool\n",
    "    }\n",
    "\n",
    "type ExecutionOptions =\n",
    "    {\n",
    "        Command : string\n",
    "        CancellationToken : System.Threading.CancellationToken option\n",
    "        OnLine : (ExecutionLine -> Async<unit>) option\n",
    "    }\n",
    "\n",
    "let inline executeWithOptionsAsync (options : ExecutionOptions) = async {\n",
    "    let workingDirectory, fileName, arguments = options.Command |> splitCommand\n",
    "    let getLocals () = $\"workingDirectory: {workingDirectory} / fileName: {fileName} / arguments: {arguments} / {getLocals ()}\"\n",
    "    \n",
    "    let startInfo = System.Diagnostics.ProcessStartInfo (\n",
    "        WorkingDirectory = workingDirectory,\n",
    "        FileName = fileName,\n",
    "        Arguments = arguments,\n",
    "        RedirectStandardOutput = true,\n",
    "        RedirectStandardError = true,\n",
    "        UseShellExecute = false,\n",
    "        CreateNoWindow = true\n",
    "    )\n",
    "\n",
    "    use proc = new System.Diagnostics.Process (StartInfo = startInfo)\n",
    "    let output = System.Collections.Concurrent.ConcurrentStack<string> ()\n",
    "\n",
    "    let inline event error (e: System.Diagnostics.DataReceivedEventArgs) = async {\n",
    "        if e.Data <> null then\n",
    "            match options.OnLine with\n",
    "            | Some onLine ->\n",
    "                do!\n",
    "                    onLine\n",
    "                        {\n",
    "                            ProcessId = proc.Id\n",
    "                            Line = e.Data\n",
    "                            Error = error\n",
    "                        }\n",
    "            | None -> ()\n",
    "\n",
    "            trace\n",
    "                (if error then Error else Debug)\n",
    "                (fun () -> $\"{if error then 'E' else ' '}{proc.Id}: {e.Data}\")\n",
    "                getLocals\n",
    "\n",
    "            output.Push\n",
    "                $\"{\n",
    "                    if error then '['.ToString() else System.String.Empty\n",
    "                }{\n",
    "                    e.Data\n",
    "                }{\n",
    "                    if error then ']'.ToString() else System.String.Empty\n",
    "                }\"\n",
    "    }\n",
    "\n",
    "    proc.OutputDataReceived.Add (event false >> Async.StartImmediate)\n",
    "    proc.ErrorDataReceived.Add (event true >> Async.StartImmediate)\n",
    "\n",
    "    trace Debug (fun () -> $\"executeAsync\") getLocals\n",
    "\n",
    "    if proc.Start () |> not\n",
    "    then failwith $\"executeAsync / proc.Start() error\"\n",
    "\n",
    "    proc.BeginErrorReadLine ()\n",
    "    proc.BeginOutputReadLine ()\n",
    "\n",
    "    let! ct =\n",
    "        options.CancellationToken\n",
    "        |> Option.map Async.init\n",
    "        |> Option.defaultValue Async.CancellationToken\n",
    "\n",
    "    use reg = ct.Register (fun _ ->\n",
    "        if not proc.HasExited then proc.Kill ()\n",
    "    )\n",
    "\n",
    "    let! exitCode = async {\n",
    "        try\n",
    "            do! proc.WaitForExitAsync ct |> Async.AwaitTask\n",
    "            return proc.ExitCode\n",
    "        with :? System.Threading.Tasks.TaskCanceledException as ex ->\n",
    "            trace Warn (fun () -> $\"executeAsync / WaitForExitAsync / ex: {ex |> printException}\") getLocals\n",
    "            ex |> printException |> output.Push\n",
    "            return System.Int32.MinValue\n",
    "    }\n",
    "\n",
    "    let output = output |> Seq.rev |> String.concat System.Environment.NewLine\n",
    "\n",
    "    trace Debug (fun () -> $\"executeAsync / exitCode: {exitCode} / output.Length: {output.Length}\") getLocals\n",
    "\n",
    "    return exitCode, output\n",
    "}\n",
    "\n",
    "let inline executeAsync command =\n",
    "    executeWithOptionsAsync\n",
    "        {\n",
    "            Command = command\n",
    "            CancellationToken = None\n",
    "            OnLine = None\n",
    "        }"
   ]
  },
  {
   "cell_type": "code",
   "execution_count": null,
   "metadata": {
    "dotnet_repl_cellExecutionStartTime": "2023-07-29T04:43:12.5083344-03:00",
    "dotnet_repl_cellExecutionEndTime": "2023-07-29T04:43:14.6787424-03:00",
    "dotnet_repl_cellExecutionTime": "2.1704104s",
    "dotnet_interactive": {
     "language": "fsharp"
    },
    "polyglot_notebook": {
     "kernelName": "fsharp"
    }
   },
   "outputs": [
    {
     "name": "stdout",
     "output_type": "stream",
     "text": [
      "04:43:12 #1 [Debug] createTempDirectory / tempFolder: C:\\Users\\i574n\\AppData\\Local\\Temp\\!dotnet-repl\\20230729-0443-1294-9416-9513ba0d695e / result: { CreationTime = 2023-07-29 4:43:12 AM\n",
      "  Exists = true }\r\n",
      "04:43:12 #2 [Debug] executeAsync / workingDirectory: . / fileName: pwsh / arguments: -c \"Get-Content C:\\Users\\i574n\\AppData\\Local\\Temp\\!dotnet-repl\\20230729-0443-1294-9416-9513ba0d695e\\test.txt\"\r\n",
      "04:43:13 #3 [Error] E20772: \u001B[31;1mGet-Content: \u001B[31;1mCannot find path 'C:\\Users\\i574n\\AppData\\Local\\Temp\\!dotnet-repl\\20230729-0443-1294-9416-9513ba0d695e\\test.txt' because it does not exist.\u001B[0m / workingDirectory: . / fileName: pwsh / arguments: -c \"Get-Content C:\\Users\\i574n\\AppData\\Local\\Temp\\!dotnet-repl\\20230729-0443-1294-9416-9513ba0d695e\\test.txt\"\r\n",
      "04:43:14 #4 [Debug] executeAsync / exitCode: 1 / output.Length: 171 / workingDirectory: . / fileName: pwsh / arguments: -c \"Get-Content C:\\Users\\i574n\\AppData\\Local\\Temp\\!dotnet-repl\\20230729-0443-1294-9416-9513ba0d695e\\test.txt\"\r\n",
      "1\r\n",
      "[\u001B[31;1mGet-Content: \u001B[31;1mCannot find path 'C:\\Users\\i574n\\AppData\\Local\\Temp\\!dotnet-repl\\20230729-0443-1294-9416-9513ba0d695e\\test.txt' because it does not exist.\u001B[0m]\r\n",
      "04:43:14 #5 [Debug] executeAsync / workingDirectory: . / fileName: pwsh / arguments: -c \"Get-Content C:\\Users\\i574n\\AppData\\Local\\Temp\\!dotnet-repl\\20230729-0443-1294-9416-9513ba0d695e\\test.txt\"\r\n",
      "04:43:14 #6 [Debug]  30228: 0 / workingDirectory: . / fileName: pwsh / arguments: -c \"Get-Content C:\\Users\\i574n\\AppData\\Local\\Temp\\!dotnet-repl\\20230729-0443-1294-9416-9513ba0d695e\\test.txt\"\r\n",
      "04:43:14 #7 [Debug] executeAsync / exitCode: 0 / output.Length: 1 / workingDirectory: . / fileName: pwsh / arguments: -c \"Get-Content C:\\Users\\i574n\\AppData\\Local\\Temp\\!dotnet-repl\\20230729-0443-1294-9416-9513ba0d695e\\test.txt\"\r\n",
      "0\r\n",
      "0\r\n",
      "True\r\n"
     ]
    }
   ],
   "source": [
    "//// test\n",
    "\n",
    "let tempFolder = FileSystem.createTempDirectory ()\n",
    "let path = tempFolder </> \"test.txt\"\n",
    "\n",
    "let command = @$\"pwsh -c \"\"Get-Content {path}\"\"\"\n",
    "\n",
    "async {\n",
    "    let! exitCode, result = executeAsync command\n",
    "    exitCode |> _equal 1\n",
    "    result |> _stringContains \"not exist\"\n",
    "\n",
    "    do! File.WriteAllTextAsync (path, \"0\") |> Async.AwaitTask\n",
    "\n",
    "    return! executeAsync command\n",
    "    \n",
    "}\n",
    "|> Async.runWithTimeout 10000\n",
    "|> function\n",
    "    | Some (exitCode, output) ->\n",
    "        exitCode |> _equal 0\n",
    "        output |> _equal \"0\"\n",
    "\n",
    "        true\n",
    "    | _ -> false\n",
    "|> _equal true"
   ]
  },
  {
   "cell_type": "code",
   "execution_count": null,
   "metadata": {
    "dotnet_repl_cellExecutionStartTime": "2023-07-29T04:43:14.678781-03:00",
    "dotnet_repl_cellExecutionEndTime": "2023-07-29T04:43:15.1318175-03:00",
    "dotnet_repl_cellExecutionTime": "453.0397ms",
    "dotnet_interactive": {
     "language": "fsharp"
    },
    "polyglot_notebook": {
     "kernelName": "fsharp"
    }
   },
   "outputs": [
    {
     "name": "stdout",
     "output_type": "stream",
     "text": [
      "04:43:14 #8 [Debug] createTempDirectory / tempFolder: C:\\Users\\i574n\\AppData\\Local\\Temp\\!dotnet-repl\\20230729-0443-1499-9904-9b082af3b6c8 / result: { CreationTime = 2023-07-29 4:43:14 AM\n",
      "  Exists = true }\r\n",
      "04:43:15 #9 [Debug] 1\r\n",
      "04:43:15 #10 [Debug] 2\r\n",
      "04:43:15 #11 [Debug] executeAsync / workingDirectory: . / fileName: pwsh / arguments: -c \"Get-Content C:\\Users\\i574n\\AppData\\Local\\Temp\\!dotnet-repl\\20230729-0443-1499-9904-9b082af3b6c8\\test.txt\"\r\n",
      "04:43:15 #12 [Debug] 3\r\n",
      "04:43:15 #13 [Debug] 4\r\n",
      "04:43:15 #14 [Warn] executeAsync / WaitForExitAsync / ex: System.Threading.Tasks.TaskCanceledException: A task was canceled. / workingDirectory: . / fileName: pwsh / arguments: -c \"Get-Content C:\\Users\\i574n\\AppData\\Local\\Temp\\!dotnet-repl\\20230729-0443-1499-9904-9b082af3b6c8\\test.txt\"\r\n",
      "04:43:15 #15 [Debug] executeAsync / exitCode: -2147483648 / output.Length: 66 / workingDirectory: . / fileName: pwsh / arguments: -c \"Get-Content C:\\Users\\i574n\\AppData\\Local\\Temp\\!dotnet-repl\\20230729-0443-1499-9904-9b082af3b6c8\\test.txt\"\r\n",
      "04:43:15 #16 [Debug] 5\r\n",
      "-2147483648\r\n",
      "System.Threading.Tasks.TaskCanceledException: A task was canceled.\r\n",
      "True\r\n"
     ]
    }
   ],
   "source": [
    "//// test\n",
    "\n",
    "let tempFolder = FileSystem.createTempDirectory ()\n",
    "let path = tempFolder </> \"test.txt\"\n",
    "\n",
    "let command = @$\"pwsh -c \"\"Get-Content {path}\"\"\"\n",
    "\n",
    "async {\n",
    "    do! File.WriteAllTextAsync (path, \"0\") |> Async.AwaitTask\n",
    "    let cts = new System.Threading.CancellationTokenSource ()\n",
    "    trace Debug (fun () -> $\"1\") getLocals\n",
    "    let! result =\n",
    "        executeWithOptionsAsync\n",
    "            {\n",
    "                Command = command\n",
    "                CancellationToken = Some cts.Token\n",
    "                OnLine = None\n",
    "            }\n",
    "        |> Async.StartChild\n",
    "    trace Debug (fun () -> $\"2\") getLocals\n",
    "    do! Async.Sleep 100\n",
    "    trace Debug (fun () -> $\"3\") getLocals\n",
    "    cts.Cancel ()\n",
    "    trace Debug (fun () -> $\"4\") getLocals\n",
    "    let! exitCode, output = result\n",
    "    trace Debug (fun () -> $\"5\") getLocals\n",
    "    return exitCode, output\n",
    "}\n",
    "|> Async.runWithTimeout 10000\n",
    "|> function\n",
    "    | Some (exitCode, output) ->\n",
    "        exitCode |> _equal -2147483648\n",
    "        output |> _equal \"System.Threading.Tasks.TaskCanceledException: A task was canceled.\"\n",
    "\n",
    "        true\n",
    "    | _ -> false\n",
    "|> _equal true"
   ]
  }
 ],
 "metadata": {
  "kernelspec": {
   "display_name": ".NET (C#)",
   "language": "C#",
   "name": ".net-csharp"
  },
  "language_info": {
   "file_extension": ".cs",
   "mimetype": "text/x-csharp",
   "name": "C#",
   "pygments_lexer": "csharp",
   "version": "10.0"
  },
  "polyglot_notebook": {
   "defaultKernelName": "csharp",
   "items": [
    {
     "name": "csharp"
    }
   ]
  },
  "dotnet_interactive": {
   "defaultKernelName": "csharp",
   "items": [
    {
     "name": "csharp"
    }
   ]
  }
 },
 "nbformat": 4,
 "nbformat_minor": 5
}