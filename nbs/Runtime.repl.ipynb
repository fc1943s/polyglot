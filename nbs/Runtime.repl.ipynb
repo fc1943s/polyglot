{
 "cells": [
  {
   "cell_type": "markdown",
   "metadata": {
    "dotnet_repl_cellExecutionStartTime": "2023-07-24T17:25:42.2985055-03:00",
    "dotnet_repl_cellExecutionEndTime": "2023-07-24T17:25:42.3599582-03:00",
    "dotnet_repl_cellExecutionTime": "61.5967ms"
   },
   "source": [
    "# Runtime (Polyglot)"
   ]
  },
  {
   "cell_type": "code",
   "execution_count": null,
   "metadata": {
    "dotnet_repl_cellExecutionStartTime": "2023-07-24T17:25:42.3625374-03:00",
    "dotnet_repl_cellExecutionEndTime": "2023-07-24T17:25:51.3709184-03:00",
    "dotnet_repl_cellExecutionTime": "9.0083829s",
    "dotnet_interactive": {
     "language": "fsharp"
    },
    "polyglot_notebook": {
     "kernelName": "fsharp"
    }
   },
   "outputs": [
    {
     "data": {
      "text/html": [
       "<div><div></div><div><strong>Installing Packages</strong><ul><li><span>Expecto</span></li></ul></div><div></div></div>"
      ]
     },
     "metadata": {},
     "output_type": "display_data"
    },
    {
     "data": {
      "text/html": [
       "<div><div></div><div><strong>Installing Packages</strong><ul><li><span>Expecto.</span></li></ul></div><div></div></div>"
      ]
     },
     "metadata": {},
     "output_type": "display_data"
    },
    {
     "data": {
      "text/html": [
       "<div><div></div><div><strong>Installing Packages</strong><ul><li><span>Expecto..</span></li></ul></div><div></div></div>"
      ]
     },
     "metadata": {},
     "output_type": "display_data"
    },
    {
     "data": {
      "text/html": [
       "<div><div></div><div><strong>Installing Packages</strong><ul><li><span>Expecto...</span></li></ul></div><div></div></div>"
      ]
     },
     "metadata": {},
     "output_type": "display_data"
    },
    {
     "data": {
      "text/html": [
       "<div><div></div><div><strong>Installing Packages</strong><ul><li><span>Expecto....</span></li></ul></div><div></div></div>"
      ]
     },
     "metadata": {},
     "output_type": "display_data"
    },
    {
     "data": {
      "text/html": [
       "<div><div></div><div><strong>Installing Packages</strong><ul><li><span>Expecto.....</span></li></ul></div><div></div></div>"
      ]
     },
     "metadata": {},
     "output_type": "display_data"
    },
    {
     "data": {
      "text/html": [
       "<div><div></div><div><strong>Installing Packages</strong><ul><li><span>Expecto......</span></li></ul></div><div></div></div>"
      ]
     },
     "metadata": {},
     "output_type": "display_data"
    },
    {
     "data": {
      "text/html": [
       "<div><div></div><div></div><div><strong>Installed Packages</strong><ul><li><span>Expecto, 10.1.0</span></li></ul></div></div>"
      ]
     },
     "metadata": {},
     "output_type": "display_data"
    }
   ],
   "source": [
    "#!import ../nbs/Testing.dib"
   ]
  },
  {
   "cell_type": "code",
   "execution_count": null,
   "metadata": {
    "dotnet_repl_cellExecutionStartTime": "2023-07-24T17:25:51.3710566-03:00",
    "dotnet_repl_cellExecutionEndTime": "2023-07-24T17:25:56.0998707-03:00",
    "dotnet_repl_cellExecutionTime": "4.7288171s",
    "dotnet_interactive": {
     "language": "fsharp"
    },
    "polyglot_notebook": {
     "kernelName": "fsharp"
    }
   },
   "outputs": [
    {
     "data": {
      "text/html": [
       "<div><div></div><div><strong>Installing Packages</strong><ul><li><span>FSharp.Control.AsyncSeq</span></li><li><span>System.Reactive</span></li><li><span>System.Reactive.Linq</span></li></ul></div><div></div></div>"
      ]
     },
     "metadata": {},
     "output_type": "display_data"
    },
    {
     "data": {
      "text/html": [
       "<div><div></div><div><strong>Installing Packages</strong><ul><li><span>FSharp.Control.AsyncSeq.</span></li><li><span>System.Reactive.</span></li><li><span>System.Reactive.Linq.</span></li></ul></div><div></div></div>"
      ]
     },
     "metadata": {},
     "output_type": "display_data"
    },
    {
     "data": {
      "text/html": [
       "<div><div></div><div><strong>Installing Packages</strong><ul><li><span>FSharp.Control.AsyncSeq..</span></li><li><span>System.Reactive..</span></li><li><span>System.Reactive.Linq..</span></li></ul></div><div></div></div>"
      ]
     },
     "metadata": {},
     "output_type": "display_data"
    },
    {
     "data": {
      "text/html": [
       "<div><div></div><div><strong>Installing Packages</strong><ul><li><span>FSharp.Control.AsyncSeq...</span></li><li><span>System.Reactive...</span></li><li><span>System.Reactive.Linq...</span></li></ul></div><div></div></div>"
      ]
     },
     "metadata": {},
     "output_type": "display_data"
    },
    {
     "data": {
      "text/html": [
       "<div><div></div><div><strong>Installing Packages</strong><ul><li><span>FSharp.Control.AsyncSeq....</span></li><li><span>System.Reactive....</span></li><li><span>System.Reactive.Linq....</span></li></ul></div><div></div></div>"
      ]
     },
     "metadata": {},
     "output_type": "display_data"
    },
    {
     "data": {
      "text/html": [
       "<div><div></div><div><strong>Installing Packages</strong><ul><li><span>FSharp.Control.AsyncSeq.....</span></li><li><span>System.Reactive.....</span></li><li><span>System.Reactive.Linq.....</span></li></ul></div><div></div></div>"
      ]
     },
     "metadata": {},
     "output_type": "display_data"
    },
    {
     "data": {
      "text/html": [
       "<div><div></div><div><strong>Installing Packages</strong><ul><li><span>FSharp.Control.AsyncSeq......</span></li><li><span>System.Reactive......</span></li><li><span>System.Reactive.Linq......</span></li></ul></div><div></div></div>"
      ]
     },
     "metadata": {},
     "output_type": "display_data"
    },
    {
     "data": {
      "text/html": [
       "<div><div></div><div><strong>Installing Packages</strong><ul><li><span>FSharp.Control.AsyncSeq.......</span></li><li><span>System.Reactive.......</span></li><li><span>System.Reactive.Linq.......</span></li></ul></div><div></div></div>"
      ]
     },
     "metadata": {},
     "output_type": "display_data"
    },
    {
     "data": {
      "text/html": [
       "<div><div></div><div><strong>Installing Packages</strong><ul><li><span>FSharp.Control.AsyncSeq........</span></li><li><span>System.Reactive........</span></li><li><span>System.Reactive.Linq........</span></li></ul></div><div></div></div>"
      ]
     },
     "metadata": {},
     "output_type": "display_data"
    },
    {
     "data": {
      "text/html": [
       "<div><div></div><div><strong>Installing Packages</strong><ul><li><span>FSharp.Control.AsyncSeq.........</span></li><li><span>System.Reactive.........</span></li><li><span>System.Reactive.Linq.........</span></li></ul></div><div></div></div>"
      ]
     },
     "metadata": {},
     "output_type": "display_data"
    },
    {
     "data": {
      "text/html": [
       "<div><div></div><div></div><div><strong>Installed Packages</strong><ul><li><span>FSharp.Control.AsyncSeq, 3.2.1</span></li><li><span>System.Reactive, 5.0.0</span></li><li><span>System.Reactive.Linq, 6.0.0-preview.1</span></li></ul></div></div>"
      ]
     },
     "metadata": {},
     "output_type": "display_data"
    }
   ],
   "source": [
    "#r \"nuget:FSharp.Control.AsyncSeq\"\n",
    "#r \"nuget:System.Reactive,5.0.0\"\n",
    "#r \"nuget:System.Reactive.Linq,6.0.0-preview.1\""
   ]
  },
  {
   "cell_type": "code",
   "execution_count": null,
   "metadata": {
    "dotnet_repl_cellExecutionStartTime": "2023-07-24T17:25:56.099913-03:00",
    "dotnet_repl_cellExecutionEndTime": "2023-07-24T17:25:59.5654018-03:00",
    "dotnet_repl_cellExecutionTime": "3.4654909s",
    "dotnet_interactive": {
     "language": "fsharp"
    },
    "polyglot_notebook": {
     "kernelName": "fsharp"
    }
   },
   "outputs": [],
   "source": [
    "#!import ../nbs/Common.fs\n",
    "#!import ../nbs/Async.fs\n",
    "#!import ../nbs/AsyncSeq.fs\n",
    "#!import ../nbs/Runtime.fs\n",
    "#!import ../nbs/FileSystem.fs"
   ]
  },
  {
   "cell_type": "code",
   "execution_count": null,
   "metadata": {
    "dotnet_repl_cellExecutionStartTime": "2023-07-24T17:25:59.5654461-03:00",
    "dotnet_repl_cellExecutionEndTime": "2023-07-24T17:25:59.5715306-03:00",
    "dotnet_repl_cellExecutionTime": "6.0871ms",
    "dotnet_interactive": {
     "language": "fsharp"
    },
    "polyglot_notebook": {
     "kernelName": "fsharp"
    }
   },
   "outputs": [],
   "source": [
    "open Common"
   ]
  },
  {
   "cell_type": "code",
   "execution_count": null,
   "metadata": {
    "dotnet_repl_cellExecutionStartTime": "2023-07-24T17:25:59.5715627-03:00",
    "dotnet_repl_cellExecutionEndTime": "2023-07-24T17:25:59.5773653-03:00",
    "dotnet_repl_cellExecutionTime": "5.8042ms",
    "dotnet_interactive": {
     "language": "fsharp"
    },
    "polyglot_notebook": {
     "kernelName": "fsharp"
    }
   },
   "outputs": [],
   "source": [
    "//// test\n",
    "\n",
    "open FileSystem"
   ]
  },
  {
   "cell_type": "markdown",
   "metadata": {
    "dotnet_repl_cellExecutionStartTime": "2023-07-24T17:25:59.5773956-03:00",
    "dotnet_repl_cellExecutionEndTime": "2023-07-24T17:25:59.5797672-03:00",
    "dotnet_repl_cellExecutionTime": "2.3741ms"
   },
   "source": [
    "## isWindows"
   ]
  },
  {
   "cell_type": "code",
   "execution_count": null,
   "metadata": {
    "dotnet_repl_cellExecutionStartTime": "2023-07-24T17:25:59.579805-03:00",
    "dotnet_repl_cellExecutionEndTime": "2023-07-24T17:25:59.592082-03:00",
    "dotnet_repl_cellExecutionTime": "12.2786ms",
    "dotnet_interactive": {
     "language": "fsharp"
    },
    "polyglot_notebook": {
     "kernelName": "fsharp"
    }
   },
   "outputs": [],
   "source": [
    "let isWindows () =\n",
    "    System.Runtime.InteropServices.RuntimeInformation.IsOSPlatform System.Runtime.InteropServices.OSPlatform.Windows"
   ]
  },
  {
   "cell_type": "code",
   "execution_count": null,
   "metadata": {
    "dotnet_repl_cellExecutionStartTime": "2023-07-24T17:25:59.5921098-03:00",
    "dotnet_repl_cellExecutionEndTime": "2023-07-24T17:25:59.6239884-03:00",
    "dotnet_repl_cellExecutionTime": "31.8807ms",
    "dotnet_interactive": {
     "language": "fsharp"
    },
    "polyglot_notebook": {
     "kernelName": "fsharp"
    }
   },
   "outputs": [
    {
     "data": {
      "text/html": [
       "<div class=\"dni-plaintext\"><pre>True</pre></div><style>\r\n",
       ".dni-code-hint {\r\n",
       "    font-style: italic;\r\n",
       "    overflow: hidden;\r\n",
       "    white-space: nowrap;\r\n",
       "}\r\n",
       ".dni-treeview {\r\n",
       "    white-space: nowrap;\r\n",
       "}\r\n",
       ".dni-treeview td {\r\n",
       "    vertical-align: top;\r\n",
       "    text-align: start;\r\n",
       "}\r\n",
       "details.dni-treeview {\r\n",
       "    padding-left: 1em;\r\n",
       "}\r\n",
       "table td {\r\n",
       "    text-align: start;\r\n",
       "}\r\n",
       "table tr { \r\n",
       "    vertical-align: top; \r\n",
       "    margin: 0em 0px;\r\n",
       "}\r\n",
       "table tr td pre \r\n",
       "{ \r\n",
       "    vertical-align: top !important; \r\n",
       "    margin: 0em 0px !important;\r\n",
       "} \r\n",
       "table th {\r\n",
       "    text-align: start;\r\n",
       "}\r\n",
       "</style>"
      ]
     },
     "metadata": {},
     "output_type": "display_data"
    }
   ],
   "source": [
    "//// test\n",
    "\n",
    "isWindows ()"
   ]
  },
  {
   "cell_type": "markdown",
   "metadata": {
    "dotnet_repl_cellExecutionStartTime": "2023-07-24T17:25:59.6240346-03:00",
    "dotnet_repl_cellExecutionEndTime": "2023-07-24T17:25:59.6266333-03:00",
    "dotnet_repl_cellExecutionTime": "2.6011ms"
   },
   "source": [
    "## splitCommand"
   ]
  },
  {
   "cell_type": "code",
   "execution_count": null,
   "metadata": {
    "dotnet_repl_cellExecutionStartTime": "2023-07-24T17:25:59.6266657-03:00",
    "dotnet_repl_cellExecutionEndTime": "2023-07-24T17:25:59.6911681-03:00",
    "dotnet_repl_cellExecutionTime": "64.5049ms",
    "dotnet_interactive": {
     "language": "fsharp"
    },
    "polyglot_notebook": {
     "kernelName": "fsharp"
    }
   },
   "outputs": [],
   "source": [
    "type private CommandParseStep =\n",
    "    | Start\n",
    "    | Path of quoted: bool\n",
    "    | Arguments\n",
    "\n",
    "let splitCommand (command: string) =\n",
    "    let rec loop (path, args) chars step =\n",
    "        match chars, step with\n",
    "        | ('\"' | '\\'') :: tail, _ when path = \"\" -> loop (path, args) tail (Path true)\n",
    "        | ('\"' | '\\'') :: tail, Path true -> loop (path, args) tail (Path false)\n",
    "        | ' ' :: tail, Path true -> loop ($\"{path} \", args) tail (Path true)\n",
    "        | ' ' :: tail, (Start | Path _) -> loop (path, args) tail Arguments\n",
    "        | char :: tail, Arguments -> loop (path, $\"{args}{char}\") tail Arguments\n",
    "        | char :: tail, _ -> loop ($\"{path}{char}\", args) tail step\n",
    "        | _, _ -> path |> String.replace @\"\\\" \"/\", args\n",
    "    let path, args = loop (\"\", \"\") (command |> Seq.toList) Start\n",
    "    let workingDirectory, fileName =\n",
    "        if path.StartsWith \"./\" || path.Contains \"/\"\n",
    "        then path |> System.IO.Path.GetDirectoryName |> String.replace @\"\\\" \"/\", System.IO.Path.GetFileName path\n",
    "        else \".\", path\n",
    "    workingDirectory, fileName, args"
   ]
  },
  {
   "cell_type": "code",
   "execution_count": null,
   "metadata": {
    "dotnet_repl_cellExecutionStartTime": "2023-07-24T17:25:59.6911979-03:00",
    "dotnet_repl_cellExecutionEndTime": "2023-07-24T17:25:59.722697-03:00",
    "dotnet_repl_cellExecutionTime": "31.5007ms",
    "dotnet_interactive": {
     "language": "fsharp"
    },
    "polyglot_notebook": {
     "kernelName": "fsharp"
    }
   },
   "outputs": [
    {
     "name": "stdout",
     "output_type": "stream",
     "text": [
      "( ., ,  )\r\n",
      "( /a/b, c,  )\r\n",
      "( ., cat, file.txt )\r\n",
      "( ../.., file.exe, file1.txt file2.txt )\r\n",
      "( c:/dir, file.exe, \"file1.txt file2.txt\" )\r\n",
      "( ../../dir name, file.exe, \"file 1.txt\" file2.txt )\r\n",
      "( ../.., file 1.exe, -c \\\\\"echo 1\\\\\" )\r\n",
      "( ../.., file, 1.exe -c \\\\\"echo 1\\\\\" )\r\n"
     ]
    }
   ],
   "source": [
    "//// test\n",
    "\n",
    "splitCommand \"\"\n",
    "|> _equal (\".\", \"\", \"\")\n",
    "\n",
    "splitCommand \"/a/b/c\"\n",
    "|> _equal (\"/a/b\", \"c\", \"\")\n",
    "\n",
    "splitCommand \"cat file.txt\"\n",
    "|> _equal (\".\", \"cat\", \"file.txt\")\n",
    "\n",
    "splitCommand @\"..\\..\\file.exe file1.txt file2.txt\"\n",
    "|> _equal (\"../..\", \"file.exe\", \"file1.txt file2.txt\")\n",
    "\n",
    "splitCommand @\"c:\\dir\\file.exe \"\"file1.txt file2.txt\"\"\"\n",
    "|> _equal (@\"c:/dir\", \"file.exe\", @\"\"\"file1.txt file2.txt\"\"\")\n",
    "\n",
    "splitCommand @\"\"\"..\\..\\dir name\\file.exe\"\" \"\"file 1.txt\"\" file2.txt\"\n",
    "|> _equal (\"../../dir name\", \"file.exe\", @\"\"\"file 1.txt\"\" file2.txt\")\n",
    "\n",
    "splitCommand @\"\"\"..\\..\\file 1.exe\"\" -c \\\\\"\"echo 1\\\\\"\"\"\n",
    "|> _equal (\"../..\", \"file 1.exe\", @\"-c \\\\\"\"echo 1\\\\\"\"\")\n",
    "\n",
    "splitCommand @\"..\\..\\file 1.exe -c \\\\\"\"echo 1\\\\\"\"\"\n",
    "|> _equal (\"../..\", \"file\", @\"1.exe -c \\\\\"\"echo 1\\\\\"\"\")"
   ]
  },
  {
   "cell_type": "markdown",
   "metadata": {
    "dotnet_repl_cellExecutionStartTime": "2023-07-24T17:25:59.7227339-03:00",
    "dotnet_repl_cellExecutionEndTime": "2023-07-24T17:25:59.7248205-03:00",
    "dotnet_repl_cellExecutionTime": "2.0877ms"
   },
   "source": [
    "## executeAsync"
   ]
  },
  {
   "cell_type": "code",
   "execution_count": null,
   "metadata": {
    "dotnet_repl_cellExecutionStartTime": "2023-07-24T17:25:59.7248379-03:00",
    "dotnet_repl_cellExecutionEndTime": "2023-07-24T17:25:59.8435727-03:00",
    "dotnet_repl_cellExecutionTime": "118.7367ms",
    "dotnet_interactive": {
     "language": "fsharp"
    },
    "polyglot_notebook": {
     "kernelName": "fsharp"
    }
   },
   "outputs": [],
   "source": [
    "let executeAsync (command : string) = async {\n",
    "    let workingDirectory, fileName, arguments = command |> splitCommand\n",
    "    let getLocals () = $\"workingDirectory: {workingDirectory} / fileName: {fileName} / arguments: {arguments} / {getLocals ()}\"\n",
    "    \n",
    "    let startInfo = System.Diagnostics.ProcessStartInfo (\n",
    "        WorkingDirectory = workingDirectory,\n",
    "        FileName = fileName,\n",
    "        Arguments = arguments,\n",
    "        RedirectStandardOutput = true,\n",
    "        RedirectStandardError = true,\n",
    "        UseShellExecute = false,\n",
    "        CreateNoWindow = true\n",
    "    )\n",
    "\n",
    "    use proc = new System.Diagnostics.Process (StartInfo = startInfo)\n",
    "    let result = System.Collections.Concurrent.ConcurrentStack<string> ()\n",
    "\n",
    "    let event error (e: System.Diagnostics.DataReceivedEventArgs) =\n",
    "        if e.Data <> null then\n",
    "            trace\n",
    "                (if error then Error else Debug)\n",
    "                (fun () -> $\"{if error then 'E' else ' '}{proc.Id}: {e.Data}\")\n",
    "                getLocals\n",
    "\n",
    "            result.Push\n",
    "                $\"{\n",
    "                    if error then '['.ToString() else System.String.Empty\n",
    "                }{\n",
    "                    e.Data\n",
    "                }{\n",
    "                    if error then ']'.ToString() else System.String.Empty\n",
    "                }\"\n",
    "\n",
    "    proc.OutputDataReceived.Add (event false)\n",
    "    proc.ErrorDataReceived.Add (event true)\n",
    "\n",
    "    trace Debug (fun () -> $\"executeAsync\") getLocals\n",
    "\n",
    "    if proc.Start () |> not\n",
    "    then failwith $\"executeAsync / proc.Start() error\"\n",
    "\n",
    "    proc.BeginErrorReadLine ()\n",
    "    proc.BeginOutputReadLine ()\n",
    "\n",
    "    do! proc.WaitForExitAsync () |> Async.AwaitTask\n",
    "\n",
    "    let result = result |> Seq.rev |> String.concat System.Environment.NewLine\n",
    "\n",
    "    trace Debug (fun () -> $\"executeAsync / proc.ExitCode: {proc.ExitCode} / result.Length: {result.Length}\") getLocals\n",
    "\n",
    "    return proc.ExitCode, result\n",
    "}"
   ]
  },
  {
   "cell_type": "code",
   "execution_count": null,
   "metadata": {
    "dotnet_repl_cellExecutionStartTime": "2023-07-24T17:25:59.8436024-03:00",
    "dotnet_repl_cellExecutionEndTime": "2023-07-24T17:26:01.8306422-03:00",
    "dotnet_repl_cellExecutionTime": "1.9870409s",
    "dotnet_interactive": {
     "language": "fsharp"
    },
    "polyglot_notebook": {
     "kernelName": "fsharp"
    }
   },
   "outputs": [
    {
     "name": "stdout",
     "output_type": "stream",
     "text": [
      "17:25:59 #1 [Debug] createTempDirectory / tempFolder: C:\\Users\\i574n\\AppData\\Local\\Temp\\!dotnet-repl\\20230724-1725-5990-9098-996d705c9795 / result: { CreationTime = 2023-07-24 5:25:59 PM\n",
      "  Exists = true }\r\n",
      "17:25:59 #2 [Debug] executeAsync / workingDirectory: . / fileName: pwsh / arguments: -c \"Get-Content C:\\Users\\i574n\\AppData\\Local\\Temp\\!dotnet-repl\\20230724-1725-5990-9098-996d705c9795\\test.txt\"\r\n",
      "17:26:01 #3 [Error] E12956: \u001B[31;1mGet-Content: \u001B[31;1mCannot find path 'C:\\Users\\i574n\\AppData\\Local\\Temp\\!dotnet-repl\\20230724-1725-5990-9098-996d705c9795\\test.txt' because it does not exist.\u001B[0m / workingDirectory: . / fileName: pwsh / arguments: -c \"Get-Content C:\\Users\\i574n\\AppData\\Local\\Temp\\!dotnet-repl\\20230724-1725-5990-9098-996d705c9795\\test.txt\"\r\n",
      "17:26:01 #4 [Debug] executeAsync / proc.ExitCode: 1 / result.Length: 171 / workingDirectory: . / fileName: pwsh / arguments: -c \"Get-Content C:\\Users\\i574n\\AppData\\Local\\Temp\\!dotnet-repl\\20230724-1725-5990-9098-996d705c9795\\test.txt\"\r\n",
      "1\r\n",
      "[\u001B[31;1mGet-Content: \u001B[31;1mCannot find path 'C:\\Users\\i574n\\AppData\\Local\\Temp\\!dotnet-repl\\20230724-1725-5990-9098-996d705c9795\\test.txt' because it does not exist.\u001B[0m]\r\n",
      "17:26:01 #5 [Debug] executeAsync / workingDirectory: . / fileName: pwsh / arguments: -c \"Get-Content C:\\Users\\i574n\\AppData\\Local\\Temp\\!dotnet-repl\\20230724-1725-5990-9098-996d705c9795\\test.txt\"\r\n",
      "17:26:01 #6 [Debug]  8412: 0 / workingDirectory: . / fileName: pwsh / arguments: -c \"Get-Content C:\\Users\\i574n\\AppData\\Local\\Temp\\!dotnet-repl\\20230724-1725-5990-9098-996d705c9795\\test.txt\"\r\n",
      "17:26:01 #7 [Debug] executeAsync / proc.ExitCode: 0 / result.Length: 1 / workingDirectory: . / fileName: pwsh / arguments: -c \"Get-Content C:\\Users\\i574n\\AppData\\Local\\Temp\\!dotnet-repl\\20230724-1725-5990-9098-996d705c9795\\test.txt\"\r\n",
      "0\r\n",
      "0\r\n",
      "FSharpOption<Unit>\r\n",
      "      Value: <null>\r\n"
     ]
    }
   ],
   "source": [
    "//// test\n",
    "\n",
    "let tempFolder = FileSystem.createTempDirectory ()\n",
    "let path = tempFolder </> \"test.txt\"\n",
    "\n",
    "let command = @$\"pwsh -c \"\"Get-Content {path}\"\"\"\n",
    "\n",
    "async {\n",
    "    let! exitCode, result = executeAsync command\n",
    "    exitCode |> _equal 1\n",
    "    result |> _stringContains \"not exist\"\n",
    "\n",
    "    do! File.WriteAllTextAsync (path, \"0\") |> Async.AwaitTask\n",
    "\n",
    "    let! exitCode, result = executeAsync command\n",
    "    exitCode |> _equal 0\n",
    "    result |> _equal \"0\"\n",
    "}\n",
    "|> Async.runWithTimeout 10000\n",
    "|> _equal (Some ())"
   ]
  }
 ],
 "metadata": {
  "kernelspec": {
   "display_name": ".NET (C#)",
   "language": "C#",
   "name": ".net-csharp"
  },
  "language_info": {
   "file_extension": ".cs",
   "mimetype": "text/x-csharp",
   "name": "C#",
   "pygments_lexer": "csharp",
   "version": "10.0"
  },
  "polyglot_notebook": {
   "defaultKernelName": "csharp",
   "items": [
    {
     "name": "csharp"
    }
   ]
  },
  "dotnet_interactive": {
   "defaultKernelName": "csharp",
   "items": [
    {
     "name": "csharp"
    }
   ]
  }
 },
 "nbformat": 4,
 "nbformat_minor": 5
}