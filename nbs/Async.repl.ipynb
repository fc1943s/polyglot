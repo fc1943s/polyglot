{
 "cells": [
  {
   "cell_type": "markdown",
   "metadata": {
    "dotnet_repl_cellExecutionStartTime": "2023-07-25T21:41:04.6436049-03:00",
    "dotnet_repl_cellExecutionEndTime": "2023-07-25T21:41:04.7055507-03:00",
    "dotnet_repl_cellExecutionTime": "62.0786ms"
   },
   "source": [
    "# Async (Polyglot)"
   ]
  },
  {
   "cell_type": "code",
   "execution_count": null,
   "metadata": {
    "dotnet_repl_cellExecutionStartTime": "2023-07-25T21:41:04.7077606-03:00",
    "dotnet_repl_cellExecutionEndTime": "2023-07-25T21:41:09.820628-03:00",
    "dotnet_repl_cellExecutionTime": "5.112871s",
    "dotnet_interactive": {
     "language": "fsharp"
    },
    "polyglot_notebook": {
     "kernelName": "fsharp"
    }
   },
   "outputs": [],
   "source": [
    "#!import ../nbs/Testing.dib"
   ]
  },
  {
   "cell_type": "code",
   "execution_count": null,
   "metadata": {
    "dotnet_repl_cellExecutionStartTime": "2023-07-25T21:41:09.8206976-03:00",
    "dotnet_repl_cellExecutionEndTime": "2023-07-25T21:41:10.3801939-03:00",
    "dotnet_repl_cellExecutionTime": "559.4999ms",
    "dotnet_interactive": {
     "language": "fsharp"
    },
    "polyglot_notebook": {
     "kernelName": "fsharp"
    }
   },
   "outputs": [],
   "source": [
    "#!import ../nbs/Common.fs"
   ]
  },
  {
   "cell_type": "code",
   "execution_count": null,
   "metadata": {
    "dotnet_repl_cellExecutionStartTime": "2023-07-25T21:41:10.3802411-03:00",
    "dotnet_repl_cellExecutionEndTime": "2023-07-25T21:41:10.3867897-03:00",
    "dotnet_repl_cellExecutionTime": "6.552ms",
    "dotnet_interactive": {
     "language": "fsharp"
    },
    "polyglot_notebook": {
     "kernelName": "fsharp"
    }
   },
   "outputs": [],
   "source": [
    "open Common"
   ]
  },
  {
   "cell_type": "markdown",
   "metadata": {
    "dotnet_repl_cellExecutionStartTime": "2023-07-25T21:41:10.3868239-03:00",
    "dotnet_repl_cellExecutionEndTime": "2023-07-25T21:41:10.3895963-03:00",
    "dotnet_repl_cellExecutionTime": "2.7751ms"
   },
   "source": [
    "## choice"
   ]
  },
  {
   "cell_type": "code",
   "execution_count": null,
   "metadata": {
    "dotnet_repl_cellExecutionStartTime": "2023-07-25T21:41:10.3896276-03:00",
    "dotnet_repl_cellExecutionEndTime": "2023-07-25T21:41:10.4934213-03:00",
    "dotnet_repl_cellExecutionTime": "103.7975ms",
    "dotnet_interactive": {
     "language": "fsharp"
    },
    "polyglot_notebook": {
     "kernelName": "fsharp"
    }
   },
   "outputs": [],
   "source": [
    "let inline choice asyncs = async {\n",
    "    let e = Event<_> ()\n",
    "    let cts = new System.Threading.CancellationTokenSource ()\n",
    "    let fn =\n",
    "        asyncs\n",
    "        |> Seq.map (fun a -> async {\n",
    "            let! x = a\n",
    "            e.Trigger x\n",
    "        })\n",
    "        |> Async.Parallel\n",
    "        |> Async.Ignore\n",
    "    Async.Start (fn, cts.Token)\n",
    "    let! result = Async.AwaitEvent e.Publish\n",
    "    cts.Cancel ()\n",
    "    return result\n",
    "}"
   ]
  },
  {
   "cell_type": "markdown",
   "metadata": {
    "dotnet_repl_cellExecutionStartTime": "2023-07-25T21:41:10.4934528-03:00",
    "dotnet_repl_cellExecutionEndTime": "2023-07-25T21:41:10.4962828-03:00",
    "dotnet_repl_cellExecutionTime": "2.8317ms"
   },
   "source": [
    "## map"
   ]
  },
  {
   "cell_type": "code",
   "execution_count": null,
   "metadata": {
    "dotnet_repl_cellExecutionStartTime": "2023-07-25T21:41:10.4963044-03:00",
    "dotnet_repl_cellExecutionEndTime": "2023-07-25T21:41:10.5186903-03:00",
    "dotnet_repl_cellExecutionTime": "22.3896ms",
    "dotnet_interactive": {
     "language": "fsharp"
    },
    "polyglot_notebook": {
     "kernelName": "fsharp"
    }
   },
   "outputs": [],
   "source": [
    "let inline map fn a = async {\n",
    "    let! x = a\n",
    "    return fn x\n",
    "}"
   ]
  },
  {
   "cell_type": "markdown",
   "metadata": {
    "dotnet_repl_cellExecutionStartTime": "2023-07-25T21:41:10.5187245-03:00",
    "dotnet_repl_cellExecutionEndTime": "2023-07-25T21:41:10.5215598-03:00",
    "dotnet_repl_cellExecutionTime": "2.848ms"
   },
   "source": [
    "## runWithTimeoutAsync"
   ]
  },
  {
   "cell_type": "code",
   "execution_count": null,
   "metadata": {
    "dotnet_repl_cellExecutionStartTime": "2023-07-25T21:41:10.5216012-03:00",
    "dotnet_repl_cellExecutionEndTime": "2023-07-25T21:41:10.5883358-03:00",
    "dotnet_repl_cellExecutionTime": "66.7397ms",
    "dotnet_interactive": {
     "language": "fsharp"
    },
    "polyglot_notebook": {
     "kernelName": "fsharp"
    }
   },
   "outputs": [],
   "source": [
    "let inline runWithTimeoutAsync (timeout : int) fn =\n",
    "    let getLocals () = $\"timeout: {timeout} / {getLocals ()}\"\n",
    "\n",
    "    let timeoutTask = async {\n",
    "        do! Async.Sleep timeout\n",
    "        trace Debug (fun () -> \"runWithTimeoutAsync\") getLocals\n",
    "        return None\n",
    "    }\n",
    "\n",
    "    let task = fn |> map Some\n",
    "\n",
    "    [ timeoutTask; task ]\n",
    "    |> choice"
   ]
  },
  {
   "cell_type": "code",
   "execution_count": null,
   "metadata": {
    "dotnet_repl_cellExecutionStartTime": "2023-07-25T21:41:10.5884254-03:00",
    "dotnet_repl_cellExecutionEndTime": "2023-07-25T21:41:10.6334591-03:00",
    "dotnet_repl_cellExecutionTime": "45.0391ms",
    "dotnet_interactive": {
     "language": "fsharp"
    },
    "polyglot_notebook": {
     "kernelName": "fsharp"
    }
   },
   "outputs": [],
   "source": [
    "let inline runWithTimeout timeout fn =\n",
    "    fn\n",
    "    |> runWithTimeoutAsync timeout\n",
    "    |> Async.RunSynchronously"
   ]
  },
  {
   "cell_type": "code",
   "execution_count": null,
   "metadata": {
    "dotnet_repl_cellExecutionStartTime": "2023-07-25T21:41:10.6335108-03:00",
    "dotnet_repl_cellExecutionEndTime": "2023-07-25T21:41:10.816955-03:00",
    "dotnet_repl_cellExecutionTime": "183.4477ms",
    "dotnet_interactive": {
     "language": "fsharp"
    },
    "polyglot_notebook": {
     "kernelName": "fsharp"
    }
   },
   "outputs": [
    {
     "name": "stdout",
     "output_type": "stream",
     "text": [
      "21:41:10 #1 [Debug] runWithTimeoutAsync / timeout: 10\r\n",
      "<null>\r\n"
     ]
    }
   ],
   "source": [
    "//// test\n",
    "\n",
    "Async.Sleep 60\n",
    "|> runWithTimeout 10\n",
    "|> _equal None"
   ]
  },
  {
   "cell_type": "code",
   "execution_count": null,
   "metadata": {
    "dotnet_repl_cellExecutionStartTime": "2023-07-25T21:41:10.8169965-03:00",
    "dotnet_repl_cellExecutionEndTime": "2023-07-25T21:41:10.9092591-03:00",
    "dotnet_repl_cellExecutionTime": "92.2658ms",
    "dotnet_interactive": {
     "language": "fsharp"
    },
    "polyglot_notebook": {
     "kernelName": "fsharp"
    }
   },
   "outputs": [
    {
     "name": "stdout",
     "output_type": "stream",
     "text": [
      "FSharpOption<Unit>\r\n",
      "      Value: <null>\r\n"
     ]
    }
   ],
   "source": [
    "//// test\n",
    "\n",
    "Async.Sleep 10\n",
    "|> runWithTimeout 60\n",
    "|> _equal (Some ())"
   ]
  },
  {
   "cell_type": "markdown",
   "metadata": {
    "dotnet_repl_cellExecutionStartTime": "2023-07-25T21:41:10.9092937-03:00",
    "dotnet_repl_cellExecutionEndTime": "2023-07-25T21:41:10.918067-03:00",
    "dotnet_repl_cellExecutionTime": "8.7778ms"
   },
   "source": [
    "## runWithTimeoutStrict"
   ]
  },
  {
   "cell_type": "code",
   "execution_count": null,
   "metadata": {
    "dotnet_repl_cellExecutionStartTime": "2023-07-25T21:41:10.9181059-03:00",
    "dotnet_repl_cellExecutionEndTime": "2023-07-25T21:41:11.0599755-03:00",
    "dotnet_repl_cellExecutionTime": "141.8734ms",
    "dotnet_interactive": {
     "language": "fsharp"
    },
    "polyglot_notebook": {
     "kernelName": "fsharp"
    }
   },
   "outputs": [],
   "source": [
    "let inline runWithTimeoutStrict (timeout : int) fn =\n",
    "    let getLocals () = $\"timeout: {timeout} / {getLocals ()}\"\n",
    "\n",
    "    let timeoutTask = async {\n",
    "        do! Async.Sleep timeout\n",
    "        return None, getLocals\n",
    "    }\n",
    "    \n",
    "    let task = async {\n",
    "        try\n",
    "            return Async.RunSynchronously (fn, timeout) |> Some, getLocals\n",
    "        with\n",
    "        | :? System.TimeoutException as ex ->\n",
    "            let getLocals () = $\"ex: {ex |> printException} / {getLocals ()}\"\n",
    "            return None, getLocals\n",
    "        | e ->\n",
    "            trace Error (fun () -> \"runWithTimeoutStrict\") getLocals\n",
    "            return raise e\n",
    "    }\n",
    "\n",
    "    try\n",
    "        [| timeoutTask; task |]\n",
    "        |> Array.map Async.StartAsTask\n",
    "        |> System.Threading.Tasks.Task.WhenAny\n",
    "        |> fun task ->\n",
    "            match task.Result.Result with\n",
    "            | None, getLocals ->\n",
    "                trace Debug (fun () -> \"runWithTimeoutStrict\") getLocals\n",
    "                None\n",
    "            | result, _ -> result\n",
    "    with\n",
    "    | :? System.AggregateException as ex when\n",
    "        ex.InnerExceptions\n",
    "        |> Seq.exists (function :? System.Threading.Tasks.TaskCanceledException -> true | _ -> false)\n",
    "        ->\n",
    "        let getLocals () = $\"ex: {ex |> printException} / {getLocals ()}\"\n",
    "        trace Warn (fun () -> \"runWithTimeoutStrict\") getLocals\n",
    "        None\n",
    "    | ex ->\n",
    "        trace Error (fun () -> \"runWithTimeoutStrict\") getLocals\n",
    "        raise ex"
   ]
  },
  {
   "cell_type": "code",
   "execution_count": null,
   "metadata": {
    "dotnet_repl_cellExecutionStartTime": "2023-07-25T21:41:11.0600093-03:00",
    "dotnet_repl_cellExecutionEndTime": "2023-07-25T21:41:11.1689933-03:00",
    "dotnet_repl_cellExecutionTime": "108.9888ms",
    "dotnet_interactive": {
     "language": "fsharp"
    },
    "polyglot_notebook": {
     "kernelName": "fsharp"
    }
   },
   "outputs": [
    {
     "name": "stdout",
     "output_type": "stream",
     "text": [
      "21:41:11 #2 [Debug] runWithTimeoutStrict / timeout: 10\r\n",
      "<null>\r\n"
     ]
    }
   ],
   "source": [
    "//// test\n",
    "\n",
    "Async.Sleep 60\n",
    "|> runWithTimeoutStrict 10\n",
    "|> _equal None"
   ]
  },
  {
   "cell_type": "code",
   "execution_count": null,
   "metadata": {
    "dotnet_repl_cellExecutionStartTime": "2023-07-25T21:41:11.1690522-03:00",
    "dotnet_repl_cellExecutionEndTime": "2023-07-25T21:41:11.2753149-03:00",
    "dotnet_repl_cellExecutionTime": "106.2655ms",
    "dotnet_interactive": {
     "language": "fsharp"
    },
    "polyglot_notebook": {
     "kernelName": "fsharp"
    }
   },
   "outputs": [
    {
     "name": "stdout",
     "output_type": "stream",
     "text": [
      "FSharpOption<Unit>\r\n",
      "      Value: <null>\r\n"
     ]
    }
   ],
   "source": [
    "//// test\n",
    "\n",
    "Async.Sleep 10\n",
    "|> runWithTimeoutStrict 60\n",
    "|> _equal (Some ())"
   ]
  },
  {
   "cell_type": "markdown",
   "metadata": {
    "dotnet_repl_cellExecutionStartTime": "2023-07-25T21:41:11.2753515-03:00",
    "dotnet_repl_cellExecutionEndTime": "2023-07-25T21:41:11.2775707-03:00",
    "dotnet_repl_cellExecutionTime": "2.2212ms"
   },
   "source": [
    "## awaitValueTask"
   ]
  },
  {
   "cell_type": "code",
   "execution_count": null,
   "metadata": {
    "dotnet_repl_cellExecutionStartTime": "2023-07-25T21:41:11.2775913-03:00",
    "dotnet_repl_cellExecutionEndTime": "2023-07-25T21:41:11.291143-03:00",
    "dotnet_repl_cellExecutionTime": "13.5644ms",
    "dotnet_interactive": {
     "language": "fsharp"
    },
    "polyglot_notebook": {
     "kernelName": "fsharp"
    }
   },
   "outputs": [],
   "source": [
    "let inline awaitValueTaskUnit (task : System.Threading.Tasks.ValueTask) =\n",
    "    task.AsTask () |> Async.AwaitTask\n",
    "\n",
    "let inline awaitValueTask (task : System.Threading.Tasks.ValueTask<_>) =\n",
    "    task.AsTask () |> Async.AwaitTask"
   ]
  },
  {
   "cell_type": "markdown",
   "metadata": {
    "dotnet_repl_cellExecutionStartTime": "2023-07-25T21:41:11.291195-03:00",
    "dotnet_repl_cellExecutionEndTime": "2023-07-25T21:41:11.2941258-03:00",
    "dotnet_repl_cellExecutionTime": "2.9343ms"
   },
   "source": [
    "## init"
   ]
  },
  {
   "cell_type": "code",
   "execution_count": null,
   "metadata": {
    "dotnet_repl_cellExecutionStartTime": "2023-07-25T21:41:11.2941683-03:00",
    "dotnet_repl_cellExecutionEndTime": "2023-07-25T21:41:11.3133885-03:00",
    "dotnet_repl_cellExecutionTime": "19.2241ms",
    "dotnet_interactive": {
     "language": "fsharp"
    },
    "polyglot_notebook": {
     "kernelName": "fsharp"
    }
   },
   "outputs": [],
   "source": [
    "let inline init x = async {\n",
    "    return x\n",
    "}"
   ]
  },
  {
   "cell_type": "code",
   "execution_count": null,
   "metadata": {
    "dotnet_repl_cellExecutionStartTime": "2023-07-25T21:41:11.3134318-03:00",
    "dotnet_repl_cellExecutionEndTime": "2023-07-25T21:41:11.349375-03:00",
    "dotnet_repl_cellExecutionTime": "35.9535ms",
    "dotnet_interactive": {
     "language": "fsharp"
    },
    "polyglot_notebook": {
     "kernelName": "fsharp"
    }
   },
   "outputs": [
    {
     "name": "stdout",
     "output_type": "stream",
     "text": [
      "1\r\n"
     ]
    }
   ],
   "source": [
    "//// test\n",
    "\n",
    "init 1\n",
    "|> Async.RunSynchronously\n",
    "|> _equal 1"
   ]
  }
 ],
 "metadata": {
  "kernelspec": {
   "display_name": ".NET (C#)",
   "language": "C#",
   "name": ".net-csharp"
  },
  "language_info": {
   "file_extension": ".cs",
   "mimetype": "text/x-csharp",
   "name": "C#",
   "pygments_lexer": "csharp",
   "version": "10.0"
  },
  "polyglot_notebook": {
   "defaultKernelName": "csharp",
   "items": [
    {
     "name": "csharp"
    }
   ]
  },
  "dotnet_interactive": {
   "defaultKernelName": "csharp",
   "items": [
    {
     "name": "csharp"
    }
   ]
  }
 },
 "nbformat": 4,
 "nbformat_minor": 5
}