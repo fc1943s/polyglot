{
 "cells": [
  {
   "cell_type": "markdown",
   "metadata": {
    "dotnet_repl_cellExecutionStartTime": "2023-07-24T18:09:28.6815022-03:00",
    "dotnet_repl_cellExecutionEndTime": "2023-07-24T18:09:28.7363003-03:00",
    "dotnet_repl_cellExecutionTime": "54.9267ms"
   },
   "source": [
    "# Async (Polyglot)"
   ]
  },
  {
   "cell_type": "code",
   "execution_count": null,
   "metadata": {
    "dotnet_repl_cellExecutionStartTime": "2023-07-24T18:09:28.7385123-03:00",
    "dotnet_repl_cellExecutionEndTime": "2023-07-24T18:09:37.4116448-03:00",
    "dotnet_repl_cellExecutionTime": "8.6731341s",
    "dotnet_interactive": {
     "language": "fsharp"
    },
    "polyglot_notebook": {
     "kernelName": "fsharp"
    }
   },
   "outputs": [
    {
     "data": {
      "text/html": [
       "<div><div></div><div><strong>Installing Packages</strong><ul><li><span>Expecto</span></li></ul></div><div></div></div>"
      ]
     },
     "metadata": {},
     "output_type": "display_data"
    },
    {
     "data": {
      "text/html": [
       "<div><div></div><div><strong>Installing Packages</strong><ul><li><span>Expecto.</span></li></ul></div><div></div></div>"
      ]
     },
     "metadata": {},
     "output_type": "display_data"
    },
    {
     "data": {
      "text/html": [
       "<div><div></div><div><strong>Installing Packages</strong><ul><li><span>Expecto..</span></li></ul></div><div></div></div>"
      ]
     },
     "metadata": {},
     "output_type": "display_data"
    },
    {
     "data": {
      "text/html": [
       "<div><div></div><div><strong>Installing Packages</strong><ul><li><span>Expecto...</span></li></ul></div><div></div></div>"
      ]
     },
     "metadata": {},
     "output_type": "display_data"
    },
    {
     "data": {
      "text/html": [
       "<div><div></div><div><strong>Installing Packages</strong><ul><li><span>Expecto....</span></li></ul></div><div></div></div>"
      ]
     },
     "metadata": {},
     "output_type": "display_data"
    },
    {
     "data": {
      "text/html": [
       "<div><div></div><div><strong>Installing Packages</strong><ul><li><span>Expecto.....</span></li></ul></div><div></div></div>"
      ]
     },
     "metadata": {},
     "output_type": "display_data"
    },
    {
     "data": {
      "text/html": [
       "<div><div></div><div><strong>Installing Packages</strong><ul><li><span>Expecto......</span></li></ul></div><div></div></div>"
      ]
     },
     "metadata": {},
     "output_type": "display_data"
    },
    {
     "data": {
      "text/html": [
       "<div><div></div><div><strong>Installing Packages</strong><ul><li><span>Expecto.......</span></li></ul></div><div></div></div>"
      ]
     },
     "metadata": {},
     "output_type": "display_data"
    },
    {
     "data": {
      "text/html": [
       "<div><div></div><div></div><div><strong>Installed Packages</strong><ul><li><span>Expecto, 10.1.0</span></li></ul></div></div>"
      ]
     },
     "metadata": {},
     "output_type": "display_data"
    }
   ],
   "source": [
    "#!import ../nbs/Testing.dib"
   ]
  },
  {
   "cell_type": "code",
   "execution_count": null,
   "metadata": {
    "dotnet_repl_cellExecutionStartTime": "2023-07-24T18:09:37.4117494-03:00",
    "dotnet_repl_cellExecutionEndTime": "2023-07-24T18:09:37.9156429-03:00",
    "dotnet_repl_cellExecutionTime": "503.8951ms",
    "dotnet_interactive": {
     "language": "fsharp"
    },
    "polyglot_notebook": {
     "kernelName": "fsharp"
    }
   },
   "outputs": [],
   "source": [
    "#!import ../nbs/Common.fs"
   ]
  },
  {
   "cell_type": "code",
   "execution_count": null,
   "metadata": {
    "dotnet_repl_cellExecutionStartTime": "2023-07-24T18:09:37.9156721-03:00",
    "dotnet_repl_cellExecutionEndTime": "2023-07-24T18:09:37.9217635-03:00",
    "dotnet_repl_cellExecutionTime": "6.0932ms",
    "dotnet_interactive": {
     "language": "fsharp"
    },
    "polyglot_notebook": {
     "kernelName": "fsharp"
    }
   },
   "outputs": [],
   "source": [
    "open Common"
   ]
  },
  {
   "cell_type": "markdown",
   "metadata": {
    "dotnet_repl_cellExecutionStartTime": "2023-07-24T18:09:37.9218021-03:00",
    "dotnet_repl_cellExecutionEndTime": "2023-07-24T18:09:37.9242304-03:00",
    "dotnet_repl_cellExecutionTime": "2.43ms"
   },
   "source": [
    "## choice"
   ]
  },
  {
   "cell_type": "code",
   "execution_count": null,
   "metadata": {
    "dotnet_repl_cellExecutionStartTime": "2023-07-24T18:09:37.9242573-03:00",
    "dotnet_repl_cellExecutionEndTime": "2023-07-24T18:09:38.0433854-03:00",
    "dotnet_repl_cellExecutionTime": "119.1297ms",
    "dotnet_interactive": {
     "language": "fsharp"
    },
    "polyglot_notebook": {
     "kernelName": "fsharp"
    }
   },
   "outputs": [],
   "source": [
    "let choice asyncs = async {\n",
    "    let e = Event<_> ()\n",
    "    let cts = new System.Threading.CancellationTokenSource ()\n",
    "    let fn =\n",
    "        asyncs\n",
    "        |> Seq.map (fun a -> async {\n",
    "            let! x = a\n",
    "            e.Trigger x\n",
    "        })\n",
    "        |> Async.Parallel\n",
    "        |> Async.Ignore\n",
    "    Async.Start (fn, cts.Token)\n",
    "    let! result = Async.AwaitEvent e.Publish\n",
    "    cts.Cancel ()\n",
    "    return result\n",
    "}"
   ]
  },
  {
   "cell_type": "markdown",
   "metadata": {
    "dotnet_repl_cellExecutionStartTime": "2023-07-24T18:09:38.0434257-03:00",
    "dotnet_repl_cellExecutionEndTime": "2023-07-24T18:09:38.04594-03:00",
    "dotnet_repl_cellExecutionTime": "2.5154ms"
   },
   "source": [
    "## map"
   ]
  },
  {
   "cell_type": "code",
   "execution_count": null,
   "metadata": {
    "dotnet_repl_cellExecutionStartTime": "2023-07-24T18:09:38.0459852-03:00",
    "dotnet_repl_cellExecutionEndTime": "2023-07-24T18:09:38.0706325-03:00",
    "dotnet_repl_cellExecutionTime": "24.6492ms",
    "dotnet_interactive": {
     "language": "fsharp"
    },
    "polyglot_notebook": {
     "kernelName": "fsharp"
    }
   },
   "outputs": [],
   "source": [
    "let map fn a = async {\n",
    "    let! x = a\n",
    "    return fn x\n",
    "}"
   ]
  },
  {
   "cell_type": "markdown",
   "metadata": {
    "dotnet_repl_cellExecutionStartTime": "2023-07-24T18:09:38.0706956-03:00",
    "dotnet_repl_cellExecutionEndTime": "2023-07-24T18:09:38.0730656-03:00",
    "dotnet_repl_cellExecutionTime": "2.3723ms"
   },
   "source": [
    "## runWithTimeoutAsync"
   ]
  },
  {
   "cell_type": "code",
   "execution_count": null,
   "metadata": {
    "dotnet_repl_cellExecutionStartTime": "2023-07-24T18:09:38.0731544-03:00",
    "dotnet_repl_cellExecutionEndTime": "2023-07-24T18:09:38.1337465-03:00",
    "dotnet_repl_cellExecutionTime": "60.5937ms",
    "dotnet_interactive": {
     "language": "fsharp"
    },
    "polyglot_notebook": {
     "kernelName": "fsharp"
    }
   },
   "outputs": [],
   "source": [
    "let runWithTimeoutAsync (timeout : int) fn =\n",
    "    let getLocals () = $\"timeout: {timeout} / {getLocals ()}\"\n",
    "\n",
    "    let timeoutTask = async {\n",
    "        do! Async.Sleep timeout\n",
    "        trace Debug (fun () -> \"runWithTimeoutAsync\") getLocals\n",
    "        return None\n",
    "    }\n",
    "\n",
    "    let task = fn |> map Some\n",
    "\n",
    "    [ timeoutTask; task ]\n",
    "    |> choice"
   ]
  },
  {
   "cell_type": "code",
   "execution_count": null,
   "metadata": {
    "dotnet_repl_cellExecutionStartTime": "2023-07-24T18:09:38.133775-03:00",
    "dotnet_repl_cellExecutionEndTime": "2023-07-24T18:09:38.1452831-03:00",
    "dotnet_repl_cellExecutionTime": "11.5096ms",
    "dotnet_interactive": {
     "language": "fsharp"
    },
    "polyglot_notebook": {
     "kernelName": "fsharp"
    }
   },
   "outputs": [],
   "source": [
    "let runWithTimeout timeout fn =\n",
    "    fn\n",
    "    |> runWithTimeoutAsync timeout\n",
    "    |> Async.RunSynchronously"
   ]
  },
  {
   "cell_type": "code",
   "execution_count": null,
   "metadata": {
    "dotnet_repl_cellExecutionStartTime": "2023-07-24T18:09:38.1453228-03:00",
    "dotnet_repl_cellExecutionEndTime": "2023-07-24T18:09:38.2267635-03:00",
    "dotnet_repl_cellExecutionTime": "81.4421ms",
    "dotnet_interactive": {
     "language": "fsharp"
    },
    "polyglot_notebook": {
     "kernelName": "fsharp"
    }
   },
   "outputs": [
    {
     "name": "stdout",
     "output_type": "stream",
     "text": [
      "18:09:38 #1 [Debug] runWithTimeoutAsync / timeout: 10\r\n",
      "<null>\r\n"
     ]
    }
   ],
   "source": [
    "//// test\n",
    "\n",
    "Async.Sleep 60\n",
    "|> runWithTimeout 10\n",
    "|> _equal None"
   ]
  },
  {
   "cell_type": "code",
   "execution_count": null,
   "metadata": {
    "dotnet_repl_cellExecutionStartTime": "2023-07-24T18:09:38.2267978-03:00",
    "dotnet_repl_cellExecutionEndTime": "2023-07-24T18:09:38.2622718-03:00",
    "dotnet_repl_cellExecutionTime": "35.475ms",
    "dotnet_interactive": {
     "language": "fsharp"
    },
    "polyglot_notebook": {
     "kernelName": "fsharp"
    }
   },
   "outputs": [
    {
     "name": "stdout",
     "output_type": "stream",
     "text": [
      "FSharpOption<Unit>\r\n",
      "      Value: <null>\r\n"
     ]
    }
   ],
   "source": [
    "//// test\n",
    "\n",
    "Async.Sleep 10\n",
    "|> runWithTimeout 60\n",
    "|> _equal (Some ())"
   ]
  },
  {
   "cell_type": "markdown",
   "metadata": {
    "dotnet_repl_cellExecutionStartTime": "2023-07-24T18:09:38.2623029-03:00",
    "dotnet_repl_cellExecutionEndTime": "2023-07-24T18:09:38.264633-03:00",
    "dotnet_repl_cellExecutionTime": "2.3319ms"
   },
   "source": [
    "## runWithTimeoutStrict"
   ]
  },
  {
   "cell_type": "code",
   "execution_count": null,
   "metadata": {
    "dotnet_repl_cellExecutionStartTime": "2023-07-24T18:09:38.2646622-03:00",
    "dotnet_repl_cellExecutionEndTime": "2023-07-24T18:09:38.4824736-03:00",
    "dotnet_repl_cellExecutionTime": "217.813ms",
    "dotnet_interactive": {
     "language": "fsharp"
    },
    "polyglot_notebook": {
     "kernelName": "fsharp"
    }
   },
   "outputs": [],
   "source": [
    "let runWithTimeoutStrict (timeout : int) fn =\n",
    "    let getLocals () = $\"timeout: {timeout} / {getLocals ()}\"\n",
    "\n",
    "    let timeoutTask = async {\n",
    "        do! Async.Sleep timeout\n",
    "        return None, getLocals\n",
    "    }\n",
    "    \n",
    "    let task = async {\n",
    "        try\n",
    "            return Async.RunSynchronously (fn, timeout) |> Some, getLocals\n",
    "        with\n",
    "        | :? System.TimeoutException as ex ->\n",
    "            let getLocals () = $\"ex: {ex |> printException} / {getLocals ()}\"\n",
    "            return None, getLocals\n",
    "        | e ->\n",
    "            trace Error (fun () -> \"runWithTimeoutStrict\") getLocals\n",
    "            return raise e\n",
    "    }\n",
    "\n",
    "    try\n",
    "        [| timeoutTask; task |]\n",
    "        |> Array.map Async.StartAsTask\n",
    "        |> System.Threading.Tasks.Task.WhenAny\n",
    "        |> fun task ->\n",
    "            match task.Result.Result with\n",
    "            | None, getLocals ->\n",
    "                trace Debug (fun () -> \"runWithTimeoutStrict\") getLocals\n",
    "                None\n",
    "            | result, _ -> result\n",
    "    with\n",
    "    | :? System.AggregateException as ex when\n",
    "        ex.InnerExceptions\n",
    "        |> Seq.exists (function :? System.Threading.Tasks.TaskCanceledException -> true | _ -> false)\n",
    "        ->\n",
    "        let getLocals () = $\"ex: {ex |> printException} / {getLocals ()}\"\n",
    "        trace Warn (fun () -> \"runWithTimeoutStrict\") getLocals\n",
    "        None\n",
    "    | ex ->\n",
    "        trace Error (fun () -> \"runWithTimeoutStrict\") getLocals\n",
    "        raise ex"
   ]
  },
  {
   "cell_type": "code",
   "execution_count": null,
   "metadata": {
    "dotnet_repl_cellExecutionStartTime": "2023-07-24T18:09:38.4825122-03:00",
    "dotnet_repl_cellExecutionEndTime": "2023-07-24T18:09:38.5077537-03:00",
    "dotnet_repl_cellExecutionTime": "25.2431ms",
    "dotnet_interactive": {
     "language": "fsharp"
    },
    "polyglot_notebook": {
     "kernelName": "fsharp"
    }
   },
   "outputs": [
    {
     "name": "stdout",
     "output_type": "stream",
     "text": [
      "18:09:38 #2 [Debug] runWithTimeoutStrict / timeout: 10\r\n",
      "<null>\r\n"
     ]
    }
   ],
   "source": [
    "//// test\n",
    "\n",
    "Async.Sleep 60\n",
    "|> runWithTimeoutStrict 10\n",
    "|> _equal None"
   ]
  },
  {
   "cell_type": "code",
   "execution_count": null,
   "metadata": {
    "dotnet_repl_cellExecutionStartTime": "2023-07-24T18:09:38.5078126-03:00",
    "dotnet_repl_cellExecutionEndTime": "2023-07-24T18:09:38.5439676-03:00",
    "dotnet_repl_cellExecutionTime": "36.1562ms",
    "dotnet_interactive": {
     "language": "fsharp"
    },
    "polyglot_notebook": {
     "kernelName": "fsharp"
    }
   },
   "outputs": [
    {
     "name": "stdout",
     "output_type": "stream",
     "text": [
      "FSharpOption<Unit>\r\n",
      "      Value: <null>\r\n"
     ]
    }
   ],
   "source": [
    "//// test\n",
    "\n",
    "Async.Sleep 10\n",
    "|> runWithTimeoutStrict 60\n",
    "|> _equal (Some ())"
   ]
  },
  {
   "cell_type": "markdown",
   "metadata": {
    "dotnet_repl_cellExecutionStartTime": "2023-07-24T18:09:38.5440116-03:00",
    "dotnet_repl_cellExecutionEndTime": "2023-07-24T18:09:38.5464515-03:00",
    "dotnet_repl_cellExecutionTime": "2.4415ms"
   },
   "source": [
    "## awaitValueTask"
   ]
  },
  {
   "cell_type": "code",
   "execution_count": null,
   "metadata": {
    "dotnet_repl_cellExecutionStartTime": "2023-07-24T18:09:38.5464796-03:00",
    "dotnet_repl_cellExecutionEndTime": "2023-07-24T18:09:38.5615704-03:00",
    "dotnet_repl_cellExecutionTime": "15.0925ms",
    "dotnet_interactive": {
     "language": "fsharp"
    },
    "polyglot_notebook": {
     "kernelName": "fsharp"
    }
   },
   "outputs": [],
   "source": [
    "let awaitValueTaskUnit (task : System.Threading.Tasks.ValueTask) =\n",
    "    task.AsTask () |> Async.AwaitTask\n",
    "\n",
    "let awaitValueTask (task : System.Threading.Tasks.ValueTask<_>) =\n",
    "    task.AsTask () |> Async.AwaitTask"
   ]
  }
 ],
 "metadata": {
  "kernelspec": {
   "display_name": ".NET (C#)",
   "language": "C#",
   "name": ".net-csharp"
  },
  "language_info": {
   "file_extension": ".cs",
   "mimetype": "text/x-csharp",
   "name": "C#",
   "pygments_lexer": "csharp",
   "version": "10.0"
  },
  "polyglot_notebook": {
   "defaultKernelName": "csharp",
   "items": [
    {
     "name": "csharp"
    }
   ]
  },
  "dotnet_interactive": {
   "defaultKernelName": "csharp",
   "items": [
    {
     "name": "csharp"
    }
   ]
  }
 },
 "nbformat": 4,
 "nbformat_minor": 5
}