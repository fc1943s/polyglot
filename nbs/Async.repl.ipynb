{
 "cells": [
  {
   "cell_type": "markdown",
   "metadata": {
    "dotnet_repl_cellExecutionStartTime": "2023-07-25T16:02:57.2510147-03:00",
    "dotnet_repl_cellExecutionEndTime": "2023-07-25T16:02:57.3038165-03:00",
    "dotnet_repl_cellExecutionTime": "52.9484ms"
   },
   "source": [
    "# Async (Polyglot)"
   ]
  },
  {
   "cell_type": "code",
   "execution_count": null,
   "metadata": {
    "dotnet_repl_cellExecutionStartTime": "2023-07-25T16:02:57.3061095-03:00",
    "dotnet_repl_cellExecutionEndTime": "2023-07-25T16:03:02.1358024-03:00",
    "dotnet_repl_cellExecutionTime": "4.8297057s",
    "dotnet_interactive": {
     "language": "fsharp"
    },
    "polyglot_notebook": {
     "kernelName": "fsharp"
    }
   },
   "outputs": [],
   "source": [
    "#!import ../nbs/Testing.dib"
   ]
  },
  {
   "cell_type": "code",
   "execution_count": null,
   "metadata": {
    "dotnet_repl_cellExecutionStartTime": "2023-07-25T16:03:02.1358714-03:00",
    "dotnet_repl_cellExecutionEndTime": "2023-07-25T16:03:02.6840194-03:00",
    "dotnet_repl_cellExecutionTime": "548.1515ms",
    "dotnet_interactive": {
     "language": "fsharp"
    },
    "polyglot_notebook": {
     "kernelName": "fsharp"
    }
   },
   "outputs": [],
   "source": [
    "#!import ../nbs/Common.fs"
   ]
  },
  {
   "cell_type": "code",
   "execution_count": null,
   "metadata": {
    "dotnet_repl_cellExecutionStartTime": "2023-07-25T16:03:02.6840633-03:00",
    "dotnet_repl_cellExecutionEndTime": "2023-07-25T16:03:02.6903738-03:00",
    "dotnet_repl_cellExecutionTime": "6.3135ms",
    "dotnet_interactive": {
     "language": "fsharp"
    },
    "polyglot_notebook": {
     "kernelName": "fsharp"
    }
   },
   "outputs": [],
   "source": [
    "open Common"
   ]
  },
  {
   "cell_type": "markdown",
   "metadata": {
    "dotnet_repl_cellExecutionStartTime": "2023-07-25T16:03:02.6904116-03:00",
    "dotnet_repl_cellExecutionEndTime": "2023-07-25T16:03:02.6932577-03:00",
    "dotnet_repl_cellExecutionTime": "2.85ms"
   },
   "source": [
    "## choice"
   ]
  },
  {
   "cell_type": "code",
   "execution_count": null,
   "metadata": {
    "dotnet_repl_cellExecutionStartTime": "2023-07-25T16:03:02.693296-03:00",
    "dotnet_repl_cellExecutionEndTime": "2023-07-25T16:03:02.784629-03:00",
    "dotnet_repl_cellExecutionTime": "91.3369ms",
    "dotnet_interactive": {
     "language": "fsharp"
    },
    "polyglot_notebook": {
     "kernelName": "fsharp"
    }
   },
   "outputs": [],
   "source": [
    "let choice asyncs = async {\n",
    "    let e = Event<_> ()\n",
    "    let cts = new System.Threading.CancellationTokenSource ()\n",
    "    let fn =\n",
    "        asyncs\n",
    "        |> Seq.map (fun a -> async {\n",
    "            let! x = a\n",
    "            e.Trigger x\n",
    "        })\n",
    "        |> Async.Parallel\n",
    "        |> Async.Ignore\n",
    "    Async.Start (fn, cts.Token)\n",
    "    let! result = Async.AwaitEvent e.Publish\n",
    "    cts.Cancel ()\n",
    "    return result\n",
    "}"
   ]
  },
  {
   "cell_type": "markdown",
   "metadata": {
    "dotnet_repl_cellExecutionStartTime": "2023-07-25T16:03:02.7846924-03:00",
    "dotnet_repl_cellExecutionEndTime": "2023-07-25T16:03:02.7873442-03:00",
    "dotnet_repl_cellExecutionTime": "2.6538ms"
   },
   "source": [
    "## map"
   ]
  },
  {
   "cell_type": "code",
   "execution_count": null,
   "metadata": {
    "dotnet_repl_cellExecutionStartTime": "2023-07-25T16:03:02.7873671-03:00",
    "dotnet_repl_cellExecutionEndTime": "2023-07-25T16:03:02.8038131-03:00",
    "dotnet_repl_cellExecutionTime": "16.4496ms",
    "dotnet_interactive": {
     "language": "fsharp"
    },
    "polyglot_notebook": {
     "kernelName": "fsharp"
    }
   },
   "outputs": [],
   "source": [
    "let map fn a = async {\n",
    "    let! x = a\n",
    "    return fn x\n",
    "}"
   ]
  },
  {
   "cell_type": "markdown",
   "metadata": {
    "dotnet_repl_cellExecutionStartTime": "2023-07-25T16:03:02.8038487-03:00",
    "dotnet_repl_cellExecutionEndTime": "2023-07-25T16:03:02.8065654-03:00",
    "dotnet_repl_cellExecutionTime": "2.7187ms"
   },
   "source": [
    "## runWithTimeoutAsync"
   ]
  },
  {
   "cell_type": "code",
   "execution_count": null,
   "metadata": {
    "dotnet_repl_cellExecutionStartTime": "2023-07-25T16:03:02.8065897-03:00",
    "dotnet_repl_cellExecutionEndTime": "2023-07-25T16:03:02.8389952-03:00",
    "dotnet_repl_cellExecutionTime": "32.4095ms",
    "dotnet_interactive": {
     "language": "fsharp"
    },
    "polyglot_notebook": {
     "kernelName": "fsharp"
    }
   },
   "outputs": [],
   "source": [
    "let runWithTimeoutAsync (timeout : int) fn =\n",
    "    let getLocals () = $\"timeout: {timeout} / {getLocals ()}\"\n",
    "\n",
    "    let timeoutTask = async {\n",
    "        do! Async.Sleep timeout\n",
    "        trace Debug (fun () -> \"runWithTimeoutAsync\") getLocals\n",
    "        return None\n",
    "    }\n",
    "\n",
    "    let task = fn |> map Some\n",
    "\n",
    "    [ timeoutTask; task ]\n",
    "    |> choice"
   ]
  },
  {
   "cell_type": "code",
   "execution_count": null,
   "metadata": {
    "dotnet_repl_cellExecutionStartTime": "2023-07-25T16:03:02.8390313-03:00",
    "dotnet_repl_cellExecutionEndTime": "2023-07-25T16:03:02.8486956-03:00",
    "dotnet_repl_cellExecutionTime": "9.6684ms",
    "dotnet_interactive": {
     "language": "fsharp"
    },
    "polyglot_notebook": {
     "kernelName": "fsharp"
    }
   },
   "outputs": [],
   "source": [
    "let runWithTimeout timeout fn =\n",
    "    fn\n",
    "    |> runWithTimeoutAsync timeout\n",
    "    |> Async.RunSynchronously"
   ]
  },
  {
   "cell_type": "code",
   "execution_count": null,
   "metadata": {
    "dotnet_repl_cellExecutionStartTime": "2023-07-25T16:03:02.8487427-03:00",
    "dotnet_repl_cellExecutionEndTime": "2023-07-25T16:03:02.9471276-03:00",
    "dotnet_repl_cellExecutionTime": "98.389ms",
    "dotnet_interactive": {
     "language": "fsharp"
    },
    "polyglot_notebook": {
     "kernelName": "fsharp"
    }
   },
   "outputs": [
    {
     "name": "stdout",
     "output_type": "stream",
     "text": [
      "16:03:02 #1 [Debug] runWithTimeoutAsync / timeout: 10\r\n",
      "<null>\r\n"
     ]
    }
   ],
   "source": [
    "//// test\n",
    "\n",
    "Async.Sleep 60\n",
    "|> runWithTimeout 10\n",
    "|> _equal None"
   ]
  },
  {
   "cell_type": "code",
   "execution_count": null,
   "metadata": {
    "dotnet_repl_cellExecutionStartTime": "2023-07-25T16:03:02.9471961-03:00",
    "dotnet_repl_cellExecutionEndTime": "2023-07-25T16:03:02.9887858-03:00",
    "dotnet_repl_cellExecutionTime": "41.5932ms",
    "dotnet_interactive": {
     "language": "fsharp"
    },
    "polyglot_notebook": {
     "kernelName": "fsharp"
    }
   },
   "outputs": [
    {
     "name": "stdout",
     "output_type": "stream",
     "text": [
      "FSharpOption<Unit>\r\n",
      "      Value: <null>\r\n"
     ]
    }
   ],
   "source": [
    "//// test\n",
    "\n",
    "Async.Sleep 10\n",
    "|> runWithTimeout 60\n",
    "|> _equal (Some ())"
   ]
  },
  {
   "cell_type": "markdown",
   "metadata": {
    "dotnet_repl_cellExecutionStartTime": "2023-07-25T16:03:02.9888518-03:00",
    "dotnet_repl_cellExecutionEndTime": "2023-07-25T16:03:02.9917057-03:00",
    "dotnet_repl_cellExecutionTime": "2.8573ms"
   },
   "source": [
    "## runWithTimeoutStrict"
   ]
  },
  {
   "cell_type": "code",
   "execution_count": null,
   "metadata": {
    "dotnet_repl_cellExecutionStartTime": "2023-07-25T16:03:02.9917427-03:00",
    "dotnet_repl_cellExecutionEndTime": "2023-07-25T16:03:03.1221656-03:00",
    "dotnet_repl_cellExecutionTime": "130.4265ms",
    "dotnet_interactive": {
     "language": "fsharp"
    },
    "polyglot_notebook": {
     "kernelName": "fsharp"
    }
   },
   "outputs": [],
   "source": [
    "let runWithTimeoutStrict (timeout : int) fn =\n",
    "    let getLocals () = $\"timeout: {timeout} / {getLocals ()}\"\n",
    "\n",
    "    let timeoutTask = async {\n",
    "        do! Async.Sleep timeout\n",
    "        return None, getLocals\n",
    "    }\n",
    "    \n",
    "    let task = async {\n",
    "        try\n",
    "            return Async.RunSynchronously (fn, timeout) |> Some, getLocals\n",
    "        with\n",
    "        | :? System.TimeoutException as ex ->\n",
    "            let getLocals () = $\"ex: {ex |> printException} / {getLocals ()}\"\n",
    "            return None, getLocals\n",
    "        | e ->\n",
    "            trace Error (fun () -> \"runWithTimeoutStrict\") getLocals\n",
    "            return raise e\n",
    "    }\n",
    "\n",
    "    try\n",
    "        [| timeoutTask; task |]\n",
    "        |> Array.map Async.StartAsTask\n",
    "        |> System.Threading.Tasks.Task.WhenAny\n",
    "        |> fun task ->\n",
    "            match task.Result.Result with\n",
    "            | None, getLocals ->\n",
    "                trace Debug (fun () -> \"runWithTimeoutStrict\") getLocals\n",
    "                None\n",
    "            | result, _ -> result\n",
    "    with\n",
    "    | :? System.AggregateException as ex when\n",
    "        ex.InnerExceptions\n",
    "        |> Seq.exists (function :? System.Threading.Tasks.TaskCanceledException -> true | _ -> false)\n",
    "        ->\n",
    "        let getLocals () = $\"ex: {ex |> printException} / {getLocals ()}\"\n",
    "        trace Warn (fun () -> \"runWithTimeoutStrict\") getLocals\n",
    "        None\n",
    "    | ex ->\n",
    "        trace Error (fun () -> \"runWithTimeoutStrict\") getLocals\n",
    "        raise ex"
   ]
  },
  {
   "cell_type": "code",
   "execution_count": null,
   "metadata": {
    "dotnet_repl_cellExecutionStartTime": "2023-07-25T16:03:03.1221991-03:00",
    "dotnet_repl_cellExecutionEndTime": "2023-07-25T16:03:03.1475329-03:00",
    "dotnet_repl_cellExecutionTime": "25.3376ms",
    "dotnet_interactive": {
     "language": "fsharp"
    },
    "polyglot_notebook": {
     "kernelName": "fsharp"
    }
   },
   "outputs": [
    {
     "name": "stdout",
     "output_type": "stream",
     "text": [
      "16:03:03 #2 [Debug] runWithTimeoutStrict / timeout: 10\r\n",
      "<null>\r\n"
     ]
    }
   ],
   "source": [
    "//// test\n",
    "\n",
    "Async.Sleep 60\n",
    "|> runWithTimeoutStrict 10\n",
    "|> _equal None"
   ]
  },
  {
   "cell_type": "code",
   "execution_count": null,
   "metadata": {
    "dotnet_repl_cellExecutionStartTime": "2023-07-25T16:03:03.1475829-03:00",
    "dotnet_repl_cellExecutionEndTime": "2023-07-25T16:03:03.176102-03:00",
    "dotnet_repl_cellExecutionTime": "28.524ms",
    "dotnet_interactive": {
     "language": "fsharp"
    },
    "polyglot_notebook": {
     "kernelName": "fsharp"
    }
   },
   "outputs": [
    {
     "name": "stdout",
     "output_type": "stream",
     "text": [
      "FSharpOption<Unit>\r\n",
      "      Value: <null>\r\n"
     ]
    }
   ],
   "source": [
    "//// test\n",
    "\n",
    "Async.Sleep 10\n",
    "|> runWithTimeoutStrict 60\n",
    "|> _equal (Some ())"
   ]
  },
  {
   "cell_type": "markdown",
   "metadata": {
    "dotnet_repl_cellExecutionStartTime": "2023-07-25T16:03:03.1761569-03:00",
    "dotnet_repl_cellExecutionEndTime": "2023-07-25T16:03:03.19169-03:00",
    "dotnet_repl_cellExecutionTime": "15.5367ms"
   },
   "source": [
    "## awaitValueTask"
   ]
  },
  {
   "cell_type": "code",
   "execution_count": null,
   "metadata": {
    "dotnet_repl_cellExecutionStartTime": "2023-07-25T16:03:03.1917235-03:00",
    "dotnet_repl_cellExecutionEndTime": "2023-07-25T16:03:03.206693-03:00",
    "dotnet_repl_cellExecutionTime": "14.9734ms",
    "dotnet_interactive": {
     "language": "fsharp"
    },
    "polyglot_notebook": {
     "kernelName": "fsharp"
    }
   },
   "outputs": [],
   "source": [
    "let awaitValueTaskUnit (task : System.Threading.Tasks.ValueTask) =\n",
    "    task.AsTask () |> Async.AwaitTask\n",
    "\n",
    "let awaitValueTask (task : System.Threading.Tasks.ValueTask<_>) =\n",
    "    task.AsTask () |> Async.AwaitTask"
   ]
  },
  {
   "cell_type": "markdown",
   "metadata": {
    "dotnet_repl_cellExecutionStartTime": "2023-07-25T16:03:03.2067289-03:00",
    "dotnet_repl_cellExecutionEndTime": "2023-07-25T16:03:03.2096205-03:00",
    "dotnet_repl_cellExecutionTime": "2.8968ms"
   },
   "source": [
    "## init"
   ]
  },
  {
   "cell_type": "code",
   "execution_count": null,
   "metadata": {
    "dotnet_repl_cellExecutionStartTime": "2023-07-25T16:03:03.2096817-03:00",
    "dotnet_repl_cellExecutionEndTime": "2023-07-25T16:03:03.222463-03:00",
    "dotnet_repl_cellExecutionTime": "12.7848ms",
    "dotnet_interactive": {
     "language": "fsharp"
    },
    "polyglot_notebook": {
     "kernelName": "fsharp"
    }
   },
   "outputs": [],
   "source": [
    "let init x = async {\n",
    "    return x\n",
    "}"
   ]
  },
  {
   "cell_type": "code",
   "execution_count": null,
   "metadata": {
    "dotnet_repl_cellExecutionStartTime": "2023-07-25T16:03:03.2224983-03:00",
    "dotnet_repl_cellExecutionEndTime": "2023-07-25T16:03:03.2433947-03:00",
    "dotnet_repl_cellExecutionTime": "20.9029ms",
    "dotnet_interactive": {
     "language": "fsharp"
    },
    "polyglot_notebook": {
     "kernelName": "fsharp"
    }
   },
   "outputs": [
    {
     "name": "stdout",
     "output_type": "stream",
     "text": [
      "1\r\n"
     ]
    }
   ],
   "source": [
    "//// test\n",
    "\n",
    "init 1\n",
    "|> Async.RunSynchronously\n",
    "|> _equal 1"
   ]
  }
 ],
 "metadata": {
  "kernelspec": {
   "display_name": ".NET (C#)",
   "language": "C#",
   "name": ".net-csharp"
  },
  "language_info": {
   "file_extension": ".cs",
   "mimetype": "text/x-csharp",
   "name": "C#",
   "pygments_lexer": "csharp",
   "version": "10.0"
  },
  "polyglot_notebook": {
   "defaultKernelName": "csharp",
   "items": [
    {
     "name": "csharp"
    }
   ]
  },
  "dotnet_interactive": {
   "defaultKernelName": "csharp",
   "items": [
    {
     "name": "csharp"
    }
   ]
  }
 },
 "nbformat": 4,
 "nbformat_minor": 5
}