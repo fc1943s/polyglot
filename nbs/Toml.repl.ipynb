{
 "cells": [
  {
   "cell_type": "markdown",
   "metadata": {
    "dotnet_repl_cellExecutionStartTime": "2023-07-25T16:04:21.5671662-03:00",
    "dotnet_repl_cellExecutionEndTime": "2023-07-25T16:04:21.6175671-03:00",
    "dotnet_repl_cellExecutionTime": "50.615ms"
   },
   "source": [
    "# Toml (Polyglot)"
   ]
  },
  {
   "cell_type": "code",
   "execution_count": null,
   "metadata": {
    "dotnet_repl_cellExecutionStartTime": "2023-07-25T16:04:21.620034-03:00",
    "dotnet_repl_cellExecutionEndTime": "2023-07-25T16:04:26.4746698-03:00",
    "dotnet_repl_cellExecutionTime": "4.8546393s",
    "dotnet_interactive": {
     "language": "fsharp"
    },
    "polyglot_notebook": {
     "kernelName": "fsharp"
    }
   },
   "outputs": [],
   "source": [
    "#!import ../nbs/Testing.dib"
   ]
  },
  {
   "cell_type": "code",
   "execution_count": null,
   "metadata": {
    "dotnet_repl_cellExecutionStartTime": "2023-07-25T16:04:26.474763-03:00",
    "dotnet_repl_cellExecutionEndTime": "2023-07-25T16:04:26.4831514-03:00",
    "dotnet_repl_cellExecutionTime": "8.3899ms",
    "dotnet_interactive": {
     "language": "fsharp"
    },
    "polyglot_notebook": {
     "kernelName": "fsharp"
    }
   },
   "outputs": [],
   "source": [
    "// #r \"nuget:Tomlyn,0.16.2\"\n",
    "\n",
    "#r @\"../../../../../../../.nuget/packages/tomlyn/0.16.2/lib/net6.0/Tomlyn.dll\""
   ]
  },
  {
   "cell_type": "code",
   "execution_count": null,
   "metadata": {
    "dotnet_repl_cellExecutionStartTime": "2023-07-25T16:04:26.4831795-03:00",
    "dotnet_repl_cellExecutionEndTime": "2023-07-25T16:04:26.9998452-03:00",
    "dotnet_repl_cellExecutionTime": "516.6693ms",
    "dotnet_interactive": {
     "language": "fsharp"
    },
    "polyglot_notebook": {
     "kernelName": "fsharp"
    }
   },
   "outputs": [],
   "source": [
    "#!import ../nbs/Common.fs"
   ]
  },
  {
   "cell_type": "code",
   "execution_count": null,
   "metadata": {
    "dotnet_repl_cellExecutionStartTime": "2023-07-25T16:04:26.9998994-03:00",
    "dotnet_repl_cellExecutionEndTime": "2023-07-25T16:04:27.0058146-03:00",
    "dotnet_repl_cellExecutionTime": "5.9186ms",
    "dotnet_interactive": {
     "language": "fsharp"
    },
    "polyglot_notebook": {
     "kernelName": "fsharp"
    }
   },
   "outputs": [],
   "source": [
    "open Common"
   ]
  },
  {
   "cell_type": "code",
   "execution_count": null,
   "metadata": {
    "dotnet_repl_cellExecutionStartTime": "2023-07-25T16:04:27.0058435-03:00",
    "dotnet_repl_cellExecutionEndTime": "2023-07-25T16:04:27.0439806-03:00",
    "dotnet_repl_cellExecutionTime": "38.1407ms",
    "dotnet_interactive": {
     "language": "fsharp"
    },
    "polyglot_notebook": {
     "kernelName": "fsharp"
    }
   },
   "outputs": [],
   "source": [
    "let (/./) (table: Tomlyn.Model.TomlTable) (key: string) : Tomlyn.Model.TomlTable =\n",
    "    table.[key] :?> Tomlyn.Model.TomlTable\n",
    "\n",
    "let (/../) (table: Tomlyn.Model.TomlTable) (key: string) : 'T seq =\n",
    "    table.[key] :?> Tomlyn.Model.TomlArray |> Seq.cast<'T>"
   ]
  },
  {
   "cell_type": "code",
   "execution_count": null,
   "metadata": {
    "dotnet_repl_cellExecutionStartTime": "2023-07-25T16:04:27.0440109-03:00",
    "dotnet_repl_cellExecutionEndTime": "2023-07-25T16:04:27.1500219-03:00",
    "dotnet_repl_cellExecutionTime": "106.0132ms",
    "dotnet_interactive": {
     "language": "fsharp"
    },
    "polyglot_notebook": {
     "kernelName": "fsharp"
    }
   },
   "outputs": [
    {
     "name": "stdout",
     "output_type": "stream",
     "text": [
      "[ /a, /b ]\r\n"
     ]
    }
   ],
   "source": [
    "//// test\n",
    "\n",
    "let tomlContent =\n",
    "    \"\"\"\n",
    "[extension]\n",
    "paths = [\"/a\", \"/b\"]\n",
    "\"\"\"\n",
    "\n",
    "let toml = Tomlyn.Toml.Parse tomlContent\n",
    "let tomlModel = Tomlyn.Toml.ToModel toml\n",
    "\n",
    "let paths : string seq = tomlModel /./ \"extension\" /../ \"paths\"\n",
    "\n",
    "paths\n",
    "|> Seq.toList\n",
    "|> _equal [\"/a\"; \"/b\"]"
   ]
  }
 ],
 "metadata": {
  "kernelspec": {
   "display_name": ".NET (C#)",
   "language": "C#",
   "name": ".net-csharp"
  },
  "language_info": {
   "file_extension": ".cs",
   "mimetype": "text/x-csharp",
   "name": "C#",
   "pygments_lexer": "csharp",
   "version": "10.0"
  },
  "polyglot_notebook": {
   "defaultKernelName": "csharp",
   "items": [
    {
     "name": "csharp"
    }
   ]
  },
  "dotnet_interactive": {
   "defaultKernelName": "csharp",
   "items": [
    {
     "name": "csharp"
    }
   ]
  }
 },
 "nbformat": 4,
 "nbformat_minor": 5
}