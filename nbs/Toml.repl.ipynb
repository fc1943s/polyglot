{
 "cells": [
  {
   "cell_type": "markdown",
   "metadata": {
    "dotnet_repl_cellExecutionStartTime": "2023-07-25T21:42:54.2138918-03:00",
    "dotnet_repl_cellExecutionEndTime": "2023-07-25T21:42:54.2653728-03:00",
    "dotnet_repl_cellExecutionTime": "51.6352ms"
   },
   "source": [
    "# Toml (Polyglot)"
   ]
  },
  {
   "cell_type": "code",
   "execution_count": null,
   "metadata": {
    "dotnet_repl_cellExecutionStartTime": "2023-07-25T21:42:54.2677191-03:00",
    "dotnet_repl_cellExecutionEndTime": "2023-07-25T21:42:59.4040294-03:00",
    "dotnet_repl_cellExecutionTime": "5.1363139s",
    "dotnet_interactive": {
     "language": "fsharp"
    },
    "polyglot_notebook": {
     "kernelName": "fsharp"
    }
   },
   "outputs": [],
   "source": [
    "#!import ../nbs/Testing.dib"
   ]
  },
  {
   "cell_type": "code",
   "execution_count": null,
   "metadata": {
    "dotnet_repl_cellExecutionStartTime": "2023-07-25T21:42:59.4040924-03:00",
    "dotnet_repl_cellExecutionEndTime": "2023-07-25T21:42:59.4147591-03:00",
    "dotnet_repl_cellExecutionTime": "10.669ms",
    "dotnet_interactive": {
     "language": "fsharp"
    },
    "polyglot_notebook": {
     "kernelName": "fsharp"
    }
   },
   "outputs": [],
   "source": [
    "#r @\"../../../../../../../.nuget/packages/tomlyn/0.16.2/lib/net6.0/Tomlyn.dll\""
   ]
  },
  {
   "cell_type": "code",
   "execution_count": null,
   "metadata": {
    "dotnet_repl_cellExecutionStartTime": "2023-07-25T21:42:59.414801-03:00",
    "dotnet_repl_cellExecutionEndTime": "2023-07-25T21:43:00.00389-03:00",
    "dotnet_repl_cellExecutionTime": "589.093ms",
    "dotnet_interactive": {
     "language": "fsharp"
    },
    "polyglot_notebook": {
     "kernelName": "fsharp"
    }
   },
   "outputs": [],
   "source": [
    "#!import ../nbs/Common.fs"
   ]
  },
  {
   "cell_type": "code",
   "execution_count": null,
   "metadata": {
    "dotnet_repl_cellExecutionStartTime": "2023-07-25T21:43:00.0039219-03:00",
    "dotnet_repl_cellExecutionEndTime": "2023-07-25T21:43:00.0117022-03:00",
    "dotnet_repl_cellExecutionTime": "7.7843ms",
    "dotnet_interactive": {
     "language": "fsharp"
    },
    "polyglot_notebook": {
     "kernelName": "fsharp"
    }
   },
   "outputs": [],
   "source": [
    "open Common"
   ]
  },
  {
   "cell_type": "code",
   "execution_count": null,
   "metadata": {
    "dotnet_repl_cellExecutionStartTime": "2023-07-25T21:43:00.0117377-03:00",
    "dotnet_repl_cellExecutionEndTime": "2023-07-25T21:43:00.0483134-03:00",
    "dotnet_repl_cellExecutionTime": "36.5821ms",
    "dotnet_interactive": {
     "language": "fsharp"
    },
    "polyglot_notebook": {
     "kernelName": "fsharp"
    }
   },
   "outputs": [],
   "source": [
    "let inline (/./) (table: Tomlyn.Model.TomlTable) (key: string) : Tomlyn.Model.TomlTable =\n",
    "    table.[key] :?> Tomlyn.Model.TomlTable\n",
    "\n",
    "let inline (/../) (table: Tomlyn.Model.TomlTable) (key: string) : 'T seq =\n",
    "    table.[key] :?> Tomlyn.Model.TomlArray |> Seq.cast<'T>"
   ]
  },
  {
   "cell_type": "code",
   "execution_count": null,
   "metadata": {
    "dotnet_repl_cellExecutionStartTime": "2023-07-25T21:43:00.0483631-03:00",
    "dotnet_repl_cellExecutionEndTime": "2023-07-25T21:43:00.1941005-03:00",
    "dotnet_repl_cellExecutionTime": "145.7399ms",
    "dotnet_interactive": {
     "language": "fsharp"
    },
    "polyglot_notebook": {
     "kernelName": "fsharp"
    }
   },
   "outputs": [
    {
     "name": "stdout",
     "output_type": "stream",
     "text": [
      "[ /a, /b ]\r\n"
     ]
    }
   ],
   "source": [
    "//// test\n",
    "\n",
    "let tomlContent =\n",
    "    \"\"\"\n",
    "[extension]\n",
    "paths = [\"/a\", \"/b\"]\n",
    "\"\"\"\n",
    "\n",
    "let toml = Tomlyn.Toml.Parse tomlContent\n",
    "let tomlModel = Tomlyn.Toml.ToModel toml\n",
    "\n",
    "let paths : string seq = tomlModel /./ \"extension\" /../ \"paths\"\n",
    "\n",
    "paths\n",
    "|> Seq.toList\n",
    "|> _equal [\"/a\"; \"/b\"]"
   ]
  }
 ],
 "metadata": {
  "kernelspec": {
   "display_name": ".NET (C#)",
   "language": "C#",
   "name": ".net-csharp"
  },
  "language_info": {
   "file_extension": ".cs",
   "mimetype": "text/x-csharp",
   "name": "C#",
   "pygments_lexer": "csharp",
   "version": "10.0"
  },
  "polyglot_notebook": {
   "defaultKernelName": "csharp",
   "items": [
    {
     "name": "csharp"
    }
   ]
  },
  "dotnet_interactive": {
   "defaultKernelName": "csharp",
   "items": [
    {
     "name": "csharp"
    }
   ]
  }
 },
 "nbformat": 4,
 "nbformat_minor": 5
}