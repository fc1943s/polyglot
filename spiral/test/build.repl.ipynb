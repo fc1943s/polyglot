{
 "cells": [
  {
   "cell_type": "code",
   "execution_count": null,
   "metadata": {
    "dotnet_interactive": {
     "language": "pwsh"
    },
    "polyglot_notebook": {
     "kernelName": "pwsh"
    }
   },
   "outputs": [],
   "source": [
    ". ../../scripts/nbs_header.ps1\n",
    ". ../../scripts/core.ps1"
   ]
  },
  {
   "cell_type": "code",
   "execution_count": null,
   "metadata": {
    "dotnet_interactive": {
     "language": "pwsh"
    },
    "polyglot_notebook": {
     "kernelName": "pwsh"
    }
   },
   "outputs": [
    {
     "name": "stdout",
     "output_type": "stream",
     "text": [
      "08:46:30 #1 [Debug] runWithTimeoutAsync / timeout: 60\r\n",
      "08:46:31 #2 [Debug] executeAsync / options: { Command =\r\n",
      "   \"dotnet \"C:\\home\\git\\polyglot\\deps\\The-Spiral-Language\\The Spiral Language 2\\artifacts\\bin\\The Spiral Language 2\\release\\Spiral.dll\" port=13805\"\r\n",
      "  WorkingDirectory = None\r\n",
      "  CancellationToken = Some System.Threading.CancellationToken\r\n",
      "  OnLine = Some <fun:main@341-319> }\r\n",
      "08:46:31 #3 [Debug] > Server bound to: tcp://*:13805 & tcp://*:13806\r\n",
      "08:46:31 #4 [Debug] > pwd: C:\\home\\git\\polyglot\\spiral\\test\r\n",
      "08:46:31 #5 [Debug] > dll_path: C:\\home\\git\\polyglot\\deps\\The-Spiral-Language\\The Spiral Language 2\\artifacts\\bin\\The Spiral Language 2\\release\r\n",
      "08:46:31 #6 [Debug] buildFile / fsxContent:  / errors: [] / firstErrorMs:\r\n",
      "08:46:31 #7 [Debug] sendJson / port: 13805 / json: {\"FileOpen\":{\"spiText\":\"inl app () =\\n    \\u0022test\\u0022 |\\u003E fsharp.console.write_line\\n    0i32\\n\\ninl main () =\\n    print_static \\u0022\\u003Ctest\\u003E\\u0022\\n\\n    app\\n    |\\u003E dyn\\n    |\\u003E ignore\\n\\n    print_static \\u0022\\u003C/test\\u003E\\u0022\\n\",\"uri\":\"file:///C:\\\\home\\\\git\\\\polyglot\\\\spiral\\\\test\\\\test.spi\"}} / result.FrameCount: 1 / resultString.Length: 0\r\n",
      "08:46:31 #8 [Debug] sendJson / port: 13805 / json: {\"BuildFile\":{\"backend\":\"Fsharp\",\"uri\":\"file:///C:\\\\home\\\\git\\\\polyglot\\\\spiral\\\\test\\\\test.spi\"}} / result.FrameCount: 1 / resultString.Length: 0\r\n",
      "08:46:32 #9 [Debug] > Building C:\\home\\git\\polyglot\\spiral\\test\\test.spi\r\n",
      "08:46:33 #10 [Debug] > <test>\r\n",
      "08:46:33 #11 [Debug] > </test>\r\n",
      "08:46:33 #12 [Debug] buildFile / fsxContent: Some(let rec closure0 () () : int32 =\r\n",
      "    let v0 : string = \"test\"\r\n",
      "    System.Console.WriteLine v0\r\n",
      "    0\r\n",
      "let v0 : (unit -> int32) = closure0()\r\n",
      "()\r\n",
      ") / errors: [] / firstErrorMs:\r\n",
      "08:46:33 #13 [Debug] watchWithFilter / Disposing watch stream / fullPath: C:\\home\\git\\polyglot\\spiral\\test / filter: FileName, LastWrite\r\n"
     ]
    }
   ],
   "source": [
    "{ . ../../apps/spiral/target/dist/Supervisor$(GetExecutableSuffix) --buildfile test.spi test.fsx --timeout 10000 } | Invoke-Block"
   ]
  },
  {
   "cell_type": "code",
   "execution_count": null,
   "metadata": {
    "dotnet_interactive": {
     "language": "pwsh"
    },
    "polyglot_notebook": {
     "kernelName": "pwsh"
    }
   },
   "outputs": [
    {
     "name": "stdout",
     "output_type": "stream",
     "text": [
      "Fable 4.1.4: F# to Rust compiler (status: alpha)\r\n",
      "\r\n",
      "Thanks to the contributor! @jgrund\r\n",
      "Stand with Ukraine! https://standwithukraine.com.ua/\r\n",
      "\r\n",
      "Parsing test.fsproj...\r\n",
      ".> cmd /C dotnet restore test.csproj -p:FABLE_COMPILER=true -p:FABLE_COMPILER_4=true -p:FABLE_COMPILER_RUST=true\r\n",
      "  Determining projects to restore...\r\n",
      "  Paket version 8.0.0-alpha002+6339fce88f07b4d959d03b78330fdb5a6d936483\r\n",
      "  The last full restore is still up to date. Nothing left to do.\r\n",
      "  Total time taken: 0 milliseconds\r\n",
      "  Paket version 8.0.0-alpha002+6339fce88f07b4d959d03b78330fdb5a6d936483\r\n",
      "  Restoring C:\\home\\git\\polyglot\\spiral\\test\\test.csproj\r\n",
      "  Starting restore process.\r\n",
      "  Total time taken: 0 milliseconds\r\n",
      "  Restored C:\\home\\git\\polyglot\\spiral\\test\\test.csproj (in 456 ms).\r\n",
      "Project and references (1 source files) parsed in 8316ms\r\n",
      "\r\n",
      "Started Fable compilation...\r\n",
      "Fable compilation finished in 1741ms\r\n",
      "\r\n",
      ".\\test.fsx(6,0): (6,2) warning FABLE: For Rust, support for F# static and module do bindings is disabled by default. It can be enabled with the 'static_do_bindings' feature. Use at your own risk!\r\n"
     ]
    }
   ],
   "source": [
    "dotnet fable --optimize --lang rs --extension .rs"
   ]
  },
  {
   "cell_type": "code",
   "execution_count": null,
   "metadata": {
    "dotnet_interactive": {
     "language": "pwsh"
    },
    "polyglot_notebook": {
     "kernelName": "pwsh"
    }
   },
   "outputs": [],
   "source": [
    "cargo fmt --"
   ]
  },
  {
   "cell_type": "code",
   "execution_count": null,
   "metadata": {
    "dotnet_interactive": {
     "language": "pwsh"
    },
    "polyglot_notebook": {
     "kernelName": "pwsh"
    }
   },
   "outputs": [
    {
     "name": "stdout",
     "output_type": "stream",
     "text": [
      "\u001B[31;1mwarning: C:\\home\\git\\polyglot\\Cargo.toml: unused manifest key: lib.members\u001B[0m\r\n",
      "\u001B[31;1m   Compiling test v0.0.1 (C:\\home\\git\\polyglot\\spiral\\test)\u001B[0m\r\n",
      "\u001B[31;1mwarning: unused import: `info`\u001B[0m\r\n",
      "\u001B[31;1m   --> spiral\\test\\./main.rs:190:15\u001B[0m\r\n",
      "\u001B[31;1m    |\u001B[0m\r\n",
      "\u001B[31;1m190 | use tracing::{info, Level};\u001B[0m\r\n",
      "\u001B[31;1m    |               ^^^^\u001B[0m\r\n",
      "\u001B[31;1m    |\u001B[0m\r\n",
      "\u001B[31;1m    = note: `#[warn(unused_imports)]` on by default\u001B[0m\r\n",
      "\u001B[31;1m\u001B[0m\r\n",
      "\u001B[31;1mwarning: associated items `new`, `add_item`, and `remove_item` are never used\u001B[0m\r\n",
      "\u001B[31;1m  --> spiral\\test\\./main.rs:46:8\u001B[0m\r\n",
      "\u001B[31;1m   |\u001B[0m\r\n",
      "\u001B[31;1m45 | impl Cart {\u001B[0m\r\n",
      "\u001B[31;1m   | --------- associated items in this implementation\u001B[0m\r\n",
      "\u001B[31;1m46 |     fn new() -> Cart {\u001B[0m\r\n",
      "\u001B[31;1m   |        ^^^\u001B[0m\r\n",
      "\u001B[31;1m...\u001B[0m\r\n",
      "\u001B[31;1m50 |     fn add_item(&mut self, item: Item) {\u001B[0m\r\n",
      "\u001B[31;1m   |        ^^^^^^^^\u001B[0m\r\n",
      "\u001B[31;1m...\u001B[0m\r\n",
      "\u001B[31;1m56 |     fn remove_item(&mut self, item: &Item) {\u001B[0m\r\n",
      "\u001B[31;1m   |        ^^^^^^^^^^^\u001B[0m\r\n",
      "\u001B[31;1m   |\u001B[0m\r\n",
      "\u001B[31;1m   = note: `#[warn(dead_code)]` on by default\u001B[0m\r\n",
      "\u001B[31;1m\u001B[0m\r\n",
      "\u001B[31;1mwarning: function `parse_comment` is never used\u001B[0m\r\n",
      "\u001B[31;1m   --> spiral\\test\\./main.rs:124:4\u001B[0m\r\n",
      "\u001B[31;1m    |\u001B[0m\r\n",
      "\u001B[31;1m124 | fn parse_comment(input: &str) -> IResult<&str, SpiralToken> {\u001B[0m\r\n",
      "\u001B[31;1m    |    ^^^^^^^^^^^^^\u001B[0m\r\n",
      "\u001B[31;1m\u001B[0m\r\n",
      "\u001B[31;1mwarning: function `parse_string` is never used\u001B[0m\r\n",
      "\u001B[31;1m   --> spiral\\test\\./main.rs:130:4\u001B[0m\r\n",
      "\u001B[31;1m    |\u001B[0m\r\n",
      "\u001B[31;1m130 | fn parse_string(input: &str) -> IResult<&str, SpiralToken> {\u001B[0m\r\n",
      "\u001B[31;1m    |    ^^^^^^^^^^^^\u001B[0m\r\n",
      "\u001B[31;1m\u001B[0m\r\n",
      "\u001B[31;1mwarning: function `parse_identifier` is never used\u001B[0m\r\n",
      "\u001B[31;1m   --> spiral\\test\\./main.rs:145:4\u001B[0m\r\n",
      "\u001B[31;1m    |\u001B[0m\r\n",
      "\u001B[31;1m145 | fn parse_identifier(input: &str) -> IResult<&str, SpiralToken> {\u001B[0m\r\n",
      "\u001B[31;1m    |    ^^^^^^^^^^^^^^^^\u001B[0m\r\n",
      "\u001B[31;1m\u001B[0m\r\n",
      "\u001B[31;1mwarning: function `parse_integer` is never used\u001B[0m\r\n",
      "\u001B[31;1m   --> spiral\\test\\./main.rs:157:4\u001B[0m\r\n",
      "\u001B[31;1m    |\u001B[0m\r\n",
      "\u001B[31;1m157 | fn parse_integer(input: &str) -> IResult<&str, SpiralToken> {\u001B[0m\r\n",
      "\u001B[31;1m    |    ^^^^^^^^^^^^^\u001B[0m\r\n",
      "\u001B[31;1m\u001B[0m\r\n",
      "\u001B[31;1mwarning: function `parse_operator` is never used\u001B[0m\r\n",
      "\u001B[31;1m   --> spiral\\test\\./main.rs:165:4\u001B[0m\r\n",
      "\u001B[31;1m    |\u001B[0m\r\n",
      "\u001B[31;1m165 | fn parse_operator(input: &str) -> IResult<&str, SpiralToken> {\u001B[0m\r\n",
      "\u001B[31;1m    |    ^^^^^^^^^^^^^^\u001B[0m\r\n",
      "\u001B[31;1m\u001B[0m\r\n",
      "\u001B[31;1mwarning: function `parse_token` is never used\u001B[0m\r\n",
      "\u001B[31;1m   --> spiral\\test\\./main.rs:170:4\u001B[0m\r\n",
      "\u001B[31;1m    |\u001B[0m\r\n",
      "\u001B[31;1m170 | fn parse_token(input: &str) -> IResult<&str, SpiralToken> {\u001B[0m\r\n",
      "\u001B[31;1m    |    ^^^^^^^^^^^\u001B[0m\r\n",
      "\u001B[31;1m\u001B[0m\r\n",
      "\u001B[31;1mwarning: function `format_token` is never used\u001B[0m\r\n",
      "\u001B[31;1m   --> spiral\\test\\./main.rs:180:4\u001B[0m\r\n",
      "\u001B[31;1m    |\u001B[0m\r\n",
      "\u001B[31;1m180 | fn format_token(token: &SpiralToken) -> String {\u001B[0m\r\n",
      "\u001B[31;1m    |    ^^^^^^^^^^^^\u001B[0m\r\n",
      "\u001B[31;1m\u001B[0m\r\n",
      "\u001B[31;1mwarning: function `parse_expression` is never used\u001B[0m\r\n",
      "\u001B[31;1m   --> spiral\\test\\./main.rs:213:4\u001B[0m\r\n",
      "\u001B[31;1m    |\u001B[0m\r\n",
      "\u001B[31;1m213 | fn parse_expression(input: &str) -> IResult<&str, SpiralToken> {\u001B[0m\r\n",
      "\u001B[31;1m    |    ^^^^^^^^^^^^^^^^\u001B[0m\r\n",
      "\u001B[31;1m\u001B[0m\r\n",
      "\u001B[31;1mwarning: `test` (bin \"test\") generated 10 warnings (run `cargo fix --bin \"test\"` to apply 1 suggestion)\u001B[0m\r\n",
      "\u001B[31;1m    Finished release [optimized] target(s) in 5.70s\u001B[0m\r\n"
     ]
    }
   ],
   "source": [
    "cargo build --release"
   ]
  },
  {
   "cell_type": "code",
   "execution_count": null,
   "metadata": {
    "dotnet_interactive": {
     "language": "pwsh"
    },
    "polyglot_notebook": {
     "kernelName": "pwsh"
    }
   },
   "outputs": [
    {
     "name": "stdout",
     "output_type": "stream",
     "text": [
      "\u001B[31;1mwarning: C:\\home\\git\\polyglot\\Cargo.toml: unused manifest key: lib.members\u001B[0m\r\n",
      "\u001B[31;1m   Compiling test v0.0.1 (C:\\home\\git\\polyglot\\spiral\\test)\u001B[0m\r\n",
      "\u001B[31;1m    Finished release [optimized] target(s) in 5.22s\u001B[0m\r\n",
      "\u001B[31;1m     Running unittests main.rs (C:\\home\\git\\polyglot\\target\\release\\deps\\test-3491f06a619f2cbb.exe)\u001B[0m\r\n",
      "\r\n",
      "running 3 tests\r\n",
      "test test_parse_number ... ok\r\n",
      "\u001B[2m2023-09-01T11:46:58.089722Z\u001B[0m \u001B[32m INFO\u001B[0m \u001B[2mtest\u001B[0m\u001B[2m:\u001B[0m input=Operator(\"/\")\r\n",
      "\u001B[2m2023-09-01T11:46:58.089864Z\u001B[0m \u001B[32m INFO\u001B[0m \u001B[2mtest\u001B[0m\u001B[2m:\u001B[0m input=Integer(1338894835752323262)\r\n",
      "\u001B[2m2023-09-01T11:46:58.089907Z\u001B[0m \u001B[32m INFO\u001B[0m \u001B[2mtest\u001B[0m\u001B[2m:\u001B[0m input=Integer(1561756605062210605)\r\n",
      "\u001B[2m2023-09-01T11:46:58.090005Z\u001B[0m \u001B[32m INFO\u001B[0m \u001B[2mtest\u001B[0m\u001B[2m:\u001B[0m input=Integer(6134115481248312694)\r\n",
      "\u001B[2m2023-09-01T11:46:58.090092Z\u001B[0m \u001B[32m INFO\u001B[0m \u001B[2mtest\u001B[0m\u001B[2m:\u001B[0m input=Identifier(\"k0ErAoFscz\")\r\n",
      "\u001B[2m2023-09-01T11:46:58.090270Z\u001B[0m \u001B[32m INFO\u001B[0m \u001B[2mtest\u001B[0m\u001B[2m:\u001B[0m input=Operator(\"+\")\r\n",
      "\u001B[2m2023-09-01T11:46:58.090416Z\u001B[0m \u001B[32m INFO\u001B[0m \u001B[2mtest\u001B[0m\u001B[2m:\u001B[0m input=StringLiteral(\"h=h<d1*=2=\")\r\n",
      "\u001B[2m2023-09-01T11:46:58.090566Z\u001B[0m \u001B[32m INFO\u001B[0m \u001B[2mtest\u001B[0m\u001B[2m:\u001B[0m input=Identifier(\"Fj7skScN\")\r\n",
      "\u001B[2m2023-09-01T11:46:58.090743Z\u001B[0m \u001B[32m INFO\u001B[0m \u001B[2mtest\u001B[0m\u001B[2m:\u001B[0m input=StringLiteral(\"4F/'k@r:Ue\")\r\n",
      "\u001B[2m2023-09-01T11:46:58.090835Z\u001B[0m \u001B[32m INFO\u001B[0m \u001B[2mtest\u001B[0m\u001B[2m:\u001B[0m input=Comment(\"2_Y=n\\\\\")\r\n",
      "\u001B[2m2023-09-01T11:46:58.090906Z\u001B[0m \u001B[32m INFO\u001B[0m \u001B[2mtest\u001B[0m\u001B[2m:\u001B[0m input=Integer(-1619884179837489796)\r\n",
      "\u001B[2m2023-09-01T11:46:58.091000Z\u001B[0m \u001B[32m INFO\u001B[0m \u001B[2mtest\u001B[0m\u001B[2m:\u001B[0m input=Identifier(\"vhY84CwqSjYIa\")\r\n",
      "\u001B[2m2023-09-01T11:46:58.091071Z\u001B[0m \u001B[32m INFO\u001B[0m \u001B[2mtest\u001B[0m\u001B[2m:\u001B[0m input=Identifier(\"JyNcxkl4Ie5nW5o06nWTdntWM91\")\r\n",
      "\u001B[2m2023-09-01T11:46:58.091108Z\u001B[0m \u001B[32m INFO\u001B[0m \u001B[2mtest\u001B[0m\u001B[2m:\u001B[0m input=Operator(\"/\")\r\n",
      "\u001B[2m2023-09-01T11:46:58.091158Z\u001B[0m \u001B[32m INFO\u001B[0m \u001B[2mtest\u001B[0m\u001B[2m:\u001B[0m input=StringLiteral(\"/?u Kh}\")\r\n",
      "\u001B[2m2023-09-01T11:46:58.091197Z\u001B[0m \u001B[32m INFO\u001B[0m \u001B[2mtest\u001B[0m\u001B[2m:\u001B[0m input=Identifier(\"H5G\")\r\n",
      "\u001B[2m2023-09-01T11:46:58.091254Z\u001B[0m \u001B[32m INFO\u001B[0m \u001B[2mtest\u001B[0m\u001B[2m:\u001B[0m input=Identifier(\"I\")\r\n",
      "\u001B[2m2023-09-01T11:46:58.091291Z\u001B[0m \u001B[32m INFO\u001B[0m \u001B[2mtest\u001B[0m\u001B[2m:\u001B[0m input=StringLiteral(\"`7*w?\")\r\n",
      "\u001B[2m2023-09-01T11:46:58.091366Z\u001B[0m \u001B[32m INFO\u001B[0m \u001B[2mtest\u001B[0m\u001B[2m:\u001B[0m input=Identifier(\"BnM0mJb5pEgxCQG2xW\")\r\n",
      "\u001B[2m2023-09-01T11:46:58.091407Z\u001B[0m \u001B[32m INFO\u001B[0m \u001B[2mtest\u001B[0m\u001B[2m:\u001B[0m input=Operator(\"*\")\r\n",
      "\u001B[2m2023-09-01T11:46:58.091453Z\u001B[0m \u001B[32m INFO\u001B[0m \u001B[2mtest\u001B[0m\u001B[2m:\u001B[0m input=Identifier(\"zP7Wir4f\")\r\n",
      "\u001B[2m2023-09-01T11:46:58.091483Z\u001B[0m \u001B[32m INFO\u001B[0m \u001B[2mtest\u001B[0m\u001B[2m:\u001B[0m input=Comment(\":hl3$c|*thdSwa\")\r\n",
      "\u001B[2m2023-09-01T11:46:58.091600Z\u001B[0m \u001B[32m INFO\u001B[0m \u001B[2mtest\u001B[0m\u001B[2m:\u001B[0m input=Identifier(\"hWEOfiFyNOas3iQMa\")\r\n",
      "\u001B[2m2023-09-01T11:46:58.091658Z\u001B[0m \u001B[32m INFO\u001B[0m \u001B[2mtest\u001B[0m\u001B[2m:\u001B[0m input=Operator(\"/\")\r\n",
      "\u001B[2m2023-09-01T11:46:58.091697Z\u001B[0m \u001B[32m INFO\u001B[0m \u001B[2mtest\u001B[0m\u001B[2m:\u001B[0m input=StringLiteral(\"^1v)<?+\")\r\n",
      "\u001B[2m2023-09-01T11:46:58.091741Z\u001B[0m \u001B[32m INFO\u001B[0m \u001B[2mtest\u001B[0m\u001B[2m:\u001B[0m input=Integer(1096677495321744491)\r\n",
      "\u001B[2m2023-09-01T11:46:58.091783Z\u001B[0m \u001B[32m INFO\u001B[0m \u001B[2mtest\u001B[0m\u001B[2m:\u001B[0m input=Comment(\"yZ>`5y53wd\\\"\")\r\n",
      "\u001B[2m2023-09-01T11:46:58.091843Z\u001B[0m \u001B[32m INFO\u001B[0m \u001B[2mtest\u001B[0m\u001B[2m:\u001B[0m input=Integer(-228202759198411481)\r\n",
      "\u001B[2m2023-09-01T11:46:58.091909Z\u001B[0m \u001B[32m INFO\u001B[0m \u001B[2mtest\u001B[0m\u001B[2m:\u001B[0m input=Identifier(\"n9QTSnV\")\r\n",
      "\u001B[2m2023-09-01T11:46:58.091949Z\u001B[0m \u001B[32m INFO\u001B[0m \u001B[2mtest\u001B[0m\u001B[2m:\u001B[0m input=Operator(\"*\")\r\n",
      "\u001B[2m2023-09-01T11:46:58.091973Z\u001B[0m \u001B[32m INFO\u001B[0m \u001B[2mtest\u001B[0m\u001B[2m:\u001B[0m input=Identifier(\"E7DhVM1\")\r\n",
      "\u001B[2m2023-09-01T11:46:58.091994Z\u001B[0m \u001B[32m INFO\u001B[0m \u001B[2mtest\u001B[0m\u001B[2m:\u001B[0m input=StringLiteral(\"-\")\r\n",
      "\u001B[2m2023-09-01T11:46:58.092035Z\u001B[0m \u001B[32m INFO\u001B[0m \u001B[2mtest\u001B[0m\u001B[2m:\u001B[0m input=Integer(-2558540502178486630)\r\n",
      "\u001B[2m2023-09-01T11:46:58.092080Z\u001B[0m \u001B[32m INFO\u001B[0m \u001B[2mtest\u001B[0m\u001B[2m:\u001B[0m input=Comment(\"$F{:o\\\\'{?|.r\")\r\n",
      "\u001B[2m2023-09-01T11:46:58.092144Z\u001B[0m \u001B[32m INFO\u001B[0m \u001B[2mtest\u001B[0m\u001B[2m:\u001B[0m input=Comment(\"C.RMZ>\")\r\n",
      "\u001B[2m2023-09-01T11:46:58.092189Z\u001B[0m \u001B[32m INFO\u001B[0m \u001B[2mtest\u001B[0m\u001B[2m:\u001B[0m input=Comment(\".<U130]w`*`xF\")\r\n",
      "\u001B[2m2023-09-01T11:46:58.092250Z\u001B[0m \u001B[32m INFO\u001B[0m \u001B[2mtest\u001B[0m\u001B[2m:\u001B[0m input=Operator(\"(\")\r\n",
      "\u001B[2m2023-09-01T11:46:58.092304Z\u001B[0m \u001B[32m INFO\u001B[0m \u001B[2mtest\u001B[0m\u001B[2m:\u001B[0m input=StringLiteral(\"Z?u,:4yG_j?J%q18:%T=*axf[.1\")\r\n",
      "\u001B[2m2023-09-01T11:46:58.092374Z\u001B[0m \u001B[32m INFO\u001B[0m \u001B[2mtest\u001B[0m\u001B[2m:\u001B[0m input=Comment(\":EJ'vl8vME5e?^SnA\\\"o(`=\")\r\n",
      "\u001B[2m2023-09-01T11:46:58.092405Z\u001B[0m \u001B[32m INFO\u001B[0m \u001B[2mtest\u001B[0m\u001B[2m:\u001B[0m input=Identifier(\"usrPZlYZdcF\")\r\n",
      "\u001B[2m2023-09-01T11:46:58.092493Z\u001B[0m \u001B[32m INFO\u001B[0m \u001B[2mtest\u001B[0m\u001B[2m:\u001B[0m input=Integer(-5163465588976130785)\r\n",
      "\u001B[2m2023-09-01T11:46:58.092665Z\u001B[0m \u001B[32m INFO\u001B[0m \u001B[2mtest\u001B[0m\u001B[2m:\u001B[0m input=StringLiteral(\"I']T'?$0&%Xw2K\")\r\n",
      "\u001B[2m2023-09-01T11:46:58.092711Z\u001B[0m \u001B[32m INFO\u001B[0m \u001B[2mtest\u001B[0m\u001B[2m:\u001B[0m input=Identifier(\"CqTqE7HK45Ex0DI\")\r\n",
      "\u001B[2m2023-09-01T11:46:58.092733Z\u001B[0m \u001B[32m INFO\u001B[0m \u001B[2mtest\u001B[0m\u001B[2m:\u001B[0m input=Identifier(\"T\")\r\n",
      "\u001B[2m2023-09-01T11:46:58.092750Z\u001B[0m \u001B[32m INFO\u001B[0m \u001B[2mtest\u001B[0m\u001B[2m:\u001B[0m input=Integer(7532369632210796147)\r\n",
      "\u001B[2m2023-09-01T11:46:58.092788Z\u001B[0m \u001B[32m INFO\u001B[0m \u001B[2mtest\u001B[0m\u001B[2m:\u001B[0m input=Integer(651628587718689502)\r\n",
      "\u001B[2m2023-09-01T11:46:58.092833Z\u001B[0m \u001B[32m INFO\u001B[0m \u001B[2mtest\u001B[0m\u001B[2m:\u001B[0m input=Integer(1150765847018885424)\r\n",
      "\u001B[2m2023-09-01T11:46:58.092882Z\u001B[0m \u001B[32m INFO\u001B[0m \u001B[2mtest\u001B[0m\u001B[2m:\u001B[0m input=StringLiteral(\"#;TG%<`;`P]'U$vm@E<==~fK\")\r\n",
      "\u001B[2m2023-09-01T11:46:58.092946Z\u001B[0m \u001B[32m INFO\u001B[0m \u001B[2mtest\u001B[0m\u001B[2m:\u001B[0m input=Operator(\"=\")\r\n",
      "\u001B[2m2023-09-01T11:46:58.093000Z\u001B[0m \u001B[32m INFO\u001B[0m \u001B[2mtest\u001B[0m\u001B[2m:\u001B[0m input=Identifier(\"a13HCpkB5fn1CbFbVVbbyr8sO5\")\r\n",
      "\u001B[2m2023-09-01T11:46:58.093044Z\u001B[0m \u001B[32m INFO\u001B[0m \u001B[2mtest\u001B[0m\u001B[2m:\u001B[0m input=Operator(\")\")\r\n",
      "\u001B[2m2023-09-01T11:46:58.093067Z\u001B[0m \u001B[32m INFO\u001B[0m \u001B[2mtest\u001B[0m\u001B[2m:\u001B[0m input=Operator(\"(\")\r\n",
      "\u001B[2m2023-09-01T11:46:58.093102Z\u001B[0m \u001B[32m INFO\u001B[0m \u001B[2mtest\u001B[0m\u001B[2m:\u001B[0m input=StringLiteral(\"ihyt<FpdO)-c<ca/$Sh%&F.I{6YqX*k\")\r\n",
      "\u001B[2m2023-09-01T11:46:58.093150Z\u001B[0m \u001B[32m INFO\u001B[0m \u001B[2mtest\u001B[0m\u001B[2m:\u001B[0m input=Operator(\"/\")\r\n",
      "\u001B[2m2023-09-01T11:46:58.093213Z\u001B[0m \u001B[32m INFO\u001B[0m \u001B[2mtest\u001B[0m\u001B[2m:\u001B[0m input=Operator(\"*\")\r\n",
      "\u001B[2m2023-09-01T11:46:58.093252Z\u001B[0m \u001B[32m INFO\u001B[0m \u001B[2mtest\u001B[0m\u001B[2m:\u001B[0m input=Integer(5514286554860512957)\r\n",
      "\u001B[2m2023-09-01T11:46:58.093271Z\u001B[0m \u001B[32m INFO\u001B[0m \u001B[2mtest\u001B[0m\u001B[2m:\u001B[0m input=Integer(-6365569940946062213)\r\n",
      "\u001B[2m2023-09-01T11:46:58.093288Z\u001B[0m \u001B[32m INFO\u001B[0m \u001B[2mtest\u001B[0m\u001B[2m:\u001B[0m input=Integer(6915358343261843332)\r\n",
      "\u001B[2m2023-09-01T11:46:58.093348Z\u001B[0m \u001B[32m INFO\u001B[0m \u001B[2mtest\u001B[0m\u001B[2m:\u001B[0m input=StringLiteral(\"<#lx%@hYQ=lwmJw7g\")\r\n",
      "\u001B[2m2023-09-01T11:46:58.093390Z\u001B[0m \u001B[32m INFO\u001B[0m \u001B[2mtest\u001B[0m\u001B[2m:\u001B[0m input=Integer(-5903373231495038018)\r\n",
      "\u001B[2m2023-09-01T11:46:58.093467Z\u001B[0m \u001B[32m INFO\u001B[0m \u001B[2mtest\u001B[0m\u001B[2m:\u001B[0m input=StringLiteral(\"&q-~v\")\r\n",
      "\u001B[2m2023-09-01T11:46:58.093586Z\u001B[0m \u001B[32m INFO\u001B[0m \u001B[2mtest\u001B[0m\u001B[2m:\u001B[0m input=Comment(\"]<\\\".{\\\"YNe\\\\$<O9m%\")\r\n",
      "\u001B[2m2023-09-01T11:46:58.093657Z\u001B[0m \u001B[32m INFO\u001B[0m \u001B[2mtest\u001B[0m\u001B[2m:\u001B[0m input=Integer(3379116148635730693)\r\n",
      "\u001B[2m2023-09-01T11:46:58.093679Z\u001B[0m \u001B[32m INFO\u001B[0m \u001B[2mtest\u001B[0m\u001B[2m:\u001B[0m input=Operator(\"/\")\r\n",
      "\u001B[2m2023-09-01T11:46:58.093700Z\u001B[0m \u001B[32m INFO\u001B[0m \u001B[2mtest\u001B[0m\u001B[2m:\u001B[0m input=Operator(\"(\")\r\n",
      "\u001B[2m2023-09-01T11:46:58.093738Z\u001B[0m \u001B[32m INFO\u001B[0m \u001B[2mtest\u001B[0m\u001B[2m:\u001B[0m input=Integer(-1044884269472613430)\r\n",
      "\u001B[2m2023-09-01T11:46:58.093775Z\u001B[0m \u001B[32m INFO\u001B[0m \u001B[2mtest\u001B[0m\u001B[2m:\u001B[0m input=Operator(\"/\")\r\n",
      "\u001B[2m2023-09-01T11:46:58.093821Z\u001B[0m \u001B[32m INFO\u001B[0m \u001B[2mtest\u001B[0m\u001B[2m:\u001B[0m input=Identifier(\"n2x1ied4Lm61i4\")\r\n",
      "\u001B[2m2023-09-01T11:46:58.093882Z\u001B[0m \u001B[32m INFO\u001B[0m \u001B[2mtest\u001B[0m\u001B[2m:\u001B[0m input=StringLiteral(\"[Av@@olc/f=W$\")\r\n",
      "\u001B[2m2023-09-01T11:46:58.093918Z\u001B[0m \u001B[32m INFO\u001B[0m \u001B[2mtest\u001B[0m\u001B[2m:\u001B[0m input=Integer(2998739330480480083)\r\n",
      "\u001B[2m2023-09-01T11:46:58.093977Z\u001B[0m \u001B[32m INFO\u001B[0m \u001B[2mtest\u001B[0m\u001B[2m:\u001B[0m input=Identifier(\"FLR\")\r\n",
      "\u001B[2m2023-09-01T11:46:58.094019Z\u001B[0m \u001B[32m INFO\u001B[0m \u001B[2mtest\u001B[0m\u001B[2m:\u001B[0m input=Comment(\"+:}=`%C%_\")\r\n",
      "\u001B[2m2023-09-01T11:46:58.094086Z\u001B[0m \u001B[32m INFO\u001B[0m \u001B[2mtest\u001B[0m\u001B[2m:\u001B[0m input=StringLiteral(\"+&g{$WO$|EDi\")\r\n",
      "\u001B[2m2023-09-01T11:46:58.094146Z\u001B[0m \u001B[32m INFO\u001B[0m \u001B[2mtest\u001B[0m\u001B[2m:\u001B[0m input=Identifier(\"I7o49s79c7bJi5Xe9y6ws9QK12Xm22\")\r\n",
      "\u001B[2m2023-09-01T11:46:58.094198Z\u001B[0m \u001B[32m INFO\u001B[0m \u001B[2mtest\u001B[0m\u001B[2m:\u001B[0m input=Identifier(\"S2NAq12Yc94bv2TnDUNwf79\")\r\n",
      "\u001B[2m2023-09-01T11:46:58.094223Z\u001B[0m \u001B[32m INFO\u001B[0m \u001B[2mtest\u001B[0m\u001B[2m:\u001B[0m input=StringLiteral(\"{'*/*\")\r\n",
      "\u001B[2m2023-09-01T11:46:58.094284Z\u001B[0m \u001B[32m INFO\u001B[0m \u001B[2mtest\u001B[0m\u001B[2m:\u001B[0m input=Identifier(\"c03KzRjb3K0ms75p8e\")\r\n",
      "\u001B[2m2023-09-01T11:46:58.094330Z\u001B[0m \u001B[32m INFO\u001B[0m \u001B[2mtest\u001B[0m\u001B[2m:\u001B[0m input=Comment(\"R4*|yFe0 \")\r\n",
      "\u001B[2m2023-09-01T11:46:58.094383Z\u001B[0m \u001B[32m INFO\u001B[0m \u001B[2mtest\u001B[0m\u001B[2m:\u001B[0m input=Identifier(\"l70hByzWqNNHpv6lO0\")\r\n",
      "\u001B[2m2023-09-01T11:46:58.094405Z\u001B[0m \u001B[32m INFO\u001B[0m \u001B[2mtest\u001B[0m\u001B[2m:\u001B[0m input=Integer(-199759520571820897)\r\n",
      "\u001B[2m2023-09-01T11:46:58.094456Z\u001B[0m \u001B[32m INFO\u001B[0m \u001B[2mtest\u001B[0m\u001B[2m:\u001B[0m input=Comment(\"uP&D2r$[\")\r\n",
      "\u001B[2m2023-09-01T11:46:58.094491Z\u001B[0m \u001B[32m INFO\u001B[0m \u001B[2mtest\u001B[0m\u001B[2m:\u001B[0m input=Operator(\"+\")\r\n",
      "\u001B[2m2023-09-01T11:46:58.094583Z\u001B[0m \u001B[32m INFO\u001B[0m \u001B[2mtest\u001B[0m\u001B[2m:\u001B[0m input=Identifier(\"YvSdYo7Mew\")\r\n",
      "\u001B[2m2023-09-01T11:46:58.094631Z\u001B[0m \u001B[32m INFO\u001B[0m \u001B[2mtest\u001B[0m\u001B[2m:\u001B[0m input=Operator(\"=\")\r\n",
      "\u001B[2m2023-09-01T11:46:58.094680Z\u001B[0m \u001B[32m INFO\u001B[0m \u001B[2mtest\u001B[0m\u001B[2m:\u001B[0m input=Comment(\"^)c&:MO(x7_c~\\\"z:?\")\r\n",
      "\u001B[2m2023-09-01T11:46:58.094701Z\u001B[0m \u001B[32m INFO\u001B[0m \u001B[2mtest\u001B[0m\u001B[2m:\u001B[0m input=Integer(782962797072225913)\r\n",
      "\u001B[2m2023-09-01T11:46:58.094736Z\u001B[0m \u001B[32m INFO\u001B[0m \u001B[2mtest\u001B[0m\u001B[2m:\u001B[0m input=Identifier(\"JnAk3GsRXlzUxqxze6uPpKSaSivHMtgI\")\r\n",
      "\u001B[2m2023-09-01T11:46:58.094784Z\u001B[0m \u001B[32m INFO\u001B[0m \u001B[2mtest\u001B[0m\u001B[2m:\u001B[0m input=Operator(\"/\")\r\n",
      "\u001B[2m2023-09-01T11:46:58.094837Z\u001B[0m \u001B[32m INFO\u001B[0m \u001B[2mtest\u001B[0m\u001B[2m:\u001B[0m input=Identifier(\"ag3EdZB4s68NL1C6fK8MiW7X81H\")\r\n",
      "\u001B[2m2023-09-01T11:46:58.094900Z\u001B[0m \u001B[32m INFO\u001B[0m \u001B[2mtest\u001B[0m\u001B[2m:\u001B[0m input=StringLiteral(\"t!FFXY=Q\")\r\n",
      "\u001B[2m2023-09-01T11:46:58.094972Z\u001B[0m \u001B[32m INFO\u001B[0m \u001B[2mtest\u001B[0m\u001B[2m:\u001B[0m input=StringLiteral(\"f%SY<]9?D%Z8<Xuz ,/\")\r\n",
      "\u001B[2m2023-09-01T11:46:58.095042Z\u001B[0m \u001B[32m INFO\u001B[0m \u001B[2mtest\u001B[0m\u001B[2m:\u001B[0m input=StringLiteral(\"EoT,[?K1[j\")\r\n",
      "\u001B[2m2023-09-01T11:46:58.095098Z\u001B[0m \u001B[32m INFO\u001B[0m \u001B[2mtest\u001B[0m\u001B[2m:\u001B[0m input=Integer(-745864794813808703)\r\n",
      "\u001B[2m2023-09-01T11:46:58.095160Z\u001B[0m \u001B[32m INFO\u001B[0m \u001B[2mtest\u001B[0m\u001B[2m:\u001B[0m input=StringLiteral(\"&IDXj@-d\")\r\n",
      "\u001B[2m2023-09-01T11:46:58.095234Z\u001B[0m \u001B[32m INFO\u001B[0m \u001B[2mtest\u001B[0m\u001B[2m:\u001B[0m input=StringLiteral(\"v|T%-GA%>$91`\")\r\n",
      "\u001B[2m2023-09-01T11:46:58.095293Z\u001B[0m \u001B[32m INFO\u001B[0m \u001B[2mtest\u001B[0m\u001B[2m:\u001B[0m input=Integer(-3497952488729432808)\r\n",
      "\u001B[2m2023-09-01T11:46:58.095325Z\u001B[0m \u001B[32m INFO\u001B[0m \u001B[2mtest\u001B[0m\u001B[2m:\u001B[0m input=Integer(-7835391736557440213)\r\n",
      "\u001B[2m2023-09-01T11:46:58.095391Z\u001B[0m \u001B[32m INFO\u001B[0m \u001B[2mtest\u001B[0m\u001B[2m:\u001B[0m input=Identifier(\"DA62dY3549DboKnIMCt3EX1e9o7iGqVFS\")\r\n",
      "\u001B[2m2023-09-01T11:46:58.095446Z\u001B[0m \u001B[32m INFO\u001B[0m \u001B[2mtest\u001B[0m\u001B[2m:\u001B[0m input=Identifier(\"n3y1Cy1y\")\r\n",
      "\u001B[2m2023-09-01T11:46:58.095491Z\u001B[0m \u001B[32m INFO\u001B[0m \u001B[2mtest\u001B[0m\u001B[2m:\u001B[0m input=Integer(-893535060199666934)\r\n",
      "\u001B[2m2023-09-01T11:46:58.095554Z\u001B[0m \u001B[32m INFO\u001B[0m \u001B[2mtest\u001B[0m\u001B[2m:\u001B[0m input=Identifier(\"mE18z392t\")\r\n",
      "\u001B[2m2023-09-01T11:46:58.095613Z\u001B[0m \u001B[32m INFO\u001B[0m \u001B[2mtest\u001B[0m\u001B[2m:\u001B[0m input=Comment(\":@!{('].(U~Ji`:S\")\r\n",
      "\u001B[2m2023-09-01T11:46:58.095660Z\u001B[0m \u001B[32m INFO\u001B[0m \u001B[2mtest\u001B[0m\u001B[2m:\u001B[0m input=Identifier(\"wLx81qDB34X7n8UluPMfBR29fx\")\r\n",
      "\u001B[2m2023-09-01T11:46:58.095713Z\u001B[0m \u001B[32m INFO\u001B[0m \u001B[2mtest\u001B[0m\u001B[2m:\u001B[0m input=Comment(\"yg\")\r\n",
      "\u001B[2m2023-09-01T11:46:58.095752Z\u001B[0m \u001B[32m INFO\u001B[0m \u001B[2mtest\u001B[0m\u001B[2m:\u001B[0m input=StringLiteral(\"k`%)`P|^ ?k.\")\r\n",
      "\u001B[2m2023-09-01T11:46:58.095788Z\u001B[0m \u001B[32m INFO\u001B[0m \u001B[2mtest\u001B[0m\u001B[2m:\u001B[0m input=Identifier(\"BueINnY3qJB6zixn\")\r\n",
      "\u001B[2m2023-09-01T11:46:58.095821Z\u001B[0m \u001B[32m INFO\u001B[0m \u001B[2mtest\u001B[0m\u001B[2m:\u001B[0m input=Identifier(\"qQ96DCaY\")\r\n",
      "\u001B[2m2023-09-01T11:46:58.095870Z\u001B[0m \u001B[32m INFO\u001B[0m \u001B[2mtest\u001B[0m\u001B[2m:\u001B[0m input=Operator(\"+\")\r\n",
      "\u001B[2m2023-09-01T11:46:58.095929Z\u001B[0m \u001B[32m INFO\u001B[0m \u001B[2mtest\u001B[0m\u001B[2m:\u001B[0m input=Operator(\")\")\r\n",
      "\u001B[2m2023-09-01T11:46:58.095962Z\u001B[0m \u001B[32m INFO\u001B[0m \u001B[2mtest\u001B[0m\u001B[2m:\u001B[0m input=Operator(\"/\")\r\n",
      "\u001B[2m2023-09-01T11:46:58.096017Z\u001B[0m \u001B[32m INFO\u001B[0m \u001B[2mtest\u001B[0m\u001B[2m:\u001B[0m input=Comment(\"\")\r\n",
      "\u001B[2m2023-09-01T11:46:58.096066Z\u001B[0m \u001B[32m INFO\u001B[0m \u001B[2mtest\u001B[0m\u001B[2m:\u001B[0m input=Identifier(\"dZJ4m1m2vfwavFLnG5hFKM\")\r\n",
      "\u001B[2m2023-09-01T11:46:58.096118Z\u001B[0m \u001B[32m INFO\u001B[0m \u001B[2mtest\u001B[0m\u001B[2m:\u001B[0m input=Integer(-1295208757049387157)\r\n",
      "\u001B[2m2023-09-01T11:46:58.096152Z\u001B[0m \u001B[32m INFO\u001B[0m \u001B[2mtest\u001B[0m\u001B[2m:\u001B[0m input=Operator(\"-\")\r\n",
      "\u001B[2m2023-09-01T11:46:58.096230Z\u001B[0m \u001B[32m INFO\u001B[0m \u001B[2mtest\u001B[0m\u001B[2m:\u001B[0m input=StringLiteral(\"O>~m. r&HO<%`/;``<&>H'(%xz*\")\r\n",
      "\u001B[2m2023-09-01T11:46:58.096307Z\u001B[0m \u001B[32m INFO\u001B[0m \u001B[2mtest\u001B[0m\u001B[2m:\u001B[0m input=Comment(\"\\\\B=;(u&nA/$=%\")\r\n",
      "\u001B[2m2023-09-01T11:46:58.096373Z\u001B[0m \u001B[32m INFO\u001B[0m \u001B[2mtest\u001B[0m\u001B[2m:\u001B[0m input=Operator(\"+\")\r\n",
      "\u001B[2m2023-09-01T11:46:58.096423Z\u001B[0m \u001B[32m INFO\u001B[0m \u001B[2mtest\u001B[0m\u001B[2m:\u001B[0m input=Identifier(\"o7jR3BX8CfYg4aktf1p9g\")\r\n",
      "\u001B[2m2023-09-01T11:46:58.096475Z\u001B[0m \u001B[32m INFO\u001B[0m \u001B[2mtest\u001B[0m\u001B[2m:\u001B[0m input=Integer(-6905284862532004809)\r\n",
      "\u001B[2m2023-09-01T11:46:58.096561Z\u001B[0m \u001B[32m INFO\u001B[0m \u001B[2mtest\u001B[0m\u001B[2m:\u001B[0m input=Comment(\"O4.q*.:T&BC_68/ox&'?2cz%&\")\r\n",
      "\u001B[2m2023-09-01T11:46:58.096613Z\u001B[0m \u001B[32m INFO\u001B[0m \u001B[2mtest\u001B[0m\u001B[2m:\u001B[0m input=Integer(-516109345835658256)\r\n",
      "\u001B[2m2023-09-01T11:46:58.096648Z\u001B[0m \u001B[32m INFO\u001B[0m \u001B[2mtest\u001B[0m\u001B[2m:\u001B[0m input=Comment(\"K\\\"\")\r\n",
      "\u001B[2m2023-09-01T11:46:58.096704Z\u001B[0m \u001B[32m INFO\u001B[0m \u001B[2mtest\u001B[0m\u001B[2m:\u001B[0m input=Integer(5967582596638763289)\r\n",
      "\u001B[2m2023-09-01T11:46:58.096740Z\u001B[0m \u001B[32m INFO\u001B[0m \u001B[2mtest\u001B[0m\u001B[2m:\u001B[0m input=Comment(\"\\\\:\\\\:^\")\r\n",
      "\u001B[2m2023-09-01T11:46:58.096805Z\u001B[0m \u001B[32m INFO\u001B[0m \u001B[2mtest\u001B[0m\u001B[2m:\u001B[0m input=StringLiteral(\"k?j6^y:KqFR&\")\r\n",
      "\u001B[2m2023-09-01T11:46:58.096856Z\u001B[0m \u001B[32m INFO\u001B[0m \u001B[2mtest\u001B[0m\u001B[2m:\u001B[0m input=StringLiteral(\"vL'hFB|dSk&Z`9n\")\r\n",
      "\u001B[2m2023-09-01T11:46:58.096922Z\u001B[0m \u001B[32m INFO\u001B[0m \u001B[2mtest\u001B[0m\u001B[2m:\u001B[0m input=StringLiteral(\"Ge&/3W@#N'&TeM=r,:T\")\r\n",
      "\u001B[2m2023-09-01T11:46:58.096961Z\u001B[0m \u001B[32m INFO\u001B[0m \u001B[2mtest\u001B[0m\u001B[2m:\u001B[0m input=Integer(-5783584672381826619)\r\n",
      "\u001B[2m2023-09-01T11:46:58.097013Z\u001B[0m \u001B[32m INFO\u001B[0m \u001B[2mtest\u001B[0m\u001B[2m:\u001B[0m input=Operator(\"+\")\r\n",
      "\u001B[2m2023-09-01T11:46:58.097044Z\u001B[0m \u001B[32m INFO\u001B[0m \u001B[2mtest\u001B[0m\u001B[2m:\u001B[0m input=Integer(-1440441005430289900)\r\n",
      "\u001B[2m2023-09-01T11:46:58.097081Z\u001B[0m \u001B[32m INFO\u001B[0m \u001B[2mtest\u001B[0m\u001B[2m:\u001B[0m input=Identifier(\"nZepbTJJIzUi3\")\r\n",
      "\u001B[2m2023-09-01T11:46:58.097165Z\u001B[0m \u001B[32m INFO\u001B[0m \u001B[2mtest\u001B[0m\u001B[2m:\u001B[0m input=StringLiteral(\":U-F$Bm:%E*<$^l9%?wWl\")\r\n",
      "\u001B[2m2023-09-01T11:46:58.097214Z\u001B[0m \u001B[32m INFO\u001B[0m \u001B[2mtest\u001B[0m\u001B[2m:\u001B[0m input=Identifier(\"Qk00pfSzSL769NzB\")\r\n",
      "\u001B[2m2023-09-01T11:46:58.097286Z\u001B[0m \u001B[32m INFO\u001B[0m \u001B[2mtest\u001B[0m\u001B[2m:\u001B[0m input=Comment(\"`YG^**`\\\\*_$lAi\\\"*,\")\r\n",
      "\u001B[2m2023-09-01T11:46:58.097323Z\u001B[0m \u001B[32m INFO\u001B[0m \u001B[2mtest\u001B[0m\u001B[2m:\u001B[0m input=Integer(-8922376528046590135)\r\n",
      "\u001B[2m2023-09-01T11:46:58.097378Z\u001B[0m \u001B[32m INFO\u001B[0m \u001B[2mtest\u001B[0m\u001B[2m:\u001B[0m input=Identifier(\"h2Ij\")\r\n",
      "\u001B[2m2023-09-01T11:46:58.097429Z\u001B[0m \u001B[32m INFO\u001B[0m \u001B[2mtest\u001B[0m\u001B[2m:\u001B[0m input=StringLiteral(\"$s/i9^u5Z?z%*.:Q\")\r\n",
      "\u001B[2m2023-09-01T11:46:58.097535Z\u001B[0m \u001B[32m INFO\u001B[0m \u001B[2mtest\u001B[0m\u001B[2m:\u001B[0m input=Comment(\",xXep`=:/Fp?\\\\83'qi%a|<sOqOh{w`o\\\"\")\r\n",
      "\u001B[2m2023-09-01T11:46:58.097606Z\u001B[0m \u001B[32m INFO\u001B[0m \u001B[2mtest\u001B[0m\u001B[2m:\u001B[0m input=StringLiteral(\"0e%oT*rF/{v&''Lum`OW.An\")\r\n",
      "\u001B[2m2023-09-01T11:46:58.097662Z\u001B[0m \u001B[32m INFO\u001B[0m \u001B[2mtest\u001B[0m\u001B[2m:\u001B[0m input=StringLiteral(\"6{|:/y:i%'he;P0<(5{$_US\")\r\n",
      "\u001B[2m2023-09-01T11:46:58.097706Z\u001B[0m \u001B[32m INFO\u001B[0m \u001B[2mtest\u001B[0m\u001B[2m:\u001B[0m input=Operator(\")\")\r\n",
      "\u001B[2m2023-09-01T11:46:58.097729Z\u001B[0m \u001B[32m INFO\u001B[0m \u001B[2mtest\u001B[0m\u001B[2m:\u001B[0m input=Comment(\"%6??n\")\r\n",
      "\u001B[2m2023-09-01T11:46:58.097749Z\u001B[0m \u001B[32m INFO\u001B[0m \u001B[2mtest\u001B[0m\u001B[2m:\u001B[0m input=Comment(\"4\\\"Q\\\"\")\r\n",
      "\u001B[2m2023-09-01T11:46:58.097787Z\u001B[0m \u001B[32m INFO\u001B[0m \u001B[2mtest\u001B[0m\u001B[2m:\u001B[0m input=Integer(-7551333003606446167)\r\n",
      "\u001B[2m2023-09-01T11:46:58.097829Z\u001B[0m \u001B[32m INFO\u001B[0m \u001B[2mtest\u001B[0m\u001B[2m:\u001B[0m input=Comment(\"Na&%et\")\r\n",
      "\u001B[2m2023-09-01T11:46:58.097880Z\u001B[0m \u001B[32m INFO\u001B[0m \u001B[2mtest\u001B[0m\u001B[2m:\u001B[0m input=Identifier(\"xkcbXB4hw9AxVcsQZh3AzwXpLj\")\r\n",
      "\u001B[2m2023-09-01T11:46:58.097944Z\u001B[0m \u001B[32m INFO\u001B[0m \u001B[2mtest\u001B[0m\u001B[2m:\u001B[0m input=Identifier(\"Q8b4eClLfO1Sx6S22l5bTmj78trTn0x\")\r\n",
      "\u001B[2m2023-09-01T11:46:58.097971Z\u001B[0m \u001B[32m INFO\u001B[0m \u001B[2mtest\u001B[0m\u001B[2m:\u001B[0m input=StringLiteral(\"/*H@?:-\")\r\n",
      "\u001B[2m2023-09-01T11:46:58.098022Z\u001B[0m \u001B[32m INFO\u001B[0m \u001B[2mtest\u001B[0m\u001B[2m:\u001B[0m input=Comment(\".uvj~/bM&\")\r\n",
      "\u001B[2m2023-09-01T11:46:58.098067Z\u001B[0m \u001B[32m INFO\u001B[0m \u001B[2mtest\u001B[0m\u001B[2m:\u001B[0m input=Identifier(\"Qo93bius\")\r\n",
      "\u001B[2m2023-09-01T11:46:58.098122Z\u001B[0m \u001B[32m INFO\u001B[0m \u001B[2mtest\u001B[0m\u001B[2m:\u001B[0m input=Operator(\"+\")\r\n",
      "\u001B[2m2023-09-01T11:46:58.098151Z\u001B[0m \u001B[32m INFO\u001B[0m \u001B[2mtest\u001B[0m\u001B[2m:\u001B[0m input=Integer(1639632487768658738)\r\n",
      "\u001B[2m2023-09-01T11:46:58.098182Z\u001B[0m \u001B[32m INFO\u001B[0m \u001B[2mtest\u001B[0m\u001B[2m:\u001B[0m input=Operator(\"/\")\r\n",
      "\u001B[2m2023-09-01T11:46:58.098242Z\u001B[0m \u001B[32m INFO\u001B[0m \u001B[2mtest\u001B[0m\u001B[2m:\u001B[0m input=Identifier(\"Yb0JJ0v97L8P7I74oZO1cx358Wi4ll3YP\")\r\n",
      "\u001B[2m2023-09-01T11:46:58.098284Z\u001B[0m \u001B[32m INFO\u001B[0m \u001B[2mtest\u001B[0m\u001B[2m:\u001B[0m input=Operator(\"+\")\r\n",
      "\u001B[2m2023-09-01T11:46:58.098305Z\u001B[0m \u001B[32m INFO\u001B[0m \u001B[2mtest\u001B[0m\u001B[2m:\u001B[0m input=Identifier(\"a4lc\")\r\n",
      "\u001B[2m2023-09-01T11:46:58.098329Z\u001B[0m \u001B[32m INFO\u001B[0m \u001B[2mtest\u001B[0m\u001B[2m:\u001B[0m input=Comment(\"&<5v\\\"g\")\r\n",
      "\u001B[2m2023-09-01T11:46:58.098386Z\u001B[0m \u001B[32m INFO\u001B[0m \u001B[2mtest\u001B[0m\u001B[2m:\u001B[0m input=Comment(\"j.$='Z|I>&%\\\"`LObW/_$:N\")\r\n",
      "\u001B[2m2023-09-01T11:46:58.098428Z\u001B[0m \u001B[32m INFO\u001B[0m \u001B[2mtest\u001B[0m\u001B[2m:\u001B[0m input=Comment(\"&{H\")\r\n",
      "\u001B[2m2023-09-01T11:46:58.098481Z\u001B[0m \u001B[32m INFO\u001B[0m \u001B[2mtest\u001B[0m\u001B[2m:\u001B[0m input=Integer(6246728949274268003)\r\n",
      "\u001B[2m2023-09-01T11:46:58.098567Z\u001B[0m \u001B[32m INFO\u001B[0m \u001B[2mtest\u001B[0m\u001B[2m:\u001B[0m input=Comment(\"O:%:W*'stcM&JP&@uj!&%HqU'',7cxM\")\r\n",
      "\u001B[2m2023-09-01T11:46:58.098632Z\u001B[0m \u001B[32m INFO\u001B[0m \u001B[2mtest\u001B[0m\u001B[2m:\u001B[0m input=Operator(\"-\")\r\n",
      "\u001B[2m2023-09-01T11:46:58.098681Z\u001B[0m \u001B[32m INFO\u001B[0m \u001B[2mtest\u001B[0m\u001B[2m:\u001B[0m input=Identifier(\"mNd0UqHpr7oRJNd003rLzZfk7hE\")\r\n",
      "\u001B[2m2023-09-01T11:46:58.098743Z\u001B[0m \u001B[32m INFO\u001B[0m \u001B[2mtest\u001B[0m\u001B[2m:\u001B[0m input=Identifier(\"NkTRDmvRsSV0lJ\")\r\n",
      "\u001B[2m2023-09-01T11:46:58.098779Z\u001B[0m \u001B[32m INFO\u001B[0m \u001B[2mtest\u001B[0m\u001B[2m:\u001B[0m input=StringLiteral(\"CO`:+ }T'\")\r\n",
      "\u001B[2m2023-09-01T11:46:58.098838Z\u001B[0m \u001B[32m INFO\u001B[0m \u001B[2mtest\u001B[0m\u001B[2m:\u001B[0m input=StringLiteral(\"r40-o7rhe\")\r\n",
      "\u001B[2m2023-09-01T11:46:58.098893Z\u001B[0m \u001B[32m INFO\u001B[0m \u001B[2mtest\u001B[0m\u001B[2m:\u001B[0m input=Operator(\")\")\r\n",
      "\u001B[2m2023-09-01T11:46:58.098938Z\u001B[0m \u001B[32m INFO\u001B[0m \u001B[2mtest\u001B[0m\u001B[2m:\u001B[0m input=Integer(-5056588184837576928)\r\n",
      "\u001B[2m2023-09-01T11:46:58.098981Z\u001B[0m \u001B[32m INFO\u001B[0m \u001B[2mtest\u001B[0m\u001B[2m:\u001B[0m input=Comment(\"u/e//\\\"mA0 /t\\\\R*\")\r\n",
      "\u001B[2m2023-09-01T11:46:58.099029Z\u001B[0m \u001B[32m INFO\u001B[0m \u001B[2mtest\u001B[0m\u001B[2m:\u001B[0m input=Integer(1176987375649539671)\r\n",
      "\u001B[2m2023-09-01T11:46:58.099070Z\u001B[0m \u001B[32m INFO\u001B[0m \u001B[2mtest\u001B[0m\u001B[2m:\u001B[0m input=Identifier(\"TLQ47Q61rqI23VTlPj\")\r\n",
      "\u001B[2m2023-09-01T11:46:58.099143Z\u001B[0m \u001B[32m INFO\u001B[0m \u001B[2mtest\u001B[0m\u001B[2m:\u001B[0m input=Comment(\"w^6=+?m.l$c2K0.&/5@hV<n=\")\r\n",
      "\u001B[2m2023-09-01T11:46:58.099228Z\u001B[0m \u001B[32m INFO\u001B[0m \u001B[2mtest\u001B[0m\u001B[2m:\u001B[0m input=Comment(\"\\\\%\\\\*=%a).u:n&Zl()ec 6*4J*l\\\\ 9\\\"@\")\r\n",
      "\u001B[2m2023-09-01T11:46:58.099295Z\u001B[0m \u001B[32m INFO\u001B[0m \u001B[2mtest\u001B[0m\u001B[2m:\u001B[0m input=Identifier(\"DMRP6G\")\r\n",
      "\u001B[2m2023-09-01T11:46:58.099326Z\u001B[0m \u001B[32m INFO\u001B[0m \u001B[2mtest\u001B[0m\u001B[2m:\u001B[0m input=Integer(2337334705405645160)\r\n",
      "\u001B[2m2023-09-01T11:46:58.099384Z\u001B[0m \u001B[32m INFO\u001B[0m \u001B[2mtest\u001B[0m\u001B[2m:\u001B[0m input=StringLiteral(\"?2/cr\")\r\n",
      "\u001B[2m2023-09-01T11:46:58.099443Z\u001B[0m \u001B[32m INFO\u001B[0m \u001B[2mtest\u001B[0m\u001B[2m:\u001B[0m input=Operator(\")\")\r\n",
      "\u001B[2m2023-09-01T11:46:58.099548Z\u001B[0m \u001B[32m INFO\u001B[0m \u001B[2mtest\u001B[0m\u001B[2m:\u001B[0m input=Identifier(\"SObdCx7bQW8CaCtzuG5sV9MwVW2\")\r\n",
      "\u001B[2m2023-09-01T11:46:58.099609Z\u001B[0m \u001B[32m INFO\u001B[0m \u001B[2mtest\u001B[0m\u001B[2m:\u001B[0m input=Operator(\")\")\r\n",
      "\u001B[2m2023-09-01T11:46:58.099672Z\u001B[0m \u001B[32m INFO\u001B[0m \u001B[2mtest\u001B[0m\u001B[2m:\u001B[0m input=Operator(\"-\")\r\n",
      "\u001B[2m2023-09-01T11:46:58.099706Z\u001B[0m \u001B[32m INFO\u001B[0m \u001B[2mtest\u001B[0m\u001B[2m:\u001B[0m input=Operator(\"+\")\r\n",
      "\u001B[2m2023-09-01T11:46:58.099778Z\u001B[0m \u001B[32m INFO\u001B[0m \u001B[2mtest\u001B[0m\u001B[2m:\u001B[0m input=Comment(\"D$PgU*XIze/:G{i{\\\\qIb*<X7RDp\")\r\n",
      "\u001B[2m2023-09-01T11:46:58.099818Z\u001B[0m \u001B[32m INFO\u001B[0m \u001B[2mtest\u001B[0m\u001B[2m:\u001B[0m input=Comment(\"\")\r\n",
      "\u001B[2m2023-09-01T11:46:58.099878Z\u001B[0m \u001B[32m INFO\u001B[0m \u001B[2mtest\u001B[0m\u001B[2m:\u001B[0m input=Operator(\"(\")\r\n",
      "\u001B[2m2023-09-01T11:46:58.099952Z\u001B[0m \u001B[32m INFO\u001B[0m \u001B[2mtest\u001B[0m\u001B[2m:\u001B[0m input=Comment(\"vFIKEb$\\\\<a|+1A\\\\4\\\\>^@%)\")\r\n",
      "\u001B[2m2023-09-01T11:46:58.100104Z\u001B[0m \u001B[32m INFO\u001B[0m \u001B[2mtest\u001B[0m\u001B[2m:\u001B[0m input=StringLiteral(\"s<*C\")\r\n",
      "\u001B[2m2023-09-01T11:46:58.100161Z\u001B[0m \u001B[32m INFO\u001B[0m \u001B[2mtest\u001B[0m\u001B[2m:\u001B[0m input=Operator(\"(\")\r\n",
      "\u001B[2m2023-09-01T11:46:58.100196Z\u001B[0m \u001B[32m INFO\u001B[0m \u001B[2mtest\u001B[0m\u001B[2m:\u001B[0m input=StringLiteral(\" 05'KE\")\r\n",
      "\u001B[2m2023-09-01T11:46:58.100277Z\u001B[0m \u001B[32m INFO\u001B[0m \u001B[2mtest\u001B[0m\u001B[2m:\u001B[0m input=Comment(\"\\\"jo^9V`4/cJRAEfBFg\\\"q\")\r\n",
      "\u001B[2m2023-09-01T11:46:58.100305Z\u001B[0m \u001B[32m INFO\u001B[0m \u001B[2mtest\u001B[0m\u001B[2m:\u001B[0m input=Integer(4827237965441968094)\r\n",
      "\u001B[2m2023-09-01T11:46:58.100340Z\u001B[0m \u001B[32m INFO\u001B[0m \u001B[2mtest\u001B[0m\u001B[2m:\u001B[0m input=Integer(-8472194079843484544)\r\n",
      "\u001B[2m2023-09-01T11:46:58.100369Z\u001B[0m \u001B[32m INFO\u001B[0m \u001B[2mtest\u001B[0m\u001B[2m:\u001B[0m input=Operator(\"/\")\r\n",
      "\u001B[2m2023-09-01T11:46:58.100413Z\u001B[0m \u001B[32m INFO\u001B[0m \u001B[2mtest\u001B[0m\u001B[2m:\u001B[0m input=Comment(\"'% &/DNa\\\"?!q=YZ*%-('kwNS>b0mn\\\\={\")\r\n",
      "\u001B[2m2023-09-01T11:46:58.100453Z\u001B[0m \u001B[32m INFO\u001B[0m \u001B[2mtest\u001B[0m\u001B[2m:\u001B[0m input=Integer(-6581608288034756694)\r\n",
      "\u001B[2m2023-09-01T11:46:58.100483Z\u001B[0m \u001B[32m INFO\u001B[0m \u001B[2mtest\u001B[0m\u001B[2m:\u001B[0m input=Operator(\"*\")\r\n",
      "\u001B[2m2023-09-01T11:46:58.100527Z\u001B[0m \u001B[32m INFO\u001B[0m \u001B[2mtest\u001B[0m\u001B[2m:\u001B[0m input=Comment(\"X<<&[)aO&g'\")\r\n",
      "\u001B[2m2023-09-01T11:46:58.100588Z\u001B[0m \u001B[32m INFO\u001B[0m \u001B[2mtest\u001B[0m\u001B[2m:\u001B[0m input=Integer(6723034464992915264)\r\n",
      "\u001B[2m2023-09-01T11:46:58.100645Z\u001B[0m \u001B[32m INFO\u001B[0m \u001B[2mtest\u001B[0m\u001B[2m:\u001B[0m input=Integer(2930760664911159058)\r\n",
      "\u001B[2m2023-09-01T11:46:58.100711Z\u001B[0m \u001B[32m INFO\u001B[0m \u001B[2mtest\u001B[0m\u001B[2m:\u001B[0m input=Comment(\"c9}zQ{|65)Z<%9`aQ6yg*<*l\\\\\")\r\n",
      "\u001B[2m2023-09-01T11:46:58.100748Z\u001B[0m \u001B[32m INFO\u001B[0m \u001B[2mtest\u001B[0m\u001B[2m:\u001B[0m input=Integer(-5245515295803204099)\r\n",
      "\u001B[2m2023-09-01T11:46:58.100780Z\u001B[0m \u001B[32m INFO\u001B[0m \u001B[2mtest\u001B[0m\u001B[2m:\u001B[0m input=Integer(-7128652582053001393)\r\n",
      "\u001B[2m2023-09-01T11:46:58.100820Z\u001B[0m \u001B[32m INFO\u001B[0m \u001B[2mtest\u001B[0m\u001B[2m:\u001B[0m input=Identifier(\"sTIPZlZM8Y8o9v69\")\r\n",
      "\u001B[2m2023-09-01T11:46:58.100937Z\u001B[0m \u001B[32m INFO\u001B[0m \u001B[2mtest\u001B[0m\u001B[2m:\u001B[0m input=Identifier(\"Nxw80m1i8nWtFUZlJSDn262fbqr\")\r\n",
      "\u001B[2m2023-09-01T11:46:58.100971Z\u001B[0m \u001B[32m INFO\u001B[0m \u001B[2mtest\u001B[0m\u001B[2m:\u001B[0m input=Integer(-3837107706926562793)\r\n",
      "\u001B[2m2023-09-01T11:46:58.101018Z\u001B[0m \u001B[32m INFO\u001B[0m \u001B[2mtest\u001B[0m\u001B[2m:\u001B[0m input=StringLiteral(\"\")\r\n",
      "\u001B[2m2023-09-01T11:46:58.101049Z\u001B[0m \u001B[32m INFO\u001B[0m \u001B[2mtest\u001B[0m\u001B[2m:\u001B[0m input=Operator(\"=\")\r\n",
      "\u001B[2m2023-09-01T11:46:58.101077Z\u001B[0m \u001B[32m INFO\u001B[0m \u001B[2mtest\u001B[0m\u001B[2m:\u001B[0m input=Integer(7316814569661125868)\r\n",
      "\u001B[2m2023-09-01T11:46:58.101238Z\u001B[0m \u001B[32m INFO\u001B[0m \u001B[2mtest\u001B[0m\u001B[2m:\u001B[0m input=Identifier(\"myC0rBn49Stgkrca8mI\")\r\n",
      "\u001B[2m2023-09-01T11:46:58.101338Z\u001B[0m \u001B[32m INFO\u001B[0m \u001B[2mtest\u001B[0m\u001B[2m:\u001B[0m input=StringLiteral(\"%<$e\")\r\n",
      "\u001B[2m2023-09-01T11:46:58.101428Z\u001B[0m \u001B[32m INFO\u001B[0m \u001B[2mtest\u001B[0m\u001B[2m:\u001B[0m input=Integer(8769560008595260242)\r\n",
      "\u001B[2m2023-09-01T11:46:58.101475Z\u001B[0m \u001B[32m INFO\u001B[0m \u001B[2mtest\u001B[0m\u001B[2m:\u001B[0m input=StringLiteral(\"M:'=Lx:!26P{wB{_tA\")\r\n",
      "\u001B[2m2023-09-01T11:46:58.101542Z\u001B[0m \u001B[32m INFO\u001B[0m \u001B[2mtest\u001B[0m\u001B[2m:\u001B[0m input=Identifier(\"qBdF94M1LydeTYxR41sRC\")\r\n",
      "\u001B[2m2023-09-01T11:46:58.101580Z\u001B[0m \u001B[32m INFO\u001B[0m \u001B[2mtest\u001B[0m\u001B[2m:\u001B[0m input=StringLiteral(\".%x +p'/.u\")\r\n",
      "\u001B[2m2023-09-01T11:46:58.101632Z\u001B[0m \u001B[32m INFO\u001B[0m \u001B[2mtest\u001B[0m\u001B[2m:\u001B[0m input=Integer(864763622998456915)\r\n",
      "\u001B[2m2023-09-01T11:46:58.101683Z\u001B[0m \u001B[32m INFO\u001B[0m \u001B[2mtest\u001B[0m\u001B[2m:\u001B[0m input=Comment(\"K/?S5]YZqzO'3\\\"]p=QM<fX$5!?[$Lk\")\r\n",
      "\u001B[2m2023-09-01T11:46:58.101731Z\u001B[0m \u001B[32m INFO\u001B[0m \u001B[2mtest\u001B[0m\u001B[2m:\u001B[0m input=Comment(\"=`l\\\"8L$u}V~D{/?@(\")\r\n",
      "\u001B[2m2023-09-01T11:46:58.101790Z\u001B[0m \u001B[32m INFO\u001B[0m \u001B[2mtest\u001B[0m\u001B[2m:\u001B[0m input=StringLiteral(\"9b`<V;TKh \")\r\n",
      "\u001B[2m2023-09-01T11:46:58.101827Z\u001B[0m \u001B[32m INFO\u001B[0m \u001B[2mtest\u001B[0m\u001B[2m:\u001B[0m input=Identifier(\"QOTZwh1YowYT48\")\r\n",
      "\u001B[2m2023-09-01T11:46:58.101896Z\u001B[0m \u001B[32m INFO\u001B[0m \u001B[2mtest\u001B[0m\u001B[2m:\u001B[0m input=StringLiteral(\"P=%8<'VU([`~'xv9,w3D=y.& R?\")\r\n",
      "\u001B[2m2023-09-01T11:46:58.101931Z\u001B[0m \u001B[32m INFO\u001B[0m \u001B[2mtest\u001B[0m\u001B[2m:\u001B[0m input=Operator(\"*\")\r\n",
      "\u001B[2m2023-09-01T11:46:58.101986Z\u001B[0m \u001B[32m INFO\u001B[0m \u001B[2mtest\u001B[0m\u001B[2m:\u001B[0m input=Comment(\"(3J'?&`~ze\")\r\n",
      "\u001B[2m2023-09-01T11:46:58.102021Z\u001B[0m \u001B[32m INFO\u001B[0m \u001B[2mtest\u001B[0m\u001B[2m:\u001B[0m input=Identifier(\"wGdowEHGzx\")\r\n",
      "\u001B[2m2023-09-01T11:46:58.102070Z\u001B[0m \u001B[32m INFO\u001B[0m \u001B[2mtest\u001B[0m\u001B[2m:\u001B[0m input=Integer(-2022076483947735547)\r\n",
      "\u001B[2m2023-09-01T11:46:58.102098Z\u001B[0m \u001B[32m INFO\u001B[0m \u001B[2mtest\u001B[0m\u001B[2m:\u001B[0m input=Integer(-3686776402215142454)\r\n",
      "\u001B[2m2023-09-01T11:46:58.102124Z\u001B[0m \u001B[32m INFO\u001B[0m \u001B[2mtest\u001B[0m\u001B[2m:\u001B[0m input=Identifier(\"iha\")\r\n",
      "\u001B[2m2023-09-01T11:46:58.102175Z\u001B[0m \u001B[32m INFO\u001B[0m \u001B[2mtest\u001B[0m\u001B[2m:\u001B[0m input=Operator(\")\")\r\n",
      "\u001B[2m2023-09-01T11:46:58.102205Z\u001B[0m \u001B[32m INFO\u001B[0m \u001B[2mtest\u001B[0m\u001B[2m:\u001B[0m input=Operator(\"/\")\r\n",
      "\u001B[2m2023-09-01T11:46:58.102250Z\u001B[0m \u001B[32m INFO\u001B[0m \u001B[2mtest\u001B[0m\u001B[2m:\u001B[0m input=StringLiteral(\"1:-`,Q?/s<D(b\")\r\n",
      "\u001B[2m2023-09-01T11:46:58.102311Z\u001B[0m \u001B[32m INFO\u001B[0m \u001B[2mtest\u001B[0m\u001B[2m:\u001B[0m input=Integer(-937955337944053563)\r\n",
      "\u001B[2m2023-09-01T11:46:58.102401Z\u001B[0m \u001B[32m INFO\u001B[0m \u001B[2mtest\u001B[0m\u001B[2m:\u001B[0m input=Integer(-4011151879545984609)\r\n",
      "\u001B[2m2023-09-01T11:46:58.102437Z\u001B[0m \u001B[32m INFO\u001B[0m \u001B[2mtest\u001B[0m\u001B[2m:\u001B[0m input=Identifier(\"dPGAW4M5MMtB\")\r\n",
      "\u001B[2m2023-09-01T11:46:58.102463Z\u001B[0m \u001B[32m INFO\u001B[0m \u001B[2mtest\u001B[0m\u001B[2m:\u001B[0m input=Integer(3346613798129971267)\r\n",
      "\u001B[2m2023-09-01T11:46:58.102509Z\u001B[0m \u001B[32m INFO\u001B[0m \u001B[2mtest\u001B[0m\u001B[2m:\u001B[0m input=Integer(-3986409149392378245)\r\n",
      "\u001B[2m2023-09-01T11:46:58.102551Z\u001B[0m \u001B[32m INFO\u001B[0m \u001B[2mtest\u001B[0m\u001B[2m:\u001B[0m input=Comment(\" M#}l7y4!Y1d?ha.9B*\")\r\n",
      "\u001B[2m2023-09-01T11:46:58.102609Z\u001B[0m \u001B[32m INFO\u001B[0m \u001B[2mtest\u001B[0m\u001B[2m:\u001B[0m input=Comment(\"I^8*Kyo\\\\(\\\\BV\")\r\n",
      "\u001B[2m2023-09-01T11:46:58.102660Z\u001B[0m \u001B[32m INFO\u001B[0m \u001B[2mtest\u001B[0m\u001B[2m:\u001B[0m input=Comment(\"`:Qz!CvQoI`=l7Zdm%\")\r\n",
      "\u001B[2m2023-09-01T11:46:58.102717Z\u001B[0m \u001B[32m INFO\u001B[0m \u001B[2mtest\u001B[0m\u001B[2m:\u001B[0m input=Identifier(\"XnH0a0A\")\r\n",
      "\u001B[2m2023-09-01T11:46:58.102747Z\u001B[0m \u001B[32m INFO\u001B[0m \u001B[2mtest\u001B[0m\u001B[2m:\u001B[0m input=StringLiteral(\"'M9\")\r\n",
      "\u001B[2m2023-09-01T11:46:58.102797Z\u001B[0m \u001B[32m INFO\u001B[0m \u001B[2mtest\u001B[0m\u001B[2m:\u001B[0m input=Comment(\"|WGQqZ\\\"{/{e\\\\9}L`60z=gR.oM\\\"?*\")\r\n",
      "\u001B[2m2023-09-01T11:46:58.102854Z\u001B[0m \u001B[32m INFO\u001B[0m \u001B[2mtest\u001B[0m\u001B[2m:\u001B[0m input=Comment(\"Rh8i\")\r\n",
      "\u001B[2m2023-09-01T11:46:58.102902Z\u001B[0m \u001B[32m INFO\u001B[0m \u001B[2mtest\u001B[0m\u001B[2m:\u001B[0m input=StringLiteral(\"V:H@?Y.G?[D/buYc!!NOd-/\")\r\n",
      "\u001B[2m2023-09-01T11:46:58.102955Z\u001B[0m \u001B[32m INFO\u001B[0m \u001B[2mtest\u001B[0m\u001B[2m:\u001B[0m input=Integer(3092214049946406219)\r\n",
      "\u001B[2m2023-09-01T11:46:58.102980Z\u001B[0m \u001B[32m INFO\u001B[0m \u001B[2mtest\u001B[0m\u001B[2m:\u001B[0m input=Integer(205900115137360858)\r\n",
      "\u001B[2m2023-09-01T11:46:58.103005Z\u001B[0m \u001B[32m INFO\u001B[0m \u001B[2mtest\u001B[0m\u001B[2m:\u001B[0m input=Integer(8435614305057214973)\r\n",
      "\u001B[2m2023-09-01T11:46:58.103050Z\u001B[0m \u001B[32m INFO\u001B[0m \u001B[2mtest\u001B[0m\u001B[2m:\u001B[0m input=Comment(\"A/1=|X{=%\\\\\\\"y\\\\\\\"3X;@K3qB5V\\\"O?t%\")\r\n",
      "\u001B[2m2023-09-01T11:46:58.103085Z\u001B[0m \u001B[32m INFO\u001B[0m \u001B[2mtest\u001B[0m\u001B[2m:\u001B[0m input=Identifier(\"K\")\r\n",
      "\u001B[2m2023-09-01T11:46:58.103114Z\u001B[0m \u001B[32m INFO\u001B[0m \u001B[2mtest\u001B[0m\u001B[2m:\u001B[0m input=Operator(\"/\")\r\n",
      "\u001B[2m2023-09-01T11:46:58.103149Z\u001B[0m \u001B[32m INFO\u001B[0m \u001B[2mtest\u001B[0m\u001B[2m:\u001B[0m input=Identifier(\"c8Ms76wTOpdW\")\r\n",
      "\u001B[2m2023-09-01T11:46:58.103182Z\u001B[0m \u001B[32m INFO\u001B[0m \u001B[2mtest\u001B[0m\u001B[2m:\u001B[0m input=StringLiteral(\"7=l\")\r\n",
      "\u001B[2m2023-09-01T11:46:58.103214Z\u001B[0m \u001B[32m INFO\u001B[0m \u001B[2mtest\u001B[0m\u001B[2m:\u001B[0m input=StringLiteral(\"{x7L'\")\r\n",
      "\u001B[2m2023-09-01T11:46:58.103240Z\u001B[0m \u001B[32m INFO\u001B[0m \u001B[2mtest\u001B[0m\u001B[2m:\u001B[0m input=Integer(-5168264092825058974)\r\n",
      "\u001B[2m2023-09-01T11:46:58.103264Z\u001B[0m \u001B[32m INFO\u001B[0m \u001B[2mtest\u001B[0m\u001B[2m:\u001B[0m input=Integer(-8502471667710680896)\r\n",
      "\u001B[2m2023-09-01T11:46:58.103297Z\u001B[0m \u001B[32m INFO\u001B[0m \u001B[2mtest\u001B[0m\u001B[2m:\u001B[0m input=StringLiteral(\"?n2?&=Ir-:\")\r\n",
      "\u001B[2m2023-09-01T11:46:58.103334Z\u001B[0m \u001B[32m INFO\u001B[0m \u001B[2mtest\u001B[0m\u001B[2m:\u001B[0m input=StringLiteral(\"U-X!sdg'V\")\r\n",
      "\u001B[2m2023-09-01T11:46:58.103411Z\u001B[0m \u001B[32m INFO\u001B[0m \u001B[2mtest\u001B[0m\u001B[2m:\u001B[0m input=Operator(\"/\")\r\n",
      "\u001B[2m2023-09-01T11:46:58.103507Z\u001B[0m \u001B[32m INFO\u001B[0m \u001B[2mtest\u001B[0m\u001B[2m:\u001B[0m input=StringLiteral(\"V`T`Uy{{R-%#5[ph1'N@9d\")\r\n",
      "test prop_parse_format_idempotent ... ok\r\n",
      "test adding_and_then_removing_an_item_from_the_cart_leaves_the_cart_unchanged ... ok\r\n",
      "\r\n",
      "test result: ok. 3 passed; 0 failed; 0 ignored; 0 measured; 0 filtered out; finished in 0.11s\r\n",
      "\r\n"
     ]
    }
   ],
   "source": [
    "$env:RUST_LOG=\"info\"\n",
    "{ cargo test --release } | Invoke-Block"
   ]
  },
  {
   "cell_type": "code",
   "execution_count": null,
   "metadata": {
    "dotnet_interactive": {
     "language": "pwsh"
    },
    "polyglot_notebook": {
     "kernelName": "pwsh"
    }
   },
   "outputs": [
    {
     "name": "stdout",
     "output_type": "stream",
     "text": [
      "app=test\r\n"
     ]
    }
   ],
   "source": [
    "{ . $ScriptDir/../../target/release/test$(GetExecutableSuffix) } | Invoke-Block"
   ]
  }
 ],
 "metadata": {
  "kernelspec": {
   "display_name": ".NET (C#)",
   "language": "C#",
   "name": ".net-csharp"
  },
  "language_info": {
   "file_extension": ".cs",
   "mimetype": "text/x-csharp",
   "name": "C#",
   "pygments_lexer": "csharp",
   "version": "10.0"
  },
  "polyglot_notebook": {
   "defaultKernelName": "csharp",
   "items": [
    {
     "name": "csharp"
    }
   ]
  },
  "dotnet_interactive": {
   "defaultKernelName": "csharp",
   "items": [
    {
     "name": "csharp"
    }
   ]
  }
 },
 "nbformat": 4,
 "nbformat_minor": 5
}