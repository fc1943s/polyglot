{
 "cells": [
  {
   "cell_type": "code",
   "execution_count": null,
   "metadata": {
    "dotnet_interactive": {
     "language": "pwsh"
    },
    "polyglot_notebook": {
     "kernelName": "pwsh"
    }
   },
   "outputs": [],
   "source": [
    ". ../../scripts/nbs_header.ps1\n",
    ". ../../scripts/core.ps1"
   ]
  },
  {
   "cell_type": "code",
   "execution_count": null,
   "metadata": {
    "dotnet_interactive": {
     "language": "pwsh"
    },
    "polyglot_notebook": {
     "kernelName": "pwsh"
    }
   },
   "outputs": [
    {
     "name": "stdout",
     "output_type": "stream",
     "text": [
      "06:24:29 #1 [Debug] runWithTimeoutAsync / timeout: 60\r\n",
      "06:24:29 #2 [Debug] executeAsync / options: { Command =\r\n",
      "   \"dotnet \"C:\\home\\git\\polyglot\\deps\\The-Spiral-Language\\The Spiral Language 2\\artifacts\\bin\\The Spiral Language 2\\release\\Spiral.dll\" port=13805\"\r\n",
      "  WorkingDirectory = None\r\n",
      "  CancellationToken = None\r\n",
      "  OnLine = Some <fun:main@169-269> }\r\n",
      "06:24:30 #3 [Debug] > Server bound to: tcp://*:13805 & tcp://*:13806\r\n",
      "06:24:30 #4 [Debug] > pwd: C:\\home\\git\\polyglot\\spiral\\test\r\n",
      "06:24:30 #5 [Debug] > dll_path: C:\\home\\git\\polyglot\\deps\\The-Spiral-Language\\The Spiral Language 2\\artifacts\\bin\\The Spiral Language 2\\release\r\n",
      "06:24:30 #6 [Debug] sendJson / port: 13805 / json: {\"FileOpen\":{\"spiText\":\"inl app () =\\n    \\u0022test\\u0022 |\\u003E fsharp.console.write_line\\n    0i32\\n\\ninl main () =\\n    print_static \\u0022\\u003Ctest\\u003E\\u0022\\n\\n    app\\n    |\\u003E dyn\\n    |\\u003E ignore\\n\\n    print_static \\u0022\\u003C/test\\u003E\\u0022\\n\",\"uri\":\"file:///C:\\\\home\\\\git\\\\polyglot\\\\spiral\\\\test\\\\test.spi\"}} / result: []\r\n",
      "06:24:30 #7 [Debug] sendJson / port: 13805 / json: {\"BuildFile\":{\"backend\":\"Fsharp\",\"uri\":\"file:///C:\\\\home\\\\git\\\\polyglot\\\\spiral\\\\test\\\\test.spi\"}} / result: []\r\n",
      "06:24:30 #8 [Debug] > Building C:\\home\\git\\polyglot\\spiral\\test\\test.spi\r\n",
      "06:24:31 #9 [Debug] > <test>\r\n",
      "06:24:31 #10 [Debug] > </test>\r\n",
      "06:24:31 #11 [Debug] watchWithFilter / Disposing watch stream / fullPath: C:\\home\\git\\polyglot\\spiral\\test / filter: FileName, LastWrite\r\n"
     ]
    }
   ],
   "source": [
    "{ . ../../apps/spiral/target/bin/Release/net8.0/Supervisor$(GetExecutableSuffix) --buildfile test.spi test.fsx --timeout 5000 } | Invoke-Block"
   ]
  },
  {
   "cell_type": "code",
   "execution_count": null,
   "metadata": {
    "dotnet_interactive": {
     "language": "pwsh"
    },
    "polyglot_notebook": {
     "kernelName": "pwsh"
    }
   },
   "outputs": [
    {
     "name": "stdout",
     "output_type": "stream",
     "text": [
      "Fable 4.1.4: F# to Rust compiler (status: alpha)\r\n",
      "\r\n",
      "Thanks to the contributor! @inchingforward\r\n",
      "Stand with Ukraine! https://standwithukraine.com.ua/\r\n",
      "\r\n",
      "Parsing test.fsproj...\r\n",
      "Retrieving project options from cache, in case of issues run `dotnet fable clean` or try `--noCache` option.\r\n",
      "Project and references (1 source files) parsed in 173ms\r\n",
      "\r\n",
      "Started Fable compilation...\r\n",
      "Fable compilation finished in 1648ms\r\n",
      "\r\n",
      ".\\test.fsx(6,0): (6,2) warning FABLE: For Rust, support for F# static and module do bindings is disabled by default. It can be enabled with the 'static_do_bindings' feature. Use at your own risk!\r\n"
     ]
    }
   ],
   "source": [
    "dotnet fable --optimize --lang rs --extension .rs"
   ]
  },
  {
   "cell_type": "code",
   "execution_count": null,
   "metadata": {
    "dotnet_interactive": {
     "language": "pwsh"
    },
    "polyglot_notebook": {
     "kernelName": "pwsh"
    }
   },
   "outputs": [],
   "source": [
    "cargo fmt --"
   ]
  },
  {
   "cell_type": "code",
   "execution_count": null,
   "metadata": {
    "dotnet_interactive": {
     "language": "pwsh"
    },
    "polyglot_notebook": {
     "kernelName": "pwsh"
    }
   },
   "outputs": [
    {
     "name": "stdout",
     "output_type": "stream",
     "text": [
      "\u001B[31;1m   Compiling test v0.0.1 (C:\\home\\git\\polyglot\\spiral\\test)\u001B[0m\r\n",
      "\u001B[31;1mwarning: unused import: `info`\u001B[0m\r\n",
      "\u001B[31;1m   --> spiral\\test\\./main.rs:190:15\u001B[0m\r\n",
      "\u001B[31;1m    |\u001B[0m\r\n",
      "\u001B[31;1m190 | use tracing::{info, Level};\u001B[0m\r\n",
      "\u001B[31;1m    |               ^^^^\u001B[0m\r\n",
      "\u001B[31;1m    |\u001B[0m\r\n",
      "\u001B[31;1m    = note: `#[warn(unused_imports)]` on by default\u001B[0m\r\n",
      "\u001B[31;1m\u001B[0m\r\n",
      "\u001B[31;1mwarning: associated items `new`, `add_item`, and `remove_item` are never used\u001B[0m\r\n",
      "\u001B[31;1m  --> spiral\\test\\./main.rs:46:8\u001B[0m\r\n",
      "\u001B[31;1m   |\u001B[0m\r\n",
      "\u001B[31;1m45 | impl Cart {\u001B[0m\r\n",
      "\u001B[31;1m   | --------- associated items in this implementation\u001B[0m\r\n",
      "\u001B[31;1m46 |     fn new() -> Cart {\u001B[0m\r\n",
      "\u001B[31;1m   |        ^^^\u001B[0m\r\n",
      "\u001B[31;1m...\u001B[0m\r\n",
      "\u001B[31;1m50 |     fn add_item(&mut self, item: Item) {\u001B[0m\r\n",
      "\u001B[31;1m   |        ^^^^^^^^\u001B[0m\r\n",
      "\u001B[31;1m...\u001B[0m\r\n",
      "\u001B[31;1m56 |     fn remove_item(&mut self, item: &Item) {\u001B[0m\r\n",
      "\u001B[31;1m   |        ^^^^^^^^^^^\u001B[0m\r\n",
      "\u001B[31;1m   |\u001B[0m\r\n",
      "\u001B[31;1m   = note: `#[warn(dead_code)]` on by default\u001B[0m\r\n",
      "\u001B[31;1m\u001B[0m\r\n",
      "\u001B[31;1mwarning: function `parse_comment` is never used\u001B[0m\r\n",
      "\u001B[31;1m   --> spiral\\test\\./main.rs:124:4\u001B[0m\r\n",
      "\u001B[31;1m    |\u001B[0m\r\n",
      "\u001B[31;1m124 | fn parse_comment(input: &str) -> IResult<&str, SpiralToken> {\u001B[0m\r\n",
      "\u001B[31;1m    |    ^^^^^^^^^^^^^\u001B[0m\r\n",
      "\u001B[31;1m\u001B[0m\r\n",
      "\u001B[31;1mwarning: function `parse_string` is never used\u001B[0m\r\n",
      "\u001B[31;1m   --> spiral\\test\\./main.rs:130:4\u001B[0m\r\n",
      "\u001B[31;1m    |\u001B[0m\r\n",
      "\u001B[31;1m130 | fn parse_string(input: &str) -> IResult<&str, SpiralToken> {\u001B[0m\r\n",
      "\u001B[31;1m    |    ^^^^^^^^^^^^\u001B[0m\r\n",
      "\u001B[31;1m\u001B[0m\r\n",
      "\u001B[31;1mwarning: function `parse_identifier` is never used\u001B[0m\r\n",
      "\u001B[31;1m   --> spiral\\test\\./main.rs:145:4\u001B[0m\r\n",
      "\u001B[31;1m    |\u001B[0m\r\n",
      "\u001B[31;1m145 | fn parse_identifier(input: &str) -> IResult<&str, SpiralToken> {\u001B[0m\r\n",
      "\u001B[31;1m    |    ^^^^^^^^^^^^^^^^\u001B[0m\r\n",
      "\u001B[31;1m\u001B[0m\r\n",
      "\u001B[31;1mwarning: function `parse_integer` is never used\u001B[0m\r\n",
      "\u001B[31;1m   --> spiral\\test\\./main.rs:157:4\u001B[0m\r\n",
      "\u001B[31;1m    |\u001B[0m\r\n",
      "\u001B[31;1m157 | fn parse_integer(input: &str) -> IResult<&str, SpiralToken> {\u001B[0m\r\n",
      "\u001B[31;1m    |    ^^^^^^^^^^^^^\u001B[0m\r\n",
      "\u001B[31;1m\u001B[0m\r\n",
      "\u001B[31;1mwarning: function `parse_operator` is never used\u001B[0m\r\n",
      "\u001B[31;1m   --> spiral\\test\\./main.rs:165:4\u001B[0m\r\n",
      "\u001B[31;1m    |\u001B[0m\r\n",
      "\u001B[31;1m165 | fn parse_operator(input: &str) -> IResult<&str, SpiralToken> {\u001B[0m\r\n",
      "\u001B[31;1m    |    ^^^^^^^^^^^^^^\u001B[0m\r\n",
      "\u001B[31;1m\u001B[0m\r\n",
      "\u001B[31;1mwarning: function `parse_token` is never used\u001B[0m\r\n",
      "\u001B[31;1m   --> spiral\\test\\./main.rs:170:4\u001B[0m\r\n",
      "\u001B[31;1m    |\u001B[0m\r\n",
      "\u001B[31;1m170 | fn parse_token(input: &str) -> IResult<&str, SpiralToken> {\u001B[0m\r\n",
      "\u001B[31;1m    |    ^^^^^^^^^^^\u001B[0m\r\n",
      "\u001B[31;1m\u001B[0m\r\n",
      "\u001B[31;1mwarning: function `format_token` is never used\u001B[0m\r\n",
      "\u001B[31;1m   --> spiral\\test\\./main.rs:180:4\u001B[0m\r\n",
      "\u001B[31;1m    |\u001B[0m\r\n",
      "\u001B[31;1m180 | fn format_token(token: &SpiralToken) -> String {\u001B[0m\r\n",
      "\u001B[31;1m    |    ^^^^^^^^^^^^\u001B[0m\r\n",
      "\u001B[31;1m\u001B[0m\r\n",
      "\u001B[31;1mwarning: function `parse_expression` is never used\u001B[0m\r\n",
      "\u001B[31;1m   --> spiral\\test\\./main.rs:213:4\u001B[0m\r\n",
      "\u001B[31;1m    |\u001B[0m\r\n",
      "\u001B[31;1m213 | fn parse_expression(input: &str) -> IResult<&str, SpiralToken> {\u001B[0m\r\n",
      "\u001B[31;1m    |    ^^^^^^^^^^^^^^^^\u001B[0m\r\n",
      "\u001B[31;1m\u001B[0m\r\n",
      "\u001B[31;1mwarning: `test` (bin \"test\") generated 10 warnings (run `cargo fix --bin \"test\"` to apply 1 suggestion)\u001B[0m\r\n",
      "\u001B[31;1m    Finished release [optimized] target(s) in 2.62s\u001B[0m\r\n"
     ]
    }
   ],
   "source": [
    "cargo build --release"
   ]
  },
  {
   "cell_type": "code",
   "execution_count": null,
   "metadata": {
    "dotnet_interactive": {
     "language": "pwsh"
    },
    "polyglot_notebook": {
     "kernelName": "pwsh"
    }
   },
   "outputs": [
    {
     "name": "stdout",
     "output_type": "stream",
     "text": [
      "\u001B[31;1m   Compiling test v0.0.1 (C:\\home\\git\\polyglot\\spiral\\test)\u001B[0m\r\n",
      "\u001B[31;1m    Finished release [optimized] target(s) in 4.96s\u001B[0m\r\n",
      "\u001B[31;1m     Running unittests main.rs (C:\\home\\git\\polyglot\\target\\release\\deps\\test-38172e11e9fb5a54.exe)\u001B[0m\r\n",
      "\r\n",
      "running 3 tests\r\n",
      "test test_parse_number ... ok\r\n",
      "\u001B[2m2023-08-03T09:24:43.800974Z\u001B[0m \u001B[32m INFO\u001B[0m \u001B[2mtest\u001B[0m\u001B[2m:\u001B[0m input=Integer(8719917965842690642)\r\n",
      "\u001B[2m2023-08-03T09:24:43.801090Z\u001B[0m \u001B[32m INFO\u001B[0m \u001B[2mtest\u001B[0m\u001B[2m:\u001B[0m input=Comment(\"'r.O\\\"u^+6&NGH`/TLx?jA/2h\")\r\n",
      "\u001B[2m2023-08-03T09:24:43.801133Z\u001B[0m \u001B[32m INFO\u001B[0m \u001B[2mtest\u001B[0m\u001B[2m:\u001B[0m input=Operator(\"(\")\r\n",
      "\u001B[2m2023-08-03T09:24:43.801198Z\u001B[0m \u001B[32m INFO\u001B[0m \u001B[2mtest\u001B[0m\u001B[2m:\u001B[0m input=Operator(\")\")\r\n",
      "\u001B[2m2023-08-03T09:24:43.801230Z\u001B[0m \u001B[32m INFO\u001B[0m \u001B[2mtest\u001B[0m\u001B[2m:\u001B[0m input=Operator(\"+\")\r\n",
      "\u001B[2m2023-08-03T09:24:43.801289Z\u001B[0m \u001B[32m INFO\u001B[0m \u001B[2mtest\u001B[0m\u001B[2m:\u001B[0m input=Integer(-8743338926349149155)\r\n",
      "\u001B[2m2023-08-03T09:24:43.801329Z\u001B[0m \u001B[32m INFO\u001B[0m \u001B[2mtest\u001B[0m\u001B[2m:\u001B[0m input=StringLiteral(\"\")\r\n",
      "\u001B[2m2023-08-03T09:24:43.801500Z\u001B[0m \u001B[32m INFO\u001B[0m \u001B[2mtest\u001B[0m\u001B[2m:\u001B[0m input=Identifier(\"GwO39IV1biIK0i5Q96m95dzkfz1n\")\r\n",
      "\u001B[2m2023-08-03T09:24:43.801616Z\u001B[0m \u001B[32m INFO\u001B[0m \u001B[2mtest\u001B[0m\u001B[2m:\u001B[0m input=Identifier(\"Oqk2YHvTKXbNUsWt6YskcgzXJ3x5e8j\")\r\n",
      "\u001B[2m2023-08-03T09:24:43.801648Z\u001B[0m \u001B[32m INFO\u001B[0m \u001B[2mtest\u001B[0m\u001B[2m:\u001B[0m input=Integer(5637699787527161107)\r\n",
      "\u001B[2m2023-08-03T09:24:43.801674Z\u001B[0m \u001B[32m INFO\u001B[0m \u001B[2mtest\u001B[0m\u001B[2m:\u001B[0m input=Integer(1912654606895468993)\r\n",
      "\u001B[2m2023-08-03T09:24:43.801717Z\u001B[0m \u001B[32m INFO\u001B[0m \u001B[2mtest\u001B[0m\u001B[2m:\u001B[0m input=StringLiteral(\"<m.??*L}Y'wp%`dZ\")\r\n",
      "\u001B[2m2023-08-03T09:24:43.801759Z\u001B[0m \u001B[32m INFO\u001B[0m \u001B[2mtest\u001B[0m\u001B[2m:\u001B[0m input=Identifier(\"p2g6SM4GeMNUgvkEYSiRyLV5er7r2T782\")\r\n",
      "\u001B[2m2023-08-03T09:24:43.801778Z\u001B[0m \u001B[32m INFO\u001B[0m \u001B[2mtest\u001B[0m\u001B[2m:\u001B[0m input=Integer(3144961776916803280)\r\n",
      "\u001B[2m2023-08-03T09:24:43.801796Z\u001B[0m \u001B[32m INFO\u001B[0m \u001B[2mtest\u001B[0m\u001B[2m:\u001B[0m input=Integer(6437169779576741002)\r\n",
      "\u001B[2m2023-08-03T09:24:43.801812Z\u001B[0m \u001B[32m INFO\u001B[0m \u001B[2mtest\u001B[0m\u001B[2m:\u001B[0m input=Integer(3449825418855636211)\r\n",
      "\u001B[2m2023-08-03T09:24:43.801839Z\u001B[0m \u001B[32m INFO\u001B[0m \u001B[2mtest\u001B[0m\u001B[2m:\u001B[0m input=Identifier(\"LCuoUJ15C1e84Ogwfn5Cv5T5m\")\r\n",
      "\u001B[2m2023-08-03T09:24:43.801879Z\u001B[0m \u001B[32m INFO\u001B[0m \u001B[2mtest\u001B[0m\u001B[2m:\u001B[0m input=Identifier(\"qoOS3h8mc88eMFdPokQ\")\r\n",
      "\u001B[2m2023-08-03T09:24:43.801900Z\u001B[0m \u001B[32m INFO\u001B[0m \u001B[2mtest\u001B[0m\u001B[2m:\u001B[0m input=Integer(-5981072240655231831)\r\n",
      "\u001B[2m2023-08-03T09:24:43.801920Z\u001B[0m \u001B[32m INFO\u001B[0m \u001B[2mtest\u001B[0m\u001B[2m:\u001B[0m input=Operator(\"=\")\r\n",
      "\u001B[2m2023-08-03T09:24:43.801954Z\u001B[0m \u001B[32m INFO\u001B[0m \u001B[2mtest\u001B[0m\u001B[2m:\u001B[0m input=Comment(\"X.l*<&e$Cif=~S\\\"<1`Qj6/j7'g/`md\")\r\n",
      "\u001B[2m2023-08-03T09:24:43.801994Z\u001B[0m \u001B[32m INFO\u001B[0m \u001B[2mtest\u001B[0m\u001B[2m:\u001B[0m input=Comment(\"$c/](}{\\\\$'Up#.{%:hm>%=?NzGpnQ/\")\r\n",
      "\u001B[2m2023-08-03T09:24:43.802025Z\u001B[0m \u001B[32m INFO\u001B[0m \u001B[2mtest\u001B[0m\u001B[2m:\u001B[0m input=Comment(\"/P]\\\\\\\\&:`4br+fMD\\\"B@rr`{2KMzB,\")\r\n",
      "\u001B[2m2023-08-03T09:24:43.802045Z\u001B[0m \u001B[32m INFO\u001B[0m \u001B[2mtest\u001B[0m\u001B[2m:\u001B[0m input=Identifier(\"KVhxi\")\r\n",
      "\u001B[2m2023-08-03T09:24:43.802062Z\u001B[0m \u001B[32m INFO\u001B[0m \u001B[2mtest\u001B[0m\u001B[2m:\u001B[0m input=Integer(9160607813049434588)\r\n",
      "\u001B[2m2023-08-03T09:24:43.802080Z\u001B[0m \u001B[32m INFO\u001B[0m \u001B[2mtest\u001B[0m\u001B[2m:\u001B[0m input=Integer(-5277778233945661225)\r\n",
      "\u001B[2m2023-08-03T09:24:43.802129Z\u001B[0m \u001B[32m INFO\u001B[0m \u001B[2mtest\u001B[0m\u001B[2m:\u001B[0m input=StringLiteral(\"+&TS.J{<u+Y=q:\")\r\n",
      "\u001B[2m2023-08-03T09:24:43.802163Z\u001B[0m \u001B[32m INFO\u001B[0m \u001B[2mtest\u001B[0m\u001B[2m:\u001B[0m input=Integer(4439803989106666941)\r\n",
      "\u001B[2m2023-08-03T09:24:43.802200Z\u001B[0m \u001B[32m INFO\u001B[0m \u001B[2mtest\u001B[0m\u001B[2m:\u001B[0m input=Comment(\"F<`FDgWSzE[\")\r\n",
      "\u001B[2m2023-08-03T09:24:43.802235Z\u001B[0m \u001B[32m INFO\u001B[0m \u001B[2mtest\u001B[0m\u001B[2m:\u001B[0m input=StringLiteral(\"T=%:0zr3&ao}1#:\")\r\n",
      "\u001B[2m2023-08-03T09:24:43.802263Z\u001B[0m \u001B[32m INFO\u001B[0m \u001B[2mtest\u001B[0m\u001B[2m:\u001B[0m input=Integer(-3401624422440397567)\r\n",
      "\u001B[2m2023-08-03T09:24:43.802353Z\u001B[0m \u001B[32m INFO\u001B[0m \u001B[2mtest\u001B[0m\u001B[2m:\u001B[0m input=Integer(-6450318436444216129)\r\n",
      "\u001B[2m2023-08-03T09:24:43.802412Z\u001B[0m \u001B[32m INFO\u001B[0m \u001B[2mtest\u001B[0m\u001B[2m:\u001B[0m input=StringLiteral(\"\")\r\n",
      "\u001B[2m2023-08-03T09:24:43.802456Z\u001B[0m \u001B[32m INFO\u001B[0m \u001B[2mtest\u001B[0m\u001B[2m:\u001B[0m input=Comment(\"UPDN\\\\.%<$wC.\")\r\n",
      "\u001B[2m2023-08-03T09:24:43.802493Z\u001B[0m \u001B[32m INFO\u001B[0m \u001B[2mtest\u001B[0m\u001B[2m:\u001B[0m input=Operator(\")\")\r\n",
      "\u001B[2m2023-08-03T09:24:43.802550Z\u001B[0m \u001B[32m INFO\u001B[0m \u001B[2mtest\u001B[0m\u001B[2m:\u001B[0m input=Operator(\"*\")\r\n",
      "\u001B[2m2023-08-03T09:24:43.802577Z\u001B[0m \u001B[32m INFO\u001B[0m \u001B[2mtest\u001B[0m\u001B[2m:\u001B[0m input=Identifier(\"KlNpb\")\r\n",
      "\u001B[2m2023-08-03T09:24:43.802682Z\u001B[0m \u001B[32m INFO\u001B[0m \u001B[2mtest\u001B[0m\u001B[2m:\u001B[0m input=Comment(\"<F1<X_&x\")\r\n",
      "\u001B[2m2023-08-03T09:24:43.802742Z\u001B[0m \u001B[32m INFO\u001B[0m \u001B[2mtest\u001B[0m\u001B[2m:\u001B[0m input=StringLiteral(\"$YC:MN'/:'5$*N4pU$/[Yw]_\")\r\n",
      "\u001B[2m2023-08-03T09:24:43.802782Z\u001B[0m \u001B[32m INFO\u001B[0m \u001B[2mtest\u001B[0m\u001B[2m:\u001B[0m input=StringLiteral(\"cBgIr6>iW*`\")\r\n",
      "\u001B[2m2023-08-03T09:24:43.802849Z\u001B[0m \u001B[32m INFO\u001B[0m \u001B[2mtest\u001B[0m\u001B[2m:\u001B[0m input=Integer(-2620825178559626281)\r\n",
      "\u001B[2m2023-08-03T09:24:43.802897Z\u001B[0m \u001B[32m INFO\u001B[0m \u001B[2mtest\u001B[0m\u001B[2m:\u001B[0m input=StringLiteral(\"*'y?<1#fr~`G<7&:6&>&y&`<GV\")\r\n",
      "\u001B[2m2023-08-03T09:24:43.802934Z\u001B[0m \u001B[32m INFO\u001B[0m \u001B[2mtest\u001B[0m\u001B[2m:\u001B[0m input=Operator(\"(\")\r\n",
      "\u001B[2m2023-08-03T09:24:43.802973Z\u001B[0m \u001B[32m INFO\u001B[0m \u001B[2mtest\u001B[0m\u001B[2m:\u001B[0m input=StringLiteral(\"U9m*<#p(32NK$>wL<\")\r\n",
      "\u001B[2m2023-08-03T09:24:43.803024Z\u001B[0m \u001B[32m INFO\u001B[0m \u001B[2mtest\u001B[0m\u001B[2m:\u001B[0m input=Identifier(\"msE056lYz1TZ81AjQtt3W9mk6XDU6\")\r\n",
      "\u001B[2m2023-08-03T09:24:43.803070Z\u001B[0m \u001B[32m INFO\u001B[0m \u001B[2mtest\u001B[0m\u001B[2m:\u001B[0m input=Identifier(\"t7XYM0z2NMNC9xDcG1Mx6T1\")\r\n",
      "\u001B[2m2023-08-03T09:24:43.809208Z\u001B[0m \u001B[32m INFO\u001B[0m \u001B[2mtest\u001B[0m\u001B[2m:\u001B[0m input=Operator(\"(\")\r\n",
      "\u001B[2m2023-08-03T09:24:43.809269Z\u001B[0m \u001B[32m INFO\u001B[0m \u001B[2mtest\u001B[0m\u001B[2m:\u001B[0m input=StringLiteral(\"E9{r]&x?{.?=E &;#(P^\")\r\n",
      "\u001B[2m2023-08-03T09:24:43.809335Z\u001B[0m \u001B[32m INFO\u001B[0m \u001B[2mtest\u001B[0m\u001B[2m:\u001B[0m input=Comment(\"'yI&B=\\\\D\\\"YXQ\")\r\n",
      "\u001B[2m2023-08-03T09:24:43.809388Z\u001B[0m \u001B[32m INFO\u001B[0m \u001B[2mtest\u001B[0m\u001B[2m:\u001B[0m input=Operator(\"(\")\r\n",
      "\u001B[2m2023-08-03T09:24:43.809449Z\u001B[0m \u001B[32m INFO\u001B[0m \u001B[2mtest\u001B[0m\u001B[2m:\u001B[0m input=Comment(\"=//6/K~0X'=%`=#\\\\?R@.\")\r\n",
      "\u001B[2m2023-08-03T09:24:43.809588Z\u001B[0m \u001B[32m INFO\u001B[0m \u001B[2mtest\u001B[0m\u001B[2m:\u001B[0m input=StringLiteral(\"ZcZx\")\r\n",
      "\u001B[2m2023-08-03T09:24:43.809649Z\u001B[0m \u001B[32m INFO\u001B[0m \u001B[2mtest\u001B[0m\u001B[2m:\u001B[0m input=Comment(\"A&*6&_V4(\")\r\n",
      "\u001B[2m2023-08-03T09:24:43.809713Z\u001B[0m \u001B[32m INFO\u001B[0m \u001B[2mtest\u001B[0m\u001B[2m:\u001B[0m input=Identifier(\"MD44xtRS14k1yK5UFwq3ia\")\r\n",
      "\u001B[2m2023-08-03T09:24:43.809763Z\u001B[0m \u001B[32m INFO\u001B[0m \u001B[2mtest\u001B[0m\u001B[2m:\u001B[0m input=Integer(1456791808424738066)\r\n",
      "\u001B[2m2023-08-03T09:24:43.809808Z\u001B[0m \u001B[32m INFO\u001B[0m \u001B[2mtest\u001B[0m\u001B[2m:\u001B[0m input=Integer(879914641209525489)\r\n",
      "\u001B[2m2023-08-03T09:24:43.809860Z\u001B[0m \u001B[32m INFO\u001B[0m \u001B[2mtest\u001B[0m\u001B[2m:\u001B[0m input=Comment(\"?p|9iK`=)\\\\`V'ij9n8|-azUfY*\\\\z:.\")\r\n",
      "\u001B[2m2023-08-03T09:24:43.809964Z\u001B[0m \u001B[32m INFO\u001B[0m \u001B[2mtest\u001B[0m\u001B[2m:\u001B[0m input=Comment(\"m:\\\"6u{uoP\\\"3>*Lgv=jY>+;\\\\%nr/\")\r\n",
      "\u001B[2m2023-08-03T09:24:43.810039Z\u001B[0m \u001B[32m INFO\u001B[0m \u001B[2mtest\u001B[0m\u001B[2m:\u001B[0m input=Integer(-7154275225931985833)\r\n",
      "\u001B[2m2023-08-03T09:24:43.810109Z\u001B[0m \u001B[32m INFO\u001B[0m \u001B[2mtest\u001B[0m\u001B[2m:\u001B[0m input=Comment(\".!b*$/GKo8W3B./e)K<<@/`yu\\\\\\\"%:\")\r\n",
      "\u001B[2m2023-08-03T09:24:43.810158Z\u001B[0m \u001B[32m INFO\u001B[0m \u001B[2mtest\u001B[0m\u001B[2m:\u001B[0m input=Integer(-2779689027721080103)\r\n",
      "\u001B[2m2023-08-03T09:24:43.810204Z\u001B[0m \u001B[32m INFO\u001B[0m \u001B[2mtest\u001B[0m\u001B[2m:\u001B[0m input=Identifier(\"xvdEbmsXGd7n0GSroXi00bb4qUM3ckBnG\")\r\n",
      "\u001B[2m2023-08-03T09:24:43.810248Z\u001B[0m \u001B[32m INFO\u001B[0m \u001B[2mtest\u001B[0m\u001B[2m:\u001B[0m input=Integer(2978755338511357928)\r\n",
      "\u001B[2m2023-08-03T09:24:43.810304Z\u001B[0m \u001B[32m INFO\u001B[0m \u001B[2mtest\u001B[0m\u001B[2m:\u001B[0m input=Comment(\"@<s6\\\"t\\\"=n;v'0At_*\\\"\")\r\n",
      "\u001B[2m2023-08-03T09:24:43.810363Z\u001B[0m \u001B[32m INFO\u001B[0m \u001B[2mtest\u001B[0m\u001B[2m:\u001B[0m input=Identifier(\"FvT06ke691FLzotxUWz5d65H73\")\r\n",
      "\u001B[2m2023-08-03T09:24:43.810436Z\u001B[0m \u001B[32m INFO\u001B[0m \u001B[2mtest\u001B[0m\u001B[2m:\u001B[0m input=StringLiteral(\"/9d5<?A'Yf$T\")\r\n",
      "\u001B[2m2023-08-03T09:24:43.810500Z\u001B[0m \u001B[32m INFO\u001B[0m \u001B[2mtest\u001B[0m\u001B[2m:\u001B[0m input=StringLiteral(\"P='D_/Z:@/<d{x.Cv0&&gUx*W*\")\r\n",
      "\u001B[2m2023-08-03T09:24:43.810595Z\u001B[0m \u001B[32m INFO\u001B[0m \u001B[2mtest\u001B[0m\u001B[2m:\u001B[0m input=Operator(\"+\")\r\n",
      "\u001B[2m2023-08-03T09:24:43.810677Z\u001B[0m \u001B[32m INFO\u001B[0m \u001B[2mtest\u001B[0m\u001B[2m:\u001B[0m input=Integer(-1904940340791958625)\r\n",
      "\u001B[2m2023-08-03T09:24:43.810782Z\u001B[0m \u001B[32m INFO\u001B[0m \u001B[2mtest\u001B[0m\u001B[2m:\u001B[0m input=StringLiteral(\"~UeN38*%Y&.#?/\")\r\n",
      "\u001B[2m2023-08-03T09:24:43.810885Z\u001B[0m \u001B[32m INFO\u001B[0m \u001B[2mtest\u001B[0m\u001B[2m:\u001B[0m input=StringLiteral(\"eD.=<B$r${\")\r\n",
      "\u001B[2m2023-08-03T09:24:43.811002Z\u001B[0m \u001B[32m INFO\u001B[0m \u001B[2mtest\u001B[0m\u001B[2m:\u001B[0m input=Comment(\"\\\\j?/.e$X$&~&5)646&8\")\r\n",
      "\u001B[2m2023-08-03T09:24:43.811268Z\u001B[0m \u001B[32m INFO\u001B[0m \u001B[2mtest\u001B[0m\u001B[2m:\u001B[0m input=Operator(\")\")\r\n",
      "\u001B[2m2023-08-03T09:24:43.811332Z\u001B[0m \u001B[32m INFO\u001B[0m \u001B[2mtest\u001B[0m\u001B[2m:\u001B[0m input=Operator(\"-\")\r\n",
      "\u001B[2m2023-08-03T09:24:43.811390Z\u001B[0m \u001B[32m INFO\u001B[0m \u001B[2mtest\u001B[0m\u001B[2m:\u001B[0m input=StringLiteral(\"-fr$IIH<'<\")\r\n",
      "\u001B[2m2023-08-03T09:24:43.811470Z\u001B[0m \u001B[32m INFO\u001B[0m \u001B[2mtest\u001B[0m\u001B[2m:\u001B[0m input=StringLiteral(\"{d%9??0?6IL./sT1^Uu'wDK<0\")\r\n",
      "\u001B[2m2023-08-03T09:24:43.811527Z\u001B[0m \u001B[32m INFO\u001B[0m \u001B[2mtest\u001B[0m\u001B[2m:\u001B[0m input=Operator(\"/\")\r\n",
      "\u001B[2m2023-08-03T09:24:43.811600Z\u001B[0m \u001B[32m INFO\u001B[0m \u001B[2mtest\u001B[0m\u001B[2m:\u001B[0m input=Integer(5117738847663670815)\r\n",
      "\u001B[2m2023-08-03T09:24:43.811652Z\u001B[0m \u001B[32m INFO\u001B[0m \u001B[2mtest\u001B[0m\u001B[2m:\u001B[0m input=Operator(\"+\")\r\n",
      "\u001B[2m2023-08-03T09:24:43.811706Z\u001B[0m \u001B[32m INFO\u001B[0m \u001B[2mtest\u001B[0m\u001B[2m:\u001B[0m input=Identifier(\"PoxEa9l5\")\r\n",
      "\u001B[2m2023-08-03T09:24:43.811757Z\u001B[0m \u001B[32m INFO\u001B[0m \u001B[2mtest\u001B[0m\u001B[2m:\u001B[0m input=Operator(\"-\")\r\n",
      "\u001B[2m2023-08-03T09:24:43.811788Z\u001B[0m \u001B[32m INFO\u001B[0m \u001B[2mtest\u001B[0m\u001B[2m:\u001B[0m input=Operator(\")\")\r\n",
      "\u001B[2m2023-08-03T09:24:43.811846Z\u001B[0m \u001B[32m INFO\u001B[0m \u001B[2mtest\u001B[0m\u001B[2m:\u001B[0m input=Comment(\"lNb\\\"c{\\\"(8h&b2\")\r\n",
      "\u001B[2m2023-08-03T09:24:43.811922Z\u001B[0m \u001B[32m INFO\u001B[0m \u001B[2mtest\u001B[0m\u001B[2m:\u001B[0m input=StringLiteral(\"FuJX*mYu&_)A.1n&m<i?%'=a'{'p7:\")\r\n",
      "\u001B[2m2023-08-03T09:24:43.811982Z\u001B[0m \u001B[32m INFO\u001B[0m \u001B[2mtest\u001B[0m\u001B[2m:\u001B[0m input=StringLiteral(\"05:3}=/::8\")\r\n",
      "\u001B[2m2023-08-03T09:24:43.812037Z\u001B[0m \u001B[32m INFO\u001B[0m \u001B[2mtest\u001B[0m\u001B[2m:\u001B[0m input=StringLiteral(\"7sE&\")\r\n",
      "\u001B[2m2023-08-03T09:24:43.812065Z\u001B[0m \u001B[32m INFO\u001B[0m \u001B[2mtest\u001B[0m\u001B[2m:\u001B[0m input=Integer(8910261290956921924)\r\n",
      "\u001B[2m2023-08-03T09:24:43.812115Z\u001B[0m \u001B[32m INFO\u001B[0m \u001B[2mtest\u001B[0m\u001B[2m:\u001B[0m input=Identifier(\"isg\")\r\n",
      "\u001B[2m2023-08-03T09:24:43.812141Z\u001B[0m \u001B[32m INFO\u001B[0m \u001B[2mtest\u001B[0m\u001B[2m:\u001B[0m input=Integer(-8302196818782216388)\r\n",
      "\u001B[2m2023-08-03T09:24:43.812189Z\u001B[0m \u001B[32m INFO\u001B[0m \u001B[2mtest\u001B[0m\u001B[2m:\u001B[0m input=Operator(\"-\")\r\n",
      "\u001B[2m2023-08-03T09:24:43.812236Z\u001B[0m \u001B[32m INFO\u001B[0m \u001B[2mtest\u001B[0m\u001B[2m:\u001B[0m input=Operator(\"+\")\r\n",
      "\u001B[2m2023-08-03T09:24:43.812282Z\u001B[0m \u001B[32m INFO\u001B[0m \u001B[2mtest\u001B[0m\u001B[2m:\u001B[0m input=Identifier(\"gYa7C\")\r\n",
      "\u001B[2m2023-08-03T09:24:43.812334Z\u001B[0m \u001B[32m INFO\u001B[0m \u001B[2mtest\u001B[0m\u001B[2m:\u001B[0m input=Comment(\"mV\")\r\n",
      "\u001B[2m2023-08-03T09:24:43.812399Z\u001B[0m \u001B[32m INFO\u001B[0m \u001B[2mtest\u001B[0m\u001B[2m:\u001B[0m input=Identifier(\"vNVO9vBOmyqCxVt5J3NoK568\")\r\n",
      "\u001B[2m2023-08-03T09:24:43.812479Z\u001B[0m \u001B[32m INFO\u001B[0m \u001B[2mtest\u001B[0m\u001B[2m:\u001B[0m input=Identifier(\"tzRDSGToCv8ZAuFXiik8X1sxomYnV9eQ\")\r\n",
      "\u001B[2m2023-08-03T09:24:43.812537Z\u001B[0m \u001B[32m INFO\u001B[0m \u001B[2mtest\u001B[0m\u001B[2m:\u001B[0m input=Operator(\"+\")\r\n",
      "\u001B[2m2023-08-03T09:24:43.812646Z\u001B[0m \u001B[32m INFO\u001B[0m \u001B[2mtest\u001B[0m\u001B[2m:\u001B[0m input=StringLiteral(\"r{X$9/%_`%D#`}LaH:2\")\r\n",
      "\u001B[2m2023-08-03T09:24:43.812788Z\u001B[0m \u001B[32m INFO\u001B[0m \u001B[2mtest\u001B[0m\u001B[2m:\u001B[0m input=Comment(\"<'fWj@V+$\\\\bRs}< 7:*!BH4\")\r\n",
      "\u001B[2m2023-08-03T09:24:43.812905Z\u001B[0m \u001B[32m INFO\u001B[0m \u001B[2mtest\u001B[0m\u001B[2m:\u001B[0m input=StringLiteral(\";n r)==w`=U=T=hE^$/4y3?MgRz\")\r\n",
      "\u001B[2m2023-08-03T09:24:43.812984Z\u001B[0m \u001B[32m INFO\u001B[0m \u001B[2mtest\u001B[0m\u001B[2m:\u001B[0m input=Comment(\"e's*Pf7T(?$GL'=r2?D&'n`QD9\")\r\n",
      "\u001B[2m2023-08-03T09:24:43.813043Z\u001B[0m \u001B[32m INFO\u001B[0m \u001B[2mtest\u001B[0m\u001B[2m:\u001B[0m input=StringLiteral(\"u&x$hTX\")\r\n",
      "\u001B[2m2023-08-03T09:24:43.813078Z\u001B[0m \u001B[32m INFO\u001B[0m \u001B[2mtest\u001B[0m\u001B[2m:\u001B[0m input=Operator(\")\")\r\n",
      "\u001B[2m2023-08-03T09:24:43.813147Z\u001B[0m \u001B[32m INFO\u001B[0m \u001B[2mtest\u001B[0m\u001B[2m:\u001B[0m input=Comment(\"{5Ut=%f$f=\\\"*$nc5Z\\\"Iz^'/J-\")\r\n",
      "\u001B[2m2023-08-03T09:24:43.813219Z\u001B[0m \u001B[32m INFO\u001B[0m \u001B[2mtest\u001B[0m\u001B[2m:\u001B[0m input=Identifier(\"ijiqGwoOpJCuWFNfopxei0Ke0\")\r\n",
      "\u001B[2m2023-08-03T09:24:43.813273Z\u001B[0m \u001B[32m INFO\u001B[0m \u001B[2mtest\u001B[0m\u001B[2m:\u001B[0m input=Identifier(\"KS\")\r\n",
      "\u001B[2m2023-08-03T09:24:43.813335Z\u001B[0m \u001B[32m INFO\u001B[0m \u001B[2mtest\u001B[0m\u001B[2m:\u001B[0m input=StringLiteral(\"=3+d:$M]mZTK.*'zC`js\")\r\n",
      "\u001B[2m2023-08-03T09:24:43.813406Z\u001B[0m \u001B[32m INFO\u001B[0m \u001B[2mtest\u001B[0m\u001B[2m:\u001B[0m input=Comment(\"/m*Hi4`3'#^Q==\\\"8Z<C/\")\r\n",
      "\u001B[2m2023-08-03T09:24:43.813474Z\u001B[0m \u001B[32m INFO\u001B[0m \u001B[2mtest\u001B[0m\u001B[2m:\u001B[0m input=StringLiteral(\".`E`:&Y\")\r\n",
      "\u001B[2m2023-08-03T09:24:43.813530Z\u001B[0m \u001B[32m INFO\u001B[0m \u001B[2mtest\u001B[0m\u001B[2m:\u001B[0m input=Operator(\"=\")\r\n",
      "\u001B[2m2023-08-03T09:24:43.813578Z\u001B[0m \u001B[32m INFO\u001B[0m \u001B[2mtest\u001B[0m\u001B[2m:\u001B[0m input=Integer(-8318037286243239826)\r\n",
      "\u001B[2m2023-08-03T09:24:43.813662Z\u001B[0m \u001B[32m INFO\u001B[0m \u001B[2mtest\u001B[0m\u001B[2m:\u001B[0m input=Operator(\"/\")\r\n",
      "\u001B[2m2023-08-03T09:24:43.813740Z\u001B[0m \u001B[32m INFO\u001B[0m \u001B[2mtest\u001B[0m\u001B[2m:\u001B[0m input=Identifier(\"gSN7pXU7fkNfU7XT0z9wa820tZXkWI9i\")\r\n",
      "\u001B[2m2023-08-03T09:24:43.813808Z\u001B[0m \u001B[32m INFO\u001B[0m \u001B[2mtest\u001B[0m\u001B[2m:\u001B[0m input=Comment(\"C$L<$8oY*Z<B/'Hd\")\r\n",
      "\u001B[2m2023-08-03T09:24:43.813844Z\u001B[0m \u001B[32m INFO\u001B[0m \u001B[2mtest\u001B[0m\u001B[2m:\u001B[0m input=StringLiteral(\"\")\r\n",
      "\u001B[2m2023-08-03T09:24:43.813942Z\u001B[0m \u001B[32m INFO\u001B[0m \u001B[2mtest\u001B[0m\u001B[2m:\u001B[0m input=Identifier(\"krAFVdl6dmU0NX7c2DlH0gmp1F6xIIbnG\")\r\n",
      "\u001B[2m2023-08-03T09:24:43.814038Z\u001B[0m \u001B[32m INFO\u001B[0m \u001B[2mtest\u001B[0m\u001B[2m:\u001B[0m input=StringLiteral(\"KIpqY-J*35/KFw\")\r\n",
      "\u001B[2m2023-08-03T09:24:43.814103Z\u001B[0m \u001B[32m INFO\u001B[0m \u001B[2mtest\u001B[0m\u001B[2m:\u001B[0m input=StringLiteral(\"Jfy{`'h_dq'.k\")\r\n",
      "\u001B[2m2023-08-03T09:24:43.814140Z\u001B[0m \u001B[32m INFO\u001B[0m \u001B[2mtest\u001B[0m\u001B[2m:\u001B[0m input=Operator(\")\")\r\n",
      "\u001B[2m2023-08-03T09:24:43.814191Z\u001B[0m \u001B[32m INFO\u001B[0m \u001B[2mtest\u001B[0m\u001B[2m:\u001B[0m input=Operator(\"*\")\r\n",
      "\u001B[2m2023-08-03T09:24:43.814221Z\u001B[0m \u001B[32m INFO\u001B[0m \u001B[2mtest\u001B[0m\u001B[2m:\u001B[0m input=Integer(9191151396947383365)\r\n",
      "\u001B[2m2023-08-03T09:24:43.814248Z\u001B[0m \u001B[32m INFO\u001B[0m \u001B[2mtest\u001B[0m\u001B[2m:\u001B[0m input=Identifier(\"K\")\r\n",
      "\u001B[2m2023-08-03T09:24:43.814307Z\u001B[0m \u001B[32m INFO\u001B[0m \u001B[2mtest\u001B[0m\u001B[2m:\u001B[0m input=Comment(\"jvq{#omMG\")\r\n",
      "\u001B[2m2023-08-03T09:24:43.814344Z\u001B[0m \u001B[32m INFO\u001B[0m \u001B[2mtest\u001B[0m\u001B[2m:\u001B[0m input=Comment(\"J'?ns<!\")\r\n",
      "\u001B[2m2023-08-03T09:24:43.814392Z\u001B[0m \u001B[32m INFO\u001B[0m \u001B[2mtest\u001B[0m\u001B[2m:\u001B[0m input=Operator(\"-\")\r\n",
      "\u001B[2m2023-08-03T09:24:43.814426Z\u001B[0m \u001B[32m INFO\u001B[0m \u001B[2mtest\u001B[0m\u001B[2m:\u001B[0m input=Identifier(\"y1145r42nX23\")\r\n",
      "\u001B[2m2023-08-03T09:24:43.814493Z\u001B[0m \u001B[32m INFO\u001B[0m \u001B[2mtest\u001B[0m\u001B[2m:\u001B[0m input=StringLiteral(\"]Jn:_kTK(G\")\r\n",
      "\u001B[2m2023-08-03T09:24:43.814576Z\u001B[0m \u001B[32m INFO\u001B[0m \u001B[2mtest\u001B[0m\u001B[2m:\u001B[0m input=Comment(\"wJy**P4XRh:b#`{|?5kgY\")\r\n",
      "\u001B[2m2023-08-03T09:24:43.814724Z\u001B[0m \u001B[32m INFO\u001B[0m \u001B[2mtest\u001B[0m\u001B[2m:\u001B[0m input=Identifier(\"VjIIrG4\")\r\n",
      "\u001B[2m2023-08-03T09:24:43.814800Z\u001B[0m \u001B[32m INFO\u001B[0m \u001B[2mtest\u001B[0m\u001B[2m:\u001B[0m input=Identifier(\"BHyZ484798L\")\r\n",
      "\u001B[2m2023-08-03T09:24:43.814845Z\u001B[0m \u001B[32m INFO\u001B[0m \u001B[2mtest\u001B[0m\u001B[2m:\u001B[0m input=Comment(\"o*?D`S9VZhtOs<h\")\r\n",
      "\u001B[2m2023-08-03T09:24:43.814903Z\u001B[0m \u001B[32m INFO\u001B[0m \u001B[2mtest\u001B[0m\u001B[2m:\u001B[0m input=Integer(-6490093406839064705)\r\n",
      "\u001B[2m2023-08-03T09:24:43.814939Z\u001B[0m \u001B[32m INFO\u001B[0m \u001B[2mtest\u001B[0m\u001B[2m:\u001B[0m input=StringLiteral(\"T9rW@1w\")\r\n",
      "\u001B[2m2023-08-03T09:24:43.815002Z\u001B[0m \u001B[32m INFO\u001B[0m \u001B[2mtest\u001B[0m\u001B[2m:\u001B[0m input=Comment(\"|//O\\\\C:j{?T3\")\r\n",
      "\u001B[2m2023-08-03T09:24:43.815060Z\u001B[0m \u001B[32m INFO\u001B[0m \u001B[2mtest\u001B[0m\u001B[2m:\u001B[0m input=Integer(3234408362738537533)\r\n",
      "\u001B[2m2023-08-03T09:24:43.815120Z\u001B[0m \u001B[32m INFO\u001B[0m \u001B[2mtest\u001B[0m\u001B[2m:\u001B[0m input=Comment(\"==\\\"SiG0'*o$\")\r\n",
      "\u001B[2m2023-08-03T09:24:43.815177Z\u001B[0m \u001B[32m INFO\u001B[0m \u001B[2mtest\u001B[0m\u001B[2m:\u001B[0m input=Operator(\"+\")\r\n",
      "\u001B[2m2023-08-03T09:24:43.815227Z\u001B[0m \u001B[32m INFO\u001B[0m \u001B[2mtest\u001B[0m\u001B[2m:\u001B[0m input=Comment(\"'<M{~5*D'_~<`|Q`aXX&v;\")\r\n",
      "\u001B[2m2023-08-03T09:24:43.815295Z\u001B[0m \u001B[32m INFO\u001B[0m \u001B[2mtest\u001B[0m\u001B[2m:\u001B[0m input=Operator(\"=\")\r\n",
      "\u001B[2m2023-08-03T09:24:43.815352Z\u001B[0m \u001B[32m INFO\u001B[0m \u001B[2mtest\u001B[0m\u001B[2m:\u001B[0m input=Identifier(\"Oea70Dhr2vPR4a64o0C1H0MnLUH\")\r\n",
      "\u001B[2m2023-08-03T09:24:43.815422Z\u001B[0m \u001B[32m INFO\u001B[0m \u001B[2mtest\u001B[0m\u001B[2m:\u001B[0m input=Identifier(\"ZCu7MQCoA3Yn\")\r\n",
      "\u001B[2m2023-08-03T09:24:43.815461Z\u001B[0m \u001B[32m INFO\u001B[0m \u001B[2mtest\u001B[0m\u001B[2m:\u001B[0m input=Operator(\"-\")\r\n",
      "\u001B[2m2023-08-03T09:24:43.815525Z\u001B[0m \u001B[32m INFO\u001B[0m \u001B[2mtest\u001B[0m\u001B[2m:\u001B[0m input=StringLiteral(\"AcDay_K\")\r\n",
      "\u001B[2m2023-08-03T09:24:43.815581Z\u001B[0m \u001B[32m INFO\u001B[0m \u001B[2mtest\u001B[0m\u001B[2m:\u001B[0m input=Integer(1175000364266174208)\r\n",
      "\u001B[2m2023-08-03T09:24:43.815635Z\u001B[0m \u001B[32m INFO\u001B[0m \u001B[2mtest\u001B[0m\u001B[2m:\u001B[0m input=Comment(\"'4d8x=jF`/s<9k(`?-DN(p_tP/Z*'\")\r\n",
      "\u001B[2m2023-08-03T09:24:43.815719Z\u001B[0m \u001B[32m INFO\u001B[0m \u001B[2mtest\u001B[0m\u001B[2m:\u001B[0m input=Identifier(\"gva9zV\")\r\n",
      "\u001B[2m2023-08-03T09:24:43.815769Z\u001B[0m \u001B[32m INFO\u001B[0m \u001B[2mtest\u001B[0m\u001B[2m:\u001B[0m input=Integer(-3930842248283332430)\r\n",
      "\u001B[2m2023-08-03T09:24:43.815820Z\u001B[0m \u001B[32m INFO\u001B[0m \u001B[2mtest\u001B[0m\u001B[2m:\u001B[0m input=Integer(-8798249311110181523)\r\n",
      "\u001B[2m2023-08-03T09:24:43.815888Z\u001B[0m \u001B[32m INFO\u001B[0m \u001B[2mtest\u001B[0m\u001B[2m:\u001B[0m input=Comment(\"``JqN>FP#(/3;.S1\")\r\n",
      "\u001B[2m2023-08-03T09:24:43.815963Z\u001B[0m \u001B[32m INFO\u001B[0m \u001B[2mtest\u001B[0m\u001B[2m:\u001B[0m input=Comment(\"Z3R*:\\\\/S.vJ+?K[^`J{:LP\")\r\n",
      "\u001B[2m2023-08-03T09:24:43.816024Z\u001B[0m \u001B[32m INFO\u001B[0m \u001B[2mtest\u001B[0m\u001B[2m:\u001B[0m input=Operator(\"(\")\r\n",
      "\u001B[2m2023-08-03T09:24:43.816176Z\u001B[0m \u001B[32m INFO\u001B[0m \u001B[2mtest\u001B[0m\u001B[2m:\u001B[0m input=StringLiteral(\"?@=^+^*rCQ3Gn@YHl$%q{(qg*\")\r\n",
      "\u001B[2m2023-08-03T09:24:43.816250Z\u001B[0m \u001B[32m INFO\u001B[0m \u001B[2mtest\u001B[0m\u001B[2m:\u001B[0m input=Operator(\"-\")\r\n",
      "\u001B[2m2023-08-03T09:24:43.816317Z\u001B[0m \u001B[32m INFO\u001B[0m \u001B[2mtest\u001B[0m\u001B[2m:\u001B[0m input=Operator(\"=\")\r\n",
      "\u001B[2m2023-08-03T09:24:43.816367Z\u001B[0m \u001B[32m INFO\u001B[0m \u001B[2mtest\u001B[0m\u001B[2m:\u001B[0m input=Identifier(\"MoiVHKnUzc95ni00fgg9cGI8K\")\r\n",
      "\u001B[2m2023-08-03T09:24:43.816446Z\u001B[0m \u001B[32m INFO\u001B[0m \u001B[2mtest\u001B[0m\u001B[2m:\u001B[0m input=Identifier(\"L45rmPUDvpNrrq90DoH09s6hm9\")\r\n",
      "\u001B[2m2023-08-03T09:24:43.816513Z\u001B[0m \u001B[32m INFO\u001B[0m \u001B[2mtest\u001B[0m\u001B[2m:\u001B[0m input=Comment(\"ON\")\r\n",
      "\u001B[2m2023-08-03T09:24:43.816574Z\u001B[0m \u001B[32m INFO\u001B[0m \u001B[2mtest\u001B[0m\u001B[2m:\u001B[0m input=Integer(-3962664746788342641)\r\n",
      "\u001B[2m2023-08-03T09:24:43.816631Z\u001B[0m \u001B[32m INFO\u001B[0m \u001B[2mtest\u001B[0m\u001B[2m:\u001B[0m input=StringLiteral(\"=x!]P\")\r\n",
      "\u001B[2m2023-08-03T09:24:43.816665Z\u001B[0m \u001B[32m INFO\u001B[0m \u001B[2mtest\u001B[0m\u001B[2m:\u001B[0m input=Integer(-744529439572034067)\r\n",
      "\u001B[2m2023-08-03T09:24:43.816735Z\u001B[0m \u001B[32m INFO\u001B[0m \u001B[2mtest\u001B[0m\u001B[2m:\u001B[0m input=StringLiteral(\"ST<0Ww/Q|JM&I3Y`<+\")\r\n",
      "\u001B[2m2023-08-03T09:24:43.816799Z\u001B[0m \u001B[32m INFO\u001B[0m \u001B[2mtest\u001B[0m\u001B[2m:\u001B[0m input=Comment(\":]pjX q.`\\\"\")\r\n",
      "\u001B[2m2023-08-03T09:24:43.816850Z\u001B[0m \u001B[32m INFO\u001B[0m \u001B[2mtest\u001B[0m\u001B[2m:\u001B[0m input=Integer(-1984258522365010403)\r\n",
      "\u001B[2m2023-08-03T09:24:43.816900Z\u001B[0m \u001B[32m INFO\u001B[0m \u001B[2mtest\u001B[0m\u001B[2m:\u001B[0m input=Operator(\"/\")\r\n",
      "\u001B[2m2023-08-03T09:24:43.816948Z\u001B[0m \u001B[32m INFO\u001B[0m \u001B[2mtest\u001B[0m\u001B[2m:\u001B[0m input=Operator(\"*\")\r\n",
      "\u001B[2m2023-08-03T09:24:43.816996Z\u001B[0m \u001B[32m INFO\u001B[0m \u001B[2mtest\u001B[0m\u001B[2m:\u001B[0m input=Operator(\"*\")\r\n",
      "\u001B[2m2023-08-03T09:24:43.817041Z\u001B[0m \u001B[32m INFO\u001B[0m \u001B[2mtest\u001B[0m\u001B[2m:\u001B[0m input=Integer(6040020470064221893)\r\n",
      "\u001B[2m2023-08-03T09:24:43.817093Z\u001B[0m \u001B[32m INFO\u001B[0m \u001B[2mtest\u001B[0m\u001B[2m:\u001B[0m input=Identifier(\"WETnow8t\")\r\n",
      "\u001B[2m2023-08-03T09:24:43.817176Z\u001B[0m \u001B[32m INFO\u001B[0m \u001B[2mtest\u001B[0m\u001B[2m:\u001B[0m input=Integer(2728897429150124815)\r\n",
      "\u001B[2m2023-08-03T09:24:43.817224Z\u001B[0m \u001B[32m INFO\u001B[0m \u001B[2mtest\u001B[0m\u001B[2m:\u001B[0m input=Integer(-7918728402643052722)\r\n",
      "\u001B[2m2023-08-03T09:24:43.817259Z\u001B[0m \u001B[32m INFO\u001B[0m \u001B[2mtest\u001B[0m\u001B[2m:\u001B[0m input=Identifier(\"rae2P5zttqajV\")\r\n",
      "\u001B[2m2023-08-03T09:24:43.817313Z\u001B[0m \u001B[32m INFO\u001B[0m \u001B[2mtest\u001B[0m\u001B[2m:\u001B[0m input=Operator(\"=\")\r\n",
      "\u001B[2m2023-08-03T09:24:43.817372Z\u001B[0m \u001B[32m INFO\u001B[0m \u001B[2mtest\u001B[0m\u001B[2m:\u001B[0m input=Identifier(\"QfItU0i4ALeI\")\r\n",
      "\u001B[2m2023-08-03T09:24:43.817419Z\u001B[0m \u001B[32m INFO\u001B[0m \u001B[2mtest\u001B[0m\u001B[2m:\u001B[0m input=Integer(990241879377295293)\r\n",
      "\u001B[2m2023-08-03T09:24:43.817521Z\u001B[0m \u001B[32m INFO\u001B[0m \u001B[2mtest\u001B[0m\u001B[2m:\u001B[0m input=StringLiteral(\"H$'PQUb7.[C\")\r\n",
      "\u001B[2m2023-08-03T09:24:43.817660Z\u001B[0m \u001B[32m INFO\u001B[0m \u001B[2mtest\u001B[0m\u001B[2m:\u001B[0m input=StringLiteral(\"`?{7$'8Y'%]fNf{'*\")\r\n",
      "\u001B[2m2023-08-03T09:24:43.817731Z\u001B[0m \u001B[32m INFO\u001B[0m \u001B[2mtest\u001B[0m\u001B[2m:\u001B[0m input=Comment(\"{t\")\r\n",
      "\u001B[2m2023-08-03T09:24:43.817781Z\u001B[0m \u001B[32m INFO\u001B[0m \u001B[2mtest\u001B[0m\u001B[2m:\u001B[0m input=Comment(\"&)?pM;.Ro\\\"..~B\\\\p{\")\r\n",
      "\u001B[2m2023-08-03T09:24:43.817840Z\u001B[0m \u001B[32m INFO\u001B[0m \u001B[2mtest\u001B[0m\u001B[2m:\u001B[0m input=Integer(169472454069168380)\r\n",
      "\u001B[2m2023-08-03T09:24:43.817898Z\u001B[0m \u001B[32m INFO\u001B[0m \u001B[2mtest\u001B[0m\u001B[2m:\u001B[0m input=Comment(\"`<{{*OR\\\"\")\r\n",
      "\u001B[2m2023-08-03T09:24:43.817952Z\u001B[0m \u001B[32m INFO\u001B[0m \u001B[2mtest\u001B[0m\u001B[2m:\u001B[0m input=Integer(-785238561113916244)\r\n",
      "\u001B[2m2023-08-03T09:24:43.818016Z\u001B[0m \u001B[32m INFO\u001B[0m \u001B[2mtest\u001B[0m\u001B[2m:\u001B[0m input=Comment(\"?OZvf}@AN$\")\r\n",
      "\u001B[2m2023-08-03T09:24:43.818086Z\u001B[0m \u001B[32m INFO\u001B[0m \u001B[2mtest\u001B[0m\u001B[2m:\u001B[0m input=Comment(\"{bhpJ{67T%N8G]FsOK%I7]{~o%#^\\\"%\")\r\n",
      "\u001B[2m2023-08-03T09:24:43.818154Z\u001B[0m \u001B[32m INFO\u001B[0m \u001B[2mtest\u001B[0m\u001B[2m:\u001B[0m input=Comment(\"hJWu&X?n?v<F\\\\9j@qt{]/#1{.|5W+5+\")\r\n",
      "\u001B[2m2023-08-03T09:24:43.818286Z\u001B[0m \u001B[32m INFO\u001B[0m \u001B[2mtest\u001B[0m\u001B[2m:\u001B[0m input=Integer(6330838083225532286)\r\n",
      "\u001B[2m2023-08-03T09:24:43.818331Z\u001B[0m \u001B[32m INFO\u001B[0m \u001B[2mtest\u001B[0m\u001B[2m:\u001B[0m input=StringLiteral(\"&h\")\r\n",
      "\u001B[2m2023-08-03T09:24:43.818375Z\u001B[0m \u001B[32m INFO\u001B[0m \u001B[2mtest\u001B[0m\u001B[2m:\u001B[0m input=Comment(\")\")\r\n",
      "\u001B[2m2023-08-03T09:24:43.818427Z\u001B[0m \u001B[32m INFO\u001B[0m \u001B[2mtest\u001B[0m\u001B[2m:\u001B[0m input=Operator(\"/\")\r\n",
      "\u001B[2m2023-08-03T09:24:43.818509Z\u001B[0m \u001B[32m INFO\u001B[0m \u001B[2mtest\u001B[0m\u001B[2m:\u001B[0m input=Identifier(\"ELHJANwJSPu1OMDGr1LW64\")\r\n",
      "\u001B[2m2023-08-03T09:24:43.818548Z\u001B[0m \u001B[32m INFO\u001B[0m \u001B[2mtest\u001B[0m\u001B[2m:\u001B[0m input=Integer(-4877932844176188339)\r\n",
      "\u001B[2m2023-08-03T09:24:43.818592Z\u001B[0m \u001B[32m INFO\u001B[0m \u001B[2mtest\u001B[0m\u001B[2m:\u001B[0m input=Identifier(\"o2cbf12mMP3laUbds\")\r\n",
      "\u001B[2m2023-08-03T09:24:43.818661Z\u001B[0m \u001B[32m INFO\u001B[0m \u001B[2mtest\u001B[0m\u001B[2m:\u001B[0m input=StringLiteral(\"jW.(^0d\")\r\n",
      "\u001B[2m2023-08-03T09:24:43.818725Z\u001B[0m \u001B[32m INFO\u001B[0m \u001B[2mtest\u001B[0m\u001B[2m:\u001B[0m input=Integer(3700299788514132441)\r\n",
      "\u001B[2m2023-08-03T09:24:43.818911Z\u001B[0m \u001B[32m INFO\u001B[0m \u001B[2mtest\u001B[0m\u001B[2m:\u001B[0m input=Identifier(\"PDE7k\")\r\n",
      "\u001B[2m2023-08-03T09:24:43.818986Z\u001B[0m \u001B[32m INFO\u001B[0m \u001B[2mtest\u001B[0m\u001B[2m:\u001B[0m input=Identifier(\"t0F36E\")\r\n",
      "\u001B[2m2023-08-03T09:24:43.819049Z\u001B[0m \u001B[32m INFO\u001B[0m \u001B[2mtest\u001B[0m\u001B[2m:\u001B[0m input=StringLiteral(\"LP$K`/\")\r\n",
      "\u001B[2m2023-08-03T09:24:43.819114Z\u001B[0m \u001B[32m INFO\u001B[0m \u001B[2mtest\u001B[0m\u001B[2m:\u001B[0m input=Comment(\"`]d@:S\")\r\n",
      "\u001B[2m2023-08-03T09:24:43.819188Z\u001B[0m \u001B[32m INFO\u001B[0m \u001B[2mtest\u001B[0m\u001B[2m:\u001B[0m input=StringLiteral(\"W(S%d3.o/,fo`E<BChd\")\r\n",
      "\u001B[2m2023-08-03T09:24:43.819260Z\u001B[0m \u001B[32m INFO\u001B[0m \u001B[2mtest\u001B[0m\u001B[2m:\u001B[0m input=Operator(\"-\")\r\n",
      "\u001B[2m2023-08-03T09:24:43.819357Z\u001B[0m \u001B[32m INFO\u001B[0m \u001B[2mtest\u001B[0m\u001B[2m:\u001B[0m input=Comment(\"<?\\\"7 .L3y>2ES=7,=\")\r\n",
      "\u001B[2m2023-08-03T09:24:43.819428Z\u001B[0m \u001B[32m INFO\u001B[0m \u001B[2mtest\u001B[0m\u001B[2m:\u001B[0m input=Integer(3566857485678703140)\r\n",
      "\u001B[2m2023-08-03T09:24:43.819501Z\u001B[0m \u001B[32m INFO\u001B[0m \u001B[2mtest\u001B[0m\u001B[2m:\u001B[0m input=Comment(\"$0'd`%<Vz'8l!:r0\\\"6B=/>?;:RJ\")\r\n",
      "\u001B[2m2023-08-03T09:24:43.819592Z\u001B[0m \u001B[32m INFO\u001B[0m \u001B[2mtest\u001B[0m\u001B[2m:\u001B[0m input=StringLiteral(\"u=B_-Z/*[w?=?jt6>3hE&U:=jP$d2\")\r\n",
      "\u001B[2m2023-08-03T09:24:43.819717Z\u001B[0m \u001B[32m INFO\u001B[0m \u001B[2mtest\u001B[0m\u001B[2m:\u001B[0m input=Comment(\"8t2`'.a@e:U22yWS$.&o*m\\\\yo&\")\r\n",
      "\u001B[2m2023-08-03T09:24:43.819799Z\u001B[0m \u001B[32m INFO\u001B[0m \u001B[2mtest\u001B[0m\u001B[2m:\u001B[0m input=Comment(\"9<6\")\r\n",
      "\u001B[2m2023-08-03T09:24:43.819862Z\u001B[0m \u001B[32m INFO\u001B[0m \u001B[2mtest\u001B[0m\u001B[2m:\u001B[0m input=Integer(-3782554684727493386)\r\n",
      "\u001B[2m2023-08-03T09:24:43.819924Z\u001B[0m \u001B[32m INFO\u001B[0m \u001B[2mtest\u001B[0m\u001B[2m:\u001B[0m input=Identifier(\"Y1uw4\")\r\n",
      "\u001B[2m2023-08-03T09:24:43.820005Z\u001B[0m \u001B[32m INFO\u001B[0m \u001B[2mtest\u001B[0m\u001B[2m:\u001B[0m input=StringLiteral(\"-e'N6v=w!*<|&n&DP|}\")\r\n",
      "\u001B[2m2023-08-03T09:24:43.820069Z\u001B[0m \u001B[32m INFO\u001B[0m \u001B[2mtest\u001B[0m\u001B[2m:\u001B[0m input=Integer(3728541019330402705)\r\n",
      "\u001B[2m2023-08-03T09:24:43.820100Z\u001B[0m \u001B[32m INFO\u001B[0m \u001B[2mtest\u001B[0m\u001B[2m:\u001B[0m input=Integer(7769700013205408292)\r\n",
      "\u001B[2m2023-08-03T09:24:43.820133Z\u001B[0m \u001B[32m INFO\u001B[0m \u001B[2mtest\u001B[0m\u001B[2m:\u001B[0m input=Integer(5413876290815522544)\r\n",
      "\u001B[2m2023-08-03T09:24:43.820209Z\u001B[0m \u001B[32m INFO\u001B[0m \u001B[2mtest\u001B[0m\u001B[2m:\u001B[0m input=Identifier(\"X8S2wdF\")\r\n",
      "\u001B[2m2023-08-03T09:24:43.820281Z\u001B[0m \u001B[32m INFO\u001B[0m \u001B[2mtest\u001B[0m\u001B[2m:\u001B[0m input=Operator(\")\")\r\n",
      "\u001B[2m2023-08-03T09:24:43.820319Z\u001B[0m \u001B[32m INFO\u001B[0m \u001B[2mtest\u001B[0m\u001B[2m:\u001B[0m input=Operator(\"-\")\r\n",
      "\u001B[2m2023-08-03T09:24:43.820382Z\u001B[0m \u001B[32m INFO\u001B[0m \u001B[2mtest\u001B[0m\u001B[2m:\u001B[0m input=Comment(\"-jy/^C\")\r\n",
      "\u001B[2m2023-08-03T09:24:43.820442Z\u001B[0m \u001B[32m INFO\u001B[0m \u001B[2mtest\u001B[0m\u001B[2m:\u001B[0m input=Operator(\"/\")\r\n",
      "\u001B[2m2023-08-03T09:24:43.820501Z\u001B[0m \u001B[32m INFO\u001B[0m \u001B[2mtest\u001B[0m\u001B[2m:\u001B[0m input=Integer(6090538861495821263)\r\n",
      "\u001B[2m2023-08-03T09:24:43.820531Z\u001B[0m \u001B[32m INFO\u001B[0m \u001B[2mtest\u001B[0m\u001B[2m:\u001B[0m input=Integer(1115513797562578656)\r\n",
      "\u001B[2m2023-08-03T09:24:43.820584Z\u001B[0m \u001B[32m INFO\u001B[0m \u001B[2mtest\u001B[0m\u001B[2m:\u001B[0m input=Integer(-8857533915986038896)\r\n",
      "\u001B[2m2023-08-03T09:24:43.820639Z\u001B[0m \u001B[32m INFO\u001B[0m \u001B[2mtest\u001B[0m\u001B[2m:\u001B[0m input=Integer(-6701091621121436226)\r\n",
      "\u001B[2m2023-08-03T09:24:43.820725Z\u001B[0m \u001B[32m INFO\u001B[0m \u001B[2mtest\u001B[0m\u001B[2m:\u001B[0m input=Operator(\"-\")\r\n",
      "\u001B[2m2023-08-03T09:24:43.820789Z\u001B[0m \u001B[32m INFO\u001B[0m \u001B[2mtest\u001B[0m\u001B[2m:\u001B[0m input=Identifier(\"XCK\")\r\n",
      "\u001B[2m2023-08-03T09:24:43.820840Z\u001B[0m \u001B[32m INFO\u001B[0m \u001B[2mtest\u001B[0m\u001B[2m:\u001B[0m input=StringLiteral(\"`{R&&As<:579^op'3e5+c\")\r\n",
      "\u001B[2m2023-08-03T09:24:43.821047Z\u001B[0m \u001B[32m INFO\u001B[0m \u001B[2mtest\u001B[0m\u001B[2m:\u001B[0m input=StringLiteral(\"!:tO]Lr:>Mn8;g~.\")\r\n",
      "\u001B[2m2023-08-03T09:24:43.821123Z\u001B[0m \u001B[32m INFO\u001B[0m \u001B[2mtest\u001B[0m\u001B[2m:\u001B[0m input=Integer(-9419883597968214)\r\n",
      "\u001B[2m2023-08-03T09:24:43.821210Z\u001B[0m \u001B[32m INFO\u001B[0m \u001B[2mtest\u001B[0m\u001B[2m:\u001B[0m input=Identifier(\"MxtDWg6yMl8DgfsQJx0QDFtkNy6hB4T5f\")\r\n",
      "\u001B[2m2023-08-03T09:24:43.821279Z\u001B[0m \u001B[32m INFO\u001B[0m \u001B[2mtest\u001B[0m\u001B[2m:\u001B[0m input=Operator(\"*\")\r\n",
      "\u001B[2m2023-08-03T09:24:43.821365Z\u001B[0m \u001B[32m INFO\u001B[0m \u001B[2mtest\u001B[0m\u001B[2m:\u001B[0m input=Comment(\"Mo\\\\~yx[;OPqh/?7v{~]\\\\a^q/F\\\"b_%\")\r\n",
      "\u001B[2m2023-08-03T09:24:43.821431Z\u001B[0m \u001B[32m INFO\u001B[0m \u001B[2mtest\u001B[0m\u001B[2m:\u001B[0m input=Integer(4017802278658211713)\r\n",
      "\u001B[2m2023-08-03T09:24:43.821470Z\u001B[0m \u001B[32m INFO\u001B[0m \u001B[2mtest\u001B[0m\u001B[2m:\u001B[0m input=Identifier(\"h2N\")\r\n",
      "\u001B[2m2023-08-03T09:24:43.821546Z\u001B[0m \u001B[32m INFO\u001B[0m \u001B[2mtest\u001B[0m\u001B[2m:\u001B[0m input=Comment(\"{)^/\\\"e6Q'.5eHVmu{\")\r\n",
      "\u001B[2m2023-08-03T09:24:43.821613Z\u001B[0m \u001B[32m INFO\u001B[0m \u001B[2mtest\u001B[0m\u001B[2m:\u001B[0m input=Integer(3784278802643538269)\r\n",
      "\u001B[2m2023-08-03T09:24:43.821716Z\u001B[0m \u001B[32m INFO\u001B[0m \u001B[2mtest\u001B[0m\u001B[2m:\u001B[0m input=Operator(\"(\")\r\n",
      "\u001B[2m2023-08-03T09:24:43.821881Z\u001B[0m \u001B[32m INFO\u001B[0m \u001B[2mtest\u001B[0m\u001B[2m:\u001B[0m input=Integer(-5844699927742975384)\r\n",
      "\u001B[2m2023-08-03T09:24:43.821976Z\u001B[0m \u001B[32m INFO\u001B[0m \u001B[2mtest\u001B[0m\u001B[2m:\u001B[0m input=Comment(\"=|FI_Q{vo%Blb6^N\")\r\n",
      "\u001B[2m2023-08-03T09:24:43.822046Z\u001B[0m \u001B[32m INFO\u001B[0m \u001B[2mtest\u001B[0m\u001B[2m:\u001B[0m input=Operator(\"*\")\r\n",
      "\u001B[2m2023-08-03T09:24:43.822084Z\u001B[0m \u001B[32m INFO\u001B[0m \u001B[2mtest\u001B[0m\u001B[2m:\u001B[0m input=Operator(\")\")\r\n",
      "\u001B[2m2023-08-03T09:24:43.822146Z\u001B[0m \u001B[32m INFO\u001B[0m \u001B[2mtest\u001B[0m\u001B[2m:\u001B[0m input=Comment(\"$@;p\")\r\n",
      "\u001B[2m2023-08-03T09:24:43.822204Z\u001B[0m \u001B[32m INFO\u001B[0m \u001B[2mtest\u001B[0m\u001B[2m:\u001B[0m input=Operator(\"+\")\r\n",
      "\u001B[2m2023-08-03T09:24:43.822267Z\u001B[0m \u001B[32m INFO\u001B[0m \u001B[2mtest\u001B[0m\u001B[2m:\u001B[0m input=Identifier(\"Al8rNJq\")\r\n",
      "\u001B[2m2023-08-03T09:24:43.822302Z\u001B[0m \u001B[32m INFO\u001B[0m \u001B[2mtest\u001B[0m\u001B[2m:\u001B[0m input=Integer(-2681040324786781165)\r\n",
      "\u001B[2m2023-08-03T09:24:43.822332Z\u001B[0m \u001B[32m INFO\u001B[0m \u001B[2mtest\u001B[0m\u001B[2m:\u001B[0m input=Integer(-6279971541478439308)\r\n",
      "\u001B[2m2023-08-03T09:24:43.822360Z\u001B[0m \u001B[32m INFO\u001B[0m \u001B[2mtest\u001B[0m\u001B[2m:\u001B[0m input=Integer(7836262624224013440)\r\n",
      "\u001B[2m2023-08-03T09:24:43.822396Z\u001B[0m \u001B[32m INFO\u001B[0m \u001B[2mtest\u001B[0m\u001B[2m:\u001B[0m input=Comment(\"/4J\")\r\n",
      "\u001B[2m2023-08-03T09:24:43.822479Z\u001B[0m \u001B[32m INFO\u001B[0m \u001B[2mtest\u001B[0m\u001B[2m:\u001B[0m input=Integer(-2538333456773689784)\r\n",
      "\u001B[2m2023-08-03T09:24:43.822517Z\u001B[0m \u001B[32m INFO\u001B[0m \u001B[2mtest\u001B[0m\u001B[2m:\u001B[0m input=Operator(\"=\")\r\n",
      "\u001B[2m2023-08-03T09:24:43.822551Z\u001B[0m \u001B[32m INFO\u001B[0m \u001B[2mtest\u001B[0m\u001B[2m:\u001B[0m input=Operator(\"=\")\r\n",
      "\u001B[2m2023-08-03T09:24:43.822613Z\u001B[0m \u001B[32m INFO\u001B[0m \u001B[2mtest\u001B[0m\u001B[2m:\u001B[0m input=Identifier(\"GcgK\")\r\n",
      "\u001B[2m2023-08-03T09:24:43.822667Z\u001B[0m \u001B[32m INFO\u001B[0m \u001B[2mtest\u001B[0m\u001B[2m:\u001B[0m input=StringLiteral(\"k?Negn:%&)T<Vl]l`k\")\r\n",
      "\u001B[2m2023-08-03T09:24:43.822761Z\u001B[0m \u001B[32m INFO\u001B[0m \u001B[2mtest\u001B[0m\u001B[2m:\u001B[0m input=Comment(\"%z{V\")\r\n",
      "\u001B[2m2023-08-03T09:24:43.822942Z\u001B[0m \u001B[32m INFO\u001B[0m \u001B[2mtest\u001B[0m\u001B[2m:\u001B[0m input=Comment(\"<A\\\\]{l=`BC\\\"L~/PG`l\\\\\\\\!d*\\\\9il.@/\")\r\n",
      "\u001B[2m2023-08-03T09:24:43.823022Z\u001B[0m \u001B[32m INFO\u001B[0m \u001B[2mtest\u001B[0m\u001B[2m:\u001B[0m input=Operator(\"=\")\r\n",
      "\u001B[2m2023-08-03T09:24:43.823067Z\u001B[0m \u001B[32m INFO\u001B[0m \u001B[2mtest\u001B[0m\u001B[2m:\u001B[0m input=Comment(\"LYB\")\r\n",
      "\u001B[2m2023-08-03T09:24:43.823099Z\u001B[0m \u001B[32m INFO\u001B[0m \u001B[2mtest\u001B[0m\u001B[2m:\u001B[0m input=Integer(-7239211911267078904)\r\n",
      "\u001B[2m2023-08-03T09:24:43.823182Z\u001B[0m \u001B[32m INFO\u001B[0m \u001B[2mtest\u001B[0m\u001B[2m:\u001B[0m input=Comment(\"qwI59Fh`:J)b&W?*k<{L&{?`\\\\$ms.?yP\")\r\n",
      "\u001B[2m2023-08-03T09:24:43.823222Z\u001B[0m \u001B[32m INFO\u001B[0m \u001B[2mtest\u001B[0m\u001B[2m:\u001B[0m input=Integer(-857695728744657691)\r\n",
      "\u001B[2m2023-08-03T09:24:43.823292Z\u001B[0m \u001B[32m INFO\u001B[0m \u001B[2mtest\u001B[0m\u001B[2m:\u001B[0m input=StringLiteral(\"o7&(>Xa<n<I%y\")\r\n",
      "test prop_parse_format_idempotent ... ok\r\n",
      "test adding_and_then_removing_an_item_from_the_cart_leaves_the_cart_unchanged ... ok\r\n",
      "\r\n",
      "test result: ok. 3 passed; 0 failed; 0 ignored; 0 measured; 0 filtered out; finished in 0.13s\r\n",
      "\r\n"
     ]
    }
   ],
   "source": [
    "$env:RUST_LOG=\"info\"\n",
    "{ cargo test --release } | Invoke-Block"
   ]
  },
  {
   "cell_type": "code",
   "execution_count": null,
   "metadata": {
    "dotnet_interactive": {
     "language": "pwsh"
    },
    "polyglot_notebook": {
     "kernelName": "pwsh"
    }
   },
   "outputs": [
    {
     "name": "stdout",
     "output_type": "stream",
     "text": [
      "app=test\r\n"
     ]
    }
   ],
   "source": [
    "{ . $ScriptDir/../../target/release/test$(GetExecutableSuffix) } | Invoke-Block"
   ]
  }
 ],
 "metadata": {
  "kernelspec": {
   "display_name": ".NET (C#)",
   "language": "C#",
   "name": ".net-csharp"
  },
  "language_info": {
   "file_extension": ".cs",
   "mimetype": "text/x-csharp",
   "name": "C#",
   "pygments_lexer": "csharp",
   "version": "10.0"
  },
  "polyglot_notebook": {
   "defaultKernelName": "csharp",
   "items": [
    {
     "name": "csharp"
    }
   ]
  },
  "dotnet_interactive": {
   "defaultKernelName": "csharp",
   "items": [
    {
     "name": "csharp"
    }
   ]
  }
 },
 "nbformat": 4,
 "nbformat_minor": 5
}