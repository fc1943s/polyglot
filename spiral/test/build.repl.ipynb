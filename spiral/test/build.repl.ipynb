{
 "cells": [
  {
   "cell_type": "code",
   "execution_count": null,
   "metadata": {
    "dotnet_interactive": {
     "language": "pwsh"
    },
    "polyglot_notebook": {
     "kernelName": "pwsh"
    }
   },
   "outputs": [],
   "source": [
    ". ../../scripts/nbs_header.ps1\n",
    ". ../../scripts/core.ps1"
   ]
  },
  {
   "cell_type": "code",
   "execution_count": null,
   "metadata": {
    "dotnet_interactive": {
     "language": "pwsh"
    },
    "polyglot_notebook": {
     "kernelName": "pwsh"
    }
   },
   "outputs": [
    {
     "name": "stdout",
     "output_type": "stream",
     "text": [
      "05:20:44 #1 [Debug] runWithTimeoutAsync / timeout: 60\r\n",
      "05:20:44 #2 [Debug] executeAsync / options: { Command =\r\n",
      "   \"dotnet \"C:\\home\\git\\polyglot\\deps\\The-Spiral-Language\\The Spiral Language 2\\artifacts\\bin\\The Spiral Language 2\\release\\Spiral.dll\" port=13805\"\r\n",
      "  WorkingDirectory = None\r\n",
      "  CancellationToken = None\r\n",
      "  OnLine = Some <fun:main@169-239> }\r\n",
      "05:20:44 #3 [Debug]  2972: Server bound to: tcp://*:13805 & tcp://*:13806\r\n",
      "05:20:44 #4 [Debug]  2972: pwd: C:\\home\\git\\polyglot\\spiral\\test\r\n",
      "05:20:44 #5 [Debug]  2972: dll_path: C:\\home\\git\\polyglot\\deps\\The-Spiral-Language\\The Spiral Language 2\\artifacts\\bin\\The Spiral Language 2\\release\r\n",
      "05:20:44 #6 [Debug] sendJson / port: 13805 / json: {\"FileOpen\":{\"spiText\":\"inl app () =\\n    \\u0022test\\u0022 |\\u003E fsharp.console.write_line\\n    0i32\\n\\ninl main () =\\n    print_static \\u0022\\u003Ctest\\u003E\\u0022\\n\\n    app\\n    |\\u003E dyn\\n    |\\u003E ignore\\n\\n    print_static \\u0022\\u003C/test\\u003E\\u0022\\n\",\"uri\":\"file:///C:\\\\home\\\\git\\\\polyglot\\\\spiral\\\\test\\\\test.spi\"}} / result: []\r\n",
      "05:20:44 #7 [Debug] sendJson / port: 13805 / json: {\"BuildFile\":{\"backend\":\"Fsharp\",\"uri\":\"file:///C:\\\\home\\\\git\\\\polyglot\\\\spiral\\\\test\\\\test.spi\"}} / result: []\r\n",
      "05:20:45 #8 [Debug]  2972: Building C:\\home\\git\\polyglot\\spiral\\test\\test.spi\r\n",
      "05:20:46 #9 [Debug]  2972: <test>\r\n",
      "05:20:46 #10 [Debug]  2972: </test>\r\n",
      "05:20:46 #11 [Debug] watchWithFilter / Disposing watch stream / fullPath: C:\\home\\git\\polyglot\\spiral\\test / filter: FileName, LastWrite\r\n"
     ]
    }
   ],
   "source": [
    "{ . ../../apps/spiral/target/bin/Release/net8.0/Supervisor$(GetExecutableSuffix) --buildfile test.spi test.fsx --timeout 5000 } | Invoke-Block"
   ]
  },
  {
   "cell_type": "code",
   "execution_count": null,
   "metadata": {
    "dotnet_interactive": {
     "language": "pwsh"
    },
    "polyglot_notebook": {
     "kernelName": "pwsh"
    }
   },
   "outputs": [
    {
     "name": "stdout",
     "output_type": "stream",
     "text": [
      "Fable 4.1.4: F# to Rust compiler (status: alpha)\r\n",
      "\r\n",
      "Thanks to the contributor! @matthid\r\n",
      "Stand with Ukraine! https://standwithukraine.com.ua/\r\n",
      "\r\n",
      "Parsing test.fsproj...\r\n",
      "Retrieving project options from cache, in case of issues run `dotnet fable clean` or try `--noCache` option.\r\n",
      "Project and references (1 source files) parsed in 289ms\r\n",
      "\r\n",
      "Started Fable compilation...\r\n",
      "Fable compilation finished in 2510ms\r\n",
      "\r\n",
      ".\\test.fsx(6,0): (6,2) warning FABLE: For Rust, support for F# static and module do bindings is disabled by default. It can be enabled with the 'static_do_bindings' feature. Use at your own risk!\r\n"
     ]
    }
   ],
   "source": [
    "dotnet fable --optimize --lang rs --extension .rs"
   ]
  },
  {
   "cell_type": "code",
   "execution_count": null,
   "metadata": {
    "dotnet_interactive": {
     "language": "pwsh"
    },
    "polyglot_notebook": {
     "kernelName": "pwsh"
    }
   },
   "outputs": [],
   "source": [
    "cargo fmt --"
   ]
  },
  {
   "cell_type": "code",
   "execution_count": null,
   "metadata": {
    "dotnet_interactive": {
     "language": "pwsh"
    },
    "polyglot_notebook": {
     "kernelName": "pwsh"
    }
   },
   "outputs": [
    {
     "name": "stdout",
     "output_type": "stream",
     "text": [
      "\u001B[31;1m   Compiling test v0.0.1 (C:\\home\\git\\polyglot\\spiral\\test)\u001B[0m\r\n",
      "\u001B[31;1mwarning: unused import: `info`\u001B[0m\r\n",
      "\u001B[31;1m   --> spiral\\test\\./main.rs:190:15\u001B[0m\r\n",
      "\u001B[31;1m    |\u001B[0m\r\n",
      "\u001B[31;1m190 | use tracing::{info, Level};\u001B[0m\r\n",
      "\u001B[31;1m    |               ^^^^\u001B[0m\r\n",
      "\u001B[31;1m    |\u001B[0m\r\n",
      "\u001B[31;1m    = note: `#[warn(unused_imports)]` on by default\u001B[0m\r\n",
      "\u001B[31;1m\u001B[0m\r\n",
      "\u001B[31;1mwarning: associated items `new`, `add_item`, and `remove_item` are never used\u001B[0m\r\n",
      "\u001B[31;1m  --> spiral\\test\\./main.rs:46:8\u001B[0m\r\n",
      "\u001B[31;1m   |\u001B[0m\r\n",
      "\u001B[31;1m45 | impl Cart {\u001B[0m\r\n",
      "\u001B[31;1m   | --------- associated items in this implementation\u001B[0m\r\n",
      "\u001B[31;1m46 |     fn new() -> Cart {\u001B[0m\r\n",
      "\u001B[31;1m   |        ^^^\u001B[0m\r\n",
      "\u001B[31;1m...\u001B[0m\r\n",
      "\u001B[31;1m50 |     fn add_item(&mut self, item: Item) {\u001B[0m\r\n",
      "\u001B[31;1m   |        ^^^^^^^^\u001B[0m\r\n",
      "\u001B[31;1m...\u001B[0m\r\n",
      "\u001B[31;1m56 |     fn remove_item(&mut self, item: &Item) {\u001B[0m\r\n",
      "\u001B[31;1m   |        ^^^^^^^^^^^\u001B[0m\r\n",
      "\u001B[31;1m   |\u001B[0m\r\n",
      "\u001B[31;1m   = note: `#[warn(dead_code)]` on by default\u001B[0m\r\n",
      "\u001B[31;1m\u001B[0m\r\n",
      "\u001B[31;1mwarning: function `parse_comment` is never used\u001B[0m\r\n",
      "\u001B[31;1m   --> spiral\\test\\./main.rs:124:4\u001B[0m\r\n",
      "\u001B[31;1m    |\u001B[0m\r\n",
      "\u001B[31;1m124 | fn parse_comment(input: &str) -> IResult<&str, SpiralToken> {\u001B[0m\r\n",
      "\u001B[31;1m    |    ^^^^^^^^^^^^^\u001B[0m\r\n",
      "\u001B[31;1m\u001B[0m\r\n",
      "\u001B[31;1mwarning: function `parse_string` is never used\u001B[0m\r\n",
      "\u001B[31;1m   --> spiral\\test\\./main.rs:130:4\u001B[0m\r\n",
      "\u001B[31;1m    |\u001B[0m\r\n",
      "\u001B[31;1m130 | fn parse_string(input: &str) -> IResult<&str, SpiralToken> {\u001B[0m\r\n",
      "\u001B[31;1m    |    ^^^^^^^^^^^^\u001B[0m\r\n",
      "\u001B[31;1m\u001B[0m\r\n",
      "\u001B[31;1mwarning: function `parse_identifier` is never used\u001B[0m\r\n",
      "\u001B[31;1m   --> spiral\\test\\./main.rs:145:4\u001B[0m\r\n",
      "\u001B[31;1m    |\u001B[0m\r\n",
      "\u001B[31;1m145 | fn parse_identifier(input: &str) -> IResult<&str, SpiralToken> {\u001B[0m\r\n",
      "\u001B[31;1m    |    ^^^^^^^^^^^^^^^^\u001B[0m\r\n",
      "\u001B[31;1m\u001B[0m\r\n",
      "\u001B[31;1mwarning: function `parse_integer` is never used\u001B[0m\r\n",
      "\u001B[31;1m   --> spiral\\test\\./main.rs:157:4\u001B[0m\r\n",
      "\u001B[31;1m    |\u001B[0m\r\n",
      "\u001B[31;1m157 | fn parse_integer(input: &str) -> IResult<&str, SpiralToken> {\u001B[0m\r\n",
      "\u001B[31;1m    |    ^^^^^^^^^^^^^\u001B[0m\r\n",
      "\u001B[31;1m\u001B[0m\r\n",
      "\u001B[31;1mwarning: function `parse_operator` is never used\u001B[0m\r\n",
      "\u001B[31;1m   --> spiral\\test\\./main.rs:165:4\u001B[0m\r\n",
      "\u001B[31;1m    |\u001B[0m\r\n",
      "\u001B[31;1m165 | fn parse_operator(input: &str) -> IResult<&str, SpiralToken> {\u001B[0m\r\n",
      "\u001B[31;1m    |    ^^^^^^^^^^^^^^\u001B[0m\r\n",
      "\u001B[31;1m\u001B[0m\r\n",
      "\u001B[31;1mwarning: function `parse_token` is never used\u001B[0m\r\n",
      "\u001B[31;1m   --> spiral\\test\\./main.rs:170:4\u001B[0m\r\n",
      "\u001B[31;1m    |\u001B[0m\r\n",
      "\u001B[31;1m170 | fn parse_token(input: &str) -> IResult<&str, SpiralToken> {\u001B[0m\r\n",
      "\u001B[31;1m    |    ^^^^^^^^^^^\u001B[0m\r\n",
      "\u001B[31;1m\u001B[0m\r\n",
      "\u001B[31;1mwarning: function `format_token` is never used\u001B[0m\r\n",
      "\u001B[31;1m   --> spiral\\test\\./main.rs:180:4\u001B[0m\r\n",
      "\u001B[31;1m    |\u001B[0m\r\n",
      "\u001B[31;1m180 | fn format_token(token: &SpiralToken) -> String {\u001B[0m\r\n",
      "\u001B[31;1m    |    ^^^^^^^^^^^^\u001B[0m\r\n",
      "\u001B[31;1m\u001B[0m\r\n",
      "\u001B[31;1mwarning: function `parse_expression` is never used\u001B[0m\r\n",
      "\u001B[31;1m   --> spiral\\test\\./main.rs:213:4\u001B[0m\r\n",
      "\u001B[31;1m    |\u001B[0m\r\n",
      "\u001B[31;1m213 | fn parse_expression(input: &str) -> IResult<&str, SpiralToken> {\u001B[0m\r\n",
      "\u001B[31;1m    |    ^^^^^^^^^^^^^^^^\u001B[0m\r\n",
      "\u001B[31;1m\u001B[0m\r\n",
      "\u001B[31;1mwarning: `test` (bin \"test\") generated 10 warnings (run `cargo fix --bin \"test\"` to apply 1 suggestion)\u001B[0m\r\n",
      "\u001B[31;1m    Finished release [optimized] target(s) in 6.59s\u001B[0m\r\n"
     ]
    }
   ],
   "source": [
    "cargo build --release"
   ]
  },
  {
   "cell_type": "code",
   "execution_count": null,
   "metadata": {
    "dotnet_interactive": {
     "language": "pwsh"
    },
    "polyglot_notebook": {
     "kernelName": "pwsh"
    }
   },
   "outputs": [
    {
     "name": "stdout",
     "output_type": "stream",
     "text": [
      "\u001B[31;1m   Compiling test v0.0.1 (C:\\home\\git\\polyglot\\spiral\\test)\u001B[0m\r\n",
      "\u001B[31;1m    Finished release [optimized] target(s) in 6.43s\u001B[0m\r\n",
      "\u001B[31;1m     Running unittests main.rs (C:\\home\\git\\polyglot\\target\\release\\deps\\test-38172e11e9fb5a54.exe)\u001B[0m\r\n",
      "\r\n",
      "running 3 tests\r\n",
      "test test_parse_number ... ok\r\n",
      "\u001B[2m2023-08-02T08:21:06.326752Z\u001B[0m \u001B[32m INFO\u001B[0m \u001B[2mtest\u001B[0m\u001B[2m:\u001B[0m input=Integer(9150744506201857385)\r\n",
      "\u001B[2m2023-08-02T08:21:06.326824Z\u001B[0m \u001B[32m INFO\u001B[0m \u001B[2mtest\u001B[0m\u001B[2m:\u001B[0m input=Integer(-5115489830213196148)\r\n",
      "\u001B[2m2023-08-02T08:21:06.326868Z\u001B[0m \u001B[32m INFO\u001B[0m \u001B[2mtest\u001B[0m\u001B[2m:\u001B[0m input=StringLiteral(\"//_Y%AB'<Xbp6D+/K^&Ru\")\r\n",
      "\u001B[2m2023-08-02T08:21:06.326936Z\u001B[0m \u001B[32m INFO\u001B[0m \u001B[2mtest\u001B[0m\u001B[2m:\u001B[0m input=Comment(\"Wu-3E{*g:q$Gy$u@:&;}{nlYbU<W-\")\r\n",
      "\u001B[2m2023-08-02T08:21:06.326968Z\u001B[0m \u001B[32m INFO\u001B[0m \u001B[2mtest\u001B[0m\u001B[2m:\u001B[0m input=Operator(\"*\")\r\n",
      "\u001B[2m2023-08-02T08:21:06.327003Z\u001B[0m \u001B[32m INFO\u001B[0m \u001B[2mtest\u001B[0m\u001B[2m:\u001B[0m input=Comment(\"+*w&M%$u?R#=`1O. ol/\")\r\n",
      "\u001B[2m2023-08-02T08:21:06.327031Z\u001B[0m \u001B[32m INFO\u001B[0m \u001B[2mtest\u001B[0m\u001B[2m:\u001B[0m input=Comment(\"<\\\\$S&h\\\\b?\")\r\n",
      "\u001B[2m2023-08-02T08:21:06.327050Z\u001B[0m \u001B[32m INFO\u001B[0m \u001B[2mtest\u001B[0m\u001B[2m:\u001B[0m input=Integer(727049052269170860)\r\n",
      "\u001B[2m2023-08-02T08:21:06.327066Z\u001B[0m \u001B[32m INFO\u001B[0m \u001B[2mtest\u001B[0m\u001B[2m:\u001B[0m input=Integer(-8672038120094091999)\r\n",
      "\u001B[2m2023-08-02T08:21:06.327095Z\u001B[0m \u001B[32m INFO\u001B[0m \u001B[2mtest\u001B[0m\u001B[2m:\u001B[0m input=Comment(\"&:=rxi\\\\bDTFPAIQ]#Ep5{.4z;.B\")\r\n",
      "\u001B[2m2023-08-02T08:21:06.327117Z\u001B[0m \u001B[32m INFO\u001B[0m \u001B[2mtest\u001B[0m\u001B[2m:\u001B[0m input=StringLiteral(\"y\")\r\n",
      "\u001B[2m2023-08-02T08:21:06.327138Z\u001B[0m \u001B[32m INFO\u001B[0m \u001B[2mtest\u001B[0m\u001B[2m:\u001B[0m input=Operator(\"(\")\r\n",
      "\u001B[2m2023-08-02T08:21:06.327169Z\u001B[0m \u001B[32m INFO\u001B[0m \u001B[2mtest\u001B[0m\u001B[2m:\u001B[0m input=Identifier(\"IqRLxiTc6D4NgOkzj68\")\r\n",
      "\u001B[2m2023-08-02T08:21:06.327202Z\u001B[0m \u001B[32m INFO\u001B[0m \u001B[2mtest\u001B[0m\u001B[2m:\u001B[0m input=Identifier(\"l9dUEo6bIs9AlO85E94w550FKVCQ2vxoF\")\r\n",
      "\u001B[2m2023-08-02T08:21:06.327229Z\u001B[0m \u001B[32m INFO\u001B[0m \u001B[2mtest\u001B[0m\u001B[2m:\u001B[0m input=StringLiteral(\"Cl<'6$1{X fp+4\")\r\n",
      "\u001B[2m2023-08-02T08:21:06.327248Z\u001B[0m \u001B[32m INFO\u001B[0m \u001B[2mtest\u001B[0m\u001B[2m:\u001B[0m input=Integer(-2108724191158463749)\r\n",
      "\u001B[2m2023-08-02T08:21:06.327267Z\u001B[0m \u001B[32m INFO\u001B[0m \u001B[2mtest\u001B[0m\u001B[2m:\u001B[0m input=Operator(\"-\")\r\n",
      "\u001B[2m2023-08-02T08:21:06.327305Z\u001B[0m \u001B[32m INFO\u001B[0m \u001B[2mtest\u001B[0m\u001B[2m:\u001B[0m input=Comment(\"!~(1*AI&])</`'k\\\\KD%\")\r\n",
      "\u001B[2m2023-08-02T08:21:06.327334Z\u001B[0m \u001B[32m INFO\u001B[0m \u001B[2mtest\u001B[0m\u001B[2m:\u001B[0m input=Identifier(\"kuZ2kW5c2p3IIKv6fmV\")\r\n",
      "\u001B[2m2023-08-02T08:21:06.327369Z\u001B[0m \u001B[32m INFO\u001B[0m \u001B[2mtest\u001B[0m\u001B[2m:\u001B[0m input=Identifier(\"YrkrQovAQinr50qPeqPf2dFIhsGOj\")\r\n",
      "\u001B[2m2023-08-02T08:21:06.327389Z\u001B[0m \u001B[32m INFO\u001B[0m \u001B[2mtest\u001B[0m\u001B[2m:\u001B[0m input=Comment(\".B<\")\r\n",
      "\u001B[2m2023-08-02T08:21:06.327464Z\u001B[0m \u001B[32m INFO\u001B[0m \u001B[2mtest\u001B[0m\u001B[2m:\u001B[0m input=Operator(\"=\")\r\n",
      "\u001B[2m2023-08-02T08:21:06.327511Z\u001B[0m \u001B[32m INFO\u001B[0m \u001B[2mtest\u001B[0m\u001B[2m:\u001B[0m input=Operator(\"(\")\r\n",
      "\u001B[2m2023-08-02T08:21:06.327543Z\u001B[0m \u001B[32m INFO\u001B[0m \u001B[2mtest\u001B[0m\u001B[2m:\u001B[0m input=Operator(\"/\")\r\n",
      "\u001B[2m2023-08-02T08:21:06.327595Z\u001B[0m \u001B[32m INFO\u001B[0m \u001B[2mtest\u001B[0m\u001B[2m:\u001B[0m input=Identifier(\"rD9IQAT5GJiAYT9g\")\r\n",
      "\u001B[2m2023-08-02T08:21:06.327655Z\u001B[0m \u001B[32m INFO\u001B[0m \u001B[2mtest\u001B[0m\u001B[2m:\u001B[0m input=Comment(\"<Z%=\\\\!1*\\\\)l.`\")\r\n",
      "\u001B[2m2023-08-02T08:21:06.327703Z\u001B[0m \u001B[32m INFO\u001B[0m \u001B[2mtest\u001B[0m\u001B[2m:\u001B[0m input=Identifier(\"C8sJuhmJbp8WNwXS4W\")\r\n",
      "\u001B[2m2023-08-02T08:21:06.327725Z\u001B[0m \u001B[32m INFO\u001B[0m \u001B[2mtest\u001B[0m\u001B[2m:\u001B[0m input=Comment(\" \")\r\n",
      "\u001B[2m2023-08-02T08:21:06.327747Z\u001B[0m \u001B[32m INFO\u001B[0m \u001B[2mtest\u001B[0m\u001B[2m:\u001B[0m input=StringLiteral(\"T*G4O\")\r\n",
      "\u001B[2m2023-08-02T08:21:06.327775Z\u001B[0m \u001B[32m INFO\u001B[0m \u001B[2mtest\u001B[0m\u001B[2m:\u001B[0m input=Operator(\")\")\r\n",
      "\u001B[2m2023-08-02T08:21:06.327810Z\u001B[0m \u001B[32m INFO\u001B[0m \u001B[2mtest\u001B[0m\u001B[2m:\u001B[0m input=StringLiteral(\"_&faS*S*\")\r\n",
      "\u001B[2m2023-08-02T08:21:06.327842Z\u001B[0m \u001B[32m INFO\u001B[0m \u001B[2mtest\u001B[0m\u001B[2m:\u001B[0m input=Identifier(\"w47I14swgQlfXL208A7oz2Hd5a0v\")\r\n",
      "\u001B[2m2023-08-02T08:21:06.327871Z\u001B[0m \u001B[32m INFO\u001B[0m \u001B[2mtest\u001B[0m\u001B[2m:\u001B[0m input=Comment(\"4FPk\\\"{/&tnu=`gS=Z2'7{92\")\r\n",
      "\u001B[2m2023-08-02T08:21:06.327897Z\u001B[0m \u001B[32m INFO\u001B[0m \u001B[2mtest\u001B[0m\u001B[2m:\u001B[0m input=Comment(\"F}3Mix$.%S-s*:\")\r\n",
      "\u001B[2m2023-08-02T08:21:06.327923Z\u001B[0m \u001B[32m INFO\u001B[0m \u001B[2mtest\u001B[0m\u001B[2m:\u001B[0m input=Comment(\"=8F=_h\")\r\n",
      "\u001B[2m2023-08-02T08:21:06.327943Z\u001B[0m \u001B[32m INFO\u001B[0m \u001B[2mtest\u001B[0m\u001B[2m:\u001B[0m input=Operator(\"/\")\r\n",
      "\u001B[2m2023-08-02T08:21:06.327961Z\u001B[0m \u001B[32m INFO\u001B[0m \u001B[2mtest\u001B[0m\u001B[2m:\u001B[0m input=Operator(\"/\")\r\n",
      "\u001B[2m2023-08-02T08:21:06.327979Z\u001B[0m \u001B[32m INFO\u001B[0m \u001B[2mtest\u001B[0m\u001B[2m:\u001B[0m input=Identifier(\"uu\")\r\n",
      "\u001B[2m2023-08-02T08:21:06.328002Z\u001B[0m \u001B[32m INFO\u001B[0m \u001B[2mtest\u001B[0m\u001B[2m:\u001B[0m input=StringLiteral(\"){'`dn%<7JOs>].cp`Wd\")\r\n",
      "\u001B[2m2023-08-02T08:21:06.332001Z\u001B[0m \u001B[32m INFO\u001B[0m \u001B[2mtest\u001B[0m\u001B[2m:\u001B[0m input=Comment(\"_\")\r\n",
      "\u001B[2m2023-08-02T08:21:06.332140Z\u001B[0m \u001B[32m INFO\u001B[0m \u001B[2mtest\u001B[0m\u001B[2m:\u001B[0m input=StringLiteral(\"pS${&\")\r\n",
      "\u001B[2m2023-08-02T08:21:06.332249Z\u001B[0m \u001B[32m INFO\u001B[0m \u001B[2mtest\u001B[0m\u001B[2m:\u001B[0m input=Identifier(\"Dxn5lK\")\r\n",
      "\u001B[2m2023-08-02T08:21:06.332324Z\u001B[0m \u001B[32m INFO\u001B[0m \u001B[2mtest\u001B[0m\u001B[2m:\u001B[0m input=Integer(5312331141944719561)\r\n",
      "\u001B[2m2023-08-02T08:21:06.332404Z\u001B[0m \u001B[32m INFO\u001B[0m \u001B[2mtest\u001B[0m\u001B[2m:\u001B[0m input=StringLiteral(\"-\")\r\n",
      "\u001B[2m2023-08-02T08:21:06.332441Z\u001B[0m \u001B[32m INFO\u001B[0m \u001B[2mtest\u001B[0m\u001B[2m:\u001B[0m input=StringLiteral(\"::\")\r\n",
      "\u001B[2m2023-08-02T08:21:06.332496Z\u001B[0m \u001B[32m INFO\u001B[0m \u001B[2mtest\u001B[0m\u001B[2m:\u001B[0m input=Identifier(\"Iq4\")\r\n",
      "\u001B[2m2023-08-02T08:21:06.332527Z\u001B[0m \u001B[32m INFO\u001B[0m \u001B[2mtest\u001B[0m\u001B[2m:\u001B[0m input=Operator(\"-\")\r\n",
      "\u001B[2m2023-08-02T08:21:06.332601Z\u001B[0m \u001B[32m INFO\u001B[0m \u001B[2mtest\u001B[0m\u001B[2m:\u001B[0m input=Comment(\";a.<_2l5fw+H?+'=Cf&:b0RXR3/8\")\r\n",
      "\u001B[2m2023-08-02T08:21:06.332681Z\u001B[0m \u001B[32m INFO\u001B[0m \u001B[2mtest\u001B[0m\u001B[2m:\u001B[0m input=Comment(\"B%Ov1B%b1rY:mPG;s=dA:ZF\\\"['@R=:TJ\")\r\n",
      "\u001B[2m2023-08-02T08:21:06.332779Z\u001B[0m \u001B[32m INFO\u001B[0m \u001B[2mtest\u001B[0m\u001B[2m:\u001B[0m input=Identifier(\"zUjd6Y64e5E0Yg8uGwJ9YE3nnsaXw\")\r\n",
      "\u001B[2m2023-08-02T08:21:06.332874Z\u001B[0m \u001B[32m INFO\u001B[0m \u001B[2mtest\u001B[0m\u001B[2m:\u001B[0m input=Identifier(\"rd7xSrCz43POZ2HtAve9PJ0p\")\r\n",
      "\u001B[2m2023-08-02T08:21:06.332993Z\u001B[0m \u001B[32m INFO\u001B[0m \u001B[2mtest\u001B[0m\u001B[2m:\u001B[0m input=Integer(524373113946654636)\r\n",
      "\u001B[2m2023-08-02T08:21:06.333054Z\u001B[0m \u001B[32m INFO\u001B[0m \u001B[2mtest\u001B[0m\u001B[2m:\u001B[0m input=Identifier(\"BuB79Xj8dWU8u5UP8szlS\")\r\n",
      "\u001B[2m2023-08-02T08:21:06.333088Z\u001B[0m \u001B[32m INFO\u001B[0m \u001B[2mtest\u001B[0m\u001B[2m:\u001B[0m input=Operator(\"-\")\r\n",
      "\u001B[2m2023-08-02T08:21:06.333139Z\u001B[0m \u001B[32m INFO\u001B[0m \u001B[2mtest\u001B[0m\u001B[2m:\u001B[0m input=Identifier(\"BCiWaqvv7748uF9s\")\r\n",
      "\u001B[2m2023-08-02T08:21:06.333180Z\u001B[0m \u001B[32m INFO\u001B[0m \u001B[2mtest\u001B[0m\u001B[2m:\u001B[0m input=Identifier(\"lZ1YrlyqxB9\")\r\n",
      "\u001B[2m2023-08-02T08:21:06.333241Z\u001B[0m \u001B[32m INFO\u001B[0m \u001B[2mtest\u001B[0m\u001B[2m:\u001B[0m input=Identifier(\"l3pyAVVvxhB8m74\")\r\n",
      "\u001B[2m2023-08-02T08:21:06.333297Z\u001B[0m \u001B[32m INFO\u001B[0m \u001B[2mtest\u001B[0m\u001B[2m:\u001B[0m input=StringLiteral(\"rh*wrI)7k+:$`tU|*&}#.8{<:H]p\")\r\n",
      "\u001B[2m2023-08-02T08:21:06.333401Z\u001B[0m \u001B[32m INFO\u001B[0m \u001B[2mtest\u001B[0m\u001B[2m:\u001B[0m input=Comment(\"a27&Hml^ih/:G]\\\\VkgP#S9Su.'\\\"Q$\")\r\n",
      "\u001B[2m2023-08-02T08:21:06.333469Z\u001B[0m \u001B[32m INFO\u001B[0m \u001B[2mtest\u001B[0m\u001B[2m:\u001B[0m input=Identifier(\"U66XJB3AZ9PbPgsleF7\")\r\n",
      "\u001B[2m2023-08-02T08:21:06.333514Z\u001B[0m \u001B[32m INFO\u001B[0m \u001B[2mtest\u001B[0m\u001B[2m:\u001B[0m input=Comment(\"\\\"\\\\$8`?6:\")\r\n",
      "\u001B[2m2023-08-02T08:21:06.333678Z\u001B[0m \u001B[32m INFO\u001B[0m \u001B[2mtest\u001B[0m\u001B[2m:\u001B[0m input=Comment(\":{0\")\r\n",
      "\u001B[2m2023-08-02T08:21:06.333725Z\u001B[0m \u001B[32m INFO\u001B[0m \u001B[2mtest\u001B[0m\u001B[2m:\u001B[0m input=Comment(\"$kpp%r* h:J\\\\EjH6<`=\\\\>\")\r\n",
      "\u001B[2m2023-08-02T08:21:06.333748Z\u001B[0m \u001B[32m INFO\u001B[0m \u001B[2mtest\u001B[0m\u001B[2m:\u001B[0m input=StringLiteral(\"`*\")\r\n",
      "\u001B[2m2023-08-02T08:21:06.333793Z\u001B[0m \u001B[32m INFO\u001B[0m \u001B[2mtest\u001B[0m\u001B[2m:\u001B[0m input=StringLiteral(\"+N<3/:_.$/ &X$8\")\r\n",
      "\u001B[2m2023-08-02T08:21:06.333830Z\u001B[0m \u001B[32m INFO\u001B[0m \u001B[2mtest\u001B[0m\u001B[2m:\u001B[0m input=StringLiteral(\">e:-:K$y?Al`Il\")\r\n",
      "\u001B[2m2023-08-02T08:21:06.333856Z\u001B[0m \u001B[32m INFO\u001B[0m \u001B[2mtest\u001B[0m\u001B[2m:\u001B[0m input=Comment(\"D[{uK?-a:?eI\\\\=N<*\")\r\n",
      "\u001B[2m2023-08-02T08:21:06.333875Z\u001B[0m \u001B[32m INFO\u001B[0m \u001B[2mtest\u001B[0m\u001B[2m:\u001B[0m input=Operator(\"-\")\r\n",
      "\u001B[2m2023-08-02T08:21:06.333896Z\u001B[0m \u001B[32m INFO\u001B[0m \u001B[2mtest\u001B[0m\u001B[2m:\u001B[0m input=Identifier(\"QkxIx5j2i\")\r\n",
      "\u001B[2m2023-08-02T08:21:06.333925Z\u001B[0m \u001B[32m INFO\u001B[0m \u001B[2mtest\u001B[0m\u001B[2m:\u001B[0m input=Integer(-6426136218551446269)\r\n",
      "\u001B[2m2023-08-02T08:21:06.333943Z\u001B[0m \u001B[32m INFO\u001B[0m \u001B[2mtest\u001B[0m\u001B[2m:\u001B[0m input=Integer(-5779727056075393262)\r\n",
      "\u001B[2m2023-08-02T08:21:06.333960Z\u001B[0m \u001B[32m INFO\u001B[0m \u001B[2mtest\u001B[0m\u001B[2m:\u001B[0m input=Integer(-628434551394497346)\r\n",
      "\u001B[2m2023-08-02T08:21:06.333979Z\u001B[0m \u001B[32m INFO\u001B[0m \u001B[2mtest\u001B[0m\u001B[2m:\u001B[0m input=Comment(\"*{'\")\r\n",
      "\u001B[2m2023-08-02T08:21:06.334014Z\u001B[0m \u001B[32m INFO\u001B[0m \u001B[2mtest\u001B[0m\u001B[2m:\u001B[0m input=Comment(\"X8% 2P\\\"Ou6<@$+\")\r\n",
      "\u001B[2m2023-08-02T08:21:06.334033Z\u001B[0m \u001B[32m INFO\u001B[0m \u001B[2mtest\u001B[0m\u001B[2m:\u001B[0m input=Integer(-3124584711912280319)\r\n",
      "\u001B[2m2023-08-02T08:21:06.334050Z\u001B[0m \u001B[32m INFO\u001B[0m \u001B[2mtest\u001B[0m\u001B[2m:\u001B[0m input=Integer(-8532605111490837472)\r\n",
      "\u001B[2m2023-08-02T08:21:06.334069Z\u001B[0m \u001B[32m INFO\u001B[0m \u001B[2mtest\u001B[0m\u001B[2m:\u001B[0m input=Operator(\"(\")\r\n",
      "\u001B[2m2023-08-02T08:21:06.334102Z\u001B[0m \u001B[32m INFO\u001B[0m \u001B[2mtest\u001B[0m\u001B[2m:\u001B[0m input=Comment(\"R=\")\r\n",
      "\u001B[2m2023-08-02T08:21:06.334164Z\u001B[0m \u001B[32m INFO\u001B[0m \u001B[2mtest\u001B[0m\u001B[2m:\u001B[0m input=Integer(-4488018207010066019)\r\n",
      "\u001B[2m2023-08-02T08:21:06.334220Z\u001B[0m \u001B[32m INFO\u001B[0m \u001B[2mtest\u001B[0m\u001B[2m:\u001B[0m input=StringLiteral(\":v%[<e%-'E{0/?0sR&l^O)Hh\")\r\n",
      "\u001B[2m2023-08-02T08:21:06.334270Z\u001B[0m \u001B[32m INFO\u001B[0m \u001B[2mtest\u001B[0m\u001B[2m:\u001B[0m input=Operator(\"+\")\r\n",
      "\u001B[2m2023-08-02T08:21:06.334331Z\u001B[0m \u001B[32m INFO\u001B[0m \u001B[2mtest\u001B[0m\u001B[2m:\u001B[0m input=Identifier(\"X5EYpImWKbnLPRGacikkhZ7xXM9w20l\")\r\n",
      "\u001B[2m2023-08-02T08:21:06.334372Z\u001B[0m \u001B[32m INFO\u001B[0m \u001B[2mtest\u001B[0m\u001B[2m:\u001B[0m input=Integer(7237315577549917678)\r\n",
      "\u001B[2m2023-08-02T08:21:06.334401Z\u001B[0m \u001B[32m INFO\u001B[0m \u001B[2mtest\u001B[0m\u001B[2m:\u001B[0m input=Integer(-7942716317820518015)\r\n",
      "\u001B[2m2023-08-02T08:21:06.334426Z\u001B[0m \u001B[32m INFO\u001B[0m \u001B[2mtest\u001B[0m\u001B[2m:\u001B[0m input=Comment(\"UR,j7i\\\"H*s5FM8$8w&\")\r\n",
      "\u001B[2m2023-08-02T08:21:06.334458Z\u001B[0m \u001B[32m INFO\u001B[0m \u001B[2mtest\u001B[0m\u001B[2m:\u001B[0m input=Identifier(\"Qmft865k2fRg33zCU4\")\r\n",
      "\u001B[2m2023-08-02T08:21:06.334499Z\u001B[0m \u001B[32m INFO\u001B[0m \u001B[2mtest\u001B[0m\u001B[2m:\u001B[0m input=Comment(\"ms@?::/n<|!PAud*/8^O%?.%+.\")\r\n",
      "\u001B[2m2023-08-02T08:21:06.334526Z\u001B[0m \u001B[32m INFO\u001B[0m \u001B[2mtest\u001B[0m\u001B[2m:\u001B[0m input=StringLiteral(\"[l~2=K~.3]{kzMCZY*:.y\")\r\n",
      "\u001B[2m2023-08-02T08:21:06.334554Z\u001B[0m \u001B[32m INFO\u001B[0m \u001B[2mtest\u001B[0m\u001B[2m:\u001B[0m input=StringLiteral(\"!pM x3:'=ZV8`UW\")\r\n",
      "\u001B[2m2023-08-02T08:21:06.334588Z\u001B[0m \u001B[32m INFO\u001B[0m \u001B[2mtest\u001B[0m\u001B[2m:\u001B[0m input=Operator(\")\")\r\n",
      "\u001B[2m2023-08-02T08:21:06.334618Z\u001B[0m \u001B[32m INFO\u001B[0m \u001B[2mtest\u001B[0m\u001B[2m:\u001B[0m input=Comment(\".ARft$?`M%es[&':_}im<Ru$^CS\")\r\n",
      "\u001B[2m2023-08-02T08:21:06.334669Z\u001B[0m \u001B[32m INFO\u001B[0m \u001B[2mtest\u001B[0m\u001B[2m:\u001B[0m input=StringLiteral(\"L, 5%aH$Db<%X|`]g3;3.s`pc/FoePX\")\r\n",
      "\u001B[2m2023-08-02T08:21:06.334705Z\u001B[0m \u001B[32m INFO\u001B[0m \u001B[2mtest\u001B[0m\u001B[2m:\u001B[0m input=Operator(\"+\")\r\n",
      "\u001B[2m2023-08-02T08:21:06.334724Z\u001B[0m \u001B[32m INFO\u001B[0m \u001B[2mtest\u001B[0m\u001B[2m:\u001B[0m input=Identifier(\"x\")\r\n",
      "\u001B[2m2023-08-02T08:21:06.334742Z\u001B[0m \u001B[32m INFO\u001B[0m \u001B[2mtest\u001B[0m\u001B[2m:\u001B[0m input=Operator(\"*\")\r\n",
      "\u001B[2m2023-08-02T08:21:06.334864Z\u001B[0m \u001B[32m INFO\u001B[0m \u001B[2mtest\u001B[0m\u001B[2m:\u001B[0m input=Identifier(\"b0qGq9WqjTB9N70yaM7p8lBYc3rRFBpY\")\r\n",
      "\u001B[2m2023-08-02T08:21:06.334931Z\u001B[0m \u001B[32m INFO\u001B[0m \u001B[2mtest\u001B[0m\u001B[2m:\u001B[0m input=Operator(\"*\")\r\n",
      "\u001B[2m2023-08-02T08:21:06.334964Z\u001B[0m \u001B[32m INFO\u001B[0m \u001B[2mtest\u001B[0m\u001B[2m:\u001B[0m input=Identifier(\"s27vBL40h5RNe166Wgo2UA\")\r\n",
      "\u001B[2m2023-08-02T08:21:06.335007Z\u001B[0m \u001B[32m INFO\u001B[0m \u001B[2mtest\u001B[0m\u001B[2m:\u001B[0m input=Integer(681230991824773786)\r\n",
      "\u001B[2m2023-08-02T08:21:06.335060Z\u001B[0m \u001B[32m INFO\u001B[0m \u001B[2mtest\u001B[0m\u001B[2m:\u001B[0m input=Identifier(\"BB9s2UW9J7eYxfMzEjtZMPWjhWQ7\")\r\n",
      "\u001B[2m2023-08-02T08:21:06.335123Z\u001B[0m \u001B[32m INFO\u001B[0m \u001B[2mtest\u001B[0m\u001B[2m:\u001B[0m input=Integer(-3979614362742633591)\r\n",
      "\u001B[2m2023-08-02T08:21:06.335152Z\u001B[0m \u001B[32m INFO\u001B[0m \u001B[2mtest\u001B[0m\u001B[2m:\u001B[0m input=Identifier(\"yg1nxQPuDtYJxhU70a6\")\r\n",
      "\u001B[2m2023-08-02T08:21:06.335180Z\u001B[0m \u001B[32m INFO\u001B[0m \u001B[2mtest\u001B[0m\u001B[2m:\u001B[0m input=Comment(\"<)^fW.K/G41f*_z.' \")\r\n",
      "\u001B[2m2023-08-02T08:21:06.335204Z\u001B[0m \u001B[32m INFO\u001B[0m \u001B[2mtest\u001B[0m\u001B[2m:\u001B[0m input=Operator(\"(\")\r\n",
      "\u001B[2m2023-08-02T08:21:06.335227Z\u001B[0m \u001B[32m INFO\u001B[0m \u001B[2mtest\u001B[0m\u001B[2m:\u001B[0m input=StringLiteral(\"^+)rYp N%\")\r\n",
      "\u001B[2m2023-08-02T08:21:06.335253Z\u001B[0m \u001B[32m INFO\u001B[0m \u001B[2mtest\u001B[0m\u001B[2m:\u001B[0m input=Comment(\"Q%o&(X\\\\lJ<Z.pa:x>\")\r\n",
      "\u001B[2m2023-08-02T08:21:06.335295Z\u001B[0m \u001B[32m INFO\u001B[0m \u001B[2mtest\u001B[0m\u001B[2m:\u001B[0m input=Comment(\"\")\r\n",
      "\u001B[2m2023-08-02T08:21:06.335325Z\u001B[0m \u001B[32m INFO\u001B[0m \u001B[2mtest\u001B[0m\u001B[2m:\u001B[0m input=Operator(\"+\")\r\n",
      "\u001B[2m2023-08-02T08:21:06.335372Z\u001B[0m \u001B[32m INFO\u001B[0m \u001B[2mtest\u001B[0m\u001B[2m:\u001B[0m input=Identifier(\"USn6yTH8AhqF26DyXgtS09yz4mJ\")\r\n",
      "\u001B[2m2023-08-02T08:21:06.335428Z\u001B[0m \u001B[32m INFO\u001B[0m \u001B[2mtest\u001B[0m\u001B[2m:\u001B[0m input=Operator(\"+\")\r\n",
      "\u001B[2m2023-08-02T08:21:06.335460Z\u001B[0m \u001B[32m INFO\u001B[0m \u001B[2mtest\u001B[0m\u001B[2m:\u001B[0m input=Operator(\"*\")\r\n",
      "\u001B[2m2023-08-02T08:21:06.335505Z\u001B[0m \u001B[32m INFO\u001B[0m \u001B[2mtest\u001B[0m\u001B[2m:\u001B[0m input=Integer(4915066501039682635)\r\n",
      "\u001B[2m2023-08-02T08:21:06.335528Z\u001B[0m \u001B[32m INFO\u001B[0m \u001B[2mtest\u001B[0m\u001B[2m:\u001B[0m input=Integer(-3676967773595256315)\r\n",
      "\u001B[2m2023-08-02T08:21:06.335556Z\u001B[0m \u001B[32m INFO\u001B[0m \u001B[2mtest\u001B[0m\u001B[2m:\u001B[0m input=Identifier(\"zDaT\")\r\n",
      "\u001B[2m2023-08-02T08:21:06.335659Z\u001B[0m \u001B[32m INFO\u001B[0m \u001B[2mtest\u001B[0m\u001B[2m:\u001B[0m input=StringLiteral(\"=Xw?{(<$?kV!I*%d<-p/'ZI*-3'G\")\r\n",
      "\u001B[2m2023-08-02T08:21:06.335772Z\u001B[0m \u001B[32m INFO\u001B[0m \u001B[2mtest\u001B[0m\u001B[2m:\u001B[0m input=Identifier(\"nHE8G\")\r\n",
      "\u001B[2m2023-08-02T08:21:06.335871Z\u001B[0m \u001B[32m INFO\u001B[0m \u001B[2mtest\u001B[0m\u001B[2m:\u001B[0m input=StringLiteral(\")mALu[TC8<\")\r\n",
      "\u001B[2m2023-08-02T08:21:06.335988Z\u001B[0m \u001B[32m INFO\u001B[0m \u001B[2mtest\u001B[0m\u001B[2m:\u001B[0m input=Comment(\"*M::|\\\"...jYIs<Lt,`sp@2:C%TK\\\\\")\r\n",
      "\u001B[2m2023-08-02T08:21:06.336062Z\u001B[0m \u001B[32m INFO\u001B[0m \u001B[2mtest\u001B[0m\u001B[2m:\u001B[0m input=Operator(\"/\")\r\n",
      "\u001B[2m2023-08-02T08:21:06.336131Z\u001B[0m \u001B[32m INFO\u001B[0m \u001B[2mtest\u001B[0m\u001B[2m:\u001B[0m input=Identifier(\"Mne17NQ54XMbpf1\")\r\n",
      "\u001B[2m2023-08-02T08:21:06.336202Z\u001B[0m \u001B[32m INFO\u001B[0m \u001B[2mtest\u001B[0m\u001B[2m:\u001B[0m input=Identifier(\"ej2L3rDy89zFfMhMzWBnqUy0Z8ACM7\")\r\n",
      "\u001B[2m2023-08-02T08:21:06.336287Z\u001B[0m \u001B[32m INFO\u001B[0m \u001B[2mtest\u001B[0m\u001B[2m:\u001B[0m input=Identifier(\"tOuA81Y73HL7P2mNEB7S3CRTN3hpt8qbt\")\r\n",
      "\u001B[2m2023-08-02T08:21:06.336370Z\u001B[0m \u001B[32m INFO\u001B[0m \u001B[2mtest\u001B[0m\u001B[2m:\u001B[0m input=StringLiteral(\"0]T:1%?WV*:/`RN\")\r\n",
      "\u001B[2m2023-08-02T08:21:06.336407Z\u001B[0m \u001B[32m INFO\u001B[0m \u001B[2mtest\u001B[0m\u001B[2m:\u001B[0m input=Integer(7805028200858356063)\r\n",
      "\u001B[2m2023-08-02T08:21:06.336458Z\u001B[0m \u001B[32m INFO\u001B[0m \u001B[2mtest\u001B[0m\u001B[2m:\u001B[0m input=Operator(\"=\")\r\n",
      "\u001B[2m2023-08-02T08:21:06.336573Z\u001B[0m \u001B[32m INFO\u001B[0m \u001B[2mtest\u001B[0m\u001B[2m:\u001B[0m input=Comment(\"<`kQE*N/!3.<.yF;\")\r\n",
      "\u001B[2m2023-08-02T08:21:06.336617Z\u001B[0m \u001B[32m INFO\u001B[0m \u001B[2mtest\u001B[0m\u001B[2m:\u001B[0m input=StringLiteral(\"w>|$A\")\r\n",
      "\u001B[2m2023-08-02T08:21:06.336651Z\u001B[0m \u001B[32m INFO\u001B[0m \u001B[2mtest\u001B[0m\u001B[2m:\u001B[0m input=Comment(\"\\\"eu!k$:jzo<'!i`\\\\q%G\\\".:k\\\"y _{.f\\\\\")\r\n",
      "\u001B[2m2023-08-02T08:21:06.336681Z\u001B[0m \u001B[32m INFO\u001B[0m \u001B[2mtest\u001B[0m\u001B[2m:\u001B[0m input=Comment(\"+F\\\\/dutVS~1':&Uu\")\r\n",
      "\u001B[2m2023-08-02T08:21:06.336708Z\u001B[0m \u001B[32m INFO\u001B[0m \u001B[2mtest\u001B[0m\u001B[2m:\u001B[0m input=Identifier(\"f1bjh4ebH3gL790\")\r\n",
      "\u001B[2m2023-08-02T08:21:06.336741Z\u001B[0m \u001B[32m INFO\u001B[0m \u001B[2mtest\u001B[0m\u001B[2m:\u001B[0m input=Identifier(\"WA\")\r\n",
      "\u001B[2m2023-08-02T08:21:06.336779Z\u001B[0m \u001B[32m INFO\u001B[0m \u001B[2mtest\u001B[0m\u001B[2m:\u001B[0m input=StringLiteral(\"_C,(&2/1$>@B#)$^U24-y)3Dn)``@\")\r\n",
      "\u001B[2m2023-08-02T08:21:06.336803Z\u001B[0m \u001B[32m INFO\u001B[0m \u001B[2mtest\u001B[0m\u001B[2m:\u001B[0m input=StringLiteral(\")3_3M:V\")\r\n",
      "\u001B[2m2023-08-02T08:21:06.336831Z\u001B[0m \u001B[32m INFO\u001B[0m \u001B[2mtest\u001B[0m\u001B[2m:\u001B[0m input=Integer(3311413628843271717)\r\n",
      "\u001B[2m2023-08-02T08:21:06.336848Z\u001B[0m \u001B[32m INFO\u001B[0m \u001B[2mtest\u001B[0m\u001B[2m:\u001B[0m input=Integer(3417199589299772845)\r\n",
      "\u001B[2m2023-08-02T08:21:06.336865Z\u001B[0m \u001B[32m INFO\u001B[0m \u001B[2mtest\u001B[0m\u001B[2m:\u001B[0m input=Integer(2277012170471248024)\r\n",
      "\u001B[2m2023-08-02T08:21:06.336885Z\u001B[0m \u001B[32m INFO\u001B[0m \u001B[2mtest\u001B[0m\u001B[2m:\u001B[0m input=Operator(\"+\")\r\n",
      "\u001B[2m2023-08-02T08:21:06.336940Z\u001B[0m \u001B[32m INFO\u001B[0m \u001B[2mtest\u001B[0m\u001B[2m:\u001B[0m input=Identifier(\"bS87kBDUdRF4q64CG9wxA0q93w95ICo9c\")\r\n",
      "\u001B[2m2023-08-02T08:21:06.336971Z\u001B[0m \u001B[32m INFO\u001B[0m \u001B[2mtest\u001B[0m\u001B[2m:\u001B[0m input=StringLiteral(\"&~R.<R\")\r\n",
      "\u001B[2m2023-08-02T08:21:06.337034Z\u001B[0m \u001B[32m INFO\u001B[0m \u001B[2mtest\u001B[0m\u001B[2m:\u001B[0m input=StringLiteral(\"'gT8>@1YVxr-U]$P\")\r\n",
      "\u001B[2m2023-08-02T08:21:06.337123Z\u001B[0m \u001B[32m INFO\u001B[0m \u001B[2mtest\u001B[0m\u001B[2m:\u001B[0m input=Identifier(\"A9iiC\")\r\n",
      "\u001B[2m2023-08-02T08:21:06.337202Z\u001B[0m \u001B[32m INFO\u001B[0m \u001B[2mtest\u001B[0m\u001B[2m:\u001B[0m input=Identifier(\"Vmggd1u5a5Ui30Ibi321BjZvM80\")\r\n",
      "\u001B[2m2023-08-02T08:21:06.337376Z\u001B[0m \u001B[32m INFO\u001B[0m \u001B[2mtest\u001B[0m\u001B[2m:\u001B[0m input=Comment(\"*r0?'w$!cY:+w_<ol,d`&'b%'kO$c/*H\")\r\n",
      "\u001B[2m2023-08-02T08:21:06.337428Z\u001B[0m \u001B[32m INFO\u001B[0m \u001B[2mtest\u001B[0m\u001B[2m:\u001B[0m input=Operator(\")\")\r\n",
      "\u001B[2m2023-08-02T08:21:06.337450Z\u001B[0m \u001B[32m INFO\u001B[0m \u001B[2mtest\u001B[0m\u001B[2m:\u001B[0m input=Integer(-6770884145571921054)\r\n",
      "\u001B[2m2023-08-02T08:21:06.337480Z\u001B[0m \u001B[32m INFO\u001B[0m \u001B[2mtest\u001B[0m\u001B[2m:\u001B[0m input=Identifier(\"T0JOSghL\")\r\n",
      "\u001B[2m2023-08-02T08:21:06.337498Z\u001B[0m \u001B[32m INFO\u001B[0m \u001B[2mtest\u001B[0m\u001B[2m:\u001B[0m input=Integer(6189603683417712902)\r\n",
      "\u001B[2m2023-08-02T08:21:06.337544Z\u001B[0m \u001B[32m INFO\u001B[0m \u001B[2mtest\u001B[0m\u001B[2m:\u001B[0m input=Identifier(\"ZMKpC526qQm0ATPyV0JVnNt685\")\r\n",
      "\u001B[2m2023-08-02T08:21:06.337572Z\u001B[0m \u001B[32m INFO\u001B[0m \u001B[2mtest\u001B[0m\u001B[2m:\u001B[0m input=Operator(\"(\")\r\n",
      "\u001B[2m2023-08-02T08:21:06.337593Z\u001B[0m \u001B[32m INFO\u001B[0m \u001B[2mtest\u001B[0m\u001B[2m:\u001B[0m input=Operator(\"(\")\r\n",
      "\u001B[2m2023-08-02T08:21:06.337623Z\u001B[0m \u001B[32m INFO\u001B[0m \u001B[2mtest\u001B[0m\u001B[2m:\u001B[0m input=Integer(-9082271931933776982)\r\n",
      "\u001B[2m2023-08-02T08:21:06.337643Z\u001B[0m \u001B[32m INFO\u001B[0m \u001B[2mtest\u001B[0m\u001B[2m:\u001B[0m input=Operator(\"/\")\r\n",
      "\u001B[2m2023-08-02T08:21:06.337677Z\u001B[0m \u001B[32m INFO\u001B[0m \u001B[2mtest\u001B[0m\u001B[2m:\u001B[0m input=Comment(\"m4-..)[%&{y%hn.$&.5C3=6`'&j@*u\\\"U\")\r\n",
      "\u001B[2m2023-08-02T08:21:06.337700Z\u001B[0m \u001B[32m INFO\u001B[0m \u001B[2mtest\u001B[0m\u001B[2m:\u001B[0m input=Operator(\"*\")\r\n",
      "\u001B[2m2023-08-02T08:21:06.337730Z\u001B[0m \u001B[32m INFO\u001B[0m \u001B[2mtest\u001B[0m\u001B[2m:\u001B[0m input=Integer(2995805221585240821)\r\n",
      "\u001B[2m2023-08-02T08:21:06.337769Z\u001B[0m \u001B[32m INFO\u001B[0m \u001B[2mtest\u001B[0m\u001B[2m:\u001B[0m input=StringLiteral(\"nf_T0\")\r\n",
      "\u001B[2m2023-08-02T08:21:06.337792Z\u001B[0m \u001B[32m INFO\u001B[0m \u001B[2mtest\u001B[0m\u001B[2m:\u001B[0m input=StringLiteral(\"8}X<M\")\r\n",
      "\u001B[2m2023-08-02T08:21:06.337824Z\u001B[0m \u001B[32m INFO\u001B[0m \u001B[2mtest\u001B[0m\u001B[2m:\u001B[0m input=Identifier(\"CVXvF\")\r\n",
      "\u001B[2m2023-08-02T08:21:06.337858Z\u001B[0m \u001B[32m INFO\u001B[0m \u001B[2mtest\u001B[0m\u001B[2m:\u001B[0m input=Comment(\"W0Xg<.]tt?|Fx-E,4J}ssIH\")\r\n",
      "\u001B[2m2023-08-02T08:21:06.337894Z\u001B[0m \u001B[32m INFO\u001B[0m \u001B[2mtest\u001B[0m\u001B[2m:\u001B[0m input=Integer(7399681802027772730)\r\n",
      "\u001B[2m2023-08-02T08:21:06.337918Z\u001B[0m \u001B[32m INFO\u001B[0m \u001B[2mtest\u001B[0m\u001B[2m:\u001B[0m input=Operator(\"*\")\r\n",
      "\u001B[2m2023-08-02T08:21:06.337939Z\u001B[0m \u001B[32m INFO\u001B[0m \u001B[2mtest\u001B[0m\u001B[2m:\u001B[0m input=Integer(-4609244702385195299)\r\n",
      "\u001B[2m2023-08-02T08:21:06.337978Z\u001B[0m \u001B[32m INFO\u001B[0m \u001B[2mtest\u001B[0m\u001B[2m:\u001B[0m input=Comment(\":l*`M2W6}UtWg5<F0:\")\r\n",
      "\u001B[2m2023-08-02T08:21:06.338065Z\u001B[0m \u001B[32m INFO\u001B[0m \u001B[2mtest\u001B[0m\u001B[2m:\u001B[0m input=Operator(\"(\")\r\n",
      "\u001B[2m2023-08-02T08:21:06.338093Z\u001B[0m \u001B[32m INFO\u001B[0m \u001B[2mtest\u001B[0m\u001B[2m:\u001B[0m input=Integer(5329867287643565101)\r\n",
      "\u001B[2m2023-08-02T08:21:06.338149Z\u001B[0m \u001B[32m INFO\u001B[0m \u001B[2mtest\u001B[0m\u001B[2m:\u001B[0m input=StringLiteral(\"~xxB{wlt!Gu~u{0x:n >{\")\r\n",
      "\u001B[2m2023-08-02T08:21:06.338174Z\u001B[0m \u001B[32m INFO\u001B[0m \u001B[2mtest\u001B[0m\u001B[2m:\u001B[0m input=StringLiteral(\"('%]\")\r\n",
      "\u001B[2m2023-08-02T08:21:06.338202Z\u001B[0m \u001B[32m INFO\u001B[0m \u001B[2mtest\u001B[0m\u001B[2m:\u001B[0m input=Identifier(\"Bk95FtA0XlmZLcfrbsPdh\")\r\n",
      "\u001B[2m2023-08-02T08:21:06.338221Z\u001B[0m \u001B[32m INFO\u001B[0m \u001B[2mtest\u001B[0m\u001B[2m:\u001B[0m input=Integer(-2443711477258014749)\r\n",
      "\u001B[2m2023-08-02T08:21:06.338284Z\u001B[0m \u001B[32m INFO\u001B[0m \u001B[2mtest\u001B[0m\u001B[2m:\u001B[0m input=Identifier(\"rF591snzG6ERcrKtX4biuC1dNXz4\")\r\n",
      "\u001B[2m2023-08-02T08:21:06.338311Z\u001B[0m \u001B[32m INFO\u001B[0m \u001B[2mtest\u001B[0m\u001B[2m:\u001B[0m input=Comment(\"g$u)`&y4M$\")\r\n",
      "\u001B[2m2023-08-02T08:21:06.338350Z\u001B[0m \u001B[32m INFO\u001B[0m \u001B[2mtest\u001B[0m\u001B[2m:\u001B[0m input=Identifier(\"mF5pRv8IaxCtg4CYkt3U472y2FI\")\r\n",
      "\u001B[2m2023-08-02T08:21:06.338393Z\u001B[0m \u001B[32m INFO\u001B[0m \u001B[2mtest\u001B[0m\u001B[2m:\u001B[0m input=Integer(-9198039382490013059)\r\n",
      "\u001B[2m2023-08-02T08:21:06.338433Z\u001B[0m \u001B[32m INFO\u001B[0m \u001B[2mtest\u001B[0m\u001B[2m:\u001B[0m input=Integer(3764782760230341577)\r\n",
      "\u001B[2m2023-08-02T08:21:06.338477Z\u001B[0m \u001B[32m INFO\u001B[0m \u001B[2mtest\u001B[0m\u001B[2m:\u001B[0m input=StringLiteral(\"dx6wwd`*mK&5^?.z;/7\")\r\n",
      "\u001B[2m2023-08-02T08:21:06.338533Z\u001B[0m \u001B[32m INFO\u001B[0m \u001B[2mtest\u001B[0m\u001B[2m:\u001B[0m input=Operator(\"*\")\r\n",
      "\u001B[2m2023-08-02T08:21:06.338568Z\u001B[0m \u001B[32m INFO\u001B[0m \u001B[2mtest\u001B[0m\u001B[2m:\u001B[0m input=StringLiteral(\"\")\r\n",
      "\u001B[2m2023-08-02T08:21:06.338652Z\u001B[0m \u001B[32m INFO\u001B[0m \u001B[2mtest\u001B[0m\u001B[2m:\u001B[0m input=Comment(\"&$>T!&w.><w/K01J8':\\\\CbYX\\\"?{3\")\r\n",
      "\u001B[2m2023-08-02T08:21:06.338775Z\u001B[0m \u001B[32m INFO\u001B[0m \u001B[2mtest\u001B[0m\u001B[2m:\u001B[0m input=Operator(\"*\")\r\n",
      "\u001B[2m2023-08-02T08:21:06.338830Z\u001B[0m \u001B[32m INFO\u001B[0m \u001B[2mtest\u001B[0m\u001B[2m:\u001B[0m input=Operator(\"+\")\r\n",
      "\u001B[2m2023-08-02T08:21:06.338889Z\u001B[0m \u001B[32m INFO\u001B[0m \u001B[2mtest\u001B[0m\u001B[2m:\u001B[0m input=Comment(\"ndF%LFESW{x2?a?^b]Md]`8.9^\")\r\n",
      "\u001B[2m2023-08-02T08:21:06.338952Z\u001B[0m \u001B[32m INFO\u001B[0m \u001B[2mtest\u001B[0m\u001B[2m:\u001B[0m input=StringLiteral(\"wiAJ.3S%xG-s\")\r\n",
      "\u001B[2m2023-08-02T08:21:06.339005Z\u001B[0m \u001B[32m INFO\u001B[0m \u001B[2mtest\u001B[0m\u001B[2m:\u001B[0m input=Identifier(\"iW2Q\")\r\n",
      "\u001B[2m2023-08-02T08:21:06.339068Z\u001B[0m \u001B[32m INFO\u001B[0m \u001B[2mtest\u001B[0m\u001B[2m:\u001B[0m input=StringLiteral(\"w]!6*$4M{\")\r\n",
      "\u001B[2m2023-08-02T08:21:06.339124Z\u001B[0m \u001B[32m INFO\u001B[0m \u001B[2mtest\u001B[0m\u001B[2m:\u001B[0m input=StringLiteral(\"b9*wENw$g-.,{yG?\")\r\n",
      "\u001B[2m2023-08-02T08:21:06.339178Z\u001B[0m \u001B[32m INFO\u001B[0m \u001B[2mtest\u001B[0m\u001B[2m:\u001B[0m input=Integer(3684690362270679871)\r\n",
      "\u001B[2m2023-08-02T08:21:06.339267Z\u001B[0m \u001B[32m INFO\u001B[0m \u001B[2mtest\u001B[0m\u001B[2m:\u001B[0m input=Comment(\"q=ba:[h:<&X@-w`b\\\"8bd:\")\r\n",
      "\u001B[2m2023-08-02T08:21:06.339378Z\u001B[0m \u001B[32m INFO\u001B[0m \u001B[2mtest\u001B[0m\u001B[2m:\u001B[0m input=Identifier(\"mn1ajZRv8rSdp504AOXXfI6NSM1\")\r\n",
      "\u001B[2m2023-08-02T08:21:06.339441Z\u001B[0m \u001B[32m INFO\u001B[0m \u001B[2mtest\u001B[0m\u001B[2m:\u001B[0m input=StringLiteral(\"[iUds{.'A<\")\r\n",
      "\u001B[2m2023-08-02T08:21:06.339476Z\u001B[0m \u001B[32m INFO\u001B[0m \u001B[2mtest\u001B[0m\u001B[2m:\u001B[0m input=Integer(-8078997717456215229)\r\n",
      "\u001B[2m2023-08-02T08:21:06.339544Z\u001B[0m \u001B[32m INFO\u001B[0m \u001B[2mtest\u001B[0m\u001B[2m:\u001B[0m input=StringLiteral(\"R~+5%2]'Fsh`/_ _\")\r\n",
      "\u001B[2m2023-08-02T08:21:06.339588Z\u001B[0m \u001B[32m INFO\u001B[0m \u001B[2mtest\u001B[0m\u001B[2m:\u001B[0m input=Operator(\"=\")\r\n",
      "\u001B[2m2023-08-02T08:21:06.339610Z\u001B[0m \u001B[32m INFO\u001B[0m \u001B[2mtest\u001B[0m\u001B[2m:\u001B[0m input=Identifier(\"x\")\r\n",
      "\u001B[2m2023-08-02T08:21:06.339628Z\u001B[0m \u001B[32m INFO\u001B[0m \u001B[2mtest\u001B[0m\u001B[2m:\u001B[0m input=Integer(-2491507905786007494)\r\n",
      "\u001B[2m2023-08-02T08:21:06.339683Z\u001B[0m \u001B[32m INFO\u001B[0m \u001B[2mtest\u001B[0m\u001B[2m:\u001B[0m input=Comment(\"%W'zWQ{`Sd2#ks_h3\")\r\n",
      "\u001B[2m2023-08-02T08:21:06.339815Z\u001B[0m \u001B[32m INFO\u001B[0m \u001B[2mtest\u001B[0m\u001B[2m:\u001B[0m input=Comment(\"&4Yk*YD{.\")\r\n",
      "\u001B[2m2023-08-02T08:21:06.339881Z\u001B[0m \u001B[32m INFO\u001B[0m \u001B[2mtest\u001B[0m\u001B[2m:\u001B[0m input=StringLiteral(\".R|.t'{;/_%-Y\")\r\n",
      "\u001B[2m2023-08-02T08:21:06.339903Z\u001B[0m \u001B[32m INFO\u001B[0m \u001B[2mtest\u001B[0m\u001B[2m:\u001B[0m input=Integer(-3178191039327616285)\r\n",
      "\u001B[2m2023-08-02T08:21:06.339932Z\u001B[0m \u001B[32m INFO\u001B[0m \u001B[2mtest\u001B[0m\u001B[2m:\u001B[0m input=Comment(\"ld?K/bg&C<ms9*42<.D~=\")\r\n",
      "\u001B[2m2023-08-02T08:21:06.339982Z\u001B[0m \u001B[32m INFO\u001B[0m \u001B[2mtest\u001B[0m\u001B[2m:\u001B[0m input=StringLiteral(\"'3h/'f[\")\r\n",
      "\u001B[2m2023-08-02T08:21:06.340011Z\u001B[0m \u001B[32m INFO\u001B[0m \u001B[2mtest\u001B[0m\u001B[2m:\u001B[0m input=Comment(\"%;9=B?*AA>{?$@v!$S;\")\r\n",
      "\u001B[2m2023-08-02T08:21:06.340046Z\u001B[0m \u001B[32m INFO\u001B[0m \u001B[2mtest\u001B[0m\u001B[2m:\u001B[0m input=Comment(\"D:an&=@\\\\>+`~jM.OV[\\\"!5$\\\"jz\")\r\n",
      "\u001B[2m2023-08-02T08:21:06.340085Z\u001B[0m \u001B[32m INFO\u001B[0m \u001B[2mtest\u001B[0m\u001B[2m:\u001B[0m input=Operator(\")\")\r\n",
      "\u001B[2m2023-08-02T08:21:06.340111Z\u001B[0m \u001B[32m INFO\u001B[0m \u001B[2mtest\u001B[0m\u001B[2m:\u001B[0m input=StringLiteral(\"/F+).lwD.=\")\r\n",
      "\u001B[2m2023-08-02T08:21:06.340131Z\u001B[0m \u001B[32m INFO\u001B[0m \u001B[2mtest\u001B[0m\u001B[2m:\u001B[0m input=Integer(8810229771184740814)\r\n",
      "\u001B[2m2023-08-02T08:21:06.340159Z\u001B[0m \u001B[32m INFO\u001B[0m \u001B[2mtest\u001B[0m\u001B[2m:\u001B[0m input=Comment(\"/..(''4{uH`sk&EB\\\"`|`P\")\r\n",
      "\u001B[2m2023-08-02T08:21:06.340194Z\u001B[0m \u001B[32m INFO\u001B[0m \u001B[2mtest\u001B[0m\u001B[2m:\u001B[0m input=StringLiteral(\"a;\")\r\n",
      "\u001B[2m2023-08-02T08:21:06.340216Z\u001B[0m \u001B[32m INFO\u001B[0m \u001B[2mtest\u001B[0m\u001B[2m:\u001B[0m input=Comment(\":H\")\r\n",
      "\u001B[2m2023-08-02T08:21:06.340242Z\u001B[0m \u001B[32m INFO\u001B[0m \u001B[2mtest\u001B[0m\u001B[2m:\u001B[0m input=Operator(\"+\")\r\n",
      "\u001B[2m2023-08-02T08:21:06.340275Z\u001B[0m \u001B[32m INFO\u001B[0m \u001B[2mtest\u001B[0m\u001B[2m:\u001B[0m input=StringLiteral(\"xz!X/.|(W0#T.Oce|S?@|g1\")\r\n",
      "\u001B[2m2023-08-02T08:21:06.340310Z\u001B[0m \u001B[32m INFO\u001B[0m \u001B[2mtest\u001B[0m\u001B[2m:\u001B[0m input=Integer(3010636227523926096)\r\n",
      "\u001B[2m2023-08-02T08:21:06.340378Z\u001B[0m \u001B[32m INFO\u001B[0m \u001B[2mtest\u001B[0m\u001B[2m:\u001B[0m input=Comment(\"\\\"?Qr\")\r\n",
      "\u001B[2m2023-08-02T08:21:06.340466Z\u001B[0m \u001B[32m INFO\u001B[0m \u001B[2mtest\u001B[0m\u001B[2m:\u001B[0m input=Comment(\"l\\\\D'_V$=Qc`[hh{O:l\")\r\n",
      "\u001B[2m2023-08-02T08:21:06.340535Z\u001B[0m \u001B[32m INFO\u001B[0m \u001B[2mtest\u001B[0m\u001B[2m:\u001B[0m input=Identifier(\"CZteaQZxrP6g4F7QuX8mimkosMM\")\r\n",
      "\u001B[2m2023-08-02T08:21:06.340595Z\u001B[0m \u001B[32m INFO\u001B[0m \u001B[2mtest\u001B[0m\u001B[2m:\u001B[0m input=Identifier(\"Iln0p9V2yPHZWUaIWaTon\")\r\n",
      "\u001B[2m2023-08-02T08:21:06.340636Z\u001B[0m \u001B[32m INFO\u001B[0m \u001B[2mtest\u001B[0m\u001B[2m:\u001B[0m input=StringLiteral(\"$>0>U</%//k)OBbk8'roR@`22'i{t\")\r\n",
      "\u001B[2m2023-08-02T08:21:06.340664Z\u001B[0m \u001B[32m INFO\u001B[0m \u001B[2mtest\u001B[0m\u001B[2m:\u001B[0m input=StringLiteral(\"3D.%Z`Q`;:j.`-\")\r\n",
      "\u001B[2m2023-08-02T08:21:06.340706Z\u001B[0m \u001B[32m INFO\u001B[0m \u001B[2mtest\u001B[0m\u001B[2m:\u001B[0m input=Identifier(\"LI2ARR5p6Olb2hhZHG1\")\r\n",
      "\u001B[2m2023-08-02T08:21:06.340738Z\u001B[0m \u001B[32m INFO\u001B[0m \u001B[2mtest\u001B[0m\u001B[2m:\u001B[0m input=StringLiteral(\"{8eIE.&EuA\")\r\n",
      "\u001B[2m2023-08-02T08:21:06.340769Z\u001B[0m \u001B[32m INFO\u001B[0m \u001B[2mtest\u001B[0m\u001B[2m:\u001B[0m input=StringLiteral(\"1Pg*`@.[*<,C*$>9'=%%bv{`[\")\r\n",
      "\u001B[2m2023-08-02T08:21:06.340805Z\u001B[0m \u001B[32m INFO\u001B[0m \u001B[2mtest\u001B[0m\u001B[2m:\u001B[0m input=Integer(-546628228865066219)\r\n",
      "\u001B[2m2023-08-02T08:21:06.340826Z\u001B[0m \u001B[32m INFO\u001B[0m \u001B[2mtest\u001B[0m\u001B[2m:\u001B[0m input=Operator(\"-\")\r\n",
      "\u001B[2m2023-08-02T08:21:06.340847Z\u001B[0m \u001B[32m INFO\u001B[0m \u001B[2mtest\u001B[0m\u001B[2m:\u001B[0m input=Operator(\"(\")\r\n",
      "\u001B[2m2023-08-02T08:21:06.340874Z\u001B[0m \u001B[32m INFO\u001B[0m \u001B[2mtest\u001B[0m\u001B[2m:\u001B[0m input=StringLiteral(\"?='XF\")\r\n",
      "\u001B[2m2023-08-02T08:21:06.340923Z\u001B[0m \u001B[32m INFO\u001B[0m \u001B[2mtest\u001B[0m\u001B[2m:\u001B[0m input=Comment(\"?`=~ e5'|6\")\r\n",
      "\u001B[2m2023-08-02T08:21:06.340947Z\u001B[0m \u001B[32m INFO\u001B[0m \u001B[2mtest\u001B[0m\u001B[2m:\u001B[0m input=Identifier(\"ay6yzv\")\r\n",
      "\u001B[2m2023-08-02T08:21:06.340986Z\u001B[0m \u001B[32m INFO\u001B[0m \u001B[2mtest\u001B[0m\u001B[2m:\u001B[0m input=StringLiteral(\"$9$=4=`%$%y'/3s#hwZ1i<BF>B\")\r\n",
      "\u001B[2m2023-08-02T08:21:06.341030Z\u001B[0m \u001B[32m INFO\u001B[0m \u001B[2mtest\u001B[0m\u001B[2m:\u001B[0m input=Identifier(\"X48MF29KIIZ43tSLM3\")\r\n",
      "\u001B[2m2023-08-02T08:21:06.341053Z\u001B[0m \u001B[32m INFO\u001B[0m \u001B[2mtest\u001B[0m\u001B[2m:\u001B[0m input=Identifier(\"wGGj6\")\r\n",
      "\u001B[2m2023-08-02T08:21:06.341073Z\u001B[0m \u001B[32m INFO\u001B[0m \u001B[2mtest\u001B[0m\u001B[2m:\u001B[0m input=Integer(-5710274980753606755)\r\n",
      "\u001B[2m2023-08-02T08:21:06.341099Z\u001B[0m \u001B[32m INFO\u001B[0m \u001B[2mtest\u001B[0m\u001B[2m:\u001B[0m input=Identifier(\"SFeyKhaB4T3B2T2zRQMY\")\r\n",
      "\u001B[2m2023-08-02T08:21:06.341135Z\u001B[0m \u001B[32m INFO\u001B[0m \u001B[2mtest\u001B[0m\u001B[2m:\u001B[0m input=Comment(\"`$\")\r\n",
      "\u001B[2m2023-08-02T08:21:06.341154Z\u001B[0m \u001B[32m INFO\u001B[0m \u001B[2mtest\u001B[0m\u001B[2m:\u001B[0m input=Integer(-5371337347937705020)\r\n",
      "\u001B[2m2023-08-02T08:21:06.341175Z\u001B[0m \u001B[32m INFO\u001B[0m \u001B[2mtest\u001B[0m\u001B[2m:\u001B[0m input=StringLiteral(\"q\")\r\n",
      "\u001B[2m2023-08-02T08:21:06.341198Z\u001B[0m \u001B[32m INFO\u001B[0m \u001B[2mtest\u001B[0m\u001B[2m:\u001B[0m input=Operator(\"=\")\r\n",
      "\u001B[2m2023-08-02T08:21:06.341230Z\u001B[0m \u001B[32m INFO\u001B[0m \u001B[2mtest\u001B[0m\u001B[2m:\u001B[0m input=Integer(5933048298450587806)\r\n",
      "\u001B[2m2023-08-02T08:21:06.341263Z\u001B[0m \u001B[32m INFO\u001B[0m \u001B[2mtest\u001B[0m\u001B[2m:\u001B[0m input=StringLiteral(\"7$XP1-p;?`%=::V)?1_,0M\")\r\n",
      "\u001B[2m2023-08-02T08:21:06.341301Z\u001B[0m \u001B[32m INFO\u001B[0m \u001B[2mtest\u001B[0m\u001B[2m:\u001B[0m input=Comment(\"\\\\L{G?4.`I#D:< %B?zVx^<}?\")\r\n",
      "\u001B[2m2023-08-02T08:21:06.341343Z\u001B[0m \u001B[32m INFO\u001B[0m \u001B[2mtest\u001B[0m\u001B[2m:\u001B[0m input=Operator(\")\")\r\n",
      "\u001B[2m2023-08-02T08:21:06.341366Z\u001B[0m \u001B[32m INFO\u001B[0m \u001B[2mtest\u001B[0m\u001B[2m:\u001B[0m input=Operator(\")\")\r\n",
      "\u001B[2m2023-08-02T08:21:06.341387Z\u001B[0m \u001B[32m INFO\u001B[0m \u001B[2mtest\u001B[0m\u001B[2m:\u001B[0m input=Identifier(\"Mas\")\r\n",
      "\u001B[2m2023-08-02T08:21:06.341408Z\u001B[0m \u001B[32m INFO\u001B[0m \u001B[2mtest\u001B[0m\u001B[2m:\u001B[0m input=StringLiteral(\")6\")\r\n",
      "\u001B[2m2023-08-02T08:21:06.341469Z\u001B[0m \u001B[32m INFO\u001B[0m \u001B[2mtest\u001B[0m\u001B[2m:\u001B[0m input=Identifier(\"tV2z9YD\")\r\n",
      "\u001B[2m2023-08-02T08:21:06.341531Z\u001B[0m \u001B[32m INFO\u001B[0m \u001B[2mtest\u001B[0m\u001B[2m:\u001B[0m input=Operator(\"*\")\r\n",
      "\u001B[2m2023-08-02T08:21:06.341691Z\u001B[0m \u001B[32m INFO\u001B[0m \u001B[2mtest\u001B[0m\u001B[2m:\u001B[0m input=Integer(951074672663097806)\r\n",
      "\u001B[2m2023-08-02T08:21:06.341737Z\u001B[0m \u001B[32m INFO\u001B[0m \u001B[2mtest\u001B[0m\u001B[2m:\u001B[0m input=Integer(-3734160106540732263)\r\n",
      "\u001B[2m2023-08-02T08:21:06.341763Z\u001B[0m \u001B[32m INFO\u001B[0m \u001B[2mtest\u001B[0m\u001B[2m:\u001B[0m input=Operator(\"-\")\r\n",
      "\u001B[2m2023-08-02T08:21:06.341788Z\u001B[0m \u001B[32m INFO\u001B[0m \u001B[2mtest\u001B[0m\u001B[2m:\u001B[0m input=Identifier(\"h4B1yXb6K\")\r\n",
      "\u001B[2m2023-08-02T08:21:06.341814Z\u001B[0m \u001B[32m INFO\u001B[0m \u001B[2mtest\u001B[0m\u001B[2m:\u001B[0m input=StringLiteral(\"*?DRU:\")\r\n",
      "\u001B[2m2023-08-02T08:21:06.341850Z\u001B[0m \u001B[32m INFO\u001B[0m \u001B[2mtest\u001B[0m\u001B[2m:\u001B[0m input=Integer(4788066797269630171)\r\n",
      "\u001B[2m2023-08-02T08:21:06.341874Z\u001B[0m \u001B[32m INFO\u001B[0m \u001B[2mtest\u001B[0m\u001B[2m:\u001B[0m input=Comment(\"1=io`w=w\")\r\n",
      "\u001B[2m2023-08-02T08:21:06.341909Z\u001B[0m \u001B[32m INFO\u001B[0m \u001B[2mtest\u001B[0m\u001B[2m:\u001B[0m input=StringLiteral(\":p*W*W/V{'CmztCQi&*<Rc|\")\r\n",
      "\u001B[2m2023-08-02T08:21:06.341947Z\u001B[0m \u001B[32m INFO\u001B[0m \u001B[2mtest\u001B[0m\u001B[2m:\u001B[0m input=Integer(3470339001810506777)\r\n",
      "\u001B[2m2023-08-02T08:21:06.341977Z\u001B[0m \u001B[32m INFO\u001B[0m \u001B[2mtest\u001B[0m\u001B[2m:\u001B[0m input=Comment(\"R4o=lp<&P=6a`v/b]4\")\r\n",
      "\u001B[2m2023-08-02T08:21:06.341998Z\u001B[0m \u001B[32m INFO\u001B[0m \u001B[2mtest\u001B[0m\u001B[2m:\u001B[0m input=Integer(3968401181319114164)\r\n",
      "\u001B[2m2023-08-02T08:21:06.342023Z\u001B[0m \u001B[32m INFO\u001B[0m \u001B[2mtest\u001B[0m\u001B[2m:\u001B[0m input=Comment(\"*:=T(_8G4Ul\")\r\n",
      "test prop_parse_format_idempotent ... ok\r\n",
      "test adding_and_then_removing_an_item_from_the_cart_leaves_the_cart_unchanged ... ok\r\n",
      "\r\n",
      "test result: ok. 3 passed; 0 failed; 0 ignored; 0 measured; 0 filtered out; finished in 0.14s\r\n",
      "\r\n"
     ]
    }
   ],
   "source": [
    "$env:RUST_LOG=\"info\"\n",
    "{ cargo test --release } | Invoke-Block"
   ]
  },
  {
   "cell_type": "code",
   "execution_count": null,
   "metadata": {
    "dotnet_interactive": {
     "language": "pwsh"
    },
    "polyglot_notebook": {
     "kernelName": "pwsh"
    }
   },
   "outputs": [
    {
     "name": "stdout",
     "output_type": "stream",
     "text": [
      "app=test\r\n"
     ]
    }
   ],
   "source": [
    "{ . $ScriptDir/../../target/release/test$(GetExecutableSuffix) } | Invoke-Block"
   ]
  }
 ],
 "metadata": {
  "kernelspec": {
   "display_name": ".NET (C#)",
   "language": "C#",
   "name": ".net-csharp"
  },
  "language_info": {
   "file_extension": ".cs",
   "mimetype": "text/x-csharp",
   "name": "C#",
   "pygments_lexer": "csharp",
   "version": "10.0"
  },
  "polyglot_notebook": {
   "defaultKernelName": "csharp",
   "items": [
    {
     "name": "csharp"
    }
   ]
  },
  "dotnet_interactive": {
   "defaultKernelName": "csharp",
   "items": [
    {
     "name": "csharp"
    }
   ]
  }
 },
 "nbformat": 4,
 "nbformat_minor": 5
}