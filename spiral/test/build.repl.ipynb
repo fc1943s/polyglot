{
 "cells": [
  {
   "cell_type": "code",
   "execution_count": null,
   "metadata": {
    "dotnet_interactive": {
     "language": "pwsh"
    },
    "polyglot_notebook": {
     "kernelName": "pwsh"
    }
   },
   "outputs": [],
   "source": [
    ". ../../scripts/nbs_header.ps1\n",
    ". ../../scripts/core.ps1"
   ]
  },
  {
   "cell_type": "code",
   "execution_count": null,
   "metadata": {
    "dotnet_interactive": {
     "language": "pwsh"
    },
    "polyglot_notebook": {
     "kernelName": "pwsh"
    }
   },
   "outputs": [
    {
     "name": "stdout",
     "output_type": "stream",
     "text": [
      "02:42:57 #1 [Debug] runWithTimeoutAsync / timeout: 60\r\n",
      "02:42:57 #2 [Debug] executeAsync / options: { Command =\r\n",
      "   \"dotnet \"C:\\home\\git\\polyglot\\deps\\The-Spiral-Language\\The Spiral Language 2\\artifacts\\bin\\The Spiral Language 2\\release\\Spiral.dll\" port=13805\"\r\n",
      "  WorkingDirectory = None\r\n",
      "  CancellationToken = None\r\n",
      "  OnLine = Some <fun:main@169-269> }\r\n",
      "02:42:58 #3 [Debug] > Server bound to: tcp://*:13805 & tcp://*:13806\r\n",
      "02:42:58 #4 [Debug] > pwd: C:\\home\\git\\polyglot\\spiral\\test\r\n",
      "02:42:58 #5 [Debug] > dll_path: C:\\home\\git\\polyglot\\deps\\The-Spiral-Language\\The Spiral Language 2\\artifacts\\bin\\The Spiral Language 2\\release\r\n",
      "02:42:58 #6 [Debug] sendJson / port: 13805 / json: {\"FileOpen\":{\"spiText\":\"inl app () =\\n    \\u0022test\\u0022 |\\u003E fsharp.console.write_line\\n    0i32\\n\\ninl main () =\\n    print_static \\u0022\\u003Ctest\\u003E\\u0022\\n\\n    app\\n    |\\u003E dyn\\n    |\\u003E ignore\\n\\n    print_static \\u0022\\u003C/test\\u003E\\u0022\\n\",\"uri\":\"file:///C:\\\\home\\\\git\\\\polyglot\\\\spiral\\\\test\\\\test.spi\"}} / result: []\r\n",
      "02:42:58 #7 [Debug] sendJson / port: 13805 / json: {\"BuildFile\":{\"backend\":\"Fsharp\",\"uri\":\"file:///C:\\\\home\\\\git\\\\polyglot\\\\spiral\\\\test\\\\test.spi\"}} / result: []\r\n",
      "02:42:58 #8 [Debug] > Building C:\\home\\git\\polyglot\\spiral\\test\\test.spi\r\n",
      "02:42:59 #9 [Debug] > <test>\r\n",
      "02:42:59 #10 [Debug] > </test>\r\n",
      "02:43:00 #11 [Debug] watchWithFilter / Disposing watch stream / fullPath: C:\\home\\git\\polyglot\\spiral\\test / filter: FileName, LastWrite\r\n"
     ]
    }
   ],
   "source": [
    "{ . ../../apps/spiral/target/bin/Release/net8.0/Supervisor$(GetExecutableSuffix) --buildfile test.spi test.fsx --timeout 5000 } | Invoke-Block"
   ]
  },
  {
   "cell_type": "code",
   "execution_count": null,
   "metadata": {
    "dotnet_interactive": {
     "language": "pwsh"
    },
    "polyglot_notebook": {
     "kernelName": "pwsh"
    }
   },
   "outputs": [
    {
     "name": "stdout",
     "output_type": "stream",
     "text": [
      "Fable 4.1.4: F# to Rust compiler (status: alpha)\r\n",
      "\r\n",
      "Thanks to the contributor! @devcrafting\r\n",
      "Stand with Ukraine! https://standwithukraine.com.ua/\r\n",
      "\r\n",
      "Parsing test.fsproj...\r\n",
      "Retrieving project options from cache, in case of issues run `dotnet fable clean` or try `--noCache` option.\r\n",
      "Project and references (1 source files) parsed in 276ms\r\n",
      "\r\n",
      "Started Fable compilation...\r\n",
      "Fable compilation finished in 1623ms\r\n",
      "\r\n",
      ".\\test.fsx(6,0): (6,2) warning FABLE: For Rust, support for F# static and module do bindings is disabled by default. It can be enabled with the 'static_do_bindings' feature. Use at your own risk!\r\n"
     ]
    }
   ],
   "source": [
    "dotnet fable --optimize --lang rs --extension .rs"
   ]
  },
  {
   "cell_type": "code",
   "execution_count": null,
   "metadata": {
    "dotnet_interactive": {
     "language": "pwsh"
    },
    "polyglot_notebook": {
     "kernelName": "pwsh"
    }
   },
   "outputs": [],
   "source": [
    "cargo fmt --"
   ]
  },
  {
   "cell_type": "code",
   "execution_count": null,
   "metadata": {
    "dotnet_interactive": {
     "language": "pwsh"
    },
    "polyglot_notebook": {
     "kernelName": "pwsh"
    }
   },
   "outputs": [
    {
     "name": "stdout",
     "output_type": "stream",
     "text": [
      "\u001B[31;1m   Compiling test v0.0.1 (C:\\home\\git\\polyglot\\spiral\\test)\u001B[0m\r\n",
      "\u001B[31;1mwarning: unused import: `info`\u001B[0m\r\n",
      "\u001B[31;1m   --> spiral\\test\\./main.rs:190:15\u001B[0m\r\n",
      "\u001B[31;1m    |\u001B[0m\r\n",
      "\u001B[31;1m190 | use tracing::{info, Level};\u001B[0m\r\n",
      "\u001B[31;1m    |               ^^^^\u001B[0m\r\n",
      "\u001B[31;1m    |\u001B[0m\r\n",
      "\u001B[31;1m    = note: `#[warn(unused_imports)]` on by default\u001B[0m\r\n",
      "\u001B[31;1m\u001B[0m\r\n",
      "\u001B[31;1mwarning: associated items `new`, `add_item`, and `remove_item` are never used\u001B[0m\r\n",
      "\u001B[31;1m  --> spiral\\test\\./main.rs:46:8\u001B[0m\r\n",
      "\u001B[31;1m   |\u001B[0m\r\n",
      "\u001B[31;1m45 | impl Cart {\u001B[0m\r\n",
      "\u001B[31;1m   | --------- associated items in this implementation\u001B[0m\r\n",
      "\u001B[31;1m46 |     fn new() -> Cart {\u001B[0m\r\n",
      "\u001B[31;1m   |        ^^^\u001B[0m\r\n",
      "\u001B[31;1m...\u001B[0m\r\n",
      "\u001B[31;1m50 |     fn add_item(&mut self, item: Item) {\u001B[0m\r\n",
      "\u001B[31;1m   |        ^^^^^^^^\u001B[0m\r\n",
      "\u001B[31;1m...\u001B[0m\r\n",
      "\u001B[31;1m56 |     fn remove_item(&mut self, item: &Item) {\u001B[0m\r\n",
      "\u001B[31;1m   |        ^^^^^^^^^^^\u001B[0m\r\n",
      "\u001B[31;1m   |\u001B[0m\r\n",
      "\u001B[31;1m   = note: `#[warn(dead_code)]` on by default\u001B[0m\r\n",
      "\u001B[31;1m\u001B[0m\r\n",
      "\u001B[31;1mwarning: function `parse_comment` is never used\u001B[0m\r\n",
      "\u001B[31;1m   --> spiral\\test\\./main.rs:124:4\u001B[0m\r\n",
      "\u001B[31;1m    |\u001B[0m\r\n",
      "\u001B[31;1m124 | fn parse_comment(input: &str) -> IResult<&str, SpiralToken> {\u001B[0m\r\n",
      "\u001B[31;1m    |    ^^^^^^^^^^^^^\u001B[0m\r\n",
      "\u001B[31;1m\u001B[0m\r\n",
      "\u001B[31;1mwarning: function `parse_string` is never used\u001B[0m\r\n",
      "\u001B[31;1m   --> spiral\\test\\./main.rs:130:4\u001B[0m\r\n",
      "\u001B[31;1m    |\u001B[0m\r\n",
      "\u001B[31;1m130 | fn parse_string(input: &str) -> IResult<&str, SpiralToken> {\u001B[0m\r\n",
      "\u001B[31;1m    |    ^^^^^^^^^^^^\u001B[0m\r\n",
      "\u001B[31;1m\u001B[0m\r\n",
      "\u001B[31;1mwarning: function `parse_identifier` is never used\u001B[0m\r\n",
      "\u001B[31;1m   --> spiral\\test\\./main.rs:145:4\u001B[0m\r\n",
      "\u001B[31;1m    |\u001B[0m\r\n",
      "\u001B[31;1m145 | fn parse_identifier(input: &str) -> IResult<&str, SpiralToken> {\u001B[0m\r\n",
      "\u001B[31;1m    |    ^^^^^^^^^^^^^^^^\u001B[0m\r\n",
      "\u001B[31;1m\u001B[0m\r\n",
      "\u001B[31;1mwarning: function `parse_integer` is never used\u001B[0m\r\n",
      "\u001B[31;1m   --> spiral\\test\\./main.rs:157:4\u001B[0m\r\n",
      "\u001B[31;1m    |\u001B[0m\r\n",
      "\u001B[31;1m157 | fn parse_integer(input: &str) -> IResult<&str, SpiralToken> {\u001B[0m\r\n",
      "\u001B[31;1m    |    ^^^^^^^^^^^^^\u001B[0m\r\n",
      "\u001B[31;1m\u001B[0m\r\n",
      "\u001B[31;1mwarning: function `parse_operator` is never used\u001B[0m\r\n",
      "\u001B[31;1m   --> spiral\\test\\./main.rs:165:4\u001B[0m\r\n",
      "\u001B[31;1m    |\u001B[0m\r\n",
      "\u001B[31;1m165 | fn parse_operator(input: &str) -> IResult<&str, SpiralToken> {\u001B[0m\r\n",
      "\u001B[31;1m    |    ^^^^^^^^^^^^^^\u001B[0m\r\n",
      "\u001B[31;1m\u001B[0m\r\n",
      "\u001B[31;1mwarning: function `parse_token` is never used\u001B[0m\r\n",
      "\u001B[31;1m   --> spiral\\test\\./main.rs:170:4\u001B[0m\r\n",
      "\u001B[31;1m    |\u001B[0m\r\n",
      "\u001B[31;1m170 | fn parse_token(input: &str) -> IResult<&str, SpiralToken> {\u001B[0m\r\n",
      "\u001B[31;1m    |    ^^^^^^^^^^^\u001B[0m\r\n",
      "\u001B[31;1m\u001B[0m\r\n",
      "\u001B[31;1mwarning: function `format_token` is never used\u001B[0m\r\n",
      "\u001B[31;1m   --> spiral\\test\\./main.rs:180:4\u001B[0m\r\n",
      "\u001B[31;1m    |\u001B[0m\r\n",
      "\u001B[31;1m180 | fn format_token(token: &SpiralToken) -> String {\u001B[0m\r\n",
      "\u001B[31;1m    |    ^^^^^^^^^^^^\u001B[0m\r\n",
      "\u001B[31;1m\u001B[0m\r\n",
      "\u001B[31;1mwarning: function `parse_expression` is never used\u001B[0m\r\n",
      "\u001B[31;1m   --> spiral\\test\\./main.rs:213:4\u001B[0m\r\n",
      "\u001B[31;1m    |\u001B[0m\r\n",
      "\u001B[31;1m213 | fn parse_expression(input: &str) -> IResult<&str, SpiralToken> {\u001B[0m\r\n",
      "\u001B[31;1m    |    ^^^^^^^^^^^^^^^^\u001B[0m\r\n",
      "\u001B[31;1m\u001B[0m\r\n",
      "\u001B[31;1mwarning: `test` (bin \"test\") generated 10 warnings (run `cargo fix --bin \"test\"` to apply 1 suggestion)\u001B[0m\r\n",
      "\u001B[31;1m    Finished release [optimized] target(s) in 4.09s\u001B[0m\r\n"
     ]
    }
   ],
   "source": [
    "cargo build --release"
   ]
  },
  {
   "cell_type": "code",
   "execution_count": null,
   "metadata": {
    "dotnet_interactive": {
     "language": "pwsh"
    },
    "polyglot_notebook": {
     "kernelName": "pwsh"
    }
   },
   "outputs": [
    {
     "name": "stdout",
     "output_type": "stream",
     "text": [
      "\u001B[31;1m   Compiling test v0.0.1 (C:\\home\\git\\polyglot\\spiral\\test)\u001B[0m\r\n",
      "\u001B[31;1m    Finished release [optimized] target(s) in 5.97s\u001B[0m\r\n",
      "\u001B[31;1m     Running unittests main.rs (C:\\home\\git\\polyglot\\target\\release\\deps\\test-38172e11e9fb5a54.exe)\u001B[0m\r\n",
      "\r\n",
      "running 3 tests\r\n",
      "test test_parse_number ... ok\r\n",
      "\u001B[2m2023-08-03T05:43:15.018677Z\u001B[0m \u001B[32m INFO\u001B[0m \u001B[2mtest\u001B[0m\u001B[2m:\u001B[0m input=Integer(7029018632412132626)\r\n",
      "\u001B[2m2023-08-03T05:43:15.018905Z\u001B[0m \u001B[32m INFO\u001B[0m \u001B[2mtest\u001B[0m\u001B[2m:\u001B[0m input=StringLiteral(\"X90HO2DCSTFG&\")\r\n",
      "\u001B[2m2023-08-03T05:43:15.019092Z\u001B[0m \u001B[32m INFO\u001B[0m \u001B[2mtest\u001B[0m\u001B[2m:\u001B[0m input=Identifier(\"bersij3YeZibqpp6BHLMrm\")\r\n",
      "\u001B[2m2023-08-03T05:43:15.019222Z\u001B[0m \u001B[32m INFO\u001B[0m \u001B[2mtest\u001B[0m\u001B[2m:\u001B[0m input=StringLiteral(\"j&Dk.k/%/`Q.eIK\")\r\n",
      "\u001B[2m2023-08-03T05:43:15.019300Z\u001B[0m \u001B[32m INFO\u001B[0m \u001B[2mtest\u001B[0m\u001B[2m:\u001B[0m input=Integer(498411414817384020)\r\n",
      "\u001B[2m2023-08-03T05:43:15.019357Z\u001B[0m \u001B[32m INFO\u001B[0m \u001B[2mtest\u001B[0m\u001B[2m:\u001B[0m input=Comment(\"!)0<',Q<\")\r\n",
      "\u001B[2m2023-08-03T05:43:15.019501Z\u001B[0m \u001B[32m INFO\u001B[0m \u001B[2mtest\u001B[0m\u001B[2m:\u001B[0m input=Operator(\"(\")\r\n",
      "\u001B[2m2023-08-03T05:43:15.019572Z\u001B[0m \u001B[32m INFO\u001B[0m \u001B[2mtest\u001B[0m\u001B[2m:\u001B[0m input=Operator(\"/\")\r\n",
      "\u001B[2m2023-08-03T05:43:15.019631Z\u001B[0m \u001B[32m INFO\u001B[0m \u001B[2mtest\u001B[0m\u001B[2m:\u001B[0m input=StringLiteral(\"?B!Kp&&n^3$W<?r1:rn56<=F=\")\r\n",
      "\u001B[2m2023-08-03T05:43:15.019816Z\u001B[0m \u001B[32m INFO\u001B[0m \u001B[2mtest\u001B[0m\u001B[2m:\u001B[0m input=Comment(\"vF$.,,C.V!BarR:g%j*'%p&R?\")\r\n",
      "\u001B[2m2023-08-03T05:43:15.019851Z\u001B[0m \u001B[32m INFO\u001B[0m \u001B[2mtest\u001B[0m\u001B[2m:\u001B[0m input=Integer(1277581569986271032)\r\n",
      "\u001B[2m2023-08-03T05:43:15.019875Z\u001B[0m \u001B[32m INFO\u001B[0m \u001B[2mtest\u001B[0m\u001B[2m:\u001B[0m input=Integer(-4797056376206902607)\r\n",
      "\u001B[2m2023-08-03T05:43:15.019918Z\u001B[0m \u001B[32m INFO\u001B[0m \u001B[2mtest\u001B[0m\u001B[2m:\u001B[0m input=StringLiteral(\";pK_r8*:=cr*l;z{D{p[\")\r\n",
      "\u001B[2m2023-08-03T05:43:15.019961Z\u001B[0m \u001B[32m INFO\u001B[0m \u001B[2mtest\u001B[0m\u001B[2m:\u001B[0m input=Comment(\"Hw\")\r\n",
      "\u001B[2m2023-08-03T05:43:15.019988Z\u001B[0m \u001B[32m INFO\u001B[0m \u001B[2mtest\u001B[0m\u001B[2m:\u001B[0m input=Operator(\")\")\r\n",
      "\u001B[2m2023-08-03T05:43:15.020018Z\u001B[0m \u001B[32m INFO\u001B[0m \u001B[2mtest\u001B[0m\u001B[2m:\u001B[0m input=Comment(\"'O/@/M0'~\")\r\n",
      "\u001B[2m2023-08-03T05:43:15.020043Z\u001B[0m \u001B[32m INFO\u001B[0m \u001B[2mtest\u001B[0m\u001B[2m:\u001B[0m input=StringLiteral(\"\")\r\n",
      "\u001B[2m2023-08-03T05:43:15.020104Z\u001B[0m \u001B[32m INFO\u001B[0m \u001B[2mtest\u001B[0m\u001B[2m:\u001B[0m input=Integer(6961900784561338875)\r\n",
      "\u001B[2m2023-08-03T05:43:15.020141Z\u001B[0m \u001B[32m INFO\u001B[0m \u001B[2mtest\u001B[0m\u001B[2m:\u001B[0m input=Identifier(\"AlmoeoCX8\")\r\n",
      "\u001B[2m2023-08-03T05:43:15.020181Z\u001B[0m \u001B[32m INFO\u001B[0m \u001B[2mtest\u001B[0m\u001B[2m:\u001B[0m input=Identifier(\"HEgJzlJ8wmFG9YSvOCZE66xG\")\r\n",
      "\u001B[2m2023-08-03T05:43:15.020234Z\u001B[0m \u001B[32m INFO\u001B[0m \u001B[2mtest\u001B[0m\u001B[2m:\u001B[0m input=Identifier(\"IBnPlAAKKsSX2N95KPfAZeFYo28AHpbU\")\r\n",
      "\u001B[2m2023-08-03T05:43:15.020276Z\u001B[0m \u001B[32m INFO\u001B[0m \u001B[2mtest\u001B[0m\u001B[2m:\u001B[0m input=StringLiteral(\";?D~0RJ76M+s7u''g/:=\")\r\n",
      "\u001B[2m2023-08-03T05:43:15.020413Z\u001B[0m \u001B[32m INFO\u001B[0m \u001B[2mtest\u001B[0m\u001B[2m:\u001B[0m input=Integer(6289370851726766411)\r\n",
      "\u001B[2m2023-08-03T05:43:15.020458Z\u001B[0m \u001B[32m INFO\u001B[0m \u001B[2mtest\u001B[0m\u001B[2m:\u001B[0m input=Operator(\"/\")\r\n",
      "\u001B[2m2023-08-03T05:43:15.020513Z\u001B[0m \u001B[32m INFO\u001B[0m \u001B[2mtest\u001B[0m\u001B[2m:\u001B[0m input=Comment(\".DlpnO?'*EXDe`?@?[\\\"FT\")\r\n",
      "\u001B[2m2023-08-03T05:43:15.020557Z\u001B[0m \u001B[32m INFO\u001B[0m \u001B[2mtest\u001B[0m\u001B[2m:\u001B[0m input=StringLiteral(\"=l+j=M\")\r\n",
      "\u001B[2m2023-08-03T05:43:15.020595Z\u001B[0m \u001B[32m INFO\u001B[0m \u001B[2mtest\u001B[0m\u001B[2m:\u001B[0m input=Identifier(\"uwiir6tZ\")\r\n",
      "\u001B[2m2023-08-03T05:43:15.020626Z\u001B[0m \u001B[32m INFO\u001B[0m \u001B[2mtest\u001B[0m\u001B[2m:\u001B[0m input=Integer(-5521587143513840536)\r\n",
      "\u001B[2m2023-08-03T05:43:15.020660Z\u001B[0m \u001B[32m INFO\u001B[0m \u001B[2mtest\u001B[0m\u001B[2m:\u001B[0m input=Identifier(\"p\")\r\n",
      "\u001B[2m2023-08-03T05:43:15.020706Z\u001B[0m \u001B[32m INFO\u001B[0m \u001B[2mtest\u001B[0m\u001B[2m:\u001B[0m input=Comment(\"s%o8g_:/TD,4\\\"YV*lK72W}\")\r\n",
      "\u001B[2m2023-08-03T05:43:15.020757Z\u001B[0m \u001B[32m INFO\u001B[0m \u001B[2mtest\u001B[0m\u001B[2m:\u001B[0m input=Operator(\"=\")\r\n",
      "\u001B[2m2023-08-03T05:43:15.020788Z\u001B[0m \u001B[32m INFO\u001B[0m \u001B[2mtest\u001B[0m\u001B[2m:\u001B[0m input=Integer(1378576566624074887)\r\n",
      "\u001B[2m2023-08-03T05:43:15.020815Z\u001B[0m \u001B[32m INFO\u001B[0m \u001B[2mtest\u001B[0m\u001B[2m:\u001B[0m input=Integer(-3681627137158795126)\r\n",
      "\u001B[2m2023-08-03T05:43:15.021020Z\u001B[0m \u001B[32m INFO\u001B[0m \u001B[2mtest\u001B[0m\u001B[2m:\u001B[0m input=StringLiteral(\"?I*{s?Qm\")\r\n",
      "\u001B[2m2023-08-03T05:43:15.021079Z\u001B[0m \u001B[32m INFO\u001B[0m \u001B[2mtest\u001B[0m\u001B[2m:\u001B[0m input=Integer(-5979871387267189055)\r\n",
      "\u001B[2m2023-08-03T05:43:15.021164Z\u001B[0m \u001B[32m INFO\u001B[0m \u001B[2mtest\u001B[0m\u001B[2m:\u001B[0m input=Operator(\"+\")\r\n",
      "\u001B[2m2023-08-03T05:43:15.021205Z\u001B[0m \u001B[32m INFO\u001B[0m \u001B[2mtest\u001B[0m\u001B[2m:\u001B[0m input=Integer(-4298684261716948188)\r\n",
      "\u001B[2m2023-08-03T05:43:15.021274Z\u001B[0m \u001B[32m INFO\u001B[0m \u001B[2mtest\u001B[0m\u001B[2m:\u001B[0m input=StringLiteral(\",=dd[|XUs<b/$y25,$.jcM&`!$t\")\r\n",
      "\u001B[2m2023-08-03T05:43:15.021324Z\u001B[0m \u001B[32m INFO\u001B[0m \u001B[2mtest\u001B[0m\u001B[2m:\u001B[0m input=StringLiteral(\"<(,:z!lN/+\")\r\n",
      "\u001B[2m2023-08-03T05:43:15.021372Z\u001B[0m \u001B[32m INFO\u001B[0m \u001B[2mtest\u001B[0m\u001B[2m:\u001B[0m input=Comment(\"htIU}(iyRA{\")\r\n",
      "\u001B[2m2023-08-03T05:43:15.021422Z\u001B[0m \u001B[32m INFO\u001B[0m \u001B[2mtest\u001B[0m\u001B[2m:\u001B[0m input=StringLiteral(\"*gQ$Z;H`8JRe*VJ*>sP\")\r\n",
      "\u001B[2m2023-08-03T05:43:15.021519Z\u001B[0m \u001B[32m INFO\u001B[0m \u001B[2mtest\u001B[0m\u001B[2m:\u001B[0m input=Identifier(\"ojR6iklFN325eo92aTYZcjX1DLlvjaRJ\")\r\n",
      "\u001B[2m2023-08-03T05:43:15.021559Z\u001B[0m \u001B[32m INFO\u001B[0m \u001B[2mtest\u001B[0m\u001B[2m:\u001B[0m input=Operator(\"-\")\r\n",
      "\u001B[2m2023-08-03T05:43:15.033337Z\u001B[0m \u001B[32m INFO\u001B[0m \u001B[2mtest\u001B[0m\u001B[2m:\u001B[0m input=StringLiteral(\"G'\")\r\n",
      "\u001B[2m2023-08-03T05:43:15.033420Z\u001B[0m \u001B[32m INFO\u001B[0m \u001B[2mtest\u001B[0m\u001B[2m:\u001B[0m input=Identifier(\"K484\")\r\n",
      "\u001B[2m2023-08-03T05:43:15.033460Z\u001B[0m \u001B[32m INFO\u001B[0m \u001B[2mtest\u001B[0m\u001B[2m:\u001B[0m input=Integer(-4418686509336630575)\r\n",
      "\u001B[2m2023-08-03T05:43:15.033541Z\u001B[0m \u001B[32m INFO\u001B[0m \u001B[2mtest\u001B[0m\u001B[2m:\u001B[0m input=Integer(-2719059818184554624)\r\n",
      "\u001B[2m2023-08-03T05:43:15.033648Z\u001B[0m \u001B[32m INFO\u001B[0m \u001B[2mtest\u001B[0m\u001B[2m:\u001B[0m input=Comment(\"1lOSj<'(<rQB3jtS~%`3\")\r\n",
      "\u001B[2m2023-08-03T05:43:15.033764Z\u001B[0m \u001B[32m INFO\u001B[0m \u001B[2mtest\u001B[0m\u001B[2m:\u001B[0m input=Comment(\"/{{&ul`:b&v=5/dKGv_$EC{/X*,=2U\")\r\n",
      "\u001B[2m2023-08-03T05:43:15.034152Z\u001B[0m \u001B[32m INFO\u001B[0m \u001B[2mtest\u001B[0m\u001B[2m:\u001B[0m input=StringLiteral(\"-.ln^l~:=\")\r\n",
      "\u001B[2m2023-08-03T05:43:15.034269Z\u001B[0m \u001B[32m INFO\u001B[0m \u001B[2mtest\u001B[0m\u001B[2m:\u001B[0m input=Comment(\"O5W<p%.6<'dw&Wo\\\"%xF%v\")\r\n",
      "\u001B[2m2023-08-03T05:43:15.034347Z\u001B[0m \u001B[32m INFO\u001B[0m \u001B[2mtest\u001B[0m\u001B[2m:\u001B[0m input=Identifier(\"VW86X2Mx693Gpq6naNpf4SuVF\")\r\n",
      "\u001B[2m2023-08-03T05:43:15.034529Z\u001B[0m \u001B[32m INFO\u001B[0m \u001B[2mtest\u001B[0m\u001B[2m:\u001B[0m input=Operator(\"=\")\r\n",
      "\u001B[2m2023-08-03T05:43:15.034650Z\u001B[0m \u001B[32m INFO\u001B[0m \u001B[2mtest\u001B[0m\u001B[2m:\u001B[0m input=Operator(\"-\")\r\n",
      "\u001B[2m2023-08-03T05:43:15.034708Z\u001B[0m \u001B[32m INFO\u001B[0m \u001B[2mtest\u001B[0m\u001B[2m:\u001B[0m input=Comment(\"$lGI2YU\")\r\n",
      "\u001B[2m2023-08-03T05:43:15.034760Z\u001B[0m \u001B[32m INFO\u001B[0m \u001B[2mtest\u001B[0m\u001B[2m:\u001B[0m input=Identifier(\"Xn3bjE\")\r\n",
      "\u001B[2m2023-08-03T05:43:15.034857Z\u001B[0m \u001B[32m INFO\u001B[0m \u001B[2mtest\u001B[0m\u001B[2m:\u001B[0m input=Identifier(\"JAJ9jXk3X\")\r\n",
      "\u001B[2m2023-08-03T05:43:15.034920Z\u001B[0m \u001B[32m INFO\u001B[0m \u001B[2mtest\u001B[0m\u001B[2m:\u001B[0m input=Comment(\"y$5\\\\/ACP4<{/J{1`k\")\r\n",
      "\u001B[2m2023-08-03T05:43:15.035023Z\u001B[0m \u001B[32m INFO\u001B[0m \u001B[2mtest\u001B[0m\u001B[2m:\u001B[0m input=Identifier(\"N4wRBwQ10DLd96bnlFb99\")\r\n",
      "\u001B[2m2023-08-03T05:43:15.035137Z\u001B[0m \u001B[32m INFO\u001B[0m \u001B[2mtest\u001B[0m\u001B[2m:\u001B[0m input=Identifier(\"SIfk0aYD0WM9o22wVz9S70oKTEiamrx\")\r\n",
      "\u001B[2m2023-08-03T05:43:15.035197Z\u001B[0m \u001B[32m INFO\u001B[0m \u001B[2mtest\u001B[0m\u001B[2m:\u001B[0m input=Identifier(\"s3V1gt5I89ROA\")\r\n",
      "\u001B[2m2023-08-03T05:43:15.035308Z\u001B[0m \u001B[32m INFO\u001B[0m \u001B[2mtest\u001B[0m\u001B[2m:\u001B[0m input=Integer(5550944059448743999)\r\n",
      "\u001B[2m2023-08-03T05:43:15.035390Z\u001B[0m \u001B[32m INFO\u001B[0m \u001B[2mtest\u001B[0m\u001B[2m:\u001B[0m input=Operator(\"/\")\r\n",
      "\u001B[2m2023-08-03T05:43:15.035431Z\u001B[0m \u001B[32m INFO\u001B[0m \u001B[2mtest\u001B[0m\u001B[2m:\u001B[0m input=Integer(-8528881886026062331)\r\n",
      "\u001B[2m2023-08-03T05:43:15.035478Z\u001B[0m \u001B[32m INFO\u001B[0m \u001B[2mtest\u001B[0m\u001B[2m:\u001B[0m input=Operator(\")\")\r\n",
      "\u001B[2m2023-08-03T05:43:15.035517Z\u001B[0m \u001B[32m INFO\u001B[0m \u001B[2mtest\u001B[0m\u001B[2m:\u001B[0m input=Integer(9152313580834541381)\r\n",
      "\u001B[2m2023-08-03T05:43:15.035556Z\u001B[0m \u001B[32m INFO\u001B[0m \u001B[2mtest\u001B[0m\u001B[2m:\u001B[0m input=Integer(1961205747570343333)\r\n",
      "\u001B[2m2023-08-03T05:43:15.035634Z\u001B[0m \u001B[32m INFO\u001B[0m \u001B[2mtest\u001B[0m\u001B[2m:\u001B[0m input=Integer(-7760078398217216226)\r\n",
      "\u001B[2m2023-08-03T05:43:15.035684Z\u001B[0m \u001B[32m INFO\u001B[0m \u001B[2mtest\u001B[0m\u001B[2m:\u001B[0m input=Identifier(\"L18F\")\r\n",
      "\u001B[2m2023-08-03T05:43:15.035761Z\u001B[0m \u001B[32m INFO\u001B[0m \u001B[2mtest\u001B[0m\u001B[2m:\u001B[0m input=StringLiteral(\"nPQ=%8cmUmp$Y?.BfDg'*\")\r\n",
      "\u001B[2m2023-08-03T05:43:15.035813Z\u001B[0m \u001B[32m INFO\u001B[0m \u001B[2mtest\u001B[0m\u001B[2m:\u001B[0m input=Operator(\"/\")\r\n",
      "\u001B[2m2023-08-03T05:43:15.035874Z\u001B[0m \u001B[32m INFO\u001B[0m \u001B[2mtest\u001B[0m\u001B[2m:\u001B[0m input=StringLiteral(\"M!]d&m='r=z&-{r5%O_T{\")\r\n",
      "\u001B[2m2023-08-03T05:43:15.035919Z\u001B[0m \u001B[32m INFO\u001B[0m \u001B[2mtest\u001B[0m\u001B[2m:\u001B[0m input=Integer(8479974403631101954)\r\n",
      "\u001B[2m2023-08-03T05:43:15.035962Z\u001B[0m \u001B[32m INFO\u001B[0m \u001B[2mtest\u001B[0m\u001B[2m:\u001B[0m input=Operator(\"-\")\r\n",
      "\u001B[2m2023-08-03T05:43:15.036002Z\u001B[0m \u001B[32m INFO\u001B[0m \u001B[2mtest\u001B[0m\u001B[2m:\u001B[0m input=Operator(\"(\")\r\n",
      "\u001B[2m2023-08-03T05:43:15.036073Z\u001B[0m \u001B[32m INFO\u001B[0m \u001B[2mtest\u001B[0m\u001B[2m:\u001B[0m input=Comment(\"O{[{{:@M{r<M-:BN:&.!_\")\r\n",
      "\u001B[2m2023-08-03T05:43:15.036389Z\u001B[0m \u001B[32m INFO\u001B[0m \u001B[2mtest\u001B[0m\u001B[2m:\u001B[0m input=Integer(2824284763074462337)\r\n",
      "\u001B[2m2023-08-03T05:43:15.036532Z\u001B[0m \u001B[32m INFO\u001B[0m \u001B[2mtest\u001B[0m\u001B[2m:\u001B[0m input=StringLiteral(\"Y1.w6o#xO>QX/<cVG?\")\r\n",
      "\u001B[2m2023-08-03T05:43:15.036649Z\u001B[0m \u001B[32m INFO\u001B[0m \u001B[2mtest\u001B[0m\u001B[2m:\u001B[0m input=StringLiteral(\"]WW~s<({_m$q78!L&,!]6(.'\")\r\n",
      "\u001B[2m2023-08-03T05:43:15.036882Z\u001B[0m \u001B[32m INFO\u001B[0m \u001B[2mtest\u001B[0m\u001B[2m:\u001B[0m input=Comment(\"X{\\\\&m%\\\"$*w[(\")\r\n",
      "\u001B[2m2023-08-03T05:43:15.037013Z\u001B[0m \u001B[32m INFO\u001B[0m \u001B[2mtest\u001B[0m\u001B[2m:\u001B[0m input=Identifier(\"fKPKYK3gdA89dn6r2pS1XyX\")\r\n",
      "\u001B[2m2023-08-03T05:43:15.037108Z\u001B[0m \u001B[32m INFO\u001B[0m \u001B[2mtest\u001B[0m\u001B[2m:\u001B[0m input=Operator(\"+\")\r\n",
      "\u001B[2m2023-08-03T05:43:15.037215Z\u001B[0m \u001B[32m INFO\u001B[0m \u001B[2mtest\u001B[0m\u001B[2m:\u001B[0m input=StringLiteral(\"{:w09D[lpi<= 3Y0$abz`j{\")\r\n",
      "\u001B[2m2023-08-03T05:43:15.037356Z\u001B[0m \u001B[32m INFO\u001B[0m \u001B[2mtest\u001B[0m\u001B[2m:\u001B[0m input=Operator(\"*\")\r\n",
      "\u001B[2m2023-08-03T05:43:15.037452Z\u001B[0m \u001B[32m INFO\u001B[0m \u001B[2mtest\u001B[0m\u001B[2m:\u001B[0m input=Identifier(\"vk24jgX6NqOt2DxhtY4\")\r\n",
      "\u001B[2m2023-08-03T05:43:15.037529Z\u001B[0m \u001B[32m INFO\u001B[0m \u001B[2mtest\u001B[0m\u001B[2m:\u001B[0m input=Operator(\"+\")\r\n",
      "\u001B[2m2023-08-03T05:43:15.037653Z\u001B[0m \u001B[32m INFO\u001B[0m \u001B[2mtest\u001B[0m\u001B[2m:\u001B[0m input=Comment(\"6SV&TZB$Bm5?$!m|+h/\\\\].!%l[<cM`\\\\\")\r\n",
      "\u001B[2m2023-08-03T05:43:15.037776Z\u001B[0m \u001B[32m INFO\u001B[0m \u001B[2mtest\u001B[0m\u001B[2m:\u001B[0m input=Identifier(\"RqsRwOsz5m1jrY79Z2\")\r\n",
      "\u001B[2m2023-08-03T05:43:15.037863Z\u001B[0m \u001B[32m INFO\u001B[0m \u001B[2mtest\u001B[0m\u001B[2m:\u001B[0m input=Comment(\"+.DYv:\")\r\n",
      "\u001B[2m2023-08-03T05:43:15.037955Z\u001B[0m \u001B[32m INFO\u001B[0m \u001B[2mtest\u001B[0m\u001B[2m:\u001B[0m input=StringLiteral(\"ZvhVyCe$`T\")\r\n",
      "\u001B[2m2023-08-03T05:43:15.038052Z\u001B[0m \u001B[32m INFO\u001B[0m \u001B[2mtest\u001B[0m\u001B[2m:\u001B[0m input=Comment(\"3j&1\")\r\n",
      "\u001B[2m2023-08-03T05:43:15.038151Z\u001B[0m \u001B[32m INFO\u001B[0m \u001B[2mtest\u001B[0m\u001B[2m:\u001B[0m input=Operator(\"/\")\r\n",
      "\u001B[2m2023-08-03T05:43:15.038237Z\u001B[0m \u001B[32m INFO\u001B[0m \u001B[2mtest\u001B[0m\u001B[2m:\u001B[0m input=Integer(-2725382871456351654)\r\n",
      "\u001B[2m2023-08-03T05:43:15.038382Z\u001B[0m \u001B[32m INFO\u001B[0m \u001B[2mtest\u001B[0m\u001B[2m:\u001B[0m input=Integer(141231235445615178)\r\n",
      "\u001B[2m2023-08-03T05:43:15.038484Z\u001B[0m \u001B[32m INFO\u001B[0m \u001B[2mtest\u001B[0m\u001B[2m:\u001B[0m input=Comment(\"uMbnD_=iLLz:q\\\"h&kwg~\")\r\n",
      "\u001B[2m2023-08-03T05:43:15.038581Z\u001B[0m \u001B[32m INFO\u001B[0m \u001B[2mtest\u001B[0m\u001B[2m:\u001B[0m input=Identifier(\"Et764i\")\r\n",
      "\u001B[2m2023-08-03T05:43:15.038704Z\u001B[0m \u001B[32m INFO\u001B[0m \u001B[2mtest\u001B[0m\u001B[2m:\u001B[0m input=Comment(\"j3vj X0</E/.a+>Y)~f*w\")\r\n",
      "\u001B[2m2023-08-03T05:43:15.038793Z\u001B[0m \u001B[32m INFO\u001B[0m \u001B[2mtest\u001B[0m\u001B[2m:\u001B[0m input=Operator(\")\")\r\n",
      "\u001B[2m2023-08-03T05:43:15.039169Z\u001B[0m \u001B[32m INFO\u001B[0m \u001B[2mtest\u001B[0m\u001B[2m:\u001B[0m input=Operator(\"+\")\r\n",
      "\u001B[2m2023-08-03T05:43:15.039390Z\u001B[0m \u001B[32m INFO\u001B[0m \u001B[2mtest\u001B[0m\u001B[2m:\u001B[0m input=Operator(\"*\")\r\n",
      "\u001B[2m2023-08-03T05:43:15.039565Z\u001B[0m \u001B[32m INFO\u001B[0m \u001B[2mtest\u001B[0m\u001B[2m:\u001B[0m input=Identifier(\"y4XHeeOquv\")\r\n",
      "\u001B[2m2023-08-03T05:43:15.039715Z\u001B[0m \u001B[32m INFO\u001B[0m \u001B[2mtest\u001B[0m\u001B[2m:\u001B[0m input=StringLiteral(\"+n5|6m\")\r\n",
      "\u001B[2m2023-08-03T05:43:15.039823Z\u001B[0m \u001B[32m INFO\u001B[0m \u001B[2mtest\u001B[0m\u001B[2m:\u001B[0m input=Identifier(\"GAsd2YZ2o24es1tTTM7e\")\r\n",
      "\u001B[2m2023-08-03T05:43:15.039915Z\u001B[0m \u001B[32m INFO\u001B[0m \u001B[2mtest\u001B[0m\u001B[2m:\u001B[0m input=Operator(\")\")\r\n",
      "\u001B[2m2023-08-03T05:43:15.040018Z\u001B[0m \u001B[32m INFO\u001B[0m \u001B[2mtest\u001B[0m\u001B[2m:\u001B[0m input=Comment(\"{$%{t\")\r\n",
      "\u001B[2m2023-08-03T05:43:15.040118Z\u001B[0m \u001B[32m INFO\u001B[0m \u001B[2mtest\u001B[0m\u001B[2m:\u001B[0m input=Operator(\"+\")\r\n",
      "\u001B[2m2023-08-03T05:43:15.040225Z\u001B[0m \u001B[32m INFO\u001B[0m \u001B[2mtest\u001B[0m\u001B[2m:\u001B[0m input=Comment(\"eUV1I:'?^$`\")\r\n",
      "\u001B[2m2023-08-03T05:43:15.040422Z\u001B[0m \u001B[32m INFO\u001B[0m \u001B[2mtest\u001B[0m\u001B[2m:\u001B[0m input=StringLiteral(\"k.>iT*QE[b_+>ywUj.a&&#]*jg#_`\")\r\n",
      "\u001B[2m2023-08-03T05:43:15.040535Z\u001B[0m \u001B[32m INFO\u001B[0m \u001B[2mtest\u001B[0m\u001B[2m:\u001B[0m input=Comment(\"c9P%~W`AD< |\")\r\n",
      "\u001B[2m2023-08-03T05:43:15.040640Z\u001B[0m \u001B[32m INFO\u001B[0m \u001B[2mtest\u001B[0m\u001B[2m:\u001B[0m input=StringLiteral(\"g:\")\r\n",
      "\u001B[2m2023-08-03T05:43:15.040769Z\u001B[0m \u001B[32m INFO\u001B[0m \u001B[2mtest\u001B[0m\u001B[2m:\u001B[0m input=Operator(\"-\")\r\n",
      "\u001B[2m2023-08-03T05:43:15.040887Z\u001B[0m \u001B[32m INFO\u001B[0m \u001B[2mtest\u001B[0m\u001B[2m:\u001B[0m input=Identifier(\"a2j9oxlEksmmgaaTCByb1Hl\")\r\n",
      "\u001B[2m2023-08-03T05:43:15.040961Z\u001B[0m \u001B[32m INFO\u001B[0m \u001B[2mtest\u001B[0m\u001B[2m:\u001B[0m input=Comment(\"!/3*F1C\")\r\n",
      "\u001B[2m2023-08-03T05:43:15.041068Z\u001B[0m \u001B[32m INFO\u001B[0m \u001B[2mtest\u001B[0m\u001B[2m:\u001B[0m input=Integer(-4395372426838890509)\r\n",
      "\u001B[2m2023-08-03T05:43:15.041124Z\u001B[0m \u001B[32m INFO\u001B[0m \u001B[2mtest\u001B[0m\u001B[2m:\u001B[0m input=StringLiteral(\"I;wS/N\")\r\n",
      "\u001B[2m2023-08-03T05:43:15.041420Z\u001B[0m \u001B[32m INFO\u001B[0m \u001B[2mtest\u001B[0m\u001B[2m:\u001B[0m input=Integer(-2696291140377846394)\r\n",
      "\u001B[2m2023-08-03T05:43:15.041530Z\u001B[0m \u001B[32m INFO\u001B[0m \u001B[2mtest\u001B[0m\u001B[2m:\u001B[0m input=Integer(520869772519873595)\r\n",
      "\u001B[2m2023-08-03T05:43:15.041628Z\u001B[0m \u001B[32m INFO\u001B[0m \u001B[2mtest\u001B[0m\u001B[2m:\u001B[0m input=Comment(\"#6$q{'9-m@.{\")\r\n",
      "\u001B[2m2023-08-03T05:43:15.041713Z\u001B[0m \u001B[32m INFO\u001B[0m \u001B[2mtest\u001B[0m\u001B[2m:\u001B[0m input=Integer(-2060673586454637582)\r\n",
      "\u001B[2m2023-08-03T05:43:15.041758Z\u001B[0m \u001B[32m INFO\u001B[0m \u001B[2mtest\u001B[0m\u001B[2m:\u001B[0m input=Integer(1558633312000268051)\r\n",
      "\u001B[2m2023-08-03T05:43:15.041834Z\u001B[0m \u001B[32m INFO\u001B[0m \u001B[2mtest\u001B[0m\u001B[2m:\u001B[0m input=Comment(\"W?UW`u+>*iW]=*?\\\"b.QV{{{}.U*f:.\")\r\n",
      "\u001B[2m2023-08-03T05:43:15.041943Z\u001B[0m \u001B[32m INFO\u001B[0m \u001B[2mtest\u001B[0m\u001B[2m:\u001B[0m input=Comment(\"/;>{*SY&4ki'h{^k*\")\r\n",
      "\u001B[2m2023-08-03T05:43:15.042125Z\u001B[0m \u001B[32m INFO\u001B[0m \u001B[2mtest\u001B[0m\u001B[2m:\u001B[0m input=StringLiteral(\"ob*(MZ'V@.:mU}\")\r\n",
      "\u001B[2m2023-08-03T05:43:15.042214Z\u001B[0m \u001B[32m INFO\u001B[0m \u001B[2mtest\u001B[0m\u001B[2m:\u001B[0m input=Integer(-2207438149886206737)\r\n",
      "\u001B[2m2023-08-03T05:43:15.042567Z\u001B[0m \u001B[32m INFO\u001B[0m \u001B[2mtest\u001B[0m\u001B[2m:\u001B[0m input=Operator(\"*\")\r\n",
      "\u001B[2m2023-08-03T05:43:15.043004Z\u001B[0m \u001B[32m INFO\u001B[0m \u001B[2mtest\u001B[0m\u001B[2m:\u001B[0m input=Comment(\"+?{$*h:^\\\\6B9*X]/`$={w[g)r\")\r\n",
      "\u001B[2m2023-08-03T05:43:15.043124Z\u001B[0m \u001B[32m INFO\u001B[0m \u001B[2mtest\u001B[0m\u001B[2m:\u001B[0m input=Identifier(\"iedO5et2tMg9i2n\")\r\n",
      "\u001B[2m2023-08-03T05:43:15.043173Z\u001B[0m \u001B[32m INFO\u001B[0m \u001B[2mtest\u001B[0m\u001B[2m:\u001B[0m input=Integer(5039938373789138336)\r\n",
      "\u001B[2m2023-08-03T05:43:15.043262Z\u001B[0m \u001B[32m INFO\u001B[0m \u001B[2mtest\u001B[0m\u001B[2m:\u001B[0m input=Identifier(\"q574QKFGDT6\")\r\n",
      "\u001B[2m2023-08-03T05:43:15.043322Z\u001B[0m \u001B[32m INFO\u001B[0m \u001B[2mtest\u001B[0m\u001B[2m:\u001B[0m input=Comment(\"7/.{`\\\"$<u$'\")\r\n",
      "\u001B[2m2023-08-03T05:43:15.043444Z\u001B[0m \u001B[32m INFO\u001B[0m \u001B[2mtest\u001B[0m\u001B[2m:\u001B[0m input=Operator(\"*\")\r\n",
      "\u001B[2m2023-08-03T05:43:15.043497Z\u001B[0m \u001B[32m INFO\u001B[0m \u001B[2mtest\u001B[0m\u001B[2m:\u001B[0m input=Operator(\")\")\r\n",
      "\u001B[2m2023-08-03T05:43:15.043601Z\u001B[0m \u001B[32m INFO\u001B[0m \u001B[2mtest\u001B[0m\u001B[2m:\u001B[0m input=Comment(\"'1H&.hb:|'=g6yf`:&: u`\")\r\n",
      "\u001B[2m2023-08-03T05:43:15.043657Z\u001B[0m \u001B[32m INFO\u001B[0m \u001B[2mtest\u001B[0m\u001B[2m:\u001B[0m input=Integer(3963585044218490421)\r\n",
      "\u001B[2m2023-08-03T05:43:15.043787Z\u001B[0m \u001B[32m INFO\u001B[0m \u001B[2mtest\u001B[0m\u001B[2m:\u001B[0m input=Comment(\"?*`/`.`\")\r\n",
      "\u001B[2m2023-08-03T05:43:15.043978Z\u001B[0m \u001B[32m INFO\u001B[0m \u001B[2mtest\u001B[0m\u001B[2m:\u001B[0m input=Comment(\"u6''F)%U?L>UKIe`=-3:s\")\r\n",
      "\u001B[2m2023-08-03T05:43:15.044122Z\u001B[0m \u001B[32m INFO\u001B[0m \u001B[2mtest\u001B[0m\u001B[2m:\u001B[0m input=Integer(3167910211236189715)\r\n",
      "\u001B[2m2023-08-03T05:43:15.044201Z\u001B[0m \u001B[32m INFO\u001B[0m \u001B[2mtest\u001B[0m\u001B[2m:\u001B[0m input=Integer(-8829877005345002109)\r\n",
      "\u001B[2m2023-08-03T05:43:15.044253Z\u001B[0m \u001B[32m INFO\u001B[0m \u001B[2mtest\u001B[0m\u001B[2m:\u001B[0m input=Operator(\"/\")\r\n",
      "\u001B[2m2023-08-03T05:43:15.044313Z\u001B[0m \u001B[32m INFO\u001B[0m \u001B[2mtest\u001B[0m\u001B[2m:\u001B[0m input=StringLiteral(\"Gyk?e(L.o=YO\")\r\n",
      "\u001B[2m2023-08-03T05:43:15.044369Z\u001B[0m \u001B[32m INFO\u001B[0m \u001B[2mtest\u001B[0m\u001B[2m:\u001B[0m input=Identifier(\"HpHInln\")\r\n",
      "\u001B[2m2023-08-03T05:43:15.044511Z\u001B[0m \u001B[32m INFO\u001B[0m \u001B[2mtest\u001B[0m\u001B[2m:\u001B[0m input=StringLiteral(\"k<=S$e{&{q[vX`m&Ud\")\r\n",
      "\u001B[2m2023-08-03T05:43:15.044595Z\u001B[0m \u001B[32m INFO\u001B[0m \u001B[2mtest\u001B[0m\u001B[2m:\u001B[0m input=Integer(3322783172652557217)\r\n",
      "\u001B[2m2023-08-03T05:43:15.044669Z\u001B[0m \u001B[32m INFO\u001B[0m \u001B[2mtest\u001B[0m\u001B[2m:\u001B[0m input=Integer(-1095847595757862407)\r\n",
      "\u001B[2m2023-08-03T05:43:15.044765Z\u001B[0m \u001B[32m INFO\u001B[0m \u001B[2mtest\u001B[0m\u001B[2m:\u001B[0m input=Comment(\"$f('=~tiH{AcHU5i:f@%\")\r\n",
      "\u001B[2m2023-08-03T05:43:15.044898Z\u001B[0m \u001B[32m INFO\u001B[0m \u001B[2mtest\u001B[0m\u001B[2m:\u001B[0m input=Comment(\"$Rb<)Z\\\"H__%&v\\\"A?=M\")\r\n",
      "\u001B[2m2023-08-03T05:43:15.045053Z\u001B[0m \u001B[32m INFO\u001B[0m \u001B[2mtest\u001B[0m\u001B[2m:\u001B[0m input=Identifier(\"l448by36SGoHtJP5vL52gP5WgUbIme2i\")\r\n",
      "\u001B[2m2023-08-03T05:43:15.045164Z\u001B[0m \u001B[32m INFO\u001B[0m \u001B[2mtest\u001B[0m\u001B[2m:\u001B[0m input=Operator(\"-\")\r\n",
      "\u001B[2m2023-08-03T05:43:15.045271Z\u001B[0m \u001B[32m INFO\u001B[0m \u001B[2mtest\u001B[0m\u001B[2m:\u001B[0m input=Comment(\"S_)fu@znL8YM0lu\\\"<%hU-(aM<:'{?\")\r\n",
      "\u001B[2m2023-08-03T05:43:15.045369Z\u001B[0m \u001B[32m INFO\u001B[0m \u001B[2mtest\u001B[0m\u001B[2m:\u001B[0m input=Integer(201962088637786641)\r\n",
      "\u001B[2m2023-08-03T05:43:15.045534Z\u001B[0m \u001B[32m INFO\u001B[0m \u001B[2mtest\u001B[0m\u001B[2m:\u001B[0m input=StringLiteral(\"%11/wh{=<J#tAPR^HS1*N#6m\")\r\n",
      "\u001B[2m2023-08-03T05:43:15.045643Z\u001B[0m \u001B[32m INFO\u001B[0m \u001B[2mtest\u001B[0m\u001B[2m:\u001B[0m input=Identifier(\"zUCmscC8788u27h5CIGI5\")\r\n",
      "\u001B[2m2023-08-03T05:43:15.045753Z\u001B[0m \u001B[32m INFO\u001B[0m \u001B[2mtest\u001B[0m\u001B[2m:\u001B[0m input=StringLiteral(\"/xAk:Du$%/\")\r\n",
      "\u001B[2m2023-08-03T05:43:15.045816Z\u001B[0m \u001B[32m INFO\u001B[0m \u001B[2mtest\u001B[0m\u001B[2m:\u001B[0m input=Operator(\"+\")\r\n",
      "\u001B[2m2023-08-03T05:43:15.045938Z\u001B[0m \u001B[32m INFO\u001B[0m \u001B[2mtest\u001B[0m\u001B[2m:\u001B[0m input=Comment(\"{cj~j:/]V;{xBEQ.gF>EbHY5bE#F?'`=\")\r\n",
      "\u001B[2m2023-08-03T05:43:15.046211Z\u001B[0m \u001B[32m INFO\u001B[0m \u001B[2mtest\u001B[0m\u001B[2m:\u001B[0m input=Integer(-709231893906484137)\r\n",
      "\u001B[2m2023-08-03T05:43:15.046481Z\u001B[0m \u001B[32m INFO\u001B[0m \u001B[2mtest\u001B[0m\u001B[2m:\u001B[0m input=Comment(\"_&cU$W&LR\\\\+OV?3?=)b><Q+0\")\r\n",
      "\u001B[2m2023-08-03T05:43:15.046594Z\u001B[0m \u001B[32m INFO\u001B[0m \u001B[2mtest\u001B[0m\u001B[2m:\u001B[0m input=StringLiteral(\"\")\r\n",
      "\u001B[2m2023-08-03T05:43:15.046686Z\u001B[0m \u001B[32m INFO\u001B[0m \u001B[2mtest\u001B[0m\u001B[2m:\u001B[0m input=Integer(3968959939844821)\r\n",
      "\u001B[2m2023-08-03T05:43:15.046762Z\u001B[0m \u001B[32m INFO\u001B[0m \u001B[2mtest\u001B[0m\u001B[2m:\u001B[0m input=StringLiteral(\"$cU=b*~$;L)^By$Hmg*low\")\r\n",
      "\u001B[2m2023-08-03T05:43:15.046823Z\u001B[0m \u001B[32m INFO\u001B[0m \u001B[2mtest\u001B[0m\u001B[2m:\u001B[0m input=Integer(1487688007123541126)\r\n",
      "\u001B[2m2023-08-03T05:43:15.046888Z\u001B[0m \u001B[32m INFO\u001B[0m \u001B[2mtest\u001B[0m\u001B[2m:\u001B[0m input=Identifier(\"R43x1bp29muyD5o\")\r\n",
      "\u001B[2m2023-08-03T05:43:15.046949Z\u001B[0m \u001B[32m INFO\u001B[0m \u001B[2mtest\u001B[0m\u001B[2m:\u001B[0m input=Identifier(\"OnW6GApKFGi5xJM7\")\r\n",
      "\u001B[2m2023-08-03T05:43:15.047040Z\u001B[0m \u001B[32m INFO\u001B[0m \u001B[2mtest\u001B[0m\u001B[2m:\u001B[0m input=Operator(\"/\")\r\n",
      "\u001B[2m2023-08-03T05:43:15.047131Z\u001B[0m \u001B[32m INFO\u001B[0m \u001B[2mtest\u001B[0m\u001B[2m:\u001B[0m input=Operator(\"*\")\r\n",
      "\u001B[2m2023-08-03T05:43:15.047272Z\u001B[0m \u001B[32m INFO\u001B[0m \u001B[2mtest\u001B[0m\u001B[2m:\u001B[0m input=Identifier(\"i6jCc7gvFO38VZpxD\")\r\n",
      "\u001B[2m2023-08-03T05:43:15.047387Z\u001B[0m \u001B[32m INFO\u001B[0m \u001B[2mtest\u001B[0m\u001B[2m:\u001B[0m input=Identifier(\"pHuhGgsNlIaFuT0n05n67qC1Kl\")\r\n",
      "\u001B[2m2023-08-03T05:43:15.047488Z\u001B[0m \u001B[32m INFO\u001B[0m \u001B[2mtest\u001B[0m\u001B[2m:\u001B[0m input=Identifier(\"eepE5TwhjVe74c6IlhLrZfs7d\")\r\n",
      "\u001B[2m2023-08-03T05:43:15.047583Z\u001B[0m \u001B[32m INFO\u001B[0m \u001B[2mtest\u001B[0m\u001B[2m:\u001B[0m input=Comment(\"17_f\\\"?Xr\")\r\n",
      "\u001B[2m2023-08-03T05:43:15.047663Z\u001B[0m \u001B[32m INFO\u001B[0m \u001B[2mtest\u001B[0m\u001B[2m:\u001B[0m input=Integer(4933544031168881067)\r\n",
      "\u001B[2m2023-08-03T05:43:15.047767Z\u001B[0m \u001B[32m INFO\u001B[0m \u001B[2mtest\u001B[0m\u001B[2m:\u001B[0m input=Identifier(\"zB8gqTb480vWZ4VVC04Wc8HW082l3\")\r\n",
      "\u001B[2m2023-08-03T05:43:15.047848Z\u001B[0m \u001B[32m INFO\u001B[0m \u001B[2mtest\u001B[0m\u001B[2m:\u001B[0m input=Integer(6485899913430069371)\r\n",
      "\u001B[2m2023-08-03T05:43:15.047918Z\u001B[0m \u001B[32m INFO\u001B[0m \u001B[2mtest\u001B[0m\u001B[2m:\u001B[0m input=Identifier(\"fUpUeYVwdR935ofC3EF24Pe\")\r\n",
      "\u001B[2m2023-08-03T05:43:15.048037Z\u001B[0m \u001B[32m INFO\u001B[0m \u001B[2mtest\u001B[0m\u001B[2m:\u001B[0m input=Integer(1290361826822568632)\r\n",
      "\u001B[2m2023-08-03T05:43:15.048095Z\u001B[0m \u001B[32m INFO\u001B[0m \u001B[2mtest\u001B[0m\u001B[2m:\u001B[0m input=Identifier(\"ECQV1Lbb5d\")\r\n",
      "\u001B[2m2023-08-03T05:43:15.048200Z\u001B[0m \u001B[32m INFO\u001B[0m \u001B[2mtest\u001B[0m\u001B[2m:\u001B[0m input=StringLiteral(\"L:nz|<5\")\r\n",
      "\u001B[2m2023-08-03T05:43:15.048460Z\u001B[0m \u001B[32m INFO\u001B[0m \u001B[2mtest\u001B[0m\u001B[2m:\u001B[0m input=StringLiteral(\"*!fB zMs7m.|?3'j\")\r\n",
      "\u001B[2m2023-08-03T05:43:15.048700Z\u001B[0m \u001B[32m INFO\u001B[0m \u001B[2mtest\u001B[0m\u001B[2m:\u001B[0m input=Identifier(\"RhRmW7UC768D8ei39JH86Jrrqcd\")\r\n",
      "\u001B[2m2023-08-03T05:43:15.048853Z\u001B[0m \u001B[32m INFO\u001B[0m \u001B[2mtest\u001B[0m\u001B[2m:\u001B[0m input=StringLiteral(\".P/K\")\r\n",
      "\u001B[2m2023-08-03T05:43:15.048953Z\u001B[0m \u001B[32m INFO\u001B[0m \u001B[2mtest\u001B[0m\u001B[2m:\u001B[0m input=Identifier(\"p9IJimt8ON\")\r\n",
      "\u001B[2m2023-08-03T05:43:15.049061Z\u001B[0m \u001B[32m INFO\u001B[0m \u001B[2mtest\u001B[0m\u001B[2m:\u001B[0m input=Identifier(\"LQfSoj0cQ3P0iic9Qim2HX41c\")\r\n",
      "\u001B[2m2023-08-03T05:43:15.049113Z\u001B[0m \u001B[32m INFO\u001B[0m \u001B[2mtest\u001B[0m\u001B[2m:\u001B[0m input=Integer(5389777456673632610)\r\n",
      "\u001B[2m2023-08-03T05:43:15.049193Z\u001B[0m \u001B[32m INFO\u001B[0m \u001B[2mtest\u001B[0m\u001B[2m:\u001B[0m input=Integer(-5479218959899168022)\r\n",
      "\u001B[2m2023-08-03T05:43:15.049293Z\u001B[0m \u001B[32m INFO\u001B[0m \u001B[2mtest\u001B[0m\u001B[2m:\u001B[0m input=Operator(\"=\")\r\n",
      "\u001B[2m2023-08-03T05:43:15.049359Z\u001B[0m \u001B[32m INFO\u001B[0m \u001B[2mtest\u001B[0m\u001B[2m:\u001B[0m input=StringLiteral(\"G2?V'{nJ2$/?fLg%*}<\")\r\n",
      "\u001B[2m2023-08-03T05:43:15.049539Z\u001B[0m \u001B[32m INFO\u001B[0m \u001B[2mtest\u001B[0m\u001B[2m:\u001B[0m input=StringLiteral(\"=AQ&P^/OW/k/'R@N%*\")\r\n",
      "\u001B[2m2023-08-03T05:43:15.049642Z\u001B[0m \u001B[32m INFO\u001B[0m \u001B[2mtest\u001B[0m\u001B[2m:\u001B[0m input=StringLiteral(\"$J$\")\r\n",
      "\u001B[2m2023-08-03T05:43:15.049735Z\u001B[0m \u001B[32m INFO\u001B[0m \u001B[2mtest\u001B[0m\u001B[2m:\u001B[0m input=StringLiteral(\"[%\")\r\n",
      "\u001B[2m2023-08-03T05:43:15.049783Z\u001B[0m \u001B[32m INFO\u001B[0m \u001B[2mtest\u001B[0m\u001B[2m:\u001B[0m input=Operator(\"+\")\r\n",
      "\u001B[2m2023-08-03T05:43:15.049831Z\u001B[0m \u001B[32m INFO\u001B[0m \u001B[2mtest\u001B[0m\u001B[2m:\u001B[0m input=Integer(-2244011542584242577)\r\n",
      "\u001B[2m2023-08-03T05:43:15.049929Z\u001B[0m \u001B[32m INFO\u001B[0m \u001B[2mtest\u001B[0m\u001B[2m:\u001B[0m input=Integer(2677992317170474617)\r\n",
      "\u001B[2m2023-08-03T05:43:15.050016Z\u001B[0m \u001B[32m INFO\u001B[0m \u001B[2mtest\u001B[0m\u001B[2m:\u001B[0m input=Identifier(\"DO0f4UA0MN9JjIYUE0UGnWJgMxX\")\r\n",
      "\u001B[2m2023-08-03T05:43:15.050295Z\u001B[0m \u001B[32m INFO\u001B[0m \u001B[2mtest\u001B[0m\u001B[2m:\u001B[0m input=Identifier(\"T788HO70ps0\")\r\n",
      "\u001B[2m2023-08-03T05:43:15.050643Z\u001B[0m \u001B[32m INFO\u001B[0m \u001B[2mtest\u001B[0m\u001B[2m:\u001B[0m input=StringLiteral(\".#{b!D~nz ab9Cf@?.c.p\")\r\n",
      "\u001B[2m2023-08-03T05:43:15.050783Z\u001B[0m \u001B[32m INFO\u001B[0m \u001B[2mtest\u001B[0m\u001B[2m:\u001B[0m input=Operator(\"+\")\r\n",
      "\u001B[2m2023-08-03T05:43:15.050929Z\u001B[0m \u001B[32m INFO\u001B[0m \u001B[2mtest\u001B[0m\u001B[2m:\u001B[0m input=Operator(\")\")\r\n",
      "\u001B[2m2023-08-03T05:43:15.051024Z\u001B[0m \u001B[32m INFO\u001B[0m \u001B[2mtest\u001B[0m\u001B[2m:\u001B[0m input=Operator(\"(\")\r\n",
      "\u001B[2m2023-08-03T05:43:15.051141Z\u001B[0m \u001B[32m INFO\u001B[0m \u001B[2mtest\u001B[0m\u001B[2m:\u001B[0m input=Comment(\"/\")\r\n",
      "\u001B[2m2023-08-03T05:43:15.051236Z\u001B[0m \u001B[32m INFO\u001B[0m \u001B[2mtest\u001B[0m\u001B[2m:\u001B[0m input=Comment(\"`Rkx/NnEa:B\\\"(#%H\\\\]{!tF\\\\%JQ Q&\")\r\n",
      "\u001B[2m2023-08-03T05:43:15.051338Z\u001B[0m \u001B[32m INFO\u001B[0m \u001B[2mtest\u001B[0m\u001B[2m:\u001B[0m input=StringLiteral(\"].n=/$A*\")\r\n",
      "\u001B[2m2023-08-03T05:43:15.051376Z\u001B[0m \u001B[32m INFO\u001B[0m \u001B[2mtest\u001B[0m\u001B[2m:\u001B[0m input=Integer(6523511452073327909)\r\n",
      "\u001B[2m2023-08-03T05:43:15.051455Z\u001B[0m \u001B[32m INFO\u001B[0m \u001B[2mtest\u001B[0m\u001B[2m:\u001B[0m input=StringLiteral(\"@n$.u'H.+k4qO`5AD7p#Y=T//`\")\r\n",
      "\u001B[2m2023-08-03T05:43:15.051546Z\u001B[0m \u001B[32m INFO\u001B[0m \u001B[2mtest\u001B[0m\u001B[2m:\u001B[0m input=StringLiteral(\"\")\r\n",
      "\u001B[2m2023-08-03T05:43:15.051606Z\u001B[0m \u001B[32m INFO\u001B[0m \u001B[2mtest\u001B[0m\u001B[2m:\u001B[0m input=Identifier(\"P35qq44YC8c4c1Os4ORR7Dp7ymLkavWu\")\r\n",
      "\u001B[2m2023-08-03T05:43:15.051689Z\u001B[0m \u001B[32m INFO\u001B[0m \u001B[2mtest\u001B[0m\u001B[2m:\u001B[0m input=Operator(\"(\")\r\n",
      "\u001B[2m2023-08-03T05:43:15.051742Z\u001B[0m \u001B[32m INFO\u001B[0m \u001B[2mtest\u001B[0m\u001B[2m:\u001B[0m input=Operator(\"+\")\r\n",
      "\u001B[2m2023-08-03T05:43:15.051846Z\u001B[0m \u001B[32m INFO\u001B[0m \u001B[2mtest\u001B[0m\u001B[2m:\u001B[0m input=Comment(\"!19#\\\\K)z\\\"M.\")\r\n",
      "\u001B[2m2023-08-03T05:43:15.051966Z\u001B[0m \u001B[32m INFO\u001B[0m \u001B[2mtest\u001B[0m\u001B[2m:\u001B[0m input=StringLiteral(\"xSxf{IMJ^L`jS>=F=:+\")\r\n",
      "\u001B[2m2023-08-03T05:43:15.052099Z\u001B[0m \u001B[32m INFO\u001B[0m \u001B[2mtest\u001B[0m\u001B[2m:\u001B[0m input=Integer(6360493023640216162)\r\n",
      "\u001B[2m2023-08-03T05:43:15.052326Z\u001B[0m \u001B[32m INFO\u001B[0m \u001B[2mtest\u001B[0m\u001B[2m:\u001B[0m input=Comment(\"s:K$}^mK'*xAcM\")\r\n",
      "\u001B[2m2023-08-03T05:43:15.052653Z\u001B[0m \u001B[32m INFO\u001B[0m \u001B[2mtest\u001B[0m\u001B[2m:\u001B[0m input=Identifier(\"JX3dOl6aUKFP6Be10CfN8MCKqh3Gs\")\r\n",
      "\u001B[2m2023-08-03T05:43:15.052791Z\u001B[0m \u001B[32m INFO\u001B[0m \u001B[2mtest\u001B[0m\u001B[2m:\u001B[0m input=Identifier(\"JcZyHIOcvLchL2gvFJsO1SR\")\r\n",
      "\u001B[2m2023-08-03T05:43:15.052903Z\u001B[0m \u001B[32m INFO\u001B[0m \u001B[2mtest\u001B[0m\u001B[2m:\u001B[0m input=StringLiteral(\"rnV/I32buC{5W@30{_Ff@T\")\r\n",
      "\u001B[2m2023-08-03T05:43:15.052963Z\u001B[0m \u001B[32m INFO\u001B[0m \u001B[2mtest\u001B[0m\u001B[2m:\u001B[0m input=StringLiteral(\"E/X\")\r\n",
      "\u001B[2m2023-08-03T05:43:15.053096Z\u001B[0m \u001B[32m INFO\u001B[0m \u001B[2mtest\u001B[0m\u001B[2m:\u001B[0m input=Comment(\"!'X<0X7\\\\$LJ2&0'I*zg9y?%\\\\u$qq%Gw\")\r\n",
      "\u001B[2m2023-08-03T05:43:15.053192Z\u001B[0m \u001B[32m INFO\u001B[0m \u001B[2mtest\u001B[0m\u001B[2m:\u001B[0m input=Identifier(\"JgqmOBaco\")\r\n",
      "\u001B[2m2023-08-03T05:43:15.053271Z\u001B[0m \u001B[32m INFO\u001B[0m \u001B[2mtest\u001B[0m\u001B[2m:\u001B[0m input=Comment(\"?f3?{Gn&DT\\\\i%Y#)`G$$A/?$ap;_+r5\")\r\n",
      "\u001B[2m2023-08-03T05:43:15.053417Z\u001B[0m \u001B[32m INFO\u001B[0m \u001B[2mtest\u001B[0m\u001B[2m:\u001B[0m input=Operator(\")\")\r\n",
      "\u001B[2m2023-08-03T05:43:15.053532Z\u001B[0m \u001B[32m INFO\u001B[0m \u001B[2mtest\u001B[0m\u001B[2m:\u001B[0m input=Comment(\"k./!\\\\@NVU|_St.e`~`W;0%i!r|=xt\")\r\n",
      "\u001B[2m2023-08-03T05:43:15.053729Z\u001B[0m \u001B[32m INFO\u001B[0m \u001B[2mtest\u001B[0m\u001B[2m:\u001B[0m input=Integer(-1710061135399379294)\r\n",
      "\u001B[2m2023-08-03T05:43:15.054092Z\u001B[0m \u001B[32m INFO\u001B[0m \u001B[2mtest\u001B[0m\u001B[2m:\u001B[0m input=Identifier(\"xfKU9e17ocsNy6XCIl6\")\r\n",
      "\u001B[2m2023-08-03T05:43:15.054712Z\u001B[0m \u001B[32m INFO\u001B[0m \u001B[2mtest\u001B[0m\u001B[2m:\u001B[0m input=StringLiteral(\")W`9:'.=abQ`;;Lm%I&/$%&=#b`&c\")\r\n",
      "\u001B[2m2023-08-03T05:43:15.055443Z\u001B[0m \u001B[32m INFO\u001B[0m \u001B[2mtest\u001B[0m\u001B[2m:\u001B[0m input=Comment(\"'*MaKd7*r$z\\\\|z!DAh!\")\r\n",
      "\u001B[2m2023-08-03T05:43:15.055568Z\u001B[0m \u001B[32m INFO\u001B[0m \u001B[2mtest\u001B[0m\u001B[2m:\u001B[0m input=Integer(4663009133052984502)\r\n",
      "\u001B[2m2023-08-03T05:43:15.055653Z\u001B[0m \u001B[32m INFO\u001B[0m \u001B[2mtest\u001B[0m\u001B[2m:\u001B[0m input=Integer(8831012069613139446)\r\n",
      "\u001B[2m2023-08-03T05:43:15.055741Z\u001B[0m \u001B[32m INFO\u001B[0m \u001B[2mtest\u001B[0m\u001B[2m:\u001B[0m input=Identifier(\"K2t153XrqD2\")\r\n",
      "\u001B[2m2023-08-03T05:43:15.055839Z\u001B[0m \u001B[32m INFO\u001B[0m \u001B[2mtest\u001B[0m\u001B[2m:\u001B[0m input=Identifier(\"e4ueSJuGY33lUlkG7B\")\r\n",
      "\u001B[2m2023-08-03T05:43:15.055892Z\u001B[0m \u001B[32m INFO\u001B[0m \u001B[2mtest\u001B[0m\u001B[2m:\u001B[0m input=Identifier(\"tKH\")\r\n",
      "\u001B[2m2023-08-03T05:43:15.055973Z\u001B[0m \u001B[32m INFO\u001B[0m \u001B[2mtest\u001B[0m\u001B[2m:\u001B[0m input=Operator(\"(\")\r\n",
      "\u001B[2m2023-08-03T05:43:15.056054Z\u001B[0m \u001B[32m INFO\u001B[0m \u001B[2mtest\u001B[0m\u001B[2m:\u001B[0m input=StringLiteral(\"|:Gabe\")\r\n",
      "\u001B[2m2023-08-03T05:43:15.056113Z\u001B[0m \u001B[32m INFO\u001B[0m \u001B[2mtest\u001B[0m\u001B[2m:\u001B[0m input=StringLiteral(\"wI.v=Ph:J_p`.\")\r\n",
      "\u001B[2m2023-08-03T05:43:15.056190Z\u001B[0m \u001B[32m INFO\u001B[0m \u001B[2mtest\u001B[0m\u001B[2m:\u001B[0m input=Identifier(\"QoYCuE90cZ9tfhlbYr1q7gWNPrk\")\r\n",
      "\u001B[2m2023-08-03T05:43:15.056264Z\u001B[0m \u001B[32m INFO\u001B[0m \u001B[2mtest\u001B[0m\u001B[2m:\u001B[0m input=Identifier(\"e8Ng4R4yY2bYV8QIpGD5Vbx\")\r\n",
      "\u001B[2m2023-08-03T05:43:15.056345Z\u001B[0m \u001B[32m INFO\u001B[0m \u001B[2mtest\u001B[0m\u001B[2m:\u001B[0m input=Operator(\"-\")\r\n",
      "\u001B[2m2023-08-03T05:43:15.056477Z\u001B[0m \u001B[32m INFO\u001B[0m \u001B[2mtest\u001B[0m\u001B[2m:\u001B[0m input=StringLiteral(\"k`=OHmdVh{~g{.?0``mQ/7\")\r\n",
      "\u001B[2m2023-08-03T05:43:15.056577Z\u001B[0m \u001B[32m INFO\u001B[0m \u001B[2mtest\u001B[0m\u001B[2m:\u001B[0m input=Identifier(\"h907rtR1iYKOy\")\r\n",
      "\u001B[2m2023-08-03T05:43:15.056657Z\u001B[0m \u001B[32m INFO\u001B[0m \u001B[2mtest\u001B[0m\u001B[2m:\u001B[0m input=Integer(269283062496089047)\r\n",
      "\u001B[2m2023-08-03T05:43:15.056731Z\u001B[0m \u001B[32m INFO\u001B[0m \u001B[2mtest\u001B[0m\u001B[2m:\u001B[0m input=Integer(-8058790799481289442)\r\n",
      "\u001B[2m2023-08-03T05:43:15.056809Z\u001B[0m \u001B[32m INFO\u001B[0m \u001B[2mtest\u001B[0m\u001B[2m:\u001B[0m input=Operator(\"=\")\r\n",
      "\u001B[2m2023-08-03T05:43:15.056904Z\u001B[0m \u001B[32m INFO\u001B[0m \u001B[2mtest\u001B[0m\u001B[2m:\u001B[0m input=Comment(\".?CT/42zX):\\\\TIGb7\")\r\n",
      "\u001B[2m2023-08-03T05:43:15.056985Z\u001B[0m \u001B[32m INFO\u001B[0m \u001B[2mtest\u001B[0m\u001B[2m:\u001B[0m input=Integer(-7859102292914627635)\r\n",
      "\u001B[2m2023-08-03T05:43:15.057079Z\u001B[0m \u001B[32m INFO\u001B[0m \u001B[2mtest\u001B[0m\u001B[2m:\u001B[0m input=Identifier(\"zALx1GF6u1748PD56mNh42\")\r\n",
      "\u001B[2m2023-08-03T05:43:15.057178Z\u001B[0m \u001B[32m INFO\u001B[0m \u001B[2mtest\u001B[0m\u001B[2m:\u001B[0m input=Identifier(\"Ian20pe8\")\r\n",
      "\u001B[2m2023-08-03T05:43:15.057286Z\u001B[0m \u001B[32m INFO\u001B[0m \u001B[2mtest\u001B[0m\u001B[2m:\u001B[0m input=StringLiteral(\"9<'=9%<UfN} :/|4`hx<_&&'%jD<\")\r\n",
      "\u001B[2m2023-08-03T05:43:15.057381Z\u001B[0m \u001B[32m INFO\u001B[0m \u001B[2mtest\u001B[0m\u001B[2m:\u001B[0m input=Operator(\")\")\r\n",
      "\u001B[2m2023-08-03T05:43:15.057530Z\u001B[0m \u001B[32m INFO\u001B[0m \u001B[2mtest\u001B[0m\u001B[2m:\u001B[0m input=StringLiteral(\"~$?OR@Z*EXK*$.A{~=\")\r\n",
      "\u001B[2m2023-08-03T05:43:15.057620Z\u001B[0m \u001B[32m INFO\u001B[0m \u001B[2mtest\u001B[0m\u001B[2m:\u001B[0m input=Operator(\"+\")\r\n",
      "\u001B[2m2023-08-03T05:43:15.057681Z\u001B[0m \u001B[32m INFO\u001B[0m \u001B[2mtest\u001B[0m\u001B[2m:\u001B[0m input=StringLiteral(\"&=X%O=W`?*{*\")\r\n",
      "\u001B[2m2023-08-03T05:43:15.057767Z\u001B[0m \u001B[32m INFO\u001B[0m \u001B[2mtest\u001B[0m\u001B[2m:\u001B[0m input=Operator(\"(\")\r\n",
      "\u001B[2m2023-08-03T05:43:15.057851Z\u001B[0m \u001B[32m INFO\u001B[0m \u001B[2mtest\u001B[0m\u001B[2m:\u001B[0m input=Operator(\"*\")\r\n",
      "\u001B[2m2023-08-03T05:43:15.057932Z\u001B[0m \u001B[32m INFO\u001B[0m \u001B[2mtest\u001B[0m\u001B[2m:\u001B[0m input=Integer(-5249330131061129079)\r\n",
      "\u001B[2m2023-08-03T05:43:15.057992Z\u001B[0m \u001B[32m INFO\u001B[0m \u001B[2mtest\u001B[0m\u001B[2m:\u001B[0m input=Comment(\"pf\")\r\n",
      "\u001B[2m2023-08-03T05:43:15.058124Z\u001B[0m \u001B[32m INFO\u001B[0m \u001B[2mtest\u001B[0m\u001B[2m:\u001B[0m input=Identifier(\"N6Kz9qRC5Cv\")\r\n",
      "\u001B[2m2023-08-03T05:43:15.058607Z\u001B[0m \u001B[32m INFO\u001B[0m \u001B[2mtest\u001B[0m\u001B[2m:\u001B[0m input=Operator(\"(\")\r\n",
      "\u001B[2m2023-08-03T05:43:15.058972Z\u001B[0m \u001B[32m INFO\u001B[0m \u001B[2mtest\u001B[0m\u001B[2m:\u001B[0m input=StringLiteral(\"X%4UcE!%7x/U,`2-PM{P2$\")\r\n",
      "\u001B[2m2023-08-03T05:43:15.059123Z\u001B[0m \u001B[32m INFO\u001B[0m \u001B[2mtest\u001B[0m\u001B[2m:\u001B[0m input=Identifier(\"c49\")\r\n",
      "test prop_parse_format_idempotent ... ok\r\n",
      "test adding_and_then_removing_an_item_from_the_cart_leaves_the_cart_unchanged ... ok\r\n",
      "\r\n",
      "test result: ok. 3 passed; 0 failed; 0 ignored; 0 measured; 0 filtered out; finished in 0.20s\r\n",
      "\r\n"
     ]
    }
   ],
   "source": [
    "$env:RUST_LOG=\"info\"\n",
    "{ cargo test --release } | Invoke-Block"
   ]
  },
  {
   "cell_type": "code",
   "execution_count": null,
   "metadata": {
    "dotnet_interactive": {
     "language": "pwsh"
    },
    "polyglot_notebook": {
     "kernelName": "pwsh"
    }
   },
   "outputs": [
    {
     "name": "stdout",
     "output_type": "stream",
     "text": [
      "app=test\r\n"
     ]
    }
   ],
   "source": [
    "{ . $ScriptDir/../../target/release/test$(GetExecutableSuffix) } | Invoke-Block"
   ]
  }
 ],
 "metadata": {
  "kernelspec": {
   "display_name": ".NET (C#)",
   "language": "C#",
   "name": ".net-csharp"
  },
  "language_info": {
   "file_extension": ".cs",
   "mimetype": "text/x-csharp",
   "name": "C#",
   "pygments_lexer": "csharp",
   "version": "10.0"
  },
  "polyglot_notebook": {
   "defaultKernelName": "csharp",
   "items": [
    {
     "name": "csharp"
    }
   ]
  },
  "dotnet_interactive": {
   "defaultKernelName": "csharp",
   "items": [
    {
     "name": "csharp"
    }
   ]
  }
 },
 "nbformat": 4,
 "nbformat_minor": 5
}