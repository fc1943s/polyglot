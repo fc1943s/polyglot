{
 "cells": [
  {
   "cell_type": "code",
   "execution_count": null,
   "metadata": {
    "dotnet_interactive": {
     "language": "pwsh"
    },
    "polyglot_notebook": {
     "kernelName": "pwsh"
    }
   },
   "outputs": [],
   "source": [
    ". ../../scripts/nbs_header.ps1\n",
    ". ../../scripts/core.ps1"
   ]
  },
  {
   "cell_type": "code",
   "execution_count": null,
   "metadata": {
    "dotnet_interactive": {
     "language": "pwsh"
    },
    "polyglot_notebook": {
     "kernelName": "pwsh"
    }
   },
   "outputs": [
    {
     "name": "stdout",
     "output_type": "stream",
     "text": [
      "06:55:40 #1 [Debug] runWithTimeoutAsync / timeout: 60\r\n",
      "06:55:40 #2 [Debug] executeAsync / options: { Command =\r\n",
      "   \"dotnet \"C:\\home\\git\\polyglot\\deps\\The-Spiral-Language\\The Spiral Language 2\\artifacts\\bin\\The Spiral Language 2\\release\\Spiral.dll\" port=13805\"\r\n",
      "  WorkingDirectory = None\r\n",
      "  CancellationToken = Some System.Threading.CancellationToken\r\n",
      "  OnLine = Some <fun:main@341-319> }\r\n",
      "06:55:40 #3 [Debug] > Server bound to: tcp://*:13805 & tcp://*:13806\r\n",
      "06:55:40 #4 [Debug] > pwd: C:\\home\\git\\polyglot\\spiral\\test\r\n",
      "06:55:40 #5 [Debug] > dll_path: C:\\home\\git\\polyglot\\deps\\The-Spiral-Language\\The Spiral Language 2\\artifacts\\bin\\The Spiral Language 2\\release\r\n",
      "06:55:41 #6 [Debug] buildFile / fsxContent:  / errors: [] / firstErrorMs:\r\n",
      "06:55:41 #7 [Debug] sendJson / port: 13805 / json: {\"FileOpen\":{\"spiText\":\"inl app () =\\n    \\u0022test\\u0022 |\\u003E fsharp.console.write_line\\n    0i32\\n\\ninl main () =\\n    print_static \\u0022\\u003Ctest\\u003E\\u0022\\n\\n    app\\n    |\\u003E dyn\\n    |\\u003E ignore\\n\\n    print_static \\u0022\\u003C/test\\u003E\\u0022\\n\",\"uri\":\"file:///C:\\\\home\\\\git\\\\polyglot\\\\spiral\\\\test\\\\test.spi\"}} / result.FrameCount: 1 / resultString.Length: 0\r\n",
      "06:55:41 #8 [Debug] sendJson / port: 13805 / json: {\"BuildFile\":{\"backend\":\"Fsharp\",\"uri\":\"file:///C:\\\\home\\\\git\\\\polyglot\\\\spiral\\\\test\\\\test.spi\"}} / result.FrameCount: 1 / resultString.Length: 0\r\n",
      "06:55:41 #9 [Debug] > Building C:\\home\\git\\polyglot\\spiral\\test\\test.spi\r\n",
      "06:55:42 #10 [Debug] > <test>\r\n",
      "06:55:42 #11 [Debug] > </test>\r\n",
      "06:55:42 #12 [Debug] buildFile / fsxContent: Some(let rec closure0 () () : int32 =\r\n",
      "    let v0 : string = \"test\"\r\n",
      "    System.Console.WriteLine v0\r\n",
      "    0\r\n",
      "let v0 : (unit -> int32) = closure0()\r\n",
      "()\r\n",
      ") / errors: [] / firstErrorMs:\r\n",
      "06:55:42 #13 [Debug] watchWithFilter / Disposing watch stream / fullPath: C:\\home\\git\\polyglot\\spiral\\test / filter: FileName, LastWrite\r\n"
     ]
    }
   ],
   "source": [
    "{ . ../../apps/spiral/target/bin/Release/net8.0/Supervisor$(GetExecutableSuffix) --buildfile test.spi test.fsx --timeout 10000 } | Invoke-Block"
   ]
  },
  {
   "cell_type": "code",
   "execution_count": null,
   "metadata": {
    "dotnet_interactive": {
     "language": "pwsh"
    },
    "polyglot_notebook": {
     "kernelName": "pwsh"
    }
   },
   "outputs": [
    {
     "name": "stdout",
     "output_type": "stream",
     "text": [
      "Fable 4.1.4: F# to Rust compiler (status: alpha)\r\n",
      "\r\n",
      "Thanks to the contributor! @ctaggart\r\n",
      "Stand with Ukraine! https://standwithukraine.com.ua/\r\n",
      "\r\n",
      "Parsing test.fsproj...\r\n",
      "Retrieving project options from cache, in case of issues run `dotnet fable clean` or try `--noCache` option.\r\n",
      "Project and references (1 source files) parsed in 186ms\r\n",
      "\r\n"
     ]
    }
   ],
   "source": [
    "dotnet fable --optimize --lang rs --extension .rs"
   ]
  },
  {
   "cell_type": "code",
   "execution_count": null,
   "metadata": {
    "dotnet_interactive": {
     "language": "pwsh"
    },
    "polyglot_notebook": {
     "kernelName": "pwsh"
    }
   },
   "outputs": [],
   "source": [
    "cargo fmt --"
   ]
  },
  {
   "cell_type": "code",
   "execution_count": null,
   "metadata": {
    "dotnet_interactive": {
     "language": "pwsh"
    },
    "polyglot_notebook": {
     "kernelName": "pwsh"
    }
   },
   "outputs": [
    {
     "name": "stdout",
     "output_type": "stream",
     "text": [
      "\u001B[31;1mwarning: C:\\home\\git\\polyglot\\Cargo.toml: unused manifest key: lib.members\u001B[0m\r\n",
      "\u001B[31;1mwarning: unused import: `info`\u001B[0m\r\n",
      "\u001B[31;1m   --> spiral\\test\\./main.rs:190:15\u001B[0m\r\n",
      "\u001B[31;1m    |\u001B[0m\r\n",
      "\u001B[31;1m190 | use tracing::{info, Level};\u001B[0m\r\n",
      "\u001B[31;1m    |               ^^^^\u001B[0m\r\n",
      "\u001B[31;1m    |\u001B[0m\r\n",
      "\u001B[31;1m    = note: `#[warn(unused_imports)]` on by default\u001B[0m\r\n",
      "\u001B[31;1m\u001B[0m\r\n",
      "\u001B[31;1mwarning: associated items `new`, `add_item`, and `remove_item` are never used\u001B[0m\r\n",
      "\u001B[31;1m  --> spiral\\test\\./main.rs:46:8\u001B[0m\r\n",
      "\u001B[31;1m   |\u001B[0m\r\n",
      "\u001B[31;1m45 | impl Cart {\u001B[0m\r\n",
      "\u001B[31;1m   | --------- associated items in this implementation\u001B[0m\r\n",
      "\u001B[31;1m46 |     fn new() -> Cart {\u001B[0m\r\n",
      "\u001B[31;1m   |        ^^^\u001B[0m\r\n",
      "\u001B[31;1m...\u001B[0m\r\n",
      "\u001B[31;1m50 |     fn add_item(&mut self, item: Item) {\u001B[0m\r\n",
      "\u001B[31;1m   |        ^^^^^^^^\u001B[0m\r\n",
      "\u001B[31;1m...\u001B[0m\r\n",
      "\u001B[31;1m56 |     fn remove_item(&mut self, item: &Item) {\u001B[0m\r\n",
      "\u001B[31;1m   |        ^^^^^^^^^^^\u001B[0m\r\n",
      "\u001B[31;1m   |\u001B[0m\r\n",
      "\u001B[31;1m   = note: `#[warn(dead_code)]` on by default\u001B[0m\r\n",
      "\u001B[31;1m\u001B[0m\r\n",
      "\u001B[31;1mwarning: function `parse_comment` is never used\u001B[0m\r\n",
      "\u001B[31;1m   --> spiral\\test\\./main.rs:124:4\u001B[0m\r\n",
      "\u001B[31;1m    |\u001B[0m\r\n",
      "\u001B[31;1m124 | fn parse_comment(input: &str) -> IResult<&str, SpiralToken> {\u001B[0m\r\n",
      "\u001B[31;1m    |    ^^^^^^^^^^^^^\u001B[0m\r\n",
      "\u001B[31;1m\u001B[0m\r\n",
      "\u001B[31;1mwarning: function `parse_string` is never used\u001B[0m\r\n",
      "\u001B[31;1m   --> spiral\\test\\./main.rs:130:4\u001B[0m\r\n",
      "\u001B[31;1m    |\u001B[0m\r\n",
      "\u001B[31;1m130 | fn parse_string(input: &str) -> IResult<&str, SpiralToken> {\u001B[0m\r\n",
      "\u001B[31;1m    |    ^^^^^^^^^^^^\u001B[0m\r\n",
      "\u001B[31;1m\u001B[0m\r\n",
      "\u001B[31;1mwarning: function `parse_identifier` is never used\u001B[0m\r\n",
      "\u001B[31;1m   --> spiral\\test\\./main.rs:145:4\u001B[0m\r\n",
      "\u001B[31;1m    |\u001B[0m\r\n",
      "\u001B[31;1m145 | fn parse_identifier(input: &str) -> IResult<&str, SpiralToken> {\u001B[0m\r\n",
      "\u001B[31;1m    |    ^^^^^^^^^^^^^^^^\u001B[0m\r\n",
      "\u001B[31;1m\u001B[0m\r\n",
      "\u001B[31;1mwarning: function `parse_integer` is never used\u001B[0m\r\n",
      "\u001B[31;1m   --> spiral\\test\\./main.rs:157:4\u001B[0m\r\n",
      "\u001B[31;1m    |\u001B[0m\r\n",
      "\u001B[31;1m157 | fn parse_integer(input: &str) -> IResult<&str, SpiralToken> {\u001B[0m\r\n",
      "\u001B[31;1m    |    ^^^^^^^^^^^^^\u001B[0m\r\n",
      "\u001B[31;1m\u001B[0m\r\n",
      "\u001B[31;1mwarning: function `parse_operator` is never used\u001B[0m\r\n",
      "\u001B[31;1m   --> spiral\\test\\./main.rs:165:4\u001B[0m\r\n",
      "\u001B[31;1m    |\u001B[0m\r\n",
      "\u001B[31;1m165 | fn parse_operator(input: &str) -> IResult<&str, SpiralToken> {\u001B[0m\r\n",
      "\u001B[31;1m    |    ^^^^^^^^^^^^^^\u001B[0m\r\n",
      "\u001B[31;1m\u001B[0m\r\n",
      "\u001B[31;1mwarning: function `parse_token` is never used\u001B[0m\r\n",
      "\u001B[31;1m   --> spiral\\test\\./main.rs:170:4\u001B[0m\r\n",
      "\u001B[31;1m    |\u001B[0m\r\n",
      "\u001B[31;1m170 | fn parse_token(input: &str) -> IResult<&str, SpiralToken> {\u001B[0m\r\n",
      "\u001B[31;1m    |    ^^^^^^^^^^^\u001B[0m\r\n",
      "\u001B[31;1m\u001B[0m\r\n",
      "\u001B[31;1mwarning: function `format_token` is never used\u001B[0m\r\n",
      "\u001B[31;1m   --> spiral\\test\\./main.rs:180:4\u001B[0m\r\n",
      "\u001B[31;1m    |\u001B[0m\r\n",
      "\u001B[31;1m180 | fn format_token(token: &SpiralToken) -> String {\u001B[0m\r\n",
      "\u001B[31;1m    |    ^^^^^^^^^^^^\u001B[0m\r\n",
      "\u001B[31;1m\u001B[0m\r\n",
      "\u001B[31;1mwarning: function `parse_expression` is never used\u001B[0m\r\n",
      "\u001B[31;1m   --> spiral\\test\\./main.rs:213:4\u001B[0m\r\n",
      "\u001B[31;1m    |\u001B[0m\r\n",
      "\u001B[31;1m213 | fn parse_expression(input: &str) -> IResult<&str, SpiralToken> {\u001B[0m\r\n",
      "\u001B[31;1m    |    ^^^^^^^^^^^^^^^^\u001B[0m\r\n",
      "\u001B[31;1m\u001B[0m\r\n",
      "\u001B[31;1mwarning: `test` (bin \"test\") generated 10 warnings (run `cargo fix --bin \"test\"` to apply 1 suggestion)\u001B[0m\r\n",
      "\u001B[31;1m    Finished release [optimized] target(s) in 1.80s\u001B[0m\r\n"
     ]
    }
   ],
   "source": [
    "cargo build --release"
   ]
  },
  {
   "cell_type": "code",
   "execution_count": null,
   "metadata": {
    "dotnet_interactive": {
     "language": "pwsh"
    },
    "polyglot_notebook": {
     "kernelName": "pwsh"
    }
   },
   "outputs": [
    {
     "name": "stdout",
     "output_type": "stream",
     "text": [
      "\u001B[31;1mwarning: C:\\home\\git\\polyglot\\Cargo.toml: unused manifest key: lib.members\u001B[0m\r\n",
      "\u001B[31;1m    Finished release [optimized] target(s) in 0.22s\u001B[0m\r\n",
      "\u001B[31;1m     Running unittests main.rs (C:\\home\\git\\polyglot\\target\\release\\deps\\test-3491f06a619f2cbb.exe)\u001B[0m\r\n",
      "\r\n",
      "running 3 tests\r\n",
      "test test_parse_number ... ok\r\n",
      "\u001B[2m2023-08-27T10:10:35.314157Z\u001B[0m \u001B[32m INFO\u001B[0m \u001B[2mtest\u001B[0m\u001B[2m:\u001B[0m input=Comment(\"7=yh9Vj?bH<x%\")\r\n",
      "\u001B[2m2023-08-27T10:10:35.314345Z\u001B[0m \u001B[32m INFO\u001B[0m \u001B[2mtest\u001B[0m\u001B[2m:\u001B[0m input=Integer(-5917807012640536965)\r\n",
      "\u001B[2m2023-08-27T10:10:35.314421Z\u001B[0m \u001B[32m INFO\u001B[0m \u001B[2mtest\u001B[0m\u001B[2m:\u001B[0m input=Operator(\"=\")\r\n",
      "\u001B[2m2023-08-27T10:10:35.314554Z\u001B[0m \u001B[32m INFO\u001B[0m \u001B[2mtest\u001B[0m\u001B[2m:\u001B[0m input=Comment(\"$)eME#{y{'9{{?R\\\\C*-Txpr8uki<0M0\\\\\")\r\n",
      "\u001B[2m2023-08-27T10:10:35.314614Z\u001B[0m \u001B[32m INFO\u001B[0m \u001B[2mtest\u001B[0m\u001B[2m:\u001B[0m input=Integer(-4652609578246771871)\r\n",
      "\u001B[2m2023-08-27T10:10:35.314688Z\u001B[0m \u001B[32m INFO\u001B[0m \u001B[2mtest\u001B[0m\u001B[2m:\u001B[0m input=StringLiteral(\"KwG]qA%L'{Zu1[\")\r\n",
      "\u001B[2m2023-08-27T10:10:35.314807Z\u001B[0m \u001B[32m INFO\u001B[0m \u001B[2mtest\u001B[0m\u001B[2m:\u001B[0m input=Identifier(\"YV9FdutDQiL\")\r\n",
      "\u001B[2m2023-08-27T10:10:35.314903Z\u001B[0m \u001B[32m INFO\u001B[0m \u001B[2mtest\u001B[0m\u001B[2m:\u001B[0m input=Integer(5386092447997110621)\r\n",
      "\u001B[2m2023-08-27T10:10:35.314982Z\u001B[0m \u001B[32m INFO\u001B[0m \u001B[2mtest\u001B[0m\u001B[2m:\u001B[0m input=Operator(\"-\")\r\n",
      "\u001B[2m2023-08-27T10:10:35.315059Z\u001B[0m \u001B[32m INFO\u001B[0m \u001B[2mtest\u001B[0m\u001B[2m:\u001B[0m input=StringLiteral(\"{23%pZ~{3Rm@%15a?t<->Wf1gS^/k@=\")\r\n",
      "\u001B[2m2023-08-27T10:10:35.315115Z\u001B[0m \u001B[32m INFO\u001B[0m \u001B[2mtest\u001B[0m\u001B[2m:\u001B[0m input=Integer(4069573044409651071)\r\n",
      "\u001B[2m2023-08-27T10:10:35.315160Z\u001B[0m \u001B[32m INFO\u001B[0m \u001B[2mtest\u001B[0m\u001B[2m:\u001B[0m input=Integer(2958588527924169824)\r\n",
      "\u001B[2m2023-08-27T10:10:35.315288Z\u001B[0m \u001B[32m INFO\u001B[0m \u001B[2mtest\u001B[0m\u001B[2m:\u001B[0m input=Comment(\"?/\\\"'wo\\\"y\\\\z$6>J)w#\")\r\n",
      "\u001B[2m2023-08-27T10:10:35.315518Z\u001B[0m \u001B[32m INFO\u001B[0m \u001B[2mtest\u001B[0m\u001B[2m:\u001B[0m input=Comment(\")<<D\\\\PYUO>*t`\")\r\n",
      "\u001B[2m2023-08-27T10:10:35.315672Z\u001B[0m \u001B[32m INFO\u001B[0m \u001B[2mtest\u001B[0m\u001B[2m:\u001B[0m input=Comment(\"` /8{B9HVp&AntI\\\"Y'0{<Js`QCat:m*j\")\r\n",
      "\u001B[2m2023-08-27T10:10:35.315802Z\u001B[0m \u001B[32m INFO\u001B[0m \u001B[2mtest\u001B[0m\u001B[2m:\u001B[0m input=StringLiteral(\"C4UEM,t%:}h/wooZ&<&=;E*HvC&t\")\r\n",
      "\u001B[2m2023-08-27T10:10:35.316101Z\u001B[0m \u001B[32m INFO\u001B[0m \u001B[2mtest\u001B[0m\u001B[2m:\u001B[0m input=Identifier(\"fwP09LB3UisQ\")\r\n",
      "\u001B[2m2023-08-27T10:10:35.316215Z\u001B[0m \u001B[32m INFO\u001B[0m \u001B[2mtest\u001B[0m\u001B[2m:\u001B[0m input=Identifier(\"c6PQ14z6WH3\")\r\n",
      "\u001B[2m2023-08-27T10:10:35.316277Z\u001B[0m \u001B[32m INFO\u001B[0m \u001B[2mtest\u001B[0m\u001B[2m:\u001B[0m input=Integer(546523985116349025)\r\n",
      "\u001B[2m2023-08-27T10:10:35.316328Z\u001B[0m \u001B[32m INFO\u001B[0m \u001B[2mtest\u001B[0m\u001B[2m:\u001B[0m input=Identifier(\"I5Oj5HGyQe7W0c8Qqcd9g5RzM\")\r\n",
      "\u001B[2m2023-08-27T10:10:35.316472Z\u001B[0m \u001B[32m INFO\u001B[0m \u001B[2mtest\u001B[0m\u001B[2m:\u001B[0m input=StringLiteral(\"$A!'*>*P%>sI`B%\")\r\n",
      "\u001B[2m2023-08-27T10:10:35.316612Z\u001B[0m \u001B[32m INFO\u001B[0m \u001B[2mtest\u001B[0m\u001B[2m:\u001B[0m input=Operator(\"/\")\r\n",
      "\u001B[2m2023-08-27T10:10:35.316711Z\u001B[0m \u001B[32m INFO\u001B[0m \u001B[2mtest\u001B[0m\u001B[2m:\u001B[0m input=Identifier(\"R84sFIRM9bx9St\")\r\n",
      "\u001B[2m2023-08-27T10:10:35.316773Z\u001B[0m \u001B[32m INFO\u001B[0m \u001B[2mtest\u001B[0m\u001B[2m:\u001B[0m input=Integer(2481828862074728835)\r\n",
      "\u001B[2m2023-08-27T10:10:35.316803Z\u001B[0m \u001B[32m INFO\u001B[0m \u001B[2mtest\u001B[0m\u001B[2m:\u001B[0m input=Operator(\"=\")\r\n",
      "\u001B[2m2023-08-27T10:10:35.316865Z\u001B[0m \u001B[32m INFO\u001B[0m \u001B[2mtest\u001B[0m\u001B[2m:\u001B[0m input=Identifier(\"tbne5lZ74kKz4b6WygnxzEi3\")\r\n",
      "\u001B[2m2023-08-27T10:10:35.316940Z\u001B[0m \u001B[32m INFO\u001B[0m \u001B[2mtest\u001B[0m\u001B[2m:\u001B[0m input=StringLiteral(\"0.q#=dm]EiC:kHS/{2'nr%$\")\r\n",
      "\u001B[2m2023-08-27T10:10:35.316989Z\u001B[0m \u001B[32m INFO\u001B[0m \u001B[2mtest\u001B[0m\u001B[2m:\u001B[0m input=Integer(-1705732045818836735)\r\n",
      "\u001B[2m2023-08-27T10:10:35.317122Z\u001B[0m \u001B[32m INFO\u001B[0m \u001B[2mtest\u001B[0m\u001B[2m:\u001B[0m input=Integer(3024882525742520457)\r\n",
      "\u001B[2m2023-08-27T10:10:35.317233Z\u001B[0m \u001B[32m INFO\u001B[0m \u001B[2mtest\u001B[0m\u001B[2m:\u001B[0m input=Integer(-7866514881192589368)\r\n",
      "\u001B[2m2023-08-27T10:10:35.317307Z\u001B[0m \u001B[32m INFO\u001B[0m \u001B[2mtest\u001B[0m\u001B[2m:\u001B[0m input=StringLiteral(\"2X \")\r\n",
      "\u001B[2m2023-08-27T10:10:35.317343Z\u001B[0m \u001B[32m INFO\u001B[0m \u001B[2mtest\u001B[0m\u001B[2m:\u001B[0m input=Integer(1099618972731586721)\r\n",
      "\u001B[2m2023-08-27T10:10:35.317392Z\u001B[0m \u001B[32m INFO\u001B[0m \u001B[2mtest\u001B[0m\u001B[2m:\u001B[0m input=StringLiteral(\"R1'd|^^NF?Yd/$c2J9|>D`e`Ly?\")\r\n",
      "\u001B[2m2023-08-27T10:10:35.317422Z\u001B[0m \u001B[32m INFO\u001B[0m \u001B[2mtest\u001B[0m\u001B[2m:\u001B[0m input=Integer(-5019607238931966430)\r\n",
      "\u001B[2m2023-08-27T10:10:35.317613Z\u001B[0m \u001B[32m INFO\u001B[0m \u001B[2mtest\u001B[0m\u001B[2m:\u001B[0m input=Comment(\"M'.Ed\")\r\n",
      "\u001B[2m2023-08-27T10:10:35.317674Z\u001B[0m \u001B[32m INFO\u001B[0m \u001B[2mtest\u001B[0m\u001B[2m:\u001B[0m input=Integer(7808534420679034855)\r\n",
      "\u001B[2m2023-08-27T10:10:35.317712Z\u001B[0m \u001B[32m INFO\u001B[0m \u001B[2mtest\u001B[0m\u001B[2m:\u001B[0m input=Integer(-3385346628886760607)\r\n",
      "\u001B[2m2023-08-27T10:10:35.317768Z\u001B[0m \u001B[32m INFO\u001B[0m \u001B[2mtest\u001B[0m\u001B[2m:\u001B[0m input=Comment(\"`&]9a>O%pK.<$.\\\"~?./0sJ\")\r\n",
      "\u001B[2m2023-08-27T10:10:35.317838Z\u001B[0m \u001B[32m INFO\u001B[0m \u001B[2mtest\u001B[0m\u001B[2m:\u001B[0m input=Comment(\"u4<I`z`\\\\\\\\*k7-L]~?`D/JLafX>/\")\r\n",
      "\u001B[2m2023-08-27T10:10:35.317870Z\u001B[0m \u001B[32m INFO\u001B[0m \u001B[2mtest\u001B[0m\u001B[2m:\u001B[0m input=Integer(-7538991608605379306)\r\n",
      "\u001B[2m2023-08-27T10:10:35.317920Z\u001B[0m \u001B[32m INFO\u001B[0m \u001B[2mtest\u001B[0m\u001B[2m:\u001B[0m input=Identifier(\"RySMBx0\")\r\n",
      "\u001B[2m2023-08-27T10:10:35.317951Z\u001B[0m \u001B[32m INFO\u001B[0m \u001B[2mtest\u001B[0m\u001B[2m:\u001B[0m input=StringLiteral(\"A@_\")\r\n",
      "\u001B[2m2023-08-27T10:10:35.318143Z\u001B[0m \u001B[32m INFO\u001B[0m \u001B[2mtest\u001B[0m\u001B[2m:\u001B[0m input=Identifier(\"x03GetxLy10j5wB05\")\r\n",
      "\u001B[2m2023-08-27T10:10:35.318233Z\u001B[0m \u001B[32m INFO\u001B[0m \u001B[2mtest\u001B[0m\u001B[2m:\u001B[0m input=Identifier(\"wl5C3odF549vjK6\")\r\n",
      "\u001B[2m2023-08-27T10:10:35.318275Z\u001B[0m \u001B[32m INFO\u001B[0m \u001B[2mtest\u001B[0m\u001B[2m:\u001B[0m input=Identifier(\"yA81bt\")\r\n",
      "\u001B[2m2023-08-27T10:10:35.318311Z\u001B[0m \u001B[32m INFO\u001B[0m \u001B[2mtest\u001B[0m\u001B[2m:\u001B[0m input=StringLiteral(\"`g$eW*Z<&` l\")\r\n",
      "\u001B[2m2023-08-27T10:10:35.318402Z\u001B[0m \u001B[32m INFO\u001B[0m \u001B[2mtest\u001B[0m\u001B[2m:\u001B[0m input=StringLiteral(\">\")\r\n",
      "\u001B[2m2023-08-27T10:10:35.318580Z\u001B[0m \u001B[32m INFO\u001B[0m \u001B[2mtest\u001B[0m\u001B[2m:\u001B[0m input=Identifier(\"Fk8b87vh8eq\")\r\n",
      "\u001B[2m2023-08-27T10:10:35.318656Z\u001B[0m \u001B[32m INFO\u001B[0m \u001B[2mtest\u001B[0m\u001B[2m:\u001B[0m input=StringLiteral(\"7f7$MZr].i<?&G:V.H*gx?{Y6\")\r\n",
      "\u001B[2m2023-08-27T10:10:35.318858Z\u001B[0m \u001B[32m INFO\u001B[0m \u001B[2mtest\u001B[0m\u001B[2m:\u001B[0m input=Identifier(\"awI\")\r\n",
      "\u001B[2m2023-08-27T10:10:35.318910Z\u001B[0m \u001B[32m INFO\u001B[0m \u001B[2mtest\u001B[0m\u001B[2m:\u001B[0m input=Integer(6132349868883595973)\r\n",
      "\u001B[2m2023-08-27T10:10:35.318941Z\u001B[0m \u001B[32m INFO\u001B[0m \u001B[2mtest\u001B[0m\u001B[2m:\u001B[0m input=Identifier(\"uEGAgAa0w94HwPvV4p\")\r\n",
      "\u001B[2m2023-08-27T10:10:35.318969Z\u001B[0m \u001B[32m INFO\u001B[0m \u001B[2mtest\u001B[0m\u001B[2m:\u001B[0m input=Integer(3068484492952494576)\r\n",
      "\u001B[2m2023-08-27T10:10:35.319023Z\u001B[0m \u001B[32m INFO\u001B[0m \u001B[2mtest\u001B[0m\u001B[2m:\u001B[0m input=Integer(-477778944681220257)\r\n",
      "\u001B[2m2023-08-27T10:10:35.319086Z\u001B[0m \u001B[32m INFO\u001B[0m \u001B[2mtest\u001B[0m\u001B[2m:\u001B[0m input=Identifier(\"eqtrE41Pyvo1\")\r\n",
      "\u001B[2m2023-08-27T10:10:35.319163Z\u001B[0m \u001B[32m INFO\u001B[0m \u001B[2mtest\u001B[0m\u001B[2m:\u001B[0m input=StringLiteral(\"=<Ky%-<*`~&C)9#x2/B-0&(^,{H}*:\")\r\n",
      "\u001B[2m2023-08-27T10:10:35.319222Z\u001B[0m \u001B[32m INFO\u001B[0m \u001B[2mtest\u001B[0m\u001B[2m:\u001B[0m input=Integer(6563117853712032927)\r\n",
      "\u001B[2m2023-08-27T10:10:35.319282Z\u001B[0m \u001B[32m INFO\u001B[0m \u001B[2mtest\u001B[0m\u001B[2m:\u001B[0m input=StringLiteral(\":w%f=<n/'~v%{VpE][#*{<l#/\")\r\n",
      "\u001B[2m2023-08-27T10:10:35.319349Z\u001B[0m \u001B[32m INFO\u001B[0m \u001B[2mtest\u001B[0m\u001B[2m:\u001B[0m input=Integer(-1822039337499773258)\r\n",
      "\u001B[2m2023-08-27T10:10:35.319387Z\u001B[0m \u001B[32m INFO\u001B[0m \u001B[2mtest\u001B[0m\u001B[2m:\u001B[0m input=Identifier(\"YYziCAN3qnt\")\r\n",
      "\u001B[2m2023-08-27T10:10:35.319489Z\u001B[0m \u001B[32m INFO\u001B[0m \u001B[2mtest\u001B[0m\u001B[2m:\u001B[0m input=Comment(\"]^{p#&-\")\r\n",
      "\u001B[2m2023-08-27T10:10:35.319591Z\u001B[0m \u001B[32m INFO\u001B[0m \u001B[2mtest\u001B[0m\u001B[2m:\u001B[0m input=StringLiteral(\"klwu=*hPh6\")\r\n",
      "\u001B[2m2023-08-27T10:10:35.319657Z\u001B[0m \u001B[32m INFO\u001B[0m \u001B[2mtest\u001B[0m\u001B[2m:\u001B[0m input=Identifier(\"gobnM56j45SMi0J\")\r\n",
      "\u001B[2m2023-08-27T10:10:35.319697Z\u001B[0m \u001B[32m INFO\u001B[0m \u001B[2mtest\u001B[0m\u001B[2m:\u001B[0m input=Identifier(\"V9rSjOP1Mk\")\r\n",
      "\u001B[2m2023-08-27T10:10:35.319749Z\u001B[0m \u001B[32m INFO\u001B[0m \u001B[2mtest\u001B[0m\u001B[2m:\u001B[0m input=Comment(\"\")\r\n",
      "\u001B[2m2023-08-27T10:10:35.319920Z\u001B[0m \u001B[32m INFO\u001B[0m \u001B[2mtest\u001B[0m\u001B[2m:\u001B[0m input=StringLiteral(\"?r_j\")\r\n",
      "\u001B[2m2023-08-27T10:10:35.320015Z\u001B[0m \u001B[32m INFO\u001B[0m \u001B[2mtest\u001B[0m\u001B[2m:\u001B[0m input=Identifier(\"rEtdinMUe4K0RW25dYFslnFhcq3q6W\")\r\n",
      "\u001B[2m2023-08-27T10:10:35.320075Z\u001B[0m \u001B[32m INFO\u001B[0m \u001B[2mtest\u001B[0m\u001B[2m:\u001B[0m input=Integer(1232256954472868383)\r\n",
      "\u001B[2m2023-08-27T10:10:35.320172Z\u001B[0m \u001B[32m INFO\u001B[0m \u001B[2mtest\u001B[0m\u001B[2m:\u001B[0m input=Comment(\":N=Ti5n\\\\Q&z:MN\\\"8yl&(</j*Mz:|.'\")\r\n",
      "\u001B[2m2023-08-27T10:10:35.320242Z\u001B[0m \u001B[32m INFO\u001B[0m \u001B[2mtest\u001B[0m\u001B[2m:\u001B[0m input=Operator(\")\")\r\n",
      "\u001B[2m2023-08-27T10:10:35.320273Z\u001B[0m \u001B[32m INFO\u001B[0m \u001B[2mtest\u001B[0m\u001B[2m:\u001B[0m input=Comment(\"H?g^=?\\\"\")\r\n",
      "\u001B[2m2023-08-27T10:10:35.320333Z\u001B[0m \u001B[32m INFO\u001B[0m \u001B[2mtest\u001B[0m\u001B[2m:\u001B[0m input=StringLiteral(\"*vzS?Uh&]&(Dw$r2,'<3zp2:\")\r\n",
      "\u001B[2m2023-08-27T10:10:35.320414Z\u001B[0m \u001B[32m INFO\u001B[0m \u001B[2mtest\u001B[0m\u001B[2m:\u001B[0m input=Operator(\"-\")\r\n",
      "\u001B[2m2023-08-27T10:10:35.320448Z\u001B[0m \u001B[32m INFO\u001B[0m \u001B[2mtest\u001B[0m\u001B[2m:\u001B[0m input=Identifier(\"q9jS3\")\r\n",
      "\u001B[2m2023-08-27T10:10:35.320512Z\u001B[0m \u001B[32m INFO\u001B[0m \u001B[2mtest\u001B[0m\u001B[2m:\u001B[0m input=Comment(\":oJ(\")\r\n",
      "\u001B[2m2023-08-27T10:10:35.320563Z\u001B[0m \u001B[32m INFO\u001B[0m \u001B[2mtest\u001B[0m\u001B[2m:\u001B[0m input=Comment(\"enSh.`'*{,b4+:\\\"CUw.8:>:A!\")\r\n",
      "\u001B[2m2023-08-27T10:10:35.320645Z\u001B[0m \u001B[32m INFO\u001B[0m \u001B[2mtest\u001B[0m\u001B[2m:\u001B[0m input=Identifier(\"Y2JXDIJhBqU9ef9dGvr2I7wkB\")\r\n",
      "\u001B[2m2023-08-27T10:10:35.320692Z\u001B[0m \u001B[32m INFO\u001B[0m \u001B[2mtest\u001B[0m\u001B[2m:\u001B[0m input=Operator(\"(\")\r\n",
      "\u001B[2m2023-08-27T10:10:35.320724Z\u001B[0m \u001B[32m INFO\u001B[0m \u001B[2mtest\u001B[0m\u001B[2m:\u001B[0m input=Integer(3194170071251799491)\r\n",
      "\u001B[2m2023-08-27T10:10:35.320785Z\u001B[0m \u001B[32m INFO\u001B[0m \u001B[2mtest\u001B[0m\u001B[2m:\u001B[0m input=Comment(\"q./Uv`'\")\r\n",
      "\u001B[2m2023-08-27T10:10:35.320819Z\u001B[0m \u001B[32m INFO\u001B[0m \u001B[2mtest\u001B[0m\u001B[2m:\u001B[0m input=Operator(\"/\")\r\n",
      "\u001B[2m2023-08-27T10:10:35.320876Z\u001B[0m \u001B[32m INFO\u001B[0m \u001B[2mtest\u001B[0m\u001B[2m:\u001B[0m input=StringLiteral(\"R2\")\r\n",
      "\u001B[2m2023-08-27T10:10:35.320913Z\u001B[0m \u001B[32m INFO\u001B[0m \u001B[2mtest\u001B[0m\u001B[2m:\u001B[0m input=StringLiteral(\"Pa<%$\")\r\n",
      "\u001B[2m2023-08-27T10:10:35.320967Z\u001B[0m \u001B[32m INFO\u001B[0m \u001B[2mtest\u001B[0m\u001B[2m:\u001B[0m input=Integer(-1643991178528997581)\r\n",
      "\u001B[2m2023-08-27T10:10:35.321018Z\u001B[0m \u001B[32m INFO\u001B[0m \u001B[2mtest\u001B[0m\u001B[2m:\u001B[0m input=Comment(\"=T-Rf`G@Grn*:H<<'.4Ct$'KU({Ax\")\r\n",
      "\u001B[2m2023-08-27T10:10:35.321078Z\u001B[0m \u001B[32m INFO\u001B[0m \u001B[2mtest\u001B[0m\u001B[2m:\u001B[0m input=Integer(4959563475468667216)\r\n",
      "\u001B[2m2023-08-27T10:10:35.321140Z\u001B[0m \u001B[32m INFO\u001B[0m \u001B[2mtest\u001B[0m\u001B[2m:\u001B[0m input=Operator(\"=\")\r\n",
      "\u001B[2m2023-08-27T10:10:35.321179Z\u001B[0m \u001B[32m INFO\u001B[0m \u001B[2mtest\u001B[0m\u001B[2m:\u001B[0m input=Integer(9089552239011077480)\r\n",
      "\u001B[2m2023-08-27T10:10:35.321222Z\u001B[0m \u001B[32m INFO\u001B[0m \u001B[2mtest\u001B[0m\u001B[2m:\u001B[0m input=Operator(\"/\")\r\n",
      "\u001B[2m2023-08-27T10:10:35.321309Z\u001B[0m \u001B[32m INFO\u001B[0m \u001B[2mtest\u001B[0m\u001B[2m:\u001B[0m input=StringLiteral(\"b8(+</F%B?8`=0%=+%$@17kC/0<$\")\r\n",
      "\u001B[2m2023-08-27T10:10:35.321352Z\u001B[0m \u001B[32m INFO\u001B[0m \u001B[2mtest\u001B[0m\u001B[2m:\u001B[0m input=Integer(4818467144937028689)\r\n",
      "\u001B[2m2023-08-27T10:10:35.321444Z\u001B[0m \u001B[32m INFO\u001B[0m \u001B[2mtest\u001B[0m\u001B[2m:\u001B[0m input=Integer(-7796088796185167168)\r\n",
      "\u001B[2m2023-08-27T10:10:35.321736Z\u001B[0m \u001B[32m INFO\u001B[0m \u001B[2mtest\u001B[0m\u001B[2m:\u001B[0m input=Comment(\"?s]Wa.h|aykh$g!::0zjm7w{<\")\r\n",
      "\u001B[2m2023-08-27T10:10:35.321848Z\u001B[0m \u001B[32m INFO\u001B[0m \u001B[2mtest\u001B[0m\u001B[2m:\u001B[0m input=Operator(\"=\")\r\n",
      "\u001B[2m2023-08-27T10:10:35.321895Z\u001B[0m \u001B[32m INFO\u001B[0m \u001B[2mtest\u001B[0m\u001B[2m:\u001B[0m input=Operator(\"(\")\r\n",
      "\u001B[2m2023-08-27T10:10:35.321956Z\u001B[0m \u001B[32m INFO\u001B[0m \u001B[2mtest\u001B[0m\u001B[2m:\u001B[0m input=Operator(\"(\")\r\n",
      "\u001B[2m2023-08-27T10:10:35.322004Z\u001B[0m \u001B[32m INFO\u001B[0m \u001B[2mtest\u001B[0m\u001B[2m:\u001B[0m input=Comment(\"b:X'\\\"0C\\\":\\\\{/6{{j<.YW\")\r\n",
      "\u001B[2m2023-08-27T10:10:35.322091Z\u001B[0m \u001B[32m INFO\u001B[0m \u001B[2mtest\u001B[0m\u001B[2m:\u001B[0m input=StringLiteral(\"}QyOZ{/?'-*/{}q%z^'@<(9E&=/_e\")\r\n",
      "\u001B[2m2023-08-27T10:10:35.322160Z\u001B[0m \u001B[32m INFO\u001B[0m \u001B[2mtest\u001B[0m\u001B[2m:\u001B[0m input=Integer(-8978070460377757762)\r\n",
      "\u001B[2m2023-08-27T10:10:35.322189Z\u001B[0m \u001B[32m INFO\u001B[0m \u001B[2mtest\u001B[0m\u001B[2m:\u001B[0m input=Integer(8821486927730691314)\r\n",
      "\u001B[2m2023-08-27T10:10:35.322218Z\u001B[0m \u001B[32m INFO\u001B[0m \u001B[2mtest\u001B[0m\u001B[2m:\u001B[0m input=Integer(629561045215203650)\r\n",
      "\u001B[2m2023-08-27T10:10:35.322244Z\u001B[0m \u001B[32m INFO\u001B[0m \u001B[2mtest\u001B[0m\u001B[2m:\u001B[0m input=Operator(\"+\")\r\n",
      "\u001B[2m2023-08-27T10:10:35.322296Z\u001B[0m \u001B[32m INFO\u001B[0m \u001B[2mtest\u001B[0m\u001B[2m:\u001B[0m input=Integer(-7497018745557356927)\r\n",
      "\u001B[2m2023-08-27T10:10:35.322333Z\u001B[0m \u001B[32m INFO\u001B[0m \u001B[2mtest\u001B[0m\u001B[2m:\u001B[0m input=Comment(\"AH[dG\")\r\n",
      "\u001B[2m2023-08-27T10:10:35.322367Z\u001B[0m \u001B[32m INFO\u001B[0m \u001B[2mtest\u001B[0m\u001B[2m:\u001B[0m input=Operator(\"(\")\r\n",
      "\u001B[2m2023-08-27T10:10:35.322442Z\u001B[0m \u001B[32m INFO\u001B[0m \u001B[2mtest\u001B[0m\u001B[2m:\u001B[0m input=StringLiteral(\"D`h0|w*fM^R^H>KccdO'Z2?*I|m\")\r\n",
      "\u001B[2m2023-08-27T10:10:35.322478Z\u001B[0m \u001B[32m INFO\u001B[0m \u001B[2mtest\u001B[0m\u001B[2m:\u001B[0m input=Integer(-8169484524922001373)\r\n",
      "\u001B[2m2023-08-27T10:10:35.322551Z\u001B[0m \u001B[32m INFO\u001B[0m \u001B[2mtest\u001B[0m\u001B[2m:\u001B[0m input=StringLiteral(\")*29`+|({Nh<hiN'E1\")\r\n",
      "\u001B[2m2023-08-27T10:10:35.322586Z\u001B[0m \u001B[32m INFO\u001B[0m \u001B[2mtest\u001B[0m\u001B[2m:\u001B[0m input=Comment(\"\")\r\n",
      "\u001B[2m2023-08-27T10:10:35.322619Z\u001B[0m \u001B[32m INFO\u001B[0m \u001B[2mtest\u001B[0m\u001B[2m:\u001B[0m input=Identifier(\"psl4\")\r\n",
      "\u001B[2m2023-08-27T10:10:35.322648Z\u001B[0m \u001B[32m INFO\u001B[0m \u001B[2mtest\u001B[0m\u001B[2m:\u001B[0m input=Operator(\"=\")\r\n",
      "\u001B[2m2023-08-27T10:10:35.322766Z\u001B[0m \u001B[32m INFO\u001B[0m \u001B[2mtest\u001B[0m\u001B[2m:\u001B[0m input=Integer(4469677514817396932)\r\n",
      "\u001B[2m2023-08-27T10:10:35.322926Z\u001B[0m \u001B[32m INFO\u001B[0m \u001B[2mtest\u001B[0m\u001B[2m:\u001B[0m input=Identifier(\"MGmiMoM\")\r\n",
      "\u001B[2m2023-08-27T10:10:35.323115Z\u001B[0m \u001B[32m INFO\u001B[0m \u001B[2mtest\u001B[0m\u001B[2m:\u001B[0m input=StringLiteral(\"%AUN''%de7(89E=g\")\r\n",
      "\u001B[2m2023-08-27T10:10:35.323283Z\u001B[0m \u001B[32m INFO\u001B[0m \u001B[2mtest\u001B[0m\u001B[2m:\u001B[0m input=Comment(\"rS8exo\")\r\n",
      "\u001B[2m2023-08-27T10:10:35.323349Z\u001B[0m \u001B[32m INFO\u001B[0m \u001B[2mtest\u001B[0m\u001B[2m:\u001B[0m input=Operator(\"=\")\r\n",
      "\u001B[2m2023-08-27T10:10:35.323398Z\u001B[0m \u001B[32m INFO\u001B[0m \u001B[2mtest\u001B[0m\u001B[2m:\u001B[0m input=Identifier(\"T13bTON9XrEEufvfA7Q\")\r\n",
      "\u001B[2m2023-08-27T10:10:35.323485Z\u001B[0m \u001B[32m INFO\u001B[0m \u001B[2mtest\u001B[0m\u001B[2m:\u001B[0m input=Comment(\"t=RFCs1?w*wJ0AT&+;$I@*lK]wl^:\")\r\n",
      "\u001B[2m2023-08-27T10:10:35.323623Z\u001B[0m \u001B[32m INFO\u001B[0m \u001B[2mtest\u001B[0m\u001B[2m:\u001B[0m input=Identifier(\"gI1910itU1m4f8wUKT\")\r\n",
      "\u001B[2m2023-08-27T10:10:35.323698Z\u001B[0m \u001B[32m INFO\u001B[0m \u001B[2mtest\u001B[0m\u001B[2m:\u001B[0m input=Comment(\"PD=/\")\r\n",
      "\u001B[2m2023-08-27T10:10:35.323734Z\u001B[0m \u001B[32m INFO\u001B[0m \u001B[2mtest\u001B[0m\u001B[2m:\u001B[0m input=Operator(\"+\")\r\n",
      "\u001B[2m2023-08-27T10:10:35.323772Z\u001B[0m \u001B[32m INFO\u001B[0m \u001B[2mtest\u001B[0m\u001B[2m:\u001B[0m input=Operator(\"*\")\r\n",
      "\u001B[2m2023-08-27T10:10:35.323873Z\u001B[0m \u001B[32m INFO\u001B[0m \u001B[2mtest\u001B[0m\u001B[2m:\u001B[0m input=Identifier(\"RQNT4sAEr\")\r\n",
      "\u001B[2m2023-08-27T10:10:35.323899Z\u001B[0m \u001B[32m INFO\u001B[0m \u001B[2mtest\u001B[0m\u001B[2m:\u001B[0m input=Operator(\"-\")\r\n",
      "\u001B[2m2023-08-27T10:10:35.323936Z\u001B[0m \u001B[32m INFO\u001B[0m \u001B[2mtest\u001B[0m\u001B[2m:\u001B[0m input=Identifier(\"Dw6T9ZTIeWV7mREW4C2ucJ5DE\")\r\n",
      "\u001B[2m2023-08-27T10:10:35.323993Z\u001B[0m \u001B[32m INFO\u001B[0m \u001B[2mtest\u001B[0m\u001B[2m:\u001B[0m input=Operator(\"+\")\r\n",
      "\u001B[2m2023-08-27T10:10:35.324030Z\u001B[0m \u001B[32m INFO\u001B[0m \u001B[2mtest\u001B[0m\u001B[2m:\u001B[0m input=Comment(\"G'D{i(s\")\r\n",
      "\u001B[2m2023-08-27T10:10:35.324064Z\u001B[0m \u001B[32m INFO\u001B[0m \u001B[2mtest\u001B[0m\u001B[2m:\u001B[0m input=Integer(-1258194239409504045)\r\n",
      "\u001B[2m2023-08-27T10:10:35.324115Z\u001B[0m \u001B[32m INFO\u001B[0m \u001B[2mtest\u001B[0m\u001B[2m:\u001B[0m input=Operator(\"=\")\r\n",
      "\u001B[2m2023-08-27T10:10:35.324157Z\u001B[0m \u001B[32m INFO\u001B[0m \u001B[2mtest\u001B[0m\u001B[2m:\u001B[0m input=Identifier(\"GhcI8UY\")\r\n",
      "\u001B[2m2023-08-27T10:10:35.324282Z\u001B[0m \u001B[32m INFO\u001B[0m \u001B[2mtest\u001B[0m\u001B[2m:\u001B[0m input=Comment(\"*BF*?/`m4iTeLCW2Xx`I|~gQ:<V<ci\")\r\n",
      "\u001B[2m2023-08-27T10:10:35.324604Z\u001B[0m \u001B[32m INFO\u001B[0m \u001B[2mtest\u001B[0m\u001B[2m:\u001B[0m input=Identifier(\"lBrOcaA3y39n\")\r\n",
      "\u001B[2m2023-08-27T10:10:35.324728Z\u001B[0m \u001B[32m INFO\u001B[0m \u001B[2mtest\u001B[0m\u001B[2m:\u001B[0m input=Identifier(\"AmIw3mNuIIox8DJLjcSrXji0S\")\r\n",
      "\u001B[2m2023-08-27T10:10:35.324791Z\u001B[0m \u001B[32m INFO\u001B[0m \u001B[2mtest\u001B[0m\u001B[2m:\u001B[0m input=Integer(2544461549044894957)\r\n",
      "\u001B[2m2023-08-27T10:10:35.324837Z\u001B[0m \u001B[32m INFO\u001B[0m \u001B[2mtest\u001B[0m\u001B[2m:\u001B[0m input=Identifier(\"Az7HaVMl\")\r\n",
      "\u001B[2m2023-08-27T10:10:35.324921Z\u001B[0m \u001B[32m INFO\u001B[0m \u001B[2mtest\u001B[0m\u001B[2m:\u001B[0m input=Operator(\"-\")\r\n",
      "\u001B[2m2023-08-27T10:10:35.324978Z\u001B[0m \u001B[32m INFO\u001B[0m \u001B[2mtest\u001B[0m\u001B[2m:\u001B[0m input=Operator(\"=\")\r\n",
      "\u001B[2m2023-08-27T10:10:35.325010Z\u001B[0m \u001B[32m INFO\u001B[0m \u001B[2mtest\u001B[0m\u001B[2m:\u001B[0m input=Identifier(\"u3\")\r\n",
      "\u001B[2m2023-08-27T10:10:35.325060Z\u001B[0m \u001B[32m INFO\u001B[0m \u001B[2mtest\u001B[0m\u001B[2m:\u001B[0m input=Identifier(\"eIw9Mba\")\r\n",
      "\u001B[2m2023-08-27T10:10:35.325129Z\u001B[0m \u001B[32m INFO\u001B[0m \u001B[2mtest\u001B[0m\u001B[2m:\u001B[0m input=StringLiteral(\"<\")\r\n",
      "\u001B[2m2023-08-27T10:10:35.325176Z\u001B[0m \u001B[32m INFO\u001B[0m \u001B[2mtest\u001B[0m\u001B[2m:\u001B[0m input=StringLiteral(\"L~ePO#n]J@$4C|65;= $_}..\")\r\n",
      "\u001B[2m2023-08-27T10:10:35.325223Z\u001B[0m \u001B[32m INFO\u001B[0m \u001B[2mtest\u001B[0m\u001B[2m:\u001B[0m input=StringLiteral(\"c~]{LI?'?N:x:P:3u?\")\r\n",
      "\u001B[2m2023-08-27T10:10:35.325283Z\u001B[0m \u001B[32m INFO\u001B[0m \u001B[2mtest\u001B[0m\u001B[2m:\u001B[0m input=Operator(\"=\")\r\n",
      "\u001B[2m2023-08-27T10:10:35.325313Z\u001B[0m \u001B[32m INFO\u001B[0m \u001B[2mtest\u001B[0m\u001B[2m:\u001B[0m input=Comment(\"\")\r\n",
      "\u001B[2m2023-08-27T10:10:35.325361Z\u001B[0m \u001B[32m INFO\u001B[0m \u001B[2mtest\u001B[0m\u001B[2m:\u001B[0m input=Identifier(\"CR635y3NsbDUnNC94G1DslT775m\")\r\n",
      "\u001B[2m2023-08-27T10:10:35.325468Z\u001B[0m \u001B[32m INFO\u001B[0m \u001B[2mtest\u001B[0m\u001B[2m:\u001B[0m input=Identifier(\"PEmW8ax5AvmUJe21iLLXz62isA\")\r\n",
      "\u001B[2m2023-08-27T10:10:35.325533Z\u001B[0m \u001B[32m INFO\u001B[0m \u001B[2mtest\u001B[0m\u001B[2m:\u001B[0m input=Identifier(\"HOja\")\r\n",
      "\u001B[2m2023-08-27T10:10:35.325590Z\u001B[0m \u001B[32m INFO\u001B[0m \u001B[2mtest\u001B[0m\u001B[2m:\u001B[0m input=Identifier(\"ixcIG74gEuryUPRQQ2\")\r\n",
      "\u001B[2m2023-08-27T10:10:35.325636Z\u001B[0m \u001B[32m INFO\u001B[0m \u001B[2mtest\u001B[0m\u001B[2m:\u001B[0m input=Identifier(\"meNNm484nkfs4ZdSgwHXCV\")\r\n",
      "\u001B[2m2023-08-27T10:10:35.325697Z\u001B[0m \u001B[32m INFO\u001B[0m \u001B[2mtest\u001B[0m\u001B[2m:\u001B[0m input=Operator(\")\")\r\n",
      "\u001B[2m2023-08-27T10:10:35.325787Z\u001B[0m \u001B[32m INFO\u001B[0m \u001B[2mtest\u001B[0m\u001B[2m:\u001B[0m input=Identifier(\"WMoU\")\r\n",
      "\u001B[2m2023-08-27T10:10:35.325951Z\u001B[0m \u001B[32m INFO\u001B[0m \u001B[2mtest\u001B[0m\u001B[2m:\u001B[0m input=Operator(\")\")\r\n",
      "\u001B[2m2023-08-27T10:10:35.326051Z\u001B[0m \u001B[32m INFO\u001B[0m \u001B[2mtest\u001B[0m\u001B[2m:\u001B[0m input=Integer(3056082342762225662)\r\n",
      "\u001B[2m2023-08-27T10:10:35.326129Z\u001B[0m \u001B[32m INFO\u001B[0m \u001B[2mtest\u001B[0m\u001B[2m:\u001B[0m input=StringLiteral(\"&<j:%1?!{gU``?/A:y7Gr:pNi<F<L\")\r\n",
      "\u001B[2m2023-08-27T10:10:35.326181Z\u001B[0m \u001B[32m INFO\u001B[0m \u001B[2mtest\u001B[0m\u001B[2m:\u001B[0m input=StringLiteral(\"xc'l*J+DCq$Qw/.$B{C\")\r\n",
      "\u001B[2m2023-08-27T10:10:35.326252Z\u001B[0m \u001B[32m INFO\u001B[0m \u001B[2mtest\u001B[0m\u001B[2m:\u001B[0m input=StringLiteral(\"'b&$`&5$Nf%'/Ln;*;*/`6\")\r\n",
      "\u001B[2m2023-08-27T10:10:35.326323Z\u001B[0m \u001B[32m INFO\u001B[0m \u001B[2mtest\u001B[0m\u001B[2m:\u001B[0m input=Comment(\".`h8pc*{&w@1c.(pT<w1\")\r\n",
      "\u001B[2m2023-08-27T10:10:35.326435Z\u001B[0m \u001B[32m INFO\u001B[0m \u001B[2mtest\u001B[0m\u001B[2m:\u001B[0m input=Operator(\"-\")\r\n",
      "\u001B[2m2023-08-27T10:10:35.326495Z\u001B[0m \u001B[32m INFO\u001B[0m \u001B[2mtest\u001B[0m\u001B[2m:\u001B[0m input=Operator(\"-\")\r\n",
      "\u001B[2m2023-08-27T10:10:35.326547Z\u001B[0m \u001B[32m INFO\u001B[0m \u001B[2mtest\u001B[0m\u001B[2m:\u001B[0m input=Identifier(\"mch31z20b39fp3Zj9vwKiXKI0Nbp7b8p6\")\r\n",
      "\u001B[2m2023-08-27T10:10:35.326640Z\u001B[0m \u001B[32m INFO\u001B[0m \u001B[2mtest\u001B[0m\u001B[2m:\u001B[0m input=Identifier(\"wGQKLN9JOE6H8gdA6Mvbk4t2\")\r\n",
      "\u001B[2m2023-08-27T10:10:35.326789Z\u001B[0m \u001B[32m INFO\u001B[0m \u001B[2mtest\u001B[0m\u001B[2m:\u001B[0m input=Integer(5297654398421152424)\r\n",
      "\u001B[2m2023-08-27T10:10:35.327131Z\u001B[0m \u001B[32m INFO\u001B[0m \u001B[2mtest\u001B[0m\u001B[2m:\u001B[0m input=Comment(\"*%?\\\"*)=MrgU\")\r\n",
      "\u001B[2m2023-08-27T10:10:35.327227Z\u001B[0m \u001B[32m INFO\u001B[0m \u001B[2mtest\u001B[0m\u001B[2m:\u001B[0m input=Integer(-883578235400372314)\r\n",
      "\u001B[2m2023-08-27T10:10:35.327271Z\u001B[0m \u001B[32m INFO\u001B[0m \u001B[2mtest\u001B[0m\u001B[2m:\u001B[0m input=Comment(\"\\\\Ig;R$;Uhu?<f<5\")\r\n",
      "\u001B[2m2023-08-27T10:10:35.327340Z\u001B[0m \u001B[32m INFO\u001B[0m \u001B[2mtest\u001B[0m\u001B[2m:\u001B[0m input=StringLiteral(\"^vTl\")\r\n",
      "\u001B[2m2023-08-27T10:10:35.327397Z\u001B[0m \u001B[32m INFO\u001B[0m \u001B[2mtest\u001B[0m\u001B[2m:\u001B[0m input=Identifier(\"BFHn0uy1E8jmJ\")\r\n",
      "\u001B[2m2023-08-27T10:10:35.327457Z\u001B[0m \u001B[32m INFO\u001B[0m \u001B[2mtest\u001B[0m\u001B[2m:\u001B[0m input=Comment(\"%&x$y`G\")\r\n",
      "\u001B[2m2023-08-27T10:10:35.327512Z\u001B[0m \u001B[32m INFO\u001B[0m \u001B[2mtest\u001B[0m\u001B[2m:\u001B[0m input=StringLiteral(\"^%KD;I-\")\r\n",
      "\u001B[2m2023-08-27T10:10:35.327564Z\u001B[0m \u001B[32m INFO\u001B[0m \u001B[2mtest\u001B[0m\u001B[2m:\u001B[0m input=Integer(-3634371104460588544)\r\n",
      "\u001B[2m2023-08-27T10:10:35.327602Z\u001B[0m \u001B[32m INFO\u001B[0m \u001B[2mtest\u001B[0m\u001B[2m:\u001B[0m input=StringLiteral(\"=%3{6v@O>\")\r\n",
      "\u001B[2m2023-08-27T10:10:35.327652Z\u001B[0m \u001B[32m INFO\u001B[0m \u001B[2mtest\u001B[0m\u001B[2m:\u001B[0m input=Identifier(\"l3BygPfG7kndLM02rYGZJCBM31z\")\r\n",
      "\u001B[2m2023-08-27T10:10:35.327729Z\u001B[0m \u001B[32m INFO\u001B[0m \u001B[2mtest\u001B[0m\u001B[2m:\u001B[0m input=StringLiteral(\"(/}Mi[3:c@18$&~-%=S\")\r\n",
      "\u001B[2m2023-08-27T10:10:35.327801Z\u001B[0m \u001B[32m INFO\u001B[0m \u001B[2mtest\u001B[0m\u001B[2m:\u001B[0m input=Identifier(\"Q5jxcTBmi7dVGqmi\")\r\n",
      "\u001B[2m2023-08-27T10:10:35.327853Z\u001B[0m \u001B[32m INFO\u001B[0m \u001B[2mtest\u001B[0m\u001B[2m:\u001B[0m input=Comment(\"'TyMDq}*/$:.+&|Qo=9&\")\r\n",
      "\u001B[2m2023-08-27T10:10:35.327896Z\u001B[0m \u001B[32m INFO\u001B[0m \u001B[2mtest\u001B[0m\u001B[2m:\u001B[0m input=StringLiteral(\"'*$s\")\r\n",
      "\u001B[2m2023-08-27T10:10:35.327967Z\u001B[0m \u001B[32m INFO\u001B[0m \u001B[2mtest\u001B[0m\u001B[2m:\u001B[0m input=StringLiteral(\"clqC7]$h@, =&=Nc(;} b\")\r\n",
      "\u001B[2m2023-08-27T10:10:35.328021Z\u001B[0m \u001B[32m INFO\u001B[0m \u001B[2mtest\u001B[0m\u001B[2m:\u001B[0m input=StringLiteral(\".;`cJq\")\r\n",
      "\u001B[2m2023-08-27T10:10:35.328104Z\u001B[0m \u001B[32m INFO\u001B[0m \u001B[2mtest\u001B[0m\u001B[2m:\u001B[0m input=Integer(6929894754311678536)\r\n",
      "\u001B[2m2023-08-27T10:10:35.328153Z\u001B[0m \u001B[32m INFO\u001B[0m \u001B[2mtest\u001B[0m\u001B[2m:\u001B[0m input=Operator(\"*\")\r\n",
      "\u001B[2m2023-08-27T10:10:35.328268Z\u001B[0m \u001B[32m INFO\u001B[0m \u001B[2mtest\u001B[0m\u001B[2m:\u001B[0m input=Identifier(\"lY\")\r\n",
      "\u001B[2m2023-08-27T10:10:35.328372Z\u001B[0m \u001B[32m INFO\u001B[0m \u001B[2mtest\u001B[0m\u001B[2m:\u001B[0m input=Operator(\"-\")\r\n",
      "\u001B[2m2023-08-27T10:10:35.328413Z\u001B[0m \u001B[32m INFO\u001B[0m \u001B[2mtest\u001B[0m\u001B[2m:\u001B[0m input=Comment(\"T+E: \\\\3<\")\r\n",
      "\u001B[2m2023-08-27T10:10:35.328465Z\u001B[0m \u001B[32m INFO\u001B[0m \u001B[2mtest\u001B[0m\u001B[2m:\u001B[0m input=Integer(3618283440392748133)\r\n",
      "\u001B[2m2023-08-27T10:10:35.328510Z\u001B[0m \u001B[32m INFO\u001B[0m \u001B[2mtest\u001B[0m\u001B[2m:\u001B[0m input=Comment(\"F/%5.C#R \\\\B$`d]x@k]y(lB*?$\")\r\n",
      "\u001B[2m2023-08-27T10:10:35.328573Z\u001B[0m \u001B[32m INFO\u001B[0m \u001B[2mtest\u001B[0m\u001B[2m:\u001B[0m input=StringLiteral(\"J\")\r\n",
      "\u001B[2m2023-08-27T10:10:35.328607Z\u001B[0m \u001B[32m INFO\u001B[0m \u001B[2mtest\u001B[0m\u001B[2m:\u001B[0m input=StringLiteral(\"U/Q=tLz<\")\r\n",
      "\u001B[2m2023-08-27T10:10:35.328665Z\u001B[0m \u001B[32m INFO\u001B[0m \u001B[2mtest\u001B[0m\u001B[2m:\u001B[0m input=Comment(\"kI%aFs=`a~\\\"\")\r\n",
      "\u001B[2m2023-08-27T10:10:35.328696Z\u001B[0m \u001B[32m INFO\u001B[0m \u001B[2mtest\u001B[0m\u001B[2m:\u001B[0m input=Operator(\"=\")\r\n",
      "\u001B[2m2023-08-27T10:10:35.328747Z\u001B[0m \u001B[32m INFO\u001B[0m \u001B[2mtest\u001B[0m\u001B[2m:\u001B[0m input=Integer(-7852303703598907091)\r\n",
      "\u001B[2m2023-08-27T10:10:35.328850Z\u001B[0m \u001B[32m INFO\u001B[0m \u001B[2mtest\u001B[0m\u001B[2m:\u001B[0m input=Comment(\"LVn%F[)qm>d\\\"*<I$j\\\"?\")\r\n",
      "\u001B[2m2023-08-27T10:10:35.328913Z\u001B[0m \u001B[32m INFO\u001B[0m \u001B[2mtest\u001B[0m\u001B[2m:\u001B[0m input=StringLiteral(\"<Ve_\")\r\n",
      "\u001B[2m2023-08-27T10:10:35.329073Z\u001B[0m \u001B[32m INFO\u001B[0m \u001B[2mtest\u001B[0m\u001B[2m:\u001B[0m input=Identifier(\"U9ZW1YUSAB34X0YOtispnU6505W43\")\r\n",
      "\u001B[2m2023-08-27T10:10:35.329164Z\u001B[0m \u001B[32m INFO\u001B[0m \u001B[2mtest\u001B[0m\u001B[2m:\u001B[0m input=Operator(\"*\")\r\n",
      "\u001B[2m2023-08-27T10:10:35.329196Z\u001B[0m \u001B[32m INFO\u001B[0m \u001B[2mtest\u001B[0m\u001B[2m:\u001B[0m input=Integer(2619530398043231364)\r\n",
      "\u001B[2m2023-08-27T10:10:35.329260Z\u001B[0m \u001B[32m INFO\u001B[0m \u001B[2mtest\u001B[0m\u001B[2m:\u001B[0m input=Comment(\";\\\"RsF$s\")\r\n",
      "\u001B[2m2023-08-27T10:10:35.329310Z\u001B[0m \u001B[32m INFO\u001B[0m \u001B[2mtest\u001B[0m\u001B[2m:\u001B[0m input=Identifier(\"Q5T5gjY4Nw9Oe6q\")\r\n",
      "\u001B[2m2023-08-27T10:10:35.329367Z\u001B[0m \u001B[32m INFO\u001B[0m \u001B[2mtest\u001B[0m\u001B[2m:\u001B[0m input=Integer(-6677242945955272935)\r\n",
      "\u001B[2m2023-08-27T10:10:35.329503Z\u001B[0m \u001B[32m INFO\u001B[0m \u001B[2mtest\u001B[0m\u001B[2m:\u001B[0m input=Identifier(\"qRJcZ9uI4q587GkFngCk3itE1h5kdJ7K\")\r\n",
      "\u001B[2m2023-08-27T10:10:35.329551Z\u001B[0m \u001B[32m INFO\u001B[0m \u001B[2mtest\u001B[0m\u001B[2m:\u001B[0m input=Identifier(\"lJl8S29\")\r\n",
      "\u001B[2m2023-08-27T10:10:35.329586Z\u001B[0m \u001B[32m INFO\u001B[0m \u001B[2mtest\u001B[0m\u001B[2m:\u001B[0m input=StringLiteral(\"{Fm/%E~dwpw|<i?+ja{%=O\")\r\n",
      "\u001B[2m2023-08-27T10:10:35.329610Z\u001B[0m \u001B[32m INFO\u001B[0m \u001B[2mtest\u001B[0m\u001B[2m:\u001B[0m input=Identifier(\"i\")\r\n",
      "\u001B[2m2023-08-27T10:10:35.329636Z\u001B[0m \u001B[32m INFO\u001B[0m \u001B[2mtest\u001B[0m\u001B[2m:\u001B[0m input=Identifier(\"tDmTqEAS7634WvcSI65\")\r\n",
      "\u001B[2m2023-08-27T10:10:35.329732Z\u001B[0m \u001B[32m INFO\u001B[0m \u001B[2mtest\u001B[0m\u001B[2m:\u001B[0m input=Integer(5491764706102143878)\r\n",
      "\u001B[2m2023-08-27T10:10:35.329782Z\u001B[0m \u001B[32m INFO\u001B[0m \u001B[2mtest\u001B[0m\u001B[2m:\u001B[0m input=Identifier(\"Af9h7uXcVzW3kzPzWU3\")\r\n",
      "\u001B[2m2023-08-27T10:10:35.329819Z\u001B[0m \u001B[32m INFO\u001B[0m \u001B[2mtest\u001B[0m\u001B[2m:\u001B[0m input=StringLiteral(\"=*)H'M<=ecH*:g?,{F<w&7{=\")\r\n",
      "\u001B[2m2023-08-27T10:10:35.329858Z\u001B[0m \u001B[32m INFO\u001B[0m \u001B[2mtest\u001B[0m\u001B[2m:\u001B[0m input=Operator(\"*\")\r\n",
      "\u001B[2m2023-08-27T10:10:35.329919Z\u001B[0m \u001B[32m INFO\u001B[0m \u001B[2mtest\u001B[0m\u001B[2m:\u001B[0m input=StringLiteral(\"\")\r\n",
      "\u001B[2m2023-08-27T10:10:35.329949Z\u001B[0m \u001B[32m INFO\u001B[0m \u001B[2mtest\u001B[0m\u001B[2m:\u001B[0m input=Operator(\"(\")\r\n",
      "\u001B[2m2023-08-27T10:10:35.330097Z\u001B[0m \u001B[32m INFO\u001B[0m \u001B[2mtest\u001B[0m\u001B[2m:\u001B[0m input=StringLiteral(\"W<UPa$&7R{<8_n .=.5\")\r\n",
      "\u001B[2m2023-08-27T10:10:35.330166Z\u001B[0m \u001B[32m INFO\u001B[0m \u001B[2mtest\u001B[0m\u001B[2m:\u001B[0m input=Operator(\")\")\r\n",
      "\u001B[2m2023-08-27T10:10:35.330268Z\u001B[0m \u001B[32m INFO\u001B[0m \u001B[2mtest\u001B[0m\u001B[2m:\u001B[0m input=Operator(\")\")\r\n",
      "\u001B[2m2023-08-27T10:10:35.330412Z\u001B[0m \u001B[32m INFO\u001B[0m \u001B[2mtest\u001B[0m\u001B[2m:\u001B[0m input=Identifier(\"qa3eGXGuuUgfE5\")\r\n",
      "\u001B[2m2023-08-27T10:10:35.330478Z\u001B[0m \u001B[32m INFO\u001B[0m \u001B[2mtest\u001B[0m\u001B[2m:\u001B[0m input=Integer(6118010176087779264)\r\n",
      "\u001B[2m2023-08-27T10:10:35.330511Z\u001B[0m \u001B[32m INFO\u001B[0m \u001B[2mtest\u001B[0m\u001B[2m:\u001B[0m input=Operator(\"*\")\r\n",
      "\u001B[2m2023-08-27T10:10:35.330705Z\u001B[0m \u001B[32m INFO\u001B[0m \u001B[2mtest\u001B[0m\u001B[2m:\u001B[0m input=Comment(\"&\\\\m%'DxNa?<F{o*P&J.g.\\\\<'l6N$%cCp\")\r\n",
      "\u001B[2m2023-08-27T10:10:35.330808Z\u001B[0m \u001B[32m INFO\u001B[0m \u001B[2mtest\u001B[0m\u001B[2m:\u001B[0m input=StringLiteral(\"s Hg`f'o.I8.Z&$<*c({\")\r\n",
      "\u001B[2m2023-08-27T10:10:35.330877Z\u001B[0m \u001B[32m INFO\u001B[0m \u001B[2mtest\u001B[0m\u001B[2m:\u001B[0m input=Operator(\"-\")\r\n",
      "\u001B[2m2023-08-27T10:10:35.330907Z\u001B[0m \u001B[32m INFO\u001B[0m \u001B[2mtest\u001B[0m\u001B[2m:\u001B[0m input=Integer(-2298913560540022944)\r\n",
      "\u001B[2m2023-08-27T10:10:35.330957Z\u001B[0m \u001B[32m INFO\u001B[0m \u001B[2mtest\u001B[0m\u001B[2m:\u001B[0m input=Integer(-6276005438502677908)\r\n",
      "\u001B[2m2023-08-27T10:10:35.331010Z\u001B[0m \u001B[32m INFO\u001B[0m \u001B[2mtest\u001B[0m\u001B[2m:\u001B[0m input=Operator(\")\")\r\n",
      "\u001B[2m2023-08-27T10:10:35.331086Z\u001B[0m \u001B[32m INFO\u001B[0m \u001B[2mtest\u001B[0m\u001B[2m:\u001B[0m input=Comment(\"d<O.u(I$$aM*%J|J&e<c'rb=p/gWxqu\")\r\n",
      "\u001B[2m2023-08-27T10:10:35.331263Z\u001B[0m \u001B[32m INFO\u001B[0m \u001B[2mtest\u001B[0m\u001B[2m:\u001B[0m input=Integer(-6057590898326277273)\r\n",
      "\u001B[2m2023-08-27T10:10:35.331374Z\u001B[0m \u001B[32m INFO\u001B[0m \u001B[2mtest\u001B[0m\u001B[2m:\u001B[0m input=Comment(\"=*s{V:fM-`8{scN=`vuIhBo=%.o:\")\r\n",
      "\u001B[2m2023-08-27T10:10:35.331436Z\u001B[0m \u001B[32m INFO\u001B[0m \u001B[2mtest\u001B[0m\u001B[2m:\u001B[0m input=Operator(\"*\")\r\n",
      "\u001B[2m2023-08-27T10:10:35.331479Z\u001B[0m \u001B[32m INFO\u001B[0m \u001B[2mtest\u001B[0m\u001B[2m:\u001B[0m input=StringLiteral(\"`):O{(,dZ'F\")\r\n",
      "\u001B[2m2023-08-27T10:10:35.331553Z\u001B[0m \u001B[32m INFO\u001B[0m \u001B[2mtest\u001B[0m\u001B[2m:\u001B[0m input=Identifier(\"ImHlZo2JOFBHx16m4g9MyYxJqPZz0i\")\r\n",
      "\u001B[2m2023-08-27T10:10:35.331594Z\u001B[0m \u001B[32m INFO\u001B[0m \u001B[2mtest\u001B[0m\u001B[2m:\u001B[0m input=Identifier(\"TGP643ifjr0JD81\")\r\n",
      "\u001B[2m2023-08-27T10:10:35.331651Z\u001B[0m \u001B[32m INFO\u001B[0m \u001B[2mtest\u001B[0m\u001B[2m:\u001B[0m input=Identifier(\"kSBPlB\")\r\n",
      "\u001B[2m2023-08-27T10:10:35.331898Z\u001B[0m \u001B[32m INFO\u001B[0m \u001B[2mtest\u001B[0m\u001B[2m:\u001B[0m input=StringLiteral(\"<d&3/f(K=.{6-/2$&`$E3`?T:\")\r\n",
      "\u001B[2m2023-08-27T10:10:35.332076Z\u001B[0m \u001B[32m INFO\u001B[0m \u001B[2mtest\u001B[0m\u001B[2m:\u001B[0m input=Comment(\"#%/cVR\")\r\n",
      "\u001B[2m2023-08-27T10:10:35.332141Z\u001B[0m \u001B[32m INFO\u001B[0m \u001B[2mtest\u001B[0m\u001B[2m:\u001B[0m input=Identifier(\"m6Pbk\")\r\n",
      "\u001B[2m2023-08-27T10:10:35.332176Z\u001B[0m \u001B[32m INFO\u001B[0m \u001B[2mtest\u001B[0m\u001B[2m:\u001B[0m input=StringLiteral(\"e0SOGn\")\r\n",
      "\u001B[2m2023-08-27T10:10:35.332204Z\u001B[0m \u001B[32m INFO\u001B[0m \u001B[2mtest\u001B[0m\u001B[2m:\u001B[0m input=Integer(309168785967081154)\r\n",
      "\u001B[2m2023-08-27T10:10:35.332239Z\u001B[0m \u001B[32m INFO\u001B[0m \u001B[2mtest\u001B[0m\u001B[2m:\u001B[0m input=Comment(\"v'+&}V\")\r\n",
      "\u001B[2m2023-08-27T10:10:35.332342Z\u001B[0m \u001B[32m INFO\u001B[0m \u001B[2mtest\u001B[0m\u001B[2m:\u001B[0m input=Operator(\"-\")\r\n",
      "\u001B[2m2023-08-27T10:10:35.332370Z\u001B[0m \u001B[32m INFO\u001B[0m \u001B[2mtest\u001B[0m\u001B[2m:\u001B[0m input=Integer(2748866141152936757)\r\n",
      "\u001B[2m2023-08-27T10:10:35.332402Z\u001B[0m \u001B[32m INFO\u001B[0m \u001B[2mtest\u001B[0m\u001B[2m:\u001B[0m input=Comment(\"\")\r\n",
      "\u001B[2m2023-08-27T10:10:35.332450Z\u001B[0m \u001B[32m INFO\u001B[0m \u001B[2mtest\u001B[0m\u001B[2m:\u001B[0m input=Identifier(\"J\")\r\n",
      "\u001B[2m2023-08-27T10:10:35.332484Z\u001B[0m \u001B[32m INFO\u001B[0m \u001B[2mtest\u001B[0m\u001B[2m:\u001B[0m input=Operator(\"(\")\r\n",
      "\u001B[2m2023-08-27T10:10:35.332512Z\u001B[0m \u001B[32m INFO\u001B[0m \u001B[2mtest\u001B[0m\u001B[2m:\u001B[0m input=Integer(2186450332036947978)\r\n",
      "\u001B[2m2023-08-27T10:10:35.332619Z\u001B[0m \u001B[32m INFO\u001B[0m \u001B[2mtest\u001B[0m\u001B[2m:\u001B[0m input=Comment(\"\\\\$\\\"g$\\\"dm*g.\")\r\n",
      "\u001B[2m2023-08-27T10:10:35.332682Z\u001B[0m \u001B[32m INFO\u001B[0m \u001B[2mtest\u001B[0m\u001B[2m:\u001B[0m input=Operator(\"/\")\r\n",
      "\u001B[2m2023-08-27T10:10:35.332742Z\u001B[0m \u001B[32m INFO\u001B[0m \u001B[2mtest\u001B[0m\u001B[2m:\u001B[0m input=Identifier(\"bCOH5gLmooNj78Exjb9J5C\")\r\n",
      "\u001B[2m2023-08-27T10:10:35.332806Z\u001B[0m \u001B[32m INFO\u001B[0m \u001B[2mtest\u001B[0m\u001B[2m:\u001B[0m input=Integer(148613420850894841)\r\n",
      "\u001B[2m2023-08-27T10:10:35.332854Z\u001B[0m \u001B[32m INFO\u001B[0m \u001B[2mtest\u001B[0m\u001B[2m:\u001B[0m input=StringLiteral(\"`[s'Q&gyTov\")\r\n",
      "\u001B[2m2023-08-27T10:10:35.332906Z\u001B[0m \u001B[32m INFO\u001B[0m \u001B[2mtest\u001B[0m\u001B[2m:\u001B[0m input=Integer(-610464309414615156)\r\n",
      "\u001B[2m2023-08-27T10:10:35.333089Z\u001B[0m \u001B[32m INFO\u001B[0m \u001B[2mtest\u001B[0m\u001B[2m:\u001B[0m input=Comment(\"Aa/-< ]`~?<'JmBPkt*P/'?=2\")\r\n",
      "\u001B[2m2023-08-27T10:10:35.333401Z\u001B[0m \u001B[32m INFO\u001B[0m \u001B[2mtest\u001B[0m\u001B[2m:\u001B[0m input=StringLiteral(\":%2W70^sh@}0`?$e<ICX 6U&#J!7`\")\r\n",
      "\u001B[2m2023-08-27T10:10:35.333489Z\u001B[0m \u001B[32m INFO\u001B[0m \u001B[2mtest\u001B[0m\u001B[2m:\u001B[0m input=StringLiteral(\"6{`\")\r\n",
      "\u001B[2m2023-08-27T10:10:35.333528Z\u001B[0m \u001B[32m INFO\u001B[0m \u001B[2mtest\u001B[0m\u001B[2m:\u001B[0m input=Operator(\")\")\r\n",
      "\u001B[2m2023-08-27T10:10:35.333559Z\u001B[0m \u001B[32m INFO\u001B[0m \u001B[2mtest\u001B[0m\u001B[2m:\u001B[0m input=Comment(\"u9\")\r\n",
      "\u001B[2m2023-08-27T10:10:35.333626Z\u001B[0m \u001B[32m INFO\u001B[0m \u001B[2mtest\u001B[0m\u001B[2m:\u001B[0m input=Comment(\"~\")\r\n",
      "\u001B[2m2023-08-27T10:10:35.333671Z\u001B[0m \u001B[32m INFO\u001B[0m \u001B[2mtest\u001B[0m\u001B[2m:\u001B[0m input=Integer(7802678545101348435)\r\n",
      "\u001B[2m2023-08-27T10:10:35.333725Z\u001B[0m \u001B[32m INFO\u001B[0m \u001B[2mtest\u001B[0m\u001B[2m:\u001B[0m input=StringLiteral(\"gyn.VNF?`c{t*P{z+t=NFn\")\r\n",
      "\u001B[2m2023-08-27T10:10:35.333782Z\u001B[0m \u001B[32m INFO\u001B[0m \u001B[2mtest\u001B[0m\u001B[2m:\u001B[0m input=Operator(\"-\")\r\n",
      "test prop_parse_format_idempotent ... ok\r\n",
      "test adding_and_then_removing_an_item_from_the_cart_leaves_the_cart_unchanged ... ok\r\n",
      "\r\n",
      "test result: ok. 3 passed; 0 failed; 0 ignored; 0 measured; 0 filtered out; finished in 0.13s\r\n",
      "\r\n"
     ]
    }
   ],
   "source": [
    "$env:RUST_LOG=\"info\"\n",
    "{ cargo test --release } | Invoke-Block"
   ]
  },
  {
   "cell_type": "code",
   "execution_count": null,
   "metadata": {
    "dotnet_interactive": {
     "language": "pwsh"
    },
    "polyglot_notebook": {
     "kernelName": "pwsh"
    }
   },
   "outputs": [
    {
     "name": "stdout",
     "output_type": "stream",
     "text": [
      "app=test\r\n"
     ]
    }
   ],
   "source": [
    "{ . $ScriptDir/../../target/release/test$(GetExecutableSuffix) } | Invoke-Block"
   ]
  }
 ],
 "metadata": {
  "kernelspec": {
   "display_name": ".NET (C#)",
   "language": "C#",
   "name": ".net-csharp"
  },
  "language_info": {
   "file_extension": ".cs",
   "mimetype": "text/x-csharp",
   "name": "C#",
   "pygments_lexer": "csharp",
   "version": "10.0"
  },
  "polyglot_notebook": {
   "defaultKernelName": "csharp",
   "items": [
    {
     "name": "csharp"
    }
   ]
  },
  "dotnet_interactive": {
   "defaultKernelName": "csharp",
   "items": [
    {
     "name": "csharp"
    }
   ]
  }
 },
 "nbformat": 4,
 "nbformat_minor": 5
}