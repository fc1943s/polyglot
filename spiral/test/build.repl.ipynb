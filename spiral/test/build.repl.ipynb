{
 "cells": [
  {
   "cell_type": "code",
   "execution_count": null,
   "metadata": {
    "dotnet_interactive": {
     "language": "pwsh"
    },
    "polyglot_notebook": {
     "kernelName": "pwsh"
    }
   },
   "outputs": [],
   "source": [
    ". ../../scripts/nbs_header.ps1\n",
    ". ../../scripts/core.ps1"
   ]
  },
  {
   "cell_type": "code",
   "execution_count": null,
   "metadata": {
    "dotnet_interactive": {
     "language": "pwsh"
    },
    "polyglot_notebook": {
     "kernelName": "pwsh"
    }
   },
   "outputs": [
    {
     "name": "stdout",
     "output_type": "stream",
     "text": [
      "15:07:38 #1 [Debug] runWithTimeoutAsync / timeout: 60\r\n",
      "15:07:38 #2 [Debug] executeAsync / options: { Command =\r\n",
      "   \"dotnet \"C:\\home\\git\\polyglot\\deps\\The-Spiral-Language\\The Spiral Language 2\\artifacts\\bin\\The Spiral Language 2\\release\\Spiral.dll\" port=13805\"\r\n",
      "  WorkingDirectory = None\r\n",
      "  CancellationToken = None\r\n",
      "  OnLine = Some <fun:main@169-269> }\r\n",
      "15:07:39 #3 [Debug] > Server bound to: tcp://*:13805 & tcp://*:13806\r\n",
      "15:07:39 #4 [Debug] > pwd: C:\\home\\git\\polyglot\\spiral\\test\r\n",
      "15:07:39 #5 [Debug] > dll_path: C:\\home\\git\\polyglot\\deps\\The-Spiral-Language\\The Spiral Language 2\\artifacts\\bin\\The Spiral Language 2\\release\r\n",
      "15:07:39 #6 [Debug] sendJson / port: 13805 / json: {\"FileOpen\":{\"spiText\":\"inl app () =\\n    \\u0022test\\u0022 |\\u003E fsharp.console.write_line\\n    0i32\\n\\ninl main () =\\n    print_static \\u0022\\u003Ctest\\u003E\\u0022\\n\\n    app\\n    |\\u003E dyn\\n    |\\u003E ignore\\n\\n    print_static \\u0022\\u003C/test\\u003E\\u0022\\n\",\"uri\":\"file:///C:\\\\home\\\\git\\\\polyglot\\\\spiral\\\\test\\\\test.spi\"}} / result: []\r\n",
      "15:07:39 #7 [Debug] sendJson / port: 13805 / json: {\"BuildFile\":{\"backend\":\"Fsharp\",\"uri\":\"file:///C:\\\\home\\\\git\\\\polyglot\\\\spiral\\\\test\\\\test.spi\"}} / result: []\r\n",
      "15:07:40 #8 [Debug] > Building C:\\home\\git\\polyglot\\spiral\\test\\test.spi\r\n",
      "15:07:41 #9 [Debug] > <test>\r\n",
      "15:07:41 #10 [Debug] > </test>\r\n",
      "15:07:41 #11 [Debug] watchWithFilter / Disposing watch stream / fullPath: C:\\home\\git\\polyglot\\spiral\\test / filter: FileName, LastWrite\r\n"
     ]
    }
   ],
   "source": [
    "{ . ../../apps/spiral/target/bin/Release/net8.0/Supervisor$(GetExecutableSuffix) --buildfile test.spi test.fsx --timeout 5000 } | Invoke-Block"
   ]
  },
  {
   "cell_type": "code",
   "execution_count": null,
   "metadata": {
    "dotnet_interactive": {
     "language": "pwsh"
    },
    "polyglot_notebook": {
     "kernelName": "pwsh"
    }
   },
   "outputs": [
    {
     "name": "stdout",
     "output_type": "stream",
     "text": [
      "Fable 4.1.4: F# to Rust compiler (status: alpha)\r\n",
      "\r\n",
      "Thanks to the contributor! @Booksbaum\r\n",
      "Stand with Ukraine! https://standwithukraine.com.ua/\r\n",
      "\r\n",
      "Parsing test.fsproj...\r\n",
      "Retrieving project options from cache, in case of issues run `dotnet fable clean` or try `--noCache` option.\r\n",
      "Project and references (1 source files) parsed in 191ms\r\n",
      "\r\n",
      "Started Fable compilation...\r\n",
      "Fable compilation finished in 1676ms\r\n",
      "\r\n",
      ".\\test.fsx(6,0): (6,2) warning FABLE: For Rust, support for F# static and module do bindings is disabled by default. It can be enabled with the 'static_do_bindings' feature. Use at your own risk!\r\n"
     ]
    }
   ],
   "source": [
    "dotnet fable --optimize --lang rs --extension .rs"
   ]
  },
  {
   "cell_type": "code",
   "execution_count": null,
   "metadata": {
    "dotnet_interactive": {
     "language": "pwsh"
    },
    "polyglot_notebook": {
     "kernelName": "pwsh"
    }
   },
   "outputs": [],
   "source": [
    "cargo fmt --"
   ]
  },
  {
   "cell_type": "code",
   "execution_count": null,
   "metadata": {
    "dotnet_interactive": {
     "language": "pwsh"
    },
    "polyglot_notebook": {
     "kernelName": "pwsh"
    }
   },
   "outputs": [
    {
     "name": "stdout",
     "output_type": "stream",
     "text": [
      "\u001B[31;1m   Compiling test v0.0.1 (C:\\home\\git\\polyglot\\spiral\\test)\u001B[0m\r\n",
      "\u001B[31;1mwarning: unused import: `info`\u001B[0m\r\n",
      "\u001B[31;1m   --> spiral\\test\\./main.rs:190:15\u001B[0m\r\n",
      "\u001B[31;1m    |\u001B[0m\r\n",
      "\u001B[31;1m190 | use tracing::{info, Level};\u001B[0m\r\n",
      "\u001B[31;1m    |               ^^^^\u001B[0m\r\n",
      "\u001B[31;1m    |\u001B[0m\r\n",
      "\u001B[31;1m    = note: `#[warn(unused_imports)]` on by default\u001B[0m\r\n",
      "\u001B[31;1m\u001B[0m\r\n",
      "\u001B[31;1mwarning: associated items `new`, `add_item`, and `remove_item` are never used\u001B[0m\r\n",
      "\u001B[31;1m  --> spiral\\test\\./main.rs:46:8\u001B[0m\r\n",
      "\u001B[31;1m   |\u001B[0m\r\n",
      "\u001B[31;1m45 | impl Cart {\u001B[0m\r\n",
      "\u001B[31;1m   | --------- associated items in this implementation\u001B[0m\r\n",
      "\u001B[31;1m46 |     fn new() -> Cart {\u001B[0m\r\n",
      "\u001B[31;1m   |        ^^^\u001B[0m\r\n",
      "\u001B[31;1m...\u001B[0m\r\n",
      "\u001B[31;1m50 |     fn add_item(&mut self, item: Item) {\u001B[0m\r\n",
      "\u001B[31;1m   |        ^^^^^^^^\u001B[0m\r\n",
      "\u001B[31;1m...\u001B[0m\r\n",
      "\u001B[31;1m56 |     fn remove_item(&mut self, item: &Item) {\u001B[0m\r\n",
      "\u001B[31;1m   |        ^^^^^^^^^^^\u001B[0m\r\n",
      "\u001B[31;1m   |\u001B[0m\r\n",
      "\u001B[31;1m   = note: `#[warn(dead_code)]` on by default\u001B[0m\r\n",
      "\u001B[31;1m\u001B[0m\r\n",
      "\u001B[31;1mwarning: function `parse_comment` is never used\u001B[0m\r\n",
      "\u001B[31;1m   --> spiral\\test\\./main.rs:124:4\u001B[0m\r\n",
      "\u001B[31;1m    |\u001B[0m\r\n",
      "\u001B[31;1m124 | fn parse_comment(input: &str) -> IResult<&str, SpiralToken> {\u001B[0m\r\n",
      "\u001B[31;1m    |    ^^^^^^^^^^^^^\u001B[0m\r\n",
      "\u001B[31;1m\u001B[0m\r\n",
      "\u001B[31;1mwarning: function `parse_string` is never used\u001B[0m\r\n",
      "\u001B[31;1m   --> spiral\\test\\./main.rs:130:4\u001B[0m\r\n",
      "\u001B[31;1m    |\u001B[0m\r\n",
      "\u001B[31;1m130 | fn parse_string(input: &str) -> IResult<&str, SpiralToken> {\u001B[0m\r\n",
      "\u001B[31;1m    |    ^^^^^^^^^^^^\u001B[0m\r\n",
      "\u001B[31;1m\u001B[0m\r\n",
      "\u001B[31;1mwarning: function `parse_identifier` is never used\u001B[0m\r\n",
      "\u001B[31;1m   --> spiral\\test\\./main.rs:145:4\u001B[0m\r\n",
      "\u001B[31;1m    |\u001B[0m\r\n",
      "\u001B[31;1m145 | fn parse_identifier(input: &str) -> IResult<&str, SpiralToken> {\u001B[0m\r\n",
      "\u001B[31;1m    |    ^^^^^^^^^^^^^^^^\u001B[0m\r\n",
      "\u001B[31;1m\u001B[0m\r\n",
      "\u001B[31;1mwarning: function `parse_integer` is never used\u001B[0m\r\n",
      "\u001B[31;1m   --> spiral\\test\\./main.rs:157:4\u001B[0m\r\n",
      "\u001B[31;1m    |\u001B[0m\r\n",
      "\u001B[31;1m157 | fn parse_integer(input: &str) -> IResult<&str, SpiralToken> {\u001B[0m\r\n",
      "\u001B[31;1m    |    ^^^^^^^^^^^^^\u001B[0m\r\n",
      "\u001B[31;1m\u001B[0m\r\n",
      "\u001B[31;1mwarning: function `parse_operator` is never used\u001B[0m\r\n",
      "\u001B[31;1m   --> spiral\\test\\./main.rs:165:4\u001B[0m\r\n",
      "\u001B[31;1m    |\u001B[0m\r\n",
      "\u001B[31;1m165 | fn parse_operator(input: &str) -> IResult<&str, SpiralToken> {\u001B[0m\r\n",
      "\u001B[31;1m    |    ^^^^^^^^^^^^^^\u001B[0m\r\n",
      "\u001B[31;1m\u001B[0m\r\n",
      "\u001B[31;1mwarning: function `parse_token` is never used\u001B[0m\r\n",
      "\u001B[31;1m   --> spiral\\test\\./main.rs:170:4\u001B[0m\r\n",
      "\u001B[31;1m    |\u001B[0m\r\n",
      "\u001B[31;1m170 | fn parse_token(input: &str) -> IResult<&str, SpiralToken> {\u001B[0m\r\n",
      "\u001B[31;1m    |    ^^^^^^^^^^^\u001B[0m\r\n",
      "\u001B[31;1m\u001B[0m\r\n",
      "\u001B[31;1mwarning: function `format_token` is never used\u001B[0m\r\n",
      "\u001B[31;1m   --> spiral\\test\\./main.rs:180:4\u001B[0m\r\n",
      "\u001B[31;1m    |\u001B[0m\r\n",
      "\u001B[31;1m180 | fn format_token(token: &SpiralToken) -> String {\u001B[0m\r\n",
      "\u001B[31;1m    |    ^^^^^^^^^^^^\u001B[0m\r\n",
      "\u001B[31;1m\u001B[0m\r\n",
      "\u001B[31;1mwarning: function `parse_expression` is never used\u001B[0m\r\n",
      "\u001B[31;1m   --> spiral\\test\\./main.rs:213:4\u001B[0m\r\n",
      "\u001B[31;1m    |\u001B[0m\r\n",
      "\u001B[31;1m213 | fn parse_expression(input: &str) -> IResult<&str, SpiralToken> {\u001B[0m\r\n",
      "\u001B[31;1m    |    ^^^^^^^^^^^^^^^^\u001B[0m\r\n",
      "\u001B[31;1m\u001B[0m\r\n",
      "\u001B[31;1mwarning: `test` (bin \"test\") generated 10 warnings (run `cargo fix --bin \"test\"` to apply 1 suggestion)\u001B[0m\r\n",
      "\u001B[31;1m    Finished release [optimized] target(s) in 3.06s\u001B[0m\r\n"
     ]
    }
   ],
   "source": [
    "cargo build --release"
   ]
  },
  {
   "cell_type": "code",
   "execution_count": null,
   "metadata": {
    "dotnet_interactive": {
     "language": "pwsh"
    },
    "polyglot_notebook": {
     "kernelName": "pwsh"
    }
   },
   "outputs": [
    {
     "name": "stdout",
     "output_type": "stream",
     "text": [
      "\u001B[31;1m   Compiling test v0.0.1 (C:\\home\\git\\polyglot\\spiral\\test)\u001B[0m\r\n",
      "\u001B[31;1m    Finished release [optimized] target(s) in 6.24s\u001B[0m\r\n",
      "\u001B[31;1m     Running unittests main.rs (C:\\home\\git\\polyglot\\target\\release\\deps\\test-38172e11e9fb5a54.exe)\u001B[0m\r\n",
      "\r\n",
      "running 3 tests\r\n",
      "test test_parse_number ... ok\r\n",
      "\u001B[2m2023-08-02T18:07:55.826680Z\u001B[0m \u001B[32m INFO\u001B[0m \u001B[2mtest\u001B[0m\u001B[2m:\u001B[0m input=Operator(\")\")\r\n",
      "\u001B[2m2023-08-02T18:07:55.826863Z\u001B[0m \u001B[32m INFO\u001B[0m \u001B[2mtest\u001B[0m\u001B[2m:\u001B[0m input=Comment(\"&$=5\\\\I6c_d%$'^V&5AR@KE:G.$'{Q/\")\r\n",
      "\u001B[2m2023-08-02T18:07:55.827006Z\u001B[0m \u001B[32m INFO\u001B[0m \u001B[2mtest\u001B[0m\u001B[2m:\u001B[0m input=Comment(\",6Ii+p'?nl%~=`7g&cY.*\")\r\n",
      "\u001B[2m2023-08-02T18:07:55.827090Z\u001B[0m \u001B[32m INFO\u001B[0m \u001B[2mtest\u001B[0m\u001B[2m:\u001B[0m input=StringLiteral(\"`%*5.i:?=Po'*ux&$\")\r\n",
      "\u001B[2m2023-08-02T18:07:55.827337Z\u001B[0m \u001B[32m INFO\u001B[0m \u001B[2mtest\u001B[0m\u001B[2m:\u001B[0m input=Comment(\"4H20?t\\\\_.<\")\r\n",
      "\u001B[2m2023-08-02T18:07:55.827454Z\u001B[0m \u001B[32m INFO\u001B[0m \u001B[2mtest\u001B[0m\u001B[2m:\u001B[0m input=Identifier(\"e722lW75O0mGGtcF19f\")\r\n",
      "\u001B[2m2023-08-02T18:07:55.827497Z\u001B[0m \u001B[32m INFO\u001B[0m \u001B[2mtest\u001B[0m\u001B[2m:\u001B[0m input=Comment(\"{{YCMuT7%&\\\\|[@03&M\\\":mm\")\r\n",
      "\u001B[2m2023-08-02T18:07:55.827542Z\u001B[0m \u001B[32m INFO\u001B[0m \u001B[2mtest\u001B[0m\u001B[2m:\u001B[0m input=Identifier(\"of1UnjJ1\")\r\n",
      "\u001B[2m2023-08-02T18:07:55.827580Z\u001B[0m \u001B[32m INFO\u001B[0m \u001B[2mtest\u001B[0m\u001B[2m:\u001B[0m input=Comment(\"IE\\\"NY\\\\~<,Y$q%Qt[;b\\\"IzLN|<L?Kv\")\r\n",
      "\u001B[2m2023-08-02T18:07:55.827606Z\u001B[0m \u001B[32m INFO\u001B[0m \u001B[2mtest\u001B[0m\u001B[2m:\u001B[0m input=Identifier(\"pSE2hsY\")\r\n",
      "\u001B[2m2023-08-02T18:07:55.827633Z\u001B[0m \u001B[32m INFO\u001B[0m \u001B[2mtest\u001B[0m\u001B[2m:\u001B[0m input=Operator(\"/\")\r\n",
      "\u001B[2m2023-08-02T18:07:55.827667Z\u001B[0m \u001B[32m INFO\u001B[0m \u001B[2mtest\u001B[0m\u001B[2m:\u001B[0m input=Operator(\"=\")\r\n",
      "\u001B[2m2023-08-02T18:07:55.827692Z\u001B[0m \u001B[32m INFO\u001B[0m \u001B[2mtest\u001B[0m\u001B[2m:\u001B[0m input=Operator(\")\")\r\n",
      "\u001B[2m2023-08-02T18:07:55.827726Z\u001B[0m \u001B[32m INFO\u001B[0m \u001B[2mtest\u001B[0m\u001B[2m:\u001B[0m input=Comment(\"HZo.u~%6MyON !Q%Q?'bbE7K=).\")\r\n",
      "\u001B[2m2023-08-02T18:07:55.827769Z\u001B[0m \u001B[32m INFO\u001B[0m \u001B[2mtest\u001B[0m\u001B[2m:\u001B[0m input=Identifier(\"W65bQdjoWlc\")\r\n",
      "\u001B[2m2023-08-02T18:07:55.827797Z\u001B[0m \u001B[32m INFO\u001B[0m \u001B[2mtest\u001B[0m\u001B[2m:\u001B[0m input=Operator(\"=\")\r\n",
      "\u001B[2m2023-08-02T18:07:55.827818Z\u001B[0m \u001B[32m INFO\u001B[0m \u001B[2mtest\u001B[0m\u001B[2m:\u001B[0m input=Operator(\"-\")\r\n",
      "\u001B[2m2023-08-02T18:07:55.827843Z\u001B[0m \u001B[32m INFO\u001B[0m \u001B[2mtest\u001B[0m\u001B[2m:\u001B[0m input=Integer(-5127276054319491400)\r\n",
      "\u001B[2m2023-08-02T18:07:55.827984Z\u001B[0m \u001B[32m INFO\u001B[0m \u001B[2mtest\u001B[0m\u001B[2m:\u001B[0m input=StringLiteral(\"ToT%.UYei/$:<:d_?\")\r\n",
      "\u001B[2m2023-08-02T18:07:55.828064Z\u001B[0m \u001B[32m INFO\u001B[0m \u001B[2mtest\u001B[0m\u001B[2m:\u001B[0m input=Identifier(\"e08Y0Hs27Fkj\")\r\n",
      "\u001B[2m2023-08-02T18:07:55.828096Z\u001B[0m \u001B[32m INFO\u001B[0m \u001B[2mtest\u001B[0m\u001B[2m:\u001B[0m input=Identifier(\"tpcZtBkZxn0yQufLyxb\")\r\n",
      "\u001B[2m2023-08-02T18:07:55.828122Z\u001B[0m \u001B[32m INFO\u001B[0m \u001B[2mtest\u001B[0m\u001B[2m:\u001B[0m input=Operator(\"(\")\r\n",
      "\u001B[2m2023-08-02T18:07:55.828158Z\u001B[0m \u001B[32m INFO\u001B[0m \u001B[2mtest\u001B[0m\u001B[2m:\u001B[0m input=StringLiteral(\"4cnP#r'//)&{/bk%$[<<')<.F<#ab%\")\r\n",
      "\u001B[2m2023-08-02T18:07:55.828200Z\u001B[0m \u001B[32m INFO\u001B[0m \u001B[2mtest\u001B[0m\u001B[2m:\u001B[0m input=Comment(\"{3=BkLx;&W1 j'qFomD){\\\"scv=\")\r\n",
      "\u001B[2m2023-08-02T18:07:55.828225Z\u001B[0m \u001B[32m INFO\u001B[0m \u001B[2mtest\u001B[0m\u001B[2m:\u001B[0m input=Operator(\"/\")\r\n",
      "\u001B[2m2023-08-02T18:07:55.828254Z\u001B[0m \u001B[32m INFO\u001B[0m \u001B[2mtest\u001B[0m\u001B[2m:\u001B[0m input=Identifier(\"a30t3cy97ixpzYo7JU\")\r\n",
      "\u001B[2m2023-08-02T18:07:55.828275Z\u001B[0m \u001B[32m INFO\u001B[0m \u001B[2mtest\u001B[0m\u001B[2m:\u001B[0m input=Integer(4462627911233079674)\r\n",
      "\u001B[2m2023-08-02T18:07:55.828299Z\u001B[0m \u001B[32m INFO\u001B[0m \u001B[2mtest\u001B[0m\u001B[2m:\u001B[0m input=Identifier(\"euKvL1Z23\")\r\n",
      "\u001B[2m2023-08-02T18:07:55.828328Z\u001B[0m \u001B[32m INFO\u001B[0m \u001B[2mtest\u001B[0m\u001B[2m:\u001B[0m input=Identifier(\"qa9HLaE5KvJhFUUZDVyQ\")\r\n",
      "\u001B[2m2023-08-02T18:07:55.828358Z\u001B[0m \u001B[32m INFO\u001B[0m \u001B[2mtest\u001B[0m\u001B[2m:\u001B[0m input=StringLiteral(\"ln&5AH:vw`H$\")\r\n",
      "\u001B[2m2023-08-02T18:07:55.828382Z\u001B[0m \u001B[32m INFO\u001B[0m \u001B[2mtest\u001B[0m\u001B[2m:\u001B[0m input=StringLiteral(\"?D\")\r\n",
      "\u001B[2m2023-08-02T18:07:55.828407Z\u001B[0m \u001B[32m INFO\u001B[0m \u001B[2mtest\u001B[0m\u001B[2m:\u001B[0m input=Operator(\"(\")\r\n",
      "\u001B[2m2023-08-02T18:07:55.828427Z\u001B[0m \u001B[32m INFO\u001B[0m \u001B[2mtest\u001B[0m\u001B[2m:\u001B[0m input=Integer(13834026543251939)\r\n",
      "\u001B[2m2023-08-02T18:07:55.828454Z\u001B[0m \u001B[32m INFO\u001B[0m \u001B[2mtest\u001B[0m\u001B[2m:\u001B[0m input=StringLiteral(\"v`@<{S~?%p:mj0\")\r\n",
      "\u001B[2m2023-08-02T18:07:55.828477Z\u001B[0m \u001B[32m INFO\u001B[0m \u001B[2mtest\u001B[0m\u001B[2m:\u001B[0m input=Integer(-2342103818011190669)\r\n",
      "\u001B[2m2023-08-02T18:07:55.828504Z\u001B[0m \u001B[32m INFO\u001B[0m \u001B[2mtest\u001B[0m\u001B[2m:\u001B[0m input=StringLiteral(\"{<v.&B/b=A$nu`e\")\r\n",
      "\u001B[2m2023-08-02T18:07:55.828569Z\u001B[0m \u001B[32m INFO\u001B[0m \u001B[2mtest\u001B[0m\u001B[2m:\u001B[0m input=Operator(\"+\")\r\n",
      "\u001B[2m2023-08-02T18:07:55.828603Z\u001B[0m \u001B[32m INFO\u001B[0m \u001B[2mtest\u001B[0m\u001B[2m:\u001B[0m input=Comment(\"\\\\S/y'2yd@|dA:i\\\"\\\"au4k+B\\\"\")\r\n",
      "\u001B[2m2023-08-02T18:07:55.828638Z\u001B[0m \u001B[32m INFO\u001B[0m \u001B[2mtest\u001B[0m\u001B[2m:\u001B[0m input=Comment(\"y&*'*'>'LT-GWqu`<<\")\r\n",
      "\u001B[2m2023-08-02T18:07:55.828659Z\u001B[0m \u001B[32m INFO\u001B[0m \u001B[2mtest\u001B[0m\u001B[2m:\u001B[0m input=Integer(-592340829064251812)\r\n",
      "\u001B[2m2023-08-02T18:07:55.828687Z\u001B[0m \u001B[32m INFO\u001B[0m \u001B[2mtest\u001B[0m\u001B[2m:\u001B[0m input=StringLiteral(\"d9$=(S`;1L=.*~\")\r\n",
      "\u001B[2m2023-08-02T18:07:55.828714Z\u001B[0m \u001B[32m INFO\u001B[0m \u001B[2mtest\u001B[0m\u001B[2m:\u001B[0m input=Comment(\"YE1]'\\\")<\")\r\n",
      "\u001B[2m2023-08-02T18:07:55.834434Z\u001B[0m \u001B[32m INFO\u001B[0m \u001B[2mtest\u001B[0m\u001B[2m:\u001B[0m input=Identifier(\"E\")\r\n",
      "\u001B[2m2023-08-02T18:07:55.834501Z\u001B[0m \u001B[32m INFO\u001B[0m \u001B[2mtest\u001B[0m\u001B[2m:\u001B[0m input=StringLiteral(\"&'!4g\")\r\n",
      "\u001B[2m2023-08-02T18:07:55.834600Z\u001B[0m \u001B[32m INFO\u001B[0m \u001B[2mtest\u001B[0m\u001B[2m:\u001B[0m input=StringLiteral(\"U^mSSCR?.<w3,xO]>rJc:8gA\")\r\n",
      "\u001B[2m2023-08-02T18:07:55.834709Z\u001B[0m \u001B[32m INFO\u001B[0m \u001B[2mtest\u001B[0m\u001B[2m:\u001B[0m input=Operator(\"=\")\r\n",
      "\u001B[2m2023-08-02T18:07:55.834775Z\u001B[0m \u001B[32m INFO\u001B[0m \u001B[2mtest\u001B[0m\u001B[2m:\u001B[0m input=Operator(\"/\")\r\n",
      "\u001B[2m2023-08-02T18:07:55.834814Z\u001B[0m \u001B[32m INFO\u001B[0m \u001B[2mtest\u001B[0m\u001B[2m:\u001B[0m input=Operator(\"(\")\r\n",
      "\u001B[2m2023-08-02T18:07:55.834881Z\u001B[0m \u001B[32m INFO\u001B[0m \u001B[2mtest\u001B[0m\u001B[2m:\u001B[0m input=StringLiteral(\"I/m\")\r\n",
      "\u001B[2m2023-08-02T18:07:55.834921Z\u001B[0m \u001B[32m INFO\u001B[0m \u001B[2mtest\u001B[0m\u001B[2m:\u001B[0m input=Operator(\"/\")\r\n",
      "\u001B[2m2023-08-02T18:07:55.835064Z\u001B[0m \u001B[32m INFO\u001B[0m \u001B[2mtest\u001B[0m\u001B[2m:\u001B[0m input=Identifier(\"a\")\r\n",
      "\u001B[2m2023-08-02T18:07:55.835164Z\u001B[0m \u001B[32m INFO\u001B[0m \u001B[2mtest\u001B[0m\u001B[2m:\u001B[0m input=StringLiteral(\"Ut&;kioe`%/61\")\r\n",
      "\u001B[2m2023-08-02T18:07:55.835246Z\u001B[0m \u001B[32m INFO\u001B[0m \u001B[2mtest\u001B[0m\u001B[2m:\u001B[0m input=Comment(\"I\\\\.,-|x\\\"*&>il^\")\r\n",
      "\u001B[2m2023-08-02T18:07:55.835357Z\u001B[0m \u001B[32m INFO\u001B[0m \u001B[2mtest\u001B[0m\u001B[2m:\u001B[0m input=Operator(\"-\")\r\n",
      "\u001B[2m2023-08-02T18:07:55.835457Z\u001B[0m \u001B[32m INFO\u001B[0m \u001B[2mtest\u001B[0m\u001B[2m:\u001B[0m input=Identifier(\"Wp\")\r\n",
      "\u001B[2m2023-08-02T18:07:55.835496Z\u001B[0m \u001B[32m INFO\u001B[0m \u001B[2mtest\u001B[0m\u001B[2m:\u001B[0m input=Operator(\"(\")\r\n",
      "\u001B[2m2023-08-02T18:07:55.835553Z\u001B[0m \u001B[32m INFO\u001B[0m \u001B[2mtest\u001B[0m\u001B[2m:\u001B[0m input=Integer(5074427011974657217)\r\n",
      "\u001B[2m2023-08-02T18:07:55.835589Z\u001B[0m \u001B[32m INFO\u001B[0m \u001B[2mtest\u001B[0m\u001B[2m:\u001B[0m input=Operator(\"/\")\r\n",
      "\u001B[2m2023-08-02T18:07:55.835662Z\u001B[0m \u001B[32m INFO\u001B[0m \u001B[2mtest\u001B[0m\u001B[2m:\u001B[0m input=Comment(\";vJ='$<1vMGd342'.\")\r\n",
      "\u001B[2m2023-08-02T18:07:55.835742Z\u001B[0m \u001B[32m INFO\u001B[0m \u001B[2mtest\u001B[0m\u001B[2m:\u001B[0m input=Comment(\")=:T.k:@`\\\\J^A<*>s=;<a{?\")\r\n",
      "\u001B[2m2023-08-02T18:07:55.835793Z\u001B[0m \u001B[32m INFO\u001B[0m \u001B[2mtest\u001B[0m\u001B[2m:\u001B[0m input=StringLiteral(\"&$+SDczFv'`=:r VNn:j\")\r\n",
      "\u001B[2m2023-08-02T18:07:55.835907Z\u001B[0m \u001B[32m INFO\u001B[0m \u001B[2mtest\u001B[0m\u001B[2m:\u001B[0m input=Comment(\",V=$$}\")\r\n",
      "\u001B[2m2023-08-02T18:07:55.835979Z\u001B[0m \u001B[32m INFO\u001B[0m \u001B[2mtest\u001B[0m\u001B[2m:\u001B[0m input=StringLiteral(\"%o/#1Q/W1>~\")\r\n",
      "\u001B[2m2023-08-02T18:07:55.836041Z\u001B[0m \u001B[32m INFO\u001B[0m \u001B[2mtest\u001B[0m\u001B[2m:\u001B[0m input=StringLiteral(\"*_cvWd;e2&:.<%@ca%L##'(h]G2\")\r\n",
      "\u001B[2m2023-08-02T18:07:55.836112Z\u001B[0m \u001B[32m INFO\u001B[0m \u001B[2mtest\u001B[0m\u001B[2m:\u001B[0m input=Comment(\"H$q<}L\")\r\n",
      "\u001B[2m2023-08-02T18:07:55.836168Z\u001B[0m \u001B[32m INFO\u001B[0m \u001B[2mtest\u001B[0m\u001B[2m:\u001B[0m input=StringLiteral(\":<HHz==x/$h=o`<u6@1tV:v.:f\")\r\n",
      "\u001B[2m2023-08-02T18:07:55.836234Z\u001B[0m \u001B[32m INFO\u001B[0m \u001B[2mtest\u001B[0m\u001B[2m:\u001B[0m input=Operator(\"*\")\r\n",
      "\u001B[2m2023-08-02T18:07:55.836279Z\u001B[0m \u001B[32m INFO\u001B[0m \u001B[2mtest\u001B[0m\u001B[2m:\u001B[0m input=Comment(\"#;(*(G{{`.R@lM/\")\r\n",
      "\u001B[2m2023-08-02T18:07:55.836419Z\u001B[0m \u001B[32m INFO\u001B[0m \u001B[2mtest\u001B[0m\u001B[2m:\u001B[0m input=Identifier(\"GOi4vSYog65IPkawC09Ps252g3c9\")\r\n",
      "\u001B[2m2023-08-02T18:07:55.836542Z\u001B[0m \u001B[32m INFO\u001B[0m \u001B[2mtest\u001B[0m\u001B[2m:\u001B[0m input=Operator(\"-\")\r\n",
      "\u001B[2m2023-08-02T18:07:55.836623Z\u001B[0m \u001B[32m INFO\u001B[0m \u001B[2mtest\u001B[0m\u001B[2m:\u001B[0m input=Comment(\"[5@}y/w,*C|NH{9wA%\\\"cK?Qh/{{G\")\r\n",
      "\u001B[2m2023-08-02T18:07:55.836693Z\u001B[0m \u001B[32m INFO\u001B[0m \u001B[2mtest\u001B[0m\u001B[2m:\u001B[0m input=Operator(\"/\")\r\n",
      "\u001B[2m2023-08-02T18:07:55.836752Z\u001B[0m \u001B[32m INFO\u001B[0m \u001B[2mtest\u001B[0m\u001B[2m:\u001B[0m input=Integer(5242221258817227110)\r\n",
      "\u001B[2m2023-08-02T18:07:55.836795Z\u001B[0m \u001B[32m INFO\u001B[0m \u001B[2mtest\u001B[0m\u001B[2m:\u001B[0m input=Identifier(\"CPuLBFi\")\r\n",
      "\u001B[2m2023-08-02T18:07:55.836856Z\u001B[0m \u001B[32m INFO\u001B[0m \u001B[2mtest\u001B[0m\u001B[2m:\u001B[0m input=Operator(\"=\")\r\n",
      "\u001B[2m2023-08-02T18:07:55.836892Z\u001B[0m \u001B[32m INFO\u001B[0m \u001B[2mtest\u001B[0m\u001B[2m:\u001B[0m input=StringLiteral(\"\")\r\n",
      "\u001B[2m2023-08-02T18:07:55.836955Z\u001B[0m \u001B[32m INFO\u001B[0m \u001B[2mtest\u001B[0m\u001B[2m:\u001B[0m input=StringLiteral(\"(d'\")\r\n",
      "\u001B[2m2023-08-02T18:07:55.836997Z\u001B[0m \u001B[32m INFO\u001B[0m \u001B[2mtest\u001B[0m\u001B[2m:\u001B[0m input=Identifier(\"GFS\")\r\n",
      "\u001B[2m2023-08-02T18:07:55.837072Z\u001B[0m \u001B[32m INFO\u001B[0m \u001B[2mtest\u001B[0m\u001B[2m:\u001B[0m input=StringLiteral(\"$},}$jN{ M?]mS\")\r\n",
      "\u001B[2m2023-08-02T18:07:55.837164Z\u001B[0m \u001B[32m INFO\u001B[0m \u001B[2mtest\u001B[0m\u001B[2m:\u001B[0m input=Identifier(\"AmdoH2SADUKu1HGIadIWjNw8Ccl5Eu6\")\r\n",
      "\u001B[2m2023-08-02T18:07:55.837297Z\u001B[0m \u001B[32m INFO\u001B[0m \u001B[2mtest\u001B[0m\u001B[2m:\u001B[0m input=StringLiteral(\"NnES&$<|:~'{$=Z*$!Z >&b\")\r\n",
      "\u001B[2m2023-08-02T18:07:55.837420Z\u001B[0m \u001B[32m INFO\u001B[0m \u001B[2mtest\u001B[0m\u001B[2m:\u001B[0m input=Comment(\" IEKX?<@9!It.:SF?@`G8C_&@.u\")\r\n",
      "\u001B[2m2023-08-02T18:07:55.837487Z\u001B[0m \u001B[32m INFO\u001B[0m \u001B[2mtest\u001B[0m\u001B[2m:\u001B[0m input=Operator(\")\")\r\n",
      "\u001B[2m2023-08-02T18:07:55.837545Z\u001B[0m \u001B[32m INFO\u001B[0m \u001B[2mtest\u001B[0m\u001B[2m:\u001B[0m input=Integer(5576304515297084258)\r\n",
      "\u001B[2m2023-08-02T18:07:55.837609Z\u001B[0m \u001B[32m INFO\u001B[0m \u001B[2mtest\u001B[0m\u001B[2m:\u001B[0m input=Identifier(\"b39Hn1V19\")\r\n",
      "\u001B[2m2023-08-02T18:07:55.837771Z\u001B[0m \u001B[32m INFO\u001B[0m \u001B[2mtest\u001B[0m\u001B[2m:\u001B[0m input=Comment(\"8JY?yMoM>}gK(;R&KW;qs]b&,\\\\f>9n\\\\u\")\r\n",
      "\u001B[2m2023-08-02T18:07:55.837857Z\u001B[0m \u001B[32m INFO\u001B[0m \u001B[2mtest\u001B[0m\u001B[2m:\u001B[0m input=Identifier(\"KX9jo7eUpUlFONSHUTeK\")\r\n",
      "\u001B[2m2023-08-02T18:07:55.837913Z\u001B[0m \u001B[32m INFO\u001B[0m \u001B[2mtest\u001B[0m\u001B[2m:\u001B[0m input=Operator(\"*\")\r\n",
      "\u001B[2m2023-08-02T18:07:55.837948Z\u001B[0m \u001B[32m INFO\u001B[0m \u001B[2mtest\u001B[0m\u001B[2m:\u001B[0m input=Integer(7390214798226318527)\r\n",
      "\u001B[2m2023-08-02T18:07:55.838032Z\u001B[0m \u001B[32m INFO\u001B[0m \u001B[2mtest\u001B[0m\u001B[2m:\u001B[0m input=StringLiteral(\"`?/.Z+``>':d`R=aN</`&=:c`U!#uQo\")\r\n",
      "\u001B[2m2023-08-02T18:07:55.838120Z\u001B[0m \u001B[32m INFO\u001B[0m \u001B[2mtest\u001B[0m\u001B[2m:\u001B[0m input=Comment(\"RoiFR:.<_ikagPu&%g<*A*`h\")\r\n",
      "\u001B[2m2023-08-02T18:07:55.838161Z\u001B[0m \u001B[32m INFO\u001B[0m \u001B[2mtest\u001B[0m\u001B[2m:\u001B[0m input=Identifier(\"ZqD547i\")\r\n",
      "\u001B[2m2023-08-02T18:07:55.838212Z\u001B[0m \u001B[32m INFO\u001B[0m \u001B[2mtest\u001B[0m\u001B[2m:\u001B[0m input=Identifier(\"Un6b\")\r\n",
      "\u001B[2m2023-08-02T18:07:55.838298Z\u001B[0m \u001B[32m INFO\u001B[0m \u001B[2mtest\u001B[0m\u001B[2m:\u001B[0m input=Identifier(\"jUtmdLx85Zd41qqIDXqdPpR98iuU2M\")\r\n",
      "\u001B[2m2023-08-02T18:07:55.838379Z\u001B[0m \u001B[32m INFO\u001B[0m \u001B[2mtest\u001B[0m\u001B[2m:\u001B[0m input=StringLiteral(\"/[&yGF6wms:%xy{)z.\")\r\n",
      "\u001B[2m2023-08-02T18:07:55.838420Z\u001B[0m \u001B[32m INFO\u001B[0m \u001B[2mtest\u001B[0m\u001B[2m:\u001B[0m input=Identifier(\"N2w8ewWJL6rsQ80dH3D8U789AXgss7jem\")\r\n",
      "\u001B[2m2023-08-02T18:07:55.838458Z\u001B[0m \u001B[32m INFO\u001B[0m \u001B[2mtest\u001B[0m\u001B[2m:\u001B[0m input=Operator(\"-\")\r\n",
      "\u001B[2m2023-08-02T18:07:55.838489Z\u001B[0m \u001B[32m INFO\u001B[0m \u001B[2mtest\u001B[0m\u001B[2m:\u001B[0m input=Comment(\"%OB#Xzdd<uP&7HLM`zZggSn:d\")\r\n",
      "\u001B[2m2023-08-02T18:07:55.838513Z\u001B[0m \u001B[32m INFO\u001B[0m \u001B[2mtest\u001B[0m\u001B[2m:\u001B[0m input=Operator(\"=\")\r\n",
      "\u001B[2m2023-08-02T18:07:55.838577Z\u001B[0m \u001B[32m INFO\u001B[0m \u001B[2mtest\u001B[0m\u001B[2m:\u001B[0m input=Comment(\"Ra?u,~v7NzGq@&\\\\^&z\")\r\n",
      "\u001B[2m2023-08-02T18:07:55.838602Z\u001B[0m \u001B[32m INFO\u001B[0m \u001B[2mtest\u001B[0m\u001B[2m:\u001B[0m input=Comment(\"S^N$p\")\r\n",
      "\u001B[2m2023-08-02T18:07:55.838642Z\u001B[0m \u001B[32m INFO\u001B[0m \u001B[2mtest\u001B[0m\u001B[2m:\u001B[0m input=StringLiteral(\",'>c}5]U%0\")\r\n",
      "\u001B[2m2023-08-02T18:07:55.838670Z\u001B[0m \u001B[32m INFO\u001B[0m \u001B[2mtest\u001B[0m\u001B[2m:\u001B[0m input=StringLiteral(\"TiR{*)=%D/hA!_v'`\")\r\n",
      "\u001B[2m2023-08-02T18:07:55.838697Z\u001B[0m \u001B[32m INFO\u001B[0m \u001B[2mtest\u001B[0m\u001B[2m:\u001B[0m input=Operator(\"/\")\r\n",
      "\u001B[2m2023-08-02T18:07:55.838721Z\u001B[0m \u001B[32m INFO\u001B[0m \u001B[2mtest\u001B[0m\u001B[2m:\u001B[0m input=StringLiteral(\":S.Z[$)J\")\r\n",
      "\u001B[2m2023-08-02T18:07:55.838767Z\u001B[0m \u001B[32m INFO\u001B[0m \u001B[2mtest\u001B[0m\u001B[2m:\u001B[0m input=StringLiteral(\"xx!f<H/a%fd]|{?J`U*7,u/=._o)T\")\r\n",
      "\u001B[2m2023-08-02T18:07:55.838794Z\u001B[0m \u001B[32m INFO\u001B[0m \u001B[2mtest\u001B[0m\u001B[2m:\u001B[0m input=Integer(-6359014562203694673)\r\n",
      "\u001B[2m2023-08-02T18:07:55.838814Z\u001B[0m \u001B[32m INFO\u001B[0m \u001B[2mtest\u001B[0m\u001B[2m:\u001B[0m input=Integer(-8725642710918845399)\r\n",
      "\u001B[2m2023-08-02T18:07:55.838846Z\u001B[0m \u001B[32m INFO\u001B[0m \u001B[2mtest\u001B[0m\u001B[2m:\u001B[0m input=Operator(\"+\")\r\n",
      "\u001B[2m2023-08-02T18:07:55.838915Z\u001B[0m \u001B[32m INFO\u001B[0m \u001B[2mtest\u001B[0m\u001B[2m:\u001B[0m input=Identifier(\"zU861bG68\")\r\n",
      "\u001B[2m2023-08-02T18:07:55.838994Z\u001B[0m \u001B[32m INFO\u001B[0m \u001B[2mtest\u001B[0m\u001B[2m:\u001B[0m input=Comment(\"1c;UN3\\\\w6A*>=Y-?Lsy%\")\r\n",
      "\u001B[2m2023-08-02T18:07:55.839029Z\u001B[0m \u001B[32m INFO\u001B[0m \u001B[2mtest\u001B[0m\u001B[2m:\u001B[0m input=Integer(-5403235676854674088)\r\n",
      "\u001B[2m2023-08-02T18:07:55.839104Z\u001B[0m \u001B[32m INFO\u001B[0m \u001B[2mtest\u001B[0m\u001B[2m:\u001B[0m input=Comment(\"<5gg6Rd3<ppQ%'O1=BzM\")\r\n",
      "\u001B[2m2023-08-02T18:07:55.839168Z\u001B[0m \u001B[32m INFO\u001B[0m \u001B[2mtest\u001B[0m\u001B[2m:\u001B[0m input=Operator(\"+\")\r\n",
      "\u001B[2m2023-08-02T18:07:55.839220Z\u001B[0m \u001B[32m INFO\u001B[0m \u001B[2mtest\u001B[0m\u001B[2m:\u001B[0m input=Identifier(\"z5bw2d7N5IZQVGOCA9B5Y8E9h\")\r\n",
      "\u001B[2m2023-08-02T18:07:55.839249Z\u001B[0m \u001B[32m INFO\u001B[0m \u001B[2mtest\u001B[0m\u001B[2m:\u001B[0m input=Comment(\"sI7j\\\\;Or%\")\r\n",
      "\u001B[2m2023-08-02T18:07:55.839372Z\u001B[0m \u001B[32m INFO\u001B[0m \u001B[2mtest\u001B[0m\u001B[2m:\u001B[0m input=StringLiteral(\"2bkz$:@v+ar:Js!*/%5RI2\")\r\n",
      "\u001B[2m2023-08-02T18:07:55.839432Z\u001B[0m \u001B[32m INFO\u001B[0m \u001B[2mtest\u001B[0m\u001B[2m:\u001B[0m input=Operator(\"/\")\r\n",
      "\u001B[2m2023-08-02T18:07:55.839455Z\u001B[0m \u001B[32m INFO\u001B[0m \u001B[2mtest\u001B[0m\u001B[2m:\u001B[0m input=Operator(\"/\")\r\n",
      "\u001B[2m2023-08-02T18:07:55.839521Z\u001B[0m \u001B[32m INFO\u001B[0m \u001B[2mtest\u001B[0m\u001B[2m:\u001B[0m input=Integer(4100062759076721649)\r\n",
      "\u001B[2m2023-08-02T18:07:55.839560Z\u001B[0m \u001B[32m INFO\u001B[0m \u001B[2mtest\u001B[0m\u001B[2m:\u001B[0m input=Operator(\"/\")\r\n",
      "\u001B[2m2023-08-02T18:07:55.839615Z\u001B[0m \u001B[32m INFO\u001B[0m \u001B[2mtest\u001B[0m\u001B[2m:\u001B[0m input=StringLiteral(\"\")\r\n",
      "\u001B[2m2023-08-02T18:07:55.839653Z\u001B[0m \u001B[32m INFO\u001B[0m \u001B[2mtest\u001B[0m\u001B[2m:\u001B[0m input=Operator(\"(\")\r\n",
      "\u001B[2m2023-08-02T18:07:55.839719Z\u001B[0m \u001B[32m INFO\u001B[0m \u001B[2mtest\u001B[0m\u001B[2m:\u001B[0m input=Comment(\"\\\"\\\\'tuO \\\\HD\")\r\n",
      "\u001B[2m2023-08-02T18:07:55.839793Z\u001B[0m \u001B[32m INFO\u001B[0m \u001B[2mtest\u001B[0m\u001B[2m:\u001B[0m input=Identifier(\"uK4vxwx1KdV4sh1XL2WL53nqreP\")\r\n",
      "\u001B[2m2023-08-02T18:07:55.839850Z\u001B[0m \u001B[32m INFO\u001B[0m \u001B[2mtest\u001B[0m\u001B[2m:\u001B[0m input=Comment(\"BX_YZ\\\\&/&;=j:|E\\\\.?_gLEd\")\r\n",
      "\u001B[2m2023-08-02T18:07:55.839891Z\u001B[0m \u001B[32m INFO\u001B[0m \u001B[2mtest\u001B[0m\u001B[2m:\u001B[0m input=StringLiteral(\"BLRi$JT$8{:m@K.'lvVZc`@t2AyXe\")\r\n",
      "\u001B[2m2023-08-02T18:07:55.839951Z\u001B[0m \u001B[32m INFO\u001B[0m \u001B[2mtest\u001B[0m\u001B[2m:\u001B[0m input=Identifier(\"HRQKK9QBV7IWt\")\r\n",
      "\u001B[2m2023-08-02T18:07:55.840000Z\u001B[0m \u001B[32m INFO\u001B[0m \u001B[2mtest\u001B[0m\u001B[2m:\u001B[0m input=StringLiteral(\"^.JiEI1\")\r\n",
      "\u001B[2m2023-08-02T18:07:55.840058Z\u001B[0m \u001B[32m INFO\u001B[0m \u001B[2mtest\u001B[0m\u001B[2m:\u001B[0m input=Operator(\"*\")\r\n",
      "\u001B[2m2023-08-02T18:07:55.840113Z\u001B[0m \u001B[32m INFO\u001B[0m \u001B[2mtest\u001B[0m\u001B[2m:\u001B[0m input=Comment(\"&E{l@m9`=%<u\\\"o@N.{\")\r\n",
      "\u001B[2m2023-08-02T18:07:55.840199Z\u001B[0m \u001B[32m INFO\u001B[0m \u001B[2mtest\u001B[0m\u001B[2m:\u001B[0m input=StringLiteral(\"~:4p'9KB/{{,m;\")\r\n",
      "\u001B[2m2023-08-02T18:07:55.840251Z\u001B[0m \u001B[32m INFO\u001B[0m \u001B[2mtest\u001B[0m\u001B[2m:\u001B[0m input=Comment(\"IPmm)\\\"`K!{2s\\\\==T\")\r\n",
      "\u001B[2m2023-08-02T18:07:55.840296Z\u001B[0m \u001B[32m INFO\u001B[0m \u001B[2mtest\u001B[0m\u001B[2m:\u001B[0m input=Operator(\"-\")\r\n",
      "\u001B[2m2023-08-02T18:07:55.840319Z\u001B[0m \u001B[32m INFO\u001B[0m \u001B[2mtest\u001B[0m\u001B[2m:\u001B[0m input=Operator(\"-\")\r\n",
      "\u001B[2m2023-08-02T18:07:55.840353Z\u001B[0m \u001B[32m INFO\u001B[0m \u001B[2mtest\u001B[0m\u001B[2m:\u001B[0m input=Comment(\"L)\\\\5$/T[%+@h,kLpPsp?Z\")\r\n",
      "\u001B[2m2023-08-02T18:07:55.840403Z\u001B[0m \u001B[32m INFO\u001B[0m \u001B[2mtest\u001B[0m\u001B[2m:\u001B[0m input=Operator(\"/\")\r\n",
      "\u001B[2m2023-08-02T18:07:55.840495Z\u001B[0m \u001B[32m INFO\u001B[0m \u001B[2mtest\u001B[0m\u001B[2m:\u001B[0m input=Comment(\"c(F$C7:+'.c\\\"<R]\\\\4(nF$$/_\\\\.Zmu\\\\w4\")\r\n",
      "\u001B[2m2023-08-02T18:07:55.840541Z\u001B[0m \u001B[32m INFO\u001B[0m \u001B[2mtest\u001B[0m\u001B[2m:\u001B[0m input=Operator(\"-\")\r\n",
      "\u001B[2m2023-08-02T18:07:55.840564Z\u001B[0m \u001B[32m INFO\u001B[0m \u001B[2mtest\u001B[0m\u001B[2m:\u001B[0m input=Operator(\"/\")\r\n",
      "\u001B[2m2023-08-02T18:07:55.840588Z\u001B[0m \u001B[32m INFO\u001B[0m \u001B[2mtest\u001B[0m\u001B[2m:\u001B[0m input=Identifier(\"T8xGBo\")\r\n",
      "\u001B[2m2023-08-02T18:07:55.840721Z\u001B[0m \u001B[32m INFO\u001B[0m \u001B[2mtest\u001B[0m\u001B[2m:\u001B[0m input=Comment(\"\\\\mo~]*C&g-\\\\R<.r.$k\")\r\n",
      "\u001B[2m2023-08-02T18:07:55.840782Z\u001B[0m \u001B[32m INFO\u001B[0m \u001B[2mtest\u001B[0m\u001B[2m:\u001B[0m input=Operator(\"(\")\r\n",
      "\u001B[2m2023-08-02T18:07:55.840811Z\u001B[0m \u001B[32m INFO\u001B[0m \u001B[2mtest\u001B[0m\u001B[2m:\u001B[0m input=Identifier(\"b14Sc2RqQPc5\")\r\n",
      "\u001B[2m2023-08-02T18:07:55.840859Z\u001B[0m \u001B[32m INFO\u001B[0m \u001B[2mtest\u001B[0m\u001B[2m:\u001B[0m input=Operator(\"(\")\r\n",
      "\u001B[2m2023-08-02T18:07:55.840918Z\u001B[0m \u001B[32m INFO\u001B[0m \u001B[2mtest\u001B[0m\u001B[2m:\u001B[0m input=Identifier(\"VX9THwRBtfY17Kow9GJMb6DGFVvXr\")\r\n",
      "\u001B[2m2023-08-02T18:07:55.840966Z\u001B[0m \u001B[32m INFO\u001B[0m \u001B[2mtest\u001B[0m\u001B[2m:\u001B[0m input=Operator(\"*\")\r\n",
      "\u001B[2m2023-08-02T18:07:55.840988Z\u001B[0m \u001B[32m INFO\u001B[0m \u001B[2mtest\u001B[0m\u001B[2m:\u001B[0m input=Integer(-8477295148795384335)\r\n",
      "\u001B[2m2023-08-02T18:07:55.841010Z\u001B[0m \u001B[32m INFO\u001B[0m \u001B[2mtest\u001B[0m\u001B[2m:\u001B[0m input=Operator(\"*\")\r\n",
      "\u001B[2m2023-08-02T18:07:55.841049Z\u001B[0m \u001B[32m INFO\u001B[0m \u001B[2mtest\u001B[0m\u001B[2m:\u001B[0m input=Integer(-6235347662064916218)\r\n",
      "\u001B[2m2023-08-02T18:07:55.841085Z\u001B[0m \u001B[32m INFO\u001B[0m \u001B[2mtest\u001B[0m\u001B[2m:\u001B[0m input=Integer(3656128197077300607)\r\n",
      "\u001B[2m2023-08-02T18:07:55.841131Z\u001B[0m \u001B[32m INFO\u001B[0m \u001B[2mtest\u001B[0m\u001B[2m:\u001B[0m input=StringLiteral(\".<tu?*4&{n&&:,A&k9!%;9/w'Y\")\r\n",
      "\u001B[2m2023-08-02T18:07:55.841187Z\u001B[0m \u001B[32m INFO\u001B[0m \u001B[2mtest\u001B[0m\u001B[2m:\u001B[0m input=Identifier(\"Fq05bZ02ZN8PM8k29tVd3qAq6w\")\r\n",
      "\u001B[2m2023-08-02T18:07:55.841224Z\u001B[0m \u001B[32m INFO\u001B[0m \u001B[2mtest\u001B[0m\u001B[2m:\u001B[0m input=Operator(\"=\")\r\n",
      "\u001B[2m2023-08-02T18:07:55.841282Z\u001B[0m \u001B[32m INFO\u001B[0m \u001B[2mtest\u001B[0m\u001B[2m:\u001B[0m input=StringLiteral(\".[d`{[p:B^K`_`tpI$&EVHNW?'0>\")\r\n",
      "\u001B[2m2023-08-02T18:07:55.841328Z\u001B[0m \u001B[32m INFO\u001B[0m \u001B[2mtest\u001B[0m\u001B[2m:\u001B[0m input=Comment(\"SSiGI,F]D^6\")\r\n",
      "\u001B[2m2023-08-02T18:07:55.841411Z\u001B[0m \u001B[32m INFO\u001B[0m \u001B[2mtest\u001B[0m\u001B[2m:\u001B[0m input=Integer(2552262150233436760)\r\n",
      "\u001B[2m2023-08-02T18:07:55.841497Z\u001B[0m \u001B[32m INFO\u001B[0m \u001B[2mtest\u001B[0m\u001B[2m:\u001B[0m input=Comment(\"`VJ8ta(}J)`XcAf'8FF}\")\r\n",
      "\u001B[2m2023-08-02T18:07:55.841540Z\u001B[0m \u001B[32m INFO\u001B[0m \u001B[2mtest\u001B[0m\u001B[2m:\u001B[0m input=Integer(-1226760911132749177)\r\n",
      "\u001B[2m2023-08-02T18:07:55.841560Z\u001B[0m \u001B[32m INFO\u001B[0m \u001B[2mtest\u001B[0m\u001B[2m:\u001B[0m input=Integer(-3104742490811416521)\r\n",
      "\u001B[2m2023-08-02T18:07:55.841587Z\u001B[0m \u001B[32m INFO\u001B[0m \u001B[2mtest\u001B[0m\u001B[2m:\u001B[0m input=StringLiteral(\"VD;/w>d&s I$F2i\")\r\n",
      "\u001B[2m2023-08-02T18:07:55.841609Z\u001B[0m \u001B[32m INFO\u001B[0m \u001B[2mtest\u001B[0m\u001B[2m:\u001B[0m input=StringLiteral(\"\")\r\n",
      "\u001B[2m2023-08-02T18:07:55.841641Z\u001B[0m \u001B[32m INFO\u001B[0m \u001B[2mtest\u001B[0m\u001B[2m:\u001B[0m input=Integer(-3861616561907966810)\r\n",
      "\u001B[2m2023-08-02T18:07:55.841670Z\u001B[0m \u001B[32m INFO\u001B[0m \u001B[2mtest\u001B[0m\u001B[2m:\u001B[0m input=Identifier(\"rNNOl9JoItdK6jtqQypGV97A3\")\r\n",
      "\u001B[2m2023-08-02T18:07:55.841693Z\u001B[0m \u001B[32m INFO\u001B[0m \u001B[2mtest\u001B[0m\u001B[2m:\u001B[0m input=Operator(\"(\")\r\n",
      "\u001B[2m2023-08-02T18:07:55.841728Z\u001B[0m \u001B[32m INFO\u001B[0m \u001B[2mtest\u001B[0m\u001B[2m:\u001B[0m input=Identifier(\"P8\")\r\n",
      "\u001B[2m2023-08-02T18:07:55.841751Z\u001B[0m \u001B[32m INFO\u001B[0m \u001B[2mtest\u001B[0m\u001B[2m:\u001B[0m input=Operator(\"(\")\r\n",
      "\u001B[2m2023-08-02T18:07:55.841781Z\u001B[0m \u001B[32m INFO\u001B[0m \u001B[2mtest\u001B[0m\u001B[2m:\u001B[0m input=Identifier(\"h4KcjfD7xYZ4ApcR09Z3T4V9eBLm\")\r\n",
      "\u001B[2m2023-08-02T18:07:55.841807Z\u001B[0m \u001B[32m INFO\u001B[0m \u001B[2mtest\u001B[0m\u001B[2m:\u001B[0m input=Comment(\"`v*sa)&p*Jc`g#j^K{D$Y\")\r\n",
      "\u001B[2m2023-08-02T18:07:55.841848Z\u001B[0m \u001B[32m INFO\u001B[0m \u001B[2mtest\u001B[0m\u001B[2m:\u001B[0m input=Comment(\";`].+:OUM&\\\\np{yG7.P*\")\r\n",
      "\u001B[2m2023-08-02T18:07:55.841883Z\u001B[0m \u001B[32m INFO\u001B[0m \u001B[2mtest\u001B[0m\u001B[2m:\u001B[0m input=StringLiteral(\".qrw]M1Sai92{#wM{Yg:.TohD{)\")\r\n",
      "\u001B[2m2023-08-02T18:07:55.841929Z\u001B[0m \u001B[32m INFO\u001B[0m \u001B[2mtest\u001B[0m\u001B[2m:\u001B[0m input=Comment(\"=uq%`1${dD*\")\r\n",
      "\u001B[2m2023-08-02T18:07:55.841952Z\u001B[0m \u001B[32m INFO\u001B[0m \u001B[2mtest\u001B[0m\u001B[2m:\u001B[0m input=Operator(\"-\")\r\n",
      "\u001B[2m2023-08-02T18:07:55.841986Z\u001B[0m \u001B[32m INFO\u001B[0m \u001B[2mtest\u001B[0m\u001B[2m:\u001B[0m input=Comment(\"<rpQS>\")\r\n",
      "\u001B[2m2023-08-02T18:07:55.842007Z\u001B[0m \u001B[32m INFO\u001B[0m \u001B[2mtest\u001B[0m\u001B[2m:\u001B[0m input=Integer(8722063221288583457)\r\n",
      "\u001B[2m2023-08-02T18:07:55.842036Z\u001B[0m \u001B[32m INFO\u001B[0m \u001B[2mtest\u001B[0m\u001B[2m:\u001B[0m input=StringLiteral(\"$=yF1A;{\")\r\n",
      "\u001B[2m2023-08-02T18:07:55.842070Z\u001B[0m \u001B[32m INFO\u001B[0m \u001B[2mtest\u001B[0m\u001B[2m:\u001B[0m input=Integer(-5484998779152415435)\r\n",
      "\u001B[2m2023-08-02T18:07:55.842090Z\u001B[0m \u001B[32m INFO\u001B[0m \u001B[2mtest\u001B[0m\u001B[2m:\u001B[0m input=Integer(-1705436117086586544)\r\n",
      "\u001B[2m2023-08-02T18:07:55.842110Z\u001B[0m \u001B[32m INFO\u001B[0m \u001B[2mtest\u001B[0m\u001B[2m:\u001B[0m input=Comment(\"2\")\r\n",
      "\u001B[2m2023-08-02T18:07:55.842128Z\u001B[0m \u001B[32m INFO\u001B[0m \u001B[2mtest\u001B[0m\u001B[2m:\u001B[0m input=Integer(-5127908764866611393)\r\n",
      "\u001B[2m2023-08-02T18:07:55.842155Z\u001B[0m \u001B[32m INFO\u001B[0m \u001B[2mtest\u001B[0m\u001B[2m:\u001B[0m input=Comment(\"CR$QM*$%p%(/)J\")\r\n",
      "\u001B[2m2023-08-02T18:07:55.842286Z\u001B[0m \u001B[32m INFO\u001B[0m \u001B[2mtest\u001B[0m\u001B[2m:\u001B[0m input=Operator(\"+\")\r\n",
      "\u001B[2m2023-08-02T18:07:55.842342Z\u001B[0m \u001B[32m INFO\u001B[0m \u001B[2mtest\u001B[0m\u001B[2m:\u001B[0m input=Identifier(\"KWwMthXH3yevjF34djaa3KLVURsqT4\")\r\n",
      "\u001B[2m2023-08-02T18:07:55.842378Z\u001B[0m \u001B[32m INFO\u001B[0m \u001B[2mtest\u001B[0m\u001B[2m:\u001B[0m input=Comment(\"%$]{?:XQ?CR`4+;&@?\\\"IFf=O`&B\")\r\n",
      "\u001B[2m2023-08-02T18:07:55.842403Z\u001B[0m \u001B[32m INFO\u001B[0m \u001B[2mtest\u001B[0m\u001B[2m:\u001B[0m input=Operator(\"=\")\r\n",
      "\u001B[2m2023-08-02T18:07:55.842436Z\u001B[0m \u001B[32m INFO\u001B[0m \u001B[2mtest\u001B[0m\u001B[2m:\u001B[0m input=Operator(\"-\")\r\n",
      "\u001B[2m2023-08-02T18:07:55.842461Z\u001B[0m \u001B[32m INFO\u001B[0m \u001B[2mtest\u001B[0m\u001B[2m:\u001B[0m input=Identifier(\"CCCyjS3GM1d\")\r\n",
      "\u001B[2m2023-08-02T18:07:55.842503Z\u001B[0m \u001B[32m INFO\u001B[0m \u001B[2mtest\u001B[0m\u001B[2m:\u001B[0m input=Operator(\"+\")\r\n",
      "\u001B[2m2023-08-02T18:07:55.842537Z\u001B[0m \u001B[32m INFO\u001B[0m \u001B[2mtest\u001B[0m\u001B[2m:\u001B[0m input=Operator(\"/\")\r\n",
      "\u001B[2m2023-08-02T18:07:55.842560Z\u001B[0m \u001B[32m INFO\u001B[0m \u001B[2mtest\u001B[0m\u001B[2m:\u001B[0m input=Operator(\")\")\r\n",
      "\u001B[2m2023-08-02T18:07:55.842583Z\u001B[0m \u001B[32m INFO\u001B[0m \u001B[2mtest\u001B[0m\u001B[2m:\u001B[0m input=StringLiteral(\"H/E]+gc\")\r\n",
      "\u001B[2m2023-08-02T18:07:55.842616Z\u001B[0m \u001B[32m INFO\u001B[0m \u001B[2mtest\u001B[0m\u001B[2m:\u001B[0m input=Comment(\"i]/\\\\v%L,~*';;jp&=?UAD0AyYLF`8P\")\r\n",
      "\u001B[2m2023-08-02T18:07:55.842651Z\u001B[0m \u001B[32m INFO\u001B[0m \u001B[2mtest\u001B[0m\u001B[2m:\u001B[0m input=Operator(\"+\")\r\n",
      "\u001B[2m2023-08-02T18:07:55.842682Z\u001B[0m \u001B[32m INFO\u001B[0m \u001B[2mtest\u001B[0m\u001B[2m:\u001B[0m input=StringLiteral(\"*=9piR%hX47*lj{?*i05$[t@'%n\")\r\n",
      "\u001B[2m2023-08-02T18:07:55.842706Z\u001B[0m \u001B[32m INFO\u001B[0m \u001B[2mtest\u001B[0m\u001B[2m:\u001B[0m input=Operator(\")\")\r\n",
      "\u001B[2m2023-08-02T18:07:55.842747Z\u001B[0m \u001B[32m INFO\u001B[0m \u001B[2mtest\u001B[0m\u001B[2m:\u001B[0m input=Comment(\"$n/<\\\"`zOq=SnOvg{(JV)&?!S&..m\\\"[n\")\r\n",
      "\u001B[2m2023-08-02T18:07:55.842797Z\u001B[0m \u001B[32m INFO\u001B[0m \u001B[2mtest\u001B[0m\u001B[2m:\u001B[0m input=Comment(\"qJ|:We]PR=./$g1sXw>/tU\")\r\n",
      "\u001B[2m2023-08-02T18:07:55.842820Z\u001B[0m \u001B[32m INFO\u001B[0m \u001B[2mtest\u001B[0m\u001B[2m:\u001B[0m input=Identifier(\"IcUD\")\r\n",
      "\u001B[2m2023-08-02T18:07:55.842848Z\u001B[0m \u001B[32m INFO\u001B[0m \u001B[2mtest\u001B[0m\u001B[2m:\u001B[0m input=Identifier(\"ZqWuVlX31F4llsZI\")\r\n",
      "\u001B[2m2023-08-02T18:07:55.842890Z\u001B[0m \u001B[32m INFO\u001B[0m \u001B[2mtest\u001B[0m\u001B[2m:\u001B[0m input=Identifier(\"i74YPYE0gT3Sn0n23Ltso8gdbn\")\r\n",
      "\u001B[2m2023-08-02T18:07:55.842915Z\u001B[0m \u001B[32m INFO\u001B[0m \u001B[2mtest\u001B[0m\u001B[2m:\u001B[0m input=StringLiteral(\".CbuT67}4\")\r\n",
      "\u001B[2m2023-08-02T18:07:55.842950Z\u001B[0m \u001B[32m INFO\u001B[0m \u001B[2mtest\u001B[0m\u001B[2m:\u001B[0m input=Operator(\"=\")\r\n",
      "\u001B[2m2023-08-02T18:07:55.842974Z\u001B[0m \u001B[32m INFO\u001B[0m \u001B[2mtest\u001B[0m\u001B[2m:\u001B[0m input=Identifier(\"KE477x8U6l\")\r\n",
      "\u001B[2m2023-08-02T18:07:55.842995Z\u001B[0m \u001B[32m INFO\u001B[0m \u001B[2mtest\u001B[0m\u001B[2m:\u001B[0m input=Operator(\"(\")\r\n",
      "\u001B[2m2023-08-02T18:07:55.843029Z\u001B[0m \u001B[32m INFO\u001B[0m \u001B[2mtest\u001B[0m\u001B[2m:\u001B[0m input=Operator(\"=\")\r\n",
      "\u001B[2m2023-08-02T18:07:55.843055Z\u001B[0m \u001B[32m INFO\u001B[0m \u001B[2mtest\u001B[0m\u001B[2m:\u001B[0m input=Identifier(\"MogP7m516\")\r\n",
      "\u001B[2m2023-08-02T18:07:55.843077Z\u001B[0m \u001B[32m INFO\u001B[0m \u001B[2mtest\u001B[0m\u001B[2m:\u001B[0m input=Identifier(\"Rfi\")\r\n",
      "\u001B[2m2023-08-02T18:07:55.843112Z\u001B[0m \u001B[32m INFO\u001B[0m \u001B[2mtest\u001B[0m\u001B[2m:\u001B[0m input=Operator(\"=\")\r\n",
      "\u001B[2m2023-08-02T18:07:55.843141Z\u001B[0m \u001B[32m INFO\u001B[0m \u001B[2mtest\u001B[0m\u001B[2m:\u001B[0m input=Identifier(\"vKT92t2nwXf9eZgPPXO8I\")\r\n",
      "\u001B[2m2023-08-02T18:07:55.843171Z\u001B[0m \u001B[32m INFO\u001B[0m \u001B[2mtest\u001B[0m\u001B[2m:\u001B[0m input=StringLiteral(\"A{qJc:{Eq}D.i*'6)Nw&cK<\")\r\n",
      "\u001B[2m2023-08-02T18:07:55.843230Z\u001B[0m \u001B[32m INFO\u001B[0m \u001B[2mtest\u001B[0m\u001B[2m:\u001B[0m input=Integer(-6274807200763609266)\r\n",
      "\u001B[2m2023-08-02T18:07:55.843320Z\u001B[0m \u001B[32m INFO\u001B[0m \u001B[2mtest\u001B[0m\u001B[2m:\u001B[0m input=Operator(\"/\")\r\n",
      "\u001B[2m2023-08-02T18:07:55.843381Z\u001B[0m \u001B[32m INFO\u001B[0m \u001B[2mtest\u001B[0m\u001B[2m:\u001B[0m input=StringLiteral(\"<-:=%q!:?:-Xj.,(Eyz%RArOL\")\r\n",
      "\u001B[2m2023-08-02T18:07:55.843409Z\u001B[0m \u001B[32m INFO\u001B[0m \u001B[2mtest\u001B[0m\u001B[2m:\u001B[0m input=StringLiteral(\"`=IOm:/^{i7\")\r\n",
      "\u001B[2m2023-08-02T18:07:55.843474Z\u001B[0m \u001B[32m INFO\u001B[0m \u001B[2mtest\u001B[0m\u001B[2m:\u001B[0m input=StringLiteral(\"{$_-`jDE@uncJ`*3_4^Y\")\r\n",
      "\u001B[2m2023-08-02T18:07:55.843571Z\u001B[0m \u001B[32m INFO\u001B[0m \u001B[2mtest\u001B[0m\u001B[2m:\u001B[0m input=Operator(\")\")\r\n",
      "\u001B[2m2023-08-02T18:07:55.843613Z\u001B[0m \u001B[32m INFO\u001B[0m \u001B[2mtest\u001B[0m\u001B[2m:\u001B[0m input=Identifier(\"QqfFbaR5Xl\")\r\n",
      "\u001B[2m2023-08-02T18:07:55.843680Z\u001B[0m \u001B[32m INFO\u001B[0m \u001B[2mtest\u001B[0m\u001B[2m:\u001B[0m input=Identifier(\"cKF4OFf4FRuPW0X51oa954\")\r\n",
      "\u001B[2m2023-08-02T18:07:55.843738Z\u001B[0m \u001B[32m INFO\u001B[0m \u001B[2mtest\u001B[0m\u001B[2m:\u001B[0m input=Operator(\"(\")\r\n",
      "\u001B[2m2023-08-02T18:07:55.843779Z\u001B[0m \u001B[32m INFO\u001B[0m \u001B[2mtest\u001B[0m\u001B[2m:\u001B[0m input=Comment(\")s.%Z=n|vYI[]I\")\r\n",
      "\u001B[2m2023-08-02T18:07:55.843844Z\u001B[0m \u001B[32m INFO\u001B[0m \u001B[2mtest\u001B[0m\u001B[2m:\u001B[0m input=StringLiteral(\"V:#tzV/rTOH\")\r\n",
      "\u001B[2m2023-08-02T18:07:55.843900Z\u001B[0m \u001B[32m INFO\u001B[0m \u001B[2mtest\u001B[0m\u001B[2m:\u001B[0m input=Identifier(\"d8E4cmMwJa9BesE8q0tsrFsdg7uw3f\")\r\n",
      "\u001B[2m2023-08-02T18:07:55.843975Z\u001B[0m \u001B[32m INFO\u001B[0m \u001B[2mtest\u001B[0m\u001B[2m:\u001B[0m input=Comment(\".9Ngk^5k_W`v]t8/@Ds_\")\r\n",
      "\u001B[2m2023-08-02T18:07:55.844019Z\u001B[0m \u001B[32m INFO\u001B[0m \u001B[2mtest\u001B[0m\u001B[2m:\u001B[0m input=Identifier(\"T6MLMc4\")\r\n",
      "\u001B[2m2023-08-02T18:07:55.844222Z\u001B[0m \u001B[32m INFO\u001B[0m \u001B[2mtest\u001B[0m\u001B[2m:\u001B[0m input=Comment(\"(@{%%9&g!(<p%*<\")\r\n",
      "\u001B[2m2023-08-02T18:07:55.844292Z\u001B[0m \u001B[32m INFO\u001B[0m \u001B[2mtest\u001B[0m\u001B[2m:\u001B[0m input=Integer(2067335781279024898)\r\n",
      "\u001B[2m2023-08-02T18:07:55.844321Z\u001B[0m \u001B[32m INFO\u001B[0m \u001B[2mtest\u001B[0m\u001B[2m:\u001B[0m input=Operator(\"-\")\r\n",
      "\u001B[2m2023-08-02T18:07:55.844363Z\u001B[0m \u001B[32m INFO\u001B[0m \u001B[2mtest\u001B[0m\u001B[2m:\u001B[0m input=Operator(\"/\")\r\n",
      "\u001B[2m2023-08-02T18:07:55.844385Z\u001B[0m \u001B[32m INFO\u001B[0m \u001B[2mtest\u001B[0m\u001B[2m:\u001B[0m input=Operator(\"*\")\r\n",
      "\u001B[2m2023-08-02T18:07:55.844418Z\u001B[0m \u001B[32m INFO\u001B[0m \u001B[2mtest\u001B[0m\u001B[2m:\u001B[0m input=Comment(\"T9(-`=%6\\\\C'@`wj%~O\\\"\")\r\n",
      "\u001B[2m2023-08-02T18:07:55.844456Z\u001B[0m \u001B[32m INFO\u001B[0m \u001B[2mtest\u001B[0m\u001B[2m:\u001B[0m input=Integer(-5085228958763418902)\r\n",
      "\u001B[2m2023-08-02T18:07:55.844477Z\u001B[0m \u001B[32m INFO\u001B[0m \u001B[2mtest\u001B[0m\u001B[2m:\u001B[0m input=Operator(\"*\")\r\n",
      "\u001B[2m2023-08-02T18:07:55.844512Z\u001B[0m \u001B[32m INFO\u001B[0m \u001B[2mtest\u001B[0m\u001B[2m:\u001B[0m input=StringLiteral(\"Oj+1<,-zq?1{9?5{r`-dQ+&<LT:&.\")\r\n",
      "\u001B[2m2023-08-02T18:07:55.844539Z\u001B[0m \u001B[32m INFO\u001B[0m \u001B[2mtest\u001B[0m\u001B[2m:\u001B[0m input=StringLiteral(\"YVT\")\r\n",
      "\u001B[2m2023-08-02T18:07:55.844574Z\u001B[0m \u001B[32m INFO\u001B[0m \u001B[2mtest\u001B[0m\u001B[2m:\u001B[0m input=Integer(7415602627926104708)\r\n",
      "\u001B[2m2023-08-02T18:07:55.844605Z\u001B[0m \u001B[32m INFO\u001B[0m \u001B[2mtest\u001B[0m\u001B[2m:\u001B[0m input=Comment(\"Cl!]*{oJ'_<H<G(\\\\{~\\\"IJ\")\r\n",
      "\u001B[2m2023-08-02T18:07:55.844636Z\u001B[0m \u001B[32m INFO\u001B[0m \u001B[2mtest\u001B[0m\u001B[2m:\u001B[0m input=Comment(\"\\\"2FvW\\\">,Ec5MBE\")\r\n",
      "\u001B[2m2023-08-02T18:07:55.844674Z\u001B[0m \u001B[32m INFO\u001B[0m \u001B[2mtest\u001B[0m\u001B[2m:\u001B[0m input=Operator(\"+\")\r\n",
      "\u001B[2m2023-08-02T18:07:55.844695Z\u001B[0m \u001B[32m INFO\u001B[0m \u001B[2mtest\u001B[0m\u001B[2m:\u001B[0m input=Integer(-3399800126799393581)\r\n",
      "\u001B[2m2023-08-02T18:07:55.844719Z\u001B[0m \u001B[32m INFO\u001B[0m \u001B[2mtest\u001B[0m\u001B[2m:\u001B[0m input=Operator(\"=\")\r\n",
      "\u001B[2m2023-08-02T18:07:55.844788Z\u001B[0m \u001B[32m INFO\u001B[0m \u001B[2mtest\u001B[0m\u001B[2m:\u001B[0m input=Operator(\"-\")\r\n",
      "\u001B[2m2023-08-02T18:07:55.844853Z\u001B[0m \u001B[32m INFO\u001B[0m \u001B[2mtest\u001B[0m\u001B[2m:\u001B[0m input=StringLiteral(\"3.'|MWeG+k&$].[%mtEseX;9s$Fk\")\r\n",
      "\u001B[2m2023-08-02T18:07:55.844888Z\u001B[0m \u001B[32m INFO\u001B[0m \u001B[2mtest\u001B[0m\u001B[2m:\u001B[0m input=StringLiteral(\"\")\r\n",
      "\u001B[2m2023-08-02T18:07:55.844916Z\u001B[0m \u001B[32m INFO\u001B[0m \u001B[2mtest\u001B[0m\u001B[2m:\u001B[0m input=Identifier(\"K0bhhl5l1aA617xY9L\")\r\n",
      "\u001B[2m2023-08-02T18:07:55.844948Z\u001B[0m \u001B[32m INFO\u001B[0m \u001B[2mtest\u001B[0m\u001B[2m:\u001B[0m input=Operator(\"*\")\r\n",
      "\u001B[2m2023-08-02T18:07:55.845013Z\u001B[0m \u001B[32m INFO\u001B[0m \u001B[2mtest\u001B[0m\u001B[2m:\u001B[0m input=Integer(-2667291641155334469)\r\n",
      "\u001B[2m2023-08-02T18:07:55.845052Z\u001B[0m \u001B[32m INFO\u001B[0m \u001B[2mtest\u001B[0m\u001B[2m:\u001B[0m input=Identifier(\"avKabNJf94vrCcAH48hO37OP38\")\r\n",
      "\u001B[2m2023-08-02T18:07:55.845095Z\u001B[0m \u001B[32m INFO\u001B[0m \u001B[2mtest\u001B[0m\u001B[2m:\u001B[0m input=StringLiteral(\"&:%Z(q*,URd%d=.\")\r\n",
      "\u001B[2m2023-08-02T18:07:55.845122Z\u001B[0m \u001B[32m INFO\u001B[0m \u001B[2mtest\u001B[0m\u001B[2m:\u001B[0m input=Comment(\"QX`n$=\")\r\n",
      "\u001B[2m2023-08-02T18:07:55.845142Z\u001B[0m \u001B[32m INFO\u001B[0m \u001B[2mtest\u001B[0m\u001B[2m:\u001B[0m input=StringLiteral(\"7p\")\r\n",
      "\u001B[2m2023-08-02T18:07:55.845201Z\u001B[0m \u001B[32m INFO\u001B[0m \u001B[2mtest\u001B[0m\u001B[2m:\u001B[0m input=Identifier(\"OWW8Q79pF0EIaS7k48a55L4\")\r\n",
      "\u001B[2m2023-08-02T18:07:55.845227Z\u001B[0m \u001B[32m INFO\u001B[0m \u001B[2mtest\u001B[0m\u001B[2m:\u001B[0m input=StringLiteral(\"^[`y]rL\")\r\n",
      "\u001B[2m2023-08-02T18:07:55.845269Z\u001B[0m \u001B[32m INFO\u001B[0m \u001B[2mtest\u001B[0m\u001B[2m:\u001B[0m input=Comment(\"'%vuT'bfc:5H\")\r\n",
      "\u001B[2m2023-08-02T18:07:55.845304Z\u001B[0m \u001B[32m INFO\u001B[0m \u001B[2mtest\u001B[0m\u001B[2m:\u001B[0m input=Integer(-8507205596751734787)\r\n",
      "\u001B[2m2023-08-02T18:07:55.845328Z\u001B[0m \u001B[32m INFO\u001B[0m \u001B[2mtest\u001B[0m\u001B[2m:\u001B[0m input=Operator(\")\")\r\n",
      "\u001B[2m2023-08-02T18:07:55.845349Z\u001B[0m \u001B[32m INFO\u001B[0m \u001B[2mtest\u001B[0m\u001B[2m:\u001B[0m input=Operator(\"=\")\r\n",
      "test prop_parse_format_idempotent ... ok\r\n",
      "test adding_and_then_removing_an_item_from_the_cart_leaves_the_cart_unchanged ... ok\r\n",
      "\r\n",
      "test result: ok. 3 passed; 0 failed; 0 ignored; 0 measured; 0 filtered out; finished in 0.12s\r\n",
      "\r\n"
     ]
    }
   ],
   "source": [
    "$env:RUST_LOG=\"info\"\n",
    "{ cargo test --release } | Invoke-Block"
   ]
  },
  {
   "cell_type": "code",
   "execution_count": null,
   "metadata": {
    "dotnet_interactive": {
     "language": "pwsh"
    },
    "polyglot_notebook": {
     "kernelName": "pwsh"
    }
   },
   "outputs": [
    {
     "name": "stdout",
     "output_type": "stream",
     "text": [
      "app=test\r\n"
     ]
    }
   ],
   "source": [
    "{ . $ScriptDir/../../target/release/test$(GetExecutableSuffix) } | Invoke-Block"
   ]
  }
 ],
 "metadata": {
  "kernelspec": {
   "display_name": ".NET (C#)",
   "language": "C#",
   "name": ".net-csharp"
  },
  "language_info": {
   "file_extension": ".cs",
   "mimetype": "text/x-csharp",
   "name": "C#",
   "pygments_lexer": "csharp",
   "version": "10.0"
  },
  "polyglot_notebook": {
   "defaultKernelName": "csharp",
   "items": [
    {
     "name": "csharp"
    }
   ]
  },
  "dotnet_interactive": {
   "defaultKernelName": "csharp",
   "items": [
    {
     "name": "csharp"
    }
   ]
  }
 },
 "nbformat": 4,
 "nbformat_minor": 5
}