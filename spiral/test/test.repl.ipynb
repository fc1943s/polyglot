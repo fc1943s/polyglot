{
 "cells": [
  {
   "cell_type": "code",
   "execution_count": null,
   "metadata": {
    "dotnet_interactive": {
     "language": "pwsh"
    },
    "polyglot_notebook": {
     "kernelName": "pwsh"
    }
   },
   "outputs": [],
   "source": [
    ". ../../scripts/nbs_header.ps1\n",
    ". ../../scripts/core.ps1"
   ]
  },
  {
   "cell_type": "code",
   "execution_count": null,
   "metadata": {
    "dotnet_interactive": {
     "language": "pwsh"
    },
    "polyglot_notebook": {
     "kernelName": "pwsh"
    }
   },
   "outputs": [
    {
     "name": "stdout",
     "output_type": "stream",
     "text": [
      "Fable 4.1.4: F# to Rust compiler (status: alpha)\r\n",
      "\r\n",
      "Thanks to the contributor! @markek\r\n",
      "Stand with Ukraine! https://standwithukraine.com.ua/\r\n",
      "\r\n",
      "Parsing test.fsproj...\r\n",
      ".> cmd /C dotnet restore test.csproj -p:FABLE_COMPILER=true -p:FABLE_COMPILER_4=true -p:FABLE_COMPILER_RUST=true\r\n",
      "  Determining projects to restore...\r\n",
      "  Paket version 8.0.0-alpha002+6339fce88f07b4d959d03b78330fdb5a6d936483\r\n",
      "  The last full restore is still up to date. Nothing left to do.\r\n",
      "  Total time taken: 0 milliseconds\r\n",
      "  Paket version 8.0.0-alpha002+6339fce88f07b4d959d03b78330fdb5a6d936483\r\n",
      "  Restoring C:\\home\\git\\polyglot\\spiral\\test\\test.csproj\r\n",
      "  Starting restore process.\r\n",
      "  Total time taken: 0 milliseconds\r\n",
      "  Restored C:\\home\\git\\polyglot\\spiral\\test\\test.csproj (in 2.45 sec).\r\n",
      "Project and references (1 source files) parsed in 12130ms\r\n",
      "\r\n",
      "Started Fable compilation...\r\n",
      "Fable compilation finished in 2361ms\r\n",
      "\r\n",
      ".\\test.fsx(6,0): (6,2) warning FABLE: For Rust, support for F# static and module do bindings is disabled by default. It can be enabled with the 'static_do_bindings' feature. Use at your own risk!\r\n"
     ]
    }
   ],
   "source": [
    "dotnet fable --optimize --lang rs --extension .rs"
   ]
  },
  {
   "cell_type": "code",
   "execution_count": null,
   "metadata": {
    "dotnet_interactive": {
     "language": "pwsh"
    },
    "polyglot_notebook": {
     "kernelName": "pwsh"
    }
   },
   "outputs": [],
   "source": [
    "cargo fmt --"
   ]
  },
  {
   "cell_type": "code",
   "execution_count": null,
   "metadata": {
    "dotnet_interactive": {
     "language": "pwsh"
    },
    "polyglot_notebook": {
     "kernelName": "pwsh"
    }
   },
   "outputs": [
    {
     "name": "stdout",
     "output_type": "stream",
     "text": [
      "\u001B[31;1m   Compiling test v0.0.1 (C:\\home\\git\\polyglot\\spiral\\test)\u001B[0m\r\n",
      "\u001B[31;1mwarning: unused import: `info`\u001B[0m\r\n",
      "\u001B[31;1m   --> spiral\\test\\./main.rs:190:15\u001B[0m\r\n",
      "\u001B[31;1m    |\u001B[0m\r\n",
      "\u001B[31;1m190 | use tracing::{info, Level};\u001B[0m\r\n",
      "\u001B[31;1m    |               ^^^^\u001B[0m\r\n",
      "\u001B[31;1m    |\u001B[0m\r\n",
      "\u001B[31;1m    = note: `#[warn(unused_imports)]` on by default\u001B[0m\r\n",
      "\u001B[31;1m\u001B[0m\r\n",
      "\u001B[31;1mwarning: associated items `new`, `add_item`, and `remove_item` are never used\u001B[0m\r\n",
      "\u001B[31;1m  --> spiral\\test\\./main.rs:46:8\u001B[0m\r\n",
      "\u001B[31;1m   |\u001B[0m\r\n",
      "\u001B[31;1m45 | impl Cart {\u001B[0m\r\n",
      "\u001B[31;1m   | --------- associated items in this implementation\u001B[0m\r\n",
      "\u001B[31;1m46 |     fn new() -> Cart {\u001B[0m\r\n",
      "\u001B[31;1m   |        ^^^\u001B[0m\r\n",
      "\u001B[31;1m...\u001B[0m\r\n",
      "\u001B[31;1m50 |     fn add_item(&mut self, item: Item) {\u001B[0m\r\n",
      "\u001B[31;1m   |        ^^^^^^^^\u001B[0m\r\n",
      "\u001B[31;1m...\u001B[0m\r\n",
      "\u001B[31;1m56 |     fn remove_item(&mut self, item: &Item) {\u001B[0m\r\n",
      "\u001B[31;1m   |        ^^^^^^^^^^^\u001B[0m\r\n",
      "\u001B[31;1m   |\u001B[0m\r\n",
      "\u001B[31;1m   = note: `#[warn(dead_code)]` on by default\u001B[0m\r\n",
      "\u001B[31;1m\u001B[0m\r\n",
      "\u001B[31;1mwarning: function `parse_comment` is never used\u001B[0m\r\n",
      "\u001B[31;1m   --> spiral\\test\\./main.rs:124:4\u001B[0m\r\n",
      "\u001B[31;1m    |\u001B[0m\r\n",
      "\u001B[31;1m124 | fn parse_comment(input: &str) -> IResult<&str, SpiralToken> {\u001B[0m\r\n",
      "\u001B[31;1m    |    ^^^^^^^^^^^^^\u001B[0m\r\n",
      "\u001B[31;1m\u001B[0m\r\n",
      "\u001B[31;1mwarning: function `parse_string` is never used\u001B[0m\r\n",
      "\u001B[31;1m   --> spiral\\test\\./main.rs:130:4\u001B[0m\r\n",
      "\u001B[31;1m    |\u001B[0m\r\n",
      "\u001B[31;1m130 | fn parse_string(input: &str) -> IResult<&str, SpiralToken> {\u001B[0m\r\n",
      "\u001B[31;1m    |    ^^^^^^^^^^^^\u001B[0m\r\n",
      "\u001B[31;1m\u001B[0m\r\n",
      "\u001B[31;1mwarning: function `parse_identifier` is never used\u001B[0m\r\n",
      "\u001B[31;1m   --> spiral\\test\\./main.rs:145:4\u001B[0m\r\n",
      "\u001B[31;1m    |\u001B[0m\r\n",
      "\u001B[31;1m145 | fn parse_identifier(input: &str) -> IResult<&str, SpiralToken> {\u001B[0m\r\n",
      "\u001B[31;1m    |    ^^^^^^^^^^^^^^^^\u001B[0m\r\n",
      "\u001B[31;1m\u001B[0m\r\n",
      "\u001B[31;1mwarning: function `parse_integer` is never used\u001B[0m\r\n",
      "\u001B[31;1m   --> spiral\\test\\./main.rs:157:4\u001B[0m\r\n",
      "\u001B[31;1m    |\u001B[0m\r\n",
      "\u001B[31;1m157 | fn parse_integer(input: &str) -> IResult<&str, SpiralToken> {\u001B[0m\r\n",
      "\u001B[31;1m    |    ^^^^^^^^^^^^^\u001B[0m\r\n",
      "\u001B[31;1m\u001B[0m\r\n",
      "\u001B[31;1mwarning: function `parse_operator` is never used\u001B[0m\r\n",
      "\u001B[31;1m   --> spiral\\test\\./main.rs:165:4\u001B[0m\r\n",
      "\u001B[31;1m    |\u001B[0m\r\n",
      "\u001B[31;1m165 | fn parse_operator(input: &str) -> IResult<&str, SpiralToken> {\u001B[0m\r\n",
      "\u001B[31;1m    |    ^^^^^^^^^^^^^^\u001B[0m\r\n",
      "\u001B[31;1m\u001B[0m\r\n",
      "\u001B[31;1mwarning: function `parse_token` is never used\u001B[0m\r\n",
      "\u001B[31;1m   --> spiral\\test\\./main.rs:170:4\u001B[0m\r\n",
      "\u001B[31;1m    |\u001B[0m\r\n",
      "\u001B[31;1m170 | fn parse_token(input: &str) -> IResult<&str, SpiralToken> {\u001B[0m\r\n",
      "\u001B[31;1m    |    ^^^^^^^^^^^\u001B[0m\r\n",
      "\u001B[31;1m\u001B[0m\r\n",
      "\u001B[31;1mwarning: function `format_token` is never used\u001B[0m\r\n",
      "\u001B[31;1m   --> spiral\\test\\./main.rs:180:4\u001B[0m\r\n",
      "\u001B[31;1m    |\u001B[0m\r\n",
      "\u001B[31;1m180 | fn format_token(token: &SpiralToken) -> String {\u001B[0m\r\n",
      "\u001B[31;1m    |    ^^^^^^^^^^^^\u001B[0m\r\n",
      "\u001B[31;1m\u001B[0m\r\n",
      "\u001B[31;1mwarning: function `parse_expression` is never used\u001B[0m\r\n",
      "\u001B[31;1m   --> spiral\\test\\./main.rs:213:4\u001B[0m\r\n",
      "\u001B[31;1m    |\u001B[0m\r\n",
      "\u001B[31;1m213 | fn parse_expression(input: &str) -> IResult<&str, SpiralToken> {\u001B[0m\r\n",
      "\u001B[31;1m    |    ^^^^^^^^^^^^^^^^\u001B[0m\r\n",
      "\u001B[31;1m\u001B[0m\r\n",
      "\u001B[31;1mwarning: `test` (bin \"test\") generated 10 warnings (run `cargo fix --bin \"test\"` to apply 1 suggestion)\u001B[0m\r\n",
      "\u001B[31;1m    Finished release [optimized] target(s) in 6.90s\u001B[0m\r\n"
     ]
    }
   ],
   "source": [
    "cargo build --release"
   ]
  },
  {
   "cell_type": "code",
   "execution_count": null,
   "metadata": {
    "dotnet_interactive": {
     "language": "pwsh"
    },
    "polyglot_notebook": {
     "kernelName": "pwsh"
    }
   },
   "outputs": [
    {
     "name": "stdout",
     "output_type": "stream",
     "text": [
      "\u001B[31;1m   Compiling test v0.0.1 (C:\\home\\git\\polyglot\\spiral\\test)\u001B[0m\r\n",
      "\u001B[31;1m    Finished release [optimized] target(s) in 6.32s\u001B[0m\r\n",
      "\u001B[31;1m     Running unittests main.rs (C:\\home\\git\\polyglot\\target\\release\\deps\\test-38172e11e9fb5a54.exe)\u001B[0m\r\n",
      "\r\n",
      "running 3 tests\r\n",
      "test test_parse_number ... ok\r\n",
      "\u001B[2m2023-08-01T22:30:50.403800Z\u001B[0m \u001B[32m INFO\u001B[0m \u001B[2mtest\u001B[0m\u001B[2m:\u001B[0m input=Integer(4802392578222727616)\r\n",
      "\u001B[2m2023-08-01T22:30:50.404131Z\u001B[0m \u001B[32m INFO\u001B[0m \u001B[2mtest\u001B[0m\u001B[2m:\u001B[0m input=Identifier(\"c77zMfSGN22Y95dZ9MM7LP4X\")\r\n",
      "\u001B[2m2023-08-01T22:30:50.404315Z\u001B[0m \u001B[32m INFO\u001B[0m \u001B[2mtest\u001B[0m\u001B[2m:\u001B[0m input=Integer(-1570410481760281469)\r\n",
      "\u001B[2m2023-08-01T22:30:50.404464Z\u001B[0m \u001B[32m INFO\u001B[0m \u001B[2mtest\u001B[0m\u001B[2m:\u001B[0m input=Comment(\"'#*'6'R=>0\\\"Fj`7qZZ.\")\r\n",
      "\u001B[2m2023-08-01T22:30:50.404739Z\u001B[0m \u001B[32m INFO\u001B[0m \u001B[2mtest\u001B[0m\u001B[2m:\u001B[0m input=Comment(\"=Qm6$e{`D=%{L*{uN:$'5`d/\")\r\n",
      "\u001B[2m2023-08-01T22:30:50.404859Z\u001B[0m \u001B[32m INFO\u001B[0m \u001B[2mtest\u001B[0m\u001B[2m:\u001B[0m input=Operator(\"-\")\r\n",
      "\u001B[2m2023-08-01T22:30:50.404942Z\u001B[0m \u001B[32m INFO\u001B[0m \u001B[2mtest\u001B[0m\u001B[2m:\u001B[0m input=Comment(\"\")\r\n",
      "\u001B[2m2023-08-01T22:30:50.405059Z\u001B[0m \u001B[32m INFO\u001B[0m \u001B[2mtest\u001B[0m\u001B[2m:\u001B[0m input=Identifier(\"lS5TCYdq68t0Unqp45472uKaMt\")\r\n",
      "\u001B[2m2023-08-01T22:30:50.405205Z\u001B[0m \u001B[32m INFO\u001B[0m \u001B[2mtest\u001B[0m\u001B[2m:\u001B[0m input=StringLiteral(\".OAD1\")\r\n",
      "\u001B[2m2023-08-01T22:30:50.405341Z\u001B[0m \u001B[32m INFO\u001B[0m \u001B[2mtest\u001B[0m\u001B[2m:\u001B[0m input=Identifier(\"BVx8EMs7h94H\")\r\n",
      "\u001B[2m2023-08-01T22:30:50.405425Z\u001B[0m \u001B[32m INFO\u001B[0m \u001B[2mtest\u001B[0m\u001B[2m:\u001B[0m input=Integer(-5085833566596207728)\r\n",
      "\u001B[2m2023-08-01T22:30:50.405548Z\u001B[0m \u001B[32m INFO\u001B[0m \u001B[2mtest\u001B[0m\u001B[2m:\u001B[0m input=StringLiteral(\"=t|`Xegf7kRk$&//GGBW/+Wc?Vf..h\")\r\n",
      "\u001B[2m2023-08-01T22:30:50.405699Z\u001B[0m \u001B[32m INFO\u001B[0m \u001B[2mtest\u001B[0m\u001B[2m:\u001B[0m input=StringLiteral(\"SaP^&?<rdl\")\r\n",
      "\u001B[2m2023-08-01T22:30:50.405800Z\u001B[0m \u001B[32m INFO\u001B[0m \u001B[2mtest\u001B[0m\u001B[2m:\u001B[0m input=Comment(\"/jx$ggYs}#\")\r\n",
      "\u001B[2m2023-08-01T22:30:50.405913Z\u001B[0m \u001B[32m INFO\u001B[0m \u001B[2mtest\u001B[0m\u001B[2m:\u001B[0m input=Integer(-7210419648801420253)\r\n",
      "\u001B[2m2023-08-01T22:30:50.406014Z\u001B[0m \u001B[32m INFO\u001B[0m \u001B[2mtest\u001B[0m\u001B[2m:\u001B[0m input=StringLiteral(\"$Dk[eB}{\")\r\n",
      "\u001B[2m2023-08-01T22:30:50.406167Z\u001B[0m \u001B[32m INFO\u001B[0m \u001B[2mtest\u001B[0m\u001B[2m:\u001B[0m input=Integer(-4967400300937073015)\r\n",
      "\u001B[2m2023-08-01T22:30:50.406297Z\u001B[0m \u001B[32m INFO\u001B[0m \u001B[2mtest\u001B[0m\u001B[2m:\u001B[0m input=StringLiteral(\"/hl-; `{1\")\r\n",
      "\u001B[2m2023-08-01T22:30:50.406397Z\u001B[0m \u001B[32m INFO\u001B[0m \u001B[2mtest\u001B[0m\u001B[2m:\u001B[0m input=Comment(\"e$.|\\\"=`#;g2l\\\"a0zk${Opm\")\r\n",
      "\u001B[2m2023-08-01T22:30:50.406486Z\u001B[0m \u001B[32m INFO\u001B[0m \u001B[2mtest\u001B[0m\u001B[2m:\u001B[0m input=Comment(\"%szX=H/$:n|\")\r\n",
      "\u001B[2m2023-08-01T22:30:50.406553Z\u001B[0m \u001B[32m INFO\u001B[0m \u001B[2mtest\u001B[0m\u001B[2m:\u001B[0m input=Integer(-6780552609555867250)\r\n",
      "\u001B[2m2023-08-01T22:30:50.406619Z\u001B[0m \u001B[32m INFO\u001B[0m \u001B[2mtest\u001B[0m\u001B[2m:\u001B[0m input=Integer(4354402919713876276)\r\n",
      "\u001B[2m2023-08-01T22:30:50.406720Z\u001B[0m \u001B[32m INFO\u001B[0m \u001B[2mtest\u001B[0m\u001B[2m:\u001B[0m input=Operator(\"*\")\r\n",
      "\u001B[2m2023-08-01T22:30:50.406786Z\u001B[0m \u001B[32m INFO\u001B[0m \u001B[2mtest\u001B[0m\u001B[2m:\u001B[0m input=Integer(-6341931975271439959)\r\n",
      "\u001B[2m2023-08-01T22:30:50.406858Z\u001B[0m \u001B[32m INFO\u001B[0m \u001B[2mtest\u001B[0m\u001B[2m:\u001B[0m input=Identifier(\"i\")\r\n",
      "\u001B[2m2023-08-01T22:30:50.406958Z\u001B[0m \u001B[32m INFO\u001B[0m \u001B[2mtest\u001B[0m\u001B[2m:\u001B[0m input=StringLiteral(\"N='`?//6J*vxgBxF_CkYu|\")\r\n",
      "\u001B[2m2023-08-01T22:30:50.407037Z\u001B[0m \u001B[32m INFO\u001B[0m \u001B[2mtest\u001B[0m\u001B[2m:\u001B[0m input=Integer(1321374675257357505)\r\n",
      "\u001B[2m2023-08-01T22:30:50.407135Z\u001B[0m \u001B[32m INFO\u001B[0m \u001B[2mtest\u001B[0m\u001B[2m:\u001B[0m input=Identifier(\"Y7NLpMju4BXr0yFStrX7CYLKRp1l\")\r\n",
      "\u001B[2m2023-08-01T22:30:50.407234Z\u001B[0m \u001B[32m INFO\u001B[0m \u001B[2mtest\u001B[0m\u001B[2m:\u001B[0m input=StringLiteral(\"'Fu<w{b?(:?((v{'>DC<<q\")\r\n",
      "\u001B[2m2023-08-01T22:30:50.407327Z\u001B[0m \u001B[32m INFO\u001B[0m \u001B[2mtest\u001B[0m\u001B[2m:\u001B[0m input=StringLiteral(\"e0R)QK\")\r\n",
      "\u001B[2m2023-08-01T22:30:50.407377Z\u001B[0m \u001B[32m INFO\u001B[0m \u001B[2mtest\u001B[0m\u001B[2m:\u001B[0m input=Integer(-8638141182868123112)\r\n",
      "\u001B[2m2023-08-01T22:30:50.407465Z\u001B[0m \u001B[32m INFO\u001B[0m \u001B[2mtest\u001B[0m\u001B[2m:\u001B[0m input=StringLiteral(\"vB%=`cc wZF\")\r\n",
      "\u001B[2m2023-08-01T22:30:50.407553Z\u001B[0m \u001B[32m INFO\u001B[0m \u001B[2mtest\u001B[0m\u001B[2m:\u001B[0m input=Operator(\"=\")\r\n",
      "\u001B[2m2023-08-01T22:30:50.407614Z\u001B[0m \u001B[32m INFO\u001B[0m \u001B[2mtest\u001B[0m\u001B[2m:\u001B[0m input=Identifier(\"MsY\")\r\n",
      "\u001B[2m2023-08-01T22:30:50.407776Z\u001B[0m \u001B[32m INFO\u001B[0m \u001B[2mtest\u001B[0m\u001B[2m:\u001B[0m input=Identifier(\"QY2th3a9gu03Tw\")\r\n",
      "\u001B[2m2023-08-01T22:30:50.407876Z\u001B[0m \u001B[32m INFO\u001B[0m \u001B[2mtest\u001B[0m\u001B[2m:\u001B[0m input=Identifier(\"Jk1NWem0gHhLh\")\r\n",
      "\u001B[2m2023-08-01T22:30:50.407957Z\u001B[0m \u001B[32m INFO\u001B[0m \u001B[2mtest\u001B[0m\u001B[2m:\u001B[0m input=Operator(\"+\")\r\n",
      "\u001B[2m2023-08-01T22:30:50.408088Z\u001B[0m \u001B[32m INFO\u001B[0m \u001B[2mtest\u001B[0m\u001B[2m:\u001B[0m input=Operator(\"*\")\r\n",
      "\u001B[2m2023-08-01T22:30:50.408204Z\u001B[0m \u001B[32m INFO\u001B[0m \u001B[2mtest\u001B[0m\u001B[2m:\u001B[0m input=Operator(\"=\")\r\n",
      "\u001B[2m2023-08-01T22:30:50.408302Z\u001B[0m \u001B[32m INFO\u001B[0m \u001B[2mtest\u001B[0m\u001B[2m:\u001B[0m input=Identifier(\"T4Ln9weot4194\")\r\n",
      "\u001B[2m2023-08-01T22:30:50.408389Z\u001B[0m \u001B[32m INFO\u001B[0m \u001B[2mtest\u001B[0m\u001B[2m:\u001B[0m input=Comment(\"\\\\Z$\")\r\n",
      "\u001B[2m2023-08-01T22:30:50.408483Z\u001B[0m \u001B[32m INFO\u001B[0m \u001B[2mtest\u001B[0m\u001B[2m:\u001B[0m input=StringLiteral(\"?'I~ =LN\")\r\n",
      "\u001B[2m2023-08-01T22:30:50.408581Z\u001B[0m \u001B[32m INFO\u001B[0m \u001B[2mtest\u001B[0m\u001B[2m:\u001B[0m input=StringLiteral(\"?$>\")\r\n",
      "\u001B[2m2023-08-01T22:30:50.408725Z\u001B[0m \u001B[32m INFO\u001B[0m \u001B[2mtest\u001B[0m\u001B[2m:\u001B[0m input=StringLiteral(\"t`*KJ<>`>||rx#&U*:B\")\r\n",
      "\u001B[2m2023-08-01T22:30:50.408828Z\u001B[0m \u001B[32m INFO\u001B[0m \u001B[2mtest\u001B[0m\u001B[2m:\u001B[0m input=Comment(\"pY9nIS(w_U%z0#py&/*X.!\")\r\n",
      "\u001B[2m2023-08-01T22:30:50.408921Z\u001B[0m \u001B[32m INFO\u001B[0m \u001B[2mtest\u001B[0m\u001B[2m:\u001B[0m input=Integer(-2253636744068704582)\r\n",
      "\u001B[2m2023-08-01T22:30:50.409023Z\u001B[0m \u001B[32m INFO\u001B[0m \u001B[2mtest\u001B[0m\u001B[2m:\u001B[0m input=Identifier(\"ieSREeD3A8XVBhYjQ87A9lmOcL\")\r\n",
      "\u001B[2m2023-08-01T22:30:50.409127Z\u001B[0m \u001B[32m INFO\u001B[0m \u001B[2mtest\u001B[0m\u001B[2m:\u001B[0m input=Identifier(\"Ws8eYkWi8K5z4i6CUO0JD4\")\r\n",
      "\u001B[2m2023-08-01T22:30:50.409222Z\u001B[0m \u001B[32m INFO\u001B[0m \u001B[2mtest\u001B[0m\u001B[2m:\u001B[0m input=Identifier(\"k7w3vZzbp0G6sC\")\r\n",
      "\u001B[2m2023-08-01T22:30:50.409342Z\u001B[0m \u001B[32m INFO\u001B[0m \u001B[2mtest\u001B[0m\u001B[2m:\u001B[0m input=Comment(\"3.s?\\\"}M<<eh.l?O.&V/^s&\\\"<.Qr\\\".\")\r\n",
      "\u001B[2m2023-08-01T22:30:50.409611Z\u001B[0m \u001B[32m INFO\u001B[0m \u001B[2mtest\u001B[0m\u001B[2m:\u001B[0m input=StringLiteral(\"m['kj@'C#~how'#\")\r\n",
      "\u001B[2m2023-08-01T22:30:50.409715Z\u001B[0m \u001B[32m INFO\u001B[0m \u001B[2mtest\u001B[0m\u001B[2m:\u001B[0m input=Integer(-7034239884453293845)\r\n",
      "\u001B[2m2023-08-01T22:30:50.409811Z\u001B[0m \u001B[32m INFO\u001B[0m \u001B[2mtest\u001B[0m\u001B[2m:\u001B[0m input=StringLiteral(\"r_$Gqk0_/q`/?\")\r\n",
      "\u001B[2m2023-08-01T22:30:50.409931Z\u001B[0m \u001B[32m INFO\u001B[0m \u001B[2mtest\u001B[0m\u001B[2m:\u001B[0m input=Identifier(\"ctf7qLO8mda4L660EfrVEl1SbGZFSkYz\")\r\n",
      "\u001B[2m2023-08-01T22:30:50.410047Z\u001B[0m \u001B[32m INFO\u001B[0m \u001B[2mtest\u001B[0m\u001B[2m:\u001B[0m input=StringLiteral(\"S){p`q^<9n&eA&`Ld5$6:>yHq/qlj\")\r\n",
      "\u001B[2m2023-08-01T22:30:50.410148Z\u001B[0m \u001B[32m INFO\u001B[0m \u001B[2mtest\u001B[0m\u001B[2m:\u001B[0m input=Identifier(\"Yk91Qf2it1tHhWB\")\r\n",
      "\u001B[2m2023-08-01T22:30:50.410269Z\u001B[0m \u001B[32m INFO\u001B[0m \u001B[2mtest\u001B[0m\u001B[2m:\u001B[0m input=Comment(\"OM\\\"A.x4l*%qjc{Zx's#$?9P@]`Le\\\"%i'\")\r\n",
      "\u001B[2m2023-08-01T22:30:50.410432Z\u001B[0m \u001B[32m INFO\u001B[0m \u001B[2mtest\u001B[0m\u001B[2m:\u001B[0m input=Operator(\"*\")\r\n",
      "\u001B[2m2023-08-01T22:30:50.410516Z\u001B[0m \u001B[32m INFO\u001B[0m \u001B[2mtest\u001B[0m\u001B[2m:\u001B[0m input=Operator(\"*\")\r\n",
      "\u001B[2m2023-08-01T22:30:50.410601Z\u001B[0m \u001B[32m INFO\u001B[0m \u001B[2mtest\u001B[0m\u001B[2m:\u001B[0m input=Integer(9159009607616055739)\r\n",
      "\u001B[2m2023-08-01T22:30:50.410686Z\u001B[0m \u001B[32m INFO\u001B[0m \u001B[2mtest\u001B[0m\u001B[2m:\u001B[0m input=StringLiteral(\"i4bI(Y{<\")\r\n",
      "\u001B[2m2023-08-01T22:30:50.410772Z\u001B[0m \u001B[32m INFO\u001B[0m \u001B[2mtest\u001B[0m\u001B[2m:\u001B[0m input=Operator(\"-\")\r\n",
      "\u001B[2m2023-08-01T22:30:50.410840Z\u001B[0m \u001B[32m INFO\u001B[0m \u001B[2mtest\u001B[0m\u001B[2m:\u001B[0m input=Integer(-2253293382427802645)\r\n",
      "\u001B[2m2023-08-01T22:30:50.410915Z\u001B[0m \u001B[32m INFO\u001B[0m \u001B[2mtest\u001B[0m\u001B[2m:\u001B[0m input=StringLiteral(\"S5&C\")\r\n",
      "\u001B[2m2023-08-01T22:30:50.410991Z\u001B[0m \u001B[32m INFO\u001B[0m \u001B[2mtest\u001B[0m\u001B[2m:\u001B[0m input=Identifier(\"GD1155\")\r\n",
      "\u001B[2m2023-08-01T22:30:50.411088Z\u001B[0m \u001B[32m INFO\u001B[0m \u001B[2mtest\u001B[0m\u001B[2m:\u001B[0m input=StringLiteral(\"u+E:!:{U^S*czYw.u51.A,C/G?!.*\")\r\n",
      "\u001B[2m2023-08-01T22:30:50.411219Z\u001B[0m \u001B[32m INFO\u001B[0m \u001B[2mtest\u001B[0m\u001B[2m:\u001B[0m input=Comment(\"(_\")\r\n",
      "\u001B[2m2023-08-01T22:30:50.411329Z\u001B[0m \u001B[32m INFO\u001B[0m \u001B[2mtest\u001B[0m\u001B[2m:\u001B[0m input=Operator(\")\")\r\n",
      "\u001B[2m2023-08-01T22:30:50.411421Z\u001B[0m \u001B[32m INFO\u001B[0m \u001B[2mtest\u001B[0m\u001B[2m:\u001B[0m input=Identifier(\"iicl91LEON843rYAqLg208kMV\")\r\n",
      "\u001B[2m2023-08-01T22:30:50.411575Z\u001B[0m \u001B[32m INFO\u001B[0m \u001B[2mtest\u001B[0m\u001B[2m:\u001B[0m input=StringLiteral(\":k{h%d1CpvV:J{s`=;y?%\")\r\n",
      "\u001B[2m2023-08-01T22:30:50.411702Z\u001B[0m \u001B[32m INFO\u001B[0m \u001B[2mtest\u001B[0m\u001B[2m:\u001B[0m input=StringLiteral(\"YL\")\r\n",
      "\u001B[2m2023-08-01T22:30:50.411808Z\u001B[0m \u001B[32m INFO\u001B[0m \u001B[2mtest\u001B[0m\u001B[2m:\u001B[0m input=Identifier(\"Kf6hI2gtA3DOtIZ0AfvP9nP9\")\r\n",
      "\u001B[2m2023-08-01T22:30:50.411891Z\u001B[0m \u001B[32m INFO\u001B[0m \u001B[2mtest\u001B[0m\u001B[2m:\u001B[0m input=Identifier(\"rFj9\")\r\n",
      "\u001B[2m2023-08-01T22:30:50.411959Z\u001B[0m \u001B[32m INFO\u001B[0m \u001B[2mtest\u001B[0m\u001B[2m:\u001B[0m input=Integer(-1103126659374128494)\r\n",
      "\u001B[2m2023-08-01T22:30:50.412038Z\u001B[0m \u001B[32m INFO\u001B[0m \u001B[2mtest\u001B[0m\u001B[2m:\u001B[0m input=Identifier(\"oh8zQl40U\")\r\n",
      "\u001B[2m2023-08-01T22:30:50.412112Z\u001B[0m \u001B[32m INFO\u001B[0m \u001B[2mtest\u001B[0m\u001B[2m:\u001B[0m input=StringLiteral(\"$Lt\")\r\n",
      "\u001B[2m2023-08-01T22:30:50.412232Z\u001B[0m \u001B[32m INFO\u001B[0m \u001B[2mtest\u001B[0m\u001B[2m:\u001B[0m input=StringLiteral(\"%;\")\r\n",
      "\u001B[2m2023-08-01T22:30:50.412339Z\u001B[0m \u001B[32m INFO\u001B[0m \u001B[2mtest\u001B[0m\u001B[2m:\u001B[0m input=Identifier(\"eu1n1kYkS44UFBS3ENgZHxpXQd\")\r\n",
      "\u001B[2m2023-08-01T22:30:50.412433Z\u001B[0m \u001B[32m INFO\u001B[0m \u001B[2mtest\u001B[0m\u001B[2m:\u001B[0m input=StringLiteral(\"</$e.qY`;j\")\r\n",
      "\u001B[2m2023-08-01T22:30:50.412529Z\u001B[0m \u001B[32m INFO\u001B[0m \u001B[2mtest\u001B[0m\u001B[2m:\u001B[0m input=StringLiteral(\"?QdUo5'wlR/`'\")\r\n",
      "\u001B[2m2023-08-01T22:30:50.412630Z\u001B[0m \u001B[32m INFO\u001B[0m \u001B[2mtest\u001B[0m\u001B[2m:\u001B[0m input=Identifier(\"x6SvMszTtk1Z7dC2TLyPr\")\r\n",
      "\u001B[2m2023-08-01T22:30:50.412804Z\u001B[0m \u001B[32m INFO\u001B[0m \u001B[2mtest\u001B[0m\u001B[2m:\u001B[0m input=StringLiteral(\"%-.cp$7_&:$!Ki|Yib,_/:FY'Cnb\")\r\n",
      "\u001B[2m2023-08-01T22:30:50.412909Z\u001B[0m \u001B[32m INFO\u001B[0m \u001B[2mtest\u001B[0m\u001B[2m:\u001B[0m input=Comment(\"W/68&6zlS@\")\r\n",
      "\u001B[2m2023-08-01T22:30:50.412990Z\u001B[0m \u001B[32m INFO\u001B[0m \u001B[2mtest\u001B[0m\u001B[2m:\u001B[0m input=StringLiteral(\"FaJ>,u\")\r\n",
      "\u001B[2m2023-08-01T22:30:50.413086Z\u001B[0m \u001B[32m INFO\u001B[0m \u001B[2mtest\u001B[0m\u001B[2m:\u001B[0m input=Identifier(\"f6s8TUDE0PzxHDM0Tn5\")\r\n",
      "\u001B[2m2023-08-01T22:30:50.413222Z\u001B[0m \u001B[32m INFO\u001B[0m \u001B[2mtest\u001B[0m\u001B[2m:\u001B[0m input=Identifier(\"N1qP5tYBqsRV\")\r\n",
      "\u001B[2m2023-08-01T22:30:50.413328Z\u001B[0m \u001B[32m INFO\u001B[0m \u001B[2mtest\u001B[0m\u001B[2m:\u001B[0m input=Comment(\"{>'*`Qi%iq(c:\\\\Nk&\\\\o&{H<\\\\`A]8\\\" *\")\r\n",
      "\u001B[2m2023-08-01T22:30:50.413521Z\u001B[0m \u001B[32m INFO\u001B[0m \u001B[2mtest\u001B[0m\u001B[2m:\u001B[0m input=StringLiteral(\"xko\")\r\n",
      "\u001B[2m2023-08-01T22:30:50.413641Z\u001B[0m \u001B[32m INFO\u001B[0m \u001B[2mtest\u001B[0m\u001B[2m:\u001B[0m input=Integer(8032929441427113328)\r\n",
      "\u001B[2m2023-08-01T22:30:50.413738Z\u001B[0m \u001B[32m INFO\u001B[0m \u001B[2mtest\u001B[0m\u001B[2m:\u001B[0m input=Identifier(\"X3R208fJI1hzB\")\r\n",
      "\u001B[2m2023-08-01T22:30:50.413940Z\u001B[0m \u001B[32m INFO\u001B[0m \u001B[2mtest\u001B[0m\u001B[2m:\u001B[0m input=StringLiteral(\"+,:|Q~WjZ\")\r\n",
      "\u001B[2m2023-08-01T22:30:50.414035Z\u001B[0m \u001B[32m INFO\u001B[0m \u001B[2mtest\u001B[0m\u001B[2m:\u001B[0m input=Operator(\"-\")\r\n",
      "\u001B[2m2023-08-01T22:30:50.414136Z\u001B[0m \u001B[32m INFO\u001B[0m \u001B[2mtest\u001B[0m\u001B[2m:\u001B[0m input=Identifier(\"sCHJ4k2BeSV44str1tkmJ65tA9M\")\r\n",
      "\u001B[2m2023-08-01T22:30:50.414222Z\u001B[0m \u001B[32m INFO\u001B[0m \u001B[2mtest\u001B[0m\u001B[2m:\u001B[0m input=Operator(\"*\")\r\n",
      "\u001B[2m2023-08-01T22:30:50.414353Z\u001B[0m \u001B[32m INFO\u001B[0m \u001B[2mtest\u001B[0m\u001B[2m:\u001B[0m input=StringLiteral(\")V/B8.\")\r\n",
      "\u001B[2m2023-08-01T22:30:50.414442Z\u001B[0m \u001B[32m INFO\u001B[0m \u001B[2mtest\u001B[0m\u001B[2m:\u001B[0m input=StringLiteral(\"\")\r\n",
      "\u001B[2m2023-08-01T22:30:50.414516Z\u001B[0m \u001B[32m INFO\u001B[0m \u001B[2mtest\u001B[0m\u001B[2m:\u001B[0m input=Operator(\"(\")\r\n",
      "\u001B[2m2023-08-01T22:30:50.414590Z\u001B[0m \u001B[32m INFO\u001B[0m \u001B[2mtest\u001B[0m\u001B[2m:\u001B[0m input=Identifier(\"Wj\")\r\n",
      "\u001B[2m2023-08-01T22:30:50.414664Z\u001B[0m \u001B[32m INFO\u001B[0m \u001B[2mtest\u001B[0m\u001B[2m:\u001B[0m input=Integer(-4457010264899129945)\r\n",
      "\u001B[2m2023-08-01T22:30:50.414715Z\u001B[0m \u001B[32m INFO\u001B[0m \u001B[2mtest\u001B[0m\u001B[2m:\u001B[0m input=StringLiteral(\"`72\")\r\n",
      "\u001B[2m2023-08-01T22:30:50.414831Z\u001B[0m \u001B[32m INFO\u001B[0m \u001B[2mtest\u001B[0m\u001B[2m:\u001B[0m input=Operator(\"/\")\r\n",
      "\u001B[2m2023-08-01T22:30:50.414906Z\u001B[0m \u001B[32m INFO\u001B[0m \u001B[2mtest\u001B[0m\u001B[2m:\u001B[0m input=Integer(-7690836957432022772)\r\n",
      "\u001B[2m2023-08-01T22:30:50.415001Z\u001B[0m \u001B[32m INFO\u001B[0m \u001B[2mtest\u001B[0m\u001B[2m:\u001B[0m input=Comment(\"U'!$VH0-'KE*Z/o\")\r\n",
      "\u001B[2m2023-08-01T22:30:50.415122Z\u001B[0m \u001B[32m INFO\u001B[0m \u001B[2mtest\u001B[0m\u001B[2m:\u001B[0m input=StringLiteral(\"ku8m(<~/%%w[*&fs-gFy)|BXA]9\")\r\n",
      "\u001B[2m2023-08-01T22:30:50.415258Z\u001B[0m \u001B[32m INFO\u001B[0m \u001B[2mtest\u001B[0m\u001B[2m:\u001B[0m input=Identifier(\"gPSvFWMiKk0c\")\r\n",
      "\u001B[2m2023-08-01T22:30:50.415350Z\u001B[0m \u001B[32m INFO\u001B[0m \u001B[2mtest\u001B[0m\u001B[2m:\u001B[0m input=Comment(\"m:D?\")\r\n",
      "\u001B[2m2023-08-01T22:30:50.415443Z\u001B[0m \u001B[32m INFO\u001B[0m \u001B[2mtest\u001B[0m\u001B[2m:\u001B[0m input=Identifier(\"qhvofd7FFOL9l\")\r\n",
      "\u001B[2m2023-08-01T22:30:50.415522Z\u001B[0m \u001B[32m INFO\u001B[0m \u001B[2mtest\u001B[0m\u001B[2m:\u001B[0m input=Integer(2254522639871980262)\r\n",
      "\u001B[2m2023-08-01T22:30:50.415618Z\u001B[0m \u001B[32m INFO\u001B[0m \u001B[2mtest\u001B[0m\u001B[2m:\u001B[0m input=StringLiteral(\"W8?BM1CBNnj{$[\")\r\n",
      "\u001B[2m2023-08-01T22:30:50.415710Z\u001B[0m \u001B[32m INFO\u001B[0m \u001B[2mtest\u001B[0m\u001B[2m:\u001B[0m input=Comment(\"K[.LnW\")\r\n",
      "\u001B[2m2023-08-01T22:30:50.415795Z\u001B[0m \u001B[32m INFO\u001B[0m \u001B[2mtest\u001B[0m\u001B[2m:\u001B[0m input=Operator(\"-\")\r\n",
      "\u001B[2m2023-08-01T22:30:50.415896Z\u001B[0m \u001B[32m INFO\u001B[0m \u001B[2mtest\u001B[0m\u001B[2m:\u001B[0m input=Comment(\"[}Z}#\\\"z%/n-m#hrh[(.)_/'\\\"%c\")\r\n",
      "\u001B[2m2023-08-01T22:30:50.415982Z\u001B[0m \u001B[32m INFO\u001B[0m \u001B[2mtest\u001B[0m\u001B[2m:\u001B[0m input=Integer(8924422906118467910)\r\n",
      "\u001B[2m2023-08-01T22:30:50.416031Z\u001B[0m \u001B[32m INFO\u001B[0m \u001B[2mtest\u001B[0m\u001B[2m:\u001B[0m input=Operator(\"=\")\r\n",
      "\u001B[2m2023-08-01T22:30:50.416070Z\u001B[0m \u001B[32m INFO\u001B[0m \u001B[2mtest\u001B[0m\u001B[2m:\u001B[0m input=Integer(7535469236447012165)\r\n",
      "\u001B[2m2023-08-01T22:30:50.416110Z\u001B[0m \u001B[32m INFO\u001B[0m \u001B[2mtest\u001B[0m\u001B[2m:\u001B[0m input=Operator(\"/\")\r\n",
      "\u001B[2m2023-08-01T22:30:50.416186Z\u001B[0m \u001B[32m INFO\u001B[0m \u001B[2mtest\u001B[0m\u001B[2m:\u001B[0m input=Integer(-3200644820807638671)\r\n",
      "\u001B[2m2023-08-01T22:30:50.416248Z\u001B[0m \u001B[32m INFO\u001B[0m \u001B[2mtest\u001B[0m\u001B[2m:\u001B[0m input=Identifier(\"V57JlBD6a8uQtmot0fJ4W6j9\")\r\n",
      "\u001B[2m2023-08-01T22:30:50.416299Z\u001B[0m \u001B[32m INFO\u001B[0m \u001B[2mtest\u001B[0m\u001B[2m:\u001B[0m input=Comment(\"\\\\p$P6Pqz\")\r\n",
      "\u001B[2m2023-08-01T22:30:50.416342Z\u001B[0m \u001B[32m INFO\u001B[0m \u001B[2mtest\u001B[0m\u001B[2m:\u001B[0m input=Comment(\"\")\r\n",
      "\u001B[2m2023-08-01T22:30:50.416377Z\u001B[0m \u001B[32m INFO\u001B[0m \u001B[2mtest\u001B[0m\u001B[2m:\u001B[0m input=Integer(-198227461907486138)\r\n",
      "\u001B[2m2023-08-01T22:30:50.416441Z\u001B[0m \u001B[32m INFO\u001B[0m \u001B[2mtest\u001B[0m\u001B[2m:\u001B[0m input=Comment(\"u*g*.<%>%`-5JB&?\\\"d+}G{TGQk^3pT\")\r\n",
      "\u001B[2m2023-08-01T22:30:50.416495Z\u001B[0m \u001B[32m INFO\u001B[0m \u001B[2mtest\u001B[0m\u001B[2m:\u001B[0m input=Operator(\")\")\r\n",
      "\u001B[2m2023-08-01T22:30:50.416539Z\u001B[0m \u001B[32m INFO\u001B[0m \u001B[2mtest\u001B[0m\u001B[2m:\u001B[0m input=Identifier(\"k1\")\r\n",
      "\u001B[2m2023-08-01T22:30:50.416576Z\u001B[0m \u001B[32m INFO\u001B[0m \u001B[2mtest\u001B[0m\u001B[2m:\u001B[0m input=Integer(-978636083200567205)\r\n",
      "\u001B[2m2023-08-01T22:30:50.416778Z\u001B[0m \u001B[32m INFO\u001B[0m \u001B[2mtest\u001B[0m\u001B[2m:\u001B[0m input=Comment(\"u\")\r\n",
      "\u001B[2m2023-08-01T22:30:50.416836Z\u001B[0m \u001B[32m INFO\u001B[0m \u001B[2mtest\u001B[0m\u001B[2m:\u001B[0m input=Operator(\"*\")\r\n",
      "\u001B[2m2023-08-01T22:30:50.416956Z\u001B[0m \u001B[32m INFO\u001B[0m \u001B[2mtest\u001B[0m\u001B[2m:\u001B[0m input=Comment(\"6/kN*%1P\\\\:>RV<#\")\r\n",
      "\u001B[2m2023-08-01T22:30:50.417006Z\u001B[0m \u001B[32m INFO\u001B[0m \u001B[2mtest\u001B[0m\u001B[2m:\u001B[0m input=Operator(\"-\")\r\n",
      "\u001B[2m2023-08-01T22:30:50.417054Z\u001B[0m \u001B[32m INFO\u001B[0m \u001B[2mtest\u001B[0m\u001B[2m:\u001B[0m input=StringLiteral(\"$T[#y\")\r\n",
      "\u001B[2m2023-08-01T22:30:50.417103Z\u001B[0m \u001B[32m INFO\u001B[0m \u001B[2mtest\u001B[0m\u001B[2m:\u001B[0m input=Operator(\"(\")\r\n",
      "\u001B[2m2023-08-01T22:30:50.417148Z\u001B[0m \u001B[32m INFO\u001B[0m \u001B[2mtest\u001B[0m\u001B[2m:\u001B[0m input=Operator(\"/\")\r\n",
      "\u001B[2m2023-08-01T22:30:50.417214Z\u001B[0m \u001B[32m INFO\u001B[0m \u001B[2mtest\u001B[0m\u001B[2m:\u001B[0m input=StringLiteral(\"zb)6y:K4PrkTwO6:<Uv o=*=CV\")\r\n",
      "\u001B[2m2023-08-01T22:30:50.417262Z\u001B[0m \u001B[32m INFO\u001B[0m \u001B[2mtest\u001B[0m\u001B[2m:\u001B[0m input=Integer(-6338808132102881089)\r\n",
      "\u001B[2m2023-08-01T22:30:50.417304Z\u001B[0m \u001B[32m INFO\u001B[0m \u001B[2mtest\u001B[0m\u001B[2m:\u001B[0m input=Comment(\"\")\r\n",
      "\u001B[2m2023-08-01T22:30:50.417376Z\u001B[0m \u001B[32m INFO\u001B[0m \u001B[2mtest\u001B[0m\u001B[2m:\u001B[0m input=Comment(\"yT&&?*8<{[S&%GYP98+{?hu/D@sz\")\r\n",
      "\u001B[2m2023-08-01T22:30:50.417439Z\u001B[0m \u001B[32m INFO\u001B[0m \u001B[2mtest\u001B[0m\u001B[2m:\u001B[0m input=Comment(\"5\\\"9;pM<`p\")\r\n",
      "\u001B[2m2023-08-01T22:30:50.417511Z\u001B[0m \u001B[32m INFO\u001B[0m \u001B[2mtest\u001B[0m\u001B[2m:\u001B[0m input=StringLiteral(\"mx:K*]?#O(Up_\")\r\n",
      "\u001B[2m2023-08-01T22:30:50.417788Z\u001B[0m \u001B[32m INFO\u001B[0m \u001B[2mtest\u001B[0m\u001B[2m:\u001B[0m input=Identifier(\"oUt1R46MAC3R7C51\")\r\n",
      "\u001B[2m2023-08-01T22:30:50.417934Z\u001B[0m \u001B[32m INFO\u001B[0m \u001B[2mtest\u001B[0m\u001B[2m:\u001B[0m input=Operator(\")\")\r\n",
      "\u001B[2m2023-08-01T22:30:50.417983Z\u001B[0m \u001B[32m INFO\u001B[0m \u001B[2mtest\u001B[0m\u001B[2m:\u001B[0m input=Operator(\"*\")\r\n",
      "\u001B[2m2023-08-01T22:30:50.418039Z\u001B[0m \u001B[32m INFO\u001B[0m \u001B[2mtest\u001B[0m\u001B[2m:\u001B[0m input=StringLiteral(\"k%IE$g4bz[t)f8\")\r\n",
      "\u001B[2m2023-08-01T22:30:50.418104Z\u001B[0m \u001B[32m INFO\u001B[0m \u001B[2mtest\u001B[0m\u001B[2m:\u001B[0m input=StringLiteral(\".crq['i%*%3'bG{f\")\r\n",
      "\u001B[2m2023-08-01T22:30:50.418153Z\u001B[0m \u001B[32m INFO\u001B[0m \u001B[2mtest\u001B[0m\u001B[2m:\u001B[0m input=Operator(\"=\")\r\n",
      "\u001B[2m2023-08-01T22:30:50.418230Z\u001B[0m \u001B[32m INFO\u001B[0m \u001B[2mtest\u001B[0m\u001B[2m:\u001B[0m input=Operator(\"(\")\r\n",
      "\u001B[2m2023-08-01T22:30:50.418292Z\u001B[0m \u001B[32m INFO\u001B[0m \u001B[2mtest\u001B[0m\u001B[2m:\u001B[0m input=Identifier(\"VlRWgQ5HEPOK9uw\")\r\n",
      "\u001B[2m2023-08-01T22:30:50.418338Z\u001B[0m \u001B[32m INFO\u001B[0m \u001B[2mtest\u001B[0m\u001B[2m:\u001B[0m input=Operator(\"/\")\r\n",
      "\u001B[2m2023-08-01T22:30:50.418377Z\u001B[0m \u001B[32m INFO\u001B[0m \u001B[2mtest\u001B[0m\u001B[2m:\u001B[0m input=Integer(-4070842581200436016)\r\n",
      "\u001B[2m2023-08-01T22:30:50.418438Z\u001B[0m \u001B[32m INFO\u001B[0m \u001B[2mtest\u001B[0m\u001B[2m:\u001B[0m input=Identifier(\"jDu5rlUnT8EpditRqAysQ7vwt\")\r\n",
      "\u001B[2m2023-08-01T22:30:50.418480Z\u001B[0m \u001B[32m INFO\u001B[0m \u001B[2mtest\u001B[0m\u001B[2m:\u001B[0m input=Integer(-4300133180466504019)\r\n",
      "\u001B[2m2023-08-01T22:30:50.418521Z\u001B[0m \u001B[32m INFO\u001B[0m \u001B[2mtest\u001B[0m\u001B[2m:\u001B[0m input=Operator(\"-\")\r\n",
      "\u001B[2m2023-08-01T22:30:50.418557Z\u001B[0m \u001B[32m INFO\u001B[0m \u001B[2mtest\u001B[0m\u001B[2m:\u001B[0m input=Integer(7244637128494527917)\r\n",
      "\u001B[2m2023-08-01T22:30:50.418769Z\u001B[0m \u001B[32m INFO\u001B[0m \u001B[2mtest\u001B[0m\u001B[2m:\u001B[0m input=Operator(\"+\")\r\n",
      "\u001B[2m2023-08-01T22:30:50.418858Z\u001B[0m \u001B[32m INFO\u001B[0m \u001B[2mtest\u001B[0m\u001B[2m:\u001B[0m input=StringLiteral(\"<,7$sp.WkyR?7d9e&*M]C`_!?x`'?\")\r\n",
      "\u001B[2m2023-08-01T22:30:50.418968Z\u001B[0m \u001B[32m INFO\u001B[0m \u001B[2mtest\u001B[0m\u001B[2m:\u001B[0m input=Identifier(\"o6f9rPWS5Ru\")\r\n",
      "\u001B[2m2023-08-01T22:30:50.419117Z\u001B[0m \u001B[32m INFO\u001B[0m \u001B[2mtest\u001B[0m\u001B[2m:\u001B[0m input=StringLiteral(\"/qV%%v^.?Y={CB%mK /mI\")\r\n",
      "\u001B[2m2023-08-01T22:30:50.419346Z\u001B[0m \u001B[32m INFO\u001B[0m \u001B[2mtest\u001B[0m\u001B[2m:\u001B[0m input=Integer(-5967295700667480056)\r\n",
      "\u001B[2m2023-08-01T22:30:50.419427Z\u001B[0m \u001B[32m INFO\u001B[0m \u001B[2mtest\u001B[0m\u001B[2m:\u001B[0m input=Integer(6207646006032815332)\r\n",
      "\u001B[2m2023-08-01T22:30:50.419513Z\u001B[0m \u001B[32m INFO\u001B[0m \u001B[2mtest\u001B[0m\u001B[2m:\u001B[0m input=Comment(\"!jKKMPC4?^\\\\\\\\>=/.R\")\r\n",
      "\u001B[2m2023-08-01T22:30:50.419589Z\u001B[0m \u001B[32m INFO\u001B[0m \u001B[2mtest\u001B[0m\u001B[2m:\u001B[0m input=Operator(\"=\")\r\n",
      "\u001B[2m2023-08-01T22:30:50.419656Z\u001B[0m \u001B[32m INFO\u001B[0m \u001B[2mtest\u001B[0m\u001B[2m:\u001B[0m input=Operator(\"+\")\r\n",
      "\u001B[2m2023-08-01T22:30:50.419718Z\u001B[0m \u001B[32m INFO\u001B[0m \u001B[2mtest\u001B[0m\u001B[2m:\u001B[0m input=Integer(6789923997031914589)\r\n",
      "\u001B[2m2023-08-01T22:30:50.419754Z\u001B[0m \u001B[32m INFO\u001B[0m \u001B[2mtest\u001B[0m\u001B[2m:\u001B[0m input=Integer(8599082631865700564)\r\n",
      "\u001B[2m2023-08-01T22:30:50.419818Z\u001B[0m \u001B[32m INFO\u001B[0m \u001B[2mtest\u001B[0m\u001B[2m:\u001B[0m input=Operator(\"(\")\r\n",
      "\u001B[2m2023-08-01T22:30:50.419916Z\u001B[0m \u001B[32m INFO\u001B[0m \u001B[2mtest\u001B[0m\u001B[2m:\u001B[0m input=Operator(\"-\")\r\n",
      "\u001B[2m2023-08-01T22:30:50.419986Z\u001B[0m \u001B[32m INFO\u001B[0m \u001B[2mtest\u001B[0m\u001B[2m:\u001B[0m input=Identifier(\"sYFz\")\r\n",
      "\u001B[2m2023-08-01T22:30:50.420056Z\u001B[0m \u001B[32m INFO\u001B[0m \u001B[2mtest\u001B[0m\u001B[2m:\u001B[0m input=Comment(\"\\\\\")\r\n",
      "\u001B[2m2023-08-01T22:30:50.420093Z\u001B[0m \u001B[32m INFO\u001B[0m \u001B[2mtest\u001B[0m\u001B[2m:\u001B[0m input=Integer(8114369575684754546)\r\n",
      "\u001B[2m2023-08-01T22:30:50.420163Z\u001B[0m \u001B[32m INFO\u001B[0m \u001B[2mtest\u001B[0m\u001B[2m:\u001B[0m input=StringLiteral(\"sI` lP]\")\r\n",
      "\u001B[2m2023-08-01T22:30:50.420229Z\u001B[0m \u001B[32m INFO\u001B[0m \u001B[2mtest\u001B[0m\u001B[2m:\u001B[0m input=Integer(8938724959869805184)\r\n",
      "\u001B[2m2023-08-01T22:30:50.420269Z\u001B[0m \u001B[32m INFO\u001B[0m \u001B[2mtest\u001B[0m\u001B[2m:\u001B[0m input=Operator(\"=\")\r\n",
      "\u001B[2m2023-08-01T22:30:50.420305Z\u001B[0m \u001B[32m INFO\u001B[0m \u001B[2mtest\u001B[0m\u001B[2m:\u001B[0m input=Integer(186944454197449728)\r\n",
      "\u001B[2m2023-08-01T22:30:50.420385Z\u001B[0m \u001B[32m INFO\u001B[0m \u001B[2mtest\u001B[0m\u001B[2m:\u001B[0m input=Comment(\"20VpS[Q?B`<MlBdzFGK(Re$c\")\r\n",
      "\u001B[2m2023-08-01T22:30:50.420466Z\u001B[0m \u001B[32m INFO\u001B[0m \u001B[2mtest\u001B[0m\u001B[2m:\u001B[0m input=StringLiteral(\"`CD-=L.vjM]{f\")\r\n",
      "\u001B[2m2023-08-01T22:30:50.420556Z\u001B[0m \u001B[32m INFO\u001B[0m \u001B[2mtest\u001B[0m\u001B[2m:\u001B[0m input=StringLiteral(\"%u[%?W<g$4Ha&/\")\r\n",
      "\u001B[2m2023-08-01T22:30:50.420631Z\u001B[0m \u001B[32m INFO\u001B[0m \u001B[2mtest\u001B[0m\u001B[2m:\u001B[0m input=Comment(\"o<`e^\")\r\n",
      "\u001B[2m2023-08-01T22:30:50.420715Z\u001B[0m \u001B[32m INFO\u001B[0m \u001B[2mtest\u001B[0m\u001B[2m:\u001B[0m input=Identifier(\"oi73jYrZH14u5YFr2W14ZgX\")\r\n",
      "\u001B[2m2023-08-01T22:30:50.420799Z\u001B[0m \u001B[32m INFO\u001B[0m \u001B[2mtest\u001B[0m\u001B[2m:\u001B[0m input=Identifier(\"l1ledmBYS56YBp7eU9Do6\")\r\n",
      "\u001B[2m2023-08-01T22:30:50.420902Z\u001B[0m \u001B[32m INFO\u001B[0m \u001B[2mtest\u001B[0m\u001B[2m:\u001B[0m input=Comment(\"Nj\")\r\n",
      "\u001B[2m2023-08-01T22:30:50.420971Z\u001B[0m \u001B[32m INFO\u001B[0m \u001B[2mtest\u001B[0m\u001B[2m:\u001B[0m input=Identifier(\"nCR5\")\r\n",
      "\u001B[2m2023-08-01T22:30:50.421038Z\u001B[0m \u001B[32m INFO\u001B[0m \u001B[2mtest\u001B[0m\u001B[2m:\u001B[0m input=Operator(\")\")\r\n",
      "\u001B[2m2023-08-01T22:30:50.421109Z\u001B[0m \u001B[32m INFO\u001B[0m \u001B[2mtest\u001B[0m\u001B[2m:\u001B[0m input=Identifier(\"g6T0IKtn2js\")\r\n",
      "\u001B[2m2023-08-01T22:30:50.421172Z\u001B[0m \u001B[32m INFO\u001B[0m \u001B[2mtest\u001B[0m\u001B[2m:\u001B[0m input=Integer(8629556367525008103)\r\n",
      "\u001B[2m2023-08-01T22:30:50.421265Z\u001B[0m \u001B[32m INFO\u001B[0m \u001B[2mtest\u001B[0m\u001B[2m:\u001B[0m input=Identifier(\"BeLLHC31BA1ZFeX2KU14DtiXo88lwN9X2\")\r\n",
      "\u001B[2m2023-08-01T22:30:50.421305Z\u001B[0m \u001B[32m INFO\u001B[0m \u001B[2mtest\u001B[0m\u001B[2m:\u001B[0m input=Integer(8354088947008111787)\r\n",
      "\u001B[2m2023-08-01T22:30:50.421373Z\u001B[0m \u001B[32m INFO\u001B[0m \u001B[2mtest\u001B[0m\u001B[2m:\u001B[0m input=Comment(\"b\")\r\n",
      "\u001B[2m2023-08-01T22:30:50.421515Z\u001B[0m \u001B[32m INFO\u001B[0m \u001B[2mtest\u001B[0m\u001B[2m:\u001B[0m input=Identifier(\"WHLW4LBeWNPzUbHwQxzc7lkVZL1W0B06A\")\r\n",
      "\u001B[2m2023-08-01T22:30:50.421600Z\u001B[0m \u001B[32m INFO\u001B[0m \u001B[2mtest\u001B[0m\u001B[2m:\u001B[0m input=Operator(\"(\")\r\n",
      "\u001B[2m2023-08-01T22:30:50.421682Z\u001B[0m \u001B[32m INFO\u001B[0m \u001B[2mtest\u001B[0m\u001B[2m:\u001B[0m input=Identifier(\"WOih25fq3oCcCU1rJiHbuI7paOw\")\r\n",
      "\u001B[2m2023-08-01T22:30:50.421777Z\u001B[0m \u001B[32m INFO\u001B[0m \u001B[2mtest\u001B[0m\u001B[2m:\u001B[0m input=Operator(\"/\")\r\n",
      "\u001B[2m2023-08-01T22:30:50.422055Z\u001B[0m \u001B[32m INFO\u001B[0m \u001B[2mtest\u001B[0m\u001B[2m:\u001B[0m input=Identifier(\"I1xclXkFfU672BoQTkYGuN9HUp6w9Vt\")\r\n",
      "\u001B[2m2023-08-01T22:30:50.422152Z\u001B[0m \u001B[32m INFO\u001B[0m \u001B[2mtest\u001B[0m\u001B[2m:\u001B[0m input=Operator(\")\")\r\n",
      "\u001B[2m2023-08-01T22:30:50.422258Z\u001B[0m \u001B[32m INFO\u001B[0m \u001B[2mtest\u001B[0m\u001B[2m:\u001B[0m input=StringLiteral(\"{jR]VSM*8_5mO/*ji&//4NpI]a{%<\")\r\n",
      "\u001B[2m2023-08-01T22:30:50.422353Z\u001B[0m \u001B[32m INFO\u001B[0m \u001B[2mtest\u001B[0m\u001B[2m:\u001B[0m input=StringLiteral(\"OKi;K3/lf,\")\r\n",
      "\u001B[2m2023-08-01T22:30:50.422457Z\u001B[0m \u001B[32m INFO\u001B[0m \u001B[2mtest\u001B[0m\u001B[2m:\u001B[0m input=Identifier(\"F1H1weoC19TACXZNv\")\r\n",
      "\u001B[2m2023-08-01T22:30:50.422538Z\u001B[0m \u001B[32m INFO\u001B[0m \u001B[2mtest\u001B[0m\u001B[2m:\u001B[0m input=StringLiteral(\"OV@t%\")\r\n",
      "\u001B[2m2023-08-01T22:30:50.422615Z\u001B[0m \u001B[32m INFO\u001B[0m \u001B[2mtest\u001B[0m\u001B[2m:\u001B[0m input=Operator(\"+\")\r\n",
      "\u001B[2m2023-08-01T22:30:50.422681Z\u001B[0m \u001B[32m INFO\u001B[0m \u001B[2mtest\u001B[0m\u001B[2m:\u001B[0m input=Integer(-3004285286772209276)\r\n",
      "\u001B[2m2023-08-01T22:30:50.422781Z\u001B[0m \u001B[32m INFO\u001B[0m \u001B[2mtest\u001B[0m\u001B[2m:\u001B[0m input=Identifier(\"XW908cKOCWrbSjG0WR3Y5S9NA2qnMx\")\r\n",
      "\u001B[2m2023-08-01T22:30:50.422904Z\u001B[0m \u001B[32m INFO\u001B[0m \u001B[2mtest\u001B[0m\u001B[2m:\u001B[0m input=StringLiteral(\"m:z9&L\")\r\n",
      "\u001B[2m2023-08-01T22:30:50.422997Z\u001B[0m \u001B[32m INFO\u001B[0m \u001B[2mtest\u001B[0m\u001B[2m:\u001B[0m input=Comment(\"Jhh?g}CR/ <!/0N2SK?\")\r\n",
      "\u001B[2m2023-08-01T22:30:50.423110Z\u001B[0m \u001B[32m INFO\u001B[0m \u001B[2mtest\u001B[0m\u001B[2m:\u001B[0m input=Comment(\"\\\"Uha?6L=`=K:]ld{`31.2IW;6</\")\r\n",
      "\u001B[2m2023-08-01T22:30:50.423210Z\u001B[0m \u001B[32m INFO\u001B[0m \u001B[2mtest\u001B[0m\u001B[2m:\u001B[0m input=Identifier(\"ZkPHY2f6Gw6wAUahkW0eU488xggkK53DT\")\r\n",
      "\u001B[2m2023-08-01T22:30:50.423303Z\u001B[0m \u001B[32m INFO\u001B[0m \u001B[2mtest\u001B[0m\u001B[2m:\u001B[0m input=StringLiteral(\"|%LB$E:QZTt n`$<|&*\")\r\n",
      "\u001B[2m2023-08-01T22:30:50.423390Z\u001B[0m \u001B[32m INFO\u001B[0m \u001B[2mtest\u001B[0m\u001B[2m:\u001B[0m input=StringLiteral(\"{~%<*i{'tE6hdT[\")\r\n",
      "\u001B[2m2023-08-01T22:30:50.423470Z\u001B[0m \u001B[32m INFO\u001B[0m \u001B[2mtest\u001B[0m\u001B[2m:\u001B[0m input=Comment(\"<3-\")\r\n",
      "\u001B[2m2023-08-01T22:30:50.423560Z\u001B[0m \u001B[32m INFO\u001B[0m \u001B[2mtest\u001B[0m\u001B[2m:\u001B[0m input=Identifier(\"Wt5e8mTt8ug6JM7g7QIiluTX6VWq6K\")\r\n",
      "\u001B[2m2023-08-01T22:30:50.423649Z\u001B[0m \u001B[32m INFO\u001B[0m \u001B[2mtest\u001B[0m\u001B[2m:\u001B[0m input=StringLiteral(\"X($<.a,&.P,?4y%Z{!@[JG6R*\")\r\n",
      "\u001B[2m2023-08-01T22:30:50.423738Z\u001B[0m \u001B[32m INFO\u001B[0m \u001B[2mtest\u001B[0m\u001B[2m:\u001B[0m input=Identifier(\"P6P7jwN6NrVDLFdiad79\")\r\n",
      "\u001B[2m2023-08-01T22:30:50.423817Z\u001B[0m \u001B[32m INFO\u001B[0m \u001B[2mtest\u001B[0m\u001B[2m:\u001B[0m input=Identifier(\"d2Z1g9Edu73n\")\r\n",
      "\u001B[2m2023-08-01T22:30:50.423946Z\u001B[0m \u001B[32m INFO\u001B[0m \u001B[2mtest\u001B[0m\u001B[2m:\u001B[0m input=Integer(1321455044358517692)\r\n",
      "\u001B[2m2023-08-01T22:30:50.424017Z\u001B[0m \u001B[32m INFO\u001B[0m \u001B[2mtest\u001B[0m\u001B[2m:\u001B[0m input=Integer(8118783012190515125)\r\n",
      "\u001B[2m2023-08-01T22:30:50.424102Z\u001B[0m \u001B[32m INFO\u001B[0m \u001B[2mtest\u001B[0m\u001B[2m:\u001B[0m input=Operator(\"(\")\r\n",
      "\u001B[2m2023-08-01T22:30:50.424171Z\u001B[0m \u001B[32m INFO\u001B[0m \u001B[2mtest\u001B[0m\u001B[2m:\u001B[0m input=Integer(4695427624206773981)\r\n",
      "\u001B[2m2023-08-01T22:30:50.424232Z\u001B[0m \u001B[32m INFO\u001B[0m \u001B[2mtest\u001B[0m\u001B[2m:\u001B[0m input=Integer(2363883935172068715)\r\n",
      "\u001B[2m2023-08-01T22:30:50.424276Z\u001B[0m \u001B[32m INFO\u001B[0m \u001B[2mtest\u001B[0m\u001B[2m:\u001B[0m input=Operator(\"/\")\r\n",
      "\u001B[2m2023-08-01T22:30:50.424341Z\u001B[0m \u001B[32m INFO\u001B[0m \u001B[2mtest\u001B[0m\u001B[2m:\u001B[0m input=Integer(7383678674152285407)\r\n",
      "\u001B[2m2023-08-01T22:30:50.424411Z\u001B[0m \u001B[32m INFO\u001B[0m \u001B[2mtest\u001B[0m\u001B[2m:\u001B[0m input=Operator(\"/\")\r\n",
      "\u001B[2m2023-08-01T22:30:50.424476Z\u001B[0m \u001B[32m INFO\u001B[0m \u001B[2mtest\u001B[0m\u001B[2m:\u001B[0m input=StringLiteral(\"k^{ ,7''3*^)DR?WZ%O[w%2\")\r\n",
      "\u001B[2m2023-08-01T22:30:50.424576Z\u001B[0m \u001B[32m INFO\u001B[0m \u001B[2mtest\u001B[0m\u001B[2m:\u001B[0m input=StringLiteral(\"V{fqXq`!^ w\")\r\n",
      "\u001B[2m2023-08-01T22:30:50.424661Z\u001B[0m \u001B[32m INFO\u001B[0m \u001B[2mtest\u001B[0m\u001B[2m:\u001B[0m input=Identifier(\"SmtDLHWpss1ON5\")\r\n",
      "\u001B[2m2023-08-01T22:30:50.424811Z\u001B[0m \u001B[32m INFO\u001B[0m \u001B[2mtest\u001B[0m\u001B[2m:\u001B[0m input=StringLiteral(\"y'%%[b(: n_]`|h/BG5ncj&\")\r\n",
      "\u001B[2m2023-08-01T22:30:50.424956Z\u001B[0m \u001B[32m INFO\u001B[0m \u001B[2mtest\u001B[0m\u001B[2m:\u001B[0m input=Identifier(\"chfxmusEO33fM4EZ9voJUIpaWwJYCvcdY\")\r\n",
      "\u001B[2m2023-08-01T22:30:50.425040Z\u001B[0m \u001B[32m INFO\u001B[0m \u001B[2mtest\u001B[0m\u001B[2m:\u001B[0m input=Identifier(\"QHCp5B3Cv\")\r\n",
      "\u001B[2m2023-08-01T22:30:50.425110Z\u001B[0m \u001B[32m INFO\u001B[0m \u001B[2mtest\u001B[0m\u001B[2m:\u001B[0m input=Operator(\"-\")\r\n",
      "\u001B[2m2023-08-01T22:30:50.425226Z\u001B[0m \u001B[32m INFO\u001B[0m \u001B[2mtest\u001B[0m\u001B[2m:\u001B[0m input=Comment(\"1Th&1_AK& :/>$H'\\\\|E)=-/\")\r\n",
      "\u001B[2m2023-08-01T22:30:50.425316Z\u001B[0m \u001B[32m INFO\u001B[0m \u001B[2mtest\u001B[0m\u001B[2m:\u001B[0m input=Comment(\"{:1/$*Tp2l.dW\")\r\n",
      "\u001B[2m2023-08-01T22:30:50.425416Z\u001B[0m \u001B[32m INFO\u001B[0m \u001B[2mtest\u001B[0m\u001B[2m:\u001B[0m input=StringLiteral(\"R)8wJ=:nE{1n:e'{3~i5h#D:<D3=H+\")\r\n",
      "\u001B[2m2023-08-01T22:30:50.425517Z\u001B[0m \u001B[32m INFO\u001B[0m \u001B[2mtest\u001B[0m\u001B[2m:\u001B[0m input=Comment(\"Z<g:\\\\/`-?h{,`TZ]]>yf.<a<&K\\\\Np5\")\r\n",
      "\u001B[2m2023-08-01T22:30:50.425597Z\u001B[0m \u001B[32m INFO\u001B[0m \u001B[2mtest\u001B[0m\u001B[2m:\u001B[0m input=Operator(\"-\")\r\n",
      "\u001B[2m2023-08-01T22:30:50.425696Z\u001B[0m \u001B[32m INFO\u001B[0m \u001B[2mtest\u001B[0m\u001B[2m:\u001B[0m input=Identifier(\"n1vsWky33UteBRSAUUBp3eV4MbYfAzlT\")\r\n",
      "\u001B[2m2023-08-01T22:30:50.425778Z\u001B[0m \u001B[32m INFO\u001B[0m \u001B[2mtest\u001B[0m\u001B[2m:\u001B[0m input=Operator(\")\")\r\n",
      "\u001B[2m2023-08-01T22:30:50.425922Z\u001B[0m \u001B[32m INFO\u001B[0m \u001B[2mtest\u001B[0m\u001B[2m:\u001B[0m input=StringLiteral(\",2l`5J^%EW^:O'*f3B?M/:I75n=(R'\")\r\n",
      "\u001B[2m2023-08-01T22:30:50.426071Z\u001B[0m \u001B[32m INFO\u001B[0m \u001B[2mtest\u001B[0m\u001B[2m:\u001B[0m input=StringLiteral(\"S?/6OJ:aQQ)VDZ6HC1$G{f~z<:\")\r\n",
      "\u001B[2m2023-08-01T22:30:50.426200Z\u001B[0m \u001B[32m INFO\u001B[0m \u001B[2mtest\u001B[0m\u001B[2m:\u001B[0m input=StringLiteral(\"<Br|:Wx{'<8``0v&\")\r\n",
      "\u001B[2m2023-08-01T22:30:50.426282Z\u001B[0m \u001B[32m INFO\u001B[0m \u001B[2mtest\u001B[0m\u001B[2m:\u001B[0m input=Identifier(\"nF95I\")\r\n",
      "\u001B[2m2023-08-01T22:30:50.426362Z\u001B[0m \u001B[32m INFO\u001B[0m \u001B[2mtest\u001B[0m\u001B[2m:\u001B[0m input=StringLiteral(\"`)_h%'8B<o\")\r\n",
      "\u001B[2m2023-08-01T22:30:50.426472Z\u001B[0m \u001B[32m INFO\u001B[0m \u001B[2mtest\u001B[0m\u001B[2m:\u001B[0m input=Comment(\"/S`/S{,j/`9\\\"/9UU'?\")\r\n",
      "\u001B[2m2023-08-01T22:30:50.426565Z\u001B[0m \u001B[32m INFO\u001B[0m \u001B[2mtest\u001B[0m\u001B[2m:\u001B[0m input=Comment(\"V'N$W<CiaD6/J&5*\")\r\n",
      "\u001B[2m2023-08-01T22:30:50.426644Z\u001B[0m \u001B[32m INFO\u001B[0m \u001B[2mtest\u001B[0m\u001B[2m:\u001B[0m input=Identifier(\"fp1zT45s\")\r\n",
      "\u001B[2m2023-08-01T22:30:50.426714Z\u001B[0m \u001B[32m INFO\u001B[0m \u001B[2mtest\u001B[0m\u001B[2m:\u001B[0m input=Operator(\"-\")\r\n",
      "\u001B[2m2023-08-01T22:30:50.426813Z\u001B[0m \u001B[32m INFO\u001B[0m \u001B[2mtest\u001B[0m\u001B[2m:\u001B[0m input=Identifier(\"K01Ty4tUnvnkqaM1YTbKWNSj8pfJcFf9n\")\r\n",
      "\u001B[2m2023-08-01T22:30:50.426956Z\u001B[0m \u001B[32m INFO\u001B[0m \u001B[2mtest\u001B[0m\u001B[2m:\u001B[0m input=Comment(\"/%@B~?x?Y`<j}n\\\"/SA$o`Vac%\\\\ce:\")\r\n",
      "\u001B[2m2023-08-01T22:30:50.427037Z\u001B[0m \u001B[32m INFO\u001B[0m \u001B[2mtest\u001B[0m\u001B[2m:\u001B[0m input=Comment(\"e['\")\r\n",
      "\u001B[2m2023-08-01T22:30:50.427106Z\u001B[0m \u001B[32m INFO\u001B[0m \u001B[2mtest\u001B[0m\u001B[2m:\u001B[0m input=Integer(-7703468547138698836)\r\n",
      "\u001B[2m2023-08-01T22:30:50.427208Z\u001B[0m \u001B[32m INFO\u001B[0m \u001B[2mtest\u001B[0m\u001B[2m:\u001B[0m input=StringLiteral(\"O8L*4Dp<`{IWP!?\")\r\n",
      "\u001B[2m2023-08-01T22:30:50.427366Z\u001B[0m \u001B[32m INFO\u001B[0m \u001B[2mtest\u001B[0m\u001B[2m:\u001B[0m input=Comment(\"v%17A8=a=t1\\\"`9u,Im{PFC\")\r\n",
      "\u001B[2m2023-08-01T22:30:50.427486Z\u001B[0m \u001B[32m INFO\u001B[0m \u001B[2mtest\u001B[0m\u001B[2m:\u001B[0m input=Integer(-6326438399182112735)\r\n",
      "\u001B[2m2023-08-01T22:30:50.427757Z\u001B[0m \u001B[32m INFO\u001B[0m \u001B[2mtest\u001B[0m\u001B[2m:\u001B[0m input=Comment(\"}{I V7L%B>@E^/[{\")\r\n",
      "\u001B[2m2023-08-01T22:30:50.427945Z\u001B[0m \u001B[32m INFO\u001B[0m \u001B[2mtest\u001B[0m\u001B[2m:\u001B[0m input=Identifier(\"wWdvWAhLxAG7rtikGxs5Xy\")\r\n",
      "\u001B[2m2023-08-01T22:30:50.428041Z\u001B[0m \u001B[32m INFO\u001B[0m \u001B[2mtest\u001B[0m\u001B[2m:\u001B[0m input=Comment(\";.7&T$'j%$<\")\r\n",
      "\u001B[2m2023-08-01T22:30:50.428130Z\u001B[0m \u001B[32m INFO\u001B[0m \u001B[2mtest\u001B[0m\u001B[2m:\u001B[0m input=Operator(\"/\")\r\n",
      "\u001B[2m2023-08-01T22:30:50.428233Z\u001B[0m \u001B[32m INFO\u001B[0m \u001B[2mtest\u001B[0m\u001B[2m:\u001B[0m input=Comment(\"2DW?d&D%:d\\\\86)\\\"9JSm=D\\\"`\")\r\n",
      "\u001B[2m2023-08-01T22:30:50.428331Z\u001B[0m \u001B[32m INFO\u001B[0m \u001B[2mtest\u001B[0m\u001B[2m:\u001B[0m input=Identifier(\"sBnH87t\")\r\n",
      "\u001B[2m2023-08-01T22:30:50.428415Z\u001B[0m \u001B[32m INFO\u001B[0m \u001B[2mtest\u001B[0m\u001B[2m:\u001B[0m input=Identifier(\"YM89R\")\r\n",
      "\u001B[2m2023-08-01T22:30:50.428485Z\u001B[0m \u001B[32m INFO\u001B[0m \u001B[2mtest\u001B[0m\u001B[2m:\u001B[0m input=Comment(\"'%.EE\\\\<:)?`wLjz#@vJ\")\r\n",
      "test prop_parse_format_idempotent ... ok\r\n",
      "test adding_and_then_removing_an_item_from_the_cart_leaves_the_cart_unchanged ... ok\r\n",
      "\r\n",
      "test result: ok. 3 passed; 0 failed; 0 ignored; 0 measured; 0 filtered out; finished in 0.23s\r\n",
      "\r\n"
     ]
    }
   ],
   "source": [
    "$env:RUST_LOG=\"info\"\n",
    "{ cargo test --release } | Invoke-Block"
   ]
  },
  {
   "cell_type": "code",
   "execution_count": null,
   "metadata": {
    "dotnet_interactive": {
     "language": "pwsh"
    },
    "polyglot_notebook": {
     "kernelName": "pwsh"
    }
   },
   "outputs": [
    {
     "name": "stdout",
     "output_type": "stream",
     "text": [
      "app=test\r\n"
     ]
    }
   ],
   "source": [
    "{ . $ScriptDir/../../target/release/test$(GetExecutableSuffix) } | Invoke-Block"
   ]
  }
 ],
 "metadata": {
  "kernelspec": {
   "display_name": ".NET (C#)",
   "language": "C#",
   "name": ".net-csharp"
  },
  "language_info": {
   "file_extension": ".cs",
   "mimetype": "text/x-csharp",
   "name": "C#",
   "pygments_lexer": "csharp",
   "version": "10.0"
  },
  "polyglot_notebook": {
   "defaultKernelName": "csharp",
   "items": [
    {
     "name": "csharp"
    }
   ]
  },
  "dotnet_interactive": {
   "defaultKernelName": "csharp",
   "items": [
    {
     "name": "csharp"
    }
   ]
  }
 },
 "nbformat": 4,
 "nbformat_minor": 5
}