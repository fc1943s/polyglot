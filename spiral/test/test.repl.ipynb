{
 "cells": [
  {
   "cell_type": "code",
   "execution_count": null,
   "metadata": {
    "dotnet_repl_cellExecutionStartTime": "2023-07-17T15:31:27.9026884-03:00",
    "dotnet_repl_cellExecutionEndTime": "2023-07-17T15:31:28.6552076-03:00",
    "dotnet_repl_cellExecutionTime": "752.6627ms",
    "dotnet_interactive": {
     "language": "pwsh"
    },
    "polyglot_notebook": {
     "kernelName": "pwsh"
    }
   },
   "outputs": [],
   "source": [
    ". ../../scripts/nbs_header.ps1\n",
    ". ../../scripts/core.ps1"
   ]
  },
  {
   "cell_type": "code",
   "execution_count": null,
   "metadata": {
    "dotnet_repl_cellExecutionStartTime": "2023-07-17T15:31:28.6575486-03:00",
    "dotnet_repl_cellExecutionEndTime": "2023-07-17T15:31:32.0507046-03:00",
    "dotnet_repl_cellExecutionTime": "3.3931609s",
    "dotnet_interactive": {
     "language": "pwsh"
    },
    "polyglot_notebook": {
     "kernelName": "pwsh"
    }
   },
   "outputs": [
    {
     "name": "stdout",
     "output_type": "stream",
     "text": [
      "Fable 4.1.4: F# to Rust compiler (status: alpha)\r\n",
      "\r\n",
      "Thanks to the contributor! @irium\r\n",
      "Stand with Ukraine! https://standwithukraine.com.ua/\r\n",
      "\r\n",
      "Parsing test.fsproj...\r\n",
      "Retrieving project options from cache, in case of issues run `dotnet fable clean` or try `--noCache` option.\r\n",
      "Project and references (1 source files) parsed in 181ms\r\n",
      "\r\n",
      "Started Fable compilation...\r\n",
      "Fable compilation finished in 1465ms\r\n",
      "\r\n",
      ".\\test.fsx(6,0): (6,2) warning FABLE: For Rust, support for F# static and module do bindings is disabled by default. It can be enabled with the 'static_do_bindings' feature. Use at your own risk!\r\n"
     ]
    }
   ],
   "source": [
    "dotnet fable --optimize --lang rs --extension .rs"
   ]
  },
  {
   "cell_type": "code",
   "execution_count": null,
   "metadata": {
    "dotnet_repl_cellExecutionStartTime": "2023-07-17T15:31:32.0507709-03:00",
    "dotnet_repl_cellExecutionEndTime": "2023-07-17T15:31:32.2962671-03:00",
    "dotnet_repl_cellExecutionTime": "245.5006ms",
    "dotnet_interactive": {
     "language": "pwsh"
    },
    "polyglot_notebook": {
     "kernelName": "pwsh"
    }
   },
   "outputs": [],
   "source": [
    "cargo fmt --"
   ]
  },
  {
   "cell_type": "code",
   "execution_count": null,
   "metadata": {
    "dotnet_repl_cellExecutionStartTime": "2023-07-17T15:31:32.2963072-03:00",
    "dotnet_repl_cellExecutionEndTime": "2023-07-17T15:31:34.746614-03:00",
    "dotnet_repl_cellExecutionTime": "2.4503121s",
    "dotnet_interactive": {
     "language": "pwsh"
    },
    "polyglot_notebook": {
     "kernelName": "pwsh"
    }
   },
   "outputs": [
    {
     "name": "stdout",
     "output_type": "stream",
     "text": [
      "\u001B[31;1m   Compiling test v0.0.1 (C:\\home\\git\\polyglot\\spiral\\test)\u001B[0m\r\n",
      "\u001B[31;1mwarning: unused import: `info`\u001B[0m\r\n",
      "\u001B[31;1m   --> spiral\\test\\./main.rs:190:15\u001B[0m\r\n",
      "\u001B[31;1m    |\u001B[0m\r\n",
      "\u001B[31;1m190 | use tracing::{info, Level};\u001B[0m\r\n",
      "\u001B[31;1m    |               ^^^^\u001B[0m\r\n",
      "\u001B[31;1m    |\u001B[0m\r\n",
      "\u001B[31;1m    = note: `#[warn(unused_imports)]` on by default\u001B[0m\r\n",
      "\u001B[31;1m\u001B[0m\r\n",
      "\u001B[31;1mwarning: associated items `new`, `add_item`, and `remove_item` are never used\u001B[0m\r\n",
      "\u001B[31;1m  --> spiral\\test\\./main.rs:46:8\u001B[0m\r\n",
      "\u001B[31;1m   |\u001B[0m\r\n",
      "\u001B[31;1m45 | impl Cart {\u001B[0m\r\n",
      "\u001B[31;1m   | --------- associated items in this implementation\u001B[0m\r\n",
      "\u001B[31;1m46 |     fn new() -> Cart {\u001B[0m\r\n",
      "\u001B[31;1m   |        ^^^\u001B[0m\r\n",
      "\u001B[31;1m...\u001B[0m\r\n",
      "\u001B[31;1m50 |     fn add_item(&mut self, item: Item) {\u001B[0m\r\n",
      "\u001B[31;1m   |        ^^^^^^^^\u001B[0m\r\n",
      "\u001B[31;1m...\u001B[0m\r\n",
      "\u001B[31;1m56 |     fn remove_item(&mut self, item: &Item) {\u001B[0m\r\n",
      "\u001B[31;1m   |        ^^^^^^^^^^^\u001B[0m\r\n",
      "\u001B[31;1m   |\u001B[0m\r\n",
      "\u001B[31;1m   = note: `#[warn(dead_code)]` on by default\u001B[0m\r\n",
      "\u001B[31;1m\u001B[0m\r\n",
      "\u001B[31;1mwarning: function `parse_comment` is never used\u001B[0m\r\n",
      "\u001B[31;1m   --> spiral\\test\\./main.rs:124:4\u001B[0m\r\n",
      "\u001B[31;1m    |\u001B[0m\r\n",
      "\u001B[31;1m124 | fn parse_comment(input: &str) -> IResult<&str, SpiralToken> {\u001B[0m\r\n",
      "\u001B[31;1m    |    ^^^^^^^^^^^^^\u001B[0m\r\n",
      "\u001B[31;1m\u001B[0m\r\n",
      "\u001B[31;1mwarning: function `parse_string` is never used\u001B[0m\r\n",
      "\u001B[31;1m   --> spiral\\test\\./main.rs:130:4\u001B[0m\r\n",
      "\u001B[31;1m    |\u001B[0m\r\n",
      "\u001B[31;1m130 | fn parse_string(input: &str) -> IResult<&str, SpiralToken> {\u001B[0m\r\n",
      "\u001B[31;1m    |    ^^^^^^^^^^^^\u001B[0m\r\n",
      "\u001B[31;1m\u001B[0m\r\n",
      "\u001B[31;1mwarning: function `parse_identifier` is never used\u001B[0m\r\n",
      "\u001B[31;1m   --> spiral\\test\\./main.rs:145:4\u001B[0m\r\n",
      "\u001B[31;1m    |\u001B[0m\r\n",
      "\u001B[31;1m145 | fn parse_identifier(input: &str) -> IResult<&str, SpiralToken> {\u001B[0m\r\n",
      "\u001B[31;1m    |    ^^^^^^^^^^^^^^^^\u001B[0m\r\n",
      "\u001B[31;1m\u001B[0m\r\n",
      "\u001B[31;1mwarning: function `parse_integer` is never used\u001B[0m\r\n",
      "\u001B[31;1m   --> spiral\\test\\./main.rs:157:4\u001B[0m\r\n",
      "\u001B[31;1m    |\u001B[0m\r\n",
      "\u001B[31;1m157 | fn parse_integer(input: &str) -> IResult<&str, SpiralToken> {\u001B[0m\r\n",
      "\u001B[31;1m    |    ^^^^^^^^^^^^^\u001B[0m\r\n",
      "\u001B[31;1m\u001B[0m\r\n",
      "\u001B[31;1mwarning: function `parse_operator` is never used\u001B[0m\r\n",
      "\u001B[31;1m   --> spiral\\test\\./main.rs:165:4\u001B[0m\r\n",
      "\u001B[31;1m    |\u001B[0m\r\n",
      "\u001B[31;1m165 | fn parse_operator(input: &str) -> IResult<&str, SpiralToken> {\u001B[0m\r\n",
      "\u001B[31;1m    |    ^^^^^^^^^^^^^^\u001B[0m\r\n",
      "\u001B[31;1m\u001B[0m\r\n",
      "\u001B[31;1mwarning: function `parse_token` is never used\u001B[0m\r\n",
      "\u001B[31;1m   --> spiral\\test\\./main.rs:170:4\u001B[0m\r\n",
      "\u001B[31;1m    |\u001B[0m\r\n",
      "\u001B[31;1m170 | fn parse_token(input: &str) -> IResult<&str, SpiralToken> {\u001B[0m\r\n",
      "\u001B[31;1m    |    ^^^^^^^^^^^\u001B[0m\r\n",
      "\u001B[31;1m\u001B[0m\r\n",
      "\u001B[31;1mwarning: function `format_token` is never used\u001B[0m\r\n",
      "\u001B[31;1m   --> spiral\\test\\./main.rs:180:4\u001B[0m\r\n",
      "\u001B[31;1m    |\u001B[0m\r\n",
      "\u001B[31;1m180 | fn format_token(token: &SpiralToken) -> String {\u001B[0m\r\n",
      "\u001B[31;1m    |    ^^^^^^^^^^^^\u001B[0m\r\n",
      "\u001B[31;1m\u001B[0m\r\n",
      "\u001B[31;1mwarning: function `parse_expression` is never used\u001B[0m\r\n",
      "\u001B[31;1m   --> spiral\\test\\./main.rs:213:4\u001B[0m\r\n",
      "\u001B[31;1m    |\u001B[0m\r\n",
      "\u001B[31;1m213 | fn parse_expression(input: &str) -> IResult<&str, SpiralToken> {\u001B[0m\r\n",
      "\u001B[31;1m    |    ^^^^^^^^^^^^^^^^\u001B[0m\r\n",
      "\u001B[31;1m\u001B[0m\r\n",
      "\u001B[31;1mwarning: `test` (bin \"test\") generated 10 warnings (run `cargo fix --bin \"test\"` to apply 1 suggestion)\u001B[0m\r\n",
      "\u001B[31;1m    Finished release [optimized] target(s) in 2.26s\u001B[0m\r\n"
     ]
    }
   ],
   "source": [
    "cargo build --release"
   ]
  },
  {
   "cell_type": "code",
   "execution_count": null,
   "metadata": {
    "dotnet_repl_cellExecutionStartTime": "2023-07-17T15:31:34.7466582-03:00",
    "dotnet_repl_cellExecutionEndTime": "2023-07-17T15:31:39.998198-03:00",
    "dotnet_repl_cellExecutionTime": "5.2515441s",
    "dotnet_interactive": {
     "language": "pwsh"
    },
    "polyglot_notebook": {
     "kernelName": "pwsh"
    }
   },
   "outputs": [
    {
     "name": "stdout",
     "output_type": "stream",
     "text": [
      "\u001B[31;1m   Compiling test v0.0.1 (C:\\home\\git\\polyglot\\spiral\\test)\u001B[0m\r\n",
      "\u001B[31;1m    Finished release [optimized] target(s) in 4.58s\u001B[0m\r\n",
      "\u001B[31;1m     Running unittests main.rs (C:\\home\\git\\polyglot\\target\\release\\deps\\test-c33bdbd057fd7d59.exe)\u001B[0m\r\n",
      "\r\n",
      "running 3 tests\r\n",
      "test test_parse_number ... ok\r\n",
      "\u001B[2m2023-07-17T18:31:39.574080Z\u001B[0m \u001B[32m INFO\u001B[0m \u001B[2mtest\u001B[0m\u001B[2m:\u001B[0m input=Integer(-8775214480893673069)\r\n",
      "\u001B[2m2023-07-17T18:31:39.574210Z\u001B[0m \u001B[32m INFO\u001B[0m \u001B[2mtest\u001B[0m\u001B[2m:\u001B[0m input=Comment(\"#`(_'Y\\\\W]=,E=*//v&7*)VxeO**.u*{@\")\r\n",
      "\u001B[2m2023-07-17T18:31:39.574316Z\u001B[0m \u001B[32m INFO\u001B[0m \u001B[2mtest\u001B[0m\u001B[2m:\u001B[0m input=Integer(-161969588529384009)\r\n",
      "\u001B[2m2023-07-17T18:31:39.574361Z\u001B[0m \u001B[32m INFO\u001B[0m \u001B[2mtest\u001B[0m\u001B[2m:\u001B[0m input=Comment(\".?`\\\"2:M\")\r\n",
      "\u001B[2m2023-07-17T18:31:39.574436Z\u001B[0m \u001B[32m INFO\u001B[0m \u001B[2mtest\u001B[0m\u001B[2m:\u001B[0m input=Identifier(\"USV2i8gnhHY46RcH1nQ2iAv0b3mY38i6\")\r\n",
      "\u001B[2m2023-07-17T18:31:39.574537Z\u001B[0m \u001B[32m INFO\u001B[0m \u001B[2mtest\u001B[0m\u001B[2m:\u001B[0m input=StringLiteral(\"2<K;>K.**Sm\")\r\n",
      "\u001B[2m2023-07-17T18:31:39.574618Z\u001B[0m \u001B[32m INFO\u001B[0m \u001B[2mtest\u001B[0m\u001B[2m:\u001B[0m input=Comment(\"O/&RzD\\\\X('K&b|&\")\r\n",
      "\u001B[2m2023-07-17T18:31:39.574666Z\u001B[0m \u001B[32m INFO\u001B[0m \u001B[2mtest\u001B[0m\u001B[2m:\u001B[0m input=StringLiteral(\"B7E\")\r\n",
      "\u001B[2m2023-07-17T18:31:39.574752Z\u001B[0m \u001B[32m INFO\u001B[0m \u001B[2mtest\u001B[0m\u001B[2m:\u001B[0m input=StringLiteral(\"u`tQ<cY?~&dyj\")\r\n",
      "\u001B[2m2023-07-17T18:31:39.574816Z\u001B[0m \u001B[32m INFO\u001B[0m \u001B[2mtest\u001B[0m\u001B[2m:\u001B[0m input=Comment(\"C.=_H\\\"zO&\")\r\n",
      "\u001B[2m2023-07-17T18:31:39.574854Z\u001B[0m \u001B[32m INFO\u001B[0m \u001B[2mtest\u001B[0m\u001B[2m:\u001B[0m input=Comment(\"&$\")\r\n",
      "\u001B[2m2023-07-17T18:31:39.574940Z\u001B[0m \u001B[32m INFO\u001B[0m \u001B[2mtest\u001B[0m\u001B[2m:\u001B[0m input=Identifier(\"cJl6dcnZP9XVHjlX7TgvdW2\")\r\n",
      "\u001B[2m2023-07-17T18:31:39.575043Z\u001B[0m \u001B[32m INFO\u001B[0m \u001B[2mtest\u001B[0m\u001B[2m:\u001B[0m input=Identifier(\"aX8auOcCW5d32YNfQEZ47oWv688E\")\r\n",
      "\u001B[2m2023-07-17T18:31:39.575104Z\u001B[0m \u001B[32m INFO\u001B[0m \u001B[2mtest\u001B[0m\u001B[2m:\u001B[0m input=Integer(-6368625014724926763)\r\n",
      "\u001B[2m2023-07-17T18:31:39.575132Z\u001B[0m \u001B[32m INFO\u001B[0m \u001B[2mtest\u001B[0m\u001B[2m:\u001B[0m input=StringLiteral(\"8l'&$./c|\")\r\n",
      "\u001B[2m2023-07-17T18:31:39.575168Z\u001B[0m \u001B[32m INFO\u001B[0m \u001B[2mtest\u001B[0m\u001B[2m:\u001B[0m input=Comment(\"<:=B<TU&J,`t*5*#z|\\\\&.\\\"X^\\\\c*$\\\\:\")\r\n",
      "\u001B[2m2023-07-17T18:31:39.575240Z\u001B[0m \u001B[32m INFO\u001B[0m \u001B[2mtest\u001B[0m\u001B[2m:\u001B[0m input=StringLiteral(\"IgqIc)2M{w%??Tq53euJn<I]ZW\")\r\n",
      "\u001B[2m2023-07-17T18:31:39.575313Z\u001B[0m \u001B[32m INFO\u001B[0m \u001B[2mtest\u001B[0m\u001B[2m:\u001B[0m input=Operator(\")\")\r\n",
      "\u001B[2m2023-07-17T18:31:39.575400Z\u001B[0m \u001B[32m INFO\u001B[0m \u001B[2mtest\u001B[0m\u001B[2m:\u001B[0m input=Comment(\"S($M.=H9\")\r\n",
      "\u001B[2m2023-07-17T18:31:39.575433Z\u001B[0m \u001B[32m INFO\u001B[0m \u001B[2mtest\u001B[0m\u001B[2m:\u001B[0m input=Integer(-382420677688724983)\r\n",
      "\u001B[2m2023-07-17T18:31:39.575501Z\u001B[0m \u001B[32m INFO\u001B[0m \u001B[2mtest\u001B[0m\u001B[2m:\u001B[0m input=StringLiteral(\"~$:/G^{B ]C{&\")\r\n",
      "\u001B[2m2023-07-17T18:31:39.575554Z\u001B[0m \u001B[32m INFO\u001B[0m \u001B[2mtest\u001B[0m\u001B[2m:\u001B[0m input=Comment(\"}':a<@e:$=V!>N<=n/m\")\r\n",
      "\u001B[2m2023-07-17T18:31:39.575617Z\u001B[0m \u001B[32m INFO\u001B[0m \u001B[2mtest\u001B[0m\u001B[2m:\u001B[0m input=Identifier(\"WT5V26MUeME02iv1\")\r\n",
      "\u001B[2m2023-07-17T18:31:39.575654Z\u001B[0m \u001B[32m INFO\u001B[0m \u001B[2mtest\u001B[0m\u001B[2m:\u001B[0m input=Operator(\"=\")\r\n",
      "\u001B[2m2023-07-17T18:31:39.575713Z\u001B[0m \u001B[32m INFO\u001B[0m \u001B[2mtest\u001B[0m\u001B[2m:\u001B[0m input=Operator(\"*\")\r\n",
      "\u001B[2m2023-07-17T18:31:39.575772Z\u001B[0m \u001B[32m INFO\u001B[0m \u001B[2mtest\u001B[0m\u001B[2m:\u001B[0m input=Identifier(\"M0cbaeT5SWZ3eRlnILx9IDW4pzO1\")\r\n",
      "\u001B[2m2023-07-17T18:31:39.575828Z\u001B[0m \u001B[32m INFO\u001B[0m \u001B[2mtest\u001B[0m\u001B[2m:\u001B[0m input=Integer(-4780705314235989639)\r\n",
      "\u001B[2m2023-07-17T18:31:39.575911Z\u001B[0m \u001B[32m INFO\u001B[0m \u001B[2mtest\u001B[0m\u001B[2m:\u001B[0m input=Integer(8331152781561293568)\r\n",
      "\u001B[2m2023-07-17T18:31:39.575998Z\u001B[0m \u001B[32m INFO\u001B[0m \u001B[2mtest\u001B[0m\u001B[2m:\u001B[0m input=Comment(\"P=Dv?^':>H7sBO(?q_\\\"\")\r\n",
      "\u001B[2m2023-07-17T18:31:39.576062Z\u001B[0m \u001B[32m INFO\u001B[0m \u001B[2mtest\u001B[0m\u001B[2m:\u001B[0m input=Comment(\"?E~\")\r\n",
      "\u001B[2m2023-07-17T18:31:39.576102Z\u001B[0m \u001B[32m INFO\u001B[0m \u001B[2mtest\u001B[0m\u001B[2m:\u001B[0m input=Operator(\"+\")\r\n",
      "\u001B[2m2023-07-17T18:31:39.576158Z\u001B[0m \u001B[32m INFO\u001B[0m \u001B[2mtest\u001B[0m\u001B[2m:\u001B[0m input=Integer(-8826705748726481473)\r\n",
      "\u001B[2m2023-07-17T18:31:39.576189Z\u001B[0m \u001B[32m INFO\u001B[0m \u001B[2mtest\u001B[0m\u001B[2m:\u001B[0m input=Operator(\"+\")\r\n",
      "\u001B[2m2023-07-17T18:31:39.576236Z\u001B[0m \u001B[32m INFO\u001B[0m \u001B[2mtest\u001B[0m\u001B[2m:\u001B[0m input=StringLiteral(\"V=4{F*$Xvfoe=&?InT9d\")\r\n",
      "\u001B[2m2023-07-17T18:31:39.576313Z\u001B[0m \u001B[32m INFO\u001B[0m \u001B[2mtest\u001B[0m\u001B[2m:\u001B[0m input=Comment(\"R[F?v%o1\\\"$N\")\r\n",
      "\u001B[2m2023-07-17T18:31:39.576386Z\u001B[0m \u001B[32m INFO\u001B[0m \u001B[2mtest\u001B[0m\u001B[2m:\u001B[0m input=Identifier(\"ZmwnU55kX2b2ckwenbnOwkhX\")\r\n",
      "\u001B[2m2023-07-17T18:31:39.576435Z\u001B[0m \u001B[32m INFO\u001B[0m \u001B[2mtest\u001B[0m\u001B[2m:\u001B[0m input=Comment(\"A,&=\\\\-?*fn]'R;@/<*z5XtJNC%7\")\r\n",
      "\u001B[2m2023-07-17T18:31:39.576462Z\u001B[0m \u001B[32m INFO\u001B[0m \u001B[2mtest\u001B[0m\u001B[2m:\u001B[0m input=StringLiteral(\"*%wC=x?<{[:?\")\r\n",
      "\u001B[2m2023-07-17T18:31:39.576493Z\u001B[0m \u001B[32m INFO\u001B[0m \u001B[2mtest\u001B[0m\u001B[2m:\u001B[0m input=Comment(\"q.-'u<j:']H$u3;h/\")\r\n",
      "\u001B[2m2023-07-17T18:31:39.576542Z\u001B[0m \u001B[32m INFO\u001B[0m \u001B[2mtest\u001B[0m\u001B[2m:\u001B[0m input=Operator(\")\")\r\n",
      "\u001B[2m2023-07-17T18:31:39.576581Z\u001B[0m \u001B[32m INFO\u001B[0m \u001B[2mtest\u001B[0m\u001B[2m:\u001B[0m input=Comment(\".=Iltr3v#1\")\r\n",
      "\u001B[2m2023-07-17T18:31:39.576676Z\u001B[0m \u001B[32m INFO\u001B[0m \u001B[2mtest\u001B[0m\u001B[2m:\u001B[0m input=Identifier(\"XM866YOnRnVWxY1bIja1ct\")\r\n",
      "\u001B[2m2023-07-17T18:31:39.576752Z\u001B[0m \u001B[32m INFO\u001B[0m \u001B[2mtest\u001B[0m\u001B[2m:\u001B[0m input=Identifier(\"v8vicsh7foyibreDPjZm0\")\r\n",
      "\u001B[2m2023-07-17T18:31:39.576807Z\u001B[0m \u001B[32m INFO\u001B[0m \u001B[2mtest\u001B[0m\u001B[2m:\u001B[0m input=Comment(\"U6]wM`& }zH<%A:)ye 3?\\\"\")\r\n",
      "\u001B[2m2023-07-17T18:31:39.576902Z\u001B[0m \u001B[32m INFO\u001B[0m \u001B[2mtest\u001B[0m\u001B[2m:\u001B[0m input=Comment(\"'NA:M\\\\s*t_\\\"*h.8>\")\r\n",
      "\u001B[2m2023-07-17T18:31:39.576942Z\u001B[0m \u001B[32m INFO\u001B[0m \u001B[2mtest\u001B[0m\u001B[2m:\u001B[0m input=Integer(8368795281788980917)\r\n",
      "\u001B[2m2023-07-17T18:31:39.576994Z\u001B[0m \u001B[32m INFO\u001B[0m \u001B[2mtest\u001B[0m\u001B[2m:\u001B[0m input=Operator(\"/\")\r\n",
      "\u001B[2m2023-07-17T18:31:39.577025Z\u001B[0m \u001B[32m INFO\u001B[0m \u001B[2mtest\u001B[0m\u001B[2m:\u001B[0m input=Integer(2888988004915933893)\r\n",
      "\u001B[2m2023-07-17T18:31:39.577054Z\u001B[0m \u001B[32m INFO\u001B[0m \u001B[2mtest\u001B[0m\u001B[2m:\u001B[0m input=Integer(-6103843853978660945)\r\n",
      "\u001B[2m2023-07-17T18:31:39.577128Z\u001B[0m \u001B[32m INFO\u001B[0m \u001B[2mtest\u001B[0m\u001B[2m:\u001B[0m input=StringLiteral(\"%qa~`;Y&b|=q*$%ayU#d :TK*``ld\")\r\n",
      "\u001B[2m2023-07-17T18:31:39.577169Z\u001B[0m \u001B[32m INFO\u001B[0m \u001B[2mtest\u001B[0m\u001B[2m:\u001B[0m input=Integer(184656384135736675)\r\n",
      "\u001B[2m2023-07-17T18:31:39.577219Z\u001B[0m \u001B[32m INFO\u001B[0m \u001B[2mtest\u001B[0m\u001B[2m:\u001B[0m input=Operator(\"-\")\r\n",
      "\u001B[2m2023-07-17T18:31:39.577259Z\u001B[0m \u001B[32m INFO\u001B[0m \u001B[2mtest\u001B[0m\u001B[2m:\u001B[0m input=Identifier(\"g\")\r\n",
      "\u001B[2m2023-07-17T18:31:39.577314Z\u001B[0m \u001B[32m INFO\u001B[0m \u001B[2mtest\u001B[0m\u001B[2m:\u001B[0m input=Operator(\"+\")\r\n",
      "\u001B[2m2023-07-17T18:31:39.577402Z\u001B[0m \u001B[32m INFO\u001B[0m \u001B[2mtest\u001B[0m\u001B[2m:\u001B[0m input=Operator(\"=\")\r\n",
      "\u001B[2m2023-07-17T18:31:39.577447Z\u001B[0m \u001B[32m INFO\u001B[0m \u001B[2mtest\u001B[0m\u001B[2m:\u001B[0m input=Comment(\"r*/w]~Xh%&<9\\\\SS?\")\r\n",
      "\u001B[2m2023-07-17T18:31:39.577510Z\u001B[0m \u001B[32m INFO\u001B[0m \u001B[2mtest\u001B[0m\u001B[2m:\u001B[0m input=Operator(\"/\")\r\n",
      "\u001B[2m2023-07-17T18:31:39.577539Z\u001B[0m \u001B[32m INFO\u001B[0m \u001B[2mtest\u001B[0m\u001B[2m:\u001B[0m input=Integer(-4599047019177034942)\r\n",
      "\u001B[2m2023-07-17T18:31:39.577590Z\u001B[0m \u001B[32m INFO\u001B[0m \u001B[2mtest\u001B[0m\u001B[2m:\u001B[0m input=Integer(5093291886765639770)\r\n",
      "\u001B[2m2023-07-17T18:31:39.577625Z\u001B[0m \u001B[32m INFO\u001B[0m \u001B[2mtest\u001B[0m\u001B[2m:\u001B[0m input=StringLiteral(\"b*\")\r\n",
      "\u001B[2m2023-07-17T18:31:39.577658Z\u001B[0m \u001B[32m INFO\u001B[0m \u001B[2mtest\u001B[0m\u001B[2m:\u001B[0m input=Identifier(\"Swc\")\r\n",
      "\u001B[2m2023-07-17T18:31:39.577711Z\u001B[0m \u001B[32m INFO\u001B[0m \u001B[2mtest\u001B[0m\u001B[2m:\u001B[0m input=Integer(8868456403495454573)\r\n",
      "\u001B[2m2023-07-17T18:31:39.577769Z\u001B[0m \u001B[32m INFO\u001B[0m \u001B[2mtest\u001B[0m\u001B[2m:\u001B[0m input=StringLiteral(\"3j$yZe<%bs,ftZwP{U:/*b<]I/:\")\r\n",
      "\u001B[2m2023-07-17T18:31:39.577831Z\u001B[0m \u001B[32m INFO\u001B[0m \u001B[2mtest\u001B[0m\u001B[2m:\u001B[0m input=Integer(5279871187945536315)\r\n",
      "\u001B[2m2023-07-17T18:31:39.577860Z\u001B[0m \u001B[32m INFO\u001B[0m \u001B[2mtest\u001B[0m\u001B[2m:\u001B[0m input=Integer(4528225307766183538)\r\n",
      "\u001B[2m2023-07-17T18:31:39.577897Z\u001B[0m \u001B[32m INFO\u001B[0m \u001B[2mtest\u001B[0m\u001B[2m:\u001B[0m input=StringLiteral(\" Qa1ek%j{\")\r\n",
      "\u001B[2m2023-07-17T18:31:39.577991Z\u001B[0m \u001B[32m INFO\u001B[0m \u001B[2mtest\u001B[0m\u001B[2m:\u001B[0m input=Integer(-5275597623102322285)\r\n",
      "\u001B[2m2023-07-17T18:31:39.578051Z\u001B[0m \u001B[32m INFO\u001B[0m \u001B[2mtest\u001B[0m\u001B[2m:\u001B[0m input=StringLiteral(\"`=WPV@GwKuwDH[66-YE=m:<!}9%\")\r\n",
      "\u001B[2m2023-07-17T18:31:39.578105Z\u001B[0m \u001B[32m INFO\u001B[0m \u001B[2mtest\u001B[0m\u001B[2m:\u001B[0m input=Integer(2534069110643712949)\r\n",
      "\u001B[2m2023-07-17T18:31:39.578139Z\u001B[0m \u001B[32m INFO\u001B[0m \u001B[2mtest\u001B[0m\u001B[2m:\u001B[0m input=Operator(\"-\")\r\n",
      "\u001B[2m2023-07-17T18:31:39.578167Z\u001B[0m \u001B[32m INFO\u001B[0m \u001B[2mtest\u001B[0m\u001B[2m:\u001B[0m input=Integer(-6758619470057659928)\r\n",
      "\u001B[2m2023-07-17T18:31:39.578212Z\u001B[0m \u001B[32m INFO\u001B[0m \u001B[2mtest\u001B[0m\u001B[2m:\u001B[0m input=Operator(\"(\")\r\n",
      "\u001B[2m2023-07-17T18:31:39.578247Z\u001B[0m \u001B[32m INFO\u001B[0m \u001B[2mtest\u001B[0m\u001B[2m:\u001B[0m input=StringLiteral(\"zj,MXq0&.BIm1a:vu>)i5 |A:$]{\")\r\n",
      "\u001B[2m2023-07-17T18:31:39.578349Z\u001B[0m \u001B[32m INFO\u001B[0m \u001B[2mtest\u001B[0m\u001B[2m:\u001B[0m input=StringLiteral(\"\")\r\n",
      "\u001B[2m2023-07-17T18:31:39.578404Z\u001B[0m \u001B[32m INFO\u001B[0m \u001B[2mtest\u001B[0m\u001B[2m:\u001B[0m input=StringLiteral(\"/apw/7K<MqJBuIrK3' {:}v\")\r\n",
      "\u001B[2m2023-07-17T18:31:39.578478Z\u001B[0m \u001B[32m INFO\u001B[0m \u001B[2mtest\u001B[0m\u001B[2m:\u001B[0m input=Comment(\"w QYHuBkkq}JS{EF!=?<q`x\")\r\n",
      "\u001B[2m2023-07-17T18:31:39.578516Z\u001B[0m \u001B[32m INFO\u001B[0m \u001B[2mtest\u001B[0m\u001B[2m:\u001B[0m input=Integer(8677044245942974584)\r\n",
      "\u001B[2m2023-07-17T18:31:39.578565Z\u001B[0m \u001B[32m INFO\u001B[0m \u001B[2mtest\u001B[0m\u001B[2m:\u001B[0m input=Integer(-7478786020344717831)\r\n",
      "\u001B[2m2023-07-17T18:31:39.578596Z\u001B[0m \u001B[32m INFO\u001B[0m \u001B[2mtest\u001B[0m\u001B[2m:\u001B[0m input=Integer(5906150498409502999)\r\n",
      "\u001B[2m2023-07-17T18:31:39.578635Z\u001B[0m \u001B[32m INFO\u001B[0m \u001B[2mtest\u001B[0m\u001B[2m:\u001B[0m input=StringLiteral(\"??T=$DIY*Y\")\r\n",
      "\u001B[2m2023-07-17T18:31:39.578685Z\u001B[0m \u001B[32m INFO\u001B[0m \u001B[2mtest\u001B[0m\u001B[2m:\u001B[0m input=Integer(5618259702533264800)\r\n",
      "\u001B[2m2023-07-17T18:31:39.578714Z\u001B[0m \u001B[32m INFO\u001B[0m \u001B[2mtest\u001B[0m\u001B[2m:\u001B[0m input=Integer(7166805502188651245)\r\n",
      "\u001B[2m2023-07-17T18:31:39.578767Z\u001B[0m \u001B[32m INFO\u001B[0m \u001B[2mtest\u001B[0m\u001B[2m:\u001B[0m input=Identifier(\"x2XJ2rEeMIobBdbS1M0pglWgQnpXzH1x\")\r\n",
      "\u001B[2m2023-07-17T18:31:39.578827Z\u001B[0m \u001B[32m INFO\u001B[0m \u001B[2mtest\u001B[0m\u001B[2m:\u001B[0m input=Operator(\"=\")\r\n",
      "\u001B[2m2023-07-17T18:31:39.578862Z\u001B[0m \u001B[32m INFO\u001B[0m \u001B[2mtest\u001B[0m\u001B[2m:\u001B[0m input=Identifier(\"zi4\")\r\n",
      "\u001B[2m2023-07-17T18:31:39.578922Z\u001B[0m \u001B[32m INFO\u001B[0m \u001B[2mtest\u001B[0m\u001B[2m:\u001B[0m input=Integer(5503472347495822748)\r\n",
      "\u001B[2m2023-07-17T18:31:39.578953Z\u001B[0m \u001B[32m INFO\u001B[0m \u001B[2mtest\u001B[0m\u001B[2m:\u001B[0m input=Integer(-3529673325719872889)\r\n",
      "\u001B[2m2023-07-17T18:31:39.579026Z\u001B[0m \u001B[32m INFO\u001B[0m \u001B[2mtest\u001B[0m\u001B[2m:\u001B[0m input=Identifier(\"sWhmyh0mpJLp4Z84K6Nb9Y2Ae3lA2Gt\")\r\n",
      "\u001B[2m2023-07-17T18:31:39.579070Z\u001B[0m \u001B[32m INFO\u001B[0m \u001B[2mtest\u001B[0m\u001B[2m:\u001B[0m input=Operator(\")\")\r\n",
      "\u001B[2m2023-07-17T18:31:39.579095Z\u001B[0m \u001B[32m INFO\u001B[0m \u001B[2mtest\u001B[0m\u001B[2m:\u001B[0m input=StringLiteral(\"&?{C! 3`\")\r\n",
      "\u001B[2m2023-07-17T18:31:39.579122Z\u001B[0m \u001B[32m INFO\u001B[0m \u001B[2mtest\u001B[0m\u001B[2m:\u001B[0m input=Identifier(\"Zv0f725nrIjje\")\r\n",
      "\u001B[2m2023-07-17T18:31:39.579166Z\u001B[0m \u001B[32m INFO\u001B[0m \u001B[2mtest\u001B[0m\u001B[2m:\u001B[0m input=StringLiteral(\"\")\r\n",
      "\u001B[2m2023-07-17T18:31:39.579206Z\u001B[0m \u001B[32m INFO\u001B[0m \u001B[2mtest\u001B[0m\u001B[2m:\u001B[0m input=Comment(\")>${foAR{Y{:%$\")\r\n",
      "\u001B[2m2023-07-17T18:31:39.579274Z\u001B[0m \u001B[32m INFO\u001B[0m \u001B[2mtest\u001B[0m\u001B[2m:\u001B[0m input=Identifier(\"q80\")\r\n",
      "\u001B[2m2023-07-17T18:31:39.579354Z\u001B[0m \u001B[32m INFO\u001B[0m \u001B[2mtest\u001B[0m\u001B[2m:\u001B[0m input=Comment(\"X0fVN&1O`r\\\"`+$?J*VL~\")\r\n",
      "\u001B[2m2023-07-17T18:31:39.579398Z\u001B[0m \u001B[32m INFO\u001B[0m \u001B[2mtest\u001B[0m\u001B[2m:\u001B[0m input=Operator(\"/\")\r\n",
      "\u001B[2m2023-07-17T18:31:39.579441Z\u001B[0m \u001B[32m INFO\u001B[0m \u001B[2mtest\u001B[0m\u001B[2m:\u001B[0m input=Identifier(\"IPN05l5sF8N9kV5x0\")\r\n",
      "\u001B[2m2023-07-17T18:31:39.579482Z\u001B[0m \u001B[32m INFO\u001B[0m \u001B[2mtest\u001B[0m\u001B[2m:\u001B[0m input=Integer(-4639751518028340202)\r\n",
      "\u001B[2m2023-07-17T18:31:39.579517Z\u001B[0m \u001B[32m INFO\u001B[0m \u001B[2mtest\u001B[0m\u001B[2m:\u001B[0m input=Operator(\"-\")\r\n",
      "\u001B[2m2023-07-17T18:31:39.579545Z\u001B[0m \u001B[32m INFO\u001B[0m \u001B[2mtest\u001B[0m\u001B[2m:\u001B[0m input=Integer(4449855400071922394)\r\n",
      "\u001B[2m2023-07-17T18:31:39.579595Z\u001B[0m \u001B[32m INFO\u001B[0m \u001B[2mtest\u001B[0m\u001B[2m:\u001B[0m input=Identifier(\"X7qiB7ZeK55A1B03fx9X8l5\")\r\n",
      "\u001B[2m2023-07-17T18:31:39.579641Z\u001B[0m \u001B[32m INFO\u001B[0m \u001B[2mtest\u001B[0m\u001B[2m:\u001B[0m input=Operator(\"=\")\r\n",
      "\u001B[2m2023-07-17T18:31:39.579663Z\u001B[0m \u001B[32m INFO\u001B[0m \u001B[2mtest\u001B[0m\u001B[2m:\u001B[0m input=Operator(\"*\")\r\n",
      "\u001B[2m2023-07-17T18:31:39.579696Z\u001B[0m \u001B[32m INFO\u001B[0m \u001B[2mtest\u001B[0m\u001B[2m:\u001B[0m input=Identifier(\"oEojGTZ9SDVx5216XOl6J9gxt8\")\r\n",
      "\u001B[2m2023-07-17T18:31:39.579765Z\u001B[0m \u001B[32m INFO\u001B[0m \u001B[2mtest\u001B[0m\u001B[2m:\u001B[0m input=Integer(6002065643048467223)\r\n",
      "\u001B[2m2023-07-17T18:31:39.579848Z\u001B[0m \u001B[32m INFO\u001B[0m \u001B[2mtest\u001B[0m\u001B[2m:\u001B[0m input=StringLiteral(\"<'{{RD<i<u.$DiJs?.%`RWoOBpXJ]uc\")\r\n",
      "\u001B[2m2023-07-17T18:31:39.579913Z\u001B[0m \u001B[32m INFO\u001B[0m \u001B[2mtest\u001B[0m\u001B[2m:\u001B[0m input=Identifier(\"No1HQkrL9J30FsXCmKmKd3UKTK\")\r\n",
      "\u001B[2m2023-07-17T18:31:39.579938Z\u001B[0m \u001B[32m INFO\u001B[0m \u001B[2mtest\u001B[0m\u001B[2m:\u001B[0m input=Integer(-5996792561725652688)\r\n",
      "\u001B[2m2023-07-17T18:31:39.579976Z\u001B[0m \u001B[32m INFO\u001B[0m \u001B[2mtest\u001B[0m\u001B[2m:\u001B[0m input=Integer(4231749680322778340)\r\n",
      "\u001B[2m2023-07-17T18:31:39.580032Z\u001B[0m \u001B[32m INFO\u001B[0m \u001B[2mtest\u001B[0m\u001B[2m:\u001B[0m input=Identifier(\"GqIK3ajQjn38aDc6jhylV0Z6Zx8e2Bm1R\")\r\n",
      "\u001B[2m2023-07-17T18:31:39.580090Z\u001B[0m \u001B[32m INFO\u001B[0m \u001B[2mtest\u001B[0m\u001B[2m:\u001B[0m input=Integer(-1005430035849489272)\r\n",
      "\u001B[2m2023-07-17T18:31:39.580133Z\u001B[0m \u001B[32m INFO\u001B[0m \u001B[2mtest\u001B[0m\u001B[2m:\u001B[0m input=Identifier(\"Qkois6x2YuPl95QCGKd\")\r\n",
      "\u001B[2m2023-07-17T18:31:39.580169Z\u001B[0m \u001B[32m INFO\u001B[0m \u001B[2mtest\u001B[0m\u001B[2m:\u001B[0m input=Integer(2231924853805353478)\r\n",
      "\u001B[2m2023-07-17T18:31:39.580221Z\u001B[0m \u001B[32m INFO\u001B[0m \u001B[2mtest\u001B[0m\u001B[2m:\u001B[0m input=Integer(-3359042499434549514)\r\n",
      "\u001B[2m2023-07-17T18:31:39.580268Z\u001B[0m \u001B[32m INFO\u001B[0m \u001B[2mtest\u001B[0m\u001B[2m:\u001B[0m input=Comment(\"h'*\")\r\n",
      "\u001B[2m2023-07-17T18:31:39.580350Z\u001B[0m \u001B[32m INFO\u001B[0m \u001B[2mtest\u001B[0m\u001B[2m:\u001B[0m input=Integer(-7735648798455119188)\r\n",
      "\u001B[2m2023-07-17T18:31:39.580409Z\u001B[0m \u001B[32m INFO\u001B[0m \u001B[2mtest\u001B[0m\u001B[2m:\u001B[0m input=StringLiteral(\"AR<\")\r\n",
      "\u001B[2m2023-07-17T18:31:39.580464Z\u001B[0m \u001B[32m INFO\u001B[0m \u001B[2mtest\u001B[0m\u001B[2m:\u001B[0m input=StringLiteral(\"Z<dDJfO<k$nf&8bD=&[=s\")\r\n",
      "\u001B[2m2023-07-17T18:31:39.580506Z\u001B[0m \u001B[32m INFO\u001B[0m \u001B[2mtest\u001B[0m\u001B[2m:\u001B[0m input=Integer(4073639474251343528)\r\n",
      "\u001B[2m2023-07-17T18:31:39.580531Z\u001B[0m \u001B[32m INFO\u001B[0m \u001B[2mtest\u001B[0m\u001B[2m:\u001B[0m input=Comment(\"dVVK*s<*'-=n*\")\r\n",
      "\u001B[2m2023-07-17T18:31:39.580576Z\u001B[0m \u001B[32m INFO\u001B[0m \u001B[2mtest\u001B[0m\u001B[2m:\u001B[0m input=Operator(\"*\")\r\n",
      "\u001B[2m2023-07-17T18:31:39.580632Z\u001B[0m \u001B[32m INFO\u001B[0m \u001B[2mtest\u001B[0m\u001B[2m:\u001B[0m input=Comment(\"}=<Yd`%0=GL]'?lT:&D*X,'Tbd\")\r\n",
      "\u001B[2m2023-07-17T18:31:39.580709Z\u001B[0m \u001B[32m INFO\u001B[0m \u001B[2mtest\u001B[0m\u001B[2m:\u001B[0m input=Identifier(\"he9B0OXb9hAc0KE5s8fI78gRvlxalMPSx\")\r\n",
      "\u001B[2m2023-07-17T18:31:39.580749Z\u001B[0m \u001B[32m INFO\u001B[0m \u001B[2mtest\u001B[0m\u001B[2m:\u001B[0m input=Operator(\"=\")\r\n",
      "\u001B[2m2023-07-17T18:31:39.580802Z\u001B[0m \u001B[32m INFO\u001B[0m \u001B[2mtest\u001B[0m\u001B[2m:\u001B[0m input=Integer(4120206052453557327)\r\n",
      "\u001B[2m2023-07-17T18:31:39.580835Z\u001B[0m \u001B[32m INFO\u001B[0m \u001B[2mtest\u001B[0m\u001B[2m:\u001B[0m input=Integer(3518088836937177529)\r\n",
      "\u001B[2m2023-07-17T18:31:39.580862Z\u001B[0m \u001B[32m INFO\u001B[0m \u001B[2mtest\u001B[0m\u001B[2m:\u001B[0m input=Integer(-3143750987193624053)\r\n",
      "\u001B[2m2023-07-17T18:31:39.580900Z\u001B[0m \u001B[32m INFO\u001B[0m \u001B[2mtest\u001B[0m\u001B[2m:\u001B[0m input=Identifier(\"yClZtjNy7s\")\r\n",
      "\u001B[2m2023-07-17T18:31:39.580951Z\u001B[0m \u001B[32m INFO\u001B[0m \u001B[2mtest\u001B[0m\u001B[2m:\u001B[0m input=Integer(8310498243537173023)\r\n",
      "\u001B[2m2023-07-17T18:31:39.580992Z\u001B[0m \u001B[32m INFO\u001B[0m \u001B[2mtest\u001B[0m\u001B[2m:\u001B[0m input=StringLiteral(\"PzN;fL7!Hdv{A2\")\r\n",
      "\u001B[2m2023-07-17T18:31:39.581135Z\u001B[0m \u001B[32m INFO\u001B[0m \u001B[2mtest\u001B[0m\u001B[2m:\u001B[0m input=Identifier(\"RX9XTOsA22rLy6bBp\")\r\n",
      "\u001B[2m2023-07-17T18:31:39.581180Z\u001B[0m \u001B[32m INFO\u001B[0m \u001B[2mtest\u001B[0m\u001B[2m:\u001B[0m input=Identifier(\"SgSwlzAjvVLT5\")\r\n",
      "\u001B[2m2023-07-17T18:31:39.581206Z\u001B[0m \u001B[32m INFO\u001B[0m \u001B[2mtest\u001B[0m\u001B[2m:\u001B[0m input=Comment(\"|;t/$4%%`'rr=;`:\")\r\n",
      "\u001B[2m2023-07-17T18:31:39.581243Z\u001B[0m \u001B[32m INFO\u001B[0m \u001B[2mtest\u001B[0m\u001B[2m:\u001B[0m input=Comment(\"%]\\\\W~z!\\\"G?*9s'*8'zyn$!\")\r\n",
      "\u001B[2m2023-07-17T18:31:39.581295Z\u001B[0m \u001B[32m INFO\u001B[0m \u001B[2mtest\u001B[0m\u001B[2m:\u001B[0m input=Integer(-4709812211724748955)\r\n",
      "\u001B[2m2023-07-17T18:31:39.581371Z\u001B[0m \u001B[32m INFO\u001B[0m \u001B[2mtest\u001B[0m\u001B[2m:\u001B[0m input=Comment(\"\\\"[/=v;s\\\"$`D#T7s\\\"z[s\")\r\n",
      "\u001B[2m2023-07-17T18:31:39.581415Z\u001B[0m \u001B[32m INFO\u001B[0m \u001B[2mtest\u001B[0m\u001B[2m:\u001B[0m input=Integer(3936935246396371095)\r\n",
      "\u001B[2m2023-07-17T18:31:39.581438Z\u001B[0m \u001B[32m INFO\u001B[0m \u001B[2mtest\u001B[0m\u001B[2m:\u001B[0m input=StringLiteral(\"@QVj,$9\")\r\n",
      "\u001B[2m2023-07-17T18:31:39.581468Z\u001B[0m \u001B[32m INFO\u001B[0m \u001B[2mtest\u001B[0m\u001B[2m:\u001B[0m input=Identifier(\"MLF7iCBZSJ2t8Z8j9KG\")\r\n",
      "\u001B[2m2023-07-17T18:31:39.581517Z\u001B[0m \u001B[32m INFO\u001B[0m \u001B[2mtest\u001B[0m\u001B[2m:\u001B[0m input=Integer(4618350487661086510)\r\n",
      "\u001B[2m2023-07-17T18:31:39.581569Z\u001B[0m \u001B[32m INFO\u001B[0m \u001B[2mtest\u001B[0m\u001B[2m:\u001B[0m input=StringLiteral(\"Y=UGj$`/T6XkG=Q=b$`G*'n-\")\r\n",
      "\u001B[2m2023-07-17T18:31:39.581634Z\u001B[0m \u001B[32m INFO\u001B[0m \u001B[2mtest\u001B[0m\u001B[2m:\u001B[0m input=StringLiteral(\"\")\r\n",
      "\u001B[2m2023-07-17T18:31:39.581676Z\u001B[0m \u001B[32m INFO\u001B[0m \u001B[2mtest\u001B[0m\u001B[2m:\u001B[0m input=StringLiteral(\"pqn{s$>{:a:*'=&^\")\r\n",
      "\u001B[2m2023-07-17T18:31:39.581714Z\u001B[0m \u001B[32m INFO\u001B[0m \u001B[2mtest\u001B[0m\u001B[2m:\u001B[0m input=Integer(-8472934678185922235)\r\n",
      "\u001B[2m2023-07-17T18:31:39.581788Z\u001B[0m \u001B[32m INFO\u001B[0m \u001B[2mtest\u001B[0m\u001B[2m:\u001B[0m input=Comment(\"<'`p\\\"$m0]:WM(,$<j1\\\\B$T*R-\\\\}\\\"\")\r\n",
      "\u001B[2m2023-07-17T18:31:39.581841Z\u001B[0m \u001B[32m INFO\u001B[0m \u001B[2mtest\u001B[0m\u001B[2m:\u001B[0m input=Identifier(\"RrSy8RuGPwZBW4zq8AK53\")\r\n",
      "\u001B[2m2023-07-17T18:31:39.581891Z\u001B[0m \u001B[32m INFO\u001B[0m \u001B[2mtest\u001B[0m\u001B[2m:\u001B[0m input=StringLiteral(\".3+=1*$%Ah*q4:<{n*{#?{\")\r\n",
      "\u001B[2m2023-07-17T18:31:39.581924Z\u001B[0m \u001B[32m INFO\u001B[0m \u001B[2mtest\u001B[0m\u001B[2m:\u001B[0m input=Identifier(\"CAM3DgiOO86QX6JvfbgiG6nw\")\r\n",
      "\u001B[2m2023-07-17T18:31:39.582083Z\u001B[0m \u001B[32m INFO\u001B[0m \u001B[2mtest\u001B[0m\u001B[2m:\u001B[0m input=Comment(\"OG.04yG`^\\\"o<{x\")\r\n",
      "\u001B[2m2023-07-17T18:31:39.582135Z\u001B[0m \u001B[32m INFO\u001B[0m \u001B[2mtest\u001B[0m\u001B[2m:\u001B[0m input=Integer(-220929516629623417)\r\n",
      "\u001B[2m2023-07-17T18:31:39.582253Z\u001B[0m \u001B[32m INFO\u001B[0m \u001B[2mtest\u001B[0m\u001B[2m:\u001B[0m input=Operator(\"*\")\r\n",
      "\u001B[2m2023-07-17T18:31:39.582356Z\u001B[0m \u001B[32m INFO\u001B[0m \u001B[2mtest\u001B[0m\u001B[2m:\u001B[0m input=StringLiteral(\"+/9@14Gpn;Gik'!a;#\")\r\n",
      "\u001B[2m2023-07-17T18:31:39.582413Z\u001B[0m \u001B[32m INFO\u001B[0m \u001B[2mtest\u001B[0m\u001B[2m:\u001B[0m input=Operator(\"/\")\r\n",
      "\u001B[2m2023-07-17T18:31:39.582467Z\u001B[0m \u001B[32m INFO\u001B[0m \u001B[2mtest\u001B[0m\u001B[2m:\u001B[0m input=Comment(\"t$`Tg&s%5%|G,-vL8[DEp_ny3BQ\\\\vR\")\r\n",
      "\u001B[2m2023-07-17T18:31:39.582576Z\u001B[0m \u001B[32m INFO\u001B[0m \u001B[2mtest\u001B[0m\u001B[2m:\u001B[0m input=Comment(\"Xu`8y=Y&jI*zn<0a+\")\r\n",
      "\u001B[2m2023-07-17T18:31:39.582633Z\u001B[0m \u001B[32m INFO\u001B[0m \u001B[2mtest\u001B[0m\u001B[2m:\u001B[0m input=StringLiteral(\"/,\")\r\n",
      "\u001B[2m2023-07-17T18:31:39.582698Z\u001B[0m \u001B[32m INFO\u001B[0m \u001B[2mtest\u001B[0m\u001B[2m:\u001B[0m input=StringLiteral(\"lTD<?.{+$$.h/wu^u`'xMi<?.tcJV&r\")\r\n",
      "\u001B[2m2023-07-17T18:31:39.582774Z\u001B[0m \u001B[32m INFO\u001B[0m \u001B[2mtest\u001B[0m\u001B[2m:\u001B[0m input=StringLiteral(\"B?'xp)=/dx:B*wuK$qE[,t@?lT0&C'W\")\r\n",
      "\u001B[2m2023-07-17T18:31:39.582835Z\u001B[0m \u001B[32m INFO\u001B[0m \u001B[2mtest\u001B[0m\u001B[2m:\u001B[0m input=Integer(4139513385426910110)\r\n",
      "\u001B[2m2023-07-17T18:31:39.582874Z\u001B[0m \u001B[32m INFO\u001B[0m \u001B[2mtest\u001B[0m\u001B[2m:\u001B[0m input=Identifier(\"R\")\r\n",
      "\u001B[2m2023-07-17T18:31:39.582912Z\u001B[0m \u001B[32m INFO\u001B[0m \u001B[2mtest\u001B[0m\u001B[2m:\u001B[0m input=Comment(\"&%M/\\\\VEeY#mmRd\")\r\n",
      "\u001B[2m2023-07-17T18:31:39.582958Z\u001B[0m \u001B[32m INFO\u001B[0m \u001B[2mtest\u001B[0m\u001B[2m:\u001B[0m input=StringLiteral(\"72H{u]x*pw]y\")\r\n",
      "\u001B[2m2023-07-17T18:31:39.583016Z\u001B[0m \u001B[32m INFO\u001B[0m \u001B[2mtest\u001B[0m\u001B[2m:\u001B[0m input=Operator(\"=\")\r\n",
      "\u001B[2m2023-07-17T18:31:39.583057Z\u001B[0m \u001B[32m INFO\u001B[0m \u001B[2mtest\u001B[0m\u001B[2m:\u001B[0m input=Identifier(\"tpuGt1qWoTslE7p1wRYf081hZ099PW4p9\")\r\n",
      "\u001B[2m2023-07-17T18:31:39.583077Z\u001B[0m \u001B[32m INFO\u001B[0m \u001B[2mtest\u001B[0m\u001B[2m:\u001B[0m input=Integer(-7900749479930988550)\r\n",
      "\u001B[2m2023-07-17T18:31:39.583141Z\u001B[0m \u001B[32m INFO\u001B[0m \u001B[2mtest\u001B[0m\u001B[2m:\u001B[0m input=Comment(\"k'Dl^A*M!\\\"B\\\"n*qv{`WMGs5<#et98'\")\r\n",
      "\u001B[2m2023-07-17T18:31:39.583185Z\u001B[0m \u001B[32m INFO\u001B[0m \u001B[2mtest\u001B[0m\u001B[2m:\u001B[0m input=StringLiteral(\"@n|\")\r\n",
      "\u001B[2m2023-07-17T18:31:39.583245Z\u001B[0m \u001B[32m INFO\u001B[0m \u001B[2mtest\u001B[0m\u001B[2m:\u001B[0m input=StringLiteral(\"T}%X$,{%=/L\")\r\n",
      "\u001B[2m2023-07-17T18:31:39.583283Z\u001B[0m \u001B[32m INFO\u001B[0m \u001B[2mtest\u001B[0m\u001B[2m:\u001B[0m input=Operator(\")\")\r\n",
      "\u001B[2m2023-07-17T18:31:39.583357Z\u001B[0m \u001B[32m INFO\u001B[0m \u001B[2mtest\u001B[0m\u001B[2m:\u001B[0m input=Operator(\"(\")\r\n",
      "\u001B[2m2023-07-17T18:31:39.583436Z\u001B[0m \u001B[32m INFO\u001B[0m \u001B[2mtest\u001B[0m\u001B[2m:\u001B[0m input=Integer(7238402833453115177)\r\n",
      "\u001B[2m2023-07-17T18:31:39.583495Z\u001B[0m \u001B[32m INFO\u001B[0m \u001B[2mtest\u001B[0m\u001B[2m:\u001B[0m input=Comment(\"<FN\")\r\n",
      "\u001B[2m2023-07-17T18:31:39.583529Z\u001B[0m \u001B[32m INFO\u001B[0m \u001B[2mtest\u001B[0m\u001B[2m:\u001B[0m input=Operator(\"+\")\r\n",
      "\u001B[2m2023-07-17T18:31:39.583597Z\u001B[0m \u001B[32m INFO\u001B[0m \u001B[2mtest\u001B[0m\u001B[2m:\u001B[0m input=Identifier(\"SBCvZvs325y304fM03\")\r\n",
      "\u001B[2m2023-07-17T18:31:39.583637Z\u001B[0m \u001B[32m INFO\u001B[0m \u001B[2mtest\u001B[0m\u001B[2m:\u001B[0m input=Integer(3940813680324738634)\r\n",
      "\u001B[2m2023-07-17T18:31:39.583693Z\u001B[0m \u001B[32m INFO\u001B[0m \u001B[2mtest\u001B[0m\u001B[2m:\u001B[0m input=Identifier(\"PWCmkLbsI045\")\r\n",
      "\u001B[2m2023-07-17T18:31:39.583720Z\u001B[0m \u001B[32m INFO\u001B[0m \u001B[2mtest\u001B[0m\u001B[2m:\u001B[0m input=StringLiteral(\".4%;BE`^%tx=0\")\r\n",
      "\u001B[2m2023-07-17T18:31:39.583769Z\u001B[0m \u001B[32m INFO\u001B[0m \u001B[2mtest\u001B[0m\u001B[2m:\u001B[0m input=Operator(\"(\")\r\n",
      "\u001B[2m2023-07-17T18:31:39.583807Z\u001B[0m \u001B[32m INFO\u001B[0m \u001B[2mtest\u001B[0m\u001B[2m:\u001B[0m input=StringLiteral(\"kznX*H.`\")\r\n",
      "\u001B[2m2023-07-17T18:31:39.583871Z\u001B[0m \u001B[32m INFO\u001B[0m \u001B[2mtest\u001B[0m\u001B[2m:\u001B[0m input=Comment(\"`fR$\")\r\n",
      "\u001B[2m2023-07-17T18:31:39.583909Z\u001B[0m \u001B[32m INFO\u001B[0m \u001B[2mtest\u001B[0m\u001B[2m:\u001B[0m input=Operator(\"*\")\r\n",
      "\u001B[2m2023-07-17T18:31:39.584010Z\u001B[0m \u001B[32m INFO\u001B[0m \u001B[2mtest\u001B[0m\u001B[2m:\u001B[0m input=Integer(5731583096128574817)\r\n",
      "\u001B[2m2023-07-17T18:31:39.584074Z\u001B[0m \u001B[32m INFO\u001B[0m \u001B[2mtest\u001B[0m\u001B[2m:\u001B[0m input=Integer(563682926816975992)\r\n",
      "\u001B[2m2023-07-17T18:31:39.584107Z\u001B[0m \u001B[32m INFO\u001B[0m \u001B[2mtest\u001B[0m\u001B[2m:\u001B[0m input=Operator(\")\")\r\n",
      "\u001B[2m2023-07-17T18:31:39.584160Z\u001B[0m \u001B[32m INFO\u001B[0m \u001B[2mtest\u001B[0m\u001B[2m:\u001B[0m input=StringLiteral(\"`T%$:uM}!T=XM@*?f/H6As\")\r\n",
      "\u001B[2m2023-07-17T18:31:39.584207Z\u001B[0m \u001B[32m INFO\u001B[0m \u001B[2mtest\u001B[0m\u001B[2m:\u001B[0m input=Comment(\"s\\\"*d-ZEpo\")\r\n",
      "\u001B[2m2023-07-17T18:31:39.584237Z\u001B[0m \u001B[32m INFO\u001B[0m \u001B[2mtest\u001B[0m\u001B[2m:\u001B[0m input=StringLiteral(\".xV/%{H<D{mMu1*IQm`&\")\r\n",
      "\u001B[2m2023-07-17T18:31:39.584260Z\u001B[0m \u001B[32m INFO\u001B[0m \u001B[2mtest\u001B[0m\u001B[2m:\u001B[0m input=Comment(\"\")\r\n",
      "\u001B[2m2023-07-17T18:31:39.584291Z\u001B[0m \u001B[32m INFO\u001B[0m \u001B[2mtest\u001B[0m\u001B[2m:\u001B[0m input=StringLiteral(\"p<J='+7K'**{F$2k\")\r\n",
      "\u001B[2m2023-07-17T18:31:39.584320Z\u001B[0m \u001B[32m INFO\u001B[0m \u001B[2mtest\u001B[0m\u001B[2m:\u001B[0m input=StringLiteral(\"z*=*ZI*S.5[5<S'+^x;3ZJ\")\r\n",
      "\u001B[2m2023-07-17T18:31:39.584359Z\u001B[0m \u001B[32m INFO\u001B[0m \u001B[2mtest\u001B[0m\u001B[2m:\u001B[0m input=StringLiteral(\"Qd&>G {E/$\")\r\n",
      "\u001B[2m2023-07-17T18:31:39.584381Z\u001B[0m \u001B[32m INFO\u001B[0m \u001B[2mtest\u001B[0m\u001B[2m:\u001B[0m input=Operator(\"=\")\r\n",
      "\u001B[2m2023-07-17T18:31:39.584432Z\u001B[0m \u001B[32m INFO\u001B[0m \u001B[2mtest\u001B[0m\u001B[2m:\u001B[0m input=StringLiteral(\"Y:Vl$']'Tm= *|k&<C%].$'dTP\")\r\n",
      "\u001B[2m2023-07-17T18:31:39.584479Z\u001B[0m \u001B[32m INFO\u001B[0m \u001B[2mtest\u001B[0m\u001B[2m:\u001B[0m input=Comment(\"X?=wb`CUu6^%p\\\"D&50Rd[]{X\\\\,uH?wu\")\r\n",
      "\u001B[2m2023-07-17T18:31:39.584502Z\u001B[0m \u001B[32m INFO\u001B[0m \u001B[2mtest\u001B[0m\u001B[2m:\u001B[0m input=Operator(\"*\")\r\n",
      "\u001B[2m2023-07-17T18:31:39.584522Z\u001B[0m \u001B[32m INFO\u001B[0m \u001B[2mtest\u001B[0m\u001B[2m:\u001B[0m input=Identifier(\"N\")\r\n",
      "\u001B[2m2023-07-17T18:31:39.584562Z\u001B[0m \u001B[32m INFO\u001B[0m \u001B[2mtest\u001B[0m\u001B[2m:\u001B[0m input=Integer(6597017574575416721)\r\n",
      "\u001B[2m2023-07-17T18:31:39.584614Z\u001B[0m \u001B[32m INFO\u001B[0m \u001B[2mtest\u001B[0m\u001B[2m:\u001B[0m input=Identifier(\"TJJaRKXx3KuDhA69Mz7381t2V\")\r\n",
      "\u001B[2m2023-07-17T18:31:39.584665Z\u001B[0m \u001B[32m INFO\u001B[0m \u001B[2mtest\u001B[0m\u001B[2m:\u001B[0m input=StringLiteral(\"XW<&Ku*..lW-3ozL{\")\r\n",
      "\u001B[2m2023-07-17T18:31:39.584726Z\u001B[0m \u001B[32m INFO\u001B[0m \u001B[2mtest\u001B[0m\u001B[2m:\u001B[0m input=Identifier(\"ONbRl\")\r\n",
      "\u001B[2m2023-07-17T18:31:39.584814Z\u001B[0m \u001B[32m INFO\u001B[0m \u001B[2mtest\u001B[0m\u001B[2m:\u001B[0m input=Identifier(\"efxZLhAz8h1D4eLUUhz0F\")\r\n",
      "\u001B[2m2023-07-17T18:31:39.584866Z\u001B[0m \u001B[32m INFO\u001B[0m \u001B[2mtest\u001B[0m\u001B[2m:\u001B[0m input=Identifier(\"nC3\")\r\n",
      "\u001B[2m2023-07-17T18:31:39.584887Z\u001B[0m \u001B[32m INFO\u001B[0m \u001B[2mtest\u001B[0m\u001B[2m:\u001B[0m input=Integer(-3678257048822733369)\r\n",
      "\u001B[2m2023-07-17T18:31:39.584952Z\u001B[0m \u001B[32m INFO\u001B[0m \u001B[2mtest\u001B[0m\u001B[2m:\u001B[0m input=StringLiteral(\" g>*6?Z;p*Pa`Xuh|[YP>N%c{\")\r\n",
      "\u001B[2m2023-07-17T18:31:39.585008Z\u001B[0m \u001B[32m INFO\u001B[0m \u001B[2mtest\u001B[0m\u001B[2m:\u001B[0m input=Comment(\"70N'9aJ0BIiRp$<.~=\")\r\n",
      "\u001B[2m2023-07-17T18:31:39.585050Z\u001B[0m \u001B[32m INFO\u001B[0m \u001B[2mtest\u001B[0m\u001B[2m:\u001B[0m input=Operator(\"*\")\r\n",
      "\u001B[2m2023-07-17T18:31:39.585072Z\u001B[0m \u001B[32m INFO\u001B[0m \u001B[2mtest\u001B[0m\u001B[2m:\u001B[0m input=StringLiteral(\"KnzG\")\r\n",
      "\u001B[2m2023-07-17T18:31:39.585100Z\u001B[0m \u001B[32m INFO\u001B[0m \u001B[2mtest\u001B[0m\u001B[2m:\u001B[0m input=StringLiteral(\"'KcrX-n=[-n%^[%.Qk\")\r\n",
      "\u001B[2m2023-07-17T18:31:39.585147Z\u001B[0m \u001B[32m INFO\u001B[0m \u001B[2mtest\u001B[0m\u001B[2m:\u001B[0m input=Operator(\"/\")\r\n",
      "\u001B[2m2023-07-17T18:31:39.585201Z\u001B[0m \u001B[32m INFO\u001B[0m \u001B[2mtest\u001B[0m\u001B[2m:\u001B[0m input=Identifier(\"Jq7z3dPz2cyzoFxAVc3xIy\")\r\n",
      "\u001B[2m2023-07-17T18:31:39.585270Z\u001B[0m \u001B[32m INFO\u001B[0m \u001B[2mtest\u001B[0m\u001B[2m:\u001B[0m input=Comment(\"SZ%?qB.,u\\\\:tss0!{I.Lq\")\r\n",
      "\u001B[2m2023-07-17T18:31:39.585314Z\u001B[0m \u001B[32m INFO\u001B[0m \u001B[2mtest\u001B[0m\u001B[2m:\u001B[0m input=StringLiteral(\"HTNx=U[y=}\")\r\n",
      "\u001B[2m2023-07-17T18:31:39.585372Z\u001B[0m \u001B[32m INFO\u001B[0m \u001B[2mtest\u001B[0m\u001B[2m:\u001B[0m input=StringLiteral(\"4\")\r\n",
      "\u001B[2m2023-07-17T18:31:39.585443Z\u001B[0m \u001B[32m INFO\u001B[0m \u001B[2mtest\u001B[0m\u001B[2m:\u001B[0m input=Comment(\"< dC?\\\\[\")\r\n",
      "\u001B[2m2023-07-17T18:31:39.585484Z\u001B[0m \u001B[32m INFO\u001B[0m \u001B[2mtest\u001B[0m\u001B[2m:\u001B[0m input=Operator(\")\")\r\n",
      "\u001B[2m2023-07-17T18:31:39.585565Z\u001B[0m \u001B[32m INFO\u001B[0m \u001B[2mtest\u001B[0m\u001B[2m:\u001B[0m input=Comment(\"1P~:<q*sS;w[\")\r\n",
      "\u001B[2m2023-07-17T18:31:39.585617Z\u001B[0m \u001B[32m INFO\u001B[0m \u001B[2mtest\u001B[0m\u001B[2m:\u001B[0m input=StringLiteral(\"u&DB^uYOF:0HGvlaH69{\")\r\n",
      "\u001B[2m2023-07-17T18:31:39.585723Z\u001B[0m \u001B[32m INFO\u001B[0m \u001B[2mtest\u001B[0m\u001B[2m:\u001B[0m input=Operator(\"=\")\r\n",
      "\u001B[2m2023-07-17T18:31:39.585771Z\u001B[0m \u001B[32m INFO\u001B[0m \u001B[2mtest\u001B[0m\u001B[2m:\u001B[0m input=Integer(8651663507037912232)\r\n",
      "\u001B[2m2023-07-17T18:31:39.585791Z\u001B[0m \u001B[32m INFO\u001B[0m \u001B[2mtest\u001B[0m\u001B[2m:\u001B[0m input=Operator(\"+\")\r\n",
      "\u001B[2m2023-07-17T18:31:39.585937Z\u001B[0m \u001B[32m INFO\u001B[0m \u001B[2mtest\u001B[0m\u001B[2m:\u001B[0m input=Integer(-1059648703246323083)\r\n",
      "\u001B[2m2023-07-17T18:31:39.585990Z\u001B[0m \u001B[32m INFO\u001B[0m \u001B[2mtest\u001B[0m\u001B[2m:\u001B[0m input=Identifier(\"s2W87n\")\r\n",
      "\u001B[2m2023-07-17T18:31:39.586068Z\u001B[0m \u001B[32m INFO\u001B[0m \u001B[2mtest\u001B[0m\u001B[2m:\u001B[0m input=Comment(\";\")\r\n",
      "\u001B[2m2023-07-17T18:31:39.586118Z\u001B[0m \u001B[32m INFO\u001B[0m \u001B[2mtest\u001B[0m\u001B[2m:\u001B[0m input=Operator(\"(\")\r\n",
      "\u001B[2m2023-07-17T18:31:39.586138Z\u001B[0m \u001B[32m INFO\u001B[0m \u001B[2mtest\u001B[0m\u001B[2m:\u001B[0m input=Integer(-5871776318203964379)\r\n",
      "\u001B[2m2023-07-17T18:31:39.586157Z\u001B[0m \u001B[32m INFO\u001B[0m \u001B[2mtest\u001B[0m\u001B[2m:\u001B[0m input=Integer(7980236622239380332)\r\n",
      "\u001B[2m2023-07-17T18:31:39.586193Z\u001B[0m \u001B[32m INFO\u001B[0m \u001B[2mtest\u001B[0m\u001B[2m:\u001B[0m input=Identifier(\"ziFDL2o9VAYT15Dt2\")\r\n",
      "\u001B[2m2023-07-17T18:31:39.586216Z\u001B[0m \u001B[32m INFO\u001B[0m \u001B[2mtest\u001B[0m\u001B[2m:\u001B[0m input=Operator(\")\")\r\n",
      "\u001B[2m2023-07-17T18:31:39.586234Z\u001B[0m \u001B[32m INFO\u001B[0m \u001B[2mtest\u001B[0m\u001B[2m:\u001B[0m input=Integer(-1053889546554216610)\r\n",
      "\u001B[2m2023-07-17T18:31:39.586256Z\u001B[0m \u001B[32m INFO\u001B[0m \u001B[2mtest\u001B[0m\u001B[2m:\u001B[0m input=Operator(\"*\")\r\n",
      "\u001B[2m2023-07-17T18:31:39.586281Z\u001B[0m \u001B[32m INFO\u001B[0m \u001B[2mtest\u001B[0m\u001B[2m:\u001B[0m input=Operator(\"+\")\r\n",
      "\u001B[2m2023-07-17T18:31:39.586302Z\u001B[0m \u001B[32m INFO\u001B[0m \u001B[2mtest\u001B[0m\u001B[2m:\u001B[0m input=Comment(\"\")\r\n",
      "\u001B[2m2023-07-17T18:31:39.586333Z\u001B[0m \u001B[32m INFO\u001B[0m \u001B[2mtest\u001B[0m\u001B[2m:\u001B[0m input=Integer(1322131263919968050)\r\n",
      "\u001B[2m2023-07-17T18:31:39.586376Z\u001B[0m \u001B[32m INFO\u001B[0m \u001B[2mtest\u001B[0m\u001B[2m:\u001B[0m input=Identifier(\"WX0A99R2MUDOWgzDwH3LEQU5H\")\r\n",
      "\u001B[2m2023-07-17T18:31:39.586419Z\u001B[0m \u001B[32m INFO\u001B[0m \u001B[2mtest\u001B[0m\u001B[2m:\u001B[0m input=Comment(\"<5\\\"Ti}3g2+*'x.=z'*?W_l Rv\")\r\n",
      "\u001B[2m2023-07-17T18:31:39.586442Z\u001B[0m \u001B[32m INFO\u001B[0m \u001B[2mtest\u001B[0m\u001B[2m:\u001B[0m input=Integer(-4202714586953822708)\r\n",
      "\u001B[2m2023-07-17T18:31:39.586464Z\u001B[0m \u001B[32m INFO\u001B[0m \u001B[2mtest\u001B[0m\u001B[2m:\u001B[0m input=Identifier(\"Hf5aRmk6CHm\")\r\n",
      "\u001B[2m2023-07-17T18:31:39.586522Z\u001B[0m \u001B[32m INFO\u001B[0m \u001B[2mtest\u001B[0m\u001B[2m:\u001B[0m input=Comment(\"P*v{::&]$rsgBr&`%^G-xJ0&tBY\\\\\")\r\n",
      "\u001B[2m2023-07-17T18:31:39.586561Z\u001B[0m \u001B[32m INFO\u001B[0m \u001B[2mtest\u001B[0m\u001B[2m:\u001B[0m input=Comment(\"kp~j\\\"\\\\12@:J~\")\r\n",
      "\u001B[2m2023-07-17T18:31:39.586598Z\u001B[0m \u001B[32m INFO\u001B[0m \u001B[2mtest\u001B[0m\u001B[2m:\u001B[0m input=Identifier(\"V6xkR1Y\")\r\n",
      "\u001B[2m2023-07-17T18:31:39.586631Z\u001B[0m \u001B[32m INFO\u001B[0m \u001B[2mtest\u001B[0m\u001B[2m:\u001B[0m input=Integer(3412171588759025483)\r\n",
      "\u001B[2m2023-07-17T18:31:39.586652Z\u001B[0m \u001B[32m INFO\u001B[0m \u001B[2mtest\u001B[0m\u001B[2m:\u001B[0m input=Operator(\")\")\r\n",
      "\u001B[2m2023-07-17T18:31:39.586671Z\u001B[0m \u001B[32m INFO\u001B[0m \u001B[2mtest\u001B[0m\u001B[2m:\u001B[0m input=Integer(3075478689532562860)\r\n",
      "\u001B[2m2023-07-17T18:31:39.586688Z\u001B[0m \u001B[32m INFO\u001B[0m \u001B[2mtest\u001B[0m\u001B[2m:\u001B[0m input=Integer(-9007990602490872046)\r\n",
      "\u001B[2m2023-07-17T18:31:39.586708Z\u001B[0m \u001B[32m INFO\u001B[0m \u001B[2mtest\u001B[0m\u001B[2m:\u001B[0m input=Comment(\"@\")\r\n",
      "\u001B[2m2023-07-17T18:31:39.586740Z\u001B[0m \u001B[32m INFO\u001B[0m \u001B[2mtest\u001B[0m\u001B[2m:\u001B[0m input=Integer(8575520126206415422)\r\n",
      "\u001B[2m2023-07-17T18:31:39.586770Z\u001B[0m \u001B[32m INFO\u001B[0m \u001B[2mtest\u001B[0m\u001B[2m:\u001B[0m input=Comment(\"?zd\\\\IP&gvED\\\\`]n<$vzwGLf\")\r\n",
      "\u001B[2m2023-07-17T18:31:39.586791Z\u001B[0m \u001B[32m INFO\u001B[0m \u001B[2mtest\u001B[0m\u001B[2m:\u001B[0m input=StringLiteral(\"\")\r\n",
      "\u001B[2m2023-07-17T18:31:39.586852Z\u001B[0m \u001B[32m INFO\u001B[0m \u001B[2mtest\u001B[0m\u001B[2m:\u001B[0m input=Operator(\"=\")\r\n",
      "\u001B[2m2023-07-17T18:31:39.586903Z\u001B[0m \u001B[32m INFO\u001B[0m \u001B[2mtest\u001B[0m\u001B[2m:\u001B[0m input=StringLiteral(\"+%G%=Q7\")\r\n",
      "\u001B[2m2023-07-17T18:31:39.586930Z\u001B[0m \u001B[32m INFO\u001B[0m \u001B[2mtest\u001B[0m\u001B[2m:\u001B[0m input=Comment(\"%1M* _{?L$-^(;2l\")\r\n",
      "\u001B[2m2023-07-17T18:31:39.586966Z\u001B[0m \u001B[32m INFO\u001B[0m \u001B[2mtest\u001B[0m\u001B[2m:\u001B[0m input=Operator(\"/\")\r\n",
      "\u001B[2m2023-07-17T18:31:39.586988Z\u001B[0m \u001B[32m INFO\u001B[0m \u001B[2mtest\u001B[0m\u001B[2m:\u001B[0m input=Operator(\"(\")\r\n",
      "\u001B[2m2023-07-17T18:31:39.587008Z\u001B[0m \u001B[32m INFO\u001B[0m \u001B[2mtest\u001B[0m\u001B[2m:\u001B[0m input=Comment(\"z\")\r\n",
      "\u001B[2m2023-07-17T18:31:39.587031Z\u001B[0m \u001B[32m INFO\u001B[0m \u001B[2mtest\u001B[0m\u001B[2m:\u001B[0m input=Comment(\"Ivn<iK.5P\")\r\n",
      "\u001B[2m2023-07-17T18:31:39.587051Z\u001B[0m \u001B[32m INFO\u001B[0m \u001B[2mtest\u001B[0m\u001B[2m:\u001B[0m input=Operator(\"/\")\r\n",
      "test prop_parse_format_idempotent ... ok\r\n",
      "test adding_and_then_removing_an_item_from_the_cart_leaves_the_cart_unchanged ... ok\r\n",
      "\r\n",
      "test result: ok. 3 passed; 0 failed; 0 ignored; 0 measured; 0 filtered out; finished in 0.10s\r\n",
      "\r\n"
     ]
    }
   ],
   "source": [
    "$env:RUST_LOG=\"info\"\n",
    "{ cargo test --release | Tee-Object test.test.ans } | Invoke-Block"
   ]
  },
  {
   "cell_type": "code",
   "execution_count": null,
   "metadata": {
    "dotnet_repl_cellExecutionStartTime": "2023-07-17T15:31:39.9982503-03:00",
    "dotnet_repl_cellExecutionEndTime": "2023-07-17T15:31:40.0560358-03:00",
    "dotnet_repl_cellExecutionTime": "57.7894ms",
    "dotnet_interactive": {
     "language": "pwsh"
    },
    "polyglot_notebook": {
     "kernelName": "pwsh"
    }
   },
   "outputs": [
    {
     "name": "stdout",
     "output_type": "stream",
     "text": [
      "app=test\r\n"
     ]
    }
   ],
   "source": [
    "{ . \"$ScriptDir/../../target/release/test$(if ($IsWindows) { '.exe' } else { '' })\" | Tee-Object test.out } | Invoke-Block"
   ]
  }
 ],
 "metadata": {
  "kernelspec": {
   "display_name": ".NET (C#)",
   "language": "C#",
   "name": ".net-csharp"
  },
  "language_info": {
   "file_extension": ".cs",
   "mimetype": "text/x-csharp",
   "name": "C#",
   "pygments_lexer": "csharp",
   "version": "10.0"
  },
  "polyglot_notebook": {
   "defaultKernelName": "csharp",
   "items": [
    {
     "name": "csharp"
    }
   ]
  },
  "dotnet_interactive": {
   "defaultKernelName": "csharp",
   "items": [
    {
     "name": "csharp"
    }
   ]
  }
 },
 "nbformat": 4,
 "nbformat_minor": 5
}