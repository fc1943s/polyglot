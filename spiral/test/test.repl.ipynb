{
 "cells": [
  {
   "cell_type": "code",
   "execution_count": null,
   "metadata": {
    "dotnet_repl_cellExecutionStartTime": "2023-06-25T18:52:58.1764329-04:00",
    "dotnet_repl_cellExecutionEndTime": "2023-06-25T18:52:58.903884-04:00",
    "dotnet_interactive": {
     "language": "pwsh"
    },
    "polyglot_notebook": {
     "kernelName": "pwsh"
    }
   },
   "outputs": [],
   "source": [
    "$ScriptDir =\n",
    "    [Environment]::CommandLine -match '--working-dir\\s+(\\S+)' ?\n",
    "        $Matches[1] :\n",
    "        ($m = [Environment]::CommandLine -match '--run\\s+(\\S+)' ? $Matches[1] : $null) -and $m -match '[\\\\/]' ?\n",
    "            (Split-Path -Path $m -Parent) :\n",
    "            [Environment]::CurrentDirectory\n",
    "Set-Location $ScriptDir\n",
    "$ErrorActionPreference = \"Stop\"\n",
    ". ../../scripts/core.ps1"
   ]
  },
  {
   "cell_type": "code",
   "execution_count": null,
   "metadata": {
    "dotnet_repl_cellExecutionStartTime": "2023-06-25T18:52:58.9060737-04:00",
    "dotnet_repl_cellExecutionEndTime": "2023-06-25T18:53:03.0005665-04:00",
    "dotnet_interactive": {
     "language": "pwsh"
    },
    "polyglot_notebook": {
     "kernelName": "pwsh"
    }
   },
   "outputs": [
    {
     "name": "stdout",
     "output_type": "stream",
     "text": [
      "Fable 4.1.4: F# to Rust compiler (status: alpha)\r\n",
      "\r\n",
      "Thanks to the contributor! @inosik\r\n",
      "Stand with Ukraine! https://standwithukraine.com.ua/\r\n",
      "\r\n",
      "Parsing test.fsproj...\r\n",
      "Retrieving project options from cache, in case of issues run `dotnet fable clean` or try `--noCache` option.\r\n",
      "Project and references (1 source files) parsed in 213ms\r\n",
      "\r\n",
      "Started Fable compilation...\r\n",
      "Fable compilation finished in 1685ms\r\n",
      "\r\n",
      ".\\test.fsx(6,0): (6,2) warning FABLE: For Rust, support for F# static and module do bindings is disabled by default. It can be enabled with the 'static_do_bindings' feature. Use at your own risk!\r\n"
     ]
    }
   ],
   "source": [
    "dotnet fable --optimize --lang rs --extension .rs"
   ]
  },
  {
   "cell_type": "code",
   "execution_count": null,
   "metadata": {
    "dotnet_repl_cellExecutionStartTime": "2023-06-25T18:53:03.0006313-04:00",
    "dotnet_repl_cellExecutionEndTime": "2023-06-25T18:53:03.3052716-04:00",
    "dotnet_interactive": {
     "language": "pwsh"
    },
    "polyglot_notebook": {
     "kernelName": "pwsh"
    }
   },
   "outputs": [],
   "source": [
    "cargo fmt --"
   ]
  },
  {
   "cell_type": "code",
   "execution_count": null,
   "metadata": {
    "dotnet_repl_cellExecutionStartTime": "2023-06-25T18:53:03.3053064-04:00",
    "dotnet_repl_cellExecutionEndTime": "2023-06-25T18:53:06.3465314-04:00",
    "dotnet_interactive": {
     "language": "pwsh"
    },
    "polyglot_notebook": {
     "kernelName": "pwsh"
    }
   },
   "outputs": [
    {
     "name": "stdout",
     "output_type": "stream",
     "text": [
      "\u001B[31;1m   Compiling test v0.0.1 (C:\\home\\git\\polyglot\\spiral\\test)\u001B[0m\r\n",
      "\u001B[31;1mwarning: unused import: `info`\u001B[0m\r\n",
      "\u001B[31;1m   --> spiral\\test\\./main.rs:190:15\u001B[0m\r\n",
      "\u001B[31;1m    |\u001B[0m\r\n",
      "\u001B[31;1m190 | use tracing::{info, Level};\u001B[0m\r\n",
      "\u001B[31;1m    |               ^^^^\u001B[0m\r\n",
      "\u001B[31;1m    |\u001B[0m\r\n",
      "\u001B[31;1m    = note: `#[warn(unused_imports)]` on by default\u001B[0m\r\n",
      "\u001B[31;1m\u001B[0m\r\n",
      "\u001B[31;1mwarning: associated items `new`, `add_item`, and `remove_item` are never used\u001B[0m\r\n",
      "\u001B[31;1m  --> spiral\\test\\./main.rs:46:8\u001B[0m\r\n",
      "\u001B[31;1m   |\u001B[0m\r\n",
      "\u001B[31;1m45 | impl Cart {\u001B[0m\r\n",
      "\u001B[31;1m   | --------- associated items in this implementation\u001B[0m\r\n",
      "\u001B[31;1m46 |     fn new() -> Cart {\u001B[0m\r\n",
      "\u001B[31;1m   |        ^^^\u001B[0m\r\n",
      "\u001B[31;1m...\u001B[0m\r\n",
      "\u001B[31;1m50 |     fn add_item(&mut self, item: Item) {\u001B[0m\r\n",
      "\u001B[31;1m   |        ^^^^^^^^\u001B[0m\r\n",
      "\u001B[31;1m...\u001B[0m\r\n",
      "\u001B[31;1m56 |     fn remove_item(&mut self, item: &Item) {\u001B[0m\r\n",
      "\u001B[31;1m   |        ^^^^^^^^^^^\u001B[0m\r\n",
      "\u001B[31;1m   |\u001B[0m\r\n",
      "\u001B[31;1m   = note: `#[warn(dead_code)]` on by default\u001B[0m\r\n",
      "\u001B[31;1m\u001B[0m\r\n",
      "\u001B[31;1mwarning: function `parse_comment` is never used\u001B[0m\r\n",
      "\u001B[31;1m   --> spiral\\test\\./main.rs:124:4\u001B[0m\r\n",
      "\u001B[31;1m    |\u001B[0m\r\n",
      "\u001B[31;1m124 | fn parse_comment(input: &str) -> IResult<&str, SpiralToken> {\u001B[0m\r\n",
      "\u001B[31;1m    |    ^^^^^^^^^^^^^\u001B[0m\r\n",
      "\u001B[31;1m\u001B[0m\r\n",
      "\u001B[31;1mwarning: function `parse_string` is never used\u001B[0m\r\n",
      "\u001B[31;1m   --> spiral\\test\\./main.rs:130:4\u001B[0m\r\n",
      "\u001B[31;1m    |\u001B[0m\r\n",
      "\u001B[31;1m130 | fn parse_string(input: &str) -> IResult<&str, SpiralToken> {\u001B[0m\r\n",
      "\u001B[31;1m    |    ^^^^^^^^^^^^\u001B[0m\r\n",
      "\u001B[31;1m\u001B[0m\r\n",
      "\u001B[31;1mwarning: function `parse_identifier` is never used\u001B[0m\r\n",
      "\u001B[31;1m   --> spiral\\test\\./main.rs:145:4\u001B[0m\r\n",
      "\u001B[31;1m    |\u001B[0m\r\n",
      "\u001B[31;1m145 | fn parse_identifier(input: &str) -> IResult<&str, SpiralToken> {\u001B[0m\r\n",
      "\u001B[31;1m    |    ^^^^^^^^^^^^^^^^\u001B[0m\r\n",
      "\u001B[31;1m\u001B[0m\r\n",
      "\u001B[31;1mwarning: function `parse_integer` is never used\u001B[0m\r\n",
      "\u001B[31;1m   --> spiral\\test\\./main.rs:157:4\u001B[0m\r\n",
      "\u001B[31;1m    |\u001B[0m\r\n",
      "\u001B[31;1m157 | fn parse_integer(input: &str) -> IResult<&str, SpiralToken> {\u001B[0m\r\n",
      "\u001B[31;1m    |    ^^^^^^^^^^^^^\u001B[0m\r\n",
      "\u001B[31;1m\u001B[0m\r\n",
      "\u001B[31;1mwarning: function `parse_operator` is never used\u001B[0m\r\n",
      "\u001B[31;1m   --> spiral\\test\\./main.rs:165:4\u001B[0m\r\n",
      "\u001B[31;1m    |\u001B[0m\r\n",
      "\u001B[31;1m165 | fn parse_operator(input: &str) -> IResult<&str, SpiralToken> {\u001B[0m\r\n",
      "\u001B[31;1m    |    ^^^^^^^^^^^^^^\u001B[0m\r\n",
      "\u001B[31;1m\u001B[0m\r\n",
      "\u001B[31;1mwarning: function `parse_token` is never used\u001B[0m\r\n",
      "\u001B[31;1m   --> spiral\\test\\./main.rs:170:4\u001B[0m\r\n",
      "\u001B[31;1m    |\u001B[0m\r\n",
      "\u001B[31;1m170 | fn parse_token(input: &str) -> IResult<&str, SpiralToken> {\u001B[0m\r\n",
      "\u001B[31;1m    |    ^^^^^^^^^^^\u001B[0m\r\n",
      "\u001B[31;1m\u001B[0m\r\n",
      "\u001B[31;1mwarning: function `format_token` is never used\u001B[0m\r\n",
      "\u001B[31;1m   --> spiral\\test\\./main.rs:180:4\u001B[0m\r\n",
      "\u001B[31;1m    |\u001B[0m\r\n",
      "\u001B[31;1m180 | fn format_token(token: &SpiralToken) -> String {\u001B[0m\r\n",
      "\u001B[31;1m    |    ^^^^^^^^^^^^\u001B[0m\r\n",
      "\u001B[31;1m\u001B[0m\r\n",
      "\u001B[31;1mwarning: function `parse_expression` is never used\u001B[0m\r\n",
      "\u001B[31;1m   --> spiral\\test\\./main.rs:213:4\u001B[0m\r\n",
      "\u001B[31;1m    |\u001B[0m\r\n",
      "\u001B[31;1m213 | fn parse_expression(input: &str) -> IResult<&str, SpiralToken> {\u001B[0m\r\n",
      "\u001B[31;1m    |    ^^^^^^^^^^^^^^^^\u001B[0m\r\n",
      "\u001B[31;1m\u001B[0m\r\n",
      "\u001B[31;1mwarning: `test` (bin \"test\") generated 10 warnings (run `cargo fix --bin \"test\"` to apply 1 suggestion)\u001B[0m\r\n",
      "\u001B[31;1m    Finished release [optimized] target(s) in 2.77s\u001B[0m\r\n"
     ]
    }
   ],
   "source": [
    "cargo build --release"
   ]
  },
  {
   "cell_type": "code",
   "execution_count": null,
   "metadata": {
    "dotnet_repl_cellExecutionStartTime": "2023-06-25T18:53:06.3465745-04:00",
    "dotnet_repl_cellExecutionEndTime": "2023-06-25T18:53:12.5680243-04:00",
    "dotnet_interactive": {
     "language": "pwsh"
    },
    "polyglot_notebook": {
     "kernelName": "pwsh"
    }
   },
   "outputs": [
    {
     "name": "stdout",
     "output_type": "stream",
     "text": [
      "\u001B[31;1m   Compiling test v0.0.1 (C:\\home\\git\\polyglot\\spiral\\test)\u001B[0m\r\n",
      "\u001B[31;1m    Finished release [optimized] target(s) in 5.45s\u001B[0m\r\n",
      "\u001B[31;1m     Running unittests main.rs (C:\\home\\git\\polyglot\\target\\release\\deps\\test-c33bdbd057fd7d59.exe)\u001B[0m\r\n",
      "\r\n",
      "running 3 tests\r\n",
      "test test_parse_number ... ok\r\n",
      "\u001B[2m2023-06-25T22:53:12.074185Z\u001B[0m \u001B[32m INFO\u001B[0m \u001B[2mtest\u001B[0m\u001B[2m:\u001B[0m input=Comment(\"kJ../%N{.!$,E=y/\")\r\n",
      "\u001B[2m2023-06-25T22:53:12.074364Z\u001B[0m \u001B[32m INFO\u001B[0m \u001B[2mtest\u001B[0m\u001B[2m:\u001B[0m input=StringLiteral(\"\")\r\n",
      "\u001B[2m2023-06-25T22:53:12.074539Z\u001B[0m \u001B[32m INFO\u001B[0m \u001B[2mtest\u001B[0m\u001B[2m:\u001B[0m input=Identifier(\"x\")\r\n",
      "\u001B[2m2023-06-25T22:53:12.074588Z\u001B[0m \u001B[32m INFO\u001B[0m \u001B[2mtest\u001B[0m\u001B[2m:\u001B[0m input=Operator(\"+\")\r\n",
      "\u001B[2m2023-06-25T22:53:12.074622Z\u001B[0m \u001B[32m INFO\u001B[0m \u001B[2mtest\u001B[0m\u001B[2m:\u001B[0m input=StringLiteral(\"!&u'\")\r\n",
      "\u001B[2m2023-06-25T22:53:12.074672Z\u001B[0m \u001B[32m INFO\u001B[0m \u001B[2mtest\u001B[0m\u001B[2m:\u001B[0m input=Comment(\",5/=2vB2[/b< K\")\r\n",
      "\u001B[2m2023-06-25T22:53:12.074791Z\u001B[0m \u001B[32m INFO\u001B[0m \u001B[2mtest\u001B[0m\u001B[2m:\u001B[0m input=Integer(-6825561901214202563)\r\n",
      "\u001B[2m2023-06-25T22:53:12.074890Z\u001B[0m \u001B[32m INFO\u001B[0m \u001B[2mtest\u001B[0m\u001B[2m:\u001B[0m input=Integer(8025317304360129535)\r\n",
      "\u001B[2m2023-06-25T22:53:12.074942Z\u001B[0m \u001B[32m INFO\u001B[0m \u001B[2mtest\u001B[0m\u001B[2m:\u001B[0m input=Integer(-4553518917610853650)\r\n",
      "\u001B[2m2023-06-25T22:53:12.074990Z\u001B[0m \u001B[32m INFO\u001B[0m \u001B[2mtest\u001B[0m\u001B[2m:\u001B[0m input=StringLiteral(\"~GF#?<=mPxU=rC<7w,$z==&k`&|<ozq\")\r\n",
      "\u001B[2m2023-06-25T22:53:12.075038Z\u001B[0m \u001B[32m INFO\u001B[0m \u001B[2mtest\u001B[0m\u001B[2m:\u001B[0m input=StringLiteral(\".RTo`^gkXh<P#Rw<zl*E:!\")\r\n",
      "\u001B[2m2023-06-25T22:53:12.075127Z\u001B[0m \u001B[32m INFO\u001B[0m \u001B[2mtest\u001B[0m\u001B[2m:\u001B[0m input=Integer(-8363847394854961652)\r\n",
      "\u001B[2m2023-06-25T22:53:12.075209Z\u001B[0m \u001B[32m INFO\u001B[0m \u001B[2mtest\u001B[0m\u001B[2m:\u001B[0m input=Identifier(\"TkFF5G0FRPz9735sZAq29eMv\")\r\n",
      "\u001B[2m2023-06-25T22:53:12.075270Z\u001B[0m \u001B[32m INFO\u001B[0m \u001B[2mtest\u001B[0m\u001B[2m:\u001B[0m input=StringLiteral(\"^Qw=B$\")\r\n",
      "\u001B[2m2023-06-25T22:53:12.075330Z\u001B[0m \u001B[32m INFO\u001B[0m \u001B[2mtest\u001B[0m\u001B[2m:\u001B[0m input=StringLiteral(\".3dV %4/~o0M.$3\")\r\n",
      "\u001B[2m2023-06-25T22:53:12.075404Z\u001B[0m \u001B[32m INFO\u001B[0m \u001B[2mtest\u001B[0m\u001B[2m:\u001B[0m input=StringLiteral(\"Bzq/P/%c]*H|\")\r\n",
      "\u001B[2m2023-06-25T22:53:12.075480Z\u001B[0m \u001B[32m INFO\u001B[0m \u001B[2mtest\u001B[0m\u001B[2m:\u001B[0m input=Comment(\"Icu{)O{$12h8.pA.]&g/\")\r\n",
      "\u001B[2m2023-06-25T22:53:12.075543Z\u001B[0m \u001B[32m INFO\u001B[0m \u001B[2mtest\u001B[0m\u001B[2m:\u001B[0m input=Identifier(\"TtJ3SJZ1gzKTG510bX9QnJga\")\r\n",
      "\u001B[2m2023-06-25T22:53:12.075578Z\u001B[0m \u001B[32m INFO\u001B[0m \u001B[2mtest\u001B[0m\u001B[2m:\u001B[0m input=Comment(\"R\")\r\n",
      "\u001B[2m2023-06-25T22:53:12.075647Z\u001B[0m \u001B[32m INFO\u001B[0m \u001B[2mtest\u001B[0m\u001B[2m:\u001B[0m input=StringLiteral(\"[Gm?K{z/qt*/*&Oq|d_%$%9;</&'\")\r\n",
      "\u001B[2m2023-06-25T22:53:12.075755Z\u001B[0m \u001B[32m INFO\u001B[0m \u001B[2mtest\u001B[0m\u001B[2m:\u001B[0m input=Operator(\")\")\r\n",
      "\u001B[2m2023-06-25T22:53:12.075800Z\u001B[0m \u001B[32m INFO\u001B[0m \u001B[2mtest\u001B[0m\u001B[2m:\u001B[0m input=Integer(3610334127446272955)\r\n",
      "\u001B[2m2023-06-25T22:53:12.075824Z\u001B[0m \u001B[32m INFO\u001B[0m \u001B[2mtest\u001B[0m\u001B[2m:\u001B[0m input=Operator(\"/\")\r\n",
      "\u001B[2m2023-06-25T22:53:12.075851Z\u001B[0m \u001B[32m INFO\u001B[0m \u001B[2mtest\u001B[0m\u001B[2m:\u001B[0m input=Comment(\"l\\\\p)2`s&\\\\^{$O]..\")\r\n",
      "\u001B[2m2023-06-25T22:53:12.075897Z\u001B[0m \u001B[32m INFO\u001B[0m \u001B[2mtest\u001B[0m\u001B[2m:\u001B[0m input=Operator(\"-\")\r\n",
      "\u001B[2m2023-06-25T22:53:12.075932Z\u001B[0m \u001B[32m INFO\u001B[0m \u001B[2mtest\u001B[0m\u001B[2m:\u001B[0m input=Operator(\"=\")\r\n",
      "\u001B[2m2023-06-25T22:53:12.075962Z\u001B[0m \u001B[32m INFO\u001B[0m \u001B[2mtest\u001B[0m\u001B[2m:\u001B[0m input=Integer(6288688609291929084)\r\n",
      "\u001B[2m2023-06-25T22:53:12.076016Z\u001B[0m \u001B[32m INFO\u001B[0m \u001B[2mtest\u001B[0m\u001B[2m:\u001B[0m input=Comment(\">?{3*=m%846+)i`u;V=x`B`<<'/S\")\r\n",
      "\u001B[2m2023-06-25T22:53:12.076042Z\u001B[0m \u001B[32m INFO\u001B[0m \u001B[2mtest\u001B[0m\u001B[2m:\u001B[0m input=Operator(\"/\")\r\n",
      "\u001B[2m2023-06-25T22:53:12.076098Z\u001B[0m \u001B[32m INFO\u001B[0m \u001B[2mtest\u001B[0m\u001B[2m:\u001B[0m input=Integer(-7861327946900247048)\r\n",
      "\u001B[2m2023-06-25T22:53:12.076144Z\u001B[0m \u001B[32m INFO\u001B[0m \u001B[2mtest\u001B[0m\u001B[2m:\u001B[0m input=Comment(\"!\")\r\n",
      "\u001B[2m2023-06-25T22:53:12.076185Z\u001B[0m \u001B[32m INFO\u001B[0m \u001B[2mtest\u001B[0m\u001B[2m:\u001B[0m input=Integer(4191091450225726838)\r\n",
      "\u001B[2m2023-06-25T22:53:12.076210Z\u001B[0m \u001B[32m INFO\u001B[0m \u001B[2mtest\u001B[0m\u001B[2m:\u001B[0m input=Comment(\"/B{31d=c/\")\r\n",
      "\u001B[2m2023-06-25T22:53:12.076230Z\u001B[0m \u001B[32m INFO\u001B[0m \u001B[2mtest\u001B[0m\u001B[2m:\u001B[0m input=Operator(\"*\")\r\n",
      "\u001B[2m2023-06-25T22:53:12.076283Z\u001B[0m \u001B[32m INFO\u001B[0m \u001B[2mtest\u001B[0m\u001B[2m:\u001B[0m input=Identifier(\"uB1424itj\")\r\n",
      "\u001B[2m2023-06-25T22:53:12.076317Z\u001B[0m \u001B[32m INFO\u001B[0m \u001B[2mtest\u001B[0m\u001B[2m:\u001B[0m input=Integer(-7428585552372771911)\r\n",
      "\u001B[2m2023-06-25T22:53:12.076426Z\u001B[0m \u001B[32m INFO\u001B[0m \u001B[2mtest\u001B[0m\u001B[2m:\u001B[0m input=StringLiteral(\")i2\")\r\n",
      "\u001B[2m2023-06-25T22:53:12.076485Z\u001B[0m \u001B[32m INFO\u001B[0m \u001B[2mtest\u001B[0m\u001B[2m:\u001B[0m input=Comment(\":<\\\":Kr*,j\")\r\n",
      "\u001B[2m2023-06-25T22:53:12.076518Z\u001B[0m \u001B[32m INFO\u001B[0m \u001B[2mtest\u001B[0m\u001B[2m:\u001B[0m input=Integer(3805001312596505890)\r\n",
      "\u001B[2m2023-06-25T22:53:12.076595Z\u001B[0m \u001B[32m INFO\u001B[0m \u001B[2mtest\u001B[0m\u001B[2m:\u001B[0m input=Comment(\"54=7\\\"XG~mK._))2aZE:~$[(v</:G{2%\")\r\n",
      "\u001B[2m2023-06-25T22:53:12.076645Z\u001B[0m \u001B[32m INFO\u001B[0m \u001B[2mtest\u001B[0m\u001B[2m:\u001B[0m input=StringLiteral(\"@j]I6&AGD}\")\r\n",
      "\u001B[2m2023-06-25T22:53:12.076699Z\u001B[0m \u001B[32m INFO\u001B[0m \u001B[2mtest\u001B[0m\u001B[2m:\u001B[0m input=Identifier(\"Y7owxt21B212n7BJACep\")\r\n",
      "\u001B[2m2023-06-25T22:53:12.076765Z\u001B[0m \u001B[32m INFO\u001B[0m \u001B[2mtest\u001B[0m\u001B[2m:\u001B[0m input=Identifier(\"sDT1vENjZpZnSOXK03C0\")\r\n",
      "\u001B[2m2023-06-25T22:53:12.076821Z\u001B[0m \u001B[32m INFO\u001B[0m \u001B[2mtest\u001B[0m\u001B[2m:\u001B[0m input=StringLiteral(\"&ZFpe/J|>F,\")\r\n",
      "\u001B[2m2023-06-25T22:53:12.076849Z\u001B[0m \u001B[32m INFO\u001B[0m \u001B[2mtest\u001B[0m\u001B[2m:\u001B[0m input=Comment(\"kN$.F*3/Z1 /=Qm(\")\r\n",
      "\u001B[2m2023-06-25T22:53:12.076885Z\u001B[0m \u001B[32m INFO\u001B[0m \u001B[2mtest\u001B[0m\u001B[2m:\u001B[0m input=StringLiteral(\"F9<^%b06$@2`\")\r\n",
      "\u001B[2m2023-06-25T22:53:12.076905Z\u001B[0m \u001B[32m INFO\u001B[0m \u001B[2mtest\u001B[0m\u001B[2m:\u001B[0m input=Integer(-6953563551110590636)\r\n",
      "\u001B[2m2023-06-25T22:53:12.076925Z\u001B[0m \u001B[32m INFO\u001B[0m \u001B[2mtest\u001B[0m\u001B[2m:\u001B[0m input=Operator(\"*\")\r\n",
      "\u001B[2m2023-06-25T22:53:12.076947Z\u001B[0m \u001B[32m INFO\u001B[0m \u001B[2mtest\u001B[0m\u001B[2m:\u001B[0m input=Comment(\"GWs'Q&( Z\")\r\n",
      "\u001B[2m2023-06-25T22:53:12.076988Z\u001B[0m \u001B[32m INFO\u001B[0m \u001B[2mtest\u001B[0m\u001B[2m:\u001B[0m input=StringLiteral(\"{>YQQd6;/'q`J2:\")\r\n",
      "\u001B[2m2023-06-25T22:53:12.077033Z\u001B[0m \u001B[32m INFO\u001B[0m \u001B[2mtest\u001B[0m\u001B[2m:\u001B[0m input=Identifier(\"kD9xsWDyCGv140N34h7\")\r\n",
      "\u001B[2m2023-06-25T22:53:12.077087Z\u001B[0m \u001B[32m INFO\u001B[0m \u001B[2mtest\u001B[0m\u001B[2m:\u001B[0m input=Integer(-273233037391036969)\r\n",
      "\u001B[2m2023-06-25T22:53:12.077121Z\u001B[0m \u001B[32m INFO\u001B[0m \u001B[2mtest\u001B[0m\u001B[2m:\u001B[0m input=Operator(\"*\")\r\n",
      "\u001B[2m2023-06-25T22:53:12.077143Z\u001B[0m \u001B[32m INFO\u001B[0m \u001B[2mtest\u001B[0m\u001B[2m:\u001B[0m input=Integer(2637061441080111325)\r\n",
      "\u001B[2m2023-06-25T22:53:12.077189Z\u001B[0m \u001B[32m INFO\u001B[0m \u001B[2mtest\u001B[0m\u001B[2m:\u001B[0m input=Identifier(\"HUojXF603lXmUdzSPR6Qyxn4lr\")\r\n",
      "\u001B[2m2023-06-25T22:53:12.077214Z\u001B[0m \u001B[32m INFO\u001B[0m \u001B[2mtest\u001B[0m\u001B[2m:\u001B[0m input=Operator(\"=\")\r\n",
      "\u001B[2m2023-06-25T22:53:12.077239Z\u001B[0m \u001B[32m INFO\u001B[0m \u001B[2mtest\u001B[0m\u001B[2m:\u001B[0m input=Integer(4540186308617713737)\r\n",
      "\u001B[2m2023-06-25T22:53:12.077338Z\u001B[0m \u001B[32m INFO\u001B[0m \u001B[2mtest\u001B[0m\u001B[2m:\u001B[0m input=Comment(\"{n/((`=6yI2\\\\C=.sjBJ?D|Q@G\\\\HA%e/p\")\r\n",
      "\u001B[2m2023-06-25T22:53:12.077393Z\u001B[0m \u001B[32m INFO\u001B[0m \u001B[2mtest\u001B[0m\u001B[2m:\u001B[0m input=Operator(\"-\")\r\n",
      "\u001B[2m2023-06-25T22:53:12.077433Z\u001B[0m \u001B[32m INFO\u001B[0m \u001B[2mtest\u001B[0m\u001B[2m:\u001B[0m input=Identifier(\"VStP72745S3j6Ntb1m65Lh1\")\r\n",
      "\u001B[2m2023-06-25T22:53:12.077538Z\u001B[0m \u001B[32m INFO\u001B[0m \u001B[2mtest\u001B[0m\u001B[2m:\u001B[0m input=Comment(\"4WJ|=%Z($,?C'?s8#?A\")\r\n",
      "\u001B[2m2023-06-25T22:53:12.077591Z\u001B[0m \u001B[32m INFO\u001B[0m \u001B[2mtest\u001B[0m\u001B[2m:\u001B[0m input=StringLiteral(\"xM?H&\")\r\n",
      "\u001B[2m2023-06-25T22:53:12.077636Z\u001B[0m \u001B[32m INFO\u001B[0m \u001B[2mtest\u001B[0m\u001B[2m:\u001B[0m input=StringLiteral(\"*+'b/&^.C3:T/iMo;|5\")\r\n",
      "\u001B[2m2023-06-25T22:53:12.077674Z\u001B[0m \u001B[32m INFO\u001B[0m \u001B[2mtest\u001B[0m\u001B[2m:\u001B[0m input=Operator(\"*\")\r\n",
      "\u001B[2m2023-06-25T22:53:12.077703Z\u001B[0m \u001B[32m INFO\u001B[0m \u001B[2mtest\u001B[0m\u001B[2m:\u001B[0m input=Comment(\"A9\\\"/0\\\"lMA\")\r\n",
      "\u001B[2m2023-06-25T22:53:12.077783Z\u001B[0m \u001B[32m INFO\u001B[0m \u001B[2mtest\u001B[0m\u001B[2m:\u001B[0m input=Identifier(\"lYRm3t4uqd2lW8gLGg\")\r\n",
      "\u001B[2m2023-06-25T22:53:12.077856Z\u001B[0m \u001B[32m INFO\u001B[0m \u001B[2mtest\u001B[0m\u001B[2m:\u001B[0m input=Identifier(\"GQBixXpp310Gn83btKNLhFNg\")\r\n",
      "\u001B[2m2023-06-25T22:53:12.077896Z\u001B[0m \u001B[32m INFO\u001B[0m \u001B[2mtest\u001B[0m\u001B[2m:\u001B[0m input=Operator(\"-\")\r\n",
      "\u001B[2m2023-06-25T22:53:12.077963Z\u001B[0m \u001B[32m INFO\u001B[0m \u001B[2mtest\u001B[0m\u001B[2m:\u001B[0m input=Identifier(\"ORk2CO7Ox214SqiNWJXyM\")\r\n",
      "\u001B[2m2023-06-25T22:53:12.078007Z\u001B[0m \u001B[32m INFO\u001B[0m \u001B[2mtest\u001B[0m\u001B[2m:\u001B[0m input=Comment(\"if;]`\\\"x8:z\")\r\n",
      "\u001B[2m2023-06-25T22:53:12.078059Z\u001B[0m \u001B[32m INFO\u001B[0m \u001B[2mtest\u001B[0m\u001B[2m:\u001B[0m input=Integer(6464857669896032273)\r\n",
      "\u001B[2m2023-06-25T22:53:12.078092Z\u001B[0m \u001B[32m INFO\u001B[0m \u001B[2mtest\u001B[0m\u001B[2m:\u001B[0m input=Operator(\"-\")\r\n",
      "\u001B[2m2023-06-25T22:53:12.078141Z\u001B[0m \u001B[32m INFO\u001B[0m \u001B[2mtest\u001B[0m\u001B[2m:\u001B[0m input=Identifier(\"SkPU5nNgz3CkSO5Nf8g06twT\")\r\n",
      "\u001B[2m2023-06-25T22:53:12.078203Z\u001B[0m \u001B[32m INFO\u001B[0m \u001B[2mtest\u001B[0m\u001B[2m:\u001B[0m input=StringLiteral(\"g?-6:E!`\")\r\n",
      "\u001B[2m2023-06-25T22:53:12.078243Z\u001B[0m \u001B[32m INFO\u001B[0m \u001B[2mtest\u001B[0m\u001B[2m:\u001B[0m input=Operator(\"=\")\r\n",
      "\u001B[2m2023-06-25T22:53:12.078303Z\u001B[0m \u001B[32m INFO\u001B[0m \u001B[2mtest\u001B[0m\u001B[2m:\u001B[0m input=StringLiteral(\"_[<|\")\r\n",
      "\u001B[2m2023-06-25T22:53:12.078356Z\u001B[0m \u001B[32m INFO\u001B[0m \u001B[2mtest\u001B[0m\u001B[2m:\u001B[0m input=Comment(\"?=.b,{'|8QX^s@_\\\"*\\\"\")\r\n",
      "\u001B[2m2023-06-25T22:53:12.078438Z\u001B[0m \u001B[32m INFO\u001B[0m \u001B[2mtest\u001B[0m\u001B[2m:\u001B[0m input=Comment(\"kP'<t$:.H\")\r\n",
      "\u001B[2m2023-06-25T22:53:12.078515Z\u001B[0m \u001B[32m INFO\u001B[0m \u001B[2mtest\u001B[0m\u001B[2m:\u001B[0m input=Integer(2071826929965384988)\r\n",
      "\u001B[2m2023-06-25T22:53:12.078548Z\u001B[0m \u001B[32m INFO\u001B[0m \u001B[2mtest\u001B[0m\u001B[2m:\u001B[0m input=Operator(\"(\")\r\n",
      "\u001B[2m2023-06-25T22:53:12.078586Z\u001B[0m \u001B[32m INFO\u001B[0m \u001B[2mtest\u001B[0m\u001B[2m:\u001B[0m input=Identifier(\"qz7vSGpRbJJZc\")\r\n",
      "\u001B[2m2023-06-25T22:53:12.078647Z\u001B[0m \u001B[32m INFO\u001B[0m \u001B[2mtest\u001B[0m\u001B[2m:\u001B[0m input=Comment(\"I\")\r\n",
      "\u001B[2m2023-06-25T22:53:12.078689Z\u001B[0m \u001B[32m INFO\u001B[0m \u001B[2mtest\u001B[0m\u001B[2m:\u001B[0m input=StringLiteral(\"Sbij[Xv%'?~<VlqA6\")\r\n",
      "\u001B[2m2023-06-25T22:53:12.078770Z\u001B[0m \u001B[32m INFO\u001B[0m \u001B[2mtest\u001B[0m\u001B[2m:\u001B[0m input=Operator(\"=\")\r\n",
      "\u001B[2m2023-06-25T22:53:12.078859Z\u001B[0m \u001B[32m INFO\u001B[0m \u001B[2mtest\u001B[0m\u001B[2m:\u001B[0m input=Identifier(\"Dp79D9OOAxEpwhXoNWJMNhw0\")\r\n",
      "\u001B[2m2023-06-25T22:53:12.078921Z\u001B[0m \u001B[32m INFO\u001B[0m \u001B[2mtest\u001B[0m\u001B[2m:\u001B[0m input=Operator(\")\")\r\n",
      "\u001B[2m2023-06-25T22:53:12.078956Z\u001B[0m \u001B[32m INFO\u001B[0m \u001B[2mtest\u001B[0m\u001B[2m:\u001B[0m input=Operator(\"(\")\r\n",
      "\u001B[2m2023-06-25T22:53:12.079023Z\u001B[0m \u001B[32m INFO\u001B[0m \u001B[2mtest\u001B[0m\u001B[2m:\u001B[0m input=Comment(\"!<xY11 /)\\\\',20\\\\V'0\")\r\n",
      "\u001B[2m2023-06-25T22:53:12.079069Z\u001B[0m \u001B[32m INFO\u001B[0m \u001B[2mtest\u001B[0m\u001B[2m:\u001B[0m input=StringLiteral(\".'l8]+=:\")\r\n",
      "\u001B[2m2023-06-25T22:53:12.079150Z\u001B[0m \u001B[32m INFO\u001B[0m \u001B[2mtest\u001B[0m\u001B[2m:\u001B[0m input=Operator(\"-\")\r\n",
      "\u001B[2m2023-06-25T22:53:12.079228Z\u001B[0m \u001B[32m INFO\u001B[0m \u001B[2mtest\u001B[0m\u001B[2m:\u001B[0m input=Identifier(\"D\")\r\n",
      "\u001B[2m2023-06-25T22:53:12.079262Z\u001B[0m \u001B[32m INFO\u001B[0m \u001B[2mtest\u001B[0m\u001B[2m:\u001B[0m input=Integer(8072097732252302304)\r\n",
      "\u001B[2m2023-06-25T22:53:12.079312Z\u001B[0m \u001B[32m INFO\u001B[0m \u001B[2mtest\u001B[0m\u001B[2m:\u001B[0m input=Integer(-1403048976207025652)\r\n",
      "\u001B[2m2023-06-25T22:53:12.079345Z\u001B[0m \u001B[32m INFO\u001B[0m \u001B[2mtest\u001B[0m\u001B[2m:\u001B[0m input=Operator(\"*\")\r\n",
      "\u001B[2m2023-06-25T22:53:12.079374Z\u001B[0m \u001B[32m INFO\u001B[0m \u001B[2mtest\u001B[0m\u001B[2m:\u001B[0m input=Integer(-8455292427828678774)\r\n",
      "\u001B[2m2023-06-25T22:53:12.079423Z\u001B[0m \u001B[32m INFO\u001B[0m \u001B[2mtest\u001B[0m\u001B[2m:\u001B[0m input=Integer(7645889048274201291)\r\n",
      "\u001B[2m2023-06-25T22:53:12.079454Z\u001B[0m \u001B[32m INFO\u001B[0m \u001B[2mtest\u001B[0m\u001B[2m:\u001B[0m input=Operator(\"*\")\r\n",
      "\u001B[2m2023-06-25T22:53:12.079492Z\u001B[0m \u001B[32m INFO\u001B[0m \u001B[2mtest\u001B[0m\u001B[2m:\u001B[0m input=StringLiteral(\"G:wr&#'uC}?l=\")\r\n",
      "\u001B[2m2023-06-25T22:53:12.079541Z\u001B[0m \u001B[32m INFO\u001B[0m \u001B[2mtest\u001B[0m\u001B[2m:\u001B[0m input=Integer(-34256735665799247)\r\n",
      "\u001B[2m2023-06-25T22:53:12.079566Z\u001B[0m \u001B[32m INFO\u001B[0m \u001B[2mtest\u001B[0m\u001B[2m:\u001B[0m input=Integer(-8812533936747272542)\r\n",
      "\u001B[2m2023-06-25T22:53:12.079588Z\u001B[0m \u001B[32m INFO\u001B[0m \u001B[2mtest\u001B[0m\u001B[2m:\u001B[0m input=Integer(-1162341043890938029)\r\n",
      "\u001B[2m2023-06-25T22:53:12.079634Z\u001B[0m \u001B[32m INFO\u001B[0m \u001B[2mtest\u001B[0m\u001B[2m:\u001B[0m input=Identifier(\"XXI\")\r\n",
      "\u001B[2m2023-06-25T22:53:12.079698Z\u001B[0m \u001B[32m INFO\u001B[0m \u001B[2mtest\u001B[0m\u001B[2m:\u001B[0m input=StringLiteral(\"-\")\r\n",
      "\u001B[2m2023-06-25T22:53:12.079801Z\u001B[0m \u001B[32m INFO\u001B[0m \u001B[2mtest\u001B[0m\u001B[2m:\u001B[0m input=StringLiteral(\"QCVn\")\r\n",
      "\u001B[2m2023-06-25T22:53:12.079897Z\u001B[0m \u001B[32m INFO\u001B[0m \u001B[2mtest\u001B[0m\u001B[2m:\u001B[0m input=Operator(\"/\")\r\n",
      "\u001B[2m2023-06-25T22:53:12.079934Z\u001B[0m \u001B[32m INFO\u001B[0m \u001B[2mtest\u001B[0m\u001B[2m:\u001B[0m input=StringLiteral(\"N/\")\r\n",
      "\u001B[2m2023-06-25T22:53:12.079995Z\u001B[0m \u001B[32m INFO\u001B[0m \u001B[2mtest\u001B[0m\u001B[2m:\u001B[0m input=StringLiteral(\"K(\")\r\n",
      "\u001B[2m2023-06-25T22:53:12.080034Z\u001B[0m \u001B[32m INFO\u001B[0m \u001B[2mtest\u001B[0m\u001B[2m:\u001B[0m input=Identifier(\"kdz15fn\")\r\n",
      "\u001B[2m2023-06-25T22:53:12.080091Z\u001B[0m \u001B[32m INFO\u001B[0m \u001B[2mtest\u001B[0m\u001B[2m:\u001B[0m input=StringLiteral(\"\")\r\n",
      "\u001B[2m2023-06-25T22:53:12.080146Z\u001B[0m \u001B[32m INFO\u001B[0m \u001B[2mtest\u001B[0m\u001B[2m:\u001B[0m input=Comment(\":Oopd,a%hS[/YZD=m,zn)K&CK`Et`O_\")\r\n",
      "\u001B[2m2023-06-25T22:53:12.080211Z\u001B[0m \u001B[32m INFO\u001B[0m \u001B[2mtest\u001B[0m\u001B[2m:\u001B[0m input=Comment(\"SOC={%.\")\r\n",
      "\u001B[2m2023-06-25T22:53:12.080246Z\u001B[0m \u001B[32m INFO\u001B[0m \u001B[2mtest\u001B[0m\u001B[2m:\u001B[0m input=Operator(\"=\")\r\n",
      "\u001B[2m2023-06-25T22:53:12.080316Z\u001B[0m \u001B[32m INFO\u001B[0m \u001B[2mtest\u001B[0m\u001B[2m:\u001B[0m input=Comment(\"&sC=K,po$?p*-:.~ZV?i\")\r\n",
      "\u001B[2m2023-06-25T22:53:12.080375Z\u001B[0m \u001B[32m INFO\u001B[0m \u001B[2mtest\u001B[0m\u001B[2m:\u001B[0m input=Comment(\"8;uinN'J*+&/\")\r\n",
      "\u001B[2m2023-06-25T22:53:12.080415Z\u001B[0m \u001B[32m INFO\u001B[0m \u001B[2mtest\u001B[0m\u001B[2m:\u001B[0m input=Operator(\")\")\r\n",
      "\u001B[2m2023-06-25T22:53:12.080483Z\u001B[0m \u001B[32m INFO\u001B[0m \u001B[2mtest\u001B[0m\u001B[2m:\u001B[0m input=StringLiteral(\"] Tzm(x_'>E?V%{$'q<\")\r\n",
      "\u001B[2m2023-06-25T22:53:12.080536Z\u001B[0m \u001B[32m INFO\u001B[0m \u001B[2mtest\u001B[0m\u001B[2m:\u001B[0m input=StringLiteral(\"SN[<`OAD\")\r\n",
      "\u001B[2m2023-06-25T22:53:12.080579Z\u001B[0m \u001B[32m INFO\u001B[0m \u001B[2mtest\u001B[0m\u001B[2m:\u001B[0m input=Integer(4744878580919065600)\r\n",
      "\u001B[2m2023-06-25T22:53:12.080606Z\u001B[0m \u001B[32m INFO\u001B[0m \u001B[2mtest\u001B[0m\u001B[2m:\u001B[0m input=Identifier(\"S6aJ8t3\")\r\n",
      "\u001B[2m2023-06-25T22:53:12.080630Z\u001B[0m \u001B[32m INFO\u001B[0m \u001B[2mtest\u001B[0m\u001B[2m:\u001B[0m input=Identifier(\"k\")\r\n",
      "\u001B[2m2023-06-25T22:53:12.080696Z\u001B[0m \u001B[32m INFO\u001B[0m \u001B[2mtest\u001B[0m\u001B[2m:\u001B[0m input=StringLiteral(\"k=`a;y>!pws$r*E85+`+w\")\r\n",
      "\u001B[2m2023-06-25T22:53:12.080773Z\u001B[0m \u001B[32m INFO\u001B[0m \u001B[2mtest\u001B[0m\u001B[2m:\u001B[0m input=Identifier(\"Xsai1g\")\r\n",
      "\u001B[2m2023-06-25T22:53:12.080837Z\u001B[0m \u001B[32m INFO\u001B[0m \u001B[2mtest\u001B[0m\u001B[2m:\u001B[0m input=StringLiteral(\"jqrC%?i):?!Pgf'<e\")\r\n",
      "\u001B[2m2023-06-25T22:53:12.080867Z\u001B[0m \u001B[32m INFO\u001B[0m \u001B[2mtest\u001B[0m\u001B[2m:\u001B[0m input=Identifier(\"Lb2r5PJOMu0h5ohWAVXch\")\r\n",
      "\u001B[2m2023-06-25T22:53:12.080940Z\u001B[0m \u001B[32m INFO\u001B[0m \u001B[2mtest\u001B[0m\u001B[2m:\u001B[0m input=Identifier(\"jc4vig6cnY99sZUF7\")\r\n",
      "\u001B[2m2023-06-25T22:53:12.080993Z\u001B[0m \u001B[32m INFO\u001B[0m \u001B[2mtest\u001B[0m\u001B[2m:\u001B[0m input=Comment(\"-r/{ya.\\\\L)V?Y?(DkIoL='[\")\r\n",
      "\u001B[2m2023-06-25T22:53:12.081058Z\u001B[0m \u001B[32m INFO\u001B[0m \u001B[2mtest\u001B[0m\u001B[2m:\u001B[0m input=Identifier(\"BvAw41bEqLDO\")\r\n",
      "\u001B[2m2023-06-25T22:53:12.081087Z\u001B[0m \u001B[32m INFO\u001B[0m \u001B[2mtest\u001B[0m\u001B[2m:\u001B[0m input=Comment(\"+W`@<34H1\")\r\n",
      "\u001B[2m2023-06-25T22:53:12.081144Z\u001B[0m \u001B[32m INFO\u001B[0m \u001B[2mtest\u001B[0m\u001B[2m:\u001B[0m input=Comment(\"{%7(u<Y{`5g*+[2*n\")\r\n",
      "\u001B[2m2023-06-25T22:53:12.081195Z\u001B[0m \u001B[32m INFO\u001B[0m \u001B[2mtest\u001B[0m\u001B[2m:\u001B[0m input=StringLiteral(\"|m2Js&{2;u-`$$`X\")\r\n",
      "\u001B[2m2023-06-25T22:53:12.081245Z\u001B[0m \u001B[32m INFO\u001B[0m \u001B[2mtest\u001B[0m\u001B[2m:\u001B[0m input=Identifier(\"H47fIj22mL97Aax\")\r\n",
      "\u001B[2m2023-06-25T22:53:12.081274Z\u001B[0m \u001B[32m INFO\u001B[0m \u001B[2mtest\u001B[0m\u001B[2m:\u001B[0m input=Identifier(\"T2fDAg7HpLQWkbLyJr\")\r\n",
      "\u001B[2m2023-06-25T22:53:12.081296Z\u001B[0m \u001B[32m INFO\u001B[0m \u001B[2mtest\u001B[0m\u001B[2m:\u001B[0m input=Identifier(\"wR4J90\")\r\n",
      "\u001B[2m2023-06-25T22:53:12.081355Z\u001B[0m \u001B[32m INFO\u001B[0m \u001B[2mtest\u001B[0m\u001B[2m:\u001B[0m input=StringLiteral(\"kZ?d<tA ^w*Vk:VsX1*{C@QW\")\r\n",
      "\u001B[2m2023-06-25T22:53:12.081421Z\u001B[0m \u001B[32m INFO\u001B[0m \u001B[2mtest\u001B[0m\u001B[2m:\u001B[0m input=Identifier(\"TzGIOkK8i6Tvxoz1yA8Q48JM3JnhT\")\r\n",
      "\u001B[2m2023-06-25T22:53:12.081466Z\u001B[0m \u001B[32m INFO\u001B[0m \u001B[2mtest\u001B[0m\u001B[2m:\u001B[0m input=Integer(8800618077890382359)\r\n",
      "\u001B[2m2023-06-25T22:53:12.081489Z\u001B[0m \u001B[32m INFO\u001B[0m \u001B[2mtest\u001B[0m\u001B[2m:\u001B[0m input=Operator(\"=\")\r\n",
      "\u001B[2m2023-06-25T22:53:12.081521Z\u001B[0m \u001B[32m INFO\u001B[0m \u001B[2mtest\u001B[0m\u001B[2m:\u001B[0m input=Identifier(\"h6p6PvkpDvlfwf10x2dTF30GVc\")\r\n",
      "\u001B[2m2023-06-25T22:53:12.081583Z\u001B[0m \u001B[32m INFO\u001B[0m \u001B[2mtest\u001B[0m\u001B[2m:\u001B[0m input=Comment(\"|ME*C(.<D%2<*lo=`\\\\xt>\\\\Ho\")\r\n",
      "\u001B[2m2023-06-25T22:53:12.081741Z\u001B[0m \u001B[32m INFO\u001B[0m \u001B[2mtest\u001B[0m\u001B[2m:\u001B[0m input=Operator(\"*\")\r\n",
      "\u001B[2m2023-06-25T22:53:12.081908Z\u001B[0m \u001B[32m INFO\u001B[0m \u001B[2mtest\u001B[0m\u001B[2m:\u001B[0m input=StringLiteral(\":<u6zsh7TO:Fhl\")\r\n",
      "\u001B[2m2023-06-25T22:53:12.082012Z\u001B[0m \u001B[32m INFO\u001B[0m \u001B[2mtest\u001B[0m\u001B[2m:\u001B[0m input=Comment(\"2G*J.c.=H.Ep+;fb*.&3~:{\\\"B,{=\")\r\n",
      "\u001B[2m2023-06-25T22:53:12.082073Z\u001B[0m \u001B[32m INFO\u001B[0m \u001B[2mtest\u001B[0m\u001B[2m:\u001B[0m input=Integer(7776604626044784524)\r\n",
      "\u001B[2m2023-06-25T22:53:12.082117Z\u001B[0m \u001B[32m INFO\u001B[0m \u001B[2mtest\u001B[0m\u001B[2m:\u001B[0m input=Comment(\"x<\\\"`Sg/1zZs<; blL0{\")\r\n",
      "\u001B[2m2023-06-25T22:53:12.082190Z\u001B[0m \u001B[32m INFO\u001B[0m \u001B[2mtest\u001B[0m\u001B[2m:\u001B[0m input=StringLiteral(\"*{'6%-C2KGE$x#S%1{diJ%&/i\")\r\n",
      "\u001B[2m2023-06-25T22:53:12.082258Z\u001B[0m \u001B[32m INFO\u001B[0m \u001B[2mtest\u001B[0m\u001B[2m:\u001B[0m input=Identifier(\"I3387q\")\r\n",
      "\u001B[2m2023-06-25T22:53:12.082317Z\u001B[0m \u001B[32m INFO\u001B[0m \u001B[2mtest\u001B[0m\u001B[2m:\u001B[0m input=Identifier(\"LhY2FY9x\")\r\n",
      "\u001B[2m2023-06-25T22:53:12.082388Z\u001B[0m \u001B[32m INFO\u001B[0m \u001B[2mtest\u001B[0m\u001B[2m:\u001B[0m input=Comment(\"z:hK($GAX$h^Av=%B/}Lj\\\\\")\r\n",
      "\u001B[2m2023-06-25T22:53:12.082437Z\u001B[0m \u001B[32m INFO\u001B[0m \u001B[2mtest\u001B[0m\u001B[2m:\u001B[0m input=Identifier(\"W7KcxCJvNeoiuo5\")\r\n",
      "\u001B[2m2023-06-25T22:53:12.082497Z\u001B[0m \u001B[32m INFO\u001B[0m \u001B[2mtest\u001B[0m\u001B[2m:\u001B[0m input=Operator(\"=\")\r\n",
      "\u001B[2m2023-06-25T22:53:12.082577Z\u001B[0m \u001B[32m INFO\u001B[0m \u001B[2mtest\u001B[0m\u001B[2m:\u001B[0m input=Comment(\"Q|<dj!d1r*bm?=I}@w?*)@g'\\\\[:n27\")\r\n",
      "\u001B[2m2023-06-25T22:53:12.082631Z\u001B[0m \u001B[32m INFO\u001B[0m \u001B[2mtest\u001B[0m\u001B[2m:\u001B[0m input=StringLiteral(\"~/^<l*%UV=;HoWB&FYI*Z.%4/er\")\r\n",
      "\u001B[2m2023-06-25T22:53:12.082658Z\u001B[0m \u001B[32m INFO\u001B[0m \u001B[2mtest\u001B[0m\u001B[2m:\u001B[0m input=Operator(\"*\")\r\n",
      "\u001B[2m2023-06-25T22:53:12.082702Z\u001B[0m \u001B[32m INFO\u001B[0m \u001B[2mtest\u001B[0m\u001B[2m:\u001B[0m input=Operator(\"(\")\r\n",
      "\u001B[2m2023-06-25T22:53:12.082724Z\u001B[0m \u001B[32m INFO\u001B[0m \u001B[2mtest\u001B[0m\u001B[2m:\u001B[0m input=Operator(\"=\")\r\n",
      "\u001B[2m2023-06-25T22:53:12.082745Z\u001B[0m \u001B[32m INFO\u001B[0m \u001B[2mtest\u001B[0m\u001B[2m:\u001B[0m input=Operator(\"=\")\r\n",
      "\u001B[2m2023-06-25T22:53:12.082768Z\u001B[0m \u001B[32m INFO\u001B[0m \u001B[2mtest\u001B[0m\u001B[2m:\u001B[0m input=StringLiteral(\"6qg.q\")\r\n",
      "\u001B[2m2023-06-25T22:53:12.082814Z\u001B[0m \u001B[32m INFO\u001B[0m \u001B[2mtest\u001B[0m\u001B[2m:\u001B[0m input=StringLiteral(\"SFw]=<O)(r<Ox{!$?`(2|M:`~2\")\r\n",
      "\u001B[2m2023-06-25T22:53:12.082847Z\u001B[0m \u001B[32m INFO\u001B[0m \u001B[2mtest\u001B[0m\u001B[2m:\u001B[0m input=Identifier(\"Hx4mRU1keVn8pWIJ9fBSEgf9\")\r\n",
      "\u001B[2m2023-06-25T22:53:12.082875Z\u001B[0m \u001B[32m INFO\u001B[0m \u001B[2mtest\u001B[0m\u001B[2m:\u001B[0m input=StringLiteral(\"v:eQ$to^}g=$Dk\")\r\n",
      "\u001B[2m2023-06-25T22:53:12.082925Z\u001B[0m \u001B[32m INFO\u001B[0m \u001B[2mtest\u001B[0m\u001B[2m:\u001B[0m input=Integer(5395719217826442115)\r\n",
      "\u001B[2m2023-06-25T22:53:12.082948Z\u001B[0m \u001B[32m INFO\u001B[0m \u001B[2mtest\u001B[0m\u001B[2m:\u001B[0m input=Operator(\"+\")\r\n",
      "\u001B[2m2023-06-25T22:53:12.082971Z\u001B[0m \u001B[32m INFO\u001B[0m \u001B[2mtest\u001B[0m\u001B[2m:\u001B[0m input=StringLiteral(\"v\")\r\n",
      "\u001B[2m2023-06-25T22:53:12.082999Z\u001B[0m \u001B[32m INFO\u001B[0m \u001B[2mtest\u001B[0m\u001B[2m:\u001B[0m input=StringLiteral(\"#W+:1''*fS(%;!%?qA\")\r\n",
      "\u001B[2m2023-06-25T22:53:12.083049Z\u001B[0m \u001B[32m INFO\u001B[0m \u001B[2mtest\u001B[0m\u001B[2m:\u001B[0m input=Comment(\"&>ZaJl<R'`I{/`*DZ<k=/=g*M%Ac<\")\r\n",
      "\u001B[2m2023-06-25T22:53:12.083079Z\u001B[0m \u001B[32m INFO\u001B[0m \u001B[2mtest\u001B[0m\u001B[2m:\u001B[0m input=StringLiteral(\"4`Nf/]%4`U{{\")\r\n",
      "\u001B[2m2023-06-25T22:53:12.083100Z\u001B[0m \u001B[32m INFO\u001B[0m \u001B[2mtest\u001B[0m\u001B[2m:\u001B[0m input=Integer(-5714065248063239734)\r\n",
      "\u001B[2m2023-06-25T22:53:12.083135Z\u001B[0m \u001B[32m INFO\u001B[0m \u001B[2mtest\u001B[0m\u001B[2m:\u001B[0m input=Operator(\"(\")\r\n",
      "\u001B[2m2023-06-25T22:53:12.083164Z\u001B[0m \u001B[32m INFO\u001B[0m \u001B[2mtest\u001B[0m\u001B[2m:\u001B[0m input=StringLiteral(\"F.o?fF<}G!u=.`xj(_6\")\r\n",
      "\u001B[2m2023-06-25T22:53:12.083229Z\u001B[0m \u001B[32m INFO\u001B[0m \u001B[2mtest\u001B[0m\u001B[2m:\u001B[0m input=Operator(\"+\")\r\n",
      "\u001B[2m2023-06-25T22:53:12.083278Z\u001B[0m \u001B[32m INFO\u001B[0m \u001B[2mtest\u001B[0m\u001B[2m:\u001B[0m input=Integer(7621384164876814743)\r\n",
      "\u001B[2m2023-06-25T22:53:12.083298Z\u001B[0m \u001B[32m INFO\u001B[0m \u001B[2mtest\u001B[0m\u001B[2m:\u001B[0m input=Integer(8310585871879861216)\r\n",
      "\u001B[2m2023-06-25T22:53:12.083320Z\u001B[0m \u001B[32m INFO\u001B[0m \u001B[2mtest\u001B[0m\u001B[2m:\u001B[0m input=Comment(\"c.:\")\r\n",
      "\u001B[2m2023-06-25T22:53:12.083343Z\u001B[0m \u001B[32m INFO\u001B[0m \u001B[2mtest\u001B[0m\u001B[2m:\u001B[0m input=Comment(\"3Jq\")\r\n",
      "\u001B[2m2023-06-25T22:53:12.083391Z\u001B[0m \u001B[32m INFO\u001B[0m \u001B[2mtest\u001B[0m\u001B[2m:\u001B[0m input=StringLiteral(\":/7C=s?Y{=$txK}CQe:!&:t/P$`&\")\r\n",
      "\u001B[2m2023-06-25T22:53:12.083427Z\u001B[0m \u001B[32m INFO\u001B[0m \u001B[2mtest\u001B[0m\u001B[2m:\u001B[0m input=Operator(\"=\")\r\n",
      "\u001B[2m2023-06-25T22:53:12.083450Z\u001B[0m \u001B[32m INFO\u001B[0m \u001B[2mtest\u001B[0m\u001B[2m:\u001B[0m input=Integer(7447025714943044908)\r\n",
      "\u001B[2m2023-06-25T22:53:12.083486Z\u001B[0m \u001B[32m INFO\u001B[0m \u001B[2mtest\u001B[0m\u001B[2m:\u001B[0m input=Identifier(\"fv3\")\r\n",
      "\u001B[2m2023-06-25T22:53:12.083513Z\u001B[0m \u001B[32m INFO\u001B[0m \u001B[2mtest\u001B[0m\u001B[2m:\u001B[0m input=StringLiteral(\"XQ:MMf{\")\r\n",
      "\u001B[2m2023-06-25T22:53:12.083540Z\u001B[0m \u001B[32m INFO\u001B[0m \u001B[2mtest\u001B[0m\u001B[2m:\u001B[0m input=StringLiteral(\"#M4[$M><?bg&/\")\r\n",
      "\u001B[2m2023-06-25T22:53:12.083586Z\u001B[0m \u001B[32m INFO\u001B[0m \u001B[2mtest\u001B[0m\u001B[2m:\u001B[0m input=Comment(\"T<O:?82/S#m{%`?sY%'\\\\s<dN/=:5&#\")\r\n",
      "\u001B[2m2023-06-25T22:53:12.083614Z\u001B[0m \u001B[32m INFO\u001B[0m \u001B[2mtest\u001B[0m\u001B[2m:\u001B[0m input=Comment(\"/^']hT V*o{}/\")\r\n",
      "\u001B[2m2023-06-25T22:53:12.083638Z\u001B[0m \u001B[32m INFO\u001B[0m \u001B[2mtest\u001B[0m\u001B[2m:\u001B[0m input=Operator(\"+\")\r\n",
      "\u001B[2m2023-06-25T22:53:12.083707Z\u001B[0m \u001B[32m INFO\u001B[0m \u001B[2mtest\u001B[0m\u001B[2m:\u001B[0m input=Comment(\":(ZbLEA`=\")\r\n",
      "\u001B[2m2023-06-25T22:53:12.083764Z\u001B[0m \u001B[32m INFO\u001B[0m \u001B[2mtest\u001B[0m\u001B[2m:\u001B[0m input=Identifier(\"r9gG\")\r\n",
      "\u001B[2m2023-06-25T22:53:12.083814Z\u001B[0m \u001B[32m INFO\u001B[0m \u001B[2mtest\u001B[0m\u001B[2m:\u001B[0m input=StringLiteral(\"E/f'=i2i:=O'/=:?z`$o:fPBAsu^HfZ\")\r\n",
      "\u001B[2m2023-06-25T22:53:12.083846Z\u001B[0m \u001B[32m INFO\u001B[0m \u001B[2mtest\u001B[0m\u001B[2m:\u001B[0m input=Identifier(\"y6Kw3b96P03VbX\")\r\n",
      "\u001B[2m2023-06-25T22:53:12.083881Z\u001B[0m \u001B[32m INFO\u001B[0m \u001B[2mtest\u001B[0m\u001B[2m:\u001B[0m input=StringLiteral(\"m*WZ)N.{#/'uoS7$w=6M&.+FEF\")\r\n",
      "\u001B[2m2023-06-25T22:53:12.083918Z\u001B[0m \u001B[32m INFO\u001B[0m \u001B[2mtest\u001B[0m\u001B[2m:\u001B[0m input=Integer(-2364588299397788666)\r\n",
      "\u001B[2m2023-06-25T22:53:12.083942Z\u001B[0m \u001B[32m INFO\u001B[0m \u001B[2mtest\u001B[0m\u001B[2m:\u001B[0m input=Operator(\"(\")\r\n",
      "\u001B[2m2023-06-25T22:53:12.083963Z\u001B[0m \u001B[32m INFO\u001B[0m \u001B[2mtest\u001B[0m\u001B[2m:\u001B[0m input=Comment(\"w\")\r\n",
      "\u001B[2m2023-06-25T22:53:12.083986Z\u001B[0m \u001B[32m INFO\u001B[0m \u001B[2mtest\u001B[0m\u001B[2m:\u001B[0m input=Integer(-6375189004250175676)\r\n",
      "\u001B[2m2023-06-25T22:53:12.084024Z\u001B[0m \u001B[32m INFO\u001B[0m \u001B[2mtest\u001B[0m\u001B[2m:\u001B[0m input=StringLiteral(\"n=&/\")\r\n",
      "\u001B[2m2023-06-25T22:53:12.084046Z\u001B[0m \u001B[32m INFO\u001B[0m \u001B[2mtest\u001B[0m\u001B[2m:\u001B[0m input=Integer(4341053559241129366)\r\n",
      "\u001B[2m2023-06-25T22:53:12.084065Z\u001B[0m \u001B[32m INFO\u001B[0m \u001B[2mtest\u001B[0m\u001B[2m:\u001B[0m input=Integer(6529896704866645489)\r\n",
      "\u001B[2m2023-06-25T22:53:12.084107Z\u001B[0m \u001B[32m INFO\u001B[0m \u001B[2mtest\u001B[0m\u001B[2m:\u001B[0m input=Comment(\"#<cMi=?;t::go~E\")\r\n",
      "\u001B[2m2023-06-25T22:53:12.084143Z\u001B[0m \u001B[32m INFO\u001B[0m \u001B[2mtest\u001B[0m\u001B[2m:\u001B[0m input=Operator(\"+\")\r\n",
      "\u001B[2m2023-06-25T22:53:12.084198Z\u001B[0m \u001B[32m INFO\u001B[0m \u001B[2mtest\u001B[0m\u001B[2m:\u001B[0m input=Comment(\"U3\\\\m4W=\\\\aM\")\r\n",
      "\u001B[2m2023-06-25T22:53:12.084348Z\u001B[0m \u001B[32m INFO\u001B[0m \u001B[2mtest\u001B[0m\u001B[2m:\u001B[0m input=StringLiteral(\">@]$B(l]t$:uNZWCZjYOS#)$@,Rq\")\r\n",
      "\u001B[2m2023-06-25T22:53:12.084408Z\u001B[0m \u001B[32m INFO\u001B[0m \u001B[2mtest\u001B[0m\u001B[2m:\u001B[0m input=Comment(\"K:&<\\\\uO3x9`\")\r\n",
      "\u001B[2m2023-06-25T22:53:12.084442Z\u001B[0m \u001B[32m INFO\u001B[0m \u001B[2mtest\u001B[0m\u001B[2m:\u001B[0m input=Comment(\"o&aQ\\\\A\\\\!=Lrd>B[/\")\r\n",
      "\u001B[2m2023-06-25T22:53:12.084470Z\u001B[0m \u001B[32m INFO\u001B[0m \u001B[2mtest\u001B[0m\u001B[2m:\u001B[0m input=StringLiteral(\"D:.Tk*zQWx/$\")\r\n",
      "\u001B[2m2023-06-25T22:53:12.084508Z\u001B[0m \u001B[32m INFO\u001B[0m \u001B[2mtest\u001B[0m\u001B[2m:\u001B[0m input=Integer(-802604578540683939)\r\n",
      "\u001B[2m2023-06-25T22:53:12.084532Z\u001B[0m \u001B[32m INFO\u001B[0m \u001B[2mtest\u001B[0m\u001B[2m:\u001B[0m input=Operator(\"*\")\r\n",
      "\u001B[2m2023-06-25T22:53:12.084555Z\u001B[0m \u001B[32m INFO\u001B[0m \u001B[2mtest\u001B[0m\u001B[2m:\u001B[0m input=Operator(\"=\")\r\n",
      "\u001B[2m2023-06-25T22:53:12.084579Z\u001B[0m \u001B[32m INFO\u001B[0m \u001B[2mtest\u001B[0m\u001B[2m:\u001B[0m input=Operator(\"-\")\r\n",
      "\u001B[2m2023-06-25T22:53:12.084615Z\u001B[0m \u001B[32m INFO\u001B[0m \u001B[2mtest\u001B[0m\u001B[2m:\u001B[0m input=Identifier(\"Tyj\")\r\n",
      "\u001B[2m2023-06-25T22:53:12.084637Z\u001B[0m \u001B[32m INFO\u001B[0m \u001B[2mtest\u001B[0m\u001B[2m:\u001B[0m input=Operator(\"=\")\r\n",
      "\u001B[2m2023-06-25T22:53:12.084656Z\u001B[0m \u001B[32m INFO\u001B[0m \u001B[2mtest\u001B[0m\u001B[2m:\u001B[0m input=Operator(\"+\")\r\n",
      "\u001B[2m2023-06-25T22:53:12.084679Z\u001B[0m \u001B[32m INFO\u001B[0m \u001B[2mtest\u001B[0m\u001B[2m:\u001B[0m input=Comment(\"'sX/Z:u\")\r\n",
      "\u001B[2m2023-06-25T22:53:12.084722Z\u001B[0m \u001B[32m INFO\u001B[0m \u001B[2mtest\u001B[0m\u001B[2m:\u001B[0m input=Identifier(\"kYzg7FWHaOgrfl7Hho\")\r\n",
      "\u001B[2m2023-06-25T22:53:12.084778Z\u001B[0m \u001B[32m INFO\u001B[0m \u001B[2mtest\u001B[0m\u001B[2m:\u001B[0m input=Comment(\"nj0/$m?#6M2+'r*/6jw:Qv<:`\")\r\n",
      "\u001B[2m2023-06-25T22:53:12.084812Z\u001B[0m \u001B[32m INFO\u001B[0m \u001B[2mtest\u001B[0m\u001B[2m:\u001B[0m input=Comment(\"&-Zw'f6G&v}*6$\\\\*\\\"$:\\\"{}h_\")\r\n",
      "\u001B[2m2023-06-25T22:53:12.084850Z\u001B[0m \u001B[32m INFO\u001B[0m \u001B[2mtest\u001B[0m\u001B[2m:\u001B[0m input=Operator(\"+\")\r\n",
      "\u001B[2m2023-06-25T22:53:12.084883Z\u001B[0m \u001B[32m INFO\u001B[0m \u001B[2mtest\u001B[0m\u001B[2m:\u001B[0m input=Identifier(\"ZW5PbkdcJP4Yn2nGHxlkTEkNH5\")\r\n",
      "\u001B[2m2023-06-25T22:53:12.084910Z\u001B[0m \u001B[32m INFO\u001B[0m \u001B[2mtest\u001B[0m\u001B[2m:\u001B[0m input=Comment(\"]?m:<T?4G1c}\")\r\n",
      "\u001B[2m2023-06-25T22:53:12.084954Z\u001B[0m \u001B[32m INFO\u001B[0m \u001B[2mtest\u001B[0m\u001B[2m:\u001B[0m input=StringLiteral(\"'e6&?G7<w?`</Z*kAdS\")\r\n",
      "\u001B[2m2023-06-25T22:53:12.084981Z\u001B[0m \u001B[32m INFO\u001B[0m \u001B[2mtest\u001B[0m\u001B[2m:\u001B[0m input=StringLiteral(\"{<?_)vZ+\")\r\n",
      "\u001B[2m2023-06-25T22:53:12.085003Z\u001B[0m \u001B[32m INFO\u001B[0m \u001B[2mtest\u001B[0m\u001B[2m:\u001B[0m input=Comment(\"g\")\r\n",
      "\u001B[2m2023-06-25T22:53:12.085026Z\u001B[0m \u001B[32m INFO\u001B[0m \u001B[2mtest\u001B[0m\u001B[2m:\u001B[0m input=Integer(-3377152827874344362)\r\n",
      "\u001B[2m2023-06-25T22:53:12.085077Z\u001B[0m \u001B[32m INFO\u001B[0m \u001B[2mtest\u001B[0m\u001B[2m:\u001B[0m input=Operator(\"=\")\r\n",
      "\u001B[2m2023-06-25T22:53:12.085107Z\u001B[0m \u001B[32m INFO\u001B[0m \u001B[2mtest\u001B[0m\u001B[2m:\u001B[0m input=Comment(\"$Y*8lEXg{ p\\\"{s\")\r\n",
      "\u001B[2m2023-06-25T22:53:12.085128Z\u001B[0m \u001B[32m INFO\u001B[0m \u001B[2mtest\u001B[0m\u001B[2m:\u001B[0m input=Integer(-2985588932178065297)\r\n",
      "\u001B[2m2023-06-25T22:53:12.085160Z\u001B[0m \u001B[32m INFO\u001B[0m \u001B[2mtest\u001B[0m\u001B[2m:\u001B[0m input=Integer(5455611561260990623)\r\n",
      "\u001B[2m2023-06-25T22:53:12.085194Z\u001B[0m \u001B[32m INFO\u001B[0m \u001B[2mtest\u001B[0m\u001B[2m:\u001B[0m input=Comment(\"D'6A/0cBz{{I*&({D\\\"R#N0u/PN\\\\*xL'\")\r\n",
      "\u001B[2m2023-06-25T22:53:12.085220Z\u001B[0m \u001B[32m INFO\u001B[0m \u001B[2mtest\u001B[0m\u001B[2m:\u001B[0m input=Comment(\"J6EH=\")\r\n",
      "\u001B[2m2023-06-25T22:53:12.085242Z\u001B[0m \u001B[32m INFO\u001B[0m \u001B[2mtest\u001B[0m\u001B[2m:\u001B[0m input=Identifier(\"V5\")\r\n",
      "\u001B[2m2023-06-25T22:53:12.085277Z\u001B[0m \u001B[32m INFO\u001B[0m \u001B[2mtest\u001B[0m\u001B[2m:\u001B[0m input=Operator(\"=\")\r\n",
      "\u001B[2m2023-06-25T22:53:12.085303Z\u001B[0m \u001B[32m INFO\u001B[0m \u001B[2mtest\u001B[0m\u001B[2m:\u001B[0m input=Comment(\"eB)S\")\r\n",
      "\u001B[2m2023-06-25T22:53:12.085346Z\u001B[0m \u001B[32m INFO\u001B[0m \u001B[2mtest\u001B[0m\u001B[2m:\u001B[0m input=Comment(\"&@O:qjAq/=w\\\"ap:&BFN:\")\r\n",
      "\u001B[2m2023-06-25T22:53:12.085421Z\u001B[0m \u001B[32m INFO\u001B[0m \u001B[2mtest\u001B[0m\u001B[2m:\u001B[0m input=Identifier(\"Bqp795OEUx\")\r\n",
      "\u001B[2m2023-06-25T22:53:12.085471Z\u001B[0m \u001B[32m INFO\u001B[0m \u001B[2mtest\u001B[0m\u001B[2m:\u001B[0m input=Comment(\"-7??JyY$j?NNwpg\")\r\n",
      "\u001B[2m2023-06-25T22:53:12.085565Z\u001B[0m \u001B[32m INFO\u001B[0m \u001B[2mtest\u001B[0m\u001B[2m:\u001B[0m input=Operator(\"*\")\r\n",
      "\u001B[2m2023-06-25T22:53:12.085628Z\u001B[0m \u001B[32m INFO\u001B[0m \u001B[2mtest\u001B[0m\u001B[2m:\u001B[0m input=Comment(\"#v'sa<eJ'L{[{;#3(&\\\"QbY%4KJU&\")\r\n",
      "\u001B[2m2023-06-25T22:53:12.085694Z\u001B[0m \u001B[32m INFO\u001B[0m \u001B[2mtest\u001B[0m\u001B[2m:\u001B[0m input=Operator(\")\")\r\n",
      "\u001B[2m2023-06-25T22:53:12.085733Z\u001B[0m \u001B[32m INFO\u001B[0m \u001B[2mtest\u001B[0m\u001B[2m:\u001B[0m input=Comment(\"o>Z$\")\r\n",
      "\u001B[2m2023-06-25T22:53:12.085816Z\u001B[0m \u001B[32m INFO\u001B[0m \u001B[2mtest\u001B[0m\u001B[2m:\u001B[0m input=Comment(\"&Q*[)v7_X$\")\r\n",
      "\u001B[2m2023-06-25T22:53:12.085877Z\u001B[0m \u001B[32m INFO\u001B[0m \u001B[2mtest\u001B[0m\u001B[2m:\u001B[0m input=Operator(\"+\")\r\n",
      "\u001B[2m2023-06-25T22:53:12.085991Z\u001B[0m \u001B[32m INFO\u001B[0m \u001B[2mtest\u001B[0m\u001B[2m:\u001B[0m input=Integer(5821988938459385860)\r\n",
      "\u001B[2m2023-06-25T22:53:12.086070Z\u001B[0m \u001B[32m INFO\u001B[0m \u001B[2mtest\u001B[0m\u001B[2m:\u001B[0m input=Integer(4180161645189574134)\r\n",
      "\u001B[2m2023-06-25T22:53:12.086113Z\u001B[0m \u001B[32m INFO\u001B[0m \u001B[2mtest\u001B[0m\u001B[2m:\u001B[0m input=Comment(\"R&}$\\\\.6l?\\\"\")\r\n",
      "\u001B[2m2023-06-25T22:53:12.086171Z\u001B[0m \u001B[32m INFO\u001B[0m \u001B[2mtest\u001B[0m\u001B[2m:\u001B[0m input=Integer(283619134280782743)\r\n",
      "\u001B[2m2023-06-25T22:53:12.086226Z\u001B[0m \u001B[32m INFO\u001B[0m \u001B[2mtest\u001B[0m\u001B[2m:\u001B[0m input=Comment(\"<Q|\\\\xf`:rF==F:L7\\\"u13`u\")\r\n",
      "\u001B[2m2023-06-25T22:53:12.086306Z\u001B[0m \u001B[32m INFO\u001B[0m \u001B[2mtest\u001B[0m\u001B[2m:\u001B[0m input=Identifier(\"LB1e2i4k6\")\r\n",
      "\u001B[2m2023-06-25T22:53:12.086455Z\u001B[0m \u001B[32m INFO\u001B[0m \u001B[2mtest\u001B[0m\u001B[2m:\u001B[0m input=StringLiteral(\"{M*zx`&{P5WI=vwJ/$\")\r\n",
      "\u001B[2m2023-06-25T22:53:12.086526Z\u001B[0m \u001B[32m INFO\u001B[0m \u001B[2mtest\u001B[0m\u001B[2m:\u001B[0m input=StringLiteral(\"1L:\")\r\n",
      "\u001B[2m2023-06-25T22:53:12.086558Z\u001B[0m \u001B[32m INFO\u001B[0m \u001B[2mtest\u001B[0m\u001B[2m:\u001B[0m input=Integer(-2694822912385025922)\r\n",
      "\u001B[2m2023-06-25T22:53:12.086610Z\u001B[0m \u001B[32m INFO\u001B[0m \u001B[2mtest\u001B[0m\u001B[2m:\u001B[0m input=Integer(-718542814279066365)\r\n",
      "\u001B[2m2023-06-25T22:53:12.086660Z\u001B[0m \u001B[32m INFO\u001B[0m \u001B[2mtest\u001B[0m\u001B[2m:\u001B[0m input=Identifier(\"I45mX42qxFoEJisPa56SW2QsIO\")\r\n",
      "\u001B[2m2023-06-25T22:53:12.086743Z\u001B[0m \u001B[32m INFO\u001B[0m \u001B[2mtest\u001B[0m\u001B[2m:\u001B[0m input=Comment(\" 8Y/'3\\\"K3eV{9&~o\\\\$<\")\r\n",
      "\u001B[2m2023-06-25T22:53:12.086791Z\u001B[0m \u001B[32m INFO\u001B[0m \u001B[2mtest\u001B[0m\u001B[2m:\u001B[0m input=Identifier(\"LJiQT2C0hgQp9Gtx\")\r\n",
      "\u001B[2m2023-06-25T22:53:12.086867Z\u001B[0m \u001B[32m INFO\u001B[0m \u001B[2mtest\u001B[0m\u001B[2m:\u001B[0m input=StringLiteral(\"`]`t]'e3a,/1E:'k(4L`{+{=\")\r\n",
      "\u001B[2m2023-06-25T22:53:12.086979Z\u001B[0m \u001B[32m INFO\u001B[0m \u001B[2mtest\u001B[0m\u001B[2m:\u001B[0m input=Comment(\"`g&\\\".vdpLGt.?\")\r\n",
      "\u001B[2m2023-06-25T22:53:12.087044Z\u001B[0m \u001B[32m INFO\u001B[0m \u001B[2mtest\u001B[0m\u001B[2m:\u001B[0m input=StringLiteral(\"&($K=f/.CT6gl5%%,:$Fq`nI%^\")\r\n",
      "\u001B[2m2023-06-25T22:53:12.087112Z\u001B[0m \u001B[32m INFO\u001B[0m \u001B[2mtest\u001B[0m\u001B[2m:\u001B[0m input=Comment(\"\")\r\n",
      "\u001B[2m2023-06-25T22:53:12.087163Z\u001B[0m \u001B[32m INFO\u001B[0m \u001B[2mtest\u001B[0m\u001B[2m:\u001B[0m input=Identifier(\"A9RCJdHn8xngxBRH8h\")\r\n",
      "test prop_parse_format_idempotent ... ok\r\n",
      "test adding_and_then_removing_an_item_from_the_cart_leaves_the_cart_unchanged ... ok\r\n",
      "\r\n",
      "test result: ok. 3 passed; 0 failed; 0 ignored; 0 measured; 0 filtered out; finished in 0.15s\r\n",
      "\r\n"
     ]
    }
   ],
   "source": [
    "$env:RUST_LOG=\"info\"\n",
    "{ cargo test --release | Tee-Object test.test.ans } | Invoke-Block"
   ]
  },
  {
   "cell_type": "code",
   "execution_count": null,
   "metadata": {
    "dotnet_repl_cellExecutionStartTime": "2023-06-25T18:53:12.5680752-04:00",
    "dotnet_repl_cellExecutionEndTime": "2023-06-25T18:53:12.6353633-04:00",
    "dotnet_interactive": {
     "language": "pwsh"
    },
    "polyglot_notebook": {
     "kernelName": "pwsh"
    }
   },
   "outputs": [
    {
     "name": "stdout",
     "output_type": "stream",
     "text": [
      "app=test\r\n"
     ]
    }
   ],
   "source": [
    "{ . \"$ScriptDir/../../target/release/test$(if ($IsWindows) { '.exe' } else { '' })\" | Tee-Object test.out } | Invoke-Block"
   ]
  }
 ],
 "metadata": {
  "kernelspec": {
   "display_name": ".NET (C#)",
   "language": "C#",
   "name": ".net-csharp"
  },
  "language_info": {
   "file_extension": ".cs",
   "mimetype": "text/x-csharp",
   "name": "C#",
   "pygments_lexer": "csharp",
   "version": "10.0"
  },
  "polyglot_notebook": {
   "defaultKernelName": "csharp",
   "items": [
    {
     "name": "csharp"
    }
   ]
  },
  "dotnet_interactive": {
   "defaultKernelName": "csharp",
   "items": [
    {
     "name": "csharp"
    }
   ]
  }
 },
 "nbformat": 4,
 "nbformat_minor": 5
}