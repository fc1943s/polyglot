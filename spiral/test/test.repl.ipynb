{
 "cells": [
  {
   "cell_type": "code",
   "execution_count": null,
   "metadata": {
    "dotnet_repl_cellExecutionStartTime": "2023-06-25T17:05:41.9550112-04:00",
    "dotnet_repl_cellExecutionEndTime": "2023-06-25T17:05:42.7861376-04:00",
    "dotnet_interactive": {
     "language": "pwsh"
    },
    "polyglot_notebook": {
     "kernelName": "pwsh"
    }
   },
   "outputs": [],
   "source": [
    "$ScriptDir = \n",
    "    [Environment]::CommandLine -match '--working-dir\\s(\\S+)' ? \n",
    "        $Matches[1] :\n",
    "        [Environment]::CommandLine -match '--run\\s(\\S+)' -and ($Matches[1] -split '' -contains '\\', '/') ?\n",
    "            (Split-Path -Path $Matches[1] -Parent) :\n",
    "            [Environment]::CurrentDirectory\n",
    "Set-Location $ScriptDir\n",
    "$ErrorActionPreference = \"Stop\"\n",
    ". ../../core.ps1"
   ]
  },
  {
   "cell_type": "code",
   "execution_count": null,
   "metadata": {
    "dotnet_repl_cellExecutionStartTime": "2023-06-25T17:05:42.7881233-04:00",
    "dotnet_repl_cellExecutionEndTime": "2023-06-25T17:05:46.5290572-04:00",
    "dotnet_interactive": {
     "language": "pwsh"
    },
    "polyglot_notebook": {
     "kernelName": "pwsh"
    }
   },
   "outputs": [
    {
     "name": "stdout",
     "output_type": "stream",
     "text": [
      "Fable 4.1.4: F# to Rust compiler (status: alpha)\r\n",
      "\r\n",
      "Thanks to the contributor! @fdcastel\r\n",
      "Stand with Ukraine! https://standwithukraine.com.ua/\r\n",
      "\r\n",
      "Parsing test.fsproj...\r\n",
      "Retrieving project options from cache, in case of issues run `dotnet fable clean` or try `--noCache` option.\r\n",
      "Project and references (1 source files) parsed in 208ms\r\n",
      "\r\n",
      "Started Fable compilation...\r\n",
      "Fable compilation finished in 1593ms\r\n",
      "\r\n",
      ".\\test.fsx(6,0): (6,2) warning FABLE: For Rust, support for F# static and module do bindings is disabled by default. It can be enabled with the 'static_do_bindings' feature. Use at your own risk!\r\n"
     ]
    }
   ],
   "source": [
    "dotnet fable --optimize --lang rs --extension .rs"
   ]
  },
  {
   "cell_type": "code",
   "execution_count": null,
   "metadata": {
    "dotnet_repl_cellExecutionStartTime": "2023-06-25T17:05:46.5291122-04:00",
    "dotnet_repl_cellExecutionEndTime": "2023-06-25T17:05:46.8316903-04:00",
    "dotnet_interactive": {
     "language": "pwsh"
    },
    "polyglot_notebook": {
     "kernelName": "pwsh"
    }
   },
   "outputs": [],
   "source": [
    "cargo fmt --"
   ]
  },
  {
   "cell_type": "code",
   "execution_count": null,
   "metadata": {
    "dotnet_repl_cellExecutionStartTime": "2023-06-25T17:05:46.8317148-04:00",
    "dotnet_repl_cellExecutionEndTime": "2023-06-25T17:05:50.9859895-04:00",
    "dotnet_interactive": {
     "language": "pwsh"
    },
    "polyglot_notebook": {
     "kernelName": "pwsh"
    }
   },
   "outputs": [
    {
     "name": "stdout",
     "output_type": "stream",
     "text": [
      "\u001B[31;1m   Compiling test v0.0.1 (C:\\home\\git\\polyglot\\spiral\\test)\u001B[0m\r\n",
      "\u001B[31;1mwarning: unused import: `info`\u001B[0m\r\n",
      "\u001B[31;1m   --> spiral\\test\\./main.rs:190:15\u001B[0m\r\n",
      "\u001B[31;1m    |\u001B[0m\r\n",
      "\u001B[31;1m190 | use tracing::{info, Level};\u001B[0m\r\n",
      "\u001B[31;1m    |               ^^^^\u001B[0m\r\n",
      "\u001B[31;1m    |\u001B[0m\r\n",
      "\u001B[31;1m    = note: `#[warn(unused_imports)]` on by default\u001B[0m\r\n",
      "\u001B[31;1m\u001B[0m\r\n",
      "\u001B[31;1mwarning: associated items `new`, `add_item`, and `remove_item` are never used\u001B[0m\r\n",
      "\u001B[31;1m  --> spiral\\test\\./main.rs:46:8\u001B[0m\r\n",
      "\u001B[31;1m   |\u001B[0m\r\n",
      "\u001B[31;1m45 | impl Cart {\u001B[0m\r\n",
      "\u001B[31;1m   | --------- associated items in this implementation\u001B[0m\r\n",
      "\u001B[31;1m46 |     fn new() -> Cart {\u001B[0m\r\n",
      "\u001B[31;1m   |        ^^^\u001B[0m\r\n",
      "\u001B[31;1m...\u001B[0m\r\n",
      "\u001B[31;1m50 |     fn add_item(&mut self, item: Item) {\u001B[0m\r\n",
      "\u001B[31;1m   |        ^^^^^^^^\u001B[0m\r\n",
      "\u001B[31;1m...\u001B[0m\r\n",
      "\u001B[31;1m56 |     fn remove_item(&mut self, item: &Item) {\u001B[0m\r\n",
      "\u001B[31;1m   |        ^^^^^^^^^^^\u001B[0m\r\n",
      "\u001B[31;1m   |\u001B[0m\r\n",
      "\u001B[31;1m   = note: `#[warn(dead_code)]` on by default\u001B[0m\r\n",
      "\u001B[31;1m\u001B[0m\r\n",
      "\u001B[31;1mwarning: function `parse_comment` is never used\u001B[0m\r\n",
      "\u001B[31;1m   --> spiral\\test\\./main.rs:124:4\u001B[0m\r\n",
      "\u001B[31;1m    |\u001B[0m\r\n",
      "\u001B[31;1m124 | fn parse_comment(input: &str) -> IResult<&str, SpiralToken> {\u001B[0m\r\n",
      "\u001B[31;1m    |    ^^^^^^^^^^^^^\u001B[0m\r\n",
      "\u001B[31;1m\u001B[0m\r\n",
      "\u001B[31;1mwarning: function `parse_string` is never used\u001B[0m\r\n",
      "\u001B[31;1m   --> spiral\\test\\./main.rs:130:4\u001B[0m\r\n",
      "\u001B[31;1m    |\u001B[0m\r\n",
      "\u001B[31;1m130 | fn parse_string(input: &str) -> IResult<&str, SpiralToken> {\u001B[0m\r\n",
      "\u001B[31;1m    |    ^^^^^^^^^^^^\u001B[0m\r\n",
      "\u001B[31;1m\u001B[0m\r\n",
      "\u001B[31;1mwarning: function `parse_identifier` is never used\u001B[0m\r\n",
      "\u001B[31;1m   --> spiral\\test\\./main.rs:145:4\u001B[0m\r\n",
      "\u001B[31;1m    |\u001B[0m\r\n",
      "\u001B[31;1m145 | fn parse_identifier(input: &str) -> IResult<&str, SpiralToken> {\u001B[0m\r\n",
      "\u001B[31;1m    |    ^^^^^^^^^^^^^^^^\u001B[0m\r\n",
      "\u001B[31;1m\u001B[0m\r\n",
      "\u001B[31;1mwarning: function `parse_integer` is never used\u001B[0m\r\n",
      "\u001B[31;1m   --> spiral\\test\\./main.rs:157:4\u001B[0m\r\n",
      "\u001B[31;1m    |\u001B[0m\r\n",
      "\u001B[31;1m157 | fn parse_integer(input: &str) -> IResult<&str, SpiralToken> {\u001B[0m\r\n",
      "\u001B[31;1m    |    ^^^^^^^^^^^^^\u001B[0m\r\n",
      "\u001B[31;1m\u001B[0m\r\n",
      "\u001B[31;1mwarning: function `parse_operator` is never used\u001B[0m\r\n",
      "\u001B[31;1m   --> spiral\\test\\./main.rs:165:4\u001B[0m\r\n",
      "\u001B[31;1m    |\u001B[0m\r\n",
      "\u001B[31;1m165 | fn parse_operator(input: &str) -> IResult<&str, SpiralToken> {\u001B[0m\r\n",
      "\u001B[31;1m    |    ^^^^^^^^^^^^^^\u001B[0m\r\n",
      "\u001B[31;1m\u001B[0m\r\n",
      "\u001B[31;1mwarning: function `parse_token` is never used\u001B[0m\r\n",
      "\u001B[31;1m   --> spiral\\test\\./main.rs:170:4\u001B[0m\r\n",
      "\u001B[31;1m    |\u001B[0m\r\n",
      "\u001B[31;1m170 | fn parse_token(input: &str) -> IResult<&str, SpiralToken> {\u001B[0m\r\n",
      "\u001B[31;1m    |    ^^^^^^^^^^^\u001B[0m\r\n",
      "\u001B[31;1m\u001B[0m\r\n",
      "\u001B[31;1mwarning: function `format_token` is never used\u001B[0m\r\n",
      "\u001B[31;1m   --> spiral\\test\\./main.rs:180:4\u001B[0m\r\n",
      "\u001B[31;1m    |\u001B[0m\r\n",
      "\u001B[31;1m180 | fn format_token(token: &SpiralToken) -> String {\u001B[0m\r\n",
      "\u001B[31;1m    |    ^^^^^^^^^^^^\u001B[0m\r\n",
      "\u001B[31;1m\u001B[0m\r\n",
      "\u001B[31;1mwarning: function `parse_expression` is never used\u001B[0m\r\n",
      "\u001B[31;1m   --> spiral\\test\\./main.rs:213:4\u001B[0m\r\n",
      "\u001B[31;1m    |\u001B[0m\r\n",
      "\u001B[31;1m213 | fn parse_expression(input: &str) -> IResult<&str, SpiralToken> {\u001B[0m\r\n",
      "\u001B[31;1m    |    ^^^^^^^^^^^^^^^^\u001B[0m\r\n",
      "\u001B[31;1m\u001B[0m\r\n",
      "\u001B[31;1mwarning: `test` (bin \"test\") generated 10 warnings (run `cargo fix --bin \"test\"` to apply 1 suggestion)\u001B[0m\r\n",
      "\u001B[31;1m    Finished release [optimized] target(s) in 3.94s\u001B[0m\r\n"
     ]
    }
   ],
   "source": [
    "cargo build --release"
   ]
  },
  {
   "cell_type": "code",
   "execution_count": null,
   "metadata": {
    "dotnet_repl_cellExecutionStartTime": "2023-06-25T17:05:50.9860271-04:00",
    "dotnet_repl_cellExecutionEndTime": "2023-06-25T17:05:56.8883576-04:00",
    "dotnet_interactive": {
     "language": "pwsh"
    },
    "polyglot_notebook": {
     "kernelName": "pwsh"
    }
   },
   "outputs": [
    {
     "name": "stdout",
     "output_type": "stream",
     "text": [
      "\u001B[31;1m   Compiling test v0.0.1 (C:\\home\\git\\polyglot\\spiral\\test)\u001B[0m\r\n",
      "\u001B[31;1m    Finished release [optimized] target(s) in 4.90s\u001B[0m\r\n",
      "\u001B[31;1m     Running unittests main.rs (C:\\home\\git\\polyglot\\target\\release\\deps\\test-c33bdbd057fd7d59.exe)\u001B[0m\r\n",
      "\r\n",
      "running 3 tests\r\n",
      "test test_parse_number ... ok\r\n",
      "\u001B[2m2023-06-25T21:05:56.177847Z\u001B[0m \u001B[32m INFO\u001B[0m \u001B[2mtest\u001B[0m\u001B[2m:\u001B[0m input=StringLiteral(\"?N%.HOi0@&?|~Z(6% .%_7:\")\r\n",
      "\u001B[2m2023-06-25T21:05:56.177955Z\u001B[0m \u001B[32m INFO\u001B[0m \u001B[2mtest\u001B[0m\u001B[2m:\u001B[0m input=StringLiteral(\"*.<AYk1p`M3F^\")\r\n",
      "\u001B[2m2023-06-25T21:05:56.178117Z\u001B[0m \u001B[32m INFO\u001B[0m \u001B[2mtest\u001B[0m\u001B[2m:\u001B[0m input=Comment(\"%^(9S.z\")\r\n",
      "\u001B[2m2023-06-25T21:05:56.178176Z\u001B[0m \u001B[32m INFO\u001B[0m \u001B[2mtest\u001B[0m\u001B[2m:\u001B[0m input=StringLiteral(\":3_`'Ec?%Y%\")\r\n",
      "\u001B[2m2023-06-25T21:05:56.178230Z\u001B[0m \u001B[32m INFO\u001B[0m \u001B[2mtest\u001B[0m\u001B[2m:\u001B[0m input=Operator(\"(\")\r\n",
      "\u001B[2m2023-06-25T21:05:56.178355Z\u001B[0m \u001B[32m INFO\u001B[0m \u001B[2mtest\u001B[0m\u001B[2m:\u001B[0m input=Identifier(\"xd42NEgRzH95dOs\")\r\n",
      "\u001B[2m2023-06-25T21:05:56.178396Z\u001B[0m \u001B[32m INFO\u001B[0m \u001B[2mtest\u001B[0m\u001B[2m:\u001B[0m input=Operator(\"-\")\r\n",
      "\u001B[2m2023-06-25T21:05:56.178417Z\u001B[0m \u001B[32m INFO\u001B[0m \u001B[2mtest\u001B[0m\u001B[2m:\u001B[0m input=Integer(-9030494065646362564)\r\n",
      "\u001B[2m2023-06-25T21:05:56.178437Z\u001B[0m \u001B[32m INFO\u001B[0m \u001B[2mtest\u001B[0m\u001B[2m:\u001B[0m input=Operator(\"=\")\r\n",
      "\u001B[2m2023-06-25T21:05:56.178492Z\u001B[0m \u001B[32m INFO\u001B[0m \u001B[2mtest\u001B[0m\u001B[2m:\u001B[0m input=StringLiteral(\"+Ll=,Z^%tj/H*{.Z1d.$-<,&\")\r\n",
      "\u001B[2m2023-06-25T21:05:56.178578Z\u001B[0m \u001B[32m INFO\u001B[0m \u001B[2mtest\u001B[0m\u001B[2m:\u001B[0m input=StringLiteral(\"]X',&!.p\")\r\n",
      "\u001B[2m2023-06-25T21:05:56.178677Z\u001B[0m \u001B[32m INFO\u001B[0m \u001B[2mtest\u001B[0m\u001B[2m:\u001B[0m input=Identifier(\"TDfiS13XcIm25C9RS\")\r\n",
      "\u001B[2m2023-06-25T21:05:56.178739Z\u001B[0m \u001B[32m INFO\u001B[0m \u001B[2mtest\u001B[0m\u001B[2m:\u001B[0m input=Integer(5172073269690421853)\r\n",
      "\u001B[2m2023-06-25T21:05:56.178774Z\u001B[0m \u001B[32m INFO\u001B[0m \u001B[2mtest\u001B[0m\u001B[2m:\u001B[0m input=Identifier(\"X3sDxp7\")\r\n",
      "\u001B[2m2023-06-25T21:05:56.178811Z\u001B[0m \u001B[32m INFO\u001B[0m \u001B[2mtest\u001B[0m\u001B[2m:\u001B[0m input=Identifier(\"TQVzg6cCNL82\")\r\n",
      "\u001B[2m2023-06-25T21:05:56.178857Z\u001B[0m \u001B[32m INFO\u001B[0m \u001B[2mtest\u001B[0m\u001B[2m:\u001B[0m input=Identifier(\"HXM3EhJI0DLS0UpFm9Izg0\")\r\n",
      "\u001B[2m2023-06-25T21:05:56.178960Z\u001B[0m \u001B[32m INFO\u001B[0m \u001B[2mtest\u001B[0m\u001B[2m:\u001B[0m input=StringLiteral(\"]>.`a^8)?x.?}I$s1\")\r\n",
      "\u001B[2m2023-06-25T21:05:56.179052Z\u001B[0m \u001B[32m INFO\u001B[0m \u001B[2mtest\u001B[0m\u001B[2m:\u001B[0m input=Comment(\"\\\\&!`<\\\\*53!:%=!QH^\\\"\")\r\n",
      "\u001B[2m2023-06-25T21:05:56.179123Z\u001B[0m \u001B[32m INFO\u001B[0m \u001B[2mtest\u001B[0m\u001B[2m:\u001B[0m input=StringLiteral(\"+=/BqS{3/{L.y.nFtk\")\r\n",
      "\u001B[2m2023-06-25T21:05:56.179197Z\u001B[0m \u001B[32m INFO\u001B[0m \u001B[2mtest\u001B[0m\u001B[2m:\u001B[0m input=Comment(\"]P*&L:#PA`.<r?L=;g{*$.!]:A:OK{6{\")\r\n",
      "\u001B[2m2023-06-25T21:05:56.179253Z\u001B[0m \u001B[32m INFO\u001B[0m \u001B[2mtest\u001B[0m\u001B[2m:\u001B[0m input=Integer(8595983092632850093)\r\n",
      "\u001B[2m2023-06-25T21:05:56.179317Z\u001B[0m \u001B[32m INFO\u001B[0m \u001B[2mtest\u001B[0m\u001B[2m:\u001B[0m input=StringLiteral(\".}O{%&$`$}K:Q<UF%bB8\")\r\n",
      "\u001B[2m2023-06-25T21:05:56.179392Z\u001B[0m \u001B[32m INFO\u001B[0m \u001B[2mtest\u001B[0m\u001B[2m:\u001B[0m input=StringLiteral(\"^0{m}`<.*p,%;'gjrW<RN=G$=^\")\r\n",
      "\u001B[2m2023-06-25T21:05:56.179472Z\u001B[0m \u001B[32m INFO\u001B[0m \u001B[2mtest\u001B[0m\u001B[2m:\u001B[0m input=Operator(\"=\")\r\n",
      "\u001B[2m2023-06-25T21:05:56.179522Z\u001B[0m \u001B[32m INFO\u001B[0m \u001B[2mtest\u001B[0m\u001B[2m:\u001B[0m input=Integer(2579578041590036760)\r\n",
      "\u001B[2m2023-06-25T21:05:56.179548Z\u001B[0m \u001B[32m INFO\u001B[0m \u001B[2mtest\u001B[0m\u001B[2m:\u001B[0m input=Integer(-1154642425196084847)\r\n",
      "\u001B[2m2023-06-25T21:05:56.179630Z\u001B[0m \u001B[32m INFO\u001B[0m \u001B[2mtest\u001B[0m\u001B[2m:\u001B[0m input=Comment(\"/aij'/B0&!}1R+2\")\r\n",
      "\u001B[2m2023-06-25T21:05:56.179705Z\u001B[0m \u001B[32m INFO\u001B[0m \u001B[2mtest\u001B[0m\u001B[2m:\u001B[0m input=Operator(\"-\")\r\n",
      "\u001B[2m2023-06-25T21:05:56.179739Z\u001B[0m \u001B[32m INFO\u001B[0m \u001B[2mtest\u001B[0m\u001B[2m:\u001B[0m input=Operator(\"=\")\r\n",
      "\u001B[2m2023-06-25T21:05:56.179795Z\u001B[0m \u001B[32m INFO\u001B[0m \u001B[2mtest\u001B[0m\u001B[2m:\u001B[0m input=StringLiteral(\"~b:7$i&Goc|<E=~+l`[rDM\")\r\n",
      "\u001B[2m2023-06-25T21:05:56.179907Z\u001B[0m \u001B[32m INFO\u001B[0m \u001B[2mtest\u001B[0m\u001B[2m:\u001B[0m input=Comment(\"<zqr^'?\\\\Z$9J.=~CL^&99W3./h`!'G'a\")\r\n",
      "\u001B[2m2023-06-25T21:05:56.179990Z\u001B[0m \u001B[32m INFO\u001B[0m \u001B[2mtest\u001B[0m\u001B[2m:\u001B[0m input=StringLiteral(\"(v_6'd4?\")\r\n",
      "\u001B[2m2023-06-25T21:05:56.180099Z\u001B[0m \u001B[32m INFO\u001B[0m \u001B[2mtest\u001B[0m\u001B[2m:\u001B[0m input=Identifier(\"KUHA654SWGctxhQSCR5ZQzV1RFV\")\r\n",
      "\u001B[2m2023-06-25T21:05:56.180210Z\u001B[0m \u001B[32m INFO\u001B[0m \u001B[2mtest\u001B[0m\u001B[2m:\u001B[0m input=StringLiteral(\"]1TQuJj{`!m%8~\")\r\n",
      "\u001B[2m2023-06-25T21:05:56.180319Z\u001B[0m \u001B[32m INFO\u001B[0m \u001B[2mtest\u001B[0m\u001B[2m:\u001B[0m input=Identifier(\"MZMVaWN344Wc0WuO1A\")\r\n",
      "\u001B[2m2023-06-25T21:05:56.180384Z\u001B[0m \u001B[32m INFO\u001B[0m \u001B[2mtest\u001B[0m\u001B[2m:\u001B[0m input=Identifier(\"m9R6Er2e8\")\r\n",
      "\u001B[2m2023-06-25T21:05:56.180417Z\u001B[0m \u001B[32m INFO\u001B[0m \u001B[2mtest\u001B[0m\u001B[2m:\u001B[0m input=StringLiteral(\"(1\")\r\n",
      "\u001B[2m2023-06-25T21:05:56.180485Z\u001B[0m \u001B[32m INFO\u001B[0m \u001B[2mtest\u001B[0m\u001B[2m:\u001B[0m input=Integer(7566273931404805825)\r\n",
      "\u001B[2m2023-06-25T21:05:56.180526Z\u001B[0m \u001B[32m INFO\u001B[0m \u001B[2mtest\u001B[0m\u001B[2m:\u001B[0m input=StringLiteral(\"`Ek!m8dMGZ~X(*\")\r\n",
      "\u001B[2m2023-06-25T21:05:56.180596Z\u001B[0m \u001B[32m INFO\u001B[0m \u001B[2mtest\u001B[0m\u001B[2m:\u001B[0m input=Identifier(\"fjSk0h9GhoBD2ea0COkLWNC8C\")\r\n",
      "\u001B[2m2023-06-25T21:05:56.180664Z\u001B[0m \u001B[32m INFO\u001B[0m \u001B[2mtest\u001B[0m\u001B[2m:\u001B[0m input=StringLiteral(\"`&ZL{&^eY a%<sbo\")\r\n",
      "\u001B[2m2023-06-25T21:05:56.180703Z\u001B[0m \u001B[32m INFO\u001B[0m \u001B[2mtest\u001B[0m\u001B[2m:\u001B[0m input=Identifier(\"KxyCGxoMX\")\r\n",
      "\u001B[2m2023-06-25T21:05:56.180808Z\u001B[0m \u001B[32m INFO\u001B[0m \u001B[2mtest\u001B[0m\u001B[2m:\u001B[0m input=Comment(\",J2of)<j?+}8D~sbc$G=#3J_p+QG@?$\")\r\n",
      "\u001B[2m2023-06-25T21:05:56.180946Z\u001B[0m \u001B[32m INFO\u001B[0m \u001B[2mtest\u001B[0m\u001B[2m:\u001B[0m input=Identifier(\"LBdHTqGJrLKnZlW8zK\")\r\n",
      "\u001B[2m2023-06-25T21:05:56.181024Z\u001B[0m \u001B[32m INFO\u001B[0m \u001B[2mtest\u001B[0m\u001B[2m:\u001B[0m input=Identifier(\"tBRiL9qX42cvD5\")\r\n",
      "\u001B[2m2023-06-25T21:05:56.181057Z\u001B[0m \u001B[32m INFO\u001B[0m \u001B[2mtest\u001B[0m\u001B[2m:\u001B[0m input=Comment(\"b'u:B\")\r\n",
      "\u001B[2m2023-06-25T21:05:56.181113Z\u001B[0m \u001B[32m INFO\u001B[0m \u001B[2mtest\u001B[0m\u001B[2m:\u001B[0m input=Operator(\"-\")\r\n",
      "\u001B[2m2023-06-25T21:05:56.181155Z\u001B[0m \u001B[32m INFO\u001B[0m \u001B[2mtest\u001B[0m\u001B[2m:\u001B[0m input=StringLiteral(\"R|Z%=(=VE4f,e\")\r\n",
      "\u001B[2m2023-06-25T21:05:56.181250Z\u001B[0m \u001B[32m INFO\u001B[0m \u001B[2mtest\u001B[0m\u001B[2m:\u001B[0m input=Operator(\"+\")\r\n",
      "\u001B[2m2023-06-25T21:05:56.181297Z\u001B[0m \u001B[32m INFO\u001B[0m \u001B[2mtest\u001B[0m\u001B[2m:\u001B[0m input=Comment(\" _-a'e{ij%A;l<7_sWt<l=\")\r\n",
      "\u001B[2m2023-06-25T21:05:56.181377Z\u001B[0m \u001B[32m INFO\u001B[0m \u001B[2mtest\u001B[0m\u001B[2m:\u001B[0m input=StringLiteral(\"@<\")\r\n",
      "\u001B[2m2023-06-25T21:05:56.181472Z\u001B[0m \u001B[32m INFO\u001B[0m \u001B[2mtest\u001B[0m\u001B[2m:\u001B[0m input=Comment(\"m%&v*d\")\r\n",
      "\u001B[2m2023-06-25T21:05:56.181729Z\u001B[0m \u001B[32m INFO\u001B[0m \u001B[2mtest\u001B[0m\u001B[2m:\u001B[0m input=Comment(\"Zs\\\\\\\"_Xw1\\\".T%.\\\\\\\",q&\\\"(j\")\r\n",
      "\u001B[2m2023-06-25T21:05:56.181835Z\u001B[0m \u001B[32m INFO\u001B[0m \u001B[2mtest\u001B[0m\u001B[2m:\u001B[0m input=StringLiteral(\"1`*''bR{|*y*.]ywFW\")\r\n",
      "\u001B[2m2023-06-25T21:05:56.181930Z\u001B[0m \u001B[32m INFO\u001B[0m \u001B[2mtest\u001B[0m\u001B[2m:\u001B[0m input=Comment(\"&k7&nn`V:t\")\r\n",
      "\u001B[2m2023-06-25T21:05:56.182008Z\u001B[0m \u001B[32m INFO\u001B[0m \u001B[2mtest\u001B[0m\u001B[2m:\u001B[0m input=Operator(\"+\")\r\n",
      "\u001B[2m2023-06-25T21:05:56.182054Z\u001B[0m \u001B[32m INFO\u001B[0m \u001B[2mtest\u001B[0m\u001B[2m:\u001B[0m input=Comment(\"{4JGi8+\\\"}I(*>WFvoa]%\")\r\n",
      "\u001B[2m2023-06-25T21:05:56.182113Z\u001B[0m \u001B[32m INFO\u001B[0m \u001B[2mtest\u001B[0m\u001B[2m:\u001B[0m input=Identifier(\"qqjad\")\r\n",
      "\u001B[2m2023-06-25T21:05:56.182149Z\u001B[0m \u001B[32m INFO\u001B[0m \u001B[2mtest\u001B[0m\u001B[2m:\u001B[0m input=Comment(\"IGiUL@=g\")\r\n",
      "\u001B[2m2023-06-25T21:05:56.182220Z\u001B[0m \u001B[32m INFO\u001B[0m \u001B[2mtest\u001B[0m\u001B[2m:\u001B[0m input=Integer(6850844897724300273)\r\n",
      "\u001B[2m2023-06-25T21:05:56.182253Z\u001B[0m \u001B[32m INFO\u001B[0m \u001B[2mtest\u001B[0m\u001B[2m:\u001B[0m input=Comment(\"v%n{ss\")\r\n",
      "\u001B[2m2023-06-25T21:05:56.182284Z\u001B[0m \u001B[32m INFO\u001B[0m \u001B[2mtest\u001B[0m\u001B[2m:\u001B[0m input=StringLiteral(\"\")\r\n",
      "\u001B[2m2023-06-25T21:05:56.182350Z\u001B[0m \u001B[32m INFO\u001B[0m \u001B[2mtest\u001B[0m\u001B[2m:\u001B[0m input=Integer(-8196581129361851884)\r\n",
      "\u001B[2m2023-06-25T21:05:56.182376Z\u001B[0m \u001B[32m INFO\u001B[0m \u001B[2mtest\u001B[0m\u001B[2m:\u001B[0m input=Integer(-8061828006776811466)\r\n",
      "\u001B[2m2023-06-25T21:05:56.182428Z\u001B[0m \u001B[32m INFO\u001B[0m \u001B[2mtest\u001B[0m\u001B[2m:\u001B[0m input=Comment(\"A4$C7?NM?Bn};U$.M_\\\\<mOv\")\r\n",
      "\u001B[2m2023-06-25T21:05:56.182489Z\u001B[0m \u001B[32m INFO\u001B[0m \u001B[2mtest\u001B[0m\u001B[2m:\u001B[0m input=Integer(-2628278006927822613)\r\n",
      "\u001B[2m2023-06-25T21:05:56.182574Z\u001B[0m \u001B[32m INFO\u001B[0m \u001B[2mtest\u001B[0m\u001B[2m:\u001B[0m input=Identifier(\"iv9zsu4I5zPqTIFepMNCI5gbkhuvYOywp\")\r\n",
      "\u001B[2m2023-06-25T21:05:56.182644Z\u001B[0m \u001B[32m INFO\u001B[0m \u001B[2mtest\u001B[0m\u001B[2m:\u001B[0m input=Identifier(\"zTq5\")\r\n",
      "\u001B[2m2023-06-25T21:05:56.182672Z\u001B[0m \u001B[32m INFO\u001B[0m \u001B[2mtest\u001B[0m\u001B[2m:\u001B[0m input=Integer(6568486835212073652)\r\n",
      "\u001B[2m2023-06-25T21:05:56.182741Z\u001B[0m \u001B[32m INFO\u001B[0m \u001B[2mtest\u001B[0m\u001B[2m:\u001B[0m input=Integer(-5036514958198415214)\r\n",
      "\u001B[2m2023-06-25T21:05:56.182770Z\u001B[0m \u001B[32m INFO\u001B[0m \u001B[2mtest\u001B[0m\u001B[2m:\u001B[0m input=Integer(4250624880905497306)\r\n",
      "\u001B[2m2023-06-25T21:05:56.182817Z\u001B[0m \u001B[32m INFO\u001B[0m \u001B[2mtest\u001B[0m\u001B[2m:\u001B[0m input=StringLiteral(\"P<t*a*cxSKL'z\")\r\n",
      "\u001B[2m2023-06-25T21:05:56.182889Z\u001B[0m \u001B[32m INFO\u001B[0m \u001B[2mtest\u001B[0m\u001B[2m:\u001B[0m input=Identifier(\"C40p2gMaf69l\")\r\n",
      "\u001B[2m2023-06-25T21:05:56.183007Z\u001B[0m \u001B[32m INFO\u001B[0m \u001B[2mtest\u001B[0m\u001B[2m:\u001B[0m input=Operator(\"*\")\r\n",
      "\u001B[2m2023-06-25T21:05:56.183036Z\u001B[0m \u001B[32m INFO\u001B[0m \u001B[2mtest\u001B[0m\u001B[2m:\u001B[0m input=Integer(-4338994095015931642)\r\n",
      "\u001B[2m2023-06-25T21:05:56.183090Z\u001B[0m \u001B[32m INFO\u001B[0m \u001B[2mtest\u001B[0m\u001B[2m:\u001B[0m input=Identifier(\"p2NeU\")\r\n",
      "\u001B[2m2023-06-25T21:05:56.183122Z\u001B[0m \u001B[32m INFO\u001B[0m \u001B[2mtest\u001B[0m\u001B[2m:\u001B[0m input=Operator(\"(\")\r\n",
      "\u001B[2m2023-06-25T21:05:56.183215Z\u001B[0m \u001B[32m INFO\u001B[0m \u001B[2mtest\u001B[0m\u001B[2m:\u001B[0m input=StringLiteral(\".r/*2/4Sr,:5``0Vt@<7{GPj9(&^1\")\r\n",
      "\u001B[2m2023-06-25T21:05:56.183295Z\u001B[0m \u001B[32m INFO\u001B[0m \u001B[2mtest\u001B[0m\u001B[2m:\u001B[0m input=Identifier(\"wCJFnh99rP7yhnbW4uBucJLzt2QELFzB\")\r\n",
      "\u001B[2m2023-06-25T21:05:56.183376Z\u001B[0m \u001B[32m INFO\u001B[0m \u001B[2mtest\u001B[0m\u001B[2m:\u001B[0m input=Comment(\"?q(qwQz\")\r\n",
      "\u001B[2m2023-06-25T21:05:56.183414Z\u001B[0m \u001B[32m INFO\u001B[0m \u001B[2mtest\u001B[0m\u001B[2m:\u001B[0m input=Comment(\"h0J&`Sl3\")\r\n",
      "\u001B[2m2023-06-25T21:05:56.183489Z\u001B[0m \u001B[32m INFO\u001B[0m \u001B[2mtest\u001B[0m\u001B[2m:\u001B[0m input=StringLiteral(\"w8=x/-!n\")\r\n",
      "\u001B[2m2023-06-25T21:05:56.183550Z\u001B[0m \u001B[32m INFO\u001B[0m \u001B[2mtest\u001B[0m\u001B[2m:\u001B[0m input=StringLiteral(\".?6o%EF'Bz1vF'#?~4<VS6/\")\r\n",
      "\u001B[2m2023-06-25T21:05:56.183618Z\u001B[0m \u001B[32m INFO\u001B[0m \u001B[2mtest\u001B[0m\u001B[2m:\u001B[0m input=Comment(\"=R:\\\"3G\")\r\n",
      "\u001B[2m2023-06-25T21:05:56.183667Z\u001B[0m \u001B[32m INFO\u001B[0m \u001B[2mtest\u001B[0m\u001B[2m:\u001B[0m input=StringLiteral(\"/?:/SQ:lQq'_{mp$e@#`*YE`2*/%?\")\r\n",
      "\u001B[2m2023-06-25T21:05:56.183745Z\u001B[0m \u001B[32m INFO\u001B[0m \u001B[2mtest\u001B[0m\u001B[2m:\u001B[0m input=Operator(\"(\")\r\n",
      "\u001B[2m2023-06-25T21:05:56.183800Z\u001B[0m \u001B[32m INFO\u001B[0m \u001B[2mtest\u001B[0m\u001B[2m:\u001B[0m input=Comment(\"&VU_*\")\r\n",
      "\u001B[2m2023-06-25T21:05:56.183832Z\u001B[0m \u001B[32m INFO\u001B[0m \u001B[2mtest\u001B[0m\u001B[2m:\u001B[0m input=Operator(\"(\")\r\n",
      "\u001B[2m2023-06-25T21:05:56.183926Z\u001B[0m \u001B[32m INFO\u001B[0m \u001B[2mtest\u001B[0m\u001B[2m:\u001B[0m input=StringLiteral(\"H/,r{&'{eoAkh/>\")\r\n",
      "\u001B[2m2023-06-25T21:05:56.183983Z\u001B[0m \u001B[32m INFO\u001B[0m \u001B[2mtest\u001B[0m\u001B[2m:\u001B[0m input=Operator(\"=\")\r\n",
      "\u001B[2m2023-06-25T21:05:56.184013Z\u001B[0m \u001B[32m INFO\u001B[0m \u001B[2mtest\u001B[0m\u001B[2m:\u001B[0m input=Operator(\"+\")\r\n",
      "\u001B[2m2023-06-25T21:05:56.184084Z\u001B[0m \u001B[32m INFO\u001B[0m \u001B[2mtest\u001B[0m\u001B[2m:\u001B[0m input=Identifier(\"g0OO\")\r\n",
      "\u001B[2m2023-06-25T21:05:56.184151Z\u001B[0m \u001B[32m INFO\u001B[0m \u001B[2mtest\u001B[0m\u001B[2m:\u001B[0m input=Comment(\"=&Lr9`T-C??${/%+`5sR\\\"\")\r\n",
      "\u001B[2m2023-06-25T21:05:56.184180Z\u001B[0m \u001B[32m INFO\u001B[0m \u001B[2mtest\u001B[0m\u001B[2m:\u001B[0m input=Integer(-8028920756409882384)\r\n",
      "\u001B[2m2023-06-25T21:05:56.184225Z\u001B[0m \u001B[32m INFO\u001B[0m \u001B[2mtest\u001B[0m\u001B[2m:\u001B[0m input=Integer(3907127123643614133)\r\n",
      "\u001B[2m2023-06-25T21:05:56.184253Z\u001B[0m \u001B[32m INFO\u001B[0m \u001B[2mtest\u001B[0m\u001B[2m:\u001B[0m input=Identifier(\"us6\")\r\n",
      "\u001B[2m2023-06-25T21:05:56.184309Z\u001B[0m \u001B[32m INFO\u001B[0m \u001B[2mtest\u001B[0m\u001B[2m:\u001B[0m input=Identifier(\"qcktE4qN2K3L2a3rfjZ\")\r\n",
      "\u001B[2m2023-06-25T21:05:56.184401Z\u001B[0m \u001B[32m INFO\u001B[0m \u001B[2mtest\u001B[0m\u001B[2m:\u001B[0m input=Comment(\"::i\")\r\n",
      "\u001B[2m2023-06-25T21:05:56.184453Z\u001B[0m \u001B[32m INFO\u001B[0m \u001B[2mtest\u001B[0m\u001B[2m:\u001B[0m input=Identifier(\"sN8G15S\")\r\n",
      "\u001B[2m2023-06-25T21:05:56.184485Z\u001B[0m \u001B[32m INFO\u001B[0m \u001B[2mtest\u001B[0m\u001B[2m:\u001B[0m input=Identifier(\"lVwQASM055Yxp\")\r\n",
      "\u001B[2m2023-06-25T21:05:56.184522Z\u001B[0m \u001B[32m INFO\u001B[0m \u001B[2mtest\u001B[0m\u001B[2m:\u001B[0m input=Operator(\")\")\r\n",
      "\u001B[2m2023-06-25T21:05:56.184553Z\u001B[0m \u001B[32m INFO\u001B[0m \u001B[2mtest\u001B[0m\u001B[2m:\u001B[0m input=StringLiteral(\"='Lu-Vm[]$PC2jRo%\")\r\n",
      "\u001B[2m2023-06-25T21:05:56.184594Z\u001B[0m \u001B[32m INFO\u001B[0m \u001B[2mtest\u001B[0m\u001B[2m:\u001B[0m input=Comment(\" HG*<U-*=*h:/:%gkC<z$=`x-0hc5vj\")\r\n",
      "\u001B[2m2023-06-25T21:05:56.184634Z\u001B[0m \u001B[32m INFO\u001B[0m \u001B[2mtest\u001B[0m\u001B[2m:\u001B[0m input=StringLiteral(\"<%$\")\r\n",
      "\u001B[2m2023-06-25T21:05:56.184658Z\u001B[0m \u001B[32m INFO\u001B[0m \u001B[2mtest\u001B[0m\u001B[2m:\u001B[0m input=StringLiteral(\":-[%b$^V\")\r\n",
      "\u001B[2m2023-06-25T21:05:56.184692Z\u001B[0m \u001B[32m INFO\u001B[0m \u001B[2mtest\u001B[0m\u001B[2m:\u001B[0m input=Comment(\"!!H$_z'`$7a.\\\\<V&)\\\\>*/:M&6{&NS\")\r\n",
      "\u001B[2m2023-06-25T21:05:56.184725Z\u001B[0m \u001B[32m INFO\u001B[0m \u001B[2mtest\u001B[0m\u001B[2m:\u001B[0m input=Integer(7915236818139395479)\r\n",
      "\u001B[2m2023-06-25T21:05:56.184749Z\u001B[0m \u001B[32m INFO\u001B[0m \u001B[2mtest\u001B[0m\u001B[2m:\u001B[0m input=Operator(\"=\")\r\n",
      "\u001B[2m2023-06-25T21:05:56.184777Z\u001B[0m \u001B[32m INFO\u001B[0m \u001B[2mtest\u001B[0m\u001B[2m:\u001B[0m input=StringLiteral(\"{1!9t`~<V&+$/%bU'&')wf$\")\r\n",
      "\u001B[2m2023-06-25T21:05:56.184897Z\u001B[0m \u001B[32m INFO\u001B[0m \u001B[2mtest\u001B[0m\u001B[2m:\u001B[0m input=Operator(\"/\")\r\n",
      "\u001B[2m2023-06-25T21:05:56.184976Z\u001B[0m \u001B[32m INFO\u001B[0m \u001B[2mtest\u001B[0m\u001B[2m:\u001B[0m input=Comment(\"HYF<sB<&[6_BJ`8`E0+\\\\'K,{Vl\")\r\n",
      "\u001B[2m2023-06-25T21:05:56.185020Z\u001B[0m \u001B[32m INFO\u001B[0m \u001B[2mtest\u001B[0m\u001B[2m:\u001B[0m input=Identifier(\"GMRzUh8NwqyqMziU1xH\")\r\n",
      "\u001B[2m2023-06-25T21:05:56.185086Z\u001B[0m \u001B[32m INFO\u001B[0m \u001B[2mtest\u001B[0m\u001B[2m:\u001B[0m input=Identifier(\"j43EWp0x8i3ZhNAiCUUnId5B34wJvk\")\r\n",
      "\u001B[2m2023-06-25T21:05:56.185124Z\u001B[0m \u001B[32m INFO\u001B[0m \u001B[2mtest\u001B[0m\u001B[2m:\u001B[0m input=Comment(\"b&\")\r\n",
      "\u001B[2m2023-06-25T21:05:56.185143Z\u001B[0m \u001B[32m INFO\u001B[0m \u001B[2mtest\u001B[0m\u001B[2m:\u001B[0m input=Integer(1009282716117545949)\r\n",
      "\u001B[2m2023-06-25T21:05:56.185173Z\u001B[0m \u001B[32m INFO\u001B[0m \u001B[2mtest\u001B[0m\u001B[2m:\u001B[0m input=StringLiteral(\"m6nI(&z]e5$>9I%`r6_EP^(\")\r\n",
      "\u001B[2m2023-06-25T21:05:56.185220Z\u001B[0m \u001B[32m INFO\u001B[0m \u001B[2mtest\u001B[0m\u001B[2m:\u001B[0m input=Comment(\",`kZQO/*^dOUz7F&w?E[c^R\")\r\n",
      "\u001B[2m2023-06-25T21:05:56.185256Z\u001B[0m \u001B[32m INFO\u001B[0m \u001B[2mtest\u001B[0m\u001B[2m:\u001B[0m input=Operator(\")\")\r\n",
      "\u001B[2m2023-06-25T21:05:56.185275Z\u001B[0m \u001B[32m INFO\u001B[0m \u001B[2mtest\u001B[0m\u001B[2m:\u001B[0m input=Integer(-2805794332276927233)\r\n",
      "\u001B[2m2023-06-25T21:05:56.185297Z\u001B[0m \u001B[32m INFO\u001B[0m \u001B[2mtest\u001B[0m\u001B[2m:\u001B[0m input=Operator(\")\")\r\n",
      "\u001B[2m2023-06-25T21:05:56.185389Z\u001B[0m \u001B[32m INFO\u001B[0m \u001B[2mtest\u001B[0m\u001B[2m:\u001B[0m input=Comment(\".&#vYFF/?r^*'5?V'w /:~S(=7p\")\r\n",
      "\u001B[2m2023-06-25T21:05:56.185446Z\u001B[0m \u001B[32m INFO\u001B[0m \u001B[2mtest\u001B[0m\u001B[2m:\u001B[0m input=Integer(3899605258237545600)\r\n",
      "\u001B[2m2023-06-25T21:05:56.185497Z\u001B[0m \u001B[32m INFO\u001B[0m \u001B[2mtest\u001B[0m\u001B[2m:\u001B[0m input=StringLiteral(\"bY+e@s[ZYNWd0-%XmHqT:t?\")\r\n",
      "\u001B[2m2023-06-25T21:05:56.185565Z\u001B[0m \u001B[32m INFO\u001B[0m \u001B[2mtest\u001B[0m\u001B[2m:\u001B[0m input=Operator(\")\")\r\n",
      "\u001B[2m2023-06-25T21:05:56.185613Z\u001B[0m \u001B[32m INFO\u001B[0m \u001B[2mtest\u001B[0m\u001B[2m:\u001B[0m input=Comment(\">OZmdtO:``1Qw@r.I\")\r\n",
      "\u001B[2m2023-06-25T21:05:56.185664Z\u001B[0m \u001B[32m INFO\u001B[0m \u001B[2mtest\u001B[0m\u001B[2m:\u001B[0m input=StringLiteral(\"%n{~<s?&%tCwN_vJ\")\r\n",
      "\u001B[2m2023-06-25T21:05:56.185734Z\u001B[0m \u001B[32m INFO\u001B[0m \u001B[2mtest\u001B[0m\u001B[2m:\u001B[0m input=Comment(\".:4Wh]pX$<$U\\\"$:;T-:\")\r\n",
      "\u001B[2m2023-06-25T21:05:56.185772Z\u001B[0m \u001B[32m INFO\u001B[0m \u001B[2mtest\u001B[0m\u001B[2m:\u001B[0m input=Integer(-5167742350696753519)\r\n",
      "\u001B[2m2023-06-25T21:05:56.185867Z\u001B[0m \u001B[32m INFO\u001B[0m \u001B[2mtest\u001B[0m\u001B[2m:\u001B[0m input=StringLiteral(\"2V{A:u1=$.o$cr)P;/W~<DYGBQw``{\")\r\n",
      "\u001B[2m2023-06-25T21:05:56.185947Z\u001B[0m \u001B[32m INFO\u001B[0m \u001B[2mtest\u001B[0m\u001B[2m:\u001B[0m input=Identifier(\"kheE6M4cl316vc6zQ5\")\r\n",
      "\u001B[2m2023-06-25T21:05:56.186001Z\u001B[0m \u001B[32m INFO\u001B[0m \u001B[2mtest\u001B[0m\u001B[2m:\u001B[0m input=Integer(-2962054676717433066)\r\n",
      "\u001B[2m2023-06-25T21:05:56.186166Z\u001B[0m \u001B[32m INFO\u001B[0m \u001B[2mtest\u001B[0m\u001B[2m:\u001B[0m input=Operator(\"*\")\r\n",
      "\u001B[2m2023-06-25T21:05:56.186216Z\u001B[0m \u001B[32m INFO\u001B[0m \u001B[2mtest\u001B[0m\u001B[2m:\u001B[0m input=Integer(799976309205073805)\r\n",
      "\u001B[2m2023-06-25T21:05:56.186311Z\u001B[0m \u001B[32m INFO\u001B[0m \u001B[2mtest\u001B[0m\u001B[2m:\u001B[0m input=Comment(\"C$o/`\")\r\n",
      "\u001B[2m2023-06-25T21:05:56.186355Z\u001B[0m \u001B[32m INFO\u001B[0m \u001B[2mtest\u001B[0m\u001B[2m:\u001B[0m input=Identifier(\"dNZku\")\r\n",
      "\u001B[2m2023-06-25T21:05:56.186377Z\u001B[0m \u001B[32m INFO\u001B[0m \u001B[2mtest\u001B[0m\u001B[2m:\u001B[0m input=Operator(\"-\")\r\n",
      "\u001B[2m2023-06-25T21:05:56.186399Z\u001B[0m \u001B[32m INFO\u001B[0m \u001B[2mtest\u001B[0m\u001B[2m:\u001B[0m input=Identifier(\"b\")\r\n",
      "\u001B[2m2023-06-25T21:05:56.186437Z\u001B[0m \u001B[32m INFO\u001B[0m \u001B[2mtest\u001B[0m\u001B[2m:\u001B[0m input=Comment(\"'tW\\\":q/C1'Ks>;\")\r\n",
      "\u001B[2m2023-06-25T21:05:56.186469Z\u001B[0m \u001B[32m INFO\u001B[0m \u001B[2mtest\u001B[0m\u001B[2m:\u001B[0m input=StringLiteral(\"Ps~<?-[#/}N<@%oqGYef\")\r\n",
      "\u001B[2m2023-06-25T21:05:56.186490Z\u001B[0m \u001B[32m INFO\u001B[0m \u001B[2mtest\u001B[0m\u001B[2m:\u001B[0m input=Integer(-2146933477047373572)\r\n",
      "\u001B[2m2023-06-25T21:05:56.186545Z\u001B[0m \u001B[32m INFO\u001B[0m \u001B[2mtest\u001B[0m\u001B[2m:\u001B[0m input=Comment(\"\\\\x=hx(PI.\\\"}{Q/w&1D\\\\QUR=^mg%Gx_P\")\r\n",
      "\u001B[2m2023-06-25T21:05:56.186577Z\u001B[0m \u001B[32m INFO\u001B[0m \u001B[2mtest\u001B[0m\u001B[2m:\u001B[0m input=StringLiteral(\"Xv/3r]i:r:#-/:-{8d#.`{\")\r\n",
      "\u001B[2m2023-06-25T21:05:56.186609Z\u001B[0m \u001B[32m INFO\u001B[0m \u001B[2mtest\u001B[0m\u001B[2m:\u001B[0m input=Identifier(\"VqnK7DkGVoZ\")\r\n",
      "\u001B[2m2023-06-25T21:05:56.186643Z\u001B[0m \u001B[32m INFO\u001B[0m \u001B[2mtest\u001B[0m\u001B[2m:\u001B[0m input=Operator(\"(\")\r\n",
      "\u001B[2m2023-06-25T21:05:56.186664Z\u001B[0m \u001B[32m INFO\u001B[0m \u001B[2mtest\u001B[0m\u001B[2m:\u001B[0m input=Operator(\"-\")\r\n",
      "\u001B[2m2023-06-25T21:05:56.186692Z\u001B[0m \u001B[32m INFO\u001B[0m \u001B[2mtest\u001B[0m\u001B[2m:\u001B[0m input=StringLiteral(\"Oh0w/9[)%n*'nIUV^>O#\")\r\n",
      "\u001B[2m2023-06-25T21:05:56.186725Z\u001B[0m \u001B[32m INFO\u001B[0m \u001B[2mtest\u001B[0m\u001B[2m:\u001B[0m input=Integer(8746805461190634775)\r\n",
      "\u001B[2m2023-06-25T21:05:56.186752Z\u001B[0m \u001B[32m INFO\u001B[0m \u001B[2mtest\u001B[0m\u001B[2m:\u001B[0m input=Identifier(\"z2OF0bk4i2lupPNx85rmDP\")\r\n",
      "\u001B[2m2023-06-25T21:05:56.186774Z\u001B[0m \u001B[32m INFO\u001B[0m \u001B[2mtest\u001B[0m\u001B[2m:\u001B[0m input=Operator(\")\")\r\n",
      "\u001B[2m2023-06-25T21:05:56.186798Z\u001B[0m \u001B[32m INFO\u001B[0m \u001B[2mtest\u001B[0m\u001B[2m:\u001B[0m input=StringLiteral(\"X`.:%Q{*}%*7veDd{\")\r\n",
      "\u001B[2m2023-06-25T21:05:56.186835Z\u001B[0m \u001B[32m INFO\u001B[0m \u001B[2mtest\u001B[0m\u001B[2m:\u001B[0m input=Operator(\"-\")\r\n",
      "\u001B[2m2023-06-25T21:05:56.186876Z\u001B[0m \u001B[32m INFO\u001B[0m \u001B[2mtest\u001B[0m\u001B[2m:\u001B[0m input=Operator(\")\")\r\n",
      "\u001B[2m2023-06-25T21:05:56.186910Z\u001B[0m \u001B[32m INFO\u001B[0m \u001B[2mtest\u001B[0m\u001B[2m:\u001B[0m input=StringLiteral(\"qyK`#}/B5e.m,1&~~-d1KJc#K.A?%V\")\r\n",
      "\u001B[2m2023-06-25T21:05:56.187019Z\u001B[0m \u001B[32m INFO\u001B[0m \u001B[2mtest\u001B[0m\u001B[2m:\u001B[0m input=Operator(\"*\")\r\n",
      "\u001B[2m2023-06-25T21:05:56.187055Z\u001B[0m \u001B[32m INFO\u001B[0m \u001B[2mtest\u001B[0m\u001B[2m:\u001B[0m input=Integer(8877694154648322799)\r\n",
      "\u001B[2m2023-06-25T21:05:56.187123Z\u001B[0m \u001B[32m INFO\u001B[0m \u001B[2mtest\u001B[0m\u001B[2m:\u001B[0m input=Comment(\"<:u]55{^kQe<\")\r\n",
      "\u001B[2m2023-06-25T21:05:56.187222Z\u001B[0m \u001B[32m INFO\u001B[0m \u001B[2mtest\u001B[0m\u001B[2m:\u001B[0m input=Integer(3068235109890649306)\r\n",
      "\u001B[2m2023-06-25T21:05:56.187274Z\u001B[0m \u001B[32m INFO\u001B[0m \u001B[2mtest\u001B[0m\u001B[2m:\u001B[0m input=Comment(\":\\\\t!\\\":&6%Ha=.#6sfV.{-\")\r\n",
      "\u001B[2m2023-06-25T21:05:56.187423Z\u001B[0m \u001B[32m INFO\u001B[0m \u001B[2mtest\u001B[0m\u001B[2m:\u001B[0m input=Identifier(\"RJ5sJXzhViqp0\")\r\n",
      "\u001B[2m2023-06-25T21:05:56.187486Z\u001B[0m \u001B[32m INFO\u001B[0m \u001B[2mtest\u001B[0m\u001B[2m:\u001B[0m input=Identifier(\"HBHN2VDDm3\")\r\n",
      "\u001B[2m2023-06-25T21:05:56.187533Z\u001B[0m \u001B[32m INFO\u001B[0m \u001B[2mtest\u001B[0m\u001B[2m:\u001B[0m input=Integer(-3796442166483723020)\r\n",
      "\u001B[2m2023-06-25T21:05:56.187593Z\u001B[0m \u001B[32m INFO\u001B[0m \u001B[2mtest\u001B[0m\u001B[2m:\u001B[0m input=Identifier(\"k4b7C8NBe68DYmJuKVVgst\")\r\n",
      "\u001B[2m2023-06-25T21:05:56.187646Z\u001B[0m \u001B[32m INFO\u001B[0m \u001B[2mtest\u001B[0m\u001B[2m:\u001B[0m input=Identifier(\"qsSCiYE\")\r\n",
      "\u001B[2m2023-06-25T21:05:56.187690Z\u001B[0m \u001B[32m INFO\u001B[0m \u001B[2mtest\u001B[0m\u001B[2m:\u001B[0m input=Integer(-7516846534516113003)\r\n",
      "\u001B[2m2023-06-25T21:05:56.187738Z\u001B[0m \u001B[32m INFO\u001B[0m \u001B[2mtest\u001B[0m\u001B[2m:\u001B[0m input=Comment(\"\")\r\n",
      "\u001B[2m2023-06-25T21:05:56.187769Z\u001B[0m \u001B[32m INFO\u001B[0m \u001B[2mtest\u001B[0m\u001B[2m:\u001B[0m input=Operator(\"=\")\r\n",
      "\u001B[2m2023-06-25T21:05:56.187793Z\u001B[0m \u001B[32m INFO\u001B[0m \u001B[2mtest\u001B[0m\u001B[2m:\u001B[0m input=Integer(5746152141530727772)\r\n",
      "\u001B[2m2023-06-25T21:05:56.187850Z\u001B[0m \u001B[32m INFO\u001B[0m \u001B[2mtest\u001B[0m\u001B[2m:\u001B[0m input=Identifier(\"uNgc808UtPG3g37U762IjnIc\")\r\n",
      "\u001B[2m2023-06-25T21:05:56.187885Z\u001B[0m \u001B[32m INFO\u001B[0m \u001B[2mtest\u001B[0m\u001B[2m:\u001B[0m input=Operator(\"=\")\r\n",
      "\u001B[2m2023-06-25T21:05:56.187935Z\u001B[0m \u001B[32m INFO\u001B[0m \u001B[2mtest\u001B[0m\u001B[2m:\u001B[0m input=Comment(\"-8da\")\r\n",
      "\u001B[2m2023-06-25T21:05:56.187961Z\u001B[0m \u001B[32m INFO\u001B[0m \u001B[2mtest\u001B[0m\u001B[2m:\u001B[0m input=Integer(5547153240892891494)\r\n",
      "\u001B[2m2023-06-25T21:05:56.188002Z\u001B[0m \u001B[32m INFO\u001B[0m \u001B[2mtest\u001B[0m\u001B[2m:\u001B[0m input=StringLiteral(\")qb%o%U$u,&![,S*#bW7A&\")\r\n",
      "\u001B[2m2023-06-25T21:05:56.188051Z\u001B[0m \u001B[32m INFO\u001B[0m \u001B[2mtest\u001B[0m\u001B[2m:\u001B[0m input=Integer(7310304430517720727)\r\n",
      "\u001B[2m2023-06-25T21:05:56.188080Z\u001B[0m \u001B[32m INFO\u001B[0m \u001B[2mtest\u001B[0m\u001B[2m:\u001B[0m input=StringLiteral(\"*pN[\")\r\n",
      "\u001B[2m2023-06-25T21:05:56.188154Z\u001B[0m \u001B[32m INFO\u001B[0m \u001B[2mtest\u001B[0m\u001B[2m:\u001B[0m input=Operator(\"*\")\r\n",
      "\u001B[2m2023-06-25T21:05:56.188196Z\u001B[0m \u001B[32m INFO\u001B[0m \u001B[2mtest\u001B[0m\u001B[2m:\u001B[0m input=Comment(\"&?R**sZebe.\\\"EQp`v{5z\\\\<+$:m\")\r\n",
      "\u001B[2m2023-06-25T21:05:56.188249Z\u001B[0m \u001B[32m INFO\u001B[0m \u001B[2mtest\u001B[0m\u001B[2m:\u001B[0m input=Integer(-2584481104819674435)\r\n",
      "\u001B[2m2023-06-25T21:05:56.188293Z\u001B[0m \u001B[32m INFO\u001B[0m \u001B[2mtest\u001B[0m\u001B[2m:\u001B[0m input=Identifier(\"ALGodZL3h988CrKysQBBxC80w2\")\r\n",
      "\u001B[2m2023-06-25T21:05:56.188348Z\u001B[0m \u001B[32m INFO\u001B[0m \u001B[2mtest\u001B[0m\u001B[2m:\u001B[0m input=Integer(-7547439908536878767)\r\n",
      "\u001B[2m2023-06-25T21:05:56.188375Z\u001B[0m \u001B[32m INFO\u001B[0m \u001B[2mtest\u001B[0m\u001B[2m:\u001B[0m input=Comment(\"\")\r\n",
      "\u001B[2m2023-06-25T21:05:56.188457Z\u001B[0m \u001B[32m INFO\u001B[0m \u001B[2mtest\u001B[0m\u001B[2m:\u001B[0m input=Comment(\"\\\\c:u*.'(u\\\\3B.0%$<&&%&4i\\\"\")\r\n",
      "\u001B[2m2023-06-25T21:05:56.188494Z\u001B[0m \u001B[32m INFO\u001B[0m \u001B[2mtest\u001B[0m\u001B[2m:\u001B[0m input=Operator(\"(\")\r\n",
      "\u001B[2m2023-06-25T21:05:56.188547Z\u001B[0m \u001B[32m INFO\u001B[0m \u001B[2mtest\u001B[0m\u001B[2m:\u001B[0m input=Operator(\"*\")\r\n",
      "\u001B[2m2023-06-25T21:05:56.188574Z\u001B[0m \u001B[32m INFO\u001B[0m \u001B[2mtest\u001B[0m\u001B[2m:\u001B[0m input=Integer(-3459014166717729095)\r\n",
      "\u001B[2m2023-06-25T21:05:56.188600Z\u001B[0m \u001B[32m INFO\u001B[0m \u001B[2mtest\u001B[0m\u001B[2m:\u001B[0m input=Integer(-2147354655063465433)\r\n",
      "\u001B[2m2023-06-25T21:05:56.188680Z\u001B[0m \u001B[32m INFO\u001B[0m \u001B[2mtest\u001B[0m\u001B[2m:\u001B[0m input=Operator(\"=\")\r\n",
      "\u001B[2m2023-06-25T21:05:56.188752Z\u001B[0m \u001B[32m INFO\u001B[0m \u001B[2mtest\u001B[0m\u001B[2m:\u001B[0m input=Comment(\"$&iGC<YiC:4XU&p8\")\r\n",
      "\u001B[2m2023-06-25T21:05:56.188839Z\u001B[0m \u001B[32m INFO\u001B[0m \u001B[2mtest\u001B[0m\u001B[2m:\u001B[0m input=Comment(\"eG\\\"\\\"p{i1:<$<~'1=%3<X\")\r\n",
      "\u001B[2m2023-06-25T21:05:56.188907Z\u001B[0m \u001B[32m INFO\u001B[0m \u001B[2mtest\u001B[0m\u001B[2m:\u001B[0m input=Operator(\"/\")\r\n",
      "\u001B[2m2023-06-25T21:05:56.188935Z\u001B[0m \u001B[32m INFO\u001B[0m \u001B[2mtest\u001B[0m\u001B[2m:\u001B[0m input=Comment(\"\")\r\n",
      "\u001B[2m2023-06-25T21:05:56.188988Z\u001B[0m \u001B[32m INFO\u001B[0m \u001B[2mtest\u001B[0m\u001B[2m:\u001B[0m input=StringLiteral(\"<xll|7t#V{`x?|k_%&u{$<[IU<\")\r\n",
      "\u001B[2m2023-06-25T21:05:56.189052Z\u001B[0m \u001B[32m INFO\u001B[0m \u001B[2mtest\u001B[0m\u001B[2m:\u001B[0m input=Operator(\"(\")\r\n",
      "\u001B[2m2023-06-25T21:05:56.189098Z\u001B[0m \u001B[32m INFO\u001B[0m \u001B[2mtest\u001B[0m\u001B[2m:\u001B[0m input=Comment(\"9V' f/X{</0l^=b]F,\")\r\n",
      "\u001B[2m2023-06-25T21:05:56.189186Z\u001B[0m \u001B[32m INFO\u001B[0m \u001B[2mtest\u001B[0m\u001B[2m:\u001B[0m input=Identifier(\"Ov99\")\r\n",
      "\u001B[2m2023-06-25T21:05:56.189218Z\u001B[0m \u001B[32m INFO\u001B[0m \u001B[2mtest\u001B[0m\u001B[2m:\u001B[0m input=StringLiteral(\"zpqC`'<<f):7n\")\r\n",
      "\u001B[2m2023-06-25T21:05:56.189350Z\u001B[0m \u001B[32m INFO\u001B[0m \u001B[2mtest\u001B[0m\u001B[2m:\u001B[0m input=StringLiteral(\"$\")\r\n",
      "\u001B[2m2023-06-25T21:05:56.189486Z\u001B[0m \u001B[32m INFO\u001B[0m \u001B[2mtest\u001B[0m\u001B[2m:\u001B[0m input=Operator(\")\")\r\n",
      "\u001B[2m2023-06-25T21:05:56.189561Z\u001B[0m \u001B[32m INFO\u001B[0m \u001B[2mtest\u001B[0m\u001B[2m:\u001B[0m input=Comment(\"B,W%i?~\\\"$wzb\\\"j:)<\")\r\n",
      "\u001B[2m2023-06-25T21:05:56.189622Z\u001B[0m \u001B[32m INFO\u001B[0m \u001B[2mtest\u001B[0m\u001B[2m:\u001B[0m input=Comment(\"\\\\98e!%.%j\")\r\n",
      "\u001B[2m2023-06-25T21:05:56.189650Z\u001B[0m \u001B[32m INFO\u001B[0m \u001B[2mtest\u001B[0m\u001B[2m:\u001B[0m input=Integer(432163173039222511)\r\n",
      "\u001B[2m2023-06-25T21:05:56.189683Z\u001B[0m \u001B[32m INFO\u001B[0m \u001B[2mtest\u001B[0m\u001B[2m:\u001B[0m input=Identifier(\"rk6h400YDFY\")\r\n",
      "\u001B[2m2023-06-25T21:05:56.189713Z\u001B[0m \u001B[32m INFO\u001B[0m \u001B[2mtest\u001B[0m\u001B[2m:\u001B[0m input=Operator(\"*\")\r\n",
      "\u001B[2m2023-06-25T21:05:56.189762Z\u001B[0m \u001B[32m INFO\u001B[0m \u001B[2mtest\u001B[0m\u001B[2m:\u001B[0m input=Operator(\"/\")\r\n",
      "\u001B[2m2023-06-25T21:05:56.189792Z\u001B[0m \u001B[32m INFO\u001B[0m \u001B[2mtest\u001B[0m\u001B[2m:\u001B[0m input=Operator(\"/\")\r\n",
      "\u001B[2m2023-06-25T21:05:56.189822Z\u001B[0m \u001B[32m INFO\u001B[0m \u001B[2mtest\u001B[0m\u001B[2m:\u001B[0m input=Operator(\")\")\r\n",
      "\u001B[2m2023-06-25T21:05:56.189885Z\u001B[0m \u001B[32m INFO\u001B[0m \u001B[2mtest\u001B[0m\u001B[2m:\u001B[0m input=Identifier(\"u48bnYt1WuUUhClu0TnXFM8UG\")\r\n",
      "\u001B[2m2023-06-25T21:05:56.189930Z\u001B[0m \u001B[32m INFO\u001B[0m \u001B[2mtest\u001B[0m\u001B[2m:\u001B[0m input=Identifier(\"IXm8tk729U3xF0bQEF1Mx19\")\r\n",
      "\u001B[2m2023-06-25T21:05:56.189981Z\u001B[0m \u001B[32m INFO\u001B[0m \u001B[2mtest\u001B[0m\u001B[2m:\u001B[0m input=Operator(\")\")\r\n",
      "\u001B[2m2023-06-25T21:05:56.190029Z\u001B[0m \u001B[32m INFO\u001B[0m \u001B[2mtest\u001B[0m\u001B[2m:\u001B[0m input=StringLiteral(\"3quhm{/c|J*[0d}&r0]$_/B}%X.@n?\")\r\n",
      "\u001B[2m2023-06-25T21:05:56.190082Z\u001B[0m \u001B[32m INFO\u001B[0m \u001B[2mtest\u001B[0m\u001B[2m:\u001B[0m input=Identifier(\"f\")\r\n",
      "\u001B[2m2023-06-25T21:05:56.190127Z\u001B[0m \u001B[32m INFO\u001B[0m \u001B[2mtest\u001B[0m\u001B[2m:\u001B[0m input=Comment(\"oMkg~w*W8DH`\\\\d`Rg}Vr;\\\"eb1c;$\")\r\n",
      "\u001B[2m2023-06-25T21:05:56.190249Z\u001B[0m \u001B[32m INFO\u001B[0m \u001B[2mtest\u001B[0m\u001B[2m:\u001B[0m input=StringLiteral(\"i9!P?^# ?o,96k//@5q!\")\r\n",
      "\u001B[2m2023-06-25T21:05:56.190310Z\u001B[0m \u001B[32m INFO\u001B[0m \u001B[2mtest\u001B[0m\u001B[2m:\u001B[0m input=StringLiteral(\"f1`jy%rh()X*/l\")\r\n",
      "\u001B[2m2023-06-25T21:05:56.190353Z\u001B[0m \u001B[32m INFO\u001B[0m \u001B[2mtest\u001B[0m\u001B[2m:\u001B[0m input=Identifier(\"Xd60z2tu0p2ONPa4sbtQvvKrh\")\r\n",
      "\u001B[2m2023-06-25T21:05:56.190421Z\u001B[0m \u001B[32m INFO\u001B[0m \u001B[2mtest\u001B[0m\u001B[2m:\u001B[0m input=Comment(\"/zv0^&V${3+:rj?<}Fn~.`/\\\\<&`\")\r\n",
      "\u001B[2m2023-06-25T21:05:56.190466Z\u001B[0m \u001B[32m INFO\u001B[0m \u001B[2mtest\u001B[0m\u001B[2m:\u001B[0m input=Comment(\"9[!+V'n=kD+/*I{NO.KF\\\"nq*N\")\r\n",
      "\u001B[2m2023-06-25T21:05:56.190512Z\u001B[0m \u001B[32m INFO\u001B[0m \u001B[2mtest\u001B[0m\u001B[2m:\u001B[0m input=Integer(-226915000008247655)\r\n",
      "\u001B[2m2023-06-25T21:05:56.190538Z\u001B[0m \u001B[32m INFO\u001B[0m \u001B[2mtest\u001B[0m\u001B[2m:\u001B[0m input=StringLiteral(\"\")\r\n",
      "\u001B[2m2023-06-25T21:05:56.190577Z\u001B[0m \u001B[32m INFO\u001B[0m \u001B[2mtest\u001B[0m\u001B[2m:\u001B[0m input=StringLiteral(\"A,nYi{{<~-'K5e>Jp{+'\")\r\n",
      "\u001B[2m2023-06-25T21:05:56.190646Z\u001B[0m \u001B[32m INFO\u001B[0m \u001B[2mtest\u001B[0m\u001B[2m:\u001B[0m input=StringLiteral(\"+&LTH$S&+]`&?${n,+'<(%DRv^.X\")\r\n",
      "\u001B[2m2023-06-25T21:05:56.190707Z\u001B[0m \u001B[32m INFO\u001B[0m \u001B[2mtest\u001B[0m\u001B[2m:\u001B[0m input=StringLiteral(\"_J@o*Ul.taS}%=d2e\")\r\n",
      "\u001B[2m2023-06-25T21:05:56.190753Z\u001B[0m \u001B[32m INFO\u001B[0m \u001B[2mtest\u001B[0m\u001B[2m:\u001B[0m input=StringLiteral(\"{\")\r\n",
      "\u001B[2m2023-06-25T21:05:56.190787Z\u001B[0m \u001B[32m INFO\u001B[0m \u001B[2mtest\u001B[0m\u001B[2m:\u001B[0m input=Operator(\"/\")\r\n",
      "\u001B[2m2023-06-25T21:05:56.190868Z\u001B[0m \u001B[32m INFO\u001B[0m \u001B[2mtest\u001B[0m\u001B[2m:\u001B[0m input=Identifier(\"I49Iyc9LI5ZYrUqRyHf9LILjINREpn5Jl\")\r\n",
      "\u001B[2m2023-06-25T21:05:56.190934Z\u001B[0m \u001B[32m INFO\u001B[0m \u001B[2mtest\u001B[0m\u001B[2m:\u001B[0m input=Comment(\"Y+&/lS2_\")\r\n",
      "\u001B[2m2023-06-25T21:05:56.191002Z\u001B[0m \u001B[32m INFO\u001B[0m \u001B[2mtest\u001B[0m\u001B[2m:\u001B[0m input=Operator(\"-\")\r\n",
      "\u001B[2m2023-06-25T21:05:56.191042Z\u001B[0m \u001B[32m INFO\u001B[0m \u001B[2mtest\u001B[0m\u001B[2m:\u001B[0m input=StringLiteral(\"d`{dJ{Bk{fT?\")\r\n",
      "\u001B[2m2023-06-25T21:05:56.191096Z\u001B[0m \u001B[32m INFO\u001B[0m \u001B[2mtest\u001B[0m\u001B[2m:\u001B[0m input=Comment(\"X\")\r\n",
      "\u001B[2m2023-06-25T21:05:56.191121Z\u001B[0m \u001B[32m INFO\u001B[0m \u001B[2mtest\u001B[0m\u001B[2m:\u001B[0m input=Comment(\"\")\r\n",
      "\u001B[2m2023-06-25T21:05:56.191144Z\u001B[0m \u001B[32m INFO\u001B[0m \u001B[2mtest\u001B[0m\u001B[2m:\u001B[0m input=Integer(6509588685971003503)\r\n",
      "\u001B[2m2023-06-25T21:05:56.191306Z\u001B[0m \u001B[32m INFO\u001B[0m \u001B[2mtest\u001B[0m\u001B[2m:\u001B[0m input=Integer(-3091161477424780724)\r\n",
      "\u001B[2m2023-06-25T21:05:56.191372Z\u001B[0m \u001B[32m INFO\u001B[0m \u001B[2mtest\u001B[0m\u001B[2m:\u001B[0m input=Identifier(\"B08dFshjRtU\")\r\n",
      "\u001B[2m2023-06-25T21:05:56.191420Z\u001B[0m \u001B[32m INFO\u001B[0m \u001B[2mtest\u001B[0m\u001B[2m:\u001B[0m input=Comment(\"rQ\\\\{SY|Q'&G<\\\"*.%\\\"%:\")\r\n",
      "\u001B[2m2023-06-25T21:05:56.191489Z\u001B[0m \u001B[32m INFO\u001B[0m \u001B[2mtest\u001B[0m\u001B[2m:\u001B[0m input=StringLiteral(\"LgC+{a`??*D@^`j`4%8&%\")\r\n",
      "\u001B[2m2023-06-25T21:05:56.191540Z\u001B[0m \u001B[32m INFO\u001B[0m \u001B[2mtest\u001B[0m\u001B[2m:\u001B[0m input=StringLiteral(\"'<L$/)!:g-9^*_?J?yG-EvUiV\")\r\n",
      "\u001B[2m2023-06-25T21:05:56.191597Z\u001B[0m \u001B[32m INFO\u001B[0m \u001B[2mtest\u001B[0m\u001B[2m:\u001B[0m input=Comment(\"{ ?\\\"Q\")\r\n",
      "\u001B[2m2023-06-25T21:05:56.191624Z\u001B[0m \u001B[32m INFO\u001B[0m \u001B[2mtest\u001B[0m\u001B[2m:\u001B[0m input=Integer(7871777419252115747)\r\n",
      "\u001B[2m2023-06-25T21:05:56.191673Z\u001B[0m \u001B[32m INFO\u001B[0m \u001B[2mtest\u001B[0m\u001B[2m:\u001B[0m input=Operator(\"(\")\r\n",
      "\u001B[2m2023-06-25T21:05:56.191720Z\u001B[0m \u001B[32m INFO\u001B[0m \u001B[2mtest\u001B[0m\u001B[2m:\u001B[0m input=Comment(\"\\\"?+{B\\\\/\\\\Ae~MN`n]i|J}+R\")\r\n",
      "\u001B[2m2023-06-25T21:05:56.191767Z\u001B[0m \u001B[32m INFO\u001B[0m \u001B[2mtest\u001B[0m\u001B[2m:\u001B[0m input=StringLiteral(\"h:<0&hZ:fMZ;$5&{O=HS`_`n.\")\r\n",
      "\u001B[2m2023-06-25T21:05:56.191843Z\u001B[0m \u001B[32m INFO\u001B[0m \u001B[2mtest\u001B[0m\u001B[2m:\u001B[0m input=Identifier(\"hGoEdyP64WxOpymK8NRxY092mBBMcA\")\r\n",
      "\u001B[2m2023-06-25T21:05:56.191893Z\u001B[0m \u001B[32m INFO\u001B[0m \u001B[2mtest\u001B[0m\u001B[2m:\u001B[0m input=Integer(-2497974632719904794)\r\n",
      "\u001B[2m2023-06-25T21:05:56.191920Z\u001B[0m \u001B[32m INFO\u001B[0m \u001B[2mtest\u001B[0m\u001B[2m:\u001B[0m input=Integer(-4378558602667972676)\r\n",
      "\u001B[2m2023-06-25T21:05:56.191946Z\u001B[0m \u001B[32m INFO\u001B[0m \u001B[2mtest\u001B[0m\u001B[2m:\u001B[0m input=Integer(-327803582910889085)\r\n",
      "\u001B[2m2023-06-25T21:05:56.191992Z\u001B[0m \u001B[32m INFO\u001B[0m \u001B[2mtest\u001B[0m\u001B[2m:\u001B[0m input=Integer(-830395068725978316)\r\n",
      "\u001B[2m2023-06-25T21:05:56.192028Z\u001B[0m \u001B[32m INFO\u001B[0m \u001B[2mtest\u001B[0m\u001B[2m:\u001B[0m input=Identifier(\"xPv099ufxC1mMVzjLY\")\r\n",
      "\u001B[2m2023-06-25T21:05:56.192061Z\u001B[0m \u001B[32m INFO\u001B[0m \u001B[2mtest\u001B[0m\u001B[2m:\u001B[0m input=Identifier(\"JO18E9\")\r\n",
      "\u001B[2m2023-06-25T21:05:56.192112Z\u001B[0m \u001B[32m INFO\u001B[0m \u001B[2mtest\u001B[0m\u001B[2m:\u001B[0m input=Operator(\"=\")\r\n",
      "\u001B[2m2023-06-25T21:05:56.192142Z\u001B[0m \u001B[32m INFO\u001B[0m \u001B[2mtest\u001B[0m\u001B[2m:\u001B[0m input=Operator(\")\")\r\n",
      "\u001B[2m2023-06-25T21:05:56.192191Z\u001B[0m \u001B[32m INFO\u001B[0m \u001B[2mtest\u001B[0m\u001B[2m:\u001B[0m input=Comment(\"::^k\\\"\")\r\n",
      "\u001B[2m2023-06-25T21:05:56.192220Z\u001B[0m \u001B[32m INFO\u001B[0m \u001B[2mtest\u001B[0m\u001B[2m:\u001B[0m input=Operator(\")\")\r\n",
      "\u001B[2m2023-06-25T21:05:56.192300Z\u001B[0m \u001B[32m INFO\u001B[0m \u001B[2mtest\u001B[0m\u001B[2m:\u001B[0m input=Identifier(\"Cfn9PIXEU6YMz3zJsDXfRTFD76iQo3Qb\")\r\n",
      "\u001B[2m2023-06-25T21:05:56.192354Z\u001B[0m \u001B[32m INFO\u001B[0m \u001B[2mtest\u001B[0m\u001B[2m:\u001B[0m input=Integer(-8824748274423288203)\r\n",
      "\u001B[2m2023-06-25T21:05:56.192400Z\u001B[0m \u001B[32m INFO\u001B[0m \u001B[2mtest\u001B[0m\u001B[2m:\u001B[0m input=Comment(\"Zv\\\"Tx{$:.OMXtT%:K{Aye\")\r\n",
      "\u001B[2m2023-06-25T21:05:56.192464Z\u001B[0m \u001B[32m INFO\u001B[0m \u001B[2mtest\u001B[0m\u001B[2m:\u001B[0m input=StringLiteral(\"cIm,$!(/=``J!G<\")\r\n",
      "\u001B[2m2023-06-25T21:05:56.192497Z\u001B[0m \u001B[32m INFO\u001B[0m \u001B[2mtest\u001B[0m\u001B[2m:\u001B[0m input=Operator(\")\")\r\n",
      "test prop_parse_format_idempotent ... ok\r\n",
      "test adding_and_then_removing_an_item_from_the_cart_leaves_the_cart_unchanged ... ok\r\n",
      "\r\n",
      "test result: ok. 3 passed; 0 failed; 0 ignored; 0 measured; 0 filtered out; finished in 0.37s\r\n",
      "\r\n"
     ]
    }
   ],
   "source": [
    "$env:RUST_LOG=\"info\"\n",
    "{ cargo test --release | Tee-Object test.test.ans } | Invoke-Block"
   ]
  },
  {
   "cell_type": "code",
   "execution_count": null,
   "metadata": {
    "dotnet_repl_cellExecutionStartTime": "2023-06-25T17:05:56.8883978-04:00",
    "dotnet_repl_cellExecutionEndTime": "2023-06-25T17:05:56.9599841-04:00",
    "dotnet_interactive": {
     "language": "pwsh"
    },
    "polyglot_notebook": {
     "kernelName": "pwsh"
    }
   },
   "outputs": [
    {
     "name": "stdout",
     "output_type": "stream",
     "text": [
      "app=test\r\n"
     ]
    }
   ],
   "source": [
    "{ . \"$ScriptDir/../../target/release/test$(if ($IsWindows) { '.exe' } else { '' })\" | Tee-Object test.out } | Invoke-Block"
   ]
  }
 ],
 "metadata": {
  "kernelspec": {
   "display_name": ".NET (C#)",
   "language": "C#",
   "name": ".net-csharp"
  },
  "language_info": {
   "file_extension": ".cs",
   "mimetype": "text/x-csharp",
   "name": "C#",
   "pygments_lexer": "csharp",
   "version": "10.0"
  },
  "polyglot_notebook": {
   "defaultKernelName": "csharp",
   "items": [
    {
     "name": "csharp"
    }
   ]
  },
  "dotnet_interactive": {
   "defaultKernelName": "csharp",
   "items": [
    {
     "name": "csharp"
    }
   ]
  }
 },
 "nbformat": 4,
 "nbformat_minor": 5
}