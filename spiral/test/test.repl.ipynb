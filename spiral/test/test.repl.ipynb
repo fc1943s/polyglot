{
 "cells": [
  {
   "cell_type": "code",
   "execution_count": null,
   "metadata": {
    "dotnet_interactive": {
     "language": "pwsh"
    },
    "polyglot_notebook": {
     "kernelName": "pwsh"
    }
   },
   "outputs": [],
   "source": [
    ". ../../scripts/nbs_header.ps1\n",
    ". ../../scripts/core.ps1"
   ]
  },
  {
   "cell_type": "code",
   "execution_count": null,
   "metadata": {
    "dotnet_interactive": {
     "language": "pwsh"
    },
    "polyglot_notebook": {
     "kernelName": "pwsh"
    }
   },
   "outputs": [
    {
     "name": "stdout",
     "output_type": "stream",
     "text": [
      "Fable 4.1.4: F# to Rust compiler (status: alpha)\r\n",
      "\r\n",
      "Thanks to the contributor! @2sComplement\r\n",
      "Stand with Ukraine! https://standwithukraine.com.ua/\r\n",
      "\r\n",
      "Parsing test.fsproj...\r\n",
      "Retrieving project options from cache, in case of issues run `dotnet fable clean` or try `--noCache` option.\r\n",
      "Project and references (1 source files) parsed in 269ms\r\n",
      "\r\n",
      "Started Fable compilation...\r\n",
      "Fable compilation finished in 1590ms\r\n",
      "\r\n",
      ".\\test.fsx(6,0): (6,2) warning FABLE: For Rust, support for F# static and module do bindings is disabled by default. It can be enabled with the 'static_do_bindings' feature. Use at your own risk!\r\n"
     ]
    }
   ],
   "source": [
    "dotnet fable --optimize --lang rs --extension .rs"
   ]
  },
  {
   "cell_type": "code",
   "execution_count": null,
   "metadata": {
    "dotnet_interactive": {
     "language": "pwsh"
    },
    "polyglot_notebook": {
     "kernelName": "pwsh"
    }
   },
   "outputs": [],
   "source": [
    "cargo fmt --"
   ]
  },
  {
   "cell_type": "code",
   "execution_count": null,
   "metadata": {
    "dotnet_interactive": {
     "language": "pwsh"
    },
    "polyglot_notebook": {
     "kernelName": "pwsh"
    }
   },
   "outputs": [
    {
     "name": "stdout",
     "output_type": "stream",
     "text": [
      "\u001B[31;1m   Compiling test v0.0.1 (C:\\home\\git\\polyglot\\spiral\\test)\u001B[0m\r\n",
      "\u001B[31;1mwarning: unused import: `info`\u001B[0m\r\n",
      "\u001B[31;1m   --> spiral\\test\\./main.rs:190:15\u001B[0m\r\n",
      "\u001B[31;1m    |\u001B[0m\r\n",
      "\u001B[31;1m190 | use tracing::{info, Level};\u001B[0m\r\n",
      "\u001B[31;1m    |               ^^^^\u001B[0m\r\n",
      "\u001B[31;1m    |\u001B[0m\r\n",
      "\u001B[31;1m    = note: `#[warn(unused_imports)]` on by default\u001B[0m\r\n",
      "\u001B[31;1m\u001B[0m\r\n",
      "\u001B[31;1mwarning: associated items `new`, `add_item`, and `remove_item` are never used\u001B[0m\r\n",
      "\u001B[31;1m  --> spiral\\test\\./main.rs:46:8\u001B[0m\r\n",
      "\u001B[31;1m   |\u001B[0m\r\n",
      "\u001B[31;1m45 | impl Cart {\u001B[0m\r\n",
      "\u001B[31;1m   | --------- associated items in this implementation\u001B[0m\r\n",
      "\u001B[31;1m46 |     fn new() -> Cart {\u001B[0m\r\n",
      "\u001B[31;1m   |        ^^^\u001B[0m\r\n",
      "\u001B[31;1m...\u001B[0m\r\n",
      "\u001B[31;1m50 |     fn add_item(&mut self, item: Item) {\u001B[0m\r\n",
      "\u001B[31;1m   |        ^^^^^^^^\u001B[0m\r\n",
      "\u001B[31;1m...\u001B[0m\r\n",
      "\u001B[31;1m56 |     fn remove_item(&mut self, item: &Item) {\u001B[0m\r\n",
      "\u001B[31;1m   |        ^^^^^^^^^^^\u001B[0m\r\n",
      "\u001B[31;1m   |\u001B[0m\r\n",
      "\u001B[31;1m   = note: `#[warn(dead_code)]` on by default\u001B[0m\r\n",
      "\u001B[31;1m\u001B[0m\r\n",
      "\u001B[31;1mwarning: function `parse_comment` is never used\u001B[0m\r\n",
      "\u001B[31;1m   --> spiral\\test\\./main.rs:124:4\u001B[0m\r\n",
      "\u001B[31;1m    |\u001B[0m\r\n",
      "\u001B[31;1m124 | fn parse_comment(input: &str) -> IResult<&str, SpiralToken> {\u001B[0m\r\n",
      "\u001B[31;1m    |    ^^^^^^^^^^^^^\u001B[0m\r\n",
      "\u001B[31;1m\u001B[0m\r\n",
      "\u001B[31;1mwarning: function `parse_string` is never used\u001B[0m\r\n",
      "\u001B[31;1m   --> spiral\\test\\./main.rs:130:4\u001B[0m\r\n",
      "\u001B[31;1m    |\u001B[0m\r\n",
      "\u001B[31;1m130 | fn parse_string(input: &str) -> IResult<&str, SpiralToken> {\u001B[0m\r\n",
      "\u001B[31;1m    |    ^^^^^^^^^^^^\u001B[0m\r\n",
      "\u001B[31;1m\u001B[0m\r\n",
      "\u001B[31;1mwarning: function `parse_identifier` is never used\u001B[0m\r\n",
      "\u001B[31;1m   --> spiral\\test\\./main.rs:145:4\u001B[0m\r\n",
      "\u001B[31;1m    |\u001B[0m\r\n",
      "\u001B[31;1m145 | fn parse_identifier(input: &str) -> IResult<&str, SpiralToken> {\u001B[0m\r\n",
      "\u001B[31;1m    |    ^^^^^^^^^^^^^^^^\u001B[0m\r\n",
      "\u001B[31;1m\u001B[0m\r\n",
      "\u001B[31;1mwarning: function `parse_integer` is never used\u001B[0m\r\n",
      "\u001B[31;1m   --> spiral\\test\\./main.rs:157:4\u001B[0m\r\n",
      "\u001B[31;1m    |\u001B[0m\r\n",
      "\u001B[31;1m157 | fn parse_integer(input: &str) -> IResult<&str, SpiralToken> {\u001B[0m\r\n",
      "\u001B[31;1m    |    ^^^^^^^^^^^^^\u001B[0m\r\n",
      "\u001B[31;1m\u001B[0m\r\n",
      "\u001B[31;1mwarning: function `parse_operator` is never used\u001B[0m\r\n",
      "\u001B[31;1m   --> spiral\\test\\./main.rs:165:4\u001B[0m\r\n",
      "\u001B[31;1m    |\u001B[0m\r\n",
      "\u001B[31;1m165 | fn parse_operator(input: &str) -> IResult<&str, SpiralToken> {\u001B[0m\r\n",
      "\u001B[31;1m    |    ^^^^^^^^^^^^^^\u001B[0m\r\n",
      "\u001B[31;1m\u001B[0m\r\n",
      "\u001B[31;1mwarning: function `parse_token` is never used\u001B[0m\r\n",
      "\u001B[31;1m   --> spiral\\test\\./main.rs:170:4\u001B[0m\r\n",
      "\u001B[31;1m    |\u001B[0m\r\n",
      "\u001B[31;1m170 | fn parse_token(input: &str) -> IResult<&str, SpiralToken> {\u001B[0m\r\n",
      "\u001B[31;1m    |    ^^^^^^^^^^^\u001B[0m\r\n",
      "\u001B[31;1m\u001B[0m\r\n",
      "\u001B[31;1mwarning: function `format_token` is never used\u001B[0m\r\n",
      "\u001B[31;1m   --> spiral\\test\\./main.rs:180:4\u001B[0m\r\n",
      "\u001B[31;1m    |\u001B[0m\r\n",
      "\u001B[31;1m180 | fn format_token(token: &SpiralToken) -> String {\u001B[0m\r\n",
      "\u001B[31;1m    |    ^^^^^^^^^^^^\u001B[0m\r\n",
      "\u001B[31;1m\u001B[0m\r\n",
      "\u001B[31;1mwarning: function `parse_expression` is never used\u001B[0m\r\n",
      "\u001B[31;1m   --> spiral\\test\\./main.rs:213:4\u001B[0m\r\n",
      "\u001B[31;1m    |\u001B[0m\r\n",
      "\u001B[31;1m213 | fn parse_expression(input: &str) -> IResult<&str, SpiralToken> {\u001B[0m\r\n",
      "\u001B[31;1m    |    ^^^^^^^^^^^^^^^^\u001B[0m\r\n",
      "\u001B[31;1m\u001B[0m\r\n",
      "\u001B[31;1mwarning: `test` (bin \"test\") generated 10 warnings (run `cargo fix --bin \"test\"` to apply 1 suggestion)\u001B[0m\r\n",
      "\u001B[31;1m    Finished release [optimized] target(s) in 5.29s\u001B[0m\r\n"
     ]
    }
   ],
   "source": [
    "cargo build --release"
   ]
  },
  {
   "cell_type": "code",
   "execution_count": null,
   "metadata": {
    "dotnet_interactive": {
     "language": "pwsh"
    },
    "polyglot_notebook": {
     "kernelName": "pwsh"
    }
   },
   "outputs": [
    {
     "name": "stdout",
     "output_type": "stream",
     "text": [
      "\u001B[31;1m   Compiling test v0.0.1 (C:\\home\\git\\polyglot\\spiral\\test)\u001B[0m\r\n",
      "\u001B[31;1m    Finished release [optimized] target(s) in 4.68s\u001B[0m\r\n",
      "\u001B[31;1m     Running unittests main.rs (C:\\home\\git\\polyglot\\target\\release\\deps\\test-38172e11e9fb5a54.exe)\u001B[0m\r\n",
      "\r\n",
      "running 3 tests\r\n",
      "test test_parse_number ... ok\r\n",
      "\u001B[2m2023-07-30T17:52:20.594312Z\u001B[0m \u001B[32m INFO\u001B[0m \u001B[2mtest\u001B[0m\u001B[2m:\u001B[0m input=Comment(\"'/?ELfkQKF2[X\\\"\\\":o\")\r\n",
      "\u001B[2m2023-07-30T17:52:20.594582Z\u001B[0m \u001B[32m INFO\u001B[0m \u001B[2mtest\u001B[0m\u001B[2m:\u001B[0m input=Comment(\"uKN2;T6<kV={sh3C\\\"J{u\")\r\n",
      "\u001B[2m2023-07-30T17:52:20.594722Z\u001B[0m \u001B[32m INFO\u001B[0m \u001B[2mtest\u001B[0m\u001B[2m:\u001B[0m input=Operator(\"-\")\r\n",
      "\u001B[2m2023-07-30T17:52:20.594819Z\u001B[0m \u001B[32m INFO\u001B[0m \u001B[2mtest\u001B[0m\u001B[2m:\u001B[0m input=StringLiteral(\"\")\r\n",
      "\u001B[2m2023-07-30T17:52:20.594912Z\u001B[0m \u001B[32m INFO\u001B[0m \u001B[2mtest\u001B[0m\u001B[2m:\u001B[0m input=Identifier(\"D8k9BL29FP0F6cEnEdzlV3Se7J9L9\")\r\n",
      "\u001B[2m2023-07-30T17:52:20.594999Z\u001B[0m \u001B[32m INFO\u001B[0m \u001B[2mtest\u001B[0m\u001B[2m:\u001B[0m input=Comment(\"G<2rP\\\"j]UA${9h@~Q4q&/Pu&lA<X\\\\[\")\r\n",
      "\u001B[2m2023-07-30T17:52:20.595079Z\u001B[0m \u001B[32m INFO\u001B[0m \u001B[2mtest\u001B[0m\u001B[2m:\u001B[0m input=StringLiteral(\"=$p=jm5Yv:x5'/D3L l \")\r\n",
      "\u001B[2m2023-07-30T17:52:20.595147Z\u001B[0m \u001B[32m INFO\u001B[0m \u001B[2mtest\u001B[0m\u001B[2m:\u001B[0m input=StringLiteral(\"WGA8#\")\r\n",
      "\u001B[2m2023-07-30T17:52:20.595226Z\u001B[0m \u001B[32m INFO\u001B[0m \u001B[2mtest\u001B[0m\u001B[2m:\u001B[0m input=Comment(\"<<'VS.=^t\")\r\n",
      "\u001B[2m2023-07-30T17:52:20.595292Z\u001B[0m \u001B[32m INFO\u001B[0m \u001B[2mtest\u001B[0m\u001B[2m:\u001B[0m input=StringLiteral(\"N`O=\")\r\n",
      "\u001B[2m2023-07-30T17:52:20.595417Z\u001B[0m \u001B[32m INFO\u001B[0m \u001B[2mtest\u001B[0m\u001B[2m:\u001B[0m input=Operator(\"=\")\r\n",
      "\u001B[2m2023-07-30T17:52:20.595489Z\u001B[0m \u001B[32m INFO\u001B[0m \u001B[2mtest\u001B[0m\u001B[2m:\u001B[0m input=Integer(-8411859759562188342)\r\n",
      "\u001B[2m2023-07-30T17:52:20.595531Z\u001B[0m \u001B[32m INFO\u001B[0m \u001B[2mtest\u001B[0m\u001B[2m:\u001B[0m input=StringLiteral(\"13cj.\")\r\n",
      "\u001B[2m2023-07-30T17:52:20.595616Z\u001B[0m \u001B[32m INFO\u001B[0m \u001B[2mtest\u001B[0m\u001B[2m:\u001B[0m input=Operator(\"=\")\r\n",
      "\u001B[2m2023-07-30T17:52:20.595680Z\u001B[0m \u001B[32m INFO\u001B[0m \u001B[2mtest\u001B[0m\u001B[2m:\u001B[0m input=StringLiteral(\"B9i]o|;.\")\r\n",
      "\u001B[2m2023-07-30T17:52:20.595751Z\u001B[0m \u001B[32m INFO\u001B[0m \u001B[2mtest\u001B[0m\u001B[2m:\u001B[0m input=StringLiteral(\"W$C^\")\r\n",
      "\u001B[2m2023-07-30T17:52:20.595817Z\u001B[0m \u001B[32m INFO\u001B[0m \u001B[2mtest\u001B[0m\u001B[2m:\u001B[0m input=Operator(\")\")\r\n",
      "\u001B[2m2023-07-30T17:52:20.595877Z\u001B[0m \u001B[32m INFO\u001B[0m \u001B[2mtest\u001B[0m\u001B[2m:\u001B[0m input=Comment(\"*>p:\\\\H. `&lgD q{0\")\r\n",
      "\u001B[2m2023-07-30T17:52:20.595939Z\u001B[0m \u001B[32m INFO\u001B[0m \u001B[2mtest\u001B[0m\u001B[2m:\u001B[0m input=StringLiteral(\"T==%pyfK=X\")\r\n",
      "\u001B[2m2023-07-30T17:52:20.596019Z\u001B[0m \u001B[32m INFO\u001B[0m \u001B[2mtest\u001B[0m\u001B[2m:\u001B[0m input=Comment(\"6PLPr<w.BpH$(/]1fgYH)WNa%x<4@\")\r\n",
      "\u001B[2m2023-07-30T17:52:20.596079Z\u001B[0m \u001B[32m INFO\u001B[0m \u001B[2mtest\u001B[0m\u001B[2m:\u001B[0m input=StringLiteral(\"\")\r\n",
      "\u001B[2m2023-07-30T17:52:20.596130Z\u001B[0m \u001B[32m INFO\u001B[0m \u001B[2mtest\u001B[0m\u001B[2m:\u001B[0m input=Comment(\"G[j=\")\r\n",
      "\u001B[2m2023-07-30T17:52:20.596189Z\u001B[0m \u001B[32m INFO\u001B[0m \u001B[2mtest\u001B[0m\u001B[2m:\u001B[0m input=Identifier(\"r29D4bnE4BZ3CQbj\")\r\n",
      "\u001B[2m2023-07-30T17:52:20.596291Z\u001B[0m \u001B[32m INFO\u001B[0m \u001B[2mtest\u001B[0m\u001B[2m:\u001B[0m input=StringLiteral(\"`,&.'7q%;8zUQ<r/rFp5{x%>e*\")\r\n",
      "\u001B[2m2023-07-30T17:52:20.596363Z\u001B[0m \u001B[32m INFO\u001B[0m \u001B[2mtest\u001B[0m\u001B[2m:\u001B[0m input=StringLiteral(\"r3$5%e?m?:$#0*\")\r\n",
      "\u001B[2m2023-07-30T17:52:20.596416Z\u001B[0m \u001B[32m INFO\u001B[0m \u001B[2mtest\u001B[0m\u001B[2m:\u001B[0m input=Identifier(\"DGHGv8Kd2iIcx6I2cOSb1m11Mg1iv\")\r\n",
      "\u001B[2m2023-07-30T17:52:20.596469Z\u001B[0m \u001B[32m INFO\u001B[0m \u001B[2mtest\u001B[0m\u001B[2m:\u001B[0m input=Operator(\"/\")\r\n",
      "\u001B[2m2023-07-30T17:52:20.596502Z\u001B[0m \u001B[32m INFO\u001B[0m \u001B[2mtest\u001B[0m\u001B[2m:\u001B[0m input=StringLiteral(\"Hwe,X\")\r\n",
      "\u001B[2m2023-07-30T17:52:20.596540Z\u001B[0m \u001B[32m INFO\u001B[0m \u001B[2mtest\u001B[0m\u001B[2m:\u001B[0m input=Identifier(\"KaVRM4YE5JSbK\")\r\n",
      "\u001B[2m2023-07-30T17:52:20.596624Z\u001B[0m \u001B[32m INFO\u001B[0m \u001B[2mtest\u001B[0m\u001B[2m:\u001B[0m input=Comment(\"v&'_B!r/.$k\")\r\n",
      "\u001B[2m2023-07-30T17:52:20.596660Z\u001B[0m \u001B[32m INFO\u001B[0m \u001B[2mtest\u001B[0m\u001B[2m:\u001B[0m input=Identifier(\"GuoYt8sovC\")\r\n",
      "\u001B[2m2023-07-30T17:52:20.596714Z\u001B[0m \u001B[32m INFO\u001B[0m \u001B[2mtest\u001B[0m\u001B[2m:\u001B[0m input=Identifier(\"YAnU71THgFk\")\r\n",
      "\u001B[2m2023-07-30T17:52:20.596761Z\u001B[0m \u001B[32m INFO\u001B[0m \u001B[2mtest\u001B[0m\u001B[2m:\u001B[0m input=Identifier(\"G9SY83RuUxzeh3IJQtI8F04qytkK\")\r\n",
      "\u001B[2m2023-07-30T17:52:20.596829Z\u001B[0m \u001B[32m INFO\u001B[0m \u001B[2mtest\u001B[0m\u001B[2m:\u001B[0m input=StringLiteral(\"JX+xJU9 \")\r\n",
      "\u001B[2m2023-07-30T17:52:20.596873Z\u001B[0m \u001B[32m INFO\u001B[0m \u001B[2mtest\u001B[0m\u001B[2m:\u001B[0m input=Identifier(\"mhC7L0GyWRMpOn1eT5WQv7\")\r\n",
      "\u001B[2m2023-07-30T17:52:20.596942Z\u001B[0m \u001B[32m INFO\u001B[0m \u001B[2mtest\u001B[0m\u001B[2m:\u001B[0m input=Comment(\"t\\\"{B\\\"gd6.6LkxtMSg,Oj?\\\":\")\r\n",
      "\u001B[2m2023-07-30T17:52:20.596979Z\u001B[0m \u001B[32m INFO\u001B[0m \u001B[2mtest\u001B[0m\u001B[2m:\u001B[0m input=Comment(\"kd.=\")\r\n",
      "\u001B[2m2023-07-30T17:52:20.597025Z\u001B[0m \u001B[32m INFO\u001B[0m \u001B[2mtest\u001B[0m\u001B[2m:\u001B[0m input=Integer(3157925355410134190)\r\n",
      "\u001B[2m2023-07-30T17:52:20.597052Z\u001B[0m \u001B[32m INFO\u001B[0m \u001B[2mtest\u001B[0m\u001B[2m:\u001B[0m input=Integer(4105642176633707980)\r\n",
      "\u001B[2m2023-07-30T17:52:20.597078Z\u001B[0m \u001B[32m INFO\u001B[0m \u001B[2mtest\u001B[0m\u001B[2m:\u001B[0m input=Integer(-767904166146538)\r\n",
      "\u001B[2m2023-07-30T17:52:20.597105Z\u001B[0m \u001B[32m INFO\u001B[0m \u001B[2mtest\u001B[0m\u001B[2m:\u001B[0m input=Integer(-4800279196835881253)\r\n",
      "\u001B[2m2023-07-30T17:52:20.597233Z\u001B[0m \u001B[32m INFO\u001B[0m \u001B[2mtest\u001B[0m\u001B[2m:\u001B[0m input=Integer(-5723219447598408942)\r\n",
      "\u001B[2m2023-07-30T17:52:20.597321Z\u001B[0m \u001B[32m INFO\u001B[0m \u001B[2mtest\u001B[0m\u001B[2m:\u001B[0m input=Comment(\".'e:*b{=aw(Mg&.ne5PfT@AN$\")\r\n",
      "\u001B[2m2023-07-30T17:52:20.597381Z\u001B[0m \u001B[32m INFO\u001B[0m \u001B[2mtest\u001B[0m\u001B[2m:\u001B[0m input=StringLiteral(\"hE*w=[eiz_/a$Sm*5.?1|{ygh'\")\r\n",
      "\u001B[2m2023-07-30T17:52:20.597468Z\u001B[0m \u001B[32m INFO\u001B[0m \u001B[2mtest\u001B[0m\u001B[2m:\u001B[0m input=Identifier(\"KlY48SVnZGFfB1sXKjldoo43UrLw6g\")\r\n",
      "\u001B[2m2023-07-30T17:52:20.597541Z\u001B[0m \u001B[32m INFO\u001B[0m \u001B[2mtest\u001B[0m\u001B[2m:\u001B[0m input=StringLiteral(\"f *N6zHH<E*vJjv`=g/-d:%&>\")\r\n",
      "\u001B[2m2023-07-30T17:52:20.597580Z\u001B[0m \u001B[32m INFO\u001B[0m \u001B[2mtest\u001B[0m\u001B[2m:\u001B[0m input=Operator(\"+\")\r\n",
      "\u001B[2m2023-07-30T17:52:20.597661Z\u001B[0m \u001B[32m INFO\u001B[0m \u001B[2mtest\u001B[0m\u001B[2m:\u001B[0m input=StringLiteral(\"|E\")\r\n",
      "\u001B[2m2023-07-30T17:52:20.597737Z\u001B[0m \u001B[32m INFO\u001B[0m \u001B[2mtest\u001B[0m\u001B[2m:\u001B[0m input=Operator(\"-\")\r\n",
      "\u001B[2m2023-07-30T17:52:20.597888Z\u001B[0m \u001B[32m INFO\u001B[0m \u001B[2mtest\u001B[0m\u001B[2m:\u001B[0m input=Integer(6436985533538712565)\r\n",
      "\u001B[2m2023-07-30T17:52:20.598003Z\u001B[0m \u001B[32m INFO\u001B[0m \u001B[2mtest\u001B[0m\u001B[2m:\u001B[0m input=Comment(\".=W??':\\\";=t~`sst.GNn`dC(.X'+a*s\")\r\n",
      "\u001B[2m2023-07-30T17:52:20.598074Z\u001B[0m \u001B[32m INFO\u001B[0m \u001B[2mtest\u001B[0m\u001B[2m:\u001B[0m input=StringLiteral(\".&??m%x|^0 %\")\r\n",
      "\u001B[2m2023-07-30T17:52:20.598123Z\u001B[0m \u001B[32m INFO\u001B[0m \u001B[2mtest\u001B[0m\u001B[2m:\u001B[0m input=Comment(\"QPWR<\\\"zI\")\r\n",
      "\u001B[2m2023-07-30T17:52:20.598178Z\u001B[0m \u001B[32m INFO\u001B[0m \u001B[2mtest\u001B[0m\u001B[2m:\u001B[0m input=Comment(\"Z.QF8\")\r\n",
      "\u001B[2m2023-07-30T17:52:20.598215Z\u001B[0m \u001B[32m INFO\u001B[0m \u001B[2mtest\u001B[0m\u001B[2m:\u001B[0m input=Identifier(\"aSSUYdZ0\")\r\n",
      "\u001B[2m2023-07-30T17:52:20.598274Z\u001B[0m \u001B[32m INFO\u001B[0m \u001B[2mtest\u001B[0m\u001B[2m:\u001B[0m input=Identifier(\"RAYC9r20Yn\")\r\n",
      "\u001B[2m2023-07-30T17:52:20.598306Z\u001B[0m \u001B[32m INFO\u001B[0m \u001B[2mtest\u001B[0m\u001B[2m:\u001B[0m input=Operator(\"+\")\r\n",
      "\u001B[2m2023-07-30T17:52:20.598345Z\u001B[0m \u001B[32m INFO\u001B[0m \u001B[2mtest\u001B[0m\u001B[2m:\u001B[0m input=Identifier(\"Dpxt6g599FOU\")\r\n",
      "\u001B[2m2023-07-30T17:52:20.598404Z\u001B[0m \u001B[32m INFO\u001B[0m \u001B[2mtest\u001B[0m\u001B[2m:\u001B[0m input=StringLiteral(\".w?oU0-\")\r\n",
      "\u001B[2m2023-07-30T17:52:20.598435Z\u001B[0m \u001B[32m INFO\u001B[0m \u001B[2mtest\u001B[0m\u001B[2m:\u001B[0m input=Integer(-3260935530089838358)\r\n",
      "\u001B[2m2023-07-30T17:52:20.598509Z\u001B[0m \u001B[32m INFO\u001B[0m \u001B[2mtest\u001B[0m\u001B[2m:\u001B[0m input=Comment(\"|W\\\"}&<]WDIPMO)W\\\"N]5t,5,56#`u\\\\-\")\r\n",
      "\u001B[2m2023-07-30T17:52:20.598563Z\u001B[0m \u001B[32m INFO\u001B[0m \u001B[2mtest\u001B[0m\u001B[2m:\u001B[0m input=Comment(\"c.n.$\\\\1q&hS&xA$^}F&rSl:$:W:F\\\\=\")\r\n",
      "\u001B[2m2023-07-30T17:52:20.598645Z\u001B[0m \u001B[32m INFO\u001B[0m \u001B[2mtest\u001B[0m\u001B[2m:\u001B[0m input=Comment(\"l==\\\\.N=?bR:'V\\\"?u|.}/0=2\\\\*3{J)G\\\"\")\r\n",
      "\u001B[2m2023-07-30T17:52:20.598738Z\u001B[0m \u001B[32m INFO\u001B[0m \u001B[2mtest\u001B[0m\u001B[2m:\u001B[0m input=StringLiteral(\"p d=<Dfp=R\")\r\n",
      "\u001B[2m2023-07-30T17:52:20.598791Z\u001B[0m \u001B[32m INFO\u001B[0m \u001B[2mtest\u001B[0m\u001B[2m:\u001B[0m input=Comment(\"&<L%@d::\\\"@7%WR-(d{I}HtGPO\")\r\n",
      "\u001B[2m2023-07-30T17:52:20.598850Z\u001B[0m \u001B[32m INFO\u001B[0m \u001B[2mtest\u001B[0m\u001B[2m:\u001B[0m input=Identifier(\"O9y80Sf4\")\r\n",
      "\u001B[2m2023-07-30T17:52:20.598900Z\u001B[0m \u001B[32m INFO\u001B[0m \u001B[2mtest\u001B[0m\u001B[2m:\u001B[0m input=Integer(-6837528480181750)\r\n",
      "\u001B[2m2023-07-30T17:52:20.599062Z\u001B[0m \u001B[32m INFO\u001B[0m \u001B[2mtest\u001B[0m\u001B[2m:\u001B[0m input=StringLiteral(\"^e_aJ/cK%l!a[`H.[s7N+rt5*:\")\r\n",
      "\u001B[2m2023-07-30T17:52:20.599214Z\u001B[0m \u001B[32m INFO\u001B[0m \u001B[2mtest\u001B[0m\u001B[2m:\u001B[0m input=Operator(\"=\")\r\n",
      "\u001B[2m2023-07-30T17:52:20.599278Z\u001B[0m \u001B[32m INFO\u001B[0m \u001B[2mtest\u001B[0m\u001B[2m:\u001B[0m input=Operator(\"/\")\r\n",
      "\u001B[2m2023-07-30T17:52:20.599311Z\u001B[0m \u001B[32m INFO\u001B[0m \u001B[2mtest\u001B[0m\u001B[2m:\u001B[0m input=Operator(\"/\")\r\n",
      "\u001B[2m2023-07-30T17:52:20.599386Z\u001B[0m \u001B[32m INFO\u001B[0m \u001B[2mtest\u001B[0m\u001B[2m:\u001B[0m input=Integer(-611145992701849118)\r\n",
      "\u001B[2m2023-07-30T17:52:20.599566Z\u001B[0m \u001B[32m INFO\u001B[0m \u001B[2mtest\u001B[0m\u001B[2m:\u001B[0m input=Identifier(\"CBqvHcaLpjx4YDeS4bbwUVJBMY\")\r\n",
      "\u001B[2m2023-07-30T17:52:20.599633Z\u001B[0m \u001B[32m INFO\u001B[0m \u001B[2mtest\u001B[0m\u001B[2m:\u001B[0m input=Operator(\"/\")\r\n",
      "\u001B[2m2023-07-30T17:52:20.599688Z\u001B[0m \u001B[32m INFO\u001B[0m \u001B[2mtest\u001B[0m\u001B[2m:\u001B[0m input=Identifier(\"aP86osxhSr9Q7MXX8\")\r\n",
      "\u001B[2m2023-07-30T17:52:20.599752Z\u001B[0m \u001B[32m INFO\u001B[0m \u001B[2mtest\u001B[0m\u001B[2m:\u001B[0m input=Operator(\"/\")\r\n",
      "\u001B[2m2023-07-30T17:52:20.599809Z\u001B[0m \u001B[32m INFO\u001B[0m \u001B[2mtest\u001B[0m\u001B[2m:\u001B[0m input=StringLiteral(\"{2?5Q.(*i%4'&/<t'\")\r\n",
      "\u001B[2m2023-07-30T17:52:20.599907Z\u001B[0m \u001B[32m INFO\u001B[0m \u001B[2mtest\u001B[0m\u001B[2m:\u001B[0m input=Integer(4981008635851403947)\r\n",
      "\u001B[2m2023-07-30T17:52:20.600011Z\u001B[0m \u001B[32m INFO\u001B[0m \u001B[2mtest\u001B[0m\u001B[2m:\u001B[0m input=Operator(\"*\")\r\n",
      "\u001B[2m2023-07-30T17:52:20.600121Z\u001B[0m \u001B[32m INFO\u001B[0m \u001B[2mtest\u001B[0m\u001B[2m:\u001B[0m input=Comment(\"_jPp*>{{,f{<WM'H:ksI'k=b=p\")\r\n",
      "\u001B[2m2023-07-30T17:52:20.600200Z\u001B[0m \u001B[32m INFO\u001B[0m \u001B[2mtest\u001B[0m\u001B[2m:\u001B[0m input=Comment(\"Fv$x/)O?*~t}{Se@E&\")\r\n",
      "\u001B[2m2023-07-30T17:52:20.600242Z\u001B[0m \u001B[32m INFO\u001B[0m \u001B[2mtest\u001B[0m\u001B[2m:\u001B[0m input=Integer(695488112978910569)\r\n",
      "\u001B[2m2023-07-30T17:52:20.600309Z\u001B[0m \u001B[32m INFO\u001B[0m \u001B[2mtest\u001B[0m\u001B[2m:\u001B[0m input=StringLiteral(\"nURe=?\")\r\n",
      "\u001B[2m2023-07-30T17:52:20.600348Z\u001B[0m \u001B[32m INFO\u001B[0m \u001B[2mtest\u001B[0m\u001B[2m:\u001B[0m input=Integer(4578339279737103111)\r\n",
      "\u001B[2m2023-07-30T17:52:20.600410Z\u001B[0m \u001B[32m INFO\u001B[0m \u001B[2mtest\u001B[0m\u001B[2m:\u001B[0m input=Integer(-7928047940424748064)\r\n",
      "\u001B[2m2023-07-30T17:52:20.600446Z\u001B[0m \u001B[32m INFO\u001B[0m \u001B[2mtest\u001B[0m\u001B[2m:\u001B[0m input=Integer(-1856086842116901069)\r\n",
      "\u001B[2m2023-07-30T17:52:20.600483Z\u001B[0m \u001B[32m INFO\u001B[0m \u001B[2mtest\u001B[0m\u001B[2m:\u001B[0m input=StringLiteral(\"*l.\")\r\n",
      "\u001B[2m2023-07-30T17:52:20.600517Z\u001B[0m \u001B[32m INFO\u001B[0m \u001B[2mtest\u001B[0m\u001B[2m:\u001B[0m input=Operator(\"-\")\r\n",
      "\u001B[2m2023-07-30T17:52:20.600550Z\u001B[0m \u001B[32m INFO\u001B[0m \u001B[2mtest\u001B[0m\u001B[2m:\u001B[0m input=Integer(393725927330225655)\r\n",
      "\u001B[2m2023-07-30T17:52:20.600610Z\u001B[0m \u001B[32m INFO\u001B[0m \u001B[2mtest\u001B[0m\u001B[2m:\u001B[0m input=Comment(\"E/<;\")\r\n",
      "\u001B[2m2023-07-30T17:52:20.600675Z\u001B[0m \u001B[32m INFO\u001B[0m \u001B[2mtest\u001B[0m\u001B[2m:\u001B[0m input=StringLiteral(\"StBr'pN'\")\r\n",
      "\u001B[2m2023-07-30T17:52:20.600769Z\u001B[0m \u001B[32m INFO\u001B[0m \u001B[2mtest\u001B[0m\u001B[2m:\u001B[0m input=StringLiteral(\"Kb/30Nt='=l<K{ {FDXQYt,X$y \")\r\n",
      "\u001B[2m2023-07-30T17:52:20.600866Z\u001B[0m \u001B[32m INFO\u001B[0m \u001B[2mtest\u001B[0m\u001B[2m:\u001B[0m input=Operator(\"(\")\r\n",
      "\u001B[2m2023-07-30T17:52:20.600915Z\u001B[0m \u001B[32m INFO\u001B[0m \u001B[2mtest\u001B[0m\u001B[2m:\u001B[0m input=Comment(\"*y({OXZ2qtqEyyH\\\"$&)UUr!?u$\")\r\n",
      "\u001B[2m2023-07-30T17:52:20.600956Z\u001B[0m \u001B[32m INFO\u001B[0m \u001B[2mtest\u001B[0m\u001B[2m:\u001B[0m input=Identifier(\"nl0Km333RPcnypp77CI\")\r\n",
      "\u001B[2m2023-07-30T17:52:20.600996Z\u001B[0m \u001B[32m INFO\u001B[0m \u001B[2mtest\u001B[0m\u001B[2m:\u001B[0m input=StringLiteral(\"ViJC|''R8?6I\")\r\n",
      "\u001B[2m2023-07-30T17:52:20.601056Z\u001B[0m \u001B[32m INFO\u001B[0m \u001B[2mtest\u001B[0m\u001B[2m:\u001B[0m input=Identifier(\"vT6821f2iDKZxUsoAokP3s\")\r\n",
      "\u001B[2m2023-07-30T17:52:20.601103Z\u001B[0m \u001B[32m INFO\u001B[0m \u001B[2mtest\u001B[0m\u001B[2m:\u001B[0m input=Operator(\"*\")\r\n",
      "\u001B[2m2023-07-30T17:52:20.601136Z\u001B[0m \u001B[32m INFO\u001B[0m \u001B[2mtest\u001B[0m\u001B[2m:\u001B[0m input=Operator(\"/\")\r\n",
      "\u001B[2m2023-07-30T17:52:20.601157Z\u001B[0m \u001B[32m INFO\u001B[0m \u001B[2mtest\u001B[0m\u001B[2m:\u001B[0m input=Integer(541055797250960313)\r\n",
      "\u001B[2m2023-07-30T17:52:20.601180Z\u001B[0m \u001B[32m INFO\u001B[0m \u001B[2mtest\u001B[0m\u001B[2m:\u001B[0m input=Operator(\"(\")\r\n",
      "\u001B[2m2023-07-30T17:52:20.601205Z\u001B[0m \u001B[32m INFO\u001B[0m \u001B[2mtest\u001B[0m\u001B[2m:\u001B[0m input=Identifier(\"YqK\")\r\n",
      "\u001B[2m2023-07-30T17:52:20.601233Z\u001B[0m \u001B[32m INFO\u001B[0m \u001B[2mtest\u001B[0m\u001B[2m:\u001B[0m input=Identifier(\"sw0WELIJPDWMTkLi\")\r\n",
      "\u001B[2m2023-07-30T17:52:20.601264Z\u001B[0m \u001B[32m INFO\u001B[0m \u001B[2mtest\u001B[0m\u001B[2m:\u001B[0m input=StringLiteral(\"m96'`OyhIP#?F%></c\")\r\n",
      "\u001B[2m2023-07-30T17:52:20.601289Z\u001B[0m \u001B[32m INFO\u001B[0m \u001B[2mtest\u001B[0m\u001B[2m:\u001B[0m input=Comment(\"\")\r\n",
      "\u001B[2m2023-07-30T17:52:20.601315Z\u001B[0m \u001B[32m INFO\u001B[0m \u001B[2mtest\u001B[0m\u001B[2m:\u001B[0m input=Integer(-9063850958790228837)\r\n",
      "\u001B[2m2023-07-30T17:52:20.601367Z\u001B[0m \u001B[32m INFO\u001B[0m \u001B[2mtest\u001B[0m\u001B[2m:\u001B[0m input=Identifier(\"B23k0XGB7Bz15QnUcQV6P9gMGR3\")\r\n",
      "\u001B[2m2023-07-30T17:52:20.601407Z\u001B[0m \u001B[32m INFO\u001B[0m \u001B[2mtest\u001B[0m\u001B[2m:\u001B[0m input=Identifier(\"A3lT\")\r\n",
      "\u001B[2m2023-07-30T17:52:20.601441Z\u001B[0m \u001B[32m INFO\u001B[0m \u001B[2mtest\u001B[0m\u001B[2m:\u001B[0m input=Comment(\"\")\r\n",
      "\u001B[2m2023-07-30T17:52:20.601473Z\u001B[0m \u001B[32m INFO\u001B[0m \u001B[2mtest\u001B[0m\u001B[2m:\u001B[0m input=Operator(\"=\")\r\n",
      "\u001B[2m2023-07-30T17:52:20.601514Z\u001B[0m \u001B[32m INFO\u001B[0m \u001B[2mtest\u001B[0m\u001B[2m:\u001B[0m input=Identifier(\"XFIUlfRooh10Mt5b\")\r\n",
      "\u001B[2m2023-07-30T17:52:20.601553Z\u001B[0m \u001B[32m INFO\u001B[0m \u001B[2mtest\u001B[0m\u001B[2m:\u001B[0m input=Operator(\"+\")\r\n",
      "\u001B[2m2023-07-30T17:52:20.601597Z\u001B[0m \u001B[32m INFO\u001B[0m \u001B[2mtest\u001B[0m\u001B[2m:\u001B[0m input=StringLiteral(\"L<v.EGO]po%!'A\")\r\n",
      "\u001B[2m2023-07-30T17:52:20.601651Z\u001B[0m \u001B[32m INFO\u001B[0m \u001B[2mtest\u001B[0m\u001B[2m:\u001B[0m input=Comment(\"B~FA<2D/q30?m\\\\n{\\\"N\")\r\n",
      "\u001B[2m2023-07-30T17:52:20.601810Z\u001B[0m \u001B[32m INFO\u001B[0m \u001B[2mtest\u001B[0m\u001B[2m:\u001B[0m input=Operator(\"*\")\r\n",
      "\u001B[2m2023-07-30T17:52:20.601875Z\u001B[0m \u001B[32m INFO\u001B[0m \u001B[2mtest\u001B[0m\u001B[2m:\u001B[0m input=Comment(\"{\\\"p5&M&HbCtW$d<:l{!Fs!(=+\")\r\n",
      "\u001B[2m2023-07-30T17:52:20.601931Z\u001B[0m \u001B[32m INFO\u001B[0m \u001B[2mtest\u001B[0m\u001B[2m:\u001B[0m input=StringLiteral(\"%Ch*?Q;.0{{Gp$Tox=.~\")\r\n",
      "\u001B[2m2023-07-30T17:52:20.602011Z\u001B[0m \u001B[32m INFO\u001B[0m \u001B[2mtest\u001B[0m\u001B[2m:\u001B[0m input=Operator(\"=\")\r\n",
      "\u001B[2m2023-07-30T17:52:20.602072Z\u001B[0m \u001B[32m INFO\u001B[0m \u001B[2mtest\u001B[0m\u001B[2m:\u001B[0m input=Comment(\"G\")\r\n",
      "\u001B[2m2023-07-30T17:52:20.602120Z\u001B[0m \u001B[32m INFO\u001B[0m \u001B[2mtest\u001B[0m\u001B[2m:\u001B[0m input=Identifier(\"msba4P8ICUg30d0kJ4X2u04\")\r\n",
      "\u001B[2m2023-07-30T17:52:20.602189Z\u001B[0m \u001B[32m INFO\u001B[0m \u001B[2mtest\u001B[0m\u001B[2m:\u001B[0m input=Integer(-9128227302721866521)\r\n",
      "\u001B[2m2023-07-30T17:52:20.602246Z\u001B[0m \u001B[32m INFO\u001B[0m \u001B[2mtest\u001B[0m\u001B[2m:\u001B[0m input=Integer(182118871795070186)\r\n",
      "\u001B[2m2023-07-30T17:52:20.602301Z\u001B[0m \u001B[32m INFO\u001B[0m \u001B[2mtest\u001B[0m\u001B[2m:\u001B[0m input=Integer(426036802860466905)\r\n",
      "\u001B[2m2023-07-30T17:52:20.602371Z\u001B[0m \u001B[32m INFO\u001B[0m \u001B[2mtest\u001B[0m\u001B[2m:\u001B[0m input=Comment(\"i..#`)=%U`b=Z?\")\r\n",
      "\u001B[2m2023-07-30T17:52:20.602482Z\u001B[0m \u001B[32m INFO\u001B[0m \u001B[2mtest\u001B[0m\u001B[2m:\u001B[0m input=Comment(\"&uyf7.8AuZdqnCB~8kY%M1e:HP*\\\"\")\r\n",
      "\u001B[2m2023-07-30T17:52:20.602554Z\u001B[0m \u001B[32m INFO\u001B[0m \u001B[2mtest\u001B[0m\u001B[2m:\u001B[0m input=Comment(\"\")\r\n",
      "\u001B[2m2023-07-30T17:52:20.602607Z\u001B[0m \u001B[32m INFO\u001B[0m \u001B[2mtest\u001B[0m\u001B[2m:\u001B[0m input=Comment(\"?ae'vL\\\"'@\\\\[ jGefK\\\\\")\r\n",
      "\u001B[2m2023-07-30T17:52:20.602672Z\u001B[0m \u001B[32m INFO\u001B[0m \u001B[2mtest\u001B[0m\u001B[2m:\u001B[0m input=Operator(\"-\")\r\n",
      "\u001B[2m2023-07-30T17:52:20.602716Z\u001B[0m \u001B[32m INFO\u001B[0m \u001B[2mtest\u001B[0m\u001B[2m:\u001B[0m input=StringLiteral(\"}]qz)\")\r\n",
      "\u001B[2m2023-07-30T17:52:20.602810Z\u001B[0m \u001B[32m INFO\u001B[0m \u001B[2mtest\u001B[0m\u001B[2m:\u001B[0m input=Comment(\"qQ!?uC]\\\"hXOrM&x4o\")\r\n",
      "\u001B[2m2023-07-30T17:52:20.602878Z\u001B[0m \u001B[32m INFO\u001B[0m \u001B[2mtest\u001B[0m\u001B[2m:\u001B[0m input=Comment(\":.%Lk&l-:&U(U;I~2/;_YhBC`\")\r\n",
      "\u001B[2m2023-07-30T17:52:20.602945Z\u001B[0m \u001B[32m INFO\u001B[0m \u001B[2mtest\u001B[0m\u001B[2m:\u001B[0m input=Operator(\"/\")\r\n",
      "\u001B[2m2023-07-30T17:52:20.603055Z\u001B[0m \u001B[32m INFO\u001B[0m \u001B[2mtest\u001B[0m\u001B[2m:\u001B[0m input=Identifier(\"UxLaSV\")\r\n",
      "\u001B[2m2023-07-30T17:52:20.603116Z\u001B[0m \u001B[32m INFO\u001B[0m \u001B[2mtest\u001B[0m\u001B[2m:\u001B[0m input=Integer(-3497676285901365545)\r\n",
      "\u001B[2m2023-07-30T17:52:20.603162Z\u001B[0m \u001B[32m INFO\u001B[0m \u001B[2mtest\u001B[0m\u001B[2m:\u001B[0m input=StringLiteral(\"$\")\r\n",
      "\u001B[2m2023-07-30T17:52:20.603241Z\u001B[0m \u001B[32m INFO\u001B[0m \u001B[2mtest\u001B[0m\u001B[2m:\u001B[0m input=Comment(\"T/$&/& kU'.=#uJ\")\r\n",
      "\u001B[2m2023-07-30T17:52:20.603288Z\u001B[0m \u001B[32m INFO\u001B[0m \u001B[2mtest\u001B[0m\u001B[2m:\u001B[0m input=Operator(\"+\")\r\n",
      "\u001B[2m2023-07-30T17:52:20.603363Z\u001B[0m \u001B[32m INFO\u001B[0m \u001B[2mtest\u001B[0m\u001B[2m:\u001B[0m input=StringLiteral(\"w:{(${$xz<\")\r\n",
      "\u001B[2m2023-07-30T17:52:20.603404Z\u001B[0m \u001B[32m INFO\u001B[0m \u001B[2mtest\u001B[0m\u001B[2m:\u001B[0m input=Integer(-7204186454850655084)\r\n",
      "\u001B[2m2023-07-30T17:52:20.603439Z\u001B[0m \u001B[32m INFO\u001B[0m \u001B[2mtest\u001B[0m\u001B[2m:\u001B[0m input=Integer(8936459758699336904)\r\n",
      "\u001B[2m2023-07-30T17:52:20.603501Z\u001B[0m \u001B[32m INFO\u001B[0m \u001B[2mtest\u001B[0m\u001B[2m:\u001B[0m input=Identifier(\"Mp6m7B95MA6c\")\r\n",
      "\u001B[2m2023-07-30T17:52:20.603549Z\u001B[0m \u001B[32m INFO\u001B[0m \u001B[2mtest\u001B[0m\u001B[2m:\u001B[0m input=Integer(5982457114904639759)\r\n",
      "\u001B[2m2023-07-30T17:52:20.603591Z\u001B[0m \u001B[32m INFO\u001B[0m \u001B[2mtest\u001B[0m\u001B[2m:\u001B[0m input=Operator(\"(\")\r\n",
      "\u001B[2m2023-07-30T17:52:20.603645Z\u001B[0m \u001B[32m INFO\u001B[0m \u001B[2mtest\u001B[0m\u001B[2m:\u001B[0m input=Comment(\"4h=4\\\"\\\\63mYI?~5>&?0?mt'rI\\\"\")\r\n",
      "\u001B[2m2023-07-30T17:52:20.603726Z\u001B[0m \u001B[32m INFO\u001B[0m \u001B[2mtest\u001B[0m\u001B[2m:\u001B[0m input=Comment(\"$MZz`z:n=p:`i7E]'K=]/3X6=o|4\")\r\n",
      "\u001B[2m2023-07-30T17:52:20.603781Z\u001B[0m \u001B[32m INFO\u001B[0m \u001B[2mtest\u001B[0m\u001B[2m:\u001B[0m input=StringLiteral(\"=T&Vc0+F/<d*,x49Y.7q1\")\r\n",
      "\u001B[2m2023-07-30T17:52:20.603823Z\u001B[0m \u001B[32m INFO\u001B[0m \u001B[2mtest\u001B[0m\u001B[2m:\u001B[0m input=Integer(423892168259439210)\r\n",
      "\u001B[2m2023-07-30T17:52:20.603880Z\u001B[0m \u001B[32m INFO\u001B[0m \u001B[2mtest\u001B[0m\u001B[2m:\u001B[0m input=Identifier(\"Y2c0Rm38\")\r\n",
      "\u001B[2m2023-07-30T17:52:20.604247Z\u001B[0m \u001B[32m INFO\u001B[0m \u001B[2mtest\u001B[0m\u001B[2m:\u001B[0m input=Comment(\"6\")\r\n",
      "\u001B[2m2023-07-30T17:52:20.604407Z\u001B[0m \u001B[32m INFO\u001B[0m \u001B[2mtest\u001B[0m\u001B[2m:\u001B[0m input=Operator(\"*\")\r\n",
      "\u001B[2m2023-07-30T17:52:20.604521Z\u001B[0m \u001B[32m INFO\u001B[0m \u001B[2mtest\u001B[0m\u001B[2m:\u001B[0m input=Integer(-4331964894275740293)\r\n",
      "\u001B[2m2023-07-30T17:52:20.604582Z\u001B[0m \u001B[32m INFO\u001B[0m \u001B[2mtest\u001B[0m\u001B[2m:\u001B[0m input=Operator(\"+\")\r\n",
      "\u001B[2m2023-07-30T17:52:20.604639Z\u001B[0m \u001B[32m INFO\u001B[0m \u001B[2mtest\u001B[0m\u001B[2m:\u001B[0m input=StringLiteral(\"\")\r\n",
      "\u001B[2m2023-07-30T17:52:20.604767Z\u001B[0m \u001B[32m INFO\u001B[0m \u001B[2mtest\u001B[0m\u001B[2m:\u001B[0m input=StringLiteral(\"$8B|-{V6_|&&\")\r\n",
      "\u001B[2m2023-07-30T17:52:20.604955Z\u001B[0m \u001B[32m INFO\u001B[0m \u001B[2mtest\u001B[0m\u001B[2m:\u001B[0m input=StringLiteral(\"dc=d!*X7{QR8n'6N/@,?/3`-D\")\r\n",
      "\u001B[2m2023-07-30T17:52:20.605052Z\u001B[0m \u001B[32m INFO\u001B[0m \u001B[2mtest\u001B[0m\u001B[2m:\u001B[0m input=StringLiteral(\"mF6+I^3=E`R8F@??g<`` Q\")\r\n",
      "\u001B[2m2023-07-30T17:52:20.605121Z\u001B[0m \u001B[32m INFO\u001B[0m \u001B[2mtest\u001B[0m\u001B[2m:\u001B[0m input=Operator(\"/\")\r\n",
      "\u001B[2m2023-07-30T17:52:20.605207Z\u001B[0m \u001B[32m INFO\u001B[0m \u001B[2mtest\u001B[0m\u001B[2m:\u001B[0m input=Identifier(\"VDIe2cPues8M3QZh1j\")\r\n",
      "\u001B[2m2023-07-30T17:52:20.605277Z\u001B[0m \u001B[32m INFO\u001B[0m \u001B[2mtest\u001B[0m\u001B[2m:\u001B[0m input=Operator(\"*\")\r\n",
      "\u001B[2m2023-07-30T17:52:20.605320Z\u001B[0m \u001B[32m INFO\u001B[0m \u001B[2mtest\u001B[0m\u001B[2m:\u001B[0m input=Identifier(\"UY0bbD\")\r\n",
      "\u001B[2m2023-07-30T17:52:20.605380Z\u001B[0m \u001B[32m INFO\u001B[0m \u001B[2mtest\u001B[0m\u001B[2m:\u001B[0m input=Operator(\"/\")\r\n",
      "\u001B[2m2023-07-30T17:52:20.605460Z\u001B[0m \u001B[32m INFO\u001B[0m \u001B[2mtest\u001B[0m\u001B[2m:\u001B[0m input=Identifier(\"k6Bd57TQ6X\")\r\n",
      "\u001B[2m2023-07-30T17:52:20.605526Z\u001B[0m \u001B[32m INFO\u001B[0m \u001B[2mtest\u001B[0m\u001B[2m:\u001B[0m input=Identifier(\"yFT\")\r\n",
      "\u001B[2m2023-07-30T17:52:20.605609Z\u001B[0m \u001B[32m INFO\u001B[0m \u001B[2mtest\u001B[0m\u001B[2m:\u001B[0m input=StringLiteral(\"6}9%!c8%:'OG\")\r\n",
      "\u001B[2m2023-07-30T17:52:20.605682Z\u001B[0m \u001B[32m INFO\u001B[0m \u001B[2mtest\u001B[0m\u001B[2m:\u001B[0m input=StringLiteral(\"$:h?.!T[O*/%\")\r\n",
      "\u001B[2m2023-07-30T17:52:20.605723Z\u001B[0m \u001B[32m INFO\u001B[0m \u001B[2mtest\u001B[0m\u001B[2m:\u001B[0m input=Identifier(\"k\")\r\n",
      "\u001B[2m2023-07-30T17:52:20.605796Z\u001B[0m \u001B[32m INFO\u001B[0m \u001B[2mtest\u001B[0m\u001B[2m:\u001B[0m input=Comment(\"A'1*6wv/rlPuN='!<<{plHI6%3URo\")\r\n",
      "\u001B[2m2023-07-30T17:52:20.605861Z\u001B[0m \u001B[32m INFO\u001B[0m \u001B[2mtest\u001B[0m\u001B[2m:\u001B[0m input=Operator(\"/\")\r\n",
      "\u001B[2m2023-07-30T17:52:20.605888Z\u001B[0m \u001B[32m INFO\u001B[0m \u001B[2mtest\u001B[0m\u001B[2m:\u001B[0m input=Integer(-6154250168754063650)\r\n",
      "\u001B[2m2023-07-30T17:52:20.605946Z\u001B[0m \u001B[32m INFO\u001B[0m \u001B[2mtest\u001B[0m\u001B[2m:\u001B[0m input=Identifier(\"d4ATA80EPK3fK2U9W\")\r\n",
      "\u001B[2m2023-07-30T17:52:20.606027Z\u001B[0m \u001B[32m INFO\u001B[0m \u001B[2mtest\u001B[0m\u001B[2m:\u001B[0m input=Identifier(\"aJgWvY7WE36EjKhofIahulX\")\r\n",
      "\u001B[2m2023-07-30T17:52:20.606063Z\u001B[0m \u001B[32m INFO\u001B[0m \u001B[2mtest\u001B[0m\u001B[2m:\u001B[0m input=Integer(-557062973256133545)\r\n",
      "\u001B[2m2023-07-30T17:52:20.606142Z\u001B[0m \u001B[32m INFO\u001B[0m \u001B[2mtest\u001B[0m\u001B[2m:\u001B[0m input=Comment(\"e'9IX7)#yj\")\r\n",
      "\u001B[2m2023-07-30T17:52:20.606207Z\u001B[0m \u001B[32m INFO\u001B[0m \u001B[2mtest\u001B[0m\u001B[2m:\u001B[0m input=Identifier(\"UmVLGv758u8j5LijMx9\")\r\n",
      "\u001B[2m2023-07-30T17:52:20.606425Z\u001B[0m \u001B[32m INFO\u001B[0m \u001B[2mtest\u001B[0m\u001B[2m:\u001B[0m input=Comment(\"M~:$VUGM\\\\$6!%jy$MjyM|qENyAkk\")\r\n",
      "\u001B[2m2023-07-30T17:52:20.606511Z\u001B[0m \u001B[32m INFO\u001B[0m \u001B[2mtest\u001B[0m\u001B[2m:\u001B[0m input=Identifier(\"g2gHMncvBP8huX07ip6u44VFFL\")\r\n",
      "\u001B[2m2023-07-30T17:52:20.606607Z\u001B[0m \u001B[32m INFO\u001B[0m \u001B[2mtest\u001B[0m\u001B[2m:\u001B[0m input=StringLiteral(\"7A\")\r\n",
      "\u001B[2m2023-07-30T17:52:20.606686Z\u001B[0m \u001B[32m INFO\u001B[0m \u001B[2mtest\u001B[0m\u001B[2m:\u001B[0m input=StringLiteral(\"R%1(AQ%df(_H@\")\r\n",
      "\u001B[2m2023-07-30T17:52:20.606731Z\u001B[0m \u001B[32m INFO\u001B[0m \u001B[2mtest\u001B[0m\u001B[2m:\u001B[0m input=Integer(-7284072952466725383)\r\n",
      "\u001B[2m2023-07-30T17:52:20.606805Z\u001B[0m \u001B[32m INFO\u001B[0m \u001B[2mtest\u001B[0m\u001B[2m:\u001B[0m input=Comment(\"I6?\")\r\n",
      "\u001B[2m2023-07-30T17:52:20.606845Z\u001B[0m \u001B[32m INFO\u001B[0m \u001B[2mtest\u001B[0m\u001B[2m:\u001B[0m input=Integer(-1563310743351126809)\r\n",
      "\u001B[2m2023-07-30T17:52:20.606933Z\u001B[0m \u001B[32m INFO\u001B[0m \u001B[2mtest\u001B[0m\u001B[2m:\u001B[0m input=Comment(\"2'y].HvPC:+:/$ cZ=\\\"d'\")\r\n",
      "\u001B[2m2023-07-30T17:52:20.607002Z\u001B[0m \u001B[32m INFO\u001B[0m \u001B[2mtest\u001B[0m\u001B[2m:\u001B[0m input=Comment(\"D9`?&t&+(C%aB6D{R}\\\\M#<?<i\")\r\n",
      "\u001B[2m2023-07-30T17:52:20.607209Z\u001B[0m \u001B[32m INFO\u001B[0m \u001B[2mtest\u001B[0m\u001B[2m:\u001B[0m input=Integer(8938243835588416745)\r\n",
      "\u001B[2m2023-07-30T17:52:20.607289Z\u001B[0m \u001B[32m INFO\u001B[0m \u001B[2mtest\u001B[0m\u001B[2m:\u001B[0m input=Comment(\"`$3!ZB{$ 5?.1\")\r\n",
      "\u001B[2m2023-07-30T17:52:20.607332Z\u001B[0m \u001B[32m INFO\u001B[0m \u001B[2mtest\u001B[0m\u001B[2m:\u001B[0m input=Integer(-551829171572103279)\r\n",
      "\u001B[2m2023-07-30T17:52:20.607399Z\u001B[0m \u001B[32m INFO\u001B[0m \u001B[2mtest\u001B[0m\u001B[2m:\u001B[0m input=Operator(\"+\")\r\n",
      "\u001B[2m2023-07-30T17:52:20.607447Z\u001B[0m \u001B[32m INFO\u001B[0m \u001B[2mtest\u001B[0m\u001B[2m:\u001B[0m input=Identifier(\"SRX970KYB80Vn\")\r\n",
      "\u001B[2m2023-07-30T17:52:20.607517Z\u001B[0m \u001B[32m INFO\u001B[0m \u001B[2mtest\u001B[0m\u001B[2m:\u001B[0m input=StringLiteral(\"H\")\r\n",
      "\u001B[2m2023-07-30T17:52:20.607617Z\u001B[0m \u001B[32m INFO\u001B[0m \u001B[2mtest\u001B[0m\u001B[2m:\u001B[0m input=Comment(\"lOH'qKt4n\\\"\\\"\\\\p`#S{<SL{==\\\\\")\r\n",
      "\u001B[2m2023-07-30T17:52:20.607681Z\u001B[0m \u001B[32m INFO\u001B[0m \u001B[2mtest\u001B[0m\u001B[2m:\u001B[0m input=Integer(7708279675847218028)\r\n",
      "\u001B[2m2023-07-30T17:52:20.607720Z\u001B[0m \u001B[32m INFO\u001B[0m \u001B[2mtest\u001B[0m\u001B[2m:\u001B[0m input=Operator(\")\")\r\n",
      "\u001B[2m2023-07-30T17:52:20.607778Z\u001B[0m \u001B[32m INFO\u001B[0m \u001B[2mtest\u001B[0m\u001B[2m:\u001B[0m input=Integer(7017190110626475352)\r\n",
      "\u001B[2m2023-07-30T17:52:20.607844Z\u001B[0m \u001B[32m INFO\u001B[0m \u001B[2mtest\u001B[0m\u001B[2m:\u001B[0m input=Identifier(\"BS3zcEM84Lq\")\r\n",
      "\u001B[2m2023-07-30T17:52:20.607908Z\u001B[0m \u001B[32m INFO\u001B[0m \u001B[2mtest\u001B[0m\u001B[2m:\u001B[0m input=Integer(6600932726533980236)\r\n",
      "\u001B[2m2023-07-30T17:52:20.607974Z\u001B[0m \u001B[32m INFO\u001B[0m \u001B[2mtest\u001B[0m\u001B[2m:\u001B[0m input=Operator(\"=\")\r\n",
      "\u001B[2m2023-07-30T17:52:20.608059Z\u001B[0m \u001B[32m INFO\u001B[0m \u001B[2mtest\u001B[0m\u001B[2m:\u001B[0m input=Operator(\"*\")\r\n",
      "\u001B[2m2023-07-30T17:52:20.608134Z\u001B[0m \u001B[32m INFO\u001B[0m \u001B[2mtest\u001B[0m\u001B[2m:\u001B[0m input=Comment(\"Q3]d\\\"n\\\\1I86h:\")\r\n",
      "\u001B[2m2023-07-30T17:52:20.608195Z\u001B[0m \u001B[32m INFO\u001B[0m \u001B[2mtest\u001B[0m\u001B[2m:\u001B[0m input=Integer(-9033362634926349399)\r\n",
      "\u001B[2m2023-07-30T17:52:20.608253Z\u001B[0m \u001B[32m INFO\u001B[0m \u001B[2mtest\u001B[0m\u001B[2m:\u001B[0m input=Operator(\"*\")\r\n",
      "\u001B[2m2023-07-30T17:52:20.608381Z\u001B[0m \u001B[32m INFO\u001B[0m \u001B[2mtest\u001B[0m\u001B[2m:\u001B[0m input=Integer(-8911193136020736816)\r\n",
      "\u001B[2m2023-07-30T17:52:20.608534Z\u001B[0m \u001B[32m INFO\u001B[0m \u001B[2mtest\u001B[0m\u001B[2m:\u001B[0m input=StringLiteral(\"&%B\")\r\n",
      "\u001B[2m2023-07-30T17:52:20.608671Z\u001B[0m \u001B[32m INFO\u001B[0m \u001B[2mtest\u001B[0m\u001B[2m:\u001B[0m input=Integer(-4319168922542966437)\r\n",
      "\u001B[2m2023-07-30T17:52:20.608736Z\u001B[0m \u001B[32m INFO\u001B[0m \u001B[2mtest\u001B[0m\u001B[2m:\u001B[0m input=Identifier(\"UbQ5baP75\")\r\n",
      "\u001B[2m2023-07-30T17:52:20.608785Z\u001B[0m \u001B[32m INFO\u001B[0m \u001B[2mtest\u001B[0m\u001B[2m:\u001B[0m input=StringLiteral(\"' ?%B,R=EjcWUd W:.RM`\")\r\n",
      "\u001B[2m2023-07-30T17:52:20.608854Z\u001B[0m \u001B[32m INFO\u001B[0m \u001B[2mtest\u001B[0m\u001B[2m:\u001B[0m input=Operator(\")\")\r\n",
      "\u001B[2m2023-07-30T17:52:20.608909Z\u001B[0m \u001B[32m INFO\u001B[0m \u001B[2mtest\u001B[0m\u001B[2m:\u001B[0m input=Comment(\"N'I/.Q)K:s={E\\\\9wgiF\\\\Q\")\r\n",
      "\u001B[2m2023-07-30T17:52:20.609036Z\u001B[0m \u001B[32m INFO\u001B[0m \u001B[2mtest\u001B[0m\u001B[2m:\u001B[0m input=Integer(605592042754235249)\r\n",
      "\u001B[2m2023-07-30T17:52:20.609112Z\u001B[0m \u001B[32m INFO\u001B[0m \u001B[2mtest\u001B[0m\u001B[2m:\u001B[0m input=Comment(\"8Pb\\\"$YGQg_4]?86*/M?$?<&'\")\r\n",
      "\u001B[2m2023-07-30T17:52:20.609161Z\u001B[0m \u001B[32m INFO\u001B[0m \u001B[2mtest\u001B[0m\u001B[2m:\u001B[0m input=StringLiteral(\"Z3<<Pg@?>\")\r\n",
      "\u001B[2m2023-07-30T17:52:20.609225Z\u001B[0m \u001B[32m INFO\u001B[0m \u001B[2mtest\u001B[0m\u001B[2m:\u001B[0m input=Operator(\"=\")\r\n",
      "\u001B[2m2023-07-30T17:52:20.609279Z\u001B[0m \u001B[32m INFO\u001B[0m \u001B[2mtest\u001B[0m\u001B[2m:\u001B[0m input=Identifier(\"bKAOA4b1395041WKz6RcfOF91\")\r\n",
      "\u001B[2m2023-07-30T17:52:20.609358Z\u001B[0m \u001B[32m INFO\u001B[0m \u001B[2mtest\u001B[0m\u001B[2m:\u001B[0m input=Identifier(\"jTN490a9kuJvrV84DrtfB29v9\")\r\n",
      "\u001B[2m2023-07-30T17:52:20.609397Z\u001B[0m \u001B[32m INFO\u001B[0m \u001B[2mtest\u001B[0m\u001B[2m:\u001B[0m input=StringLiteral(\"%p\")\r\n",
      "\u001B[2m2023-07-30T17:52:20.609467Z\u001B[0m \u001B[32m INFO\u001B[0m \u001B[2mtest\u001B[0m\u001B[2m:\u001B[0m input=Comment(\"U']@5&f7\")\r\n",
      "\u001B[2m2023-07-30T17:52:20.609505Z\u001B[0m \u001B[32m INFO\u001B[0m \u001B[2mtest\u001B[0m\u001B[2m:\u001B[0m input=Integer(-8125680309605166303)\r\n",
      "\u001B[2m2023-07-30T17:52:20.609573Z\u001B[0m \u001B[32m INFO\u001B[0m \u001B[2mtest\u001B[0m\u001B[2m:\u001B[0m input=StringLiteral(\"Wy|@T*jXnKcg\")\r\n",
      "\u001B[2m2023-07-30T17:52:20.609683Z\u001B[0m \u001B[32m INFO\u001B[0m \u001B[2mtest\u001B[0m\u001B[2m:\u001B[0m input=Comment(\"s%.*ZB.;`\\\\\")\r\n",
      "\u001B[2m2023-07-30T17:52:20.609749Z\u001B[0m \u001B[32m INFO\u001B[0m \u001B[2mtest\u001B[0m\u001B[2m:\u001B[0m input=Operator(\"(\")\r\n",
      "\u001B[2m2023-07-30T17:52:20.609811Z\u001B[0m \u001B[32m INFO\u001B[0m \u001B[2mtest\u001B[0m\u001B[2m:\u001B[0m input=Operator(\")\")\r\n",
      "\u001B[2m2023-07-30T17:52:20.609876Z\u001B[0m \u001B[32m INFO\u001B[0m \u001B[2mtest\u001B[0m\u001B[2m:\u001B[0m input=StringLiteral(\"R\")\r\n",
      "\u001B[2m2023-07-30T17:52:20.609967Z\u001B[0m \u001B[32m INFO\u001B[0m \u001B[2mtest\u001B[0m\u001B[2m:\u001B[0m input=Comment(\"b6~rlX|sQ_8.u%\\\"p8_a$(]`U\")\r\n",
      "\u001B[2m2023-07-30T17:52:20.610059Z\u001B[0m \u001B[32m INFO\u001B[0m \u001B[2mtest\u001B[0m\u001B[2m:\u001B[0m input=Comment(\"MW2%n@6dm<;';2'c<{6U$`cH2\")\r\n",
      "\u001B[2m2023-07-30T17:52:20.610130Z\u001B[0m \u001B[32m INFO\u001B[0m \u001B[2mtest\u001B[0m\u001B[2m:\u001B[0m input=Comment(\"sD8[$v}kK(\")\r\n",
      "\u001B[2m2023-07-30T17:52:20.610196Z\u001B[0m \u001B[32m INFO\u001B[0m \u001B[2mtest\u001B[0m\u001B[2m:\u001B[0m input=Comment(\"L1C{! ~u3N\\\\P*:.\")\r\n",
      "\u001B[2m2023-07-30T17:52:20.610292Z\u001B[0m \u001B[32m INFO\u001B[0m \u001B[2mtest\u001B[0m\u001B[2m:\u001B[0m input=Integer(3972637345241368545)\r\n",
      "\u001B[2m2023-07-30T17:52:20.610350Z\u001B[0m \u001B[32m INFO\u001B[0m \u001B[2mtest\u001B[0m\u001B[2m:\u001B[0m input=Operator(\"/\")\r\n",
      "\u001B[2m2023-07-30T17:52:20.610384Z\u001B[0m \u001B[32m INFO\u001B[0m \u001B[2mtest\u001B[0m\u001B[2m:\u001B[0m input=Identifier(\"js\")\r\n",
      "\u001B[2m2023-07-30T17:52:20.610415Z\u001B[0m \u001B[32m INFO\u001B[0m \u001B[2mtest\u001B[0m\u001B[2m:\u001B[0m input=Comment(\"?\")\r\n",
      "\u001B[2m2023-07-30T17:52:20.610466Z\u001B[0m \u001B[32m INFO\u001B[0m \u001B[2mtest\u001B[0m\u001B[2m:\u001B[0m input=StringLiteral(\"!N&'OFFr~jZ{|!:l/`Sn;_>\")\r\n",
      "\u001B[2m2023-07-30T17:52:20.610509Z\u001B[0m \u001B[32m INFO\u001B[0m \u001B[2mtest\u001B[0m\u001B[2m:\u001B[0m input=Comment(\"/$5$f$B{{\")\r\n",
      "\u001B[2m2023-07-30T17:52:20.610543Z\u001B[0m \u001B[32m INFO\u001B[0m \u001B[2mtest\u001B[0m\u001B[2m:\u001B[0m input=Identifier(\"TZcyP\")\r\n",
      "\u001B[2m2023-07-30T17:52:20.610636Z\u001B[0m \u001B[32m INFO\u001B[0m \u001B[2mtest\u001B[0m\u001B[2m:\u001B[0m input=StringLiteral(\"602&Gk&$$S( 2tWk7\")\r\n",
      "\u001B[2m2023-07-30T17:52:20.610678Z\u001B[0m \u001B[32m INFO\u001B[0m \u001B[2mtest\u001B[0m\u001B[2m:\u001B[0m input=Operator(\"(\")\r\n",
      "\u001B[2m2023-07-30T17:52:20.610792Z\u001B[0m \u001B[32m INFO\u001B[0m \u001B[2mtest\u001B[0m\u001B[2m:\u001B[0m input=Operator(\"(\")\r\n",
      "\u001B[2m2023-07-30T17:52:20.610860Z\u001B[0m \u001B[32m INFO\u001B[0m \u001B[2mtest\u001B[0m\u001B[2m:\u001B[0m input=Operator(\"*\")\r\n",
      "\u001B[2m2023-07-30T17:52:20.610894Z\u001B[0m \u001B[32m INFO\u001B[0m \u001B[2mtest\u001B[0m\u001B[2m:\u001B[0m input=Integer(-7730137688699625532)\r\n",
      "\u001B[2m2023-07-30T17:52:20.610948Z\u001B[0m \u001B[32m INFO\u001B[0m \u001B[2mtest\u001B[0m\u001B[2m:\u001B[0m input=Comment(\"sZdl/.C/l`{?!lt)w??n%L\")\r\n",
      "\u001B[2m2023-07-30T17:52:20.610992Z\u001B[0m \u001B[32m INFO\u001B[0m \u001B[2mtest\u001B[0m\u001B[2m:\u001B[0m input=Operator(\"/\")\r\n",
      "\u001B[2m2023-07-30T17:52:20.611048Z\u001B[0m \u001B[32m INFO\u001B[0m \u001B[2mtest\u001B[0m\u001B[2m:\u001B[0m input=StringLiteral(\"D/AX*$}?u]G/MVMiL\")\r\n",
      "\u001B[2m2023-07-30T17:52:20.611092Z\u001B[0m \u001B[32m INFO\u001B[0m \u001B[2mtest\u001B[0m\u001B[2m:\u001B[0m input=StringLiteral(\"dc@:v _@;ii-,|C(%$73\")\r\n",
      "\u001B[2m2023-07-30T17:52:20.611129Z\u001B[0m \u001B[32m INFO\u001B[0m \u001B[2mtest\u001B[0m\u001B[2m:\u001B[0m input=StringLiteral(\"r;l{<?3BSl'(\")\r\n",
      "\u001B[2m2023-07-30T17:52:20.611162Z\u001B[0m \u001B[32m INFO\u001B[0m \u001B[2mtest\u001B[0m\u001B[2m:\u001B[0m input=Identifier(\"KEqJ890p2oocNm37bGQU\")\r\n",
      "\u001B[2m2023-07-30T17:52:20.611190Z\u001B[0m \u001B[32m INFO\u001B[0m \u001B[2mtest\u001B[0m\u001B[2m:\u001B[0m input=Identifier(\"VSEQAcrdv9Qy8\")\r\n",
      "\u001B[2m2023-07-30T17:52:20.611214Z\u001B[0m \u001B[32m INFO\u001B[0m \u001B[2mtest\u001B[0m\u001B[2m:\u001B[0m input=Integer(7110576790198484865)\r\n",
      "\u001B[2m2023-07-30T17:52:20.611235Z\u001B[0m \u001B[32m INFO\u001B[0m \u001B[2mtest\u001B[0m\u001B[2m:\u001B[0m input=Integer(-5299282184717449593)\r\n",
      "\u001B[2m2023-07-30T17:52:20.611275Z\u001B[0m \u001B[32m INFO\u001B[0m \u001B[2mtest\u001B[0m\u001B[2m:\u001B[0m input=Identifier(\"QR\")\r\n",
      "\u001B[2m2023-07-30T17:52:20.611301Z\u001B[0m \u001B[32m INFO\u001B[0m \u001B[2mtest\u001B[0m\u001B[2m:\u001B[0m input=Comment(\".\\\"RY^<w\")\r\n",
      "\u001B[2m2023-07-30T17:52:20.611327Z\u001B[0m \u001B[32m INFO\u001B[0m \u001B[2mtest\u001B[0m\u001B[2m:\u001B[0m input=StringLiteral(\"@?\")\r\n",
      "\u001B[2m2023-07-30T17:52:20.611356Z\u001B[0m \u001B[32m INFO\u001B[0m \u001B[2mtest\u001B[0m\u001B[2m:\u001B[0m input=StringLiteral(\"1a/W3t=fm@_'p;h+\")\r\n",
      "\u001B[2m2023-07-30T17:52:20.611388Z\u001B[0m \u001B[32m INFO\u001B[0m \u001B[2mtest\u001B[0m\u001B[2m:\u001B[0m input=Identifier(\"nqt0kXvd8KgSKDPm4PPBF56\")\r\n",
      "\u001B[2m2023-07-30T17:52:20.611443Z\u001B[0m \u001B[32m INFO\u001B[0m \u001B[2mtest\u001B[0m\u001B[2m:\u001B[0m input=Identifier(\"szU7yrHr71bdcwaYaS43Ho14Ey\")\r\n",
      "\u001B[2m2023-07-30T17:52:20.611498Z\u001B[0m \u001B[32m INFO\u001B[0m \u001B[2mtest\u001B[0m\u001B[2m:\u001B[0m input=Comment(\"E\\\\9?qMo`a\")\r\n",
      "\u001B[2m2023-07-30T17:52:20.611533Z\u001B[0m \u001B[32m INFO\u001B[0m \u001B[2mtest\u001B[0m\u001B[2m:\u001B[0m input=Comment(\"&6'iR>YT?\\\\X=`8Z\")\r\n",
      "\u001B[2m2023-07-30T17:52:20.611594Z\u001B[0m \u001B[32m INFO\u001B[0m \u001B[2mtest\u001B[0m\u001B[2m:\u001B[0m input=Identifier(\"gx6Nl8o0XUb1tMZW\")\r\n",
      "\u001B[2m2023-07-30T17:52:20.611625Z\u001B[0m \u001B[32m INFO\u001B[0m \u001B[2mtest\u001B[0m\u001B[2m:\u001B[0m input=Identifier(\"S0Jug5x6h\")\r\n",
      "test prop_parse_format_idempotent ... ok\r\n",
      "test adding_and_then_removing_an_item_from_the_cart_leaves_the_cart_unchanged ... ok\r\n",
      "\r\n",
      "test result: ok. 3 passed; 0 failed; 0 ignored; 0 measured; 0 filtered out; finished in 0.15s\r\n",
      "\r\n"
     ]
    }
   ],
   "source": [
    "$env:RUST_LOG=\"info\"\n",
    "{ cargo test --release } | Invoke-Block"
   ]
  },
  {
   "cell_type": "code",
   "execution_count": null,
   "metadata": {
    "dotnet_interactive": {
     "language": "pwsh"
    },
    "polyglot_notebook": {
     "kernelName": "pwsh"
    }
   },
   "outputs": [
    {
     "name": "stdout",
     "output_type": "stream",
     "text": [
      "app=test\r\n"
     ]
    }
   ],
   "source": [
    "{ . \"$ScriptDir/../../target/release/test$(if ($IsWindows) { '.exe' } else { '' })\" } | Invoke-Block"
   ]
  }
 ],
 "metadata": {
  "kernelspec": {
   "display_name": ".NET (C#)",
   "language": "C#",
   "name": ".net-csharp"
  },
  "language_info": {
   "file_extension": ".cs",
   "mimetype": "text/x-csharp",
   "name": "C#",
   "pygments_lexer": "csharp",
   "version": "10.0"
  },
  "polyglot_notebook": {
   "defaultKernelName": "csharp",
   "items": [
    {
     "name": "csharp"
    }
   ]
  },
  "dotnet_interactive": {
   "defaultKernelName": "csharp",
   "items": [
    {
     "name": "csharp"
    }
   ]
  }
 },
 "nbformat": 4,
 "nbformat_minor": 5
}