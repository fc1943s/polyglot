{
 "cells": [
  {
   "cell_type": "code",
   "execution_count": null,
   "metadata": {
    "dotnet_repl_cellExecutionStartTime": "2023-07-11T01:14:34.0701445-03:00",
    "dotnet_repl_cellExecutionEndTime": "2023-07-11T01:14:34.8063766-03:00",
    "dotnet_repl_cellExecutionTime": "736.3902ms",
    "dotnet_interactive": {
     "language": "pwsh"
    },
    "polyglot_notebook": {
     "kernelName": "pwsh"
    }
   },
   "outputs": [],
   "source": [
    ". ../../scripts/nbs_header.ps1\n",
    ". ../../scripts/core.ps1"
   ]
  },
  {
   "cell_type": "code",
   "execution_count": null,
   "metadata": {
    "dotnet_repl_cellExecutionStartTime": "2023-07-11T01:14:34.8091005-03:00",
    "dotnet_repl_cellExecutionEndTime": "2023-07-11T01:14:38.4657594-03:00",
    "dotnet_repl_cellExecutionTime": "3.6566636s",
    "dotnet_interactive": {
     "language": "pwsh"
    },
    "polyglot_notebook": {
     "kernelName": "pwsh"
    }
   },
   "outputs": [
    {
     "name": "stdout",
     "output_type": "stream",
     "text": [
      "Fable 4.1.4: F# to Rust compiler (status: alpha)\r\n",
      "\r\n",
      "Thanks to the contributor! @Pauan\r\n",
      "Stand with Ukraine! https://standwithukraine.com.ua/\r\n",
      "\r\n",
      "Parsing test.fsproj...\r\n",
      "Retrieving project options from cache, in case of issues run `dotnet fable clean` or try `--noCache` option.\r\n",
      "Project and references (1 source files) parsed in 173ms\r\n",
      "\r\n",
      "Started Fable compilation...\r\n",
      "Fable compilation finished in 1600ms\r\n",
      "\r\n",
      ".\\test.fsx(6,0): (6,2) warning FABLE: For Rust, support for F# static and module do bindings is disabled by default. It can be enabled with the 'static_do_bindings' feature. Use at your own risk!\r\n"
     ]
    }
   ],
   "source": [
    "dotnet fable --optimize --lang rs --extension .rs"
   ]
  },
  {
   "cell_type": "code",
   "execution_count": null,
   "metadata": {
    "dotnet_repl_cellExecutionStartTime": "2023-07-11T01:14:38.4658272-03:00",
    "dotnet_repl_cellExecutionEndTime": "2023-07-11T01:14:38.7172377-03:00",
    "dotnet_repl_cellExecutionTime": "251.4232ms",
    "dotnet_interactive": {
     "language": "pwsh"
    },
    "polyglot_notebook": {
     "kernelName": "pwsh"
    }
   },
   "outputs": [],
   "source": [
    "cargo fmt --"
   ]
  },
  {
   "cell_type": "code",
   "execution_count": null,
   "metadata": {
    "dotnet_repl_cellExecutionStartTime": "2023-07-11T01:14:38.7172787-03:00",
    "dotnet_repl_cellExecutionEndTime": "2023-07-11T01:14:41.240562-03:00",
    "dotnet_repl_cellExecutionTime": "2.5232886s",
    "dotnet_interactive": {
     "language": "pwsh"
    },
    "polyglot_notebook": {
     "kernelName": "pwsh"
    }
   },
   "outputs": [
    {
     "name": "stdout",
     "output_type": "stream",
     "text": [
      "\u001B[31;1m   Compiling test v0.0.1 (C:\\home\\git\\polyglot\\spiral\\test)\u001B[0m\r\n",
      "\u001B[31;1mwarning: unused import: `info`\u001B[0m\r\n",
      "\u001B[31;1m   --> spiral\\test\\./main.rs:190:15\u001B[0m\r\n",
      "\u001B[31;1m    |\u001B[0m\r\n",
      "\u001B[31;1m190 | use tracing::{info, Level};\u001B[0m\r\n",
      "\u001B[31;1m    |               ^^^^\u001B[0m\r\n",
      "\u001B[31;1m    |\u001B[0m\r\n",
      "\u001B[31;1m    = note: `#[warn(unused_imports)]` on by default\u001B[0m\r\n",
      "\u001B[31;1m\u001B[0m\r\n",
      "\u001B[31;1mwarning: associated items `new`, `add_item`, and `remove_item` are never used\u001B[0m\r\n",
      "\u001B[31;1m  --> spiral\\test\\./main.rs:46:8\u001B[0m\r\n",
      "\u001B[31;1m   |\u001B[0m\r\n",
      "\u001B[31;1m45 | impl Cart {\u001B[0m\r\n",
      "\u001B[31;1m   | --------- associated items in this implementation\u001B[0m\r\n",
      "\u001B[31;1m46 |     fn new() -> Cart {\u001B[0m\r\n",
      "\u001B[31;1m   |        ^^^\u001B[0m\r\n",
      "\u001B[31;1m...\u001B[0m\r\n",
      "\u001B[31;1m50 |     fn add_item(&mut self, item: Item) {\u001B[0m\r\n",
      "\u001B[31;1m   |        ^^^^^^^^\u001B[0m\r\n",
      "\u001B[31;1m...\u001B[0m\r\n",
      "\u001B[31;1m56 |     fn remove_item(&mut self, item: &Item) {\u001B[0m\r\n",
      "\u001B[31;1m   |        ^^^^^^^^^^^\u001B[0m\r\n",
      "\u001B[31;1m   |\u001B[0m\r\n",
      "\u001B[31;1m   = note: `#[warn(dead_code)]` on by default\u001B[0m\r\n",
      "\u001B[31;1m\u001B[0m\r\n",
      "\u001B[31;1mwarning: function `parse_comment` is never used\u001B[0m\r\n",
      "\u001B[31;1m   --> spiral\\test\\./main.rs:124:4\u001B[0m\r\n",
      "\u001B[31;1m    |\u001B[0m\r\n",
      "\u001B[31;1m124 | fn parse_comment(input: &str) -> IResult<&str, SpiralToken> {\u001B[0m\r\n",
      "\u001B[31;1m    |    ^^^^^^^^^^^^^\u001B[0m\r\n",
      "\u001B[31;1m\u001B[0m\r\n",
      "\u001B[31;1mwarning: function `parse_string` is never used\u001B[0m\r\n",
      "\u001B[31;1m   --> spiral\\test\\./main.rs:130:4\u001B[0m\r\n",
      "\u001B[31;1m    |\u001B[0m\r\n",
      "\u001B[31;1m130 | fn parse_string(input: &str) -> IResult<&str, SpiralToken> {\u001B[0m\r\n",
      "\u001B[31;1m    |    ^^^^^^^^^^^^\u001B[0m\r\n",
      "\u001B[31;1m\u001B[0m\r\n",
      "\u001B[31;1mwarning: function `parse_identifier` is never used\u001B[0m\r\n",
      "\u001B[31;1m   --> spiral\\test\\./main.rs:145:4\u001B[0m\r\n",
      "\u001B[31;1m    |\u001B[0m\r\n",
      "\u001B[31;1m145 | fn parse_identifier(input: &str) -> IResult<&str, SpiralToken> {\u001B[0m\r\n",
      "\u001B[31;1m    |    ^^^^^^^^^^^^^^^^\u001B[0m\r\n",
      "\u001B[31;1m\u001B[0m\r\n",
      "\u001B[31;1mwarning: function `parse_integer` is never used\u001B[0m\r\n",
      "\u001B[31;1m   --> spiral\\test\\./main.rs:157:4\u001B[0m\r\n",
      "\u001B[31;1m    |\u001B[0m\r\n",
      "\u001B[31;1m157 | fn parse_integer(input: &str) -> IResult<&str, SpiralToken> {\u001B[0m\r\n",
      "\u001B[31;1m    |    ^^^^^^^^^^^^^\u001B[0m\r\n",
      "\u001B[31;1m\u001B[0m\r\n",
      "\u001B[31;1mwarning: function `parse_operator` is never used\u001B[0m\r\n",
      "\u001B[31;1m   --> spiral\\test\\./main.rs:165:4\u001B[0m\r\n",
      "\u001B[31;1m    |\u001B[0m\r\n",
      "\u001B[31;1m165 | fn parse_operator(input: &str) -> IResult<&str, SpiralToken> {\u001B[0m\r\n",
      "\u001B[31;1m    |    ^^^^^^^^^^^^^^\u001B[0m\r\n",
      "\u001B[31;1m\u001B[0m\r\n",
      "\u001B[31;1mwarning: function `parse_token` is never used\u001B[0m\r\n",
      "\u001B[31;1m   --> spiral\\test\\./main.rs:170:4\u001B[0m\r\n",
      "\u001B[31;1m    |\u001B[0m\r\n",
      "\u001B[31;1m170 | fn parse_token(input: &str) -> IResult<&str, SpiralToken> {\u001B[0m\r\n",
      "\u001B[31;1m    |    ^^^^^^^^^^^\u001B[0m\r\n",
      "\u001B[31;1m\u001B[0m\r\n",
      "\u001B[31;1mwarning: function `format_token` is never used\u001B[0m\r\n",
      "\u001B[31;1m   --> spiral\\test\\./main.rs:180:4\u001B[0m\r\n",
      "\u001B[31;1m    |\u001B[0m\r\n",
      "\u001B[31;1m180 | fn format_token(token: &SpiralToken) -> String {\u001B[0m\r\n",
      "\u001B[31;1m    |    ^^^^^^^^^^^^\u001B[0m\r\n",
      "\u001B[31;1m\u001B[0m\r\n",
      "\u001B[31;1mwarning: function `parse_expression` is never used\u001B[0m\r\n",
      "\u001B[31;1m   --> spiral\\test\\./main.rs:213:4\u001B[0m\r\n",
      "\u001B[31;1m    |\u001B[0m\r\n",
      "\u001B[31;1m213 | fn parse_expression(input: &str) -> IResult<&str, SpiralToken> {\u001B[0m\r\n",
      "\u001B[31;1m    |    ^^^^^^^^^^^^^^^^\u001B[0m\r\n",
      "\u001B[31;1m\u001B[0m\r\n",
      "\u001B[31;1mwarning: `test` (bin \"test\") generated 10 warnings (run `cargo fix --bin \"test\"` to apply 1 suggestion)\u001B[0m\r\n",
      "\u001B[31;1m    Finished release [optimized] target(s) in 2.32s\u001B[0m\r\n"
     ]
    }
   ],
   "source": [
    "cargo build --release"
   ]
  },
  {
   "cell_type": "code",
   "execution_count": null,
   "metadata": {
    "dotnet_repl_cellExecutionStartTime": "2023-07-11T01:14:41.2406061-03:00",
    "dotnet_repl_cellExecutionEndTime": "2023-07-11T01:14:47.2336621-03:00",
    "dotnet_repl_cellExecutionTime": "5.9930596s",
    "dotnet_interactive": {
     "language": "pwsh"
    },
    "polyglot_notebook": {
     "kernelName": "pwsh"
    }
   },
   "outputs": [
    {
     "name": "stdout",
     "output_type": "stream",
     "text": [
      "\u001B[31;1m   Compiling test v0.0.1 (C:\\home\\git\\polyglot\\spiral\\test)\u001B[0m\r\n",
      "\u001B[31;1m    Finished release [optimized] target(s) in 5.31s\u001B[0m\r\n",
      "\u001B[31;1m     Running unittests main.rs (C:\\home\\git\\polyglot\\target\\release\\deps\\test-c33bdbd057fd7d59.exe)\u001B[0m\r\n",
      "\r\n",
      "running 3 tests\r\n",
      "test test_parse_number ... ok\r\n",
      "\u001B[2m2023-07-11T04:14:46.803253Z\u001B[0m \u001B[32m INFO\u001B[0m \u001B[2mtest\u001B[0m\u001B[2m:\u001B[0m input=Operator(\"*\")\r\n",
      "\u001B[2m2023-07-11T04:14:46.803410Z\u001B[0m \u001B[32m INFO\u001B[0m \u001B[2mtest\u001B[0m\u001B[2m:\u001B[0m input=Identifier(\"qFkZ2r00txKwC2g4XS4zJ2NlEHA\")\r\n",
      "\u001B[2m2023-07-11T04:14:46.803525Z\u001B[0m \u001B[32m INFO\u001B[0m \u001B[2mtest\u001B[0m\u001B[2m:\u001B[0m input=Integer(-4546333321458498674)\r\n",
      "\u001B[2m2023-07-11T04:14:46.803736Z\u001B[0m \u001B[32m INFO\u001B[0m \u001B[2mtest\u001B[0m\u001B[2m:\u001B[0m input=Integer(-5028637881068646987)\r\n",
      "\u001B[2m2023-07-11T04:14:46.803833Z\u001B[0m \u001B[32m INFO\u001B[0m \u001B[2mtest\u001B[0m\u001B[2m:\u001B[0m input=Identifier(\"Md1jK9b7a991iMsU9l\")\r\n",
      "\u001B[2m2023-07-11T04:14:46.803896Z\u001B[0m \u001B[32m INFO\u001B[0m \u001B[2mtest\u001B[0m\u001B[2m:\u001B[0m input=StringLiteral(\"GZ420$L=E<{>b&.Y./`\")\r\n",
      "\u001B[2m2023-07-11T04:14:46.803950Z\u001B[0m \u001B[32m INFO\u001B[0m \u001B[2mtest\u001B[0m\u001B[2m:\u001B[0m input=Integer(-2800810039345362189)\r\n",
      "\u001B[2m2023-07-11T04:14:46.803999Z\u001B[0m \u001B[32m INFO\u001B[0m \u001B[2mtest\u001B[0m\u001B[2m:\u001B[0m input=StringLiteral(\"GBHD5k{:m'n]7V`;;do,\")\r\n",
      "\u001B[2m2023-07-11T04:14:46.804052Z\u001B[0m \u001B[32m INFO\u001B[0m \u001B[2mtest\u001B[0m\u001B[2m:\u001B[0m input=Comment(\"wR\\\")*I%dycBFl'V\\\\[HbX/</\")\r\n",
      "\u001B[2m2023-07-11T04:14:46.804099Z\u001B[0m \u001B[32m INFO\u001B[0m \u001B[2mtest\u001B[0m\u001B[2m:\u001B[0m input=Operator(\")\")\r\n",
      "\u001B[2m2023-07-11T04:14:46.804121Z\u001B[0m \u001B[32m INFO\u001B[0m \u001B[2mtest\u001B[0m\u001B[2m:\u001B[0m input=Operator(\"+\")\r\n",
      "\u001B[2m2023-07-11T04:14:46.804144Z\u001B[0m \u001B[32m INFO\u001B[0m \u001B[2mtest\u001B[0m\u001B[2m:\u001B[0m input=Identifier(\"w1sDpSSZ\")\r\n",
      "\u001B[2m2023-07-11T04:14:46.804164Z\u001B[0m \u001B[32m INFO\u001B[0m \u001B[2mtest\u001B[0m\u001B[2m:\u001B[0m input=Integer(-4359226166452483055)\r\n",
      "\u001B[2m2023-07-11T04:14:46.804212Z\u001B[0m \u001B[32m INFO\u001B[0m \u001B[2mtest\u001B[0m\u001B[2m:\u001B[0m input=Comment(\"Y%[@39#;*8,-Nwr$Be./<')}r\")\r\n",
      "\u001B[2m2023-07-11T04:14:46.804242Z\u001B[0m \u001B[32m INFO\u001B[0m \u001B[2mtest\u001B[0m\u001B[2m:\u001B[0m input=StringLiteral(\"k%V=^;z\")\r\n",
      "\u001B[2m2023-07-11T04:14:46.804269Z\u001B[0m \u001B[32m INFO\u001B[0m \u001B[2mtest\u001B[0m\u001B[2m:\u001B[0m input=Comment(\"w3$e\\\\(eALx %,\")\r\n",
      "\u001B[2m2023-07-11T04:14:46.804313Z\u001B[0m \u001B[32m INFO\u001B[0m \u001B[2mtest\u001B[0m\u001B[2m:\u001B[0m input=Operator(\"=\")\r\n",
      "\u001B[2m2023-07-11T04:14:46.804366Z\u001B[0m \u001B[32m INFO\u001B[0m \u001B[2mtest\u001B[0m\u001B[2m:\u001B[0m input=Comment(\"q^8n<~=&Gs9~'6;%4'&Aazg\\\"/KWmWq\")\r\n",
      "\u001B[2m2023-07-11T04:14:46.804411Z\u001B[0m \u001B[32m INFO\u001B[0m \u001B[2mtest\u001B[0m\u001B[2m:\u001B[0m input=Comment(\"?v}<|hTz67gc\")\r\n",
      "\u001B[2m2023-07-11T04:14:46.804509Z\u001B[0m \u001B[32m INFO\u001B[0m \u001B[2mtest\u001B[0m\u001B[2m:\u001B[0m input=Comment(\"p`47}\\\"a0%.=\\\"pZo~ [=}8G4@(<\\\\<2UC\")\r\n",
      "\u001B[2m2023-07-11T04:14:46.804572Z\u001B[0m \u001B[32m INFO\u001B[0m \u001B[2mtest\u001B[0m\u001B[2m:\u001B[0m input=StringLiteral(\":?H+^=|gYEU5\")\r\n",
      "\u001B[2m2023-07-11T04:14:46.804612Z\u001B[0m \u001B[32m INFO\u001B[0m \u001B[2mtest\u001B[0m\u001B[2m:\u001B[0m input=StringLiteral(\"8e\")\r\n",
      "\u001B[2m2023-07-11T04:14:46.804681Z\u001B[0m \u001B[32m INFO\u001B[0m \u001B[2mtest\u001B[0m\u001B[2m:\u001B[0m input=Identifier(\"g5WI3iGazUZ6\")\r\n",
      "\u001B[2m2023-07-11T04:14:46.804800Z\u001B[0m \u001B[32m INFO\u001B[0m \u001B[2mtest\u001B[0m\u001B[2m:\u001B[0m input=Operator(\")\")\r\n",
      "\u001B[2m2023-07-11T04:14:46.804884Z\u001B[0m \u001B[32m INFO\u001B[0m \u001B[2mtest\u001B[0m\u001B[2m:\u001B[0m input=Operator(\"=\")\r\n",
      "\u001B[2m2023-07-11T04:14:46.804971Z\u001B[0m \u001B[32m INFO\u001B[0m \u001B[2mtest\u001B[0m\u001B[2m:\u001B[0m input=Comment(\"O),+${1&*d5=\\\\bp{15E\\\"`g<`$vZUM\\\\:X\")\r\n",
      "\u001B[2m2023-07-11T04:14:46.805007Z\u001B[0m \u001B[32m INFO\u001B[0m \u001B[2mtest\u001B[0m\u001B[2m:\u001B[0m input=Comment(\"Ou$&<'4|&%iTb.P&a+..F%O_#k`H[&*\")\r\n",
      "\u001B[2m2023-07-11T04:14:46.805036Z\u001B[0m \u001B[32m INFO\u001B[0m \u001B[2mtest\u001B[0m\u001B[2m:\u001B[0m input=Comment(\"\")\r\n",
      "\u001B[2m2023-07-11T04:14:46.805099Z\u001B[0m \u001B[32m INFO\u001B[0m \u001B[2mtest\u001B[0m\u001B[2m:\u001B[0m input=StringLiteral(\">FWJjE~mcr\")\r\n",
      "\u001B[2m2023-07-11T04:14:46.805148Z\u001B[0m \u001B[32m INFO\u001B[0m \u001B[2mtest\u001B[0m\u001B[2m:\u001B[0m input=Operator(\")\")\r\n",
      "\u001B[2m2023-07-11T04:14:46.805217Z\u001B[0m \u001B[32m INFO\u001B[0m \u001B[2mtest\u001B[0m\u001B[2m:\u001B[0m input=Identifier(\"j8b0jzCwd\")\r\n",
      "\u001B[2m2023-07-11T04:14:46.805283Z\u001B[0m \u001B[32m INFO\u001B[0m \u001B[2mtest\u001B[0m\u001B[2m:\u001B[0m input=Identifier(\"UEsjvZTcPv8aO286p3\")\r\n",
      "\u001B[2m2023-07-11T04:14:46.805341Z\u001B[0m \u001B[32m INFO\u001B[0m \u001B[2mtest\u001B[0m\u001B[2m:\u001B[0m input=Integer(7509329093939707515)\r\n",
      "\u001B[2m2023-07-11T04:14:46.805406Z\u001B[0m \u001B[32m INFO\u001B[0m \u001B[2mtest\u001B[0m\u001B[2m:\u001B[0m input=Identifier(\"rGZz9fOPRql4ncgTQK31bYKn\")\r\n",
      "\u001B[2m2023-07-11T04:14:46.805468Z\u001B[0m \u001B[32m INFO\u001B[0m \u001B[2mtest\u001B[0m\u001B[2m:\u001B[0m input=Integer(3402761814663446083)\r\n",
      "\u001B[2m2023-07-11T04:14:46.805521Z\u001B[0m \u001B[32m INFO\u001B[0m \u001B[2mtest\u001B[0m\u001B[2m:\u001B[0m input=Operator(\"-\")\r\n",
      "\u001B[2m2023-07-11T04:14:46.805623Z\u001B[0m \u001B[32m INFO\u001B[0m \u001B[2mtest\u001B[0m\u001B[2m:\u001B[0m input=Identifier(\"I2ZPMFmsw44St6652mxDK2WhmoF5cnc\")\r\n",
      "\u001B[2m2023-07-11T04:14:46.805687Z\u001B[0m \u001B[32m INFO\u001B[0m \u001B[2mtest\u001B[0m\u001B[2m:\u001B[0m input=Integer(5948755739983572186)\r\n",
      "\u001B[2m2023-07-11T04:14:46.805710Z\u001B[0m \u001B[32m INFO\u001B[0m \u001B[2mtest\u001B[0m\u001B[2m:\u001B[0m input=Identifier(\"WEd\")\r\n",
      "\u001B[2m2023-07-11T04:14:46.805729Z\u001B[0m \u001B[32m INFO\u001B[0m \u001B[2mtest\u001B[0m\u001B[2m:\u001B[0m input=Integer(5927137807803257396)\r\n",
      "\u001B[2m2023-07-11T04:14:46.805748Z\u001B[0m \u001B[32m INFO\u001B[0m \u001B[2mtest\u001B[0m\u001B[2m:\u001B[0m input=Integer(-8003137019480746990)\r\n",
      "\u001B[2m2023-07-11T04:14:46.805780Z\u001B[0m \u001B[32m INFO\u001B[0m \u001B[2mtest\u001B[0m\u001B[2m:\u001B[0m input=Comment(\"myX>:%U 2`~{iTk=?EN##^&6 \")\r\n",
      "\u001B[2m2023-07-11T04:14:46.805803Z\u001B[0m \u001B[32m INFO\u001B[0m \u001B[2mtest\u001B[0m\u001B[2m:\u001B[0m input=Operator(\"+\")\r\n",
      "\u001B[2m2023-07-11T04:14:46.805821Z\u001B[0m \u001B[32m INFO\u001B[0m \u001B[2mtest\u001B[0m\u001B[2m:\u001B[0m input=Integer(-2448779176778686229)\r\n",
      "\u001B[2m2023-07-11T04:14:46.805876Z\u001B[0m \u001B[32m INFO\u001B[0m \u001B[2mtest\u001B[0m\u001B[2m:\u001B[0m input=Identifier(\"gfEG\")\r\n",
      "\u001B[2m2023-07-11T04:14:46.805896Z\u001B[0m \u001B[32m INFO\u001B[0m \u001B[2mtest\u001B[0m\u001B[2m:\u001B[0m input=Integer(1684051456947208172)\r\n",
      "\u001B[2m2023-07-11T04:14:46.805915Z\u001B[0m \u001B[32m INFO\u001B[0m \u001B[2mtest\u001B[0m\u001B[2m:\u001B[0m input=Integer(7773515830868418582)\r\n",
      "\u001B[2m2023-07-11T04:14:46.805989Z\u001B[0m \u001B[32m INFO\u001B[0m \u001B[2mtest\u001B[0m\u001B[2m:\u001B[0m input=Identifier(\"YATz8RhlbKiCd9bcy64TGVi\")\r\n",
      "\u001B[2m2023-07-11T04:14:46.806042Z\u001B[0m \u001B[32m INFO\u001B[0m \u001B[2mtest\u001B[0m\u001B[2m:\u001B[0m input=Comment(\"*H/${6h_ruYq?su@.1`)\")\r\n",
      "\u001B[2m2023-07-11T04:14:46.806101Z\u001B[0m \u001B[32m INFO\u001B[0m \u001B[2mtest\u001B[0m\u001B[2m:\u001B[0m input=StringLiteral(\".%kg{&c=\")\r\n",
      "\u001B[2m2023-07-11T04:14:46.806143Z\u001B[0m \u001B[32m INFO\u001B[0m \u001B[2mtest\u001B[0m\u001B[2m:\u001B[0m input=Comment(\"G\\\\-I$vbe-$.54($$c.HR<>\\\"EiJ!s_BH'\")\r\n",
      "\u001B[2m2023-07-11T04:14:46.806379Z\u001B[0m \u001B[32m INFO\u001B[0m \u001B[2mtest\u001B[0m\u001B[2m:\u001B[0m input=Comment(\"<?/r*I@fZ*&-\")\r\n",
      "\u001B[2m2023-07-11T04:14:46.806448Z\u001B[0m \u001B[32m INFO\u001B[0m \u001B[2mtest\u001B[0m\u001B[2m:\u001B[0m input=StringLiteral(\"/^M]H`w$?wZvT6$KJ'{/a`j/Iq'\")\r\n",
      "\u001B[2m2023-07-11T04:14:46.806473Z\u001B[0m \u001B[32m INFO\u001B[0m \u001B[2mtest\u001B[0m\u001B[2m:\u001B[0m input=Integer(4411342354103795253)\r\n",
      "\u001B[2m2023-07-11T04:14:46.806507Z\u001B[0m \u001B[32m INFO\u001B[0m \u001B[2mtest\u001B[0m\u001B[2m:\u001B[0m input=Operator(\"-\")\r\n",
      "\u001B[2m2023-07-11T04:14:46.806539Z\u001B[0m \u001B[32m INFO\u001B[0m \u001B[2mtest\u001B[0m\u001B[2m:\u001B[0m input=Identifier(\"iFNFt2OnA8yPMv48XqMP7P7G\")\r\n",
      "\u001B[2m2023-07-11T04:14:46.806562Z\u001B[0m \u001B[32m INFO\u001B[0m \u001B[2mtest\u001B[0m\u001B[2m:\u001B[0m input=Integer(8771641592629633270)\r\n",
      "\u001B[2m2023-07-11T04:14:46.806581Z\u001B[0m \u001B[32m INFO\u001B[0m \u001B[2mtest\u001B[0m\u001B[2m:\u001B[0m input=Integer(-8439449489493156374)\r\n",
      "\u001B[2m2023-07-11T04:14:46.806601Z\u001B[0m \u001B[32m INFO\u001B[0m \u001B[2mtest\u001B[0m\u001B[2m:\u001B[0m input=Comment(\"Q\")\r\n",
      "\u001B[2m2023-07-11T04:14:46.806636Z\u001B[0m \u001B[32m INFO\u001B[0m \u001B[2mtest\u001B[0m\u001B[2m:\u001B[0m input=Identifier(\"q75zW2Am6Q\")\r\n",
      "\u001B[2m2023-07-11T04:14:46.806706Z\u001B[0m \u001B[32m INFO\u001B[0m \u001B[2mtest\u001B[0m\u001B[2m:\u001B[0m input=Identifier(\"DiSZgbIU\")\r\n",
      "\u001B[2m2023-07-11T04:14:46.806736Z\u001B[0m \u001B[32m INFO\u001B[0m \u001B[2mtest\u001B[0m\u001B[2m:\u001B[0m input=Operator(\"(\")\r\n",
      "\u001B[2m2023-07-11T04:14:46.806782Z\u001B[0m \u001B[32m INFO\u001B[0m \u001B[2mtest\u001B[0m\u001B[2m:\u001B[0m input=Comment(\"Pa+YW@c<qE`Q?`\\\\\")\r\n",
      "\u001B[2m2023-07-11T04:14:46.806845Z\u001B[0m \u001B[32m INFO\u001B[0m \u001B[2mtest\u001B[0m\u001B[2m:\u001B[0m input=StringLiteral(\"%&p)EdV]t]S\")\r\n",
      "\u001B[2m2023-07-11T04:14:46.806883Z\u001B[0m \u001B[32m INFO\u001B[0m \u001B[2mtest\u001B[0m\u001B[2m:\u001B[0m input=Operator(\"-\")\r\n",
      "\u001B[2m2023-07-11T04:14:46.806917Z\u001B[0m \u001B[32m INFO\u001B[0m \u001B[2mtest\u001B[0m\u001B[2m:\u001B[0m input=StringLiteral(\"^b*;#-c}<P=@V/$N}o#r(Pa'Ddzv]'\")\r\n",
      "\u001B[2m2023-07-11T04:14:46.806954Z\u001B[0m \u001B[32m INFO\u001B[0m \u001B[2mtest\u001B[0m\u001B[2m:\u001B[0m input=Operator(\"-\")\r\n",
      "\u001B[2m2023-07-11T04:14:46.806977Z\u001B[0m \u001B[32m INFO\u001B[0m \u001B[2mtest\u001B[0m\u001B[2m:\u001B[0m input=Comment(\"\\\\:HqQL#\")\r\n",
      "\u001B[2m2023-07-11T04:14:46.806998Z\u001B[0m \u001B[32m INFO\u001B[0m \u001B[2mtest\u001B[0m\u001B[2m:\u001B[0m input=Integer(-4752189224203732278)\r\n",
      "\u001B[2m2023-07-11T04:14:46.807021Z\u001B[0m \u001B[32m INFO\u001B[0m \u001B[2mtest\u001B[0m\u001B[2m:\u001B[0m input=Operator(\"=\")\r\n",
      "\u001B[2m2023-07-11T04:14:46.807041Z\u001B[0m \u001B[32m INFO\u001B[0m \u001B[2mtest\u001B[0m\u001B[2m:\u001B[0m input=Integer(2921509656617411735)\r\n",
      "\u001B[2m2023-07-11T04:14:46.807062Z\u001B[0m \u001B[32m INFO\u001B[0m \u001B[2mtest\u001B[0m\u001B[2m:\u001B[0m input=Operator(\")\")\r\n",
      "\u001B[2m2023-07-11T04:14:46.807084Z\u001B[0m \u001B[32m INFO\u001B[0m \u001B[2mtest\u001B[0m\u001B[2m:\u001B[0m input=Operator(\")\")\r\n",
      "\u001B[2m2023-07-11T04:14:46.807116Z\u001B[0m \u001B[32m INFO\u001B[0m \u001B[2mtest\u001B[0m\u001B[2m:\u001B[0m input=Integer(8775068622432713315)\r\n",
      "\u001B[2m2023-07-11T04:14:46.807138Z\u001B[0m \u001B[32m INFO\u001B[0m \u001B[2mtest\u001B[0m\u001B[2m:\u001B[0m input=Identifier(\"ctt1RZsg\")\r\n",
      "\u001B[2m2023-07-11T04:14:46.807160Z\u001B[0m \u001B[32m INFO\u001B[0m \u001B[2mtest\u001B[0m\u001B[2m:\u001B[0m input=Comment(\"_\")\r\n",
      "\u001B[2m2023-07-11T04:14:46.807184Z\u001B[0m \u001B[32m INFO\u001B[0m \u001B[2mtest\u001B[0m\u001B[2m:\u001B[0m input=Comment(\"$/jYia,x*Vo<w~^*\")\r\n",
      "\u001B[2m2023-07-11T04:14:46.807209Z\u001B[0m \u001B[32m INFO\u001B[0m \u001B[2mtest\u001B[0m\u001B[2m:\u001B[0m input=StringLiteral(\"q.v>-$:'w=c:{\")\r\n",
      "\u001B[2m2023-07-11T04:14:46.807242Z\u001B[0m \u001B[32m INFO\u001B[0m \u001B[2mtest\u001B[0m\u001B[2m:\u001B[0m input=Comment(\".'`A|{=6K{q$ 0k$OA!?s8\\\\Q$HJ&\")\r\n",
      "\u001B[2m2023-07-11T04:14:46.807284Z\u001B[0m \u001B[32m INFO\u001B[0m \u001B[2mtest\u001B[0m\u001B[2m:\u001B[0m input=StringLiteral(\"dXW<Ed.PNU`!P?}T'{oak(}]N\")\r\n",
      "\u001B[2m2023-07-11T04:14:46.807319Z\u001B[0m \u001B[32m INFO\u001B[0m \u001B[2mtest\u001B[0m\u001B[2m:\u001B[0m input=StringLiteral(\"Jfb:)_.:t,/(E)-/X09=V4~h%#5/\")\r\n",
      "\u001B[2m2023-07-11T04:14:46.807368Z\u001B[0m \u001B[32m INFO\u001B[0m \u001B[2mtest\u001B[0m\u001B[2m:\u001B[0m input=Identifier(\"RuX8jIvr6WPk10X74D5puor648b3w\")\r\n",
      "\u001B[2m2023-07-11T04:14:46.807390Z\u001B[0m \u001B[32m INFO\u001B[0m \u001B[2mtest\u001B[0m\u001B[2m:\u001B[0m input=Integer(8927427387337234407)\r\n",
      "\u001B[2m2023-07-11T04:14:46.807409Z\u001B[0m \u001B[32m INFO\u001B[0m \u001B[2mtest\u001B[0m\u001B[2m:\u001B[0m input=StringLiteral(\"\")\r\n",
      "\u001B[2m2023-07-11T04:14:46.807430Z\u001B[0m \u001B[32m INFO\u001B[0m \u001B[2mtest\u001B[0m\u001B[2m:\u001B[0m input=Operator(\")\")\r\n",
      "\u001B[2m2023-07-11T04:14:46.807465Z\u001B[0m \u001B[32m INFO\u001B[0m \u001B[2mtest\u001B[0m\u001B[2m:\u001B[0m input=StringLiteral(\".Hb&$'b&xXD\")\r\n",
      "\u001B[2m2023-07-11T04:14:46.807501Z\u001B[0m \u001B[32m INFO\u001B[0m \u001B[2mtest\u001B[0m\u001B[2m:\u001B[0m input=Comment(\"/N4\\\\s=!Q\\\\,IqD$LM&o2e%DX h*qeP\")\r\n",
      "\u001B[2m2023-07-11T04:14:46.807523Z\u001B[0m \u001B[32m INFO\u001B[0m \u001B[2mtest\u001B[0m\u001B[2m:\u001B[0m input=Integer(3275683153035493501)\r\n",
      "\u001B[2m2023-07-11T04:14:46.807547Z\u001B[0m \u001B[32m INFO\u001B[0m \u001B[2mtest\u001B[0m\u001B[2m:\u001B[0m input=Identifier(\"M4w5A33UY1AknA\")\r\n",
      "\u001B[2m2023-07-11T04:14:46.807581Z\u001B[0m \u001B[32m INFO\u001B[0m \u001B[2mtest\u001B[0m\u001B[2m:\u001B[0m input=StringLiteral(\"O.`t'J{UG7te`r7y]y`3e$My%\")\r\n",
      "\u001B[2m2023-07-11T04:14:46.807622Z\u001B[0m \u001B[32m INFO\u001B[0m \u001B[2mtest\u001B[0m\u001B[2m:\u001B[0m input=Identifier(\"U7hS27P\")\r\n",
      "\u001B[2m2023-07-11T04:14:46.807694Z\u001B[0m \u001B[32m INFO\u001B[0m \u001B[2mtest\u001B[0m\u001B[2m:\u001B[0m input=Integer(398107349182009354)\r\n",
      "\u001B[2m2023-07-11T04:14:46.807761Z\u001B[0m \u001B[32m INFO\u001B[0m \u001B[2mtest\u001B[0m\u001B[2m:\u001B[0m input=Integer(-2715061747583388721)\r\n",
      "\u001B[2m2023-07-11T04:14:46.807800Z\u001B[0m \u001B[32m INFO\u001B[0m \u001B[2mtest\u001B[0m\u001B[2m:\u001B[0m input=Comment(\"Jop?&1\")\r\n",
      "\u001B[2m2023-07-11T04:14:46.807833Z\u001B[0m \u001B[32m INFO\u001B[0m \u001B[2mtest\u001B[0m\u001B[2m:\u001B[0m input=Operator(\"(\")\r\n",
      "\u001B[2m2023-07-11T04:14:46.807860Z\u001B[0m \u001B[32m INFO\u001B[0m \u001B[2mtest\u001B[0m\u001B[2m:\u001B[0m input=Integer(-7961433102441615875)\r\n",
      "\u001B[2m2023-07-11T04:14:46.807942Z\u001B[0m \u001B[32m INFO\u001B[0m \u001B[2mtest\u001B[0m\u001B[2m:\u001B[0m input=Comment(\"?pxW[u5\\\"`8*w\\\\s0@C'\\\"\\\"V*/j\\\\{i\\\"&dP\")\r\n",
      "\u001B[2m2023-07-11T04:14:46.807997Z\u001B[0m \u001B[32m INFO\u001B[0m \u001B[2mtest\u001B[0m\u001B[2m:\u001B[0m input=Comment(\"`:5Be{g/Zu?y<FI/4\")\r\n",
      "\u001B[2m2023-07-11T04:14:46.808026Z\u001B[0m \u001B[32m INFO\u001B[0m \u001B[2mtest\u001B[0m\u001B[2m:\u001B[0m input=Comment(\"x=%sHX/+{]<.:(Rq$'rH\")\r\n",
      "\u001B[2m2023-07-11T04:14:46.808068Z\u001B[0m \u001B[32m INFO\u001B[0m \u001B[2mtest\u001B[0m\u001B[2m:\u001B[0m input=Identifier(\"W897Z07Twks2NY7Bsk1mbC8m\")\r\n",
      "\u001B[2m2023-07-11T04:14:46.808104Z\u001B[0m \u001B[32m INFO\u001B[0m \u001B[2mtest\u001B[0m\u001B[2m:\u001B[0m input=Comment(\"'|p:#dJ>gz=R:F/`r=Sr/@jNO'L3\")\r\n",
      "\u001B[2m2023-07-11T04:14:46.808142Z\u001B[0m \u001B[32m INFO\u001B[0m \u001B[2mtest\u001B[0m\u001B[2m:\u001B[0m input=Comment(\"E)%:ynhVd/x@<%)kM?*!%X\\\"_Z:\")\r\n",
      "\u001B[2m2023-07-11T04:14:46.808180Z\u001B[0m \u001B[32m INFO\u001B[0m \u001B[2mtest\u001B[0m\u001B[2m:\u001B[0m input=Identifier(\"Qak65wF\")\r\n",
      "\u001B[2m2023-07-11T04:14:46.808206Z\u001B[0m \u001B[32m INFO\u001B[0m \u001B[2mtest\u001B[0m\u001B[2m:\u001B[0m input=Comment(\">='\\\"&Mdl.)aD/=l+`\")\r\n",
      "\u001B[2m2023-07-11T04:14:46.808236Z\u001B[0m \u001B[32m INFO\u001B[0m \u001B[2mtest\u001B[0m\u001B[2m:\u001B[0m input=Identifier(\"oylA7wmO2xqvb9SIiIMwyO1N2z\")\r\n",
      "\u001B[2m2023-07-11T04:14:46.808288Z\u001B[0m \u001B[32m INFO\u001B[0m \u001B[2mtest\u001B[0m\u001B[2m:\u001B[0m input=Identifier(\"F2NKy3XdW\")\r\n",
      "\u001B[2m2023-07-11T04:14:46.808336Z\u001B[0m \u001B[32m INFO\u001B[0m \u001B[2mtest\u001B[0m\u001B[2m:\u001B[0m input=Identifier(\"LTqB4dbXy7HGu2QuvRfeqSq\")\r\n",
      "\u001B[2m2023-07-11T04:14:46.808403Z\u001B[0m \u001B[32m INFO\u001B[0m \u001B[2mtest\u001B[0m\u001B[2m:\u001B[0m input=Comment(\"f<<&J.f\")\r\n",
      "\u001B[2m2023-07-11T04:14:46.808443Z\u001B[0m \u001B[32m INFO\u001B[0m \u001B[2mtest\u001B[0m\u001B[2m:\u001B[0m input=Identifier(\"sMOzV80\")\r\n",
      "\u001B[2m2023-07-11T04:14:46.808514Z\u001B[0m \u001B[32m INFO\u001B[0m \u001B[2mtest\u001B[0m\u001B[2m:\u001B[0m input=StringLiteral(\"E:8X&/D?=&%{{{ice:H90*\")\r\n",
      "\u001B[2m2023-07-11T04:14:46.808544Z\u001B[0m \u001B[32m INFO\u001B[0m \u001B[2mtest\u001B[0m\u001B[2m:\u001B[0m input=Operator(\"*\")\r\n",
      "\u001B[2m2023-07-11T04:14:46.808563Z\u001B[0m \u001B[32m INFO\u001B[0m \u001B[2mtest\u001B[0m\u001B[2m:\u001B[0m input=Integer(4504960973975533577)\r\n",
      "\u001B[2m2023-07-11T04:14:46.808583Z\u001B[0m \u001B[32m INFO\u001B[0m \u001B[2mtest\u001B[0m\u001B[2m:\u001B[0m input=Operator(\"/\")\r\n",
      "\u001B[2m2023-07-11T04:14:46.808601Z\u001B[0m \u001B[32m INFO\u001B[0m \u001B[2mtest\u001B[0m\u001B[2m:\u001B[0m input=Integer(116392467664235223)\r\n",
      "\u001B[2m2023-07-11T04:14:46.808625Z\u001B[0m \u001B[32m INFO\u001B[0m \u001B[2mtest\u001B[0m\u001B[2m:\u001B[0m input=Identifier(\"Z4Av57Nky2cJ\")\r\n",
      "\u001B[2m2023-07-11T04:14:46.808653Z\u001B[0m \u001B[32m INFO\u001B[0m \u001B[2mtest\u001B[0m\u001B[2m:\u001B[0m input=Comment(\"b{BA?+f\\\\YJ$%}SaM:(iV@_*\")\r\n",
      "\u001B[2m2023-07-11T04:14:46.808674Z\u001B[0m \u001B[32m INFO\u001B[0m \u001B[2mtest\u001B[0m\u001B[2m:\u001B[0m input=Identifier(\"xB\")\r\n",
      "\u001B[2m2023-07-11T04:14:46.808717Z\u001B[0m \u001B[32m INFO\u001B[0m \u001B[2mtest\u001B[0m\u001B[2m:\u001B[0m input=Operator(\"(\")\r\n",
      "\u001B[2m2023-07-11T04:14:46.808778Z\u001B[0m \u001B[32m INFO\u001B[0m \u001B[2mtest\u001B[0m\u001B[2m:\u001B[0m input=Comment(\"<:c#.t%j:9u;Jy(n=tBirs.=\")\r\n",
      "\u001B[2m2023-07-11T04:14:46.808826Z\u001B[0m \u001B[32m INFO\u001B[0m \u001B[2mtest\u001B[0m\u001B[2m:\u001B[0m input=Comment(\"BB$%pI'd=OF\")\r\n",
      "\u001B[2m2023-07-11T04:14:46.808879Z\u001B[0m \u001B[32m INFO\u001B[0m \u001B[2mtest\u001B[0m\u001B[2m:\u001B[0m input=StringLiteral(\"|~?*>k/=<e1{2&U>4JI\")\r\n",
      "\u001B[2m2023-07-11T04:14:46.808926Z\u001B[0m \u001B[32m INFO\u001B[0m \u001B[2mtest\u001B[0m\u001B[2m:\u001B[0m input=StringLiteral(\"o='@)w_HT&X%\")\r\n",
      "\u001B[2m2023-07-11T04:14:46.808957Z\u001B[0m \u001B[32m INFO\u001B[0m \u001B[2mtest\u001B[0m\u001B[2m:\u001B[0m input=Identifier(\"etTQJdxEdDdr96\")\r\n",
      "\u001B[2m2023-07-11T04:14:46.808980Z\u001B[0m \u001B[32m INFO\u001B[0m \u001B[2mtest\u001B[0m\u001B[2m:\u001B[0m input=Operator(\"=\")\r\n",
      "\u001B[2m2023-07-11T04:14:46.809025Z\u001B[0m \u001B[32m INFO\u001B[0m \u001B[2mtest\u001B[0m\u001B[2m:\u001B[0m input=Identifier(\"ySZ62EzQP11JvL36XvAkGl8HRB8B2i\")\r\n",
      "\u001B[2m2023-07-11T04:14:46.809099Z\u001B[0m \u001B[32m INFO\u001B[0m \u001B[2mtest\u001B[0m\u001B[2m:\u001B[0m input=Comment(\"_{<COS%m$AhleIL\")\r\n",
      "\u001B[2m2023-07-11T04:14:46.809132Z\u001B[0m \u001B[32m INFO\u001B[0m \u001B[2mtest\u001B[0m\u001B[2m:\u001B[0m input=Comment(\"%pafY'U\")\r\n",
      "\u001B[2m2023-07-11T04:14:46.809202Z\u001B[0m \u001B[32m INFO\u001B[0m \u001B[2mtest\u001B[0m\u001B[2m:\u001B[0m input=Comment(\"$q:d:{b)Xr.$=)Y?`.]/t1/T-\\\\,^:]%\")\r\n",
      "\u001B[2m2023-07-11T04:14:46.809268Z\u001B[0m \u001B[32m INFO\u001B[0m \u001B[2mtest\u001B[0m\u001B[2m:\u001B[0m input=StringLiteral(\"!DM/}:mHS'8`3bAm>2H/$rxL7Yl%\")\r\n",
      "\u001B[2m2023-07-11T04:14:46.809329Z\u001B[0m \u001B[32m INFO\u001B[0m \u001B[2mtest\u001B[0m\u001B[2m:\u001B[0m input=StringLiteral(\"=LwFCh(\")\r\n",
      "\u001B[2m2023-07-11T04:14:46.809352Z\u001B[0m \u001B[32m INFO\u001B[0m \u001B[2mtest\u001B[0m\u001B[2m:\u001B[0m input=Integer(-2711686486444750713)\r\n",
      "\u001B[2m2023-07-11T04:14:46.809375Z\u001B[0m \u001B[32m INFO\u001B[0m \u001B[2mtest\u001B[0m\u001B[2m:\u001B[0m input=Operator(\"=\")\r\n",
      "\u001B[2m2023-07-11T04:14:46.809402Z\u001B[0m \u001B[32m INFO\u001B[0m \u001B[2mtest\u001B[0m\u001B[2m:\u001B[0m input=Identifier(\"MU4Ua4lV0ORMv16ajLTMhUdH8\")\r\n",
      "\u001B[2m2023-07-11T04:14:46.809463Z\u001B[0m \u001B[32m INFO\u001B[0m \u001B[2mtest\u001B[0m\u001B[2m:\u001B[0m input=Comment(\"R?Th``%?=<`=Q&?$n(eu8DP=?Ur`t\")\r\n",
      "\u001B[2m2023-07-11T04:14:46.809526Z\u001B[0m \u001B[32m INFO\u001B[0m \u001B[2mtest\u001B[0m\u001B[2m:\u001B[0m input=StringLiteral(\"=&X,D':HCV*.LP`_u\")\r\n",
      "\u001B[2m2023-07-11T04:14:46.809548Z\u001B[0m \u001B[32m INFO\u001B[0m \u001B[2mtest\u001B[0m\u001B[2m:\u001B[0m input=Integer(3914002761678631954)\r\n",
      "\u001B[2m2023-07-11T04:14:46.809606Z\u001B[0m \u001B[32m INFO\u001B[0m \u001B[2mtest\u001B[0m\u001B[2m:\u001B[0m input=Comment(\"\\\\&VtX-mfB;$]Y;xR\\\\K*F{\\\"\")\r\n",
      "\u001B[2m2023-07-11T04:14:46.809668Z\u001B[0m \u001B[32m INFO\u001B[0m \u001B[2mtest\u001B[0m\u001B[2m:\u001B[0m input=StringLiteral(\"/N#Iq>({$UUuSJ%Vr`{>CE3]rI\")\r\n",
      "\u001B[2m2023-07-11T04:14:46.809752Z\u001B[0m \u001B[32m INFO\u001B[0m \u001B[2mtest\u001B[0m\u001B[2m:\u001B[0m input=Integer(535521887360637)\r\n",
      "\u001B[2m2023-07-11T04:14:46.809807Z\u001B[0m \u001B[32m INFO\u001B[0m \u001B[2mtest\u001B[0m\u001B[2m:\u001B[0m input=Integer(5175905315337687425)\r\n",
      "\u001B[2m2023-07-11T04:14:46.809848Z\u001B[0m \u001B[32m INFO\u001B[0m \u001B[2mtest\u001B[0m\u001B[2m:\u001B[0m input=Identifier(\"XfcdLT1ahc8\")\r\n",
      "\u001B[2m2023-07-11T04:14:46.809883Z\u001B[0m \u001B[32m INFO\u001B[0m \u001B[2mtest\u001B[0m\u001B[2m:\u001B[0m input=StringLiteral(\"u\")\r\n",
      "\u001B[2m2023-07-11T04:14:46.809938Z\u001B[0m \u001B[32m INFO\u001B[0m \u001B[2mtest\u001B[0m\u001B[2m:\u001B[0m input=Identifier(\"tMv\")\r\n",
      "\u001B[2m2023-07-11T04:14:46.809988Z\u001B[0m \u001B[32m INFO\u001B[0m \u001B[2mtest\u001B[0m\u001B[2m:\u001B[0m input=Integer(-1336176818702926286)\r\n",
      "\u001B[2m2023-07-11T04:14:46.810045Z\u001B[0m \u001B[32m INFO\u001B[0m \u001B[2mtest\u001B[0m\u001B[2m:\u001B[0m input=Identifier(\"a53DhW39rGW\")\r\n",
      "\u001B[2m2023-07-11T04:14:46.810074Z\u001B[0m \u001B[32m INFO\u001B[0m \u001B[2mtest\u001B[0m\u001B[2m:\u001B[0m input=Operator(\"-\")\r\n",
      "\u001B[2m2023-07-11T04:14:46.810161Z\u001B[0m \u001B[32m INFO\u001B[0m \u001B[2mtest\u001B[0m\u001B[2m:\u001B[0m input=StringLiteral(\"}a{LP<H.N|<k]H6.v$V>E/U`mi-|S`\")\r\n",
      "\u001B[2m2023-07-11T04:14:46.810203Z\u001B[0m \u001B[32m INFO\u001B[0m \u001B[2mtest\u001B[0m\u001B[2m:\u001B[0m input=Identifier(\"y9SUCvs7IADD\")\r\n",
      "\u001B[2m2023-07-11T04:14:46.810256Z\u001B[0m \u001B[32m INFO\u001B[0m \u001B[2mtest\u001B[0m\u001B[2m:\u001B[0m input=StringLiteral(\"{W\")\r\n",
      "\u001B[2m2023-07-11T04:14:46.810283Z\u001B[0m \u001B[32m INFO\u001B[0m \u001B[2mtest\u001B[0m\u001B[2m:\u001B[0m input=Integer(-8329905371185075822)\r\n",
      "\u001B[2m2023-07-11T04:14:46.810372Z\u001B[0m \u001B[32m INFO\u001B[0m \u001B[2mtest\u001B[0m\u001B[2m:\u001B[0m input=Comment(\"5g&yC7[sHx`W$,hW\\\"X_ )]k\\\\=%K/\")\r\n",
      "\u001B[2m2023-07-11T04:14:46.810418Z\u001B[0m \u001B[32m INFO\u001B[0m \u001B[2mtest\u001B[0m\u001B[2m:\u001B[0m input=StringLiteral(\"Un?'&<\")\r\n",
      "\u001B[2m2023-07-11T04:14:46.810488Z\u001B[0m \u001B[32m INFO\u001B[0m \u001B[2mtest\u001B[0m\u001B[2m:\u001B[0m input=StringLiteral(\"qo:s6/O$@I:1e'aNE!&g}6$%=.\")\r\n",
      "\u001B[2m2023-07-11T04:14:46.810537Z\u001B[0m \u001B[32m INFO\u001B[0m \u001B[2mtest\u001B[0m\u001B[2m:\u001B[0m input=StringLiteral(\"$5arnq$.<T+W8}\")\r\n",
      "\u001B[2m2023-07-11T04:14:46.810559Z\u001B[0m \u001B[32m INFO\u001B[0m \u001B[2mtest\u001B[0m\u001B[2m:\u001B[0m input=Operator(\"+\")\r\n",
      "\u001B[2m2023-07-11T04:14:46.810582Z\u001B[0m \u001B[32m INFO\u001B[0m \u001B[2mtest\u001B[0m\u001B[2m:\u001B[0m input=Operator(\"-\")\r\n",
      "\u001B[2m2023-07-11T04:14:46.810606Z\u001B[0m \u001B[32m INFO\u001B[0m \u001B[2mtest\u001B[0m\u001B[2m:\u001B[0m input=StringLiteral(\"[TA!`=`L0~$?$\")\r\n",
      "\u001B[2m2023-07-11T04:14:46.810629Z\u001B[0m \u001B[32m INFO\u001B[0m \u001B[2mtest\u001B[0m\u001B[2m:\u001B[0m input=Identifier(\"zKkhjOGpE\")\r\n",
      "\u001B[2m2023-07-11T04:14:46.810650Z\u001B[0m \u001B[32m INFO\u001B[0m \u001B[2mtest\u001B[0m\u001B[2m:\u001B[0m input=Operator(\"+\")\r\n",
      "\u001B[2m2023-07-11T04:14:46.810690Z\u001B[0m \u001B[32m INFO\u001B[0m \u001B[2mtest\u001B[0m\u001B[2m:\u001B[0m input=StringLiteral(\"I>{=j3Q1d/i=3#GI`={'M~E\")\r\n",
      "\u001B[2m2023-07-11T04:14:46.810741Z\u001B[0m \u001B[32m INFO\u001B[0m \u001B[2mtest\u001B[0m\u001B[2m:\u001B[0m input=Identifier(\"PTOLu\")\r\n",
      "\u001B[2m2023-07-11T04:14:46.810797Z\u001B[0m \u001B[32m INFO\u001B[0m \u001B[2mtest\u001B[0m\u001B[2m:\u001B[0m input=Identifier(\"qLaLC1BKOsiXMv0d47v9\")\r\n",
      "\u001B[2m2023-07-11T04:14:46.810831Z\u001B[0m \u001B[32m INFO\u001B[0m \u001B[2mtest\u001B[0m\u001B[2m:\u001B[0m input=Integer(-8312140426376882408)\r\n",
      "\u001B[2m2023-07-11T04:14:46.810864Z\u001B[0m \u001B[32m INFO\u001B[0m \u001B[2mtest\u001B[0m\u001B[2m:\u001B[0m input=Operator(\"*\")\r\n",
      "\u001B[2m2023-07-11T04:14:46.810923Z\u001B[0m \u001B[32m INFO\u001B[0m \u001B[2mtest\u001B[0m\u001B[2m:\u001B[0m input=StringLiteral(\"+.$z*\")\r\n",
      "\u001B[2m2023-07-11T04:14:46.810965Z\u001B[0m \u001B[32m INFO\u001B[0m \u001B[2mtest\u001B[0m\u001B[2m:\u001B[0m input=Integer(7538681724903561400)\r\n",
      "\u001B[2m2023-07-11T04:14:46.810997Z\u001B[0m \u001B[32m INFO\u001B[0m \u001B[2mtest\u001B[0m\u001B[2m:\u001B[0m input=Comment(\"**|%*a<[:\\\"qLTF=T;\\\\aX.[Rk=\")\r\n",
      "\u001B[2m2023-07-11T04:14:46.811019Z\u001B[0m \u001B[32m INFO\u001B[0m \u001B[2mtest\u001B[0m\u001B[2m:\u001B[0m input=Integer(-2487050796425209419)\r\n",
      "\u001B[2m2023-07-11T04:14:46.811104Z\u001B[0m \u001B[32m INFO\u001B[0m \u001B[2mtest\u001B[0m\u001B[2m:\u001B[0m input=Comment(\"}?^*|+<$(i-??`<y5il&2\\\"VB=?\\\\*p\")\r\n",
      "\u001B[2m2023-07-11T04:14:46.811190Z\u001B[0m \u001B[32m INFO\u001B[0m \u001B[2mtest\u001B[0m\u001B[2m:\u001B[0m input=Comment(\"%?* caB'\")\r\n",
      "\u001B[2m2023-07-11T04:14:46.811252Z\u001B[0m \u001B[32m INFO\u001B[0m \u001B[2mtest\u001B[0m\u001B[2m:\u001B[0m input=Comment(\"~]\\\"=$::u#'Ze(\\\"[<DI5L=3P\")\r\n",
      "\u001B[2m2023-07-11T04:14:46.811288Z\u001B[0m \u001B[32m INFO\u001B[0m \u001B[2mtest\u001B[0m\u001B[2m:\u001B[0m input=Comment(\"A-u9h'|(vt*0+./Fo_*nB8.L:#cIPD\")\r\n",
      "\u001B[2m2023-07-11T04:14:46.811391Z\u001B[0m \u001B[32m INFO\u001B[0m \u001B[2mtest\u001B[0m\u001B[2m:\u001B[0m input=Comment(\"$\")\r\n",
      "\u001B[2m2023-07-11T04:14:46.811446Z\u001B[0m \u001B[32m INFO\u001B[0m \u001B[2mtest\u001B[0m\u001B[2m:\u001B[0m input=Integer(-2303316468201014251)\r\n",
      "\u001B[2m2023-07-11T04:14:46.811494Z\u001B[0m \u001B[32m INFO\u001B[0m \u001B[2mtest\u001B[0m\u001B[2m:\u001B[0m input=StringLiteral(\"NlA$Twm-'$I:%uR{U\")\r\n",
      "\u001B[2m2023-07-11T04:14:46.811557Z\u001B[0m \u001B[32m INFO\u001B[0m \u001B[2mtest\u001B[0m\u001B[2m:\u001B[0m input=Identifier(\"eK211sz7DN6O9Hb5XKwCUp4ylR2C6oy\")\r\n",
      "\u001B[2m2023-07-11T04:14:46.811612Z\u001B[0m \u001B[32m INFO\u001B[0m \u001B[2mtest\u001B[0m\u001B[2m:\u001B[0m input=Integer(-3266559102122138210)\r\n",
      "\u001B[2m2023-07-11T04:14:46.811645Z\u001B[0m \u001B[32m INFO\u001B[0m \u001B[2mtest\u001B[0m\u001B[2m:\u001B[0m input=Integer(-5803381828855410345)\r\n",
      "\u001B[2m2023-07-11T04:14:46.811701Z\u001B[0m \u001B[32m INFO\u001B[0m \u001B[2mtest\u001B[0m\u001B[2m:\u001B[0m input=Identifier(\"Gfre48001W2JrGmsZqD24BWd6QA62sp\")\r\n",
      "\u001B[2m2023-07-11T04:14:46.811778Z\u001B[0m \u001B[32m INFO\u001B[0m \u001B[2mtest\u001B[0m\u001B[2m:\u001B[0m input=StringLiteral(\"%'\")\r\n",
      "\u001B[2m2023-07-11T04:14:46.811808Z\u001B[0m \u001B[32m INFO\u001B[0m \u001B[2mtest\u001B[0m\u001B[2m:\u001B[0m input=Identifier(\"mRK9SabB6T5\")\r\n",
      "\u001B[2m2023-07-11T04:14:46.811833Z\u001B[0m \u001B[32m INFO\u001B[0m \u001B[2mtest\u001B[0m\u001B[2m:\u001B[0m input=Comment(\"*UUs<ZLwD5&e\\\\\")\r\n",
      "\u001B[2m2023-07-11T04:14:46.811856Z\u001B[0m \u001B[32m INFO\u001B[0m \u001B[2mtest\u001B[0m\u001B[2m:\u001B[0m input=Operator(\"(\")\r\n",
      "\u001B[2m2023-07-11T04:14:46.811878Z\u001B[0m \u001B[32m INFO\u001B[0m \u001B[2mtest\u001B[0m\u001B[2m:\u001B[0m input=Operator(\"(\")\r\n",
      "\u001B[2m2023-07-11T04:14:46.811899Z\u001B[0m \u001B[32m INFO\u001B[0m \u001B[2mtest\u001B[0m\u001B[2m:\u001B[0m input=Identifier(\"FsI\")\r\n",
      "\u001B[2m2023-07-11T04:14:46.811932Z\u001B[0m \u001B[32m INFO\u001B[0m \u001B[2mtest\u001B[0m\u001B[2m:\u001B[0m input=Operator(\"-\")\r\n",
      "\u001B[2m2023-07-11T04:14:46.811954Z\u001B[0m \u001B[32m INFO\u001B[0m \u001B[2mtest\u001B[0m\u001B[2m:\u001B[0m input=Operator(\")\")\r\n",
      "\u001B[2m2023-07-11T04:14:46.811982Z\u001B[0m \u001B[32m INFO\u001B[0m \u001B[2mtest\u001B[0m\u001B[2m:\u001B[0m input=Identifier(\"MZh50StYEXKL2fpjew28871\")\r\n",
      "\u001B[2m2023-07-11T04:14:46.812022Z\u001B[0m \u001B[32m INFO\u001B[0m \u001B[2mtest\u001B[0m\u001B[2m:\u001B[0m input=Integer(4929444870623155715)\r\n",
      "\u001B[2m2023-07-11T04:14:46.812084Z\u001B[0m \u001B[32m INFO\u001B[0m \u001B[2mtest\u001B[0m\u001B[2m:\u001B[0m input=StringLiteral(\"*]'k'[lPsss~9+w`W-%6::5_H!.6\")\r\n",
      "\u001B[2m2023-07-11T04:14:46.812129Z\u001B[0m \u001B[32m INFO\u001B[0m \u001B[2mtest\u001B[0m\u001B[2m:\u001B[0m input=Operator(\"=\")\r\n",
      "\u001B[2m2023-07-11T04:14:46.812189Z\u001B[0m \u001B[32m INFO\u001B[0m \u001B[2mtest\u001B[0m\u001B[2m:\u001B[0m input=Comment(\"9>*S4\")\r\n",
      "\u001B[2m2023-07-11T04:14:46.812224Z\u001B[0m \u001B[32m INFO\u001B[0m \u001B[2mtest\u001B[0m\u001B[2m:\u001B[0m input=Operator(\"*\")\r\n",
      "\u001B[2m2023-07-11T04:14:46.812260Z\u001B[0m \u001B[32m INFO\u001B[0m \u001B[2mtest\u001B[0m\u001B[2m:\u001B[0m input=Comment(\"(\\\\**MB\\\"3<\\\"\")\r\n",
      "\u001B[2m2023-07-11T04:14:46.812318Z\u001B[0m \u001B[32m INFO\u001B[0m \u001B[2mtest\u001B[0m\u001B[2m:\u001B[0m input=Operator(\"=\")\r\n",
      "\u001B[2m2023-07-11T04:14:46.812353Z\u001B[0m \u001B[32m INFO\u001B[0m \u001B[2mtest\u001B[0m\u001B[2m:\u001B[0m input=Operator(\"*\")\r\n",
      "\u001B[2m2023-07-11T04:14:46.812381Z\u001B[0m \u001B[32m INFO\u001B[0m \u001B[2mtest\u001B[0m\u001B[2m:\u001B[0m input=Integer(-5785196453407262311)\r\n",
      "\u001B[2m2023-07-11T04:14:46.812414Z\u001B[0m \u001B[32m INFO\u001B[0m \u001B[2mtest\u001B[0m\u001B[2m:\u001B[0m input=Operator(\"+\")\r\n",
      "\u001B[2m2023-07-11T04:14:46.812493Z\u001B[0m \u001B[32m INFO\u001B[0m \u001B[2mtest\u001B[0m\u001B[2m:\u001B[0m input=Operator(\"+\")\r\n",
      "\u001B[2m2023-07-11T04:14:46.812530Z\u001B[0m \u001B[32m INFO\u001B[0m \u001B[2mtest\u001B[0m\u001B[2m:\u001B[0m input=Operator(\"=\")\r\n",
      "\u001B[2m2023-07-11T04:14:46.812587Z\u001B[0m \u001B[32m INFO\u001B[0m \u001B[2mtest\u001B[0m\u001B[2m:\u001B[0m input=Comment(\"kQu6Y\\\\-?lw/%&,!$y\\\":7\\\"8R_n\")\r\n",
      "\u001B[2m2023-07-11T04:14:46.812632Z\u001B[0m \u001B[32m INFO\u001B[0m \u001B[2mtest\u001B[0m\u001B[2m:\u001B[0m input=Operator(\"/\")\r\n",
      "\u001B[2m2023-07-11T04:14:46.812684Z\u001B[0m \u001B[32m INFO\u001B[0m \u001B[2mtest\u001B[0m\u001B[2m:\u001B[0m input=Comment(\".Zxr{/O*cTjq!:vD)n\")\r\n",
      "\u001B[2m2023-07-11T04:14:46.812790Z\u001B[0m \u001B[32m INFO\u001B[0m \u001B[2mtest\u001B[0m\u001B[2m:\u001B[0m input=StringLiteral(\"taQlBe#I`TaXZM]{j9\")\r\n",
      "\u001B[2m2023-07-11T04:14:46.812846Z\u001B[0m \u001B[32m INFO\u001B[0m \u001B[2mtest\u001B[0m\u001B[2m:\u001B[0m input=Integer(2671357507043355190)\r\n",
      "\u001B[2m2023-07-11T04:14:46.812909Z\u001B[0m \u001B[32m INFO\u001B[0m \u001B[2mtest\u001B[0m\u001B[2m:\u001B[0m input=Identifier(\"xZTL3TPPnAtZ11nEf\")\r\n",
      "\u001B[2m2023-07-11T04:14:46.812969Z\u001B[0m \u001B[32m INFO\u001B[0m \u001B[2mtest\u001B[0m\u001B[2m:\u001B[0m input=Comment(\"=Cwh>z,&&Lo'Bs::M7v%x<D(`i7t{2\")\r\n",
      "\u001B[2m2023-07-11T04:14:46.812998Z\u001B[0m \u001B[32m INFO\u001B[0m \u001B[2mtest\u001B[0m\u001B[2m:\u001B[0m input=Identifier(\"Q19qEyZtU8i\")\r\n",
      "\u001B[2m2023-07-11T04:14:46.813039Z\u001B[0m \u001B[32m INFO\u001B[0m \u001B[2mtest\u001B[0m\u001B[2m:\u001B[0m input=Integer(3783727377718874757)\r\n",
      "\u001B[2m2023-07-11T04:14:46.813079Z\u001B[0m \u001B[32m INFO\u001B[0m \u001B[2mtest\u001B[0m\u001B[2m:\u001B[0m input=Identifier(\"avMP\")\r\n",
      "\u001B[2m2023-07-11T04:14:46.813154Z\u001B[0m \u001B[32m INFO\u001B[0m \u001B[2mtest\u001B[0m\u001B[2m:\u001B[0m input=Comment(\"h\\\"4j~\\\"<wW/e<*\")\r\n",
      "\u001B[2m2023-07-11T04:14:46.813285Z\u001B[0m \u001B[32m INFO\u001B[0m \u001B[2mtest\u001B[0m\u001B[2m:\u001B[0m input=Comment(\"&tsGH{yB?<O+&4(V55VF-\\\"\")\r\n",
      "\u001B[2m2023-07-11T04:14:46.813330Z\u001B[0m \u001B[32m INFO\u001B[0m \u001B[2mtest\u001B[0m\u001B[2m:\u001B[0m input=Integer(7897100010300040620)\r\n",
      "\u001B[2m2023-07-11T04:14:46.813364Z\u001B[0m \u001B[32m INFO\u001B[0m \u001B[2mtest\u001B[0m\u001B[2m:\u001B[0m input=Comment(\"&/??3%/X&<6w~Cf\\\\|pD8wBj&A`\")\r\n",
      "\u001B[2m2023-07-11T04:14:46.813386Z\u001B[0m \u001B[32m INFO\u001B[0m \u001B[2mtest\u001B[0m\u001B[2m:\u001B[0m input=Integer(-5443924933834946966)\r\n",
      "\u001B[2m2023-07-11T04:14:46.813410Z\u001B[0m \u001B[32m INFO\u001B[0m \u001B[2mtest\u001B[0m\u001B[2m:\u001B[0m input=Comment(\"B&<(lJ\\\"g\")\r\n",
      "\u001B[2m2023-07-11T04:14:46.813465Z\u001B[0m \u001B[32m INFO\u001B[0m \u001B[2mtest\u001B[0m\u001B[2m:\u001B[0m input=Identifier(\"Zf9oG5LKqYcoWJL5u0Y1Xy4f85A\")\r\n",
      "\u001B[2m2023-07-11T04:14:46.813534Z\u001B[0m \u001B[32m INFO\u001B[0m \u001B[2mtest\u001B[0m\u001B[2m:\u001B[0m input=StringLiteral(\"'i\")\r\n",
      "\u001B[2m2023-07-11T04:14:46.813572Z\u001B[0m \u001B[32m INFO\u001B[0m \u001B[2mtest\u001B[0m\u001B[2m:\u001B[0m input=Operator(\"=\")\r\n",
      "\u001B[2m2023-07-11T04:14:46.813608Z\u001B[0m \u001B[32m INFO\u001B[0m \u001B[2mtest\u001B[0m\u001B[2m:\u001B[0m input=Operator(\"(\")\r\n",
      "\u001B[2m2023-07-11T04:14:46.813681Z\u001B[0m \u001B[32m INFO\u001B[0m \u001B[2mtest\u001B[0m\u001B[2m:\u001B[0m input=StringLiteral(\":r)w:S 8?.uv`|<*ta&C`*/[=Q*v\")\r\n",
      "\u001B[2m2023-07-11T04:14:46.813753Z\u001B[0m \u001B[32m INFO\u001B[0m \u001B[2mtest\u001B[0m\u001B[2m:\u001B[0m input=Operator(\"=\")\r\n",
      "\u001B[2m2023-07-11T04:14:46.813790Z\u001B[0m \u001B[32m INFO\u001B[0m \u001B[2mtest\u001B[0m\u001B[2m:\u001B[0m input=Operator(\"(\")\r\n",
      "\u001B[2m2023-07-11T04:14:46.813809Z\u001B[0m \u001B[32m INFO\u001B[0m \u001B[2mtest\u001B[0m\u001B[2m:\u001B[0m input=Integer(1345021882043490551)\r\n",
      "\u001B[2m2023-07-11T04:14:46.813830Z\u001B[0m \u001B[32m INFO\u001B[0m \u001B[2mtest\u001B[0m\u001B[2m:\u001B[0m input=Integer(-2321622538617985810)\r\n",
      "\u001B[2m2023-07-11T04:14:46.813859Z\u001B[0m \u001B[32m INFO\u001B[0m \u001B[2mtest\u001B[0m\u001B[2m:\u001B[0m input=StringLiteral(\"q%]{'`t'#LI%hX(~nhH.*{\")\r\n",
      "\u001B[2m2023-07-11T04:14:46.813881Z\u001B[0m \u001B[32m INFO\u001B[0m \u001B[2mtest\u001B[0m\u001B[2m:\u001B[0m input=Integer(3376071843065490905)\r\n",
      "\u001B[2m2023-07-11T04:14:46.813901Z\u001B[0m \u001B[32m INFO\u001B[0m \u001B[2mtest\u001B[0m\u001B[2m:\u001B[0m input=Operator(\"-\")\r\n",
      "\u001B[2m2023-07-11T04:14:46.813923Z\u001B[0m \u001B[32m INFO\u001B[0m \u001B[2mtest\u001B[0m\u001B[2m:\u001B[0m input=Comment(\"4/nc\")\r\n",
      "\u001B[2m2023-07-11T04:14:46.813944Z\u001B[0m \u001B[32m INFO\u001B[0m \u001B[2mtest\u001B[0m\u001B[2m:\u001B[0m input=Comment(\"?`=)s\")\r\n",
      "\u001B[2m2023-07-11T04:14:46.813964Z\u001B[0m \u001B[32m INFO\u001B[0m \u001B[2mtest\u001B[0m\u001B[2m:\u001B[0m input=Integer(-8707756028661327095)\r\n",
      "\u001B[2m2023-07-11T04:14:46.813986Z\u001B[0m \u001B[32m INFO\u001B[0m \u001B[2mtest\u001B[0m\u001B[2m:\u001B[0m input=Operator(\"*\")\r\n",
      "\u001B[2m2023-07-11T04:14:46.814011Z\u001B[0m \u001B[32m INFO\u001B[0m \u001B[2mtest\u001B[0m\u001B[2m:\u001B[0m input=Comment(\"G.S<G#Z=sE\\\\v,\\\\x8~:o\")\r\n",
      "\u001B[2m2023-07-11T04:14:46.814030Z\u001B[0m \u001B[32m INFO\u001B[0m \u001B[2mtest\u001B[0m\u001B[2m:\u001B[0m input=Integer(-2373247768883902915)\r\n",
      "\u001B[2m2023-07-11T04:14:46.814050Z\u001B[0m \u001B[32m INFO\u001B[0m \u001B[2mtest\u001B[0m\u001B[2m:\u001B[0m input=Operator(\"*\")\r\n",
      "\u001B[2m2023-07-11T04:14:46.814071Z\u001B[0m \u001B[32m INFO\u001B[0m \u001B[2mtest\u001B[0m\u001B[2m:\u001B[0m input=Comment(\"w\")\r\n",
      "\u001B[2m2023-07-11T04:14:46.814097Z\u001B[0m \u001B[32m INFO\u001B[0m \u001B[2mtest\u001B[0m\u001B[2m:\u001B[0m input=Comment(\"&i<w::&_{*%s8?K,}|\")\r\n",
      "\u001B[2m2023-07-11T04:14:46.814154Z\u001B[0m \u001B[32m INFO\u001B[0m \u001B[2mtest\u001B[0m\u001B[2m:\u001B[0m input=StringLiteral(\"A-_*\")\r\n",
      "\u001B[2m2023-07-11T04:14:46.814208Z\u001B[0m \u001B[32m INFO\u001B[0m \u001B[2mtest\u001B[0m\u001B[2m:\u001B[0m input=Operator(\"/\")\r\n",
      "\u001B[2m2023-07-11T04:14:46.814228Z\u001B[0m \u001B[32m INFO\u001B[0m \u001B[2mtest\u001B[0m\u001B[2m:\u001B[0m input=Integer(5091125281979222114)\r\n",
      "\u001B[2m2023-07-11T04:14:46.814257Z\u001B[0m \u001B[32m INFO\u001B[0m \u001B[2mtest\u001B[0m\u001B[2m:\u001B[0m input=Comment(\"=!@&\\\"[10j_n%r)d :h9{6'bvR\")\r\n",
      "\u001B[2m2023-07-11T04:14:46.814286Z\u001B[0m \u001B[32m INFO\u001B[0m \u001B[2mtest\u001B[0m\u001B[2m:\u001B[0m input=StringLiteral(\"X3]6I*z}7Z`K+}`3dD~y3'$\")\r\n",
      "\u001B[2m2023-07-11T04:14:46.814307Z\u001B[0m \u001B[32m INFO\u001B[0m \u001B[2mtest\u001B[0m\u001B[2m:\u001B[0m input=Integer(-8339010715387633731)\r\n",
      "\u001B[2m2023-07-11T04:14:46.814324Z\u001B[0m \u001B[32m INFO\u001B[0m \u001B[2mtest\u001B[0m\u001B[2m:\u001B[0m input=Integer(894386047247501804)\r\n",
      "\u001B[2m2023-07-11T04:14:46.814347Z\u001B[0m \u001B[32m INFO\u001B[0m \u001B[2mtest\u001B[0m\u001B[2m:\u001B[0m input=StringLiteral(\"lhu%S]*n5\")\r\n",
      "\u001B[2m2023-07-11T04:14:46.814383Z\u001B[0m \u001B[32m INFO\u001B[0m \u001B[2mtest\u001B[0m\u001B[2m:\u001B[0m input=StringLiteral(\"RrhF}+?*b%ihu%<$sQE/$*?}7@hU~\")\r\n",
      "\u001B[2m2023-07-11T04:14:46.814442Z\u001B[0m \u001B[32m INFO\u001B[0m \u001B[2mtest\u001B[0m\u001B[2m:\u001B[0m input=Identifier(\"WwFUv6elGetDZg9\")\r\n",
      "\u001B[2m2023-07-11T04:14:46.814481Z\u001B[0m \u001B[32m INFO\u001B[0m \u001B[2mtest\u001B[0m\u001B[2m:\u001B[0m input=Identifier(\"DB77fJVoOOy9z\")\r\n",
      "\u001B[2m2023-07-11T04:14:46.814520Z\u001B[0m \u001B[32m INFO\u001B[0m \u001B[2mtest\u001B[0m\u001B[2m:\u001B[0m input=Operator(\"=\")\r\n",
      "\u001B[2m2023-07-11T04:14:46.814563Z\u001B[0m \u001B[32m INFO\u001B[0m \u001B[2mtest\u001B[0m\u001B[2m:\u001B[0m input=StringLiteral(\"*h`{{?-.\")\r\n",
      "\u001B[2m2023-07-11T04:14:46.814600Z\u001B[0m \u001B[32m INFO\u001B[0m \u001B[2mtest\u001B[0m\u001B[2m:\u001B[0m input=StringLiteral(\"U /.gp1R1ZU=\")\r\n",
      "\u001B[2m2023-07-11T04:14:46.814627Z\u001B[0m \u001B[32m INFO\u001B[0m \u001B[2mtest\u001B[0m\u001B[2m:\u001B[0m input=Integer(-4162429321385893912)\r\n",
      "\u001B[2m2023-07-11T04:14:46.814666Z\u001B[0m \u001B[32m INFO\u001B[0m \u001B[2mtest\u001B[0m\u001B[2m:\u001B[0m input=Identifier(\"k48Z9OjIXfypBl9etdIEBpDC\")\r\n",
      "\u001B[2m2023-07-11T04:14:46.814706Z\u001B[0m \u001B[32m INFO\u001B[0m \u001B[2mtest\u001B[0m\u001B[2m:\u001B[0m input=StringLiteral(\"R&K'k\")\r\n",
      "\u001B[2m2023-07-11T04:14:46.814789Z\u001B[0m \u001B[32m INFO\u001B[0m \u001B[2mtest\u001B[0m\u001B[2m:\u001B[0m input=Integer(5848800970492377124)\r\n",
      "\u001B[2m2023-07-11T04:14:46.814827Z\u001B[0m \u001B[32m INFO\u001B[0m \u001B[2mtest\u001B[0m\u001B[2m:\u001B[0m input=Comment(\"%Nb#yr&jw&rUW!,d\")\r\n",
      "test prop_parse_format_idempotent ... ok\r\n",
      "test adding_and_then_removing_an_item_from_the_cart_leaves_the_cart_unchanged ... ok\r\n",
      "\r\n",
      "test result: ok. 3 passed; 0 failed; 0 ignored; 0 measured; 0 filtered out; finished in 0.10s\r\n",
      "\r\n"
     ]
    }
   ],
   "source": [
    "$env:RUST_LOG=\"info\"\n",
    "{ cargo test --release | Tee-Object test.test.ans } | Invoke-Block"
   ]
  },
  {
   "cell_type": "code",
   "execution_count": null,
   "metadata": {
    "dotnet_repl_cellExecutionStartTime": "2023-07-11T01:14:47.2337115-03:00",
    "dotnet_repl_cellExecutionEndTime": "2023-07-11T01:14:47.2828398-03:00",
    "dotnet_repl_cellExecutionTime": "49.1302ms",
    "dotnet_interactive": {
     "language": "pwsh"
    },
    "polyglot_notebook": {
     "kernelName": "pwsh"
    }
   },
   "outputs": [
    {
     "name": "stdout",
     "output_type": "stream",
     "text": [
      "app=test\r\n"
     ]
    }
   ],
   "source": [
    "{ . \"$ScriptDir/../../target/release/test$(if ($IsWindows) { '.exe' } else { '' })\" | Tee-Object test.out } | Invoke-Block"
   ]
  }
 ],
 "metadata": {
  "kernelspec": {
   "display_name": ".NET (C#)",
   "language": "C#",
   "name": ".net-csharp"
  },
  "language_info": {
   "file_extension": ".cs",
   "mimetype": "text/x-csharp",
   "name": "C#",
   "pygments_lexer": "csharp",
   "version": "10.0"
  },
  "polyglot_notebook": {
   "defaultKernelName": "csharp",
   "items": [
    {
     "name": "csharp"
    }
   ]
  },
  "dotnet_interactive": {
   "defaultKernelName": "csharp",
   "items": [
    {
     "name": "csharp"
    }
   ]
  }
 },
 "nbformat": 4,
 "nbformat_minor": 5
}