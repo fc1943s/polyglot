{
 "cells": [
  {
   "cell_type": "code",
   "execution_count": null,
   "metadata": {
    "dotnet_interactive": {
     "language": "pwsh"
    },
    "polyglot_notebook": {
     "kernelName": "pwsh"
    }
   },
   "outputs": [],
   "source": [
    ". ../../scripts/nbs_header.ps1\n",
    ". ../../scripts/core.ps1"
   ]
  },
  {
   "cell_type": "code",
   "execution_count": null,
   "metadata": {
    "dotnet_interactive": {
     "language": "pwsh"
    },
    "polyglot_notebook": {
     "kernelName": "pwsh"
    }
   },
   "outputs": [
    {
     "name": "stdout",
     "output_type": "stream",
     "text": [
      "Fable 4.1.4: F# to Rust compiler (status: alpha)\r\n",
      "\r\n",
      "Thanks to the contributor! @pauldorehill\r\n",
      "Stand with Ukraine! https://standwithukraine.com.ua/\r\n",
      "\r\n",
      "Parsing test.fsproj...\r\n",
      "Retrieving project options from cache, in case of issues run `dotnet fable clean` or try `--noCache` option.\r\n",
      "Project and references (1 source files) parsed in 315ms\r\n",
      "\r\n",
      "Started Fable compilation...\r\n",
      "Fable compilation finished in 1997ms\r\n",
      "\r\n",
      ".\\test.fsx(6,0): (6,2) warning FABLE: For Rust, support for F# static and module do bindings is disabled by default. It can be enabled with the 'static_do_bindings' feature. Use at your own risk!\r\n"
     ]
    }
   ],
   "source": [
    "dotnet fable --optimize --lang rs --extension .rs"
   ]
  },
  {
   "cell_type": "code",
   "execution_count": null,
   "metadata": {
    "dotnet_interactive": {
     "language": "pwsh"
    },
    "polyglot_notebook": {
     "kernelName": "pwsh"
    }
   },
   "outputs": [],
   "source": [
    "cargo fmt --"
   ]
  },
  {
   "cell_type": "code",
   "execution_count": null,
   "metadata": {
    "dotnet_interactive": {
     "language": "pwsh"
    },
    "polyglot_notebook": {
     "kernelName": "pwsh"
    }
   },
   "outputs": [
    {
     "name": "stdout",
     "output_type": "stream",
     "text": [
      "\u001B[31;1m   Compiling test v0.0.1 (C:\\home\\git\\polyglot\\spiral\\test)\u001B[0m\r\n",
      "\u001B[31;1mwarning: unused import: `info`\u001B[0m\r\n",
      "\u001B[31;1m   --> spiral\\test\\./main.rs:190:15\u001B[0m\r\n",
      "\u001B[31;1m    |\u001B[0m\r\n",
      "\u001B[31;1m190 | use tracing::{info, Level};\u001B[0m\r\n",
      "\u001B[31;1m    |               ^^^^\u001B[0m\r\n",
      "\u001B[31;1m    |\u001B[0m\r\n",
      "\u001B[31;1m    = note: `#[warn(unused_imports)]` on by default\u001B[0m\r\n",
      "\u001B[31;1m\u001B[0m\r\n",
      "\u001B[31;1mwarning: associated items `new`, `add_item`, and `remove_item` are never used\u001B[0m\r\n",
      "\u001B[31;1m  --> spiral\\test\\./main.rs:46:8\u001B[0m\r\n",
      "\u001B[31;1m   |\u001B[0m\r\n",
      "\u001B[31;1m45 | impl Cart {\u001B[0m\r\n",
      "\u001B[31;1m   | --------- associated items in this implementation\u001B[0m\r\n",
      "\u001B[31;1m46 |     fn new() -> Cart {\u001B[0m\r\n",
      "\u001B[31;1m   |        ^^^\u001B[0m\r\n",
      "\u001B[31;1m...\u001B[0m\r\n",
      "\u001B[31;1m50 |     fn add_item(&mut self, item: Item) {\u001B[0m\r\n",
      "\u001B[31;1m   |        ^^^^^^^^\u001B[0m\r\n",
      "\u001B[31;1m...\u001B[0m\r\n",
      "\u001B[31;1m56 |     fn remove_item(&mut self, item: &Item) {\u001B[0m\r\n",
      "\u001B[31;1m   |        ^^^^^^^^^^^\u001B[0m\r\n",
      "\u001B[31;1m   |\u001B[0m\r\n",
      "\u001B[31;1m   = note: `#[warn(dead_code)]` on by default\u001B[0m\r\n",
      "\u001B[31;1m\u001B[0m\r\n",
      "\u001B[31;1mwarning: function `parse_comment` is never used\u001B[0m\r\n",
      "\u001B[31;1m   --> spiral\\test\\./main.rs:124:4\u001B[0m\r\n",
      "\u001B[31;1m    |\u001B[0m\r\n",
      "\u001B[31;1m124 | fn parse_comment(input: &str) -> IResult<&str, SpiralToken> {\u001B[0m\r\n",
      "\u001B[31;1m    |    ^^^^^^^^^^^^^\u001B[0m\r\n",
      "\u001B[31;1m\u001B[0m\r\n",
      "\u001B[31;1mwarning: function `parse_string` is never used\u001B[0m\r\n",
      "\u001B[31;1m   --> spiral\\test\\./main.rs:130:4\u001B[0m\r\n",
      "\u001B[31;1m    |\u001B[0m\r\n",
      "\u001B[31;1m130 | fn parse_string(input: &str) -> IResult<&str, SpiralToken> {\u001B[0m\r\n",
      "\u001B[31;1m    |    ^^^^^^^^^^^^\u001B[0m\r\n",
      "\u001B[31;1m\u001B[0m\r\n",
      "\u001B[31;1mwarning: function `parse_identifier` is never used\u001B[0m\r\n",
      "\u001B[31;1m   --> spiral\\test\\./main.rs:145:4\u001B[0m\r\n",
      "\u001B[31;1m    |\u001B[0m\r\n",
      "\u001B[31;1m145 | fn parse_identifier(input: &str) -> IResult<&str, SpiralToken> {\u001B[0m\r\n",
      "\u001B[31;1m    |    ^^^^^^^^^^^^^^^^\u001B[0m\r\n",
      "\u001B[31;1m\u001B[0m\r\n",
      "\u001B[31;1mwarning: function `parse_integer` is never used\u001B[0m\r\n",
      "\u001B[31;1m   --> spiral\\test\\./main.rs:157:4\u001B[0m\r\n",
      "\u001B[31;1m    |\u001B[0m\r\n",
      "\u001B[31;1m157 | fn parse_integer(input: &str) -> IResult<&str, SpiralToken> {\u001B[0m\r\n",
      "\u001B[31;1m    |    ^^^^^^^^^^^^^\u001B[0m\r\n",
      "\u001B[31;1m\u001B[0m\r\n",
      "\u001B[31;1mwarning: function `parse_operator` is never used\u001B[0m\r\n",
      "\u001B[31;1m   --> spiral\\test\\./main.rs:165:4\u001B[0m\r\n",
      "\u001B[31;1m    |\u001B[0m\r\n",
      "\u001B[31;1m165 | fn parse_operator(input: &str) -> IResult<&str, SpiralToken> {\u001B[0m\r\n",
      "\u001B[31;1m    |    ^^^^^^^^^^^^^^\u001B[0m\r\n",
      "\u001B[31;1m\u001B[0m\r\n",
      "\u001B[31;1mwarning: function `parse_token` is never used\u001B[0m\r\n",
      "\u001B[31;1m   --> spiral\\test\\./main.rs:170:4\u001B[0m\r\n",
      "\u001B[31;1m    |\u001B[0m\r\n",
      "\u001B[31;1m170 | fn parse_token(input: &str) -> IResult<&str, SpiralToken> {\u001B[0m\r\n",
      "\u001B[31;1m    |    ^^^^^^^^^^^\u001B[0m\r\n",
      "\u001B[31;1m\u001B[0m\r\n",
      "\u001B[31;1mwarning: function `format_token` is never used\u001B[0m\r\n",
      "\u001B[31;1m   --> spiral\\test\\./main.rs:180:4\u001B[0m\r\n",
      "\u001B[31;1m    |\u001B[0m\r\n",
      "\u001B[31;1m180 | fn format_token(token: &SpiralToken) -> String {\u001B[0m\r\n",
      "\u001B[31;1m    |    ^^^^^^^^^^^^\u001B[0m\r\n",
      "\u001B[31;1m\u001B[0m\r\n",
      "\u001B[31;1mwarning: function `parse_expression` is never used\u001B[0m\r\n",
      "\u001B[31;1m   --> spiral\\test\\./main.rs:213:4\u001B[0m\r\n",
      "\u001B[31;1m    |\u001B[0m\r\n",
      "\u001B[31;1m213 | fn parse_expression(input: &str) -> IResult<&str, SpiralToken> {\u001B[0m\r\n",
      "\u001B[31;1m    |    ^^^^^^^^^^^^^^^^\u001B[0m\r\n",
      "\u001B[31;1m\u001B[0m\r\n",
      "\u001B[31;1mwarning: `test` (bin \"test\") generated 10 warnings (run `cargo fix --bin \"test\"` to apply 1 suggestion)\u001B[0m\r\n",
      "\u001B[31;1m    Finished release [optimized] target(s) in 6.48s\u001B[0m\r\n"
     ]
    }
   ],
   "source": [
    "cargo build --release"
   ]
  },
  {
   "cell_type": "code",
   "execution_count": null,
   "metadata": {
    "dotnet_interactive": {
     "language": "pwsh"
    },
    "polyglot_notebook": {
     "kernelName": "pwsh"
    }
   },
   "outputs": [
    {
     "name": "stdout",
     "output_type": "stream",
     "text": [
      "\u001B[31;1m   Compiling test v0.0.1 (C:\\home\\git\\polyglot\\spiral\\test)\u001B[0m\r\n",
      "\u001B[31;1m    Finished release [optimized] target(s) in 5.82s\u001B[0m\r\n",
      "\u001B[31;1m     Running unittests main.rs (C:\\home\\git\\polyglot\\target\\release\\deps\\test-38172e11e9fb5a54.exe)\u001B[0m\r\n",
      "\r\n",
      "running 3 tests\r\n",
      "test test_parse_number ... ok\r\n",
      "\u001B[2m2023-07-30T06:16:46.429956Z\u001B[0m \u001B[32m INFO\u001B[0m \u001B[2mtest\u001B[0m\u001B[2m:\u001B[0m input=StringLiteral(\"MV9vR::{*L&&%.%pH;BSK\")\r\n",
      "\u001B[2m2023-07-30T06:16:46.430207Z\u001B[0m \u001B[32m INFO\u001B[0m \u001B[2mtest\u001B[0m\u001B[2m:\u001B[0m input=Integer(4819984537171980009)\r\n",
      "\u001B[2m2023-07-30T06:16:46.430312Z\u001B[0m \u001B[32m INFO\u001B[0m \u001B[2mtest\u001B[0m\u001B[2m:\u001B[0m input=Integer(-1095733528230063219)\r\n",
      "\u001B[2m2023-07-30T06:16:46.430370Z\u001B[0m \u001B[32m INFO\u001B[0m \u001B[2mtest\u001B[0m\u001B[2m:\u001B[0m input=Comment(\"#bJf&pBsM=;\\\"32\")\r\n",
      "\u001B[2m2023-07-30T06:16:46.430480Z\u001B[0m \u001B[32m INFO\u001B[0m \u001B[2mtest\u001B[0m\u001B[2m:\u001B[0m input=StringLiteral(\"JHd%.:R8&{:4I.*Vb{N%zp|6{%\")\r\n",
      "\u001B[2m2023-07-30T06:16:46.430559Z\u001B[0m \u001B[32m INFO\u001B[0m \u001B[2mtest\u001B[0m\u001B[2m:\u001B[0m input=Identifier(\"asiCs\")\r\n",
      "\u001B[2m2023-07-30T06:16:46.430650Z\u001B[0m \u001B[32m INFO\u001B[0m \u001B[2mtest\u001B[0m\u001B[2m:\u001B[0m input=StringLiteral(\"`)Y.-uQ/=<3,(\")\r\n",
      "\u001B[2m2023-07-30T06:16:46.430694Z\u001B[0m \u001B[32m INFO\u001B[0m \u001B[2mtest\u001B[0m\u001B[2m:\u001B[0m input=Integer(-5129032019707082526)\r\n",
      "\u001B[2m2023-07-30T06:16:46.430765Z\u001B[0m \u001B[32m INFO\u001B[0m \u001B[2mtest\u001B[0m\u001B[2m:\u001B[0m input=Integer(4108678519499307602)\r\n",
      "\u001B[2m2023-07-30T06:16:46.430823Z\u001B[0m \u001B[32m INFO\u001B[0m \u001B[2mtest\u001B[0m\u001B[2m:\u001B[0m input=Identifier(\"iwZUl593eSpX4Xj7oMzCw\")\r\n",
      "\u001B[2m2023-07-30T06:16:46.430892Z\u001B[0m \u001B[32m INFO\u001B[0m \u001B[2mtest\u001B[0m\u001B[2m:\u001B[0m input=StringLiteral(\"<#FX=Z*]p{'smN?2%X}'{ \")\r\n",
      "\u001B[2m2023-07-30T06:16:46.430991Z\u001B[0m \u001B[32m INFO\u001B[0m \u001B[2mtest\u001B[0m\u001B[2m:\u001B[0m input=Identifier(\"Gd9jmrSQu60x6H13XDfzyvumi2V5Wyw38\")\r\n",
      "\u001B[2m2023-07-30T06:16:46.431144Z\u001B[0m \u001B[32m INFO\u001B[0m \u001B[2mtest\u001B[0m\u001B[2m:\u001B[0m input=Operator(\"-\")\r\n",
      "\u001B[2m2023-07-30T06:16:46.431239Z\u001B[0m \u001B[32m INFO\u001B[0m \u001B[2mtest\u001B[0m\u001B[2m:\u001B[0m input=StringLiteral(\":&j`1z0KBT%I</qM%{\")\r\n",
      "\u001B[2m2023-07-30T06:16:46.431310Z\u001B[0m \u001B[32m INFO\u001B[0m \u001B[2mtest\u001B[0m\u001B[2m:\u001B[0m input=StringLiteral(\"<Dl%*IuG`/a}rpju\")\r\n",
      "\u001B[2m2023-07-30T06:16:46.431407Z\u001B[0m \u001B[32m INFO\u001B[0m \u001B[2mtest\u001B[0m\u001B[2m:\u001B[0m input=Integer(-5250395049306115661)\r\n",
      "\u001B[2m2023-07-30T06:16:46.431475Z\u001B[0m \u001B[32m INFO\u001B[0m \u001B[2mtest\u001B[0m\u001B[2m:\u001B[0m input=Operator(\"/\")\r\n",
      "\u001B[2m2023-07-30T06:16:46.431563Z\u001B[0m \u001B[32m INFO\u001B[0m \u001B[2mtest\u001B[0m\u001B[2m:\u001B[0m input=Identifier(\"Ml7OpmRt9Kgror7srucTwma8sQaZ\")\r\n",
      "\u001B[2m2023-07-30T06:16:46.431619Z\u001B[0m \u001B[32m INFO\u001B[0m \u001B[2mtest\u001B[0m\u001B[2m:\u001B[0m input=Comment(\"t=\\\\:`A/$?\")\r\n",
      "\u001B[2m2023-07-30T06:16:46.431683Z\u001B[0m \u001B[32m INFO\u001B[0m \u001B[2mtest\u001B[0m\u001B[2m:\u001B[0m input=Integer(3765739356006241881)\r\n",
      "\u001B[2m2023-07-30T06:16:46.431744Z\u001B[0m \u001B[32m INFO\u001B[0m \u001B[2mtest\u001B[0m\u001B[2m:\u001B[0m input=Comment(\")csA88\\\\(:3sfSh% Mv^w^_Y.Cr\")\r\n",
      "\u001B[2m2023-07-30T06:16:46.431816Z\u001B[0m \u001B[32m INFO\u001B[0m \u001B[2mtest\u001B[0m\u001B[2m:\u001B[0m input=Integer(-4805073913748440828)\r\n",
      "\u001B[2m2023-07-30T06:16:46.431883Z\u001B[0m \u001B[32m INFO\u001B[0m \u001B[2mtest\u001B[0m\u001B[2m:\u001B[0m input=Identifier(\"j4w9zpMLPH5uZlFKQgS289tlsPnyb2\")\r\n",
      "\u001B[2m2023-07-30T06:16:46.432016Z\u001B[0m \u001B[32m INFO\u001B[0m \u001B[2mtest\u001B[0m\u001B[2m:\u001B[0m input=Identifier(\"zjz8LVe6h5Yt3u579xIVK0Gbct0Gg\")\r\n",
      "\u001B[2m2023-07-30T06:16:46.432088Z\u001B[0m \u001B[32m INFO\u001B[0m \u001B[2mtest\u001B[0m\u001B[2m:\u001B[0m input=Operator(\")\")\r\n",
      "\u001B[2m2023-07-30T06:16:46.432133Z\u001B[0m \u001B[32m INFO\u001B[0m \u001B[2mtest\u001B[0m\u001B[2m:\u001B[0m input=Operator(\"-\")\r\n",
      "\u001B[2m2023-07-30T06:16:46.432232Z\u001B[0m \u001B[32m INFO\u001B[0m \u001B[2mtest\u001B[0m\u001B[2m:\u001B[0m input=StringLiteral(\"a6jS$1wK+`$q,9?LKwR<#}{Xu}(n&C.>\")\r\n",
      "\u001B[2m2023-07-30T06:16:46.432280Z\u001B[0m \u001B[32m INFO\u001B[0m \u001B[2mtest\u001B[0m\u001B[2m:\u001B[0m input=Integer(-3000797067425994361)\r\n",
      "\u001B[2m2023-07-30T06:16:46.432340Z\u001B[0m \u001B[32m INFO\u001B[0m \u001B[2mtest\u001B[0m\u001B[2m:\u001B[0m input=Comment(\"Q\\\\&ko@.>Z/i<-Ma4C6>\")\r\n",
      "\u001B[2m2023-07-30T06:16:46.432420Z\u001B[0m \u001B[32m INFO\u001B[0m \u001B[2mtest\u001B[0m\u001B[2m:\u001B[0m input=Identifier(\"byK2T8aOxF21P\")\r\n",
      "\u001B[2m2023-07-30T06:16:46.432461Z\u001B[0m \u001B[32m INFO\u001B[0m \u001B[2mtest\u001B[0m\u001B[2m:\u001B[0m input=Operator(\"+\")\r\n",
      "\u001B[2m2023-07-30T06:16:46.432533Z\u001B[0m \u001B[32m INFO\u001B[0m \u001B[2mtest\u001B[0m\u001B[2m:\u001B[0m input=Operator(\"=\")\r\n",
      "\u001B[2m2023-07-30T06:16:46.432687Z\u001B[0m \u001B[32m INFO\u001B[0m \u001B[2mtest\u001B[0m\u001B[2m:\u001B[0m input=Comment(\">$\")\r\n",
      "\u001B[2m2023-07-30T06:16:46.432760Z\u001B[0m \u001B[32m INFO\u001B[0m \u001B[2mtest\u001B[0m\u001B[2m:\u001B[0m input=Identifier(\"Ofjg03\")\r\n",
      "\u001B[2m2023-07-30T06:16:46.432799Z\u001B[0m \u001B[32m INFO\u001B[0m \u001B[2mtest\u001B[0m\u001B[2m:\u001B[0m input=Integer(4768715474622191199)\r\n",
      "\u001B[2m2023-07-30T06:16:46.432889Z\u001B[0m \u001B[32m INFO\u001B[0m \u001B[2mtest\u001B[0m\u001B[2m:\u001B[0m input=Identifier(\"E2v2AfDpBjZ7X0Y6bdwRz2U3l\")\r\n",
      "\u001B[2m2023-07-30T06:16:46.432941Z\u001B[0m \u001B[32m INFO\u001B[0m \u001B[2mtest\u001B[0m\u001B[2m:\u001B[0m input=Operator(\"-\")\r\n",
      "\u001B[2m2023-07-30T06:16:46.433056Z\u001B[0m \u001B[32m INFO\u001B[0m \u001B[2mtest\u001B[0m\u001B[2m:\u001B[0m input=Identifier(\"C9G602fMh2UFkKeb\")\r\n",
      "\u001B[2m2023-07-30T06:16:46.433122Z\u001B[0m \u001B[32m INFO\u001B[0m \u001B[2mtest\u001B[0m\u001B[2m:\u001B[0m input=Integer(8838077995845195943)\r\n",
      "\u001B[2m2023-07-30T06:16:46.433196Z\u001B[0m \u001B[32m INFO\u001B[0m \u001B[2mtest\u001B[0m\u001B[2m:\u001B[0m input=Comment(\"'9/'sv(=!.6hACcW-<vx/I?[+h\\\"\\\\g\")\r\n",
      "\u001B[2m2023-07-30T06:16:46.433267Z\u001B[0m \u001B[32m INFO\u001B[0m \u001B[2mtest\u001B[0m\u001B[2m:\u001B[0m input=Identifier(\"x\")\r\n",
      "\u001B[2m2023-07-30T06:16:46.433329Z\u001B[0m \u001B[32m INFO\u001B[0m \u001B[2mtest\u001B[0m\u001B[2m:\u001B[0m input=Comment(\"._yd2\\\"1'4.:HwP\\\"|o9{\")\r\n",
      "\u001B[2m2023-07-30T06:16:46.433402Z\u001B[0m \u001B[32m INFO\u001B[0m \u001B[2mtest\u001B[0m\u001B[2m:\u001B[0m input=Integer(-2502411473095381986)\r\n",
      "\u001B[2m2023-07-30T06:16:46.433448Z\u001B[0m \u001B[32m INFO\u001B[0m \u001B[2mtest\u001B[0m\u001B[2m:\u001B[0m input=Comment(\"&\")\r\n",
      "\u001B[2m2023-07-30T06:16:46.433485Z\u001B[0m \u001B[32m INFO\u001B[0m \u001B[2mtest\u001B[0m\u001B[2m:\u001B[0m input=Integer(-413818976748090096)\r\n",
      "\u001B[2m2023-07-30T06:16:46.433547Z\u001B[0m \u001B[32m INFO\u001B[0m \u001B[2mtest\u001B[0m\u001B[2m:\u001B[0m input=Integer(4341932381806779001)\r\n",
      "\u001B[2m2023-07-30T06:16:46.433657Z\u001B[0m \u001B[32m INFO\u001B[0m \u001B[2mtest\u001B[0m\u001B[2m:\u001B[0m input=Integer(8467056161635465398)\r\n",
      "\u001B[2m2023-07-30T06:16:46.433746Z\u001B[0m \u001B[32m INFO\u001B[0m \u001B[2mtest\u001B[0m\u001B[2m:\u001B[0m input=Comment(\"V@{r?\")\r\n",
      "\u001B[2m2023-07-30T06:16:46.433797Z\u001B[0m \u001B[32m INFO\u001B[0m \u001B[2mtest\u001B[0m\u001B[2m:\u001B[0m input=StringLiteral(\"Mj$I<L\")\r\n",
      "\u001B[2m2023-07-30T06:16:46.433890Z\u001B[0m \u001B[32m INFO\u001B[0m \u001B[2mtest\u001B[0m\u001B[2m:\u001B[0m input=StringLiteral(\"&B'cS{ c\")\r\n",
      "\u001B[2m2023-07-30T06:16:46.433958Z\u001B[0m \u001B[32m INFO\u001B[0m \u001B[2mtest\u001B[0m\u001B[2m:\u001B[0m input=Comment(\"9=%$_&*t\\\">, e/kxuIk\")\r\n",
      "\u001B[2m2023-07-30T06:16:46.434062Z\u001B[0m \u001B[32m INFO\u001B[0m \u001B[2mtest\u001B[0m\u001B[2m:\u001B[0m input=Comment(\"-&gtK!<#*q`2d>==W8v*J-{)GGpV^?-\")\r\n",
      "\u001B[2m2023-07-30T06:16:46.434106Z\u001B[0m \u001B[32m INFO\u001B[0m \u001B[2mtest\u001B[0m\u001B[2m:\u001B[0m input=Integer(-761486425565559512)\r\n",
      "\u001B[2m2023-07-30T06:16:46.434258Z\u001B[0m \u001B[32m INFO\u001B[0m \u001B[2mtest\u001B[0m\u001B[2m:\u001B[0m input=Comment(\"b;*EuX&}A,|Hc3?@;$m\\\\n67`P\\\"\\\"D[b,\")\r\n",
      "\u001B[2m2023-07-30T06:16:46.434355Z\u001B[0m \u001B[32m INFO\u001B[0m \u001B[2mtest\u001B[0m\u001B[2m:\u001B[0m input=Comment(\"nnj#{$P;B=&.!w&+_!{U= ^\")\r\n",
      "\u001B[2m2023-07-30T06:16:46.434443Z\u001B[0m \u001B[32m INFO\u001B[0m \u001B[2mtest\u001B[0m\u001B[2m:\u001B[0m input=StringLiteral(\"?::j=Yu/]'*c//Rz\")\r\n",
      "\u001B[2m2023-07-30T06:16:46.434510Z\u001B[0m \u001B[32m INFO\u001B[0m \u001B[2mtest\u001B[0m\u001B[2m:\u001B[0m input=Identifier(\"OgjYkaLzsafHwT5QJL9Q41\")\r\n",
      "\u001B[2m2023-07-30T06:16:46.434625Z\u001B[0m \u001B[32m INFO\u001B[0m \u001B[2mtest\u001B[0m\u001B[2m:\u001B[0m input=StringLiteral(\"* /9?o*:`oKjv#B%:~O`l:9\")\r\n",
      "\u001B[2m2023-07-30T06:16:46.434679Z\u001B[0m \u001B[32m INFO\u001B[0m \u001B[2mtest\u001B[0m\u001B[2m:\u001B[0m input=StringLiteral(\"%`$_L:L`O|>t\")\r\n",
      "\u001B[2m2023-07-30T06:16:46.434756Z\u001B[0m \u001B[32m INFO\u001B[0m \u001B[2mtest\u001B[0m\u001B[2m:\u001B[0m input=Integer(3309978132872009556)\r\n",
      "\u001B[2m2023-07-30T06:16:46.434798Z\u001B[0m \u001B[32m INFO\u001B[0m \u001B[2mtest\u001B[0m\u001B[2m:\u001B[0m input=Operator(\"-\")\r\n",
      "\u001B[2m2023-07-30T06:16:46.434835Z\u001B[0m \u001B[32m INFO\u001B[0m \u001B[2mtest\u001B[0m\u001B[2m:\u001B[0m input=Integer(-6590646298724995758)\r\n",
      "\u001B[2m2023-07-30T06:16:46.434883Z\u001B[0m \u001B[32m INFO\u001B[0m \u001B[2mtest\u001B[0m\u001B[2m:\u001B[0m input=Comment(\".$Q:b!/E2nK\")\r\n",
      "\u001B[2m2023-07-30T06:16:46.434923Z\u001B[0m \u001B[32m INFO\u001B[0m \u001B[2mtest\u001B[0m\u001B[2m:\u001B[0m input=Comment(\"aE+nc\")\r\n",
      "\u001B[2m2023-07-30T06:16:46.434987Z\u001B[0m \u001B[32m INFO\u001B[0m \u001B[2mtest\u001B[0m\u001B[2m:\u001B[0m input=Comment(\"9\")\r\n",
      "\u001B[2m2023-07-30T06:16:46.435085Z\u001B[0m \u001B[32m INFO\u001B[0m \u001B[2mtest\u001B[0m\u001B[2m:\u001B[0m input=StringLiteral(\"gU'[T0p{..'}t18b%*V_<WMp$z${JU\")\r\n",
      "\u001B[2m2023-07-30T06:16:46.435154Z\u001B[0m \u001B[32m INFO\u001B[0m \u001B[2mtest\u001B[0m\u001B[2m:\u001B[0m input=Operator(\"-\")\r\n",
      "\u001B[2m2023-07-30T06:16:46.435188Z\u001B[0m \u001B[32m INFO\u001B[0m \u001B[2mtest\u001B[0m\u001B[2m:\u001B[0m input=Integer(-7352931410006170727)\r\n",
      "\u001B[2m2023-07-30T06:16:46.435242Z\u001B[0m \u001B[32m INFO\u001B[0m \u001B[2mtest\u001B[0m\u001B[2m:\u001B[0m input=StringLiteral(\"f$'+*@`tK$/*=4D%*JW=*:\")\r\n",
      "\u001B[2m2023-07-30T06:16:46.435326Z\u001B[0m \u001B[32m INFO\u001B[0m \u001B[2mtest\u001B[0m\u001B[2m:\u001B[0m input=Identifier(\"rP9lF7hpXkE8o2uF00Fp526gJ\")\r\n",
      "\u001B[2m2023-07-30T06:16:46.435391Z\u001B[0m \u001B[32m INFO\u001B[0m \u001B[2mtest\u001B[0m\u001B[2m:\u001B[0m input=StringLiteral(\"{>7z&T'@C9M{jQ$}8Nl<) 8)/(E/.\")\r\n",
      "\u001B[2m2023-07-30T06:16:46.435472Z\u001B[0m \u001B[32m INFO\u001B[0m \u001B[2mtest\u001B[0m\u001B[2m:\u001B[0m input=Integer(-6690338037310130523)\r\n",
      "\u001B[2m2023-07-30T06:16:46.435515Z\u001B[0m \u001B[32m INFO\u001B[0m \u001B[2mtest\u001B[0m\u001B[2m:\u001B[0m input=StringLiteral(\"N&uWM?Ht3d\")\r\n",
      "\u001B[2m2023-07-30T06:16:46.435581Z\u001B[0m \u001B[32m INFO\u001B[0m \u001B[2mtest\u001B[0m\u001B[2m:\u001B[0m input=StringLiteral(\"%xx'.q\")\r\n",
      "\u001B[2m2023-07-30T06:16:46.435623Z\u001B[0m \u001B[32m INFO\u001B[0m \u001B[2mtest\u001B[0m\u001B[2m:\u001B[0m input=StringLiteral(\"` NB'mAh%%W\")\r\n",
      "\u001B[2m2023-07-30T06:16:46.435661Z\u001B[0m \u001B[32m INFO\u001B[0m \u001B[2mtest\u001B[0m\u001B[2m:\u001B[0m input=Comment(\"`3\\\"$\")\r\n",
      "\u001B[2m2023-07-30T06:16:46.435720Z\u001B[0m \u001B[32m INFO\u001B[0m \u001B[2mtest\u001B[0m\u001B[2m:\u001B[0m input=Integer(5513677310272726173)\r\n",
      "\u001B[2m2023-07-30T06:16:46.435775Z\u001B[0m \u001B[32m INFO\u001B[0m \u001B[2mtest\u001B[0m\u001B[2m:\u001B[0m input=Comment(\"?G%rd&%@]E5\\\\mA:&$/?o?:_>{w{V\")\r\n",
      "\u001B[2m2023-07-30T06:16:46.435865Z\u001B[0m \u001B[32m INFO\u001B[0m \u001B[2mtest\u001B[0m\u001B[2m:\u001B[0m input=StringLiteral(\"<FEQpE%VgN*S{(`x.hjGU1cKPQL:xa\")\r\n",
      "\u001B[2m2023-07-30T06:16:46.435907Z\u001B[0m \u001B[32m INFO\u001B[0m \u001B[2mtest\u001B[0m\u001B[2m:\u001B[0m input=Operator(\"*\")\r\n",
      "\u001B[2m2023-07-30T06:16:46.435962Z\u001B[0m \u001B[32m INFO\u001B[0m \u001B[2mtest\u001B[0m\u001B[2m:\u001B[0m input=Integer(-397504461770009394)\r\n",
      "\u001B[2m2023-07-30T06:16:46.436035Z\u001B[0m \u001B[32m INFO\u001B[0m \u001B[2mtest\u001B[0m\u001B[2m:\u001B[0m input=StringLiteral(\"%k$?Zt]rS\")\r\n",
      "\u001B[2m2023-07-30T06:16:46.436092Z\u001B[0m \u001B[32m INFO\u001B[0m \u001B[2mtest\u001B[0m\u001B[2m:\u001B[0m input=Integer(-6730742040749970252)\r\n",
      "\u001B[2m2023-07-30T06:16:46.436129Z\u001B[0m \u001B[32m INFO\u001B[0m \u001B[2mtest\u001B[0m\u001B[2m:\u001B[0m input=Comment(\"|r:\\\";n<\")\r\n",
      "\u001B[2m2023-07-30T06:16:46.436183Z\u001B[0m \u001B[32m INFO\u001B[0m \u001B[2mtest\u001B[0m\u001B[2m:\u001B[0m input=Identifier(\"F6U213F61Zc778po4tK0jh88yy\")\r\n",
      "\u001B[2m2023-07-30T06:16:46.436265Z\u001B[0m \u001B[32m INFO\u001B[0m \u001B[2mtest\u001B[0m\u001B[2m:\u001B[0m input=Comment(\"=$x$\\\\' [ H*n*+\\\"u\\\\]\")\r\n",
      "\u001B[2m2023-07-30T06:16:46.436303Z\u001B[0m \u001B[32m INFO\u001B[0m \u001B[2mtest\u001B[0m\u001B[2m:\u001B[0m input=Operator(\"(\")\r\n",
      "\u001B[2m2023-07-30T06:16:46.436360Z\u001B[0m \u001B[32m INFO\u001B[0m \u001B[2mtest\u001B[0m\u001B[2m:\u001B[0m input=Operator(\"+\")\r\n",
      "\u001B[2m2023-07-30T06:16:46.436397Z\u001B[0m \u001B[32m INFO\u001B[0m \u001B[2mtest\u001B[0m\u001B[2m:\u001B[0m input=StringLiteral(\"{`?*\")\r\n",
      "\u001B[2m2023-07-30T06:16:46.436440Z\u001B[0m \u001B[32m INFO\u001B[0m \u001B[2mtest\u001B[0m\u001B[2m:\u001B[0m input=StringLiteral(\"z9q/'=Ovv*\")\r\n",
      "\u001B[2m2023-07-30T06:16:46.436496Z\u001B[0m \u001B[32m INFO\u001B[0m \u001B[2mtest\u001B[0m\u001B[2m:\u001B[0m input=Integer(-6974152465231067595)\r\n",
      "\u001B[2m2023-07-30T06:16:46.436530Z\u001B[0m \u001B[32m INFO\u001B[0m \u001B[2mtest\u001B[0m\u001B[2m:\u001B[0m input=Operator(\"*\")\r\n",
      "\u001B[2m2023-07-30T06:16:46.436568Z\u001B[0m \u001B[32m INFO\u001B[0m \u001B[2mtest\u001B[0m\u001B[2m:\u001B[0m input=Identifier(\"hM5C0\")\r\n",
      "\u001B[2m2023-07-30T06:16:46.436628Z\u001B[0m \u001B[32m INFO\u001B[0m \u001B[2mtest\u001B[0m\u001B[2m:\u001B[0m input=Operator(\"(\")\r\n",
      "\u001B[2m2023-07-30T06:16:46.436661Z\u001B[0m \u001B[32m INFO\u001B[0m \u001B[2mtest\u001B[0m\u001B[2m:\u001B[0m input=Operator(\"*\")\r\n",
      "\u001B[2m2023-07-30T06:16:46.436709Z\u001B[0m \u001B[32m INFO\u001B[0m \u001B[2mtest\u001B[0m\u001B[2m:\u001B[0m input=Identifier(\"Z46jfS0NLjSmBjjoo\")\r\n",
      "\u001B[2m2023-07-30T06:16:46.436768Z\u001B[0m \u001B[32m INFO\u001B[0m \u001B[2mtest\u001B[0m\u001B[2m:\u001B[0m input=StringLiteral(\".8eD)raE%}v*L`:=,ZCR=`Ra]&gi\")\r\n",
      "\u001B[2m2023-07-30T06:16:46.436839Z\u001B[0m \u001B[32m INFO\u001B[0m \u001B[2mtest\u001B[0m\u001B[2m:\u001B[0m input=Identifier(\"MDsBmK\")\r\n",
      "\u001B[2m2023-07-30T06:16:46.436892Z\u001B[0m \u001B[32m INFO\u001B[0m \u001B[2mtest\u001B[0m\u001B[2m:\u001B[0m input=Comment(\"=r+>z}\\\"+-9=+?<?\\\\7z{l_\")\r\n",
      "\u001B[2m2023-07-30T06:16:46.436950Z\u001B[0m \u001B[32m INFO\u001B[0m \u001B[2mtest\u001B[0m\u001B[2m:\u001B[0m input=StringLiteral(\"E6(J`M{Q:=`5s@<@a<7KQw=`\")\r\n",
      "\u001B[2m2023-07-30T06:16:46.437078Z\u001B[0m \u001B[32m INFO\u001B[0m \u001B[2mtest\u001B[0m\u001B[2m:\u001B[0m input=Identifier(\"sQgbjq9Jwk38nzM7TMIy7Y5X5op0\")\r\n",
      "\u001B[2m2023-07-30T06:16:46.437145Z\u001B[0m \u001B[32m INFO\u001B[0m \u001B[2mtest\u001B[0m\u001B[2m:\u001B[0m input=Operator(\"-\")\r\n",
      "\u001B[2m2023-07-30T06:16:46.437210Z\u001B[0m \u001B[32m INFO\u001B[0m \u001B[2mtest\u001B[0m\u001B[2m:\u001B[0m input=StringLiteral(\"=6.RjQD':XC}P`ge:3WD=|Di_4F<eZ\")\r\n",
      "\u001B[2m2023-07-30T06:16:46.437273Z\u001B[0m \u001B[32m INFO\u001B[0m \u001B[2mtest\u001B[0m\u001B[2m:\u001B[0m input=Integer(-6077620245305449808)\r\n",
      "\u001B[2m2023-07-30T06:16:46.437322Z\u001B[0m \u001B[32m INFO\u001B[0m \u001B[2mtest\u001B[0m\u001B[2m:\u001B[0m input=Comment(\"W-q$dcmHX{(;8m'U\")\r\n",
      "\u001B[2m2023-07-30T06:16:46.437379Z\u001B[0m \u001B[32m INFO\u001B[0m \u001B[2mtest\u001B[0m\u001B[2m:\u001B[0m input=Integer(-9086840598110003409)\r\n",
      "\u001B[2m2023-07-30T06:16:46.437415Z\u001B[0m \u001B[32m INFO\u001B[0m \u001B[2mtest\u001B[0m\u001B[2m:\u001B[0m input=Operator(\"(\")\r\n",
      "\u001B[2m2023-07-30T06:16:46.437515Z\u001B[0m \u001B[32m INFO\u001B[0m \u001B[2mtest\u001B[0m\u001B[2m:\u001B[0m input=Operator(\")\")\r\n",
      "\u001B[2m2023-07-30T06:16:46.437548Z\u001B[0m \u001B[32m INFO\u001B[0m \u001B[2mtest\u001B[0m\u001B[2m:\u001B[0m input=Integer(-787369601974652241)\r\n",
      "\u001B[2m2023-07-30T06:16:46.437746Z\u001B[0m \u001B[32m INFO\u001B[0m \u001B[2mtest\u001B[0m\u001B[2m:\u001B[0m input=Comment(\"`J2`&?C'**CJ\")\r\n",
      "\u001B[2m2023-07-30T06:16:46.437847Z\u001B[0m \u001B[32m INFO\u001B[0m \u001B[2mtest\u001B[0m\u001B[2m:\u001B[0m input=Comment(\"ANQb@n/Vsxyld&<UtG)m&&//vKZ``\")\r\n",
      "\u001B[2m2023-07-30T06:16:46.437938Z\u001B[0m \u001B[32m INFO\u001B[0m \u001B[2mtest\u001B[0m\u001B[2m:\u001B[0m input=StringLiteral(\"Y`{'7d=2MUFI/'=Rx(.~^*w*9Q+1\")\r\n",
      "\u001B[2m2023-07-30T06:16:46.438147Z\u001B[0m \u001B[32m INFO\u001B[0m \u001B[2mtest\u001B[0m\u001B[2m:\u001B[0m input=Comment(\"%x/_4$F*K8 &mD&@yI$IR>,4&LAf\")\r\n",
      "\u001B[2m2023-07-30T06:16:46.438239Z\u001B[0m \u001B[32m INFO\u001B[0m \u001B[2mtest\u001B[0m\u001B[2m:\u001B[0m input=Identifier(\"PaBmYuZlDJ2VNxG\")\r\n",
      "\u001B[2m2023-07-30T06:16:46.438331Z\u001B[0m \u001B[32m INFO\u001B[0m \u001B[2mtest\u001B[0m\u001B[2m:\u001B[0m input=StringLiteral(\"'::hiHWy6=X$fF&. xozJ9~5Q<l,!\")\r\n",
      "\u001B[2m2023-07-30T06:16:46.438393Z\u001B[0m \u001B[32m INFO\u001B[0m \u001B[2mtest\u001B[0m\u001B[2m:\u001B[0m input=StringLiteral(\"{y{/Q0&NM%9joq#2jg!2'_;/bOh`\")\r\n",
      "\u001B[2m2023-07-30T06:16:46.438464Z\u001B[0m \u001B[32m INFO\u001B[0m \u001B[2mtest\u001B[0m\u001B[2m:\u001B[0m input=Operator(\"=\")\r\n",
      "\u001B[2m2023-07-30T06:16:46.438499Z\u001B[0m \u001B[32m INFO\u001B[0m \u001B[2mtest\u001B[0m\u001B[2m:\u001B[0m input=Integer(-7247036638915822009)\r\n",
      "\u001B[2m2023-07-30T06:16:46.438576Z\u001B[0m \u001B[32m INFO\u001B[0m \u001B[2mtest\u001B[0m\u001B[2m:\u001B[0m input=StringLiteral(\"e6$?@?G87nE2I_=*<FZ5i\")\r\n",
      "\u001B[2m2023-07-30T06:16:46.438620Z\u001B[0m \u001B[32m INFO\u001B[0m \u001B[2mtest\u001B[0m\u001B[2m:\u001B[0m input=Operator(\"*\")\r\n",
      "\u001B[2m2023-07-30T06:16:46.438676Z\u001B[0m \u001B[32m INFO\u001B[0m \u001B[2mtest\u001B[0m\u001B[2m:\u001B[0m input=Integer(8812957126892570598)\r\n",
      "\u001B[2m2023-07-30T06:16:46.438711Z\u001B[0m \u001B[32m INFO\u001B[0m \u001B[2mtest\u001B[0m\u001B[2m:\u001B[0m input=Identifier(\"JE\")\r\n",
      "\u001B[2m2023-07-30T06:16:46.438751Z\u001B[0m \u001B[32m INFO\u001B[0m \u001B[2mtest\u001B[0m\u001B[2m:\u001B[0m input=Comment(\"F:#6:'p3SK_W6\")\r\n",
      "\u001B[2m2023-07-30T06:16:46.438808Z\u001B[0m \u001B[32m INFO\u001B[0m \u001B[2mtest\u001B[0m\u001B[2m:\u001B[0m input=Integer(4646005300624380421)\r\n",
      "\u001B[2m2023-07-30T06:16:46.438845Z\u001B[0m \u001B[32m INFO\u001B[0m \u001B[2mtest\u001B[0m\u001B[2m:\u001B[0m input=Operator(\"(\")\r\n",
      "\u001B[2m2023-07-30T06:16:46.438887Z\u001B[0m \u001B[32m INFO\u001B[0m \u001B[2mtest\u001B[0m\u001B[2m:\u001B[0m input=StringLiteral(\"ecL:&6W /2[&P\")\r\n",
      "\u001B[2m2023-07-30T06:16:46.438949Z\u001B[0m \u001B[32m INFO\u001B[0m \u001B[2mtest\u001B[0m\u001B[2m:\u001B[0m input=Comment(\"8\")\r\n",
      "\u001B[2m2023-07-30T06:16:46.438997Z\u001B[0m \u001B[32m INFO\u001B[0m \u001B[2mtest\u001B[0m\u001B[2m:\u001B[0m input=Comment(\",|`:xWKNLX9y\\\"@<g~V%:5\")\r\n",
      "\u001B[2m2023-07-30T06:16:46.439060Z\u001B[0m \u001B[32m INFO\u001B[0m \u001B[2mtest\u001B[0m\u001B[2m:\u001B[0m input=Operator(\"=\")\r\n",
      "\u001B[2m2023-07-30T06:16:46.439163Z\u001B[0m \u001B[32m INFO\u001B[0m \u001B[2mtest\u001B[0m\u001B[2m:\u001B[0m input=StringLiteral(\",~m%p7E/')\")\r\n",
      "\u001B[2m2023-07-30T06:16:46.439221Z\u001B[0m \u001B[32m INFO\u001B[0m \u001B[2mtest\u001B[0m\u001B[2m:\u001B[0m input=Comment(\"%rH.u<1\\\\vjo`k\\\\=g;**l\\\"m):`'/:\")\r\n",
      "\u001B[2m2023-07-30T06:16:46.439267Z\u001B[0m \u001B[32m INFO\u001B[0m \u001B[2mtest\u001B[0m\u001B[2m:\u001B[0m input=Identifier(\"Gp\")\r\n",
      "\u001B[2m2023-07-30T06:16:46.439301Z\u001B[0m \u001B[32m INFO\u001B[0m \u001B[2mtest\u001B[0m\u001B[2m:\u001B[0m input=Integer(7896794135884828734)\r\n",
      "\u001B[2m2023-07-30T06:16:46.439359Z\u001B[0m \u001B[32m INFO\u001B[0m \u001B[2mtest\u001B[0m\u001B[2m:\u001B[0m input=Operator(\"*\")\r\n",
      "\u001B[2m2023-07-30T06:16:46.439394Z\u001B[0m \u001B[32m INFO\u001B[0m \u001B[2mtest\u001B[0m\u001B[2m:\u001B[0m input=Operator(\")\")\r\n",
      "\u001B[2m2023-07-30T06:16:46.439453Z\u001B[0m \u001B[32m INFO\u001B[0m \u001B[2mtest\u001B[0m\u001B[2m:\u001B[0m input=StringLiteral(\"|%^&$<%hHCe<L5(%%.:VVvk2._Gx{(x{\")\r\n",
      "\u001B[2m2023-07-30T06:16:46.439516Z\u001B[0m \u001B[32m INFO\u001B[0m \u001B[2mtest\u001B[0m\u001B[2m:\u001B[0m input=Integer(-985561721777663090)\r\n",
      "\u001B[2m2023-07-30T06:16:46.439568Z\u001B[0m \u001B[32m INFO\u001B[0m \u001B[2mtest\u001B[0m\u001B[2m:\u001B[0m input=StringLiteral(\"J;?lXYwuv|U9dM`mtyW\")\r\n",
      "\u001B[2m2023-07-30T06:16:46.439641Z\u001B[0m \u001B[32m INFO\u001B[0m \u001B[2mtest\u001B[0m\u001B[2m:\u001B[0m input=Comment(\";#U\")\r\n",
      "\u001B[2m2023-07-30T06:16:46.439694Z\u001B[0m \u001B[32m INFO\u001B[0m \u001B[2mtest\u001B[0m\u001B[2m:\u001B[0m input=StringLiteral(\"Y[?[^^{br.NLG9?RX7d:<{X:&`!\")\r\n",
      "\u001B[2m2023-07-30T06:16:46.439762Z\u001B[0m \u001B[32m INFO\u001B[0m \u001B[2mtest\u001B[0m\u001B[2m:\u001B[0m input=Identifier(\"SK\")\r\n",
      "\u001B[2m2023-07-30T06:16:46.439797Z\u001B[0m \u001B[32m INFO\u001B[0m \u001B[2mtest\u001B[0m\u001B[2m:\u001B[0m input=Comment(\"#\")\r\n",
      "\u001B[2m2023-07-30T06:16:46.439885Z\u001B[0m \u001B[32m INFO\u001B[0m \u001B[2mtest\u001B[0m\u001B[2m:\u001B[0m input=Integer(972743596982351876)\r\n",
      "\u001B[2m2023-07-30T06:16:46.439975Z\u001B[0m \u001B[32m INFO\u001B[0m \u001B[2mtest\u001B[0m\u001B[2m:\u001B[0m input=Operator(\")\")\r\n",
      "\u001B[2m2023-07-30T06:16:46.440058Z\u001B[0m \u001B[32m INFO\u001B[0m \u001B[2mtest\u001B[0m\u001B[2m:\u001B[0m input=Identifier(\"v9jEf4gb6nuym3ACqAHUiA\")\r\n",
      "\u001B[2m2023-07-30T06:16:46.440149Z\u001B[0m \u001B[32m INFO\u001B[0m \u001B[2mtest\u001B[0m\u001B[2m:\u001B[0m input=Comment(\"b?lR{8\\\\x=$#`qUX&==/Gr\\\\|/>)\\\"$\")\r\n",
      "\u001B[2m2023-07-30T06:16:46.440214Z\u001B[0m \u001B[32m INFO\u001B[0m \u001B[2mtest\u001B[0m\u001B[2m:\u001B[0m input=Integer(2822772695091486327)\r\n",
      "\u001B[2m2023-07-30T06:16:46.440244Z\u001B[0m \u001B[32m INFO\u001B[0m \u001B[2mtest\u001B[0m\u001B[2m:\u001B[0m input=Integer(4658918607826254908)\r\n",
      "\u001B[2m2023-07-30T06:16:46.440325Z\u001B[0m \u001B[32m INFO\u001B[0m \u001B[2mtest\u001B[0m\u001B[2m:\u001B[0m input=Identifier(\"hXNY8O8W9pMH87q7440pEWzC\")\r\n",
      "\u001B[2m2023-07-30T06:16:46.440383Z\u001B[0m \u001B[32m INFO\u001B[0m \u001B[2mtest\u001B[0m\u001B[2m:\u001B[0m input=Comment(\"4X:`):+I^*<%F\\\\xQzeSi&.2V`B33]\")\r\n",
      "\u001B[2m2023-07-30T06:16:46.440443Z\u001B[0m \u001B[32m INFO\u001B[0m \u001B[2mtest\u001B[0m\u001B[2m:\u001B[0m input=Integer(-4708433733416293412)\r\n",
      "\u001B[2m2023-07-30T06:16:46.440475Z\u001B[0m \u001B[32m INFO\u001B[0m \u001B[2mtest\u001B[0m\u001B[2m:\u001B[0m input=Operator(\"+\")\r\n",
      "\u001B[2m2023-07-30T06:16:46.440507Z\u001B[0m \u001B[32m INFO\u001B[0m \u001B[2mtest\u001B[0m\u001B[2m:\u001B[0m input=Operator(\"+\")\r\n",
      "\u001B[2m2023-07-30T06:16:46.440578Z\u001B[0m \u001B[32m INFO\u001B[0m \u001B[2mtest\u001B[0m\u001B[2m:\u001B[0m input=StringLiteral(\"Q<{<?OXC-/%Y&$%.;Oe#<.0\")\r\n",
      "\u001B[2m2023-07-30T06:16:46.440626Z\u001B[0m \u001B[32m INFO\u001B[0m \u001B[2mtest\u001B[0m\u001B[2m:\u001B[0m input=StringLiteral(\" .<1?j]2>.\")\r\n",
      "\u001B[2m2023-07-30T06:16:46.440688Z\u001B[0m \u001B[32m INFO\u001B[0m \u001B[2mtest\u001B[0m\u001B[2m:\u001B[0m input=Integer(-7597328401232283462)\r\n",
      "\u001B[2m2023-07-30T06:16:46.440727Z\u001B[0m \u001B[32m INFO\u001B[0m \u001B[2mtest\u001B[0m\u001B[2m:\u001B[0m input=StringLiteral(\"Zh|Y`Ry'5\")\r\n",
      "\u001B[2m2023-07-30T06:16:46.440773Z\u001B[0m \u001B[32m INFO\u001B[0m \u001B[2mtest\u001B[0m\u001B[2m:\u001B[0m input=Comment(\"u=P.f+l=\")\r\n",
      "\u001B[2m2023-07-30T06:16:46.440851Z\u001B[0m \u001B[32m INFO\u001B[0m \u001B[2mtest\u001B[0m\u001B[2m:\u001B[0m input=Identifier(\"VWq1RDLVx9kKC1HUeg4hYF4L\")\r\n",
      "\u001B[2m2023-07-30T06:16:46.440912Z\u001B[0m \u001B[32m INFO\u001B[0m \u001B[2mtest\u001B[0m\u001B[2m:\u001B[0m input=Comment(\"J~%/%3&%QMfH{~`rGo$C6p\\\\?\\\"S\\\\uO\")\r\n",
      "\u001B[2m2023-07-30T06:16:46.440998Z\u001B[0m \u001B[32m INFO\u001B[0m \u001B[2mtest\u001B[0m\u001B[2m:\u001B[0m input=Comment(\"-(%VohB.Zm*TcI5%*`=&+L'}d&%\\\\#?l\")\r\n",
      "\u001B[2m2023-07-30T06:16:46.441053Z\u001B[0m \u001B[32m INFO\u001B[0m \u001B[2mtest\u001B[0m\u001B[2m:\u001B[0m input=StringLiteral(\"J[sw*<J<pRNL_Z(X66?%h>o\")\r\n",
      "\u001B[2m2023-07-30T06:16:46.441156Z\u001B[0m \u001B[32m INFO\u001B[0m \u001B[2mtest\u001B[0m\u001B[2m:\u001B[0m input=Operator(\"+\")\r\n",
      "\u001B[2m2023-07-30T06:16:46.441188Z\u001B[0m \u001B[32m INFO\u001B[0m \u001B[2mtest\u001B[0m\u001B[2m:\u001B[0m input=Integer(4309594441650551510)\r\n",
      "\u001B[2m2023-07-30T06:16:46.441247Z\u001B[0m \u001B[32m INFO\u001B[0m \u001B[2mtest\u001B[0m\u001B[2m:\u001B[0m input=Comment(\"`:#[:n\")\r\n",
      "\u001B[2m2023-07-30T06:16:46.441292Z\u001B[0m \u001B[32m INFO\u001B[0m \u001B[2mtest\u001B[0m\u001B[2m:\u001B[0m input=Comment(\"$|UD$:Z'{jE\")\r\n",
      "\u001B[2m2023-07-30T06:16:46.441325Z\u001B[0m \u001B[32m INFO\u001B[0m \u001B[2mtest\u001B[0m\u001B[2m:\u001B[0m input=Operator(\"*\")\r\n",
      "\u001B[2m2023-07-30T06:16:46.441388Z\u001B[0m \u001B[32m INFO\u001B[0m \u001B[2mtest\u001B[0m\u001B[2m:\u001B[0m input=Comment(\"UU4 'e?={V{\")\r\n",
      "\u001B[2m2023-07-30T06:16:46.441420Z\u001B[0m \u001B[32m INFO\u001B[0m \u001B[2mtest\u001B[0m\u001B[2m:\u001B[0m input=Integer(-7948149853350456650)\r\n",
      "\u001B[2m2023-07-30T06:16:46.441450Z\u001B[0m \u001B[32m INFO\u001B[0m \u001B[2mtest\u001B[0m\u001B[2m:\u001B[0m input=Integer(-476182301455714728)\r\n",
      "\u001B[2m2023-07-30T06:16:46.441520Z\u001B[0m \u001B[32m INFO\u001B[0m \u001B[2mtest\u001B[0m\u001B[2m:\u001B[0m input=Comment(\"Z\\\\Z=nX<r/;[BXh9f%LohPQ\")\r\n",
      "\u001B[2m2023-07-30T06:16:46.441559Z\u001B[0m \u001B[32m INFO\u001B[0m \u001B[2mtest\u001B[0m\u001B[2m:\u001B[0m input=Operator(\")\")\r\n",
      "\u001B[2m2023-07-30T06:16:46.441626Z\u001B[0m \u001B[32m INFO\u001B[0m \u001B[2mtest\u001B[0m\u001B[2m:\u001B[0m input=StringLiteral(\"LXaq/&(/h<C~\")\r\n",
      "\u001B[2m2023-07-30T06:16:46.441664Z\u001B[0m \u001B[32m INFO\u001B[0m \u001B[2mtest\u001B[0m\u001B[2m:\u001B[0m input=Operator(\"/\")\r\n",
      "\u001B[2m2023-07-30T06:16:46.441719Z\u001B[0m \u001B[32m INFO\u001B[0m \u001B[2mtest\u001B[0m\u001B[2m:\u001B[0m input=Comment(\")/V&ihDSJ:'?|89/-`=ls$e&')qY\")\r\n",
      "\u001B[2m2023-07-30T06:16:46.441790Z\u001B[0m \u001B[32m INFO\u001B[0m \u001B[2mtest\u001B[0m\u001B[2m:\u001B[0m input=Comment(\"uf6i%Q&Si=0*Ni.\")\r\n",
      "\u001B[2m2023-07-30T06:16:46.441848Z\u001B[0m \u001B[32m INFO\u001B[0m \u001B[2mtest\u001B[0m\u001B[2m:\u001B[0m input=StringLiteral(\"-|6s'(TN#<'1cb/\")\r\n",
      "\u001B[2m2023-07-30T06:16:46.441908Z\u001B[0m \u001B[32m INFO\u001B[0m \u001B[2mtest\u001B[0m\u001B[2m:\u001B[0m input=Integer(89003012273811691)\r\n",
      "\u001B[2m2023-07-30T06:16:46.441937Z\u001B[0m \u001B[32m INFO\u001B[0m \u001B[2mtest\u001B[0m\u001B[2m:\u001B[0m input=Integer(-8051303648060559073)\r\n",
      "\u001B[2m2023-07-30T06:16:46.441966Z\u001B[0m \u001B[32m INFO\u001B[0m \u001B[2mtest\u001B[0m\u001B[2m:\u001B[0m input=Integer(2800999018222221068)\r\n",
      "\u001B[2m2023-07-30T06:16:46.442024Z\u001B[0m \u001B[32m INFO\u001B[0m \u001B[2mtest\u001B[0m\u001B[2m:\u001B[0m input=Operator(\"*\")\r\n",
      "\u001B[2m2023-07-30T06:16:46.442101Z\u001B[0m \u001B[32m INFO\u001B[0m \u001B[2mtest\u001B[0m\u001B[2m:\u001B[0m input=Comment(\"/\\\\{N/j~4'a\\\\*\\\\J{\")\r\n",
      "\u001B[2m2023-07-30T06:16:46.442162Z\u001B[0m \u001B[32m INFO\u001B[0m \u001B[2mtest\u001B[0m\u001B[2m:\u001B[0m input=Integer(7644733881839094021)\r\n",
      "\u001B[2m2023-07-30T06:16:46.442190Z\u001B[0m \u001B[32m INFO\u001B[0m \u001B[2mtest\u001B[0m\u001B[2m:\u001B[0m input=Integer(1127551580645836389)\r\n",
      "\u001B[2m2023-07-30T06:16:46.442276Z\u001B[0m \u001B[32m INFO\u001B[0m \u001B[2mtest\u001B[0m\u001B[2m:\u001B[0m input=Integer(273379792968819128)\r\n",
      "\u001B[2m2023-07-30T06:16:46.442377Z\u001B[0m \u001B[32m INFO\u001B[0m \u001B[2mtest\u001B[0m\u001B[2m:\u001B[0m input=Identifier(\"voJ49AFxpl\")\r\n",
      "\u001B[2m2023-07-30T06:16:46.442460Z\u001B[0m \u001B[32m INFO\u001B[0m \u001B[2mtest\u001B[0m\u001B[2m:\u001B[0m input=StringLiteral(\"b0=N&63/+=&& Bzg<*?\")\r\n",
      "\u001B[2m2023-07-30T06:16:46.442509Z\u001B[0m \u001B[32m INFO\u001B[0m \u001B[2mtest\u001B[0m\u001B[2m:\u001B[0m input=StringLiteral(\"WoI^|:)\")\r\n",
      "\u001B[2m2023-07-30T06:16:46.442585Z\u001B[0m \u001B[32m INFO\u001B[0m \u001B[2mtest\u001B[0m\u001B[2m:\u001B[0m input=Identifier(\"CzI1ZBlE7irJwNugsac7\")\r\n",
      "\u001B[2m2023-07-30T06:16:46.442647Z\u001B[0m \u001B[32m INFO\u001B[0m \u001B[2mtest\u001B[0m\u001B[2m:\u001B[0m input=Identifier(\"S0AwTH57a9RHJJoi4aZ3S1WY0f5ygUQ4L\")\r\n",
      "\u001B[2m2023-07-30T06:16:46.442739Z\u001B[0m \u001B[32m INFO\u001B[0m \u001B[2mtest\u001B[0m\u001B[2m:\u001B[0m input=Identifier(\"Efk1k0B6q6N7BT0EnT3rUwCrRLl89M\")\r\n",
      "\u001B[2m2023-07-30T06:16:46.442939Z\u001B[0m \u001B[32m INFO\u001B[0m \u001B[2mtest\u001B[0m\u001B[2m:\u001B[0m input=Operator(\"*\")\r\n",
      "\u001B[2m2023-07-30T06:16:46.443035Z\u001B[0m \u001B[32m INFO\u001B[0m \u001B[2mtest\u001B[0m\u001B[2m:\u001B[0m input=Integer(-1671632163003437745)\r\n",
      "\u001B[2m2023-07-30T06:16:46.443096Z\u001B[0m \u001B[32m INFO\u001B[0m \u001B[2mtest\u001B[0m\u001B[2m:\u001B[0m input=Operator(\"/\")\r\n",
      "\u001B[2m2023-07-30T06:16:46.443142Z\u001B[0m \u001B[32m INFO\u001B[0m \u001B[2mtest\u001B[0m\u001B[2m:\u001B[0m input=Comment(\"e=r=%e.cDE0\")\r\n",
      "\u001B[2m2023-07-30T06:16:46.443270Z\u001B[0m \u001B[32m INFO\u001B[0m \u001B[2mtest\u001B[0m\u001B[2m:\u001B[0m input=Identifier(\"FveuXW0l2tdAsKZ6jr2NxR0694RB2y5\")\r\n",
      "\u001B[2m2023-07-30T06:16:46.443336Z\u001B[0m \u001B[32m INFO\u001B[0m \u001B[2mtest\u001B[0m\u001B[2m:\u001B[0m input=Operator(\"/\")\r\n",
      "\u001B[2m2023-07-30T06:16:46.443373Z\u001B[0m \u001B[32m INFO\u001B[0m \u001B[2mtest\u001B[0m\u001B[2m:\u001B[0m input=Operator(\"/\")\r\n",
      "\u001B[2m2023-07-30T06:16:46.443413Z\u001B[0m \u001B[32m INFO\u001B[0m \u001B[2mtest\u001B[0m\u001B[2m:\u001B[0m input=StringLiteral(\".$_g`\")\r\n",
      "\u001B[2m2023-07-30T06:16:46.443487Z\u001B[0m \u001B[32m INFO\u001B[0m \u001B[2mtest\u001B[0m\u001B[2m:\u001B[0m input=Comment(\"},.F?d36\\\"F\")\r\n",
      "\u001B[2m2023-07-30T06:16:46.443546Z\u001B[0m \u001B[32m INFO\u001B[0m \u001B[2mtest\u001B[0m\u001B[2m:\u001B[0m input=Comment(\"&%mXV\\\"SwZ'mgP{$qsOR(<%$*d`\\\\L\")\r\n",
      "\u001B[2m2023-07-30T06:16:46.443591Z\u001B[0m \u001B[32m INFO\u001B[0m \u001B[2mtest\u001B[0m\u001B[2m:\u001B[0m input=Operator(\"(\")\r\n",
      "\u001B[2m2023-07-30T06:16:46.443679Z\u001B[0m \u001B[32m INFO\u001B[0m \u001B[2mtest\u001B[0m\u001B[2m:\u001B[0m input=StringLiteral(\"_<<64=\")\r\n",
      "\u001B[2m2023-07-30T06:16:46.443745Z\u001B[0m \u001B[32m INFO\u001B[0m \u001B[2mtest\u001B[0m\u001B[2m:\u001B[0m input=Identifier(\"x4y7ka4qkXnzEAx1jRyR8i8E3\")\r\n",
      "\u001B[2m2023-07-30T06:16:46.443805Z\u001B[0m \u001B[32m INFO\u001B[0m \u001B[2mtest\u001B[0m\u001B[2m:\u001B[0m input=StringLiteral(\"#1<]?*.<.<:dkQ^|As<vQ\")\r\n",
      "\u001B[2m2023-07-30T06:16:46.443874Z\u001B[0m \u001B[32m INFO\u001B[0m \u001B[2mtest\u001B[0m\u001B[2m:\u001B[0m input=Integer(-4031397238704995626)\r\n",
      "\u001B[2m2023-07-30T06:16:46.443945Z\u001B[0m \u001B[32m INFO\u001B[0m \u001B[2mtest\u001B[0m\u001B[2m:\u001B[0m input=StringLiteral(\"k :F>Q6\")\r\n",
      "\u001B[2m2023-07-30T06:16:46.443983Z\u001B[0m \u001B[32m INFO\u001B[0m \u001B[2mtest\u001B[0m\u001B[2m:\u001B[0m input=Integer(5379306168685159579)\r\n",
      "\u001B[2m2023-07-30T06:16:46.444013Z\u001B[0m \u001B[32m INFO\u001B[0m \u001B[2mtest\u001B[0m\u001B[2m:\u001B[0m input=Integer(8734739522770725514)\r\n",
      "\u001B[2m2023-07-30T06:16:46.444072Z\u001B[0m \u001B[32m INFO\u001B[0m \u001B[2mtest\u001B[0m\u001B[2m:\u001B[0m input=Operator(\"+\")\r\n",
      "\u001B[2m2023-07-30T06:16:46.444136Z\u001B[0m \u001B[32m INFO\u001B[0m \u001B[2mtest\u001B[0m\u001B[2m:\u001B[0m input=Identifier(\"ozD7Ieydzs2XG3285rXDOGO8P4gs7\")\r\n",
      "\u001B[2m2023-07-30T06:16:46.444251Z\u001B[0m \u001B[32m INFO\u001B[0m \u001B[2mtest\u001B[0m\u001B[2m:\u001B[0m input=Comment(\"\\\\`/\\\\)&*QcYU%.kO{xW</:W\")\r\n",
      "\u001B[2m2023-07-30T06:16:46.444322Z\u001B[0m \u001B[32m INFO\u001B[0m \u001B[2mtest\u001B[0m\u001B[2m:\u001B[0m input=Identifier(\"YaGK6QVE\")\r\n",
      "\u001B[2m2023-07-30T06:16:46.444356Z\u001B[0m \u001B[32m INFO\u001B[0m \u001B[2mtest\u001B[0m\u001B[2m:\u001B[0m input=Operator(\"+\")\r\n",
      "\u001B[2m2023-07-30T06:16:46.444407Z\u001B[0m \u001B[32m INFO\u001B[0m \u001B[2mtest\u001B[0m\u001B[2m:\u001B[0m input=Identifier(\"S53WdydmuUA596M7x8u\")\r\n",
      "\u001B[2m2023-07-30T06:16:46.444487Z\u001B[0m \u001B[32m INFO\u001B[0m \u001B[2mtest\u001B[0m\u001B[2m:\u001B[0m input=StringLiteral(\"$&s#]%&bB/&{ZZ!f`~sjXc`j`zc'//\")\r\n",
      "\u001B[2m2023-07-30T06:16:46.444533Z\u001B[0m \u001B[32m INFO\u001B[0m \u001B[2mtest\u001B[0m\u001B[2m:\u001B[0m input=Operator(\"(\")\r\n",
      "\u001B[2m2023-07-30T06:16:46.444592Z\u001B[0m \u001B[32m INFO\u001B[0m \u001B[2mtest\u001B[0m\u001B[2m:\u001B[0m input=Operator(\"-\")\r\n",
      "\u001B[2m2023-07-30T06:16:46.444672Z\u001B[0m \u001B[32m INFO\u001B[0m \u001B[2mtest\u001B[0m\u001B[2m:\u001B[0m input=Comment(\"W\\\\z%o'.J&\\\")SDp.y<`/^T.K\")\r\n",
      "\u001B[2m2023-07-30T06:16:46.444738Z\u001B[0m \u001B[32m INFO\u001B[0m \u001B[2mtest\u001B[0m\u001B[2m:\u001B[0m input=Operator(\"*\")\r\n",
      "\u001B[2m2023-07-30T06:16:46.444773Z\u001B[0m \u001B[32m INFO\u001B[0m \u001B[2mtest\u001B[0m\u001B[2m:\u001B[0m input=Operator(\"*\")\r\n",
      "\u001B[2m2023-07-30T06:16:46.444805Z\u001B[0m \u001B[32m INFO\u001B[0m \u001B[2mtest\u001B[0m\u001B[2m:\u001B[0m input=Operator(\"-\")\r\n",
      "\u001B[2m2023-07-30T06:16:46.444870Z\u001B[0m \u001B[32m INFO\u001B[0m \u001B[2mtest\u001B[0m\u001B[2m:\u001B[0m input=Comment(\"8|O-et'SyJtWr \")\r\n",
      "\u001B[2m2023-07-30T06:16:46.444936Z\u001B[0m \u001B[32m INFO\u001B[0m \u001B[2mtest\u001B[0m\u001B[2m:\u001B[0m input=Identifier(\"J72W90NBz8bewc5wZt1IB5Ocat45N\")\r\n",
      "\u001B[2m2023-07-30T06:16:46.444980Z\u001B[0m \u001B[32m INFO\u001B[0m \u001B[2mtest\u001B[0m\u001B[2m:\u001B[0m input=StringLiteral(\"NTc:&WJ\")\r\n",
      "\u001B[2m2023-07-30T06:16:46.445034Z\u001B[0m \u001B[32m INFO\u001B[0m \u001B[2mtest\u001B[0m\u001B[2m:\u001B[0m input=Comment(\"=\\\"8?|`^FMG.&;]<|l$\")\r\n",
      "\u001B[2m2023-07-30T06:16:46.445122Z\u001B[0m \u001B[32m INFO\u001B[0m \u001B[2mtest\u001B[0m\u001B[2m:\u001B[0m input=Identifier(\"b3wurI2P12x92jcV8KXqLgjhl93sz\")\r\n",
      "\u001B[2m2023-07-30T06:16:46.445169Z\u001B[0m \u001B[32m INFO\u001B[0m \u001B[2mtest\u001B[0m\u001B[2m:\u001B[0m input=Identifier(\"JBuASVPh718U2B\")\r\n",
      "\u001B[2m2023-07-30T06:16:46.445349Z\u001B[0m \u001B[32m INFO\u001B[0m \u001B[2mtest\u001B[0m\u001B[2m:\u001B[0m input=StringLiteral(\":`z``[.m}\")\r\n",
      "\u001B[2m2023-07-30T06:16:46.445426Z\u001B[0m \u001B[32m INFO\u001B[0m \u001B[2mtest\u001B[0m\u001B[2m:\u001B[0m input=StringLiteral(\"rs$D|mASL.@xWj\")\r\n",
      "\u001B[2m2023-07-30T06:16:46.445465Z\u001B[0m \u001B[32m INFO\u001B[0m \u001B[2mtest\u001B[0m\u001B[2m:\u001B[0m input=StringLiteral(\"LE11<^4J)&9]:zYTNAX&\")\r\n",
      "\u001B[2m2023-07-30T06:16:46.445508Z\u001B[0m \u001B[32m INFO\u001B[0m \u001B[2mtest\u001B[0m\u001B[2m:\u001B[0m input=Comment(\"a+%-$6dg`|E\\\"%-.zuo=2//|{H)\")\r\n",
      "\u001B[2m2023-07-30T06:16:46.445564Z\u001B[0m \u001B[32m INFO\u001B[0m \u001B[2mtest\u001B[0m\u001B[2m:\u001B[0m input=Identifier(\"KIbYmKSu12eE7IdPETT62VGsB\")\r\n",
      "\u001B[2m2023-07-30T06:16:46.445596Z\u001B[0m \u001B[32m INFO\u001B[0m \u001B[2mtest\u001B[0m\u001B[2m:\u001B[0m input=Operator(\"/\")\r\n",
      "\u001B[2m2023-07-30T06:16:46.445620Z\u001B[0m \u001B[32m INFO\u001B[0m \u001B[2mtest\u001B[0m\u001B[2m:\u001B[0m input=Integer(-2314841048739251682)\r\n",
      "\u001B[2m2023-07-30T06:16:46.445646Z\u001B[0m \u001B[32m INFO\u001B[0m \u001B[2mtest\u001B[0m\u001B[2m:\u001B[0m input=Operator(\")\")\r\n",
      "\u001B[2m2023-07-30T06:16:46.445673Z\u001B[0m \u001B[32m INFO\u001B[0m \u001B[2mtest\u001B[0m\u001B[2m:\u001B[0m input=Operator(\"(\")\r\n",
      "\u001B[2m2023-07-30T06:16:46.445721Z\u001B[0m \u001B[32m INFO\u001B[0m \u001B[2mtest\u001B[0m\u001B[2m:\u001B[0m input=Integer(-2635281667144660975)\r\n",
      "\u001B[2m2023-07-30T06:16:46.445768Z\u001B[0m \u001B[32m INFO\u001B[0m \u001B[2mtest\u001B[0m\u001B[2m:\u001B[0m input=Identifier(\"C1\")\r\n",
      "\u001B[2m2023-07-30T06:16:46.445812Z\u001B[0m \u001B[32m INFO\u001B[0m \u001B[2mtest\u001B[0m\u001B[2m:\u001B[0m input=Operator(\"=\")\r\n",
      "\u001B[2m2023-07-30T06:16:46.445881Z\u001B[0m \u001B[32m INFO\u001B[0m \u001B[2mtest\u001B[0m\u001B[2m:\u001B[0m input=Identifier(\"L6HRNMdJ97PP5PMd31Ux\")\r\n",
      "\u001B[2m2023-07-30T06:16:46.445922Z\u001B[0m \u001B[32m INFO\u001B[0m \u001B[2mtest\u001B[0m\u001B[2m:\u001B[0m input=Identifier(\"cMyb4Fxp340424lbUo39qT8a\")\r\n",
      "\u001B[2m2023-07-30T06:16:46.445960Z\u001B[0m \u001B[32m INFO\u001B[0m \u001B[2mtest\u001B[0m\u001B[2m:\u001B[0m input=Identifier(\"kyMOr18a4BQK3jHPvRG\")\r\n",
      "\u001B[2m2023-07-30T06:16:46.446001Z\u001B[0m \u001B[32m INFO\u001B[0m \u001B[2mtest\u001B[0m\u001B[2m:\u001B[0m input=Integer(-718961327642758242)\r\n",
      "\u001B[2m2023-07-30T06:16:46.446025Z\u001B[0m \u001B[32m INFO\u001B[0m \u001B[2mtest\u001B[0m\u001B[2m:\u001B[0m input=Integer(-4863485490421568565)\r\n",
      "\u001B[2m2023-07-30T06:16:46.446059Z\u001B[0m \u001B[32m INFO\u001B[0m \u001B[2mtest\u001B[0m\u001B[2m:\u001B[0m input=Comment(\"/T\\\\X-z0Ay(\\\\)*=+w/OM-\\\\\\\\\\\\'\")\r\n",
      "\u001B[2m2023-07-30T06:16:46.446085Z\u001B[0m \u001B[32m INFO\u001B[0m \u001B[2mtest\u001B[0m\u001B[2m:\u001B[0m input=Integer(8414422164701813650)\r\n",
      "\u001B[2m2023-07-30T06:16:46.446122Z\u001B[0m \u001B[32m INFO\u001B[0m \u001B[2mtest\u001B[0m\u001B[2m:\u001B[0m input=Integer(-8280173918870084967)\r\n",
      "\u001B[2m2023-07-30T06:16:46.446165Z\u001B[0m \u001B[32m INFO\u001B[0m \u001B[2mtest\u001B[0m\u001B[2m:\u001B[0m input=StringLiteral(\"$)&/6=Z$?=VI&%`|Ojt}p'G=W%^C\")\r\n",
      "\u001B[2m2023-07-30T06:16:46.446193Z\u001B[0m \u001B[32m INFO\u001B[0m \u001B[2mtest\u001B[0m\u001B[2m:\u001B[0m input=Integer(621607666630794126)\r\n",
      "\u001B[2m2023-07-30T06:16:46.446242Z\u001B[0m \u001B[32m INFO\u001B[0m \u001B[2mtest\u001B[0m\u001B[2m:\u001B[0m input=Operator(\"-\")\r\n",
      "\u001B[2m2023-07-30T06:16:46.446314Z\u001B[0m \u001B[32m INFO\u001B[0m \u001B[2mtest\u001B[0m\u001B[2m:\u001B[0m input=StringLiteral(\"dd2}r/*`.+iz<u_&/Ky:$\")\r\n",
      "\u001B[2m2023-07-30T06:16:46.446375Z\u001B[0m \u001B[32m INFO\u001B[0m \u001B[2mtest\u001B[0m\u001B[2m:\u001B[0m input=Identifier(\"cJYj24P2cp6DUgP\")\r\n",
      "\u001B[2m2023-07-30T06:16:46.446443Z\u001B[0m \u001B[32m INFO\u001B[0m \u001B[2mtest\u001B[0m\u001B[2m:\u001B[0m input=Integer(-6182337678844258985)\r\n",
      "\u001B[2m2023-07-30T06:16:46.446493Z\u001B[0m \u001B[32m INFO\u001B[0m \u001B[2mtest\u001B[0m\u001B[2m:\u001B[0m input=Operator(\"(\")\r\n",
      "\u001B[2m2023-07-30T06:16:46.446548Z\u001B[0m \u001B[32m INFO\u001B[0m \u001B[2mtest\u001B[0m\u001B[2m:\u001B[0m input=Comment(\"Z2U`mO:q=#j&+5Zh:\")\r\n",
      "test prop_parse_format_idempotent ... ok\r\n",
      "test adding_and_then_removing_an_item_from_the_cart_leaves_the_cart_unchanged ... ok\r\n",
      "\r\n",
      "test result: ok. 3 passed; 0 failed; 0 ignored; 0 measured; 0 filtered out; finished in 0.16s\r\n",
      "\r\n"
     ]
    }
   ],
   "source": [
    "$env:RUST_LOG=\"info\"\n",
    "{ cargo test --release | Tee-Object test.test.ans } | Invoke-Block"
   ]
  },
  {
   "cell_type": "code",
   "execution_count": null,
   "metadata": {
    "dotnet_interactive": {
     "language": "pwsh"
    },
    "polyglot_notebook": {
     "kernelName": "pwsh"
    }
   },
   "outputs": [
    {
     "name": "stdout",
     "output_type": "stream",
     "text": [
      "app=test\r\n"
     ]
    }
   ],
   "source": [
    "{ . \"$ScriptDir/../../target/release/test$(if ($IsWindows) { '.exe' } else { '' })\" | Tee-Object test.out } | Invoke-Block"
   ]
  }
 ],
 "metadata": {
  "kernelspec": {
   "display_name": ".NET (C#)",
   "language": "C#",
   "name": ".net-csharp"
  },
  "language_info": {
   "file_extension": ".cs",
   "mimetype": "text/x-csharp",
   "name": "C#",
   "pygments_lexer": "csharp",
   "version": "10.0"
  },
  "polyglot_notebook": {
   "defaultKernelName": "csharp",
   "items": [
    {
     "name": "csharp"
    }
   ]
  },
  "dotnet_interactive": {
   "defaultKernelName": "csharp",
   "items": [
    {
     "name": "csharp"
    }
   ]
  }
 },
 "nbformat": 4,
 "nbformat_minor": 5
}