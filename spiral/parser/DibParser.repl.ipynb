{
 "cells": [
  {
   "cell_type": "code",
   "execution_count": null,
   "metadata": {
    "dotnet_repl_cellExecutionStartTime": "2023-07-04T20:14:28.7946725-03:00",
    "dotnet_repl_cellExecutionEndTime": "2023-07-04T20:14:43.9874274-03:00",
    "dotnet_interactive": {
     "language": "fsharp"
    },
    "polyglot_notebook": {
     "kernelName": "fsharp"
    }
   },
   "outputs": [
    {
     "data": {
      "text/html": [
       "<div><div></div><div><strong>Installing Packages</strong><ul><li><span>Expecto</span></li></ul></div><div></div></div>"
      ]
     },
     "metadata": {},
     "output_type": "display_data"
    },
    {
     "data": {
      "text/html": [
       "<div><div></div><div><strong>Installing Packages</strong><ul><li><span>Expecto.</span></li></ul></div><div></div></div>"
      ]
     },
     "metadata": {},
     "output_type": "display_data"
    },
    {
     "data": {
      "text/html": [
       "<div><div></div><div><strong>Installing Packages</strong><ul><li><span>Expecto..</span></li></ul></div><div></div></div>"
      ]
     },
     "metadata": {},
     "output_type": "display_data"
    },
    {
     "data": {
      "text/html": [
       "<div><div></div><div><strong>Installing Packages</strong><ul><li><span>Expecto...</span></li></ul></div><div></div></div>"
      ]
     },
     "metadata": {},
     "output_type": "display_data"
    },
    {
     "data": {
      "text/html": [
       "<div><div></div><div><strong>Installing Packages</strong><ul><li><span>Expecto....</span></li></ul></div><div></div></div>"
      ]
     },
     "metadata": {},
     "output_type": "display_data"
    },
    {
     "data": {
      "text/html": [
       "<div><div></div><div><strong>Installing Packages</strong><ul><li><span>Expecto.....</span></li></ul></div><div></div></div>"
      ]
     },
     "metadata": {},
     "output_type": "display_data"
    },
    {
     "data": {
      "text/html": [
       "<div><div></div><div><strong>Installing Packages</strong><ul><li><span>Expecto......</span></li></ul></div><div></div></div>"
      ]
     },
     "metadata": {},
     "output_type": "display_data"
    },
    {
     "data": {
      "text/html": [
       "<div><div></div><div><strong>Installing Packages</strong><ul><li><span>Expecto.......</span></li></ul></div><div></div></div>"
      ]
     },
     "metadata": {},
     "output_type": "display_data"
    },
    {
     "data": {
      "text/html": [
       "<div><div></div><div><strong>Installing Packages</strong><ul><li><span>Expecto........</span></li></ul></div><div></div></div>"
      ]
     },
     "metadata": {},
     "output_type": "display_data"
    },
    {
     "data": {
      "text/html": [
       "<div><div></div><div><strong>Installing Packages</strong><ul><li><span>Expecto.........</span></li></ul></div><div></div></div>"
      ]
     },
     "metadata": {},
     "output_type": "display_data"
    },
    {
     "data": {
      "text/html": [
       "<div><div></div><div><strong>Installing Packages</strong><ul><li><span>Expecto..........</span></li></ul></div><div></div></div>"
      ]
     },
     "metadata": {},
     "output_type": "display_data"
    },
    {
     "data": {
      "text/html": [
       "<div><div></div><div><strong>Installing Packages</strong><ul><li><span>Expecto...........</span></li></ul></div><div></div></div>"
      ]
     },
     "metadata": {},
     "output_type": "display_data"
    },
    {
     "data": {
      "text/html": [
       "<div><div></div><div><strong>Installing Packages</strong><ul><li><span>Expecto............</span></li></ul></div><div></div></div>"
      ]
     },
     "metadata": {},
     "output_type": "display_data"
    },
    {
     "data": {
      "text/html": [
       "<div><div></div><div><strong>Installing Packages</strong><ul><li><span>Expecto.............</span></li></ul></div><div></div></div>"
      ]
     },
     "metadata": {},
     "output_type": "display_data"
    },
    {
     "data": {
      "text/html": [
       "<div><div></div><div><strong>Installing Packages</strong><ul><li><span>Expecto..............</span></li></ul></div><div></div></div>"
      ]
     },
     "metadata": {},
     "output_type": "display_data"
    },
    {
     "data": {
      "text/html": [
       "<div><div></div><div><strong>Installing Packages</strong><ul><li><span>Expecto...............</span></li></ul></div><div></div></div>"
      ]
     },
     "metadata": {},
     "output_type": "display_data"
    },
    {
     "data": {
      "text/html": [
       "<div><div></div><div><strong>Installing Packages</strong><ul><li><span>Expecto................</span></li></ul></div><div></div></div>"
      ]
     },
     "metadata": {},
     "output_type": "display_data"
    },
    {
     "data": {
      "text/html": [
       "<div><div></div><div><strong>Installing Packages</strong><ul><li><span>Expecto.................</span></li></ul></div><div></div></div>"
      ]
     },
     "metadata": {},
     "output_type": "display_data"
    },
    {
     "data": {
      "text/html": [
       "<div><div></div><div></div><div><strong>Installed Packages</strong><ul><li><span>Expecto, 10.1.0</span></li></ul></div></div>"
      ]
     },
     "metadata": {},
     "output_type": "display_data"
    }
   ],
   "source": [
    "#!import Testing.dib"
   ]
  },
  {
   "cell_type": "code",
   "execution_count": null,
   "metadata": {
    "dotnet_repl_cellExecutionStartTime": "2023-07-04T20:14:43.9884749-03:00",
    "dotnet_repl_cellExecutionEndTime": "2023-07-04T20:14:49.1694728-03:00",
    "dotnet_interactive": {
     "language": "fsharp"
    },
    "polyglot_notebook": {
     "kernelName": "fsharp"
    }
   },
   "outputs": [
    {
     "data": {
      "text/html": [
       "<div><div></div><div><strong>Installing Packages</strong><ul><li><span>FParsec</span></li></ul></div><div></div></div>"
      ]
     },
     "metadata": {},
     "output_type": "display_data"
    },
    {
     "data": {
      "text/html": [
       "<div><div></div><div><strong>Installing Packages</strong><ul><li><span>FParsec.</span></li></ul></div><div></div></div>"
      ]
     },
     "metadata": {},
     "output_type": "display_data"
    },
    {
     "data": {
      "text/html": [
       "<div><div></div><div><strong>Installing Packages</strong><ul><li><span>FParsec..</span></li></ul></div><div></div></div>"
      ]
     },
     "metadata": {},
     "output_type": "display_data"
    },
    {
     "data": {
      "text/html": [
       "<div><div></div><div><strong>Installing Packages</strong><ul><li><span>FParsec...</span></li></ul></div><div></div></div>"
      ]
     },
     "metadata": {},
     "output_type": "display_data"
    },
    {
     "data": {
      "text/html": [
       "<div><div></div><div><strong>Installing Packages</strong><ul><li><span>FParsec....</span></li></ul></div><div></div></div>"
      ]
     },
     "metadata": {},
     "output_type": "display_data"
    },
    {
     "data": {
      "text/html": [
       "<div><div></div><div><strong>Installing Packages</strong><ul><li><span>FParsec.....</span></li></ul></div><div></div></div>"
      ]
     },
     "metadata": {},
     "output_type": "display_data"
    },
    {
     "data": {
      "text/html": [
       "<div><div></div><div><strong>Installing Packages</strong><ul><li><span>FParsec......</span></li></ul></div><div></div></div>"
      ]
     },
     "metadata": {},
     "output_type": "display_data"
    },
    {
     "data": {
      "text/html": [
       "<div><div></div><div><strong>Installing Packages</strong><ul><li><span>FParsec.......</span></li></ul></div><div></div></div>"
      ]
     },
     "metadata": {},
     "output_type": "display_data"
    },
    {
     "data": {
      "text/html": [
       "<div><div></div><div><strong>Installing Packages</strong><ul><li><span>FParsec........</span></li></ul></div><div></div></div>"
      ]
     },
     "metadata": {},
     "output_type": "display_data"
    },
    {
     "data": {
      "text/html": [
       "<div><div></div><div><strong>Installing Packages</strong><ul><li><span>FParsec.........</span></li></ul></div><div></div></div>"
      ]
     },
     "metadata": {},
     "output_type": "display_data"
    },
    {
     "data": {
      "text/html": [
       "<div><div></div><div><strong>Installing Packages</strong><ul><li><span>FParsec..........</span></li></ul></div><div></div></div>"
      ]
     },
     "metadata": {},
     "output_type": "display_data"
    },
    {
     "data": {
      "text/html": [
       "<div><div></div><div></div><div><strong>Installed Packages</strong><ul><li><span>FParsec, 1.1.1</span></li></ul></div></div>"
      ]
     },
     "metadata": {},
     "output_type": "display_data"
    }
   ],
   "source": [
    "#r \"nuget:FParsec\""
   ]
  },
  {
   "cell_type": "code",
   "execution_count": null,
   "metadata": {
    "dotnet_repl_cellExecutionStartTime": "2023-07-04T20:14:49.1695137-03:00",
    "dotnet_repl_cellExecutionEndTime": "2023-07-04T20:14:49.193784-03:00",
    "dotnet_interactive": {
     "language": "fsharp"
    },
    "polyglot_notebook": {
     "kernelName": "fsharp"
    }
   },
   "outputs": [],
   "source": [
    "open FParsec"
   ]
  },
  {
   "cell_type": "code",
   "execution_count": null,
   "metadata": {
    "dotnet_repl_cellExecutionStartTime": "2023-07-04T20:14:49.1938091-03:00",
    "dotnet_repl_cellExecutionEndTime": "2023-07-04T20:14:49.3255443-03:00",
    "dotnet_interactive": {
     "language": "fsharp"
    },
    "polyglot_notebook": {
     "kernelName": "fsharp"
    }
   },
   "outputs": [],
   "source": [
    "type Block =\n",
    "    {\n",
    "        magic : string\n",
    "        content : string\n",
    "    }"
   ]
  },
  {
   "cell_type": "code",
   "execution_count": null,
   "metadata": {
    "dotnet_repl_cellExecutionStartTime": "2023-07-04T20:14:49.3255753-03:00",
    "dotnet_repl_cellExecutionEndTime": "2023-07-04T20:14:49.3502981-03:00",
    "dotnet_interactive": {
     "language": "fsharp"
    },
    "polyglot_notebook": {
     "kernelName": "fsharp"
    }
   },
   "outputs": [],
   "source": [
    "let magicMarker : Parser<string, unit> = pstring \"#!\""
   ]
  },
  {
   "cell_type": "code",
   "execution_count": null,
   "metadata": {
    "dotnet_repl_cellExecutionStartTime": "2023-07-04T20:14:49.3503286-03:00",
    "dotnet_repl_cellExecutionEndTime": "2023-07-04T20:14:49.4836765-03:00",
    "dotnet_interactive": {
     "language": "fsharp"
    },
    "polyglot_notebook": {
     "kernelName": "fsharp"
    }
   },
   "outputs": [
    {
     "name": "stdout",
     "output_type": "stream",
     "text": [
      "Success\r\n",
      "      Item1: #!\r\n",
      "      Item2: <null>\r\n",
      "      Item3: Position\r\n",
      "        Index: 2\r\n",
      "        Line: 1\r\n",
      "        Column: 3\r\n",
      "        StreamName: \r\n"
     ]
    }
   ],
   "source": [
    "//// test\n",
    "\n",
    "let input = \"#!magic\"\n",
    "let result = run magicMarker input\n",
    "result |> _equal (\n",
    "    Success (\"#!\", (), Position (\"\", 2, 1, 3))\n",
    ")"
   ]
  },
  {
   "cell_type": "code",
   "execution_count": null,
   "metadata": {
    "dotnet_repl_cellExecutionStartTime": "2023-07-04T20:14:49.4837197-03:00",
    "dotnet_repl_cellExecutionEndTime": "2023-07-04T20:14:49.5612894-03:00",
    "dotnet_interactive": {
     "language": "fsharp"
    },
    "polyglot_notebook": {
     "kernelName": "fsharp"
    }
   },
   "outputs": [
    {
     "name": "stdout",
     "output_type": "stream",
     "text": [
      "Failure\r\n",
      "      Item1: Error in Ln: 1 Col: 1\r\n",
      "##!magic\r\n",
      "^\r\n",
      "Expecting: '#!'\r\n",
      "\r\n",
      "      Item2: ParserError\r\n",
      "        Position: Position\r\n",
      "          Index: 0\r\n",
      "          Line: 1\r\n",
      "          Column: 1\r\n",
      "          StreamName: \r\n",
      "        UserState: <null>\r\n",
      "        Messages: ErrorMessageList\r\n",
      "          Head: ExpectedString\r\n",
      "            String: #!\r\n",
      "            Type: ExpectedString\r\n",
      "          Tail: <null>\r\n",
      "      Item3: <null>\r\n"
     ]
    }
   ],
   "source": [
    "//// test\n",
    "\n",
    "let input = \"##!magic\"\n",
    "let result = run magicMarker input\n",
    "result |> _equal (\n",
    "    Failure (\n",
    "        $\"Error in Ln: 1 Col: 1{nl}##!magic{nl}^{nl}Expecting: '#!'{nl}\",\n",
    "        ParserError (\n",
    "            Position (\"\", 0, 1, 1),\n",
    "            (),\n",
    "            ErrorMessageList (ExpectedString \"#!\")\n",
    "        ),\n",
    "        ()\n",
    "    )\n",
    ")"
   ]
  },
  {
   "cell_type": "code",
   "execution_count": null,
   "metadata": {
    "dotnet_repl_cellExecutionStartTime": "2023-07-04T20:14:49.5613321-03:00",
    "dotnet_repl_cellExecutionEndTime": "2023-07-04T20:14:49.6255076-03:00",
    "dotnet_interactive": {
     "language": "fsharp"
    },
    "polyglot_notebook": {
     "kernelName": "fsharp"
    }
   },
   "outputs": [],
   "source": [
    "let magicCommand =\n",
    "    magicMarker\n",
    "    >>. manyTill anyChar newline\n",
    "    |>> (String.Concat >> String.trim)"
   ]
  },
  {
   "cell_type": "code",
   "execution_count": null,
   "metadata": {
    "dotnet_repl_cellExecutionStartTime": "2023-07-04T20:14:49.6255349-03:00",
    "dotnet_repl_cellExecutionEndTime": "2023-07-04T20:14:49.6619266-03:00",
    "dotnet_interactive": {
     "language": "fsharp"
    },
    "polyglot_notebook": {
     "kernelName": "fsharp"
    }
   },
   "outputs": [
    {
     "name": "stdout",
     "output_type": "stream",
     "text": [
      "Success\r\n",
      "      Item1: magic\r\n",
      "      Item2: <null>\r\n",
      "      Item3: Position\r\n",
      "        Index: 8\r\n",
      "        Line: 2\r\n",
      "        Column: 1\r\n",
      "        StreamName: \r\n"
     ]
    }
   ],
   "source": [
    "//// test\n",
    "\n",
    "let input = \"\"\"#!magic\n",
    "\n",
    "a\"\"\"\n",
    "let result = run magicCommand input\n",
    "result |> _equal (\n",
    "    Success (\"magic\", (), Position (\"\", 8, 2, 1))\n",
    ")"
   ]
  },
  {
   "cell_type": "code",
   "execution_count": null,
   "metadata": {
    "dotnet_repl_cellExecutionStartTime": "2023-07-04T20:14:49.6619648-03:00",
    "dotnet_repl_cellExecutionEndTime": "2023-07-04T20:14:49.7209964-03:00",
    "dotnet_interactive": {
     "language": "fsharp"
    },
    "polyglot_notebook": {
     "kernelName": "fsharp"
    }
   },
   "outputs": [
    {
     "name": "stdout",
     "output_type": "stream",
     "text": [
      "Failure\r\n",
      "      Item1: Error in Ln: 1 Col: 1\r\n",
      " #!magic\r\n",
      "^\r\n",
      "Expecting: '#!'\r\n",
      "\r\n",
      "      Item2: ParserError\r\n",
      "        Position: Position\r\n",
      "          Index: 0\r\n",
      "          Line: 1\r\n",
      "          Column: 1\r\n",
      "          StreamName: \r\n",
      "        UserState: <null>\r\n",
      "        Messages: ErrorMessageList\r\n",
      "          Head: ExpectedString\r\n",
      "            String: #!\r\n",
      "            Type: ExpectedString\r\n",
      "          Tail: <null>\r\n",
      "      Item3: <null>\r\n"
     ]
    }
   ],
   "source": [
    "//// test\n",
    "\n",
    "let input = \"\"\" #!magic\n",
    "\n",
    "a\"\"\"\n",
    "let result = run magicCommand input\n",
    "result |> _equal (\n",
    "    Failure (\n",
    "        $\"Error in Ln: 1 Col: 1{nl} #!magic{nl}^{nl}Expecting: '#!'{nl}\",\n",
    "        ParserError (\n",
    "            Position (\"\", 0, 1, 1),\n",
    "            (),\n",
    "            ErrorMessageList (ExpectedString \"#!\")\n",
    "        ),\n",
    "        ()\n",
    "    )\n",
    ")"
   ]
  },
  {
   "cell_type": "code",
   "execution_count": null,
   "metadata": {
    "dotnet_repl_cellExecutionStartTime": "2023-07-04T20:14:49.7210408-03:00",
    "dotnet_repl_cellExecutionEndTime": "2023-07-04T20:14:49.8495906-03:00",
    "dotnet_interactive": {
     "language": "fsharp"
    },
    "polyglot_notebook": {
     "kernelName": "fsharp"
    }
   },
   "outputs": [],
   "source": [
    "let content =\n",
    "    (newline >>. magicMarker) <|> (eof >>. preturn \"\")\n",
    "    |> attempt\n",
    "    |> lookAhead\n",
    "    |> manyTill anyChar\n",
    "    |>> (String.Concat >> String.trim)"
   ]
  },
  {
   "cell_type": "code",
   "execution_count": null,
   "metadata": {
    "dotnet_repl_cellExecutionStartTime": "2023-07-04T20:14:49.8496569-03:00",
    "dotnet_repl_cellExecutionEndTime": "2023-07-04T20:14:49.8781106-03:00",
    "dotnet_interactive": {
     "language": "fsharp"
    },
    "polyglot_notebook": {
     "kernelName": "fsharp"
    }
   },
   "outputs": [
    {
     "name": "stdout",
     "output_type": "stream",
     "text": [
      "Success\r\n",
      "      Item1: #!magic\n",
      "\n",
      "\n",
      "a\r\n",
      "      Item2: <null>\r\n",
      "      Item3: Position\r\n",
      "        Index: 14\r\n",
      "        Line: 7\r\n",
      "        Column: 1\r\n",
      "        StreamName: \r\n"
     ]
    }
   ],
   "source": [
    "//// test\n",
    "\n",
    "let input = \"\"\"#!magic\n",
    "\n",
    "\n",
    "a\n",
    "\n",
    "\n",
    "\"\"\"\n",
    "let result = run content input\n",
    "result |> _equal (\n",
    "    Success (\"\"\"#!magic\n",
    "\n",
    "\n",
    "a\"\"\", (), Position (\"\", 14, 7, 1))\n",
    ")"
   ]
  },
  {
   "cell_type": "code",
   "execution_count": null,
   "metadata": {
    "dotnet_repl_cellExecutionStartTime": "2023-07-04T20:14:49.8781517-03:00",
    "dotnet_repl_cellExecutionEndTime": "2023-07-04T20:14:49.9439024-03:00",
    "dotnet_interactive": {
     "language": "fsharp"
    },
    "polyglot_notebook": {
     "kernelName": "fsharp"
    }
   },
   "outputs": [],
   "source": [
    "let block =\n",
    "    pipe2\n",
    "        magicCommand\n",
    "        content\n",
    "        (fun magic content ->\n",
    "            {\n",
    "                magic = magic\n",
    "                content = content\n",
    "            })"
   ]
  },
  {
   "cell_type": "code",
   "execution_count": null,
   "metadata": {
    "dotnet_repl_cellExecutionStartTime": "2023-07-04T20:14:49.9439301-03:00",
    "dotnet_repl_cellExecutionEndTime": "2023-07-04T20:14:49.9764086-03:00",
    "dotnet_interactive": {
     "language": "fsharp"
    },
    "polyglot_notebook": {
     "kernelName": "fsharp"
    }
   },
   "outputs": [
    {
     "name": "stdout",
     "output_type": "stream",
     "text": [
      "Success\r\n",
      "      Item1: Block\r\n",
      "        magic: magic\r\n",
      "        content: a\r\n",
      "      Item2: <null>\r\n",
      "      Item3: Position\r\n",
      "        Index: 14\r\n",
      "        Line: 7\r\n",
      "        Column: 1\r\n",
      "        StreamName: \r\n"
     ]
    }
   ],
   "source": [
    "//// test\n",
    "\n",
    "let input = \"\"\"#!magic\n",
    "\n",
    "\n",
    "a\n",
    "\n",
    "\n",
    "\"\"\"\n",
    "let result = run block input\n",
    "result |> _equal (\n",
    "    Success (\n",
    "        { magic = \"magic\"; content = \"a\" },\n",
    "        (),\n",
    "        Position (\"\", 14, 7, 1)\n",
    "    )\n",
    ")"
   ]
  },
  {
   "cell_type": "code",
   "execution_count": null,
   "metadata": {
    "dotnet_repl_cellExecutionStartTime": "2023-07-04T20:14:49.9764489-03:00",
    "dotnet_repl_cellExecutionEndTime": "2023-07-04T20:14:50.0026188-03:00",
    "dotnet_interactive": {
     "language": "fsharp"
    },
    "polyglot_notebook": {
     "kernelName": "fsharp"
    }
   },
   "outputs": [],
   "source": [
    "let blocks =\n",
    "    skipMany newline\n",
    "    >>. sepEndBy block (skipMany1 newline)"
   ]
  },
  {
   "cell_type": "code",
   "execution_count": null,
   "metadata": {
    "dotnet_repl_cellExecutionStartTime": "2023-07-04T20:14:50.0026483-03:00",
    "dotnet_repl_cellExecutionEndTime": "2023-07-04T20:14:50.0611357-03:00",
    "dotnet_interactive": {
     "language": "fsharp"
    },
    "polyglot_notebook": {
     "kernelName": "fsharp"
    }
   },
   "outputs": [
    {
     "name": "stdout",
     "output_type": "stream",
     "text": [
      "Success\r\n",
      "      Item1: FSharpList<Block>\r\n",
      "        - magic: magic1\r\n",
      "          content: a\r\n",
      "        - magic: magic2\r\n",
      "          content: b\r\n",
      "      Item2: <null>\r\n",
      "      Item3: Position\r\n",
      "        Index: 26\r\n",
      "        Line: 9\r\n",
      "        Column: 1\r\n",
      "        StreamName: \r\n"
     ]
    }
   ],
   "source": [
    "//// test\n",
    "\n",
    "let input =\n",
    "    \"\"\"#!magic1\n",
    "\n",
    "a\n",
    "\n",
    "\\#!magic2\n",
    "\n",
    "b\n",
    "\n",
    "\"\"\" |> escapeCell\n",
    "let result = run blocks input\n",
    "result |> _equal (\n",
    "    Success (\n",
    "        [\n",
    "            { magic = \"magic1\"; content = \"a\" }\n",
    "            { magic = \"magic2\"; content = \"b\" }\n",
    "        ],\n",
    "        (),\n",
    "        Position (\"\", 26, 9, 1)\n",
    "    )\n",
    ")"
   ]
  },
  {
   "cell_type": "code",
   "execution_count": null,
   "metadata": {
    "dotnet_repl_cellExecutionStartTime": "2023-07-04T20:14:50.0611803-03:00",
    "dotnet_repl_cellExecutionEndTime": "2023-07-04T20:14:50.1394371-03:00",
    "dotnet_interactive": {
     "language": "fsharp"
    },
    "polyglot_notebook": {
     "kernelName": "fsharp"
    }
   },
   "outputs": [],
   "source": [
    "let formatBlock kernel (block : Block) =\n",
    "    match kernel, block with\n",
    "    | _, { magic = \"markdown\"; content = content } ->\n",
    "        content.Split [| '\\n' |]\n",
    "        |> Array.map (fun line -> line.Trim ())\n",
    "        |> Array.map (function\n",
    "            | \"\" -> \"//\"\n",
    "            | line -> $\"// {line}\"\n",
    "        )\n",
    "        |> String.concat \"\\n\"\n",
    "    | \"fsharp\", { magic = \"fsharp\"; content = content } when\n",
    "        (content.StartsWith \"//// test\"\n",
    "        || content.StartsWith \"//// ignore\")\n",
    "        |> not ->\n",
    "            content.Split [| '\\n' |]\n",
    "            |> Array.filter (fun line -> line.StartsWith \"#r\" |> not)\n",
    "            |> String.concat \"\\n\"\n",
    "    | _ -> \"\""
   ]
  },
  {
   "cell_type": "code",
   "execution_count": null,
   "metadata": {
    "dotnet_repl_cellExecutionStartTime": "2023-07-04T20:14:50.1394645-03:00",
    "dotnet_repl_cellExecutionEndTime": "2023-07-04T20:14:50.2065444-03:00",
    "dotnet_interactive": {
     "language": "fsharp"
    },
    "polyglot_notebook": {
     "kernelName": "fsharp"
    }
   },
   "outputs": [
    {
     "name": "stdout",
     "output_type": "stream",
     "text": [
      "// a\n",
      "//\n",
      "// b\r\n"
     ]
    }
   ],
   "source": [
    "//// test\n",
    "\n",
    "let input =\n",
    "    \"\"\"#!markdown\n",
    "\n",
    "\n",
    "a\n",
    "\n",
    "b\n",
    "\n",
    "\n",
    "\\#!markdown\n",
    "\n",
    "\n",
    "c\n",
    "\n",
    "\n",
    "\\#!fsharp\n",
    "\n",
    "\n",
    "let a = 1\"\"\" |> escapeCell\n",
    "let result =\n",
    "    match run block input with\n",
    "    | Success (block, _, _) ->\n",
    "        formatBlock \"fsharp\" block\n",
    "    | Failure (msg, _, _) ->\n",
    "        failwith msg\n",
    "result |> _equal \"\"\"// a\n",
    "//\n",
    "// b\"\"\""
   ]
  },
  {
   "cell_type": "code",
   "execution_count": null,
   "metadata": {
    "dotnet_repl_cellExecutionStartTime": "2023-07-04T20:14:50.2065869-03:00",
    "dotnet_repl_cellExecutionEndTime": "2023-07-04T20:14:50.2256999-03:00",
    "dotnet_interactive": {
     "language": "fsharp"
    },
    "polyglot_notebook": {
     "kernelName": "fsharp"
    }
   },
   "outputs": [],
   "source": [
    "let formatBlocks kernel blocks =\n",
    "    blocks\n",
    "    |> List.map (formatBlock kernel)\n",
    "    |> List.filter (fun s -> s <> \"\")\n",
    "    |> String.concat \"\\n\\n\""
   ]
  },
  {
   "cell_type": "code",
   "execution_count": null,
   "metadata": {
    "dotnet_repl_cellExecutionStartTime": "2023-07-04T20:14:50.2257264-03:00",
    "dotnet_repl_cellExecutionEndTime": "2023-07-04T20:14:50.271641-03:00",
    "dotnet_interactive": {
     "language": "fsharp"
    },
    "polyglot_notebook": {
     "kernelName": "fsharp"
    }
   },
   "outputs": [
    {
     "name": "stdout",
     "output_type": "stream",
     "text": [
      "// a\n",
      "//\n",
      "// b\n",
      "\n",
      "// c\n",
      "\n",
      "let a = 1\r\n"
     ]
    }
   ],
   "source": [
    "//// test\n",
    "\n",
    "let input =\n",
    "    \"\"\"#!markdown\n",
    "\n",
    "\n",
    "a\n",
    "\n",
    "b\n",
    "\n",
    "\n",
    "\\#!markdown\n",
    "\n",
    "\n",
    "c\n",
    "\n",
    "\n",
    "\\#!fsharp\n",
    "\n",
    "\n",
    "let a = 1\"\"\" |> escapeCell\n",
    "let result =\n",
    "    match run blocks input with\n",
    "    | Success (blocks, _, _) ->\n",
    "        formatBlocks \"fsharp\" blocks\n",
    "    | Failure (msg, _, _) ->\n",
    "        failwith msg\n",
    "result |> _equal \"\"\"// a\n",
    "//\n",
    "// b\n",
    "\n",
    "// c\n",
    "\n",
    "let a = 1\"\"\""
   ]
  },
  {
   "cell_type": "code",
   "execution_count": null,
   "metadata": {
    "dotnet_repl_cellExecutionStartTime": "2023-07-04T20:14:50.2716878-03:00",
    "dotnet_repl_cellExecutionEndTime": "2023-07-04T20:14:50.2942415-03:00",
    "dotnet_interactive": {
     "language": "fsharp"
    },
    "polyglot_notebook": {
     "kernelName": "fsharp"
    }
   },
   "outputs": [],
   "source": [
    "let run input =\n",
    "    match run blocks input with\n",
    "    | Success (result, _, _) -> Result.Ok result\n",
    "    | Failure (errorMsg, _, _) -> Result.Error errorMsg"
   ]
  },
  {
   "cell_type": "code",
   "execution_count": null,
   "metadata": {
    "dotnet_repl_cellExecutionStartTime": "2023-07-04T20:14:50.2942691-03:00",
    "dotnet_repl_cellExecutionEndTime": "2023-07-04T20:14:50.3331341-03:00",
    "dotnet_interactive": {
     "language": "fsharp"
    },
    "polyglot_notebook": {
     "kernelName": "fsharp"
    }
   },
   "outputs": [],
   "source": [
    "let parseDibCode kernel file =\n",
    "    let input = File.ReadAllText file\n",
    "    match run input with\n",
    "    | Result.Ok blocks ->\n",
    "        blocks\n",
    "        |> List.filter (fun block -> block.magic = kernel || block.magic = \"markdown\")\n",
    "        |> formatBlocks kernel\n",
    "    | Result.Error msg -> failwith msg"
   ]
  },
  {
   "cell_type": "code",
   "execution_count": null,
   "metadata": {
    "dotnet_repl_cellExecutionStartTime": "2023-07-04T20:14:50.3331693-03:00",
    "dotnet_repl_cellExecutionEndTime": "2023-07-04T20:14:50.3490939-03:00",
    "dotnet_interactive": {
     "language": "fsharp"
    },
    "polyglot_notebook": {
     "kernelName": "fsharp"
    }
   },
   "outputs": [],
   "source": [
    "let writeDibCode kernel file =\n",
    "    printfn $\"Parsing {file}\"\n",
    "    let output = parseDibCode kernel file\n",
    "    let outputFileName =\n",
    "        match kernel with\n",
    "        | \"fsharp\" -> file.Replace (\".dib\", \".fs\")\n",
    "        | _ -> failwith \"Unknown kernel\"\n",
    "    File.WriteAllText (outputFileName, output)"
   ]
  },
  {
   "cell_type": "code",
   "execution_count": null,
   "metadata": {
    "dotnet_repl_cellExecutionStartTime": "2023-07-04T20:14:50.3491226-03:00",
    "dotnet_repl_cellExecutionEndTime": "2023-07-04T20:14:50.4701732-03:00",
    "dotnet_interactive": {
     "language": "fsharp"
    },
    "polyglot_notebook": {
     "kernelName": "fsharp"
    }
   },
   "outputs": [
    {
     "data": {
      "text/html": [
       "<table><thead><tr><th><i>index</i></th><th>value</th></tr></thead><tbody><tr><td>0</td><td><details class=\"dni-treeview\"><summary><span class=\"dni-code-hint\"><code>{ magic = \"meta\"\\n  content =\\n   \"{\"kernelInfo\":{\"defaultKernelName\":\"fsharp\",\"items\":[{\"aliases\":[],\"name\":\"fsharp\"},{\"aliases\":[],\"name\":\"fsharp\"}]}}\" }</code></span></summary><div><table><thead><tr></tr></thead><tbody><tr><td>magic</td><td>meta</td></tr><tr><td>content</td><td>{&quot;kernelInfo&quot;:{&quot;defaultKernelName&quot;:&quot;fsharp&quot;,&quot;items&quot;:[{&quot;aliases&quot;:[],&quot;name&quot;:&quot;fsharp&quot;},{&quot;aliases&quot;:[],&quot;name&quot;:&quot;fsharp&quot;}]}}</td></tr></tbody></table></div></details></td></tr><tr><td>1</td><td><details class=\"dni-treeview\"><summary><span class=\"dni-code-hint\"><code>{ magic = \"fsharp\"\\n  content = \"##r \"nuget:Expecto\"\" }</code></span></summary><div><table><thead><tr></tr></thead><tbody><tr><td>magic</td><td>fsharp</td></tr><tr><td>content</td><td>##r &quot;nuget:Expecto&quot;</td></tr></tbody></table></div></details></td></tr><tr><td>2</td><td><details class=\"dni-treeview\"><summary><span class=\"dni-code-hint\"><code>{ magic = \"markdown\"\\n  content = \"## ParserLibrary\" }</code></span></summary><div><table><thead><tr></tr></thead><tbody><tr><td>magic</td><td>markdown</td></tr><tr><td>content</td><td>## ParserLibrary</td></tr></tbody></table></div></details></td></tr><tr><td>3</td><td><details class=\"dni-treeview\"><summary><span class=\"dni-code-hint\"><code>{ magic = \"fsharp\"\\n  content = \"open System\" }</code></span></summary><div><table><thead><tr></tr></thead><tbody><tr><td>magic</td><td>fsharp</td></tr><tr><td>content</td><td>open System</td></tr></tbody></table></div></details></td></tr><tr><td>4</td><td><details class=\"dni-treeview\"><summary><span class=\"dni-code-hint\"><code>{ magic = \"markdown\"\\n  content = \"### TextInput\" }</code></span></summary><div><table><thead><tr></tr></thead><tbody><tr><td>magic</td><td>markdown</td></tr><tr><td>content</td><td>### TextInput</td></tr></tbody></table></div></details></td></tr><tr><td>5</td><td><details class=\"dni-treeview\"><summary><span class=\"dni-code-hint\"><code>{ magic = \"fsharp\"\\n  content =\\n   \"type Position =\\n    {\\n        line : int\\n        column : int\\n    }\" }</code></span></summary><div><table><thead><tr></tr></thead><tbody><tr><td>magic</td><td>fsharp</td></tr><tr><td>content</td><td>type Position =\n",
       "    {\n",
       "        line : int\n",
       "        column : int\n",
       "    }</td></tr></tbody></table></div></details></td></tr></tbody></table><style>\r\n",
       ".dni-code-hint {\r\n",
       "    font-style: italic;\r\n",
       "    overflow: hidden;\r\n",
       "    white-space: nowrap;\r\n",
       "}\r\n",
       ".dni-treeview {\r\n",
       "    white-space: nowrap;\r\n",
       "}\r\n",
       ".dni-treeview td {\r\n",
       "    vertical-align: top;\r\n",
       "    text-align: start;\r\n",
       "}\r\n",
       "details.dni-treeview {\r\n",
       "    padding-left: 1em;\r\n",
       "}\r\n",
       "table td {\r\n",
       "    text-align: start;\r\n",
       "}\r\n",
       "table tr { \r\n",
       "    vertical-align: top; \r\n",
       "    margin: 0em 0px;\r\n",
       "}\r\n",
       "table tr td pre \r\n",
       "{ \r\n",
       "    vertical-align: top !important; \r\n",
       "    margin: 0em 0px !important;\r\n",
       "} \r\n",
       "table th {\r\n",
       "    text-align: start;\r\n",
       "}\r\n",
       "</style>"
      ]
     },
     "metadata": {},
     "output_type": "display_data"
    },
    {
     "name": "stdout",
     "output_type": "stream",
     "text": [
      "#!meta\n",
      "\n",
      "{\"kernelInfo\":{\"defaultKernelName\":\"fsharp\",\"items\":[{\"aliases\":[],\"name\":\"fsharp\"},{\"aliases\":[],\"name\":\"fsharp\"}]}}\n",
      "\n",
      "#!fsharp\n",
      "\n",
      "##r \"nuget:Expecto\"\n",
      "\n",
      "#!markdown\n",
      "\n",
      "## ParserLibrary\n",
      "\n",
      "#!fsharp\n",
      "\n",
      "open System\n",
      "\n",
      "#!markdown\n",
      "\n",
      "### TextInput\n",
      "\n",
      "#!fsharp\n",
      "\n",
      "type Position =\n",
      "    {\n",
      "        line : int\n",
      "        column : int\n",
      "    }\r\n"
     ]
    }
   ],
   "source": [
    "//// ignore\n",
    "\n",
    "let example1 =\n",
    "    \"\"\"#!meta\n",
    "\n",
    "{\"kernelInfo\":{\"defaultKernelName\":\"fsharp\",\"items\":[{\"aliases\":[],\"name\":\"fsharp\"},{\"aliases\":[],\"name\":\"fsharp\"}]}}\n",
    "\n",
    "\\#!fsharp\n",
    "\n",
    "##r \"nuget:Expecto\"\n",
    "\n",
    "\\#!markdown\n",
    "\n",
    "## ParserLibrary\n",
    "\n",
    "\\#!fsharp\n",
    "\n",
    "open System\n",
    "\n",
    "\\#!markdown\n",
    "\n",
    "### TextInput\n",
    "\n",
    "\\#!fsharp\n",
    "\n",
    "type Position =\n",
    "    {\n",
    "        line : int\n",
    "        column : int\n",
    "    }\"\"\"\n",
    "    |> escapeCell\n",
    "\n",
    "printfn $\"{example1}\"\n",
    "\n",
    "let blocks1 =\n",
    "    run example1\n",
    "    |> Result.toOption\n",
    "    |> Option.get\n",
    "blocks1"
   ]
  },
  {
   "cell_type": "code",
   "execution_count": null,
   "metadata": {
    "dotnet_repl_cellExecutionStartTime": "2023-07-04T20:14:50.4702171-03:00",
    "dotnet_repl_cellExecutionEndTime": "2023-07-04T20:14:50.4980344-03:00",
    "dotnet_interactive": {
     "language": "fsharp"
    },
    "polyglot_notebook": {
     "kernelName": "fsharp"
    }
   },
   "outputs": [
    {
     "name": "stdout",
     "output_type": "stream",
     "text": [
      "##r \"nuget:Expecto\"\n",
      "\n",
      "// ## ParserLibrary\n",
      "\n",
      "open System\n",
      "\n",
      "// ### TextInput\n",
      "\n",
      "type Position =\n",
      "    {\n",
      "        line : int\n",
      "        column : int\n",
      "    }\r\n"
     ]
    }
   ],
   "source": [
    "//// test\n",
    "\n",
    "blocks1\n",
    "|> (formatBlocks \"fsharp\")\n",
    "|> _equal \"\"\"##r \"nuget:Expecto\"\n",
    "\n",
    "// ## ParserLibrary\n",
    "\n",
    "open System\n",
    "\n",
    "// ### TextInput\n",
    "\n",
    "type Position =\n",
    "    {\n",
    "        line : int\n",
    "        column : int\n",
    "    }\"\"\""
   ]
  },
  {
   "cell_type": "code",
   "execution_count": null,
   "metadata": {
    "dotnet_repl_cellExecutionStartTime": "2023-07-04T20:14:50.4980744-03:00",
    "dotnet_repl_cellExecutionEndTime": "2023-07-04T20:14:50.5214284-03:00",
    "dotnet_interactive": {
     "language": "fsharp"
    },
    "polyglot_notebook": {
     "kernelName": "fsharp"
    }
   },
   "outputs": [
    {
     "name": "stdout",
     "output_type": "stream",
     "text": [
      "// ## ParserLibrary\n",
      "\n",
      "// ### TextInput\r\n"
     ]
    }
   ],
   "source": [
    "//// test\n",
    "\n",
    "blocks1\n",
    "|> (formatBlocks \"markdown\")\n",
    "|> _equal \"\"\"// ## ParserLibrary\n",
    "\n",
    "// ### TextInput\"\"\""
   ]
  },
  {
   "cell_type": "code",
   "execution_count": null,
   "metadata": {
    "dotnet_repl_cellExecutionStartTime": "2023-07-04T20:14:50.5214697-03:00",
    "dotnet_repl_cellExecutionEndTime": "2023-07-04T20:14:50.6684681-03:00",
    "dotnet_interactive": {
     "language": "fsharp"
    },
    "polyglot_notebook": {
     "kernelName": "fsharp"
    }
   },
   "outputs": [
    {
     "name": "stdout",
     "output_type": "stream",
     "text": [
      "Parsing Core.dib\r\n",
      "Parsing Parser.dib\r\n",
      "Parsing JsonParser.dib\r\n",
      "Parsing DibParser.dib\r\n"
     ]
    }
   ],
   "source": [
    "//// ignore\n",
    "\n",
    "match Environment.GetEnvironmentVariable \"OUTPUT\" with\n",
    "| \"\" | null -> ()\n",
    "| path when System.IO.File.Exists path -> path |> writeDibCode \"fsharp\"\n",
    "| path when path.Contains \";\" -> path.Split [| ';' |] |> Array.iter (writeDibCode \"fsharp\")\n",
    "| _ -> System.IO.Path.Combine (System.IO.Directory.GetCurrentDirectory (), \"DibParser.dib\") |> writeDibCode \"fsharp\""
   ]
  }
 ],
 "metadata": {
  "kernelspec": {
   "display_name": ".NET (C#)",
   "language": "C#",
   "name": ".net-csharp"
  },
  "language_info": {
   "file_extension": ".cs",
   "mimetype": "text/x-csharp",
   "name": "C#",
   "pygments_lexer": "csharp",
   "version": "10.0"
  },
  "polyglot_notebook": {
   "defaultKernelName": "csharp",
   "items": [
    {
     "name": "csharp"
    }
   ]
  },
  "dotnet_interactive": {
   "defaultKernelName": "csharp",
   "items": [
    {
     "name": "csharp"
    }
   ]
  }
 },
 "nbformat": 4,
 "nbformat_minor": 5
}