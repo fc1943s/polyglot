{
 "cells": [
  {
   "cell_type": "code",
   "execution_count": null,
   "metadata": {
    "dotnet_repl_cellExecutionStartTime": "2023-07-03T22:42:56.1270162-03:00",
    "dotnet_repl_cellExecutionEndTime": "2023-07-03T22:43:04.2336269-03:00",
    "dotnet_interactive": {
     "language": "fsharp"
    },
    "polyglot_notebook": {
     "kernelName": "fsharp"
    }
   },
   "outputs": [
    {
     "data": {
      "text/html": [
       "<div><div></div><div><strong>Installing Packages</strong><ul><li><span>Expecto</span></li><li><span>FParsec</span></li></ul></div><div></div></div>"
      ]
     },
     "metadata": {},
     "output_type": "display_data"
    },
    {
     "data": {
      "text/html": [
       "<div><div></div><div><strong>Installing Packages</strong><ul><li><span>Expecto.</span></li><li><span>FParsec.</span></li></ul></div><div></div></div>"
      ]
     },
     "metadata": {},
     "output_type": "display_data"
    },
    {
     "data": {
      "text/html": [
       "<div><div></div><div><strong>Installing Packages</strong><ul><li><span>Expecto..</span></li><li><span>FParsec..</span></li></ul></div><div></div></div>"
      ]
     },
     "metadata": {},
     "output_type": "display_data"
    },
    {
     "data": {
      "text/html": [
       "<div><div></div><div><strong>Installing Packages</strong><ul><li><span>Expecto...</span></li><li><span>FParsec...</span></li></ul></div><div></div></div>"
      ]
     },
     "metadata": {},
     "output_type": "display_data"
    },
    {
     "data": {
      "text/html": [
       "<div><div></div><div><strong>Installing Packages</strong><ul><li><span>Expecto....</span></li><li><span>FParsec....</span></li></ul></div><div></div></div>"
      ]
     },
     "metadata": {},
     "output_type": "display_data"
    },
    {
     "data": {
      "text/html": [
       "<div><div></div><div><strong>Installing Packages</strong><ul><li><span>Expecto.....</span></li><li><span>FParsec.....</span></li></ul></div><div></div></div>"
      ]
     },
     "metadata": {},
     "output_type": "display_data"
    },
    {
     "data": {
      "text/html": [
       "<div><div></div><div><strong>Installing Packages</strong><ul><li><span>Expecto......</span></li><li><span>FParsec......</span></li></ul></div><div></div></div>"
      ]
     },
     "metadata": {},
     "output_type": "display_data"
    },
    {
     "data": {
      "text/html": [
       "<div><div></div><div><strong>Installing Packages</strong><ul><li><span>Expecto.......</span></li><li><span>FParsec.......</span></li></ul></div><div></div></div>"
      ]
     },
     "metadata": {},
     "output_type": "display_data"
    },
    {
     "data": {
      "text/html": [
       "<div><div></div><div></div><div><strong>Installed Packages</strong><ul><li><span>Expecto, 10.1.0</span></li><li><span>FParsec, 1.1.1</span></li></ul></div></div>"
      ]
     },
     "metadata": {},
     "output_type": "display_data"
    }
   ],
   "source": [
    "#r \"nuget:FParsec\"\n",
    "#r \"nuget:Expecto\""
   ]
  },
  {
   "cell_type": "code",
   "execution_count": null,
   "metadata": {
    "dotnet_repl_cellExecutionStartTime": "2023-07-03T22:43:04.2355281-03:00",
    "dotnet_repl_cellExecutionEndTime": "2023-07-03T22:43:06.316623-03:00",
    "dotnet_interactive": {
     "language": "fsharp"
    },
    "polyglot_notebook": {
     "kernelName": "fsharp"
    }
   },
   "outputs": [],
   "source": [
    "open FParsec\n",
    "\n",
    "\n",
    "type Block =\n",
    "    {\n",
    "        magic : string\n",
    "        content : string\n",
    "    }\n",
    "\n",
    "let magicMarker = pstring \"#!\"\n",
    "\n",
    "let magicCommand =\n",
    "    magicMarker\n",
    "    >>. manyTill anyChar newline\n",
    "    |>> (String.Concat >> fun s -> s.Trim ())\n",
    "\n",
    "let content =\n",
    "    (newline >>. magicMarker) <|> (eof >>. preturn \"\")\n",
    "    |> attempt\n",
    "    |> lookAhead\n",
    "    |> manyTill anyChar\n",
    "    |>> (String.Concat >> fun s -> s.Trim ())\n",
    "\n",
    "let block =\n",
    "    pipe2\n",
    "        magicCommand\n",
    "        content\n",
    "        (fun magic content ->\n",
    "            {\n",
    "                magic = magic\n",
    "                content = content\n",
    "            })\n",
    "\n",
    "let blocks =\n",
    "    skipMany newline\n",
    "    >>. sepEndBy block (skipMany1 newline)\n",
    "\n",
    "\n",
    "let formatBlock kernel (block : Block) =\n",
    "    match kernel, block with\n",
    "    | _, { magic = \"markdown\"; content = content } ->\n",
    "        content.Split [| '\\n' |]\n",
    "        |> Array.map (fun line -> $\"// {line.Trim ()}\")\n",
    "        |> String.concat \"\\n\"\n",
    "    | \"fsharp\", { magic = \"fsharp\"; content = content } when \n",
    "        (content.StartsWith \"//// test\"\n",
    "        || content.StartsWith \"//// ignore\")\n",
    "        |> not ->\n",
    "            content.Split [| '\\n' |]\n",
    "            |> Array.filter (fun line -> line.StartsWith \"#r\" |> not)\n",
    "            |> String.concat \"\\n\"\n",
    "    | _ -> \"\"\n",
    "\n",
    "let formatBlocks kernel blocks =\n",
    "    blocks\n",
    "    |> List.map (formatBlock kernel)\n",
    "    |> List.filter (fun s -> s <> \"\")\n",
    "    |> String.concat \"\\n\\n\"\n",
    "\n",
    "let run input =\n",
    "    match run blocks input with\n",
    "    | Success (result, _, _) -> Result.Ok result\n",
    "    | Failure (errorMsg, _, _) -> Result.Error errorMsg\n",
    "\n",
    "let parseDibCode kernel file =\n",
    "    let input = File.ReadAllText file\n",
    "    match run input with\n",
    "    | Result.Ok blocks ->\n",
    "        blocks\n",
    "        |> List.filter (fun block -> block.magic = kernel || block.magic = \"markdown\")\n",
    "        |> formatBlocks kernel\n",
    "    | Result.Error msg -> failwith msg\n",
    "\n",
    "let writeDibCode kernel file =\n",
    "    printfn $\"Parsing {file}\"\n",
    "    let output = parseDibCode kernel file\n",
    "    let outputFileName =\n",
    "        match kernel with\n",
    "        | \"fsharp\" -> file.Replace (\".dib\", \".fs\")\n",
    "        | _ -> failwith \"Unknown kernel\"\n",
    "    File.WriteAllText (outputFileName, output)"
   ]
  },
  {
   "cell_type": "code",
   "execution_count": null,
   "metadata": {
    "dotnet_repl_cellExecutionStartTime": "2023-07-03T22:43:06.3167729-03:00",
    "dotnet_repl_cellExecutionEndTime": "2023-07-03T22:43:06.3398698-03:00",
    "dotnet_interactive": {
     "language": "fsharp"
    },
    "polyglot_notebook": {
     "kernelName": "fsharp"
    }
   },
   "outputs": [],
   "source": [
    "let escapeCell (input : string) =\n",
    "    input.Split [| '\\n' |]\n",
    "    |> Array.map (fun line ->\n",
    "        if line.StartsWith \"\\\\#!\"\n",
    "        then System.Text.RegularExpressions.Regex.Replace (line, \"^\\\\\\\\#!\", \"#!\")\n",
    "        else line)\n",
    "    |> String.concat \"\\n\""
   ]
  },
  {
   "cell_type": "code",
   "execution_count": null,
   "metadata": {
    "dotnet_repl_cellExecutionStartTime": "2023-07-03T22:43:06.3398946-03:00",
    "dotnet_repl_cellExecutionEndTime": "2023-07-03T22:43:06.3734455-03:00",
    "dotnet_interactive": {
     "language": "fsharp"
    },
    "polyglot_notebook": {
     "kernelName": "fsharp"
    }
   },
   "outputs": [],
   "source": [
    "//// ignore\n",
    "\n",
    "let _equal expected actual =\n",
    "    \"\" |> Expecto.Expect.equal actual expected\n",
    "    printfn $\"{actual}\""
   ]
  },
  {
   "cell_type": "code",
   "execution_count": null,
   "metadata": {
    "dotnet_repl_cellExecutionStartTime": "2023-07-03T22:43:06.3734711-03:00",
    "dotnet_repl_cellExecutionEndTime": "2023-07-03T22:43:06.5592561-03:00",
    "dotnet_interactive": {
     "language": "fsharp"
    },
    "polyglot_notebook": {
     "kernelName": "fsharp"
    }
   },
   "outputs": [
    {
     "data": {
      "text/html": [
       "<table><thead><tr><th><i>index</i></th><th>value</th></tr></thead><tbody><tr><td>0</td><td><details class=\"dni-treeview\"><summary><span class=\"dni-code-hint\"><code>{ magic = \"meta\"\\n  content =\\n   \"{\"kernelInfo\":{\"defaultKernelName\":\"csharp\",\"items\":[{\"aliases\":[],\"name\":\"csharp\"},{\"aliases\":[],\"name\":\"fsharp\"}]}}\" }</code></span></summary><div><table><thead><tr></tr></thead><tbody><tr><td>magic</td><td>meta</td></tr><tr><td>content</td><td>{&quot;kernelInfo&quot;:{&quot;defaultKernelName&quot;:&quot;csharp&quot;,&quot;items&quot;:[{&quot;aliases&quot;:[],&quot;name&quot;:&quot;csharp&quot;},{&quot;aliases&quot;:[],&quot;name&quot;:&quot;fsharp&quot;}]}}</td></tr></tbody></table></div></details></td></tr><tr><td>1</td><td><details class=\"dni-treeview\"><summary><span class=\"dni-code-hint\"><code>{ magic = \"fsharp\"\\n  content = \"##r \"nuget:Expecto\"\" }</code></span></summary><div><table><thead><tr></tr></thead><tbody><tr><td>magic</td><td>fsharp</td></tr><tr><td>content</td><td>##r &quot;nuget:Expecto&quot;</td></tr></tbody></table></div></details></td></tr><tr><td>2</td><td><details class=\"dni-treeview\"><summary><span class=\"dni-code-hint\"><code>{ magic = \"markdown\"\\n  content = \"## ParserLibrary\" }</code></span></summary><div><table><thead><tr></tr></thead><tbody><tr><td>magic</td><td>markdown</td></tr><tr><td>content</td><td>## ParserLibrary</td></tr></tbody></table></div></details></td></tr><tr><td>3</td><td><details class=\"dni-treeview\"><summary><span class=\"dni-code-hint\"><code>{ magic = \"fsharp\"\\n  content = \"open System\" }</code></span></summary><div><table><thead><tr></tr></thead><tbody><tr><td>magic</td><td>fsharp</td></tr><tr><td>content</td><td>open System</td></tr></tbody></table></div></details></td></tr><tr><td>4</td><td><details class=\"dni-treeview\"><summary><span class=\"dni-code-hint\"><code>{ magic = \"markdown\"\\n  content = \"### TextInput\" }</code></span></summary><div><table><thead><tr></tr></thead><tbody><tr><td>magic</td><td>markdown</td></tr><tr><td>content</td><td>### TextInput</td></tr></tbody></table></div></details></td></tr><tr><td>5</td><td><details class=\"dni-treeview\"><summary><span class=\"dni-code-hint\"><code>{ magic = \"fsharp\"\\n  content =\\n   \"type Position =\\n    {\\n        line : int\\n        column : int\\n    }\" }</code></span></summary><div><table><thead><tr></tr></thead><tbody><tr><td>magic</td><td>fsharp</td></tr><tr><td>content</td><td>type Position =\n",
       "    {\n",
       "        line : int\n",
       "        column : int\n",
       "    }</td></tr></tbody></table></div></details></td></tr></tbody></table><style>\r\n",
       ".dni-code-hint {\r\n",
       "    font-style: italic;\r\n",
       "    overflow: hidden;\r\n",
       "    white-space: nowrap;\r\n",
       "}\r\n",
       ".dni-treeview {\r\n",
       "    white-space: nowrap;\r\n",
       "}\r\n",
       ".dni-treeview td {\r\n",
       "    vertical-align: top;\r\n",
       "    text-align: start;\r\n",
       "}\r\n",
       "details.dni-treeview {\r\n",
       "    padding-left: 1em;\r\n",
       "}\r\n",
       "table td {\r\n",
       "    text-align: start;\r\n",
       "}\r\n",
       "table tr { \r\n",
       "    vertical-align: top; \r\n",
       "    margin: 0em 0px;\r\n",
       "}\r\n",
       "table tr td pre \r\n",
       "{ \r\n",
       "    vertical-align: top !important; \r\n",
       "    margin: 0em 0px !important;\r\n",
       "} \r\n",
       "table th {\r\n",
       "    text-align: start;\r\n",
       "}\r\n",
       "</style>"
      ]
     },
     "metadata": {},
     "output_type": "display_data"
    },
    {
     "name": "stdout",
     "output_type": "stream",
     "text": [
      "#!meta\n",
      "\n",
      "{\"kernelInfo\":{\"defaultKernelName\":\"csharp\",\"items\":[{\"aliases\":[],\"name\":\"csharp\"},{\"aliases\":[],\"name\":\"fsharp\"}]}}\n",
      "\n",
      "#!fsharp\n",
      "\n",
      "##r \"nuget:Expecto\"\n",
      "\n",
      "#!markdown\n",
      "\n",
      "## ParserLibrary\n",
      "\n",
      "#!fsharp\n",
      "\n",
      "open System\n",
      "\n",
      "#!markdown\n",
      "\n",
      "### TextInput\n",
      "\n",
      "#!fsharp\n",
      "\n",
      "type Position =\n",
      "    {\n",
      "        line : int\n",
      "        column : int\n",
      "    }\r\n"
     ]
    }
   ],
   "source": [
    "//// ignore\n",
    "\n",
    "let example1 =\n",
    "    \"\"\"#!meta\n",
    "\n",
    "{\"kernelInfo\":{\"defaultKernelName\":\"csharp\",\"items\":[{\"aliases\":[],\"name\":\"csharp\"},{\"aliases\":[],\"name\":\"fsharp\"}]}}\n",
    "\n",
    "\\#!fsharp\n",
    "\n",
    "##r \"nuget:Expecto\"\n",
    "\n",
    "\\#!markdown\n",
    "\n",
    "## ParserLibrary\n",
    "\n",
    "\\#!fsharp\n",
    "\n",
    "open System\n",
    "\n",
    "\\#!markdown\n",
    "\n",
    "### TextInput\n",
    "\n",
    "\\#!fsharp\n",
    "\n",
    "type Position =\n",
    "    {\n",
    "        line : int\n",
    "        column : int\n",
    "    }\"\"\"\n",
    "    |> escapeCell\n",
    "\n",
    "printfn $\"{example1}\"\n",
    "\n",
    "let blocks =\n",
    "    run example1\n",
    "    |> Result.toOption\n",
    "    |> Option.get\n",
    "blocks"
   ]
  },
  {
   "cell_type": "code",
   "execution_count": null,
   "metadata": {
    "dotnet_repl_cellExecutionStartTime": "2023-07-03T22:43:06.5593304-03:00",
    "dotnet_repl_cellExecutionEndTime": "2023-07-03T22:43:06.5978208-03:00",
    "dotnet_interactive": {
     "language": "fsharp"
    },
    "polyglot_notebook": {
     "kernelName": "fsharp"
    }
   },
   "outputs": [
    {
     "name": "stdout",
     "output_type": "stream",
     "text": [
      "##r \"nuget:Expecto\"\n",
      "\n",
      "// ## ParserLibrary\n",
      "\n",
      "open System\n",
      "\n",
      "// ### TextInput\n",
      "\n",
      "type Position =\n",
      "    {\n",
      "        line : int\n",
      "        column : int\n",
      "    }\r\n"
     ]
    }
   ],
   "source": [
    "//// test\n",
    "\n",
    "blocks\n",
    "|> (formatBlocks \"fsharp\")\n",
    "|> _equal \"\"\"##r \"nuget:Expecto\"\n",
    "\n",
    "// ## ParserLibrary\n",
    "\n",
    "open System\n",
    "\n",
    "// ### TextInput\n",
    "\n",
    "type Position =\n",
    "    {\n",
    "        line : int\n",
    "        column : int\n",
    "    }\"\"\""
   ]
  },
  {
   "cell_type": "code",
   "execution_count": null,
   "metadata": {
    "dotnet_repl_cellExecutionStartTime": "2023-07-03T22:43:06.5978546-03:00",
    "dotnet_repl_cellExecutionEndTime": "2023-07-03T22:43:06.6206302-03:00",
    "dotnet_interactive": {
     "language": "fsharp"
    },
    "polyglot_notebook": {
     "kernelName": "fsharp"
    }
   },
   "outputs": [
    {
     "name": "stdout",
     "output_type": "stream",
     "text": [
      "// ## ParserLibrary\n",
      "\n",
      "// ### TextInput\r\n"
     ]
    }
   ],
   "source": [
    "//// test\n",
    "\n",
    "blocks\n",
    "|> (formatBlocks \"markdown\")\n",
    "|> _equal \"\"\"// ## ParserLibrary\n",
    "\n",
    "// ### TextInput\"\"\""
   ]
  },
  {
   "cell_type": "code",
   "execution_count": null,
   "metadata": {
    "dotnet_repl_cellExecutionStartTime": "2023-07-03T22:43:06.6206718-03:00",
    "dotnet_repl_cellExecutionEndTime": "2023-07-03T22:43:06.7500392-03:00",
    "dotnet_interactive": {
     "language": "fsharp"
    },
    "polyglot_notebook": {
     "kernelName": "fsharp"
    }
   },
   "outputs": [
    {
     "name": "stdout",
     "output_type": "stream",
     "text": [
      "Parsing Parser.dib\r\n",
      "Parsing JsonParser.dib\r\n",
      "Parsing DibParser.dib\r\n"
     ]
    }
   ],
   "source": [
    "//// ignore\n",
    "\n",
    "match Environment.GetEnvironmentVariable \"OUTPUT\" with\n",
    "| \"\" | null -> ()\n",
    "| path when System.IO.File.Exists path -> path |> writeDibCode \"fsharp\"\n",
    "| path when path.Contains \";\" -> path.Split [| ';' |] |> Array.iter (writeDibCode \"fsharp\")\n",
    "| _ -> System.IO.Path.Combine (System.IO.Directory.GetCurrentDirectory (), \"DibParser.dib\") |> writeDibCode \"fsharp\""
   ]
  }
 ],
 "metadata": {
  "kernelspec": {
   "display_name": ".NET (C#)",
   "language": "C#",
   "name": ".net-csharp"
  },
  "language_info": {
   "file_extension": ".cs",
   "mimetype": "text/x-csharp",
   "name": "C#",
   "pygments_lexer": "csharp",
   "version": "10.0"
  },
  "polyglot_notebook": {
   "defaultKernelName": "csharp",
   "items": [
    {
     "name": "csharp"
    }
   ]
  },
  "dotnet_interactive": {
   "defaultKernelName": "csharp",
   "items": [
    {
     "name": "csharp"
    }
   ]
  }
 },
 "nbformat": 4,
 "nbformat_minor": 5
}