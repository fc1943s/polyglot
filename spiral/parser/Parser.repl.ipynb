{
 "cells": [
  {
   "cell_type": "code",
   "execution_count": null,
   "metadata": {
    "dotnet_repl_cellExecutionStartTime": "2023-07-09T17:34:08.3689812-03:00",
    "dotnet_repl_cellExecutionEndTime": "2023-07-09T17:34:17.4202867-03:00",
    "dotnet_interactive": {
     "language": "fsharp"
    },
    "polyglot_notebook": {
     "kernelName": "fsharp"
    }
   },
   "outputs": [
    {
     "data": {
      "text/html": [
       "<div><div></div><div><strong>Installing Packages</strong><ul><li><span>Expecto</span></li></ul></div><div></div></div>"
      ]
     },
     "metadata": {},
     "output_type": "display_data"
    },
    {
     "data": {
      "text/html": [
       "<div><div></div><div><strong>Installing Packages</strong><ul><li><span>Expecto.</span></li></ul></div><div></div></div>"
      ]
     },
     "metadata": {},
     "output_type": "display_data"
    },
    {
     "data": {
      "text/html": [
       "<div><div></div><div><strong>Installing Packages</strong><ul><li><span>Expecto..</span></li></ul></div><div></div></div>"
      ]
     },
     "metadata": {},
     "output_type": "display_data"
    },
    {
     "data": {
      "text/html": [
       "<div><div></div><div><strong>Installing Packages</strong><ul><li><span>Expecto...</span></li></ul></div><div></div></div>"
      ]
     },
     "metadata": {},
     "output_type": "display_data"
    },
    {
     "data": {
      "text/html": [
       "<div><div></div><div><strong>Installing Packages</strong><ul><li><span>Expecto....</span></li></ul></div><div></div></div>"
      ]
     },
     "metadata": {},
     "output_type": "display_data"
    },
    {
     "data": {
      "text/html": [
       "<div><div></div><div><strong>Installing Packages</strong><ul><li><span>Expecto.....</span></li></ul></div><div></div></div>"
      ]
     },
     "metadata": {},
     "output_type": "display_data"
    },
    {
     "data": {
      "text/html": [
       "<div><div></div><div><strong>Installing Packages</strong><ul><li><span>Expecto......</span></li></ul></div><div></div></div>"
      ]
     },
     "metadata": {},
     "output_type": "display_data"
    },
    {
     "data": {
      "text/html": [
       "<div><div></div><div><strong>Installing Packages</strong><ul><li><span>Expecto.......</span></li></ul></div><div></div></div>"
      ]
     },
     "metadata": {},
     "output_type": "display_data"
    },
    {
     "data": {
      "text/html": [
       "<div><div></div><div></div><div><strong>Installed Packages</strong><ul><li><span>Expecto, 10.1.0</span></li></ul></div></div>"
      ]
     },
     "metadata": {},
     "output_type": "display_data"
    }
   ],
   "source": [
    "#!import Testing.dib"
   ]
  },
  {
   "cell_type": "markdown",
   "metadata": {
    "dotnet_repl_cellExecutionStartTime": "2023-07-09T17:34:17.4211329-03:00",
    "dotnet_repl_cellExecutionEndTime": "2023-07-09T17:34:17.4246556-03:00"
   },
   "source": [
    "## Parser"
   ]
  },
  {
   "cell_type": "code",
   "execution_count": null,
   "metadata": {
    "dotnet_repl_cellExecutionStartTime": "2023-07-09T17:34:17.4247976-03:00",
    "dotnet_repl_cellExecutionEndTime": "2023-07-09T17:34:17.4742195-03:00",
    "dotnet_interactive": {
     "language": "fsharp"
    },
    "polyglot_notebook": {
     "kernelName": "fsharp"
    }
   },
   "outputs": [],
   "source": [
    "open System"
   ]
  },
  {
   "cell_type": "markdown",
   "metadata": {
    "dotnet_repl_cellExecutionStartTime": "2023-07-09T17:34:17.4742456-03:00",
    "dotnet_repl_cellExecutionEndTime": "2023-07-09T17:34:17.4773647-03:00"
   },
   "source": [
    "### TextInput"
   ]
  },
  {
   "cell_type": "code",
   "execution_count": null,
   "metadata": {
    "dotnet_repl_cellExecutionStartTime": "2023-07-09T17:34:17.477388-03:00",
    "dotnet_repl_cellExecutionEndTime": "2023-07-09T17:34:17.5825114-03:00",
    "dotnet_interactive": {
     "language": "fsharp"
    },
    "polyglot_notebook": {
     "kernelName": "fsharp"
    }
   },
   "outputs": [],
   "source": [
    "type Position =\n",
    "    {\n",
    "        line : int\n",
    "        column : int\n",
    "    }"
   ]
  },
  {
   "cell_type": "code",
   "execution_count": null,
   "metadata": {
    "dotnet_repl_cellExecutionStartTime": "2023-07-09T17:34:17.5825427-03:00",
    "dotnet_repl_cellExecutionEndTime": "2023-07-09T17:34:17.6239429-03:00",
    "dotnet_interactive": {
     "language": "fsharp"
    },
    "polyglot_notebook": {
     "kernelName": "fsharp"
    }
   },
   "outputs": [],
   "source": [
    "let initialPos = { line = 0; column = 0 }"
   ]
  },
  {
   "cell_type": "code",
   "execution_count": null,
   "metadata": {
    "dotnet_repl_cellExecutionStartTime": "2023-07-09T17:34:17.6239782-03:00",
    "dotnet_repl_cellExecutionEndTime": "2023-07-09T17:34:17.7135307-03:00",
    "dotnet_interactive": {
     "language": "fsharp"
    },
    "polyglot_notebook": {
     "kernelName": "fsharp"
    }
   },
   "outputs": [],
   "source": [
    "let incrCol (pos : Position) =\n",
    "    { pos with column = pos.column + 1 }"
   ]
  },
  {
   "cell_type": "code",
   "execution_count": null,
   "metadata": {
    "dotnet_repl_cellExecutionStartTime": "2023-07-09T17:34:17.713552-03:00",
    "dotnet_repl_cellExecutionEndTime": "2023-07-09T17:34:17.7222351-03:00",
    "dotnet_interactive": {
     "language": "fsharp"
    },
    "polyglot_notebook": {
     "kernelName": "fsharp"
    }
   },
   "outputs": [],
   "source": [
    "let incrLine pos =\n",
    "    { line = pos.line + 1; column = 0 }"
   ]
  },
  {
   "cell_type": "code",
   "execution_count": null,
   "metadata": {
    "dotnet_repl_cellExecutionStartTime": "2023-07-09T17:34:17.72226-03:00",
    "dotnet_repl_cellExecutionEndTime": "2023-07-09T17:34:17.7564792-03:00",
    "dotnet_interactive": {
     "language": "fsharp"
    },
    "polyglot_notebook": {
     "kernelName": "fsharp"
    }
   },
   "outputs": [],
   "source": [
    "type InputState =\n",
    "    {\n",
    "        lines : string[]\n",
    "        position : Position\n",
    "    }"
   ]
  },
  {
   "cell_type": "code",
   "execution_count": null,
   "metadata": {
    "dotnet_repl_cellExecutionStartTime": "2023-07-09T17:34:17.7565092-03:00",
    "dotnet_repl_cellExecutionEndTime": "2023-07-09T17:34:17.7878217-03:00",
    "dotnet_interactive": {
     "language": "fsharp"
    },
    "polyglot_notebook": {
     "kernelName": "fsharp"
    }
   },
   "outputs": [],
   "source": [
    "let fromStr str =\n",
    "    if String.IsNullOrEmpty str then\n",
    "        { lines = [||]; position = initialPos }\n",
    "    else\n",
    "        let separators = [| \"\\r\\n\"; \"\\n\" |]\n",
    "        let lines = str.Split (separators, StringSplitOptions.None)\n",
    "        { lines = lines; position = initialPos }"
   ]
  },
  {
   "cell_type": "code",
   "execution_count": null,
   "metadata": {
    "dotnet_repl_cellExecutionStartTime": "2023-07-09T17:34:17.7878467-03:00",
    "dotnet_repl_cellExecutionEndTime": "2023-07-09T17:34:17.850738-03:00",
    "dotnet_interactive": {
     "language": "fsharp"
    },
    "polyglot_notebook": {
     "kernelName": "fsharp"
    }
   },
   "outputs": [
    {
     "name": "stdout",
     "output_type": "stream",
     "text": [
      "InputState\r\n",
      "      lines: [  ]\r\n",
      "      position: Position\r\n",
      "        line: 0\r\n",
      "        column: 0\r\n"
     ]
    }
   ],
   "source": [
    "//// test\n",
    "\n",
    "fromStr \"\" |> _equal {\n",
    "    lines = [||]\n",
    "    position = { line = 0; column = 0 }\n",
    "}"
   ]
  },
  {
   "cell_type": "code",
   "execution_count": null,
   "metadata": {
    "dotnet_repl_cellExecutionStartTime": "2023-07-09T17:34:17.8507739-03:00",
    "dotnet_repl_cellExecutionEndTime": "2023-07-09T17:34:17.8714694-03:00",
    "dotnet_interactive": {
     "language": "fsharp"
    },
    "polyglot_notebook": {
     "kernelName": "fsharp"
    }
   },
   "outputs": [
    {
     "name": "stdout",
     "output_type": "stream",
     "text": [
      "InputState\r\n",
      "      lines: [ Hello ,  World ]\r\n",
      "      position: Position\r\n",
      "        line: 0\r\n",
      "        column: 0\r\n"
     ]
    }
   ],
   "source": [
    "//// test\n",
    "\n",
    "fromStr \"Hello \\n World\" |> _equal {\n",
    "    lines = [| \"Hello \"; \" World\" |]\n",
    "    position = { line = 0; column = 0 }\n",
    "}"
   ]
  },
  {
   "cell_type": "code",
   "execution_count": null,
   "metadata": {
    "dotnet_repl_cellExecutionStartTime": "2023-07-09T17:34:17.8715162-03:00",
    "dotnet_repl_cellExecutionEndTime": "2023-07-09T17:34:17.9378526-03:00",
    "dotnet_interactive": {
     "language": "fsharp"
    },
    "polyglot_notebook": {
     "kernelName": "fsharp"
    }
   },
   "outputs": [],
   "source": [
    "let currentLine inputState =\n",
    "    let linePos = inputState.position.line\n",
    "    if linePos < inputState.lines.Length then\n",
    "        inputState.lines.[linePos]\n",
    "    else\n",
    "        \"end of file\""
   ]
  },
  {
   "cell_type": "code",
   "execution_count": null,
   "metadata": {
    "dotnet_repl_cellExecutionStartTime": "2023-07-09T17:34:17.9378777-03:00",
    "dotnet_repl_cellExecutionEndTime": "2023-07-09T17:34:17.9966283-03:00",
    "dotnet_interactive": {
     "language": "fsharp"
    },
    "polyglot_notebook": {
     "kernelName": "fsharp"
    }
   },
   "outputs": [],
   "source": [
    "let nextChar input =\n",
    "    let linePos = input.position.line\n",
    "    let colPos = input.position.column\n",
    "\n",
    "    if linePos >= input.lines.Length then\n",
    "        input, None\n",
    "    else\n",
    "        let currentLine = currentLine input\n",
    "        if colPos < currentLine.Length then\n",
    "            let char = currentLine.[colPos]\n",
    "            let newPos = incrCol input.position\n",
    "            let newState = { input with position = newPos }\n",
    "            newState, Some char\n",
    "        else\n",
    "            let char = '\\n'\n",
    "            let newPos = incrLine input.position\n",
    "            let newState = { input with position = newPos }\n",
    "            newState, Some char"
   ]
  },
  {
   "cell_type": "code",
   "execution_count": null,
   "metadata": {
    "dotnet_repl_cellExecutionStartTime": "2023-07-09T17:34:17.9966518-03:00",
    "dotnet_repl_cellExecutionEndTime": "2023-07-09T17:34:18.035605-03:00",
    "dotnet_interactive": {
     "language": "fsharp"
    },
    "polyglot_notebook": {
     "kernelName": "fsharp"
    }
   },
   "outputs": [
    {
     "name": "stdout",
     "output_type": "stream",
     "text": [
      "InputState\r\n",
      "      lines: [ Hello World ]\r\n",
      "      position: Position\r\n",
      "        line: 0\r\n",
      "        column: 1\r\n",
      "FSharpOption<Char>\r\n",
      "      Value: H\r\n"
     ]
    }
   ],
   "source": [
    "//// test\n",
    "\n",
    "let newInput, charOpt = fromStr \"Hello World\" |> nextChar\n",
    "\n",
    "newInput |> _equal {\n",
    "    lines = [| \"Hello World\" |]\n",
    "    position = { line = 0; column = 1 }\n",
    "}\n",
    "charOpt |> _equal (Some 'H')"
   ]
  },
  {
   "cell_type": "code",
   "execution_count": null,
   "metadata": {
    "dotnet_repl_cellExecutionStartTime": "2023-07-09T17:34:18.0356693-03:00",
    "dotnet_repl_cellExecutionEndTime": "2023-07-09T17:34:18.0586414-03:00",
    "dotnet_interactive": {
     "language": "fsharp"
    },
    "polyglot_notebook": {
     "kernelName": "fsharp"
    }
   },
   "outputs": [
    {
     "name": "stdout",
     "output_type": "stream",
     "text": [
      "InputState\r\n",
      "      lines: [ Hello, , World ]\r\n",
      "      position: Position\r\n",
      "        line: 0\r\n",
      "        column: 1\r\n",
      "FSharpOption<Char>\r\n",
      "      Value: H\r\n"
     ]
    }
   ],
   "source": [
    "//// test\n",
    "\n",
    "let newInput, charOpt = fromStr \"Hello\\n\\nWorld\" |> nextChar\n",
    "\n",
    "newInput |> _equal {\n",
    "    lines = [| \"Hello\"; \"\"; \"World\" |]\n",
    "    position = { line = 0; column = 1 }\n",
    "}\n",
    "charOpt |> _equal (Some 'H')"
   ]
  },
  {
   "cell_type": "markdown",
   "metadata": {
    "dotnet_repl_cellExecutionStartTime": "2023-07-09T17:34:18.0587114-03:00",
    "dotnet_repl_cellExecutionEndTime": "2023-07-09T17:34:18.0616782-03:00"
   },
   "source": [
    "### Parser"
   ]
  },
  {
   "cell_type": "code",
   "execution_count": null,
   "metadata": {
    "dotnet_repl_cellExecutionStartTime": "2023-07-09T17:34:18.0617184-03:00",
    "dotnet_repl_cellExecutionEndTime": "2023-07-09T17:34:18.2974554-03:00",
    "dotnet_interactive": {
     "language": "fsharp"
    },
    "polyglot_notebook": {
     "kernelName": "fsharp"
    }
   },
   "outputs": [],
   "source": [
    "type Input = InputState\n",
    "type ParserLabel = string\n",
    "type ParserError = string\n",
    "\n",
    "type ParserPosition =\n",
    "    {\n",
    "        currentLine : string\n",
    "        line : int\n",
    "        column : int\n",
    "    }\n",
    "\n",
    "type ParseResult<'a> =\n",
    "    | Success of 'a\n",
    "    | Failure of ParserLabel * ParserError * ParserPosition\n",
    "\n",
    "type Parser<'a> =\n",
    "    {\n",
    "        parseFn : Input -> ParseResult<'a * Input>\n",
    "        label : ParserLabel\n",
    "    }"
   ]
  },
  {
   "cell_type": "code",
   "execution_count": null,
   "metadata": {
    "dotnet_repl_cellExecutionStartTime": "2023-07-09T17:34:18.2974875-03:00",
    "dotnet_repl_cellExecutionEndTime": "2023-07-09T17:34:18.3516609-03:00",
    "dotnet_interactive": {
     "language": "fsharp"
    },
    "polyglot_notebook": {
     "kernelName": "fsharp"
    }
   },
   "outputs": [],
   "source": [
    "let printResult result =\n",
    "    match result with\n",
    "    | Success (value, input) ->\n",
    "        printfn $\"%A{value}\"\n",
    "    | Failure (label, error, parserPos) ->\n",
    "        let errorLine = parserPos.currentLine\n",
    "        let colPos = parserPos.column\n",
    "        let linePos = parserPos.line\n",
    "        let failureCaret = $\"{' '.ToString().PadLeft colPos}^{error}\"\n",
    "        printfn $\"Line:%i{linePos} Col:%i{colPos} Error parsing %s{label}\\n%s{errorLine}\\n%s{failureCaret}\""
   ]
  },
  {
   "cell_type": "code",
   "execution_count": null,
   "metadata": {
    "dotnet_repl_cellExecutionStartTime": "2023-07-09T17:34:18.3516991-03:00",
    "dotnet_repl_cellExecutionEndTime": "2023-07-09T17:34:18.3815249-03:00",
    "dotnet_interactive": {
     "language": "fsharp"
    },
    "polyglot_notebook": {
     "kernelName": "fsharp"
    }
   },
   "outputs": [],
   "source": [
    "//// ignore\n",
    "\n",
    "let parserEqual (expected : ParseResult<'a>) (actual : ParseResult<'a * Input>) =\n",
    "    match actual, expected with\n",
    "    | Success (_actual, _), Success _expected ->\n",
    "        printResult actual\n",
    "        _actual |> _equal _expected\n",
    "    | Failure (l1, e1, p1), Failure (l2, e2, p2) when l1 = l2 && e1 = e2 && p1 = p2 ->\n",
    "        printResult actual\n",
    "    | _ ->\n",
    "        printfn $\"Actual: {actual}\"\n",
    "        printfn $\"Expected: {expected}\"\n",
    "        failwith \"Parse failed\"\n",
    "    actual"
   ]
  },
  {
   "cell_type": "code",
   "execution_count": null,
   "metadata": {
    "dotnet_repl_cellExecutionStartTime": "2023-07-09T17:34:18.3815674-03:00",
    "dotnet_repl_cellExecutionEndTime": "2023-07-09T17:34:18.3931563-03:00",
    "dotnet_interactive": {
     "language": "fsharp"
    },
    "polyglot_notebook": {
     "kernelName": "fsharp"
    }
   },
   "outputs": [],
   "source": [
    "let runOnInput parser input =\n",
    "    parser.parseFn input"
   ]
  },
  {
   "cell_type": "code",
   "execution_count": null,
   "metadata": {
    "dotnet_repl_cellExecutionStartTime": "2023-07-09T17:34:18.3931953-03:00",
    "dotnet_repl_cellExecutionEndTime": "2023-07-09T17:34:18.4023812-03:00",
    "dotnet_interactive": {
     "language": "fsharp"
    },
    "polyglot_notebook": {
     "kernelName": "fsharp"
    }
   },
   "outputs": [],
   "source": [
    "let run parser inputStr =\n",
    "    runOnInput parser (fromStr inputStr)"
   ]
  },
  {
   "cell_type": "code",
   "execution_count": null,
   "metadata": {
    "dotnet_repl_cellExecutionStartTime": "2023-07-09T17:34:18.4024048-03:00",
    "dotnet_repl_cellExecutionEndTime": "2023-07-09T17:34:18.4120278-03:00",
    "dotnet_interactive": {
     "language": "fsharp"
    },
    "polyglot_notebook": {
     "kernelName": "fsharp"
    }
   },
   "outputs": [],
   "source": [
    "let parserPositionFromInputState (inputState : Input) =\n",
    "    {\n",
    "        currentLine = currentLine inputState\n",
    "        line = inputState.position.line\n",
    "        column = inputState.position.column\n",
    "    }"
   ]
  },
  {
   "cell_type": "code",
   "execution_count": null,
   "metadata": {
    "dotnet_repl_cellExecutionStartTime": "2023-07-09T17:34:18.4120502-03:00",
    "dotnet_repl_cellExecutionEndTime": "2023-07-09T17:34:18.4199417-03:00",
    "dotnet_interactive": {
     "language": "fsharp"
    },
    "polyglot_notebook": {
     "kernelName": "fsharp"
    }
   },
   "outputs": [],
   "source": [
    "let getLabel parser =\n",
    "    parser.label"
   ]
  },
  {
   "cell_type": "code",
   "execution_count": null,
   "metadata": {
    "dotnet_repl_cellExecutionStartTime": "2023-07-09T17:34:18.4199637-03:00",
    "dotnet_repl_cellExecutionEndTime": "2023-07-09T17:34:18.4475113-03:00",
    "dotnet_interactive": {
     "language": "fsharp"
    },
    "polyglot_notebook": {
     "kernelName": "fsharp"
    }
   },
   "outputs": [],
   "source": [
    "let setLabel parser newLabel =\n",
    "    let newInnerFn input =\n",
    "        match parser.parseFn input with\n",
    "        | Success s -> Success s\n",
    "        | Failure (oldLabel, err, pos) -> Failure (newLabel, err, pos)\n",
    "\n",
    "    { parseFn = newInnerFn; label = newLabel }"
   ]
  },
  {
   "cell_type": "code",
   "execution_count": null,
   "metadata": {
    "dotnet_repl_cellExecutionStartTime": "2023-07-09T17:34:18.4475345-03:00",
    "dotnet_repl_cellExecutionEndTime": "2023-07-09T17:34:18.4606258-03:00",
    "dotnet_interactive": {
     "language": "fsharp"
    },
    "polyglot_notebook": {
     "kernelName": "fsharp"
    }
   },
   "outputs": [],
   "source": [
    "let (<?>) = setLabel"
   ]
  },
  {
   "cell_type": "code",
   "execution_count": null,
   "metadata": {
    "dotnet_repl_cellExecutionStartTime": "2023-07-09T17:34:18.4606591-03:00",
    "dotnet_repl_cellExecutionEndTime": "2023-07-09T17:34:18.4817985-03:00",
    "dotnet_interactive": {
     "language": "fsharp"
    },
    "polyglot_notebook": {
     "kernelName": "fsharp"
    }
   },
   "outputs": [],
   "source": [
    "let satisfy predicate label =\n",
    "    let innerFn input =\n",
    "        let remainingInput, charOpt = nextChar input\n",
    "        match charOpt with\n",
    "        | None ->\n",
    "            let err = \"No more input\"\n",
    "            let pos = parserPositionFromInputState input\n",
    "            Failure (label, err, pos)\n",
    "        | Some first ->\n",
    "            if predicate first then\n",
    "                Success (first, remainingInput)\n",
    "            else\n",
    "                let err = $\"Unexpected '%c{first}'\"\n",
    "                let pos = parserPositionFromInputState input\n",
    "                Failure (label, err, pos)\n",
    "\n",
    "    { parseFn = innerFn; label = label }"
   ]
  },
  {
   "cell_type": "code",
   "execution_count": null,
   "metadata": {
    "dotnet_repl_cellExecutionStartTime": "2023-07-09T17:34:18.4818205-03:00",
    "dotnet_repl_cellExecutionEndTime": "2023-07-09T17:34:18.5171119-03:00",
    "dotnet_interactive": {
     "language": "fsharp"
    },
    "polyglot_notebook": {
     "kernelName": "fsharp"
    }
   },
   "outputs": [
    {
     "name": "stdout",
     "output_type": "stream",
     "text": [
      "Success\r\n",
      "      Item:       - H\r\n",
      "      - InputState\r\n",
      "          lines: [ Hello ]\r\n",
      "          position: Position\r\n",
      "            line: 0\r\n",
      "            column: 1\r\n"
     ]
    }
   ],
   "source": [
    "//// test\n",
    "\n",
    "let input = fromStr \"Hello\"\n",
    "let parser = satisfy (fun c -> c = 'H') \"H\"\n",
    "runOnInput parser input |> _equal (\n",
    "    Success (\n",
    "        'H',\n",
    "        {\n",
    "            lines = [| \"Hello\" |]\n",
    "            position = { line = 0; column = 1 }\n",
    "        }\n",
    "    )\n",
    ")"
   ]
  },
  {
   "cell_type": "code",
   "execution_count": null,
   "metadata": {
    "dotnet_repl_cellExecutionStartTime": "2023-07-09T17:34:18.517151-03:00",
    "dotnet_repl_cellExecutionEndTime": "2023-07-09T17:34:18.5587863-03:00",
    "dotnet_interactive": {
     "language": "fsharp"
    },
    "polyglot_notebook": {
     "kernelName": "fsharp"
    }
   },
   "outputs": [
    {
     "name": "stdout",
     "output_type": "stream",
     "text": [
      "Failure\r\n",
      "      Item1: H\r\n",
      "      Item2: Unexpected 'W'\r\n",
      "      Item3: ParserPosition\r\n",
      "        currentLine: World\r\n",
      "        line: 0\r\n",
      "        column: 0\r\n"
     ]
    }
   ],
   "source": [
    "//// test\n",
    "\n",
    "let input = fromStr \"World\"\n",
    "let parser = satisfy (fun c -> c = 'H') \"H\"\n",
    "runOnInput parser input |> _equal (\n",
    "    Failure (\n",
    "        \"H\",\n",
    "        \"Unexpected 'W'\",\n",
    "        {\n",
    "            currentLine = \"World\"\n",
    "            line = 0\n",
    "            column = 0\n",
    "        }\n",
    "    )\n",
    ")"
   ]
  },
  {
   "cell_type": "code",
   "execution_count": null,
   "metadata": {
    "dotnet_repl_cellExecutionStartTime": "2023-07-09T17:34:18.558832-03:00",
    "dotnet_repl_cellExecutionEndTime": "2023-07-09T17:34:18.5767585-03:00",
    "dotnet_interactive": {
     "language": "fsharp"
    },
    "polyglot_notebook": {
     "kernelName": "fsharp"
    }
   },
   "outputs": [],
   "source": [
    "let bindP f p =\n",
    "    let label = \"unknown\"\n",
    "    let innerFn input =\n",
    "        let result1 = runOnInput p input\n",
    "        match result1 with\n",
    "        | Failure (label, err, pos) ->\n",
    "            Failure (label, err, pos)\n",
    "        | Success (value1, remainingInput) ->\n",
    "            let p2 = f value1\n",
    "            runOnInput p2 remainingInput\n",
    "\n",
    "    { parseFn = innerFn; label = label }"
   ]
  },
  {
   "cell_type": "code",
   "execution_count": null,
   "metadata": {
    "dotnet_repl_cellExecutionStartTime": "2023-07-09T17:34:18.5767907-03:00",
    "dotnet_repl_cellExecutionEndTime": "2023-07-09T17:34:18.5852222-03:00",
    "dotnet_interactive": {
     "language": "fsharp"
    },
    "polyglot_notebook": {
     "kernelName": "fsharp"
    }
   },
   "outputs": [],
   "source": [
    "let (>>=) p f = bindP f p"
   ]
  },
  {
   "cell_type": "code",
   "execution_count": null,
   "metadata": {
    "dotnet_repl_cellExecutionStartTime": "2023-07-09T17:34:18.585245-03:00",
    "dotnet_repl_cellExecutionEndTime": "2023-07-09T17:34:18.612075-03:00",
    "dotnet_interactive": {
     "language": "fsharp"
    },
    "polyglot_notebook": {
     "kernelName": "fsharp"
    }
   },
   "outputs": [
    {
     "name": "stdout",
     "output_type": "stream",
     "text": [
      "Success\r\n",
      "      Item:       - e\r\n",
      "      - InputState\r\n",
      "          lines: [ Hello ]\r\n",
      "          position: Position\r\n",
      "            line: 0\r\n",
      "            column: 2\r\n"
     ]
    }
   ],
   "source": [
    "//// test\n",
    "\n",
    "let input = fromStr \"Hello\"\n",
    "let parser = satisfy (fun c -> c = 'H') \"H\"\n",
    "let parser2 = parser >>= fun c -> satisfy (fun c -> c = 'e') \"e\"\n",
    "runOnInput parser2 input |> _equal (\n",
    "    Success (\n",
    "        'e',\n",
    "        {\n",
    "            lines = [| \"Hello\" |]\n",
    "            position = { line = 0; column = 2 }\n",
    "        }\n",
    "    )\n",
    ")"
   ]
  },
  {
   "cell_type": "code",
   "execution_count": null,
   "metadata": {
    "dotnet_repl_cellExecutionStartTime": "2023-07-09T17:34:18.6121185-03:00",
    "dotnet_repl_cellExecutionEndTime": "2023-07-09T17:34:18.6448143-03:00",
    "dotnet_interactive": {
     "language": "fsharp"
    },
    "polyglot_notebook": {
     "kernelName": "fsharp"
    }
   },
   "outputs": [
    {
     "name": "stdout",
     "output_type": "stream",
     "text": [
      "Failure\r\n",
      "      Item1: e\r\n",
      "      Item2: Unexpected 'o'\r\n",
      "      Item3: ParserPosition\r\n",
      "        currentLine: World\r\n",
      "        line: 0\r\n",
      "        column: 1\r\n"
     ]
    }
   ],
   "source": [
    "//// test\n",
    "\n",
    "let input = fromStr \"World\"\n",
    "let parser = satisfy (fun c -> c = 'W') \"W\"\n",
    "let parser2 = parser >>= fun c -> satisfy (fun c -> c = 'e') \"e\"\n",
    "runOnInput parser2 input |> _equal (\n",
    "    Failure (\n",
    "        \"e\",\n",
    "        \"Unexpected 'o'\",\n",
    "        {\n",
    "            currentLine = \"World\"\n",
    "            line = 0\n",
    "            column = 1\n",
    "        }\n",
    "    )\n",
    ")"
   ]
  },
  {
   "cell_type": "code",
   "execution_count": null,
   "metadata": {
    "dotnet_repl_cellExecutionStartTime": "2023-07-09T17:34:18.644847-03:00",
    "dotnet_repl_cellExecutionEndTime": "2023-07-09T17:34:18.6699479-03:00",
    "dotnet_interactive": {
     "language": "fsharp"
    },
    "polyglot_notebook": {
     "kernelName": "fsharp"
    }
   },
   "outputs": [],
   "source": [
    "let returnP x =\n",
    "    let label = $\"%A{x}\"\n",
    "    let innerFn input =\n",
    "        Success (x, input)\n",
    "    \n",
    "    { parseFn = innerFn; label = label }"
   ]
  },
  {
   "cell_type": "code",
   "execution_count": null,
   "metadata": {
    "dotnet_repl_cellExecutionStartTime": "2023-07-09T17:34:18.6699712-03:00",
    "dotnet_repl_cellExecutionEndTime": "2023-07-09T17:34:18.7037433-03:00",
    "dotnet_interactive": {
     "language": "fsharp"
    },
    "polyglot_notebook": {
     "kernelName": "fsharp"
    }
   },
   "outputs": [
    {
     "name": "stdout",
     "output_type": "stream",
     "text": [
      "Success\r\n",
      "      Item:       - Hello\r\n",
      "      - InputState\r\n",
      "          lines: [ Hello ]\r\n",
      "          position: Position\r\n",
      "            line: 0\r\n",
      "            column: 0\r\n"
     ]
    }
   ],
   "source": [
    "//// test\n",
    "\n",
    "let input = fromStr \"Hello\"\n",
    "let parser = returnP \"Hello\"\n",
    "runOnInput parser input |> _equal (\n",
    "    Success (\n",
    "        \"Hello\",\n",
    "        {\n",
    "            lines = [| \"Hello\" |]\n",
    "            position = { line = 0; column = 0 }\n",
    "        }\n",
    "    )\n",
    ")"
   ]
  },
  {
   "cell_type": "code",
   "execution_count": null,
   "metadata": {
    "dotnet_repl_cellExecutionStartTime": "2023-07-09T17:34:18.7037697-03:00",
    "dotnet_repl_cellExecutionEndTime": "2023-07-09T17:34:18.7174559-03:00",
    "dotnet_interactive": {
     "language": "fsharp"
    },
    "polyglot_notebook": {
     "kernelName": "fsharp"
    }
   },
   "outputs": [],
   "source": [
    "let mapP f =\n",
    "    bindP (f >> returnP)"
   ]
  },
  {
   "cell_type": "code",
   "execution_count": null,
   "metadata": {
    "dotnet_repl_cellExecutionStartTime": "2023-07-09T17:34:18.7174796-03:00",
    "dotnet_repl_cellExecutionEndTime": "2023-07-09T17:34:18.7278659-03:00",
    "dotnet_interactive": {
     "language": "fsharp"
    },
    "polyglot_notebook": {
     "kernelName": "fsharp"
    }
   },
   "outputs": [],
   "source": [
    "let (<!>) = mapP"
   ]
  },
  {
   "cell_type": "code",
   "execution_count": null,
   "metadata": {
    "dotnet_repl_cellExecutionStartTime": "2023-07-09T17:34:18.7278984-03:00",
    "dotnet_repl_cellExecutionEndTime": "2023-07-09T17:34:18.7412784-03:00",
    "dotnet_interactive": {
     "language": "fsharp"
    },
    "polyglot_notebook": {
     "kernelName": "fsharp"
    }
   },
   "outputs": [],
   "source": [
    "let (|>>) x f = f <!> x"
   ]
  },
  {
   "cell_type": "code",
   "execution_count": null,
   "metadata": {
    "dotnet_repl_cellExecutionStartTime": "2023-07-09T17:34:18.7413109-03:00",
    "dotnet_repl_cellExecutionEndTime": "2023-07-09T17:34:18.7743268-03:00",
    "dotnet_interactive": {
     "language": "fsharp"
    },
    "polyglot_notebook": {
     "kernelName": "fsharp"
    }
   },
   "outputs": [
    {
     "name": "stdout",
     "output_type": "stream",
     "text": [
      "Success\r\n",
      "      Item:       - H\r\n",
      "      - InputState\r\n",
      "          lines: [ Hello ]\r\n",
      "          position: Position\r\n",
      "            line: 0\r\n",
      "            column: 1\r\n"
     ]
    }
   ],
   "source": [
    "//// test\n",
    "\n",
    "let input = fromStr \"Hello\"\n",
    "let parser = satisfy (fun c -> c = 'H') \"H\"\n",
    "let parser2 = parser |>> fun c -> c.ToString()\n",
    "runOnInput parser2 input |> _equal (\n",
    "    Success (\n",
    "        \"H\",\n",
    "        {\n",
    "            lines = [| \"Hello\" |]\n",
    "            position = { line = 0; column = 1 }\n",
    "        }\n",
    "    )\n",
    ")"
   ]
  },
  {
   "cell_type": "code",
   "execution_count": null,
   "metadata": {
    "dotnet_repl_cellExecutionStartTime": "2023-07-09T17:34:18.7743601-03:00",
    "dotnet_repl_cellExecutionEndTime": "2023-07-09T17:34:18.789708-03:00",
    "dotnet_interactive": {
     "language": "fsharp"
    },
    "polyglot_notebook": {
     "kernelName": "fsharp"
    }
   },
   "outputs": [],
   "source": [
    "let applyP fP xP =\n",
    "    fP >>=\n",
    "        fun f ->\n",
    "            xP >>=\n",
    "                fun x ->\n",
    "                    returnP (f x)"
   ]
  },
  {
   "cell_type": "code",
   "execution_count": null,
   "metadata": {
    "dotnet_repl_cellExecutionStartTime": "2023-07-09T17:34:18.7897407-03:00",
    "dotnet_repl_cellExecutionEndTime": "2023-07-09T17:34:18.8014089-03:00",
    "dotnet_interactive": {
     "language": "fsharp"
    },
    "polyglot_notebook": {
     "kernelName": "fsharp"
    }
   },
   "outputs": [],
   "source": [
    "let (<*>) = applyP"
   ]
  },
  {
   "cell_type": "code",
   "execution_count": null,
   "metadata": {
    "dotnet_repl_cellExecutionStartTime": "2023-07-09T17:34:18.8014332-03:00",
    "dotnet_repl_cellExecutionEndTime": "2023-07-09T17:34:18.8154979-03:00",
    "dotnet_interactive": {
     "language": "fsharp"
    },
    "polyglot_notebook": {
     "kernelName": "fsharp"
    }
   },
   "outputs": [],
   "source": [
    "let lift2 f xP yP =\n",
    "    returnP f <*> xP <*> yP"
   ]
  },
  {
   "cell_type": "code",
   "execution_count": null,
   "metadata": {
    "dotnet_repl_cellExecutionStartTime": "2023-07-09T17:34:18.8155243-03:00",
    "dotnet_repl_cellExecutionEndTime": "2023-07-09T17:34:18.8622795-03:00",
    "dotnet_interactive": {
     "language": "fsharp"
    },
    "polyglot_notebook": {
     "kernelName": "fsharp"
    }
   },
   "outputs": [
    {
     "name": "stdout",
     "output_type": "stream",
     "text": [
      "Success\r\n",
      "      Item:       - He\r\n",
      "      - InputState\r\n",
      "          lines: [ Hello ]\r\n",
      "          position: Position\r\n",
      "            line: 0\r\n",
      "            column: 2\r\n"
     ]
    }
   ],
   "source": [
    "//// test\n",
    "\n",
    "let input = fromStr \"Hello\"\n",
    "let parser = satisfy (fun c -> c = 'H') \"H\"\n",
    "let parser2 = satisfy (fun c -> c = 'e') \"e\"\n",
    "let parser3 = lift2 (fun c1 c2 -> c1.ToString () + c2.ToString ()) parser parser2\n",
    "runOnInput parser3 input |> _equal (\n",
    "    Success (\n",
    "        \"He\",\n",
    "        {\n",
    "            lines = [| \"Hello\" |]\n",
    "            position = { line = 0; column = 2 }\n",
    "        }\n",
    "    )\n",
    ")"
   ]
  },
  {
   "cell_type": "code",
   "execution_count": null,
   "metadata": {
    "dotnet_repl_cellExecutionStartTime": "2023-07-09T17:34:18.8623093-03:00",
    "dotnet_repl_cellExecutionEndTime": "2023-07-09T17:34:18.8792644-03:00",
    "dotnet_interactive": {
     "language": "fsharp"
    },
    "polyglot_notebook": {
     "kernelName": "fsharp"
    }
   },
   "outputs": [],
   "source": [
    "let andThen p1 p2 =\n",
    "    p1 >>=\n",
    "        fun p1Result ->\n",
    "            p2 >>=\n",
    "                fun p2Result ->\n",
    "                    returnP (p1Result, p2Result)\n",
    "    <?> $\"{getLabel p1} andThen {getLabel p2}\""
   ]
  },
  {
   "cell_type": "code",
   "execution_count": null,
   "metadata": {
    "dotnet_repl_cellExecutionStartTime": "2023-07-09T17:34:18.8792961-03:00",
    "dotnet_repl_cellExecutionEndTime": "2023-07-09T17:34:18.8890327-03:00",
    "dotnet_interactive": {
     "language": "fsharp"
    },
    "polyglot_notebook": {
     "kernelName": "fsharp"
    }
   },
   "outputs": [],
   "source": [
    "let (.>>.) = andThen"
   ]
  },
  {
   "cell_type": "code",
   "execution_count": null,
   "metadata": {
    "dotnet_repl_cellExecutionStartTime": "2023-07-09T17:34:18.8890649-03:00",
    "dotnet_repl_cellExecutionEndTime": "2023-07-09T17:34:18.9398536-03:00",
    "dotnet_interactive": {
     "language": "fsharp"
    },
    "polyglot_notebook": {
     "kernelName": "fsharp"
    }
   },
   "outputs": [
    {
     "name": "stdout",
     "output_type": "stream",
     "text": [
      "Success\r\n",
      "      Item:       - ( H, e )\r\n",
      "      - InputState\r\n",
      "          lines: [ Hello ]\r\n",
      "          position: Position\r\n",
      "            line: 0\r\n",
      "            column: 2\r\n"
     ]
    }
   ],
   "source": [
    "//// test\n",
    "\n",
    "let input = fromStr \"Hello\"\n",
    "let parser = satisfy (fun c -> c = 'H') \"H\"\n",
    "let parser2 = satisfy (fun c -> c = 'e') \"e\"\n",
    "let parser3 = parser .>>. parser2\n",
    "runOnInput parser3 input |> _equal (\n",
    "    Success (\n",
    "        ('H', 'e'),\n",
    "        {\n",
    "            lines = [| \"Hello\" |]\n",
    "            position = { line = 0; column = 2 }\n",
    "        }\n",
    "    )\n",
    ")"
   ]
  },
  {
   "cell_type": "code",
   "execution_count": null,
   "metadata": {
    "dotnet_repl_cellExecutionStartTime": "2023-07-09T17:34:18.9398951-03:00",
    "dotnet_repl_cellExecutionEndTime": "2023-07-09T17:34:18.9616637-03:00",
    "dotnet_interactive": {
     "language": "fsharp"
    },
    "polyglot_notebook": {
     "kernelName": "fsharp"
    }
   },
   "outputs": [],
   "source": [
    "let orElse p1 p2 =\n",
    "    let label = $\"{getLabel p1} orElse {getLabel p2}\"\n",
    "    let innerFn input =\n",
    "        let result1 = runOnInput p1 input\n",
    "\n",
    "        match result1 with\n",
    "        | Success result -> result1\n",
    "        | Failure _ -> runOnInput p2 input\n",
    "\n",
    "    { parseFn = innerFn; label = label }"
   ]
  },
  {
   "cell_type": "code",
   "execution_count": null,
   "metadata": {
    "dotnet_repl_cellExecutionStartTime": "2023-07-09T17:34:18.9616861-03:00",
    "dotnet_repl_cellExecutionEndTime": "2023-07-09T17:34:18.9705322-03:00",
    "dotnet_interactive": {
     "language": "fsharp"
    },
    "polyglot_notebook": {
     "kernelName": "fsharp"
    }
   },
   "outputs": [],
   "source": [
    "let (<|>) = orElse"
   ]
  },
  {
   "cell_type": "code",
   "execution_count": null,
   "metadata": {
    "dotnet_repl_cellExecutionStartTime": "2023-07-09T17:34:18.9705629-03:00",
    "dotnet_repl_cellExecutionEndTime": "2023-07-09T17:34:18.9998465-03:00",
    "dotnet_interactive": {
     "language": "fsharp"
    },
    "polyglot_notebook": {
     "kernelName": "fsharp"
    }
   },
   "outputs": [
    {
     "name": "stdout",
     "output_type": "stream",
     "text": [
      "Success\r\n",
      "      Item:       - h\r\n",
      "      - InputState\r\n",
      "          lines: [ hello ]\r\n",
      "          position: Position\r\n",
      "            line: 0\r\n",
      "            column: 1\r\n"
     ]
    }
   ],
   "source": [
    "//// test\n",
    "\n",
    "let input = fromStr \"hello\"\n",
    "let parser = satisfy (fun c -> c = 'H') \"H\"\n",
    "let parser2 = satisfy (fun c -> c = 'h') \"h\"\n",
    "let parser3 = parser <|> parser2\n",
    "runOnInput parser3 input |> _equal (\n",
    "    Success (\n",
    "        'h',\n",
    "        {\n",
    "            lines = [| \"hello\" |]\n",
    "            position = { line = 0; column = 1 }\n",
    "        }\n",
    "    )\n",
    ")"
   ]
  },
  {
   "cell_type": "code",
   "execution_count": null,
   "metadata": {
    "dotnet_repl_cellExecutionStartTime": "2023-07-09T17:34:18.9998872-03:00",
    "dotnet_repl_cellExecutionEndTime": "2023-07-09T17:34:19.0123629-03:00",
    "dotnet_interactive": {
     "language": "fsharp"
    },
    "polyglot_notebook": {
     "kernelName": "fsharp"
    }
   },
   "outputs": [],
   "source": [
    "let choice listOfParsers =\n",
    "    listOfParsers |> List.reduce (<|>)"
   ]
  },
  {
   "cell_type": "code",
   "execution_count": null,
   "metadata": {
    "dotnet_repl_cellExecutionStartTime": "2023-07-09T17:34:19.0123941-03:00",
    "dotnet_repl_cellExecutionEndTime": "2023-07-09T17:34:19.0440172-03:00",
    "dotnet_interactive": {
     "language": "fsharp"
    },
    "polyglot_notebook": {
     "kernelName": "fsharp"
    }
   },
   "outputs": [
    {
     "name": "stdout",
     "output_type": "stream",
     "text": [
      "Success\r\n",
      "      Item:       - h\r\n",
      "      - InputState\r\n",
      "          lines: [ hello ]\r\n",
      "          position: Position\r\n",
      "            line: 0\r\n",
      "            column: 1\r\n"
     ]
    }
   ],
   "source": [
    "//// test\n",
    "\n",
    "let input = fromStr \"hello\"\n",
    "let parser = satisfy (fun c -> c = 'H') \"H\"\n",
    "let parser2 = satisfy (fun c -> c = 'h') \"h\"\n",
    "let parser3 = choice [parser; parser2]\n",
    "runOnInput parser3 input |> _equal (\n",
    "    Success (\n",
    "        'h',\n",
    "        {\n",
    "            lines = [| \"hello\" |]\n",
    "            position = { line = 0; column = 1 }\n",
    "        }\n",
    "    )\n",
    ")"
   ]
  },
  {
   "cell_type": "code",
   "execution_count": null,
   "metadata": {
    "dotnet_repl_cellExecutionStartTime": "2023-07-09T17:34:19.0440494-03:00",
    "dotnet_repl_cellExecutionEndTime": "2023-07-09T17:34:19.0941919-03:00",
    "dotnet_interactive": {
     "language": "fsharp"
    },
    "polyglot_notebook": {
     "kernelName": "fsharp"
    }
   },
   "outputs": [],
   "source": [
    "let rec sequence parserList =\n",
    "    let cons head tail = head :: tail\n",
    "\n",
    "    let consP = lift2 cons\n",
    "\n",
    "    match parserList with\n",
    "    | [] -> returnP []\n",
    "    | head :: tail -> consP head (sequence tail)"
   ]
  },
  {
   "cell_type": "code",
   "execution_count": null,
   "metadata": {
    "dotnet_repl_cellExecutionStartTime": "2023-07-09T17:34:19.0942148-03:00",
    "dotnet_repl_cellExecutionEndTime": "2023-07-09T17:34:19.1514089-03:00",
    "dotnet_interactive": {
     "language": "fsharp"
    },
    "polyglot_notebook": {
     "kernelName": "fsharp"
    }
   },
   "outputs": [
    {
     "name": "stdout",
     "output_type": "stream",
     "text": [
      "Success\r\n",
      "      Item:       - [ H, e ]\r\n",
      "      - InputState\r\n",
      "          lines: [ Hello ]\r\n",
      "          position: Position\r\n",
      "            line: 0\r\n",
      "            column: 2\r\n"
     ]
    }
   ],
   "source": [
    "//// test\n",
    "\n",
    "let input = fromStr \"Hello\"\n",
    "let parser = satisfy (fun c -> c = 'H') \"H\"\n",
    "let parser2 = satisfy (fun c -> c = 'e') \"e\"\n",
    "let parser3 = sequence [parser; parser2]\n",
    "runOnInput parser3 input |> _equal (\n",
    "    Success (\n",
    "        ['H'; 'e'],\n",
    "        {\n",
    "            lines = [| \"Hello\" |]\n",
    "            position = { line = 0; column = 2 }\n",
    "        }\n",
    "    )\n",
    ")"
   ]
  },
  {
   "cell_type": "code",
   "execution_count": null,
   "metadata": {
    "dotnet_repl_cellExecutionStartTime": "2023-07-09T17:34:19.1514431-03:00",
    "dotnet_repl_cellExecutionEndTime": "2023-07-09T17:34:19.167652-03:00",
    "dotnet_interactive": {
     "language": "fsharp"
    },
    "polyglot_notebook": {
     "kernelName": "fsharp"
    }
   },
   "outputs": [],
   "source": [
    "let rec parseZeroOrMore parser input =\n",
    "    let firstResult = runOnInput parser input\n",
    "    match firstResult with\n",
    "    | Failure (_, _, _) ->\n",
    "        [], input\n",
    "    | Success (firstValue, inputAfterFirstParse) ->\n",
    "        let (subsequentValues, remainingInput) =\n",
    "            parseZeroOrMore parser inputAfterFirstParse\n",
    "        let values = firstValue :: subsequentValues\n",
    "        values, remainingInput"
   ]
  },
  {
   "cell_type": "code",
   "execution_count": null,
   "metadata": {
    "dotnet_repl_cellExecutionStartTime": "2023-07-09T17:34:19.167684-03:00",
    "dotnet_repl_cellExecutionEndTime": "2023-07-09T17:34:19.1869062-03:00",
    "dotnet_interactive": {
     "language": "fsharp"
    },
    "polyglot_notebook": {
     "kernelName": "fsharp"
    }
   },
   "outputs": [],
   "source": [
    "let many parser =\n",
    "    let label = $\"many {getLabel parser}\"\n",
    "    let innerFn input =\n",
    "        Success (parseZeroOrMore parser input)\n",
    "    { parseFn = innerFn; label = label }"
   ]
  },
  {
   "cell_type": "code",
   "execution_count": null,
   "metadata": {
    "dotnet_repl_cellExecutionStartTime": "2023-07-09T17:34:19.1869351-03:00",
    "dotnet_repl_cellExecutionEndTime": "2023-07-09T17:34:19.2150088-03:00",
    "dotnet_interactive": {
     "language": "fsharp"
    },
    "polyglot_notebook": {
     "kernelName": "fsharp"
    }
   },
   "outputs": [
    {
     "name": "stdout",
     "output_type": "stream",
     "text": [
      "Success\r\n",
      "      Item:       - [  ]\r\n",
      "      - InputState\r\n",
      "          lines: [ hello ]\r\n",
      "          position: Position\r\n",
      "            line: 0\r\n",
      "            column: 0\r\n"
     ]
    }
   ],
   "source": [
    "//// test\n",
    "\n",
    "let input = fromStr \"hello\"\n",
    "let parser = satisfy (fun c -> c = 'H') \"H\"\n",
    "let parser2 = many parser\n",
    "runOnInput parser2 input |> _equal (\n",
    "    Success (\n",
    "        [],\n",
    "        {\n",
    "            lines = [| \"hello\" |]\n",
    "            position = { line = 0; column = 0 }\n",
    "        }\n",
    "    )\n",
    ")"
   ]
  },
  {
   "cell_type": "code",
   "execution_count": null,
   "metadata": {
    "dotnet_repl_cellExecutionStartTime": "2023-07-09T17:34:19.2150436-03:00",
    "dotnet_repl_cellExecutionEndTime": "2023-07-09T17:34:19.2366339-03:00",
    "dotnet_interactive": {
     "language": "fsharp"
    },
    "polyglot_notebook": {
     "kernelName": "fsharp"
    }
   },
   "outputs": [],
   "source": [
    "let many1 p =\n",
    "    p >>=\n",
    "        fun head ->\n",
    "            many p >>=\n",
    "                fun tail ->\n",
    "                    returnP (head :: tail)\n",
    "    <?> $\"many1 {getLabel p}\""
   ]
  },
  {
   "cell_type": "code",
   "execution_count": null,
   "metadata": {
    "dotnet_repl_cellExecutionStartTime": "2023-07-09T17:34:19.2366607-03:00",
    "dotnet_repl_cellExecutionEndTime": "2023-07-09T17:34:19.2672129-03:00",
    "dotnet_interactive": {
     "language": "fsharp"
    },
    "polyglot_notebook": {
     "kernelName": "fsharp"
    }
   },
   "outputs": [
    {
     "name": "stdout",
     "output_type": "stream",
     "text": [
      "Failure\r\n",
      "      Item1: many1 H\r\n",
      "      Item2: Unexpected 'h'\r\n",
      "      Item3: ParserPosition\r\n",
      "        currentLine: hello\r\n",
      "        line: 0\r\n",
      "        column: 0\r\n"
     ]
    }
   ],
   "source": [
    "//// test\n",
    "\n",
    "let input = fromStr \"hello\"\n",
    "let parser = satisfy (fun c -> c = 'H') \"H\"\n",
    "let parser2 = many1 parser\n",
    "runOnInput parser2 input |> _equal (\n",
    "    Failure (\n",
    "        \"many1 H\",\n",
    "        \"Unexpected 'h'\",\n",
    "        {\n",
    "            currentLine = \"hello\"\n",
    "            line = 0\n",
    "            column = 0\n",
    "        }\n",
    "    )\n",
    ")"
   ]
  },
  {
   "cell_type": "code",
   "execution_count": null,
   "metadata": {
    "dotnet_repl_cellExecutionStartTime": "2023-07-09T17:34:19.2672479-03:00",
    "dotnet_repl_cellExecutionEndTime": "2023-07-09T17:34:19.3020412-03:00",
    "dotnet_interactive": {
     "language": "fsharp"
    },
    "polyglot_notebook": {
     "kernelName": "fsharp"
    }
   },
   "outputs": [],
   "source": [
    "let opt p =\n",
    "    let some = p |>> Some\n",
    "    let none = returnP None\n",
    "    (some <|> none)\n",
    "    <?> $\"opt {getLabel p}\""
   ]
  },
  {
   "cell_type": "code",
   "execution_count": null,
   "metadata": {
    "dotnet_repl_cellExecutionStartTime": "2023-07-09T17:34:19.3020627-03:00",
    "dotnet_repl_cellExecutionEndTime": "2023-07-09T17:34:19.3363045-03:00",
    "dotnet_interactive": {
     "language": "fsharp"
    },
    "polyglot_notebook": {
     "kernelName": "fsharp"
    }
   },
   "outputs": [
    {
     "name": "stdout",
     "output_type": "stream",
     "text": [
      "Success\r\n",
      "      Item:       - <null>\r\n",
      "      - InputState\r\n",
      "          lines: [ hello ]\r\n",
      "          position: Position\r\n",
      "            line: 0\r\n",
      "            column: 0\r\n"
     ]
    }
   ],
   "source": [
    "//// test\n",
    "\n",
    "let input = fromStr \"hello\"\n",
    "let parser = satisfy (fun c -> c = 'H') \"H\"\n",
    "let parser2 = opt parser\n",
    "runOnInput parser2 input |> _equal (\n",
    "    Success (\n",
    "        None,\n",
    "        {\n",
    "            lines = [| \"hello\" |]\n",
    "            position = { line = 0; column = 0 }\n",
    "        }\n",
    "    )\n",
    ")"
   ]
  },
  {
   "cell_type": "code",
   "execution_count": null,
   "metadata": {
    "dotnet_repl_cellExecutionStartTime": "2023-07-09T17:34:19.3364089-03:00",
    "dotnet_repl_cellExecutionEndTime": "2023-07-09T17:34:19.3490671-03:00",
    "dotnet_interactive": {
     "language": "fsharp"
    },
    "polyglot_notebook": {
     "kernelName": "fsharp"
    }
   },
   "outputs": [],
   "source": [
    "let (.>>) p1 p2 =\n",
    "    p1 .>>. p2\n",
    "    |> mapP fst"
   ]
  },
  {
   "cell_type": "code",
   "execution_count": null,
   "metadata": {
    "dotnet_repl_cellExecutionStartTime": "2023-07-09T17:34:19.3491021-03:00",
    "dotnet_repl_cellExecutionEndTime": "2023-07-09T17:34:19.361583-03:00",
    "dotnet_interactive": {
     "language": "fsharp"
    },
    "polyglot_notebook": {
     "kernelName": "fsharp"
    }
   },
   "outputs": [],
   "source": [
    "let (>>.) p1 p2 =\n",
    "    p1 .>>. p2\n",
    "    |> mapP snd"
   ]
  },
  {
   "cell_type": "code",
   "execution_count": null,
   "metadata": {
    "dotnet_repl_cellExecutionStartTime": "2023-07-09T17:34:19.3616072-03:00",
    "dotnet_repl_cellExecutionEndTime": "2023-07-09T17:34:19.3721685-03:00",
    "dotnet_interactive": {
     "language": "fsharp"
    },
    "polyglot_notebook": {
     "kernelName": "fsharp"
    }
   },
   "outputs": [],
   "source": [
    "let between p1 p2 p3 =\n",
    "    p1 >>. p2 .>> p3"
   ]
  },
  {
   "cell_type": "code",
   "execution_count": null,
   "metadata": {
    "dotnet_repl_cellExecutionStartTime": "2023-07-09T17:34:19.3722106-03:00",
    "dotnet_repl_cellExecutionEndTime": "2023-07-09T17:34:19.4615378-03:00",
    "dotnet_interactive": {
     "language": "fsharp"
    },
    "polyglot_notebook": {
     "kernelName": "fsharp"
    }
   },
   "outputs": [
    {
     "name": "stdout",
     "output_type": "stream",
     "text": [
      "Success\r\n",
      "      Item:       - [ H, e, l, l, o ]\r\n",
      "      - InputState\r\n",
      "          lines: [ [Hello] ]\r\n",
      "          position: Position\r\n",
      "            line: 0\r\n",
      "            column: 7\r\n"
     ]
    }
   ],
   "source": [
    "//// test\n",
    "\n",
    "let input = fromStr \"[Hello]\"\n",
    "let parser =\n",
    "    between\n",
    "        (satisfy (fun c -> c = '[') \"[\")\n",
    "        (many (satisfy (fun c -> ['a'..'z'] @ ['A'..'Z'] |> List.contains c) \"letter\"))\n",
    "        (satisfy (fun c -> c = ']') \"]\")\n",
    "runOnInput parser input |> _equal (\n",
    "    Success (\n",
    "        ['H'; 'e'; 'l'; 'l'; 'o'],\n",
    "        {\n",
    "            lines = [| \"[Hello]\" |]\n",
    "            position = { line = 0; column = 7 }\n",
    "        }\n",
    "    )\n",
    ")"
   ]
  },
  {
   "cell_type": "code",
   "execution_count": null,
   "metadata": {
    "dotnet_repl_cellExecutionStartTime": "2023-07-09T17:34:19.4615683-03:00",
    "dotnet_repl_cellExecutionEndTime": "2023-07-09T17:34:19.4852063-03:00",
    "dotnet_interactive": {
     "language": "fsharp"
    },
    "polyglot_notebook": {
     "kernelName": "fsharp"
    }
   },
   "outputs": [],
   "source": [
    "let sepBy1 p sep =\n",
    "    let sepThenP = sep >>. p\n",
    "    p .>>. many sepThenP\n",
    "    |>> fun (p, pList) -> p :: pList"
   ]
  },
  {
   "cell_type": "code",
   "execution_count": null,
   "metadata": {
    "dotnet_repl_cellExecutionStartTime": "2023-07-09T17:34:19.4852299-03:00",
    "dotnet_repl_cellExecutionEndTime": "2023-07-09T17:34:19.4976007-03:00",
    "dotnet_interactive": {
     "language": "fsharp"
    },
    "polyglot_notebook": {
     "kernelName": "fsharp"
    }
   },
   "outputs": [],
   "source": [
    "let sepBy p sep =\n",
    "    sepBy1 p sep <|> returnP []"
   ]
  },
  {
   "cell_type": "code",
   "execution_count": null,
   "metadata": {
    "dotnet_repl_cellExecutionStartTime": "2023-07-09T17:34:19.4976379-03:00",
    "dotnet_repl_cellExecutionEndTime": "2023-07-09T17:34:19.5676333-03:00",
    "dotnet_interactive": {
     "language": "fsharp"
    },
    "polyglot_notebook": {
     "kernelName": "fsharp"
    }
   },
   "outputs": [
    {
     "name": "stdout",
     "output_type": "stream",
     "text": [
      "Success\r\n",
      "      Item:       - FSharpList<FSharpList<Char>>\r\n",
      "[ H, e, l, l, o ]\r\n",
      "[ W, o, r, l, d, \n",
      " ]\r\n",
      "      - InputState\r\n",
      "          lines: [ Hello,World ]\r\n",
      "          position: Position\r\n",
      "            line: 1\r\n",
      "            column: 0\r\n"
     ]
    }
   ],
   "source": [
    "//// test\n",
    "\n",
    "let input = fromStr \"Hello,World\"\n",
    "let parser = sepBy (many (satisfy (fun c -> c <> ',') \"not comma\")) (satisfy (fun c -> c = ',') \"comma\")\n",
    "runOnInput parser input |> _equal (\n",
    "    Success (\n",
    "        [['H'; 'e'; 'l'; 'l'; 'o']; ['W'; 'o'; 'r'; 'l'; 'd'; '\\n']],\n",
    "        {\n",
    "            lines = [| \"Hello,World\" |]\n",
    "            position = { line = 1; column = 0 }\n",
    "        }\n",
    "    )\n",
    ")"
   ]
  },
  {
   "cell_type": "code",
   "execution_count": null,
   "metadata": {
    "dotnet_repl_cellExecutionStartTime": "2023-07-09T17:34:19.5676589-03:00",
    "dotnet_repl_cellExecutionEndTime": "2023-07-09T17:34:19.5793964-03:00",
    "dotnet_interactive": {
     "language": "fsharp"
    },
    "polyglot_notebook": {
     "kernelName": "fsharp"
    }
   },
   "outputs": [],
   "source": [
    "let pchar charToMatch =\n",
    "    let predicate ch = ch = charToMatch\n",
    "    satisfy predicate $\"%c{charToMatch}\""
   ]
  },
  {
   "cell_type": "code",
   "execution_count": null,
   "metadata": {
    "dotnet_repl_cellExecutionStartTime": "2023-07-09T17:34:19.5794187-03:00",
    "dotnet_repl_cellExecutionEndTime": "2023-07-09T17:34:19.5970082-03:00",
    "dotnet_interactive": {
     "language": "fsharp"
    },
    "polyglot_notebook": {
     "kernelName": "fsharp"
    }
   },
   "outputs": [],
   "source": [
    "let anyOf listOfChars =\n",
    "    listOfChars\n",
    "    |> List.map pchar\n",
    "    |> choice\n",
    "    <?> $\"anyOf %A{listOfChars}\""
   ]
  },
  {
   "cell_type": "code",
   "execution_count": null,
   "metadata": {
    "dotnet_repl_cellExecutionStartTime": "2023-07-09T17:34:19.5970646-03:00",
    "dotnet_repl_cellExecutionEndTime": "2023-07-09T17:34:19.6368353-03:00",
    "dotnet_interactive": {
     "language": "fsharp"
    },
    "polyglot_notebook": {
     "kernelName": "fsharp"
    }
   },
   "outputs": [
    {
     "name": "stdout",
     "output_type": "stream",
     "text": [
      "Success\r\n",
      "      Item:       - [ H, e, l, l, o ]\r\n",
      "      - InputState\r\n",
      "          lines: [ Hello ]\r\n",
      "          position: Position\r\n",
      "            line: 0\r\n",
      "            column: 5\r\n"
     ]
    }
   ],
   "source": [
    "//// test\n",
    "\n",
    "let input = fromStr \"Hello\"\n",
    "let parser = anyOf ['H'; 'e'; 'l'; 'o'] |> many\n",
    "runOnInput parser input |> _equal (\n",
    "    Success (\n",
    "        ['H'; 'e'; 'l'; 'l'; 'o'],\n",
    "        {\n",
    "            lines = [| \"Hello\" |]\n",
    "            position = { line = 0; column = 5 }\n",
    "        }\n",
    "    )\n",
    ")"
   ]
  },
  {
   "cell_type": "code",
   "execution_count": null,
   "metadata": {
    "dotnet_repl_cellExecutionStartTime": "2023-07-09T17:34:19.6368775-03:00",
    "dotnet_repl_cellExecutionEndTime": "2023-07-09T17:34:19.656934-03:00",
    "dotnet_interactive": {
     "language": "fsharp"
    },
    "polyglot_notebook": {
     "kernelName": "fsharp"
    }
   },
   "outputs": [],
   "source": [
    "let charListToStr charList =\n",
    "    charList |> List.toArray |> String"
   ]
  },
  {
   "cell_type": "code",
   "execution_count": null,
   "metadata": {
    "dotnet_repl_cellExecutionStartTime": "2023-07-09T17:34:19.6569663-03:00",
    "dotnet_repl_cellExecutionEndTime": "2023-07-09T17:34:19.6702074-03:00",
    "dotnet_interactive": {
     "language": "fsharp"
    },
    "polyglot_notebook": {
     "kernelName": "fsharp"
    }
   },
   "outputs": [],
   "source": [
    "let manyChars cp =\n",
    "    many cp\n",
    "    |>> charListToStr"
   ]
  },
  {
   "cell_type": "code",
   "execution_count": null,
   "metadata": {
    "dotnet_repl_cellExecutionStartTime": "2023-07-09T17:34:19.6702361-03:00",
    "dotnet_repl_cellExecutionEndTime": "2023-07-09T17:34:19.6831187-03:00",
    "dotnet_interactive": {
     "language": "fsharp"
    },
    "polyglot_notebook": {
     "kernelName": "fsharp"
    }
   },
   "outputs": [],
   "source": [
    "let manyChars1 cp =\n",
    "    many1 cp\n",
    "    |>> charListToStr"
   ]
  },
  {
   "cell_type": "code",
   "execution_count": null,
   "metadata": {
    "dotnet_repl_cellExecutionStartTime": "2023-07-09T17:34:19.6831498-03:00",
    "dotnet_repl_cellExecutionEndTime": "2023-07-09T17:34:19.7139687-03:00",
    "dotnet_interactive": {
     "language": "fsharp"
    },
    "polyglot_notebook": {
     "kernelName": "fsharp"
    }
   },
   "outputs": [
    {
     "name": "stdout",
     "output_type": "stream",
     "text": [
      "Success\r\n",
      "      Item:       - Hello\r\n",
      "      - InputState\r\n",
      "          lines: [ Hello ]\r\n",
      "          position: Position\r\n",
      "            line: 0\r\n",
      "            column: 5\r\n"
     ]
    }
   ],
   "source": [
    "//// test\n",
    "\n",
    "let input = fromStr \"Hello\"\n",
    "let parser = manyChars1 (anyOf ['H'; 'e'; 'l'; 'o'])\n",
    "runOnInput parser input |> _equal (\n",
    "    Success (\n",
    "        \"Hello\",\n",
    "        {\n",
    "            lines = [| \"Hello\" |]\n",
    "            position = { line = 0; column = 5 }\n",
    "        }\n",
    "    )\n",
    ")"
   ]
  },
  {
   "cell_type": "code",
   "execution_count": null,
   "metadata": {
    "dotnet_repl_cellExecutionStartTime": "2023-07-09T17:34:19.7140086-03:00",
    "dotnet_repl_cellExecutionEndTime": "2023-07-09T17:34:19.7357374-03:00",
    "dotnet_interactive": {
     "language": "fsharp"
    },
    "polyglot_notebook": {
     "kernelName": "fsharp"
    }
   },
   "outputs": [],
   "source": [
    "let pstring str =\n",
    "    str\n",
    "    |> List.ofSeq\n",
    "    |> List.map pchar\n",
    "    |> sequence\n",
    "    |> mapP charListToStr\n",
    "    <?> str"
   ]
  },
  {
   "cell_type": "code",
   "execution_count": null,
   "metadata": {
    "dotnet_repl_cellExecutionStartTime": "2023-07-09T17:34:19.7357789-03:00",
    "dotnet_repl_cellExecutionEndTime": "2023-07-09T17:34:19.7574891-03:00",
    "dotnet_interactive": {
     "language": "fsharp"
    },
    "polyglot_notebook": {
     "kernelName": "fsharp"
    }
   },
   "outputs": [
    {
     "name": "stdout",
     "output_type": "stream",
     "text": [
      "Success\r\n",
      "      Item:       - Hello\r\n",
      "      - InputState\r\n",
      "          lines: [ Hello ]\r\n",
      "          position: Position\r\n",
      "            line: 0\r\n",
      "            column: 5\r\n"
     ]
    }
   ],
   "source": [
    "//// test\n",
    "\n",
    "let input = fromStr \"Hello\"\n",
    "let parser = pstring \"Hello\"\n",
    "runOnInput parser input |> _equal (\n",
    "    Success (\n",
    "        \"Hello\",\n",
    "        {\n",
    "            lines = [| \"Hello\" |]\n",
    "            position = { line = 0; column = 5 }\n",
    "        }\n",
    "    )\n",
    ")"
   ]
  },
  {
   "cell_type": "code",
   "execution_count": null,
   "metadata": {
    "dotnet_repl_cellExecutionStartTime": "2023-07-09T17:34:19.7575204-03:00",
    "dotnet_repl_cellExecutionEndTime": "2023-07-09T17:34:19.7698287-03:00",
    "dotnet_interactive": {
     "language": "fsharp"
    },
    "polyglot_notebook": {
     "kernelName": "fsharp"
    }
   },
   "outputs": [],
   "source": [
    "let whitespaceChar =\n",
    "    satisfy Char.IsWhiteSpace \"whitespace\""
   ]
  },
  {
   "cell_type": "code",
   "execution_count": null,
   "metadata": {
    "dotnet_repl_cellExecutionStartTime": "2023-07-09T17:34:19.7698593-03:00",
    "dotnet_repl_cellExecutionEndTime": "2023-07-09T17:34:19.7799705-03:00",
    "dotnet_interactive": {
     "language": "fsharp"
    },
    "polyglot_notebook": {
     "kernelName": "fsharp"
    }
   },
   "outputs": [],
   "source": [
    "let spaces = many whitespaceChar"
   ]
  },
  {
   "cell_type": "code",
   "execution_count": null,
   "metadata": {
    "dotnet_repl_cellExecutionStartTime": "2023-07-09T17:34:19.7799967-03:00",
    "dotnet_repl_cellExecutionEndTime": "2023-07-09T17:34:19.789756-03:00",
    "dotnet_interactive": {
     "language": "fsharp"
    },
    "polyglot_notebook": {
     "kernelName": "fsharp"
    }
   },
   "outputs": [],
   "source": [
    "let spaces1 = many1 whitespaceChar"
   ]
  },
  {
   "cell_type": "code",
   "execution_count": null,
   "metadata": {
    "dotnet_repl_cellExecutionStartTime": "2023-07-09T17:34:19.7897804-03:00",
    "dotnet_repl_cellExecutionEndTime": "2023-07-09T17:34:19.8271222-03:00",
    "dotnet_interactive": {
     "language": "fsharp"
    },
    "polyglot_notebook": {
     "kernelName": "fsharp"
    }
   },
   "outputs": [
    {
     "name": "stdout",
     "output_type": "stream",
     "text": [
      "Success\r\n",
      "      Item:       -         - [  ,   ]\r\n",
      "        - Hello\r\n",
      "      - InputState\r\n",
      "          lines: [   Hello ]\r\n",
      "          position: Position\r\n",
      "            line: 0\r\n",
      "            column: 7\r\n"
     ]
    }
   ],
   "source": [
    "//// test\n",
    "\n",
    "let input = fromStr \"  Hello\"\n",
    "let parser = spaces1 .>>. pstring \"Hello\"\n",
    "runOnInput parser input |> _equal (\n",
    "    Success (\n",
    "        ([' '; ' '], \"Hello\"),\n",
    "        {\n",
    "            lines = [| \"  Hello\" |]\n",
    "            position = { line = 0; column = 7 }\n",
    "        }\n",
    "    )\n",
    ")"
   ]
  },
  {
   "cell_type": "code",
   "execution_count": null,
   "metadata": {
    "dotnet_repl_cellExecutionStartTime": "2023-07-09T17:34:19.8271512-03:00",
    "dotnet_repl_cellExecutionEndTime": "2023-07-09T17:34:19.8406774-03:00",
    "dotnet_interactive": {
     "language": "fsharp"
    },
    "polyglot_notebook": {
     "kernelName": "fsharp"
    }
   },
   "outputs": [],
   "source": [
    "let digitChar =\n",
    "    satisfy Char.IsDigit \"digit\""
   ]
  },
  {
   "cell_type": "code",
   "execution_count": null,
   "metadata": {
    "dotnet_repl_cellExecutionStartTime": "2023-07-09T17:34:19.8407018-03:00",
    "dotnet_repl_cellExecutionEndTime": "2023-07-09T17:34:19.8609475-03:00",
    "dotnet_interactive": {
     "language": "fsharp"
    },
    "polyglot_notebook": {
     "kernelName": "fsharp"
    }
   },
   "outputs": [
    {
     "name": "stdout",
     "output_type": "stream",
     "text": [
      "Failure\r\n",
      "      Item1: digit\r\n",
      "      Item2: Unexpected 'H'\r\n",
      "      Item3: ParserPosition\r\n",
      "        currentLine: Hello\r\n",
      "        line: 0\r\n",
      "        column: 0\r\n"
     ]
    }
   ],
   "source": [
    "//// test\n",
    "\n",
    "let input = fromStr \"Hello\"\n",
    "let parser = digitChar\n",
    "runOnInput parser input |> _equal (\n",
    "    Failure (\n",
    "        \"digit\",\n",
    "        \"Unexpected 'H'\",\n",
    "        {\n",
    "            currentLine = \"Hello\"\n",
    "            line = 0\n",
    "            column = 0\n",
    "        }\n",
    "    )\n",
    ")"
   ]
  },
  {
   "cell_type": "code",
   "execution_count": null,
   "metadata": {
    "dotnet_repl_cellExecutionStartTime": "2023-07-09T17:34:19.8609761-03:00",
    "dotnet_repl_cellExecutionEndTime": "2023-07-09T17:34:19.9064526-03:00",
    "dotnet_interactive": {
     "language": "fsharp"
    },
    "polyglot_notebook": {
     "kernelName": "fsharp"
    }
   },
   "outputs": [],
   "source": [
    "let pint =\n",
    "    let resultToInt (sign, digits) =\n",
    "        let i = int digits\n",
    "        match sign with\n",
    "        | Some ch -> -i\n",
    "        | None -> i\n",
    "\n",
    "    let digits = manyChars1 digitChar\n",
    "\n",
    "    opt (pchar '-') .>>. digits\n",
    "    |> mapP resultToInt\n",
    "    <?> \"integer\""
   ]
  },
  {
   "cell_type": "code",
   "execution_count": null,
   "metadata": {
    "dotnet_repl_cellExecutionStartTime": "2023-07-09T17:34:19.9064855-03:00",
    "dotnet_repl_cellExecutionEndTime": "2023-07-09T17:34:19.9414175-03:00",
    "dotnet_interactive": {
     "language": "fsharp"
    },
    "polyglot_notebook": {
     "kernelName": "fsharp"
    }
   },
   "outputs": [
    {
     "name": "stdout",
     "output_type": "stream",
     "text": [
      "Success\r\n",
      "      Item:       - -123\r\n",
      "      - InputState\r\n",
      "          lines: [ -123 ]\r\n",
      "          position: Position\r\n",
      "            line: 0\r\n",
      "            column: 4\r\n"
     ]
    }
   ],
   "source": [
    "//// test\n",
    "\n",
    "run pint \"-123\"\n",
    "|> _equal (\n",
    "    Success (\n",
    "        -123,\n",
    "        {\n",
    "            lines = [| \"-123\" |]\n",
    "            position = { line = 0; column = 4 }\n",
    "        }\n",
    "    )\n",
    ")"
   ]
  },
  {
   "cell_type": "code",
   "execution_count": null,
   "metadata": {
    "dotnet_repl_cellExecutionStartTime": "2023-07-09T17:34:19.9414562-03:00",
    "dotnet_repl_cellExecutionEndTime": "2023-07-09T17:34:19.9832867-03:00",
    "dotnet_interactive": {
     "language": "fsharp"
    },
    "polyglot_notebook": {
     "kernelName": "fsharp"
    }
   },
   "outputs": [],
   "source": [
    "let pfloat =\n",
    "    let resultToFloat (((sign, digits1), point), digits2) =\n",
    "        let fl = float $\"{digits1}.{digits2}\"\n",
    "        match sign with\n",
    "        | Some ch -> -fl\n",
    "        | None -> fl\n",
    "\n",
    "    let digits = manyChars1 digitChar\n",
    "\n",
    "    opt (pchar '-') .>>. digits .>>. pchar '.' .>>. digits\n",
    "    |> mapP resultToFloat\n",
    "    <?> \"float\""
   ]
  },
  {
   "cell_type": "code",
   "execution_count": null,
   "metadata": {
    "dotnet_repl_cellExecutionStartTime": "2023-07-09T17:34:19.9833099-03:00",
    "dotnet_repl_cellExecutionEndTime": "2023-07-09T17:34:20.0162268-03:00",
    "dotnet_interactive": {
     "language": "fsharp"
    },
    "polyglot_notebook": {
     "kernelName": "fsharp"
    }
   },
   "outputs": [
    {
     "name": "stdout",
     "output_type": "stream",
     "text": [
      "Success\r\n",
      "      Item:       - -123.45\r\n",
      "      - InputState\r\n",
      "          lines: [ -123.45 ]\r\n",
      "          position: Position\r\n",
      "            line: 0\r\n",
      "            column: 7\r\n"
     ]
    }
   ],
   "source": [
    "//// test\n",
    "\n",
    "run pfloat \"-123.45\"\n",
    "|> _equal (\n",
    "    Success (\n",
    "        -123.45,\n",
    "        {\n",
    "            lines = [| \"-123.45\" |]\n",
    "            position = { line = 0; column = 7 }\n",
    "        }\n",
    "    )\n",
    ")"
   ]
  },
  {
   "cell_type": "code",
   "execution_count": null,
   "metadata": {
    "dotnet_repl_cellExecutionStartTime": "2023-07-09T17:34:20.0162538-03:00",
    "dotnet_repl_cellExecutionEndTime": "2023-07-09T17:34:20.2233915-03:00",
    "dotnet_interactive": {
     "language": "fsharp"
    },
    "polyglot_notebook": {
     "kernelName": "fsharp"
    }
   },
   "outputs": [],
   "source": [
    "let createParserForwardedToRef<'a> () =\n",
    "    let dummyParser : Parser<'a> =\n",
    "        let innerFn _ = failwith \"unfixed forwarded parser\"\n",
    "        { parseFn = innerFn; label = \"unknown\" }\n",
    "\n",
    "    let mutable parserRef = dummyParser\n",
    "\n",
    "    let innerFn input =\n",
    "        runOnInput parserRef input\n",
    "\n",
    "    let wrapperParser = { parseFn = innerFn; label = \"unknown\" }\n",
    "    \n",
    "    wrapperParser, (fun v -> parserRef <- v)"
   ]
  },
  {
   "cell_type": "code",
   "execution_count": null,
   "metadata": {
    "dotnet_repl_cellExecutionStartTime": "2023-07-09T17:34:20.223412-03:00",
    "dotnet_repl_cellExecutionEndTime": "2023-07-09T17:34:20.2335313-03:00",
    "dotnet_interactive": {
     "language": "fsharp"
    },
    "polyglot_notebook": {
     "kernelName": "fsharp"
    }
   },
   "outputs": [],
   "source": [
    "let (>>%) p x =\n",
    "    p\n",
    "    |>> fun _ -> x"
   ]
  }
 ],
 "metadata": {
  "kernelspec": {
   "display_name": ".NET (C#)",
   "language": "C#",
   "name": ".net-csharp"
  },
  "language_info": {
   "file_extension": ".cs",
   "mimetype": "text/x-csharp",
   "name": "C#",
   "pygments_lexer": "csharp",
   "version": "10.0"
  },
  "polyglot_notebook": {
   "defaultKernelName": "csharp",
   "items": [
    {
     "name": "csharp"
    }
   ]
  },
  "dotnet_interactive": {
   "defaultKernelName": "csharp",
   "items": [
    {
     "name": "csharp"
    }
   ]
  }
 },
 "nbformat": 4,
 "nbformat_minor": 5
}