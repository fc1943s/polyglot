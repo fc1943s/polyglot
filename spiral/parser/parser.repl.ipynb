{
 "cells": [
  {
   "cell_type": "markdown",
   "metadata": {
    "dotnet_repl_cellExecutionStartTime": "2023-06-28T01:48:35.3131421-04:00",
    "dotnet_repl_cellExecutionEndTime": "2023-06-28T01:48:35.3652734-04:00"
   },
   "source": [
    "## ParserLibrary"
   ]
  },
  {
   "cell_type": "code",
   "execution_count": null,
   "metadata": {
    "dotnet_repl_cellExecutionStartTime": "2023-06-28T01:48:35.3673365-04:00",
    "dotnet_repl_cellExecutionEndTime": "2023-06-28T01:48:41.9583464-04:00",
    "dotnet_interactive": {
     "language": "fsharp"
    },
    "polyglot_notebook": {
     "kernelName": "fsharp"
    }
   },
   "outputs": [],
   "source": [
    "(*\n",
    "ParserLibrary.fsx\n",
    "\n",
    "Final version of a parser library.\n",
    "\n",
    "Related blog post: https://fsharpforfunandprofit.com/posts/understanding-parser-combinators-3/\n",
    "*)\n",
    "\n",
    "module TextInput =\n",
    "    open System\n",
    "\n",
    "    type Position = {\n",
    "        line : int\n",
    "        column : int\n",
    "    }\n",
    "\n",
    "    /// define an initial position\n",
    "    let initialPos = {line=0; column=0}\n",
    "\n",
    "    /// increment the column number\n",
    "    let incrCol (pos:Position) =\n",
    "        {pos with column=pos.column + 1}\n",
    "\n",
    "    /// increment the line number and set the column to 0\n",
    "    let incrLine pos =\n",
    "        {line=pos.line + 1; column=0}\n",
    "\n",
    "    /// Define the current input state\n",
    "    type InputState = {\n",
    "        lines : string[]\n",
    "        position : Position\n",
    "    }\n",
    "\n",
    "    // return the current line\n",
    "    let currentLine inputState =\n",
    "        let linePos = inputState.position.line\n",
    "        if linePos < inputState.lines.Length then\n",
    "            inputState.lines.[linePos]\n",
    "        else\n",
    "            \"end of file\"\n",
    "\n",
    "    /// Create a new InputState from a string\n",
    "    let fromStr str =\n",
    "        if String.IsNullOrEmpty(str) then\n",
    "            {lines=[||]; position=initialPos}\n",
    "        else\n",
    "            let separators = [| \"\\r\\n\"; \"\\n\" |]\n",
    "            let lines = str.Split(separators, StringSplitOptions.None)\n",
    "            {lines=lines; position=initialPos}\n",
    "\n",
    "\n",
    "    /// Get the next character from the input, if any\n",
    "    /// else return None. Also return the updated InputState\n",
    "    /// Signature: InputState -> InputState * char option\n",
    "    let nextChar input =\n",
    "        let linePos = input.position.line\n",
    "        let colPos = input.position.column\n",
    "        // three cases\n",
    "        // 1) if line >= maxLine ->\n",
    "        //       return EOF\n",
    "        // 2) if col less than line length ->\n",
    "        //       return char at colPos, increment colPos\n",
    "        // 3) if col at line length ->\n",
    "        //       return NewLine, increment linePos\n",
    "\n",
    "        if linePos >= input.lines.Length then\n",
    "            input, None\n",
    "        else\n",
    "            let currentLine = currentLine input\n",
    "            if colPos < currentLine.Length then\n",
    "                let char = currentLine.[colPos]\n",
    "                let newPos = incrCol input.position\n",
    "                let newState = {input with position=newPos}\n",
    "                newState, Some char\n",
    "            else\n",
    "                // end of line, so return LF and move to next line\n",
    "                let char = '\\n'\n",
    "                let newPos = incrLine input.position\n",
    "                let newState = {input with position=newPos}\n",
    "                newState, Some char\n",
    "\n",
    "// ===========================================\n",
    "// Parser code\n",
    "// ===========================================\n",
    "module Parser =\n",
    "    open System\n",
    "\n",
    "    // Aliases for input, etc\n",
    "    type Input = TextInput.InputState   // type alias\n",
    "    type ParserLabel = string\n",
    "    type ParserError = string\n",
    "\n",
    "    /// Stores information about the parser position for error messages\n",
    "    type ParserPosition = {\n",
    "        currentLine : string\n",
    "        line : int\n",
    "        column : int\n",
    "        }\n",
    "\n",
    "    // Result type\n",
    "    type ParseResult<'a> =\n",
    "        | Success of 'a\n",
    "        | Failure of ParserLabel * ParserError * ParserPosition\n",
    "\n",
    "    /// A Parser structure has a parsing function & label\n",
    "    type Parser<'a> = {\n",
    "        parseFn : (Input -> ParseResult<'a * Input>)\n",
    "        label:  ParserLabel\n",
    "        }\n",
    "\n",
    "\n",
    "    /// Run the parser on a InputState\n",
    "    let runOnInput parser input =\n",
    "        // call inner function with input\n",
    "        parser.parseFn input\n",
    "\n",
    "    /// Run the parser on a string\n",
    "    let run parser inputStr =\n",
    "        // call inner function with input\n",
    "        runOnInput parser (TextInput.fromStr inputStr)\n",
    "\n",
    "    // =============================================\n",
    "    // Error messages\n",
    "    // =============================================\n",
    "\n",
    "    let parserPositionFromInputState (inputState:Input) = {\n",
    "        currentLine = TextInput.currentLine inputState\n",
    "        line = inputState.position.line\n",
    "        column = inputState.position.column\n",
    "        }\n",
    "\n",
    "    let printResult result =\n",
    "        match result with\n",
    "        | Success (value,input) ->\n",
    "            printfn \"%A\" value\n",
    "        | Failure (label,error,parserPos) ->\n",
    "            let errorLine = parserPos.currentLine\n",
    "            let colPos = parserPos.column\n",
    "            let linePos = parserPos.line\n",
    "            let failureCaret = sprintf \"%*s^%s\" colPos \"\" error\n",
    "            // examples of formatting\n",
    "            //   sprintf \"%*s^%s\" 0 \"\" \"test\"\n",
    "            //   sprintf \"%*s^%s\" 10 \"\" \"test\"\n",
    "            printfn \"Line:%i Col:%i Error parsing %s\\n%s\\n%s\" linePos colPos label errorLine failureCaret\n",
    "\n",
    "\n",
    "    // =============================================\n",
    "    // Label related\n",
    "    // =============================================\n",
    "\n",
    "    /// get the label from a parser\n",
    "    let getLabel parser =\n",
    "        // get label\n",
    "        parser.label\n",
    "\n",
    "    /// update the label in the parser\n",
    "    let setLabel parser newLabel =\n",
    "        // change the inner function to use the new label\n",
    "        let newInnerFn input =\n",
    "            let result = parser.parseFn input\n",
    "            match result with\n",
    "            | Success s ->\n",
    "                // if Success, do nothing\n",
    "                Success s\n",
    "            | Failure (oldLabel,err,pos) ->\n",
    "                // if Failure, return new label\n",
    "                Failure (newLabel,err,pos)\n",
    "        // return the Parser\n",
    "        {parseFn=newInnerFn; label=newLabel}\n",
    "\n",
    "    /// infix version of setLabel\n",
    "    let ( <?> ) = setLabel\n",
    "\n",
    "\n",
    "    // =============================================\n",
    "    // Standard combinators\n",
    "    // =============================================\n",
    "\n",
    "    /// Match an input token if the predicate is satisfied\n",
    "    let satisfy predicate label =\n",
    "        let innerFn input =\n",
    "            let remainingInput,charOpt = TextInput.nextChar input\n",
    "            match charOpt with\n",
    "            | None ->\n",
    "                let err = \"No more input\"\n",
    "                let pos = parserPositionFromInputState input\n",
    "                Failure (label,err,pos)\n",
    "            | Some first ->\n",
    "                if predicate first then\n",
    "                    Success (first,remainingInput)\n",
    "                else\n",
    "                    let err = sprintf \"Unexpected '%c'\" first\n",
    "                    let pos = parserPositionFromInputState input\n",
    "                    Failure (label,err,pos)\n",
    "        // return the parser\n",
    "        {parseFn=innerFn;label=label}\n",
    "\n",
    "    /// \"bindP\" takes a parser-producing function f, and a parser p\n",
    "    /// and passes the output of p into f, to create a new parser\n",
    "    let bindP f p =\n",
    "        let label = \"unknown\"\n",
    "        let innerFn input =\n",
    "            let result1 = runOnInput p input\n",
    "            match result1 with\n",
    "            | Failure (label,err,pos) ->\n",
    "                // return error from parser1\n",
    "                Failure (label,err,pos)\n",
    "            | Success (value1,remainingInput) ->\n",
    "                // apply f to get a new parser\n",
    "                let p2 = f value1\n",
    "                // run parser with remaining input\n",
    "                runOnInput p2 remainingInput\n",
    "        {parseFn=innerFn; label=label}\n",
    "\n",
    "    /// Infix version of bindP\n",
    "    let ( >>= ) p f = bindP f p\n",
    "\n",
    "    /// Lift a value to a Parser\n",
    "    let returnP x =\n",
    "        let label = sprintf \"%A\" x\n",
    "        let innerFn input =\n",
    "            // ignore the input and return x\n",
    "            Success (x,input)\n",
    "        // return the inner function\n",
    "        {parseFn=innerFn; label=label}\n",
    "\n",
    "    /// apply a function to the value inside a parser\n",
    "    let mapP f =\n",
    "        bindP (f >> returnP)\n",
    "\n",
    "    /// infix version of mapP\n",
    "    let ( <!> ) = mapP\n",
    "\n",
    "    /// \"piping\" version of mapP\n",
    "    let ( |>> ) x f = mapP f x\n",
    "\n",
    "    /// apply a wrapped function to a wrapped value\n",
    "    let applyP fP xP =\n",
    "        fP >>= (fun f ->\n",
    "        xP >>= (fun x ->\n",
    "            returnP (f x) ))\n",
    "\n",
    "    /// infix version of apply\n",
    "    let ( <*> ) = applyP\n",
    "\n",
    "    /// lift a two parameter function to Parser World\n",
    "    let lift2 f xP yP =\n",
    "        returnP f <*> xP <*> yP\n",
    "\n",
    "    /// Combine two parsers as \"A andThen B\"\n",
    "    let andThen p1 p2 =\n",
    "        let label = sprintf \"%s andThen %s\" (getLabel p1) (getLabel p2)\n",
    "        p1 >>= (fun p1Result ->\n",
    "        p2 >>= (fun p2Result ->\n",
    "            returnP (p1Result,p2Result) ))\n",
    "        <?> label\n",
    "\n",
    "    /// Infix version of andThen\n",
    "    let ( .>>. ) = andThen\n",
    "\n",
    "    /// Combine two parsers as \"A orElse B\"\n",
    "    let orElse p1 p2 =\n",
    "        let label = sprintf \"%s orElse %s\" (getLabel p1) (getLabel p2)\n",
    "        let innerFn input =\n",
    "            // run parser1 with the input\n",
    "            let result1 = runOnInput p1 input\n",
    "\n",
    "            // test the result for Failure/Success\n",
    "            match result1 with\n",
    "            | Success result ->\n",
    "                // if success, return the original result\n",
    "                result1\n",
    "\n",
    "            | Failure _ ->\n",
    "                // if failed, run parser2 with the input\n",
    "                let result2 = runOnInput p2 input\n",
    "\n",
    "                // return parser2's result\n",
    "                result2\n",
    "\n",
    "        // return the inner function\n",
    "        {parseFn=innerFn; label=label}\n",
    "\n",
    "    /// Infix version of orElse\n",
    "    let ( <|> ) = orElse\n",
    "\n",
    "    /// Choose any of a list of parsers\n",
    "    let choice listOfParsers =\n",
    "        List.reduce ( <|> ) listOfParsers\n",
    "\n",
    "    let rec sequence parserList =\n",
    "        // define the \"cons\" function, which is a two parameter function\n",
    "        let cons head tail = head::tail\n",
    "\n",
    "        // lift it to Parser World\n",
    "        let consP = lift2 cons\n",
    "\n",
    "        // process the list of parsers recursively\n",
    "        match parserList with\n",
    "        | [] ->\n",
    "            returnP []\n",
    "        | head::tail ->\n",
    "            consP head (sequence tail)\n",
    "\n",
    "    /// (helper) match zero or more occurences of the specified parser\n",
    "    let rec parseZeroOrMore parser input =\n",
    "        // run parser with the input\n",
    "        let firstResult = runOnInput parser input\n",
    "        // test the result for Failure/Success\n",
    "        match firstResult with\n",
    "        | Failure (_,_,_) ->\n",
    "            // if parse fails, return empty list\n",
    "            ([],input)\n",
    "        | Success (firstValue,inputAfterFirstParse) ->\n",
    "            // if parse succeeds, call recursively\n",
    "            // to get the subsequent values\n",
    "            let (subsequentValues,remainingInput) =\n",
    "                parseZeroOrMore parser inputAfterFirstParse\n",
    "            let values = firstValue::subsequentValues\n",
    "            (values,remainingInput)\n",
    "\n",
    "    /// matches zero or more occurences of the specified parser\n",
    "    let many parser =\n",
    "        let label = sprintf \"many %s\" (getLabel parser)\n",
    "        let innerFn input =\n",
    "            // parse the input -- wrap in Success as it always succeeds\n",
    "            Success (parseZeroOrMore parser input)\n",
    "        {parseFn=innerFn; label=label}\n",
    "\n",
    "    /// matches one or more occurences of the specified parser\n",
    "    let many1 p =\n",
    "        let label = sprintf \"many1 %s\" (getLabel p)\n",
    "\n",
    "        p      >>= (fun head ->\n",
    "        many p >>= (fun tail ->\n",
    "        returnP (head::tail) ))\n",
    "        <?> label\n",
    "\n",
    "    /// Parses an optional occurrence of p and returns an option value.\n",
    "    let opt p =\n",
    "        let label = sprintf \"opt %s\" (getLabel p)\n",
    "        let some = p |>> Some\n",
    "        let none = returnP None\n",
    "        (some <|> none) <?> label\n",
    "\n",
    "    /// Keep only the result of the left side parser\n",
    "    let (.>>) p1 p2 =\n",
    "        // create a pair\n",
    "        p1 .>>. p2\n",
    "        // then only keep the first value\n",
    "        |> mapP (fun (a,b) -> a)\n",
    "\n",
    "    /// Keep only the result of the right side parser\n",
    "    let (>>.) p1 p2 =\n",
    "        // create a pair\n",
    "        p1 .>>. p2\n",
    "        // then only keep the second value\n",
    "        |> mapP (fun (a,b) -> b)\n",
    "\n",
    "    /// Keep only the result of the middle parser\n",
    "    let between p1 p2 p3 =\n",
    "        p1 >>. p2 .>> p3\n",
    "\n",
    "    /// Parses one or more occurrences of p separated by sep\n",
    "    let sepBy1 p sep =\n",
    "        let sepThenP = sep >>. p\n",
    "        p .>>. many sepThenP\n",
    "        |>> fun (p,pList) -> p::pList\n",
    "\n",
    "    /// Parses zero or more occurrences of p separated by sep\n",
    "    let sepBy p sep =\n",
    "        sepBy1 p sep <|> returnP []\n",
    "\n",
    "    // =============================================\n",
    "    // Standard parsers\n",
    "    // =============================================\n",
    "\n",
    "\n",
    "    // ------------------------------\n",
    "    // char and string parsing\n",
    "    // ------------------------------\n",
    "\n",
    "    /// parse a char\n",
    "    let pchar charToMatch =\n",
    "        // label is just the character\n",
    "        let label = sprintf \"%c\" charToMatch\n",
    "\n",
    "        let predicate ch = (ch = charToMatch)\n",
    "        satisfy predicate label\n",
    "\n",
    "    /// Choose any of a list of characters\n",
    "    let anyOf listOfChars =\n",
    "        let label = sprintf \"anyOf %A\" listOfChars\n",
    "        listOfChars\n",
    "        |> List.map pchar // convert into parsers\n",
    "        |> choice\n",
    "        <?> label\n",
    "\n",
    "    /// Convert a list of chars to a string\n",
    "    let charListToStr charList =\n",
    "        String(List.toArray charList)\n",
    "\n",
    "    /// Parses a sequence of zero or more chars with the char parser cp.\n",
    "    /// It returns the parsed chars as a string.\n",
    "    let manyChars cp =\n",
    "        many cp\n",
    "        |>> charListToStr\n",
    "\n",
    "    /// Parses a sequence of one or more chars with the char parser cp.\n",
    "    /// It returns the parsed chars as a string.\n",
    "    let manyChars1 cp =\n",
    "        many1 cp\n",
    "        |>> charListToStr\n",
    "\n",
    "    /// parse a specific string\n",
    "    let pstring str =\n",
    "        // label is just the string\n",
    "        let label = str\n",
    "\n",
    "        str\n",
    "        // convert to list of char\n",
    "        |> List.ofSeq\n",
    "        // map each char to a pchar\n",
    "        |> List.map pchar\n",
    "        // convert to Parser<char list>\n",
    "        |> sequence\n",
    "        // convert Parser<char list> to Parser<string>\n",
    "        |> mapP charListToStr\n",
    "        <?> label\n",
    "\n",
    "    // ------------------------------\n",
    "    // whitespace parsing\n",
    "    // ------------------------------\n",
    "\n",
    "    /// parse a whitespace char\n",
    "    let whitespaceChar =\n",
    "        let predicate = Char.IsWhiteSpace\n",
    "        let label = \"whitespace\"\n",
    "        satisfy predicate label\n",
    "\n",
    "    /// parse zero or more whitespace char\n",
    "    let spaces = many whitespaceChar\n",
    "\n",
    "    /// parse one or more whitespace char\n",
    "    let spaces1 = many1 whitespaceChar\n",
    "\n",
    "\n",
    "\n",
    "    // ------------------------------\n",
    "    // number parsing\n",
    "    // ------------------------------\n",
    "\n",
    "    /// parse a digit\n",
    "    let digitChar =\n",
    "        let predicate = Char.IsDigit\n",
    "        let label = \"digit\"\n",
    "        satisfy predicate label\n",
    "\n",
    "\n",
    "    // parse an integer\n",
    "    let pint =\n",
    "        let label = \"integer\"\n",
    "\n",
    "        // helper\n",
    "        let resultToInt (sign,digits) =\n",
    "            let i = digits |> int  // ignore int overflow for now\n",
    "            match sign with\n",
    "            | Some ch -> -i  // negate the int\n",
    "            | None -> i\n",
    "\n",
    "        // define parser for one or more digits\n",
    "        let digits = manyChars1 digitChar\n",
    "\n",
    "        // an \"int\" is optional sign + one or more digits\n",
    "        opt (pchar '-') .>>. digits\n",
    "        |> mapP resultToInt\n",
    "        <?> label\n",
    "\n",
    "    // parse a float\n",
    "    let pfloat =\n",
    "        let label = \"float\"\n",
    "\n",
    "        // helper\n",
    "        let resultToFloat (((sign,digits1),point),digits2) =\n",
    "            let fl = sprintf \"%s.%s\" digits1 digits2 |> float\n",
    "            match sign with\n",
    "            | Some ch -> -fl  // negate the float\n",
    "            | None -> fl\n",
    "\n",
    "        // define parser for one or more digits\n",
    "        let digits = manyChars1 digitChar\n",
    "\n",
    "        // a float is sign, digits, point, digits (ignore exponents for now)\n",
    "        opt (pchar '-') .>>. digits .>>. pchar '.' .>>. digits\n",
    "        |> mapP resultToFloat\n",
    "        <?> label"
   ]
  },
  {
   "cell_type": "markdown",
   "metadata": {
    "dotnet_repl_cellExecutionStartTime": "2023-06-28T01:48:41.9585325-04:00",
    "dotnet_repl_cellExecutionEndTime": "2023-06-28T01:48:41.9594705-04:00"
   },
   "source": [
    "## JsonParser"
   ]
  },
  {
   "cell_type": "code",
   "execution_count": null,
   "metadata": {
    "dotnet_repl_cellExecutionStartTime": "2023-06-28T01:48:41.9595021-04:00",
    "dotnet_repl_cellExecutionEndTime": "2023-06-28T01:48:42.5003999-04:00",
    "dotnet_interactive": {
     "language": "fsharp"
    },
    "polyglot_notebook": {
     "kernelName": "fsharp"
    }
   },
   "outputs": [],
   "source": [
    "(*\n",
    "JsonParser.fsx\n",
    "\n",
    "A JSON parser built from scratch using a combinator library.\n",
    "\n",
    "Related blog post: https://fsharpforfunandprofit.com/posts/understanding-parser-combinators-4/\n",
    "\n",
    "*)\n",
    "\n",
    "\n",
    "open System\n",
    "\n",
    "\n",
    "(*\n",
    "// --------------------------------\n",
    "JSON spec from http://www.json.org/\n",
    "// --------------------------------\n",
    "\n",
    "The JSON spec is available at [json.org](http://www.json.org/). I'll paraphase it here:\n",
    "\n",
    "* A `value` can be a `string` or a `number` or a `bool` or `null` or an `object` or an `array`.\n",
    "  * These structures can be nested.\n",
    "* A `string` is a sequence of zero or more Unicode characters, wrapped in double quotes, using backslash escapes.\n",
    "* A `number` is very much like a C or Java number, except that the octal and hexadecimal formats are not used.\n",
    "* A `boolean` is the literal `true` or `false`\n",
    "* A `null` is the literal `null`\n",
    "* An `object` is an unordered set of name/value pairs.\n",
    "  * An object begins with { (left brace) and ends with } (right brace).\n",
    "  * Each name is followed by : (colon) and the name/value pairs are separated by , (comma).\n",
    "* An `array` is an ordered collection of values.\n",
    "  * An array begins with [ (left bracket) and ends with ] (right bracket).\n",
    "  * Values are separated by , (comma).\n",
    "* Whitespace can be inserted between any pair of tokens.\n",
    "\n",
    "*)\n",
    "\n",
    "module JsonParser =\n",
    "    open Parser\n",
    "\n",
    "\n",
    "    type JValue =\n",
    "        | JString of string\n",
    "        | JNumber of float\n",
    "        | JBool   of bool\n",
    "        | JNull\n",
    "        | JObject of Map<string, JValue>\n",
    "        | JArray  of JValue list\n",
    "\n",
    "\n",
    "    // ======================================\n",
    "    // Forward reference\n",
    "    // ======================================\n",
    "\n",
    "    /// Create a forward reference\n",
    "    let createParserForwardedToRef<'a>() =\n",
    "\n",
    "        let dummyParser : Parser<'a> =\n",
    "            let innerFn _ = failwith \"unfixed forwarded parser\"\n",
    "            {parseFn=innerFn; label=\"unknown\"}\n",
    "\n",
    "        // ref to placeholder Parser\n",
    "        let parserRef = ref dummyParser\n",
    "\n",
    "        // wrapper Parser\n",
    "        let innerFn input =\n",
    "            // forward input to the placeholder\n",
    "            // (Note: \"!\" is the deferencing operator)\n",
    "            runOnInput !parserRef input\n",
    "        let wrapperParser = {parseFn=innerFn; label=\"unknown\"}\n",
    "\n",
    "        wrapperParser, parserRef\n",
    "\n",
    "    let jValue,jValueRef = createParserForwardedToRef<JValue>()\n",
    "\n",
    "    // ======================================\n",
    "    // Utility function\n",
    "    // ======================================\n",
    "\n",
    "    // applies the parser p, ignores the result, and returns x.\n",
    "    let (>>%) p x =\n",
    "        p |>> (fun _ -> x)\n",
    "\n",
    "    // ======================================\n",
    "    // Parsing a JNull\n",
    "    // ======================================\n",
    "\n",
    "    let jNull =\n",
    "        pstring \"null\"\n",
    "        >>% JNull   // map to JNull\n",
    "        <?> \"null\"  // give it a label\n",
    "\n",
    "    // ======================================\n",
    "    // Parsing a JBool\n",
    "    // ======================================\n",
    "\n",
    "    let jBool =\n",
    "        let jtrue =\n",
    "            pstring \"true\"\n",
    "            >>% JBool true   // map to JBool\n",
    "        let jfalse =\n",
    "            pstring \"false\"\n",
    "            >>% JBool false  // map to JBool\n",
    "\n",
    "        // choose between true and false\n",
    "        jtrue <|> jfalse\n",
    "        <?> \"bool\"           // give it a label\n",
    "\n",
    "\n",
    "    // ======================================\n",
    "    // Parsing a JString\n",
    "    // ======================================\n",
    "\n",
    "    /// Parse an unescaped char\n",
    "    let jUnescapedChar =\n",
    "        satisfy (fun ch -> ch <> '\\\\' && ch <> '\\\"') \"char\"\n",
    "\n",
    "    /// Parse an escaped char\n",
    "    let jEscapedChar =\n",
    "        [\n",
    "        // (stringToMatch, resultChar)\n",
    "        (\"\\\\\\\"\",'\\\"')      // quote\n",
    "        (\"\\\\\\\\\",'\\\\')      // reverse solidus\n",
    "        (\"\\\\/\",'/')        // solidus\n",
    "        (\"\\\\b\",'\\b')       // backspace\n",
    "        (\"\\\\f\",'\\f')       // formfeed\n",
    "        (\"\\\\n\",'\\n')       // newline\n",
    "        (\"\\\\r\",'\\r')       // cr\n",
    "        (\"\\\\t\",'\\t')       // tab\n",
    "        ]\n",
    "        // convert each pair into a parser\n",
    "        |> List.map (fun (toMatch,result) ->\n",
    "            pstring toMatch >>% result)\n",
    "        // and combine them into one\n",
    "        |> choice\n",
    "        <?> \"escaped char\" // set label\n",
    "\n",
    "    /// Parse a unicode char\n",
    "    let jUnicodeChar =\n",
    "\n",
    "        // set up the \"primitive\" parsers\n",
    "        let backslash = pchar '\\\\'\n",
    "        let uChar = pchar 'u'\n",
    "        let hexdigit = \n",
    "            anyOf (['0'..'9'] @ ['A'..'F'] @ ['a'..'f'])\n",
    "        let fourHexDigits =\n",
    "            hexdigit .>>. hexdigit .>>. hexdigit .>>. hexdigit\n",
    "\n",
    "        // convert the parser output (nested tuples)\n",
    "        // to a char\n",
    "        let convertToChar (((h1,h2),h3),h4) =\n",
    "            let str = sprintf \"%c%c%c%c\" h1 h2 h3 h4\n",
    "            Int32.Parse(str,Globalization.NumberStyles.HexNumber) |> char\n",
    "\n",
    "        // set up the main parser\n",
    "        backslash  >>. uChar >>. fourHexDigits\n",
    "        |>> convertToChar\n",
    "\n",
    "\n",
    "    /// Parse a quoted string\n",
    "    let quotedString =\n",
    "        let quote = pchar '\\\"' <?> \"quote\"\n",
    "        let jchar = jUnescapedChar <|> jEscapedChar <|> jUnicodeChar\n",
    "\n",
    "        // set up the main parser\n",
    "        quote >>. manyChars jchar .>> quote\n",
    "\n",
    "    /// Parse a JString\n",
    "    let jString =\n",
    "        // wrap the string in a JString\n",
    "        quotedString\n",
    "        |>> JString           // convert to JString\n",
    "        <?> \"quoted string\"   // add label\n",
    "\n",
    "    // ======================================\n",
    "    // Parsing a JNumber\n",
    "    // ======================================\n",
    "\n",
    "    /// Parse a JNumber\n",
    "    let jNumber =\n",
    "\n",
    "        // set up the \"primitive\" parsers\n",
    "        let optSign = opt (pchar '-')\n",
    "\n",
    "        let zero = pstring \"0\"\n",
    "\n",
    "        let digitOneNine =\n",
    "            satisfy (fun ch -> Char.IsDigit ch && ch <> '0') \"1-9\"\n",
    "\n",
    "        let digit =\n",
    "            satisfy (fun ch -> Char.IsDigit ch ) \"digit\"\n",
    "\n",
    "        let point = pchar '.'\n",
    "\n",
    "        let e = pchar 'e' <|> pchar 'E'\n",
    "\n",
    "        let optPlusMinus = opt (pchar '-' <|> pchar '+')\n",
    "\n",
    "        let nonZeroInt =\n",
    "            digitOneNine .>>. manyChars digit\n",
    "            |>> fun (first,rest) -> string first + rest\n",
    "\n",
    "        let intPart = zero <|> nonZeroInt\n",
    "\n",
    "        let fractionPart = point >>. manyChars1 digit\n",
    "\n",
    "        let exponentPart = e >>. optPlusMinus .>>. manyChars1 digit\n",
    "\n",
    "        // utility function to convert an optional value to a string, or \"\" if missing\n",
    "        let ( |>? ) opt f =\n",
    "            match opt with\n",
    "            | None -> \"\"\n",
    "            | Some x -> f x\n",
    "\n",
    "        let convertToJNumber (((optSign,intPart),fractionPart),expPart) =\n",
    "            // convert to strings and let .NET parse them! - crude but ok for now.\n",
    "\n",
    "            let signStr =\n",
    "                optSign\n",
    "                |>? string   // e.g. \"-\"\n",
    "\n",
    "            let fractionPartStr =\n",
    "                fractionPart\n",
    "                |>? (fun digits -> \".\" + digits )  // e.g. \".456\"\n",
    "\n",
    "            let expPartStr =\n",
    "                expPart\n",
    "                |>? fun (optSign, digits) ->\n",
    "                    let sign = optSign |>? string\n",
    "                    \"e\" + sign + digits          // e.g. \"e-12\"\n",
    "\n",
    "            // add the parts together and convert to a float, then wrap in a JNumber\n",
    "            (signStr + intPart + fractionPartStr + expPartStr)\n",
    "            |> float\n",
    "            |> JNumber\n",
    "\n",
    "        // set up the main parser\n",
    "        optSign .>>. intPart .>>. opt fractionPart .>>. opt exponentPart\n",
    "        |>> convertToJNumber\n",
    "        <?> \"number\"   // add label\n",
    "\n",
    "    // ======================================\n",
    "    // Parsing a JArray\n",
    "    // ======================================\n",
    "\n",
    "    let jArray =\n",
    "\n",
    "        // set up the \"primitive\" parsers\n",
    "        let left = pchar '[' .>> spaces\n",
    "        let right = pchar ']' .>> spaces\n",
    "        let comma = pchar ',' .>> spaces\n",
    "        let value = jValue .>> spaces\n",
    "\n",
    "        // set up the list parser\n",
    "        let values = sepBy value comma\n",
    "\n",
    "        // set up the main parser\n",
    "        between left values right\n",
    "        |>> JArray\n",
    "        <?> \"array\"\n",
    "\n",
    "    // ======================================\n",
    "    // Parsing a JObject\n",
    "    // ======================================\n",
    "\n",
    "\n",
    "    let jObject =\n",
    "\n",
    "        // set up the \"primitive\" parsers\n",
    "        let left = spaces >>. pchar '{' .>> spaces\n",
    "        let right = pchar '}' .>> spaces\n",
    "        let colon = pchar ':' .>> spaces\n",
    "        let comma = pchar ',' .>> spaces\n",
    "        let key = quotedString .>> spaces\n",
    "        let value = jValue .>> spaces\n",
    "\n",
    "        // set up the list parser\n",
    "        let keyValue = (key .>> colon) .>>. value\n",
    "        let keyValues = sepBy keyValue comma\n",
    "\n",
    "        // set up the main parser\n",
    "        between left keyValues right\n",
    "        |>> Map.ofList  // convert the list of keyValues into a Map\n",
    "        |>> JObject     // wrap in JObject\n",
    "        <?> \"object\"    // add label\n",
    "\n",
    "    // ======================================\n",
    "    // Fixing up the jValue ref\n",
    "    // ======================================\n",
    "\n",
    "    // fixup the forward ref\n",
    "    jValueRef := choice\n",
    "        [\n",
    "        jNull\n",
    "        jBool\n",
    "        jNumber\n",
    "        jString\n",
    "        jArray\n",
    "        jObject\n",
    "        ]"
   ]
  },
  {
   "cell_type": "markdown",
   "metadata": {
    "dotnet_repl_cellExecutionStartTime": "2023-06-28T01:48:42.5004228-04:00",
    "dotnet_repl_cellExecutionEndTime": "2023-06-28T01:48:42.5008938-04:00"
   },
   "source": [
    "## tests"
   ]
  },
  {
   "cell_type": "code",
   "execution_count": null,
   "metadata": {
    "dotnet_repl_cellExecutionStartTime": "2023-06-28T01:48:42.5009056-04:00",
    "dotnet_repl_cellExecutionEndTime": "2023-06-28T01:48:46.9661783-04:00",
    "dotnet_interactive": {
     "language": "fsharp"
    },
    "polyglot_notebook": {
     "kernelName": "fsharp"
    }
   },
   "outputs": [
    {
     "data": {
      "text/html": [
       "<div><div></div><div><strong>Installing Packages</strong><ul><li><span>Expecto</span></li></ul></div><div></div></div>"
      ]
     },
     "metadata": {},
     "output_type": "display_data"
    },
    {
     "data": {
      "text/html": [
       "<div><div></div><div><strong>Installing Packages</strong><ul><li><span>Expecto.</span></li></ul></div><div></div></div>"
      ]
     },
     "metadata": {},
     "output_type": "display_data"
    },
    {
     "data": {
      "text/html": [
       "<div><div></div><div><strong>Installing Packages</strong><ul><li><span>Expecto..</span></li></ul></div><div></div></div>"
      ]
     },
     "metadata": {},
     "output_type": "display_data"
    },
    {
     "data": {
      "text/html": [
       "<div><div></div><div><strong>Installing Packages</strong><ul><li><span>Expecto...</span></li></ul></div><div></div></div>"
      ]
     },
     "metadata": {},
     "output_type": "display_data"
    },
    {
     "data": {
      "text/html": [
       "<div><div></div><div><strong>Installing Packages</strong><ul><li><span>Expecto....</span></li></ul></div><div></div></div>"
      ]
     },
     "metadata": {},
     "output_type": "display_data"
    },
    {
     "data": {
      "text/html": [
       "<div><div></div><div><strong>Installing Packages</strong><ul><li><span>Expecto.....</span></li></ul></div><div></div></div>"
      ]
     },
     "metadata": {},
     "output_type": "display_data"
    },
    {
     "data": {
      "text/html": [
       "<div><div></div><div><strong>Installing Packages</strong><ul><li><span>Expecto......</span></li></ul></div><div></div></div>"
      ]
     },
     "metadata": {},
     "output_type": "display_data"
    },
    {
     "data": {
      "text/html": [
       "<div><div></div><div><strong>Installing Packages</strong><ul><li><span>Expecto.......</span></li></ul></div><div></div></div>"
      ]
     },
     "metadata": {},
     "output_type": "display_data"
    },
    {
     "data": {
      "text/html": [
       "<div><div></div><div><strong>Installing Packages</strong><ul><li><span>Expecto........</span></li></ul></div><div></div></div>"
      ]
     },
     "metadata": {},
     "output_type": "display_data"
    },
    {
     "data": {
      "text/html": [
       "<div><div></div><div></div><div><strong>Installed Packages</strong><ul><li><span>Expecto, 10.1.0</span></li></ul></div></div>"
      ]
     },
     "metadata": {},
     "output_type": "display_data"
    }
   ],
   "source": [
    "#r \"nuget:Expecto\""
   ]
  },
  {
   "cell_type": "code",
   "execution_count": null,
   "metadata": {
    "dotnet_repl_cellExecutionStartTime": "2023-06-28T01:48:46.9661983-04:00",
    "dotnet_repl_cellExecutionEndTime": "2023-06-28T01:48:47.0698595-04:00",
    "dotnet_interactive": {
     "language": "fsharp"
    },
    "polyglot_notebook": {
     "kernelName": "fsharp"
    }
   },
   "outputs": [],
   "source": [
    "let printThenResult result =\n",
    "    Parser.printResult result\n",
    "    result"
   ]
  },
  {
   "cell_type": "code",
   "execution_count": null,
   "metadata": {
    "dotnet_repl_cellExecutionStartTime": "2023-06-28T01:48:47.0698931-04:00",
    "dotnet_repl_cellExecutionEndTime": "2023-06-28T01:48:47.1339281-04:00",
    "dotnet_interactive": {
     "language": "fsharp"
    },
    "polyglot_notebook": {
     "kernelName": "fsharp"
    }
   },
   "outputs": [],
   "source": [
    "let expect (expected : Parser.ParseResult<'a>) (actual : Parser.ParseResult<'a * Parser.Input>) =\n",
    "    match actual, expected with\n",
    "    | Parser.Success (_actual, _), Parser.Success _expected ->\n",
    "        Parser.printResult actual\n",
    "        \"\" |> Expecto.Expect.equal _actual _expected\n",
    "    | Parser.Failure (l1, e1, p1), Parser.Failure (l2, e2, p2) when l1 = l2 && e1 = e2 && p1 = p2 -> \n",
    "        Parser.printResult actual\n",
    "    | _ ->\n",
    "        printfn $\"Actual: {actual}\"\n",
    "        printfn $\"Expected: {expected}\"\n",
    "        failwith \"Parse failed\"\n",
    "    actual"
   ]
  },
  {
   "cell_type": "code",
   "execution_count": null,
   "metadata": {
    "dotnet_repl_cellExecutionStartTime": "2023-06-28T01:48:47.13395-04:00",
    "dotnet_repl_cellExecutionEndTime": "2023-06-28T01:48:47.1465254-04:00",
    "dotnet_interactive": {
     "language": "fsharp"
    },
    "polyglot_notebook": {
     "kernelName": "fsharp"
    }
   },
   "outputs": [],
   "source": [
    "let run = Parser.run\n",
    "let Success = Parser.Success\n",
    "let Failure = Parser.Failure\n",
    "\n",
    "open JsonParser"
   ]
  },
  {
   "cell_type": "code",
   "execution_count": null,
   "metadata": {
    "dotnet_repl_cellExecutionStartTime": "2023-06-28T01:48:47.1465596-04:00",
    "dotnet_repl_cellExecutionEndTime": "2023-06-28T01:48:47.3402517-04:00",
    "dotnet_interactive": {
     "language": "fsharp"
    },
    "polyglot_notebook": {
     "kernelName": "fsharp"
    }
   },
   "outputs": [
    {
     "data": {
      "text/html": [
       "<details open=\"open\" class=\"dni-treeview\"><summary><span class=\"dni-code-hint\"><code>Success (JNull, { lines = [|\"null\"|]\\n                  position = { line = 0\\n                               column = 4 } })</code></span></summary><div><table><thead><tr></tr></thead><tbody><tr><td>Item</td><td><details class=\"dni-treeview\"><summary><span class=\"dni-code-hint\"><code>(JNull, { lines = [|\"null\"|]\\n  position = { line = 0\\n               column = 4 } })</code></span></summary><div><table><thead><tr></tr></thead><tbody><tr><td>Item1</td><td><details class=\"dni-treeview\"><summary><span class=\"dni-code-hint\"><code>JNull</code></span></summary><div><table><thead><tr></tr></thead><tbody></tbody></table></div></details></td></tr><tr><td>Item2</td><td><details class=\"dni-treeview\"><summary><span class=\"dni-code-hint\"><code>{ lines = [|\"null\"|]\\n  position = { line = 0\\n               column = 4 } }</code></span></summary><div><table><thead><tr></tr></thead><tbody><tr><td>lines</td><td><div class=\"dni-plaintext\"><pre>[ null ]</pre></div></td></tr><tr><td>position</td><td><details class=\"dni-treeview\"><summary><span class=\"dni-code-hint\"><code>{ line = 0\\n  column = 4 }</code></span></summary><div><table><thead><tr></tr></thead><tbody><tr><td>line</td><td><div class=\"dni-plaintext\"><pre>0</pre></div></td></tr><tr><td>column</td><td><div class=\"dni-plaintext\"><pre>4</pre></div></td></tr></tbody></table></div></details></td></tr></tbody></table></div></details></td></tr></tbody></table></div></details></td></tr></tbody></table></div></details><style>\r\n",
       ".dni-code-hint {\r\n",
       "    font-style: italic;\r\n",
       "    overflow: hidden;\r\n",
       "    white-space: nowrap;\r\n",
       "}\r\n",
       ".dni-treeview {\r\n",
       "    white-space: nowrap;\r\n",
       "}\r\n",
       ".dni-treeview td {\r\n",
       "    vertical-align: top;\r\n",
       "    text-align: start;\r\n",
       "}\r\n",
       "details.dni-treeview {\r\n",
       "    padding-left: 1em;\r\n",
       "}\r\n",
       "table td {\r\n",
       "    text-align: start;\r\n",
       "}\r\n",
       "table tr { \r\n",
       "    vertical-align: top; \r\n",
       "    margin: 0em 0px;\r\n",
       "}\r\n",
       "table tr td pre \r\n",
       "{ \r\n",
       "    vertical-align: top !important; \r\n",
       "    margin: 0em 0px !important;\r\n",
       "} \r\n",
       "table th {\r\n",
       "    text-align: start;\r\n",
       "}\r\n",
       "</style>"
      ]
     },
     "metadata": {},
     "output_type": "display_data"
    },
    {
     "name": "stdout",
     "output_type": "stream",
     "text": [
      "JNull\r\n"
     ]
    }
   ],
   "source": [
    "run jValue \"null\"\n",
    "|> expect (Success JNull)"
   ]
  },
  {
   "cell_type": "code",
   "execution_count": null,
   "metadata": {
    "dotnet_repl_cellExecutionStartTime": "2023-06-28T01:48:47.3402987-04:00",
    "dotnet_repl_cellExecutionEndTime": "2023-06-28T01:48:47.4410619-04:00",
    "dotnet_interactive": {
     "language": "fsharp"
    },
    "polyglot_notebook": {
     "kernelName": "fsharp"
    }
   },
   "outputs": [
    {
     "data": {
      "text/html": [
       "<details open=\"open\" class=\"dni-treeview\"><summary><span class=\"dni-code-hint\"><code>Failure (\"null\", \"Unexpected 'p'\", { currentLine = \"nulp\"\\n                                     line = 0\\n                                     column = 3 })</code></span></summary><div><table><thead><tr></tr></thead><tbody><tr><td>Item1</td><td>null</td></tr><tr><td>Item2</td><td>Unexpected &#39;p&#39;</td></tr><tr><td>Item3</td><td><details class=\"dni-treeview\"><summary><span class=\"dni-code-hint\"><code>{ currentLine = \"nulp\"\\n  line = 0\\n  column = 3 }</code></span></summary><div><table><thead><tr></tr></thead><tbody><tr><td>currentLine</td><td>nulp</td></tr><tr><td>line</td><td><div class=\"dni-plaintext\"><pre>0</pre></div></td></tr><tr><td>column</td><td><div class=\"dni-plaintext\"><pre>3</pre></div></td></tr></tbody></table></div></details></td></tr></tbody></table></div></details><style>\r\n",
       ".dni-code-hint {\r\n",
       "    font-style: italic;\r\n",
       "    overflow: hidden;\r\n",
       "    white-space: nowrap;\r\n",
       "}\r\n",
       ".dni-treeview {\r\n",
       "    white-space: nowrap;\r\n",
       "}\r\n",
       ".dni-treeview td {\r\n",
       "    vertical-align: top;\r\n",
       "    text-align: start;\r\n",
       "}\r\n",
       "details.dni-treeview {\r\n",
       "    padding-left: 1em;\r\n",
       "}\r\n",
       "table td {\r\n",
       "    text-align: start;\r\n",
       "}\r\n",
       "table tr { \r\n",
       "    vertical-align: top; \r\n",
       "    margin: 0em 0px;\r\n",
       "}\r\n",
       "table tr td pre \r\n",
       "{ \r\n",
       "    vertical-align: top !important; \r\n",
       "    margin: 0em 0px !important;\r\n",
       "} \r\n",
       "table th {\r\n",
       "    text-align: start;\r\n",
       "}\r\n",
       "</style>"
      ]
     },
     "metadata": {},
     "output_type": "display_data"
    },
    {
     "name": "stdout",
     "output_type": "stream",
     "text": [
      "Line:0 Col:3 Error parsing null\n",
      "nulp\n",
      "   ^Unexpected 'p'\r\n"
     ]
    }
   ],
   "source": [
    "run jNull \"nulp\"\n",
    "|> expect (\n",
    "    Failure (\n",
    "        \"null\",\n",
    "        \"Unexpected 'p'\",\n",
    "        {currentLine = \"nulp\"; line = 0; column = 3}\n",
    "    )\n",
    ")"
   ]
  },
  {
   "cell_type": "code",
   "execution_count": null,
   "metadata": {
    "dotnet_repl_cellExecutionStartTime": "2023-06-28T01:48:47.4411176-04:00",
    "dotnet_repl_cellExecutionEndTime": "2023-06-28T01:48:47.512244-04:00",
    "dotnet_interactive": {
     "language": "fsharp"
    },
    "polyglot_notebook": {
     "kernelName": "fsharp"
    }
   },
   "outputs": [
    {
     "data": {
      "text/html": [
       "<details open=\"open\" class=\"dni-treeview\"><summary><span class=\"dni-code-hint\"><code>Success (JBool true, { lines = [|\"true\"|]\\n                       position = { line = 0\\n                                    column = 4 } })</code></span></summary><div><table><thead><tr></tr></thead><tbody><tr><td>Item</td><td><details class=\"dni-treeview\"><summary><span class=\"dni-code-hint\"><code>(JBool true, { lines = [|\"true\"|]\\n  position = { line = 0\\n               column = 4 } })</code></span></summary><div><table><thead><tr></tr></thead><tbody><tr><td>Item1</td><td><details class=\"dni-treeview\"><summary><span class=\"dni-code-hint\"><code>JBool true</code></span></summary><div><table><thead><tr></tr></thead><tbody><tr><td>Item</td><td><div class=\"dni-plaintext\"><pre>True</pre></div></td></tr></tbody></table></div></details></td></tr><tr><td>Item2</td><td><details class=\"dni-treeview\"><summary><span class=\"dni-code-hint\"><code>{ lines = [|\"true\"|]\\n  position = { line = 0\\n               column = 4 } }</code></span></summary><div><table><thead><tr></tr></thead><tbody><tr><td>lines</td><td><div class=\"dni-plaintext\"><pre>[ true ]</pre></div></td></tr><tr><td>position</td><td><details class=\"dni-treeview\"><summary><span class=\"dni-code-hint\"><code>{ line = 0\\n  column = 4 }</code></span></summary><div><table><thead><tr></tr></thead><tbody><tr><td>line</td><td><div class=\"dni-plaintext\"><pre>0</pre></div></td></tr><tr><td>column</td><td><div class=\"dni-plaintext\"><pre>4</pre></div></td></tr></tbody></table></div></details></td></tr></tbody></table></div></details></td></tr></tbody></table></div></details></td></tr></tbody></table></div></details><style>\r\n",
       ".dni-code-hint {\r\n",
       "    font-style: italic;\r\n",
       "    overflow: hidden;\r\n",
       "    white-space: nowrap;\r\n",
       "}\r\n",
       ".dni-treeview {\r\n",
       "    white-space: nowrap;\r\n",
       "}\r\n",
       ".dni-treeview td {\r\n",
       "    vertical-align: top;\r\n",
       "    text-align: start;\r\n",
       "}\r\n",
       "details.dni-treeview {\r\n",
       "    padding-left: 1em;\r\n",
       "}\r\n",
       "table td {\r\n",
       "    text-align: start;\r\n",
       "}\r\n",
       "table tr { \r\n",
       "    vertical-align: top; \r\n",
       "    margin: 0em 0px;\r\n",
       "}\r\n",
       "table tr td pre \r\n",
       "{ \r\n",
       "    vertical-align: top !important; \r\n",
       "    margin: 0em 0px !important;\r\n",
       "} \r\n",
       "table th {\r\n",
       "    text-align: start;\r\n",
       "}\r\n",
       "</style>"
      ]
     },
     "metadata": {},
     "output_type": "display_data"
    },
    {
     "name": "stdout",
     "output_type": "stream",
     "text": [
      "JBool true\r\n"
     ]
    }
   ],
   "source": [
    "run jBool \"true\"\n",
    "|> expect (Success (JBool true))"
   ]
  },
  {
   "cell_type": "code",
   "execution_count": null,
   "metadata": {
    "dotnet_repl_cellExecutionStartTime": "2023-06-28T01:48:47.5123529-04:00",
    "dotnet_repl_cellExecutionEndTime": "2023-06-28T01:48:47.5463327-04:00",
    "dotnet_interactive": {
     "language": "fsharp"
    },
    "polyglot_notebook": {
     "kernelName": "fsharp"
    }
   },
   "outputs": [
    {
     "data": {
      "text/html": [
       "<details open=\"open\" class=\"dni-treeview\"><summary><span class=\"dni-code-hint\"><code>Success (JBool false, { lines = [|\"false\"|]\\n                        position = { line = 0\\n                                     column = 5 } })</code></span></summary><div><table><thead><tr></tr></thead><tbody><tr><td>Item</td><td><details class=\"dni-treeview\"><summary><span class=\"dni-code-hint\"><code>(JBool false, { lines = [|\"false\"|]\\n  position = { line = 0\\n               column = 5 } })</code></span></summary><div><table><thead><tr></tr></thead><tbody><tr><td>Item1</td><td><details class=\"dni-treeview\"><summary><span class=\"dni-code-hint\"><code>JBool false</code></span></summary><div><table><thead><tr></tr></thead><tbody><tr><td>Item</td><td><div class=\"dni-plaintext\"><pre>False</pre></div></td></tr></tbody></table></div></details></td></tr><tr><td>Item2</td><td><details class=\"dni-treeview\"><summary><span class=\"dni-code-hint\"><code>{ lines = [|\"false\"|]\\n  position = { line = 0\\n               column = 5 } }</code></span></summary><div><table><thead><tr></tr></thead><tbody><tr><td>lines</td><td><div class=\"dni-plaintext\"><pre>[ false ]</pre></div></td></tr><tr><td>position</td><td><details class=\"dni-treeview\"><summary><span class=\"dni-code-hint\"><code>{ line = 0\\n  column = 5 }</code></span></summary><div><table><thead><tr></tr></thead><tbody><tr><td>line</td><td><div class=\"dni-plaintext\"><pre>0</pre></div></td></tr><tr><td>column</td><td><div class=\"dni-plaintext\"><pre>5</pre></div></td></tr></tbody></table></div></details></td></tr></tbody></table></div></details></td></tr></tbody></table></div></details></td></tr></tbody></table></div></details><style>\r\n",
       ".dni-code-hint {\r\n",
       "    font-style: italic;\r\n",
       "    overflow: hidden;\r\n",
       "    white-space: nowrap;\r\n",
       "}\r\n",
       ".dni-treeview {\r\n",
       "    white-space: nowrap;\r\n",
       "}\r\n",
       ".dni-treeview td {\r\n",
       "    vertical-align: top;\r\n",
       "    text-align: start;\r\n",
       "}\r\n",
       "details.dni-treeview {\r\n",
       "    padding-left: 1em;\r\n",
       "}\r\n",
       "table td {\r\n",
       "    text-align: start;\r\n",
       "}\r\n",
       "table tr { \r\n",
       "    vertical-align: top; \r\n",
       "    margin: 0em 0px;\r\n",
       "}\r\n",
       "table tr td pre \r\n",
       "{ \r\n",
       "    vertical-align: top !important; \r\n",
       "    margin: 0em 0px !important;\r\n",
       "} \r\n",
       "table th {\r\n",
       "    text-align: start;\r\n",
       "}\r\n",
       "</style>"
      ]
     },
     "metadata": {},
     "output_type": "display_data"
    },
    {
     "name": "stdout",
     "output_type": "stream",
     "text": [
      "JBool false\r\n"
     ]
    }
   ],
   "source": [
    "run jBool \"false\"\n",
    "|> expect (Success (JBool false))"
   ]
  },
  {
   "cell_type": "code",
   "execution_count": null,
   "metadata": {
    "dotnet_repl_cellExecutionStartTime": "2023-06-28T01:48:47.5464766-04:00",
    "dotnet_repl_cellExecutionEndTime": "2023-06-28T01:48:47.5771248-04:00",
    "dotnet_interactive": {
     "language": "fsharp"
    },
    "polyglot_notebook": {
     "kernelName": "fsharp"
    }
   },
   "outputs": [
    {
     "data": {
      "text/html": [
       "<details open=\"open\" class=\"dni-treeview\"><summary><span class=\"dni-code-hint\"><code>Failure (\"bool\", \"Unexpected 't'\", { currentLine = \"truX\"\\n                                     line = 0\\n                                     column = 0 })</code></span></summary><div><table><thead><tr></tr></thead><tbody><tr><td>Item1</td><td>bool</td></tr><tr><td>Item2</td><td>Unexpected &#39;t&#39;</td></tr><tr><td>Item3</td><td><details class=\"dni-treeview\"><summary><span class=\"dni-code-hint\"><code>{ currentLine = \"truX\"\\n  line = 0\\n  column = 0 }</code></span></summary><div><table><thead><tr></tr></thead><tbody><tr><td>currentLine</td><td>truX</td></tr><tr><td>line</td><td><div class=\"dni-plaintext\"><pre>0</pre></div></td></tr><tr><td>column</td><td><div class=\"dni-plaintext\"><pre>0</pre></div></td></tr></tbody></table></div></details></td></tr></tbody></table></div></details><style>\r\n",
       ".dni-code-hint {\r\n",
       "    font-style: italic;\r\n",
       "    overflow: hidden;\r\n",
       "    white-space: nowrap;\r\n",
       "}\r\n",
       ".dni-treeview {\r\n",
       "    white-space: nowrap;\r\n",
       "}\r\n",
       ".dni-treeview td {\r\n",
       "    vertical-align: top;\r\n",
       "    text-align: start;\r\n",
       "}\r\n",
       "details.dni-treeview {\r\n",
       "    padding-left: 1em;\r\n",
       "}\r\n",
       "table td {\r\n",
       "    text-align: start;\r\n",
       "}\r\n",
       "table tr { \r\n",
       "    vertical-align: top; \r\n",
       "    margin: 0em 0px;\r\n",
       "}\r\n",
       "table tr td pre \r\n",
       "{ \r\n",
       "    vertical-align: top !important; \r\n",
       "    margin: 0em 0px !important;\r\n",
       "} \r\n",
       "table th {\r\n",
       "    text-align: start;\r\n",
       "}\r\n",
       "</style>"
      ]
     },
     "metadata": {},
     "output_type": "display_data"
    },
    {
     "name": "stdout",
     "output_type": "stream",
     "text": [
      "Line:0 Col:0 Error parsing bool\n",
      "truX\n",
      "^Unexpected 't'\r\n"
     ]
    }
   ],
   "source": [
    "run jBool \"truX\"\n",
    "|> expect (\n",
    "    Failure (\n",
    "        \"bool\",\n",
    "        \"Unexpected 't'\",\n",
    "        {currentLine = \"truX\"; line = 0; column = 0}\n",
    "    )\n",
    ")"
   ]
  },
  {
   "cell_type": "code",
   "execution_count": null,
   "metadata": {
    "dotnet_repl_cellExecutionStartTime": "2023-06-28T01:48:47.5772289-04:00",
    "dotnet_repl_cellExecutionEndTime": "2023-06-28T01:48:47.6510885-04:00",
    "dotnet_interactive": {
     "language": "fsharp"
    },
    "polyglot_notebook": {
     "kernelName": "fsharp"
    }
   },
   "outputs": [
    {
     "data": {
      "text/html": [
       "<details open=\"open\" class=\"dni-treeview\"><summary><span class=\"dni-code-hint\"><code>Success ('a', { lines = [|\"a\"|]\\n                position = { line = 0\\n                             column = 1 } })</code></span></summary><div><table><thead><tr></tr></thead><tbody><tr><td>Item</td><td><details class=\"dni-treeview\"><summary><span class=\"dni-code-hint\"><code>(a, { lines = [|\"a\"|]\\n  position = { line = 0\\n               column = 1 } })</code></span></summary><div><table><thead><tr></tr></thead><tbody><tr><td>Item1</td><td><div class=\"dni-plaintext\"><pre>a</pre></div></td></tr><tr><td>Item2</td><td><details class=\"dni-treeview\"><summary><span class=\"dni-code-hint\"><code>{ lines = [|\"a\"|]\\n  position = { line = 0\\n               column = 1 } }</code></span></summary><div><table><thead><tr></tr></thead><tbody><tr><td>lines</td><td><div class=\"dni-plaintext\"><pre>[ a ]</pre></div></td></tr><tr><td>position</td><td><details class=\"dni-treeview\"><summary><span class=\"dni-code-hint\"><code>{ line = 0\\n  column = 1 }</code></span></summary><div><table><thead><tr></tr></thead><tbody><tr><td>line</td><td><div class=\"dni-plaintext\"><pre>0</pre></div></td></tr><tr><td>column</td><td><div class=\"dni-plaintext\"><pre>1</pre></div></td></tr></tbody></table></div></details></td></tr></tbody></table></div></details></td></tr></tbody></table></div></details></td></tr></tbody></table></div></details><style>\r\n",
       ".dni-code-hint {\r\n",
       "    font-style: italic;\r\n",
       "    overflow: hidden;\r\n",
       "    white-space: nowrap;\r\n",
       "}\r\n",
       ".dni-treeview {\r\n",
       "    white-space: nowrap;\r\n",
       "}\r\n",
       ".dni-treeview td {\r\n",
       "    vertical-align: top;\r\n",
       "    text-align: start;\r\n",
       "}\r\n",
       "details.dni-treeview {\r\n",
       "    padding-left: 1em;\r\n",
       "}\r\n",
       "table td {\r\n",
       "    text-align: start;\r\n",
       "}\r\n",
       "table tr { \r\n",
       "    vertical-align: top; \r\n",
       "    margin: 0em 0px;\r\n",
       "}\r\n",
       "table tr td pre \r\n",
       "{ \r\n",
       "    vertical-align: top !important; \r\n",
       "    margin: 0em 0px !important;\r\n",
       "} \r\n",
       "table th {\r\n",
       "    text-align: start;\r\n",
       "}\r\n",
       "</style>"
      ]
     },
     "metadata": {},
     "output_type": "display_data"
    },
    {
     "name": "stdout",
     "output_type": "stream",
     "text": [
      "'a'\r\n"
     ]
    }
   ],
   "source": [
    "run jUnescapedChar \"a\"\n",
    "|> expect (Success 'a')"
   ]
  },
  {
   "cell_type": "code",
   "execution_count": null,
   "metadata": {
    "dotnet_repl_cellExecutionStartTime": "2023-06-28T01:48:47.6513713-04:00",
    "dotnet_repl_cellExecutionEndTime": "2023-06-28T01:48:47.708918-04:00",
    "dotnet_interactive": {
     "language": "fsharp"
    },
    "polyglot_notebook": {
     "kernelName": "fsharp"
    }
   },
   "outputs": [
    {
     "data": {
      "text/html": [
       "<details open=\"open\" class=\"dni-treeview\"><summary><span class=\"dni-code-hint\"><code>Failure (\"char\", \"Unexpected '\\'\", { currentLine = \"\\\"\\n                                     line = 0\\n                                     column = 0 })</code></span></summary><div><table><thead><tr></tr></thead><tbody><tr><td>Item1</td><td>char</td></tr><tr><td>Item2</td><td>Unexpected &#39;\\&#39;</td></tr><tr><td>Item3</td><td><details class=\"dni-treeview\"><summary><span class=\"dni-code-hint\"><code>{ currentLine = \"\\\"\\n  line = 0\\n  column = 0 }</code></span></summary><div><table><thead><tr></tr></thead><tbody><tr><td>currentLine</td><td>\\</td></tr><tr><td>line</td><td><div class=\"dni-plaintext\"><pre>0</pre></div></td></tr><tr><td>column</td><td><div class=\"dni-plaintext\"><pre>0</pre></div></td></tr></tbody></table></div></details></td></tr></tbody></table></div></details><style>\r\n",
       ".dni-code-hint {\r\n",
       "    font-style: italic;\r\n",
       "    overflow: hidden;\r\n",
       "    white-space: nowrap;\r\n",
       "}\r\n",
       ".dni-treeview {\r\n",
       "    white-space: nowrap;\r\n",
       "}\r\n",
       ".dni-treeview td {\r\n",
       "    vertical-align: top;\r\n",
       "    text-align: start;\r\n",
       "}\r\n",
       "details.dni-treeview {\r\n",
       "    padding-left: 1em;\r\n",
       "}\r\n",
       "table td {\r\n",
       "    text-align: start;\r\n",
       "}\r\n",
       "table tr { \r\n",
       "    vertical-align: top; \r\n",
       "    margin: 0em 0px;\r\n",
       "}\r\n",
       "table tr td pre \r\n",
       "{ \r\n",
       "    vertical-align: top !important; \r\n",
       "    margin: 0em 0px !important;\r\n",
       "} \r\n",
       "table th {\r\n",
       "    text-align: start;\r\n",
       "}\r\n",
       "</style>"
      ]
     },
     "metadata": {},
     "output_type": "display_data"
    },
    {
     "name": "stdout",
     "output_type": "stream",
     "text": [
      "Line:0 Col:0 Error parsing char\n",
      "\\\n",
      "^Unexpected '\\'\r\n"
     ]
    }
   ],
   "source": [
    "run jUnescapedChar \"\\\\\"\n",
    "|> expect (\n",
    "    Failure (\n",
    "        \"char\",\n",
    "        \"Unexpected '\\\\'\",\n",
    "        {currentLine = \"\\\\\"; line = 0; column = 0}\n",
    "    )\n",
    ")"
   ]
  },
  {
   "cell_type": "code",
   "execution_count": null,
   "metadata": {
    "dotnet_repl_cellExecutionStartTime": "2023-06-28T01:48:47.7089682-04:00",
    "dotnet_repl_cellExecutionEndTime": "2023-06-28T01:48:47.7405184-04:00",
    "dotnet_interactive": {
     "language": "fsharp"
    },
    "polyglot_notebook": {
     "kernelName": "fsharp"
    }
   },
   "outputs": [
    {
     "data": {
      "text/html": [
       "<details open=\"open\" class=\"dni-treeview\"><summary><span class=\"dni-code-hint\"><code>Success ('\\\\', { lines = [|\"\\\\\"|]\\n                 position = { line = 0\\n                              column = 2 } })</code></span></summary><div><table><thead><tr></tr></thead><tbody><tr><td>Item</td><td><details class=\"dni-treeview\"><summary><span class=\"dni-code-hint\"><code>(\\, { lines = [|\"\\\\\"|]\\n  position = { line = 0\\n               column = 2 } })</code></span></summary><div><table><thead><tr></tr></thead><tbody><tr><td>Item1</td><td><div class=\"dni-plaintext\"><pre>\\</pre></div></td></tr><tr><td>Item2</td><td><details class=\"dni-treeview\"><summary><span class=\"dni-code-hint\"><code>{ lines = [|\"\\\\\"|]\\n  position = { line = 0\\n               column = 2 } }</code></span></summary><div><table><thead><tr></tr></thead><tbody><tr><td>lines</td><td><div class=\"dni-plaintext\"><pre>[ \\\\ ]</pre></div></td></tr><tr><td>position</td><td><details class=\"dni-treeview\"><summary><span class=\"dni-code-hint\"><code>{ line = 0\\n  column = 2 }</code></span></summary><div><table><thead><tr></tr></thead><tbody><tr><td>line</td><td><div class=\"dni-plaintext\"><pre>0</pre></div></td></tr><tr><td>column</td><td><div class=\"dni-plaintext\"><pre>2</pre></div></td></tr></tbody></table></div></details></td></tr></tbody></table></div></details></td></tr></tbody></table></div></details></td></tr></tbody></table></div></details><style>\r\n",
       ".dni-code-hint {\r\n",
       "    font-style: italic;\r\n",
       "    overflow: hidden;\r\n",
       "    white-space: nowrap;\r\n",
       "}\r\n",
       ".dni-treeview {\r\n",
       "    white-space: nowrap;\r\n",
       "}\r\n",
       ".dni-treeview td {\r\n",
       "    vertical-align: top;\r\n",
       "    text-align: start;\r\n",
       "}\r\n",
       "details.dni-treeview {\r\n",
       "    padding-left: 1em;\r\n",
       "}\r\n",
       "table td {\r\n",
       "    text-align: start;\r\n",
       "}\r\n",
       "table tr { \r\n",
       "    vertical-align: top; \r\n",
       "    margin: 0em 0px;\r\n",
       "}\r\n",
       "table tr td pre \r\n",
       "{ \r\n",
       "    vertical-align: top !important; \r\n",
       "    margin: 0em 0px !important;\r\n",
       "} \r\n",
       "table th {\r\n",
       "    text-align: start;\r\n",
       "}\r\n",
       "</style>"
      ]
     },
     "metadata": {},
     "output_type": "display_data"
    },
    {
     "name": "stdout",
     "output_type": "stream",
     "text": [
      "'\\\\'\r\n"
     ]
    }
   ],
   "source": [
    "run jEscapedChar \"\\\\\\\\\"\n",
    "|> expect (Success '\\\\')"
   ]
  },
  {
   "cell_type": "code",
   "execution_count": null,
   "metadata": {
    "dotnet_repl_cellExecutionStartTime": "2023-06-28T01:48:47.740619-04:00",
    "dotnet_repl_cellExecutionEndTime": "2023-06-28T01:48:47.7673455-04:00",
    "dotnet_interactive": {
     "language": "fsharp"
    },
    "polyglot_notebook": {
     "kernelName": "fsharp"
    }
   },
   "outputs": [
    {
     "data": {
      "text/html": [
       "<details open=\"open\" class=\"dni-treeview\"><summary><span class=\"dni-code-hint\"><code>Success ('\\009', { lines = [|\"\\t\"|]\\n                   position = { line = 0\\n                                column = 2 } })</code></span></summary><div><table><thead><tr></tr></thead><tbody><tr><td>Item</td><td><details class=\"dni-treeview\"><summary><span class=\"dni-code-hint\"><code>(\t, { lines = [|\"\\t\"|]\\n  position = { line = 0\\n               column = 2 } })</code></span></summary><div><table><thead><tr></tr></thead><tbody><tr><td>Item1</td><td><div class=\"dni-plaintext\"><pre>\t</pre></div></td></tr><tr><td>Item2</td><td><details class=\"dni-treeview\"><summary><span class=\"dni-code-hint\"><code>{ lines = [|\"\\t\"|]\\n  position = { line = 0\\n               column = 2 } }</code></span></summary><div><table><thead><tr></tr></thead><tbody><tr><td>lines</td><td><div class=\"dni-plaintext\"><pre>[ \\t ]</pre></div></td></tr><tr><td>position</td><td><details class=\"dni-treeview\"><summary><span class=\"dni-code-hint\"><code>{ line = 0\\n  column = 2 }</code></span></summary><div><table><thead><tr></tr></thead><tbody><tr><td>line</td><td><div class=\"dni-plaintext\"><pre>0</pre></div></td></tr><tr><td>column</td><td><div class=\"dni-plaintext\"><pre>2</pre></div></td></tr></tbody></table></div></details></td></tr></tbody></table></div></details></td></tr></tbody></table></div></details></td></tr></tbody></table></div></details><style>\r\n",
       ".dni-code-hint {\r\n",
       "    font-style: italic;\r\n",
       "    overflow: hidden;\r\n",
       "    white-space: nowrap;\r\n",
       "}\r\n",
       ".dni-treeview {\r\n",
       "    white-space: nowrap;\r\n",
       "}\r\n",
       ".dni-treeview td {\r\n",
       "    vertical-align: top;\r\n",
       "    text-align: start;\r\n",
       "}\r\n",
       "details.dni-treeview {\r\n",
       "    padding-left: 1em;\r\n",
       "}\r\n",
       "table td {\r\n",
       "    text-align: start;\r\n",
       "}\r\n",
       "table tr { \r\n",
       "    vertical-align: top; \r\n",
       "    margin: 0em 0px;\r\n",
       "}\r\n",
       "table tr td pre \r\n",
       "{ \r\n",
       "    vertical-align: top !important; \r\n",
       "    margin: 0em 0px !important;\r\n",
       "} \r\n",
       "table th {\r\n",
       "    text-align: start;\r\n",
       "}\r\n",
       "</style>"
      ]
     },
     "metadata": {},
     "output_type": "display_data"
    },
    {
     "name": "stdout",
     "output_type": "stream",
     "text": [
      "'\\009'\r\n"
     ]
    }
   ],
   "source": [
    "run jEscapedChar \"\\\\t\"\n",
    "|> expect (Success '\\t')"
   ]
  },
  {
   "cell_type": "code",
   "execution_count": null,
   "metadata": {
    "dotnet_repl_cellExecutionStartTime": "2023-06-28T01:48:47.7673842-04:00",
    "dotnet_repl_cellExecutionEndTime": "2023-06-28T01:48:47.7961213-04:00",
    "dotnet_interactive": {
     "language": "fsharp"
    },
    "polyglot_notebook": {
     "kernelName": "fsharp"
    }
   },
   "outputs": [
    {
     "data": {
      "text/html": [
       "<details open=\"open\" class=\"dni-treeview\"><summary><span class=\"dni-code-hint\"><code>Success ('\\\\', { lines = [|\"\\\\\"|]\\n                 position = { line = 0\\n                              column = 2 } })</code></span></summary><div><table><thead><tr></tr></thead><tbody><tr><td>Item</td><td><details class=\"dni-treeview\"><summary><span class=\"dni-code-hint\"><code>(\\, { lines = [|\"\\\\\"|]\\n  position = { line = 0\\n               column = 2 } })</code></span></summary><div><table><thead><tr></tr></thead><tbody><tr><td>Item1</td><td><div class=\"dni-plaintext\"><pre>\\</pre></div></td></tr><tr><td>Item2</td><td><details class=\"dni-treeview\"><summary><span class=\"dni-code-hint\"><code>{ lines = [|\"\\\\\"|]\\n  position = { line = 0\\n               column = 2 } }</code></span></summary><div><table><thead><tr></tr></thead><tbody><tr><td>lines</td><td><div class=\"dni-plaintext\"><pre>[ \\\\ ]</pre></div></td></tr><tr><td>position</td><td><details class=\"dni-treeview\"><summary><span class=\"dni-code-hint\"><code>{ line = 0\\n  column = 2 }</code></span></summary><div><table><thead><tr></tr></thead><tbody><tr><td>line</td><td><div class=\"dni-plaintext\"><pre>0</pre></div></td></tr><tr><td>column</td><td><div class=\"dni-plaintext\"><pre>2</pre></div></td></tr></tbody></table></div></details></td></tr></tbody></table></div></details></td></tr></tbody></table></div></details></td></tr></tbody></table></div></details><style>\r\n",
       ".dni-code-hint {\r\n",
       "    font-style: italic;\r\n",
       "    overflow: hidden;\r\n",
       "    white-space: nowrap;\r\n",
       "}\r\n",
       ".dni-treeview {\r\n",
       "    white-space: nowrap;\r\n",
       "}\r\n",
       ".dni-treeview td {\r\n",
       "    vertical-align: top;\r\n",
       "    text-align: start;\r\n",
       "}\r\n",
       "details.dni-treeview {\r\n",
       "    padding-left: 1em;\r\n",
       "}\r\n",
       "table td {\r\n",
       "    text-align: start;\r\n",
       "}\r\n",
       "table tr { \r\n",
       "    vertical-align: top; \r\n",
       "    margin: 0em 0px;\r\n",
       "}\r\n",
       "table tr td pre \r\n",
       "{ \r\n",
       "    vertical-align: top !important; \r\n",
       "    margin: 0em 0px !important;\r\n",
       "} \r\n",
       "table th {\r\n",
       "    text-align: start;\r\n",
       "}\r\n",
       "</style>"
      ]
     },
     "metadata": {},
     "output_type": "display_data"
    },
    {
     "name": "stdout",
     "output_type": "stream",
     "text": [
      "'\\\\'\r\n"
     ]
    }
   ],
   "source": [
    "run jEscapedChar @\"\\\\\"\n",
    "|> expect (Success '\\\\')"
   ]
  },
  {
   "cell_type": "code",
   "execution_count": null,
   "metadata": {
    "dotnet_repl_cellExecutionStartTime": "2023-06-28T01:48:47.7961618-04:00",
    "dotnet_repl_cellExecutionEndTime": "2023-06-28T01:48:47.8304651-04:00",
    "dotnet_interactive": {
     "language": "fsharp"
    },
    "polyglot_notebook": {
     "kernelName": "fsharp"
    }
   },
   "outputs": [
    {
     "data": {
      "text/html": [
       "<details open=\"open\" class=\"dni-treeview\"><summary><span class=\"dni-code-hint\"><code>Success ('\\010', { lines = [|\"\\n\"|]\\n                   position = { line = 0\\n                                column = 2 } })</code></span></summary><div><table><thead><tr></tr></thead><tbody><tr><td>Item</td><td><details class=\"dni-treeview\"><summary><span class=\"dni-code-hint\"><code>(\\n, { lines = [|\"\\n\"|]\\n  position = { line = 0\\n               column = 2 } })</code></span></summary><div><table><thead><tr></tr></thead><tbody><tr><td>Item1</td><td><div class=\"dni-plaintext\"><pre>\n",
       "</pre></div></td></tr><tr><td>Item2</td><td><details class=\"dni-treeview\"><summary><span class=\"dni-code-hint\"><code>{ lines = [|\"\\n\"|]\\n  position = { line = 0\\n               column = 2 } }</code></span></summary><div><table><thead><tr></tr></thead><tbody><tr><td>lines</td><td><div class=\"dni-plaintext\"><pre>[ \\n ]</pre></div></td></tr><tr><td>position</td><td><details class=\"dni-treeview\"><summary><span class=\"dni-code-hint\"><code>{ line = 0\\n  column = 2 }</code></span></summary><div><table><thead><tr></tr></thead><tbody><tr><td>line</td><td><div class=\"dni-plaintext\"><pre>0</pre></div></td></tr><tr><td>column</td><td><div class=\"dni-plaintext\"><pre>2</pre></div></td></tr></tbody></table></div></details></td></tr></tbody></table></div></details></td></tr></tbody></table></div></details></td></tr></tbody></table></div></details><style>\r\n",
       ".dni-code-hint {\r\n",
       "    font-style: italic;\r\n",
       "    overflow: hidden;\r\n",
       "    white-space: nowrap;\r\n",
       "}\r\n",
       ".dni-treeview {\r\n",
       "    white-space: nowrap;\r\n",
       "}\r\n",
       ".dni-treeview td {\r\n",
       "    vertical-align: top;\r\n",
       "    text-align: start;\r\n",
       "}\r\n",
       "details.dni-treeview {\r\n",
       "    padding-left: 1em;\r\n",
       "}\r\n",
       "table td {\r\n",
       "    text-align: start;\r\n",
       "}\r\n",
       "table tr { \r\n",
       "    vertical-align: top; \r\n",
       "    margin: 0em 0px;\r\n",
       "}\r\n",
       "table tr td pre \r\n",
       "{ \r\n",
       "    vertical-align: top !important; \r\n",
       "    margin: 0em 0px !important;\r\n",
       "} \r\n",
       "table th {\r\n",
       "    text-align: start;\r\n",
       "}\r\n",
       "</style>"
      ]
     },
     "metadata": {},
     "output_type": "display_data"
    },
    {
     "name": "stdout",
     "output_type": "stream",
     "text": [
      "'\\010'\r\n"
     ]
    }
   ],
   "source": [
    "run jEscapedChar @\"\\n\"\n",
    "|> expect (Success '\\n')"
   ]
  },
  {
   "cell_type": "code",
   "execution_count": null,
   "metadata": {
    "dotnet_repl_cellExecutionStartTime": "2023-06-28T01:48:47.8305034-04:00",
    "dotnet_repl_cellExecutionEndTime": "2023-06-28T01:48:47.859484-04:00",
    "dotnet_interactive": {
     "language": "fsharp"
    },
    "polyglot_notebook": {
     "kernelName": "fsharp"
    }
   },
   "outputs": [
    {
     "data": {
      "text/html": [
       "<details open=\"open\" class=\"dni-treeview\"><summary><span class=\"dni-code-hint\"><code>Failure (\"escaped char\", \"Unexpected 'a'\", { currentLine = \"a\"\\n                                             line = 0\\n                                             column = 0 })</code></span></summary><div><table><thead><tr></tr></thead><tbody><tr><td>Item1</td><td>escaped char</td></tr><tr><td>Item2</td><td>Unexpected &#39;a&#39;</td></tr><tr><td>Item3</td><td><details class=\"dni-treeview\"><summary><span class=\"dni-code-hint\"><code>{ currentLine = \"a\"\\n  line = 0\\n  column = 0 }</code></span></summary><div><table><thead><tr></tr></thead><tbody><tr><td>currentLine</td><td>a</td></tr><tr><td>line</td><td><div class=\"dni-plaintext\"><pre>0</pre></div></td></tr><tr><td>column</td><td><div class=\"dni-plaintext\"><pre>0</pre></div></td></tr></tbody></table></div></details></td></tr></tbody></table></div></details><style>\r\n",
       ".dni-code-hint {\r\n",
       "    font-style: italic;\r\n",
       "    overflow: hidden;\r\n",
       "    white-space: nowrap;\r\n",
       "}\r\n",
       ".dni-treeview {\r\n",
       "    white-space: nowrap;\r\n",
       "}\r\n",
       ".dni-treeview td {\r\n",
       "    vertical-align: top;\r\n",
       "    text-align: start;\r\n",
       "}\r\n",
       "details.dni-treeview {\r\n",
       "    padding-left: 1em;\r\n",
       "}\r\n",
       "table td {\r\n",
       "    text-align: start;\r\n",
       "}\r\n",
       "table tr { \r\n",
       "    vertical-align: top; \r\n",
       "    margin: 0em 0px;\r\n",
       "}\r\n",
       "table tr td pre \r\n",
       "{ \r\n",
       "    vertical-align: top !important; \r\n",
       "    margin: 0em 0px !important;\r\n",
       "} \r\n",
       "table th {\r\n",
       "    text-align: start;\r\n",
       "}\r\n",
       "</style>"
      ]
     },
     "metadata": {},
     "output_type": "display_data"
    },
    {
     "name": "stdout",
     "output_type": "stream",
     "text": [
      "Line:0 Col:0 Error parsing escaped char\n",
      "a\n",
      "^Unexpected 'a'\r\n"
     ]
    }
   ],
   "source": [
    "run jEscapedChar \"a\"\n",
    "|> expect (\n",
    "    Failure (\n",
    "        \"escaped char\",\n",
    "        \"Unexpected 'a'\",\n",
    "        {currentLine = \"a\"; line = 0; column = 0}\n",
    "    )\n",
    ")"
   ]
  },
  {
   "cell_type": "code",
   "execution_count": null,
   "metadata": {
    "dotnet_repl_cellExecutionStartTime": "2023-06-28T01:48:47.8595312-04:00",
    "dotnet_repl_cellExecutionEndTime": "2023-06-28T01:48:47.9239975-04:00",
    "dotnet_interactive": {
     "language": "fsharp"
    },
    "polyglot_notebook": {
     "kernelName": "fsharp"
    }
   },
   "outputs": [
    {
     "data": {
      "text/html": [
       "<details open=\"open\" class=\"dni-treeview\"><summary><span class=\"dni-code-hint\"><code>Success ('☺', { lines = [|\"\\u263A\"|]\\n                position = { line = 0\\n                             column = 6 } })</code></span></summary><div><table><thead><tr></tr></thead><tbody><tr><td>Item</td><td><details class=\"dni-treeview\"><summary><span class=\"dni-code-hint\"><code>(☺, { lines = [|\"\\u263A\"|]\\n  position = { line = 0\\n               column = 6 } })</code></span></summary><div><table><thead><tr></tr></thead><tbody><tr><td>Item1</td><td><div class=\"dni-plaintext\"><pre>☺</pre></div></td></tr><tr><td>Item2</td><td><details class=\"dni-treeview\"><summary><span class=\"dni-code-hint\"><code>{ lines = [|\"\\u263A\"|]\\n  position = { line = 0\\n               column = 6 } }</code></span></summary><div><table><thead><tr></tr></thead><tbody><tr><td>lines</td><td><div class=\"dni-plaintext\"><pre>[ \\u263A ]</pre></div></td></tr><tr><td>position</td><td><details class=\"dni-treeview\"><summary><span class=\"dni-code-hint\"><code>{ line = 0\\n  column = 6 }</code></span></summary><div><table><thead><tr></tr></thead><tbody><tr><td>line</td><td><div class=\"dni-plaintext\"><pre>0</pre></div></td></tr><tr><td>column</td><td><div class=\"dni-plaintext\"><pre>6</pre></div></td></tr></tbody></table></div></details></td></tr></tbody></table></div></details></td></tr></tbody></table></div></details></td></tr></tbody></table></div></details><style>\r\n",
       ".dni-code-hint {\r\n",
       "    font-style: italic;\r\n",
       "    overflow: hidden;\r\n",
       "    white-space: nowrap;\r\n",
       "}\r\n",
       ".dni-treeview {\r\n",
       "    white-space: nowrap;\r\n",
       "}\r\n",
       ".dni-treeview td {\r\n",
       "    vertical-align: top;\r\n",
       "    text-align: start;\r\n",
       "}\r\n",
       "details.dni-treeview {\r\n",
       "    padding-left: 1em;\r\n",
       "}\r\n",
       "table td {\r\n",
       "    text-align: start;\r\n",
       "}\r\n",
       "table tr { \r\n",
       "    vertical-align: top; \r\n",
       "    margin: 0em 0px;\r\n",
       "}\r\n",
       "table tr td pre \r\n",
       "{ \r\n",
       "    vertical-align: top !important; \r\n",
       "    margin: 0em 0px !important;\r\n",
       "} \r\n",
       "table th {\r\n",
       "    text-align: start;\r\n",
       "}\r\n",
       "</style>"
      ]
     },
     "metadata": {},
     "output_type": "display_data"
    },
    {
     "name": "stdout",
     "output_type": "stream",
     "text": [
      "'☺'\r\n"
     ]
    }
   ],
   "source": [
    "run jUnicodeChar \"\\\\u263A\"\n",
    "|> expect (Success '☺')"
   ]
  },
  {
   "cell_type": "code",
   "execution_count": null,
   "metadata": {
    "dotnet_repl_cellExecutionStartTime": "2023-06-28T01:48:47.9240344-04:00",
    "dotnet_repl_cellExecutionEndTime": "2023-06-28T01:48:47.9663712-04:00",
    "dotnet_interactive": {
     "language": "fsharp"
    },
    "polyglot_notebook": {
     "kernelName": "fsharp"
    }
   },
   "outputs": [
    {
     "data": {
      "text/html": [
       "<details open=\"open\" class=\"dni-treeview\"><summary><span class=\"dni-code-hint\"><code>Success (JString \"\", { lines = [|\"\"\"\"|]\\n                       position = { line = 0\\n                                    column = 2 } })</code></span></summary><div><table><thead><tr></tr></thead><tbody><tr><td>Item</td><td><details class=\"dni-treeview\"><summary><span class=\"dni-code-hint\"><code>(JString \"\", { lines = [|\"\"\"\"|]\\n  position = { line = 0\\n               column = 2 } })</code></span></summary><div><table><thead><tr></tr></thead><tbody><tr><td>Item1</td><td><details class=\"dni-treeview\"><summary><span class=\"dni-code-hint\"><code>JString \"\"</code></span></summary><div><table><thead><tr></tr></thead><tbody><tr><td>Item</td><td></td></tr></tbody></table></div></details></td></tr><tr><td>Item2</td><td><details class=\"dni-treeview\"><summary><span class=\"dni-code-hint\"><code>{ lines = [|\"\"\"\"|]\\n  position = { line = 0\\n               column = 2 } }</code></span></summary><div><table><thead><tr></tr></thead><tbody><tr><td>lines</td><td><div class=\"dni-plaintext\"><pre>[ &quot;&quot; ]</pre></div></td></tr><tr><td>position</td><td><details class=\"dni-treeview\"><summary><span class=\"dni-code-hint\"><code>{ line = 0\\n  column = 2 }</code></span></summary><div><table><thead><tr></tr></thead><tbody><tr><td>line</td><td><div class=\"dni-plaintext\"><pre>0</pre></div></td></tr><tr><td>column</td><td><div class=\"dni-plaintext\"><pre>2</pre></div></td></tr></tbody></table></div></details></td></tr></tbody></table></div></details></td></tr></tbody></table></div></details></td></tr></tbody></table></div></details><style>\r\n",
       ".dni-code-hint {\r\n",
       "    font-style: italic;\r\n",
       "    overflow: hidden;\r\n",
       "    white-space: nowrap;\r\n",
       "}\r\n",
       ".dni-treeview {\r\n",
       "    white-space: nowrap;\r\n",
       "}\r\n",
       ".dni-treeview td {\r\n",
       "    vertical-align: top;\r\n",
       "    text-align: start;\r\n",
       "}\r\n",
       "details.dni-treeview {\r\n",
       "    padding-left: 1em;\r\n",
       "}\r\n",
       "table td {\r\n",
       "    text-align: start;\r\n",
       "}\r\n",
       "table tr { \r\n",
       "    vertical-align: top; \r\n",
       "    margin: 0em 0px;\r\n",
       "}\r\n",
       "table tr td pre \r\n",
       "{ \r\n",
       "    vertical-align: top !important; \r\n",
       "    margin: 0em 0px !important;\r\n",
       "} \r\n",
       "table th {\r\n",
       "    text-align: start;\r\n",
       "}\r\n",
       "</style>"
      ]
     },
     "metadata": {},
     "output_type": "display_data"
    },
    {
     "name": "stdout",
     "output_type": "stream",
     "text": [
      "JString \"\"\r\n"
     ]
    }
   ],
   "source": [
    "run jString \"\\\"\\\"\"\n",
    "|> expect (Success (JString \"\"))"
   ]
  },
  {
   "cell_type": "code",
   "execution_count": null,
   "metadata": {
    "dotnet_repl_cellExecutionStartTime": "2023-06-28T01:48:47.96641-04:00",
    "dotnet_repl_cellExecutionEndTime": "2023-06-28T01:48:47.9922597-04:00",
    "dotnet_interactive": {
     "language": "fsharp"
    },
    "polyglot_notebook": {
     "kernelName": "fsharp"
    }
   },
   "outputs": [
    {
     "data": {
      "text/html": [
       "<details open=\"open\" class=\"dni-treeview\"><summary><span class=\"dni-code-hint\"><code>Success (JString \"a\", { lines = [|\"\"a\"\"|]\\n                        position = { line = 0\\n                                     column = 3 } })</code></span></summary><div><table><thead><tr></tr></thead><tbody><tr><td>Item</td><td><details class=\"dni-treeview\"><summary><span class=\"dni-code-hint\"><code>(JString \"a\", { lines = [|\"\"a\"\"|]\\n  position = { line = 0\\n               column = 3 } })</code></span></summary><div><table><thead><tr></tr></thead><tbody><tr><td>Item1</td><td><details class=\"dni-treeview\"><summary><span class=\"dni-code-hint\"><code>JString \"a\"</code></span></summary><div><table><thead><tr></tr></thead><tbody><tr><td>Item</td><td>a</td></tr></tbody></table></div></details></td></tr><tr><td>Item2</td><td><details class=\"dni-treeview\"><summary><span class=\"dni-code-hint\"><code>{ lines = [|\"\"a\"\"|]\\n  position = { line = 0\\n               column = 3 } }</code></span></summary><div><table><thead><tr></tr></thead><tbody><tr><td>lines</td><td><div class=\"dni-plaintext\"><pre>[ &quot;a&quot; ]</pre></div></td></tr><tr><td>position</td><td><details class=\"dni-treeview\"><summary><span class=\"dni-code-hint\"><code>{ line = 0\\n  column = 3 }</code></span></summary><div><table><thead><tr></tr></thead><tbody><tr><td>line</td><td><div class=\"dni-plaintext\"><pre>0</pre></div></td></tr><tr><td>column</td><td><div class=\"dni-plaintext\"><pre>3</pre></div></td></tr></tbody></table></div></details></td></tr></tbody></table></div></details></td></tr></tbody></table></div></details></td></tr></tbody></table></div></details><style>\r\n",
       ".dni-code-hint {\r\n",
       "    font-style: italic;\r\n",
       "    overflow: hidden;\r\n",
       "    white-space: nowrap;\r\n",
       "}\r\n",
       ".dni-treeview {\r\n",
       "    white-space: nowrap;\r\n",
       "}\r\n",
       ".dni-treeview td {\r\n",
       "    vertical-align: top;\r\n",
       "    text-align: start;\r\n",
       "}\r\n",
       "details.dni-treeview {\r\n",
       "    padding-left: 1em;\r\n",
       "}\r\n",
       "table td {\r\n",
       "    text-align: start;\r\n",
       "}\r\n",
       "table tr { \r\n",
       "    vertical-align: top; \r\n",
       "    margin: 0em 0px;\r\n",
       "}\r\n",
       "table tr td pre \r\n",
       "{ \r\n",
       "    vertical-align: top !important; \r\n",
       "    margin: 0em 0px !important;\r\n",
       "} \r\n",
       "table th {\r\n",
       "    text-align: start;\r\n",
       "}\r\n",
       "</style>"
      ]
     },
     "metadata": {},
     "output_type": "display_data"
    },
    {
     "name": "stdout",
     "output_type": "stream",
     "text": [
      "JString \"a\"\r\n"
     ]
    }
   ],
   "source": [
    "run jString \"\\\"a\\\"\"\n",
    "|> expect (Success (JString \"a\"))"
   ]
  },
  {
   "cell_type": "code",
   "execution_count": null,
   "metadata": {
    "dotnet_repl_cellExecutionStartTime": "2023-06-28T01:48:47.9923004-04:00",
    "dotnet_repl_cellExecutionEndTime": "2023-06-28T01:48:48.0166518-04:00",
    "dotnet_interactive": {
     "language": "fsharp"
    },
    "polyglot_notebook": {
     "kernelName": "fsharp"
    }
   },
   "outputs": [
    {
     "data": {
      "text/html": [
       "<details open=\"open\" class=\"dni-treeview\"><summary><span class=\"dni-code-hint\"><code>Success (JString \"ab\", { lines = [|\"\"ab\"\"|]\\n                         position = { line = 0\\n                                      column = 4 } })</code></span></summary><div><table><thead><tr></tr></thead><tbody><tr><td>Item</td><td><details class=\"dni-treeview\"><summary><span class=\"dni-code-hint\"><code>(JString \"ab\", { lines = [|\"\"ab\"\"|]\\n  position = { line = 0\\n               column = 4 } })</code></span></summary><div><table><thead><tr></tr></thead><tbody><tr><td>Item1</td><td><details class=\"dni-treeview\"><summary><span class=\"dni-code-hint\"><code>JString \"ab\"</code></span></summary><div><table><thead><tr></tr></thead><tbody><tr><td>Item</td><td>ab</td></tr></tbody></table></div></details></td></tr><tr><td>Item2</td><td><details class=\"dni-treeview\"><summary><span class=\"dni-code-hint\"><code>{ lines = [|\"\"ab\"\"|]\\n  position = { line = 0\\n               column = 4 } }</code></span></summary><div><table><thead><tr></tr></thead><tbody><tr><td>lines</td><td><div class=\"dni-plaintext\"><pre>[ &quot;ab&quot; ]</pre></div></td></tr><tr><td>position</td><td><details class=\"dni-treeview\"><summary><span class=\"dni-code-hint\"><code>{ line = 0\\n  column = 4 }</code></span></summary><div><table><thead><tr></tr></thead><tbody><tr><td>line</td><td><div class=\"dni-plaintext\"><pre>0</pre></div></td></tr><tr><td>column</td><td><div class=\"dni-plaintext\"><pre>4</pre></div></td></tr></tbody></table></div></details></td></tr></tbody></table></div></details></td></tr></tbody></table></div></details></td></tr></tbody></table></div></details><style>\r\n",
       ".dni-code-hint {\r\n",
       "    font-style: italic;\r\n",
       "    overflow: hidden;\r\n",
       "    white-space: nowrap;\r\n",
       "}\r\n",
       ".dni-treeview {\r\n",
       "    white-space: nowrap;\r\n",
       "}\r\n",
       ".dni-treeview td {\r\n",
       "    vertical-align: top;\r\n",
       "    text-align: start;\r\n",
       "}\r\n",
       "details.dni-treeview {\r\n",
       "    padding-left: 1em;\r\n",
       "}\r\n",
       "table td {\r\n",
       "    text-align: start;\r\n",
       "}\r\n",
       "table tr { \r\n",
       "    vertical-align: top; \r\n",
       "    margin: 0em 0px;\r\n",
       "}\r\n",
       "table tr td pre \r\n",
       "{ \r\n",
       "    vertical-align: top !important; \r\n",
       "    margin: 0em 0px !important;\r\n",
       "} \r\n",
       "table th {\r\n",
       "    text-align: start;\r\n",
       "}\r\n",
       "</style>"
      ]
     },
     "metadata": {},
     "output_type": "display_data"
    },
    {
     "name": "stdout",
     "output_type": "stream",
     "text": [
      "JString \"ab\"\r\n"
     ]
    }
   ],
   "source": [
    "run jString \"\\\"ab\\\"\"\n",
    "|> expect (Success (JString \"ab\"))"
   ]
  },
  {
   "cell_type": "code",
   "execution_count": null,
   "metadata": {
    "dotnet_repl_cellExecutionStartTime": "2023-06-28T01:48:48.0166916-04:00",
    "dotnet_repl_cellExecutionEndTime": "2023-06-28T01:48:48.0421636-04:00",
    "dotnet_interactive": {
     "language": "fsharp"
    },
    "polyglot_notebook": {
     "kernelName": "fsharp"
    }
   },
   "outputs": [
    {
     "data": {
      "text/html": [
       "<details open=\"open\" class=\"dni-treeview\"><summary><span class=\"dni-code-hint\"><code>Success (JString \"ab\tde\", { lines = [|\"\"ab\\tde\"\"|]\\n                            position = { line = 0\\n                                         column = 8 } })</code></span></summary><div><table><thead><tr></tr></thead><tbody><tr><td>Item</td><td><details class=\"dni-treeview\"><summary><span class=\"dni-code-hint\"><code>(JString \"ab\tde\", { lines = [|\"\"ab\\tde\"\"|]\\n  position = { line = 0\\n               column = 8 } })</code></span></summary><div><table><thead><tr></tr></thead><tbody><tr><td>Item1</td><td><details class=\"dni-treeview\"><summary><span class=\"dni-code-hint\"><code>JString \"ab\tde\"</code></span></summary><div><table><thead><tr></tr></thead><tbody><tr><td>Item</td><td>ab\tde</td></tr></tbody></table></div></details></td></tr><tr><td>Item2</td><td><details class=\"dni-treeview\"><summary><span class=\"dni-code-hint\"><code>{ lines = [|\"\"ab\\tde\"\"|]\\n  position = { line = 0\\n               column = 8 } }</code></span></summary><div><table><thead><tr></tr></thead><tbody><tr><td>lines</td><td><div class=\"dni-plaintext\"><pre>[ &quot;ab\\tde&quot; ]</pre></div></td></tr><tr><td>position</td><td><details class=\"dni-treeview\"><summary><span class=\"dni-code-hint\"><code>{ line = 0\\n  column = 8 }</code></span></summary><div><table><thead><tr></tr></thead><tbody><tr><td>line</td><td><div class=\"dni-plaintext\"><pre>0</pre></div></td></tr><tr><td>column</td><td><div class=\"dni-plaintext\"><pre>8</pre></div></td></tr></tbody></table></div></details></td></tr></tbody></table></div></details></td></tr></tbody></table></div></details></td></tr></tbody></table></div></details><style>\r\n",
       ".dni-code-hint {\r\n",
       "    font-style: italic;\r\n",
       "    overflow: hidden;\r\n",
       "    white-space: nowrap;\r\n",
       "}\r\n",
       ".dni-treeview {\r\n",
       "    white-space: nowrap;\r\n",
       "}\r\n",
       ".dni-treeview td {\r\n",
       "    vertical-align: top;\r\n",
       "    text-align: start;\r\n",
       "}\r\n",
       "details.dni-treeview {\r\n",
       "    padding-left: 1em;\r\n",
       "}\r\n",
       "table td {\r\n",
       "    text-align: start;\r\n",
       "}\r\n",
       "table tr { \r\n",
       "    vertical-align: top; \r\n",
       "    margin: 0em 0px;\r\n",
       "}\r\n",
       "table tr td pre \r\n",
       "{ \r\n",
       "    vertical-align: top !important; \r\n",
       "    margin: 0em 0px !important;\r\n",
       "} \r\n",
       "table th {\r\n",
       "    text-align: start;\r\n",
       "}\r\n",
       "</style>"
      ]
     },
     "metadata": {},
     "output_type": "display_data"
    },
    {
     "name": "stdout",
     "output_type": "stream",
     "text": [
      "JString \"ab\tde\"\r\n"
     ]
    }
   ],
   "source": [
    "run jString \"\\\"ab\\\\tde\\\"\"\n",
    "|> expect (Success (JString \"ab\\tde\"))"
   ]
  },
  {
   "cell_type": "code",
   "execution_count": null,
   "metadata": {
    "dotnet_repl_cellExecutionStartTime": "2023-06-28T01:48:48.0422226-04:00",
    "dotnet_repl_cellExecutionEndTime": "2023-06-28T01:48:48.0706648-04:00",
    "dotnet_interactive": {
     "language": "fsharp"
    },
    "polyglot_notebook": {
     "kernelName": "fsharp"
    }
   },
   "outputs": [
    {
     "data": {
      "text/html": [
       "<details open=\"open\" class=\"dni-treeview\"><summary><span class=\"dni-code-hint\"><code>Success (JString \"ab☺de\", { lines = [|\"\"ab\\u263Ade\"\"|]\\n                            position = { line = 0\\n                                         column = 12 } })</code></span></summary><div><table><thead><tr></tr></thead><tbody><tr><td>Item</td><td><details class=\"dni-treeview\"><summary><span class=\"dni-code-hint\"><code>(JString \"ab☺de\", { lines = [|\"\"ab\\u263Ade\"\"|]\\n  position = { line = 0\\n               column = 12 } })</code></span></summary><div><table><thead><tr></tr></thead><tbody><tr><td>Item1</td><td><details class=\"dni-treeview\"><summary><span class=\"dni-code-hint\"><code>JString \"ab☺de\"</code></span></summary><div><table><thead><tr></tr></thead><tbody><tr><td>Item</td><td>ab☺de</td></tr></tbody></table></div></details></td></tr><tr><td>Item2</td><td><details class=\"dni-treeview\"><summary><span class=\"dni-code-hint\"><code>{ lines = [|\"\"ab\\u263Ade\"\"|]\\n  position = { line = 0\\n               column = 12 } }</code></span></summary><div><table><thead><tr></tr></thead><tbody><tr><td>lines</td><td><div class=\"dni-plaintext\"><pre>[ &quot;ab\\u263Ade&quot; ]</pre></div></td></tr><tr><td>position</td><td><details class=\"dni-treeview\"><summary><span class=\"dni-code-hint\"><code>{ line = 0\\n  column = 12 }</code></span></summary><div><table><thead><tr></tr></thead><tbody><tr><td>line</td><td><div class=\"dni-plaintext\"><pre>0</pre></div></td></tr><tr><td>column</td><td><div class=\"dni-plaintext\"><pre>12</pre></div></td></tr></tbody></table></div></details></td></tr></tbody></table></div></details></td></tr></tbody></table></div></details></td></tr></tbody></table></div></details><style>\r\n",
       ".dni-code-hint {\r\n",
       "    font-style: italic;\r\n",
       "    overflow: hidden;\r\n",
       "    white-space: nowrap;\r\n",
       "}\r\n",
       ".dni-treeview {\r\n",
       "    white-space: nowrap;\r\n",
       "}\r\n",
       ".dni-treeview td {\r\n",
       "    vertical-align: top;\r\n",
       "    text-align: start;\r\n",
       "}\r\n",
       "details.dni-treeview {\r\n",
       "    padding-left: 1em;\r\n",
       "}\r\n",
       "table td {\r\n",
       "    text-align: start;\r\n",
       "}\r\n",
       "table tr { \r\n",
       "    vertical-align: top; \r\n",
       "    margin: 0em 0px;\r\n",
       "}\r\n",
       "table tr td pre \r\n",
       "{ \r\n",
       "    vertical-align: top !important; \r\n",
       "    margin: 0em 0px !important;\r\n",
       "} \r\n",
       "table th {\r\n",
       "    text-align: start;\r\n",
       "}\r\n",
       "</style>"
      ]
     },
     "metadata": {},
     "output_type": "display_data"
    },
    {
     "name": "stdout",
     "output_type": "stream",
     "text": [
      "JString \"ab☺de\"\r\n"
     ]
    }
   ],
   "source": [
    "run jString \"\\\"ab\\\\u263Ade\\\"\"\n",
    "|> expect (Success (JString \"ab☺de\"))"
   ]
  },
  {
   "cell_type": "code",
   "execution_count": null,
   "metadata": {
    "dotnet_repl_cellExecutionStartTime": "2023-06-28T01:48:48.0707369-04:00",
    "dotnet_repl_cellExecutionEndTime": "2023-06-28T01:48:48.1152751-04:00",
    "dotnet_interactive": {
     "language": "fsharp"
    },
    "polyglot_notebook": {
     "kernelName": "fsharp"
    }
   },
   "outputs": [
    {
     "data": {
      "text/html": [
       "<details open=\"open\" class=\"dni-treeview\"><summary><span class=\"dni-code-hint\"><code>Success (JNumber 123.0, { lines = [|\"123\"|]\\n                          position = { line = 0\\n                                       column = 3 } })</code></span></summary><div><table><thead><tr></tr></thead><tbody><tr><td>Item</td><td><details class=\"dni-treeview\"><summary><span class=\"dni-code-hint\"><code>(JNumber 123.0, { lines = [|\"123\"|]\\n  position = { line = 0\\n               column = 3 } })</code></span></summary><div><table><thead><tr></tr></thead><tbody><tr><td>Item1</td><td><details class=\"dni-treeview\"><summary><span class=\"dni-code-hint\"><code>JNumber 123.0</code></span></summary><div><table><thead><tr></tr></thead><tbody><tr><td>Item</td><td><div class=\"dni-plaintext\"><pre>123</pre></div></td></tr></tbody></table></div></details></td></tr><tr><td>Item2</td><td><details class=\"dni-treeview\"><summary><span class=\"dni-code-hint\"><code>{ lines = [|\"123\"|]\\n  position = { line = 0\\n               column = 3 } }</code></span></summary><div><table><thead><tr></tr></thead><tbody><tr><td>lines</td><td><div class=\"dni-plaintext\"><pre>[ 123 ]</pre></div></td></tr><tr><td>position</td><td><details class=\"dni-treeview\"><summary><span class=\"dni-code-hint\"><code>{ line = 0\\n  column = 3 }</code></span></summary><div><table><thead><tr></tr></thead><tbody><tr><td>line</td><td><div class=\"dni-plaintext\"><pre>0</pre></div></td></tr><tr><td>column</td><td><div class=\"dni-plaintext\"><pre>3</pre></div></td></tr></tbody></table></div></details></td></tr></tbody></table></div></details></td></tr></tbody></table></div></details></td></tr></tbody></table></div></details><style>\r\n",
       ".dni-code-hint {\r\n",
       "    font-style: italic;\r\n",
       "    overflow: hidden;\r\n",
       "    white-space: nowrap;\r\n",
       "}\r\n",
       ".dni-treeview {\r\n",
       "    white-space: nowrap;\r\n",
       "}\r\n",
       ".dni-treeview td {\r\n",
       "    vertical-align: top;\r\n",
       "    text-align: start;\r\n",
       "}\r\n",
       "details.dni-treeview {\r\n",
       "    padding-left: 1em;\r\n",
       "}\r\n",
       "table td {\r\n",
       "    text-align: start;\r\n",
       "}\r\n",
       "table tr { \r\n",
       "    vertical-align: top; \r\n",
       "    margin: 0em 0px;\r\n",
       "}\r\n",
       "table tr td pre \r\n",
       "{ \r\n",
       "    vertical-align: top !important; \r\n",
       "    margin: 0em 0px !important;\r\n",
       "} \r\n",
       "table th {\r\n",
       "    text-align: start;\r\n",
       "}\r\n",
       "</style>"
      ]
     },
     "metadata": {},
     "output_type": "display_data"
    },
    {
     "name": "stdout",
     "output_type": "stream",
     "text": [
      "JNumber 123.0\r\n"
     ]
    }
   ],
   "source": [
    "run jNumber \"123\"\n",
    "|> expect (Success (JNumber 123.0))"
   ]
  },
  {
   "cell_type": "code",
   "execution_count": null,
   "metadata": {
    "dotnet_repl_cellExecutionStartTime": "2023-06-28T01:48:48.1153086-04:00",
    "dotnet_repl_cellExecutionEndTime": "2023-06-28T01:48:48.1378177-04:00",
    "dotnet_interactive": {
     "language": "fsharp"
    },
    "polyglot_notebook": {
     "kernelName": "fsharp"
    }
   },
   "outputs": [
    {
     "data": {
      "text/html": [
       "<details open=\"open\" class=\"dni-treeview\"><summary><span class=\"dni-code-hint\"><code>Success (JNumber -123.0, { lines = [|\"-123\"|]\\n                           position = { line = 0\\n                                        column = 4 } })</code></span></summary><div><table><thead><tr></tr></thead><tbody><tr><td>Item</td><td><details class=\"dni-treeview\"><summary><span class=\"dni-code-hint\"><code>(JNumber -123.0, { lines = [|\"-123\"|]\\n  position = { line = 0\\n               column = 4 } })</code></span></summary><div><table><thead><tr></tr></thead><tbody><tr><td>Item1</td><td><details class=\"dni-treeview\"><summary><span class=\"dni-code-hint\"><code>JNumber -123.0</code></span></summary><div><table><thead><tr></tr></thead><tbody><tr><td>Item</td><td><div class=\"dni-plaintext\"><pre>-123</pre></div></td></tr></tbody></table></div></details></td></tr><tr><td>Item2</td><td><details class=\"dni-treeview\"><summary><span class=\"dni-code-hint\"><code>{ lines = [|\"-123\"|]\\n  position = { line = 0\\n               column = 4 } }</code></span></summary><div><table><thead><tr></tr></thead><tbody><tr><td>lines</td><td><div class=\"dni-plaintext\"><pre>[ -123 ]</pre></div></td></tr><tr><td>position</td><td><details class=\"dni-treeview\"><summary><span class=\"dni-code-hint\"><code>{ line = 0\\n  column = 4 }</code></span></summary><div><table><thead><tr></tr></thead><tbody><tr><td>line</td><td><div class=\"dni-plaintext\"><pre>0</pre></div></td></tr><tr><td>column</td><td><div class=\"dni-plaintext\"><pre>4</pre></div></td></tr></tbody></table></div></details></td></tr></tbody></table></div></details></td></tr></tbody></table></div></details></td></tr></tbody></table></div></details><style>\r\n",
       ".dni-code-hint {\r\n",
       "    font-style: italic;\r\n",
       "    overflow: hidden;\r\n",
       "    white-space: nowrap;\r\n",
       "}\r\n",
       ".dni-treeview {\r\n",
       "    white-space: nowrap;\r\n",
       "}\r\n",
       ".dni-treeview td {\r\n",
       "    vertical-align: top;\r\n",
       "    text-align: start;\r\n",
       "}\r\n",
       "details.dni-treeview {\r\n",
       "    padding-left: 1em;\r\n",
       "}\r\n",
       "table td {\r\n",
       "    text-align: start;\r\n",
       "}\r\n",
       "table tr { \r\n",
       "    vertical-align: top; \r\n",
       "    margin: 0em 0px;\r\n",
       "}\r\n",
       "table tr td pre \r\n",
       "{ \r\n",
       "    vertical-align: top !important; \r\n",
       "    margin: 0em 0px !important;\r\n",
       "} \r\n",
       "table th {\r\n",
       "    text-align: start;\r\n",
       "}\r\n",
       "</style>"
      ]
     },
     "metadata": {},
     "output_type": "display_data"
    },
    {
     "name": "stdout",
     "output_type": "stream",
     "text": [
      "JNumber -123.0\r\n"
     ]
    }
   ],
   "source": [
    "run jNumber \"-123\"\n",
    "|> expect (Success (JNumber -123.0))"
   ]
  },
  {
   "cell_type": "code",
   "execution_count": null,
   "metadata": {
    "dotnet_repl_cellExecutionStartTime": "2023-06-28T01:48:48.137856-04:00",
    "dotnet_repl_cellExecutionEndTime": "2023-06-28T01:48:48.1618929-04:00",
    "dotnet_interactive": {
     "language": "fsharp"
    },
    "polyglot_notebook": {
     "kernelName": "fsharp"
    }
   },
   "outputs": [
    {
     "data": {
      "text/html": [
       "<details open=\"open\" class=\"dni-treeview\"><summary><span class=\"dni-code-hint\"><code>Success (JNumber 123.4, { lines = [|\"123.4\"|]\\n                          position = { line = 0\\n                                       column = 5 } })</code></span></summary><div><table><thead><tr></tr></thead><tbody><tr><td>Item</td><td><details class=\"dni-treeview\"><summary><span class=\"dni-code-hint\"><code>(JNumber 123.4, { lines = [|\"123.4\"|]\\n  position = { line = 0\\n               column = 5 } })</code></span></summary><div><table><thead><tr></tr></thead><tbody><tr><td>Item1</td><td><details class=\"dni-treeview\"><summary><span class=\"dni-code-hint\"><code>JNumber 123.4</code></span></summary><div><table><thead><tr></tr></thead><tbody><tr><td>Item</td><td><div class=\"dni-plaintext\"><pre>123.4</pre></div></td></tr></tbody></table></div></details></td></tr><tr><td>Item2</td><td><details class=\"dni-treeview\"><summary><span class=\"dni-code-hint\"><code>{ lines = [|\"123.4\"|]\\n  position = { line = 0\\n               column = 5 } }</code></span></summary><div><table><thead><tr></tr></thead><tbody><tr><td>lines</td><td><div class=\"dni-plaintext\"><pre>[ 123.4 ]</pre></div></td></tr><tr><td>position</td><td><details class=\"dni-treeview\"><summary><span class=\"dni-code-hint\"><code>{ line = 0\\n  column = 5 }</code></span></summary><div><table><thead><tr></tr></thead><tbody><tr><td>line</td><td><div class=\"dni-plaintext\"><pre>0</pre></div></td></tr><tr><td>column</td><td><div class=\"dni-plaintext\"><pre>5</pre></div></td></tr></tbody></table></div></details></td></tr></tbody></table></div></details></td></tr></tbody></table></div></details></td></tr></tbody></table></div></details><style>\r\n",
       ".dni-code-hint {\r\n",
       "    font-style: italic;\r\n",
       "    overflow: hidden;\r\n",
       "    white-space: nowrap;\r\n",
       "}\r\n",
       ".dni-treeview {\r\n",
       "    white-space: nowrap;\r\n",
       "}\r\n",
       ".dni-treeview td {\r\n",
       "    vertical-align: top;\r\n",
       "    text-align: start;\r\n",
       "}\r\n",
       "details.dni-treeview {\r\n",
       "    padding-left: 1em;\r\n",
       "}\r\n",
       "table td {\r\n",
       "    text-align: start;\r\n",
       "}\r\n",
       "table tr { \r\n",
       "    vertical-align: top; \r\n",
       "    margin: 0em 0px;\r\n",
       "}\r\n",
       "table tr td pre \r\n",
       "{ \r\n",
       "    vertical-align: top !important; \r\n",
       "    margin: 0em 0px !important;\r\n",
       "} \r\n",
       "table th {\r\n",
       "    text-align: start;\r\n",
       "}\r\n",
       "</style>"
      ]
     },
     "metadata": {},
     "output_type": "display_data"
    },
    {
     "name": "stdout",
     "output_type": "stream",
     "text": [
      "JNumber 123.4\r\n"
     ]
    }
   ],
   "source": [
    "run jNumber \"123.4\"\n",
    "|> expect (Success (JNumber 123.4))"
   ]
  },
  {
   "cell_type": "code",
   "execution_count": null,
   "metadata": {
    "dotnet_repl_cellExecutionStartTime": "2023-06-28T01:48:48.1619235-04:00",
    "dotnet_repl_cellExecutionEndTime": "2023-06-28T01:48:48.1876977-04:00",
    "dotnet_interactive": {
     "language": "fsharp"
    },
    "polyglot_notebook": {
     "kernelName": "fsharp"
    }
   },
   "outputs": [
    {
     "data": {
      "text/html": [
       "<details open=\"open\" class=\"dni-treeview\"><summary><span class=\"dni-code-hint\"><code>Success (JNumber -123.0, { lines = [|\"-123.\"|]\\n                           position = { line = 0\\n                                        column = 4 } })</code></span></summary><div><table><thead><tr></tr></thead><tbody><tr><td>Item</td><td><details class=\"dni-treeview\"><summary><span class=\"dni-code-hint\"><code>(JNumber -123.0, { lines = [|\"-123.\"|]\\n  position = { line = 0\\n               column = 4 } })</code></span></summary><div><table><thead><tr></tr></thead><tbody><tr><td>Item1</td><td><details class=\"dni-treeview\"><summary><span class=\"dni-code-hint\"><code>JNumber -123.0</code></span></summary><div><table><thead><tr></tr></thead><tbody><tr><td>Item</td><td><div class=\"dni-plaintext\"><pre>-123</pre></div></td></tr></tbody></table></div></details></td></tr><tr><td>Item2</td><td><details class=\"dni-treeview\"><summary><span class=\"dni-code-hint\"><code>{ lines = [|\"-123.\"|]\\n  position = { line = 0\\n               column = 4 } }</code></span></summary><div><table><thead><tr></tr></thead><tbody><tr><td>lines</td><td><div class=\"dni-plaintext\"><pre>[ -123. ]</pre></div></td></tr><tr><td>position</td><td><details class=\"dni-treeview\"><summary><span class=\"dni-code-hint\"><code>{ line = 0\\n  column = 4 }</code></span></summary><div><table><thead><tr></tr></thead><tbody><tr><td>line</td><td><div class=\"dni-plaintext\"><pre>0</pre></div></td></tr><tr><td>column</td><td><div class=\"dni-plaintext\"><pre>4</pre></div></td></tr></tbody></table></div></details></td></tr></tbody></table></div></details></td></tr></tbody></table></div></details></td></tr></tbody></table></div></details><style>\r\n",
       ".dni-code-hint {\r\n",
       "    font-style: italic;\r\n",
       "    overflow: hidden;\r\n",
       "    white-space: nowrap;\r\n",
       "}\r\n",
       ".dni-treeview {\r\n",
       "    white-space: nowrap;\r\n",
       "}\r\n",
       ".dni-treeview td {\r\n",
       "    vertical-align: top;\r\n",
       "    text-align: start;\r\n",
       "}\r\n",
       "details.dni-treeview {\r\n",
       "    padding-left: 1em;\r\n",
       "}\r\n",
       "table td {\r\n",
       "    text-align: start;\r\n",
       "}\r\n",
       "table tr { \r\n",
       "    vertical-align: top; \r\n",
       "    margin: 0em 0px;\r\n",
       "}\r\n",
       "table tr td pre \r\n",
       "{ \r\n",
       "    vertical-align: top !important; \r\n",
       "    margin: 0em 0px !important;\r\n",
       "} \r\n",
       "table th {\r\n",
       "    text-align: start;\r\n",
       "}\r\n",
       "</style>"
      ]
     },
     "metadata": {},
     "output_type": "display_data"
    },
    {
     "name": "stdout",
     "output_type": "stream",
     "text": [
      "JNumber -123.0\r\n"
     ]
    }
   ],
   "source": [
    "run jNumber \"-123.\"\n",
    "|> expect (Success (JNumber -123.0))"
   ]
  },
  {
   "cell_type": "code",
   "execution_count": null,
   "metadata": {
    "dotnet_repl_cellExecutionStartTime": "2023-06-28T01:48:48.1877477-04:00",
    "dotnet_repl_cellExecutionEndTime": "2023-06-28T01:48:48.2118877-04:00",
    "dotnet_interactive": {
     "language": "fsharp"
    },
    "polyglot_notebook": {
     "kernelName": "fsharp"
    }
   },
   "outputs": [
    {
     "data": {
      "text/html": [
       "<details open=\"open\" class=\"dni-treeview\"><summary><span class=\"dni-code-hint\"><code>Success (JNumber 0.0, { lines = [|\"00.1\"|]\\n                        position = { line = 0\\n                                     column = 1 } })</code></span></summary><div><table><thead><tr></tr></thead><tbody><tr><td>Item</td><td><details class=\"dni-treeview\"><summary><span class=\"dni-code-hint\"><code>(JNumber 0.0, { lines = [|\"00.1\"|]\\n  position = { line = 0\\n               column = 1 } })</code></span></summary><div><table><thead><tr></tr></thead><tbody><tr><td>Item1</td><td><details class=\"dni-treeview\"><summary><span class=\"dni-code-hint\"><code>JNumber 0.0</code></span></summary><div><table><thead><tr></tr></thead><tbody><tr><td>Item</td><td><div class=\"dni-plaintext\"><pre>0</pre></div></td></tr></tbody></table></div></details></td></tr><tr><td>Item2</td><td><details class=\"dni-treeview\"><summary><span class=\"dni-code-hint\"><code>{ lines = [|\"00.1\"|]\\n  position = { line = 0\\n               column = 1 } }</code></span></summary><div><table><thead><tr></tr></thead><tbody><tr><td>lines</td><td><div class=\"dni-plaintext\"><pre>[ 00.1 ]</pre></div></td></tr><tr><td>position</td><td><details class=\"dni-treeview\"><summary><span class=\"dni-code-hint\"><code>{ line = 0\\n  column = 1 }</code></span></summary><div><table><thead><tr></tr></thead><tbody><tr><td>line</td><td><div class=\"dni-plaintext\"><pre>0</pre></div></td></tr><tr><td>column</td><td><div class=\"dni-plaintext\"><pre>1</pre></div></td></tr></tbody></table></div></details></td></tr></tbody></table></div></details></td></tr></tbody></table></div></details></td></tr></tbody></table></div></details><style>\r\n",
       ".dni-code-hint {\r\n",
       "    font-style: italic;\r\n",
       "    overflow: hidden;\r\n",
       "    white-space: nowrap;\r\n",
       "}\r\n",
       ".dni-treeview {\r\n",
       "    white-space: nowrap;\r\n",
       "}\r\n",
       ".dni-treeview td {\r\n",
       "    vertical-align: top;\r\n",
       "    text-align: start;\r\n",
       "}\r\n",
       "details.dni-treeview {\r\n",
       "    padding-left: 1em;\r\n",
       "}\r\n",
       "table td {\r\n",
       "    text-align: start;\r\n",
       "}\r\n",
       "table tr { \r\n",
       "    vertical-align: top; \r\n",
       "    margin: 0em 0px;\r\n",
       "}\r\n",
       "table tr td pre \r\n",
       "{ \r\n",
       "    vertical-align: top !important; \r\n",
       "    margin: 0em 0px !important;\r\n",
       "} \r\n",
       "table th {\r\n",
       "    text-align: start;\r\n",
       "}\r\n",
       "</style>"
      ]
     },
     "metadata": {},
     "output_type": "display_data"
    },
    {
     "name": "stdout",
     "output_type": "stream",
     "text": [
      "JNumber 0.0\r\n"
     ]
    }
   ],
   "source": [
    "run jNumber \"00.1\"\n",
    "|> expect (Success (JNumber 0.0))"
   ]
  },
  {
   "cell_type": "code",
   "execution_count": null,
   "metadata": {
    "dotnet_repl_cellExecutionStartTime": "2023-06-28T01:48:48.2119246-04:00",
    "dotnet_repl_cellExecutionEndTime": "2023-06-28T01:48:48.2227555-04:00",
    "dotnet_interactive": {
     "language": "fsharp"
    },
    "polyglot_notebook": {
     "kernelName": "fsharp"
    }
   },
   "outputs": [],
   "source": [
    "let jNumber_ = Parser.(.>>) jNumber Parser.spaces1"
   ]
  },
  {
   "cell_type": "code",
   "execution_count": null,
   "metadata": {
    "dotnet_repl_cellExecutionStartTime": "2023-06-28T01:48:48.2227911-04:00",
    "dotnet_repl_cellExecutionEndTime": "2023-06-28T01:48:48.2473389-04:00",
    "dotnet_interactive": {
     "language": "fsharp"
    },
    "polyglot_notebook": {
     "kernelName": "fsharp"
    }
   },
   "outputs": [
    {
     "data": {
      "text/html": [
       "<details open=\"open\" class=\"dni-treeview\"><summary><span class=\"dni-code-hint\"><code>Success (JNumber 123.0, { lines = [|\"123\"|]\\n                          position = { line = 1\\n                                       column = 0 } })</code></span></summary><div><table><thead><tr></tr></thead><tbody><tr><td>Item</td><td><details class=\"dni-treeview\"><summary><span class=\"dni-code-hint\"><code>(JNumber 123.0, { lines = [|\"123\"|]\\n  position = { line = 1\\n               column = 0 } })</code></span></summary><div><table><thead><tr></tr></thead><tbody><tr><td>Item1</td><td><details class=\"dni-treeview\"><summary><span class=\"dni-code-hint\"><code>JNumber 123.0</code></span></summary><div><table><thead><tr></tr></thead><tbody><tr><td>Item</td><td><div class=\"dni-plaintext\"><pre>123</pre></div></td></tr></tbody></table></div></details></td></tr><tr><td>Item2</td><td><details class=\"dni-treeview\"><summary><span class=\"dni-code-hint\"><code>{ lines = [|\"123\"|]\\n  position = { line = 1\\n               column = 0 } }</code></span></summary><div><table><thead><tr></tr></thead><tbody><tr><td>lines</td><td><div class=\"dni-plaintext\"><pre>[ 123 ]</pre></div></td></tr><tr><td>position</td><td><details class=\"dni-treeview\"><summary><span class=\"dni-code-hint\"><code>{ line = 1\\n  column = 0 }</code></span></summary><div><table><thead><tr></tr></thead><tbody><tr><td>line</td><td><div class=\"dni-plaintext\"><pre>1</pre></div></td></tr><tr><td>column</td><td><div class=\"dni-plaintext\"><pre>0</pre></div></td></tr></tbody></table></div></details></td></tr></tbody></table></div></details></td></tr></tbody></table></div></details></td></tr></tbody></table></div></details><style>\r\n",
       ".dni-code-hint {\r\n",
       "    font-style: italic;\r\n",
       "    overflow: hidden;\r\n",
       "    white-space: nowrap;\r\n",
       "}\r\n",
       ".dni-treeview {\r\n",
       "    white-space: nowrap;\r\n",
       "}\r\n",
       ".dni-treeview td {\r\n",
       "    vertical-align: top;\r\n",
       "    text-align: start;\r\n",
       "}\r\n",
       "details.dni-treeview {\r\n",
       "    padding-left: 1em;\r\n",
       "}\r\n",
       "table td {\r\n",
       "    text-align: start;\r\n",
       "}\r\n",
       "table tr { \r\n",
       "    vertical-align: top; \r\n",
       "    margin: 0em 0px;\r\n",
       "}\r\n",
       "table tr td pre \r\n",
       "{ \r\n",
       "    vertical-align: top !important; \r\n",
       "    margin: 0em 0px !important;\r\n",
       "} \r\n",
       "table th {\r\n",
       "    text-align: start;\r\n",
       "}\r\n",
       "</style>"
      ]
     },
     "metadata": {},
     "output_type": "display_data"
    },
    {
     "name": "stdout",
     "output_type": "stream",
     "text": [
      "JNumber 123.0\r\n"
     ]
    }
   ],
   "source": [
    "run jNumber_ \"123\"\n",
    "|> expect (Success (JNumber 123.0))"
   ]
  },
  {
   "cell_type": "code",
   "execution_count": null,
   "metadata": {
    "dotnet_repl_cellExecutionStartTime": "2023-06-28T01:48:48.2473741-04:00",
    "dotnet_repl_cellExecutionEndTime": "2023-06-28T01:48:48.270471-04:00",
    "dotnet_interactive": {
     "language": "fsharp"
    },
    "polyglot_notebook": {
     "kernelName": "fsharp"
    }
   },
   "outputs": [
    {
     "data": {
      "text/html": [
       "<details open=\"open\" class=\"dni-treeview\"><summary><span class=\"dni-code-hint\"><code>Success (JNumber -123.0, { lines = [|\"-123\"|]\\n                           position = { line = 1\\n                                        column = 0 } })</code></span></summary><div><table><thead><tr></tr></thead><tbody><tr><td>Item</td><td><details class=\"dni-treeview\"><summary><span class=\"dni-code-hint\"><code>(JNumber -123.0, { lines = [|\"-123\"|]\\n  position = { line = 1\\n               column = 0 } })</code></span></summary><div><table><thead><tr></tr></thead><tbody><tr><td>Item1</td><td><details class=\"dni-treeview\"><summary><span class=\"dni-code-hint\"><code>JNumber -123.0</code></span></summary><div><table><thead><tr></tr></thead><tbody><tr><td>Item</td><td><div class=\"dni-plaintext\"><pre>-123</pre></div></td></tr></tbody></table></div></details></td></tr><tr><td>Item2</td><td><details class=\"dni-treeview\"><summary><span class=\"dni-code-hint\"><code>{ lines = [|\"-123\"|]\\n  position = { line = 1\\n               column = 0 } }</code></span></summary><div><table><thead><tr></tr></thead><tbody><tr><td>lines</td><td><div class=\"dni-plaintext\"><pre>[ -123 ]</pre></div></td></tr><tr><td>position</td><td><details class=\"dni-treeview\"><summary><span class=\"dni-code-hint\"><code>{ line = 1\\n  column = 0 }</code></span></summary><div><table><thead><tr></tr></thead><tbody><tr><td>line</td><td><div class=\"dni-plaintext\"><pre>1</pre></div></td></tr><tr><td>column</td><td><div class=\"dni-plaintext\"><pre>0</pre></div></td></tr></tbody></table></div></details></td></tr></tbody></table></div></details></td></tr></tbody></table></div></details></td></tr></tbody></table></div></details><style>\r\n",
       ".dni-code-hint {\r\n",
       "    font-style: italic;\r\n",
       "    overflow: hidden;\r\n",
       "    white-space: nowrap;\r\n",
       "}\r\n",
       ".dni-treeview {\r\n",
       "    white-space: nowrap;\r\n",
       "}\r\n",
       ".dni-treeview td {\r\n",
       "    vertical-align: top;\r\n",
       "    text-align: start;\r\n",
       "}\r\n",
       "details.dni-treeview {\r\n",
       "    padding-left: 1em;\r\n",
       "}\r\n",
       "table td {\r\n",
       "    text-align: start;\r\n",
       "}\r\n",
       "table tr { \r\n",
       "    vertical-align: top; \r\n",
       "    margin: 0em 0px;\r\n",
       "}\r\n",
       "table tr td pre \r\n",
       "{ \r\n",
       "    vertical-align: top !important; \r\n",
       "    margin: 0em 0px !important;\r\n",
       "} \r\n",
       "table th {\r\n",
       "    text-align: start;\r\n",
       "}\r\n",
       "</style>"
      ]
     },
     "metadata": {},
     "output_type": "display_data"
    },
    {
     "name": "stdout",
     "output_type": "stream",
     "text": [
      "JNumber -123.0\r\n"
     ]
    }
   ],
   "source": [
    "run jNumber_ \"-123\"\n",
    "|> expect (Success (JNumber -123.0))"
   ]
  },
  {
   "cell_type": "code",
   "execution_count": null,
   "metadata": {
    "dotnet_repl_cellExecutionStartTime": "2023-06-28T01:48:48.2705324-04:00",
    "dotnet_repl_cellExecutionEndTime": "2023-06-28T01:48:48.2969051-04:00",
    "dotnet_interactive": {
     "language": "fsharp"
    },
    "polyglot_notebook": {
     "kernelName": "fsharp"
    }
   },
   "outputs": [
    {
     "data": {
      "text/html": [
       "<details open=\"open\" class=\"dni-treeview\"><summary><span class=\"dni-code-hint\"><code>Failure\\n  (\"number andThen many1 whitespace\", \"Unexpected '.'\", { currentLine = \"-123.\"\\n                                                          line = 0\\n                                                          column = 4 })</code></span></summary><div><table><thead><tr></tr></thead><tbody><tr><td>Item1</td><td>number andThen many1 whitespace</td></tr><tr><td>Item2</td><td>Unexpected &#39;.&#39;</td></tr><tr><td>Item3</td><td><details class=\"dni-treeview\"><summary><span class=\"dni-code-hint\"><code>{ currentLine = \"-123.\"\\n  line = 0\\n  column = 4 }</code></span></summary><div><table><thead><tr></tr></thead><tbody><tr><td>currentLine</td><td>-123.</td></tr><tr><td>line</td><td><div class=\"dni-plaintext\"><pre>0</pre></div></td></tr><tr><td>column</td><td><div class=\"dni-plaintext\"><pre>4</pre></div></td></tr></tbody></table></div></details></td></tr></tbody></table></div></details><style>\r\n",
       ".dni-code-hint {\r\n",
       "    font-style: italic;\r\n",
       "    overflow: hidden;\r\n",
       "    white-space: nowrap;\r\n",
       "}\r\n",
       ".dni-treeview {\r\n",
       "    white-space: nowrap;\r\n",
       "}\r\n",
       ".dni-treeview td {\r\n",
       "    vertical-align: top;\r\n",
       "    text-align: start;\r\n",
       "}\r\n",
       "details.dni-treeview {\r\n",
       "    padding-left: 1em;\r\n",
       "}\r\n",
       "table td {\r\n",
       "    text-align: start;\r\n",
       "}\r\n",
       "table tr { \r\n",
       "    vertical-align: top; \r\n",
       "    margin: 0em 0px;\r\n",
       "}\r\n",
       "table tr td pre \r\n",
       "{ \r\n",
       "    vertical-align: top !important; \r\n",
       "    margin: 0em 0px !important;\r\n",
       "} \r\n",
       "table th {\r\n",
       "    text-align: start;\r\n",
       "}\r\n",
       "</style>"
      ]
     },
     "metadata": {},
     "output_type": "display_data"
    },
    {
     "name": "stdout",
     "output_type": "stream",
     "text": [
      "Line:0 Col:4 Error parsing number andThen many1 whitespace\n",
      "-123.\n",
      "    ^Unexpected '.'\r\n"
     ]
    }
   ],
   "source": [
    "run jNumber_ \"-123.\"\n",
    "|> expect (\n",
    "    Failure (\n",
    "        \"number andThen many1 whitespace\",\n",
    "        \"Unexpected '.'\",\n",
    "        {currentLine = \"-123.\"; line = 0; column = 4}\n",
    "    )\n",
    ")"
   ]
  },
  {
   "cell_type": "code",
   "execution_count": null,
   "metadata": {
    "dotnet_repl_cellExecutionStartTime": "2023-06-28T01:48:48.2969622-04:00",
    "dotnet_repl_cellExecutionEndTime": "2023-06-28T01:48:48.3249064-04:00",
    "dotnet_interactive": {
     "language": "fsharp"
    },
    "polyglot_notebook": {
     "kernelName": "fsharp"
    }
   },
   "outputs": [
    {
     "data": {
      "text/html": [
       "<details open=\"open\" class=\"dni-treeview\"><summary><span class=\"dni-code-hint\"><code>Success (JNumber 123.4, { lines = [|\"123.4\"|]\\n                          position = { line = 1\\n                                       column = 0 } })</code></span></summary><div><table><thead><tr></tr></thead><tbody><tr><td>Item</td><td><details class=\"dni-treeview\"><summary><span class=\"dni-code-hint\"><code>(JNumber 123.4, { lines = [|\"123.4\"|]\\n  position = { line = 1\\n               column = 0 } })</code></span></summary><div><table><thead><tr></tr></thead><tbody><tr><td>Item1</td><td><details class=\"dni-treeview\"><summary><span class=\"dni-code-hint\"><code>JNumber 123.4</code></span></summary><div><table><thead><tr></tr></thead><tbody><tr><td>Item</td><td><div class=\"dni-plaintext\"><pre>123.4</pre></div></td></tr></tbody></table></div></details></td></tr><tr><td>Item2</td><td><details class=\"dni-treeview\"><summary><span class=\"dni-code-hint\"><code>{ lines = [|\"123.4\"|]\\n  position = { line = 1\\n               column = 0 } }</code></span></summary><div><table><thead><tr></tr></thead><tbody><tr><td>lines</td><td><div class=\"dni-plaintext\"><pre>[ 123.4 ]</pre></div></td></tr><tr><td>position</td><td><details class=\"dni-treeview\"><summary><span class=\"dni-code-hint\"><code>{ line = 1\\n  column = 0 }</code></span></summary><div><table><thead><tr></tr></thead><tbody><tr><td>line</td><td><div class=\"dni-plaintext\"><pre>1</pre></div></td></tr><tr><td>column</td><td><div class=\"dni-plaintext\"><pre>0</pre></div></td></tr></tbody></table></div></details></td></tr></tbody></table></div></details></td></tr></tbody></table></div></details></td></tr></tbody></table></div></details><style>\r\n",
       ".dni-code-hint {\r\n",
       "    font-style: italic;\r\n",
       "    overflow: hidden;\r\n",
       "    white-space: nowrap;\r\n",
       "}\r\n",
       ".dni-treeview {\r\n",
       "    white-space: nowrap;\r\n",
       "}\r\n",
       ".dni-treeview td {\r\n",
       "    vertical-align: top;\r\n",
       "    text-align: start;\r\n",
       "}\r\n",
       "details.dni-treeview {\r\n",
       "    padding-left: 1em;\r\n",
       "}\r\n",
       "table td {\r\n",
       "    text-align: start;\r\n",
       "}\r\n",
       "table tr { \r\n",
       "    vertical-align: top; \r\n",
       "    margin: 0em 0px;\r\n",
       "}\r\n",
       "table tr td pre \r\n",
       "{ \r\n",
       "    vertical-align: top !important; \r\n",
       "    margin: 0em 0px !important;\r\n",
       "} \r\n",
       "table th {\r\n",
       "    text-align: start;\r\n",
       "}\r\n",
       "</style>"
      ]
     },
     "metadata": {},
     "output_type": "display_data"
    },
    {
     "name": "stdout",
     "output_type": "stream",
     "text": [
      "JNumber 123.4\r\n"
     ]
    }
   ],
   "source": [
    "run jNumber_ \"123.4\"\n",
    "|> expect (Success (JNumber 123.4))"
   ]
  },
  {
   "cell_type": "code",
   "execution_count": null,
   "metadata": {
    "dotnet_repl_cellExecutionStartTime": "2023-06-28T01:48:48.324938-04:00",
    "dotnet_repl_cellExecutionEndTime": "2023-06-28T01:48:48.3530319-04:00",
    "dotnet_interactive": {
     "language": "fsharp"
    },
    "polyglot_notebook": {
     "kernelName": "fsharp"
    }
   },
   "outputs": [
    {
     "data": {
      "text/html": [
       "<details open=\"open\" class=\"dni-treeview\"><summary><span class=\"dni-code-hint\"><code>Failure\\n  (\"number andThen many1 whitespace\", \"Unexpected '0'\", { currentLine = \"00.4\"\\n                                                          line = 0\\n                                                          column = 1 })</code></span></summary><div><table><thead><tr></tr></thead><tbody><tr><td>Item1</td><td>number andThen many1 whitespace</td></tr><tr><td>Item2</td><td>Unexpected &#39;0&#39;</td></tr><tr><td>Item3</td><td><details class=\"dni-treeview\"><summary><span class=\"dni-code-hint\"><code>{ currentLine = \"00.4\"\\n  line = 0\\n  column = 1 }</code></span></summary><div><table><thead><tr></tr></thead><tbody><tr><td>currentLine</td><td>00.4</td></tr><tr><td>line</td><td><div class=\"dni-plaintext\"><pre>0</pre></div></td></tr><tr><td>column</td><td><div class=\"dni-plaintext\"><pre>1</pre></div></td></tr></tbody></table></div></details></td></tr></tbody></table></div></details><style>\r\n",
       ".dni-code-hint {\r\n",
       "    font-style: italic;\r\n",
       "    overflow: hidden;\r\n",
       "    white-space: nowrap;\r\n",
       "}\r\n",
       ".dni-treeview {\r\n",
       "    white-space: nowrap;\r\n",
       "}\r\n",
       ".dni-treeview td {\r\n",
       "    vertical-align: top;\r\n",
       "    text-align: start;\r\n",
       "}\r\n",
       "details.dni-treeview {\r\n",
       "    padding-left: 1em;\r\n",
       "}\r\n",
       "table td {\r\n",
       "    text-align: start;\r\n",
       "}\r\n",
       "table tr { \r\n",
       "    vertical-align: top; \r\n",
       "    margin: 0em 0px;\r\n",
       "}\r\n",
       "table tr td pre \r\n",
       "{ \r\n",
       "    vertical-align: top !important; \r\n",
       "    margin: 0em 0px !important;\r\n",
       "} \r\n",
       "table th {\r\n",
       "    text-align: start;\r\n",
       "}\r\n",
       "</style>"
      ]
     },
     "metadata": {},
     "output_type": "display_data"
    },
    {
     "name": "stdout",
     "output_type": "stream",
     "text": [
      "Line:0 Col:1 Error parsing number andThen many1 whitespace\n",
      "00.4\n",
      " ^Unexpected '0'\r\n"
     ]
    }
   ],
   "source": [
    "run jNumber_ \"00.4\"\n",
    "|> expect (\n",
    "    Failure (\n",
    "        \"number andThen many1 whitespace\",\n",
    "        \"Unexpected '0'\",\n",
    "        {currentLine = \"00.4\"; line = 0; column = 1}\n",
    "    )\n",
    ")"
   ]
  },
  {
   "cell_type": "code",
   "execution_count": null,
   "metadata": {
    "dotnet_repl_cellExecutionStartTime": "2023-06-28T01:48:48.3530783-04:00",
    "dotnet_repl_cellExecutionEndTime": "2023-06-28T01:48:48.384166-04:00",
    "dotnet_interactive": {
     "language": "fsharp"
    },
    "polyglot_notebook": {
     "kernelName": "fsharp"
    }
   },
   "outputs": [
    {
     "data": {
      "text/html": [
       "<details open=\"open\" class=\"dni-treeview\"><summary><span class=\"dni-code-hint\"><code>Success (JNumber 1230000.0, { lines = [|\"123e4\"|]\\n                              position = { line = 1\\n                                           column = 0 } })</code></span></summary><div><table><thead><tr></tr></thead><tbody><tr><td>Item</td><td><details class=\"dni-treeview\"><summary><span class=\"dni-code-hint\"><code>(JNumber 1230000.0, { lines = [|\"123e4\"|]\\n  position = { line = 1\\n               column = 0 } })</code></span></summary><div><table><thead><tr></tr></thead><tbody><tr><td>Item1</td><td><details class=\"dni-treeview\"><summary><span class=\"dni-code-hint\"><code>JNumber 1230000.0</code></span></summary><div><table><thead><tr></tr></thead><tbody><tr><td>Item</td><td><div class=\"dni-plaintext\"><pre>1230000</pre></div></td></tr></tbody></table></div></details></td></tr><tr><td>Item2</td><td><details class=\"dni-treeview\"><summary><span class=\"dni-code-hint\"><code>{ lines = [|\"123e4\"|]\\n  position = { line = 1\\n               column = 0 } }</code></span></summary><div><table><thead><tr></tr></thead><tbody><tr><td>lines</td><td><div class=\"dni-plaintext\"><pre>[ 123e4 ]</pre></div></td></tr><tr><td>position</td><td><details class=\"dni-treeview\"><summary><span class=\"dni-code-hint\"><code>{ line = 1\\n  column = 0 }</code></span></summary><div><table><thead><tr></tr></thead><tbody><tr><td>line</td><td><div class=\"dni-plaintext\"><pre>1</pre></div></td></tr><tr><td>column</td><td><div class=\"dni-plaintext\"><pre>0</pre></div></td></tr></tbody></table></div></details></td></tr></tbody></table></div></details></td></tr></tbody></table></div></details></td></tr></tbody></table></div></details><style>\r\n",
       ".dni-code-hint {\r\n",
       "    font-style: italic;\r\n",
       "    overflow: hidden;\r\n",
       "    white-space: nowrap;\r\n",
       "}\r\n",
       ".dni-treeview {\r\n",
       "    white-space: nowrap;\r\n",
       "}\r\n",
       ".dni-treeview td {\r\n",
       "    vertical-align: top;\r\n",
       "    text-align: start;\r\n",
       "}\r\n",
       "details.dni-treeview {\r\n",
       "    padding-left: 1em;\r\n",
       "}\r\n",
       "table td {\r\n",
       "    text-align: start;\r\n",
       "}\r\n",
       "table tr { \r\n",
       "    vertical-align: top; \r\n",
       "    margin: 0em 0px;\r\n",
       "}\r\n",
       "table tr td pre \r\n",
       "{ \r\n",
       "    vertical-align: top !important; \r\n",
       "    margin: 0em 0px !important;\r\n",
       "} \r\n",
       "table th {\r\n",
       "    text-align: start;\r\n",
       "}\r\n",
       "</style>"
      ]
     },
     "metadata": {},
     "output_type": "display_data"
    },
    {
     "name": "stdout",
     "output_type": "stream",
     "text": [
      "JNumber 1230000.0\r\n"
     ]
    }
   ],
   "source": [
    "run jNumber_ \"123e4\"\n",
    "|> expect (Success (JNumber 1230000.0))"
   ]
  },
  {
   "cell_type": "code",
   "execution_count": null,
   "metadata": {
    "dotnet_repl_cellExecutionStartTime": "2023-06-28T01:48:48.3842018-04:00",
    "dotnet_repl_cellExecutionEndTime": "2023-06-28T01:48:48.4102423-04:00",
    "dotnet_interactive": {
     "language": "fsharp"
    },
    "polyglot_notebook": {
     "kernelName": "fsharp"
    }
   },
   "outputs": [
    {
     "data": {
      "text/html": [
       "<details open=\"open\" class=\"dni-treeview\"><summary><span class=\"dni-code-hint\"><code>Success (JNumber 12340000.0, { lines = [|\"123.4e5\"|]\\n                               position = { line = 1\\n                                            column = 0 } })</code></span></summary><div><table><thead><tr></tr></thead><tbody><tr><td>Item</td><td><details class=\"dni-treeview\"><summary><span class=\"dni-code-hint\"><code>(JNumber 12340000.0, { lines = [|\"123.4e5\"|]\\n  position = { line = 1\\n               column = 0 } })</code></span></summary><div><table><thead><tr></tr></thead><tbody><tr><td>Item1</td><td><details class=\"dni-treeview\"><summary><span class=\"dni-code-hint\"><code>JNumber 12340000.0</code></span></summary><div><table><thead><tr></tr></thead><tbody><tr><td>Item</td><td><div class=\"dni-plaintext\"><pre>12340000</pre></div></td></tr></tbody></table></div></details></td></tr><tr><td>Item2</td><td><details class=\"dni-treeview\"><summary><span class=\"dni-code-hint\"><code>{ lines = [|\"123.4e5\"|]\\n  position = { line = 1\\n               column = 0 } }</code></span></summary><div><table><thead><tr></tr></thead><tbody><tr><td>lines</td><td><div class=\"dni-plaintext\"><pre>[ 123.4e5 ]</pre></div></td></tr><tr><td>position</td><td><details class=\"dni-treeview\"><summary><span class=\"dni-code-hint\"><code>{ line = 1\\n  column = 0 }</code></span></summary><div><table><thead><tr></tr></thead><tbody><tr><td>line</td><td><div class=\"dni-plaintext\"><pre>1</pre></div></td></tr><tr><td>column</td><td><div class=\"dni-plaintext\"><pre>0</pre></div></td></tr></tbody></table></div></details></td></tr></tbody></table></div></details></td></tr></tbody></table></div></details></td></tr></tbody></table></div></details><style>\r\n",
       ".dni-code-hint {\r\n",
       "    font-style: italic;\r\n",
       "    overflow: hidden;\r\n",
       "    white-space: nowrap;\r\n",
       "}\r\n",
       ".dni-treeview {\r\n",
       "    white-space: nowrap;\r\n",
       "}\r\n",
       ".dni-treeview td {\r\n",
       "    vertical-align: top;\r\n",
       "    text-align: start;\r\n",
       "}\r\n",
       "details.dni-treeview {\r\n",
       "    padding-left: 1em;\r\n",
       "}\r\n",
       "table td {\r\n",
       "    text-align: start;\r\n",
       "}\r\n",
       "table tr { \r\n",
       "    vertical-align: top; \r\n",
       "    margin: 0em 0px;\r\n",
       "}\r\n",
       "table tr td pre \r\n",
       "{ \r\n",
       "    vertical-align: top !important; \r\n",
       "    margin: 0em 0px !important;\r\n",
       "} \r\n",
       "table th {\r\n",
       "    text-align: start;\r\n",
       "}\r\n",
       "</style>"
      ]
     },
     "metadata": {},
     "output_type": "display_data"
    },
    {
     "name": "stdout",
     "output_type": "stream",
     "text": [
      "JNumber 12340000.0\r\n"
     ]
    }
   ],
   "source": [
    "run jNumber_ \"123.4e5\"\n",
    "|> expect (Success (JNumber 12340000.0))"
   ]
  },
  {
   "cell_type": "code",
   "execution_count": null,
   "metadata": {
    "dotnet_repl_cellExecutionStartTime": "2023-06-28T01:48:48.4102709-04:00",
    "dotnet_repl_cellExecutionEndTime": "2023-06-28T01:48:48.434172-04:00",
    "dotnet_interactive": {
     "language": "fsharp"
    },
    "polyglot_notebook": {
     "kernelName": "fsharp"
    }
   },
   "outputs": [
    {
     "data": {
      "text/html": [
       "<details open=\"open\" class=\"dni-treeview\"><summary><span class=\"dni-code-hint\"><code>Success (JNumber 0.001234, { lines = [|\"123.4e-5\"|]\\n                             position = { line = 1\\n                                          column = 0 } })</code></span></summary><div><table><thead><tr></tr></thead><tbody><tr><td>Item</td><td><details class=\"dni-treeview\"><summary><span class=\"dni-code-hint\"><code>(JNumber 0.001234, { lines = [|\"123.4e-5\"|]\\n  position = { line = 1\\n               column = 0 } })</code></span></summary><div><table><thead><tr></tr></thead><tbody><tr><td>Item1</td><td><details class=\"dni-treeview\"><summary><span class=\"dni-code-hint\"><code>JNumber 0.001234</code></span></summary><div><table><thead><tr></tr></thead><tbody><tr><td>Item</td><td><div class=\"dni-plaintext\"><pre>0.001234</pre></div></td></tr></tbody></table></div></details></td></tr><tr><td>Item2</td><td><details class=\"dni-treeview\"><summary><span class=\"dni-code-hint\"><code>{ lines = [|\"123.4e-5\"|]\\n  position = { line = 1\\n               column = 0 } }</code></span></summary><div><table><thead><tr></tr></thead><tbody><tr><td>lines</td><td><div class=\"dni-plaintext\"><pre>[ 123.4e-5 ]</pre></div></td></tr><tr><td>position</td><td><details class=\"dni-treeview\"><summary><span class=\"dni-code-hint\"><code>{ line = 1\\n  column = 0 }</code></span></summary><div><table><thead><tr></tr></thead><tbody><tr><td>line</td><td><div class=\"dni-plaintext\"><pre>1</pre></div></td></tr><tr><td>column</td><td><div class=\"dni-plaintext\"><pre>0</pre></div></td></tr></tbody></table></div></details></td></tr></tbody></table></div></details></td></tr></tbody></table></div></details></td></tr></tbody></table></div></details><style>\r\n",
       ".dni-code-hint {\r\n",
       "    font-style: italic;\r\n",
       "    overflow: hidden;\r\n",
       "    white-space: nowrap;\r\n",
       "}\r\n",
       ".dni-treeview {\r\n",
       "    white-space: nowrap;\r\n",
       "}\r\n",
       ".dni-treeview td {\r\n",
       "    vertical-align: top;\r\n",
       "    text-align: start;\r\n",
       "}\r\n",
       "details.dni-treeview {\r\n",
       "    padding-left: 1em;\r\n",
       "}\r\n",
       "table td {\r\n",
       "    text-align: start;\r\n",
       "}\r\n",
       "table tr { \r\n",
       "    vertical-align: top; \r\n",
       "    margin: 0em 0px;\r\n",
       "}\r\n",
       "table tr td pre \r\n",
       "{ \r\n",
       "    vertical-align: top !important; \r\n",
       "    margin: 0em 0px !important;\r\n",
       "} \r\n",
       "table th {\r\n",
       "    text-align: start;\r\n",
       "}\r\n",
       "</style>"
      ]
     },
     "metadata": {},
     "output_type": "display_data"
    },
    {
     "name": "stdout",
     "output_type": "stream",
     "text": [
      "JNumber 0.001234\r\n"
     ]
    }
   ],
   "source": [
    "run jNumber_ \"123.4e-5\"\n",
    "|> expect (Success (JNumber 0.001234))"
   ]
  },
  {
   "cell_type": "code",
   "execution_count": null,
   "metadata": {
    "dotnet_repl_cellExecutionStartTime": "2023-06-28T01:48:48.4342051-04:00",
    "dotnet_repl_cellExecutionEndTime": "2023-06-28T01:48:48.5232663-04:00",
    "dotnet_interactive": {
     "language": "fsharp"
    },
    "polyglot_notebook": {
     "kernelName": "fsharp"
    }
   },
   "outputs": [
    {
     "data": {
      "text/html": [
       "<details open=\"open\" class=\"dni-treeview\"><summary><span class=\"dni-code-hint\"><code>Success (JArray [JNumber 1.0; JNumber 2.0], { lines = [|\"[ 1, 2 ]\"|]\\n                                              position = { line = 1\\n                                                           column = 0 } })</code></span></summary><div><table><thead><tr></tr></thead><tbody><tr><td>Item</td><td><details class=\"dni-treeview\"><summary><span class=\"dni-code-hint\"><code>(JArray [JNumber 1.0; JNumber 2.0], { lines = [|\"[ 1, 2 ]\"|]\\n  position = { line = 1\\n               column = 0 } })</code></span></summary><div><table><thead><tr></tr></thead><tbody><tr><td>Item1</td><td><details class=\"dni-treeview\"><summary><span class=\"dni-code-hint\"><code>JArray [JNumber 1.0; JNumber 2.0]</code></span></summary><div><table><thead><tr></tr></thead><tbody><tr><td>Item</td><td><table><thead><tr><th><i>index</i></th><th>value</th></tr></thead><tbody><tr><td>0</td><td><details class=\"dni-treeview\"><summary><span class=\"dni-code-hint\"><code>JNumber 1.0</code></span></summary><div><table><thead><tr></tr></thead><tbody><tr><td>Item</td><td><div class=\"dni-plaintext\"><pre>1</pre></div></td></tr></tbody></table></div></details></td></tr><tr><td>1</td><td><details class=\"dni-treeview\"><summary><span class=\"dni-code-hint\"><code>JNumber 2.0</code></span></summary><div><table><thead><tr></tr></thead><tbody><tr><td>Item</td><td><div class=\"dni-plaintext\"><pre>2</pre></div></td></tr></tbody></table></div></details></td></tr></tbody></table></td></tr></tbody></table></div></details></td></tr><tr><td>Item2</td><td><details class=\"dni-treeview\"><summary><span class=\"dni-code-hint\"><code>{ lines = [|\"[ 1, 2 ]\"|]\\n  position = { line = 1\\n               column = 0 } }</code></span></summary><div><table><thead><tr></tr></thead><tbody><tr><td>lines</td><td><div class=\"dni-plaintext\"><pre>[ [ 1, 2 ] ]</pre></div></td></tr><tr><td>position</td><td><details class=\"dni-treeview\"><summary><span class=\"dni-code-hint\"><code>{ line = 1\\n  column = 0 }</code></span></summary><div><table><thead><tr></tr></thead><tbody><tr><td>line</td><td><div class=\"dni-plaintext\"><pre>1</pre></div></td></tr><tr><td>column</td><td><div class=\"dni-plaintext\"><pre>0</pre></div></td></tr></tbody></table></div></details></td></tr></tbody></table></div></details></td></tr></tbody></table></div></details></td></tr></tbody></table></div></details><style>\r\n",
       ".dni-code-hint {\r\n",
       "    font-style: italic;\r\n",
       "    overflow: hidden;\r\n",
       "    white-space: nowrap;\r\n",
       "}\r\n",
       ".dni-treeview {\r\n",
       "    white-space: nowrap;\r\n",
       "}\r\n",
       ".dni-treeview td {\r\n",
       "    vertical-align: top;\r\n",
       "    text-align: start;\r\n",
       "}\r\n",
       "details.dni-treeview {\r\n",
       "    padding-left: 1em;\r\n",
       "}\r\n",
       "table td {\r\n",
       "    text-align: start;\r\n",
       "}\r\n",
       "table tr { \r\n",
       "    vertical-align: top; \r\n",
       "    margin: 0em 0px;\r\n",
       "}\r\n",
       "table tr td pre \r\n",
       "{ \r\n",
       "    vertical-align: top !important; \r\n",
       "    margin: 0em 0px !important;\r\n",
       "} \r\n",
       "table th {\r\n",
       "    text-align: start;\r\n",
       "}\r\n",
       "</style>"
      ]
     },
     "metadata": {},
     "output_type": "display_data"
    },
    {
     "name": "stdout",
     "output_type": "stream",
     "text": [
      "JArray [JNumber 1.0; JNumber 2.0]\r\n"
     ]
    }
   ],
   "source": [
    "run jArray \"[ 1, 2 ]\"\n",
    "|> expect (Success (JArray [JNumber 1.0; JNumber 2.0]))"
   ]
  },
  {
   "cell_type": "code",
   "execution_count": null,
   "metadata": {
    "dotnet_repl_cellExecutionStartTime": "2023-06-28T01:48:48.5233001-04:00",
    "dotnet_repl_cellExecutionEndTime": "2023-06-28T01:48:48.561779-04:00",
    "dotnet_interactive": {
     "language": "fsharp"
    },
    "polyglot_notebook": {
     "kernelName": "fsharp"
    }
   },
   "outputs": [
    {
     "data": {
      "text/html": [
       "<details open=\"open\" class=\"dni-treeview\"><summary><span class=\"dni-code-hint\"><code>Failure (\"array\", \"Unexpected ','\", { currentLine = \"[ 1, 2, ]\"\\n                                      line = 0\\n                                      column = 6 })</code></span></summary><div><table><thead><tr></tr></thead><tbody><tr><td>Item1</td><td>array</td></tr><tr><td>Item2</td><td>Unexpected &#39;,&#39;</td></tr><tr><td>Item3</td><td><details class=\"dni-treeview\"><summary><span class=\"dni-code-hint\"><code>{ currentLine = \"[ 1, 2, ]\"\\n  line = 0\\n  column = 6 }</code></span></summary><div><table><thead><tr></tr></thead><tbody><tr><td>currentLine</td><td>[ 1, 2, ]</td></tr><tr><td>line</td><td><div class=\"dni-plaintext\"><pre>0</pre></div></td></tr><tr><td>column</td><td><div class=\"dni-plaintext\"><pre>6</pre></div></td></tr></tbody></table></div></details></td></tr></tbody></table></div></details><style>\r\n",
       ".dni-code-hint {\r\n",
       "    font-style: italic;\r\n",
       "    overflow: hidden;\r\n",
       "    white-space: nowrap;\r\n",
       "}\r\n",
       ".dni-treeview {\r\n",
       "    white-space: nowrap;\r\n",
       "}\r\n",
       ".dni-treeview td {\r\n",
       "    vertical-align: top;\r\n",
       "    text-align: start;\r\n",
       "}\r\n",
       "details.dni-treeview {\r\n",
       "    padding-left: 1em;\r\n",
       "}\r\n",
       "table td {\r\n",
       "    text-align: start;\r\n",
       "}\r\n",
       "table tr { \r\n",
       "    vertical-align: top; \r\n",
       "    margin: 0em 0px;\r\n",
       "}\r\n",
       "table tr td pre \r\n",
       "{ \r\n",
       "    vertical-align: top !important; \r\n",
       "    margin: 0em 0px !important;\r\n",
       "} \r\n",
       "table th {\r\n",
       "    text-align: start;\r\n",
       "}\r\n",
       "</style>"
      ]
     },
     "metadata": {},
     "output_type": "display_data"
    },
    {
     "name": "stdout",
     "output_type": "stream",
     "text": [
      "Line:0 Col:6 Error parsing array\n",
      "[ 1, 2, ]\n",
      "      ^Unexpected ','\r\n"
     ]
    }
   ],
   "source": [
    "run jArray \"[ 1, 2, ]\"\n",
    "|> expect (\n",
    "    Failure (\n",
    "        \"array\",\n",
    "        \"Unexpected ','\",\n",
    "        {currentLine = \"[ 1, 2, ]\"; line = 0; column = 6}\n",
    "    )\n",
    ")"
   ]
  },
  {
   "cell_type": "code",
   "execution_count": null,
   "metadata": {
    "dotnet_repl_cellExecutionStartTime": "2023-06-28T01:48:48.5618161-04:00",
    "dotnet_repl_cellExecutionEndTime": "2023-06-28T01:48:48.6472021-04:00",
    "dotnet_interactive": {
     "language": "fsharp"
    },
    "polyglot_notebook": {
     "kernelName": "fsharp"
    }
   },
   "outputs": [
    {
     "data": {
      "text/html": [
       "<details open=\"open\" class=\"dni-treeview\"><summary><span class=\"dni-code-hint\"><code>Success\\n  (JObject (map [(\"a\", JNumber 1.0); (\"b\", JNumber 2.0)]),\\n   { lines = [|\"{ \"a\":1, \"b\"  :  2 }\"|]\\n     position = { line = 1\\n                  column = 0 } })</code></span></summary><div><table><thead><tr></tr></thead><tbody><tr><td>Item</td><td><details class=\"dni-treeview\"><summary><span class=\"dni-code-hint\"><code>(JObject (map [(\"a\", JNumber 1.0); (\"b\", JNumber 2.0)]), { lines = [|\"{ \"a\":1, \"b\"  :  2 }\"|]\\n  position = { line = 1\\n               column = 0 } })</code></span></summary><div><table><thead><tr></tr></thead><tbody><tr><td>Item1</td><td><details class=\"dni-treeview\"><summary><span class=\"dni-code-hint\"><code>JObject (map [(\"a\", JNumber 1.0); (\"b\", JNumber 2.0)])</code></span></summary><div><table><thead><tr></tr></thead><tbody><tr><td>Item</td><td><table><thead><tr><th><i>key</i></th><th>value</th></tr></thead><tbody><tr><td>a</td><td><details class=\"dni-treeview\"><summary><span class=\"dni-code-hint\"><code>JNumber 1.0</code></span></summary><div><table><thead><tr></tr></thead><tbody><tr><td>Item</td><td><div class=\"dni-plaintext\"><pre>1</pre></div></td></tr></tbody></table></div></details></td></tr><tr><td>b</td><td><details class=\"dni-treeview\"><summary><span class=\"dni-code-hint\"><code>JNumber 2.0</code></span></summary><div><table><thead><tr></tr></thead><tbody><tr><td>Item</td><td><div class=\"dni-plaintext\"><pre>2</pre></div></td></tr></tbody></table></div></details></td></tr></tbody></table></td></tr></tbody></table></div></details></td></tr><tr><td>Item2</td><td><details class=\"dni-treeview\"><summary><span class=\"dni-code-hint\"><code>{ lines = [|\"{ \"a\":1, \"b\"  :  2 }\"|]\\n  position = { line = 1\\n               column = 0 } }</code></span></summary><div><table><thead><tr></tr></thead><tbody><tr><td>lines</td><td><div class=\"dni-plaintext\"><pre>[ { &quot;a&quot;:1, &quot;b&quot;  :  2 } ]</pre></div></td></tr><tr><td>position</td><td><details class=\"dni-treeview\"><summary><span class=\"dni-code-hint\"><code>{ line = 1\\n  column = 0 }</code></span></summary><div><table><thead><tr></tr></thead><tbody><tr><td>line</td><td><div class=\"dni-plaintext\"><pre>1</pre></div></td></tr><tr><td>column</td><td><div class=\"dni-plaintext\"><pre>0</pre></div></td></tr></tbody></table></div></details></td></tr></tbody></table></div></details></td></tr></tbody></table></div></details></td></tr></tbody></table></div></details><style>\r\n",
       ".dni-code-hint {\r\n",
       "    font-style: italic;\r\n",
       "    overflow: hidden;\r\n",
       "    white-space: nowrap;\r\n",
       "}\r\n",
       ".dni-treeview {\r\n",
       "    white-space: nowrap;\r\n",
       "}\r\n",
       ".dni-treeview td {\r\n",
       "    vertical-align: top;\r\n",
       "    text-align: start;\r\n",
       "}\r\n",
       "details.dni-treeview {\r\n",
       "    padding-left: 1em;\r\n",
       "}\r\n",
       "table td {\r\n",
       "    text-align: start;\r\n",
       "}\r\n",
       "table tr { \r\n",
       "    vertical-align: top; \r\n",
       "    margin: 0em 0px;\r\n",
       "}\r\n",
       "table tr td pre \r\n",
       "{ \r\n",
       "    vertical-align: top !important; \r\n",
       "    margin: 0em 0px !important;\r\n",
       "} \r\n",
       "table th {\r\n",
       "    text-align: start;\r\n",
       "}\r\n",
       "</style>"
      ]
     },
     "metadata": {},
     "output_type": "display_data"
    },
    {
     "name": "stdout",
     "output_type": "stream",
     "text": [
      "JObject (map [(\"a\", JNumber 1.0); (\"b\", JNumber 2.0)])\r\n"
     ]
    }
   ],
   "source": [
    "run jObject \"\"\"{ \"a\":1, \"b\"  :  2 }\"\"\"\n",
    "|> expect (\n",
    "    Success (\n",
    "        JObject (\n",
    "            Map.ofList [\n",
    "                \"a\", JNumber 1.0\n",
    "                \"b\", JNumber 2.0\n",
    "            ]\n",
    "        )\n",
    "    )\n",
    ")"
   ]
  },
  {
   "cell_type": "code",
   "execution_count": null,
   "metadata": {
    "dotnet_repl_cellExecutionStartTime": "2023-06-28T01:48:48.6472289-04:00",
    "dotnet_repl_cellExecutionEndTime": "2023-06-28T01:48:48.6807764-04:00",
    "dotnet_interactive": {
     "language": "fsharp"
    },
    "polyglot_notebook": {
     "kernelName": "fsharp"
    }
   },
   "outputs": [
    {
     "data": {
      "text/html": [
       "<details open=\"open\" class=\"dni-treeview\"><summary><span class=\"dni-code-hint\"><code>Failure (\"object\", \"Unexpected ','\", { currentLine = \"{ \"a\":1, \"b\"  :  2, }\"\\n                                       line = 0\\n                                       column = 18 })</code></span></summary><div><table><thead><tr></tr></thead><tbody><tr><td>Item1</td><td>object</td></tr><tr><td>Item2</td><td>Unexpected &#39;,&#39;</td></tr><tr><td>Item3</td><td><details class=\"dni-treeview\"><summary><span class=\"dni-code-hint\"><code>{ currentLine = \"{ \"a\":1, \"b\"  :  2, }\"\\n  line = 0\\n  column = 18 }</code></span></summary><div><table><thead><tr></tr></thead><tbody><tr><td>currentLine</td><td>{ &quot;a&quot;:1, &quot;b&quot;  :  2, }</td></tr><tr><td>line</td><td><div class=\"dni-plaintext\"><pre>0</pre></div></td></tr><tr><td>column</td><td><div class=\"dni-plaintext\"><pre>18</pre></div></td></tr></tbody></table></div></details></td></tr></tbody></table></div></details><style>\r\n",
       ".dni-code-hint {\r\n",
       "    font-style: italic;\r\n",
       "    overflow: hidden;\r\n",
       "    white-space: nowrap;\r\n",
       "}\r\n",
       ".dni-treeview {\r\n",
       "    white-space: nowrap;\r\n",
       "}\r\n",
       ".dni-treeview td {\r\n",
       "    vertical-align: top;\r\n",
       "    text-align: start;\r\n",
       "}\r\n",
       "details.dni-treeview {\r\n",
       "    padding-left: 1em;\r\n",
       "}\r\n",
       "table td {\r\n",
       "    text-align: start;\r\n",
       "}\r\n",
       "table tr { \r\n",
       "    vertical-align: top; \r\n",
       "    margin: 0em 0px;\r\n",
       "}\r\n",
       "table tr td pre \r\n",
       "{ \r\n",
       "    vertical-align: top !important; \r\n",
       "    margin: 0em 0px !important;\r\n",
       "} \r\n",
       "table th {\r\n",
       "    text-align: start;\r\n",
       "}\r\n",
       "</style>"
      ]
     },
     "metadata": {},
     "output_type": "display_data"
    },
    {
     "name": "stdout",
     "output_type": "stream",
     "text": [
      "Line:0 Col:18 Error parsing object\n",
      "{ \"a\":1, \"b\"  :  2, }\n",
      "                  ^Unexpected ','\r\n"
     ]
    }
   ],
   "source": [
    "run jObject \"\"\"{ \"a\":1, \"b\"  :  2, }\"\"\"\n",
    "|> expect (\n",
    "    Failure (\n",
    "        \"object\",\n",
    "        \"Unexpected ','\",\n",
    "        {currentLine = \"{ \\\"a\\\":1, \\\"b\\\"  :  2, }\"; line = 0; column = 18}\n",
    "    )\n",
    ")"
   ]
  },
  {
   "cell_type": "code",
   "execution_count": null,
   "metadata": {
    "dotnet_repl_cellExecutionStartTime": "2023-06-28T01:48:48.6808104-04:00",
    "dotnet_repl_cellExecutionEndTime": "2023-06-28T01:48:48.8554003-04:00",
    "dotnet_interactive": {
     "language": "fsharp"
    },
    "polyglot_notebook": {
     "kernelName": "fsharp"
    }
   },
   "outputs": [
    {
     "data": {
      "text/html": [
       "<details open=\"open\" class=\"dni-treeview\"><summary><span class=\"dni-code-hint\"><code>Success\\n  (JObject\\n     (map\\n        [(\"bday\",\\n          JObject\\n            (map\\n               [(\"day\", JNumber 25.0); (\"month\", JNumber 12.0);\\n                (\"year\", JNumber 2001.0)])); (\"emptyArray\", JArray []);\\n         (\"emptyObject\", JObject (map []));\\n         (\"favouriteColors\", ...</code></span></summary><div><table><thead><tr></tr></thead><tbody><tr><td>Item</td><td><details class=\"dni-treeview\"><summary><span class=\"dni-code-hint\"><code>(JObject\\n  (map\\n     [(\"bday\",\\n       JObject\\n         (map\\n            [(\"day\", JNumber 25.0); (\"month\", JNumber 12.0);\\n             (\"year\", JNumber 2001.0)])); (\"emptyArray\", JArray []);\\n      (\"emptyObject\", JObject (map []));\\n      (\"favouriteColors\", JArray [JString \"blue\"; JString \"gr...</code></span></summary><div><table><thead><tr></tr></thead><tbody><tr><td>Item1</td><td><details class=\"dni-treeview\"><summary><span class=\"dni-code-hint\"><code>JObject\\n  (map\\n     [(\"bday\",\\n       JObject\\n         (map\\n            [(\"day\", JNumber 25.0); (\"month\", JNumber 12.0);\\n             (\"year\", JNumber 2001.0)])); (\"emptyArray\", JArray []);\\n      (\"emptyObject\", JObject (map []));\\n      (\"favouriteColors\", JArray [JString \"blue\"; JString \"gre...</code></span></summary><div><table><thead><tr></tr></thead><tbody><tr><td>Item</td><td><table><thead><tr><th><i>key</i></th><th><i>type</i></th><th>value</th></tr></thead><tbody><tr><td>bday</td><td>FSI_0005+JsonParser+JValue+JObject</td><td><details class=\"dni-treeview\"><summary><span class=\"dni-code-hint\"><code>JObject\\n  (map\\n     [(\"day\", JNumber 25.0); (\"month\", JNumber 12.0); (\"year\", JNumber 2001.0)])</code></span></summary><div><table><thead><tr></tr></thead><tbody><tr><td>Item</td><td><table><thead><tr><th><i>key</i></th><th>value</th></tr></thead><tbody><tr><td>day</td><td>JNumber 25.0</td></tr><tr><td>month</td><td>JNumber 12.0</td></tr><tr><td>year</td><td>JNumber 2001.0</td></tr></tbody></table></td></tr></tbody></table></div></details></td></tr><tr><td>emptyArray</td><td>FSI_0005+JsonParser+JValue+JArray</td><td><details class=\"dni-treeview\"><summary><span class=\"dni-code-hint\"><code>JArray []</code></span></summary><div><table><thead><tr></tr></thead><tbody><tr><td>Item</td><td></td></tr></tbody></table></div></details></td></tr><tr><td>emptyObject</td><td>FSI_0005+JsonParser+JValue+JObject</td><td><details class=\"dni-treeview\"><summary><span class=\"dni-code-hint\"><code>JObject (map [])</code></span></summary><div><table><thead><tr></tr></thead><tbody><tr><td>Item</td><td><i>(empty)</i></td></tr></tbody></table></div></details></td></tr><tr><td>favouriteColors</td><td>FSI_0005+JsonParser+JValue+JArray</td><td><details class=\"dni-treeview\"><summary><span class=\"dni-code-hint\"><code>JArray [JString \"blue\"; JString \"green\"]</code></span></summary><div><table><thead><tr></tr></thead><tbody><tr><td>Item</td><td><table><thead><tr><th><i>index</i></th><th>value</th></tr></thead><tbody><tr><td>0</td><td>JString \"blue\"</td></tr><tr><td>1</td><td>JString \"green\"</td></tr></tbody></table></td></tr></tbody></table></div></details></td></tr><tr><td>isMale</td><td>FSI_0005+JsonParser+JValue+JBool</td><td><details class=\"dni-treeview\"><summary><span class=\"dni-code-hint\"><code>JBool true</code></span></summary><div><table><thead><tr></tr></thead><tbody><tr><td>Item</td><td><div class=\"dni-plaintext\"><pre>True</pre></div></td></tr></tbody></table></div></details></td></tr><tr><td>name</td><td>FSI_0005+JsonParser+JValue+JString</td><td><details class=\"dni-treeview\"><summary><span class=\"dni-code-hint\"><code>JString \"Scott\"</code></span></summary><div><table><thead><tr></tr></thead><tbody><tr><td>Item</td><td>Scott</td></tr></tbody></table></div></details></td></tr></tbody></table></td></tr></tbody></table></div></details></td></tr><tr><td>Item2</td><td><details class=\"dni-treeview\"><summary><span class=\"dni-code-hint\"><code>{ lines =\\n   [|\"{\"; \"    \"name\" : \"Scott\",\"; \"    \"isMale\" : true,\";\\n     \"    \"bday\" : {\"year\":2001, \"month\":12, \"day\":25 },\";\\n     \"    \"favouriteColors\" : [\"blue\", \"green\"],\"; \"    \"emptyArray\" : [],\";\\n     \"    \"emptyObject\" : {}\"; \"}\"|]\\n  position = { line = 8\\n               column = 0 } ...</code></span></summary><div><table><thead><tr></tr></thead><tbody><tr><td>lines</td><td><div class=\"dni-plaintext\"><pre>[ {,     &quot;name&quot; : &quot;Scott&quot;,,     &quot;isMale&quot; : true,,     &quot;bday&quot; : {&quot;year&quot;:2001, &quot;month&quot;:12, &quot;day&quot;:25 },,     &quot;favouriteColors&quot; : [&quot;blue&quot;, &quot;green&quot;],,     &quot;emptyArray&quot; : [],,     &quot;emptyObject&quot; : {}, } ]</pre></div></td></tr><tr><td>position</td><td><details class=\"dni-treeview\"><summary><span class=\"dni-code-hint\"><code>{ line = 8\\n  column = 0 }</code></span></summary><div><table><thead><tr></tr></thead><tbody><tr><td>line</td><td><div class=\"dni-plaintext\"><pre>8</pre></div></td></tr><tr><td>column</td><td><div class=\"dni-plaintext\"><pre>0</pre></div></td></tr></tbody></table></div></details></td></tr></tbody></table></div></details></td></tr></tbody></table></div></details></td></tr></tbody></table></div></details><style>\r\n",
       ".dni-code-hint {\r\n",
       "    font-style: italic;\r\n",
       "    overflow: hidden;\r\n",
       "    white-space: nowrap;\r\n",
       "}\r\n",
       ".dni-treeview {\r\n",
       "    white-space: nowrap;\r\n",
       "}\r\n",
       ".dni-treeview td {\r\n",
       "    vertical-align: top;\r\n",
       "    text-align: start;\r\n",
       "}\r\n",
       "details.dni-treeview {\r\n",
       "    padding-left: 1em;\r\n",
       "}\r\n",
       "table td {\r\n",
       "    text-align: start;\r\n",
       "}\r\n",
       "table tr { \r\n",
       "    vertical-align: top; \r\n",
       "    margin: 0em 0px;\r\n",
       "}\r\n",
       "table tr td pre \r\n",
       "{ \r\n",
       "    vertical-align: top !important; \r\n",
       "    margin: 0em 0px !important;\r\n",
       "} \r\n",
       "table th {\r\n",
       "    text-align: start;\r\n",
       "}\r\n",
       "</style>"
      ]
     },
     "metadata": {},
     "output_type": "display_data"
    },
    {
     "name": "stdout",
     "output_type": "stream",
     "text": [
      "JObject\n",
      "  (map\n",
      "     [(\"bday\",\n",
      "       JObject\n",
      "         (map\n",
      "            [(\"day\", JNumber 25.0); (\"month\", JNumber 12.0);\n",
      "             (\"year\", JNumber 2001.0)])); (\"emptyArray\", JArray []);\n",
      "      (\"emptyObject\", JObject (map []));\n",
      "      (\"favouriteColors\", JArray [JString \"blue\"; JString \"green\"]);\n",
      "      (\"isMale\", JBool true); (\"name\", JString \"Scott\")])\r\n"
     ]
    }
   ],
   "source": [
    "let example1 = \"\"\"{\n",
    "    \"name\" : \"Scott\",\n",
    "    \"isMale\" : true,\n",
    "    \"bday\" : {\"year\":2001, \"month\":12, \"day\":25 },\n",
    "    \"favouriteColors\" : [\"blue\", \"green\"],\n",
    "    \"emptyArray\" : [],\n",
    "    \"emptyObject\" : {}\n",
    "}\"\"\"\n",
    "run jValue example1\n",
    "|> expect (\n",
    "    Success (\n",
    "        JObject (\n",
    "            Map.ofList [\n",
    "                \"name\", JString \"Scott\"\n",
    "                \"isMale\", JBool true\n",
    "                \"bday\", JObject (\n",
    "                    Map.ofList [\n",
    "                        \"year\", JNumber 2001.0\n",
    "                        \"month\", JNumber 12.0\n",
    "                        \"day\", JNumber 25.0\n",
    "                    ]\n",
    "                )\n",
    "                \"favouriteColors\", JArray [JString \"blue\"; JString \"green\"]\n",
    "                \"emptyArray\", JArray []\n",
    "                \"emptyObject\", JObject Map.empty\n",
    "            ]\n",
    "        )\n",
    "    )\n",
    ")"
   ]
  },
  {
   "cell_type": "code",
   "execution_count": null,
   "metadata": {
    "dotnet_repl_cellExecutionStartTime": "2023-06-28T01:48:48.8554411-04:00",
    "dotnet_repl_cellExecutionEndTime": "2023-06-28T01:48:49.3328968-04:00",
    "dotnet_interactive": {
     "language": "fsharp"
    },
    "polyglot_notebook": {
     "kernelName": "fsharp"
    }
   },
   "outputs": [
    {
     "data": {
      "text/html": [
       "<details open=\"open\" class=\"dni-treeview\"><summary><span class=\"dni-code-hint\"><code>Success\\n  (JObject\\n     (map\\n        [(\"widget\",\\n          JObject\\n            (map\\n               [(\"debug\", JString \"on\");\\n                (\"image\",\\n                 JObject\\n                   (map\\n                      [(\"alignment\", JString \"center\");\\n                       (\"hOffset\"...</code></span></summary><div><table><thead><tr></tr></thead><tbody><tr><td>Item</td><td><details class=\"dni-treeview\"><summary><span class=\"dni-code-hint\"><code>(JObject\\n  (map\\n     [(\"widget\",\\n       JObject\\n         (map\\n            [(\"debug\", JString \"on\");\\n             (\"image\",\\n              JObject\\n                (map\\n                   [(\"alignment\", JString \"center\"); (\"hOffset\", JNumber 250.0);\\n                    (\"name\", JString \"sun1\"...</code></span></summary><div><table><thead><tr></tr></thead><tbody><tr><td>Item1</td><td><details class=\"dni-treeview\"><summary><span class=\"dni-code-hint\"><code>JObject\\n  (map\\n     [(\"widget\",\\n       JObject\\n         (map\\n            [(\"debug\", JString \"on\");\\n             (\"image\",\\n              JObject\\n                (map\\n                   [(\"alignment\", JString \"center\"); (\"hOffset\", JNumber 250.0);\\n                    (\"name\", JString \"sun1\")...</code></span></summary><div><table><thead><tr></tr></thead><tbody><tr><td>Item</td><td><table><thead><tr><th><i>key</i></th><th>value</th></tr></thead><tbody><tr><td>widget</td><td><details class=\"dni-treeview\"><summary><span class=\"dni-code-hint\"><code>JObject\\n  (map\\n     [(\"debug\", JString \"on\");\\n      (\"image\",\\n       JObject\\n         (map\\n            [(\"alignment\", JString \"center\"); (\"hOffset\", JNumber 250.0);\\n             (\"name\", JString \"sun1\"); (\"src\", JString \"Images/Sun.png\");\\n             (\"vOffset\", JNumber 250.0)]));\\n      (\"...</code></span></summary><div><table><thead><tr></tr></thead><tbody><tr><td>Item</td><td><table><thead><tr><th><i>key</i></th><th><i>type</i></th><th>value</th></tr></thead><tbody><tr><td>debug</td><td>FSI_0005+JsonParser+JValue+JString</td><td>JString \"on\"</td></tr><tr><td>image</td><td>FSI_0005+JsonParser+JValue+JObject</td><td>JObject\n",
       "  (map\n",
       "     [(\"alignment\", JString \"center\"); (\"hOffset\", JNumber 250.0);\n",
       "      (\"name\", JString \"sun1\"); (\"src\", JString \"Images/Sun.png\");\n",
       "      (\"vOffset\", JNumber 250.0)])</td></tr><tr><td>text</td><td>FSI_0005+JsonParser+JValue+JObject</td><td>JObject\n",
       "  (map\n",
       "     [(\"alignment\", JString \"center\"); (\"data\", JString \"Click Here\");\n",
       "      (\"hOffset\", JNumber 250.0); (\"name\", JString \"text1\");\n",
       "      (\"onMouseUp\", JString \"sun1.opacity = (sun1.opacity / 100) * 90;\");\n",
       "      (\"size\", JNumber 36.0); (\"style\", JString \"bold\");\n",
       "      (\"vOffset\", JNumber 100.0)])</td></tr><tr><td>window</td><td>FSI_0005+JsonParser+JValue+JObject</td><td>JObject\n",
       "  (map\n",
       "     [(\"height\", JNumber 500.0); (\"name\", JString \"main_window\");\n",
       "      (\"title\", JString \"Sample Konfabulator Widget\"); (\"width\", JNumber 500.0)])</td></tr></tbody></table></td></tr></tbody></table></div></details></td></tr></tbody></table></td></tr></tbody></table></div></details></td></tr><tr><td>Item2</td><td><details class=\"dni-treeview\"><summary><span class=\"dni-code-hint\"><code>{ lines =\\n   [|\"{\"widget\": {\"; \"    \"debug\": \"on\",\"; \"    \"window\": {\";\\n     \"        \"title\": \"Sample Konfabulator Widget\",\";\\n     \"        \"name\": \"main_window\",\"; \"        \"width\": 500,\";\\n     \"        \"height\": 500\"; \"    },\"; \"    \"image\": {\";\\n     \"        \"src\": \"Images/Sun.png\",\"; \"    ...</code></span></summary><div><table><thead><tr></tr></thead><tbody><tr><td>lines</td><td><div class=\"dni-plaintext\"><pre>[ {&quot;widget&quot;: {,     &quot;debug&quot;: &quot;on&quot;,,     &quot;window&quot;: {,         &quot;title&quot;: &quot;Sample Konfabulator Widget&quot;,,         &quot;name&quot;: &quot;main_window&quot;,,         &quot;width&quot;: 500,,         &quot;height&quot;: 500,     },,     &quot;image&quot;: {,         &quot;src&quot;: &quot;Images/Sun.png&quot;,,         &quot;name&quot;: &quot;sun1&quot;,,         &quot;hOffset&quot;: 250,,         &quot;vOffset&quot;: 250,,         &quot;alignment&quot;: &quot;center&quot;,     },,     &quot;text&quot;: {,         &quot;data&quot;: &quot;Click Here&quot;,,         &quot;size&quot;: 36,,         &quot;style&quot;: &quot;bold&quot;,,         &quot;name&quot;: &quot;text1&quot;, ... (6 more) ]</pre></div></td></tr><tr><td>position</td><td><details class=\"dni-treeview\"><summary><span class=\"dni-code-hint\"><code>{ line = 26\\n  column = 0 }</code></span></summary><div><table><thead><tr></tr></thead><tbody><tr><td>line</td><td><div class=\"dni-plaintext\"><pre>26</pre></div></td></tr><tr><td>column</td><td><div class=\"dni-plaintext\"><pre>0</pre></div></td></tr></tbody></table></div></details></td></tr></tbody></table></div></details></td></tr></tbody></table></div></details></td></tr></tbody></table></div></details><style>\r\n",
       ".dni-code-hint {\r\n",
       "    font-style: italic;\r\n",
       "    overflow: hidden;\r\n",
       "    white-space: nowrap;\r\n",
       "}\r\n",
       ".dni-treeview {\r\n",
       "    white-space: nowrap;\r\n",
       "}\r\n",
       ".dni-treeview td {\r\n",
       "    vertical-align: top;\r\n",
       "    text-align: start;\r\n",
       "}\r\n",
       "details.dni-treeview {\r\n",
       "    padding-left: 1em;\r\n",
       "}\r\n",
       "table td {\r\n",
       "    text-align: start;\r\n",
       "}\r\n",
       "table tr { \r\n",
       "    vertical-align: top; \r\n",
       "    margin: 0em 0px;\r\n",
       "}\r\n",
       "table tr td pre \r\n",
       "{ \r\n",
       "    vertical-align: top !important; \r\n",
       "    margin: 0em 0px !important;\r\n",
       "} \r\n",
       "table th {\r\n",
       "    text-align: start;\r\n",
       "}\r\n",
       "</style>"
      ]
     },
     "metadata": {},
     "output_type": "display_data"
    },
    {
     "name": "stdout",
     "output_type": "stream",
     "text": [
      "JObject\n",
      "  (map\n",
      "     [(\"widget\",\n",
      "       JObject\n",
      "         (map\n",
      "            [(\"debug\", JString \"on\");\n",
      "             (\"image\",\n",
      "              JObject\n",
      "                (map\n",
      "                   [(\"alignment\", JString \"center\"); (\"hOffset\", JNumber 250.0);\n",
      "                    (\"name\", JString \"sun1\"); (\"src\", JString \"Images/Sun.png\");\n",
      "                    (\"vOffset\", JNumber 250.0)]));\n",
      "             (\"text\",\n",
      "              JObject\n",
      "                (map\n",
      "                   [(\"alignment\", JString \"center\");\n",
      "                    (\"data\", JString \"Click Here\"); (\"hOffset\", JNumber 250.0);\n",
      "                    (\"name\", JString \"text1\");\n",
      "                    (\"onMouseUp\",\n",
      "                     JString \"sun1.opacity = (sun1.opacity / 100) * 90;\");\n",
      "                    (\"size\", JNumber 36.0); (\"style\", JString \"bold\");\n",
      "                    (\"vOffset\", JNumber 100.0)]));\n",
      "             (\"window\",\n",
      "              JObject\n",
      "                (map\n",
      "                   [(\"height\", JNumber 500.0); (\"name\", JString \"main_window\");\n",
      "                    (\"title\", JString \"Sample Konfabulator Widget\");\n",
      "                    (\"width\", JNumber 500.0)]))]))])\r\n"
     ]
    }
   ],
   "source": [
    "let example2= \"\"\"{\"widget\": {\n",
    "    \"debug\": \"on\",\n",
    "    \"window\": {\n",
    "        \"title\": \"Sample Konfabulator Widget\",\n",
    "        \"name\": \"main_window\",\n",
    "        \"width\": 500,\n",
    "        \"height\": 500\n",
    "    },\n",
    "    \"image\": {\n",
    "        \"src\": \"Images/Sun.png\",\n",
    "        \"name\": \"sun1\",\n",
    "        \"hOffset\": 250,\n",
    "        \"vOffset\": 250,\n",
    "        \"alignment\": \"center\"\n",
    "    },\n",
    "    \"text\": {\n",
    "        \"data\": \"Click Here\",\n",
    "        \"size\": 36,\n",
    "        \"style\": \"bold\",\n",
    "        \"name\": \"text1\",\n",
    "        \"hOffset\": 250,\n",
    "        \"vOffset\": 100,\n",
    "        \"alignment\": \"center\",\n",
    "        \"onMouseUp\": \"sun1.opacity = (sun1.opacity / 100) * 90;\"\n",
    "    }\n",
    "}}  \"\"\"\n",
    "\n",
    "run jValue example2\n",
    "|> expect (\n",
    "    Success (\n",
    "        JObject (\n",
    "            Map.ofList [\n",
    "                \"widget\", JObject (\n",
    "                    Map.ofList [\n",
    "                        \"debug\", JString \"on\"\n",
    "                        \"window\", JObject (\n",
    "                            Map.ofList [\n",
    "                                \"title\", JString \"Sample Konfabulator Widget\"\n",
    "                                \"name\", JString \"main_window\"\n",
    "                                \"width\", JNumber 500.0\n",
    "                                \"height\", JNumber 500.0\n",
    "                            ]\n",
    "                        )\n",
    "                        \"image\", JObject (\n",
    "                            Map.ofList [\n",
    "                                \"src\", JString \"Images/Sun.png\"\n",
    "                                \"name\", JString \"sun1\"\n",
    "                                \"hOffset\", JNumber 250.0\n",
    "                                \"vOffset\", JNumber 250.0\n",
    "                                \"alignment\", JString \"center\"\n",
    "                            ]\n",
    "                        )\n",
    "                        \"text\", JObject (\n",
    "                            Map.ofList [\n",
    "                                \"data\", JString \"Click Here\"\n",
    "                                \"size\", JNumber 36.0\n",
    "                                \"style\", JString \"bold\"\n",
    "                                \"name\", JString \"text1\"\n",
    "                                \"hOffset\", JNumber 250.0\n",
    "                                \"vOffset\", JNumber 100.0\n",
    "                                \"alignment\", JString \"center\"\n",
    "                                \"onMouseUp\", JString \"sun1.opacity = (sun1.opacity / 100) * 90;\"\n",
    "                            ]\n",
    "                        )\n",
    "                    ]\n",
    "                )\n",
    "            ]\n",
    "        )\n",
    "    )\n",
    ")"
   ]
  },
  {
   "cell_type": "code",
   "execution_count": null,
   "metadata": {
    "dotnet_repl_cellExecutionStartTime": "2023-06-28T01:48:49.3332251-04:00",
    "dotnet_repl_cellExecutionEndTime": "2023-06-28T01:48:50.0087151-04:00",
    "dotnet_interactive": {
     "language": "fsharp"
    },
    "polyglot_notebook": {
     "kernelName": "fsharp"
    }
   },
   "outputs": [
    {
     "data": {
      "text/html": [
       "<details open=\"open\" class=\"dni-treeview\"><summary><span class=\"dni-code-hint\"><code>Success\\n  (JObject\\n     (map\\n        [(\"array\",\\n          JArray\\n            [JNumber 1.0; JNumber 2.0; JNumber 3.0; JNumber 4.0; JNumber 5.0]);\\n         (\"boolean\", JBool true); (\"emptyArray\", JArray []);\\n         (\"emptyObject\", JObject (map []));\\n         (\"escapedString\", JString \"This s...</code></span></summary><div><table><thead><tr></tr></thead><tbody><tr><td>Item</td><td><details class=\"dni-treeview\"><summary><span class=\"dni-code-hint\"><code>(JObject\\n  (map\\n     [(\"array\",\\n       JArray [JNumber 1.0; JNumber 2.0; JNumber 3.0; JNumber 4.0; JNumber 5.0]);\\n      (\"boolean\", JBool true); (\"emptyArray\", JArray []);\\n      (\"emptyObject\", JObject (map []));\\n      (\"escapedString\", JString \"This string contains \\/\\\\\\b\\f\\n\\r\\t\\\"\\'\");\\n    ...</code></span></summary><div><table><thead><tr></tr></thead><tbody><tr><td>Item1</td><td><details class=\"dni-treeview\"><summary><span class=\"dni-code-hint\"><code>JObject\\n  (map\\n     [(\"array\",\\n       JArray [JNumber 1.0; JNumber 2.0; JNumber 3.0; JNumber 4.0; JNumber 5.0]);\\n      (\"boolean\", JBool true); (\"emptyArray\", JArray []);\\n      (\"emptyObject\", JObject (map []));\\n      (\"escapedString\", JString \"This string contains \\/\\\\\\b\\f\\n\\r\\t\\\"\\'\");\\n     ...</code></span></summary><div><table><thead><tr></tr></thead><tbody><tr><td>Item</td><td><table><thead><tr><th><i>key</i></th><th><i>type</i></th><th>value</th></tr></thead><tbody><tr><td>array</td><td>FSI_0005+JsonParser+JValue+JArray</td><td><details class=\"dni-treeview\"><summary><span class=\"dni-code-hint\"><code>JArray [JNumber 1.0; JNumber 2.0; JNumber 3.0; JNumber 4.0; JNumber 5.0]</code></span></summary><div><table><thead><tr></tr></thead><tbody><tr><td>Item</td><td><table><thead><tr><th><i>index</i></th><th>value</th></tr></thead><tbody><tr><td>0</td><td>JNumber 1.0</td></tr><tr><td>1</td><td>JNumber 2.0</td></tr><tr><td>2</td><td>JNumber 3.0</td></tr><tr><td>3</td><td>JNumber 4.0</td></tr><tr><td>4</td><td>JNumber 5.0</td></tr></tbody></table></td></tr></tbody></table></div></details></td></tr><tr><td>boolean</td><td>FSI_0005+JsonParser+JValue+JBool</td><td><details class=\"dni-treeview\"><summary><span class=\"dni-code-hint\"><code>JBool true</code></span></summary><div><table><thead><tr></tr></thead><tbody><tr><td>Item</td><td><div class=\"dni-plaintext\"><pre>True</pre></div></td></tr></tbody></table></div></details></td></tr><tr><td>emptyArray</td><td>FSI_0005+JsonParser+JValue+JArray</td><td><details class=\"dni-treeview\"><summary><span class=\"dni-code-hint\"><code>JArray []</code></span></summary><div><table><thead><tr></tr></thead><tbody><tr><td>Item</td><td></td></tr></tbody></table></div></details></td></tr><tr><td>emptyObject</td><td>FSI_0005+JsonParser+JValue+JObject</td><td><details class=\"dni-treeview\"><summary><span class=\"dni-code-hint\"><code>JObject (map [])</code></span></summary><div><table><thead><tr></tr></thead><tbody><tr><td>Item</td><td><i>(empty)</i></td></tr></tbody></table></div></details></td></tr><tr><td>escapedString</td><td>FSI_0005+JsonParser+JValue+JString</td><td><details class=\"dni-treeview\"><summary><span class=\"dni-code-hint\"><code>JString \"This string contains \\/\\\\\\b\\f\\n\\r\\t\\\"\\'\"</code></span></summary><div><table><thead><tr></tr></thead><tbody><tr><td>Item</td><td>This string contains \\/\\\\\\b\\f\\n\\r\\t\\&quot;\\&#39;</td></tr></tbody></table></div></details></td></tr><tr><td>nestedArrays</td><td>FSI_0005+JsonParser+JValue+JArray</td><td><details class=\"dni-treeview\"><summary><span class=\"dni-code-hint\"><code>JArray\\n  [JArray [JNumber 1.0; JNumber 2.0; JNumber 3.0];\\n   JArray [JNumber 4.0; JNumber 5.0; JNumber 6.0]]</code></span></summary><div><table><thead><tr></tr></thead><tbody><tr><td>Item</td><td><table><thead><tr><th><i>index</i></th><th>value</th></tr></thead><tbody><tr><td>0</td><td>JArray [JNumber 1.0; JNumber 2.0; JNumber 3.0]</td></tr><tr><td>1</td><td>JArray [JNumber 4.0; JNumber 5.0; JNumber 6.0]</td></tr></tbody></table></td></tr></tbody></table></div></details></td></tr><tr><td>nestedObjects</td><td>FSI_0005+JsonParser+JValue+JArray</td><td><details class=\"dni-treeview\"><summary><span class=\"dni-code-hint\"><code>JArray\\n  [JObject (map [(\"age\", JNumber 25.0); (\"name\", JString \"Alice\")]);\\n   JObject (map [(\"age\", JNumber 30.0); (\"name\", JString \"Bob\")])]</code></span></summary><div><table><thead><tr></tr></thead><tbody><tr><td>Item</td><td><table><thead><tr><th><i>index</i></th><th>value</th></tr></thead><tbody><tr><td>0</td><td>JObject (map [(\"age\", JNumber 25.0); (\"name\", JString \"Alice\")])</td></tr><tr><td>1</td><td>JObject (map [(\"age\", JNumber 30.0); (\"name\", JString \"Bob\")])</td></tr></tbody></table></td></tr></tbody></table></div></details></td></tr><tr><td>nullValue</td><td>FSI_0005+JsonParser+JValue</td><td><details class=\"dni-treeview\"><summary><span class=\"dni-code-hint\"><code>JNull</code></span></summary><div><table><thead><tr></tr></thead><tbody></tbody></table></div></details></td></tr><tr><td>number</td><td>FSI_0005+JsonParser+JValue+JNumber</td><td><details class=\"dni-treeview\"><summary><span class=\"dni-code-hint\"><code>JNumber 42.0</code></span></summary><div><table><thead><tr></tr></thead><tbody><tr><td>Item</td><td><div class=\"dni-plaintext\"><pre>42</pre></div></td></tr></tbody></table></div></details></td></tr><tr><td>object</td><td>FSI_0005+JsonParser+JValue+JObject</td><td><details class=\"dni-treeview\"><summary><span class=\"dni-code-hint\"><code>JObject\\n  (map\\n     [(\"nestedArray\", JArray [JString \"a\"; JString \"b\"; JString \"c\"]);\\n      (\"nestedBoolean\", JBool false); (\"nestedNull\", JNull);\\n      (\"nestedNumber\", JNumber 3.14);\\n      (\"nestedObject\",\\n       JObject (map [(\"nestedProperty\", JString \"Nested Object Value\")]));\\n      (\"ne...</code></span></summary><div><table><thead><tr></tr></thead><tbody><tr><td>Item</td><td><table><thead><tr><th><i>key</i></th><th><i>type</i></th><th>value</th></tr></thead><tbody><tr><td>nestedArray</td><td>FSI_0005+JsonParser+JValue+JArray</td><td>JArray [JString \"a\"; JString \"b\"; JString \"c\"]</td></tr><tr><td>nestedBoolean</td><td>FSI_0005+JsonParser+JValue+JBool</td><td>JBool false</td></tr><tr><td>nestedNull</td><td>FSI_0005+JsonParser+JValue</td><td>JNull</td></tr><tr><td>nestedNumber</td><td>FSI_0005+JsonParser+JValue+JNumber</td><td>JNumber 3.14</td></tr><tr><td>nestedObject</td><td>FSI_0005+JsonParser+JValue+JObject</td><td>JObject (map [(\"nestedProperty\", JString \"Nested Object Value\")])</td></tr><tr><td>nestedString</td><td>FSI_0005+JsonParser+JValue+JString</td><td>JString \"Nested Value\"</td></tr></tbody></table></td></tr></tbody></table></div></details></td></tr><tr><td>scientificNumber</td><td>FSI_0005+JsonParser+JValue+JNumber</td><td><details class=\"dni-treeview\"><summary><span class=\"dni-code-hint\"><code>JNumber 3.14e-10</code></span></summary><div><table><thead><tr></tr></thead><tbody><tr><td>Item</td><td><div class=\"dni-plaintext\"><pre>3.14E-10</pre></div></td></tr></tbody></table></div></details></td></tr><tr><td>specialCharacters</td><td>FSI_0005+JsonParser+JValue+JString</td><td><details class=\"dni-treeview\"><summary><span class=\"dni-code-hint\"><code>JString \"!@#$%^&*()\"</code></span></summary><div><table><thead><tr></tr></thead><tbody><tr><td>Item</td><td>!@#$%^&amp;*()</td></tr></tbody></table></div></details></td></tr><tr><td>string</td><td>FSI_0005+JsonParser+JValue+JString</td><td><details class=\"dni-treeview\"><summary><span class=\"dni-code-hint\"><code>JString \"Hello, \"World\"!\"</code></span></summary><div><table><thead><tr></tr></thead><tbody><tr><td>Item</td><td>Hello, &quot;World&quot;!</td></tr></tbody></table></div></details></td></tr><tr><td>unicodeString1</td><td>FSI_0005+JsonParser+JValue+JString</td><td><details class=\"dni-treeview\"><summary><span class=\"dni-code-hint\"><code>JString \"프리마\"</code></span></summary><div><table><thead><tr></tr></thead><tbody><tr><td>Item</td><td>프리마</td></tr></tbody></table></div></details></td></tr><tr><td>unicodeString2</td><td>FSI_0005+JsonParser+JValue+JString</td><td><details class=\"dni-treeview\"><summary><span class=\"dni-code-hint\"><code>JString \"Hello, \"World\"!\"</code></span></summary><div><table><thead><tr></tr></thead><tbody><tr><td>Item</td><td>Hello, &quot;World&quot;!</td></tr></tbody></table></div></details></td></tr></tbody></table></td></tr></tbody></table></div></details></td></tr><tr><td>Item2</td><td><details class=\"dni-treeview\"><summary><span class=\"dni-code-hint\"><code>{ lines =\\n   [|\"{\"; \"  \"string\": \"Hello, \\\"World\\\"!\",\";\\n     \"  \"escapedString\": \"This string contains \\\\/\\\\\\\\\\\\b\\\\f\\\\n\\\\r\\\\t\\\\\\\"\\\\'\",\";\\n     \"  \"number\": 42,\"; \"  \"scientificNumber\": 3.14e-10,\"; \"  \"boolean\": true,\";\\n     \"  \"nullValue\": null,\"; \"  \"array\": [1, 2, 3, 4, 5],\";\\n     \"  \"unicodeS...</code></span></summary><div><table><thead><tr></tr></thead><tbody><tr><td>lines</td><td><div class=\"dni-plaintext\"><pre>[ {,   &quot;string&quot;: &quot;Hello, \\&quot;World\\&quot;!&quot;,,   &quot;escapedString&quot;: &quot;This string contains \\\\/\\\\\\\\\\\\b\\\\f\\\\n\\\\r\\\\t\\\\\\&quot;\\\\&#39;&quot;,,   &quot;number&quot;: 42,,   &quot;scientificNumber&quot;: 3.14e-10,,   &quot;boolean&quot;: true,,   &quot;nullValue&quot;: null,,   &quot;array&quot;: [1, 2, 3, 4, 5],,   &quot;unicodeString1&quot;: &quot;프리마&quot;,,   &quot;unicodeString2&quot;: &quot;\\u0048\\u0065\\u006C\\u006C\\u006F, \\u0022\\u0057\\u006F\\u0072\\u006C\\u0064\\u0022!&quot;,,   &quot;specialCharacters&quot;: &quot;!@#$%^&amp;*()&quot;,,   &quot;emptyArray&quot;: [],,   &quot;emptyObject&quot;: {},,   &quot;nestedArrays&quot;: [[1, 2, 3], [4, 5, 6]],,   &quot;object&quot;: {,     &quot;nestedString&quot;: &quot;Nested Value&quot;,,     &quot;nestedNumber&quot;: 3.14,,     &quot;nestedBoolean&quot;: false,,     &quot;nestedNull&quot;: null,,     &quot;nestedArray&quot;: [&quot;a&quot;, &quot;b&quot;, &quot;c&quot;], ... (9 more) ]</pre></div></td></tr><tr><td>position</td><td><details class=\"dni-treeview\"><summary><span class=\"dni-code-hint\"><code>{ line = 29\\n  column = 0 }</code></span></summary><div><table><thead><tr></tr></thead><tbody><tr><td>line</td><td><div class=\"dni-plaintext\"><pre>29</pre></div></td></tr><tr><td>column</td><td><div class=\"dni-plaintext\"><pre>0</pre></div></td></tr></tbody></table></div></details></td></tr></tbody></table></div></details></td></tr></tbody></table></div></details></td></tr></tbody></table></div></details><style>\r\n",
       ".dni-code-hint {\r\n",
       "    font-style: italic;\r\n",
       "    overflow: hidden;\r\n",
       "    white-space: nowrap;\r\n",
       "}\r\n",
       ".dni-treeview {\r\n",
       "    white-space: nowrap;\r\n",
       "}\r\n",
       ".dni-treeview td {\r\n",
       "    vertical-align: top;\r\n",
       "    text-align: start;\r\n",
       "}\r\n",
       "details.dni-treeview {\r\n",
       "    padding-left: 1em;\r\n",
       "}\r\n",
       "table td {\r\n",
       "    text-align: start;\r\n",
       "}\r\n",
       "table tr { \r\n",
       "    vertical-align: top; \r\n",
       "    margin: 0em 0px;\r\n",
       "}\r\n",
       "table tr td pre \r\n",
       "{ \r\n",
       "    vertical-align: top !important; \r\n",
       "    margin: 0em 0px !important;\r\n",
       "} \r\n",
       "table th {\r\n",
       "    text-align: start;\r\n",
       "}\r\n",
       "</style>"
      ]
     },
     "metadata": {},
     "output_type": "display_data"
    },
    {
     "name": "stdout",
     "output_type": "stream",
     "text": [
      "JObject\n",
      "  (map\n",
      "     [(\"array\",\n",
      "       JArray [JNumber 1.0; JNumber 2.0; JNumber 3.0; JNumber 4.0; JNumber 5.0]);\n",
      "      (\"boolean\", JBool true); (\"emptyArray\", JArray []);\n",
      "      (\"emptyObject\", JObject (map []));\n",
      "      (\"escapedString\", JString \"This string contains \\/\\\\\\b\\f\\n\\r\\t\\\"\\'\");\n",
      "      (\"nestedArrays\",\n",
      "       JArray\n",
      "         [JArray [JNumber 1.0; JNumber 2.0; JNumber 3.0];\n",
      "          JArray [JNumber 4.0; JNumber 5.0; JNumber 6.0]]);\n",
      "      (\"nestedObjects\",\n",
      "       JArray\n",
      "         [JObject (map [(\"age\", JNumber 25.0); (\"name\", JString \"Alice\")]);\n",
      "          JObject (map [(\"age\", JNumber 30.0); (\"name\", JString \"Bob\")])]);\n",
      "      (\"nullValue\", JNull); (\"number\", JNumber 42.0); ...])\r\n"
     ]
    }
   ],
   "source": [
    "let example3 = \"\"\"{\n",
    "  \"string\": \"Hello, \\\"World\\\"!\",\n",
    "  \"escapedString\": \"This string contains \\\\/\\\\\\\\\\\\b\\\\f\\\\n\\\\r\\\\t\\\\\\\"\\\\'\",\n",
    "  \"number\": 42,\n",
    "  \"scientificNumber\": 3.14e-10,\n",
    "  \"boolean\": true,\n",
    "  \"nullValue\": null,\n",
    "  \"array\": [1, 2, 3, 4, 5],\n",
    "  \"unicodeString1\": \"프리마\",\n",
    "  \"unicodeString2\": \"\\u0048\\u0065\\u006C\\u006C\\u006F, \\u0022\\u0057\\u006F\\u0072\\u006C\\u0064\\u0022!\",\n",
    "  \"specialCharacters\": \"!@#$%^&*()\",\n",
    "  \"emptyArray\": [],\n",
    "  \"emptyObject\": {},\n",
    "  \"nestedArrays\": [[1, 2, 3], [4, 5, 6]],\n",
    "  \"object\": {\n",
    "    \"nestedString\": \"Nested Value\",\n",
    "    \"nestedNumber\": 3.14,\n",
    "    \"nestedBoolean\": false,\n",
    "    \"nestedNull\": null,\n",
    "    \"nestedArray\": [\"a\", \"b\", \"c\"],\n",
    "    \"nestedObject\": {\n",
    "      \"nestedProperty\": \"Nested Object Value\"\n",
    "    }\n",
    "  },\n",
    "  \"nestedObjects\": [\n",
    "    {\"name\": \"Alice\", \"age\": 25},\n",
    "    {\"name\": \"Bob\", \"age\": 30}\n",
    "  ]\n",
    "}\"\"\"\n",
    "run jValue example3\n",
    "|> expect (\n",
    "    Success (\n",
    "        JObject (\n",
    "            Map.ofList [\n",
    "                \"string\", JString @\"Hello, \"\"World\"\"!\"\n",
    "                \"escapedString\", JString @\"This string contains \\/\\\\\\b\\f\\n\\r\\t\\\"\"\\'\"\n",
    "                \"number\", JNumber 42.0\n",
    "                \"scientificNumber\", JNumber 3.14e-10\n",
    "                \"boolean\", JBool true\n",
    "                \"nullValue\", JNull\n",
    "                \"array\", JArray [\n",
    "                    JNumber 1.0; JNumber 2.0; JNumber 3.0; JNumber 4.0; JNumber 5.0\n",
    "                ]\n",
    "                \"unicodeString1\", JString \"프리마\"\n",
    "                \"unicodeString2\", JString @\"Hello, \"\"World\"\"!\"\n",
    "                \"specialCharacters\", JString \"!@#$%^&*()\"\n",
    "                \"emptyArray\", JArray []\n",
    "                \"emptyObject\", JObject Map.empty\n",
    "                \"nestedArrays\", JArray [\n",
    "                    JArray [JNumber 1.0; JNumber 2.0; JNumber 3.0]\n",
    "                    JArray [JNumber 4.0; JNumber 5.0; JNumber 6.0]\n",
    "                ]\n",
    "                \"object\", JObject (\n",
    "                    Map.ofList [\n",
    "                        \"nestedString\", JString \"Nested Value\"\n",
    "                        \"nestedNumber\", JNumber 3.14\n",
    "                        \"nestedBoolean\", JBool false\n",
    "                        \"nestedNull\", JNull\n",
    "                        \"nestedArray\", JArray [JString \"a\"; JString \"b\"; JString \"c\"]\n",
    "                        \"nestedObject\", JObject (\n",
    "                            Map.ofList [\n",
    "                                \"nestedProperty\", JString \"Nested Object Value\"\n",
    "                            ]\n",
    "                        )\n",
    "                    ]\n",
    "                )\n",
    "                \"nestedObjects\", JArray [\n",
    "                  JObject (Map.ofList [\"name\", JString \"Alice\"; \"age\", JNumber 25.0])\n",
    "                  JObject (Map.ofList [\"name\", JString \"Bob\"; \"age\", JNumber 30.0])\n",
    "                ]\n",
    "            ]\n",
    "        )\n",
    "    )\n",
    ")"
   ]
  }
 ],
 "metadata": {
  "kernelspec": {
   "display_name": ".NET (C#)",
   "language": "C#",
   "name": ".net-csharp"
  },
  "language_info": {
   "file_extension": ".cs",
   "mimetype": "text/x-csharp",
   "name": "C#",
   "pygments_lexer": "csharp",
   "version": "10.0"
  },
  "polyglot_notebook": {
   "defaultKernelName": "csharp",
   "items": [
    {
     "name": "csharp"
    }
   ]
  },
  "dotnet_interactive": {
   "defaultKernelName": "csharp",
   "items": [
    {
     "name": "csharp"
    }
   ]
  }
 },
 "nbformat": 4,
 "nbformat_minor": 5
}