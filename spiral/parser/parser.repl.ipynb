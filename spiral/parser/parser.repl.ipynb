{
 "cells": [
  {
   "cell_type": "code",
   "execution_count": null,
   "metadata": {
    "dotnet_repl_cellExecutionStartTime": "2023-07-03T22:42:24.7550674-03:00",
    "dotnet_repl_cellExecutionEndTime": "2023-07-03T22:42:33.2441638-03:00",
    "dotnet_interactive": {
     "language": "fsharp"
    },
    "polyglot_notebook": {
     "kernelName": "fsharp"
    }
   },
   "outputs": [
    {
     "data": {
      "text/html": [
       "<div><div></div><div><strong>Installing Packages</strong><ul><li><span>Expecto</span></li></ul></div><div></div></div>"
      ]
     },
     "metadata": {},
     "output_type": "display_data"
    },
    {
     "data": {
      "text/html": [
       "<div><div></div><div><strong>Installing Packages</strong><ul><li><span>Expecto.</span></li></ul></div><div></div></div>"
      ]
     },
     "metadata": {},
     "output_type": "display_data"
    },
    {
     "data": {
      "text/html": [
       "<div><div></div><div><strong>Installing Packages</strong><ul><li><span>Expecto..</span></li></ul></div><div></div></div>"
      ]
     },
     "metadata": {},
     "output_type": "display_data"
    },
    {
     "data": {
      "text/html": [
       "<div><div></div><div><strong>Installing Packages</strong><ul><li><span>Expecto...</span></li></ul></div><div></div></div>"
      ]
     },
     "metadata": {},
     "output_type": "display_data"
    },
    {
     "data": {
      "text/html": [
       "<div><div></div><div><strong>Installing Packages</strong><ul><li><span>Expecto....</span></li></ul></div><div></div></div>"
      ]
     },
     "metadata": {},
     "output_type": "display_data"
    },
    {
     "data": {
      "text/html": [
       "<div><div></div><div><strong>Installing Packages</strong><ul><li><span>Expecto.....</span></li></ul></div><div></div></div>"
      ]
     },
     "metadata": {},
     "output_type": "display_data"
    },
    {
     "data": {
      "text/html": [
       "<div><div></div><div><strong>Installing Packages</strong><ul><li><span>Expecto......</span></li></ul></div><div></div></div>"
      ]
     },
     "metadata": {},
     "output_type": "display_data"
    },
    {
     "data": {
      "text/html": [
       "<div><div></div><div><strong>Installing Packages</strong><ul><li><span>Expecto.......</span></li></ul></div><div></div></div>"
      ]
     },
     "metadata": {},
     "output_type": "display_data"
    },
    {
     "data": {
      "text/html": [
       "<div><div></div><div><strong>Installing Packages</strong><ul><li><span>Expecto........</span></li></ul></div><div></div></div>"
      ]
     },
     "metadata": {},
     "output_type": "display_data"
    },
    {
     "data": {
      "text/html": [
       "<div><div></div><div></div><div><strong>Installed Packages</strong><ul><li><span>Expecto, 10.1.0</span></li></ul></div></div>"
      ]
     },
     "metadata": {},
     "output_type": "display_data"
    }
   ],
   "source": [
    "#r \"nuget:Expecto\""
   ]
  },
  {
   "cell_type": "markdown",
   "metadata": {
    "dotnet_repl_cellExecutionStartTime": "2023-07-03T22:42:33.2450651-03:00",
    "dotnet_repl_cellExecutionEndTime": "2023-07-03T22:42:33.2458568-03:00"
   },
   "source": [
    "## Parser"
   ]
  },
  {
   "cell_type": "code",
   "execution_count": null,
   "metadata": {
    "dotnet_repl_cellExecutionStartTime": "2023-07-03T22:42:33.2459231-03:00",
    "dotnet_repl_cellExecutionEndTime": "2023-07-03T22:42:33.4664518-03:00",
    "dotnet_interactive": {
     "language": "fsharp"
    },
    "polyglot_notebook": {
     "kernelName": "fsharp"
    }
   },
   "outputs": [],
   "source": [
    "open System"
   ]
  },
  {
   "cell_type": "markdown",
   "metadata": {
    "dotnet_repl_cellExecutionStartTime": "2023-07-03T22:42:33.4664754-03:00",
    "dotnet_repl_cellExecutionEndTime": "2023-07-03T22:42:33.4669037-03:00"
   },
   "source": [
    "### TextInput"
   ]
  },
  {
   "cell_type": "code",
   "execution_count": null,
   "metadata": {
    "dotnet_repl_cellExecutionStartTime": "2023-07-03T22:42:33.4669188-03:00",
    "dotnet_repl_cellExecutionEndTime": "2023-07-03T22:42:34.36704-03:00",
    "dotnet_interactive": {
     "language": "fsharp"
    },
    "polyglot_notebook": {
     "kernelName": "fsharp"
    }
   },
   "outputs": [],
   "source": [
    "type Position =\n",
    "    {\n",
    "        line : int\n",
    "        column : int\n",
    "    }"
   ]
  },
  {
   "cell_type": "code",
   "execution_count": null,
   "metadata": {
    "dotnet_repl_cellExecutionStartTime": "2023-07-03T22:42:34.3670643-03:00",
    "dotnet_repl_cellExecutionEndTime": "2023-07-03T22:42:34.5977645-03:00",
    "dotnet_interactive": {
     "language": "fsharp"
    },
    "polyglot_notebook": {
     "kernelName": "fsharp"
    }
   },
   "outputs": [],
   "source": [
    "let initialPos = { line = 0; column = 0 }"
   ]
  },
  {
   "cell_type": "code",
   "execution_count": null,
   "metadata": {
    "dotnet_repl_cellExecutionStartTime": "2023-07-03T22:42:34.5977878-03:00",
    "dotnet_repl_cellExecutionEndTime": "2023-07-03T22:42:34.7767186-03:00",
    "dotnet_interactive": {
     "language": "fsharp"
    },
    "polyglot_notebook": {
     "kernelName": "fsharp"
    }
   },
   "outputs": [],
   "source": [
    "let incrCol (pos : Position) =\n",
    "    { pos with column = pos.column + 1 }"
   ]
  },
  {
   "cell_type": "code",
   "execution_count": null,
   "metadata": {
    "dotnet_repl_cellExecutionStartTime": "2023-07-03T22:42:34.7767411-03:00",
    "dotnet_repl_cellExecutionEndTime": "2023-07-03T22:42:34.7867889-03:00",
    "dotnet_interactive": {
     "language": "fsharp"
    },
    "polyglot_notebook": {
     "kernelName": "fsharp"
    }
   },
   "outputs": [],
   "source": [
    "let incrLine pos =\n",
    "    { line = pos.line + 1; column = 0 }"
   ]
  },
  {
   "cell_type": "code",
   "execution_count": null,
   "metadata": {
    "dotnet_repl_cellExecutionStartTime": "2023-07-03T22:42:34.786812-03:00",
    "dotnet_repl_cellExecutionEndTime": "2023-07-03T22:42:34.841196-03:00",
    "dotnet_interactive": {
     "language": "fsharp"
    },
    "polyglot_notebook": {
     "kernelName": "fsharp"
    }
   },
   "outputs": [],
   "source": [
    "type InputState =\n",
    "    {\n",
    "        lines : string[]\n",
    "        position : Position\n",
    "    }"
   ]
  },
  {
   "cell_type": "code",
   "execution_count": null,
   "metadata": {
    "dotnet_repl_cellExecutionStartTime": "2023-07-03T22:42:34.8412301-03:00",
    "dotnet_repl_cellExecutionEndTime": "2023-07-03T22:42:34.9859016-03:00",
    "dotnet_interactive": {
     "language": "fsharp"
    },
    "polyglot_notebook": {
     "kernelName": "fsharp"
    }
   },
   "outputs": [],
   "source": [
    "let currentLine inputState =\n",
    "    let linePos = inputState.position.line\n",
    "    if linePos < inputState.lines.Length then\n",
    "        inputState.lines.[linePos]\n",
    "    else\n",
    "        \"end of file\""
   ]
  },
  {
   "cell_type": "code",
   "execution_count": null,
   "metadata": {
    "dotnet_repl_cellExecutionStartTime": "2023-07-03T22:42:34.9859247-03:00",
    "dotnet_repl_cellExecutionEndTime": "2023-07-03T22:42:35.0735908-03:00",
    "dotnet_interactive": {
     "language": "fsharp"
    },
    "polyglot_notebook": {
     "kernelName": "fsharp"
    }
   },
   "outputs": [],
   "source": [
    "let fromStr str =\n",
    "    if String.IsNullOrEmpty str then\n",
    "        { lines = [||]; position = initialPos }\n",
    "    else\n",
    "        let separators = [| \"\\r\\n\"; \"\\n\" |]\n",
    "        let lines = str.Split (separators, StringSplitOptions.None)\n",
    "        { lines = lines; position = initialPos }"
   ]
  },
  {
   "cell_type": "code",
   "execution_count": null,
   "metadata": {
    "dotnet_repl_cellExecutionStartTime": "2023-07-03T22:42:35.0736132-03:00",
    "dotnet_repl_cellExecutionEndTime": "2023-07-03T22:42:35.1267802-03:00",
    "dotnet_interactive": {
     "language": "fsharp"
    },
    "polyglot_notebook": {
     "kernelName": "fsharp"
    }
   },
   "outputs": [],
   "source": [
    "let nextChar input =\n",
    "    let linePos = input.position.line\n",
    "    let colPos = input.position.column\n",
    "\n",
    "    if linePos >= input.lines.Length then\n",
    "        input, None\n",
    "    else\n",
    "        let currentLine = currentLine input\n",
    "        if colPos < currentLine.Length then\n",
    "            let char = currentLine.[colPos]\n",
    "            let newPos = incrCol input.position\n",
    "            let newState = { input with position = newPos }\n",
    "            newState, Some char\n",
    "        else\n",
    "            let char = '\\n'\n",
    "            let newPos = incrLine input.position\n",
    "            let newState = { input with position = newPos }\n",
    "            newState, Some char"
   ]
  },
  {
   "cell_type": "markdown",
   "metadata": {
    "dotnet_repl_cellExecutionStartTime": "2023-07-03T22:42:35.1268045-03:00",
    "dotnet_repl_cellExecutionEndTime": "2023-07-03T22:42:35.1271886-03:00"
   },
   "source": [
    "### Parser"
   ]
  },
  {
   "cell_type": "code",
   "execution_count": null,
   "metadata": {
    "dotnet_repl_cellExecutionStartTime": "2023-07-03T22:42:35.1272062-03:00",
    "dotnet_repl_cellExecutionEndTime": "2023-07-03T22:42:35.3887082-03:00",
    "dotnet_interactive": {
     "language": "fsharp"
    },
    "polyglot_notebook": {
     "kernelName": "fsharp"
    }
   },
   "outputs": [],
   "source": [
    "type Input = InputState\n",
    "type ParserLabel = string\n",
    "type ParserError = string\n",
    "\n",
    "type ParserPosition =\n",
    "    {\n",
    "        currentLine : string\n",
    "        line : int\n",
    "        column : int\n",
    "    }\n",
    "\n",
    "type ParseResult<'a> =\n",
    "    | Success of 'a\n",
    "    | Failure of ParserLabel * ParserError * ParserPosition\n",
    "\n",
    "type Parser<'a> =\n",
    "    {\n",
    "        parseFn : Input -> ParseResult<'a * Input>\n",
    "        label : ParserLabel\n",
    "    }"
   ]
  },
  {
   "cell_type": "code",
   "execution_count": null,
   "metadata": {
    "dotnet_repl_cellExecutionStartTime": "2023-07-03T22:42:35.3887307-03:00",
    "dotnet_repl_cellExecutionEndTime": "2023-07-03T22:42:35.5396406-03:00",
    "dotnet_interactive": {
     "language": "fsharp"
    },
    "polyglot_notebook": {
     "kernelName": "fsharp"
    }
   },
   "outputs": [],
   "source": [
    "let printResult result =\n",
    "    match result with\n",
    "    | Success (value, input) ->\n",
    "        printfn $\"%A{value}\"\n",
    "    | Failure (label, error, parserPos) ->\n",
    "        let errorLine = parserPos.currentLine\n",
    "        let colPos = parserPos.column\n",
    "        let linePos = parserPos.line\n",
    "        let failureCaret = $\"{' '.ToString().PadLeft colPos}^{error}\"\n",
    "        printfn $\"Line:%i{linePos} Col:%i{colPos} Error parsing %s{label}\\n%s{errorLine}\\n%s{failureCaret}\""
   ]
  },
  {
   "cell_type": "code",
   "execution_count": null,
   "metadata": {
    "dotnet_repl_cellExecutionStartTime": "2023-07-03T22:42:35.5396645-03:00",
    "dotnet_repl_cellExecutionEndTime": "2023-07-03T22:42:35.5961076-03:00",
    "dotnet_interactive": {
     "language": "fsharp"
    },
    "polyglot_notebook": {
     "kernelName": "fsharp"
    }
   },
   "outputs": [],
   "source": [
    "//// ignore\n",
    "\n",
    "let _equal expected actual =\n",
    "    \"\" |> Expecto.Expect.equal actual expected\n",
    "\n",
    "let expect (expected : ParseResult<'a>) (actual : ParseResult<'a * Input>) =\n",
    "    match actual, expected with\n",
    "    | Success (_actual, _), Success _expected ->\n",
    "        printResult actual\n",
    "        _actual |> _equal _expected\n",
    "    | Failure (l1, e1, p1), Failure (l2, e2, p2) when l1 = l2 && e1 = e2 && p1 = p2 -> \n",
    "        printResult actual\n",
    "    | _ ->\n",
    "        printfn $\"Actual: {actual}\"\n",
    "        printfn $\"Expected: {expected}\"\n",
    "        failwith \"Parse failed\"\n",
    "    actual"
   ]
  },
  {
   "cell_type": "code",
   "execution_count": null,
   "metadata": {
    "dotnet_repl_cellExecutionStartTime": "2023-07-03T22:42:35.5961308-03:00",
    "dotnet_repl_cellExecutionEndTime": "2023-07-03T22:42:35.6042841-03:00",
    "dotnet_interactive": {
     "language": "fsharp"
    },
    "polyglot_notebook": {
     "kernelName": "fsharp"
    }
   },
   "outputs": [],
   "source": [
    "let runOnInput parser input =\n",
    "    parser.parseFn input"
   ]
  },
  {
   "cell_type": "code",
   "execution_count": null,
   "metadata": {
    "dotnet_repl_cellExecutionStartTime": "2023-07-03T22:42:35.604307-03:00",
    "dotnet_repl_cellExecutionEndTime": "2023-07-03T22:42:35.6100578-03:00",
    "dotnet_interactive": {
     "language": "fsharp"
    },
    "polyglot_notebook": {
     "kernelName": "fsharp"
    }
   },
   "outputs": [],
   "source": [
    "let run parser inputStr =\n",
    "    runOnInput parser (fromStr inputStr)"
   ]
  },
  {
   "cell_type": "code",
   "execution_count": null,
   "metadata": {
    "dotnet_repl_cellExecutionStartTime": "2023-07-03T22:42:35.6100778-03:00",
    "dotnet_repl_cellExecutionEndTime": "2023-07-03T22:42:35.6154887-03:00",
    "dotnet_interactive": {
     "language": "fsharp"
    },
    "polyglot_notebook": {
     "kernelName": "fsharp"
    }
   },
   "outputs": [],
   "source": [
    "let parserPositionFromInputState (inputState : Input) =\n",
    "    {\n",
    "        currentLine = currentLine inputState\n",
    "        line = inputState.position.line\n",
    "        column = inputState.position.column\n",
    "    }"
   ]
  },
  {
   "cell_type": "code",
   "execution_count": null,
   "metadata": {
    "dotnet_repl_cellExecutionStartTime": "2023-07-03T22:42:35.6155098-03:00",
    "dotnet_repl_cellExecutionEndTime": "2023-07-03T22:42:35.6230239-03:00",
    "dotnet_interactive": {
     "language": "fsharp"
    },
    "polyglot_notebook": {
     "kernelName": "fsharp"
    }
   },
   "outputs": [],
   "source": [
    "let getLabel parser =\n",
    "    parser.label"
   ]
  },
  {
   "cell_type": "code",
   "execution_count": null,
   "metadata": {
    "dotnet_repl_cellExecutionStartTime": "2023-07-03T22:42:35.6230464-03:00",
    "dotnet_repl_cellExecutionEndTime": "2023-07-03T22:42:35.6599973-03:00",
    "dotnet_interactive": {
     "language": "fsharp"
    },
    "polyglot_notebook": {
     "kernelName": "fsharp"
    }
   },
   "outputs": [],
   "source": [
    "let setLabel parser newLabel =\n",
    "    let newInnerFn input =\n",
    "        match parser.parseFn input with\n",
    "        | Success s -> Success s\n",
    "        | Failure (oldLabel, err, pos) -> Failure (newLabel, err, pos)\n",
    "\n",
    "    { parseFn = newInnerFn; label = newLabel }"
   ]
  },
  {
   "cell_type": "code",
   "execution_count": null,
   "metadata": {
    "dotnet_repl_cellExecutionStartTime": "2023-07-03T22:42:35.6600196-03:00",
    "dotnet_repl_cellExecutionEndTime": "2023-07-03T22:42:35.6717504-03:00",
    "dotnet_interactive": {
     "language": "fsharp"
    },
    "polyglot_notebook": {
     "kernelName": "fsharp"
    }
   },
   "outputs": [],
   "source": [
    "let (<?>) = setLabel"
   ]
  },
  {
   "cell_type": "code",
   "execution_count": null,
   "metadata": {
    "dotnet_repl_cellExecutionStartTime": "2023-07-03T22:42:35.6717727-03:00",
    "dotnet_repl_cellExecutionEndTime": "2023-07-03T22:42:35.6912918-03:00",
    "dotnet_interactive": {
     "language": "fsharp"
    },
    "polyglot_notebook": {
     "kernelName": "fsharp"
    }
   },
   "outputs": [],
   "source": [
    "let satisfy predicate label =\n",
    "    let innerFn input =\n",
    "        let remainingInput, charOpt = nextChar input\n",
    "        match charOpt with\n",
    "        | None ->\n",
    "            let err = \"No more input\"\n",
    "            let pos = parserPositionFromInputState input\n",
    "            Failure (label, err, pos)\n",
    "        | Some first ->\n",
    "            if predicate first then\n",
    "                Success (first, remainingInput)\n",
    "            else\n",
    "                let err = $\"Unexpected '%c{first}'\"\n",
    "                let pos = parserPositionFromInputState input\n",
    "                Failure (label, err, pos)\n",
    "\n",
    "    { parseFn = innerFn; label = label }"
   ]
  },
  {
   "cell_type": "code",
   "execution_count": null,
   "metadata": {
    "dotnet_repl_cellExecutionStartTime": "2023-07-03T22:42:35.6913145-03:00",
    "dotnet_repl_cellExecutionEndTime": "2023-07-03T22:42:35.7042537-03:00",
    "dotnet_interactive": {
     "language": "fsharp"
    },
    "polyglot_notebook": {
     "kernelName": "fsharp"
    }
   },
   "outputs": [],
   "source": [
    "let bindP f p =\n",
    "    let label = \"unknown\"\n",
    "    let innerFn input =\n",
    "        let result1 = runOnInput p input\n",
    "        match result1 with\n",
    "        | Failure (label, err, pos) ->\n",
    "            Failure (label, err, pos)\n",
    "        | Success (value1, remainingInput) ->\n",
    "            let p2 = f value1\n",
    "            runOnInput p2 remainingInput\n",
    "\n",
    "    { parseFn = innerFn; label = label }"
   ]
  },
  {
   "cell_type": "code",
   "execution_count": null,
   "metadata": {
    "dotnet_repl_cellExecutionStartTime": "2023-07-03T22:42:35.7042788-03:00",
    "dotnet_repl_cellExecutionEndTime": "2023-07-03T22:42:35.7125446-03:00",
    "dotnet_interactive": {
     "language": "fsharp"
    },
    "polyglot_notebook": {
     "kernelName": "fsharp"
    }
   },
   "outputs": [],
   "source": [
    "let (>>=) p f = bindP f p"
   ]
  },
  {
   "cell_type": "code",
   "execution_count": null,
   "metadata": {
    "dotnet_repl_cellExecutionStartTime": "2023-07-03T22:42:35.712583-03:00",
    "dotnet_repl_cellExecutionEndTime": "2023-07-03T22:42:35.7529166-03:00",
    "dotnet_interactive": {
     "language": "fsharp"
    },
    "polyglot_notebook": {
     "kernelName": "fsharp"
    }
   },
   "outputs": [],
   "source": [
    "let returnP x =\n",
    "    let label = $\"%A{x}\"\n",
    "    let innerFn input =\n",
    "        Success (x, input)\n",
    "    \n",
    "    { parseFn = innerFn; label = label }"
   ]
  },
  {
   "cell_type": "code",
   "execution_count": null,
   "metadata": {
    "dotnet_repl_cellExecutionStartTime": "2023-07-03T22:42:35.7529413-03:00",
    "dotnet_repl_cellExecutionEndTime": "2023-07-03T22:42:35.7671884-03:00",
    "dotnet_interactive": {
     "language": "fsharp"
    },
    "polyglot_notebook": {
     "kernelName": "fsharp"
    }
   },
   "outputs": [],
   "source": [
    "let mapP f =\n",
    "    bindP (f >> returnP)"
   ]
  },
  {
   "cell_type": "code",
   "execution_count": null,
   "metadata": {
    "dotnet_repl_cellExecutionStartTime": "2023-07-03T22:42:35.7672147-03:00",
    "dotnet_repl_cellExecutionEndTime": "2023-07-03T22:42:35.7771648-03:00",
    "dotnet_interactive": {
     "language": "fsharp"
    },
    "polyglot_notebook": {
     "kernelName": "fsharp"
    }
   },
   "outputs": [],
   "source": [
    "let (<!>) = mapP"
   ]
  },
  {
   "cell_type": "code",
   "execution_count": null,
   "metadata": {
    "dotnet_repl_cellExecutionStartTime": "2023-07-03T22:42:35.7771874-03:00",
    "dotnet_repl_cellExecutionEndTime": "2023-07-03T22:42:35.7843255-03:00",
    "dotnet_interactive": {
     "language": "fsharp"
    },
    "polyglot_notebook": {
     "kernelName": "fsharp"
    }
   },
   "outputs": [],
   "source": [
    "let (|>>) x f = mapP f x"
   ]
  },
  {
   "cell_type": "code",
   "execution_count": null,
   "metadata": {
    "dotnet_repl_cellExecutionStartTime": "2023-07-03T22:42:35.7843481-03:00",
    "dotnet_repl_cellExecutionEndTime": "2023-07-03T22:42:35.7997282-03:00",
    "dotnet_interactive": {
     "language": "fsharp"
    },
    "polyglot_notebook": {
     "kernelName": "fsharp"
    }
   },
   "outputs": [],
   "source": [
    "let applyP fP xP =\n",
    "    fP >>= \n",
    "        fun f ->\n",
    "            xP >>= \n",
    "                fun x ->\n",
    "                    returnP (f x)"
   ]
  },
  {
   "cell_type": "code",
   "execution_count": null,
   "metadata": {
    "dotnet_repl_cellExecutionStartTime": "2023-07-03T22:42:35.7997565-03:00",
    "dotnet_repl_cellExecutionEndTime": "2023-07-03T22:42:35.8078939-03:00",
    "dotnet_interactive": {
     "language": "fsharp"
    },
    "polyglot_notebook": {
     "kernelName": "fsharp"
    }
   },
   "outputs": [],
   "source": [
    "let (<*>) = applyP"
   ]
  },
  {
   "cell_type": "code",
   "execution_count": null,
   "metadata": {
    "dotnet_repl_cellExecutionStartTime": "2023-07-03T22:42:35.8079249-03:00",
    "dotnet_repl_cellExecutionEndTime": "2023-07-03T22:42:35.8211595-03:00",
    "dotnet_interactive": {
     "language": "fsharp"
    },
    "polyglot_notebook": {
     "kernelName": "fsharp"
    }
   },
   "outputs": [],
   "source": [
    "let lift2 f xP yP =\n",
    "    returnP f <*> xP <*> yP"
   ]
  },
  {
   "cell_type": "code",
   "execution_count": null,
   "metadata": {
    "dotnet_repl_cellExecutionStartTime": "2023-07-03T22:42:35.8211824-03:00",
    "dotnet_repl_cellExecutionEndTime": "2023-07-03T22:42:35.8351446-03:00",
    "dotnet_interactive": {
     "language": "fsharp"
    },
    "polyglot_notebook": {
     "kernelName": "fsharp"
    }
   },
   "outputs": [],
   "source": [
    "let andThen p1 p2 =\n",
    "    p1 >>= \n",
    "        fun p1Result ->\n",
    "            p2 >>= \n",
    "                fun p2Result ->\n",
    "                    returnP (p1Result, p2Result)\n",
    "    <?> $\"{getLabel p1} andThen {getLabel p2}\""
   ]
  },
  {
   "cell_type": "code",
   "execution_count": null,
   "metadata": {
    "dotnet_repl_cellExecutionStartTime": "2023-07-03T22:42:35.8351684-03:00",
    "dotnet_repl_cellExecutionEndTime": "2023-07-03T22:42:35.842895-03:00",
    "dotnet_interactive": {
     "language": "fsharp"
    },
    "polyglot_notebook": {
     "kernelName": "fsharp"
    }
   },
   "outputs": [],
   "source": [
    "let (.>>.) = andThen"
   ]
  },
  {
   "cell_type": "code",
   "execution_count": null,
   "metadata": {
    "dotnet_repl_cellExecutionStartTime": "2023-07-03T22:42:35.842918-03:00",
    "dotnet_repl_cellExecutionEndTime": "2023-07-03T22:42:35.8567137-03:00",
    "dotnet_interactive": {
     "language": "fsharp"
    },
    "polyglot_notebook": {
     "kernelName": "fsharp"
    }
   },
   "outputs": [],
   "source": [
    "let orElse p1 p2 =\n",
    "    let label = $\"{getLabel p1} orElse {getLabel p2}\"\n",
    "    let innerFn input =\n",
    "        let result1 = runOnInput p1 input\n",
    "\n",
    "        match result1 with\n",
    "        | Success result -> result1\n",
    "        | Failure _ -> runOnInput p2 input\n",
    "\n",
    "    { parseFn = innerFn; label = label }"
   ]
  },
  {
   "cell_type": "code",
   "execution_count": null,
   "metadata": {
    "dotnet_repl_cellExecutionStartTime": "2023-07-03T22:42:35.8567442-03:00",
    "dotnet_repl_cellExecutionEndTime": "2023-07-03T22:42:35.8642892-03:00",
    "dotnet_interactive": {
     "language": "fsharp"
    },
    "polyglot_notebook": {
     "kernelName": "fsharp"
    }
   },
   "outputs": [],
   "source": [
    "let (<|>) = orElse"
   ]
  },
  {
   "cell_type": "code",
   "execution_count": null,
   "metadata": {
    "dotnet_repl_cellExecutionStartTime": "2023-07-03T22:42:35.8643122-03:00",
    "dotnet_repl_cellExecutionEndTime": "2023-07-03T22:42:35.9491261-03:00",
    "dotnet_interactive": {
     "language": "fsharp"
    },
    "polyglot_notebook": {
     "kernelName": "fsharp"
    }
   },
   "outputs": [],
   "source": [
    "let choice listOfParsers =\n",
    "    listOfParsers |> List.reduce (<|>)\n",
    "\n",
    "let rec sequence parserList =\n",
    "    let cons head tail = head :: tail\n",
    "\n",
    "    let consP = lift2 cons\n",
    "\n",
    "    match parserList with\n",
    "    | [] -> returnP []\n",
    "    | head :: tail -> consP head (sequence tail)"
   ]
  },
  {
   "cell_type": "code",
   "execution_count": null,
   "metadata": {
    "dotnet_repl_cellExecutionStartTime": "2023-07-03T22:42:35.9491486-03:00",
    "dotnet_repl_cellExecutionEndTime": "2023-07-03T22:42:35.9617889-03:00",
    "dotnet_interactive": {
     "language": "fsharp"
    },
    "polyglot_notebook": {
     "kernelName": "fsharp"
    }
   },
   "outputs": [],
   "source": [
    "let rec parseZeroOrMore parser input =\n",
    "    let firstResult = runOnInput parser input\n",
    "    match firstResult with\n",
    "    | Failure (_, _, _) ->\n",
    "        [], input\n",
    "    | Success (firstValue, inputAfterFirstParse) ->\n",
    "        let (subsequentValues, remainingInput) =\n",
    "            parseZeroOrMore parser inputAfterFirstParse\n",
    "        let values = firstValue :: subsequentValues\n",
    "        values, remainingInput"
   ]
  },
  {
   "cell_type": "code",
   "execution_count": null,
   "metadata": {
    "dotnet_repl_cellExecutionStartTime": "2023-07-03T22:42:35.9618116-03:00",
    "dotnet_repl_cellExecutionEndTime": "2023-07-03T22:42:35.975038-03:00",
    "dotnet_interactive": {
     "language": "fsharp"
    },
    "polyglot_notebook": {
     "kernelName": "fsharp"
    }
   },
   "outputs": [],
   "source": [
    "let many parser =\n",
    "    let label = $\"many {getLabel parser}\"\n",
    "    let innerFn input =\n",
    "        Success (parseZeroOrMore parser input)\n",
    "    { parseFn = innerFn; label = label }"
   ]
  },
  {
   "cell_type": "code",
   "execution_count": null,
   "metadata": {
    "dotnet_repl_cellExecutionStartTime": "2023-07-03T22:42:35.9750635-03:00",
    "dotnet_repl_cellExecutionEndTime": "2023-07-03T22:42:36.0053312-03:00",
    "dotnet_interactive": {
     "language": "fsharp"
    },
    "polyglot_notebook": {
     "kernelName": "fsharp"
    }
   },
   "outputs": [],
   "source": [
    "let many1 p =\n",
    "    p >>=\n",
    "        fun head ->\n",
    "            many p >>=\n",
    "                fun tail ->\n",
    "                    returnP (head :: tail)\n",
    "    <?> $\"many1 {getLabel p}\""
   ]
  },
  {
   "cell_type": "code",
   "execution_count": null,
   "metadata": {
    "dotnet_repl_cellExecutionStartTime": "2023-07-03T22:42:36.0053537-03:00",
    "dotnet_repl_cellExecutionEndTime": "2023-07-03T22:42:36.0274649-03:00",
    "dotnet_interactive": {
     "language": "fsharp"
    },
    "polyglot_notebook": {
     "kernelName": "fsharp"
    }
   },
   "outputs": [],
   "source": [
    "let opt p =\n",
    "    let some = p |>> Some\n",
    "    let none = returnP None\n",
    "    (some <|> none)\n",
    "    <?> $\"opt {getLabel p}\""
   ]
  },
  {
   "cell_type": "code",
   "execution_count": null,
   "metadata": {
    "dotnet_repl_cellExecutionStartTime": "2023-07-03T22:42:36.02749-03:00",
    "dotnet_repl_cellExecutionEndTime": "2023-07-03T22:42:36.0384233-03:00",
    "dotnet_interactive": {
     "language": "fsharp"
    },
    "polyglot_notebook": {
     "kernelName": "fsharp"
    }
   },
   "outputs": [],
   "source": [
    "let (.>>) p1 p2 =\n",
    "    p1 .>>. p2\n",
    "    |> mapP fst"
   ]
  },
  {
   "cell_type": "code",
   "execution_count": null,
   "metadata": {
    "dotnet_repl_cellExecutionStartTime": "2023-07-03T22:42:36.0384492-03:00",
    "dotnet_repl_cellExecutionEndTime": "2023-07-03T22:42:36.0491244-03:00",
    "dotnet_interactive": {
     "language": "fsharp"
    },
    "polyglot_notebook": {
     "kernelName": "fsharp"
    }
   },
   "outputs": [],
   "source": [
    "let (>>.) p1 p2 =\n",
    "    p1 .>>. p2\n",
    "    |> mapP snd"
   ]
  },
  {
   "cell_type": "code",
   "execution_count": null,
   "metadata": {
    "dotnet_repl_cellExecutionStartTime": "2023-07-03T22:42:36.0491476-03:00",
    "dotnet_repl_cellExecutionEndTime": "2023-07-03T22:42:36.0551732-03:00",
    "dotnet_interactive": {
     "language": "fsharp"
    },
    "polyglot_notebook": {
     "kernelName": "fsharp"
    }
   },
   "outputs": [],
   "source": [
    "let between p1 p2 p3 =\n",
    "    p1 >>. p2 .>> p3"
   ]
  },
  {
   "cell_type": "code",
   "execution_count": null,
   "metadata": {
    "dotnet_repl_cellExecutionStartTime": "2023-07-03T22:42:36.0551952-03:00",
    "dotnet_repl_cellExecutionEndTime": "2023-07-03T22:42:36.0770151-03:00",
    "dotnet_interactive": {
     "language": "fsharp"
    },
    "polyglot_notebook": {
     "kernelName": "fsharp"
    }
   },
   "outputs": [],
   "source": [
    "let sepBy1 p sep =\n",
    "    let sepThenP = sep >>. p\n",
    "    p .>>. many sepThenP\n",
    "    |>> fun (p, pList) -> p :: pList"
   ]
  },
  {
   "cell_type": "code",
   "execution_count": null,
   "metadata": {
    "dotnet_repl_cellExecutionStartTime": "2023-07-03T22:42:36.077038-03:00",
    "dotnet_repl_cellExecutionEndTime": "2023-07-03T22:42:36.0919527-03:00",
    "dotnet_interactive": {
     "language": "fsharp"
    },
    "polyglot_notebook": {
     "kernelName": "fsharp"
    }
   },
   "outputs": [],
   "source": [
    "let sepBy p sep =\n",
    "    sepBy1 p sep <|> returnP []"
   ]
  },
  {
   "cell_type": "code",
   "execution_count": null,
   "metadata": {
    "dotnet_repl_cellExecutionStartTime": "2023-07-03T22:42:36.0919756-03:00",
    "dotnet_repl_cellExecutionEndTime": "2023-07-03T22:42:36.1019916-03:00",
    "dotnet_interactive": {
     "language": "fsharp"
    },
    "polyglot_notebook": {
     "kernelName": "fsharp"
    }
   },
   "outputs": [],
   "source": [
    "let pchar charToMatch =\n",
    "    let predicate ch = ch = charToMatch\n",
    "    satisfy predicate $\"%c{charToMatch}\""
   ]
  },
  {
   "cell_type": "code",
   "execution_count": null,
   "metadata": {
    "dotnet_repl_cellExecutionStartTime": "2023-07-03T22:42:36.1020143-03:00",
    "dotnet_repl_cellExecutionEndTime": "2023-07-03T22:42:36.1186143-03:00",
    "dotnet_interactive": {
     "language": "fsharp"
    },
    "polyglot_notebook": {
     "kernelName": "fsharp"
    }
   },
   "outputs": [],
   "source": [
    "let anyOf listOfChars =\n",
    "    listOfChars\n",
    "    |> List.map pchar\n",
    "    |> choice\n",
    "    <?> $\"anyOf %A{listOfChars}\""
   ]
  },
  {
   "cell_type": "code",
   "execution_count": null,
   "metadata": {
    "dotnet_repl_cellExecutionStartTime": "2023-07-03T22:42:36.1186379-03:00",
    "dotnet_repl_cellExecutionEndTime": "2023-07-03T22:42:36.1470394-03:00",
    "dotnet_interactive": {
     "language": "fsharp"
    },
    "polyglot_notebook": {
     "kernelName": "fsharp"
    }
   },
   "outputs": [],
   "source": [
    "let charListToStr charList =\n",
    "    charList |> List.toArray |> String"
   ]
  },
  {
   "cell_type": "code",
   "execution_count": null,
   "metadata": {
    "dotnet_repl_cellExecutionStartTime": "2023-07-03T22:42:36.1470629-03:00",
    "dotnet_repl_cellExecutionEndTime": "2023-07-03T22:42:36.159785-03:00",
    "dotnet_interactive": {
     "language": "fsharp"
    },
    "polyglot_notebook": {
     "kernelName": "fsharp"
    }
   },
   "outputs": [],
   "source": [
    "let manyChars cp =\n",
    "    many cp\n",
    "    |>> charListToStr"
   ]
  },
  {
   "cell_type": "code",
   "execution_count": null,
   "metadata": {
    "dotnet_repl_cellExecutionStartTime": "2023-07-03T22:42:36.1598085-03:00",
    "dotnet_repl_cellExecutionEndTime": "2023-07-03T22:42:36.1696656-03:00",
    "dotnet_interactive": {
     "language": "fsharp"
    },
    "polyglot_notebook": {
     "kernelName": "fsharp"
    }
   },
   "outputs": [],
   "source": [
    "let manyChars1 cp =\n",
    "    many1 cp\n",
    "    |>> charListToStr"
   ]
  },
  {
   "cell_type": "code",
   "execution_count": null,
   "metadata": {
    "dotnet_repl_cellExecutionStartTime": "2023-07-03T22:42:36.1696884-03:00",
    "dotnet_repl_cellExecutionEndTime": "2023-07-03T22:42:36.2013591-03:00",
    "dotnet_interactive": {
     "language": "fsharp"
    },
    "polyglot_notebook": {
     "kernelName": "fsharp"
    }
   },
   "outputs": [],
   "source": [
    "let pstring str =\n",
    "    str\n",
    "    |> List.ofSeq\n",
    "    |> List.map pchar\n",
    "    |> sequence\n",
    "    |> mapP charListToStr\n",
    "    <?> str"
   ]
  },
  {
   "cell_type": "code",
   "execution_count": null,
   "metadata": {
    "dotnet_repl_cellExecutionStartTime": "2023-07-03T22:42:36.2013804-03:00",
    "dotnet_repl_cellExecutionEndTime": "2023-07-03T22:42:36.2105022-03:00",
    "dotnet_interactive": {
     "language": "fsharp"
    },
    "polyglot_notebook": {
     "kernelName": "fsharp"
    }
   },
   "outputs": [],
   "source": [
    "let whitespaceChar =\n",
    "    satisfy Char.IsWhiteSpace \"whitespace\""
   ]
  },
  {
   "cell_type": "code",
   "execution_count": null,
   "metadata": {
    "dotnet_repl_cellExecutionStartTime": "2023-07-03T22:42:36.2105253-03:00",
    "dotnet_repl_cellExecutionEndTime": "2023-07-03T22:42:36.219121-03:00",
    "dotnet_interactive": {
     "language": "fsharp"
    },
    "polyglot_notebook": {
     "kernelName": "fsharp"
    }
   },
   "outputs": [],
   "source": [
    "let spaces = many whitespaceChar"
   ]
  },
  {
   "cell_type": "code",
   "execution_count": null,
   "metadata": {
    "dotnet_repl_cellExecutionStartTime": "2023-07-03T22:42:36.2191427-03:00",
    "dotnet_repl_cellExecutionEndTime": "2023-07-03T22:42:36.2285094-03:00",
    "dotnet_interactive": {
     "language": "fsharp"
    },
    "polyglot_notebook": {
     "kernelName": "fsharp"
    }
   },
   "outputs": [],
   "source": [
    "let spaces1 = many1 whitespaceChar"
   ]
  },
  {
   "cell_type": "code",
   "execution_count": null,
   "metadata": {
    "dotnet_repl_cellExecutionStartTime": "2023-07-03T22:42:36.2285413-03:00",
    "dotnet_repl_cellExecutionEndTime": "2023-07-03T22:42:36.2371193-03:00",
    "dotnet_interactive": {
     "language": "fsharp"
    },
    "polyglot_notebook": {
     "kernelName": "fsharp"
    }
   },
   "outputs": [],
   "source": [
    "let digitChar =\n",
    "    satisfy Char.IsDigit \"digit\""
   ]
  },
  {
   "cell_type": "code",
   "execution_count": null,
   "metadata": {
    "dotnet_repl_cellExecutionStartTime": "2023-07-03T22:42:36.2371425-03:00",
    "dotnet_repl_cellExecutionEndTime": "2023-07-03T22:42:36.2972988-03:00",
    "dotnet_interactive": {
     "language": "fsharp"
    },
    "polyglot_notebook": {
     "kernelName": "fsharp"
    }
   },
   "outputs": [],
   "source": [
    "let pint =\n",
    "    let resultToInt (sign, digits) =\n",
    "        let i = int digits\n",
    "        match sign with\n",
    "        | Some ch -> -i\n",
    "        | None -> i\n",
    "\n",
    "    let digits = manyChars1 digitChar\n",
    "\n",
    "    opt (pchar '-') .>>. digits\n",
    "    |> mapP resultToInt\n",
    "    <?> \"integer\""
   ]
  },
  {
   "cell_type": "code",
   "execution_count": null,
   "metadata": {
    "dotnet_repl_cellExecutionStartTime": "2023-07-03T22:42:36.2973222-03:00",
    "dotnet_repl_cellExecutionEndTime": "2023-07-03T22:42:36.3471808-03:00",
    "dotnet_interactive": {
     "language": "fsharp"
    },
    "polyglot_notebook": {
     "kernelName": "fsharp"
    }
   },
   "outputs": [],
   "source": [
    "let pfloat =\n",
    "    let resultToFloat (((sign, digits1), point), digits2) =\n",
    "        let fl = float $\"{digits1}.{digits2}\"\n",
    "        match sign with\n",
    "        | Some ch -> -fl\n",
    "        | None -> fl\n",
    "\n",
    "    let digits = manyChars1 digitChar\n",
    "\n",
    "    opt (pchar '-') .>>. digits .>>. pchar '.' .>>. digits\n",
    "    |> mapP resultToFloat\n",
    "    <?> \"float\""
   ]
  },
  {
   "cell_type": "code",
   "execution_count": null,
   "metadata": {
    "dotnet_repl_cellExecutionStartTime": "2023-07-03T22:42:36.3472054-03:00",
    "dotnet_repl_cellExecutionEndTime": "2023-07-03T22:42:36.4327143-03:00",
    "dotnet_interactive": {
     "language": "fsharp"
    },
    "polyglot_notebook": {
     "kernelName": "fsharp"
    }
   },
   "outputs": [],
   "source": [
    "let createParserForwardedToRef<'a> () =\n",
    "    let dummyParser : Parser<'a> =\n",
    "        let innerFn _ = failwith \"unfixed forwarded parser\"\n",
    "        { parseFn = innerFn; label = \"unknown\" }\n",
    "\n",
    "    let mutable parserRef = dummyParser\n",
    "\n",
    "    let innerFn input =\n",
    "        runOnInput parserRef input\n",
    "\n",
    "    let wrapperParser = { parseFn = innerFn; label = \"unknown\" }\n",
    "    \n",
    "    wrapperParser, (fun v -> parserRef <- v)"
   ]
  },
  {
   "cell_type": "code",
   "execution_count": null,
   "metadata": {
    "dotnet_repl_cellExecutionStartTime": "2023-07-03T22:42:36.4327364-03:00",
    "dotnet_repl_cellExecutionEndTime": "2023-07-03T22:42:36.4429388-03:00",
    "dotnet_interactive": {
     "language": "fsharp"
    },
    "polyglot_notebook": {
     "kernelName": "fsharp"
    }
   },
   "outputs": [],
   "source": [
    "let (>>%) p x =\n",
    "    p\n",
    "    |>> fun _ -> x"
   ]
  }
 ],
 "metadata": {
  "kernelspec": {
   "display_name": ".NET (C#)",
   "language": "C#",
   "name": ".net-csharp"
  },
  "language_info": {
   "file_extension": ".cs",
   "mimetype": "text/x-csharp",
   "name": "C#",
   "pygments_lexer": "csharp",
   "version": "10.0"
  },
  "polyglot_notebook": {
   "defaultKernelName": "csharp",
   "items": [
    {
     "name": "csharp"
    }
   ]
  },
  "dotnet_interactive": {
   "defaultKernelName": "csharp",
   "items": [
    {
     "name": "csharp"
    }
   ]
  }
 },
 "nbformat": 4,
 "nbformat_minor": 5
}