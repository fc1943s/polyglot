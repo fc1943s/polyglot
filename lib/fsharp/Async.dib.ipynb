{
 "cells": [
  {
   "cell_type": "markdown",
   "metadata": {},
   "source": [
    "# Async (Polyglot)"
   ]
  },
  {
   "cell_type": "code",
   "execution_count": null,
   "metadata": {
    "dotnet_interactive": {
     "language": "fsharp"
    },
    "polyglot_notebook": {
     "kernelName": "fsharp"
    }
   },
   "outputs": [],
   "source": [
    "#!import ../../lib/fsharp/Notebooks.dib\n",
    "#!import ../../lib/fsharp/Testing.dib"
   ]
  },
  {
   "cell_type": "code",
   "execution_count": null,
   "metadata": {
    "dotnet_interactive": {
     "language": "fsharp"
    },
    "polyglot_notebook": {
     "kernelName": "fsharp"
    }
   },
   "outputs": [],
   "source": [
    "#!import ../../lib/fsharp/Common.fs"
   ]
  },
  {
   "cell_type": "code",
   "execution_count": null,
   "metadata": {
    "dotnet_interactive": {
     "language": "fsharp"
    },
    "polyglot_notebook": {
     "kernelName": "fsharp"
    }
   },
   "outputs": [],
   "source": [
    "#if !INTERACTIVE\n",
    "open Lib\n",
    "#endif"
   ]
  },
  {
   "cell_type": "code",
   "execution_count": null,
   "metadata": {
    "dotnet_interactive": {
     "language": "fsharp"
    },
    "polyglot_notebook": {
     "kernelName": "fsharp"
    }
   },
   "outputs": [],
   "source": [
    "open Common"
   ]
  },
  {
   "cell_type": "markdown",
   "metadata": {},
   "source": [
    "## choice"
   ]
  },
  {
   "cell_type": "code",
   "execution_count": null,
   "metadata": {
    "dotnet_interactive": {
     "language": "fsharp"
    },
    "polyglot_notebook": {
     "kernelName": "fsharp"
    }
   },
   "outputs": [],
   "source": [
    "let inline choice asyncs = async {\n",
    "    let e = Event<_> ()\n",
    "    use cts = new System.Threading.CancellationTokenSource ()\n",
    "    let fn =\n",
    "        asyncs\n",
    "        |> Seq.map (fun a -> async {\n",
    "            let! x = a\n",
    "            e.Trigger x\n",
    "        })\n",
    "        |> Async.Parallel\n",
    "        |> Async.Ignore\n",
    "    Async.Start (fn, cts.Token)\n",
    "    let! result = Async.AwaitEvent e.Publish\n",
    "    cts.Cancel ()\n",
    "    return result\n",
    "}"
   ]
  },
  {
   "cell_type": "markdown",
   "metadata": {},
   "source": [
    "## map"
   ]
  },
  {
   "cell_type": "code",
   "execution_count": null,
   "metadata": {
    "dotnet_interactive": {
     "language": "fsharp"
    },
    "polyglot_notebook": {
     "kernelName": "fsharp"
    }
   },
   "outputs": [],
   "source": [
    "let inline map fn a = async {\n",
    "    let! x = a\n",
    "    return fn x\n",
    "}"
   ]
  },
  {
   "cell_type": "markdown",
   "metadata": {},
   "source": [
    "## catch"
   ]
  },
  {
   "cell_type": "code",
   "execution_count": null,
   "metadata": {
    "dotnet_interactive": {
     "language": "fsharp"
    },
    "polyglot_notebook": {
     "kernelName": "fsharp"
    }
   },
   "outputs": [],
   "source": [
    "let inline catch a =\n",
    "    a\n",
    "    |> Async.Catch\n",
    "    |> map (function\n",
    "        | Choice1Of2 result -> Ok result\n",
    "        | Choice2Of2 ex -> Error ex\n",
    "    )"
   ]
  },
  {
   "cell_type": "markdown",
   "metadata": {},
   "source": [
    "## runWithTimeoutChoiceAsync"
   ]
  },
  {
   "cell_type": "code",
   "execution_count": null,
   "metadata": {
    "dotnet_interactive": {
     "language": "fsharp"
    },
    "polyglot_notebook": {
     "kernelName": "fsharp"
    }
   },
   "outputs": [],
   "source": [
    "let inline runWithTimeoutChoiceAsync (timeout : int) fn =\n",
    "    let _locals () = $\"timeout: {timeout} / {_locals ()}\"\n",
    "\n",
    "    let timeoutTask = async {\n",
    "        do! Async.Sleep timeout\n",
    "        trace Debug (fun () -> \"runWithTimeoutChoiceAsync\") _locals\n",
    "        return None\n",
    "    }\n",
    "\n",
    "    let task = async {\n",
    "        try\n",
    "            let! result = fn\n",
    "            return Some result\n",
    "        with\n",
    "        | :? System.AggregateException as ex when\n",
    "            ex.InnerExceptions\n",
    "            |> Seq.exists (function :? System.Threading.Tasks.TaskCanceledException -> true | _ -> false)\n",
    "            ->\n",
    "            trace Warning\n",
    "                (fun () -> \"runWithTimeoutChoiceAsync\")\n",
    "                (fun () -> $\"ex: {ex |> SpiralSm.format_exception} / {_locals ()}\")\n",
    "            return None\n",
    "        | ex ->\n",
    "            trace Critical\n",
    "                (fun () -> \"runWithTimeoutChoiceAsync\")\n",
    "                (fun () -> $\"ex: {ex |> SpiralSm.format_exception} / {_locals ()}\")\n",
    "            return None\n",
    "    }\n",
    "\n",
    "    [ timeoutTask; task ]\n",
    "    |> choice"
   ]
  },
  {
   "cell_type": "code",
   "execution_count": null,
   "metadata": {
    "dotnet_interactive": {
     "language": "fsharp"
    },
    "polyglot_notebook": {
     "kernelName": "fsharp"
    }
   },
   "outputs": [],
   "source": [
    "let inline runWithTimeoutChoice timeout fn =\n",
    "    fn\n",
    "    |> runWithTimeoutChoiceAsync timeout\n",
    "    |> Async.RunSynchronously"
   ]
  },
  {
   "cell_type": "code",
   "execution_count": null,
   "metadata": {
    "dotnet_interactive": {
     "language": "fsharp"
    },
    "polyglot_notebook": {
     "kernelName": "fsharp"
    }
   },
   "outputs": [
    {
     "name": "stdout",
     "output_type": "stream",
     "text": [
      "00:00:02 debug   #1 runWithTimeoutChoiceAsync / timeout: 10\r\n",
      "<null>\r\n"
     ]
    }
   ],
   "source": [
    "//// test\n",
    "\n",
    "Async.Sleep 120\n",
    "|> runWithTimeoutChoice 10\n",
    "|> _assertEqual None"
   ]
  },
  {
   "cell_type": "code",
   "execution_count": null,
   "metadata": {
    "dotnet_interactive": {
     "language": "fsharp"
    },
    "polyglot_notebook": {
     "kernelName": "fsharp"
    }
   },
   "outputs": [
    {
     "name": "stdout",
     "output_type": "stream",
     "text": [
      "FSharpOption<Unit>\r\n",
      "      Value: <null>\r\n"
     ]
    }
   ],
   "source": [
    "//// test\n",
    "\n",
    "Async.Sleep 10\n",
    "|> runWithTimeoutChoice 60\n",
    "|> _assertEqual (Some ())"
   ]
  },
  {
   "cell_type": "code",
   "execution_count": null,
   "metadata": {
    "dotnet_interactive": {
     "language": "fsharp"
    },
    "polyglot_notebook": {
     "kernelName": "fsharp"
    }
   },
   "outputs": [
    {
     "name": "stdout",
     "output_type": "stream",
     "text": [
      "00:00:03 critical #2 runWithTimeoutChoiceAsync / ex: System.Exception: error / timeout: 60\r\n",
      "<null>\r\n"
     ]
    }
   ],
   "source": [
    "//// test\n",
    "\n",
    "async {\n",
    "    raise (exn \"error\")\n",
    "}\n",
    "|> runWithTimeoutChoice 60\n",
    "|> _assertEqual None"
   ]
  },
  {
   "cell_type": "markdown",
   "metadata": {},
   "source": [
    "## runWithTimeoutAsync"
   ]
  },
  {
   "cell_type": "code",
   "execution_count": null,
   "metadata": {
    "dotnet_interactive": {
     "language": "fsharp"
    },
    "polyglot_notebook": {
     "kernelName": "fsharp"
    }
   },
   "outputs": [],
   "source": [
    "let inline runWithTimeoutAsync (timeout : int) fn = async {\n",
    "    let _locals () = $\"timeout: {timeout} / {_locals ()}\"\n",
    "    let! child = Async.StartChild (fn, timeout)\n",
    "    return!\n",
    "        child\n",
    "        |> catch\n",
    "        |> map (function\n",
    "            | Ok result -> Some result\n",
    "            | Error (:? System.TimeoutException as ex) ->\n",
    "                trace Debug (fun () -> $\"runWithTimeoutAsync\") _locals\n",
    "                None\n",
    "            | Error ex ->\n",
    "                trace Critical (fun () -> $\"runWithTimeoutAsync** / ex: {ex |> SpiralSm.format_exception}\") _locals\n",
    "                None\n",
    "        )\n",
    "}"
   ]
  },
  {
   "cell_type": "code",
   "execution_count": null,
   "metadata": {
    "dotnet_interactive": {
     "language": "fsharp"
    },
    "polyglot_notebook": {
     "kernelName": "fsharp"
    }
   },
   "outputs": [],
   "source": [
    "let inline runWithTimeout timeout fn =\n",
    "    fn\n",
    "    |> runWithTimeoutAsync timeout\n",
    "    |> Async.RunSynchronously"
   ]
  },
  {
   "cell_type": "code",
   "execution_count": null,
   "metadata": {
    "dotnet_interactive": {
     "language": "fsharp"
    },
    "polyglot_notebook": {
     "kernelName": "fsharp"
    }
   },
   "outputs": [
    {
     "name": "stdout",
     "output_type": "stream",
     "text": [
      "00:00:04 debug   #3 runWithTimeoutAsync / timeout: 10\r\n",
      "<null>\r\n"
     ]
    }
   ],
   "source": [
    "//// test\n",
    "\n",
    "Async.Sleep 60\n",
    "|> runWithTimeout 10\n",
    "|> _assertEqual None"
   ]
  },
  {
   "cell_type": "code",
   "execution_count": null,
   "metadata": {
    "dotnet_interactive": {
     "language": "fsharp"
    },
    "polyglot_notebook": {
     "kernelName": "fsharp"
    }
   },
   "outputs": [
    {
     "name": "stdout",
     "output_type": "stream",
     "text": [
      "FSharpOption<Unit>\r\n",
      "      Value: <null>\r\n"
     ]
    }
   ],
   "source": [
    "//// test\n",
    "\n",
    "Async.Sleep 10\n",
    "|> runWithTimeout 60\n",
    "|> _assertEqual (Some ())"
   ]
  },
  {
   "cell_type": "code",
   "execution_count": null,
   "metadata": {
    "dotnet_interactive": {
     "language": "fsharp"
    },
    "polyglot_notebook": {
     "kernelName": "fsharp"
    }
   },
   "outputs": [
    {
     "name": "stdout",
     "output_type": "stream",
     "text": [
      "00:00:04 critical #4 runWithTimeoutAsync** / ex: System.Exception: error / timeout: 60\r\n",
      "<null>\r\n"
     ]
    }
   ],
   "source": [
    "//// test\n",
    "\n",
    "async {\n",
    "    raise (exn \"error\")\n",
    "}\n",
    "|> runWithTimeout 60\n",
    "|> _assertEqual None"
   ]
  },
  {
   "cell_type": "markdown",
   "metadata": {},
   "source": [
    "## runWithTimeoutStrict"
   ]
  },
  {
   "cell_type": "code",
   "execution_count": null,
   "metadata": {
    "dotnet_interactive": {
     "language": "fsharp"
    },
    "polyglot_notebook": {
     "kernelName": "fsharp"
    }
   },
   "outputs": [],
   "source": [
    "let inline runWithTimeoutStrict (timeout : int) fn =\n",
    "    let _locals () = $\"timeout: {timeout} / {_locals ()}\"\n",
    "\n",
    "    let timeoutTask = async {\n",
    "        do! Async.Sleep timeout\n",
    "        return None, _locals\n",
    "    }\n",
    "\n",
    "    let task = async {\n",
    "        try\n",
    "            return Async.RunSynchronously (fn, timeout) |> Some, _locals\n",
    "        with\n",
    "        | :? System.TimeoutException as ex ->\n",
    "            let _locals () = $\"ex: {ex |> SpiralSm.format_exception} / {_locals ()}\"\n",
    "            return None, _locals\n",
    "        | ex ->\n",
    "            trace Critical\n",
    "                (fun () -> \"runWithTimeoutStrict / async error\")\n",
    "                (fun () -> $\"ex: {ex |> SpiralSm.format_exception} / {_locals ()}\")\n",
    "            return raise ex\n",
    "    }\n",
    "\n",
    "    try\n",
    "        [| timeoutTask; task |]\n",
    "        |> Array.map Async.StartAsTask\n",
    "        |> System.Threading.Tasks.Task.WhenAny\n",
    "        |> fun task ->\n",
    "            match task.Result.Result with\n",
    "            | None, _locals ->\n",
    "                trace Debug (fun () -> \"runWithTimeoutStrict\") _locals\n",
    "                None\n",
    "            | result, _ -> result\n",
    "    with\n",
    "    | :? System.AggregateException as ex when\n",
    "        ex.InnerExceptions\n",
    "        |> Seq.exists (function :? System.Threading.Tasks.TaskCanceledException -> true | _ -> false)\n",
    "        ->\n",
    "        trace Warning\n",
    "            (fun () -> \"runWithTimeoutStrict\")\n",
    "            (fun () -> $\"ex: {ex |> SpiralSm.format_exception} / {_locals ()}\")\n",
    "        None\n",
    "    | ex ->\n",
    "        trace Critical\n",
    "            (fun () -> \"runWithTimeoutStrict / task error\")\n",
    "            (fun () -> $\"ex: {ex |> SpiralSm.format_exception} / {_locals ()}\")\n",
    "        None"
   ]
  },
  {
   "cell_type": "code",
   "execution_count": null,
   "metadata": {
    "dotnet_interactive": {
     "language": "fsharp"
    },
    "polyglot_notebook": {
     "kernelName": "fsharp"
    }
   },
   "outputs": [
    {
     "name": "stdout",
     "output_type": "stream",
     "text": [
      "00:00:05 debug   #5 runWithTimeoutStrict / timeout: 10\r\n",
      "<null>\r\n"
     ]
    }
   ],
   "source": [
    "//// test\n",
    "\n",
    "Async.Sleep 60\n",
    "|> runWithTimeoutStrict 10\n",
    "|> _assertEqual None"
   ]
  },
  {
   "cell_type": "code",
   "execution_count": null,
   "metadata": {
    "dotnet_interactive": {
     "language": "fsharp"
    },
    "polyglot_notebook": {
     "kernelName": "fsharp"
    }
   },
   "outputs": [
    {
     "name": "stdout",
     "output_type": "stream",
     "text": [
      "FSharpOption<Unit>\r\n",
      "      Value: <null>\r\n"
     ]
    }
   ],
   "source": [
    "//// test\n",
    "\n",
    "Async.Sleep 10\n",
    "|> runWithTimeoutStrict 60\n",
    "|> _assertEqual (Some ())"
   ]
  },
  {
   "cell_type": "code",
   "execution_count": null,
   "metadata": {
    "dotnet_interactive": {
     "language": "fsharp"
    },
    "polyglot_notebook": {
     "kernelName": "fsharp"
    }
   },
   "outputs": [
    {
     "name": "stdout",
     "output_type": "stream",
     "text": [
      "00:00:05 critical #6 runWithTimeoutStrict / async error / ex: System.Exception: error / timeout: 60\r\n",
      "00:00:05 critical #7 runWithTimeoutStrict / task error / ex: System.AggregateException: One or more errors occurred. (error) / timeout: 60\r\n",
      "<null>\r\n"
     ]
    }
   ],
   "source": [
    "//// test\n",
    "\n",
    "async {\n",
    "    raise (exn \"error\")\n",
    "}\n",
    "|> runWithTimeoutStrict 60\n",
    "|> _assertEqual None"
   ]
  },
  {
   "cell_type": "markdown",
   "metadata": {},
   "source": [
    "## awaitValueTask"
   ]
  },
  {
   "cell_type": "code",
   "execution_count": null,
   "metadata": {
    "dotnet_interactive": {
     "language": "fsharp"
    },
    "polyglot_notebook": {
     "kernelName": "fsharp"
    }
   },
   "outputs": [],
   "source": [
    "let inline awaitValueTaskUnit (task : System.Threading.Tasks.ValueTask) =\n",
    "    task.AsTask () |> Async.AwaitTask\n",
    "\n",
    "let inline awaitValueTask (task : System.Threading.Tasks.ValueTask<_>) =\n",
    "    task.AsTask () |> Async.AwaitTask"
   ]
  },
  {
   "cell_type": "markdown",
   "metadata": {},
   "source": [
    "## init"
   ]
  },
  {
   "cell_type": "code",
   "execution_count": null,
   "metadata": {
    "dotnet_interactive": {
     "language": "fsharp"
    },
    "polyglot_notebook": {
     "kernelName": "fsharp"
    }
   },
   "outputs": [],
   "source": [
    "let inline init x = async {\n",
    "    return x\n",
    "}"
   ]
  },
  {
   "cell_type": "code",
   "execution_count": null,
   "metadata": {
    "dotnet_interactive": {
     "language": "fsharp"
    },
    "polyglot_notebook": {
     "kernelName": "fsharp"
    }
   },
   "outputs": [
    {
     "name": "stdout",
     "output_type": "stream",
     "text": [
      "1\r\n"
     ]
    }
   ],
   "source": [
    "//// test\n",
    "\n",
    "init 1\n",
    "|> Async.RunSynchronously\n",
    "|> _assertEqual 1"
   ]
  },
  {
   "cell_type": "markdown",
   "metadata": {},
   "source": [
    "## withCancellationToken"
   ]
  },
  {
   "cell_type": "code",
   "execution_count": null,
   "metadata": {
    "dotnet_interactive": {
     "language": "fsharp"
    },
    "polyglot_notebook": {
     "kernelName": "fsharp"
    }
   },
   "outputs": [],
   "source": [
    "let inline withCancellationToken (ct : System.Threading.CancellationToken) fn =\n",
    "    Async.StartImmediateAsTask (fn, ct)\n",
    "    |> Async.AwaitTask"
   ]
  },
  {
   "cell_type": "code",
   "execution_count": null,
   "metadata": {
    "dotnet_interactive": {
     "language": "fsharp"
    },
    "polyglot_notebook": {
     "kernelName": "fsharp"
    }
   },
   "outputs": [
    {
     "name": "stdout",
     "output_type": "stream",
     "text": [
      "FSharpResult<Int32,String>\r\n",
      "      ResultValue: 0\r\n",
      "      ErrorValue: A task was canceled.\r\n"
     ]
    }
   ],
   "source": [
    "//// test\n",
    "\n",
    "let cts = new System.Threading.CancellationTokenSource ()\n",
    "\n",
    "async {\n",
    "    let run = async {\n",
    "        do! Async.Sleep 100\n",
    "        return 1\n",
    "    }\n",
    "\n",
    "    let! child =\n",
    "        run\n",
    "        |> withCancellationToken cts.Token\n",
    "        |> catch\n",
    "        |> Async.StartChild\n",
    "\n",
    "    do! Async.Sleep 50\n",
    "    cts.Cancel ()\n",
    "    return! child\n",
    "}\n",
    "|> Async.RunSynchronously\n",
    "|> Result.mapError _.Message\n",
    "|> _assertEqual (Error (\"A task was canceled.\"))"
   ]
  }
 ],
 "metadata": {},
 "nbformat": 4,
 "nbformat_minor": 5
}