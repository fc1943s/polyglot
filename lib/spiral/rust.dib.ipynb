{
 "cells": [
  {
   "cell_type": "markdown",
   "metadata": {},
   "source": [
    "# rust"
   ]
  },
  {
   "cell_type": "code",
   "execution_count": null,
   "metadata": {
    "dotnet_interactive": {
     "language": "spiral"
    },
    "polyglot_notebook": {
     "kernelName": "spiral"
    }
   },
   "outputs": [
    {
     "name": "stdout",
     "output_type": "stream",
     "text": [
      "()\n",
      "\r\n"
     ]
    }
   ],
   "source": [
    "// // test\n",
    "\n",
    "open testing"
   ]
  },
  {
   "cell_type": "markdown",
   "metadata": {},
   "source": [
    "## emit_expr"
   ]
  },
  {
   "cell_type": "code",
   "execution_count": null,
   "metadata": {
    "dotnet_interactive": {
     "language": "spiral"
    },
    "polyglot_notebook": {
     "kernelName": "spiral"
    }
   },
   "outputs": [
    {
     "name": "stdout",
     "output_type": "stream",
     "text": [
      "()\n",
      "\r\n"
     ]
    }
   ],
   "source": [
    "inl emit_expr forall a t. (args : a) (code : string) : t =\n",
    "    real\n",
    "        $\"Fable.Core.RustInterop.emitRustExpr !args !code\" : t"
   ]
  },
  {
   "cell_type": "code",
   "execution_count": null,
   "metadata": {
    "dotnet_interactive": {
     "language": "spiral"
    },
    "polyglot_notebook": {
     "kernelName": "spiral"
    }
   },
   "outputs": [
    {
     "name": "stdout",
     "output_type": "stream",
     "text": [
      "()\n",
      "\r\n"
     ]
    }
   ],
   "source": [
    "nominal async t = $\"Async<`t>\"\n",
    "nominal rexie = $\"rexie_Rexie\"\n",
    "nominal rexie_store = $\"rexie_Store\"\n",
    "nominal rexie_transaction = $\"rexie_Transaction\"\n",
    "nominal rexie_error = $\"rexie_Error\"\n",
    "nominal json_value = $\"serde_json_Value\"\n",
    "nominal json_error = $\"serde_json_Error\"\n",
    "nominal js_value = $\"wasm_bindgen_JsValue\"\n",
    "nominal closure t = $\"wasm_bindgen_closure_Closure<`t>\"\n",
    "nominal hash_map k v = $\"std_collections_HashMap<`k, `v>\"\n",
    "nominal rc t = $\"std_rc_Rc<`t>\"\n",
    "nominal box t = $\"Box<`t>\"\n",
    "nominal pin t = $\"std_pin_Pin<`t>\"\n",
    "nominal arc t = $\"std_sync_Arc<`t>\"\n",
    "nominal std_string = $\"std_string_String\"\n",
    "nominal js_function = $\"js_sys_Function\"\n",
    "nominal window = $\"web_sys_Window\"\n",
    "nominal document = $\"web_sys_Document\"\n",
    "nominal html_element = $\"web_sys_HtmlElement\"\n",
    "nominal storage = $\"web_sys_Storage\"\n",
    "nominal dyn' t = $\"Dyn<`t>\"\n",
    "nominal fn' t = $\"Fn<`t>\"\n",
    "nominal fn_once t = $\"FnOnce<`t>\"\n",
    "nominal fn_unit = $\"FnUnit\"\n",
    "nominal future t = $\"Future<`t>\"\n",
    "nominal impl t = $\"Impl<`t>\"\n",
    "nominal ref' t = $\"Ref<`t>\"\n",
    "nominal str = $\"Str\"\n",
    "nominal vec t = $\"Vec<`t>\""
   ]
  },
  {
   "cell_type": "code",
   "execution_count": null,
   "metadata": {
    "dotnet_interactive": {
     "language": "spiral"
    },
    "polyglot_notebook": {
     "kernelName": "spiral"
    }
   },
   "outputs": [
    {
     "name": "stdout",
     "output_type": "stream",
     "text": [
      "()\n",
      "\r\n"
     ]
    }
   ],
   "source": [
    "inl (~!\\) forall t. (code : string) : t =\n",
    "    emit_expr () code\n",
    "\n",
    "inl (~!\\\\) forall t u. ((args : t), (code : string)) : u =\n",
    "    emit_expr args code\n",
    "\n",
    "inl raw_string_literal (s : string) : ref' str =\n",
    "    !\\($\"\\\"r#\\\\\\\"\\\" + !s + \\\"\\\\\\\"#\\\"\")\n",
    "\n",
    "inl (~#) (s : string) : ref' str =\n",
    "    raw_string_literal s\n",
    "\n",
    "inl new_box forall t. (x : t) : box t =\n",
    "    inl x = join x\n",
    "    !\\($'\"Box::new(!x)\"')\n",
    "\n",
    "inl closure_wrap forall t. (x : box t) : closure t =\n",
    "    inl x = join x\n",
    "    !\\($'\"wasm_bindgen::closure::Closure::wrap(!x)\"')\n",
    "\n",
    "inl box_fn forall t. (x : () -> ()) : box t =\n",
    "    inl x = join x\n",
    "    !\\($'\"Box::new(move || !x())\"')\n",
    "\n",
    "inl closure_forget forall t. (closure : closure t) =\n",
    "    !\\($'\"!closure.forget()\"') : ()\n",
    "\n",
    "inl new_pin forall t. (x : t) : pin (box t) =\n",
    "    inl x = join x\n",
    "    !\\($'\"Box::pin(!x)\"')\n",
    "\n",
    "inl as_ref forall t. (closure : closure t) : ref' js_value =\n",
    "    !\\($'\"wasm_bindgen::closure::Closure::as_ref(&!closure)\"')\n",
    "\n",
    "inl unchecked_ref (ref : ref' js_value) : ref' js_function =\n",
    "    !\\($'\"wasm_bindgen::JsCast::unchecked_ref(!ref)\"')\n",
    "\n",
    "inl deref forall t. (ref : ref' t) : t =\n",
    "    inl ref = join ref\n",
    "    !\\($'\"*!ref\"')"
   ]
  }
 ],
 "metadata": {},
 "nbformat": 4,
 "nbformat_minor": 5
}