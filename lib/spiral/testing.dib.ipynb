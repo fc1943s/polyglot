{
 "cells": [
  {
   "cell_type": "markdown",
   "metadata": {},
   "source": [
    "# testing"
   ]
  },
  {
   "cell_type": "code",
   "execution_count": null,
   "metadata": {
    "dotnet_interactive": {
     "language": "spiral"
    },
    "polyglot_notebook": {
     "kernelName": "spiral"
    }
   },
   "outputs": [
    {
     "name": "stdout",
     "output_type": "stream",
     "text": [
      "()\n",
      "\r\n"
     ]
    }
   ],
   "source": [
    "inl __expect fn log b a =\n",
    "    inl result = fn a b\n",
    "    inl result = join result\n",
    "    if log\n",
    "    then $\"$\\\"__expect / actual: %A{!a} / expected: %A{!b}\\\"\"\n",
    "    else \"__expect\"\n",
    "    |> assert result\n",
    "\n",
    "inl __assert_approx_eq log e b a = __expect (fun a b => abs (b - a) < (e |> optionm.defaultWith 0.00000001)) log b a\n",
    "inl _assert_approx_eq e b a = __assert_approx_eq true e b a\n",
    "\n",
    "inl __assert_eq log b a = __expect (=) log b a\n",
    "inl _assert_eq b a = __assert_eq true b a\n",
    "\n",
    "inl __assert_ne log b a = __expect (fun a b => a = b |> fun x => join x |> not) log b a\n",
    "inl _assert_ne b a = __assert_ne true b a\n",
    "\n",
    "inl __assert_gt log b a = __expect (>) log b a\n",
    "inl _assert_gt b a = __assert_gt true b a\n",
    "\n",
    "inl __assert_ge log b a = __expect (>=) log b a\n",
    "inl _assert_ge b a = __assert_ge true b a\n",
    "\n",
    "inl __assert_lt log b a = __expect (<) log b a\n",
    "inl _assert_lt b a = __assert_lt true b a\n",
    "\n",
    "inl __assert_le log b a = __expect (<=) log b a\n",
    "inl _assert_le b a = __assert_le true b a\n",
    "\n",
    "inl _throws (fn : () -> ()) : option string =\n",
    "    inl none = None : option string\n",
    "    inl some (s : string) = Some s\n",
    "    $\"try !fn (); !none with ex -> !some ex.Message\""
   ]
  },
  {
   "cell_type": "code",
   "execution_count": null,
   "metadata": {
    "dotnet_interactive": {
     "language": "spiral"
    },
    "polyglot_notebook": {
     "kernelName": "spiral"
    }
   },
   "outputs": [
    {
     "name": "stdout",
     "output_type": "stream",
     "text": [
      "()\n",
      "\r\n"
     ]
    }
   ],
   "source": [
    "inl print_and_return x =\n",
    "    $\"printfn $\\\"print_and_return / x: {!x}\\\"\"\n",
    "    x"
   ]
  }
 ],
 "metadata": {},
 "nbformat": 4,
 "nbformat_minor": 5
}