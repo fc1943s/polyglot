{
 "cells": [
  {
   "cell_type": "markdown",
   "metadata": {},
   "source": [
    "# testing"
   ]
  },
  {
   "cell_type": "code",
   "execution_count": null,
   "metadata": {
    "dotnet_interactive": {
     "language": "spiral"
    },
    "polyglot_notebook": {
     "kernelName": "spiral"
    }
   },
   "outputs": [
    {
     "name": "stdout",
     "output_type": "stream",
     "text": [
      "()\n",
      "\r\n"
     ]
    }
   ],
   "source": [
    "inl _almost_equal b a =\n",
    "    assert (abs (b - a) < 0.00000001) $\"$\\\"_almost_equal / actual: %A{!a} / expected: %A{!b}\\\"\"\n",
    "\n",
    "inl _equal b a =\n",
    "    assert (a = b) $\"$\\\"_equal / actual: %A{!a} / expected: %A{!b}\\\"\"\n",
    "\n",
    "inl _is_greater_than b a =\n",
    "    assert (b > a) $\"$\\\"_is_greater_than / actual: %A{!a} / expected: %A{!b}\\\"\"\n",
    "\n",
    "inl _is_greater_than_or_equal b a =\n",
    "    assert (b >= a) $\"$\\\"_is_greater_than_or_equal / actual: %A{!a} / expected: %A{!b}\\\"\"\n",
    "\n",
    "inl _is_less_than b a =\n",
    "    assert (b < a) $\"$\\\"_is_less_than / actual: %A{!a} / expected: %A{!b}\\\"\"\n",
    "\n",
    "inl _is_less_than_or_equal b a =\n",
    "    assert (b <= a) $\"$\\\"_is_less_than_or_equal / actual: %A{!a} / expected: %A{!b}\\\"\"\n",
    "\n",
    "inl _throws (fn : () -> ()) : option string =\n",
    "    inl none = None : option string\n",
    "    inl some (s : string) = Some s\n",
    "    $\"try !fn (); !none with ex -> !some ex.Message\""
   ]
  },
  {
   "cell_type": "code",
   "execution_count": null,
   "metadata": {
    "dotnet_interactive": {
     "language": "spiral"
    },
    "polyglot_notebook": {
     "kernelName": "spiral"
    }
   },
   "outputs": [
    {
     "name": "stdout",
     "output_type": "stream",
     "text": [
      "()\n",
      "\r\n"
     ]
    }
   ],
   "source": [
    "inl print_and_return x =\n",
    "    $\"printfn $\\\"print_and_return / x: {!x}\\\"\"\n",
    "    x"
   ]
  }
 ],
 "metadata": {},
 "nbformat": 4,
 "nbformat_minor": 5
}