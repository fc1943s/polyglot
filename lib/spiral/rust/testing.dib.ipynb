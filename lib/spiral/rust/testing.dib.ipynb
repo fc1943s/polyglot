{
 "cells": [
  {
   "cell_type": "markdown",
   "metadata": {},
   "source": [
    "# rust/testing"
   ]
  },
  {
   "cell_type": "code",
   "execution_count": null,
   "metadata": {
    "dotnet_interactive": {
     "language": "spiral"
    },
    "polyglot_notebook": {
     "kernelName": "spiral"
    }
   },
   "outputs": [],
   "source": [
    "open rust.rust_operators"
   ]
  },
  {
   "cell_type": "code",
   "execution_count": null,
   "metadata": {
    "dotnet_interactive": {
     "language": "spiral"
    },
    "polyglot_notebook": {
     "kernelName": "spiral"
    }
   },
   "outputs": [],
   "source": [
    "//// test\n",
    "\n",
    "open testing"
   ]
  },
  {
   "cell_type": "markdown",
   "metadata": {},
   "source": [
    "### run_tests'"
   ]
  },
  {
   "cell_type": "code",
   "execution_count": null,
   "metadata": {
    "dotnet_interactive": {
     "language": "spiral"
    },
    "polyglot_notebook": {
     "kernelName": "spiral"
    }
   },
   "outputs": [],
   "source": [
    "inl run_tests' tests =\n",
    "    (!\\($'\"true; () //\"') : bool) |> ignore\n",
    "\n",
    "    inl fields = reflection.get_record_fields tests\n",
    "    \n",
    "    fields\n",
    "    |> listm.iter fun name, (fn : string -> ()) =>\n",
    "        !\\($'\"} /* /*\"')\n",
    "        (!\\($'$\"*/ #[test] fn \" + !name + \"() { //\"') : bool) |> ignore\n",
    "        fn name\n",
    "\n",
    "    fields\n",
    "    |> listm.iter fun _ =>\n",
    "        !\\($'\"{ //\"') : ()"
   ]
  },
  {
   "cell_type": "code",
   "execution_count": null,
   "metadata": {
    "dotnet_interactive": {
     "language": "spiral"
    },
    "polyglot_notebook": {
     "kernelName": "spiral"
    }
   },
   "outputs": [],
   "source": [
    "//// test\n",
    "\n",
    "inl run test =\n",
    "    if env.get_environment_variable \"TEST\" = \"1\"\n",
    "    then ()\n",
    "    else\n",
    "        runtime.execution_options fun x => { x with\n",
    "            command = \"cargo +nightly test -- --show-output\"\n",
    "            working_directory = file_system.get_source_directory () |> Some |> optionm'.box\n",
    "            environment_variables = ;[ \"TEST\", \"1\" ]\n",
    "        }\n",
    "        |> runtime.execute_with_options\n",
    "        |> fun exit_code, result =>\n",
    "            exit_code |> _assert_eq 0i32\n",
    "            result |> _assert_string_contains \"test result: ok. 1 passed; 0 failed; 0 ignored;\"\n",
    "\n",
    "    $'let tests () = !test ()' : ()"
   ]
  },
  {
   "cell_type": "code",
   "execution_count": null,
   "metadata": {
    "dotnet_interactive": {
     "language": "spiral"
    },
    "polyglot_notebook": {
     "kernelName": "spiral"
    }
   },
   "outputs": [
    {
     "data": {
      "text/plain": [
       "00:00:00 \u001B[94m  debug\u001B[39m #1 runtime.execute_with_options / { file_name = cargo; arguments = [\"+nightly\", \"test\", \"--\", \"--show-output\"]; options = { command = cargo +nightly test -- --show-output; cancellation_token = None; environment_variables = Array(MutCell([(\"TEST\", \"1\")])); on_line = None; stdin = None; trace = true; working_directory = Some(\"c:\\home\\git\\polyglot\\target\\spiral_builder\\spiral_builder\\packages\\Rust\\79d4164f4292c85b8af4b2d715e145e1fa0a4dfe1255bb85c044bef66a687e15\") } }\n",
       "00:00:02 \u001B[90mverbose\u001B[39m #2 !    Compiling spiral_builder_79d4164f4292c85b8af4b2d715e145e1fa0a4dfe1255bb85c044bef66a687e15 v0.0.1 (C:\\home\\git\\polyglot\\target\\spiral_builder\\spiral_builder\\packages\\Rust\\79d4164f4292c85b8af4b2d715e145e1fa0a4dfe1255bb85c044bef66a687e15)\n",
       "00:00:16 \u001B[90mverbose\u001B[39m #3 !     Finished `test` profile [unoptimized + debuginfo] target(s) in 16.17s\n",
       "00:00:16 \u001B[90mverbose\u001B[39m #4 !      Running unittests spiral_builder.rs (c:\\home\\git\\polyglot\\target\\spiral_builder\\spiral_builder\\target\\debug\\deps\\spiral_builder_79d4164f4292c85b8af4b2d715e145e1fa0a4dfe1255bb85c044bef66a687e15-071db2a5d3187375.exe)\n",
       "00:00:16 \u001B[90mverbose\u001B[39m #5 >\n",
       "00:00:16 \u001B[90mverbose\u001B[39m #6 > running 1 test\n",
       "00:00:16 \u001B[90mverbose\u001B[39m #7 > test module_76ceb7c8::Spiral_builder::a ... ok\n",
       "00:00:16 \u001B[90mverbose\u001B[39m #8 >\n",
       "00:00:16 \u001B[90mverbose\u001B[39m #9 > successes:\n",
       "00:00:16 \u001B[90mverbose\u001B[39m #10 >\n",
       "00:00:16 \u001B[90mverbose\u001B[39m #11 > ---- module_76ceb7c8::Spiral_builder::a stdout ----\n",
       "00:00:16 \u001B[90mverbose\u001B[39m #12 > __assert_eq / actual: \"a\" / expected: \"a\"\n",
       "00:00:16 \u001B[90mverbose\u001B[39m #13 >\n",
       "00:00:16 \u001B[90mverbose\u001B[39m #14 >\n",
       "00:00:16 \u001B[90mverbose\u001B[39m #15 > successes:\n",
       "00:00:16 \u001B[90mverbose\u001B[39m #16 >     module_76ceb7c8::Spiral_builder::a\n",
       "00:00:16 \u001B[90mverbose\u001B[39m #17 >\n",
       "00:00:16 \u001B[90mverbose\u001B[39m #18 > test result: ok. 1 passed; 0 failed; 0 ignored; 0 measured; 0 filtered out; finished in 0.00s\n",
       "00:00:16 \u001B[90mverbose\u001B[39m #19 >\n",
       "00:00:16 \u001B[90mverbose\u001B[39m #20 runtime.execute_with_options / result / { exit_code = 0; std_trace_length = 880 }\n",
       "__assert_eq / actual: 0 / expected: 0\n",
       "__assert_string_contains / actual: \"test result: ok. 1 passed; 0 failed; 0 ignored;\" / expected: \"\u001B[4;7m   Compiling spiral_builder_79d4164f4292c85b8af4b2d715e145e1fa0a4dfe1255bb85c044bef66a687e15 v0.0.1 (C:\\home\\git\\polyglot\\target\\spiral_builder\\spiral_builder\\packages\\Rust\\79d4164f4292c85b8af4b2d715e145e1fa0a4dfe1255bb85c044bef66a687e15)\u001B[0m\n",
       "\u001B[4;7m    Finished `test` profile [unoptimized + debuginfo] target(s) in 16.17s\u001B[0m\n",
       "\u001B[4;7m     Running unittests spiral_builder.rs (c:\\home\\git\\polyglot\\target\\spiral_builder\\spiral_builder\\target\\debug\\deps\\spiral_builder_79d4164f4292c85b8af4b2d715e145e1fa0a4dfe1255bb85c044bef66a687e15-071db2a5d3187375.exe)\u001B[0m\n",
       "\n",
       "running 1 test\n",
       "test module_76ceb7c8::Spiral_builder::a ... ok\n",
       "\n",
       "successes:\n",
       "\n",
       "---- module_76ceb7c8::Spiral_builder::a stdout ----\n",
       "__assert_eq / actual: \"a\" / expected: \"a\"\n",
       "\n",
       "\n",
       "successes:\n",
       "    module_76ceb7c8::Spiral_builder::a\n",
       "\n",
       "test result: ok. 1 passed; 0 failed; 0 ignored; 0 measured; 0 filtered out; finished in 0.00s\n",
       "\"\n"
      ]
     },
     "metadata": {},
     "output_type": "display_data"
    }
   ],
   "source": [
    "//// test\n",
    "///! rust -d encoding_rs encoding_rs_io\n",
    "\n",
    "fun () =>\n",
    "    run_tests' {\n",
    "        a = _assert_eq \"a\"\n",
    "    }\n",
    "|> run"
   ]
  },
  {
   "cell_type": "markdown",
   "metadata": {},
   "source": [
    "### run_tests"
   ]
  },
  {
   "cell_type": "code",
   "execution_count": null,
   "metadata": {
    "dotnet_interactive": {
     "language": "spiral"
    },
    "polyglot_notebook": {
     "kernelName": "spiral"
    }
   },
   "outputs": [],
   "source": [
    "inl run_tests tests : () =\n",
    "    real\n",
    "        inl tests =\n",
    "            real_core.record_map\n",
    "                fun { key value } =>\n",
    "                    (fun _ => value ()) : string -> ()\n",
    "                tests\n",
    "        run_tests' `(`tests) tests"
   ]
  },
  {
   "cell_type": "code",
   "execution_count": null,
   "metadata": {
    "dotnet_interactive": {
     "language": "spiral"
    },
    "polyglot_notebook": {
     "kernelName": "spiral"
    }
   },
   "outputs": [
    {
     "data": {
      "text/plain": [
       "00:00:00 \u001B[94m  debug\u001B[39m #1 runtime.execute_with_options / { file_name = cargo; arguments = [\"+nightly\", \"test\", \"--\", \"--show-output\"]; options = { command = cargo +nightly test -- --show-output; cancellation_token = None; environment_variables = Array(MutCell([(\"TEST\", \"1\")])); on_line = None; stdin = None; trace = true; working_directory = Some(\"c:\\home\\git\\polyglot\\target\\spiral_builder\\spiral_builder\\packages\\Rust\\4af5ccdc1d1eaf7c37e113f1efef377cbfc9fc93a1eadd50cf9ff9c11739710f\") } }\n",
       "00:00:03 \u001B[90mverbose\u001B[39m #2 !      Locking 1 package to latest compatible version\n",
       "00:00:03 \u001B[90mverbose\u001B[39m #3 !       Adding spiral_builder_20240731-2038-5043-3668-000000a8f9b3 v0.0.1 (C:\\home\\git\\polyglot\\target\\spiral_builder\\spiral_builder\\packages\\Rust\\74087faddce3e5ef2b36a4f09dd4bae300bdda7cb3c6ab981d469d0d8d391dd2)\n",
       "00:00:04 \u001B[90mverbose\u001B[39m #4 !     Blocking waiting for file lock on build directory\n",
       "00:00:11 \u001B[90mverbose\u001B[39m #5 !    Compiling spiral_builder_4af5ccdc1d1eaf7c37e113f1efef377cbfc9fc93a1eadd50cf9ff9c11739710f v0.0.1 (C:\\home\\git\\polyglot\\target\\spiral_builder\\spiral_builder\\packages\\Rust\\4af5ccdc1d1eaf7c37e113f1efef377cbfc9fc93a1eadd50cf9ff9c11739710f)\n",
       "00:00:23 \u001B[90mverbose\u001B[39m #6 !     Finished `test` profile [unoptimized + debuginfo] target(s) in 22.87s\n",
       "00:00:23 \u001B[90mverbose\u001B[39m #7 !      Running unittests spiral_builder.rs (c:\\home\\git\\polyglot\\target\\spiral_builder\\spiral_builder\\target\\debug\\deps\\spiral_builder_4af5ccdc1d1eaf7c37e113f1efef377cbfc9fc93a1eadd50cf9ff9c11739710f-41a0f593bdeeef8e.exe)\n",
       "00:00:23 \u001B[90mverbose\u001B[39m #8 >\n",
       "00:00:23 \u001B[90mverbose\u001B[39m #9 > running 1 test\n",
       "00:00:23 \u001B[90mverbose\u001B[39m #10 > test module_52a7c442::Spiral_builder::a ... ok\n",
       "00:00:23 \u001B[90mverbose\u001B[39m #11 >\n",
       "00:00:23 \u001B[90mverbose\u001B[39m #12 > successes:\n",
       "00:00:23 \u001B[90mverbose\u001B[39m #13 >\n",
       "00:00:23 \u001B[90mverbose\u001B[39m #14 > ---- module_52a7c442::Spiral_builder::a stdout ----\n",
       "00:00:23 \u001B[90mverbose\u001B[39m #15 > __assert_eq / actual: \"a\" / expected: \"a\"\n",
       "00:00:23 \u001B[90mverbose\u001B[39m #16 >\n",
       "00:00:23 \u001B[90mverbose\u001B[39m #17 >\n",
       "00:00:23 \u001B[90mverbose\u001B[39m #18 > successes:\n",
       "00:00:23 \u001B[90mverbose\u001B[39m #19 >     module_52a7c442::Spiral_builder::a\n",
       "00:00:23 \u001B[90mverbose\u001B[39m #20 >\n",
       "00:00:23 \u001B[90mverbose\u001B[39m #21 > test result: ok. 1 passed; 0 failed; 0 ignored; 0 measured; 0 filtered out; finished in 0.01s\n",
       "00:00:23 \u001B[90mverbose\u001B[39m #22 >\n",
       "00:00:24 \u001B[90mverbose\u001B[39m #23 runtime.execute_with_options / result / { exit_code = 0; std_trace_length = 1227 }\n",
       "__assert_eq / actual: 0 / expected: 0\n",
       "__assert_string_contains / actual: \"test result: ok. 1 passed; 0 failed; 0 ignored;\" / expected: \"\u001B[4;7m     Locking 1 package to latest compatible version\u001B[0m\n",
       "\u001B[4;7m      Adding spiral_builder_20240731-2038-5043-3668-000000a8f9b3 v0.0.1 (C:\\home\\git\\polyglot\\target\\spiral_builder\\spiral_builder\\packages\\Rust\\74087faddce3e5ef2b36a4f09dd4bae300bdda7cb3c6ab981d469d0d8d391dd2)\u001B[0m\n",
       "\u001B[4;7m    Blocking waiting for file lock on build directory\u001B[0m\n",
       "\u001B[4;7m   Compiling spiral_builder_4af5ccdc1d1eaf7c37e113f1efef377cbfc9fc93a1eadd50cf9ff9c11739710f v0.0.1 (C:\\home\\git\\polyglot\\target\\spiral_builder\\spiral_builder\\packages\\Rust\\4af5ccdc1d1eaf7c37e113f1efef377cbfc9fc93a1eadd50cf9ff9c11739710f)\u001B[0m\n",
       "\u001B[4;7m    Finished `test` profile [unoptimized + debuginfo] target(s) in 22.87s\u001B[0m\n",
       "\u001B[4;7m     Running unittests spiral_builder.rs (c:\\home\\git\\polyglot\\target\\spiral_builder\\spiral_builder\\target\\debug\\deps\\spiral_builder_4af5ccdc1d1eaf7c37e113f1efef377cbfc9fc93a1eadd50cf9ff9c11739710f-41a0f593bdeeef8e.exe)\u001B[0m\n",
       "\n",
       "running 1 test\n",
       "test module_52a7c442::Spiral_builder::a ... ok\n",
       "\n",
       "successes:\n",
       "\n",
       "---- module_52a7c442::Spiral_builder::a stdout ----\n",
       "__assert_eq / actual: \"a\" / expected: \"a\"\n",
       "\n",
       "\n",
       "successes:\n",
       "    module_52a7c442::Spiral_builder::a\n",
       "\n",
       "test result: ok. 1 passed; 0 failed; 0 ignored; 0 measured; 0 filtered out; finished in 0.01s\n",
       "\"\n"
      ]
     },
     "metadata": {},
     "output_type": "display_data"
    }
   ],
   "source": [
    "//// test\n",
    "///! rust -d encoding_rs encoding_rs_io\n",
    "\n",
    "fun () =>\n",
    "    run_tests {\n",
    "        a = fun () => \"a\" |> _assert_eq \"a\"\n",
    "    }\n",
    "|> run"
   ]
  },
  {
   "cell_type": "markdown",
   "metadata": {},
   "source": [
    "### run_tests_log"
   ]
  },
  {
   "cell_type": "code",
   "execution_count": null,
   "metadata": {
    "dotnet_interactive": {
     "language": "spiral"
    },
    "polyglot_notebook": {
     "kernelName": "spiral"
    }
   },
   "outputs": [],
   "source": [
    "inl run_tests_log tests : () =\n",
    "    real\n",
    "        inl tests =\n",
    "            real_core.record_map\n",
    "                fun { key value } =>\n",
    "                    (fun _ => value false) : () -> ()\n",
    "                tests\n",
    "        run_tests `(`tests) tests"
   ]
  },
  {
   "cell_type": "code",
   "execution_count": null,
   "metadata": {
    "dotnet_interactive": {
     "language": "spiral"
    },
    "polyglot_notebook": {
     "kernelName": "spiral"
    }
   },
   "outputs": [
    {
     "data": {
      "text/plain": [
       "00:00:00 \u001B[94m  debug\u001B[39m #1 runtime.execute_with_options / { file_name = cargo; arguments = [\"+nightly\", \"test\", \"--\", \"--show-output\"]; options = { command = cargo +nightly test -- --show-output; cancellation_token = None; environment_variables = Array(MutCell([(\"TEST\", \"1\")])); on_line = None; stdin = None; trace = true; working_directory = Some(\"c:\\home\\git\\polyglot\\target\\spiral_builder\\spiral_builder\\packages\\Rust\\6ef91e8cea2f362e00a88f848738b90a7d4069073f02714286e976480f25040b\") } }\n",
       "00:00:01 \u001B[90mverbose\u001B[39m #2 !     Blocking waiting for file lock on build directory\n",
       "00:00:09 \u001B[90mverbose\u001B[39m #3 !    Compiling spiral_builder_6ef91e8cea2f362e00a88f848738b90a7d4069073f02714286e976480f25040b v0.0.1 (C:\\home\\git\\polyglot\\target\\spiral_builder\\spiral_builder\\packages\\Rust\\6ef91e8cea2f362e00a88f848738b90a7d4069073f02714286e976480f25040b)\n",
       "00:00:19 \u001B[90mverbose\u001B[39m #4 !     Finished `test` profile [unoptimized + debuginfo] target(s) in 19.48s\n",
       "00:00:19 \u001B[90mverbose\u001B[39m #5 !      Running unittests spiral_builder.rs (c:\\home\\git\\polyglot\\target\\spiral_builder\\spiral_builder\\target\\debug\\deps\\spiral_builder_6ef91e8cea2f362e00a88f848738b90a7d4069073f02714286e976480f25040b-a55582d5e8f077f2.exe)\n",
       "00:00:20 \u001B[90mverbose\u001B[39m #6 >\n",
       "00:00:20 \u001B[90mverbose\u001B[39m #7 > running 1 test\n",
       "00:00:20 \u001B[90mverbose\u001B[39m #8 > test module_80925c7b::Spiral_builder::a ... ok\n",
       "00:00:20 \u001B[90mverbose\u001B[39m #9 >\n",
       "00:00:20 \u001B[90mverbose\u001B[39m #10 > successes:\n",
       "00:00:20 \u001B[90mverbose\u001B[39m #11 >\n",
       "00:00:20 \u001B[90mverbose\u001B[39m #12 > ---- module_80925c7b::Spiral_builder::a stdout ----\n",
       "00:00:20 \u001B[90mverbose\u001B[39m #13 > __assert_eq / actual: false / expected: false\n",
       "00:00:20 \u001B[90mverbose\u001B[39m #14 >\n",
       "00:00:20 \u001B[90mverbose\u001B[39m #15 >\n",
       "00:00:20 \u001B[90mverbose\u001B[39m #16 > successes:\n",
       "00:00:20 \u001B[90mverbose\u001B[39m #17 >     module_80925c7b::Spiral_builder::a\n",
       "00:00:20 \u001B[90mverbose\u001B[39m #18 >\n",
       "00:00:20 \u001B[90mverbose\u001B[39m #19 > test result: ok. 1 passed; 0 failed; 0 ignored; 0 measured; 0 filtered out; finished in 0.10s\n",
       "00:00:20 \u001B[90mverbose\u001B[39m #20 >\n",
       "00:00:20 \u001B[90mverbose\u001B[39m #21 runtime.execute_with_options / result / { exit_code = 0; std_trace_length = 948 }\n",
       "__assert_eq / actual: 0 / expected: 0\n",
       "__assert_string_contains / actual: \"test result: ok. 1 passed; 0 failed; 0 ignored;\" / expected: \"\u001B[4;7m    Blocking waiting for file lock on build directory\u001B[0m\n",
       "\u001B[4;7m   Compiling spiral_builder_6ef91e8cea2f362e00a88f848738b90a7d4069073f02714286e976480f25040b v0.0.1 (C:\\home\\git\\polyglot\\target\\spiral_builder\\spiral_builder\\packages\\Rust\\6ef91e8cea2f362e00a88f848738b90a7d4069073f02714286e976480f25040b)\u001B[0m\n",
       "\u001B[4;7m    Finished `test` profile [unoptimized + debuginfo] target(s) in 19.48s\u001B[0m\n",
       "\u001B[4;7m     Running unittests spiral_builder.rs (c:\\home\\git\\polyglot\\target\\spiral_builder\\spiral_builder\\target\\debug\\deps\\spiral_builder_6ef91e8cea2f362e00a88f848738b90a7d4069073f02714286e976480f25040b-a55582d5e8f077f2.exe)\u001B[0m\n",
       "\n",
       "running 1 test\n",
       "test module_80925c7b::Spiral_builder::a ... ok\n",
       "\n",
       "successes:\n",
       "\n",
       "---- module_80925c7b::Spiral_builder::a stdout ----\n",
       "__assert_eq / actual: false / expected: false\n",
       "\n",
       "\n",
       "successes:\n",
       "    module_80925c7b::Spiral_builder::a\n",
       "\n",
       "test result: ok. 1 passed; 0 failed; 0 ignored; 0 measured; 0 filtered out; finished in 0.10s\n",
       "\"\n"
      ]
     },
     "metadata": {},
     "output_type": "display_data"
    }
   ],
   "source": [
    "//// test\n",
    "///! rust -d encoding_rs encoding_rs_io\n",
    "\n",
    "fun () =>\n",
    "    run_tests_log {\n",
    "        a = _assert_eq false\n",
    "    }\n",
    "|> run"
   ]
  }
 ],
 "metadata": {},
 "nbformat": 4,
 "nbformat_minor": 5
}