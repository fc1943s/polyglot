{
 "cells": [
  {
   "cell_type": "markdown",
   "metadata": {},
   "source": [
    "# rust/testing"
   ]
  },
  {
   "cell_type": "code",
   "execution_count": null,
   "metadata": {
    "dotnet_interactive": {
     "language": "spiral"
    },
    "polyglot_notebook": {
     "kernelName": "spiral"
    }
   },
   "outputs": [],
   "source": [
    "open rust.rust_operators"
   ]
  },
  {
   "cell_type": "code",
   "execution_count": null,
   "metadata": {
    "dotnet_interactive": {
     "language": "spiral"
    },
    "polyglot_notebook": {
     "kernelName": "spiral"
    }
   },
   "outputs": [],
   "source": [
    "//// test\n",
    "\n",
    "open testing"
   ]
  },
  {
   "cell_type": "markdown",
   "metadata": {},
   "source": [
    "### run_tests'"
   ]
  },
  {
   "cell_type": "code",
   "execution_count": null,
   "metadata": {
    "dotnet_interactive": {
     "language": "spiral"
    },
    "polyglot_notebook": {
     "kernelName": "spiral"
    }
   },
   "outputs": [],
   "source": [
    "inl run_tests' tests =\n",
    "    (!\\($'\"true; () //\"') : bool) |> ignore\n",
    "\n",
    "    inl fields = reflection.get_record_fields tests\n",
    "\n",
    "    fields\n",
    "    |> listm.iter fun name, (fn : string -> ()) =>\n",
    "        !\\($'\"} /* /*\"')\n",
    "        (!\\($'$\"*/ #[test] fn \" + !name + \"() { //\"') : bool) |> ignore\n",
    "        fn name\n",
    "\n",
    "    fields\n",
    "    |> listm.iter fun _ =>\n",
    "        !\\($'\"{ //\"') : ()"
   ]
  },
  {
   "cell_type": "code",
   "execution_count": null,
   "metadata": {
    "dotnet_interactive": {
     "language": "spiral"
    },
    "polyglot_notebook": {
     "kernelName": "spiral"
    }
   },
   "outputs": [],
   "source": [
    "//// test\n",
    "\n",
    "inl run test =\n",
    "    if env.get_environment_variable \"TEST\" = \"1\"\n",
    "    then ()\n",
    "    else\n",
    "        runtime.execution_options fun x => { x with\n",
    "            command = \"cargo test -- --show-output\"\n",
    "            working_directory = file_system.get_source_directory () |> Some |> optionm'.box\n",
    "            environment_variables = ;[ \"TEST\", \"1\" ]\n",
    "        }\n",
    "        |> runtime.execute_with_options\n",
    "        |> fun exit_code, result =>\n",
    "            exit_code |> _assert_eq 0i32\n",
    "            result |> _assert_string_contains \"test result: ok. 1 passed; 0 failed; 0 ignored;\"\n",
    "\n",
    "    $'let tests () = !test ()' : ()"
   ]
  },
  {
   "cell_type": "code",
   "execution_count": null,
   "metadata": {
    "dotnet_interactive": {
     "language": "spiral"
    },
    "polyglot_notebook": {
     "kernelName": "spiral"
    }
   },
   "outputs": [
    {
     "data": {
      "text/plain": [
       "00:00:00 \u001B[94m  debug\u001B[39m #1 runtime.execute_with_options / { file_name = cargo; arguments = [\n",
       "    \"test\",\n",
       "    \"--\",\n",
       "    \"--show-output\",\n",
       "]; options = { command = cargo test -- --show-output; cancellation_token = None; environment_variables = Array(MutCell([(\"TEST\", \"1\")])); on_line = None; stdin = None; trace = true; working_directory = Some(\n",
       "    \"c:\\home\\git\\polyglot\\target\\spiral_builder\\spiral_builder\\packages\\Rust\\a71c203cac5d239d1d8ecbc513d83f562f3fe65e453c18aa2d0a4358177228f9\",\n",
       ") } }\n",
       "00:00:00 \u001B[90mverbose\u001B[39m #2 !    Compiling spiral_builder_a71c203cac5d239d1d8ecbc513d83f562f3fe65e453c18aa2d0a4358177228f9 v0.0.1 (C:\\home\\git\\polyglot\\target\\spiral_builder\\spiral_builder\\packages\\Rust\\a71c203cac5d239d1d8ecbc513d83f562f3fe65e453c18aa2d0a4358177228f9)\n",
       "00:00:04 \u001B[90mverbose\u001B[39m #3 !     Finished `test` profile [unoptimized + debuginfo] target(s) in 4.17s\n",
       "00:00:04 \u001B[90mverbose\u001B[39m #4 !      Running unittests spiral_builder.rs (c:\\home\\git\\polyglot\\target\\spiral_builder\\spiral_builder\\target\\debug\\deps\\spiral_builder_a71c203cac5d239d1d8ecbc513d83f562f3fe65e453c18aa2d0a4358177228f9-fc1a8d89ee767593.exe)\n",
       "00:00:04 \u001B[90mverbose\u001B[39m #5 >\n",
       "00:00:04 \u001B[90mverbose\u001B[39m #6 > running 1 test\n",
       "00:00:04 \u001B[90mverbose\u001B[39m #7 > test module_c4f079c0::Spiral_builder::a ... ok\n",
       "00:00:04 \u001B[90mverbose\u001B[39m #8 >\n",
       "00:00:04 \u001B[90mverbose\u001B[39m #9 > successes:\n",
       "00:00:04 \u001B[90mverbose\u001B[39m #10 >\n",
       "00:00:04 \u001B[90mverbose\u001B[39m #11 > ---- module_c4f079c0::Spiral_builder::a stdout ----\n",
       "00:00:04 \u001B[90mverbose\u001B[39m #12 > __assert_eq / actual: \"a\" / expected: \"a\"\n",
       "00:00:04 \u001B[90mverbose\u001B[39m #13 >\n",
       "00:00:04 \u001B[90mverbose\u001B[39m #14 >\n",
       "00:00:04 \u001B[90mverbose\u001B[39m #15 > successes:\n",
       "00:00:04 \u001B[90mverbose\u001B[39m #16 >     module_c4f079c0::Spiral_builder::a\n",
       "00:00:04 \u001B[90mverbose\u001B[39m #17 >\n",
       "00:00:04 \u001B[90mverbose\u001B[39m #18 > test result: ok. 1 passed; 0 failed; 0 ignored; 0 measured; 0 filtered out; finished in 0.00s\n",
       "00:00:04 \u001B[90mverbose\u001B[39m #19 >\n",
       "00:00:04 \u001B[90mverbose\u001B[39m #20 runtime.execute_with_options / result / { exit_code = 0; std_trace_length = 879 }\n",
       "__assert_eq / actual: 0 / expected: 0\n",
       "__assert_string_contains / actual: \"test result: ok. 1 passed; 0 failed; 0 ignored;\" / expected: \"\u001B[4;7m   Compiling spiral_builder_a71c203cac5d239d1d8ecbc513d83f562f3fe65e453c18aa2d0a4358177228f9 v0.0.1 (C:\\home\\git\\polyglot\\target\\spiral_builder\\spiral_builder\\packages\\Rust\\a71c203cac5d239d1d8ecbc513d83f562f3fe65e453c18aa2d0a4358177228f9)\u001B[0m\n",
       "\u001B[4;7m    Finished `test` profile [unoptimized + debuginfo] target(s) in 4.17s\u001B[0m\n",
       "\u001B[4;7m     Running unittests spiral_builder.rs (c:\\home\\git\\polyglot\\target\\spiral_builder\\spiral_builder\\target\\debug\\deps\\spiral_builder_a71c203cac5d239d1d8ecbc513d83f562f3fe65e453c18aa2d0a4358177228f9-fc1a8d89ee767593.exe)\u001B[0m\n",
       "\n",
       "running 1 test\n",
       "test module_c4f079c0::Spiral_builder::a ... ok\n",
       "\n",
       "successes:\n",
       "\n",
       "---- module_c4f079c0::Spiral_builder::a stdout ----\n",
       "__assert_eq / actual: \"a\" / expected: \"a\"\n",
       "\n",
       "\n",
       "successes:\n",
       "    module_c4f079c0::Spiral_builder::a\n",
       "\n",
       "test result: ok. 1 passed; 0 failed; 0 ignored; 0 measured; 0 filtered out; finished in 0.00s\n",
       "\"\n"
      ]
     },
     "metadata": {},
     "output_type": "display_data"
    }
   ],
   "source": [
    "//// test\n",
    "///! rust -d encoding_rs encoding_rs_io\n",
    "\n",
    "fun () =>\n",
    "    run_tests' {\n",
    "        a = _assert_eq \"a\"\n",
    "    }\n",
    "|> run"
   ]
  },
  {
   "cell_type": "markdown",
   "metadata": {},
   "source": [
    "### run_tests"
   ]
  },
  {
   "cell_type": "code",
   "execution_count": null,
   "metadata": {
    "dotnet_interactive": {
     "language": "spiral"
    },
    "polyglot_notebook": {
     "kernelName": "spiral"
    }
   },
   "outputs": [],
   "source": [
    "inl run_tests tests : () =\n",
    "    real\n",
    "        inl tests =\n",
    "            real_core.record_map\n",
    "                fun { key value } =>\n",
    "                    (fun _ => value ()) : string -> ()\n",
    "                tests\n",
    "        run_tests' `(`tests) tests"
   ]
  },
  {
   "cell_type": "code",
   "execution_count": null,
   "metadata": {
    "dotnet_interactive": {
     "language": "spiral"
    },
    "polyglot_notebook": {
     "kernelName": "spiral"
    }
   },
   "outputs": [
    {
     "data": {
      "text/plain": [
       "00:00:00 \u001B[94m  debug\u001B[39m #1 runtime.execute_with_options / { file_name = cargo; arguments = [\n",
       "    \"test\",\n",
       "    \"--\",\n",
       "    \"--show-output\",\n",
       "]; options = { command = cargo test -- --show-output; cancellation_token = None; environment_variables = Array(MutCell([(\"TEST\", \"1\")])); on_line = None; stdin = None; trace = true; working_directory = Some(\n",
       "    \"c:\\home\\git\\polyglot\\target\\spiral_builder\\spiral_builder\\packages\\Rust\\a71c203cac5d239d1d8ecbc513d83f562f3fe65e453c18aa2d0a4358177228f9\",\n",
       ") } }\n",
       "00:00:00 \u001B[90mverbose\u001B[39m #2 !    Compiling spiral_builder_a71c203cac5d239d1d8ecbc513d83f562f3fe65e453c18aa2d0a4358177228f9 v0.0.1 (C:\\home\\git\\polyglot\\target\\spiral_builder\\spiral_builder\\packages\\Rust\\a71c203cac5d239d1d8ecbc513d83f562f3fe65e453c18aa2d0a4358177228f9)\n",
       "00:00:03 \u001B[90mverbose\u001B[39m #3 !     Finished `test` profile [unoptimized + debuginfo] target(s) in 3.20s\n",
       "00:00:03 \u001B[90mverbose\u001B[39m #4 !      Running unittests spiral_builder.rs (c:\\home\\git\\polyglot\\target\\spiral_builder\\spiral_builder\\target\\debug\\deps\\spiral_builder_a71c203cac5d239d1d8ecbc513d83f562f3fe65e453c18aa2d0a4358177228f9-fc1a8d89ee767593.exe)\n",
       "00:00:03 \u001B[90mverbose\u001B[39m #5 >\n",
       "00:00:03 \u001B[90mverbose\u001B[39m #6 > running 1 test\n",
       "00:00:03 \u001B[90mverbose\u001B[39m #7 > test module_c4f079c0::Spiral_builder::a ... ok\n",
       "00:00:03 \u001B[90mverbose\u001B[39m #8 >\n",
       "00:00:03 \u001B[90mverbose\u001B[39m #9 > successes:\n",
       "00:00:03 \u001B[90mverbose\u001B[39m #10 >\n",
       "00:00:03 \u001B[90mverbose\u001B[39m #11 > ---- module_c4f079c0::Spiral_builder::a stdout ----\n",
       "00:00:03 \u001B[90mverbose\u001B[39m #12 > __assert_eq / actual: \"a\" / expected: \"a\"\n",
       "00:00:03 \u001B[90mverbose\u001B[39m #13 >\n",
       "00:00:03 \u001B[90mverbose\u001B[39m #14 >\n",
       "00:00:03 \u001B[90mverbose\u001B[39m #15 > successes:\n",
       "00:00:03 \u001B[90mverbose\u001B[39m #16 >     module_c4f079c0::Spiral_builder::a\n",
       "00:00:03 \u001B[90mverbose\u001B[39m #17 >\n",
       "00:00:03 \u001B[90mverbose\u001B[39m #18 > test result: ok. 1 passed; 0 failed; 0 ignored; 0 measured; 0 filtered out; finished in 0.00s\n",
       "00:00:03 \u001B[90mverbose\u001B[39m #19 >\n",
       "00:00:03 \u001B[90mverbose\u001B[39m #20 runtime.execute_with_options / result / { exit_code = 0; std_trace_length = 879 }\n",
       "__assert_eq / actual: 0 / expected: 0\n",
       "__assert_string_contains / actual: \"test result: ok. 1 passed; 0 failed; 0 ignored;\" / expected: \"\u001B[4;7m   Compiling spiral_builder_a71c203cac5d239d1d8ecbc513d83f562f3fe65e453c18aa2d0a4358177228f9 v0.0.1 (C:\\home\\git\\polyglot\\target\\spiral_builder\\spiral_builder\\packages\\Rust\\a71c203cac5d239d1d8ecbc513d83f562f3fe65e453c18aa2d0a4358177228f9)\u001B[0m\n",
       "\u001B[4;7m    Finished `test` profile [unoptimized + debuginfo] target(s) in 3.20s\u001B[0m\n",
       "\u001B[4;7m     Running unittests spiral_builder.rs (c:\\home\\git\\polyglot\\target\\spiral_builder\\spiral_builder\\target\\debug\\deps\\spiral_builder_a71c203cac5d239d1d8ecbc513d83f562f3fe65e453c18aa2d0a4358177228f9-fc1a8d89ee767593.exe)\u001B[0m\n",
       "\n",
       "running 1 test\n",
       "test module_c4f079c0::Spiral_builder::a ... ok\n",
       "\n",
       "successes:\n",
       "\n",
       "---- module_c4f079c0::Spiral_builder::a stdout ----\n",
       "__assert_eq / actual: \"a\" / expected: \"a\"\n",
       "\n",
       "\n",
       "successes:\n",
       "    module_c4f079c0::Spiral_builder::a\n",
       "\n",
       "test result: ok. 1 passed; 0 failed; 0 ignored; 0 measured; 0 filtered out; finished in 0.00s\n",
       "\"\n"
      ]
     },
     "metadata": {},
     "output_type": "display_data"
    }
   ],
   "source": [
    "//// test\n",
    "///! rust -d encoding_rs encoding_rs_io\n",
    "\n",
    "fun () =>\n",
    "    run_tests {\n",
    "        a = fun () => \"a\" |> _assert_eq \"a\"\n",
    "    }\n",
    "|> run"
   ]
  },
  {
   "cell_type": "markdown",
   "metadata": {},
   "source": [
    "### run_tests_log"
   ]
  },
  {
   "cell_type": "code",
   "execution_count": null,
   "metadata": {
    "dotnet_interactive": {
     "language": "spiral"
    },
    "polyglot_notebook": {
     "kernelName": "spiral"
    }
   },
   "outputs": [],
   "source": [
    "inl run_tests_log tests : () =\n",
    "    real\n",
    "        inl tests =\n",
    "            real_core.record_map\n",
    "                fun { key value } =>\n",
    "                    (fun _ => value false) : () -> ()\n",
    "                tests\n",
    "        run_tests `(`tests) tests"
   ]
  },
  {
   "cell_type": "code",
   "execution_count": null,
   "metadata": {
    "dotnet_interactive": {
     "language": "spiral"
    },
    "polyglot_notebook": {
     "kernelName": "spiral"
    }
   },
   "outputs": [
    {
     "data": {
      "text/plain": [
       "00:00:00 \u001B[94m  debug\u001B[39m #1 runtime.execute_with_options / { file_name = cargo; arguments = [\n",
       "    \"test\",\n",
       "    \"--\",\n",
       "    \"--show-output\",\n",
       "]; options = { command = cargo test -- --show-output; cancellation_token = None; environment_variables = Array(MutCell([(\"TEST\", \"1\")])); on_line = None; stdin = None; trace = true; working_directory = Some(\n",
       "    \"c:\\home\\git\\polyglot\\target\\spiral_builder\\spiral_builder\\packages\\Rust\\b23fea0cdec17ad6106c72d7e52b287e2f01feef0b72fdb75a93e16c3a4dbdca\",\n",
       ") } }\n",
       "00:00:00 \u001B[90mverbose\u001B[39m #2 !    Compiling spiral_builder_b23fea0cdec17ad6106c72d7e52b287e2f01feef0b72fdb75a93e16c3a4dbdca v0.0.1 (C:\\home\\git\\polyglot\\target\\spiral_builder\\spiral_builder\\packages\\Rust\\b23fea0cdec17ad6106c72d7e52b287e2f01feef0b72fdb75a93e16c3a4dbdca)\n",
       "00:00:04 \u001B[90mverbose\u001B[39m #3 !     Finished `test` profile [unoptimized + debuginfo] target(s) in 4.18s\n",
       "00:00:04 \u001B[90mverbose\u001B[39m #4 !      Running unittests spiral_builder.rs (c:\\home\\git\\polyglot\\target\\spiral_builder\\spiral_builder\\target\\debug\\deps\\spiral_builder_b23fea0cdec17ad6106c72d7e52b287e2f01feef0b72fdb75a93e16c3a4dbdca-19f4df8b942d0a94.exe)\n",
       "00:00:04 \u001B[90mverbose\u001B[39m #5 >\n",
       "00:00:04 \u001B[90mverbose\u001B[39m #6 > running 1 test\n",
       "00:00:04 \u001B[90mverbose\u001B[39m #7 > test module_b29eb59c::Spiral_builder::a ... ok\n",
       "00:00:04 \u001B[90mverbose\u001B[39m #8 >\n",
       "00:00:04 \u001B[90mverbose\u001B[39m #9 > successes:\n",
       "00:00:04 \u001B[90mverbose\u001B[39m #10 >\n",
       "00:00:04 \u001B[90mverbose\u001B[39m #11 > ---- module_b29eb59c::Spiral_builder::a stdout ----\n",
       "00:00:04 \u001B[90mverbose\u001B[39m #12 > __assert_eq / actual: false / expected: false\n",
       "00:00:04 \u001B[90mverbose\u001B[39m #13 >\n",
       "00:00:04 \u001B[90mverbose\u001B[39m #14 >\n",
       "00:00:04 \u001B[90mverbose\u001B[39m #15 > successes:\n",
       "00:00:04 \u001B[90mverbose\u001B[39m #16 >     module_b29eb59c::Spiral_builder::a\n",
       "00:00:04 \u001B[90mverbose\u001B[39m #17 >\n",
       "00:00:04 \u001B[90mverbose\u001B[39m #18 > test result: ok. 1 passed; 0 failed; 0 ignored; 0 measured; 0 filtered out; finished in 0.00s\n",
       "00:00:04 \u001B[90mverbose\u001B[39m #19 >\n",
       "00:00:04 \u001B[90mverbose\u001B[39m #20 runtime.execute_with_options / result / { exit_code = 0; std_trace_length = 883 }\n",
       "__assert_eq / actual: 0 / expected: 0\n",
       "__assert_string_contains / actual: \"test result: ok. 1 passed; 0 failed; 0 ignored;\" / expected: \"\u001B[4;7m   Compiling spiral_builder_b23fea0cdec17ad6106c72d7e52b287e2f01feef0b72fdb75a93e16c3a4dbdca v0.0.1 (C:\\home\\git\\polyglot\\target\\spiral_builder\\spiral_builder\\packages\\Rust\\b23fea0cdec17ad6106c72d7e52b287e2f01feef0b72fdb75a93e16c3a4dbdca)\u001B[0m\n",
       "\u001B[4;7m    Finished `test` profile [unoptimized + debuginfo] target(s) in 4.18s\u001B[0m\n",
       "\u001B[4;7m     Running unittests spiral_builder.rs (c:\\home\\git\\polyglot\\target\\spiral_builder\\spiral_builder\\target\\debug\\deps\\spiral_builder_b23fea0cdec17ad6106c72d7e52b287e2f01feef0b72fdb75a93e16c3a4dbdca-19f4df8b942d0a94.exe)\u001B[0m\n",
       "\n",
       "running 1 test\n",
       "test module_b29eb59c::Spiral_builder::a ... ok\n",
       "\n",
       "successes:\n",
       "\n",
       "---- module_b29eb59c::Spiral_builder::a stdout ----\n",
       "__assert_eq / actual: false / expected: false\n",
       "\n",
       "\n",
       "successes:\n",
       "    module_b29eb59c::Spiral_builder::a\n",
       "\n",
       "test result: ok. 1 passed; 0 failed; 0 ignored; 0 measured; 0 filtered out; finished in 0.00s\n",
       "\"\n"
      ]
     },
     "metadata": {},
     "output_type": "display_data"
    }
   ],
   "source": [
    "//// test\n",
    "///! rust -d encoding_rs encoding_rs_io\n",
    "\n",
    "fun () =>\n",
    "    run_tests_log {\n",
    "        a = _assert_eq false\n",
    "    }\n",
    "|> run"
   ]
  }
 ],
 "metadata": {},
 "nbformat": 4,
 "nbformat_minor": 5
}