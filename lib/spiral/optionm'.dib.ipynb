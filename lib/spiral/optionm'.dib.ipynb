{
 "cells": [
  {
   "cell_type": "markdown",
   "metadata": {},
   "source": [
    "# optionm"
   ]
  },
  {
   "cell_type": "code",
   "execution_count": null,
   "metadata": {
    "dotnet_interactive": {
     "language": "spiral"
    },
    "polyglot_notebook": {
     "kernelName": "spiral"
    }
   },
   "outputs": [
    {
     "name": "stdout",
     "output_type": "stream",
     "text": [
      "()\n",
      "\r\n"
     ]
    }
   ],
   "source": [
    "// // test\n",
    "\n",
    "open testing"
   ]
  },
  {
   "cell_type": "code",
   "execution_count": null,
   "metadata": {
    "dotnet_interactive": {
     "language": "spiral"
    },
    "polyglot_notebook": {
     "kernelName": "spiral"
    }
   },
   "outputs": [
    {
     "name": "stdout",
     "output_type": "stream",
     "text": [
      "()\n",
      "\r\n"
     ]
    }
   ],
   "source": [
    "open rust_operators"
   ]
  },
  {
   "cell_type": "markdown",
   "metadata": {},
   "source": [
    "## default_value"
   ]
  },
  {
   "cell_type": "code",
   "execution_count": null,
   "metadata": {
    "dotnet_interactive": {
     "language": "spiral"
    },
    "polyglot_notebook": {
     "kernelName": "spiral"
    }
   },
   "outputs": [
    {
     "name": "stdout",
     "output_type": "stream",
     "text": [
      "()\n",
      "\r\n"
     ]
    }
   ],
   "source": [
    "inl default_value d =\n",
    "    optionm.defaultWith d"
   ]
  },
  {
   "cell_type": "code",
   "execution_count": null,
   "metadata": {
    "dotnet_interactive": {
     "language": "spiral"
    },
    "polyglot_notebook": {
     "kernelName": "spiral"
    }
   },
   "outputs": [
    {
     "name": "stdout",
     "output_type": "stream",
     "text": [
      "let rec method0 () : unit =\n",
      "    let v0 : string = $\"%A{3}\"\n",
      "    System.Console.WriteLine v0\n",
      "    let v1 : string = $\"__expect / actual: %A{3} / expected: %A{3}\"\n",
      "    ()\n",
      "method0()\n",
      "\r\n",
      "3\r\n"
     ]
    }
   ],
   "source": [
    "// // test\n",
    "\n",
    "None\n",
    "|> default_value 3i32\n",
    "|> _assert_eq 3i32"
   ]
  },
  {
   "cell_type": "markdown",
   "metadata": {},
   "source": [
    "## (/??)"
   ]
  },
  {
   "cell_type": "code",
   "execution_count": null,
   "metadata": {
    "dotnet_interactive": {
     "language": "spiral"
    },
    "polyglot_notebook": {
     "kernelName": "spiral"
    }
   },
   "outputs": [
    {
     "name": "stdout",
     "output_type": "stream",
     "text": [
      "()\n",
      "\r\n"
     ]
    }
   ],
   "source": [
    "inl (/??) a b =\n",
    "    a |> default_value b"
   ]
  },
  {
   "cell_type": "code",
   "execution_count": null,
   "metadata": {
    "dotnet_interactive": {
     "language": "spiral"
    },
    "polyglot_notebook": {
     "kernelName": "spiral"
    }
   },
   "outputs": [
    {
     "name": "stdout",
     "output_type": "stream",
     "text": [
      "let rec method0 () : unit =\n",
      "    let v0 : string = $\"%A{3}\"\n",
      "    System.Console.WriteLine v0\n",
      "    let v1 : string = $\"__expect / actual: %A{3} / expected: %A{3}\"\n",
      "    ()\n",
      "method0()\n",
      "\r\n",
      "3\r\n"
     ]
    }
   ],
   "source": [
    "// // test\n",
    "\n",
    "None /?? 3i32\n",
    "|> _assert_eq 3i32"
   ]
  },
  {
   "cell_type": "markdown",
   "metadata": {},
   "source": [
    "## default_with"
   ]
  },
  {
   "cell_type": "code",
   "execution_count": null,
   "metadata": {
    "dotnet_interactive": {
     "language": "spiral"
    },
    "polyglot_notebook": {
     "kernelName": "spiral"
    }
   },
   "outputs": [
    {
     "name": "stdout",
     "output_type": "stream",
     "text": [
      "()\n",
      "\r\n"
     ]
    }
   ],
   "source": [
    "inl default_with fn = function\n",
    "    | Some x => x\n",
    "    | None => fn ()"
   ]
  },
  {
   "cell_type": "code",
   "execution_count": null,
   "metadata": {
    "dotnet_interactive": {
     "language": "spiral"
    },
    "polyglot_notebook": {
     "kernelName": "spiral"
    }
   },
   "outputs": [
    {
     "name": "stdout",
     "output_type": "stream",
     "text": [
      "let rec method0 () : unit =\n",
      "    let v0 : string = $\"%A{3}\"\n",
      "    System.Console.WriteLine v0\n",
      "    let v1 : string = $\"__expect / actual: %A{3} / expected: %A{3}\"\n",
      "    ()\n",
      "method0()\n",
      "\r\n",
      "3\r\n"
     ]
    }
   ],
   "source": [
    "// // test\n",
    "\n",
    "None\n",
    "|> default_with fun () => 3i32\n",
    "|> _assert_eq 3i32"
   ]
  },
  {
   "cell_type": "markdown",
   "metadata": {},
   "source": [
    "## choose"
   ]
  },
  {
   "cell_type": "code",
   "execution_count": null,
   "metadata": {
    "dotnet_interactive": {
     "language": "spiral"
    },
    "polyglot_notebook": {
     "kernelName": "spiral"
    }
   },
   "outputs": [
    {
     "name": "stdout",
     "output_type": "stream",
     "text": [
      "()\n",
      "\r\n"
     ]
    }
   ],
   "source": [
    "inl choose fn a b =\n",
    "    match a, b with\n",
    "    | Some x, Some y => fn x y |> Some\n",
    "    | _ => None"
   ]
  },
  {
   "cell_type": "code",
   "execution_count": null,
   "metadata": {
    "dotnet_interactive": {
     "language": "spiral"
    },
    "polyglot_notebook": {
     "kernelName": "spiral"
    }
   },
   "outputs": [
    {
     "name": "stdout",
     "output_type": "stream",
     "text": [
      "type [<Struct>] US0 =\n",
      "    | US0_0 of f0_0 : int32\n",
      "    | US0_1\n",
      "let rec method0 () : unit =\n",
      "    let v0 : US0 = US0_0(5)\n",
      "    let v1 : string = $\"%A{v0}\"\n",
      "    System.Console.WriteLine v1\n",
      "    let v5 : US0 = US0_0(5)\n",
      "    let v6 : US0 = US0_0(5)\n",
      "    let v7 : string = $\"__expect / actual: %A{v5} / expected: %A{v6}\"\n",
      "    ()\n",
      "method0()\n",
      "\r\n",
      "US0_0 5\r\n"
     ]
    }
   ],
   "source": [
    "// // test\n",
    "\n",
    "(Some 2i32, Some 3)\n",
    "||> choose (+)\n",
    "|> _assert_eq (Some 5)"
   ]
  },
  {
   "cell_type": "markdown",
   "metadata": {},
   "source": [
    "## iter"
   ]
  },
  {
   "cell_type": "code",
   "execution_count": null,
   "metadata": {
    "dotnet_interactive": {
     "language": "spiral"
    },
    "polyglot_notebook": {
     "kernelName": "spiral"
    }
   },
   "outputs": [
    {
     "name": "stdout",
     "output_type": "stream",
     "text": [
      "()\n",
      "\r\n"
     ]
    }
   ],
   "source": [
    "inl iter fn = function\n",
    "    | Some x => fn x\n",
    "    | None => ()"
   ]
  },
  {
   "cell_type": "code",
   "execution_count": null,
   "metadata": {
    "dotnet_interactive": {
     "language": "spiral"
    },
    "polyglot_notebook": {
     "kernelName": "spiral"
    }
   },
   "outputs": [
    {
     "name": "stdout",
     "output_type": "stream",
     "text": [
      "type Mut0 = {mutable l0 : int32}\n",
      "let rec method1 (v0 : bool) : bool =\n",
      "    v0\n",
      "and method0 () : unit =\n",
      "    let v0 : Mut0 = {l0 = 1} : Mut0\n",
      "    let v1 : int32 = v0.l0\n",
      "    let v2 : int32 = v1 + 1\n",
      "    v0.l0 <- v2\n",
      "    let v3 : int32 = v0.l0\n",
      "    let v4 : string = $\"%A{v3}\"\n",
      "    System.Console.WriteLine v4\n",
      "    let v5 : bool = v3 = 2\n",
      "    let v7 : bool =\n",
      "        if v5 then\n",
      "            true\n",
      "        else\n",
      "            method1(v5)\n",
      "    let v8 : string = $\"__expect / actual: %A{v3} / expected: %A{2}\"\n",
      "    let v9 : bool = v7 = false\n",
      "    if v9 then\n",
      "        failwith<unit> v8\n",
      "method0()\n",
      "\r\n",
      "2\r\n"
     ]
    }
   ],
   "source": [
    "// // test\n",
    "\n",
    "inl n = mut 1i32\n",
    "inl fn =\n",
    "    fun n' =>\n",
    "        n <- *n + n'\n",
    "Some 1i32 |> iter fn\n",
    "None |> iter fn\n",
    "*n\n",
    "|> _assert_eq 2i32"
   ]
  },
  {
   "cell_type": "markdown",
   "metadata": {},
   "source": [
    "## option'"
   ]
  },
  {
   "cell_type": "code",
   "execution_count": null,
   "metadata": {
    "dotnet_interactive": {
     "language": "spiral"
    },
    "polyglot_notebook": {
     "kernelName": "spiral"
    }
   },
   "outputs": [
    {
     "name": "stdout",
     "output_type": "stream",
     "text": [
      "()\n",
      "\r\n"
     ]
    }
   ],
   "source": [
    "nominal option' t = $\"`t option\""
   ]
  },
  {
   "cell_type": "markdown",
   "metadata": {},
   "source": [
    "## none'"
   ]
  },
  {
   "cell_type": "code",
   "execution_count": null,
   "metadata": {
    "dotnet_interactive": {
     "language": "spiral"
    },
    "polyglot_notebook": {
     "kernelName": "spiral"
    }
   },
   "outputs": [
    {
     "name": "stdout",
     "output_type": "stream",
     "text": [
      "()\n",
      "\r\n"
     ]
    }
   ],
   "source": [
    "inl none' forall t. () : option' t =\n",
    "    $'None'"
   ]
  },
  {
   "cell_type": "code",
   "execution_count": null,
   "metadata": {
    "dotnet_interactive": {
     "language": "spiral"
    },
    "polyglot_notebook": {
     "kernelName": "spiral"
    }
   },
   "outputs": [
    {
     "name": "stdout",
     "output_type": "stream",
     "text": [
      "()\n",
      "\r\n"
     ]
    }
   ],
   "source": [
    "inl some' forall t. (x : t) : option' t =\n",
    "    $'Some !x '"
   ]
  },
  {
   "cell_type": "markdown",
   "metadata": {},
   "source": [
    "## map"
   ]
  },
  {
   "cell_type": "code",
   "execution_count": null,
   "metadata": {
    "dotnet_interactive": {
     "language": "spiral"
    },
    "polyglot_notebook": {
     "kernelName": "spiral"
    }
   },
   "outputs": [
    {
     "name": "stdout",
     "output_type": "stream",
     "text": [
      "()\n",
      "\r\n"
     ]
    }
   ],
   "source": [
    "inl map forall t u. (fn : t -> u) (x : option' t) : option' u =\n",
    "    $'!x |> Option.map !fn '"
   ]
  },
  {
   "cell_type": "markdown",
   "metadata": {},
   "source": [
    "## default_value'"
   ]
  },
  {
   "cell_type": "code",
   "execution_count": null,
   "metadata": {
    "dotnet_interactive": {
     "language": "spiral"
    },
    "polyglot_notebook": {
     "kernelName": "spiral"
    }
   },
   "outputs": [
    {
     "name": "stdout",
     "output_type": "stream",
     "text": [
      "()\n",
      "\r\n"
     ]
    }
   ],
   "source": [
    "inl default_value' forall t. (value : t) (x : option' t) : t =\n",
    "    $'!x |> Option.defaultValue !value '"
   ]
  },
  {
   "cell_type": "markdown",
   "metadata": {},
   "source": [
    "## unbox"
   ]
  },
  {
   "cell_type": "code",
   "execution_count": null,
   "metadata": {
    "dotnet_interactive": {
     "language": "spiral"
    },
    "polyglot_notebook": {
     "kernelName": "spiral"
    }
   },
   "outputs": [
    {
     "name": "stdout",
     "output_type": "stream",
     "text": [
      "()\n",
      "\r\n"
     ]
    }
   ],
   "source": [
    "inl unbox forall t. (x : option' t) : option t =\n",
    "    // x\n",
    "    // |> map Some\n",
    "    // |> default_value' None\n",
    "    inl some x : option t = Some x\n",
    "    inl some = join some\n",
    "    inl none : option t = None\n",
    "    $'!x |> Option.map !some |> Option.defaultValue !none '"
   ]
  },
  {
   "cell_type": "markdown",
   "metadata": {},
   "source": [
    "## box"
   ]
  },
  {
   "cell_type": "code",
   "execution_count": null,
   "metadata": {
    "dotnet_interactive": {
     "language": "spiral"
    },
    "polyglot_notebook": {
     "kernelName": "spiral"
    }
   },
   "outputs": [
    {
     "name": "stdout",
     "output_type": "stream",
     "text": [
      "()\n",
      "\r\n"
     ]
    }
   ],
   "source": [
    "inl box forall t. (x : option t) : option' t =\n",
    "    // x\n",
    "    // |> optionm.map some'\n",
    "    // |> default_with none'\n",
    "    match x with\n",
    "    | Some x => some' x\n",
    "    | None => none' ()"
   ]
  },
  {
   "cell_type": "code",
   "execution_count": null,
   "metadata": {
    "dotnet_interactive": {
     "language": "spiral"
    },
    "polyglot_notebook": {
     "kernelName": "spiral"
    }
   },
   "outputs": [
    {
     "name": "stdout",
     "output_type": "stream",
     "text": [
      "type [<Struct>] US0 =\n",
      "    | US0_0 of f0_0 : int32\n",
      "    | US0_1\n",
      "let rec closure0 () (v0 : int32) : US0 =\n",
      "    US0_0(v0)\n",
      "and method1 () : (int32 -> US0) =\n",
      "    closure0()\n",
      "and method2 (v0 : bool) : bool =\n",
      "    v0\n",
      "and method0 () : unit =\n",
      "    let v0 : int32 option = Some 3 \n",
      "    let v1 : (int32 -> US0) = method1()\n",
      "    let v2 : US0 = US0_1\n",
      "    let v3 : US0 = v0 |> Option.map v1 |> Option.defaultValue v2 \n",
      "    let v4 : int32 option = None\n",
      "    let v5 : (int32 -> US0) = method1()\n",
      "    let v6 : US0 = US0_1\n",
      "    let v7 : US0 = v4 |> Option.map v5 |> Option.defaultValue v6 \n",
      "    let v8 : string = $\"%A{struct (v3, v7)}\"\n",
      "    System.Console.WriteLine v8\n",
      "    let v13 : bool =\n",
      "        match v3 with\n",
      "        | US0_0(v11) -> (* Some *)\n",
      "            let v12 : bool = v11 = 3\n",
      "            v12\n",
      "        | _ ->\n",
      "            false\n",
      "    let v15 : bool =\n",
      "        if v13 then\n",
      "            match v7 with\n",
      "            | US0_1 -> (* None *)\n",
      "                true\n",
      "            | _ ->\n",
      "                false\n",
      "        else\n",
      "            false\n",
      "    let v17 : bool =\n",
      "        if v15 then\n",
      "            true\n",
      "        else\n",
      "            method2(v15)\n",
      "    let v18 : US0 = US0_0(3)\n",
      "    let v19 : US0 = US0_1\n",
      "    let v20 : string = $\"__expect / actual: %A{struct (v3, v7)} / expected: %A{struct (v18, v19)}\"\n",
      "    let v21 : bool = v17 = false\n",
      "    if v21 then\n",
      "        failwith<unit> v20\n",
      "method0()\n",
      "\r\n",
      "struct (US0_0 3, US0_1)\r\n"
     ]
    }
   ],
   "source": [
    "// // test\n",
    "\n",
    "inl x = Some 3i32\n",
    "inl y : option i32 = None\n",
    "inl x' = x |> box |> unbox\n",
    "inl y' = y |> box |> unbox\n",
    "(x', y') |> _assert_eq (x, y)"
   ]
  },
  {
   "cell_type": "markdown",
   "metadata": {},
   "source": [
    "## of_obj"
   ]
  },
  {
   "cell_type": "code",
   "execution_count": null,
   "metadata": {
    "dotnet_interactive": {
     "language": "spiral"
    },
    "polyglot_notebook": {
     "kernelName": "spiral"
    }
   },
   "outputs": [
    {
     "name": "stdout",
     "output_type": "stream",
     "text": [
      "()\n",
      "\r\n"
     ]
    }
   ],
   "source": [
    "inl of_obj forall t. (x : t) : option' t =\n",
    "    ($\"true in let mutable _!x = None\" : bool) |> ignore\n",
    "    $\"#if \\!FABLE_COMPILER && \\!WASM && \\!CONTRACT\"\n",
    "    ((x |> $'Option.ofObj') : option' t)\n",
    "    |> fun x => $'!x '\n",
    "    $\"#else\"\n",
    "    $'Some !x '\n",
    "    $\"#endif\"\n",
    "    $\"|> fun x -> _!x <- Some x\"\n",
    "    $'_!x.Value'"
   ]
  },
  {
   "cell_type": "code",
   "execution_count": null,
   "metadata": {
    "dotnet_interactive": {
     "language": "spiral"
    },
    "polyglot_notebook": {
     "kernelName": "spiral"
    }
   },
   "outputs": [
    {
     "name": "stdout",
     "output_type": "stream",
     "text": [
      "type [<Struct>] US0 =\n",
      "    | US0_0 of f0_0 : string\n",
      "    | US0_1\n",
      "let rec closure0 () (v0 : string) : US0 =\n",
      "    US0_0(v0)\n",
      "and method1 () : (string -> US0) =\n",
      "    closure0()\n",
      "and method2 (v0 : bool) : bool =\n",
      "    v0\n",
      "and method0 () : unit =\n",
      "    let v0 : string = null |> unbox<string>\n",
      "    let v1 : bool = true in let mutable _v0 = None\n",
      "    #if !FABLE_COMPILER && !WASM && !CONTRACT\n",
      "    let v2 : (string -> string option) = Option.ofObj\n",
      "    let v3 : string option = v2 v0\n",
      "    v3 \n",
      "    #else\n",
      "    Some v0 \n",
      "    #endif\n",
      "    |> fun x -> _v0 <- Some x\n",
      "    let v4 : string option = _v0.Value\n",
      "    let v5 : (string -> US0) = method1()\n",
      "    let v6 : US0 = US0_1\n",
      "    let v7 : US0 = v4 |> Option.map v5 |> Option.defaultValue v6 \n",
      "    let v8 : string = $\"%A{v7}\"\n",
      "    System.Console.WriteLine v8\n",
      "    let v10 : bool =\n",
      "        match v7 with\n",
      "        | US0_1 -> (* None *)\n",
      "            true\n",
      "        | _ ->\n",
      "            false\n",
      "    let v12 : bool =\n",
      "        if v10 then\n",
      "            true\n",
      "        else\n",
      "            method2(v10)\n",
      "    let v13 : US0 = US0_1\n",
      "    let v14 : string = $\"__expect / actual: %A{v7} / expected: %A{v13}\"\n",
      "    let v15 : bool = v12 = false\n",
      "    if v15 then\n",
      "        failwith<unit> v14\n",
      "method0()\n",
      "\r\n",
      "US0_1\r\n"
     ]
    }
   ],
   "source": [
    "// // test\n",
    "\n",
    "null ()\n",
    "|> of_obj\n",
    "|> unbox\n",
    "|> _assert_eq (None : option string)"
   ]
  },
  {
   "cell_type": "code",
   "execution_count": null,
   "metadata": {
    "dotnet_interactive": {
     "language": "spiral"
    },
    "polyglot_notebook": {
     "kernelName": "spiral"
    }
   },
   "outputs": [
    {
     "data": {
      "text/plain": [
       ".rs output:\n",
       "11:10:35 \u001B[94mdebug  \u001B[39m #1 test\n",
       "\n",
       "\n"
      ]
     },
     "metadata": {},
     "output_type": "display_data"
    },
    {
     "name": "stdout",
     "output_type": "stream",
     "text": [
      ".fsx:\n",
      "type [<Struct>] US0 =\n",
      "    | US0_0 of f0_0 : string\n",
      "    | US0_1\n",
      "let rec closure0 () (v0 : string) : US0 =\n",
      "    US0_0(v0)\n",
      "and method1 () : (string -> US0) =\n",
      "    closure0()\n",
      "and method2 (v0 : bool) : bool =\n",
      "    v0\n",
      "and method0 () : unit =\n",
      "    let v0 : string = \"\"\n",
      "    let v1 : bool = true in let mutable _v0 = None\n",
      "    #if !FABLE_COMPILER && !WASM && !CONTRACT\n",
      "    let v2 : (string -> string option) = Option.ofObj\n",
      "    let v3 : string option = v2 v0\n",
      "    v3 \n",
      "    #else\n",
      "    Some v0 \n",
      "    #endif\n",
      "    |> fun x -> _v0 <- Some x\n",
      "    let v4 : string option = _v0.Value\n",
      "    let v5 : (string -> US0) = method1()\n",
      "    let v6 : US0 = US0_1\n",
      "    let v7 : US0 = v4 |> Option.map v5 |> Option.defaultValue v6 \n",
      "    let v8 : string = $\"%A{v7}\"\n",
      "    System.Console.WriteLine v8\n",
      "    let v9 : US0 = US0_0(v0)\n",
      "    let v10 : bool = v7 = v9\n",
      "    let v12 : bool =\n",
      "        if v10 then\n",
      "            true\n",
      "        else\n",
      "            method2(v10)\n",
      "    let v13 : US0 = US0_0(v0)\n",
      "    let v14 : string = $\"__expect / actual: %A{v7} / expected: %A{v13}\"\n",
      "    let v15 : bool = v12 = false\n",
      "    if v15 then\n",
      "        failwith<unit> v14\n",
      "method0()\n",
      "\n",
      "\r\n",
      ".rs:\n",
      "#![allow(dead_code)]\n",
      "#![allow(non_camel_case_types)]\n",
      "#![allow(non_snake_case)]\n",
      "#![allow(non_upper_case_globals)]\n",
      "#![allow(unreachable_code)]\n",
      "#![allow(unused_attributes)]\n",
      "#![allow(unused_imports)]\n",
      "#![allow(unused_macros)]\n",
      "#![allow(unused_parens)]\n",
      "#![allow(unused_variables)]\n",
      "mod module_ccfa04bf {\n",
      "    pub mod Spiral_eval {\n",
      "        use super::*;\n",
      "        use fable_library_rust::DateTime_::DateTime;\n",
      "        use fable_library_rust::Interfaces_::System::Collections::Generic::IEnumerable_1;\n",
      "        use fable_library_rust::List_::ofArray;\n",
      "        use fable_library_rust::Map_::find;\n",
      "        use fable_library_rust::Map_::ofSeq;\n",
      "        use fable_library_rust::NativeArray_::new_array;\n",
      "        use fable_library_rust::NativeArray_::new_empty;\n",
      "        use fable_library_rust::Native_::on_startup;\n",
      "        use fable_library_rust::Native_::Func0;\n",
      "        use fable_library_rust::Native_::Func1;\n",
      "        use fable_library_rust::Native_::LrcPtr;\n",
      "        use fable_library_rust::Native_::MutCell;\n",
      "        use fable_library_rust::Option_::defaultValue;\n",
      "        use fable_library_rust::Option_::getValue;\n",
      "        use fable_library_rust::Option_::map;\n",
      "        use fable_library_rust::Seq_::ofList;\n",
      "        use fable_library_rust::String_::padRight;\n",
      "        use fable_library_rust::String_::sprintf;\n",
      "        use fable_library_rust::String_::string;\n",
      "        use fable_library_rust::String_::toLower;\n",
      "        use fable_library_rust::String_::trimEndChars;\n",
      "        use fable_library_rust::String_::trimStartChars;\n",
      "        use fable_library_rust::TimeSpan_::TimeSpan;\n",
      "        pub mod State {\n",
      "            use super::*;\n",
      "            use fable_library_rust::Native_::OnceInit;\n",
      "            pub fn trace_state() -> LrcPtr<\n",
      "                MutCell<\n",
      "                    Option<(\n",
      "                        LrcPtr<Spiral_eval::Mut0>,\n",
      "                        LrcPtr<Spiral_eval::Mut1>,\n",
      "                        LrcPtr<Spiral_eval::Mut2>,\n",
      "                        Option<i64>,\n",
      "                        LrcPtr<Spiral_eval::Mut3>,\n",
      "                    )>,\n",
      "                >,\n",
      "            > {\n",
      "                static trace_state: OnceInit<\n",
      "                    LrcPtr<\n",
      "                        MutCell<\n",
      "                            Option<(\n",
      "                                LrcPtr<Spiral_eval::Mut0>,\n",
      "                                LrcPtr<Spiral_eval::Mut1>,\n",
      "                                LrcPtr<Spiral_eval::Mut2>,\n",
      "                                Option<i64>,\n",
      "                                LrcPtr<Spiral_eval::Mut3>,\n",
      "                            )>,\n",
      "                        >,\n",
      "                    >,\n",
      "                > = OnceInit::new();\n",
      "                trace_state\n",
      "                    .get_or_init(|| {\n",
      "                        LrcPtr::new(MutCell::new(\n",
      "                            None::<(\n",
      "                                LrcPtr<Spiral_eval::Mut0>,\n",
      "                                LrcPtr<Spiral_eval::Mut1>,\n",
      "                                LrcPtr<Spiral_eval::Mut2>,\n",
      "                                Option<i64>,\n",
      "                                LrcPtr<Spiral_eval::Mut3>,\n",
      "                            )>,\n",
      "                        ))\n",
      "                    })\n",
      "                    .clone()\n",
      "            }\n",
      "        }\n",
      "        #[derive(Clone, Copy, Debug, PartialEq, PartialOrd, Hash, Eq)]\n",
      "        pub enum US0 {\n",
      "            US0_0,\n",
      "            US0_1,\n",
      "            US0_2,\n",
      "            US0_3,\n",
      "            US0_4,\n",
      "        }\n",
      "        impl Spiral_eval::US0 {\n",
      "            pub fn get_IsUS0_0(this_: &MutCell<Spiral_eval::US0>, unitArg: ()) -> bool {\n",
      "                if unreachable!() {\n",
      "                    true\n",
      "                } else {\n",
      "                    false\n",
      "                }\n",
      "            }\n",
      "            pub fn get_IsUS0_1(this_: &MutCell<Spiral_eval::US0>, unitArg: ()) -> bool {\n",
      "                if unreachable!() {\n",
      "                    true\n",
      "                } else {\n",
      "                    false\n",
      "                }\n",
      "            }\n",
      "            pub fn get_IsUS0_2(this_: &MutCell<Spiral_eval::US0>, unitArg: ()) -> bool {\n",
      "                if unreachable!() {\n",
      "                    true\n",
      "                } else {\n",
      "                    false\n",
      "                }\n",
      "            }\n",
      "            pub fn get_IsUS0_3(this_: &MutCell<Spiral_eval::US0>, unitArg: ()) -> bool {\n",
      "                if unreachable!() {\n",
      "                    true\n",
      "                } else {\n",
      "                    false\n",
      "                }\n",
      "            }\n",
      "            pub fn get_IsUS0_4(this_: &MutCell<Spiral_eval::US0>, unitArg: ()) -> bool {\n",
      "                if unreachable!() {\n",
      "                    true\n",
      "                } else {\n",
      "                    false\n",
      "                }\n",
      "            }\n",
      "        }\n",
      "        impl core::fmt::Display for Spiral_eval::US0 {\n",
      "            fn fmt(&self, f: &mut core::fmt::Formatter) -> core::fmt::Result {\n",
      "                write!(f, \"{}\", core::any::type_name::<Self>())\n",
      "            }\n",
      "        }\n",
      "        #[derive(Clone, Debug, Default, PartialEq, PartialOrd, Hash, Eq)]\n",
      "        pub struct Mut0 {\n",
      "            pub l0: MutCell<i64>,\n",
      "        }\n",
      "        impl core::fmt::Display for Spiral_eval::Mut0 {\n",
      "            fn fmt(&self, f: &mut core::fmt::Formatter) -> core::fmt::Result {\n",
      "                write!(f, \"{}\", core::any::type_name::<Self>())\n",
      "            }\n",
      "        }\n",
      "        #[derive(Clone, Debug, Default, PartialEq, PartialOrd, Hash, Eq)]\n",
      "        pub struct Mut1 {\n",
      "            pub l0: MutCell<bool>,\n",
      "        }\n",
      "        impl core::fmt::Display for Spiral_eval::Mut1 {\n",
      "            fn fmt(&self, f: &mut core::fmt::Formatter) -> core::fmt::Result {\n",
      "                write!(f, \"{}\", core::any::type_name::<Self>())\n",
      "            }\n",
      "        }\n",
      "        #[derive(Clone, Debug, PartialEq, PartialOrd, Hash, Eq)]\n",
      "        pub struct Mut2 {\n",
      "            pub l0: MutCell<Spiral_eval::US0>,\n",
      "        }\n",
      "        impl core::fmt::Display for Spiral_eval::Mut2 {\n",
      "            fn fmt(&self, f: &mut core::fmt::Formatter) -> core::fmt::Result {\n",
      "                write!(f, \"{}\", core::any::type_name::<Self>())\n",
      "            }\n",
      "        }\n",
      "        #[derive(Clone, Debug)]\n",
      "        pub struct Mut3 {\n",
      "            pub l0: MutCell<Func1<string, ()>>,\n",
      "        }\n",
      "        impl core::fmt::Display for Spiral_eval::Mut3 {\n",
      "            fn fmt(&self, f: &mut core::fmt::Formatter) -> core::fmt::Result {\n",
      "                write!(f, \"{}\", core::any::type_name::<Self>())\n",
      "            }\n",
      "        }\n",
      "        #[derive(Clone, Copy, Debug, PartialEq, PartialOrd, Hash, Eq)]\n",
      "        pub enum US1 {\n",
      "            US1_0(i64),\n",
      "            US1_1,\n",
      "        }\n",
      "        impl Spiral_eval::US1 {\n",
      "            pub fn get_IsUS1_0(this_: &MutCell<Spiral_eval::US1>, unitArg: ()) -> bool {\n",
      "                if unreachable!() {\n",
      "                    true\n",
      "                } else {\n",
      "                    false\n",
      "                }\n",
      "            }\n",
      "            pub fn get_IsUS1_1(this_: &MutCell<Spiral_eval::US1>, unitArg: ()) -> bool {\n",
      "                if unreachable!() {\n",
      "                    true\n",
      "                } else {\n",
      "                    false\n",
      "                }\n",
      "            }\n",
      "        }\n",
      "        impl core::fmt::Display for Spiral_eval::US1 {\n",
      "            fn fmt(&self, f: &mut core::fmt::Formatter) -> core::fmt::Result {\n",
      "                write!(f, \"{}\", core::any::type_name::<Self>())\n",
      "            }\n",
      "        }\n",
      "        #[derive(Clone, Copy, Debug, PartialEq, PartialOrd, Hash, Eq)]\n",
      "        pub enum US2 {\n",
      "            US2_0(i64),\n",
      "            US2_1,\n",
      "        }\n",
      "        impl Spiral_eval::US2 {\n",
      "            pub fn get_IsUS2_0(this_: &MutCell<Spiral_eval::US2>, unitArg: ()) -> bool {\n",
      "                if unreachable!() {\n",
      "                    true\n",
      "                } else {\n",
      "                    false\n",
      "                }\n",
      "            }\n",
      "            pub fn get_IsUS2_1(this_: &MutCell<Spiral_eval::US2>, unitArg: ()) -> bool {\n",
      "                if unreachable!() {\n",
      "                    true\n",
      "                } else {\n",
      "                    false\n",
      "                }\n",
      "            }\n",
      "        }\n",
      "        impl core::fmt::Display for Spiral_eval::US2 {\n",
      "            fn fmt(&self, f: &mut core::fmt::Formatter) -> core::fmt::Result {\n",
      "                write!(f, \"{}\", core::any::type_name::<Self>())\n",
      "            }\n",
      "        }\n",
      "        pub fn closure0(unitVar: (), unitVar_1: ()) -> string {\n",
      "            string(\"test\")\n",
      "        }\n",
      "        pub fn closure1(unitVar: (), unitVar_1: ()) -> string {\n",
      "            string(\"\")\n",
      "        }\n",
      "        pub fn closure4(unitVar: (), v0: string) {\n",
      "            ();\n",
      "        }\n",
      "        pub fn method2(v0: Option<i64>) -> Option<i64> {\n",
      "            v0\n",
      "        }\n",
      "        pub fn method3(v0: Option<i64>) -> Option<i64> {\n",
      "            v0\n",
      "        }\n",
      "        pub fn closure3(\n",
      "            unitVar: (),\n",
      "            unitVar_1: (),\n",
      "        ) -> (\n",
      "            LrcPtr<Spiral_eval::Mut0>,\n",
      "            LrcPtr<Spiral_eval::Mut1>,\n",
      "            LrcPtr<Spiral_eval::Mut2>,\n",
      "            Option<i64>,\n",
      "            LrcPtr<Spiral_eval::Mut3>,\n",
      "        ) {\n",
      "            let v0: LrcPtr<Spiral_eval::Mut1> = LrcPtr::new(Spiral_eval::Mut1 {\n",
      "                l0: MutCell::new(true),\n",
      "            });\n",
      "            let v1: LrcPtr<Spiral_eval::Mut0> = LrcPtr::new(Spiral_eval::Mut0 {\n",
      "                l0: MutCell::new(0_i64),\n",
      "            });\n",
      "            let v3: LrcPtr<Spiral_eval::Mut2> = LrcPtr::new(Spiral_eval::Mut2 {\n",
      "                l0: MutCell::new(Spiral_eval::US0::US0_0),\n",
      "            });\n",
      "            let v5: LrcPtr<Spiral_eval::Mut3> = LrcPtr::new(Spiral_eval::Mut3 {\n",
      "                l0: MutCell::new(Func1::new(move |v: string| Spiral_eval::closure4((), v))),\n",
      "            });\n",
      "            let _v6: MutCell<Option<Option<i64>>> = MutCell::new(None::<Option<i64>>);\n",
      "            {\n",
      "                let x: Option<i64> = Spiral_eval::method3(None::<i64>);\n",
      "                _v6.set(Some(x))\n",
      "            }\n",
      "            (v1, v0, v3, getValue(_v6.get().clone()), v5)\n",
      "        }\n",
      "        pub fn closure5(unitVar: (), v0: i64) -> Spiral_eval::US2 {\n",
      "            Spiral_eval::US2::US2_0(v0)\n",
      "        }\n",
      "        pub fn method4() -> Func1<i64, Spiral_eval::US2> {\n",
      "            Func1::new(move |v: i64| Spiral_eval::closure5((), v))\n",
      "        }\n",
      "        pub fn method5() -> string {\n",
      "            string(\"\")\n",
      "        }\n",
      "        pub fn closure2(\n",
      "            v0: Spiral_eval::US0,\n",
      "            v1: Func0<string>,\n",
      "            v2: Func0<string>,\n",
      "            unitVar: (),\n",
      "        ) -> string {\n",
      "            if Spiral_eval::State::trace_state().get().clone().is_none() {\n",
      "                Spiral_eval::State::trace_state().set(Some(Spiral_eval::closure3((), ())));\n",
      "            }\n",
      "            {\n",
      "                let patternInput: (\n",
      "                    LrcPtr<Spiral_eval::Mut0>,\n",
      "                    LrcPtr<Spiral_eval::Mut1>,\n",
      "                    LrcPtr<Spiral_eval::Mut2>,\n",
      "                    Option<i64>,\n",
      "                    LrcPtr<Spiral_eval::Mut3>,\n",
      "                ) = getValue(Spiral_eval::State::trace_state().get().clone());\n",
      "                let _v9: MutCell<Option<string>> = MutCell::new(None::<string>);\n",
      "                let v13: Spiral_eval::US2 = defaultValue(\n",
      "                    Spiral_eval::US2::US2_1,\n",
      "                    map(Spiral_eval::method4(), patternInput.3.clone()),\n",
      "                );\n",
      "                let v31: DateTime = match &v13 {\n",
      "                    Spiral_eval::US2::US2_0(v13_0_0) => {\n",
      "                        let v19: TimeSpan = TimeSpan::new_ticks(\n",
      "                            {\n",
      "                                let _arg: DateTime = DateTime::now();\n",
      "                                _arg.ticks()\n",
      "                            } - match &v13 {\n",
      "                                Spiral_eval::US2::US2_0(x) => x.clone(),\n",
      "                                _ => unreachable!(),\n",
      "                            },\n",
      "                        );\n",
      "                        DateTime::new_ymdhms_milli(\n",
      "                            1_i32,\n",
      "                            1_i32,\n",
      "                            1_i32,\n",
      "                            v19.hours(),\n",
      "                            v19.minutes(),\n",
      "                            v19.seconds(),\n",
      "                            v19.milliseconds(),\n",
      "                        )\n",
      "                    }\n",
      "                    _ => DateTime::now(),\n",
      "                };\n",
      "                {\n",
      "                    let x: string = v31.toString(string(\"hh:mm:ss\"));\n",
      "                    _v9.set(Some(x))\n",
      "                }\n",
      "                {\n",
      "                    let v61: string = getValue(_v9.get().clone());\n",
      "                    let v62: i64 = (patternInput.0.clone()).l0.get().clone();\n",
      "                    let v74: string = padRight(\n",
      "                        toLower(match &v0 {\n",
      "                            Spiral_eval::US0::US0_1 => string(\"Debug\"),\n",
      "                            Spiral_eval::US0::US0_2 => string(\"Info\"),\n",
      "                            Spiral_eval::US0::US0_0 => string(\"Verbose\"),\n",
      "                            Spiral_eval::US0::US0_3 => string(\"Warning\"),\n",
      "                            _ => string(\"Critical\"),\n",
      "                        }),\n",
      "                        7_i32,\n",
      "                        ' ',\n",
      "                    );\n",
      "                    let _v75: MutCell<Option<string>> = MutCell::new(None::<string>);\n",
      "                    let v91: &str = match &v0 {\n",
      "                        Spiral_eval::US0::US0_1 => inline_colorization::color_bright_blue,\n",
      "                        Spiral_eval::US0::US0_2 => inline_colorization::color_bright_green,\n",
      "                        Spiral_eval::US0::US0_0 => inline_colorization::color_bright_black,\n",
      "                        Spiral_eval::US0::US0_3 => inline_colorization::color_bright_yellow,\n",
      "                        _ => inline_colorization::color_bright_red,\n",
      "                    };\n",
      "                    let v93: &str = fable_library_rust::String_::LrcStr::as_str(&v74);\n",
      "                    let v95: &str = inline_colorization::color_reset;\n",
      "                    let v97: string = string(\"format!(\\\"{v91}{v93}{v95}\\\")\");\n",
      "                    let v98: std::string::String = format!(\"{v91}{v93}{v95}\");\n",
      "                    {\n",
      "                        let x_1: string = fable_library_rust::String_::fromString(v98);\n",
      "                        _v75.set(Some(x_1))\n",
      "                    }\n",
      "                    trimEndChars(\n",
      "                        trimStartChars(\n",
      "                            sprintf!(\n",
      "                                \"{} {} #{} {} / {}\",\n",
      "                                v61,\n",
      "                                getValue(_v75.get().clone()),\n",
      "                                v62,\n",
      "                                v1(),\n",
      "                                v2()\n",
      "                            ),\n",
      "                            new_empty::<char>(),\n",
      "                        ),\n",
      "                        new_array(&[' ', '/']),\n",
      "                    )\n",
      "                }\n",
      "            }\n",
      "        }\n",
      "        pub fn method6(v0: Spiral_eval::US0, v1: Func0<string>) {\n",
      "            fn v2() -> (\n",
      "                LrcPtr<Spiral_eval::Mut0>,\n",
      "                LrcPtr<Spiral_eval::Mut1>,\n",
      "                LrcPtr<Spiral_eval::Mut2>,\n",
      "                Option<i64>,\n",
      "                LrcPtr<Spiral_eval::Mut3>,\n",
      "            ) {\n",
      "                Spiral_eval::closure3((), ())\n",
      "            }\n",
      "            if Spiral_eval::State::trace_state().get().clone().is_none() {\n",
      "                Spiral_eval::State::trace_state().set(Some(v2()));\n",
      "            }\n",
      "            {\n",
      "                let patternInput: (\n",
      "                    LrcPtr<Spiral_eval::Mut0>,\n",
      "                    LrcPtr<Spiral_eval::Mut1>,\n",
      "                    LrcPtr<Spiral_eval::Mut2>,\n",
      "                    Option<i64>,\n",
      "                    LrcPtr<Spiral_eval::Mut3>,\n",
      "                ) = getValue(Spiral_eval::State::trace_state().get().clone());\n",
      "                let v3: LrcPtr<Spiral_eval::Mut0> = patternInput.0.clone();\n",
      "                if Spiral_eval::State::trace_state().get().clone().is_none() {\n",
      "                    Spiral_eval::State::trace_state().set(Some(v2()));\n",
      "                }\n",
      "                {\n",
      "                    let patternInput_1: (\n",
      "                        LrcPtr<Spiral_eval::Mut0>,\n",
      "                        LrcPtr<Spiral_eval::Mut1>,\n",
      "                        LrcPtr<Spiral_eval::Mut2>,\n",
      "                        Option<i64>,\n",
      "                        LrcPtr<Spiral_eval::Mut3>,\n",
      "                    ) = getValue(Spiral_eval::State::trace_state().get().clone());\n",
      "                    let v13: Spiral_eval::US0 = (patternInput_1.2.clone()).l0.get().clone();\n",
      "                    if if (patternInput_1.1.clone()).l0.get().clone() == false {\n",
      "                        false\n",
      "                    } else {\n",
      "                        find(\n",
      "                            v0,\n",
      "                            ofSeq(ofList(ofArray(new_array(&[\n",
      "                                LrcPtr::new((Spiral_eval::US0::US0_0, 0_i32)),\n",
      "                                LrcPtr::new((Spiral_eval::US0::US0_1, 1_i32)),\n",
      "                                LrcPtr::new((Spiral_eval::US0::US0_2, 2_i32)),\n",
      "                                LrcPtr::new((Spiral_eval::US0::US0_3, 3_i32)),\n",
      "                                LrcPtr::new((Spiral_eval::US0::US0_4, 4_i32)),\n",
      "                            ])))),\n",
      "                        ) >= find(\n",
      "                            v13,\n",
      "                            ofSeq(ofList(ofArray(new_array(&[\n",
      "                                LrcPtr::new((Spiral_eval::US0::US0_0, 0_i32)),\n",
      "                                LrcPtr::new((Spiral_eval::US0::US0_1, 1_i32)),\n",
      "                                LrcPtr::new((Spiral_eval::US0::US0_2, 2_i32)),\n",
      "                                LrcPtr::new((Spiral_eval::US0::US0_3, 3_i32)),\n",
      "                                LrcPtr::new((Spiral_eval::US0::US0_4, 4_i32)),\n",
      "                            ])))),\n",
      "                        )\n",
      "                    } {\n",
      "                        let v21: i64 = v3.l0.get().clone() + 1_i64;\n",
      "                        v3.l0.set(v21);\n",
      "                        {\n",
      "                            let v22: string = sprintf!(\"{}\", v1());\n",
      "                            let _v23: MutCell<Option<()>> = MutCell::new(None::<()>);\n",
      "                            println!(\"{}\", v22.clone());\n",
      "                            _v23.set(Some(()));\n",
      "                            getValue(_v23.get().clone());\n",
      "                            ((patternInput.4.clone()).l0.get().clone())(v22)\n",
      "                        }\n",
      "                    }\n",
      "                }\n",
      "            }\n",
      "        }\n",
      "        pub fn method1(v0: Spiral_eval::US0, v1: Func0<string>, v2: Func0<string>) {\n",
      "            Spiral_eval::method6(\n",
      "                v0.clone(),\n",
      "                Func0::new({\n",
      "                    let v0 = v0.clone();\n",
      "                    let v1 = v1.clone();\n",
      "                    let v2 = v2.clone();\n",
      "                    move || Spiral_eval::closure2(v0.clone(), v1.clone(), v2.clone(), ())\n",
      "                }),\n",
      "            );\n",
      "        }\n",
      "        pub fn method0() {\n",
      "            Spiral_eval::method1(\n",
      "                Spiral_eval::US0::US0_1,\n",
      "                Func0::new(move || Spiral_eval::closure0((), ())),\n",
      "                Func0::new(move || Spiral_eval::closure1((), ())),\n",
      "            );\n",
      "        }\n",
      "        on_startup!(Spiral_eval::method0());\n",
      "    }\n",
      "}\n",
      "pub use module_ccfa04bf::*;\n",
      "\r\n"
     ]
    }
   ],
   "source": [
    "// // test\n",
    "// // rust=\n",
    "\n",
    "\"\"\n",
    "|> of_obj\n",
    "|> unbox\n",
    "|> _assert_eq' (Some \"\")"
   ]
  },
  {
   "cell_type": "markdown",
   "metadata": {},
   "source": [
    "## try'"
   ]
  },
  {
   "cell_type": "code",
   "execution_count": null,
   "metadata": {
    "dotnet_interactive": {
     "language": "spiral"
    },
    "polyglot_notebook": {
     "kernelName": "spiral"
    }
   },
   "outputs": [
    {
     "name": "stdout",
     "output_type": "stream",
     "text": [
      "()\n",
      "\r\n"
     ]
    }
   ],
   "source": [
    "inl try' forall t. (x : option' t) : t =\n",
    "    !\\\\(x, $'\"$0?\"')"
   ]
  },
  {
   "cell_type": "markdown",
   "metadata": {},
   "source": [
    "## flatten"
   ]
  },
  {
   "cell_type": "code",
   "execution_count": null,
   "metadata": {
    "dotnet_interactive": {
     "language": "spiral"
    },
    "polyglot_notebook": {
     "kernelName": "spiral"
    }
   },
   "outputs": [
    {
     "name": "stdout",
     "output_type": "stream",
     "text": [
      "()\n",
      "\r\n"
     ]
    }
   ],
   "source": [
    "inl flatten x =\n",
    "    match x with\n",
    "    | Some (Some x) => Some x\n",
    "    | _ => None"
   ]
  },
  {
   "cell_type": "markdown",
   "metadata": {},
   "source": [
    "## unwrap"
   ]
  },
  {
   "cell_type": "code",
   "execution_count": null,
   "metadata": {
    "dotnet_interactive": {
     "language": "spiral"
    },
    "polyglot_notebook": {
     "kernelName": "spiral"
    }
   },
   "outputs": [
    {
     "name": "stdout",
     "output_type": "stream",
     "text": [
      "()\n",
      "\r\n"
     ]
    }
   ],
   "source": [
    "inl unwrap forall t. (x : option' t) : t =\n",
    "    !\\\\(x, $'\"$0.unwrap()\"')"
   ]
  },
  {
   "cell_type": "markdown",
   "metadata": {},
   "source": [
    "## unwrap_or"
   ]
  },
  {
   "cell_type": "code",
   "execution_count": null,
   "metadata": {
    "dotnet_interactive": {
     "language": "spiral"
    },
    "polyglot_notebook": {
     "kernelName": "spiral"
    }
   },
   "outputs": [
    {
     "name": "stdout",
     "output_type": "stream",
     "text": [
      "()\n",
      "\r\n"
     ]
    }
   ],
   "source": [
    "inl unwrap_or forall t. (def : t) (x : option' t) : t =\n",
    "    !\\($'\"!x.unwrap_or(!def)\"')"
   ]
  },
  {
   "cell_type": "markdown",
   "metadata": {},
   "source": [
    "## rc_upgrade"
   ]
  },
  {
   "cell_type": "code",
   "execution_count": null,
   "metadata": {
    "dotnet_interactive": {
     "language": "spiral"
    },
    "polyglot_notebook": {
     "kernelName": "spiral"
    }
   },
   "outputs": [
    {
     "name": "stdout",
     "output_type": "stream",
     "text": [
      "()\n",
      "\r\n"
     ]
    }
   ],
   "source": [
    "inl rc_upgrade forall t. (x : rust.weak_rc t) : option' (rust.rc t) =\n",
    "    inl x = join x\n",
    "    !\\($'\"std::rc::Weak::upgrade(&!x)\"')"
   ]
  },
  {
   "cell_type": "markdown",
   "metadata": {},
   "source": [
    "## rc_into_inner"
   ]
  },
  {
   "cell_type": "code",
   "execution_count": null,
   "metadata": {
    "dotnet_interactive": {
     "language": "spiral"
    },
    "polyglot_notebook": {
     "kernelName": "spiral"
    }
   },
   "outputs": [
    {
     "name": "stdout",
     "output_type": "stream",
     "text": [
      "()\n",
      "\r\n"
     ]
    }
   ],
   "source": [
    "inl rc_into_inner forall t. (x : rust.rc t) : option' t =\n",
    "    !\\\\(x, $'\"std::rc::Rc::into_inner($0)\"')"
   ]
  },
  {
   "cell_type": "code",
   "execution_count": null,
   "metadata": {
    "dotnet_interactive": {
     "language": "spiral"
    },
    "polyglot_notebook": {
     "kernelName": "spiral"
    }
   },
   "outputs": [
    {
     "data": {
      "text/plain": [
       "US0_0(0)\n"
      ]
     },
     "metadata": {},
     "output_type": "display_data"
    }
   ],
   "source": [
    "// // test\n",
    "// // rust=\n",
    "// // print_code=false\n",
    "\n",
    "types ()\n",
    "rust.new_rc 0i32\n",
    "|> rc_into_inner\n",
    "|> unbox\n",
    "|> _assert_eq' (Some 0i32)"
   ]
  }
 ],
 "metadata": {},
 "nbformat": 4,
 "nbformat_minor": 5
}