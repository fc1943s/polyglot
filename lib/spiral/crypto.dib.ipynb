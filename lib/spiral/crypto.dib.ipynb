{
 "cells": [
  {
   "cell_type": "markdown",
   "metadata": {},
   "source": [
    "# crypto"
   ]
  },
  {
   "cell_type": "code",
   "execution_count": null,
   "metadata": {
    "dotnet_interactive": {
     "language": "spiral"
    },
    "polyglot_notebook": {
     "kernelName": "spiral"
    }
   },
   "outputs": [
    {
     "name": "stdout",
     "output_type": "stream",
     "text": [
      "()\n",
      "\r\n"
     ]
    }
   ],
   "source": [
    "//// test\n",
    "\n",
    "open testing"
   ]
  },
  {
   "cell_type": "markdown",
   "metadata": {},
   "source": [
    "## sha256"
   ]
  },
  {
   "cell_type": "code",
   "execution_count": null,
   "metadata": {
    "dotnet_interactive": {
     "language": "spiral"
    },
    "polyglot_notebook": {
     "kernelName": "spiral"
    }
   },
   "outputs": [
    {
     "name": "stdout",
     "output_type": "stream",
     "text": [
      "()\n",
      "\r\n"
     ]
    }
   ],
   "source": [
    "nominal sha256 = $'System.Security.Cryptography.SHA256'\n",
    "\n",
    "inl sha256 () : sha256 =\n",
    "    $'`sha256.Create' ()"
   ]
  },
  {
   "cell_type": "markdown",
   "metadata": {},
   "source": [
    "## sha256_compute_hash"
   ]
  },
  {
   "cell_type": "code",
   "execution_count": null,
   "metadata": {
    "dotnet_interactive": {
     "language": "spiral"
    },
    "polyglot_notebook": {
     "kernelName": "spiral"
    }
   },
   "outputs": [
    {
     "name": "stdout",
     "output_type": "stream",
     "text": [
      "()\n",
      "\r\n"
     ]
    }
   ],
   "source": [
    "inl sha256_compute_hash (x : sha256) (data : a i32 u8) : a i32 u8 =\n",
    "    data |> $'!x.ComputeHash'"
   ]
  },
  {
   "cell_type": "markdown",
   "metadata": {},
   "source": [
    "## create_hash"
   ]
  },
  {
   "cell_type": "code",
   "execution_count": null,
   "metadata": {
    "dotnet_interactive": {
     "language": "spiral"
    },
    "polyglot_notebook": {
     "kernelName": "spiral"
    }
   },
   "outputs": [
    {
     "name": "stdout",
     "output_type": "stream",
     "text": [
      "()\n",
      "\r\n"
     ]
    }
   ],
   "source": [
    "inl create_hash (x : string) : any =\n",
    "    open ts_operators\n",
    "    global \"type ICryptoCreateHash = abstract createHash: x: string -> obj\"\n",
    "    inl crypto : $'ICryptoCreateHash' = ts.import_all \"crypto\"\n",
    "    !\\\\(x, $'\"!crypto.createHash($0)\"')"
   ]
  },
  {
   "cell_type": "markdown",
   "metadata": {},
   "source": [
    "## hash_update"
   ]
  },
  {
   "cell_type": "code",
   "execution_count": null,
   "metadata": {
    "dotnet_interactive": {
     "language": "spiral"
    },
    "polyglot_notebook": {
     "kernelName": "spiral"
    }
   },
   "outputs": [
    {
     "name": "stdout",
     "output_type": "stream",
     "text": [
      "()\n",
      "\r\n"
     ]
    }
   ],
   "source": [
    "inl hash_update (s : string) (x : any) : any =\n",
    "    open ts_operators\n",
    "    !\\\\((x, s), $'\"$0.update($1, \\'utf8\\')\"')"
   ]
  },
  {
   "cell_type": "markdown",
   "metadata": {},
   "source": [
    "## hash_digest"
   ]
  },
  {
   "cell_type": "code",
   "execution_count": null,
   "metadata": {
    "dotnet_interactive": {
     "language": "spiral"
    },
    "polyglot_notebook": {
     "kernelName": "spiral"
    }
   },
   "outputs": [
    {
     "name": "stdout",
     "output_type": "stream",
     "text": [
      "()\n",
      "\r\n"
     ]
    }
   ],
   "source": [
    "inl hash_digest (s : string) (x : any) : string =\n",
    "    open ts_operators\n",
    "    !\\\\((x, s), $'\"$0.digest($1)\"')"
   ]
  },
  {
   "cell_type": "markdown",
   "metadata": {},
   "source": [
    "## hash_text"
   ]
  },
  {
   "cell_type": "code",
   "execution_count": null,
   "metadata": {
    "dotnet_interactive": {
     "language": "spiral"
    },
    "polyglot_notebook": {
     "kernelName": "spiral"
    }
   },
   "outputs": [
    {
     "name": "stdout",
     "output_type": "stream",
     "text": [
      "()\n",
      "\r\n"
     ]
    }
   ],
   "source": [
    "inl hash_text (input : string) =\n",
    "    run_target function\n",
    "        | Fsharp (Native) => fun () =>\n",
    "            inl input = join input\n",
    "            inl sha256 = sha256 () |> use\n",
    "            input\n",
    "            |> sm'.utf8_get_bytes\n",
    "            |> sha256_compute_hash sha256\n",
    "            |> am.map (sm'.byte_to_string \"x2\")\n",
    "            |> seq.of_array'\n",
    "            |> sm'.concat \"\"\n",
    "        | TypeScript _ => fun () =>\n",
    "            create_hash \"sha256\"\n",
    "            |> hash_update input\n",
    "            |> hash_digest \"hex\"\n",
    "        | _ => fun () => null ()"
   ]
  },
  {
   "cell_type": "code",
   "execution_count": null,
   "metadata": {
    "dotnet_interactive": {
     "language": "spiral"
    },
    "polyglot_notebook": {
     "kernelName": "spiral"
    }
   },
   "outputs": [
    {
     "name": "stdout",
     "output_type": "stream",
     "text": [
      "type ICryptoCreateHash = abstract createHash: x: string -> obj\n",
      "type Mut0 = {mutable l0 : int32}\n",
      "let rec method1 () : string =\n",
      "    let v0 : string = \"\"\n",
      "    v0\n",
      "and method2 (v0 : int32, v1 : Mut0) : bool =\n",
      "    let v2 : int32 = v1.l0\n",
      "    let v3 : bool = v2 < v0\n",
      "    v3\n",
      "and method3 () : string =\n",
      "    let v0 : string = \"\"\n",
      "    v0\n",
      "and method4 (v0 : bool) : bool =\n",
      "    v0\n",
      "and method0 () : unit =\n",
      "    let v0 : string option = None\n",
      "    let v1 : bool = true in let mutable _v0 = v0\n",
      "    \n",
      "#if FABLE_COMPILER || WASM || CONTRACT\n",
      "    \n",
      "#if FABLE_COMPILER_RUST && !WASM && !CONTRACT\n",
      "    let v2 : string = null |> unbox<string>\n",
      "    v2\n",
      "#endif\n",
      "    \n",
      "#if FABLE_COMPILER_RUST && WASM\n",
      "    let v3 : string = null |> unbox<string>\n",
      "    v3\n",
      "#endif\n",
      "    \n",
      "#if FABLE_COMPILER_RUST && CONTRACT\n",
      "    let v4 : string = null |> unbox<string>\n",
      "    v4\n",
      "#endif\n",
      "    \n",
      "#if FABLE_COMPILER_TYPESCRIPT\n",
      "    let v5 : string = \"crypto\"\n",
      "    let v6 : ICryptoCreateHash = Fable.Core.JsInterop.importAll v5\n",
      "    let v7 : string = \"v6.createHash($0)\"\n",
      "    let v8 : string = \"sha256\"\n",
      "    let v9 : obj = Fable.Core.JsInterop.emitJsExpr v8 v7\n",
      "    let v10 : string = \"$0.update($1, 'utf8')\"\n",
      "    let v11 : string = \"\"\n",
      "    let v12 : obj = Fable.Core.JsInterop.emitJsExpr struct (v9, v11) v10\n",
      "    let v13 : string = \"$0.digest($1)\"\n",
      "    let v14 : string = \"hex\"\n",
      "    let v15 : string = Fable.Core.JsInterop.emitJsExpr struct (v12, v14) v13\n",
      "    v15\n",
      "#endif\n",
      "    \n",
      "#if FABLE_COMPILER_PYTHON\n",
      "    let v16 : string = null |> unbox<string>\n",
      "    v16\n",
      "#endif\n",
      "    \n",
      "#else\n",
      "    let v17 : string = method1()\n",
      "    let v18 : (unit -> System.Security.Cryptography.SHA256) = System.Security.Cryptography.SHA256.Create\n",
      "    let v19 : System.Security.Cryptography.SHA256 = v18 ()\n",
      "    use v19 = v19 \n",
      "    let v20 : System.Security.Cryptography.SHA256 = v19 \n",
      "    let v21 : (string -> (uint8 [])) = System.Text.Encoding.UTF8.GetBytes\n",
      "    let v22 : (uint8 []) = v21 v17\n",
      "    let v23 : ((uint8 []) -> (uint8 [])) = v20.ComputeHash\n",
      "    let v24 : (uint8 []) = v23 v22\n",
      "    let v25 : int32 = v24.Length\n",
      "    let v26 : (string []) = Array.zeroCreate<string> (v25)\n",
      "    let v27 : Mut0 = {l0 = 0} : Mut0\n",
      "    while method2(v25, v27) do\n",
      "        let v29 : int32 = v27.l0\n",
      "        let v30 : uint8 = v24.[int v29]\n",
      "        let v31 : (string -> string) = v30.ToString\n",
      "        let v32 : string = \"x2\"\n",
      "        let v33 : string = v31 v32\n",
      "        v26.[int v29] <- v33\n",
      "        let v34 : int32 = v29 + 1\n",
      "        v27.l0 <- v34\n",
      "        ()\n",
      "    let v35 : string seq = seq { for i = 0 to v26.Length - 1 do yield v26.[i] }\n",
      "    let v36 : string = method3()\n",
      "    let v37 : (string -> (string seq -> string)) = String.concat\n",
      "    let v38 : (string seq -> string) = v37 v36\n",
      "    let v39 : string = v38 v35\n",
      "    v39\n",
      "#endif\n",
      "    |> fun x -> _v0 <- Some x\n",
      "    let v40 : string = _v0.Value\n",
      "    let v42 : bool = v40 = \"e3b0c44298fc1c149afbf4c8996fb92427ae41e4649b934ca495991b7852b855\"\n",
      "    let v44 : bool =\n",
      "        if v42 then\n",
      "            true\n",
      "        else\n",
      "            method4(v42)\n",
      "    let v45 : string = \"assert_eq\"\n",
      "    let v46 : string = \"e3b0c44298fc1c149afbf4c8996fb92427ae41e4649b934ca495991b7852b855\"\n",
      "    let v47 : string = $\"{v45} / actual: %A{v40} / expected: %A{v46}\"\n",
      "    System.Console.WriteLine v47\n",
      "    let v48 : bool = v44 = false\n",
      "    if v48 then\n",
      "        failwith<unit> v47\n",
      "method0()\n",
      "\r\n",
      "assert_eq / actual: \"e3b0c44298fc1c149afbf4c8996fb92427ae41e4649b934ca495991b7852b855\" / expected: \"e3b0c44298fc1c149afbf4c8996fb92427ae41e4649b934ca495991b7852b855\"\r\n"
     ]
    }
   ],
   "source": [
    "//// test\n",
    "\n",
    "\"\"\n",
    "|> hash_text\n",
    "|> _assert_eq \"e3b0c44298fc1c149afbf4c8996fb92427ae41e4649b934ca495991b7852b855\""
   ]
  },
  {
   "cell_type": "code",
   "execution_count": null,
   "metadata": {
    "dotnet_interactive": {
     "language": "spiral"
    },
    "polyglot_notebook": {
     "kernelName": "spiral"
    }
   },
   "outputs": [
    {
     "name": "stdout",
     "output_type": "stream",
     "text": [
      "type ICryptoCreateHash = abstract createHash: x: string -> obj\n",
      "type Mut0 = {mutable l0 : int32}\n",
      "let rec method1 () : string =\n",
      "    let v0 : string = \" \"\n",
      "    v0\n",
      "and method2 (v0 : int32, v1 : Mut0) : bool =\n",
      "    let v2 : int32 = v1.l0\n",
      "    let v3 : bool = v2 < v0\n",
      "    v3\n",
      "and method3 () : string =\n",
      "    let v0 : string = \"\"\n",
      "    v0\n",
      "and method4 (v0 : bool) : bool =\n",
      "    v0\n",
      "and method0 () : unit =\n",
      "    let v0 : string option = None\n",
      "    let v1 : bool = true in let mutable _v0 = v0\n",
      "    \n",
      "#if FABLE_COMPILER || WASM || CONTRACT\n",
      "    \n",
      "#if FABLE_COMPILER_RUST && !WASM && !CONTRACT\n",
      "    let v2 : string = null |> unbox<string>\n",
      "    v2\n",
      "#endif\n",
      "    \n",
      "#if FABLE_COMPILER_RUST && WASM\n",
      "    let v3 : string = null |> unbox<string>\n",
      "    v3\n",
      "#endif\n",
      "    \n",
      "#if FABLE_COMPILER_RUST && CONTRACT\n",
      "    let v4 : string = null |> unbox<string>\n",
      "    v4\n",
      "#endif\n",
      "    \n",
      "#if FABLE_COMPILER_TYPESCRIPT\n",
      "    let v5 : string = \"crypto\"\n",
      "    let v6 : ICryptoCreateHash = Fable.Core.JsInterop.importAll v5\n",
      "    let v7 : string = \"v6.createHash($0)\"\n",
      "    let v8 : string = \"sha256\"\n",
      "    let v9 : obj = Fable.Core.JsInterop.emitJsExpr v8 v7\n",
      "    let v10 : string = \"$0.update($1, 'utf8')\"\n",
      "    let v11 : string = \" \"\n",
      "    let v12 : obj = Fable.Core.JsInterop.emitJsExpr struct (v9, v11) v10\n",
      "    let v13 : string = \"$0.digest($1)\"\n",
      "    let v14 : string = \"hex\"\n",
      "    let v15 : string = Fable.Core.JsInterop.emitJsExpr struct (v12, v14) v13\n",
      "    v15\n",
      "#endif\n",
      "    \n",
      "#if FABLE_COMPILER_PYTHON\n",
      "    let v16 : string = null |> unbox<string>\n",
      "    v16\n",
      "#endif\n",
      "    \n",
      "#else\n",
      "    let v17 : string = method1()\n",
      "    let v18 : (unit -> System.Security.Cryptography.SHA256) = System.Security.Cryptography.SHA256.Create\n",
      "    let v19 : System.Security.Cryptography.SHA256 = v18 ()\n",
      "    use v19 = v19 \n",
      "    let v20 : System.Security.Cryptography.SHA256 = v19 \n",
      "    let v21 : (string -> (uint8 [])) = System.Text.Encoding.UTF8.GetBytes\n",
      "    let v22 : (uint8 []) = v21 v17\n",
      "    let v23 : ((uint8 []) -> (uint8 [])) = v20.ComputeHash\n",
      "    let v24 : (uint8 []) = v23 v22\n",
      "    let v25 : int32 = v24.Length\n",
      "    let v26 : (string []) = Array.zeroCreate<string> (v25)\n",
      "    let v27 : Mut0 = {l0 = 0} : Mut0\n",
      "    while method2(v25, v27) do\n",
      "        let v29 : int32 = v27.l0\n",
      "        let v30 : uint8 = v24.[int v29]\n",
      "        let v31 : (string -> string) = v30.ToString\n",
      "        let v32 : string = \"x2\"\n",
      "        let v33 : string = v31 v32\n",
      "        v26.[int v29] <- v33\n",
      "        let v34 : int32 = v29 + 1\n",
      "        v27.l0 <- v34\n",
      "        ()\n",
      "    let v35 : string seq = seq { for i = 0 to v26.Length - 1 do yield v26.[i] }\n",
      "    let v36 : string = method3()\n",
      "    let v37 : (string -> (string seq -> string)) = String.concat\n",
      "    let v38 : (string seq -> string) = v37 v36\n",
      "    let v39 : string = v38 v35\n",
      "    v39\n",
      "#endif\n",
      "    |> fun x -> _v0 <- Some x\n",
      "    let v40 : string = _v0.Value\n",
      "    let v42 : bool = v40 = \"36a9e7f1c95b82ffb99743e0c5c4ce95d83c9a430aac59f84ef3cbfab6145068\"\n",
      "    let v44 : bool =\n",
      "        if v42 then\n",
      "            true\n",
      "        else\n",
      "            method4(v42)\n",
      "    let v45 : string = \"assert_eq\"\n",
      "    let v46 : string = \"36a9e7f1c95b82ffb99743e0c5c4ce95d83c9a430aac59f84ef3cbfab6145068\"\n",
      "    let v47 : string = $\"{v45} / actual: %A{v40} / expected: %A{v46}\"\n",
      "    System.Console.WriteLine v47\n",
      "    let v48 : bool = v44 = false\n",
      "    if v48 then\n",
      "        failwith<unit> v47\n",
      "method0()\n",
      "\r\n",
      "assert_eq / actual: \"36a9e7f1c95b82ffb99743e0c5c4ce95d83c9a430aac59f84ef3cbfab6145068\" / expected: \"36a9e7f1c95b82ffb99743e0c5c4ce95d83c9a430aac59f84ef3cbfab6145068\"\r\n"
     ]
    }
   ],
   "source": [
    "//// test\n",
    "\n",
    "\" \"\n",
    "|> hash_text\n",
    "|> _assert_eq \"36a9e7f1c95b82ffb99743e0c5c4ce95d83c9a430aac59f84ef3cbfab6145068\""
   ]
  },
  {
   "cell_type": "markdown",
   "metadata": {},
   "source": [
    "## get_file_hash"
   ]
  },
  {
   "cell_type": "code",
   "execution_count": null,
   "metadata": {
    "dotnet_interactive": {
     "language": "spiral"
    },
    "polyglot_notebook": {
     "kernelName": "spiral"
    }
   },
   "outputs": [
    {
     "name": "stdout",
     "output_type": "stream",
     "text": [
      "()\n",
      "\r\n"
     ]
    }
   ],
   "source": [
    "inl get_file_hash (path : string) : result string string =\n",
    "    inl path = path |> file_system.normalize_path\n",
    "    inl exit_code, result =\n",
    "        runtime.execution_options fun x => { x with\n",
    "            command = $'$\"pwsh -c \\\\\\\"(Get-FileHash \\\\\\\\\\\\\"{!path}\\\\\\\\\\\\\" -Algorithm SHA256).Hash\\\\\\\"\"'\n",
    "        }\n",
    "        |> runtime.execute_with_options\n",
    "    if exit_code = 0\n",
    "    then Ok result\n",
    "    else Error result"
   ]
  },
  {
   "cell_type": "markdown",
   "metadata": {},
   "source": [
    "## main"
   ]
  },
  {
   "cell_type": "code",
   "execution_count": null,
   "metadata": {
    "dotnet_interactive": {
     "language": "spiral"
    },
    "polyglot_notebook": {
     "kernelName": "spiral"
    }
   },
   "outputs": [
    {
     "name": "stdout",
     "output_type": "stream",
     "text": [
      "type ICryptoCreateHash = abstract createHash: x: string -> obj\n",
      "type Mut0 = {mutable l0 : int32}\n",
      "let rec method0 (v0 : string) : string =\n",
      "    v0\n",
      "and method1 (v0 : int32, v1 : Mut0) : bool =\n",
      "    let v2 : int32 = v1.l0\n",
      "    let v3 : bool = v2 < v0\n",
      "    v3\n",
      "and method2 () : string =\n",
      "    let v0 : string = \"\"\n",
      "    v0\n",
      "and closure0 () (v0 : string) : string =\n",
      "    let v1 : string option = None\n",
      "    let v2 : bool = true in let mutable _v1 = v1\n",
      "    \n",
      "#if FABLE_COMPILER || WASM || CONTRACT\n",
      "    \n",
      "#if FABLE_COMPILER_RUST && !WASM && !CONTRACT\n",
      "    let v3 : string = null |> unbox<string>\n",
      "    v3\n",
      "#endif\n",
      "    \n",
      "#if FABLE_COMPILER_RUST && WASM\n",
      "    let v4 : string = null |> unbox<string>\n",
      "    v4\n",
      "#endif\n",
      "    \n",
      "#if FABLE_COMPILER_RUST && CONTRACT\n",
      "    let v5 : string = null |> unbox<string>\n",
      "    v5\n",
      "#endif\n",
      "    \n",
      "#if FABLE_COMPILER_TYPESCRIPT\n",
      "    let v6 : string = \"crypto\"\n",
      "    let v7 : ICryptoCreateHash = Fable.Core.JsInterop.importAll v6\n",
      "    let v8 : string = \"v7.createHash($0)\"\n",
      "    let v9 : string = \"sha256\"\n",
      "    let v10 : obj = Fable.Core.JsInterop.emitJsExpr v9 v8\n",
      "    let v11 : string = \"$0.update($1, 'utf8')\"\n",
      "    let v12 : obj = Fable.Core.JsInterop.emitJsExpr struct (v10, v0) v11\n",
      "    let v13 : string = \"$0.digest($1)\"\n",
      "    let v14 : string = \"hex\"\n",
      "    let v15 : string = Fable.Core.JsInterop.emitJsExpr struct (v12, v14) v13\n",
      "    v15\n",
      "#endif\n",
      "    \n",
      "#if FABLE_COMPILER_PYTHON\n",
      "    let v16 : string = null |> unbox<string>\n",
      "    v16\n",
      "#endif\n",
      "    \n",
      "#else\n",
      "    let v17 : string = method0(v0)\n",
      "    let v18 : (unit -> System.Security.Cryptography.SHA256) = System.Security.Cryptography.SHA256.Create\n",
      "    let v19 : System.Security.Cryptography.SHA256 = v18 ()\n",
      "    use v19 = v19 \n",
      "    let v20 : System.Security.Cryptography.SHA256 = v19 \n",
      "    let v21 : (string -> (uint8 [])) = System.Text.Encoding.UTF8.GetBytes\n",
      "    let v22 : (uint8 []) = v21 v17\n",
      "    let v23 : ((uint8 []) -> (uint8 [])) = v20.ComputeHash\n",
      "    let v24 : (uint8 []) = v23 v22\n",
      "    let v25 : int32 = v24.Length\n",
      "    let v26 : (string []) = Array.zeroCreate<string> (v25)\n",
      "    let v27 : Mut0 = {l0 = 0} : Mut0\n",
      "    while method1(v25, v27) do\n",
      "        let v29 : int32 = v27.l0\n",
      "        let v30 : uint8 = v24.[int v29]\n",
      "        let v31 : (string -> string) = v30.ToString\n",
      "        let v32 : string = \"x2\"\n",
      "        let v33 : string = v31 v32\n",
      "        v26.[int v29] <- v33\n",
      "        let v34 : int32 = v29 + 1\n",
      "        v27.l0 <- v34\n",
      "        ()\n",
      "    let v35 : string seq = seq { for i = 0 to v26.Length - 1 do yield v26.[i] }\n",
      "    let v36 : string = method2()\n",
      "    let v37 : (string -> (string seq -> string)) = String.concat\n",
      "    let v38 : (string seq -> string) = v37 v36\n",
      "    let v39 : string = v38 v35\n",
      "    v39\n",
      "#endif\n",
      "    |> fun x -> _v1 <- Some x\n",
      "    let v40 : string = _v1.Value\n",
      "    v40\n",
      "let v0 : (string -> string) = closure0()\n",
      "let hash_text x = v0 x\n",
      "()\n",
      "\r\n"
     ]
    }
   ],
   "source": [
    "inl main () =\n",
    "    $\"let hash_text x = !hash_text x\" : ()"
   ]
  }
 ],
 "metadata": {},
 "nbformat": 4,
 "nbformat_minor": 5
}