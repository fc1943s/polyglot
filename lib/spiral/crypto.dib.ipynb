{
 "cells": [
  {
   "cell_type": "markdown",
   "metadata": {},
   "source": [
    "# crypto"
   ]
  },
  {
   "cell_type": "code",
   "execution_count": null,
   "metadata": {
    "dotnet_interactive": {
     "language": "spiral"
    },
    "polyglot_notebook": {
     "kernelName": "spiral"
    }
   },
   "outputs": [
    {
     "name": "stdout",
     "output_type": "stream",
     "text": [
      "()\n",
      "\r\n"
     ]
    }
   ],
   "source": [
    "// // test\n",
    "\n",
    "open testing"
   ]
  },
  {
   "cell_type": "markdown",
   "metadata": {},
   "source": [
    "## sha256"
   ]
  },
  {
   "cell_type": "code",
   "execution_count": null,
   "metadata": {
    "dotnet_interactive": {
     "language": "spiral"
    },
    "polyglot_notebook": {
     "kernelName": "spiral"
    }
   },
   "outputs": [
    {
     "name": "stdout",
     "output_type": "stream",
     "text": [
      "()\n",
      "\r\n"
     ]
    }
   ],
   "source": [
    "nominal sha256 = $'System.Security.Cryptography.SHA256'\n",
    "\n",
    "inl sha256 () : sha256 =\n",
    "    $'`sha256.Create' ()"
   ]
  },
  {
   "cell_type": "markdown",
   "metadata": {},
   "source": [
    "## sha256_compute_hash"
   ]
  },
  {
   "cell_type": "code",
   "execution_count": null,
   "metadata": {
    "dotnet_interactive": {
     "language": "spiral"
    },
    "polyglot_notebook": {
     "kernelName": "spiral"
    }
   },
   "outputs": [
    {
     "name": "stdout",
     "output_type": "stream",
     "text": [
      "()\n",
      "\r\n"
     ]
    }
   ],
   "source": [
    "inl sha256_compute_hash (x : sha256) (data : a i32 u8) : a i32 u8 =\n",
    "    data |> $'!x.ComputeHash'"
   ]
  },
  {
   "cell_type": "markdown",
   "metadata": {},
   "source": [
    "## create_hash"
   ]
  },
  {
   "cell_type": "code",
   "execution_count": null,
   "metadata": {
    "dotnet_interactive": {
     "language": "spiral"
    },
    "polyglot_notebook": {
     "kernelName": "spiral"
    }
   },
   "outputs": [
    {
     "name": "stdout",
     "output_type": "stream",
     "text": [
      "()\n",
      "\r\n"
     ]
    }
   ],
   "source": [
    "inl create_hash (x : string) : any =\n",
    "    open ts_operators\n",
    "    global \"type ICryptoCreateHash = abstract createHash: x: string -> obj\"\n",
    "    inl crypto : $'ICryptoCreateHash' = ts.import_all \"crypto\"\n",
    "    !\\\\(x, $'\"!crypto.createHash($0)\"')"
   ]
  },
  {
   "cell_type": "markdown",
   "metadata": {},
   "source": [
    "## hash_update"
   ]
  },
  {
   "cell_type": "code",
   "execution_count": null,
   "metadata": {
    "dotnet_interactive": {
     "language": "spiral"
    },
    "polyglot_notebook": {
     "kernelName": "spiral"
    }
   },
   "outputs": [
    {
     "name": "stdout",
     "output_type": "stream",
     "text": [
      "()\n",
      "\r\n"
     ]
    }
   ],
   "source": [
    "inl hash_update (s : string) (x : any) : any =\n",
    "    open ts_operators\n",
    "    !\\\\((x, s), $'\"$0.update($1, \\'utf8\\')\"')"
   ]
  },
  {
   "cell_type": "markdown",
   "metadata": {},
   "source": [
    "## hash_digest"
   ]
  },
  {
   "cell_type": "code",
   "execution_count": null,
   "metadata": {
    "dotnet_interactive": {
     "language": "spiral"
    },
    "polyglot_notebook": {
     "kernelName": "spiral"
    }
   },
   "outputs": [
    {
     "name": "stdout",
     "output_type": "stream",
     "text": [
      "()\n",
      "\r\n"
     ]
    }
   ],
   "source": [
    "inl hash_digest (s : string) (x : any) : string =\n",
    "    open ts_operators\n",
    "    !\\\\((x, s), $'\"$0.digest($1)\"')"
   ]
  },
  {
   "cell_type": "markdown",
   "metadata": {},
   "source": [
    "## hash_text"
   ]
  },
  {
   "cell_type": "code",
   "execution_count": null,
   "metadata": {
    "dotnet_interactive": {
     "language": "spiral"
    },
    "polyglot_notebook": {
     "kernelName": "spiral"
    }
   },
   "outputs": [
    {
     "name": "stdout",
     "output_type": "stream",
     "text": [
      "()\n",
      "\r\n"
     ]
    }
   ],
   "source": [
    "inl hash_text (input : string) =\n",
    "    run_target function\n",
    "        | Fsharp (Native) => fun () =>\n",
    "            inl sha256 = sha256 () |> use\n",
    "            input\n",
    "            |> sm'.utf8_get_bytes\n",
    "            |> sha256_compute_hash sha256\n",
    "            |> am.map (sm'.byte_to_string \"x2\")\n",
    "            |> seq.of_array'\n",
    "            |> sm'.concat \"\"\n",
    "        | TypeScript _ => fun () =>\n",
    "            create_hash \"sha256\"\n",
    "            |> hash_update input\n",
    "            |> hash_digest \"hex\"\n",
    "        | _ => fun () => null ()"
   ]
  },
  {
   "cell_type": "code",
   "execution_count": null,
   "metadata": {
    "dotnet_interactive": {
     "language": "spiral"
    },
    "polyglot_notebook": {
     "kernelName": "spiral"
    }
   },
   "outputs": [
    {
     "name": "stdout",
     "output_type": "stream",
     "text": [
      "type ICryptoCreateHash = abstract createHash: x: string -> obj\n",
      "type Mut0 = {mutable l0 : int32}\n",
      "let rec method1 (v0 : int32, v1 : Mut0) : bool =\n",
      "    let v2 : int32 = v1.l0\n",
      "    let v3 : bool = v2 < v0\n",
      "    v3\n",
      "and method2 (v0 : bool) : bool =\n",
      "    v0\n",
      "and method0 () : unit =\n",
      "    let v0 : string option = None\n",
      "    let mutable _v0 = v0\n",
      "    #if FABLE_COMPILER_RUST && !WASM && !CONTRACT\n",
      "    let v1 : string = null |> unbox<string>\n",
      "    v1 \n",
      "    #endif\n",
      "    #if FABLE_COMPILER_RUST && WASM\n",
      "    let v2 : string = null |> unbox<string>\n",
      "    v2 \n",
      "    #endif\n",
      "    #if FABLE_COMPILER_RUST && CONTRACT\n",
      "    let v3 : string = null |> unbox<string>\n",
      "    v3 \n",
      "    #endif\n",
      "    #if !FABLE_COMPILER && !FABLE_COMPILER_RUST && !FABLE_COMPILER_TYPESCRIPT && !WASM && !CONTRACT\n",
      "    let v4 : (unit -> System.Security.Cryptography.SHA256) = System.Security.Cryptography.SHA256.Create\n",
      "    let v5 : System.Security.Cryptography.SHA256 = v4 ()\n",
      "    use v5 = v5 \n",
      "    let v6 : System.Security.Cryptography.SHA256 = v5 \n",
      "    let v7 : (string -> (uint8 [])) = System.Text.Encoding.UTF8.GetBytes\n",
      "    let v8 : string = \"\"\n",
      "    let v9 : (uint8 []) = v7 v8\n",
      "    let v10 : ((uint8 []) -> (uint8 [])) = v6.ComputeHash\n",
      "    let v11 : (uint8 []) = v10 v9\n",
      "    let v12 : int32 = v11.Length\n",
      "    let v13 : (string []) = Array.zeroCreate<string> (v12)\n",
      "    let v14 : Mut0 = {l0 = 0} : Mut0\n",
      "    while method1(v12, v14) do\n",
      "        let v16 : int32 = v14.l0\n",
      "        let v17 : uint8 = v11.[int v16]\n",
      "        let v18 : (string -> string) = v17.ToString\n",
      "        let v19 : string = \"x2\"\n",
      "        let v20 : string = v18 v19\n",
      "        v13.[int v16] <- v20\n",
      "        let v21 : int32 = v16 + 1\n",
      "        v14.l0 <- v21\n",
      "        ()\n",
      "    let v22 : string seq = seq { for i = 0 to v13.Length - 1 do yield v13.[i] }\n",
      "    let v23 : string = v22 |> String.concat v8\n",
      "    v23 \n",
      "    #endif\n",
      "    #if FABLE_COMPILER_TYPESCRIPT\n",
      "    let v24 : string = \"crypto\"\n",
      "    let v25 : ICryptoCreateHash = Fable.Core.JsInterop.importAll v24\n",
      "    let v26 : string = \"v25.createHash($0)\"\n",
      "    let v27 : string = \"sha256\"\n",
      "    let v28 : obj = Fable.Core.JsInterop.emitJsExpr v27 v26\n",
      "    let v29 : string = \"$0.update($1, 'utf8')\"\n",
      "    let v30 : obj = Fable.Core.JsInterop.emitJsExpr struct (v28, v8) v29\n",
      "    let v31 : string = \"$0.digest($1)\"\n",
      "    let v32 : string = \"hex\"\n",
      "    let v33 : string = Fable.Core.JsInterop.emitJsExpr struct (v30, v32) v31\n",
      "    v33 \n",
      "    #endif\n",
      "    #if FABLE_COMPILER_PYTHON || FABLE_COMPILER_PHP || FABLE_COMPILER_DART\n",
      "    let v34 : string = Unchecked.defaultof<string>\n",
      "    v34 \n",
      "    #endif\n",
      "    |> fun x -> _v0 <- Some x\n",
      "    let v35 : string = _v0.Value\n",
      "    let v36 : string = $\"%A{v35}\"\n",
      "    System.Console.WriteLine v36\n",
      "    let v38 : bool = v35 = \"e3b0c44298fc1c149afbf4c8996fb92427ae41e4649b934ca495991b7852b855\"\n",
      "    let v40 : bool =\n",
      "        if v38 then\n",
      "            true\n",
      "        else\n",
      "            method2(v38)\n",
      "    let v41 : string = \"e3b0c44298fc1c149afbf4c8996fb92427ae41e4649b934ca495991b7852b855\"\n",
      "    let v42 : string = $\"__expect / actual: %A{v35} / expected: %A{v41}\"\n",
      "    let v43 : bool = v40 = false\n",
      "    if v43 then\n",
      "        failwith<unit> v42\n",
      "method0()\n",
      "\r\n",
      "\"e3b0c44298fc1c149afbf4c8996fb92427ae41e4649b934ca495991b7852b855\"\r\n"
     ]
    }
   ],
   "source": [
    "// // test\n",
    "\n",
    "\"\"\n",
    "|> hash_text\n",
    "|> _assert_eq \"e3b0c44298fc1c149afbf4c8996fb92427ae41e4649b934ca495991b7852b855\""
   ]
  },
  {
   "cell_type": "code",
   "execution_count": null,
   "metadata": {
    "dotnet_interactive": {
     "language": "spiral"
    },
    "polyglot_notebook": {
     "kernelName": "spiral"
    }
   },
   "outputs": [
    {
     "name": "stdout",
     "output_type": "stream",
     "text": [
      "type ICryptoCreateHash = abstract createHash: x: string -> obj\n",
      "type Mut0 = {mutable l0 : int32}\n",
      "let rec method1 (v0 : int32, v1 : Mut0) : bool =\n",
      "    let v2 : int32 = v1.l0\n",
      "    let v3 : bool = v2 < v0\n",
      "    v3\n",
      "and method2 (v0 : bool) : bool =\n",
      "    v0\n",
      "and method0 () : unit =\n",
      "    let v0 : string option = None\n",
      "    let mutable _v0 = v0\n",
      "    #if FABLE_COMPILER_RUST && !WASM && !CONTRACT\n",
      "    let v1 : string = null |> unbox<string>\n",
      "    v1 \n",
      "    #endif\n",
      "    #if FABLE_COMPILER_RUST && WASM\n",
      "    let v2 : string = null |> unbox<string>\n",
      "    v2 \n",
      "    #endif\n",
      "    #if FABLE_COMPILER_RUST && CONTRACT\n",
      "    let v3 : string = null |> unbox<string>\n",
      "    v3 \n",
      "    #endif\n",
      "    #if !FABLE_COMPILER && !FABLE_COMPILER_RUST && !FABLE_COMPILER_TYPESCRIPT && !WASM && !CONTRACT\n",
      "    let v4 : (unit -> System.Security.Cryptography.SHA256) = System.Security.Cryptography.SHA256.Create\n",
      "    let v5 : System.Security.Cryptography.SHA256 = v4 ()\n",
      "    use v5 = v5 \n",
      "    let v6 : System.Security.Cryptography.SHA256 = v5 \n",
      "    let v7 : (string -> (uint8 [])) = System.Text.Encoding.UTF8.GetBytes\n",
      "    let v8 : string = \" \"\n",
      "    let v9 : (uint8 []) = v7 v8\n",
      "    let v10 : ((uint8 []) -> (uint8 [])) = v6.ComputeHash\n",
      "    let v11 : (uint8 []) = v10 v9\n",
      "    let v12 : int32 = v11.Length\n",
      "    let v13 : (string []) = Array.zeroCreate<string> (v12)\n",
      "    let v14 : Mut0 = {l0 = 0} : Mut0\n",
      "    while method1(v12, v14) do\n",
      "        let v16 : int32 = v14.l0\n",
      "        let v17 : uint8 = v11.[int v16]\n",
      "        let v18 : (string -> string) = v17.ToString\n",
      "        let v19 : string = \"x2\"\n",
      "        let v20 : string = v18 v19\n",
      "        v13.[int v16] <- v20\n",
      "        let v21 : int32 = v16 + 1\n",
      "        v14.l0 <- v21\n",
      "        ()\n",
      "    let v22 : string seq = seq { for i = 0 to v13.Length - 1 do yield v13.[i] }\n",
      "    let v23 : string = \"\"\n",
      "    let v24 : string = v22 |> String.concat v23\n",
      "    v24 \n",
      "    #endif\n",
      "    #if FABLE_COMPILER_TYPESCRIPT\n",
      "    let v25 : string = \"crypto\"\n",
      "    let v26 : ICryptoCreateHash = Fable.Core.JsInterop.importAll v25\n",
      "    let v27 : string = \"v26.createHash($0)\"\n",
      "    let v28 : string = \"sha256\"\n",
      "    let v29 : obj = Fable.Core.JsInterop.emitJsExpr v28 v27\n",
      "    let v30 : string = \"$0.update($1, 'utf8')\"\n",
      "    let v31 : obj = Fable.Core.JsInterop.emitJsExpr struct (v29, v8) v30\n",
      "    let v32 : string = \"$0.digest($1)\"\n",
      "    let v33 : string = \"hex\"\n",
      "    let v34 : string = Fable.Core.JsInterop.emitJsExpr struct (v31, v33) v32\n",
      "    v34 \n",
      "    #endif\n",
      "    #if FABLE_COMPILER_PYTHON || FABLE_COMPILER_PHP || FABLE_COMPILER_DART\n",
      "    let v35 : string = Unchecked.defaultof<string>\n",
      "    v35 \n",
      "    #endif\n",
      "    |> fun x -> _v0 <- Some x\n",
      "    let v36 : string = _v0.Value\n",
      "    let v37 : string = $\"%A{v36}\"\n",
      "    System.Console.WriteLine v37\n",
      "    let v39 : bool = v36 = \"36a9e7f1c95b82ffb99743e0c5c4ce95d83c9a430aac59f84ef3cbfab6145068\"\n",
      "    let v41 : bool =\n",
      "        if v39 then\n",
      "            true\n",
      "        else\n",
      "            method2(v39)\n",
      "    let v42 : string = \"36a9e7f1c95b82ffb99743e0c5c4ce95d83c9a430aac59f84ef3cbfab6145068\"\n",
      "    let v43 : string = $\"__expect / actual: %A{v36} / expected: %A{v42}\"\n",
      "    let v44 : bool = v41 = false\n",
      "    if v44 then\n",
      "        failwith<unit> v43\n",
      "method0()\n",
      "\r\n",
      "\"36a9e7f1c95b82ffb99743e0c5c4ce95d83c9a430aac59f84ef3cbfab6145068\"\r\n"
     ]
    }
   ],
   "source": [
    "// // test\n",
    "\n",
    "\" \"\n",
    "|> hash_text\n",
    "|> _assert_eq \"36a9e7f1c95b82ffb99743e0c5c4ce95d83c9a430aac59f84ef3cbfab6145068\""
   ]
  },
  {
   "cell_type": "markdown",
   "metadata": {},
   "source": [
    "## main"
   ]
  },
  {
   "cell_type": "code",
   "execution_count": null,
   "metadata": {
    "dotnet_interactive": {
     "language": "spiral"
    },
    "polyglot_notebook": {
     "kernelName": "spiral"
    }
   },
   "outputs": [
    {
     "name": "stdout",
     "output_type": "stream",
     "text": [
      "type ICryptoCreateHash = abstract createHash: x: string -> obj\n",
      "type Mut0 = {mutable l0 : int32}\n",
      "let rec method0 (v0 : int32, v1 : Mut0) : bool =\n",
      "    let v2 : int32 = v1.l0\n",
      "    let v3 : bool = v2 < v0\n",
      "    v3\n",
      "and closure0 () (v0 : string) : string =\n",
      "    let v1 : string option = None\n",
      "    let mutable _v1 = v1\n",
      "    #if FABLE_COMPILER_RUST && !WASM && !CONTRACT\n",
      "    let v2 : string = null |> unbox<string>\n",
      "    v2 \n",
      "    #endif\n",
      "    #if FABLE_COMPILER_RUST && WASM\n",
      "    let v3 : string = null |> unbox<string>\n",
      "    v3 \n",
      "    #endif\n",
      "    #if FABLE_COMPILER_RUST && CONTRACT\n",
      "    let v4 : string = null |> unbox<string>\n",
      "    v4 \n",
      "    #endif\n",
      "    #if !FABLE_COMPILER && !FABLE_COMPILER_RUST && !FABLE_COMPILER_TYPESCRIPT && !WASM && !CONTRACT\n",
      "    let v5 : (unit -> System.Security.Cryptography.SHA256) = System.Security.Cryptography.SHA256.Create\n",
      "    let v6 : System.Security.Cryptography.SHA256 = v5 ()\n",
      "    use v6 = v6 \n",
      "    let v7 : System.Security.Cryptography.SHA256 = v6 \n",
      "    let v8 : (string -> (uint8 [])) = System.Text.Encoding.UTF8.GetBytes\n",
      "    let v9 : (uint8 []) = v8 v0\n",
      "    let v10 : ((uint8 []) -> (uint8 [])) = v7.ComputeHash\n",
      "    let v11 : (uint8 []) = v10 v9\n",
      "    let v12 : int32 = v11.Length\n",
      "    let v13 : (string []) = Array.zeroCreate<string> (v12)\n",
      "    let v14 : Mut0 = {l0 = 0} : Mut0\n",
      "    while method0(v12, v14) do\n",
      "        let v16 : int32 = v14.l0\n",
      "        let v17 : uint8 = v11.[int v16]\n",
      "        let v18 : (string -> string) = v17.ToString\n",
      "        let v19 : string = \"x2\"\n",
      "        let v20 : string = v18 v19\n",
      "        v13.[int v16] <- v20\n",
      "        let v21 : int32 = v16 + 1\n",
      "        v14.l0 <- v21\n",
      "        ()\n",
      "    let v22 : string seq = seq { for i = 0 to v13.Length - 1 do yield v13.[i] }\n",
      "    let v23 : string = \"\"\n",
      "    let v24 : string = v22 |> String.concat v23\n",
      "    v24 \n",
      "    #endif\n",
      "    #if FABLE_COMPILER_TYPESCRIPT\n",
      "    let v25 : string = \"crypto\"\n",
      "    let v26 : ICryptoCreateHash = Fable.Core.JsInterop.importAll v25\n",
      "    let v27 : string = \"v26.createHash($0)\"\n",
      "    let v28 : string = \"sha256\"\n",
      "    let v29 : obj = Fable.Core.JsInterop.emitJsExpr v28 v27\n",
      "    let v30 : string = \"$0.update($1, 'utf8')\"\n",
      "    let v31 : obj = Fable.Core.JsInterop.emitJsExpr struct (v29, v0) v30\n",
      "    let v32 : string = \"$0.digest($1)\"\n",
      "    let v33 : string = \"hex\"\n",
      "    let v34 : string = Fable.Core.JsInterop.emitJsExpr struct (v31, v33) v32\n",
      "    v34 \n",
      "    #endif\n",
      "    #if FABLE_COMPILER_PYTHON || FABLE_COMPILER_PHP || FABLE_COMPILER_DART\n",
      "    let v35 : string = Unchecked.defaultof<string>\n",
      "    v35 \n",
      "    #endif\n",
      "    |> fun x -> _v1 <- Some x\n",
      "    let v36 : string = _v1.Value\n",
      "    v36\n",
      "let v0 : (string -> string) = closure0()\n",
      "let hash_text x = v0 x\n",
      "()\n",
      "\r\n"
     ]
    }
   ],
   "source": [
    "inl main () =\n",
    "    $\"let hash_text x = !hash_text x\" : ()"
   ]
  }
 ],
 "metadata": {},
 "nbformat": 4,
 "nbformat_minor": 5
}