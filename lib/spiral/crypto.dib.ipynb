{
 "cells": [
  {
   "cell_type": "markdown",
   "metadata": {},
   "source": [
    "# crypto"
   ]
  },
  {
   "cell_type": "code",
   "execution_count": null,
   "metadata": {
    "dotnet_interactive": {
     "language": "spiral"
    },
    "polyglot_notebook": {
     "kernelName": "spiral"
    }
   },
   "outputs": [
    {
     "name": "stdout",
     "output_type": "stream",
     "text": [
      "()\n",
      "\r\n"
     ]
    }
   ],
   "source": [
    "open rust_operators"
   ]
  },
  {
   "cell_type": "code",
   "execution_count": null,
   "metadata": {
    "dotnet_interactive": {
     "language": "spiral"
    },
    "polyglot_notebook": {
     "kernelName": "spiral"
    }
   },
   "outputs": [
    {
     "name": "stdout",
     "output_type": "stream",
     "text": [
      "()\n",
      "\r\n"
     ]
    }
   ],
   "source": [
    "//// test\n",
    "\n",
    "open testing\n",
    "open file_system_operators"
   ]
  },
  {
   "cell_type": "markdown",
   "metadata": {},
   "source": [
    "## types"
   ]
  },
  {
   "cell_type": "code",
   "execution_count": null,
   "metadata": {
    "dotnet_interactive": {
     "language": "spiral"
    },
    "polyglot_notebook": {
     "kernelName": "spiral"
    }
   },
   "outputs": [
    {
     "name": "stdout",
     "output_type": "stream",
     "text": [
      "()\n",
      "\r\n"
     ]
    }
   ],
   "source": [
    "inl types () =\n",
    "    global \"#if FABLE_COMPILER\\n[<Fable.Core.Erase; Fable.Core.Emit(\\\"sha2::Sha256\\\")>]\\n#endif\\ntype sha2_Sha256 = class end\""
   ]
  },
  {
   "cell_type": "code",
   "execution_count": null,
   "metadata": {
    "dotnet_interactive": {
     "language": "spiral"
    },
    "polyglot_notebook": {
     "kernelName": "spiral"
    }
   },
   "outputs": [
    {
     "name": "stdout",
     "output_type": "stream",
     "text": [
      "()\n",
      "\r\n"
     ]
    }
   ],
   "source": [
    "inl types () =\n",
    "    sm'.types ()\n",
    "    am'.types ()\n",
    "    threading.types ()\n",
    "    rust.types ()\n",
    "    date_time.types ()\n",
    "    file_system.types ()\n",
    "    stream.types ()\n",
    "    runtime.types ()\n",
    "    types ()"
   ]
  },
  {
   "cell_type": "markdown",
   "metadata": {},
   "source": [
    "## sha256"
   ]
  },
  {
   "cell_type": "code",
   "execution_count": null,
   "metadata": {
    "dotnet_interactive": {
     "language": "spiral"
    },
    "polyglot_notebook": {
     "kernelName": "spiral"
    }
   },
   "outputs": [
    {
     "name": "stdout",
     "output_type": "stream",
     "text": [
      "()\n",
      "\r\n"
     ]
    }
   ],
   "source": [
    "nominal sha256 = $'System.Security.Cryptography.SHA256'\n",
    "\n",
    "inl sha256 () : sha256 =\n",
    "    $'`sha256.Create' ()"
   ]
  },
  {
   "cell_type": "markdown",
   "metadata": {},
   "source": [
    "## sha256_compute_hash"
   ]
  },
  {
   "cell_type": "code",
   "execution_count": null,
   "metadata": {
    "dotnet_interactive": {
     "language": "spiral"
    },
    "polyglot_notebook": {
     "kernelName": "spiral"
    }
   },
   "outputs": [
    {
     "name": "stdout",
     "output_type": "stream",
     "text": [
      "()\n",
      "\r\n"
     ]
    }
   ],
   "source": [
    "inl sha256_compute_hash (x : sha256) (data : a i32 u8) : a i32 u8 =\n",
    "    data |> $'!x.ComputeHash'"
   ]
  },
  {
   "cell_type": "markdown",
   "metadata": {},
   "source": [
    "## create_hash"
   ]
  },
  {
   "cell_type": "code",
   "execution_count": null,
   "metadata": {
    "dotnet_interactive": {
     "language": "spiral"
    },
    "polyglot_notebook": {
     "kernelName": "spiral"
    }
   },
   "outputs": [
    {
     "name": "stdout",
     "output_type": "stream",
     "text": [
      "()\n",
      "\r\n"
     ]
    }
   ],
   "source": [
    "inl create_hash (x : string) : any =\n",
    "    open ts_operators\n",
    "    global \"type ICryptoCreateHash = abstract createHash: x: string -> obj\"\n",
    "    inl crypto : $'ICryptoCreateHash' = ts.import_all \"crypto\"\n",
    "    !\\\\(x, $'\"!crypto.createHash($0)\"')"
   ]
  },
  {
   "cell_type": "markdown",
   "metadata": {},
   "source": [
    "## hash_update"
   ]
  },
  {
   "cell_type": "code",
   "execution_count": null,
   "metadata": {
    "dotnet_interactive": {
     "language": "spiral"
    },
    "polyglot_notebook": {
     "kernelName": "spiral"
    }
   },
   "outputs": [
    {
     "name": "stdout",
     "output_type": "stream",
     "text": [
      "()\n",
      "\r\n"
     ]
    }
   ],
   "source": [
    "inl hash_update (s : string) (x : any) : any =\n",
    "    open ts_operators\n",
    "    !\\\\((x, s), $'\"$0.update($1, \\'utf8\\')\"')"
   ]
  },
  {
   "cell_type": "markdown",
   "metadata": {},
   "source": [
    "## hash_digest"
   ]
  },
  {
   "cell_type": "code",
   "execution_count": null,
   "metadata": {
    "dotnet_interactive": {
     "language": "spiral"
    },
    "polyglot_notebook": {
     "kernelName": "spiral"
    }
   },
   "outputs": [
    {
     "name": "stdout",
     "output_type": "stream",
     "text": [
      "()\n",
      "\r\n"
     ]
    }
   ],
   "source": [
    "inl hash_digest (s : string) (x : any) : string =\n",
    "    open ts_operators\n",
    "    !\\\\((x, s), $'\"$0.digest($1)\"')"
   ]
  },
  {
   "cell_type": "markdown",
   "metadata": {},
   "source": [
    "## hash_text"
   ]
  },
  {
   "cell_type": "code",
   "execution_count": null,
   "metadata": {
    "dotnet_interactive": {
     "language": "spiral"
    },
    "polyglot_notebook": {
     "kernelName": "spiral"
    }
   },
   "outputs": [
    {
     "name": "stdout",
     "output_type": "stream",
     "text": [
      "()\n",
      "\r\n"
     ]
    }
   ],
   "source": [
    "inl hash_text (input : string) =\n",
    "    run_target function\n",
    "        | Fsharp (Native) => fun () =>\n",
    "            inl input = join input\n",
    "            inl sha256 = sha256 () |> use\n",
    "            input\n",
    "            |> sm'.utf8_get_bytes\n",
    "            |> sha256_compute_hash sha256\n",
    "            |> am.map (sm'.byte_to_string \"x2\")\n",
    "            |> seq.of_array'\n",
    "            |> sm'.concat \"\"\n",
    "        | TypeScript _ => fun () =>\n",
    "            create_hash \"sha256\"\n",
    "            |> hash_update input\n",
    "            |> hash_digest \"hex\"\n",
    "        | _ => fun () => null ()"
   ]
  },
  {
   "cell_type": "code",
   "execution_count": null,
   "metadata": {
    "dotnet_interactive": {
     "language": "spiral"
    },
    "polyglot_notebook": {
     "kernelName": "spiral"
    }
   },
   "outputs": [
    {
     "name": "stdout",
     "output_type": "stream",
     "text": [
      "type ICryptoCreateHash = abstract createHash: x: string -> obj\n",
      "type Mut0 = {mutable l0 : int32}\n",
      "let rec method1 () : string =\n",
      "    let v0 : string = \"\"\n",
      "    v0\n",
      "and method2 (v0 : int32, v1 : Mut0) : bool =\n",
      "    let v2 : int32 = v1.l0\n",
      "    let v3 : bool = v2 < v0\n",
      "    v3\n",
      "and method3 () : string =\n",
      "    let v0 : string = \"\"\n",
      "    v0\n",
      "and method4 (v0 : bool) : bool =\n",
      "    v0\n",
      "and method0 () : unit =\n",
      "    let v0 : string option = None\n",
      "    let v1 : bool = true in let mutable _v0 = v0\n",
      "    \n",
      "#if FABLE_COMPILER || WASM || CONTRACT\n",
      "    \n",
      "#if FABLE_COMPILER_RUST && !WASM && !CONTRACT\n",
      "    let v2 : string = null |> unbox<string>\n",
      "    v2\n",
      "#endif\n",
      "    \n",
      "#if FABLE_COMPILER_RUST && WASM\n",
      "    let v3 : string = null |> unbox<string>\n",
      "    v3\n",
      "#endif\n",
      "    \n",
      "#if FABLE_COMPILER_RUST && CONTRACT\n",
      "    let v4 : string = null |> unbox<string>\n",
      "    v4\n",
      "#endif\n",
      "    \n",
      "#if FABLE_COMPILER_TYPESCRIPT\n",
      "    let v5 : string = \"crypto\"\n",
      "    let v6 : ICryptoCreateHash = Fable.Core.JsInterop.importAll v5\n",
      "    let v7 : string = \"v6.createHash($0)\"\n",
      "    let v8 : string = \"sha256\"\n",
      "    let v9 : obj = Fable.Core.JsInterop.emitJsExpr v8 v7\n",
      "    let v10 : string = \"$0.update($1, 'utf8')\"\n",
      "    let v11 : string = \"\"\n",
      "    let v12 : obj = Fable.Core.JsInterop.emitJsExpr struct (v9, v11) v10\n",
      "    let v13 : string = \"$0.digest($1)\"\n",
      "    let v14 : string = \"hex\"\n",
      "    let v15 : string = Fable.Core.JsInterop.emitJsExpr struct (v12, v14) v13\n",
      "    v15\n",
      "#endif\n",
      "    \n",
      "#if FABLE_COMPILER_PYTHON\n",
      "    let v16 : string = null |> unbox<string>\n",
      "    v16\n",
      "#endif\n",
      "    \n",
      "#else\n",
      "    let v17 : string = method1()\n",
      "    let v18 : (unit -> System.Security.Cryptography.SHA256) = System.Security.Cryptography.SHA256.Create\n",
      "    let v19 : System.Security.Cryptography.SHA256 = v18 ()\n",
      "    use v19 = v19 \n",
      "    let v20 : System.Security.Cryptography.SHA256 = v19 \n",
      "    let v21 : (string -> (uint8 [])) = System.Text.Encoding.UTF8.GetBytes\n",
      "    let v22 : (uint8 []) = v21 v17\n",
      "    let v23 : ((uint8 []) -> (uint8 [])) = v20.ComputeHash\n",
      "    let v24 : (uint8 []) = v23 v22\n",
      "    let v25 : int32 = v24.Length\n",
      "    let v26 : (string []) = Array.zeroCreate<string> (v25)\n",
      "    let v27 : Mut0 = {l0 = 0} : Mut0\n",
      "    while method2(v25, v27) do\n",
      "        let v29 : int32 = v27.l0\n",
      "        let v30 : uint8 = v24.[int v29]\n",
      "        let v31 : (string -> string) = v30.ToString\n",
      "        let v32 : string = \"x2\"\n",
      "        let v33 : string = v31 v32\n",
      "        v26.[int v29] <- v33\n",
      "        let v34 : int32 = v29 + 1\n",
      "        v27.l0 <- v34\n",
      "        ()\n",
      "    let v35 : string seq = seq { for i = 0 to v26.Length - 1 do yield v26.[i] }\n",
      "    let v36 : string = method3()\n",
      "    let v37 : (string -> (string seq -> string)) = String.concat\n",
      "    let v38 : (string seq -> string) = v37 v36\n",
      "    let v39 : string = v38 v35\n",
      "    v39\n",
      "#endif\n",
      "    |> fun x -> _v0 <- Some x\n",
      "    let v40 : string = _v0.Value\n",
      "    let v42 : bool = v40 = \"e3b0c44298fc1c149afbf4c8996fb92427ae41e4649b934ca495991b7852b855\"\n",
      "    let v44 : bool =\n",
      "        if v42 then\n",
      "            true\n",
      "        else\n",
      "            method4(v42)\n",
      "    let v45 : string = \"assert_eq\"\n",
      "    let v46 : string = \"e3b0c44298fc1c149afbf4c8996fb92427ae41e4649b934ca495991b7852b855\"\n",
      "    let v47 : string = $\"{v45} / actual: %A{v40} / expected: %A{v46}\"\n",
      "    System.Console.WriteLine v47\n",
      "    let v48 : bool = v44 = false\n",
      "    if v48 then\n",
      "        failwith<unit> v47\n",
      "method0()\n",
      "\r\n",
      "assert_eq / actual: \"e3b0c44298fc1c149afbf4c8996fb92427ae41e4649b934ca495991b7852b855\" / expected: \"e3b0c44298fc1c149afbf4c8996fb92427ae41e4649b934ca495991b7852b855\"\r\n"
     ]
    }
   ],
   "source": [
    "//// test\n",
    "\n",
    "\"\"\n",
    "|> hash_text\n",
    "|> _assert_eq \"e3b0c44298fc1c149afbf4c8996fb92427ae41e4649b934ca495991b7852b855\""
   ]
  },
  {
   "cell_type": "code",
   "execution_count": null,
   "metadata": {
    "dotnet_interactive": {
     "language": "spiral"
    },
    "polyglot_notebook": {
     "kernelName": "spiral"
    }
   },
   "outputs": [
    {
     "name": "stdout",
     "output_type": "stream",
     "text": [
      "type ICryptoCreateHash = abstract createHash: x: string -> obj\n",
      "type Mut0 = {mutable l0 : int32}\n",
      "let rec method1 () : string =\n",
      "    let v0 : string = \" \"\n",
      "    v0\n",
      "and method2 (v0 : int32, v1 : Mut0) : bool =\n",
      "    let v2 : int32 = v1.l0\n",
      "    let v3 : bool = v2 < v0\n",
      "    v3\n",
      "and method3 () : string =\n",
      "    let v0 : string = \"\"\n",
      "    v0\n",
      "and method4 (v0 : bool) : bool =\n",
      "    v0\n",
      "and method0 () : unit =\n",
      "    let v0 : string option = None\n",
      "    let v1 : bool = true in let mutable _v0 = v0\n",
      "    \n",
      "#if FABLE_COMPILER || WASM || CONTRACT\n",
      "    \n",
      "#if FABLE_COMPILER_RUST && !WASM && !CONTRACT\n",
      "    let v2 : string = null |> unbox<string>\n",
      "    v2\n",
      "#endif\n",
      "    \n",
      "#if FABLE_COMPILER_RUST && WASM\n",
      "    let v3 : string = null |> unbox<string>\n",
      "    v3\n",
      "#endif\n",
      "    \n",
      "#if FABLE_COMPILER_RUST && CONTRACT\n",
      "    let v4 : string = null |> unbox<string>\n",
      "    v4\n",
      "#endif\n",
      "    \n",
      "#if FABLE_COMPILER_TYPESCRIPT\n",
      "    let v5 : string = \"crypto\"\n",
      "    let v6 : ICryptoCreateHash = Fable.Core.JsInterop.importAll v5\n",
      "    let v7 : string = \"v6.createHash($0)\"\n",
      "    let v8 : string = \"sha256\"\n",
      "    let v9 : obj = Fable.Core.JsInterop.emitJsExpr v8 v7\n",
      "    let v10 : string = \"$0.update($1, 'utf8')\"\n",
      "    let v11 : string = \" \"\n",
      "    let v12 : obj = Fable.Core.JsInterop.emitJsExpr struct (v9, v11) v10\n",
      "    let v13 : string = \"$0.digest($1)\"\n",
      "    let v14 : string = \"hex\"\n",
      "    let v15 : string = Fable.Core.JsInterop.emitJsExpr struct (v12, v14) v13\n",
      "    v15\n",
      "#endif\n",
      "    \n",
      "#if FABLE_COMPILER_PYTHON\n",
      "    let v16 : string = null |> unbox<string>\n",
      "    v16\n",
      "#endif\n",
      "    \n",
      "#else\n",
      "    let v17 : string = method1()\n",
      "    let v18 : (unit -> System.Security.Cryptography.SHA256) = System.Security.Cryptography.SHA256.Create\n",
      "    let v19 : System.Security.Cryptography.SHA256 = v18 ()\n",
      "    use v19 = v19 \n",
      "    let v20 : System.Security.Cryptography.SHA256 = v19 \n",
      "    let v21 : (string -> (uint8 [])) = System.Text.Encoding.UTF8.GetBytes\n",
      "    let v22 : (uint8 []) = v21 v17\n",
      "    let v23 : ((uint8 []) -> (uint8 [])) = v20.ComputeHash\n",
      "    let v24 : (uint8 []) = v23 v22\n",
      "    let v25 : int32 = v24.Length\n",
      "    let v26 : (string []) = Array.zeroCreate<string> (v25)\n",
      "    let v27 : Mut0 = {l0 = 0} : Mut0\n",
      "    while method2(v25, v27) do\n",
      "        let v29 : int32 = v27.l0\n",
      "        let v30 : uint8 = v24.[int v29]\n",
      "        let v31 : (string -> string) = v30.ToString\n",
      "        let v32 : string = \"x2\"\n",
      "        let v33 : string = v31 v32\n",
      "        v26.[int v29] <- v33\n",
      "        let v34 : int32 = v29 + 1\n",
      "        v27.l0 <- v34\n",
      "        ()\n",
      "    let v35 : string seq = seq { for i = 0 to v26.Length - 1 do yield v26.[i] }\n",
      "    let v36 : string = method3()\n",
      "    let v37 : (string -> (string seq -> string)) = String.concat\n",
      "    let v38 : (string seq -> string) = v37 v36\n",
      "    let v39 : string = v38 v35\n",
      "    v39\n",
      "#endif\n",
      "    |> fun x -> _v0 <- Some x\n",
      "    let v40 : string = _v0.Value\n",
      "    let v42 : bool = v40 = \"36a9e7f1c95b82ffb99743e0c5c4ce95d83c9a430aac59f84ef3cbfab6145068\"\n",
      "    let v44 : bool =\n",
      "        if v42 then\n",
      "            true\n",
      "        else\n",
      "            method4(v42)\n",
      "    let v45 : string = \"assert_eq\"\n",
      "    let v46 : string = \"36a9e7f1c95b82ffb99743e0c5c4ce95d83c9a430aac59f84ef3cbfab6145068\"\n",
      "    let v47 : string = $\"{v45} / actual: %A{v40} / expected: %A{v46}\"\n",
      "    System.Console.WriteLine v47\n",
      "    let v48 : bool = v44 = false\n",
      "    if v48 then\n",
      "        failwith<unit> v47\n",
      "method0()\n",
      "\r\n",
      "assert_eq / actual: \"36a9e7f1c95b82ffb99743e0c5c4ce95d83c9a430aac59f84ef3cbfab6145068\" / expected: \"36a9e7f1c95b82ffb99743e0c5c4ce95d83c9a430aac59f84ef3cbfab6145068\"\r\n"
     ]
    }
   ],
   "source": [
    "//// test\n",
    "\n",
    "\" \"\n",
    "|> hash_text\n",
    "|> _assert_eq \"36a9e7f1c95b82ffb99743e0c5c4ce95d83c9a430aac59f84ef3cbfab6145068\""
   ]
  },
  {
   "cell_type": "markdown",
   "metadata": {},
   "source": [
    "## get_file_hash"
   ]
  },
  {
   "cell_type": "code",
   "execution_count": null,
   "metadata": {
    "dotnet_interactive": {
     "language": "spiral"
    },
    "polyglot_notebook": {
     "kernelName": "spiral"
    }
   },
   "outputs": [
    {
     "name": "stdout",
     "output_type": "stream",
     "text": [
      "()\n",
      "\r\n"
     ]
    }
   ],
   "source": [
    "inl get_file_hash (path : string) : result string string =\n",
    "    inl path = path |> file_system.normalize_path\n",
    "    inl exit_code, result =\n",
    "        runtime.execution_options fun x => { x with\n",
    "            command = $'$\"pwsh -c \\\\\\\"(Get-FileHash \\\\\\\\\\\\\"{!path}\\\\\\\\\\\\\" -Algorithm SHA256).Hash\\\\\\\"\"'\n",
    "        }\n",
    "        |> runtime.execute_with_options\n",
    "    if exit_code = 0\n",
    "    then Ok result\n",
    "    else Error result"
   ]
  },
  {
   "cell_type": "code",
   "execution_count": null,
   "metadata": {
    "dotnet_interactive": {
     "language": "spiral"
    },
    "polyglot_notebook": {
     "kernelName": "spiral"
    }
   },
   "outputs": [
    {
     "data": {
      "text/plain": [
       "01:35:29 \u001B[90mverbose\u001B[39m #1 file_system.create_directory / dir: C:\\Users\\i574n\\AppData\\Local\\Temp\\!spiral_eval\\20240503-0135-2967-3989-00000032cb15\n",
       "01:35:29 \u001B[94m  debug\u001B[39m #2 execute_with_options / file_name: pwsh / arguments: [\"-c\", \"(Get-FileHash \\\"c:/Users/i574n/AppData/Local/Temp/!spiral_eval/20240503-0135-2967-3989-00000032cb15/test.txt\\\" -Algorithm SHA256).Hash\"] / options: (None, \"pwsh -c \"(Get-FileHash \\\"c:/Users/i574n/AppData/Local/Temp/!spiral_eval/20240503-0135-2967-3989-00000032cb15/test.txt\\\" -Algorithm SHA256).Hash\"\", Array(MutCell([])), None, None, None)\n",
       "01:35:30 \u001B[90mverbose\u001B[39m #3 > E3B0C44298FC1C149AFBF4C8996FB92427AE41E4649B934CA495991B7852B855\n",
       "01:35:30 \u001B[90mverbose\u001B[39m #4 execute_with_options / exit_code: 0 / std_trace.Length: 64\n",
       "assert_eq / actual: \"E3B0C44298FC1C149AFBF4C8996FB92427AE41E4649B934CA495991B7852B855\" / expected: \"E3B0C44298FC1C149AFBF4C8996FB92427AE41E4649B934CA495991B7852B855\"\n"
      ]
     },
     "metadata": {},
     "output_type": "display_data"
    }
   ],
   "source": [
    "//// test\n",
    "//// print_code=false\n",
    "///! rust\n",
    "\n",
    "types ()\n",
    "inl temp_folder, disposable = file_system.create_temp_directory ()\n",
    "\n",
    "inl file_name = join \"test.txt\"\n",
    "inl path = temp_folder </> file_name\n",
    "\"\" |> file_system.write_all_text path\n",
    "path\n",
    "|> get_file_hash\n",
    "|> resultm.get\n",
    "|> _assert_eq \"E3B0C44298FC1C149AFBF4C8996FB92427AE41E4649B934CA495991B7852B855\"\n",
    "disposable |> use |> ignore"
   ]
  },
  {
   "cell_type": "markdown",
   "metadata": {},
   "source": [
    "## hash_file"
   ]
  },
  {
   "cell_type": "markdown",
   "metadata": {},
   "source": [
    "## sha256'"
   ]
  },
  {
   "cell_type": "code",
   "execution_count": null,
   "metadata": {
    "dotnet_interactive": {
     "language": "spiral"
    },
    "polyglot_notebook": {
     "kernelName": "spiral"
    }
   },
   "outputs": [
    {
     "name": "stdout",
     "output_type": "stream",
     "text": [
      "()\n",
      "\r\n"
     ]
    }
   ],
   "source": [
    "nominal sha256' = $'sha2_Sha256'"
   ]
  },
  {
   "cell_type": "markdown",
   "metadata": {},
   "source": [
    "## new_sha256"
   ]
  },
  {
   "cell_type": "code",
   "execution_count": null,
   "metadata": {
    "dotnet_interactive": {
     "language": "spiral"
    },
    "polyglot_notebook": {
     "kernelName": "spiral"
    }
   },
   "outputs": [
    {
     "name": "stdout",
     "output_type": "stream",
     "text": [
      "()\n",
      "\r\n"
     ]
    }
   ],
   "source": [
    "inl new_sha256 () : sha256' =\n",
    "    !\\($'\"sha2::Sha256::new()\"')"
   ]
  },
  {
   "cell_type": "markdown",
   "metadata": {},
   "source": [
    "## hasher_update"
   ]
  },
  {
   "cell_type": "code",
   "execution_count": null,
   "metadata": {
    "dotnet_interactive": {
     "language": "spiral"
    },
    "polyglot_notebook": {
     "kernelName": "spiral"
    }
   },
   "outputs": [
    {
     "name": "stdout",
     "output_type": "stream",
     "text": [
      "()\n",
      "\r\n"
     ]
    }
   ],
   "source": [
    "inl hasher_update forall t dim. (slice : am'.slice' t dim) (hasher : sha256') : () =\n",
    "    !\\($'\"!hasher\"')"
   ]
  },
  {
   "cell_type": "markdown",
   "metadata": {},
   "source": [
    "## hasher_finalize"
   ]
  },
  {
   "cell_type": "code",
   "execution_count": null,
   "metadata": {
    "dotnet_interactive": {
     "language": "spiral"
    },
    "polyglot_notebook": {
     "kernelName": "spiral"
    }
   },
   "outputs": [
    {
     "name": "stdout",
     "output_type": "stream",
     "text": [
      "()\n",
      "\r\n"
     ]
    }
   ],
   "source": [
    "inl hasher_finalize (hasher : sha256') : sm'.std_string =\n",
    "    !\\($'\"!hasher\"')"
   ]
  },
  {
   "cell_type": "markdown",
   "metadata": {},
   "source": [
    "## hash_file"
   ]
  },
  {
   "cell_type": "code",
   "execution_count": null,
   "metadata": {
    "dotnet_interactive": {
     "language": "spiral"
    },
    "polyglot_notebook": {
     "kernelName": "spiral"
    }
   },
   "outputs": [
    {
     "name": "stdout",
     "output_type": "stream",
     "text": [
      "()\n",
      "\r\n"
     ]
    }
   ],
   "source": [
    "inl hash_file (path : string) : result string string =\n",
    "    inl path = path |> file_system.normalize_path\n",
    "    inl file = path |> file_system.file_open |> resultm.unwrap'\n",
    "    inl reader = file |> stream.new_buf_reader\n",
    "    inl hasher = new_sha256 ()\n",
    "    inl buffer : _ i32 i32 = (0, 1014) |> am'.new_slice\n",
    "\n",
    "    rust.loop fun () =>\n",
    "        inl count = reader |> stream.buf_reader_read buffer |> resultm.unwrap'\n",
    "        if count = 0 then rust.break ()\n",
    "        hasher |> hasher_update (buffer |> am'.slice_range (am'.Start 0) (am'.End fun _ => count))\n",
    "\n",
    "    hasher |> hasher_finalize |> sm'.from_std_string |> Ok"
   ]
  },
  {
   "cell_type": "code",
   "execution_count": null,
   "metadata": {
    "dotnet_interactive": {
     "language": "spiral"
    },
    "polyglot_notebook": {
     "kernelName": "spiral"
    }
   },
   "outputs": [
    {
     "data": {
      "text/plain": [
       "01:35:46 \u001B[90mverbose\u001B[39m #1 file_system.create_directory / dir: C:\\Users\\i574n\\AppData\\Local\\Temp\\!spiral_eval\\20240503-0135-4616-0040-00000016561e\n"
      ]
     },
     "metadata": {},
     "output_type": "display_data"
    }
   ],
   "source": [
    "//// test\n",
    "//// print_code=false\n",
    "///! rust\n",
    "\n",
    "types ()\n",
    "inl temp_folder, disposable = file_system.create_temp_directory ()\n",
    "\n",
    "fun () =>\n",
    "    inl file_name = join \"test.txt\"\n",
    "    inl path = temp_folder </> file_name\n",
    "    \"\" |> file_system.write_all_text path\n",
    "    path\n",
    "    |> hash_file\n",
    "    |> resultm.get\n",
    "    |> _assert_eq \"E3B0C44298FC1C149AFBF4C8996FB92427AE41E4649B934CA495991B7852B855\"\n",
    "|> ignore\n",
    "disposable |> use |> ignore"
   ]
  },
  {
   "cell_type": "markdown",
   "metadata": {},
   "source": [
    "## main"
   ]
  },
  {
   "cell_type": "code",
   "execution_count": null,
   "metadata": {
    "dotnet_interactive": {
     "language": "spiral"
    },
    "polyglot_notebook": {
     "kernelName": "spiral"
    }
   },
   "outputs": [
    {
     "name": "stdout",
     "output_type": "stream",
     "text": [
      "#if FABLE_COMPILER\n",
      "[<Fable.Core.Erase; Fable.Core.Emit(\"Func0<$0>\")>]\n",
      "#endif\n",
      "type Func0<'T> = class end\n",
      "#if FABLE_COMPILER\n",
      "[<Fable.Core.Erase; Fable.Core.Emit(\"Func1<$0, $1>\")>]\n",
      "#endif\n",
      "type Func0<'T, 'U> = class end\n",
      "#if FABLE_COMPILER\n",
      "[<Fable.Core.Erase; Fable.Core.Emit(\"Box<$0>\")>]\n",
      "#endif\n",
      "type Box<'T> = class end\n",
      "#if FABLE_COMPILER\n",
      "[<Fable.Core.Erase; Fable.Core.Emit(\"dyn $0\")>]\n",
      "#endif\n",
      "type Dyn<'T> = class end\n",
      "#if FABLE_COMPILER\n",
      "[<Fable.Core.Erase; Fable.Core.Emit(\"$0 + Send\")>]\n",
      "#endif\n",
      "type Send<'T> = class end\n",
      "#if FABLE_COMPILER\n",
      "[<Fable.Core.Erase; Fable.Core.Emit(\"Fn() -> $0\")>]\n",
      "#endif\n",
      "type Fn<'T> = class end\n",
      "#if FABLE_COMPILER\n",
      "[<Fable.Core.Erase; Fable.Core.Emit(\"Fn()\")>]\n",
      "#endif\n",
      "type FnUnit = class end\n",
      "#if FABLE_COMPILER\n",
      "[<Fable.Core.Erase; Fable.Core.Emit(\"FnOnce() -> $0\")>]\n",
      "#endif\n",
      "type FnOnce<'T> = class end\n",
      "#if FABLE_COMPILER\n",
      "[<Fable.Core.Erase; Fable.Core.Emit(\"Fn($0)\")>]\n",
      "#endif\n",
      "type ActionFn<'T> = class end\n",
      "#if FABLE_COMPILER\n",
      "[<Fable.Core.Erase; Fable.Core.Emit(\"Fn($0, $1)\")>]\n",
      "#endif\n",
      "type ActionFn2<'T, 'U> = class end\n",
      "#if FABLE_COMPILER\n",
      "[<Fable.Core.Erase; Fable.Core.Emit(\"impl $0\")>]\n",
      "#endif\n",
      "type Impl<'T> = class end\n",
      "#if FABLE_COMPILER\n",
      "[<Fable.Core.Erase; Fable.Core.Emit(\"mut $0\")>]\n",
      "#endif\n",
      "type Mut<'T> = class end\n",
      "#if FABLE_COMPILER\n",
      "[<Fable.Core.Erase; Fable.Core.Emit(\"&$0\")>]\n",
      "#endif\n",
      "type Ref<'T> = class end\n",
      "#if FABLE_COMPILER\n",
      "[<Fable.Core.Erase; Fable.Core.Emit(\"&'static $0\")>]\n",
      "#endif\n",
      "type StaticRef<'T> = class end\n",
      "#if FABLE_COMPILER\n",
      "[<Fable.Core.Erase; Fable.Core.Emit(\"MutCell<$0>\")>]\n",
      "#endif\n",
      "type MutCell<'T> = class end\n",
      "#if FABLE_COMPILER\n",
      "[<Fable.Core.Erase; Fable.Core.Emit(\"std::any::Any\")>]\n",
      "#endif\n",
      "type std_any_Any = class end\n",
      "#if FABLE_COMPILER\n",
      "[<Fable.Core.Erase; Fable.Core.Emit(\"std::borrow::Cow<$0>\")>]\n",
      "#endif\n",
      "type std_borrow_Cow<'T> = class end\n",
      "#if FABLE_COMPILER\n",
      "[<Fable.Core.Erase; Fable.Core.Emit(\"std::cell::RefCell<$0>\")>]\n",
      "#endif\n",
      "type std_cell_RefCell<'T> = class end\n",
      "#if FABLE_COMPILER\n",
      "[<Fable.Core.Erase; Fable.Core.Emit(\"std::pin::Pin<$0>\")>]\n",
      "#endif\n",
      "type std_pin_Pin<'T> = class end\n",
      "#if FABLE_COMPILER\n",
      "[<Fable.Core.Erase; Fable.Core.Emit(\"std::rc::Rc<$0>\")>]\n",
      "#endif\n",
      "type std_rc_Rc<'T> = class end\n",
      "#if FABLE_COMPILER\n",
      "[<Fable.Core.Erase; Fable.Core.Emit(\"std::rc::Weak<$0>\")>]\n",
      "#endif\n",
      "type std_rc_Weak<'T> = class end\n",
      "#if FABLE_COMPILER\n",
      "[<Fable.Core.Erase; Fable.Core.Emit(\"str\")>]\n",
      "#endif\n",
      "type Str = class end\n",
      "#if FABLE_COMPILER\n",
      "[<Fable.Core.Erase; Fable.Core.Emit(\"base64::DecodeError\")>]\n",
      "#endif\n",
      "type base64_DecodeError = class end\n",
      "#if FABLE_COMPILER\n",
      "[<Fable.Core.Erase; Fable.Core.Emit(\"borsh::io::Error\")>]\n",
      "#endif\n",
      "type borsh_io_Error = class end\n",
      "#if FABLE_COMPILER\n",
      "[<Fable.Core.Erase; Fable.Core.Emit(\"js_sys::JsString\")>]\n",
      "#endif\n",
      "type js_sys_JsString = class end\n",
      "#if FABLE_COMPILER\n",
      "[<Fable.Core.Erase; Fable.Core.Emit(\"serde_json::Error\")>]\n",
      "#endif\n",
      "type serde_json_Error = class end\n",
      "#if FABLE_COMPILER\n",
      "[<Fable.Core.Erase; Fable.Core.Emit(\"serde_json::Value\")>]\n",
      "#endif\n",
      "type serde_json_Value = class end\n",
      "#if FABLE_COMPILER\n",
      "[<Fable.Core.Erase; Fable.Core.Emit(\"serde_wasm_bindgen::Error\")>]\n",
      "#endif\n",
      "type serde_wasm_bindgen_Error = class end\n",
      "#if FABLE_COMPILER\n",
      "[<Fable.Core.Erase; Fable.Core.Emit(\"std::ffi::OsStr\")>]\n",
      "#endif\n",
      "type std_ffi_OsStr = class end\n",
      "#if FABLE_COMPILER\n",
      "[<Fable.Core.Erase; Fable.Core.Emit(\"std::ffi::OsString\")>]\n",
      "#endif\n",
      "type std_ffi_OsString = class end\n",
      "#if FABLE_COMPILER\n",
      "[<Fable.Core.Erase; Fable.Core.Emit(\"std::fmt::Display<$0>\")>]\n",
      "#endif\n",
      "type std_fmt_Display<'T> = class end\n",
      "#if FABLE_COMPILER\n",
      "[<Fable.Core.Erase; Fable.Core.Emit(\"std::str::Utf8Error\")>]\n",
      "#endif\n",
      "type std_str_Utf8Error = class end\n",
      "#if FABLE_COMPILER\n",
      "[<Fable.Core.Erase; Fable.Core.Emit(\"std::string::FromUtf8Error\")>]\n",
      "#endif\n",
      "type std_string_FromUtf8Error = class end\n",
      "#if FABLE_COMPILER\n",
      "[<Fable.Core.Erase; Fable.Core.Emit(\"std::string::String\")>]\n",
      "#endif\n",
      "type std_string_String = class end\n",
      "#if FABLE_COMPILER\n",
      "[<Fable.Core.Erase; Fable.Core.Emit(\"std::slice::Windows<$0>\")>]\n",
      "#endif\n",
      "type std_slice_Windows<'T> = class end\n",
      "#if FABLE_COMPILER\n",
      "[<Fable.Core.Erase; Fable.Core.Emit(\"[$0]\")>]\n",
      "#endif\n",
      "type Slice<'T> = class end\n",
      "#if FABLE_COMPILER\n",
      "[<Fable.Core.Erase; Fable.Core.Emit(\"[$0; $1]\")>]\n",
      "#endif\n",
      "type Slice'<'T, 'U> = class end\n",
      "#if FABLE_COMPILER\n",
      "[<Fable.Core.Erase; Fable.Core.Emit(\"Vec<$0>\")>]\n",
      "#endif\n",
      "type Vec<'T> = class end\n",
      "#if FABLE_COMPILER\n",
      "[<Fable.Core.Erase; Fable.Core.Emit(\"std::thread::JoinHandle<$0>\")>]\n",
      "#endif\n",
      "type std_thread_JoinHandle<'T> = class end\n",
      "#if FABLE_COMPILER\n",
      "[<Fable.Core.Erase; Fable.Core.Emit(\"std::sync::Arc<$0>\")>]\n",
      "#endif\n",
      "type std_sync_Arc<'T> = class end\n",
      "#if FABLE_COMPILER\n",
      "[<Fable.Core.Erase; Fable.Core.Emit(\"std::sync::Mutex<$0>\")>]\n",
      "#endif\n",
      "type std_sync_Mutex<'T> = class end\n",
      "#if FABLE_COMPILER\n",
      "[<Fable.Core.Erase; Fable.Core.Emit(\"std::sync::MutexGuard<$0>\")>]\n",
      "#endif\n",
      "type std_sync_MutexGuard<'T> = class end\n",
      "#if FABLE_COMPILER\n",
      "[<Fable.Core.Erase; Fable.Core.Emit(\"std::sync::PoisonError<$0>\")>]\n",
      "#endif\n",
      "type std_sync_PoisonError<'T> = class end\n",
      "#if FABLE_COMPILER\n",
      "[<Fable.Core.Erase; Fable.Core.Emit(\"chrono::DateTime<$0>\")>]\n",
      "#endif\n",
      "type chrono_DateTime<'T> = class end\n",
      "#if FABLE_COMPILER\n",
      "[<Fable.Core.Erase; Fable.Core.Emit(\"chrono::Local\")>]\n",
      "#endif\n",
      "type chrono_Local = class end\n",
      "#if FABLE_COMPILER\n",
      "[<Fable.Core.Erase; Fable.Core.Emit(\"chrono::NaiveDateTime\")>]\n",
      "#endif\n",
      "type chrono_NaiveDateTime = class end\n",
      "#if FABLE_COMPILER\n",
      "[<Fable.Core.Erase; Fable.Core.Emit(\"chrono::Utc\")>]\n",
      "#endif\n",
      "type chrono_Utc = class end\n",
      "#if FABLE_COMPILER\n",
      "[<Fable.Core.Erase; Fable.Core.Emit(\"std::time::Duration\")>]\n",
      "#endif\n",
      "type std_time_Duration = class end\n",
      "#if FABLE_COMPILER\n",
      "[<Fable.Core.Erase; Fable.Core.Emit(\"async_std::io::BufReader<$0>\")>]\n",
      "#endif\n",
      "type async_std_io_BufReader<'T> = class end\n",
      "#if FABLE_COMPILER\n",
      "[<Fable.Core.Erase; Fable.Core.Emit(\"std::io::BufReader<$0>\")>]\n",
      "#endif\n",
      "type std_io_BufReader<'T> = class end\n",
      "#if FABLE_COMPILER\n",
      "[<Fable.Core.Erase; Fable.Core.Emit(\"std::io::Error\")>]\n",
      "#endif\n",
      "type std_io_Error = class end\n",
      "#if FABLE_COMPILER\n",
      "[<Fable.Core.Erase; Fable.Core.Emit(\"std::io::Lines<$0>\")>]\n",
      "#endif\n",
      "type std_io_Lines<'T> = class end\n",
      "#if FABLE_COMPILER\n",
      "[<Fable.Core.Erase; Fable.Core.Emit(\"std::fs::File\")>]\n",
      "#endif\n",
      "type std_fs_File = class end\n",
      "#if FABLE_COMPILER\n",
      "[<Fable.Core.Erase; Fable.Core.Emit(\"std::fs::FileType\")>]\n",
      "#endif\n",
      "type std_fs_FileType = class end\n",
      "#if FABLE_COMPILER\n",
      "[<Fable.Core.Erase; Fable.Core.Emit(\"std::path::Display\")>]\n",
      "#endif\n",
      "type std_path_Display = class end\n",
      "#if FABLE_COMPILER\n",
      "[<Fable.Core.Erase; Fable.Core.Emit(\"std::path::Path\")>]\n",
      "#endif\n",
      "type std_path_Path = class end\n",
      "#if FABLE_COMPILER\n",
      "[<Fable.Core.Erase; Fable.Core.Emit(\"std::path::PathBuf\")>]\n",
      "#endif\n",
      "type std_path_PathBuf = class end\n",
      "#if FABLE_COMPILER\n",
      "[<Fable.Core.Erase; Fable.Core.Emit(\"async_walkdir::DirEntry\")>]\n",
      "#endif\n",
      "type async_walkdir_DirEntry = class end\n",
      "#if FABLE_COMPILER\n",
      "[<Fable.Core.Erase; Fable.Core.Emit(\"async_walkdir::Filtering\")>]\n",
      "#endif\n",
      "type async_walkdir_Filtering = class end\n",
      "#if FABLE_COMPILER\n",
      "[<Fable.Core.Erase; Fable.Core.Emit(\"async_walkdir::WalkDir\")>]\n",
      "#endif\n",
      "type async_walkdir_WalkDir = class end\n",
      "#if FABLE_COMPILER\n",
      "[<Fable.Core.Erase; Fable.Core.Emit(\"std::future::Future<Output = $0>\")>]\n",
      "#endif\n",
      "type std_future_Future<'T> = class end\n",
      "#if FABLE_COMPILER\n",
      "[<Fable.Core.Erase; Fable.Core.Emit(\"futures::future::TryJoinAll<$0>\")>]\n",
      "#endif\n",
      "type futures_future_TryJoinAll<'T> = class end\n",
      "#if FABLE_COMPILER\n",
      "[<Fable.Core.Erase; Fable.Core.Emit(\"rayon::vec::IntoIter<$0>\")>]\n",
      "#endif\n",
      "type rayon_vec_IntoIter<'T> = class end\n",
      "#if FABLE_COMPILER\n",
      "[<Fable.Core.Erase; Fable.Core.Emit(\"rayon::iter::Map<$0, _>\")>]\n",
      "#endif\n",
      "type rayon_iter_Map<'T> = class end\n",
      "#if FABLE_COMPILER\n",
      "[<Fable.Core.Erase; Fable.Core.Emit(\"futures_lite::stream::StreamExt\")>]\n",
      "#endif\n",
      "type futures_lite_stream_StreamExt = class end\n",
      "#if FABLE_COMPILER\n",
      "[<Fable.Core.Erase; Fable.Core.Emit(\"core::iter::Fuse<$0>\")>]\n",
      "#endif\n",
      "type core_iter_Fuse<'T> = class end\n",
      "#if FABLE_COMPILER\n",
      "[<Fable.Core.Erase; Fable.Core.Emit(\"clap::Arg\")>]\n",
      "#endif\n",
      "type clap_Arg = class end\n",
      "#if FABLE_COMPILER\n",
      "[<Fable.Core.Erase; Fable.Core.Emit(\"clap::Command\")>]\n",
      "#endif\n",
      "type clap_Command = class end\n",
      "#if FABLE_COMPILER\n",
      "[<Fable.Core.Erase; Fable.Core.Emit(\"clap::ArgMatches\")>]\n",
      "#endif\n",
      "type clap_ArgMatches = class end\n",
      "#if FABLE_COMPILER\n",
      "[<Fable.Core.Erase; Fable.Core.Emit(\"std::process::Child\")>]\n",
      "#endif\n",
      "type std_process_Child = class end\n",
      "#if FABLE_COMPILER\n",
      "[<Fable.Core.Erase; Fable.Core.Emit(\"std::process::ChildStderr\")>]\n",
      "#endif\n",
      "type std_process_ChildStderr = class end\n",
      "#if FABLE_COMPILER\n",
      "[<Fable.Core.Erase; Fable.Core.Emit(\"std::process::ChildStdout\")>]\n",
      "#endif\n",
      "type std_process_ChildStdout = class end\n",
      "#if FABLE_COMPILER\n",
      "[<Fable.Core.Erase; Fable.Core.Emit(\"std::process::ChildStdin\")>]\n",
      "#endif\n",
      "type std_process_ChildStdin = class end\n",
      "#if FABLE_COMPILER\n",
      "[<Fable.Core.Erase; Fable.Core.Emit(\"std::process::Command\")>]\n",
      "#endif\n",
      "type std_process_Command = class end\n",
      "#if FABLE_COMPILER\n",
      "[<Fable.Core.Erase; Fable.Core.Emit(\"std::process::Output\")>]\n",
      "#endif\n",
      "type std_process_Output = class end\n",
      "#if FABLE_COMPILER\n",
      "[<Fable.Core.Erase; Fable.Core.Emit(\"std::process::Stdio\")>]\n",
      "#endif\n",
      "type std_process_Stdio = class end\n",
      "#if FABLE_COMPILER\n",
      "[<Fable.Core.Erase; Fable.Core.Emit(\"std::sync::mpsc::Receiver<$0>\")>]\n",
      "#endif\n",
      "type std_sync_mpsc_Receiver<'T> = class end\n",
      "#if FABLE_COMPILER\n",
      "[<Fable.Core.Erase; Fable.Core.Emit(\"std::sync::mpsc::Sender<$0>\")>]\n",
      "#endif\n",
      "type std_sync_mpsc_Sender<'T> = class end\n",
      "#if FABLE_COMPILER\n",
      "[<Fable.Core.Erase; Fable.Core.Emit(\"sha2::Sha256\")>]\n",
      "#endif\n",
      "type sha2_Sha256 = class end\n",
      "type ICryptoCreateHash = abstract createHash: x: string -> obj\n",
      "type Mut0 = {mutable l0 : int32}\n",
      "let rec method0 (v0 : string) : string =\n",
      "    v0\n",
      "and method1 (v0 : int32, v1 : Mut0) : bool =\n",
      "    let v2 : int32 = v1.l0\n",
      "    let v3 : bool = v2 < v0\n",
      "    v3\n",
      "and method2 () : string =\n",
      "    let v0 : string = \"\"\n",
      "    v0\n",
      "and closure0 () (v0 : string) : string =\n",
      "    let v1 : string option = None\n",
      "    let v2 : bool = true in let mutable _v1 = v1\n",
      "    \n",
      "#if FABLE_COMPILER || WASM || CONTRACT\n",
      "    \n",
      "#if FABLE_COMPILER_RUST && !WASM && !CONTRACT\n",
      "    let v3 : string = null |> unbox<string>\n",
      "    v3\n",
      "#endif\n",
      "    \n",
      "#if FABLE_COMPILER_RUST && WASM\n",
      "    let v4 : string = null |> unbox<string>\n",
      "    v4\n",
      "#endif\n",
      "    \n",
      "#if FABLE_COMPILER_RUST && CONTRACT\n",
      "    let v5 : string = null |> unbox<string>\n",
      "    v5\n",
      "#endif\n",
      "    \n",
      "#if FABLE_COMPILER_TYPESCRIPT\n",
      "    let v6 : string = \"crypto\"\n",
      "    let v7 : ICryptoCreateHash = Fable.Core.JsInterop.importAll v6\n",
      "    let v8 : string = \"v7.createHash($0)\"\n",
      "    let v9 : string = \"sha256\"\n",
      "    let v10 : obj = Fable.Core.JsInterop.emitJsExpr v9 v8\n",
      "    let v11 : string = \"$0.update($1, 'utf8')\"\n",
      "    let v12 : obj = Fable.Core.JsInterop.emitJsExpr struct (v10, v0) v11\n",
      "    let v13 : string = \"$0.digest($1)\"\n",
      "    let v14 : string = \"hex\"\n",
      "    let v15 : string = Fable.Core.JsInterop.emitJsExpr struct (v12, v14) v13\n",
      "    v15\n",
      "#endif\n",
      "    \n",
      "#if FABLE_COMPILER_PYTHON\n",
      "    let v16 : string = null |> unbox<string>\n",
      "    v16\n",
      "#endif\n",
      "    \n",
      "#else\n",
      "    let v17 : string = method0(v0)\n",
      "    let v18 : (unit -> System.Security.Cryptography.SHA256) = System.Security.Cryptography.SHA256.Create\n",
      "    let v19 : System.Security.Cryptography.SHA256 = v18 ()\n",
      "    use v19 = v19 \n",
      "    let v20 : System.Security.Cryptography.SHA256 = v19 \n",
      "    let v21 : (string -> (uint8 [])) = System.Text.Encoding.UTF8.GetBytes\n",
      "    let v22 : (uint8 []) = v21 v17\n",
      "    let v23 : ((uint8 []) -> (uint8 [])) = v20.ComputeHash\n",
      "    let v24 : (uint8 []) = v23 v22\n",
      "    let v25 : int32 = v24.Length\n",
      "    let v26 : (string []) = Array.zeroCreate<string> (v25)\n",
      "    let v27 : Mut0 = {l0 = 0} : Mut0\n",
      "    while method1(v25, v27) do\n",
      "        let v29 : int32 = v27.l0\n",
      "        let v30 : uint8 = v24.[int v29]\n",
      "        let v31 : (string -> string) = v30.ToString\n",
      "        let v32 : string = \"x2\"\n",
      "        let v33 : string = v31 v32\n",
      "        v26.[int v29] <- v33\n",
      "        let v34 : int32 = v29 + 1\n",
      "        v27.l0 <- v34\n",
      "        ()\n",
      "    let v35 : string seq = seq { for i = 0 to v26.Length - 1 do yield v26.[i] }\n",
      "    let v36 : string = method2()\n",
      "    let v37 : (string -> (string seq -> string)) = String.concat\n",
      "    let v38 : (string seq -> string) = v37 v36\n",
      "    let v39 : string = v38 v35\n",
      "    v39\n",
      "#endif\n",
      "    |> fun x -> _v1 <- Some x\n",
      "    let v40 : string = _v1.Value\n",
      "    v40\n",
      "let v0 : (string -> string) = closure0()\n",
      "let hash_text x = v0 x\n",
      "()\n",
      "\r\n"
     ]
    }
   ],
   "source": [
    "inl main () =\n",
    "    types ()\n",
    "    $\"let hash_text x = !hash_text x\" : ()"
   ]
  }
 ],
 "metadata": {},
 "nbformat": 4,
 "nbformat_minor": 5
}