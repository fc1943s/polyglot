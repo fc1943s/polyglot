{
 "cells": [
  {
   "cell_type": "markdown",
   "metadata": {},
   "source": [
    "# trace"
   ]
  },
  {
   "cell_type": "code",
   "execution_count": null,
   "metadata": {
    "dotnet_interactive": {
     "language": "spiral"
    },
    "polyglot_notebook": {
     "kernelName": "spiral"
    }
   },
   "outputs": [
    {
     "name": "stdout",
     "output_type": "stream",
     "text": [
      "()\n",
      "\r\n"
     ]
    }
   ],
   "source": [
    "// // test\n",
    "\n",
    "open testing"
   ]
  },
  {
   "cell_type": "markdown",
   "metadata": {},
   "source": [
    "## trace_level"
   ]
  },
  {
   "cell_type": "code",
   "execution_count": null,
   "metadata": {
    "dotnet_interactive": {
     "language": "spiral"
    },
    "polyglot_notebook": {
     "kernelName": "spiral"
    }
   },
   "outputs": [
    {
     "name": "stdout",
     "output_type": "stream",
     "text": [
      "()\n",
      "\r\n"
     ]
    }
   ],
   "source": [
    "union trace_level =\n",
    "    | Verbose\n",
    "    | Debug\n",
    "    | Info\n",
    "    | Warning\n",
    "    | Critical\n",
    "\n",
    "instance to_string trace_level = function\n",
    "    | Verbose => \"Verbose\"\n",
    "    | Debug => \"Debug\"\n",
    "    | Info => \"Info\"\n",
    "    | Warning => \"Warning\"\n",
    "    | Critical => \"Critical\"\n",
    "\n",
    "instance of_string trace_level = function\n",
    "    | \"Verbose\" => Verbose\n",
    "    | \"Debug\" => Debug\n",
    "    | \"Info\" => Info\n",
    "    | \"Warning\" => Warning\n",
    "    | \"Critical\" => Critical"
   ]
  },
  {
   "cell_type": "markdown",
   "metadata": {},
   "source": [
    "## repl_start"
   ]
  },
  {
   "cell_type": "code",
   "execution_count": null,
   "metadata": {
    "dotnet_interactive": {
     "language": "spiral"
    },
    "polyglot_notebook": {
     "kernelName": "spiral"
    }
   },
   "outputs": [
    {
     "name": "stdout",
     "output_type": "stream",
     "text": [
      "()\n",
      "\r\n"
     ]
    }
   ],
   "source": [
    "inl repl_start () : optionm'.option' i64 =\n",
    "    inl result : optionm'.option' (optionm'.option' i64) = optionm'.none' ()\n",
    "    $\"let mutable _!result = !result\"\n",
    "    $'#if INTERACTIVE || \\!FABLE_COMPILER' : ()\n",
    "    if get_entry_assembly_name () <> \"Microsoft.DotNet.Interactive.App\"\n",
    "    then date_time.now () |> date_time.ticks |> Some\n",
    "    else None\n",
    "    |> optionm'.box\n",
    "    |> fun x =>\n",
    "        inl x = join x\n",
    "        $'!x '\n",
    "    $'#else' : ()\n",
    "    (None : option i64) |> optionm'.box\n",
    "    |> fun x =>\n",
    "        inl x = join x\n",
    "        $'!x '\n",
    "    $'#endif' : ()\n",
    "    $\"|> fun x -> _!result <- Some x\"\n",
    "    $'_!result.Value'"
   ]
  },
  {
   "cell_type": "markdown",
   "metadata": {},
   "source": [
    "## trace_state"
   ]
  },
  {
   "cell_type": "code",
   "execution_count": null,
   "metadata": {
    "dotnet_interactive": {
     "language": "spiral"
    },
    "polyglot_notebook": {
     "kernelName": "spiral"
    }
   },
   "outputs": [
    {
     "name": "stdout",
     "output_type": "stream",
     "text": [
      "()\n",
      "\r\n"
     ]
    }
   ],
   "source": [
    "type trace_state =\n",
    "    {\n",
    "        count : mut i64\n",
    "        dump : mut bool\n",
    "        enabled : mut bool\n",
    "        level : mut trace_level\n",
    "        repl_start : optionm'.option' i64\n",
    "    }\n",
    "\n",
    "inl new_trace_state () =\n",
    "    {\n",
    "        enabled = mut true\n",
    "        count = mut 0i64\n",
    "        level = mut Verbose\n",
    "        dump = mut false\n",
    "        repl_start = repl_start ()\n",
    "    } : trace_state"
   ]
  },
  {
   "cell_type": "markdown",
   "metadata": {},
   "source": [
    "## init_trace_state"
   ]
  },
  {
   "cell_type": "code",
   "execution_count": null,
   "metadata": {
    "dotnet_interactive": {
     "language": "spiral"
    },
    "polyglot_notebook": {
     "kernelName": "spiral"
    }
   },
   "outputs": [
    {
     "name": "stdout",
     "output_type": "stream",
     "text": [
      "()\n",
      "\r\n"
     ]
    }
   ],
   "source": [
    "inl init_trace_state () : () =\n",
    "    global \"module State = let mutable trace_state = None\"\n",
    "    $\"if State.trace_state = None then State.trace_state <- !new_trace_state () |> Some\" : ()"
   ]
  },
  {
   "cell_type": "markdown",
   "metadata": {},
   "source": [
    "## get_trace_state"
   ]
  },
  {
   "cell_type": "code",
   "execution_count": null,
   "metadata": {
    "dotnet_interactive": {
     "language": "spiral"
    },
    "polyglot_notebook": {
     "kernelName": "spiral"
    }
   },
   "outputs": [
    {
     "name": "stdout",
     "output_type": "stream",
     "text": [
      "()\n",
      "\r\n"
     ]
    }
   ],
   "source": [
    "inl get_trace_state () : trace_state =\n",
    "    init_trace_state ()\n",
    "    $'State.trace_state.Value'"
   ]
  },
  {
   "cell_type": "markdown",
   "metadata": {},
   "source": [
    "## get_locals"
   ]
  },
  {
   "cell_type": "code",
   "execution_count": null,
   "metadata": {
    "dotnet_interactive": {
     "language": "spiral"
    },
    "polyglot_notebook": {
     "kernelName": "spiral"
    }
   },
   "outputs": [
    {
     "name": "stdout",
     "output_type": "stream",
     "text": [
      "()\n",
      "\r\n"
     ]
    }
   ],
   "source": [
    "inl get_locals () = \"\""
   ]
  },
  {
   "cell_type": "markdown",
   "metadata": {},
   "source": [
    "## test_trace_level"
   ]
  },
  {
   "cell_type": "code",
   "execution_count": null,
   "metadata": {
    "dotnet_interactive": {
     "language": "spiral"
    },
    "polyglot_notebook": {
     "kernelName": "spiral"
    }
   },
   "outputs": [
    {
     "name": "stdout",
     "output_type": "stream",
     "text": [
      "()\n",
      "\r\n"
     ]
    }
   ],
   "source": [
    "inl test_trace_level level : bool =\n",
    "    inl state = get_trace_state ()\n",
    "    inl level' = *state.level\n",
    "    *state.enabled && $'!level >= !level' '"
   ]
  },
  {
   "cell_type": "code",
   "execution_count": null,
   "metadata": {
    "dotnet_interactive": {
     "language": "spiral"
    },
    "polyglot_notebook": {
     "kernelName": "spiral"
    }
   },
   "outputs": [
    {
     "name": "stdout",
     "output_type": "stream",
     "text": [
      "module State = let mutable trace_state = None\n",
      "type Mut0 = {mutable l0 : int64}\n",
      "and Mut1 = {mutable l0 : bool}\n",
      "and [<Struct>] US0 =\n",
      "    | US0_0\n",
      "    | US0_1\n",
      "    | US0_2\n",
      "    | US0_3\n",
      "    | US0_4\n",
      "and Mut2 = {mutable l0 : US0}\n",
      "and [<Struct>] US1 =\n",
      "    | US1_0 of f0_0 : int64\n",
      "    | US1_1\n",
      "let rec method1 (v0 : int64 option) : int64 option =\n",
      "    v0\n",
      "and method2 (v0 : int64 option) : int64 option =\n",
      "    v0\n",
      "and closure0 () () : struct (Mut0 * Mut1 * Mut1 * Mut2 * int64 option) =\n",
      "    let v0 : Mut1 = {l0 = true} : Mut1\n",
      "    let v1 : Mut0 = {l0 = 0L} : Mut0\n",
      "    let v2 : US0 = US0_0\n",
      "    let v3 : Mut2 = {l0 = v2} : Mut2\n",
      "    let v4 : Mut1 = {l0 = false} : Mut1\n",
      "    let v5 : int64 option option = None\n",
      "    let mutable _v5 = v5\n",
      "    #if INTERACTIVE || !FABLE_COMPILER\n",
      "    let v6 : string option = None\n",
      "    let mutable _v6 = v6\n",
      "    #if FABLE_COMPILER_RUST && !WASM && !CONTRACT\n",
      "    let v7 : string = null |> unbox<string>\n",
      "    v7 \n",
      "    #endif\n",
      "    #if FABLE_COMPILER_RUST && WASM\n",
      "    let v8 : string = null |> unbox<string>\n",
      "    v8 \n",
      "    #endif\n",
      "    #if FABLE_COMPILER_RUST && CONTRACT\n",
      "    let v9 : string = null |> unbox<string>\n",
      "    v9 \n",
      "    #endif\n",
      "    #if !FABLE_COMPILER && !FABLE_COMPILER_RUST && !FABLE_COMPILER_TYPESCRIPT && !WASM && !CONTRACT\n",
      "    let v10 : string = System.Reflection.Assembly.GetEntryAssembly().GetName().Name\n",
      "    v10 \n",
      "    #endif\n",
      "    #if FABLE_COMPILER_TYPESCRIPT\n",
      "    let v11 : string = null |> unbox<string>\n",
      "    v11 \n",
      "    #endif\n",
      "    #if FABLE_COMPILER_PYTHON || FABLE_COMPILER_PHP || FABLE_COMPILER_DART\n",
      "    let v12 : string = Unchecked.defaultof<string>\n",
      "    v12 \n",
      "    #endif\n",
      "    |> fun x -> _v6 <- Some x\n",
      "    let v13 : string = _v6.Value\n",
      "    let v15 : bool = v13 = \"Microsoft.DotNet.Interactive.App\"\n",
      "    let v16 : bool = v15 <> true\n",
      "    let v22 : US1 =\n",
      "        if v16 then\n",
      "            let v17 : System.DateTime = System.DateTime.Now\n",
      "            let v18 : (System.DateTime -> int64) = _.Ticks\n",
      "            let v19 : int64 = v18 v17\n",
      "            US1_0(v19)\n",
      "        else\n",
      "            US1_1\n",
      "    let v27 : int64 option =\n",
      "        match v22 with\n",
      "        | US1_1 -> (* None *)\n",
      "            let v25 : int64 option = None\n",
      "            v25\n",
      "        | US1_0(v23) -> (* Some *)\n",
      "            let v24 : int64 option = Some v23 \n",
      "            v24\n",
      "    let v28 : int64 option = method1(v27)\n",
      "    v28 \n",
      "    #else\n",
      "    let v29 : int64 option = None\n",
      "    let v30 : int64 option = method2(v29)\n",
      "    v30 \n",
      "    #endif\n",
      "    |> fun x -> _v5 <- Some x\n",
      "    let v31 : int64 option = _v5.Value\n",
      "    struct (v1, v4, v0, v3, v31)\n",
      "and method3 (v0 : bool) : bool =\n",
      "    v0\n",
      "and method0 () : unit =\n",
      "    let v0 : (unit -> struct (Mut0 * Mut1 * Mut1 * Mut2 * int64 option)) = closure0()\n",
      "    if State.trace_state = None then State.trace_state <- v0 () |> Some\n",
      "    let struct (v1 : Mut0, v2 : Mut1, v3 : Mut1, v4 : Mut2, v5 : int64 option) = State.trace_state.Value\n",
      "    let v6 : US0 = v4.l0\n",
      "    let v7 : bool = v3.l0\n",
      "    let v10 : bool =\n",
      "        if v7 then\n",
      "            let v8 : US0 = US0_4\n",
      "            let v9 : bool = v8 >= v6 \n",
      "            v9\n",
      "        else\n",
      "            false\n",
      "    let v11 : string = $\"%A{v10}\"\n",
      "    System.Console.WriteLine v11\n",
      "    let v13 : bool =\n",
      "        if v10 then\n",
      "            true\n",
      "        else\n",
      "            method3(v10)\n",
      "    let v14 : string = $\"__expect / actual: %A{v10} / expected: %A{true}\"\n",
      "    let v15 : bool = v13 = false\n",
      "    if v15 then\n",
      "        failwith<unit> v14\n",
      "    if State.trace_state = None then State.trace_state <- v0 () |> Some\n",
      "    let struct (v16 : Mut0, v17 : Mut1, v18 : Mut1, v19 : Mut2, v20 : int64 option) = State.trace_state.Value\n",
      "    let v21 : US0 = v19.l0\n",
      "    let v22 : bool = v18.l0\n",
      "    let v25 : bool =\n",
      "        if v22 then\n",
      "            let v23 : US0 = US0_0\n",
      "            let v24 : bool = v23 >= v21 \n",
      "            v24\n",
      "        else\n",
      "            false\n",
      "    let v26 : string = $\"%A{v25}\"\n",
      "    System.Console.WriteLine v26\n",
      "    let v28 : bool =\n",
      "        if v25 then\n",
      "            true\n",
      "        else\n",
      "            method3(v25)\n",
      "    let v29 : string = $\"__expect / actual: %A{v25} / expected: %A{true}\"\n",
      "    let v30 : bool = v28 = false\n",
      "    if v30 then\n",
      "        failwith<unit> v29\n",
      "method0()\n",
      "\r\n",
      "true\r\n",
      "true\r\n"
     ]
    }
   ],
   "source": [
    "// // test\n",
    "\n",
    "test_trace_level Critical |> _assert_eq true\n",
    "test_trace_level Verbose |> _assert_eq true"
   ]
  },
  {
   "cell_type": "markdown",
   "metadata": {},
   "source": [
    "## trace_raw"
   ]
  },
  {
   "cell_type": "code",
   "execution_count": null,
   "metadata": {
    "dotnet_interactive": {
     "language": "spiral"
    },
    "polyglot_notebook": {
     "kernelName": "spiral"
    }
   },
   "outputs": [
    {
     "name": "stdout",
     "output_type": "stream",
     "text": [
      "()\n",
      "\r\n"
     ]
    }
   ],
   "source": [
    "inl trace_raw level fn =\n",
    "    inl trace_state = get_trace_state ()\n",
    "    if level |> test_trace_level then\n",
    "        inl count = trace_state.count\n",
    "        count <- *trace_state.count + 1\n",
    "\n",
    "        inl text = $'$\"%s{!fn ()}\"' : string\n",
    "        run_target function\n",
    "        | Rust _ => fun () =>\n",
    "            open rust_operators\n",
    "            !\\\\(text, $'\\@\"println\\!(\"\"{}\"\", $0)\"')\n",
    "        | _ => fun () =>\n",
    "            $'System.Console.WriteLine !text '\n",
    "\n",
    "        // run_target function\n",
    "        // | Fsharp (Native) => fun () =>\n",
    "        //     if *trace_state.dump then\n",
    "        //         try_unit\n",
    "        //             fun () =>\n",
    "        //                 // open file_system_operators\n",
    "        //                 // inl tmp_path = file_system.get_temp_path ()\n",
    "        //                 // inl log_dir = tmp_path </> \"!polyglot\"\n",
    "        //                 // file_system.create_directory log_dir |> ignore\n",
    "        //                 // inl guid = date_time.new_guid_from_date_time (date_time.now ())\n",
    "        //                 // inl log_file = log_dir </> $'$\"{!guid}.txt\"'\n",
    "        //                 // file_system.write_all_text_async log_file text |> async.run_synchronously\n",
    "        //                 ()\n",
    "        //             fun ex =>\n",
    "        //                 inl ex = ex |> sm'.format_exception\n",
    "        //                 trace_raw Critical (fun () => $'$\"trace / ex: {!ex}\"')\n",
    "        // | _ => fun () => ()"
   ]
  },
  {
   "cell_type": "code",
   "execution_count": null,
   "metadata": {
    "dotnet_interactive": {
     "language": "spiral"
    },
    "polyglot_notebook": {
     "kernelName": "spiral"
    }
   },
   "outputs": [
    {
     "name": "stdout",
     "output_type": "stream",
     "text": [
      "module State = let mutable trace_state = None\n",
      "type Mut0 = {mutable l0 : int64}\n",
      "and Mut1 = {mutable l0 : bool}\n",
      "and [<Struct>] US0 =\n",
      "    | US0_0\n",
      "    | US0_1\n",
      "    | US0_2\n",
      "    | US0_3\n",
      "    | US0_4\n",
      "and Mut2 = {mutable l0 : US0}\n",
      "and [<Struct>] US1 =\n",
      "    | US1_0 of f0_0 : int64\n",
      "    | US1_1\n",
      "let rec method1 (v0 : int64 option) : int64 option =\n",
      "    v0\n",
      "and method2 (v0 : int64 option) : int64 option =\n",
      "    v0\n",
      "and closure0 () () : struct (Mut0 * Mut1 * Mut1 * Mut2 * int64 option) =\n",
      "    let v0 : Mut1 = {l0 = true} : Mut1\n",
      "    let v1 : Mut0 = {l0 = 0L} : Mut0\n",
      "    let v2 : US0 = US0_0\n",
      "    let v3 : Mut2 = {l0 = v2} : Mut2\n",
      "    let v4 : Mut1 = {l0 = false} : Mut1\n",
      "    let v5 : int64 option option = None\n",
      "    let mutable _v5 = v5\n",
      "    #if INTERACTIVE || !FABLE_COMPILER\n",
      "    let v6 : string option = None\n",
      "    let mutable _v6 = v6\n",
      "    #if FABLE_COMPILER_RUST && !WASM && !CONTRACT\n",
      "    let v7 : string = null |> unbox<string>\n",
      "    v7 \n",
      "    #endif\n",
      "    #if FABLE_COMPILER_RUST && WASM\n",
      "    let v8 : string = null |> unbox<string>\n",
      "    v8 \n",
      "    #endif\n",
      "    #if FABLE_COMPILER_RUST && CONTRACT\n",
      "    let v9 : string = null |> unbox<string>\n",
      "    v9 \n",
      "    #endif\n",
      "    #if !FABLE_COMPILER && !FABLE_COMPILER_RUST && !FABLE_COMPILER_TYPESCRIPT && !WASM && !CONTRACT\n",
      "    let v10 : string = System.Reflection.Assembly.GetEntryAssembly().GetName().Name\n",
      "    v10 \n",
      "    #endif\n",
      "    #if FABLE_COMPILER_TYPESCRIPT\n",
      "    let v11 : string = null |> unbox<string>\n",
      "    v11 \n",
      "    #endif\n",
      "    #if FABLE_COMPILER_PYTHON || FABLE_COMPILER_PHP || FABLE_COMPILER_DART\n",
      "    let v12 : string = Unchecked.defaultof<string>\n",
      "    v12 \n",
      "    #endif\n",
      "    |> fun x -> _v6 <- Some x\n",
      "    let v13 : string = _v6.Value\n",
      "    let v15 : bool = v13 = \"Microsoft.DotNet.Interactive.App\"\n",
      "    let v16 : bool = v15 <> true\n",
      "    let v22 : US1 =\n",
      "        if v16 then\n",
      "            let v17 : System.DateTime = System.DateTime.Now\n",
      "            let v18 : (System.DateTime -> int64) = _.Ticks\n",
      "            let v19 : int64 = v18 v17\n",
      "            US1_0(v19)\n",
      "        else\n",
      "            US1_1\n",
      "    let v27 : int64 option =\n",
      "        match v22 with\n",
      "        | US1_1 -> (* None *)\n",
      "            let v25 : int64 option = None\n",
      "            v25\n",
      "        | US1_0(v23) -> (* Some *)\n",
      "            let v24 : int64 option = Some v23 \n",
      "            v24\n",
      "    let v28 : int64 option = method1(v27)\n",
      "    v28 \n",
      "    #else\n",
      "    let v29 : int64 option = None\n",
      "    let v30 : int64 option = method2(v29)\n",
      "    v30 \n",
      "    #endif\n",
      "    |> fun x -> _v5 <- Some x\n",
      "    let v31 : int64 option = _v5.Value\n",
      "    struct (v1, v4, v0, v3, v31)\n",
      "and closure1 () () : string =\n",
      "    let v0 : string = \"test\"\n",
      "    v0\n",
      "and method0 () : unit =\n",
      "    let v0 : (unit -> struct (Mut0 * Mut1 * Mut1 * Mut2 * int64 option)) = closure0()\n",
      "    if State.trace_state = None then State.trace_state <- v0 () |> Some\n",
      "    let struct (v1 : Mut0, v2 : Mut1, v3 : Mut1, v4 : Mut2, v5 : int64 option) = State.trace_state.Value\n",
      "    if State.trace_state = None then State.trace_state <- v0 () |> Some\n",
      "    let struct (v6 : Mut0, v7 : Mut1, v8 : Mut1, v9 : Mut2, v10 : int64 option) = State.trace_state.Value\n",
      "    let v11 : US0 = v9.l0\n",
      "    let v12 : bool = v8.l0\n",
      "    let v15 : bool =\n",
      "        if v12 then\n",
      "            let v13 : US0 = US0_1\n",
      "            let v14 : bool = v13 >= v11 \n",
      "            v14\n",
      "        else\n",
      "            false\n",
      "    if v15 then\n",
      "        let v16 : int64 = v1.l0\n",
      "        let v17 : int64 = v16 + 1L\n",
      "        v1.l0 <- v17\n",
      "        let v18 : (unit -> string) = closure1()\n",
      "        let v19 : string = $\"%s{v18 ()}\"\n",
      "        let v20 : unit option = None\n",
      "        let mutable _v20 = v20\n",
      "        #if FABLE_COMPILER_RUST && !WASM && !CONTRACT\n",
      "        let v21 : string = @\"println!(\"\"{}\"\", $0)\"\n",
      "        Fable.Core.RustInterop.emitRustExpr v19 v21\n",
      "        () \n",
      "        #endif\n",
      "        #if FABLE_COMPILER_RUST && WASM\n",
      "        let v22 : string = @\"println!(\"\"{}\"\", $0)\"\n",
      "        Fable.Core.RustInterop.emitRustExpr v19 v22\n",
      "        () \n",
      "        #endif\n",
      "        #if FABLE_COMPILER_RUST && CONTRACT\n",
      "        let v23 : string = @\"println!(\"\"{}\"\", $0)\"\n",
      "        Fable.Core.RustInterop.emitRustExpr v19 v23\n",
      "        () \n",
      "        #endif\n",
      "        #if !FABLE_COMPILER && !FABLE_COMPILER_RUST && !FABLE_COMPILER_TYPESCRIPT && !WASM && !CONTRACT\n",
      "        System.Console.WriteLine v19 \n",
      "        () \n",
      "        #endif\n",
      "        #if FABLE_COMPILER_TYPESCRIPT\n",
      "        System.Console.WriteLine v19 \n",
      "        () \n",
      "        #endif\n",
      "        #if FABLE_COMPILER_PYTHON || FABLE_COMPILER_PHP || FABLE_COMPILER_DART\n",
      "        Unchecked.defaultof<unit>\n",
      "        () \n",
      "        #endif\n",
      "        |> fun x -> _v20 <- Some x\n",
      "        _v20.Value\n",
      "        ()\n",
      "method0()\n",
      "\r\n",
      "test\r\n"
     ]
    }
   ],
   "source": [
    "// // test\n",
    "// // print_code=true\n",
    "\n",
    "trace_raw Debug fun () => \"test\""
   ]
  },
  {
   "cell_type": "markdown",
   "metadata": {},
   "source": [
    "## trace"
   ]
  },
  {
   "cell_type": "code",
   "execution_count": null,
   "metadata": {
    "dotnet_interactive": {
     "language": "spiral"
    },
    "polyglot_notebook": {
     "kernelName": "spiral"
    }
   },
   "outputs": [
    {
     "name": "stdout",
     "output_type": "stream",
     "text": [
      "()\n",
      "\r\n"
     ]
    }
   ],
   "source": [
    "let trace (level : trace_level) (fn : () -> string) (get_locals : () -> string) =\n",
    "    fun () =>\n",
    "        inl trace_state = get_trace_state ()\n",
    "        inl time =\n",
    "            run_target fun target =>\n",
    "                match target with\n",
    "                | Fsharp (Native)\n",
    "                | Rust (Native) => fun () =>\n",
    "                    match trace_state.repl_start |> optionm'.unbox with\n",
    "                    | Some repl_start =>\n",
    "                        inl t =\n",
    "                            (date_time.now () |> date_time.ticks |> fun (date_time.timestamp x) => x)\n",
    "                            - repl_start |> date_time.time_span\n",
    "                        date_time.date_time_milliseconds\n",
    "                            1i32 1i32 1i32\n",
    "                            (t |> date_time.hours)\n",
    "                            (t |> date_time.minutes)\n",
    "                            (t |> date_time.seconds)\n",
    "                            (t |> date_time.milliseconds)\n",
    "                    | None => date_time.now ()\n",
    "                    |> fun date_time =>\n",
    "                        inl format =\n",
    "                            match target with\n",
    "                            | Rust _ => \"hh:mm:ss\"\n",
    "                            | _ => \"HH:mm:ss\"\n",
    "                        $'!date_time.ToString !format '\n",
    "                | _ => fun () => join \"\"\n",
    "        inl count = *trace_state.count\n",
    "        inl level = level |> to_string |> sm'.to_lower\n",
    "        $'$\"{!time} #{!count} [{!level}] %s{!fn ()} / %s{!get_locals ()}\"'\n",
    "        |> sm'.trim_start ;[]\n",
    "        |> sm'.trim_end ;[ ' '; '/' ]\n",
    "    |> trace_raw level"
   ]
  },
  {
   "cell_type": "code",
   "execution_count": null,
   "metadata": {
    "dotnet_interactive": {
     "language": "spiral"
    },
    "polyglot_notebook": {
     "kernelName": "spiral"
    }
   },
   "outputs": [
    {
     "name": "stdout",
     "output_type": "stream",
     "text": [
      "00:00:00 #1 [debug] test\r\n",
      "00:00:00 #2 [debug] test\r\n"
     ]
    }
   ],
   "source": [
    "// // test\n",
    "// // print_code=false\n",
    "\n",
    "trace Debug (fun () => \"test\") get_locals\n",
    "trace Debug (fun () => \"test\") get_locals"
   ]
  },
  {
   "cell_type": "markdown",
   "metadata": {},
   "source": [
    "## main"
   ]
  },
  {
   "cell_type": "code",
   "execution_count": null,
   "metadata": {
    "dotnet_interactive": {
     "language": "spiral"
    },
    "polyglot_notebook": {
     "kernelName": "spiral"
    }
   },
   "outputs": [
    {
     "name": "stdout",
     "output_type": "stream",
     "text": [
      "module State = let mutable trace_state = None\n",
      "type [<Struct>] US0 =\n",
      "    | US0_0\n",
      "    | US0_1\n",
      "    | US0_2\n",
      "    | US0_3\n",
      "    | US0_4\n",
      "and Mut0 = {mutable l0 : int64}\n",
      "and Mut1 = {mutable l0 : bool}\n",
      "and Mut2 = {mutable l0 : US0}\n",
      "and [<Struct>] US1 =\n",
      "    | US1_0 of f0_0 : int64\n",
      "    | US1_1\n",
      "and [<Struct>] US2 =\n",
      "    | US2_0 of f0_0 : int64\n",
      "    | US2_1\n",
      "let rec method1 (v0 : int64 option) : int64 option =\n",
      "    v0\n",
      "and method2 (v0 : int64 option) : int64 option =\n",
      "    v0\n",
      "and closure3 () () : struct (Mut0 * Mut1 * Mut1 * Mut2 * int64 option) =\n",
      "    let v0 : Mut1 = {l0 = true} : Mut1\n",
      "    let v1 : Mut0 = {l0 = 0L} : Mut0\n",
      "    let v2 : US0 = US0_0\n",
      "    let v3 : Mut2 = {l0 = v2} : Mut2\n",
      "    let v4 : Mut1 = {l0 = false} : Mut1\n",
      "    let v5 : int64 option option = None\n",
      "    let mutable _v5 = v5\n",
      "    #if INTERACTIVE || !FABLE_COMPILER\n",
      "    let v6 : string option = None\n",
      "    let mutable _v6 = v6\n",
      "    #if FABLE_COMPILER_RUST && !WASM && !CONTRACT\n",
      "    let v7 : string = null |> unbox<string>\n",
      "    v7 \n",
      "    #endif\n",
      "    #if FABLE_COMPILER_RUST && WASM\n",
      "    let v8 : string = null |> unbox<string>\n",
      "    v8 \n",
      "    #endif\n",
      "    #if FABLE_COMPILER_RUST && CONTRACT\n",
      "    let v9 : string = null |> unbox<string>\n",
      "    v9 \n",
      "    #endif\n",
      "    #if !FABLE_COMPILER && !FABLE_COMPILER_RUST && !FABLE_COMPILER_TYPESCRIPT && !WASM && !CONTRACT\n",
      "    let v10 : string = System.Reflection.Assembly.GetEntryAssembly().GetName().Name\n",
      "    v10 \n",
      "    #endif\n",
      "    #if FABLE_COMPILER_TYPESCRIPT\n",
      "    let v11 : string = null |> unbox<string>\n",
      "    v11 \n",
      "    #endif\n",
      "    #if FABLE_COMPILER_PYTHON || FABLE_COMPILER_PHP || FABLE_COMPILER_DART\n",
      "    let v12 : string = Unchecked.defaultof<string>\n",
      "    v12 \n",
      "    #endif\n",
      "    |> fun x -> _v6 <- Some x\n",
      "    let v13 : string = _v6.Value\n",
      "    let v15 : bool = v13 = \"Microsoft.DotNet.Interactive.App\"\n",
      "    let v16 : bool = v15 <> true\n",
      "    let v22 : US1 =\n",
      "        if v16 then\n",
      "            let v17 : System.DateTime = System.DateTime.Now\n",
      "            let v18 : (System.DateTime -> int64) = _.Ticks\n",
      "            let v19 : int64 = v18 v17\n",
      "            US1_0(v19)\n",
      "        else\n",
      "            US1_1\n",
      "    let v27 : int64 option =\n",
      "        match v22 with\n",
      "        | US1_1 -> (* None *)\n",
      "            let v25 : int64 option = None\n",
      "            v25\n",
      "        | US1_0(v23) -> (* Some *)\n",
      "            let v24 : int64 option = Some v23 \n",
      "            v24\n",
      "    let v28 : int64 option = method1(v27)\n",
      "    v28 \n",
      "    #else\n",
      "    let v29 : int64 option = None\n",
      "    let v30 : int64 option = method2(v29)\n",
      "    v30 \n",
      "    #endif\n",
      "    |> fun x -> _v5 <- Some x\n",
      "    let v31 : int64 option = _v5.Value\n",
      "    struct (v1, v4, v0, v3, v31)\n",
      "and closure5 () (v0 : int64) : US2 =\n",
      "    US2_0(v0)\n",
      "and method3 () : (int64 -> US2) =\n",
      "    closure5()\n",
      "and method4 () : string =\n",
      "    let v0 : string = \"\"\n",
      "    v0\n",
      "and closure4 (v0 : US0, v1 : (unit -> string), v2 : (unit -> string)) () : string =\n",
      "    let v3 : (unit -> struct (Mut0 * Mut1 * Mut1 * Mut2 * int64 option)) = closure3()\n",
      "    if State.trace_state = None then State.trace_state <- v3 () |> Some\n",
      "    let struct (v4 : Mut0, v5 : Mut1, v6 : Mut1, v7 : Mut2, v8 : int64 option) = State.trace_state.Value\n",
      "    let v9 : string option = None\n",
      "    let mutable _v9 = v9\n",
      "    #if FABLE_COMPILER_RUST && !WASM && !CONTRACT\n",
      "    let v10 : (int64 -> US2) = method3()\n",
      "    let v11 : US2 = US2_1\n",
      "    let v12 : US2 = v8 |> Option.map v10 |> Option.defaultValue v11 \n",
      "    let v30 : System.DateTime =\n",
      "        match v12 with\n",
      "        | US2_1 -> (* None *)\n",
      "            let v28 : System.DateTime = System.DateTime.Now\n",
      "            v28\n",
      "        | US2_0(v13) -> (* Some *)\n",
      "            let v14 : System.DateTime = System.DateTime.Now\n",
      "            let v15 : (System.DateTime -> int64) = _.Ticks\n",
      "            let v16 : int64 = v15 v14\n",
      "            let v17 : int64 = v16 - v13\n",
      "            let v18 : System.TimeSpan = System.TimeSpan v17 \n",
      "            let v19 : (System.TimeSpan -> int32) = _.Hours\n",
      "            let v20 : int32 = v19 v18\n",
      "            let v21 : (System.TimeSpan -> int32) = _.Minutes\n",
      "            let v22 : int32 = v21 v18\n",
      "            let v23 : (System.TimeSpan -> int32) = _.Seconds\n",
      "            let v24 : int32 = v23 v18\n",
      "            let v25 : (System.TimeSpan -> int32) = _.Milliseconds\n",
      "            let v26 : int32 = v25 v18\n",
      "            let v27 : System.DateTime = System.DateTime (1, 1, 1, v20, v22, v24, v26)\n",
      "            v27\n",
      "    let v31 : string = \"hh:mm:ss\"\n",
      "    let v32 : string = v30.ToString v31 \n",
      "    v32 \n",
      "    #endif\n",
      "    #if FABLE_COMPILER_RUST && WASM\n",
      "    let v33 : string = method4()\n",
      "    v33 \n",
      "    #endif\n",
      "    #if FABLE_COMPILER_RUST && CONTRACT\n",
      "    let v34 : string = method4()\n",
      "    v34 \n",
      "    #endif\n",
      "    #if !FABLE_COMPILER && !FABLE_COMPILER_RUST && !FABLE_COMPILER_TYPESCRIPT && !WASM && !CONTRACT\n",
      "    let v35 : (int64 -> US2) = method3()\n",
      "    let v36 : US2 = US2_1\n",
      "    let v37 : US2 = v8 |> Option.map v35 |> Option.defaultValue v36 \n",
      "    let v55 : System.DateTime =\n",
      "        match v37 with\n",
      "        | US2_1 -> (* None *)\n",
      "            let v53 : System.DateTime = System.DateTime.Now\n",
      "            v53\n",
      "        | US2_0(v38) -> (* Some *)\n",
      "            let v39 : System.DateTime = System.DateTime.Now\n",
      "            let v40 : (System.DateTime -> int64) = _.Ticks\n",
      "            let v41 : int64 = v40 v39\n",
      "            let v42 : int64 = v41 - v38\n",
      "            let v43 : System.TimeSpan = System.TimeSpan v42 \n",
      "            let v44 : (System.TimeSpan -> int32) = _.Hours\n",
      "            let v45 : int32 = v44 v43\n",
      "            let v46 : (System.TimeSpan -> int32) = _.Minutes\n",
      "            let v47 : int32 = v46 v43\n",
      "            let v48 : (System.TimeSpan -> int32) = _.Seconds\n",
      "            let v49 : int32 = v48 v43\n",
      "            let v50 : (System.TimeSpan -> int32) = _.Milliseconds\n",
      "            let v51 : int32 = v50 v43\n",
      "            let v52 : System.DateTime = System.DateTime (1, 1, 1, v45, v47, v49, v51)\n",
      "            v52\n",
      "    let v56 : string = \"HH:mm:ss\"\n",
      "    let v57 : string = v55.ToString v56 \n",
      "    v57 \n",
      "    #endif\n",
      "    #if FABLE_COMPILER_TYPESCRIPT\n",
      "    let v58 : string = method4()\n",
      "    v58 \n",
      "    #endif\n",
      "    #if FABLE_COMPILER_PYTHON || FABLE_COMPILER_PHP || FABLE_COMPILER_DART\n",
      "    let v59 : string = Unchecked.defaultof<string>\n",
      "    v59 \n",
      "    #endif\n",
      "    |> fun x -> _v9 <- Some x\n",
      "    let v60 : string = _v9.Value\n",
      "    let v61 : int64 = v4.l0\n",
      "    let v71 : string =\n",
      "        match v0 with\n",
      "        | US0_4 -> (* Critical *)\n",
      "            let v66 : string = \"Critical\"\n",
      "            v66\n",
      "        | US0_1 -> (* Debug *)\n",
      "            let v63 : string = \"Debug\"\n",
      "            v63\n",
      "        | US0_2 -> (* Info *)\n",
      "            let v64 : string = \"Info\"\n",
      "            v64\n",
      "        | US0_0 -> (* Verbose *)\n",
      "            let v62 : string = \"Verbose\"\n",
      "            v62\n",
      "        | US0_3 -> (* Warning *)\n",
      "            let v65 : string = \"Warning\"\n",
      "            v65\n",
      "    let v72 : string = v71.ToLower ()\n",
      "    let v73 : string = $\"{v60} #{v61} [{v72}] %s{v1 ()} / %s{v2 ()}\"\n",
      "    let v74 : (char []) = [||]\n",
      "    let v75 : string = v73.TrimStart v74\n",
      "    let v76 : (char []) = [|' '; '/'|]\n",
      "    let v77 : string = v75.TrimEnd v76\n",
      "    v77\n",
      "and method0 (v0 : US0, v1 : (unit -> string), v2 : (unit -> string)) : unit =\n",
      "    let v3 : (unit -> struct (Mut0 * Mut1 * Mut1 * Mut2 * int64 option)) = closure3()\n",
      "    if State.trace_state = None then State.trace_state <- v3 () |> Some\n",
      "    let struct (v4 : Mut0, v5 : Mut1, v6 : Mut1, v7 : Mut2, v8 : int64 option) = State.trace_state.Value\n",
      "    if State.trace_state = None then State.trace_state <- v3 () |> Some\n",
      "    let struct (v9 : Mut0, v10 : Mut1, v11 : Mut1, v12 : Mut2, v13 : int64 option) = State.trace_state.Value\n",
      "    let v14 : US0 = v12.l0\n",
      "    let v15 : bool = v11.l0\n",
      "    let v17 : bool =\n",
      "        if v15 then\n",
      "            let v16 : bool = v0 >= v14 \n",
      "            v16\n",
      "        else\n",
      "            false\n",
      "    if v17 then\n",
      "        let v18 : int64 = v4.l0\n",
      "        let v19 : int64 = v18 + 1L\n",
      "        v4.l0 <- v19\n",
      "        let v20 : (unit -> string) = closure4(v0, v1, v2)\n",
      "        let v21 : string = $\"%s{v20 ()}\"\n",
      "        let v22 : unit option = None\n",
      "        let mutable _v22 = v22\n",
      "        #if FABLE_COMPILER_RUST && !WASM && !CONTRACT\n",
      "        let v23 : string = @\"println!(\"\"{}\"\", $0)\"\n",
      "        Fable.Core.RustInterop.emitRustExpr v21 v23\n",
      "        () \n",
      "        #endif\n",
      "        #if FABLE_COMPILER_RUST && WASM\n",
      "        let v24 : string = @\"println!(\"\"{}\"\", $0)\"\n",
      "        Fable.Core.RustInterop.emitRustExpr v21 v24\n",
      "        () \n",
      "        #endif\n",
      "        #if FABLE_COMPILER_RUST && CONTRACT\n",
      "        let v25 : string = @\"println!(\"\"{}\"\", $0)\"\n",
      "        Fable.Core.RustInterop.emitRustExpr v21 v25\n",
      "        () \n",
      "        #endif\n",
      "        #if !FABLE_COMPILER && !FABLE_COMPILER_RUST && !FABLE_COMPILER_TYPESCRIPT && !WASM && !CONTRACT\n",
      "        System.Console.WriteLine v21 \n",
      "        () \n",
      "        #endif\n",
      "        #if FABLE_COMPILER_TYPESCRIPT\n",
      "        System.Console.WriteLine v21 \n",
      "        () \n",
      "        #endif\n",
      "        #if FABLE_COMPILER_PYTHON || FABLE_COMPILER_PHP || FABLE_COMPILER_DART\n",
      "        Unchecked.defaultof<unit>\n",
      "        () \n",
      "        #endif\n",
      "        |> fun x -> _v22 <- Some x\n",
      "        _v22.Value\n",
      "        ()\n",
      "and closure2 (v0 : US0, v1 : (unit -> string)) (v2 : (unit -> string)) : unit =\n",
      "    method0(v0, v1, v2)\n",
      "and closure1 (v0 : US0) (v1 : (unit -> string)) : ((unit -> string) -> unit) =\n",
      "    closure2(v0, v1)\n",
      "and closure0 () (v0 : US0) : ((unit -> string) -> ((unit -> string) -> unit)) =\n",
      "    closure1(v0)\n",
      "and closure6 () () : struct (Mut0 * Mut1 * Mut1 * Mut2 * int64 option) =\n",
      "    let v0 : (unit -> struct (Mut0 * Mut1 * Mut1 * Mut2 * int64 option)) = closure3()\n",
      "    if State.trace_state = None then State.trace_state <- v0 () |> Some\n",
      "    let struct (v1 : Mut0, v2 : Mut1, v3 : Mut1, v4 : Mut2, v5 : int64 option) = State.trace_state.Value\n",
      "    struct (v1, v2, v3, v4, v5)\n",
      "let v0 : (US0 -> ((unit -> string) -> ((unit -> string) -> unit))) = closure0()\n",
      "let trace x = v0 x\n",
      "let v1 : (unit -> struct (Mut0 * Mut1 * Mut1 * Mut2 * int64 option)) = closure6()\n",
      "let get_trace_state () = v1 ()\n",
      "()\n",
      "\r\n"
     ]
    }
   ],
   "source": [
    "inl main () =\n",
    "    $\"let trace x = !trace x\" : ()\n",
    "    $\"let get_trace_state () = !get_trace_state ()\" : ()"
   ]
  }
 ],
 "metadata": {},
 "nbformat": 4,
 "nbformat_minor": 5
}