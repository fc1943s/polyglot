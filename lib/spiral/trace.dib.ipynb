{
 "cells": [
  {
   "cell_type": "markdown",
   "metadata": {},
   "source": [
    "# trace"
   ]
  },
  {
   "cell_type": "code",
   "execution_count": null,
   "metadata": {
    "dotnet_interactive": {
     "language": "spiral"
    },
    "polyglot_notebook": {
     "kernelName": "spiral"
    }
   },
   "outputs": [
    {
     "name": "stdout",
     "output_type": "stream",
     "text": [
      "()\n",
      "\r\n"
     ]
    }
   ],
   "source": [
    "// // test\n",
    "\n",
    "open testing"
   ]
  },
  {
   "cell_type": "markdown",
   "metadata": {},
   "source": [
    "## types"
   ]
  },
  {
   "cell_type": "code",
   "execution_count": null,
   "metadata": {
    "dotnet_interactive": {
     "language": "spiral"
    },
    "polyglot_notebook": {
     "kernelName": "spiral"
    }
   },
   "outputs": [
    {
     "name": "stdout",
     "output_type": "stream",
     "text": [
      "()\n",
      "\r\n"
     ]
    }
   ],
   "source": [
    "inl types () =\n",
    "    rust.types ()\n",
    "    sm'.types ()"
   ]
  },
  {
   "cell_type": "markdown",
   "metadata": {},
   "source": [
    "## trace_level"
   ]
  },
  {
   "cell_type": "code",
   "execution_count": null,
   "metadata": {
    "dotnet_interactive": {
     "language": "spiral"
    },
    "polyglot_notebook": {
     "kernelName": "spiral"
    }
   },
   "outputs": [
    {
     "name": "stdout",
     "output_type": "stream",
     "text": [
      "()\n",
      "\r\n"
     ]
    }
   ],
   "source": [
    "union trace_level =\n",
    "    | Verbose\n",
    "    | Debug\n",
    "    | Info\n",
    "    | Warning\n",
    "    | Critical\n",
    "\n",
    "instance to_string trace_level = function\n",
    "    | Verbose => \"Verbose\"\n",
    "    | Debug => \"Debug\"\n",
    "    | Info => \"Info\"\n",
    "    | Warning => \"Warning\"\n",
    "    | Critical => \"Critical\"\n",
    "\n",
    "instance of_string trace_level = function\n",
    "    | \"Verbose\" => Verbose\n",
    "    | \"Debug\" => Debug\n",
    "    | \"Info\" => Info\n",
    "    | \"Warning\" => Warning\n",
    "    | \"Critical\" => Critical"
   ]
  },
  {
   "cell_type": "markdown",
   "metadata": {},
   "source": [
    "## repl_start"
   ]
  },
  {
   "cell_type": "code",
   "execution_count": null,
   "metadata": {
    "dotnet_interactive": {
     "language": "spiral"
    },
    "polyglot_notebook": {
     "kernelName": "spiral"
    }
   },
   "outputs": [
    {
     "name": "stdout",
     "output_type": "stream",
     "text": [
      "()\n",
      "\r\n"
     ]
    }
   ],
   "source": [
    "inl repl_start () : optionm'.option' i64 =\n",
    "    inl result : optionm'.option' (optionm'.option' i64) = optionm'.none' ()\n",
    "    $\"let mutable _!result = !result\"\n",
    "    $'#if INTERACTIVE || \\!FABLE_COMPILER' : ()\n",
    "    if get_entry_assembly_name () <> \"Microsoft.DotNet.Interactive.App\"\n",
    "    then date_time.now () |> date_time.ticks |> Some\n",
    "    else None\n",
    "    |> optionm'.box\n",
    "    |> fun x =>\n",
    "        inl x = join x\n",
    "        $'!x '\n",
    "    $'#else' : ()\n",
    "    (None : option i64) |> optionm'.box\n",
    "    |> fun x =>\n",
    "        inl x = join x\n",
    "        $'!x '\n",
    "    $'#endif' : ()\n",
    "    $\"|> fun x -> _!result <- Some x\"\n",
    "    $'_!result.Value'"
   ]
  },
  {
   "cell_type": "markdown",
   "metadata": {},
   "source": [
    "## trace_state"
   ]
  },
  {
   "cell_type": "code",
   "execution_count": null,
   "metadata": {
    "dotnet_interactive": {
     "language": "spiral"
    },
    "polyglot_notebook": {
     "kernelName": "spiral"
    }
   },
   "outputs": [
    {
     "name": "stdout",
     "output_type": "stream",
     "text": [
      "()\n",
      "\r\n"
     ]
    }
   ],
   "source": [
    "type trace_state =\n",
    "    {\n",
    "        count : mut i64\n",
    "        trace_file : mut (string -> ())\n",
    "        enabled : mut bool\n",
    "        level : mut trace_level\n",
    "        repl_start : optionm'.option' i64\n",
    "    }\n",
    "\n",
    "inl new_trace_state () =\n",
    "    {\n",
    "        enabled = mut true\n",
    "        count = mut 0i64\n",
    "        level = mut Verbose\n",
    "        trace_file = mut ignore\n",
    "        repl_start = repl_start ()\n",
    "    } : trace_state"
   ]
  },
  {
   "cell_type": "markdown",
   "metadata": {},
   "source": [
    "## init_trace_state"
   ]
  },
  {
   "cell_type": "code",
   "execution_count": null,
   "metadata": {
    "dotnet_interactive": {
     "language": "spiral"
    },
    "polyglot_notebook": {
     "kernelName": "spiral"
    }
   },
   "outputs": [
    {
     "name": "stdout",
     "output_type": "stream",
     "text": [
      "()\n",
      "\r\n"
     ]
    }
   ],
   "source": [
    "inl init_trace_state () : () =\n",
    "    global \"module State = let mutable trace_state = None\"\n",
    "    $\"if State.trace_state.IsNone then State.trace_state <- !new_trace_state () |> Some\" : ()"
   ]
  },
  {
   "cell_type": "markdown",
   "metadata": {},
   "source": [
    "## get_trace_state"
   ]
  },
  {
   "cell_type": "code",
   "execution_count": null,
   "metadata": {
    "dotnet_interactive": {
     "language": "spiral"
    },
    "polyglot_notebook": {
     "kernelName": "spiral"
    }
   },
   "outputs": [
    {
     "name": "stdout",
     "output_type": "stream",
     "text": [
      "()\n",
      "\r\n"
     ]
    }
   ],
   "source": [
    "inl get_trace_state () : trace_state =\n",
    "    init_trace_state ()\n",
    "    $'State.trace_state.Value'"
   ]
  },
  {
   "cell_type": "markdown",
   "metadata": {},
   "source": [
    "## _locals"
   ]
  },
  {
   "cell_type": "code",
   "execution_count": null,
   "metadata": {
    "dotnet_interactive": {
     "language": "spiral"
    },
    "polyglot_notebook": {
     "kernelName": "spiral"
    }
   },
   "outputs": [
    {
     "name": "stdout",
     "output_type": "stream",
     "text": [
      "()\n",
      "\r\n"
     ]
    }
   ],
   "source": [
    "inl _locals () = \"\""
   ]
  },
  {
   "cell_type": "markdown",
   "metadata": {},
   "source": [
    "## test_trace_level"
   ]
  },
  {
   "cell_type": "code",
   "execution_count": null,
   "metadata": {
    "dotnet_interactive": {
     "language": "spiral"
    },
    "polyglot_notebook": {
     "kernelName": "spiral"
    }
   },
   "outputs": [
    {
     "name": "stdout",
     "output_type": "stream",
     "text": [
      "()\n",
      "\r\n"
     ]
    }
   ],
   "source": [
    "inl test_trace_level level : bool =\n",
    "    inl state = get_trace_state ()\n",
    "    inl level' = *state.level\n",
    "    if *state.enabled |> not\n",
    "    then false\n",
    "    else\n",
    "        inl level : i32 = real real_core.union_tag level\n",
    "        inl level' : i32 = real real_core.union_tag level'\n",
    "        level >= level'"
   ]
  },
  {
   "cell_type": "code",
   "execution_count": null,
   "metadata": {
    "dotnet_interactive": {
     "language": "spiral"
    },
    "polyglot_notebook": {
     "kernelName": "spiral"
    }
   },
   "outputs": [
    {
     "name": "stdout",
     "output_type": "stream",
     "text": [
      "module State = let mutable trace_state = None\n",
      "type Mut0 = {mutable l0 : int64}\n",
      "and Mut1 = {mutable l0 : bool}\n",
      "and [<Struct>] US0 =\n",
      "    | US0_0\n",
      "    | US0_1\n",
      "    | US0_2\n",
      "    | US0_3\n",
      "    | US0_4\n",
      "and Mut2 = {mutable l0 : US0}\n",
      "and Mut3 = {mutable l0 : (string -> unit)}\n",
      "and [<Struct>] US1 =\n",
      "    | US1_0 of f0_0 : int64\n",
      "    | US1_1\n",
      "let rec closure1 () (v0 : string) : unit =\n",
      "    ()\n",
      "and method1 (v0 : int64 option) : int64 option =\n",
      "    v0\n",
      "and method2 (v0 : int64 option) : int64 option =\n",
      "    v0\n",
      "and closure0 () () : struct (Mut0 * Mut1 * Mut2 * int64 option * Mut3) =\n",
      "    let v0 : Mut1 = {l0 = true} : Mut1\n",
      "    let v1 : Mut0 = {l0 = 0L} : Mut0\n",
      "    let v2 : US0 = US0_0\n",
      "    let v3 : Mut2 = {l0 = v2} : Mut2\n",
      "    let v4 : (string -> unit) = closure1()\n",
      "    let v5 : Mut3 = {l0 = v4} : Mut3\n",
      "    let v6 : int64 option option = None\n",
      "    let mutable _v6 = v6\n",
      "    #if INTERACTIVE || !FABLE_COMPILER\n",
      "    let v7 : string option = None\n",
      "    let v8 : bool = true in let mutable _v7 = v7\n",
      "    #if FABLE_COMPILER_RUST && !WASM && !CONTRACT\n",
      "    let v9 : string = \"env!(\\\"CARGO_PKG_NAME\\\").into()\"\n",
      "    let v10 : string = Fable.Core.RustInterop.emitRustExpr () v9\n",
      "    v10\n",
      "    #endif\n",
      "    #if FABLE_COMPILER_RUST && WASM\n",
      "    let v11 : string = null |> unbox<string>\n",
      "    v11\n",
      "    #endif\n",
      "    #if FABLE_COMPILER_RUST && CONTRACT\n",
      "    let v12 : string = null |> unbox<string>\n",
      "    v12\n",
      "    #endif\n",
      "    #if !FABLE_COMPILER && !WASM && !CONTRACT\n",
      "    let v13 : string = System.Reflection.Assembly.GetEntryAssembly().GetName().Name\n",
      "    v13\n",
      "    #endif\n",
      "    #if FABLE_COMPILER_TYPESCRIPT\n",
      "    let v14 : string = null |> unbox<string>\n",
      "    v14\n",
      "    #endif\n",
      "    #if FABLE_COMPILER_PYTHON\n",
      "    let v15 : string = null |> unbox<string>\n",
      "    v15\n",
      "    #endif\n",
      "    |> fun x -> _v7 <- Some x\n",
      "    let v16 : string = _v7.Value\n",
      "    let v18 : bool = v16 = \"Microsoft.DotNet.Interactive.App\"\n",
      "    let v19 : bool = v18 <> true\n",
      "    let v25 : US1 =\n",
      "        if v19 then\n",
      "            let v20 : System.DateTime = System.DateTime.Now\n",
      "            let v21 : (System.DateTime -> int64) = _.Ticks\n",
      "            let v22 : int64 = v21 v20\n",
      "            US1_0(v22)\n",
      "        else\n",
      "            US1_1\n",
      "    let v30 : int64 option =\n",
      "        match v25 with\n",
      "        | US1_1 -> (* None *)\n",
      "            let v28 : int64 option = None\n",
      "            v28\n",
      "        | US1_0(v26) -> (* Some *)\n",
      "            let v27 : int64 option = Some v26 \n",
      "            v27\n",
      "    let v31 : int64 option = method1(v30)\n",
      "    v31 \n",
      "    #else\n",
      "    let v32 : int64 option = None\n",
      "    let v33 : int64 option = method2(v32)\n",
      "    v33 \n",
      "    #endif\n",
      "    |> fun x -> _v6 <- Some x\n",
      "    let v34 : int64 option = _v6.Value\n",
      "    struct (v1, v0, v3, v34, v5)\n",
      "and method3 (v0 : bool) : bool =\n",
      "    v0\n",
      "and method0 () : unit =\n",
      "    let v0 : (unit -> struct (Mut0 * Mut1 * Mut2 * int64 option * Mut3)) = closure0()\n",
      "    if State.trace_state.IsNone then State.trace_state <- v0 () |> Some\n",
      "    let struct (v1 : Mut0, v2 : Mut1, v3 : Mut2, v4 : int64 option, v5 : Mut3) = State.trace_state.Value\n",
      "    let v6 : US0 = v3.l0\n",
      "    let v7 : bool = v2.l0\n",
      "    let v8 : bool = v7 = false\n",
      "    let v11 : bool =\n",
      "        if v8 then\n",
      "            false\n",
      "        else\n",
      "            let v9 : int32 = [ US0_0, 0; US0_1, 1; US0_2, 2; US0_3, 3; US0_4, 4 ] |> Map |> Map.find v6\n",
      "            let v10 : bool = 4 >= v9\n",
      "            v10\n",
      "    let v12 : string = $\"%A{v11}\"\n",
      "    System.Console.WriteLine v12\n",
      "    let v14 : bool =\n",
      "        if v11 then\n",
      "            true\n",
      "        else\n",
      "            method3(v11)\n",
      "    let v15 : string = $\"__expect / actual: %A{v11} / expected: %A{true}\"\n",
      "    let v16 : bool = v14 = false\n",
      "    if v16 then\n",
      "        failwith<unit> v15\n",
      "    if State.trace_state.IsNone then State.trace_state <- v0 () |> Some\n",
      "    let struct (v17 : Mut0, v18 : Mut1, v19 : Mut2, v20 : int64 option, v21 : Mut3) = State.trace_state.Value\n",
      "    let v22 : US0 = v19.l0\n",
      "    let v23 : bool = v18.l0\n",
      "    let v24 : bool = v23 = false\n",
      "    let v27 : bool =\n",
      "        if v24 then\n",
      "            false\n",
      "        else\n",
      "            let v25 : int32 = [ US0_0, 0; US0_1, 1; US0_2, 2; US0_3, 3; US0_4, 4 ] |> Map |> Map.find v22\n",
      "            let v26 : bool = 0 >= v25\n",
      "            v26\n",
      "    let v28 : string = $\"%A{v27}\"\n",
      "    System.Console.WriteLine v28\n",
      "    let v30 : bool =\n",
      "        if v27 then\n",
      "            true\n",
      "        else\n",
      "            method3(v27)\n",
      "    let v31 : string = $\"__expect / actual: %A{v27} / expected: %A{true}\"\n",
      "    let v32 : bool = v30 = false\n",
      "    if v32 then\n",
      "        failwith<unit> v31\n",
      "    if State.trace_state.IsNone then State.trace_state <- v0 () |> Some\n",
      "    let struct (v33 : Mut0, v34 : Mut1, v35 : Mut2, v36 : int64 option, v37 : Mut3) = State.trace_state.Value\n",
      "    let v38 : US0 = US0_1\n",
      "    v35.l0 <- v38\n",
      "    if State.trace_state.IsNone then State.trace_state <- v0 () |> Some\n",
      "    let struct (v39 : Mut0, v40 : Mut1, v41 : Mut2, v42 : int64 option, v43 : Mut3) = State.trace_state.Value\n",
      "    let v44 : US0 = v41.l0\n",
      "    let v45 : bool = v40.l0\n",
      "    let v46 : bool = v45 = false\n",
      "    let v49 : bool =\n",
      "        if v46 then\n",
      "            false\n",
      "        else\n",
      "            let v47 : int32 = [ US0_0, 0; US0_1, 1; US0_2, 2; US0_3, 3; US0_4, 4 ] |> Map |> Map.find v44\n",
      "            let v48 : bool = 0 >= v47\n",
      "            v48\n",
      "    let v50 : string = $\"%A{v49}\"\n",
      "    System.Console.WriteLine v50\n",
      "    let v51 : bool = v49 = false\n",
      "    let v53 : bool =\n",
      "        if v51 then\n",
      "            true\n",
      "        else\n",
      "            method3(v51)\n",
      "    let v54 : string = $\"__expect / actual: %A{v49} / expected: %A{false}\"\n",
      "    let v55 : bool = v53 = false\n",
      "    if v55 then\n",
      "        failwith<unit> v54\n",
      "    let v56 : US0 = US0_0\n",
      "    v35.l0 <- v56\n",
      "    if State.trace_state.IsNone then State.trace_state <- v0 () |> Some\n",
      "    let struct (v57 : Mut0, v58 : Mut1, v59 : Mut2, v60 : int64 option, v61 : Mut3) = State.trace_state.Value\n",
      "    let v62 : US0 = v59.l0\n",
      "    let v63 : bool = v58.l0\n",
      "    let v64 : bool = v63 = false\n",
      "    let v67 : bool =\n",
      "        if v64 then\n",
      "            false\n",
      "        else\n",
      "            let v65 : int32 = [ US0_0, 0; US0_1, 1; US0_2, 2; US0_3, 3; US0_4, 4 ] |> Map |> Map.find v62\n",
      "            let v66 : bool = 0 >= v65\n",
      "            v66\n",
      "    let v68 : string = $\"%A{v67}\"\n",
      "    System.Console.WriteLine v68\n",
      "    let v70 : bool =\n",
      "        if v67 then\n",
      "            true\n",
      "        else\n",
      "            method3(v67)\n",
      "    let v71 : string = $\"__expect / actual: %A{v67} / expected: %A{true}\"\n",
      "    let v72 : bool = v70 = false\n",
      "    if v72 then\n",
      "        failwith<unit> v71\n",
      "method0()\n",
      "\r\n",
      "true\r\n",
      "true\r\n",
      "false\r\n",
      "true\r\n"
     ]
    }
   ],
   "source": [
    "// // test\n",
    "\n",
    "test_trace_level Critical |> _assert_eq true\n",
    "test_trace_level Verbose |> _assert_eq true\n",
    "\n",
    "inl level = get_trace_state () .level\n",
    "level <- Debug\n",
    "test_trace_level Verbose |> _assert_eq false\n",
    "level <- Verbose\n",
    "test_trace_level Verbose |> _assert_eq true"
   ]
  },
  {
   "cell_type": "markdown",
   "metadata": {},
   "source": [
    "## trace_raw"
   ]
  },
  {
   "cell_type": "code",
   "execution_count": null,
   "metadata": {
    "dotnet_interactive": {
     "language": "spiral"
    },
    "polyglot_notebook": {
     "kernelName": "spiral"
    }
   },
   "outputs": [
    {
     "name": "stdout",
     "output_type": "stream",
     "text": [
      "()\n",
      "\r\n"
     ]
    }
   ],
   "source": [
    "let rec trace_raw level fn =\n",
    "    inl trace_state = get_trace_state ()\n",
    "    if level |> test_trace_level then\n",
    "        inl count = trace_state.count\n",
    "        count <- *trace_state.count + 1\n",
    "\n",
    "        inl text = $'$\"%s{!fn ()}\"' : string\n",
    "        run_target function\n",
    "        | Rust _ => fun () =>\n",
    "            open rust_operators\n",
    "            !\\\\(text, $'\\@\"println\\!(\"\"{}\"\", $0)\"')\n",
    "        | _ => fun () =>\n",
    "            $'System.Console.WriteLine !text '\n",
    "\n",
    "        *trace_state.trace_file text"
   ]
  },
  {
   "cell_type": "markdown",
   "metadata": {},
   "source": [
    "## trace"
   ]
  },
  {
   "cell_type": "code",
   "execution_count": null,
   "metadata": {
    "dotnet_interactive": {
     "language": "spiral"
    },
    "polyglot_notebook": {
     "kernelName": "spiral"
    }
   },
   "outputs": [
    {
     "name": "stdout",
     "output_type": "stream",
     "text": [
      "()\n",
      "\r\n"
     ]
    }
   ],
   "source": [
    "let trace (level : trace_level) (fn : () -> string) (locals : () -> string) =\n",
    "    fun () =>\n",
    "        inl trace_state = get_trace_state ()\n",
    "        inl time =\n",
    "            run_target fun target =>\n",
    "                match target with\n",
    "                | Fsharp (Native)\n",
    "                | Rust (Native) => fun () =>\n",
    "                    match trace_state.repl_start |> optionm'.unbox with\n",
    "                    | Some repl_start =>\n",
    "                        inl t =\n",
    "                            (date_time.now () |> date_time.ticks |> fun (date_time.timestamp x) => x)\n",
    "                            - repl_start |> date_time.time_span\n",
    "                        date_time.date_time_milliseconds\n",
    "                            1i32 1i32 1i32\n",
    "                            (t |> date_time.hours)\n",
    "                            (t |> date_time.minutes)\n",
    "                            (t |> date_time.seconds)\n",
    "                            (t |> date_time.milliseconds)\n",
    "                    | None => date_time.now ()\n",
    "                    |> fun date_time =>\n",
    "                        inl format =\n",
    "                            match target with\n",
    "                            | Rust _ => \"hh:mm:ss\"\n",
    "                            | _ => \"HH:mm:ss\"\n",
    "                        $'!date_time.ToString !format '\n",
    "                | _ => fun () => join \"\"\n",
    "        inl count = *trace_state.count\n",
    "        inl level_str = level |> to_string |> sm'.to_lower |> sm'.pad_right 7 ' '\n",
    "        inl level_str =\n",
    "            run_target function\n",
    "            | Rust _ => fun () =>\n",
    "                open rust_operators\n",
    "                inl color : rust.ref' sm'.str =\n",
    "                    match level with\n",
    "                    | Verbose => !\\($'\"inline_colorization::color_bright_black\"')\n",
    "                    | Debug => !\\($'\"inline_colorization::color_bright_blue\"')\n",
    "                    | Info => !\\($'\"inline_colorization::color_bright_green\"')\n",
    "                    | Warning => !\\($'\"inline_colorization::color_bright_yellow\"')\n",
    "                    | Critical => !\\($'\"inline_colorization::color_bright_red\"')\n",
    "                inl level_str = level_str |> sm'.as_str\n",
    "                inl color_reset : rust.ref' sm'.str = !\\($'\"inline_colorization::color_reset\"')\n",
    "                $'\"\\\\\\\"{!color}{!level_str}{!color_reset}\\\\\\\"\"'\n",
    "                |> sm'.format''\n",
    "                |> sm'.from_std_string\n",
    "            | _ => fun () => level_str\n",
    "        inl text = fn ()\n",
    "        $'$\"{!time} {!level_str} #{!count} %s{!text} / %s{!locals ()}\"'\n",
    "        |> sm'.trim_start ;[]\n",
    "        |> sm'.trim_end ;[ ' '; '/' ]\n",
    "    |> trace_raw level"
   ]
  },
  {
   "cell_type": "code",
   "execution_count": null,
   "metadata": {
    "dotnet_interactive": {
     "language": "spiral"
    },
    "polyglot_notebook": {
     "kernelName": "spiral"
    }
   },
   "outputs": [
    {
     "name": "stdout",
     "output_type": "stream",
     "text": [
      "00:00:00 debug   #1 test\r\n",
      "00:00:00 debug   #2 test\r\n"
     ]
    }
   ],
   "source": [
    "// // test\n",
    "// // print_code=false\n",
    "\n",
    "trace Debug (fun () => \"test\") _locals\n",
    "trace Debug (fun () => \"test\") _locals"
   ]
  },
  {
   "cell_type": "code",
   "execution_count": null,
   "metadata": {
    "dotnet_interactive": {
     "language": "spiral"
    },
    "polyglot_notebook": {
     "kernelName": "spiral"
    }
   },
   "outputs": [
    {
     "data": {
      "text/plain": [
       "01:27:20 \u001B[94mdebug  \u001B[39m #1 test\n"
      ]
     },
     "metadata": {},
     "output_type": "display_data"
    }
   ],
   "source": [
    "// // test\n",
    "// // print_code=false\n",
    "// // rust=\n",
    "\n",
    "types ()\n",
    "trace Debug (fun () => \"test\") _locals"
   ]
  },
  {
   "cell_type": "markdown",
   "metadata": {},
   "source": [
    "## main"
   ]
  },
  {
   "cell_type": "code",
   "execution_count": null,
   "metadata": {
    "dotnet_interactive": {
     "language": "spiral"
    },
    "polyglot_notebook": {
     "kernelName": "spiral"
    }
   },
   "outputs": [
    {
     "name": "stdout",
     "output_type": "stream",
     "text": [
      "#if FABLE_COMPILER\n",
      "[<Fable.Core.Erase; Fable.Core.Emit(\"Func0<$0>\")>]\n",
      "#endif\n",
      "type Func0<'T> = class end\n",
      "#if FABLE_COMPILER\n",
      "[<Fable.Core.Erase; Fable.Core.Emit(\"Func1<$0, $1>\")>]\n",
      "#endif\n",
      "type Func0<'T, 'U> = class end\n",
      "#if FABLE_COMPILER\n",
      "[<Fable.Core.Erase; Fable.Core.Emit(\"Box<$0>\")>]\n",
      "#endif\n",
      "type Box<'T> = class end\n",
      "#if FABLE_COMPILER\n",
      "[<Fable.Core.Erase; Fable.Core.Emit(\"dyn $0\")>]\n",
      "#endif\n",
      "type Dyn<'T> = class end\n",
      "#if FABLE_COMPILER\n",
      "[<Fable.Core.Erase; Fable.Core.Emit(\"$0 + Send\")>]\n",
      "#endif\n",
      "type Send<'T> = class end\n",
      "#if FABLE_COMPILER\n",
      "[<Fable.Core.Erase; Fable.Core.Emit(\"Fn() -> $0\")>]\n",
      "#endif\n",
      "type Fn<'T> = class end\n",
      "#if FABLE_COMPILER\n",
      "[<Fable.Core.Erase; Fable.Core.Emit(\"Fn()\")>]\n",
      "#endif\n",
      "type FnUnit = class end\n",
      "#if FABLE_COMPILER\n",
      "[<Fable.Core.Erase; Fable.Core.Emit(\"FnOnce() -> $0\")>]\n",
      "#endif\n",
      "type FnOnce<'T> = class end\n",
      "#if FABLE_COMPILER\n",
      "[<Fable.Core.Erase; Fable.Core.Emit(\"Fn($0)\")>]\n",
      "#endif\n",
      "type ActionFn<'T> = class end\n",
      "#if FABLE_COMPILER\n",
      "[<Fable.Core.Erase; Fable.Core.Emit(\"Fn($0, $1)\")>]\n",
      "#endif\n",
      "type ActionFn2<'T, 'U> = class end\n",
      "#if FABLE_COMPILER\n",
      "[<Fable.Core.Erase; Fable.Core.Emit(\"impl $0\")>]\n",
      "#endif\n",
      "type Impl<'T> = class end\n",
      "#if FABLE_COMPILER\n",
      "[<Fable.Core.Erase; Fable.Core.Emit(\"mut $0\")>]\n",
      "#endif\n",
      "type Mut<'T> = class end\n",
      "#if FABLE_COMPILER\n",
      "[<Fable.Core.Erase; Fable.Core.Emit(\"&$0\")>]\n",
      "#endif\n",
      "type Ref<'T> = class end\n",
      "#if FABLE_COMPILER\n",
      "[<Fable.Core.Erase; Fable.Core.Emit(\"&'static $0\")>]\n",
      "#endif\n",
      "type StaticRef<'T> = class end\n",
      "#if FABLE_COMPILER\n",
      "[<Fable.Core.Erase; Fable.Core.Emit(\"MutCell<$0>\")>]\n",
      "#endif\n",
      "type MutCell<'T> = class end\n",
      "#if FABLE_COMPILER\n",
      "[<Fable.Core.Erase; Fable.Core.Emit(\"std::any::Any\")>]\n",
      "#endif\n",
      "type std_any_Any = class end\n",
      "#if FABLE_COMPILER\n",
      "[<Fable.Core.Erase; Fable.Core.Emit(\"std::cell::RefCell<$0>\")>]\n",
      "#endif\n",
      "type std_cell_RefCell<'T> = class end\n",
      "#if FABLE_COMPILER\n",
      "[<Fable.Core.Erase; Fable.Core.Emit(\"std::pin::Pin<$0>\")>]\n",
      "#endif\n",
      "type std_pin_Pin<'T> = class end\n",
      "#if FABLE_COMPILER\n",
      "[<Fable.Core.Erase; Fable.Core.Emit(\"std::rc::Rc<$0>\")>]\n",
      "#endif\n",
      "type std_rc_Rc<'T> = class end\n",
      "#if FABLE_COMPILER\n",
      "[<Fable.Core.Erase; Fable.Core.Emit(\"std::rc::Weak<$0>\")>]\n",
      "#endif\n",
      "type std_rc_Weak<'T> = class end\n",
      "#if FABLE_COMPILER\n",
      "[<Fable.Core.Erase; Fable.Core.Emit(\"std::sync::Arc<$0>\")>]\n",
      "#endif\n",
      "type std_sync_Arc<'T> = class end\n",
      "#if FABLE_COMPILER\n",
      "[<Fable.Core.Erase; Fable.Core.Emit(\"std::sync::Mutex<$0>\")>]\n",
      "#endif\n",
      "type std_sync_Mutex<'T> = class end\n",
      "#if FABLE_COMPILER\n",
      "[<Fable.Core.Erase; Fable.Core.Emit(\"str\")>]\n",
      "#endif\n",
      "type Str = class end\n",
      "#if FABLE_COMPILER\n",
      "[<Fable.Core.Erase; Fable.Core.Emit(\"base64::DecodeError\")>]\n",
      "#endif\n",
      "type base64_DecodeError = class end\n",
      "#if FABLE_COMPILER\n",
      "[<Fable.Core.Erase; Fable.Core.Emit(\"borsh::io::Error\")>]\n",
      "#endif\n",
      "type borsh_io_Error = class end\n",
      "#if FABLE_COMPILER\n",
      "[<Fable.Core.Erase; Fable.Core.Emit(\"js_sys::JsString\")>]\n",
      "#endif\n",
      "type js_sys_JsString = class end\n",
      "#if FABLE_COMPILER\n",
      "[<Fable.Core.Erase; Fable.Core.Emit(\"serde_json::Error\")>]\n",
      "#endif\n",
      "type serde_json_Error = class end\n",
      "#if FABLE_COMPILER\n",
      "[<Fable.Core.Erase; Fable.Core.Emit(\"serde_json::Value\")>]\n",
      "#endif\n",
      "type serde_json_Value = class end\n",
      "#if FABLE_COMPILER\n",
      "[<Fable.Core.Erase; Fable.Core.Emit(\"serde_wasm_bindgen::Error\")>]\n",
      "#endif\n",
      "type serde_wasm_bindgen_Error = class end\n",
      "#if FABLE_COMPILER\n",
      "[<Fable.Core.Erase; Fable.Core.Emit(\"std::ffi::OsStr\")>]\n",
      "#endif\n",
      "type std_ffi_OsStr = class end\n",
      "#if FABLE_COMPILER\n",
      "[<Fable.Core.Erase; Fable.Core.Emit(\"std::ffi::OsString\")>]\n",
      "#endif\n",
      "type std_ffi_OsString = class end\n",
      "#if FABLE_COMPILER\n",
      "[<Fable.Core.Erase; Fable.Core.Emit(\"std::fmt::Display<$0>\")>]\n",
      "#endif\n",
      "type std_fmt_Display<'T> = class end\n",
      "#if FABLE_COMPILER\n",
      "[<Fable.Core.Erase; Fable.Core.Emit(\"std::str::Utf8Error\")>]\n",
      "#endif\n",
      "type std_str_Utf8Error = class end\n",
      "#if FABLE_COMPILER\n",
      "[<Fable.Core.Erase; Fable.Core.Emit(\"std::string::String\")>]\n",
      "#endif\n",
      "type std_string_String = class end\n",
      "module State = let mutable trace_state = None\n",
      "type Mut0 = {mutable l0 : int64}\n",
      "and Mut1 = {mutable l0 : bool}\n",
      "and [<Struct>] US0 =\n",
      "    | US0_0\n",
      "    | US0_1\n",
      "    | US0_2\n",
      "    | US0_3\n",
      "    | US0_4\n",
      "and Mut2 = {mutable l0 : US0}\n",
      "and Mut3 = {mutable l0 : (string -> unit)}\n",
      "and [<Struct>] US1 =\n",
      "    | US1_0 of f0_0 : int64\n",
      "    | US1_1\n",
      "and [<Struct>] US2 =\n",
      "    | US2_0 of f0_0 : int64\n",
      "    | US2_1\n",
      "let rec closure1 () (v0 : string) : unit =\n",
      "    ()\n",
      "and method0 (v0 : int64 option) : int64 option =\n",
      "    v0\n",
      "and method1 (v0 : int64 option) : int64 option =\n",
      "    v0\n",
      "and closure0 () () : struct (Mut0 * Mut1 * Mut2 * int64 option * Mut3) =\n",
      "    let v0 : Mut1 = {l0 = true} : Mut1\n",
      "    let v1 : Mut0 = {l0 = 0L} : Mut0\n",
      "    let v2 : US0 = US0_0\n",
      "    let v3 : Mut2 = {l0 = v2} : Mut2\n",
      "    let v4 : (string -> unit) = closure1()\n",
      "    let v5 : Mut3 = {l0 = v4} : Mut3\n",
      "    let v6 : int64 option option = None\n",
      "    let mutable _v6 = v6\n",
      "    #if INTERACTIVE || !FABLE_COMPILER\n",
      "    let v7 : string option = None\n",
      "    let v8 : bool = true in let mutable _v7 = v7\n",
      "    #if FABLE_COMPILER_RUST && !WASM && !CONTRACT\n",
      "    let v9 : string = \"env!(\\\"CARGO_PKG_NAME\\\").into()\"\n",
      "    let v10 : string = Fable.Core.RustInterop.emitRustExpr () v9\n",
      "    v10\n",
      "    #endif\n",
      "    #if FABLE_COMPILER_RUST && WASM\n",
      "    let v11 : string = null |> unbox<string>\n",
      "    v11\n",
      "    #endif\n",
      "    #if FABLE_COMPILER_RUST && CONTRACT\n",
      "    let v12 : string = null |> unbox<string>\n",
      "    v12\n",
      "    #endif\n",
      "    #if !FABLE_COMPILER && !WASM && !CONTRACT\n",
      "    let v13 : string = System.Reflection.Assembly.GetEntryAssembly().GetName().Name\n",
      "    v13\n",
      "    #endif\n",
      "    #if FABLE_COMPILER_TYPESCRIPT\n",
      "    let v14 : string = null |> unbox<string>\n",
      "    v14\n",
      "    #endif\n",
      "    #if FABLE_COMPILER_PYTHON\n",
      "    let v15 : string = null |> unbox<string>\n",
      "    v15\n",
      "    #endif\n",
      "    |> fun x -> _v7 <- Some x\n",
      "    let v16 : string = _v7.Value\n",
      "    let v18 : bool = v16 = \"Microsoft.DotNet.Interactive.App\"\n",
      "    let v19 : bool = v18 <> true\n",
      "    let v25 : US1 =\n",
      "        if v19 then\n",
      "            let v20 : System.DateTime = System.DateTime.Now\n",
      "            let v21 : (System.DateTime -> int64) = _.Ticks\n",
      "            let v22 : int64 = v21 v20\n",
      "            US1_0(v22)\n",
      "        else\n",
      "            US1_1\n",
      "    let v30 : int64 option =\n",
      "        match v25 with\n",
      "        | US1_1 -> (* None *)\n",
      "            let v28 : int64 option = None\n",
      "            v28\n",
      "        | US1_0(v26) -> (* Some *)\n",
      "            let v27 : int64 option = Some v26 \n",
      "            v27\n",
      "    let v31 : int64 option = method0(v30)\n",
      "    v31 \n",
      "    #else\n",
      "    let v32 : int64 option = None\n",
      "    let v33 : int64 option = method1(v32)\n",
      "    v33 \n",
      "    #endif\n",
      "    |> fun x -> _v6 <- Some x\n",
      "    let v34 : int64 option = _v6.Value\n",
      "    struct (v1, v0, v3, v34, v5)\n",
      "and closure6 () (v0 : int64) : US2 =\n",
      "    US2_0(v0)\n",
      "and method3 () : (int64 -> US2) =\n",
      "    closure6()\n",
      "and method4 () : string =\n",
      "    let v0 : string = \"\"\n",
      "    v0\n",
      "and closure5 (v0 : US0, v1 : (unit -> string), v2 : (unit -> string)) () : string =\n",
      "    let v3 : (unit -> struct (Mut0 * Mut1 * Mut2 * int64 option * Mut3)) = closure0()\n",
      "    if State.trace_state.IsNone then State.trace_state <- v3 () |> Some\n",
      "    let struct (v4 : Mut0, v5 : Mut1, v6 : Mut2, v7 : int64 option, v8 : Mut3) = State.trace_state.Value\n",
      "    let v9 : string option = None\n",
      "    let v10 : bool = true in let mutable _v9 = v9\n",
      "    #if FABLE_COMPILER_RUST && !WASM && !CONTRACT\n",
      "    let v11 : (int64 -> US2) = method3()\n",
      "    let v12 : US2 = US2_1\n",
      "    let v13 : US2 = v7 |> Option.map v11 |> Option.defaultValue v12 \n",
      "    let v31 : System.DateTime =\n",
      "        match v13 with\n",
      "        | US2_1 -> (* None *)\n",
      "            let v29 : System.DateTime = System.DateTime.Now\n",
      "            v29\n",
      "        | US2_0(v14) -> (* Some *)\n",
      "            let v15 : System.DateTime = System.DateTime.Now\n",
      "            let v16 : (System.DateTime -> int64) = _.Ticks\n",
      "            let v17 : int64 = v16 v15\n",
      "            let v18 : int64 = v17 - v14\n",
      "            let v19 : System.TimeSpan = System.TimeSpan v18 \n",
      "            let v20 : (System.TimeSpan -> int32) = _.Hours\n",
      "            let v21 : int32 = v20 v19\n",
      "            let v22 : (System.TimeSpan -> int32) = _.Minutes\n",
      "            let v23 : int32 = v22 v19\n",
      "            let v24 : (System.TimeSpan -> int32) = _.Seconds\n",
      "            let v25 : int32 = v24 v19\n",
      "            let v26 : (System.TimeSpan -> int32) = _.Milliseconds\n",
      "            let v27 : int32 = v26 v19\n",
      "            let v28 : System.DateTime = System.DateTime (1, 1, 1, v21, v23, v25, v27)\n",
      "            v28\n",
      "    let v32 : string = \"hh:mm:ss\"\n",
      "    let v33 : string = v31.ToString v32 \n",
      "    v33\n",
      "    #endif\n",
      "    #if FABLE_COMPILER_RUST && WASM\n",
      "    let v34 : string = method4()\n",
      "    v34\n",
      "    #endif\n",
      "    #if FABLE_COMPILER_RUST && CONTRACT\n",
      "    let v35 : string = method4()\n",
      "    v35\n",
      "    #endif\n",
      "    #if !FABLE_COMPILER && !WASM && !CONTRACT\n",
      "    let v36 : (int64 -> US2) = method3()\n",
      "    let v37 : US2 = US2_1\n",
      "    let v38 : US2 = v7 |> Option.map v36 |> Option.defaultValue v37 \n",
      "    let v56 : System.DateTime =\n",
      "        match v38 with\n",
      "        | US2_1 -> (* None *)\n",
      "            let v54 : System.DateTime = System.DateTime.Now\n",
      "            v54\n",
      "        | US2_0(v39) -> (* Some *)\n",
      "            let v40 : System.DateTime = System.DateTime.Now\n",
      "            let v41 : (System.DateTime -> int64) = _.Ticks\n",
      "            let v42 : int64 = v41 v40\n",
      "            let v43 : int64 = v42 - v39\n",
      "            let v44 : System.TimeSpan = System.TimeSpan v43 \n",
      "            let v45 : (System.TimeSpan -> int32) = _.Hours\n",
      "            let v46 : int32 = v45 v44\n",
      "            let v47 : (System.TimeSpan -> int32) = _.Minutes\n",
      "            let v48 : int32 = v47 v44\n",
      "            let v49 : (System.TimeSpan -> int32) = _.Seconds\n",
      "            let v50 : int32 = v49 v44\n",
      "            let v51 : (System.TimeSpan -> int32) = _.Milliseconds\n",
      "            let v52 : int32 = v51 v44\n",
      "            let v53 : System.DateTime = System.DateTime (1, 1, 1, v46, v48, v50, v52)\n",
      "            v53\n",
      "    let v57 : string = \"HH:mm:ss\"\n",
      "    let v58 : string = v56.ToString v57 \n",
      "    v58\n",
      "    #endif\n",
      "    #if FABLE_COMPILER_TYPESCRIPT\n",
      "    let v59 : string = method4()\n",
      "    v59\n",
      "    #endif\n",
      "    #if FABLE_COMPILER_PYTHON\n",
      "    let v60 : string = method4()\n",
      "    v60\n",
      "    #endif\n",
      "    |> fun x -> _v9 <- Some x\n",
      "    let v61 : string = _v9.Value\n",
      "    let v62 : int64 = v4.l0\n",
      "    let v72 : string =\n",
      "        match v0 with\n",
      "        | US0_4 -> (* Critical *)\n",
      "            let v67 : string = \"Critical\"\n",
      "            v67\n",
      "        | US0_1 -> (* Debug *)\n",
      "            let v64 : string = \"Debug\"\n",
      "            v64\n",
      "        | US0_2 -> (* Info *)\n",
      "            let v65 : string = \"Info\"\n",
      "            v65\n",
      "        | US0_0 -> (* Verbose *)\n",
      "            let v63 : string = \"Verbose\"\n",
      "            v63\n",
      "        | US0_3 -> (* Warning *)\n",
      "            let v66 : string = \"Warning\"\n",
      "            v66\n",
      "    let v73 : string = v72.ToLower ()\n",
      "    let v74 : string = v73.PadRight (7, ' ')\n",
      "    let v75 : string option = None\n",
      "    let v76 : bool = true in let mutable _v75 = v75\n",
      "    #if FABLE_COMPILER_RUST && !WASM && !CONTRACT\n",
      "    let v91 : Ref<Str> =\n",
      "        match v0 with\n",
      "        | US0_4 -> (* Critical *)\n",
      "            let v85 : string = \"inline_colorization::color_bright_red\"\n",
      "            let v86 : Ref<Str> = Fable.Core.RustInterop.emitRustExpr () v85\n",
      "            v86\n",
      "        | US0_1 -> (* Debug *)\n",
      "            let v79 : string = \"inline_colorization::color_bright_blue\"\n",
      "            let v80 : Ref<Str> = Fable.Core.RustInterop.emitRustExpr () v79\n",
      "            v80\n",
      "        | US0_2 -> (* Info *)\n",
      "            let v81 : string = \"inline_colorization::color_bright_green\"\n",
      "            let v82 : Ref<Str> = Fable.Core.RustInterop.emitRustExpr () v81\n",
      "            v82\n",
      "        | US0_0 -> (* Verbose *)\n",
      "            let v77 : string = \"inline_colorization::color_bright_black\"\n",
      "            let v78 : Ref<Str> = Fable.Core.RustInterop.emitRustExpr () v77\n",
      "            v78\n",
      "        | US0_3 -> (* Warning *)\n",
      "            let v83 : string = \"inline_colorization::color_bright_yellow\"\n",
      "            let v84 : Ref<Str> = Fable.Core.RustInterop.emitRustExpr () v83\n",
      "            v84\n",
      "    let v92 : string = \"fable_library_rust::String_::LrcStr::as_str(&$0)\"\n",
      "    let v93 : Ref<Str> = Fable.Core.RustInterop.emitRustExpr v74 v92\n",
      "    let v94 : string = \"inline_colorization::color_reset\"\n",
      "    let v95 : Ref<Str> = Fable.Core.RustInterop.emitRustExpr () v94\n",
      "    let v96 : string = \"\\\"{v91}{v93}{v95}\\\"\"\n",
      "    let v97 : string = @$\"format!(\" + v96 + \")\"\n",
      "    let v98 : std_string_String = Fable.Core.RustInterop.emitRustExpr () v97\n",
      "    let v99 : string = \"fable_library_rust::String_::fromString($0)\"\n",
      "    let v100 : string = Fable.Core.RustInterop.emitRustExpr v98 v99\n",
      "    v100\n",
      "    #endif\n",
      "    #if FABLE_COMPILER_RUST && WASM\n",
      "    let v115 : Ref<Str> =\n",
      "        match v0 with\n",
      "        | US0_4 -> (* Critical *)\n",
      "            let v109 : string = \"inline_colorization::color_bright_red\"\n",
      "            let v110 : Ref<Str> = Fable.Core.RustInterop.emitRustExpr () v109\n",
      "            v110\n",
      "        | US0_1 -> (* Debug *)\n",
      "            let v103 : string = \"inline_colorization::color_bright_blue\"\n",
      "            let v104 : Ref<Str> = Fable.Core.RustInterop.emitRustExpr () v103\n",
      "            v104\n",
      "        | US0_2 -> (* Info *)\n",
      "            let v105 : string = \"inline_colorization::color_bright_green\"\n",
      "            let v106 : Ref<Str> = Fable.Core.RustInterop.emitRustExpr () v105\n",
      "            v106\n",
      "        | US0_0 -> (* Verbose *)\n",
      "            let v101 : string = \"inline_colorization::color_bright_black\"\n",
      "            let v102 : Ref<Str> = Fable.Core.RustInterop.emitRustExpr () v101\n",
      "            v102\n",
      "        | US0_3 -> (* Warning *)\n",
      "            let v107 : string = \"inline_colorization::color_bright_yellow\"\n",
      "            let v108 : Ref<Str> = Fable.Core.RustInterop.emitRustExpr () v107\n",
      "            v108\n",
      "    let v116 : string = \"fable_library_rust::String_::LrcStr::as_str(&$0)\"\n",
      "    let v117 : Ref<Str> = Fable.Core.RustInterop.emitRustExpr v74 v116\n",
      "    let v118 : string = \"inline_colorization::color_reset\"\n",
      "    let v119 : Ref<Str> = Fable.Core.RustInterop.emitRustExpr () v118\n",
      "    let v120 : string = \"\\\"{v115}{v117}{v119}\\\"\"\n",
      "    let v121 : string = @$\"format!(\" + v120 + \")\"\n",
      "    let v122 : std_string_String = Fable.Core.RustInterop.emitRustExpr () v121\n",
      "    let v123 : string = \"fable_library_rust::String_::fromString($0)\"\n",
      "    let v124 : string = Fable.Core.RustInterop.emitRustExpr v122 v123\n",
      "    v124\n",
      "    #endif\n",
      "    #if FABLE_COMPILER_RUST && CONTRACT\n",
      "    let v139 : Ref<Str> =\n",
      "        match v0 with\n",
      "        | US0_4 -> (* Critical *)\n",
      "            let v133 : string = \"inline_colorization::color_bright_red\"\n",
      "            let v134 : Ref<Str> = Fable.Core.RustInterop.emitRustExpr () v133\n",
      "            v134\n",
      "        | US0_1 -> (* Debug *)\n",
      "            let v127 : string = \"inline_colorization::color_bright_blue\"\n",
      "            let v128 : Ref<Str> = Fable.Core.RustInterop.emitRustExpr () v127\n",
      "            v128\n",
      "        | US0_2 -> (* Info *)\n",
      "            let v129 : string = \"inline_colorization::color_bright_green\"\n",
      "            let v130 : Ref<Str> = Fable.Core.RustInterop.emitRustExpr () v129\n",
      "            v130\n",
      "        | US0_0 -> (* Verbose *)\n",
      "            let v125 : string = \"inline_colorization::color_bright_black\"\n",
      "            let v126 : Ref<Str> = Fable.Core.RustInterop.emitRustExpr () v125\n",
      "            v126\n",
      "        | US0_3 -> (* Warning *)\n",
      "            let v131 : string = \"inline_colorization::color_bright_yellow\"\n",
      "            let v132 : Ref<Str> = Fable.Core.RustInterop.emitRustExpr () v131\n",
      "            v132\n",
      "    let v140 : string = \"fable_library_rust::String_::LrcStr::as_str(&$0)\"\n",
      "    let v141 : Ref<Str> = Fable.Core.RustInterop.emitRustExpr v74 v140\n",
      "    let v142 : string = \"inline_colorization::color_reset\"\n",
      "    let v143 : Ref<Str> = Fable.Core.RustInterop.emitRustExpr () v142\n",
      "    let v144 : string = \"\\\"{v139}{v141}{v143}\\\"\"\n",
      "    let v145 : string = @$\"format!(\" + v144 + \")\"\n",
      "    let v146 : std_string_String = Fable.Core.RustInterop.emitRustExpr () v145\n",
      "    let v147 : string = \"fable_library_rust::String_::fromString($0)\"\n",
      "    let v148 : string = Fable.Core.RustInterop.emitRustExpr v146 v147\n",
      "    v148\n",
      "    #endif\n",
      "    #if !FABLE_COMPILER && !WASM && !CONTRACT\n",
      "    v74\n",
      "    #endif\n",
      "    #if FABLE_COMPILER_TYPESCRIPT\n",
      "    v74\n",
      "    #endif\n",
      "    #if FABLE_COMPILER_PYTHON\n",
      "    v74\n",
      "    #endif\n",
      "    |> fun x -> _v75 <- Some x\n",
      "    let v149 : string = _v75.Value\n",
      "    let v150 : string = v1 ()\n",
      "    let v151 : string = $\"{v61} {v149} #{v62} %s{v150} / %s{v2 ()}\"\n",
      "    let v152 : (char []) = [||]\n",
      "    let v153 : string = v151.TrimStart v152\n",
      "    let v154 : (char []) = [|' '; '/'|]\n",
      "    let v155 : string = v153.TrimEnd v154\n",
      "    v155\n",
      "and method5 (v0 : US0, v1 : (unit -> string)) : unit =\n",
      "    let v2 : (unit -> struct (Mut0 * Mut1 * Mut2 * int64 option * Mut3)) = closure0()\n",
      "    if State.trace_state.IsNone then State.trace_state <- v2 () |> Some\n",
      "    let struct (v3 : Mut0, v4 : Mut1, v5 : Mut2, v6 : int64 option, v7 : Mut3) = State.trace_state.Value\n",
      "    if State.trace_state.IsNone then State.trace_state <- v2 () |> Some\n",
      "    let struct (v8 : Mut0, v9 : Mut1, v10 : Mut2, v11 : int64 option, v12 : Mut3) = State.trace_state.Value\n",
      "    let v13 : US0 = v10.l0\n",
      "    let v14 : bool = v9.l0\n",
      "    let v15 : bool = v14 = false\n",
      "    let v19 : bool =\n",
      "        if v15 then\n",
      "            false\n",
      "        else\n",
      "            let v16 : int32 = [ US0_0, 0; US0_1, 1; US0_2, 2; US0_3, 3; US0_4, 4 ] |> Map |> Map.find v0\n",
      "            let v17 : int32 = [ US0_0, 0; US0_1, 1; US0_2, 2; US0_3, 3; US0_4, 4 ] |> Map |> Map.find v13\n",
      "            let v18 : bool = v16 >= v17\n",
      "            v18\n",
      "    if v19 then\n",
      "        let v20 : int64 = v3.l0\n",
      "        let v21 : int64 = v20 + 1L\n",
      "        v3.l0 <- v21\n",
      "        let v22 : string = $\"%s{v1 ()}\"\n",
      "        let v23 : unit option = None\n",
      "        let v24 : bool = true in let mutable _v23 = v23\n",
      "        #if FABLE_COMPILER_RUST && !WASM && !CONTRACT\n",
      "        let v25 : string = @\"println!(\"\"{}\"\", $0)\"\n",
      "        Fable.Core.RustInterop.emitRustExpr v22 v25\n",
      "        ()\n",
      "    #endif\n",
      "        #if FABLE_COMPILER_RUST && WASM\n",
      "        let v26 : string = @\"println!(\"\"{}\"\", $0)\"\n",
      "        Fable.Core.RustInterop.emitRustExpr v22 v26\n",
      "        ()\n",
      "    #endif\n",
      "        #if FABLE_COMPILER_RUST && CONTRACT\n",
      "        let v27 : string = @\"println!(\"\"{}\"\", $0)\"\n",
      "        Fable.Core.RustInterop.emitRustExpr v22 v27\n",
      "        ()\n",
      "    #endif\n",
      "        #if !FABLE_COMPILER && !WASM && !CONTRACT\n",
      "        System.Console.WriteLine v22 \n",
      "        ()\n",
      "    #endif\n",
      "        #if FABLE_COMPILER_TYPESCRIPT\n",
      "        System.Console.WriteLine v22 \n",
      "        ()\n",
      "    #endif\n",
      "        #if FABLE_COMPILER_PYTHON\n",
      "        System.Console.WriteLine v22 \n",
      "        ()\n",
      "    #endif\n",
      "        |> fun x -> _v23 <- Some x\n",
      "        _v23.Value\n",
      "        let v28 : (string -> unit) = v7.l0\n",
      "        v28 v22\n",
      "and method2 (v0 : US0, v1 : (unit -> string), v2 : (unit -> string)) : unit =\n",
      "    let v3 : (unit -> string) = closure5(v0, v1, v2)\n",
      "    method5(v0, v3)\n",
      "and closure4 (v0 : US0, v1 : (unit -> string)) (v2 : (unit -> string)) : unit =\n",
      "    method2(v0, v1, v2)\n",
      "and closure3 (v0 : US0) (v1 : (unit -> string)) : ((unit -> string) -> unit) =\n",
      "    closure4(v0, v1)\n",
      "and closure2 () (v0 : US0) : ((unit -> string) -> ((unit -> string) -> unit)) =\n",
      "    closure3(v0)\n",
      "let v0 : (unit -> struct (Mut0 * Mut1 * Mut2 * int64 option * Mut3)) = closure0()\n",
      "if State.trace_state.IsNone then State.trace_state <- v0 () |> Some\n",
      "let v1 : (US0 -> ((unit -> string) -> ((unit -> string) -> unit))) = closure2()\n",
      "let trace x = v1 x\n",
      "()\n",
      "\r\n"
     ]
    }
   ],
   "source": [
    "inl main () =\n",
    "    types ()\n",
    "    init_trace_state ()\n",
    "    $\"let trace x = !trace x\" : ()"
   ]
  }
 ],
 "metadata": {},
 "nbformat": 4,
 "nbformat_minor": 5
}