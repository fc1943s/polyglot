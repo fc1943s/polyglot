{
 "cells": [
  {
   "cell_type": "markdown",
   "metadata": {},
   "source": [
    "# threading"
   ]
  },
  {
   "cell_type": "code",
   "execution_count": null,
   "metadata": {
    "dotnet_interactive": {
     "language": "spiral"
    },
    "polyglot_notebook": {
     "kernelName": "spiral"
    }
   },
   "outputs": [
    {
     "name": "stdout",
     "output_type": "stream",
     "text": [
      "()\n",
      "\r\n"
     ]
    }
   ],
   "source": [
    "open rust_operators"
   ]
  },
  {
   "cell_type": "code",
   "execution_count": null,
   "metadata": {
    "dotnet_interactive": {
     "language": "spiral"
    },
    "polyglot_notebook": {
     "kernelName": "spiral"
    }
   },
   "outputs": [
    {
     "name": "stdout",
     "output_type": "stream",
     "text": [
      "()\n",
      "\r\n"
     ]
    }
   ],
   "source": [
    "// // test\n",
    "\n",
    "open testing"
   ]
  },
  {
   "cell_type": "markdown",
   "metadata": {},
   "source": [
    "## cancellation_token"
   ]
  },
  {
   "cell_type": "code",
   "execution_count": null,
   "metadata": {
    "dotnet_interactive": {
     "language": "spiral"
    },
    "polyglot_notebook": {
     "kernelName": "spiral"
    }
   },
   "outputs": [
    {
     "name": "stdout",
     "output_type": "stream",
     "text": [
      "()\n",
      "\r\n"
     ]
    }
   ],
   "source": [
    "nominal cancellation_token = $'System.Threading.CancellationToken'"
   ]
  },
  {
   "cell_type": "markdown",
   "metadata": {},
   "source": [
    "## cancellation_token_source"
   ]
  },
  {
   "cell_type": "code",
   "execution_count": null,
   "metadata": {
    "dotnet_interactive": {
     "language": "spiral"
    },
    "polyglot_notebook": {
     "kernelName": "spiral"
    }
   },
   "outputs": [
    {
     "name": "stdout",
     "output_type": "stream",
     "text": [
      "()\n",
      "\r\n"
     ]
    }
   ],
   "source": [
    "nominal cancellation_token_source = $'System.Threading.CancellationTokenSource'"
   ]
  },
  {
   "cell_type": "markdown",
   "metadata": {},
   "source": [
    "## cancellation_token_registration"
   ]
  },
  {
   "cell_type": "code",
   "execution_count": null,
   "metadata": {
    "dotnet_interactive": {
     "language": "spiral"
    },
    "polyglot_notebook": {
     "kernelName": "spiral"
    }
   },
   "outputs": [
    {
     "name": "stdout",
     "output_type": "stream",
     "text": [
      "()\n",
      "\r\n"
     ]
    }
   ],
   "source": [
    "nominal cancellation_token_registration = $'System.Threading.CancellationTokenRegistration'"
   ]
  },
  {
   "cell_type": "markdown",
   "metadata": {},
   "source": [
    "## cancellation_source_token"
   ]
  },
  {
   "cell_type": "code",
   "execution_count": null,
   "metadata": {
    "dotnet_interactive": {
     "language": "spiral"
    },
    "polyglot_notebook": {
     "kernelName": "spiral"
    }
   },
   "outputs": [
    {
     "name": "stdout",
     "output_type": "stream",
     "text": [
      "()\n",
      "\r\n"
     ]
    }
   ],
   "source": [
    "inl cancellation_source_token (x : cancellation_token_source) : cancellation_token =\n",
    "    $'!x.Token'"
   ]
  },
  {
   "cell_type": "markdown",
   "metadata": {},
   "source": [
    "## cancellation_source_cancel"
   ]
  },
  {
   "cell_type": "code",
   "execution_count": null,
   "metadata": {
    "dotnet_interactive": {
     "language": "spiral"
    },
    "polyglot_notebook": {
     "kernelName": "spiral"
    }
   },
   "outputs": [
    {
     "name": "stdout",
     "output_type": "stream",
     "text": [
      "()\n",
      "\r\n"
     ]
    }
   ],
   "source": [
    "inl cancellation_source_cancel (x : cancellation_token_source) : () =\n",
    "    run_target function\n",
    "        | Fsharp (Native) => fun () =>\n",
    "            $'!x.Cancel' ()\n",
    "        | _ => fun () => null ()"
   ]
  },
  {
   "cell_type": "markdown",
   "metadata": {},
   "source": [
    "## create_linked_token_source"
   ]
  },
  {
   "cell_type": "code",
   "execution_count": null,
   "metadata": {
    "dotnet_interactive": {
     "language": "spiral"
    },
    "polyglot_notebook": {
     "kernelName": "spiral"
    }
   },
   "outputs": [
    {
     "name": "stdout",
     "output_type": "stream",
     "text": [
      "()\n",
      "\r\n"
     ]
    }
   ],
   "source": [
    "inl create_linked_token_source (x : array_base cancellation_token) : cancellation_token_source =\n",
    "    x |> $'System.Threading.CancellationTokenSource.CreateLinkedTokenSource'"
   ]
  },
  {
   "cell_type": "markdown",
   "metadata": {},
   "source": [
    "## sleep"
   ]
  },
  {
   "cell_type": "code",
   "execution_count": null,
   "metadata": {
    "dotnet_interactive": {
     "language": "spiral"
    },
    "polyglot_notebook": {
     "kernelName": "spiral"
    }
   },
   "outputs": [
    {
     "name": "stdout",
     "output_type": "stream",
     "text": [
      "()\n",
      "\r\n"
     ]
    }
   ],
   "source": [
    "inl sleep (duration : date_time.duration) : () =\n",
    "    inl duration = join duration\n",
    "    !\\($'\"std::thread::sleep(!duration)\"')"
   ]
  },
  {
   "cell_type": "markdown",
   "metadata": {},
   "source": [
    "## concurrent_stack"
   ]
  },
  {
   "cell_type": "code",
   "execution_count": null,
   "metadata": {
    "dotnet_interactive": {
     "language": "spiral"
    },
    "polyglot_notebook": {
     "kernelName": "spiral"
    }
   },
   "outputs": [
    {
     "name": "stdout",
     "output_type": "stream",
     "text": [
      "()\n",
      "\r\n"
     ]
    }
   ],
   "source": [
    "nominal concurrent_stack t = $'System.Collections.Concurrent.ConcurrentStack<`t>'"
   ]
  },
  {
   "cell_type": "markdown",
   "metadata": {},
   "source": [
    "## concurrent_stack_push"
   ]
  },
  {
   "cell_type": "code",
   "execution_count": null,
   "metadata": {
    "dotnet_interactive": {
     "language": "spiral"
    },
    "polyglot_notebook": {
     "kernelName": "spiral"
    }
   },
   "outputs": [
    {
     "name": "stdout",
     "output_type": "stream",
     "text": [
      "()\n",
      "\r\n"
     ]
    }
   ],
   "source": [
    "inl concurrent_stack_push forall t. (item : t) (stack : concurrent_stack t) : () =\n",
    "    $'!stack.Push' item"
   ]
  },
  {
   "cell_type": "markdown",
   "metadata": {},
   "source": [
    "## token_none"
   ]
  },
  {
   "cell_type": "code",
   "execution_count": null,
   "metadata": {
    "dotnet_interactive": {
     "language": "spiral"
    },
    "polyglot_notebook": {
     "kernelName": "spiral"
    }
   },
   "outputs": [
    {
     "name": "stdout",
     "output_type": "stream",
     "text": [
      "()\n",
      "\r\n"
     ]
    }
   ],
   "source": [
    "inl token_none () : cancellation_token =\n",
    "    $'`cancellation_token.None'"
   ]
  },
  {
   "cell_type": "markdown",
   "metadata": {},
   "source": [
    "## new_concurrent_stack"
   ]
  },
  {
   "cell_type": "code",
   "execution_count": null,
   "metadata": {
    "dotnet_interactive": {
     "language": "spiral"
    },
    "polyglot_notebook": {
     "kernelName": "spiral"
    }
   },
   "outputs": [
    {
     "name": "stdout",
     "output_type": "stream",
     "text": [
      "()\n",
      "\r\n"
     ]
    }
   ],
   "source": [
    "inl new_concurrent_stack forall t. () : concurrent_stack t =\n",
    "    $'System.Collections.Concurrent.ConcurrentStack<`t>' ()"
   ]
  },
  {
   "cell_type": "markdown",
   "metadata": {},
   "source": [
    "## token_register"
   ]
  },
  {
   "cell_type": "code",
   "execution_count": null,
   "metadata": {
    "dotnet_interactive": {
     "language": "spiral"
    },
    "polyglot_notebook": {
     "kernelName": "spiral"
    }
   },
   "outputs": [
    {
     "name": "stdout",
     "output_type": "stream",
     "text": [
      "()\n",
      "\r\n"
     ]
    }
   ],
   "source": [
    "inl token_register (fn : () -> ()) (ct : cancellation_token) : cancellation_token_registration =\n",
    "    fn |> $'!ct.Register'"
   ]
  },
  {
   "cell_type": "markdown",
   "metadata": {},
   "source": [
    "## new_cancellation_token_source"
   ]
  },
  {
   "cell_type": "code",
   "execution_count": null,
   "metadata": {
    "dotnet_interactive": {
     "language": "spiral"
    },
    "polyglot_notebook": {
     "kernelName": "spiral"
    }
   },
   "outputs": [
    {
     "name": "stdout",
     "output_type": "stream",
     "text": [
      "()\n",
      "\r\n"
     ]
    }
   ],
   "source": [
    "inl new_cancellation_token_source () : cancellation_token_source =\n",
    "    $'new `cancellation_token_source ()'"
   ]
  },
  {
   "cell_type": "code",
   "execution_count": null,
   "metadata": {
    "dotnet_interactive": {
     "language": "spiral"
    },
    "polyglot_notebook": {
     "kernelName": "spiral"
    }
   },
   "outputs": [
    {
     "name": "stdout",
     "output_type": "stream",
     "text": [
      "()\n",
      "\r\n"
     ]
    }
   ],
   "source": [
    "inl token_cancellation_requested (ct : cancellation_token) : bool =\n",
    "    $'!ct.IsCancellationRequested'"
   ]
  },
  {
   "cell_type": "markdown",
   "metadata": {},
   "source": [
    "## new_disposable_token"
   ]
  },
  {
   "cell_type": "code",
   "execution_count": null,
   "metadata": {
    "dotnet_interactive": {
     "language": "spiral"
    },
    "polyglot_notebook": {
     "kernelName": "spiral"
    }
   },
   "outputs": [
    {
     "name": "stdout",
     "output_type": "stream",
     "text": [
      "()\n",
      "\r\n"
     ]
    }
   ],
   "source": [
    "inl new_disposable_token (merge_token : optionm'.option' cancellation_token) =\n",
    "    run_target function\n",
    "        | Fsharp (Native) => fun () =>\n",
    "            inl cts = new_cancellation_token_source ()\n",
    "            inl cts =\n",
    "                match merge_token |> optionm'.unbox with\n",
    "                | None => cts\n",
    "                | Some merge_token =>\n",
    "                    create_linked_token_source ;[ cts |> cancellation_source_token; merge_token ]\n",
    "            inl disposable : _ () = new_disposable fun () =>\n",
    "                cts |> cancellation_source_cancel\n",
    "            cts |> cancellation_source_token, disposable\n",
    "        | _ => fun () => null ()"
   ]
  },
  {
   "cell_type": "code",
   "execution_count": null,
   "metadata": {
    "dotnet_interactive": {
     "language": "spiral"
    },
    "polyglot_notebook": {
     "kernelName": "spiral"
    }
   },
   "outputs": [
    {
     "name": "stdout",
     "output_type": "stream",
     "text": [
      "type Mut0 = {mutable l0 : int32}\n",
      "and [<Struct>] US0 =\n",
      "    | US0_0 of f0_0 : System.Threading.CancellationToken\n",
      "    | US0_1\n",
      "let rec closure0 () (v0 : System.Threading.CancellationToken) : US0 =\n",
      "    US0_0(v0)\n",
      "and method2 () : (System.Threading.CancellationToken -> US0) =\n",
      "    closure0()\n",
      "and closure1 (v0 : System.Threading.CancellationTokenSource) () : unit =\n",
      "    let v1 : unit option = None\n",
      "    let mutable _v1 = v1\n",
      "    #if FABLE_COMPILER_RUST && !WASM && !CONTRACT\n",
      "    null |> unbox<unit>\n",
      "    () \n",
      "    #endif\n",
      "    #if FABLE_COMPILER_RUST && WASM\n",
      "    null |> unbox<unit>\n",
      "    () \n",
      "    #endif\n",
      "    #if FABLE_COMPILER_RUST && CONTRACT\n",
      "    null |> unbox<unit>\n",
      "    () \n",
      "    #endif\n",
      "    #if !FABLE_COMPILER && !FABLE_COMPILER_RUST && !FABLE_COMPILER_TYPESCRIPT && !WASM && !CONTRACT\n",
      "    let v2 : (unit -> unit) = v0.Cancel\n",
      "    v2 ()\n",
      "    () \n",
      "    #endif\n",
      "    #if FABLE_COMPILER_TYPESCRIPT\n",
      "    null |> unbox<unit>\n",
      "    () \n",
      "    #endif\n",
      "    #if FABLE_COMPILER_PYTHON || FABLE_COMPILER_PHP || FABLE_COMPILER_DART\n",
      "    Unchecked.defaultof<unit>\n",
      "    () \n",
      "    #endif\n",
      "    |> fun x -> _v1 <- Some x\n",
      "    _v1.Value\n",
      "    ()\n",
      "and method1 (v0 : Mut0) : unit =\n",
      "    let v1 : System.Threading.CancellationToken option = None\n",
      "    let v2 : struct (System.Threading.CancellationToken * System.IDisposable) option = None\n",
      "    let mutable _v2 = v2\n",
      "    #if FABLE_COMPILER_RUST && !WASM && !CONTRACT\n",
      "    let struct (v3 : System.Threading.CancellationToken, v4 : System.IDisposable) = null |> unbox<struct (System.Threading.CancellationToken * System.IDisposable)>\n",
      "    struct (v3, v4) \n",
      "    #endif\n",
      "    #if FABLE_COMPILER_RUST && WASM\n",
      "    let struct (v5 : System.Threading.CancellationToken, v6 : System.IDisposable) = null |> unbox<struct (System.Threading.CancellationToken * System.IDisposable)>\n",
      "    struct (v5, v6) \n",
      "    #endif\n",
      "    #if FABLE_COMPILER_RUST && CONTRACT\n",
      "    let struct (v7 : System.Threading.CancellationToken, v8 : System.IDisposable) = null |> unbox<struct (System.Threading.CancellationToken * System.IDisposable)>\n",
      "    struct (v7, v8) \n",
      "    #endif\n",
      "    #if !FABLE_COMPILER && !FABLE_COMPILER_RUST && !FABLE_COMPILER_TYPESCRIPT && !WASM && !CONTRACT\n",
      "    let v9 : System.Threading.CancellationTokenSource = new System.Threading.CancellationTokenSource ()\n",
      "    let v10 : (System.Threading.CancellationToken -> US0) = method2()\n",
      "    let v11 : US0 = US0_1\n",
      "    let v12 : US0 = v1 |> Option.map v10 |> Option.defaultValue v11 \n",
      "    let v19 : System.Threading.CancellationTokenSource =\n",
      "        match v12 with\n",
      "        | US0_1 -> (* None *)\n",
      "            v9\n",
      "        | US0_0(v13) -> (* Some *)\n",
      "            let v14 : System.Threading.CancellationToken = v9.Token\n",
      "            let v15 : (System.Threading.CancellationToken []) = [|v14; v13|]\n",
      "            let v16 : ((System.Threading.CancellationToken []) -> System.Threading.CancellationTokenSource) = System.Threading.CancellationTokenSource.CreateLinkedTokenSource\n",
      "            v16 v15\n",
      "    let v20 : System.IDisposable option = None\n",
      "    let mutable _v20 = v20\n",
      "    #if FABLE_COMPILER_RUST && !WASM && !CONTRACT\n",
      "    let v21 : System.IDisposable = null |> unbox<System.IDisposable>\n",
      "    v21 \n",
      "    #endif\n",
      "    #if FABLE_COMPILER_RUST && WASM\n",
      "    let v22 : System.IDisposable = null |> unbox<System.IDisposable>\n",
      "    v22 \n",
      "    #endif\n",
      "    #if FABLE_COMPILER_RUST && CONTRACT\n",
      "    let v23 : System.IDisposable = null |> unbox<System.IDisposable>\n",
      "    v23 \n",
      "    #endif\n",
      "    #if !FABLE_COMPILER && !FABLE_COMPILER_RUST && !FABLE_COMPILER_TYPESCRIPT && !WASM && !CONTRACT\n",
      "    let v24 : (unit -> unit) = closure1(v19)\n",
      "    let v25 : System.IDisposable = { new System.IDisposable with member _.Dispose () = v24 () }\n",
      "    v25 \n",
      "    #endif\n",
      "    #if FABLE_COMPILER_TYPESCRIPT\n",
      "    let v26 : System.IDisposable = null |> unbox<System.IDisposable>\n",
      "    v26 \n",
      "    #endif\n",
      "    #if FABLE_COMPILER_PYTHON || FABLE_COMPILER_PHP || FABLE_COMPILER_DART\n",
      "    let v27 : System.IDisposable = Unchecked.defaultof<System.IDisposable>\n",
      "    v27 \n",
      "    #endif\n",
      "    |> fun x -> _v20 <- Some x\n",
      "    let v28 : System.IDisposable = _v20.Value\n",
      "    let v29 : System.Threading.CancellationToken = v19.Token\n",
      "    struct (v29, v28) \n",
      "    #endif\n",
      "    #if FABLE_COMPILER_TYPESCRIPT\n",
      "    let struct (v30 : System.Threading.CancellationToken, v31 : System.IDisposable) = null |> unbox<struct (System.Threading.CancellationToken * System.IDisposable)>\n",
      "    struct (v30, v31) \n",
      "    #endif\n",
      "    #if FABLE_COMPILER_PYTHON || FABLE_COMPILER_PHP || FABLE_COMPILER_DART\n",
      "    let struct (v32 : System.Threading.CancellationToken, v33 : System.IDisposable) = Unchecked.defaultof<struct (System.Threading.CancellationToken * System.IDisposable)>\n",
      "    struct (v32, v33) \n",
      "    #endif\n",
      "    |> fun x -> _v2 <- Some x\n",
      "    let struct (v34 : System.Threading.CancellationToken, v35 : System.IDisposable) = _v2.Value\n",
      "    use v35 = v35 \n",
      "    let v36 : System.IDisposable = v35 \n",
      "    let v37 : int32 = v0.l0\n",
      "    let v38 : bool = v34.IsCancellationRequested\n",
      "    let v39 : int32 =\n",
      "        if v38 then\n",
      "            10\n",
      "        else\n",
      "            1\n",
      "    let v40 : int32 = v37 + v39\n",
      "    v0.l0 <- v40\n",
      "    let v41 : Async<unit> option = None\n",
      "    let mutable _v41 = v41\n",
      "    #if FABLE_COMPILER_RUST && !WASM && !CONTRACT\n",
      "    let v42 : Async<unit> = null |> unbox<Async<unit>>\n",
      "    v42 \n",
      "    #endif\n",
      "    #if FABLE_COMPILER_RUST && WASM\n",
      "    let v43 : Async<unit> = null |> unbox<Async<unit>>\n",
      "    v43 \n",
      "    #endif\n",
      "    #if FABLE_COMPILER_RUST && CONTRACT\n",
      "    let v44 : Async<unit> = null |> unbox<Async<unit>>\n",
      "    v44 \n",
      "    #endif\n",
      "    #if !FABLE_COMPILER && !FABLE_COMPILER_RUST && !FABLE_COMPILER_TYPESCRIPT && !WASM && !CONTRACT\n",
      "    let v45 : Async<unit> option = None\n",
      "    let mutable _v45 = v45\n",
      "    async {\n",
      "    let v46 : int32 = v0.l0\n",
      "    let v47 : bool = v34.IsCancellationRequested\n",
      "    let v48 : int32 =\n",
      "        if v47 then\n",
      "            10\n",
      "        else\n",
      "            1\n",
      "    let v49 : int32 = v46 + v48\n",
      "    v0.l0 <- v49\n",
      "    }\n",
      "    |> fun x -> _v45 <- Some x\n",
      "    let v50 : Async<unit> = _v45 |> Option.get\n",
      "    v50 \n",
      "    #endif\n",
      "    #if FABLE_COMPILER_TYPESCRIPT\n",
      "    let v51 : Async<unit> = null |> unbox<Async<unit>>\n",
      "    v51 \n",
      "    #endif\n",
      "    #if FABLE_COMPILER_PYTHON || FABLE_COMPILER_PHP || FABLE_COMPILER_DART\n",
      "    let v52 : Async<unit> = Unchecked.defaultof<Async<unit>>\n",
      "    v52 \n",
      "    #endif\n",
      "    |> fun x -> _v41 <- Some x\n",
      "    let v53 : Async<unit> = _v41.Value\n",
      "    let v54 : unit option = None\n",
      "    let mutable _v54 = v54\n",
      "    #if FABLE_COMPILER_RUST && !WASM && !CONTRACT\n",
      "    null |> unbox<unit>\n",
      "    () \n",
      "    #endif\n",
      "    #if FABLE_COMPILER_RUST && WASM\n",
      "    null |> unbox<unit>\n",
      "    () \n",
      "    #endif\n",
      "    #if FABLE_COMPILER_RUST && CONTRACT\n",
      "    null |> unbox<unit>\n",
      "    () \n",
      "    #endif\n",
      "    #if !FABLE_COMPILER && !FABLE_COMPILER_RUST && !FABLE_COMPILER_TYPESCRIPT && !WASM && !CONTRACT\n",
      "    let v55 : (Async<unit> -> unit) = Async.Start\n",
      "    v55 v53\n",
      "    () \n",
      "    #endif\n",
      "    #if FABLE_COMPILER_TYPESCRIPT\n",
      "    null |> unbox<unit>\n",
      "    () \n",
      "    #endif\n",
      "    #if FABLE_COMPILER_PYTHON || FABLE_COMPILER_PHP || FABLE_COMPILER_DART\n",
      "    Unchecked.defaultof<unit>\n",
      "    () \n",
      "    #endif\n",
      "    |> fun x -> _v54 <- Some x\n",
      "    _v54.Value\n",
      "    ()\n",
      "and method3 (v0 : bool) : bool =\n",
      "    v0\n",
      "and method0 () : unit =\n",
      "    let v0 : Async<int32> option = None\n",
      "    let mutable _v0 = v0\n",
      "    #if FABLE_COMPILER_RUST && !WASM && !CONTRACT\n",
      "    let v1 : Async<int32> = null |> unbox<Async<int32>>\n",
      "    v1 \n",
      "    #endif\n",
      "    #if FABLE_COMPILER_RUST && WASM\n",
      "    let v2 : Async<int32> = null |> unbox<Async<int32>>\n",
      "    v2 \n",
      "    #endif\n",
      "    #if FABLE_COMPILER_RUST && CONTRACT\n",
      "    let v3 : Async<int32> = null |> unbox<Async<int32>>\n",
      "    v3 \n",
      "    #endif\n",
      "    #if !FABLE_COMPILER && !FABLE_COMPILER_RUST && !FABLE_COMPILER_TYPESCRIPT && !WASM && !CONTRACT\n",
      "    let v4 : Async<int32> option = None\n",
      "    let mutable _v4 = v4\n",
      "    async {\n",
      "    let v5 : Mut0 = {l0 = 0} : Mut0\n",
      "    method1(v5)\n",
      "    let v6 : Async<unit> option = None\n",
      "    let mutable _v6 = v6\n",
      "    #if FABLE_COMPILER_RUST && !WASM && !CONTRACT\n",
      "    let v7 : Async<unit> = null |> unbox<Async<unit>>\n",
      "    v7 \n",
      "    #endif\n",
      "    #if FABLE_COMPILER_RUST && WASM\n",
      "    let v8 : Async<unit> = null |> unbox<Async<unit>>\n",
      "    v8 \n",
      "    #endif\n",
      "    #if FABLE_COMPILER_RUST && CONTRACT\n",
      "    let v9 : Async<unit> = null |> unbox<Async<unit>>\n",
      "    v9 \n",
      "    #endif\n",
      "    #if !FABLE_COMPILER && !FABLE_COMPILER_RUST && !FABLE_COMPILER_TYPESCRIPT && !WASM && !CONTRACT\n",
      "    let v10 : (int32 -> Async<unit>) = Async.Sleep\n",
      "    let v11 : Async<unit> = v10 10\n",
      "    v11 \n",
      "    #endif\n",
      "    #if FABLE_COMPILER_TYPESCRIPT\n",
      "    let v12 : Async<unit> = null |> unbox<Async<unit>>\n",
      "    v12 \n",
      "    #endif\n",
      "    #if FABLE_COMPILER_PYTHON || FABLE_COMPILER_PHP || FABLE_COMPILER_DART\n",
      "    let v13 : Async<unit> = Unchecked.defaultof<Async<unit>>\n",
      "    v13 \n",
      "    #endif\n",
      "    |> fun x -> _v6 <- Some x\n",
      "    let v14 : Async<unit> = _v6.Value\n",
      "    do! v14 \n",
      "    let v15 : int32 = v5.l0\n",
      "    return v15 \n",
      "    }\n",
      "    |> fun x -> _v4 <- Some x\n",
      "    let v16 : Async<int32> = _v4 |> Option.get\n",
      "    v16 \n",
      "    #endif\n",
      "    #if FABLE_COMPILER_TYPESCRIPT\n",
      "    let v17 : Async<int32> = null |> unbox<Async<int32>>\n",
      "    v17 \n",
      "    #endif\n",
      "    #if FABLE_COMPILER_PYTHON || FABLE_COMPILER_PHP || FABLE_COMPILER_DART\n",
      "    let v18 : Async<int32> = Unchecked.defaultof<Async<int32>>\n",
      "    v18 \n",
      "    #endif\n",
      "    |> fun x -> _v0 <- Some x\n",
      "    let v19 : Async<int32> = _v0.Value\n",
      "    let v20 : int32 option = None\n",
      "    let mutable _v20 = v20\n",
      "    #if FABLE_COMPILER_RUST && !WASM && !CONTRACT\n",
      "    let v21 : int32 = null |> unbox<int32>\n",
      "    v21 \n",
      "    #endif\n",
      "    #if FABLE_COMPILER_RUST && WASM\n",
      "    let v22 : int32 = null |> unbox<int32>\n",
      "    v22 \n",
      "    #endif\n",
      "    #if FABLE_COMPILER_RUST && CONTRACT\n",
      "    let v23 : int32 = null |> unbox<int32>\n",
      "    v23 \n",
      "    #endif\n",
      "    #if !FABLE_COMPILER && !FABLE_COMPILER_RUST && !FABLE_COMPILER_TYPESCRIPT && !WASM && !CONTRACT\n",
      "    let v24 : (Async<int32> -> int32) = Async.RunSynchronously\n",
      "    let v25 : int32 = v24 v19\n",
      "    v25 \n",
      "    #endif\n",
      "    #if FABLE_COMPILER_TYPESCRIPT\n",
      "    let v26 : int32 = null |> unbox<int32>\n",
      "    v26 \n",
      "    #endif\n",
      "    #if FABLE_COMPILER_PYTHON || FABLE_COMPILER_PHP || FABLE_COMPILER_DART\n",
      "    let v27 : int32 = Unchecked.defaultof<int32>\n",
      "    v27 \n",
      "    #endif\n",
      "    |> fun x -> _v20 <- Some x\n",
      "    let v28 : int32 = _v20.Value\n",
      "    let v29 : string = $\"%A{v28}\"\n",
      "    System.Console.WriteLine v29\n",
      "    let v30 : bool = v28 = 11\n",
      "    let v32 : bool =\n",
      "        if v30 then\n",
      "            true\n",
      "        else\n",
      "            method3(v30)\n",
      "    let v33 : string = $\"__expect / actual: %A{v28} / expected: %A{11}\"\n",
      "    let v34 : bool = v32 = false\n",
      "    if v34 then\n",
      "        failwith<unit> v33\n",
      "method0()\n",
      "\r\n",
      "11\r\n"
     ]
    }
   ],
   "source": [
    "// // test\n",
    "\n",
    "inl run fn =\n",
    "    inl token, disposable = new_disposable_token (None |> optionm'.box)\n",
    "    disposable |> use |> ignore\n",
    "    fn token\n",
    "    fun () =>\n",
    "        fn token\n",
    "    |> async.new_async\n",
    "    |> async.start\n",
    "\n",
    "fun () =>\n",
    "    inl counter = mut 0i32\n",
    "\n",
    "    inl fn (token : cancellation_token) =\n",
    "        counter <- *counter + (if token |> token_cancellation_requested then 10 else 1)\n",
    "\n",
    "    join run fn\n",
    "    async.sleep 10 |> async.do\n",
    "    return *counter\n",
    "|> async.new_async_unit\n",
    "|> async.run_synchronously\n",
    "|> _assert_eq 11i32"
   ]
  },
  {
   "cell_type": "markdown",
   "metadata": {},
   "source": [
    "## main"
   ]
  },
  {
   "cell_type": "code",
   "execution_count": null,
   "metadata": {
    "dotnet_interactive": {
     "language": "spiral"
    },
    "polyglot_notebook": {
     "kernelName": "spiral"
    }
   },
   "outputs": [
    {
     "name": "stdout",
     "output_type": "stream",
     "text": [
      "type [<Struct>] US0 =\n",
      "    | US0_0 of f0_0 : System.Threading.CancellationToken\n",
      "    | US0_1\n",
      "let rec closure1 () (v0 : System.Threading.CancellationToken) : US0 =\n",
      "    US0_0(v0)\n",
      "and method0 () : (System.Threading.CancellationToken -> US0) =\n",
      "    closure1()\n",
      "and closure2 (v0 : System.Threading.CancellationTokenSource) () : unit =\n",
      "    let v1 : unit option = None\n",
      "    let mutable _v1 = v1\n",
      "    #if FABLE_COMPILER_RUST && !WASM && !CONTRACT\n",
      "    null |> unbox<unit>\n",
      "    () \n",
      "    #endif\n",
      "    #if FABLE_COMPILER_RUST && WASM\n",
      "    null |> unbox<unit>\n",
      "    () \n",
      "    #endif\n",
      "    #if FABLE_COMPILER_RUST && CONTRACT\n",
      "    null |> unbox<unit>\n",
      "    () \n",
      "    #endif\n",
      "    #if !FABLE_COMPILER && !FABLE_COMPILER_RUST && !FABLE_COMPILER_TYPESCRIPT && !WASM && !CONTRACT\n",
      "    let v2 : (unit -> unit) = v0.Cancel\n",
      "    v2 ()\n",
      "    () \n",
      "    #endif\n",
      "    #if FABLE_COMPILER_TYPESCRIPT\n",
      "    null |> unbox<unit>\n",
      "    () \n",
      "    #endif\n",
      "    #if FABLE_COMPILER_PYTHON || FABLE_COMPILER_PHP || FABLE_COMPILER_DART\n",
      "    Unchecked.defaultof<unit>\n",
      "    () \n",
      "    #endif\n",
      "    |> fun x -> _v1 <- Some x\n",
      "    _v1.Value\n",
      "    ()\n",
      "and closure0 () (v0 : System.Threading.CancellationToken option) : struct (System.Threading.CancellationToken * System.IDisposable) =\n",
      "    let v1 : struct (System.Threading.CancellationToken * System.IDisposable) option = None\n",
      "    let mutable _v1 = v1\n",
      "    #if FABLE_COMPILER_RUST && !WASM && !CONTRACT\n",
      "    let struct (v2 : System.Threading.CancellationToken, v3 : System.IDisposable) = null |> unbox<struct (System.Threading.CancellationToken * System.IDisposable)>\n",
      "    struct (v2, v3) \n",
      "    #endif\n",
      "    #if FABLE_COMPILER_RUST && WASM\n",
      "    let struct (v4 : System.Threading.CancellationToken, v5 : System.IDisposable) = null |> unbox<struct (System.Threading.CancellationToken * System.IDisposable)>\n",
      "    struct (v4, v5) \n",
      "    #endif\n",
      "    #if FABLE_COMPILER_RUST && CONTRACT\n",
      "    let struct (v6 : System.Threading.CancellationToken, v7 : System.IDisposable) = null |> unbox<struct (System.Threading.CancellationToken * System.IDisposable)>\n",
      "    struct (v6, v7) \n",
      "    #endif\n",
      "    #if !FABLE_COMPILER && !FABLE_COMPILER_RUST && !FABLE_COMPILER_TYPESCRIPT && !WASM && !CONTRACT\n",
      "    let v8 : System.Threading.CancellationTokenSource = new System.Threading.CancellationTokenSource ()\n",
      "    let v9 : (System.Threading.CancellationToken -> US0) = method0()\n",
      "    let v10 : US0 = US0_1\n",
      "    let v11 : US0 = v0 |> Option.map v9 |> Option.defaultValue v10 \n",
      "    let v18 : System.Threading.CancellationTokenSource =\n",
      "        match v11 with\n",
      "        | US0_1 -> (* None *)\n",
      "            v8\n",
      "        | US0_0(v12) -> (* Some *)\n",
      "            let v13 : System.Threading.CancellationToken = v8.Token\n",
      "            let v14 : (System.Threading.CancellationToken []) = [|v13; v12|]\n",
      "            let v15 : ((System.Threading.CancellationToken []) -> System.Threading.CancellationTokenSource) = System.Threading.CancellationTokenSource.CreateLinkedTokenSource\n",
      "            v15 v14\n",
      "    let v19 : System.IDisposable option = None\n",
      "    let mutable _v19 = v19\n",
      "    #if FABLE_COMPILER_RUST && !WASM && !CONTRACT\n",
      "    let v20 : System.IDisposable = null |> unbox<System.IDisposable>\n",
      "    v20 \n",
      "    #endif\n",
      "    #if FABLE_COMPILER_RUST && WASM\n",
      "    let v21 : System.IDisposable = null |> unbox<System.IDisposable>\n",
      "    v21 \n",
      "    #endif\n",
      "    #if FABLE_COMPILER_RUST && CONTRACT\n",
      "    let v22 : System.IDisposable = null |> unbox<System.IDisposable>\n",
      "    v22 \n",
      "    #endif\n",
      "    #if !FABLE_COMPILER && !FABLE_COMPILER_RUST && !FABLE_COMPILER_TYPESCRIPT && !WASM && !CONTRACT\n",
      "    let v23 : (unit -> unit) = closure2(v18)\n",
      "    let v24 : System.IDisposable = { new System.IDisposable with member _.Dispose () = v23 () }\n",
      "    v24 \n",
      "    #endif\n",
      "    #if FABLE_COMPILER_TYPESCRIPT\n",
      "    let v25 : System.IDisposable = null |> unbox<System.IDisposable>\n",
      "    v25 \n",
      "    #endif\n",
      "    #if FABLE_COMPILER_PYTHON || FABLE_COMPILER_PHP || FABLE_COMPILER_DART\n",
      "    let v26 : System.IDisposable = Unchecked.defaultof<System.IDisposable>\n",
      "    v26 \n",
      "    #endif\n",
      "    |> fun x -> _v19 <- Some x\n",
      "    let v27 : System.IDisposable = _v19.Value\n",
      "    let v28 : System.Threading.CancellationToken = v18.Token\n",
      "    struct (v28, v27) \n",
      "    #endif\n",
      "    #if FABLE_COMPILER_TYPESCRIPT\n",
      "    let struct (v29 : System.Threading.CancellationToken, v30 : System.IDisposable) = null |> unbox<struct (System.Threading.CancellationToken * System.IDisposable)>\n",
      "    struct (v29, v30) \n",
      "    #endif\n",
      "    #if FABLE_COMPILER_PYTHON || FABLE_COMPILER_PHP || FABLE_COMPILER_DART\n",
      "    let struct (v31 : System.Threading.CancellationToken, v32 : System.IDisposable) = Unchecked.defaultof<struct (System.Threading.CancellationToken * System.IDisposable)>\n",
      "    struct (v31, v32) \n",
      "    #endif\n",
      "    |> fun x -> _v1 <- Some x\n",
      "    let struct (v33 : System.Threading.CancellationToken, v34 : System.IDisposable) = _v1.Value\n",
      "    struct (v33, v34)\n",
      "let v0 : (System.Threading.CancellationToken option -> struct (System.Threading.CancellationToken * System.IDisposable)) = closure0()\n",
      "let new_disposable_token x = v0 x\n",
      "()\n",
      "\r\n"
     ]
    }
   ],
   "source": [
    "inl main () =\n",
    "    $\"let new_disposable_token x = !new_disposable_token x\" : ()"
   ]
  }
 ],
 "metadata": {},
 "nbformat": 4,
 "nbformat_minor": 5
}