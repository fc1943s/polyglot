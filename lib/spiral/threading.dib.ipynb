{
 "cells": [
  {
   "cell_type": "markdown",
   "metadata": {},
   "source": [
    "# threading"
   ]
  },
  {
   "cell_type": "code",
   "execution_count": null,
   "metadata": {
    "dotnet_interactive": {
     "language": "spiral"
    },
    "polyglot_notebook": {
     "kernelName": "spiral"
    }
   },
   "outputs": [
    {
     "name": "stdout",
     "output_type": "stream",
     "text": [
      "()\n",
      "\r\n"
     ]
    }
   ],
   "source": [
    "open rust_operators"
   ]
  },
  {
   "cell_type": "code",
   "execution_count": null,
   "metadata": {
    "dotnet_interactive": {
     "language": "spiral"
    },
    "polyglot_notebook": {
     "kernelName": "spiral"
    }
   },
   "outputs": [
    {
     "name": "stdout",
     "output_type": "stream",
     "text": [
      "()\n",
      "\r\n"
     ]
    }
   ],
   "source": [
    "// // test\n",
    "\n",
    "open testing"
   ]
  },
  {
   "cell_type": "markdown",
   "metadata": {},
   "source": [
    "## types"
   ]
  },
  {
   "cell_type": "code",
   "execution_count": null,
   "metadata": {
    "dotnet_interactive": {
     "language": "spiral"
    },
    "polyglot_notebook": {
     "kernelName": "spiral"
    }
   },
   "outputs": [
    {
     "name": "stdout",
     "output_type": "stream",
     "text": [
      "()\n",
      "\r\n"
     ]
    }
   ],
   "source": [
    "inl types () =\n",
    "    global \"#if FABLE_COMPILER\\n[<Fable.Core.Erase; Fable.Core.Emit(\\\"std::thread::JoinHandle<$0>\\\")>]\\n#endif\\ntype std_thread_JoinHandle<'T> = class end\"\n",
    "    global \"#if FABLE_COMPILER\\n[<Fable.Core.Erase; Fable.Core.Emit(\\\"std::sync::Arc<$0>\\\")>]\\n#endif\\ntype std_sync_Arc<'T> = class end\"\n",
    "    global \"#if FABLE_COMPILER\\n[<Fable.Core.Erase; Fable.Core.Emit(\\\"std::sync::Mutex<$0>\\\")>]\\n#endif\\ntype std_sync_Mutex<'T> = class end\"\n",
    "    global \"#if FABLE_COMPILER\\n[<Fable.Core.Erase; Fable.Core.Emit(\\\"std::sync::MutexGuard<$0>\\\")>]\\n#endif\\ntype std_sync_MutexGuard<'T> = class end\"\n",
    "    global \"#if FABLE_COMPILER\\n[<Fable.Core.Erase; Fable.Core.Emit(\\\"std::sync::PoisonError<$0>\\\")>]\\n#endif\\ntype std_sync_PoisonError<'T> = class end\""
   ]
  },
  {
   "cell_type": "markdown",
   "metadata": {},
   "source": [
    "## join_handle"
   ]
  },
  {
   "cell_type": "code",
   "execution_count": null,
   "metadata": {
    "dotnet_interactive": {
     "language": "spiral"
    },
    "polyglot_notebook": {
     "kernelName": "spiral"
    }
   },
   "outputs": [
    {
     "name": "stdout",
     "output_type": "stream",
     "text": [
      "()\n",
      "\r\n"
     ]
    }
   ],
   "source": [
    "nominal join_handle t = $'std_thread_JoinHandle<`t>'"
   ]
  },
  {
   "cell_type": "markdown",
   "metadata": {},
   "source": [
    "## cancellation_token"
   ]
  },
  {
   "cell_type": "code",
   "execution_count": null,
   "metadata": {
    "dotnet_interactive": {
     "language": "spiral"
    },
    "polyglot_notebook": {
     "kernelName": "spiral"
    }
   },
   "outputs": [
    {
     "name": "stdout",
     "output_type": "stream",
     "text": [
      "()\n",
      "\r\n"
     ]
    }
   ],
   "source": [
    "nominal cancellation_token = $'System.Threading.CancellationToken'"
   ]
  },
  {
   "cell_type": "markdown",
   "metadata": {},
   "source": [
    "## cancellation_token_source"
   ]
  },
  {
   "cell_type": "code",
   "execution_count": null,
   "metadata": {
    "dotnet_interactive": {
     "language": "spiral"
    },
    "polyglot_notebook": {
     "kernelName": "spiral"
    }
   },
   "outputs": [
    {
     "name": "stdout",
     "output_type": "stream",
     "text": [
      "()\n",
      "\r\n"
     ]
    }
   ],
   "source": [
    "nominal cancellation_token_source = $'System.Threading.CancellationTokenSource'"
   ]
  },
  {
   "cell_type": "markdown",
   "metadata": {},
   "source": [
    "## cancellation_token_registration"
   ]
  },
  {
   "cell_type": "code",
   "execution_count": null,
   "metadata": {
    "dotnet_interactive": {
     "language": "spiral"
    },
    "polyglot_notebook": {
     "kernelName": "spiral"
    }
   },
   "outputs": [
    {
     "name": "stdout",
     "output_type": "stream",
     "text": [
      "()\n",
      "\r\n"
     ]
    }
   ],
   "source": [
    "nominal cancellation_token_registration = $'System.Threading.CancellationTokenRegistration'"
   ]
  },
  {
   "cell_type": "markdown",
   "metadata": {},
   "source": [
    "## cancellation_source_token"
   ]
  },
  {
   "cell_type": "code",
   "execution_count": null,
   "metadata": {
    "dotnet_interactive": {
     "language": "spiral"
    },
    "polyglot_notebook": {
     "kernelName": "spiral"
    }
   },
   "outputs": [
    {
     "name": "stdout",
     "output_type": "stream",
     "text": [
      "()\n",
      "\r\n"
     ]
    }
   ],
   "source": [
    "inl cancellation_source_token (x : cancellation_token_source) : cancellation_token =\n",
    "    $'!x.Token'"
   ]
  },
  {
   "cell_type": "markdown",
   "metadata": {},
   "source": [
    "## cancellation_source_cancel"
   ]
  },
  {
   "cell_type": "code",
   "execution_count": null,
   "metadata": {
    "dotnet_interactive": {
     "language": "spiral"
    },
    "polyglot_notebook": {
     "kernelName": "spiral"
    }
   },
   "outputs": [
    {
     "name": "stdout",
     "output_type": "stream",
     "text": [
      "()\n",
      "\r\n"
     ]
    }
   ],
   "source": [
    "inl cancellation_source_cancel (x : cancellation_token_source) : () =\n",
    "    run_target function\n",
    "        | Fsharp (Native) => fun () =>\n",
    "            $'!x.Cancel' ()\n",
    "        | _ => fun () => null ()"
   ]
  },
  {
   "cell_type": "markdown",
   "metadata": {},
   "source": [
    "## create_linked_token_source"
   ]
  },
  {
   "cell_type": "code",
   "execution_count": null,
   "metadata": {
    "dotnet_interactive": {
     "language": "spiral"
    },
    "polyglot_notebook": {
     "kernelName": "spiral"
    }
   },
   "outputs": [
    {
     "name": "stdout",
     "output_type": "stream",
     "text": [
      "()\n",
      "\r\n"
     ]
    }
   ],
   "source": [
    "inl create_linked_token_source (x : array_base cancellation_token) : cancellation_token_source =\n",
    "    x |> $'System.Threading.CancellationTokenSource.CreateLinkedTokenSource'"
   ]
  },
  {
   "cell_type": "markdown",
   "metadata": {},
   "source": [
    "## sleep"
   ]
  },
  {
   "cell_type": "code",
   "execution_count": null,
   "metadata": {
    "dotnet_interactive": {
     "language": "spiral"
    },
    "polyglot_notebook": {
     "kernelName": "spiral"
    }
   },
   "outputs": [
    {
     "name": "stdout",
     "output_type": "stream",
     "text": [
      "()\n",
      "\r\n"
     ]
    }
   ],
   "source": [
    "inl sleep (duration : date_time.duration) : () =\n",
    "    inl duration = join duration\n",
    "    !\\($'\"std::thread::sleep(!duration)\"')"
   ]
  },
  {
   "cell_type": "markdown",
   "metadata": {},
   "source": [
    "## concurrent_stack"
   ]
  },
  {
   "cell_type": "code",
   "execution_count": null,
   "metadata": {
    "dotnet_interactive": {
     "language": "spiral"
    },
    "polyglot_notebook": {
     "kernelName": "spiral"
    }
   },
   "outputs": [
    {
     "name": "stdout",
     "output_type": "stream",
     "text": [
      "()\n",
      "\r\n"
     ]
    }
   ],
   "source": [
    "nominal concurrent_stack t = $'System.Collections.Concurrent.ConcurrentStack<`t>'"
   ]
  },
  {
   "cell_type": "markdown",
   "metadata": {},
   "source": [
    "## concurrent_stack_push"
   ]
  },
  {
   "cell_type": "code",
   "execution_count": null,
   "metadata": {
    "dotnet_interactive": {
     "language": "spiral"
    },
    "polyglot_notebook": {
     "kernelName": "spiral"
    }
   },
   "outputs": [
    {
     "name": "stdout",
     "output_type": "stream",
     "text": [
      "()\n",
      "\r\n"
     ]
    }
   ],
   "source": [
    "inl concurrent_stack_push forall t. (item : t) (stack : concurrent_stack t) : () =\n",
    "    $'!stack.Push' item"
   ]
  },
  {
   "cell_type": "markdown",
   "metadata": {},
   "source": [
    "## token_none"
   ]
  },
  {
   "cell_type": "code",
   "execution_count": null,
   "metadata": {
    "dotnet_interactive": {
     "language": "spiral"
    },
    "polyglot_notebook": {
     "kernelName": "spiral"
    }
   },
   "outputs": [
    {
     "name": "stdout",
     "output_type": "stream",
     "text": [
      "()\n",
      "\r\n"
     ]
    }
   ],
   "source": [
    "inl token_none () : cancellation_token =\n",
    "    $'`cancellation_token.None'"
   ]
  },
  {
   "cell_type": "markdown",
   "metadata": {},
   "source": [
    "## new_concurrent_stack"
   ]
  },
  {
   "cell_type": "code",
   "execution_count": null,
   "metadata": {
    "dotnet_interactive": {
     "language": "spiral"
    },
    "polyglot_notebook": {
     "kernelName": "spiral"
    }
   },
   "outputs": [
    {
     "name": "stdout",
     "output_type": "stream",
     "text": [
      "()\n",
      "\r\n"
     ]
    }
   ],
   "source": [
    "inl new_concurrent_stack forall t. () : concurrent_stack t =\n",
    "    $'System.Collections.Concurrent.ConcurrentStack<`t>' ()"
   ]
  },
  {
   "cell_type": "markdown",
   "metadata": {},
   "source": [
    "## token_register"
   ]
  },
  {
   "cell_type": "code",
   "execution_count": null,
   "metadata": {
    "dotnet_interactive": {
     "language": "spiral"
    },
    "polyglot_notebook": {
     "kernelName": "spiral"
    }
   },
   "outputs": [
    {
     "name": "stdout",
     "output_type": "stream",
     "text": [
      "()\n",
      "\r\n"
     ]
    }
   ],
   "source": [
    "inl token_register (fn : () -> ()) (ct : cancellation_token) : cancellation_token_registration =\n",
    "    fn |> $'!ct.Register'"
   ]
  },
  {
   "cell_type": "markdown",
   "metadata": {},
   "source": [
    "## new_cancellation_token_source"
   ]
  },
  {
   "cell_type": "code",
   "execution_count": null,
   "metadata": {
    "dotnet_interactive": {
     "language": "spiral"
    },
    "polyglot_notebook": {
     "kernelName": "spiral"
    }
   },
   "outputs": [
    {
     "name": "stdout",
     "output_type": "stream",
     "text": [
      "()\n",
      "\r\n"
     ]
    }
   ],
   "source": [
    "inl new_cancellation_token_source () : cancellation_token_source =\n",
    "    $'new `cancellation_token_source ()'"
   ]
  },
  {
   "cell_type": "code",
   "execution_count": null,
   "metadata": {
    "dotnet_interactive": {
     "language": "spiral"
    },
    "polyglot_notebook": {
     "kernelName": "spiral"
    }
   },
   "outputs": [
    {
     "name": "stdout",
     "output_type": "stream",
     "text": [
      "()\n",
      "\r\n"
     ]
    }
   ],
   "source": [
    "inl token_cancellation_requested (ct : cancellation_token) : bool =\n",
    "    $'!ct.IsCancellationRequested'"
   ]
  },
  {
   "cell_type": "markdown",
   "metadata": {},
   "source": [
    "## new_disposable_token"
   ]
  },
  {
   "cell_type": "code",
   "execution_count": null,
   "metadata": {
    "dotnet_interactive": {
     "language": "spiral"
    },
    "polyglot_notebook": {
     "kernelName": "spiral"
    }
   },
   "outputs": [
    {
     "name": "stdout",
     "output_type": "stream",
     "text": [
      "()\n",
      "\r\n"
     ]
    }
   ],
   "source": [
    "inl new_disposable_token (merge_token : optionm'.option' cancellation_token) =\n",
    "    run_target function\n",
    "        | Fsharp (Native) => fun () =>\n",
    "            inl cts = new_cancellation_token_source ()\n",
    "            inl cts =\n",
    "                match merge_token |> optionm'.unbox with\n",
    "                | None => cts\n",
    "                | Some merge_token =>\n",
    "                    create_linked_token_source ;[ cts |> cancellation_source_token; merge_token ]\n",
    "            inl disposable : _ () = new_disposable fun () =>\n",
    "                cts |> cancellation_source_cancel\n",
    "            cts |> cancellation_source_token, disposable\n",
    "        | _ => fun () => null ()"
   ]
  },
  {
   "cell_type": "code",
   "execution_count": null,
   "metadata": {
    "dotnet_interactive": {
     "language": "spiral"
    },
    "polyglot_notebook": {
     "kernelName": "spiral"
    }
   },
   "outputs": [
    {
     "name": "stdout",
     "output_type": "stream",
     "text": [
      "type Disposable (f : unit -> unit) = interface System.IDisposable with member _.Dispose () = f ()\n",
      "type Mut0 = {mutable l0 : int32}\n",
      "and [<Struct>] US0 =\n",
      "    | US0_0 of f0_0 : System.Threading.CancellationToken\n",
      "    | US0_1\n",
      "let rec closure0 () (v0 : System.Threading.CancellationToken) : US0 =\n",
      "    US0_0(v0)\n",
      "and method2 () : (System.Threading.CancellationToken -> US0) =\n",
      "    closure0()\n",
      "and closure1 (v0 : System.Threading.CancellationTokenSource) () : unit =\n",
      "    let v1 : unit option = None\n",
      "    let v2 : bool = true in let mutable _v1 = v1\n",
      "    \n",
      "#if FABLE_COMPILER || WASM || CONTRACT\n",
      "    \n",
      "#if FABLE_COMPILER_RUST && !WASM && !CONTRACT\n",
      "    null |> unbox<unit>\n",
      "    ()\n",
      "#endif\n",
      "    \n",
      "#if FABLE_COMPILER_RUST && WASM\n",
      "    null |> unbox<unit>\n",
      "    ()\n",
      "#endif\n",
      "    \n",
      "#if FABLE_COMPILER_RUST && CONTRACT\n",
      "    null |> unbox<unit>\n",
      "    ()\n",
      "#endif\n",
      "    \n",
      "#if FABLE_COMPILER_TYPESCRIPT\n",
      "    null |> unbox<unit>\n",
      "    ()\n",
      "#endif\n",
      "    \n",
      "#if FABLE_COMPILER_PYTHON\n",
      "    null |> unbox<unit>\n",
      "    ()\n",
      "#endif\n",
      "    \n",
      "#else\n",
      "    let v3 : (unit -> unit) = v0.Cancel\n",
      "    v3 ()\n",
      "    ()\n",
      "#endif\n",
      "    |> fun x -> _v1 <- Some x\n",
      "    _v1.Value\n",
      "    ()\n",
      "and method3 (v0 : System.Threading.CancellationTokenSource) : (unit -> unit) =\n",
      "    closure1(v0)\n",
      "and method1 (v0 : Mut0) : unit =\n",
      "    let v1 : System.Threading.CancellationToken option = None\n",
      "    let v2 : struct (System.Threading.CancellationToken * System.IDisposable) option = None\n",
      "    let v3 : bool = true in let mutable _v2 = v2\n",
      "    \n",
      "#if FABLE_COMPILER || WASM || CONTRACT\n",
      "    \n",
      "#if FABLE_COMPILER_RUST && !WASM && !CONTRACT\n",
      "    let struct (v4 : System.Threading.CancellationToken, v5 : System.IDisposable) = null |> unbox<struct (System.Threading.CancellationToken * System.IDisposable)>\n",
      "    struct (v4, v5)\n",
      "#endif\n",
      "    \n",
      "#if FABLE_COMPILER_RUST && WASM\n",
      "    let struct (v6 : System.Threading.CancellationToken, v7 : System.IDisposable) = null |> unbox<struct (System.Threading.CancellationToken * System.IDisposable)>\n",
      "    struct (v6, v7)\n",
      "#endif\n",
      "    \n",
      "#if FABLE_COMPILER_RUST && CONTRACT\n",
      "    let struct (v8 : System.Threading.CancellationToken, v9 : System.IDisposable) = null |> unbox<struct (System.Threading.CancellationToken * System.IDisposable)>\n",
      "    struct (v8, v9)\n",
      "#endif\n",
      "    \n",
      "#if FABLE_COMPILER_TYPESCRIPT\n",
      "    let struct (v10 : System.Threading.CancellationToken, v11 : System.IDisposable) = null |> unbox<struct (System.Threading.CancellationToken * System.IDisposable)>\n",
      "    struct (v10, v11)\n",
      "#endif\n",
      "    \n",
      "#if FABLE_COMPILER_PYTHON\n",
      "    let struct (v12 : System.Threading.CancellationToken, v13 : System.IDisposable) = null |> unbox<struct (System.Threading.CancellationToken * System.IDisposable)>\n",
      "    struct (v12, v13)\n",
      "#endif\n",
      "    \n",
      "#else\n",
      "    let v14 : System.Threading.CancellationTokenSource = new System.Threading.CancellationTokenSource ()\n",
      "    let v15 : (System.Threading.CancellationToken -> US0) = method2()\n",
      "    let v16 : US0 = US0_1\n",
      "    let v17 : US0 = v1 |> Option.map v15 |> Option.defaultValue v16 \n",
      "    let v24 : System.Threading.CancellationTokenSource =\n",
      "        match v17 with\n",
      "        | US0_1 -> (* None *)\n",
      "            v14\n",
      "        | US0_0(v18) -> (* Some *)\n",
      "            let v19 : System.Threading.CancellationToken = v14.Token\n",
      "            let v20 : (System.Threading.CancellationToken []) = [|v19; v18|]\n",
      "            let v21 : ((System.Threading.CancellationToken []) -> System.Threading.CancellationTokenSource) = System.Threading.CancellationTokenSource.CreateLinkedTokenSource\n",
      "            v21 v20\n",
      "    let v25 : System.IDisposable option = None\n",
      "    let v26 : bool = true in let mutable _v25 = v25\n",
      "    \n",
      "#if FABLE_COMPILER || WASM || CONTRACT\n",
      "    \n",
      "#if FABLE_COMPILER_RUST && !WASM && !CONTRACT\n",
      "    let v27 : (unit -> unit) = closure1(v24)\n",
      "    let v28 : System.IDisposable = new Disposable (fun () -> Fable.Core.RustInterop.emitRustExpr v27 \"$0()\" )\n",
      "    v28\n",
      "#endif\n",
      "    \n",
      "#if FABLE_COMPILER_RUST && WASM\n",
      "    let v29 : System.IDisposable = new Disposable (fun () -> Fable.Core.RustInterop.emitRustExpr v27 \"$0()\" )\n",
      "    v29\n",
      "#endif\n",
      "    \n",
      "#if FABLE_COMPILER_RUST && CONTRACT\n",
      "    let v30 : System.IDisposable = new Disposable (fun () -> Fable.Core.RustInterop.emitRustExpr v27 \"$0()\" )\n",
      "    v30\n",
      "#endif\n",
      "    \n",
      "#if FABLE_COMPILER_TYPESCRIPT\n",
      "    let v31 : System.IDisposable = null |> unbox<System.IDisposable>\n",
      "    v31\n",
      "#endif\n",
      "    \n",
      "#if FABLE_COMPILER_PYTHON\n",
      "    let v32 : System.IDisposable = null |> unbox<System.IDisposable>\n",
      "    v32\n",
      "#endif\n",
      "    \n",
      "#else\n",
      "    let v33 : (unit -> unit) = method3(v24)\n",
      "    let v34 : System.IDisposable = { new System.IDisposable with member _.Dispose () = v33 () }\n",
      "    v34\n",
      "#endif\n",
      "    |> fun x -> _v25 <- Some x\n",
      "    let v35 : System.IDisposable = _v25.Value\n",
      "    let v36 : System.Threading.CancellationToken = v24.Token\n",
      "    struct (v36, v35)\n",
      "#endif\n",
      "    |> fun x -> _v2 <- Some x\n",
      "    let struct (v37 : System.Threading.CancellationToken, v38 : System.IDisposable) = _v2.Value\n",
      "    use v38 = v38 \n",
      "    let v39 : System.IDisposable = v38 \n",
      "    let v40 : int32 = v0.l0\n",
      "    let v41 : bool = v37.IsCancellationRequested\n",
      "    let v42 : int32 =\n",
      "        if v41 then\n",
      "            10\n",
      "        else\n",
      "            1\n",
      "    let v43 : int32 = v40 + v42\n",
      "    v0.l0 <- v43\n",
      "    let v44 : Async<unit> option = None\n",
      "    let v45 : bool = true in let mutable _v44 = v44\n",
      "    \n",
      "#if FABLE_COMPILER || WASM || CONTRACT\n",
      "    \n",
      "#if FABLE_COMPILER_RUST && !WASM && !CONTRACT\n",
      "    let v46 : Async<unit> = null |> unbox<Async<unit>>\n",
      "    v46\n",
      "#endif\n",
      "    \n",
      "#if FABLE_COMPILER_RUST && WASM\n",
      "    let v47 : Async<unit> = null |> unbox<Async<unit>>\n",
      "    v47\n",
      "#endif\n",
      "    \n",
      "#if FABLE_COMPILER_RUST && CONTRACT\n",
      "    let v48 : Async<unit> = null |> unbox<Async<unit>>\n",
      "    v48\n",
      "#endif\n",
      "    \n",
      "#if FABLE_COMPILER_TYPESCRIPT\n",
      "    let v49 : Async<unit> = null |> unbox<Async<unit>>\n",
      "    v49\n",
      "#endif\n",
      "    \n",
      "#if FABLE_COMPILER_PYTHON\n",
      "    let v50 : Async<unit> = null |> unbox<Async<unit>>\n",
      "    v50\n",
      "#endif\n",
      "    \n",
      "#else\n",
      "    let v51 : Async<unit> option = None\n",
      "    let mutable _v51 = v51\n",
      "    async {\n",
      "    let v52 : int32 = v0.l0\n",
      "    let v53 : bool = v37.IsCancellationRequested\n",
      "    let v54 : int32 =\n",
      "        if v53 then\n",
      "            10\n",
      "        else\n",
      "            1\n",
      "    let v55 : int32 = v52 + v54\n",
      "    v0.l0 <- v55\n",
      "    }\n",
      "    |> fun x -> _v51 <- Some x\n",
      "    let v56 : Async<unit> = _v51 |> Option.get\n",
      "    v56\n",
      "#endif\n",
      "    |> fun x -> _v44 <- Some x\n",
      "    let v57 : Async<unit> = _v44.Value\n",
      "    let v58 : unit option = None\n",
      "    let v59 : bool = true in let mutable _v58 = v58\n",
      "    \n",
      "#if FABLE_COMPILER || WASM || CONTRACT\n",
      "    \n",
      "#if FABLE_COMPILER_RUST && !WASM && !CONTRACT\n",
      "    null |> unbox<unit>\n",
      "    ()\n",
      "#endif\n",
      "    \n",
      "#if FABLE_COMPILER_RUST && WASM\n",
      "    null |> unbox<unit>\n",
      "    ()\n",
      "#endif\n",
      "    \n",
      "#if FABLE_COMPILER_RUST && CONTRACT\n",
      "    null |> unbox<unit>\n",
      "    ()\n",
      "#endif\n",
      "    \n",
      "#if FABLE_COMPILER_TYPESCRIPT\n",
      "    null |> unbox<unit>\n",
      "    ()\n",
      "#endif\n",
      "    \n",
      "#if FABLE_COMPILER_PYTHON\n",
      "    null |> unbox<unit>\n",
      "    ()\n",
      "#endif\n",
      "    \n",
      "#else\n",
      "    let v60 : (Async<unit> -> unit) = Async.Start\n",
      "    v60 v57\n",
      "    ()\n",
      "#endif\n",
      "    |> fun x -> _v58 <- Some x\n",
      "    _v58.Value\n",
      "    ()\n",
      "and method4 (v0 : bool) : bool =\n",
      "    v0\n",
      "and method0 () : unit =\n",
      "    let v0 : Async<int32> option = None\n",
      "    let v1 : bool = true in let mutable _v0 = v0\n",
      "    \n",
      "#if FABLE_COMPILER || WASM || CONTRACT\n",
      "    \n",
      "#if FABLE_COMPILER_RUST && !WASM && !CONTRACT\n",
      "    let v2 : Async<int32> = null |> unbox<Async<int32>>\n",
      "    v2\n",
      "#endif\n",
      "    \n",
      "#if FABLE_COMPILER_RUST && WASM\n",
      "    let v3 : Async<int32> = null |> unbox<Async<int32>>\n",
      "    v3\n",
      "#endif\n",
      "    \n",
      "#if FABLE_COMPILER_RUST && CONTRACT\n",
      "    let v4 : Async<int32> = null |> unbox<Async<int32>>\n",
      "    v4\n",
      "#endif\n",
      "    \n",
      "#if FABLE_COMPILER_TYPESCRIPT\n",
      "    let v5 : Async<int32> = null |> unbox<Async<int32>>\n",
      "    v5\n",
      "#endif\n",
      "    \n",
      "#if FABLE_COMPILER_PYTHON\n",
      "    let v6 : Async<int32> = null |> unbox<Async<int32>>\n",
      "    v6\n",
      "#endif\n",
      "    \n",
      "#else\n",
      "    let v7 : Async<int32> option = None\n",
      "    let mutable _v7 = v7\n",
      "    async {\n",
      "    let v8 : Mut0 = {l0 = 0} : Mut0\n",
      "    method1(v8)\n",
      "    let v9 : Async<unit> option = None\n",
      "    let v10 : bool = true in let mutable _v9 = v9\n",
      "    \n",
      "#if FABLE_COMPILER || WASM || CONTRACT\n",
      "    \n",
      "#if FABLE_COMPILER_RUST && !WASM && !CONTRACT\n",
      "    let v11 : Async<unit> = null |> unbox<Async<unit>>\n",
      "    v11\n",
      "#endif\n",
      "    \n",
      "#if FABLE_COMPILER_RUST && WASM\n",
      "    let v12 : Async<unit> = null |> unbox<Async<unit>>\n",
      "    v12\n",
      "#endif\n",
      "    \n",
      "#if FABLE_COMPILER_RUST && CONTRACT\n",
      "    let v13 : Async<unit> = null |> unbox<Async<unit>>\n",
      "    v13\n",
      "#endif\n",
      "    \n",
      "#if FABLE_COMPILER_TYPESCRIPT\n",
      "    let v14 : Async<unit> = null |> unbox<Async<unit>>\n",
      "    v14\n",
      "#endif\n",
      "    \n",
      "#if FABLE_COMPILER_PYTHON\n",
      "    let v15 : Async<unit> = null |> unbox<Async<unit>>\n",
      "    v15\n",
      "#endif\n",
      "    \n",
      "#else\n",
      "    let v16 : (int32 -> Async<unit>) = Async.Sleep\n",
      "    let v17 : Async<unit> = v16 10\n",
      "    v17\n",
      "#endif\n",
      "    |> fun x -> _v9 <- Some x\n",
      "    let v18 : Async<unit> = _v9.Value\n",
      "    do! v18 \n",
      "    let v19 : int32 = v8.l0\n",
      "    return v19 \n",
      "    }\n",
      "    |> fun x -> _v7 <- Some x\n",
      "    let v20 : Async<int32> = _v7 |> Option.get\n",
      "    v20\n",
      "#endif\n",
      "    |> fun x -> _v0 <- Some x\n",
      "    let v21 : Async<int32> = _v0.Value\n",
      "    let v22 : int32 option = None\n",
      "    let v23 : bool = true in let mutable _v22 = v22\n",
      "    \n",
      "#if FABLE_COMPILER || WASM || CONTRACT\n",
      "    \n",
      "#if FABLE_COMPILER_RUST && !WASM && !CONTRACT\n",
      "    let v24 : int32 = null |> unbox<int32>\n",
      "    v24\n",
      "#endif\n",
      "    \n",
      "#if FABLE_COMPILER_RUST && WASM\n",
      "    let v25 : int32 = null |> unbox<int32>\n",
      "    v25\n",
      "#endif\n",
      "    \n",
      "#if FABLE_COMPILER_RUST && CONTRACT\n",
      "    let v26 : int32 = null |> unbox<int32>\n",
      "    v26\n",
      "#endif\n",
      "    \n",
      "#if FABLE_COMPILER_TYPESCRIPT\n",
      "    let v27 : int32 = null |> unbox<int32>\n",
      "    v27\n",
      "#endif\n",
      "    \n",
      "#if FABLE_COMPILER_PYTHON\n",
      "    let v28 : int32 = null |> unbox<int32>\n",
      "    v28\n",
      "#endif\n",
      "    \n",
      "#else\n",
      "    let v29 : (Async<int32> -> int32) = Async.RunSynchronously\n",
      "    let v30 : int32 = v29 v21\n",
      "    v30\n",
      "#endif\n",
      "    |> fun x -> _v22 <- Some x\n",
      "    let v31 : int32 = _v22.Value\n",
      "    let v32 : bool = v31 = 11\n",
      "    let v34 : bool =\n",
      "        if v32 then\n",
      "            true\n",
      "        else\n",
      "            method4(v32)\n",
      "    let v35 : string = \"assert_eq\"\n",
      "    let v36 : string = $\"{v35} / actual: %A{v31} / expected: %A{11}\"\n",
      "    System.Console.WriteLine v36\n",
      "    let v37 : bool = v34 = false\n",
      "    if v37 then\n",
      "        failwith<unit> v36\n",
      "method0()\n",
      "\r\n",
      "assert_eq / actual: 11 / expected: 11\r\n"
     ]
    }
   ],
   "source": [
    "// // test\n",
    "\n",
    "inl run fn =\n",
    "    inl token, disposable = new_disposable_token (None |> optionm'.box)\n",
    "    disposable |> use |> ignore\n",
    "    fn token\n",
    "    fun () =>\n",
    "        fn token\n",
    "    |> async.new_async\n",
    "    |> async.start\n",
    "\n",
    "fun () =>\n",
    "    inl counter = mut 0i32\n",
    "\n",
    "    inl fn (token : cancellation_token) =\n",
    "        counter <- *counter + (if token |> token_cancellation_requested then 10 else 1)\n",
    "\n",
    "    join run fn\n",
    "    async.sleep 10 |> async.do\n",
    "    return *counter\n",
    "|> async.new_async_unit\n",
    "|> async.run_synchronously\n",
    "|> _assert_eq 11i32"
   ]
  },
  {
   "cell_type": "markdown",
   "metadata": {},
   "source": [
    "## arc"
   ]
  },
  {
   "cell_type": "code",
   "execution_count": null,
   "metadata": {
    "dotnet_interactive": {
     "language": "spiral"
    },
    "polyglot_notebook": {
     "kernelName": "spiral"
    }
   },
   "outputs": [
    {
     "name": "stdout",
     "output_type": "stream",
     "text": [
      "()\n",
      "\r\n"
     ]
    }
   ],
   "source": [
    "nominal arc t = $\"std_sync_Arc<`t>\""
   ]
  },
  {
   "cell_type": "markdown",
   "metadata": {},
   "source": [
    "## new_arc"
   ]
  },
  {
   "cell_type": "code",
   "execution_count": null,
   "metadata": {
    "dotnet_interactive": {
     "language": "spiral"
    },
    "polyglot_notebook": {
     "kernelName": "spiral"
    }
   },
   "outputs": [
    {
     "name": "stdout",
     "output_type": "stream",
     "text": [
      "()\n",
      "\r\n"
     ]
    }
   ],
   "source": [
    "inl new_arc forall t. (x : t) : arc t =\n",
    "    inl x = join x\n",
    "    !\\($'\"std::sync::Arc::new(!x)\"')"
   ]
  },
  {
   "cell_type": "markdown",
   "metadata": {},
   "source": [
    "## mutex"
   ]
  },
  {
   "cell_type": "code",
   "execution_count": null,
   "metadata": {
    "dotnet_interactive": {
     "language": "spiral"
    },
    "polyglot_notebook": {
     "kernelName": "spiral"
    }
   },
   "outputs": [
    {
     "name": "stdout",
     "output_type": "stream",
     "text": [
      "()\n",
      "\r\n"
     ]
    }
   ],
   "source": [
    "nominal mutex t = $\"std_sync_Mutex<`t>\""
   ]
  },
  {
   "cell_type": "markdown",
   "metadata": {},
   "source": [
    "## new_mutex"
   ]
  },
  {
   "cell_type": "code",
   "execution_count": null,
   "metadata": {
    "dotnet_interactive": {
     "language": "spiral"
    },
    "polyglot_notebook": {
     "kernelName": "spiral"
    }
   },
   "outputs": [
    {
     "name": "stdout",
     "output_type": "stream",
     "text": [
      "()\n",
      "\r\n"
     ]
    }
   ],
   "source": [
    "inl new_mutex forall t. (x : t) : mutex t =\n",
    "    // inl x = join x\n",
    "    !\\\\(x, $'\"std::sync::Mutex::new($0)\"')"
   ]
  },
  {
   "cell_type": "markdown",
   "metadata": {},
   "source": [
    "## new_arc_mutex"
   ]
  },
  {
   "cell_type": "code",
   "execution_count": null,
   "metadata": {
    "dotnet_interactive": {
     "language": "spiral"
    },
    "polyglot_notebook": {
     "kernelName": "spiral"
    }
   },
   "outputs": [
    {
     "name": "stdout",
     "output_type": "stream",
     "text": [
      "()\n",
      "\r\n"
     ]
    }
   ],
   "source": [
    "inl new_arc_mutex forall t. (x : t) : arc (mutex t) =\n",
    "    x |> new_mutex |> new_arc"
   ]
  },
  {
   "cell_type": "markdown",
   "metadata": {},
   "source": [
    "## arc_clone"
   ]
  },
  {
   "cell_type": "code",
   "execution_count": null,
   "metadata": {
    "dotnet_interactive": {
     "language": "spiral"
    },
    "polyglot_notebook": {
     "kernelName": "spiral"
    }
   },
   "outputs": [
    {
     "name": "stdout",
     "output_type": "stream",
     "text": [
      "()\n",
      "\r\n"
     ]
    }
   ],
   "source": [
    "inl arc_clone forall t. (x : arc t) : arc t =\n",
    "    inl x = join x\n",
    "    !\\($'\"std::sync::Arc::clone(&!x)\"')"
   ]
  },
  {
   "cell_type": "markdown",
   "metadata": {},
   "source": [
    "## mutex_guard"
   ]
  },
  {
   "cell_type": "code",
   "execution_count": null,
   "metadata": {
    "dotnet_interactive": {
     "language": "spiral"
    },
    "polyglot_notebook": {
     "kernelName": "spiral"
    }
   },
   "outputs": [
    {
     "name": "stdout",
     "output_type": "stream",
     "text": [
      "()\n",
      "\r\n"
     ]
    }
   ],
   "source": [
    "nominal mutex_guard t = $\"std_sync_MutexGuard<`t>\""
   ]
  },
  {
   "cell_type": "markdown",
   "metadata": {},
   "source": [
    "## poison_error"
   ]
  },
  {
   "cell_type": "code",
   "execution_count": null,
   "metadata": {
    "dotnet_interactive": {
     "language": "spiral"
    },
    "polyglot_notebook": {
     "kernelName": "spiral"
    }
   },
   "outputs": [
    {
     "name": "stdout",
     "output_type": "stream",
     "text": [
      "()\n",
      "\r\n"
     ]
    }
   ],
   "source": [
    "nominal poison_error t = $\"std_sync_PoisonError<`t>\""
   ]
  },
  {
   "cell_type": "markdown",
   "metadata": {},
   "source": [
    "## mutex_lock"
   ]
  },
  {
   "cell_type": "code",
   "execution_count": null,
   "metadata": {
    "dotnet_interactive": {
     "language": "spiral"
    },
    "polyglot_notebook": {
     "kernelName": "spiral"
    }
   },
   "outputs": [
    {
     "name": "stdout",
     "output_type": "stream",
     "text": [
      "()\n",
      "\r\n"
     ]
    }
   ],
   "source": [
    "inl arc_mutex_lock forall t. (x : arc (mutex t)) : resultm.result' (mutex_guard t) (poison_error (mutex_guard t)) =\n",
    "    !\\\\(x, $'\"$0.lock()\"')"
   ]
  },
  {
   "cell_type": "markdown",
   "metadata": {},
   "source": [
    "## main"
   ]
  },
  {
   "cell_type": "code",
   "execution_count": null,
   "metadata": {
    "dotnet_interactive": {
     "language": "spiral"
    },
    "polyglot_notebook": {
     "kernelName": "spiral"
    }
   },
   "outputs": [
    {
     "name": "stdout",
     "output_type": "stream",
     "text": [
      "#if FABLE_COMPILER\n",
      "[<Fable.Core.Erase; Fable.Core.Emit(\"std::thread::JoinHandle<$0>\")>]\n",
      "#endif\n",
      "type std_thread_JoinHandle<'T> = class end\n",
      "#if FABLE_COMPILER\n",
      "[<Fable.Core.Erase; Fable.Core.Emit(\"std::sync::Arc<$0>\")>]\n",
      "#endif\n",
      "type std_sync_Arc<'T> = class end\n",
      "#if FABLE_COMPILER\n",
      "[<Fable.Core.Erase; Fable.Core.Emit(\"std::sync::Mutex<$0>\")>]\n",
      "#endif\n",
      "type std_sync_Mutex<'T> = class end\n",
      "#if FABLE_COMPILER\n",
      "[<Fable.Core.Erase; Fable.Core.Emit(\"std::sync::MutexGuard<$0>\")>]\n",
      "#endif\n",
      "type std_sync_MutexGuard<'T> = class end\n",
      "#if FABLE_COMPILER\n",
      "[<Fable.Core.Erase; Fable.Core.Emit(\"std::sync::PoisonError<$0>\")>]\n",
      "#endif\n",
      "type std_sync_PoisonError<'T> = class end\n",
      "type Disposable (f : unit -> unit) = interface System.IDisposable with member _.Dispose () = f ()\n",
      "type [<Struct>] US0 =\n",
      "    | US0_0 of f0_0 : System.Threading.CancellationToken\n",
      "    | US0_1\n",
      "let rec closure1 () (v0 : System.Threading.CancellationToken) : US0 =\n",
      "    US0_0(v0)\n",
      "and method0 () : (System.Threading.CancellationToken -> US0) =\n",
      "    closure1()\n",
      "and closure2 (v0 : System.Threading.CancellationTokenSource) () : unit =\n",
      "    let v1 : unit option = None\n",
      "    let v2 : bool = true in let mutable _v1 = v1\n",
      "    \n",
      "#if FABLE_COMPILER || WASM || CONTRACT\n",
      "    \n",
      "#if FABLE_COMPILER_RUST && !WASM && !CONTRACT\n",
      "    null |> unbox<unit>\n",
      "    ()\n",
      "#endif\n",
      "    \n",
      "#if FABLE_COMPILER_RUST && WASM\n",
      "    null |> unbox<unit>\n",
      "    ()\n",
      "#endif\n",
      "    \n",
      "#if FABLE_COMPILER_RUST && CONTRACT\n",
      "    null |> unbox<unit>\n",
      "    ()\n",
      "#endif\n",
      "    \n",
      "#if FABLE_COMPILER_TYPESCRIPT\n",
      "    null |> unbox<unit>\n",
      "    ()\n",
      "#endif\n",
      "    \n",
      "#if FABLE_COMPILER_PYTHON\n",
      "    null |> unbox<unit>\n",
      "    ()\n",
      "#endif\n",
      "    \n",
      "#else\n",
      "    let v3 : (unit -> unit) = v0.Cancel\n",
      "    v3 ()\n",
      "    ()\n",
      "#endif\n",
      "    |> fun x -> _v1 <- Some x\n",
      "    _v1.Value\n",
      "    ()\n",
      "and method1 (v0 : System.Threading.CancellationTokenSource) : (unit -> unit) =\n",
      "    closure2(v0)\n",
      "and closure0 () (v0 : System.Threading.CancellationToken option) : struct (System.Threading.CancellationToken * System.IDisposable) =\n",
      "    let v1 : struct (System.Threading.CancellationToken * System.IDisposable) option = None\n",
      "    let v2 : bool = true in let mutable _v1 = v1\n",
      "    \n",
      "#if FABLE_COMPILER || WASM || CONTRACT\n",
      "    \n",
      "#if FABLE_COMPILER_RUST && !WASM && !CONTRACT\n",
      "    let struct (v3 : System.Threading.CancellationToken, v4 : System.IDisposable) = null |> unbox<struct (System.Threading.CancellationToken * System.IDisposable)>\n",
      "    struct (v3, v4)\n",
      "#endif\n",
      "    \n",
      "#if FABLE_COMPILER_RUST && WASM\n",
      "    let struct (v5 : System.Threading.CancellationToken, v6 : System.IDisposable) = null |> unbox<struct (System.Threading.CancellationToken * System.IDisposable)>\n",
      "    struct (v5, v6)\n",
      "#endif\n",
      "    \n",
      "#if FABLE_COMPILER_RUST && CONTRACT\n",
      "    let struct (v7 : System.Threading.CancellationToken, v8 : System.IDisposable) = null |> unbox<struct (System.Threading.CancellationToken * System.IDisposable)>\n",
      "    struct (v7, v8)\n",
      "#endif\n",
      "    \n",
      "#if FABLE_COMPILER_TYPESCRIPT\n",
      "    let struct (v9 : System.Threading.CancellationToken, v10 : System.IDisposable) = null |> unbox<struct (System.Threading.CancellationToken * System.IDisposable)>\n",
      "    struct (v9, v10)\n",
      "#endif\n",
      "    \n",
      "#if FABLE_COMPILER_PYTHON\n",
      "    let struct (v11 : System.Threading.CancellationToken, v12 : System.IDisposable) = null |> unbox<struct (System.Threading.CancellationToken * System.IDisposable)>\n",
      "    struct (v11, v12)\n",
      "#endif\n",
      "    \n",
      "#else\n",
      "    let v13 : System.Threading.CancellationTokenSource = new System.Threading.CancellationTokenSource ()\n",
      "    let v14 : (System.Threading.CancellationToken -> US0) = method0()\n",
      "    let v15 : US0 = US0_1\n",
      "    let v16 : US0 = v0 |> Option.map v14 |> Option.defaultValue v15 \n",
      "    let v23 : System.Threading.CancellationTokenSource =\n",
      "        match v16 with\n",
      "        | US0_1 -> (* None *)\n",
      "            v13\n",
      "        | US0_0(v17) -> (* Some *)\n",
      "            let v18 : System.Threading.CancellationToken = v13.Token\n",
      "            let v19 : (System.Threading.CancellationToken []) = [|v18; v17|]\n",
      "            let v20 : ((System.Threading.CancellationToken []) -> System.Threading.CancellationTokenSource) = System.Threading.CancellationTokenSource.CreateLinkedTokenSource\n",
      "            v20 v19\n",
      "    let v24 : System.IDisposable option = None\n",
      "    let v25 : bool = true in let mutable _v24 = v24\n",
      "    \n",
      "#if FABLE_COMPILER || WASM || CONTRACT\n",
      "    \n",
      "#if FABLE_COMPILER_RUST && !WASM && !CONTRACT\n",
      "    let v26 : (unit -> unit) = closure2(v23)\n",
      "    let v27 : System.IDisposable = new Disposable (fun () -> Fable.Core.RustInterop.emitRustExpr v26 \"$0()\" )\n",
      "    v27\n",
      "#endif\n",
      "    \n",
      "#if FABLE_COMPILER_RUST && WASM\n",
      "    let v28 : System.IDisposable = new Disposable (fun () -> Fable.Core.RustInterop.emitRustExpr v26 \"$0()\" )\n",
      "    v28\n",
      "#endif\n",
      "    \n",
      "#if FABLE_COMPILER_RUST && CONTRACT\n",
      "    let v29 : System.IDisposable = new Disposable (fun () -> Fable.Core.RustInterop.emitRustExpr v26 \"$0()\" )\n",
      "    v29\n",
      "#endif\n",
      "    \n",
      "#if FABLE_COMPILER_TYPESCRIPT\n",
      "    let v30 : System.IDisposable = null |> unbox<System.IDisposable>\n",
      "    v30\n",
      "#endif\n",
      "    \n",
      "#if FABLE_COMPILER_PYTHON\n",
      "    let v31 : System.IDisposable = null |> unbox<System.IDisposable>\n",
      "    v31\n",
      "#endif\n",
      "    \n",
      "#else\n",
      "    let v32 : (unit -> unit) = method1(v23)\n",
      "    let v33 : System.IDisposable = { new System.IDisposable with member _.Dispose () = v32 () }\n",
      "    v33\n",
      "#endif\n",
      "    |> fun x -> _v24 <- Some x\n",
      "    let v34 : System.IDisposable = _v24.Value\n",
      "    let v35 : System.Threading.CancellationToken = v23.Token\n",
      "    struct (v35, v34)\n",
      "#endif\n",
      "    |> fun x -> _v1 <- Some x\n",
      "    let struct (v36 : System.Threading.CancellationToken, v37 : System.IDisposable) = _v1.Value\n",
      "    struct (v36, v37)\n",
      "let v0 : (System.Threading.CancellationToken option -> struct (System.Threading.CancellationToken * System.IDisposable)) = closure0()\n",
      "let new_disposable_token x = v0 x\n",
      "()\n",
      "\r\n"
     ]
    }
   ],
   "source": [
    "inl main () =\n",
    "    types ()\n",
    "    $\"let new_disposable_token x = !new_disposable_token x\" : ()"
   ]
  }
 ],
 "metadata": {},
 "nbformat": 4,
 "nbformat_minor": 5
}