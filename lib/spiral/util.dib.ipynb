{
 "cells": [
  {
   "cell_type": "markdown",
   "metadata": {},
   "source": [
    "# util"
   ]
  },
  {
   "cell_type": "code",
   "execution_count": null,
   "metadata": {
    "dotnet_interactive": {
     "language": "spiral"
    },
    "polyglot_notebook": {
     "kernelName": "spiral"
    }
   },
   "outputs": [
    {
     "name": "stdout",
     "output_type": "stream",
     "text": [
      "()\n",
      "\r\n"
     ]
    }
   ],
   "source": [
    "// // test\n",
    "\n",
    "open testing"
   ]
  },
  {
   "cell_type": "markdown",
   "metadata": {},
   "source": [
    "## take_while"
   ]
  },
  {
   "cell_type": "code",
   "execution_count": null,
   "metadata": {
    "dotnet_interactive": {
     "language": "spiral"
    },
    "polyglot_notebook": {
     "kernelName": "spiral"
    }
   },
   "outputs": [
    {
     "name": "stdout",
     "output_type": "stream",
     "text": [
      "()\n",
      "\r\n"
     ]
    }
   ],
   "source": [
    "inl take_while cond sts =\n",
    "    inl rec loop acc i =\n",
    "        inl st = sts i\n",
    "        if cond st i\n",
    "        then loop (st :: acc) (i + 1)\n",
    "        else acc |> listm.rev\n",
    "    loop [] 0i32"
   ]
  },
  {
   "cell_type": "code",
   "execution_count": null,
   "metadata": {
    "dotnet_interactive": {
     "language": "spiral"
    },
    "polyglot_notebook": {
     "kernelName": "spiral"
    }
   },
   "outputs": [
    {
     "name": "stdout",
     "output_type": "stream",
     "text": [
      "let rec method0 () : unit =\n",
      "    let v0 : string = $\"_equal / actual: %A{10} / expected: %A{10}\"\n",
      "    ()\n",
      "method0()\n",
      "\r\n"
     ]
    }
   ],
   "source": [
    "// // test\n",
    "\n",
    "listm.init 10i32 id\n",
    "|> fun list =>\n",
    "    fun n =>\n",
    "        list |> listm'.item n\n",
    "|> take_while (fun n _ => n < 5)\n",
    "|> listm'.sum\n",
    "|> _equal 10"
   ]
  },
  {
   "cell_type": "code",
   "execution_count": null,
   "metadata": {
    "dotnet_interactive": {
     "language": "spiral"
    },
    "polyglot_notebook": {
     "kernelName": "spiral"
    }
   },
   "outputs": [
    {
     "name": "stdout",
     "output_type": "stream",
     "text": [
      "let rec method0 () : unit =\n",
      "    printfn $\"print_and_return / x: {0}\"\n",
      "    printfn $\"print_and_return / x: {1}\"\n",
      "    printfn $\"print_and_return / x: {1}\"\n",
      "    printfn $\"print_and_return / x: {2}\"\n",
      "    printfn $\"print_and_return / x: {1}\"\n",
      "    printfn $\"print_and_return / x: {2}\"\n",
      "    printfn $\"print_and_return / x: {3}\"\n",
      "    printfn $\"print_and_return / x: {1}\"\n",
      "    printfn $\"print_and_return / x: {2}\"\n",
      "    printfn $\"print_and_return / x: {3}\"\n",
      "    printfn $\"print_and_return / x: {4}\"\n",
      "    printfn $\"print_and_return / x: {1}\"\n",
      "    printfn $\"print_and_return / x: {2}\"\n",
      "    printfn $\"print_and_return / x: {3}\"\n",
      "    printfn $\"print_and_return / x: {4}\"\n",
      "    printfn $\"print_and_return / x: {5}\"\n",
      "    let v0 : string = $\"_equal / actual: %A{10} / expected: %A{10}\"\n",
      "    ()\n",
      "method0()\n",
      "\r\n",
      "print_and_return / x: 0\r\n",
      "print_and_return / x: 1\r\n",
      "print_and_return / x: 1\r\n",
      "print_and_return / x: 2\r\n",
      "print_and_return / x: 1\r\n",
      "print_and_return / x: 2\r\n",
      "print_and_return / x: 3\r\n",
      "print_and_return / x: 1\r\n",
      "print_and_return / x: 2\r\n",
      "print_and_return / x: 3\r\n",
      "print_and_return / x: 4\r\n",
      "print_and_return / x: 1\r\n",
      "print_and_return / x: 2\r\n",
      "print_and_return / x: 3\r\n",
      "print_and_return / x: 4\r\n",
      "print_and_return / x: 5\r\n"
     ]
    }
   ],
   "source": [
    "// // test\n",
    "\n",
    "listm'.new_finite_lazy_list print_and_return 10i32\n",
    "|> fun list =>\n",
    "    fun n =>\n",
    "        list |> listm'.lazy_item n\n",
    "|> take_while (fun n _ => n < 5)\n",
    "|> listm'.sum\n",
    "|> _equal 10"
   ]
  },
  {
   "cell_type": "markdown",
   "metadata": {},
   "source": [
    "## take_while_"
   ]
  },
  {
   "cell_type": "code",
   "execution_count": null,
   "metadata": {
    "dotnet_interactive": {
     "language": "spiral"
    },
    "polyglot_notebook": {
     "kernelName": "spiral"
    }
   },
   "outputs": [
    {
     "name": "stdout",
     "output_type": "stream",
     "text": [
      "()\n",
      "\r\n"
     ]
    }
   ],
   "source": [
    "inl take_while_ cond sts =\n",
    "    let rec loop acc i =\n",
    "        inl st = sts i\n",
    "        if cond st i\n",
    "        then loop (st :: acc) (i + 1)\n",
    "        else acc |> listm.rev\n",
    "    loop [] 0i32"
   ]
  },
  {
   "cell_type": "code",
   "execution_count": null,
   "metadata": {
    "dotnet_interactive": {
     "language": "spiral"
    },
    "polyglot_notebook": {
     "kernelName": "spiral"
    }
   },
   "outputs": [
    {
     "name": "stdout",
     "output_type": "stream",
     "text": [
      "type UH0 =\n",
      "    | UH0_0 of int32 * (unit -> UH0)\n",
      "    | UH0_1\n",
      "and UH1 =\n",
      "    | UH1_0 of int32 * UH1\n",
      "    | UH1_1\n",
      "and Mut0 = {mutable l0 : int32}\n",
      "and Mut1 = {mutable l0 : UH0}\n",
      "and [<Struct>] US0 =\n",
      "    | US0_0\n",
      "    | US0_1 of f1_0 : int32\n",
      "let rec closure0 (v0 : int32) () : UH0 =\n",
      "    let v1 : int32 = v0 + 1\n",
      "    method1(v1)\n",
      "and method1 (v0 : int32) : UH0 =\n",
      "    printfn $\"print_and_return / x: {v0}\"\n",
      "    let v1 : (unit -> UH0) = closure0(v0)\n",
      "    UH0_0(v0, v1)\n",
      "and method3 (v0 : Mut0, v1 : Mut1) : US0 =\n",
      "    let v2 : UH0 = v1.l0\n",
      "    match v2 with\n",
      "    | UH0_0(v3, v4) -> (* LazyCons *)\n",
      "        let v5 : int32 = v0.l0\n",
      "        let v6 : bool = v5 = 0\n",
      "        if v6 then\n",
      "            US0_1(v3)\n",
      "        else\n",
      "            let v8 : int32 = v0.l0\n",
      "            let v9 : int32 = v8 - 1\n",
      "            v0.l0 <- v9\n",
      "            let v10 : UH0 = v4 ()\n",
      "            v1.l0 <- v10\n",
      "            method3(v0, v1)\n",
      "    | UH0_1 -> (* LazyNil *)\n",
      "        US0_0\n",
      "and method4 (v0 : UH1, v1 : UH1) : UH1 =\n",
      "    match v0 with\n",
      "    | UH1_0(v2, v3) -> (* Cons *)\n",
      "        let v4 : UH1 = UH1_0(v2, v1)\n",
      "        method4(v3, v4)\n",
      "    | UH1_1 -> (* Nil *)\n",
      "        v1\n",
      "and method2 (v0 : UH0, v1 : UH1, v2 : int32) : UH1 =\n",
      "    let v3 : Mut0 = {l0 = v2} : Mut0\n",
      "    let v4 : Mut1 = {l0 = v0} : Mut1\n",
      "    let v5 : US0 = method3(v3, v4)\n",
      "    let v9 : int32 =\n",
      "        match v5 with\n",
      "        | US0_0 -> (* None *)\n",
      "            failwith<int32> \"Option does not have a value.\"\n",
      "        | US0_1(v6) -> (* Some *)\n",
      "            v6\n",
      "    let v10 : bool = v9 < 5\n",
      "    if v10 then\n",
      "        let v11 : UH1 = UH1_0(v9, v1)\n",
      "        let v12 : int32 = v2 + 1\n",
      "        method2(v0, v11, v12)\n",
      "    else\n",
      "        let v14 : UH1 = UH1_1\n",
      "        method4(v1, v14)\n",
      "and method5 (v0 : UH1, v1 : int32) : int32 =\n",
      "    match v0 with\n",
      "    | UH1_0(v2, v3) -> (* Cons *)\n",
      "        let v4 : int32 = v1 + v2\n",
      "        method5(v3, v4)\n",
      "    | UH1_1 -> (* Nil *)\n",
      "        v1\n",
      "and method0 () : unit =\n",
      "    let v0 : int32 = 0\n",
      "    let v1 : UH0 = method1(v0)\n",
      "    let v2 : UH1 = UH1_1\n",
      "    let v3 : int32 = 0\n",
      "    let v4 : UH1 = method2(v1, v2, v3)\n",
      "    let v5 : int32 = 0\n",
      "    let v6 : int32 = method5(v4, v5)\n",
      "    let v7 : bool = v6 = 10\n",
      "    let v8 : string = $\"_equal / actual: %A{v6} / expected: %A{10}\"\n",
      "    let v9 : bool = v7 = false\n",
      "    if v9 then\n",
      "        failwith<unit> v8\n",
      "method0()\n",
      "\r\n",
      "print_and_return / x: 0\r\n",
      "print_and_return / x: 1\r\n",
      "print_and_return / x: 1\r\n",
      "print_and_return / x: 2\r\n",
      "print_and_return / x: 1\r\n",
      "print_and_return / x: 2\r\n",
      "print_and_return / x: 3\r\n",
      "print_and_return / x: 1\r\n",
      "print_and_return / x: 2\r\n",
      "print_and_return / x: 3\r\n",
      "print_and_return / x: 4\r\n",
      "print_and_return / x: 1\r\n",
      "print_and_return / x: 2\r\n",
      "print_and_return / x: 3\r\n",
      "print_and_return / x: 4\r\n",
      "print_and_return / x: 5\r\n"
     ]
    }
   ],
   "source": [
    "// // test\n",
    "\n",
    "listm'.new_infinite_lazy_list_ print_and_return\n",
    "|> fun list =>\n",
    "    fun n =>\n",
    "        list |> listm'.lazy_item_ n\n",
    "|> take_while_ (fun n _ => n < 5i32)\n",
    "|> listm'.sum\n",
    "|> _equal 10"
   ]
  },
  {
   "cell_type": "code",
   "execution_count": null,
   "metadata": {
    "dotnet_interactive": {
     "language": "spiral"
    },
    "polyglot_notebook": {
     "kernelName": "spiral"
    }
   },
   "outputs": [
    {
     "name": "stdout",
     "output_type": "stream",
     "text": [
      "type UH0 =\n",
      "    | UH0_0 of int32 * (unit -> UH0)\n",
      "    | UH0_1\n",
      "and [<Struct>] US0 =\n",
      "    | US0_0 of f0_0 : UH0\n",
      "    | US0_1 of f1_0 : (unit -> UH0)\n",
      "and Mut0 = {mutable l0 : US0}\n",
      "and UH1 =\n",
      "    | UH1_0 of int32 * UH1\n",
      "    | UH1_1\n",
      "and Mut1 = {mutable l0 : int32}\n",
      "and Mut2 = {mutable l0 : UH0}\n",
      "and [<Struct>] US1 =\n",
      "    | US1_0\n",
      "    | US1_1 of f1_0 : int32\n",
      "let rec closure0 (v0 : int32) () : UH0 =\n",
      "    let v1 : int32 = v0 + 1\n",
      "    method1(v1)\n",
      "and method1 (v0 : int32) : UH0 =\n",
      "    printfn $\"print_and_return / x: {v0}\"\n",
      "    let v1 : (unit -> UH0) = closure0(v0)\n",
      "    UH0_0(v0, v1)\n",
      "and closure1 (v0 : UH0) () : UH0 =\n",
      "    v0\n",
      "and closure2 (v0 : Mut0) () : UH0 =\n",
      "    let v1 : US0 = v0.l0\n",
      "    match v1 with\n",
      "    | US0_0(v2) -> (* Computed *)\n",
      "        v2\n",
      "    | US0_1(v3) -> (* NotComputed *)\n",
      "        let v4 : UH0 = v3 ()\n",
      "        let v13 : UH0 =\n",
      "            match v4 with\n",
      "            | UH0_0(v6, v7) -> (* LazyCons *)\n",
      "                let v8 : US0 = US0_1(v7)\n",
      "                let v9 : Mut0 = {l0 = v8} : Mut0\n",
      "                let v10 : (unit -> UH0) = closure2(v9)\n",
      "                UH0_0(v6, v10)\n",
      "            | UH0_1 -> (* LazyNil *)\n",
      "                UH0_1\n",
      "        let v14 : US0 = US0_0(v13)\n",
      "        v0.l0 <- v14\n",
      "        v13\n",
      "and method3 (v0 : Mut1, v1 : Mut2) : US1 =\n",
      "    let v2 : UH0 = v1.l0\n",
      "    match v2 with\n",
      "    | UH0_0(v3, v4) -> (* LazyCons *)\n",
      "        let v5 : int32 = v0.l0\n",
      "        let v6 : bool = v5 = 0\n",
      "        if v6 then\n",
      "            US1_1(v3)\n",
      "        else\n",
      "            let v8 : int32 = v0.l0\n",
      "            let v9 : int32 = v8 - 1\n",
      "            v0.l0 <- v9\n",
      "            let v10 : UH0 = v4 ()\n",
      "            v1.l0 <- v10\n",
      "            method3(v0, v1)\n",
      "    | UH0_1 -> (* LazyNil *)\n",
      "        US1_0\n",
      "and method4 (v0 : UH1, v1 : UH1) : UH1 =\n",
      "    match v0 with\n",
      "    | UH1_0(v2, v3) -> (* Cons *)\n",
      "        let v4 : UH1 = UH1_0(v2, v1)\n",
      "        method4(v3, v4)\n",
      "    | UH1_1 -> (* Nil *)\n",
      "        v1\n",
      "and method2 (v0 : UH0, v1 : UH1, v2 : int32) : UH1 =\n",
      "    let v3 : Mut1 = {l0 = v2} : Mut1\n",
      "    let v4 : Mut2 = {l0 = v0} : Mut2\n",
      "    let v5 : US1 = method3(v3, v4)\n",
      "    let v9 : int32 =\n",
      "        match v5 with\n",
      "        | US1_0 -> (* None *)\n",
      "            failwith<int32> \"Option does not have a value.\"\n",
      "        | US1_1(v6) -> (* Some *)\n",
      "            v6\n",
      "    let v10 : bool = v9 < 5\n",
      "    if v10 then\n",
      "        let v11 : UH1 = UH1_0(v9, v1)\n",
      "        let v12 : int32 = v2 + 1\n",
      "        method2(v0, v11, v12)\n",
      "    else\n",
      "        let v14 : UH1 = UH1_1\n",
      "        method4(v1, v14)\n",
      "and method5 (v0 : UH1, v1 : int32) : int32 =\n",
      "    match v0 with\n",
      "    | UH1_0(v2, v3) -> (* Cons *)\n",
      "        let v4 : int32 = v1 + v2\n",
      "        method5(v3, v4)\n",
      "    | UH1_1 -> (* Nil *)\n",
      "        v1\n",
      "and method0 () : unit =\n",
      "    let v0 : int32 = 0\n",
      "    let v1 : UH0 = method1(v0)\n",
      "    let v2 : (unit -> UH0) = closure1(v1)\n",
      "    let v3 : US0 = US0_1(v2)\n",
      "    let v4 : Mut0 = {l0 = v3} : Mut0\n",
      "    let v5 : US0 = v4.l0\n",
      "    let v20 : UH0 =\n",
      "        match v5 with\n",
      "        | US0_0(v6) -> (* Computed *)\n",
      "            v6\n",
      "        | US0_1(v7) -> (* NotComputed *)\n",
      "            let v8 : UH0 = v7 ()\n",
      "            let v17 : UH0 =\n",
      "                match v8 with\n",
      "                | UH0_0(v10, v11) -> (* LazyCons *)\n",
      "                    let v12 : US0 = US0_1(v11)\n",
      "                    let v13 : Mut0 = {l0 = v12} : Mut0\n",
      "                    let v14 : (unit -> UH0) = closure2(v13)\n",
      "                    UH0_0(v10, v14)\n",
      "                | UH0_1 -> (* LazyNil *)\n",
      "                    UH0_1\n",
      "            let v18 : US0 = US0_0(v17)\n",
      "            v4.l0 <- v18\n",
      "            v17\n",
      "    let v21 : UH1 = UH1_1\n",
      "    let v22 : int32 = 0\n",
      "    let v23 : UH1 = method2(v20, v21, v22)\n",
      "    let v24 : int32 = 0\n",
      "    let v25 : int32 = method5(v23, v24)\n",
      "    let v26 : bool = v25 = 10\n",
      "    let v27 : string = $\"_equal / actual: %A{v25} / expected: %A{10}\"\n",
      "    let v28 : bool = v26 = false\n",
      "    if v28 then\n",
      "        failwith<unit> v27\n",
      "method0()\n",
      "\r\n",
      "print_and_return / x: 0\r\n",
      "print_and_return / x: 1\r\n",
      "print_and_return / x: 2\r\n",
      "print_and_return / x: 3\r\n",
      "print_and_return / x: 4\r\n",
      "print_and_return / x: 5\r\n"
     ]
    }
   ],
   "source": [
    "// // test\n",
    "\n",
    "listm'.new_infinite_lazy_list_ print_and_return\n",
    "|> listm'.memoize_lazy_list\n",
    "|> fun list =>\n",
    "    inl list = list ()\n",
    "    fun n =>\n",
    "        list |> listm'.lazy_item_ n\n",
    "|> take_while_ (fun n _ => n < 5i32)\n",
    "|> listm'.sum\n",
    "|> _equal 10"
   ]
  },
  {
   "cell_type": "code",
   "execution_count": null,
   "metadata": {
    "dotnet_interactive": {
     "language": "spiral"
    },
    "polyglot_notebook": {
     "kernelName": "spiral"
    }
   },
   "outputs": [
    {
     "name": "stdout",
     "output_type": "stream",
     "text": [
      "type UH0 =\n",
      "    | UH0_0 of int32 * (unit -> UH0)\n",
      "    | UH0_1\n",
      "and [<Struct>] US0 =\n",
      "    | US0_0 of f0_0 : UH0\n",
      "    | US0_1 of f1_0 : (unit -> UH0)\n",
      "and Mut0 = {mutable l0 : US0}\n",
      "and UH1 =\n",
      "    | UH1_0 of int32 * UH1\n",
      "    | UH1_1\n",
      "and Mut1 = {mutable l0 : int32}\n",
      "and Mut2 = {mutable l0 : UH0}\n",
      "and [<Struct>] US1 =\n",
      "    | US1_0\n",
      "    | US1_1 of f1_0 : int32\n",
      "let rec closure10 () () : UH0 =\n",
      "    UH0_1\n",
      "and closure9 () () : UH0 =\n",
      "    printfn $\"print_and_return / x: {9}\"\n",
      "    let v0 : (unit -> UH0) = closure10()\n",
      "    UH0_0(9, v0)\n",
      "and closure8 () () : UH0 =\n",
      "    printfn $\"print_and_return / x: {8}\"\n",
      "    let v0 : (unit -> UH0) = closure9()\n",
      "    UH0_0(8, v0)\n",
      "and closure7 () () : UH0 =\n",
      "    printfn $\"print_and_return / x: {7}\"\n",
      "    let v0 : (unit -> UH0) = closure8()\n",
      "    UH0_0(7, v0)\n",
      "and closure6 () () : UH0 =\n",
      "    printfn $\"print_and_return / x: {6}\"\n",
      "    let v0 : (unit -> UH0) = closure7()\n",
      "    UH0_0(6, v0)\n",
      "and closure5 () () : UH0 =\n",
      "    printfn $\"print_and_return / x: {5}\"\n",
      "    let v0 : (unit -> UH0) = closure6()\n",
      "    UH0_0(5, v0)\n",
      "and closure4 () () : UH0 =\n",
      "    printfn $\"print_and_return / x: {4}\"\n",
      "    let v0 : (unit -> UH0) = closure5()\n",
      "    UH0_0(4, v0)\n",
      "and closure3 () () : UH0 =\n",
      "    printfn $\"print_and_return / x: {3}\"\n",
      "    let v0 : (unit -> UH0) = closure4()\n",
      "    UH0_0(3, v0)\n",
      "and closure2 () () : UH0 =\n",
      "    printfn $\"print_and_return / x: {2}\"\n",
      "    let v0 : (unit -> UH0) = closure3()\n",
      "    UH0_0(2, v0)\n",
      "and closure1 () () : UH0 =\n",
      "    printfn $\"print_and_return / x: {1}\"\n",
      "    let v0 : (unit -> UH0) = closure2()\n",
      "    UH0_0(1, v0)\n",
      "and closure0 () () : UH0 =\n",
      "    let v0 : (unit -> UH0) = closure1()\n",
      "    UH0_0(0, v0)\n",
      "and closure11 (v0 : Mut0) () : UH0 =\n",
      "    let v1 : US0 = v0.l0\n",
      "    match v1 with\n",
      "    | US0_0(v2) -> (* Computed *)\n",
      "        v2\n",
      "    | US0_1(v3) -> (* NotComputed *)\n",
      "        let v4 : UH0 = v3 ()\n",
      "        let v13 : UH0 =\n",
      "            match v4 with\n",
      "            | UH0_0(v6, v7) -> (* LazyCons *)\n",
      "                let v8 : US0 = US0_1(v7)\n",
      "                let v9 : Mut0 = {l0 = v8} : Mut0\n",
      "                let v10 : (unit -> UH0) = closure11(v9)\n",
      "                UH0_0(v6, v10)\n",
      "            | UH0_1 -> (* LazyNil *)\n",
      "                UH0_1\n",
      "        let v14 : US0 = US0_0(v13)\n",
      "        v0.l0 <- v14\n",
      "        v13\n",
      "and method2 (v0 : Mut1, v1 : Mut2) : US1 =\n",
      "    let v2 : UH0 = v1.l0\n",
      "    match v2 with\n",
      "    | UH0_0(v3, v4) -> (* LazyCons *)\n",
      "        let v5 : int32 = v0.l0\n",
      "        let v6 : bool = v5 = 0\n",
      "        if v6 then\n",
      "            US1_1(v3)\n",
      "        else\n",
      "            let v8 : int32 = v0.l0\n",
      "            let v9 : int32 = v8 - 1\n",
      "            v0.l0 <- v9\n",
      "            let v10 : UH0 = v4 ()\n",
      "            v1.l0 <- v10\n",
      "            method2(v0, v1)\n",
      "    | UH0_1 -> (* LazyNil *)\n",
      "        US1_0\n",
      "and method3 (v0 : UH1, v1 : UH1) : UH1 =\n",
      "    match v0 with\n",
      "    | UH1_0(v2, v3) -> (* Cons *)\n",
      "        let v4 : UH1 = UH1_0(v2, v1)\n",
      "        method3(v3, v4)\n",
      "    | UH1_1 -> (* Nil *)\n",
      "        v1\n",
      "and method1 (v0 : UH0, v1 : UH1, v2 : int32) : UH1 =\n",
      "    let v3 : Mut1 = {l0 = v2} : Mut1\n",
      "    let v4 : Mut2 = {l0 = v0} : Mut2\n",
      "    let v5 : US1 = method2(v3, v4)\n",
      "    let v9 : int32 =\n",
      "        match v5 with\n",
      "        | US1_0 -> (* None *)\n",
      "            failwith<int32> \"Option does not have a value.\"\n",
      "        | US1_1(v6) -> (* Some *)\n",
      "            v6\n",
      "    let v10 : bool = v9 < 5\n",
      "    if v10 then\n",
      "        let v11 : UH1 = UH1_0(v9, v1)\n",
      "        let v12 : int32 = v2 + 1\n",
      "        method1(v0, v11, v12)\n",
      "    else\n",
      "        let v14 : UH1 = UH1_1\n",
      "        method3(v1, v14)\n",
      "and method4 (v0 : UH1, v1 : int32) : int32 =\n",
      "    match v0 with\n",
      "    | UH1_0(v2, v3) -> (* Cons *)\n",
      "        let v4 : int32 = v1 + v2\n",
      "        method4(v3, v4)\n",
      "    | UH1_1 -> (* Nil *)\n",
      "        v1\n",
      "and method0 () : unit =\n",
      "    printfn $\"print_and_return / x: {0}\"\n",
      "    let v0 : (unit -> UH0) = closure0()\n",
      "    let v1 : US0 = US0_1(v0)\n",
      "    let v2 : Mut0 = {l0 = v1} : Mut0\n",
      "    let v3 : US0 = v2.l0\n",
      "    let v18 : UH0 =\n",
      "        match v3 with\n",
      "        | US0_0(v4) -> (* Computed *)\n",
      "            v4\n",
      "        | US0_1(v5) -> (* NotComputed *)\n",
      "            let v6 : UH0 = v5 ()\n",
      "            let v15 : UH0 =\n",
      "                match v6 with\n",
      "                | UH0_0(v8, v9) -> (* LazyCons *)\n",
      "                    let v10 : US0 = US0_1(v9)\n",
      "                    let v11 : Mut0 = {l0 = v10} : Mut0\n",
      "                    let v12 : (unit -> UH0) = closure11(v11)\n",
      "                    UH0_0(v8, v12)\n",
      "                | UH0_1 -> (* LazyNil *)\n",
      "                    UH0_1\n",
      "            let v16 : US0 = US0_0(v15)\n",
      "            v2.l0 <- v16\n",
      "            v15\n",
      "    let v19 : UH1 = UH1_1\n",
      "    let v20 : int32 = 0\n",
      "    let v21 : UH1 = method1(v18, v19, v20)\n",
      "    let v22 : int32 = 0\n",
      "    let v23 : int32 = method4(v21, v22)\n",
      "    let v24 : bool = v23 = 10\n",
      "    let v25 : string = $\"_equal / actual: %A{v23} / expected: %A{10}\"\n",
      "    let v26 : bool = v24 = false\n",
      "    if v26 then\n",
      "        failwith<unit> v25\n",
      "method0()\n",
      "\r\n",
      "print_and_return / x: 0\r\n",
      "print_and_return / x: 1\r\n",
      "print_and_return / x: 2\r\n",
      "print_and_return / x: 3\r\n",
      "print_and_return / x: 4\r\n",
      "print_and_return / x: 5\r\n"
     ]
    }
   ],
   "source": [
    "// // test\n",
    "\n",
    "listm'.new_finite_lazy_list print_and_return 10i32\n",
    "|> listm'.memoize_lazy_list\n",
    "|> fun list =>\n",
    "    inl list = list ()\n",
    "    fun n =>\n",
    "        list |> listm'.lazy_item_ n\n",
    "|> take_while_ (fun n _ => n < 5)\n",
    "|> listm'.sum\n",
    "|> _equal 10"
   ]
  },
  {
   "cell_type": "markdown",
   "metadata": {},
   "source": [
    "## take_while__"
   ]
  },
  {
   "cell_type": "code",
   "execution_count": null,
   "metadata": {
    "dotnet_interactive": {
     "language": "spiral"
    },
    "polyglot_notebook": {
     "kernelName": "spiral"
    }
   },
   "outputs": [
    {
     "name": "stdout",
     "output_type": "stream",
     "text": [
      "()\n",
      "\r\n"
     ]
    }
   ],
   "source": [
    "inl take_while__ cond sts =\n",
    "    inl result = mut []\n",
    "    inl i = mut 0i32\n",
    "    let rec loop () =\n",
    "        inl st = sts *i\n",
    "        if cond st *i then\n",
    "            result <- st :: *result\n",
    "            i <- *i + 1\n",
    "            loop ()\n",
    "        else *result |> listm.rev\n",
    "    loop ()"
   ]
  },
  {
   "cell_type": "code",
   "execution_count": null,
   "metadata": {
    "dotnet_interactive": {
     "language": "spiral"
    },
    "polyglot_notebook": {
     "kernelName": "spiral"
    }
   },
   "outputs": [
    {
     "name": "stdout",
     "output_type": "stream",
     "text": [
      "type UH0 =\n",
      "    | UH0_0 of int32 * (unit -> UH0)\n",
      "    | UH0_1\n",
      "and UH1 =\n",
      "    | UH1_0 of int32 * UH1\n",
      "    | UH1_1\n",
      "and Mut0 = {mutable l0 : UH1}\n",
      "and Mut1 = {mutable l0 : int32}\n",
      "and Mut2 = {mutable l0 : UH0}\n",
      "and [<Struct>] US0 =\n",
      "    | US0_0\n",
      "    | US0_1 of f1_0 : int32\n",
      "let rec closure0 (v0 : int32) () : UH0 =\n",
      "    let v1 : int32 = v0 + 1\n",
      "    method1(v1)\n",
      "and method1 (v0 : int32) : UH0 =\n",
      "    printfn $\"print_and_return / x: {v0}\"\n",
      "    let v1 : (unit -> UH0) = closure0(v0)\n",
      "    UH0_0(v0, v1)\n",
      "and method3 (v0 : Mut1, v1 : Mut2) : US0 =\n",
      "    let v2 : UH0 = v1.l0\n",
      "    match v2 with\n",
      "    | UH0_0(v3, v4) -> (* LazyCons *)\n",
      "        let v5 : int32 = v0.l0\n",
      "        let v6 : bool = v5 = 0\n",
      "        if v6 then\n",
      "            US0_1(v3)\n",
      "        else\n",
      "            let v8 : int32 = v0.l0\n",
      "            let v9 : int32 = v8 - 1\n",
      "            v0.l0 <- v9\n",
      "            let v10 : UH0 = v4 ()\n",
      "            v1.l0 <- v10\n",
      "            method3(v0, v1)\n",
      "    | UH0_1 -> (* LazyNil *)\n",
      "        US0_0\n",
      "and method4 (v0 : UH1, v1 : UH1) : UH1 =\n",
      "    match v0 with\n",
      "    | UH1_0(v2, v3) -> (* Cons *)\n",
      "        let v4 : UH1 = UH1_0(v2, v1)\n",
      "        method4(v3, v4)\n",
      "    | UH1_1 -> (* Nil *)\n",
      "        v1\n",
      "and method2 (v0 : UH0, v1 : Mut0, v2 : Mut1) : UH1 =\n",
      "    let v3 : int32 = v2.l0\n",
      "    let v4 : Mut1 = {l0 = v3} : Mut1\n",
      "    let v5 : Mut2 = {l0 = v0} : Mut2\n",
      "    let v6 : US0 = method3(v4, v5)\n",
      "    let v10 : int32 =\n",
      "        match v6 with\n",
      "        | US0_0 -> (* None *)\n",
      "            failwith<int32> \"Option does not have a value.\"\n",
      "        | US0_1(v7) -> (* Some *)\n",
      "            v7\n",
      "    let v11 : int32 = v2.l0\n",
      "    let v12 : bool = v10 < 5\n",
      "    if v12 then\n",
      "        let v13 : UH1 = v1.l0\n",
      "        let v14 : UH1 = UH1_0(v10, v13)\n",
      "        v1.l0 <- v14\n",
      "        let v15 : int32 = v2.l0\n",
      "        let v16 : int32 = v15 + 1\n",
      "        v2.l0 <- v16\n",
      "        method2(v0, v1, v2)\n",
      "    else\n",
      "        let v18 : UH1 = v1.l0\n",
      "        let v19 : UH1 = UH1_1\n",
      "        method4(v18, v19)\n",
      "and method5 (v0 : UH1, v1 : int32) : int32 =\n",
      "    match v0 with\n",
      "    | UH1_0(v2, v3) -> (* Cons *)\n",
      "        let v4 : int32 = v1 + v2\n",
      "        method5(v3, v4)\n",
      "    | UH1_1 -> (* Nil *)\n",
      "        v1\n",
      "and method0 () : unit =\n",
      "    let v0 : int32 = 0\n",
      "    let v1 : UH0 = method1(v0)\n",
      "    let v2 : UH1 = UH1_1\n",
      "    let v3 : Mut0 = {l0 = v2} : Mut0\n",
      "    let v4 : Mut1 = {l0 = 0} : Mut1\n",
      "    let v5 : UH1 = method2(v1, v3, v4)\n",
      "    let v6 : int32 = 0\n",
      "    let v7 : int32 = method5(v5, v6)\n",
      "    let v8 : bool = v7 = 10\n",
      "    let v9 : string = $\"_equal / actual: %A{v7} / expected: %A{10}\"\n",
      "    let v10 : bool = v8 = false\n",
      "    if v10 then\n",
      "        failwith<unit> v9\n",
      "method0()\n",
      "\r\n",
      "print_and_return / x: 0\r\n",
      "print_and_return / x: 1\r\n",
      "print_and_return / x: 1\r\n",
      "print_and_return / x: 2\r\n",
      "print_and_return / x: 1\r\n",
      "print_and_return / x: 2\r\n",
      "print_and_return / x: 3\r\n",
      "print_and_return / x: 1\r\n",
      "print_and_return / x: 2\r\n",
      "print_and_return / x: 3\r\n",
      "print_and_return / x: 4\r\n",
      "print_and_return / x: 1\r\n",
      "print_and_return / x: 2\r\n",
      "print_and_return / x: 3\r\n",
      "print_and_return / x: 4\r\n",
      "print_and_return / x: 5\r\n"
     ]
    }
   ],
   "source": [
    "// // test\n",
    "\n",
    "listm'.new_infinite_lazy_list_ print_and_return\n",
    "|> fun list =>\n",
    "    fun n =>\n",
    "        list |> listm'.lazy_item_ n\n",
    "|> take_while__ (fun n _ => n < 5i32)\n",
    "|> listm'.sum\n",
    "|> _equal 10"
   ]
  },
  {
   "cell_type": "markdown",
   "metadata": {},
   "source": [
    "## iterate"
   ]
  },
  {
   "cell_type": "code",
   "execution_count": null,
   "metadata": {
    "dotnet_interactive": {
     "language": "spiral"
    },
    "polyglot_notebook": {
     "kernelName": "spiral"
    }
   },
   "outputs": [
    {
     "name": "stdout",
     "output_type": "stream",
     "text": [
      "()\n",
      "\r\n"
     ]
    }
   ],
   "source": [
    "inl iterate f x0 num_steps =\n",
    "    inl rec loop x n =\n",
    "        if n <= 0\n",
    "        then x\n",
    "        else loop (f x) (n - 1)\n",
    "    loop x0 num_steps"
   ]
  },
  {
   "cell_type": "code",
   "execution_count": null,
   "metadata": {
    "dotnet_interactive": {
     "language": "spiral"
    },
    "polyglot_notebook": {
     "kernelName": "spiral"
    }
   },
   "outputs": [
    {
     "name": "stdout",
     "output_type": "stream",
     "text": [
      "let rec method0 () : unit =\n",
      "    let v0 : string = $\"_equal / actual: %A{11} / expected: %A{11}\"\n",
      "    ()\n",
      "method0()\n",
      "\r\n"
     ]
    }
   ],
   "source": [
    "// // test\n",
    "\n",
    "10i32 |> iterate ((+) 1) 1i32\n",
    "|> _equal 11"
   ]
  },
  {
   "cell_type": "code",
   "execution_count": null,
   "metadata": {
    "dotnet_interactive": {
     "language": "spiral"
    },
    "polyglot_notebook": {
     "kernelName": "spiral"
    }
   },
   "outputs": [
    {
     "name": "stdout",
     "output_type": "stream",
     "text": [
      "()\n",
      "\r\n"
     ]
    }
   ],
   "source": [
    "inl iterate_ f x0 num_steps =\n",
    "    let rec loop x n =\n",
    "        if n <= 0\n",
    "        then x\n",
    "        else loop (f x) (n - 1)\n",
    "    loop x0 num_steps"
   ]
  },
  {
   "cell_type": "code",
   "execution_count": null,
   "metadata": {
    "dotnet_interactive": {
     "language": "spiral"
    },
    "polyglot_notebook": {
     "kernelName": "spiral"
    }
   },
   "outputs": [
    {
     "name": "stdout",
     "output_type": "stream",
     "text": [
      "let rec method1 (v0 : int32, v1 : int32) : int32 =\n",
      "    let v2 : bool = v1 <= 0\n",
      "    if v2 then\n",
      "        v0\n",
      "    else\n",
      "        let v3 : int32 = 1 + v0\n",
      "        let v4 : int32 = v1 - 1\n",
      "        method1(v3, v4)\n",
      "and method0 () : unit =\n",
      "    let v0 : int32 = 1\n",
      "    let v1 : int32 = 10\n",
      "    let v2 : int32 = method1(v0, v1)\n",
      "    let v3 : bool = v2 = 11\n",
      "    let v4 : string = $\"_equal / actual: %A{v2} / expected: %A{11}\"\n",
      "    let v5 : bool = v3 = false\n",
      "    if v5 then\n",
      "        failwith<unit> v4\n",
      "method0()\n",
      "\r\n"
     ]
    }
   ],
   "source": [
    "// // test\n",
    "\n",
    "10i32 |> iterate_ ((+) 1) 1i32\n",
    "|> _equal 11"
   ]
  },
  {
   "cell_type": "code",
   "execution_count": null,
   "metadata": {
    "dotnet_interactive": {
     "language": "spiral"
    },
    "polyglot_notebook": {
     "kernelName": "spiral"
    }
   },
   "outputs": [
    {
     "name": "stdout",
     "output_type": "stream",
     "text": [
      "()\n",
      "\r\n"
     ]
    }
   ],
   "source": [
    "inl iterate' f x0 num_steps =\n",
    "    listm.init num_steps id\n",
    "    |> listm.fold (fun x _ => f x) x0"
   ]
  },
  {
   "cell_type": "code",
   "execution_count": null,
   "metadata": {
    "dotnet_interactive": {
     "language": "spiral"
    },
    "polyglot_notebook": {
     "kernelName": "spiral"
    }
   },
   "outputs": [
    {
     "name": "stdout",
     "output_type": "stream",
     "text": [
      "let rec method0 () : unit =\n",
      "    let v0 : string = $\"_equal / actual: %A{11} / expected: %A{11}\"\n",
      "    ()\n",
      "method0()\n",
      "\r\n"
     ]
    }
   ],
   "source": [
    "// // test\n",
    "\n",
    "10i32 |> iterate' ((+) 1) 1i32\n",
    "|> _equal 11"
   ]
  }
 ],
 "metadata": {},
 "nbformat": 4,
 "nbformat_minor": 5
}