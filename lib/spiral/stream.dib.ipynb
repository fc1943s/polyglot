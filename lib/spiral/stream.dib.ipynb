{
 "cells": [
  {
   "cell_type": "markdown",
   "metadata": {},
   "source": [
    "# stream"
   ]
  },
  {
   "cell_type": "code",
   "execution_count": null,
   "metadata": {
    "dotnet_interactive": {
     "language": "spiral"
    },
    "polyglot_notebook": {
     "kernelName": "spiral"
    }
   },
   "outputs": [
    {
     "name": "stdout",
     "output_type": "stream",
     "text": [
      "()\n",
      "\r\n"
     ]
    }
   ],
   "source": [
    "// // test\n",
    "\n",
    "open testing"
   ]
  },
  {
   "cell_type": "code",
   "execution_count": null,
   "metadata": {
    "dotnet_interactive": {
     "language": "spiral"
    },
    "polyglot_notebook": {
     "kernelName": "spiral"
    }
   },
   "outputs": [
    {
     "name": "stdout",
     "output_type": "stream",
     "text": [
      "()\n",
      "\r\n"
     ]
    }
   ],
   "source": [
    "union rec stream t =\n",
    "    | StreamCons : t * (() -> stream t)\n",
    "    | StreamNil"
   ]
  },
  {
   "cell_type": "markdown",
   "metadata": {},
   "source": [
    "## from_list"
   ]
  },
  {
   "cell_type": "code",
   "execution_count": null,
   "metadata": {
    "dotnet_interactive": {
     "language": "spiral"
    },
    "polyglot_notebook": {
     "kernelName": "spiral"
    }
   },
   "outputs": [
    {
     "name": "stdout",
     "output_type": "stream",
     "text": [
      "()\n",
      "\r\n"
     ]
    }
   ],
   "source": [
    "inl rec from_list list =\n",
    "    match list with\n",
    "    | [] => StreamNil\n",
    "    | x :: xs => StreamCons (x, fun () => from_list xs)"
   ]
  },
  {
   "cell_type": "markdown",
   "metadata": {},
   "source": [
    "## try_item"
   ]
  },
  {
   "cell_type": "code",
   "execution_count": null,
   "metadata": {
    "dotnet_interactive": {
     "language": "spiral"
    },
    "polyglot_notebook": {
     "kernelName": "spiral"
    }
   },
   "outputs": [
    {
     "name": "stdout",
     "output_type": "stream",
     "text": [
      "()\n",
      "\r\n"
     ]
    }
   ],
   "source": [
    "inl rec try_item i = function\n",
    "    | StreamCons (x, _) when i = 0 => Some x\n",
    "    | StreamCons (_, fn) => try_item (i - 1) (fn ())\n",
    "    | StreamNil => None\n",
    "\n",
    "inl item i =\n",
    "    try_item i >> optionm.value"
   ]
  },
  {
   "cell_type": "code",
   "execution_count": null,
   "metadata": {
    "dotnet_interactive": {
     "language": "spiral"
    },
    "polyglot_notebook": {
     "kernelName": "spiral"
    }
   },
   "outputs": [
    {
     "name": "stdout",
     "output_type": "stream",
     "text": [
      "let rec method0 () : unit =\n",
      "    let v0 : string = $\"_equal / actual: %A{9} / expected: %A{9}\"\n",
      "    ()\n",
      "method0()\n",
      "\r\n"
     ]
    }
   ],
   "source": [
    "// // test\n",
    "\n",
    "listm.init 10i32 id\n",
    "|> from_list\n",
    "|> item 9i32\n",
    "|> _equal 9"
   ]
  },
  {
   "cell_type": "code",
   "execution_count": null,
   "metadata": {
    "dotnet_interactive": {
     "language": "spiral"
    },
    "polyglot_notebook": {
     "kernelName": "spiral"
    }
   },
   "outputs": [
    {
     "name": "stdout",
     "output_type": "stream",
     "text": [
      "()\n",
      "\r\n"
     ]
    }
   ],
   "source": [
    "inl try_item_ i list =\n",
    "    inl i = mut i\n",
    "    inl list = mut list\n",
    "    let rec loop () =\n",
    "        match *list with\n",
    "        | StreamCons (x, _) when *i = 0 => Some x\n",
    "        | StreamCons (_, fn) =>\n",
    "            i <- *i - 1\n",
    "            list <- fn ()\n",
    "            loop ()\n",
    "        | StreamNil => None\n",
    "    loop ()\n",
    "\n",
    "inl item_ i =\n",
    "    try_item_ i >> optionm.value\n",
    "\n",
    "let rec try_item__ i list =\n",
    "    inl i = mut i\n",
    "    inl list = mut list\n",
    "    inl result = mut None\n",
    "    let rec loop () =\n",
    "        match *list with\n",
    "        | StreamCons (x, _) when *i = 0 => result <- Some x\n",
    "        | StreamCons (_, fn) =>\n",
    "            i <- *i - 1\n",
    "            list <- fn ()\n",
    "            loop ()\n",
    "        | StreamNil => ()\n",
    "    loop ()\n",
    "    *result\n",
    "\n",
    "inl item__ i =\n",
    "    try_item__ i >> optionm.value"
   ]
  },
  {
   "cell_type": "code",
   "execution_count": null,
   "metadata": {
    "dotnet_interactive": {
     "language": "spiral"
    },
    "polyglot_notebook": {
     "kernelName": "spiral"
    }
   },
   "outputs": [
    {
     "name": "stdout",
     "output_type": "stream",
     "text": [
      "type Mut0 = {mutable l0 : int32}\n",
      "and UH0 =\n",
      "    | UH0_0 of int32 * (unit -> UH0)\n",
      "    | UH0_1\n",
      "and Mut1 = {mutable l0 : UH0}\n",
      "and [<Struct>] US0 =\n",
      "    | US0_0\n",
      "    | US0_1 of f1_0 : int32\n",
      "let rec closure9 () () : UH0 =\n",
      "    UH0_1\n",
      "and closure8 () () : UH0 =\n",
      "    let v0 : (unit -> UH0) = closure9()\n",
      "    UH0_0(9, v0)\n",
      "and closure7 () () : UH0 =\n",
      "    let v0 : (unit -> UH0) = closure8()\n",
      "    UH0_0(8, v0)\n",
      "and closure6 () () : UH0 =\n",
      "    let v0 : (unit -> UH0) = closure7()\n",
      "    UH0_0(7, v0)\n",
      "and closure5 () () : UH0 =\n",
      "    let v0 : (unit -> UH0) = closure6()\n",
      "    UH0_0(6, v0)\n",
      "and closure4 () () : UH0 =\n",
      "    let v0 : (unit -> UH0) = closure5()\n",
      "    UH0_0(5, v0)\n",
      "and closure3 () () : UH0 =\n",
      "    let v0 : (unit -> UH0) = closure4()\n",
      "    UH0_0(4, v0)\n",
      "and closure2 () () : UH0 =\n",
      "    let v0 : (unit -> UH0) = closure3()\n",
      "    UH0_0(3, v0)\n",
      "and closure1 () () : UH0 =\n",
      "    let v0 : (unit -> UH0) = closure2()\n",
      "    UH0_0(2, v0)\n",
      "and closure0 () () : UH0 =\n",
      "    let v0 : (unit -> UH0) = closure1()\n",
      "    UH0_0(1, v0)\n",
      "and method1 (v0 : Mut0, v1 : Mut1) : US0 =\n",
      "    let v2 : UH0 = v1.l0\n",
      "    match v2 with\n",
      "    | UH0_0(v3, v4) -> (* StreamCons *)\n",
      "        let v5 : int32 = v0.l0\n",
      "        let v6 : bool = v5 = 0\n",
      "        if v6 then\n",
      "            US0_1(v3)\n",
      "        else\n",
      "            let v8 : int32 = v0.l0\n",
      "            let v9 : int32 = v8 - 1\n",
      "            v0.l0 <- v9\n",
      "            let v10 : UH0 = v4 ()\n",
      "            v1.l0 <- v10\n",
      "            method1(v0, v1)\n",
      "    | UH0_1 -> (* StreamNil *)\n",
      "        US0_0\n",
      "and method0 () : unit =\n",
      "    let v0 : Mut0 = {l0 = 9} : Mut0\n",
      "    let v1 : (unit -> UH0) = closure0()\n",
      "    let v2 : UH0 = UH0_0(0, v1)\n",
      "    let v3 : Mut1 = {l0 = v2} : Mut1\n",
      "    let v4 : US0 = method1(v0, v3)\n",
      "    let v8 : int32 =\n",
      "        match v4 with\n",
      "        | US0_0 -> (* None *)\n",
      "            failwith<int32> \"Option does not have a value.\"\n",
      "        | US0_1(v5) -> (* Some *)\n",
      "            v5\n",
      "    let v9 : bool = v8 = 9\n",
      "    let v10 : string = $\"_equal / actual: %A{v8} / expected: %A{9}\"\n",
      "    let v11 : bool = v9 = false\n",
      "    if v11 then\n",
      "        failwith<unit> v10\n",
      "method0()\n",
      "\r\n"
     ]
    }
   ],
   "source": [
    "// // test\n",
    "\n",
    "listm.init 10i32 id\n",
    "|> from_list\n",
    "|> item_ 9i32\n",
    "|> _equal 9"
   ]
  },
  {
   "cell_type": "markdown",
   "metadata": {},
   "source": [
    "## new_infinite_stream"
   ]
  },
  {
   "cell_type": "code",
   "execution_count": null,
   "metadata": {
    "dotnet_interactive": {
     "language": "spiral"
    },
    "polyglot_notebook": {
     "kernelName": "spiral"
    }
   },
   "outputs": [
    {
     "name": "stdout",
     "output_type": "stream",
     "text": [
      "()\n",
      "\r\n"
     ]
    }
   ],
   "source": [
    "inl new_infinite_stream fn =\n",
    "    inl rec loop n =\n",
    "        StreamCons (fn n, fun () => loop (n + 1))\n",
    "    loop 0\n",
    "\n",
    "inl new_infinite_stream_ fn =\n",
    "    let rec loop n =\n",
    "        StreamCons (fn n, fun () => loop (n + 1))\n",
    "    loop 0"
   ]
  },
  {
   "cell_type": "code",
   "execution_count": null,
   "metadata": {
    "dotnet_interactive": {
     "language": "spiral"
    },
    "polyglot_notebook": {
     "kernelName": "spiral"
    }
   },
   "outputs": [
    {
     "name": "stdout",
     "output_type": "stream",
     "text": [
      "let rec method0 () : unit =\n",
      "    printfn $\"print_and_return / x: {0}\"\n",
      "    printfn $\"print_and_return / x: {1}\"\n",
      "    printfn $\"print_and_return / x: {2}\"\n",
      "    printfn $\"print_and_return / x: {3}\"\n",
      "    printfn $\"print_and_return / x: {4}\"\n",
      "    let v0 : string = $\"_equal / actual: %A{4} / expected: %A{4}\"\n",
      "    ()\n",
      "method0()\n",
      "\r\n",
      "print_and_return / x: 0\r\n",
      "print_and_return / x: 1\r\n",
      "print_and_return / x: 2\r\n",
      "print_and_return / x: 3\r\n",
      "print_and_return / x: 4\r\n"
     ]
    }
   ],
   "source": [
    "// // test\n",
    "\n",
    "new_infinite_stream print_and_return\n",
    "|> item 4i32\n",
    "|> _equal 4i32"
   ]
  },
  {
   "cell_type": "markdown",
   "metadata": {},
   "source": [
    "## new_finite_stream"
   ]
  },
  {
   "cell_type": "code",
   "execution_count": null,
   "metadata": {
    "dotnet_interactive": {
     "language": "spiral"
    },
    "polyglot_notebook": {
     "kernelName": "spiral"
    }
   },
   "outputs": [
    {
     "name": "stdout",
     "output_type": "stream",
     "text": [
      "()\n",
      "\r\n"
     ]
    }
   ],
   "source": [
    "inl new_finite_stream fn max =\n",
    "    inl rec loop n =\n",
    "        if n >= max\n",
    "        then StreamNil\n",
    "        else StreamCons (fn n, fun () => loop (n + 1))\n",
    "    loop 0\n",
    "\n",
    "inl new_finite_stream_ fn max =\n",
    "    let rec loop n =\n",
    "        if n >= max\n",
    "        then StreamNil\n",
    "        else StreamCons (fn n, fun () => loop (n + 1))\n",
    "    loop 0"
   ]
  },
  {
   "cell_type": "markdown",
   "metadata": {},
   "source": [
    "## memoize"
   ]
  },
  {
   "cell_type": "code",
   "execution_count": null,
   "metadata": {
    "dotnet_interactive": {
     "language": "spiral"
    },
    "polyglot_notebook": {
     "kernelName": "spiral"
    }
   },
   "outputs": [
    {
     "name": "stdout",
     "output_type": "stream",
     "text": [
      "()\n",
      "\r\n"
     ]
    }
   ],
   "source": [
    "union memoized_stream t =\n",
    "    | NotComputed : () -> stream t\n",
    "    | Computed : stream t\n",
    "\n",
    "inl memoize s =\n",
    "    inl rec loop s =\n",
    "        inl state = mut (NotComputed s)\n",
    "        fun () =>\n",
    "            match *state with\n",
    "            | Computed x => x\n",
    "            | NotComputed fn =>\n",
    "                inl new_state =\n",
    "                    match fn () with\n",
    "                    | StreamNil => StreamNil\n",
    "                    | StreamCons (x, fn) => StreamCons (x, loop fn)\n",
    "                state <- Computed new_state\n",
    "                new_state\n",
    "    loop (fun () => s)\n",
    "\n",
    "inl memoize_ s =\n",
    "    let rec loop s =\n",
    "        inl state = mut (NotComputed s)\n",
    "        fun () =>\n",
    "            match *state with\n",
    "            | Computed x => x\n",
    "            | NotComputed fn =>\n",
    "                inl new_state =\n",
    "                    match fn () with\n",
    "                    | StreamNil => StreamNil\n",
    "                    | StreamCons (x, fn) => StreamCons (x, loop fn)\n",
    "                state <- Computed new_state\n",
    "                new_state\n",
    "    loop (fun () => s)"
   ]
  },
  {
   "cell_type": "code",
   "execution_count": null,
   "metadata": {
    "dotnet_interactive": {
     "language": "spiral"
    },
    "polyglot_notebook": {
     "kernelName": "spiral"
    }
   },
   "outputs": [
    {
     "name": "stdout",
     "output_type": "stream",
     "text": [
      "type UH0 =\n",
      "    | UH0_0 of int32 * (unit -> UH0)\n",
      "    | UH0_1\n",
      "and [<Struct>] US0 =\n",
      "    | US0_0 of f0_0 : UH0\n",
      "    | US0_1 of f1_0 : (unit -> UH0)\n",
      "and Mut0 = {mutable l0 : US0}\n",
      "and [<Struct>] US1 =\n",
      "    | US1_0\n",
      "    | US1_1 of f1_0 : int32\n",
      "let rec closure10 () () : UH0 =\n",
      "    UH0_1\n",
      "and closure9 () () : UH0 =\n",
      "    printfn $\"print_and_return / x: {9}\"\n",
      "    let v0 : (unit -> UH0) = closure10()\n",
      "    UH0_0(9, v0)\n",
      "and closure8 () () : UH0 =\n",
      "    printfn $\"print_and_return / x: {8}\"\n",
      "    let v0 : (unit -> UH0) = closure9()\n",
      "    UH0_0(8, v0)\n",
      "and closure7 () () : UH0 =\n",
      "    printfn $\"print_and_return / x: {7}\"\n",
      "    let v0 : (unit -> UH0) = closure8()\n",
      "    UH0_0(7, v0)\n",
      "and closure6 () () : UH0 =\n",
      "    printfn $\"print_and_return / x: {6}\"\n",
      "    let v0 : (unit -> UH0) = closure7()\n",
      "    UH0_0(6, v0)\n",
      "and closure5 () () : UH0 =\n",
      "    printfn $\"print_and_return / x: {5}\"\n",
      "    let v0 : (unit -> UH0) = closure6()\n",
      "    UH0_0(5, v0)\n",
      "and closure4 () () : UH0 =\n",
      "    printfn $\"print_and_return / x: {4}\"\n",
      "    let v0 : (unit -> UH0) = closure5()\n",
      "    UH0_0(4, v0)\n",
      "and closure3 () () : UH0 =\n",
      "    printfn $\"print_and_return / x: {3}\"\n",
      "    let v0 : (unit -> UH0) = closure4()\n",
      "    UH0_0(3, v0)\n",
      "and closure2 () () : UH0 =\n",
      "    printfn $\"print_and_return / x: {2}\"\n",
      "    let v0 : (unit -> UH0) = closure3()\n",
      "    UH0_0(2, v0)\n",
      "and closure1 () () : UH0 =\n",
      "    printfn $\"print_and_return / x: {1}\"\n",
      "    let v0 : (unit -> UH0) = closure2()\n",
      "    UH0_0(1, v0)\n",
      "and closure0 () () : UH0 =\n",
      "    let v0 : (unit -> UH0) = closure1()\n",
      "    UH0_0(0, v0)\n",
      "and closure11 (v0 : Mut0) () : UH0 =\n",
      "    let v1 : US0 = v0.l0\n",
      "    match v1 with\n",
      "    | US0_0(v2) -> (* Computed *)\n",
      "        v2\n",
      "    | US0_1(v3) -> (* NotComputed *)\n",
      "        let v4 : UH0 = v3 ()\n",
      "        let v13 : UH0 =\n",
      "            match v4 with\n",
      "            | UH0_0(v6, v7) -> (* StreamCons *)\n",
      "                let v8 : US0 = US0_1(v7)\n",
      "                let v9 : Mut0 = {l0 = v8} : Mut0\n",
      "                let v10 : (unit -> UH0) = closure11(v9)\n",
      "                UH0_0(v6, v10)\n",
      "            | UH0_1 -> (* StreamNil *)\n",
      "                UH0_1\n",
      "        let v14 : US0 = US0_0(v13)\n",
      "        v0.l0 <- v14\n",
      "        v13\n",
      "and method0 () : unit =\n",
      "    printfn $\"print_and_return / x: {0}\"\n",
      "    let v0 : (unit -> UH0) = closure0()\n",
      "    let v1 : US0 = US0_1(v0)\n",
      "    let v2 : Mut0 = {l0 = v1} : Mut0\n",
      "    let v3 : US0 = v2.l0\n",
      "    let v18 : UH0 =\n",
      "        match v3 with\n",
      "        | US0_0(v4) -> (* Computed *)\n",
      "            v4\n",
      "        | US0_1(v5) -> (* NotComputed *)\n",
      "            let v6 : UH0 = v5 ()\n",
      "            let v15 : UH0 =\n",
      "                match v6 with\n",
      "                | UH0_0(v8, v9) -> (* StreamCons *)\n",
      "                    let v10 : US0 = US0_1(v9)\n",
      "                    let v11 : Mut0 = {l0 = v10} : Mut0\n",
      "                    let v12 : (unit -> UH0) = closure11(v11)\n",
      "                    UH0_0(v8, v12)\n",
      "                | UH0_1 -> (* StreamNil *)\n",
      "                    UH0_1\n",
      "            let v16 : US0 = US0_0(v15)\n",
      "            v2.l0 <- v16\n",
      "            v15\n",
      "    let v42 : US1 =\n",
      "        match v18 with\n",
      "        | UH0_0(v19, v20) -> (* StreamCons *)\n",
      "            let v21 : UH0 = v20 ()\n",
      "            match v21 with\n",
      "            | UH0_0(v22, v23) -> (* StreamCons *)\n",
      "                let v24 : UH0 = v23 ()\n",
      "                match v24 with\n",
      "                | UH0_0(v25, v26) -> (* StreamCons *)\n",
      "                    let v27 : UH0 = v26 ()\n",
      "                    match v27 with\n",
      "                    | UH0_0(v28, v29) -> (* StreamCons *)\n",
      "                        US1_1(v28)\n",
      "                    | UH0_1 -> (* StreamNil *)\n",
      "                        US1_0\n",
      "                | UH0_1 -> (* StreamNil *)\n",
      "                    US1_0\n",
      "            | UH0_1 -> (* StreamNil *)\n",
      "                US1_0\n",
      "        | UH0_1 -> (* StreamNil *)\n",
      "            US1_0\n",
      "    let v46 : int32 =\n",
      "        match v42 with\n",
      "        | US1_0 -> (* None *)\n",
      "            failwith<int32> \"Option does not have a value.\"\n",
      "        | US1_1(v43) -> (* Some *)\n",
      "            v43\n",
      "    let v47 : bool = v46 = 3\n",
      "    let v48 : string = $\"_equal / actual: %A{v46} / expected: %A{3}\"\n",
      "    let v49 : bool = v47 = false\n",
      "    if v49 then\n",
      "        failwith<unit> v48\n",
      "    let v50 : US0 = v2.l0\n",
      "    let v65 : UH0 =\n",
      "        match v50 with\n",
      "        | US0_0(v51) -> (* Computed *)\n",
      "            v51\n",
      "        | US0_1(v52) -> (* NotComputed *)\n",
      "            let v53 : UH0 = v52 ()\n",
      "            let v62 : UH0 =\n",
      "                match v53 with\n",
      "                | UH0_0(v55, v56) -> (* StreamCons *)\n",
      "                    let v57 : US0 = US0_1(v56)\n",
      "                    let v58 : Mut0 = {l0 = v57} : Mut0\n",
      "                    let v59 : (unit -> UH0) = closure11(v58)\n",
      "                    UH0_0(v55, v59)\n",
      "                | UH0_1 -> (* StreamNil *)\n",
      "                    UH0_1\n",
      "            let v63 : US0 = US0_0(v62)\n",
      "            v2.l0 <- v63\n",
      "            v62\n",
      "    let v101 : US1 =\n",
      "        match v65 with\n",
      "        | UH0_0(v66, v67) -> (* StreamCons *)\n",
      "            let v68 : UH0 = v67 ()\n",
      "            match v68 with\n",
      "            | UH0_0(v69, v70) -> (* StreamCons *)\n",
      "                let v71 : UH0 = v70 ()\n",
      "                match v71 with\n",
      "                | UH0_0(v72, v73) -> (* StreamCons *)\n",
      "                    let v74 : UH0 = v73 ()\n",
      "                    match v74 with\n",
      "                    | UH0_0(v75, v76) -> (* StreamCons *)\n",
      "                        let v77 : UH0 = v76 ()\n",
      "                        match v77 with\n",
      "                        | UH0_0(v78, v79) -> (* StreamCons *)\n",
      "                            let v80 : UH0 = v79 ()\n",
      "                            match v80 with\n",
      "                            | UH0_0(v81, v82) -> (* StreamCons *)\n",
      "                                US1_1(v81)\n",
      "                            | UH0_1 -> (* StreamNil *)\n",
      "                                US1_0\n",
      "                        | UH0_1 -> (* StreamNil *)\n",
      "                            US1_0\n",
      "                    | UH0_1 -> (* StreamNil *)\n",
      "                        US1_0\n",
      "                | UH0_1 -> (* StreamNil *)\n",
      "                    US1_0\n",
      "            | UH0_1 -> (* StreamNil *)\n",
      "                US1_0\n",
      "        | UH0_1 -> (* StreamNil *)\n",
      "            US1_0\n",
      "    let v105 : int32 =\n",
      "        match v101 with\n",
      "        | US1_0 -> (* None *)\n",
      "            failwith<int32> \"Option does not have a value.\"\n",
      "        | US1_1(v102) -> (* Some *)\n",
      "            v102\n",
      "    let v106 : bool = v105 = 5\n",
      "    let v107 : string = $\"_equal / actual: %A{v105} / expected: %A{5}\"\n",
      "    let v108 : bool = v106 = false\n",
      "    if v108 then\n",
      "        failwith<unit> v107\n",
      "method0()\n",
      "\r\n",
      "print_and_return / x: 0\r\n",
      "print_and_return / x: 1\r\n",
      "print_and_return / x: 2\r\n",
      "print_and_return / x: 3\r\n",
      "print_and_return / x: 4\r\n",
      "print_and_return / x: 5\r\n"
     ]
    }
   ],
   "source": [
    "// // test\n",
    "\n",
    "inl memo_stream = new_finite_stream print_and_return 10 |> memoize\n",
    "\n",
    "memo_stream ()\n",
    "|> item 3i32\n",
    "|> _equal 3i32\n",
    "\n",
    "memo_stream ()\n",
    "|> item 5i32\n",
    "|> _equal 5i32"
   ]
  },
  {
   "cell_type": "code",
   "execution_count": null,
   "metadata": {
    "dotnet_interactive": {
     "language": "spiral"
    },
    "polyglot_notebook": {
     "kernelName": "spiral"
    }
   },
   "outputs": [
    {
     "name": "stdout",
     "output_type": "stream",
     "text": [
      "type UH0 =\n",
      "    | UH0_0 of int32 * (unit -> UH0)\n",
      "    | UH0_1\n",
      "and [<Struct>] US0 =\n",
      "    | US0_0 of f0_0 : UH0\n",
      "    | US0_1 of f1_0 : (unit -> UH0)\n",
      "and Mut0 = {mutable l0 : US0}\n",
      "and [<Struct>] US1 =\n",
      "    | US1_0\n",
      "    | US1_1 of f1_0 : int32\n",
      "let rec closure0 (v0 : int32) () : UH0 =\n",
      "    let v1 : int32 = v0 + 1\n",
      "    method1(v1)\n",
      "and method1 (v0 : int32) : UH0 =\n",
      "    printfn $\"print_and_return / x: {v0}\"\n",
      "    let v1 : (unit -> UH0) = closure0(v0)\n",
      "    UH0_0(v0, v1)\n",
      "and closure1 (v0 : UH0) () : UH0 =\n",
      "    v0\n",
      "and closure2 (v0 : Mut0) () : UH0 =\n",
      "    let v1 : US0 = v0.l0\n",
      "    match v1 with\n",
      "    | US0_0(v2) -> (* Computed *)\n",
      "        v2\n",
      "    | US0_1(v3) -> (* NotComputed *)\n",
      "        let v4 : UH0 = v3 ()\n",
      "        let v13 : UH0 =\n",
      "            match v4 with\n",
      "            | UH0_0(v6, v7) -> (* StreamCons *)\n",
      "                let v8 : US0 = US0_1(v7)\n",
      "                let v9 : Mut0 = {l0 = v8} : Mut0\n",
      "                let v10 : (unit -> UH0) = closure2(v9)\n",
      "                UH0_0(v6, v10)\n",
      "            | UH0_1 -> (* StreamNil *)\n",
      "                UH0_1\n",
      "        let v14 : US0 = US0_0(v13)\n",
      "        v0.l0 <- v14\n",
      "        v13\n",
      "and method0 () : unit =\n",
      "    let v0 : int32 = 0\n",
      "    let v1 : UH0 = method1(v0)\n",
      "    let v2 : (unit -> UH0) = closure1(v1)\n",
      "    let v3 : US0 = US0_1(v2)\n",
      "    let v4 : Mut0 = {l0 = v3} : Mut0\n",
      "    let v5 : US0 = v4.l0\n",
      "    let v20 : UH0 =\n",
      "        match v5 with\n",
      "        | US0_0(v6) -> (* Computed *)\n",
      "            v6\n",
      "        | US0_1(v7) -> (* NotComputed *)\n",
      "            let v8 : UH0 = v7 ()\n",
      "            let v17 : UH0 =\n",
      "                match v8 with\n",
      "                | UH0_0(v10, v11) -> (* StreamCons *)\n",
      "                    let v12 : US0 = US0_1(v11)\n",
      "                    let v13 : Mut0 = {l0 = v12} : Mut0\n",
      "                    let v14 : (unit -> UH0) = closure2(v13)\n",
      "                    UH0_0(v10, v14)\n",
      "                | UH0_1 -> (* StreamNil *)\n",
      "                    UH0_1\n",
      "            let v18 : US0 = US0_0(v17)\n",
      "            v4.l0 <- v18\n",
      "            v17\n",
      "    let v44 : US1 =\n",
      "        match v20 with\n",
      "        | UH0_0(v21, v22) -> (* StreamCons *)\n",
      "            let v23 : UH0 = v22 ()\n",
      "            match v23 with\n",
      "            | UH0_0(v24, v25) -> (* StreamCons *)\n",
      "                let v26 : UH0 = v25 ()\n",
      "                match v26 with\n",
      "                | UH0_0(v27, v28) -> (* StreamCons *)\n",
      "                    let v29 : UH0 = v28 ()\n",
      "                    match v29 with\n",
      "                    | UH0_0(v30, v31) -> (* StreamCons *)\n",
      "                        US1_1(v30)\n",
      "                    | UH0_1 -> (* StreamNil *)\n",
      "                        US1_0\n",
      "                | UH0_1 -> (* StreamNil *)\n",
      "                    US1_0\n",
      "            | UH0_1 -> (* StreamNil *)\n",
      "                US1_0\n",
      "        | UH0_1 -> (* StreamNil *)\n",
      "            US1_0\n",
      "    let v48 : int32 =\n",
      "        match v44 with\n",
      "        | US1_0 -> (* None *)\n",
      "            failwith<int32> \"Option does not have a value.\"\n",
      "        | US1_1(v45) -> (* Some *)\n",
      "            v45\n",
      "    let v49 : bool = v48 = 3\n",
      "    let v50 : string = $\"_equal / actual: %A{v48} / expected: %A{3}\"\n",
      "    let v51 : bool = v49 = false\n",
      "    if v51 then\n",
      "        failwith<unit> v50\n",
      "    let v52 : US0 = v4.l0\n",
      "    let v67 : UH0 =\n",
      "        match v52 with\n",
      "        | US0_0(v53) -> (* Computed *)\n",
      "            v53\n",
      "        | US0_1(v54) -> (* NotComputed *)\n",
      "            let v55 : UH0 = v54 ()\n",
      "            let v64 : UH0 =\n",
      "                match v55 with\n",
      "                | UH0_0(v57, v58) -> (* StreamCons *)\n",
      "                    let v59 : US0 = US0_1(v58)\n",
      "                    let v60 : Mut0 = {l0 = v59} : Mut0\n",
      "                    let v61 : (unit -> UH0) = closure2(v60)\n",
      "                    UH0_0(v57, v61)\n",
      "                | UH0_1 -> (* StreamNil *)\n",
      "                    UH0_1\n",
      "            let v65 : US0 = US0_0(v64)\n",
      "            v4.l0 <- v65\n",
      "            v64\n",
      "    let v103 : US1 =\n",
      "        match v67 with\n",
      "        | UH0_0(v68, v69) -> (* StreamCons *)\n",
      "            let v70 : UH0 = v69 ()\n",
      "            match v70 with\n",
      "            | UH0_0(v71, v72) -> (* StreamCons *)\n",
      "                let v73 : UH0 = v72 ()\n",
      "                match v73 with\n",
      "                | UH0_0(v74, v75) -> (* StreamCons *)\n",
      "                    let v76 : UH0 = v75 ()\n",
      "                    match v76 with\n",
      "                    | UH0_0(v77, v78) -> (* StreamCons *)\n",
      "                        let v79 : UH0 = v78 ()\n",
      "                        match v79 with\n",
      "                        | UH0_0(v80, v81) -> (* StreamCons *)\n",
      "                            let v82 : UH0 = v81 ()\n",
      "                            match v82 with\n",
      "                            | UH0_0(v83, v84) -> (* StreamCons *)\n",
      "                                US1_1(v83)\n",
      "                            | UH0_1 -> (* StreamNil *)\n",
      "                                US1_0\n",
      "                        | UH0_1 -> (* StreamNil *)\n",
      "                            US1_0\n",
      "                    | UH0_1 -> (* StreamNil *)\n",
      "                        US1_0\n",
      "                | UH0_1 -> (* StreamNil *)\n",
      "                    US1_0\n",
      "            | UH0_1 -> (* StreamNil *)\n",
      "                US1_0\n",
      "        | UH0_1 -> (* StreamNil *)\n",
      "            US1_0\n",
      "    let v107 : int32 =\n",
      "        match v103 with\n",
      "        | US1_0 -> (* None *)\n",
      "            failwith<int32> \"Option does not have a value.\"\n",
      "        | US1_1(v104) -> (* Some *)\n",
      "            v104\n",
      "    let v108 : bool = v107 = 5\n",
      "    let v109 : string = $\"_equal / actual: %A{v107} / expected: %A{5}\"\n",
      "    let v110 : bool = v108 = false\n",
      "    if v110 then\n",
      "        failwith<unit> v109\n",
      "method0()\n",
      "\r\n",
      "print_and_return / x: 0\r\n",
      "print_and_return / x: 1\r\n",
      "print_and_return / x: 2\r\n",
      "print_and_return / x: 3\r\n",
      "print_and_return / x: 4\r\n",
      "print_and_return / x: 5\r\n"
     ]
    }
   ],
   "source": [
    "// // test\n",
    "\n",
    "inl memo_stream = new_infinite_stream_ print_and_return |> memoize\n",
    "\n",
    "memo_stream ()\n",
    "|> item 3i32\n",
    "|> _equal 3i32\n",
    "\n",
    "memo_stream ()\n",
    "|> item 5i32\n",
    "|> _equal 5i32"
   ]
  },
  {
   "cell_type": "markdown",
   "metadata": {},
   "source": [
    "## unfold"
   ]
  },
  {
   "cell_type": "code",
   "execution_count": null,
   "metadata": {
    "dotnet_interactive": {
     "language": "spiral"
    },
    "polyglot_notebook": {
     "kernelName": "spiral"
    }
   },
   "outputs": [
    {
     "name": "stdout",
     "output_type": "stream",
     "text": [
      "()\n",
      "\r\n"
     ]
    }
   ],
   "source": [
    "inl unfold f x0 =\n",
    "    inl rec loop x =\n",
    "        match f x with\n",
    "        | Some (x', y) => StreamCons (x', fun () => loop y)\n",
    "        | None => StreamNil\n",
    "    loop x0"
   ]
  },
  {
   "cell_type": "markdown",
   "metadata": {},
   "source": [
    "## iterate"
   ]
  },
  {
   "cell_type": "code",
   "execution_count": null,
   "metadata": {
    "dotnet_interactive": {
     "language": "spiral"
    },
    "polyglot_notebook": {
     "kernelName": "spiral"
    }
   },
   "outputs": [
    {
     "name": "stdout",
     "output_type": "stream",
     "text": [
      "()\n",
      "\r\n"
     ]
    }
   ],
   "source": [
    "inl iterate f =\n",
    "    unfold (fun x => Some (x, f x))"
   ]
  },
  {
   "cell_type": "code",
   "execution_count": null,
   "metadata": {
    "dotnet_interactive": {
     "language": "spiral"
    },
    "polyglot_notebook": {
     "kernelName": "spiral"
    }
   },
   "outputs": [
    {
     "name": "stdout",
     "output_type": "stream",
     "text": [
      "let rec method0 () : unit =\n",
      "    let v0 : string = $\"_equal / actual: %A{1024} / expected: %A{1024}\"\n",
      "    ()\n",
      "method0()\n",
      "\r\n"
     ]
    }
   ],
   "source": [
    "// // test\n",
    "\n",
    "iterate ((*) 2) 1i32\n",
    "|> item 10i32\n",
    "|> _equal 1024"
   ]
  },
  {
   "cell_type": "markdown",
   "metadata": {},
   "source": [
    "## fold"
   ]
  },
  {
   "cell_type": "code",
   "execution_count": null,
   "metadata": {
    "dotnet_interactive": {
     "language": "spiral"
    },
    "polyglot_notebook": {
     "kernelName": "spiral"
    }
   },
   "outputs": [
    {
     "name": "stdout",
     "output_type": "stream",
     "text": [
      "()\n",
      "\r\n"
     ]
    }
   ],
   "source": [
    "inl fold fn init s =\n",
    "    inl rec loop acc s =\n",
    "        match s with\n",
    "        | StreamCons (st, fn') => loop (fn acc st) (fn' ())\n",
    "        | StreamNil => acc\n",
    "    loop init s\n",
    "\n",
    "inl fold_ fn init s =\n",
    "    let rec loop acc s =\n",
    "        match s with\n",
    "        | StreamCons (st, fn') => loop (fn acc st) (fn' ())\n",
    "        | StreamNil => acc\n",
    "    loop init s"
   ]
  },
  {
   "cell_type": "markdown",
   "metadata": {},
   "source": [
    "## take_while"
   ]
  },
  {
   "cell_type": "code",
   "execution_count": null,
   "metadata": {
    "dotnet_interactive": {
     "language": "spiral"
    },
    "polyglot_notebook": {
     "kernelName": "spiral"
    }
   },
   "outputs": [
    {
     "name": "stdout",
     "output_type": "stream",
     "text": [
      "()\n",
      "\r\n"
     ]
    }
   ],
   "source": [
    "inl take_while cond s =\n",
    "    inl rec loop i s =\n",
    "        match s with\n",
    "        | StreamCons (st, fn) when cond st i => StreamCons (st, fun () => loop (i + 1) (fn ()))\n",
    "        | _ => StreamNil\n",
    "    loop 0 s\n",
    "\n",
    "inl take_while_ cond s =\n",
    "    let rec loop i s =\n",
    "        match s with\n",
    "        | StreamCons (st, fn) when cond st i => StreamCons (st, fun () => loop (i + 1) (fn ()))\n",
    "        | _ => StreamNil\n",
    "    loop 0 s"
   ]
  },
  {
   "cell_type": "markdown",
   "metadata": {},
   "source": [
    "## sum"
   ]
  },
  {
   "cell_type": "code",
   "execution_count": null,
   "metadata": {
    "dotnet_interactive": {
     "language": "spiral"
    },
    "polyglot_notebook": {
     "kernelName": "spiral"
    }
   },
   "outputs": [
    {
     "name": "stdout",
     "output_type": "stream",
     "text": [
      "()\n",
      "\r\n"
     ]
    }
   ],
   "source": [
    "inl sum seq =\n",
    "    seq |> fold (+) 0\n",
    "\n",
    "inl sum_ seq =\n",
    "    seq |> fold_ (+) 0"
   ]
  },
  {
   "cell_type": "code",
   "execution_count": null,
   "metadata": {
    "dotnet_interactive": {
     "language": "spiral"
    },
    "polyglot_notebook": {
     "kernelName": "spiral"
    }
   },
   "outputs": [
    {
     "name": "stdout",
     "output_type": "stream",
     "text": [
      "let rec method0 () : unit =\n",
      "    let v0 : string = $\"_equal / actual: %A{45} / expected: %A{45}\"\n",
      "    ()\n",
      "method0()\n",
      "\r\n"
     ]
    }
   ],
   "source": [
    "// // test\n",
    "\n",
    "listm.init 10i32 id\n",
    "|> from_list\n",
    "|> sum\n",
    "|> _equal 45"
   ]
  },
  {
   "cell_type": "code",
   "execution_count": null,
   "metadata": {
    "dotnet_interactive": {
     "language": "spiral"
    },
    "polyglot_notebook": {
     "kernelName": "spiral"
    }
   },
   "outputs": [
    {
     "name": "stdout",
     "output_type": "stream",
     "text": [
      "type UH0 =\n",
      "    | UH0_0 of int32 * (unit -> UH0)\n",
      "    | UH0_1\n",
      "let rec closure9 () () : UH0 =\n",
      "    UH0_1\n",
      "and closure8 () () : UH0 =\n",
      "    let v0 : (unit -> UH0) = closure9()\n",
      "    UH0_0(9, v0)\n",
      "and closure7 () () : UH0 =\n",
      "    let v0 : (unit -> UH0) = closure8()\n",
      "    UH0_0(8, v0)\n",
      "and closure6 () () : UH0 =\n",
      "    let v0 : (unit -> UH0) = closure7()\n",
      "    UH0_0(7, v0)\n",
      "and closure5 () () : UH0 =\n",
      "    let v0 : (unit -> UH0) = closure6()\n",
      "    UH0_0(6, v0)\n",
      "and closure4 () () : UH0 =\n",
      "    let v0 : (unit -> UH0) = closure5()\n",
      "    UH0_0(5, v0)\n",
      "and closure3 () () : UH0 =\n",
      "    let v0 : (unit -> UH0) = closure4()\n",
      "    UH0_0(4, v0)\n",
      "and closure2 () () : UH0 =\n",
      "    let v0 : (unit -> UH0) = closure3()\n",
      "    UH0_0(3, v0)\n",
      "and closure1 () () : UH0 =\n",
      "    let v0 : (unit -> UH0) = closure2()\n",
      "    UH0_0(2, v0)\n",
      "and closure0 () () : UH0 =\n",
      "    let v0 : (unit -> UH0) = closure1()\n",
      "    UH0_0(1, v0)\n",
      "and method1 (v0 : int32, v1 : UH0) : int32 =\n",
      "    match v1 with\n",
      "    | UH0_0(v2, v3) -> (* StreamCons *)\n",
      "        let v4 : int32 = v0 + v2\n",
      "        let v5 : UH0 = v3 ()\n",
      "        method1(v4, v5)\n",
      "    | UH0_1 -> (* StreamNil *)\n",
      "        v0\n",
      "and method0 () : unit =\n",
      "    let v0 : int32 = 0\n",
      "    let v1 : int32 = 0\n",
      "    let v2 : (unit -> UH0) = closure0()\n",
      "    let v3 : UH0 = UH0_0(v1, v2)\n",
      "    let v4 : int32 = method1(v0, v3)\n",
      "    let v5 : bool = v4 = 45\n",
      "    let v6 : string = $\"_equal / actual: %A{v4} / expected: %A{45}\"\n",
      "    let v7 : bool = v5 = false\n",
      "    if v7 then\n",
      "        failwith<unit> v6\n",
      "method0()\n",
      "\r\n"
     ]
    }
   ],
   "source": [
    "// // test\n",
    "\n",
    "listm.init 10i32 id\n",
    "|> from_list\n",
    "|> sum_\n",
    "|> _equal 45"
   ]
  },
  {
   "cell_type": "code",
   "execution_count": null,
   "metadata": {
    "dotnet_interactive": {
     "language": "spiral"
    },
    "polyglot_notebook": {
     "kernelName": "spiral"
    }
   },
   "outputs": [
    {
     "name": "stdout",
     "output_type": "stream",
     "text": [
      "let rec method0 () : unit =\n",
      "    printfn $\"print_and_return / x: {0}\"\n",
      "    printfn $\"print_and_return / x: {1}\"\n",
      "    printfn $\"print_and_return / x: {2}\"\n",
      "    printfn $\"print_and_return / x: {3}\"\n",
      "    printfn $\"print_and_return / x: {4}\"\n",
      "    printfn $\"print_and_return / x: {5}\"\n",
      "    let v0 : string = $\"_equal / actual: %A{10} / expected: %A{10}\"\n",
      "    ()\n",
      "method0()\n",
      "\r\n",
      "print_and_return / x: 0\r\n",
      "print_and_return / x: 1\r\n",
      "print_and_return / x: 2\r\n",
      "print_and_return / x: 3\r\n",
      "print_and_return / x: 4\r\n",
      "print_and_return / x: 5\r\n"
     ]
    }
   ],
   "source": [
    "// // test\n",
    "\n",
    "new_finite_stream print_and_return 10i32\n",
    "|> take_while (fun n (_ : i32) => n < 5)\n",
    "|> sum\n",
    "|> _equal 10"
   ]
  },
  {
   "cell_type": "code",
   "execution_count": null,
   "metadata": {
    "dotnet_interactive": {
     "language": "spiral"
    },
    "polyglot_notebook": {
     "kernelName": "spiral"
    }
   },
   "outputs": [
    {
     "name": "stdout",
     "output_type": "stream",
     "text": [
      "type UH0 =\n",
      "    | UH0_0 of int32 * (unit -> UH0)\n",
      "    | UH0_1\n",
      "let rec closure0 (v0 : int32) () : UH0 =\n",
      "    let v1 : int32 = v0 + 1\n",
      "    method1(v1)\n",
      "and method1 (v0 : int32) : UH0 =\n",
      "    printfn $\"print_and_return / x: {v0}\"\n",
      "    let v1 : (unit -> UH0) = closure0(v0)\n",
      "    UH0_0(v0, v1)\n",
      "and closure1 (v0 : int32, v1 : (unit -> UH0)) () : UH0 =\n",
      "    let v2 : int32 = v0 + 1\n",
      "    let v3 : UH0 = v1 ()\n",
      "    method2(v2, v3)\n",
      "and method2 (v0 : int32, v1 : UH0) : UH0 =\n",
      "    match v1 with\n",
      "    | UH0_0(v2, v3) -> (* StreamCons *)\n",
      "        let v4 : bool = v2 < 5\n",
      "        if v4 then\n",
      "            let v5 : (unit -> UH0) = closure1(v0, v3)\n",
      "            UH0_0(v2, v5)\n",
      "        else\n",
      "            UH0_1\n",
      "    | _ ->\n",
      "        UH0_1\n",
      "and method3 (v0 : int32, v1 : UH0) : int32 =\n",
      "    match v1 with\n",
      "    | UH0_0(v2, v3) -> (* StreamCons *)\n",
      "        let v4 : int32 = v0 + v2\n",
      "        let v5 : UH0 = v3 ()\n",
      "        method3(v4, v5)\n",
      "    | UH0_1 -> (* StreamNil *)\n",
      "        v0\n",
      "and method0 () : unit =\n",
      "    let v0 : int32 = 0\n",
      "    let v1 : UH0 = method1(v0)\n",
      "    let v2 : int32 = 0\n",
      "    let v3 : UH0 = method2(v2, v1)\n",
      "    let v4 : int32 = 0\n",
      "    let v5 : int32 = method3(v4, v3)\n",
      "    let v6 : bool = v5 = 10\n",
      "    let v7 : string = $\"_equal / actual: %A{v5} / expected: %A{10}\"\n",
      "    let v8 : bool = v6 = false\n",
      "    if v8 then\n",
      "        failwith<unit> v7\n",
      "method0()\n",
      "\r\n",
      "print_and_return / x: 0\r\n",
      "print_and_return / x: 1\r\n",
      "print_and_return / x: 2\r\n",
      "print_and_return / x: 3\r\n",
      "print_and_return / x: 4\r\n",
      "print_and_return / x: 5\r\n"
     ]
    }
   ],
   "source": [
    "// // test\n",
    "\n",
    "new_infinite_stream_ print_and_return\n",
    "|> take_while_ (fun n (_ : i32) => n < 5i32)\n",
    "|> sum_\n",
    "|> _equal 10"
   ]
  },
  {
   "cell_type": "markdown",
   "metadata": {},
   "source": [
    "## to_list"
   ]
  },
  {
   "cell_type": "code",
   "execution_count": null,
   "metadata": {
    "dotnet_interactive": {
     "language": "spiral"
    },
    "polyglot_notebook": {
     "kernelName": "spiral"
    }
   },
   "outputs": [
    {
     "name": "stdout",
     "output_type": "stream",
     "text": [
      "()\n",
      "\r\n"
     ]
    }
   ],
   "source": [
    "inl to_list s =\n",
    "    inl rec loop acc s =\n",
    "        match s with\n",
    "        | StreamCons (st, fn) => loop (st :: acc) (fn ())\n",
    "        | StreamNil => acc |> listm.rev\n",
    "    loop [] s"
   ]
  },
  {
   "cell_type": "code",
   "execution_count": null,
   "metadata": {
    "dotnet_interactive": {
     "language": "spiral"
    },
    "polyglot_notebook": {
     "kernelName": "spiral"
    }
   },
   "outputs": [
    {
     "name": "stdout",
     "output_type": "stream",
     "text": [
      "type UH0 =\n",
      "    | UH0_0 of int32 * UH0\n",
      "    | UH0_1\n",
      "let rec method0 () : unit =\n",
      "    let v63 : UH0 = UH0_1\n",
      "    let v64 : UH0 = UH0_0(279936, v63)\n",
      "    let v65 : UH0 = UH0_0(46656, v64)\n",
      "    let v66 : UH0 = UH0_0(7776, v65)\n",
      "    let v67 : UH0 = UH0_0(1296, v66)\n",
      "    let v68 : UH0 = UH0_0(216, v67)\n",
      "    let v69 : UH0 = UH0_0(36, v68)\n",
      "    let v70 : UH0 = UH0_0(6, v69)\n",
      "    let v71 : UH0 = UH0_0(1, v70)\n",
      "    let v72 : UH0 = UH0_1\n",
      "    let v73 : UH0 = UH0_0(279936, v72)\n",
      "    let v74 : UH0 = UH0_0(46656, v73)\n",
      "    let v75 : UH0 = UH0_0(7776, v74)\n",
      "    let v76 : UH0 = UH0_0(1296, v75)\n",
      "    let v77 : UH0 = UH0_0(216, v76)\n",
      "    let v78 : UH0 = UH0_0(36, v77)\n",
      "    let v79 : UH0 = UH0_0(6, v78)\n",
      "    let v80 : UH0 = UH0_0(1, v79)\n",
      "    let v81 : string = $\"_equal / actual: %A{v71} / expected: %A{v80}\"\n",
      "    ()\n",
      "method0()\n",
      "\r\n"
     ]
    }
   ],
   "source": [
    "// // test\n",
    "\n",
    "iterate ((*) 6) 1i32\n",
    "|> take_while (fun _ i => i <= 7i32)\n",
    "|> to_list\n",
    "|> _equal [ 1i32; 6; 36; 216; 1296; 7776; 46656; 279936 ]"
   ]
  },
  {
   "cell_type": "markdown",
   "metadata": {},
   "source": [
    "## indexed"
   ]
  },
  {
   "cell_type": "code",
   "execution_count": null,
   "metadata": {
    "dotnet_interactive": {
     "language": "spiral"
    },
    "polyglot_notebook": {
     "kernelName": "spiral"
    }
   },
   "outputs": [
    {
     "name": "stdout",
     "output_type": "stream",
     "text": [
      "()\n",
      "\r\n"
     ]
    }
   ],
   "source": [
    "inl indexed s =\n",
    "    inl rec loop i s =\n",
    "        match s with\n",
    "        | StreamCons (st, fn) => StreamCons ((i, st), fun () => loop (i + 1) (fn ()))\n",
    "        | StreamNil => StreamNil\n",
    "    loop 0 s\n",
    "\n",
    "inl indexed_ s =\n",
    "    let rec loop i s =\n",
    "        match s with\n",
    "        | StreamCons (st, fn) => StreamCons ((i, st), fun () => loop (i + 1) (fn ()))\n",
    "        | StreamNil => StreamNil\n",
    "    loop 0 s"
   ]
  },
  {
   "cell_type": "code",
   "execution_count": null,
   "metadata": {
    "dotnet_interactive": {
     "language": "spiral"
    },
    "polyglot_notebook": {
     "kernelName": "spiral"
    }
   },
   "outputs": [
    {
     "name": "stdout",
     "output_type": "stream",
     "text": [
      "let rec method0 () : unit =\n",
      "    let v0 : string = $\"_equal / actual: %A{struct (5, 10)} / expected: %A{struct (5, 10)}\"\n",
      "    ()\n",
      "method0()\n",
      "\r\n"
     ]
    }
   ],
   "source": [
    "// // test\n",
    "\n",
    "listm.init 10i32 ((*) 2)\n",
    "|> from_list\n",
    "|> indexed\n",
    "|> item 5i32\n",
    "|> _equal (5i32, 10i32)"
   ]
  },
  {
   "cell_type": "markdown",
   "metadata": {},
   "source": [
    "## map"
   ]
  },
  {
   "cell_type": "code",
   "execution_count": null,
   "metadata": {
    "dotnet_interactive": {
     "language": "spiral"
    },
    "polyglot_notebook": {
     "kernelName": "spiral"
    }
   },
   "outputs": [
    {
     "name": "stdout",
     "output_type": "stream",
     "text": [
      "()\n",
      "\r\n"
     ]
    }
   ],
   "source": [
    "inl map fn s =\n",
    "    inl rec loop s =\n",
    "        match s with\n",
    "        | StreamCons (st, fn') => StreamCons (fn st, fun () => loop (fn' ()))\n",
    "        | StreamNil => StreamNil\n",
    "    loop s\n",
    "\n",
    "inl map_ fn s =\n",
    "    let rec loop s =\n",
    "        match s with\n",
    "        | StreamCons (st, fn') => StreamCons (fn st, fun () => loop (fn' ()))\n",
    "        | StreamNil => StreamNil\n",
    "    loop s"
   ]
  },
  {
   "cell_type": "code",
   "execution_count": null,
   "metadata": {
    "dotnet_interactive": {
     "language": "spiral"
    },
    "polyglot_notebook": {
     "kernelName": "spiral"
    }
   },
   "outputs": [
    {
     "name": "stdout",
     "output_type": "stream",
     "text": [
      "let rec method0 () : unit =\n",
      "    let v0 : string = $\"_equal / actual: %A{10} / expected: %A{10}\"\n",
      "    ()\n",
      "method0()\n",
      "\r\n"
     ]
    }
   ],
   "source": [
    "// // test\n",
    "\n",
    "listm.init 10i32 id\n",
    "|> from_list\n",
    "|> map ((*) 2)\n",
    "|> item 5i32\n",
    "|> _equal 10i32"
   ]
  },
  {
   "cell_type": "markdown",
   "metadata": {},
   "source": [
    "## zip_with"
   ]
  },
  {
   "cell_type": "code",
   "execution_count": null,
   "metadata": {
    "dotnet_interactive": {
     "language": "spiral"
    },
    "polyglot_notebook": {
     "kernelName": "spiral"
    }
   },
   "outputs": [
    {
     "name": "stdout",
     "output_type": "stream",
     "text": [
      "()\n",
      "\r\n"
     ]
    }
   ],
   "source": [
    "inl zip_with fn s1 s2 =\n",
    "    inl rec loop s1 s2 =\n",
    "        match s1, s2 with\n",
    "        | StreamCons (st1, fn1), StreamCons (st2, fn2) =>\n",
    "            StreamCons (fn st1 st2, fun () => loop (fn1 ()) (fn2 ()))\n",
    "        | StreamNil, _ | _, StreamNil => StreamNil\n",
    "    loop s1 s2\n",
    "\n",
    "inl zip_with_ fn s1 s2 =\n",
    "    let rec loop s1 s2 =\n",
    "        match s1, s2 with\n",
    "        | StreamCons (st1, fn1), StreamCons (st2, fn2) =>\n",
    "            StreamCons (fn st1 st2, fun () => loop (fn1 ()) (fn2 ()))\n",
    "        | StreamNil, _ | _, StreamNil => StreamNil\n",
    "    loop s1 s2"
   ]
  },
  {
   "cell_type": "code",
   "execution_count": null,
   "metadata": {
    "dotnet_interactive": {
     "language": "spiral"
    },
    "polyglot_notebook": {
     "kernelName": "spiral"
    }
   },
   "outputs": [
    {
     "name": "stdout",
     "output_type": "stream",
     "text": [
      "let rec method0 () : unit =\n",
      "    let v0 : string = $\"_equal / actual: %A{6} / expected: %A{6}\"\n",
      "    ()\n",
      "method0()\n",
      "\r\n"
     ]
    }
   ],
   "source": [
    "// // test\n",
    "\n",
    "((listm.init 10i32 id |> from_list), (listm.init 10i32 ((*) 2) |> from_list))\n",
    "||> zip_with (+)\n",
    "|> item 2i32\n",
    "|> _equal 6"
   ]
  },
  {
   "cell_type": "markdown",
   "metadata": {},
   "source": [
    "## zip"
   ]
  },
  {
   "cell_type": "code",
   "execution_count": null,
   "metadata": {
    "dotnet_interactive": {
     "language": "spiral"
    },
    "polyglot_notebook": {
     "kernelName": "spiral"
    }
   },
   "outputs": [
    {
     "name": "stdout",
     "output_type": "stream",
     "text": [
      "()\n",
      "\r\n"
     ]
    }
   ],
   "source": [
    "inl zip s1 s2 =\n",
    "    zip_with pair s1 s2\n",
    "\n",
    "inl zip_ s1 s2 =\n",
    "    zip_with_ pair s1 s2"
   ]
  },
  {
   "cell_type": "code",
   "execution_count": null,
   "metadata": {
    "dotnet_interactive": {
     "language": "spiral"
    },
    "polyglot_notebook": {
     "kernelName": "spiral"
    }
   },
   "outputs": [
    {
     "name": "stdout",
     "output_type": "stream",
     "text": [
      "let rec method0 () : unit =\n",
      "    let v0 : string = $\"_equal / actual: %A{struct (5, 10)} / expected: %A{struct (5, 10)}\"\n",
      "    ()\n",
      "method0()\n",
      "\r\n"
     ]
    }
   ],
   "source": [
    "// // test\n",
    "\n",
    "((listm.init 10i32 id |> from_list), (listm.init 10i32 ((*) 2) |> from_list))\n",
    "||> zip\n",
    "|> item 5i32\n",
    "|> _equal (5, 10)"
   ]
  },
  {
   "cell_type": "markdown",
   "metadata": {},
   "source": [
    "## unzip"
   ]
  },
  {
   "cell_type": "code",
   "execution_count": null,
   "metadata": {
    "dotnet_interactive": {
     "language": "spiral"
    },
    "polyglot_notebook": {
     "kernelName": "spiral"
    }
   },
   "outputs": [
    {
     "name": "stdout",
     "output_type": "stream",
     "text": [
      "()\n",
      "\r\n"
     ]
    }
   ],
   "source": [
    "inl unzip s =\n",
    "    inl rec loop s =\n",
    "        match s with\n",
    "        | StreamCons ((x, y), fn) =>\n",
    "            inl xs, ys = loop (fn ())\n",
    "            StreamCons (x, fun () => xs), StreamCons (y, fun () => ys)\n",
    "        | StreamNil => pair StreamNil StreamNil\n",
    "    loop s"
   ]
  },
  {
   "cell_type": "code",
   "execution_count": null,
   "metadata": {
    "dotnet_interactive": {
     "language": "spiral"
    },
    "polyglot_notebook": {
     "kernelName": "spiral"
    }
   },
   "outputs": [
    {
     "name": "stdout",
     "output_type": "stream",
     "text": [
      "let rec method0 () : unit =\n",
      "    let v0 : string = $\"_equal / actual: %A{45} / expected: %A{45}\"\n",
      "    let v1 : string = $\"_equal / actual: %A{45} / expected: %A{45}\"\n",
      "    ()\n",
      "method0()\n",
      "\r\n"
     ]
    }
   ],
   "source": [
    "// // test\n",
    "\n",
    "listm.init 10i32 id\n",
    "|> listm.map (fun x => x, x)\n",
    "|> from_list\n",
    "|> unzip\n",
    "|> fun x, y =>\n",
    "    x |> sum\n",
    "    |> _equal 45\n",
    "\n",
    "    y |> sum\n",
    "    |> _equal 45"
   ]
  }
 ],
 "metadata": {},
 "nbformat": 4,
 "nbformat_minor": 5
}