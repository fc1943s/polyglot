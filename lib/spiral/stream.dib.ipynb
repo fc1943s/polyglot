{
 "cells": [
  {
   "cell_type": "markdown",
   "metadata": {},
   "source": [
    "# stream"
   ]
  },
  {
   "cell_type": "code",
   "execution_count": null,
   "metadata": {
    "dotnet_interactive": {
     "language": "spiral"
    },
    "polyglot_notebook": {
     "kernelName": "spiral"
    }
   },
   "outputs": [
    {
     "name": "stdout",
     "output_type": "stream",
     "text": [
      "()\n",
      "\r\n"
     ]
    }
   ],
   "source": [
    "// // test\n",
    "\n",
    "open testing"
   ]
  },
  {
   "cell_type": "code",
   "execution_count": null,
   "metadata": {
    "dotnet_interactive": {
     "language": "spiral"
    },
    "polyglot_notebook": {
     "kernelName": "spiral"
    }
   },
   "outputs": [
    {
     "name": "stdout",
     "output_type": "stream",
     "text": [
      "()\n",
      "\r\n"
     ]
    }
   ],
   "source": [
    "union rec stream t =\n",
    "    | StreamCons : t * (() -> stream t)\n",
    "    | StreamNil"
   ]
  },
  {
   "cell_type": "markdown",
   "metadata": {},
   "source": [
    "## fold"
   ]
  },
  {
   "cell_type": "code",
   "execution_count": null,
   "metadata": {
    "dotnet_interactive": {
     "language": "spiral"
    },
    "polyglot_notebook": {
     "kernelName": "spiral"
    }
   },
   "outputs": [
    {
     "name": "stdout",
     "output_type": "stream",
     "text": [
      "()\n",
      "\r\n"
     ]
    }
   ],
   "source": [
    "inl fold fn init s =\n",
    "    inl rec body acc = function\n",
    "        | StreamCons (st, fn') => loop (fn acc st) (fn' ())\n",
    "        | StreamNil => acc\n",
    "    and inl loop acc = loop_body body acc\n",
    "    loop init s"
   ]
  },
  {
   "cell_type": "markdown",
   "metadata": {},
   "source": [
    "## fold_back"
   ]
  },
  {
   "cell_type": "code",
   "execution_count": null,
   "metadata": {
    "dotnet_interactive": {
     "language": "spiral"
    },
    "polyglot_notebook": {
     "kernelName": "spiral"
    }
   },
   "outputs": [
    {
     "name": "stdout",
     "output_type": "stream",
     "text": [
      "()\n",
      "\r\n"
     ]
    }
   ],
   "source": [
    "inl fold_back fn s init =\n",
    "    inl rec body acc = function\n",
    "        | StreamCons (st, fn') => fn st (loop acc (fn' ()))\n",
    "        | StreamNil => acc\n",
    "    and inl loop acc = loop_body body acc\n",
    "    loop init s"
   ]
  },
  {
   "cell_type": "markdown",
   "metadata": {},
   "source": [
    "## to_list"
   ]
  },
  {
   "cell_type": "code",
   "execution_count": null,
   "metadata": {
    "dotnet_interactive": {
     "language": "spiral"
    },
    "polyglot_notebook": {
     "kernelName": "spiral"
    }
   },
   "outputs": [
    {
     "name": "stdout",
     "output_type": "stream",
     "text": [
      "()\n",
      "\r\n"
     ]
    }
   ],
   "source": [
    "inl to_list s =\n",
    "    (s, [])\n",
    "    ||> fold_back fun x acc =>\n",
    "        x :: acc"
   ]
  },
  {
   "cell_type": "markdown",
   "metadata": {},
   "source": [
    "## rev"
   ]
  },
  {
   "cell_type": "code",
   "execution_count": null,
   "metadata": {
    "dotnet_interactive": {
     "language": "spiral"
    },
    "polyglot_notebook": {
     "kernelName": "spiral"
    }
   },
   "outputs": [
    {
     "name": "stdout",
     "output_type": "stream",
     "text": [
      "()\n",
      "\r\n"
     ]
    }
   ],
   "source": [
    "inl rev s =\n",
    "    (StreamNil, s)\n",
    "    ||> fold fun s x =>\n",
    "        StreamCons (x, fun () => s)"
   ]
  },
  {
   "cell_type": "markdown",
   "metadata": {},
   "source": [
    "## from_list"
   ]
  },
  {
   "cell_type": "code",
   "execution_count": null,
   "metadata": {
    "dotnet_interactive": {
     "language": "spiral"
    },
    "polyglot_notebook": {
     "kernelName": "spiral"
    }
   },
   "outputs": [
    {
     "name": "stdout",
     "output_type": "stream",
     "text": [
      "()\n",
      "\r\n"
     ]
    }
   ],
   "source": [
    "inl from_list list =\n",
    "    (list, StreamNil)\n",
    "    ||> listm.foldBack fun x acc =>\n",
    "        StreamCons (x, fun () => acc)"
   ]
  },
  {
   "cell_type": "code",
   "execution_count": null,
   "metadata": {
    "dotnet_interactive": {
     "language": "spiral"
    },
    "polyglot_notebook": {
     "kernelName": "spiral"
    }
   },
   "outputs": [
    {
     "name": "stdout",
     "output_type": "stream",
     "text": [
      "type UH0 =\n",
      "    | UH0_0 of int32 * UH0\n",
      "    | UH0_1\n",
      "let rec method0 () : unit =\n",
      "    let v18 : UH0 = UH0_1\n",
      "    let v19 : UH0 = UH0_0(0, v18)\n",
      "    let v20 : UH0 = UH0_0(1, v19)\n",
      "    let v21 : UH0 = UH0_0(2, v20)\n",
      "    let v22 : UH0 = UH0_1\n",
      "    let v23 : UH0 = UH0_0(0, v22)\n",
      "    let v24 : UH0 = UH0_0(1, v23)\n",
      "    let v25 : UH0 = UH0_0(2, v24)\n",
      "    let v26 : string = $\"_equal / actual: %A{v21} / expected: %A{v25}\"\n",
      "    ()\n",
      "method0()\n",
      "\r\n"
     ]
    }
   ],
   "source": [
    "// // test\n",
    "\n",
    "listm.init 3i32 id\n",
    "|> from_list\n",
    "|> rev\n",
    "|> to_list\n",
    "|> _equal [ 2; 1; 0 ]"
   ]
  },
  {
   "cell_type": "markdown",
   "metadata": {},
   "source": [
    "## try_item"
   ]
  },
  {
   "cell_type": "code",
   "execution_count": null,
   "metadata": {
    "dotnet_interactive": {
     "language": "spiral"
    },
    "polyglot_notebook": {
     "kernelName": "spiral"
    }
   },
   "outputs": [
    {
     "name": "stdout",
     "output_type": "stream",
     "text": [
      "()\n",
      "\r\n"
     ]
    }
   ],
   "source": [
    "inl try_item i s =\n",
    "    inl rec body i = function\n",
    "        | StreamCons (x, _) when i = 0 => Some x\n",
    "        | StreamCons (_, fn) => loop (i - 1) (fn ())\n",
    "        | StreamNil => None\n",
    "    and inl loop acc = loop_body body acc\n",
    "    loop i s\n",
    "\n",
    "inl item i =\n",
    "    try_item i >> optionm.value"
   ]
  },
  {
   "cell_type": "code",
   "execution_count": null,
   "metadata": {
    "dotnet_interactive": {
     "language": "spiral"
    },
    "polyglot_notebook": {
     "kernelName": "spiral"
    }
   },
   "outputs": [
    {
     "name": "stdout",
     "output_type": "stream",
     "text": [
      "let rec method0 () : unit =\n",
      "    let v0 : string = $\"_equal / actual: %A{9} / expected: %A{9}\"\n",
      "    ()\n",
      "method0()\n",
      "\r\n"
     ]
    }
   ],
   "source": [
    "// // test\n",
    "\n",
    "listm.init 10i32 id\n",
    "|> from_list\n",
    "|> item 9i32\n",
    "|> _equal 9"
   ]
  },
  {
   "cell_type": "markdown",
   "metadata": {},
   "source": [
    "## new_infinite_stream"
   ]
  },
  {
   "cell_type": "code",
   "execution_count": null,
   "metadata": {
    "dotnet_interactive": {
     "language": "spiral"
    },
    "polyglot_notebook": {
     "kernelName": "spiral"
    }
   },
   "outputs": [
    {
     "name": "stdout",
     "output_type": "stream",
     "text": [
      "()\n",
      "\r\n"
     ]
    }
   ],
   "source": [
    "inl new_infinite_stream fn =\n",
    "    inl rec loop n =\n",
    "        StreamCons (fn n, fun () => loop (n + 1))\n",
    "    loop 0\n",
    "\n",
    "inl new_infinite_stream_ fn =\n",
    "    let rec loop n =\n",
    "        StreamCons (fn n, fun () => loop (n + 1))\n",
    "    loop 0"
   ]
  },
  {
   "cell_type": "code",
   "execution_count": null,
   "metadata": {
    "dotnet_interactive": {
     "language": "spiral"
    },
    "polyglot_notebook": {
     "kernelName": "spiral"
    }
   },
   "outputs": [
    {
     "name": "stdout",
     "output_type": "stream",
     "text": [
      "let rec method0 () : unit =\n",
      "    printfn $\"print_and_return / x: {0}\"\n",
      "    printfn $\"print_and_return / x: {1}\"\n",
      "    printfn $\"print_and_return / x: {2}\"\n",
      "    printfn $\"print_and_return / x: {3}\"\n",
      "    printfn $\"print_and_return / x: {4}\"\n",
      "    let v0 : string = $\"_equal / actual: %A{4} / expected: %A{4}\"\n",
      "    ()\n",
      "method0()\n",
      "\r\n",
      "print_and_return / x: 0\r\n",
      "print_and_return / x: 1\r\n",
      "print_and_return / x: 2\r\n",
      "print_and_return / x: 3\r\n",
      "print_and_return / x: 4\r\n"
     ]
    }
   ],
   "source": [
    "// // test\n",
    "\n",
    "new_infinite_stream print_and_return\n",
    "|> item 4i32\n",
    "|> _equal 4i32"
   ]
  },
  {
   "cell_type": "markdown",
   "metadata": {},
   "source": [
    "## new_finite_stream"
   ]
  },
  {
   "cell_type": "code",
   "execution_count": null,
   "metadata": {
    "dotnet_interactive": {
     "language": "spiral"
    },
    "polyglot_notebook": {
     "kernelName": "spiral"
    }
   },
   "outputs": [
    {
     "name": "stdout",
     "output_type": "stream",
     "text": [
      "()\n",
      "\r\n"
     ]
    }
   ],
   "source": [
    "inl new_finite_stream fn max =\n",
    "    inl rec loop n =\n",
    "        if n >= max\n",
    "        then StreamNil\n",
    "        else StreamCons (fn n, fun () => loop (n + 1))\n",
    "    loop 0"
   ]
  },
  {
   "cell_type": "markdown",
   "metadata": {},
   "source": [
    "## memoize"
   ]
  },
  {
   "cell_type": "code",
   "execution_count": null,
   "metadata": {
    "dotnet_interactive": {
     "language": "spiral"
    },
    "polyglot_notebook": {
     "kernelName": "spiral"
    }
   },
   "outputs": [
    {
     "name": "stdout",
     "output_type": "stream",
     "text": [
      "()\n",
      "\r\n"
     ]
    }
   ],
   "source": [
    "union memoized_stream t =\n",
    "    | NotComputed : () -> stream t\n",
    "    | Computed : stream t\n",
    "\n",
    "inl memoize s =\n",
    "    inl rec body () s =\n",
    "        inl state = mut (NotComputed s)\n",
    "        fun () =>\n",
    "            match *state with\n",
    "            | Computed x => x\n",
    "            | NotComputed fn =>\n",
    "                inl new_state =\n",
    "                    match fn () with\n",
    "                    | StreamNil => StreamNil\n",
    "                    | StreamCons (x, fn) => StreamCons (x, loop fn)\n",
    "                state <- Computed new_state\n",
    "                new_state\n",
    "    and inl loop s = loop_body body () s\n",
    "    loop (fun () => s)"
   ]
  },
  {
   "cell_type": "code",
   "execution_count": null,
   "metadata": {
    "dotnet_interactive": {
     "language": "spiral"
    },
    "polyglot_notebook": {
     "kernelName": "spiral"
    }
   },
   "outputs": [
    {
     "name": "stdout",
     "output_type": "stream",
     "text": [
      "type UH0 =\n",
      "    | UH0_0 of int32 * (unit -> UH0)\n",
      "    | UH0_1\n",
      "and [<Struct>] US0 =\n",
      "    | US0_0 of f0_0 : UH0\n",
      "    | US0_1 of f1_0 : (unit -> UH0)\n",
      "and Mut0 = {mutable l0 : US0}\n",
      "and [<Struct>] US1 =\n",
      "    | US1_0\n",
      "    | US1_1 of f1_0 : int32\n",
      "let rec closure10 () () : UH0 =\n",
      "    UH0_1\n",
      "and closure9 () () : UH0 =\n",
      "    printfn $\"print_and_return / x: {9}\"\n",
      "    let v0 : (unit -> UH0) = closure10()\n",
      "    UH0_0(9, v0)\n",
      "and closure8 () () : UH0 =\n",
      "    printfn $\"print_and_return / x: {8}\"\n",
      "    let v0 : (unit -> UH0) = closure9()\n",
      "    UH0_0(8, v0)\n",
      "and closure7 () () : UH0 =\n",
      "    printfn $\"print_and_return / x: {7}\"\n",
      "    let v0 : (unit -> UH0) = closure8()\n",
      "    UH0_0(7, v0)\n",
      "and closure6 () () : UH0 =\n",
      "    printfn $\"print_and_return / x: {6}\"\n",
      "    let v0 : (unit -> UH0) = closure7()\n",
      "    UH0_0(6, v0)\n",
      "and closure5 () () : UH0 =\n",
      "    printfn $\"print_and_return / x: {5}\"\n",
      "    let v0 : (unit -> UH0) = closure6()\n",
      "    UH0_0(5, v0)\n",
      "and closure4 () () : UH0 =\n",
      "    printfn $\"print_and_return / x: {4}\"\n",
      "    let v0 : (unit -> UH0) = closure5()\n",
      "    UH0_0(4, v0)\n",
      "and closure3 () () : UH0 =\n",
      "    printfn $\"print_and_return / x: {3}\"\n",
      "    let v0 : (unit -> UH0) = closure4()\n",
      "    UH0_0(3, v0)\n",
      "and closure2 () () : UH0 =\n",
      "    printfn $\"print_and_return / x: {2}\"\n",
      "    let v0 : (unit -> UH0) = closure3()\n",
      "    UH0_0(2, v0)\n",
      "and closure1 () () : UH0 =\n",
      "    printfn $\"print_and_return / x: {1}\"\n",
      "    let v0 : (unit -> UH0) = closure2()\n",
      "    UH0_0(1, v0)\n",
      "and closure0 () () : UH0 =\n",
      "    let v0 : (unit -> UH0) = closure1()\n",
      "    UH0_0(0, v0)\n",
      "and closure11 (v0 : Mut0) () : UH0 =\n",
      "    let v1 : US0 = v0.l0\n",
      "    match v1 with\n",
      "    | US0_0(v2) -> (* Computed *)\n",
      "        v2\n",
      "    | US0_1(v3) -> (* NotComputed *)\n",
      "        let v4 : UH0 = v3 ()\n",
      "        let v11 : UH0 =\n",
      "            match v4 with\n",
      "            | UH0_0(v6, v7) -> (* StreamCons *)\n",
      "                let v8 : (unit -> UH0) = method1(v7)\n",
      "                UH0_0(v6, v8)\n",
      "            | UH0_1 -> (* StreamNil *)\n",
      "                UH0_1\n",
      "        let v12 : US0 = US0_0(v11)\n",
      "        v0.l0 <- v12\n",
      "        v11\n",
      "and method1 (v0 : (unit -> UH0)) : (unit -> UH0) =\n",
      "    let v1 : US0 = US0_1(v0)\n",
      "    let v2 : Mut0 = {l0 = v1} : Mut0\n",
      "    closure11(v2)\n",
      "and method2 (v0 : UH0, v1 : int32) : US1 =\n",
      "    match v0 with\n",
      "    | UH0_0(v2, v3) -> (* StreamCons *)\n",
      "        let v4 : bool = v1 = 0\n",
      "        if v4 then\n",
      "            US1_1(v2)\n",
      "        else\n",
      "            let v6 : int32 = v1 - 1\n",
      "            let v7 : UH0 = v3 ()\n",
      "            method2(v7, v6)\n",
      "    | UH0_1 -> (* StreamNil *)\n",
      "        US1_0\n",
      "and method0 () : unit =\n",
      "    printfn $\"print_and_return / x: {0}\"\n",
      "    let v0 : (unit -> UH0) = closure0()\n",
      "    let v1 : US0 = US0_1(v0)\n",
      "    let v2 : Mut0 = {l0 = v1} : Mut0\n",
      "    let v3 : US0 = v2.l0\n",
      "    let v16 : UH0 =\n",
      "        match v3 with\n",
      "        | US0_0(v4) -> (* Computed *)\n",
      "            v4\n",
      "        | US0_1(v5) -> (* NotComputed *)\n",
      "            let v6 : UH0 = v5 ()\n",
      "            let v13 : UH0 =\n",
      "                match v6 with\n",
      "                | UH0_0(v8, v9) -> (* StreamCons *)\n",
      "                    let v10 : (unit -> UH0) = method1(v9)\n",
      "                    UH0_0(v8, v10)\n",
      "                | UH0_1 -> (* StreamNil *)\n",
      "                    UH0_1\n",
      "            let v14 : US0 = US0_0(v13)\n",
      "            v2.l0 <- v14\n",
      "            v13\n",
      "    let v17 : int32 = 3\n",
      "    let v18 : US1 = method2(v16, v17)\n",
      "    let v22 : int32 =\n",
      "        match v18 with\n",
      "        | US1_0 -> (* None *)\n",
      "            failwith<int32> \"Option does not have a value.\"\n",
      "        | US1_1(v19) -> (* Some *)\n",
      "            v19\n",
      "    let v23 : bool = v22 = 3\n",
      "    let v24 : string = $\"_equal / actual: %A{v22} / expected: %A{3}\"\n",
      "    let v25 : bool = v23 = false\n",
      "    if v25 then\n",
      "        failwith<unit> v24\n",
      "    let v26 : US0 = v2.l0\n",
      "    let v39 : UH0 =\n",
      "        match v26 with\n",
      "        | US0_0(v27) -> (* Computed *)\n",
      "            v27\n",
      "        | US0_1(v28) -> (* NotComputed *)\n",
      "            let v29 : UH0 = v28 ()\n",
      "            let v36 : UH0 =\n",
      "                match v29 with\n",
      "                | UH0_0(v31, v32) -> (* StreamCons *)\n",
      "                    let v33 : (unit -> UH0) = method1(v32)\n",
      "                    UH0_0(v31, v33)\n",
      "                | UH0_1 -> (* StreamNil *)\n",
      "                    UH0_1\n",
      "            let v37 : US0 = US0_0(v36)\n",
      "            v2.l0 <- v37\n",
      "            v36\n",
      "    let v40 : int32 = 5\n",
      "    let v41 : US1 = method2(v39, v40)\n",
      "    let v45 : int32 =\n",
      "        match v41 with\n",
      "        | US1_0 -> (* None *)\n",
      "            failwith<int32> \"Option does not have a value.\"\n",
      "        | US1_1(v42) -> (* Some *)\n",
      "            v42\n",
      "    let v46 : bool = v45 = 5\n",
      "    let v47 : string = $\"_equal / actual: %A{v45} / expected: %A{5}\"\n",
      "    let v48 : bool = v46 = false\n",
      "    if v48 then\n",
      "        failwith<unit> v47\n",
      "method0()\n",
      "\r\n",
      "print_and_return / x: 0\r\n",
      "print_and_return / x: 1\r\n",
      "print_and_return / x: 2\r\n",
      "print_and_return / x: 3\r\n",
      "print_and_return / x: 4\r\n",
      "print_and_return / x: 5\r\n"
     ]
    }
   ],
   "source": [
    "// // test\n",
    "\n",
    "inl memo_stream = new_finite_stream print_and_return 10 |> memoize\n",
    "\n",
    "memo_stream ()\n",
    "|> item 3i32\n",
    "|> _equal 3i32\n",
    "\n",
    "memo_stream ()\n",
    "|> item 5i32\n",
    "|> _equal 5i32"
   ]
  },
  {
   "cell_type": "code",
   "execution_count": null,
   "metadata": {
    "dotnet_interactive": {
     "language": "spiral"
    },
    "polyglot_notebook": {
     "kernelName": "spiral"
    }
   },
   "outputs": [
    {
     "name": "stdout",
     "output_type": "stream",
     "text": [
      "type UH0 =\n",
      "    | UH0_0 of int32 * (unit -> UH0)\n",
      "    | UH0_1\n",
      "and [<Struct>] US0 =\n",
      "    | US0_0 of f0_0 : UH0\n",
      "    | US0_1 of f1_0 : (unit -> UH0)\n",
      "and Mut0 = {mutable l0 : US0}\n",
      "and [<Struct>] US1 =\n",
      "    | US1_0\n",
      "    | US1_1 of f1_0 : int32\n",
      "let rec closure0 (v0 : int32) () : UH0 =\n",
      "    let v1 : int32 = v0 + 1\n",
      "    method1(v1)\n",
      "and method1 (v0 : int32) : UH0 =\n",
      "    printfn $\"print_and_return / x: {v0}\"\n",
      "    let v1 : (unit -> UH0) = closure0(v0)\n",
      "    UH0_0(v0, v1)\n",
      "and closure1 (v0 : UH0) () : UH0 =\n",
      "    v0\n",
      "and closure2 (v0 : Mut0) () : UH0 =\n",
      "    let v1 : US0 = v0.l0\n",
      "    match v1 with\n",
      "    | US0_0(v2) -> (* Computed *)\n",
      "        v2\n",
      "    | US0_1(v3) -> (* NotComputed *)\n",
      "        let v4 : UH0 = v3 ()\n",
      "        let v11 : UH0 =\n",
      "            match v4 with\n",
      "            | UH0_0(v6, v7) -> (* StreamCons *)\n",
      "                let v8 : (unit -> UH0) = method2(v7)\n",
      "                UH0_0(v6, v8)\n",
      "            | UH0_1 -> (* StreamNil *)\n",
      "                UH0_1\n",
      "        let v12 : US0 = US0_0(v11)\n",
      "        v0.l0 <- v12\n",
      "        v11\n",
      "and method2 (v0 : (unit -> UH0)) : (unit -> UH0) =\n",
      "    let v1 : US0 = US0_1(v0)\n",
      "    let v2 : Mut0 = {l0 = v1} : Mut0\n",
      "    closure2(v2)\n",
      "and method3 (v0 : UH0, v1 : int32) : US1 =\n",
      "    match v0 with\n",
      "    | UH0_0(v2, v3) -> (* StreamCons *)\n",
      "        let v4 : bool = v1 = 0\n",
      "        if v4 then\n",
      "            US1_1(v2)\n",
      "        else\n",
      "            let v6 : int32 = v1 - 1\n",
      "            let v7 : UH0 = v3 ()\n",
      "            method3(v7, v6)\n",
      "    | UH0_1 -> (* StreamNil *)\n",
      "        US1_0\n",
      "and method0 () : unit =\n",
      "    let v0 : int32 = 0\n",
      "    let v1 : UH0 = method1(v0)\n",
      "    let v2 : (unit -> UH0) = closure1(v1)\n",
      "    let v3 : US0 = US0_1(v2)\n",
      "    let v4 : Mut0 = {l0 = v3} : Mut0\n",
      "    let v5 : US0 = v4.l0\n",
      "    let v18 : UH0 =\n",
      "        match v5 with\n",
      "        | US0_0(v6) -> (* Computed *)\n",
      "            v6\n",
      "        | US0_1(v7) -> (* NotComputed *)\n",
      "            let v8 : UH0 = v7 ()\n",
      "            let v15 : UH0 =\n",
      "                match v8 with\n",
      "                | UH0_0(v10, v11) -> (* StreamCons *)\n",
      "                    let v12 : (unit -> UH0) = method2(v11)\n",
      "                    UH0_0(v10, v12)\n",
      "                | UH0_1 -> (* StreamNil *)\n",
      "                    UH0_1\n",
      "            let v16 : US0 = US0_0(v15)\n",
      "            v4.l0 <- v16\n",
      "            v15\n",
      "    let v19 : int32 = 3\n",
      "    let v20 : US1 = method3(v18, v19)\n",
      "    let v24 : int32 =\n",
      "        match v20 with\n",
      "        | US1_0 -> (* None *)\n",
      "            failwith<int32> \"Option does not have a value.\"\n",
      "        | US1_1(v21) -> (* Some *)\n",
      "            v21\n",
      "    let v25 : bool = v24 = 3\n",
      "    let v26 : string = $\"_equal / actual: %A{v24} / expected: %A{3}\"\n",
      "    let v27 : bool = v25 = false\n",
      "    if v27 then\n",
      "        failwith<unit> v26\n",
      "    let v28 : US0 = v4.l0\n",
      "    let v41 : UH0 =\n",
      "        match v28 with\n",
      "        | US0_0(v29) -> (* Computed *)\n",
      "            v29\n",
      "        | US0_1(v30) -> (* NotComputed *)\n",
      "            let v31 : UH0 = v30 ()\n",
      "            let v38 : UH0 =\n",
      "                match v31 with\n",
      "                | UH0_0(v33, v34) -> (* StreamCons *)\n",
      "                    let v35 : (unit -> UH0) = method2(v34)\n",
      "                    UH0_0(v33, v35)\n",
      "                | UH0_1 -> (* StreamNil *)\n",
      "                    UH0_1\n",
      "            let v39 : US0 = US0_0(v38)\n",
      "            v4.l0 <- v39\n",
      "            v38\n",
      "    let v42 : int32 = 5\n",
      "    let v43 : US1 = method3(v41, v42)\n",
      "    let v47 : int32 =\n",
      "        match v43 with\n",
      "        | US1_0 -> (* None *)\n",
      "            failwith<int32> \"Option does not have a value.\"\n",
      "        | US1_1(v44) -> (* Some *)\n",
      "            v44\n",
      "    let v48 : bool = v47 = 5\n",
      "    let v49 : string = $\"_equal / actual: %A{v47} / expected: %A{5}\"\n",
      "    let v50 : bool = v48 = false\n",
      "    if v50 then\n",
      "        failwith<unit> v49\n",
      "method0()\n",
      "\r\n",
      "print_and_return / x: 0\r\n",
      "print_and_return / x: 1\r\n",
      "print_and_return / x: 2\r\n",
      "print_and_return / x: 3\r\n",
      "print_and_return / x: 4\r\n",
      "print_and_return / x: 5\r\n"
     ]
    }
   ],
   "source": [
    "// // test\n",
    "\n",
    "inl memo_stream = new_infinite_stream_ print_and_return |> memoize\n",
    "\n",
    "memo_stream ()\n",
    "|> item 3i32\n",
    "|> _equal 3i32\n",
    "\n",
    "memo_stream ()\n",
    "|> item 5i32\n",
    "|> _equal 5i32"
   ]
  },
  {
   "cell_type": "markdown",
   "metadata": {},
   "source": [
    "## unfold"
   ]
  },
  {
   "cell_type": "code",
   "execution_count": null,
   "metadata": {
    "dotnet_interactive": {
     "language": "spiral"
    },
    "polyglot_notebook": {
     "kernelName": "spiral"
    }
   },
   "outputs": [
    {
     "name": "stdout",
     "output_type": "stream",
     "text": [
      "()\n",
      "\r\n"
     ]
    }
   ],
   "source": [
    "inl unfold f x0 =\n",
    "    inl rec body () x =\n",
    "        match f x with\n",
    "        | Some (x', y) => StreamCons (x', fun () => loop y)\n",
    "        | None => StreamNil\n",
    "    and inl loop x = loop_body body () x\n",
    "    loop x0"
   ]
  },
  {
   "cell_type": "markdown",
   "metadata": {},
   "source": [
    "## iterate"
   ]
  },
  {
   "cell_type": "code",
   "execution_count": null,
   "metadata": {
    "dotnet_interactive": {
     "language": "spiral"
    },
    "polyglot_notebook": {
     "kernelName": "spiral"
    }
   },
   "outputs": [
    {
     "name": "stdout",
     "output_type": "stream",
     "text": [
      "()\n",
      "\r\n"
     ]
    }
   ],
   "source": [
    "inl iterate f =\n",
    "    unfold (fun x => Some (x, f x))"
   ]
  },
  {
   "cell_type": "code",
   "execution_count": null,
   "metadata": {
    "dotnet_interactive": {
     "language": "spiral"
    },
    "polyglot_notebook": {
     "kernelName": "spiral"
    }
   },
   "outputs": [
    {
     "name": "stdout",
     "output_type": "stream",
     "text": [
      "let rec method0 () : unit =\n",
      "    let v0 : string = $\"_equal / actual: %A{1024} / expected: %A{1024}\"\n",
      "    ()\n",
      "method0()\n",
      "\r\n"
     ]
    }
   ],
   "source": [
    "// // test\n",
    "\n",
    "iterate ((*) 2) 1i32\n",
    "|> item 10i32\n",
    "|> _equal 1024"
   ]
  },
  {
   "cell_type": "markdown",
   "metadata": {},
   "source": [
    "## take_while"
   ]
  },
  {
   "cell_type": "code",
   "execution_count": null,
   "metadata": {
    "dotnet_interactive": {
     "language": "spiral"
    },
    "polyglot_notebook": {
     "kernelName": "spiral"
    }
   },
   "outputs": [
    {
     "name": "stdout",
     "output_type": "stream",
     "text": [
      "()\n",
      "\r\n"
     ]
    }
   ],
   "source": [
    "inl take_while cond s =\n",
    "    inl rec body i = function\n",
    "        | StreamCons (st, fn) when cond st i => StreamCons (st, fun () => loop (i + 1) (fn ()))\n",
    "        | _ => StreamNil\n",
    "    and inl loop i = loop_body body i\n",
    "    loop 0 s"
   ]
  },
  {
   "cell_type": "markdown",
   "metadata": {},
   "source": [
    "## sum"
   ]
  },
  {
   "cell_type": "code",
   "execution_count": null,
   "metadata": {
    "dotnet_interactive": {
     "language": "spiral"
    },
    "polyglot_notebook": {
     "kernelName": "spiral"
    }
   },
   "outputs": [
    {
     "name": "stdout",
     "output_type": "stream",
     "text": [
      "()\n",
      "\r\n"
     ]
    }
   ],
   "source": [
    "inl sum seq =\n",
    "    seq |> fold (+) 0"
   ]
  },
  {
   "cell_type": "code",
   "execution_count": null,
   "metadata": {
    "dotnet_interactive": {
     "language": "spiral"
    },
    "polyglot_notebook": {
     "kernelName": "spiral"
    }
   },
   "outputs": [
    {
     "name": "stdout",
     "output_type": "stream",
     "text": [
      "let rec method0 () : unit =\n",
      "    let v0 : string = $\"_equal / actual: %A{45} / expected: %A{45}\"\n",
      "    ()\n",
      "method0()\n",
      "\r\n"
     ]
    }
   ],
   "source": [
    "// // test\n",
    "\n",
    "listm.init 10i32 id\n",
    "|> from_list\n",
    "|> sum\n",
    "|> _equal 45"
   ]
  },
  {
   "cell_type": "code",
   "execution_count": null,
   "metadata": {
    "dotnet_interactive": {
     "language": "spiral"
    },
    "polyglot_notebook": {
     "kernelName": "spiral"
    }
   },
   "outputs": [
    {
     "name": "stdout",
     "output_type": "stream",
     "text": [
      "let rec method0 () : unit =\n",
      "    printfn $\"print_and_return / x: {0}\"\n",
      "    printfn $\"print_and_return / x: {1}\"\n",
      "    printfn $\"print_and_return / x: {2}\"\n",
      "    printfn $\"print_and_return / x: {3}\"\n",
      "    printfn $\"print_and_return / x: {4}\"\n",
      "    printfn $\"print_and_return / x: {5}\"\n",
      "    let v0 : string = $\"_equal / actual: %A{10} / expected: %A{10}\"\n",
      "    ()\n",
      "method0()\n",
      "\r\n",
      "print_and_return / x: 0\r\n",
      "print_and_return / x: 1\r\n",
      "print_and_return / x: 2\r\n",
      "print_and_return / x: 3\r\n",
      "print_and_return / x: 4\r\n",
      "print_and_return / x: 5\r\n"
     ]
    }
   ],
   "source": [
    "// // test\n",
    "\n",
    "new_finite_stream print_and_return 10i32\n",
    "|> take_while (fun n (_ : i32) => n < 5)\n",
    "|> sum\n",
    "|> _equal 10"
   ]
  },
  {
   "cell_type": "code",
   "execution_count": null,
   "metadata": {
    "dotnet_interactive": {
     "language": "spiral"
    },
    "polyglot_notebook": {
     "kernelName": "spiral"
    }
   },
   "outputs": [
    {
     "name": "stdout",
     "output_type": "stream",
     "text": [
      "let rec method0 () : unit =\n",
      "    printfn $\"print_and_return / x: {0}\"\n",
      "    printfn $\"print_and_return / x: {1}\"\n",
      "    printfn $\"print_and_return / x: {2}\"\n",
      "    printfn $\"print_and_return / x: {3}\"\n",
      "    printfn $\"print_and_return / x: {4}\"\n",
      "    printfn $\"print_and_return / x: {5}\"\n",
      "    let v0 : string = $\"_equal / actual: %A{10} / expected: %A{10}\"\n",
      "    ()\n",
      "method0()\n",
      "\r\n",
      "print_and_return / x: 0\r\n",
      "print_and_return / x: 1\r\n",
      "print_and_return / x: 2\r\n",
      "print_and_return / x: 3\r\n",
      "print_and_return / x: 4\r\n",
      "print_and_return / x: 5\r\n"
     ]
    }
   ],
   "source": [
    "// // test\n",
    "\n",
    "new_infinite_stream print_and_return\n",
    "|> take_while (fun n (_ : i32) => n < 5i32)\n",
    "|> sum\n",
    "|> _equal 10"
   ]
  },
  {
   "cell_type": "code",
   "execution_count": null,
   "metadata": {
    "dotnet_interactive": {
     "language": "spiral"
    },
    "polyglot_notebook": {
     "kernelName": "spiral"
    }
   },
   "outputs": [
    {
     "name": "stdout",
     "output_type": "stream",
     "text": [
      "type UH0 =\n",
      "    | UH0_0 of int32 * UH0\n",
      "    | UH0_1\n",
      "let rec method0 () : unit =\n",
      "    let v63 : UH0 = UH0_1\n",
      "    let v64 : UH0 = UH0_0(279936, v63)\n",
      "    let v65 : UH0 = UH0_0(46656, v64)\n",
      "    let v66 : UH0 = UH0_0(7776, v65)\n",
      "    let v67 : UH0 = UH0_0(1296, v66)\n",
      "    let v68 : UH0 = UH0_0(216, v67)\n",
      "    let v69 : UH0 = UH0_0(36, v68)\n",
      "    let v70 : UH0 = UH0_0(6, v69)\n",
      "    let v71 : UH0 = UH0_0(1, v70)\n",
      "    let v72 : UH0 = UH0_1\n",
      "    let v73 : UH0 = UH0_0(279936, v72)\n",
      "    let v74 : UH0 = UH0_0(46656, v73)\n",
      "    let v75 : UH0 = UH0_0(7776, v74)\n",
      "    let v76 : UH0 = UH0_0(1296, v75)\n",
      "    let v77 : UH0 = UH0_0(216, v76)\n",
      "    let v78 : UH0 = UH0_0(36, v77)\n",
      "    let v79 : UH0 = UH0_0(6, v78)\n",
      "    let v80 : UH0 = UH0_0(1, v79)\n",
      "    let v81 : string = $\"_equal / actual: %A{v71} / expected: %A{v80}\"\n",
      "    ()\n",
      "method0()\n",
      "\r\n"
     ]
    }
   ],
   "source": [
    "// // test\n",
    "\n",
    "iterate ((*) 6) 1i32\n",
    "|> take_while (fun _ i => i <= 7i32)\n",
    "|> to_list\n",
    "|> _equal [ 1i32; 6; 36; 216; 1296; 7776; 46656; 279936 ]"
   ]
  },
  {
   "cell_type": "markdown",
   "metadata": {},
   "source": [
    "## indexed"
   ]
  },
  {
   "cell_type": "code",
   "execution_count": null,
   "metadata": {
    "dotnet_interactive": {
     "language": "spiral"
    },
    "polyglot_notebook": {
     "kernelName": "spiral"
    }
   },
   "outputs": [
    {
     "name": "stdout",
     "output_type": "stream",
     "text": [
      "()\n",
      "\r\n"
     ]
    }
   ],
   "source": [
    "inl indexed s =\n",
    "    ((StreamNil, 0), s)\n",
    "    ||> fold fun (acc, i) x =>\n",
    "        StreamCons ((i, x), fun () => acc), i + 1\n",
    "    |> fst\n",
    "    |> rev"
   ]
  },
  {
   "cell_type": "code",
   "execution_count": null,
   "metadata": {
    "dotnet_interactive": {
     "language": "spiral"
    },
    "polyglot_notebook": {
     "kernelName": "spiral"
    }
   },
   "outputs": [
    {
     "name": "stdout",
     "output_type": "stream",
     "text": [
      "let rec method0 () : unit =\n",
      "    let v0 : string = $\"_equal / actual: %A{struct (5, 10)} / expected: %A{struct (5, 10)}\"\n",
      "    ()\n",
      "method0()\n",
      "\r\n"
     ]
    }
   ],
   "source": [
    "// // test\n",
    "\n",
    "listm.init 10i32 ((*) 2)\n",
    "|> from_list\n",
    "|> indexed\n",
    "|> item 5i32\n",
    "|> _equal (5i32, 10i32)"
   ]
  },
  {
   "cell_type": "markdown",
   "metadata": {},
   "source": [
    "## map"
   ]
  },
  {
   "cell_type": "code",
   "execution_count": null,
   "metadata": {
    "dotnet_interactive": {
     "language": "spiral"
    },
    "polyglot_notebook": {
     "kernelName": "spiral"
    }
   },
   "outputs": [
    {
     "name": "stdout",
     "output_type": "stream",
     "text": [
      "()\n",
      "\r\n"
     ]
    }
   ],
   "source": [
    "inl map fn s =\n",
    "    (s, StreamNil)\n",
    "    ||> fold_back fun x acc =>\n",
    "        StreamCons (fn x, fun () => acc)"
   ]
  },
  {
   "cell_type": "code",
   "execution_count": null,
   "metadata": {
    "dotnet_interactive": {
     "language": "spiral"
    },
    "polyglot_notebook": {
     "kernelName": "spiral"
    }
   },
   "outputs": [
    {
     "name": "stdout",
     "output_type": "stream",
     "text": [
      "let rec method0 () : unit =\n",
      "    let v0 : string = $\"_equal / actual: %A{10} / expected: %A{10}\"\n",
      "    ()\n",
      "method0()\n",
      "\r\n"
     ]
    }
   ],
   "source": [
    "// // test\n",
    "\n",
    "listm.init 10i32 id\n",
    "|> from_list\n",
    "|> map ((*) 2)\n",
    "|> item 5i32\n",
    "|> _equal 10i32"
   ]
  },
  {
   "cell_type": "markdown",
   "metadata": {},
   "source": [
    "## zip_with"
   ]
  },
  {
   "cell_type": "code",
   "execution_count": null,
   "metadata": {
    "dotnet_interactive": {
     "language": "spiral"
    },
    "polyglot_notebook": {
     "kernelName": "spiral"
    }
   },
   "outputs": [
    {
     "name": "stdout",
     "output_type": "stream",
     "text": [
      "()\n",
      "\r\n"
     ]
    }
   ],
   "source": [
    "inl zip_with fn s1 s2 =\n",
    "    inl rec loop s1 s2 =\n",
    "        match s1, s2 with\n",
    "        | StreamCons (st1, fn1), StreamCons (st2, fn2) =>\n",
    "            StreamCons (fn st1 st2, fun () => loop (fn1 ()) (fn2 ()))\n",
    "        | StreamNil, _ | _, StreamNil => StreamNil\n",
    "    loop s1 s2\n",
    "\n",
    "inl zip_with_ fn s1 s2 =\n",
    "    let rec loop s1 s2 =\n",
    "        match s1, s2 with\n",
    "        | StreamCons (st1, fn1), StreamCons (st2, fn2) =>\n",
    "            StreamCons (fn st1 st2, fun () => loop (fn1 ()) (fn2 ()))\n",
    "        | StreamNil, _ | _, StreamNil => StreamNil\n",
    "    loop s1 s2"
   ]
  },
  {
   "cell_type": "code",
   "execution_count": null,
   "metadata": {
    "dotnet_interactive": {
     "language": "spiral"
    },
    "polyglot_notebook": {
     "kernelName": "spiral"
    }
   },
   "outputs": [
    {
     "name": "stdout",
     "output_type": "stream",
     "text": [
      "let rec method0 () : unit =\n",
      "    let v0 : string = $\"_equal / actual: %A{6} / expected: %A{6}\"\n",
      "    ()\n",
      "method0()\n",
      "\r\n"
     ]
    }
   ],
   "source": [
    "// // test\n",
    "\n",
    "((listm.init 10i32 id |> from_list), (listm.init 10i32 ((*) 2) |> from_list))\n",
    "||> zip_with (+)\n",
    "|> item 2i32\n",
    "|> _equal 6"
   ]
  },
  {
   "cell_type": "markdown",
   "metadata": {},
   "source": [
    "## zip"
   ]
  },
  {
   "cell_type": "code",
   "execution_count": null,
   "metadata": {
    "dotnet_interactive": {
     "language": "spiral"
    },
    "polyglot_notebook": {
     "kernelName": "spiral"
    }
   },
   "outputs": [
    {
     "name": "stdout",
     "output_type": "stream",
     "text": [
      "()\n",
      "\r\n"
     ]
    }
   ],
   "source": [
    "inl zip s1 s2 =\n",
    "    zip_with pair s1 s2\n",
    "\n",
    "inl zip_ s1 s2 =\n",
    "    zip_with_ pair s1 s2"
   ]
  },
  {
   "cell_type": "code",
   "execution_count": null,
   "metadata": {
    "dotnet_interactive": {
     "language": "spiral"
    },
    "polyglot_notebook": {
     "kernelName": "spiral"
    }
   },
   "outputs": [
    {
     "name": "stdout",
     "output_type": "stream",
     "text": [
      "let rec method0 () : unit =\n",
      "    let v0 : string = $\"_equal / actual: %A{struct (5, 10)} / expected: %A{struct (5, 10)}\"\n",
      "    ()\n",
      "method0()\n",
      "\r\n"
     ]
    }
   ],
   "source": [
    "// // test\n",
    "\n",
    "((listm.init 10i32 id |> from_list), (listm.init 10i32 ((*) 2) |> from_list))\n",
    "||> zip\n",
    "|> item 5i32\n",
    "|> _equal (5, 10)"
   ]
  },
  {
   "cell_type": "markdown",
   "metadata": {},
   "source": [
    "## unzip"
   ]
  },
  {
   "cell_type": "code",
   "execution_count": null,
   "metadata": {
    "dotnet_interactive": {
     "language": "spiral"
    },
    "polyglot_notebook": {
     "kernelName": "spiral"
    }
   },
   "outputs": [
    {
     "name": "stdout",
     "output_type": "stream",
     "text": [
      "()\n",
      "\r\n"
     ]
    }
   ],
   "source": [
    "inl unzip s =\n",
    "    inl rec loop s =\n",
    "        match s with\n",
    "        | StreamCons ((x, y), fn) =>\n",
    "            inl xs, ys = loop (fn ())\n",
    "            StreamCons (x, fun () => xs), StreamCons (y, fun () => ys)\n",
    "        | StreamNil => pair StreamNil StreamNil\n",
    "    loop s"
   ]
  },
  {
   "cell_type": "code",
   "execution_count": null,
   "metadata": {
    "dotnet_interactive": {
     "language": "spiral"
    },
    "polyglot_notebook": {
     "kernelName": "spiral"
    }
   },
   "outputs": [
    {
     "name": "stdout",
     "output_type": "stream",
     "text": [
      "let rec method0 () : unit =\n",
      "    let v0 : string = $\"_equal / actual: %A{45} / expected: %A{45}\"\n",
      "    let v1 : string = $\"_equal / actual: %A{45} / expected: %A{45}\"\n",
      "    ()\n",
      "method0()\n",
      "\r\n"
     ]
    }
   ],
   "source": [
    "// // test\n",
    "\n",
    "listm.init 10i32 id\n",
    "|> listm.map (fun x => x, x)\n",
    "|> from_list\n",
    "|> unzip\n",
    "|> fun x, y =>\n",
    "    x |> sum\n",
    "    |> _equal 45\n",
    "\n",
    "    y |> sum\n",
    "    |> _equal 45"
   ]
  }
 ],
 "metadata": {},
 "nbformat": 4,
 "nbformat_minor": 5
}