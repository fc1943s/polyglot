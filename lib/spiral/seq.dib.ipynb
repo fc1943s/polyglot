{
 "cells": [
  {
   "cell_type": "markdown",
   "metadata": {},
   "source": [
    "# seq"
   ]
  },
  {
   "cell_type": "code",
   "execution_count": null,
   "metadata": {
    "dotnet_interactive": {
     "language": "spiral"
    },
    "polyglot_notebook": {
     "kernelName": "spiral"
    }
   },
   "outputs": [
    {
     "name": "stdout",
     "output_type": "stream",
     "text": [
      "()\n",
      "\r\n"
     ]
    }
   ],
   "source": [
    "// // test\n",
    "\n",
    "open testing"
   ]
  },
  {
   "cell_type": "markdown",
   "metadata": {},
   "source": [
    "## seq"
   ]
  },
  {
   "cell_type": "code",
   "execution_count": null,
   "metadata": {
    "dotnet_interactive": {
     "language": "spiral"
    },
    "polyglot_notebook": {
     "kernelName": "spiral"
    }
   },
   "outputs": [
    {
     "name": "stdout",
     "output_type": "stream",
     "text": [
      "()\n",
      "\r\n"
     ]
    }
   ],
   "source": [
    "type seq dim el = dim -> option el"
   ]
  },
  {
   "cell_type": "markdown",
   "metadata": {},
   "source": [
    "## item"
   ]
  },
  {
   "cell_type": "code",
   "execution_count": null,
   "metadata": {
    "dotnet_interactive": {
     "language": "spiral"
    },
    "polyglot_notebook": {
     "kernelName": "spiral"
    }
   },
   "outputs": [
    {
     "name": "stdout",
     "output_type": "stream",
     "text": [
      "()\n",
      "\r\n"
     ]
    }
   ],
   "source": [
    "inl item n seq =\n",
    "    seq n"
   ]
  },
  {
   "cell_type": "markdown",
   "metadata": {},
   "source": [
    "## from_list"
   ]
  },
  {
   "cell_type": "code",
   "execution_count": null,
   "metadata": {
    "dotnet_interactive": {
     "language": "spiral"
    },
    "polyglot_notebook": {
     "kernelName": "spiral"
    }
   },
   "outputs": [
    {
     "name": "stdout",
     "output_type": "stream",
     "text": [
      "()\n",
      "\r\n"
     ]
    }
   ],
   "source": [
    "inl from_list list =\n",
    "    fun n =>\n",
    "        list |> listm'.try_item n"
   ]
  },
  {
   "cell_type": "code",
   "execution_count": null,
   "metadata": {
    "dotnet_interactive": {
     "language": "spiral"
    },
    "polyglot_notebook": {
     "kernelName": "spiral"
    }
   },
   "outputs": [
    {
     "name": "stdout",
     "output_type": "stream",
     "text": [
      "type [<Struct>] US0 =\n",
      "    | US0_0\n",
      "    | US0_1 of f1_0 : int32\n",
      "let rec method0 () : unit =\n",
      "    printfn $\"print_and_return / x: {0}\"\n",
      "    printfn $\"print_and_return / x: {1}\"\n",
      "    printfn $\"print_and_return / x: {2}\"\n",
      "    printfn $\"print_and_return / x: {3}\"\n",
      "    printfn $\"print_and_return / x: {4}\"\n",
      "    printfn $\"print_and_return / x: {5}\"\n",
      "    printfn $\"print_and_return / x: {6}\"\n",
      "    printfn $\"print_and_return / x: {7}\"\n",
      "    printfn $\"print_and_return / x: {8}\"\n",
      "    printfn $\"print_and_return / x: {9}\"\n",
      "    let v3 : US0 = US0_1(5)\n",
      "    let v4 : US0 = US0_1(5)\n",
      "    let v5 : string = $\"_equal / actual: %A{v3} / expected: %A{v4}\"\n",
      "    ()\n",
      "method0()\n",
      "\r\n",
      "print_and_return / x: 0\r\n",
      "print_and_return / x: 1\r\n",
      "print_and_return / x: 2\r\n",
      "print_and_return / x: 3\r\n",
      "print_and_return / x: 4\r\n",
      "print_and_return / x: 5\r\n",
      "print_and_return / x: 6\r\n",
      "print_and_return / x: 7\r\n",
      "print_and_return / x: 8\r\n",
      "print_and_return / x: 9\r\n"
     ]
    }
   ],
   "source": [
    "// // test\n",
    "\n",
    "listm.init 10i32 print_and_return\n",
    "|> from_list\n",
    "|> item 5i32\n",
    "|> _equal (Some 5i32)"
   ]
  },
  {
   "cell_type": "markdown",
   "metadata": {},
   "source": [
    "## indexed"
   ]
  },
  {
   "cell_type": "code",
   "execution_count": null,
   "metadata": {
    "dotnet_interactive": {
     "language": "spiral"
    },
    "polyglot_notebook": {
     "kernelName": "spiral"
    }
   },
   "outputs": [
    {
     "name": "stdout",
     "output_type": "stream",
     "text": [
      "()\n",
      "\r\n"
     ]
    }
   ],
   "source": [
    "inl indexed s =\n",
    "    fun n =>\n",
    "        s |> item n |> optionm.map (fun x => n, x)"
   ]
  },
  {
   "cell_type": "code",
   "execution_count": null,
   "metadata": {
    "dotnet_interactive": {
     "language": "spiral"
    },
    "polyglot_notebook": {
     "kernelName": "spiral"
    }
   },
   "outputs": [
    {
     "name": "stdout",
     "output_type": "stream",
     "text": [
      "type [<Struct>] US0 =\n",
      "    | US0_0\n",
      "    | US0_1 of f1_0 : int32 * f1_1 : int32\n",
      "let rec method0 () : unit =\n",
      "    let v3 : US0 = US0_1(5, 10)\n",
      "    let v4 : US0 = US0_1(5, 10)\n",
      "    let v5 : string = $\"_equal / actual: %A{v3} / expected: %A{v4}\"\n",
      "    ()\n",
      "method0()\n",
      "\r\n"
     ]
    }
   ],
   "source": [
    "// // test\n",
    "\n",
    "listm.init 10i32 ((*) 2)\n",
    "|> from_list\n",
    "|> indexed\n",
    "|> item 5i32\n",
    "|> _equal (Some (5i32, 10i32))"
   ]
  },
  {
   "cell_type": "markdown",
   "metadata": {},
   "source": [
    "## zip"
   ]
  },
  {
   "cell_type": "code",
   "execution_count": null,
   "metadata": {
    "dotnet_interactive": {
     "language": "spiral"
    },
    "polyglot_notebook": {
     "kernelName": "spiral"
    }
   },
   "outputs": [
    {
     "name": "stdout",
     "output_type": "stream",
     "text": [
      "()\n",
      "\r\n"
     ]
    }
   ],
   "source": [
    "inl zip n seq1 seq2 =\n",
    "    seq1 n, seq2 n"
   ]
  },
  {
   "cell_type": "code",
   "execution_count": null,
   "metadata": {
    "dotnet_interactive": {
     "language": "spiral"
    },
    "polyglot_notebook": {
     "kernelName": "spiral"
    }
   },
   "outputs": [
    {
     "name": "stdout",
     "output_type": "stream",
     "text": [
      "type [<Struct>] US0 =\n",
      "    | US0_0\n",
      "    | US0_1 of f1_0 : int32\n",
      "let rec method0 () : unit =\n",
      "    let v6 : US0 = US0_1(5)\n",
      "    let v7 : US0 = US0_1(10)\n",
      "    let v8 : US0 = US0_1(5)\n",
      "    let v9 : US0 = US0_1(10)\n",
      "    let v10 : string = $\"_equal / actual: %A{struct (v6, v7)} / expected: %A{struct (v8, v9)}\"\n",
      "    ()\n",
      "method0()\n",
      "\r\n"
     ]
    }
   ],
   "source": [
    "// // test\n",
    "\n",
    "((listm.init 10i32 id |> from_list), (listm.init 10i32 ((*) 2) |> from_list))\n",
    "||> zip 5i32\n",
    "|> _equal (Some 5, Some 10)"
   ]
  },
  {
   "cell_type": "markdown",
   "metadata": {},
   "source": [
    "## zip_with"
   ]
  },
  {
   "cell_type": "code",
   "execution_count": null,
   "metadata": {
    "dotnet_interactive": {
     "language": "spiral"
    },
    "polyglot_notebook": {
     "kernelName": "spiral"
    }
   },
   "outputs": [
    {
     "name": "stdout",
     "output_type": "stream",
     "text": [
      "()\n",
      "\r\n"
     ]
    }
   ],
   "source": [
    "inl zip_with fn seq1 seq2 =\n",
    "    fun n =>\n",
    "        fn (seq1 n) (seq2 n)"
   ]
  },
  {
   "cell_type": "code",
   "execution_count": null,
   "metadata": {
    "dotnet_interactive": {
     "language": "spiral"
    },
    "polyglot_notebook": {
     "kernelName": "spiral"
    }
   },
   "outputs": [
    {
     "name": "stdout",
     "output_type": "stream",
     "text": [
      "type [<Struct>] US0 =\n",
      "    | US0_0\n",
      "    | US0_1 of f1_0 : int32\n",
      "let rec method0 () : unit =\n",
      "    let v3 : US0 = US0_1(6)\n",
      "    let v4 : US0 = US0_1(6)\n",
      "    let v5 : string = $\"_equal / actual: %A{v3} / expected: %A{v4}\"\n",
      "    ()\n",
      "method0()\n",
      "\r\n"
     ]
    }
   ],
   "source": [
    "// // test\n",
    "\n",
    "((listm.init 10i32 id |> from_list), (listm.init 10i32 ((*) 2) |> from_list))\n",
    "||> zip_with (optionm'.choose (+))\n",
    "|> item 2i32\n",
    "|> _equal (Some 6)"
   ]
  },
  {
   "cell_type": "markdown",
   "metadata": {},
   "source": [
    "## fold"
   ]
  },
  {
   "cell_type": "code",
   "execution_count": null,
   "metadata": {
    "dotnet_interactive": {
     "language": "spiral"
    },
    "polyglot_notebook": {
     "kernelName": "spiral"
    }
   },
   "outputs": [
    {
     "name": "stdout",
     "output_type": "stream",
     "text": [
      "()\n",
      "\r\n"
     ]
    }
   ],
   "source": [
    "inl fold fn init seq =\n",
    "    inl rec loop acc n =\n",
    "        match seq n with\n",
    "        | Some x => loop (fn acc x) (n + 1)\n",
    "        | None => acc\n",
    "    loop init 0\n",
    "\n",
    "inl fold_ fn init seq =\n",
    "    let rec loop acc n =\n",
    "        match seq n with\n",
    "        | Some x => loop (fn acc x) (n + 1)\n",
    "        | None => acc\n",
    "    loop init 0"
   ]
  },
  {
   "cell_type": "markdown",
   "metadata": {},
   "source": [
    "## sum"
   ]
  },
  {
   "cell_type": "code",
   "execution_count": null,
   "metadata": {
    "dotnet_interactive": {
     "language": "spiral"
    },
    "polyglot_notebook": {
     "kernelName": "spiral"
    }
   },
   "outputs": [
    {
     "name": "stdout",
     "output_type": "stream",
     "text": [
      "()\n",
      "\r\n"
     ]
    }
   ],
   "source": [
    "inl sum seq =\n",
    "    seq |> fold (+) 0\n",
    "\n",
    "inl sum_ seq =\n",
    "    seq |> fold_ (+) 0"
   ]
  },
  {
   "cell_type": "code",
   "execution_count": null,
   "metadata": {
    "dotnet_interactive": {
     "language": "spiral"
    },
    "polyglot_notebook": {
     "kernelName": "spiral"
    }
   },
   "outputs": [
    {
     "name": "stdout",
     "output_type": "stream",
     "text": [
      "let rec method0 () : unit =\n",
      "    let v0 : string = $\"_equal / actual: %A{45} / expected: %A{45}\"\n",
      "    ()\n",
      "method0()\n",
      "\r\n"
     ]
    }
   ],
   "source": [
    "// // test\n",
    "\n",
    "listm.init 10i32 id\n",
    "|> from_list\n",
    "|> fun f (n : i32) => f n\n",
    "|> sum\n",
    "|> _equal 45"
   ]
  },
  {
   "cell_type": "markdown",
   "metadata": {},
   "source": [
    "## to_list"
   ]
  },
  {
   "cell_type": "code",
   "execution_count": null,
   "metadata": {
    "dotnet_interactive": {
     "language": "spiral"
    },
    "polyglot_notebook": {
     "kernelName": "spiral"
    }
   },
   "outputs": [
    {
     "name": "stdout",
     "output_type": "stream",
     "text": [
      "()\n",
      "\r\n"
     ]
    }
   ],
   "source": [
    "inl to_list seq =\n",
    "    seq\n",
    "    |> fold (fun acc x => x :: acc) []\n",
    "    |> listm.rev\n",
    "\n",
    "inl to_list_ seq =\n",
    "    seq\n",
    "    |> fold_ (fun acc x => x :: acc) []\n",
    "    |> listm.rev"
   ]
  },
  {
   "cell_type": "code",
   "execution_count": null,
   "metadata": {
    "dotnet_interactive": {
     "language": "spiral"
    },
    "polyglot_notebook": {
     "kernelName": "spiral"
    }
   },
   "outputs": [
    {
     "name": "stdout",
     "output_type": "stream",
     "text": [
      "type UH0 =\n",
      "    | UH0_0 of int32 * UH0\n",
      "    | UH0_1\n",
      "let rec method0 () : unit =\n",
      "    let v88 : UH0 = UH0_1\n",
      "    let v89 : UH0 = UH0_0(9, v88)\n",
      "    let v90 : UH0 = UH0_0(8, v89)\n",
      "    let v91 : UH0 = UH0_0(7, v90)\n",
      "    let v92 : UH0 = UH0_0(6, v91)\n",
      "    let v93 : UH0 = UH0_0(5, v92)\n",
      "    let v94 : UH0 = UH0_0(4, v93)\n",
      "    let v95 : UH0 = UH0_0(3, v94)\n",
      "    let v96 : UH0 = UH0_0(2, v95)\n",
      "    let v97 : UH0 = UH0_0(1, v96)\n",
      "    let v98 : UH0 = UH0_0(0, v97)\n",
      "    let v99 : UH0 = UH0_1\n",
      "    let v100 : UH0 = UH0_0(9, v99)\n",
      "    let v101 : UH0 = UH0_0(8, v100)\n",
      "    let v102 : UH0 = UH0_0(7, v101)\n",
      "    let v103 : UH0 = UH0_0(6, v102)\n",
      "    let v104 : UH0 = UH0_0(5, v103)\n",
      "    let v105 : UH0 = UH0_0(4, v104)\n",
      "    let v106 : UH0 = UH0_0(3, v105)\n",
      "    let v107 : UH0 = UH0_0(2, v106)\n",
      "    let v108 : UH0 = UH0_0(1, v107)\n",
      "    let v109 : UH0 = UH0_0(0, v108)\n",
      "    let v110 : string = $\"_equal / actual: %A{v98} / expected: %A{v109}\"\n",
      "    ()\n",
      "method0()\n",
      "\r\n"
     ]
    }
   ],
   "source": [
    "// // test\n",
    "\n",
    "listm.init 10i32 id\n",
    "|> from_list\n",
    "|> fun f (n : i32) => f n\n",
    "|> to_list\n",
    "|> _equal (listm.init 10i32 id)"
   ]
  },
  {
   "cell_type": "markdown",
   "metadata": {},
   "source": [
    "## take_while"
   ]
  },
  {
   "cell_type": "code",
   "execution_count": null,
   "metadata": {
    "dotnet_interactive": {
     "language": "spiral"
    },
    "polyglot_notebook": {
     "kernelName": "spiral"
    }
   },
   "outputs": [
    {
     "name": "stdout",
     "output_type": "stream",
     "text": [
      "()\n",
      "\r\n"
     ]
    }
   ],
   "source": [
    "inl take_while cond seq =\n",
    "    inl rec loop acc i =\n",
    "        match seq i with\n",
    "        | Some st when cond st i => loop (st :: acc) (i + 1)\n",
    "        | _ => acc |> listm.rev\n",
    "    loop [] 0"
   ]
  },
  {
   "cell_type": "code",
   "execution_count": null,
   "metadata": {
    "dotnet_interactive": {
     "language": "spiral"
    },
    "polyglot_notebook": {
     "kernelName": "spiral"
    }
   },
   "outputs": [
    {
     "name": "stdout",
     "output_type": "stream",
     "text": [
      "let rec method0 () : unit =\n",
      "    let v0 : string = $\"_equal / actual: %A{10} / expected: %A{10}\"\n",
      "    ()\n",
      "method0()\n",
      "\r\n"
     ]
    }
   ],
   "source": [
    "// // test\n",
    "\n",
    "listm.init 10i32 id\n",
    "|> from_list\n",
    "|> take_while (fun n (_ : i32) => n < 5)\n",
    "|> listm'.sum\n",
    "|> _equal 10"
   ]
  },
  {
   "cell_type": "code",
   "execution_count": null,
   "metadata": {
    "dotnet_interactive": {
     "language": "spiral"
    },
    "polyglot_notebook": {
     "kernelName": "spiral"
    }
   },
   "outputs": [
    {
     "name": "stdout",
     "output_type": "stream",
     "text": [
      "let rec method0 () : unit =\n",
      "    printfn $\"print_and_return / x: {0}\"\n",
      "    printfn $\"print_and_return / x: {1}\"\n",
      "    printfn $\"print_and_return / x: {1}\"\n",
      "    printfn $\"print_and_return / x: {2}\"\n",
      "    printfn $\"print_and_return / x: {1}\"\n",
      "    printfn $\"print_and_return / x: {2}\"\n",
      "    printfn $\"print_and_return / x: {3}\"\n",
      "    printfn $\"print_and_return / x: {1}\"\n",
      "    printfn $\"print_and_return / x: {2}\"\n",
      "    printfn $\"print_and_return / x: {3}\"\n",
      "    printfn $\"print_and_return / x: {4}\"\n",
      "    printfn $\"print_and_return / x: {1}\"\n",
      "    printfn $\"print_and_return / x: {2}\"\n",
      "    printfn $\"print_and_return / x: {3}\"\n",
      "    printfn $\"print_and_return / x: {4}\"\n",
      "    printfn $\"print_and_return / x: {5}\"\n",
      "    let v0 : string = $\"_equal / actual: %A{10} / expected: %A{10}\"\n",
      "    ()\n",
      "method0()\n",
      "\r\n",
      "print_and_return / x: 0\r\n",
      "print_and_return / x: 1\r\n",
      "print_and_return / x: 1\r\n",
      "print_and_return / x: 2\r\n",
      "print_and_return / x: 1\r\n",
      "print_and_return / x: 2\r\n",
      "print_and_return / x: 3\r\n",
      "print_and_return / x: 1\r\n",
      "print_and_return / x: 2\r\n",
      "print_and_return / x: 3\r\n",
      "print_and_return / x: 4\r\n",
      "print_and_return / x: 1\r\n",
      "print_and_return / x: 2\r\n",
      "print_and_return / x: 3\r\n",
      "print_and_return / x: 4\r\n",
      "print_and_return / x: 5\r\n"
     ]
    }
   ],
   "source": [
    "// // test\n",
    "\n",
    "stream.new_finite_stream print_and_return 10i32\n",
    "|> flip stream.try_item\n",
    "|> take_while (fun n (_ : i32) => n < 5)\n",
    "|> listm'.sum\n",
    "|> _equal 10"
   ]
  },
  {
   "cell_type": "markdown",
   "metadata": {},
   "source": [
    "## take_while_"
   ]
  },
  {
   "cell_type": "code",
   "execution_count": null,
   "metadata": {
    "dotnet_interactive": {
     "language": "spiral"
    },
    "polyglot_notebook": {
     "kernelName": "spiral"
    }
   },
   "outputs": [
    {
     "name": "stdout",
     "output_type": "stream",
     "text": [
      "()\n",
      "\r\n"
     ]
    }
   ],
   "source": [
    "inl take_while_ cond seq =\n",
    "    let rec loop acc i =\n",
    "        match seq i with\n",
    "        | Some st when cond st i => loop (st :: acc) (i + 1)\n",
    "        | _ => acc |> listm.rev\n",
    "    loop [] 0"
   ]
  },
  {
   "cell_type": "code",
   "execution_count": null,
   "metadata": {
    "dotnet_interactive": {
     "language": "spiral"
    },
    "polyglot_notebook": {
     "kernelName": "spiral"
    }
   },
   "outputs": [
    {
     "name": "stdout",
     "output_type": "stream",
     "text": [
      "type UH0 =\n",
      "    | UH0_0 of int32 * (unit -> UH0)\n",
      "    | UH0_1\n",
      "and UH1 =\n",
      "    | UH1_0 of int32 * UH1\n",
      "    | UH1_1\n",
      "and [<Struct>] US0 =\n",
      "    | US0_0\n",
      "    | US0_1 of f1_0 : int32\n",
      "let rec closure0 (v0 : int32) () : UH0 =\n",
      "    let v1 : int32 = v0 + 1\n",
      "    method1(v1)\n",
      "and method1 (v0 : int32) : UH0 =\n",
      "    printfn $\"print_and_return / x: {v0}\"\n",
      "    let v1 : (unit -> UH0) = closure0(v0)\n",
      "    UH0_0(v0, v1)\n",
      "and method3 (v0 : int32, v1 : UH0) : US0 =\n",
      "    match v1 with\n",
      "    | UH0_0(v2, v3) -> (* StreamCons *)\n",
      "        let v4 : bool = v0 <= 0\n",
      "        if v4 then\n",
      "            US0_1(v2)\n",
      "        else\n",
      "            let v6 : int32 = v0 - 1\n",
      "            let v7 : UH0 = v3 ()\n",
      "            method3(v6, v7)\n",
      "    | UH0_1 -> (* StreamNil *)\n",
      "        US0_0\n",
      "and method4 (v0 : UH1, v1 : UH1) : UH1 =\n",
      "    match v0 with\n",
      "    | UH1_0(v2, v3) -> (* Cons *)\n",
      "        let v4 : UH1 = UH1_0(v2, v1)\n",
      "        method4(v3, v4)\n",
      "    | UH1_1 -> (* Nil *)\n",
      "        v1\n",
      "and method2 (v0 : UH0, v1 : UH1, v2 : int32) : UH1 =\n",
      "    let v3 : US0 = method3(v2, v0)\n",
      "    match v3 with\n",
      "    | US0_1(v4) -> (* Some *)\n",
      "        let v5 : bool = v4 < 5\n",
      "        if v5 then\n",
      "            let v6 : UH1 = UH1_0(v4, v1)\n",
      "            let v7 : int32 = v2 + 1\n",
      "            method2(v0, v6, v7)\n",
      "        else\n",
      "            let v9 : UH1 = UH1_1\n",
      "            method4(v1, v9)\n",
      "    | _ ->\n",
      "        let v12 : UH1 = UH1_1\n",
      "        method4(v1, v12)\n",
      "and method5 (v0 : UH1, v1 : int32) : int32 =\n",
      "    match v0 with\n",
      "    | UH1_0(v2, v3) -> (* Cons *)\n",
      "        let v4 : int32 = v1 + v2\n",
      "        method5(v3, v4)\n",
      "    | UH1_1 -> (* Nil *)\n",
      "        v1\n",
      "and method0 () : unit =\n",
      "    let v0 : int32 = 0\n",
      "    let v1 : UH0 = method1(v0)\n",
      "    let v2 : UH1 = UH1_1\n",
      "    let v3 : int32 = 0\n",
      "    let v4 : UH1 = method2(v1, v2, v3)\n",
      "    let v5 : int32 = 0\n",
      "    let v6 : int32 = method5(v4, v5)\n",
      "    let v7 : bool = v6 = 10\n",
      "    let v8 : string = $\"_equal / actual: %A{v6} / expected: %A{10}\"\n",
      "    let v9 : bool = v7 = false\n",
      "    if v9 then\n",
      "        failwith<unit> v8\n",
      "method0()\n",
      "\r\n",
      "print_and_return / x: 0\r\n",
      "print_and_return / x: 1\r\n",
      "print_and_return / x: 1\r\n",
      "print_and_return / x: 2\r\n",
      "print_and_return / x: 1\r\n",
      "print_and_return / x: 2\r\n",
      "print_and_return / x: 3\r\n",
      "print_and_return / x: 1\r\n",
      "print_and_return / x: 2\r\n",
      "print_and_return / x: 3\r\n",
      "print_and_return / x: 4\r\n",
      "print_and_return / x: 1\r\n",
      "print_and_return / x: 2\r\n",
      "print_and_return / x: 3\r\n",
      "print_and_return / x: 4\r\n",
      "print_and_return / x: 5\r\n"
     ]
    }
   ],
   "source": [
    "// // test\n",
    "\n",
    "stream.new_infinite_stream_ print_and_return\n",
    "|> flip stream.try_item\n",
    "|> take_while_ (fun n (_ : i32) => n < 5i32)\n",
    "|> listm'.sum\n",
    "|> _equal 10"
   ]
  },
  {
   "cell_type": "code",
   "execution_count": null,
   "metadata": {
    "dotnet_interactive": {
     "language": "spiral"
    },
    "polyglot_notebook": {
     "kernelName": "spiral"
    }
   },
   "outputs": [
    {
     "name": "stdout",
     "output_type": "stream",
     "text": [
      "type UH0 =\n",
      "    | UH0_0 of int32 * (unit -> UH0)\n",
      "    | UH0_1\n",
      "and [<Struct>] US0 =\n",
      "    | US0_0 of f0_0 : UH0\n",
      "    | US0_1 of f1_0 : (unit -> UH0)\n",
      "and Mut0 = {mutable l0 : US0}\n",
      "and UH1 =\n",
      "    | UH1_0 of int32 * UH1\n",
      "    | UH1_1\n",
      "and [<Struct>] US1 =\n",
      "    | US1_0\n",
      "    | US1_1 of f1_0 : int32\n",
      "let rec closure0 (v0 : int32) () : UH0 =\n",
      "    let v1 : int32 = v0 + 1\n",
      "    method1(v1)\n",
      "and method1 (v0 : int32) : UH0 =\n",
      "    printfn $\"print_and_return / x: {v0}\"\n",
      "    let v1 : (unit -> UH0) = closure0(v0)\n",
      "    UH0_0(v0, v1)\n",
      "and closure1 (v0 : UH0) () : UH0 =\n",
      "    v0\n",
      "and closure2 (v0 : UH0, v1 : Mut0) () : UH0 =\n",
      "    let v2 : US0 = v1.l0\n",
      "    match v2 with\n",
      "    | US0_0(v3) -> (* Computed *)\n",
      "        v3\n",
      "    | US0_1(v4) -> (* NotComputed *)\n",
      "        let v5 : UH0 = v4 ()\n",
      "        let v12 : UH0 =\n",
      "            match v5 with\n",
      "            | UH0_0(v7, v8) -> (* StreamCons *)\n",
      "                let v9 : (unit -> UH0) = method2(v0, v8)\n",
      "                UH0_0(v7, v9)\n",
      "            | UH0_1 -> (* StreamNil *)\n",
      "                UH0_1\n",
      "        let v13 : US0 = US0_0(v12)\n",
      "        v1.l0 <- v13\n",
      "        v12\n",
      "and method2 (v0 : UH0, v1 : (unit -> UH0)) : (unit -> UH0) =\n",
      "    let v2 : US0 = US0_1(v1)\n",
      "    let v3 : Mut0 = {l0 = v2} : Mut0\n",
      "    closure2(v0, v3)\n",
      "and method4 (v0 : int32, v1 : UH0) : US1 =\n",
      "    match v1 with\n",
      "    | UH0_0(v2, v3) -> (* StreamCons *)\n",
      "        let v4 : bool = v0 <= 0\n",
      "        if v4 then\n",
      "            US1_1(v2)\n",
      "        else\n",
      "            let v6 : int32 = v0 - 1\n",
      "            let v7 : UH0 = v3 ()\n",
      "            method4(v6, v7)\n",
      "    | UH0_1 -> (* StreamNil *)\n",
      "        US1_0\n",
      "and method5 (v0 : UH1, v1 : UH1) : UH1 =\n",
      "    match v0 with\n",
      "    | UH1_0(v2, v3) -> (* Cons *)\n",
      "        let v4 : UH1 = UH1_0(v2, v1)\n",
      "        method5(v3, v4)\n",
      "    | UH1_1 -> (* Nil *)\n",
      "        v1\n",
      "and method3 (v0 : UH0, v1 : UH1, v2 : int32) : UH1 =\n",
      "    let v3 : US1 = method4(v2, v0)\n",
      "    match v3 with\n",
      "    | US1_1(v4) -> (* Some *)\n",
      "        let v5 : bool = v4 < 5\n",
      "        if v5 then\n",
      "            let v6 : UH1 = UH1_0(v4, v1)\n",
      "            let v7 : int32 = v2 + 1\n",
      "            method3(v0, v6, v7)\n",
      "        else\n",
      "            let v9 : UH1 = UH1_1\n",
      "            method5(v1, v9)\n",
      "    | _ ->\n",
      "        let v12 : UH1 = UH1_1\n",
      "        method5(v1, v12)\n",
      "and method6 (v0 : UH1, v1 : int32) : int32 =\n",
      "    match v0 with\n",
      "    | UH1_0(v2, v3) -> (* Cons *)\n",
      "        let v4 : int32 = v1 + v2\n",
      "        method6(v3, v4)\n",
      "    | UH1_1 -> (* Nil *)\n",
      "        v1\n",
      "and method0 () : unit =\n",
      "    let v0 : int32 = 0\n",
      "    let v1 : UH0 = method1(v0)\n",
      "    let v2 : (unit -> UH0) = closure1(v1)\n",
      "    let v3 : (unit -> UH0) = method2(v1, v2)\n",
      "    let v4 : UH0 = v3 ()\n",
      "    let v5 : UH1 = UH1_1\n",
      "    let v6 : int32 = 0\n",
      "    let v7 : UH1 = method3(v4, v5, v6)\n",
      "    let v8 : int32 = 0\n",
      "    let v9 : int32 = method6(v7, v8)\n",
      "    let v10 : bool = v9 = 10\n",
      "    let v11 : string = $\"_equal / actual: %A{v9} / expected: %A{10}\"\n",
      "    let v12 : bool = v10 = false\n",
      "    if v12 then\n",
      "        failwith<unit> v11\n",
      "method0()\n",
      "\r\n",
      "print_and_return / x: 0\r\n",
      "print_and_return / x: 1\r\n",
      "print_and_return / x: 2\r\n",
      "print_and_return / x: 3\r\n",
      "print_and_return / x: 4\r\n",
      "print_and_return / x: 5\r\n"
     ]
    }
   ],
   "source": [
    "// // test\n",
    "\n",
    "stream.new_infinite_stream_ print_and_return\n",
    "|> stream.memoize\n",
    "|> fun list =>\n",
    "    inl list = list ()\n",
    "    fun n =>\n",
    "        list |> stream.try_item n\n",
    "|> take_while_ (fun n (_ : i32) => n < 5i32)\n",
    "|> listm'.sum\n",
    "|> _equal 10"
   ]
  },
  {
   "cell_type": "code",
   "execution_count": null,
   "metadata": {
    "dotnet_interactive": {
     "language": "spiral"
    },
    "polyglot_notebook": {
     "kernelName": "spiral"
    }
   },
   "outputs": [
    {
     "name": "stdout",
     "output_type": "stream",
     "text": [
      "type UH0 =\n",
      "    | UH0_0 of int32 * (unit -> UH0)\n",
      "    | UH0_1\n",
      "and [<Struct>] US0 =\n",
      "    | US0_0 of f0_0 : UH0\n",
      "    | US0_1 of f1_0 : (unit -> UH0)\n",
      "and Mut0 = {mutable l0 : US0}\n",
      "and UH1 =\n",
      "    | UH1_0 of int32 * UH1\n",
      "    | UH1_1\n",
      "and [<Struct>] US1 =\n",
      "    | US1_0\n",
      "    | US1_1 of f1_0 : int32\n",
      "let rec closure10 () () : UH0 =\n",
      "    UH0_1\n",
      "and closure9 () () : UH0 =\n",
      "    printfn $\"print_and_return / x: {9}\"\n",
      "    let v0 : (unit -> UH0) = closure10()\n",
      "    UH0_0(9, v0)\n",
      "and closure8 () () : UH0 =\n",
      "    printfn $\"print_and_return / x: {8}\"\n",
      "    let v0 : (unit -> UH0) = closure9()\n",
      "    UH0_0(8, v0)\n",
      "and closure7 () () : UH0 =\n",
      "    printfn $\"print_and_return / x: {7}\"\n",
      "    let v0 : (unit -> UH0) = closure8()\n",
      "    UH0_0(7, v0)\n",
      "and closure6 () () : UH0 =\n",
      "    printfn $\"print_and_return / x: {6}\"\n",
      "    let v0 : (unit -> UH0) = closure7()\n",
      "    UH0_0(6, v0)\n",
      "and closure5 () () : UH0 =\n",
      "    printfn $\"print_and_return / x: {5}\"\n",
      "    let v0 : (unit -> UH0) = closure6()\n",
      "    UH0_0(5, v0)\n",
      "and closure4 () () : UH0 =\n",
      "    printfn $\"print_and_return / x: {4}\"\n",
      "    let v0 : (unit -> UH0) = closure5()\n",
      "    UH0_0(4, v0)\n",
      "and closure3 () () : UH0 =\n",
      "    printfn $\"print_and_return / x: {3}\"\n",
      "    let v0 : (unit -> UH0) = closure4()\n",
      "    UH0_0(3, v0)\n",
      "and closure2 () () : UH0 =\n",
      "    printfn $\"print_and_return / x: {2}\"\n",
      "    let v0 : (unit -> UH0) = closure3()\n",
      "    UH0_0(2, v0)\n",
      "and closure1 () () : UH0 =\n",
      "    printfn $\"print_and_return / x: {1}\"\n",
      "    let v0 : (unit -> UH0) = closure2()\n",
      "    UH0_0(1, v0)\n",
      "and closure0 () () : UH0 =\n",
      "    let v0 : (unit -> UH0) = closure1()\n",
      "    UH0_0(0, v0)\n",
      "and closure11 (v0 : Mut0) () : UH0 =\n",
      "    let v1 : US0 = v0.l0\n",
      "    match v1 with\n",
      "    | US0_0(v2) -> (* Computed *)\n",
      "        v2\n",
      "    | US0_1(v3) -> (* NotComputed *)\n",
      "        let v4 : UH0 = v3 ()\n",
      "        let v13 : UH0 =\n",
      "            match v4 with\n",
      "            | UH0_0(v6, v7) -> (* StreamCons *)\n",
      "                let v8 : US0 = US0_1(v7)\n",
      "                let v9 : Mut0 = {l0 = v8} : Mut0\n",
      "                let v10 : (unit -> UH0) = closure11(v9)\n",
      "                UH0_0(v6, v10)\n",
      "            | UH0_1 -> (* StreamNil *)\n",
      "                UH0_1\n",
      "        let v14 : US0 = US0_0(v13)\n",
      "        v0.l0 <- v14\n",
      "        v13\n",
      "and method2 (v0 : int32, v1 : UH0) : US1 =\n",
      "    match v1 with\n",
      "    | UH0_0(v2, v3) -> (* StreamCons *)\n",
      "        let v4 : bool = v0 <= 0\n",
      "        if v4 then\n",
      "            US1_1(v2)\n",
      "        else\n",
      "            let v6 : int32 = v0 - 1\n",
      "            let v7 : UH0 = v3 ()\n",
      "            method2(v6, v7)\n",
      "    | UH0_1 -> (* StreamNil *)\n",
      "        US1_0\n",
      "and method3 (v0 : UH1, v1 : UH1) : UH1 =\n",
      "    match v0 with\n",
      "    | UH1_0(v2, v3) -> (* Cons *)\n",
      "        let v4 : UH1 = UH1_0(v2, v1)\n",
      "        method3(v3, v4)\n",
      "    | UH1_1 -> (* Nil *)\n",
      "        v1\n",
      "and method1 (v0 : UH0, v1 : UH1, v2 : int32) : UH1 =\n",
      "    let v3 : US1 = method2(v2, v0)\n",
      "    match v3 with\n",
      "    | US1_1(v4) -> (* Some *)\n",
      "        let v5 : bool = v4 < 5\n",
      "        if v5 then\n",
      "            let v6 : UH1 = UH1_0(v4, v1)\n",
      "            let v7 : int32 = v2 + 1\n",
      "            method1(v0, v6, v7)\n",
      "        else\n",
      "            let v9 : UH1 = UH1_1\n",
      "            method3(v1, v9)\n",
      "    | _ ->\n",
      "        let v12 : UH1 = UH1_1\n",
      "        method3(v1, v12)\n",
      "and method4 (v0 : UH1, v1 : int32) : int32 =\n",
      "    match v0 with\n",
      "    | UH1_0(v2, v3) -> (* Cons *)\n",
      "        let v4 : int32 = v1 + v2\n",
      "        method4(v3, v4)\n",
      "    | UH1_1 -> (* Nil *)\n",
      "        v1\n",
      "and method0 () : unit =\n",
      "    printfn $\"print_and_return / x: {0}\"\n",
      "    let v0 : (unit -> UH0) = closure0()\n",
      "    let v1 : US0 = US0_1(v0)\n",
      "    let v2 : Mut0 = {l0 = v1} : Mut0\n",
      "    let v3 : US0 = v2.l0\n",
      "    let v18 : UH0 =\n",
      "        match v3 with\n",
      "        | US0_0(v4) -> (* Computed *)\n",
      "            v4\n",
      "        | US0_1(v5) -> (* NotComputed *)\n",
      "            let v6 : UH0 = v5 ()\n",
      "            let v15 : UH0 =\n",
      "                match v6 with\n",
      "                | UH0_0(v8, v9) -> (* StreamCons *)\n",
      "                    let v10 : US0 = US0_1(v9)\n",
      "                    let v11 : Mut0 = {l0 = v10} : Mut0\n",
      "                    let v12 : (unit -> UH0) = closure11(v11)\n",
      "                    UH0_0(v8, v12)\n",
      "                | UH0_1 -> (* StreamNil *)\n",
      "                    UH0_1\n",
      "            let v16 : US0 = US0_0(v15)\n",
      "            v2.l0 <- v16\n",
      "            v15\n",
      "    let v19 : UH1 = UH1_1\n",
      "    let v20 : int32 = 0\n",
      "    let v21 : UH1 = method1(v18, v19, v20)\n",
      "    let v22 : int32 = 0\n",
      "    let v23 : int32 = method4(v21, v22)\n",
      "    let v24 : bool = v23 = 10\n",
      "    let v25 : string = $\"_equal / actual: %A{v23} / expected: %A{10}\"\n",
      "    let v26 : bool = v24 = false\n",
      "    if v26 then\n",
      "        failwith<unit> v25\n",
      "method0()\n",
      "\r\n",
      "print_and_return / x: 0\r\n",
      "print_and_return / x: 1\r\n",
      "print_and_return / x: 2\r\n",
      "print_and_return / x: 3\r\n",
      "print_and_return / x: 4\r\n",
      "print_and_return / x: 5\r\n"
     ]
    }
   ],
   "source": [
    "// // test\n",
    "\n",
    "stream.new_finite_stream print_and_return 10i32\n",
    "|> stream.memoize\n",
    "|> fun list =>\n",
    "    inl list = list ()\n",
    "    fun n =>\n",
    "        list |> stream.try_item n\n",
    "|> take_while_ (fun n (_ : i32) => n < 5)\n",
    "|> listm'.sum\n",
    "|> _equal 10"
   ]
  },
  {
   "cell_type": "markdown",
   "metadata": {},
   "source": [
    "## memoize"
   ]
  },
  {
   "cell_type": "code",
   "execution_count": null,
   "metadata": {
    "dotnet_interactive": {
     "language": "spiral"
    },
    "polyglot_notebook": {
     "kernelName": "spiral"
    }
   },
   "outputs": [
    {
     "name": "stdout",
     "output_type": "stream",
     "text": [
      "()\n",
      "\r\n"
     ]
    }
   ],
   "source": [
    "inl memoize seq =\n",
    "    inl state = mut []\n",
    "    fun n =>\n",
    "        match *state |> listm'.try_find (fun (n', _) => n' = n) with\n",
    "        | Some (_, v) => v\n",
    "        | None =>\n",
    "            inl new_state = seq n\n",
    "            state <- (n, new_state) :: *state\n",
    "            new_state\n",
    "\n",
    "inl memoize_ seq =\n",
    "    inl state = mut []\n",
    "    fun n =>\n",
    "        match *state |> listm'.try_find_ (fun (n', _) => n' = n) with\n",
    "        | Some (_, v) => v\n",
    "        | None =>\n",
    "            inl new_state = seq n\n",
    "            state <- (n, new_state) :: *state\n",
    "            new_state"
   ]
  },
  {
   "cell_type": "code",
   "execution_count": null,
   "metadata": {
    "dotnet_interactive": {
     "language": "spiral"
    },
    "polyglot_notebook": {
     "kernelName": "spiral"
    }
   },
   "outputs": [
    {
     "name": "stdout",
     "output_type": "stream",
     "text": [
      "type [<Struct>] US0 =\n",
      "    | US0_0\n",
      "    | US0_1 of f1_0 : int32\n",
      "and UH0 =\n",
      "    | UH0_0 of int32 * US0 * UH0\n",
      "    | UH0_1\n",
      "and Mut0 = {mutable l0 : UH0}\n",
      "and UH1 =\n",
      "    | UH1_0 of int32 * UH1\n",
      "    | UH1_1\n",
      "and [<Struct>] US1 =\n",
      "    | US1_0\n",
      "    | US1_1 of f1_0 : int32 * f1_1 : US0\n",
      "let rec method2 (v0 : int32, v1 : UH0) : US1 =\n",
      "    match v1 with\n",
      "    | UH0_0(v3, v4, v5) -> (* Cons *)\n",
      "        let v6 : bool = v3 = v0\n",
      "        if v6 then\n",
      "            US1_1(v3, v4)\n",
      "        else\n",
      "            method2(v0, v5)\n",
      "    | UH0_1 -> (* Nil *)\n",
      "        US1_0\n",
      "and method3 (v0 : UH1, v1 : UH1) : UH1 =\n",
      "    match v0 with\n",
      "    | UH1_0(v2, v3) -> (* Cons *)\n",
      "        let v4 : UH1 = UH1_0(v2, v1)\n",
      "        method3(v3, v4)\n",
      "    | UH1_1 -> (* Nil *)\n",
      "        v1\n",
      "and method1 (v0 : Mut0, v1 : UH1, v2 : int32) : UH1 =\n",
      "    let v3 : UH0 = v0.l0\n",
      "    let v4 : US1 = method2(v2, v3)\n",
      "    let v12 : US0 =\n",
      "        match v4 with\n",
      "        | US1_0 -> (* None *)\n",
      "            printfn $\"print_and_return / x: {v2}\"\n",
      "            let v7 : UH0 = v0.l0\n",
      "            let v8 : US0 = US0_1(v2)\n",
      "            let v9 : UH0 = UH0_0(v2, v8, v7)\n",
      "            v0.l0 <- v9\n",
      "            US0_1(v2)\n",
      "        | US1_1(v5, v6) -> (* Some *)\n",
      "            v6\n",
      "    match v12 with\n",
      "    | US0_1(v13) -> (* Some *)\n",
      "        let v14 : bool = v13 < 5\n",
      "        if v14 then\n",
      "            let v15 : UH1 = UH1_0(v13, v1)\n",
      "            let v16 : int32 = v2 + 1\n",
      "            method1(v0, v15, v16)\n",
      "        else\n",
      "            let v18 : UH1 = UH1_1\n",
      "            method3(v1, v18)\n",
      "    | _ ->\n",
      "        let v21 : UH1 = UH1_1\n",
      "        method3(v1, v21)\n",
      "and method4 (v0 : UH1, v1 : int32) : int32 =\n",
      "    match v0 with\n",
      "    | UH1_0(v2, v3) -> (* Cons *)\n",
      "        let v4 : int32 = v1 + v2\n",
      "        method4(v3, v4)\n",
      "    | UH1_1 -> (* Nil *)\n",
      "        v1\n",
      "and method5 (v0 : Mut0, v1 : UH1, v2 : int32) : UH1 =\n",
      "    let v3 : UH0 = v0.l0\n",
      "    let v4 : US1 = method2(v2, v3)\n",
      "    let v12 : US0 =\n",
      "        match v4 with\n",
      "        | US1_0 -> (* None *)\n",
      "            printfn $\"print_and_return / x: {v2}\"\n",
      "            let v7 : UH0 = v0.l0\n",
      "            let v8 : US0 = US0_1(v2)\n",
      "            let v9 : UH0 = UH0_0(v2, v8, v7)\n",
      "            v0.l0 <- v9\n",
      "            US0_1(v2)\n",
      "        | US1_1(v5, v6) -> (* Some *)\n",
      "            v6\n",
      "    match v12 with\n",
      "    | US0_1(v13) -> (* Some *)\n",
      "        let v14 : bool = v13 < 5\n",
      "        if v14 then\n",
      "            let v15 : UH1 = UH1_0(v13, v1)\n",
      "            let v16 : int32 = v2 + 1\n",
      "            method5(v0, v15, v16)\n",
      "        else\n",
      "            let v18 : UH1 = UH1_1\n",
      "            method3(v1, v18)\n",
      "    | _ ->\n",
      "        let v21 : UH1 = UH1_1\n",
      "        method3(v1, v21)\n",
      "and method0 () : unit =\n",
      "    let v0 : UH0 = UH0_1\n",
      "    let v1 : Mut0 = {l0 = v0} : Mut0\n",
      "    let v2 : UH1 = UH1_1\n",
      "    let v3 : int32 = 0\n",
      "    let v4 : UH1 = method1(v1, v2, v3)\n",
      "    let v5 : int32 = 0\n",
      "    let v6 : int32 = method4(v4, v5)\n",
      "    let v7 : bool = v6 = 10\n",
      "    let v8 : string = $\"_equal / actual: %A{v6} / expected: %A{10}\"\n",
      "    let v9 : bool = v7 = false\n",
      "    if v9 then\n",
      "        failwith<unit> v8\n",
      "    let v10 : UH1 = UH1_1\n",
      "    let v11 : int32 = 0\n",
      "    let v12 : UH1 = method5(v1, v10, v11)\n",
      "    let v13 : int32 = 0\n",
      "    let v14 : int32 = method4(v12, v13)\n",
      "    let v15 : bool = v14 = 10\n",
      "    let v16 : string = $\"_equal / actual: %A{v14} / expected: %A{10}\"\n",
      "    let v17 : bool = v15 = false\n",
      "    if v17 then\n",
      "        failwith<unit> v16\n",
      "method0()\n",
      "\r\n",
      "print_and_return / x: 0\r\n",
      "print_and_return / x: 1\r\n",
      "print_and_return / x: 2\r\n",
      "print_and_return / x: 3\r\n",
      "print_and_return / x: 4\r\n",
      "print_and_return / x: 5\r\n"
     ]
    }
   ],
   "source": [
    "// // test\n",
    "\n",
    "inl seq =\n",
    "    fun n =>\n",
    "        n |> print_and_return |> Some\n",
    "    |> memoize_\n",
    "\n",
    "seq\n",
    "|> take_while_ (fun n (_ : i32) => n < 5)\n",
    "|> listm'.sum\n",
    "|> _equal 10\n",
    "\n",
    "seq\n",
    "|> take_while_ (fun n _ => n < 5)\n",
    "|> listm'.sum\n",
    "|> _equal 10"
   ]
  },
  {
   "cell_type": "markdown",
   "metadata": {},
   "source": [
    "## iterate"
   ]
  },
  {
   "cell_type": "code",
   "execution_count": null,
   "metadata": {
    "dotnet_interactive": {
     "language": "spiral"
    },
    "polyglot_notebook": {
     "kernelName": "spiral"
    }
   },
   "outputs": [
    {
     "name": "stdout",
     "output_type": "stream",
     "text": [
      "()\n",
      "\r\n"
     ]
    }
   ],
   "source": [
    "inl iterate f x0 num_steps =\n",
    "    inl rec loop x n =\n",
    "        if n <= 0\n",
    "        then x\n",
    "        else loop (f x) (n - 1)\n",
    "    loop x0 num_steps"
   ]
  },
  {
   "cell_type": "code",
   "execution_count": null,
   "metadata": {
    "dotnet_interactive": {
     "language": "spiral"
    },
    "polyglot_notebook": {
     "kernelName": "spiral"
    }
   },
   "outputs": [
    {
     "name": "stdout",
     "output_type": "stream",
     "text": [
      "let rec method0 () : unit =\n",
      "    let v0 : string = $\"_equal / actual: %A{1024} / expected: %A{1024}\"\n",
      "    ()\n",
      "method0()\n",
      "\r\n"
     ]
    }
   ],
   "source": [
    "// // test\n",
    "\n",
    "10i32 |> iterate ((*) 2) 1i32\n",
    "|> _equal 1024"
   ]
  },
  {
   "cell_type": "code",
   "execution_count": null,
   "metadata": {
    "dotnet_interactive": {
     "language": "spiral"
    },
    "polyglot_notebook": {
     "kernelName": "spiral"
    }
   },
   "outputs": [
    {
     "name": "stdout",
     "output_type": "stream",
     "text": [
      "()\n",
      "\r\n"
     ]
    }
   ],
   "source": [
    "inl iterate_ f x0 num_steps =\n",
    "    let rec loop x n =\n",
    "        if n <= 0\n",
    "        then x\n",
    "        else loop (f x) (n - 1)\n",
    "    loop x0 num_steps"
   ]
  },
  {
   "cell_type": "code",
   "execution_count": null,
   "metadata": {
    "dotnet_interactive": {
     "language": "spiral"
    },
    "polyglot_notebook": {
     "kernelName": "spiral"
    }
   },
   "outputs": [
    {
     "name": "stdout",
     "output_type": "stream",
     "text": [
      "let rec method1 (v0 : int32, v1 : int32) : int32 =\n",
      "    let v2 : bool = v1 <= 0\n",
      "    if v2 then\n",
      "        v0\n",
      "    else\n",
      "        let v3 : int32 = 2 * v0\n",
      "        let v4 : int32 = v1 - 1\n",
      "        method1(v3, v4)\n",
      "and method0 () : unit =\n",
      "    let v0 : int32 = 1\n",
      "    let v1 : int32 = 10\n",
      "    let v2 : int32 = method1(v0, v1)\n",
      "    let v3 : bool = v2 = 1024\n",
      "    let v4 : string = $\"_equal / actual: %A{v2} / expected: %A{1024}\"\n",
      "    let v5 : bool = v3 = false\n",
      "    if v5 then\n",
      "        failwith<unit> v4\n",
      "method0()\n",
      "\r\n"
     ]
    }
   ],
   "source": [
    "// // test\n",
    "\n",
    "10i32 |> iterate_ ((*) 2) 1i32\n",
    "|> _equal 1024"
   ]
  },
  {
   "cell_type": "code",
   "execution_count": null,
   "metadata": {
    "dotnet_interactive": {
     "language": "spiral"
    },
    "polyglot_notebook": {
     "kernelName": "spiral"
    }
   },
   "outputs": [
    {
     "name": "stdout",
     "output_type": "stream",
     "text": [
      "()\n",
      "\r\n"
     ]
    }
   ],
   "source": [
    "inl iterate' f x0 num_steps =\n",
    "    listm.init num_steps id\n",
    "    |> listm.fold (fun x _ => f x) x0"
   ]
  },
  {
   "cell_type": "code",
   "execution_count": null,
   "metadata": {
    "dotnet_interactive": {
     "language": "spiral"
    },
    "polyglot_notebook": {
     "kernelName": "spiral"
    }
   },
   "outputs": [
    {
     "name": "stdout",
     "output_type": "stream",
     "text": [
      "let rec method0 () : unit =\n",
      "    let v0 : string = $\"_equal / actual: %A{1024} / expected: %A{1024}\"\n",
      "    ()\n",
      "method0()\n",
      "\r\n"
     ]
    }
   ],
   "source": [
    "// // test\n",
    "\n",
    "10i32 |> iterate' ((*) 2) 1i32\n",
    "|> _equal 1024"
   ]
  }
 ],
 "metadata": {},
 "nbformat": 4,
 "nbformat_minor": 5
}