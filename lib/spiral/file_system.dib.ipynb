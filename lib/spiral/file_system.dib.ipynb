{
 "cells": [
  {
   "cell_type": "markdown",
   "metadata": {},
   "source": [
    "# file_system"
   ]
  },
  {
   "cell_type": "code",
   "execution_count": null,
   "metadata": {
    "dotnet_interactive": {
     "language": "spiral"
    },
    "polyglot_notebook": {
     "kernelName": "spiral"
    }
   },
   "outputs": [
    {
     "name": "stdout",
     "output_type": "stream",
     "text": [
      "()\n",
      "\r\n"
     ]
    }
   ],
   "source": [
    "open rust_operators\n",
    "open sm'_operators"
   ]
  },
  {
   "cell_type": "code",
   "execution_count": null,
   "metadata": {
    "dotnet_interactive": {
     "language": "spiral"
    },
    "polyglot_notebook": {
     "kernelName": "spiral"
    }
   },
   "outputs": [
    {
     "name": "stdout",
     "output_type": "stream",
     "text": [
      "()\n",
      "\r\n"
     ]
    }
   ],
   "source": [
    "// // test\n",
    "\n",
    "open testing"
   ]
  },
  {
   "cell_type": "markdown",
   "metadata": {},
   "source": [
    "## types"
   ]
  },
  {
   "cell_type": "code",
   "execution_count": null,
   "metadata": {
    "dotnet_interactive": {
     "language": "spiral"
    },
    "polyglot_notebook": {
     "kernelName": "spiral"
    }
   },
   "outputs": [
    {
     "name": "stdout",
     "output_type": "stream",
     "text": [
      "()\n",
      "\r\n"
     ]
    }
   ],
   "source": [
    "inl types () =\n",
    "    global \"[<Fable.Core.Erase; Fable.Core.Emit(\\\"std::path::Path\\\")>] type std_path_Path = class end\"\n",
    "    global \"[<Fable.Core.Erase; Fable.Core.Emit(\\\"std::path::PathBuf\\\")>] type std_path_PathBuf = class end\""
   ]
  },
  {
   "cell_type": "code",
   "execution_count": null,
   "metadata": {
    "dotnet_interactive": {
     "language": "spiral"
    },
    "polyglot_notebook": {
     "kernelName": "spiral"
    }
   },
   "outputs": [
    {
     "name": "stdout",
     "output_type": "stream",
     "text": [
      "()\n",
      "\r\n"
     ]
    }
   ],
   "source": [
    "inl types () =\n",
    "    global \"#if FABLE_COMPILER // file_system.types\"\n",
    "    sm'.types ()\n",
    "    rust.types ()\n",
    "    types ()\n",
    "    global \"#endif // file_system.types\""
   ]
  },
  {
   "cell_type": "markdown",
   "metadata": {},
   "source": [
    "## path"
   ]
  },
  {
   "cell_type": "code",
   "execution_count": null,
   "metadata": {
    "dotnet_interactive": {
     "language": "spiral"
    },
    "polyglot_notebook": {
     "kernelName": "spiral"
    }
   },
   "outputs": [
    {
     "name": "stdout",
     "output_type": "stream",
     "text": [
      "()\n",
      "\r\n"
     ]
    }
   ],
   "source": [
    "nominal path = $'std_path_Path'\n",
    "nominal path_buf = $'std_path_PathBuf'"
   ]
  },
  {
   "cell_type": "markdown",
   "metadata": {},
   "source": [
    "## new_path_buf"
   ]
  },
  {
   "cell_type": "code",
   "execution_count": null,
   "metadata": {
    "dotnet_interactive": {
     "language": "spiral"
    },
    "polyglot_notebook": {
     "kernelName": "spiral"
    }
   },
   "outputs": [
    {
     "name": "stdout",
     "output_type": "stream",
     "text": [
      "()\n",
      "\r\n"
     ]
    }
   ],
   "source": [
    "inl new_path_buf (path : string) : path_buf =\n",
    "    inl path = path |> sm'.to_std_string\n",
    "    !\\\\(path, $'\"std::path::PathBuf::from($0)\"')"
   ]
  },
  {
   "cell_type": "markdown",
   "metadata": {},
   "source": [
    "## path_buf_from"
   ]
  },
  {
   "cell_type": "code",
   "execution_count": null,
   "metadata": {
    "dotnet_interactive": {
     "language": "spiral"
    },
    "polyglot_notebook": {
     "kernelName": "spiral"
    }
   },
   "outputs": [
    {
     "name": "stdout",
     "output_type": "stream",
     "text": [
      "()\n",
      "\r\n"
     ]
    }
   ],
   "source": [
    "inl path_buf_from (path : rust.box path) : path_buf =\n",
    "    !\\\\(path, $'\"std::path::PathBuf::from($0)\"')"
   ]
  },
  {
   "cell_type": "markdown",
   "metadata": {},
   "source": [
    "## path_join"
   ]
  },
  {
   "cell_type": "code",
   "execution_count": null,
   "metadata": {
    "dotnet_interactive": {
     "language": "spiral"
    },
    "polyglot_notebook": {
     "kernelName": "spiral"
    }
   },
   "outputs": [
    {
     "name": "stdout",
     "output_type": "stream",
     "text": [
      "()\n",
      "\r\n"
     ]
    }
   ],
   "source": [
    "inl path_join (s : string) (path_buf : path_buf) : path_buf =\n",
    "    !\\\\((path_buf, s |> sm'.to_std_string), $'\"$0.join($1)\"')"
   ]
  },
  {
   "cell_type": "markdown",
   "metadata": {},
   "source": [
    "## path_display"
   ]
  },
  {
   "cell_type": "code",
   "execution_count": null,
   "metadata": {
    "dotnet_interactive": {
     "language": "spiral"
    },
    "polyglot_notebook": {
     "kernelName": "spiral"
    }
   },
   "outputs": [
    {
     "name": "stdout",
     "output_type": "stream",
     "text": [
      "()\n",
      "\r\n"
     ]
    }
   ],
   "source": [
    "inl path_display (path : rust.ref' path) : sm'.std_string =\n",
    "    !\\\\(path, $'\"$0.display().to_string()\"')"
   ]
  },
  {
   "cell_type": "markdown",
   "metadata": {},
   "source": [
    "## path_buf_file_name"
   ]
  },
  {
   "cell_type": "code",
   "execution_count": null,
   "metadata": {
    "dotnet_interactive": {
     "language": "spiral"
    },
    "polyglot_notebook": {
     "kernelName": "spiral"
    }
   },
   "outputs": [
    {
     "name": "stdout",
     "output_type": "stream",
     "text": [
      "()\n",
      "\r\n"
     ]
    }
   ],
   "source": [
    "inl path_buf_file_name (path : path_buf) : optionm'.option' (rust.ref' sm'.os_str) =\n",
    "    !\\($'\"!path.file_name()\"')"
   ]
  },
  {
   "cell_type": "markdown",
   "metadata": {},
   "source": [
    "## path_buf_display"
   ]
  },
  {
   "cell_type": "code",
   "execution_count": null,
   "metadata": {
    "dotnet_interactive": {
     "language": "spiral"
    },
    "polyglot_notebook": {
     "kernelName": "spiral"
    }
   },
   "outputs": [
    {
     "name": "stdout",
     "output_type": "stream",
     "text": [
      "()\n",
      "\r\n"
     ]
    }
   ],
   "source": [
    "inl path_buf_display (path : path_buf) : sm'.std_string =\n",
    "    !\\\\(path, $'\"$0.display().to_string()\"')"
   ]
  },
  {
   "cell_type": "markdown",
   "metadata": {},
   "source": [
    "## path_exists"
   ]
  },
  {
   "cell_type": "code",
   "execution_count": null,
   "metadata": {
    "dotnet_interactive": {
     "language": "spiral"
    },
    "polyglot_notebook": {
     "kernelName": "spiral"
    }
   },
   "outputs": [
    {
     "name": "stdout",
     "output_type": "stream",
     "text": [
      "()\n",
      "\r\n"
     ]
    }
   ],
   "source": [
    "inl path_buf_exists (path_buf : path_buf) : bool =\n",
    "    !\\($'\"!path_buf.exists()\"')"
   ]
  },
  {
   "cell_type": "markdown",
   "metadata": {},
   "source": [
    "## path_is_dir"
   ]
  },
  {
   "cell_type": "code",
   "execution_count": null,
   "metadata": {
    "dotnet_interactive": {
     "language": "spiral"
    },
    "polyglot_notebook": {
     "kernelName": "spiral"
    }
   },
   "outputs": [
    {
     "name": "stdout",
     "output_type": "stream",
     "text": [
      "()\n",
      "\r\n"
     ]
    }
   ],
   "source": [
    "inl path_buf_is_dir (path_buf : path_buf) : bool =\n",
    "    !\\($'\"!path_buf.is_dir()\"')"
   ]
  },
  {
   "cell_type": "markdown",
   "metadata": {},
   "source": [
    "## path_is_file"
   ]
  },
  {
   "cell_type": "code",
   "execution_count": null,
   "metadata": {
    "dotnet_interactive": {
     "language": "spiral"
    },
    "polyglot_notebook": {
     "kernelName": "spiral"
    }
   },
   "outputs": [
    {
     "name": "stdout",
     "output_type": "stream",
     "text": [
      "()\n",
      "\r\n"
     ]
    }
   ],
   "source": [
    "inl path_buf_is_file (path_buf : path_buf) : bool =\n",
    "    !\\($'\"!path_buf.is_file()\"')"
   ]
  },
  {
   "cell_type": "markdown",
   "metadata": {},
   "source": [
    "## path_parent"
   ]
  },
  {
   "cell_type": "code",
   "execution_count": null,
   "metadata": {
    "dotnet_interactive": {
     "language": "spiral"
    },
    "polyglot_notebook": {
     "kernelName": "spiral"
    }
   },
   "outputs": [
    {
     "name": "stdout",
     "output_type": "stream",
     "text": [
      "()\n",
      "\r\n"
     ]
    }
   ],
   "source": [
    "inl path_buf_parent (path_buf : path_buf) : optionm'.option' path_buf =\n",
    "    !\\\\(path_buf, $'\"$0.parent().map(std::path::PathBuf::from)\"')"
   ]
  },
  {
   "cell_type": "markdown",
   "metadata": {},
   "source": [
    "## (< />)"
   ]
  },
  {
   "cell_type": "code",
   "execution_count": null,
   "metadata": {
    "dotnet_interactive": {
     "language": "spiral"
    },
    "polyglot_notebook": {
     "kernelName": "spiral"
    }
   },
   "outputs": [
    {
     "name": "stdout",
     "output_type": "stream",
     "text": [
      "()\n",
      "\r\n"
     ]
    }
   ],
   "source": [
    "inl (</>) (a : string) (b : string) : string =\n",
    "    run_target function\n",
    "        | Rust (Native) => fun () =>\n",
    "            a |> new_path_buf |> path_join b |> path_buf_display |> sm'.from_std_string\n",
    "        | Fsharp (Native)\n",
    "        | TypeScript (Native) => fun () =>\n",
    "            $'System.IO.Path.Combine (!a, !b)'\n",
    "        | target => fun () => null ()"
   ]
  },
  {
   "cell_type": "markdown",
   "metadata": {},
   "source": [
    "## get_temp_path"
   ]
  },
  {
   "cell_type": "code",
   "execution_count": null,
   "metadata": {
    "dotnet_interactive": {
     "language": "spiral"
    },
    "polyglot_notebook": {
     "kernelName": "spiral"
    }
   },
   "outputs": [
    {
     "name": "stdout",
     "output_type": "stream",
     "text": [
      "()\n",
      "\r\n"
     ]
    }
   ],
   "source": [
    "inl get_temp_path () : string =\n",
    "    $'System.IO.Path.GetTempPath' ()"
   ]
  },
  {
   "cell_type": "markdown",
   "metadata": {},
   "source": [
    "## get_entry_assembly_name"
   ]
  },
  {
   "cell_type": "code",
   "execution_count": null,
   "metadata": {
    "dotnet_interactive": {
     "language": "spiral"
    },
    "polyglot_notebook": {
     "kernelName": "spiral"
    }
   },
   "outputs": [
    {
     "name": "stdout",
     "output_type": "stream",
     "text": [
      "()\n",
      "\r\n"
     ]
    }
   ],
   "source": [
    "inl get_entry_assembly_name () : string =\n",
    "    run_target function\n",
    "        | Fsharp (Native) => fun () =>\n",
    "            $'System.Reflection.Assembly.GetEntryAssembly().GetName().Name'\n",
    "        | target => fun () => null ()"
   ]
  },
  {
   "cell_type": "markdown",
   "metadata": {},
   "source": [
    "## create_temp_directory_name"
   ]
  },
  {
   "cell_type": "code",
   "execution_count": null,
   "metadata": {
    "dotnet_interactive": {
     "language": "spiral"
    },
    "polyglot_notebook": {
     "kernelName": "spiral"
    }
   },
   "outputs": [
    {
     "name": "stdout",
     "output_type": "stream",
     "text": [
      "()\n",
      "\r\n"
     ]
    }
   ],
   "source": [
    "inl create_temp_directory_name () =\n",
    "    run_target function\n",
    "        | Fsharp (Native) => fun () =>\n",
    "            get_temp_path ()\n",
    "            </> ($'$\"\\!{!get_entry_assembly_name ()}\"' : string)\n",
    "            </> (date_time.now () |> date_time.new_guid_from_date_time |> sm'.obj_to_string)\n",
    "        | target => fun () => null ()"
   ]
  },
  {
   "cell_type": "code",
   "execution_count": null,
   "metadata": {
    "dotnet_interactive": {
     "language": "spiral"
    },
    "polyglot_notebook": {
     "kernelName": "spiral"
    }
   },
   "outputs": [
    {
     "name": "stdout",
     "output_type": "stream",
     "text": [
      "type [<Struct>] US0 =\n",
      "    | US0_0 of f0_0 : char\n",
      "    | US0_1\n",
      "let rec closure0 () () : string =\n",
      "    let v0 : string option = None\n",
      "    let mutable _v0 = v0\n",
      "    #if FABLE_COMPILER_RUST && !WASM && !CONTRACT\n",
      "    let v1 : string = null |> unbox<string>\n",
      "    v1 \n",
      "    #endif\n",
      "    #if FABLE_COMPILER_RUST && WASM\n",
      "    let v2 : string = null |> unbox<string>\n",
      "    v2 \n",
      "    #endif\n",
      "    #if FABLE_COMPILER_RUST && CONTRACT\n",
      "    let v3 : string = null |> unbox<string>\n",
      "    v3 \n",
      "    #endif\n",
      "    #if !FABLE_COMPILER && !FABLE_COMPILER_RUST && !FABLE_COMPILER_TYPESCRIPT && !WASM && !CONTRACT\n",
      "    let v4 : string = System.Reflection.Assembly.GetEntryAssembly().GetName().Name\n",
      "    v4 \n",
      "    #endif\n",
      "    #if FABLE_COMPILER_TYPESCRIPT && !WASM && !CONTRACT\n",
      "    let v5 : string = null |> unbox<string>\n",
      "    v5 \n",
      "    #endif\n",
      "    |> fun x -> _v0 <- Some x\n",
      "    let v6 : string = _v0 |> Option.get\n",
      "    v6\n",
      "and method1 (v0 : string) : string =\n",
      "    v0\n",
      "and closure1 (v0 : char) (v1 : char) : bool =\n",
      "    let v2 : bool = v0 = v1\n",
      "    v2\n",
      "and closure2 () (v0 : char) : US0 =\n",
      "    US0_0(v0)\n",
      "and method2 () : (char -> US0) =\n",
      "    closure2()\n",
      "and method3 (v0 : bool) : bool =\n",
      "    v0\n",
      "and method0 () : unit =\n",
      "    let v0 : string option = None\n",
      "    let mutable _v0 = v0\n",
      "    #if FABLE_COMPILER_RUST && !WASM && !CONTRACT\n",
      "    let v1 : string = null |> unbox<string>\n",
      "    v1 \n",
      "    #endif\n",
      "    #if FABLE_COMPILER_RUST && WASM\n",
      "    let v2 : string = null |> unbox<string>\n",
      "    v2 \n",
      "    #endif\n",
      "    #if FABLE_COMPILER_RUST && CONTRACT\n",
      "    let v3 : string = null |> unbox<string>\n",
      "    v3 \n",
      "    #endif\n",
      "    #if !FABLE_COMPILER && !FABLE_COMPILER_RUST && !FABLE_COMPILER_TYPESCRIPT && !WASM && !CONTRACT\n",
      "    let v4 : (unit -> string) = System.IO.Path.GetTempPath\n",
      "    let v5 : string = v4 ()\n",
      "    let v6 : (unit -> string) = closure0()\n",
      "    let v7 : string = $\"!{v6 ()}\"\n",
      "    let v8 : string option = None\n",
      "    let mutable _v8 = v8\n",
      "    #if FABLE_COMPILER_RUST && !WASM && !CONTRACT\n",
      "    let v9 : string = method1(v5)\n",
      "    let v10 : string = \"fable_library_rust::String_::LrcStr::as_str(&$0)\"\n",
      "    let v11 : Ref<Str> = Fable.Core.RustInterop.emitRustExpr v9 v10\n",
      "    let v12 : string = \"String::from($0)\"\n",
      "    let v13 : std_string_String = Fable.Core.RustInterop.emitRustExpr v11 v12\n",
      "    let v14 : string = \"std::path::PathBuf::from($0)\"\n",
      "    let v15 : std_path_PathBuf = Fable.Core.RustInterop.emitRustExpr v13 v14\n",
      "    let v16 : string = method1(v7)\n",
      "    let v17 : string = \"fable_library_rust::String_::LrcStr::as_str(&$0)\"\n",
      "    let v18 : Ref<Str> = Fable.Core.RustInterop.emitRustExpr v16 v17\n",
      "    let v19 : string = \"String::from($0)\"\n",
      "    let v20 : std_string_String = Fable.Core.RustInterop.emitRustExpr v18 v19\n",
      "    let v21 : string = \"$0.join($1)\"\n",
      "    let v22 : std_path_PathBuf = Fable.Core.RustInterop.emitRustExpr struct (v15, v20) v21\n",
      "    let v23 : string = \"$0.display().to_string()\"\n",
      "    let v24 : std_string_String = Fable.Core.RustInterop.emitRustExpr v22 v23\n",
      "    let v25 : string = \"fable_library_rust::String_::fromString($0)\"\n",
      "    let v26 : string = Fable.Core.RustInterop.emitRustExpr v24 v25\n",
      "    v26 \n",
      "    #endif\n",
      "    #if FABLE_COMPILER_RUST && WASM\n",
      "    let v27 : string = null |> unbox<string>\n",
      "    v27 \n",
      "    #endif\n",
      "    #if FABLE_COMPILER_RUST && CONTRACT\n",
      "    let v28 : string = null |> unbox<string>\n",
      "    v28 \n",
      "    #endif\n",
      "    #if !FABLE_COMPILER && !FABLE_COMPILER_RUST && !FABLE_COMPILER_TYPESCRIPT && !WASM && !CONTRACT\n",
      "    let v29 : string = System.IO.Path.Combine (v5, v7)\n",
      "    v29 \n",
      "    #endif\n",
      "    #if FABLE_COMPILER_TYPESCRIPT && !WASM && !CONTRACT\n",
      "    let v30 : string = System.IO.Path.Combine (v5, v7)\n",
      "    v30 \n",
      "    #endif\n",
      "    |> fun x -> _v8 <- Some x\n",
      "    let v31 : string = _v8 |> Option.get\n",
      "    let v32 : System.DateTime = System.DateTime.Now\n",
      "    let v33 : System.Guid = System.Guid.NewGuid ()\n",
      "    let v34 : (System.Guid -> string) = _.ToString()\n",
      "    let v35 : string = v34 v33\n",
      "    let v36 : string = v32.ToString \"yyyyMMdd-HHmm-ssff-ffff-f\"\n",
      "    let v37 : System.Guid = System.Guid $\"{v36}{v35.[v36.Length..]}\"\n",
      "    let v38 : (System.Guid -> string) = _.ToString()\n",
      "    let v39 : string = v38 v37\n",
      "    let v40 : string option = None\n",
      "    let mutable _v40 = v40\n",
      "    #if FABLE_COMPILER_RUST && !WASM && !CONTRACT\n",
      "    let v41 : string = method1(v31)\n",
      "    let v42 : string = \"fable_library_rust::String_::LrcStr::as_str(&$0)\"\n",
      "    let v43 : Ref<Str> = Fable.Core.RustInterop.emitRustExpr v41 v42\n",
      "    let v44 : string = \"String::from($0)\"\n",
      "    let v45 : std_string_String = Fable.Core.RustInterop.emitRustExpr v43 v44\n",
      "    let v46 : string = \"std::path::PathBuf::from($0)\"\n",
      "    let v47 : std_path_PathBuf = Fable.Core.RustInterop.emitRustExpr v45 v46\n",
      "    let v48 : string = method1(v39)\n",
      "    let v49 : string = \"fable_library_rust::String_::LrcStr::as_str(&$0)\"\n",
      "    let v50 : Ref<Str> = Fable.Core.RustInterop.emitRustExpr v48 v49\n",
      "    let v51 : string = \"String::from($0)\"\n",
      "    let v52 : std_string_String = Fable.Core.RustInterop.emitRustExpr v50 v51\n",
      "    let v53 : string = \"$0.join($1)\"\n",
      "    let v54 : std_path_PathBuf = Fable.Core.RustInterop.emitRustExpr struct (v47, v52) v53\n",
      "    let v55 : string = \"$0.display().to_string()\"\n",
      "    let v56 : std_string_String = Fable.Core.RustInterop.emitRustExpr v54 v55\n",
      "    let v57 : string = \"fable_library_rust::String_::fromString($0)\"\n",
      "    let v58 : string = Fable.Core.RustInterop.emitRustExpr v56 v57\n",
      "    v58 \n",
      "    #endif\n",
      "    #if FABLE_COMPILER_RUST && WASM\n",
      "    let v59 : string = null |> unbox<string>\n",
      "    v59 \n",
      "    #endif\n",
      "    #if FABLE_COMPILER_RUST && CONTRACT\n",
      "    let v60 : string = null |> unbox<string>\n",
      "    v60 \n",
      "    #endif\n",
      "    #if !FABLE_COMPILER && !FABLE_COMPILER_RUST && !FABLE_COMPILER_TYPESCRIPT && !WASM && !CONTRACT\n",
      "    let v61 : string = System.IO.Path.Combine (v31, v39)\n",
      "    v61 \n",
      "    #endif\n",
      "    #if FABLE_COMPILER_TYPESCRIPT && !WASM && !CONTRACT\n",
      "    let v62 : string = System.IO.Path.Combine (v31, v39)\n",
      "    v62 \n",
      "    #endif\n",
      "    |> fun x -> _v40 <- Some x\n",
      "    let v63 : string = _v40 |> Option.get\n",
      "    v63 \n",
      "    #endif\n",
      "    #if FABLE_COMPILER_TYPESCRIPT && !WASM && !CONTRACT\n",
      "    let v64 : string = null |> unbox<string>\n",
      "    v64 \n",
      "    #endif\n",
      "    |> fun x -> _v0 <- Some x\n",
      "    let v65 : string = _v0 |> Option.get\n",
      "    let v66 : char = System.IO.Path.DirectorySeparatorChar\n",
      "    let v67 : string = $\"%A{v65}\"\n",
      "    System.Console.WriteLine v67\n",
      "    let v68 : ((char -> bool) -> (string -> char option)) = Seq.tryFind\n",
      "    let v69 : (char -> bool) = closure1(v66)\n",
      "    let v70 : (string -> char option) = v68 v69\n",
      "    let v71 : char option = v70 v65\n",
      "    let v72 : (char -> US0) = method2()\n",
      "    let v73 : US0 = US0_1\n",
      "    let v74 : US0 = v71 |> Option.map v72 |> Option.defaultValue v73 \n",
      "    let v76 : bool =\n",
      "        match v74 with\n",
      "        | US0_1 -> (* None *)\n",
      "            true\n",
      "        | _ ->\n",
      "            false\n",
      "    let v77 : bool = v76 <> true\n",
      "    let v79 : bool =\n",
      "        if v77 then\n",
      "            true\n",
      "        else\n",
      "            method3(v77)\n",
      "    let v80 : string = $\"__expect / actual: %A{v65} / expected: %A{v66}\"\n",
      "    let v81 : bool = v79 = false\n",
      "    if v81 then\n",
      "        failwith<unit> v80\n",
      "method0()\n",
      "\r\n",
      "\"C:\\Users\\i574n\\AppData\\Local\\Temp\\!dotnet-repl\\20240404-1820-5624-2454-2442a22a1711\"\r\n"
     ]
    }
   ],
   "source": [
    "// // test\n",
    "\n",
    "create_temp_directory_name ()\n",
    "|> _contains ($'System.IO.Path.DirectorySeparatorChar' : char)"
   ]
  },
  {
   "cell_type": "markdown",
   "metadata": {},
   "source": [
    "## directory_info"
   ]
  },
  {
   "cell_type": "code",
   "execution_count": null,
   "metadata": {
    "dotnet_interactive": {
     "language": "spiral"
    },
    "polyglot_notebook": {
     "kernelName": "spiral"
    }
   },
   "outputs": [
    {
     "name": "stdout",
     "output_type": "stream",
     "text": [
      "()\n",
      "\r\n"
     ]
    }
   ],
   "source": [
    "nominal directory_info = $'System.IO.DirectoryInfo'\n",
    "\n",
    "inl directory_info (path : string) : directory_info =\n",
    "    path |> $'`directory_info '"
   ]
  },
  {
   "cell_type": "markdown",
   "metadata": {},
   "source": [
    "## directory_info_exists"
   ]
  },
  {
   "cell_type": "code",
   "execution_count": null,
   "metadata": {
    "dotnet_interactive": {
     "language": "spiral"
    },
    "polyglot_notebook": {
     "kernelName": "spiral"
    }
   },
   "outputs": [
    {
     "name": "stdout",
     "output_type": "stream",
     "text": [
      "()\n",
      "\r\n"
     ]
    }
   ],
   "source": [
    "inl directory_info_exists (info : directory_info) : bool =\n",
    "    run_target function\n",
    "        | Fsharp (Native)\n",
    "        | TypeScript (Native) => fun () =>\n",
    "            $'!info.Exists'\n",
    "        | target => fun () => null ()"
   ]
  },
  {
   "cell_type": "markdown",
   "metadata": {},
   "source": [
    "## directory_info_creation_time"
   ]
  },
  {
   "cell_type": "code",
   "execution_count": null,
   "metadata": {
    "dotnet_interactive": {
     "language": "spiral"
    },
    "polyglot_notebook": {
     "kernelName": "spiral"
    }
   },
   "outputs": [
    {
     "name": "stdout",
     "output_type": "stream",
     "text": [
      "()\n",
      "\r\n"
     ]
    }
   ],
   "source": [
    "inl directory_info_creation_time (info : directory_info) : date_time.date_time =\n",
    "    run_target function\n",
    "        | Fsharp (Native)\n",
    "        | TypeScript (Native) => fun () =>\n",
    "            $'!info.CreationTime'\n",
    "        | target => fun () => null ()"
   ]
  },
  {
   "cell_type": "markdown",
   "metadata": {},
   "source": [
    "## directory_info_name"
   ]
  },
  {
   "cell_type": "code",
   "execution_count": null,
   "metadata": {
    "dotnet_interactive": {
     "language": "spiral"
    },
    "polyglot_notebook": {
     "kernelName": "spiral"
    }
   },
   "outputs": [
    {
     "name": "stdout",
     "output_type": "stream",
     "text": [
      "()\n",
      "\r\n"
     ]
    }
   ],
   "source": [
    "inl directory_info_name (info : directory_info) : string =\n",
    "    run_target function\n",
    "        | Fsharp (Native)\n",
    "        | TypeScript (Native) => fun () =>\n",
    "            $'!info.Name'\n",
    "        | target => fun () => null ()"
   ]
  },
  {
   "cell_type": "markdown",
   "metadata": {},
   "source": [
    "## directory_info_full_name"
   ]
  },
  {
   "cell_type": "code",
   "execution_count": null,
   "metadata": {
    "dotnet_interactive": {
     "language": "spiral"
    },
    "polyglot_notebook": {
     "kernelName": "spiral"
    }
   },
   "outputs": [
    {
     "name": "stdout",
     "output_type": "stream",
     "text": [
      "()\n",
      "\r\n"
     ]
    }
   ],
   "source": [
    "inl directory_info_full_name (info : directory_info) : string =\n",
    "    run_target function\n",
    "        | Fsharp (Native)\n",
    "        | TypeScript (Native) => fun () =>\n",
    "            $'!info.FullName'\n",
    "        | target => fun () => null ()"
   ]
  },
  {
   "cell_type": "markdown",
   "metadata": {},
   "source": [
    "## create_directory"
   ]
  },
  {
   "cell_type": "code",
   "execution_count": null,
   "metadata": {
    "dotnet_interactive": {
     "language": "spiral"
    },
    "polyglot_notebook": {
     "kernelName": "spiral"
    }
   },
   "outputs": [
    {
     "name": "stdout",
     "output_type": "stream",
     "text": [
      "()\n",
      "\r\n"
     ]
    }
   ],
   "source": [
    "inl create_directory (path : string) : directory_info =\n",
    "    run_target function\n",
    "        | Fsharp (Native) => fun () =>\n",
    "            path |> $'System.IO.Directory.CreateDirectory'\n",
    "        | target => fun () => null ()"
   ]
  },
  {
   "cell_type": "markdown",
   "metadata": {},
   "source": [
    "## directory_exists"
   ]
  },
  {
   "cell_type": "code",
   "execution_count": null,
   "metadata": {
    "dotnet_interactive": {
     "language": "spiral"
    },
    "polyglot_notebook": {
     "kernelName": "spiral"
    }
   },
   "outputs": [
    {
     "name": "stdout",
     "output_type": "stream",
     "text": [
      "()\n",
      "\r\n"
     ]
    }
   ],
   "source": [
    "inl directory_exists (path : string) : bool =\n",
    "    run_target function\n",
    "        | Rust (Native) => fun () =>\n",
    "            inl path = path |> new_path_buf\n",
    "            (path |> path_buf_exists) && (path |> path_buf_is_dir)\n",
    "        | Fsharp (Native)\n",
    "        | TypeScript (Native) => fun () =>\n",
    "            path |> $'System.IO.Directory.Exists'\n",
    "        | target => fun () => null ()"
   ]
  },
  {
   "cell_type": "markdown",
   "metadata": {},
   "source": [
    "## directory_get_parent"
   ]
  },
  {
   "cell_type": "code",
   "execution_count": null,
   "metadata": {
    "dotnet_interactive": {
     "language": "spiral"
    },
    "polyglot_notebook": {
     "kernelName": "spiral"
    }
   },
   "outputs": [
    {
     "name": "stdout",
     "output_type": "stream",
     "text": [
      "()\n",
      "\r\n"
     ]
    }
   ],
   "source": [
    "inl directory_get_parent (path : string) : optionm'.option' string =\n",
    "    run_target function\n",
    "        | Rust (Native) => fun () =>\n",
    "            path\n",
    "            |> new_path_buf\n",
    "            |> path_buf_parent\n",
    "            |> optionm'.try'\n",
    "            |> path_buf_display\n",
    "            |> sm'.from_std_string\n",
    "            |> Some\n",
    "        | Fsharp (Native)\n",
    "        | TypeScript (Native) => fun () =>\n",
    "            inl parent : directory_info = path |> $'System.IO.Directory.GetParent'\n",
    "            if parent =. null ()\n",
    "            then None\n",
    "            else parent |> directory_info_full_name |> Some\n",
    "        | target => fun () => null ()\n",
    "    |> optionm'.box"
   ]
  },
  {
   "cell_type": "markdown",
   "metadata": {},
   "source": [
    "## file_exists"
   ]
  },
  {
   "cell_type": "code",
   "execution_count": null,
   "metadata": {
    "dotnet_interactive": {
     "language": "spiral"
    },
    "polyglot_notebook": {
     "kernelName": "spiral"
    }
   },
   "outputs": [
    {
     "name": "stdout",
     "output_type": "stream",
     "text": [
      "()\n",
      "\r\n"
     ]
    }
   ],
   "source": [
    "inl file_exists (path : string) : bool =\n",
    "    run_target function\n",
    "        | Rust (Native) => fun () =>\n",
    "            inl path_buf = path |> new_path_buf\n",
    "            (path_buf |> path_buf_exists) && (path_buf |> path_buf_is_file)\n",
    "        | Fsharp (Native)\n",
    "        | TypeScript (Native) => fun () =>\n",
    "            path |> $'System.IO.File.Exists'\n",
    "        | target => fun () => null ()"
   ]
  },
  {
   "cell_type": "markdown",
   "metadata": {},
   "source": [
    "## create_temp_directory"
   ]
  },
  {
   "cell_type": "code",
   "execution_count": null,
   "metadata": {
    "dotnet_interactive": {
     "language": "spiral"
    },
    "polyglot_notebook": {
     "kernelName": "spiral"
    }
   },
   "outputs": [
    {
     "name": "stdout",
     "output_type": "stream",
     "text": [
      "()\n",
      "\r\n"
     ]
    }
   ],
   "source": [
    "inl create_temp_directory () =\n",
    "    run_target function\n",
    "        | Fsharp (Native) => fun () =>\n",
    "            inl temp_folder = create_temp_directory_name ()\n",
    "            inl result = temp_folder |> create_directory\n",
    "\n",
    "            inl exists' = result |> directory_info_exists\n",
    "            if not exists' then\n",
    "                inl creation_time = result |> directory_info_creation_time\n",
    "                inl result = ($'{| Exists = !exists'; CreationTime = !creation_time |}' : any) |> sm'.format_debug\n",
    "                inl get_locals () : string =\n",
    "                    $'$\"temp_folder: {!temp_folder} / result: {!result} {!get_locals ()}\"'\n",
    "                // trace Debug (fun () => \"createTempDirectory\") get_locals\n",
    "                console.write_line ($'$\"create_temp_directory / {!get_locals ()}\"' : string)\n",
    "\n",
    "            temp_folder\n",
    "        | target => fun () => null ()"
   ]
  },
  {
   "cell_type": "code",
   "execution_count": null,
   "metadata": {
    "dotnet_interactive": {
     "language": "spiral"
    },
    "polyglot_notebook": {
     "kernelName": "spiral"
    }
   },
   "outputs": [
    {
     "name": "stdout",
     "output_type": "stream",
     "text": [
      "let rec closure0 () () : string =\n",
      "    let v0 : string option = None\n",
      "    let mutable _v0 = v0\n",
      "    #if FABLE_COMPILER_RUST && !WASM && !CONTRACT\n",
      "    let v1 : string = null |> unbox<string>\n",
      "    v1 \n",
      "    #endif\n",
      "    #if FABLE_COMPILER_RUST && WASM\n",
      "    let v2 : string = null |> unbox<string>\n",
      "    v2 \n",
      "    #endif\n",
      "    #if FABLE_COMPILER_RUST && CONTRACT\n",
      "    let v3 : string = null |> unbox<string>\n",
      "    v3 \n",
      "    #endif\n",
      "    #if !FABLE_COMPILER && !FABLE_COMPILER_RUST && !FABLE_COMPILER_TYPESCRIPT && !WASM && !CONTRACT\n",
      "    let v4 : string = System.Reflection.Assembly.GetEntryAssembly().GetName().Name\n",
      "    v4 \n",
      "    #endif\n",
      "    #if FABLE_COMPILER_TYPESCRIPT && !WASM && !CONTRACT\n",
      "    let v5 : string = null |> unbox<string>\n",
      "    v5 \n",
      "    #endif\n",
      "    |> fun x -> _v0 <- Some x\n",
      "    let v6 : string = _v0 |> Option.get\n",
      "    v6\n",
      "and method1 (v0 : string) : string =\n",
      "    v0\n",
      "and closure2 () () : string =\n",
      "    let v0 : string = \"\"\n",
      "    v0\n",
      "and closure1 (v0 : string, v1 : string) () : string =\n",
      "    let v2 : (unit -> string) = closure2()\n",
      "    let v3 : string = $\"temp_folder: {v0} / result: {v1} {v2 ()}\"\n",
      "    v3\n",
      "and method2 (v0 : bool) : bool =\n",
      "    v0\n",
      "and method0 () : unit =\n",
      "    let v0 : string option = None\n",
      "    let mutable _v0 = v0\n",
      "    #if FABLE_COMPILER_RUST && !WASM && !CONTRACT\n",
      "    let v1 : string = null |> unbox<string>\n",
      "    v1 \n",
      "    #endif\n",
      "    #if FABLE_COMPILER_RUST && WASM\n",
      "    let v2 : string = null |> unbox<string>\n",
      "    v2 \n",
      "    #endif\n",
      "    #if FABLE_COMPILER_RUST && CONTRACT\n",
      "    let v3 : string = null |> unbox<string>\n",
      "    v3 \n",
      "    #endif\n",
      "    #if !FABLE_COMPILER && !FABLE_COMPILER_RUST && !FABLE_COMPILER_TYPESCRIPT && !WASM && !CONTRACT\n",
      "    let v4 : string option = None\n",
      "    let mutable _v4 = v4\n",
      "    #if FABLE_COMPILER_RUST && !WASM && !CONTRACT\n",
      "    let v5 : string = null |> unbox<string>\n",
      "    v5 \n",
      "    #endif\n",
      "    #if FABLE_COMPILER_RUST && WASM\n",
      "    let v6 : string = null |> unbox<string>\n",
      "    v6 \n",
      "    #endif\n",
      "    #if FABLE_COMPILER_RUST && CONTRACT\n",
      "    let v7 : string = null |> unbox<string>\n",
      "    v7 \n",
      "    #endif\n",
      "    #if !FABLE_COMPILER && !FABLE_COMPILER_RUST && !FABLE_COMPILER_TYPESCRIPT && !WASM && !CONTRACT\n",
      "    let v8 : (unit -> string) = System.IO.Path.GetTempPath\n",
      "    let v9 : string = v8 ()\n",
      "    let v10 : (unit -> string) = closure0()\n",
      "    let v11 : string = $\"!{v10 ()}\"\n",
      "    let v12 : string option = None\n",
      "    let mutable _v12 = v12\n",
      "    #if FABLE_COMPILER_RUST && !WASM && !CONTRACT\n",
      "    let v13 : string = method1(v9)\n",
      "    let v14 : string = \"fable_library_rust::String_::LrcStr::as_str(&$0)\"\n",
      "    let v15 : Ref<Str> = Fable.Core.RustInterop.emitRustExpr v13 v14\n",
      "    let v16 : string = \"String::from($0)\"\n",
      "    let v17 : std_string_String = Fable.Core.RustInterop.emitRustExpr v15 v16\n",
      "    let v18 : string = \"std::path::PathBuf::from($0)\"\n",
      "    let v19 : std_path_PathBuf = Fable.Core.RustInterop.emitRustExpr v17 v18\n",
      "    let v20 : string = method1(v11)\n",
      "    let v21 : string = \"fable_library_rust::String_::LrcStr::as_str(&$0)\"\n",
      "    let v22 : Ref<Str> = Fable.Core.RustInterop.emitRustExpr v20 v21\n",
      "    let v23 : string = \"String::from($0)\"\n",
      "    let v24 : std_string_String = Fable.Core.RustInterop.emitRustExpr v22 v23\n",
      "    let v25 : string = \"$0.join($1)\"\n",
      "    let v26 : std_path_PathBuf = Fable.Core.RustInterop.emitRustExpr struct (v19, v24) v25\n",
      "    let v27 : string = \"$0.display().to_string()\"\n",
      "    let v28 : std_string_String = Fable.Core.RustInterop.emitRustExpr v26 v27\n",
      "    let v29 : string = \"fable_library_rust::String_::fromString($0)\"\n",
      "    let v30 : string = Fable.Core.RustInterop.emitRustExpr v28 v29\n",
      "    v30 \n",
      "    #endif\n",
      "    #if FABLE_COMPILER_RUST && WASM\n",
      "    let v31 : string = null |> unbox<string>\n",
      "    v31 \n",
      "    #endif\n",
      "    #if FABLE_COMPILER_RUST && CONTRACT\n",
      "    let v32 : string = null |> unbox<string>\n",
      "    v32 \n",
      "    #endif\n",
      "    #if !FABLE_COMPILER && !FABLE_COMPILER_RUST && !FABLE_COMPILER_TYPESCRIPT && !WASM && !CONTRACT\n",
      "    let v33 : string = System.IO.Path.Combine (v9, v11)\n",
      "    v33 \n",
      "    #endif\n",
      "    #if FABLE_COMPILER_TYPESCRIPT && !WASM && !CONTRACT\n",
      "    let v34 : string = System.IO.Path.Combine (v9, v11)\n",
      "    v34 \n",
      "    #endif\n",
      "    |> fun x -> _v12 <- Some x\n",
      "    let v35 : string = _v12 |> Option.get\n",
      "    let v36 : System.DateTime = System.DateTime.Now\n",
      "    let v37 : System.Guid = System.Guid.NewGuid ()\n",
      "    let v38 : (System.Guid -> string) = _.ToString()\n",
      "    let v39 : string = v38 v37\n",
      "    let v40 : string = v36.ToString \"yyyyMMdd-HHmm-ssff-ffff-f\"\n",
      "    let v41 : System.Guid = System.Guid $\"{v40}{v39.[v40.Length..]}\"\n",
      "    let v42 : (System.Guid -> string) = _.ToString()\n",
      "    let v43 : string = v42 v41\n",
      "    let v44 : string option = None\n",
      "    let mutable _v44 = v44\n",
      "    #if FABLE_COMPILER_RUST && !WASM && !CONTRACT\n",
      "    let v45 : string = method1(v35)\n",
      "    let v46 : string = \"fable_library_rust::String_::LrcStr::as_str(&$0)\"\n",
      "    let v47 : Ref<Str> = Fable.Core.RustInterop.emitRustExpr v45 v46\n",
      "    let v48 : string = \"String::from($0)\"\n",
      "    let v49 : std_string_String = Fable.Core.RustInterop.emitRustExpr v47 v48\n",
      "    let v50 : string = \"std::path::PathBuf::from($0)\"\n",
      "    let v51 : std_path_PathBuf = Fable.Core.RustInterop.emitRustExpr v49 v50\n",
      "    let v52 : string = method1(v43)\n",
      "    let v53 : string = \"fable_library_rust::String_::LrcStr::as_str(&$0)\"\n",
      "    let v54 : Ref<Str> = Fable.Core.RustInterop.emitRustExpr v52 v53\n",
      "    let v55 : string = \"String::from($0)\"\n",
      "    let v56 : std_string_String = Fable.Core.RustInterop.emitRustExpr v54 v55\n",
      "    let v57 : string = \"$0.join($1)\"\n",
      "    let v58 : std_path_PathBuf = Fable.Core.RustInterop.emitRustExpr struct (v51, v56) v57\n",
      "    let v59 : string = \"$0.display().to_string()\"\n",
      "    let v60 : std_string_String = Fable.Core.RustInterop.emitRustExpr v58 v59\n",
      "    let v61 : string = \"fable_library_rust::String_::fromString($0)\"\n",
      "    let v62 : string = Fable.Core.RustInterop.emitRustExpr v60 v61\n",
      "    v62 \n",
      "    #endif\n",
      "    #if FABLE_COMPILER_RUST && WASM\n",
      "    let v63 : string = null |> unbox<string>\n",
      "    v63 \n",
      "    #endif\n",
      "    #if FABLE_COMPILER_RUST && CONTRACT\n",
      "    let v64 : string = null |> unbox<string>\n",
      "    v64 \n",
      "    #endif\n",
      "    #if !FABLE_COMPILER && !FABLE_COMPILER_RUST && !FABLE_COMPILER_TYPESCRIPT && !WASM && !CONTRACT\n",
      "    let v65 : string = System.IO.Path.Combine (v35, v43)\n",
      "    v65 \n",
      "    #endif\n",
      "    #if FABLE_COMPILER_TYPESCRIPT && !WASM && !CONTRACT\n",
      "    let v66 : string = System.IO.Path.Combine (v35, v43)\n",
      "    v66 \n",
      "    #endif\n",
      "    |> fun x -> _v44 <- Some x\n",
      "    let v67 : string = _v44 |> Option.get\n",
      "    v67 \n",
      "    #endif\n",
      "    #if FABLE_COMPILER_TYPESCRIPT && !WASM && !CONTRACT\n",
      "    let v68 : string = null |> unbox<string>\n",
      "    v68 \n",
      "    #endif\n",
      "    |> fun x -> _v4 <- Some x\n",
      "    let v69 : string = _v4 |> Option.get\n",
      "    let v70 : System.IO.DirectoryInfo option = None\n",
      "    let mutable _v70 = v70\n",
      "    #if FABLE_COMPILER_RUST && !WASM && !CONTRACT\n",
      "    let v71 : System.IO.DirectoryInfo = null |> unbox<System.IO.DirectoryInfo>\n",
      "    v71 \n",
      "    #endif\n",
      "    #if FABLE_COMPILER_RUST && WASM\n",
      "    let v72 : System.IO.DirectoryInfo = null |> unbox<System.IO.DirectoryInfo>\n",
      "    v72 \n",
      "    #endif\n",
      "    #if FABLE_COMPILER_RUST && CONTRACT\n",
      "    let v73 : System.IO.DirectoryInfo = null |> unbox<System.IO.DirectoryInfo>\n",
      "    v73 \n",
      "    #endif\n",
      "    #if !FABLE_COMPILER && !FABLE_COMPILER_RUST && !FABLE_COMPILER_TYPESCRIPT && !WASM && !CONTRACT\n",
      "    let v74 : (string -> System.IO.DirectoryInfo) = System.IO.Directory.CreateDirectory\n",
      "    let v75 : System.IO.DirectoryInfo = v74 v69\n",
      "    v75 \n",
      "    #endif\n",
      "    #if FABLE_COMPILER_TYPESCRIPT && !WASM && !CONTRACT\n",
      "    let v76 : System.IO.DirectoryInfo = null |> unbox<System.IO.DirectoryInfo>\n",
      "    v76 \n",
      "    #endif\n",
      "    |> fun x -> _v70 <- Some x\n",
      "    let v77 : System.IO.DirectoryInfo = _v70 |> Option.get\n",
      "    let v78 : bool option = None\n",
      "    let mutable _v78 = v78\n",
      "    #if FABLE_COMPILER_RUST && !WASM && !CONTRACT\n",
      "    let v79 : bool = null |> unbox<bool>\n",
      "    v79 \n",
      "    #endif\n",
      "    #if FABLE_COMPILER_RUST && WASM\n",
      "    let v80 : bool = null |> unbox<bool>\n",
      "    v80 \n",
      "    #endif\n",
      "    #if FABLE_COMPILER_RUST && CONTRACT\n",
      "    let v81 : bool = null |> unbox<bool>\n",
      "    v81 \n",
      "    #endif\n",
      "    #if !FABLE_COMPILER && !FABLE_COMPILER_RUST && !FABLE_COMPILER_TYPESCRIPT && !WASM && !CONTRACT\n",
      "    let v82 : bool = v77.Exists\n",
      "    v82 \n",
      "    #endif\n",
      "    #if FABLE_COMPILER_TYPESCRIPT && !WASM && !CONTRACT\n",
      "    let v83 : bool = v77.Exists\n",
      "    v83 \n",
      "    #endif\n",
      "    |> fun x -> _v78 <- Some x\n",
      "    let v84 : bool = _v78 |> Option.get\n",
      "    let v85 : bool = v84 = false\n",
      "    if v85 then\n",
      "        let v86 : System.DateTime option = None\n",
      "        let mutable _v86 = v86\n",
      "        #if FABLE_COMPILER_RUST && !WASM && !CONTRACT\n",
      "        let v87 : System.DateTime = null |> unbox<System.DateTime>\n",
      "        v87 \n",
      "        #endif\n",
      "        #if FABLE_COMPILER_RUST && WASM\n",
      "        let v88 : System.DateTime = null |> unbox<System.DateTime>\n",
      "        v88 \n",
      "        #endif\n",
      "        #if FABLE_COMPILER_RUST && CONTRACT\n",
      "        let v89 : System.DateTime = null |> unbox<System.DateTime>\n",
      "        v89 \n",
      "        #endif\n",
      "        #if !FABLE_COMPILER && !FABLE_COMPILER_RUST && !FABLE_COMPILER_TYPESCRIPT && !WASM && !CONTRACT\n",
      "        let v90 : System.DateTime = v77.CreationTime\n",
      "        v90 \n",
      "        #endif\n",
      "        #if FABLE_COMPILER_TYPESCRIPT && !WASM && !CONTRACT\n",
      "        let v91 : System.DateTime = v77.CreationTime\n",
      "        v91 \n",
      "        #endif\n",
      "        |> fun x -> _v86 <- Some x\n",
      "        let v92 : System.DateTime = _v86 |> Option.get\n",
      "        let v93 : obj = {| Exists = v84; CreationTime = v92 |}\n",
      "        let v94 : string = $\"%A{v93}\"\n",
      "        let v95 : (unit -> string) = closure1(v69, v94)\n",
      "        let v96 : string = $\"create_temp_directory / {v95 ()}\"\n",
      "        System.Console.WriteLine v96\n",
      "        ()\n",
      "    v69 \n",
      "    #endif\n",
      "    #if FABLE_COMPILER_TYPESCRIPT && !WASM && !CONTRACT\n",
      "    let v97 : string = null |> unbox<string>\n",
      "    v97 \n",
      "    #endif\n",
      "    |> fun x -> _v0 <- Some x\n",
      "    let v98 : string = _v0 |> Option.get\n",
      "    let v99 : bool option = None\n",
      "    let mutable _v99 = v99\n",
      "    #if FABLE_COMPILER_RUST && !WASM && !CONTRACT\n",
      "    let v100 : string = method1(v98)\n",
      "    let v101 : string = \"fable_library_rust::String_::LrcStr::as_str(&$0)\"\n",
      "    let v102 : Ref<Str> = Fable.Core.RustInterop.emitRustExpr v100 v101\n",
      "    let v103 : string = \"String::from($0)\"\n",
      "    let v104 : std_string_String = Fable.Core.RustInterop.emitRustExpr v102 v103\n",
      "    let v105 : string = \"std::path::PathBuf::from($0)\"\n",
      "    let v106 : std_path_PathBuf = Fable.Core.RustInterop.emitRustExpr v104 v105\n",
      "    let v107 : string = \"v106.exists()\"\n",
      "    let v108 : bool = Fable.Core.RustInterop.emitRustExpr () v107\n",
      "    let v111 : bool =\n",
      "        if v108 then\n",
      "            let v109 : string = \"v106.is_dir()\"\n",
      "            let v110 : bool = Fable.Core.RustInterop.emitRustExpr () v109\n",
      "            v110\n",
      "        else\n",
      "            false\n",
      "    v111 \n",
      "    #endif\n",
      "    #if FABLE_COMPILER_RUST && WASM\n",
      "    let v112 : bool = null |> unbox<bool>\n",
      "    v112 \n",
      "    #endif\n",
      "    #if FABLE_COMPILER_RUST && CONTRACT\n",
      "    let v113 : bool = null |> unbox<bool>\n",
      "    v113 \n",
      "    #endif\n",
      "    #if !FABLE_COMPILER && !FABLE_COMPILER_RUST && !FABLE_COMPILER_TYPESCRIPT && !WASM && !CONTRACT\n",
      "    let v114 : (string -> bool) = System.IO.Directory.Exists\n",
      "    let v115 : bool = v114 v98\n",
      "    v115 \n",
      "    #endif\n",
      "    #if FABLE_COMPILER_TYPESCRIPT && !WASM && !CONTRACT\n",
      "    let v116 : (string -> bool) = System.IO.Directory.Exists\n",
      "    let v117 : bool = v116 v98\n",
      "    v117 \n",
      "    #endif\n",
      "    |> fun x -> _v99 <- Some x\n",
      "    let v118 : bool = _v99 |> Option.get\n",
      "    let v119 : string = $\"%A{v118}\"\n",
      "    System.Console.WriteLine v119\n",
      "    let v121 : bool =\n",
      "        if v118 then\n",
      "            true\n",
      "        else\n",
      "            method2(v118)\n",
      "    let v122 : string = $\"__expect / actual: %A{v118} / expected: %A{true}\"\n",
      "    let v123 : bool = v121 = false\n",
      "    if v123 then\n",
      "        failwith<unit> v122\n",
      "method0()\n",
      "\r\n",
      "true\r\n"
     ]
    }
   ],
   "source": [
    "// // test\n",
    "\n",
    "create_temp_directory ()\n",
    "|> directory_exists\n",
    "|> _assert_eq true"
   ]
  },
  {
   "cell_type": "markdown",
   "metadata": {},
   "source": [
    "## get_source_directory"
   ]
  },
  {
   "cell_type": "code",
   "execution_count": null,
   "metadata": {
    "dotnet_interactive": {
     "language": "spiral"
    },
    "polyglot_notebook": {
     "kernelName": "spiral"
    }
   },
   "outputs": [
    {
     "name": "stdout",
     "output_type": "stream",
     "text": [
      "()\n",
      "\r\n"
     ]
    }
   ],
   "source": [
    "inl get_source_directory () =\n",
    "    $'__SOURCE_DIRECTORY__' : string"
   ]
  },
  {
   "cell_type": "code",
   "execution_count": null,
   "metadata": {
    "dotnet_interactive": {
     "language": "spiral"
    },
    "polyglot_notebook": {
     "kernelName": "spiral"
    }
   },
   "outputs": [
    {
     "name": "stdout",
     "output_type": "stream",
     "text": [
      "let rec method1 (v0 : bool) : bool =\n",
      "    v0\n",
      "and method0 () : unit =\n",
      "    let v0 : string = __SOURCE_DIRECTORY__\n",
      "    let v1 : (string -> System.IO.DirectoryInfo) = System.IO.DirectoryInfo \n",
      "    let v2 : System.IO.DirectoryInfo = v1 v0\n",
      "    let v3 : string option = None\n",
      "    let mutable _v3 = v3\n",
      "    #if FABLE_COMPILER_RUST && !WASM && !CONTRACT\n",
      "    let v4 : string = null |> unbox<string>\n",
      "    v4 \n",
      "    #endif\n",
      "    #if FABLE_COMPILER_RUST && WASM\n",
      "    let v5 : string = null |> unbox<string>\n",
      "    v5 \n",
      "    #endif\n",
      "    #if FABLE_COMPILER_RUST && CONTRACT\n",
      "    let v6 : string = null |> unbox<string>\n",
      "    v6 \n",
      "    #endif\n",
      "    #if !FABLE_COMPILER && !FABLE_COMPILER_RUST && !FABLE_COMPILER_TYPESCRIPT && !WASM && !CONTRACT\n",
      "    let v7 : string = v2.Name\n",
      "    v7 \n",
      "    #endif\n",
      "    #if FABLE_COMPILER_TYPESCRIPT && !WASM && !CONTRACT\n",
      "    let v8 : string = v2.Name\n",
      "    v8 \n",
      "    #endif\n",
      "    |> fun x -> _v3 <- Some x\n",
      "    let v9 : string = _v3 |> Option.get\n",
      "    let v10 : string = $\"%A{v9}\"\n",
      "    System.Console.WriteLine v10\n",
      "    let v12 : bool = v9 = \"spiral\"\n",
      "    let v14 : bool =\n",
      "        if v12 then\n",
      "            true\n",
      "        else\n",
      "            method1(v12)\n",
      "    let v15 : string = \"spiral\"\n",
      "    let v16 : string = $\"__expect / actual: %A{v9} / expected: %A{v15}\"\n",
      "    let v17 : bool = v14 = false\n",
      "    if v17 then\n",
      "        failwith<unit> v16\n",
      "method0()\n",
      "\r\n",
      "\"spiral\"\r\n"
     ]
    }
   ],
   "source": [
    "// // test\n",
    "\n",
    "get_source_directory ()\n",
    "|> directory_info\n",
    "|> directory_info_name\n",
    "|> _assert_eq \"spiral\""
   ]
  },
  {
   "cell_type": "markdown",
   "metadata": {},
   "source": [
    "## find_parent"
   ]
  },
  {
   "cell_type": "code",
   "execution_count": null,
   "metadata": {
    "dotnet_interactive": {
     "language": "spiral"
    },
    "polyglot_notebook": {
     "kernelName": "spiral"
    }
   },
   "outputs": [
    {
     "name": "stdout",
     "output_type": "stream",
     "text": [
      "()\n",
      "\r\n"
     ]
    }
   ],
   "source": [
    "inl find_parent name is_file root_dir =\n",
    "    let rec loop dir =\n",
    "        if dir </> name |> (if is_file then file_exists else directory_exists)\n",
    "        then dir\n",
    "        else\n",
    "            match dir |> (join directory_get_parent) |> optionm'.unbox with\n",
    "            | Some parent => parent |> loop\n",
    "            | None => failwith $'$\"\"\"No parent for {if !is_file then \"file\" else \"dir\"} \\'{!name}\\' at \\'{!root_dir}\\'\"\"\"'\n",
    "    loop root_dir"
   ]
  },
  {
   "cell_type": "code",
   "execution_count": null,
   "metadata": {
    "dotnet_interactive": {
     "language": "spiral"
    },
    "polyglot_notebook": {
     "kernelName": "spiral"
    }
   },
   "outputs": [
    {
     "name": "stdout",
     "output_type": "stream",
     "text": [
      "[|\"polyglot\"|]\r\n"
     ]
    }
   ],
   "source": [
    "// // test\n",
    "// // print_code=false\n",
    "\n",
    "a ;[ \".paket\", false; \"paket.dependencies\", true ]\n",
    "|> am.map fun (file, is_file) =>\n",
    "    get_source_directory ()\n",
    "    |> find_parent file is_file\n",
    "    |> directory_info\n",
    "    |> directory_info_name\n",
    "|> am'.distinct\n",
    "|> _assert_eq (a ;[ \"polyglot\" ] : _ i32 _)"
   ]
  },
  {
   "cell_type": "code",
   "execution_count": null,
   "metadata": {
    "dotnet_interactive": {
     "language": "spiral"
    },
    "polyglot_notebook": {
     "kernelName": "spiral"
    }
   },
   "outputs": [
    {
     "data": {
      "text/plain": [
       "1\n",
       "\"polyglot\"\n"
      ]
     },
     "metadata": {},
     "output_type": "display_data"
    }
   ],
   "source": [
    "// // test\n",
    "// // rust=\n",
    "// // print_code=false\n",
    "\n",
    "types ()\n",
    "a ;[ \".paket\", false; \"paket.dependencies\", true ]\n",
    "|> am.map fun (file, is_file) =>\n",
    "    fun () => join\n",
    "        get_source_directory ()\n",
    "        |> find_parent file is_file\n",
    "        |> new_path_buf\n",
    "        |> path_buf_file_name\n",
    "        |> optionm'.try'\n",
    "        |> sm'.to_os_string\n",
    "        |> sm'.os_to_str\n",
    "        |> optionm'.try'\n",
    "        |> sm'.ref_to_std_string\n",
    "        |> sm'.from_std_string\n",
    "        |> Some\n",
    "        |> optionm'.box\n",
    "    |> fun x => x () |> optionm'.unbox\n",
    "    |> optionm'.default_value \"\"\n",
    "|> am'.distinct\n",
    "|> fun result =>\n",
    "    result |> am'.length |> _assert_eq 1i32\n",
    "    index result 0i32 |> _assert_eq \"polyglot\""
   ]
  },
  {
   "cell_type": "markdown",
   "metadata": {},
   "source": [
    "## main"
   ]
  },
  {
   "cell_type": "code",
   "execution_count": null,
   "metadata": {
    "dotnet_interactive": {
     "language": "spiral"
    },
    "polyglot_notebook": {
     "kernelName": "spiral"
    }
   },
   "outputs": [
    {
     "name": "stdout",
     "output_type": "stream",
     "text": [
      "#if FABLE_COMPILER // file_system.types\n",
      "[<Fable.Core.Erase; Fable.Core.Emit(\"str\")>] type Str = class end\n",
      "[<Fable.Core.Erase; Fable.Core.Emit(\"base64::DecodeError\")>] type base64_DecodeError = class end\n",
      "[<Fable.Core.Erase; Fable.Core.Emit(\"borsh::io::Error\")>] type borsh_io_Error = class end\n",
      "[<Fable.Core.Erase; Fable.Core.Emit(\"js_sys::JsString\")>] type js_sys_JsString = class end\n",
      "[<Fable.Core.Erase; Fable.Core.Emit(\"serde_json::Error\")>] type serde_json_Error = class end\n",
      "[<Fable.Core.Erase; Fable.Core.Emit(\"serde_json::Value\")>] type serde_json_Value = class end\n",
      "[<Fable.Core.Erase; Fable.Core.Emit(\"serde_wasm_bindgen::Error\")>] type serde_wasm_bindgen_Error = class end\n",
      "[<Fable.Core.Erase; Fable.Core.Emit(\"std::ffi::OsStr\")>] type std_ffi_OsStr = class end\n",
      "[<Fable.Core.Erase; Fable.Core.Emit(\"std::ffi::OsString\")>] type std_ffi_OsString = class end\n",
      "[<Fable.Core.Erase; Fable.Core.Emit(\"std::str::Utf8Error\")>] type std_str_Utf8Error = class end\n",
      "[<Fable.Core.Erase; Fable.Core.Emit(\"std::string::String\")>] type std_string_String = class end\n",
      "[<Fable.Core.Erase; Fable.Core.Emit(\"Func0<$0>\")>] type Func0<'T> = class end\n",
      "[<Fable.Core.Erase; Fable.Core.Emit(\"Func1<$0, $1>\")>] type Func0<'T, 'U> = class end\n",
      "[<Fable.Core.Erase; Fable.Core.Emit(\"Box<$0>\")>] type Box<'T> = class end\n",
      "[<Fable.Core.Erase; Fable.Core.Emit(\"dyn $0\")>] type Dyn<'T> = class end\n",
      "[<Fable.Core.Erase; Fable.Core.Emit(\"Fn() -> $0\")>] type Fn<'T> = class end\n",
      "[<Fable.Core.Erase; Fable.Core.Emit(\"Fn()\")>] type FnUnit = class end\n",
      "[<Fable.Core.Erase; Fable.Core.Emit(\"FnOnce() -> $0\")>] type FnOnce<'T> = class end\n",
      "[<Fable.Core.Erase; Fable.Core.Emit(\"Fn($0, $1)\")>] type ActionFn2<'T, 'U> = class end\n",
      "[<Fable.Core.Erase; Fable.Core.Emit(\"impl $0\")>] type Impl<'T> = class end\n",
      "[<Fable.Core.Erase; Fable.Core.Emit(\"mut $0\")>] type Mut<'T> = class end\n",
      "[<Fable.Core.Erase; Fable.Core.Emit(\"&$0\")>] type Ref<'T> = class end\n",
      "[<Fable.Core.Erase; Fable.Core.Emit(\"&'static $0\")>] type StaticRef<'T> = class end\n",
      "[<Fable.Core.Erase; Fable.Core.Emit(\"MutCell<$0>\")>] type MutCell<'T> = class end\n",
      "[<Fable.Core.Erase; Fable.Core.Emit(\"std::any::Any\")>] type std_any_Any = class end\n",
      "[<Fable.Core.Erase; Fable.Core.Emit(\"std::cell::RefCell<$0>\")>] type std_cell_RefCell<'T> = class end\n",
      "[<Fable.Core.Erase; Fable.Core.Emit(\"std::pin::Pin<$0>\")>] type std_pin_Pin<'T> = class end\n",
      "[<Fable.Core.Erase; Fable.Core.Emit(\"std::rc::Rc<$0>\")>] type std_rc_Rc<'T> = class end\n",
      "[<Fable.Core.Erase; Fable.Core.Emit(\"std::rc::Weak<$0>\")>] type std_rc_Weak<'T> = class end\n",
      "[<Fable.Core.Erase; Fable.Core.Emit(\"std::sync::Arc<$0>\")>] type std_sync_Arc<'T> = class end\n",
      "[<Fable.Core.Erase; Fable.Core.Emit(\"std::path::Path\")>] type std_path_Path = class end\n",
      "[<Fable.Core.Erase; Fable.Core.Emit(\"std::path::PathBuf\")>] type std_path_PathBuf = class end\n",
      "#endif // file_system.types\n",
      "type [<Struct>] US0 =\n",
      "    | US0_0 of f0_0 : string\n",
      "    | US0_1\n",
      "let rec closure1 () () : string =\n",
      "    let v0 : string option = None\n",
      "    let mutable _v0 = v0\n",
      "    #if FABLE_COMPILER_RUST && !WASM && !CONTRACT\n",
      "    let v1 : string = null |> unbox<string>\n",
      "    v1 \n",
      "    #endif\n",
      "    #if FABLE_COMPILER_RUST && WASM\n",
      "    let v2 : string = null |> unbox<string>\n",
      "    v2 \n",
      "    #endif\n",
      "    #if FABLE_COMPILER_RUST && CONTRACT\n",
      "    let v3 : string = null |> unbox<string>\n",
      "    v3 \n",
      "    #endif\n",
      "    #if !FABLE_COMPILER && !FABLE_COMPILER_RUST && !FABLE_COMPILER_TYPESCRIPT && !WASM && !CONTRACT\n",
      "    let v4 : string = System.Reflection.Assembly.GetEntryAssembly().GetName().Name\n",
      "    v4 \n",
      "    #endif\n",
      "    #if FABLE_COMPILER_TYPESCRIPT && !WASM && !CONTRACT\n",
      "    let v5 : string = null |> unbox<string>\n",
      "    v5 \n",
      "    #endif\n",
      "    |> fun x -> _v0 <- Some x\n",
      "    let v6 : string = _v0 |> Option.get\n",
      "    v6\n",
      "and method0 (v0 : string) : string =\n",
      "    v0\n",
      "and closure0 () () : string =\n",
      "    let v0 : string option = None\n",
      "    let mutable _v0 = v0\n",
      "    #if FABLE_COMPILER_RUST && !WASM && !CONTRACT\n",
      "    let v1 : string = null |> unbox<string>\n",
      "    v1 \n",
      "    #endif\n",
      "    #if FABLE_COMPILER_RUST && WASM\n",
      "    let v2 : string = null |> unbox<string>\n",
      "    v2 \n",
      "    #endif\n",
      "    #if FABLE_COMPILER_RUST && CONTRACT\n",
      "    let v3 : string = null |> unbox<string>\n",
      "    v3 \n",
      "    #endif\n",
      "    #if !FABLE_COMPILER && !FABLE_COMPILER_RUST && !FABLE_COMPILER_TYPESCRIPT && !WASM && !CONTRACT\n",
      "    let v4 : (unit -> string) = System.IO.Path.GetTempPath\n",
      "    let v5 : string = v4 ()\n",
      "    let v6 : (unit -> string) = closure1()\n",
      "    let v7 : string = $\"!{v6 ()}\"\n",
      "    let v8 : string option = None\n",
      "    let mutable _v8 = v8\n",
      "    #if FABLE_COMPILER_RUST && !WASM && !CONTRACT\n",
      "    let v9 : string = method0(v5)\n",
      "    let v10 : string = \"fable_library_rust::String_::LrcStr::as_str(&$0)\"\n",
      "    let v11 : Ref<Str> = Fable.Core.RustInterop.emitRustExpr v9 v10\n",
      "    let v12 : string = \"String::from($0)\"\n",
      "    let v13 : std_string_String = Fable.Core.RustInterop.emitRustExpr v11 v12\n",
      "    let v14 : string = \"std::path::PathBuf::from($0)\"\n",
      "    let v15 : std_path_PathBuf = Fable.Core.RustInterop.emitRustExpr v13 v14\n",
      "    let v16 : string = method0(v7)\n",
      "    let v17 : string = \"fable_library_rust::String_::LrcStr::as_str(&$0)\"\n",
      "    let v18 : Ref<Str> = Fable.Core.RustInterop.emitRustExpr v16 v17\n",
      "    let v19 : string = \"String::from($0)\"\n",
      "    let v20 : std_string_String = Fable.Core.RustInterop.emitRustExpr v18 v19\n",
      "    let v21 : string = \"$0.join($1)\"\n",
      "    let v22 : std_path_PathBuf = Fable.Core.RustInterop.emitRustExpr struct (v15, v20) v21\n",
      "    let v23 : string = \"$0.display().to_string()\"\n",
      "    let v24 : std_string_String = Fable.Core.RustInterop.emitRustExpr v22 v23\n",
      "    let v25 : string = \"fable_library_rust::String_::fromString($0)\"\n",
      "    let v26 : string = Fable.Core.RustInterop.emitRustExpr v24 v25\n",
      "    v26 \n",
      "    #endif\n",
      "    #if FABLE_COMPILER_RUST && WASM\n",
      "    let v27 : string = null |> unbox<string>\n",
      "    v27 \n",
      "    #endif\n",
      "    #if FABLE_COMPILER_RUST && CONTRACT\n",
      "    let v28 : string = null |> unbox<string>\n",
      "    v28 \n",
      "    #endif\n",
      "    #if !FABLE_COMPILER && !FABLE_COMPILER_RUST && !FABLE_COMPILER_TYPESCRIPT && !WASM && !CONTRACT\n",
      "    let v29 : string = System.IO.Path.Combine (v5, v7)\n",
      "    v29 \n",
      "    #endif\n",
      "    #if FABLE_COMPILER_TYPESCRIPT && !WASM && !CONTRACT\n",
      "    let v30 : string = System.IO.Path.Combine (v5, v7)\n",
      "    v30 \n",
      "    #endif\n",
      "    |> fun x -> _v8 <- Some x\n",
      "    let v31 : string = _v8 |> Option.get\n",
      "    let v32 : System.DateTime = System.DateTime.Now\n",
      "    let v33 : System.Guid = System.Guid.NewGuid ()\n",
      "    let v34 : (System.Guid -> string) = _.ToString()\n",
      "    let v35 : string = v34 v33\n",
      "    let v36 : string = v32.ToString \"yyyyMMdd-HHmm-ssff-ffff-f\"\n",
      "    let v37 : System.Guid = System.Guid $\"{v36}{v35.[v36.Length..]}\"\n",
      "    let v38 : (System.Guid -> string) = _.ToString()\n",
      "    let v39 : string = v38 v37\n",
      "    let v40 : string option = None\n",
      "    let mutable _v40 = v40\n",
      "    #if FABLE_COMPILER_RUST && !WASM && !CONTRACT\n",
      "    let v41 : string = method0(v31)\n",
      "    let v42 : string = \"fable_library_rust::String_::LrcStr::as_str(&$0)\"\n",
      "    let v43 : Ref<Str> = Fable.Core.RustInterop.emitRustExpr v41 v42\n",
      "    let v44 : string = \"String::from($0)\"\n",
      "    let v45 : std_string_String = Fable.Core.RustInterop.emitRustExpr v43 v44\n",
      "    let v46 : string = \"std::path::PathBuf::from($0)\"\n",
      "    let v47 : std_path_PathBuf = Fable.Core.RustInterop.emitRustExpr v45 v46\n",
      "    let v48 : string = method0(v39)\n",
      "    let v49 : string = \"fable_library_rust::String_::LrcStr::as_str(&$0)\"\n",
      "    let v50 : Ref<Str> = Fable.Core.RustInterop.emitRustExpr v48 v49\n",
      "    let v51 : string = \"String::from($0)\"\n",
      "    let v52 : std_string_String = Fable.Core.RustInterop.emitRustExpr v50 v51\n",
      "    let v53 : string = \"$0.join($1)\"\n",
      "    let v54 : std_path_PathBuf = Fable.Core.RustInterop.emitRustExpr struct (v47, v52) v53\n",
      "    let v55 : string = \"$0.display().to_string()\"\n",
      "    let v56 : std_string_String = Fable.Core.RustInterop.emitRustExpr v54 v55\n",
      "    let v57 : string = \"fable_library_rust::String_::fromString($0)\"\n",
      "    let v58 : string = Fable.Core.RustInterop.emitRustExpr v56 v57\n",
      "    v58 \n",
      "    #endif\n",
      "    #if FABLE_COMPILER_RUST && WASM\n",
      "    let v59 : string = null |> unbox<string>\n",
      "    v59 \n",
      "    #endif\n",
      "    #if FABLE_COMPILER_RUST && CONTRACT\n",
      "    let v60 : string = null |> unbox<string>\n",
      "    v60 \n",
      "    #endif\n",
      "    #if !FABLE_COMPILER && !FABLE_COMPILER_RUST && !FABLE_COMPILER_TYPESCRIPT && !WASM && !CONTRACT\n",
      "    let v61 : string = System.IO.Path.Combine (v31, v39)\n",
      "    v61 \n",
      "    #endif\n",
      "    #if FABLE_COMPILER_TYPESCRIPT && !WASM && !CONTRACT\n",
      "    let v62 : string = System.IO.Path.Combine (v31, v39)\n",
      "    v62 \n",
      "    #endif\n",
      "    |> fun x -> _v40 <- Some x\n",
      "    let v63 : string = _v40 |> Option.get\n",
      "    v63 \n",
      "    #endif\n",
      "    #if FABLE_COMPILER_TYPESCRIPT && !WASM && !CONTRACT\n",
      "    let v64 : string = null |> unbox<string>\n",
      "    v64 \n",
      "    #endif\n",
      "    |> fun x -> _v0 <- Some x\n",
      "    let v65 : string = _v0 |> Option.get\n",
      "    v65\n",
      "and closure4 () () : string =\n",
      "    let v0 : string = \"\"\n",
      "    v0\n",
      "and closure3 (v0 : string, v1 : string) () : string =\n",
      "    let v2 : (unit -> string) = closure4()\n",
      "    let v3 : string = $\"temp_folder: {v0} / result: {v1} {v2 ()}\"\n",
      "    v3\n",
      "and closure2 () () : string =\n",
      "    let v0 : string option = None\n",
      "    let mutable _v0 = v0\n",
      "    #if FABLE_COMPILER_RUST && !WASM && !CONTRACT\n",
      "    let v1 : string = null |> unbox<string>\n",
      "    v1 \n",
      "    #endif\n",
      "    #if FABLE_COMPILER_RUST && WASM\n",
      "    let v2 : string = null |> unbox<string>\n",
      "    v2 \n",
      "    #endif\n",
      "    #if FABLE_COMPILER_RUST && CONTRACT\n",
      "    let v3 : string = null |> unbox<string>\n",
      "    v3 \n",
      "    #endif\n",
      "    #if !FABLE_COMPILER && !FABLE_COMPILER_RUST && !FABLE_COMPILER_TYPESCRIPT && !WASM && !CONTRACT\n",
      "    let v4 : string option = None\n",
      "    let mutable _v4 = v4\n",
      "    #if FABLE_COMPILER_RUST && !WASM && !CONTRACT\n",
      "    let v5 : string = null |> unbox<string>\n",
      "    v5 \n",
      "    #endif\n",
      "    #if FABLE_COMPILER_RUST && WASM\n",
      "    let v6 : string = null |> unbox<string>\n",
      "    v6 \n",
      "    #endif\n",
      "    #if FABLE_COMPILER_RUST && CONTRACT\n",
      "    let v7 : string = null |> unbox<string>\n",
      "    v7 \n",
      "    #endif\n",
      "    #if !FABLE_COMPILER && !FABLE_COMPILER_RUST && !FABLE_COMPILER_TYPESCRIPT && !WASM && !CONTRACT\n",
      "    let v8 : (unit -> string) = System.IO.Path.GetTempPath\n",
      "    let v9 : string = v8 ()\n",
      "    let v10 : (unit -> string) = closure1()\n",
      "    let v11 : string = $\"!{v10 ()}\"\n",
      "    let v12 : string option = None\n",
      "    let mutable _v12 = v12\n",
      "    #if FABLE_COMPILER_RUST && !WASM && !CONTRACT\n",
      "    let v13 : string = method0(v9)\n",
      "    let v14 : string = \"fable_library_rust::String_::LrcStr::as_str(&$0)\"\n",
      "    let v15 : Ref<Str> = Fable.Core.RustInterop.emitRustExpr v13 v14\n",
      "    let v16 : string = \"String::from($0)\"\n",
      "    let v17 : std_string_String = Fable.Core.RustInterop.emitRustExpr v15 v16\n",
      "    let v18 : string = \"std::path::PathBuf::from($0)\"\n",
      "    let v19 : std_path_PathBuf = Fable.Core.RustInterop.emitRustExpr v17 v18\n",
      "    let v20 : string = method0(v11)\n",
      "    let v21 : string = \"fable_library_rust::String_::LrcStr::as_str(&$0)\"\n",
      "    let v22 : Ref<Str> = Fable.Core.RustInterop.emitRustExpr v20 v21\n",
      "    let v23 : string = \"String::from($0)\"\n",
      "    let v24 : std_string_String = Fable.Core.RustInterop.emitRustExpr v22 v23\n",
      "    let v25 : string = \"$0.join($1)\"\n",
      "    let v26 : std_path_PathBuf = Fable.Core.RustInterop.emitRustExpr struct (v19, v24) v25\n",
      "    let v27 : string = \"$0.display().to_string()\"\n",
      "    let v28 : std_string_String = Fable.Core.RustInterop.emitRustExpr v26 v27\n",
      "    let v29 : string = \"fable_library_rust::String_::fromString($0)\"\n",
      "    let v30 : string = Fable.Core.RustInterop.emitRustExpr v28 v29\n",
      "    v30 \n",
      "    #endif\n",
      "    #if FABLE_COMPILER_RUST && WASM\n",
      "    let v31 : string = null |> unbox<string>\n",
      "    v31 \n",
      "    #endif\n",
      "    #if FABLE_COMPILER_RUST && CONTRACT\n",
      "    let v32 : string = null |> unbox<string>\n",
      "    v32 \n",
      "    #endif\n",
      "    #if !FABLE_COMPILER && !FABLE_COMPILER_RUST && !FABLE_COMPILER_TYPESCRIPT && !WASM && !CONTRACT\n",
      "    let v33 : string = System.IO.Path.Combine (v9, v11)\n",
      "    v33 \n",
      "    #endif\n",
      "    #if FABLE_COMPILER_TYPESCRIPT && !WASM && !CONTRACT\n",
      "    let v34 : string = System.IO.Path.Combine (v9, v11)\n",
      "    v34 \n",
      "    #endif\n",
      "    |> fun x -> _v12 <- Some x\n",
      "    let v35 : string = _v12 |> Option.get\n",
      "    let v36 : System.DateTime = System.DateTime.Now\n",
      "    let v37 : System.Guid = System.Guid.NewGuid ()\n",
      "    let v38 : (System.Guid -> string) = _.ToString()\n",
      "    let v39 : string = v38 v37\n",
      "    let v40 : string = v36.ToString \"yyyyMMdd-HHmm-ssff-ffff-f\"\n",
      "    let v41 : System.Guid = System.Guid $\"{v40}{v39.[v40.Length..]}\"\n",
      "    let v42 : (System.Guid -> string) = _.ToString()\n",
      "    let v43 : string = v42 v41\n",
      "    let v44 : string option = None\n",
      "    let mutable _v44 = v44\n",
      "    #if FABLE_COMPILER_RUST && !WASM && !CONTRACT\n",
      "    let v45 : string = method0(v35)\n",
      "    let v46 : string = \"fable_library_rust::String_::LrcStr::as_str(&$0)\"\n",
      "    let v47 : Ref<Str> = Fable.Core.RustInterop.emitRustExpr v45 v46\n",
      "    let v48 : string = \"String::from($0)\"\n",
      "    let v49 : std_string_String = Fable.Core.RustInterop.emitRustExpr v47 v48\n",
      "    let v50 : string = \"std::path::PathBuf::from($0)\"\n",
      "    let v51 : std_path_PathBuf = Fable.Core.RustInterop.emitRustExpr v49 v50\n",
      "    let v52 : string = method0(v43)\n",
      "    let v53 : string = \"fable_library_rust::String_::LrcStr::as_str(&$0)\"\n",
      "    let v54 : Ref<Str> = Fable.Core.RustInterop.emitRustExpr v52 v53\n",
      "    let v55 : string = \"String::from($0)\"\n",
      "    let v56 : std_string_String = Fable.Core.RustInterop.emitRustExpr v54 v55\n",
      "    let v57 : string = \"$0.join($1)\"\n",
      "    let v58 : std_path_PathBuf = Fable.Core.RustInterop.emitRustExpr struct (v51, v56) v57\n",
      "    let v59 : string = \"$0.display().to_string()\"\n",
      "    let v60 : std_string_String = Fable.Core.RustInterop.emitRustExpr v58 v59\n",
      "    let v61 : string = \"fable_library_rust::String_::fromString($0)\"\n",
      "    let v62 : string = Fable.Core.RustInterop.emitRustExpr v60 v61\n",
      "    v62 \n",
      "    #endif\n",
      "    #if FABLE_COMPILER_RUST && WASM\n",
      "    let v63 : string = null |> unbox<string>\n",
      "    v63 \n",
      "    #endif\n",
      "    #if FABLE_COMPILER_RUST && CONTRACT\n",
      "    let v64 : string = null |> unbox<string>\n",
      "    v64 \n",
      "    #endif\n",
      "    #if !FABLE_COMPILER && !FABLE_COMPILER_RUST && !FABLE_COMPILER_TYPESCRIPT && !WASM && !CONTRACT\n",
      "    let v65 : string = System.IO.Path.Combine (v35, v43)\n",
      "    v65 \n",
      "    #endif\n",
      "    #if FABLE_COMPILER_TYPESCRIPT && !WASM && !CONTRACT\n",
      "    let v66 : string = System.IO.Path.Combine (v35, v43)\n",
      "    v66 \n",
      "    #endif\n",
      "    |> fun x -> _v44 <- Some x\n",
      "    let v67 : string = _v44 |> Option.get\n",
      "    v67 \n",
      "    #endif\n",
      "    #if FABLE_COMPILER_TYPESCRIPT && !WASM && !CONTRACT\n",
      "    let v68 : string = null |> unbox<string>\n",
      "    v68 \n",
      "    #endif\n",
      "    |> fun x -> _v4 <- Some x\n",
      "    let v69 : string = _v4 |> Option.get\n",
      "    let v70 : System.IO.DirectoryInfo option = None\n",
      "    let mutable _v70 = v70\n",
      "    #if FABLE_COMPILER_RUST && !WASM && !CONTRACT\n",
      "    let v71 : System.IO.DirectoryInfo = null |> unbox<System.IO.DirectoryInfo>\n",
      "    v71 \n",
      "    #endif\n",
      "    #if FABLE_COMPILER_RUST && WASM\n",
      "    let v72 : System.IO.DirectoryInfo = null |> unbox<System.IO.DirectoryInfo>\n",
      "    v72 \n",
      "    #endif\n",
      "    #if FABLE_COMPILER_RUST && CONTRACT\n",
      "    let v73 : System.IO.DirectoryInfo = null |> unbox<System.IO.DirectoryInfo>\n",
      "    v73 \n",
      "    #endif\n",
      "    #if !FABLE_COMPILER && !FABLE_COMPILER_RUST && !FABLE_COMPILER_TYPESCRIPT && !WASM && !CONTRACT\n",
      "    let v74 : (string -> System.IO.DirectoryInfo) = System.IO.Directory.CreateDirectory\n",
      "    let v75 : System.IO.DirectoryInfo = v74 v69\n",
      "    v75 \n",
      "    #endif\n",
      "    #if FABLE_COMPILER_TYPESCRIPT && !WASM && !CONTRACT\n",
      "    let v76 : System.IO.DirectoryInfo = null |> unbox<System.IO.DirectoryInfo>\n",
      "    v76 \n",
      "    #endif\n",
      "    |> fun x -> _v70 <- Some x\n",
      "    let v77 : System.IO.DirectoryInfo = _v70 |> Option.get\n",
      "    let v78 : bool option = None\n",
      "    let mutable _v78 = v78\n",
      "    #if FABLE_COMPILER_RUST && !WASM && !CONTRACT\n",
      "    let v79 : bool = null |> unbox<bool>\n",
      "    v79 \n",
      "    #endif\n",
      "    #if FABLE_COMPILER_RUST && WASM\n",
      "    let v80 : bool = null |> unbox<bool>\n",
      "    v80 \n",
      "    #endif\n",
      "    #if FABLE_COMPILER_RUST && CONTRACT\n",
      "    let v81 : bool = null |> unbox<bool>\n",
      "    v81 \n",
      "    #endif\n",
      "    #if !FABLE_COMPILER && !FABLE_COMPILER_RUST && !FABLE_COMPILER_TYPESCRIPT && !WASM && !CONTRACT\n",
      "    let v82 : bool = v77.Exists\n",
      "    v82 \n",
      "    #endif\n",
      "    #if FABLE_COMPILER_TYPESCRIPT && !WASM && !CONTRACT\n",
      "    let v83 : bool = v77.Exists\n",
      "    v83 \n",
      "    #endif\n",
      "    |> fun x -> _v78 <- Some x\n",
      "    let v84 : bool = _v78 |> Option.get\n",
      "    let v85 : bool = v84 = false\n",
      "    if v85 then\n",
      "        let v86 : System.DateTime option = None\n",
      "        let mutable _v86 = v86\n",
      "        #if FABLE_COMPILER_RUST && !WASM && !CONTRACT\n",
      "        let v87 : System.DateTime = null |> unbox<System.DateTime>\n",
      "        v87 \n",
      "        #endif\n",
      "        #if FABLE_COMPILER_RUST && WASM\n",
      "        let v88 : System.DateTime = null |> unbox<System.DateTime>\n",
      "        v88 \n",
      "        #endif\n",
      "        #if FABLE_COMPILER_RUST && CONTRACT\n",
      "        let v89 : System.DateTime = null |> unbox<System.DateTime>\n",
      "        v89 \n",
      "        #endif\n",
      "        #if !FABLE_COMPILER && !FABLE_COMPILER_RUST && !FABLE_COMPILER_TYPESCRIPT && !WASM && !CONTRACT\n",
      "        let v90 : System.DateTime = v77.CreationTime\n",
      "        v90 \n",
      "        #endif\n",
      "        #if FABLE_COMPILER_TYPESCRIPT && !WASM && !CONTRACT\n",
      "        let v91 : System.DateTime = v77.CreationTime\n",
      "        v91 \n",
      "        #endif\n",
      "        |> fun x -> _v86 <- Some x\n",
      "        let v92 : System.DateTime = _v86 |> Option.get\n",
      "        let v93 : obj = {| Exists = v84; CreationTime = v92 |}\n",
      "        let v94 : string = $\"%A{v93}\"\n",
      "        let v95 : (unit -> string) = closure3(v69, v94)\n",
      "        let v96 : string = $\"create_temp_directory / {v95 ()}\"\n",
      "        System.Console.WriteLine v96\n",
      "        ()\n",
      "    v69 \n",
      "    #endif\n",
      "    #if FABLE_COMPILER_TYPESCRIPT && !WASM && !CONTRACT\n",
      "    let v97 : string = null |> unbox<string>\n",
      "    v97 \n",
      "    #endif\n",
      "    |> fun x -> _v0 <- Some x\n",
      "    let v98 : string = _v0 |> Option.get\n",
      "    v98\n",
      "and closure5 () () : string =\n",
      "    let v0 : string = __SOURCE_DIRECTORY__\n",
      "    v0\n",
      "and closure9 () (v0 : string) : bool =\n",
      "    let v1 : bool option = None\n",
      "    let mutable _v1 = v1\n",
      "    #if FABLE_COMPILER_RUST && !WASM && !CONTRACT\n",
      "    let v2 : string = method0(v0)\n",
      "    let v3 : string = \"fable_library_rust::String_::LrcStr::as_str(&$0)\"\n",
      "    let v4 : Ref<Str> = Fable.Core.RustInterop.emitRustExpr v2 v3\n",
      "    let v5 : string = \"String::from($0)\"\n",
      "    let v6 : std_string_String = Fable.Core.RustInterop.emitRustExpr v4 v5\n",
      "    let v7 : string = \"std::path::PathBuf::from($0)\"\n",
      "    let v8 : std_path_PathBuf = Fable.Core.RustInterop.emitRustExpr v6 v7\n",
      "    let v9 : string = \"v8.exists()\"\n",
      "    let v10 : bool = Fable.Core.RustInterop.emitRustExpr () v9\n",
      "    let v13 : bool =\n",
      "        if v10 then\n",
      "            let v11 : string = \"v8.is_file()\"\n",
      "            let v12 : bool = Fable.Core.RustInterop.emitRustExpr () v11\n",
      "            v12\n",
      "        else\n",
      "            false\n",
      "    v13 \n",
      "    #endif\n",
      "    #if FABLE_COMPILER_RUST && WASM\n",
      "    let v14 : bool = null |> unbox<bool>\n",
      "    v14 \n",
      "    #endif\n",
      "    #if FABLE_COMPILER_RUST && CONTRACT\n",
      "    let v15 : bool = null |> unbox<bool>\n",
      "    v15 \n",
      "    #endif\n",
      "    #if !FABLE_COMPILER && !FABLE_COMPILER_RUST && !FABLE_COMPILER_TYPESCRIPT && !WASM && !CONTRACT\n",
      "    let v16 : (string -> bool) = System.IO.File.Exists\n",
      "    let v17 : bool = v16 v0\n",
      "    v17 \n",
      "    #endif\n",
      "    #if FABLE_COMPILER_TYPESCRIPT && !WASM && !CONTRACT\n",
      "    let v18 : (string -> bool) = System.IO.File.Exists\n",
      "    let v19 : bool = v18 v0\n",
      "    v19 \n",
      "    #endif\n",
      "    |> fun x -> _v1 <- Some x\n",
      "    let v20 : bool = _v1 |> Option.get\n",
      "    v20\n",
      "and closure10 () (v0 : string) : bool =\n",
      "    let v1 : bool option = None\n",
      "    let mutable _v1 = v1\n",
      "    #if FABLE_COMPILER_RUST && !WASM && !CONTRACT\n",
      "    let v2 : string = method0(v0)\n",
      "    let v3 : string = \"fable_library_rust::String_::LrcStr::as_str(&$0)\"\n",
      "    let v4 : Ref<Str> = Fable.Core.RustInterop.emitRustExpr v2 v3\n",
      "    let v5 : string = \"String::from($0)\"\n",
      "    let v6 : std_string_String = Fable.Core.RustInterop.emitRustExpr v4 v5\n",
      "    let v7 : string = \"std::path::PathBuf::from($0)\"\n",
      "    let v8 : std_path_PathBuf = Fable.Core.RustInterop.emitRustExpr v6 v7\n",
      "    let v9 : string = \"v8.exists()\"\n",
      "    let v10 : bool = Fable.Core.RustInterop.emitRustExpr () v9\n",
      "    let v13 : bool =\n",
      "        if v10 then\n",
      "            let v11 : string = \"v8.is_dir()\"\n",
      "            let v12 : bool = Fable.Core.RustInterop.emitRustExpr () v11\n",
      "            v12\n",
      "        else\n",
      "            false\n",
      "    v13 \n",
      "    #endif\n",
      "    #if FABLE_COMPILER_RUST && WASM\n",
      "    let v14 : bool = null |> unbox<bool>\n",
      "    v14 \n",
      "    #endif\n",
      "    #if FABLE_COMPILER_RUST && CONTRACT\n",
      "    let v15 : bool = null |> unbox<bool>\n",
      "    v15 \n",
      "    #endif\n",
      "    #if !FABLE_COMPILER && !FABLE_COMPILER_RUST && !FABLE_COMPILER_TYPESCRIPT && !WASM && !CONTRACT\n",
      "    let v16 : (string -> bool) = System.IO.Directory.Exists\n",
      "    let v17 : bool = v16 v0\n",
      "    v17 \n",
      "    #endif\n",
      "    #if FABLE_COMPILER_TYPESCRIPT && !WASM && !CONTRACT\n",
      "    let v18 : (string -> bool) = System.IO.Directory.Exists\n",
      "    let v19 : bool = v18 v0\n",
      "    v19 \n",
      "    #endif\n",
      "    |> fun x -> _v1 <- Some x\n",
      "    let v20 : bool = _v1 |> Option.get\n",
      "    v20\n",
      "and closure11 () (v0 : string) : string option =\n",
      "    let v1 : US0 option = None\n",
      "    let mutable _v1 = v1\n",
      "    #if FABLE_COMPILER_RUST && !WASM && !CONTRACT\n",
      "    let v2 : string = method0(v0)\n",
      "    let v3 : string = \"fable_library_rust::String_::LrcStr::as_str(&$0)\"\n",
      "    let v4 : Ref<Str> = Fable.Core.RustInterop.emitRustExpr v2 v3\n",
      "    let v5 : string = \"String::from($0)\"\n",
      "    let v6 : std_string_String = Fable.Core.RustInterop.emitRustExpr v4 v5\n",
      "    let v7 : string = \"std::path::PathBuf::from($0)\"\n",
      "    let v8 : std_path_PathBuf = Fable.Core.RustInterop.emitRustExpr v6 v7\n",
      "    let v9 : string = \"$0.parent().map(std::path::PathBuf::from)\"\n",
      "    let v10 : std_path_PathBuf option = Fable.Core.RustInterop.emitRustExpr v8 v9\n",
      "    let v11 : string = \"v10?\"\n",
      "    let v12 : std_path_PathBuf = Fable.Core.RustInterop.emitRustExpr () v11\n",
      "    let v13 : string = \"$0.display().to_string()\"\n",
      "    let v14 : std_string_String = Fable.Core.RustInterop.emitRustExpr v12 v13\n",
      "    let v15 : string = \"fable_library_rust::String_::fromString($0)\"\n",
      "    let v16 : string = Fable.Core.RustInterop.emitRustExpr v14 v15\n",
      "    let v17 : US0 = US0_0(v16)\n",
      "    v17 \n",
      "    #endif\n",
      "    #if FABLE_COMPILER_RUST && WASM\n",
      "    let v18 : US0 = null |> unbox<US0>\n",
      "    v18 \n",
      "    #endif\n",
      "    #if FABLE_COMPILER_RUST && CONTRACT\n",
      "    let v19 : US0 = null |> unbox<US0>\n",
      "    v19 \n",
      "    #endif\n",
      "    #if !FABLE_COMPILER && !FABLE_COMPILER_RUST && !FABLE_COMPILER_TYPESCRIPT && !WASM && !CONTRACT\n",
      "    let v20 : (string -> System.IO.DirectoryInfo) = System.IO.Directory.GetParent\n",
      "    let v21 : System.IO.DirectoryInfo = v20 v0\n",
      "    let v22 : System.IO.DirectoryInfo = null |> unbox<System.IO.DirectoryInfo>\n",
      "    let v23 : bool = v21 = v22\n",
      "    let v33 : US0 =\n",
      "        if v23 then\n",
      "            US0_1\n",
      "        else\n",
      "            let v25 : string option = None\n",
      "            let mutable _v25 = v25\n",
      "            #if FABLE_COMPILER_RUST && !WASM && !CONTRACT\n",
      "            let v26 : string = null |> unbox<string>\n",
      "            v26 \n",
      "            #endif\n",
      "            #if FABLE_COMPILER_RUST && WASM\n",
      "            let v27 : string = null |> unbox<string>\n",
      "            v27 \n",
      "            #endif\n",
      "            #if FABLE_COMPILER_RUST && CONTRACT\n",
      "            let v28 : string = null |> unbox<string>\n",
      "            v28 \n",
      "            #endif\n",
      "            #if !FABLE_COMPILER && !FABLE_COMPILER_RUST && !FABLE_COMPILER_TYPESCRIPT && !WASM && !CONTRACT\n",
      "            let v29 : string = v21.FullName\n",
      "            v29 \n",
      "            #endif\n",
      "            #if FABLE_COMPILER_TYPESCRIPT && !WASM && !CONTRACT\n",
      "            let v30 : string = v21.FullName\n",
      "            v30 \n",
      "            #endif\n",
      "            |> fun x -> _v25 <- Some x\n",
      "            let v31 : string = _v25 |> Option.get\n",
      "            US0_0(v31)\n",
      "    v33 \n",
      "    #endif\n",
      "    #if FABLE_COMPILER_TYPESCRIPT && !WASM && !CONTRACT\n",
      "    let v34 : (string -> System.IO.DirectoryInfo) = System.IO.Directory.GetParent\n",
      "    let v35 : System.IO.DirectoryInfo = v34 v0\n",
      "    let v36 : System.IO.DirectoryInfo = null |> unbox<System.IO.DirectoryInfo>\n",
      "    let v37 : bool = v35 = v36\n",
      "    let v47 : US0 =\n",
      "        if v37 then\n",
      "            US0_1\n",
      "        else\n",
      "            let v39 : string option = None\n",
      "            let mutable _v39 = v39\n",
      "            #if FABLE_COMPILER_RUST && !WASM && !CONTRACT\n",
      "            let v40 : string = null |> unbox<string>\n",
      "            v40 \n",
      "            #endif\n",
      "            #if FABLE_COMPILER_RUST && WASM\n",
      "            let v41 : string = null |> unbox<string>\n",
      "            v41 \n",
      "            #endif\n",
      "            #if FABLE_COMPILER_RUST && CONTRACT\n",
      "            let v42 : string = null |> unbox<string>\n",
      "            v42 \n",
      "            #endif\n",
      "            #if !FABLE_COMPILER && !FABLE_COMPILER_RUST && !FABLE_COMPILER_TYPESCRIPT && !WASM && !CONTRACT\n",
      "            let v43 : string = v35.FullName\n",
      "            v43 \n",
      "            #endif\n",
      "            #if FABLE_COMPILER_TYPESCRIPT && !WASM && !CONTRACT\n",
      "            let v44 : string = v35.FullName\n",
      "            v44 \n",
      "            #endif\n",
      "            |> fun x -> _v39 <- Some x\n",
      "            let v45 : string = _v39 |> Option.get\n",
      "            US0_0(v45)\n",
      "    v47 \n",
      "    #endif\n",
      "    |> fun x -> _v1 <- Some x\n",
      "    let v48 : US0 = _v1 |> Option.get\n",
      "    match v48 with\n",
      "    | US0_1 -> (* None *)\n",
      "        let v51 : string option = None\n",
      "        v51\n",
      "    | US0_0(v49) -> (* Some *)\n",
      "        let v50 : string option = Some v49 \n",
      "        v50\n",
      "and method2 () : (string -> string option) =\n",
      "    closure11()\n",
      "and closure12 () (v0 : string) : US0 =\n",
      "    US0_0(v0)\n",
      "and method3 () : (string -> US0) =\n",
      "    closure12()\n",
      "and method4 (v0 : string, v1 : bool, v2 : string, v3 : string) : string =\n",
      "    let v4 : string option = None\n",
      "    let mutable _v4 = v4\n",
      "    #if FABLE_COMPILER_RUST && !WASM && !CONTRACT\n",
      "    let v5 : string = method0(v3)\n",
      "    let v6 : string = \"fable_library_rust::String_::LrcStr::as_str(&$0)\"\n",
      "    let v7 : Ref<Str> = Fable.Core.RustInterop.emitRustExpr v5 v6\n",
      "    let v8 : string = \"String::from($0)\"\n",
      "    let v9 : std_string_String = Fable.Core.RustInterop.emitRustExpr v7 v8\n",
      "    let v10 : string = \"std::path::PathBuf::from($0)\"\n",
      "    let v11 : std_path_PathBuf = Fable.Core.RustInterop.emitRustExpr v9 v10\n",
      "    let v12 : string = method0(v0)\n",
      "    let v13 : string = \"fable_library_rust::String_::LrcStr::as_str(&$0)\"\n",
      "    let v14 : Ref<Str> = Fable.Core.RustInterop.emitRustExpr v12 v13\n",
      "    let v15 : string = \"String::from($0)\"\n",
      "    let v16 : std_string_String = Fable.Core.RustInterop.emitRustExpr v14 v15\n",
      "    let v17 : string = \"$0.join($1)\"\n",
      "    let v18 : std_path_PathBuf = Fable.Core.RustInterop.emitRustExpr struct (v11, v16) v17\n",
      "    let v19 : string = \"$0.display().to_string()\"\n",
      "    let v20 : std_string_String = Fable.Core.RustInterop.emitRustExpr v18 v19\n",
      "    let v21 : string = \"fable_library_rust::String_::fromString($0)\"\n",
      "    let v22 : string = Fable.Core.RustInterop.emitRustExpr v20 v21\n",
      "    v22 \n",
      "    #endif\n",
      "    #if FABLE_COMPILER_RUST && WASM\n",
      "    let v23 : string = null |> unbox<string>\n",
      "    v23 \n",
      "    #endif\n",
      "    #if FABLE_COMPILER_RUST && CONTRACT\n",
      "    let v24 : string = null |> unbox<string>\n",
      "    v24 \n",
      "    #endif\n",
      "    #if !FABLE_COMPILER && !FABLE_COMPILER_RUST && !FABLE_COMPILER_TYPESCRIPT && !WASM && !CONTRACT\n",
      "    let v25 : string = System.IO.Path.Combine (v3, v0)\n",
      "    v25 \n",
      "    #endif\n",
      "    #if FABLE_COMPILER_TYPESCRIPT && !WASM && !CONTRACT\n",
      "    let v26 : string = System.IO.Path.Combine (v3, v0)\n",
      "    v26 \n",
      "    #endif\n",
      "    |> fun x -> _v4 <- Some x\n",
      "    let v27 : string = _v4 |> Option.get\n",
      "    let v30 : (string -> bool) =\n",
      "        if v1 then\n",
      "            closure9()\n",
      "        else\n",
      "            closure10()\n",
      "    let v31 : bool = v30 v27\n",
      "    if v31 then\n",
      "        v3\n",
      "    else\n",
      "        let v32 : (string -> string option) = method2()\n",
      "        let v33 : string option = v32 v3\n",
      "        let v34 : (string -> US0) = method3()\n",
      "        let v35 : US0 = US0_1\n",
      "        let v36 : US0 = v33 |> Option.map v34 |> Option.defaultValue v35 \n",
      "        match v36 with\n",
      "        | US0_1 -> (* None *)\n",
      "            let v39 : string = $\"\"\"No parent for {if v1 then \"file\" else \"dir\"} '{v0}' at '{v2}'\"\"\"\n",
      "            failwith<string> v39\n",
      "        | US0_0(v37) -> (* Some *)\n",
      "            method4(v0, v1, v2, v37)\n",
      "and method1 (v0 : string, v1 : bool, v2 : string) : string =\n",
      "    let v3 : string option = None\n",
      "    let mutable _v3 = v3\n",
      "    #if FABLE_COMPILER_RUST && !WASM && !CONTRACT\n",
      "    let v4 : string = method0(v2)\n",
      "    let v5 : string = \"fable_library_rust::String_::LrcStr::as_str(&$0)\"\n",
      "    let v6 : Ref<Str> = Fable.Core.RustInterop.emitRustExpr v4 v5\n",
      "    let v7 : string = \"String::from($0)\"\n",
      "    let v8 : std_string_String = Fable.Core.RustInterop.emitRustExpr v6 v7\n",
      "    let v9 : string = \"std::path::PathBuf::from($0)\"\n",
      "    let v10 : std_path_PathBuf = Fable.Core.RustInterop.emitRustExpr v8 v9\n",
      "    let v11 : string = method0(v0)\n",
      "    let v12 : string = \"fable_library_rust::String_::LrcStr::as_str(&$0)\"\n",
      "    let v13 : Ref<Str> = Fable.Core.RustInterop.emitRustExpr v11 v12\n",
      "    let v14 : string = \"String::from($0)\"\n",
      "    let v15 : std_string_String = Fable.Core.RustInterop.emitRustExpr v13 v14\n",
      "    let v16 : string = \"$0.join($1)\"\n",
      "    let v17 : std_path_PathBuf = Fable.Core.RustInterop.emitRustExpr struct (v10, v15) v16\n",
      "    let v18 : string = \"$0.display().to_string()\"\n",
      "    let v19 : std_string_String = Fable.Core.RustInterop.emitRustExpr v17 v18\n",
      "    let v20 : string = \"fable_library_rust::String_::fromString($0)\"\n",
      "    let v21 : string = Fable.Core.RustInterop.emitRustExpr v19 v20\n",
      "    v21 \n",
      "    #endif\n",
      "    #if FABLE_COMPILER_RUST && WASM\n",
      "    let v22 : string = null |> unbox<string>\n",
      "    v22 \n",
      "    #endif\n",
      "    #if FABLE_COMPILER_RUST && CONTRACT\n",
      "    let v23 : string = null |> unbox<string>\n",
      "    v23 \n",
      "    #endif\n",
      "    #if !FABLE_COMPILER && !FABLE_COMPILER_RUST && !FABLE_COMPILER_TYPESCRIPT && !WASM && !CONTRACT\n",
      "    let v24 : string = System.IO.Path.Combine (v2, v0)\n",
      "    v24 \n",
      "    #endif\n",
      "    #if FABLE_COMPILER_TYPESCRIPT && !WASM && !CONTRACT\n",
      "    let v25 : string = System.IO.Path.Combine (v2, v0)\n",
      "    v25 \n",
      "    #endif\n",
      "    |> fun x -> _v3 <- Some x\n",
      "    let v26 : string = _v3 |> Option.get\n",
      "    let v29 : (string -> bool) =\n",
      "        if v1 then\n",
      "            closure9()\n",
      "        else\n",
      "            closure10()\n",
      "    let v30 : bool = v29 v26\n",
      "    if v30 then\n",
      "        v2\n",
      "    else\n",
      "        let v31 : (string -> string option) = method2()\n",
      "        let v32 : string option = v31 v2\n",
      "        let v33 : (string -> US0) = method3()\n",
      "        let v34 : US0 = US0_1\n",
      "        let v35 : US0 = v32 |> Option.map v33 |> Option.defaultValue v34 \n",
      "        match v35 with\n",
      "        | US0_1 -> (* None *)\n",
      "            let v38 : string = $\"\"\"No parent for {if v1 then \"file\" else \"dir\"} '{v0}' at '{v2}'\"\"\"\n",
      "            failwith<string> v38\n",
      "        | US0_0(v36) -> (* Some *)\n",
      "            method4(v0, v1, v2, v36)\n",
      "and closure8 (v0 : string, v1 : bool) (v2 : string) : string =\n",
      "    method1(v0, v1, v2)\n",
      "and closure7 (v0 : string) (v1 : bool) : (string -> string) =\n",
      "    closure8(v0, v1)\n",
      "and closure6 () (v0 : string) : (bool -> (string -> string)) =\n",
      "    closure7(v0)\n",
      "and closure14 (v0 : string) (v1 : string) : string =\n",
      "    let v2 : string option = None\n",
      "    let mutable _v2 = v2\n",
      "    #if FABLE_COMPILER_RUST && !WASM && !CONTRACT\n",
      "    let v3 : string = method0(v0)\n",
      "    let v4 : string = \"fable_library_rust::String_::LrcStr::as_str(&$0)\"\n",
      "    let v5 : Ref<Str> = Fable.Core.RustInterop.emitRustExpr v3 v4\n",
      "    let v6 : string = \"String::from($0)\"\n",
      "    let v7 : std_string_String = Fable.Core.RustInterop.emitRustExpr v5 v6\n",
      "    let v8 : string = \"std::path::PathBuf::from($0)\"\n",
      "    let v9 : std_path_PathBuf = Fable.Core.RustInterop.emitRustExpr v7 v8\n",
      "    let v10 : string = method0(v1)\n",
      "    let v11 : string = \"fable_library_rust::String_::LrcStr::as_str(&$0)\"\n",
      "    let v12 : Ref<Str> = Fable.Core.RustInterop.emitRustExpr v10 v11\n",
      "    let v13 : string = \"String::from($0)\"\n",
      "    let v14 : std_string_String = Fable.Core.RustInterop.emitRustExpr v12 v13\n",
      "    let v15 : string = \"$0.join($1)\"\n",
      "    let v16 : std_path_PathBuf = Fable.Core.RustInterop.emitRustExpr struct (v9, v14) v15\n",
      "    let v17 : string = \"$0.display().to_string()\"\n",
      "    let v18 : std_string_String = Fable.Core.RustInterop.emitRustExpr v16 v17\n",
      "    let v19 : string = \"fable_library_rust::String_::fromString($0)\"\n",
      "    let v20 : string = Fable.Core.RustInterop.emitRustExpr v18 v19\n",
      "    v20 \n",
      "    #endif\n",
      "    #if FABLE_COMPILER_RUST && WASM\n",
      "    let v21 : string = null |> unbox<string>\n",
      "    v21 \n",
      "    #endif\n",
      "    #if FABLE_COMPILER_RUST && CONTRACT\n",
      "    let v22 : string = null |> unbox<string>\n",
      "    v22 \n",
      "    #endif\n",
      "    #if !FABLE_COMPILER && !FABLE_COMPILER_RUST && !FABLE_COMPILER_TYPESCRIPT && !WASM && !CONTRACT\n",
      "    let v23 : string = System.IO.Path.Combine (v0, v1)\n",
      "    v23 \n",
      "    #endif\n",
      "    #if FABLE_COMPILER_TYPESCRIPT && !WASM && !CONTRACT\n",
      "    let v24 : string = System.IO.Path.Combine (v0, v1)\n",
      "    v24 \n",
      "    #endif\n",
      "    |> fun x -> _v2 <- Some x\n",
      "    let v25 : string = _v2 |> Option.get\n",
      "    v25\n",
      "and closure13 () (v0 : string) : (string -> string) =\n",
      "    closure14(v0)\n",
      "let v0 : (unit -> string) = closure0()\n",
      "let create_temp_directory_name () = v0 ()\n",
      "let v1 : (unit -> string) = closure2()\n",
      "let create_temp_directory () = v1 ()\n",
      "let v2 : (unit -> string) = closure5()\n",
      "let get_source_directory () = v2 ()\n",
      "let v3 : (string -> (bool -> (string -> string))) = closure6()\n",
      "let find_parent x = v3 x\n",
      "let v4 : (string -> (string -> string)) = closure13()\n",
      "let (</>) x = v4 x\n",
      "()\n",
      "\r\n"
     ]
    }
   ],
   "source": [
    "inl main () =\n",
    "    types ()\n",
    "    $\"let create_temp_directory_name () = !create_temp_directory_name ()\" : ()\n",
    "    $\"let create_temp_directory () = !create_temp_directory ()\" : ()\n",
    "    $\"let get_source_directory () = !get_source_directory ()\" : ()\n",
    "    $\"let find_parent x = !find_parent x\" : ()\n",
    "    inl combine x = (</>) x\n",
    "    $\"let (</>) x = !combine x\" : ()"
   ]
  }
 ],
 "metadata": {},
 "nbformat": 4,
 "nbformat_minor": 5
}