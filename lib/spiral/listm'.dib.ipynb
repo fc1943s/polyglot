{
 "cells": [
  {
   "cell_type": "markdown",
   "metadata": {},
   "source": [
    "# listm"
   ]
  },
  {
   "cell_type": "code",
   "execution_count": null,
   "metadata": {
    "dotnet_interactive": {
     "language": "spiral"
    },
    "polyglot_notebook": {
     "kernelName": "spiral"
    }
   },
   "outputs": [
    {
     "name": "stdout",
     "output_type": "stream",
     "text": [
      "()\n",
      "\r\n"
     ]
    }
   ],
   "source": [
    "// // test\n",
    "\n",
    "open testing"
   ]
  },
  {
   "cell_type": "markdown",
   "metadata": {},
   "source": [
    "## /@"
   ]
  },
  {
   "cell_type": "code",
   "execution_count": null,
   "metadata": {
    "dotnet_interactive": {
     "language": "spiral"
    },
    "polyglot_notebook": {
     "kernelName": "spiral"
    }
   },
   "outputs": [
    {
     "name": "stdout",
     "output_type": "stream",
     "text": [
      "()\n",
      "\r\n"
     ]
    }
   ],
   "source": [
    "inl (/@) a b = b |> listm.append a"
   ]
  },
  {
   "cell_type": "code",
   "execution_count": null,
   "metadata": {
    "dotnet_interactive": {
     "language": "spiral"
    },
    "polyglot_notebook": {
     "kernelName": "spiral"
    }
   },
   "outputs": [
    {
     "name": "stdout",
     "output_type": "stream",
     "text": [
      "type UH0 =\n",
      "    | UH0_0 of string * UH0\n",
      "    | UH0_1\n",
      "let rec method0 () : unit =\n",
      "    let v43 : string = \"a\"\n",
      "    let v44 : string = \"b\"\n",
      "    let v45 : string = \"c\"\n",
      "    let v46 : string = \"d\"\n",
      "    let v47 : UH0 = UH0_1\n",
      "    let v48 : UH0 = UH0_0(v46, v47)\n",
      "    let v49 : UH0 = UH0_0(v45, v48)\n",
      "    let v50 : UH0 = UH0_0(v44, v49)\n",
      "    let v51 : UH0 = UH0_0(v43, v50)\n",
      "    let v52 : UH0 = UH0_1\n",
      "    let v53 : UH0 = UH0_0(v46, v52)\n",
      "    let v54 : UH0 = UH0_0(v45, v53)\n",
      "    let v55 : UH0 = UH0_0(v44, v54)\n",
      "    let v56 : UH0 = UH0_0(v43, v55)\n",
      "    let v57 : string = $\"_equal / actual: %A{v51} / expected: %A{v56}\"\n",
      "    ()\n",
      "method0()\n",
      "\r\n"
     ]
    }
   ],
   "source": [
    "// // test\n",
    "\n",
    "[\"a\"; \"b\"] /@ [\"c\"; \"d\"]\n",
    "|> _equal [\"a\"; \"b\"; \"c\"; \"d\"]"
   ]
  },
  {
   "cell_type": "code",
   "execution_count": null,
   "metadata": {
    "dotnet_interactive": {
     "language": "spiral"
    },
    "polyglot_notebook": {
     "kernelName": "spiral"
    }
   },
   "outputs": [
    {
     "name": "stdout",
     "output_type": "stream",
     "text": [
      "()\n",
      "\r\n"
     ]
    }
   ],
   "source": [
    "inl init_series start end inc =\n",
    "    inl total : f64 = conv ((end - start) / inc) + 1\n",
    "    listm.init total (conv >> (*) inc >> (+) start)"
   ]
  },
  {
   "cell_type": "code",
   "execution_count": null,
   "metadata": {
    "dotnet_interactive": {
     "language": "spiral"
    },
    "polyglot_notebook": {
     "kernelName": "spiral"
    }
   },
   "outputs": [
    {
     "name": "stdout",
     "output_type": "stream",
     "text": [
      "type UH0 =\n",
      "    | UH0_0 of float * UH0\n",
      "    | UH0_1\n",
      "let rec method0 () : unit =\n",
      "    let v18 : UH0 = UH0_1\n",
      "    let v19 : UH0 = UH0_0(1.0, v18)\n",
      "    let v20 : UH0 = UH0_0(0.5, v19)\n",
      "    let v21 : UH0 = UH0_0(0.0, v20)\n",
      "    let v22 : UH0 = UH0_1\n",
      "    let v23 : UH0 = UH0_0(1.0, v22)\n",
      "    let v24 : UH0 = UH0_0(0.5, v23)\n",
      "    let v25 : UH0 = UH0_0(0.0, v24)\n",
      "    let v26 : string = $\"_equal / actual: %A{v21} / expected: %A{v25}\"\n",
      "    ()\n",
      "method0()\n",
      "\r\n"
     ]
    }
   ],
   "source": [
    "// // test\n",
    "\n",
    "init_series 0 1 0.5\n",
    "|> _equal [0f64; 0.5; 1]"
   ]
  },
  {
   "cell_type": "markdown",
   "metadata": {},
   "source": [
    "## try_item"
   ]
  },
  {
   "cell_type": "code",
   "execution_count": null,
   "metadata": {
    "dotnet_interactive": {
     "language": "spiral"
    },
    "polyglot_notebook": {
     "kernelName": "spiral"
    }
   },
   "outputs": [
    {
     "name": "stdout",
     "output_type": "stream",
     "text": [
      "()\n",
      "\r\n"
     ]
    }
   ],
   "source": [
    "inl rec try_item i = function\n",
    "    | Cons (x, _) when i = 0 => Some x\n",
    "    | Cons (_, xs) => try_item (i - 1) xs\n",
    "    | Nil => None"
   ]
  },
  {
   "cell_type": "code",
   "execution_count": null,
   "metadata": {
    "dotnet_interactive": {
     "language": "spiral"
    },
    "polyglot_notebook": {
     "kernelName": "spiral"
    }
   },
   "outputs": [
    {
     "name": "stdout",
     "output_type": "stream",
     "text": [
      "type [<Struct>] US0 =\n",
      "    | US0_0\n",
      "    | US0_1 of f1_0 : int32\n",
      "let rec method0 () : unit =\n",
      "    let v3 : US0 = US0_1(9)\n",
      "    let v4 : US0 = US0_1(9)\n",
      "    let v5 : string = $\"_equal / actual: %A{v3} / expected: %A{v4}\"\n",
      "    ()\n",
      "method0()\n",
      "\r\n"
     ]
    }
   ],
   "source": [
    "// // test\n",
    "\n",
    "listm.init 10i32 id\n",
    "|> try_item 9i32\n",
    "|> _equal (Some 9)"
   ]
  },
  {
   "cell_type": "code",
   "execution_count": null,
   "metadata": {
    "dotnet_interactive": {
     "language": "spiral"
    },
    "polyglot_notebook": {
     "kernelName": "spiral"
    }
   },
   "outputs": [
    {
     "name": "stdout",
     "output_type": "stream",
     "text": [
      "type [<Struct>] US0 =\n",
      "    | US0_0\n",
      "    | US0_1 of f1_0 : int32\n",
      "let rec method0 () : unit =\n",
      "    let v3 : US0 = US0_0\n",
      "    let v4 : US0 = US0_0\n",
      "    let v5 : string = $\"_equal / actual: %A{v3} / expected: %A{v4}\"\n",
      "    ()\n",
      "method0()\n",
      "\r\n"
     ]
    }
   ],
   "source": [
    "// // test\n",
    "\n",
    "listm.init 10i32 id\n",
    "|> try_item 10i32\n",
    "|> _equal None"
   ]
  },
  {
   "cell_type": "markdown",
   "metadata": {},
   "source": [
    "## list_item"
   ]
  },
  {
   "cell_type": "code",
   "execution_count": null,
   "metadata": {
    "dotnet_interactive": {
     "language": "spiral"
    },
    "polyglot_notebook": {
     "kernelName": "spiral"
    }
   },
   "outputs": [
    {
     "name": "stdout",
     "output_type": "stream",
     "text": [
      "()\n",
      "\r\n"
     ]
    }
   ],
   "source": [
    "inl item i =\n",
    "    try_item i >> optionm.value"
   ]
  },
  {
   "cell_type": "code",
   "execution_count": null,
   "metadata": {
    "dotnet_interactive": {
     "language": "spiral"
    },
    "polyglot_notebook": {
     "kernelName": "spiral"
    }
   },
   "outputs": [
    {
     "name": "stdout",
     "output_type": "stream",
     "text": [
      "let rec method0 () : unit =\n",
      "    let v0 : string = $\"_equal / actual: %A{9} / expected: %A{9}\"\n",
      "    ()\n",
      "method0()\n",
      "\r\n"
     ]
    }
   ],
   "source": [
    "// // test\n",
    "\n",
    "listm.init 10i32 id\n",
    "|> item 9i32\n",
    "|> _equal 9"
   ]
  },
  {
   "cell_type": "code",
   "execution_count": null,
   "metadata": {
    "dotnet_interactive": {
     "language": "spiral"
    },
    "polyglot_notebook": {
     "kernelName": "spiral"
    }
   },
   "outputs": [
    {
     "name": "stdout",
     "output_type": "stream",
     "text": [
      "type [<Struct>] US0 =\n",
      "    | US0_0\n",
      "    | US0_1 of f1_0 : string\n",
      "let rec closure0 () () : unit =\n",
      "    let v0 : int32 = failwith<int32> \"Option does not have a value.\"\n",
      "    ()\n",
      "and closure1 () (v0 : string) : US0 =\n",
      "    US0_1(v0)\n",
      "and method0 () : unit =\n",
      "    let v0 : (unit -> unit) = closure0()\n",
      "    let v1 : US0 = US0_0\n",
      "    let v2 : (string -> US0) = closure1()\n",
      "    let v3 : US0 = try v0 (); v1 with ex -> v2 ex.Message\n",
      "    let v8 : bool =\n",
      "        match v3 with\n",
      "        | US0_1(v6) -> (* Some *)\n",
      "            let v7 : bool = v6 = \"Option does not have a value.\"\n",
      "            v7\n",
      "        | _ ->\n",
      "            false\n",
      "    let v9 : string = \"Option does not have a value.\"\n",
      "    let v10 : US0 = US0_1(v9)\n",
      "    let v11 : string = $\"_equal / actual: %A{v3} / expected: %A{v10}\"\n",
      "    let v12 : bool = v8 = false\n",
      "    if v12 then\n",
      "        failwith<unit> v11\n",
      "method0()\n",
      "\r\n"
     ]
    }
   ],
   "source": [
    "// // test\n",
    "\n",
    "fun () =>\n",
    "    listm.init 10i32 id\n",
    "    |> item 10i32\n",
    "    |> ignore\n",
    "|> _throws\n",
    "|> _equal (Some \"Option does not have a value.\")"
   ]
  },
  {
   "cell_type": "markdown",
   "metadata": {},
   "source": [
    "## try_item_"
   ]
  },
  {
   "cell_type": "code",
   "execution_count": null,
   "metadata": {
    "dotnet_interactive": {
     "language": "spiral"
    },
    "polyglot_notebook": {
     "kernelName": "spiral"
    }
   },
   "outputs": [
    {
     "name": "stdout",
     "output_type": "stream",
     "text": [
      "()\n",
      "\r\n"
     ]
    }
   ],
   "source": [
    "let rec try_item_ i = function\n",
    "    | Cons (x, _) when i = 0 => Some x\n",
    "    | Cons (_, xs) => try_item_ (i - 1) xs\n",
    "    | Nil => None"
   ]
  },
  {
   "cell_type": "markdown",
   "metadata": {},
   "source": [
    "## item_"
   ]
  },
  {
   "cell_type": "code",
   "execution_count": null,
   "metadata": {
    "dotnet_interactive": {
     "language": "spiral"
    },
    "polyglot_notebook": {
     "kernelName": "spiral"
    }
   },
   "outputs": [
    {
     "name": "stdout",
     "output_type": "stream",
     "text": [
      "()\n",
      "\r\n"
     ]
    }
   ],
   "source": [
    "inl item_ i =\n",
    "    try_item_ i >> optionm.value"
   ]
  },
  {
   "cell_type": "markdown",
   "metadata": {},
   "source": [
    "## lazy_list"
   ]
  },
  {
   "cell_type": "code",
   "execution_count": null,
   "metadata": {
    "dotnet_interactive": {
     "language": "spiral"
    },
    "polyglot_notebook": {
     "kernelName": "spiral"
    }
   },
   "outputs": [
    {
     "name": "stdout",
     "output_type": "stream",
     "text": [
      "()\n",
      "\r\n"
     ]
    }
   ],
   "source": [
    "union rec lazy_list t =\n",
    "    | LazyCons : t * (() -> lazy_list t)\n",
    "    | LazyNil\n",
    "\n",
    "inl rec lazy_list list =\n",
    "    match list with\n",
    "    | [] => LazyNil\n",
    "    | x :: xs => LazyCons (x, fun () => lazy_list xs)\n",
    "\n",
    "inl rec try_lazy_item i = function\n",
    "    | LazyCons (x, _) when i = 0 => Some x\n",
    "    | LazyCons (_, fn) => try_lazy_item (i - 1) (fn ())\n",
    "    | LazyNil => None\n",
    "\n",
    "inl lazy_item i =\n",
    "    try_lazy_item i >> optionm.value\n",
    "\n",
    "inl try_lazy_item_ i list =\n",
    "    inl i = mut i\n",
    "    inl list = mut list\n",
    "    let rec loop () =\n",
    "        match *list with\n",
    "        | LazyCons (x, _) when *i = 0 => Some x\n",
    "        | LazyCons (_, fn) =>\n",
    "            i <- *i - 1\n",
    "            list <- fn ()\n",
    "            loop ()\n",
    "        | LazyNil => None\n",
    "    loop ()\n",
    "\n",
    "inl lazy_item_ i =\n",
    "    try_lazy_item_ i >> optionm.value\n",
    "\n",
    "let rec try_lazy_item__ i list =\n",
    "    inl i = mut i\n",
    "    inl list = mut list\n",
    "    inl result = mut None\n",
    "    let rec loop () =\n",
    "        match *list with\n",
    "        | LazyCons (x, _) when *i = 0 => result <- Some x\n",
    "        | LazyCons (_, fn) =>\n",
    "            i <- *i - 1\n",
    "            list <- fn ()\n",
    "            loop ()\n",
    "        | LazyNil => ()\n",
    "    loop ()\n",
    "    *result\n",
    "\n",
    "inl lazy_item__ i =\n",
    "    try_lazy_item__ i >> optionm.value"
   ]
  },
  {
   "cell_type": "code",
   "execution_count": null,
   "metadata": {
    "dotnet_interactive": {
     "language": "spiral"
    },
    "polyglot_notebook": {
     "kernelName": "spiral"
    }
   },
   "outputs": [
    {
     "name": "stdout",
     "output_type": "stream",
     "text": [
      "let rec method0 () : unit =\n",
      "    let v0 : string = $\"_equal / actual: %A{9} / expected: %A{9}\"\n",
      "    ()\n",
      "method0()\n",
      "\r\n"
     ]
    }
   ],
   "source": [
    "// // test\n",
    "\n",
    "listm.init 10i32 id\n",
    "|> lazy_list\n",
    "|> lazy_item 9i32\n",
    "|> _equal 9"
   ]
  },
  {
   "cell_type": "code",
   "execution_count": null,
   "metadata": {
    "dotnet_interactive": {
     "language": "spiral"
    },
    "polyglot_notebook": {
     "kernelName": "spiral"
    }
   },
   "outputs": [
    {
     "name": "stdout",
     "output_type": "stream",
     "text": [
      "type Mut0 = {mutable l0 : int32}\n",
      "and UH0 =\n",
      "    | UH0_0 of int32 * (unit -> UH0)\n",
      "    | UH0_1\n",
      "and Mut1 = {mutable l0 : UH0}\n",
      "and [<Struct>] US0 =\n",
      "    | US0_0\n",
      "    | US0_1 of f1_0 : int32\n",
      "let rec closure9 () () : UH0 =\n",
      "    UH0_1\n",
      "and closure8 () () : UH0 =\n",
      "    let v0 : (unit -> UH0) = closure9()\n",
      "    UH0_0(9, v0)\n",
      "and closure7 () () : UH0 =\n",
      "    let v0 : (unit -> UH0) = closure8()\n",
      "    UH0_0(8, v0)\n",
      "and closure6 () () : UH0 =\n",
      "    let v0 : (unit -> UH0) = closure7()\n",
      "    UH0_0(7, v0)\n",
      "and closure5 () () : UH0 =\n",
      "    let v0 : (unit -> UH0) = closure6()\n",
      "    UH0_0(6, v0)\n",
      "and closure4 () () : UH0 =\n",
      "    let v0 : (unit -> UH0) = closure5()\n",
      "    UH0_0(5, v0)\n",
      "and closure3 () () : UH0 =\n",
      "    let v0 : (unit -> UH0) = closure4()\n",
      "    UH0_0(4, v0)\n",
      "and closure2 () () : UH0 =\n",
      "    let v0 : (unit -> UH0) = closure3()\n",
      "    UH0_0(3, v0)\n",
      "and closure1 () () : UH0 =\n",
      "    let v0 : (unit -> UH0) = closure2()\n",
      "    UH0_0(2, v0)\n",
      "and closure0 () () : UH0 =\n",
      "    let v0 : (unit -> UH0) = closure1()\n",
      "    UH0_0(1, v0)\n",
      "and method1 (v0 : Mut0, v1 : Mut1) : US0 =\n",
      "    let v2 : UH0 = v1.l0\n",
      "    match v2 with\n",
      "    | UH0_0(v3, v4) -> (* LazyCons *)\n",
      "        let v5 : int32 = v0.l0\n",
      "        let v6 : bool = v5 = 0\n",
      "        if v6 then\n",
      "            US0_1(v3)\n",
      "        else\n",
      "            let v8 : int32 = v0.l0\n",
      "            let v9 : int32 = v8 - 1\n",
      "            v0.l0 <- v9\n",
      "            let v10 : UH0 = v4 ()\n",
      "            v1.l0 <- v10\n",
      "            method1(v0, v1)\n",
      "    | UH0_1 -> (* LazyNil *)\n",
      "        US0_0\n",
      "and method0 () : unit =\n",
      "    let v0 : Mut0 = {l0 = 9} : Mut0\n",
      "    let v1 : (unit -> UH0) = closure0()\n",
      "    let v2 : UH0 = UH0_0(0, v1)\n",
      "    let v3 : Mut1 = {l0 = v2} : Mut1\n",
      "    let v4 : US0 = method1(v0, v3)\n",
      "    let v8 : int32 =\n",
      "        match v4 with\n",
      "        | US0_0 -> (* None *)\n",
      "            failwith<int32> \"Option does not have a value.\"\n",
      "        | US0_1(v5) -> (* Some *)\n",
      "            v5\n",
      "    let v9 : bool = v8 = 9\n",
      "    let v10 : string = $\"_equal / actual: %A{v8} / expected: %A{9}\"\n",
      "    let v11 : bool = v9 = false\n",
      "    if v11 then\n",
      "        failwith<unit> v10\n",
      "method0()\n",
      "\r\n"
     ]
    }
   ],
   "source": [
    "// // test\n",
    "\n",
    "listm.init 10i32 id\n",
    "|> lazy_list\n",
    "|> lazy_item_ 9i32\n",
    "|> _equal 9"
   ]
  },
  {
   "cell_type": "markdown",
   "metadata": {},
   "source": [
    "## new_infinite_lazy_list"
   ]
  },
  {
   "cell_type": "code",
   "execution_count": null,
   "metadata": {
    "dotnet_interactive": {
     "language": "spiral"
    },
    "polyglot_notebook": {
     "kernelName": "spiral"
    }
   },
   "outputs": [
    {
     "name": "stdout",
     "output_type": "stream",
     "text": [
      "()\n",
      "\r\n"
     ]
    }
   ],
   "source": [
    "inl new_infinite_lazy_list fn =\n",
    "    inl rec loop n =\n",
    "        LazyCons (fn n, fun () => loop (n + 1))\n",
    "    loop 0\n",
    "\n",
    "inl new_infinite_lazy_list_ fn =\n",
    "    let rec loop n =\n",
    "        LazyCons (fn n, fun () => loop (n + 1))\n",
    "    loop 0"
   ]
  },
  {
   "cell_type": "code",
   "execution_count": null,
   "metadata": {
    "dotnet_interactive": {
     "language": "spiral"
    },
    "polyglot_notebook": {
     "kernelName": "spiral"
    }
   },
   "outputs": [
    {
     "name": "stdout",
     "output_type": "stream",
     "text": [
      "let rec method0 () : unit =\n",
      "    printfn $\"print_and_return / x: {0}\"\n",
      "    printfn $\"print_and_return / x: {1}\"\n",
      "    printfn $\"print_and_return / x: {2}\"\n",
      "    printfn $\"print_and_return / x: {3}\"\n",
      "    printfn $\"print_and_return / x: {4}\"\n",
      "    let v0 : string = $\"_equal / actual: %A{4} / expected: %A{4}\"\n",
      "    ()\n",
      "method0()\n",
      "\r\n",
      "print_and_return / x: 0\r\n",
      "print_and_return / x: 1\r\n",
      "print_and_return / x: 2\r\n",
      "print_and_return / x: 3\r\n",
      "print_and_return / x: 4\r\n"
     ]
    }
   ],
   "source": [
    "// // test\n",
    "\n",
    "new_infinite_lazy_list print_and_return\n",
    "|> lazy_item 4i32\n",
    "|> _equal 4i32"
   ]
  },
  {
   "cell_type": "code",
   "execution_count": null,
   "metadata": {
    "dotnet_interactive": {
     "language": "spiral"
    },
    "polyglot_notebook": {
     "kernelName": "spiral"
    }
   },
   "outputs": [
    {
     "name": "stdout",
     "output_type": "stream",
     "text": [
      "()\n",
      "\r\n"
     ]
    }
   ],
   "source": [
    "inl new_finite_lazy_list fn max =\n",
    "    inl rec loop n =\n",
    "        if n >= max\n",
    "        then LazyNil\n",
    "        else LazyCons (fn n, fun () => loop (n + 1))\n",
    "    loop 0\n",
    "\n",
    "inl new_finite_lazy_list_ fn max =\n",
    "    let rec loop n =\n",
    "        if n >= max\n",
    "        then LazyNil\n",
    "        else LazyCons (fn n, fun () => loop (n + 1))\n",
    "    loop 0"
   ]
  },
  {
   "cell_type": "markdown",
   "metadata": {},
   "source": [
    "## memoize_lazy_list"
   ]
  },
  {
   "cell_type": "code",
   "execution_count": null,
   "metadata": {
    "dotnet_interactive": {
     "language": "spiral"
    },
    "polyglot_notebook": {
     "kernelName": "spiral"
    }
   },
   "outputs": [
    {
     "name": "stdout",
     "output_type": "stream",
     "text": [
      "()\n",
      "\r\n"
     ]
    }
   ],
   "source": [
    "union memoized_lazy_list t =\n",
    "    | NotComputed : () -> lazy_list t\n",
    "    | Computed : lazy_list t\n",
    "\n",
    "inl memoize_lazy_list list =\n",
    "    inl rec loop list =\n",
    "        inl state = mut (NotComputed list)\n",
    "        fun () =>\n",
    "            match *state with\n",
    "            | Computed x => x\n",
    "            | NotComputed fn =>\n",
    "                inl new_state =\n",
    "                    match fn () with\n",
    "                    | LazyNil => LazyNil\n",
    "                    | LazyCons (x, fn) => LazyCons (x, loop fn)\n",
    "                state <- Computed new_state\n",
    "                new_state\n",
    "    loop (fun () => list)\n",
    "\n",
    "inl memoize_lazy_list_ list =\n",
    "    let rec loop list =\n",
    "        inl state = mut (NotComputed list)\n",
    "        fun () =>\n",
    "            match *state with\n",
    "            | Computed x => x\n",
    "            | NotComputed fn =>\n",
    "                inl new_state =\n",
    "                    match fn () with\n",
    "                    | LazyNil => LazyNil\n",
    "                    | LazyCons (x, fn) => LazyCons (x, loop fn)\n",
    "                state <- Computed new_state\n",
    "                new_state\n",
    "    loop (fun () => list)"
   ]
  },
  {
   "cell_type": "code",
   "execution_count": null,
   "metadata": {
    "dotnet_interactive": {
     "language": "spiral"
    },
    "polyglot_notebook": {
     "kernelName": "spiral"
    }
   },
   "outputs": [
    {
     "name": "stdout",
     "output_type": "stream",
     "text": [
      "type UH0 =\n",
      "    | UH0_0 of int32 * (unit -> UH0)\n",
      "    | UH0_1\n",
      "and [<Struct>] US0 =\n",
      "    | US0_0 of f0_0 : UH0\n",
      "    | US0_1 of f1_0 : (unit -> UH0)\n",
      "and Mut0 = {mutable l0 : US0}\n",
      "and [<Struct>] US1 =\n",
      "    | US1_0\n",
      "    | US1_1 of f1_0 : int32\n",
      "let rec closure10 () () : UH0 =\n",
      "    UH0_1\n",
      "and closure9 () () : UH0 =\n",
      "    printfn $\"print_and_return / x: {9}\"\n",
      "    let v0 : (unit -> UH0) = closure10()\n",
      "    UH0_0(9, v0)\n",
      "and closure8 () () : UH0 =\n",
      "    printfn $\"print_and_return / x: {8}\"\n",
      "    let v0 : (unit -> UH0) = closure9()\n",
      "    UH0_0(8, v0)\n",
      "and closure7 () () : UH0 =\n",
      "    printfn $\"print_and_return / x: {7}\"\n",
      "    let v0 : (unit -> UH0) = closure8()\n",
      "    UH0_0(7, v0)\n",
      "and closure6 () () : UH0 =\n",
      "    printfn $\"print_and_return / x: {6}\"\n",
      "    let v0 : (unit -> UH0) = closure7()\n",
      "    UH0_0(6, v0)\n",
      "and closure5 () () : UH0 =\n",
      "    printfn $\"print_and_return / x: {5}\"\n",
      "    let v0 : (unit -> UH0) = closure6()\n",
      "    UH0_0(5, v0)\n",
      "and closure4 () () : UH0 =\n",
      "    printfn $\"print_and_return / x: {4}\"\n",
      "    let v0 : (unit -> UH0) = closure5()\n",
      "    UH0_0(4, v0)\n",
      "and closure3 () () : UH0 =\n",
      "    printfn $\"print_and_return / x: {3}\"\n",
      "    let v0 : (unit -> UH0) = closure4()\n",
      "    UH0_0(3, v0)\n",
      "and closure2 () () : UH0 =\n",
      "    printfn $\"print_and_return / x: {2}\"\n",
      "    let v0 : (unit -> UH0) = closure3()\n",
      "    UH0_0(2, v0)\n",
      "and closure1 () () : UH0 =\n",
      "    printfn $\"print_and_return / x: {1}\"\n",
      "    let v0 : (unit -> UH0) = closure2()\n",
      "    UH0_0(1, v0)\n",
      "and closure0 () () : UH0 =\n",
      "    let v0 : (unit -> UH0) = closure1()\n",
      "    UH0_0(0, v0)\n",
      "and closure11 (v0 : Mut0) () : UH0 =\n",
      "    let v1 : US0 = v0.l0\n",
      "    match v1 with\n",
      "    | US0_0(v2) -> (* Computed *)\n",
      "        v2\n",
      "    | US0_1(v3) -> (* NotComputed *)\n",
      "        let v4 : UH0 = v3 ()\n",
      "        let v13 : UH0 =\n",
      "            match v4 with\n",
      "            | UH0_0(v6, v7) -> (* LazyCons *)\n",
      "                let v8 : US0 = US0_1(v7)\n",
      "                let v9 : Mut0 = {l0 = v8} : Mut0\n",
      "                let v10 : (unit -> UH0) = closure11(v9)\n",
      "                UH0_0(v6, v10)\n",
      "            | UH0_1 -> (* LazyNil *)\n",
      "                UH0_1\n",
      "        let v14 : US0 = US0_0(v13)\n",
      "        v0.l0 <- v14\n",
      "        v13\n",
      "and method0 () : unit =\n",
      "    printfn $\"print_and_return / x: {0}\"\n",
      "    let v0 : (unit -> UH0) = closure0()\n",
      "    let v1 : US0 = US0_1(v0)\n",
      "    let v2 : Mut0 = {l0 = v1} : Mut0\n",
      "    let v3 : US0 = v2.l0\n",
      "    let v18 : UH0 =\n",
      "        match v3 with\n",
      "        | US0_0(v4) -> (* Computed *)\n",
      "            v4\n",
      "        | US0_1(v5) -> (* NotComputed *)\n",
      "            let v6 : UH0 = v5 ()\n",
      "            let v15 : UH0 =\n",
      "                match v6 with\n",
      "                | UH0_0(v8, v9) -> (* LazyCons *)\n",
      "                    let v10 : US0 = US0_1(v9)\n",
      "                    let v11 : Mut0 = {l0 = v10} : Mut0\n",
      "                    let v12 : (unit -> UH0) = closure11(v11)\n",
      "                    UH0_0(v8, v12)\n",
      "                | UH0_1 -> (* LazyNil *)\n",
      "                    UH0_1\n",
      "            let v16 : US0 = US0_0(v15)\n",
      "            v2.l0 <- v16\n",
      "            v15\n",
      "    let v42 : US1 =\n",
      "        match v18 with\n",
      "        | UH0_0(v19, v20) -> (* LazyCons *)\n",
      "            let v21 : UH0 = v20 ()\n",
      "            match v21 with\n",
      "            | UH0_0(v22, v23) -> (* LazyCons *)\n",
      "                let v24 : UH0 = v23 ()\n",
      "                match v24 with\n",
      "                | UH0_0(v25, v26) -> (* LazyCons *)\n",
      "                    let v27 : UH0 = v26 ()\n",
      "                    match v27 with\n",
      "                    | UH0_0(v28, v29) -> (* LazyCons *)\n",
      "                        US1_1(v28)\n",
      "                    | UH0_1 -> (* LazyNil *)\n",
      "                        US1_0\n",
      "                | UH0_1 -> (* LazyNil *)\n",
      "                    US1_0\n",
      "            | UH0_1 -> (* LazyNil *)\n",
      "                US1_0\n",
      "        | UH0_1 -> (* LazyNil *)\n",
      "            US1_0\n",
      "    let v46 : int32 =\n",
      "        match v42 with\n",
      "        | US1_0 -> (* None *)\n",
      "            failwith<int32> \"Option does not have a value.\"\n",
      "        | US1_1(v43) -> (* Some *)\n",
      "            v43\n",
      "    let v47 : bool = v46 = 3\n",
      "    let v48 : string = $\"_equal / actual: %A{v46} / expected: %A{3}\"\n",
      "    let v49 : bool = v47 = false\n",
      "    if v49 then\n",
      "        failwith<unit> v48\n",
      "    let v50 : US0 = v2.l0\n",
      "    let v65 : UH0 =\n",
      "        match v50 with\n",
      "        | US0_0(v51) -> (* Computed *)\n",
      "            v51\n",
      "        | US0_1(v52) -> (* NotComputed *)\n",
      "            let v53 : UH0 = v52 ()\n",
      "            let v62 : UH0 =\n",
      "                match v53 with\n",
      "                | UH0_0(v55, v56) -> (* LazyCons *)\n",
      "                    let v57 : US0 = US0_1(v56)\n",
      "                    let v58 : Mut0 = {l0 = v57} : Mut0\n",
      "                    let v59 : (unit -> UH0) = closure11(v58)\n",
      "                    UH0_0(v55, v59)\n",
      "                | UH0_1 -> (* LazyNil *)\n",
      "                    UH0_1\n",
      "            let v63 : US0 = US0_0(v62)\n",
      "            v2.l0 <- v63\n",
      "            v62\n",
      "    let v101 : US1 =\n",
      "        match v65 with\n",
      "        | UH0_0(v66, v67) -> (* LazyCons *)\n",
      "            let v68 : UH0 = v67 ()\n",
      "            match v68 with\n",
      "            | UH0_0(v69, v70) -> (* LazyCons *)\n",
      "                let v71 : UH0 = v70 ()\n",
      "                match v71 with\n",
      "                | UH0_0(v72, v73) -> (* LazyCons *)\n",
      "                    let v74 : UH0 = v73 ()\n",
      "                    match v74 with\n",
      "                    | UH0_0(v75, v76) -> (* LazyCons *)\n",
      "                        let v77 : UH0 = v76 ()\n",
      "                        match v77 with\n",
      "                        | UH0_0(v78, v79) -> (* LazyCons *)\n",
      "                            let v80 : UH0 = v79 ()\n",
      "                            match v80 with\n",
      "                            | UH0_0(v81, v82) -> (* LazyCons *)\n",
      "                                US1_1(v81)\n",
      "                            | UH0_1 -> (* LazyNil *)\n",
      "                                US1_0\n",
      "                        | UH0_1 -> (* LazyNil *)\n",
      "                            US1_0\n",
      "                    | UH0_1 -> (* LazyNil *)\n",
      "                        US1_0\n",
      "                | UH0_1 -> (* LazyNil *)\n",
      "                    US1_0\n",
      "            | UH0_1 -> (* LazyNil *)\n",
      "                US1_0\n",
      "        | UH0_1 -> (* LazyNil *)\n",
      "            US1_0\n",
      "    let v105 : int32 =\n",
      "        match v101 with\n",
      "        | US1_0 -> (* None *)\n",
      "            failwith<int32> \"Option does not have a value.\"\n",
      "        | US1_1(v102) -> (* Some *)\n",
      "            v102\n",
      "    let v106 : bool = v105 = 5\n",
      "    let v107 : string = $\"_equal / actual: %A{v105} / expected: %A{5}\"\n",
      "    let v108 : bool = v106 = false\n",
      "    if v108 then\n",
      "        failwith<unit> v107\n",
      "method0()\n",
      "\r\n",
      "print_and_return / x: 0\r\n",
      "print_and_return / x: 1\r\n",
      "print_and_return / x: 2\r\n",
      "print_and_return / x: 3\r\n",
      "print_and_return / x: 4\r\n",
      "print_and_return / x: 5\r\n"
     ]
    }
   ],
   "source": [
    "// // test\n",
    "\n",
    "inl memo_list = new_finite_lazy_list print_and_return 10 |> memoize_lazy_list\n",
    "\n",
    "memo_list ()\n",
    "|> lazy_item 3i32\n",
    "|> _equal 3i32\n",
    "\n",
    "memo_list ()\n",
    "|> lazy_item 5i32\n",
    "|> _equal 5i32"
   ]
  },
  {
   "cell_type": "code",
   "execution_count": null,
   "metadata": {
    "dotnet_interactive": {
     "language": "spiral"
    },
    "polyglot_notebook": {
     "kernelName": "spiral"
    }
   },
   "outputs": [
    {
     "name": "stdout",
     "output_type": "stream",
     "text": [
      "type UH0 =\n",
      "    | UH0_0 of int32 * (unit -> UH0)\n",
      "    | UH0_1\n",
      "and [<Struct>] US0 =\n",
      "    | US0_0 of f0_0 : UH0\n",
      "    | US0_1 of f1_0 : (unit -> UH0)\n",
      "and Mut0 = {mutable l0 : US0}\n",
      "and [<Struct>] US1 =\n",
      "    | US1_0\n",
      "    | US1_1 of f1_0 : int32\n",
      "let rec closure0 (v0 : int32) () : UH0 =\n",
      "    let v1 : int32 = v0 + 1\n",
      "    method1(v1)\n",
      "and method1 (v0 : int32) : UH0 =\n",
      "    printfn $\"print_and_return / x: {v0}\"\n",
      "    let v1 : (unit -> UH0) = closure0(v0)\n",
      "    UH0_0(v0, v1)\n",
      "and closure1 (v0 : UH0) () : UH0 =\n",
      "    v0\n",
      "and closure2 (v0 : Mut0) () : UH0 =\n",
      "    let v1 : US0 = v0.l0\n",
      "    match v1 with\n",
      "    | US0_0(v2) -> (* Computed *)\n",
      "        v2\n",
      "    | US0_1(v3) -> (* NotComputed *)\n",
      "        let v4 : UH0 = v3 ()\n",
      "        let v13 : UH0 =\n",
      "            match v4 with\n",
      "            | UH0_0(v6, v7) -> (* LazyCons *)\n",
      "                let v8 : US0 = US0_1(v7)\n",
      "                let v9 : Mut0 = {l0 = v8} : Mut0\n",
      "                let v10 : (unit -> UH0) = closure2(v9)\n",
      "                UH0_0(v6, v10)\n",
      "            | UH0_1 -> (* LazyNil *)\n",
      "                UH0_1\n",
      "        let v14 : US0 = US0_0(v13)\n",
      "        v0.l0 <- v14\n",
      "        v13\n",
      "and method0 () : unit =\n",
      "    let v0 : int32 = 0\n",
      "    let v1 : UH0 = method1(v0)\n",
      "    let v2 : (unit -> UH0) = closure1(v1)\n",
      "    let v3 : US0 = US0_1(v2)\n",
      "    let v4 : Mut0 = {l0 = v3} : Mut0\n",
      "    let v5 : US0 = v4.l0\n",
      "    let v20 : UH0 =\n",
      "        match v5 with\n",
      "        | US0_0(v6) -> (* Computed *)\n",
      "            v6\n",
      "        | US0_1(v7) -> (* NotComputed *)\n",
      "            let v8 : UH0 = v7 ()\n",
      "            let v17 : UH0 =\n",
      "                match v8 with\n",
      "                | UH0_0(v10, v11) -> (* LazyCons *)\n",
      "                    let v12 : US0 = US0_1(v11)\n",
      "                    let v13 : Mut0 = {l0 = v12} : Mut0\n",
      "                    let v14 : (unit -> UH0) = closure2(v13)\n",
      "                    UH0_0(v10, v14)\n",
      "                | UH0_1 -> (* LazyNil *)\n",
      "                    UH0_1\n",
      "            let v18 : US0 = US0_0(v17)\n",
      "            v4.l0 <- v18\n",
      "            v17\n",
      "    let v44 : US1 =\n",
      "        match v20 with\n",
      "        | UH0_0(v21, v22) -> (* LazyCons *)\n",
      "            let v23 : UH0 = v22 ()\n",
      "            match v23 with\n",
      "            | UH0_0(v24, v25) -> (* LazyCons *)\n",
      "                let v26 : UH0 = v25 ()\n",
      "                match v26 with\n",
      "                | UH0_0(v27, v28) -> (* LazyCons *)\n",
      "                    let v29 : UH0 = v28 ()\n",
      "                    match v29 with\n",
      "                    | UH0_0(v30, v31) -> (* LazyCons *)\n",
      "                        US1_1(v30)\n",
      "                    | UH0_1 -> (* LazyNil *)\n",
      "                        US1_0\n",
      "                | UH0_1 -> (* LazyNil *)\n",
      "                    US1_0\n",
      "            | UH0_1 -> (* LazyNil *)\n",
      "                US1_0\n",
      "        | UH0_1 -> (* LazyNil *)\n",
      "            US1_0\n",
      "    let v48 : int32 =\n",
      "        match v44 with\n",
      "        | US1_0 -> (* None *)\n",
      "            failwith<int32> \"Option does not have a value.\"\n",
      "        | US1_1(v45) -> (* Some *)\n",
      "            v45\n",
      "    let v49 : bool = v48 = 3\n",
      "    let v50 : string = $\"_equal / actual: %A{v48} / expected: %A{3}\"\n",
      "    let v51 : bool = v49 = false\n",
      "    if v51 then\n",
      "        failwith<unit> v50\n",
      "    let v52 : US0 = v4.l0\n",
      "    let v67 : UH0 =\n",
      "        match v52 with\n",
      "        | US0_0(v53) -> (* Computed *)\n",
      "            v53\n",
      "        | US0_1(v54) -> (* NotComputed *)\n",
      "            let v55 : UH0 = v54 ()\n",
      "            let v64 : UH0 =\n",
      "                match v55 with\n",
      "                | UH0_0(v57, v58) -> (* LazyCons *)\n",
      "                    let v59 : US0 = US0_1(v58)\n",
      "                    let v60 : Mut0 = {l0 = v59} : Mut0\n",
      "                    let v61 : (unit -> UH0) = closure2(v60)\n",
      "                    UH0_0(v57, v61)\n",
      "                | UH0_1 -> (* LazyNil *)\n",
      "                    UH0_1\n",
      "            let v65 : US0 = US0_0(v64)\n",
      "            v4.l0 <- v65\n",
      "            v64\n",
      "    let v103 : US1 =\n",
      "        match v67 with\n",
      "        | UH0_0(v68, v69) -> (* LazyCons *)\n",
      "            let v70 : UH0 = v69 ()\n",
      "            match v70 with\n",
      "            | UH0_0(v71, v72) -> (* LazyCons *)\n",
      "                let v73 : UH0 = v72 ()\n",
      "                match v73 with\n",
      "                | UH0_0(v74, v75) -> (* LazyCons *)\n",
      "                    let v76 : UH0 = v75 ()\n",
      "                    match v76 with\n",
      "                    | UH0_0(v77, v78) -> (* LazyCons *)\n",
      "                        let v79 : UH0 = v78 ()\n",
      "                        match v79 with\n",
      "                        | UH0_0(v80, v81) -> (* LazyCons *)\n",
      "                            let v82 : UH0 = v81 ()\n",
      "                            match v82 with\n",
      "                            | UH0_0(v83, v84) -> (* LazyCons *)\n",
      "                                US1_1(v83)\n",
      "                            | UH0_1 -> (* LazyNil *)\n",
      "                                US1_0\n",
      "                        | UH0_1 -> (* LazyNil *)\n",
      "                            US1_0\n",
      "                    | UH0_1 -> (* LazyNil *)\n",
      "                        US1_0\n",
      "                | UH0_1 -> (* LazyNil *)\n",
      "                    US1_0\n",
      "            | UH0_1 -> (* LazyNil *)\n",
      "                US1_0\n",
      "        | UH0_1 -> (* LazyNil *)\n",
      "            US1_0\n",
      "    let v107 : int32 =\n",
      "        match v103 with\n",
      "        | US1_0 -> (* None *)\n",
      "            failwith<int32> \"Option does not have a value.\"\n",
      "        | US1_1(v104) -> (* Some *)\n",
      "            v104\n",
      "    let v108 : bool = v107 = 5\n",
      "    let v109 : string = $\"_equal / actual: %A{v107} / expected: %A{5}\"\n",
      "    let v110 : bool = v108 = false\n",
      "    if v110 then\n",
      "        failwith<unit> v109\n",
      "method0()\n",
      "\r\n",
      "print_and_return / x: 0\r\n",
      "print_and_return / x: 1\r\n",
      "print_and_return / x: 2\r\n",
      "print_and_return / x: 3\r\n",
      "print_and_return / x: 4\r\n",
      "print_and_return / x: 5\r\n"
     ]
    }
   ],
   "source": [
    "// // test\n",
    "\n",
    "inl memo_list = new_infinite_lazy_list_ print_and_return |> memoize_lazy_list\n",
    "\n",
    "memo_list ()\n",
    "|> lazy_item 3i32\n",
    "|> _equal 3i32\n",
    "\n",
    "memo_list ()\n",
    "|> lazy_item 5i32\n",
    "|> _equal 5i32"
   ]
  },
  {
   "cell_type": "markdown",
   "metadata": {},
   "source": [
    "## sum"
   ]
  },
  {
   "cell_type": "code",
   "execution_count": null,
   "metadata": {
    "dotnet_interactive": {
     "language": "spiral"
    },
    "polyglot_notebook": {
     "kernelName": "spiral"
    }
   },
   "outputs": [
    {
     "name": "stdout",
     "output_type": "stream",
     "text": [
      "()\n",
      "\r\n"
     ]
    }
   ],
   "source": [
    "inl sum list =\n",
    "    list |> listm.fold (+) 0"
   ]
  },
  {
   "cell_type": "code",
   "execution_count": null,
   "metadata": {
    "dotnet_interactive": {
     "language": "spiral"
    },
    "polyglot_notebook": {
     "kernelName": "spiral"
    }
   },
   "outputs": [
    {
     "name": "stdout",
     "output_type": "stream",
     "text": [
      "let rec method0 () : unit =\n",
      "    let v0 : string = $\"_equal / actual: %A{45} / expected: %A{45}\"\n",
      "    ()\n",
      "method0()\n",
      "\r\n"
     ]
    }
   ],
   "source": [
    "// // test\n",
    "\n",
    "listm.init 10i32 id\n",
    "|> sum\n",
    "|> _equal 45"
   ]
  },
  {
   "cell_type": "markdown",
   "metadata": {},
   "source": [
    "## unzip"
   ]
  },
  {
   "cell_type": "code",
   "execution_count": null,
   "metadata": {
    "dotnet_interactive": {
     "language": "spiral"
    },
    "polyglot_notebook": {
     "kernelName": "spiral"
    }
   },
   "outputs": [
    {
     "name": "stdout",
     "output_type": "stream",
     "text": [
      "()\n",
      "\r\n"
     ]
    }
   ],
   "source": [
    "inl unzip list =\n",
    "    list\n",
    "    |> listm.fold\n",
    "        (fun (acc_x, acc_y) (x, y) =>\n",
    "            x :: acc_x, y :: acc_y\n",
    "        )\n",
    "        ([], [])\n",
    "    |> fun x, y =>\n",
    "        x |> listm.rev, y |> listm.rev\n",
    "\n",
    "inl unzip_ list =\n",
    "    let rec loop acc_x acc_y = function\n",
    "        | Cons ((x, y), xs) => loop (x :: acc_x) (y :: acc_y) xs\n",
    "        | Nil => acc_x |> listm.rev, acc_y |> listm.rev\n",
    "    loop [] [] list"
   ]
  },
  {
   "cell_type": "code",
   "execution_count": null,
   "metadata": {
    "dotnet_interactive": {
     "language": "spiral"
    },
    "polyglot_notebook": {
     "kernelName": "spiral"
    }
   },
   "outputs": [
    {
     "name": "stdout",
     "output_type": "stream",
     "text": [
      "let rec method0 () : unit =\n",
      "    let v0 : string = $\"_equal / actual: %A{45} / expected: %A{45}\"\n",
      "    let v1 : string = $\"_equal / actual: %A{45} / expected: %A{45}\"\n",
      "    ()\n",
      "method0()\n",
      "\r\n"
     ]
    }
   ],
   "source": [
    "// // test\n",
    "\n",
    "listm.init 10i32 id\n",
    "|> listm.map (fun x => x, x)\n",
    "|> unzip\n",
    "|> fun x, y =>\n",
    "    x |> sum\n",
    "    |> _equal 45\n",
    "\n",
    "    y |> sum\n",
    "    |> _equal 45"
   ]
  },
  {
   "cell_type": "markdown",
   "metadata": {},
   "source": [
    "## try_index_of"
   ]
  },
  {
   "cell_type": "code",
   "execution_count": null,
   "metadata": {
    "dotnet_interactive": {
     "language": "spiral"
    },
    "polyglot_notebook": {
     "kernelName": "spiral"
    }
   },
   "outputs": [
    {
     "name": "stdout",
     "output_type": "stream",
     "text": [
      "()\n",
      "\r\n"
     ]
    }
   ],
   "source": [
    "inl try_index_of item list =\n",
    "    inl rec loop i = function\n",
    "        | [] => None\n",
    "        | x :: xs =>\n",
    "            if x = item\n",
    "            then Some i\n",
    "            else loop (i + 1) xs\n",
    "    loop 0 list\n",
    "\n",
    "inl index_of item =\n",
    "    try_index_of item >> optionm.value\n",
    "\n",
    "inl try_index_of_ item list =\n",
    "    let rec loop i = function\n",
    "        | [] => None\n",
    "        | x :: xs =>\n",
    "            if x = item\n",
    "            then Some i\n",
    "            else loop (i + 1) xs\n",
    "    loop 0 list\n",
    "\n",
    "inl index_of_ item =\n",
    "    try_index_of_ item >> optionm.value\n",
    "\n",
    "inl try_index_of__ item list =\n",
    "    inl i = mut 0\n",
    "    inl list = mut list\n",
    "    inl result = mut None\n",
    "    let rec loop () =\n",
    "        match *list with\n",
    "        | [] => result <- None\n",
    "        | x :: xs =>\n",
    "            if x = item\n",
    "            then result <- Some *i\n",
    "            else\n",
    "                i <- *i + 1\n",
    "                list <- xs\n",
    "                loop ()\n",
    "    loop ()\n",
    "    *result\n",
    "\n",
    "inl index_of__ item =\n",
    "    try_index_of__ item >> optionm.value"
   ]
  },
  {
   "cell_type": "code",
   "execution_count": null,
   "metadata": {
    "dotnet_interactive": {
     "language": "spiral"
    },
    "polyglot_notebook": {
     "kernelName": "spiral"
    }
   },
   "outputs": [
    {
     "name": "stdout",
     "output_type": "stream",
     "text": [
      "let rec method0 () : unit =\n",
      "    let v0 : string = $\"_equal / actual: %A{5} / expected: %A{5}\"\n",
      "    ()\n",
      "method0()\n",
      "\r\n"
     ]
    }
   ],
   "source": [
    "// // test\n",
    "\n",
    "listm.init 10i32 id\n",
    "|> index_of 5i32\n",
    "|> _equal 5i32"
   ]
  },
  {
   "cell_type": "code",
   "execution_count": null,
   "metadata": {
    "dotnet_interactive": {
     "language": "spiral"
    },
    "polyglot_notebook": {
     "kernelName": "spiral"
    }
   },
   "outputs": [
    {
     "name": "stdout",
     "output_type": "stream",
     "text": [
      "type [<Struct>] US0 =\n",
      "    | US0_0\n",
      "    | US0_1 of f1_0 : int32\n",
      "let rec method0 () : unit =\n",
      "    let v3 : US0 = US0_0\n",
      "    let v4 : US0 = US0_0\n",
      "    let v5 : string = $\"_equal / actual: %A{v3} / expected: %A{v4}\"\n",
      "    ()\n",
      "method0()\n",
      "\r\n"
     ]
    }
   ],
   "source": [
    "// // test\n",
    "\n",
    "listm.init 10i32 id\n",
    "|> try_index_of 10i32\n",
    "|> _equal (None : option i32)"
   ]
  },
  {
   "cell_type": "markdown",
   "metadata": {},
   "source": [
    "## try_find"
   ]
  },
  {
   "cell_type": "code",
   "execution_count": null,
   "metadata": {
    "dotnet_interactive": {
     "language": "spiral"
    },
    "polyglot_notebook": {
     "kernelName": "spiral"
    }
   },
   "outputs": [
    {
     "name": "stdout",
     "output_type": "stream",
     "text": [
      "()\n",
      "\r\n"
     ]
    }
   ],
   "source": [
    "inl try_find fn list =\n",
    "    inl rec loop = function\n",
    "        | [] => None\n",
    "        | x :: xs =>\n",
    "            if fn x\n",
    "            then Some x\n",
    "            else loop xs\n",
    "    loop list\n",
    "\n",
    "inl try_find_ fn list =\n",
    "    let rec loop = function\n",
    "        | [] => None\n",
    "        | x :: xs =>\n",
    "            if fn x\n",
    "            then Some x\n",
    "            else loop xs\n",
    "    loop list"
   ]
  },
  {
   "cell_type": "code",
   "execution_count": null,
   "metadata": {
    "dotnet_interactive": {
     "language": "spiral"
    },
    "polyglot_notebook": {
     "kernelName": "spiral"
    }
   },
   "outputs": [
    {
     "name": "stdout",
     "output_type": "stream",
     "text": [
      "type [<Struct>] US0 =\n",
      "    | US0_0\n",
      "    | US0_1 of f1_0 : int32\n",
      "let rec method0 () : unit =\n",
      "    let v3 : US0 = US0_1(5)\n",
      "    let v4 : US0 = US0_1(5)\n",
      "    let v5 : string = $\"_equal / actual: %A{v3} / expected: %A{v4}\"\n",
      "    ()\n",
      "method0()\n",
      "\r\n"
     ]
    }
   ],
   "source": [
    "// // test\n",
    "\n",
    "listm.init 10i32 id\n",
    "|> try_find ((=) 5i32)\n",
    "|> _equal (Some 5i32)"
   ]
  },
  {
   "cell_type": "code",
   "execution_count": null,
   "metadata": {
    "dotnet_interactive": {
     "language": "spiral"
    },
    "polyglot_notebook": {
     "kernelName": "spiral"
    }
   },
   "outputs": [
    {
     "name": "stdout",
     "output_type": "stream",
     "text": [
      "()\n",
      "\r\n"
     ]
    }
   ],
   "source": [
    "inl find x =\n",
    "    try_find x >> optionm.value\n",
    "\n",
    "inl find_ x =\n",
    "    try_find_ x >> optionm.value"
   ]
  },
  {
   "cell_type": "code",
   "execution_count": null,
   "metadata": {
    "dotnet_interactive": {
     "language": "spiral"
    },
    "polyglot_notebook": {
     "kernelName": "spiral"
    }
   },
   "outputs": [
    {
     "name": "stdout",
     "output_type": "stream",
     "text": [
      "let rec method0 () : unit =\n",
      "    let v0 : string = $\"_equal / actual: %A{5} / expected: %A{5}\"\n",
      "    ()\n",
      "method0()\n",
      "\r\n"
     ]
    }
   ],
   "source": [
    "// // test\n",
    "\n",
    "listm.init 10i32 id\n",
    "|> find ((=) 5i32)\n",
    "|> _equal 5i32"
   ]
  },
  {
   "cell_type": "markdown",
   "metadata": {},
   "source": [
    "## choose"
   ]
  },
  {
   "cell_type": "code",
   "execution_count": null,
   "metadata": {
    "dotnet_interactive": {
     "language": "spiral"
    },
    "polyglot_notebook": {
     "kernelName": "spiral"
    }
   },
   "outputs": [
    {
     "name": "stdout",
     "output_type": "stream",
     "text": [
      "()\n",
      "\r\n"
     ]
    }
   ],
   "source": [
    "inl choose f l =\n",
    "    (l, [])\n",
    "    ||> listm.foldBack fun x acc =>\n",
    "        match f x with\n",
    "        | Some y => y :: acc\n",
    "        | None => acc\n",
    "\n",
    "inl choose_ f l =\n",
    "    let rec loop acc = function\n",
    "        | [] => acc |> listm.rev\n",
    "        | x :: xs =>\n",
    "            match f x with\n",
    "            | Some y => loop (y :: acc) xs\n",
    "            | None => loop acc xs\n",
    "    loop [] l"
   ]
  },
  {
   "cell_type": "code",
   "execution_count": null,
   "metadata": {
    "dotnet_interactive": {
     "language": "spiral"
    },
    "polyglot_notebook": {
     "kernelName": "spiral"
    }
   },
   "outputs": [
    {
     "name": "stdout",
     "output_type": "stream",
     "text": [
      "type UH0 =\n",
      "    | UH0_0 of int32 * UH0\n",
      "    | UH0_1\n",
      "let rec method0 () : unit =\n",
      "    let v33 : UH0 = UH0_1\n",
      "    let v34 : UH0 = UH0_0(8, v33)\n",
      "    let v35 : UH0 = UH0_0(6, v34)\n",
      "    let v36 : UH0 = UH0_0(4, v35)\n",
      "    let v37 : UH0 = UH0_0(2, v36)\n",
      "    let v38 : UH0 = UH0_0(0, v37)\n",
      "    let v39 : UH0 = UH0_1\n",
      "    let v40 : UH0 = UH0_0(8, v39)\n",
      "    let v41 : UH0 = UH0_0(6, v40)\n",
      "    let v42 : UH0 = UH0_0(4, v41)\n",
      "    let v43 : UH0 = UH0_0(2, v42)\n",
      "    let v44 : UH0 = UH0_0(0, v43)\n",
      "    let v45 : string = $\"_equal / actual: %A{v38} / expected: %A{v44}\"\n",
      "    ()\n",
      "method0()\n",
      "\r\n"
     ]
    }
   ],
   "source": [
    "// // test\n",
    "\n",
    "listm.init 10i32 id\n",
    "|> choose (fun x => if x % 2 = 0 then Some x else None)\n",
    "|> _equal [0; 2; 4; 6; 8]"
   ]
  },
  {
   "cell_type": "markdown",
   "metadata": {},
   "source": [
    "## zip_with"
   ]
  },
  {
   "cell_type": "code",
   "execution_count": null,
   "metadata": {
    "dotnet_interactive": {
     "language": "spiral"
    },
    "polyglot_notebook": {
     "kernelName": "spiral"
    }
   },
   "outputs": [
    {
     "name": "stdout",
     "output_type": "stream",
     "text": [
      "()\n",
      "\r\n"
     ]
    }
   ],
   "source": [
    "inl zip_with fn xs ys =\n",
    "    inl rec loop acc xs ys =\n",
    "        match xs, ys with\n",
    "        | Cons (x, xs), Cons (y, ys) =>\n",
    "            loop (fn x y :: acc) xs ys\n",
    "        | _ => listm.rev acc\n",
    "    loop [] xs ys\n",
    "\n",
    "inl zip_with_ fn xs ys =\n",
    "    let rec loop acc xs ys =\n",
    "        match xs, ys with\n",
    "        | Cons (x, xs), Cons (y, ys) =>\n",
    "            loop (fn x y :: acc) xs ys\n",
    "        | _ => listm.rev acc\n",
    "    loop [] xs ys"
   ]
  },
  {
   "cell_type": "code",
   "execution_count": null,
   "metadata": {
    "dotnet_interactive": {
     "language": "spiral"
    },
    "polyglot_notebook": {
     "kernelName": "spiral"
    }
   },
   "outputs": [
    {
     "name": "stdout",
     "output_type": "stream",
     "text": [
      "type UH0 =\n",
      "    | UH0_0 of int32 * UH0\n",
      "    | UH0_1\n",
      "let rec method0 () : unit =\n",
      "    let v18 : UH0 = UH0_1\n",
      "    let v19 : UH0 = UH0_0(9, v18)\n",
      "    let v20 : UH0 = UH0_0(7, v19)\n",
      "    let v21 : UH0 = UH0_0(5, v20)\n",
      "    let v22 : UH0 = UH0_1\n",
      "    let v23 : UH0 = UH0_0(9, v22)\n",
      "    let v24 : UH0 = UH0_0(7, v23)\n",
      "    let v25 : UH0 = UH0_0(5, v24)\n",
      "    let v26 : string = $\"_equal / actual: %A{v21} / expected: %A{v25}\"\n",
      "    ()\n",
      "method0()\n",
      "\r\n"
     ]
    }
   ],
   "source": [
    "// // test\n",
    "\n",
    "([1i32; 2; 3], [4; 5; 6])\n",
    "||> zip_with (+)\n",
    "|> _equal [5; 7; 9]"
   ]
  },
  {
   "cell_type": "markdown",
   "metadata": {},
   "source": [
    "## zip"
   ]
  },
  {
   "cell_type": "code",
   "execution_count": null,
   "metadata": {
    "dotnet_interactive": {
     "language": "spiral"
    },
    "polyglot_notebook": {
     "kernelName": "spiral"
    }
   },
   "outputs": [
    {
     "name": "stdout",
     "output_type": "stream",
     "text": [
      "()\n",
      "\r\n"
     ]
    }
   ],
   "source": [
    "inl zip xs ys =\n",
    "    zip_with pair xs ys\n",
    "\n",
    "inl zip_ xs ys =\n",
    "    zip_with_ pair xs ys"
   ]
  },
  {
   "cell_type": "code",
   "execution_count": null,
   "metadata": {
    "dotnet_interactive": {
     "language": "spiral"
    },
    "polyglot_notebook": {
     "kernelName": "spiral"
    }
   },
   "outputs": [
    {
     "name": "stdout",
     "output_type": "stream",
     "text": [
      "type UH0 =\n",
      "    | UH0_0 of int32 * int32 * UH0\n",
      "    | UH0_1\n",
      "let rec method0 () : unit =\n",
      "    let v18 : UH0 = UH0_1\n",
      "    let v19 : UH0 = UH0_0(3, 6, v18)\n",
      "    let v20 : UH0 = UH0_0(2, 5, v19)\n",
      "    let v21 : UH0 = UH0_0(1, 4, v20)\n",
      "    let v22 : UH0 = UH0_1\n",
      "    let v23 : UH0 = UH0_0(3, 6, v22)\n",
      "    let v24 : UH0 = UH0_0(2, 5, v23)\n",
      "    let v25 : UH0 = UH0_0(1, 4, v24)\n",
      "    let v26 : string = $\"_equal / actual: %A{v21} / expected: %A{v25}\"\n",
      "    ()\n",
      "method0()\n",
      "\r\n"
     ]
    }
   ],
   "source": [
    "// // test\n",
    "\n",
    "([1i32; 2; 3], [4i32; 5; 6])\n",
    "||> zip\n",
    "|> _equal [1, 4; 2, 5; 3, 6]"
   ]
  },
  {
   "cell_type": "markdown",
   "metadata": {},
   "source": [
    "## indexed"
   ]
  },
  {
   "cell_type": "code",
   "execution_count": null,
   "metadata": {
    "dotnet_interactive": {
     "language": "spiral"
    },
    "polyglot_notebook": {
     "kernelName": "spiral"
    }
   },
   "outputs": [
    {
     "name": "stdout",
     "output_type": "stream",
     "text": [
      "()\n",
      "\r\n"
     ]
    }
   ],
   "source": [
    "inl indexed list =\n",
    "    list\n",
    "    |> listm.fold\n",
    "        (fun (acc, i) x =>\n",
    "            (i, x) :: acc, i + 1\n",
    "        )\n",
    "        ([], 0)\n",
    "    |> fst\n",
    "    |> listm.rev"
   ]
  },
  {
   "cell_type": "code",
   "execution_count": null,
   "metadata": {
    "dotnet_interactive": {
     "language": "spiral"
    },
    "polyglot_notebook": {
     "kernelName": "spiral"
    }
   },
   "outputs": [
    {
     "name": "stdout",
     "output_type": "stream",
     "text": [
      "type UH0 =\n",
      "    | UH0_0 of int32 * int32 * UH0\n",
      "    | UH0_1\n",
      "let rec method0 () : unit =\n",
      "    let v33 : UH0 = UH0_1\n",
      "    let v34 : UH0 = UH0_0(4, 8, v33)\n",
      "    let v35 : UH0 = UH0_0(3, 6, v34)\n",
      "    let v36 : UH0 = UH0_0(2, 4, v35)\n",
      "    let v37 : UH0 = UH0_0(1, 2, v36)\n",
      "    let v38 : UH0 = UH0_0(0, 0, v37)\n",
      "    let v39 : UH0 = UH0_1\n",
      "    let v40 : UH0 = UH0_0(4, 8, v39)\n",
      "    let v41 : UH0 = UH0_0(3, 6, v40)\n",
      "    let v42 : UH0 = UH0_0(2, 4, v41)\n",
      "    let v43 : UH0 = UH0_0(1, 2, v42)\n",
      "    let v44 : UH0 = UH0_0(0, 0, v43)\n",
      "    let v45 : string = $\"_equal / actual: %A{v38} / expected: %A{v44}\"\n",
      "    ()\n",
      "method0()\n",
      "\r\n"
     ]
    }
   ],
   "source": [
    "// // test\n",
    "\n",
    "listm.init 5i32 ((*) 2)\n",
    "|> indexed\n",
    "|> _equal [0i32, 0; 1, 2; 2, 4; 3, 6; 4, 8]"
   ]
  }
 ],
 "metadata": {},
 "nbformat": 4,
 "nbformat_minor": 5
}