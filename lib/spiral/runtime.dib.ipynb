{
 "cells": [
  {
   "cell_type": "markdown",
   "metadata": {},
   "source": [
    "# runtime"
   ]
  },
  {
   "cell_type": "code",
   "execution_count": null,
   "metadata": {
    "dotnet_interactive": {
     "language": "spiral"
    },
    "polyglot_notebook": {
     "kernelName": "spiral"
    }
   },
   "outputs": [
    {
     "name": "stdout",
     "output_type": "stream",
     "text": [
      "()\n",
      "\r\n"
     ]
    }
   ],
   "source": [
    "// // test\n",
    "\n",
    "open testing"
   ]
  },
  {
   "cell_type": "markdown",
   "metadata": {},
   "source": [
    "## os_platform"
   ]
  },
  {
   "cell_type": "code",
   "execution_count": null,
   "metadata": {
    "dotnet_interactive": {
     "language": "spiral"
    },
    "polyglot_notebook": {
     "kernelName": "spiral"
    }
   },
   "outputs": [
    {
     "name": "stdout",
     "output_type": "stream",
     "text": [
      "()\n",
      "\r\n"
     ]
    }
   ],
   "source": [
    "nominal os_platform' = $'System.Runtime.InteropServices.OSPlatform'\n",
    "\n",
    "union os_platform =\n",
    "    | Windows\n",
    "\n",
    "inl os_platform = function\n",
    "    | Windows => $'`os_platform'.Windows' : os_platform'"
   ]
  },
  {
   "cell_type": "markdown",
   "metadata": {},
   "source": [
    "## is_os_platform"
   ]
  },
  {
   "cell_type": "code",
   "execution_count": null,
   "metadata": {
    "dotnet_interactive": {
     "language": "spiral"
    },
    "polyglot_notebook": {
     "kernelName": "spiral"
    }
   },
   "outputs": [
    {
     "name": "stdout",
     "output_type": "stream",
     "text": [
      "()\n",
      "\r\n"
     ]
    }
   ],
   "source": [
    "inl is_os_platform (x : os_platform') : bool =\n",
    "    x |> $'System.Runtime.InteropServices.RuntimeInformation.IsOSPlatform'"
   ]
  },
  {
   "cell_type": "markdown",
   "metadata": {},
   "source": [
    "## is_windows"
   ]
  },
  {
   "cell_type": "code",
   "execution_count": null,
   "metadata": {
    "dotnet_interactive": {
     "language": "spiral"
    },
    "polyglot_notebook": {
     "kernelName": "spiral"
    }
   },
   "outputs": [
    {
     "name": "stdout",
     "output_type": "stream",
     "text": [
      "()\n",
      "\r\n"
     ]
    }
   ],
   "source": [
    "inl is_windows () : bool =\n",
    "    run_target function\n",
    "        | Fsharp (Native) => fun () =>\n",
    "            Windows |> os_platform |> is_os_platform\n",
    "        | _ => fun () => null ()"
   ]
  },
  {
   "cell_type": "markdown",
   "metadata": {},
   "source": [
    "## get_executable_suffix"
   ]
  },
  {
   "cell_type": "code",
   "execution_count": null,
   "metadata": {
    "dotnet_interactive": {
     "language": "spiral"
    },
    "polyglot_notebook": {
     "kernelName": "spiral"
    }
   },
   "outputs": [
    {
     "name": "stdout",
     "output_type": "stream",
     "text": [
      "()\n",
      "\r\n"
     ]
    }
   ],
   "source": [
    "inl get_executable_suffix () =\n",
    "    if is_windows ()\n",
    "    then \".exe\"\n",
    "    else \"\""
   ]
  },
  {
   "cell_type": "code",
   "execution_count": null,
   "metadata": {
    "dotnet_interactive": {
     "language": "spiral"
    },
    "polyglot_notebook": {
     "kernelName": "spiral"
    }
   },
   "outputs": [
    {
     "data": {
      "text/plain": [
       ".exe"
      ]
     },
     "metadata": {},
     "output_type": "display_data"
    },
    {
     "name": "stdout",
     "output_type": "stream",
     "text": [
      "let rec method0 () : string =\n",
      "    let v0 : bool option = None\n",
      "    let mutable _v0 = v0\n",
      "    #if FABLE_COMPILER_RUST && !WASM && !CONTRACT\n",
      "    let v1 : bool = null |> unbox<bool>\n",
      "    v1 \n",
      "    #endif\n",
      "    #if FABLE_COMPILER_RUST && WASM\n",
      "    let v2 : bool = null |> unbox<bool>\n",
      "    v2 \n",
      "    #endif\n",
      "    #if FABLE_COMPILER_RUST && CONTRACT\n",
      "    let v3 : bool = null |> unbox<bool>\n",
      "    v3 \n",
      "    #endif\n",
      "    #if !FABLE_COMPILER && !FABLE_COMPILER_RUST && !FABLE_COMPILER_TYPESCRIPT && !WASM && !CONTRACT\n",
      "    let v4 : System.Runtime.InteropServices.OSPlatform = System.Runtime.InteropServices.OSPlatform.Windows\n",
      "    let v5 : (System.Runtime.InteropServices.OSPlatform -> bool) = System.Runtime.InteropServices.RuntimeInformation.IsOSPlatform\n",
      "    let v6 : bool = v5 v4\n",
      "    v6 \n",
      "    #endif\n",
      "    #if FABLE_COMPILER_TYPESCRIPT\n",
      "    let v7 : bool = null |> unbox<bool>\n",
      "    v7 \n",
      "    #endif\n",
      "    #if FABLE_COMPILER_PYTHON || FABLE_COMPILER_PHP || FABLE_COMPILER_DART\n",
      "    let v8 : bool = Unchecked.defaultof<bool>\n",
      "    v8 \n",
      "    #endif\n",
      "    |> fun x -> _v0 <- Some x\n",
      "    let v9 : bool = _v0.Value\n",
      "    if v9 then\n",
      "        let v10 : string = \".exe\"\n",
      "        v10\n",
      "    else\n",
      "        let v11 : string = \"\"\n",
      "        v11\n",
      "method0()\n",
      "\r\n"
     ]
    }
   ],
   "source": [
    "// // test\n",
    "\n",
    "get_executable_suffix ()"
   ]
  },
  {
   "cell_type": "markdown",
   "metadata": {},
   "source": [
    "## main"
   ]
  },
  {
   "cell_type": "code",
   "execution_count": null,
   "metadata": {
    "dotnet_interactive": {
     "language": "spiral"
    },
    "polyglot_notebook": {
     "kernelName": "spiral"
    }
   },
   "outputs": [
    {
     "name": "stdout",
     "output_type": "stream",
     "text": [
      "let rec closure0 () () : bool =\n",
      "    let v0 : bool option = None\n",
      "    let mutable _v0 = v0\n",
      "    #if FABLE_COMPILER_RUST && !WASM && !CONTRACT\n",
      "    let v1 : bool = null |> unbox<bool>\n",
      "    v1 \n",
      "    #endif\n",
      "    #if FABLE_COMPILER_RUST && WASM\n",
      "    let v2 : bool = null |> unbox<bool>\n",
      "    v2 \n",
      "    #endif\n",
      "    #if FABLE_COMPILER_RUST && CONTRACT\n",
      "    let v3 : bool = null |> unbox<bool>\n",
      "    v3 \n",
      "    #endif\n",
      "    #if !FABLE_COMPILER && !FABLE_COMPILER_RUST && !FABLE_COMPILER_TYPESCRIPT && !WASM && !CONTRACT\n",
      "    let v4 : System.Runtime.InteropServices.OSPlatform = System.Runtime.InteropServices.OSPlatform.Windows\n",
      "    let v5 : (System.Runtime.InteropServices.OSPlatform -> bool) = System.Runtime.InteropServices.RuntimeInformation.IsOSPlatform\n",
      "    let v6 : bool = v5 v4\n",
      "    v6 \n",
      "    #endif\n",
      "    #if FABLE_COMPILER_TYPESCRIPT\n",
      "    let v7 : bool = null |> unbox<bool>\n",
      "    v7 \n",
      "    #endif\n",
      "    #if FABLE_COMPILER_PYTHON || FABLE_COMPILER_PHP || FABLE_COMPILER_DART\n",
      "    let v8 : bool = Unchecked.defaultof<bool>\n",
      "    v8 \n",
      "    #endif\n",
      "    |> fun x -> _v0 <- Some x\n",
      "    let v9 : bool = _v0.Value\n",
      "    v9\n",
      "and closure1 () () : string =\n",
      "    let v0 : bool option = None\n",
      "    let mutable _v0 = v0\n",
      "    #if FABLE_COMPILER_RUST && !WASM && !CONTRACT\n",
      "    let v1 : bool = null |> unbox<bool>\n",
      "    v1 \n",
      "    #endif\n",
      "    #if FABLE_COMPILER_RUST && WASM\n",
      "    let v2 : bool = null |> unbox<bool>\n",
      "    v2 \n",
      "    #endif\n",
      "    #if FABLE_COMPILER_RUST && CONTRACT\n",
      "    let v3 : bool = null |> unbox<bool>\n",
      "    v3 \n",
      "    #endif\n",
      "    #if !FABLE_COMPILER && !FABLE_COMPILER_RUST && !FABLE_COMPILER_TYPESCRIPT && !WASM && !CONTRACT\n",
      "    let v4 : System.Runtime.InteropServices.OSPlatform = System.Runtime.InteropServices.OSPlatform.Windows\n",
      "    let v5 : (System.Runtime.InteropServices.OSPlatform -> bool) = System.Runtime.InteropServices.RuntimeInformation.IsOSPlatform\n",
      "    let v6 : bool = v5 v4\n",
      "    v6 \n",
      "    #endif\n",
      "    #if FABLE_COMPILER_TYPESCRIPT\n",
      "    let v7 : bool = null |> unbox<bool>\n",
      "    v7 \n",
      "    #endif\n",
      "    #if FABLE_COMPILER_PYTHON || FABLE_COMPILER_PHP || FABLE_COMPILER_DART\n",
      "    let v8 : bool = Unchecked.defaultof<bool>\n",
      "    v8 \n",
      "    #endif\n",
      "    |> fun x -> _v0 <- Some x\n",
      "    let v9 : bool = _v0.Value\n",
      "    if v9 then\n",
      "        let v10 : string = \".exe\"\n",
      "        v10\n",
      "    else\n",
      "        let v11 : string = \"\"\n",
      "        v11\n",
      "let v0 : (unit -> bool) = closure0()\n",
      "let is_windows () = v0 ()\n",
      "let v1 : (unit -> string) = closure1()\n",
      "let get_executable_suffix () = v1 ()\n",
      "()\n",
      "\r\n"
     ]
    }
   ],
   "source": [
    "inl main () =\n",
    "    $\"let is_windows () = !is_windows ()\" : ()\n",
    "    $\"let get_executable_suffix () = !get_executable_suffix ()\" : ()"
   ]
  }
 ],
 "metadata": {},
 "nbformat": 4,
 "nbformat_minor": 5
}