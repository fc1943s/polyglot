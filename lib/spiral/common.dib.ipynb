{
 "cells": [
  {
   "cell_type": "markdown",
   "metadata": {},
   "source": [
    "# common"
   ]
  },
  {
   "cell_type": "code",
   "execution_count": null,
   "metadata": {
    "dotnet_interactive": {
     "language": "spiral"
    },
    "polyglot_notebook": {
     "kernelName": "spiral"
    }
   },
   "outputs": [
    {
     "name": "stdout",
     "output_type": "stream",
     "text": [
      "()\n",
      "\r\n"
     ]
    }
   ],
   "source": [
    "// // test\n",
    "\n",
    "open testing"
   ]
  },
  {
   "cell_type": "markdown",
   "metadata": {},
   "source": [
    "## types"
   ]
  },
  {
   "cell_type": "code",
   "execution_count": null,
   "metadata": {
    "dotnet_interactive": {
     "language": "spiral"
    },
    "polyglot_notebook": {
     "kernelName": "spiral"
    }
   },
   "outputs": [
    {
     "name": "stdout",
     "output_type": "stream",
     "text": [
      "()\n",
      "\r\n"
     ]
    }
   ],
   "source": [
    "inl types () =\n",
    "    global \"#if FABLE_COMPILER // common.types\"\n",
    "    rust.types ()\n",
    "    sm'.types ()\n",
    "    global \"#endif // common.types\""
   ]
  },
  {
   "cell_type": "markdown",
   "metadata": {},
   "source": [
    "## prototype"
   ]
  },
  {
   "cell_type": "code",
   "execution_count": null,
   "metadata": {
    "dotnet_interactive": {
     "language": "spiral"
    },
    "polyglot_notebook": {
     "kernelName": "spiral"
    }
   },
   "outputs": [
    {
     "name": "stdout",
     "output_type": "stream",
     "text": [
      "()\n",
      "\r\n"
     ]
    }
   ],
   "source": [
    "prototype (~:>) r : forall t. t -> r"
   ]
  },
  {
   "cell_type": "markdown",
   "metadata": {},
   "source": [
    "## run_target"
   ]
  },
  {
   "cell_type": "code",
   "execution_count": null,
   "metadata": {
    "dotnet_interactive": {
     "language": "spiral"
    },
    "polyglot_notebook": {
     "kernelName": "spiral"
    }
   },
   "outputs": [
    {
     "name": "stdout",
     "output_type": "stream",
     "text": [
      "let rec method1 (v0 : bool) : bool =\n",
      "    v0\n",
      "and method0 () : unit =\n",
      "    let v0 : uint8 option = None\n",
      "    let v1 : bool = true in let mutable _v0 = v0\n",
      "    #if FABLE_COMPILER_RUST && !WASM && !CONTRACT\n",
      "    let v2 : uint8 = 2uy\n",
      "    v2\n",
      "#endif\n",
      "    #if FABLE_COMPILER_RUST && WASM\n",
      "    let v3 : uint8 = 2uy\n",
      "    v3\n",
      "#endif\n",
      "    #if FABLE_COMPILER_RUST && CONTRACT\n",
      "    let v4 : uint8 = 2uy\n",
      "    v4\n",
      "#endif\n",
      "    #if !FABLE_COMPILER && !FABLE_COMPILER_RUST && !FABLE_COMPILER_TYPESCRIPT && !WASM && !CONTRACT\n",
      "    let v5 : uint8 = 1uy\n",
      "    v5\n",
      "#endif\n",
      "    #if FABLE_COMPILER_TYPESCRIPT\n",
      "    let v6 : uint8 = 2uy\n",
      "    v6\n",
      "#endif\n",
      "    #if FABLE_COMPILER_PYTHON || FABLE_COMPILER_PHP || FABLE_COMPILER_DART\n",
      "    let v7 : uint8 = Unchecked.defaultof<uint8>\n",
      "    v7\n",
      "#endif\n",
      "    |> fun x -> _v0 <- Some x\n",
      "    let v8 : uint8 = _v0.Value\n",
      "    let v9 : string = $\"%A{v8}\"\n",
      "    System.Console.WriteLine v9\n",
      "    let v10 : bool = v8 = 1uy\n",
      "    let v12 : bool =\n",
      "        if v10 then\n",
      "            true\n",
      "        else\n",
      "            method1(v10)\n",
      "    let v13 : string = $\"__expect / actual: %A{v8} / expected: %A{1uy}\"\n",
      "    let v14 : bool = v12 = false\n",
      "    if v14 then\n",
      "        failwith<unit> v13\n",
      "method0()\n",
      "\r\n",
      "1uy\r\n"
     ]
    }
   ],
   "source": [
    "// // test\n",
    "\n",
    "run_target function\n",
    "    | Fsharp (Native) => fun () => $\"1uy\"\n",
    "    | _ => fun () => $\"2uy\"\n",
    "|> _assert_eq 1u8"
   ]
  },
  {
   "cell_type": "code",
   "execution_count": null,
   "metadata": {
    "dotnet_interactive": {
     "language": "spiral"
    },
    "polyglot_notebook": {
     "kernelName": "spiral"
    }
   },
   "outputs": [
    {
     "data": {
      "text/plain": [
       ".rs output:\n",
       "1\n",
       "\n",
       "\n"
      ]
     },
     "metadata": {},
     "output_type": "display_data"
    },
    {
     "name": "stdout",
     "output_type": "stream",
     "text": [
      ".fsx:\n",
      "let rec method1 (v0 : bool) : bool =\n",
      "    v0\n",
      "and method0 () : unit =\n",
      "    let v0 : uint8 option = None\n",
      "    let v1 : bool = true in let mutable _v0 = v0\n",
      "    #if FABLE_COMPILER_RUST && !WASM && !CONTRACT\n",
      "    let v2 : uint8 = 1uy\n",
      "    v2\n",
      "#endif\n",
      "    #if FABLE_COMPILER_RUST && WASM\n",
      "    let v3 : uint8 = 2uy\n",
      "    v3\n",
      "#endif\n",
      "    #if FABLE_COMPILER_RUST && CONTRACT\n",
      "    let v4 : uint8 = 2uy\n",
      "    v4\n",
      "#endif\n",
      "    #if !FABLE_COMPILER && !FABLE_COMPILER_RUST && !FABLE_COMPILER_TYPESCRIPT && !WASM && !CONTRACT\n",
      "    let v5 : uint8 = 2uy\n",
      "    v5\n",
      "#endif\n",
      "    #if FABLE_COMPILER_TYPESCRIPT\n",
      "    let v6 : uint8 = 2uy\n",
      "    v6\n",
      "#endif\n",
      "    #if FABLE_COMPILER_PYTHON || FABLE_COMPILER_PHP || FABLE_COMPILER_DART\n",
      "    let v7 : uint8 = Unchecked.defaultof<uint8>\n",
      "    v7\n",
      "#endif\n",
      "    |> fun x -> _v0 <- Some x\n",
      "    let v8 : uint8 = _v0.Value\n",
      "    let v9 : string = $\"%A{v8}\"\n",
      "    System.Console.WriteLine v9\n",
      "    let v10 : bool = v8 = 1uy\n",
      "    let v12 : bool =\n",
      "        if v10 then\n",
      "            true\n",
      "        else\n",
      "            method1(v10)\n",
      "    let v13 : string = $\"__expect / actual: %A{v8} / expected: %A{1uy}\"\n",
      "    let v14 : bool = v12 = false\n",
      "    if v14 then\n",
      "        failwith<unit> v13\n",
      "method0()\n",
      "\n",
      "\r\n",
      ".rs:\n",
      "#![allow(dead_code)]\n",
      "#![allow(non_camel_case_types)]\n",
      "#![allow(non_snake_case)]\n",
      "#![allow(non_upper_case_globals)]\n",
      "#![allow(unreachable_code)]\n",
      "#![allow(unused_attributes)]\n",
      "#![allow(unused_imports)]\n",
      "#![allow(unused_macros)]\n",
      "#![allow(unused_parens)]\n",
      "#![allow(unused_variables)]\n",
      "mod module_ccfa04bf {\n",
      "    pub mod Spiral_eval {\n",
      "        use super::*;\n",
      "        use fable_library_rust::Native_::on_startup;\n",
      "        use fable_library_rust::Native_::MutCell;\n",
      "        use fable_library_rust::Option_::getValue;\n",
      "        use fable_library_rust::String_::printfn;\n",
      "        use fable_library_rust::String_::sprintf;\n",
      "        use fable_library_rust::String_::string;\n",
      "        pub fn method1(v0: bool) -> bool {\n",
      "            v0\n",
      "        }\n",
      "        pub fn method0() {\n",
      "            let _v0: MutCell<Option<u8>> = MutCell::new(None::<u8>);\n",
      "            _v0.set(Some(1_u8));\n",
      "            {\n",
      "                let v8: u8 = getValue(_v0.get().clone());\n",
      "                let v9: string = sprintf!(\"{:?}\", v8);\n",
      "                printfn!(\"{0}\", v9);\n",
      "                {\n",
      "                    let v10: bool = v8 == 1_u8;\n",
      "                    if (if v10 { true } else { Spiral_eval::method1(v10) }) == false {\n",
      "                        panic!(\n",
      "                            \"{}\",\n",
      "                            sprintf!(\"__expect / actual: {:?} / expected: {:?}\", v8, 1_u8),\n",
      "                        );\n",
      "                    }\n",
      "                }\n",
      "            }\n",
      "        }\n",
      "        on_startup!(Spiral_eval::method0());\n",
      "    }\n",
      "}\n",
      "pub use module_ccfa04bf::*;\n",
      "\r\n"
     ]
    }
   ],
   "source": [
    "// // test\n",
    "// // rust=\n",
    "\n",
    "run_target function\n",
    "    | Rust (Native) => fun () => $\"1uy\"\n",
    "    | _ => fun () => $\"2uy\"\n",
    "|> _assert_eq 1u8"
   ]
  },
  {
   "cell_type": "markdown",
   "metadata": {},
   "source": [
    "## upcast"
   ]
  },
  {
   "cell_type": "code",
   "execution_count": null,
   "metadata": {
    "dotnet_interactive": {
     "language": "spiral"
    },
    "polyglot_notebook": {
     "kernelName": "spiral"
    }
   },
   "outputs": [
    {
     "name": "stdout",
     "output_type": "stream",
     "text": [
      "()\n",
      "\r\n"
     ]
    }
   ],
   "source": [
    "inl upcast forall t u. (x : t) : u =\n",
    "    $'!x :> `u '"
   ]
  },
  {
   "cell_type": "markdown",
   "metadata": {},
   "source": [
    "## downcast"
   ]
  },
  {
   "cell_type": "code",
   "execution_count": null,
   "metadata": {
    "dotnet_interactive": {
     "language": "spiral"
    },
    "polyglot_notebook": {
     "kernelName": "spiral"
    }
   },
   "outputs": [
    {
     "name": "stdout",
     "output_type": "stream",
     "text": [
      "()\n",
      "\r\n"
     ]
    }
   ],
   "source": [
    "inl downcast forall t u. (x : t) : u =\n",
    "    $'!x :?> `u '"
   ]
  },
  {
   "cell_type": "markdown",
   "metadata": {},
   "source": [
    "## pair"
   ]
  },
  {
   "cell_type": "code",
   "execution_count": null,
   "metadata": {
    "dotnet_interactive": {
     "language": "spiral"
    },
    "polyglot_notebook": {
     "kernelName": "spiral"
    }
   },
   "outputs": [
    {
     "name": "stdout",
     "output_type": "stream",
     "text": [
      "let rec method0 () : unit =\n",
      "    let v0 : string = $\"%A{struct (1, 2)}\"\n",
      "    System.Console.WriteLine v0\n",
      "    let v1 : string = $\"__expect / actual: %A{struct (1, 2)} / expected: %A{struct (1, 2)}\"\n",
      "    ()\n",
      "method0()\n",
      "\r\n",
      "struct (1, 2)\r\n"
     ]
    }
   ],
   "source": [
    "// // test\n",
    "\n",
    "pair 1i32 2i32\n",
    "|> _assert_eq (1, 2)"
   ]
  },
  {
   "cell_type": "markdown",
   "metadata": {},
   "source": [
    "## new_pair"
   ]
  },
  {
   "cell_type": "code",
   "execution_count": null,
   "metadata": {
    "dotnet_interactive": {
     "language": "spiral"
    },
    "polyglot_notebook": {
     "kernelName": "spiral"
    }
   },
   "outputs": [
    {
     "name": "stdout",
     "output_type": "stream",
     "text": [
      "()\n",
      "\r\n"
     ]
    }
   ],
   "source": [
    "inl new_pair forall a b. (a : a) (b : b) : pair a b =\n",
    "    $\"!a, !b\""
   ]
  },
  {
   "cell_type": "markdown",
   "metadata": {},
   "source": [
    "## from_pair"
   ]
  },
  {
   "cell_type": "code",
   "execution_count": null,
   "metadata": {
    "dotnet_interactive": {
     "language": "spiral"
    },
    "polyglot_notebook": {
     "kernelName": "spiral"
    }
   },
   "outputs": [
    {
     "name": "stdout",
     "output_type": "stream",
     "text": [
      "()\n",
      "\r\n"
     ]
    }
   ],
   "source": [
    "inl from_pair forall a b. (pair : pair a b) : a * b =\n",
    "    $\"let (a, b) = !pair\"\n",
    "    $\"a\", $\"b\""
   ]
  },
  {
   "cell_type": "code",
   "execution_count": null,
   "metadata": {
    "dotnet_interactive": {
     "language": "spiral"
    },
    "polyglot_notebook": {
     "kernelName": "spiral"
    }
   },
   "outputs": [
    {
     "name": "stdout",
     "output_type": "stream",
     "text": [
      "let rec method1 (v0 : bool) : bool =\n",
      "    v0\n",
      "and method0 () : unit =\n",
      "    let v0 : string = \"a\"\n",
      "    let v1 : (string * int32) = v0, 1\n",
      "    let (a, b) = v1\n",
      "    let v2 : string = a\n",
      "    let v3 : int32 = b\n",
      "    let v4 : string = $\"%A{struct (v2, v3)}\"\n",
      "    System.Console.WriteLine v4\n",
      "    let v5 : bool = v2 = \"a\"\n",
      "    let v7 : bool =\n",
      "        if v5 then\n",
      "            let v6 : bool = v3 = 1\n",
      "            v6\n",
      "        else\n",
      "            false\n",
      "    let v9 : bool =\n",
      "        if v7 then\n",
      "            true\n",
      "        else\n",
      "            method1(v7)\n",
      "    let v10 : string = $\"__expect / actual: %A{struct (v2, v3)} / expected: %A{struct (v0, 1)}\"\n",
      "    let v11 : bool = v9 = false\n",
      "    if v11 then\n",
      "        failwith<unit> v10\n",
      "method0()\n",
      "\r\n",
      "struct (\"a\", 1)\r\n"
     ]
    }
   ],
   "source": [
    "// // test\n",
    "\n",
    "new_pair \"a\" 1i32\n",
    "|> from_pair\n",
    "|> _assert_eq (\"a\", 1i32)"
   ]
  },
  {
   "cell_type": "code",
   "execution_count": null,
   "metadata": {
    "dotnet_interactive": {
     "language": "spiral"
    },
    "polyglot_notebook": {
     "kernelName": "spiral"
    }
   },
   "outputs": [
    {
     "data": {
      "text/html": [
       "<details open=\"open\" class=\"dni-treeview\"><summary><span class=\"dni-code-hint\"><code>(a, (1, b))</code></span></summary><div><table><thead><tr></tr></thead><tbody><tr><td>Item1</td><td><div class=\"dni-plaintext\"><pre>a</pre></div></td></tr><tr><td>Item2</td><td><details class=\"dni-treeview\"><summary><span class=\"dni-code-hint\"><code>(1, b)</code></span></summary><div><table><thead><tr></tr></thead><tbody><tr><td>Item1</td><td><div class=\"dni-plaintext\"><pre>1</pre></div></td></tr><tr><td>Item2</td><td><div class=\"dni-plaintext\"><pre>b</pre></div></td></tr></tbody></table></div></details></td></tr></tbody></table></div></details><style>\r\n",
       ".dni-code-hint {\r\n",
       "    font-style: italic;\r\n",
       "    overflow: hidden;\r\n",
       "    white-space: nowrap;\r\n",
       "}\r\n",
       ".dni-treeview {\r\n",
       "    white-space: nowrap;\r\n",
       "}\r\n",
       ".dni-treeview td {\r\n",
       "    vertical-align: top;\r\n",
       "    text-align: start;\r\n",
       "}\r\n",
       "details.dni-treeview {\r\n",
       "    padding-left: 1em;\r\n",
       "}\r\n",
       "table td {\r\n",
       "    text-align: start;\r\n",
       "}\r\n",
       "table tr { \r\n",
       "    vertical-align: top; \r\n",
       "    margin: 0em 0px;\r\n",
       "}\r\n",
       "table tr td pre \r\n",
       "{ \r\n",
       "    vertical-align: top !important; \r\n",
       "    margin: 0em 0px !important;\r\n",
       "} \r\n",
       "table th {\r\n",
       "    text-align: start;\r\n",
       "}\r\n",
       "</style>"
      ]
     },
     "metadata": {},
     "output_type": "display_data"
    },
    {
     "name": "stdout",
     "output_type": "stream",
     "text": [
      "let rec method0 () : struct (string * (int32 * string)) =\n",
      "    let v0 : string = \"b\"\n",
      "    let v1 : (int32 * string) = 1, v0\n",
      "    let v2 : string = \"a\"\n",
      "    let v3 : (string * (int32 * string)) = v2, v1\n",
      "    let (a, b) = v3\n",
      "    let v4 : string = a\n",
      "    let v5 : (int32 * string) = b\n",
      "    struct (v4, v5)\n",
      "method0()\n",
      "\r\n"
     ]
    }
   ],
   "source": [
    "// // test\n",
    "\n",
    "new_pair \"a\" (new_pair 1i32 \"b\")\n",
    "|> from_pair"
   ]
  },
  {
   "cell_type": "markdown",
   "metadata": {},
   "source": [
    "## memoize"
   ]
  },
  {
   "cell_type": "code",
   "execution_count": null,
   "metadata": {
    "dotnet_interactive": {
     "language": "spiral"
    },
    "polyglot_notebook": {
     "kernelName": "spiral"
    }
   },
   "outputs": [
    {
     "name": "stdout",
     "output_type": "stream",
     "text": [
      "()\n",
      "\r\n"
     ]
    }
   ],
   "source": [
    "nominal lazy t = $'Lazy<`t>'\n",
    "\n",
    "inl memoize forall t. (fn : () -> t) : () -> t =\n",
    "    inl fn = join fn\n",
    "    inl result : lazy t = $'lazy !fn ()'\n",
    "    fun () => $'!result.Value'"
   ]
  },
  {
   "cell_type": "code",
   "execution_count": null,
   "metadata": {
    "dotnet_interactive": {
     "language": "spiral"
    },
    "polyglot_notebook": {
     "kernelName": "spiral"
    }
   },
   "outputs": [
    {
     "name": "stdout",
     "output_type": "stream",
     "text": [
      "type Mut0 = {mutable l0 : int32}\n",
      "let rec closure0 (v0 : Mut0) () : unit =\n",
      "    let v1 : int32 = v0.l0\n",
      "    let v2 : int32 = v1 + 1\n",
      "    v0.l0 <- v2\n",
      "    ()\n",
      "and method1 (v0 : Mut0) : (unit -> unit) =\n",
      "    closure0(v0)\n",
      "and method2 (v0 : bool) : bool =\n",
      "    v0\n",
      "and method0 () : unit =\n",
      "    let v0 : Mut0 = {l0 = 0} : Mut0\n",
      "    let v1 : (unit -> unit) = method1(v0)\n",
      "    let v2 : Lazy<unit> = lazy v1 ()\n",
      "    v2.Value\n",
      "    v2.Value\n",
      "    v2.Value\n",
      "    let v3 : int32 = v0.l0\n",
      "    let v4 : string = $\"%A{v3}\"\n",
      "    System.Console.WriteLine v4\n",
      "    let v5 : bool = v3 = 1\n",
      "    let v7 : bool =\n",
      "        if v5 then\n",
      "            true\n",
      "        else\n",
      "            method2(v5)\n",
      "    let v8 : string = $\"__expect / actual: %A{v3} / expected: %A{1}\"\n",
      "    let v9 : bool = v7 = false\n",
      "    if v9 then\n",
      "        failwith<unit> v8\n",
      "method0()\n",
      "\r\n",
      "1\r\n"
     ]
    }
   ],
   "source": [
    "// // test\n",
    "\n",
    "inl count = mut 0i32\n",
    "inl add =\n",
    "    fun () => count <- *count + 1\n",
    "    |> memoize\n",
    "\n",
    "add ()\n",
    "add ()\n",
    "add ()\n",
    "\n",
    "*count\n",
    "|> _assert_eq 1"
   ]
  },
  {
   "cell_type": "markdown",
   "metadata": {},
   "source": [
    "## to_any"
   ]
  },
  {
   "cell_type": "code",
   "execution_count": null,
   "metadata": {
    "dotnet_interactive": {
     "language": "spiral"
    },
    "polyglot_notebook": {
     "kernelName": "spiral"
    }
   },
   "outputs": [
    {
     "name": "stdout",
     "output_type": "stream",
     "text": [
      "()\n",
      "\r\n"
     ]
    }
   ],
   "source": [
    "inl to_any forall t. (obj : t) : any =\n",
    "    $\"!obj\"\n",
    "\n",
    "instance (~:>) any = to_any"
   ]
  },
  {
   "cell_type": "markdown",
   "metadata": {},
   "source": [
    "## (+.)"
   ]
  },
  {
   "cell_type": "code",
   "execution_count": null,
   "metadata": {
    "dotnet_interactive": {
     "language": "spiral"
    },
    "polyglot_notebook": {
     "kernelName": "spiral"
    }
   },
   "outputs": [
    {
     "name": "stdout",
     "output_type": "stream",
     "text": [
      "()\n",
      "\r\n"
     ]
    }
   ],
   "source": [
    "inl (+.) forall t. (a : t) (b : t) : t =\n",
    "    $\"!a + !b\""
   ]
  },
  {
   "cell_type": "markdown",
   "metadata": {},
   "source": [
    "## (-.)"
   ]
  },
  {
   "cell_type": "code",
   "execution_count": null,
   "metadata": {
    "dotnet_interactive": {
     "language": "spiral"
    },
    "polyglot_notebook": {
     "kernelName": "spiral"
    }
   },
   "outputs": [
    {
     "name": "stdout",
     "output_type": "stream",
     "text": [
      "()\n",
      "\r\n"
     ]
    }
   ],
   "source": [
    "inl (-.) forall t. (a : t) (b : t) : t =\n",
    "    $\"!a - !b\""
   ]
  },
  {
   "cell_type": "markdown",
   "metadata": {},
   "source": [
    "## (*.)"
   ]
  },
  {
   "cell_type": "code",
   "execution_count": null,
   "metadata": {
    "dotnet_interactive": {
     "language": "spiral"
    },
    "polyglot_notebook": {
     "kernelName": "spiral"
    }
   },
   "outputs": [
    {
     "name": "stdout",
     "output_type": "stream",
     "text": [
      "()\n",
      "\r\n"
     ]
    }
   ],
   "source": [
    "inl (*.) forall t. (a : t) (b : t) : t =\n",
    "    $\"!a * !b\""
   ]
  },
  {
   "cell_type": "markdown",
   "metadata": {},
   "source": [
    "## (/.)"
   ]
  },
  {
   "cell_type": "code",
   "execution_count": null,
   "metadata": {
    "dotnet_interactive": {
     "language": "spiral"
    },
    "polyglot_notebook": {
     "kernelName": "spiral"
    }
   },
   "outputs": [
    {
     "name": "stdout",
     "output_type": "stream",
     "text": [
      "()\n",
      "\r\n"
     ]
    }
   ],
   "source": [
    "inl (/.) forall t. (a : t) (b : t) : t =\n",
    "    $\"!a / !b\""
   ]
  },
  {
   "cell_type": "markdown",
   "metadata": {},
   "source": [
    "## (=.)"
   ]
  },
  {
   "cell_type": "code",
   "execution_count": null,
   "metadata": {
    "dotnet_interactive": {
     "language": "spiral"
    },
    "polyglot_notebook": {
     "kernelName": "spiral"
    }
   },
   "outputs": [
    {
     "name": "stdout",
     "output_type": "stream",
     "text": [
      "()\n",
      "\r\n"
     ]
    }
   ],
   "source": [
    "inl (=.) forall t. (a : t) (b : t) : bool =\n",
    "    $\"!a = !b\""
   ]
  },
  {
   "cell_type": "markdown",
   "metadata": {},
   "source": [
    "## (||>)"
   ]
  },
  {
   "cell_type": "code",
   "execution_count": null,
   "metadata": {
    "dotnet_interactive": {
     "language": "spiral"
    },
    "polyglot_notebook": {
     "kernelName": "spiral"
    }
   },
   "outputs": [
    {
     "name": "stdout",
     "output_type": "stream",
     "text": [
      "()\n",
      "\r\n"
     ]
    }
   ],
   "source": [
    "inl (||>) (arg1, arg2) fn =\n",
    "    arg2 |> fn arg1"
   ]
  },
  {
   "cell_type": "code",
   "execution_count": null,
   "metadata": {
    "dotnet_interactive": {
     "language": "spiral"
    },
    "polyglot_notebook": {
     "kernelName": "spiral"
    }
   },
   "outputs": [
    {
     "name": "stdout",
     "output_type": "stream",
     "text": [
      "let rec method0 () : unit =\n",
      "    let v0 : string = $\"%A{1}\"\n",
      "    System.Console.WriteLine v0\n",
      "    let v1 : string = $\"__expect / actual: %A{1} / expected: %A{1}\"\n",
      "    ()\n",
      "method0()\n",
      "\r\n",
      "1\r\n"
     ]
    }
   ],
   "source": [
    "// // test\n",
    "\n",
    "(3i32, 2i32)\n",
    "||> fun a b => a - b\n",
    "|> _assert_eq 1"
   ]
  },
  {
   "cell_type": "markdown",
   "metadata": {},
   "source": [
    "## flip"
   ]
  },
  {
   "cell_type": "code",
   "execution_count": null,
   "metadata": {
    "dotnet_interactive": {
     "language": "spiral"
    },
    "polyglot_notebook": {
     "kernelName": "spiral"
    }
   },
   "outputs": [
    {
     "name": "stdout",
     "output_type": "stream",
     "text": [
      "()\n",
      "\r\n"
     ]
    }
   ],
   "source": [
    "inl flip fn a b =\n",
    "    fn b a"
   ]
  },
  {
   "cell_type": "code",
   "execution_count": null,
   "metadata": {
    "dotnet_interactive": {
     "language": "spiral"
    },
    "polyglot_notebook": {
     "kernelName": "spiral"
    }
   },
   "outputs": [
    {
     "name": "stdout",
     "output_type": "stream",
     "text": [
      "let rec method0 () : unit =\n",
      "    let v0 : string = $\"%A{struct (2, 1)}\"\n",
      "    System.Console.WriteLine v0\n",
      "    let v1 : string = $\"__expect / actual: %A{struct (2, 1)} / expected: %A{struct (2, 1)}\"\n",
      "    ()\n",
      "method0()\n",
      "\r\n",
      "struct (2, 1)\r\n"
     ]
    }
   ],
   "source": [
    "// // test\n",
    "\n",
    "(1i32, 2i32)\n",
    "||> flip pair\n",
    "|> _assert_eq (2, 1)"
   ]
  },
  {
   "cell_type": "markdown",
   "metadata": {},
   "source": [
    "## join_body"
   ]
  },
  {
   "cell_type": "code",
   "execution_count": null,
   "metadata": {
    "dotnet_interactive": {
     "language": "spiral"
    },
    "polyglot_notebook": {
     "kernelName": "spiral"
    }
   },
   "outputs": [
    {
     "name": "stdout",
     "output_type": "stream",
     "text": [
      "()\n",
      "\r\n"
     ]
    }
   ],
   "source": [
    "inl join_body body acc x =\n",
    "    if var_is x |> not\n",
    "    then body acc x\n",
    "    else\n",
    "        inl acc = dyn acc\n",
    "        join body acc x"
   ]
  },
  {
   "cell_type": "code",
   "execution_count": null,
   "metadata": {
    "dotnet_interactive": {
     "language": "spiral"
    },
    "polyglot_notebook": {
     "kernelName": "spiral"
    }
   },
   "outputs": [
    {
     "name": "stdout",
     "output_type": "stream",
     "text": [
      "()\n",
      "\r\n"
     ]
    }
   ],
   "source": [
    "// // test\n",
    "\n",
    "inl rec fold_list f s = function\n",
    "    | Cons (x, x') => fold_list f (f s x) x'\n",
    "    | Nil => s"
   ]
  },
  {
   "cell_type": "code",
   "execution_count": null,
   "metadata": {
    "dotnet_interactive": {
     "language": "spiral"
    },
    "polyglot_notebook": {
     "kernelName": "spiral"
    }
   },
   "outputs": [
    {
     "name": "stdout",
     "output_type": "stream",
     "text": [
      "let rec method1 () : int32 =\n",
      "    3\n",
      "and method2 (v0 : bool) : bool =\n",
      "    v0\n",
      "and method0 () : unit =\n",
      "    let v0 : int32 = method1()\n",
      "    let v1 : int32 = 9 + v0\n",
      "    let v2 : int32 = v1 + 2\n",
      "    let v3 : int32 = v2 + 1\n",
      "    let v4 : string = $\"%A{v3}\"\n",
      "    System.Console.WriteLine v4\n",
      "    let v5 : bool = v3 = 15\n",
      "    let v7 : bool =\n",
      "        if v5 then\n",
      "            true\n",
      "        else\n",
      "            method2(v5)\n",
      "    let v8 : string = $\"__expect / actual: %A{v3} / expected: %A{15}\"\n",
      "    let v9 : bool = v7 = false\n",
      "    if v9 then\n",
      "        failwith<unit> v8\n",
      "method0()\n",
      "\r\n",
      "15\r\n"
     ]
    }
   ],
   "source": [
    "// // test\n",
    "\n",
    "[ 5i32; 4; join 3; 2; 1 ]\n",
    "|> fold_list (+) 0\n",
    "|> _assert_eq 15"
   ]
  },
  {
   "cell_type": "code",
   "execution_count": null,
   "metadata": {
    "dotnet_interactive": {
     "language": "spiral"
    },
    "polyglot_notebook": {
     "kernelName": "spiral"
    }
   },
   "outputs": [
    {
     "name": "stdout",
     "output_type": "stream",
     "text": [
      "let rec method1 () : int32 =\n",
      "    3\n",
      "and method2 (v0 : int32, v1 : int32) : int32 =\n",
      "    let v2 : int32 = v1 + v0\n",
      "    v2\n",
      "and method3 (v0 : bool) : bool =\n",
      "    v0\n",
      "and method0 () : unit =\n",
      "    let v0 : int32 = method1()\n",
      "    let v1 : int32 = 9\n",
      "    let v2 : int32 = method2(v0, v1)\n",
      "    let v3 : int32 = v2 + 2\n",
      "    let v4 : int32 = v3 + 1\n",
      "    let v5 : string = $\"%A{v4}\"\n",
      "    System.Console.WriteLine v5\n",
      "    let v6 : bool = v4 = 15\n",
      "    let v8 : bool =\n",
      "        if v6 then\n",
      "            true\n",
      "        else\n",
      "            method3(v6)\n",
      "    let v9 : string = $\"__expect / actual: %A{v4} / expected: %A{15}\"\n",
      "    let v10 : bool = v8 = false\n",
      "    if v10 then\n",
      "        failwith<unit> v9\n",
      "method0()\n",
      "\r\n",
      "15\r\n"
     ]
    }
   ],
   "source": [
    "// // test\n",
    "\n",
    "[ 5i32; 4; join 3; 2; 1 ]\n",
    "|> fold_list (join_body (+)) 0\n",
    "|> _assert_eq 15"
   ]
  },
  {
   "cell_type": "markdown",
   "metadata": {},
   "source": [
    "## join_body_unit"
   ]
  },
  {
   "cell_type": "code",
   "execution_count": null,
   "metadata": {
    "dotnet_interactive": {
     "language": "spiral"
    },
    "polyglot_notebook": {
     "kernelName": "spiral"
    }
   },
   "outputs": [
    {
     "name": "stdout",
     "output_type": "stream",
     "text": [
      "()\n",
      "\r\n"
     ]
    }
   ],
   "source": [
    "inl join_body_unit body d x =\n",
    "    if var_is d |> not\n",
    "    then body x\n",
    "    else\n",
    "        inl x = dyn x\n",
    "        join body x"
   ]
  },
  {
   "cell_type": "code",
   "execution_count": null,
   "metadata": {
    "dotnet_interactive": {
     "language": "spiral"
    },
    "polyglot_notebook": {
     "kernelName": "spiral"
    }
   },
   "outputs": [
    {
     "name": "stdout",
     "output_type": "stream",
     "text": [
      "let rec method1 () : int32 =\n",
      "    3\n",
      "and method2 (v0 : int32) : int32 =\n",
      "    let v1 : int32 = 9 + v0\n",
      "    v1\n",
      "and method3 (v0 : bool) : bool =\n",
      "    v0\n",
      "and method0 () : unit =\n",
      "    let v0 : int32 = method1()\n",
      "    let v1 : int32 = method2(v0)\n",
      "    let v2 : int32 = v1 + 2\n",
      "    let v3 : int32 = v2 + 1\n",
      "    let v4 : string = $\"%A{v3}\"\n",
      "    System.Console.WriteLine v4\n",
      "    let v5 : bool = v3 = 15\n",
      "    let v7 : bool =\n",
      "        if v5 then\n",
      "            true\n",
      "        else\n",
      "            method3(v5)\n",
      "    let v8 : string = $\"__expect / actual: %A{v3} / expected: %A{15}\"\n",
      "    let v9 : bool = v7 = false\n",
      "    if v9 then\n",
      "        failwith<unit> v8\n",
      "method0()\n",
      "\r\n",
      "15\r\n"
     ]
    }
   ],
   "source": [
    "// // test\n",
    "\n",
    "[ 5i32; 4; join 3; 2; 1 ]\n",
    "|> fold_list (fun acc n => join_body_unit ((+) acc) n n) 0\n",
    "|> _assert_eq 15"
   ]
  },
  {
   "cell_type": "markdown",
   "metadata": {},
   "source": [
    "## nameof"
   ]
  },
  {
   "cell_type": "code",
   "execution_count": null,
   "metadata": {
    "dotnet_interactive": {
     "language": "spiral"
    },
    "polyglot_notebook": {
     "kernelName": "spiral"
    }
   },
   "outputs": [
    {
     "name": "stdout",
     "output_type": "stream",
     "text": [
      "()\n",
      "\r\n"
     ]
    }
   ],
   "source": [
    "inl nameof x : string =\n",
    "    $\"nameof !x\""
   ]
  },
  {
   "cell_type": "markdown",
   "metadata": {},
   "source": [
    "## get_environment_variable"
   ]
  },
  {
   "cell_type": "code",
   "execution_count": null,
   "metadata": {
    "dotnet_interactive": {
     "language": "spiral"
    },
    "polyglot_notebook": {
     "kernelName": "spiral"
    }
   },
   "outputs": [
    {
     "name": "stdout",
     "output_type": "stream",
     "text": [
      "()\n",
      "\r\n"
     ]
    }
   ],
   "source": [
    "inl get_environment_variable (var : string) : string =\n",
    "    $\"System.Environment.GetEnvironmentVariable !var\""
   ]
  },
  {
   "cell_type": "code",
   "execution_count": null,
   "metadata": {
    "dotnet_interactive": {
     "language": "spiral"
    },
    "polyglot_notebook": {
     "kernelName": "spiral"
    }
   },
   "outputs": [
    {
     "name": "stdout",
     "output_type": "stream",
     "text": [
      "type [<Struct>] US0 =\n",
      "    | US0_0 of f0_0 : exn\n",
      "    | US0_1\n",
      "and [<Struct>] US1 =\n",
      "    | US1_0 of f0_0 : string\n",
      "    | US1_1\n",
      "let rec closure0 () () : unit =\n",
      "    failwith<unit> \"test\"\n",
      "and closure1 () (v0 : exn) : US0 =\n",
      "    US0_0(v0)\n",
      "and method1 (v0 : bool) : bool =\n",
      "    v0\n",
      "and method0 () : unit =\n",
      "    let v0 : (unit -> unit) = closure0()\n",
      "    let v1 : US0 = US0_1\n",
      "    let v2 : (exn -> US0) = closure1()\n",
      "    let v3 : US0 = try v0 (); v1 with ex -> ex |> v2\n",
      "    let v17 : US1 =\n",
      "        match v3 with\n",
      "        | US0_1 -> (* None *)\n",
      "            US1_1\n",
      "        | US0_0(v4) -> (* Some *)\n",
      "            let v5 : string option = None\n",
      "            let v6 : bool = true in let mutable _v5 = v5\n",
      "            #if FABLE_COMPILER_RUST && !WASM && !CONTRACT\n",
      "            let v7 : string = $\"%A{v4}\"\n",
      "            v7\n",
      "#endif\n",
      "            #if FABLE_COMPILER_RUST && WASM\n",
      "            let v8 : string = $\"%A{v4}\"\n",
      "            v8\n",
      "#endif\n",
      "            #if FABLE_COMPILER_RUST && CONTRACT\n",
      "            let v9 : string = $\"%A{v4}\"\n",
      "            v9\n",
      "#endif\n",
      "            #if !FABLE_COMPILER && !FABLE_COMPILER_RUST && !FABLE_COMPILER_TYPESCRIPT && !WASM && !CONTRACT\n",
      "            let v10 : string = $\"{v4.GetType ()}: {v4.Message}\"\n",
      "            v10\n",
      "#endif\n",
      "            #if FABLE_COMPILER_TYPESCRIPT\n",
      "            let v11 : string = $\"%A{v4}\"\n",
      "            v11\n",
      "#endif\n",
      "            #if FABLE_COMPILER_PYTHON || FABLE_COMPILER_PHP || FABLE_COMPILER_DART\n",
      "            let v12 : string = Unchecked.defaultof<string>\n",
      "            v12\n",
      "#endif\n",
      "            |> fun x -> _v5 <- Some x\n",
      "            let v13 : string = _v5.Value\n",
      "            US1_0(v13)\n",
      "    let v18 : string = $\"%A{v17}\"\n",
      "    System.Console.WriteLine v18\n",
      "    let v23 : bool =\n",
      "        match v17 with\n",
      "        | US1_0(v21) -> (* Some *)\n",
      "            let v22 : bool = v21 = \"System.Exception: test\"\n",
      "            v22\n",
      "        | _ ->\n",
      "            false\n",
      "    let v25 : bool =\n",
      "        if v23 then\n",
      "            true\n",
      "        else\n",
      "            method1(v23)\n",
      "    let v26 : string = \"System.Exception: test\"\n",
      "    let v27 : US1 = US1_0(v26)\n",
      "    let v28 : string = $\"__expect / actual: %A{v17} / expected: %A{v27}\"\n",
      "    let v29 : bool = v25 = false\n",
      "    if v29 then\n",
      "        failwith<unit> v28\n",
      "method0()\n",
      "\r\n",
      "US1_0 \"System.Exception: test\"\r\n"
     ]
    }
   ],
   "source": [
    "// // test\n",
    "\n",
    "fun () => failwith \"test\"\n",
    "|> _throws\n",
    "|> optionm.map sm'.format_exception\n",
    "|> _assert_eq (Some \"System.Exception: test\")"
   ]
  },
  {
   "cell_type": "markdown",
   "metadata": {},
   "source": [
    "## disposable"
   ]
  },
  {
   "cell_type": "code",
   "execution_count": null,
   "metadata": {
    "dotnet_interactive": {
     "language": "spiral"
    },
    "polyglot_notebook": {
     "kernelName": "spiral"
    }
   },
   "outputs": [
    {
     "name": "stdout",
     "output_type": "stream",
     "text": [
      "()\n",
      "\r\n"
     ]
    }
   ],
   "source": [
    "nominal disposable t = $\"System.IDisposable\""
   ]
  },
  {
   "cell_type": "markdown",
   "metadata": {},
   "source": [
    "## dispose"
   ]
  },
  {
   "cell_type": "code",
   "execution_count": null,
   "metadata": {
    "dotnet_interactive": {
     "language": "spiral"
    },
    "polyglot_notebook": {
     "kernelName": "spiral"
    }
   },
   "outputs": [
    {
     "name": "stdout",
     "output_type": "stream",
     "text": [
      "()\n",
      "\r\n"
     ]
    }
   ],
   "source": [
    "inl dispose (disposable : disposable _) : () =\n",
    "    disposable |> $'_.Dispose()'"
   ]
  },
  {
   "cell_type": "markdown",
   "metadata": {},
   "source": [
    "## new_disposable"
   ]
  },
  {
   "cell_type": "code",
   "execution_count": null,
   "metadata": {
    "dotnet_interactive": {
     "language": "spiral"
    },
    "polyglot_notebook": {
     "kernelName": "spiral"
    }
   },
   "outputs": [
    {
     "name": "stdout",
     "output_type": "stream",
     "text": [
      "()\n",
      "\r\n"
     ]
    }
   ],
   "source": [
    "inl new_disposable (fn : () -> ()) : disposable _ =\n",
    "    run_target function\n",
    "        | Fsharp _ => fun () => $'{ new System.IDisposable with member _.Dispose () = !fn () }'\n",
    "        // | Rust _ =>\n",
    "        //     fun () =>\n",
    "                // $'{ new System.IDisposable with member _.Dispose () = Fable.Core.RustInterop.emitRustExpr () \"!fn()\" }'\n",
    "        | _ => fun () => null ()"
   ]
  },
  {
   "cell_type": "code",
   "execution_count": null,
   "metadata": {
    "dotnet_interactive": {
     "language": "spiral"
    },
    "polyglot_notebook": {
     "kernelName": "spiral"
    }
   },
   "outputs": [
    {
     "name": "stdout",
     "output_type": "stream",
     "text": [
      "type Mut0 = {mutable l0 : int32}\n",
      "let rec closure0 (v0 : Mut0) () : unit =\n",
      "    let v1 : int32 = v0.l0\n",
      "    let v2 : int32 = v1 + 1\n",
      "    v0.l0 <- v2\n",
      "    ()\n",
      "and method1 (v0 : bool) : bool =\n",
      "    v0\n",
      "and method0 () : unit =\n",
      "    let v0 : Mut0 = {l0 = 0} : Mut0\n",
      "    let v1 : System.IDisposable option = None\n",
      "    let v2 : bool = true in let mutable _v1 = v1\n",
      "    #if FABLE_COMPILER_RUST && !WASM && !CONTRACT\n",
      "    let v3 : System.IDisposable = null |> unbox<System.IDisposable>\n",
      "    v3\n",
      "#endif\n",
      "    #if FABLE_COMPILER_RUST && WASM\n",
      "    let v4 : System.IDisposable = null |> unbox<System.IDisposable>\n",
      "    v4\n",
      "#endif\n",
      "    #if FABLE_COMPILER_RUST && CONTRACT\n",
      "    let v5 : System.IDisposable = null |> unbox<System.IDisposable>\n",
      "    v5\n",
      "#endif\n",
      "    #if !FABLE_COMPILER && !FABLE_COMPILER_RUST && !FABLE_COMPILER_TYPESCRIPT && !WASM && !CONTRACT\n",
      "    let v6 : (unit -> unit) = closure0(v0)\n",
      "    let v7 : System.IDisposable = { new System.IDisposable with member _.Dispose () = v6 () }\n",
      "    v7\n",
      "#endif\n",
      "    #if FABLE_COMPILER_TYPESCRIPT\n",
      "    let v8 : System.IDisposable = null |> unbox<System.IDisposable>\n",
      "    v8\n",
      "#endif\n",
      "    #if FABLE_COMPILER_PYTHON || FABLE_COMPILER_PHP || FABLE_COMPILER_DART\n",
      "    let v9 : System.IDisposable = Unchecked.defaultof<System.IDisposable>\n",
      "    v9\n",
      "#endif\n",
      "    |> fun x -> _v1 <- Some x\n",
      "    let v10 : System.IDisposable = _v1.Value\n",
      "    let v11 : (System.IDisposable -> unit) = _.Dispose()\n",
      "    v11 v10\n",
      "    let v12 : int32 = v0.l0\n",
      "    let v13 : string = $\"%A{v12}\"\n",
      "    System.Console.WriteLine v13\n",
      "    let v14 : bool = v12 = 1\n",
      "    let v16 : bool =\n",
      "        if v14 then\n",
      "            true\n",
      "        else\n",
      "            method1(v14)\n",
      "    let v17 : string = $\"__expect / actual: %A{v12} / expected: %A{1}\"\n",
      "    let v18 : bool = v16 = false\n",
      "    if v18 then\n",
      "        failwith<unit> v17\n",
      "method0()\n",
      "\r\n",
      "1\r\n"
     ]
    }
   ],
   "source": [
    "// // test\n",
    "\n",
    "inl new_disposable_test = mut 0i32\n",
    "new_disposable (fun () => new_disposable_test <- *new_disposable_test + 1)\n",
    "|> fun x => x : disposable ()\n",
    "|> dispose\n",
    "*new_disposable_test |> _assert_eq 1"
   ]
  },
  {
   "cell_type": "code",
   "execution_count": null,
   "metadata": {
    "dotnet_interactive": {
     "language": "spiral"
    },
    "polyglot_notebook": {
     "kernelName": "spiral"
    }
   },
   "outputs": [
    {
     "name": "stdout",
     "output_type": "stream",
     "text": [
      "type Mut0 = {mutable l0 : int32}\n",
      "let rec closure0 (v0 : Mut0) () : unit =\n",
      "    let v1 : int32 = v0.l0\n",
      "    let v2 : int32 = v1 + 1\n",
      "    v0.l0 <- v2\n",
      "    ()\n",
      "and method1 (v0 : bool) : bool =\n",
      "    v0\n",
      "and method0 () : unit =\n",
      "    let v0 : Mut0 = {l0 = 0} : Mut0\n",
      "    let v1 : System.Threading.Tasks.Task option = None\n",
      "    let v2 : bool = true in let mutable _v1 = v1\n",
      "    #if FABLE_COMPILER_RUST && !WASM && !CONTRACT\n",
      "    let v3 : System.Threading.Tasks.Task = null |> unbox<System.Threading.Tasks.Task>\n",
      "    v3\n",
      "#endif\n",
      "    #if FABLE_COMPILER_RUST && WASM\n",
      "    let v4 : System.Threading.Tasks.Task = null |> unbox<System.Threading.Tasks.Task>\n",
      "    v4\n",
      "#endif\n",
      "    #if FABLE_COMPILER_RUST && CONTRACT\n",
      "    let v5 : System.Threading.Tasks.Task = null |> unbox<System.Threading.Tasks.Task>\n",
      "    v5\n",
      "#endif\n",
      "    #if !FABLE_COMPILER && !FABLE_COMPILER_RUST && !FABLE_COMPILER_TYPESCRIPT && !WASM && !CONTRACT\n",
      "    let v6 : System.Threading.Tasks.Task option = None\n",
      "    let mutable _v6 = v6\n",
      "    task {\n",
      "    let v7 : System.IDisposable option = None\n",
      "    let v8 : bool = true in let mutable _v7 = v7\n",
      "    #if FABLE_COMPILER_RUST && !WASM && !CONTRACT\n",
      "    let v9 : System.IDisposable = null |> unbox<System.IDisposable>\n",
      "    v9\n",
      "#endif\n",
      "    #if FABLE_COMPILER_RUST && WASM\n",
      "    let v10 : System.IDisposable = null |> unbox<System.IDisposable>\n",
      "    v10\n",
      "#endif\n",
      "    #if FABLE_COMPILER_RUST && CONTRACT\n",
      "    let v11 : System.IDisposable = null |> unbox<System.IDisposable>\n",
      "    v11\n",
      "#endif\n",
      "    #if !FABLE_COMPILER && !FABLE_COMPILER_RUST && !FABLE_COMPILER_TYPESCRIPT && !WASM && !CONTRACT\n",
      "    let v12 : (unit -> unit) = closure0(v0)\n",
      "    let v13 : System.IDisposable = { new System.IDisposable with member _.Dispose () = v12 () }\n",
      "    v13\n",
      "#endif\n",
      "    #if FABLE_COMPILER_TYPESCRIPT\n",
      "    let v14 : System.IDisposable = null |> unbox<System.IDisposable>\n",
      "    v14\n",
      "#endif\n",
      "    #if FABLE_COMPILER_PYTHON || FABLE_COMPILER_PHP || FABLE_COMPILER_DART\n",
      "    let v15 : System.IDisposable = Unchecked.defaultof<System.IDisposable>\n",
      "    v15\n",
      "#endif\n",
      "    |> fun x -> _v7 <- Some x\n",
      "    let v16 : System.IDisposable = _v7.Value\n",
      "    use v16 = v16 \n",
      "    let v17 : System.IDisposable = v16 \n",
      "    return () \n",
      "    }\n",
      "    |> fun x -> _v6 <- Some x\n",
      "    let v18 : System.Threading.Tasks.Task = _v6 |> Option.get\n",
      "    v18\n",
      "#endif\n",
      "    #if FABLE_COMPILER_TYPESCRIPT\n",
      "    let v19 : System.Threading.Tasks.Task = null |> unbox<System.Threading.Tasks.Task>\n",
      "    v19\n",
      "#endif\n",
      "    #if FABLE_COMPILER_PYTHON || FABLE_COMPILER_PHP || FABLE_COMPILER_DART\n",
      "    let v20 : System.Threading.Tasks.Task = Unchecked.defaultof<System.Threading.Tasks.Task>\n",
      "    v20\n",
      "#endif\n",
      "    |> fun x -> _v1 <- Some x\n",
      "    let v21 : System.Threading.Tasks.Task = _v1.Value\n",
      "    let v22 : Async<unit> option = None\n",
      "    let v23 : bool = true in let mutable _v22 = v22\n",
      "    #if FABLE_COMPILER_RUST && !WASM && !CONTRACT\n",
      "    let v24 : Async<unit> = null |> unbox<Async<unit>>\n",
      "    v24\n",
      "#endif\n",
      "    #if FABLE_COMPILER_RUST && WASM\n",
      "    let v25 : Async<unit> = null |> unbox<Async<unit>>\n",
      "    v25\n",
      "#endif\n",
      "    #if FABLE_COMPILER_RUST && CONTRACT\n",
      "    let v26 : Async<unit> = null |> unbox<Async<unit>>\n",
      "    v26\n",
      "#endif\n",
      "    #if !FABLE_COMPILER && !FABLE_COMPILER_RUST && !FABLE_COMPILER_TYPESCRIPT && !WASM && !CONTRACT\n",
      "    let v27 : (System.Threading.Tasks.Task -> Async<unit>) = Async.AwaitTask\n",
      "    let v28 : Async<unit> = v27 v21\n",
      "    v28\n",
      "#endif\n",
      "    #if FABLE_COMPILER_TYPESCRIPT\n",
      "    let v29 : Async<unit> = null |> unbox<Async<unit>>\n",
      "    v29\n",
      "#endif\n",
      "    #if FABLE_COMPILER_PYTHON || FABLE_COMPILER_PHP || FABLE_COMPILER_DART\n",
      "    let v30 : Async<unit> = Unchecked.defaultof<Async<unit>>\n",
      "    v30\n",
      "#endif\n",
      "    |> fun x -> _v22 <- Some x\n",
      "    let v31 : Async<unit> = _v22.Value\n",
      "    let v32 : unit option = None\n",
      "    let v33 : bool = true in let mutable _v32 = v32\n",
      "    #if FABLE_COMPILER_RUST && !WASM && !CONTRACT\n",
      "    null |> unbox<unit>\n",
      "    ()\n",
      "#endif\n",
      "    #if FABLE_COMPILER_RUST && WASM\n",
      "    null |> unbox<unit>\n",
      "    ()\n",
      "#endif\n",
      "    #if FABLE_COMPILER_RUST && CONTRACT\n",
      "    null |> unbox<unit>\n",
      "    ()\n",
      "#endif\n",
      "    #if !FABLE_COMPILER && !FABLE_COMPILER_RUST && !FABLE_COMPILER_TYPESCRIPT && !WASM && !CONTRACT\n",
      "    let v34 : (Async<unit> -> unit) = Async.RunSynchronously\n",
      "    v34 v31\n",
      "    ()\n",
      "#endif\n",
      "    #if FABLE_COMPILER_TYPESCRIPT\n",
      "    null |> unbox<unit>\n",
      "    ()\n",
      "#endif\n",
      "    #if FABLE_COMPILER_PYTHON || FABLE_COMPILER_PHP || FABLE_COMPILER_DART\n",
      "    Unchecked.defaultof<unit>\n",
      "    ()\n",
      "#endif\n",
      "    |> fun x -> _v32 <- Some x\n",
      "    _v32.Value\n",
      "    let v35 : int32 = v0.l0\n",
      "    let v36 : string = $\"%A{v35}\"\n",
      "    System.Console.WriteLine v36\n",
      "    let v37 : bool = v35 = 1\n",
      "    let v39 : bool =\n",
      "        if v37 then\n",
      "            true\n",
      "        else\n",
      "            method1(v37)\n",
      "    let v40 : string = $\"__expect / actual: %A{v35} / expected: %A{1}\"\n",
      "    let v41 : bool = v39 = false\n",
      "    if v41 then\n",
      "        failwith<unit> v40\n",
      "method0()\n",
      "\r\n",
      "1\r\n"
     ]
    }
   ],
   "source": [
    "// // test\n",
    "\n",
    "inl new_disposable_test = mut 0i32\n",
    "fun () =>\n",
    "    new_disposable fun () => new_disposable_test <- *new_disposable_test + 1\n",
    "    |> fun x => x : disposable ()\n",
    "    |> use\n",
    "    |> ignore\n",
    "    |> return\n",
    "|> async.new_task\n",
    "|> async.await_task\n",
    "|> async.run_synchronously\n",
    "*new_disposable_test |> _assert_eq 1"
   ]
  },
  {
   "cell_type": "code",
   "execution_count": null,
   "metadata": {
    "dotnet_interactive": {
     "language": "spiral"
    },
    "polyglot_notebook": {
     "kernelName": "spiral"
    }
   },
   "outputs": [
    {
     "name": "stdout",
     "output_type": "stream",
     "text": [
      "type Mut0 = {mutable l0 : int32}\n",
      "let rec closure0 (v0 : Mut0) () : unit =\n",
      "    let v1 : int32 = v0.l0\n",
      "    let v2 : int32 = v1 + 1\n",
      "    v0.l0 <- v2\n",
      "    ()\n",
      "and method1 (v0 : bool) : bool =\n",
      "    v0\n",
      "and method0 () : unit =\n",
      "    let v0 : Mut0 = {l0 = 0} : Mut0\n",
      "    let v1 : Async<unit> option = None\n",
      "    let v2 : bool = true in let mutable _v1 = v1\n",
      "    #if FABLE_COMPILER_RUST && !WASM && !CONTRACT\n",
      "    let v3 : Async<unit> = null |> unbox<Async<unit>>\n",
      "    v3\n",
      "#endif\n",
      "    #if FABLE_COMPILER_RUST && WASM\n",
      "    let v4 : Async<unit> = null |> unbox<Async<unit>>\n",
      "    v4\n",
      "#endif\n",
      "    #if FABLE_COMPILER_RUST && CONTRACT\n",
      "    let v5 : Async<unit> = null |> unbox<Async<unit>>\n",
      "    v5\n",
      "#endif\n",
      "    #if !FABLE_COMPILER && !FABLE_COMPILER_RUST && !FABLE_COMPILER_TYPESCRIPT && !WASM && !CONTRACT\n",
      "    let v6 : Async<unit> option = None\n",
      "    let mutable _v6 = v6\n",
      "    async {\n",
      "    let v7 : System.IDisposable option = None\n",
      "    let v8 : bool = true in let mutable _v7 = v7\n",
      "    #if FABLE_COMPILER_RUST && !WASM && !CONTRACT\n",
      "    let v9 : System.IDisposable = null |> unbox<System.IDisposable>\n",
      "    v9\n",
      "#endif\n",
      "    #if FABLE_COMPILER_RUST && WASM\n",
      "    let v10 : System.IDisposable = null |> unbox<System.IDisposable>\n",
      "    v10\n",
      "#endif\n",
      "    #if FABLE_COMPILER_RUST && CONTRACT\n",
      "    let v11 : System.IDisposable = null |> unbox<System.IDisposable>\n",
      "    v11\n",
      "#endif\n",
      "    #if !FABLE_COMPILER && !FABLE_COMPILER_RUST && !FABLE_COMPILER_TYPESCRIPT && !WASM && !CONTRACT\n",
      "    let v12 : (unit -> unit) = closure0(v0)\n",
      "    let v13 : System.IDisposable = { new System.IDisposable with member _.Dispose () = v12 () }\n",
      "    v13\n",
      "#endif\n",
      "    #if FABLE_COMPILER_TYPESCRIPT\n",
      "    let v14 : System.IDisposable = null |> unbox<System.IDisposable>\n",
      "    v14\n",
      "#endif\n",
      "    #if FABLE_COMPILER_PYTHON || FABLE_COMPILER_PHP || FABLE_COMPILER_DART\n",
      "    let v15 : System.IDisposable = Unchecked.defaultof<System.IDisposable>\n",
      "    v15\n",
      "#endif\n",
      "    |> fun x -> _v7 <- Some x\n",
      "    let v16 : System.IDisposable = _v7.Value\n",
      "    use v16 = v16 \n",
      "    let v17 : System.IDisposable = v16 \n",
      "    return () \n",
      "    }\n",
      "    |> fun x -> _v6 <- Some x\n",
      "    let v18 : Async<unit> = _v6 |> Option.get\n",
      "    v18\n",
      "#endif\n",
      "    #if FABLE_COMPILER_TYPESCRIPT\n",
      "    let v19 : Async<unit> = null |> unbox<Async<unit>>\n",
      "    v19\n",
      "#endif\n",
      "    #if FABLE_COMPILER_PYTHON || FABLE_COMPILER_PHP || FABLE_COMPILER_DART\n",
      "    let v20 : Async<unit> = Unchecked.defaultof<Async<unit>>\n",
      "    v20\n",
      "#endif\n",
      "    |> fun x -> _v1 <- Some x\n",
      "    let v21 : Async<unit> = _v1.Value\n",
      "    let v22 : unit option = None\n",
      "    let v23 : bool = true in let mutable _v22 = v22\n",
      "    #if FABLE_COMPILER_RUST && !WASM && !CONTRACT\n",
      "    null |> unbox<unit>\n",
      "    ()\n",
      "#endif\n",
      "    #if FABLE_COMPILER_RUST && WASM\n",
      "    null |> unbox<unit>\n",
      "    ()\n",
      "#endif\n",
      "    #if FABLE_COMPILER_RUST && CONTRACT\n",
      "    null |> unbox<unit>\n",
      "    ()\n",
      "#endif\n",
      "    #if !FABLE_COMPILER && !FABLE_COMPILER_RUST && !FABLE_COMPILER_TYPESCRIPT && !WASM && !CONTRACT\n",
      "    let v24 : (Async<unit> -> unit) = Async.RunSynchronously\n",
      "    v24 v21\n",
      "    ()\n",
      "#endif\n",
      "    #if FABLE_COMPILER_TYPESCRIPT\n",
      "    null |> unbox<unit>\n",
      "    ()\n",
      "#endif\n",
      "    #if FABLE_COMPILER_PYTHON || FABLE_COMPILER_PHP || FABLE_COMPILER_DART\n",
      "    Unchecked.defaultof<unit>\n",
      "    ()\n",
      "#endif\n",
      "    |> fun x -> _v22 <- Some x\n",
      "    _v22.Value\n",
      "    let v25 : int32 = v0.l0\n",
      "    let v26 : string = $\"%A{v25}\"\n",
      "    System.Console.WriteLine v26\n",
      "    let v27 : bool = v25 = 1\n",
      "    let v29 : bool =\n",
      "        if v27 then\n",
      "            true\n",
      "        else\n",
      "            method1(v27)\n",
      "    let v30 : string = $\"__expect / actual: %A{v25} / expected: %A{1}\"\n",
      "    let v31 : bool = v29 = false\n",
      "    if v31 then\n",
      "        failwith<unit> v30\n",
      "method0()\n",
      "\r\n",
      "1\r\n"
     ]
    }
   ],
   "source": [
    "// // test\n",
    "\n",
    "inl new_disposable_test = mut 0i32\n",
    "fun () =>\n",
    "    new_disposable fun () => new_disposable_test <- *new_disposable_test + 1\n",
    "    |> fun x => x : disposable ()\n",
    "    |> use\n",
    "    |> ignore\n",
    "    |> return\n",
    "|> async.new_async\n",
    "|> async.run_synchronously\n",
    "*new_disposable_test |> _assert_eq 1"
   ]
  },
  {
   "cell_type": "code",
   "execution_count": null,
   "metadata": {
    "dotnet_interactive": {
     "language": "spiral"
    },
    "polyglot_notebook": {
     "kernelName": "spiral"
    }
   },
   "outputs": [
    {
     "name": "stdout",
     "output_type": "stream",
     "text": [
      "type Mut0 = {mutable l0 : int32}\n",
      "let rec closure0 (v0 : Mut0) () : unit =\n",
      "    let v1 : int32 = v0.l0\n",
      "    let v2 : int32 = v1 + 1\n",
      "    v0.l0 <- v2\n",
      "    ()\n",
      "and method1 (v0 : bool) : bool =\n",
      "    v0\n",
      "and method0 () : unit =\n",
      "    let v0 : Mut0 = {l0 = 0} : Mut0\n",
      "    let v1 : Async<unit> option = None\n",
      "    let v2 : bool = true in let mutable _v1 = v1\n",
      "    #if FABLE_COMPILER_RUST && !WASM && !CONTRACT\n",
      "    let v3 : Async<unit> = null |> unbox<Async<unit>>\n",
      "    v3\n",
      "#endif\n",
      "    #if FABLE_COMPILER_RUST && WASM\n",
      "    let v4 : Async<unit> = null |> unbox<Async<unit>>\n",
      "    v4\n",
      "#endif\n",
      "    #if FABLE_COMPILER_RUST && CONTRACT\n",
      "    let v5 : Async<unit> = null |> unbox<Async<unit>>\n",
      "    v5\n",
      "#endif\n",
      "    #if !FABLE_COMPILER && !FABLE_COMPILER_RUST && !FABLE_COMPILER_TYPESCRIPT && !WASM && !CONTRACT\n",
      "    let v6 : Async<unit> option = None\n",
      "    let mutable _v6 = v6\n",
      "    async {\n",
      "    let v7 : System.IDisposable option = None\n",
      "    let v8 : bool = true in let mutable _v7 = v7\n",
      "    #if FABLE_COMPILER_RUST && !WASM && !CONTRACT\n",
      "    let v9 : System.IDisposable = null |> unbox<System.IDisposable>\n",
      "    v9\n",
      "#endif\n",
      "    #if FABLE_COMPILER_RUST && WASM\n",
      "    let v10 : System.IDisposable = null |> unbox<System.IDisposable>\n",
      "    v10\n",
      "#endif\n",
      "    #if FABLE_COMPILER_RUST && CONTRACT\n",
      "    let v11 : System.IDisposable = null |> unbox<System.IDisposable>\n",
      "    v11\n",
      "#endif\n",
      "    #if !FABLE_COMPILER && !FABLE_COMPILER_RUST && !FABLE_COMPILER_TYPESCRIPT && !WASM && !CONTRACT\n",
      "    let v12 : (unit -> unit) = closure0(v0)\n",
      "    let v13 : System.IDisposable = { new System.IDisposable with member _.Dispose () = v12 () }\n",
      "    v13\n",
      "#endif\n",
      "    #if FABLE_COMPILER_TYPESCRIPT\n",
      "    let v14 : System.IDisposable = null |> unbox<System.IDisposable>\n",
      "    v14\n",
      "#endif\n",
      "    #if FABLE_COMPILER_PYTHON || FABLE_COMPILER_PHP || FABLE_COMPILER_DART\n",
      "    let v15 : System.IDisposable = Unchecked.defaultof<System.IDisposable>\n",
      "    v15\n",
      "#endif\n",
      "    |> fun x -> _v7 <- Some x\n",
      "    let v16 : System.IDisposable = _v7.Value\n",
      "    return () \n",
      "    }\n",
      "    |> fun x -> _v6 <- Some x\n",
      "    let v17 : Async<unit> = _v6 |> Option.get\n",
      "    v17\n",
      "#endif\n",
      "    #if FABLE_COMPILER_TYPESCRIPT\n",
      "    let v18 : Async<unit> = null |> unbox<Async<unit>>\n",
      "    v18\n",
      "#endif\n",
      "    #if FABLE_COMPILER_PYTHON || FABLE_COMPILER_PHP || FABLE_COMPILER_DART\n",
      "    let v19 : Async<unit> = Unchecked.defaultof<Async<unit>>\n",
      "    v19\n",
      "#endif\n",
      "    |> fun x -> _v1 <- Some x\n",
      "    let v20 : Async<unit> = _v1.Value\n",
      "    let v21 : unit option = None\n",
      "    let v22 : bool = true in let mutable _v21 = v21\n",
      "    #if FABLE_COMPILER_RUST && !WASM && !CONTRACT\n",
      "    null |> unbox<unit>\n",
      "    ()\n",
      "#endif\n",
      "    #if FABLE_COMPILER_RUST && WASM\n",
      "    null |> unbox<unit>\n",
      "    ()\n",
      "#endif\n",
      "    #if FABLE_COMPILER_RUST && CONTRACT\n",
      "    null |> unbox<unit>\n",
      "    ()\n",
      "#endif\n",
      "    #if !FABLE_COMPILER && !FABLE_COMPILER_RUST && !FABLE_COMPILER_TYPESCRIPT && !WASM && !CONTRACT\n",
      "    let v23 : (Async<unit> -> unit) = Async.RunSynchronously\n",
      "    v23 v20\n",
      "    ()\n",
      "#endif\n",
      "    #if FABLE_COMPILER_TYPESCRIPT\n",
      "    null |> unbox<unit>\n",
      "    ()\n",
      "#endif\n",
      "    #if FABLE_COMPILER_PYTHON || FABLE_COMPILER_PHP || FABLE_COMPILER_DART\n",
      "    Unchecked.defaultof<unit>\n",
      "    ()\n",
      "#endif\n",
      "    |> fun x -> _v21 <- Some x\n",
      "    _v21.Value\n",
      "    let v24 : int32 = v0.l0\n",
      "    let v25 : string = $\"%A{v24}\"\n",
      "    System.Console.WriteLine v25\n",
      "    let v26 : bool = v24 = 0\n",
      "    let v28 : bool =\n",
      "        if v26 then\n",
      "            true\n",
      "        else\n",
      "            method1(v26)\n",
      "    let v29 : string = $\"__expect / actual: %A{v24} / expected: %A{0}\"\n",
      "    let v30 : bool = v28 = false\n",
      "    if v30 then\n",
      "        failwith<unit> v29\n",
      "method0()\n",
      "\r\n",
      "0\r\n"
     ]
    }
   ],
   "source": [
    "// // test\n",
    "\n",
    "inl new_disposable_test = mut 0i32\n",
    "fun () =>\n",
    "    new_disposable fun () => new_disposable_test <- *new_disposable_test + 1\n",
    "    |> fun x => x : disposable ()\n",
    "    |> ignore\n",
    "    |> return\n",
    "|> async.new_async\n",
    "|> async.run_synchronously\n",
    "*new_disposable_test |> _assert_eq 0"
   ]
  },
  {
   "cell_type": "markdown",
   "metadata": {},
   "source": [
    "## return"
   ]
  },
  {
   "cell_type": "code",
   "execution_count": null,
   "metadata": {
    "dotnet_interactive": {
     "language": "spiral"
    },
    "polyglot_notebook": {
     "kernelName": "spiral"
    }
   },
   "outputs": [
    {
     "name": "stdout",
     "output_type": "stream",
     "text": [
      "()\n",
      "\r\n"
     ]
    }
   ],
   "source": [
    "inl return forall t. (x : t) : () =\n",
    "    $'return !x '\n",
    "\n",
    "inl return' forall t. (x : t) : t =\n",
    "    $'return !x '"
   ]
  },
  {
   "cell_type": "markdown",
   "metadata": {},
   "source": [
    "## sleep"
   ]
  },
  {
   "cell_type": "code",
   "execution_count": null,
   "metadata": {
    "dotnet_interactive": {
     "language": "spiral"
    },
    "polyglot_notebook": {
     "kernelName": "spiral"
    }
   },
   "outputs": [
    {
     "name": "stdout",
     "output_type": "stream",
     "text": [
      "()\n",
      "\r\n"
     ]
    }
   ],
   "source": [
    "inl sleep (n : i32) : () =\n",
    "    run_target function\n",
    "        | Fsharp (Native) => fun () => $'System.Threading.Thread.Sleep' n\n",
    "        | _ => fun () => ()"
   ]
  },
  {
   "cell_type": "markdown",
   "metadata": {},
   "source": [
    "## retry_fn"
   ]
  },
  {
   "cell_type": "code",
   "execution_count": null,
   "metadata": {
    "dotnet_interactive": {
     "language": "spiral"
    },
    "polyglot_notebook": {
     "kernelName": "spiral"
    }
   },
   "outputs": [
    {
     "name": "stdout",
     "output_type": "stream",
     "text": [
      "()\n",
      "\r\n"
     ]
    }
   ],
   "source": [
    "inl retry_fn forall t. retries (fn : () -> t) : option t =\n",
    "    let rec loop retry =\n",
    "        try\n",
    "            fun () =>\n",
    "                if retry < retries\n",
    "                then fn () |> Some\n",
    "                else None\n",
    "            fun ex =>\n",
    "                trace Warning\n",
    "                    fun () => \"retry_fn\"\n",
    "                    fun () =>\n",
    "                        $'$\"retry: {!retry} / ex: %A{!ex} / {!_locals ()}\"'\n",
    "                sleep 1\n",
    "                None\n",
    "        |> function\n",
    "            | Some x => x\n",
    "            | None => loop (retry + 1)\n",
    "    loop 0"
   ]
  },
  {
   "cell_type": "code",
   "execution_count": null,
   "metadata": {
    "dotnet_interactive": {
     "language": "spiral"
    },
    "polyglot_notebook": {
     "kernelName": "spiral"
    }
   },
   "outputs": [
    {
     "name": "stdout",
     "output_type": "stream",
     "text": [
      "module State = let mutable trace_state = None\n",
      "type Mut0 = {mutable l0 : int32}\n",
      "and [<Struct>] US0 =\n",
      "    | US0_0 of f0_0 : int32\n",
      "    | US0_1\n",
      "and [<Struct>] US1 =\n",
      "    | US1_0 of f0_0 : US0\n",
      "    | US1_1\n",
      "and [<Struct>] US2 =\n",
      "    | US2_0\n",
      "    | US2_1\n",
      "    | US2_2\n",
      "    | US2_3\n",
      "    | US2_4\n",
      "and Mut1 = {mutable l0 : int64}\n",
      "and Mut2 = {mutable l0 : bool}\n",
      "and Mut3 = {mutable l0 : US2}\n",
      "and Mut4 = {mutable l0 : (string -> unit)}\n",
      "and [<Struct>] US3 =\n",
      "    | US3_0 of f0_0 : int64\n",
      "    | US3_1\n",
      "and [<Struct>] US4 =\n",
      "    | US4_0 of f0_0 : int64\n",
      "    | US4_1\n",
      "let rec closure0 (v0 : Mut0, v1 : int32) () : US0 =\n",
      "    let v2 : bool = v1 < 3\n",
      "    if v2 then\n",
      "        let v3 : int32 = v0.l0\n",
      "        let v4 : int32 = v3 + 1\n",
      "        v0.l0 <- v4\n",
      "        let v5 : int32 = v0.l0\n",
      "        US0_0(v5)\n",
      "    else\n",
      "        US0_1\n",
      "and closure1 () (v0 : US0) : US1 =\n",
      "    US1_0(v0)\n",
      "and closure3 () () : string =\n",
      "    let v0 : string = \"retry_fn\"\n",
      "    v0\n",
      "and closure5 () () : string =\n",
      "    let v0 : string = \"\"\n",
      "    v0\n",
      "and closure4 (v0 : int32, v1 : exn) () : string =\n",
      "    let v2 : (unit -> string) = closure5()\n",
      "    let v3 : string = $\"retry: {v0} / ex: %A{v1} / {v2 ()}\"\n",
      "    v3\n",
      "and closure8 () (v0 : string) : unit =\n",
      "    ()\n",
      "and method3 (v0 : int64 option) : int64 option =\n",
      "    v0\n",
      "and method4 (v0 : int64 option) : int64 option =\n",
      "    v0\n",
      "and closure7 () () : struct (Mut1 * Mut2 * Mut3 * int64 option * Mut4) =\n",
      "    let v0 : Mut2 = {l0 = true} : Mut2\n",
      "    let v1 : Mut1 = {l0 = 0L} : Mut1\n",
      "    let v2 : US2 = US2_0\n",
      "    let v3 : Mut3 = {l0 = v2} : Mut3\n",
      "    let v4 : (string -> unit) = closure8()\n",
      "    let v5 : Mut4 = {l0 = v4} : Mut4\n",
      "    let v6 : int64 option option = None\n",
      "    let mutable _v6 = v6\n",
      "    #if INTERACTIVE || !FABLE_COMPILER\n",
      "    let v7 : string option = None\n",
      "    let v8 : bool = true in let mutable _v7 = v7\n",
      "    #if FABLE_COMPILER_RUST && !WASM && !CONTRACT\n",
      "    let v9 : string = null |> unbox<string>\n",
      "    v9\n",
      "#endif\n",
      "    #if FABLE_COMPILER_RUST && WASM\n",
      "    let v10 : string = null |> unbox<string>\n",
      "    v10\n",
      "#endif\n",
      "    #if FABLE_COMPILER_RUST && CONTRACT\n",
      "    let v11 : string = null |> unbox<string>\n",
      "    v11\n",
      "#endif\n",
      "    #if !FABLE_COMPILER && !FABLE_COMPILER_RUST && !FABLE_COMPILER_TYPESCRIPT && !WASM && !CONTRACT\n",
      "    let v12 : string = System.Reflection.Assembly.GetEntryAssembly().GetName().Name\n",
      "    v12\n",
      "#endif\n",
      "    #if FABLE_COMPILER_TYPESCRIPT\n",
      "    let v13 : string = null |> unbox<string>\n",
      "    v13\n",
      "#endif\n",
      "    #if FABLE_COMPILER_PYTHON || FABLE_COMPILER_PHP || FABLE_COMPILER_DART\n",
      "    let v14 : string = Unchecked.defaultof<string>\n",
      "    v14\n",
      "#endif\n",
      "    |> fun x -> _v7 <- Some x\n",
      "    let v15 : string = _v7.Value\n",
      "    let v17 : bool = v15 = \"Microsoft.DotNet.Interactive.App\"\n",
      "    let v18 : bool = v17 <> true\n",
      "    let v24 : US3 =\n",
      "        if v18 then\n",
      "            let v19 : System.DateTime = System.DateTime.Now\n",
      "            let v20 : (System.DateTime -> int64) = _.Ticks\n",
      "            let v21 : int64 = v20 v19\n",
      "            US3_0(v21)\n",
      "        else\n",
      "            US3_1\n",
      "    let v29 : int64 option =\n",
      "        match v24 with\n",
      "        | US3_1 -> (* None *)\n",
      "            let v27 : int64 option = None\n",
      "            v27\n",
      "        | US3_0(v25) -> (* Some *)\n",
      "            let v26 : int64 option = Some v25 \n",
      "            v26\n",
      "    let v30 : int64 option = method3(v29)\n",
      "    v30 \n",
      "    #else\n",
      "    let v31 : int64 option = None\n",
      "    let v32 : int64 option = method4(v31)\n",
      "    v32 \n",
      "    #endif\n",
      "    |> fun x -> _v6 <- Some x\n",
      "    let v33 : int64 option = _v6.Value\n",
      "    struct (v1, v0, v3, v33, v5)\n",
      "and closure9 () (v0 : int64) : US4 =\n",
      "    US4_0(v0)\n",
      "and method5 () : (int64 -> US4) =\n",
      "    closure9()\n",
      "and method6 () : string =\n",
      "    let v0 : string = \"\"\n",
      "    v0\n",
      "and closure6 (v0 : US2, v1 : (unit -> string), v2 : (unit -> string)) () : string =\n",
      "    let v3 : (unit -> struct (Mut1 * Mut2 * Mut3 * int64 option * Mut4)) = closure7()\n",
      "    if State.trace_state.IsNone then State.trace_state <- v3 () |> Some\n",
      "    let struct (v4 : Mut1, v5 : Mut2, v6 : Mut3, v7 : int64 option, v8 : Mut4) = State.trace_state.Value\n",
      "    let v9 : string option = None\n",
      "    let v10 : bool = true in let mutable _v9 = v9\n",
      "    #if FABLE_COMPILER_RUST && !WASM && !CONTRACT\n",
      "    let v11 : (int64 -> US4) = method5()\n",
      "    let v12 : US4 = US4_1\n",
      "    let v13 : US4 = v7 |> Option.map v11 |> Option.defaultValue v12 \n",
      "    let v31 : System.DateTime =\n",
      "        match v13 with\n",
      "        | US4_1 -> (* None *)\n",
      "            let v29 : System.DateTime = System.DateTime.Now\n",
      "            v29\n",
      "        | US4_0(v14) -> (* Some *)\n",
      "            let v15 : System.DateTime = System.DateTime.Now\n",
      "            let v16 : (System.DateTime -> int64) = _.Ticks\n",
      "            let v17 : int64 = v16 v15\n",
      "            let v18 : int64 = v17 - v14\n",
      "            let v19 : System.TimeSpan = System.TimeSpan v18 \n",
      "            let v20 : (System.TimeSpan -> int32) = _.Hours\n",
      "            let v21 : int32 = v20 v19\n",
      "            let v22 : (System.TimeSpan -> int32) = _.Minutes\n",
      "            let v23 : int32 = v22 v19\n",
      "            let v24 : (System.TimeSpan -> int32) = _.Seconds\n",
      "            let v25 : int32 = v24 v19\n",
      "            let v26 : (System.TimeSpan -> int32) = _.Milliseconds\n",
      "            let v27 : int32 = v26 v19\n",
      "            let v28 : System.DateTime = System.DateTime (1, 1, 1, v21, v23, v25, v27)\n",
      "            v28\n",
      "    let v32 : string = \"hh:mm:ss\"\n",
      "    let v33 : string = v31.ToString v32 \n",
      "    v33\n",
      "#endif\n",
      "    #if FABLE_COMPILER_RUST && WASM\n",
      "    let v34 : string = method6()\n",
      "    v34\n",
      "#endif\n",
      "    #if FABLE_COMPILER_RUST && CONTRACT\n",
      "    let v35 : string = method6()\n",
      "    v35\n",
      "#endif\n",
      "    #if !FABLE_COMPILER && !FABLE_COMPILER_RUST && !FABLE_COMPILER_TYPESCRIPT && !WASM && !CONTRACT\n",
      "    let v36 : (int64 -> US4) = method5()\n",
      "    let v37 : US4 = US4_1\n",
      "    let v38 : US4 = v7 |> Option.map v36 |> Option.defaultValue v37 \n",
      "    let v56 : System.DateTime =\n",
      "        match v38 with\n",
      "        | US4_1 -> (* None *)\n",
      "            let v54 : System.DateTime = System.DateTime.Now\n",
      "            v54\n",
      "        | US4_0(v39) -> (* Some *)\n",
      "            let v40 : System.DateTime = System.DateTime.Now\n",
      "            let v41 : (System.DateTime -> int64) = _.Ticks\n",
      "            let v42 : int64 = v41 v40\n",
      "            let v43 : int64 = v42 - v39\n",
      "            let v44 : System.TimeSpan = System.TimeSpan v43 \n",
      "            let v45 : (System.TimeSpan -> int32) = _.Hours\n",
      "            let v46 : int32 = v45 v44\n",
      "            let v47 : (System.TimeSpan -> int32) = _.Minutes\n",
      "            let v48 : int32 = v47 v44\n",
      "            let v49 : (System.TimeSpan -> int32) = _.Seconds\n",
      "            let v50 : int32 = v49 v44\n",
      "            let v51 : (System.TimeSpan -> int32) = _.Milliseconds\n",
      "            let v52 : int32 = v51 v44\n",
      "            let v53 : System.DateTime = System.DateTime (1, 1, 1, v46, v48, v50, v52)\n",
      "            v53\n",
      "    let v57 : string = \"HH:mm:ss\"\n",
      "    let v58 : string = v56.ToString v57 \n",
      "    v58\n",
      "#endif\n",
      "    #if FABLE_COMPILER_TYPESCRIPT\n",
      "    let v59 : string = method6()\n",
      "    v59\n",
      "#endif\n",
      "    #if FABLE_COMPILER_PYTHON || FABLE_COMPILER_PHP || FABLE_COMPILER_DART\n",
      "    let v60 : string = Unchecked.defaultof<string>\n",
      "    v60\n",
      "#endif\n",
      "    |> fun x -> _v9 <- Some x\n",
      "    let v61 : string = _v9.Value\n",
      "    let v62 : int64 = v4.l0\n",
      "    let v72 : string =\n",
      "        match v0 with\n",
      "        | US2_4 -> (* Critical *)\n",
      "            let v67 : string = \"Critical\"\n",
      "            v67\n",
      "        | US2_1 -> (* Debug *)\n",
      "            let v64 : string = \"Debug\"\n",
      "            v64\n",
      "        | US2_2 -> (* Info *)\n",
      "            let v65 : string = \"Info\"\n",
      "            v65\n",
      "        | US2_0 -> (* Verbose *)\n",
      "            let v63 : string = \"Verbose\"\n",
      "            v63\n",
      "        | US2_3 -> (* Warning *)\n",
      "            let v66 : string = \"Warning\"\n",
      "            v66\n",
      "    let v73 : string = v72.ToLower ()\n",
      "    let v74 : string option = None\n",
      "    let v75 : bool = true in let mutable _v74 = v74\n",
      "    #if FABLE_COMPILER_RUST && !WASM && !CONTRACT\n",
      "    let v90 : Ref<Str> =\n",
      "        match v0 with\n",
      "        | US2_4 -> (* Critical *)\n",
      "            let v84 : string = \"inline_colorization::color_bright_red\"\n",
      "            let v85 : Ref<Str> = Fable.Core.RustInterop.emitRustExpr () v84\n",
      "            v85\n",
      "        | US2_1 -> (* Debug *)\n",
      "            let v78 : string = \"inline_colorization::color_bright_blue\"\n",
      "            let v79 : Ref<Str> = Fable.Core.RustInterop.emitRustExpr () v78\n",
      "            v79\n",
      "        | US2_2 -> (* Info *)\n",
      "            let v80 : string = \"inline_colorization::color_bright_green\"\n",
      "            let v81 : Ref<Str> = Fable.Core.RustInterop.emitRustExpr () v80\n",
      "            v81\n",
      "        | US2_0 -> (* Verbose *)\n",
      "            let v76 : string = \"inline_colorization::color_bright_black\"\n",
      "            let v77 : Ref<Str> = Fable.Core.RustInterop.emitRustExpr () v76\n",
      "            v77\n",
      "        | US2_3 -> (* Warning *)\n",
      "            let v82 : string = \"inline_colorization::color_bright_yellow\"\n",
      "            let v83 : Ref<Str> = Fable.Core.RustInterop.emitRustExpr () v82\n",
      "            v83\n",
      "    let v91 : string = \"fable_library_rust::String_::LrcStr::as_str(&$0)\"\n",
      "    let v92 : Ref<Str> = Fable.Core.RustInterop.emitRustExpr v73 v91\n",
      "    let v93 : string = \"inline_colorization::color_reset\"\n",
      "    let v94 : Ref<Str> = Fable.Core.RustInterop.emitRustExpr () v93\n",
      "    let v95 : string = \"\\\"{v90}{v92}{v94}\\\"\"\n",
      "    let v96 : string = @$\"format!(\" + v95 + \")\"\n",
      "    let v97 : std_string_String = Fable.Core.RustInterop.emitRustExpr () v96\n",
      "    let v98 : string = \"fable_library_rust::String_::fromString($0)\"\n",
      "    let v99 : string = Fable.Core.RustInterop.emitRustExpr v97 v98\n",
      "    v99\n",
      "#endif\n",
      "    #if FABLE_COMPILER_RUST && WASM\n",
      "    let v114 : Ref<Str> =\n",
      "        match v0 with\n",
      "        | US2_4 -> (* Critical *)\n",
      "            let v108 : string = \"inline_colorization::color_bright_red\"\n",
      "            let v109 : Ref<Str> = Fable.Core.RustInterop.emitRustExpr () v108\n",
      "            v109\n",
      "        | US2_1 -> (* Debug *)\n",
      "            let v102 : string = \"inline_colorization::color_bright_blue\"\n",
      "            let v103 : Ref<Str> = Fable.Core.RustInterop.emitRustExpr () v102\n",
      "            v103\n",
      "        | US2_2 -> (* Info *)\n",
      "            let v104 : string = \"inline_colorization::color_bright_green\"\n",
      "            let v105 : Ref<Str> = Fable.Core.RustInterop.emitRustExpr () v104\n",
      "            v105\n",
      "        | US2_0 -> (* Verbose *)\n",
      "            let v100 : string = \"inline_colorization::color_bright_black\"\n",
      "            let v101 : Ref<Str> = Fable.Core.RustInterop.emitRustExpr () v100\n",
      "            v101\n",
      "        | US2_3 -> (* Warning *)\n",
      "            let v106 : string = \"inline_colorization::color_bright_yellow\"\n",
      "            let v107 : Ref<Str> = Fable.Core.RustInterop.emitRustExpr () v106\n",
      "            v107\n",
      "    let v115 : string = \"fable_library_rust::String_::LrcStr::as_str(&$0)\"\n",
      "    let v116 : Ref<Str> = Fable.Core.RustInterop.emitRustExpr v73 v115\n",
      "    let v117 : string = \"inline_colorization::color_reset\"\n",
      "    let v118 : Ref<Str> = Fable.Core.RustInterop.emitRustExpr () v117\n",
      "    let v119 : string = \"\\\"{v114}{v116}{v118}\\\"\"\n",
      "    let v120 : string = @$\"format!(\" + v119 + \")\"\n",
      "    let v121 : std_string_String = Fable.Core.RustInterop.emitRustExpr () v120\n",
      "    let v122 : string = \"fable_library_rust::String_::fromString($0)\"\n",
      "    let v123 : string = Fable.Core.RustInterop.emitRustExpr v121 v122\n",
      "    v123\n",
      "#endif\n",
      "    #if FABLE_COMPILER_RUST && CONTRACT\n",
      "    let v138 : Ref<Str> =\n",
      "        match v0 with\n",
      "        | US2_4 -> (* Critical *)\n",
      "            let v132 : string = \"inline_colorization::color_bright_red\"\n",
      "            let v133 : Ref<Str> = Fable.Core.RustInterop.emitRustExpr () v132\n",
      "            v133\n",
      "        | US2_1 -> (* Debug *)\n",
      "            let v126 : string = \"inline_colorization::color_bright_blue\"\n",
      "            let v127 : Ref<Str> = Fable.Core.RustInterop.emitRustExpr () v126\n",
      "            v127\n",
      "        | US2_2 -> (* Info *)\n",
      "            let v128 : string = \"inline_colorization::color_bright_green\"\n",
      "            let v129 : Ref<Str> = Fable.Core.RustInterop.emitRustExpr () v128\n",
      "            v129\n",
      "        | US2_0 -> (* Verbose *)\n",
      "            let v124 : string = \"inline_colorization::color_bright_black\"\n",
      "            let v125 : Ref<Str> = Fable.Core.RustInterop.emitRustExpr () v124\n",
      "            v125\n",
      "        | US2_3 -> (* Warning *)\n",
      "            let v130 : string = \"inline_colorization::color_bright_yellow\"\n",
      "            let v131 : Ref<Str> = Fable.Core.RustInterop.emitRustExpr () v130\n",
      "            v131\n",
      "    let v139 : string = \"fable_library_rust::String_::LrcStr::as_str(&$0)\"\n",
      "    let v140 : Ref<Str> = Fable.Core.RustInterop.emitRustExpr v73 v139\n",
      "    let v141 : string = \"inline_colorization::color_reset\"\n",
      "    let v142 : Ref<Str> = Fable.Core.RustInterop.emitRustExpr () v141\n",
      "    let v143 : string = \"\\\"{v138}{v140}{v142}\\\"\"\n",
      "    let v144 : string = @$\"format!(\" + v143 + \")\"\n",
      "    let v145 : std_string_String = Fable.Core.RustInterop.emitRustExpr () v144\n",
      "    let v146 : string = \"fable_library_rust::String_::fromString($0)\"\n",
      "    let v147 : string = Fable.Core.RustInterop.emitRustExpr v145 v146\n",
      "    v147\n",
      "#endif\n",
      "    #if !FABLE_COMPILER && !FABLE_COMPILER_RUST && !FABLE_COMPILER_TYPESCRIPT && !WASM && !CONTRACT\n",
      "    v73\n",
      "#endif\n",
      "    #if FABLE_COMPILER_TYPESCRIPT\n",
      "    v73\n",
      "#endif\n",
      "    #if FABLE_COMPILER_PYTHON || FABLE_COMPILER_PHP || FABLE_COMPILER_DART\n",
      "    let v148 : string = Unchecked.defaultof<string>\n",
      "    v148\n",
      "#endif\n",
      "    |> fun x -> _v74 <- Some x\n",
      "    let v149 : string = _v74.Value\n",
      "    let v150 : string = $\"{v61} {v149} #{v62} %s{v1 ()} / %s{v2 ()}\"\n",
      "    let v151 : (char []) = [||]\n",
      "    let v152 : string = v150.TrimStart v151\n",
      "    let v153 : (char []) = [|' '; '/'|]\n",
      "    let v154 : string = v152.TrimEnd v153\n",
      "    v154\n",
      "and method7 (v0 : US2, v1 : (unit -> string)) : unit =\n",
      "    let v2 : (unit -> struct (Mut1 * Mut2 * Mut3 * int64 option * Mut4)) = closure7()\n",
      "    if State.trace_state.IsNone then State.trace_state <- v2 () |> Some\n",
      "    let struct (v3 : Mut1, v4 : Mut2, v5 : Mut3, v6 : int64 option, v7 : Mut4) = State.trace_state.Value\n",
      "    if State.trace_state.IsNone then State.trace_state <- v2 () |> Some\n",
      "    let struct (v8 : Mut1, v9 : Mut2, v10 : Mut3, v11 : int64 option, v12 : Mut4) = State.trace_state.Value\n",
      "    let v13 : US2 = v10.l0\n",
      "    let v14 : bool = v9.l0\n",
      "    let v15 : bool = v14 = false\n",
      "    let v19 : bool =\n",
      "        if v15 then\n",
      "            false\n",
      "        else\n",
      "            let v16 : int32 = [ US2_0, 0; US2_1, 1; US2_2, 2; US2_3, 3; US2_4, 4 ] |> Map |> Map.find v0\n",
      "            let v17 : int32 = [ US2_0, 0; US2_1, 1; US2_2, 2; US2_3, 3; US2_4, 4 ] |> Map |> Map.find v13\n",
      "            let v18 : bool = v16 >= v17\n",
      "            v18\n",
      "    if v19 then\n",
      "        let v20 : int64 = v3.l0\n",
      "        let v21 : int64 = v20 + 1L\n",
      "        v3.l0 <- v21\n",
      "        let v22 : string = $\"%s{v1 ()}\"\n",
      "        let v23 : unit option = None\n",
      "        let v24 : bool = true in let mutable _v23 = v23\n",
      "        #if FABLE_COMPILER_RUST && !WASM && !CONTRACT\n",
      "        let v25 : string = @\"println!(\"\"{}\"\", $0)\"\n",
      "        Fable.Core.RustInterop.emitRustExpr v22 v25\n",
      "        ()\n",
      "#endif\n",
      "        #if FABLE_COMPILER_RUST && WASM\n",
      "        let v26 : string = @\"println!(\"\"{}\"\", $0)\"\n",
      "        Fable.Core.RustInterop.emitRustExpr v22 v26\n",
      "        ()\n",
      "#endif\n",
      "        #if FABLE_COMPILER_RUST && CONTRACT\n",
      "        let v27 : string = @\"println!(\"\"{}\"\", $0)\"\n",
      "        Fable.Core.RustInterop.emitRustExpr v22 v27\n",
      "        ()\n",
      "#endif\n",
      "        #if !FABLE_COMPILER && !FABLE_COMPILER_RUST && !FABLE_COMPILER_TYPESCRIPT && !WASM && !CONTRACT\n",
      "        System.Console.WriteLine v22 \n",
      "        ()\n",
      "#endif\n",
      "        #if FABLE_COMPILER_TYPESCRIPT\n",
      "        System.Console.WriteLine v22 \n",
      "        ()\n",
      "#endif\n",
      "        #if FABLE_COMPILER_PYTHON || FABLE_COMPILER_PHP || FABLE_COMPILER_DART\n",
      "        Unchecked.defaultof<unit>\n",
      "        ()\n",
      "#endif\n",
      "        |> fun x -> _v23 <- Some x\n",
      "        _v23.Value\n",
      "        let v28 : (string -> unit) = v7.l0\n",
      "        v28 v22\n",
      "and method2 (v0 : US2, v1 : (unit -> string), v2 : (unit -> string)) : unit =\n",
      "    let v3 : (unit -> string) = closure6(v0, v1, v2)\n",
      "    method7(v0, v3)\n",
      "and closure2 (v0 : int32) (v1 : exn) : US1 =\n",
      "    let v2 : US2 = US2_3\n",
      "    let v3 : (unit -> string) = closure3()\n",
      "    let v4 : (unit -> string) = closure4(v0, v1)\n",
      "    method2(v2, v3, v4)\n",
      "    let v5 : unit option = None\n",
      "    let v6 : bool = true in let mutable _v5 = v5\n",
      "    #if FABLE_COMPILER_RUST && !WASM && !CONTRACT\n",
      "    ()\n",
      "#endif\n",
      "    #if FABLE_COMPILER_RUST && WASM\n",
      "    ()\n",
      "#endif\n",
      "    #if FABLE_COMPILER_RUST && CONTRACT\n",
      "    ()\n",
      "#endif\n",
      "    #if !FABLE_COMPILER && !FABLE_COMPILER_RUST && !FABLE_COMPILER_TYPESCRIPT && !WASM && !CONTRACT\n",
      "    let v7 : (int32 -> unit) = System.Threading.Thread.Sleep\n",
      "    v7 1\n",
      "    ()\n",
      "#endif\n",
      "    #if FABLE_COMPILER_TYPESCRIPT\n",
      "    ()\n",
      "#endif\n",
      "    #if FABLE_COMPILER_PYTHON || FABLE_COMPILER_PHP || FABLE_COMPILER_DART\n",
      "    Unchecked.defaultof<unit>\n",
      "    ()\n",
      "#endif\n",
      "    |> fun x -> _v5 <- Some x\n",
      "    _v5.Value\n",
      "    US1_1\n",
      "and method1 (v0 : Mut0, v1 : int32) : US0 =\n",
      "    let v2 : (unit -> US0) = closure0(v0, v1)\n",
      "    let v3 : (US0 -> US1) = closure1()\n",
      "    let v4 : (exn -> US1) = closure2(v1)\n",
      "    let v5 : US1 = try v2 () |> v3 with ex -> v4 ex \n",
      "    match v5 with\n",
      "    | US1_1 -> (* None *)\n",
      "        let v7 : int32 = v1 + 1\n",
      "        method1(v0, v7)\n",
      "    | US1_0(v6) -> (* Some *)\n",
      "        v6\n",
      "and method8 (v0 : bool) : bool =\n",
      "    v0\n",
      "and method0 () : unit =\n",
      "    let v0 : Mut0 = {l0 = 0} : Mut0\n",
      "    let v1 : int32 = 0\n",
      "    let v2 : US0 = method1(v0, v1)\n",
      "    let v3 : string = $\"%A{v2}\"\n",
      "    System.Console.WriteLine v3\n",
      "    let v7 : bool =\n",
      "        match v2 with\n",
      "        | US0_0(v5) -> (* Some *)\n",
      "            let v6 : bool = v5 = 1\n",
      "            v6\n",
      "        | _ ->\n",
      "            false\n",
      "    let v9 : bool =\n",
      "        if v7 then\n",
      "            true\n",
      "        else\n",
      "            method8(v7)\n",
      "    let v10 : US0 = US0_0(1)\n",
      "    let v11 : string = $\"__expect / actual: %A{v2} / expected: %A{v10}\"\n",
      "    let v12 : bool = v9 = false\n",
      "    if v12 then\n",
      "        failwith<unit> v11\n",
      "method0()\n",
      "\r\n",
      "US0_0 1\r\n"
     ]
    }
   ],
   "source": [
    "// // test\n",
    "\n",
    "inl retry_fn_test = mut 0i32\n",
    "fun () =>\n",
    "    retry_fn_test <- *retry_fn_test + 1\n",
    "    *retry_fn_test\n",
    "|> retry_fn 3i32\n",
    "|> _assert_eq (Some 1i32)"
   ]
  },
  {
   "cell_type": "code",
   "execution_count": null,
   "metadata": {
    "dotnet_interactive": {
     "language": "spiral"
    },
    "polyglot_notebook": {
     "kernelName": "spiral"
    }
   },
   "outputs": [
    {
     "name": "stdout",
     "output_type": "stream",
     "text": [
      "module State = let mutable trace_state = None\n",
      "type Mut0 = {mutable l0 : int32}\n",
      "and [<Struct>] US0 =\n",
      "    | US0_0 of f0_0 : int32\n",
      "    | US0_1\n",
      "and [<Struct>] US1 =\n",
      "    | US1_0 of f0_0 : US0\n",
      "    | US1_1\n",
      "and [<Struct>] US2 =\n",
      "    | US2_0\n",
      "    | US2_1\n",
      "    | US2_2\n",
      "    | US2_3\n",
      "    | US2_4\n",
      "and Mut1 = {mutable l0 : int64}\n",
      "and Mut2 = {mutable l0 : bool}\n",
      "and Mut3 = {mutable l0 : US2}\n",
      "and Mut4 = {mutable l0 : (string -> unit)}\n",
      "and [<Struct>] US3 =\n",
      "    | US3_0 of f0_0 : int64\n",
      "    | US3_1\n",
      "and [<Struct>] US4 =\n",
      "    | US4_0 of f0_0 : int64\n",
      "    | US4_1\n",
      "let rec closure0 (v0 : Mut0, v1 : int32) () : US0 =\n",
      "    let v2 : bool = v1 < 3\n",
      "    if v2 then\n",
      "        let v3 : int32 = v0.l0\n",
      "        let v4 : bool = v3 >= 2\n",
      "        let v9 : int32 =\n",
      "            if v4 then\n",
      "                let v5 : int32 = v0.l0\n",
      "                v5\n",
      "            else\n",
      "                let v6 : int32 = v0.l0\n",
      "                let v7 : int32 = v6 + 1\n",
      "                v0.l0 <- v7\n",
      "                failwith<int32> \"test\"\n",
      "        US0_0(v9)\n",
      "    else\n",
      "        US0_1\n",
      "and closure1 () (v0 : US0) : US1 =\n",
      "    US1_0(v0)\n",
      "and closure3 () () : string =\n",
      "    let v0 : string = \"retry_fn\"\n",
      "    v0\n",
      "and closure5 () () : string =\n",
      "    let v0 : string = \"\"\n",
      "    v0\n",
      "and closure4 (v0 : int32, v1 : exn) () : string =\n",
      "    let v2 : (unit -> string) = closure5()\n",
      "    let v3 : string = $\"retry: {v0} / ex: %A{v1} / {v2 ()}\"\n",
      "    v3\n",
      "and closure8 () (v0 : string) : unit =\n",
      "    ()\n",
      "and method3 (v0 : int64 option) : int64 option =\n",
      "    v0\n",
      "and method4 (v0 : int64 option) : int64 option =\n",
      "    v0\n",
      "and closure7 () () : struct (Mut1 * Mut2 * Mut3 * int64 option * Mut4) =\n",
      "    let v0 : Mut2 = {l0 = true} : Mut2\n",
      "    let v1 : Mut1 = {l0 = 0L} : Mut1\n",
      "    let v2 : US2 = US2_0\n",
      "    let v3 : Mut3 = {l0 = v2} : Mut3\n",
      "    let v4 : (string -> unit) = closure8()\n",
      "    let v5 : Mut4 = {l0 = v4} : Mut4\n",
      "    let v6 : int64 option option = None\n",
      "    let mutable _v6 = v6\n",
      "    #if INTERACTIVE || !FABLE_COMPILER\n",
      "    let v7 : string option = None\n",
      "    let v8 : bool = true in let mutable _v7 = v7\n",
      "    #if FABLE_COMPILER_RUST && !WASM && !CONTRACT\n",
      "    let v9 : string = null |> unbox<string>\n",
      "    v9\n",
      "#endif\n",
      "    #if FABLE_COMPILER_RUST && WASM\n",
      "    let v10 : string = null |> unbox<string>\n",
      "    v10\n",
      "#endif\n",
      "    #if FABLE_COMPILER_RUST && CONTRACT\n",
      "    let v11 : string = null |> unbox<string>\n",
      "    v11\n",
      "#endif\n",
      "    #if !FABLE_COMPILER && !FABLE_COMPILER_RUST && !FABLE_COMPILER_TYPESCRIPT && !WASM && !CONTRACT\n",
      "    let v12 : string = System.Reflection.Assembly.GetEntryAssembly().GetName().Name\n",
      "    v12\n",
      "#endif\n",
      "    #if FABLE_COMPILER_TYPESCRIPT\n",
      "    let v13 : string = null |> unbox<string>\n",
      "    v13\n",
      "#endif\n",
      "    #if FABLE_COMPILER_PYTHON || FABLE_COMPILER_PHP || FABLE_COMPILER_DART\n",
      "    let v14 : string = Unchecked.defaultof<string>\n",
      "    v14\n",
      "#endif\n",
      "    |> fun x -> _v7 <- Some x\n",
      "    let v15 : string = _v7.Value\n",
      "    let v17 : bool = v15 = \"Microsoft.DotNet.Interactive.App\"\n",
      "    let v18 : bool = v17 <> true\n",
      "    let v24 : US3 =\n",
      "        if v18 then\n",
      "            let v19 : System.DateTime = System.DateTime.Now\n",
      "            let v20 : (System.DateTime -> int64) = _.Ticks\n",
      "            let v21 : int64 = v20 v19\n",
      "            US3_0(v21)\n",
      "        else\n",
      "            US3_1\n",
      "    let v29 : int64 option =\n",
      "        match v24 with\n",
      "        | US3_1 -> (* None *)\n",
      "            let v27 : int64 option = None\n",
      "            v27\n",
      "        | US3_0(v25) -> (* Some *)\n",
      "            let v26 : int64 option = Some v25 \n",
      "            v26\n",
      "    let v30 : int64 option = method3(v29)\n",
      "    v30 \n",
      "    #else\n",
      "    let v31 : int64 option = None\n",
      "    let v32 : int64 option = method4(v31)\n",
      "    v32 \n",
      "    #endif\n",
      "    |> fun x -> _v6 <- Some x\n",
      "    let v33 : int64 option = _v6.Value\n",
      "    struct (v1, v0, v3, v33, v5)\n",
      "and closure9 () (v0 : int64) : US4 =\n",
      "    US4_0(v0)\n",
      "and method5 () : (int64 -> US4) =\n",
      "    closure9()\n",
      "and method6 () : string =\n",
      "    let v0 : string = \"\"\n",
      "    v0\n",
      "and closure6 (v0 : US2, v1 : (unit -> string), v2 : (unit -> string)) () : string =\n",
      "    let v3 : (unit -> struct (Mut1 * Mut2 * Mut3 * int64 option * Mut4)) = closure7()\n",
      "    if State.trace_state.IsNone then State.trace_state <- v3 () |> Some\n",
      "    let struct (v4 : Mut1, v5 : Mut2, v6 : Mut3, v7 : int64 option, v8 : Mut4) = State.trace_state.Value\n",
      "    let v9 : string option = None\n",
      "    let v10 : bool = true in let mutable _v9 = v9\n",
      "    #if FABLE_COMPILER_RUST && !WASM && !CONTRACT\n",
      "    let v11 : (int64 -> US4) = method5()\n",
      "    let v12 : US4 = US4_1\n",
      "    let v13 : US4 = v7 |> Option.map v11 |> Option.defaultValue v12 \n",
      "    let v31 : System.DateTime =\n",
      "        match v13 with\n",
      "        | US4_1 -> (* None *)\n",
      "            let v29 : System.DateTime = System.DateTime.Now\n",
      "            v29\n",
      "        | US4_0(v14) -> (* Some *)\n",
      "            let v15 : System.DateTime = System.DateTime.Now\n",
      "            let v16 : (System.DateTime -> int64) = _.Ticks\n",
      "            let v17 : int64 = v16 v15\n",
      "            let v18 : int64 = v17 - v14\n",
      "            let v19 : System.TimeSpan = System.TimeSpan v18 \n",
      "            let v20 : (System.TimeSpan -> int32) = _.Hours\n",
      "            let v21 : int32 = v20 v19\n",
      "            let v22 : (System.TimeSpan -> int32) = _.Minutes\n",
      "            let v23 : int32 = v22 v19\n",
      "            let v24 : (System.TimeSpan -> int32) = _.Seconds\n",
      "            let v25 : int32 = v24 v19\n",
      "            let v26 : (System.TimeSpan -> int32) = _.Milliseconds\n",
      "            let v27 : int32 = v26 v19\n",
      "            let v28 : System.DateTime = System.DateTime (1, 1, 1, v21, v23, v25, v27)\n",
      "            v28\n",
      "    let v32 : string = \"hh:mm:ss\"\n",
      "    let v33 : string = v31.ToString v32 \n",
      "    v33\n",
      "#endif\n",
      "    #if FABLE_COMPILER_RUST && WASM\n",
      "    let v34 : string = method6()\n",
      "    v34\n",
      "#endif\n",
      "    #if FABLE_COMPILER_RUST && CONTRACT\n",
      "    let v35 : string = method6()\n",
      "    v35\n",
      "#endif\n",
      "    #if !FABLE_COMPILER && !FABLE_COMPILER_RUST && !FABLE_COMPILER_TYPESCRIPT && !WASM && !CONTRACT\n",
      "    let v36 : (int64 -> US4) = method5()\n",
      "    let v37 : US4 = US4_1\n",
      "    let v38 : US4 = v7 |> Option.map v36 |> Option.defaultValue v37 \n",
      "    let v56 : System.DateTime =\n",
      "        match v38 with\n",
      "        | US4_1 -> (* None *)\n",
      "            let v54 : System.DateTime = System.DateTime.Now\n",
      "            v54\n",
      "        | US4_0(v39) -> (* Some *)\n",
      "            let v40 : System.DateTime = System.DateTime.Now\n",
      "            let v41 : (System.DateTime -> int64) = _.Ticks\n",
      "            let v42 : int64 = v41 v40\n",
      "            let v43 : int64 = v42 - v39\n",
      "            let v44 : System.TimeSpan = System.TimeSpan v43 \n",
      "            let v45 : (System.TimeSpan -> int32) = _.Hours\n",
      "            let v46 : int32 = v45 v44\n",
      "            let v47 : (System.TimeSpan -> int32) = _.Minutes\n",
      "            let v48 : int32 = v47 v44\n",
      "            let v49 : (System.TimeSpan -> int32) = _.Seconds\n",
      "            let v50 : int32 = v49 v44\n",
      "            let v51 : (System.TimeSpan -> int32) = _.Milliseconds\n",
      "            let v52 : int32 = v51 v44\n",
      "            let v53 : System.DateTime = System.DateTime (1, 1, 1, v46, v48, v50, v52)\n",
      "            v53\n",
      "    let v57 : string = \"HH:mm:ss\"\n",
      "    let v58 : string = v56.ToString v57 \n",
      "    v58\n",
      "#endif\n",
      "    #if FABLE_COMPILER_TYPESCRIPT\n",
      "    let v59 : string = method6()\n",
      "    v59\n",
      "#endif\n",
      "    #if FABLE_COMPILER_PYTHON || FABLE_COMPILER_PHP || FABLE_COMPILER_DART\n",
      "    let v60 : string = Unchecked.defaultof<string>\n",
      "    v60\n",
      "#endif\n",
      "    |> fun x -> _v9 <- Some x\n",
      "    let v61 : string = _v9.Value\n",
      "    let v62 : int64 = v4.l0\n",
      "    let v72 : string =\n",
      "        match v0 with\n",
      "        | US2_4 -> (* Critical *)\n",
      "            let v67 : string = \"Critical\"\n",
      "            v67\n",
      "        | US2_1 -> (* Debug *)\n",
      "            let v64 : string = \"Debug\"\n",
      "            v64\n",
      "        | US2_2 -> (* Info *)\n",
      "            let v65 : string = \"Info\"\n",
      "            v65\n",
      "        | US2_0 -> (* Verbose *)\n",
      "            let v63 : string = \"Verbose\"\n",
      "            v63\n",
      "        | US2_3 -> (* Warning *)\n",
      "            let v66 : string = \"Warning\"\n",
      "            v66\n",
      "    let v73 : string = v72.ToLower ()\n",
      "    let v74 : string option = None\n",
      "    let v75 : bool = true in let mutable _v74 = v74\n",
      "    #if FABLE_COMPILER_RUST && !WASM && !CONTRACT\n",
      "    let v90 : Ref<Str> =\n",
      "        match v0 with\n",
      "        | US2_4 -> (* Critical *)\n",
      "            let v84 : string = \"inline_colorization::color_bright_red\"\n",
      "            let v85 : Ref<Str> = Fable.Core.RustInterop.emitRustExpr () v84\n",
      "            v85\n",
      "        | US2_1 -> (* Debug *)\n",
      "            let v78 : string = \"inline_colorization::color_bright_blue\"\n",
      "            let v79 : Ref<Str> = Fable.Core.RustInterop.emitRustExpr () v78\n",
      "            v79\n",
      "        | US2_2 -> (* Info *)\n",
      "            let v80 : string = \"inline_colorization::color_bright_green\"\n",
      "            let v81 : Ref<Str> = Fable.Core.RustInterop.emitRustExpr () v80\n",
      "            v81\n",
      "        | US2_0 -> (* Verbose *)\n",
      "            let v76 : string = \"inline_colorization::color_bright_black\"\n",
      "            let v77 : Ref<Str> = Fable.Core.RustInterop.emitRustExpr () v76\n",
      "            v77\n",
      "        | US2_3 -> (* Warning *)\n",
      "            let v82 : string = \"inline_colorization::color_bright_yellow\"\n",
      "            let v83 : Ref<Str> = Fable.Core.RustInterop.emitRustExpr () v82\n",
      "            v83\n",
      "    let v91 : string = \"fable_library_rust::String_::LrcStr::as_str(&$0)\"\n",
      "    let v92 : Ref<Str> = Fable.Core.RustInterop.emitRustExpr v73 v91\n",
      "    let v93 : string = \"inline_colorization::color_reset\"\n",
      "    let v94 : Ref<Str> = Fable.Core.RustInterop.emitRustExpr () v93\n",
      "    let v95 : string = \"\\\"{v90}{v92}{v94}\\\"\"\n",
      "    let v96 : string = @$\"format!(\" + v95 + \")\"\n",
      "    let v97 : std_string_String = Fable.Core.RustInterop.emitRustExpr () v96\n",
      "    let v98 : string = \"fable_library_rust::String_::fromString($0)\"\n",
      "    let v99 : string = Fable.Core.RustInterop.emitRustExpr v97 v98\n",
      "    v99\n",
      "#endif\n",
      "    #if FABLE_COMPILER_RUST && WASM\n",
      "    let v114 : Ref<Str> =\n",
      "        match v0 with\n",
      "        | US2_4 -> (* Critical *)\n",
      "            let v108 : string = \"inline_colorization::color_bright_red\"\n",
      "            let v109 : Ref<Str> = Fable.Core.RustInterop.emitRustExpr () v108\n",
      "            v109\n",
      "        | US2_1 -> (* Debug *)\n",
      "            let v102 : string = \"inline_colorization::color_bright_blue\"\n",
      "            let v103 : Ref<Str> = Fable.Core.RustInterop.emitRustExpr () v102\n",
      "            v103\n",
      "        | US2_2 -> (* Info *)\n",
      "            let v104 : string = \"inline_colorization::color_bright_green\"\n",
      "            let v105 : Ref<Str> = Fable.Core.RustInterop.emitRustExpr () v104\n",
      "            v105\n",
      "        | US2_0 -> (* Verbose *)\n",
      "            let v100 : string = \"inline_colorization::color_bright_black\"\n",
      "            let v101 : Ref<Str> = Fable.Core.RustInterop.emitRustExpr () v100\n",
      "            v101\n",
      "        | US2_3 -> (* Warning *)\n",
      "            let v106 : string = \"inline_colorization::color_bright_yellow\"\n",
      "            let v107 : Ref<Str> = Fable.Core.RustInterop.emitRustExpr () v106\n",
      "            v107\n",
      "    let v115 : string = \"fable_library_rust::String_::LrcStr::as_str(&$0)\"\n",
      "    let v116 : Ref<Str> = Fable.Core.RustInterop.emitRustExpr v73 v115\n",
      "    let v117 : string = \"inline_colorization::color_reset\"\n",
      "    let v118 : Ref<Str> = Fable.Core.RustInterop.emitRustExpr () v117\n",
      "    let v119 : string = \"\\\"{v114}{v116}{v118}\\\"\"\n",
      "    let v120 : string = @$\"format!(\" + v119 + \")\"\n",
      "    let v121 : std_string_String = Fable.Core.RustInterop.emitRustExpr () v120\n",
      "    let v122 : string = \"fable_library_rust::String_::fromString($0)\"\n",
      "    let v123 : string = Fable.Core.RustInterop.emitRustExpr v121 v122\n",
      "    v123\n",
      "#endif\n",
      "    #if FABLE_COMPILER_RUST && CONTRACT\n",
      "    let v138 : Ref<Str> =\n",
      "        match v0 with\n",
      "        | US2_4 -> (* Critical *)\n",
      "            let v132 : string = \"inline_colorization::color_bright_red\"\n",
      "            let v133 : Ref<Str> = Fable.Core.RustInterop.emitRustExpr () v132\n",
      "            v133\n",
      "        | US2_1 -> (* Debug *)\n",
      "            let v126 : string = \"inline_colorization::color_bright_blue\"\n",
      "            let v127 : Ref<Str> = Fable.Core.RustInterop.emitRustExpr () v126\n",
      "            v127\n",
      "        | US2_2 -> (* Info *)\n",
      "            let v128 : string = \"inline_colorization::color_bright_green\"\n",
      "            let v129 : Ref<Str> = Fable.Core.RustInterop.emitRustExpr () v128\n",
      "            v129\n",
      "        | US2_0 -> (* Verbose *)\n",
      "            let v124 : string = \"inline_colorization::color_bright_black\"\n",
      "            let v125 : Ref<Str> = Fable.Core.RustInterop.emitRustExpr () v124\n",
      "            v125\n",
      "        | US2_3 -> (* Warning *)\n",
      "            let v130 : string = \"inline_colorization::color_bright_yellow\"\n",
      "            let v131 : Ref<Str> = Fable.Core.RustInterop.emitRustExpr () v130\n",
      "            v131\n",
      "    let v139 : string = \"fable_library_rust::String_::LrcStr::as_str(&$0)\"\n",
      "    let v140 : Ref<Str> = Fable.Core.RustInterop.emitRustExpr v73 v139\n",
      "    let v141 : string = \"inline_colorization::color_reset\"\n",
      "    let v142 : Ref<Str> = Fable.Core.RustInterop.emitRustExpr () v141\n",
      "    let v143 : string = \"\\\"{v138}{v140}{v142}\\\"\"\n",
      "    let v144 : string = @$\"format!(\" + v143 + \")\"\n",
      "    let v145 : std_string_String = Fable.Core.RustInterop.emitRustExpr () v144\n",
      "    let v146 : string = \"fable_library_rust::String_::fromString($0)\"\n",
      "    let v147 : string = Fable.Core.RustInterop.emitRustExpr v145 v146\n",
      "    v147\n",
      "#endif\n",
      "    #if !FABLE_COMPILER && !FABLE_COMPILER_RUST && !FABLE_COMPILER_TYPESCRIPT && !WASM && !CONTRACT\n",
      "    v73\n",
      "#endif\n",
      "    #if FABLE_COMPILER_TYPESCRIPT\n",
      "    v73\n",
      "#endif\n",
      "    #if FABLE_COMPILER_PYTHON || FABLE_COMPILER_PHP || FABLE_COMPILER_DART\n",
      "    let v148 : string = Unchecked.defaultof<string>\n",
      "    v148\n",
      "#endif\n",
      "    |> fun x -> _v74 <- Some x\n",
      "    let v149 : string = _v74.Value\n",
      "    let v150 : string = $\"{v61} {v149} #{v62} %s{v1 ()} / %s{v2 ()}\"\n",
      "    let v151 : (char []) = [||]\n",
      "    let v152 : string = v150.TrimStart v151\n",
      "    let v153 : (char []) = [|' '; '/'|]\n",
      "    let v154 : string = v152.TrimEnd v153\n",
      "    v154\n",
      "and method7 (v0 : US2, v1 : (unit -> string)) : unit =\n",
      "    let v2 : (unit -> struct (Mut1 * Mut2 * Mut3 * int64 option * Mut4)) = closure7()\n",
      "    if State.trace_state.IsNone then State.trace_state <- v2 () |> Some\n",
      "    let struct (v3 : Mut1, v4 : Mut2, v5 : Mut3, v6 : int64 option, v7 : Mut4) = State.trace_state.Value\n",
      "    if State.trace_state.IsNone then State.trace_state <- v2 () |> Some\n",
      "    let struct (v8 : Mut1, v9 : Mut2, v10 : Mut3, v11 : int64 option, v12 : Mut4) = State.trace_state.Value\n",
      "    let v13 : US2 = v10.l0\n",
      "    let v14 : bool = v9.l0\n",
      "    let v15 : bool = v14 = false\n",
      "    let v19 : bool =\n",
      "        if v15 then\n",
      "            false\n",
      "        else\n",
      "            let v16 : int32 = [ US2_0, 0; US2_1, 1; US2_2, 2; US2_3, 3; US2_4, 4 ] |> Map |> Map.find v0\n",
      "            let v17 : int32 = [ US2_0, 0; US2_1, 1; US2_2, 2; US2_3, 3; US2_4, 4 ] |> Map |> Map.find v13\n",
      "            let v18 : bool = v16 >= v17\n",
      "            v18\n",
      "    if v19 then\n",
      "        let v20 : int64 = v3.l0\n",
      "        let v21 : int64 = v20 + 1L\n",
      "        v3.l0 <- v21\n",
      "        let v22 : string = $\"%s{v1 ()}\"\n",
      "        let v23 : unit option = None\n",
      "        let v24 : bool = true in let mutable _v23 = v23\n",
      "        #if FABLE_COMPILER_RUST && !WASM && !CONTRACT\n",
      "        let v25 : string = @\"println!(\"\"{}\"\", $0)\"\n",
      "        Fable.Core.RustInterop.emitRustExpr v22 v25\n",
      "        ()\n",
      "#endif\n",
      "        #if FABLE_COMPILER_RUST && WASM\n",
      "        let v26 : string = @\"println!(\"\"{}\"\", $0)\"\n",
      "        Fable.Core.RustInterop.emitRustExpr v22 v26\n",
      "        ()\n",
      "#endif\n",
      "        #if FABLE_COMPILER_RUST && CONTRACT\n",
      "        let v27 : string = @\"println!(\"\"{}\"\", $0)\"\n",
      "        Fable.Core.RustInterop.emitRustExpr v22 v27\n",
      "        ()\n",
      "#endif\n",
      "        #if !FABLE_COMPILER && !FABLE_COMPILER_RUST && !FABLE_COMPILER_TYPESCRIPT && !WASM && !CONTRACT\n",
      "        System.Console.WriteLine v22 \n",
      "        ()\n",
      "#endif\n",
      "        #if FABLE_COMPILER_TYPESCRIPT\n",
      "        System.Console.WriteLine v22 \n",
      "        ()\n",
      "#endif\n",
      "        #if FABLE_COMPILER_PYTHON || FABLE_COMPILER_PHP || FABLE_COMPILER_DART\n",
      "        Unchecked.defaultof<unit>\n",
      "        ()\n",
      "#endif\n",
      "        |> fun x -> _v23 <- Some x\n",
      "        _v23.Value\n",
      "        let v28 : (string -> unit) = v7.l0\n",
      "        v28 v22\n",
      "and method2 (v0 : US2, v1 : (unit -> string), v2 : (unit -> string)) : unit =\n",
      "    let v3 : (unit -> string) = closure6(v0, v1, v2)\n",
      "    method7(v0, v3)\n",
      "and closure2 (v0 : int32) (v1 : exn) : US1 =\n",
      "    let v2 : US2 = US2_3\n",
      "    let v3 : (unit -> string) = closure3()\n",
      "    let v4 : (unit -> string) = closure4(v0, v1)\n",
      "    method2(v2, v3, v4)\n",
      "    let v5 : unit option = None\n",
      "    let v6 : bool = true in let mutable _v5 = v5\n",
      "    #if FABLE_COMPILER_RUST && !WASM && !CONTRACT\n",
      "    ()\n",
      "#endif\n",
      "    #if FABLE_COMPILER_RUST && WASM\n",
      "    ()\n",
      "#endif\n",
      "    #if FABLE_COMPILER_RUST && CONTRACT\n",
      "    ()\n",
      "#endif\n",
      "    #if !FABLE_COMPILER && !FABLE_COMPILER_RUST && !FABLE_COMPILER_TYPESCRIPT && !WASM && !CONTRACT\n",
      "    let v7 : (int32 -> unit) = System.Threading.Thread.Sleep\n",
      "    v7 1\n",
      "    ()\n",
      "#endif\n",
      "    #if FABLE_COMPILER_TYPESCRIPT\n",
      "    ()\n",
      "#endif\n",
      "    #if FABLE_COMPILER_PYTHON || FABLE_COMPILER_PHP || FABLE_COMPILER_DART\n",
      "    Unchecked.defaultof<unit>\n",
      "    ()\n",
      "#endif\n",
      "    |> fun x -> _v5 <- Some x\n",
      "    _v5.Value\n",
      "    US1_1\n",
      "and method1 (v0 : Mut0, v1 : int32) : US0 =\n",
      "    let v2 : (unit -> US0) = closure0(v0, v1)\n",
      "    let v3 : (US0 -> US1) = closure1()\n",
      "    let v4 : (exn -> US1) = closure2(v1)\n",
      "    let v5 : US1 = try v2 () |> v3 with ex -> v4 ex \n",
      "    match v5 with\n",
      "    | US1_1 -> (* None *)\n",
      "        let v7 : int32 = v1 + 1\n",
      "        method1(v0, v7)\n",
      "    | US1_0(v6) -> (* Some *)\n",
      "        v6\n",
      "and method8 (v0 : bool) : bool =\n",
      "    v0\n",
      "and method0 () : unit =\n",
      "    let v0 : Mut0 = {l0 = 0} : Mut0\n",
      "    let v1 : int32 = 0\n",
      "    let v2 : US0 = method1(v0, v1)\n",
      "    let v3 : string = $\"%A{v2}\"\n",
      "    System.Console.WriteLine v3\n",
      "    let v7 : bool =\n",
      "        match v2 with\n",
      "        | US0_0(v5) -> (* Some *)\n",
      "            let v6 : bool = v5 = 2\n",
      "            v6\n",
      "        | _ ->\n",
      "            false\n",
      "    let v9 : bool =\n",
      "        if v7 then\n",
      "            true\n",
      "        else\n",
      "            method8(v7)\n",
      "    let v10 : US0 = US0_0(2)\n",
      "    let v11 : string = $\"__expect / actual: %A{v2} / expected: %A{v10}\"\n",
      "    let v12 : bool = v9 = false\n",
      "    if v12 then\n",
      "        failwith<unit> v11\n",
      "method0()\n",
      "\r\n",
      "00:00:00 warning #1 retry_fn / retry: 0 / ex: System.Exception: test\r\n",
      "   at FSI_0045.closure0(Mut0 v0, Int32 v1, Unit unitVar2)\r\n",
      "   at FSI_0045.method1(Mut0 v0, Int32 v1)\r\n",
      "00:00:00 warning #2 retry_fn / retry: 1 / ex: System.Exception: test\r\n",
      "   at FSI_0045.closure0(Mut0 v0, Int32 v1, Unit unitVar2)\r\n",
      "   at FSI_0045.method1(Mut0 v0, Int32 v1)\r\n",
      "US0_0 2\r\n"
     ]
    }
   ],
   "source": [
    "// // test\n",
    "\n",
    "inl retry_fn_test = mut 0i32\n",
    "fun () =>\n",
    "    if *retry_fn_test >= 2\n",
    "    then *retry_fn_test\n",
    "    else\n",
    "        retry_fn_test <- *retry_fn_test + 1\n",
    "        failwith \"test\"\n",
    "|> retry_fn 3i32\n",
    "|> _assert_eq (Some 2i32)"
   ]
  },
  {
   "cell_type": "markdown",
   "metadata": {},
   "source": [
    "## main"
   ]
  },
  {
   "cell_type": "code",
   "execution_count": null,
   "metadata": {
    "dotnet_interactive": {
     "language": "spiral"
    },
    "polyglot_notebook": {
     "kernelName": "spiral"
    }
   },
   "outputs": [
    {
     "name": "stdout",
     "output_type": "stream",
     "text": [
      "#if FABLE_COMPILER // common.types\n",
      "[<Fable.Core.Erase; Fable.Core.Emit(\"Func0<$0>\")>] type Func0<'T> = class end\n",
      "[<Fable.Core.Erase; Fable.Core.Emit(\"Func1<$0, $1>\")>] type Func0<'T, 'U> = class end\n",
      "[<Fable.Core.Erase; Fable.Core.Emit(\"Box<$0>\")>] type Box<'T> = class end\n",
      "[<Fable.Core.Erase; Fable.Core.Emit(\"dyn $0\")>] type Dyn<'T> = class end\n",
      "[<Fable.Core.Erase; Fable.Core.Emit(\"$0 + Send\")>] type Send<'T> = class end\n",
      "[<Fable.Core.Erase; Fable.Core.Emit(\"Fn() -> $0\")>] type Fn<'T> = class end\n",
      "[<Fable.Core.Erase; Fable.Core.Emit(\"Fn()\")>] type FnUnit = class end\n",
      "[<Fable.Core.Erase; Fable.Core.Emit(\"FnOnce() -> $0\")>] type FnOnce<'T> = class end\n",
      "[<Fable.Core.Erase; Fable.Core.Emit(\"Fn($0)\")>] type ActionFn<'T> = class end\n",
      "[<Fable.Core.Erase; Fable.Core.Emit(\"Fn($0, $1)\")>] type ActionFn2<'T, 'U> = class end\n",
      "[<Fable.Core.Erase; Fable.Core.Emit(\"impl $0\")>] type Impl<'T> = class end\n",
      "[<Fable.Core.Erase; Fable.Core.Emit(\"mut $0\")>] type Mut<'T> = class end\n",
      "[<Fable.Core.Erase; Fable.Core.Emit(\"&$0\")>] type Ref<'T> = class end\n",
      "[<Fable.Core.Erase; Fable.Core.Emit(\"&'static $0\")>] type StaticRef<'T> = class end\n",
      "[<Fable.Core.Erase; Fable.Core.Emit(\"MutCell<$0>\")>] type MutCell<'T> = class end\n",
      "[<Fable.Core.Erase; Fable.Core.Emit(\"std::any::Any\")>] type std_any_Any = class end\n",
      "[<Fable.Core.Erase; Fable.Core.Emit(\"std::cell::RefCell<$0>\")>] type std_cell_RefCell<'T> = class end\n",
      "[<Fable.Core.Erase; Fable.Core.Emit(\"std::pin::Pin<$0>\")>] type std_pin_Pin<'T> = class end\n",
      "[<Fable.Core.Erase; Fable.Core.Emit(\"std::rc::Rc<$0>\")>] type std_rc_Rc<'T> = class end\n",
      "[<Fable.Core.Erase; Fable.Core.Emit(\"std::rc::Weak<$0>\")>] type std_rc_Weak<'T> = class end\n",
      "[<Fable.Core.Erase; Fable.Core.Emit(\"std::sync::Arc<$0>\")>] type std_sync_Arc<'T> = class end\n",
      "[<Fable.Core.Erase; Fable.Core.Emit(\"str\")>] type Str = class end\n",
      "[<Fable.Core.Erase; Fable.Core.Emit(\"base64::DecodeError\")>] type base64_DecodeError = class end\n",
      "[<Fable.Core.Erase; Fable.Core.Emit(\"borsh::io::Error\")>] type borsh_io_Error = class end\n",
      "[<Fable.Core.Erase; Fable.Core.Emit(\"js_sys::JsString\")>] type js_sys_JsString = class end\n",
      "[<Fable.Core.Erase; Fable.Core.Emit(\"serde_json::Error\")>] type serde_json_Error = class end\n",
      "[<Fable.Core.Erase; Fable.Core.Emit(\"serde_json::Value\")>] type serde_json_Value = class end\n",
      "[<Fable.Core.Erase; Fable.Core.Emit(\"serde_wasm_bindgen::Error\")>] type serde_wasm_bindgen_Error = class end\n",
      "[<Fable.Core.Erase; Fable.Core.Emit(\"std::ffi::OsStr\")>] type std_ffi_OsStr = class end\n",
      "[<Fable.Core.Erase; Fable.Core.Emit(\"std::ffi::OsString\")>] type std_ffi_OsString = class end\n",
      "[<Fable.Core.Erase; Fable.Core.Emit(\"std::str::Utf8Error\")>] type std_str_Utf8Error = class end\n",
      "[<Fable.Core.Erase; Fable.Core.Emit(\"std::string::String\")>] type std_string_String = class end\n",
      "#endif // common.types\n",
      "module State = let mutable trace_state = None\n",
      "type Mut0 = {mutable l0 : int64}\n",
      "and Mut1 = {mutable l0 : bool}\n",
      "and [<Struct>] US0 =\n",
      "    | US0_0\n",
      "    | US0_1\n",
      "    | US0_2\n",
      "    | US0_3\n",
      "    | US0_4\n",
      "and Mut2 = {mutable l0 : US0}\n",
      "and Mut3 = {mutable l0 : (string -> unit)}\n",
      "and [<Struct>] US1 =\n",
      "    | US1_0 of f0_0 : int64\n",
      "    | US1_1\n",
      "and [<Struct>] US2 =\n",
      "    | US2_0\n",
      "    | US2_1\n",
      "and [<Struct>] US3 =\n",
      "    | US3_0 of f0_0 : US2\n",
      "    | US3_1\n",
      "and [<Struct>] US4 =\n",
      "    | US4_0 of f0_0 : int64\n",
      "    | US4_1\n",
      "let rec closure1 () (v0 : string) : unit =\n",
      "    ()\n",
      "and method0 (v0 : int64 option) : int64 option =\n",
      "    v0\n",
      "and method1 (v0 : int64 option) : int64 option =\n",
      "    v0\n",
      "and closure0 () () : struct (Mut0 * Mut1 * Mut2 * int64 option * Mut3) =\n",
      "    let v0 : Mut1 = {l0 = true} : Mut1\n",
      "    let v1 : Mut0 = {l0 = 0L} : Mut0\n",
      "    let v2 : US0 = US0_0\n",
      "    let v3 : Mut2 = {l0 = v2} : Mut2\n",
      "    let v4 : (string -> unit) = closure1()\n",
      "    let v5 : Mut3 = {l0 = v4} : Mut3\n",
      "    let v6 : int64 option option = None\n",
      "    let mutable _v6 = v6\n",
      "    #if INTERACTIVE || !FABLE_COMPILER\n",
      "    let v7 : string option = None\n",
      "    let v8 : bool = true in let mutable _v7 = v7\n",
      "    #if FABLE_COMPILER_RUST && !WASM && !CONTRACT\n",
      "    let v9 : string = null |> unbox<string>\n",
      "    v9\n",
      "#endif\n",
      "    #if FABLE_COMPILER_RUST && WASM\n",
      "    let v10 : string = null |> unbox<string>\n",
      "    v10\n",
      "#endif\n",
      "    #if FABLE_COMPILER_RUST && CONTRACT\n",
      "    let v11 : string = null |> unbox<string>\n",
      "    v11\n",
      "#endif\n",
      "    #if !FABLE_COMPILER && !FABLE_COMPILER_RUST && !FABLE_COMPILER_TYPESCRIPT && !WASM && !CONTRACT\n",
      "    let v12 : string = System.Reflection.Assembly.GetEntryAssembly().GetName().Name\n",
      "    v12\n",
      "#endif\n",
      "    #if FABLE_COMPILER_TYPESCRIPT\n",
      "    let v13 : string = null |> unbox<string>\n",
      "    v13\n",
      "#endif\n",
      "    #if FABLE_COMPILER_PYTHON || FABLE_COMPILER_PHP || FABLE_COMPILER_DART\n",
      "    let v14 : string = Unchecked.defaultof<string>\n",
      "    v14\n",
      "#endif\n",
      "    |> fun x -> _v7 <- Some x\n",
      "    let v15 : string = _v7.Value\n",
      "    let v17 : bool = v15 = \"Microsoft.DotNet.Interactive.App\"\n",
      "    let v18 : bool = v17 <> true\n",
      "    let v24 : US1 =\n",
      "        if v18 then\n",
      "            let v19 : System.DateTime = System.DateTime.Now\n",
      "            let v20 : (System.DateTime -> int64) = _.Ticks\n",
      "            let v21 : int64 = v20 v19\n",
      "            US1_0(v21)\n",
      "        else\n",
      "            US1_1\n",
      "    let v29 : int64 option =\n",
      "        match v24 with\n",
      "        | US1_1 -> (* None *)\n",
      "            let v27 : int64 option = None\n",
      "            v27\n",
      "        | US1_0(v25) -> (* Some *)\n",
      "            let v26 : int64 option = Some v25 \n",
      "            v26\n",
      "    let v30 : int64 option = method0(v29)\n",
      "    v30 \n",
      "    #else\n",
      "    let v31 : int64 option = None\n",
      "    let v32 : int64 option = method1(v31)\n",
      "    v32 \n",
      "    #endif\n",
      "    |> fun x -> _v6 <- Some x\n",
      "    let v33 : int64 option = _v6.Value\n",
      "    struct (v1, v0, v3, v33, v5)\n",
      "and closure2 () (v0 : (unit -> unit)) : System.IDisposable =\n",
      "    let v1 : System.IDisposable option = None\n",
      "    let v2 : bool = true in let mutable _v1 = v1\n",
      "    #if FABLE_COMPILER_RUST && !WASM && !CONTRACT\n",
      "    let v3 : System.IDisposable = null |> unbox<System.IDisposable>\n",
      "    v3\n",
      "#endif\n",
      "    #if FABLE_COMPILER_RUST && WASM\n",
      "    let v4 : System.IDisposable = null |> unbox<System.IDisposable>\n",
      "    v4\n",
      "#endif\n",
      "    #if FABLE_COMPILER_RUST && CONTRACT\n",
      "    let v5 : System.IDisposable = null |> unbox<System.IDisposable>\n",
      "    v5\n",
      "#endif\n",
      "    #if !FABLE_COMPILER && !FABLE_COMPILER_RUST && !FABLE_COMPILER_TYPESCRIPT && !WASM && !CONTRACT\n",
      "    let v6 : System.IDisposable = { new System.IDisposable with member _.Dispose () = v0 () }\n",
      "    v6\n",
      "#endif\n",
      "    #if FABLE_COMPILER_TYPESCRIPT\n",
      "    let v7 : System.IDisposable = null |> unbox<System.IDisposable>\n",
      "    v7\n",
      "#endif\n",
      "    #if FABLE_COMPILER_PYTHON || FABLE_COMPILER_PHP || FABLE_COMPILER_DART\n",
      "    let v8 : System.IDisposable = Unchecked.defaultof<System.IDisposable>\n",
      "    v8\n",
      "#endif\n",
      "    |> fun x -> _v1 <- Some x\n",
      "    let v9 : System.IDisposable = _v1.Value\n",
      "    v9\n",
      "and closure5 (v0 : int32, v1 : (unit -> unit), v2 : int32) () : US2 =\n",
      "    let v3 : bool = v2 < v0\n",
      "    if v3 then\n",
      "        v1 ()\n",
      "        US2_0\n",
      "    else\n",
      "        US2_1\n",
      "and closure6 () (v0 : US2) : US3 =\n",
      "    US3_0(v0)\n",
      "and closure8 () () : string =\n",
      "    let v0 : string = \"retry_fn\"\n",
      "    v0\n",
      "and closure10 () () : string =\n",
      "    let v0 : string = \"\"\n",
      "    v0\n",
      "and closure9 (v0 : int32, v1 : exn) () : string =\n",
      "    let v2 : (unit -> string) = closure10()\n",
      "    let v3 : string = $\"retry: {v0} / ex: %A{v1} / {v2 ()}\"\n",
      "    v3\n",
      "and closure12 () (v0 : int64) : US4 =\n",
      "    US4_0(v0)\n",
      "and method4 () : (int64 -> US4) =\n",
      "    closure12()\n",
      "and method5 () : string =\n",
      "    let v0 : string = \"\"\n",
      "    v0\n",
      "and closure11 (v0 : US0, v1 : (unit -> string), v2 : (unit -> string)) () : string =\n",
      "    let v3 : (unit -> struct (Mut0 * Mut1 * Mut2 * int64 option * Mut3)) = closure0()\n",
      "    if State.trace_state.IsNone then State.trace_state <- v3 () |> Some\n",
      "    let struct (v4 : Mut0, v5 : Mut1, v6 : Mut2, v7 : int64 option, v8 : Mut3) = State.trace_state.Value\n",
      "    let v9 : string option = None\n",
      "    let v10 : bool = true in let mutable _v9 = v9\n",
      "    #if FABLE_COMPILER_RUST && !WASM && !CONTRACT\n",
      "    let v11 : (int64 -> US4) = method4()\n",
      "    let v12 : US4 = US4_1\n",
      "    let v13 : US4 = v7 |> Option.map v11 |> Option.defaultValue v12 \n",
      "    let v31 : System.DateTime =\n",
      "        match v13 with\n",
      "        | US4_1 -> (* None *)\n",
      "            let v29 : System.DateTime = System.DateTime.Now\n",
      "            v29\n",
      "        | US4_0(v14) -> (* Some *)\n",
      "            let v15 : System.DateTime = System.DateTime.Now\n",
      "            let v16 : (System.DateTime -> int64) = _.Ticks\n",
      "            let v17 : int64 = v16 v15\n",
      "            let v18 : int64 = v17 - v14\n",
      "            let v19 : System.TimeSpan = System.TimeSpan v18 \n",
      "            let v20 : (System.TimeSpan -> int32) = _.Hours\n",
      "            let v21 : int32 = v20 v19\n",
      "            let v22 : (System.TimeSpan -> int32) = _.Minutes\n",
      "            let v23 : int32 = v22 v19\n",
      "            let v24 : (System.TimeSpan -> int32) = _.Seconds\n",
      "            let v25 : int32 = v24 v19\n",
      "            let v26 : (System.TimeSpan -> int32) = _.Milliseconds\n",
      "            let v27 : int32 = v26 v19\n",
      "            let v28 : System.DateTime = System.DateTime (1, 1, 1, v21, v23, v25, v27)\n",
      "            v28\n",
      "    let v32 : string = \"hh:mm:ss\"\n",
      "    let v33 : string = v31.ToString v32 \n",
      "    v33\n",
      "#endif\n",
      "    #if FABLE_COMPILER_RUST && WASM\n",
      "    let v34 : string = method5()\n",
      "    v34\n",
      "#endif\n",
      "    #if FABLE_COMPILER_RUST && CONTRACT\n",
      "    let v35 : string = method5()\n",
      "    v35\n",
      "#endif\n",
      "    #if !FABLE_COMPILER && !FABLE_COMPILER_RUST && !FABLE_COMPILER_TYPESCRIPT && !WASM && !CONTRACT\n",
      "    let v36 : (int64 -> US4) = method4()\n",
      "    let v37 : US4 = US4_1\n",
      "    let v38 : US4 = v7 |> Option.map v36 |> Option.defaultValue v37 \n",
      "    let v56 : System.DateTime =\n",
      "        match v38 with\n",
      "        | US4_1 -> (* None *)\n",
      "            let v54 : System.DateTime = System.DateTime.Now\n",
      "            v54\n",
      "        | US4_0(v39) -> (* Some *)\n",
      "            let v40 : System.DateTime = System.DateTime.Now\n",
      "            let v41 : (System.DateTime -> int64) = _.Ticks\n",
      "            let v42 : int64 = v41 v40\n",
      "            let v43 : int64 = v42 - v39\n",
      "            let v44 : System.TimeSpan = System.TimeSpan v43 \n",
      "            let v45 : (System.TimeSpan -> int32) = _.Hours\n",
      "            let v46 : int32 = v45 v44\n",
      "            let v47 : (System.TimeSpan -> int32) = _.Minutes\n",
      "            let v48 : int32 = v47 v44\n",
      "            let v49 : (System.TimeSpan -> int32) = _.Seconds\n",
      "            let v50 : int32 = v49 v44\n",
      "            let v51 : (System.TimeSpan -> int32) = _.Milliseconds\n",
      "            let v52 : int32 = v51 v44\n",
      "            let v53 : System.DateTime = System.DateTime (1, 1, 1, v46, v48, v50, v52)\n",
      "            v53\n",
      "    let v57 : string = \"HH:mm:ss\"\n",
      "    let v58 : string = v56.ToString v57 \n",
      "    v58\n",
      "#endif\n",
      "    #if FABLE_COMPILER_TYPESCRIPT\n",
      "    let v59 : string = method5()\n",
      "    v59\n",
      "#endif\n",
      "    #if FABLE_COMPILER_PYTHON || FABLE_COMPILER_PHP || FABLE_COMPILER_DART\n",
      "    let v60 : string = Unchecked.defaultof<string>\n",
      "    v60\n",
      "#endif\n",
      "    |> fun x -> _v9 <- Some x\n",
      "    let v61 : string = _v9.Value\n",
      "    let v62 : int64 = v4.l0\n",
      "    let v72 : string =\n",
      "        match v0 with\n",
      "        | US0_4 -> (* Critical *)\n",
      "            let v67 : string = \"Critical\"\n",
      "            v67\n",
      "        | US0_1 -> (* Debug *)\n",
      "            let v64 : string = \"Debug\"\n",
      "            v64\n",
      "        | US0_2 -> (* Info *)\n",
      "            let v65 : string = \"Info\"\n",
      "            v65\n",
      "        | US0_0 -> (* Verbose *)\n",
      "            let v63 : string = \"Verbose\"\n",
      "            v63\n",
      "        | US0_3 -> (* Warning *)\n",
      "            let v66 : string = \"Warning\"\n",
      "            v66\n",
      "    let v73 : string = v72.ToLower ()\n",
      "    let v74 : string option = None\n",
      "    let v75 : bool = true in let mutable _v74 = v74\n",
      "    #if FABLE_COMPILER_RUST && !WASM && !CONTRACT\n",
      "    let v90 : Ref<Str> =\n",
      "        match v0 with\n",
      "        | US0_4 -> (* Critical *)\n",
      "            let v84 : string = \"inline_colorization::color_bright_red\"\n",
      "            let v85 : Ref<Str> = Fable.Core.RustInterop.emitRustExpr () v84\n",
      "            v85\n",
      "        | US0_1 -> (* Debug *)\n",
      "            let v78 : string = \"inline_colorization::color_bright_blue\"\n",
      "            let v79 : Ref<Str> = Fable.Core.RustInterop.emitRustExpr () v78\n",
      "            v79\n",
      "        | US0_2 -> (* Info *)\n",
      "            let v80 : string = \"inline_colorization::color_bright_green\"\n",
      "            let v81 : Ref<Str> = Fable.Core.RustInterop.emitRustExpr () v80\n",
      "            v81\n",
      "        | US0_0 -> (* Verbose *)\n",
      "            let v76 : string = \"inline_colorization::color_bright_black\"\n",
      "            let v77 : Ref<Str> = Fable.Core.RustInterop.emitRustExpr () v76\n",
      "            v77\n",
      "        | US0_3 -> (* Warning *)\n",
      "            let v82 : string = \"inline_colorization::color_bright_yellow\"\n",
      "            let v83 : Ref<Str> = Fable.Core.RustInterop.emitRustExpr () v82\n",
      "            v83\n",
      "    let v91 : string = \"fable_library_rust::String_::LrcStr::as_str(&$0)\"\n",
      "    let v92 : Ref<Str> = Fable.Core.RustInterop.emitRustExpr v73 v91\n",
      "    let v93 : string = \"inline_colorization::color_reset\"\n",
      "    let v94 : Ref<Str> = Fable.Core.RustInterop.emitRustExpr () v93\n",
      "    let v95 : string = \"\\\"{v90}{v92}{v94}\\\"\"\n",
      "    let v96 : string = @$\"format!(\" + v95 + \")\"\n",
      "    let v97 : std_string_String = Fable.Core.RustInterop.emitRustExpr () v96\n",
      "    let v98 : string = \"fable_library_rust::String_::fromString($0)\"\n",
      "    let v99 : string = Fable.Core.RustInterop.emitRustExpr v97 v98\n",
      "    v99\n",
      "#endif\n",
      "    #if FABLE_COMPILER_RUST && WASM\n",
      "    let v114 : Ref<Str> =\n",
      "        match v0 with\n",
      "        | US0_4 -> (* Critical *)\n",
      "            let v108 : string = \"inline_colorization::color_bright_red\"\n",
      "            let v109 : Ref<Str> = Fable.Core.RustInterop.emitRustExpr () v108\n",
      "            v109\n",
      "        | US0_1 -> (* Debug *)\n",
      "            let v102 : string = \"inline_colorization::color_bright_blue\"\n",
      "            let v103 : Ref<Str> = Fable.Core.RustInterop.emitRustExpr () v102\n",
      "            v103\n",
      "        | US0_2 -> (* Info *)\n",
      "            let v104 : string = \"inline_colorization::color_bright_green\"\n",
      "            let v105 : Ref<Str> = Fable.Core.RustInterop.emitRustExpr () v104\n",
      "            v105\n",
      "        | US0_0 -> (* Verbose *)\n",
      "            let v100 : string = \"inline_colorization::color_bright_black\"\n",
      "            let v101 : Ref<Str> = Fable.Core.RustInterop.emitRustExpr () v100\n",
      "            v101\n",
      "        | US0_3 -> (* Warning *)\n",
      "            let v106 : string = \"inline_colorization::color_bright_yellow\"\n",
      "            let v107 : Ref<Str> = Fable.Core.RustInterop.emitRustExpr () v106\n",
      "            v107\n",
      "    let v115 : string = \"fable_library_rust::String_::LrcStr::as_str(&$0)\"\n",
      "    let v116 : Ref<Str> = Fable.Core.RustInterop.emitRustExpr v73 v115\n",
      "    let v117 : string = \"inline_colorization::color_reset\"\n",
      "    let v118 : Ref<Str> = Fable.Core.RustInterop.emitRustExpr () v117\n",
      "    let v119 : string = \"\\\"{v114}{v116}{v118}\\\"\"\n",
      "    let v120 : string = @$\"format!(\" + v119 + \")\"\n",
      "    let v121 : std_string_String = Fable.Core.RustInterop.emitRustExpr () v120\n",
      "    let v122 : string = \"fable_library_rust::String_::fromString($0)\"\n",
      "    let v123 : string = Fable.Core.RustInterop.emitRustExpr v121 v122\n",
      "    v123\n",
      "#endif\n",
      "    #if FABLE_COMPILER_RUST && CONTRACT\n",
      "    let v138 : Ref<Str> =\n",
      "        match v0 with\n",
      "        | US0_4 -> (* Critical *)\n",
      "            let v132 : string = \"inline_colorization::color_bright_red\"\n",
      "            let v133 : Ref<Str> = Fable.Core.RustInterop.emitRustExpr () v132\n",
      "            v133\n",
      "        | US0_1 -> (* Debug *)\n",
      "            let v126 : string = \"inline_colorization::color_bright_blue\"\n",
      "            let v127 : Ref<Str> = Fable.Core.RustInterop.emitRustExpr () v126\n",
      "            v127\n",
      "        | US0_2 -> (* Info *)\n",
      "            let v128 : string = \"inline_colorization::color_bright_green\"\n",
      "            let v129 : Ref<Str> = Fable.Core.RustInterop.emitRustExpr () v128\n",
      "            v129\n",
      "        | US0_0 -> (* Verbose *)\n",
      "            let v124 : string = \"inline_colorization::color_bright_black\"\n",
      "            let v125 : Ref<Str> = Fable.Core.RustInterop.emitRustExpr () v124\n",
      "            v125\n",
      "        | US0_3 -> (* Warning *)\n",
      "            let v130 : string = \"inline_colorization::color_bright_yellow\"\n",
      "            let v131 : Ref<Str> = Fable.Core.RustInterop.emitRustExpr () v130\n",
      "            v131\n",
      "    let v139 : string = \"fable_library_rust::String_::LrcStr::as_str(&$0)\"\n",
      "    let v140 : Ref<Str> = Fable.Core.RustInterop.emitRustExpr v73 v139\n",
      "    let v141 : string = \"inline_colorization::color_reset\"\n",
      "    let v142 : Ref<Str> = Fable.Core.RustInterop.emitRustExpr () v141\n",
      "    let v143 : string = \"\\\"{v138}{v140}{v142}\\\"\"\n",
      "    let v144 : string = @$\"format!(\" + v143 + \")\"\n",
      "    let v145 : std_string_String = Fable.Core.RustInterop.emitRustExpr () v144\n",
      "    let v146 : string = \"fable_library_rust::String_::fromString($0)\"\n",
      "    let v147 : string = Fable.Core.RustInterop.emitRustExpr v145 v146\n",
      "    v147\n",
      "#endif\n",
      "    #if !FABLE_COMPILER && !FABLE_COMPILER_RUST && !FABLE_COMPILER_TYPESCRIPT && !WASM && !CONTRACT\n",
      "    v73\n",
      "#endif\n",
      "    #if FABLE_COMPILER_TYPESCRIPT\n",
      "    v73\n",
      "#endif\n",
      "    #if FABLE_COMPILER_PYTHON || FABLE_COMPILER_PHP || FABLE_COMPILER_DART\n",
      "    let v148 : string = Unchecked.defaultof<string>\n",
      "    v148\n",
      "#endif\n",
      "    |> fun x -> _v74 <- Some x\n",
      "    let v149 : string = _v74.Value\n",
      "    let v150 : string = $\"{v61} {v149} #{v62} %s{v1 ()} / %s{v2 ()}\"\n",
      "    let v151 : (char []) = [||]\n",
      "    let v152 : string = v150.TrimStart v151\n",
      "    let v153 : (char []) = [|' '; '/'|]\n",
      "    let v154 : string = v152.TrimEnd v153\n",
      "    v154\n",
      "and method6 (v0 : US0, v1 : (unit -> string)) : unit =\n",
      "    let v2 : (unit -> struct (Mut0 * Mut1 * Mut2 * int64 option * Mut3)) = closure0()\n",
      "    if State.trace_state.IsNone then State.trace_state <- v2 () |> Some\n",
      "    let struct (v3 : Mut0, v4 : Mut1, v5 : Mut2, v6 : int64 option, v7 : Mut3) = State.trace_state.Value\n",
      "    if State.trace_state.IsNone then State.trace_state <- v2 () |> Some\n",
      "    let struct (v8 : Mut0, v9 : Mut1, v10 : Mut2, v11 : int64 option, v12 : Mut3) = State.trace_state.Value\n",
      "    let v13 : US0 = v10.l0\n",
      "    let v14 : bool = v9.l0\n",
      "    let v15 : bool = v14 = false\n",
      "    let v19 : bool =\n",
      "        if v15 then\n",
      "            false\n",
      "        else\n",
      "            let v16 : int32 = [ US0_0, 0; US0_1, 1; US0_2, 2; US0_3, 3; US0_4, 4 ] |> Map |> Map.find v0\n",
      "            let v17 : int32 = [ US0_0, 0; US0_1, 1; US0_2, 2; US0_3, 3; US0_4, 4 ] |> Map |> Map.find v13\n",
      "            let v18 : bool = v16 >= v17\n",
      "            v18\n",
      "    if v19 then\n",
      "        let v20 : int64 = v3.l0\n",
      "        let v21 : int64 = v20 + 1L\n",
      "        v3.l0 <- v21\n",
      "        let v22 : string = $\"%s{v1 ()}\"\n",
      "        let v23 : unit option = None\n",
      "        let v24 : bool = true in let mutable _v23 = v23\n",
      "        #if FABLE_COMPILER_RUST && !WASM && !CONTRACT\n",
      "        let v25 : string = @\"println!(\"\"{}\"\", $0)\"\n",
      "        Fable.Core.RustInterop.emitRustExpr v22 v25\n",
      "        ()\n",
      "#endif\n",
      "        #if FABLE_COMPILER_RUST && WASM\n",
      "        let v26 : string = @\"println!(\"\"{}\"\", $0)\"\n",
      "        Fable.Core.RustInterop.emitRustExpr v22 v26\n",
      "        ()\n",
      "#endif\n",
      "        #if FABLE_COMPILER_RUST && CONTRACT\n",
      "        let v27 : string = @\"println!(\"\"{}\"\", $0)\"\n",
      "        Fable.Core.RustInterop.emitRustExpr v22 v27\n",
      "        ()\n",
      "#endif\n",
      "        #if !FABLE_COMPILER && !FABLE_COMPILER_RUST && !FABLE_COMPILER_TYPESCRIPT && !WASM && !CONTRACT\n",
      "        System.Console.WriteLine v22 \n",
      "        ()\n",
      "#endif\n",
      "        #if FABLE_COMPILER_TYPESCRIPT\n",
      "        System.Console.WriteLine v22 \n",
      "        ()\n",
      "#endif\n",
      "        #if FABLE_COMPILER_PYTHON || FABLE_COMPILER_PHP || FABLE_COMPILER_DART\n",
      "        Unchecked.defaultof<unit>\n",
      "        ()\n",
      "#endif\n",
      "        |> fun x -> _v23 <- Some x\n",
      "        _v23.Value\n",
      "        let v28 : (string -> unit) = v7.l0\n",
      "        v28 v22\n",
      "and method3 (v0 : US0, v1 : (unit -> string), v2 : (unit -> string)) : unit =\n",
      "    let v3 : (unit -> string) = closure11(v0, v1, v2)\n",
      "    method6(v0, v3)\n",
      "and closure7 (v0 : int32) (v1 : exn) : US3 =\n",
      "    let v2 : US0 = US0_3\n",
      "    let v3 : (unit -> string) = closure8()\n",
      "    let v4 : (unit -> string) = closure9(v0, v1)\n",
      "    method3(v2, v3, v4)\n",
      "    let v5 : unit option = None\n",
      "    let v6 : bool = true in let mutable _v5 = v5\n",
      "    #if FABLE_COMPILER_RUST && !WASM && !CONTRACT\n",
      "    ()\n",
      "#endif\n",
      "    #if FABLE_COMPILER_RUST && WASM\n",
      "    ()\n",
      "#endif\n",
      "    #if FABLE_COMPILER_RUST && CONTRACT\n",
      "    ()\n",
      "#endif\n",
      "    #if !FABLE_COMPILER && !FABLE_COMPILER_RUST && !FABLE_COMPILER_TYPESCRIPT && !WASM && !CONTRACT\n",
      "    let v7 : (int32 -> unit) = System.Threading.Thread.Sleep\n",
      "    v7 1\n",
      "    ()\n",
      "#endif\n",
      "    #if FABLE_COMPILER_TYPESCRIPT\n",
      "    ()\n",
      "#endif\n",
      "    #if FABLE_COMPILER_PYTHON || FABLE_COMPILER_PHP || FABLE_COMPILER_DART\n",
      "    Unchecked.defaultof<unit>\n",
      "    ()\n",
      "#endif\n",
      "    |> fun x -> _v5 <- Some x\n",
      "    _v5.Value\n",
      "    US3_1\n",
      "and method2 (v0 : int32, v1 : (unit -> unit), v2 : int32) : US2 =\n",
      "    let v3 : (unit -> US2) = closure5(v0, v1, v2)\n",
      "    let v4 : (US2 -> US3) = closure6()\n",
      "    let v5 : (exn -> US3) = closure7(v2)\n",
      "    let v6 : US3 = try v3 () |> v4 with ex -> v5 ex \n",
      "    match v6 with\n",
      "    | US3_1 -> (* None *)\n",
      "        let v8 : int32 = v2 + 1\n",
      "        method2(v0, v1, v8)\n",
      "    | US3_0(v7) -> (* Some *)\n",
      "        v7\n",
      "and closure4 (v0 : int32) (v1 : (unit -> unit)) : unit option =\n",
      "    let v2 : int32 = 0\n",
      "    let v3 : US2 = method2(v0, v1, v2)\n",
      "    match v3 with\n",
      "    | US2_1 -> (* None *)\n",
      "        let v5 : unit option = None\n",
      "        v5\n",
      "    | US2_0 -> (* Some *)\n",
      "        let v4 : unit option = Some () \n",
      "        v4\n",
      "and closure3 () (v0 : int32) : ((unit -> unit) -> unit option) =\n",
      "    closure4(v0)\n",
      "let v0 : (unit -> struct (Mut0 * Mut1 * Mut2 * int64 option * Mut3)) = closure0()\n",
      "if State.trace_state.IsNone then State.trace_state <- v0 () |> Some\n",
      "let v1 : ((unit -> unit) -> System.IDisposable) = closure2()\n",
      "let new_disposable x = v1 x\n",
      "let v2 : (int32 -> ((unit -> unit) -> unit option)) = closure3()\n",
      "let retry_fn x = v2 x\n",
      "()\n",
      "\r\n"
     ]
    }
   ],
   "source": [
    "inl main () =\n",
    "    types ()\n",
    "    init_trace_state ()\n",
    "    inl new_disposable x : _ () = new_disposable x\n",
    "    $\"let new_disposable x = !new_disposable x\" : ()\n",
    "\n",
    "    inl retry_fn (r : i32) (x : () -> _) : optionm'.option' () = retry_fn r x |> optionm'.box\n",
    "    $\"let retry_fn x = !retry_fn x\" : ()"
   ]
  }
 ],
 "metadata": {},
 "nbformat": 4,
 "nbformat_minor": 5
}