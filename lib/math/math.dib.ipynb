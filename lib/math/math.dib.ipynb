{
 "cells": [
  {
   "cell_type": "markdown",
   "metadata": {},
   "source": [
    "# math"
   ]
  },
  {
   "cell_type": "code",
   "execution_count": null,
   "metadata": {
    "dotnet_interactive": {
     "language": "spiral"
    },
    "polyglot_notebook": {
     "kernelName": "spiral"
    }
   },
   "outputs": [
    {
     "name": "stdout",
     "output_type": "stream",
     "text": [
      "()\n",
      "\r\n"
     ]
    }
   ],
   "source": [
    "// // test\n",
    "\n",
    "open testing\n",
    "open rust_operators"
   ]
  },
  {
   "cell_type": "code",
   "execution_count": null,
   "metadata": {
    "dotnet_interactive": {
     "language": "spiral"
    },
    "polyglot_notebook": {
     "kernelName": "spiral"
    }
   },
   "outputs": [
    {
     "name": "stdout",
     "output_type": "stream",
     "text": [
      "()\n",
      "\r\n"
     ]
    }
   ],
   "source": [
    "inl types () =\n",
    "    global \"[<Fable.Core.Erase; Fable.Core.Emit(\\\"num_complex::Complex\\\")>] type num_complex_Complex = class end\""
   ]
  },
  {
   "cell_type": "code",
   "execution_count": null,
   "metadata": {
    "dotnet_interactive": {
     "language": "spiral"
    },
    "polyglot_notebook": {
     "kernelName": "spiral"
    }
   },
   "outputs": [
    {
     "data": {
      "text/plain": [
       ".rs output:\n",
       "\n"
      ]
     },
     "metadata": {},
     "output_type": "display_data"
    },
    {
     "name": "stdout",
     "output_type": "stream",
     "text": [
      "\n",
      ".fsx:\n",
      "[<Fable.Core.Erase; Fable.Core.Emit(\"num_complex::Complex\")>] type num_complex_Complex = class end\n",
      "let rec method0 () : unit =\n",
      "    ()\n",
      "method0()\n",
      "\r\n",
      ".rs:\n",
      "#![allow(dead_code,)]\n",
      "#![allow(non_camel_case_types,)]\n",
      "#![allow(non_snake_case,)]\n",
      "#![allow(non_upper_case_globals,)]\n",
      "#![allow(unreachable_code,)]\n",
      "#![allow(unused_attributes,)]\n",
      "#![allow(unused_imports,)]\n",
      "#![allow(unused_macros,)]\n",
      "#![allow(unused_parens,)]\n",
      "#![allow(unused_variables,)]\n",
      "mod module_e32d1f60 {\n",
      "    pub mod Fs_rs {\n",
      "        use super::*;\n",
      "        use fable_library_rust::Native_::on_startup;\n",
      "        pub fn method0() { (); }\n",
      "        on_startup!(Fs_rs::method0());\n",
      "    }\n",
      "}\n",
      "pub use module_e32d1f60::*;\n",
      "\r\n"
     ]
    }
   ],
   "source": [
    "// // test\n",
    "// // rust=\n",
    "\n",
    "types ()"
   ]
  },
  {
   "cell_type": "code",
   "execution_count": null,
   "metadata": {
    "dotnet_interactive": {
     "language": "spiral"
    },
    "polyglot_notebook": {
     "kernelName": "spiral"
    }
   },
   "outputs": [
    {
     "name": "stdout",
     "output_type": "stream",
     "text": [
      "let rec method0 () : num_complex_Complex =\n",
      "    let v0 : string = \"Complex::new(0.0, 0.0)\"\n",
      "    let v1 : num_complex_Complex = Fable.Core.RustInterop.emitRustExpr () v0\n",
      "    v1\n",
      "method0()\n",
      "\r\n",
      "\n",
      "\n",
      "Stopped due to error\n"
     ]
    },
    {
     "ename": "Error",
     "evalue": "unknown (0,1)-(0,1) typecheck error The type 'num_complex_Complex' is not defined.\nunknown (0,1)-(0,1) typecheck error The type 'num_complex_Complex' is not defined.\nunknown (0,1)-(0,1) typecheck error The type 'num_complex_Complex' is not defined.\nunknown (0,1)-(0,1) typecheck error The value, namespace, type or module 'Fable' is not defined.",
     "output_type": "error",
     "traceback": [
      ""
     ]
    }
   ],
   "source": [
    "nominal complex t = $\"num_complex_Complex\"\n",
    "\n",
    "inl complex forall t. (re : t) (im : t) : complex t =\n",
    "    !\\($'\"Complex::new(!re, !im)\"')\n",
    "\n",
    "inl s = complex 0f64 0f64\n",
    "s"
   ]
  }
 ],
 "metadata": {},
 "nbformat": 4,
 "nbformat_minor": 5
}