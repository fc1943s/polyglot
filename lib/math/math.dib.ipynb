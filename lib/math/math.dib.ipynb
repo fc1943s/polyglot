{
 "cells": [
  {
   "cell_type": "markdown",
   "metadata": {},
   "source": [
    "# math"
   ]
  },
  {
   "cell_type": "code",
   "execution_count": null,
   "metadata": {
    "dotnet_interactive": {
     "language": "spiral"
    },
    "polyglot_notebook": {
     "kernelName": "spiral"
    }
   },
   "outputs": [
    {
     "name": "stdout",
     "output_type": "stream",
     "text": [
      "()\n",
      "\r\n"
     ]
    }
   ],
   "source": [
    "// // test\n",
    "\n",
    "open testing\n",
    "open rust_operators"
   ]
  },
  {
   "cell_type": "code",
   "execution_count": null,
   "metadata": {
    "dotnet_interactive": {
     "language": "spiral"
    },
    "polyglot_notebook": {
     "kernelName": "spiral"
    }
   },
   "outputs": [
    {
     "name": "stdout",
     "output_type": "stream",
     "text": [
      "()\n",
      "\r\n"
     ]
    }
   ],
   "source": [
    "inl types () =\n",
    "    global \"[<Fable.Core.Erase; Fable.Core.Emit(\\\"num_complex::Complex<$0>\\\")>] type num_complex_Complex<'T> = class end\"\n",
    "    global \"[<Fable.Core.Erase; Fable.Core.Emit(\\\"pyo3::types::PyModule\\\")>] type pyo3_types_PyModule = class end\"\n",
    "    global \"[<Fable.Core.Erase; Fable.Core.Emit(\\\"pyo3::Bound<$0>\\\")>] type pyo3_Bound<'T> = class end\"\n",
    "    global \"[<Fable.Core.Erase; Fable.Core.Emit(\\\"pyo3::Python\\\")>] type pyo3_Python = class end\"\n",
    "    global \"[<Fable.Core.Erase; Fable.Core.Emit(\\\"pyo3::PyAny\\\")>] type pyo3_PyAny = class end\"\n",
    "    global \"[<Fable.Core.Erase; Fable.Core.Emit(\\\"pyo3::PyErr\\\")>] type pyo3_PyErr = class end\""
   ]
  },
  {
   "cell_type": "code",
   "execution_count": null,
   "metadata": {
    "dotnet_interactive": {
     "language": "spiral"
    },
    "polyglot_notebook": {
     "kernelName": "spiral"
    }
   },
   "outputs": [
    {
     "name": "stdout",
     "output_type": "stream",
     "text": [
      "()\n",
      "\r\n"
     ]
    }
   ],
   "source": [
    "inl types () =\n",
    "    rust.types ()\n",
    "    sm'.types ()\n",
    "    types ()"
   ]
  },
  {
   "cell_type": "markdown",
   "metadata": {},
   "source": [
    "## complex"
   ]
  },
  {
   "cell_type": "code",
   "execution_count": null,
   "metadata": {
    "dotnet_interactive": {
     "language": "spiral"
    },
    "polyglot_notebook": {
     "kernelName": "spiral"
    }
   },
   "outputs": [
    {
     "name": "stdout",
     "output_type": "stream",
     "text": [
      "()\n",
      "\r\n"
     ]
    }
   ],
   "source": [
    "nominal complex t = $\"num_complex_Complex<`t>\"\n",
    "nominal bound t = $\"pyo3_Bound<`t>\"\n",
    "nominal python = $\"pyo3_Python\"\n",
    "nominal pymodule = $\"pyo3_types_PyModule\"\n",
    "nominal pyany = $\"pyo3_PyAny\"\n",
    "nominal pyerr = $\"pyo3_PyErr\"\n",
    "\n",
    "inl complex forall t. ((re : t), (im : t)) : complex t =\n",
    "    inl re = join re\n",
    "    inl im = join im\n",
    "    !\\($'\"num_complex::Complex::new(!re, !im)\"')"
   ]
  },
  {
   "cell_type": "code",
   "execution_count": null,
   "metadata": {
    "dotnet_interactive": {
     "language": "spiral"
    },
    "polyglot_notebook": {
     "kernelName": "spiral"
    }
   },
   "outputs": [
    {
     "data": {
      "text/plain": [
       ".rs output:\n",
       "\n"
      ]
     },
     "metadata": {},
     "output_type": "display_data"
    },
    {
     "name": "stdout",
     "output_type": "stream",
     "text": [
      "\n",
      ".fsx:\n",
      "[<Fable.Core.Erase; Fable.Core.Emit(\"Func0<$0>\")>] type Func0<'T> = class end\n",
      "[<Fable.Core.Erase; Fable.Core.Emit(\"Func1<$0, $1>\")>] type Func0<'T, 'U> = class end\n",
      "[<Fable.Core.Erase; Fable.Core.Emit(\"Box<$0>\")>] type Box<'T> = class end\n",
      "[<Fable.Core.Erase; Fable.Core.Emit(\"dyn $0\")>] type Dyn<'T> = class end\n",
      "[<Fable.Core.Erase; Fable.Core.Emit(\"Fn() -> $0\")>] type Fn<'T> = class end\n",
      "[<Fable.Core.Erase; Fable.Core.Emit(\"Fn()\")>] type FnUnit = class end\n",
      "[<Fable.Core.Erase; Fable.Core.Emit(\"FnOnce() -> $0\")>] type FnOnce<'T> = class end\n",
      "[<Fable.Core.Erase; Fable.Core.Emit(\"Fn($0, $1)\")>] type ActionFn2<'T, 'U> = class end\n",
      "[<Fable.Core.Erase; Fable.Core.Emit(\"impl $0\")>] type Impl<'T> = class end\n",
      "[<Fable.Core.Erase; Fable.Core.Emit(\"mut $0\")>] type Mut<'T> = class end\n",
      "[<Fable.Core.Erase; Fable.Core.Emit(\"&$0\")>] type Ref<'T> = class end\n",
      "[<Fable.Core.Erase; Fable.Core.Emit(\"&'static $0\")>] type StaticRef<'T> = class end\n",
      "[<Fable.Core.Erase; Fable.Core.Emit(\"MutCell<$0>\")>] type MutCell<'T> = class end\n",
      "[<Fable.Core.Erase; Fable.Core.Emit(\"std::any::Any\")>] type std_any_Any = class end\n",
      "[<Fable.Core.Erase; Fable.Core.Emit(\"std::cell::RefCell<$0>\")>] type std_cell_RefCell<'T> = class end\n",
      "[<Fable.Core.Erase; Fable.Core.Emit(\"std::pin::Pin<$0>\")>] type std_pin_Pin<'T> = class end\n",
      "[<Fable.Core.Erase; Fable.Core.Emit(\"std::rc::Rc<$0>\")>] type std_rc_Rc<'T> = class end\n",
      "[<Fable.Core.Erase; Fable.Core.Emit(\"std::rc::Weak<$0>\")>] type std_rc_Weak<'T> = class end\n",
      "[<Fable.Core.Erase; Fable.Core.Emit(\"std::sync::Arc<$0>\")>] type std_sync_Arc<'T> = class end\n",
      "[<Fable.Core.Erase; Fable.Core.Emit(\"str\")>] type Str = class end\n",
      "[<Fable.Core.Erase; Fable.Core.Emit(\"base64::DecodeError\")>] type base64_DecodeError = class end\n",
      "[<Fable.Core.Erase; Fable.Core.Emit(\"borsh::io::Error\")>] type borsh_io_Error = class end\n",
      "[<Fable.Core.Erase; Fable.Core.Emit(\"js_sys::JsString\")>] type js_sys_JsString = class end\n",
      "[<Fable.Core.Erase; Fable.Core.Emit(\"serde_json::Error\")>] type serde_json_Error = class end\n",
      "[<Fable.Core.Erase; Fable.Core.Emit(\"serde_json::Value\")>] type serde_json_Value = class end\n",
      "[<Fable.Core.Erase; Fable.Core.Emit(\"serde_wasm_bindgen::Error\")>] type serde_wasm_bindgen_Error = class end\n",
      "[<Fable.Core.Erase; Fable.Core.Emit(\"std::str::Utf8Error\")>] type std_str_Utf8Error = class end\n",
      "[<Fable.Core.Erase; Fable.Core.Emit(\"std::string::String\")>] type std_string_String = class end\n",
      "[<Fable.Core.Erase; Fable.Core.Emit(\"num_complex::Complex<$0>\")>] type num_complex_Complex<'T> = class end\n",
      "[<Fable.Core.Erase; Fable.Core.Emit(\"pyo3::types::PyModule\")>] type pyo3_types_PyModule = class end\n",
      "[<Fable.Core.Erase; Fable.Core.Emit(\"pyo3::Bound<$0>\")>] type pyo3_Bound<'T> = class end\n",
      "[<Fable.Core.Erase; Fable.Core.Emit(\"pyo3::Python\")>] type pyo3_Python = class end\n",
      "[<Fable.Core.Erase; Fable.Core.Emit(\"pyo3::PyAny\")>] type pyo3_PyAny = class end\n",
      "[<Fable.Core.Erase; Fable.Core.Emit(\"pyo3::PyErr\")>] type pyo3_PyErr = class end\n",
      "let rec method1 () : float =\n",
      "    0.0\n",
      "and method2 () : float =\n",
      "    0.0\n",
      "and method3 (v0 : std_string_String) : std_string_String =\n",
      "    v0\n",
      "and method4 (v0 : bool) : bool =\n",
      "    v0\n",
      "and method0 () : unit =\n",
      "    let v0 : float = method1()\n",
      "    let v1 : float = method2()\n",
      "    let v2 : string = \"num_complex::Complex::new(v0, v1)\"\n",
      "    let v3 : num_complex_Complex<float> = Fable.Core.RustInterop.emitRustExpr () v2\n",
      "    let v4 : string = @$\"format!(\"\"{{}}\"\", $0)\"\n",
      "    let v5 : std_string_String = Fable.Core.RustInterop.emitRustExpr v3 v4\n",
      "    let v6 : std_string_String = method3(v5)\n",
      "    let v7 : string = \"fable_library_rust::String_::fromString(v6)\"\n",
      "    let v8 : string = Fable.Core.RustInterop.emitRustExpr () v7\n",
      "    let v10 : bool = v8 = \"0+0i\"\n",
      "    let v12 : bool =\n",
      "        if v10 then\n",
      "            true\n",
      "        else\n",
      "            method4(v10)\n",
      "    let v13 : string = \"0+0i\"\n",
      "    let v14 : string = $\"__expect / actual: %A{v8} / expected: %A{v13}\"\n",
      "    let v15 : bool = v12 = false\n",
      "    if v15 then\n",
      "        failwith<unit> v14\n",
      "method0()\n",
      "\r\n",
      ".rs:\n",
      "#![allow(dead_code,)]\n",
      "#![allow(non_camel_case_types,)]\n",
      "#![allow(non_snake_case,)]\n",
      "#![allow(non_upper_case_globals,)]\n",
      "#![allow(unreachable_code,)]\n",
      "#![allow(unused_attributes,)]\n",
      "#![allow(unused_imports,)]\n",
      "#![allow(unused_macros,)]\n",
      "#![allow(unused_parens,)]\n",
      "#![allow(unused_variables,)]\n",
      "mod module_ccfa04bf {\n",
      "    pub mod Spiral_eval {\n",
      "        use super::*;\n",
      "        use fable_library_rust::Native_::on_startup;\n",
      "        use fable_library_rust::String_::sprintf;\n",
      "        use fable_library_rust::String_::string;\n",
      "        pub fn method1() -> f64 { 0.0_f64 }\n",
      "        pub fn method2() -> f64 { 0.0_f64 }\n",
      "        pub fn method3(v0: std::string::String) -> std::string::String { v0 }\n",
      "        pub fn method4(v0: bool) -> bool { v0 }\n",
      "        pub fn method0() {\n",
      "            let v0: f64 = Spiral_eval::method1();\n",
      "            let v1: f64 = Spiral_eval::method2();\n",
      "            let v3: num_complex::Complex<f64> =\n",
      "                num_complex::Complex::new(v0, v1);\n",
      "            let v6: std::string::String =\n",
      "                Spiral_eval::method3(format!(\"{}\", v3));\n",
      "            let v8: string = fable_library_rust::String_::fromString(v6);\n",
      "            let v10: bool = v8.clone() == string(\"0+0i\");\n",
      "            if (if v10 { true } else { Spiral_eval::method4(v10) }) == false {\n",
      "                panic!(\"{}\",\n",
      "                       sprintf!(\"__expect / actual: {:?} / expected: {:?}\", v8, string(\"0+0i\")));\n",
      "            }\n",
      "        }\n",
      "        on_startup!(Spiral_eval::method0());\n",
      "    }\n",
      "}\n",
      "pub use module_ccfa04bf::*;\n",
      "\r\n"
     ]
    }
   ],
   "source": [
    "// // test\n",
    "// // rust=\n",
    "\n",
    "types ()\n",
    "\n",
    "complex (0f64, 0f64)\n",
    "|> sm'.format'\n",
    "|> sm'.from_std_string\n",
    "|> _assert_eq \"0+0i\""
   ]
  },
  {
   "cell_type": "markdown",
   "metadata": {},
   "source": [
    "## run_test"
   ]
  },
  {
   "cell_type": "code",
   "execution_count": null,
   "metadata": {
    "dotnet_interactive": {
     "language": "spiral"
    },
    "polyglot_notebook": {
     "kernelName": "spiral"
    }
   },
   "outputs": [
    {
     "name": "stdout",
     "output_type": "stream",
     "text": [
      "()\n",
      "\r\n"
     ]
    }
   ],
   "source": [
    "inl re forall t. (c : complex t) : t =\n",
    "    inl c = join c\n",
    "    !\\($'\"!c.re\"')\n",
    "\n",
    "inl im forall t. (c : complex t) : t =\n",
    "    inl c = join c\n",
    "    !\\($'\"!c.im\"')\n",
    "\n",
    "inl complex_unbox forall t. (c : complex t) =\n",
    "    c |> re, c |> im\n",
    "\n",
    "inl powc forall t. (s : complex t) (c : complex t) : complex t =\n",
    "    !\\($'\"num_complex::Complex::powc(!c, !s)\"')\n",
    "\n",
    "inl complex_sub forall t. (a : complex t) (b : complex t) : complex t =\n",
    "    !\\($'\"!a - !b\"')\n",
    "\n",
    "inl complex_mult forall t. (a : complex t) (b : complex t) : complex t =\n",
    "    !\\($'\"!a * !b\"')\n",
    "\n",
    "inl complex_div forall t. (a : complex t) (b : complex t) : complex t =\n",
    "    !\\($'\"!a / !b\"')\n",
    "\n",
    "inl complex_sin forall t. (c : complex t) : complex t =\n",
    "    !\\($'\"!c.sin()\"')\n",
    "\n",
    "inl conj forall t. (c : complex t) : complex t =\n",
    "    !\\($'\"!c.conj()\"')\n",
    "\n",
    "inl module_from_code (py : python) (code : string) : resultm.result' (bound pymodule) pyerr =\n",
    "    inl py = join py\n",
    "    inl code = code |> sm'.as_str\n",
    "    !\\($'\"pyo3::types::PyModule::from_code_bound(!py, !code, \\\\\"\\\\\", \\\\\"\\\\\")\"')\n",
    "\n",
    "inl use_pyanymethods () =\n",
    "    global \"Fable.Core.RustInterop.emitRustExpr () \\\");\\nuse pyo3::prelude::PyAnyMethods;\\n//\\\"\"\n",
    "\n",
    "inl getattr (attr : string) (module : bound pymodule) : resultm.result' (bound pyany) pyerr =\n",
    "    inl attr = attr |> sm'.as_str\n",
    "    inl module = join module\n",
    "    use_pyanymethods ()\n",
    "    !\\($'\"!module.getattr(!attr)\"')\n",
    "\n",
    "inl call forall t. (args : t) (module : bound pyany) : resultm.result' (bound pyany) pyerr =\n",
    "    inl args = join args\n",
    "    inl module = join module\n",
    "    !\\($'\"pyo3::prelude::PyAnyMethods::call(&!module, (*(*!args).0, ()), None)\"')\n",
    "\n",
    "inl extract forall t. (result : bound pyany) : resultm.result' t pyerr =\n",
    "    inl result = join result\n",
    "    use_pyanymethods ()\n",
    "    !\\($'\"!result.extract()\"')\n",
    "\n",
    "inl eval py code args =\n",
    "    inl code =\n",
    "        code\n",
    "        |> module_from_code py\n",
    "        |> resultm.unwrap'\n",
    "    inl fn =\n",
    "        code\n",
    "        |> getattr \"fn\"\n",
    "        |> fun x => x : _ _ pyerr\n",
    "        |> resultm.unwrap'\n",
    "\n",
    "    fn\n",
    "    |> call args\n",
    "    |> resultm.unwrap'\n",
    "    |> extract\n",
    "    |> fun x => x : _ _ pyerr\n",
    "    |> resultm.unwrap'\n",
    "    |> complex\n",
    "    |> Ok\n",
    "    |> fun x => x : _ _ pyerr\n",
    "    |> resultm.box\n",
    "\n",
    "inl gamma_ py s =\n",
    "    inl code =\n",
    "        ;[\n",
    "            \"import mpmath\"\n",
    "            \"def fn(s, _):\"\n",
    "            \"    s = complex(*s)\"\n",
    "            \"    s = mpmath.gamma(s)\"\n",
    "            \"    return (s.real, s.imag)\"\n",
    "        ]\n",
    "    inl code = (a code : _ i32 _) |> sm'.concat_array_trailing \"\\n\"\n",
    "\n",
    "    inl s = new_pair (s |> re) (s |> im)\n",
    "    inl args = new_pair s ()\n",
    "\n",
    "    eval py code args\n",
    "\n",
    "inl zeta_ py s =\n",
    "    inl code =\n",
    "        ;[\n",
    "            \"import mpmath\"\n",
    "            \"def fn(s, _):\"\n",
    "            \"    s = complex(*s)\"\n",
    "            \"    try:\"\n",
    "            \"        s = mpmath.zeta(s)\"\n",
    "            \"    except ValueError as e:\"\n",
    "            \"        if s.real == 1:\"\n",
    "            \"            s = complex(float('inf'), 0)\"\n",
    "            \"    return (s.real, s.imag)\"\n",
    "        ]\n",
    "    inl code = (a code : _ i32 _) |> sm'.concat_array_trailing \"\\n\"\n",
    "    \n",
    "    inl s = new_pair (s |> re) (s |> im)\n",
    "    inl args = new_pair s ()\n",
    "\n",
    "    eval py code args\n",
    "\n",
    "inl run_test closure_fix (fn : (complex f64 -> complex f64) * (complex f64 -> complex f64) -> ()) =\n",
    "    inl fn_ (py : python) : resultm.result' () pyerr =\n",
    "        inl zeta = fun (s : complex f64) =>\n",
    "            inl s = zeta_ py s |> resultm.unwrap'\n",
    "            s\n",
    "        inl gamma = fun (s : complex f64) =>\n",
    "            inl s = gamma_ py s |> resultm.unwrap'\n",
    "            s\n",
    "        fn (zeta, gamma)\n",
    "        \n",
    "        Ok ()\n",
    "        |> resultm.box\n",
    "    \n",
    "    join\n",
    "        !\\($'\"pyo3::prepare_freethreaded_python()\"') : ()\n",
    "\n",
    "        !\\($'\"let __result = pyo3::Python::with_gil(|py| -> pyo3::PyResult<()> { //\"')\n",
    "\n",
    "        inl x = fn_\n",
    "        let x' = x (!\\($'\"py\"') : python)\n",
    "        inl x' = join x'\n",
    "        \n",
    "        x' |> rust.fix_closure closure_fix\n",
    "\n",
    "        (!\\($'\"__result\"') : _ () pyerr)\n",
    "        |> resultm.unwrap'"
   ]
  },
  {
   "cell_type": "markdown",
   "metadata": {},
   "source": [
    "## test_zeta_at_known_values_"
   ]
  },
  {
   "cell_type": "code",
   "execution_count": null,
   "metadata": {
    "dotnet_interactive": {
     "language": "spiral"
    },
    "polyglot_notebook": {
     "kernelName": "spiral"
    }
   },
   "outputs": [
    {
     "name": "stdout",
     "output_type": "stream",
     "text": [
      "()\n",
      "\r\n"
     ]
    }
   ],
   "source": [
    "inl test_zeta_at_known_values_ () = run_test (3u8, 2u8) fun zeta, gamma =>\n",
    "    ;[\n",
    "        complex (2, 0), pi ** 2 / 6\n",
    "        complex (-1, 0), -1 / 12\n",
    "    ]\n",
    "    |> fun x => a x : _ i32 _\n",
    "    |> am.iter fun s, e =>\n",
    "        inl result = zeta s\n",
    "\n",
    "        result\n",
    "        |> im\n",
    "        |> _assert_eq 0f64\n",
    "\n",
    "        (result |> re) - e |> abs\n",
    "        |> _assert_lt 0.0001"
   ]
  },
  {
   "cell_type": "code",
   "execution_count": null,
   "metadata": {
    "dotnet_interactive": {
     "language": "spiral"
    },
    "polyglot_notebook": {
     "kernelName": "spiral"
    }
   },
   "outputs": [
    {
     "data": {
      "text/plain": [
       "\n"
      ]
     },
     "metadata": {},
     "output_type": "display_data"
    }
   ],
   "source": [
    "// // test\n",
    "// // rust=\n",
    "// // print_code=false\n",
    "\n",
    "\n",
    "types ()\n",
    "test_zeta_at_known_values_ ()"
   ]
  },
  {
   "cell_type": "markdown",
   "metadata": {},
   "source": [
    "## test_zeta_at_2_minus2"
   ]
  },
  {
   "cell_type": "code",
   "execution_count": null,
   "metadata": {
    "dotnet_interactive": {
     "language": "spiral"
    },
    "polyglot_notebook": {
     "kernelName": "spiral"
    }
   },
   "outputs": [
    {
     "name": "stdout",
     "output_type": "stream",
     "text": [
      "()\n",
      "\r\n"
     ]
    }
   ],
   "source": [
    "inl test_zeta_at_2_minus2 () = run_test (5u8, 4u8) fun zeta, gamma =>\n",
    "    inl s = complex (2f64, -2f64)\n",
    "    inl result = zeta s\n",
    "\n",
    "    ((result |> re) - 0.8673f64) |> abs\n",
    "    |> _assert_lt 0.001f64\n",
    "\n",
    "    ((result |> im) - 0.2750f64) |> abs\n",
    "    |> _assert_lt 0.001f64"
   ]
  },
  {
   "cell_type": "code",
   "execution_count": null,
   "metadata": {
    "dotnet_interactive": {
     "language": "spiral"
    },
    "polyglot_notebook": {
     "kernelName": "spiral"
    }
   },
   "outputs": [
    {
     "data": {
      "text/plain": [
       "\n"
      ]
     },
     "metadata": {},
     "output_type": "display_data"
    }
   ],
   "source": [
    "// // test\n",
    "// // rust=\n",
    "// // print_code=false\n",
    "\n",
    "types ()\n",
    "test_zeta_at_2_minus2 ()"
   ]
  },
  {
   "cell_type": "markdown",
   "metadata": {},
   "source": [
    "## test_trivial_zero_at_negative_even___"
   ]
  },
  {
   "cell_type": "code",
   "execution_count": null,
   "metadata": {
    "dotnet_interactive": {
     "language": "spiral"
    },
    "polyglot_notebook": {
     "kernelName": "spiral"
    }
   },
   "outputs": [
    {
     "name": "stdout",
     "output_type": "stream",
     "text": [
      "()\n",
      "\r\n"
     ]
    }
   ],
   "source": [
    "inl test_trivial_zero_at_negative_even___ () = run_test (2u8, 1u8) fun zeta, gamma =>\n",
    "    (join listm'.init_series -2f64 -40 -2)\n",
    "    |> listm.iter fun n =>\n",
    "        inl s = complex (n, 0)\n",
    "        inl result = zeta s\n",
    "\n",
    "        result\n",
    "        |> re\n",
    "        |> _assert_eq 0\n",
    "\n",
    "        result\n",
    "        |> im\n",
    "        |> _assert_eq 0"
   ]
  },
  {
   "cell_type": "code",
   "execution_count": null,
   "metadata": {
    "dotnet_interactive": {
     "language": "spiral"
    },
    "polyglot_notebook": {
     "kernelName": "spiral"
    }
   },
   "outputs": [
    {
     "data": {
      "text/plain": [
       "\n"
      ]
     },
     "metadata": {},
     "output_type": "display_data"
    }
   ],
   "source": [
    "// // test\n",
    "// // rust=\n",
    "// // print_code=false\n",
    "\n",
    "types ()\n",
    "test_trivial_zero_at_negative_even___ ()"
   ]
  },
  {
   "cell_type": "markdown",
   "metadata": {},
   "source": [
    "## test_non_trivial_zero___"
   ]
  },
  {
   "cell_type": "code",
   "execution_count": null,
   "metadata": {
    "dotnet_interactive": {
     "language": "spiral"
    },
    "polyglot_notebook": {
     "kernelName": "spiral"
    }
   },
   "outputs": [
    {
     "name": "stdout",
     "output_type": "stream",
     "text": [
      "()\n",
      "\r\n"
     ]
    }
   ],
   "source": [
    "inl test_non_trivial_zero___ () = run_test (3u8, 2u8) fun zeta, gamma =>\n",
    "    ;[\n",
    "        complex (0.5, 14.134725)\n",
    "        complex (0.5, 21.022040)\n",
    "        complex (0.5, 25.010857)\n",
    "        complex (0.5, 30.424876)\n",
    "        complex (0.5, 32.935062)\n",
    "        complex (0.5, 37.586178)\n",
    "    ]\n",
    "    |> fun x => a x : _ i32 _\n",
    "    |> am.iter fun x =>\n",
    "            inl result = zeta x\n",
    "            result |> re |> abs |> _assert_lt 0.0001\n",
    "            result |> im |> abs |> _assert_lt 0.0001"
   ]
  },
  {
   "cell_type": "code",
   "execution_count": null,
   "metadata": {
    "dotnet_interactive": {
     "language": "spiral"
    },
    "polyglot_notebook": {
     "kernelName": "spiral"
    }
   },
   "outputs": [
    {
     "data": {
      "text/plain": [
       "\n"
      ]
     },
     "metadata": {},
     "output_type": "display_data"
    }
   ],
   "source": [
    "// // test\n",
    "// // rust=\n",
    "// // print_code=false\n",
    "\n",
    "types ()\n",
    "test_non_trivial_zero___ ()"
   ]
  },
  {
   "cell_type": "markdown",
   "metadata": {},
   "source": [
    "## test_real_part_greater_than_one___"
   ]
  },
  {
   "cell_type": "code",
   "execution_count": null,
   "metadata": {
    "dotnet_interactive": {
     "language": "spiral"
    },
    "polyglot_notebook": {
     "kernelName": "spiral"
    }
   },
   "outputs": [
    {
     "name": "stdout",
     "output_type": "stream",
     "text": [
      "()\n",
      "\r\n"
     ]
    }
   ],
   "source": [
    "inl test_real_part_greater_than_one___ () = run_test (3u8, 2u8) fun zeta, gamma =>\n",
    "    inl points = ;[2; 3; 4; 5; 10; 20; 50]\n",
    "    (a points : _ i32 _)\n",
    "    |> am.iter fun point =>\n",
    "        inl s = complex (point, 0)\n",
    "        inl result = zeta s\n",
    "        result |> re |> _assert_gt 0\n",
    "        result |> im |> _assert_eq 0"
   ]
  },
  {
   "cell_type": "code",
   "execution_count": null,
   "metadata": {
    "dotnet_interactive": {
     "language": "spiral"
    },
    "polyglot_notebook": {
     "kernelName": "spiral"
    }
   },
   "outputs": [
    {
     "data": {
      "text/plain": [
       "\n"
      ]
     },
     "metadata": {},
     "output_type": "display_data"
    }
   ],
   "source": [
    "// // test\n",
    "// // rust=\n",
    "// // print_code=false\n",
    "\n",
    "types ()\n",
    "test_real_part_greater_than_one___ ()"
   ]
  },
  {
   "cell_type": "markdown",
   "metadata": {},
   "source": [
    "## test_zeta_at_1___"
   ]
  },
  {
   "cell_type": "code",
   "execution_count": null,
   "metadata": {
    "dotnet_interactive": {
     "language": "spiral"
    },
    "polyglot_notebook": {
     "kernelName": "spiral"
    }
   },
   "outputs": [
    {
     "name": "stdout",
     "output_type": "stream",
     "text": [
      "()\n",
      "\r\n"
     ]
    }
   ],
   "source": [
    "inl test_zeta_at_1___ () = run_test (5u8, 4u8) fun zeta, gamma =>\n",
    "    inl s = complex (1, 0)\n",
    "    inl result = zeta s\n",
    "    result |> re |> _assert_eq limit.max\n",
    "    result |> im |> _assert_eq 0"
   ]
  },
  {
   "cell_type": "code",
   "execution_count": null,
   "metadata": {
    "dotnet_interactive": {
     "language": "spiral"
    },
    "polyglot_notebook": {
     "kernelName": "spiral"
    }
   },
   "outputs": [
    {
     "data": {
      "text/plain": [
       "\n"
      ]
     },
     "metadata": {},
     "output_type": "display_data"
    }
   ],
   "source": [
    "// // test\n",
    "// // rust=\n",
    "// // print_code=false\n",
    "\n",
    "types ()\n",
    "test_zeta_at_1___ ()"
   ]
  },
  {
   "cell_type": "markdown",
   "metadata": {},
   "source": [
    "## test_symmetry_across_real_axis___"
   ]
  },
  {
   "cell_type": "code",
   "execution_count": null,
   "metadata": {
    "dotnet_interactive": {
     "language": "spiral"
    },
    "polyglot_notebook": {
     "kernelName": "spiral"
    }
   },
   "outputs": [
    {
     "name": "stdout",
     "output_type": "stream",
     "text": [
      "()\n",
      "\r\n"
     ]
    }
   ],
   "source": [
    "inl test_symmetry_across_real_axis___ () = run_test (6u8, 5u8) fun zeta, gamma =>\n",
    "    inl s = complex (2, 10)\n",
    "    inl result_positive_im = zeta s\n",
    "    inl result_negative_im = complex (s |> re, s |> im |> (~-)) |> zeta\n",
    "    inl conj = result_negative_im |> conj\n",
    "    result_positive_im |> re |> _assert_eq (conj |> re)\n",
    "    result_positive_im |> im |> _assert_eq (conj |> im)"
   ]
  },
  {
   "cell_type": "code",
   "execution_count": null,
   "metadata": {
    "dotnet_interactive": {
     "language": "spiral"
    },
    "polyglot_notebook": {
     "kernelName": "spiral"
    }
   },
   "outputs": [
    {
     "data": {
      "text/plain": [
       "\n"
      ]
     },
     "metadata": {},
     "output_type": "display_data"
    }
   ],
   "source": [
    "// // test\n",
    "// // rust=\n",
    "// // print_code=false\n",
    "\n",
    "types ()\n",
    "test_symmetry_across_real_axis___ ()"
   ]
  },
  {
   "cell_type": "markdown",
   "metadata": {},
   "source": [
    "## test_behavior_near_origin___"
   ]
  },
  {
   "cell_type": "code",
   "execution_count": null,
   "metadata": {
    "dotnet_interactive": {
     "language": "spiral"
    },
    "polyglot_notebook": {
     "kernelName": "spiral"
    }
   },
   "outputs": [
    {
     "name": "stdout",
     "output_type": "stream",
     "text": [
      "()\n",
      "\r\n"
     ]
    }
   ],
   "source": [
    "inl test_behavior_near_origin___ () = run_test (5u8, 4u8) fun zeta, gamma =>\n",
    "    inl s = complex (0.01, 0.01)\n",
    "    inl result = zeta s\n",
    "    result |> re |> _assert_lt limit.max\n",
    "    result |> im |> _assert_lt limit.max"
   ]
  },
  {
   "cell_type": "code",
   "execution_count": null,
   "metadata": {
    "dotnet_interactive": {
     "language": "spiral"
    },
    "polyglot_notebook": {
     "kernelName": "spiral"
    }
   },
   "outputs": [
    {
     "data": {
      "text/plain": [
       "\n"
      ]
     },
     "metadata": {},
     "output_type": "display_data"
    }
   ],
   "source": [
    "// // test\n",
    "// // rust=\n",
    "// // print_code=false\n",
    "\n",
    "types ()\n",
    "test_behavior_near_origin___ ()"
   ]
  },
  {
   "cell_type": "markdown",
   "metadata": {},
   "source": [
    "## test_zeta_at_minus_1"
   ]
  },
  {
   "cell_type": "code",
   "execution_count": null,
   "metadata": {
    "dotnet_interactive": {
     "language": "spiral"
    },
    "polyglot_notebook": {
     "kernelName": "spiral"
    }
   },
   "outputs": [
    {
     "name": "stdout",
     "output_type": "stream",
     "text": [
      "()\n",
      "\r\n"
     ]
    }
   ],
   "source": [
    "inl test_zeta_at_minus_1 () = run_test (5u8, 4u8) fun zeta, gamma =>\n",
    "    inl s = complex (-1, 0)\n",
    "    inl result = zeta s\n",
    "    (result |> re) + 1f64 / 12f64 |> abs |> _assert_lt 0.0001\n",
    "    result |> im |> _assert_eq 0"
   ]
  },
  {
   "cell_type": "code",
   "execution_count": null,
   "metadata": {
    "dotnet_interactive": {
     "language": "spiral"
    },
    "polyglot_notebook": {
     "kernelName": "spiral"
    }
   },
   "outputs": [
    {
     "data": {
      "text/plain": [
       "\n"
      ]
     },
     "metadata": {},
     "output_type": "display_data"
    }
   ],
   "source": [
    "// // test\n",
    "// // rust=\n",
    "// // print_code=false\n",
    "\n",
    "types ()\n",
    "test_zeta_at_minus_1 ()"
   ]
  },
  {
   "cell_type": "markdown",
   "metadata": {},
   "source": [
    "## test_imaginary_axis"
   ]
  },
  {
   "cell_type": "code",
   "execution_count": null,
   "metadata": {
    "dotnet_interactive": {
     "language": "spiral"
    },
    "polyglot_notebook": {
     "kernelName": "spiral"
    }
   },
   "outputs": [
    {
     "name": "stdout",
     "output_type": "stream",
     "text": [
      "()\n",
      "\r\n"
     ]
    }
   ],
   "source": [
    "inl test_imaginary_axis () = run_test (3u8, 2u8) fun zeta, gamma =>\n",
    "    (join a ;[10; 20; 30; 40; 50; 60; 70; 80; 90; 100] : _ i32 _)\n",
    "    |> am.iter fun s =>\n",
    "        inl s = complex (0, s)\n",
    "        inl result = zeta s\n",
    "        result |> re |> _assert_ne 0\n",
    "        result |> im |> _assert_ne 0"
   ]
  },
  {
   "cell_type": "code",
   "execution_count": null,
   "metadata": {
    "dotnet_interactive": {
     "language": "spiral"
    },
    "polyglot_notebook": {
     "kernelName": "spiral"
    }
   },
   "outputs": [
    {
     "data": {
      "text/plain": [
       "\n"
      ]
     },
     "metadata": {},
     "output_type": "display_data"
    }
   ],
   "source": [
    "// // test\n",
    "// // rust=\n",
    "// // print_code=false\n",
    "\n",
    "types ()\n",
    "test_imaginary_axis ()"
   ]
  },
  {
   "cell_type": "markdown",
   "metadata": {},
   "source": [
    "## test_critical_strip"
   ]
  },
  {
   "cell_type": "code",
   "execution_count": null,
   "metadata": {
    "dotnet_interactive": {
     "language": "spiral"
    },
    "polyglot_notebook": {
     "kernelName": "spiral"
    }
   },
   "outputs": [
    {
     "name": "stdout",
     "output_type": "stream",
     "text": [
      "()\n",
      "\r\n"
     ]
    }
   ],
   "source": [
    "inl test_critical_strip () = run_test (3u8, 2u8) fun zeta, gamma =>\n",
    "    ;[\n",
    "        complex (0.5, 14.134725)\n",
    "        complex (0.75, 20.5)\n",
    "        complex (1.25, 30.1)\n",
    "        complex (0.25, 40.0)\n",
    "        complex (1.0, 50.0)\n",
    "    ]\n",
    "    |> fun x => a x : _ i32 _\n",
    "    |> am.iter fun s =>\n",
    "        inl result = zeta s\n",
    "        result |> re |> _assert_ne 0\n",
    "        result |> im |> _assert_ne 0"
   ]
  },
  {
   "cell_type": "code",
   "execution_count": null,
   "metadata": {
    "dotnet_interactive": {
     "language": "spiral"
    },
    "polyglot_notebook": {
     "kernelName": "spiral"
    }
   },
   "outputs": [
    {
     "data": {
      "text/plain": [
       "\n"
      ]
     },
     "metadata": {},
     "output_type": "display_data"
    }
   ],
   "source": [
    "// // test\n",
    "// // rust=\n",
    "// // print_code=false\n",
    "\n",
    "types ()\n",
    "test_critical_strip ()"
   ]
  },
  {
   "cell_type": "markdown",
   "metadata": {},
   "source": [
    "## test_reflection_formula_for_specific_value"
   ]
  },
  {
   "cell_type": "code",
   "execution_count": null,
   "metadata": {
    "dotnet_interactive": {
     "language": "spiral"
    },
    "polyglot_notebook": {
     "kernelName": "spiral"
    }
   },
   "outputs": [
    {
     "name": "stdout",
     "output_type": "stream",
     "text": [
      "()\n",
      "\r\n"
     ]
    }
   ],
   "source": [
    "inl test_reflection_formula_for_specific_value () = run_test (3u8, 2u8) fun zeta, gamma =>\n",
    "    ;[\n",
    "        complex (3, 4)\n",
    "        complex (2.5, -3.5)\n",
    "        complex (1.5, 2.5)\n",
    "        complex (0.5, 14.134725)\n",
    "    ]\n",
    "    |> fun x => a x : _ i32 _\n",
    "    |> am.iter fun s =>\n",
    "        inl lhs = zeta s\n",
    "        inl reflection_coefficient =\n",
    "            complex_mult\n",
    "                (complex_mult\n",
    "                    (complex_mult\n",
    "                        (complex (2, 0) |> powc s)\n",
    "                        (complex (pi, 0) |> powc (complex_sub s (complex (1, 0))))\n",
    "                    )\n",
    "                    (\n",
    "                        (complex_div\n",
    "                            (complex_mult\n",
    "                                (complex (pi, 0))\n",
    "                                s\n",
    "                            )\n",
    "                            (complex (2, 0))\n",
    "                        )\n",
    "                        |> complex_sin\n",
    "                    )\n",
    "                )\n",
    "                (gamma (complex_sub (complex (1, 0)) s))\n",
    "                \n",
    "        inl one_minus_s = complex (1 - (s |> re), -(s |> im))\n",
    "        inl rhs_calculated = complex_mult reflection_coefficient (zeta one_minus_s)\n",
    "\n",
    "        ((lhs |> re) - (rhs_calculated |> re)) |> abs |> _assert_lt 0.0001\n",
    "        ((lhs |> im) - (rhs_calculated |> im)) |> abs |> _assert_lt 0.0001"
   ]
  },
  {
   "cell_type": "code",
   "execution_count": null,
   "metadata": {
    "dotnet_interactive": {
     "language": "spiral"
    },
    "polyglot_notebook": {
     "kernelName": "spiral"
    }
   },
   "outputs": [
    {
     "data": {
      "text/plain": [
       "\n"
      ]
     },
     "metadata": {},
     "output_type": "display_data"
    }
   ],
   "source": [
    "// // test\n",
    "// // rust=\n",
    "// // print_code=false\n",
    "\n",
    "types ()\n",
    "test_reflection_formula_for_specific_value ()"
   ]
  },
  {
   "cell_type": "markdown",
   "metadata": {},
   "source": [
    "## test_euler_product_formula"
   ]
  },
  {
   "cell_type": "code",
   "execution_count": null,
   "metadata": {
    "dotnet_interactive": {
     "language": "spiral"
    },
    "polyglot_notebook": {
     "kernelName": "spiral"
    }
   },
   "outputs": [
    {
     "name": "stdout",
     "output_type": "stream",
     "text": [
      "()\n",
      "\r\n"
     ]
    }
   ],
   "source": [
    "inl test_euler_product_formula () = run_test (3u8, 2u8) fun zeta, gamma =>\n",
    "    inl s_values = ;[2; 2.5; 3; 3.5; 4; 4.5; 5]\n",
    "    inl primes = ;[2; 3; 5; 7; 11; 13; 17; 19; 23; 29; 31; 37; 41; 43; 47; 53; 59; 61; 67; 71]\n",
    "    (a s_values : _ i32 _)\n",
    "    |> am.iter fun s_re =>\n",
    "        inl s = complex (s_re, 0)\n",
    "        inl product =\n",
    "            (1, (a primes : _ i32 _))\n",
    "            ||> am.fold fun acc x =>\n",
    "                acc * 1 / (1 - x ** -s_re)\n",
    "\n",
    "        inl result = zeta s\n",
    "        ((result |> re) - product) |> abs |> _assert_lt 0.01f64\n",
    "        result |> im |> _assert_lt 0.01f64"
   ]
  },
  {
   "cell_type": "code",
   "execution_count": null,
   "metadata": {
    "dotnet_interactive": {
     "language": "spiral"
    },
    "polyglot_notebook": {
     "kernelName": "spiral"
    }
   },
   "outputs": [
    {
     "data": {
      "text/plain": [
       "\n"
      ]
     },
     "metadata": {},
     "output_type": "display_data"
    }
   ],
   "source": [
    "// // test\n",
    "// // rust=\n",
    "// // print_code=false\n",
    "\n",
    "types ()\n",
    "test_euler_product_formula ()"
   ]
  },
  {
   "cell_type": "markdown",
   "metadata": {},
   "source": [
    "## tests"
   ]
  },
  {
   "cell_type": "code",
   "execution_count": null,
   "metadata": {
    "dotnet_interactive": {
     "language": "spiral"
    },
    "polyglot_notebook": {
     "kernelName": "spiral"
    }
   },
   "outputs": [
    {
     "name": "stdout",
     "output_type": "stream",
     "text": [
      "()\n",
      "\r\n"
     ]
    }
   ],
   "source": [
    "inl tests () =\n",
    "    !\\($'\"}//\"') : ()\n",
    "\n",
    "    !\\($'\"#[test] fn test_real_part_greater_than_one___() { //\"') : ()\n",
    "    test_real_part_greater_than_one___ ()\n",
    "    !\\($'\"} #[test] fn test_zeta_at_known_values_() { //\"') : ()\n",
    "    test_zeta_at_known_values_ ()\n",
    "    !\\($'\"} #[test] fn test_behavior_near_origin___() { //\"') : ()\n",
    "    test_behavior_near_origin___ ()\n",
    "    !\\($'\"} #[test] fn test_trivial_zero_at_negative_even___() { //\"') : ()\n",
    "    test_trivial_zero_at_negative_even___ ()\n",
    "    !\\($'\"} #[test] fn test_symmetry_across_real_axis___() { //\"') : ()\n",
    "    test_symmetry_across_real_axis___ ()\n",
    "    !\\($'\"} #[test] fn test_euler_product_formula() { //\"') : ()\n",
    "    test_euler_product_formula ()\n",
    "    !\\($'\"} #[test] fn test_zeta_at_known_values_() { //\"') : ()\n",
    "    test_zeta_at_known_values_ ()\n",
    "    !\\($'\"} #[test] fn test_zeta_at_minus_1() { //\"') : ()\n",
    "    test_zeta_at_minus_1 ()\n",
    "    !\\($'\"} #[test] fn test_critical_strip() { //\"') : ()\n",
    "    test_critical_strip ()\n",
    "    !\\($'\"} #[test] fn test_reflection_formula_for_specific_value() { //\"') : ()\n",
    "    test_reflection_formula_for_specific_value ()\n",
    "    !\\($'\"} #[test] fn test_zeta_at_1___() { //\"') : ()\n",
    "    test_zeta_at_1___ ()\n",
    "    !\\($'\"} #[test] fn test_non_trivial_zero___() { //\"') : ()\n",
    "    test_non_trivial_zero___ ()\n",
    "    !\\($'\"} #[test] fn test_zeta_at_2_minus2() { //\"') : ()\n",
    "    test_zeta_at_2_minus2 ()\n",
    "    !\\($'\"} #[test] fn test_imaginary_axis() { //\"') : ()\n",
    "    test_imaginary_axis ()"
   ]
  },
  {
   "cell_type": "code",
   "execution_count": null,
   "metadata": {
    "dotnet_interactive": {
     "language": "spiral"
    },
    "polyglot_notebook": {
     "kernelName": "spiral"
    }
   },
   "outputs": [
    {
     "ename": "Error",
     "evalue": "System.Exception: main.spi:\nUnbound variable: run_tests.",
     "output_type": "error",
     "traceback": [
      ""
     ]
    }
   ],
   "source": [
    "// // test\n",
    "// // rust=\n",
    "// // print_code=true\n",
    "\n",
    "inl main (_args : array_base string) =\n",
    "    inl value = 1i32\n",
    "    console.write_line ($\"$\\\"value: {!value}\\\"\" : string)\n",
    "    0i32\n",
    "\n",
    "inl main () =\n",
    "    $\"let run_tests x = !run_tests x\" : ()\n",
    "    $\"let main args = !main args\" : ()\n",
    "\n",
    "types ()\n",
    "main ()"
   ]
  }
 ],
 "metadata": {},
 "nbformat": 4,
 "nbformat_minor": 5
}