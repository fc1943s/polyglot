{
 "cells": [
  {
   "cell_type": "code",
   "execution_count": null,
   "metadata": {
    "dotnet_interactive": {
     "language": "pwsh"
    },
    "polyglot_notebook": {
     "kernelName": "pwsh"
    }
   },
   "outputs": [],
   "source": [
    ". ../../../scripts/nbs_header.ps1\n",
    ". ../../../scripts/core.ps1"
   ]
  },
  {
   "cell_type": "code",
   "execution_count": null,
   "metadata": {
    "dotnet_interactive": {
     "language": "pwsh"
    },
    "polyglot_notebook": {
     "kernelName": "pwsh"
    }
   },
   "outputs": [
    {
     "name": "stdout",
     "output_type": "stream",
     "text": [
      "Fable 4.13.0: F# to Rust compiler (status: alpha)\r\n",
      "\r\n",
      "Thanks to the contributor! @mike-morr\r\n",
      "Stand with Ukraine! https://standwithukraine.com.ua/\r\n",
      "\r\n",
      "Parsing fable-library-rust.fsproj...\r\n",
      "Retrieving project options from cache, in case of issues run `dotnet fable clean` or try `--noCache` option.\r\n",
      "Project and references (1 source files) parsed in 149ms\r\n",
      "\r\n",
      "Skipped compilation because all generated files are up-to-date!\r\n"
     ]
    }
   ],
   "source": [
    "dotnet fable --optimize --lang rs --extension .rs"
   ]
  }
 ],
 "metadata": {},
 "nbformat": 4,
 "nbformat_minor": 5
}