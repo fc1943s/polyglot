{
 "cells": [
  {
   "cell_type": "code",
   "execution_count": null,
   "metadata": {
    "dotnet_interactive": {
     "language": "pwsh"
    },
    "polyglot_notebook": {
     "kernelName": "pwsh"
    }
   },
   "outputs": [],
   "source": [
    ". ../../../scripts/nbs_header.ps1\n",
    ". ../../../scripts/core.ps1"
   ]
  },
  {
   "cell_type": "code",
   "execution_count": null,
   "metadata": {
    "dotnet_interactive": {
     "language": "pwsh"
    },
    "polyglot_notebook": {
     "kernelName": "pwsh"
    }
   },
   "outputs": [
    {
     "name": "stdout",
     "output_type": "stream",
     "text": [
      "Fable 4.14.0: F# to Rust compiler (status: alpha)\r\n",
      "\r\n",
      "Thanks to the contributor! @kirill-gerasimenko\r\n",
      "Stand with Ukraine! https://standwithukraine.com.ua/\r\n",
      "\r\n",
      "Parsing fable-library-rust.fsproj...\r\n",
      ".> cmd /C dotnet restore fable-library-rust.fable-temp.csproj -p:FABLE_COMPILER=true -p:FABLE_COMPILER_4=true -p:FABLE_COMPILER_RUST=true\r\n",
      "  Determining projects to restore...\r\n",
      "  Restored C:\\home\\git\\polyglot\\lib\\rust\\fable\\fable-library-rust.fable-temp.csproj (in 110 ms).\r\n",
      ".> cmd /C dotnet restore C:/home/git/polyglot/lib/rust/fable/fable-library-rust.fsproj\r\n",
      "  Determining projects to restore...\r\n",
      "  Restored C:\\home\\git\\polyglot\\lib\\rust\\fable\\fable-library-rust.fsproj (in 376 ms).\r\n",
      "Project and references (1 source files) parsed in 8840ms\r\n",
      "\r\n",
      "Started Fable compilation...\r\n",
      "\r\n",
      "Fable compilation finished in 751ms\r\n",
      "\r\n"
     ]
    }
   ],
   "source": [
    "dotnet fable --optimize --lang rs --extension .rs"
   ]
  }
 ],
 "metadata": {},
 "nbformat": 4,
 "nbformat_minor": 5
}