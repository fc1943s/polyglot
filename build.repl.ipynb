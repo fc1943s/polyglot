{
 "cells": [
  {
   "cell_type": "code",
   "execution_count": null,
   "metadata": {
    "dotnet_repl_cellExecutionStartTime": "2023-06-25T03:08:23.3344415-04:00",
    "dotnet_repl_cellExecutionEndTime": "2023-06-25T03:08:23.9157822-04:00",
    "dotnet_interactive": {
     "language": "pwsh"
    },
    "polyglot_notebook": {
     "kernelName": "pwsh"
    }
   },
   "outputs": [],
   "source": [
    "$ScriptDir = [Environment]::CurrentDirectory\n",
    "Set-Location $ScriptDir\n",
    "$ErrorActionPreference = \"Stop\"\n",
    ". ./core.ps1"
   ]
  },
  {
   "cell_type": "code",
   "execution_count": null,
   "metadata": {
    "dotnet_repl_cellExecutionStartTime": "2023-06-25T03:08:23.9180511-04:00",
    "dotnet_repl_cellExecutionEndTime": "2023-06-25T03:08:30.0291592-04:00",
    "dotnet_interactive": {
     "language": "pwsh"
    },
    "polyglot_notebook": {
     "kernelName": "pwsh"
    }
   },
   "outputs": [
    {
     "name": "stdout",
     "output_type": "stream",
     "text": [
      "clr / tests / printfn\r\n",
      "\u001B[37m[\u001B[37m03:08:27 \u001B[37mINF\u001B[37m] \u001B[37mEXPECTO? Running tests...\u001B[37m \u001B[37m<\u001B[37mExpecto\u001B[37m>\u001B[37m\r\n",
      "\u001B[0m\u001B[1000D\u001B[?25hAsync timeout reached (2000)\r\n",
      "\u001B[0m\u001B[1000D\u001B[?25hAsync timeout reached (2000)\r\n",
      "\u001B[0m\u001B[1000D\u001B[?25hAsync timeout reached (2000)\r\n",
      "\u001B[0m\u001B[1000D\u001B[?25h\u001B[37m[\u001B[37m03:08:29 \u001B[37mINF\u001B[37m] \u001B[37mEXPECTO! \u001B[36m4\u001B[37m tests run in \u001B[32m00:00:02.2397451\u001B[37m for \u001B[36mFsCheck samples\u001B[37m – \u001B[36m4\u001B[37m passed, \u001B[36m0\u001B[37m ignored, \u001B[36m0\u001B[37m failed, \u001B[36m0\u001B[37m errored. \u001B[36mSuccess!\u001B[37m \u001B[37m<\u001B[37mExpecto\u001B[37m>\u001B[37m\r\n",
      "\u001B[0m\r\n"
     ]
    }
   ],
   "source": [
    "{ . \"$ScriptDir/spiral/clr/build.ps1\" } | Invoke-Block"
   ]
  },
  {
   "cell_type": "code",
   "execution_count": null,
   "metadata": {
    "dotnet_repl_cellExecutionStartTime": "2023-06-25T03:08:30.0292026-04:00",
    "dotnet_repl_cellExecutionEndTime": "2023-06-25T03:08:57.0278883-04:00",
    "dotnet_interactive": {
     "language": "pwsh"
    },
    "polyglot_notebook": {
     "kernelName": "pwsh"
    }
   },
   "outputs": [
    {
     "name": "stdout",
     "output_type": "stream",
     "text": [
      "Lockfile is up to date, resolution step is skipped\r\n",
      "Already up to date\r\n",
      "\r\n",
      "Done in 1.3s\r\n",
      "\u001B[31;1m[INFO]: Checking for the Wasm target...\u001B[0m\r\n",
      "\u001B[31;1m[INFO]: Compiling to Wasm...\u001B[0m\r\n",
      "\u001B[31;1m    Finished dev [unoptimized + debuginfo] target(s) in 0.11s\u001B[0m\r\n",
      "\u001B[31;1m[INFO]: Installing wasm-bindgen...\u001B[0m\r\n",
      "\u001B[31;1m[INFO]: Optional fields missing from Cargo.toml: 'description', 'repository', and 'license'. These are not necessary, but recommended\u001B[0m\r\n",
      "\u001B[31;1m[INFO]: :-) Done in 0.77s\u001B[0m\r\n",
      "\u001B[31;1m[INFO]: :-) Your wasm pkg is ready to publish at C:\\home\\git\\polyglot\\spiral\\extension\\pkg.\u001B[0m\r\n",
      "\u001B[31;1m▲ [WARNING] \"import.meta\" is not available with the \"iife\" output format and will be empty [empty-import-meta]\u001B[0m\r\n",
      "\u001B[31;1m\u001B[0m\r\n",
      "\u001B[31;1m    pkg/extension.js:451:45:\u001B[0m\r\n",
      "\u001B[31;1m      451 │         input = new URL('extension_bg.wasm', import.meta.url);\u001B[0m\r\n",
      "\u001B[31;1m          ╵                                              ~~~~~~~~~~~\u001B[0m\r\n",
      "\u001B[31;1m\u001B[0m\r\n",
      "\u001B[31;1m  You need to set the output format to \"esm\" for \"import.meta\" to work correctly.\u001B[0m\r\n",
      "\u001B[31;1m\u001B[0m\r\n",
      "\u001B[31;1m1 warning\u001B[0m\r\n",
      "\u001B[31;1m\u001B[0m\r\n",
      "\u001B[31;1m  dist\\extension_bg-U5QBGYXV.wasm  148.1kb\u001B[0m\r\n",
      "\u001B[31;1m  dist\\content_script.js             7.4kb\u001B[0m\r\n",
      "\u001B[31;1m  dist\\service_worker.js             1.6kb\u001B[0m\r\n",
      "\u001B[31;1m\u001B[0m\r\n",
      "\u001B[31;1mDone in 18ms\u001B[0m\r\n",
      "\r\n",
      "> polyglot@ test:e2e C:\\home\\git\\polyglot\\spiral\\extension\r\n",
      "> playwright test\r\n",
      "\r\n",
      "\r\n",
      "\u001B[2mRunning \u001B[22m3\u001B[2m tests using \u001B[22m3\u001B[2m workers\u001B[22m\r\n",
      "\r\n",
      "  \u001B[32m✓\u001B[39m  \u001B[2m1 \u001B[22m[Desktop Chrome] › extension.spec.ts:8:5 › popup extension\u001B[2m (6.5s)\u001B[22m\r\n",
      "  \u001B[32m✓\u001B[39m  \u001B[2m3 \u001B[22m[Desktop Chrome] › extension.spec.ts:3:5 › popup localhost\u001B[2m (6.6s)\u001B[22m\r\n",
      "  \u001B[32m✓\u001B[39m  \u001B[2m2 \u001B[22m[Desktop Chrome] › extension.spec.ts:13:5 › libgen\u001B[2m (13.4s)\u001B[22m\r\n",
      "\r\n",
      "\u001B[32m  3 passed\u001B[39m\u001B[2m (14.6s)\u001B[22m\r\n"
     ]
    }
   ],
   "source": [
    "{ . \"$ScriptDir/spiral/extension/build.ps1\" } | Invoke-Block"
   ]
  },
  {
   "cell_type": "code",
   "execution_count": null,
   "metadata": {
    "dotnet_repl_cellExecutionStartTime": "2023-06-25T03:08:57.0279142-04:00",
    "dotnet_repl_cellExecutionEndTime": "2023-06-25T03:08:57.0308219-04:00",
    "dotnet_interactive": {
     "language": "pwsh"
    },
    "polyglot_notebook": {
     "kernelName": "pwsh"
    }
   },
   "outputs": [],
   "source": [
    "# { . \"$ScriptDir/spiral/cli/build.ps1\" } | Invoke-Block"
   ]
  },
  {
   "cell_type": "code",
   "execution_count": null,
   "metadata": {
    "dotnet_repl_cellExecutionStartTime": "2023-06-25T03:08:57.030847-04:00",
    "dotnet_repl_cellExecutionEndTime": "2023-06-25T03:09:50.8636034-04:00",
    "dotnet_interactive": {
     "language": "pwsh"
    },
    "polyglot_notebook": {
     "kernelName": "pwsh"
    }
   },
   "outputs": [
    {
     "name": "stdout",
     "output_type": "stream",
     "text": [
      "logPath: C:\\Users\\i574n\\.vscode\\extensions\\mrakgr.spiral-lang-vscode-2.3.10\\compiler\\log\\supervisor\r\n",
      "1\r\n",
      "2\r\n",
      "3\r\n",
      "4\r\n",
      "5\r\n",
      "6\r\n",
      "7\r\n",
      "03:08:57 [INFO] 1. Logger.init \r\n",
      "Server bound to: tcp://*:13805 & tcp://*:13806\r\n",
      "pwd: C:\\home\\git\\polyglot\r\n",
      "dll_path: C:\\Users\\i574n\\.vscode\\extensions\\mrakgr.spiral-lang-vscode-2.3.10\\compiler\r\n",
      "03:08:59 [VERB] 2. clr.FileSystem.watch 'Created ticks=638232593395545290 event=Created \r\n",
      "\"\\2023_06_25_03_08_59_550_FileOpen.json\" \r\n",
      "03:08:59 [VERB] 4. clr.FileSystem.watch 'iterAsync ticks=638232593395576093 event=Changed \r\n",
      "\"\\2023_06_25_03_08_59_550_FileOpen.json\" \r\n",
      "03:08:59 [VERB] 3. clr.FileSystem.watch 'iterAsync ticks=638232593395545291 event=Changed \r\n",
      "\"\\2023_06_25_03_08_59_550_FileOpen.json\" \r\n",
      "03:08:59 [VERB] 5. clr.FileSystem.watch 'iterAsync ticks=638232593396170516 event=Deleted \r\n",
      "\"\\2023_06_25_03_08_59_550_FileOpen.json\" \r\n",
      "03:08:59 [VERB] 7. clr.FileSystem.watch 'iterAsync ticks=638232593396224276 event=Changed \r\n",
      "\"\\2023_06_25_03_08_59_620_Ping.json\" \r\n",
      "03:08:59 [VERB] 6. clr.FileSystem.watch 'Created ticks=638232593396224275 event=Created \r\n",
      "\"\\2023_06_25_03_08_59_620_Ping.json\" \r\n",
      "03:08:59 [VERB] 8. clr.FileSystem.watch 'iterAsync ticks=638232593396233034 event=Changed \r\n",
      "\"\\2023_06_25_03_08_59_620_Ping.json\" \r\n",
      "03:08:59 [VERB] 9. clr.FileSystem.watch 'iterAsync ticks=638232593396274939 event=Deleted \r\n",
      "\"\\2023_06_25_03_08_59_620_Ping.json\" \r\n",
      "03:09:01 [VERB] 10. clr.FileSystem.watch 'Created ticks=638232593416949896 event=Created \r\n",
      "\"\\2023_06_25_03_09_01_693_BuildFile.json\" \r\n",
      "03:09:01 [VERB] 12. clr.FileSystem.watch 'iterAsync ticks=638232593416955799 event=Changed \r\n",
      "\"\\2023_06_25_03_09_01_693_BuildFile.json\" \r\n",
      "03:09:01 [VERB] 11. clr.FileSystem.watch 'iterAsync ticks=638232593416949897 event=Changed \r\n",
      "\"\\2023_06_25_03_09_01_693_BuildFile.json\" \r\n",
      "\r\n",
      "logPath: C:\\Users\\i574n\\.vscode\\extensions\\mrakgr.spiral-lang-vscode-2.3.10\\compiler\\log\\supervisor\r\n",
      "1\r\n",
      "2\r\n",
      "3\r\n",
      "4\r\n",
      "5\r\n",
      "6\r\n",
      "7\r\n",
      "03:09:08 [INFO] 1. Logger.init \r\n",
      "Server bound to: tcp://*:13805 & tcp://*:13806\r\n",
      "pwd: C:\\home\\git\\polyglot\r\n",
      "dll_path: C:\\Users\\i574n\\.vscode\\extensions\\mrakgr.spiral-lang-vscode-2.3.10\\compiler\r\n",
      "03:09:10 [VERB] 3. clr.FileSystem.watch 'iterAsync ticks=638232593505340730 event=Changed \r\n",
      "\"\\2023_06_25_03_09_10_529_FileOpen.json\" \r\n",
      "03:09:10 [VERB] 2. clr.FileSystem.watch 'Created ticks=638232593505340729 event=Created \r\n",
      "\"\\2023_06_25_03_09_10_529_FileOpen.json\" \r\n",
      "03:09:10 [VERB] 4. clr.FileSystem.watch 'iterAsync ticks=638232593505370553 event=Changed \r\n",
      "\"\\2023_06_25_03_09_10_529_FileOpen.json\" \r\n",
      "03:09:10 [VERB] 5. clr.FileSystem.watch 'iterAsync ticks=638232593506195284 event=Deleted \r\n",
      "\"\\2023_06_25_03_09_10_529_FileOpen.json\" \r\n",
      "03:09:10 [VERB] 7. clr.FileSystem.watch 'iterAsync ticks=638232593506529057 event=Changed \r\n",
      "\"\\2023_06_25_03_09_10_650_Ping.json\" \r\n",
      "03:09:10 [VERB] 6. clr.FileSystem.watch 'Created ticks=638232593506529056 event=Created \r\n",
      "\"\\2023_06_25_03_09_10_650_Ping.json\" \r\n",
      "03:09:10 [VERB] 8. clr.FileSystem.watch 'iterAsync ticks=638232593506538665 event=Changed \r\n",
      "\"\\2023_06_25_03_09_10_650_Ping.json\" \r\n",
      "\r\n",
      "logPath: C:\\Users\\i574n\\.vscode\\extensions\\mrakgr.spiral-lang-vscode-2.3.10\\compiler\\log\\supervisor\r\n",
      "1\r\n",
      "2\r\n",
      "3\r\n",
      "4\r\n",
      "5\r\n",
      "6\r\n",
      "7\r\n",
      "8\r\n",
      "9\r\n",
      "10\r\n",
      "03:09:26 [INFO] 1. Logger.init \r\n",
      "Server bound to: tcp://*:13805 & tcp://*:13806\r\n",
      "pwd: C:\\home\\git\\polyglot\r\n",
      "dll_path: C:\\Users\\i574n\\.vscode\\extensions\\mrakgr.spiral-lang-vscode-2.3.10\\compiler\r\n",
      "03:09:27 [VERB] 3. clr.FileSystem.watch 'Created ticks=638232593677192328 event=Created \r\n",
      "\"\\2023_06_25_03_09_27_712_FileOpen.json\" \r\n",
      "03:09:27 [VERB] 2. clr.FileSystem.watch 'iterAsync ticks=638232593677215605 event=Changed \r\n",
      "\"\\2023_06_25_03_09_27_712_FileOpen.json\" \r\n",
      "03:09:27 [VERB] 4. clr.FileSystem.watch 'iterAsync ticks=638232593677192329 event=Changed \r\n",
      "\"\\2023_06_25_03_09_27_712_FileOpen.json\" \r\n",
      "03:09:27 [VERB] 5. clr.FileSystem.watch 'iterAsync ticks=638232593677821174 event=Deleted \r\n",
      "\"\\2023_06_25_03_09_27_712_FileOpen.json\" \r\n",
      "03:09:27 [VERB] 7. clr.FileSystem.watch 'iterAsync ticks=638232593678368670 event=Changed \r\n",
      "\"\\2023_06_25_03_09_27_835_Ping.json\" \r\n",
      "03:09:27 [VERB] 6. clr.FileSystem.watch 'Created ticks=638232593678368669 event=Created \r\n",
      "\"\\2023_06_25_03_09_27_835_Ping.json\" \r\n",
      "03:09:27 [VERB] 8. clr.FileSystem.watch 'iterAsync ticks=638232593678374823 event=Changed \r\n",
      "\"\\2023_06_25_03_09_27_835_Ping.json\" \r\n",
      "03:09:27 [VERB] 9. clr.FileSystem.watch 'iterAsync ticks=638232593678425353 event=Deleted \r\n",
      "\"\\2023_06_25_03_09_27_835_Ping.json\" \r\n",
      "03:09:29 [VERB] 10. clr.FileSystem.watch 'Created ticks=638232593699153367 event=Created \r\n",
      "\"\\2023_06_25_03_09_29_908_BuildFile.json\" \r\n",
      "03:09:29 [VERB] 11. clr.FileSystem.watch 'iterAsync ticks=638232593699153368 event=Changed \r\n",
      "\"\\2023_06_25_03_09_29_908_BuildFile.json\" \r\n",
      "03:09:29 [VERB] 12. clr.FileSystem.watch 'iterAsync ticks=638232593699179331 event=Changed \r\n",
      "\"\\2023_06_25_03_09_29_908_BuildFile.json\" \r\n",
      "03:09:29 [VERB] 13. clr.FileSystem.watch 'iterAsync ticks=638232593699331959 event=Deleted \r\n",
      "\"\\2023_06_25_03_09_29_908_BuildFile.json\" \r\n",
      "Building C:\\home\\git\\polyglot\\spiral\\test\\test.spi\r\n",
      "<test>\r\n",
      "</test>\r\n",
      "03:09:31 [VERB] 15. clr.FileSystem.watch 'iterAsync ticks=638232593714333659 event=Changed \r\n",
      "\"\\2023_06_25_03_09_31_431_Exit.json\" \r\n",
      "03:09:31 [VERB] 14. clr.FileSystem.watch 'Created ticks=638232593714333658 event=Created \r\n",
      "\"\\2023_06_25_03_09_31_431_Exit.json\" \r\n",
      "03:09:31 [VERB] 16. clr.FileSystem.watch 'iterAsync ticks=638232593714338528 event=Changed \r\n",
      "\"\\2023_06_25_03_09_31_431_Exit.json\" \r\n",
      "Exiting...\r\n",
      "03:09:31 [VERB] 17. clr.FileSystem.watch 'iterAsync ticks=638232593714419700 event=Deleted \r\n",
      "\"\\2023_06_25_03_09_31_431_Exit.json\" \r\n",
      "\r\n"
     ]
    }
   ],
   "source": [
    "{ . \"$ScriptDir/spiral/test/build.ps1\" } | Invoke-Block"
   ]
  },
  {
   "cell_type": "code",
   "execution_count": null,
   "metadata": {
    "dotnet_repl_cellExecutionStartTime": "2023-06-25T03:09:50.8636528-04:00",
    "dotnet_repl_cellExecutionEndTime": "2023-06-25T03:10:01.952638-04:00",
    "dotnet_interactive": {
     "language": "pwsh"
    },
    "polyglot_notebook": {
     "kernelName": "pwsh"
    }
   },
   "outputs": [
    {
     "name": "stdout",
     "output_type": "stream",
     "text": [
      "Complexidade: Simple, Duração: Short    \r\n",
      "Complexidade: Simple, Duração: Short    \r\n",
      "Complexidade: Simple, Duração: Medium   \r\n",
      "Complexidade: Moderate, Duração: Medium \r\n",
      "Complexidade: Complex, Duração: Long    \r\n",
      "Complexidade: Complex, Duração: Long    \r\n",
      "\u001B[37m[\u001B[37m03:09:54 \u001B[37mINF\u001B[37m] \u001B[37mEXPECTO? Running tests...\u001B[37m \u001B[37m<\u001B[37mExpecto\u001B[37m>\u001B[37m\r\n",
      "\u001B[0m\u001B[1000D\u001B[?25h\u001B[37m[\u001B[37m03:10:01 \u001B[37mINF\u001B[37m] \u001B[37mEXPECTO! \u001B[36m7\u001B[37m tests run in \u001B[32m00:00:07.4211064\u001B[37m for \u001B[36mFsCheck samples\u001B[37m – \u001B[36m7\u001B[37m passed, \u001B[36m0\u001B[37m ignored, \u001B[36m0\u001B[37m failed, \u001B[36m0\u001B[37m errored. \u001B[36mSuccess!\u001B[37m \u001B[37m<\u001B[37mExpecto\u001B[37m>\u001B[37m\r\n",
      "\u001B[0m\r\n"
     ]
    }
   ],
   "source": [
    "{ . \"$ScriptDir/fsharp/dice/build.ps1\" } | Invoke-Block"
   ]
  },
  {
   "cell_type": "code",
   "execution_count": null,
   "metadata": {
    "dotnet_repl_cellExecutionStartTime": "2023-06-25T03:10:01.9526697-04:00",
    "dotnet_repl_cellExecutionEndTime": "2023-06-25T03:10:17.7099893-04:00",
    "dotnet_interactive": {
     "language": "pwsh"
    },
    "polyglot_notebook": {
     "kernelName": "pwsh"
    }
   },
   "outputs": [
    {
     "name": "stdout",
     "output_type": "stream",
     "text": [
      "\r\n",
      "\r\n",
      "Test: Empty\r\n",
      "\r\n",
      "Solution: 0\r\n",
      "Test case 1. A. Time: 108L\r\n",
      "\r\n",
      "Solution: 2\r\n",
      "Test case 1. A. Time: 49L\r\n",
      "\r\n",
      "Solution: 5\r\n",
      "Test case 1. A. Time: 48L\r\n",
      "\r\n",
      "Input\tExpected\tResult\tBest    \r\n",
      "---  \t---     \t---   \t---     \r\n",
      "0    \t0       \t0     \t(1, 108)\r\n",
      "2    \t2       \t2     \t(1, 49) \r\n",
      "5    \t5       \t5     \t(1, 48) \r\n",
      "\r\n",
      "Averages\r\n",
      "Test case 1. Average Time: 68L\r\n",
      "\r\n",
      "Ranking\r\n",
      "Test case 1. Average Time: 68L\r\n",
      "\r\n",
      "\r\n",
      "Test: Empty\r\n",
      "\r\n",
      "Solution: 0\r\n",
      "Test case 1. A. Time: 76L\r\n",
      "\r\n",
      "Solution: 2\r\n",
      "Test case 1. A. Time: 50L\r\n",
      "\r\n",
      "Solution: 5\r\n",
      "Test case 1. A. Time: 56L\r\n",
      "\r\n",
      "Input\tExpected\tResult\tBest   \r\n",
      "---  \t---     \t---   \t---    \r\n",
      "0    \t0       \t0     \t(1, 76)\r\n",
      "2    \t2       \t2     \t(1, 50)\r\n",
      "5    \t5       \t5     \t(1, 56)\r\n",
      "\r\n",
      "Averages\r\n",
      "Test case 1. Average Time: 60L\r\n",
      "\r\n",
      "Ranking\r\n",
      "Test case 1. Average Time: 60L\r\n"
     ]
    }
   ],
   "source": [
    "{ . \"$ScriptDir/fsharp/perf/build.ps1\" } | Invoke-Block"
   ]
  }
 ],
 "metadata": {
  "kernelspec": {
   "display_name": ".NET (C#)",
   "language": "C#",
   "name": ".net-csharp"
  },
  "language_info": {
   "file_extension": ".cs",
   "mimetype": "text/x-csharp",
   "name": "C#",
   "pygments_lexer": "csharp",
   "version": "10.0"
  },
  "polyglot_notebook": {
   "defaultKernelName": "csharp",
   "items": [
    {
     "name": "csharp"
    }
   ]
  },
  "dotnet_interactive": {
   "defaultKernelName": "csharp",
   "items": [
    {
     "name": "csharp"
    }
   ]
  }
 },
 "nbformat": 4,
 "nbformat_minor": 5
}