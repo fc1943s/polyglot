{
 "cells": [
  {
   "cell_type": "code",
   "execution_count": null,
   "metadata": {
    "dotnet_repl_cellExecutionStartTime": "2023-07-07T09:44:10.6992963-03:00",
    "dotnet_repl_cellExecutionEndTime": "2023-07-07T09:44:15.6254235-03:00",
    "dotnet_interactive": {
     "language": "fsharp"
    },
    "polyglot_notebook": {
     "kernelName": "fsharp"
    }
   },
   "outputs": [],
   "source": [
    "open System\n",
    "\n",
    "let private random = Random ()\n",
    "\n",
    "let rollD6 () = random.Next (1, 7)"
   ]
  },
  {
   "cell_type": "code",
   "execution_count": null,
   "metadata": {
    "dotnet_repl_cellExecutionStartTime": "2023-07-07T09:44:15.6264595-03:00",
    "dotnet_repl_cellExecutionEndTime": "2023-07-07T09:44:15.9117679-03:00",
    "dotnet_interactive": {
     "language": "fsharp"
    },
    "polyglot_notebook": {
     "kernelName": "fsharp"
    }
   },
   "outputs": [],
   "source": [
    "let rollMax fn max n =\n",
    "    [1..n]\n",
    "    |> List.map (fun _ -> fn false max)\n",
    "    |> List.groupBy id\n",
    "    |> List.map (fun (_, v) -> v.Length)"
   ]
  },
  {
   "cell_type": "markdown",
   "metadata": {
    "dotnet_repl_cellExecutionStartTime": "2023-07-07T09:44:15.9118474-03:00",
    "dotnet_repl_cellExecutionEndTime": "2023-07-07T09:44:15.9135678-03:00"
   },
   "source": [
    "### Inverse Transform Sampling"
   ]
  },
  {
   "cell_type": "code",
   "execution_count": null,
   "metadata": {
    "dotnet_repl_cellExecutionStartTime": "2023-07-07T09:44:15.9135853-03:00",
    "dotnet_repl_cellExecutionEndTime": "2023-07-07T09:44:16.1785635-03:00",
    "dotnet_interactive": {
     "language": "fsharp"
    },
    "polyglot_notebook": {
     "kernelName": "fsharp"
    }
   },
   "outputs": [],
   "source": [
    "let inverseTransformSamplingRoll log max =\n",
    "    let rec numDice n =\n",
    "        if log then printfn $\"numDice / n: {n} / max: {max} / pown: {pown 6 n}\"\n",
    "        if pown 6 n >= max\n",
    "        then n\n",
    "        else numDice (n + 1)\n",
    "\n",
    "    let rec rollAcc acc power =\n",
    "        if power < 0\n",
    "        then\n",
    "            if log then printfn $\"rollAcc / acc: {acc} / power: {power}\"\n",
    "            acc\n",
    "        else\n",
    "            let roll = rollD6 () - 1\n",
    "            let value = roll * (pown 6 power)\n",
    "            if log then printfn $\"rollAcc / acc: {acc} / power: {power} / roll: {roll} / value: {value}\"\n",
    "            rollAcc (acc + value) (power - 1)\n",
    "\n",
    "    let rec rollMax power =\n",
    "        let result = rollAcc 0 power\n",
    "        if log then printfn $\"rollMax / power: {power} / result: {result}\"\n",
    "        if result < max\n",
    "        then result + 1\n",
    "        else rollMax power\n",
    "\n",
    "    rollMax ((numDice 1) - 1)"
   ]
  },
  {
   "cell_type": "code",
   "execution_count": null,
   "metadata": {
    "dotnet_repl_cellExecutionStartTime": "2023-07-07T09:44:16.1785863-03:00",
    "dotnet_repl_cellExecutionEndTime": "2023-07-07T09:44:16.3166235-03:00",
    "dotnet_interactive": {
     "language": "fsharp"
    },
    "polyglot_notebook": {
     "kernelName": "fsharp"
    }
   },
   "outputs": [
    {
     "data": {
      "text/html": [
       "<div class=\"dni-plaintext\"><pre>998</pre></div><style>\r\n",
       ".dni-code-hint {\r\n",
       "    font-style: italic;\r\n",
       "    overflow: hidden;\r\n",
       "    white-space: nowrap;\r\n",
       "}\r\n",
       ".dni-treeview {\r\n",
       "    white-space: nowrap;\r\n",
       "}\r\n",
       ".dni-treeview td {\r\n",
       "    vertical-align: top;\r\n",
       "    text-align: start;\r\n",
       "}\r\n",
       "details.dni-treeview {\r\n",
       "    padding-left: 1em;\r\n",
       "}\r\n",
       "table td {\r\n",
       "    text-align: start;\r\n",
       "}\r\n",
       "table tr { \r\n",
       "    vertical-align: top; \r\n",
       "    margin: 0em 0px;\r\n",
       "}\r\n",
       "table tr td pre \r\n",
       "{ \r\n",
       "    vertical-align: top !important; \r\n",
       "    margin: 0em 0px !important;\r\n",
       "} \r\n",
       "table th {\r\n",
       "    text-align: start;\r\n",
       "}\r\n",
       "</style>"
      ]
     },
     "metadata": {},
     "output_type": "display_data"
    },
    {
     "name": "stdout",
     "output_type": "stream",
     "text": [
      "numDice / n: 1 / max: 2000 / pown: 6\r\n",
      "numDice / n: 2 / max: 2000 / pown: 36\r\n",
      "numDice / n: 3 / max: 2000 / pown: 216\r\n",
      "numDice / n: 4 / max: 2000 / pown: 1296\r\n",
      "numDice / n: 5 / max: 2000 / pown: 7776\r\n",
      "rollAcc / acc: 0 / power: 4 / roll: 2 / value: 2592\r\n",
      "rollAcc / acc: 2592 / power: 3 / roll: 0 / value: 0\r\n",
      "rollAcc / acc: 2592 / power: 2 / roll: 0 / value: 0\r\n",
      "rollAcc / acc: 2592 / power: 1 / roll: 5 / value: 30\r\n",
      "rollAcc / acc: 2622 / power: 0 / roll: 2 / value: 2\r\n",
      "rollAcc / acc: 2624 / power: -1\r\n",
      "rollMax / power: 4 / result: 2624\r\n",
      "rollAcc / acc: 0 / power: 4 / roll: 3 / value: 3888\r\n",
      "rollAcc / acc: 3888 / power: 3 / roll: 2 / value: 432\r\n",
      "rollAcc / acc: 4320 / power: 2 / roll: 2 / value: 72\r\n",
      "rollAcc / acc: 4392 / power: 1 / roll: 4 / value: 24\r\n",
      "rollAcc / acc: 4416 / power: 0 / roll: 1 / value: 1\r\n",
      "rollAcc / acc: 4417 / power: -1\r\n",
      "rollMax / power: 4 / result: 4417\r\n",
      "rollAcc / acc: 0 / power: 4 / roll: 1 / value: 1296\r\n",
      "rollAcc / acc: 1296 / power: 3 / roll: 3 / value: 648\r\n",
      "rollAcc / acc: 1944 / power: 2 / roll: 5 / value: 180\r\n",
      "rollAcc / acc: 2124 / power: 1 / roll: 0 / value: 0\r\n",
      "rollAcc / acc: 2124 / power: 0 / roll: 2 / value: 2\r\n",
      "rollAcc / acc: 2126 / power: -1\r\n",
      "rollMax / power: 4 / result: 2126\r\n",
      "rollAcc / acc: 0 / power: 4 / roll: 3 / value: 3888\r\n",
      "rollAcc / acc: 3888 / power: 3 / roll: 0 / value: 0\r\n",
      "rollAcc / acc: 3888 / power: 2 / roll: 1 / value: 36\r\n",
      "rollAcc / acc: 3924 / power: 1 / roll: 0 / value: 0\r\n",
      "rollAcc / acc: 3924 / power: 0 / roll: 1 / value: 1\r\n",
      "rollAcc / acc: 3925 / power: -1\r\n",
      "rollMax / power: 4 / result: 3925\r\n",
      "rollAcc / acc: 0 / power: 4 / roll: 0 / value: 0\r\n",
      "rollAcc / acc: 0 / power: 3 / roll: 4 / value: 864\r\n",
      "rollAcc / acc: 864 / power: 2 / roll: 3 / value: 108\r\n",
      "rollAcc / acc: 972 / power: 1 / roll: 4 / value: 24\r\n",
      "rollAcc / acc: 996 / power: 0 / roll: 1 / value: 1\r\n",
      "rollAcc / acc: 997 / power: -1\r\n",
      "rollMax / power: 4 / result: 997\r\n"
     ]
    }
   ],
   "source": [
    "//// ignore\n",
    "\n",
    "inverseTransformSamplingRoll true 2000"
   ]
  },
  {
   "cell_type": "code",
   "execution_count": null,
   "metadata": {
    "dotnet_repl_cellExecutionStartTime": "2023-07-07T09:44:16.31667-03:00",
    "dotnet_repl_cellExecutionEndTime": "2023-07-07T09:44:16.4247457-03:00",
    "dotnet_interactive": {
     "language": "fsharp"
    },
    "polyglot_notebook": {
     "kernelName": "fsharp"
    }
   },
   "outputs": [
    {
     "data": {
      "text/html": [
       "<table><thead><tr><th><i>index</i></th><th>value</th></tr></thead><tbody><tr><td>0</td><td><details class=\"dni-treeview\"><summary><span class=\"dni-code-hint\"><code>(1, 14)</code></span></summary><div><table><thead><tr></tr></thead><tbody><tr><td>Item1</td><td><div class=\"dni-plaintext\"><pre>1</pre></div></td></tr><tr><td>Item2</td><td><div class=\"dni-plaintext\"><pre>14</pre></div></td></tr></tbody></table></div></details></td></tr><tr><td>1</td><td><details class=\"dni-treeview\"><summary><span class=\"dni-code-hint\"><code>(2, 14)</code></span></summary><div><table><thead><tr></tr></thead><tbody><tr><td>Item1</td><td><div class=\"dni-plaintext\"><pre>2</pre></div></td></tr><tr><td>Item2</td><td><div class=\"dni-plaintext\"><pre>14</pre></div></td></tr></tbody></table></div></details></td></tr><tr><td>2</td><td><details class=\"dni-treeview\"><summary><span class=\"dni-code-hint\"><code>(3, 8)</code></span></summary><div><table><thead><tr></tr></thead><tbody><tr><td>Item1</td><td><div class=\"dni-plaintext\"><pre>3</pre></div></td></tr><tr><td>Item2</td><td><div class=\"dni-plaintext\"><pre>8</pre></div></td></tr></tbody></table></div></details></td></tr><tr><td>3</td><td><details class=\"dni-treeview\"><summary><span class=\"dni-code-hint\"><code>(4, 14)</code></span></summary><div><table><thead><tr></tr></thead><tbody><tr><td>Item1</td><td><div class=\"dni-plaintext\"><pre>4</pre></div></td></tr><tr><td>Item2</td><td><div class=\"dni-plaintext\"><pre>14</pre></div></td></tr></tbody></table></div></details></td></tr><tr><td>4</td><td><details class=\"dni-treeview\"><summary><span class=\"dni-code-hint\"><code>(5, 7)</code></span></summary><div><table><thead><tr></tr></thead><tbody><tr><td>Item1</td><td><div class=\"dni-plaintext\"><pre>5</pre></div></td></tr><tr><td>Item2</td><td><div class=\"dni-plaintext\"><pre>7</pre></div></td></tr></tbody></table></div></details></td></tr><tr><td>5</td><td><details class=\"dni-treeview\"><summary><span class=\"dni-code-hint\"><code>(6, 6)</code></span></summary><div><table><thead><tr></tr></thead><tbody><tr><td>Item1</td><td><div class=\"dni-plaintext\"><pre>6</pre></div></td></tr><tr><td>Item2</td><td><div class=\"dni-plaintext\"><pre>6</pre></div></td></tr></tbody></table></div></details></td></tr><tr><td>6</td><td><details class=\"dni-treeview\"><summary><span class=\"dni-code-hint\"><code>(7, 8)</code></span></summary><div><table><thead><tr></tr></thead><tbody><tr><td>Item1</td><td><div class=\"dni-plaintext\"><pre>7</pre></div></td></tr><tr><td>Item2</td><td><div class=\"dni-plaintext\"><pre>8</pre></div></td></tr></tbody></table></div></details></td></tr><tr><td>7</td><td><details class=\"dni-treeview\"><summary><span class=\"dni-code-hint\"><code>(8, 9)</code></span></summary><div><table><thead><tr></tr></thead><tbody><tr><td>Item1</td><td><div class=\"dni-plaintext\"><pre>8</pre></div></td></tr><tr><td>Item2</td><td><div class=\"dni-plaintext\"><pre>9</pre></div></td></tr></tbody></table></div></details></td></tr><tr><td>8</td><td><details class=\"dni-treeview\"><summary><span class=\"dni-code-hint\"><code>(9, 10)</code></span></summary><div><table><thead><tr></tr></thead><tbody><tr><td>Item1</td><td><div class=\"dni-plaintext\"><pre>9</pre></div></td></tr><tr><td>Item2</td><td><div class=\"dni-plaintext\"><pre>10</pre></div></td></tr></tbody></table></div></details></td></tr><tr><td>9</td><td><details class=\"dni-treeview\"><summary><span class=\"dni-code-hint\"><code>(10, 10)</code></span></summary><div><table><thead><tr></tr></thead><tbody><tr><td>Item1</td><td><div class=\"dni-plaintext\"><pre>10</pre></div></td></tr><tr><td>Item2</td><td><div class=\"dni-plaintext\"><pre>10</pre></div></td></tr></tbody></table></div></details></td></tr></tbody></table><style>\r\n",
       ".dni-code-hint {\r\n",
       "    font-style: italic;\r\n",
       "    overflow: hidden;\r\n",
       "    white-space: nowrap;\r\n",
       "}\r\n",
       ".dni-treeview {\r\n",
       "    white-space: nowrap;\r\n",
       "}\r\n",
       ".dni-treeview td {\r\n",
       "    vertical-align: top;\r\n",
       "    text-align: start;\r\n",
       "}\r\n",
       "details.dni-treeview {\r\n",
       "    padding-left: 1em;\r\n",
       "}\r\n",
       "table td {\r\n",
       "    text-align: start;\r\n",
       "}\r\n",
       "table tr { \r\n",
       "    vertical-align: top; \r\n",
       "    margin: 0em 0px;\r\n",
       "}\r\n",
       "table tr td pre \r\n",
       "{ \r\n",
       "    vertical-align: top !important; \r\n",
       "    margin: 0em 0px !important;\r\n",
       "} \r\n",
       "table th {\r\n",
       "    text-align: start;\r\n",
       "}\r\n",
       "</style>"
      ]
     },
     "metadata": {},
     "output_type": "display_data"
    }
   ],
   "source": [
    "//// ignore\n",
    "\n",
    "[1..100]\n",
    "|> List.map (fun _ -> inverseTransformSamplingRoll false 10)\n",
    "|> List.groupBy id\n",
    "|> List.map (fun (k, v) -> k, v.Length)\n",
    "|> List.sortBy fst"
   ]
  },
  {
   "cell_type": "code",
   "execution_count": null,
   "metadata": {
    "dotnet_repl_cellExecutionStartTime": "2023-07-07T09:44:16.4247724-03:00",
    "dotnet_repl_cellExecutionEndTime": "2023-07-07T09:44:16.8232202-03:00",
    "dotnet_interactive": {
     "language": "fsharp"
    },
    "polyglot_notebook": {
     "kernelName": "fsharp"
    }
   },
   "outputs": [
    {
     "data": {
      "text/html": [
       "<div class=\"dni-plaintext\"><pre>34691</pre></div><style>\r\n",
       ".dni-code-hint {\r\n",
       "    font-style: italic;\r\n",
       "    overflow: hidden;\r\n",
       "    white-space: nowrap;\r\n",
       "}\r\n",
       ".dni-treeview {\r\n",
       "    white-space: nowrap;\r\n",
       "}\r\n",
       ".dni-treeview td {\r\n",
       "    vertical-align: top;\r\n",
       "    text-align: start;\r\n",
       "}\r\n",
       "details.dni-treeview {\r\n",
       "    padding-left: 1em;\r\n",
       "}\r\n",
       "table td {\r\n",
       "    text-align: start;\r\n",
       "}\r\n",
       "table tr { \r\n",
       "    vertical-align: top; \r\n",
       "    margin: 0em 0px;\r\n",
       "}\r\n",
       "table tr td pre \r\n",
       "{ \r\n",
       "    vertical-align: top !important; \r\n",
       "    margin: 0em 0px !important;\r\n",
       "} \r\n",
       "table th {\r\n",
       "    text-align: start;\r\n",
       "}\r\n",
       "</style>"
      ]
     },
     "metadata": {},
     "output_type": "display_data"
    }
   ],
   "source": [
    "//// ignore\n",
    "\n",
    "let max = 10\n",
    "let n = 30\n",
    "let even = (n / max) |> int\n",
    "\n",
    "let rec inverseTransformSamplingRollN current =\n",
    "    let roll = rollMax inverseTransformSamplingRoll max n\n",
    "    if roll |> List.forall ((=) even)\n",
    "    then current\n",
    "    else inverseTransformSamplingRollN (current + 1)\n",
    "\n",
    "inverseTransformSamplingRollN 0"
   ]
  },
  {
   "cell_type": "code",
   "execution_count": null,
   "metadata": {
    "dotnet_repl_cellExecutionStartTime": "2023-07-07T09:44:16.8232427-03:00",
    "dotnet_repl_cellExecutionEndTime": "2023-07-07T09:46:44.7690027-03:00",
    "dotnet_interactive": {
     "language": "fsharp"
    },
    "polyglot_notebook": {
     "kernelName": "fsharp"
    }
   },
   "outputs": [
    {
     "data": {
      "text/html": [
       "<div class=\"dni-plaintext\"><pre>204382.58</pre></div><style>\r\n",
       ".dni-code-hint {\r\n",
       "    font-style: italic;\r\n",
       "    overflow: hidden;\r\n",
       "    white-space: nowrap;\r\n",
       "}\r\n",
       ".dni-treeview {\r\n",
       "    white-space: nowrap;\r\n",
       "}\r\n",
       ".dni-treeview td {\r\n",
       "    vertical-align: top;\r\n",
       "    text-align: start;\r\n",
       "}\r\n",
       "details.dni-treeview {\r\n",
       "    padding-left: 1em;\r\n",
       "}\r\n",
       "table td {\r\n",
       "    text-align: start;\r\n",
       "}\r\n",
       "table tr { \r\n",
       "    vertical-align: top; \r\n",
       "    margin: 0em 0px;\r\n",
       "}\r\n",
       "table tr td pre \r\n",
       "{ \r\n",
       "    vertical-align: top !important; \r\n",
       "    margin: 0em 0px !important;\r\n",
       "} \r\n",
       "table th {\r\n",
       "    text-align: start;\r\n",
       "}\r\n",
       "</style>"
      ]
     },
     "metadata": {},
     "output_type": "display_data"
    }
   ],
   "source": [
    "//// ignore\n",
    "\n",
    "[1..100] |> List.map (fun _ -> inverseTransformSamplingRollN 0) |> List.map float |> List.average"
   ]
  },
  {
   "cell_type": "code",
   "execution_count": null,
   "metadata": {
    "dotnet_repl_cellExecutionStartTime": "2023-07-07T09:46:44.7690254-03:00",
    "dotnet_repl_cellExecutionEndTime": "2023-07-07T09:46:44.7923828-03:00",
    "dotnet_interactive": {
     "language": "fsharp"
    },
    "polyglot_notebook": {
     "kernelName": "fsharp"
    }
   },
   "outputs": [],
   "source": [
    "let inverseTransformSamplingRoll2 log max =\n",
    "    let rec numDice n =\n",
    "        if log then printfn $\"numDice / n: {n} / max: {max} / pown: {pown 6 n}\"\n",
    "        if pown 6 n > max\n",
    "        then n\n",
    "        else numDice (n + 1)\n",
    "\n",
    "    let rec rollAcc acc power =\n",
    "        if power < 0\n",
    "        then\n",
    "            if log then printfn $\"rollAcc / acc: {acc} / power: {power}\"\n",
    "            acc\n",
    "        else\n",
    "            let roll = rollD6 ()\n",
    "            let value = (roll - 1) * (pown 6 power)\n",
    "            if log then printfn $\"rollAcc / acc: {acc} / power: {power} / roll: {roll} / value: {value}\"\n",
    "            rollAcc (acc + value) (power - 1)\n",
    "\n",
    "    let rec rollMax power =\n",
    "        let result = rollAcc 0 power\n",
    "        if log then printfn $\"rollMax / power: {power} / result: {result}\"\n",
    "        if result < max\n",
    "        then result + 1\n",
    "        else rollMax power\n",
    "\n",
    "    rollMax ((numDice 1) - 1)"
   ]
  },
  {
   "cell_type": "code",
   "execution_count": null,
   "metadata": {
    "dotnet_repl_cellExecutionStartTime": "2023-07-07T09:46:44.7924036-03:00",
    "dotnet_repl_cellExecutionEndTime": "2023-07-07T09:46:44.8061823-03:00",
    "dotnet_interactive": {
     "language": "fsharp"
    },
    "polyglot_notebook": {
     "kernelName": "fsharp"
    }
   },
   "outputs": [
    {
     "data": {
      "text/html": [
       "<table><thead><tr><th><i>index</i></th><th>value</th></tr></thead><tbody><tr><td>0</td><td><details class=\"dni-treeview\"><summary><span class=\"dni-code-hint\"><code>(1, 9)</code></span></summary><div><table><thead><tr></tr></thead><tbody><tr><td>Item1</td><td><div class=\"dni-plaintext\"><pre>1</pre></div></td></tr><tr><td>Item2</td><td><div class=\"dni-plaintext\"><pre>9</pre></div></td></tr></tbody></table></div></details></td></tr><tr><td>1</td><td><details class=\"dni-treeview\"><summary><span class=\"dni-code-hint\"><code>(2, 4)</code></span></summary><div><table><thead><tr></tr></thead><tbody><tr><td>Item1</td><td><div class=\"dni-plaintext\"><pre>2</pre></div></td></tr><tr><td>Item2</td><td><div class=\"dni-plaintext\"><pre>4</pre></div></td></tr></tbody></table></div></details></td></tr><tr><td>2</td><td><details class=\"dni-treeview\"><summary><span class=\"dni-code-hint\"><code>(3, 11)</code></span></summary><div><table><thead><tr></tr></thead><tbody><tr><td>Item1</td><td><div class=\"dni-plaintext\"><pre>3</pre></div></td></tr><tr><td>Item2</td><td><div class=\"dni-plaintext\"><pre>11</pre></div></td></tr></tbody></table></div></details></td></tr><tr><td>3</td><td><details class=\"dni-treeview\"><summary><span class=\"dni-code-hint\"><code>(4, 5)</code></span></summary><div><table><thead><tr></tr></thead><tbody><tr><td>Item1</td><td><div class=\"dni-plaintext\"><pre>4</pre></div></td></tr><tr><td>Item2</td><td><div class=\"dni-plaintext\"><pre>5</pre></div></td></tr></tbody></table></div></details></td></tr><tr><td>4</td><td><details class=\"dni-treeview\"><summary><span class=\"dni-code-hint\"><code>(5, 13)</code></span></summary><div><table><thead><tr></tr></thead><tbody><tr><td>Item1</td><td><div class=\"dni-plaintext\"><pre>5</pre></div></td></tr><tr><td>Item2</td><td><div class=\"dni-plaintext\"><pre>13</pre></div></td></tr></tbody></table></div></details></td></tr><tr><td>5</td><td><details class=\"dni-treeview\"><summary><span class=\"dni-code-hint\"><code>(6, 11)</code></span></summary><div><table><thead><tr></tr></thead><tbody><tr><td>Item1</td><td><div class=\"dni-plaintext\"><pre>6</pre></div></td></tr><tr><td>Item2</td><td><div class=\"dni-plaintext\"><pre>11</pre></div></td></tr></tbody></table></div></details></td></tr><tr><td>6</td><td><details class=\"dni-treeview\"><summary><span class=\"dni-code-hint\"><code>(7, 13)</code></span></summary><div><table><thead><tr></tr></thead><tbody><tr><td>Item1</td><td><div class=\"dni-plaintext\"><pre>7</pre></div></td></tr><tr><td>Item2</td><td><div class=\"dni-plaintext\"><pre>13</pre></div></td></tr></tbody></table></div></details></td></tr><tr><td>7</td><td><details class=\"dni-treeview\"><summary><span class=\"dni-code-hint\"><code>(8, 10)</code></span></summary><div><table><thead><tr></tr></thead><tbody><tr><td>Item1</td><td><div class=\"dni-plaintext\"><pre>8</pre></div></td></tr><tr><td>Item2</td><td><div class=\"dni-plaintext\"><pre>10</pre></div></td></tr></tbody></table></div></details></td></tr><tr><td>8</td><td><details class=\"dni-treeview\"><summary><span class=\"dni-code-hint\"><code>(9, 13)</code></span></summary><div><table><thead><tr></tr></thead><tbody><tr><td>Item1</td><td><div class=\"dni-plaintext\"><pre>9</pre></div></td></tr><tr><td>Item2</td><td><div class=\"dni-plaintext\"><pre>13</pre></div></td></tr></tbody></table></div></details></td></tr><tr><td>9</td><td><details class=\"dni-treeview\"><summary><span class=\"dni-code-hint\"><code>(10, 11)</code></span></summary><div><table><thead><tr></tr></thead><tbody><tr><td>Item1</td><td><div class=\"dni-plaintext\"><pre>10</pre></div></td></tr><tr><td>Item2</td><td><div class=\"dni-plaintext\"><pre>11</pre></div></td></tr></tbody></table></div></details></td></tr></tbody></table><style>\r\n",
       ".dni-code-hint {\r\n",
       "    font-style: italic;\r\n",
       "    overflow: hidden;\r\n",
       "    white-space: nowrap;\r\n",
       "}\r\n",
       ".dni-treeview {\r\n",
       "    white-space: nowrap;\r\n",
       "}\r\n",
       ".dni-treeview td {\r\n",
       "    vertical-align: top;\r\n",
       "    text-align: start;\r\n",
       "}\r\n",
       "details.dni-treeview {\r\n",
       "    padding-left: 1em;\r\n",
       "}\r\n",
       "table td {\r\n",
       "    text-align: start;\r\n",
       "}\r\n",
       "table tr { \r\n",
       "    vertical-align: top; \r\n",
       "    margin: 0em 0px;\r\n",
       "}\r\n",
       "table tr td pre \r\n",
       "{ \r\n",
       "    vertical-align: top !important; \r\n",
       "    margin: 0em 0px !important;\r\n",
       "} \r\n",
       "table th {\r\n",
       "    text-align: start;\r\n",
       "}\r\n",
       "</style>"
      ]
     },
     "metadata": {},
     "output_type": "display_data"
    }
   ],
   "source": [
    "//// ignore\n",
    "\n",
    "[1..100]\n",
    "|> List.map (fun _ -> inverseTransformSamplingRoll2 false 10)\n",
    "|> List.groupBy id\n",
    "|> List.map (fun (k, v) -> k, v.Length)\n",
    "|> List.sortBy fst"
   ]
  },
  {
   "cell_type": "code",
   "execution_count": null,
   "metadata": {
    "dotnet_repl_cellExecutionStartTime": "2023-07-07T09:46:44.8062138-03:00",
    "dotnet_repl_cellExecutionEndTime": "2023-07-07T09:46:44.826598-03:00",
    "dotnet_interactive": {
     "language": "fsharp"
    },
    "polyglot_notebook": {
     "kernelName": "fsharp"
    }
   },
   "outputs": [
    {
     "data": {
      "text/html": [
       "<div class=\"dni-plaintext\"><pre>1</pre></div><style>\r\n",
       ".dni-code-hint {\r\n",
       "    font-style: italic;\r\n",
       "    overflow: hidden;\r\n",
       "    white-space: nowrap;\r\n",
       "}\r\n",
       ".dni-treeview {\r\n",
       "    white-space: nowrap;\r\n",
       "}\r\n",
       ".dni-treeview td {\r\n",
       "    vertical-align: top;\r\n",
       "    text-align: start;\r\n",
       "}\r\n",
       "details.dni-treeview {\r\n",
       "    padding-left: 1em;\r\n",
       "}\r\n",
       "table td {\r\n",
       "    text-align: start;\r\n",
       "}\r\n",
       "table tr { \r\n",
       "    vertical-align: top; \r\n",
       "    margin: 0em 0px;\r\n",
       "}\r\n",
       "table tr td pre \r\n",
       "{ \r\n",
       "    vertical-align: top !important; \r\n",
       "    margin: 0em 0px !important;\r\n",
       "} \r\n",
       "table th {\r\n",
       "    text-align: start;\r\n",
       "}\r\n",
       "</style>"
      ]
     },
     "metadata": {},
     "output_type": "display_data"
    },
    {
     "name": "stdout",
     "output_type": "stream",
     "text": [
      "numDice / n: 1 / max: 2000 / pown: 6\r\n",
      "numDice / n: 2 / max: 2000 / pown: 36\r\n",
      "numDice / n: 3 / max: 2000 / pown: 216\r\n",
      "numDice / n: 4 / max: 2000 / pown: 1296\r\n",
      "numDice / n: 5 / max: 2000 / pown: 7776\r\n",
      "rollAcc / acc: 0 / power: 4 / roll: 4 / value: 3888\r\n",
      "rollAcc / acc: 3888 / power: 3 / roll: 4 / value: 648\r\n",
      "rollAcc / acc: 4536 / power: 2 / roll: 2 / value: 36\r\n",
      "rollAcc / acc: 4572 / power: 1 / roll: 1 / value: 0\r\n",
      "rollAcc / acc: 4572 / power: 0 / roll: 4 / value: 3\r\n",
      "rollAcc / acc: 4575 / power: -1\r\n",
      "rollMax / power: 4 / result: 4575\r\n",
      "rollAcc / acc: 0 / power: 4 / roll: 5 / value: 5184\r\n",
      "rollAcc / acc: 5184 / power: 3 / roll: 4 / value: 648\r\n",
      "rollAcc / acc: 5832 / power: 2 / roll: 4 / value: 108\r\n",
      "rollAcc / acc: 5940 / power: 1 / roll: 1 / value: 0\r\n",
      "rollAcc / acc: 5940 / power: 0 / roll: 4 / value: 3\r\n",
      "rollAcc / acc: 5943 / power: -1\r\n",
      "rollMax / power: 4 / result: 5943\r\n",
      "rollAcc / acc: 0 / power: 4 / roll: 1 / value: 0\r\n",
      "rollAcc / acc: 0 / power: 3 / roll: 1 / value: 0\r\n",
      "rollAcc / acc: 0 / power: 2 / roll: 1 / value: 0\r\n",
      "rollAcc / acc: 0 / power: 1 / roll: 1 / value: 0\r\n",
      "rollAcc / acc: 0 / power: 0 / roll: 1 / value: 0\r\n",
      "rollAcc / acc: 0 / power: -1\r\n",
      "rollMax / power: 4 / result: 0\r\n"
     ]
    }
   ],
   "source": [
    "//// ignore\n",
    "\n",
    "inverseTransformSamplingRoll2 true 2000"
   ]
  },
  {
   "cell_type": "code",
   "execution_count": null,
   "metadata": {
    "dotnet_repl_cellExecutionStartTime": "2023-07-07T09:46:44.8266378-03:00",
    "dotnet_repl_cellExecutionEndTime": "2023-07-07T09:46:49.6146391-03:00",
    "dotnet_interactive": {
     "language": "fsharp"
    },
    "polyglot_notebook": {
     "kernelName": "fsharp"
    }
   },
   "outputs": [
    {
     "data": {
      "text/html": [
       "<div class=\"dni-plaintext\"><pre>590013</pre></div><style>\r\n",
       ".dni-code-hint {\r\n",
       "    font-style: italic;\r\n",
       "    overflow: hidden;\r\n",
       "    white-space: nowrap;\r\n",
       "}\r\n",
       ".dni-treeview {\r\n",
       "    white-space: nowrap;\r\n",
       "}\r\n",
       ".dni-treeview td {\r\n",
       "    vertical-align: top;\r\n",
       "    text-align: start;\r\n",
       "}\r\n",
       "details.dni-treeview {\r\n",
       "    padding-left: 1em;\r\n",
       "}\r\n",
       "table td {\r\n",
       "    text-align: start;\r\n",
       "}\r\n",
       "table tr { \r\n",
       "    vertical-align: top; \r\n",
       "    margin: 0em 0px;\r\n",
       "}\r\n",
       "table tr td pre \r\n",
       "{ \r\n",
       "    vertical-align: top !important; \r\n",
       "    margin: 0em 0px !important;\r\n",
       "} \r\n",
       "table th {\r\n",
       "    text-align: start;\r\n",
       "}\r\n",
       "</style>"
      ]
     },
     "metadata": {},
     "output_type": "display_data"
    }
   ],
   "source": [
    "//// ignore\n",
    "\n",
    "let max = 10\n",
    "let n = 30\n",
    "let even = (n / max) |> int\n",
    "\n",
    "let rec inverseTransformSamplingRoll2N current =\n",
    "    let roll = rollMax inverseTransformSamplingRoll2 max n\n",
    "    if roll |> List.forall ((=) even)\n",
    "    then current\n",
    "    else inverseTransformSamplingRoll2N (current + 1)\n",
    "\n",
    "inverseTransformSamplingRoll2N 0"
   ]
  },
  {
   "cell_type": "code",
   "execution_count": null,
   "metadata": {
    "dotnet_repl_cellExecutionStartTime": "2023-07-07T09:46:49.6146692-03:00",
    "dotnet_repl_cellExecutionEndTime": "2023-07-07T09:50:35.7195679-03:00",
    "dotnet_interactive": {
     "language": "fsharp"
    },
    "polyglot_notebook": {
     "kernelName": "fsharp"
    }
   },
   "outputs": [
    {
     "data": {
      "text/html": [
       "<div class=\"dni-plaintext\"><pre>294991.42</pre></div><style>\r\n",
       ".dni-code-hint {\r\n",
       "    font-style: italic;\r\n",
       "    overflow: hidden;\r\n",
       "    white-space: nowrap;\r\n",
       "}\r\n",
       ".dni-treeview {\r\n",
       "    white-space: nowrap;\r\n",
       "}\r\n",
       ".dni-treeview td {\r\n",
       "    vertical-align: top;\r\n",
       "    text-align: start;\r\n",
       "}\r\n",
       "details.dni-treeview {\r\n",
       "    padding-left: 1em;\r\n",
       "}\r\n",
       "table td {\r\n",
       "    text-align: start;\r\n",
       "}\r\n",
       "table tr { \r\n",
       "    vertical-align: top; \r\n",
       "    margin: 0em 0px;\r\n",
       "}\r\n",
       "table tr td pre \r\n",
       "{ \r\n",
       "    vertical-align: top !important; \r\n",
       "    margin: 0em 0px !important;\r\n",
       "} \r\n",
       "table th {\r\n",
       "    text-align: start;\r\n",
       "}\r\n",
       "</style>"
      ]
     },
     "metadata": {},
     "output_type": "display_data"
    }
   ],
   "source": [
    "//// ignore\n",
    "\n",
    "[1..100] |> List.map (fun _ -> inverseTransformSamplingRoll2N 0) |> List.map float |> List.average"
   ]
  },
  {
   "cell_type": "markdown",
   "metadata": {
    "dotnet_repl_cellExecutionStartTime": "2023-07-07T09:50:35.7196088-03:00",
    "dotnet_repl_cellExecutionEndTime": "2023-07-07T09:50:35.7215744-03:00"
   },
   "source": [
    "### Rejection Sampling Roll"
   ]
  },
  {
   "cell_type": "code",
   "execution_count": null,
   "metadata": {
    "dotnet_repl_cellExecutionStartTime": "2023-07-07T09:50:35.7215932-03:00",
    "dotnet_repl_cellExecutionEndTime": "2023-07-07T09:50:35.7427237-03:00",
    "dotnet_interactive": {
     "language": "fsharp"
    },
    "polyglot_notebook": {
     "kernelName": "fsharp"
    }
   },
   "outputs": [],
   "source": [
    "let rejectionSamplingRoll log max =\n",
    "    let rec numDice n =\n",
    "        if log then printfn $\"numDice / n: {n} / max: {max} / pown: {pown 6 n}\"\n",
    "        if pown 6 n > max\n",
    "        then n\n",
    "        else numDice (n + 1)\n",
    "\n",
    "    let rec rollAcc acc power =\n",
    "        if power < 0\n",
    "        then\n",
    "            if log then printfn $\"rollAcc / acc: {acc} / power: {power}\"\n",
    "            acc\n",
    "        else\n",
    "            let roll = rollD6 () - 1\n",
    "            let value = roll * (pown 6 power)\n",
    "            if log then printfn $\"rollAcc / acc: {acc} / power: {power} / roll: {roll} / value: {value}\"\n",
    "            rollAcc (acc + value) (power - 1)\n",
    "\n",
    "    let rec rollMax power =\n",
    "        let result = rollAcc 0 power\n",
    "        if log then printfn $\"rollMax / power: {power} / result: {result}\"\n",
    "        if result >= 1 && result <= max\n",
    "        then result\n",
    "        else rollMax power\n",
    "\n",
    "    rollMax ((numDice 1) - 1)"
   ]
  },
  {
   "cell_type": "code",
   "execution_count": null,
   "metadata": {
    "dotnet_repl_cellExecutionStartTime": "2023-07-07T09:50:35.7427487-03:00",
    "dotnet_repl_cellExecutionEndTime": "2023-07-07T09:50:35.7632761-03:00",
    "dotnet_interactive": {
     "language": "fsharp"
    },
    "polyglot_notebook": {
     "kernelName": "fsharp"
    }
   },
   "outputs": [
    {
     "data": {
      "text/html": [
       "<div class=\"dni-plaintext\"><pre>21</pre></div><style>\r\n",
       ".dni-code-hint {\r\n",
       "    font-style: italic;\r\n",
       "    overflow: hidden;\r\n",
       "    white-space: nowrap;\r\n",
       "}\r\n",
       ".dni-treeview {\r\n",
       "    white-space: nowrap;\r\n",
       "}\r\n",
       ".dni-treeview td {\r\n",
       "    vertical-align: top;\r\n",
       "    text-align: start;\r\n",
       "}\r\n",
       "details.dni-treeview {\r\n",
       "    padding-left: 1em;\r\n",
       "}\r\n",
       "table td {\r\n",
       "    text-align: start;\r\n",
       "}\r\n",
       "table tr { \r\n",
       "    vertical-align: top; \r\n",
       "    margin: 0em 0px;\r\n",
       "}\r\n",
       "table tr td pre \r\n",
       "{ \r\n",
       "    vertical-align: top !important; \r\n",
       "    margin: 0em 0px !important;\r\n",
       "} \r\n",
       "table th {\r\n",
       "    text-align: start;\r\n",
       "}\r\n",
       "</style>"
      ]
     },
     "metadata": {},
     "output_type": "display_data"
    },
    {
     "name": "stdout",
     "output_type": "stream",
     "text": [
      "numDice / n: 1 / max: 2000 / pown: 6\r\n",
      "numDice / n: 2 / max: 2000 / pown: 36\r\n",
      "numDice / n: 3 / max: 2000 / pown: 216\r\n",
      "numDice / n: 4 / max: 2000 / pown: 1296\r\n",
      "numDice / n: 5 / max: 2000 / pown: 7776\r\n",
      "rollAcc / acc: 0 / power: 4 / roll: 5 / value: 6480\r\n",
      "rollAcc / acc: 6480 / power: 3 / roll: 5 / value: 1080\r\n",
      "rollAcc / acc: 7560 / power: 2 / roll: 5 / value: 180\r\n",
      "rollAcc / acc: 7740 / power: 1 / roll: 3 / value: 18\r\n",
      "rollAcc / acc: 7758 / power: 0 / roll: 5 / value: 5\r\n",
      "rollAcc / acc: 7763 / power: -1\r\n",
      "rollMax / power: 4 / result: 7763\r\n",
      "rollAcc / acc: 0 / power: 4 / roll: 2 / value: 2592\r\n",
      "rollAcc / acc: 2592 / power: 3 / roll: 3 / value: 648\r\n",
      "rollAcc / acc: 3240 / power: 2 / roll: 2 / value: 72\r\n",
      "rollAcc / acc: 3312 / power: 1 / roll: 2 / value: 12\r\n",
      "rollAcc / acc: 3324 / power: 0 / roll: 4 / value: 4\r\n",
      "rollAcc / acc: 3328 / power: -1\r\n",
      "rollMax / power: 4 / result: 3328\r\n",
      "rollAcc / acc: 0 / power: 4 / roll: 0 / value: 0\r\n",
      "rollAcc / acc: 0 / power: 3 / roll: 0 / value: 0\r\n",
      "rollAcc / acc: 0 / power: 2 / roll: 0 / value: 0\r\n",
      "rollAcc / acc: 0 / power: 1 / roll: 3 / value: 18\r\n",
      "rollAcc / acc: 18 / power: 0 / roll: 3 / value: 3\r\n",
      "rollAcc / acc: 21 / power: -1\r\n",
      "rollMax / power: 4 / result: 21\r\n"
     ]
    }
   ],
   "source": [
    "//// ignore\n",
    "\n",
    "rejectionSamplingRoll true 2000"
   ]
  },
  {
   "cell_type": "code",
   "execution_count": null,
   "metadata": {
    "dotnet_repl_cellExecutionStartTime": "2023-07-07T09:50:35.7633123-03:00",
    "dotnet_repl_cellExecutionEndTime": "2023-07-07T09:50:35.7960191-03:00",
    "dotnet_interactive": {
     "language": "fsharp"
    },
    "polyglot_notebook": {
     "kernelName": "fsharp"
    }
   },
   "outputs": [
    {
     "data": {
      "text/html": [
       "<table><thead><tr><th><i>index</i></th><th>value</th></tr></thead><tbody><tr><td>0</td><td><details class=\"dni-treeview\"><summary><span class=\"dni-code-hint\"><code>(1, 12)</code></span></summary><div><table><thead><tr></tr></thead><tbody><tr><td>Item1</td><td><div class=\"dni-plaintext\"><pre>1</pre></div></td></tr><tr><td>Item2</td><td><div class=\"dni-plaintext\"><pre>12</pre></div></td></tr></tbody></table></div></details></td></tr><tr><td>1</td><td><details class=\"dni-treeview\"><summary><span class=\"dni-code-hint\"><code>(2, 6)</code></span></summary><div><table><thead><tr></tr></thead><tbody><tr><td>Item1</td><td><div class=\"dni-plaintext\"><pre>2</pre></div></td></tr><tr><td>Item2</td><td><div class=\"dni-plaintext\"><pre>6</pre></div></td></tr></tbody></table></div></details></td></tr><tr><td>2</td><td><details class=\"dni-treeview\"><summary><span class=\"dni-code-hint\"><code>(3, 8)</code></span></summary><div><table><thead><tr></tr></thead><tbody><tr><td>Item1</td><td><div class=\"dni-plaintext\"><pre>3</pre></div></td></tr><tr><td>Item2</td><td><div class=\"dni-plaintext\"><pre>8</pre></div></td></tr></tbody></table></div></details></td></tr><tr><td>3</td><td><details class=\"dni-treeview\"><summary><span class=\"dni-code-hint\"><code>(4, 14)</code></span></summary><div><table><thead><tr></tr></thead><tbody><tr><td>Item1</td><td><div class=\"dni-plaintext\"><pre>4</pre></div></td></tr><tr><td>Item2</td><td><div class=\"dni-plaintext\"><pre>14</pre></div></td></tr></tbody></table></div></details></td></tr><tr><td>4</td><td><details class=\"dni-treeview\"><summary><span class=\"dni-code-hint\"><code>(5, 9)</code></span></summary><div><table><thead><tr></tr></thead><tbody><tr><td>Item1</td><td><div class=\"dni-plaintext\"><pre>5</pre></div></td></tr><tr><td>Item2</td><td><div class=\"dni-plaintext\"><pre>9</pre></div></td></tr></tbody></table></div></details></td></tr><tr><td>5</td><td><details class=\"dni-treeview\"><summary><span class=\"dni-code-hint\"><code>(6, 5)</code></span></summary><div><table><thead><tr></tr></thead><tbody><tr><td>Item1</td><td><div class=\"dni-plaintext\"><pre>6</pre></div></td></tr><tr><td>Item2</td><td><div class=\"dni-plaintext\"><pre>5</pre></div></td></tr></tbody></table></div></details></td></tr><tr><td>6</td><td><details class=\"dni-treeview\"><summary><span class=\"dni-code-hint\"><code>(7, 11)</code></span></summary><div><table><thead><tr></tr></thead><tbody><tr><td>Item1</td><td><div class=\"dni-plaintext\"><pre>7</pre></div></td></tr><tr><td>Item2</td><td><div class=\"dni-plaintext\"><pre>11</pre></div></td></tr></tbody></table></div></details></td></tr><tr><td>7</td><td><details class=\"dni-treeview\"><summary><span class=\"dni-code-hint\"><code>(8, 9)</code></span></summary><div><table><thead><tr></tr></thead><tbody><tr><td>Item1</td><td><div class=\"dni-plaintext\"><pre>8</pre></div></td></tr><tr><td>Item2</td><td><div class=\"dni-plaintext\"><pre>9</pre></div></td></tr></tbody></table></div></details></td></tr><tr><td>8</td><td><details class=\"dni-treeview\"><summary><span class=\"dni-code-hint\"><code>(9, 9)</code></span></summary><div><table><thead><tr></tr></thead><tbody><tr><td>Item1</td><td><div class=\"dni-plaintext\"><pre>9</pre></div></td></tr><tr><td>Item2</td><td><div class=\"dni-plaintext\"><pre>9</pre></div></td></tr></tbody></table></div></details></td></tr><tr><td>9</td><td><details class=\"dni-treeview\"><summary><span class=\"dni-code-hint\"><code>(10, 17)</code></span></summary><div><table><thead><tr></tr></thead><tbody><tr><td>Item1</td><td><div class=\"dni-plaintext\"><pre>10</pre></div></td></tr><tr><td>Item2</td><td><div class=\"dni-plaintext\"><pre>17</pre></div></td></tr></tbody></table></div></details></td></tr></tbody></table><style>\r\n",
       ".dni-code-hint {\r\n",
       "    font-style: italic;\r\n",
       "    overflow: hidden;\r\n",
       "    white-space: nowrap;\r\n",
       "}\r\n",
       ".dni-treeview {\r\n",
       "    white-space: nowrap;\r\n",
       "}\r\n",
       ".dni-treeview td {\r\n",
       "    vertical-align: top;\r\n",
       "    text-align: start;\r\n",
       "}\r\n",
       "details.dni-treeview {\r\n",
       "    padding-left: 1em;\r\n",
       "}\r\n",
       "table td {\r\n",
       "    text-align: start;\r\n",
       "}\r\n",
       "table tr { \r\n",
       "    vertical-align: top; \r\n",
       "    margin: 0em 0px;\r\n",
       "}\r\n",
       "table tr td pre \r\n",
       "{ \r\n",
       "    vertical-align: top !important; \r\n",
       "    margin: 0em 0px !important;\r\n",
       "} \r\n",
       "table th {\r\n",
       "    text-align: start;\r\n",
       "}\r\n",
       "</style>"
      ]
     },
     "metadata": {},
     "output_type": "display_data"
    }
   ],
   "source": [
    "//// ignore\n",
    "\n",
    "[1..100]\n",
    "|> List.map (fun _ -> rejectionSamplingRoll false 10)\n",
    "|> List.groupBy id\n",
    "|> List.map (fun (k, v) -> k, v.Length)\n",
    "|> List.sortBy fst"
   ]
  },
  {
   "cell_type": "code",
   "execution_count": null,
   "metadata": {
    "dotnet_repl_cellExecutionStartTime": "2023-07-07T09:50:35.7960473-03:00",
    "dotnet_repl_cellExecutionEndTime": "2023-07-07T09:50:35.8880487-03:00",
    "dotnet_interactive": {
     "language": "fsharp"
    },
    "polyglot_notebook": {
     "kernelName": "fsharp"
    }
   },
   "outputs": [
    {
     "data": {
      "text/html": [
       "<div class=\"dni-plaintext\"><pre>4323</pre></div><style>\r\n",
       ".dni-code-hint {\r\n",
       "    font-style: italic;\r\n",
       "    overflow: hidden;\r\n",
       "    white-space: nowrap;\r\n",
       "}\r\n",
       ".dni-treeview {\r\n",
       "    white-space: nowrap;\r\n",
       "}\r\n",
       ".dni-treeview td {\r\n",
       "    vertical-align: top;\r\n",
       "    text-align: start;\r\n",
       "}\r\n",
       "details.dni-treeview {\r\n",
       "    padding-left: 1em;\r\n",
       "}\r\n",
       "table td {\r\n",
       "    text-align: start;\r\n",
       "}\r\n",
       "table tr { \r\n",
       "    vertical-align: top; \r\n",
       "    margin: 0em 0px;\r\n",
       "}\r\n",
       "table tr td pre \r\n",
       "{ \r\n",
       "    vertical-align: top !important; \r\n",
       "    margin: 0em 0px !important;\r\n",
       "} \r\n",
       "table th {\r\n",
       "    text-align: start;\r\n",
       "}\r\n",
       "</style>"
      ]
     },
     "metadata": {},
     "output_type": "display_data"
    }
   ],
   "source": [
    "//// ignore\n",
    "\n",
    "let max = 10\n",
    "let n = 30\n",
    "let even = (n / max) |> int\n",
    "\n",
    "let rec rejectionSamplingRollN current =\n",
    "    let roll = rollMax rejectionSamplingRoll max n\n",
    "    if roll |> List.forall ((=) even)\n",
    "    then current\n",
    "    else rejectionSamplingRollN (current + 1)\n",
    "\n",
    "rejectionSamplingRollN 0"
   ]
  },
  {
   "cell_type": "code",
   "execution_count": null,
   "metadata": {
    "dotnet_repl_cellExecutionStartTime": "2023-07-07T09:50:35.8880738-03:00",
    "dotnet_repl_cellExecutionEndTime": "2023-07-07T09:53:28.230294-03:00",
    "dotnet_interactive": {
     "language": "fsharp"
    },
    "polyglot_notebook": {
     "kernelName": "fsharp"
    }
   },
   "outputs": [
    {
     "data": {
      "text/html": [
       "<div class=\"dni-plaintext\"><pre>239320.97</pre></div><style>\r\n",
       ".dni-code-hint {\r\n",
       "    font-style: italic;\r\n",
       "    overflow: hidden;\r\n",
       "    white-space: nowrap;\r\n",
       "}\r\n",
       ".dni-treeview {\r\n",
       "    white-space: nowrap;\r\n",
       "}\r\n",
       ".dni-treeview td {\r\n",
       "    vertical-align: top;\r\n",
       "    text-align: start;\r\n",
       "}\r\n",
       "details.dni-treeview {\r\n",
       "    padding-left: 1em;\r\n",
       "}\r\n",
       "table td {\r\n",
       "    text-align: start;\r\n",
       "}\r\n",
       "table tr { \r\n",
       "    vertical-align: top; \r\n",
       "    margin: 0em 0px;\r\n",
       "}\r\n",
       "table tr td pre \r\n",
       "{ \r\n",
       "    vertical-align: top !important; \r\n",
       "    margin: 0em 0px !important;\r\n",
       "} \r\n",
       "table th {\r\n",
       "    text-align: start;\r\n",
       "}\r\n",
       "</style>"
      ]
     },
     "metadata": {},
     "output_type": "display_data"
    }
   ],
   "source": [
    "//// ignore\n",
    "\n",
    "[1..100] |> List.map (fun _ -> rejectionSamplingRollN 0) |> List.map float |> List.average"
   ]
  },
  {
   "cell_type": "code",
   "execution_count": null,
   "metadata": {
    "dotnet_repl_cellExecutionStartTime": "2023-07-07T09:53:28.2303226-03:00",
    "dotnet_repl_cellExecutionEndTime": "2023-07-07T09:53:28.2472445-03:00",
    "dotnet_interactive": {
     "language": "fsharp"
    },
    "polyglot_notebook": {
     "kernelName": "fsharp"
    }
   },
   "outputs": [],
   "source": [
    "let rejectionSamplingRoll2 log max =\n",
    "    let rec numDice n =\n",
    "        if log then printfn $\"numDice / n: {n} / max: {max} / pown: {pown 6 n}\"\n",
    "        if pown 6 n > max\n",
    "        then n\n",
    "        else numDice (n + 1)\n",
    "\n",
    "    let rec rollAcc acc power =\n",
    "        if power < 0\n",
    "        then\n",
    "            if log then printfn $\"rollAcc / acc: {acc} / power: {power}\"\n",
    "            acc\n",
    "        else\n",
    "            let roll = rollD6 ()\n",
    "            let value = (roll - 1) * (pown 6 power)\n",
    "            if log then printfn $\"rollAcc / acc: {acc} / power: {power} / roll: {roll} / value: {value}\"\n",
    "            rollAcc (acc + value) (power - 1)\n",
    "\n",
    "    let rec rollMax power =\n",
    "        let result = rollAcc 0 power\n",
    "        if log then printfn $\"rollMax / power: {power} / result: {result}\"\n",
    "        if result >= 1 && result <= max\n",
    "        then result\n",
    "        else rollMax power\n",
    "\n",
    "    rollMax ((numDice 1) - 1)"
   ]
  },
  {
   "cell_type": "code",
   "execution_count": null,
   "metadata": {
    "dotnet_repl_cellExecutionStartTime": "2023-07-07T09:53:28.2472638-03:00",
    "dotnet_repl_cellExecutionEndTime": "2023-07-07T09:53:28.2656787-03:00",
    "dotnet_interactive": {
     "language": "fsharp"
    },
    "polyglot_notebook": {
     "kernelName": "fsharp"
    }
   },
   "outputs": [
    {
     "data": {
      "text/html": [
       "<table><thead><tr><th><i>index</i></th><th>value</th></tr></thead><tbody><tr><td>0</td><td><details class=\"dni-treeview\"><summary><span class=\"dni-code-hint\"><code>(1, 7)</code></span></summary><div><table><thead><tr></tr></thead><tbody><tr><td>Item1</td><td><div class=\"dni-plaintext\"><pre>1</pre></div></td></tr><tr><td>Item2</td><td><div class=\"dni-plaintext\"><pre>7</pre></div></td></tr></tbody></table></div></details></td></tr><tr><td>1</td><td><details class=\"dni-treeview\"><summary><span class=\"dni-code-hint\"><code>(2, 9)</code></span></summary><div><table><thead><tr></tr></thead><tbody><tr><td>Item1</td><td><div class=\"dni-plaintext\"><pre>2</pre></div></td></tr><tr><td>Item2</td><td><div class=\"dni-plaintext\"><pre>9</pre></div></td></tr></tbody></table></div></details></td></tr><tr><td>2</td><td><details class=\"dni-treeview\"><summary><span class=\"dni-code-hint\"><code>(3, 15)</code></span></summary><div><table><thead><tr></tr></thead><tbody><tr><td>Item1</td><td><div class=\"dni-plaintext\"><pre>3</pre></div></td></tr><tr><td>Item2</td><td><div class=\"dni-plaintext\"><pre>15</pre></div></td></tr></tbody></table></div></details></td></tr><tr><td>3</td><td><details class=\"dni-treeview\"><summary><span class=\"dni-code-hint\"><code>(4, 11)</code></span></summary><div><table><thead><tr></tr></thead><tbody><tr><td>Item1</td><td><div class=\"dni-plaintext\"><pre>4</pre></div></td></tr><tr><td>Item2</td><td><div class=\"dni-plaintext\"><pre>11</pre></div></td></tr></tbody></table></div></details></td></tr><tr><td>4</td><td><details class=\"dni-treeview\"><summary><span class=\"dni-code-hint\"><code>(5, 14)</code></span></summary><div><table><thead><tr></tr></thead><tbody><tr><td>Item1</td><td><div class=\"dni-plaintext\"><pre>5</pre></div></td></tr><tr><td>Item2</td><td><div class=\"dni-plaintext\"><pre>14</pre></div></td></tr></tbody></table></div></details></td></tr><tr><td>5</td><td><details class=\"dni-treeview\"><summary><span class=\"dni-code-hint\"><code>(6, 8)</code></span></summary><div><table><thead><tr></tr></thead><tbody><tr><td>Item1</td><td><div class=\"dni-plaintext\"><pre>6</pre></div></td></tr><tr><td>Item2</td><td><div class=\"dni-plaintext\"><pre>8</pre></div></td></tr></tbody></table></div></details></td></tr><tr><td>6</td><td><details class=\"dni-treeview\"><summary><span class=\"dni-code-hint\"><code>(7, 7)</code></span></summary><div><table><thead><tr></tr></thead><tbody><tr><td>Item1</td><td><div class=\"dni-plaintext\"><pre>7</pre></div></td></tr><tr><td>Item2</td><td><div class=\"dni-plaintext\"><pre>7</pre></div></td></tr></tbody></table></div></details></td></tr><tr><td>7</td><td><details class=\"dni-treeview\"><summary><span class=\"dni-code-hint\"><code>(8, 10)</code></span></summary><div><table><thead><tr></tr></thead><tbody><tr><td>Item1</td><td><div class=\"dni-plaintext\"><pre>8</pre></div></td></tr><tr><td>Item2</td><td><div class=\"dni-plaintext\"><pre>10</pre></div></td></tr></tbody></table></div></details></td></tr><tr><td>8</td><td><details class=\"dni-treeview\"><summary><span class=\"dni-code-hint\"><code>(9, 10)</code></span></summary><div><table><thead><tr></tr></thead><tbody><tr><td>Item1</td><td><div class=\"dni-plaintext\"><pre>9</pre></div></td></tr><tr><td>Item2</td><td><div class=\"dni-plaintext\"><pre>10</pre></div></td></tr></tbody></table></div></details></td></tr><tr><td>9</td><td><details class=\"dni-treeview\"><summary><span class=\"dni-code-hint\"><code>(10, 9)</code></span></summary><div><table><thead><tr></tr></thead><tbody><tr><td>Item1</td><td><div class=\"dni-plaintext\"><pre>10</pre></div></td></tr><tr><td>Item2</td><td><div class=\"dni-plaintext\"><pre>9</pre></div></td></tr></tbody></table></div></details></td></tr></tbody></table><style>\r\n",
       ".dni-code-hint {\r\n",
       "    font-style: italic;\r\n",
       "    overflow: hidden;\r\n",
       "    white-space: nowrap;\r\n",
       "}\r\n",
       ".dni-treeview {\r\n",
       "    white-space: nowrap;\r\n",
       "}\r\n",
       ".dni-treeview td {\r\n",
       "    vertical-align: top;\r\n",
       "    text-align: start;\r\n",
       "}\r\n",
       "details.dni-treeview {\r\n",
       "    padding-left: 1em;\r\n",
       "}\r\n",
       "table td {\r\n",
       "    text-align: start;\r\n",
       "}\r\n",
       "table tr { \r\n",
       "    vertical-align: top; \r\n",
       "    margin: 0em 0px;\r\n",
       "}\r\n",
       "table tr td pre \r\n",
       "{ \r\n",
       "    vertical-align: top !important; \r\n",
       "    margin: 0em 0px !important;\r\n",
       "} \r\n",
       "table th {\r\n",
       "    text-align: start;\r\n",
       "}\r\n",
       "</style>"
      ]
     },
     "metadata": {},
     "output_type": "display_data"
    }
   ],
   "source": [
    "//// ignore\n",
    "\n",
    "[1..100]\n",
    "|> List.map (fun _ -> rejectionSamplingRoll2 false 10)\n",
    "|> List.groupBy id\n",
    "|> List.map (fun (k, v) -> k, v.Length)\n",
    "|> List.sortBy fst"
   ]
  },
  {
   "cell_type": "code",
   "execution_count": null,
   "metadata": {
    "dotnet_repl_cellExecutionStartTime": "2023-07-07T09:53:28.2657008-03:00",
    "dotnet_repl_cellExecutionEndTime": "2023-07-07T09:53:28.2782564-03:00",
    "dotnet_interactive": {
     "language": "fsharp"
    },
    "polyglot_notebook": {
     "kernelName": "fsharp"
    }
   },
   "outputs": [
    {
     "data": {
      "text/html": [
       "<div class=\"dni-plaintext\"><pre>2</pre></div><style>\r\n",
       ".dni-code-hint {\r\n",
       "    font-style: italic;\r\n",
       "    overflow: hidden;\r\n",
       "    white-space: nowrap;\r\n",
       "}\r\n",
       ".dni-treeview {\r\n",
       "    white-space: nowrap;\r\n",
       "}\r\n",
       ".dni-treeview td {\r\n",
       "    vertical-align: top;\r\n",
       "    text-align: start;\r\n",
       "}\r\n",
       "details.dni-treeview {\r\n",
       "    padding-left: 1em;\r\n",
       "}\r\n",
       "table td {\r\n",
       "    text-align: start;\r\n",
       "}\r\n",
       "table tr { \r\n",
       "    vertical-align: top; \r\n",
       "    margin: 0em 0px;\r\n",
       "}\r\n",
       "table tr td pre \r\n",
       "{ \r\n",
       "    vertical-align: top !important; \r\n",
       "    margin: 0em 0px !important;\r\n",
       "} \r\n",
       "table th {\r\n",
       "    text-align: start;\r\n",
       "}\r\n",
       "</style>"
      ]
     },
     "metadata": {},
     "output_type": "display_data"
    },
    {
     "name": "stdout",
     "output_type": "stream",
     "text": [
      "numDice / n: 1 / max: 10 / pown: 6\r\n",
      "numDice / n: 2 / max: 10 / pown: 36\r\n",
      "rollAcc / acc: 0 / power: 1 / roll: 4 / value: 18\r\n",
      "rollAcc / acc: 18 / power: 0 / roll: 1 / value: 0\r\n",
      "rollAcc / acc: 18 / power: -1\r\n",
      "rollMax / power: 1 / result: 18\r\n",
      "rollAcc / acc: 0 / power: 1 / roll: 1 / value: 0\r\n",
      "rollAcc / acc: 0 / power: 0 / roll: 3 / value: 2\r\n",
      "rollAcc / acc: 2 / power: -1\r\n",
      "rollMax / power: 1 / result: 2\r\n"
     ]
    }
   ],
   "source": [
    "//// ignore\n",
    "\n",
    "rejectionSamplingRoll2 true 10"
   ]
  },
  {
   "cell_type": "code",
   "execution_count": null,
   "metadata": {
    "dotnet_repl_cellExecutionStartTime": "2023-07-07T09:53:28.2782894-03:00",
    "dotnet_repl_cellExecutionEndTime": "2023-07-07T09:53:28.2978217-03:00",
    "dotnet_interactive": {
     "language": "fsharp"
    },
    "polyglot_notebook": {
     "kernelName": "fsharp"
    }
   },
   "outputs": [
    {
     "data": {
      "text/html": [
       "<table><thead><tr><th><i>index</i></th><th>value</th></tr></thead><tbody><tr><td>0</td><td><details class=\"dni-treeview\"><summary><span class=\"dni-code-hint\"><code>(1, 11)</code></span></summary><div><table><thead><tr></tr></thead><tbody><tr><td>Item1</td><td><div class=\"dni-plaintext\"><pre>1</pre></div></td></tr><tr><td>Item2</td><td><div class=\"dni-plaintext\"><pre>11</pre></div></td></tr></tbody></table></div></details></td></tr><tr><td>1</td><td><details class=\"dni-treeview\"><summary><span class=\"dni-code-hint\"><code>(2, 11)</code></span></summary><div><table><thead><tr></tr></thead><tbody><tr><td>Item1</td><td><div class=\"dni-plaintext\"><pre>2</pre></div></td></tr><tr><td>Item2</td><td><div class=\"dni-plaintext\"><pre>11</pre></div></td></tr></tbody></table></div></details></td></tr><tr><td>2</td><td><details class=\"dni-treeview\"><summary><span class=\"dni-code-hint\"><code>(3, 9)</code></span></summary><div><table><thead><tr></tr></thead><tbody><tr><td>Item1</td><td><div class=\"dni-plaintext\"><pre>3</pre></div></td></tr><tr><td>Item2</td><td><div class=\"dni-plaintext\"><pre>9</pre></div></td></tr></tbody></table></div></details></td></tr><tr><td>3</td><td><details class=\"dni-treeview\"><summary><span class=\"dni-code-hint\"><code>(4, 9)</code></span></summary><div><table><thead><tr></tr></thead><tbody><tr><td>Item1</td><td><div class=\"dni-plaintext\"><pre>4</pre></div></td></tr><tr><td>Item2</td><td><div class=\"dni-plaintext\"><pre>9</pre></div></td></tr></tbody></table></div></details></td></tr><tr><td>4</td><td><details class=\"dni-treeview\"><summary><span class=\"dni-code-hint\"><code>(5, 6)</code></span></summary><div><table><thead><tr></tr></thead><tbody><tr><td>Item1</td><td><div class=\"dni-plaintext\"><pre>5</pre></div></td></tr><tr><td>Item2</td><td><div class=\"dni-plaintext\"><pre>6</pre></div></td></tr></tbody></table></div></details></td></tr><tr><td>5</td><td><details class=\"dni-treeview\"><summary><span class=\"dni-code-hint\"><code>(6, 11)</code></span></summary><div><table><thead><tr></tr></thead><tbody><tr><td>Item1</td><td><div class=\"dni-plaintext\"><pre>6</pre></div></td></tr><tr><td>Item2</td><td><div class=\"dni-plaintext\"><pre>11</pre></div></td></tr></tbody></table></div></details></td></tr><tr><td>6</td><td><details class=\"dni-treeview\"><summary><span class=\"dni-code-hint\"><code>(7, 9)</code></span></summary><div><table><thead><tr></tr></thead><tbody><tr><td>Item1</td><td><div class=\"dni-plaintext\"><pre>7</pre></div></td></tr><tr><td>Item2</td><td><div class=\"dni-plaintext\"><pre>9</pre></div></td></tr></tbody></table></div></details></td></tr><tr><td>7</td><td><details class=\"dni-treeview\"><summary><span class=\"dni-code-hint\"><code>(8, 10)</code></span></summary><div><table><thead><tr></tr></thead><tbody><tr><td>Item1</td><td><div class=\"dni-plaintext\"><pre>8</pre></div></td></tr><tr><td>Item2</td><td><div class=\"dni-plaintext\"><pre>10</pre></div></td></tr></tbody></table></div></details></td></tr><tr><td>8</td><td><details class=\"dni-treeview\"><summary><span class=\"dni-code-hint\"><code>(9, 15)</code></span></summary><div><table><thead><tr></tr></thead><tbody><tr><td>Item1</td><td><div class=\"dni-plaintext\"><pre>9</pre></div></td></tr><tr><td>Item2</td><td><div class=\"dni-plaintext\"><pre>15</pre></div></td></tr></tbody></table></div></details></td></tr><tr><td>9</td><td><details class=\"dni-treeview\"><summary><span class=\"dni-code-hint\"><code>(10, 9)</code></span></summary><div><table><thead><tr></tr></thead><tbody><tr><td>Item1</td><td><div class=\"dni-plaintext\"><pre>10</pre></div></td></tr><tr><td>Item2</td><td><div class=\"dni-plaintext\"><pre>9</pre></div></td></tr></tbody></table></div></details></td></tr></tbody></table><style>\r\n",
       ".dni-code-hint {\r\n",
       "    font-style: italic;\r\n",
       "    overflow: hidden;\r\n",
       "    white-space: nowrap;\r\n",
       "}\r\n",
       ".dni-treeview {\r\n",
       "    white-space: nowrap;\r\n",
       "}\r\n",
       ".dni-treeview td {\r\n",
       "    vertical-align: top;\r\n",
       "    text-align: start;\r\n",
       "}\r\n",
       "details.dni-treeview {\r\n",
       "    padding-left: 1em;\r\n",
       "}\r\n",
       "table td {\r\n",
       "    text-align: start;\r\n",
       "}\r\n",
       "table tr { \r\n",
       "    vertical-align: top; \r\n",
       "    margin: 0em 0px;\r\n",
       "}\r\n",
       "table tr td pre \r\n",
       "{ \r\n",
       "    vertical-align: top !important; \r\n",
       "    margin: 0em 0px !important;\r\n",
       "} \r\n",
       "table th {\r\n",
       "    text-align: start;\r\n",
       "}\r\n",
       "</style>"
      ]
     },
     "metadata": {},
     "output_type": "display_data"
    }
   ],
   "source": [
    "//// ignore\n",
    "\n",
    "[1..100]\n",
    "|> List.map (fun _ -> rejectionSamplingRoll2 false 10)\n",
    "|> List.groupBy id\n",
    "|> List.map (fun (k, v) -> k, v.Length)\n",
    "|> List.sortBy fst"
   ]
  },
  {
   "cell_type": "code",
   "execution_count": null,
   "metadata": {
    "dotnet_repl_cellExecutionStartTime": "2023-07-07T09:53:28.2978416-03:00",
    "dotnet_repl_cellExecutionEndTime": "2023-07-07T09:53:28.9406602-03:00",
    "dotnet_interactive": {
     "language": "fsharp"
    },
    "polyglot_notebook": {
     "kernelName": "fsharp"
    }
   },
   "outputs": [
    {
     "data": {
      "text/html": [
       "<div class=\"dni-plaintext\"><pre>77635</pre></div><style>\r\n",
       ".dni-code-hint {\r\n",
       "    font-style: italic;\r\n",
       "    overflow: hidden;\r\n",
       "    white-space: nowrap;\r\n",
       "}\r\n",
       ".dni-treeview {\r\n",
       "    white-space: nowrap;\r\n",
       "}\r\n",
       ".dni-treeview td {\r\n",
       "    vertical-align: top;\r\n",
       "    text-align: start;\r\n",
       "}\r\n",
       "details.dni-treeview {\r\n",
       "    padding-left: 1em;\r\n",
       "}\r\n",
       "table td {\r\n",
       "    text-align: start;\r\n",
       "}\r\n",
       "table tr { \r\n",
       "    vertical-align: top; \r\n",
       "    margin: 0em 0px;\r\n",
       "}\r\n",
       "table tr td pre \r\n",
       "{ \r\n",
       "    vertical-align: top !important; \r\n",
       "    margin: 0em 0px !important;\r\n",
       "} \r\n",
       "table th {\r\n",
       "    text-align: start;\r\n",
       "}\r\n",
       "</style>"
      ]
     },
     "metadata": {},
     "output_type": "display_data"
    }
   ],
   "source": [
    "//// ignore\n",
    "\n",
    "let max = 10\n",
    "let n = 30\n",
    "let even = (n / max) |> int\n",
    "\n",
    "let rec rejectionSamplingRoll2N current =\n",
    "    let roll = rollMax rejectionSamplingRoll2 max n\n",
    "    if roll |> List.forall ((=) even)\n",
    "    then current\n",
    "    else rejectionSamplingRoll2N (current + 1)\n",
    "\n",
    "rejectionSamplingRoll2N 0"
   ]
  },
  {
   "cell_type": "code",
   "execution_count": null,
   "metadata": {
    "dotnet_repl_cellExecutionStartTime": "2023-07-07T09:53:28.9408461-03:00",
    "dotnet_repl_cellExecutionEndTime": "2023-07-07T09:56:49.1879247-03:00",
    "dotnet_interactive": {
     "language": "fsharp"
    },
    "polyglot_notebook": {
     "kernelName": "fsharp"
    }
   },
   "outputs": [
    {
     "data": {
      "text/html": [
       "<div class=\"dni-plaintext\"><pre>259121.76</pre></div><style>\r\n",
       ".dni-code-hint {\r\n",
       "    font-style: italic;\r\n",
       "    overflow: hidden;\r\n",
       "    white-space: nowrap;\r\n",
       "}\r\n",
       ".dni-treeview {\r\n",
       "    white-space: nowrap;\r\n",
       "}\r\n",
       ".dni-treeview td {\r\n",
       "    vertical-align: top;\r\n",
       "    text-align: start;\r\n",
       "}\r\n",
       "details.dni-treeview {\r\n",
       "    padding-left: 1em;\r\n",
       "}\r\n",
       "table td {\r\n",
       "    text-align: start;\r\n",
       "}\r\n",
       "table tr { \r\n",
       "    vertical-align: top; \r\n",
       "    margin: 0em 0px;\r\n",
       "}\r\n",
       "table tr td pre \r\n",
       "{ \r\n",
       "    vertical-align: top !important; \r\n",
       "    margin: 0em 0px !important;\r\n",
       "} \r\n",
       "table th {\r\n",
       "    text-align: start;\r\n",
       "}\r\n",
       "</style>"
      ]
     },
     "metadata": {},
     "output_type": "display_data"
    }
   ],
   "source": [
    "//// ignore\n",
    "\n",
    "[1..100] |> List.map (fun _ -> rejectionSamplingRoll2N 0) |> List.map float |> List.average"
   ]
  }
 ],
 "metadata": {
  "kernelspec": {
   "display_name": ".NET (C#)",
   "language": "C#",
   "name": ".net-csharp"
  },
  "language_info": {
   "file_extension": ".cs",
   "mimetype": "text/x-csharp",
   "name": "C#",
   "pygments_lexer": "csharp",
   "version": "10.0"
  },
  "polyglot_notebook": {
   "defaultKernelName": "csharp",
   "items": [
    {
     "name": "csharp"
    }
   ]
  },
  "dotnet_interactive": {
   "defaultKernelName": "csharp",
   "items": [
    {
     "name": "csharp"
    }
   ]
  }
 },
 "nbformat": 4,
 "nbformat_minor": 5
}