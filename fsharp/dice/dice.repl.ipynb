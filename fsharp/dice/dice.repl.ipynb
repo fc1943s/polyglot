{
 "cells": [
  {
   "cell_type": "code",
   "execution_count": null,
   "metadata": {
    "dotnet_repl_cellExecutionStartTime": "2023-07-07T10:03:22.2537938-03:00",
    "dotnet_repl_cellExecutionEndTime": "2023-07-07T10:03:27.7321684-03:00",
    "dotnet_interactive": {
     "language": "fsharp"
    },
    "polyglot_notebook": {
     "kernelName": "fsharp"
    }
   },
   "outputs": [],
   "source": [
    "open System\n",
    "\n",
    "let private random = Random ()\n",
    "\n",
    "let rollD6 () = random.Next (1, 7)"
   ]
  },
  {
   "cell_type": "code",
   "execution_count": null,
   "metadata": {
    "dotnet_repl_cellExecutionStartTime": "2023-07-07T10:03:27.7340835-03:00",
    "dotnet_repl_cellExecutionEndTime": "2023-07-07T10:03:28.3162345-03:00",
    "dotnet_interactive": {
     "language": "fsharp"
    },
    "polyglot_notebook": {
     "kernelName": "fsharp"
    }
   },
   "outputs": [],
   "source": [
    "let rollMax fn max n =\n",
    "    [1..n]\n",
    "    |> List.map (fun _ -> fn false max)\n",
    "    |> List.groupBy id\n",
    "    |> List.map (fun (_, v) -> v.Length)"
   ]
  },
  {
   "cell_type": "markdown",
   "metadata": {
    "dotnet_repl_cellExecutionStartTime": "2023-07-07T10:03:28.3163243-03:00",
    "dotnet_repl_cellExecutionEndTime": "2023-07-07T10:03:28.3182527-03:00"
   },
   "source": [
    "### Inverse Transform Sampling"
   ]
  },
  {
   "cell_type": "code",
   "execution_count": null,
   "metadata": {
    "dotnet_repl_cellExecutionStartTime": "2023-07-07T10:03:28.3182692-03:00",
    "dotnet_repl_cellExecutionEndTime": "2023-07-07T10:03:28.8151309-03:00",
    "dotnet_interactive": {
     "language": "fsharp"
    },
    "polyglot_notebook": {
     "kernelName": "fsharp"
    }
   },
   "outputs": [],
   "source": [
    "let inverseTransformSamplingRoll log max =\n",
    "    let rec numDice n =\n",
    "        if log then printfn $\"numDice / n: {n} / max: {max} / pown: {pown 6 n}\"\n",
    "        if pown 6 n >= max\n",
    "        then n\n",
    "        else numDice (n + 1)\n",
    "\n",
    "    let rec rollAcc acc power =\n",
    "        if power < 0\n",
    "        then\n",
    "            if log then printfn $\"rollAcc / acc: {acc} / power: {power}\"\n",
    "            acc\n",
    "        else\n",
    "            let roll = rollD6 () - 1\n",
    "            let value = roll * (pown 6 power)\n",
    "            if log then printfn $\"rollAcc / acc: {acc} / power: {power} / roll: {roll} / value: {value}\"\n",
    "            rollAcc (acc + value) (power - 1)\n",
    "\n",
    "    let rec rollMax power =\n",
    "        let result = rollAcc 0 power\n",
    "        if log then printfn $\"rollMax / power: {power} / result: {result}\"\n",
    "        if result < max\n",
    "        then result + 1\n",
    "        else rollMax power\n",
    "\n",
    "    rollMax ((numDice 1) - 1)"
   ]
  },
  {
   "cell_type": "code",
   "execution_count": null,
   "metadata": {
    "dotnet_repl_cellExecutionStartTime": "2023-07-07T10:03:28.8151621-03:00",
    "dotnet_repl_cellExecutionEndTime": "2023-07-07T10:03:29.2128788-03:00",
    "dotnet_interactive": {
     "language": "fsharp"
    },
    "polyglot_notebook": {
     "kernelName": "fsharp"
    }
   },
   "outputs": [
    {
     "data": {
      "text/html": [
       "<div class=\"dni-plaintext\"><pre>34</pre></div><style>\r\n",
       ".dni-code-hint {\r\n",
       "    font-style: italic;\r\n",
       "    overflow: hidden;\r\n",
       "    white-space: nowrap;\r\n",
       "}\r\n",
       ".dni-treeview {\r\n",
       "    white-space: nowrap;\r\n",
       "}\r\n",
       ".dni-treeview td {\r\n",
       "    vertical-align: top;\r\n",
       "    text-align: start;\r\n",
       "}\r\n",
       "details.dni-treeview {\r\n",
       "    padding-left: 1em;\r\n",
       "}\r\n",
       "table td {\r\n",
       "    text-align: start;\r\n",
       "}\r\n",
       "table tr { \r\n",
       "    vertical-align: top; \r\n",
       "    margin: 0em 0px;\r\n",
       "}\r\n",
       "table tr td pre \r\n",
       "{ \r\n",
       "    vertical-align: top !important; \r\n",
       "    margin: 0em 0px !important;\r\n",
       "} \r\n",
       "table th {\r\n",
       "    text-align: start;\r\n",
       "}\r\n",
       "</style>"
      ]
     },
     "metadata": {},
     "output_type": "display_data"
    },
    {
     "name": "stdout",
     "output_type": "stream",
     "text": [
      "numDice / n: 1 / max: 2000 / pown: 6\r\n",
      "numDice / n: 2 / max: 2000 / pown: 36\r\n",
      "numDice / n: 3 / max: 2000 / pown: 216\r\n",
      "numDice / n: 4 / max: 2000 / pown: 1296\r\n",
      "numDice / n: 5 / max: 2000 / pown: 7776\r\n",
      "rollAcc / acc: 0 / power: 4 / roll: 4 / value: 5184\r\n",
      "rollAcc / acc: 5184 / power: 3 / roll: 3 / value: 648\r\n",
      "rollAcc / acc: 5832 / power: 2 / roll: 2 / value: 72\r\n",
      "rollAcc / acc: 5904 / power: 1 / roll: 0 / value: 0\r\n",
      "rollAcc / acc: 5904 / power: 0 / roll: 4 / value: 4\r\n",
      "rollAcc / acc: 5908 / power: -1\r\n",
      "rollMax / power: 4 / result: 5908\r\n",
      "rollAcc / acc: 0 / power: 4 / roll: 2 / value: 2592\r\n",
      "rollAcc / acc: 2592 / power: 3 / roll: 3 / value: 648\r\n",
      "rollAcc / acc: 3240 / power: 2 / roll: 0 / value: 0\r\n",
      "rollAcc / acc: 3240 / power: 1 / roll: 1 / value: 6\r\n",
      "rollAcc / acc: 3246 / power: 0 / roll: 0 / value: 0\r\n",
      "rollAcc / acc: 3246 / power: -1\r\n",
      "rollMax / power: 4 / result: 3246\r\n",
      "rollAcc / acc: 0 / power: 4 / roll: 4 / value: 5184\r\n",
      "rollAcc / acc: 5184 / power: 3 / roll: 1 / value: 216\r\n",
      "rollAcc / acc: 5400 / power: 2 / roll: 0 / value: 0\r\n",
      "rollAcc / acc: 5400 / power: 1 / roll: 5 / value: 30\r\n",
      "rollAcc / acc: 5430 / power: 0 / roll: 5 / value: 5\r\n",
      "rollAcc / acc: 5435 / power: -1\r\n",
      "rollMax / power: 4 / result: 5435\r\n",
      "rollAcc / acc: 0 / power: 4 / roll: 2 / value: 2592\r\n",
      "rollAcc / acc: 2592 / power: 3 / roll: 4 / value: 864\r\n",
      "rollAcc / acc: 3456 / power: 2 / roll: 3 / value: 108\r\n",
      "rollAcc / acc: 3564 / power: 1 / roll: 2 / value: 12\r\n",
      "rollAcc / acc: 3576 / power: 0 / roll: 1 / value: 1\r\n",
      "rollAcc / acc: 3577 / power: -1\r\n",
      "rollMax / power: 4 / result: 3577\r\n",
      "rollAcc / acc: 0 / power: 4 / roll: 4 / value: 5184\r\n",
      "rollAcc / acc: 5184 / power: 3 / roll: 2 / value: 432\r\n",
      "rollAcc / acc: 5616 / power: 2 / roll: 3 / value: 108\r\n",
      "rollAcc / acc: 5724 / power: 1 / roll: 5 / value: 30\r\n",
      "rollAcc / acc: 5754 / power: 0 / roll: 1 / value: 1\r\n",
      "rollAcc / acc: 5755 / power: -1\r\n",
      "rollMax / power: 4 / result: 5755\r\n",
      "rollAcc / acc: 0 / power: 4 / roll: 2 / value: 2592\r\n",
      "rollAcc / acc: 2592 / power: 3 / roll: 1 / value: 216\r\n",
      "rollAcc / acc: 2808 / power: 2 / roll: 5 / value: 180\r\n",
      "rollAcc / acc: 2988 / power: 1 / roll: 5 / value: 30\r\n",
      "rollAcc / acc: 3018 / power: 0 / roll: 3 / value: 3\r\n",
      "rollAcc / acc: 3021 / power: -1\r\n",
      "rollMax / power: 4 / result: 3021\r\n",
      "rollAcc / acc: 0 / power: 4 / roll: 3 / value: 3888\r\n",
      "rollAcc / acc: 3888 / power: 3 / roll: 0 / value: 0\r\n",
      "rollAcc / acc: 3888 / power: 2 / roll: 5 / value: 180\r\n",
      "rollAcc / acc: 4068 / power: 1 / roll: 3 / value: 18\r\n",
      "rollAcc / acc: 4086 / power: 0 / roll: 4 / value: 4\r\n",
      "rollAcc / acc: 4090 / power: -1\r\n",
      "rollMax / power: 4 / result: 4090\r\n",
      "rollAcc / acc: 0 / power: 4 / roll: 0 / value: 0\r\n",
      "rollAcc / acc: 0 / power: 3 / roll: 0 / value: 0\r\n",
      "rollAcc / acc: 0 / power: 2 / roll: 0 / value: 0\r\n",
      "rollAcc / acc: 0 / power: 1 / roll: 5 / value: 30\r\n",
      "rollAcc / acc: 30 / power: 0 / roll: 3 / value: 3\r\n",
      "rollAcc / acc: 33 / power: -1\r\n",
      "rollMax / power: 4 / result: 33\r\n"
     ]
    }
   ],
   "source": [
    "//// ignore\n",
    "\n",
    "inverseTransformSamplingRoll true 2000"
   ]
  },
  {
   "cell_type": "code",
   "execution_count": null,
   "metadata": {
    "dotnet_repl_cellExecutionStartTime": "2023-07-07T10:03:29.2129276-03:00",
    "dotnet_repl_cellExecutionEndTime": "2023-07-07T10:03:29.4846049-03:00",
    "dotnet_interactive": {
     "language": "fsharp"
    },
    "polyglot_notebook": {
     "kernelName": "fsharp"
    }
   },
   "outputs": [
    {
     "data": {
      "text/html": [
       "<table><thead><tr><th><i>index</i></th><th>value</th></tr></thead><tbody><tr><td>0</td><td><details class=\"dni-treeview\"><summary><span class=\"dni-code-hint\"><code>(1, 9)</code></span></summary><div><table><thead><tr></tr></thead><tbody><tr><td>Item1</td><td><div class=\"dni-plaintext\"><pre>1</pre></div></td></tr><tr><td>Item2</td><td><div class=\"dni-plaintext\"><pre>9</pre></div></td></tr></tbody></table></div></details></td></tr><tr><td>1</td><td><details class=\"dni-treeview\"><summary><span class=\"dni-code-hint\"><code>(2, 12)</code></span></summary><div><table><thead><tr></tr></thead><tbody><tr><td>Item1</td><td><div class=\"dni-plaintext\"><pre>2</pre></div></td></tr><tr><td>Item2</td><td><div class=\"dni-plaintext\"><pre>12</pre></div></td></tr></tbody></table></div></details></td></tr><tr><td>2</td><td><details class=\"dni-treeview\"><summary><span class=\"dni-code-hint\"><code>(3, 11)</code></span></summary><div><table><thead><tr></tr></thead><tbody><tr><td>Item1</td><td><div class=\"dni-plaintext\"><pre>3</pre></div></td></tr><tr><td>Item2</td><td><div class=\"dni-plaintext\"><pre>11</pre></div></td></tr></tbody></table></div></details></td></tr><tr><td>3</td><td><details class=\"dni-treeview\"><summary><span class=\"dni-code-hint\"><code>(4, 12)</code></span></summary><div><table><thead><tr></tr></thead><tbody><tr><td>Item1</td><td><div class=\"dni-plaintext\"><pre>4</pre></div></td></tr><tr><td>Item2</td><td><div class=\"dni-plaintext\"><pre>12</pre></div></td></tr></tbody></table></div></details></td></tr><tr><td>4</td><td><details class=\"dni-treeview\"><summary><span class=\"dni-code-hint\"><code>(5, 9)</code></span></summary><div><table><thead><tr></tr></thead><tbody><tr><td>Item1</td><td><div class=\"dni-plaintext\"><pre>5</pre></div></td></tr><tr><td>Item2</td><td><div class=\"dni-plaintext\"><pre>9</pre></div></td></tr></tbody></table></div></details></td></tr><tr><td>5</td><td><details class=\"dni-treeview\"><summary><span class=\"dni-code-hint\"><code>(6, 11)</code></span></summary><div><table><thead><tr></tr></thead><tbody><tr><td>Item1</td><td><div class=\"dni-plaintext\"><pre>6</pre></div></td></tr><tr><td>Item2</td><td><div class=\"dni-plaintext\"><pre>11</pre></div></td></tr></tbody></table></div></details></td></tr><tr><td>6</td><td><details class=\"dni-treeview\"><summary><span class=\"dni-code-hint\"><code>(7, 10)</code></span></summary><div><table><thead><tr></tr></thead><tbody><tr><td>Item1</td><td><div class=\"dni-plaintext\"><pre>7</pre></div></td></tr><tr><td>Item2</td><td><div class=\"dni-plaintext\"><pre>10</pre></div></td></tr></tbody></table></div></details></td></tr><tr><td>7</td><td><details class=\"dni-treeview\"><summary><span class=\"dni-code-hint\"><code>(8, 12)</code></span></summary><div><table><thead><tr></tr></thead><tbody><tr><td>Item1</td><td><div class=\"dni-plaintext\"><pre>8</pre></div></td></tr><tr><td>Item2</td><td><div class=\"dni-plaintext\"><pre>12</pre></div></td></tr></tbody></table></div></details></td></tr><tr><td>8</td><td><details class=\"dni-treeview\"><summary><span class=\"dni-code-hint\"><code>(9, 7)</code></span></summary><div><table><thead><tr></tr></thead><tbody><tr><td>Item1</td><td><div class=\"dni-plaintext\"><pre>9</pre></div></td></tr><tr><td>Item2</td><td><div class=\"dni-plaintext\"><pre>7</pre></div></td></tr></tbody></table></div></details></td></tr><tr><td>9</td><td><details class=\"dni-treeview\"><summary><span class=\"dni-code-hint\"><code>(10, 7)</code></span></summary><div><table><thead><tr></tr></thead><tbody><tr><td>Item1</td><td><div class=\"dni-plaintext\"><pre>10</pre></div></td></tr><tr><td>Item2</td><td><div class=\"dni-plaintext\"><pre>7</pre></div></td></tr></tbody></table></div></details></td></tr></tbody></table><style>\r\n",
       ".dni-code-hint {\r\n",
       "    font-style: italic;\r\n",
       "    overflow: hidden;\r\n",
       "    white-space: nowrap;\r\n",
       "}\r\n",
       ".dni-treeview {\r\n",
       "    white-space: nowrap;\r\n",
       "}\r\n",
       ".dni-treeview td {\r\n",
       "    vertical-align: top;\r\n",
       "    text-align: start;\r\n",
       "}\r\n",
       "details.dni-treeview {\r\n",
       "    padding-left: 1em;\r\n",
       "}\r\n",
       "table td {\r\n",
       "    text-align: start;\r\n",
       "}\r\n",
       "table tr { \r\n",
       "    vertical-align: top; \r\n",
       "    margin: 0em 0px;\r\n",
       "}\r\n",
       "table tr td pre \r\n",
       "{ \r\n",
       "    vertical-align: top !important; \r\n",
       "    margin: 0em 0px !important;\r\n",
       "} \r\n",
       "table th {\r\n",
       "    text-align: start;\r\n",
       "}\r\n",
       "</style>"
      ]
     },
     "metadata": {},
     "output_type": "display_data"
    }
   ],
   "source": [
    "//// ignore\n",
    "\n",
    "[1..100]\n",
    "|> List.map (fun _ -> inverseTransformSamplingRoll false 10)\n",
    "|> List.groupBy id\n",
    "|> List.map (fun (k, v) -> k, v.Length)\n",
    "|> List.sortBy fst"
   ]
  },
  {
   "cell_type": "code",
   "execution_count": null,
   "metadata": {
    "dotnet_repl_cellExecutionStartTime": "2023-07-07T10:03:29.4847021-03:00",
    "dotnet_repl_cellExecutionEndTime": "2023-07-07T10:03:36.4015607-03:00",
    "dotnet_interactive": {
     "language": "fsharp"
    },
    "polyglot_notebook": {
     "kernelName": "fsharp"
    }
   },
   "outputs": [
    {
     "data": {
      "text/html": [
       "<div class=\"dni-plaintext\"><pre>731444</pre></div><style>\r\n",
       ".dni-code-hint {\r\n",
       "    font-style: italic;\r\n",
       "    overflow: hidden;\r\n",
       "    white-space: nowrap;\r\n",
       "}\r\n",
       ".dni-treeview {\r\n",
       "    white-space: nowrap;\r\n",
       "}\r\n",
       ".dni-treeview td {\r\n",
       "    vertical-align: top;\r\n",
       "    text-align: start;\r\n",
       "}\r\n",
       "details.dni-treeview {\r\n",
       "    padding-left: 1em;\r\n",
       "}\r\n",
       "table td {\r\n",
       "    text-align: start;\r\n",
       "}\r\n",
       "table tr { \r\n",
       "    vertical-align: top; \r\n",
       "    margin: 0em 0px;\r\n",
       "}\r\n",
       "table tr td pre \r\n",
       "{ \r\n",
       "    vertical-align: top !important; \r\n",
       "    margin: 0em 0px !important;\r\n",
       "} \r\n",
       "table th {\r\n",
       "    text-align: start;\r\n",
       "}\r\n",
       "</style>"
      ]
     },
     "metadata": {},
     "output_type": "display_data"
    }
   ],
   "source": [
    "//// ignore\n",
    "\n",
    "let max = 10\n",
    "let n = 30\n",
    "let even = (n / max) |> int\n",
    "\n",
    "let rec inverseTransformSamplingRollN current =\n",
    "    let roll = rollMax inverseTransformSamplingRoll max n\n",
    "    if roll |> List.forall ((=) even)\n",
    "    then current\n",
    "    else inverseTransformSamplingRollN (current + 1)\n",
    "\n",
    "inverseTransformSamplingRollN 0"
   ]
  },
  {
   "cell_type": "code",
   "execution_count": null,
   "metadata": {
    "dotnet_repl_cellExecutionStartTime": "2023-07-07T10:03:36.4015873-03:00",
    "dotnet_repl_cellExecutionEndTime": "2023-07-07T10:06:52.6043153-03:00",
    "dotnet_interactive": {
     "language": "fsharp"
    },
    "polyglot_notebook": {
     "kernelName": "fsharp"
    }
   },
   "outputs": [
    {
     "data": {
      "text/html": [
       "<div class=\"dni-plaintext\"><pre>265904.38</pre></div><style>\r\n",
       ".dni-code-hint {\r\n",
       "    font-style: italic;\r\n",
       "    overflow: hidden;\r\n",
       "    white-space: nowrap;\r\n",
       "}\r\n",
       ".dni-treeview {\r\n",
       "    white-space: nowrap;\r\n",
       "}\r\n",
       ".dni-treeview td {\r\n",
       "    vertical-align: top;\r\n",
       "    text-align: start;\r\n",
       "}\r\n",
       "details.dni-treeview {\r\n",
       "    padding-left: 1em;\r\n",
       "}\r\n",
       "table td {\r\n",
       "    text-align: start;\r\n",
       "}\r\n",
       "table tr { \r\n",
       "    vertical-align: top; \r\n",
       "    margin: 0em 0px;\r\n",
       "}\r\n",
       "table tr td pre \r\n",
       "{ \r\n",
       "    vertical-align: top !important; \r\n",
       "    margin: 0em 0px !important;\r\n",
       "} \r\n",
       "table th {\r\n",
       "    text-align: start;\r\n",
       "}\r\n",
       "</style>"
      ]
     },
     "metadata": {},
     "output_type": "display_data"
    }
   ],
   "source": [
    "//// ignore\n",
    "\n",
    "[1..100] |> List.map (fun _ -> inverseTransformSamplingRollN 0) |> List.map float |> List.average"
   ]
  },
  {
   "cell_type": "code",
   "execution_count": null,
   "metadata": {
    "dotnet_repl_cellExecutionStartTime": "2023-07-07T10:06:52.6043474-03:00",
    "dotnet_repl_cellExecutionEndTime": "2023-07-07T10:06:52.626251-03:00",
    "dotnet_interactive": {
     "language": "fsharp"
    },
    "polyglot_notebook": {
     "kernelName": "fsharp"
    }
   },
   "outputs": [],
   "source": [
    "let inverseTransformSamplingRoll2 log max =\n",
    "    let rec numDice n =\n",
    "        if log then printfn $\"numDice / n: {n} / max: {max} / pown: {pown 6 n}\"\n",
    "        if pown 6 n > max\n",
    "        then n\n",
    "        else numDice (n + 1)\n",
    "\n",
    "    let rec rollAcc acc power =\n",
    "        if power < 0\n",
    "        then\n",
    "            if log then printfn $\"rollAcc / acc: {acc} / power: {power}\"\n",
    "            acc\n",
    "        else\n",
    "            let roll = rollD6 ()\n",
    "            let value = (roll - 1) * (pown 6 power)\n",
    "            if log then printfn $\"rollAcc / acc: {acc} / power: {power} / roll: {roll} / value: {value}\"\n",
    "            rollAcc (acc + value) (power - 1)\n",
    "\n",
    "    let rec rollMax power =\n",
    "        let result = rollAcc 0 power\n",
    "        if log then printfn $\"rollMax / power: {power} / result: {result}\"\n",
    "        if result < max\n",
    "        then result + 1\n",
    "        else rollMax power\n",
    "\n",
    "    rollMax ((numDice 1) - 1)"
   ]
  },
  {
   "cell_type": "code",
   "execution_count": null,
   "metadata": {
    "dotnet_repl_cellExecutionStartTime": "2023-07-07T10:06:52.6262756-03:00",
    "dotnet_repl_cellExecutionEndTime": "2023-07-07T10:06:52.6428786-03:00",
    "dotnet_interactive": {
     "language": "fsharp"
    },
    "polyglot_notebook": {
     "kernelName": "fsharp"
    }
   },
   "outputs": [
    {
     "data": {
      "text/html": [
       "<table><thead><tr><th><i>index</i></th><th>value</th></tr></thead><tbody><tr><td>0</td><td><details class=\"dni-treeview\"><summary><span class=\"dni-code-hint\"><code>(1, 8)</code></span></summary><div><table><thead><tr></tr></thead><tbody><tr><td>Item1</td><td><div class=\"dni-plaintext\"><pre>1</pre></div></td></tr><tr><td>Item2</td><td><div class=\"dni-plaintext\"><pre>8</pre></div></td></tr></tbody></table></div></details></td></tr><tr><td>1</td><td><details class=\"dni-treeview\"><summary><span class=\"dni-code-hint\"><code>(2, 12)</code></span></summary><div><table><thead><tr></tr></thead><tbody><tr><td>Item1</td><td><div class=\"dni-plaintext\"><pre>2</pre></div></td></tr><tr><td>Item2</td><td><div class=\"dni-plaintext\"><pre>12</pre></div></td></tr></tbody></table></div></details></td></tr><tr><td>2</td><td><details class=\"dni-treeview\"><summary><span class=\"dni-code-hint\"><code>(3, 10)</code></span></summary><div><table><thead><tr></tr></thead><tbody><tr><td>Item1</td><td><div class=\"dni-plaintext\"><pre>3</pre></div></td></tr><tr><td>Item2</td><td><div class=\"dni-plaintext\"><pre>10</pre></div></td></tr></tbody></table></div></details></td></tr><tr><td>3</td><td><details class=\"dni-treeview\"><summary><span class=\"dni-code-hint\"><code>(4, 9)</code></span></summary><div><table><thead><tr></tr></thead><tbody><tr><td>Item1</td><td><div class=\"dni-plaintext\"><pre>4</pre></div></td></tr><tr><td>Item2</td><td><div class=\"dni-plaintext\"><pre>9</pre></div></td></tr></tbody></table></div></details></td></tr><tr><td>4</td><td><details class=\"dni-treeview\"><summary><span class=\"dni-code-hint\"><code>(5, 11)</code></span></summary><div><table><thead><tr></tr></thead><tbody><tr><td>Item1</td><td><div class=\"dni-plaintext\"><pre>5</pre></div></td></tr><tr><td>Item2</td><td><div class=\"dni-plaintext\"><pre>11</pre></div></td></tr></tbody></table></div></details></td></tr><tr><td>5</td><td><details class=\"dni-treeview\"><summary><span class=\"dni-code-hint\"><code>(6, 11)</code></span></summary><div><table><thead><tr></tr></thead><tbody><tr><td>Item1</td><td><div class=\"dni-plaintext\"><pre>6</pre></div></td></tr><tr><td>Item2</td><td><div class=\"dni-plaintext\"><pre>11</pre></div></td></tr></tbody></table></div></details></td></tr><tr><td>6</td><td><details class=\"dni-treeview\"><summary><span class=\"dni-code-hint\"><code>(7, 9)</code></span></summary><div><table><thead><tr></tr></thead><tbody><tr><td>Item1</td><td><div class=\"dni-plaintext\"><pre>7</pre></div></td></tr><tr><td>Item2</td><td><div class=\"dni-plaintext\"><pre>9</pre></div></td></tr></tbody></table></div></details></td></tr><tr><td>7</td><td><details class=\"dni-treeview\"><summary><span class=\"dni-code-hint\"><code>(8, 9)</code></span></summary><div><table><thead><tr></tr></thead><tbody><tr><td>Item1</td><td><div class=\"dni-plaintext\"><pre>8</pre></div></td></tr><tr><td>Item2</td><td><div class=\"dni-plaintext\"><pre>9</pre></div></td></tr></tbody></table></div></details></td></tr><tr><td>8</td><td><details class=\"dni-treeview\"><summary><span class=\"dni-code-hint\"><code>(9, 13)</code></span></summary><div><table><thead><tr></tr></thead><tbody><tr><td>Item1</td><td><div class=\"dni-plaintext\"><pre>9</pre></div></td></tr><tr><td>Item2</td><td><div class=\"dni-plaintext\"><pre>13</pre></div></td></tr></tbody></table></div></details></td></tr><tr><td>9</td><td><details class=\"dni-treeview\"><summary><span class=\"dni-code-hint\"><code>(10, 8)</code></span></summary><div><table><thead><tr></tr></thead><tbody><tr><td>Item1</td><td><div class=\"dni-plaintext\"><pre>10</pre></div></td></tr><tr><td>Item2</td><td><div class=\"dni-plaintext\"><pre>8</pre></div></td></tr></tbody></table></div></details></td></tr></tbody></table><style>\r\n",
       ".dni-code-hint {\r\n",
       "    font-style: italic;\r\n",
       "    overflow: hidden;\r\n",
       "    white-space: nowrap;\r\n",
       "}\r\n",
       ".dni-treeview {\r\n",
       "    white-space: nowrap;\r\n",
       "}\r\n",
       ".dni-treeview td {\r\n",
       "    vertical-align: top;\r\n",
       "    text-align: start;\r\n",
       "}\r\n",
       "details.dni-treeview {\r\n",
       "    padding-left: 1em;\r\n",
       "}\r\n",
       "table td {\r\n",
       "    text-align: start;\r\n",
       "}\r\n",
       "table tr { \r\n",
       "    vertical-align: top; \r\n",
       "    margin: 0em 0px;\r\n",
       "}\r\n",
       "table tr td pre \r\n",
       "{ \r\n",
       "    vertical-align: top !important; \r\n",
       "    margin: 0em 0px !important;\r\n",
       "} \r\n",
       "table th {\r\n",
       "    text-align: start;\r\n",
       "}\r\n",
       "</style>"
      ]
     },
     "metadata": {},
     "output_type": "display_data"
    }
   ],
   "source": [
    "//// ignore\n",
    "\n",
    "[1..100]\n",
    "|> List.map (fun _ -> inverseTransformSamplingRoll2 false 10)\n",
    "|> List.groupBy id\n",
    "|> List.map (fun (k, v) -> k, v.Length)\n",
    "|> List.sortBy fst"
   ]
  },
  {
   "cell_type": "code",
   "execution_count": null,
   "metadata": {
    "dotnet_repl_cellExecutionStartTime": "2023-07-07T10:06:52.6429007-03:00",
    "dotnet_repl_cellExecutionEndTime": "2023-07-07T10:06:52.667943-03:00",
    "dotnet_interactive": {
     "language": "fsharp"
    },
    "polyglot_notebook": {
     "kernelName": "fsharp"
    }
   },
   "outputs": [
    {
     "data": {
      "text/html": [
       "<div class=\"dni-plaintext\"><pre>774</pre></div><style>\r\n",
       ".dni-code-hint {\r\n",
       "    font-style: italic;\r\n",
       "    overflow: hidden;\r\n",
       "    white-space: nowrap;\r\n",
       "}\r\n",
       ".dni-treeview {\r\n",
       "    white-space: nowrap;\r\n",
       "}\r\n",
       ".dni-treeview td {\r\n",
       "    vertical-align: top;\r\n",
       "    text-align: start;\r\n",
       "}\r\n",
       "details.dni-treeview {\r\n",
       "    padding-left: 1em;\r\n",
       "}\r\n",
       "table td {\r\n",
       "    text-align: start;\r\n",
       "}\r\n",
       "table tr { \r\n",
       "    vertical-align: top; \r\n",
       "    margin: 0em 0px;\r\n",
       "}\r\n",
       "table tr td pre \r\n",
       "{ \r\n",
       "    vertical-align: top !important; \r\n",
       "    margin: 0em 0px !important;\r\n",
       "} \r\n",
       "table th {\r\n",
       "    text-align: start;\r\n",
       "}\r\n",
       "</style>"
      ]
     },
     "metadata": {},
     "output_type": "display_data"
    },
    {
     "name": "stdout",
     "output_type": "stream",
     "text": [
      "numDice / n: 1 / max: 2000 / pown: 6\r\n",
      "numDice / n: 2 / max: 2000 / pown: 36\r\n",
      "numDice / n: 3 / max: 2000 / pown: 216\r\n",
      "numDice / n: 4 / max: 2000 / pown: 1296\r\n",
      "numDice / n: 5 / max: 2000 / pown: 7776\r\n",
      "rollAcc / acc: 0 / power: 4 / roll: 3 / value: 2592\r\n",
      "rollAcc / acc: 2592 / power: 3 / roll: 2 / value: 216\r\n",
      "rollAcc / acc: 2808 / power: 2 / roll: 5 / value: 144\r\n",
      "rollAcc / acc: 2952 / power: 1 / roll: 4 / value: 18\r\n",
      "rollAcc / acc: 2970 / power: 0 / roll: 3 / value: 2\r\n",
      "rollAcc / acc: 2972 / power: -1\r\n",
      "rollMax / power: 4 / result: 2972\r\n",
      "rollAcc / acc: 0 / power: 4 / roll: 2 / value: 1296\r\n",
      "rollAcc / acc: 1296 / power: 3 / roll: 4 / value: 648\r\n",
      "rollAcc / acc: 1944 / power: 2 / roll: 5 / value: 144\r\n",
      "rollAcc / acc: 2088 / power: 1 / roll: 1 / value: 0\r\n",
      "rollAcc / acc: 2088 / power: 0 / roll: 1 / value: 0\r\n",
      "rollAcc / acc: 2088 / power: -1\r\n",
      "rollMax / power: 4 / result: 2088\r\n",
      "rollAcc / acc: 0 / power: 4 / roll: 5 / value: 5184\r\n",
      "rollAcc / acc: 5184 / power: 3 / roll: 3 / value: 432\r\n",
      "rollAcc / acc: 5616 / power: 2 / roll: 1 / value: 0\r\n",
      "rollAcc / acc: 5616 / power: 1 / roll: 6 / value: 30\r\n",
      "rollAcc / acc: 5646 / power: 0 / roll: 2 / value: 1\r\n",
      "rollAcc / acc: 5647 / power: -1\r\n",
      "rollMax / power: 4 / result: 5647\r\n",
      "rollAcc / acc: 0 / power: 4 / roll: 1 / value: 0\r\n",
      "rollAcc / acc: 0 / power: 3 / roll: 4 / value: 648\r\n",
      "rollAcc / acc: 648 / power: 2 / roll: 4 / value: 108\r\n",
      "rollAcc / acc: 756 / power: 1 / roll: 3 / value: 12\r\n",
      "rollAcc / acc: 768 / power: 0 / roll: 6 / value: 5\r\n",
      "rollAcc / acc: 773 / power: -1\r\n",
      "rollMax / power: 4 / result: 773\r\n"
     ]
    }
   ],
   "source": [
    "//// ignore\n",
    "\n",
    "inverseTransformSamplingRoll2 true 2000"
   ]
  },
  {
   "cell_type": "code",
   "execution_count": null,
   "metadata": {
    "dotnet_repl_cellExecutionStartTime": "2023-07-07T10:06:52.667979-03:00",
    "dotnet_repl_cellExecutionEndTime": "2023-07-07T10:06:53.4555059-03:00",
    "dotnet_interactive": {
     "language": "fsharp"
    },
    "polyglot_notebook": {
     "kernelName": "fsharp"
    }
   },
   "outputs": [
    {
     "data": {
      "text/html": [
       "<div class=\"dni-plaintext\"><pre>84140</pre></div><style>\r\n",
       ".dni-code-hint {\r\n",
       "    font-style: italic;\r\n",
       "    overflow: hidden;\r\n",
       "    white-space: nowrap;\r\n",
       "}\r\n",
       ".dni-treeview {\r\n",
       "    white-space: nowrap;\r\n",
       "}\r\n",
       ".dni-treeview td {\r\n",
       "    vertical-align: top;\r\n",
       "    text-align: start;\r\n",
       "}\r\n",
       "details.dni-treeview {\r\n",
       "    padding-left: 1em;\r\n",
       "}\r\n",
       "table td {\r\n",
       "    text-align: start;\r\n",
       "}\r\n",
       "table tr { \r\n",
       "    vertical-align: top; \r\n",
       "    margin: 0em 0px;\r\n",
       "}\r\n",
       "table tr td pre \r\n",
       "{ \r\n",
       "    vertical-align: top !important; \r\n",
       "    margin: 0em 0px !important;\r\n",
       "} \r\n",
       "table th {\r\n",
       "    text-align: start;\r\n",
       "}\r\n",
       "</style>"
      ]
     },
     "metadata": {},
     "output_type": "display_data"
    }
   ],
   "source": [
    "//// ignore\n",
    "\n",
    "let max = 10\n",
    "let n = 30\n",
    "let even = (n / max) |> int\n",
    "\n",
    "let rec inverseTransformSamplingRoll2N current =\n",
    "    let roll = rollMax inverseTransformSamplingRoll2 max n\n",
    "    if roll |> List.forall ((=) even)\n",
    "    then current\n",
    "    else inverseTransformSamplingRoll2N (current + 1)\n",
    "\n",
    "inverseTransformSamplingRoll2N 0"
   ]
  },
  {
   "cell_type": "code",
   "execution_count": null,
   "metadata": {
    "dotnet_repl_cellExecutionStartTime": "2023-07-07T10:06:53.4555351-03:00",
    "dotnet_repl_cellExecutionEndTime": "2023-07-07T10:09:37.4821306-03:00",
    "dotnet_interactive": {
     "language": "fsharp"
    },
    "polyglot_notebook": {
     "kernelName": "fsharp"
    }
   },
   "outputs": [
    {
     "data": {
      "text/html": [
       "<div class=\"dni-plaintext\"><pre>225761.82</pre></div><style>\r\n",
       ".dni-code-hint {\r\n",
       "    font-style: italic;\r\n",
       "    overflow: hidden;\r\n",
       "    white-space: nowrap;\r\n",
       "}\r\n",
       ".dni-treeview {\r\n",
       "    white-space: nowrap;\r\n",
       "}\r\n",
       ".dni-treeview td {\r\n",
       "    vertical-align: top;\r\n",
       "    text-align: start;\r\n",
       "}\r\n",
       "details.dni-treeview {\r\n",
       "    padding-left: 1em;\r\n",
       "}\r\n",
       "table td {\r\n",
       "    text-align: start;\r\n",
       "}\r\n",
       "table tr { \r\n",
       "    vertical-align: top; \r\n",
       "    margin: 0em 0px;\r\n",
       "}\r\n",
       "table tr td pre \r\n",
       "{ \r\n",
       "    vertical-align: top !important; \r\n",
       "    margin: 0em 0px !important;\r\n",
       "} \r\n",
       "table th {\r\n",
       "    text-align: start;\r\n",
       "}\r\n",
       "</style>"
      ]
     },
     "metadata": {},
     "output_type": "display_data"
    }
   ],
   "source": [
    "//// ignore\n",
    "\n",
    "[1..100] |> List.map (fun _ -> inverseTransformSamplingRoll2N 0) |> List.map float |> List.average"
   ]
  },
  {
   "cell_type": "markdown",
   "metadata": {
    "dotnet_repl_cellExecutionStartTime": "2023-07-07T10:09:37.4821634-03:00",
    "dotnet_repl_cellExecutionEndTime": "2023-07-07T10:09:37.4826523-03:00"
   },
   "source": [
    "### Rejection Sampling Roll"
   ]
  },
  {
   "cell_type": "code",
   "execution_count": null,
   "metadata": {
    "dotnet_repl_cellExecutionStartTime": "2023-07-07T10:09:37.4826653-03:00",
    "dotnet_repl_cellExecutionEndTime": "2023-07-07T10:09:37.5051921-03:00",
    "dotnet_interactive": {
     "language": "fsharp"
    },
    "polyglot_notebook": {
     "kernelName": "fsharp"
    }
   },
   "outputs": [],
   "source": [
    "let rejectionSamplingRoll log max =\n",
    "    let rec numDice n =\n",
    "        if log then printfn $\"numDice / n: {n} / max: {max} / pown: {pown 6 n}\"\n",
    "        if pown 6 n > max\n",
    "        then n\n",
    "        else numDice (n + 1)\n",
    "\n",
    "    let rec rollAcc acc power =\n",
    "        if power < 0\n",
    "        then\n",
    "            if log then printfn $\"rollAcc / acc: {acc} / power: {power}\"\n",
    "            acc\n",
    "        else\n",
    "            let roll = rollD6 () - 1\n",
    "            let value = roll * (pown 6 power)\n",
    "            if log then printfn $\"rollAcc / acc: {acc} / power: {power} / roll: {roll} / value: {value}\"\n",
    "            rollAcc (acc + value) (power - 1)\n",
    "\n",
    "    let rec rollMax power =\n",
    "        let result = rollAcc 0 power\n",
    "        if log then printfn $\"rollMax / power: {power} / result: {result}\"\n",
    "        if result >= 1 && result <= max\n",
    "        then result\n",
    "        else rollMax power\n",
    "\n",
    "    rollMax ((numDice 1) - 1)"
   ]
  },
  {
   "cell_type": "code",
   "execution_count": null,
   "metadata": {
    "dotnet_repl_cellExecutionStartTime": "2023-07-07T10:09:37.5052186-03:00",
    "dotnet_repl_cellExecutionEndTime": "2023-07-07T10:09:37.5272643-03:00",
    "dotnet_interactive": {
     "language": "fsharp"
    },
    "polyglot_notebook": {
     "kernelName": "fsharp"
    }
   },
   "outputs": [
    {
     "data": {
      "text/html": [
       "<div class=\"dni-plaintext\"><pre>1615</pre></div><style>\r\n",
       ".dni-code-hint {\r\n",
       "    font-style: italic;\r\n",
       "    overflow: hidden;\r\n",
       "    white-space: nowrap;\r\n",
       "}\r\n",
       ".dni-treeview {\r\n",
       "    white-space: nowrap;\r\n",
       "}\r\n",
       ".dni-treeview td {\r\n",
       "    vertical-align: top;\r\n",
       "    text-align: start;\r\n",
       "}\r\n",
       "details.dni-treeview {\r\n",
       "    padding-left: 1em;\r\n",
       "}\r\n",
       "table td {\r\n",
       "    text-align: start;\r\n",
       "}\r\n",
       "table tr { \r\n",
       "    vertical-align: top; \r\n",
       "    margin: 0em 0px;\r\n",
       "}\r\n",
       "table tr td pre \r\n",
       "{ \r\n",
       "    vertical-align: top !important; \r\n",
       "    margin: 0em 0px !important;\r\n",
       "} \r\n",
       "table th {\r\n",
       "    text-align: start;\r\n",
       "}\r\n",
       "</style>"
      ]
     },
     "metadata": {},
     "output_type": "display_data"
    },
    {
     "name": "stdout",
     "output_type": "stream",
     "text": [
      "numDice / n: 1 / max: 2000 / pown: 6\r\n",
      "numDice / n: 2 / max: 2000 / pown: 36\r\n",
      "numDice / n: 3 / max: 2000 / pown: 216\r\n",
      "numDice / n: 4 / max: 2000 / pown: 1296\r\n",
      "numDice / n: 5 / max: 2000 / pown: 7776\r\n",
      "rollAcc / acc: 0 / power: 4 / roll: 2 / value: 2592\r\n",
      "rollAcc / acc: 2592 / power: 3 / roll: 0 / value: 0\r\n",
      "rollAcc / acc: 2592 / power: 2 / roll: 0 / value: 0\r\n",
      "rollAcc / acc: 2592 / power: 1 / roll: 5 / value: 30\r\n",
      "rollAcc / acc: 2622 / power: 0 / roll: 2 / value: 2\r\n",
      "rollAcc / acc: 2624 / power: -1\r\n",
      "rollMax / power: 4 / result: 2624\r\n",
      "rollAcc / acc: 0 / power: 4 / roll: 2 / value: 2592\r\n",
      "rollAcc / acc: 2592 / power: 3 / roll: 5 / value: 1080\r\n",
      "rollAcc / acc: 3672 / power: 2 / roll: 2 / value: 72\r\n",
      "rollAcc / acc: 3744 / power: 1 / roll: 2 / value: 12\r\n",
      "rollAcc / acc: 3756 / power: 0 / roll: 4 / value: 4\r\n",
      "rollAcc / acc: 3760 / power: -1\r\n",
      "rollMax / power: 4 / result: 3760\r\n",
      "rollAcc / acc: 0 / power: 4 / roll: 1 / value: 1296\r\n",
      "rollAcc / acc: 1296 / power: 3 / roll: 1 / value: 216\r\n",
      "rollAcc / acc: 1512 / power: 2 / roll: 2 / value: 72\r\n",
      "rollAcc / acc: 1584 / power: 1 / roll: 5 / value: 30\r\n",
      "rollAcc / acc: 1614 / power: 0 / roll: 1 / value: 1\r\n",
      "rollAcc / acc: 1615 / power: -1\r\n",
      "rollMax / power: 4 / result: 1615\r\n"
     ]
    }
   ],
   "source": [
    "//// ignore\n",
    "\n",
    "rejectionSamplingRoll true 2000"
   ]
  },
  {
   "cell_type": "code",
   "execution_count": null,
   "metadata": {
    "dotnet_repl_cellExecutionStartTime": "2023-07-07T10:09:37.5273803-03:00",
    "dotnet_repl_cellExecutionEndTime": "2023-07-07T10:09:37.5452307-03:00",
    "dotnet_interactive": {
     "language": "fsharp"
    },
    "polyglot_notebook": {
     "kernelName": "fsharp"
    }
   },
   "outputs": [
    {
     "data": {
      "text/html": [
       "<table><thead><tr><th><i>index</i></th><th>value</th></tr></thead><tbody><tr><td>0</td><td><details class=\"dni-treeview\"><summary><span class=\"dni-code-hint\"><code>(1, 8)</code></span></summary><div><table><thead><tr></tr></thead><tbody><tr><td>Item1</td><td><div class=\"dni-plaintext\"><pre>1</pre></div></td></tr><tr><td>Item2</td><td><div class=\"dni-plaintext\"><pre>8</pre></div></td></tr></tbody></table></div></details></td></tr><tr><td>1</td><td><details class=\"dni-treeview\"><summary><span class=\"dni-code-hint\"><code>(2, 10)</code></span></summary><div><table><thead><tr></tr></thead><tbody><tr><td>Item1</td><td><div class=\"dni-plaintext\"><pre>2</pre></div></td></tr><tr><td>Item2</td><td><div class=\"dni-plaintext\"><pre>10</pre></div></td></tr></tbody></table></div></details></td></tr><tr><td>2</td><td><details class=\"dni-treeview\"><summary><span class=\"dni-code-hint\"><code>(3, 13)</code></span></summary><div><table><thead><tr></tr></thead><tbody><tr><td>Item1</td><td><div class=\"dni-plaintext\"><pre>3</pre></div></td></tr><tr><td>Item2</td><td><div class=\"dni-plaintext\"><pre>13</pre></div></td></tr></tbody></table></div></details></td></tr><tr><td>3</td><td><details class=\"dni-treeview\"><summary><span class=\"dni-code-hint\"><code>(4, 14)</code></span></summary><div><table><thead><tr></tr></thead><tbody><tr><td>Item1</td><td><div class=\"dni-plaintext\"><pre>4</pre></div></td></tr><tr><td>Item2</td><td><div class=\"dni-plaintext\"><pre>14</pre></div></td></tr></tbody></table></div></details></td></tr><tr><td>4</td><td><details class=\"dni-treeview\"><summary><span class=\"dni-code-hint\"><code>(5, 7)</code></span></summary><div><table><thead><tr></tr></thead><tbody><tr><td>Item1</td><td><div class=\"dni-plaintext\"><pre>5</pre></div></td></tr><tr><td>Item2</td><td><div class=\"dni-plaintext\"><pre>7</pre></div></td></tr></tbody></table></div></details></td></tr><tr><td>5</td><td><details class=\"dni-treeview\"><summary><span class=\"dni-code-hint\"><code>(6, 6)</code></span></summary><div><table><thead><tr></tr></thead><tbody><tr><td>Item1</td><td><div class=\"dni-plaintext\"><pre>6</pre></div></td></tr><tr><td>Item2</td><td><div class=\"dni-plaintext\"><pre>6</pre></div></td></tr></tbody></table></div></details></td></tr><tr><td>6</td><td><details class=\"dni-treeview\"><summary><span class=\"dni-code-hint\"><code>(7, 16)</code></span></summary><div><table><thead><tr></tr></thead><tbody><tr><td>Item1</td><td><div class=\"dni-plaintext\"><pre>7</pre></div></td></tr><tr><td>Item2</td><td><div class=\"dni-plaintext\"><pre>16</pre></div></td></tr></tbody></table></div></details></td></tr><tr><td>7</td><td><details class=\"dni-treeview\"><summary><span class=\"dni-code-hint\"><code>(8, 8)</code></span></summary><div><table><thead><tr></tr></thead><tbody><tr><td>Item1</td><td><div class=\"dni-plaintext\"><pre>8</pre></div></td></tr><tr><td>Item2</td><td><div class=\"dni-plaintext\"><pre>8</pre></div></td></tr></tbody></table></div></details></td></tr><tr><td>8</td><td><details class=\"dni-treeview\"><summary><span class=\"dni-code-hint\"><code>(9, 11)</code></span></summary><div><table><thead><tr></tr></thead><tbody><tr><td>Item1</td><td><div class=\"dni-plaintext\"><pre>9</pre></div></td></tr><tr><td>Item2</td><td><div class=\"dni-plaintext\"><pre>11</pre></div></td></tr></tbody></table></div></details></td></tr><tr><td>9</td><td><details class=\"dni-treeview\"><summary><span class=\"dni-code-hint\"><code>(10, 7)</code></span></summary><div><table><thead><tr></tr></thead><tbody><tr><td>Item1</td><td><div class=\"dni-plaintext\"><pre>10</pre></div></td></tr><tr><td>Item2</td><td><div class=\"dni-plaintext\"><pre>7</pre></div></td></tr></tbody></table></div></details></td></tr></tbody></table><style>\r\n",
       ".dni-code-hint {\r\n",
       "    font-style: italic;\r\n",
       "    overflow: hidden;\r\n",
       "    white-space: nowrap;\r\n",
       "}\r\n",
       ".dni-treeview {\r\n",
       "    white-space: nowrap;\r\n",
       "}\r\n",
       ".dni-treeview td {\r\n",
       "    vertical-align: top;\r\n",
       "    text-align: start;\r\n",
       "}\r\n",
       "details.dni-treeview {\r\n",
       "    padding-left: 1em;\r\n",
       "}\r\n",
       "table td {\r\n",
       "    text-align: start;\r\n",
       "}\r\n",
       "table tr { \r\n",
       "    vertical-align: top; \r\n",
       "    margin: 0em 0px;\r\n",
       "}\r\n",
       "table tr td pre \r\n",
       "{ \r\n",
       "    vertical-align: top !important; \r\n",
       "    margin: 0em 0px !important;\r\n",
       "} \r\n",
       "table th {\r\n",
       "    text-align: start;\r\n",
       "}\r\n",
       "</style>"
      ]
     },
     "metadata": {},
     "output_type": "display_data"
    }
   ],
   "source": [
    "//// ignore\n",
    "\n",
    "[1..100]\n",
    "|> List.map (fun _ -> rejectionSamplingRoll false 10)\n",
    "|> List.groupBy id\n",
    "|> List.map (fun (k, v) -> k, v.Length)\n",
    "|> List.sortBy fst"
   ]
  },
  {
   "cell_type": "code",
   "execution_count": null,
   "metadata": {
    "dotnet_repl_cellExecutionStartTime": "2023-07-07T10:09:37.5453015-03:00",
    "dotnet_repl_cellExecutionEndTime": "2023-07-07T10:09:40.5125093-03:00",
    "dotnet_interactive": {
     "language": "fsharp"
    },
    "polyglot_notebook": {
     "kernelName": "fsharp"
    }
   },
   "outputs": [
    {
     "data": {
      "text/html": [
       "<div class=\"dni-plaintext\"><pre>395797</pre></div><style>\r\n",
       ".dni-code-hint {\r\n",
       "    font-style: italic;\r\n",
       "    overflow: hidden;\r\n",
       "    white-space: nowrap;\r\n",
       "}\r\n",
       ".dni-treeview {\r\n",
       "    white-space: nowrap;\r\n",
       "}\r\n",
       ".dni-treeview td {\r\n",
       "    vertical-align: top;\r\n",
       "    text-align: start;\r\n",
       "}\r\n",
       "details.dni-treeview {\r\n",
       "    padding-left: 1em;\r\n",
       "}\r\n",
       "table td {\r\n",
       "    text-align: start;\r\n",
       "}\r\n",
       "table tr { \r\n",
       "    vertical-align: top; \r\n",
       "    margin: 0em 0px;\r\n",
       "}\r\n",
       "table tr td pre \r\n",
       "{ \r\n",
       "    vertical-align: top !important; \r\n",
       "    margin: 0em 0px !important;\r\n",
       "} \r\n",
       "table th {\r\n",
       "    text-align: start;\r\n",
       "}\r\n",
       "</style>"
      ]
     },
     "metadata": {},
     "output_type": "display_data"
    }
   ],
   "source": [
    "//// ignore\n",
    "\n",
    "let max = 10\n",
    "let n = 30\n",
    "let even = (n / max) |> int\n",
    "\n",
    "let rec rejectionSamplingRollN current =\n",
    "    let roll = rollMax rejectionSamplingRoll max n\n",
    "    if roll |> List.forall ((=) even)\n",
    "    then current\n",
    "    else rejectionSamplingRollN (current + 1)\n",
    "\n",
    "rejectionSamplingRollN 0"
   ]
  },
  {
   "cell_type": "code",
   "execution_count": null,
   "metadata": {
    "dotnet_repl_cellExecutionStartTime": "2023-07-07T10:09:40.5125307-03:00",
    "dotnet_repl_cellExecutionEndTime": "2023-07-07T10:12:16.4160063-03:00",
    "dotnet_interactive": {
     "language": "fsharp"
    },
    "polyglot_notebook": {
     "kernelName": "fsharp"
    }
   },
   "outputs": [
    {
     "data": {
      "text/html": [
       "<div class=\"dni-plaintext\"><pre>219867.02</pre></div><style>\r\n",
       ".dni-code-hint {\r\n",
       "    font-style: italic;\r\n",
       "    overflow: hidden;\r\n",
       "    white-space: nowrap;\r\n",
       "}\r\n",
       ".dni-treeview {\r\n",
       "    white-space: nowrap;\r\n",
       "}\r\n",
       ".dni-treeview td {\r\n",
       "    vertical-align: top;\r\n",
       "    text-align: start;\r\n",
       "}\r\n",
       "details.dni-treeview {\r\n",
       "    padding-left: 1em;\r\n",
       "}\r\n",
       "table td {\r\n",
       "    text-align: start;\r\n",
       "}\r\n",
       "table tr { \r\n",
       "    vertical-align: top; \r\n",
       "    margin: 0em 0px;\r\n",
       "}\r\n",
       "table tr td pre \r\n",
       "{ \r\n",
       "    vertical-align: top !important; \r\n",
       "    margin: 0em 0px !important;\r\n",
       "} \r\n",
       "table th {\r\n",
       "    text-align: start;\r\n",
       "}\r\n",
       "</style>"
      ]
     },
     "metadata": {},
     "output_type": "display_data"
    }
   ],
   "source": [
    "//// ignore\n",
    "\n",
    "[1..100] |> List.map (fun _ -> rejectionSamplingRollN 0) |> List.map float |> List.average"
   ]
  },
  {
   "cell_type": "code",
   "execution_count": null,
   "metadata": {
    "dotnet_repl_cellExecutionStartTime": "2023-07-07T10:12:16.4160314-03:00",
    "dotnet_repl_cellExecutionEndTime": "2023-07-07T10:12:16.4340463-03:00",
    "dotnet_interactive": {
     "language": "fsharp"
    },
    "polyglot_notebook": {
     "kernelName": "fsharp"
    }
   },
   "outputs": [],
   "source": [
    "let rejectionSamplingRoll2 log max =\n",
    "    let rec numDice n =\n",
    "        if log then printfn $\"numDice / n: {n} / max: {max} / pown: {pown 6 n}\"\n",
    "        if pown 6 n > max\n",
    "        then n\n",
    "        else numDice (n + 1)\n",
    "\n",
    "    let rec rollAcc acc power =\n",
    "        if power < 0\n",
    "        then\n",
    "            if log then printfn $\"rollAcc / acc: {acc} / power: {power}\"\n",
    "            acc\n",
    "        else\n",
    "            let roll = rollD6 ()\n",
    "            let value = (roll - 1) * (pown 6 power)\n",
    "            if log then printfn $\"rollAcc / acc: {acc} / power: {power} / roll: {roll} / value: {value}\"\n",
    "            rollAcc (acc + value) (power - 1)\n",
    "\n",
    "    let rec rollMax power =\n",
    "        let result = rollAcc 0 power\n",
    "        if log then printfn $\"rollMax / power: {power} / result: {result}\"\n",
    "        if result >= 1 && result <= max\n",
    "        then result\n",
    "        else rollMax power\n",
    "\n",
    "    rollMax ((numDice 1) - 1)"
   ]
  },
  {
   "cell_type": "code",
   "execution_count": null,
   "metadata": {
    "dotnet_repl_cellExecutionStartTime": "2023-07-07T10:12:16.4340756-03:00",
    "dotnet_repl_cellExecutionEndTime": "2023-07-07T10:12:16.4468741-03:00",
    "dotnet_interactive": {
     "language": "fsharp"
    },
    "polyglot_notebook": {
     "kernelName": "fsharp"
    }
   },
   "outputs": [
    {
     "data": {
      "text/html": [
       "<table><thead><tr><th><i>index</i></th><th>value</th></tr></thead><tbody><tr><td>0</td><td><details class=\"dni-treeview\"><summary><span class=\"dni-code-hint\"><code>(1, 6)</code></span></summary><div><table><thead><tr></tr></thead><tbody><tr><td>Item1</td><td><div class=\"dni-plaintext\"><pre>1</pre></div></td></tr><tr><td>Item2</td><td><div class=\"dni-plaintext\"><pre>6</pre></div></td></tr></tbody></table></div></details></td></tr><tr><td>1</td><td><details class=\"dni-treeview\"><summary><span class=\"dni-code-hint\"><code>(2, 7)</code></span></summary><div><table><thead><tr></tr></thead><tbody><tr><td>Item1</td><td><div class=\"dni-plaintext\"><pre>2</pre></div></td></tr><tr><td>Item2</td><td><div class=\"dni-plaintext\"><pre>7</pre></div></td></tr></tbody></table></div></details></td></tr><tr><td>2</td><td><details class=\"dni-treeview\"><summary><span class=\"dni-code-hint\"><code>(3, 9)</code></span></summary><div><table><thead><tr></tr></thead><tbody><tr><td>Item1</td><td><div class=\"dni-plaintext\"><pre>3</pre></div></td></tr><tr><td>Item2</td><td><div class=\"dni-plaintext\"><pre>9</pre></div></td></tr></tbody></table></div></details></td></tr><tr><td>3</td><td><details class=\"dni-treeview\"><summary><span class=\"dni-code-hint\"><code>(4, 9)</code></span></summary><div><table><thead><tr></tr></thead><tbody><tr><td>Item1</td><td><div class=\"dni-plaintext\"><pre>4</pre></div></td></tr><tr><td>Item2</td><td><div class=\"dni-plaintext\"><pre>9</pre></div></td></tr></tbody></table></div></details></td></tr><tr><td>4</td><td><details class=\"dni-treeview\"><summary><span class=\"dni-code-hint\"><code>(5, 12)</code></span></summary><div><table><thead><tr></tr></thead><tbody><tr><td>Item1</td><td><div class=\"dni-plaintext\"><pre>5</pre></div></td></tr><tr><td>Item2</td><td><div class=\"dni-plaintext\"><pre>12</pre></div></td></tr></tbody></table></div></details></td></tr><tr><td>5</td><td><details class=\"dni-treeview\"><summary><span class=\"dni-code-hint\"><code>(6, 16)</code></span></summary><div><table><thead><tr></tr></thead><tbody><tr><td>Item1</td><td><div class=\"dni-plaintext\"><pre>6</pre></div></td></tr><tr><td>Item2</td><td><div class=\"dni-plaintext\"><pre>16</pre></div></td></tr></tbody></table></div></details></td></tr><tr><td>6</td><td><details class=\"dni-treeview\"><summary><span class=\"dni-code-hint\"><code>(7, 14)</code></span></summary><div><table><thead><tr></tr></thead><tbody><tr><td>Item1</td><td><div class=\"dni-plaintext\"><pre>7</pre></div></td></tr><tr><td>Item2</td><td><div class=\"dni-plaintext\"><pre>14</pre></div></td></tr></tbody></table></div></details></td></tr><tr><td>7</td><td><details class=\"dni-treeview\"><summary><span class=\"dni-code-hint\"><code>(8, 9)</code></span></summary><div><table><thead><tr></tr></thead><tbody><tr><td>Item1</td><td><div class=\"dni-plaintext\"><pre>8</pre></div></td></tr><tr><td>Item2</td><td><div class=\"dni-plaintext\"><pre>9</pre></div></td></tr></tbody></table></div></details></td></tr><tr><td>8</td><td><details class=\"dni-treeview\"><summary><span class=\"dni-code-hint\"><code>(9, 12)</code></span></summary><div><table><thead><tr></tr></thead><tbody><tr><td>Item1</td><td><div class=\"dni-plaintext\"><pre>9</pre></div></td></tr><tr><td>Item2</td><td><div class=\"dni-plaintext\"><pre>12</pre></div></td></tr></tbody></table></div></details></td></tr><tr><td>9</td><td><details class=\"dni-treeview\"><summary><span class=\"dni-code-hint\"><code>(10, 6)</code></span></summary><div><table><thead><tr></tr></thead><tbody><tr><td>Item1</td><td><div class=\"dni-plaintext\"><pre>10</pre></div></td></tr><tr><td>Item2</td><td><div class=\"dni-plaintext\"><pre>6</pre></div></td></tr></tbody></table></div></details></td></tr></tbody></table><style>\r\n",
       ".dni-code-hint {\r\n",
       "    font-style: italic;\r\n",
       "    overflow: hidden;\r\n",
       "    white-space: nowrap;\r\n",
       "}\r\n",
       ".dni-treeview {\r\n",
       "    white-space: nowrap;\r\n",
       "}\r\n",
       ".dni-treeview td {\r\n",
       "    vertical-align: top;\r\n",
       "    text-align: start;\r\n",
       "}\r\n",
       "details.dni-treeview {\r\n",
       "    padding-left: 1em;\r\n",
       "}\r\n",
       "table td {\r\n",
       "    text-align: start;\r\n",
       "}\r\n",
       "table tr { \r\n",
       "    vertical-align: top; \r\n",
       "    margin: 0em 0px;\r\n",
       "}\r\n",
       "table tr td pre \r\n",
       "{ \r\n",
       "    vertical-align: top !important; \r\n",
       "    margin: 0em 0px !important;\r\n",
       "} \r\n",
       "table th {\r\n",
       "    text-align: start;\r\n",
       "}\r\n",
       "</style>"
      ]
     },
     "metadata": {},
     "output_type": "display_data"
    }
   ],
   "source": [
    "//// ignore\n",
    "\n",
    "[1..100]\n",
    "|> List.map (fun _ -> rejectionSamplingRoll2 false 10)\n",
    "|> List.groupBy id\n",
    "|> List.map (fun (k, v) -> k, v.Length)\n",
    "|> List.sortBy fst"
   ]
  },
  {
   "cell_type": "code",
   "execution_count": null,
   "metadata": {
    "dotnet_repl_cellExecutionStartTime": "2023-07-07T10:12:16.4469033-03:00",
    "dotnet_repl_cellExecutionEndTime": "2023-07-07T10:12:16.4633213-03:00",
    "dotnet_interactive": {
     "language": "fsharp"
    },
    "polyglot_notebook": {
     "kernelName": "fsharp"
    }
   },
   "outputs": [
    {
     "data": {
      "text/html": [
       "<div class=\"dni-plaintext\"><pre>1686</pre></div><style>\r\n",
       ".dni-code-hint {\r\n",
       "    font-style: italic;\r\n",
       "    overflow: hidden;\r\n",
       "    white-space: nowrap;\r\n",
       "}\r\n",
       ".dni-treeview {\r\n",
       "    white-space: nowrap;\r\n",
       "}\r\n",
       ".dni-treeview td {\r\n",
       "    vertical-align: top;\r\n",
       "    text-align: start;\r\n",
       "}\r\n",
       "details.dni-treeview {\r\n",
       "    padding-left: 1em;\r\n",
       "}\r\n",
       "table td {\r\n",
       "    text-align: start;\r\n",
       "}\r\n",
       "table tr { \r\n",
       "    vertical-align: top; \r\n",
       "    margin: 0em 0px;\r\n",
       "}\r\n",
       "table tr td pre \r\n",
       "{ \r\n",
       "    vertical-align: top !important; \r\n",
       "    margin: 0em 0px !important;\r\n",
       "} \r\n",
       "table th {\r\n",
       "    text-align: start;\r\n",
       "}\r\n",
       "</style>"
      ]
     },
     "metadata": {},
     "output_type": "display_data"
    },
    {
     "name": "stdout",
     "output_type": "stream",
     "text": [
      "numDice / n: 1 / max: 2000 / pown: 6\r\n",
      "numDice / n: 2 / max: 2000 / pown: 36\r\n",
      "numDice / n: 3 / max: 2000 / pown: 216\r\n",
      "numDice / n: 4 / max: 2000 / pown: 1296\r\n",
      "numDice / n: 5 / max: 2000 / pown: 7776\r\n",
      "rollAcc / acc: 0 / power: 4 / roll: 4 / value: 3888\r\n",
      "rollAcc / acc: 3888 / power: 3 / roll: 6 / value: 1080\r\n",
      "rollAcc / acc: 4968 / power: 2 / roll: 4 / value: 108\r\n",
      "rollAcc / acc: 5076 / power: 1 / roll: 6 / value: 30\r\n",
      "rollAcc / acc: 5106 / power: 0 / roll: 3 / value: 2\r\n",
      "rollAcc / acc: 5108 / power: -1\r\n",
      "rollMax / power: 4 / result: 5108\r\n",
      "rollAcc / acc: 0 / power: 4 / roll: 2 / value: 1296\r\n",
      "rollAcc / acc: 1296 / power: 3 / roll: 2 / value: 216\r\n",
      "rollAcc / acc: 1512 / power: 2 / roll: 5 / value: 144\r\n",
      "rollAcc / acc: 1656 / power: 1 / roll: 6 / value: 30\r\n",
      "rollAcc / acc: 1686 / power: 0 / roll: 1 / value: 0\r\n",
      "rollAcc / acc: 1686 / power: -1\r\n",
      "rollMax / power: 4 / result: 1686\r\n"
     ]
    }
   ],
   "source": [
    "//// ignore\n",
    "\n",
    "rejectionSamplingRoll2 true 2000"
   ]
  },
  {
   "cell_type": "code",
   "execution_count": null,
   "metadata": {
    "dotnet_repl_cellExecutionStartTime": "2023-07-07T10:12:16.4633644-03:00",
    "dotnet_repl_cellExecutionEndTime": "2023-07-07T10:12:16.4834451-03:00",
    "dotnet_interactive": {
     "language": "fsharp"
    },
    "polyglot_notebook": {
     "kernelName": "fsharp"
    }
   },
   "outputs": [
    {
     "data": {
      "text/html": [
       "<table><thead><tr><th><i>index</i></th><th>value</th></tr></thead><tbody><tr><td>0</td><td><details class=\"dni-treeview\"><summary><span class=\"dni-code-hint\"><code>(1, 10)</code></span></summary><div><table><thead><tr></tr></thead><tbody><tr><td>Item1</td><td><div class=\"dni-plaintext\"><pre>1</pre></div></td></tr><tr><td>Item2</td><td><div class=\"dni-plaintext\"><pre>10</pre></div></td></tr></tbody></table></div></details></td></tr><tr><td>1</td><td><details class=\"dni-treeview\"><summary><span class=\"dni-code-hint\"><code>(2, 8)</code></span></summary><div><table><thead><tr></tr></thead><tbody><tr><td>Item1</td><td><div class=\"dni-plaintext\"><pre>2</pre></div></td></tr><tr><td>Item2</td><td><div class=\"dni-plaintext\"><pre>8</pre></div></td></tr></tbody></table></div></details></td></tr><tr><td>2</td><td><details class=\"dni-treeview\"><summary><span class=\"dni-code-hint\"><code>(3, 15)</code></span></summary><div><table><thead><tr></tr></thead><tbody><tr><td>Item1</td><td><div class=\"dni-plaintext\"><pre>3</pre></div></td></tr><tr><td>Item2</td><td><div class=\"dni-plaintext\"><pre>15</pre></div></td></tr></tbody></table></div></details></td></tr><tr><td>3</td><td><details class=\"dni-treeview\"><summary><span class=\"dni-code-hint\"><code>(4, 11)</code></span></summary><div><table><thead><tr></tr></thead><tbody><tr><td>Item1</td><td><div class=\"dni-plaintext\"><pre>4</pre></div></td></tr><tr><td>Item2</td><td><div class=\"dni-plaintext\"><pre>11</pre></div></td></tr></tbody></table></div></details></td></tr><tr><td>4</td><td><details class=\"dni-treeview\"><summary><span class=\"dni-code-hint\"><code>(5, 8)</code></span></summary><div><table><thead><tr></tr></thead><tbody><tr><td>Item1</td><td><div class=\"dni-plaintext\"><pre>5</pre></div></td></tr><tr><td>Item2</td><td><div class=\"dni-plaintext\"><pre>8</pre></div></td></tr></tbody></table></div></details></td></tr><tr><td>5</td><td><details class=\"dni-treeview\"><summary><span class=\"dni-code-hint\"><code>(6, 12)</code></span></summary><div><table><thead><tr></tr></thead><tbody><tr><td>Item1</td><td><div class=\"dni-plaintext\"><pre>6</pre></div></td></tr><tr><td>Item2</td><td><div class=\"dni-plaintext\"><pre>12</pre></div></td></tr></tbody></table></div></details></td></tr><tr><td>6</td><td><details class=\"dni-treeview\"><summary><span class=\"dni-code-hint\"><code>(7, 8)</code></span></summary><div><table><thead><tr></tr></thead><tbody><tr><td>Item1</td><td><div class=\"dni-plaintext\"><pre>7</pre></div></td></tr><tr><td>Item2</td><td><div class=\"dni-plaintext\"><pre>8</pre></div></td></tr></tbody></table></div></details></td></tr><tr><td>7</td><td><details class=\"dni-treeview\"><summary><span class=\"dni-code-hint\"><code>(8, 7)</code></span></summary><div><table><thead><tr></tr></thead><tbody><tr><td>Item1</td><td><div class=\"dni-plaintext\"><pre>8</pre></div></td></tr><tr><td>Item2</td><td><div class=\"dni-plaintext\"><pre>7</pre></div></td></tr></tbody></table></div></details></td></tr><tr><td>8</td><td><details class=\"dni-treeview\"><summary><span class=\"dni-code-hint\"><code>(9, 10)</code></span></summary><div><table><thead><tr></tr></thead><tbody><tr><td>Item1</td><td><div class=\"dni-plaintext\"><pre>9</pre></div></td></tr><tr><td>Item2</td><td><div class=\"dni-plaintext\"><pre>10</pre></div></td></tr></tbody></table></div></details></td></tr><tr><td>9</td><td><details class=\"dni-treeview\"><summary><span class=\"dni-code-hint\"><code>(10, 11)</code></span></summary><div><table><thead><tr></tr></thead><tbody><tr><td>Item1</td><td><div class=\"dni-plaintext\"><pre>10</pre></div></td></tr><tr><td>Item2</td><td><div class=\"dni-plaintext\"><pre>11</pre></div></td></tr></tbody></table></div></details></td></tr></tbody></table><style>\r\n",
       ".dni-code-hint {\r\n",
       "    font-style: italic;\r\n",
       "    overflow: hidden;\r\n",
       "    white-space: nowrap;\r\n",
       "}\r\n",
       ".dni-treeview {\r\n",
       "    white-space: nowrap;\r\n",
       "}\r\n",
       ".dni-treeview td {\r\n",
       "    vertical-align: top;\r\n",
       "    text-align: start;\r\n",
       "}\r\n",
       "details.dni-treeview {\r\n",
       "    padding-left: 1em;\r\n",
       "}\r\n",
       "table td {\r\n",
       "    text-align: start;\r\n",
       "}\r\n",
       "table tr { \r\n",
       "    vertical-align: top; \r\n",
       "    margin: 0em 0px;\r\n",
       "}\r\n",
       "table tr td pre \r\n",
       "{ \r\n",
       "    vertical-align: top !important; \r\n",
       "    margin: 0em 0px !important;\r\n",
       "} \r\n",
       "table th {\r\n",
       "    text-align: start;\r\n",
       "}\r\n",
       "</style>"
      ]
     },
     "metadata": {},
     "output_type": "display_data"
    }
   ],
   "source": [
    "//// ignore\n",
    "\n",
    "[1..100]\n",
    "|> List.map (fun _ -> rejectionSamplingRoll2 false 10)\n",
    "|> List.groupBy id\n",
    "|> List.map (fun (k, v) -> k, v.Length)\n",
    "|> List.sortBy fst"
   ]
  },
  {
   "cell_type": "code",
   "execution_count": null,
   "metadata": {
    "dotnet_repl_cellExecutionStartTime": "2023-07-07T10:12:16.4834678-03:00",
    "dotnet_repl_cellExecutionEndTime": "2023-07-07T10:12:18.0258383-03:00",
    "dotnet_interactive": {
     "language": "fsharp"
    },
    "polyglot_notebook": {
     "kernelName": "fsharp"
    }
   },
   "outputs": [
    {
     "data": {
      "text/html": [
       "<div class=\"dni-plaintext\"><pre>203584</pre></div><style>\r\n",
       ".dni-code-hint {\r\n",
       "    font-style: italic;\r\n",
       "    overflow: hidden;\r\n",
       "    white-space: nowrap;\r\n",
       "}\r\n",
       ".dni-treeview {\r\n",
       "    white-space: nowrap;\r\n",
       "}\r\n",
       ".dni-treeview td {\r\n",
       "    vertical-align: top;\r\n",
       "    text-align: start;\r\n",
       "}\r\n",
       "details.dni-treeview {\r\n",
       "    padding-left: 1em;\r\n",
       "}\r\n",
       "table td {\r\n",
       "    text-align: start;\r\n",
       "}\r\n",
       "table tr { \r\n",
       "    vertical-align: top; \r\n",
       "    margin: 0em 0px;\r\n",
       "}\r\n",
       "table tr td pre \r\n",
       "{ \r\n",
       "    vertical-align: top !important; \r\n",
       "    margin: 0em 0px !important;\r\n",
       "} \r\n",
       "table th {\r\n",
       "    text-align: start;\r\n",
       "}\r\n",
       "</style>"
      ]
     },
     "metadata": {},
     "output_type": "display_data"
    }
   ],
   "source": [
    "//// ignore\n",
    "\n",
    "let max = 10\n",
    "let n = 30\n",
    "let even = (n / max) |> int\n",
    "\n",
    "let rec rejectionSamplingRoll2N current =\n",
    "    let roll = rollMax rejectionSamplingRoll2 max n\n",
    "    if roll |> List.forall ((=) even)\n",
    "    then current\n",
    "    else rejectionSamplingRoll2N (current + 1)\n",
    "\n",
    "rejectionSamplingRoll2N 0"
   ]
  },
  {
   "cell_type": "code",
   "execution_count": null,
   "metadata": {
    "dotnet_repl_cellExecutionStartTime": "2023-07-07T10:12:18.0259555-03:00",
    "dotnet_repl_cellExecutionEndTime": "2023-07-07T10:14:59.8045761-03:00",
    "dotnet_interactive": {
     "language": "fsharp"
    },
    "polyglot_notebook": {
     "kernelName": "fsharp"
    }
   },
   "outputs": [
    {
     "data": {
      "text/html": [
       "<div class=\"dni-plaintext\"><pre>208646.59</pre></div><style>\r\n",
       ".dni-code-hint {\r\n",
       "    font-style: italic;\r\n",
       "    overflow: hidden;\r\n",
       "    white-space: nowrap;\r\n",
       "}\r\n",
       ".dni-treeview {\r\n",
       "    white-space: nowrap;\r\n",
       "}\r\n",
       ".dni-treeview td {\r\n",
       "    vertical-align: top;\r\n",
       "    text-align: start;\r\n",
       "}\r\n",
       "details.dni-treeview {\r\n",
       "    padding-left: 1em;\r\n",
       "}\r\n",
       "table td {\r\n",
       "    text-align: start;\r\n",
       "}\r\n",
       "table tr { \r\n",
       "    vertical-align: top; \r\n",
       "    margin: 0em 0px;\r\n",
       "}\r\n",
       "table tr td pre \r\n",
       "{ \r\n",
       "    vertical-align: top !important; \r\n",
       "    margin: 0em 0px !important;\r\n",
       "} \r\n",
       "table th {\r\n",
       "    text-align: start;\r\n",
       "}\r\n",
       "</style>"
      ]
     },
     "metadata": {},
     "output_type": "display_data"
    }
   ],
   "source": [
    "//// ignore\n",
    "\n",
    "[1..100] |> List.map (fun _ -> rejectionSamplingRoll2N 0) |> List.map float |> List.average"
   ]
  }
 ],
 "metadata": {
  "kernelspec": {
   "display_name": ".NET (C#)",
   "language": "C#",
   "name": ".net-csharp"
  },
  "language_info": {
   "file_extension": ".cs",
   "mimetype": "text/x-csharp",
   "name": "C#",
   "pygments_lexer": "csharp",
   "version": "10.0"
  },
  "polyglot_notebook": {
   "defaultKernelName": "csharp",
   "items": [
    {
     "name": "csharp"
    }
   ]
  },
  "dotnet_interactive": {
   "defaultKernelName": "csharp",
   "items": [
    {
     "name": "csharp"
    }
   ]
  }
 },
 "nbformat": 4,
 "nbformat_minor": 5
}