{
 "cells": [
  {
   "cell_type": "markdown",
   "metadata": {
    "dotnet_repl_cellExecutionStartTime": "2023-07-21T16:45:00.5951428-03:00",
    "dotnet_repl_cellExecutionEndTime": "2023-07-21T16:45:00.6718275-03:00",
    "dotnet_repl_cellExecutionTime": "76.8719ms"
   },
   "source": [
    "# Dice (Polyglot)"
   ]
  },
  {
   "cell_type": "code",
   "execution_count": null,
   "metadata": {
    "dotnet_repl_cellExecutionStartTime": "2023-07-21T16:45:00.6762322-03:00",
    "dotnet_repl_cellExecutionEndTime": "2023-07-21T16:45:11.4938395-03:00",
    "dotnet_repl_cellExecutionTime": "10.8176093s",
    "dotnet_interactive": {
     "language": "fsharp"
    },
    "polyglot_notebook": {
     "kernelName": "fsharp"
    }
   },
   "outputs": [
    {
     "data": {
      "text/html": [
       "<div><div></div><div><strong>Installing Packages</strong><ul><li><span>Expecto</span></li></ul></div><div></div></div>"
      ]
     },
     "metadata": {},
     "output_type": "display_data"
    },
    {
     "data": {
      "text/html": [
       "<div><div></div><div><strong>Installing Packages</strong><ul><li><span>Expecto.</span></li></ul></div><div></div></div>"
      ]
     },
     "metadata": {},
     "output_type": "display_data"
    },
    {
     "data": {
      "text/html": [
       "<div><div></div><div><strong>Installing Packages</strong><ul><li><span>Expecto..</span></li></ul></div><div></div></div>"
      ]
     },
     "metadata": {},
     "output_type": "display_data"
    },
    {
     "data": {
      "text/html": [
       "<div><div></div><div><strong>Installing Packages</strong><ul><li><span>Expecto...</span></li></ul></div><div></div></div>"
      ]
     },
     "metadata": {},
     "output_type": "display_data"
    },
    {
     "data": {
      "text/html": [
       "<div><div></div><div><strong>Installing Packages</strong><ul><li><span>Expecto....</span></li></ul></div><div></div></div>"
      ]
     },
     "metadata": {},
     "output_type": "display_data"
    },
    {
     "data": {
      "text/html": [
       "<div><div></div><div><strong>Installing Packages</strong><ul><li><span>Expecto.....</span></li></ul></div><div></div></div>"
      ]
     },
     "metadata": {},
     "output_type": "display_data"
    },
    {
     "data": {
      "text/html": [
       "<div><div></div><div><strong>Installing Packages</strong><ul><li><span>Expecto......</span></li></ul></div><div></div></div>"
      ]
     },
     "metadata": {},
     "output_type": "display_data"
    },
    {
     "data": {
      "text/html": [
       "<div><div></div><div><strong>Installing Packages</strong><ul><li><span>Expecto.......</span></li></ul></div><div></div></div>"
      ]
     },
     "metadata": {},
     "output_type": "display_data"
    },
    {
     "data": {
      "text/html": [
       "<div><div></div><div></div><div><strong>Installed Packages</strong><ul><li><span>Expecto, 10.1.0</span></li></ul></div></div>"
      ]
     },
     "metadata": {},
     "output_type": "display_data"
    }
   ],
   "source": [
    "#!import ../nbs/Testing.dib"
   ]
  },
  {
   "cell_type": "code",
   "execution_count": null,
   "metadata": {
    "dotnet_repl_cellExecutionStartTime": "2023-07-21T16:45:11.4939538-03:00",
    "dotnet_repl_cellExecutionEndTime": "2023-07-21T16:45:12.1099284-03:00",
    "dotnet_repl_cellExecutionTime": "615.9765ms",
    "dotnet_interactive": {
     "language": "fsharp"
    },
    "polyglot_notebook": {
     "kernelName": "fsharp"
    }
   },
   "outputs": [],
   "source": [
    "#!import ../nbs/Common.fs"
   ]
  },
  {
   "cell_type": "code",
   "execution_count": null,
   "metadata": {
    "dotnet_repl_cellExecutionStartTime": "2023-07-21T16:45:12.1099608-03:00",
    "dotnet_repl_cellExecutionEndTime": "2023-07-21T16:45:12.1186576-03:00",
    "dotnet_repl_cellExecutionTime": "8.6987ms",
    "dotnet_interactive": {
     "language": "fsharp"
    },
    "polyglot_notebook": {
     "kernelName": "fsharp"
    }
   },
   "outputs": [],
   "source": [
    "open Common"
   ]
  },
  {
   "cell_type": "markdown",
   "metadata": {
    "dotnet_repl_cellExecutionStartTime": "2023-07-21T16:45:12.1186892-03:00",
    "dotnet_repl_cellExecutionEndTime": "2023-07-21T16:45:12.1200285-03:00",
    "dotnet_repl_cellExecutionTime": "1.3405ms"
   },
   "source": [
    "## pow6"
   ]
  },
  {
   "cell_type": "code",
   "execution_count": null,
   "metadata": {
    "dotnet_repl_cellExecutionStartTime": "2023-07-21T16:45:12.12005-03:00",
    "dotnet_repl_cellExecutionEndTime": "2023-07-21T16:45:12.1662767-03:00",
    "dotnet_repl_cellExecutionTime": "46.2291ms",
    "dotnet_interactive": {
     "language": "fsharp"
    },
    "polyglot_notebook": {
     "kernelName": "fsharp"
    }
   },
   "outputs": [],
   "source": [
    "let pow6 = 1 |> Seq.unfold (fun state -> Some (state, state * 6)) |> Seq.cache"
   ]
  },
  {
   "cell_type": "code",
   "execution_count": null,
   "metadata": {
    "dotnet_repl_cellExecutionStartTime": "2023-07-21T16:45:12.1663148-03:00",
    "dotnet_repl_cellExecutionEndTime": "2023-07-21T16:45:12.2320121-03:00",
    "dotnet_repl_cellExecutionTime": "65.6985ms",
    "dotnet_interactive": {
     "language": "fsharp"
    },
    "polyglot_notebook": {
     "kernelName": "fsharp"
    }
   },
   "outputs": [
    {
     "name": "stdout",
     "output_type": "stream",
     "text": [
      "[ 1, 6, 36, 216, 1296, 7776, 46656, 279936 ]\r\n"
     ]
    }
   ],
   "source": [
    "//// test\n",
    "\n",
    "pow6\n",
    "|> Seq.take 8\n",
    "|> Seq.toList\n",
    "|> _equal [ 1; 6; 36; 216; 1296; 7776; 46656; 279936 ]"
   ]
  },
  {
   "cell_type": "markdown",
   "metadata": {
    "dotnet_repl_cellExecutionStartTime": "2023-07-21T16:45:12.2320468-03:00",
    "dotnet_repl_cellExecutionEndTime": "2023-07-21T16:45:12.2335841-03:00",
    "dotnet_repl_cellExecutionTime": "1.5387ms"
   },
   "source": [
    "## rollAcc"
   ]
  },
  {
   "cell_type": "code",
   "execution_count": null,
   "metadata": {
    "dotnet_repl_cellExecutionStartTime": "2023-07-21T16:45:12.2336072-03:00",
    "dotnet_repl_cellExecutionEndTime": "2023-07-21T16:45:12.335851-03:00",
    "dotnet_repl_cellExecutionTime": "102.2458ms",
    "dotnet_interactive": {
     "language": "fsharp"
    },
    "polyglot_notebook": {
     "kernelName": "fsharp"
    }
   },
   "outputs": [],
   "source": [
    "let rec rollAcc log rolls power acc =\n",
    "    match rolls with\n",
    "    | _ when power < 0 ->\n",
    "        if log then printfn $\"rollAcc / power: {power} / acc: {acc}\"\n",
    "        Some (acc + 1, rolls)\n",
    "    | [] -> None\n",
    "    | roll :: rest when roll > 1 ->\n",
    "        let coeff = pow6 |> Seq.item power\n",
    "        let value = (roll - 1) * coeff\n",
    "        if log then printfn $\"rollAcc / power: {power} / acc: {acc} / roll: {roll} / value: {value}\"\n",
    "        rollAcc log rest (power - 1) (acc + value)\n",
    "    | roll :: rest ->\n",
    "        if log then printfn $\"rollAcc / power: {power} / acc: {acc} / roll: {roll}\"\n",
    "        rollAcc log rest (power - 1) acc"
   ]
  },
  {
   "cell_type": "code",
   "execution_count": null,
   "metadata": {
    "dotnet_repl_cellExecutionStartTime": "2023-07-21T16:45:12.3358846-03:00",
    "dotnet_repl_cellExecutionEndTime": "2023-07-21T16:45:12.3667641-03:00",
    "dotnet_repl_cellExecutionTime": "30.8809ms",
    "dotnet_interactive": {
     "language": "fsharp"
    },
    "polyglot_notebook": {
     "kernelName": "fsharp"
    }
   },
   "outputs": [
    {
     "name": "stdout",
     "output_type": "stream",
     "text": [
      "rollAcc / power: 0 / acc: 1000 / roll: 6 / value: 5\r\n",
      "rollAcc / power: -1 / acc: 1005\r\n",
      "FSharpOption<Tuple<Int32,FSharpList<Int32>>>\r\n",
      "      Value:       - 1006\r\n",
      "      - [ 5, 4, 3, 2 ]\r\n"
     ]
    }
   ],
   "source": [
    "//// test\n",
    "\n",
    "rollAcc true [6; 5; 4; 3; 2] 0 1000\n",
    "|> _equal (Some (1006, [5; 4; 3; 2]))"
   ]
  },
  {
   "cell_type": "code",
   "execution_count": null,
   "metadata": {
    "dotnet_repl_cellExecutionStartTime": "2023-07-21T16:45:12.3667958-03:00",
    "dotnet_repl_cellExecutionEndTime": "2023-07-21T16:45:12.389605-03:00",
    "dotnet_repl_cellExecutionTime": "22.8105ms",
    "dotnet_interactive": {
     "language": "fsharp"
    },
    "polyglot_notebook": {
     "kernelName": "fsharp"
    }
   },
   "outputs": [
    {
     "name": "stdout",
     "output_type": "stream",
     "text": [
      "rollAcc / power: 1 / acc: 1000 / roll: 6 / value: 30\r\n",
      "rollAcc / power: 0 / acc: 1030 / roll: 5 / value: 4\r\n",
      "rollAcc / power: -1 / acc: 1034\r\n",
      "FSharpOption<Tuple<Int32,FSharpList<Int32>>>\r\n",
      "      Value:       - 1035\r\n",
      "      - [ 4, 3, 2 ]\r\n"
     ]
    }
   ],
   "source": [
    "//// test\n",
    "\n",
    "rollAcc true [6; 5; 4; 3; 2] 1 1000\n",
    "|> _equal (Some (1035, [4; 3; 2]))"
   ]
  },
  {
   "cell_type": "code",
   "execution_count": null,
   "metadata": {
    "dotnet_repl_cellExecutionStartTime": "2023-07-21T16:45:12.3896353-03:00",
    "dotnet_repl_cellExecutionEndTime": "2023-07-21T16:45:12.4107151-03:00",
    "dotnet_repl_cellExecutionTime": "21.0819ms",
    "dotnet_interactive": {
     "language": "fsharp"
    },
    "polyglot_notebook": {
     "kernelName": "fsharp"
    }
   },
   "outputs": [
    {
     "name": "stdout",
     "output_type": "stream",
     "text": [
      "rollAcc / power: 2 / acc: 1000 / roll: 6 / value: 180\r\n",
      "rollAcc / power: 1 / acc: 1180 / roll: 5 / value: 24\r\n",
      "rollAcc / power: 0 / acc: 1204 / roll: 4 / value: 3\r\n",
      "rollAcc / power: -1 / acc: 1207\r\n",
      "FSharpOption<Tuple<Int32,FSharpList<Int32>>>\r\n",
      "      Value:       - 1208\r\n",
      "      - [ 3, 2 ]\r\n"
     ]
    }
   ],
   "source": [
    "//// test\n",
    "\n",
    "rollAcc true [6; 5; 4; 3; 2] 2 1000\n",
    "|> _equal (Some (1208, [3; 2]))"
   ]
  },
  {
   "cell_type": "markdown",
   "metadata": {
    "dotnet_repl_cellExecutionStartTime": "2023-07-21T16:45:12.4107587-03:00",
    "dotnet_repl_cellExecutionEndTime": "2023-07-21T16:45:12.4152095-03:00",
    "dotnet_repl_cellExecutionTime": "4.4528ms"
   },
   "source": [
    "## fixedRoll"
   ]
  },
  {
   "cell_type": "code",
   "execution_count": null,
   "metadata": {
    "dotnet_repl_cellExecutionStartTime": "2023-07-21T16:45:12.4152397-03:00",
    "dotnet_repl_cellExecutionEndTime": "2023-07-21T16:45:12.4647324-03:00",
    "dotnet_repl_cellExecutionTime": "49.4949ms",
    "dotnet_interactive": {
     "language": "fsharp"
    },
    "polyglot_notebook": {
     "kernelName": "fsharp"
    }
   },
   "outputs": [],
   "source": [
    "let fixedRoll log max rolls =\n",
    "    let rec rollMax power =\n",
    "        match rollAcc log rolls power 0 with\n",
    "        | Some (result, _) when result >= 1 && result <= max -> Some result\n",
    "        | _ -> None\n",
    "\n",
    "    rollMax (List.length rolls - 1)"
   ]
  },
  {
   "cell_type": "code",
   "execution_count": null,
   "metadata": {
    "dotnet_repl_cellExecutionStartTime": "2023-07-21T16:45:12.464777-03:00",
    "dotnet_repl_cellExecutionEndTime": "2023-07-21T16:45:12.487424-03:00",
    "dotnet_repl_cellExecutionTime": "22.6494ms",
    "dotnet_interactive": {
     "language": "fsharp"
    },
    "polyglot_notebook": {
     "kernelName": "fsharp"
    }
   },
   "outputs": [
    {
     "name": "stdout",
     "output_type": "stream",
     "text": [
      "rollAcc / power: 4 / acc: 0 / roll: 1\r\n",
      "rollAcc / power: 3 / acc: 0 / roll: 5 / value: 864\r\n",
      "rollAcc / power: 2 / acc: 864 / roll: 4 / value: 108\r\n",
      "rollAcc / power: 1 / acc: 972 / roll: 4 / value: 18\r\n",
      "rollAcc / power: 0 / acc: 990 / roll: 5 / value: 4\r\n",
      "rollAcc / power: -1 / acc: 994\r\n",
      "FSharpOption<Int32>\r\n",
      "      Value: 995\r\n"
     ]
    }
   ],
   "source": [
    "//// test\n",
    "\n",
    "fixedRoll true 2000 [1; 5; 4; 4; 5]\n",
    "|> _equal (Some 995)"
   ]
  },
  {
   "cell_type": "code",
   "execution_count": null,
   "metadata": {
    "dotnet_repl_cellExecutionStartTime": "2023-07-21T16:45:12.4874623-03:00",
    "dotnet_repl_cellExecutionEndTime": "2023-07-21T16:45:12.5064922-03:00",
    "dotnet_repl_cellExecutionTime": "19.0322ms",
    "dotnet_interactive": {
     "language": "fsharp"
    },
    "polyglot_notebook": {
     "kernelName": "fsharp"
    }
   },
   "outputs": [
    {
     "name": "stdout",
     "output_type": "stream",
     "text": [
      "rollAcc / power: 4 / acc: 0 / roll: 2 / value: 1296\r\n",
      "rollAcc / power: 3 / acc: 1296 / roll: 2 / value: 216\r\n",
      "rollAcc / power: 2 / acc: 1512 / roll: 6 / value: 180\r\n",
      "rollAcc / power: 1 / acc: 1692 / roll: 4 / value: 18\r\n",
      "rollAcc / power: 0 / acc: 1710 / roll: 5 / value: 4\r\n",
      "rollAcc / power: -1 / acc: 1714\r\n",
      "FSharpOption<Int32>\r\n",
      "      Value: 1715\r\n"
     ]
    }
   ],
   "source": [
    "//// test\n",
    "\n",
    "fixedRoll true 2000 [2; 2; 6; 4; 5]\n",
    "|> _equal (Some 1715)"
   ]
  },
  {
   "cell_type": "code",
   "execution_count": null,
   "metadata": {
    "dotnet_repl_cellExecutionStartTime": "2023-07-21T16:45:12.5065408-03:00",
    "dotnet_repl_cellExecutionEndTime": "2023-07-21T16:45:12.5272799-03:00",
    "dotnet_repl_cellExecutionTime": "20.741ms",
    "dotnet_interactive": {
     "language": "fsharp"
    },
    "polyglot_notebook": {
     "kernelName": "fsharp"
    }
   },
   "outputs": [
    {
     "name": "stdout",
     "output_type": "stream",
     "text": [
      "rollAcc / power: 4 / acc: 0 / roll: 4 / value: 3888\r\n",
      "rollAcc / power: 3 / acc: 3888 / roll: 1\r\n",
      "rollAcc / power: 2 / acc: 3888 / roll: 1\r\n",
      "rollAcc / power: 1 / acc: 3888 / roll: 2 / value: 6\r\n",
      "rollAcc / power: 0 / acc: 3894 / roll: 3 / value: 2\r\n",
      "rollAcc / power: -1 / acc: 3896\r\n",
      "<null>\r\n"
     ]
    }
   ],
   "source": [
    "//// test\n",
    "\n",
    "fixedRoll true 2000 [4; 1; 1; 2; 3]\n",
    "|> _equal None"
   ]
  },
  {
   "cell_type": "markdown",
   "metadata": {
    "dotnet_repl_cellExecutionStartTime": "2023-07-21T16:45:12.5273221-03:00",
    "dotnet_repl_cellExecutionEndTime": "2023-07-21T16:45:12.528714-03:00",
    "dotnet_repl_cellExecutionTime": "1.3931ms"
   },
   "source": [
    "## numDices"
   ]
  },
  {
   "cell_type": "code",
   "execution_count": null,
   "metadata": {
    "dotnet_repl_cellExecutionStartTime": "2023-07-21T16:45:12.5287388-03:00",
    "dotnet_repl_cellExecutionEndTime": "2023-07-21T16:45:12.5501927-03:00",
    "dotnet_repl_cellExecutionTime": "21.456ms",
    "dotnet_interactive": {
     "language": "fsharp"
    },
    "polyglot_notebook": {
     "kernelName": "fsharp"
    }
   },
   "outputs": [],
   "source": [
    "let numDices log max =\n",
    "    let rec numDices' n p =\n",
    "        if log then printfn $\"numDices / max: {max} / n: {n} / p: {p}\"\n",
    "        if p >= max\n",
    "        then n\n",
    "        else numDices' (n + 1) (p * 6)\n",
    "    if max = 1\n",
    "    then 1\n",
    "    else numDices' 0 1"
   ]
  },
  {
   "cell_type": "code",
   "execution_count": null,
   "metadata": {
    "dotnet_repl_cellExecutionStartTime": "2023-07-21T16:45:12.5502339-03:00",
    "dotnet_repl_cellExecutionEndTime": "2023-07-21T16:45:12.565896-03:00",
    "dotnet_repl_cellExecutionTime": "15.6637ms",
    "dotnet_interactive": {
     "language": "fsharp"
    },
    "polyglot_notebook": {
     "kernelName": "fsharp"
    }
   },
   "outputs": [
    {
     "name": "stdout",
     "output_type": "stream",
     "text": [
      "numDices / max: 36 / n: 0 / p: 1\r\n",
      "numDices / max: 36 / n: 1 / p: 6\r\n",
      "numDices / max: 36 / n: 2 / p: 36\r\n",
      "2\r\n"
     ]
    }
   ],
   "source": [
    "//// test\n",
    "\n",
    "numDices true 36\n",
    "|> _equal 2"
   ]
  },
  {
   "cell_type": "code",
   "execution_count": null,
   "metadata": {
    "dotnet_repl_cellExecutionStartTime": "2023-07-21T16:45:12.565933-03:00",
    "dotnet_repl_cellExecutionEndTime": "2023-07-21T16:45:12.5776723-03:00",
    "dotnet_repl_cellExecutionTime": "11.7406ms",
    "dotnet_interactive": {
     "language": "fsharp"
    },
    "polyglot_notebook": {
     "kernelName": "fsharp"
    }
   },
   "outputs": [
    {
     "name": "stdout",
     "output_type": "stream",
     "text": [
      "numDices / max: 7777 / n: 0 / p: 1\r\n",
      "numDices / max: 7777 / n: 1 / p: 6\r\n",
      "numDices / max: 7777 / n: 2 / p: 36\r\n",
      "numDices / max: 7777 / n: 3 / p: 216\r\n",
      "numDices / max: 7777 / n: 4 / p: 1296\r\n",
      "numDices / max: 7777 / n: 5 / p: 7776\r\n",
      "numDices / max: 7777 / n: 6 / p: 46656\r\n",
      "6\r\n"
     ]
    }
   ],
   "source": [
    "//// test\n",
    "\n",
    "numDices true 7777\n",
    "|> _equal 6"
   ]
  },
  {
   "cell_type": "markdown",
   "metadata": {
    "dotnet_repl_cellExecutionStartTime": "2023-07-21T16:45:12.5777073-03:00",
    "dotnet_repl_cellExecutionEndTime": "2023-07-21T16:45:12.5792268-03:00",
    "dotnet_repl_cellExecutionTime": "1.5218ms"
   },
   "source": [
    "## progressiveRoll"
   ]
  },
  {
   "cell_type": "code",
   "execution_count": null,
   "metadata": {
    "dotnet_repl_cellExecutionStartTime": "2023-07-21T16:45:12.5792611-03:00",
    "dotnet_repl_cellExecutionEndTime": "2023-07-21T16:45:12.5882124-03:00",
    "dotnet_repl_cellExecutionTime": "8.9543ms",
    "dotnet_interactive": {
     "language": "fsharp"
    },
    "polyglot_notebook": {
     "kernelName": "fsharp"
    }
   },
   "outputs": [],
   "source": [
    "let private random = Random ()\n",
    "let rollD6 () = random.Next (1, 7)"
   ]
  },
  {
   "cell_type": "code",
   "execution_count": null,
   "metadata": {
    "dotnet_repl_cellExecutionStartTime": "2023-07-21T16:45:12.5882634-03:00",
    "dotnet_repl_cellExecutionEndTime": "2023-07-21T16:45:12.6158998-03:00",
    "dotnet_repl_cellExecutionTime": "27.6384ms",
    "dotnet_interactive": {
     "language": "fsharp"
    },
    "polyglot_notebook": {
     "kernelName": "fsharp"
    }
   },
   "outputs": [],
   "source": [
    "let progressiveRoll log reroll max =\n",
    "    let rec rollMax power =\n",
    "        let rec loop rolls size =\n",
    "            if size < power + 1\n",
    "            then loop (rollD6 () :: rolls) (size + 1)\n",
    "            else\n",
    "                match rollAcc log rolls power 0 with\n",
    "                | Some (result, _) when result <= max -> result\n",
    "                | _ when reroll -> loop (List.init power (fun _ -> rollD6 ())) power\n",
    "                | _ -> loop (rollD6 () :: rolls) (size + 1)\n",
    "        loop [] 0\n",
    "    rollMax ((numDices log max) - 1)"
   ]
  },
  {
   "cell_type": "code",
   "execution_count": null,
   "metadata": {
    "dotnet_repl_cellExecutionStartTime": "2023-07-21T16:45:12.6159365-03:00",
    "dotnet_repl_cellExecutionEndTime": "2023-07-21T16:45:12.6277529-03:00",
    "dotnet_repl_cellExecutionTime": "11.818ms",
    "dotnet_interactive": {
     "language": "fsharp"
    },
    "polyglot_notebook": {
     "kernelName": "fsharp"
    }
   },
   "outputs": [
    {
     "name": "stdout",
     "output_type": "stream",
     "text": [
      "1\r\n"
     ]
    }
   ],
   "source": [
    "//// test\n",
    "\n",
    "progressiveRoll false false 1\n",
    "|> _equal 1"
   ]
  },
  {
   "cell_type": "code",
   "execution_count": null,
   "metadata": {
    "dotnet_repl_cellExecutionStartTime": "2023-07-21T16:45:12.6348503-03:00",
    "dotnet_repl_cellExecutionEndTime": "2023-07-21T16:45:15.0023076-03:00",
    "dotnet_repl_cellExecutionTime": "2.3674605s",
    "dotnet_interactive": {
     "language": "fsharp"
    },
    "polyglot_notebook": {
     "kernelName": "fsharp"
    }
   },
   "outputs": [],
   "source": [
    "//// test\n",
    "\n",
    "[1..100]\n",
    "|> List.iter (fun n ->\n",
    "    [0..1]\n",
    "    |> List.iter (fun reroll ->\n",
    "        [1..3000]\n",
    "        |> List.map (fun _ -> progressiveRoll false (reroll = 1) n)\n",
    "        |> List.groupBy id\n",
    "        |> List.length\n",
    "        |> __equal false n\n",
    "    )\n",
    ")"
   ]
  }
 ],
 "metadata": {
  "kernelspec": {
   "display_name": ".NET (C#)",
   "language": "C#",
   "name": ".net-csharp"
  },
  "language_info": {
   "file_extension": ".cs",
   "mimetype": "text/x-csharp",
   "name": "C#",
   "pygments_lexer": "csharp",
   "version": "10.0"
  },
  "polyglot_notebook": {
   "defaultKernelName": "csharp",
   "items": [
    {
     "name": "csharp"
    }
   ]
  },
  "dotnet_interactive": {
   "defaultKernelName": "csharp",
   "items": [
    {
     "name": "csharp"
    }
   ]
  }
 },
 "nbformat": 4,
 "nbformat_minor": 5
}