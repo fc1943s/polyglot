{
 "cells": [
  {
   "cell_type": "code",
   "execution_count": null,
   "metadata": {
    "dotnet_repl_cellExecutionStartTime": "2023-07-18T03:03:33.2956965-03:00",
    "dotnet_repl_cellExecutionEndTime": "2023-07-18T03:03:48.5408557-03:00",
    "dotnet_repl_cellExecutionTime": "15.2451614s",
    "dotnet_interactive": {
     "language": "fsharp"
    },
    "polyglot_notebook": {
     "kernelName": "fsharp"
    }
   },
   "outputs": [
    {
     "data": {
      "text/markdown": [
       "# Common (Polyglot)"
      ]
     },
     "metadata": {},
     "output_type": "display_data"
    },
    {
     "data": {
      "text/html": [
       "<div><div></div><div><strong>Installing Packages</strong><ul><li><span>Expecto</span></li></ul></div><div></div></div>"
      ]
     },
     "metadata": {},
     "output_type": "display_data"
    },
    {
     "data": {
      "text/html": [
       "<div><div></div><div><strong>Installing Packages</strong><ul><li><span>Expecto.</span></li></ul></div><div></div></div>"
      ]
     },
     "metadata": {},
     "output_type": "display_data"
    },
    {
     "data": {
      "text/html": [
       "<div><div></div><div><strong>Installing Packages</strong><ul><li><span>Expecto..</span></li></ul></div><div></div></div>"
      ]
     },
     "metadata": {},
     "output_type": "display_data"
    },
    {
     "data": {
      "text/html": [
       "<div><div></div><div><strong>Installing Packages</strong><ul><li><span>Expecto...</span></li></ul></div><div></div></div>"
      ]
     },
     "metadata": {},
     "output_type": "display_data"
    },
    {
     "data": {
      "text/html": [
       "<div><div></div><div><strong>Installing Packages</strong><ul><li><span>Expecto....</span></li></ul></div><div></div></div>"
      ]
     },
     "metadata": {},
     "output_type": "display_data"
    },
    {
     "data": {
      "text/html": [
       "<div><div></div><div><strong>Installing Packages</strong><ul><li><span>Expecto.....</span></li></ul></div><div></div></div>"
      ]
     },
     "metadata": {},
     "output_type": "display_data"
    },
    {
     "data": {
      "text/html": [
       "<div><div></div><div><strong>Installing Packages</strong><ul><li><span>Expecto......</span></li></ul></div><div></div></div>"
      ]
     },
     "metadata": {},
     "output_type": "display_data"
    },
    {
     "data": {
      "text/html": [
       "<div><div></div><div><strong>Installing Packages</strong><ul><li><span>Expecto.......</span></li></ul></div><div></div></div>"
      ]
     },
     "metadata": {},
     "output_type": "display_data"
    },
    {
     "data": {
      "text/html": [
       "<div><div></div><div><strong>Installing Packages</strong><ul><li><span>Expecto........</span></li></ul></div><div></div></div>"
      ]
     },
     "metadata": {},
     "output_type": "display_data"
    },
    {
     "data": {
      "text/html": [
       "<div><div></div><div><strong>Installing Packages</strong><ul><li><span>Expecto.........</span></li></ul></div><div></div></div>"
      ]
     },
     "metadata": {},
     "output_type": "display_data"
    },
    {
     "data": {
      "text/html": [
       "<div><div></div><div><strong>Installing Packages</strong><ul><li><span>Expecto..........</span></li></ul></div><div></div></div>"
      ]
     },
     "metadata": {},
     "output_type": "display_data"
    },
    {
     "data": {
      "text/html": [
       "<div><div></div><div></div><div><strong>Installed Packages</strong><ul><li><span>Expecto, 10.1.0</span></li></ul></div></div>"
      ]
     },
     "metadata": {},
     "output_type": "display_data"
    },
    {
     "data": {
      "text/html": [
       "<div class=\"dni-plaintext\"><pre>True</pre></div><style>\r\n",
       ".dni-code-hint {\r\n",
       "    font-style: italic;\r\n",
       "    overflow: hidden;\r\n",
       "    white-space: nowrap;\r\n",
       "}\r\n",
       ".dni-treeview {\r\n",
       "    white-space: nowrap;\r\n",
       "}\r\n",
       ".dni-treeview td {\r\n",
       "    vertical-align: top;\r\n",
       "    text-align: start;\r\n",
       "}\r\n",
       "details.dni-treeview {\r\n",
       "    padding-left: 1em;\r\n",
       "}\r\n",
       "table td {\r\n",
       "    text-align: start;\r\n",
       "}\r\n",
       "table tr { \r\n",
       "    vertical-align: top; \r\n",
       "    margin: 0em 0px;\r\n",
       "}\r\n",
       "table tr td pre \r\n",
       "{ \r\n",
       "    vertical-align: top !important; \r\n",
       "    margin: 0em 0px !important;\r\n",
       "} \r\n",
       "table th {\r\n",
       "    text-align: start;\r\n",
       "}\r\n",
       "</style>"
      ]
     },
     "metadata": {},
     "output_type": "display_data"
    },
    {
     "name": "stdout",
     "output_type": "stream",
     "text": [
      "00010101-0000-0000-0000-0a9876543210\r\n",
      "99991231-2359-5999-9999-9a9876543210\r\n",
      "19700101-0000-0000-0000-0a9876543210\r\n",
      "0001-01-01 00:00:00Z\r\n",
      "9999-12-31 23:59:59Z\r\n",
      "1970-01-01 00:00:00Z\r\n",
      "00000000-0000-0000-00dc-ba9876543210\r\n",
      "99999999-9999-9999-99dc-ba9876543210\r\n",
      "0\r\n",
      "999999999999999999\r\n",
      "0\r\n",
      "0\r\n",
      "03:03:48 #1 [Debug] test\r\n",
      "1\r\n",
      "1\r\n",
      "1\r\n",
      "0\r\n"
     ]
    }
   ],
   "source": [
    "#!import ../nbs/Common.dib"
   ]
  },
  {
   "cell_type": "code",
   "execution_count": null,
   "metadata": {
    "dotnet_repl_cellExecutionStartTime": "2023-07-18T03:03:48.5419074-03:00",
    "dotnet_repl_cellExecutionEndTime": "2023-07-18T03:03:48.5646029-03:00",
    "dotnet_repl_cellExecutionTime": "22.6976ms",
    "dotnet_interactive": {
     "language": "fsharp"
    },
    "polyglot_notebook": {
     "kernelName": "fsharp"
    }
   },
   "outputs": [],
   "source": [
    "let pow6 = 1 |> Seq.unfold (fun state -> Some (state, state * 6)) |> Seq.cache"
   ]
  },
  {
   "cell_type": "code",
   "execution_count": null,
   "metadata": {
    "dotnet_repl_cellExecutionStartTime": "2023-07-18T03:03:48.5647562-03:00",
    "dotnet_repl_cellExecutionEndTime": "2023-07-18T03:03:48.6135776-03:00",
    "dotnet_repl_cellExecutionTime": "48.8227ms",
    "dotnet_interactive": {
     "language": "fsharp"
    },
    "polyglot_notebook": {
     "kernelName": "fsharp"
    }
   },
   "outputs": [
    {
     "name": "stdout",
     "output_type": "stream",
     "text": [
      "[ 1, 6, 36, 216, 1296, 7776, 46656, 279936 ]\r\n"
     ]
    }
   ],
   "source": [
    "//// test\n",
    "\n",
    "pow6\n",
    "|> Seq.take 8\n",
    "|> Seq.toList\n",
    "|> _equal [ 1; 6; 36; 216; 1296; 7776; 46656; 279936 ]"
   ]
  },
  {
   "cell_type": "code",
   "execution_count": null,
   "metadata": {
    "dotnet_repl_cellExecutionStartTime": "2023-07-18T03:03:48.6136096-03:00",
    "dotnet_repl_cellExecutionEndTime": "2023-07-18T03:03:48.7003963-03:00",
    "dotnet_repl_cellExecutionTime": "86.7884ms",
    "dotnet_interactive": {
     "language": "fsharp"
    },
    "polyglot_notebook": {
     "kernelName": "fsharp"
    }
   },
   "outputs": [],
   "source": [
    "let rec rollAcc log rolls power acc =\n",
    "    match rolls with\n",
    "    | _ when power < 0 ->\n",
    "        if log then printfn $\"rollAcc / power: {power} / acc: {acc}\"\n",
    "        Some (acc + 1, rolls)\n",
    "    | [] -> None\n",
    "    | roll :: rest when roll > 1 ->\n",
    "        let coeff = pow6 |> Seq.item power\n",
    "        let value = (roll - 1) * coeff\n",
    "        if log then printfn $\"rollAcc / power: {power} / acc: {acc} / roll: {roll} / value: {value}\"\n",
    "        rollAcc log rest (power - 1) (acc + value)\n",
    "    | roll :: rest ->\n",
    "        if log then printfn $\"rollAcc / power: {power} / acc: {acc} / roll: {roll}\"\n",
    "        rollAcc log rest (power - 1) acc"
   ]
  },
  {
   "cell_type": "code",
   "execution_count": null,
   "metadata": {
    "dotnet_repl_cellExecutionStartTime": "2023-07-18T03:03:48.7004291-03:00",
    "dotnet_repl_cellExecutionEndTime": "2023-07-18T03:03:48.7368301-03:00",
    "dotnet_repl_cellExecutionTime": "36.4037ms",
    "dotnet_interactive": {
     "language": "fsharp"
    },
    "polyglot_notebook": {
     "kernelName": "fsharp"
    }
   },
   "outputs": [
    {
     "name": "stdout",
     "output_type": "stream",
     "text": [
      "rollAcc / power: 0 / acc: 1000 / roll: 6 / value: 5\r\n",
      "rollAcc / power: -1 / acc: 1005\r\n",
      "FSharpOption<Tuple<Int32,FSharpList<Int32>>>\r\n",
      "      Value:       - 1006\r\n",
      "      - [ 5, 4, 3, 2 ]\r\n"
     ]
    }
   ],
   "source": [
    "//// test\n",
    "\n",
    "rollAcc true [6; 5; 4; 3; 2] 0 1000\n",
    "|> _equal (Some (1006, [5; 4; 3; 2]))"
   ]
  },
  {
   "cell_type": "code",
   "execution_count": null,
   "metadata": {
    "dotnet_repl_cellExecutionStartTime": "2023-07-18T03:03:48.7368832-03:00",
    "dotnet_repl_cellExecutionEndTime": "2023-07-18T03:03:48.7704821-03:00",
    "dotnet_repl_cellExecutionTime": "33.6014ms",
    "dotnet_interactive": {
     "language": "fsharp"
    },
    "polyglot_notebook": {
     "kernelName": "fsharp"
    }
   },
   "outputs": [
    {
     "name": "stdout",
     "output_type": "stream",
     "text": [
      "rollAcc / power: 1 / acc: 1000 / roll: 6 / value: 30\r\n",
      "rollAcc / power: 0 / acc: 1030 / roll: 5 / value: 4\r\n",
      "rollAcc / power: -1 / acc: 1034\r\n",
      "FSharpOption<Tuple<Int32,FSharpList<Int32>>>\r\n",
      "      Value:       - 1035\r\n",
      "      - [ 4, 3, 2 ]\r\n"
     ]
    }
   ],
   "source": [
    "//// test\n",
    "\n",
    "rollAcc true [6; 5; 4; 3; 2] 1 1000\n",
    "|> _equal (Some (1035, [4; 3; 2]))"
   ]
  },
  {
   "cell_type": "code",
   "execution_count": null,
   "metadata": {
    "dotnet_repl_cellExecutionStartTime": "2023-07-18T03:03:48.7705319-03:00",
    "dotnet_repl_cellExecutionEndTime": "2023-07-18T03:03:48.7992905-03:00",
    "dotnet_repl_cellExecutionTime": "28.7604ms",
    "dotnet_interactive": {
     "language": "fsharp"
    },
    "polyglot_notebook": {
     "kernelName": "fsharp"
    }
   },
   "outputs": [
    {
     "name": "stdout",
     "output_type": "stream",
     "text": [
      "rollAcc / power: 2 / acc: 1000 / roll: 6 / value: 180\r\n",
      "rollAcc / power: 1 / acc: 1180 / roll: 5 / value: 24\r\n",
      "rollAcc / power: 0 / acc: 1204 / roll: 4 / value: 3\r\n",
      "rollAcc / power: -1 / acc: 1207\r\n",
      "FSharpOption<Tuple<Int32,FSharpList<Int32>>>\r\n",
      "      Value:       - 1208\r\n",
      "      - [ 3, 2 ]\r\n"
     ]
    }
   ],
   "source": [
    "//// test\n",
    "\n",
    "rollAcc true [6; 5; 4; 3; 2] 2 1000\n",
    "|> _equal (Some (1208, [3; 2]))"
   ]
  },
  {
   "cell_type": "code",
   "execution_count": null,
   "metadata": {
    "dotnet_repl_cellExecutionStartTime": "2023-07-18T03:03:48.7993316-03:00",
    "dotnet_repl_cellExecutionEndTime": "2023-07-18T03:03:48.8447022-03:00",
    "dotnet_repl_cellExecutionTime": "45.3724ms",
    "dotnet_interactive": {
     "language": "fsharp"
    },
    "polyglot_notebook": {
     "kernelName": "fsharp"
    }
   },
   "outputs": [],
   "source": [
    "let fixedRoll log max rolls =\n",
    "    let rec rollMax power =\n",
    "        match rollAcc log rolls power 0 with\n",
    "        | Some (result, _) when result >= 1 && result <= max -> Some result\n",
    "        | _ -> None\n",
    "\n",
    "    rollMax (List.length rolls - 1)"
   ]
  },
  {
   "cell_type": "code",
   "execution_count": null,
   "metadata": {
    "dotnet_repl_cellExecutionStartTime": "2023-07-18T03:03:48.8447371-03:00",
    "dotnet_repl_cellExecutionEndTime": "2023-07-18T03:03:48.8751545-03:00",
    "dotnet_repl_cellExecutionTime": "30.4189ms",
    "dotnet_interactive": {
     "language": "fsharp"
    },
    "polyglot_notebook": {
     "kernelName": "fsharp"
    }
   },
   "outputs": [
    {
     "name": "stdout",
     "output_type": "stream",
     "text": [
      "rollAcc / power: 4 / acc: 0 / roll: 1\r\n",
      "rollAcc / power: 3 / acc: 0 / roll: 5 / value: 864\r\n",
      "rollAcc / power: 2 / acc: 864 / roll: 4 / value: 108\r\n",
      "rollAcc / power: 1 / acc: 972 / roll: 4 / value: 18\r\n",
      "rollAcc / power: 0 / acc: 990 / roll: 5 / value: 4\r\n",
      "rollAcc / power: -1 / acc: 994\r\n",
      "FSharpOption<Int32>\r\n",
      "      Value: 995\r\n"
     ]
    }
   ],
   "source": [
    "//// test\n",
    "\n",
    "fixedRoll true 2000 [1; 5; 4; 4; 5]\n",
    "|> _equal (Some 995)"
   ]
  },
  {
   "cell_type": "code",
   "execution_count": null,
   "metadata": {
    "dotnet_repl_cellExecutionStartTime": "2023-07-18T03:03:48.8751889-03:00",
    "dotnet_repl_cellExecutionEndTime": "2023-07-18T03:03:48.8995335-03:00",
    "dotnet_repl_cellExecutionTime": "24.3459ms",
    "dotnet_interactive": {
     "language": "fsharp"
    },
    "polyglot_notebook": {
     "kernelName": "fsharp"
    }
   },
   "outputs": [
    {
     "name": "stdout",
     "output_type": "stream",
     "text": [
      "rollAcc / power: 4 / acc: 0 / roll: 2 / value: 1296\r\n",
      "rollAcc / power: 3 / acc: 1296 / roll: 2 / value: 216\r\n",
      "rollAcc / power: 2 / acc: 1512 / roll: 6 / value: 180\r\n",
      "rollAcc / power: 1 / acc: 1692 / roll: 4 / value: 18\r\n",
      "rollAcc / power: 0 / acc: 1710 / roll: 5 / value: 4\r\n",
      "rollAcc / power: -1 / acc: 1714\r\n",
      "FSharpOption<Int32>\r\n",
      "      Value: 1715\r\n"
     ]
    }
   ],
   "source": [
    "//// test\n",
    "\n",
    "fixedRoll true 2000 [2; 2; 6; 4; 5]\n",
    "|> _equal (Some 1715)"
   ]
  },
  {
   "cell_type": "code",
   "execution_count": null,
   "metadata": {
    "dotnet_repl_cellExecutionStartTime": "2023-07-18T03:03:48.8995682-03:00",
    "dotnet_repl_cellExecutionEndTime": "2023-07-18T03:03:48.9252242-03:00",
    "dotnet_repl_cellExecutionTime": "25.6573ms",
    "dotnet_interactive": {
     "language": "fsharp"
    },
    "polyglot_notebook": {
     "kernelName": "fsharp"
    }
   },
   "outputs": [
    {
     "name": "stdout",
     "output_type": "stream",
     "text": [
      "rollAcc / power: 4 / acc: 0 / roll: 4 / value: 3888\r\n",
      "rollAcc / power: 3 / acc: 3888 / roll: 1\r\n",
      "rollAcc / power: 2 / acc: 3888 / roll: 1\r\n",
      "rollAcc / power: 1 / acc: 3888 / roll: 2 / value: 6\r\n",
      "rollAcc / power: 0 / acc: 3894 / roll: 3 / value: 2\r\n",
      "rollAcc / power: -1 / acc: 3896\r\n",
      "<null>\r\n"
     ]
    }
   ],
   "source": [
    "//// test\n",
    "\n",
    "fixedRoll true 2000 [4; 1; 1; 2; 3]\n",
    "|> _equal None"
   ]
  },
  {
   "cell_type": "code",
   "execution_count": null,
   "metadata": {
    "dotnet_repl_cellExecutionStartTime": "2023-07-18T03:03:48.9252557-03:00",
    "dotnet_repl_cellExecutionEndTime": "2023-07-18T03:03:48.9435812-03:00",
    "dotnet_repl_cellExecutionTime": "18.327ms",
    "dotnet_interactive": {
     "language": "fsharp"
    },
    "polyglot_notebook": {
     "kernelName": "fsharp"
    }
   },
   "outputs": [],
   "source": [
    "let numDices log max =\n",
    "    let rec numDices' n p =\n",
    "        if log then printfn $\"numDices / max: {max} / n: {n} / p: {p}\"\n",
    "        if p >= max\n",
    "        then n\n",
    "        else numDices' (n + 1) (p * 6)\n",
    "    if max = 1\n",
    "    then 1\n",
    "    else numDices' 0 1"
   ]
  },
  {
   "cell_type": "code",
   "execution_count": null,
   "metadata": {
    "dotnet_repl_cellExecutionStartTime": "2023-07-18T03:03:48.9436123-03:00",
    "dotnet_repl_cellExecutionEndTime": "2023-07-18T03:03:48.9595681-03:00",
    "dotnet_repl_cellExecutionTime": "15.9575ms",
    "dotnet_interactive": {
     "language": "fsharp"
    },
    "polyglot_notebook": {
     "kernelName": "fsharp"
    }
   },
   "outputs": [
    {
     "name": "stdout",
     "output_type": "stream",
     "text": [
      "numDices / max: 36 / n: 0 / p: 1\r\n",
      "numDices / max: 36 / n: 1 / p: 6\r\n",
      "numDices / max: 36 / n: 2 / p: 36\r\n",
      "2\r\n"
     ]
    }
   ],
   "source": [
    "//// test\n",
    "\n",
    "numDices true 36\n",
    "|> _equal 2"
   ]
  },
  {
   "cell_type": "code",
   "execution_count": null,
   "metadata": {
    "dotnet_repl_cellExecutionStartTime": "2023-07-18T03:03:48.9596049-03:00",
    "dotnet_repl_cellExecutionEndTime": "2023-07-18T03:03:48.9782443-03:00",
    "dotnet_repl_cellExecutionTime": "18.6404ms",
    "dotnet_interactive": {
     "language": "fsharp"
    },
    "polyglot_notebook": {
     "kernelName": "fsharp"
    }
   },
   "outputs": [
    {
     "name": "stdout",
     "output_type": "stream",
     "text": [
      "numDices / max: 7777 / n: 0 / p: 1\r\n",
      "numDices / max: 7777 / n: 1 / p: 6\r\n",
      "numDices / max: 7777 / n: 2 / p: 36\r\n",
      "numDices / max: 7777 / n: 3 / p: 216\r\n",
      "numDices / max: 7777 / n: 4 / p: 1296\r\n",
      "numDices / max: 7777 / n: 5 / p: 7776\r\n",
      "numDices / max: 7777 / n: 6 / p: 46656\r\n",
      "6\r\n"
     ]
    }
   ],
   "source": [
    "//// test\n",
    "\n",
    "numDices true 7777\n",
    "|> _equal 6"
   ]
  },
  {
   "cell_type": "code",
   "execution_count": null,
   "metadata": {
    "dotnet_repl_cellExecutionStartTime": "2023-07-18T03:03:48.9782732-03:00",
    "dotnet_repl_cellExecutionEndTime": "2023-07-18T03:03:48.9881769-03:00",
    "dotnet_repl_cellExecutionTime": "9.9057ms",
    "dotnet_interactive": {
     "language": "fsharp"
    },
    "polyglot_notebook": {
     "kernelName": "fsharp"
    }
   },
   "outputs": [],
   "source": [
    "let private random = Random ()\n",
    "let rollD6 () = random.Next (1, 7)"
   ]
  },
  {
   "cell_type": "code",
   "execution_count": null,
   "metadata": {
    "dotnet_repl_cellExecutionStartTime": "2023-07-18T03:03:48.9882105-03:00",
    "dotnet_repl_cellExecutionEndTime": "2023-07-18T03:03:49.0191024-03:00",
    "dotnet_repl_cellExecutionTime": "30.8938ms",
    "dotnet_interactive": {
     "language": "fsharp"
    },
    "polyglot_notebook": {
     "kernelName": "fsharp"
    }
   },
   "outputs": [],
   "source": [
    "let progressiveRoll log reroll max =\n",
    "    let rec rollMax power =\n",
    "        let rec loop rolls size =\n",
    "            if size < power + 1\n",
    "            then loop (rollD6 () :: rolls) (size + 1)\n",
    "            else\n",
    "                match rollAcc log rolls power 0 with\n",
    "                | Some (result, _) when result <= max -> result\n",
    "                | _ when reroll -> loop (List.init power (fun _ -> rollD6 ())) power\n",
    "                | _ -> loop (rollD6 () :: rolls) (size + 1)\n",
    "        loop [] 0\n",
    "    rollMax ((numDices log max) - 1)"
   ]
  },
  {
   "cell_type": "code",
   "execution_count": null,
   "metadata": {
    "dotnet_repl_cellExecutionStartTime": "2023-07-18T03:03:49.0191341-03:00",
    "dotnet_repl_cellExecutionEndTime": "2023-07-18T03:03:49.0342939-03:00",
    "dotnet_repl_cellExecutionTime": "15.1605ms",
    "dotnet_interactive": {
     "language": "fsharp"
    },
    "polyglot_notebook": {
     "kernelName": "fsharp"
    }
   },
   "outputs": [
    {
     "name": "stdout",
     "output_type": "stream",
     "text": [
      "1\r\n"
     ]
    }
   ],
   "source": [
    "//// test\n",
    "\n",
    "progressiveRoll false false 1\n",
    "|> _equal 1"
   ]
  },
  {
   "cell_type": "code",
   "execution_count": null,
   "metadata": {
    "dotnet_repl_cellExecutionStartTime": "2023-07-18T03:03:49.0429859-03:00",
    "dotnet_repl_cellExecutionEndTime": "2023-07-18T03:03:50.6993546-03:00",
    "dotnet_repl_cellExecutionTime": "1.6563754s",
    "dotnet_interactive": {
     "language": "fsharp"
    },
    "polyglot_notebook": {
     "kernelName": "fsharp"
    }
   },
   "outputs": [],
   "source": [
    "//// test\n",
    "\n",
    "[1..100]\n",
    "|> List.iter (fun n ->\n",
    "    [0..1]\n",
    "    |> List.iter (fun reroll ->\n",
    "        [1..3000]\n",
    "        |> List.map (fun _ -> progressiveRoll false (reroll = 1) n)\n",
    "        |> List.groupBy id\n",
    "        |> List.length\n",
    "        |> __equal false n\n",
    "    )\n",
    ")"
   ]
  }
 ],
 "metadata": {
  "kernelspec": {
   "display_name": ".NET (C#)",
   "language": "C#",
   "name": ".net-csharp"
  },
  "language_info": {
   "file_extension": ".cs",
   "mimetype": "text/x-csharp",
   "name": "C#",
   "pygments_lexer": "csharp",
   "version": "10.0"
  },
  "polyglot_notebook": {
   "defaultKernelName": "csharp",
   "items": [
    {
     "name": "csharp"
    }
   ]
  },
  "dotnet_interactive": {
   "defaultKernelName": "csharp",
   "items": [
    {
     "name": "csharp"
    }
   ]
  }
 },
 "nbformat": 4,
 "nbformat_minor": 5
}