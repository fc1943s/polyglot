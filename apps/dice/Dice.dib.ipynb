{
 "cells": [
  {
   "cell_type": "markdown",
   "metadata": {},
   "source": [
    "# Dice (Polyglot)"
   ]
  },
  {
   "cell_type": "code",
   "execution_count": null,
   "metadata": {
    "dotnet_interactive": {
     "language": "fsharp"
    },
    "polyglot_notebook": {
     "kernelName": "fsharp"
    }
   },
   "outputs": [],
   "source": [
    "#!import ../nbs/Testing.dib"
   ]
  },
  {
   "cell_type": "code",
   "execution_count": null,
   "metadata": {
    "dotnet_interactive": {
     "language": "fsharp"
    },
    "polyglot_notebook": {
     "kernelName": "fsharp"
    }
   },
   "outputs": [],
   "source": [
    "#!import ../nbs/Common.fs"
   ]
  },
  {
   "cell_type": "code",
   "execution_count": null,
   "metadata": {
    "dotnet_interactive": {
     "language": "fsharp"
    },
    "polyglot_notebook": {
     "kernelName": "fsharp"
    }
   },
   "outputs": [],
   "source": [
    "open Common"
   ]
  },
  {
   "cell_type": "code",
   "execution_count": null,
   "metadata": {
    "dotnet_interactive": {
     "language": "spiral"
    },
    "polyglot_notebook": {
     "kernelName": "spiral"
    }
   },
   "outputs": [
    {
     "name": "stdout",
     "output_type": "stream",
     "text": [
      "()\n",
      "\r\n"
     ]
    }
   ],
   "source": [
    "// // test\n",
    "\n",
    "open testing"
   ]
  },
  {
   "cell_type": "markdown",
   "metadata": {},
   "source": [
    "## sixthPowerSequence"
   ]
  },
  {
   "cell_type": "code",
   "execution_count": null,
   "metadata": {
    "dotnet_interactive": {
     "language": "fsharp"
    },
    "polyglot_notebook": {
     "kernelName": "fsharp"
    }
   },
   "outputs": [],
   "source": [
    "let sixthPowerSequence = 1 |> Seq.unfold (fun state -> Some (state, state * 6)) |> Seq.cache"
   ]
  },
  {
   "cell_type": "code",
   "execution_count": null,
   "metadata": {
    "dotnet_interactive": {
     "language": "fsharp"
    },
    "polyglot_notebook": {
     "kernelName": "fsharp"
    }
   },
   "outputs": [
    {
     "name": "stdout",
     "output_type": "stream",
     "text": [
      "[ 1, 6, 36, 216, 1296, 7776, 46656, 279936 ]\r\n"
     ]
    }
   ],
   "source": [
    "//// test\n",
    "\n",
    "sixthPowerSequence\n",
    "|> Seq.take 8\n",
    "|> Seq.toList\n",
    "|> _equal [ 1; 6; 36; 216; 1296; 7776; 46656; 279936 ]"
   ]
  },
  {
   "cell_type": "markdown",
   "metadata": {},
   "source": [
    "## sixth_power_sequence"
   ]
  },
  {
   "cell_type": "code",
   "execution_count": null,
   "metadata": {
    "dotnet_interactive": {
     "language": "spiral"
    },
    "polyglot_notebook": {
     "kernelName": "spiral"
    }
   },
   "outputs": [
    {
     "name": "stdout",
     "output_type": "stream",
     "text": [
      "()\n",
      "\r\n"
     ]
    }
   ],
   "source": [
    "inl sixth_power_sequence () =\n",
    "    stream.iterate ((*) 6) 1i32"
   ]
  },
  {
   "cell_type": "code",
   "execution_count": null,
   "metadata": {
    "dotnet_interactive": {
     "language": "spiral"
    },
    "polyglot_notebook": {
     "kernelName": "spiral"
    }
   },
   "outputs": [
    {
     "name": "stdout",
     "output_type": "stream",
     "text": [
      "type UH0 =\n",
      "    | UH0_0 of int32 * UH0\n",
      "    | UH0_1\n",
      "let rec method0 () : unit =\n",
      "    let v63 : UH0 = UH0_1\n",
      "    let v64 : UH0 = UH0_0(279936, v63)\n",
      "    let v65 : UH0 = UH0_0(46656, v64)\n",
      "    let v66 : UH0 = UH0_0(7776, v65)\n",
      "    let v67 : UH0 = UH0_0(1296, v66)\n",
      "    let v68 : UH0 = UH0_0(216, v67)\n",
      "    let v69 : UH0 = UH0_0(36, v68)\n",
      "    let v70 : UH0 = UH0_0(6, v69)\n",
      "    let v71 : UH0 = UH0_0(1, v70)\n",
      "    let v72 : UH0 = UH0_1\n",
      "    let v73 : UH0 = UH0_0(279936, v72)\n",
      "    let v74 : UH0 = UH0_0(46656, v73)\n",
      "    let v75 : UH0 = UH0_0(7776, v74)\n",
      "    let v76 : UH0 = UH0_0(1296, v75)\n",
      "    let v77 : UH0 = UH0_0(216, v76)\n",
      "    let v78 : UH0 = UH0_0(36, v77)\n",
      "    let v79 : UH0 = UH0_0(6, v78)\n",
      "    let v80 : UH0 = UH0_0(1, v79)\n",
      "    let v81 : string = $\"_equal / actual: %A{v71} / expected: %A{v80}\"\n",
      "    ()\n",
      "method0()\n",
      "\r\n"
     ]
    }
   ],
   "source": [
    "// // test\n",
    "\n",
    "sixth_power_sequence ()\n",
    "|> stream.take_while (fun _ i => i <= 7i32)\n",
    "|> stream.to_list\n",
    "|> _equal [ 1i32; 6; 36; 216; 1296; 7776; 46656; 279936 ]"
   ]
  },
  {
   "cell_type": "markdown",
   "metadata": {},
   "source": [
    "## accumulateDiceRolls"
   ]
  },
  {
   "cell_type": "code",
   "execution_count": null,
   "metadata": {
    "dotnet_interactive": {
     "language": "fsharp"
    },
    "polyglot_notebook": {
     "kernelName": "fsharp"
    }
   },
   "outputs": [],
   "source": [
    "let rec accumulateDiceRolls log rolls power acc =\n",
    "    match rolls with\n",
    "    | _ when power < 0 ->\n",
    "        log |> Option.iter ((|>) $\"accumulateDiceRolls / power: {power} / acc: {acc}\")\n",
    "        Some (acc + 1, rolls)\n",
    "    | [] -> None\n",
    "    | roll :: rest when roll > 1 ->\n",
    "        let coeff = sixthPowerSequence |> Seq.item power\n",
    "        let value = (roll - 1) * coeff\n",
    "        log |> Option.iter ((|>) $\"accumulateDiceRolls / \\\n",
    "            power: {power} / acc: {acc} / roll: {roll} / value: {value}\"\n",
    "        )\n",
    "        accumulateDiceRolls log rest (power - 1) (acc + value)\n",
    "    | roll :: rest ->\n",
    "        log |> Option.iter ((|>) $\"accumulateDiceRolls / power: {power} / acc: {acc} / roll: {roll}\")\n",
    "        accumulateDiceRolls log rest (power - 1) acc"
   ]
  },
  {
   "cell_type": "code",
   "execution_count": null,
   "metadata": {
    "dotnet_interactive": {
     "language": "fsharp"
    },
    "polyglot_notebook": {
     "kernelName": "fsharp"
    }
   },
   "outputs": [
    {
     "name": "stdout",
     "output_type": "stream",
     "text": [
      "accumulateDiceRolls / power: 0 / acc: 1000 / roll: 6 / value: 5\r\n",
      "accumulateDiceRolls / power: -1 / acc: 1005\r\n",
      "FSharpOption<Tuple<Int32,FSharpList<Int32>>>\r\n",
      "      Value:       - 1006\r\n",
      "      - [ 5, 4, 3, 2 ]\r\n"
     ]
    }
   ],
   "source": [
    "//// test\n",
    "\n",
    "accumulateDiceRolls (Some (printfn \"%s\")) [ 6; 5; 4; 3; 2 ] 0 1000\n",
    "|> _equal (Some (1006, [ 5; 4; 3; 2 ]))"
   ]
  },
  {
   "cell_type": "code",
   "execution_count": null,
   "metadata": {
    "dotnet_interactive": {
     "language": "fsharp"
    },
    "polyglot_notebook": {
     "kernelName": "fsharp"
    }
   },
   "outputs": [
    {
     "name": "stdout",
     "output_type": "stream",
     "text": [
      "accumulateDiceRolls / power: 1 / acc: 1000 / roll: 6 / value: 30\r\n",
      "accumulateDiceRolls / power: 0 / acc: 1030 / roll: 5 / value: 4\r\n",
      "accumulateDiceRolls / power: -1 / acc: 1034\r\n",
      "FSharpOption<Tuple<Int32,FSharpList<Int32>>>\r\n",
      "      Value:       - 1035\r\n",
      "      - [ 4, 3, 2 ]\r\n"
     ]
    }
   ],
   "source": [
    "//// test\n",
    "\n",
    "accumulateDiceRolls (Some (printfn \"%s\")) [ 6; 5; 4; 3; 2 ] 1 1000\n",
    "|> _equal (Some (1035, [ 4; 3; 2 ]))"
   ]
  },
  {
   "cell_type": "code",
   "execution_count": null,
   "metadata": {
    "dotnet_interactive": {
     "language": "fsharp"
    },
    "polyglot_notebook": {
     "kernelName": "fsharp"
    }
   },
   "outputs": [
    {
     "name": "stdout",
     "output_type": "stream",
     "text": [
      "accumulateDiceRolls / power: 2 / acc: 1000 / roll: 6 / value: 180\r\n",
      "accumulateDiceRolls / power: 1 / acc: 1180 / roll: 5 / value: 24\r\n",
      "accumulateDiceRolls / power: 0 / acc: 1204 / roll: 4 / value: 3\r\n",
      "accumulateDiceRolls / power: -1 / acc: 1207\r\n",
      "FSharpOption<Tuple<Int32,FSharpList<Int32>>>\r\n",
      "      Value:       - 1208\r\n",
      "      - [ 3, 2 ]\r\n"
     ]
    }
   ],
   "source": [
    "//// test\n",
    "\n",
    "accumulateDiceRolls (Some (printfn \"%s\")) [ 6; 5; 4; 3; 2 ] 2 1000\n",
    "|> _equal (Some (1208, [ 3; 2 ]))"
   ]
  },
  {
   "cell_type": "markdown",
   "metadata": {},
   "source": [
    "## accumulate_dice_rolls"
   ]
  },
  {
   "cell_type": "code",
   "execution_count": null,
   "metadata": {
    "dotnet_interactive": {
     "language": "spiral"
    },
    "polyglot_notebook": {
     "kernelName": "spiral"
    }
   },
   "outputs": [
    {
     "name": "stdout",
     "output_type": "stream",
     "text": [
      "()\n",
      "\r\n"
     ]
    }
   ],
   "source": [
    "inl accumulate_dice_rolls (log : option (string -> ())) rolls power acc =\n",
    "    inl rec body acc power rolls =\n",
    "        match rolls with\n",
    "        | _ when power < 0 =>\n",
    "            log |> optionm'.iter ((|>) $\"$\\\"accumulate_dice_rolls / power: {!power} / acc: {!acc}\\\"\")\n",
    "            Some (acc + 1, rolls)\n",
    "        | [] => None\n",
    "        | roll :: rest when roll > 1 =>\n",
    "            inl coeff = sixth_power_sequence () |> stream.item power\n",
    "            inl value = (roll - 1) * coeff\n",
    "            log |> optionm'.iter ((|>) $\"$\\\"accumulate_dice_rolls / power: {!power} / acc: {!acc} / roll: {!roll} / value: {!value}\\\"\"\n",
    "            )\n",
    "            loop (acc + value) (power - 1) rest\n",
    "        | roll :: rest =>\n",
    "            log |> optionm'.iter ((|>) $\"$\\\"accumulate_dice_rolls / power: {!power} / acc: {!acc} / roll: {!roll}\\\"\")\n",
    "            loop acc (power - 1) rest\n",
    "    and inl loop acc power rolls =\n",
    "        if var_is rolls |> not\n",
    "        then body acc power rolls\n",
    "        else\n",
    "            inl acc = dyn acc\n",
    "            join body acc power rolls\n",
    "    loop acc power rolls"
   ]
  },
  {
   "cell_type": "code",
   "execution_count": null,
   "metadata": {
    "dotnet_interactive": {
     "language": "spiral"
    },
    "polyglot_notebook": {
     "kernelName": "spiral"
    }
   },
   "outputs": [
    {
     "name": "stdout",
     "output_type": "stream",
     "text": [
      "type UH0 =\n",
      "    | UH0_0 of int32 * UH0\n",
      "    | UH0_1\n",
      "and [<Struct>] US0 =\n",
      "    | US0_0\n",
      "    | US0_1 of f1_0 : int32 * f1_1 : UH0\n",
      "let rec method0 () : unit =\n",
      "    let v0 : string = $\"accumulate_dice_rolls / power: {0} / acc: {1000} / roll: {6} / value: {5}\"\n",
      "    System.Console.WriteLine v0\n",
      "    let v1 : string = $\"accumulate_dice_rolls / power: {-1} / acc: {1005}\"\n",
      "    System.Console.WriteLine v1\n",
      "    let v35 : UH0 = UH0_1\n",
      "    let v36 : UH0 = UH0_0(2, v35)\n",
      "    let v37 : UH0 = UH0_0(3, v36)\n",
      "    let v38 : UH0 = UH0_0(4, v37)\n",
      "    let v39 : UH0 = UH0_0(5, v38)\n",
      "    let v40 : US0 = US0_1(1006, v39)\n",
      "    let v41 : UH0 = UH0_1\n",
      "    let v42 : UH0 = UH0_0(2, v41)\n",
      "    let v43 : UH0 = UH0_0(3, v42)\n",
      "    let v44 : UH0 = UH0_0(4, v43)\n",
      "    let v45 : UH0 = UH0_0(5, v44)\n",
      "    let v46 : US0 = US0_1(1006, v45)\n",
      "    let v47 : string = $\"_equal / actual: %A{v40} / expected: %A{v46}\"\n",
      "    ()\n",
      "method0()\n",
      "\r\n",
      "accumulate_dice_rolls / power: 0 / acc: 1000 / roll: 6 / value: 5\r\n",
      "accumulate_dice_rolls / power: -1 / acc: 1005\r\n"
     ]
    }
   ],
   "source": [
    "// // test\n",
    "\n",
    "accumulate_dice_rolls (Some console.write_line) [ 6; 5; 4; 3; 2 ] 0i32 1000\n",
    "|> _equal (Some (1006, [ 5; 4; 3; 2 ]))"
   ]
  },
  {
   "cell_type": "code",
   "execution_count": null,
   "metadata": {
    "dotnet_interactive": {
     "language": "spiral"
    },
    "polyglot_notebook": {
     "kernelName": "spiral"
    }
   },
   "outputs": [
    {
     "name": "stdout",
     "output_type": "stream",
     "text": [
      "type UH0 =\n",
      "    | UH0_0 of int32 * UH0\n",
      "    | UH0_1\n",
      "and [<Struct>] US0 =\n",
      "    | US0_0\n",
      "    | US0_1 of f1_0 : int32 * f1_1 : UH0\n",
      "let rec method0 () : unit =\n",
      "    let v0 : string = $\"accumulate_dice_rolls / power: {1} / acc: {1000} / roll: {6} / value: {30}\"\n",
      "    System.Console.WriteLine v0\n",
      "    let v1 : string = $\"accumulate_dice_rolls / power: {0} / acc: {1030} / roll: {5} / value: {4}\"\n",
      "    System.Console.WriteLine v1\n",
      "    let v2 : string = $\"accumulate_dice_rolls / power: {-1} / acc: {1034}\"\n",
      "    System.Console.WriteLine v2\n",
      "    let v28 : UH0 = UH0_1\n",
      "    let v29 : UH0 = UH0_0(2, v28)\n",
      "    let v30 : UH0 = UH0_0(3, v29)\n",
      "    let v31 : UH0 = UH0_0(4, v30)\n",
      "    let v32 : US0 = US0_1(1035, v31)\n",
      "    let v33 : UH0 = UH0_1\n",
      "    let v34 : UH0 = UH0_0(2, v33)\n",
      "    let v35 : UH0 = UH0_0(3, v34)\n",
      "    let v36 : UH0 = UH0_0(4, v35)\n",
      "    let v37 : US0 = US0_1(1035, v36)\n",
      "    let v38 : string = $\"_equal / actual: %A{v32} / expected: %A{v37}\"\n",
      "    ()\n",
      "method0()\n",
      "\r\n",
      "accumulate_dice_rolls / power: 1 / acc: 1000 / roll: 6 / value: 30\r\n",
      "accumulate_dice_rolls / power: 0 / acc: 1030 / roll: 5 / value: 4\r\n",
      "accumulate_dice_rolls / power: -1 / acc: 1034\r\n"
     ]
    }
   ],
   "source": [
    "// // test\n",
    "\n",
    "accumulate_dice_rolls (Some console.write_line) [ 6; 5; 4; 3; 2 ] 1i32 1000\n",
    "|> _equal (Some (1035, [ 4; 3; 2 ]))"
   ]
  },
  {
   "cell_type": "code",
   "execution_count": null,
   "metadata": {
    "dotnet_interactive": {
     "language": "spiral"
    },
    "polyglot_notebook": {
     "kernelName": "spiral"
    }
   },
   "outputs": [
    {
     "name": "stdout",
     "output_type": "stream",
     "text": [
      "type UH0 =\n",
      "    | UH0_0 of int32 * UH0\n",
      "    | UH0_1\n",
      "and [<Struct>] US0 =\n",
      "    | US0_0\n",
      "    | US0_1 of f1_0 : int32 * f1_1 : UH0\n",
      "let rec method0 () : unit =\n",
      "    let v0 : string = $\"accumulate_dice_rolls / power: {2} / acc: {1000} / roll: {6} / value: {180}\"\n",
      "    System.Console.WriteLine v0\n",
      "    let v1 : string = $\"accumulate_dice_rolls / power: {1} / acc: {1180} / roll: {5} / value: {24}\"\n",
      "    System.Console.WriteLine v1\n",
      "    let v2 : string = $\"accumulate_dice_rolls / power: {0} / acc: {1204} / roll: {4} / value: {3}\"\n",
      "    System.Console.WriteLine v2\n",
      "    let v3 : string = $\"accumulate_dice_rolls / power: {-1} / acc: {1207}\"\n",
      "    System.Console.WriteLine v3\n",
      "    let v22 : UH0 = UH0_1\n",
      "    let v23 : UH0 = UH0_0(2, v22)\n",
      "    let v24 : UH0 = UH0_0(3, v23)\n",
      "    let v25 : US0 = US0_1(1208, v24)\n",
      "    let v26 : UH0 = UH0_1\n",
      "    let v27 : UH0 = UH0_0(2, v26)\n",
      "    let v28 : UH0 = UH0_0(3, v27)\n",
      "    let v29 : US0 = US0_1(1208, v28)\n",
      "    let v30 : string = $\"_equal / actual: %A{v25} / expected: %A{v29}\"\n",
      "    ()\n",
      "method0()\n",
      "\r\n",
      "accumulate_dice_rolls / power: 2 / acc: 1000 / roll: 6 / value: 180\r\n",
      "accumulate_dice_rolls / power: 1 / acc: 1180 / roll: 5 / value: 24\r\n",
      "accumulate_dice_rolls / power: 0 / acc: 1204 / roll: 4 / value: 3\r\n",
      "accumulate_dice_rolls / power: -1 / acc: 1207\r\n"
     ]
    }
   ],
   "source": [
    "// // test\n",
    "\n",
    "accumulate_dice_rolls (Some console.write_line) [ 6; 5; 4; 3; 2 ] 2i32 1000\n",
    "|> _equal (Some (1208, [ 3; 2 ]))"
   ]
  },
  {
   "cell_type": "markdown",
   "metadata": {},
   "source": [
    "## rollWithinBounds"
   ]
  },
  {
   "cell_type": "code",
   "execution_count": null,
   "metadata": {
    "dotnet_interactive": {
     "language": "fsharp"
    },
    "polyglot_notebook": {
     "kernelName": "fsharp"
    }
   },
   "outputs": [],
   "source": [
    "let rollWithinBounds log max rolls =\n",
    "    let power = List.length rolls - 1\n",
    "    match accumulateDiceRolls log rolls power 0 with\n",
    "    | Some (result, _) when result >= 1 && result <= max -> Some result\n",
    "    | _ -> None"
   ]
  },
  {
   "cell_type": "code",
   "execution_count": null,
   "metadata": {
    "dotnet_interactive": {
     "language": "fsharp"
    },
    "polyglot_notebook": {
     "kernelName": "fsharp"
    }
   },
   "outputs": [
    {
     "name": "stdout",
     "output_type": "stream",
     "text": [
      "accumulateDiceRolls / power: 4 / acc: 0 / roll: 1\r\n",
      "accumulateDiceRolls / power: 3 / acc: 0 / roll: 5 / value: 864\r\n",
      "accumulateDiceRolls / power: 2 / acc: 864 / roll: 4 / value: 108\r\n",
      "accumulateDiceRolls / power: 1 / acc: 972 / roll: 4 / value: 18\r\n",
      "accumulateDiceRolls / power: 0 / acc: 990 / roll: 5 / value: 4\r\n",
      "accumulateDiceRolls / power: -1 / acc: 994\r\n",
      "FSharpOption<Int32>\r\n",
      "      Value: 995\r\n"
     ]
    }
   ],
   "source": [
    "//// test\n",
    "\n",
    "rollWithinBounds (Some (printfn \"%s\")) 2000 [ 1; 5; 4; 4; 5 ]\n",
    "|> _equal (Some 995)"
   ]
  },
  {
   "cell_type": "code",
   "execution_count": null,
   "metadata": {
    "dotnet_interactive": {
     "language": "fsharp"
    },
    "polyglot_notebook": {
     "kernelName": "fsharp"
    }
   },
   "outputs": [
    {
     "name": "stdout",
     "output_type": "stream",
     "text": [
      "accumulateDiceRolls / power: 4 / acc: 0 / roll: 2 / value: 1296\r\n",
      "accumulateDiceRolls / power: 3 / acc: 1296 / roll: 2 / value: 216\r\n",
      "accumulateDiceRolls / power: 2 / acc: 1512 / roll: 6 / value: 180\r\n",
      "accumulateDiceRolls / power: 1 / acc: 1692 / roll: 4 / value: 18\r\n",
      "accumulateDiceRolls / power: 0 / acc: 1710 / roll: 5 / value: 4\r\n",
      "accumulateDiceRolls / power: -1 / acc: 1714\r\n",
      "FSharpOption<Int32>\r\n",
      "      Value: 1715\r\n"
     ]
    }
   ],
   "source": [
    "//// test\n",
    "\n",
    "rollWithinBounds (Some (printfn \"%s\")) 2000 [ 2; 2; 6; 4; 5 ]\n",
    "|> _equal (Some 1715)"
   ]
  },
  {
   "cell_type": "code",
   "execution_count": null,
   "metadata": {
    "dotnet_interactive": {
     "language": "fsharp"
    },
    "polyglot_notebook": {
     "kernelName": "fsharp"
    }
   },
   "outputs": [
    {
     "name": "stdout",
     "output_type": "stream",
     "text": [
      "accumulateDiceRolls / power: 4 / acc: 0 / roll: 4 / value: 3888\r\n",
      "accumulateDiceRolls / power: 3 / acc: 3888 / roll: 1\r\n",
      "accumulateDiceRolls / power: 2 / acc: 3888 / roll: 1\r\n",
      "accumulateDiceRolls / power: 1 / acc: 3888 / roll: 2 / value: 6\r\n",
      "accumulateDiceRolls / power: 0 / acc: 3894 / roll: 3 / value: 2\r\n",
      "accumulateDiceRolls / power: -1 / acc: 3896\r\n",
      "<null>\r\n"
     ]
    }
   ],
   "source": [
    "//// test\n",
    "\n",
    "rollWithinBounds (Some (printfn \"%s\")) 2000 [ 4; 1; 1; 2; 3 ]\n",
    "|> _equal None"
   ]
  },
  {
   "cell_type": "markdown",
   "metadata": {},
   "source": [
    "## roll_within_bounds"
   ]
  },
  {
   "cell_type": "code",
   "execution_count": null,
   "metadata": {
    "dotnet_interactive": {
     "language": "spiral"
    },
    "polyglot_notebook": {
     "kernelName": "spiral"
    }
   },
   "outputs": [
    {
     "name": "stdout",
     "output_type": "stream",
     "text": [
      "()\n",
      "\r\n"
     ]
    }
   ],
   "source": [
    "inl roll_within_bounds (log : option (string -> ())) max rolls =\n",
    "    inl power = listm.length rolls - 1i32\n",
    "    match accumulate_dice_rolls log rolls power 0 with\n",
    "    | Some (result, _) when result >= 1 && result <= max => Some result\n",
    "    | _ => None"
   ]
  },
  {
   "cell_type": "code",
   "execution_count": null,
   "metadata": {
    "dotnet_interactive": {
     "language": "spiral"
    },
    "polyglot_notebook": {
     "kernelName": "spiral"
    }
   },
   "outputs": [
    {
     "name": "stdout",
     "output_type": "stream",
     "text": [
      "type [<Struct>] US0 =\n",
      "    | US0_0\n",
      "    | US0_1 of f1_0 : int32\n",
      "let rec method0 () : unit =\n",
      "    let v0 : string = $\"accumulate_dice_rolls / power: {4} / acc: {0} / roll: {1}\"\n",
      "    System.Console.WriteLine v0\n",
      "    let v1 : string = $\"accumulate_dice_rolls / power: {3} / acc: {0} / roll: {5} / value: {864}\"\n",
      "    System.Console.WriteLine v1\n",
      "    let v2 : string = $\"accumulate_dice_rolls / power: {2} / acc: {864} / roll: {4} / value: {108}\"\n",
      "    System.Console.WriteLine v2\n",
      "    let v3 : string = $\"accumulate_dice_rolls / power: {1} / acc: {972} / roll: {4} / value: {18}\"\n",
      "    System.Console.WriteLine v3\n",
      "    let v4 : string = $\"accumulate_dice_rolls / power: {0} / acc: {990} / roll: {5} / value: {4}\"\n",
      "    System.Console.WriteLine v4\n",
      "    let v5 : string = $\"accumulate_dice_rolls / power: {-1} / acc: {994}\"\n",
      "    System.Console.WriteLine v5\n",
      "    let v9 : US0 = US0_1(995)\n",
      "    let v10 : US0 = US0_1(995)\n",
      "    let v11 : string = $\"_equal / actual: %A{v9} / expected: %A{v10}\"\n",
      "    ()\n",
      "method0()\n",
      "\r\n",
      "accumulate_dice_rolls / power: 4 / acc: 0 / roll: 1\r\n",
      "accumulate_dice_rolls / power: 3 / acc: 0 / roll: 5 / value: 864\r\n",
      "accumulate_dice_rolls / power: 2 / acc: 864 / roll: 4 / value: 108\r\n",
      "accumulate_dice_rolls / power: 1 / acc: 972 / roll: 4 / value: 18\r\n",
      "accumulate_dice_rolls / power: 0 / acc: 990 / roll: 5 / value: 4\r\n",
      "accumulate_dice_rolls / power: -1 / acc: 994\r\n"
     ]
    }
   ],
   "source": [
    "// // test\n",
    "\n",
    "roll_within_bounds (Some console.write_line) 2000 [ 1; 5; 4; 4; 5 ]\n",
    "|> _equal (Some 995)"
   ]
  },
  {
   "cell_type": "code",
   "execution_count": null,
   "metadata": {
    "dotnet_interactive": {
     "language": "spiral"
    },
    "polyglot_notebook": {
     "kernelName": "spiral"
    }
   },
   "outputs": [
    {
     "name": "stdout",
     "output_type": "stream",
     "text": [
      "type [<Struct>] US0 =\n",
      "    | US0_0\n",
      "    | US0_1 of f1_0 : int32\n",
      "let rec method0 () : unit =\n",
      "    let v0 : string = $\"accumulate_dice_rolls / power: {4} / acc: {0} / roll: {2} / value: {1296}\"\n",
      "    System.Console.WriteLine v0\n",
      "    let v1 : string = $\"accumulate_dice_rolls / power: {3} / acc: {1296} / roll: {2} / value: {216}\"\n",
      "    System.Console.WriteLine v1\n",
      "    let v2 : string = $\"accumulate_dice_rolls / power: {2} / acc: {1512} / roll: {6} / value: {180}\"\n",
      "    System.Console.WriteLine v2\n",
      "    let v3 : string = $\"accumulate_dice_rolls / power: {1} / acc: {1692} / roll: {4} / value: {18}\"\n",
      "    System.Console.WriteLine v3\n",
      "    let v4 : string = $\"accumulate_dice_rolls / power: {0} / acc: {1710} / roll: {5} / value: {4}\"\n",
      "    System.Console.WriteLine v4\n",
      "    let v5 : string = $\"accumulate_dice_rolls / power: {-1} / acc: {1714}\"\n",
      "    System.Console.WriteLine v5\n",
      "    let v9 : US0 = US0_1(1715)\n",
      "    let v10 : US0 = US0_1(1715)\n",
      "    let v11 : string = $\"_equal / actual: %A{v9} / expected: %A{v10}\"\n",
      "    ()\n",
      "method0()\n",
      "\r\n",
      "accumulate_dice_rolls / power: 4 / acc: 0 / roll: 2 / value: 1296\r\n",
      "accumulate_dice_rolls / power: 3 / acc: 1296 / roll: 2 / value: 216\r\n",
      "accumulate_dice_rolls / power: 2 / acc: 1512 / roll: 6 / value: 180\r\n",
      "accumulate_dice_rolls / power: 1 / acc: 1692 / roll: 4 / value: 18\r\n",
      "accumulate_dice_rolls / power: 0 / acc: 1710 / roll: 5 / value: 4\r\n",
      "accumulate_dice_rolls / power: -1 / acc: 1714\r\n"
     ]
    }
   ],
   "source": [
    "// // test\n",
    "\n",
    "roll_within_bounds (Some console.write_line) 2000 [ 2; 2; 6; 4; 5 ]\n",
    "|> _equal (Some 1715)"
   ]
  },
  {
   "cell_type": "code",
   "execution_count": null,
   "metadata": {
    "dotnet_interactive": {
     "language": "spiral"
    },
    "polyglot_notebook": {
     "kernelName": "spiral"
    }
   },
   "outputs": [
    {
     "name": "stdout",
     "output_type": "stream",
     "text": [
      "type [<Struct>] US0 =\n",
      "    | US0_0\n",
      "    | US0_1 of f1_0 : int32\n",
      "let rec method0 () : unit =\n",
      "    let v0 : string = $\"accumulate_dice_rolls / power: {4} / acc: {0} / roll: {4} / value: {3888}\"\n",
      "    System.Console.WriteLine v0\n",
      "    let v1 : string = $\"accumulate_dice_rolls / power: {3} / acc: {3888} / roll: {1}\"\n",
      "    System.Console.WriteLine v1\n",
      "    let v2 : string = $\"accumulate_dice_rolls / power: {2} / acc: {3888} / roll: {1}\"\n",
      "    System.Console.WriteLine v2\n",
      "    let v3 : string = $\"accumulate_dice_rolls / power: {1} / acc: {3888} / roll: {2} / value: {6}\"\n",
      "    System.Console.WriteLine v3\n",
      "    let v4 : string = $\"accumulate_dice_rolls / power: {0} / acc: {3894} / roll: {3} / value: {2}\"\n",
      "    System.Console.WriteLine v4\n",
      "    let v5 : string = $\"accumulate_dice_rolls / power: {-1} / acc: {3896}\"\n",
      "    System.Console.WriteLine v5\n",
      "    let v9 : US0 = US0_0\n",
      "    let v10 : US0 = US0_0\n",
      "    let v11 : string = $\"_equal / actual: %A{v9} / expected: %A{v10}\"\n",
      "    ()\n",
      "method0()\n",
      "\r\n",
      "accumulate_dice_rolls / power: 4 / acc: 0 / roll: 4 / value: 3888\r\n",
      "accumulate_dice_rolls / power: 3 / acc: 3888 / roll: 1\r\n",
      "accumulate_dice_rolls / power: 2 / acc: 3888 / roll: 1\r\n",
      "accumulate_dice_rolls / power: 1 / acc: 3888 / roll: 2 / value: 6\r\n",
      "accumulate_dice_rolls / power: 0 / acc: 3894 / roll: 3 / value: 2\r\n",
      "accumulate_dice_rolls / power: -1 / acc: 3896\r\n"
     ]
    }
   ],
   "source": [
    "// // test\n",
    "\n",
    "roll_within_bounds (Some console.write_line) 2000 [ 4; 1; 1; 2; 3 ]\n",
    "|> _equal None"
   ]
  },
  {
   "cell_type": "markdown",
   "metadata": {},
   "source": [
    "## calculateDiceCount"
   ]
  },
  {
   "cell_type": "code",
   "execution_count": null,
   "metadata": {
    "dotnet_interactive": {
     "language": "fsharp"
    },
    "polyglot_notebook": {
     "kernelName": "fsharp"
    }
   },
   "outputs": [],
   "source": [
    "let inline calculateDiceCount log max =\n",
    "    let rec loop n p =\n",
    "        if p < max\n",
    "        then loop (n + 1) (p * 6)\n",
    "        else\n",
    "            log |> Option.iter ((|>) $\"calculateDiceCount / max: {max} / n: {n} / p: {p}\")\n",
    "            n\n",
    "    if max = 1\n",
    "    then 1\n",
    "    else loop 0 1"
   ]
  },
  {
   "cell_type": "code",
   "execution_count": null,
   "metadata": {
    "dotnet_interactive": {
     "language": "fsharp"
    },
    "polyglot_notebook": {
     "kernelName": "fsharp"
    }
   },
   "outputs": [
    {
     "name": "stdout",
     "output_type": "stream",
     "text": [
      "calculateDiceCount / max: 36 / n: 2 / p: 36\r\n",
      "2\r\n"
     ]
    }
   ],
   "source": [
    "//// test\n",
    "\n",
    "calculateDiceCount (Some (printfn \"%s\")) 36\n",
    "|> _equal 2"
   ]
  },
  {
   "cell_type": "code",
   "execution_count": null,
   "metadata": {
    "dotnet_interactive": {
     "language": "fsharp"
    },
    "polyglot_notebook": {
     "kernelName": "fsharp"
    }
   },
   "outputs": [
    {
     "name": "stdout",
     "output_type": "stream",
     "text": [
      "calculateDiceCount / max: 7777 / n: 6 / p: 46656\r\n",
      "6\r\n"
     ]
    }
   ],
   "source": [
    "//// test\n",
    "\n",
    "calculateDiceCount (Some (printfn \"%s\")) 7777\n",
    "|> _equal 6"
   ]
  },
  {
   "cell_type": "markdown",
   "metadata": {},
   "source": [
    "## calculate_dice_count"
   ]
  },
  {
   "cell_type": "code",
   "execution_count": null,
   "metadata": {
    "dotnet_interactive": {
     "language": "spiral"
    },
    "polyglot_notebook": {
     "kernelName": "spiral"
    }
   },
   "outputs": [
    {
     "name": "stdout",
     "output_type": "stream",
     "text": [
      "()\n",
      "\r\n"
     ]
    }
   ],
   "source": [
    "inl calculate_dice_count (log : option (string -> ())) max =\n",
    "    inl rec loop n p =\n",
    "        if p < max\n",
    "        then loop (n + 1) (p * 6)\n",
    "        else\n",
    "            log |> optionm'.iter ((|>) $\"$\\\"calculate_dice_count / max: {!max} / n: {!n} / p: {!p}\\\"\")\n",
    "            n\n",
    "    if max = 1\n",
    "    then 1\n",
    "    else loop 0 1"
   ]
  },
  {
   "cell_type": "code",
   "execution_count": null,
   "metadata": {
    "dotnet_interactive": {
     "language": "spiral"
    },
    "polyglot_notebook": {
     "kernelName": "spiral"
    }
   },
   "outputs": [
    {
     "name": "stdout",
     "output_type": "stream",
     "text": [
      "let rec method0 () : unit =\n",
      "    let v0 : string = $\"calculate_dice_count / max: {36} / n: {2} / p: {36}\"\n",
      "    System.Console.WriteLine v0\n",
      "    let v1 : string = $\"_equal / actual: %A{2} / expected: %A{2}\"\n",
      "    ()\n",
      "method0()\n",
      "\r\n",
      "calculate_dice_count / max: 36 / n: 2 / p: 36\r\n"
     ]
    }
   ],
   "source": [
    "// // test\n",
    "\n",
    "calculate_dice_count (Some console.write_line) 36i32\n",
    "|> _equal 2i32"
   ]
  },
  {
   "cell_type": "code",
   "execution_count": null,
   "metadata": {
    "dotnet_interactive": {
     "language": "spiral"
    },
    "polyglot_notebook": {
     "kernelName": "spiral"
    }
   },
   "outputs": [
    {
     "name": "stdout",
     "output_type": "stream",
     "text": [
      "let rec method0 () : unit =\n",
      "    let v0 : string = $\"calculate_dice_count / max: {7777} / n: {6} / p: {46656}\"\n",
      "    System.Console.WriteLine v0\n",
      "    let v1 : string = $\"_equal / actual: %A{6} / expected: %A{6}\"\n",
      "    ()\n",
      "method0()\n",
      "\r\n",
      "calculate_dice_count / max: 7777 / n: 6 / p: 46656\r\n"
     ]
    }
   ],
   "source": [
    "// // test\n",
    "\n",
    "calculate_dice_count (Some console.write_line) 7777i32\n",
    "|> _equal 6i32"
   ]
  },
  {
   "cell_type": "markdown",
   "metadata": {},
   "source": [
    "## rollDice"
   ]
  },
  {
   "cell_type": "code",
   "execution_count": null,
   "metadata": {
    "dotnet_interactive": {
     "language": "fsharp"
    },
    "polyglot_notebook": {
     "kernelName": "fsharp"
    }
   },
   "outputs": [],
   "source": [
    "#if FABLE_COMPILER_RUST\n",
    "#if !CHAIN\n",
    "let rollDice () : int =\n",
    "    Fable.Core.RustInterop.emitRustExpr () \"rand::Rng::gen_range(&mut rand::thread_rng(), 1..7)\"\n",
    "#endif\n",
    "#else\n",
    "let private random = System.Random ()\n",
    "let rollDice () =\n",
    "    random.Next (1, 7)\n",
    "#endif"
   ]
  },
  {
   "cell_type": "markdown",
   "metadata": {},
   "source": [
    "## roll_dice"
   ]
  },
  {
   "cell_type": "code",
   "execution_count": null,
   "metadata": {
    "dotnet_interactive": {
     "language": "spiral"
    },
    "polyglot_notebook": {
     "kernelName": "spiral"
    }
   },
   "outputs": [
    {
     "name": "stdout",
     "output_type": "stream",
     "text": [
      "()\n",
      "\r\n"
     ]
    }
   ],
   "source": [
    "inl roll_dice () : i32 =\n",
    "    $\"System.Random().Next (1, 7)\""
   ]
  },
  {
   "cell_type": "markdown",
   "metadata": {},
   "source": [
    "## rotateNumber"
   ]
  },
  {
   "cell_type": "code",
   "execution_count": null,
   "metadata": {
    "dotnet_interactive": {
     "language": "fsharp"
    },
    "polyglot_notebook": {
     "kernelName": "fsharp"
    }
   },
   "outputs": [],
   "source": [
    "let rotateNumber max n =\n",
    "    (n - 1 + max) % max + 1"
   ]
  },
  {
   "cell_type": "code",
   "execution_count": null,
   "metadata": {
    "dotnet_interactive": {
     "language": "spiral"
    },
    "polyglot_notebook": {
     "kernelName": "spiral"
    }
   },
   "outputs": [
    {
     "name": "stdout",
     "output_type": "stream",
     "text": [
      "()\n",
      "\r\n"
     ]
    }
   ],
   "source": [
    "inl rotate_number max n =\n",
    "    (n - 1 + max) % max + 1"
   ]
  },
  {
   "cell_type": "markdown",
   "metadata": {},
   "source": [
    "## rotateNumbers"
   ]
  },
  {
   "cell_type": "code",
   "execution_count": null,
   "metadata": {
    "dotnet_interactive": {
     "language": "fsharp"
    },
    "polyglot_notebook": {
     "kernelName": "fsharp"
    }
   },
   "outputs": [],
   "source": [
    "let rotateNumbers max items =\n",
    "    items |> Seq.map (rotateNumber max)"
   ]
  },
  {
   "cell_type": "code",
   "execution_count": null,
   "metadata": {
    "dotnet_interactive": {
     "language": "fsharp"
    },
    "polyglot_notebook": {
     "kernelName": "fsharp"
    }
   },
   "outputs": [
    {
     "name": "stdout",
     "output_type": "stream",
     "text": [
      "[ 5, 6, 1, 2, 3, 4, 5, 6, 1, 2, 3, 4, 5, 6, 1, 2 ]\r\n"
     ]
    }
   ],
   "source": [
    "//// test\n",
    "\n",
    "[ -1 .. 14 ]\n",
    "|> rotateNumbers 6\n",
    "|> Seq.toList\n",
    "|> _equal [ 5; 6; 1; 2; 3; 4; 5; 6; 1; 2; 3; 4; 5; 6; 1; 2 ]"
   ]
  },
  {
   "cell_type": "markdown",
   "metadata": {},
   "source": [
    "## rotate_numbers"
   ]
  },
  {
   "cell_type": "code",
   "execution_count": null,
   "metadata": {
    "dotnet_interactive": {
     "language": "spiral"
    },
    "polyglot_notebook": {
     "kernelName": "spiral"
    }
   },
   "outputs": [
    {
     "name": "stdout",
     "output_type": "stream",
     "text": [
      "()\n",
      "\r\n"
     ]
    }
   ],
   "source": [
    "inl rotate_numbers max items =\n",
    "    items |> stream.map (rotate_number max)"
   ]
  },
  {
   "cell_type": "code",
   "execution_count": null,
   "metadata": {
    "dotnet_interactive": {
     "language": "spiral"
    },
    "polyglot_notebook": {
     "kernelName": "spiral"
    }
   },
   "outputs": [
    {
     "name": "stdout",
     "output_type": "stream",
     "text": [
      "type UH0 =\n",
      "    | UH0_0 of int32 * UH0\n",
      "    | UH0_1\n",
      "let rec method0 () : unit =\n",
      "    let v187 : UH0 = UH0_1\n",
      "    let v188 : UH0 = UH0_0(2, v187)\n",
      "    let v189 : UH0 = UH0_0(1, v188)\n",
      "    let v190 : UH0 = UH0_0(6, v189)\n",
      "    let v191 : UH0 = UH0_0(5, v190)\n",
      "    let v192 : UH0 = UH0_0(4, v191)\n",
      "    let v193 : UH0 = UH0_0(3, v192)\n",
      "    let v194 : UH0 = UH0_0(2, v193)\n",
      "    let v195 : UH0 = UH0_0(1, v194)\n",
      "    let v196 : UH0 = UH0_0(6, v195)\n",
      "    let v197 : UH0 = UH0_0(5, v196)\n",
      "    let v198 : UH0 = UH0_0(4, v197)\n",
      "    let v199 : UH0 = UH0_0(3, v198)\n",
      "    let v200 : UH0 = UH0_0(2, v199)\n",
      "    let v201 : UH0 = UH0_0(1, v200)\n",
      "    let v202 : UH0 = UH0_0(6, v201)\n",
      "    let v203 : UH0 = UH0_0(5, v202)\n",
      "    let v204 : UH0 = UH0_1\n",
      "    let v205 : UH0 = UH0_0(2, v204)\n",
      "    let v206 : UH0 = UH0_0(1, v205)\n",
      "    let v207 : UH0 = UH0_0(6, v206)\n",
      "    let v208 : UH0 = UH0_0(5, v207)\n",
      "    let v209 : UH0 = UH0_0(4, v208)\n",
      "    let v210 : UH0 = UH0_0(3, v209)\n",
      "    let v211 : UH0 = UH0_0(2, v210)\n",
      "    let v212 : UH0 = UH0_0(1, v211)\n",
      "    let v213 : UH0 = UH0_0(6, v212)\n",
      "    let v214 : UH0 = UH0_0(5, v213)\n",
      "    let v215 : UH0 = UH0_0(4, v214)\n",
      "    let v216 : UH0 = UH0_0(3, v215)\n",
      "    let v217 : UH0 = UH0_0(2, v216)\n",
      "    let v218 : UH0 = UH0_0(1, v217)\n",
      "    let v219 : UH0 = UH0_0(6, v218)\n",
      "    let v220 : UH0 = UH0_0(5, v219)\n",
      "    let v221 : string = $\"_equal / actual: %A{v203} / expected: %A{v220}\"\n",
      "    ()\n",
      "method0()\n",
      "\r\n"
     ]
    }
   ],
   "source": [
    "// // test\n",
    "\n",
    "listm'.init_series -1i32 14 1\n",
    "|> stream.from_list\n",
    "|> rotate_numbers 6\n",
    "|> stream.to_list\n",
    "|> _equal [ 5; 6; 1; 2; 3; 4; 5; 6; 1; 2; 3; 4; 5; 6; 1; 2 ]"
   ]
  },
  {
   "cell_type": "markdown",
   "metadata": {},
   "source": [
    "## createSequentialRoller"
   ]
  },
  {
   "cell_type": "code",
   "execution_count": null,
   "metadata": {
    "dotnet_interactive": {
     "language": "fsharp"
    },
    "polyglot_notebook": {
     "kernelName": "fsharp"
    }
   },
   "outputs": [],
   "source": [
    "let createSequentialRoller list =\n",
    "    let mutable currentIndex = 0\n",
    "    fun () ->\n",
    "        match list |> List.tryItem currentIndex with\n",
    "        | Some item ->\n",
    "            currentIndex <- currentIndex + 1\n",
    "            item\n",
    "        | None ->\n",
    "            failwith \"createSequentialRoller / End of list\""
   ]
  },
  {
   "cell_type": "markdown",
   "metadata": {},
   "source": [
    "## create_sequential_roller"
   ]
  },
  {
   "cell_type": "code",
   "execution_count": null,
   "metadata": {
    "dotnet_interactive": {
     "language": "spiral"
    },
    "polyglot_notebook": {
     "kernelName": "spiral"
    }
   },
   "outputs": [
    {
     "name": "stdout",
     "output_type": "stream",
     "text": [
      "()\n",
      "\r\n"
     ]
    }
   ],
   "source": [
    "inl create_sequential_roller list =\n",
    "    inl s = list |> listm.rev |> listm.append list |> stream.from_list |> stream.memoize\n",
    "    inl current_index = mut 0i32\n",
    "    inl acc = mut 1\n",
    "    inl len = mut -1\n",
    "    let rec loop () =\n",
    "        match s () |> stream.try_item *current_index with\n",
    "        | Some item =>\n",
    "            current_index <- *current_index + 1\n",
    "            item\n",
    "        | None =>\n",
    "            if *len = -1\n",
    "            then len <- *current_index\n",
    "            acc <-\n",
    "                if *acc >= *len\n",
    "                then 1\n",
    "                else *acc + 1\n",
    "            current_index <- *acc - 1\n",
    "            loop ()\n",
    "    loop"
   ]
  },
  {
   "cell_type": "code",
   "execution_count": null,
   "metadata": {
    "dotnet_interactive": {
     "language": "spiral"
    },
    "polyglot_notebook": {
     "kernelName": "spiral"
    }
   },
   "outputs": [
    {
     "name": "stdout",
     "output_type": "stream",
     "text": [
      "type UH0 =\n",
      "    | UH0_0 of int32 * (unit -> UH0)\n",
      "    | UH0_1\n",
      "and [<Struct>] US0 =\n",
      "    | US0_0 of f0_0 : UH0\n",
      "    | US0_1 of f1_0 : (unit -> UH0)\n",
      "and Mut0 = {mutable l0 : US0}\n",
      "and Mut1 = {mutable l0 : int32}\n",
      "and Mut2 = {mutable l0 : int32}\n",
      "and [<Struct>] US1 =\n",
      "    | US1_0\n",
      "    | US1_1 of f1_0 : int32\n",
      "let rec closure8 () () : UH0 =\n",
      "    UH0_1\n",
      "and closure7 () () : UH0 =\n",
      "    let v0 : (unit -> UH0) = closure8()\n",
      "    UH0_0(1, v0)\n",
      "and closure6 () () : UH0 =\n",
      "    let v0 : (unit -> UH0) = closure7()\n",
      "    UH0_0(2, v0)\n",
      "and closure5 () () : UH0 =\n",
      "    let v0 : (unit -> UH0) = closure6()\n",
      "    UH0_0(3, v0)\n",
      "and closure4 () () : UH0 =\n",
      "    let v0 : (unit -> UH0) = closure5()\n",
      "    UH0_0(4, v0)\n",
      "and closure3 () () : UH0 =\n",
      "    let v0 : (unit -> UH0) = closure4()\n",
      "    UH0_0(4, v0)\n",
      "and closure2 () () : UH0 =\n",
      "    let v0 : (unit -> UH0) = closure3()\n",
      "    UH0_0(3, v0)\n",
      "and closure1 () () : UH0 =\n",
      "    let v0 : (unit -> UH0) = closure2()\n",
      "    UH0_0(2, v0)\n",
      "and closure0 () () : UH0 =\n",
      "    let v0 : (unit -> UH0) = closure1()\n",
      "    UH0_0(1, v0)\n",
      "and method1 (v0 : Mut2) : bool =\n",
      "    let v1 : int32 = v0.l0\n",
      "    let v2 : bool = v1 < 20\n",
      "    v2\n",
      "and closure9 (v0 : Mut0) () : UH0 =\n",
      "    let v1 : US0 = v0.l0\n",
      "    match v1 with\n",
      "    | US0_0(v2) -> (* Computed *)\n",
      "        v2\n",
      "    | US0_1(v3) -> (* NotComputed *)\n",
      "        let v4 : UH0 = v3 ()\n",
      "        let v13 : UH0 =\n",
      "            match v4 with\n",
      "            | UH0_0(v6, v7) -> (* StreamCons *)\n",
      "                let v8 : US0 = US0_1(v7)\n",
      "                let v9 : Mut0 = {l0 = v8} : Mut0\n",
      "                let v10 : (unit -> UH0) = closure9(v9)\n",
      "                UH0_0(v6, v10)\n",
      "            | UH0_1 -> (* StreamNil *)\n",
      "                UH0_1\n",
      "        let v14 : US0 = US0_0(v13)\n",
      "        v0.l0 <- v14\n",
      "        v13\n",
      "and method3 (v0 : int32, v1 : UH0) : US1 =\n",
      "    match v1 with\n",
      "    | UH0_0(v2, v3) -> (* StreamCons *)\n",
      "        let v4 : bool = v0 <= 0\n",
      "        if v4 then\n",
      "            US1_1(v2)\n",
      "        else\n",
      "            let v6 : int32 = v0 - 1\n",
      "            let v7 : UH0 = v3 ()\n",
      "            method3(v6, v7)\n",
      "    | UH0_1 -> (* StreamNil *)\n",
      "        US1_0\n",
      "and method2 (v0 : Mut0, v1 : Mut1, v2 : Mut1, v3 : Mut1) : int32 =\n",
      "    let v4 : US0 = v0.l0\n",
      "    let v19 : UH0 =\n",
      "        match v4 with\n",
      "        | US0_0(v5) -> (* Computed *)\n",
      "            v5\n",
      "        | US0_1(v6) -> (* NotComputed *)\n",
      "            let v7 : UH0 = v6 ()\n",
      "            let v16 : UH0 =\n",
      "                match v7 with\n",
      "                | UH0_0(v9, v10) -> (* StreamCons *)\n",
      "                    let v11 : US0 = US0_1(v10)\n",
      "                    let v12 : Mut0 = {l0 = v11} : Mut0\n",
      "                    let v13 : (unit -> UH0) = closure9(v12)\n",
      "                    UH0_0(v9, v13)\n",
      "                | UH0_1 -> (* StreamNil *)\n",
      "                    UH0_1\n",
      "            let v17 : US0 = US0_0(v16)\n",
      "            v0.l0 <- v17\n",
      "            v16\n",
      "    let v20 : int32 = v1.l0\n",
      "    let v21 : US1 = method3(v20, v19)\n",
      "    match v21 with\n",
      "    | US1_0 -> (* None *)\n",
      "        let v25 : int32 = v3.l0\n",
      "        let v26 : bool = v25 = -1\n",
      "        if v26 then\n",
      "            let v27 : int32 = v1.l0\n",
      "            v3.l0 <- v27\n",
      "            ()\n",
      "        let v28 : int32 = v2.l0\n",
      "        let v29 : int32 = v3.l0\n",
      "        let v30 : bool = v28 >= v29\n",
      "        let v33 : int32 =\n",
      "            if v30 then\n",
      "                1\n",
      "            else\n",
      "                let v31 : int32 = v2.l0\n",
      "                let v32 : int32 = v31 + 1\n",
      "                v32\n",
      "        v2.l0 <- v33\n",
      "        let v34 : int32 = v2.l0\n",
      "        let v35 : int32 = v34 - 1\n",
      "        v1.l0 <- v35\n",
      "        method2(v0, v1, v2, v3)\n",
      "    | US1_1(v22) -> (* Some *)\n",
      "        let v23 : int32 = v1.l0\n",
      "        let v24 : int32 = v23 + 1\n",
      "        v1.l0 <- v24\n",
      "        v22\n",
      "and method4 (v0 : (int32 []), v1 : (int32 []), v2 : int32) : bool =\n",
      "    let v3 : int32 = v0.Length\n",
      "    let v4 : bool = v2 < v3\n",
      "    if v4 then\n",
      "        let v5 : int32 = v0.[int v2]\n",
      "        let v6 : int32 = v1.[int v2]\n",
      "        let v7 : bool = v5 = v6\n",
      "        if v7 then\n",
      "            let v8 : int32 = v2 + 1\n",
      "            method4(v0, v1, v8)\n",
      "        else\n",
      "            false\n",
      "    else\n",
      "        true\n",
      "and method0 () : unit =\n",
      "    let v0 : (unit -> UH0) = closure0()\n",
      "    let v1 : US0 = US0_1(v0)\n",
      "    let v2 : Mut0 = {l0 = v1} : Mut0\n",
      "    let v3 : Mut1 = {l0 = 0} : Mut1\n",
      "    let v4 : Mut1 = {l0 = 1} : Mut1\n",
      "    let v5 : Mut1 = {l0 = -1} : Mut1\n",
      "    let v6 : (int32 []) = Array.zeroCreate<int32> (20)\n",
      "    let v7 : Mut2 = {l0 = 0} : Mut2\n",
      "    while method1(v7) do\n",
      "        let v9 : int32 = v7.l0\n",
      "        let v10 : int32 = method2(v2, v3, v4, v5)\n",
      "        v6.[int v9] <- v10\n",
      "        let v11 : int32 = v9 + 1\n",
      "        v7.l0 <- v11\n",
      "        ()\n",
      "    let v12 : (int32 []) = [|1; 2; 3; 4; 4; 3; 2; 1; 2; 3; 4; 4; 3; 2; 1; 3; 4; 4; 3; 2|]\n",
      "    let v13 : int32 = v6.Length\n",
      "    let v14 : int32 = v12.Length\n",
      "    let v15 : bool = v13 = v14\n",
      "    let v16 : bool = v15 <> true\n",
      "    let v19 : bool =\n",
      "        if v16 then\n",
      "            false\n",
      "        else\n",
      "            let v17 : int32 = 0\n",
      "            method4(v6, v12, v17)\n",
      "    let v20 : string = $\"_equal / actual: %A{v6} / expected: %A{v12}\"\n",
      "    let v21 : bool = v19 = false\n",
      "    if v21 then\n",
      "        failwith<unit> v20\n",
      "method0()\n",
      "\r\n"
     ]
    }
   ],
   "source": [
    "// // test\n",
    "\n",
    "inl sequential_roll = create_sequential_roller [ 1i32; 2; 3; 4 ]\n",
    "\n",
    "am.init 20i32 (ignore >> sequential_roll)\n",
    "|> _equal (a ;[ 1; 2; 3; 4; 4; 3; 2; 1; 2; 3; 4; 4; 3; 2; 1; 3; 4; 4; 3; 2 ] : a i32 i32)"
   ]
  },
  {
   "cell_type": "markdown",
   "metadata": {},
   "source": [
    "## rollProgressively"
   ]
  },
  {
   "cell_type": "code",
   "execution_count": null,
   "metadata": {
    "dotnet_interactive": {
     "language": "fsharp"
    },
    "polyglot_notebook": {
     "kernelName": "fsharp"
    }
   },
   "outputs": [],
   "source": [
    "let rollProgressively log roll reroll max =\n",
    "    let power = (calculateDiceCount log max) - 1\n",
    "    let rec loop rolls size =\n",
    "        if size < power + 1\n",
    "        then loop (roll () :: rolls) (size + 1)\n",
    "        else\n",
    "            match accumulateDiceRolls log rolls power 0 with\n",
    "            | Some (result, _) when result <= max -> result\n",
    "            | _ when reroll -> loop (List.init power (fun _ -> roll ())) power\n",
    "            | _ -> loop (roll () :: rolls) (size + 1)\n",
    "    loop [] 0"
   ]
  },
  {
   "cell_type": "code",
   "execution_count": null,
   "metadata": {
    "dotnet_interactive": {
     "language": "fsharp"
    },
    "polyglot_notebook": {
     "kernelName": "fsharp"
    }
   },
   "outputs": [
    {
     "name": "stdout",
     "output_type": "stream",
     "text": [
      "1\r\n"
     ]
    }
   ],
   "source": [
    "//// test\n",
    "\n",
    "rollProgressively None rollDice false 1\n",
    "|> _equal 1"
   ]
  },
  {
   "cell_type": "code",
   "execution_count": null,
   "metadata": {
    "dotnet_interactive": {
     "language": "fsharp"
    },
    "polyglot_notebook": {
     "kernelName": "fsharp"
    }
   },
   "outputs": [
    {
     "name": "stdout",
     "output_type": "stream",
     "text": [
      "calculateDiceCount / max: 2000 / n: 5 / p: 7776\r\n",
      "accumulateDiceRolls / power: 4 / acc: 0 / roll: 1\r\n",
      "accumulateDiceRolls / power: 3 / acc: 0 / roll: 5 / value: 864\r\n",
      "accumulateDiceRolls / power: 2 / acc: 864 / roll: 4 / value: 108\r\n",
      "accumulateDiceRolls / power: 1 / acc: 972 / roll: 4 / value: 18\r\n",
      "accumulateDiceRolls / power: 0 / acc: 990 / roll: 5 / value: 4\r\n",
      "accumulateDiceRolls / power: -1 / acc: 994\r\n",
      "995\r\n"
     ]
    }
   ],
   "source": [
    "//// test\n",
    "\n",
    "let sequentialRoll = createSequentialRoller [ 5; 4; 4; 5; 1 ]\n",
    "\n",
    "rollProgressively (Some (printfn \"%s\")) sequentialRoll false 2000\n",
    "|> _equal 995"
   ]
  },
  {
   "cell_type": "code",
   "execution_count": null,
   "metadata": {
    "dotnet_interactive": {
     "language": "fsharp"
    },
    "polyglot_notebook": {
     "kernelName": "fsharp"
    }
   },
   "outputs": [
    {
     "name": "stdout",
     "output_type": "stream",
     "text": [
      "FSI_0031+it@5-11\r\n",
      "calculateDiceCount / max: 2000 / n: 5 / p: 7776\r\n",
      "accumulateDiceRolls / power: 4 / acc: 0 / roll: 2 / value: 1296\r\n",
      "accumulateDiceRolls / power: 3 / acc: 1296 / roll: 5 / value: 864\r\n",
      "accumulateDiceRolls / power: 2 / acc: 2160 / roll: 4 / value: 108\r\n",
      "accumulateDiceRolls / power: 1 / acc: 2268 / roll: 4 / value: 18\r\n",
      "accumulateDiceRolls / power: 0 / acc: 2286 / roll: 5 / value: 4\r\n",
      "accumulateDiceRolls / power: -1 / acc: 2290\r\n",
      "System.Exception: createSequentialRoller / End of list\r\n"
     ]
    }
   ],
   "source": [
    "//// test\n",
    "\n",
    "let sequentialRoll = createSequentialRoller [ 5; 4; 4; 5; 2 ]\n",
    "\n",
    "fun () -> rollProgressively (Some (printfn \"%s\")) sequentialRoll false 2000 |> ignore\n",
    "|> _throwsC (fun ex _ ->\n",
    "    printException ex\n",
    "    |> _equal \"System.Exception: createSequentialRoller / End of list\"\n",
    ")"
   ]
  },
  {
   "cell_type": "code",
   "execution_count": null,
   "metadata": {
    "dotnet_interactive": {
     "language": "fsharp"
    },
    "polyglot_notebook": {
     "kernelName": "fsharp"
    }
   },
   "outputs": [],
   "source": [
    "//// test\n",
    "\n",
    "[ 1 .. 100 ]\n",
    "|> List.iter (fun n ->\n",
    "    [ 0 .. 1 ]\n",
    "    |> List.iter (fun reroll ->\n",
    "        [ 1 .. 3500 ]\n",
    "        |> List.map (fun _ -> rollProgressively None rollDice (reroll = 1) n)\n",
    "        |> List.groupBy id\n",
    "        |> List.length\n",
    "        |> __equal false n\n",
    "    )\n",
    ")"
   ]
  },
  {
   "cell_type": "markdown",
   "metadata": {},
   "source": [
    "## roll_progressively"
   ]
  },
  {
   "cell_type": "code",
   "execution_count": null,
   "metadata": {
    "dotnet_interactive": {
     "language": "spiral"
    },
    "polyglot_notebook": {
     "kernelName": "spiral"
    }
   },
   "outputs": [
    {
     "name": "stdout",
     "output_type": "stream",
     "text": [
      "()\n",
      "\r\n"
     ]
    }
   ],
   "source": [
    "inl roll_progressively (log : option (string -> ())) roll reroll max =\n",
    "    inl power = (calculate_dice_count log max) - 1i32\n",
    "    let rec loop rolls size =\n",
    "        if size < power + 1\n",
    "        then loop (roll () :: rolls) (size + 1)\n",
    "        else\n",
    "            match accumulate_dice_rolls log rolls power 0 with\n",
    "            | Some (result, _) when result <= max => result\n",
    "            | _ when reroll => loop (listm.init power (fun _ => roll ())) power\n",
    "            | _ => loop (roll () :: rolls) (size + 1)\n",
    "    loop [] 0"
   ]
  },
  {
   "cell_type": "code",
   "execution_count": null,
   "metadata": {
    "dotnet_interactive": {
     "language": "spiral"
    },
    "polyglot_notebook": {
     "kernelName": "spiral"
    }
   },
   "outputs": [
    {
     "name": "stdout",
     "output_type": "stream",
     "text": [
      "type UH0 =\n",
      "    | UH0_0 of int32 * UH0\n",
      "    | UH0_1\n",
      "and [<Struct>] US0 =\n",
      "    | US0_0\n",
      "    | US0_1 of f1_0 : int32 * f1_1 : UH0\n",
      "let rec method3 (v0 : UH0, v1 : int32) : US0 =\n",
      "    let v2 : string = $\"accumulate_dice_rolls / power: {-1} / acc: {v1}\"\n",
      "    let v3 : int32 = v1 + 1\n",
      "    US0_1(v3, v0)\n",
      "and method2 (v0 : UH0, v1 : int32) : US0 =\n",
      "    match v0 with\n",
      "    | UH0_0(v3, v4) -> (* Cons *)\n",
      "        let v5 : bool = v3 > 1\n",
      "        if v5 then\n",
      "            let v6 : int32 = v3 - 1\n",
      "            let v7 : string = $\"accumulate_dice_rolls / power: {0} / acc: {v1} / roll: {v3} / value: {v6}\"\n",
      "            let v8 : int32 = v1 + v6\n",
      "            method3(v4, v8)\n",
      "        else\n",
      "            let v10 : string = $\"accumulate_dice_rolls / power: {0} / acc: {v1} / roll: {v3}\"\n",
      "            method3(v4, v1)\n",
      "    | UH0_1 -> (* Nil *)\n",
      "        US0_0\n",
      "and method1 (v0 : UH0, v1 : int32) : int32 =\n",
      "    let v2 : bool = v1 < 1\n",
      "    if v2 then\n",
      "        let v3 : int32 = System.Random().Next (1, 7)\n",
      "        let v4 : UH0 = UH0_0(v3, v0)\n",
      "        let v5 : int32 = v1 + 1\n",
      "        method1(v4, v5)\n",
      "    else\n",
      "        let v7 : int32 = 0\n",
      "        let v8 : US0 = method2(v0, v7)\n",
      "        match v8 with\n",
      "        | US0_1(v9, v10) -> (* Some *)\n",
      "            let v11 : bool = v9 <= 1\n",
      "            if v11 then\n",
      "                v9\n",
      "            else\n",
      "                let v12 : int32 = System.Random().Next (1, 7)\n",
      "                let v13 : UH0 = UH0_0(v12, v0)\n",
      "                let v14 : int32 = v1 + 1\n",
      "                method1(v13, v14)\n",
      "        | _ ->\n",
      "            let v17 : int32 = System.Random().Next (1, 7)\n",
      "            let v18 : UH0 = UH0_0(v17, v0)\n",
      "            let v19 : int32 = v1 + 1\n",
      "            method1(v18, v19)\n",
      "and method0 () : unit =\n",
      "    let v0 : UH0 = UH0_1\n",
      "    let v1 : int32 = 0\n",
      "    let v2 : int32 = method1(v0, v1)\n",
      "    let v3 : bool = v2 = 1\n",
      "    let v4 : string = $\"_equal / actual: %A{v2} / expected: %A{1}\"\n",
      "    let v5 : bool = v3 = false\n",
      "    if v5 then\n",
      "        failwith<unit> v4\n",
      "method0()\n",
      "\r\n"
     ]
    }
   ],
   "source": [
    "// // test\n",
    "\n",
    "roll_progressively None roll_dice false 1\n",
    "|> _equal 1"
   ]
  },
  {
   "cell_type": "code",
   "execution_count": null,
   "metadata": {
    "dotnet_interactive": {
     "language": "spiral"
    },
    "polyglot_notebook": {
     "kernelName": "spiral"
    }
   },
   "outputs": [
    {
     "name": "stdout",
     "output_type": "stream",
     "text": [
      "type UH0 =\n",
      "    | UH0_0 of int32 * (unit -> UH0)\n",
      "    | UH0_1\n",
      "and [<Struct>] US0 =\n",
      "    | US0_0 of f0_0 : UH0\n",
      "    | US0_1 of f1_0 : (unit -> UH0)\n",
      "and Mut0 = {mutable l0 : US0}\n",
      "and Mut1 = {mutable l0 : int32}\n",
      "and UH1 =\n",
      "    | UH1_0 of int32 * UH1\n",
      "    | UH1_1\n",
      "and [<Struct>] US1 =\n",
      "    | US1_0\n",
      "    | US1_1 of f1_0 : int32\n",
      "and [<Struct>] US2 =\n",
      "    | US2_0\n",
      "    | US2_1 of f1_0 : int32 * f1_1 : UH1\n",
      "let rec closure10 () () : UH0 =\n",
      "    UH0_1\n",
      "and closure9 () () : UH0 =\n",
      "    let v0 : (unit -> UH0) = closure10()\n",
      "    UH0_0(5, v0)\n",
      "and closure8 () () : UH0 =\n",
      "    let v0 : (unit -> UH0) = closure9()\n",
      "    UH0_0(4, v0)\n",
      "and closure7 () () : UH0 =\n",
      "    let v0 : (unit -> UH0) = closure8()\n",
      "    UH0_0(4, v0)\n",
      "and closure6 () () : UH0 =\n",
      "    let v0 : (unit -> UH0) = closure7()\n",
      "    UH0_0(5, v0)\n",
      "and closure5 () () : UH0 =\n",
      "    let v0 : (unit -> UH0) = closure6()\n",
      "    UH0_0(1, v0)\n",
      "and closure4 () () : UH0 =\n",
      "    let v0 : (unit -> UH0) = closure5()\n",
      "    UH0_0(1, v0)\n",
      "and closure3 () () : UH0 =\n",
      "    let v0 : (unit -> UH0) = closure4()\n",
      "    UH0_0(5, v0)\n",
      "and closure2 () () : UH0 =\n",
      "    let v0 : (unit -> UH0) = closure3()\n",
      "    UH0_0(4, v0)\n",
      "and closure1 () () : UH0 =\n",
      "    let v0 : (unit -> UH0) = closure2()\n",
      "    UH0_0(4, v0)\n",
      "and closure0 () () : UH0 =\n",
      "    let v0 : (unit -> UH0) = closure1()\n",
      "    UH0_0(5, v0)\n",
      "and closure11 (v0 : Mut0) () : UH0 =\n",
      "    let v1 : US0 = v0.l0\n",
      "    match v1 with\n",
      "    | US0_0(v2) -> (* Computed *)\n",
      "        v2\n",
      "    | US0_1(v3) -> (* NotComputed *)\n",
      "        let v4 : UH0 = v3 ()\n",
      "        let v13 : UH0 =\n",
      "            match v4 with\n",
      "            | UH0_0(v6, v7) -> (* StreamCons *)\n",
      "                let v8 : US0 = US0_1(v7)\n",
      "                let v9 : Mut0 = {l0 = v8} : Mut0\n",
      "                let v10 : (unit -> UH0) = closure11(v9)\n",
      "                UH0_0(v6, v10)\n",
      "            | UH0_1 -> (* StreamNil *)\n",
      "                UH0_1\n",
      "        let v14 : US0 = US0_0(v13)\n",
      "        v0.l0 <- v14\n",
      "        v13\n",
      "and method3 (v0 : int32, v1 : UH0) : US1 =\n",
      "    match v1 with\n",
      "    | UH0_0(v2, v3) -> (* StreamCons *)\n",
      "        let v4 : bool = v0 <= 0\n",
      "        if v4 then\n",
      "            US1_1(v2)\n",
      "        else\n",
      "            let v6 : int32 = v0 - 1\n",
      "            let v7 : UH0 = v3 ()\n",
      "            method3(v6, v7)\n",
      "    | UH0_1 -> (* StreamNil *)\n",
      "        US1_0\n",
      "and method2 (v0 : Mut0, v1 : Mut1, v2 : Mut1, v3 : Mut1) : int32 =\n",
      "    let v4 : US0 = v0.l0\n",
      "    let v19 : UH0 =\n",
      "        match v4 with\n",
      "        | US0_0(v5) -> (* Computed *)\n",
      "            v5\n",
      "        | US0_1(v6) -> (* NotComputed *)\n",
      "            let v7 : UH0 = v6 ()\n",
      "            let v16 : UH0 =\n",
      "                match v7 with\n",
      "                | UH0_0(v9, v10) -> (* StreamCons *)\n",
      "                    let v11 : US0 = US0_1(v10)\n",
      "                    let v12 : Mut0 = {l0 = v11} : Mut0\n",
      "                    let v13 : (unit -> UH0) = closure11(v12)\n",
      "                    UH0_0(v9, v13)\n",
      "                | UH0_1 -> (* StreamNil *)\n",
      "                    UH0_1\n",
      "            let v17 : US0 = US0_0(v16)\n",
      "            v0.l0 <- v17\n",
      "            v16\n",
      "    let v20 : int32 = v1.l0\n",
      "    let v21 : US1 = method3(v20, v19)\n",
      "    match v21 with\n",
      "    | US1_0 -> (* None *)\n",
      "        let v25 : int32 = v3.l0\n",
      "        let v26 : bool = v25 = -1\n",
      "        if v26 then\n",
      "            let v27 : int32 = v1.l0\n",
      "            v3.l0 <- v27\n",
      "            ()\n",
      "        let v28 : int32 = v2.l0\n",
      "        let v29 : int32 = v3.l0\n",
      "        let v30 : bool = v28 >= v29\n",
      "        let v33 : int32 =\n",
      "            if v30 then\n",
      "                1\n",
      "            else\n",
      "                let v31 : int32 = v2.l0\n",
      "                let v32 : int32 = v31 + 1\n",
      "                v32\n",
      "        v2.l0 <- v33\n",
      "        let v34 : int32 = v2.l0\n",
      "        let v35 : int32 = v34 - 1\n",
      "        v1.l0 <- v35\n",
      "        method2(v0, v1, v2, v3)\n",
      "    | US1_1(v22) -> (* Some *)\n",
      "        let v23 : int32 = v1.l0\n",
      "        let v24 : int32 = v23 + 1\n",
      "        v1.l0 <- v24\n",
      "        v22\n",
      "and method9 (v0 : UH1, v1 : int32) : US2 =\n",
      "    let v2 : string = $\"accumulate_dice_rolls / power: {-1} / acc: {v1}\"\n",
      "    System.Console.WriteLine v2\n",
      "    let v3 : int32 = v1 + 1\n",
      "    US2_1(v3, v0)\n",
      "and method8 (v0 : UH1, v1 : int32) : US2 =\n",
      "    match v0 with\n",
      "    | UH1_0(v3, v4) -> (* Cons *)\n",
      "        let v5 : bool = v3 > 1\n",
      "        if v5 then\n",
      "            let v6 : int32 = v3 - 1\n",
      "            let v7 : string = $\"accumulate_dice_rolls / power: {0} / acc: {v1} / roll: {v3} / value: {v6}\"\n",
      "            System.Console.WriteLine v7\n",
      "            let v8 : int32 = v1 + v6\n",
      "            method9(v4, v8)\n",
      "        else\n",
      "            let v10 : string = $\"accumulate_dice_rolls / power: {0} / acc: {v1} / roll: {v3}\"\n",
      "            System.Console.WriteLine v10\n",
      "            method9(v4, v1)\n",
      "    | UH1_1 -> (* Nil *)\n",
      "        US2_0\n",
      "and method7 (v0 : UH1, v1 : int32) : US2 =\n",
      "    match v0 with\n",
      "    | UH1_0(v3, v4) -> (* Cons *)\n",
      "        let v5 : bool = v3 > 1\n",
      "        if v5 then\n",
      "            let v6 : int32 = v3 - 1\n",
      "            let v7 : int32 = v6 * 6\n",
      "            let v8 : string = $\"accumulate_dice_rolls / power: {1} / acc: {v1} / roll: {v3} / value: {v7}\"\n",
      "            System.Console.WriteLine v8\n",
      "            let v9 : int32 = v1 + v7\n",
      "            method8(v4, v9)\n",
      "        else\n",
      "            let v11 : string = $\"accumulate_dice_rolls / power: {1} / acc: {v1} / roll: {v3}\"\n",
      "            System.Console.WriteLine v11\n",
      "            method8(v4, v1)\n",
      "    | UH1_1 -> (* Nil *)\n",
      "        US2_0\n",
      "and method6 (v0 : UH1, v1 : int32) : US2 =\n",
      "    match v0 with\n",
      "    | UH1_0(v3, v4) -> (* Cons *)\n",
      "        let v5 : bool = v3 > 1\n",
      "        if v5 then\n",
      "            let v6 : int32 = v3 - 1\n",
      "            let v7 : int32 = v6 * 36\n",
      "            let v8 : string = $\"accumulate_dice_rolls / power: {2} / acc: {v1} / roll: {v3} / value: {v7}\"\n",
      "            System.Console.WriteLine v8\n",
      "            let v9 : int32 = v1 + v7\n",
      "            method7(v4, v9)\n",
      "        else\n",
      "            let v11 : string = $\"accumulate_dice_rolls / power: {2} / acc: {v1} / roll: {v3}\"\n",
      "            System.Console.WriteLine v11\n",
      "            method7(v4, v1)\n",
      "    | UH1_1 -> (* Nil *)\n",
      "        US2_0\n",
      "and method5 (v0 : UH1, v1 : int32) : US2 =\n",
      "    match v0 with\n",
      "    | UH1_0(v3, v4) -> (* Cons *)\n",
      "        let v5 : bool = v3 > 1\n",
      "        if v5 then\n",
      "            let v6 : int32 = v3 - 1\n",
      "            let v7 : int32 = v6 * 216\n",
      "            let v8 : string = $\"accumulate_dice_rolls / power: {3} / acc: {v1} / roll: {v3} / value: {v7}\"\n",
      "            System.Console.WriteLine v8\n",
      "            let v9 : int32 = v1 + v7\n",
      "            method6(v4, v9)\n",
      "        else\n",
      "            let v11 : string = $\"accumulate_dice_rolls / power: {3} / acc: {v1} / roll: {v3}\"\n",
      "            System.Console.WriteLine v11\n",
      "            method6(v4, v1)\n",
      "    | UH1_1 -> (* Nil *)\n",
      "        US2_0\n",
      "and method4 (v0 : UH1, v1 : int32) : US2 =\n",
      "    match v0 with\n",
      "    | UH1_0(v3, v4) -> (* Cons *)\n",
      "        let v5 : bool = v3 > 1\n",
      "        if v5 then\n",
      "            let v6 : int32 = v3 - 1\n",
      "            let v7 : int32 = v6 * 1296\n",
      "            let v8 : string = $\"accumulate_dice_rolls / power: {4} / acc: {v1} / roll: {v3} / value: {v7}\"\n",
      "            System.Console.WriteLine v8\n",
      "            let v9 : int32 = v1 + v7\n",
      "            method5(v4, v9)\n",
      "        else\n",
      "            let v11 : string = $\"accumulate_dice_rolls / power: {4} / acc: {v1} / roll: {v3}\"\n",
      "            System.Console.WriteLine v11\n",
      "            method5(v4, v1)\n",
      "    | UH1_1 -> (* Nil *)\n",
      "        US2_0\n",
      "and method1 (v0 : Mut0, v1 : Mut1, v2 : Mut1, v3 : Mut1, v4 : UH1, v5 : int32) : int32 =\n",
      "    let v6 : bool = v5 < 5\n",
      "    if v6 then\n",
      "        let v7 : int32 = method2(v0, v1, v2, v3)\n",
      "        let v8 : UH1 = UH1_0(v7, v4)\n",
      "        let v9 : int32 = v5 + 1\n",
      "        method1(v0, v1, v2, v3, v8, v9)\n",
      "    else\n",
      "        let v11 : int32 = 0\n",
      "        let v12 : US2 = method4(v4, v11)\n",
      "        match v12 with\n",
      "        | US2_1(v13, v14) -> (* Some *)\n",
      "            let v15 : bool = v13 <= 2000\n",
      "            if v15 then\n",
      "                v13\n",
      "            else\n",
      "                let v16 : int32 = method2(v0, v1, v2, v3)\n",
      "                let v17 : UH1 = UH1_0(v16, v4)\n",
      "                let v18 : int32 = v5 + 1\n",
      "                method1(v0, v1, v2, v3, v17, v18)\n",
      "        | _ ->\n",
      "            let v21 : int32 = method2(v0, v1, v2, v3)\n",
      "            let v22 : UH1 = UH1_0(v21, v4)\n",
      "            let v23 : int32 = v5 + 1\n",
      "            method1(v0, v1, v2, v3, v22, v23)\n",
      "and method0 () : unit =\n",
      "    let v0 : (unit -> UH0) = closure0()\n",
      "    let v1 : US0 = US0_1(v0)\n",
      "    let v2 : Mut0 = {l0 = v1} : Mut0\n",
      "    let v3 : Mut1 = {l0 = 0} : Mut1\n",
      "    let v4 : Mut1 = {l0 = 1} : Mut1\n",
      "    let v5 : Mut1 = {l0 = -1} : Mut1\n",
      "    let v6 : string = $\"calculate_dice_count / max: {2000} / n: {5} / p: {7776}\"\n",
      "    System.Console.WriteLine v6\n",
      "    let v7 : UH1 = UH1_1\n",
      "    let v8 : int32 = 0\n",
      "    let v9 : int32 = method1(v2, v3, v4, v5, v7, v8)\n",
      "    let v10 : bool = v9 = 995\n",
      "    let v11 : string = $\"_equal / actual: %A{v9} / expected: %A{995}\"\n",
      "    let v12 : bool = v10 = false\n",
      "    if v12 then\n",
      "        failwith<unit> v11\n",
      "method0()\n",
      "\r\n",
      "calculate_dice_count / max: 2000 / n: 5 / p: 7776\r\n",
      "accumulate_dice_rolls / power: 4 / acc: 0 / roll: 1\r\n",
      "accumulate_dice_rolls / power: 3 / acc: 0 / roll: 5 / value: 864\r\n",
      "accumulate_dice_rolls / power: 2 / acc: 864 / roll: 4 / value: 108\r\n",
      "accumulate_dice_rolls / power: 1 / acc: 972 / roll: 4 / value: 18\r\n",
      "accumulate_dice_rolls / power: 0 / acc: 990 / roll: 5 / value: 4\r\n",
      "accumulate_dice_rolls / power: -1 / acc: 994\r\n"
     ]
    }
   ],
   "source": [
    "// // test\n",
    "\n",
    "inl sequential_roll = create_sequential_roller [ 5; 4; 4; 5; 1 ]\n",
    "\n",
    "roll_progressively (Some console.write_line) sequential_roll false 2000\n",
    "|> _equal 995"
   ]
  },
  {
   "cell_type": "code",
   "execution_count": null,
   "metadata": {
    "dotnet_interactive": {
     "language": "spiral"
    },
    "polyglot_notebook": {
     "kernelName": "spiral"
    }
   },
   "outputs": [
    {
     "name": "stdout",
     "output_type": "stream",
     "text": [
      "type UH0 =\n",
      "    | UH0_0 of int32 * (unit -> UH0)\n",
      "    | UH0_1\n",
      "and [<Struct>] US0 =\n",
      "    | US0_0 of f0_0 : UH0\n",
      "    | US0_1 of f1_0 : (unit -> UH0)\n",
      "and Mut0 = {mutable l0 : US0}\n",
      "and Mut1 = {mutable l0 : int32}\n",
      "and UH1 =\n",
      "    | UH1_0 of int32 * UH1\n",
      "    | UH1_1\n",
      "and [<Struct>] US1 =\n",
      "    | US1_0\n",
      "    | US1_1 of f1_0 : int32\n",
      "and [<Struct>] US2 =\n",
      "    | US2_0\n",
      "    | US2_1 of f1_0 : int32 * f1_1 : UH1\n",
      "let rec closure10 () () : UH0 =\n",
      "    UH0_1\n",
      "and closure9 () () : UH0 =\n",
      "    let v0 : (unit -> UH0) = closure10()\n",
      "    UH0_0(5, v0)\n",
      "and closure8 () () : UH0 =\n",
      "    let v0 : (unit -> UH0) = closure9()\n",
      "    UH0_0(4, v0)\n",
      "and closure7 () () : UH0 =\n",
      "    let v0 : (unit -> UH0) = closure8()\n",
      "    UH0_0(4, v0)\n",
      "and closure6 () () : UH0 =\n",
      "    let v0 : (unit -> UH0) = closure7()\n",
      "    UH0_0(5, v0)\n",
      "and closure5 () () : UH0 =\n",
      "    let v0 : (unit -> UH0) = closure6()\n",
      "    UH0_0(2, v0)\n",
      "and closure4 () () : UH0 =\n",
      "    let v0 : (unit -> UH0) = closure5()\n",
      "    UH0_0(2, v0)\n",
      "and closure3 () () : UH0 =\n",
      "    let v0 : (unit -> UH0) = closure4()\n",
      "    UH0_0(5, v0)\n",
      "and closure2 () () : UH0 =\n",
      "    let v0 : (unit -> UH0) = closure3()\n",
      "    UH0_0(4, v0)\n",
      "and closure1 () () : UH0 =\n",
      "    let v0 : (unit -> UH0) = closure2()\n",
      "    UH0_0(4, v0)\n",
      "and closure0 () () : UH0 =\n",
      "    let v0 : (unit -> UH0) = closure1()\n",
      "    UH0_0(5, v0)\n",
      "and closure11 (v0 : Mut0) () : UH0 =\n",
      "    let v1 : US0 = v0.l0\n",
      "    match v1 with\n",
      "    | US0_0(v2) -> (* Computed *)\n",
      "        v2\n",
      "    | US0_1(v3) -> (* NotComputed *)\n",
      "        let v4 : UH0 = v3 ()\n",
      "        let v13 : UH0 =\n",
      "            match v4 with\n",
      "            | UH0_0(v6, v7) -> (* StreamCons *)\n",
      "                let v8 : US0 = US0_1(v7)\n",
      "                let v9 : Mut0 = {l0 = v8} : Mut0\n",
      "                let v10 : (unit -> UH0) = closure11(v9)\n",
      "                UH0_0(v6, v10)\n",
      "            | UH0_1 -> (* StreamNil *)\n",
      "                UH0_1\n",
      "        let v14 : US0 = US0_0(v13)\n",
      "        v0.l0 <- v14\n",
      "        v13\n",
      "and method3 (v0 : int32, v1 : UH0) : US1 =\n",
      "    match v1 with\n",
      "    | UH0_0(v2, v3) -> (* StreamCons *)\n",
      "        let v4 : bool = v0 <= 0\n",
      "        if v4 then\n",
      "            US1_1(v2)\n",
      "        else\n",
      "            let v6 : int32 = v0 - 1\n",
      "            let v7 : UH0 = v3 ()\n",
      "            method3(v6, v7)\n",
      "    | UH0_1 -> (* StreamNil *)\n",
      "        US1_0\n",
      "and method2 (v0 : Mut0, v1 : Mut1, v2 : Mut1, v3 : Mut1) : int32 =\n",
      "    let v4 : US0 = v0.l0\n",
      "    let v19 : UH0 =\n",
      "        match v4 with\n",
      "        | US0_0(v5) -> (* Computed *)\n",
      "            v5\n",
      "        | US0_1(v6) -> (* NotComputed *)\n",
      "            let v7 : UH0 = v6 ()\n",
      "            let v16 : UH0 =\n",
      "                match v7 with\n",
      "                | UH0_0(v9, v10) -> (* StreamCons *)\n",
      "                    let v11 : US0 = US0_1(v10)\n",
      "                    let v12 : Mut0 = {l0 = v11} : Mut0\n",
      "                    let v13 : (unit -> UH0) = closure11(v12)\n",
      "                    UH0_0(v9, v13)\n",
      "                | UH0_1 -> (* StreamNil *)\n",
      "                    UH0_1\n",
      "            let v17 : US0 = US0_0(v16)\n",
      "            v0.l0 <- v17\n",
      "            v16\n",
      "    let v20 : int32 = v1.l0\n",
      "    let v21 : US1 = method3(v20, v19)\n",
      "    match v21 with\n",
      "    | US1_0 -> (* None *)\n",
      "        let v25 : int32 = v3.l0\n",
      "        let v26 : bool = v25 = -1\n",
      "        if v26 then\n",
      "            let v27 : int32 = v1.l0\n",
      "            v3.l0 <- v27\n",
      "            ()\n",
      "        let v28 : int32 = v2.l0\n",
      "        let v29 : int32 = v3.l0\n",
      "        let v30 : bool = v28 >= v29\n",
      "        let v33 : int32 =\n",
      "            if v30 then\n",
      "                1\n",
      "            else\n",
      "                let v31 : int32 = v2.l0\n",
      "                let v32 : int32 = v31 + 1\n",
      "                v32\n",
      "        v2.l0 <- v33\n",
      "        let v34 : int32 = v2.l0\n",
      "        let v35 : int32 = v34 - 1\n",
      "        v1.l0 <- v35\n",
      "        method2(v0, v1, v2, v3)\n",
      "    | US1_1(v22) -> (* Some *)\n",
      "        let v23 : int32 = v1.l0\n",
      "        let v24 : int32 = v23 + 1\n",
      "        v1.l0 <- v24\n",
      "        v22\n",
      "and method9 (v0 : UH1, v1 : int32) : US2 =\n",
      "    let v2 : string = $\"accumulate_dice_rolls / power: {-1} / acc: {v1}\"\n",
      "    System.Console.WriteLine v2\n",
      "    let v3 : int32 = v1 + 1\n",
      "    US2_1(v3, v0)\n",
      "and method8 (v0 : UH1, v1 : int32) : US2 =\n",
      "    match v0 with\n",
      "    | UH1_0(v3, v4) -> (* Cons *)\n",
      "        let v5 : bool = v3 > 1\n",
      "        if v5 then\n",
      "            let v6 : int32 = v3 - 1\n",
      "            let v7 : string = $\"accumulate_dice_rolls / power: {0} / acc: {v1} / roll: {v3} / value: {v6}\"\n",
      "            System.Console.WriteLine v7\n",
      "            let v8 : int32 = v1 + v6\n",
      "            method9(v4, v8)\n",
      "        else\n",
      "            let v10 : string = $\"accumulate_dice_rolls / power: {0} / acc: {v1} / roll: {v3}\"\n",
      "            System.Console.WriteLine v10\n",
      "            method9(v4, v1)\n",
      "    | UH1_1 -> (* Nil *)\n",
      "        US2_0\n",
      "and method7 (v0 : UH1, v1 : int32) : US2 =\n",
      "    match v0 with\n",
      "    | UH1_0(v3, v4) -> (* Cons *)\n",
      "        let v5 : bool = v3 > 1\n",
      "        if v5 then\n",
      "            let v6 : int32 = v3 - 1\n",
      "            let v7 : int32 = v6 * 6\n",
      "            let v8 : string = $\"accumulate_dice_rolls / power: {1} / acc: {v1} / roll: {v3} / value: {v7}\"\n",
      "            System.Console.WriteLine v8\n",
      "            let v9 : int32 = v1 + v7\n",
      "            method8(v4, v9)\n",
      "        else\n",
      "            let v11 : string = $\"accumulate_dice_rolls / power: {1} / acc: {v1} / roll: {v3}\"\n",
      "            System.Console.WriteLine v11\n",
      "            method8(v4, v1)\n",
      "    | UH1_1 -> (* Nil *)\n",
      "        US2_0\n",
      "and method6 (v0 : UH1, v1 : int32) : US2 =\n",
      "    match v0 with\n",
      "    | UH1_0(v3, v4) -> (* Cons *)\n",
      "        let v5 : bool = v3 > 1\n",
      "        if v5 then\n",
      "            let v6 : int32 = v3 - 1\n",
      "            let v7 : int32 = v6 * 36\n",
      "            let v8 : string = $\"accumulate_dice_rolls / power: {2} / acc: {v1} / roll: {v3} / value: {v7}\"\n",
      "            System.Console.WriteLine v8\n",
      "            let v9 : int32 = v1 + v7\n",
      "            method7(v4, v9)\n",
      "        else\n",
      "            let v11 : string = $\"accumulate_dice_rolls / power: {2} / acc: {v1} / roll: {v3}\"\n",
      "            System.Console.WriteLine v11\n",
      "            method7(v4, v1)\n",
      "    | UH1_1 -> (* Nil *)\n",
      "        US2_0\n",
      "and method5 (v0 : UH1, v1 : int32) : US2 =\n",
      "    match v0 with\n",
      "    | UH1_0(v3, v4) -> (* Cons *)\n",
      "        let v5 : bool = v3 > 1\n",
      "        if v5 then\n",
      "            let v6 : int32 = v3 - 1\n",
      "            let v7 : int32 = v6 * 216\n",
      "            let v8 : string = $\"accumulate_dice_rolls / power: {3} / acc: {v1} / roll: {v3} / value: {v7}\"\n",
      "            System.Console.WriteLine v8\n",
      "            let v9 : int32 = v1 + v7\n",
      "            method6(v4, v9)\n",
      "        else\n",
      "            let v11 : string = $\"accumulate_dice_rolls / power: {3} / acc: {v1} / roll: {v3}\"\n",
      "            System.Console.WriteLine v11\n",
      "            method6(v4, v1)\n",
      "    | UH1_1 -> (* Nil *)\n",
      "        US2_0\n",
      "and method4 (v0 : UH1, v1 : int32) : US2 =\n",
      "    match v0 with\n",
      "    | UH1_0(v3, v4) -> (* Cons *)\n",
      "        let v5 : bool = v3 > 1\n",
      "        if v5 then\n",
      "            let v6 : int32 = v3 - 1\n",
      "            let v7 : int32 = v6 * 1296\n",
      "            let v8 : string = $\"accumulate_dice_rolls / power: {4} / acc: {v1} / roll: {v3} / value: {v7}\"\n",
      "            System.Console.WriteLine v8\n",
      "            let v9 : int32 = v1 + v7\n",
      "            method5(v4, v9)\n",
      "        else\n",
      "            let v11 : string = $\"accumulate_dice_rolls / power: {4} / acc: {v1} / roll: {v3}\"\n",
      "            System.Console.WriteLine v11\n",
      "            method5(v4, v1)\n",
      "    | UH1_1 -> (* Nil *)\n",
      "        US2_0\n",
      "and method1 (v0 : Mut0, v1 : Mut1, v2 : Mut1, v3 : Mut1, v4 : UH1, v5 : int32) : int32 =\n",
      "    let v6 : bool = v5 < 5\n",
      "    if v6 then\n",
      "        let v7 : int32 = method2(v0, v1, v2, v3)\n",
      "        let v8 : UH1 = UH1_0(v7, v4)\n",
      "        let v9 : int32 = v5 + 1\n",
      "        method1(v0, v1, v2, v3, v8, v9)\n",
      "    else\n",
      "        let v11 : int32 = 0\n",
      "        let v12 : US2 = method4(v4, v11)\n",
      "        match v12 with\n",
      "        | US2_1(v13, v14) -> (* Some *)\n",
      "            let v15 : bool = v13 <= 2000\n",
      "            if v15 then\n",
      "                v13\n",
      "            else\n",
      "                let v16 : int32 = method2(v0, v1, v2, v3)\n",
      "                let v17 : UH1 = UH1_0(v16, v4)\n",
      "                let v18 : int32 = v5 + 1\n",
      "                method1(v0, v1, v2, v3, v17, v18)\n",
      "        | _ ->\n",
      "            let v21 : int32 = method2(v0, v1, v2, v3)\n",
      "            let v22 : UH1 = UH1_0(v21, v4)\n",
      "            let v23 : int32 = v5 + 1\n",
      "            method1(v0, v1, v2, v3, v22, v23)\n",
      "and method0 () : unit =\n",
      "    let v0 : (unit -> UH0) = closure0()\n",
      "    let v1 : US0 = US0_1(v0)\n",
      "    let v2 : Mut0 = {l0 = v1} : Mut0\n",
      "    let v3 : Mut1 = {l0 = 0} : Mut1\n",
      "    let v4 : Mut1 = {l0 = 1} : Mut1\n",
      "    let v5 : Mut1 = {l0 = -1} : Mut1\n",
      "    let v6 : string = $\"calculate_dice_count / max: {2000} / n: {5} / p: {7776}\"\n",
      "    System.Console.WriteLine v6\n",
      "    let v7 : UH1 = UH1_1\n",
      "    let v8 : int32 = 0\n",
      "    let v9 : int32 = method1(v2, v3, v4, v5, v7, v8)\n",
      "    let v10 : bool = v9 = 1678\n",
      "    let v11 : string = $\"_equal / actual: %A{v9} / expected: %A{1678}\"\n",
      "    let v12 : bool = v10 = false\n",
      "    if v12 then\n",
      "        failwith<unit> v11\n",
      "method0()\n",
      "\r\n",
      "calculate_dice_count / max: 2000 / n: 5 / p: 7776\r\n",
      "accumulate_dice_rolls / power: 4 / acc: 0 / roll: 2 / value: 1296\r\n",
      "accumulate_dice_rolls / power: 3 / acc: 1296 / roll: 5 / value: 864\r\n",
      "accumulate_dice_rolls / power: 2 / acc: 2160 / roll: 4 / value: 108\r\n",
      "accumulate_dice_rolls / power: 1 / acc: 2268 / roll: 4 / value: 18\r\n",
      "accumulate_dice_rolls / power: 0 / acc: 2286 / roll: 5 / value: 4\r\n",
      "accumulate_dice_rolls / power: -1 / acc: 2290\r\n",
      "accumulate_dice_rolls / power: 4 / acc: 0 / roll: 2 / value: 1296\r\n",
      "accumulate_dice_rolls / power: 3 / acc: 1296 / roll: 2 / value: 216\r\n",
      "accumulate_dice_rolls / power: 2 / acc: 1512 / roll: 5 / value: 144\r\n",
      "accumulate_dice_rolls / power: 1 / acc: 1656 / roll: 4 / value: 18\r\n",
      "accumulate_dice_rolls / power: 0 / acc: 1674 / roll: 4 / value: 3\r\n",
      "accumulate_dice_rolls / power: -1 / acc: 1677\r\n"
     ]
    }
   ],
   "source": [
    "// // test\n",
    "\n",
    "inl sequential_roll = create_sequential_roller [ 5; 4; 4; 5; 2 ]\n",
    "\n",
    "roll_progressively (Some console.write_line) sequential_roll false 2000\n",
    "|> _equal 1678"
   ]
  },
  {
   "cell_type": "code",
   "execution_count": null,
   "metadata": {
    "dotnet_interactive": {
     "language": "spiral"
    },
    "polyglot_notebook": {
     "kernelName": "spiral"
    }
   },
   "outputs": [
    {
     "data": {
      "text/html": [
       "<table><thead><tr><th><i>index</i></th><th>value</th></tr></thead><tbody><tr><td>0</td><td><details class=\"dni-treeview\"><summary><span class=\"dni-code-hint\"><code>(2, 4)</code></span></summary><div><table><thead><tr></tr></thead><tbody><tr><td>Item1</td><td><div class=\"dni-plaintext\"><pre>2</pre></div></td></tr><tr><td>Item2</td><td><div class=\"dni-plaintext\"><pre>4</pre></div></td></tr></tbody></table></div></details></td></tr><tr><td>1</td><td><details class=\"dni-treeview\"><summary><span class=\"dni-code-hint\"><code>(3, 8)</code></span></summary><div><table><thead><tr></tr></thead><tbody><tr><td>Item1</td><td><div class=\"dni-plaintext\"><pre>3</pre></div></td></tr><tr><td>Item2</td><td><div class=\"dni-plaintext\"><pre>8</pre></div></td></tr></tbody></table></div></details></td></tr><tr><td>2</td><td><details class=\"dni-treeview\"><summary><span class=\"dni-code-hint\"><code>(4, 4)</code></span></summary><div><table><thead><tr></tr></thead><tbody><tr><td>Item1</td><td><div class=\"dni-plaintext\"><pre>4</pre></div></td></tr><tr><td>Item2</td><td><div class=\"dni-plaintext\"><pre>4</pre></div></td></tr></tbody></table></div></details></td></tr><tr><td>3</td><td><details class=\"dni-treeview\"><summary><span class=\"dni-code-hint\"><code>(5, 6)</code></span></summary><div><table><thead><tr></tr></thead><tbody><tr><td>Item1</td><td><div class=\"dni-plaintext\"><pre>5</pre></div></td></tr><tr><td>Item2</td><td><div class=\"dni-plaintext\"><pre>6</pre></div></td></tr></tbody></table></div></details></td></tr><tr><td>4</td><td><details class=\"dni-treeview\"><summary><span class=\"dni-code-hint\"><code>(6, 5)</code></span></summary><div><table><thead><tr></tr></thead><tbody><tr><td>Item1</td><td><div class=\"dni-plaintext\"><pre>6</pre></div></td></tr><tr><td>Item2</td><td><div class=\"dni-plaintext\"><pre>5</pre></div></td></tr></tbody></table></div></details></td></tr><tr><td>5</td><td><details class=\"dni-treeview\"><summary><span class=\"dni-code-hint\"><code>(7, 1)</code></span></summary><div><table><thead><tr></tr></thead><tbody><tr><td>Item1</td><td><div class=\"dni-plaintext\"><pre>7</pre></div></td></tr><tr><td>Item2</td><td><div class=\"dni-plaintext\"><pre>1</pre></div></td></tr></tbody></table></div></details></td></tr><tr><td>6</td><td><details class=\"dni-treeview\"><summary><span class=\"dni-code-hint\"><code>(8, 2)</code></span></summary><div><table><thead><tr></tr></thead><tbody><tr><td>Item1</td><td><div class=\"dni-plaintext\"><pre>8</pre></div></td></tr><tr><td>Item2</td><td><div class=\"dni-plaintext\"><pre>2</pre></div></td></tr></tbody></table></div></details></td></tr><tr><td>7</td><td><details class=\"dni-treeview\"><summary><span class=\"dni-code-hint\"><code>(9, 7)</code></span></summary><div><table><thead><tr></tr></thead><tbody><tr><td>Item1</td><td><div class=\"dni-plaintext\"><pre>9</pre></div></td></tr><tr><td>Item2</td><td><div class=\"dni-plaintext\"><pre>7</pre></div></td></tr></tbody></table></div></details></td></tr><tr><td>8</td><td><details class=\"dni-treeview\"><summary><span class=\"dni-code-hint\"><code>(10, 3)</code></span></summary><div><table><thead><tr></tr></thead><tbody><tr><td>Item1</td><td><div class=\"dni-plaintext\"><pre>10</pre></div></td></tr><tr><td>Item2</td><td><div class=\"dni-plaintext\"><pre>3</pre></div></td></tr></tbody></table></div></details></td></tr></tbody></table><style>\r\n",
       ".dni-code-hint {\r\n",
       "    font-style: italic;\r\n",
       "    overflow: hidden;\r\n",
       "    white-space: nowrap;\r\n",
       "}\r\n",
       ".dni-treeview {\r\n",
       "    white-space: nowrap;\r\n",
       "}\r\n",
       ".dni-treeview td {\r\n",
       "    vertical-align: top;\r\n",
       "    text-align: start;\r\n",
       "}\r\n",
       "details.dni-treeview {\r\n",
       "    padding-left: 1em;\r\n",
       "}\r\n",
       "table td {\r\n",
       "    text-align: start;\r\n",
       "}\r\n",
       "table tr { \r\n",
       "    vertical-align: top; \r\n",
       "    margin: 0em 0px;\r\n",
       "}\r\n",
       "table tr td pre \r\n",
       "{ \r\n",
       "    vertical-align: top !important; \r\n",
       "    margin: 0em 0px !important;\r\n",
       "} \r\n",
       "table th {\r\n",
       "    text-align: start;\r\n",
       "}\r\n",
       "</style>"
      ]
     },
     "metadata": {},
     "output_type": "display_data"
    },
    {
     "name": "stdout",
     "output_type": "stream",
     "text": [
      "type UH0 =\n",
      "    | UH0_0 of int32 * UH0\n",
      "    | UH0_1\n",
      "and [<Struct>] US0 =\n",
      "    | US0_0\n",
      "    | US0_1 of f1_0 : int32 * f1_1 : UH0\n",
      "and UH1 =\n",
      "    | UH1_0 of int32 * UH0 * UH1\n",
      "    | UH1_1\n",
      "and UH2 =\n",
      "    | UH2_0 of int32 * int32 * UH2\n",
      "    | UH2_1\n",
      "let rec method4 (v0 : UH0, v1 : int32) : US0 =\n",
      "    let v2 : string = $\"accumulate_dice_rolls / power: {-1} / acc: {v1}\"\n",
      "    let v3 : int32 = v1 + 1\n",
      "    US0_1(v3, v0)\n",
      "and method3 (v0 : UH0, v1 : int32) : US0 =\n",
      "    match v0 with\n",
      "    | UH0_0(v3, v4) -> (* Cons *)\n",
      "        let v5 : bool = v3 > 1\n",
      "        if v5 then\n",
      "            let v6 : int32 = v3 - 1\n",
      "            let v7 : string = $\"accumulate_dice_rolls / power: {0} / acc: {v1} / roll: {v3} / value: {v6}\"\n",
      "            let v8 : int32 = v1 + v6\n",
      "            method4(v4, v8)\n",
      "        else\n",
      "            let v10 : string = $\"accumulate_dice_rolls / power: {0} / acc: {v1} / roll: {v3}\"\n",
      "            method4(v4, v1)\n",
      "    | UH0_1 -> (* Nil *)\n",
      "        US0_0\n",
      "and method2 (v0 : UH0, v1 : int32) : US0 =\n",
      "    match v0 with\n",
      "    | UH0_0(v3, v4) -> (* Cons *)\n",
      "        let v5 : bool = v3 > 1\n",
      "        if v5 then\n",
      "            let v6 : int32 = v3 - 1\n",
      "            let v7 : int32 = v6 * 6\n",
      "            let v8 : string = $\"accumulate_dice_rolls / power: {1} / acc: {v1} / roll: {v3} / value: {v7}\"\n",
      "            let v9 : int32 = v1 + v7\n",
      "            method3(v4, v9)\n",
      "        else\n",
      "            let v11 : string = $\"accumulate_dice_rolls / power: {1} / acc: {v1} / roll: {v3}\"\n",
      "            method3(v4, v1)\n",
      "    | UH0_1 -> (* Nil *)\n",
      "        US0_0\n",
      "and method1 (v0 : UH0, v1 : int32) : int32 =\n",
      "    let v2 : bool = v1 < 2\n",
      "    if v2 then\n",
      "        let v3 : int32 = System.Random().Next (1, 7)\n",
      "        let v4 : UH0 = UH0_0(v3, v0)\n",
      "        let v5 : int32 = v1 + 1\n",
      "        method1(v4, v5)\n",
      "    else\n",
      "        let v7 : int32 = 0\n",
      "        let v8 : US0 = method2(v0, v7)\n",
      "        match v8 with\n",
      "        | US0_1(v9, v10) -> (* Some *)\n",
      "            let v11 : bool = v9 <= 10\n",
      "            if v11 then\n",
      "                v9\n",
      "            else\n",
      "                let v12 : int32 = System.Random().Next (1, 7)\n",
      "                let v13 : UH0 = UH0_0(v12, v0)\n",
      "                let v14 : int32 = v1 + 1\n",
      "                method1(v13, v14)\n",
      "        | _ ->\n",
      "            let v17 : int32 = System.Random().Next (1, 7)\n",
      "            let v18 : UH0 = UH0_0(v17, v0)\n",
      "            let v19 : int32 = v1 + 1\n",
      "            method1(v18, v19)\n",
      "and method5 (v0 : int32, v1 : UH1, v2 : bool, v3 : UH1) : struct (bool * UH1) =\n",
      "    match v1 with\n",
      "    | UH1_0(v4, v5, v6) -> (* Cons *)\n",
      "        let v7 : bool = v4 = v0\n",
      "        let struct (v11 : bool, v12 : UH1) =\n",
      "            if v7 then\n",
      "                let v8 : UH0 = UH0_0(v0, v5)\n",
      "                let v9 : UH1 = UH1_0(v4, v8, v3)\n",
      "                struct (true, v9)\n",
      "            else\n",
      "                let v10 : UH1 = UH1_0(v4, v5, v3)\n",
      "                struct (v2, v10)\n",
      "        method5(v0, v6, v11, v12)\n",
      "    | UH1_1 -> (* Nil *)\n",
      "        struct (v2, v3)\n",
      "and method7 (v0 : UH0, v1 : int32) : int32 =\n",
      "    match v0 with\n",
      "    | UH0_0(v2, v3) -> (* Cons *)\n",
      "        let v4 : int32 = v1 + 1\n",
      "        method7(v3, v4)\n",
      "    | UH0_1 -> (* Nil *)\n",
      "        v1\n",
      "and method6 (v0 : UH1, v1 : UH2) : UH2 =\n",
      "    match v0 with\n",
      "    | UH1_0(v2, v3, v4) -> (* Cons *)\n",
      "        let v5 : UH2 = method6(v4, v1)\n",
      "        let v6 : int32 = 0\n",
      "        let v7 : int32 = method7(v3, v6)\n",
      "        UH2_0(v2, v7, v5)\n",
      "    | UH1_1 -> (* Nil *)\n",
      "        v1\n",
      "and method9 (v0 : UH2, v1 : int32) : int32 =\n",
      "    match v0 with\n",
      "    | UH2_0(v2, v3, v4) -> (* Cons *)\n",
      "        let v5 : int32 = v1 + 1\n",
      "        method9(v4, v5)\n",
      "    | UH2_1 -> (* Nil *)\n",
      "        v1\n",
      "and method10 (v0 : (struct (int32 * int32) []), v1 : UH2, v2 : int32) : int32 =\n",
      "    match v1 with\n",
      "    | UH2_0(v3, v4, v5) -> (* Cons *)\n",
      "        v0.[int v2] <- struct (v3, v4)\n",
      "        let v6 : int32 = v2 + 1\n",
      "        method10(v0, v5, v6)\n",
      "    | UH2_1 -> (* Nil *)\n",
      "        v2\n",
      "and method8 (v0 : UH2) : (struct (int32 * int32) []) =\n",
      "    let v1 : int32 = 0\n",
      "    let v2 : int32 = method9(v0, v1)\n",
      "    let v3 : (struct (int32 * int32) []) = Array.zeroCreate<struct (int32 * int32)> (v2)\n",
      "    let v4 : int32 = 0\n",
      "    let v5 : int32 = method10(v3, v0, v4)\n",
      "    v3\n",
      "and method0 () : (struct (int32 * int32) []) =\n",
      "    let v0 : string = $\"calculate_dice_count / max: {10} / n: {2} / p: {36}\"\n",
      "    let v1 : UH0 = UH0_1\n",
      "    let v2 : int32 = 0\n",
      "    let v3 : int32 = method1(v1, v2)\n",
      "    let v4 : string = $\"calculate_dice_count / max: {10} / n: {2} / p: {36}\"\n",
      "    let v5 : UH0 = UH0_1\n",
      "    let v6 : int32 = 0\n",
      "    let v7 : int32 = method1(v5, v6)\n",
      "    let v8 : string = $\"calculate_dice_count / max: {10} / n: {2} / p: {36}\"\n",
      "    let v9 : UH0 = UH0_1\n",
      "    let v10 : int32 = 0\n",
      "    let v11 : int32 = method1(v9, v10)\n",
      "    let v12 : string = $\"calculate_dice_count / max: {10} / n: {2} / p: {36}\"\n",
      "    let v13 : UH0 = UH0_1\n",
      "    let v14 : int32 = 0\n",
      "    let v15 : int32 = method1(v13, v14)\n",
      "    let v16 : string = $\"calculate_dice_count / max: {10} / n: {2} / p: {36}\"\n",
      "    let v17 : UH0 = UH0_1\n",
      "    let v18 : int32 = 0\n",
      "    let v19 : int32 = method1(v17, v18)\n",
      "    let v20 : string = $\"calculate_dice_count / max: {10} / n: {2} / p: {36}\"\n",
      "    let v21 : UH0 = UH0_1\n",
      "    let v22 : int32 = 0\n",
      "    let v23 : int32 = method1(v21, v22)\n",
      "    let v24 : string = $\"calculate_dice_count / max: {10} / n: {2} / p: {36}\"\n",
      "    let v25 : UH0 = UH0_1\n",
      "    let v26 : int32 = 0\n",
      "    let v27 : int32 = method1(v25, v26)\n",
      "    let v28 : string = $\"calculate_dice_count / max: {10} / n: {2} / p: {36}\"\n",
      "    let v29 : UH0 = UH0_1\n",
      "    let v30 : int32 = 0\n",
      "    let v31 : int32 = method1(v29, v30)\n",
      "    let v32 : string = $\"calculate_dice_count / max: {10} / n: {2} / p: {36}\"\n",
      "    let v33 : UH0 = UH0_1\n",
      "    let v34 : int32 = 0\n",
      "    let v35 : int32 = method1(v33, v34)\n",
      "    let v36 : string = $\"calculate_dice_count / max: {10} / n: {2} / p: {36}\"\n",
      "    let v37 : UH0 = UH0_1\n",
      "    let v38 : int32 = 0\n",
      "    let v39 : int32 = method1(v37, v38)\n",
      "    let v40 : string = $\"calculate_dice_count / max: {10} / n: {2} / p: {36}\"\n",
      "    let v41 : UH0 = UH0_1\n",
      "    let v42 : int32 = 0\n",
      "    let v43 : int32 = method1(v41, v42)\n",
      "    let v44 : string = $\"calculate_dice_count / max: {10} / n: {2} / p: {36}\"\n",
      "    let v45 : UH0 = UH0_1\n",
      "    let v46 : int32 = 0\n",
      "    let v47 : int32 = method1(v45, v46)\n",
      "    let v48 : string = $\"calculate_dice_count / max: {10} / n: {2} / p: {36}\"\n",
      "    let v49 : UH0 = UH0_1\n",
      "    let v50 : int32 = 0\n",
      "    let v51 : int32 = method1(v49, v50)\n",
      "    let v52 : string = $\"calculate_dice_count / max: {10} / n: {2} / p: {36}\"\n",
      "    let v53 : UH0 = UH0_1\n",
      "    let v54 : int32 = 0\n",
      "    let v55 : int32 = method1(v53, v54)\n",
      "    let v56 : string = $\"calculate_dice_count / max: {10} / n: {2} / p: {36}\"\n",
      "    let v57 : UH0 = UH0_1\n",
      "    let v58 : int32 = 0\n",
      "    let v59 : int32 = method1(v57, v58)\n",
      "    let v60 : string = $\"calculate_dice_count / max: {10} / n: {2} / p: {36}\"\n",
      "    let v61 : UH0 = UH0_1\n",
      "    let v62 : int32 = 0\n",
      "    let v63 : int32 = method1(v61, v62)\n",
      "    let v64 : string = $\"calculate_dice_count / max: {10} / n: {2} / p: {36}\"\n",
      "    let v65 : UH0 = UH0_1\n",
      "    let v66 : int32 = 0\n",
      "    let v67 : int32 = method1(v65, v66)\n",
      "    let v68 : string = $\"calculate_dice_count / max: {10} / n: {2} / p: {36}\"\n",
      "    let v69 : UH0 = UH0_1\n",
      "    let v70 : int32 = 0\n",
      "    let v71 : int32 = method1(v69, v70)\n",
      "    let v72 : string = $\"calculate_dice_count / max: {10} / n: {2} / p: {36}\"\n",
      "    let v73 : UH0 = UH0_1\n",
      "    let v74 : int32 = 0\n",
      "    let v75 : int32 = method1(v73, v74)\n",
      "    let v76 : string = $\"calculate_dice_count / max: {10} / n: {2} / p: {36}\"\n",
      "    let v77 : UH0 = UH0_1\n",
      "    let v78 : int32 = 0\n",
      "    let v79 : int32 = method1(v77, v78)\n",
      "    let v80 : string = $\"calculate_dice_count / max: {10} / n: {2} / p: {36}\"\n",
      "    let v81 : UH0 = UH0_1\n",
      "    let v82 : int32 = 0\n",
      "    let v83 : int32 = method1(v81, v82)\n",
      "    let v84 : string = $\"calculate_dice_count / max: {10} / n: {2} / p: {36}\"\n",
      "    let v85 : UH0 = UH0_1\n",
      "    let v86 : int32 = 0\n",
      "    let v87 : int32 = method1(v85, v86)\n",
      "    let v88 : string = $\"calculate_dice_count / max: {10} / n: {2} / p: {36}\"\n",
      "    let v89 : UH0 = UH0_1\n",
      "    let v90 : int32 = 0\n",
      "    let v91 : int32 = method1(v89, v90)\n",
      "    let v92 : string = $\"calculate_dice_count / max: {10} / n: {2} / p: {36}\"\n",
      "    let v93 : UH0 = UH0_1\n",
      "    let v94 : int32 = 0\n",
      "    let v95 : int32 = method1(v93, v94)\n",
      "    let v96 : string = $\"calculate_dice_count / max: {10} / n: {2} / p: {36}\"\n",
      "    let v97 : UH0 = UH0_1\n",
      "    let v98 : int32 = 0\n",
      "    let v99 : int32 = method1(v97, v98)\n",
      "    let v100 : string = $\"calculate_dice_count / max: {10} / n: {2} / p: {36}\"\n",
      "    let v101 : UH0 = UH0_1\n",
      "    let v102 : int32 = 0\n",
      "    let v103 : int32 = method1(v101, v102)\n",
      "    let v104 : string = $\"calculate_dice_count / max: {10} / n: {2} / p: {36}\"\n",
      "    let v105 : UH0 = UH0_1\n",
      "    let v106 : int32 = 0\n",
      "    let v107 : int32 = method1(v105, v106)\n",
      "    let v108 : string = $\"calculate_dice_count / max: {10} / n: {2} / p: {36}\"\n",
      "    let v109 : UH0 = UH0_1\n",
      "    let v110 : int32 = 0\n",
      "    let v111 : int32 = method1(v109, v110)\n",
      "    let v112 : string = $\"calculate_dice_count / max: {10} / n: {2} / p: {36}\"\n",
      "    let v113 : UH0 = UH0_1\n",
      "    let v114 : int32 = 0\n",
      "    let v115 : int32 = method1(v113, v114)\n",
      "    let v116 : string = $\"calculate_dice_count / max: {10} / n: {2} / p: {36}\"\n",
      "    let v117 : UH0 = UH0_1\n",
      "    let v118 : int32 = 0\n",
      "    let v119 : int32 = method1(v117, v118)\n",
      "    let v120 : string = $\"calculate_dice_count / max: {10} / n: {2} / p: {36}\"\n",
      "    let v121 : UH0 = UH0_1\n",
      "    let v122 : int32 = 0\n",
      "    let v123 : int32 = method1(v121, v122)\n",
      "    let v124 : string = $\"calculate_dice_count / max: {10} / n: {2} / p: {36}\"\n",
      "    let v125 : UH0 = UH0_1\n",
      "    let v126 : int32 = 0\n",
      "    let v127 : int32 = method1(v125, v126)\n",
      "    let v128 : string = $\"calculate_dice_count / max: {10} / n: {2} / p: {36}\"\n",
      "    let v129 : UH0 = UH0_1\n",
      "    let v130 : int32 = 0\n",
      "    let v131 : int32 = method1(v129, v130)\n",
      "    let v132 : string = $\"calculate_dice_count / max: {10} / n: {2} / p: {36}\"\n",
      "    let v133 : UH0 = UH0_1\n",
      "    let v134 : int32 = 0\n",
      "    let v135 : int32 = method1(v133, v134)\n",
      "    let v136 : string = $\"calculate_dice_count / max: {10} / n: {2} / p: {36}\"\n",
      "    let v137 : UH0 = UH0_1\n",
      "    let v138 : int32 = 0\n",
      "    let v139 : int32 = method1(v137, v138)\n",
      "    let v140 : string = $\"calculate_dice_count / max: {10} / n: {2} / p: {36}\"\n",
      "    let v141 : UH0 = UH0_1\n",
      "    let v142 : int32 = 0\n",
      "    let v143 : int32 = method1(v141, v142)\n",
      "    let v144 : string = $\"calculate_dice_count / max: {10} / n: {2} / p: {36}\"\n",
      "    let v145 : UH0 = UH0_1\n",
      "    let v146 : int32 = 0\n",
      "    let v147 : int32 = method1(v145, v146)\n",
      "    let v148 : string = $\"calculate_dice_count / max: {10} / n: {2} / p: {36}\"\n",
      "    let v149 : UH0 = UH0_1\n",
      "    let v150 : int32 = 0\n",
      "    let v151 : int32 = method1(v149, v150)\n",
      "    let v152 : string = $\"calculate_dice_count / max: {10} / n: {2} / p: {36}\"\n",
      "    let v153 : UH0 = UH0_1\n",
      "    let v154 : int32 = 0\n",
      "    let v155 : int32 = method1(v153, v154)\n",
      "    let v156 : string = $\"calculate_dice_count / max: {10} / n: {2} / p: {36}\"\n",
      "    let v157 : UH0 = UH0_1\n",
      "    let v158 : int32 = 0\n",
      "    let v159 : int32 = method1(v157, v158)\n",
      "    let v160 : bool = v3 = v7\n",
      "    let struct (v170 : bool, v171 : UH1) =\n",
      "        if v160 then\n",
      "            let v161 : UH0 = UH0_1\n",
      "            let v162 : UH0 = UH0_0(v3, v161)\n",
      "            let v163 : UH0 = UH0_0(v7, v162)\n",
      "            let v164 : UH1 = UH1_1\n",
      "            let v165 : UH1 = UH1_0(v3, v163, v164)\n",
      "            struct (true, v165)\n",
      "        else\n",
      "            let v166 : UH0 = UH0_1\n",
      "            let v167 : UH0 = UH0_0(v3, v166)\n",
      "            let v168 : UH1 = UH1_1\n",
      "            let v169 : UH1 = UH1_0(v3, v167, v168)\n",
      "            struct (false, v169)\n",
      "    let v175 : UH1 =\n",
      "        if v170 then\n",
      "            v171\n",
      "        else\n",
      "            let v172 : UH0 = UH0_1\n",
      "            let v173 : UH0 = UH0_0(v7, v172)\n",
      "            UH1_0(v7, v173, v171)\n",
      "    let v176 : bool = false\n",
      "    let v177 : UH1 = UH1_1\n",
      "    let struct (v178 : bool, v179 : UH1) = method5(v11, v175, v176, v177)\n",
      "    let v183 : UH1 =\n",
      "        if v178 then\n",
      "            v179\n",
      "        else\n",
      "            let v180 : UH0 = UH0_1\n",
      "            let v181 : UH0 = UH0_0(v11, v180)\n",
      "            UH1_0(v11, v181, v179)\n",
      "    let v184 : bool = false\n",
      "    let v185 : UH1 = UH1_1\n",
      "    let struct (v186 : bool, v187 : UH1) = method5(v15, v183, v184, v185)\n",
      "    let v191 : UH1 =\n",
      "        if v186 then\n",
      "            v187\n",
      "        else\n",
      "            let v188 : UH0 = UH0_1\n",
      "            let v189 : UH0 = UH0_0(v15, v188)\n",
      "            UH1_0(v15, v189, v187)\n",
      "    let v192 : bool = false\n",
      "    let v193 : UH1 = UH1_1\n",
      "    let struct (v194 : bool, v195 : UH1) = method5(v19, v191, v192, v193)\n",
      "    let v199 : UH1 =\n",
      "        if v194 then\n",
      "            v195\n",
      "        else\n",
      "            let v196 : UH0 = UH0_1\n",
      "            let v197 : UH0 = UH0_0(v19, v196)\n",
      "            UH1_0(v19, v197, v195)\n",
      "    let v200 : bool = false\n",
      "    let v201 : UH1 = UH1_1\n",
      "    let struct (v202 : bool, v203 : UH1) = method5(v23, v199, v200, v201)\n",
      "    let v207 : UH1 =\n",
      "        if v202 then\n",
      "            v203\n",
      "        else\n",
      "            let v204 : UH0 = UH0_1\n",
      "            let v205 : UH0 = UH0_0(v23, v204)\n",
      "            UH1_0(v23, v205, v203)\n",
      "    let v208 : bool = false\n",
      "    let v209 : UH1 = UH1_1\n",
      "    let struct (v210 : bool, v211 : UH1) = method5(v27, v207, v208, v209)\n",
      "    let v215 : UH1 =\n",
      "        if v210 then\n",
      "            v211\n",
      "        else\n",
      "            let v212 : UH0 = UH0_1\n",
      "            let v213 : UH0 = UH0_0(v27, v212)\n",
      "            UH1_0(v27, v213, v211)\n",
      "    let v216 : bool = false\n",
      "    let v217 : UH1 = UH1_1\n",
      "    let struct (v218 : bool, v219 : UH1) = method5(v31, v215, v216, v217)\n",
      "    let v223 : UH1 =\n",
      "        if v218 then\n",
      "            v219\n",
      "        else\n",
      "            let v220 : UH0 = UH0_1\n",
      "            let v221 : UH0 = UH0_0(v31, v220)\n",
      "            UH1_0(v31, v221, v219)\n",
      "    let v224 : bool = false\n",
      "    let v225 : UH1 = UH1_1\n",
      "    let struct (v226 : bool, v227 : UH1) = method5(v35, v223, v224, v225)\n",
      "    let v231 : UH1 =\n",
      "        if v226 then\n",
      "            v227\n",
      "        else\n",
      "            let v228 : UH0 = UH0_1\n",
      "            let v229 : UH0 = UH0_0(v35, v228)\n",
      "            UH1_0(v35, v229, v227)\n",
      "    let v232 : bool = false\n",
      "    let v233 : UH1 = UH1_1\n",
      "    let struct (v234 : bool, v235 : UH1) = method5(v39, v231, v232, v233)\n",
      "    let v239 : UH1 =\n",
      "        if v234 then\n",
      "            v235\n",
      "        else\n",
      "            let v236 : UH0 = UH0_1\n",
      "            let v237 : UH0 = UH0_0(v39, v236)\n",
      "            UH1_0(v39, v237, v235)\n",
      "    let v240 : bool = false\n",
      "    let v241 : UH1 = UH1_1\n",
      "    let struct (v242 : bool, v243 : UH1) = method5(v43, v239, v240, v241)\n",
      "    let v247 : UH1 =\n",
      "        if v242 then\n",
      "            v243\n",
      "        else\n",
      "            let v244 : UH0 = UH0_1\n",
      "            let v245 : UH0 = UH0_0(v43, v244)\n",
      "            UH1_0(v43, v245, v243)\n",
      "    let v248 : bool = false\n",
      "    let v249 : UH1 = UH1_1\n",
      "    let struct (v250 : bool, v251 : UH1) = method5(v47, v247, v248, v249)\n",
      "    let v255 : UH1 =\n",
      "        if v250 then\n",
      "            v251\n",
      "        else\n",
      "            let v252 : UH0 = UH0_1\n",
      "            let v253 : UH0 = UH0_0(v47, v252)\n",
      "            UH1_0(v47, v253, v251)\n",
      "    let v256 : bool = false\n",
      "    let v257 : UH1 = UH1_1\n",
      "    let struct (v258 : bool, v259 : UH1) = method5(v51, v255, v256, v257)\n",
      "    let v263 : UH1 =\n",
      "        if v258 then\n",
      "            v259\n",
      "        else\n",
      "            let v260 : UH0 = UH0_1\n",
      "            let v261 : UH0 = UH0_0(v51, v260)\n",
      "            UH1_0(v51, v261, v259)\n",
      "    let v264 : bool = false\n",
      "    let v265 : UH1 = UH1_1\n",
      "    let struct (v266 : bool, v267 : UH1) = method5(v55, v263, v264, v265)\n",
      "    let v271 : UH1 =\n",
      "        if v266 then\n",
      "            v267\n",
      "        else\n",
      "            let v268 : UH0 = UH0_1\n",
      "            let v269 : UH0 = UH0_0(v55, v268)\n",
      "            UH1_0(v55, v269, v267)\n",
      "    let v272 : bool = false\n",
      "    let v273 : UH1 = UH1_1\n",
      "    let struct (v274 : bool, v275 : UH1) = method5(v59, v271, v272, v273)\n",
      "    let v279 : UH1 =\n",
      "        if v274 then\n",
      "            v275\n",
      "        else\n",
      "            let v276 : UH0 = UH0_1\n",
      "            let v277 : UH0 = UH0_0(v59, v276)\n",
      "            UH1_0(v59, v277, v275)\n",
      "    let v280 : bool = false\n",
      "    let v281 : UH1 = UH1_1\n",
      "    let struct (v282 : bool, v283 : UH1) = method5(v63, v279, v280, v281)\n",
      "    let v287 : UH1 =\n",
      "        if v282 then\n",
      "            v283\n",
      "        else\n",
      "            let v284 : UH0 = UH0_1\n",
      "            let v285 : UH0 = UH0_0(v63, v284)\n",
      "            UH1_0(v63, v285, v283)\n",
      "    let v288 : bool = false\n",
      "    let v289 : UH1 = UH1_1\n",
      "    let struct (v290 : bool, v291 : UH1) = method5(v67, v287, v288, v289)\n",
      "    let v295 : UH1 =\n",
      "        if v290 then\n",
      "            v291\n",
      "        else\n",
      "            let v292 : UH0 = UH0_1\n",
      "            let v293 : UH0 = UH0_0(v67, v292)\n",
      "            UH1_0(v67, v293, v291)\n",
      "    let v296 : bool = false\n",
      "    let v297 : UH1 = UH1_1\n",
      "    let struct (v298 : bool, v299 : UH1) = method5(v71, v295, v296, v297)\n",
      "    let v303 : UH1 =\n",
      "        if v298 then\n",
      "            v299\n",
      "        else\n",
      "            let v300 : UH0 = UH0_1\n",
      "            let v301 : UH0 = UH0_0(v71, v300)\n",
      "            UH1_0(v71, v301, v299)\n",
      "    let v304 : bool = false\n",
      "    let v305 : UH1 = UH1_1\n",
      "    let struct (v306 : bool, v307 : UH1) = method5(v75, v303, v304, v305)\n",
      "    let v311 : UH1 =\n",
      "        if v306 then\n",
      "            v307\n",
      "        else\n",
      "            let v308 : UH0 = UH0_1\n",
      "            let v309 : UH0 = UH0_0(v75, v308)\n",
      "            UH1_0(v75, v309, v307)\n",
      "    let v312 : bool = false\n",
      "    let v313 : UH1 = UH1_1\n",
      "    let struct (v314 : bool, v315 : UH1) = method5(v79, v311, v312, v313)\n",
      "    let v319 : UH1 =\n",
      "        if v314 then\n",
      "            v315\n",
      "        else\n",
      "            let v316 : UH0 = UH0_1\n",
      "            let v317 : UH0 = UH0_0(v79, v316)\n",
      "            UH1_0(v79, v317, v315)\n",
      "    let v320 : bool = false\n",
      "    let v321 : UH1 = UH1_1\n",
      "    let struct (v322 : bool, v323 : UH1) = method5(v83, v319, v320, v321)\n",
      "    let v327 : UH1 =\n",
      "        if v322 then\n",
      "            v323\n",
      "        else\n",
      "            let v324 : UH0 = UH0_1\n",
      "            let v325 : UH0 = UH0_0(v83, v324)\n",
      "            UH1_0(v83, v325, v323)\n",
      "    let v328 : bool = false\n",
      "    let v329 : UH1 = UH1_1\n",
      "    let struct (v330 : bool, v331 : UH1) = method5(v87, v327, v328, v329)\n",
      "    let v335 : UH1 =\n",
      "        if v330 then\n",
      "            v331\n",
      "        else\n",
      "            let v332 : UH0 = UH0_1\n",
      "            let v333 : UH0 = UH0_0(v87, v332)\n",
      "            UH1_0(v87, v333, v331)\n",
      "    let v336 : bool = false\n",
      "    let v337 : UH1 = UH1_1\n",
      "    let struct (v338 : bool, v339 : UH1) = method5(v91, v335, v336, v337)\n",
      "    let v343 : UH1 =\n",
      "        if v338 then\n",
      "            v339\n",
      "        else\n",
      "            let v340 : UH0 = UH0_1\n",
      "            let v341 : UH0 = UH0_0(v91, v340)\n",
      "            UH1_0(v91, v341, v339)\n",
      "    let v344 : bool = false\n",
      "    let v345 : UH1 = UH1_1\n",
      "    let struct (v346 : bool, v347 : UH1) = method5(v95, v343, v344, v345)\n",
      "    let v351 : UH1 =\n",
      "        if v346 then\n",
      "            v347\n",
      "        else\n",
      "            let v348 : UH0 = UH0_1\n",
      "            let v349 : UH0 = UH0_0(v95, v348)\n",
      "            UH1_0(v95, v349, v347)\n",
      "    let v352 : bool = false\n",
      "    let v353 : UH1 = UH1_1\n",
      "    let struct (v354 : bool, v355 : UH1) = method5(v99, v351, v352, v353)\n",
      "    let v359 : UH1 =\n",
      "        if v354 then\n",
      "            v355\n",
      "        else\n",
      "            let v356 : UH0 = UH0_1\n",
      "            let v357 : UH0 = UH0_0(v99, v356)\n",
      "            UH1_0(v99, v357, v355)\n",
      "    let v360 : bool = false\n",
      "    let v361 : UH1 = UH1_1\n",
      "    let struct (v362 : bool, v363 : UH1) = method5(v103, v359, v360, v361)\n",
      "    let v367 : UH1 =\n",
      "        if v362 then\n",
      "            v363\n",
      "        else\n",
      "            let v364 : UH0 = UH0_1\n",
      "            let v365 : UH0 = UH0_0(v103, v364)\n",
      "            UH1_0(v103, v365, v363)\n",
      "    let v368 : bool = false\n",
      "    let v369 : UH1 = UH1_1\n",
      "    let struct (v370 : bool, v371 : UH1) = method5(v107, v367, v368, v369)\n",
      "    let v375 : UH1 =\n",
      "        if v370 then\n",
      "            v371\n",
      "        else\n",
      "            let v372 : UH0 = UH0_1\n",
      "            let v373 : UH0 = UH0_0(v107, v372)\n",
      "            UH1_0(v107, v373, v371)\n",
      "    let v376 : bool = false\n",
      "    let v377 : UH1 = UH1_1\n",
      "    let struct (v378 : bool, v379 : UH1) = method5(v111, v375, v376, v377)\n",
      "    let v383 : UH1 =\n",
      "        if v378 then\n",
      "            v379\n",
      "        else\n",
      "            let v380 : UH0 = UH0_1\n",
      "            let v381 : UH0 = UH0_0(v111, v380)\n",
      "            UH1_0(v111, v381, v379)\n",
      "    let v384 : bool = false\n",
      "    let v385 : UH1 = UH1_1\n",
      "    let struct (v386 : bool, v387 : UH1) = method5(v115, v383, v384, v385)\n",
      "    let v391 : UH1 =\n",
      "        if v386 then\n",
      "            v387\n",
      "        else\n",
      "            let v388 : UH0 = UH0_1\n",
      "            let v389 : UH0 = UH0_0(v115, v388)\n",
      "            UH1_0(v115, v389, v387)\n",
      "    let v392 : bool = false\n",
      "    let v393 : UH1 = UH1_1\n",
      "    let struct (v394 : bool, v395 : UH1) = method5(v119, v391, v392, v393)\n",
      "    let v399 : UH1 =\n",
      "        if v394 then\n",
      "            v395\n",
      "        else\n",
      "            let v396 : UH0 = UH0_1\n",
      "            let v397 : UH0 = UH0_0(v119, v396)\n",
      "            UH1_0(v119, v397, v395)\n",
      "    let v400 : bool = false\n",
      "    let v401 : UH1 = UH1_1\n",
      "    let struct (v402 : bool, v403 : UH1) = method5(v123, v399, v400, v401)\n",
      "    let v407 : UH1 =\n",
      "        if v402 then\n",
      "            v403\n",
      "        else\n",
      "            let v404 : UH0 = UH0_1\n",
      "            let v405 : UH0 = UH0_0(v123, v404)\n",
      "            UH1_0(v123, v405, v403)\n",
      "    let v408 : bool = false\n",
      "    let v409 : UH1 = UH1_1\n",
      "    let struct (v410 : bool, v411 : UH1) = method5(v127, v407, v408, v409)\n",
      "    let v415 : UH1 =\n",
      "        if v410 then\n",
      "            v411\n",
      "        else\n",
      "            let v412 : UH0 = UH0_1\n",
      "            let v413 : UH0 = UH0_0(v127, v412)\n",
      "            UH1_0(v127, v413, v411)\n",
      "    let v416 : bool = false\n",
      "    let v417 : UH1 = UH1_1\n",
      "    let struct (v418 : bool, v419 : UH1) = method5(v131, v415, v416, v417)\n",
      "    let v423 : UH1 =\n",
      "        if v418 then\n",
      "            v419\n",
      "        else\n",
      "            let v420 : UH0 = UH0_1\n",
      "            let v421 : UH0 = UH0_0(v131, v420)\n",
      "            UH1_0(v131, v421, v419)\n",
      "    let v424 : bool = false\n",
      "    let v425 : UH1 = UH1_1\n",
      "    let struct (v426 : bool, v427 : UH1) = method5(v135, v423, v424, v425)\n",
      "    let v431 : UH1 =\n",
      "        if v426 then\n",
      "            v427\n",
      "        else\n",
      "            let v428 : UH0 = UH0_1\n",
      "            let v429 : UH0 = UH0_0(v135, v428)\n",
      "            UH1_0(v135, v429, v427)\n",
      "    let v432 : bool = false\n",
      "    let v433 : UH1 = UH1_1\n",
      "    let struct (v434 : bool, v435 : UH1) = method5(v139, v431, v432, v433)\n",
      "    let v439 : UH1 =\n",
      "        if v434 then\n",
      "            v435\n",
      "        else\n",
      "            let v436 : UH0 = UH0_1\n",
      "            let v437 : UH0 = UH0_0(v139, v436)\n",
      "            UH1_0(v139, v437, v435)\n",
      "    let v440 : bool = false\n",
      "    let v441 : UH1 = UH1_1\n",
      "    let struct (v442 : bool, v443 : UH1) = method5(v143, v439, v440, v441)\n",
      "    let v447 : UH1 =\n",
      "        if v442 then\n",
      "            v443\n",
      "        else\n",
      "            let v444 : UH0 = UH0_1\n",
      "            let v445 : UH0 = UH0_0(v143, v444)\n",
      "            UH1_0(v143, v445, v443)\n",
      "    let v448 : bool = false\n",
      "    let v449 : UH1 = UH1_1\n",
      "    let struct (v450 : bool, v451 : UH1) = method5(v147, v447, v448, v449)\n",
      "    let v455 : UH1 =\n",
      "        if v450 then\n",
      "            v451\n",
      "        else\n",
      "            let v452 : UH0 = UH0_1\n",
      "            let v453 : UH0 = UH0_0(v147, v452)\n",
      "            UH1_0(v147, v453, v451)\n",
      "    let v456 : bool = false\n",
      "    let v457 : UH1 = UH1_1\n",
      "    let struct (v458 : bool, v459 : UH1) = method5(v151, v455, v456, v457)\n",
      "    let v463 : UH1 =\n",
      "        if v458 then\n",
      "            v459\n",
      "        else\n",
      "            let v460 : UH0 = UH0_1\n",
      "            let v461 : UH0 = UH0_0(v151, v460)\n",
      "            UH1_0(v151, v461, v459)\n",
      "    let v464 : bool = false\n",
      "    let v465 : UH1 = UH1_1\n",
      "    let struct (v466 : bool, v467 : UH1) = method5(v155, v463, v464, v465)\n",
      "    let v471 : UH1 =\n",
      "        if v466 then\n",
      "            v467\n",
      "        else\n",
      "            let v468 : UH0 = UH0_1\n",
      "            let v469 : UH0 = UH0_0(v155, v468)\n",
      "            UH1_0(v155, v469, v467)\n",
      "    let v472 : bool = false\n",
      "    let v473 : UH1 = UH1_1\n",
      "    let struct (v474 : bool, v475 : UH1) = method5(v159, v471, v472, v473)\n",
      "    let v479 : UH1 =\n",
      "        if v474 then\n",
      "            v475\n",
      "        else\n",
      "            let v476 : UH0 = UH0_1\n",
      "            let v477 : UH0 = UH0_0(v159, v476)\n",
      "            UH1_0(v159, v477, v475)\n",
      "    let v480 : UH2 = UH2_1\n",
      "    let v481 : UH2 = method6(v479, v480)\n",
      "    let v482 : (struct (int32 * int32) []) = method8(v481)\n",
      "    let v483 : (struct (int32 * int32) []) = v482 |> Array.sortBy (fun (struct (a, b)) -> a)\n",
      "    v483\n",
      "method0()\n",
      "\r\n"
     ]
    }
   ],
   "source": [
    "// // test\n",
    "\n",
    "listm'.init_series 1i32 40 1\n",
    "|> listm.map (fun _ => roll_progressively None roll_dice false 10)\n",
    "|> listm'.group_by id\n",
    "|> listm.map (fun (k, v) => k, (listm.length v : i32))\n",
    "|> listm.toArray\n",
    "|> fun (ar : a i32 _) =>\n",
    "    $\"!ar |> Array.sortBy (fun (struct (a, b)) -> a)\" : a i32 $\"struct (int32 * int32)\""
   ]
  },
  {
   "cell_type": "code",
   "execution_count": null,
   "metadata": {
    "dotnet_interactive": {
     "language": "spiral"
    },
    "polyglot_notebook": {
     "kernelName": "spiral"
    }
   },
   "outputs": [
    {
     "data": {
      "text/html": [
       "<table><thead><tr><th><i>index</i></th><th>value</th></tr></thead><tbody><tr><td>0</td><td><details class=\"dni-treeview\"><summary><span class=\"dni-code-hint\"><code>(1, 1)</code></span></summary><div><table><thead><tr></tr></thead><tbody><tr><td>Item1</td><td><div class=\"dni-plaintext\"><pre>1</pre></div></td></tr><tr><td>Item2</td><td><div class=\"dni-plaintext\"><pre>1</pre></div></td></tr></tbody></table></div></details></td></tr><tr><td>1</td><td><details class=\"dni-treeview\"><summary><span class=\"dni-code-hint\"><code>(2, 3)</code></span></summary><div><table><thead><tr></tr></thead><tbody><tr><td>Item1</td><td><div class=\"dni-plaintext\"><pre>2</pre></div></td></tr><tr><td>Item2</td><td><div class=\"dni-plaintext\"><pre>3</pre></div></td></tr></tbody></table></div></details></td></tr><tr><td>2</td><td><details class=\"dni-treeview\"><summary><span class=\"dni-code-hint\"><code>(3, 3)</code></span></summary><div><table><thead><tr></tr></thead><tbody><tr><td>Item1</td><td><div class=\"dni-plaintext\"><pre>3</pre></div></td></tr><tr><td>Item2</td><td><div class=\"dni-plaintext\"><pre>3</pre></div></td></tr></tbody></table></div></details></td></tr><tr><td>3</td><td><details class=\"dni-treeview\"><summary><span class=\"dni-code-hint\"><code>(4, 5)</code></span></summary><div><table><thead><tr></tr></thead><tbody><tr><td>Item1</td><td><div class=\"dni-plaintext\"><pre>4</pre></div></td></tr><tr><td>Item2</td><td><div class=\"dni-plaintext\"><pre>5</pre></div></td></tr></tbody></table></div></details></td></tr><tr><td>4</td><td><details class=\"dni-treeview\"><summary><span class=\"dni-code-hint\"><code>(5, 4)</code></span></summary><div><table><thead><tr></tr></thead><tbody><tr><td>Item1</td><td><div class=\"dni-plaintext\"><pre>5</pre></div></td></tr><tr><td>Item2</td><td><div class=\"dni-plaintext\"><pre>4</pre></div></td></tr></tbody></table></div></details></td></tr><tr><td>5</td><td><details class=\"dni-treeview\"><summary><span class=\"dni-code-hint\"><code>(6, 4)</code></span></summary><div><table><thead><tr></tr></thead><tbody><tr><td>Item1</td><td><div class=\"dni-plaintext\"><pre>6</pre></div></td></tr><tr><td>Item2</td><td><div class=\"dni-plaintext\"><pre>4</pre></div></td></tr></tbody></table></div></details></td></tr><tr><td>6</td><td><details class=\"dni-treeview\"><summary><span class=\"dni-code-hint\"><code>(7, 1)</code></span></summary><div><table><thead><tr></tr></thead><tbody><tr><td>Item1</td><td><div class=\"dni-plaintext\"><pre>7</pre></div></td></tr><tr><td>Item2</td><td><div class=\"dni-plaintext\"><pre>1</pre></div></td></tr></tbody></table></div></details></td></tr><tr><td>7</td><td><details class=\"dni-treeview\"><summary><span class=\"dni-code-hint\"><code>(8, 5)</code></span></summary><div><table><thead><tr></tr></thead><tbody><tr><td>Item1</td><td><div class=\"dni-plaintext\"><pre>8</pre></div></td></tr><tr><td>Item2</td><td><div class=\"dni-plaintext\"><pre>5</pre></div></td></tr></tbody></table></div></details></td></tr><tr><td>8</td><td><details class=\"dni-treeview\"><summary><span class=\"dni-code-hint\"><code>(9, 7)</code></span></summary><div><table><thead><tr></tr></thead><tbody><tr><td>Item1</td><td><div class=\"dni-plaintext\"><pre>9</pre></div></td></tr><tr><td>Item2</td><td><div class=\"dni-plaintext\"><pre>7</pre></div></td></tr></tbody></table></div></details></td></tr><tr><td>9</td><td><details class=\"dni-treeview\"><summary><span class=\"dni-code-hint\"><code>(10, 7)</code></span></summary><div><table><thead><tr></tr></thead><tbody><tr><td>Item1</td><td><div class=\"dni-plaintext\"><pre>10</pre></div></td></tr><tr><td>Item2</td><td><div class=\"dni-plaintext\"><pre>7</pre></div></td></tr></tbody></table></div></details></td></tr></tbody></table><style>\r\n",
       ".dni-code-hint {\r\n",
       "    font-style: italic;\r\n",
       "    overflow: hidden;\r\n",
       "    white-space: nowrap;\r\n",
       "}\r\n",
       ".dni-treeview {\r\n",
       "    white-space: nowrap;\r\n",
       "}\r\n",
       ".dni-treeview td {\r\n",
       "    vertical-align: top;\r\n",
       "    text-align: start;\r\n",
       "}\r\n",
       "details.dni-treeview {\r\n",
       "    padding-left: 1em;\r\n",
       "}\r\n",
       "table td {\r\n",
       "    text-align: start;\r\n",
       "}\r\n",
       "table tr { \r\n",
       "    vertical-align: top; \r\n",
       "    margin: 0em 0px;\r\n",
       "}\r\n",
       "table tr td pre \r\n",
       "{ \r\n",
       "    vertical-align: top !important; \r\n",
       "    margin: 0em 0px !important;\r\n",
       "} \r\n",
       "table th {\r\n",
       "    text-align: start;\r\n",
       "}\r\n",
       "</style>"
      ]
     },
     "metadata": {},
     "output_type": "display_data"
    }
   ],
   "source": [
    "// // test\n",
    "// // print_code=false\n",
    "\n",
    "listm'.init_series 1i32 40 1\n",
    "|> listm.map (fun _ => roll_progressively None roll_dice true 10)\n",
    "|> listm'.group_by id\n",
    "|> listm.map (fun (k, v) => k, (listm.length v : i32))\n",
    "|> listm.toArray\n",
    "|> fun (ar : a i32 _) =>\n",
    "    $\"!ar |> Array.sortBy (fun (struct (a, b)) -> a)\" : a i32 $\"struct (int32 * int32)\""
   ]
  },
  {
   "cell_type": "markdown",
   "metadata": {},
   "source": [
    "## main"
   ]
  },
  {
   "cell_type": "code",
   "execution_count": null,
   "metadata": {
    "dotnet_interactive": {
     "language": "fsharp"
    },
    "polyglot_notebook": {
     "kernelName": "fsharp"
    }
   },
   "outputs": [],
   "source": [
    "let main args =\n",
    "    let result = rollWithinBounds (Some (printfn \"%s\")) 2000 [ 1; 5; 4; 4; 5 ]\n",
    "    trace Debug (fun () -> $\"main / result: {result |> Option.defaultValue -1}\") getLocals\n",
    "    0"
   ]
  }
 ],
 "metadata": {},
 "nbformat": 4,
 "nbformat_minor": 5
}