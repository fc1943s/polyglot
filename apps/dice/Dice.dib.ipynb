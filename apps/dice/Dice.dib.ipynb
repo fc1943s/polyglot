{
 "cells": [
  {
   "cell_type": "markdown",
   "metadata": {},
   "source": [
    "# Dice (Polyglot)"
   ]
  },
  {
   "cell_type": "code",
   "execution_count": null,
   "metadata": {
    "dotnet_interactive": {
     "language": "fsharp"
    },
    "polyglot_notebook": {
     "kernelName": "fsharp"
    }
   },
   "outputs": [],
   "source": [
    "#!import ../nbs/Testing.dib"
   ]
  },
  {
   "cell_type": "code",
   "execution_count": null,
   "metadata": {
    "dotnet_interactive": {
     "language": "fsharp"
    },
    "polyglot_notebook": {
     "kernelName": "fsharp"
    }
   },
   "outputs": [],
   "source": [
    "#!import ../nbs/Common.fs"
   ]
  },
  {
   "cell_type": "code",
   "execution_count": null,
   "metadata": {
    "dotnet_interactive": {
     "language": "fsharp"
    },
    "polyglot_notebook": {
     "kernelName": "fsharp"
    }
   },
   "outputs": [],
   "source": [
    "open Common"
   ]
  },
  {
   "cell_type": "code",
   "execution_count": null,
   "metadata": {
    "dotnet_interactive": {
     "language": "spiral"
    },
    "polyglot_notebook": {
     "kernelName": "spiral"
    }
   },
   "outputs": [
    {
     "name": "stdout",
     "output_type": "stream",
     "text": [
      "()\n",
      "\r\n"
     ]
    }
   ],
   "source": [
    "open testing"
   ]
  },
  {
   "cell_type": "markdown",
   "metadata": {},
   "source": [
    "## sixthPowerSequence"
   ]
  },
  {
   "cell_type": "code",
   "execution_count": null,
   "metadata": {
    "dotnet_interactive": {
     "language": "fsharp"
    },
    "polyglot_notebook": {
     "kernelName": "fsharp"
    }
   },
   "outputs": [],
   "source": [
    "let sixthPowerSequence = 1 |> Seq.unfold (fun state -> Some (state, state * 6)) |> Seq.cache"
   ]
  },
  {
   "cell_type": "code",
   "execution_count": null,
   "metadata": {
    "dotnet_interactive": {
     "language": "fsharp"
    },
    "polyglot_notebook": {
     "kernelName": "fsharp"
    }
   },
   "outputs": [
    {
     "name": "stdout",
     "output_type": "stream",
     "text": [
      "[ 1, 6, 36, 216, 1296, 7776, 46656, 279936 ]\r\n"
     ]
    }
   ],
   "source": [
    "//// test\n",
    "\n",
    "sixthPowerSequence\n",
    "|> Seq.take 8\n",
    "|> Seq.toList\n",
    "|> _equal [ 1; 6; 36; 216; 1296; 7776; 46656; 279936 ]"
   ]
  },
  {
   "cell_type": "code",
   "execution_count": null,
   "metadata": {
    "dotnet_interactive": {
     "language": "spiral"
    },
    "polyglot_notebook": {
     "kernelName": "spiral"
    }
   },
   "outputs": [
    {
     "name": "stdout",
     "output_type": "stream",
     "text": [
      "()\n",
      "\r\n"
     ]
    }
   ],
   "source": [
    "inl sixth_power_sequence () =\n",
    "    stream.iterate ((*) 6) 1i32"
   ]
  },
  {
   "cell_type": "code",
   "execution_count": null,
   "metadata": {
    "dotnet_interactive": {
     "language": "spiral"
    },
    "polyglot_notebook": {
     "kernelName": "spiral"
    }
   },
   "outputs": [
    {
     "name": "stdout",
     "output_type": "stream",
     "text": [
      "type UH0 =\n",
      "    | UH0_0 of int32 * UH0\n",
      "    | UH0_1\n",
      "let rec method0 () : unit =\n",
      "    let v63 : UH0 = UH0_1\n",
      "    let v64 : UH0 = UH0_0(279936, v63)\n",
      "    let v65 : UH0 = UH0_0(46656, v64)\n",
      "    let v66 : UH0 = UH0_0(7776, v65)\n",
      "    let v67 : UH0 = UH0_0(1296, v66)\n",
      "    let v68 : UH0 = UH0_0(216, v67)\n",
      "    let v69 : UH0 = UH0_0(36, v68)\n",
      "    let v70 : UH0 = UH0_0(6, v69)\n",
      "    let v71 : UH0 = UH0_0(1, v70)\n",
      "    let v72 : UH0 = UH0_1\n",
      "    let v73 : UH0 = UH0_0(279936, v72)\n",
      "    let v74 : UH0 = UH0_0(46656, v73)\n",
      "    let v75 : UH0 = UH0_0(7776, v74)\n",
      "    let v76 : UH0 = UH0_0(1296, v75)\n",
      "    let v77 : UH0 = UH0_0(216, v76)\n",
      "    let v78 : UH0 = UH0_0(36, v77)\n",
      "    let v79 : UH0 = UH0_0(6, v78)\n",
      "    let v80 : UH0 = UH0_0(1, v79)\n",
      "    let v81 : string = $\"_equal / actual: %A{v71} / expected: %A{v80}\"\n",
      "    ()\n",
      "method0()\n",
      "\r\n"
     ]
    }
   ],
   "source": [
    "// // test\n",
    "\n",
    "sixth_power_sequence ()\n",
    "|> stream.take_while (fun _ i => i <= 7i32)\n",
    "|> stream.to_list\n",
    "|> _equal [ 1i32; 6; 36; 216; 1296; 7776; 46656; 279936 ]"
   ]
  },
  {
   "cell_type": "markdown",
   "metadata": {},
   "source": [
    "## accumulateDiceRolls"
   ]
  },
  {
   "cell_type": "code",
   "execution_count": null,
   "metadata": {
    "dotnet_interactive": {
     "language": "fsharp"
    },
    "polyglot_notebook": {
     "kernelName": "fsharp"
    }
   },
   "outputs": [],
   "source": [
    "let rec accumulateDiceRolls log rolls power acc =\n",
    "    match rolls with\n",
    "    | _ when power < 0 ->\n",
    "        log |> Option.iter ((|>) $\"accumulateDiceRolls / power: {power} / acc: {acc}\")\n",
    "        Some (acc + 1, rolls)\n",
    "    | [] -> None\n",
    "    | roll :: rest when roll > 1 ->\n",
    "        let coeff = sixthPowerSequence |> Seq.item power\n",
    "        let value = (roll - 1) * coeff\n",
    "        log |> Option.iter ((|>) $\"accumulateDiceRolls / \\\n",
    "            power: {power} / acc: {acc} / roll: {roll} / value: {value}\"\n",
    "        )\n",
    "        accumulateDiceRolls log rest (power - 1) (acc + value)\n",
    "    | roll :: rest ->\n",
    "        log |> Option.iter ((|>) $\"accumulateDiceRolls / power: {power} / acc: {acc} / roll: {roll}\")\n",
    "        accumulateDiceRolls log rest (power - 1) acc"
   ]
  },
  {
   "cell_type": "code",
   "execution_count": null,
   "metadata": {
    "dotnet_interactive": {
     "language": "fsharp"
    },
    "polyglot_notebook": {
     "kernelName": "fsharp"
    }
   },
   "outputs": [
    {
     "name": "stdout",
     "output_type": "stream",
     "text": [
      "accumulateDiceRolls / power: 0 / acc: 1000 / roll: 6 / value: 5\r\n",
      "accumulateDiceRolls / power: -1 / acc: 1005\r\n",
      "FSharpOption<Tuple<Int32,FSharpList<Int32>>>\r\n",
      "      Value:       - 1006\r\n",
      "      - [ 5, 4, 3, 2 ]\r\n"
     ]
    }
   ],
   "source": [
    "//// test\n",
    "\n",
    "accumulateDiceRolls (Some (printfn \"%s\")) [ 6; 5; 4; 3; 2 ] 0 1000\n",
    "|> _equal (Some (1006, [ 5; 4; 3; 2 ]))"
   ]
  },
  {
   "cell_type": "code",
   "execution_count": null,
   "metadata": {
    "dotnet_interactive": {
     "language": "fsharp"
    },
    "polyglot_notebook": {
     "kernelName": "fsharp"
    }
   },
   "outputs": [
    {
     "name": "stdout",
     "output_type": "stream",
     "text": [
      "accumulateDiceRolls / power: 1 / acc: 1000 / roll: 6 / value: 30\r\n",
      "accumulateDiceRolls / power: 0 / acc: 1030 / roll: 5 / value: 4\r\n",
      "accumulateDiceRolls / power: -1 / acc: 1034\r\n",
      "FSharpOption<Tuple<Int32,FSharpList<Int32>>>\r\n",
      "      Value:       - 1035\r\n",
      "      - [ 4, 3, 2 ]\r\n"
     ]
    }
   ],
   "source": [
    "//// test\n",
    "\n",
    "accumulateDiceRolls (Some (printfn \"%s\")) [ 6; 5; 4; 3; 2 ] 1 1000\n",
    "|> _equal (Some (1035, [ 4; 3; 2 ]))"
   ]
  },
  {
   "cell_type": "code",
   "execution_count": null,
   "metadata": {
    "dotnet_interactive": {
     "language": "fsharp"
    },
    "polyglot_notebook": {
     "kernelName": "fsharp"
    }
   },
   "outputs": [
    {
     "name": "stdout",
     "output_type": "stream",
     "text": [
      "accumulateDiceRolls / power: 2 / acc: 1000 / roll: 6 / value: 180\r\n",
      "accumulateDiceRolls / power: 1 / acc: 1180 / roll: 5 / value: 24\r\n",
      "accumulateDiceRolls / power: 0 / acc: 1204 / roll: 4 / value: 3\r\n",
      "accumulateDiceRolls / power: -1 / acc: 1207\r\n",
      "FSharpOption<Tuple<Int32,FSharpList<Int32>>>\r\n",
      "      Value:       - 1208\r\n",
      "      - [ 3, 2 ]\r\n"
     ]
    }
   ],
   "source": [
    "//// test\n",
    "\n",
    "accumulateDiceRolls (Some (printfn \"%s\")) [ 6; 5; 4; 3; 2 ] 2 1000\n",
    "|> _equal (Some (1208, [ 3; 2 ]))"
   ]
  },
  {
   "cell_type": "code",
   "execution_count": null,
   "metadata": {
    "dotnet_interactive": {
     "language": "spiral"
    },
    "polyglot_notebook": {
     "kernelName": "spiral"
    }
   },
   "outputs": [
    {
     "name": "stdout",
     "output_type": "stream",
     "text": [
      "()\n",
      "\r\n"
     ]
    }
   ],
   "source": [
    "inl rec accumulate_dice_rolls (log : option (string -> ())) rolls power acc =\n",
    "    match rolls with\n",
    "    | _ when power < 0 =>\n",
    "        log |> optionm'.iter ((|>) $\"$\\\"accumulate_dice_rolls / power: {!power} / acc: {!acc}\\\"\")\n",
    "        Some (acc + 1, rolls)\n",
    "    | [] => None\n",
    "    | roll :: rest when roll > 1 =>\n",
    "        inl coeff = sixth_power_sequence () |> stream.item power\n",
    "        inl value = (roll - 1) * coeff\n",
    "        log |> optionm'.iter ((|>) $\"$\\\"accumulate_dice_rolls / power: {!power} / acc: {!acc} / roll: {!roll} / value: {!value}\\\"\"\n",
    "        )\n",
    "        accumulate_dice_rolls log rest (power - 1) (acc + value)\n",
    "    | roll :: rest =>\n",
    "        log |> optionm'.iter ((|>) $\"$\\\"accumulate_dice_rolls / power: {!power} / acc: {!acc} / roll: {!roll}\\\"\")\n",
    "        accumulate_dice_rolls log rest (power - 1) acc"
   ]
  },
  {
   "cell_type": "code",
   "execution_count": null,
   "metadata": {
    "dotnet_interactive": {
     "language": "spiral"
    },
    "polyglot_notebook": {
     "kernelName": "spiral"
    }
   },
   "outputs": [
    {
     "name": "stdout",
     "output_type": "stream",
     "text": [
      "type UH0 =\n",
      "    | UH0_0 of int32 * UH0\n",
      "    | UH0_1\n",
      "and [<Struct>] US0 =\n",
      "    | US0_0\n",
      "    | US0_1 of f1_0 : int32 * f1_1 : UH0\n",
      "let rec method0 () : unit =\n",
      "    let v0 : string = $\"accumulate_dice_rolls / power: {0} / acc: {1000} / roll: {6} / value: {5}\"\n",
      "    System.Console.WriteLine v0\n",
      "    let v1 : string = $\"accumulate_dice_rolls / power: {-1} / acc: {1005}\"\n",
      "    System.Console.WriteLine v1\n",
      "    let v35 : UH0 = UH0_1\n",
      "    let v36 : UH0 = UH0_0(2, v35)\n",
      "    let v37 : UH0 = UH0_0(3, v36)\n",
      "    let v38 : UH0 = UH0_0(4, v37)\n",
      "    let v39 : UH0 = UH0_0(5, v38)\n",
      "    let v40 : US0 = US0_1(1006, v39)\n",
      "    let v41 : UH0 = UH0_1\n",
      "    let v42 : UH0 = UH0_0(2, v41)\n",
      "    let v43 : UH0 = UH0_0(3, v42)\n",
      "    let v44 : UH0 = UH0_0(4, v43)\n",
      "    let v45 : UH0 = UH0_0(5, v44)\n",
      "    let v46 : US0 = US0_1(1006, v45)\n",
      "    let v47 : string = $\"_equal / actual: %A{v40} / expected: %A{v46}\"\n",
      "    ()\n",
      "method0()\n",
      "\r\n",
      "accumulate_dice_rolls / power: 0 / acc: 1000 / roll: 6 / value: 5\r\n",
      "accumulate_dice_rolls / power: -1 / acc: 1005\r\n"
     ]
    }
   ],
   "source": [
    "// // test\n",
    "\n",
    "accumulate_dice_rolls (Some console.write_line) [ 6; 5; 4; 3; 2 ] 0i32 1000\n",
    "|> _equal (Some (1006, [ 5; 4; 3; 2 ]))"
   ]
  },
  {
   "cell_type": "code",
   "execution_count": null,
   "metadata": {
    "dotnet_interactive": {
     "language": "spiral"
    },
    "polyglot_notebook": {
     "kernelName": "spiral"
    }
   },
   "outputs": [
    {
     "name": "stdout",
     "output_type": "stream",
     "text": [
      "type UH0 =\n",
      "    | UH0_0 of int32 * UH0\n",
      "    | UH0_1\n",
      "and [<Struct>] US0 =\n",
      "    | US0_0\n",
      "    | US0_1 of f1_0 : int32 * f1_1 : UH0\n",
      "let rec method0 () : unit =\n",
      "    let v0 : string = $\"accumulate_dice_rolls / power: {1} / acc: {1000} / roll: {6} / value: {30}\"\n",
      "    System.Console.WriteLine v0\n",
      "    let v1 : string = $\"accumulate_dice_rolls / power: {0} / acc: {1030} / roll: {5} / value: {4}\"\n",
      "    System.Console.WriteLine v1\n",
      "    let v2 : string = $\"accumulate_dice_rolls / power: {-1} / acc: {1034}\"\n",
      "    System.Console.WriteLine v2\n",
      "    let v28 : UH0 = UH0_1\n",
      "    let v29 : UH0 = UH0_0(2, v28)\n",
      "    let v30 : UH0 = UH0_0(3, v29)\n",
      "    let v31 : UH0 = UH0_0(4, v30)\n",
      "    let v32 : US0 = US0_1(1035, v31)\n",
      "    let v33 : UH0 = UH0_1\n",
      "    let v34 : UH0 = UH0_0(2, v33)\n",
      "    let v35 : UH0 = UH0_0(3, v34)\n",
      "    let v36 : UH0 = UH0_0(4, v35)\n",
      "    let v37 : US0 = US0_1(1035, v36)\n",
      "    let v38 : string = $\"_equal / actual: %A{v32} / expected: %A{v37}\"\n",
      "    ()\n",
      "method0()\n",
      "\r\n",
      "accumulate_dice_rolls / power: 1 / acc: 1000 / roll: 6 / value: 30\r\n",
      "accumulate_dice_rolls / power: 0 / acc: 1030 / roll: 5 / value: 4\r\n",
      "accumulate_dice_rolls / power: -1 / acc: 1034\r\n"
     ]
    }
   ],
   "source": [
    "// // test\n",
    "\n",
    "accumulate_dice_rolls (Some console.write_line) [ 6; 5; 4; 3; 2 ] 1i32 1000\n",
    "|> _equal (Some (1035, [ 4; 3; 2 ]))"
   ]
  },
  {
   "cell_type": "code",
   "execution_count": null,
   "metadata": {
    "dotnet_interactive": {
     "language": "spiral"
    },
    "polyglot_notebook": {
     "kernelName": "spiral"
    }
   },
   "outputs": [
    {
     "name": "stdout",
     "output_type": "stream",
     "text": [
      "type UH0 =\n",
      "    | UH0_0 of int32 * UH0\n",
      "    | UH0_1\n",
      "and [<Struct>] US0 =\n",
      "    | US0_0\n",
      "    | US0_1 of f1_0 : int32 * f1_1 : UH0\n",
      "let rec method0 () : unit =\n",
      "    let v0 : string = $\"accumulate_dice_rolls / power: {2} / acc: {1000} / roll: {6} / value: {180}\"\n",
      "    System.Console.WriteLine v0\n",
      "    let v1 : string = $\"accumulate_dice_rolls / power: {1} / acc: {1180} / roll: {5} / value: {24}\"\n",
      "    System.Console.WriteLine v1\n",
      "    let v2 : string = $\"accumulate_dice_rolls / power: {0} / acc: {1204} / roll: {4} / value: {3}\"\n",
      "    System.Console.WriteLine v2\n",
      "    let v3 : string = $\"accumulate_dice_rolls / power: {-1} / acc: {1207}\"\n",
      "    System.Console.WriteLine v3\n",
      "    let v22 : UH0 = UH0_1\n",
      "    let v23 : UH0 = UH0_0(2, v22)\n",
      "    let v24 : UH0 = UH0_0(3, v23)\n",
      "    let v25 : US0 = US0_1(1208, v24)\n",
      "    let v26 : UH0 = UH0_1\n",
      "    let v27 : UH0 = UH0_0(2, v26)\n",
      "    let v28 : UH0 = UH0_0(3, v27)\n",
      "    let v29 : US0 = US0_1(1208, v28)\n",
      "    let v30 : string = $\"_equal / actual: %A{v25} / expected: %A{v29}\"\n",
      "    ()\n",
      "method0()\n",
      "\r\n",
      "accumulate_dice_rolls / power: 2 / acc: 1000 / roll: 6 / value: 180\r\n",
      "accumulate_dice_rolls / power: 1 / acc: 1180 / roll: 5 / value: 24\r\n",
      "accumulate_dice_rolls / power: 0 / acc: 1204 / roll: 4 / value: 3\r\n",
      "accumulate_dice_rolls / power: -1 / acc: 1207\r\n"
     ]
    }
   ],
   "source": [
    "// // test\n",
    "\n",
    "accumulate_dice_rolls (Some console.write_line) [ 6; 5; 4; 3; 2 ] 2i32 1000\n",
    "|> _equal (Some (1208, [ 3; 2 ]))"
   ]
  },
  {
   "cell_type": "markdown",
   "metadata": {},
   "source": [
    "## rollWithinBounds"
   ]
  },
  {
   "cell_type": "code",
   "execution_count": null,
   "metadata": {
    "dotnet_interactive": {
     "language": "fsharp"
    },
    "polyglot_notebook": {
     "kernelName": "fsharp"
    }
   },
   "outputs": [],
   "source": [
    "let rollWithinBounds log max rolls =\n",
    "    let power = List.length rolls - 1\n",
    "    match accumulateDiceRolls log rolls power 0 with\n",
    "    | Some (result, _) when result >= 1 && result <= max -> Some result\n",
    "    | _ -> None"
   ]
  },
  {
   "cell_type": "code",
   "execution_count": null,
   "metadata": {
    "dotnet_interactive": {
     "language": "fsharp"
    },
    "polyglot_notebook": {
     "kernelName": "fsharp"
    }
   },
   "outputs": [
    {
     "name": "stdout",
     "output_type": "stream",
     "text": [
      "accumulateDiceRolls / power: 4 / acc: 0 / roll: 1\r\n",
      "accumulateDiceRolls / power: 3 / acc: 0 / roll: 5 / value: 864\r\n",
      "accumulateDiceRolls / power: 2 / acc: 864 / roll: 4 / value: 108\r\n",
      "accumulateDiceRolls / power: 1 / acc: 972 / roll: 4 / value: 18\r\n",
      "accumulateDiceRolls / power: 0 / acc: 990 / roll: 5 / value: 4\r\n",
      "accumulateDiceRolls / power: -1 / acc: 994\r\n",
      "FSharpOption<Int32>\r\n",
      "      Value: 995\r\n"
     ]
    }
   ],
   "source": [
    "//// test\n",
    "\n",
    "rollWithinBounds (Some (printfn \"%s\")) 2000 [ 1; 5; 4; 4; 5 ]\n",
    "|> _equal (Some 995)"
   ]
  },
  {
   "cell_type": "code",
   "execution_count": null,
   "metadata": {
    "dotnet_interactive": {
     "language": "fsharp"
    },
    "polyglot_notebook": {
     "kernelName": "fsharp"
    }
   },
   "outputs": [
    {
     "name": "stdout",
     "output_type": "stream",
     "text": [
      "accumulateDiceRolls / power: 4 / acc: 0 / roll: 2 / value: 1296\r\n",
      "accumulateDiceRolls / power: 3 / acc: 1296 / roll: 2 / value: 216\r\n",
      "accumulateDiceRolls / power: 2 / acc: 1512 / roll: 6 / value: 180\r\n",
      "accumulateDiceRolls / power: 1 / acc: 1692 / roll: 4 / value: 18\r\n",
      "accumulateDiceRolls / power: 0 / acc: 1710 / roll: 5 / value: 4\r\n",
      "accumulateDiceRolls / power: -1 / acc: 1714\r\n",
      "FSharpOption<Int32>\r\n",
      "      Value: 1715\r\n"
     ]
    }
   ],
   "source": [
    "//// test\n",
    "\n",
    "rollWithinBounds (Some (printfn \"%s\")) 2000 [ 2; 2; 6; 4; 5 ]\n",
    "|> _equal (Some 1715)"
   ]
  },
  {
   "cell_type": "code",
   "execution_count": null,
   "metadata": {
    "dotnet_interactive": {
     "language": "fsharp"
    },
    "polyglot_notebook": {
     "kernelName": "fsharp"
    }
   },
   "outputs": [
    {
     "name": "stdout",
     "output_type": "stream",
     "text": [
      "accumulateDiceRolls / power: 4 / acc: 0 / roll: 4 / value: 3888\r\n",
      "accumulateDiceRolls / power: 3 / acc: 3888 / roll: 1\r\n",
      "accumulateDiceRolls / power: 2 / acc: 3888 / roll: 1\r\n",
      "accumulateDiceRolls / power: 1 / acc: 3888 / roll: 2 / value: 6\r\n",
      "accumulateDiceRolls / power: 0 / acc: 3894 / roll: 3 / value: 2\r\n",
      "accumulateDiceRolls / power: -1 / acc: 3896\r\n",
      "<null>\r\n"
     ]
    }
   ],
   "source": [
    "//// test\n",
    "\n",
    "rollWithinBounds (Some (printfn \"%s\")) 2000 [ 4; 1; 1; 2; 3 ]\n",
    "|> _equal None"
   ]
  },
  {
   "cell_type": "code",
   "execution_count": null,
   "metadata": {
    "dotnet_interactive": {
     "language": "spiral"
    },
    "polyglot_notebook": {
     "kernelName": "spiral"
    }
   },
   "outputs": [
    {
     "name": "stdout",
     "output_type": "stream",
     "text": [
      "()\n",
      "\r\n"
     ]
    }
   ],
   "source": [
    "inl roll_within_bounds (log : option (string -> ())) max rolls =\n",
    "    inl power = listm.length rolls - 1i32\n",
    "    match accumulate_dice_rolls log rolls power 0 with\n",
    "    | Some (result, _) when result >= 1 && result <= max => Some result\n",
    "    | _ => None"
   ]
  },
  {
   "cell_type": "code",
   "execution_count": null,
   "metadata": {
    "dotnet_interactive": {
     "language": "spiral"
    },
    "polyglot_notebook": {
     "kernelName": "spiral"
    }
   },
   "outputs": [
    {
     "name": "stdout",
     "output_type": "stream",
     "text": [
      "type [<Struct>] US0 =\n",
      "    | US0_0\n",
      "    | US0_1 of f1_0 : int32\n",
      "let rec method0 () : unit =\n",
      "    let v0 : string = $\"accumulate_dice_rolls / power: {4} / acc: {0} / roll: {1}\"\n",
      "    System.Console.WriteLine v0\n",
      "    let v1 : string = $\"accumulate_dice_rolls / power: {3} / acc: {0} / roll: {5} / value: {864}\"\n",
      "    System.Console.WriteLine v1\n",
      "    let v2 : string = $\"accumulate_dice_rolls / power: {2} / acc: {864} / roll: {4} / value: {108}\"\n",
      "    System.Console.WriteLine v2\n",
      "    let v3 : string = $\"accumulate_dice_rolls / power: {1} / acc: {972} / roll: {4} / value: {18}\"\n",
      "    System.Console.WriteLine v3\n",
      "    let v4 : string = $\"accumulate_dice_rolls / power: {0} / acc: {990} / roll: {5} / value: {4}\"\n",
      "    System.Console.WriteLine v4\n",
      "    let v5 : string = $\"accumulate_dice_rolls / power: {-1} / acc: {994}\"\n",
      "    System.Console.WriteLine v5\n",
      "    let v9 : US0 = US0_1(995)\n",
      "    let v10 : US0 = US0_1(995)\n",
      "    let v11 : string = $\"_equal / actual: %A{v9} / expected: %A{v10}\"\n",
      "    ()\n",
      "method0()\n",
      "\r\n",
      "accumulate_dice_rolls / power: 4 / acc: 0 / roll: 1\r\n",
      "accumulate_dice_rolls / power: 3 / acc: 0 / roll: 5 / value: 864\r\n",
      "accumulate_dice_rolls / power: 2 / acc: 864 / roll: 4 / value: 108\r\n",
      "accumulate_dice_rolls / power: 1 / acc: 972 / roll: 4 / value: 18\r\n",
      "accumulate_dice_rolls / power: 0 / acc: 990 / roll: 5 / value: 4\r\n",
      "accumulate_dice_rolls / power: -1 / acc: 994\r\n"
     ]
    }
   ],
   "source": [
    "// // test\n",
    "\n",
    "roll_within_bounds (Some console.write_line) 2000 [ 1; 5; 4; 4; 5 ]\n",
    "|> _equal (Some 995)"
   ]
  },
  {
   "cell_type": "code",
   "execution_count": null,
   "metadata": {
    "dotnet_interactive": {
     "language": "spiral"
    },
    "polyglot_notebook": {
     "kernelName": "spiral"
    }
   },
   "outputs": [
    {
     "name": "stdout",
     "output_type": "stream",
     "text": [
      "type [<Struct>] US0 =\n",
      "    | US0_0\n",
      "    | US0_1 of f1_0 : int32\n",
      "let rec method0 () : unit =\n",
      "    let v0 : string = $\"accumulate_dice_rolls / power: {4} / acc: {0} / roll: {2} / value: {1296}\"\n",
      "    System.Console.WriteLine v0\n",
      "    let v1 : string = $\"accumulate_dice_rolls / power: {3} / acc: {1296} / roll: {2} / value: {216}\"\n",
      "    System.Console.WriteLine v1\n",
      "    let v2 : string = $\"accumulate_dice_rolls / power: {2} / acc: {1512} / roll: {6} / value: {180}\"\n",
      "    System.Console.WriteLine v2\n",
      "    let v3 : string = $\"accumulate_dice_rolls / power: {1} / acc: {1692} / roll: {4} / value: {18}\"\n",
      "    System.Console.WriteLine v3\n",
      "    let v4 : string = $\"accumulate_dice_rolls / power: {0} / acc: {1710} / roll: {5} / value: {4}\"\n",
      "    System.Console.WriteLine v4\n",
      "    let v5 : string = $\"accumulate_dice_rolls / power: {-1} / acc: {1714}\"\n",
      "    System.Console.WriteLine v5\n",
      "    let v9 : US0 = US0_1(1715)\n",
      "    let v10 : US0 = US0_1(1715)\n",
      "    let v11 : string = $\"_equal / actual: %A{v9} / expected: %A{v10}\"\n",
      "    ()\n",
      "method0()\n",
      "\r\n",
      "accumulate_dice_rolls / power: 4 / acc: 0 / roll: 2 / value: 1296\r\n",
      "accumulate_dice_rolls / power: 3 / acc: 1296 / roll: 2 / value: 216\r\n",
      "accumulate_dice_rolls / power: 2 / acc: 1512 / roll: 6 / value: 180\r\n",
      "accumulate_dice_rolls / power: 1 / acc: 1692 / roll: 4 / value: 18\r\n",
      "accumulate_dice_rolls / power: 0 / acc: 1710 / roll: 5 / value: 4\r\n",
      "accumulate_dice_rolls / power: -1 / acc: 1714\r\n"
     ]
    }
   ],
   "source": [
    "// // test\n",
    "\n",
    "roll_within_bounds (Some console.write_line) 2000 [ 2; 2; 6; 4; 5 ]\n",
    "|> _equal (Some 1715)"
   ]
  },
  {
   "cell_type": "code",
   "execution_count": null,
   "metadata": {
    "dotnet_interactive": {
     "language": "spiral"
    },
    "polyglot_notebook": {
     "kernelName": "spiral"
    }
   },
   "outputs": [
    {
     "name": "stdout",
     "output_type": "stream",
     "text": [
      "type [<Struct>] US0 =\n",
      "    | US0_0\n",
      "    | US0_1 of f1_0 : int32\n",
      "let rec method0 () : unit =\n",
      "    let v0 : string = $\"accumulate_dice_rolls / power: {4} / acc: {0} / roll: {4} / value: {3888}\"\n",
      "    System.Console.WriteLine v0\n",
      "    let v1 : string = $\"accumulate_dice_rolls / power: {3} / acc: {3888} / roll: {1}\"\n",
      "    System.Console.WriteLine v1\n",
      "    let v2 : string = $\"accumulate_dice_rolls / power: {2} / acc: {3888} / roll: {1}\"\n",
      "    System.Console.WriteLine v2\n",
      "    let v3 : string = $\"accumulate_dice_rolls / power: {1} / acc: {3888} / roll: {2} / value: {6}\"\n",
      "    System.Console.WriteLine v3\n",
      "    let v4 : string = $\"accumulate_dice_rolls / power: {0} / acc: {3894} / roll: {3} / value: {2}\"\n",
      "    System.Console.WriteLine v4\n",
      "    let v5 : string = $\"accumulate_dice_rolls / power: {-1} / acc: {3896}\"\n",
      "    System.Console.WriteLine v5\n",
      "    let v9 : US0 = US0_0\n",
      "    let v10 : US0 = US0_0\n",
      "    let v11 : string = $\"_equal / actual: %A{v9} / expected: %A{v10}\"\n",
      "    ()\n",
      "method0()\n",
      "\r\n",
      "accumulate_dice_rolls / power: 4 / acc: 0 / roll: 4 / value: 3888\r\n",
      "accumulate_dice_rolls / power: 3 / acc: 3888 / roll: 1\r\n",
      "accumulate_dice_rolls / power: 2 / acc: 3888 / roll: 1\r\n",
      "accumulate_dice_rolls / power: 1 / acc: 3888 / roll: 2 / value: 6\r\n",
      "accumulate_dice_rolls / power: 0 / acc: 3894 / roll: 3 / value: 2\r\n",
      "accumulate_dice_rolls / power: -1 / acc: 3896\r\n"
     ]
    }
   ],
   "source": [
    "// // test\n",
    "\n",
    "roll_within_bounds (Some console.write_line) 2000 [ 4; 1; 1; 2; 3 ]\n",
    "|> _equal None"
   ]
  },
  {
   "cell_type": "markdown",
   "metadata": {},
   "source": [
    "## calculateDiceCount"
   ]
  },
  {
   "cell_type": "code",
   "execution_count": null,
   "metadata": {
    "dotnet_interactive": {
     "language": "fsharp"
    },
    "polyglot_notebook": {
     "kernelName": "fsharp"
    }
   },
   "outputs": [],
   "source": [
    "let inline calculateDiceCount log max =\n",
    "    let rec loop n p =\n",
    "        if p < max\n",
    "        then loop (n + 1) (p * 6)\n",
    "        else\n",
    "            log |> Option.iter ((|>) $\"calculateDiceCount / max: {max} / n: {n} / p: {p}\")\n",
    "            n\n",
    "    if max = 1\n",
    "    then 1\n",
    "    else loop 0 1"
   ]
  },
  {
   "cell_type": "code",
   "execution_count": null,
   "metadata": {
    "dotnet_interactive": {
     "language": "fsharp"
    },
    "polyglot_notebook": {
     "kernelName": "fsharp"
    }
   },
   "outputs": [
    {
     "name": "stdout",
     "output_type": "stream",
     "text": [
      "calculateDiceCount / max: 36 / n: 2 / p: 36\r\n",
      "2\r\n"
     ]
    }
   ],
   "source": [
    "//// test\n",
    "\n",
    "calculateDiceCount (Some (printfn \"%s\")) 36\n",
    "|> _equal 2"
   ]
  },
  {
   "cell_type": "code",
   "execution_count": null,
   "metadata": {
    "dotnet_interactive": {
     "language": "fsharp"
    },
    "polyglot_notebook": {
     "kernelName": "fsharp"
    }
   },
   "outputs": [
    {
     "name": "stdout",
     "output_type": "stream",
     "text": [
      "calculateDiceCount / max: 7777 / n: 6 / p: 46656\r\n",
      "6\r\n"
     ]
    }
   ],
   "source": [
    "//// test\n",
    "\n",
    "calculateDiceCount (Some (printfn \"%s\")) 7777\n",
    "|> _equal 6"
   ]
  },
  {
   "cell_type": "code",
   "execution_count": null,
   "metadata": {
    "dotnet_interactive": {
     "language": "spiral"
    },
    "polyglot_notebook": {
     "kernelName": "spiral"
    }
   },
   "outputs": [
    {
     "name": "stdout",
     "output_type": "stream",
     "text": [
      "()\n",
      "\r\n"
     ]
    }
   ],
   "source": [
    "inl calculate_dice_count (log : option (string -> ())) max =\n",
    "    inl rec loop n p =\n",
    "        if p < max\n",
    "        then loop (n + 1) (p * 6)\n",
    "        else\n",
    "            log |> optionm'.iter ((|>) $\"$\\\"calculate_dice_count / max: {!max} / n: {!n} / p: {!p}\\\"\")\n",
    "            n\n",
    "    if max = 1\n",
    "    then 1\n",
    "    else loop 0 1"
   ]
  },
  {
   "cell_type": "code",
   "execution_count": null,
   "metadata": {
    "dotnet_interactive": {
     "language": "spiral"
    },
    "polyglot_notebook": {
     "kernelName": "spiral"
    }
   },
   "outputs": [
    {
     "name": "stdout",
     "output_type": "stream",
     "text": [
      "let rec method0 () : unit =\n",
      "    let v0 : string = $\"calculate_dice_count / max: {36} / n: {2} / p: {36}\"\n",
      "    System.Console.WriteLine v0\n",
      "    let v1 : string = $\"_equal / actual: %A{2} / expected: %A{2}\"\n",
      "    ()\n",
      "method0()\n",
      "\r\n",
      "calculate_dice_count / max: 36 / n: 2 / p: 36\r\n"
     ]
    }
   ],
   "source": [
    "// // test\n",
    "\n",
    "calculate_dice_count (Some console.write_line) 36i32\n",
    "|> _equal 2i32"
   ]
  },
  {
   "cell_type": "code",
   "execution_count": null,
   "metadata": {
    "dotnet_interactive": {
     "language": "spiral"
    },
    "polyglot_notebook": {
     "kernelName": "spiral"
    }
   },
   "outputs": [
    {
     "name": "stdout",
     "output_type": "stream",
     "text": [
      "let rec method0 () : unit =\n",
      "    let v0 : string = $\"calculate_dice_count / max: {7777} / n: {6} / p: {46656}\"\n",
      "    System.Console.WriteLine v0\n",
      "    let v1 : string = $\"_equal / actual: %A{6} / expected: %A{6}\"\n",
      "    ()\n",
      "method0()\n",
      "\r\n",
      "calculate_dice_count / max: 7777 / n: 6 / p: 46656\r\n"
     ]
    }
   ],
   "source": [
    "// // test\n",
    "\n",
    "calculate_dice_count (Some console.write_line) 7777i32\n",
    "|> _equal 6i32"
   ]
  },
  {
   "cell_type": "markdown",
   "metadata": {},
   "source": [
    "## rollDice"
   ]
  },
  {
   "cell_type": "code",
   "execution_count": null,
   "metadata": {
    "dotnet_interactive": {
     "language": "fsharp"
    },
    "polyglot_notebook": {
     "kernelName": "fsharp"
    }
   },
   "outputs": [],
   "source": [
    "#if FABLE_COMPILER_RUST\n",
    "#if !CHAIN\n",
    "let rollDice () : int =\n",
    "    Fable.Core.RustInterop.emitRustExpr () \"rand::Rng::gen_range(&mut rand::thread_rng(), 1..7)\"\n",
    "#endif\n",
    "#else\n",
    "let private random = System.Random ()\n",
    "let rollDice () =\n",
    "    random.Next (1, 7)\n",
    "#endif"
   ]
  },
  {
   "cell_type": "code",
   "execution_count": null,
   "metadata": {
    "dotnet_interactive": {
     "language": "spiral"
    },
    "polyglot_notebook": {
     "kernelName": "spiral"
    }
   },
   "outputs": [
    {
     "name": "stdout",
     "output_type": "stream",
     "text": [
      "()\n",
      "\r\n"
     ]
    }
   ],
   "source": [
    "inl roll_dice () : i32 =\n",
    "    $\"System.Random().Next (1, 7)\""
   ]
  },
  {
   "cell_type": "markdown",
   "metadata": {},
   "source": [
    "## rotateNumber"
   ]
  },
  {
   "cell_type": "code",
   "execution_count": null,
   "metadata": {
    "dotnet_interactive": {
     "language": "fsharp"
    },
    "polyglot_notebook": {
     "kernelName": "fsharp"
    }
   },
   "outputs": [],
   "source": [
    "let rotateNumber max n =\n",
    "    (n - 1 + max) % max + 1"
   ]
  },
  {
   "cell_type": "code",
   "execution_count": null,
   "metadata": {
    "dotnet_interactive": {
     "language": "spiral"
    },
    "polyglot_notebook": {
     "kernelName": "spiral"
    }
   },
   "outputs": [
    {
     "name": "stdout",
     "output_type": "stream",
     "text": [
      "()\n",
      "\r\n"
     ]
    }
   ],
   "source": [
    "inl rotate_number max n =\n",
    "    (n - 1 + max) % max + 1"
   ]
  },
  {
   "cell_type": "markdown",
   "metadata": {},
   "source": [
    "## rotateNumbers"
   ]
  },
  {
   "cell_type": "code",
   "execution_count": null,
   "metadata": {
    "dotnet_interactive": {
     "language": "fsharp"
    },
    "polyglot_notebook": {
     "kernelName": "fsharp"
    }
   },
   "outputs": [],
   "source": [
    "let rotateNumbers max items =\n",
    "    items |> Seq.map (rotateNumber max)"
   ]
  },
  {
   "cell_type": "code",
   "execution_count": null,
   "metadata": {
    "dotnet_interactive": {
     "language": "fsharp"
    },
    "polyglot_notebook": {
     "kernelName": "fsharp"
    }
   },
   "outputs": [
    {
     "name": "stdout",
     "output_type": "stream",
     "text": [
      "[ 5, 6, 1, 2, 3, 4, 5, 6, 1, 2, 3, 4, 5, 6, 1, 2 ]\r\n"
     ]
    }
   ],
   "source": [
    "//// test\n",
    "\n",
    "[ -1 .. 14 ]\n",
    "|> rotateNumbers 6\n",
    "|> Seq.toList\n",
    "|> _equal [ 5; 6; 1; 2; 3; 4; 5; 6; 1; 2; 3; 4; 5; 6; 1; 2 ]"
   ]
  },
  {
   "cell_type": "code",
   "execution_count": null,
   "metadata": {
    "dotnet_interactive": {
     "language": "spiral"
    },
    "polyglot_notebook": {
     "kernelName": "spiral"
    }
   },
   "outputs": [
    {
     "name": "stdout",
     "output_type": "stream",
     "text": [
      "()\n",
      "\r\n"
     ]
    }
   ],
   "source": [
    "inl rotate_numbers max items =\n",
    "    items |> stream.map (rotate_number max)"
   ]
  },
  {
   "cell_type": "code",
   "execution_count": null,
   "metadata": {
    "dotnet_interactive": {
     "language": "spiral"
    },
    "polyglot_notebook": {
     "kernelName": "spiral"
    }
   },
   "outputs": [
    {
     "name": "stdout",
     "output_type": "stream",
     "text": [
      "type UH0 =\n",
      "    | UH0_0 of int32 * UH0\n",
      "    | UH0_1\n",
      "let rec method0 () : unit =\n",
      "    let v187 : UH0 = UH0_1\n",
      "    let v188 : UH0 = UH0_0(2, v187)\n",
      "    let v189 : UH0 = UH0_0(1, v188)\n",
      "    let v190 : UH0 = UH0_0(6, v189)\n",
      "    let v191 : UH0 = UH0_0(5, v190)\n",
      "    let v192 : UH0 = UH0_0(4, v191)\n",
      "    let v193 : UH0 = UH0_0(3, v192)\n",
      "    let v194 : UH0 = UH0_0(2, v193)\n",
      "    let v195 : UH0 = UH0_0(1, v194)\n",
      "    let v196 : UH0 = UH0_0(6, v195)\n",
      "    let v197 : UH0 = UH0_0(5, v196)\n",
      "    let v198 : UH0 = UH0_0(4, v197)\n",
      "    let v199 : UH0 = UH0_0(3, v198)\n",
      "    let v200 : UH0 = UH0_0(2, v199)\n",
      "    let v201 : UH0 = UH0_0(1, v200)\n",
      "    let v202 : UH0 = UH0_0(6, v201)\n",
      "    let v203 : UH0 = UH0_0(5, v202)\n",
      "    let v204 : UH0 = UH0_1\n",
      "    let v205 : UH0 = UH0_0(2, v204)\n",
      "    let v206 : UH0 = UH0_0(1, v205)\n",
      "    let v207 : UH0 = UH0_0(6, v206)\n",
      "    let v208 : UH0 = UH0_0(5, v207)\n",
      "    let v209 : UH0 = UH0_0(4, v208)\n",
      "    let v210 : UH0 = UH0_0(3, v209)\n",
      "    let v211 : UH0 = UH0_0(2, v210)\n",
      "    let v212 : UH0 = UH0_0(1, v211)\n",
      "    let v213 : UH0 = UH0_0(6, v212)\n",
      "    let v214 : UH0 = UH0_0(5, v213)\n",
      "    let v215 : UH0 = UH0_0(4, v214)\n",
      "    let v216 : UH0 = UH0_0(3, v215)\n",
      "    let v217 : UH0 = UH0_0(2, v216)\n",
      "    let v218 : UH0 = UH0_0(1, v217)\n",
      "    let v219 : UH0 = UH0_0(6, v218)\n",
      "    let v220 : UH0 = UH0_0(5, v219)\n",
      "    let v221 : string = $\"_equal / actual: %A{v203} / expected: %A{v220}\"\n",
      "    ()\n",
      "method0()\n",
      "\r\n"
     ]
    }
   ],
   "source": [
    "// // test\n",
    "\n",
    "listm'.init_series -1i32 14 1\n",
    "|> stream.from_list\n",
    "|> rotate_numbers 6\n",
    "|> stream.to_list\n",
    "|> _equal [ 5; 6; 1; 2; 3; 4; 5; 6; 1; 2; 3; 4; 5; 6; 1; 2 ]"
   ]
  },
  {
   "cell_type": "markdown",
   "metadata": {},
   "source": [
    "## createSequentialRoller"
   ]
  },
  {
   "cell_type": "code",
   "execution_count": null,
   "metadata": {
    "dotnet_interactive": {
     "language": "fsharp"
    },
    "polyglot_notebook": {
     "kernelName": "fsharp"
    }
   },
   "outputs": [],
   "source": [
    "let createSequentialRoller list =\n",
    "    let mutable currentIndex = 0\n",
    "    fun () ->\n",
    "        match list |> List.tryItem currentIndex with\n",
    "        | Some item ->\n",
    "            currentIndex <- currentIndex + 1\n",
    "            item\n",
    "        | None ->\n",
    "            failwith \"createSequentialRoller / End of list\""
   ]
  },
  {
   "cell_type": "code",
   "execution_count": null,
   "metadata": {
    "dotnet_interactive": {
     "language": "spiral"
    },
    "polyglot_notebook": {
     "kernelName": "spiral"
    }
   },
   "outputs": [
    {
     "name": "stdout",
     "output_type": "stream",
     "text": [
      "()\n",
      "\r\n"
     ]
    }
   ],
   "source": [
    "inl create_sequential_roller list =\n",
    "    inl current_index = mut 0i32\n",
    "    fun () =>\n",
    "        match list |> listm'.try_item *current_index with\n",
    "        | Some item =>\n",
    "            current_index <- *current_index + 1\n",
    "            item\n",
    "        | None => failwith \"create_sequential_roller / end of list\""
   ]
  },
  {
   "cell_type": "markdown",
   "metadata": {},
   "source": [
    "## rollProgressively"
   ]
  },
  {
   "cell_type": "code",
   "execution_count": null,
   "metadata": {
    "dotnet_interactive": {
     "language": "fsharp"
    },
    "polyglot_notebook": {
     "kernelName": "fsharp"
    }
   },
   "outputs": [],
   "source": [
    "let rollProgressively log roll reroll max =\n",
    "    let power = (calculateDiceCount log max) - 1\n",
    "    let rec loop rolls size =\n",
    "        if size < power + 1\n",
    "        then loop (roll () :: rolls) (size + 1)\n",
    "        else\n",
    "            match accumulateDiceRolls log rolls power 0 with\n",
    "            | Some (result, _) when result <= max -> result\n",
    "            | _ when reroll -> loop (List.init power (fun _ -> roll ())) power\n",
    "            | _ -> loop (roll () :: rolls) (size + 1)\n",
    "    loop [] 0"
   ]
  },
  {
   "cell_type": "code",
   "execution_count": null,
   "metadata": {
    "dotnet_interactive": {
     "language": "fsharp"
    },
    "polyglot_notebook": {
     "kernelName": "fsharp"
    }
   },
   "outputs": [
    {
     "name": "stdout",
     "output_type": "stream",
     "text": [
      "1\r\n"
     ]
    }
   ],
   "source": [
    "//// test\n",
    "\n",
    "rollProgressively None rollDice false 1\n",
    "|> _equal 1"
   ]
  },
  {
   "cell_type": "code",
   "execution_count": null,
   "metadata": {
    "dotnet_interactive": {
     "language": "fsharp"
    },
    "polyglot_notebook": {
     "kernelName": "fsharp"
    }
   },
   "outputs": [
    {
     "name": "stdout",
     "output_type": "stream",
     "text": [
      "calculateDiceCount / max: 2000 / n: 5 / p: 7776\r\n",
      "accumulateDiceRolls / power: 4 / acc: 0 / roll: 1\r\n",
      "accumulateDiceRolls / power: 3 / acc: 0 / roll: 5 / value: 864\r\n",
      "accumulateDiceRolls / power: 2 / acc: 864 / roll: 4 / value: 108\r\n",
      "accumulateDiceRolls / power: 1 / acc: 972 / roll: 4 / value: 18\r\n",
      "accumulateDiceRolls / power: 0 / acc: 990 / roll: 5 / value: 4\r\n",
      "accumulateDiceRolls / power: -1 / acc: 994\r\n",
      "995\r\n"
     ]
    }
   ],
   "source": [
    "//// test\n",
    "\n",
    "let sequentialRoll = createSequentialRoller [ 5; 4; 4; 5; 1 ]\n",
    "\n",
    "rollProgressively (Some (printfn \"%s\")) sequentialRoll false 2000\n",
    "|> _equal 995"
   ]
  },
  {
   "cell_type": "code",
   "execution_count": null,
   "metadata": {
    "dotnet_interactive": {
     "language": "fsharp"
    },
    "polyglot_notebook": {
     "kernelName": "fsharp"
    }
   },
   "outputs": [
    {
     "name": "stdout",
     "output_type": "stream",
     "text": [
      "FSI_0031+it@5-11\r\n",
      "calculateDiceCount / max: 2000 / n: 5 / p: 7776\r\n",
      "accumulateDiceRolls / power: 4 / acc: 0 / roll: 2 / value: 1296\r\n",
      "accumulateDiceRolls / power: 3 / acc: 1296 / roll: 5 / value: 864\r\n",
      "accumulateDiceRolls / power: 2 / acc: 2160 / roll: 4 / value: 108\r\n",
      "accumulateDiceRolls / power: 1 / acc: 2268 / roll: 4 / value: 18\r\n",
      "accumulateDiceRolls / power: 0 / acc: 2286 / roll: 5 / value: 4\r\n",
      "accumulateDiceRolls / power: -1 / acc: 2290\r\n",
      "System.Exception: createSequentialRoller / End of list\r\n"
     ]
    }
   ],
   "source": [
    "//// test\n",
    "\n",
    "let sequentialRoll = createSequentialRoller [ 5; 4; 4; 5; 2 ]\n",
    "\n",
    "fun () -> rollProgressively (Some (printfn \"%s\")) sequentialRoll false 2000 |> ignore\n",
    "|> _throwsC (fun ex _ ->\n",
    "    printException ex\n",
    "    |> _equal \"System.Exception: createSequentialRoller / End of list\"\n",
    ")"
   ]
  },
  {
   "cell_type": "code",
   "execution_count": null,
   "metadata": {
    "dotnet_interactive": {
     "language": "fsharp"
    },
    "polyglot_notebook": {
     "kernelName": "fsharp"
    }
   },
   "outputs": [],
   "source": [
    "//// test\n",
    "\n",
    "[ 1 .. 100 ]\n",
    "|> List.iter (fun n ->\n",
    "    [ 0 .. 1 ]\n",
    "    |> List.iter (fun reroll ->\n",
    "        [ 1 .. 3500 ]\n",
    "        |> List.map (fun _ -> rollProgressively None rollDice (reroll = 1) n)\n",
    "        |> List.groupBy id\n",
    "        |> List.length\n",
    "        |> __equal false n\n",
    "    )\n",
    ")"
   ]
  },
  {
   "cell_type": "code",
   "execution_count": null,
   "metadata": {
    "dotnet_interactive": {
     "language": "spiral"
    },
    "polyglot_notebook": {
     "kernelName": "spiral"
    }
   },
   "outputs": [
    {
     "name": "stdout",
     "output_type": "stream",
     "text": [
      "()\n",
      "\r\n"
     ]
    }
   ],
   "source": [
    "inl roll_progressively (log : option (string -> ())) roll reroll max =\n",
    "    inl power = (calculate_dice_count log max) - 1i32\n",
    "    let rec loop rolls size =\n",
    "        if size < power + 1\n",
    "        then loop (roll () :: rolls) (size + 1)\n",
    "        else\n",
    "            match accumulate_dice_rolls log rolls power 0 with\n",
    "            | Some (result, _) when result <= max => result\n",
    "            | _ when reroll => loop (listm.init power (fun _ => roll ())) power\n",
    "            | _ => loop (roll () :: rolls) (size + 1)\n",
    "    loop [] 0"
   ]
  },
  {
   "cell_type": "code",
   "execution_count": null,
   "metadata": {
    "dotnet_interactive": {
     "language": "spiral"
    },
    "polyglot_notebook": {
     "kernelName": "spiral"
    }
   },
   "outputs": [
    {
     "name": "stdout",
     "output_type": "stream",
     "text": [
      "type UH0 =\n",
      "    | UH0_0 of int32 * UH0\n",
      "    | UH0_1\n",
      "and [<Struct>] US0 =\n",
      "    | US0_0\n",
      "    | US0_1 of f1_0 : int32 * f1_1 : UH0\n",
      "let rec method1 (v0 : UH0, v1 : int32) : int32 =\n",
      "    let v2 : bool = v1 < 1\n",
      "    if v2 then\n",
      "        let v3 : int32 = System.Random().Next (1, 7)\n",
      "        let v4 : UH0 = UH0_0(v3, v0)\n",
      "        let v5 : int32 = v1 + 1\n",
      "        method1(v4, v5)\n",
      "    else\n",
      "        let v21 : US0 =\n",
      "            match v0 with\n",
      "            | UH0_0(v8, v9) -> (* Cons *)\n",
      "                let v10 : bool = v8 > 1\n",
      "                if v10 then\n",
      "                    let v11 : int32 = v8 - 1\n",
      "                    let v12 : string = $\"accumulate_dice_rolls / power: {0} / acc: {0} / roll: {v8} / value: {v11}\"\n",
      "                    let v13 : string = $\"accumulate_dice_rolls / power: {-1} / acc: {v11}\"\n",
      "                    let v14 : int32 = v11 + 1\n",
      "                    US0_1(v14, v9)\n",
      "                else\n",
      "                    let v16 : string = $\"accumulate_dice_rolls / power: {0} / acc: {0} / roll: {v8}\"\n",
      "                    let v17 : string = $\"accumulate_dice_rolls / power: {-1} / acc: {0}\"\n",
      "                    US0_1(1, v9)\n",
      "            | UH0_1 -> (* Nil *)\n",
      "                US0_0\n",
      "        match v21 with\n",
      "        | US0_1(v22, v23) -> (* Some *)\n",
      "            let v24 : bool = v22 <= 1\n",
      "            if v24 then\n",
      "                v22\n",
      "            else\n",
      "                let v25 : int32 = System.Random().Next (1, 7)\n",
      "                let v26 : UH0 = UH0_0(v25, v0)\n",
      "                let v27 : int32 = v1 + 1\n",
      "                method1(v26, v27)\n",
      "        | _ ->\n",
      "            let v30 : int32 = System.Random().Next (1, 7)\n",
      "            let v31 : UH0 = UH0_0(v30, v0)\n",
      "            let v32 : int32 = v1 + 1\n",
      "            method1(v31, v32)\n",
      "and method0 () : unit =\n",
      "    let v0 : UH0 = UH0_1\n",
      "    let v1 : int32 = 0\n",
      "    let v2 : int32 = method1(v0, v1)\n",
      "    let v3 : bool = v2 = 1\n",
      "    let v4 : string = $\"_equal / actual: %A{v2} / expected: %A{1}\"\n",
      "    let v5 : bool = v3 = false\n",
      "    if v5 then\n",
      "        failwith<unit> v4\n",
      "method0()\n",
      "\r\n"
     ]
    }
   ],
   "source": [
    "// // test\n",
    "\n",
    "roll_progressively None roll_dice false 1\n",
    "|> _equal 1"
   ]
  },
  {
   "cell_type": "code",
   "execution_count": null,
   "metadata": {
    "dotnet_interactive": {
     "language": "spiral"
    },
    "polyglot_notebook": {
     "kernelName": "spiral"
    }
   },
   "outputs": [
    {
     "name": "stdout",
     "output_type": "stream",
     "text": [
      "type Mut0 = {mutable l0 : int32}\n",
      "and UH0 =\n",
      "    | UH0_0 of int32 * UH0\n",
      "    | UH0_1\n",
      "and [<Struct>] US0 =\n",
      "    | US0_0\n",
      "    | US0_1 of f1_0 : int32\n",
      "and [<Struct>] US1 =\n",
      "    | US1_0\n",
      "    | US1_1 of f1_0 : int32 * f1_1 : UH0\n",
      "let rec method1 (v0 : Mut0, v1 : UH0, v2 : int32) : int32 =\n",
      "    let v3 : bool = v2 < 5\n",
      "    if v3 then\n",
      "        let v4 : int32 = v0.l0\n",
      "        let v5 : bool = v4 = 0\n",
      "        let v25 : US0 =\n",
      "            if v5 then\n",
      "                US0_1(5)\n",
      "            else\n",
      "                let v7 : int32 = v4 - 1\n",
      "                let v8 : bool = v7 = 0\n",
      "                if v8 then\n",
      "                    US0_1(4)\n",
      "                else\n",
      "                    let v10 : int32 = v7 - 1\n",
      "                    let v11 : bool = v10 = 0\n",
      "                    if v11 then\n",
      "                        US0_1(4)\n",
      "                    else\n",
      "                        let v13 : int32 = v10 - 1\n",
      "                        let v14 : bool = v13 = 0\n",
      "                        if v14 then\n",
      "                            US0_1(5)\n",
      "                        else\n",
      "                            let v16 : int32 = v13 - 1\n",
      "                            let v17 : bool = v16 = 0\n",
      "                            if v17 then\n",
      "                                US0_1(1)\n",
      "                            else\n",
      "                                let v19 : int32 = v16 - 1\n",
      "                                US0_0\n",
      "        let v31 : int32 =\n",
      "            match v25 with\n",
      "            | US0_0 -> (* None *)\n",
      "                failwith<int32> \"create_sequential_roller / end of list\"\n",
      "            | US0_1(v26) -> (* Some *)\n",
      "                let v27 : int32 = v0.l0\n",
      "                let v28 : int32 = v27 + 1\n",
      "                v0.l0 <- v28\n",
      "                v26\n",
      "        let v32 : UH0 = UH0_0(v31, v1)\n",
      "        let v33 : int32 = v2 + 1\n",
      "        method1(v0, v32, v33)\n",
      "    else\n",
      "        let v480 : US1 =\n",
      "            match v1 with\n",
      "            | UH0_0(v36, v37) -> (* Cons *)\n",
      "                let v38 : bool = v36 > 1\n",
      "                if v38 then\n",
      "                    let v39 : int32 = v36 - 1\n",
      "                    let v40 : int32 = v39 * 1296\n",
      "                    let v41 : string = $\"accumulate_dice_rolls / power: {4} / acc: {0} / roll: {v36} / value: {v40}\"\n",
      "                    System.Console.WriteLine v41\n",
      "                    match v37 with\n",
      "                    | UH0_0(v43, v44) -> (* Cons *)\n",
      "                        let v45 : bool = v43 > 1\n",
      "                        if v45 then\n",
      "                            let v46 : int32 = v43 - 1\n",
      "                            let v47 : int32 = v46 * 216\n",
      "                            let v48 : string = $\"accumulate_dice_rolls / power: {3} / acc: {v40} / roll: {v43} / value: {v47}\"\n",
      "                            System.Console.WriteLine v48\n",
      "                            let v49 : int32 = v40 + v47\n",
      "                            match v44 with\n",
      "                            | UH0_0(v51, v52) -> (* Cons *)\n",
      "                                let v53 : bool = v51 > 1\n",
      "                                if v53 then\n",
      "                                    let v54 : int32 = v51 - 1\n",
      "                                    let v55 : int32 = v54 * 36\n",
      "                                    let v56 : string = $\"accumulate_dice_rolls / power: {2} / acc: {v49} / roll: {v51} / value: {v55}\"\n",
      "                                    System.Console.WriteLine v56\n",
      "                                    let v57 : int32 = v49 + v55\n",
      "                                    match v52 with\n",
      "                                    | UH0_0(v59, v60) -> (* Cons *)\n",
      "                                        let v61 : bool = v59 > 1\n",
      "                                        if v61 then\n",
      "                                            let v62 : int32 = v59 - 1\n",
      "                                            let v63 : int32 = v62 * 6\n",
      "                                            let v64 : string = $\"accumulate_dice_rolls / power: {1} / acc: {v57} / roll: {v59} / value: {v63}\"\n",
      "                                            System.Console.WriteLine v64\n",
      "                                            let v65 : int32 = v57 + v63\n",
      "                                            match v60 with\n",
      "                                            | UH0_0(v67, v68) -> (* Cons *)\n",
      "                                                let v69 : bool = v67 > 1\n",
      "                                                if v69 then\n",
      "                                                    let v70 : int32 = v67 - 1\n",
      "                                                    let v71 : string = $\"accumulate_dice_rolls / power: {0} / acc: {v65} / roll: {v67} / value: {v70}\"\n",
      "                                                    System.Console.WriteLine v71\n",
      "                                                    let v72 : int32 = v65 + v70\n",
      "                                                    let v73 : string = $\"accumulate_dice_rolls / power: {-1} / acc: {v72}\"\n",
      "                                                    System.Console.WriteLine v73\n",
      "                                                    let v74 : int32 = v72 + 1\n",
      "                                                    US1_1(v74, v68)\n",
      "                                                else\n",
      "                                                    let v76 : string = $\"accumulate_dice_rolls / power: {0} / acc: {v65} / roll: {v67}\"\n",
      "                                                    System.Console.WriteLine v76\n",
      "                                                    let v77 : string = $\"accumulate_dice_rolls / power: {-1} / acc: {v65}\"\n",
      "                                                    System.Console.WriteLine v77\n",
      "                                                    let v78 : int32 = v65 + 1\n",
      "                                                    US1_1(v78, v68)\n",
      "                                            | UH0_1 -> (* Nil *)\n",
      "                                                US1_0\n",
      "                                        else\n",
      "                                            let v83 : string = $\"accumulate_dice_rolls / power: {1} / acc: {v57} / roll: {v59}\"\n",
      "                                            System.Console.WriteLine v83\n",
      "                                            match v60 with\n",
      "                                            | UH0_0(v85, v86) -> (* Cons *)\n",
      "                                                let v87 : bool = v85 > 1\n",
      "                                                if v87 then\n",
      "                                                    let v88 : int32 = v85 - 1\n",
      "                                                    let v89 : string = $\"accumulate_dice_rolls / power: {0} / acc: {v57} / roll: {v85} / value: {v88}\"\n",
      "                                                    System.Console.WriteLine v89\n",
      "                                                    let v90 : int32 = v57 + v88\n",
      "                                                    let v91 : string = $\"accumulate_dice_rolls / power: {-1} / acc: {v90}\"\n",
      "                                                    System.Console.WriteLine v91\n",
      "                                                    let v92 : int32 = v90 + 1\n",
      "                                                    US1_1(v92, v86)\n",
      "                                                else\n",
      "                                                    let v94 : string = $\"accumulate_dice_rolls / power: {0} / acc: {v57} / roll: {v85}\"\n",
      "                                                    System.Console.WriteLine v94\n",
      "                                                    let v95 : string = $\"accumulate_dice_rolls / power: {-1} / acc: {v57}\"\n",
      "                                                    System.Console.WriteLine v95\n",
      "                                                    let v96 : int32 = v57 + 1\n",
      "                                                    US1_1(v96, v86)\n",
      "                                            | UH0_1 -> (* Nil *)\n",
      "                                                US1_0\n",
      "                                    | UH0_1 -> (* Nil *)\n",
      "                                        US1_0\n",
      "                                else\n",
      "                                    let v104 : string = $\"accumulate_dice_rolls / power: {2} / acc: {v49} / roll: {v51}\"\n",
      "                                    System.Console.WriteLine v104\n",
      "                                    match v52 with\n",
      "                                    | UH0_0(v106, v107) -> (* Cons *)\n",
      "                                        let v108 : bool = v106 > 1\n",
      "                                        if v108 then\n",
      "                                            let v109 : int32 = v106 - 1\n",
      "                                            let v110 : int32 = v109 * 6\n",
      "                                            let v111 : string = $\"accumulate_dice_rolls / power: {1} / acc: {v49} / roll: {v106} / value: {v110}\"\n",
      "                                            System.Console.WriteLine v111\n",
      "                                            let v112 : int32 = v49 + v110\n",
      "                                            match v107 with\n",
      "                                            | UH0_0(v114, v115) -> (* Cons *)\n",
      "                                                let v116 : bool = v114 > 1\n",
      "                                                if v116 then\n",
      "                                                    let v117 : int32 = v114 - 1\n",
      "                                                    let v118 : string = $\"accumulate_dice_rolls / power: {0} / acc: {v112} / roll: {v114} / value: {v117}\"\n",
      "                                                    System.Console.WriteLine v118\n",
      "                                                    let v119 : int32 = v112 + v117\n",
      "                                                    let v120 : string = $\"accumulate_dice_rolls / power: {-1} / acc: {v119}\"\n",
      "                                                    System.Console.WriteLine v120\n",
      "                                                    let v121 : int32 = v119 + 1\n",
      "                                                    US1_1(v121, v115)\n",
      "                                                else\n",
      "                                                    let v123 : string = $\"accumulate_dice_rolls / power: {0} / acc: {v112} / roll: {v114}\"\n",
      "                                                    System.Console.WriteLine v123\n",
      "                                                    let v124 : string = $\"accumulate_dice_rolls / power: {-1} / acc: {v112}\"\n",
      "                                                    System.Console.WriteLine v124\n",
      "                                                    let v125 : int32 = v112 + 1\n",
      "                                                    US1_1(v125, v115)\n",
      "                                            | UH0_1 -> (* Nil *)\n",
      "                                                US1_0\n",
      "                                        else\n",
      "                                            let v130 : string = $\"accumulate_dice_rolls / power: {1} / acc: {v49} / roll: {v106}\"\n",
      "                                            System.Console.WriteLine v130\n",
      "                                            match v107 with\n",
      "                                            | UH0_0(v132, v133) -> (* Cons *)\n",
      "                                                let v134 : bool = v132 > 1\n",
      "                                                if v134 then\n",
      "                                                    let v135 : int32 = v132 - 1\n",
      "                                                    let v136 : string = $\"accumulate_dice_rolls / power: {0} / acc: {v49} / roll: {v132} / value: {v135}\"\n",
      "                                                    System.Console.WriteLine v136\n",
      "                                                    let v137 : int32 = v49 + v135\n",
      "                                                    let v138 : string = $\"accumulate_dice_rolls / power: {-1} / acc: {v137}\"\n",
      "                                                    System.Console.WriteLine v138\n",
      "                                                    let v139 : int32 = v137 + 1\n",
      "                                                    US1_1(v139, v133)\n",
      "                                                else\n",
      "                                                    let v141 : string = $\"accumulate_dice_rolls / power: {0} / acc: {v49} / roll: {v132}\"\n",
      "                                                    System.Console.WriteLine v141\n",
      "                                                    let v142 : string = $\"accumulate_dice_rolls / power: {-1} / acc: {v49}\"\n",
      "                                                    System.Console.WriteLine v142\n",
      "                                                    let v143 : int32 = v49 + 1\n",
      "                                                    US1_1(v143, v133)\n",
      "                                            | UH0_1 -> (* Nil *)\n",
      "                                                US1_0\n",
      "                                    | UH0_1 -> (* Nil *)\n",
      "                                        US1_0\n",
      "                            | UH0_1 -> (* Nil *)\n",
      "                                US1_0\n",
      "                        else\n",
      "                            let v154 : string = $\"accumulate_dice_rolls / power: {3} / acc: {v40} / roll: {v43}\"\n",
      "                            System.Console.WriteLine v154\n",
      "                            match v44 with\n",
      "                            | UH0_0(v156, v157) -> (* Cons *)\n",
      "                                let v158 : bool = v156 > 1\n",
      "                                if v158 then\n",
      "                                    let v159 : int32 = v156 - 1\n",
      "                                    let v160 : int32 = v159 * 36\n",
      "                                    let v161 : string = $\"accumulate_dice_rolls / power: {2} / acc: {v40} / roll: {v156} / value: {v160}\"\n",
      "                                    System.Console.WriteLine v161\n",
      "                                    let v162 : int32 = v40 + v160\n",
      "                                    match v157 with\n",
      "                                    | UH0_0(v164, v165) -> (* Cons *)\n",
      "                                        let v166 : bool = v164 > 1\n",
      "                                        if v166 then\n",
      "                                            let v167 : int32 = v164 - 1\n",
      "                                            let v168 : int32 = v167 * 6\n",
      "                                            let v169 : string = $\"accumulate_dice_rolls / power: {1} / acc: {v162} / roll: {v164} / value: {v168}\"\n",
      "                                            System.Console.WriteLine v169\n",
      "                                            let v170 : int32 = v162 + v168\n",
      "                                            match v165 with\n",
      "                                            | UH0_0(v172, v173) -> (* Cons *)\n",
      "                                                let v174 : bool = v172 > 1\n",
      "                                                if v174 then\n",
      "                                                    let v175 : int32 = v172 - 1\n",
      "                                                    let v176 : string = $\"accumulate_dice_rolls / power: {0} / acc: {v170} / roll: {v172} / value: {v175}\"\n",
      "                                                    System.Console.WriteLine v176\n",
      "                                                    let v177 : int32 = v170 + v175\n",
      "                                                    let v178 : string = $\"accumulate_dice_rolls / power: {-1} / acc: {v177}\"\n",
      "                                                    System.Console.WriteLine v178\n",
      "                                                    let v179 : int32 = v177 + 1\n",
      "                                                    US1_1(v179, v173)\n",
      "                                                else\n",
      "                                                    let v181 : string = $\"accumulate_dice_rolls / power: {0} / acc: {v170} / roll: {v172}\"\n",
      "                                                    System.Console.WriteLine v181\n",
      "                                                    let v182 : string = $\"accumulate_dice_rolls / power: {-1} / acc: {v170}\"\n",
      "                                                    System.Console.WriteLine v182\n",
      "                                                    let v183 : int32 = v170 + 1\n",
      "                                                    US1_1(v183, v173)\n",
      "                                            | UH0_1 -> (* Nil *)\n",
      "                                                US1_0\n",
      "                                        else\n",
      "                                            let v188 : string = $\"accumulate_dice_rolls / power: {1} / acc: {v162} / roll: {v164}\"\n",
      "                                            System.Console.WriteLine v188\n",
      "                                            match v165 with\n",
      "                                            | UH0_0(v190, v191) -> (* Cons *)\n",
      "                                                let v192 : bool = v190 > 1\n",
      "                                                if v192 then\n",
      "                                                    let v193 : int32 = v190 - 1\n",
      "                                                    let v194 : string = $\"accumulate_dice_rolls / power: {0} / acc: {v162} / roll: {v190} / value: {v193}\"\n",
      "                                                    System.Console.WriteLine v194\n",
      "                                                    let v195 : int32 = v162 + v193\n",
      "                                                    let v196 : string = $\"accumulate_dice_rolls / power: {-1} / acc: {v195}\"\n",
      "                                                    System.Console.WriteLine v196\n",
      "                                                    let v197 : int32 = v195 + 1\n",
      "                                                    US1_1(v197, v191)\n",
      "                                                else\n",
      "                                                    let v199 : string = $\"accumulate_dice_rolls / power: {0} / acc: {v162} / roll: {v190}\"\n",
      "                                                    System.Console.WriteLine v199\n",
      "                                                    let v200 : string = $\"accumulate_dice_rolls / power: {-1} / acc: {v162}\"\n",
      "                                                    System.Console.WriteLine v200\n",
      "                                                    let v201 : int32 = v162 + 1\n",
      "                                                    US1_1(v201, v191)\n",
      "                                            | UH0_1 -> (* Nil *)\n",
      "                                                US1_0\n",
      "                                    | UH0_1 -> (* Nil *)\n",
      "                                        US1_0\n",
      "                                else\n",
      "                                    let v209 : string = $\"accumulate_dice_rolls / power: {2} / acc: {v40} / roll: {v156}\"\n",
      "                                    System.Console.WriteLine v209\n",
      "                                    match v157 with\n",
      "                                    | UH0_0(v211, v212) -> (* Cons *)\n",
      "                                        let v213 : bool = v211 > 1\n",
      "                                        if v213 then\n",
      "                                            let v214 : int32 = v211 - 1\n",
      "                                            let v215 : int32 = v214 * 6\n",
      "                                            let v216 : string = $\"accumulate_dice_rolls / power: {1} / acc: {v40} / roll: {v211} / value: {v215}\"\n",
      "                                            System.Console.WriteLine v216\n",
      "                                            let v217 : int32 = v40 + v215\n",
      "                                            match v212 with\n",
      "                                            | UH0_0(v219, v220) -> (* Cons *)\n",
      "                                                let v221 : bool = v219 > 1\n",
      "                                                if v221 then\n",
      "                                                    let v222 : int32 = v219 - 1\n",
      "                                                    let v223 : string = $\"accumulate_dice_rolls / power: {0} / acc: {v217} / roll: {v219} / value: {v222}\"\n",
      "                                                    System.Console.WriteLine v223\n",
      "                                                    let v224 : int32 = v217 + v222\n",
      "                                                    let v225 : string = $\"accumulate_dice_rolls / power: {-1} / acc: {v224}\"\n",
      "                                                    System.Console.WriteLine v225\n",
      "                                                    let v226 : int32 = v224 + 1\n",
      "                                                    US1_1(v226, v220)\n",
      "                                                else\n",
      "                                                    let v228 : string = $\"accumulate_dice_rolls / power: {0} / acc: {v217} / roll: {v219}\"\n",
      "                                                    System.Console.WriteLine v228\n",
      "                                                    let v229 : string = $\"accumulate_dice_rolls / power: {-1} / acc: {v217}\"\n",
      "                                                    System.Console.WriteLine v229\n",
      "                                                    let v230 : int32 = v217 + 1\n",
      "                                                    US1_1(v230, v220)\n",
      "                                            | UH0_1 -> (* Nil *)\n",
      "                                                US1_0\n",
      "                                        else\n",
      "                                            let v235 : string = $\"accumulate_dice_rolls / power: {1} / acc: {v40} / roll: {v211}\"\n",
      "                                            System.Console.WriteLine v235\n",
      "                                            match v212 with\n",
      "                                            | UH0_0(v237, v238) -> (* Cons *)\n",
      "                                                let v239 : bool = v237 > 1\n",
      "                                                if v239 then\n",
      "                                                    let v240 : int32 = v237 - 1\n",
      "                                                    let v241 : string = $\"accumulate_dice_rolls / power: {0} / acc: {v40} / roll: {v237} / value: {v240}\"\n",
      "                                                    System.Console.WriteLine v241\n",
      "                                                    let v242 : int32 = v40 + v240\n",
      "                                                    let v243 : string = $\"accumulate_dice_rolls / power: {-1} / acc: {v242}\"\n",
      "                                                    System.Console.WriteLine v243\n",
      "                                                    let v244 : int32 = v242 + 1\n",
      "                                                    US1_1(v244, v238)\n",
      "                                                else\n",
      "                                                    let v246 : string = $\"accumulate_dice_rolls / power: {0} / acc: {v40} / roll: {v237}\"\n",
      "                                                    System.Console.WriteLine v246\n",
      "                                                    let v247 : string = $\"accumulate_dice_rolls / power: {-1} / acc: {v40}\"\n",
      "                                                    System.Console.WriteLine v247\n",
      "                                                    let v248 : int32 = v40 + 1\n",
      "                                                    US1_1(v248, v238)\n",
      "                                            | UH0_1 -> (* Nil *)\n",
      "                                                US1_0\n",
      "                                    | UH0_1 -> (* Nil *)\n",
      "                                        US1_0\n",
      "                            | UH0_1 -> (* Nil *)\n",
      "                                US1_0\n",
      "                    | UH0_1 -> (* Nil *)\n",
      "                        US1_0\n",
      "                else\n",
      "                    let v262 : string = $\"accumulate_dice_rolls / power: {4} / acc: {0} / roll: {v36}\"\n",
      "                    System.Console.WriteLine v262\n",
      "                    match v37 with\n",
      "                    | UH0_0(v264, v265) -> (* Cons *)\n",
      "                        let v266 : bool = v264 > 1\n",
      "                        if v266 then\n",
      "                            let v267 : int32 = v264 - 1\n",
      "                            let v268 : int32 = v267 * 216\n",
      "                            let v269 : string = $\"accumulate_dice_rolls / power: {3} / acc: {0} / roll: {v264} / value: {v268}\"\n",
      "                            System.Console.WriteLine v269\n",
      "                            match v265 with\n",
      "                            | UH0_0(v271, v272) -> (* Cons *)\n",
      "                                let v273 : bool = v271 > 1\n",
      "                                if v273 then\n",
      "                                    let v274 : int32 = v271 - 1\n",
      "                                    let v275 : int32 = v274 * 36\n",
      "                                    let v276 : string = $\"accumulate_dice_rolls / power: {2} / acc: {v268} / roll: {v271} / value: {v275}\"\n",
      "                                    System.Console.WriteLine v276\n",
      "                                    let v277 : int32 = v268 + v275\n",
      "                                    match v272 with\n",
      "                                    | UH0_0(v279, v280) -> (* Cons *)\n",
      "                                        let v281 : bool = v279 > 1\n",
      "                                        if v281 then\n",
      "                                            let v282 : int32 = v279 - 1\n",
      "                                            let v283 : int32 = v282 * 6\n",
      "                                            let v284 : string = $\"accumulate_dice_rolls / power: {1} / acc: {v277} / roll: {v279} / value: {v283}\"\n",
      "                                            System.Console.WriteLine v284\n",
      "                                            let v285 : int32 = v277 + v283\n",
      "                                            match v280 with\n",
      "                                            | UH0_0(v287, v288) -> (* Cons *)\n",
      "                                                let v289 : bool = v287 > 1\n",
      "                                                if v289 then\n",
      "                                                    let v290 : int32 = v287 - 1\n",
      "                                                    let v291 : string = $\"accumulate_dice_rolls / power: {0} / acc: {v285} / roll: {v287} / value: {v290}\"\n",
      "                                                    System.Console.WriteLine v291\n",
      "                                                    let v292 : int32 = v285 + v290\n",
      "                                                    let v293 : string = $\"accumulate_dice_rolls / power: {-1} / acc: {v292}\"\n",
      "                                                    System.Console.WriteLine v293\n",
      "                                                    let v294 : int32 = v292 + 1\n",
      "                                                    US1_1(v294, v288)\n",
      "                                                else\n",
      "                                                    let v296 : string = $\"accumulate_dice_rolls / power: {0} / acc: {v285} / roll: {v287}\"\n",
      "                                                    System.Console.WriteLine v296\n",
      "                                                    let v297 : string = $\"accumulate_dice_rolls / power: {-1} / acc: {v285}\"\n",
      "                                                    System.Console.WriteLine v297\n",
      "                                                    let v298 : int32 = v285 + 1\n",
      "                                                    US1_1(v298, v288)\n",
      "                                            | UH0_1 -> (* Nil *)\n",
      "                                                US1_0\n",
      "                                        else\n",
      "                                            let v303 : string = $\"accumulate_dice_rolls / power: {1} / acc: {v277} / roll: {v279}\"\n",
      "                                            System.Console.WriteLine v303\n",
      "                                            match v280 with\n",
      "                                            | UH0_0(v305, v306) -> (* Cons *)\n",
      "                                                let v307 : bool = v305 > 1\n",
      "                                                if v307 then\n",
      "                                                    let v308 : int32 = v305 - 1\n",
      "                                                    let v309 : string = $\"accumulate_dice_rolls / power: {0} / acc: {v277} / roll: {v305} / value: {v308}\"\n",
      "                                                    System.Console.WriteLine v309\n",
      "                                                    let v310 : int32 = v277 + v308\n",
      "                                                    let v311 : string = $\"accumulate_dice_rolls / power: {-1} / acc: {v310}\"\n",
      "                                                    System.Console.WriteLine v311\n",
      "                                                    let v312 : int32 = v310 + 1\n",
      "                                                    US1_1(v312, v306)\n",
      "                                                else\n",
      "                                                    let v314 : string = $\"accumulate_dice_rolls / power: {0} / acc: {v277} / roll: {v305}\"\n",
      "                                                    System.Console.WriteLine v314\n",
      "                                                    let v315 : string = $\"accumulate_dice_rolls / power: {-1} / acc: {v277}\"\n",
      "                                                    System.Console.WriteLine v315\n",
      "                                                    let v316 : int32 = v277 + 1\n",
      "                                                    US1_1(v316, v306)\n",
      "                                            | UH0_1 -> (* Nil *)\n",
      "                                                US1_0\n",
      "                                    | UH0_1 -> (* Nil *)\n",
      "                                        US1_0\n",
      "                                else\n",
      "                                    let v324 : string = $\"accumulate_dice_rolls / power: {2} / acc: {v268} / roll: {v271}\"\n",
      "                                    System.Console.WriteLine v324\n",
      "                                    match v272 with\n",
      "                                    | UH0_0(v326, v327) -> (* Cons *)\n",
      "                                        let v328 : bool = v326 > 1\n",
      "                                        if v328 then\n",
      "                                            let v329 : int32 = v326 - 1\n",
      "                                            let v330 : int32 = v329 * 6\n",
      "                                            let v331 : string = $\"accumulate_dice_rolls / power: {1} / acc: {v268} / roll: {v326} / value: {v330}\"\n",
      "                                            System.Console.WriteLine v331\n",
      "                                            let v332 : int32 = v268 + v330\n",
      "                                            match v327 with\n",
      "                                            | UH0_0(v334, v335) -> (* Cons *)\n",
      "                                                let v336 : bool = v334 > 1\n",
      "                                                if v336 then\n",
      "                                                    let v337 : int32 = v334 - 1\n",
      "                                                    let v338 : string = $\"accumulate_dice_rolls / power: {0} / acc: {v332} / roll: {v334} / value: {v337}\"\n",
      "                                                    System.Console.WriteLine v338\n",
      "                                                    let v339 : int32 = v332 + v337\n",
      "                                                    let v340 : string = $\"accumulate_dice_rolls / power: {-1} / acc: {v339}\"\n",
      "                                                    System.Console.WriteLine v340\n",
      "                                                    let v341 : int32 = v339 + 1\n",
      "                                                    US1_1(v341, v335)\n",
      "                                                else\n",
      "                                                    let v343 : string = $\"accumulate_dice_rolls / power: {0} / acc: {v332} / roll: {v334}\"\n",
      "                                                    System.Console.WriteLine v343\n",
      "                                                    let v344 : string = $\"accumulate_dice_rolls / power: {-1} / acc: {v332}\"\n",
      "                                                    System.Console.WriteLine v344\n",
      "                                                    let v345 : int32 = v332 + 1\n",
      "                                                    US1_1(v345, v335)\n",
      "                                            | UH0_1 -> (* Nil *)\n",
      "                                                US1_0\n",
      "                                        else\n",
      "                                            let v350 : string = $\"accumulate_dice_rolls / power: {1} / acc: {v268} / roll: {v326}\"\n",
      "                                            System.Console.WriteLine v350\n",
      "                                            match v327 with\n",
      "                                            | UH0_0(v352, v353) -> (* Cons *)\n",
      "                                                let v354 : bool = v352 > 1\n",
      "                                                if v354 then\n",
      "                                                    let v355 : int32 = v352 - 1\n",
      "                                                    let v356 : string = $\"accumulate_dice_rolls / power: {0} / acc: {v268} / roll: {v352} / value: {v355}\"\n",
      "                                                    System.Console.WriteLine v356\n",
      "                                                    let v357 : int32 = v268 + v355\n",
      "                                                    let v358 : string = $\"accumulate_dice_rolls / power: {-1} / acc: {v357}\"\n",
      "                                                    System.Console.WriteLine v358\n",
      "                                                    let v359 : int32 = v357 + 1\n",
      "                                                    US1_1(v359, v353)\n",
      "                                                else\n",
      "                                                    let v361 : string = $\"accumulate_dice_rolls / power: {0} / acc: {v268} / roll: {v352}\"\n",
      "                                                    System.Console.WriteLine v361\n",
      "                                                    let v362 : string = $\"accumulate_dice_rolls / power: {-1} / acc: {v268}\"\n",
      "                                                    System.Console.WriteLine v362\n",
      "                                                    let v363 : int32 = v268 + 1\n",
      "                                                    US1_1(v363, v353)\n",
      "                                            | UH0_1 -> (* Nil *)\n",
      "                                                US1_0\n",
      "                                    | UH0_1 -> (* Nil *)\n",
      "                                        US1_0\n",
      "                            | UH0_1 -> (* Nil *)\n",
      "                                US1_0\n",
      "                        else\n",
      "                            let v374 : string = $\"accumulate_dice_rolls / power: {3} / acc: {0} / roll: {v264}\"\n",
      "                            System.Console.WriteLine v374\n",
      "                            match v265 with\n",
      "                            | UH0_0(v376, v377) -> (* Cons *)\n",
      "                                let v378 : bool = v376 > 1\n",
      "                                if v378 then\n",
      "                                    let v379 : int32 = v376 - 1\n",
      "                                    let v380 : int32 = v379 * 36\n",
      "                                    let v381 : string = $\"accumulate_dice_rolls / power: {2} / acc: {0} / roll: {v376} / value: {v380}\"\n",
      "                                    System.Console.WriteLine v381\n",
      "                                    match v377 with\n",
      "                                    | UH0_0(v383, v384) -> (* Cons *)\n",
      "                                        let v385 : bool = v383 > 1\n",
      "                                        if v385 then\n",
      "                                            let v386 : int32 = v383 - 1\n",
      "                                            let v387 : int32 = v386 * 6\n",
      "                                            let v388 : string = $\"accumulate_dice_rolls / power: {1} / acc: {v380} / roll: {v383} / value: {v387}\"\n",
      "                                            System.Console.WriteLine v388\n",
      "                                            let v389 : int32 = v380 + v387\n",
      "                                            match v384 with\n",
      "                                            | UH0_0(v391, v392) -> (* Cons *)\n",
      "                                                let v393 : bool = v391 > 1\n",
      "                                                if v393 then\n",
      "                                                    let v394 : int32 = v391 - 1\n",
      "                                                    let v395 : string = $\"accumulate_dice_rolls / power: {0} / acc: {v389} / roll: {v391} / value: {v394}\"\n",
      "                                                    System.Console.WriteLine v395\n",
      "                                                    let v396 : int32 = v389 + v394\n",
      "                                                    let v397 : string = $\"accumulate_dice_rolls / power: {-1} / acc: {v396}\"\n",
      "                                                    System.Console.WriteLine v397\n",
      "                                                    let v398 : int32 = v396 + 1\n",
      "                                                    US1_1(v398, v392)\n",
      "                                                else\n",
      "                                                    let v400 : string = $\"accumulate_dice_rolls / power: {0} / acc: {v389} / roll: {v391}\"\n",
      "                                                    System.Console.WriteLine v400\n",
      "                                                    let v401 : string = $\"accumulate_dice_rolls / power: {-1} / acc: {v389}\"\n",
      "                                                    System.Console.WriteLine v401\n",
      "                                                    let v402 : int32 = v389 + 1\n",
      "                                                    US1_1(v402, v392)\n",
      "                                            | UH0_1 -> (* Nil *)\n",
      "                                                US1_0\n",
      "                                        else\n",
      "                                            let v407 : string = $\"accumulate_dice_rolls / power: {1} / acc: {v380} / roll: {v383}\"\n",
      "                                            System.Console.WriteLine v407\n",
      "                                            match v384 with\n",
      "                                            | UH0_0(v409, v410) -> (* Cons *)\n",
      "                                                let v411 : bool = v409 > 1\n",
      "                                                if v411 then\n",
      "                                                    let v412 : int32 = v409 - 1\n",
      "                                                    let v413 : string = $\"accumulate_dice_rolls / power: {0} / acc: {v380} / roll: {v409} / value: {v412}\"\n",
      "                                                    System.Console.WriteLine v413\n",
      "                                                    let v414 : int32 = v380 + v412\n",
      "                                                    let v415 : string = $\"accumulate_dice_rolls / power: {-1} / acc: {v414}\"\n",
      "                                                    System.Console.WriteLine v415\n",
      "                                                    let v416 : int32 = v414 + 1\n",
      "                                                    US1_1(v416, v410)\n",
      "                                                else\n",
      "                                                    let v418 : string = $\"accumulate_dice_rolls / power: {0} / acc: {v380} / roll: {v409}\"\n",
      "                                                    System.Console.WriteLine v418\n",
      "                                                    let v419 : string = $\"accumulate_dice_rolls / power: {-1} / acc: {v380}\"\n",
      "                                                    System.Console.WriteLine v419\n",
      "                                                    let v420 : int32 = v380 + 1\n",
      "                                                    US1_1(v420, v410)\n",
      "                                            | UH0_1 -> (* Nil *)\n",
      "                                                US1_0\n",
      "                                    | UH0_1 -> (* Nil *)\n",
      "                                        US1_0\n",
      "                                else\n",
      "                                    let v428 : string = $\"accumulate_dice_rolls / power: {2} / acc: {0} / roll: {v376}\"\n",
      "                                    System.Console.WriteLine v428\n",
      "                                    match v377 with\n",
      "                                    | UH0_0(v430, v431) -> (* Cons *)\n",
      "                                        let v432 : bool = v430 > 1\n",
      "                                        if v432 then\n",
      "                                            let v433 : int32 = v430 - 1\n",
      "                                            let v434 : int32 = v433 * 6\n",
      "                                            let v435 : string = $\"accumulate_dice_rolls / power: {1} / acc: {0} / roll: {v430} / value: {v434}\"\n",
      "                                            System.Console.WriteLine v435\n",
      "                                            match v431 with\n",
      "                                            | UH0_0(v437, v438) -> (* Cons *)\n",
      "                                                let v439 : bool = v437 > 1\n",
      "                                                if v439 then\n",
      "                                                    let v440 : int32 = v437 - 1\n",
      "                                                    let v441 : string = $\"accumulate_dice_rolls / power: {0} / acc: {v434} / roll: {v437} / value: {v440}\"\n",
      "                                                    System.Console.WriteLine v441\n",
      "                                                    let v442 : int32 = v434 + v440\n",
      "                                                    let v443 : string = $\"accumulate_dice_rolls / power: {-1} / acc: {v442}\"\n",
      "                                                    System.Console.WriteLine v443\n",
      "                                                    let v444 : int32 = v442 + 1\n",
      "                                                    US1_1(v444, v438)\n",
      "                                                else\n",
      "                                                    let v446 : string = $\"accumulate_dice_rolls / power: {0} / acc: {v434} / roll: {v437}\"\n",
      "                                                    System.Console.WriteLine v446\n",
      "                                                    let v447 : string = $\"accumulate_dice_rolls / power: {-1} / acc: {v434}\"\n",
      "                                                    System.Console.WriteLine v447\n",
      "                                                    let v448 : int32 = v434 + 1\n",
      "                                                    US1_1(v448, v438)\n",
      "                                            | UH0_1 -> (* Nil *)\n",
      "                                                US1_0\n",
      "                                        else\n",
      "                                            let v453 : string = $\"accumulate_dice_rolls / power: {1} / acc: {0} / roll: {v430}\"\n",
      "                                            System.Console.WriteLine v453\n",
      "                                            match v431 with\n",
      "                                            | UH0_0(v455, v456) -> (* Cons *)\n",
      "                                                let v457 : bool = v455 > 1\n",
      "                                                if v457 then\n",
      "                                                    let v458 : int32 = v455 - 1\n",
      "                                                    let v459 : string = $\"accumulate_dice_rolls / power: {0} / acc: {0} / roll: {v455} / value: {v458}\"\n",
      "                                                    System.Console.WriteLine v459\n",
      "                                                    let v460 : string = $\"accumulate_dice_rolls / power: {-1} / acc: {v458}\"\n",
      "                                                    System.Console.WriteLine v460\n",
      "                                                    let v461 : int32 = v458 + 1\n",
      "                                                    US1_1(v461, v456)\n",
      "                                                else\n",
      "                                                    let v463 : string = $\"accumulate_dice_rolls / power: {0} / acc: {0} / roll: {v455}\"\n",
      "                                                    System.Console.WriteLine v463\n",
      "                                                    let v464 : string = $\"accumulate_dice_rolls / power: {-1} / acc: {0}\"\n",
      "                                                    System.Console.WriteLine v464\n",
      "                                                    US1_1(1, v456)\n",
      "                                            | UH0_1 -> (* Nil *)\n",
      "                                                US1_0\n",
      "                                    | UH0_1 -> (* Nil *)\n",
      "                                        US1_0\n",
      "                            | UH0_1 -> (* Nil *)\n",
      "                                US1_0\n",
      "                    | UH0_1 -> (* Nil *)\n",
      "                        US1_0\n",
      "            | UH0_1 -> (* Nil *)\n",
      "                US1_0\n",
      "        match v480 with\n",
      "        | US1_1(v481, v482) -> (* Some *)\n",
      "            let v483 : bool = v481 <= 2000\n",
      "            if v483 then\n",
      "                v481\n",
      "            else\n",
      "                let v484 : int32 = v0.l0\n",
      "                let v485 : bool = v484 = 0\n",
      "                let v505 : US0 =\n",
      "                    if v485 then\n",
      "                        US0_1(5)\n",
      "                    else\n",
      "                        let v487 : int32 = v484 - 1\n",
      "                        let v488 : bool = v487 = 0\n",
      "                        if v488 then\n",
      "                            US0_1(4)\n",
      "                        else\n",
      "                            let v490 : int32 = v487 - 1\n",
      "                            let v491 : bool = v490 = 0\n",
      "                            if v491 then\n",
      "                                US0_1(4)\n",
      "                            else\n",
      "                                let v493 : int32 = v490 - 1\n",
      "                                let v494 : bool = v493 = 0\n",
      "                                if v494 then\n",
      "                                    US0_1(5)\n",
      "                                else\n",
      "                                    let v496 : int32 = v493 - 1\n",
      "                                    let v497 : bool = v496 = 0\n",
      "                                    if v497 then\n",
      "                                        US0_1(1)\n",
      "                                    else\n",
      "                                        let v499 : int32 = v496 - 1\n",
      "                                        US0_0\n",
      "                let v511 : int32 =\n",
      "                    match v505 with\n",
      "                    | US0_0 -> (* None *)\n",
      "                        failwith<int32> \"create_sequential_roller / end of list\"\n",
      "                    | US0_1(v506) -> (* Some *)\n",
      "                        let v507 : int32 = v0.l0\n",
      "                        let v508 : int32 = v507 + 1\n",
      "                        v0.l0 <- v508\n",
      "                        v506\n",
      "                let v512 : UH0 = UH0_0(v511, v1)\n",
      "                let v513 : int32 = v2 + 1\n",
      "                method1(v0, v512, v513)\n",
      "        | _ ->\n",
      "            let v516 : int32 = v0.l0\n",
      "            let v517 : bool = v516 = 0\n",
      "            let v537 : US0 =\n",
      "                if v517 then\n",
      "                    US0_1(5)\n",
      "                else\n",
      "                    let v519 : int32 = v516 - 1\n",
      "                    let v520 : bool = v519 = 0\n",
      "                    if v520 then\n",
      "                        US0_1(4)\n",
      "                    else\n",
      "                        let v522 : int32 = v519 - 1\n",
      "                        let v523 : bool = v522 = 0\n",
      "                        if v523 then\n",
      "                            US0_1(4)\n",
      "                        else\n",
      "                            let v525 : int32 = v522 - 1\n",
      "                            let v526 : bool = v525 = 0\n",
      "                            if v526 then\n",
      "                                US0_1(5)\n",
      "                            else\n",
      "                                let v528 : int32 = v525 - 1\n",
      "                                let v529 : bool = v528 = 0\n",
      "                                if v529 then\n",
      "                                    US0_1(1)\n",
      "                                else\n",
      "                                    let v531 : int32 = v528 - 1\n",
      "                                    US0_0\n",
      "            let v543 : int32 =\n",
      "                match v537 with\n",
      "                | US0_0 -> (* None *)\n",
      "                    failwith<int32> \"create_sequential_roller / end of list\"\n",
      "                | US0_1(v538) -> (* Some *)\n",
      "                    let v539 : int32 = v0.l0\n",
      "                    let v540 : int32 = v539 + 1\n",
      "                    v0.l0 <- v540\n",
      "                    v538\n",
      "            let v544 : UH0 = UH0_0(v543, v1)\n",
      "            let v545 : int32 = v2 + 1\n",
      "            method1(v0, v544, v545)\n",
      "and method0 () : unit =\n",
      "    let v0 : Mut0 = {l0 = 0} : Mut0\n",
      "    let v1 : string = $\"calculate_dice_count / max: {2000} / n: {5} / p: {7776}\"\n",
      "    System.Console.WriteLine v1\n",
      "    let v2 : UH0 = UH0_1\n",
      "    let v3 : int32 = 0\n",
      "    let v4 : int32 = method1(v0, v2, v3)\n",
      "    let v5 : bool = v4 = 995\n",
      "    let v6 : string = $\"_equal / actual: %A{v4} / expected: %A{995}\"\n",
      "    let v7 : bool = v5 = false\n",
      "    if v7 then\n",
      "        failwith<unit> v6\n",
      "method0()\n",
      "\r\n",
      "calculate_dice_count / max: 2000 / n: 5 / p: 7776\r\n",
      "accumulate_dice_rolls / power: 4 / acc: 0 / roll: 1\r\n",
      "accumulate_dice_rolls / power: 3 / acc: 0 / roll: 5 / value: 864\r\n",
      "accumulate_dice_rolls / power: 2 / acc: 864 / roll: 4 / value: 108\r\n",
      "accumulate_dice_rolls / power: 1 / acc: 972 / roll: 4 / value: 18\r\n",
      "accumulate_dice_rolls / power: 0 / acc: 990 / roll: 5 / value: 4\r\n",
      "accumulate_dice_rolls / power: -1 / acc: 994\r\n"
     ]
    }
   ],
   "source": [
    "// // test\n",
    "\n",
    "inl sequential_roll = create_sequential_roller [ 5; 4; 4; 5; 1 ]\n",
    "\n",
    "roll_progressively (Some console.write_line) sequential_roll false 2000\n",
    "|> _equal 995"
   ]
  },
  {
   "cell_type": "code",
   "execution_count": null,
   "metadata": {
    "dotnet_interactive": {
     "language": "spiral"
    },
    "polyglot_notebook": {
     "kernelName": "spiral"
    }
   },
   "outputs": [
    {
     "name": "stdout",
     "output_type": "stream",
     "text": [
      "type Mut0 = {mutable l0 : int32}\n",
      "and UH0 =\n",
      "    | UH0_0 of int32 * UH0\n",
      "    | UH0_1\n",
      "and [<Struct>] US0 =\n",
      "    | US0_0\n",
      "    | US0_1 of f1_0 : int32\n",
      "and [<Struct>] US1 =\n",
      "    | US1_0\n",
      "    | US1_1 of f1_0 : int32 * f1_1 : UH0\n",
      "and [<Struct>] US2 =\n",
      "    | US2_0\n",
      "    | US2_1 of f1_0 : string\n",
      "let rec method1 (v0 : Mut0, v1 : UH0, v2 : int32) : int32 =\n",
      "    let v3 : bool = v2 < 5\n",
      "    if v3 then\n",
      "        let v4 : int32 = v0.l0\n",
      "        let v5 : bool = v4 = 0\n",
      "        let v25 : US0 =\n",
      "            if v5 then\n",
      "                US0_1(5)\n",
      "            else\n",
      "                let v7 : int32 = v4 - 1\n",
      "                let v8 : bool = v7 = 0\n",
      "                if v8 then\n",
      "                    US0_1(4)\n",
      "                else\n",
      "                    let v10 : int32 = v7 - 1\n",
      "                    let v11 : bool = v10 = 0\n",
      "                    if v11 then\n",
      "                        US0_1(4)\n",
      "                    else\n",
      "                        let v13 : int32 = v10 - 1\n",
      "                        let v14 : bool = v13 = 0\n",
      "                        if v14 then\n",
      "                            US0_1(5)\n",
      "                        else\n",
      "                            let v16 : int32 = v13 - 1\n",
      "                            let v17 : bool = v16 = 0\n",
      "                            if v17 then\n",
      "                                US0_1(2)\n",
      "                            else\n",
      "                                let v19 : int32 = v16 - 1\n",
      "                                US0_0\n",
      "        let v31 : int32 =\n",
      "            match v25 with\n",
      "            | US0_0 -> (* None *)\n",
      "                failwith<int32> \"create_sequential_roller / end of list\"\n",
      "            | US0_1(v26) -> (* Some *)\n",
      "                let v27 : int32 = v0.l0\n",
      "                let v28 : int32 = v27 + 1\n",
      "                v0.l0 <- v28\n",
      "                v26\n",
      "        let v32 : UH0 = UH0_0(v31, v1)\n",
      "        let v33 : int32 = v2 + 1\n",
      "        method1(v0, v32, v33)\n",
      "    else\n",
      "        let v480 : US1 =\n",
      "            match v1 with\n",
      "            | UH0_0(v36, v37) -> (* Cons *)\n",
      "                let v38 : bool = v36 > 1\n",
      "                if v38 then\n",
      "                    let v39 : int32 = v36 - 1\n",
      "                    let v40 : int32 = v39 * 1296\n",
      "                    let v41 : string = $\"accumulate_dice_rolls / power: {4} / acc: {0} / roll: {v36} / value: {v40}\"\n",
      "                    System.Console.WriteLine v41\n",
      "                    match v37 with\n",
      "                    | UH0_0(v43, v44) -> (* Cons *)\n",
      "                        let v45 : bool = v43 > 1\n",
      "                        if v45 then\n",
      "                            let v46 : int32 = v43 - 1\n",
      "                            let v47 : int32 = v46 * 216\n",
      "                            let v48 : string = $\"accumulate_dice_rolls / power: {3} / acc: {v40} / roll: {v43} / value: {v47}\"\n",
      "                            System.Console.WriteLine v48\n",
      "                            let v49 : int32 = v40 + v47\n",
      "                            match v44 with\n",
      "                            | UH0_0(v51, v52) -> (* Cons *)\n",
      "                                let v53 : bool = v51 > 1\n",
      "                                if v53 then\n",
      "                                    let v54 : int32 = v51 - 1\n",
      "                                    let v55 : int32 = v54 * 36\n",
      "                                    let v56 : string = $\"accumulate_dice_rolls / power: {2} / acc: {v49} / roll: {v51} / value: {v55}\"\n",
      "                                    System.Console.WriteLine v56\n",
      "                                    let v57 : int32 = v49 + v55\n",
      "                                    match v52 with\n",
      "                                    | UH0_0(v59, v60) -> (* Cons *)\n",
      "                                        let v61 : bool = v59 > 1\n",
      "                                        if v61 then\n",
      "                                            let v62 : int32 = v59 - 1\n",
      "                                            let v63 : int32 = v62 * 6\n",
      "                                            let v64 : string = $\"accumulate_dice_rolls / power: {1} / acc: {v57} / roll: {v59} / value: {v63}\"\n",
      "                                            System.Console.WriteLine v64\n",
      "                                            let v65 : int32 = v57 + v63\n",
      "                                            match v60 with\n",
      "                                            | UH0_0(v67, v68) -> (* Cons *)\n",
      "                                                let v69 : bool = v67 > 1\n",
      "                                                if v69 then\n",
      "                                                    let v70 : int32 = v67 - 1\n",
      "                                                    let v71 : string = $\"accumulate_dice_rolls / power: {0} / acc: {v65} / roll: {v67} / value: {v70}\"\n",
      "                                                    System.Console.WriteLine v71\n",
      "                                                    let v72 : int32 = v65 + v70\n",
      "                                                    let v73 : string = $\"accumulate_dice_rolls / power: {-1} / acc: {v72}\"\n",
      "                                                    System.Console.WriteLine v73\n",
      "                                                    let v74 : int32 = v72 + 1\n",
      "                                                    US1_1(v74, v68)\n",
      "                                                else\n",
      "                                                    let v76 : string = $\"accumulate_dice_rolls / power: {0} / acc: {v65} / roll: {v67}\"\n",
      "                                                    System.Console.WriteLine v76\n",
      "                                                    let v77 : string = $\"accumulate_dice_rolls / power: {-1} / acc: {v65}\"\n",
      "                                                    System.Console.WriteLine v77\n",
      "                                                    let v78 : int32 = v65 + 1\n",
      "                                                    US1_1(v78, v68)\n",
      "                                            | UH0_1 -> (* Nil *)\n",
      "                                                US1_0\n",
      "                                        else\n",
      "                                            let v83 : string = $\"accumulate_dice_rolls / power: {1} / acc: {v57} / roll: {v59}\"\n",
      "                                            System.Console.WriteLine v83\n",
      "                                            match v60 with\n",
      "                                            | UH0_0(v85, v86) -> (* Cons *)\n",
      "                                                let v87 : bool = v85 > 1\n",
      "                                                if v87 then\n",
      "                                                    let v88 : int32 = v85 - 1\n",
      "                                                    let v89 : string = $\"accumulate_dice_rolls / power: {0} / acc: {v57} / roll: {v85} / value: {v88}\"\n",
      "                                                    System.Console.WriteLine v89\n",
      "                                                    let v90 : int32 = v57 + v88\n",
      "                                                    let v91 : string = $\"accumulate_dice_rolls / power: {-1} / acc: {v90}\"\n",
      "                                                    System.Console.WriteLine v91\n",
      "                                                    let v92 : int32 = v90 + 1\n",
      "                                                    US1_1(v92, v86)\n",
      "                                                else\n",
      "                                                    let v94 : string = $\"accumulate_dice_rolls / power: {0} / acc: {v57} / roll: {v85}\"\n",
      "                                                    System.Console.WriteLine v94\n",
      "                                                    let v95 : string = $\"accumulate_dice_rolls / power: {-1} / acc: {v57}\"\n",
      "                                                    System.Console.WriteLine v95\n",
      "                                                    let v96 : int32 = v57 + 1\n",
      "                                                    US1_1(v96, v86)\n",
      "                                            | UH0_1 -> (* Nil *)\n",
      "                                                US1_0\n",
      "                                    | UH0_1 -> (* Nil *)\n",
      "                                        US1_0\n",
      "                                else\n",
      "                                    let v104 : string = $\"accumulate_dice_rolls / power: {2} / acc: {v49} / roll: {v51}\"\n",
      "                                    System.Console.WriteLine v104\n",
      "                                    match v52 with\n",
      "                                    | UH0_0(v106, v107) -> (* Cons *)\n",
      "                                        let v108 : bool = v106 > 1\n",
      "                                        if v108 then\n",
      "                                            let v109 : int32 = v106 - 1\n",
      "                                            let v110 : int32 = v109 * 6\n",
      "                                            let v111 : string = $\"accumulate_dice_rolls / power: {1} / acc: {v49} / roll: {v106} / value: {v110}\"\n",
      "                                            System.Console.WriteLine v111\n",
      "                                            let v112 : int32 = v49 + v110\n",
      "                                            match v107 with\n",
      "                                            | UH0_0(v114, v115) -> (* Cons *)\n",
      "                                                let v116 : bool = v114 > 1\n",
      "                                                if v116 then\n",
      "                                                    let v117 : int32 = v114 - 1\n",
      "                                                    let v118 : string = $\"accumulate_dice_rolls / power: {0} / acc: {v112} / roll: {v114} / value: {v117}\"\n",
      "                                                    System.Console.WriteLine v118\n",
      "                                                    let v119 : int32 = v112 + v117\n",
      "                                                    let v120 : string = $\"accumulate_dice_rolls / power: {-1} / acc: {v119}\"\n",
      "                                                    System.Console.WriteLine v120\n",
      "                                                    let v121 : int32 = v119 + 1\n",
      "                                                    US1_1(v121, v115)\n",
      "                                                else\n",
      "                                                    let v123 : string = $\"accumulate_dice_rolls / power: {0} / acc: {v112} / roll: {v114}\"\n",
      "                                                    System.Console.WriteLine v123\n",
      "                                                    let v124 : string = $\"accumulate_dice_rolls / power: {-1} / acc: {v112}\"\n",
      "                                                    System.Console.WriteLine v124\n",
      "                                                    let v125 : int32 = v112 + 1\n",
      "                                                    US1_1(v125, v115)\n",
      "                                            | UH0_1 -> (* Nil *)\n",
      "                                                US1_0\n",
      "                                        else\n",
      "                                            let v130 : string = $\"accumulate_dice_rolls / power: {1} / acc: {v49} / roll: {v106}\"\n",
      "                                            System.Console.WriteLine v130\n",
      "                                            match v107 with\n",
      "                                            | UH0_0(v132, v133) -> (* Cons *)\n",
      "                                                let v134 : bool = v132 > 1\n",
      "                                                if v134 then\n",
      "                                                    let v135 : int32 = v132 - 1\n",
      "                                                    let v136 : string = $\"accumulate_dice_rolls / power: {0} / acc: {v49} / roll: {v132} / value: {v135}\"\n",
      "                                                    System.Console.WriteLine v136\n",
      "                                                    let v137 : int32 = v49 + v135\n",
      "                                                    let v138 : string = $\"accumulate_dice_rolls / power: {-1} / acc: {v137}\"\n",
      "                                                    System.Console.WriteLine v138\n",
      "                                                    let v139 : int32 = v137 + 1\n",
      "                                                    US1_1(v139, v133)\n",
      "                                                else\n",
      "                                                    let v141 : string = $\"accumulate_dice_rolls / power: {0} / acc: {v49} / roll: {v132}\"\n",
      "                                                    System.Console.WriteLine v141\n",
      "                                                    let v142 : string = $\"accumulate_dice_rolls / power: {-1} / acc: {v49}\"\n",
      "                                                    System.Console.WriteLine v142\n",
      "                                                    let v143 : int32 = v49 + 1\n",
      "                                                    US1_1(v143, v133)\n",
      "                                            | UH0_1 -> (* Nil *)\n",
      "                                                US1_0\n",
      "                                    | UH0_1 -> (* Nil *)\n",
      "                                        US1_0\n",
      "                            | UH0_1 -> (* Nil *)\n",
      "                                US1_0\n",
      "                        else\n",
      "                            let v154 : string = $\"accumulate_dice_rolls / power: {3} / acc: {v40} / roll: {v43}\"\n",
      "                            System.Console.WriteLine v154\n",
      "                            match v44 with\n",
      "                            | UH0_0(v156, v157) -> (* Cons *)\n",
      "                                let v158 : bool = v156 > 1\n",
      "                                if v158 then\n",
      "                                    let v159 : int32 = v156 - 1\n",
      "                                    let v160 : int32 = v159 * 36\n",
      "                                    let v161 : string = $\"accumulate_dice_rolls / power: {2} / acc: {v40} / roll: {v156} / value: {v160}\"\n",
      "                                    System.Console.WriteLine v161\n",
      "                                    let v162 : int32 = v40 + v160\n",
      "                                    match v157 with\n",
      "                                    | UH0_0(v164, v165) -> (* Cons *)\n",
      "                                        let v166 : bool = v164 > 1\n",
      "                                        if v166 then\n",
      "                                            let v167 : int32 = v164 - 1\n",
      "                                            let v168 : int32 = v167 * 6\n",
      "                                            let v169 : string = $\"accumulate_dice_rolls / power: {1} / acc: {v162} / roll: {v164} / value: {v168}\"\n",
      "                                            System.Console.WriteLine v169\n",
      "                                            let v170 : int32 = v162 + v168\n",
      "                                            match v165 with\n",
      "                                            | UH0_0(v172, v173) -> (* Cons *)\n",
      "                                                let v174 : bool = v172 > 1\n",
      "                                                if v174 then\n",
      "                                                    let v175 : int32 = v172 - 1\n",
      "                                                    let v176 : string = $\"accumulate_dice_rolls / power: {0} / acc: {v170} / roll: {v172} / value: {v175}\"\n",
      "                                                    System.Console.WriteLine v176\n",
      "                                                    let v177 : int32 = v170 + v175\n",
      "                                                    let v178 : string = $\"accumulate_dice_rolls / power: {-1} / acc: {v177}\"\n",
      "                                                    System.Console.WriteLine v178\n",
      "                                                    let v179 : int32 = v177 + 1\n",
      "                                                    US1_1(v179, v173)\n",
      "                                                else\n",
      "                                                    let v181 : string = $\"accumulate_dice_rolls / power: {0} / acc: {v170} / roll: {v172}\"\n",
      "                                                    System.Console.WriteLine v181\n",
      "                                                    let v182 : string = $\"accumulate_dice_rolls / power: {-1} / acc: {v170}\"\n",
      "                                                    System.Console.WriteLine v182\n",
      "                                                    let v183 : int32 = v170 + 1\n",
      "                                                    US1_1(v183, v173)\n",
      "                                            | UH0_1 -> (* Nil *)\n",
      "                                                US1_0\n",
      "                                        else\n",
      "                                            let v188 : string = $\"accumulate_dice_rolls / power: {1} / acc: {v162} / roll: {v164}\"\n",
      "                                            System.Console.WriteLine v188\n",
      "                                            match v165 with\n",
      "                                            | UH0_0(v190, v191) -> (* Cons *)\n",
      "                                                let v192 : bool = v190 > 1\n",
      "                                                if v192 then\n",
      "                                                    let v193 : int32 = v190 - 1\n",
      "                                                    let v194 : string = $\"accumulate_dice_rolls / power: {0} / acc: {v162} / roll: {v190} / value: {v193}\"\n",
      "                                                    System.Console.WriteLine v194\n",
      "                                                    let v195 : int32 = v162 + v193\n",
      "                                                    let v196 : string = $\"accumulate_dice_rolls / power: {-1} / acc: {v195}\"\n",
      "                                                    System.Console.WriteLine v196\n",
      "                                                    let v197 : int32 = v195 + 1\n",
      "                                                    US1_1(v197, v191)\n",
      "                                                else\n",
      "                                                    let v199 : string = $\"accumulate_dice_rolls / power: {0} / acc: {v162} / roll: {v190}\"\n",
      "                                                    System.Console.WriteLine v199\n",
      "                                                    let v200 : string = $\"accumulate_dice_rolls / power: {-1} / acc: {v162}\"\n",
      "                                                    System.Console.WriteLine v200\n",
      "                                                    let v201 : int32 = v162 + 1\n",
      "                                                    US1_1(v201, v191)\n",
      "                                            | UH0_1 -> (* Nil *)\n",
      "                                                US1_0\n",
      "                                    | UH0_1 -> (* Nil *)\n",
      "                                        US1_0\n",
      "                                else\n",
      "                                    let v209 : string = $\"accumulate_dice_rolls / power: {2} / acc: {v40} / roll: {v156}\"\n",
      "                                    System.Console.WriteLine v209\n",
      "                                    match v157 with\n",
      "                                    | UH0_0(v211, v212) -> (* Cons *)\n",
      "                                        let v213 : bool = v211 > 1\n",
      "                                        if v213 then\n",
      "                                            let v214 : int32 = v211 - 1\n",
      "                                            let v215 : int32 = v214 * 6\n",
      "                                            let v216 : string = $\"accumulate_dice_rolls / power: {1} / acc: {v40} / roll: {v211} / value: {v215}\"\n",
      "                                            System.Console.WriteLine v216\n",
      "                                            let v217 : int32 = v40 + v215\n",
      "                                            match v212 with\n",
      "                                            | UH0_0(v219, v220) -> (* Cons *)\n",
      "                                                let v221 : bool = v219 > 1\n",
      "                                                if v221 then\n",
      "                                                    let v222 : int32 = v219 - 1\n",
      "                                                    let v223 : string = $\"accumulate_dice_rolls / power: {0} / acc: {v217} / roll: {v219} / value: {v222}\"\n",
      "                                                    System.Console.WriteLine v223\n",
      "                                                    let v224 : int32 = v217 + v222\n",
      "                                                    let v225 : string = $\"accumulate_dice_rolls / power: {-1} / acc: {v224}\"\n",
      "                                                    System.Console.WriteLine v225\n",
      "                                                    let v226 : int32 = v224 + 1\n",
      "                                                    US1_1(v226, v220)\n",
      "                                                else\n",
      "                                                    let v228 : string = $\"accumulate_dice_rolls / power: {0} / acc: {v217} / roll: {v219}\"\n",
      "                                                    System.Console.WriteLine v228\n",
      "                                                    let v229 : string = $\"accumulate_dice_rolls / power: {-1} / acc: {v217}\"\n",
      "                                                    System.Console.WriteLine v229\n",
      "                                                    let v230 : int32 = v217 + 1\n",
      "                                                    US1_1(v230, v220)\n",
      "                                            | UH0_1 -> (* Nil *)\n",
      "                                                US1_0\n",
      "                                        else\n",
      "                                            let v235 : string = $\"accumulate_dice_rolls / power: {1} / acc: {v40} / roll: {v211}\"\n",
      "                                            System.Console.WriteLine v235\n",
      "                                            match v212 with\n",
      "                                            | UH0_0(v237, v238) -> (* Cons *)\n",
      "                                                let v239 : bool = v237 > 1\n",
      "                                                if v239 then\n",
      "                                                    let v240 : int32 = v237 - 1\n",
      "                                                    let v241 : string = $\"accumulate_dice_rolls / power: {0} / acc: {v40} / roll: {v237} / value: {v240}\"\n",
      "                                                    System.Console.WriteLine v241\n",
      "                                                    let v242 : int32 = v40 + v240\n",
      "                                                    let v243 : string = $\"accumulate_dice_rolls / power: {-1} / acc: {v242}\"\n",
      "                                                    System.Console.WriteLine v243\n",
      "                                                    let v244 : int32 = v242 + 1\n",
      "                                                    US1_1(v244, v238)\n",
      "                                                else\n",
      "                                                    let v246 : string = $\"accumulate_dice_rolls / power: {0} / acc: {v40} / roll: {v237}\"\n",
      "                                                    System.Console.WriteLine v246\n",
      "                                                    let v247 : string = $\"accumulate_dice_rolls / power: {-1} / acc: {v40}\"\n",
      "                                                    System.Console.WriteLine v247\n",
      "                                                    let v248 : int32 = v40 + 1\n",
      "                                                    US1_1(v248, v238)\n",
      "                                            | UH0_1 -> (* Nil *)\n",
      "                                                US1_0\n",
      "                                    | UH0_1 -> (* Nil *)\n",
      "                                        US1_0\n",
      "                            | UH0_1 -> (* Nil *)\n",
      "                                US1_0\n",
      "                    | UH0_1 -> (* Nil *)\n",
      "                        US1_0\n",
      "                else\n",
      "                    let v262 : string = $\"accumulate_dice_rolls / power: {4} / acc: {0} / roll: {v36}\"\n",
      "                    System.Console.WriteLine v262\n",
      "                    match v37 with\n",
      "                    | UH0_0(v264, v265) -> (* Cons *)\n",
      "                        let v266 : bool = v264 > 1\n",
      "                        if v266 then\n",
      "                            let v267 : int32 = v264 - 1\n",
      "                            let v268 : int32 = v267 * 216\n",
      "                            let v269 : string = $\"accumulate_dice_rolls / power: {3} / acc: {0} / roll: {v264} / value: {v268}\"\n",
      "                            System.Console.WriteLine v269\n",
      "                            match v265 with\n",
      "                            | UH0_0(v271, v272) -> (* Cons *)\n",
      "                                let v273 : bool = v271 > 1\n",
      "                                if v273 then\n",
      "                                    let v274 : int32 = v271 - 1\n",
      "                                    let v275 : int32 = v274 * 36\n",
      "                                    let v276 : string = $\"accumulate_dice_rolls / power: {2} / acc: {v268} / roll: {v271} / value: {v275}\"\n",
      "                                    System.Console.WriteLine v276\n",
      "                                    let v277 : int32 = v268 + v275\n",
      "                                    match v272 with\n",
      "                                    | UH0_0(v279, v280) -> (* Cons *)\n",
      "                                        let v281 : bool = v279 > 1\n",
      "                                        if v281 then\n",
      "                                            let v282 : int32 = v279 - 1\n",
      "                                            let v283 : int32 = v282 * 6\n",
      "                                            let v284 : string = $\"accumulate_dice_rolls / power: {1} / acc: {v277} / roll: {v279} / value: {v283}\"\n",
      "                                            System.Console.WriteLine v284\n",
      "                                            let v285 : int32 = v277 + v283\n",
      "                                            match v280 with\n",
      "                                            | UH0_0(v287, v288) -> (* Cons *)\n",
      "                                                let v289 : bool = v287 > 1\n",
      "                                                if v289 then\n",
      "                                                    let v290 : int32 = v287 - 1\n",
      "                                                    let v291 : string = $\"accumulate_dice_rolls / power: {0} / acc: {v285} / roll: {v287} / value: {v290}\"\n",
      "                                                    System.Console.WriteLine v291\n",
      "                                                    let v292 : int32 = v285 + v290\n",
      "                                                    let v293 : string = $\"accumulate_dice_rolls / power: {-1} / acc: {v292}\"\n",
      "                                                    System.Console.WriteLine v293\n",
      "                                                    let v294 : int32 = v292 + 1\n",
      "                                                    US1_1(v294, v288)\n",
      "                                                else\n",
      "                                                    let v296 : string = $\"accumulate_dice_rolls / power: {0} / acc: {v285} / roll: {v287}\"\n",
      "                                                    System.Console.WriteLine v296\n",
      "                                                    let v297 : string = $\"accumulate_dice_rolls / power: {-1} / acc: {v285}\"\n",
      "                                                    System.Console.WriteLine v297\n",
      "                                                    let v298 : int32 = v285 + 1\n",
      "                                                    US1_1(v298, v288)\n",
      "                                            | UH0_1 -> (* Nil *)\n",
      "                                                US1_0\n",
      "                                        else\n",
      "                                            let v303 : string = $\"accumulate_dice_rolls / power: {1} / acc: {v277} / roll: {v279}\"\n",
      "                                            System.Console.WriteLine v303\n",
      "                                            match v280 with\n",
      "                                            | UH0_0(v305, v306) -> (* Cons *)\n",
      "                                                let v307 : bool = v305 > 1\n",
      "                                                if v307 then\n",
      "                                                    let v308 : int32 = v305 - 1\n",
      "                                                    let v309 : string = $\"accumulate_dice_rolls / power: {0} / acc: {v277} / roll: {v305} / value: {v308}\"\n",
      "                                                    System.Console.WriteLine v309\n",
      "                                                    let v310 : int32 = v277 + v308\n",
      "                                                    let v311 : string = $\"accumulate_dice_rolls / power: {-1} / acc: {v310}\"\n",
      "                                                    System.Console.WriteLine v311\n",
      "                                                    let v312 : int32 = v310 + 1\n",
      "                                                    US1_1(v312, v306)\n",
      "                                                else\n",
      "                                                    let v314 : string = $\"accumulate_dice_rolls / power: {0} / acc: {v277} / roll: {v305}\"\n",
      "                                                    System.Console.WriteLine v314\n",
      "                                                    let v315 : string = $\"accumulate_dice_rolls / power: {-1} / acc: {v277}\"\n",
      "                                                    System.Console.WriteLine v315\n",
      "                                                    let v316 : int32 = v277 + 1\n",
      "                                                    US1_1(v316, v306)\n",
      "                                            | UH0_1 -> (* Nil *)\n",
      "                                                US1_0\n",
      "                                    | UH0_1 -> (* Nil *)\n",
      "                                        US1_0\n",
      "                                else\n",
      "                                    let v324 : string = $\"accumulate_dice_rolls / power: {2} / acc: {v268} / roll: {v271}\"\n",
      "                                    System.Console.WriteLine v324\n",
      "                                    match v272 with\n",
      "                                    | UH0_0(v326, v327) -> (* Cons *)\n",
      "                                        let v328 : bool = v326 > 1\n",
      "                                        if v328 then\n",
      "                                            let v329 : int32 = v326 - 1\n",
      "                                            let v330 : int32 = v329 * 6\n",
      "                                            let v331 : string = $\"accumulate_dice_rolls / power: {1} / acc: {v268} / roll: {v326} / value: {v330}\"\n",
      "                                            System.Console.WriteLine v331\n",
      "                                            let v332 : int32 = v268 + v330\n",
      "                                            match v327 with\n",
      "                                            | UH0_0(v334, v335) -> (* Cons *)\n",
      "                                                let v336 : bool = v334 > 1\n",
      "                                                if v336 then\n",
      "                                                    let v337 : int32 = v334 - 1\n",
      "                                                    let v338 : string = $\"accumulate_dice_rolls / power: {0} / acc: {v332} / roll: {v334} / value: {v337}\"\n",
      "                                                    System.Console.WriteLine v338\n",
      "                                                    let v339 : int32 = v332 + v337\n",
      "                                                    let v340 : string = $\"accumulate_dice_rolls / power: {-1} / acc: {v339}\"\n",
      "                                                    System.Console.WriteLine v340\n",
      "                                                    let v341 : int32 = v339 + 1\n",
      "                                                    US1_1(v341, v335)\n",
      "                                                else\n",
      "                                                    let v343 : string = $\"accumulate_dice_rolls / power: {0} / acc: {v332} / roll: {v334}\"\n",
      "                                                    System.Console.WriteLine v343\n",
      "                                                    let v344 : string = $\"accumulate_dice_rolls / power: {-1} / acc: {v332}\"\n",
      "                                                    System.Console.WriteLine v344\n",
      "                                                    let v345 : int32 = v332 + 1\n",
      "                                                    US1_1(v345, v335)\n",
      "                                            | UH0_1 -> (* Nil *)\n",
      "                                                US1_0\n",
      "                                        else\n",
      "                                            let v350 : string = $\"accumulate_dice_rolls / power: {1} / acc: {v268} / roll: {v326}\"\n",
      "                                            System.Console.WriteLine v350\n",
      "                                            match v327 with\n",
      "                                            | UH0_0(v352, v353) -> (* Cons *)\n",
      "                                                let v354 : bool = v352 > 1\n",
      "                                                if v354 then\n",
      "                                                    let v355 : int32 = v352 - 1\n",
      "                                                    let v356 : string = $\"accumulate_dice_rolls / power: {0} / acc: {v268} / roll: {v352} / value: {v355}\"\n",
      "                                                    System.Console.WriteLine v356\n",
      "                                                    let v357 : int32 = v268 + v355\n",
      "                                                    let v358 : string = $\"accumulate_dice_rolls / power: {-1} / acc: {v357}\"\n",
      "                                                    System.Console.WriteLine v358\n",
      "                                                    let v359 : int32 = v357 + 1\n",
      "                                                    US1_1(v359, v353)\n",
      "                                                else\n",
      "                                                    let v361 : string = $\"accumulate_dice_rolls / power: {0} / acc: {v268} / roll: {v352}\"\n",
      "                                                    System.Console.WriteLine v361\n",
      "                                                    let v362 : string = $\"accumulate_dice_rolls / power: {-1} / acc: {v268}\"\n",
      "                                                    System.Console.WriteLine v362\n",
      "                                                    let v363 : int32 = v268 + 1\n",
      "                                                    US1_1(v363, v353)\n",
      "                                            | UH0_1 -> (* Nil *)\n",
      "                                                US1_0\n",
      "                                    | UH0_1 -> (* Nil *)\n",
      "                                        US1_0\n",
      "                            | UH0_1 -> (* Nil *)\n",
      "                                US1_0\n",
      "                        else\n",
      "                            let v374 : string = $\"accumulate_dice_rolls / power: {3} / acc: {0} / roll: {v264}\"\n",
      "                            System.Console.WriteLine v374\n",
      "                            match v265 with\n",
      "                            | UH0_0(v376, v377) -> (* Cons *)\n",
      "                                let v378 : bool = v376 > 1\n",
      "                                if v378 then\n",
      "                                    let v379 : int32 = v376 - 1\n",
      "                                    let v380 : int32 = v379 * 36\n",
      "                                    let v381 : string = $\"accumulate_dice_rolls / power: {2} / acc: {0} / roll: {v376} / value: {v380}\"\n",
      "                                    System.Console.WriteLine v381\n",
      "                                    match v377 with\n",
      "                                    | UH0_0(v383, v384) -> (* Cons *)\n",
      "                                        let v385 : bool = v383 > 1\n",
      "                                        if v385 then\n",
      "                                            let v386 : int32 = v383 - 1\n",
      "                                            let v387 : int32 = v386 * 6\n",
      "                                            let v388 : string = $\"accumulate_dice_rolls / power: {1} / acc: {v380} / roll: {v383} / value: {v387}\"\n",
      "                                            System.Console.WriteLine v388\n",
      "                                            let v389 : int32 = v380 + v387\n",
      "                                            match v384 with\n",
      "                                            | UH0_0(v391, v392) -> (* Cons *)\n",
      "                                                let v393 : bool = v391 > 1\n",
      "                                                if v393 then\n",
      "                                                    let v394 : int32 = v391 - 1\n",
      "                                                    let v395 : string = $\"accumulate_dice_rolls / power: {0} / acc: {v389} / roll: {v391} / value: {v394}\"\n",
      "                                                    System.Console.WriteLine v395\n",
      "                                                    let v396 : int32 = v389 + v394\n",
      "                                                    let v397 : string = $\"accumulate_dice_rolls / power: {-1} / acc: {v396}\"\n",
      "                                                    System.Console.WriteLine v397\n",
      "                                                    let v398 : int32 = v396 + 1\n",
      "                                                    US1_1(v398, v392)\n",
      "                                                else\n",
      "                                                    let v400 : string = $\"accumulate_dice_rolls / power: {0} / acc: {v389} / roll: {v391}\"\n",
      "                                                    System.Console.WriteLine v400\n",
      "                                                    let v401 : string = $\"accumulate_dice_rolls / power: {-1} / acc: {v389}\"\n",
      "                                                    System.Console.WriteLine v401\n",
      "                                                    let v402 : int32 = v389 + 1\n",
      "                                                    US1_1(v402, v392)\n",
      "                                            | UH0_1 -> (* Nil *)\n",
      "                                                US1_0\n",
      "                                        else\n",
      "                                            let v407 : string = $\"accumulate_dice_rolls / power: {1} / acc: {v380} / roll: {v383}\"\n",
      "                                            System.Console.WriteLine v407\n",
      "                                            match v384 with\n",
      "                                            | UH0_0(v409, v410) -> (* Cons *)\n",
      "                                                let v411 : bool = v409 > 1\n",
      "                                                if v411 then\n",
      "                                                    let v412 : int32 = v409 - 1\n",
      "                                                    let v413 : string = $\"accumulate_dice_rolls / power: {0} / acc: {v380} / roll: {v409} / value: {v412}\"\n",
      "                                                    System.Console.WriteLine v413\n",
      "                                                    let v414 : int32 = v380 + v412\n",
      "                                                    let v415 : string = $\"accumulate_dice_rolls / power: {-1} / acc: {v414}\"\n",
      "                                                    System.Console.WriteLine v415\n",
      "                                                    let v416 : int32 = v414 + 1\n",
      "                                                    US1_1(v416, v410)\n",
      "                                                else\n",
      "                                                    let v418 : string = $\"accumulate_dice_rolls / power: {0} / acc: {v380} / roll: {v409}\"\n",
      "                                                    System.Console.WriteLine v418\n",
      "                                                    let v419 : string = $\"accumulate_dice_rolls / power: {-1} / acc: {v380}\"\n",
      "                                                    System.Console.WriteLine v419\n",
      "                                                    let v420 : int32 = v380 + 1\n",
      "                                                    US1_1(v420, v410)\n",
      "                                            | UH0_1 -> (* Nil *)\n",
      "                                                US1_0\n",
      "                                    | UH0_1 -> (* Nil *)\n",
      "                                        US1_0\n",
      "                                else\n",
      "                                    let v428 : string = $\"accumulate_dice_rolls / power: {2} / acc: {0} / roll: {v376}\"\n",
      "                                    System.Console.WriteLine v428\n",
      "                                    match v377 with\n",
      "                                    | UH0_0(v430, v431) -> (* Cons *)\n",
      "                                        let v432 : bool = v430 > 1\n",
      "                                        if v432 then\n",
      "                                            let v433 : int32 = v430 - 1\n",
      "                                            let v434 : int32 = v433 * 6\n",
      "                                            let v435 : string = $\"accumulate_dice_rolls / power: {1} / acc: {0} / roll: {v430} / value: {v434}\"\n",
      "                                            System.Console.WriteLine v435\n",
      "                                            match v431 with\n",
      "                                            | UH0_0(v437, v438) -> (* Cons *)\n",
      "                                                let v439 : bool = v437 > 1\n",
      "                                                if v439 then\n",
      "                                                    let v440 : int32 = v437 - 1\n",
      "                                                    let v441 : string = $\"accumulate_dice_rolls / power: {0} / acc: {v434} / roll: {v437} / value: {v440}\"\n",
      "                                                    System.Console.WriteLine v441\n",
      "                                                    let v442 : int32 = v434 + v440\n",
      "                                                    let v443 : string = $\"accumulate_dice_rolls / power: {-1} / acc: {v442}\"\n",
      "                                                    System.Console.WriteLine v443\n",
      "                                                    let v444 : int32 = v442 + 1\n",
      "                                                    US1_1(v444, v438)\n",
      "                                                else\n",
      "                                                    let v446 : string = $\"accumulate_dice_rolls / power: {0} / acc: {v434} / roll: {v437}\"\n",
      "                                                    System.Console.WriteLine v446\n",
      "                                                    let v447 : string = $\"accumulate_dice_rolls / power: {-1} / acc: {v434}\"\n",
      "                                                    System.Console.WriteLine v447\n",
      "                                                    let v448 : int32 = v434 + 1\n",
      "                                                    US1_1(v448, v438)\n",
      "                                            | UH0_1 -> (* Nil *)\n",
      "                                                US1_0\n",
      "                                        else\n",
      "                                            let v453 : string = $\"accumulate_dice_rolls / power: {1} / acc: {0} / roll: {v430}\"\n",
      "                                            System.Console.WriteLine v453\n",
      "                                            match v431 with\n",
      "                                            | UH0_0(v455, v456) -> (* Cons *)\n",
      "                                                let v457 : bool = v455 > 1\n",
      "                                                if v457 then\n",
      "                                                    let v458 : int32 = v455 - 1\n",
      "                                                    let v459 : string = $\"accumulate_dice_rolls / power: {0} / acc: {0} / roll: {v455} / value: {v458}\"\n",
      "                                                    System.Console.WriteLine v459\n",
      "                                                    let v460 : string = $\"accumulate_dice_rolls / power: {-1} / acc: {v458}\"\n",
      "                                                    System.Console.WriteLine v460\n",
      "                                                    let v461 : int32 = v458 + 1\n",
      "                                                    US1_1(v461, v456)\n",
      "                                                else\n",
      "                                                    let v463 : string = $\"accumulate_dice_rolls / power: {0} / acc: {0} / roll: {v455}\"\n",
      "                                                    System.Console.WriteLine v463\n",
      "                                                    let v464 : string = $\"accumulate_dice_rolls / power: {-1} / acc: {0}\"\n",
      "                                                    System.Console.WriteLine v464\n",
      "                                                    US1_1(1, v456)\n",
      "                                            | UH0_1 -> (* Nil *)\n",
      "                                                US1_0\n",
      "                                    | UH0_1 -> (* Nil *)\n",
      "                                        US1_0\n",
      "                            | UH0_1 -> (* Nil *)\n",
      "                                US1_0\n",
      "                    | UH0_1 -> (* Nil *)\n",
      "                        US1_0\n",
      "            | UH0_1 -> (* Nil *)\n",
      "                US1_0\n",
      "        match v480 with\n",
      "        | US1_1(v481, v482) -> (* Some *)\n",
      "            let v483 : bool = v481 <= 2000\n",
      "            if v483 then\n",
      "                v481\n",
      "            else\n",
      "                let v484 : int32 = v0.l0\n",
      "                let v485 : bool = v484 = 0\n",
      "                let v505 : US0 =\n",
      "                    if v485 then\n",
      "                        US0_1(5)\n",
      "                    else\n",
      "                        let v487 : int32 = v484 - 1\n",
      "                        let v488 : bool = v487 = 0\n",
      "                        if v488 then\n",
      "                            US0_1(4)\n",
      "                        else\n",
      "                            let v490 : int32 = v487 - 1\n",
      "                            let v491 : bool = v490 = 0\n",
      "                            if v491 then\n",
      "                                US0_1(4)\n",
      "                            else\n",
      "                                let v493 : int32 = v490 - 1\n",
      "                                let v494 : bool = v493 = 0\n",
      "                                if v494 then\n",
      "                                    US0_1(5)\n",
      "                                else\n",
      "                                    let v496 : int32 = v493 - 1\n",
      "                                    let v497 : bool = v496 = 0\n",
      "                                    if v497 then\n",
      "                                        US0_1(2)\n",
      "                                    else\n",
      "                                        let v499 : int32 = v496 - 1\n",
      "                                        US0_0\n",
      "                let v511 : int32 =\n",
      "                    match v505 with\n",
      "                    | US0_0 -> (* None *)\n",
      "                        failwith<int32> \"create_sequential_roller / end of list\"\n",
      "                    | US0_1(v506) -> (* Some *)\n",
      "                        let v507 : int32 = v0.l0\n",
      "                        let v508 : int32 = v507 + 1\n",
      "                        v0.l0 <- v508\n",
      "                        v506\n",
      "                let v512 : UH0 = UH0_0(v511, v1)\n",
      "                let v513 : int32 = v2 + 1\n",
      "                method1(v0, v512, v513)\n",
      "        | _ ->\n",
      "            let v516 : int32 = v0.l0\n",
      "            let v517 : bool = v516 = 0\n",
      "            let v537 : US0 =\n",
      "                if v517 then\n",
      "                    US0_1(5)\n",
      "                else\n",
      "                    let v519 : int32 = v516 - 1\n",
      "                    let v520 : bool = v519 = 0\n",
      "                    if v520 then\n",
      "                        US0_1(4)\n",
      "                    else\n",
      "                        let v522 : int32 = v519 - 1\n",
      "                        let v523 : bool = v522 = 0\n",
      "                        if v523 then\n",
      "                            US0_1(4)\n",
      "                        else\n",
      "                            let v525 : int32 = v522 - 1\n",
      "                            let v526 : bool = v525 = 0\n",
      "                            if v526 then\n",
      "                                US0_1(5)\n",
      "                            else\n",
      "                                let v528 : int32 = v525 - 1\n",
      "                                let v529 : bool = v528 = 0\n",
      "                                if v529 then\n",
      "                                    US0_1(2)\n",
      "                                else\n",
      "                                    let v531 : int32 = v528 - 1\n",
      "                                    US0_0\n",
      "            let v543 : int32 =\n",
      "                match v537 with\n",
      "                | US0_0 -> (* None *)\n",
      "                    failwith<int32> \"create_sequential_roller / end of list\"\n",
      "                | US0_1(v538) -> (* Some *)\n",
      "                    let v539 : int32 = v0.l0\n",
      "                    let v540 : int32 = v539 + 1\n",
      "                    v0.l0 <- v540\n",
      "                    v538\n",
      "            let v544 : UH0 = UH0_0(v543, v1)\n",
      "            let v545 : int32 = v2 + 1\n",
      "            method1(v0, v544, v545)\n",
      "and closure0 (v0 : Mut0) () : unit =\n",
      "    let v1 : string = $\"calculate_dice_count / max: {2000} / n: {5} / p: {7776}\"\n",
      "    System.Console.WriteLine v1\n",
      "    let v2 : UH0 = UH0_1\n",
      "    let v3 : int32 = 0\n",
      "    let v4 : int32 = method1(v0, v2, v3)\n",
      "    ()\n",
      "and closure1 () (v0 : string) : US2 =\n",
      "    US2_1(v0)\n",
      "and method0 () : unit =\n",
      "    let v0 : Mut0 = {l0 = 0} : Mut0\n",
      "    let v1 : (unit -> unit) = closure0(v0)\n",
      "    let v2 : US2 = US2_0\n",
      "    let v3 : (string -> US2) = closure1()\n",
      "    let v4 : US2 = try v1 (); v2 with ex -> v3 ex.Message\n",
      "    let v9 : bool =\n",
      "        match v4 with\n",
      "        | US2_1(v7) -> (* Some *)\n",
      "            let v8 : bool = v7 = \"create_sequential_roller / end of list\"\n",
      "            v8\n",
      "        | _ ->\n",
      "            false\n",
      "    let v10 : string = \"create_sequential_roller / end of list\"\n",
      "    let v11 : US2 = US2_1(v10)\n",
      "    let v12 : string = $\"_equal / actual: %A{v4} / expected: %A{v11}\"\n",
      "    let v13 : bool = v9 = false\n",
      "    if v13 then\n",
      "        failwith<unit> v12\n",
      "method0()\n",
      "\r\n",
      "calculate_dice_count / max: 2000 / n: 5 / p: 7776\r\n",
      "accumulate_dice_rolls / power: 4 / acc: 0 / roll: 2 / value: 1296\r\n",
      "accumulate_dice_rolls / power: 3 / acc: 1296 / roll: 5 / value: 864\r\n",
      "accumulate_dice_rolls / power: 2 / acc: 2160 / roll: 4 / value: 108\r\n",
      "accumulate_dice_rolls / power: 1 / acc: 2268 / roll: 4 / value: 18\r\n",
      "accumulate_dice_rolls / power: 0 / acc: 2286 / roll: 5 / value: 4\r\n",
      "accumulate_dice_rolls / power: -1 / acc: 2290\r\n"
     ]
    }
   ],
   "source": [
    "// // test\n",
    "\n",
    "inl sequential_roll = create_sequential_roller [ 5; 4; 4; 5; 2 ]\n",
    "\n",
    "fun () => roll_progressively (Some console.write_line) sequential_roll false 2000 |> ignore\n",
    "|> _throws\n",
    "|> _equal (Some \"create_sequential_roller / end of list\")"
   ]
  },
  {
   "cell_type": "code",
   "execution_count": null,
   "metadata": {
    "dotnet_interactive": {
     "language": "spiral"
    },
    "polyglot_notebook": {
     "kernelName": "spiral"
    }
   },
   "outputs": [
    {
     "name": "stdout",
     "output_type": "stream",
     "text": [
      "()\n",
      "\r\n"
     ]
    }
   ],
   "source": [
    "// // test\n",
    "\n",
    "// listm'.init_series 1i32 10 1\n",
    "// |> stream.from_list\n",
    "// |> stream.map_ (fun _ => roll_progressively None roll_dice false 10)\n",
    "// |> stream.to_list\n",
    "// |> listm'.group_by_ id\n",
    "// |> listm.map (fun (k, v) => k, (listm.length v : i32))"
   ]
  },
  {
   "cell_type": "markdown",
   "metadata": {},
   "source": [
    "## main"
   ]
  },
  {
   "cell_type": "code",
   "execution_count": null,
   "metadata": {
    "dotnet_interactive": {
     "language": "fsharp"
    },
    "polyglot_notebook": {
     "kernelName": "fsharp"
    }
   },
   "outputs": [],
   "source": [
    "let main args =\n",
    "    let result = rollWithinBounds (Some (printfn \"%s\")) 2000 [ 1; 5; 4; 4; 5 ]\n",
    "    trace Debug (fun () -> $\"main / result: {result |> Option.defaultValue -1}\") getLocals\n",
    "    0"
   ]
  }
 ],
 "metadata": {},
 "nbformat": 4,
 "nbformat_minor": 5
}