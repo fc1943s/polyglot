{
 "cells": [
  {
   "cell_type": "markdown",
   "metadata": {},
   "source": [
    "# chat_contract"
   ]
  },
  {
   "cell_type": "code",
   "execution_count": null,
   "metadata": {
    "dotnet_interactive": {
     "language": "spiral"
    },
    "polyglot_notebook": {
     "kernelName": "spiral"
    }
   },
   "outputs": [],
   "source": [
    "open rust\n",
    "open rust.rust_operators"
   ]
  },
  {
   "cell_type": "code",
   "execution_count": null,
   "metadata": {
    "dotnet_interactive": {
     "language": "spiral"
    },
    "polyglot_notebook": {
     "kernelName": "spiral"
    }
   },
   "outputs": [],
   "source": [
    "//// test\n",
    "\n",
    "open testing"
   ]
  },
  {
   "cell_type": "markdown",
   "metadata": {},
   "source": [
    "## chat_contract"
   ]
  },
  {
   "cell_type": "markdown",
   "metadata": {},
   "source": [
    "### lookup_map"
   ]
  },
  {
   "cell_type": "code",
   "execution_count": null,
   "metadata": {
    "dotnet_interactive": {
     "language": "spiral"
    },
    "polyglot_notebook": {
     "kernelName": "spiral"
    }
   },
   "outputs": [],
   "source": [
    "nominal lookup_map k v =\n",
    "    `(\n",
    "        global \"#if FABLE_COMPILER\\n[<Fable.Core.Erase; Fable.Core.Emit(\\\"near_sdk::store::LookupMap<$0, $1>\\\")>]\\n#endif\\ntype near_sdk_store_LookupMap<'K, 'V> = class end\"\n",
    "        $'' : $'near_sdk_store_LookupMap<`k, `v>'\n",
    "    )"
   ]
  },
  {
   "cell_type": "markdown",
   "metadata": {},
   "source": [
    "### account_id"
   ]
  },
  {
   "cell_type": "code",
   "execution_count": null,
   "metadata": {
    "dotnet_interactive": {
     "language": "spiral"
    },
    "polyglot_notebook": {
     "kernelName": "spiral"
    }
   },
   "outputs": [],
   "source": [
    "nominal account_id =\n",
    "    `(\n",
    "        global \"#if FABLE_COMPILER\\n[<Fable.Core.Erase; Fable.Core.Emit(\\\"near_sdk::AccountId\\\")>]\\n#endif\\ntype near_sdk_AccountId = class end\"\n",
    "        $'' : $'near_sdk_AccountId'\n",
    "    )"
   ]
  },
  {
   "cell_type": "markdown",
   "metadata": {},
   "source": [
    "### byte_slice"
   ]
  },
  {
   "cell_type": "code",
   "execution_count": null,
   "metadata": {
    "dotnet_interactive": {
     "language": "spiral"
    },
    "polyglot_notebook": {
     "kernelName": "spiral"
    }
   },
   "outputs": [],
   "source": [
    "inl byte_slice (s : string) : rust.ref (am'.slice u8) =\n",
    "    !\\($'\"b\\\\\\\"\" + !s + \"\\\\\\\"\"')"
   ]
  },
  {
   "cell_type": "markdown",
   "metadata": {},
   "source": [
    "### new_lookup_map"
   ]
  },
  {
   "cell_type": "code",
   "execution_count": null,
   "metadata": {
    "dotnet_interactive": {
     "language": "spiral"
    },
    "polyglot_notebook": {
     "kernelName": "spiral"
    }
   },
   "outputs": [],
   "source": [
    "inl new_lookup_map prefix =\n",
    "    !\\($'\"near_sdk::store::LookupMap::new(!prefix)\"')"
   ]
  },
  {
   "cell_type": "markdown",
   "metadata": {},
   "source": [
    "### state"
   ]
  },
  {
   "cell_type": "code",
   "execution_count": null,
   "metadata": {
    "dotnet_interactive": {
     "language": "spiral"
    },
    "polyglot_notebook": {
     "kernelName": "spiral"
    }
   },
   "outputs": [],
   "source": [
    "type state =\n",
    "    {\n",
    "        version : u32\n",
    "        alias_map : lookup_map sm'.std_string (mapm.hash_map account_id (u64 * u32))\n",
    "        account_map : lookup_map account_id sm'.std_string\n",
    "    }"
   ]
  },
  {
   "cell_type": "markdown",
   "metadata": {},
   "source": [
    "### new"
   ]
  },
  {
   "cell_type": "code",
   "execution_count": null,
   "metadata": {
    "dotnet_interactive": {
     "language": "spiral"
    },
    "polyglot_notebook": {
     "kernelName": "spiral"
    }
   },
   "outputs": [],
   "source": [
    "inl new () : state =\n",
    "    {\n",
    "        version = 1\n",
    "        alias_map = \"l\" |> byte_slice |> new_lookup_map\n",
    "        account_map = \"c\" |> byte_slice |> new_lookup_map\n",
    "    }"
   ]
  },
  {
   "cell_type": "code",
   "execution_count": null,
   "metadata": {
    "dotnet_interactive": {
     "language": "spiral"
    },
    "polyglot_notebook": {
     "kernelName": "spiral"
    }
   },
   "outputs": [
    {
     "data": {
      "text/plain": [
       "00:00:00 \u001B[90mverbose\u001B[39m #1 trace / { trace1 = 1; trace2 = 2 }\n",
       "00:00:00 \u001B[90mverbose\u001B[39m #2 trace / { state = { version = 1; alias_map = LookupMap {\n",
       "    prefix: [\n",
       "        108,\n",
       "    ],\n",
       "}; account_map = LookupMap {\n",
       "    prefix: [\n",
       "        99,\n",
       "    ],\n",
       "} } }\n",
       "09:39:02 \u001B[94m  debug\u001B[39m #1 spiral_wasm.print_usd / { total_gas_burnt_usd = +0.001188; total_gas_burnt = 1778680544885 }\n",
       "09:39:02 \u001B[94m  debug\u001B[39m #2 spiral_wasm.print_usd / outcome / { is_success = true; gas_burnt_usd = +0.000206; tokens_burnt_usd = +0.000206; gas_burnt = 308081859340; tokens_burnt = 30808185934000000000 }\n",
       "09:39:02 \u001B[94m  debug\u001B[39m #3 spiral_wasm.print_usd / outcome / { is_success = true; gas_burnt_usd = +0.000982; tokens_burnt_usd = +0.000982; gas_burnt = 1470598685545; tokens_burnt = 147059868554500000000 }\n"
      ]
     },
     "metadata": {},
     "output_type": "display_data"
    }
   ],
   "source": [
    "//// test\n",
    "///! rust -c\n",
    "\n",
    "inl state = new () |> sm'.format\n",
    "trace Verbose (fun () => \"trace\") fun () => { trace1 = 1i32; trace2 = \"2\" }\n",
    "trace Verbose (fun () => \"trace\") fun () => { state }"
   ]
  },
  {
   "cell_type": "markdown",
   "metadata": {},
   "source": [
    "### main"
   ]
  },
  {
   "cell_type": "code",
   "execution_count": null,
   "metadata": {
    "dotnet_interactive": {
     "language": "spiral"
    },
    "polyglot_notebook": {
     "kernelName": "spiral"
    }
   },
   "outputs": [],
   "source": [
    "///! _\n",
    "\n",
    "// inl is_valid_alias (alias : rust.ref sm'.str) : bool =\n",
    "//     str_len alias > 0\n",
    "//     && str_len alias < 64\n",
    "//     && alias |> sm'.starts_with \"-\"\n",
    "//     && alias |> sm'.ends_with \"-\"\n",
    "//     && alias |> sm'.chars |>\n",
    "\n",
    "inl main () =\n",
    "    !\\($'\"} //\"') : ()\n",
    "\n",
    "    !\\($'\"#[near_sdk::near_bindgen] //\"') : ()\n",
    "\n",
    "    !\\($'\"#[derive( //\"') : ()\n",
    "    !\\($'\"  near_sdk::PanicOnDefault, //\"') : ()\n",
    "    !\\($'\"  borsh::BorshDeserialize, //\"') : ()\n",
    "    !\\($'\"  borsh::BorshSerialize, //\"') : ()\n",
    "    !\\($'\")] //\"') : ()\n",
    "\n",
    "    !\\($'\"pub struct State { //\"') : ()\n",
    "    !\\($'\"    version: u32, //\"') : ()\n",
    "    !\\($'\"    alias_map: near_sdk::store::LookupMap< //\"') : ()\n",
    "    !\\($'\"      String, //\"') : ()\n",
    "    !\\($'\"      std::collections::HashMap<near_sdk::AccountId, (u64, u32)>, //\"') : ()\n",
    "    !\\($'\"    >, //\"') : ()\n",
    "    !\\($'\"    account_map: near_sdk::store::LookupMap<near_sdk::AccountId, String>, //\"') : ()\n",
    "    !\\($'\"} //\"') : ()\n",
    "\n",
    "\n",
    "    !\\($'\"#[near_sdk::near_bindgen] //\"') : ()\n",
    "    !\\($'\"impl State { //\"') : ()\n",
    "\n",
    "    !\\($'\"#[init] //\"') : ()\n",
    "    !\\($'\"pub fn new() -> Self { //\"') : ()\n",
    "    !\\($'\"  Self { //\"') : ()\n",
    "    !\\($'\"    version: 1, //\"') : ()\n",
    "    !\\($'\"    alias_map: near_sdk::store::LookupMap::new(b\\\\\\\"l\\\\\\\"), //\"') : ()\n",
    "    !\\($'\"    account_map: near_sdk::store::LookupMap::new(b\\\\\\\"c\\\\\\\"), //\"') : ()\n",
    "    !\\($'\"  } //\"') : ()\n",
    "    !\\($'\"} //\"') : ()\n",
    "\n",
    "    !\\($'\"fn is_valid_alias(alias: &str) -> bool { //\"') : ()\n",
    "    !\\($'\"  alias.len() > 0 //\"') : ()\n",
    "    !\\($'\"    && alias.len() < 64 //\"') : ()\n",
    "    !\\($'\"    && \\!alias.starts_with(\\'-\\') //\"') : ()\n",
    "    !\\($'\"    && \\!alias.ends_with(\\'-\\') //\"') : ()\n",
    "    !\\($'\"    && alias.chars().all(|c| c.is_alphanumeric() || c == \\'-\\') //\"') : ()\n",
    "    !\\($'\"} //\"') : ()\n",
    "    \n",
    "    !\\($'\"pub fn generate_cid( //\"') : ()\n",
    "    !\\($'\"  &self, //\"') : ()\n",
    "    !\\($'\"  content: Vec<u8>, //\"') : ()\n",
    "    !\\($'\") -> String { //\"') : ()\n",
    "    !\\($'\"  fn encode_u64(value: u64) -> Vec<u8> { //\"') : ()\n",
    "    !\\($'\"    let mut buffer = unsigned_varint::encode::u64_buffer(); //\"') : ()\n",
    "    !\\($'\"    unsigned_varint::encode::u64(value, &mut buffer).to_vec() //\"') : ()\n",
    "    !\\($'\"  } //\"') : ()\n",
    "\n",
    "    !\\($'\"  fn sha256_hash(content: &[u8]) -> Vec<u8> { //\"') : ()\n",
    "    !\\($'\"    let mut hasher: sha2::Sha256 = sha2::Digest::new(); //\"') : ()\n",
    "    !\\($'\"    sha2::Digest::update(&mut hasher, content); //\"') : ()\n",
    "    !\\($'\"    sha2::Digest::finalize(hasher).to_vec() //\"') : ()\n",
    "    !\\($'\"  } //\"') : ()\n",
    "\n",
    "    !\\($'\"  let version: u8 = 1; //\"') : ()\n",
    "    !\\($'\"  let codec_raw: u64 = 0x55; //\"') : ()\n",
    "\n",
    "    !\\($'\"  let codec_bytes = encode_u64(codec_raw); //\"') : ()\n",
    "    !\\($'\"  let hash_result = sha256_hash(&content); //\"') : ()\n",
    "    !\\($'\"  let multihash = std::iter::once(0x12) //\"') : ()\n",
    "    !\\($'\"    .chain(std::iter::once(32)) //\"') : ()\n",
    "    !\\($'\"    .chain(hash_result.into_iter()) //\"') : ()\n",
    "    !\\($'\"    .collect(); //\"') : ()\n",
    "    !\\($'\"  let cid_bytes = [vec\\![version], codec_bytes, multihash].concat(); //\"') : ()\n",
    "    !\\($'\"  multibase::encode(multibase::Base::Base32Lower, &cid_bytes) //\"') : ()\n",
    "    !\\($'\"} //\"') : ()\n",
    "\n",
    "    !\\($'\"#[result_serializer(borsh)] //\"') : ()\n",
    "    !\\($'\"pub fn generate_cid_borsh( //\"') : ()\n",
    "    !\\($'\"  &self, //\"') : ()\n",
    "    !\\($'\"  #[serializer(borsh)] content: Vec<u8>, //\"') : ()\n",
    "    !\\($'\") -> String { //\"') : ()\n",
    "    !\\($'\"  self.generate_cid(content) //\"') : ()\n",
    "    !\\($'\"} //\"') : ()\n",
    "\n",
    "    !\\($'\"pub fn claim_alias( //\"') : ()\n",
    "    !\\($'\"  &mut self, //\"') : ()\n",
    "    !\\($'\"  alias: String, //\"') : ()\n",
    "    !\\($'\") { //\"') : ()\n",
    "    !\\($'\"  let account_id = near_sdk::env::signer_account_id(); //\"') : ()\n",
    "    !\\($'\"  let timestamp = near_sdk::env::block_timestamp(); //\"') : ()\n",
    "\n",
    "    !\\($'\"  near_sdk::log\\!( //\"') : ()\n",
    "    !\\($'\"    \\\\\\\"{}\\\\\\\", //\"') : ()\n",
    "    !\\($'\"    format\\!( //\"') : ()\n",
    "    !\\($'\"      \\\\\\\"claim_alias \"') : ()\n",
    "    !\\($'\"            alias: {alias:#?} \"') : ()\n",
    "    !\\($'\"            account_id: {account_id:#?} \"') : ()\n",
    "    !\\($'\"            timestamp: {timestamp:#?}\\\\\\\" //\"') : ()\n",
    "    !\\($'\"    ) //\"') : ()\n",
    "    !\\($'\"  ); //\"') : ()\n",
    "\n",
    "    !\\($'\"  if \\!Self::is_valid_alias(&alias) { //\"') : ()\n",
    "    !\\($'\"    near_sdk::env::panic_str(\\\\\\\"Invalid alias\\\\\\\"); //\"') : ()\n",
    "    !\\($'\"  } //\"') : ()\n",
    "\n",
    "    !\\($'\"  if let Some(previous_alias) = self.account_map.get(&account_id) { //\"') : ()\n",
    "    !\\($'\"    if *previous_alias == alias { //\"') : ()\n",
    "    !\\($'\"      near_sdk::log\\!(\\\\\\\"{}\\\\\\\", \\\\\\\"Alias already claimed\\\\\\\"); //\"') : ()\n",
    "    !\\($'\"      return; //\"') : ()\n",
    "    !\\($'\"    } //\"') : ()\n",
    "\n",
    "    !\\($'\"    self.alias_map //\"') : ()\n",
    "    !\\($'\"      .get_mut(previous_alias) //\"') : ()\n",
    "    !\\($'\"      .unwrap() //\"') : ()\n",
    "    !\\($'\"      .remove(&account_id); //\"') : ()\n",
    "    !\\($'\"  } //\"') : ()\n",
    "\n",
    "    !\\($'\"  self.account_map.insert(account_id.clone(), alias.clone()); //\"') : ()\n",
    "\n",
    "    !\\($'\"  let new_alias_account_map = match self.alias_map.get(&alias) { //\"') : ()\n",
    "    !\\($'\"    None => { //\"') : ()\n",
    "    !\\($'\"      let mut new_map = std::collections::HashMap::new(); //\"') : ()\n",
    "    !\\($'\"      new_map.insert(account_id, (timestamp, 0u32)); //\"') : ()\n",
    "    !\\($'\"      new_map //\"') : ()\n",
    "    !\\($'\"    } //\"') : ()\n",
    "    !\\($'\"    Some(accounts) => { //\"') : ()\n",
    "    !\\($'\"      let mut accounts_vec = accounts.iter().collect::<Vec<_>>(); //\"') : ()\n",
    "    !\\($'\"      accounts_vec.sort_unstable_by_key(|(_, (_, index))| index); //\"') : ()\n",
    "    !\\($'\"      let mut new_map = accounts_vec //\"') : ()\n",
    "    !\\($'\"        .iter() //\"') : ()\n",
    "    !\\($'\"        .enumerate() //\"') : ()\n",
    "    !\\($'\"        .map(|(i, (account_id, (timestamp, _)))| { //\"') : ()\n",
    "    !\\($'\"          ((*account_id).clone(), (*timestamp, i as u32)) //\"') : ()\n",
    "    !\\($'\"        }) //\"') : ()\n",
    "    !\\($'\"        .collect::<std::collections::HashMap<_, _>>(); //\"') : ()\n",
    "    !\\($'\"      new_map.insert(account_id, (timestamp, accounts_vec.len() as u32)); //\"') : ()\n",
    "    !\\($'\"      new_map //\"') : ()\n",
    "    !\\($'\"    } //\"') : ()\n",
    "    !\\($'\"  }; //\"') : ()\n",
    "\n",
    "    !\\($'\"  self.alias_map.insert(alias, new_alias_account_map); //\"') : ()\n",
    "    !\\($'\"} //\"') : ()\n",
    "\n",
    "    !\\($'\"pub fn get_account_info( //\"') : ()\n",
    "    !\\($'\"  &self, //\"') : ()\n",
    "    !\\($'\"  account_id: near_sdk::AccountId, //\"') : ()\n",
    "    !\\($'\") -> Option<(String, (u64, u32))> { //\"') : ()\n",
    "    !\\($'\"  near_sdk::log\\!( //\"') : ()\n",
    "    !\\($'\"    \\\\\\\"{}\\\\\\\", //\"') : ()\n",
    "    !\\($'\"    format\\!(\\\\\\\"get_account_info / account_id: {account_id:#?}\\\\\\\") //\"') : ()\n",
    "    !\\($'\"); //\"') : ()\n",
    "\n",
    "    !\\($'\"  self.account_map.get(&account_id).and_then(|alias| { //\"') : ()\n",
    "    !\\($'\"    self.alias_map //\"') : ()\n",
    "    !\\($'\"      .get(alias) //\"') : ()\n",
    "    !\\($'\"      .map(|accounts| (alias.clone(), *accounts.get(&account_id).unwrap())) //\"') : ()\n",
    "    !\\($'\"  }) //\"') : ()\n",
    "    !\\($'\"} //\"') : ()\n",
    "\n",
    "    !\\($'\"pub fn get_alias_map( //\"') : ()\n",
    "    !\\($'\"  &self, //\"') : ()\n",
    "    !\\($'\"  alias: String, //\"') : ()\n",
    "    !\\($'\") -> Option<std::collections::HashMap<near_sdk::AccountId, (u64, u32)>> { //\"') : ()\n",
    "    !\\($'\"  near_sdk::log\\!( //\"') : ()\n",
    "    !\\($'\"    \\\\\\\"{}\\\\\\\", //\"') : ()\n",
    "    !\\($'\"    format\\!(\\\\\\\"get_alias_map / alias: {alias:#?}\\\\\\\") //\"') : ()\n",
    "    !\\($'\"  ); //\"') : ()\n",
    "\n",
    "    !\\($'\"  self.alias_map.get(&alias).cloned() //\"') : ()\n",
    "    !\\($'\"} //\"') : ()\n",
    "\n",
    "    !\\($'\"#[result_serializer(borsh)] //\"') : ()\n",
    "    !\\($'\"pub fn get_alias_map_borsh( //\"') : ()\n",
    "    !\\($'\"  &self, //\"') : ()\n",
    "    !\\($'\"  #[serializer(borsh)] alias: String, //\"') : ()\n",
    "    !\\($'\") -> Option<std::collections::HashMap<near_sdk::AccountId, (u64, u32)>> { //\"') : ()\n",
    "    !\\($'\"  self.get_alias_map(alias) //\"') : ()\n",
    "    !\\($'\"} //\"') : ()\n",
    "\n",
    "    !\\($'\"} //\"') : ()\n",
    "\n",
    "    !\\($'\"fn _main() { //\"') : ()\n",
    "\n",
    "inl main () =\n",
    "    $'!main |> ignore' : ()"
   ]
  }
 ],
 "metadata": {},
 "nbformat": 4,
 "nbformat_minor": 5
}