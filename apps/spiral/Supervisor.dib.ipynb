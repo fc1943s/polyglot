{
 "cells": [
  {
   "cell_type": "markdown",
   "metadata": {},
   "source": [
    "# Supervisor (Polyglot)"
   ]
  },
  {
   "cell_type": "code",
   "execution_count": null,
   "metadata": {
    "dotnet_interactive": {
     "language": "fsharp"
    },
    "polyglot_notebook": {
     "kernelName": "fsharp"
    }
   },
   "outputs": [],
   "source": [
    "#r @\"../../../../../../../.nuget/packages/fsharp.control.asyncseq/3.2.1/lib/netstandard2.1/FSharp.Control.AsyncSeq.dll\"\n",
    "#r @\"../../../../../../../.nuget/packages/system.reactive/6.0.1-preview.1/lib/net6.0/System.Reactive.dll\"\n",
    "#r @\"../../../../../../../.nuget/packages/system.reactive.linq/6.0.1-preview.1/lib/netstandard2.0/System.Reactive.Linq.dll\"\n",
    "#r @\"../../../../../../../.nuget/packages/argu/6.2.2/lib/netstandard2.0/Argu.dll\"\n",
    "#r @\"../../../../../../../.nuget/packages/microsoft.aspnetcore.http.connections.common/7.0.0/lib/net7.0/Microsoft.AspNetCore.Http.Connections.Common.dll\"\n",
    "#r @\"../../../../../../../.nuget/packages/microsoft.aspnetcore.http.connections.client/7.0.0/lib/net7.0/Microsoft.AspNetCore.Http.Connections.Client.dll\"\n",
    "#r @\"../../../../../../../.nuget/packages/microsoft.aspnetcore.signalr.common/7.0.0/lib/net7.0/Microsoft.AspNetCore.SignalR.Common.dll\"\n",
    "#r @\"../../../../../../../.nuget/packages/microsoft.aspnetcore.signalr.client/7.0.0/lib/net7.0/Microsoft.AspNetCore.SignalR.Client.dll\"\n",
    "#r @\"../../../../../../../.nuget/packages/microsoft.aspnetcore.signalr.client.core/7.0.0/lib/net7.0/Microsoft.AspNetCore.SignalR.Client.Core.dll\"\n",
    "#r @\"../../../../../../../.nuget/packages/fsharp.json/0.4.1/lib/netstandard2.0/FSharp.Json.dll\""
   ]
  },
  {
   "cell_type": "code",
   "execution_count": null,
   "metadata": {
    "dotnet_interactive": {
     "language": "fsharp"
    },
    "polyglot_notebook": {
     "kernelName": "fsharp"
    }
   },
   "outputs": [],
   "source": [
    "#!import ../../lib/fsharp/Notebooks.dib\n",
    "#!import ../../lib/fsharp/Testing.dib"
   ]
  },
  {
   "cell_type": "code",
   "execution_count": null,
   "metadata": {
    "dotnet_interactive": {
     "language": "fsharp"
    },
    "polyglot_notebook": {
     "kernelName": "fsharp"
    }
   },
   "outputs": [],
   "source": [
    "#!import ../../lib/fsharp/Common.fs\n",
    "#!import ../../lib/fsharp/CommonFSharp.fs\n",
    "#!import ../../lib/fsharp/Async.fs\n",
    "#!import ../../lib/fsharp/AsyncSeq.fs\n",
    "#!import ../../lib/fsharp/Runtime.fs\n",
    "#!import ../../lib/fsharp/FileSystem.fs"
   ]
  },
  {
   "cell_type": "code",
   "execution_count": null,
   "metadata": {
    "dotnet_interactive": {
     "language": "fsharp"
    },
    "polyglot_notebook": {
     "kernelName": "fsharp"
    }
   },
   "outputs": [],
   "source": [
    "#if !INTERACTIVE\n",
    "open Lib\n",
    "#endif"
   ]
  },
  {
   "cell_type": "code",
   "execution_count": null,
   "metadata": {
    "dotnet_interactive": {
     "language": "fsharp"
    },
    "polyglot_notebook": {
     "kernelName": "fsharp"
    }
   },
   "outputs": [],
   "source": [
    "open Common\n",
    "open SpiralFileSystem.Operators\n",
    "open Microsoft.AspNetCore.SignalR.Client"
   ]
  },
  {
   "cell_type": "markdown",
   "metadata": {},
   "source": [
    "## sendJson"
   ]
  },
  {
   "cell_type": "code",
   "execution_count": null,
   "metadata": {
    "dotnet_interactive": {
     "language": "fsharp"
    },
    "polyglot_notebook": {
     "kernelName": "fsharp"
    }
   },
   "outputs": [],
   "source": [
    "let inline sendJson (port : int) (json : string) = async {\n",
    "    let host = \"127.0.0.1\"\n",
    "    let! portOpen = SpiralNetworking.test_port_open host port\n",
    "    if portOpen then\n",
    "        try\n",
    "            let connection = HubConnectionBuilder().WithUrl($\"http://{host}:{port}\").Build()\n",
    "            do! connection.StartAsync () |> Async.AwaitTask\n",
    "            let! result = connection.InvokeAsync<string>(\"ClientToServerMsg\", json) |> Async.AwaitTask\n",
    "            do! connection.StopAsync () |> Async.AwaitTask\n",
    "            trace Verbose (fun () -> $\"Supervisor.sendJson / port: {port} / json: {json |> SpiralSm.ellipsis_end 200} / result: {result |> Option.ofObj |> Option.map (SpiralSm.ellipsis_end 200)}\") _locals\n",
    "            return Some result\n",
    "        with ex ->\n",
    "            trace Critical (fun () -> $\"Supervisor.sendJson / port: {port} / json: {json |> SpiralSm.ellipsis_end 200} / ex: {ex |> SpiralSm.format_exception}\") _locals\n",
    "            return None\n",
    "    else\n",
    "        trace Debug (fun () -> \"Supervisor.sendJson / port: {port} / error: port not open\") _locals\n",
    "        return None\n",
    "}"
   ]
  },
  {
   "cell_type": "markdown",
   "metadata": {},
   "source": [
    "## sendObj"
   ]
  },
  {
   "cell_type": "code",
   "execution_count": null,
   "metadata": {
    "dotnet_interactive": {
     "language": "fsharp"
    },
    "polyglot_notebook": {
     "kernelName": "fsharp"
    }
   },
   "outputs": [],
   "source": [
    "let inline sendObj port obj =\n",
    "    obj\n",
    "    |> System.Text.Json.JsonSerializer.Serialize\n",
    "    |> sendJson port"
   ]
  },
  {
   "cell_type": "markdown",
   "metadata": {},
   "source": [
    "## awaitCompiler"
   ]
  },
  {
   "cell_type": "code",
   "execution_count": null,
   "metadata": {
    "dotnet_interactive": {
     "language": "fsharp"
    },
    "polyglot_notebook": {
     "kernelName": "fsharp"
    }
   },
   "outputs": [],
   "source": [
    "type VSCPos = {| line : int; character : int |}\n",
    "type VSCRange = VSCPos * VSCPos\n",
    "type RString = VSCRange * string\n",
    "type TracedError = {| trace : string list; message : string |}\n",
    "type ClientErrorsRes =\n",
    "    | FatalError of string\n",
    "    | TracedError of TracedError\n",
    "    | PackageErrors of {| uri : string; errors : RString list |}\n",
    "    | TokenizerErrors of {| uri : string; errors : RString list |}\n",
    "    | ParserErrors of {| uri : string; errors : RString list |}\n",
    "    | TypeErrors of {| uri : string; errors : RString list |}"
   ]
  },
  {
   "cell_type": "code",
   "execution_count": null,
   "metadata": {
    "dotnet_interactive": {
     "language": "fsharp"
    },
    "polyglot_notebook": {
     "kernelName": "fsharp"
    }
   },
   "outputs": [],
   "source": [
    "let workspaceRoot = SpiralFileSystem.get_workspace_root ()"
   ]
  },
  {
   "cell_type": "code",
   "execution_count": null,
   "metadata": {
    "dotnet_interactive": {
     "language": "fsharp"
    },
    "polyglot_notebook": {
     "kernelName": "fsharp"
    }
   },
   "outputs": [],
   "source": [
    "let inline awaitCompiler port cancellationToken = async {\n",
    "    let host = \"127.0.0.1\"\n",
    "    let struct (ct, disposable) = cancellationToken |> SpiralThreading.new_disposable_token\n",
    "    let! ct = ct |> SpiralAsync.merge_cancellation_token_with_default_async\n",
    "\n",
    "    let compiler = MailboxProcessor.Start (fun inbox -> async {\n",
    "        let! availablePort = SpiralNetworking.get_available_port (Some 500) host port\n",
    "        if availablePort <> port then\n",
    "            inbox.Post (port, false)\n",
    "        else\n",
    "            let compilerPath =\n",
    "                workspaceRoot </> \"deps/The-Spiral-Language/The Spiral Language 2/artifacts/bin/The Spiral Language 2/release\"\n",
    "                |> System.IO.Path.GetFullPath\n",
    "\n",
    "            let dllPath = compilerPath </> \"Spiral.dll\"\n",
    "\n",
    "            let! exitCode, result =\n",
    "                SpiralRuntime.execution_options (fun x ->\n",
    "                    { x with\n",
    "                        l0 = Some ct\n",
    "                        l1 = $@\"dotnet \"\"{dllPath}\"\" --port {availablePort} --default-int i32 --default-float f64\"\n",
    "                        l3 = Some (fun struct (_, line, _) -> async {\n",
    "                            if line |> SpiralSm.contains $\"System.IO.IOException: Failed to bind to address http://{host}:{port}: address already in use.\" then\n",
    "                                inbox.Post (port, false)\n",
    "\n",
    "                            if line |> SpiralSm.contains $\"Server bound to: http://localhost:{availablePort}\" then\n",
    "                                let rec loop retry = async {\n",
    "                                    do!\n",
    "                                        SpiralNetworking.wait_for_port_access (Some 100) true host availablePort\n",
    "                                        |> Async.runWithTimeoutAsync 2000\n",
    "                                        |> Async.Ignore\n",
    "\n",
    "                                    let _locals () = $\"port: {availablePort} / retry: {retry} / {_locals ()}\"\n",
    "                                    try\n",
    "                                        let pingObj = {| Ping = true |}\n",
    "                                        let! pingResult = pingObj |> sendObj availablePort\n",
    "                                        trace Verbose (fun () -> $\"awaitCompiler / Ping / result: '{pingResult}'\") _locals\n",
    "\n",
    "                                        inbox.Post (availablePort, true)\n",
    "                                    with ex ->\n",
    "                                        trace Verbose (fun () -> $\"awaitCompiler / Ping / ex: {ex |> SpiralSm.format_exception}\") _locals\n",
    "                                        do! Async.Sleep 10\n",
    "                                        do! loop (retry + 1)\n",
    "                                }\n",
    "                                do! loop 0\n",
    "                        })\n",
    "                        l6 = Some workspaceRoot\n",
    "                    }\n",
    "                )\n",
    "                |> SpiralRuntime.execute_with_options_async\n",
    "\n",
    "            trace Debug (fun () -> $\"awaitCompiler / exitCode: {exitCode} / result: {result}\") _locals\n",
    "            disposable.Dispose ()\n",
    "    }, ct)\n",
    "\n",
    "    let! serverPort, managed = compiler.Receive ()\n",
    "\n",
    "    let connection = HubConnectionBuilder().WithUrl($\"http://{host}:{serverPort}\").Build ()\n",
    "    do! connection.StartAsync () |> Async.AwaitTask\n",
    "\n",
    "    let event = Event<_> ()\n",
    "    let disposable' = connection.On<string> (\"ServerToClientMsg\", event.Trigger)\n",
    "    let stream =\n",
    "        FSharp.Control.AsyncSeq.unfoldAsync\n",
    "            (fun () -> async {\n",
    "                let! msg = event.Publish |> Async.AwaitEvent\n",
    "                return Some (msg |> FSharp.Json.Json.deserialize<ClientErrorsRes>, ())\n",
    "            })\n",
    "            ()\n",
    "\n",
    "    let disposable' =\n",
    "        new_disposable (fun () ->\n",
    "            async {\n",
    "                disposable'.Dispose ()\n",
    "                do! connection.StopAsync () |> Async.AwaitTask\n",
    "                disposable.Dispose ()\n",
    "                if managed\n",
    "                then do!\n",
    "                    SpiralNetworking.wait_for_port_access (Some 100) false host serverPort\n",
    "                    |> Async.runWithTimeoutAsync 2000\n",
    "                    |> Async.Ignore\n",
    "            }\n",
    "            |> Async.RunSynchronously\n",
    "        )\n",
    "\n",
    "    return\n",
    "        serverPort,\n",
    "        stream,\n",
    "        ct,\n",
    "        disposable'\n",
    "}"
   ]
  },
  {
   "cell_type": "markdown",
   "metadata": {},
   "source": [
    "## getFilePathFromUri"
   ]
  },
  {
   "cell_type": "code",
   "execution_count": null,
   "metadata": {
    "dotnet_interactive": {
     "language": "fsharp"
    },
    "polyglot_notebook": {
     "kernelName": "fsharp"
    }
   },
   "outputs": [],
   "source": [
    "let inline getFilePathFromUri uri =\n",
    "    match System.Uri.TryCreate (uri, System.UriKind.Absolute) with\n",
    "    | true, uri -> uri.AbsolutePath |> System.IO.Path.GetFullPath\n",
    "    | _ -> failwith \"invalid uri\""
   ]
  },
  {
   "cell_type": "markdown",
   "metadata": {},
   "source": [
    "## getCompilerPort"
   ]
  },
  {
   "cell_type": "code",
   "execution_count": null,
   "metadata": {
    "dotnet_interactive": {
     "language": "fsharp"
    },
    "polyglot_notebook": {
     "kernelName": "fsharp"
    }
   },
   "outputs": [],
   "source": [
    "let inline getCompilerPort () =\n",
    "    13805"
   ]
  },
  {
   "cell_type": "markdown",
   "metadata": {},
   "source": [
    "## serialize_obj"
   ]
  },
  {
   "cell_type": "code",
   "execution_count": null,
   "metadata": {
    "dotnet_interactive": {
     "language": "fsharp"
    },
    "polyglot_notebook": {
     "kernelName": "fsharp"
    }
   },
   "outputs": [],
   "source": [
    "    let serializeObj obj =\n",
    "        obj\n",
    "        |> FSharp.Json.Json.serialize\n",
    "        |> SpiralSm.replace \"\\\\\\\\\" \"\\\\\"\n",
    "        |> SpiralSm.replace \"\\\\r\\\\n\" \"\\n\"\n",
    "        |> SpiralSm.replace \"\\\\n\" \"\\n\""
   ]
  },
  {
   "cell_type": "markdown",
   "metadata": {},
   "source": [
    "## buildFile"
   ]
  },
  {
   "cell_type": "code",
   "execution_count": null,
   "metadata": {
    "dotnet_interactive": {
     "language": "fsharp"
    },
    "polyglot_notebook": {
     "kernelName": "fsharp"
    }
   },
   "outputs": [],
   "source": [
    "let inline buildFile timeout port cancellationToken path = async {\n",
    "    let fullPath = path |> System.IO.Path.GetFullPath\n",
    "    let fileDir = fullPath |> System.IO.Path.GetDirectoryName\n",
    "    let fileName = fullPath |> System.IO.Path.GetFileNameWithoutExtension\n",
    "    let! code = fullPath |> SpiralFileSystem.read_all_text_async\n",
    "\n",
    "    let stream, disposable = fileDir |> FileSystem.watchDirectory (fun _ -> false)\n",
    "    use _ = disposable\n",
    "\n",
    "    let struct (token, disposable) = SpiralThreading.new_disposable_token cancellationToken\n",
    "    use _ = disposable\n",
    "\n",
    "    let! serverPort, errors, ct, disposable = awaitCompiler port (Some token)\n",
    "    use _ = disposable\n",
    "\n",
    "    let fsxContentSeq =\n",
    "        stream\n",
    "        |> FSharp.Control.AsyncSeq.chooseAsync (function\n",
    "            | _, (FileSystem.FileSystemChange.Changed (path, _))\n",
    "                when (path |> System.IO.Path.GetFileName) = $\"{fileName}.fsx\"\n",
    "                ->\n",
    "                    fileDir </> path |> SpiralFileSystem.read_all_text_retry_async\n",
    "            | _ -> None |> Async.init\n",
    "        )\n",
    "        |> FSharp.Control.AsyncSeq.map (fun content ->\n",
    "            Some (content |> SpiralSm.replace \"\\r\\n\" \"\\n\"), None\n",
    "        )\n",
    "\n",
    "    let inline printErrorData (data : {| uri : string; errors : RString list |}) =\n",
    "        let fileName = data.uri |> System.IO.Path.GetFileName\n",
    "        let errors =\n",
    "            data.errors\n",
    "            |> List.map snd\n",
    "            |> SpiralSm.concat \"\\n\"\n",
    "        $\"{fileName}:\\n{errors}\"\n",
    "\n",
    "    let errorsSeq =\n",
    "        errors\n",
    "        |> FSharp.Control.AsyncSeq.choose (fun error ->\n",
    "            match error with\n",
    "            | FatalError message ->\n",
    "                Some (message, error)\n",
    "            | TracedError data ->\n",
    "                Some (data.message, error)\n",
    "            | PackageErrors data when data.errors |> List.isEmpty |> not ->\n",
    "                Some (data |> printErrorData, error)\n",
    "            | TokenizerErrors data when data.errors |> List.isEmpty |> not ->\n",
    "                Some (data |> printErrorData, error)\n",
    "            | ParserErrors data when data.errors |> List.isEmpty |> not ->\n",
    "                Some (data |> printErrorData, error)\n",
    "            | TypeErrors data when data.errors |> List.isEmpty |> not ->\n",
    "                Some (data |> printErrorData, error)\n",
    "            | _ -> None\n",
    "        )\n",
    "        |> FSharp.Control.AsyncSeq.map (fun (message, error) ->\n",
    "            None, Some (message, error)\n",
    "        )\n",
    "\n",
    "    let timerSeq =\n",
    "        1000\n",
    "        |> FSharp.Control.AsyncSeq.intervalMs\n",
    "        |> FSharp.Control.AsyncSeq.map (fun _ -> None, None)\n",
    "\n",
    "    let outputSeq =\n",
    "        [ fsxContentSeq; errorsSeq; timerSeq ]\n",
    "        |> FSharp.Control.AsyncSeq.mergeAll\n",
    "\n",
    "    let! outputChild =\n",
    "        ((None, [], 0), outputSeq)\n",
    "        ||> FSharp.Control.AsyncSeq.scan (\n",
    "            fun (fsxContentResult, errors, typeErrorCount) (fsxContent, error) ->\n",
    "                match fsxContent, error with\n",
    "                | Some fsxContent, None -> Some fsxContent, errors, typeErrorCount\n",
    "                | None, Some (_, FatalError \"File main has a type error somewhere in its path.\") ->\n",
    "                    fsxContentResult, errors, typeErrorCount + 1\n",
    "                | None, Some error -> fsxContentResult, error :: errors, typeErrorCount\n",
    "                | None, None when typeErrorCount >= 1 ->\n",
    "                    fsxContentResult, errors, typeErrorCount + 1\n",
    "                | _ -> fsxContentResult, errors, typeErrorCount\n",
    "        )\n",
    "        |> FSharp.Control.AsyncSeq.takeWhileInclusive (fun (fsxContent, errors, typeErrorCount) ->\n",
    "            trace Debug (fun () -> $\"buildFile / takeWhileInclusive / path: {path} / fsxContent: {fsxContent |> Option.defaultValue System.String.Empty |> SpiralSm.ellipsis_end 400} / errors: {errors |> serializeObj} / typeErrorCount: {typeErrorCount}\") _locals\n",
    "#if INTERACTIVE\n",
    "            let errorWait = 2\n",
    "#else\n",
    "            let errorWait = 4\n",
    "#endif\n",
    "            match fsxContent, errors with\n",
    "            | None, [] when typeErrorCount > errorWait -> false\n",
    "            | None, [] -> true\n",
    "            | _ -> false\n",
    "        )\n",
    "        |> FSharp.Control.AsyncSeq.tryLast\n",
    "        |> Async.withCancellationToken ct\n",
    "        |> Async.catch\n",
    "        |> Async.runWithTimeoutAsync timeout\n",
    "        |> Async.StartChild\n",
    "\n",
    "    let fullPathUri = fullPath |> SpiralFileSystem.normalize_path |> SpiralFileSystem.new_file_uri\n",
    "\n",
    "    let fileOpenObj = {| FileOpen = {| uri = fullPathUri; spiText = code |} |}\n",
    "    let! _fileOpenResult = fileOpenObj |> sendObj serverPort\n",
    "\n",
    "    // do! Async.Sleep 60\n",
    "\n",
    "    let buildFileObj = {| BuildFile = {| uri = fullPathUri; backend = \"Fsharp\" |} |}\n",
    "    let! _buildFileResult = buildFileObj |> sendObj serverPort\n",
    "\n",
    "    let! result =\n",
    "        outputChild\n",
    "        |> Async.map (function\n",
    "            | Some (Ok (Some (fsxCode, errors, _))) ->\n",
    "                fsxCode, errors |> List.distinct |> List.rev\n",
    "            | Some (Error ex) ->\n",
    "                trace Critical (fun () -> $\"buildFile / error: {ex |> serializeObj}\") _locals\n",
    "                None, []\n",
    "            | _ -> None, []\n",
    "        )\n",
    "\n",
    "    if fileDir |> SpiralSm.starts_with (workspaceRoot </> \"target\") then\n",
    "        let fileDirUri = fileDir |> SpiralFileSystem.normalize_path |> SpiralFileSystem.new_file_uri\n",
    "        let fileDeleteObj = {| FileDelete = {| uris = [| fileDirUri |] |} |}\n",
    "        let! _fileDeleteResult = fileDeleteObj |> sendObj serverPort\n",
    "        ()\n",
    "\n",
    "    let fsxPath = fileDir </> $\"{fileName}.fsx\"\n",
    "    return fsxPath, result\n",
    "}"
   ]
  },
  {
   "cell_type": "markdown",
   "metadata": {},
   "source": [
    "## persistCode"
   ]
  },
  {
   "cell_type": "code",
   "execution_count": null,
   "metadata": {
    "dotnet_interactive": {
     "language": "fsharp"
    },
    "polyglot_notebook": {
     "kernelName": "fsharp"
    }
   },
   "outputs": [],
   "source": [
    "let inline persistCode code = async {\n",
    "    let targetDir = workspaceRoot </> \"target/polyglot/spiral_eval\"\n",
    "\n",
    "    let packagesDir = targetDir </> \"packages\"\n",
    "\n",
    "    let hashHex = code |> SpiralCrypto.hash_text\n",
    "\n",
    "    let codeDir = packagesDir </> hashHex\n",
    "\n",
    "    let mainPath = codeDir </> \"main.spi\"\n",
    "\n",
    "    codeDir |> System.IO.Directory.CreateDirectory |> ignore\n",
    "\n",
    "    do! code |> SpiralFileSystem.write_all_text_exists mainPath\n",
    "\n",
    "    let spiprojPath = codeDir </> \"package.spiproj\"\n",
    "    let spiprojCode =\n",
    "        $\"\"\"packageDir: {workspaceRoot </> \"lib\"}\n",
    "packages:\n",
    "    |core-\n",
    "    spiral-\n",
    "modules:\n",
    "    main\n",
    "\"\"\"\n",
    "    do! spiprojCode |> SpiralFileSystem.write_all_text_exists spiprojPath\n",
    "\n",
    "    let fsxPath = codeDir </> \"main.fsx\"\n",
    "\n",
    "    if fsxPath |> System.IO.File.Exists |> not\n",
    "    then return mainPath, None\n",
    "    else\n",
    "        let! oldCode = mainPath |> SpiralFileSystem.read_all_text_async\n",
    "        if oldCode <> code\n",
    "        then return mainPath, None\n",
    "        else\n",
    "            let! fsxCode = fsxPath |> SpiralFileSystem.read_all_text_async\n",
    "            return mainPath, Some (fsxPath, fsxCode |> SpiralSm.replace \"\\r\\n\" \"\\n\")\n",
    "}"
   ]
  },
  {
   "cell_type": "markdown",
   "metadata": {},
   "source": [
    "## buildCode"
   ]
  },
  {
   "cell_type": "code",
   "execution_count": null,
   "metadata": {
    "dotnet_interactive": {
     "language": "fsharp"
    },
    "polyglot_notebook": {
     "kernelName": "fsharp"
    }
   },
   "outputs": [],
   "source": [
    "let inline buildCode timeout cancellationToken code = async {\n",
    "    let! mainPath, fsx = code |> persistCode\n",
    "    match fsx with\n",
    "    | Some (fsxPath, fsxCode) -> return mainPath, (fsxPath, Some fsxCode), []\n",
    "    | None ->\n",
    "        let port = getCompilerPort ()\n",
    "        let! fsxPath, (fsxCode, errors) = mainPath |> buildFile timeout port cancellationToken\n",
    "        return mainPath, (fsxPath, fsxCode), errors\n",
    "}"
   ]
  },
  {
   "cell_type": "code",
   "execution_count": null,
   "metadata": {
    "dotnet_interactive": {
     "language": "fsharp"
    },
    "polyglot_notebook": {
     "kernelName": "fsharp"
    }
   },
   "outputs": [],
   "source": [
    "//// test\n",
    "\n",
    "let buildCode timeout cancellationToken code = buildCode timeout cancellationToken code"
   ]
  },
  {
   "cell_type": "code",
   "execution_count": null,
   "metadata": {
    "dotnet_interactive": {
     "language": "fsharp"
    },
    "polyglot_notebook": {
     "kernelName": "fsharp"
    }
   },
   "outputs": [
    {
     "name": "stdout",
     "output_type": "stream",
     "text": [
      "00:00:18   debug #1 run_with_timeout_async / timeout: 500\n",
      "00:00:15   debug #1 execute_with_options_async / options: struct (Some System.Threading.CancellationToken,\n",
      "        \"dotnet \"C:\\home\\git\\polyglot\\deps\\The-Spiral-Language\\The Spiral Language 2\\artifacts\\bin\\The Spiral Language 2\\release\\Spiral.dll\" --port 13805 --default-int i32 --default-float f64\",\n",
      "        [||], Some <fun:buildCode@3-398>, None, true,\n",
      "        Some \"C:\\home\\git\\polyglot\")\n",
      "00:00:15 verbose #2 > 00:00:00   debug #1 pwd: C:\\home\\git\\polyglot\n",
      "00:00:15 verbose #3 > 00:00:00   debug #2 dllPath: C:\\home\\git\\polyglot\\deps\\The-Spiral-Language\\The Spiral Language 2\\artifacts\\bin\\The Spiral Language 2\\release\n",
      "00:00:15 verbose #4 > 00:00:00   debug #3 targetDir: C:\\home\\git\\polyglot\\target/polyglot/spiral_eval\n",
      "00:00:18   debug #2 run_with_timeout_async / timeout: 100\n",
      "00:00:18 verbose #3 networking.wait_for_port_access / port: 13805 / retry: 0 / timeout: Some 100 / status: True\n",
      "00:00:18   debug #4 run_with_timeout_async / timeout: 100\n",
      "00:00:16 verbose #5 > Starting the Spiral Server. It is bound to: http://localhost:13805\n",
      "00:00:18   debug #5 run_with_timeout_async / timeout: 100\n",
      "00:00:12 verbose #1 Supervisor.sendJson / port: 13805 / json: {\"Ping\":true} / result:\n",
      "00:00:12 verbose #2 awaitCompiler / Ping / result: 'Some(null)' / port: 13805 / retry: 0\n",
      "00:00:16 verbose #6 > Server bound to: http://localhost:13805\n",
      "00:00:12   debug #3 buildFile / takeWhileInclusive / path: C:\\home\\git\\polyglot\\target/polyglot/spiral_eval\\packages\\0ad2ee90a0886647a7d9c334e1811a0c3ae5599125952e30eba9d5e3b57a56e0\\main.spi / fsxContent:  / errors: [] / typeErrorCount: 0\n",
      "00:00:12   debug #4 buildFile / takeWhileInclusive / path: C:\\home\\git\\polyglot\\target/polyglot/spiral_eval\\packages\\0ad2ee90a0886647a7d9c334e1811a0c3ae5599125952e30eba9d5e3b57a56e0\\main.spi / fsxContent:  / errors: [] / typeErrorCount: 0\n",
      "00:00:12 verbose #5 Supervisor.sendJson / port: 13805 / json: {\"FileOpen\":{\"spiText\":\"inl app () =\\n    console.write_line \\u0022text\\u0022\\n    1i32\\n\\ninl main ...ot/spiral_eval/packages/0ad2ee90a0886647a7d9c334e1811a0c3ae5599125952e30eba9d5e3b57a56e0/main.spi\"}} / result:\n",
      "00:00:12 verbose #6 Supervisor.sendJson / port: 13805 / json: {\"BuildFile\":{\"backend\":\"Fsharp\",\"uri\":\"file:///c:/home/git/polyglot/target/polyglot/spiral_eval/packages/0ad2ee90a0886647a7d9c334e1811a0c3ae5599125952e30eba9d5e3b57a56e0/main.spi\"}} / result:\n",
      "00:00:17 verbose #7 > 00:00:01   debug #4 Supervisor.supervisor_server.BuildFile / file: c:/home/git/polyglot/target/polyglot/spiral_eval/packages/0ad2ee90a0886647a7d9c334e1811a0c3ae5599125952e30eba9d5e3b57a56e0/main.spi\n",
      "00:00:13   debug #7 buildFile / takeWhileInclusive / path: C:\\home\\git\\polyglot\\target/polyglot/spiral_eval\\packages\\0ad2ee90a0886647a7d9c334e1811a0c3ae5599125952e30eba9d5e3b57a56e0\\main.spi / fsxContent:  / errors: [] / typeErrorCount: 0\n",
      "00:00:14   debug #8 buildFile / takeWhileInclusive / path: C:\\home\\git\\polyglot\\target/polyglot/spiral_eval\\packages\\0ad2ee90a0886647a7d9c334e1811a0c3ae5599125952e30eba9d5e3b57a56e0\\main.spi / fsxContent:  / errors: [] / typeErrorCount: 0\n",
      "00:00:15   debug #9 buildFile / takeWhileInclusive / path: C:\\home\\git\\polyglot\\target/polyglot/spiral_eval\\packages\\0ad2ee90a0886647a7d9c334e1811a0c3ae5599125952e30eba9d5e3b57a56e0\\main.spi / fsxContent:  / errors: [] / typeErrorCount: 0\n",
      "00:00:16   debug #10 buildFile / takeWhileInclusive / path: C:\\home\\git\\polyglot\\target/polyglot/spiral_eval\\packages\\0ad2ee90a0886647a7d9c334e1811a0c3ae5599125952e30eba9d5e3b57a56e0\\main.spi / fsxContent: let rec closure0 () () : int32 =\n",
      "    let v0 : string = \"text\"\n",
      "    System.Console.WriteLine v0\n",
      "    1\n",
      "let v0 : (unit -> int32) = closure0()\n",
      "()\n",
      " / errors: [] / typeErrorCount: 0\n",
      "00:00:16 verbose #11 Supervisor.sendJson / port: 13805 / json: {\"FileDelete\":{\"uris\":[\"file:///c:/home/git/polyglot/target/polyglot/spiral_eval/packages/0ad2ee90a0886647a7d9c334e1811a0c3ae5599125952e30eba9d5e3b57a56e0\"]}} / result:\n",
      "00:00:23 verbose #6 networking.wait_for_port_access / port: 13805 / retry: 0 / timeout: Some 100 / status: False\n",
      "00:00:23   debug #7 run_with_timeout_async / timeout: 100\n",
      "00:00:16   debug #12 watchWithFilter / Disposing watch stream / filter: FileName, LastWrite\n",
      "Some\n",
      "  (Some\n",
      "     \"let rec closure0 () () : int32 =\n",
      "    let v0 : string = \"text\"\n",
      "    System.Console.WriteLine v0\n",
      "    1\n",
      "let v0 : (unit -> int32) = closure0()\n",
      "()\n",
      "\",\n",
      "   [])\n",
      "\n"
     ]
    }
   ],
   "source": [
    "//// test\n",
    "\n",
    "\"\"\"inl app () =\n",
    "    console.write_line \"text\"\n",
    "    1i32\n",
    "\n",
    "inl main () =\n",
    "    app\n",
    "    |> dyn\n",
    "    |> ignore\n",
    "\"\"\"\n",
    "|> buildCode 15000 None\n",
    "|> Async.runWithTimeout 15000\n",
    "|> Option.map (fun (_, (_, fsxContent), errors) -> fsxContent, errors |> List.map fst)\n",
    "|> _assertEqual (\n",
    "    Some (\n",
    "        Some \"\"\"let rec closure0 () () : int32 =\n",
    "    let v0 : string = \"text\"\n",
    "    System.Console.WriteLine v0\n",
    "    1\n",
    "let v0 : (unit -> int32) = closure0()\n",
    "()\n",
    "\"\"\",\n",
    "        []\n",
    "    )\n",
    ")"
   ]
  },
  {
   "cell_type": "code",
   "execution_count": null,
   "metadata": {
    "dotnet_interactive": {
     "language": "fsharp"
    },
    "polyglot_notebook": {
     "kernelName": "fsharp"
    }
   },
   "outputs": [
    {
     "name": "stdout",
     "output_type": "stream",
     "text": [
      "00:00:23   debug #8 run_with_timeout_async / timeout: 500\n",
      "00:00:21   debug #8 execute_with_options_async / options: struct (Some System.Threading.CancellationToken,\n",
      "        \"dotnet \"C:\\home\\git\\polyglot\\deps\\The-Spiral-Language\\The Spiral Language 2\\artifacts\\bin\\The Spiral Language 2\\release\\Spiral.dll\" --port 13805 --default-int i32 --default-float f64\",\n",
      "        [||], Some <fun:buildCode@3-398>, None, true,\n",
      "        Some \"C:\\home\\git\\polyglot\")\n",
      "00:00:21 verbose #9 > 00:00:00   debug #1 pwd: C:\\home\\git\\polyglot\n",
      "00:00:21 verbose #10 > 00:00:00   debug #2 dllPath: C:\\home\\git\\polyglot\\deps\\The-Spiral-Language\\The Spiral Language 2\\artifacts\\bin\\The Spiral Language 2\\release\n",
      "00:00:21 verbose #11 > 00:00:00   debug #3 targetDir: C:\\home\\git\\polyglot\\target/polyglot/spiral_eval\n",
      "00:00:24   debug #9 run_with_timeout_async / timeout: 100\n",
      "00:00:24 verbose #10 networking.wait_for_port_access / port: 13805 / retry: 0 / timeout: Some 100 / status: True\n",
      "00:00:24   debug #11 run_with_timeout_async / timeout: 100\n",
      "00:00:24   debug #12 run_with_timeout_async / timeout: 100\n",
      "00:00:22 verbose #12 > Starting the Spiral Server. It is bound to: http://localhost:13805\n",
      "00:00:24   debug #13 run_with_timeout_async / timeout: 100\n",
      "00:00:18 verbose #13 Supervisor.sendJson / port: 13805 / json: {\"Ping\":true} / result:\n",
      "00:00:18 verbose #14 awaitCompiler / Ping / result: 'Some(null)' / port: 13805 / retry: 0\n",
      "00:00:22 verbose #13 > Server bound to: http://localhost:13805\n",
      "00:00:18   debug #15 buildFile / takeWhileInclusive / path: C:\\home\\git\\polyglot\\target/polyglot/spiral_eval\\packages\\e3b0c44298fc1c149afbf4c8996fb92427ae41e4649b934ca495991b7852b855\\main.spi / fsxContent:  / errors: [] / typeErrorCount: 0\n",
      "00:00:18   debug #16 buildFile / takeWhileInclusive / path: C:\\home\\git\\polyglot\\target/polyglot/spiral_eval\\packages\\e3b0c44298fc1c149afbf4c8996fb92427ae41e4649b934ca495991b7852b855\\main.spi / fsxContent:  / errors: [] / typeErrorCount: 0\n",
      "00:00:18 verbose #17 Supervisor.sendJson / port: 13805 / json: {\"FileOpen\":{\"spiText\":\"\",\"uri\":\"file:///c:/home/git/polyglot/target/polyglot/spiral_eval/packages/e3b0c44298fc1c149afbf4c8996fb92427ae41e4649b934ca495991b7852b855/main.spi\"}} / result:\n",
      "00:00:18 verbose #18 Supervisor.sendJson / port: 13805 / json: {\"BuildFile\":{\"backend\":\"Fsharp\",\"uri\":\"file:///c:/home/git/polyglot/target/polyglot/spiral_eval/packages/e3b0c44298fc1c149afbf4c8996fb92427ae41e4649b934ca495991b7852b855/main.spi\"}} / result:\n",
      "00:00:22 verbose #14 > 00:00:01   debug #4 Supervisor.supervisor_server.BuildFile / file: c:/home/git/polyglot/target/polyglot/spiral_eval/packages/e3b0c44298fc1c149afbf4c8996fb92427ae41e4649b934ca495991b7852b855/main.spi\n",
      "00:00:19   debug #19 buildFile / takeWhileInclusive / path: C:\\home\\git\\polyglot\\target/polyglot/spiral_eval\\packages\\e3b0c44298fc1c149afbf4c8996fb92427ae41e4649b934ca495991b7852b855\\main.spi / fsxContent:  / errors: [] / typeErrorCount: 0\n",
      "00:00:20   debug #20 buildFile / takeWhileInclusive / path: C:\\home\\git\\polyglot\\target/polyglot/spiral_eval\\packages\\e3b0c44298fc1c149afbf4c8996fb92427ae41e4649b934ca495991b7852b855\\main.spi / fsxContent:  / errors: [] / typeErrorCount: 0\n",
      "00:00:24 verbose #15 > Cannot find `main` in file main.\n",
      "00:00:24 verbose #16 > 00:00:03   debug #5 Supervisor.supervisor_server.BuildFile.handle_build_result.BuildSkip / file: c:/home/git/polyglot/target/polyglot/spiral_eval/packages/e3b0c44298fc1c149afbf4c8996fb92427ae41e4649b934ca495991b7852b855/main.spi\n",
      "00:00:21   debug #21 buildFile / takeWhileInclusive / path: C:\\home\\git\\polyglot\\target/polyglot/spiral_eval\\packages\\e3b0c44298fc1c149afbf4c8996fb92427ae41e4649b934ca495991b7852b855\\main.spi / fsxContent:  / errors: [] / typeErrorCount: 0\n",
      "00:00:22   debug #22 buildFile / takeWhileInclusive / path: C:\\home\\git\\polyglot\\target/polyglot/spiral_eval\\packages\\e3b0c44298fc1c149afbf4c8996fb92427ae41e4649b934ca495991b7852b855\\main.spi / fsxContent:  / errors: [] / typeErrorCount: 0\n",
      "00:00:23   debug #23 buildFile / takeWhileInclusive / path: C:\\home\\git\\polyglot\\target/polyglot/spiral_eval\\packages\\e3b0c44298fc1c149afbf4c8996fb92427ae41e4649b934ca495991b7852b855\\main.spi / fsxContent:  / errors: [] / typeErrorCount: 0\n",
      "00:00:24   debug #24 buildFile / takeWhileInclusive / path: C:\\home\\git\\polyglot\\target/polyglot/spiral_eval\\packages\\e3b0c44298fc1c149afbf4c8996fb92427ae41e4649b934ca495991b7852b855\\main.spi / fsxContent:  / errors: [] / typeErrorCount: 0\n",
      "00:00:25   debug #25 buildFile / takeWhileInclusive / path: C:\\home\\git\\polyglot\\target/polyglot/spiral_eval\\packages\\e3b0c44298fc1c149afbf4c8996fb92427ae41e4649b934ca495991b7852b855\\main.spi / fsxContent:  / errors: [] / typeErrorCount: 0\n",
      "00:00:26   debug #26 buildFile / takeWhileInclusive / path: C:\\home\\git\\polyglot\\target/polyglot/spiral_eval\\packages\\e3b0c44298fc1c149afbf4c8996fb92427ae41e4649b934ca495991b7852b855\\main.spi / fsxContent:  / errors: [] / typeErrorCount: 0\n",
      "00:00:33 verbose #14 networking.wait_for_port_access / port: 13805 / retry: 0 / timeout: Some 100 / status: False\n",
      "00:00:33   debug #15 run_with_timeout_async / timeout: 100\n",
      "00:00:26   debug #27 watchWithFilter / Disposing watch stream / filter: FileName, LastWrite\n",
      "00:00:26   debug #28 runWithTimeoutAsync / timeout: 10000\n",
      "<null>\n",
      "\n"
     ]
    }
   ],
   "source": [
    "//// test\n",
    "\n",
    "\"\"\n",
    "|> buildCode 10000 None\n",
    "|> Async.runWithTimeout 10000\n",
    "|> _assertEqual None"
   ]
  },
  {
   "cell_type": "code",
   "execution_count": null,
   "metadata": {
    "dotnet_interactive": {
     "language": "fsharp"
    },
    "polyglot_notebook": {
     "kernelName": "fsharp"
    }
   },
   "outputs": [
    {
     "name": "stdout",
     "output_type": "stream",
     "text": [
      "00:00:34   debug #16 run_with_timeout_async / timeout: 500\n",
      "00:00:31   debug #17 execute_with_options_async / options: struct (Some System.Threading.CancellationToken,\n",
      "        \"dotnet \"C:\\home\\git\\polyglot\\deps\\The-Spiral-Language\\The Spiral Language 2\\artifacts\\bin\\The Spiral Language 2\\release\\Spiral.dll\" --port 13805 --default-int i32 --default-float f64\",\n",
      "        [||], Some <fun:buildCode@3-398>, None, true,\n",
      "        Some \"C:\\home\\git\\polyglot\")\n",
      "00:00:31 verbose #18 > 00:00:00   debug #1 pwd: C:\\home\\git\\polyglot\n",
      "00:00:31 verbose #19 > 00:00:00   debug #2 dllPath: C:\\home\\git\\polyglot\\deps\\The-Spiral-Language\\The Spiral Language 2\\artifacts\\bin\\The Spiral Language 2\\release\n",
      "00:00:31 verbose #20 > 00:00:00   debug #3 targetDir: C:\\home\\git\\polyglot\\target/polyglot/spiral_eval\n",
      "00:00:34   debug #17 run_with_timeout_async / timeout: 100\n",
      "00:00:34 verbose #18 networking.wait_for_port_access / port: 13805 / retry: 0 / timeout: Some 100 / status: True\n",
      "00:00:34   debug #19 run_with_timeout_async / timeout: 100\n",
      "00:00:32 verbose #21 > Starting the Spiral Server. It is bound to: http://localhost:13805\n",
      "00:00:34   debug #20 run_with_timeout_async / timeout: 100\n",
      "00:00:28 verbose #29 Supervisor.sendJson / port: 13805 / json: {\"Ping\":true} / result:\n",
      "00:00:28 verbose #30 awaitCompiler / Ping / result: 'Some(null)' / port: 13805 / retry: 0\n",
      "00:00:32 verbose #22 > Server bound to: http://localhost:13805\n",
      "00:00:28   debug #31 buildFile / takeWhileInclusive / path: C:\\home\\git\\polyglot\\target/polyglot/spiral_eval\\packages\\232df6d862bb0667133bf3fbc55c0b33286bde4b85cdb17fe93dda9c433ec620\\main.spi / fsxContent:  / errors: [] / typeErrorCount: 0\n",
      "00:00:28   debug #32 buildFile / takeWhileInclusive / path: C:\\home\\git\\polyglot\\target/polyglot/spiral_eval\\packages\\232df6d862bb0667133bf3fbc55c0b33286bde4b85cdb17fe93dda9c433ec620\\main.spi / fsxContent:  / errors: [] / typeErrorCount: 0\n",
      "00:00:28 verbose #33 Supervisor.sendJson / port: 13805 / json: {\"FileOpen\":{\"spiText\":\"inl main () =\\n    1i32 / 0i32\\n\",\"uri\":\"file:///c:/home/git/polyglot/target...ot/spiral_eval/packages/232df6d862bb0667133bf3fbc55c0b33286bde4b85cdb17fe93dda9c433ec620/main.spi\"}} / result:\n",
      "00:00:28 verbose #34 Supervisor.sendJson / port: 13805 / json: {\"BuildFile\":{\"backend\":\"Fsharp\",\"uri\":\"file:///c:/home/git/polyglot/target/polyglot/spiral_eval/packages/232df6d862bb0667133bf3fbc55c0b33286bde4b85cdb17fe93dda9c433ec620/main.spi\"}} / result:\n",
      "00:00:32 verbose #23 > 00:00:01   debug #4 Supervisor.supervisor_server.BuildFile / file: c:/home/git/polyglot/target/polyglot/spiral_eval/packages/232df6d862bb0667133bf3fbc55c0b33286bde4b85cdb17fe93dda9c433ec620/main.spi\n",
      "00:00:29   debug #35 buildFile / takeWhileInclusive / path: C:\\home\\git\\polyglot\\target/polyglot/spiral_eval\\packages\\232df6d862bb0667133bf3fbc55c0b33286bde4b85cdb17fe93dda9c433ec620\\main.spi / fsxContent:  / errors: [] / typeErrorCount: 0\n",
      "00:00:30   debug #36 buildFile / takeWhileInclusive / path: C:\\home\\git\\polyglot\\target/polyglot/spiral_eval\\packages\\232df6d862bb0667133bf3fbc55c0b33286bde4b85cdb17fe93dda9c433ec620\\main.spi / fsxContent:  / errors: [] / typeErrorCount: 0\n",
      "00:00:31   debug #37 buildFile / takeWhileInclusive / path: C:\\home\\git\\polyglot\\target/polyglot/spiral_eval\\packages\\232df6d862bb0667133bf3fbc55c0b33286bde4b85cdb17fe93dda9c433ec620\\main.spi / fsxContent:  / errors: [\n",
      "  [\n",
      "    \"An attempt to divide by zero has been detected at compile time.\",\n",
      "    {\n",
      "      \"TracedError\": {\n",
      "        \"message\": \"An attempt to divide by zero has been detected at compile time.\",\n",
      "        \"trace\": [\n",
      "          \"Error trace on line: 1, column: 10 in module: c:/home/git/polyglot/target/polyglot/spiral_eval/packages/232df6d862bb0667133bf3fbc55c0b33286bde4b85cdb17fe93dda9c433ec620/main.spi.\n",
      "inl main () =\n",
      "         ^\n",
      "\",\n",
      "          \"Error trace on line: 2, column: 5 in module: c:/home/git/polyglot/target/polyglot/spiral_eval/packages/232df6d862bb0667133bf3fbc55c0b33286bde4b85cdb17fe93dda9c433ec620/main.spi.\n",
      "    1i32 / 0i32\n",
      "    ^\n",
      "\"\n",
      "        ]\n",
      "      }\n",
      "    }\n",
      "  ]\n",
      "] / typeErrorCount: 0\n",
      "00:00:31 verbose #38 Supervisor.sendJson / port: 13805 / json: {\"FileDelete\":{\"uris\":[\"file:///c:/home/git/polyglot/target/polyglot/spiral_eval/packages/232df6d862bb0667133bf3fbc55c0b33286bde4b85cdb17fe93dda9c433ec620\"]}} / result:\n",
      "00:00:37 verbose #21 networking.wait_for_port_access / port: 13805 / retry: 0 / timeout: Some 100 / status: False\n",
      "00:00:37   debug #22 run_with_timeout_async / timeout: 100\n",
      "00:00:31   debug #39 watchWithFilter / Disposing watch stream / filter: FileName, LastWrite\n",
      "Some (None, [\"An attempt to divide by zero has been detected at compile time.\"])\n",
      "\n"
     ]
    }
   ],
   "source": [
    "//// test\n",
    "\n",
    "\"\"\"inl main () =\n",
    "    1i32 / 0i32\n",
    "\"\"\"\n",
    "|> buildCode 10000 None\n",
    "|> Async.runWithTimeout 10000\n",
    "|> Option.map (fun (_, (_, fsxContent), errors) -> fsxContent, errors |> List.map fst)\n",
    "|> _assertEqual (\n",
    "    Some (\n",
    "        None,\n",
    "        [ \"An attempt to divide by zero has been detected at compile time.\" ]\n",
    "    )\n",
    ")"
   ]
  },
  {
   "cell_type": "code",
   "execution_count": null,
   "metadata": {
    "dotnet_interactive": {
     "language": "fsharp"
    },
    "polyglot_notebook": {
     "kernelName": "fsharp"
    }
   },
   "outputs": [
    {
     "name": "stdout",
     "output_type": "stream",
     "text": [
      "00:00:38   debug #23 run_with_timeout_async / timeout: 500\n",
      "00:00:36   debug #24 execute_with_options_async / options: struct (Some System.Threading.CancellationToken,\n",
      "        \"dotnet \"C:\\home\\git\\polyglot\\deps\\The-Spiral-Language\\The Spiral Language 2\\artifacts\\bin\\The Spiral Language 2\\release\\Spiral.dll\" --port 13805 --default-int i32 --default-float f64\",\n",
      "        [||], Some <fun:buildCode@3-398>, None, true,\n",
      "        Some \"C:\\home\\git\\polyglot\")\n",
      "00:00:36 verbose #25 > 00:00:00   debug #1 pwd: C:\\home\\git\\polyglot\n",
      "00:00:36 verbose #26 > 00:00:00   debug #2 dllPath: C:\\home\\git\\polyglot\\deps\\The-Spiral-Language\\The Spiral Language 2\\artifacts\\bin\\The Spiral Language 2\\release\n",
      "00:00:36 verbose #27 > 00:00:00   debug #3 targetDir: C:\\home\\git\\polyglot\\target/polyglot/spiral_eval\n",
      "00:00:39   debug #24 run_with_timeout_async / timeout: 100\n",
      "00:00:39 verbose #25 networking.wait_for_port_access / port: 13805 / retry: 0 / timeout: Some 100 / status: True\n",
      "00:00:39   debug #26 run_with_timeout_async / timeout: 100\n",
      "00:00:36 verbose #28 > Starting the Spiral Server. It is bound to: http://localhost:13805\n",
      "00:00:39   debug #27 run_with_timeout_async / timeout: 100\n",
      "00:00:32 verbose #40 Supervisor.sendJson / port: 13805 / json: {\"Ping\":true} / result:\n",
      "00:00:32 verbose #41 awaitCompiler / Ping / result: 'Some(null)' / port: 13805 / retry: 0\n",
      "00:00:37 verbose #29 > Server bound to: http://localhost:13805\n",
      "00:00:32   debug #42 buildFile / takeWhileInclusive / path: C:\\home\\git\\polyglot\\target/polyglot/spiral_eval\\packages\\2278923ce88b0e473e77d4d93e25afa6e5e4f5efe803982e504cc198d4c4d82d\\main.spi / fsxContent:  / errors: [] / typeErrorCount: 0\n",
      "00:00:32   debug #43 buildFile / takeWhileInclusive / path: C:\\home\\git\\polyglot\\target/polyglot/spiral_eval\\packages\\2278923ce88b0e473e77d4d93e25afa6e5e4f5efe803982e504cc198d4c4d82d\\main.spi / fsxContent:  / errors: [] / typeErrorCount: 0\n",
      "00:00:32 verbose #44 Supervisor.sendJson / port: 13805 / json: {\"FileOpen\":{\"spiText\":\"inl main () =\\n    1 \\u002B \\u0022\\u0022\\n\",\"uri\":\"file:///c:/home/git/polyg...ot/spiral_eval/packages/2278923ce88b0e473e77d4d93e25afa6e5e4f5efe803982e504cc198d4c4d82d/main.spi\"}} / result:\n",
      "00:00:33 verbose #45 Supervisor.sendJson / port: 13805 / json: {\"BuildFile\":{\"backend\":\"Fsharp\",\"uri\":\"file:///c:/home/git/polyglot/target/polyglot/spiral_eval/packages/2278923ce88b0e473e77d4d93e25afa6e5e4f5efe803982e504cc198d4c4d82d/main.spi\"}} / result:\n",
      "00:00:37 verbose #30 > 00:00:01   debug #4 Supervisor.supervisor_server.BuildFile / file: c:/home/git/polyglot/target/polyglot/spiral_eval/packages/2278923ce88b0e473e77d4d93e25afa6e5e4f5efe803982e504cc198d4c4d82d/main.spi\n",
      "00:00:33   debug #46 buildFile / takeWhileInclusive / path: C:\\home\\git\\polyglot\\target/polyglot/spiral_eval\\packages\\2278923ce88b0e473e77d4d93e25afa6e5e4f5efe803982e504cc198d4c4d82d\\main.spi / fsxContent:  / errors: [] / typeErrorCount: 0\n",
      "00:00:35   debug #47 buildFile / takeWhileInclusive / path: C:\\home\\git\\polyglot\\target/polyglot/spiral_eval\\packages\\2278923ce88b0e473e77d4d93e25afa6e5e4f5efe803982e504cc198d4c4d82d\\main.spi / fsxContent:  / errors: [] / typeErrorCount: 0\n",
      "00:00:35   debug #48 buildFile / takeWhileInclusive / path: C:\\home\\git\\polyglot\\target/polyglot/spiral_eval\\packages\\2278923ce88b0e473e77d4d93e25afa6e5e4f5efe803982e504cc198d4c4d82d\\main.spi / fsxContent:  / errors: [] / typeErrorCount: 1\n",
      "00:00:35   debug #49 buildFile / takeWhileInclusive / path: C:\\home\\git\\polyglot\\target/polyglot/spiral_eval\\packages\\2278923ce88b0e473e77d4d93e25afa6e5e4f5efe803982e504cc198d4c4d82d\\main.spi / fsxContent:  / errors: [\n",
      "  [\n",
      "    \"main.spi:\n",
      "Constraint satisfaction error.\n",
      "Got: string\n",
      "Fails to satisfy: number\",\n",
      "    {\n",
      "      \"TypeErrors\": {\n",
      "        \"errors\": [\n",
      "          [\n",
      "            [\n",
      "              {\n",
      "                \"character\": 8,\n",
      "                \"line\": 1\n",
      "              },\n",
      "              {\n",
      "                \"character\": 10,\n",
      "                \"line\": 1\n",
      "              }\n",
      "            ],\n",
      "            \"Constraint satisfaction error.\n",
      "Got: string\n",
      "Fails to satisfy: number\"\n",
      "          ]\n",
      "        ],\n",
      "        \"uri\": \"file:///c:/home/git/polyglot/target/polyglot/spiral_eval/packages/2278923ce88b0e473e77d4d93e25afa6e5e4f5efe803982e504cc198d4c4d82d/main.spi\"\n",
      "      }\n",
      "    }\n",
      "  ]\n",
      "] / typeErrorCount: 1\n",
      "00:00:35 verbose #50 Supervisor.sendJson / port: 13805 / json: {\"FileDelete\":{\"uris\":[\"file:///c:/home/git/polyglot/target/polyglot/spiral_eval/packages/2278923ce88b0e473e77d4d93e25afa6e5e4f5efe803982e504cc198d4c4d82d\"]}} / result:\n",
      "00:00:41 verbose #28 networking.wait_for_port_access / port: 13805 / retry: 0 / timeout: Some 100 / status: False\n",
      "00:00:42   debug #29 run_with_timeout_async / timeout: 100\n",
      "00:00:35   debug #51 watchWithFilter / Disposing watch stream / filter: FileName, LastWrite\n",
      "Some (None, [\"main.spi:\n",
      "Constraint satisfaction error.\n",
      "Got: string\n",
      "Fails to satisfy: number\"])\n",
      "\n"
     ]
    }
   ],
   "source": [
    "//// test\n",
    "\n",
    "\"\"\"inl main () =\n",
    "    1 + \"\"\n",
    "\"\"\"\n",
    "|> buildCode 10000 None\n",
    "|> Async.runWithTimeout 10000\n",
    "|> Option.map (fun (_, (_, fsxContent), errors) -> fsxContent, errors |> List.map fst)\n",
    "|> _assertEqual (\n",
    "    Some (\n",
    "        None,\n",
    "        [\n",
    "            \"main.spi:\n",
    "Constraint satisfaction error.\n",
    "Got: string\n",
    "Fails to satisfy: number\"\n",
    "        ]\n",
    "    )\n",
    ")"
   ]
  },
  {
   "cell_type": "code",
   "execution_count": null,
   "metadata": {
    "dotnet_interactive": {
     "language": "fsharp"
    },
    "polyglot_notebook": {
     "kernelName": "fsharp"
    }
   },
   "outputs": [
    {
     "name": "stdout",
     "output_type": "stream",
     "text": [
      "00:00:42   debug #30 run_with_timeout_async / timeout: 500\n",
      "00:00:40   debug #31 execute_with_options_async / options: struct (Some System.Threading.CancellationToken,\n",
      "        \"dotnet \"C:\\home\\git\\polyglot\\deps\\The-Spiral-Language\\The Spiral Language 2\\artifacts\\bin\\The Spiral Language 2\\release\\Spiral.dll\" --port 13805 --default-int i32 --default-float f64\",\n",
      "        [||], Some <fun:buildCode@3-398>, None, true,\n",
      "        Some \"C:\\home\\git\\polyglot\")\n",
      "00:00:40 verbose #32 > 00:00:00   debug #1 pwd: C:\\home\\git\\polyglot\n",
      "00:00:40 verbose #33 > 00:00:00   debug #2 dllPath: C:\\home\\git\\polyglot\\deps\\The-Spiral-Language\\The Spiral Language 2\\artifacts\\bin\\The Spiral Language 2\\release\n",
      "00:00:40 verbose #34 > 00:00:00   debug #3 targetDir: C:\\home\\git\\polyglot\\target/polyglot/spiral_eval\n",
      "00:00:43   debug #31 run_with_timeout_async / timeout: 100\n",
      "00:00:43 verbose #32 networking.wait_for_port_access / port: 13805 / retry: 0 / timeout: Some 100 / status: True\n",
      "00:00:43   debug #33 run_with_timeout_async / timeout: 100\n",
      "00:00:40 verbose #35 > Starting the Spiral Server. It is bound to: http://localhost:13805\n",
      "00:00:43   debug #34 run_with_timeout_async / timeout: 100\n",
      "00:00:37 verbose #52 Supervisor.sendJson / port: 13805 / json: {\"Ping\":true} / result:\n",
      "00:00:37 verbose #53 awaitCompiler / Ping / result: 'Some(null)' / port: 13805 / retry: 0\n",
      "00:00:41 verbose #36 > Server bound to: http://localhost:13805\n",
      "00:00:37   debug #54 buildFile / takeWhileInclusive / path: C:\\home\\git\\polyglot\\target/polyglot/spiral_eval\\packages\\5d8d0e66f59ab13f3bfd8d88f05ce13771ab005b08581d99225216170ba6489b\\main.spi / fsxContent:  / errors: [] / typeErrorCount: 0\n",
      "00:00:37   debug #55 buildFile / takeWhileInclusive / path: C:\\home\\git\\polyglot\\target/polyglot/spiral_eval\\packages\\5d8d0e66f59ab13f3bfd8d88f05ce13771ab005b08581d99225216170ba6489b\\main.spi / fsxContent:  / errors: [] / typeErrorCount: 0\n",
      "00:00:37 verbose #56 Supervisor.sendJson / port: 13805 / json: {\"FileOpen\":{\"spiText\":\"inl main () =\\n    x \\u002B y\\n\",\"uri\":\"file:///c:/home/git/polyglot/target/...ot/spiral_eval/packages/5d8d0e66f59ab13f3bfd8d88f05ce13771ab005b08581d99225216170ba6489b/main.spi\"}} / result:\n",
      "00:00:37 verbose #57 Supervisor.sendJson / port: 13805 / json: {\"BuildFile\":{\"backend\":\"Fsharp\",\"uri\":\"file:///c:/home/git/polyglot/target/polyglot/spiral_eval/packages/5d8d0e66f59ab13f3bfd8d88f05ce13771ab005b08581d99225216170ba6489b/main.spi\"}} / result:\n",
      "00:00:41 verbose #37 > 00:00:01   debug #4 Supervisor.supervisor_server.BuildFile / file: c:/home/git/polyglot/target/polyglot/spiral_eval/packages/5d8d0e66f59ab13f3bfd8d88f05ce13771ab005b08581d99225216170ba6489b/main.spi\n",
      "00:00:38   debug #58 buildFile / takeWhileInclusive / path: C:\\home\\git\\polyglot\\target/polyglot/spiral_eval\\packages\\5d8d0e66f59ab13f3bfd8d88f05ce13771ab005b08581d99225216170ba6489b\\main.spi / fsxContent:  / errors: [] / typeErrorCount: 0\n",
      "00:00:39   debug #59 buildFile / takeWhileInclusive / path: C:\\home\\git\\polyglot\\target/polyglot/spiral_eval\\packages\\5d8d0e66f59ab13f3bfd8d88f05ce13771ab005b08581d99225216170ba6489b\\main.spi / fsxContent:  / errors: [] / typeErrorCount: 0\n",
      "00:00:39   debug #60 buildFile / takeWhileInclusive / path: C:\\home\\git\\polyglot\\target/polyglot/spiral_eval\\packages\\5d8d0e66f59ab13f3bfd8d88f05ce13771ab005b08581d99225216170ba6489b\\main.spi / fsxContent:  / errors: [] / typeErrorCount: 1\n",
      "00:00:39   debug #61 buildFile / takeWhileInclusive / path: C:\\home\\git\\polyglot\\target/polyglot/spiral_eval\\packages\\5d8d0e66f59ab13f3bfd8d88f05ce13771ab005b08581d99225216170ba6489b\\main.spi / fsxContent:  / errors: [\n",
      "  [\n",
      "    \"main.spi:\n",
      "Unbound variable: x.\n",
      "Unbound variable: y.\",\n",
      "    {\n",
      "      \"TypeErrors\": {\n",
      "        \"errors\": [\n",
      "          [\n",
      "            [\n",
      "              {\n",
      "                \"character\": 4,\n",
      "                \"line\": 1\n",
      "              },\n",
      "              {\n",
      "                \"character\": 5,\n",
      "                \"line\": 1\n",
      "              }\n",
      "            ],\n",
      "            \"Unbound variable: x.\"\n",
      "          ],\n",
      "          [\n",
      "            [\n",
      "              {\n",
      "                \"character\": 8,\n",
      "                \"line\": 1\n",
      "              },\n",
      "              {\n",
      "                \"character\": 9,\n",
      "                \"line\": 1\n",
      "              }\n",
      "            ],\n",
      "            \"Unbound variable: y.\"\n",
      "          ]\n",
      "        ],\n",
      "        \"uri\": \"file:///c:/home/git/polyglot/target/polyglot/spiral_eval/packages/5d8d0e66f59ab13f3bfd8d88f05ce13771ab005b08581d99225216170ba6489b/main.spi\"\n",
      "      }\n",
      "    }\n",
      "  ]\n",
      "] / typeErrorCount: 1\n",
      "00:00:39 verbose #62 Supervisor.sendJson / port: 13805 / json: {\"FileDelete\":{\"uris\":[\"file:///c:/home/git/polyglot/target/polyglot/spiral_eval/packages/5d8d0e66f59ab13f3bfd8d88f05ce13771ab005b08581d99225216170ba6489b\"]}} / result:\n",
      "00:00:45 verbose #35 networking.wait_for_port_access / port: 13805 / retry: 0 / timeout: Some 100 / status: False\n",
      "00:00:45   debug #36 run_with_timeout_async / timeout: 100\n",
      "00:00:39   debug #63 watchWithFilter / Disposing watch stream / filter: FileName, LastWrite\n",
      "Some (None, [\"main.spi:\n",
      "Unbound variable: x.\n",
      "Unbound variable: y.\"])\n",
      "\n"
     ]
    }
   ],
   "source": [
    "//// test\n",
    "\n",
    "\"\"\"inl main () =\n",
    "    x + y\n",
    "\"\"\"\n",
    "|> buildCode 10000 None\n",
    "|> Async.runWithTimeout 10000\n",
    "|> Option.map (fun (_, (_, fsxContent), errors) -> fsxContent, errors |> List.map fst)\n",
    "|> _assertEqual (\n",
    "    Some (\n",
    "        None,\n",
    "        [\n",
    "            \"main.spi:\n",
    "Unbound variable: x.\n",
    "Unbound variable: y.\"\n",
    "        ]\n",
    "    )\n",
    ")"
   ]
  },
  {
   "cell_type": "code",
   "execution_count": null,
   "metadata": {
    "dotnet_interactive": {
     "language": "fsharp"
    },
    "polyglot_notebook": {
     "kernelName": "fsharp"
    }
   },
   "outputs": [
    {
     "name": "stdout",
     "output_type": "stream",
     "text": [
      "00:00:46   debug #37 run_with_timeout_async / timeout: 500\n",
      "00:00:43   debug #38 execute_with_options_async / options: struct (Some System.Threading.CancellationToken,\n",
      "        \"dotnet \"C:\\home\\git\\polyglot\\deps\\The-Spiral-Language\\The Spiral Language 2\\artifacts\\bin\\The Spiral Language 2\\release\\Spiral.dll\" --port 13805 --default-int i32 --default-float f64\",\n",
      "        [||], Some <fun:buildCode@3-398>, None, true,\n",
      "        Some \"C:\\home\\git\\polyglot\")\n",
      "00:00:44 verbose #39 > 00:00:00   debug #1 pwd: C:\\home\\git\\polyglot\n",
      "00:00:44 verbose #40 > 00:00:00   debug #2 dllPath: C:\\home\\git\\polyglot\\deps\\The-Spiral-Language\\The Spiral Language 2\\artifacts\\bin\\The Spiral Language 2\\release\n",
      "00:00:44 verbose #41 > 00:00:00   debug #3 targetDir: C:\\home\\git\\polyglot\\target/polyglot/spiral_eval\n",
      "00:00:46   debug #38 run_with_timeout_async / timeout: 100\n",
      "00:00:46 verbose #39 networking.wait_for_port_access / port: 13805 / retry: 0 / timeout: Some 100 / status: True\n",
      "00:00:47   debug #40 run_with_timeout_async / timeout: 100\n",
      "00:00:44 verbose #42 > Starting the Spiral Server. It is bound to: http://localhost:13805\n",
      "00:00:47   debug #41 run_with_timeout_async / timeout: 100\n",
      "00:00:40 verbose #64 Supervisor.sendJson / port: 13805 / json: {\"Ping\":true} / result:\n",
      "00:00:40 verbose #65 awaitCompiler / Ping / result: 'Some(null)' / port: 13805 / retry: 0\n",
      "00:00:44 verbose #43 > Server bound to: http://localhost:13805\n",
      "00:00:40   debug #66 buildFile / takeWhileInclusive / path: C:\\home\\git\\polyglot\\target/polyglot/spiral_eval\\packages\\a2aa158e3d25dde470018a814a2045bf437bae1760d98ab33335c72b076d4d50\\main.spi / fsxContent:  / errors: [] / typeErrorCount: 0\n",
      "00:00:40   debug #67 buildFile / takeWhileInclusive / path: C:\\home\\git\\polyglot\\target/polyglot/spiral_eval\\packages\\a2aa158e3d25dde470018a814a2045bf437bae1760d98ab33335c72b076d4d50\\main.spi / fsxContent:  / errors: [] / typeErrorCount: 0\n",
      "00:00:40 verbose #68 Supervisor.sendJson / port: 13805 / json: {\"FileOpen\":{\"spiText\":\"\\ninl main () =\\n    real\\n        inl real_unbox forall a. (obj : a) : a =\\...ot/spiral_eval/packages/a2aa158e3d25dde470018a814a2045bf437bae1760d98ab33335c72b076d4d50/main.spi\"}} / result:\n",
      "00:00:40 verbose #69 Supervisor.sendJson / port: 13805 / json: {\"BuildFile\":{\"backend\":\"Fsharp\",\"uri\":\"file:///c:/home/git/polyglot/target/polyglot/spiral_eval/packages/a2aa158e3d25dde470018a814a2045bf437bae1760d98ab33335c72b076d4d50/main.spi\"}} / result:\n",
      "00:00:45 verbose #44 > 00:00:01   debug #4 Supervisor.supervisor_server.BuildFile / file: c:/home/git/polyglot/target/polyglot/spiral_eval/packages/a2aa158e3d25dde470018a814a2045bf437bae1760d98ab33335c72b076d4d50/main.spi\n",
      "00:00:41   debug #70 buildFile / takeWhileInclusive / path: C:\\home\\git\\polyglot\\target/polyglot/spiral_eval\\packages\\a2aa158e3d25dde470018a814a2045bf437bae1760d98ab33335c72b076d4d50\\main.spi / fsxContent:  / errors: [] / typeErrorCount: 0\n",
      "00:00:42   debug #71 buildFile / takeWhileInclusive / path: C:\\home\\git\\polyglot\\target/polyglot/spiral_eval\\packages\\a2aa158e3d25dde470018a814a2045bf437bae1760d98ab33335c72b076d4d50\\main.spi / fsxContent:  / errors: [] / typeErrorCount: 0\n",
      "00:00:43   debug #72 buildFile / takeWhileInclusive / path: C:\\home\\git\\polyglot\\target/polyglot/spiral_eval\\packages\\a2aa158e3d25dde470018a814a2045bf437bae1760d98ab33335c72b076d4d50\\main.spi / fsxContent:  / errors: [\n",
      "  [\n",
      "    \"Cannot apply a forall with a term.\",\n",
      "    {\n",
      "      \"TracedError\": {\n",
      "        \"message\": \"Cannot apply a forall with a term.\",\n",
      "        \"trace\": [\n",
      "          \"Error trace on line: 2, column: 10 in module: c:/home/git/polyglot/target/polyglot/spiral_eval/packages/a2aa158e3d25dde470018a814a2045bf437bae1760d98ab33335c72b076d4d50/main.spi.\n",
      "inl main () =\n",
      "         ^\n",
      "\",\n",
      "          \"Error trace on line: 4, column: 9 in module: c:/home/git/polyglot/target/polyglot/spiral_eval/packages/a2aa158e3d25dde470018a814a2045bf437bae1760d98ab33335c72b076d4d50/main.spi.\n",
      "        inl real_unbox forall a. (obj : a) : a =\n",
      "        ^\n",
      "\",\n",
      "          \"Error trace on line: 7, column: 9 in module: c:/home/git/polyglot/target/polyglot/spiral_eval/packages/a2aa158e3d25dde470018a814a2045bf437bae1760d98ab33335c72b076d4d50/main.spi.\n",
      "        real_unbox ()\n",
      "        ^\n",
      "\"\n",
      "        ]\n",
      "      }\n",
      "    }\n",
      "  ]\n",
      "] / typeErrorCount: 0\n",
      "00:00:43 verbose #73 Supervisor.sendJson / port: 13805 / json: {\"FileDelete\":{\"uris\":[\"file:///c:/home/git/polyglot/target/polyglot/spiral_eval/packages/a2aa158e3d25dde470018a814a2045bf437bae1760d98ab33335c72b076d4d50\"]}} / result:\n",
      "00:00:49 verbose #42 networking.wait_for_port_access / port: 13805 / retry: 0 / timeout: Some 100 / status: False\n",
      "00:00:50   debug #43 run_with_timeout_async / timeout: 100\n",
      "00:00:43   debug #74 watchWithFilter / Disposing watch stream / filter: FileName, LastWrite\n",
      "Some (None, [\"Cannot apply a forall with a term.\"])\n",
      "\n"
     ]
    }
   ],
   "source": [
    "//// test\n",
    "\n",
    "\"\"\"\n",
    "inl main () =\n",
    "    real\n",
    "        inl real_unbox forall a. (obj : a) : a =\n",
    "            typecase obj with\n",
    "            | _ => obj\n",
    "        real_unbox ()\n",
    "    ()\n",
    "\"\"\"\n",
    "|> buildCode 10000 None\n",
    "|> Async.runWithTimeout 10000\n",
    "|> Option.map (fun (_, (_, fsxContent), errors) -> fsxContent, errors |> List.map fst)\n",
    "|> _assertEqual (\n",
    "    Some (\n",
    "        None,\n",
    "        [ \"Cannot apply a forall with a term.\" ]\n",
    "    )\n",
    ")"
   ]
  },
  {
   "cell_type": "code",
   "execution_count": null,
   "metadata": {
    "dotnet_interactive": {
     "language": "fsharp"
    },
    "polyglot_notebook": {
     "kernelName": "fsharp"
    }
   },
   "outputs": [
    {
     "name": "stdout",
     "output_type": "stream",
     "text": [
      "00:00:50   debug #44 run_with_timeout_async / timeout: 500\n",
      "00:00:48   debug #45 execute_with_options_async / options: struct (Some System.Threading.CancellationToken,\n",
      "        \"dotnet \"C:\\home\\git\\polyglot\\deps\\The-Spiral-Language\\The Spiral Language 2\\artifacts\\bin\\The Spiral Language 2\\release\\Spiral.dll\" --port 13805 --default-int i32 --default-float f64\",\n",
      "        [||], Some <fun:buildCode@3-398>, None, true,\n",
      "        Some \"C:\\home\\git\\polyglot\")\n",
      "00:00:48 verbose #46 > 00:00:00   debug #1 pwd: C:\\home\\git\\polyglot\n",
      "00:00:48 verbose #47 > 00:00:00   debug #2 dllPath: C:\\home\\git\\polyglot\\deps\\The-Spiral-Language\\The Spiral Language 2\\artifacts\\bin\\The Spiral Language 2\\release\n",
      "00:00:48 verbose #48 > 00:00:00   debug #3 targetDir: C:\\home\\git\\polyglot\\target/polyglot/spiral_eval\n",
      "00:00:51   debug #45 run_with_timeout_async / timeout: 100\n",
      "00:00:51 verbose #46 networking.wait_for_port_access / port: 13805 / retry: 0 / timeout: Some 100 / status: True\n",
      "00:00:51   debug #47 run_with_timeout_async / timeout: 100\n",
      "00:00:48 verbose #49 > Starting the Spiral Server. It is bound to: http://localhost:13805\n",
      "00:00:51   debug #48 run_with_timeout_async / timeout: 100\n",
      "00:00:45 verbose #75 Supervisor.sendJson / port: 13805 / json: {\"Ping\":true} / result:\n",
      "00:00:45 verbose #76 awaitCompiler / Ping / result: 'Some(null)' / port: 13805 / retry: 0\n",
      "00:00:49 verbose #50 > Server bound to: http://localhost:13805\n",
      "00:00:45   debug #77 buildFile / takeWhileInclusive / path: C:\\home\\git\\polyglot\\target/polyglot/spiral_eval\\packages\\84eca3865a0cfc1afd28f49a38d395e9b89071527b4bda759de7cfb116593b3e\\main.spi / fsxContent:  / errors: [] / typeErrorCount: 0\n",
      "00:00:45   debug #78 buildFile / takeWhileInclusive / path: C:\\home\\git\\polyglot\\target/polyglot/spiral_eval\\packages\\84eca3865a0cfc1afd28f49a38d395e9b89071527b4bda759de7cfb116593b3e\\main.spi / fsxContent:  / errors: [] / typeErrorCount: 0\n",
      "00:00:45 verbose #79 Supervisor.sendJson / port: 13805 / json: {\"FileOpen\":{\"spiText\":\"\\ninl main () =\\n    real\\n        inl real_unbox forall a. (obj : a) : a =\\...ot/spiral_eval/packages/84eca3865a0cfc1afd28f49a38d395e9b89071527b4bda759de7cfb116593b3e/main.spi\"}} / result:\n",
      "00:00:45 verbose #80 Supervisor.sendJson / port: 13805 / json: {\"BuildFile\":{\"backend\":\"Fsharp\",\"uri\":\"file:///c:/home/git/polyglot/target/polyglot/spiral_eval/packages/84eca3865a0cfc1afd28f49a38d395e9b89071527b4bda759de7cfb116593b3e/main.spi\"}} / result:\n",
      "00:00:49 verbose #51 > 00:00:01   debug #4 Supervisor.supervisor_server.BuildFile / file: c:/home/git/polyglot/target/polyglot/spiral_eval/packages/84eca3865a0cfc1afd28f49a38d395e9b89071527b4bda759de7cfb116593b3e/main.spi\n",
      "00:00:46   debug #81 buildFile / takeWhileInclusive / path: C:\\home\\git\\polyglot\\target/polyglot/spiral_eval\\packages\\84eca3865a0cfc1afd28f49a38d395e9b89071527b4bda759de7cfb116593b3e\\main.spi / fsxContent:  / errors: [] / typeErrorCount: 0\n",
      "00:00:47   debug #82 buildFile / takeWhileInclusive / path: C:\\home\\git\\polyglot\\target/polyglot/spiral_eval\\packages\\84eca3865a0cfc1afd28f49a38d395e9b89071527b4bda759de7cfb116593b3e\\main.spi / fsxContent:  / errors: [] / typeErrorCount: 0\n",
      "00:00:47   debug #83 buildFile / takeWhileInclusive / path: C:\\home\\git\\polyglot\\target/polyglot/spiral_eval\\packages\\84eca3865a0cfc1afd28f49a38d395e9b89071527b4bda759de7cfb116593b3e\\main.spi / fsxContent:  / errors: [\n",
      "  [\n",
      "    \"The main function should not have a forall.\",\n",
      "    {\n",
      "      \"TracedError\": {\n",
      "        \"message\": \"The main function should not have a forall.\",\n",
      "        \"trace\": []\n",
      "      }\n",
      "    }\n",
      "  ]\n",
      "] / typeErrorCount: 0\n",
      "00:00:47 verbose #84 Supervisor.sendJson / port: 13805 / json: {\"FileDelete\":{\"uris\":[\"file:///c:/home/git/polyglot/target/polyglot/spiral_eval/packages/84eca3865a0cfc1afd28f49a38d395e9b89071527b4bda759de7cfb116593b3e\"]}} / result:\n",
      "00:00:53 verbose #49 networking.wait_for_port_access / port: 13805 / retry: 0 / timeout: Some 100 / status: False\n",
      "00:00:54   debug #50 run_with_timeout_async / timeout: 100\n",
      "00:00:47   debug #85 watchWithFilter / Disposing watch stream / filter: FileName, LastWrite\n",
      "Some (None, [\"The main function should not have a forall.\"])\n",
      "\n"
     ]
    }
   ],
   "source": [
    "//// test\n",
    "\n",
    "\"\"\"\n",
    "inl main () =\n",
    "    real\n",
    "        inl real_unbox forall a. (obj : a) : a =\n",
    "            typecase obj with\n",
    "            | _ => obj\n",
    "        real_unbox `i32 1\n",
    "\"\"\"\n",
    "|> buildCode 10000 None\n",
    "|> Async.runWithTimeout 10000\n",
    "|> Option.map (fun (_, (_, fsxContent), errors) -> fsxContent, errors |> List.map fst)\n",
    "|> _assertEqual (\n",
    "    Some (\n",
    "        None,\n",
    "        [ \"The main function should not have a forall.\" ]\n",
    "    )\n",
    ")"
   ]
  },
  {
   "cell_type": "code",
   "execution_count": null,
   "metadata": {
    "dotnet_interactive": {
     "language": "fsharp"
    },
    "polyglot_notebook": {
     "kernelName": "fsharp"
    }
   },
   "outputs": [
    {
     "name": "stdout",
     "output_type": "stream",
     "text": [
      "00:00:54   debug #51 run_with_timeout_async / timeout: 500\n",
      "00:00:52   debug #52 execute_with_options_async / options: struct (Some System.Threading.CancellationToken,\n",
      "        \"dotnet \"C:\\home\\git\\polyglot\\deps\\The-Spiral-Language\\The Spiral Language 2\\artifacts\\bin\\The Spiral Language 2\\release\\Spiral.dll\" --port 13805 --default-int i32 --default-float f64\",\n",
      "        [||], Some <fun:buildCode@3-398>, None, true,\n",
      "        Some \"C:\\home\\git\\polyglot\")\n",
      "00:00:52 verbose #53 > 00:00:00   debug #1 pwd: C:\\home\\git\\polyglot\n",
      "00:00:52 verbose #54 > 00:00:00   debug #2 dllPath: C:\\home\\git\\polyglot\\deps\\The-Spiral-Language\\The Spiral Language 2\\artifacts\\bin\\The Spiral Language 2\\release\n",
      "00:00:52 verbose #55 > 00:00:00   debug #3 targetDir: C:\\home\\git\\polyglot\\target/polyglot/spiral_eval\n",
      "00:00:55   debug #52 run_with_timeout_async / timeout: 100\n",
      "00:00:55 verbose #53 networking.wait_for_port_access / port: 13805 / retry: 0 / timeout: Some 100 / status: True\n",
      "00:00:55   debug #54 run_with_timeout_async / timeout: 100\n",
      "00:00:55   debug #55 run_with_timeout_async / timeout: 100\n",
      "00:00:53 verbose #56 > Starting the Spiral Server. It is bound to: http://localhost:13805\n",
      "00:00:55   debug #56 run_with_timeout_async / timeout: 100\n",
      "00:00:49 verbose #86 Supervisor.sendJson / port: 13805 / json: {\"Ping\":true} / result:\n",
      "00:00:49 verbose #87 awaitCompiler / Ping / result: 'Some(null)' / port: 13805 / retry: 0\n",
      "00:00:53 verbose #57 > Server bound to: http://localhost:13805\n",
      "00:00:49   debug #88 buildFile / takeWhileInclusive / path: C:\\home\\git\\polyglot\\target/polyglot/spiral_eval\\packages\\c0932fdbf60389c2ae8b78bb5443994f2d0ecdc6c6e7dfddf408cecaa050d294\\main.spi / fsxContent:  / errors: [] / typeErrorCount: 0\n",
      "00:00:49   debug #89 buildFile / takeWhileInclusive / path: C:\\home\\git\\polyglot\\target/polyglot/spiral_eval\\packages\\c0932fdbf60389c2ae8b78bb5443994f2d0ecdc6c6e7dfddf408cecaa050d294\\main.spi / fsxContent:  / errors: [] / typeErrorCount: 0\n",
      "00:00:49 verbose #90 Supervisor.sendJson / port: 13805 / json: {\"FileOpen\":{\"spiText\":\"\\ninl init_series start end inc =\\n    inl total : f64 = conv ((end - start)...ot/spiral_eval/packages/c0932fdbf60389c2ae8b78bb5443994f2d0ecdc6c6e7dfddf408cecaa050d294/main.spi\"}} / result:\n",
      "00:00:49 verbose #91 Supervisor.sendJson / port: 13805 / json: {\"BuildFile\":{\"backend\":\"Fsharp\",\"uri\":\"file:///c:/home/git/polyglot/target/polyglot/spiral_eval/packages/c0932fdbf60389c2ae8b78bb5443994f2d0ecdc6c6e7dfddf408cecaa050d294/main.spi\"}} / result:\n",
      "00:00:53 verbose #58 > 00:00:01   debug #4 Supervisor.supervisor_server.BuildFile / file: c:/home/git/polyglot/target/polyglot/spiral_eval/packages/c0932fdbf60389c2ae8b78bb5443994f2d0ecdc6c6e7dfddf408cecaa050d294/main.spi\n",
      "00:00:50   debug #92 buildFile / takeWhileInclusive / path: C:\\home\\git\\polyglot\\target/polyglot/spiral_eval\\packages\\c0932fdbf60389c2ae8b78bb5443994f2d0ecdc6c6e7dfddf408cecaa050d294\\main.spi / fsxContent:  / errors: [] / typeErrorCount: 0\n",
      "00:00:51   debug #93 buildFile / takeWhileInclusive / path: C:\\home\\git\\polyglot\\target/polyglot/spiral_eval\\packages\\c0932fdbf60389c2ae8b78bb5443994f2d0ecdc6c6e7dfddf408cecaa050d294\\main.spi / fsxContent:  / errors: [] / typeErrorCount: 0\n",
      "00:00:51   debug #94 buildFile / takeWhileInclusive / path: C:\\home\\git\\polyglot\\target/polyglot/spiral_eval\\packages\\c0932fdbf60389c2ae8b78bb5443994f2d0ecdc6c6e7dfddf408cecaa050d294\\main.spi / fsxContent: 0.3325000000000001\n",
      " / errors: [] / typeErrorCount: 0\n",
      "00:00:51 verbose #95 Supervisor.sendJson / port: 13805 / json: {\"FileDelete\":{\"uris\":[\"file:///c:/home/git/polyglot/target/polyglot/spiral_eval/packages/c0932fdbf60389c2ae8b78bb5443994f2d0ecdc6c6e7dfddf408cecaa050d294\"]}} / result:\n",
      "00:00:58 verbose #57 networking.wait_for_port_access / port: 13805 / retry: 0 / timeout: Some 100 / status: False\n",
      "00:00:58   debug #58 run_with_timeout_async / timeout: 100\n",
      "00:00:51   debug #96 watchWithFilter / Disposing watch stream / filter: FileName, LastWrite\n",
      "Some (Some \"0.3325000000000001\n",
      "\", [])\n",
      "\n"
     ]
    }
   ],
   "source": [
    "//// test\n",
    "\n",
    "\"\"\"\n",
    "inl init_series start end inc =\n",
    "    inl total : f64 = conv ((end - start) / inc) + 1\n",
    "    listm.init total (conv >> (*) inc >> (+) start) : list f64\n",
    "\n",
    "type integration = (f64 -> f64) -> f64 -> f64 -> f64\n",
    "\n",
    "inl integral dt : integration =\n",
    "    fun f a b =>\n",
    "        init_series (a + dt / 2) (b - dt / 2) dt\n",
    "        |> listm.map (f >> (*) dt)\n",
    "        |> listm.fold (+) 0\n",
    "\n",
    "inl main () =\n",
    "    integral 0.1 (fun x => x ** 2) 0 1\n",
    "\"\"\"\n",
    "|> buildCode 10000 None\n",
    "|> Async.runWithTimeout 10000\n",
    "|> Option.map (fun (_, (_, fsxContent), errors) -> fsxContent, errors |> List.map fst)\n",
    "|> _assertEqual (\n",
    "    Some (\n",
    "        Some \"0.3325000000000001\\n\",\n",
    "        []\n",
    "    )\n",
    ")"
   ]
  },
  {
   "cell_type": "code",
   "execution_count": null,
   "metadata": {
    "dotnet_interactive": {
     "language": "fsharp"
    },
    "polyglot_notebook": {
     "kernelName": "fsharp"
    }
   },
   "outputs": [
    {
     "name": "stdout",
     "output_type": "stream",
     "text": [
      "00:00:59   debug #59 run_with_timeout_async / timeout: 500\n",
      "00:00:56   debug #59 execute_with_options_async / options: struct (Some System.Threading.CancellationToken,\n",
      "        \"dotnet \"C:\\home\\git\\polyglot\\deps\\The-Spiral-Language\\The Spiral Language 2\\artifacts\\bin\\The Spiral Language 2\\release\\Spiral.dll\" --port 13805 --default-int i32 --default-float f64\",\n",
      "        [||], Some <fun:buildCode@3-398>, None, true,\n",
      "        Some \"C:\\home\\git\\polyglot\")\n",
      "00:00:56 verbose #60 > 00:00:00   debug #1 pwd: C:\\home\\git\\polyglot\n",
      "00:00:56 verbose #61 > 00:00:00   debug #2 dllPath: C:\\home\\git\\polyglot\\deps\\The-Spiral-Language\\The Spiral Language 2\\artifacts\\bin\\The Spiral Language 2\\release\n",
      "00:00:56 verbose #62 > 00:00:00   debug #3 targetDir: C:\\home\\git\\polyglot\\target/polyglot/spiral_eval\n",
      "00:00:59   debug #60 run_with_timeout_async / timeout: 100\n",
      "00:00:59 verbose #61 networking.wait_for_port_access / port: 13805 / retry: 0 / timeout: Some 100 / status: True\n",
      "00:00:59   debug #62 run_with_timeout_async / timeout: 100\n",
      "00:00:57 verbose #63 > Starting the Spiral Server. It is bound to: http://localhost:13805\n",
      "00:00:59   debug #63 run_with_timeout_async / timeout: 100\n",
      "00:00:53 verbose #97 Supervisor.sendJson / port: 13805 / json: {\"Ping\":true} / result:\n",
      "00:00:53 verbose #98 awaitCompiler / Ping / result: 'Some(null)' / port: 13805 / retry: 0\n",
      "00:00:57 verbose #64 > Server bound to: http://localhost:13805\n",
      "00:00:53   debug #99 buildFile / takeWhileInclusive / path: C:\\home\\git\\polyglot\\target/polyglot/spiral_eval\\packages\\355c36b6d259fe6b1c7527aa9b475ca37914ad348c4a239687383dcd0daeed2c\\main.spi / fsxContent:  / errors: [] / typeErrorCount: 0\n",
      "00:00:53   debug #100 buildFile / takeWhileInclusive / path: C:\\home\\git\\polyglot\\target/polyglot/spiral_eval\\packages\\355c36b6d259fe6b1c7527aa9b475ca37914ad348c4a239687383dcd0daeed2c\\main.spi / fsxContent:  / errors: [] / typeErrorCount: 0\n",
      "00:00:53 verbose #101 Supervisor.sendJson / port: 13805 / json: {\"FileOpen\":{\"spiText\":\"\\ninl init_series start end inc =\\n    inl total : f64 = conv ((end - start)...ot/spiral_eval/packages/355c36b6d259fe6b1c7527aa9b475ca37914ad348c4a239687383dcd0daeed2c/main.spi\"}} / result:\n",
      "00:00:53 verbose #102 Supervisor.sendJson / port: 13805 / json: {\"BuildFile\":{\"backend\":\"Fsharp\",\"uri\":\"file:///c:/home/git/polyglot/target/polyglot/spiral_eval/packages/355c36b6d259fe6b1c7527aa9b475ca37914ad348c4a239687383dcd0daeed2c/main.spi\"}} / result:\n",
      "00:00:57 verbose #65 > 00:00:01   debug #4 Supervisor.supervisor_server.BuildFile / file: c:/home/git/polyglot/target/polyglot/spiral_eval/packages/355c36b6d259fe6b1c7527aa9b475ca37914ad348c4a239687383dcd0daeed2c/main.spi\n",
      "00:00:54   debug #103 buildFile / takeWhileInclusive / path: C:\\home\\git\\polyglot\\target/polyglot/spiral_eval\\packages\\355c36b6d259fe6b1c7527aa9b475ca37914ad348c4a239687383dcd0daeed2c\\main.spi / fsxContent:  / errors: [] / typeErrorCount: 0\n",
      "00:00:55   debug #104 buildFile / takeWhileInclusive / path: C:\\home\\git\\polyglot\\target/polyglot/spiral_eval\\packages\\355c36b6d259fe6b1c7527aa9b475ca37914ad348c4a239687383dcd0daeed2c\\main.spi / fsxContent:  / errors: [] / typeErrorCount: 0\n",
      "00:00:55   debug #105 buildFile / takeWhileInclusive / path: C:\\home\\git\\polyglot\\target/polyglot/spiral_eval\\packages\\355c36b6d259fe6b1c7527aa9b475ca37914ad348c4a239687383dcd0daeed2c\\main.spi / fsxContent: 0.33332500000000004\n",
      " / errors: [] / typeErrorCount: 0\n",
      "00:00:56 verbose #106 Supervisor.sendJson / port: 13805 / json: {\"FileDelete\":{\"uris\":[\"file:///c:/home/git/polyglot/target/polyglot/spiral_eval/packages/355c36b6d259fe6b1c7527aa9b475ca37914ad348c4a239687383dcd0daeed2c\"]}} / result:\n",
      "00:01:02 verbose #64 networking.wait_for_port_access / port: 13805 / retry: 0 / timeout: Some 100 / status: False\n",
      "00:01:02   debug #65 run_with_timeout_async / timeout: 100\n",
      "00:00:56   debug #107 watchWithFilter / Disposing watch stream / filter: FileName, LastWrite\n",
      "Some (Some \"0.33332500000000004\n",
      "\", [])\n",
      "\n"
     ]
    }
   ],
   "source": [
    "//// test\n",
    "\n",
    "\"\"\"\n",
    "inl init_series start end inc =\n",
    "    inl total : f64 = conv ((end - start) / inc) + 1\n",
    "    listm.init total (conv >> (*) inc >> (+) start) : list f64\n",
    "\n",
    "type integration = (f64 -> f64) -> f64 -> f64 -> f64\n",
    "\n",
    "inl integral dt : integration =\n",
    "    fun f a b =>\n",
    "        init_series (a + dt / 2) (b - dt / 2) dt\n",
    "        |> listm.map (f >> (*) dt)\n",
    "        |> listm.fold (+) 0\n",
    "\n",
    "inl main () =\n",
    "    integral 0.01 (fun x => x ** 2) 0 1\n",
    "\"\"\"\n",
    "|> buildCode 10000 None\n",
    "|> Async.runWithTimeout 10000\n",
    "|> Option.map (fun (_, (_, fsxContent), errors) -> fsxContent, errors |> List.map fst)\n",
    "|> _assertEqual (\n",
    "    Some (\n",
    "        Some \"0.33332500000000004\\n\",\n",
    "        []\n",
    "    )\n",
    ")\n",
    "// |> _assertEqual None\n",
    "// |> fun x -> printfn $\"{x.ToDisplayString ()}\""
   ]
  },
  {
   "cell_type": "markdown",
   "metadata": {},
   "source": [
    "## getFileTokenRange"
   ]
  },
  {
   "cell_type": "code",
   "execution_count": null,
   "metadata": {
    "dotnet_interactive": {
     "language": "fsharp"
    },
    "polyglot_notebook": {
     "kernelName": "fsharp"
    }
   },
   "outputs": [],
   "source": [
    "let inline getFileTokenRange port cancellationToken path = async {\n",
    "    let fullPath = path |> System.IO.Path.GetFullPath\n",
    "    let! code = fullPath |> SpiralFileSystem.read_all_text_async\n",
    "    let lines = code |> SpiralSm.split \"\\n\"\n",
    "\n",
    "    let struct (token, disposable) = SpiralThreading.new_disposable_token cancellationToken\n",
    "    use _ = disposable\n",
    "\n",
    "    let! serverPort, _errors, ct, disposable =\n",
    "        match port with\n",
    "        | Some port -> awaitCompiler port (Some token)\n",
    "        | None -> (getCompilerPort (), FSharp.Control.AsyncSeq.empty, token, new_disposable id) |> Async.init\n",
    "    use _ = disposable\n",
    "\n",
    "    let fullPathUri = fullPath |> SpiralFileSystem.normalize_path |> SpiralFileSystem.new_file_uri\n",
    "\n",
    "    let fileOpenObj = {| FileOpen = {| uri = fullPathUri; spiText = code |} |}\n",
    "    let! _fileOpenResult = fileOpenObj |> sendObj serverPort\n",
    "\n",
    "    // do! Async.Sleep 60\n",
    "\n",
    "    let fileTokenRangeObj =\n",
    "        {|\n",
    "            FileTokenRange =\n",
    "                {|\n",
    "                    uri = fullPathUri\n",
    "                    range =\n",
    "                        [|\n",
    "                            {| line = 0; character = 0 |}\n",
    "                            {| line = lines.Length - 1; character = lines.[lines.Length - 1].Length |}\n",
    "                        |]\n",
    "                |}\n",
    "        |}\n",
    "    let! fileTokenRangeResult =\n",
    "        fileTokenRangeObj\n",
    "        |> sendObj serverPort\n",
    "        |> Async.withCancellationToken ct\n",
    "\n",
    "    let fileDir = fullPath |> System.IO.Path.GetDirectoryName\n",
    "    if fileDir |> SpiralSm.starts_with (workspaceRoot </> \"target\") then\n",
    "        let fileDirUri = fileDir |> SpiralFileSystem.normalize_path |> SpiralFileSystem.new_file_uri\n",
    "        let fileDeleteObj = {| FileDelete = {| uris = [| fileDirUri |] |} |}\n",
    "        let! _fileDeleteResult = fileDeleteObj |> sendObj serverPort\n",
    "        ()\n",
    "\n",
    "    return fileTokenRangeResult |> Option.map FSharp.Json.Json.deserialize<int array>\n",
    "}"
   ]
  },
  {
   "cell_type": "markdown",
   "metadata": {},
   "source": [
    "## getCodeTokenRange"
   ]
  },
  {
   "cell_type": "code",
   "execution_count": null,
   "metadata": {
    "dotnet_interactive": {
     "language": "fsharp"
    },
    "polyglot_notebook": {
     "kernelName": "fsharp"
    }
   },
   "outputs": [],
   "source": [
    "let inline getCodeTokenRange cancellationToken code = async {\n",
    "    let! mainPath, _ = persistCode code\n",
    "\n",
    "    let codeDir = mainPath |> System.IO.Path.GetDirectoryName\n",
    "    let tokensPath = codeDir </> \"tokens.json\"\n",
    "    let! tokens = async {\n",
    "        if tokensPath |> System.IO.File.Exists |> not\n",
    "        then return None\n",
    "        else\n",
    "            let! text = tokensPath |> SpiralFileSystem.read_all_text_async\n",
    "\n",
    "            return\n",
    "                if text.Length > 2\n",
    "                then text |> FSharp.Json.Json.deserialize<int array> |> Some\n",
    "                else None\n",
    "    }\n",
    "    match tokens with\n",
    "    | Some tokens -> return tokens |> Some\n",
    "    | None ->\n",
    "        let port = getCompilerPort ()\n",
    "        return! mainPath |> getFileTokenRange (Some port) cancellationToken\n",
    "}"
   ]
  },
  {
   "cell_type": "code",
   "execution_count": null,
   "metadata": {
    "dotnet_interactive": {
     "language": "fsharp"
    },
    "polyglot_notebook": {
     "kernelName": "fsharp"
    }
   },
   "outputs": [
    {
     "name": "stdout",
     "output_type": "stream",
     "text": [
      "00:01:07   debug #66 run_with_timeout_async / timeout: 500\n",
      "00:01:05   debug #66 execute_with_options_async / options: struct (Some System.Threading.CancellationToken,\n",
      "        \"dotnet \"C:\\home\\git\\polyglot\\deps\\The-Spiral-Language\\The Spiral Language 2\\artifacts\\bin\\The Spiral Language 2\\release\\Spiral.dll\" --port 13805 --default-int i32 --default-float f64\",\n",
      "        [||], Some <fun:it@4-167>, None, true, Some \"C:\\home\\git\\polyglot\")\n",
      "00:01:05 verbose #67 > 00:00:00   debug #1 pwd: C:\\home\\git\\polyglot\n",
      "00:01:05 verbose #68 > 00:00:00   debug #2 dllPath: C:\\home\\git\\polyglot\\deps\\The-Spiral-Language\\The Spiral Language 2\\artifacts\\bin\\The Spiral Language 2\\release\n",
      "00:01:05 verbose #69 > 00:00:00   debug #3 targetDir: C:\\home\\git\\polyglot\\target/polyglot/spiral_eval\n",
      "00:01:08   debug #67 run_with_timeout_async / timeout: 100\n",
      "00:01:08 verbose #68 networking.wait_for_port_access / port: 13805 / retry: 0 / timeout: Some 100 / status: True\n",
      "00:01:08   debug #69 run_with_timeout_async / timeout: 100\n",
      "00:01:06 verbose #70 > Starting the Spiral Server. It is bound to: http://localhost:13805\n",
      "00:01:08   debug #70 run_with_timeout_async / timeout: 100\n",
      "00:01:02 verbose #108 Supervisor.sendJson / port: 13805 / json: {\"Ping\":true} / result:\n",
      "00:01:02 verbose #109 awaitCompiler / Ping / result: 'Some(null)' / port: 13805 / retry: 0\n",
      "00:01:06 verbose #71 > Server bound to: http://localhost:13805\n",
      "00:01:02 verbose #110 Supervisor.sendJson / port: 13805 / json: {\"FileOpen\":{\"spiText\":\"inl main () = ()\",\"uri\":\"file:///c:/home/git/polyglot/target/polyglot/spiral_eval/packages/fb6c8d45c45c5bed6706c564f1573e80b77a3923967ce83cb69737ce2ce5040c/main.spi\"}} / result:\n",
      "00:01:03 verbose #111 Supervisor.sendJson / port: 13805 / json: {\"FileTokenRange\":{\"range\":[{\"character\":0,\"line\":0},{\"character\":16,\"line\":0}],\"uri\":\"file:///c:/ho...ot/spiral_eval/packages/fb6c8d45c45c5bed6706c564f1573e80b77a3923967ce83cb69737ce2ce5040c/main.spi\"}} / result: Some([\n",
      "  0,\n",
      "  0,\n",
      "  3,\n",
      "  7,\n",
      "  0,\n",
      "  0,\n",
      "  4,\n",
      "  4,\n",
      "  0,\n",
      "  0,\n",
      "  0,\n",
      "  5,\n",
      "  1,\n",
      "  8,\n",
      "  0,\n",
      "  0,\n",
      " ...8,\n",
      "  0,\n",
      "  0,\n",
      "  2,\n",
      "  1,\n",
      "  4,\n",
      "  0,\n",
      "  0,\n",
      "  2,\n",
      "  1,\n",
      "  8,\n",
      "  0,\n",
      "  0,\n",
      "  1,\n",
      "  1,\n",
      "  8,\n",
      "  0\n",
      "])\n",
      "00:01:03 verbose #112 Supervisor.sendJson / port: 13805 / json: {\"FileDelete\":{\"uris\":[\"file:///c:/home/git/polyglot/target/polyglot/spiral_eval/packages/fb6c8d45c45c5bed6706c564f1573e80b77a3923967ce83cb69737ce2ce5040c\"]}} / result:\n",
      "00:01:09 verbose #71 networking.wait_for_port_access / port: 13805 / retry: 0 / timeout: Some 100 / status: False\n",
      "00:01:09   debug #72 run_with_timeout_async / timeout: 100\n",
      "Some [|0; 0; 3; 7; 0; 0; 4; 4; 0; 0; 0; 5; 1; 8; 0; 0; 1; 1; 8; 0; 0; 2; 1; 4; 0; 0; 2; 1; 8; 0; 0; 1; 1; 8; 0|]\n",
      "\n"
     ]
    }
   ],
   "source": [
    "//// test\n",
    "\n",
    "\"\"\"inl main () = ()\"\"\"\n",
    "|> getCodeTokenRange None\n",
    "|> Async.runWithTimeout 10000\n",
    "|> Option.flatten\n",
    "|> _assertEqual (Some [| 0; 0; 3; 7; 0; 0; 4; 4; 0; 0; 0; 5; 1; 8; 0; 0; 1; 1; 8; 0; 0; 2; 1; 4; 0; 0;\n",
    "2; 1; 8; 0; 0; 1; 1; 8; 0 |])"
   ]
  },
  {
   "cell_type": "code",
   "execution_count": null,
   "metadata": {
    "dotnet_interactive": {
     "language": "fsharp"
    },
    "polyglot_notebook": {
     "kernelName": "fsharp"
    }
   },
   "outputs": [
    {
     "name": "stdout",
     "output_type": "stream",
     "text": [
      "00:01:12   debug #73 run_with_timeout_async / timeout: 500\n",
      "00:01:09   debug #72 execute_with_options_async / options: struct (Some System.Threading.CancellationToken,\n",
      "        \"dotnet \"C:\\home\\git\\polyglot\\deps\\The-Spiral-Language\\The Spiral Language 2\\artifacts\\bin\\The Spiral Language 2\\release\\Spiral.dll\" --port 13805 --default-int i32 --default-float f64\",\n",
      "        [||], Some <fun:it@4-387>, None, true, Some \"C:\\home\\git\\polyglot\")\n",
      "00:01:10 verbose #73 > 00:00:00   debug #1 pwd: C:\\home\\git\\polyglot\n",
      "00:01:10 verbose #74 > 00:00:00   debug #2 dllPath: C:\\home\\git\\polyglot\\deps\\The-Spiral-Language\\The Spiral Language 2\\artifacts\\bin\\The Spiral Language 2\\release\n",
      "00:01:10 verbose #75 > 00:00:00   debug #3 targetDir: C:\\home\\git\\polyglot\\target/polyglot/spiral_eval\n",
      "00:01:12   debug #74 run_with_timeout_async / timeout: 100\n",
      "00:01:12 verbose #75 networking.wait_for_port_access / port: 13805 / retry: 0 / timeout: Some 100 / status: True\n",
      "00:01:12   debug #76 run_with_timeout_async / timeout: 100\n",
      "00:01:10 verbose #76 > Starting the Spiral Server. It is bound to: http://localhost:13805\n",
      "00:01:12   debug #77 run_with_timeout_async / timeout: 100\n",
      "00:01:06 verbose #113 Supervisor.sendJson / port: 13805 / json: {\"Ping\":true} / result:\n",
      "00:01:06 verbose #114 awaitCompiler / Ping / result: 'Some(null)' / port: 13805 / retry: 0\n",
      "00:01:10 verbose #77 > Server bound to: http://localhost:13805\n",
      "00:01:06 verbose #115 Supervisor.sendJson / port: 13805 / json: {\"FileOpen\":{\"spiText\":\"inl main () = 1i32\",\"uri\":\"file:///c:/home/git/polyglot/target/polyglot/spiral_eval/packages/9df95a2f18642bd8d2f682f6edb6cef45c30ca9c616b33ebb0e5577eed14871c/main.spi\"}} / result:\n",
      "00:01:07 verbose #116 Supervisor.sendJson / port: 13805 / json: {\"FileTokenRange\":{\"range\":[{\"character\":0,\"line\":0},{\"character\":18,\"line\":0}],\"uri\":\"file:///c:/ho...ot/spiral_eval/packages/9df95a2f18642bd8d2f682f6edb6cef45c30ca9c616b33ebb0e5577eed14871c/main.spi\"}} / result: Some([\n",
      "  0,\n",
      "  0,\n",
      "  3,\n",
      "  7,\n",
      "  0,\n",
      "  0,\n",
      "  4,\n",
      "  4,\n",
      "  0,\n",
      "  0,\n",
      "  0,\n",
      "  5,\n",
      "  1,\n",
      "  8,\n",
      "  0,\n",
      "  0,\n",
      " ...,\n",
      "  0,\n",
      "  0,\n",
      "  2,\n",
      "  1,\n",
      "  4,\n",
      "  0,\n",
      "  0,\n",
      "  2,\n",
      "  1,\n",
      "  3,\n",
      "  0,\n",
      "  0,\n",
      "  1,\n",
      "  3,\n",
      "  12,\n",
      "  0\n",
      "])\n",
      "00:01:07 verbose #117 Supervisor.sendJson / port: 13805 / json: {\"FileDelete\":{\"uris\":[\"file:///c:/home/git/polyglot/target/polyglot/spiral_eval/packages/9df95a2f18642bd8d2f682f6edb6cef45c30ca9c616b33ebb0e5577eed14871c\"]}} / result:\n",
      "00:01:13 verbose #78 networking.wait_for_port_access / port: 13805 / retry: 0 / timeout: Some 100 / status: False\n",
      "00:01:13   debug #79 run_with_timeout_async / timeout: 100\n",
      "Some [|0; 0; 3; 7; 0; 0; 4; 4; 0; 0; 0; 5; 1; 8; 0; 0; 1; 1; 8; 0; 0; 2; 1; 4; 0; 0; 2; 1; 3; 0; 0; 1; 3; 12; 0|]\n",
      "\n"
     ]
    }
   ],
   "source": [
    "//// test\n",
    "\n",
    "\"\"\"inl main () = 1i32\"\"\"\n",
    "|> getCodeTokenRange None\n",
    "|> Async.runWithTimeout 10000\n",
    "|> Option.flatten\n",
    "|> _assertEqual (Some [| 0; 0; 3; 7; 0; 0; 4; 4; 0; 0; 0; 5; 1; 8; 0; 0; 1; 1; 8; 0; 0; 2; 1; 4; 0; 0;\n",
    "2; 1; 3; 0; 0; 1; 3; 12; 0 |])"
   ]
  },
  {
   "cell_type": "markdown",
   "metadata": {},
   "source": [
    "## Arguments"
   ]
  },
  {
   "cell_type": "code",
   "execution_count": null,
   "metadata": {
    "dotnet_interactive": {
     "language": "fsharp"
    },
    "polyglot_notebook": {
     "kernelName": "fsharp"
    }
   },
   "outputs": [],
   "source": [
    "[<RequireQualifiedAccess>]\n",
    "type Arguments =\n",
    "    | Build_File of string * string\n",
    "    | File_Token_Range of string * string\n",
    "    | Execute_Command of string\n",
    "    | [<Argu.ArguAttributes.Unique>] Timeout of int\n",
    "    | [<Argu.ArguAttributes.Unique>] Port of int\n",
    "    | [<Argu.ArguAttributes.Unique>] Parallel\n",
    "    | [<Argu.ArguAttributes.Unique>] Exit_On_Error\n",
    "\n",
    "    interface Argu.IArgParserTemplate with\n",
    "        member s.Usage =\n",
    "            match s with\n",
    "            | Build_File _ -> nameof Build_File\n",
    "            | File_Token_Range _ -> nameof File_Token_Range\n",
    "            | Execute_Command _ -> nameof Execute_Command\n",
    "            | Timeout _ -> nameof Timeout\n",
    "            | Port _ -> nameof Port\n",
    "            | Parallel -> nameof Parallel\n",
    "            | Exit_On_Error-> nameof Exit_On_Error"
   ]
  },
  {
   "cell_type": "code",
   "execution_count": null,
   "metadata": {
    "dotnet_interactive": {
     "language": "fsharp"
    },
    "polyglot_notebook": {
     "kernelName": "fsharp"
    }
   },
   "outputs": [
    {
     "data": {
      "text/plain": [
       "\"USAGE: dotnet-repl [--help] [--build-file <string> <string>]\n",
       "                   [--file-token-range <string> <string>]\n",
       "                   [--execute-command <string>] [--timeout <int>] [--port <int>]\n",
       "                   [--parallel] [--exit-on-error]\n",
       "\n",
       "OPTIONS:\n",
       "\n",
       "    --build-file <string> <string>\n",
       "                          Build_File\n",
       "    --file-token-range <string> <string>\n",
       "                          File_Token_Range\n",
       "    --execute-command <string>\n",
       "                          Execute_Command\n",
       "    --timeout <int>       Timeout\n",
       "    --port <int>          Port\n",
       "    --parallel            Parallel\n",
       "    --exit-on-error       Exit_On_Error\n",
       "    --help                display this list of options.\n",
       "\"\n"
      ]
     },
     "metadata": {},
     "output_type": "display_data"
    }
   ],
   "source": [
    "//// test\n",
    "\n",
    "Argu.ArgumentParser.Create<Arguments>().PrintUsage ()"
   ]
  },
  {
   "cell_type": "markdown",
   "metadata": {},
   "source": [
    "## main"
   ]
  },
  {
   "cell_type": "code",
   "execution_count": null,
   "metadata": {
    "dotnet_interactive": {
     "language": "fsharp"
    },
    "polyglot_notebook": {
     "kernelName": "fsharp"
    }
   },
   "outputs": [],
   "source": [
    "let main args =\n",
    "    let argsMap = args |> Runtime.parseArgsMap<Arguments>\n",
    "\n",
    "    let buildFileActions =\n",
    "        argsMap\n",
    "        |> Map.tryFind (nameof Arguments.Build_File)\n",
    "        |> Option.defaultValue []\n",
    "        |> List.choose (function\n",
    "            | Arguments.Build_File (inputPath, outputPath) -> Some (inputPath, outputPath)\n",
    "            | _ -> None\n",
    "        )\n",
    "\n",
    "    let fileTokenRangeActions =\n",
    "        argsMap\n",
    "        |> Map.tryFind (nameof Arguments.File_Token_Range)\n",
    "        |> Option.defaultValue []\n",
    "        |> List.choose (function\n",
    "            | Arguments.File_Token_Range (inputPath, outputPath) -> Some (inputPath, outputPath)\n",
    "            | _ -> None\n",
    "        )\n",
    "\n",
    "    let executeCommandActions =\n",
    "        argsMap\n",
    "        |> Map.tryFind (nameof Arguments.Execute_Command)\n",
    "        |> Option.defaultValue []\n",
    "        |> List.choose (function\n",
    "            | Arguments.Execute_Command command -> Some command\n",
    "            | _ -> None\n",
    "        )\n",
    "\n",
    "    let timeout =\n",
    "        match argsMap |> Map.tryFind (nameof Arguments.Timeout) with\n",
    "        | Some [ Arguments.Timeout timeout ] -> timeout\n",
    "        | _ -> 60000 * 60\n",
    "\n",
    "    let port =\n",
    "        match argsMap |> Map.tryFind (nameof Arguments.Port) with\n",
    "        | Some [ Arguments.Port port ] -> Some port\n",
    "        | _ -> None\n",
    "\n",
    "    let isParallel = argsMap |> Map.containsKey (nameof Arguments.Parallel)\n",
    "\n",
    "    let isExitOnError = argsMap |> Map.containsKey (nameof Arguments.Exit_On_Error)\n",
    "\n",
    "    async {\n",
    "        let port = port |> Option.defaultWith getCompilerPort\n",
    "        let struct (localToken, disposable) = SpiralThreading.new_disposable_token None\n",
    "        let! serverPort, _errors, compilerToken, disposable = awaitCompiler port (Some localToken)\n",
    "        use _ = disposable\n",
    "\n",
    "        let buildFileAsync =\n",
    "            buildFileActions\n",
    "            |> List.map (fun (inputPath, outputPath) -> async {\n",
    "                let! _fsxPath, (outputCode, errors) = inputPath |> buildFile timeout serverPort None\n",
    "\n",
    "                errors\n",
    "                |> List.map snd\n",
    "                |> List.iter (fun error ->\n",
    "                    trace Critical (fun () -> $\"main / error: {error |> serializeObj}\") _locals\n",
    "                )\n",
    "\n",
    "                match outputCode with\n",
    "                | Some outputCode ->\n",
    "                    do! outputCode |> SpiralFileSystem.write_all_text_async outputPath\n",
    "                    return 0\n",
    "                | None ->\n",
    "                    if isExitOnError\n",
    "                    then System.Environment.Exit 1\n",
    "\n",
    "                    return 1\n",
    "            })\n",
    "\n",
    "        let fileTokenRangeAsync =\n",
    "            fileTokenRangeActions\n",
    "            |> List.map (fun (inputPath, outputPath) -> async {\n",
    "                let! tokenRange = inputPath |> getFileTokenRange (Some serverPort) None\n",
    "                match tokenRange with\n",
    "                | Some tokenRange ->\n",
    "                    do! tokenRange |> FSharp.Json.Json.serialize |> SpiralFileSystem.write_all_text_async outputPath\n",
    "                    return 0\n",
    "                | None ->\n",
    "                    if isExitOnError\n",
    "                    then System.Environment.Exit 1\n",
    "\n",
    "                    return 1\n",
    "            })\n",
    "\n",
    "        let executeCommandAsync =\n",
    "            executeCommandActions\n",
    "            |> List.map (fun command -> async {\n",
    "                let! exitCode, result =\n",
    "                    SpiralRuntime.execution_options (fun x ->\n",
    "                        { x with\n",
    "                            l0 = Some compilerToken\n",
    "                            l1 = command\n",
    "                        }\n",
    "                    )\n",
    "                    |> SpiralRuntime.execute_with_options_async\n",
    "\n",
    "                trace Debug (fun () -> $\"main / executeCommand / exitCode: {exitCode} / command: {command}\") _locals\n",
    "\n",
    "                if isExitOnError && exitCode > 0\n",
    "                then System.Environment.Exit exitCode\n",
    "\n",
    "                return exitCode\n",
    "            })\n",
    "\n",
    "        return!\n",
    "            [| buildFileAsync; fileTokenRangeAsync; executeCommandAsync |]\n",
    "            |> Seq.collect id\n",
    "            |> fun x ->\n",
    "                if isParallel\n",
    "                then Async.Parallel (x, float System.Environment.ProcessorCount * 0.51 |> ceil |> int)\n",
    "                else Async.Sequential x\n",
    "            |> Async.map Array.sum\n",
    "    }\n",
    "    |> Async.runWithTimeout timeout\n",
    "    |> Option.defaultValue 1"
   ]
  },
  {
   "cell_type": "code",
   "execution_count": null,
   "metadata": {
    "dotnet_interactive": {
     "language": "fsharp"
    },
    "polyglot_notebook": {
     "kernelName": "fsharp"
    }
   },
   "outputs": [
    {
     "data": {
      "text/html": [
       "<div class=\"dni-plaintext\"><pre>0\n",
       "</pre></div><style>\n",
       ".dni-code-hint {\n",
       "    font-style: italic;\n",
       "    overflow: hidden;\n",
       "    white-space: nowrap;\n",
       "}\n",
       ".dni-treeview {\n",
       "    white-space: nowrap;\n",
       "}\n",
       ".dni-treeview td {\n",
       "    vertical-align: top;\n",
       "    text-align: start;\n",
       "}\n",
       "details.dni-treeview {\n",
       "    padding-left: 1em;\n",
       "}\n",
       "table td {\n",
       "    text-align: start;\n",
       "}\n",
       "table tr { \n",
       "    vertical-align: top; \n",
       "    margin: 0em 0px;\n",
       "}\n",
       "table tr td pre \n",
       "{ \n",
       "    vertical-align: top !important; \n",
       "    margin: 0em 0px !important;\n",
       "} \n",
       "table th {\n",
       "    text-align: start;\n",
       "}\n",
       "</style>"
      ]
     },
     "metadata": {},
     "output_type": "display_data"
    }
   ],
   "source": [
    "//// test\n",
    "\n",
    "let args =\n",
    "    System.Environment.GetEnvironmentVariable \"ARGS\"\n",
    "    |> SpiralRuntime.split_args\n",
    "    |> Seq.toArray\n",
    "\n",
    "match args with\n",
    "| [||] -> 0\n",
    "| args -> if main args = 0 then 0 else failwith \"main failed\""
   ]
  }
 ],
 "metadata": {},
 "nbformat": 4,
 "nbformat_minor": 5
}