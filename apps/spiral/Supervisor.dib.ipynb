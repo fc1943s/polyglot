{
 "cells": [
  {
   "cell_type": "markdown",
   "metadata": {},
   "source": [
    "# Supervisor (Polyglot)"
   ]
  },
  {
   "cell_type": "code",
   "execution_count": null,
   "metadata": {
    "dotnet_interactive": {
     "language": "fsharp"
    },
    "polyglot_notebook": {
     "kernelName": "fsharp"
    }
   },
   "outputs": [],
   "source": [
    "#r @\"../../../../../../../.nuget/packages/fsharp.control.asyncseq/3.2.1/lib/netstandard2.1/FSharp.Control.AsyncSeq.dll\"\n",
    "#r @\"../../../../../../../.nuget/packages/system.reactive/6.0.1-preview.1/lib/net6.0/System.Reactive.dll\"\n",
    "#r @\"../../../../../../../.nuget/packages/system.reactive.linq/6.0.1-preview.1/lib/netstandard2.0/System.Reactive.Linq.dll\"\n",
    "#r @\"../../../../../../../.nuget/packages/argu/6.2.2/lib/netstandard2.0/Argu.dll\"\n",
    "#r @\"../../../../../../../.nuget/packages/microsoft.aspnetcore.http.connections.common/7.0.0/lib/net7.0/Microsoft.AspNetCore.Http.Connections.Common.dll\"\n",
    "#r @\"../../../../../../../.nuget/packages/microsoft.aspnetcore.http.connections.client/7.0.0/lib/net7.0/Microsoft.AspNetCore.Http.Connections.Client.dll\"\n",
    "#r @\"../../../../../../../.nuget/packages/microsoft.aspnetcore.signalr.common/7.0.0/lib/net7.0/Microsoft.AspNetCore.SignalR.Common.dll\"\n",
    "#r @\"../../../../../../../.nuget/packages/microsoft.aspnetcore.signalr.client/7.0.0/lib/net7.0/Microsoft.AspNetCore.SignalR.Client.dll\"\n",
    "#r @\"../../../../../../../.nuget/packages/microsoft.aspnetcore.signalr.client.core/7.0.0/lib/net7.0/Microsoft.AspNetCore.SignalR.Client.Core.dll\"\n",
    "#r @\"../../../../../../../.nuget/packages/fsharp.json/0.4.1/lib/netstandard2.0/FSharp.Json.dll\""
   ]
  },
  {
   "cell_type": "code",
   "execution_count": null,
   "metadata": {
    "dotnet_interactive": {
     "language": "fsharp"
    },
    "polyglot_notebook": {
     "kernelName": "fsharp"
    }
   },
   "outputs": [],
   "source": [
    "#!import ../../lib/fsharp/Notebooks.dib\n",
    "#!import ../../lib/fsharp/Testing.dib"
   ]
  },
  {
   "cell_type": "code",
   "execution_count": null,
   "metadata": {
    "dotnet_interactive": {
     "language": "fsharp"
    },
    "polyglot_notebook": {
     "kernelName": "fsharp"
    }
   },
   "outputs": [],
   "source": [
    "#!import ../../lib/fsharp/Common.fs\n",
    "#!import ../../lib/fsharp/CommonFSharp.fs\n",
    "#!import ../../lib/fsharp/Async.fs\n",
    "#!import ../../lib/fsharp/AsyncSeq.fs\n",
    "#!import ../../lib/fsharp/Runtime.fs\n",
    "#!import ../../lib/fsharp/FileSystem.fs"
   ]
  },
  {
   "cell_type": "code",
   "execution_count": null,
   "metadata": {
    "dotnet_interactive": {
     "language": "fsharp"
    },
    "polyglot_notebook": {
     "kernelName": "fsharp"
    }
   },
   "outputs": [],
   "source": [
    "#if !INTERACTIVE\n",
    "open Lib\n",
    "#endif"
   ]
  },
  {
   "cell_type": "code",
   "execution_count": null,
   "metadata": {
    "dotnet_interactive": {
     "language": "fsharp"
    },
    "polyglot_notebook": {
     "kernelName": "fsharp"
    }
   },
   "outputs": [],
   "source": [
    "open Common\n",
    "open SpiralFileSystem.Operators\n",
    "open Microsoft.AspNetCore.SignalR.Client"
   ]
  },
  {
   "cell_type": "markdown",
   "metadata": {},
   "source": [
    "## sendJson"
   ]
  },
  {
   "cell_type": "code",
   "execution_count": null,
   "metadata": {
    "dotnet_interactive": {
     "language": "fsharp"
    },
    "polyglot_notebook": {
     "kernelName": "fsharp"
    }
   },
   "outputs": [],
   "source": [
    "let inline sendJson (port : int) (json : string) = async {\n",
    "    let! portOpen = SpiralNetworking.test_port_open port\n",
    "    if portOpen then\n",
    "        try\n",
    "            let connection = HubConnectionBuilder().WithUrl($\"http://127.0.0.1:{port}\").Build()\n",
    "            do! connection.StartAsync () |> Async.AwaitTask\n",
    "            let! result = connection.InvokeAsync<string>(\"ClientToServerMsg\", json) |> Async.AwaitTask\n",
    "            do! connection.StopAsync () |> Async.AwaitTask\n",
    "            trace Verbose (fun () -> $\"sendJson / port: {port} / json: {json |> SpiralSm.ellipsis_end 200} / result: {result |> Option.ofObj |> Option.map (SpiralSm.ellipsis_end 200)}\") _locals\n",
    "            return Some result\n",
    "        with ex ->\n",
    "            trace Critical (fun () -> $\"sendJson / port: {port} / json: {json |> SpiralSm.ellipsis_end 200} / ex: {ex |> SpiralSm.format_exception}\") _locals\n",
    "            return None\n",
    "    else\n",
    "        trace Debug (fun () -> \"sendJson / error: port not open\") _locals\n",
    "        return None\n",
    "}"
   ]
  },
  {
   "cell_type": "markdown",
   "metadata": {},
   "source": [
    "## sendObj"
   ]
  },
  {
   "cell_type": "code",
   "execution_count": null,
   "metadata": {
    "dotnet_interactive": {
     "language": "fsharp"
    },
    "polyglot_notebook": {
     "kernelName": "fsharp"
    }
   },
   "outputs": [],
   "source": [
    "let inline sendObj port obj =\n",
    "    obj\n",
    "    |> System.Text.Json.JsonSerializer.Serialize\n",
    "    |> sendJson port"
   ]
  },
  {
   "cell_type": "markdown",
   "metadata": {},
   "source": [
    "## awaitCompiler"
   ]
  },
  {
   "cell_type": "code",
   "execution_count": null,
   "metadata": {
    "dotnet_interactive": {
     "language": "fsharp"
    },
    "polyglot_notebook": {
     "kernelName": "fsharp"
    }
   },
   "outputs": [],
   "source": [
    "type VSCPos = {| line : int; character : int |}\n",
    "type VSCRange = VSCPos * VSCPos\n",
    "type RString = VSCRange * string\n",
    "type TracedError = {| trace : string list; message : string |}\n",
    "type ClientErrorsRes =\n",
    "    | FatalError of string\n",
    "    | TracedError of TracedError\n",
    "    | PackageErrors of {| uri : string; errors : RString list |}\n",
    "    | TokenizerErrors of {| uri : string; errors : RString list |}\n",
    "    | ParserErrors of {| uri : string; errors : RString list |}\n",
    "    | TypeErrors of {| uri : string; errors : RString list |}"
   ]
  },
  {
   "cell_type": "code",
   "execution_count": null,
   "metadata": {
    "dotnet_interactive": {
     "language": "fsharp"
    },
    "polyglot_notebook": {
     "kernelName": "fsharp"
    }
   },
   "outputs": [],
   "source": [
    "let repositoryRoot = SpiralFileSystem.get_repository_root ()"
   ]
  },
  {
   "cell_type": "code",
   "execution_count": null,
   "metadata": {
    "dotnet_interactive": {
     "language": "fsharp"
    },
    "polyglot_notebook": {
     "kernelName": "fsharp"
    }
   },
   "outputs": [],
   "source": [
    "let inline awaitCompiler port cancellationToken = async {\n",
    "    let host = \"127.0.0.1\"\n",
    "    let struct (ct, disposable) = cancellationToken |> SpiralThreading.new_disposable_token\n",
    "    let! ct = ct |> SpiralAsync.merge_cancellation_token_with_default_async\n",
    "\n",
    "    let compiler = MailboxProcessor.Start (fun inbox -> async {\n",
    "        let! availablePort = SpiralNetworking.get_available_port (Some 60) port\n",
    "        if availablePort <> port then\n",
    "            inbox.Post (port, false)\n",
    "        else\n",
    "            let compilerPath =\n",
    "                repositoryRoot </> \"deps/The-Spiral-Language/The Spiral Language 2/artifacts/bin/The Spiral Language 2/release\"\n",
    "                |> System.IO.Path.GetFullPath\n",
    "\n",
    "            let dllPath = compilerPath </> \"Spiral.dll\"\n",
    "\n",
    "            let! exitCode, result =\n",
    "                SpiralRuntime.execution_options (fun x ->\n",
    "                    { x with\n",
    "                        l0 = Some ct\n",
    "                        l1 = $@\"dotnet \"\"{dllPath}\"\" --port {availablePort} --default-int i32 --default-float f64\"\n",
    "                        l3 = Some (fun struct (_, line, _) -> async {\n",
    "                            if line |> SpiralSm.contains $\"System.IO.IOException: Failed to bind to address http://{host}:{port}: address already in use.\" then\n",
    "                                inbox.Post (port, false)\n",
    "\n",
    "                            if line |> SpiralSm.contains $\"Server bound to: http://localhost:{availablePort}\" then\n",
    "                                do!\n",
    "                                    SpiralNetworking.wait_for_port_access (Some 5000) true availablePort\n",
    "                                    |> Async.Ignore\n",
    "\n",
    "                                let rec loop retry = async {\n",
    "                                    let _locals () = $\"port: {availablePort} / retry: {retry} / {_locals ()}\"\n",
    "                                    try\n",
    "                                        let pingObj = {| Ping = true |}\n",
    "                                        let! pingResult = pingObj |> sendObj availablePort\n",
    "                                        trace Verbose (fun () -> $\"awaitCompiler / Ping / result: '{pingResult}'\") _locals\n",
    "                                    with ex ->\n",
    "                                        trace Verbose (fun () -> $\"awaitCompiler / Ping / ex: {ex |> SpiralSm.format_exception}\") _locals\n",
    "                                        do! Async.Sleep 10\n",
    "                                        do! loop (retry + 1)\n",
    "                                }\n",
    "                                do! loop 0\n",
    "                                inbox.Post (availablePort, true)\n",
    "                        })\n",
    "                        l4 = Some repositoryRoot\n",
    "                    }\n",
    "                )\n",
    "                |> SpiralRuntime.execute_with_options_async\n",
    "\n",
    "            trace Debug (fun () -> $\"awaitCompiler / exitCode: {exitCode} / result: {result}\") _locals\n",
    "            disposable.Dispose ()\n",
    "    }, ct)\n",
    "\n",
    "    let! serverPort, managed = compiler.Receive ()\n",
    "\n",
    "    let connection = HubConnectionBuilder().WithUrl($\"http://{host}:{serverPort}\").Build ()\n",
    "    do! connection.StartAsync () |> Async.AwaitTask\n",
    "\n",
    "    let event = Event<_> ()\n",
    "    let disposable' = connection.On<string> (\"ServerToClientMsg\", event.Trigger)\n",
    "    let stream =\n",
    "        FSharp.Control.AsyncSeq.unfoldAsync\n",
    "            (fun () -> async {\n",
    "                let! msg = event.Publish |> Async.AwaitEvent\n",
    "                return Some (msg |> FSharp.Json.Json.deserialize<ClientErrorsRes>, ())\n",
    "            })\n",
    "            ()\n",
    "\n",
    "    let disposable' =\n",
    "        new_disposable (fun () ->\n",
    "            async {\n",
    "                disposable'.Dispose ()\n",
    "                do! connection.StopAsync () |> Async.AwaitTask\n",
    "                disposable.Dispose ()\n",
    "                if managed\n",
    "                then do! SpiralNetworking.wait_for_port_access (Some 3000) false serverPort |> Async.Ignore\n",
    "            }\n",
    "            |> Async.RunSynchronously\n",
    "        )\n",
    "\n",
    "    return\n",
    "        serverPort,\n",
    "        stream,\n",
    "        ct,\n",
    "        disposable'\n",
    "}"
   ]
  },
  {
   "cell_type": "markdown",
   "metadata": {},
   "source": [
    "## getFilePathFromUri"
   ]
  },
  {
   "cell_type": "code",
   "execution_count": null,
   "metadata": {
    "dotnet_interactive": {
     "language": "fsharp"
    },
    "polyglot_notebook": {
     "kernelName": "fsharp"
    }
   },
   "outputs": [],
   "source": [
    "let inline getFilePathFromUri uri =\n",
    "    match System.Uri.TryCreate (uri, System.UriKind.Absolute) with\n",
    "    | true, uri -> uri.AbsolutePath |> System.IO.Path.GetFullPath\n",
    "    | _ -> failwith \"invalid uri\""
   ]
  },
  {
   "cell_type": "markdown",
   "metadata": {},
   "source": [
    "## getCompilerPort"
   ]
  },
  {
   "cell_type": "code",
   "execution_count": null,
   "metadata": {
    "dotnet_interactive": {
     "language": "fsharp"
    },
    "polyglot_notebook": {
     "kernelName": "fsharp"
    }
   },
   "outputs": [],
   "source": [
    "let inline getCompilerPort () =\n",
    "    13805"
   ]
  },
  {
   "cell_type": "markdown",
   "metadata": {},
   "source": [
    "## serialize_obj"
   ]
  },
  {
   "cell_type": "code",
   "execution_count": null,
   "metadata": {
    "dotnet_interactive": {
     "language": "fsharp"
    },
    "polyglot_notebook": {
     "kernelName": "fsharp"
    }
   },
   "outputs": [],
   "source": [
    "    let serializeObj obj =\n",
    "        obj\n",
    "        |> FSharp.Json.Json.serialize\n",
    "        |> SpiralSm.replace \"\\\\\\\\\" \"\\\\\"\n",
    "        |> SpiralSm.replace \"\\\\r\\\\n\" \"\\n\"\n",
    "        |> SpiralSm.replace \"\\\\n\" \"\\n\""
   ]
  },
  {
   "cell_type": "markdown",
   "metadata": {},
   "source": [
    "## buildFile"
   ]
  },
  {
   "cell_type": "code",
   "execution_count": null,
   "metadata": {
    "dotnet_interactive": {
     "language": "fsharp"
    },
    "polyglot_notebook": {
     "kernelName": "fsharp"
    }
   },
   "outputs": [],
   "source": [
    "let inline buildFile timeout port cancellationToken path = async {\n",
    "    let fullPath = path |> System.IO.Path.GetFullPath\n",
    "    let fileDir = fullPath |> System.IO.Path.GetDirectoryName\n",
    "    let fileName = fullPath |> System.IO.Path.GetFileNameWithoutExtension\n",
    "    let! code = fullPath |> SpiralFileSystem.read_all_text_async\n",
    "\n",
    "    let stream, disposable = fileDir |> FileSystem.watchDirectory (fun _ -> false)\n",
    "    use _ = disposable\n",
    "\n",
    "    let struct (token, disposable) = SpiralThreading.new_disposable_token cancellationToken\n",
    "    use _ = disposable\n",
    "\n",
    "    let! serverPort, errors, ct, disposable = awaitCompiler port (Some token)\n",
    "    use _ = disposable\n",
    "\n",
    "    let fsxContentSeq =\n",
    "        stream\n",
    "        |> FSharp.Control.AsyncSeq.chooseAsync (function\n",
    "            | _, (FileSystem.FileSystemChange.Changed (path, _))\n",
    "                when (path |> System.IO.Path.GetFileName) = $\"{fileName}.fsx\"\n",
    "                ->\n",
    "                    fileDir </> path |> SpiralFileSystem.read_all_text_retry_async\n",
    "            | _ -> None |> Async.init\n",
    "        )\n",
    "        |> FSharp.Control.AsyncSeq.map (fun content ->\n",
    "            Some (content |> SpiralSm.replace \"\\r\\n\" \"\\n\"), None\n",
    "        )\n",
    "\n",
    "    let inline printErrorData (data : {| uri : string; errors : RString list |}) =\n",
    "        let fileName = data.uri |> System.IO.Path.GetFileName\n",
    "        let errors =\n",
    "            data.errors\n",
    "            |> List.map snd\n",
    "            |> SpiralSm.concat \"\\n\"\n",
    "        $\"{fileName}:\\n{errors}\"\n",
    "\n",
    "    let errorsSeq =\n",
    "        errors\n",
    "        |> FSharp.Control.AsyncSeq.choose (fun error ->\n",
    "            match error with\n",
    "            | FatalError message ->\n",
    "                Some (message, error)\n",
    "            | TracedError data ->\n",
    "                Some (data.message, error)\n",
    "            | PackageErrors data when data.errors |> List.isEmpty |> not ->\n",
    "                Some (data |> printErrorData, error)\n",
    "            | TokenizerErrors data when data.errors |> List.isEmpty |> not ->\n",
    "                Some (data |> printErrorData, error)\n",
    "            | ParserErrors data when data.errors |> List.isEmpty |> not ->\n",
    "                Some (data |> printErrorData, error)\n",
    "            | TypeErrors data when data.errors |> List.isEmpty |> not ->\n",
    "                Some (data |> printErrorData, error)\n",
    "            | _ -> None\n",
    "        )\n",
    "        |> FSharp.Control.AsyncSeq.map (fun (message, error) ->\n",
    "            None, Some (message, error)\n",
    "        )\n",
    "\n",
    "    let timerSeq =\n",
    "        1000\n",
    "        |> FSharp.Control.AsyncSeq.intervalMs\n",
    "        |> FSharp.Control.AsyncSeq.map (fun _ -> None, None)\n",
    "\n",
    "    let outputSeq =\n",
    "        [ fsxContentSeq; errorsSeq; timerSeq ]\n",
    "        |> FSharp.Control.AsyncSeq.mergeAll\n",
    "\n",
    "    let! outputChild =\n",
    "        ((None, [], 0), outputSeq)\n",
    "        ||> FSharp.Control.AsyncSeq.scan (\n",
    "            fun (fsxContentResult, errors, typeErrorCount) (fsxContent, error) ->\n",
    "                match fsxContent, error with\n",
    "                | Some fsxContent, None -> Some fsxContent, errors, typeErrorCount\n",
    "                | None, Some (_, FatalError \"File main has a type error somewhere in its path.\") ->\n",
    "                    fsxContentResult, errors, typeErrorCount + 1\n",
    "                | None, Some error -> fsxContentResult, error :: errors, typeErrorCount\n",
    "                | None, None when typeErrorCount >= 1 ->\n",
    "                    fsxContentResult, errors, typeErrorCount + 1\n",
    "                | _ -> fsxContentResult, errors, typeErrorCount\n",
    "        )\n",
    "        |> FSharp.Control.AsyncSeq.takeWhileInclusive (fun (fsxContent, errors, typeErrorCount) ->\n",
    "            trace Debug (fun () -> $\"buildFile / takeWhileInclusive / path: {path} / fsxContent: {fsxContent |> Option.defaultValue System.String.Empty |> SpiralSm.ellipsis_end 400} / errors: {errors |> serializeObj} / typeErrorCount: {typeErrorCount}\") _locals\n",
    "#if INTERACTIVE\n",
    "            let errorWait = 2\n",
    "#else\n",
    "            let errorWait = 4\n",
    "#endif\n",
    "            match fsxContent, errors with\n",
    "            | None, [] when typeErrorCount > errorWait -> false\n",
    "            | None, [] -> true\n",
    "            | _ -> false\n",
    "        )\n",
    "        |> FSharp.Control.AsyncSeq.tryLast\n",
    "        |> Async.withCancellationToken ct\n",
    "        |> Async.catch\n",
    "        |> Async.runWithTimeoutAsync timeout\n",
    "        |> Async.StartChild\n",
    "\n",
    "    let fullPathUri = fullPath |> SpiralFileSystem.normalize_path |> SpiralFileSystem.new_file_uri\n",
    "\n",
    "    let fileOpenObj = {| FileOpen = {| uri = fullPathUri; spiText = code |} |}\n",
    "    let! _fileOpenResult = fileOpenObj |> sendObj serverPort\n",
    "\n",
    "    // do! Async.Sleep 60\n",
    "\n",
    "    let buildFileObj = {| BuildFile = {| uri = fullPathUri; backend = \"Fsharp\" |} |}\n",
    "    let! _buildFileResult = buildFileObj |> sendObj serverPort\n",
    "\n",
    "    let! result =\n",
    "        outputChild\n",
    "        |> Async.map (function\n",
    "            | Some (Ok (Some (message, errors, _))) ->\n",
    "                message, errors |> List.distinct |> List.rev\n",
    "            | Some (Error ex) ->\n",
    "                trace Critical (fun () -> $\"buildFile / error: {ex |> serializeObj}\") _locals\n",
    "                None, []\n",
    "            | _ -> None, []\n",
    "        )\n",
    "\n",
    "    if fileDir |> SpiralSm.starts_with (repositoryRoot </> \"target\") then\n",
    "        let fileDirUri = fileDir |> SpiralFileSystem.normalize_path |> SpiralFileSystem.new_file_uri\n",
    "        let fileDeleteObj = {| FileDelete = {| uris = [| fileDirUri |] |} |}\n",
    "        let! _fileDeleteResult = fileDeleteObj |> sendObj serverPort\n",
    "        ()\n",
    "\n",
    "    return result\n",
    "}"
   ]
  },
  {
   "cell_type": "markdown",
   "metadata": {},
   "source": [
    "## persistCode"
   ]
  },
  {
   "cell_type": "code",
   "execution_count": null,
   "metadata": {
    "dotnet_interactive": {
     "language": "fsharp"
    },
    "polyglot_notebook": {
     "kernelName": "fsharp"
    }
   },
   "outputs": [],
   "source": [
    "let inline persistCode code = async {\n",
    "    let targetDir = repositoryRoot </> \"target/polyglot/spiral_eval\"\n",
    "\n",
    "    let packagesDir = targetDir </> \"packages\"\n",
    "\n",
    "    let hashHex = code |> SpiralCrypto.hash_text\n",
    "\n",
    "    let codeDir = packagesDir </> hashHex\n",
    "\n",
    "    codeDir |> System.IO.Directory.CreateDirectory |> ignore\n",
    "\n",
    "    let mainPath = codeDir </> \"main.spi\"\n",
    "    do! code |> SpiralFileSystem.write_all_text_exists mainPath\n",
    "\n",
    "    let spiprojPath = codeDir </> \"package.spiproj\"\n",
    "    let spiprojCode =\n",
    "        $\"\"\"packageDir: {repositoryRoot </> \"lib\"}\n",
    "packages:\n",
    "    |core-\n",
    "    spiral-\n",
    "modules:\n",
    "    main\n",
    "\"\"\"\n",
    "    do! spiprojCode |> SpiralFileSystem.write_all_text_exists spiprojPath\n",
    "\n",
    "    return mainPath\n",
    "}"
   ]
  },
  {
   "cell_type": "markdown",
   "metadata": {},
   "source": [
    "## buildCode"
   ]
  },
  {
   "cell_type": "code",
   "execution_count": null,
   "metadata": {
    "dotnet_interactive": {
     "language": "fsharp"
    },
    "polyglot_notebook": {
     "kernelName": "fsharp"
    }
   },
   "outputs": [],
   "source": [
    "let inline buildCode timeout cancellationToken code = async {\n",
    "    let! mainPath = persistCode code\n",
    "    let port = getCompilerPort ()\n",
    "    return! mainPath |> buildFile timeout port cancellationToken\n",
    "}"
   ]
  },
  {
   "cell_type": "code",
   "execution_count": null,
   "metadata": {
    "dotnet_interactive": {
     "language": "fsharp"
    },
    "polyglot_notebook": {
     "kernelName": "fsharp"
    }
   },
   "outputs": [],
   "source": [
    "//// test\n",
    "\n",
    "let buildCode timeout cancellationToken code = buildCode timeout cancellationToken code"
   ]
  },
  {
   "cell_type": "code",
   "execution_count": null,
   "metadata": {
    "dotnet_interactive": {
     "language": "fsharp"
    },
    "polyglot_notebook": {
     "kernelName": "fsharp"
    }
   },
   "outputs": [
    {
     "name": "stdout",
     "output_type": "stream",
     "text": [
      "00:00:22   debug #1 run_with_timeout_async / timeout: 60\r\n",
      "00:00:18   debug #1 execute_with_options_async / options: struct (Some System.Threading.CancellationToken,\n",
      "        \"dotnet \"C:\\home\\git\\polyglot\\deps\\The-Spiral-Language\\The Spiral Language 2\\artifacts\\bin\\The Spiral Language 2\\release\\Spiral.dll\" --port 13805 --default-int i32 --default-float f64\",\n",
      "        [||], Some <fun:buildCode@3-348>, Some \"C:\\home\\git\\polyglot\")\r\n",
      "00:00:19 verbose #2 > 00:00:00 debug   #1 pwd: C:\\home\\git\\polyglot\r\n",
      "00:00:19 verbose #3 > 00:00:00 debug   #2 dllPath: C:\\home\\git\\polyglot\\deps\\The-Spiral-Language\\The Spiral Language 2\\artifacts\\bin\\The Spiral Language 2\\release\r\n",
      "00:00:19 verbose #4 > 00:00:00 debug   #3 targetDir: C:\\home\\git\\polyglot\\target/polyglot/spiral_eval\r\n",
      "00:00:20 verbose #5 > Starting the Spiral Server. It is bound to: http://localhost:13805\r\n",
      "00:00:17 verbose #1 sendJson / port: 13805 / json: {\"Ping\":true} / result:\r\n",
      "00:00:17 verbose #2 awaitCompiler / Ping / result: 'Some(null)' / port: 13805 / retry: 0\r\n",
      "00:00:21 verbose #6 > Server bound to: http://localhost:13805\r\n",
      "00:00:17   debug #3 buildFile / takeWhileInclusive / path: C:\\home\\git\\polyglot\\target/polyglot/spiral_eval\\packages\\0ad2ee90a0886647a7d9c334e1811a0c3ae5599125952e30eba9d5e3b57a56e0\\main.spi / fsxContent:  / errors: [] / typeErrorCount: 0\r\n",
      "00:00:17   debug #4 buildFile / takeWhileInclusive / path: C:\\home\\git\\polyglot\\target/polyglot/spiral_eval\\packages\\0ad2ee90a0886647a7d9c334e1811a0c3ae5599125952e30eba9d5e3b57a56e0\\main.spi / fsxContent:  / errors: [] / typeErrorCount: 0\r\n",
      "00:00:17 verbose #5 sendJson / port: 13805 / json: {\"FileOpen\":{\"spiText\":\"inl app () =\\n    console.write_line \\u0022text\\u0022\\n    1i32\\n\\ninl main ...ot/spiral_eval/packages/0ad2ee90a0886647a7d9c334e1811a0c3ae5599125952e30eba9d5e3b57a56e0/main.spi\"}} / result:\r\n",
      "00:00:17 verbose #6 sendJson / port: 13805 / json: {\"BuildFile\":{\"backend\":\"Fsharp\",\"uri\":\"file:///c:/home/git/polyglot/target/polyglot/spiral_eval/packages/0ad2ee90a0886647a7d9c334e1811a0c3ae5599125952e30eba9d5e3b57a56e0/main.spi\"}} / result:\r\n",
      "00:00:18   debug #7 buildFile / takeWhileInclusive / path: C:\\home\\git\\polyglot\\target/polyglot/spiral_eval\\packages\\0ad2ee90a0886647a7d9c334e1811a0c3ae5599125952e30eba9d5e3b57a56e0\\main.spi / fsxContent:  / errors: [] / typeErrorCount: 0\r\n",
      "00:00:23 verbose #7 > 00:00:03 debug   #4 Supervisor.supervisor_server.BuildFile / file: c:/home/git/polyglot/target/polyglot/spiral_eval/packages/0ad2ee90a0886647a7d9c334e1811a0c3ae5599125952e30eba9d5e3b57a56e0/main.spi\r\n",
      "00:00:19   debug #8 buildFile / takeWhileInclusive / path: C:\\home\\git\\polyglot\\target/polyglot/spiral_eval\\packages\\0ad2ee90a0886647a7d9c334e1811a0c3ae5599125952e30eba9d5e3b57a56e0\\main.spi / fsxContent:  / errors: [] / typeErrorCount: 0\r\n",
      "00:00:20   debug #9 buildFile / takeWhileInclusive / path: C:\\home\\git\\polyglot\\target/polyglot/spiral_eval\\packages\\0ad2ee90a0886647a7d9c334e1811a0c3ae5599125952e30eba9d5e3b57a56e0\\main.spi / fsxContent:  / errors: [] / typeErrorCount: 0\r\n",
      "00:00:21   debug #10 buildFile / takeWhileInclusive / path: C:\\home\\git\\polyglot\\target/polyglot/spiral_eval\\packages\\0ad2ee90a0886647a7d9c334e1811a0c3ae5599125952e30eba9d5e3b57a56e0\\main.spi / fsxContent:  / errors: [] / typeErrorCount: 0\r\n",
      "00:00:22   debug #11 buildFile / takeWhileInclusive / path: C:\\home\\git\\polyglot\\target/polyglot/spiral_eval\\packages\\0ad2ee90a0886647a7d9c334e1811a0c3ae5599125952e30eba9d5e3b57a56e0\\main.spi / fsxContent:  / errors: [] / typeErrorCount: 0\r\n",
      "00:00:23   debug #12 buildFile / takeWhileInclusive / path: C:\\home\\git\\polyglot\\target/polyglot/spiral_eval\\packages\\0ad2ee90a0886647a7d9c334e1811a0c3ae5599125952e30eba9d5e3b57a56e0\\main.spi / fsxContent: let rec closure0 () () : int32 =\n",
      "    let v0 : string = \"text\"\n",
      "    System.Console.WriteLine v0\n",
      "    1\n",
      "let v0 : (unit -> int32) = closure0()\n",
      "()\n",
      " / errors: [] / typeErrorCount: 0\r\n",
      "00:00:23 verbose #13 sendJson / port: 13805 / json: {\"FileDelete\":{\"uris\":[\"file:///c:/home/git/polyglot/target/polyglot/spiral_eval/packages/0ad2ee90a0886647a7d9c334e1811a0c3ae5599125952e30eba9d5e3b57a56e0\"]}} / result:\r\n",
      "00:00:32 verbose #2 wait_for_port_access / port: 13805 / retry: 0 / timeout: Some 3000 / status: False\r\n",
      "00:00:34 verbose #3 test_port_open / ex: System.AggregateException: One or more errors occurred. (No connection could be made because the target machine actively refused it.)\r\n",
      "00:00:25   debug #14 watchWithFilter / Disposing watch stream / filter: FileName, LastWrite\r\n",
      "Some\n",
      "  (Some\n",
      "     \"let rec closure0 () () : int32 =\n",
      "    let v0 : string = \"text\"\n",
      "    System.Console.WriteLine v0\n",
      "    1\n",
      "let v0 : (unit -> int32) = closure0()\n",
      "()\n",
      "\",\n",
      "   [])\r\n",
      "\r\n"
     ]
    }
   ],
   "source": [
    "//// test\n",
    "\n",
    "\"\"\"inl app () =\n",
    "    console.write_line \"text\"\n",
    "    1i32\n",
    "\n",
    "inl main () =\n",
    "    app\n",
    "    |> dyn\n",
    "    |> ignore\n",
    "\"\"\"\n",
    "|> buildCode 15000 None\n",
    "|> Async.runWithTimeout 15000\n",
    "|> Option.map (fun (fsxContent, errors) -> fsxContent, errors |> List.map fst)\n",
    "|> _assertEqual (\n",
    "    Some (\n",
    "        Some \"\"\"let rec closure0 () () : int32 =\n",
    "    let v0 : string = \"text\"\n",
    "    System.Console.WriteLine v0\n",
    "    1\n",
    "let v0 : (unit -> int32) = closure0()\n",
    "()\n",
    "\"\"\",\n",
    "        []\n",
    "    )\n",
    ")"
   ]
  },
  {
   "cell_type": "code",
   "execution_count": null,
   "metadata": {
    "dotnet_interactive": {
     "language": "fsharp"
    },
    "polyglot_notebook": {
     "kernelName": "fsharp"
    }
   },
   "outputs": [
    {
     "name": "stdout",
     "output_type": "stream",
     "text": [
      "00:00:34   debug #4 run_with_timeout_async / timeout: 60\r\n",
      "00:00:30   debug #8 execute_with_options_async / options: struct (Some System.Threading.CancellationToken,\n",
      "        \"dotnet \"C:\\home\\git\\polyglot\\deps\\The-Spiral-Language\\The Spiral Language 2\\artifacts\\bin\\The Spiral Language 2\\release\\Spiral.dll\" --port 13805 --default-int i32 --default-float f64\",\n",
      "        [||], Some <fun:buildCode@3-348>, Some \"C:\\home\\git\\polyglot\")\r\n",
      "00:00:30 verbose #9 > 00:00:00 debug   #1 pwd: C:\\home\\git\\polyglot\r\n",
      "00:00:30 verbose #10 > 00:00:00 debug   #2 dllPath: C:\\home\\git\\polyglot\\deps\\The-Spiral-Language\\The Spiral Language 2\\artifacts\\bin\\The Spiral Language 2\\release\r\n",
      "00:00:30 verbose #11 > 00:00:00 debug   #3 targetDir: C:\\home\\git\\polyglot\\target/polyglot/spiral_eval\r\n",
      "00:00:31 verbose #12 > Starting the Spiral Server. It is bound to: http://localhost:13805\r\n",
      "00:00:27 verbose #15 sendJson / port: 13805 / json: {\"Ping\":true} / result:\r\n",
      "00:00:27 verbose #16 awaitCompiler / Ping / result: 'Some(null)' / port: 13805 / retry: 0\r\n",
      "00:00:31 verbose #13 > Server bound to: http://localhost:13805\r\n",
      "00:00:27   debug #17 buildFile / takeWhileInclusive / path: C:\\home\\git\\polyglot\\target/polyglot/spiral_eval\\packages\\e3b0c44298fc1c149afbf4c8996fb92427ae41e4649b934ca495991b7852b855\\main.spi / fsxContent:  / errors: [] / typeErrorCount: 0\r\n",
      "00:00:27   debug #18 buildFile / takeWhileInclusive / path: C:\\home\\git\\polyglot\\target/polyglot/spiral_eval\\packages\\e3b0c44298fc1c149afbf4c8996fb92427ae41e4649b934ca495991b7852b855\\main.spi / fsxContent:  / errors: [] / typeErrorCount: 0\r\n",
      "00:00:27 verbose #19 sendJson / port: 13805 / json: {\"FileOpen\":{\"spiText\":\"\",\"uri\":\"file:///c:/home/git/polyglot/target/polyglot/spiral_eval/packages/e3b0c44298fc1c149afbf4c8996fb92427ae41e4649b934ca495991b7852b855/main.spi\"}} / result:\r\n",
      "00:00:27 verbose #20 sendJson / port: 13805 / json: {\"BuildFile\":{\"backend\":\"Fsharp\",\"uri\":\"file:///c:/home/git/polyglot/target/polyglot/spiral_eval/packages/e3b0c44298fc1c149afbf4c8996fb92427ae41e4649b934ca495991b7852b855/main.spi\"}} / result:\r\n",
      "00:00:31 verbose #14 > 00:00:01 debug   #4 Supervisor.supervisor_server.BuildFile / file: c:/home/git/polyglot/target/polyglot/spiral_eval/packages/e3b0c44298fc1c149afbf4c8996fb92427ae41e4649b934ca495991b7852b855/main.spi\r\n",
      "00:00:28   debug #21 buildFile / takeWhileInclusive / path: C:\\home\\git\\polyglot\\target/polyglot/spiral_eval\\packages\\e3b0c44298fc1c149afbf4c8996fb92427ae41e4649b934ca495991b7852b855\\main.spi / fsxContent:  / errors: [] / typeErrorCount: 0\r\n",
      "00:00:29   debug #22 buildFile / takeWhileInclusive / path: C:\\home\\git\\polyglot\\target/polyglot/spiral_eval\\packages\\e3b0c44298fc1c149afbf4c8996fb92427ae41e4649b934ca495991b7852b855\\main.spi / fsxContent:  / errors: [] / typeErrorCount: 0\r\n",
      "00:00:30   debug #23 buildFile / takeWhileInclusive / path: C:\\home\\git\\polyglot\\target/polyglot/spiral_eval\\packages\\e3b0c44298fc1c149afbf4c8996fb92427ae41e4649b934ca495991b7852b855\\main.spi / fsxContent:  / errors: [] / typeErrorCount: 0\r\n",
      "00:00:35 verbose #15 > Cannot find `main` in file main.\r\n",
      "00:00:35 verbose #16 > 00:00:05 debug   #5 Supervisor.supervisor_server.BuildFile.handle_build_result.BuildSkip / file: c:/home/git/polyglot/target/polyglot/spiral_eval/packages/e3b0c44298fc1c149afbf4c8996fb92427ae41e4649b934ca495991b7852b855/main.spi\r\n",
      "00:00:31   debug #24 buildFile / takeWhileInclusive / path: C:\\home\\git\\polyglot\\target/polyglot/spiral_eval\\packages\\e3b0c44298fc1c149afbf4c8996fb92427ae41e4649b934ca495991b7852b855\\main.spi / fsxContent:  / errors: [] / typeErrorCount: 0\r\n",
      "00:00:32   debug #25 buildFile / takeWhileInclusive / path: C:\\home\\git\\polyglot\\target/polyglot/spiral_eval\\packages\\e3b0c44298fc1c149afbf4c8996fb92427ae41e4649b934ca495991b7852b855\\main.spi / fsxContent:  / errors: [] / typeErrorCount: 0\r\n",
      "00:00:33   debug #26 buildFile / takeWhileInclusive / path: C:\\home\\git\\polyglot\\target/polyglot/spiral_eval\\packages\\e3b0c44298fc1c149afbf4c8996fb92427ae41e4649b934ca495991b7852b855\\main.spi / fsxContent:  / errors: [] / typeErrorCount: 0\r\n",
      "00:00:34   debug #27 buildFile / takeWhileInclusive / path: C:\\home\\git\\polyglot\\target/polyglot/spiral_eval\\packages\\e3b0c44298fc1c149afbf4c8996fb92427ae41e4649b934ca495991b7852b855\\main.spi / fsxContent:  / errors: [] / typeErrorCount: 0\r\n",
      "00:00:35   debug #28 buildFile / takeWhileInclusive / path: C:\\home\\git\\polyglot\\target/polyglot/spiral_eval\\packages\\e3b0c44298fc1c149afbf4c8996fb92427ae41e4649b934ca495991b7852b855\\main.spi / fsxContent:  / errors: [] / typeErrorCount: 0\r\n",
      "00:00:44 verbose #5 wait_for_port_access / port: 13805 / retry: 0 / timeout: Some 3000 / status: False\r\n",
      "00:00:46 verbose #6 test_port_open / ex: System.AggregateException: One or more errors occurred. (No connection could be made because the target machine actively refused it.)\r\n",
      "00:00:38   debug #29 watchWithFilter / Disposing watch stream / filter: FileName, LastWrite\r\n",
      "00:00:38   debug #30 runWithTimeoutAsync / timeout: 10000\r\n",
      "<null>\r\n",
      "\r\n"
     ]
    }
   ],
   "source": [
    "//// test\n",
    "\n",
    "\"\"\n",
    "|> buildCode 10000 None\n",
    "|> Async.runWithTimeout 10000\n",
    "|> _assertEqual None"
   ]
  },
  {
   "cell_type": "code",
   "execution_count": null,
   "metadata": {
    "dotnet_interactive": {
     "language": "fsharp"
    },
    "polyglot_notebook": {
     "kernelName": "fsharp"
    }
   },
   "outputs": [
    {
     "name": "stdout",
     "output_type": "stream",
     "text": [
      "00:00:47   debug #7 run_with_timeout_async / timeout: 60\r\n",
      "00:00:43   debug #17 execute_with_options_async / options: struct (Some System.Threading.CancellationToken,\n",
      "        \"dotnet \"C:\\home\\git\\polyglot\\deps\\The-Spiral-Language\\The Spiral Language 2\\artifacts\\bin\\The Spiral Language 2\\release\\Spiral.dll\" --port 13805 --default-int i32 --default-float f64\",\n",
      "        [||], Some <fun:buildCode@3-348>, Some \"C:\\home\\git\\polyglot\")\r\n",
      "00:00:43 verbose #18 > 00:00:00 debug   #1 pwd: C:\\home\\git\\polyglot\r\n",
      "00:00:43 verbose #19 > 00:00:00 debug   #2 dllPath: C:\\home\\git\\polyglot\\deps\\The-Spiral-Language\\The Spiral Language 2\\artifacts\\bin\\The Spiral Language 2\\release\r\n",
      "00:00:43 verbose #20 > 00:00:00 debug   #3 targetDir: C:\\home\\git\\polyglot\\target/polyglot/spiral_eval\r\n",
      "00:00:44 verbose #21 > Starting the Spiral Server. It is bound to: http://localhost:13805\r\n",
      "00:00:40 verbose #31 sendJson / port: 13805 / json: {\"Ping\":true} / result:\r\n",
      "00:00:40 verbose #32 awaitCompiler / Ping / result: 'Some(null)' / port: 13805 / retry: 0\r\n",
      "00:00:45 verbose #22 > Server bound to: http://localhost:13805\r\n",
      "00:00:40   debug #33 buildFile / takeWhileInclusive / path: C:\\home\\git\\polyglot\\target/polyglot/spiral_eval\\packages\\348c96764a8f66af39dd3ea799f5e487a51761b1e220b84a7038f033a002a481\\main.spi / fsxContent:  / errors: [] / typeErrorCount: 0\r\n",
      "00:00:40   debug #34 buildFile / takeWhileInclusive / path: C:\\home\\git\\polyglot\\target/polyglot/spiral_eval\\packages\\348c96764a8f66af39dd3ea799f5e487a51761b1e220b84a7038f033a002a481\\main.spi / fsxContent:  / errors: [] / typeErrorCount: 0\r\n",
      "00:00:40 verbose #35 sendJson / port: 13805 / json: {\"FileOpen\":{\"spiText\":\"inl app () =\\n    0i32\\n\\ninl a = 1\\n\\ninl main () =\\n    app\\n    |\\u003E d...ot/spiral_eval/packages/348c96764a8f66af39dd3ea799f5e487a51761b1e220b84a7038f033a002a481/main.spi\"}} / result:\r\n",
      "00:00:40 verbose #36 sendJson / port: 13805 / json: {\"BuildFile\":{\"backend\":\"Fsharp\",\"uri\":\"file:///c:/home/git/polyglot/target/polyglot/spiral_eval/packages/348c96764a8f66af39dd3ea799f5e487a51761b1e220b84a7038f033a002a481/main.spi\"}} / result:\r\n",
      "00:00:45 verbose #23 > 00:00:02 debug   #4 Supervisor.supervisor_server.BuildFile / file: c:/home/git/polyglot/target/polyglot/spiral_eval/packages/348c96764a8f66af39dd3ea799f5e487a51761b1e220b84a7038f033a002a481/main.spi\r\n",
      "00:00:41   debug #37 buildFile / takeWhileInclusive / path: C:\\home\\git\\polyglot\\target/polyglot/spiral_eval\\packages\\348c96764a8f66af39dd3ea799f5e487a51761b1e220b84a7038f033a002a481\\main.spi / fsxContent:  / errors: [] / typeErrorCount: 0\r\n",
      "00:00:42   debug #38 buildFile / takeWhileInclusive / path: C:\\home\\git\\polyglot\\target/polyglot/spiral_eval\\packages\\348c96764a8f66af39dd3ea799f5e487a51761b1e220b84a7038f033a002a481\\main.spi / fsxContent:  / errors: [\r\n",
      "  [\r\n",
      "    \"main.spi:\n",
      "Global inl/let statements should all return functions known at parse time.\",\r\n",
      "    {\r\n",
      "      \"ParserErrors\": {\r\n",
      "        \"errors\": [\r\n",
      "          [\r\n",
      "            [\r\n",
      "              {\r\n",
      "                \"character\": 0,\r\n",
      "                \"line\": 3\r\n",
      "              },\r\n",
      "              {\r\n",
      "                \"character\": 9,\r\n",
      "                \"line\": 3\r\n",
      "              }\r\n",
      "            ],\r\n",
      "            \"Global inl/let statements should all return functions known at parse time.\"\r\n",
      "          ]\r\n",
      "        ],\r\n",
      "        \"uri\": \"file:///c:/home/git/polyglot/target/polyglot/spiral_eval/packages/348c96764a8f66af39dd3ea799f5e487a51761b1e220b84a7038f033a002a481/main.spi\"\r\n",
      "      }\r\n",
      "    }\r\n",
      "  ]\r\n",
      "] / typeErrorCount: 0\r\n",
      "00:00:43 verbose #39 sendJson / port: 13805 / json: {\"FileDelete\":{\"uris\":[\"file:///c:/home/git/polyglot/target/polyglot/spiral_eval/packages/348c96764a8f66af39dd3ea799f5e487a51761b1e220b84a7038f033a002a481\"]}} / result:\r\n",
      "00:00:51 verbose #8 wait_for_port_access / port: 13805 / retry: 0 / timeout: Some 3000 / status: False\r\n",
      "00:00:53 verbose #9 test_port_open / ex: System.AggregateException: One or more errors occurred. (No connection could be made because the target machine actively refused it.)\r\n",
      "00:00:45   debug #40 watchWithFilter / Disposing watch stream / filter: FileName, LastWrite\r\n",
      "Some (None, [\"main.spi:\n",
      "Global inl/let statements should all return functions known at parse time.\"])\r\n",
      "\r\n"
     ]
    }
   ],
   "source": [
    "//// test\n",
    "\n",
    "\"inl app () =\n",
    "    0i32\n",
    "\n",
    "inl a = 1\n",
    "\n",
    "inl main () =\n",
    "    app\n",
    "    |> dyn\n",
    "    |> ignore\n",
    "\"\n",
    "|> buildCode 10000 None\n",
    "|> Async.runWithTimeout 10000\n",
    "|> Option.map (fun (fsxContent, errors) -> fsxContent, errors |> List.map fst)\n",
    "|> _assertEqual (\n",
    "    Some (\n",
    "        None,\n",
    "        [ \"main.spi:\n",
    "Global inl/let statements should all return functions known at parse time.\" ]\n",
    "    )\n",
    ")"
   ]
  },
  {
   "cell_type": "code",
   "execution_count": null,
   "metadata": {
    "dotnet_interactive": {
     "language": "fsharp"
    },
    "polyglot_notebook": {
     "kernelName": "fsharp"
    }
   },
   "outputs": [
    {
     "name": "stdout",
     "output_type": "stream",
     "text": [
      "00:00:53   debug #10 run_with_timeout_async / timeout: 60\r\n",
      "00:00:49   debug #24 execute_with_options_async / options: struct (Some System.Threading.CancellationToken,\n",
      "        \"dotnet \"C:\\home\\git\\polyglot\\deps\\The-Spiral-Language\\The Spiral Language 2\\artifacts\\bin\\The Spiral Language 2\\release\\Spiral.dll\" --port 13805 --default-int i32 --default-float f64\",\n",
      "        [||], Some <fun:buildCode@3-348>, Some \"C:\\home\\git\\polyglot\")\r\n",
      "00:00:50 verbose #25 > 00:00:00 debug   #1 pwd: C:\\home\\git\\polyglot\r\n",
      "00:00:50 verbose #26 > 00:00:00 debug   #2 dllPath: C:\\home\\git\\polyglot\\deps\\The-Spiral-Language\\The Spiral Language 2\\artifacts\\bin\\The Spiral Language 2\\release\r\n",
      "00:00:50 verbose #27 > 00:00:00 debug   #3 targetDir: C:\\home\\git\\polyglot\\target/polyglot/spiral_eval\r\n",
      "00:00:50 verbose #28 > Starting the Spiral Server. It is bound to: http://localhost:13805\r\n",
      "00:00:46 verbose #41 sendJson / port: 13805 / json: {\"Ping\":true} / result:\r\n",
      "00:00:46 verbose #42 awaitCompiler / Ping / result: 'Some(null)' / port: 13805 / retry: 0\r\n",
      "00:00:50 verbose #29 > Server bound to: http://localhost:13805\r\n",
      "00:00:46   debug #43 buildFile / takeWhileInclusive / path: C:\\home\\git\\polyglot\\target/polyglot/spiral_eval\\packages\\232df6d862bb0667133bf3fbc55c0b33286bde4b85cdb17fe93dda9c433ec620\\main.spi / fsxContent:  / errors: [] / typeErrorCount: 0\r\n",
      "00:00:46   debug #44 buildFile / takeWhileInclusive / path: C:\\home\\git\\polyglot\\target/polyglot/spiral_eval\\packages\\232df6d862bb0667133bf3fbc55c0b33286bde4b85cdb17fe93dda9c433ec620\\main.spi / fsxContent:  / errors: [] / typeErrorCount: 0\r\n",
      "00:00:46 verbose #45 sendJson / port: 13805 / json: {\"FileOpen\":{\"spiText\":\"inl main () =\\n    1i32 / 0i32\\n\",\"uri\":\"file:///c:/home/git/polyglot/target...ot/spiral_eval/packages/232df6d862bb0667133bf3fbc55c0b33286bde4b85cdb17fe93dda9c433ec620/main.spi\"}} / result:\r\n",
      "00:00:46 verbose #46 sendJson / port: 13805 / json: {\"BuildFile\":{\"backend\":\"Fsharp\",\"uri\":\"file:///c:/home/git/polyglot/target/polyglot/spiral_eval/packages/232df6d862bb0667133bf3fbc55c0b33286bde4b85cdb17fe93dda9c433ec620/main.spi\"}} / result:\r\n",
      "00:00:51 verbose #30 > 00:00:01 debug   #4 Supervisor.supervisor_server.BuildFile / file: c:/home/git/polyglot/target/polyglot/spiral_eval/packages/232df6d862bb0667133bf3fbc55c0b33286bde4b85cdb17fe93dda9c433ec620/main.spi\r\n",
      "00:00:47   debug #47 buildFile / takeWhileInclusive / path: C:\\home\\git\\polyglot\\target/polyglot/spiral_eval\\packages\\232df6d862bb0667133bf3fbc55c0b33286bde4b85cdb17fe93dda9c433ec620\\main.spi / fsxContent:  / errors: [] / typeErrorCount: 0\r\n",
      "00:00:48   debug #48 buildFile / takeWhileInclusive / path: C:\\home\\git\\polyglot\\target/polyglot/spiral_eval\\packages\\232df6d862bb0667133bf3fbc55c0b33286bde4b85cdb17fe93dda9c433ec620\\main.spi / fsxContent:  / errors: [] / typeErrorCount: 0\r\n",
      "00:00:49   debug #49 buildFile / takeWhileInclusive / path: C:\\home\\git\\polyglot\\target/polyglot/spiral_eval\\packages\\232df6d862bb0667133bf3fbc55c0b33286bde4b85cdb17fe93dda9c433ec620\\main.spi / fsxContent:  / errors: [] / typeErrorCount: 0\r\n",
      "00:00:50   debug #50 buildFile / takeWhileInclusive / path: C:\\home\\git\\polyglot\\target/polyglot/spiral_eval\\packages\\232df6d862bb0667133bf3fbc55c0b33286bde4b85cdb17fe93dda9c433ec620\\main.spi / fsxContent:  / errors: [\r\n",
      "  [\r\n",
      "    \"An attempt to divide by zero has been detected at compile time.\",\r\n",
      "    {\r\n",
      "      \"TracedError\": {\r\n",
      "        \"message\": \"An attempt to divide by zero has been detected at compile time.\",\r\n",
      "        \"trace\": [\r\n",
      "          \"Error trace on line: 1, column: 10 in module: c:/home/git/polyglot/target/polyglot/spiral_eval/packages/232df6d862bb0667133bf3fbc55c0b33286bde4b85cdb17fe93dda9c433ec620/main.spi.\n",
      "inl main () =\n",
      "         ^\n",
      "\",\r\n",
      "          \"Error trace on line: 2, column: 5 in module: c:/home/git/polyglot/target/polyglot/spiral_eval/packages/232df6d862bb0667133bf3fbc55c0b33286bde4b85cdb17fe93dda9c433ec620/main.spi.\n",
      "    1i32 / 0i32\n",
      "    ^\n",
      "\"\r\n",
      "        ]\r\n",
      "      }\r\n",
      "    }\r\n",
      "  ]\r\n",
      "] / typeErrorCount: 0\r\n",
      "00:00:50 verbose #51 sendJson / port: 13805 / json: {\"FileDelete\":{\"uris\":[\"file:///c:/home/git/polyglot/target/polyglot/spiral_eval/packages/232df6d862bb0667133bf3fbc55c0b33286bde4b85cdb17fe93dda9c433ec620\"]}} / result:\r\n",
      "00:00:58 verbose #11 wait_for_port_access / port: 13805 / retry: 0 / timeout: Some 3000 / status: False\r\n",
      "00:01:00 verbose #12 test_port_open / ex: System.AggregateException: One or more errors occurred. (No connection could be made because the target machine actively refused it.)\r\n",
      "00:00:52   debug #52 watchWithFilter / Disposing watch stream / filter: FileName, LastWrite\r\n",
      "Some (None, [\"An attempt to divide by zero has been detected at compile time.\"])\r\n",
      "\r\n"
     ]
    }
   ],
   "source": [
    "//// test\n",
    "\n",
    "\"\"\"inl main () =\n",
    "    1i32 / 0i32\n",
    "\"\"\"\n",
    "|> buildCode 10000 None\n",
    "|> Async.runWithTimeout 10000\n",
    "|> Option.map (fun (fsxContent, errors) -> fsxContent, errors |> List.map fst)\n",
    "|> _assertEqual (\n",
    "    Some (\n",
    "        None,\n",
    "        [ \"An attempt to divide by zero has been detected at compile time.\" ]\n",
    "    )\n",
    ")"
   ]
  },
  {
   "cell_type": "code",
   "execution_count": null,
   "metadata": {
    "dotnet_interactive": {
     "language": "fsharp"
    },
    "polyglot_notebook": {
     "kernelName": "fsharp"
    }
   },
   "outputs": [
    {
     "name": "stdout",
     "output_type": "stream",
     "text": [
      "00:01:00   debug #13 run_with_timeout_async / timeout: 60\r\n",
      "00:00:56   debug #31 execute_with_options_async / options: struct (Some System.Threading.CancellationToken,\n",
      "        \"dotnet \"C:\\home\\git\\polyglot\\deps\\The-Spiral-Language\\The Spiral Language 2\\artifacts\\bin\\The Spiral Language 2\\release\\Spiral.dll\" --port 13805 --default-int i32 --default-float f64\",\n",
      "        [||], Some <fun:buildCode@3-348>, Some \"C:\\home\\git\\polyglot\")\r\n",
      "00:00:57 verbose #32 > 00:00:00 debug   #1 pwd: C:\\home\\git\\polyglot\r\n",
      "00:00:57 verbose #33 > 00:00:00 debug   #2 dllPath: C:\\home\\git\\polyglot\\deps\\The-Spiral-Language\\The Spiral Language 2\\artifacts\\bin\\The Spiral Language 2\\release\r\n",
      "00:00:57 verbose #34 > 00:00:00 debug   #3 targetDir: C:\\home\\git\\polyglot\\target/polyglot/spiral_eval\r\n",
      "00:00:57 verbose #35 > Starting the Spiral Server. It is bound to: http://localhost:13805\r\n",
      "00:00:53 verbose #53 sendJson / port: 13805 / json: {\"Ping\":true} / result:\r\n",
      "00:00:53 verbose #54 awaitCompiler / Ping / result: 'Some(null)' / port: 13805 / retry: 0\r\n",
      "00:00:57 verbose #36 > Server bound to: http://localhost:13805\r\n",
      "00:00:53   debug #55 buildFile / takeWhileInclusive / path: C:\\home\\git\\polyglot\\target/polyglot/spiral_eval\\packages\\2278923ce88b0e473e77d4d93e25afa6e5e4f5efe803982e504cc198d4c4d82d\\main.spi / fsxContent:  / errors: [] / typeErrorCount: 0\r\n",
      "00:00:53   debug #56 buildFile / takeWhileInclusive / path: C:\\home\\git\\polyglot\\target/polyglot/spiral_eval\\packages\\2278923ce88b0e473e77d4d93e25afa6e5e4f5efe803982e504cc198d4c4d82d\\main.spi / fsxContent:  / errors: [] / typeErrorCount: 0\r\n",
      "00:00:53 verbose #57 sendJson / port: 13805 / json: {\"FileOpen\":{\"spiText\":\"inl main () =\\n    1 \\u002B \\u0022\\u0022\\n\",\"uri\":\"file:///c:/home/git/polyg...ot/spiral_eval/packages/2278923ce88b0e473e77d4d93e25afa6e5e4f5efe803982e504cc198d4c4d82d/main.spi\"}} / result:\r\n",
      "00:00:53 verbose #58 sendJson / port: 13805 / json: {\"BuildFile\":{\"backend\":\"Fsharp\",\"uri\":\"file:///c:/home/git/polyglot/target/polyglot/spiral_eval/packages/2278923ce88b0e473e77d4d93e25afa6e5e4f5efe803982e504cc198d4c4d82d/main.spi\"}} / result:\r\n",
      "00:00:58 verbose #37 > 00:00:01 debug   #4 Supervisor.supervisor_server.BuildFile / file: c:/home/git/polyglot/target/polyglot/spiral_eval/packages/2278923ce88b0e473e77d4d93e25afa6e5e4f5efe803982e504cc198d4c4d82d/main.spi\r\n",
      "00:00:54   debug #59 buildFile / takeWhileInclusive / path: C:\\home\\git\\polyglot\\target/polyglot/spiral_eval\\packages\\2278923ce88b0e473e77d4d93e25afa6e5e4f5efe803982e504cc198d4c4d82d\\main.spi / fsxContent:  / errors: [] / typeErrorCount: 0\r\n",
      "00:00:55   debug #60 buildFile / takeWhileInclusive / path: C:\\home\\git\\polyglot\\target/polyglot/spiral_eval\\packages\\2278923ce88b0e473e77d4d93e25afa6e5e4f5efe803982e504cc198d4c4d82d\\main.spi / fsxContent:  / errors: [] / typeErrorCount: 0\r\n",
      "00:00:56   debug #61 buildFile / takeWhileInclusive / path: C:\\home\\git\\polyglot\\target/polyglot/spiral_eval\\packages\\2278923ce88b0e473e77d4d93e25afa6e5e4f5efe803982e504cc198d4c4d82d\\main.spi / fsxContent:  / errors: [] / typeErrorCount: 0\r\n",
      "00:00:57   debug #62 buildFile / takeWhileInclusive / path: C:\\home\\git\\polyglot\\target/polyglot/spiral_eval\\packages\\2278923ce88b0e473e77d4d93e25afa6e5e4f5efe803982e504cc198d4c4d82d\\main.spi / fsxContent:  / errors: [] / typeErrorCount: 0\r\n",
      "00:00:57   debug #63 buildFile / takeWhileInclusive / path: C:\\home\\git\\polyglot\\target/polyglot/spiral_eval\\packages\\2278923ce88b0e473e77d4d93e25afa6e5e4f5efe803982e504cc198d4c4d82d\\main.spi / fsxContent:  / errors: [] / typeErrorCount: 1\r\n",
      "00:00:57   debug #64 buildFile / takeWhileInclusive / path: C:\\home\\git\\polyglot\\target/polyglot/spiral_eval\\packages\\2278923ce88b0e473e77d4d93e25afa6e5e4f5efe803982e504cc198d4c4d82d\\main.spi / fsxContent:  / errors: [\r\n",
      "  [\r\n",
      "    \"main.spi:\n",
      "Constraint satisfaction error.\n",
      "Got: string\n",
      "Fails to satisfy: number\",\r\n",
      "    {\r\n",
      "      \"TypeErrors\": {\r\n",
      "        \"errors\": [\r\n",
      "          [\r\n",
      "            [\r\n",
      "              {\r\n",
      "                \"character\": 8,\r\n",
      "                \"line\": 1\r\n",
      "              },\r\n",
      "              {\r\n",
      "                \"character\": 10,\r\n",
      "                \"line\": 1\r\n",
      "              }\r\n",
      "            ],\r\n",
      "            \"Constraint satisfaction error.\n",
      "Got: string\n",
      "Fails to satisfy: number\"\r\n",
      "          ]\r\n",
      "        ],\r\n",
      "        \"uri\": \"file:///c:/home/git/polyglot/target/polyglot/spiral_eval/packages/2278923ce88b0e473e77d4d93e25afa6e5e4f5efe803982e504cc198d4c4d82d/main.spi\"\r\n",
      "      }\r\n",
      "    }\r\n",
      "  ]\r\n",
      "] / typeErrorCount: 1\r\n",
      "00:00:57 verbose #65 sendJson / port: 13805 / json: {\"FileDelete\":{\"uris\":[\"file:///c:/home/git/polyglot/target/polyglot/spiral_eval/packages/2278923ce88b0e473e77d4d93e25afa6e5e4f5efe803982e504cc198d4c4d82d\"]}} / result:\r\n",
      "00:01:06 verbose #14 wait_for_port_access / port: 13805 / retry: 0 / timeout: Some 3000 / status: False\r\n",
      "00:01:08 verbose #15 test_port_open / ex: System.AggregateException: One or more errors occurred. (No connection could be made because the target machine actively refused it.)\r\n",
      "00:00:59   debug #66 watchWithFilter / Disposing watch stream / filter: FileName, LastWrite\r\n",
      "Some (None, [\"main.spi:\n",
      "Constraint satisfaction error.\n",
      "Got: string\n",
      "Fails to satisfy: number\"])\r\n",
      "\r\n"
     ]
    }
   ],
   "source": [
    "//// test\n",
    "\n",
    "\"\"\"inl main () =\n",
    "    1 + \"\"\n",
    "\"\"\"\n",
    "|> buildCode 10000 None\n",
    "|> Async.runWithTimeout 10000\n",
    "|> Option.map (fun (fsxContent, errors) -> fsxContent, errors |> List.map fst)\n",
    "|> _assertEqual (\n",
    "    Some (\n",
    "        None,\n",
    "        [\n",
    "            \"main.spi:\n",
    "Constraint satisfaction error.\n",
    "Got: string\n",
    "Fails to satisfy: number\"\n",
    "        ]\n",
    "    )\n",
    ")"
   ]
  },
  {
   "cell_type": "code",
   "execution_count": null,
   "metadata": {
    "dotnet_interactive": {
     "language": "fsharp"
    },
    "polyglot_notebook": {
     "kernelName": "fsharp"
    }
   },
   "outputs": [
    {
     "name": "stdout",
     "output_type": "stream",
     "text": [
      "00:01:08   debug #16 run_with_timeout_async / timeout: 60\r\n",
      "00:01:04   debug #38 execute_with_options_async / options: struct (Some System.Threading.CancellationToken,\n",
      "        \"dotnet \"C:\\home\\git\\polyglot\\deps\\The-Spiral-Language\\The Spiral Language 2\\artifacts\\bin\\The Spiral Language 2\\release\\Spiral.dll\" --port 13805 --default-int i32 --default-float f64\",\n",
      "        [||], Some <fun:buildCode@3-348>, Some \"C:\\home\\git\\polyglot\")\r\n",
      "00:01:05 verbose #39 > 00:00:00 debug   #1 pwd: C:\\home\\git\\polyglot\r\n",
      "00:01:05 verbose #40 > 00:00:00 debug   #2 dllPath: C:\\home\\git\\polyglot\\deps\\The-Spiral-Language\\The Spiral Language 2\\artifacts\\bin\\The Spiral Language 2\\release\r\n",
      "00:01:05 verbose #41 > 00:00:00 debug   #3 targetDir: C:\\home\\git\\polyglot\\target/polyglot/spiral_eval\r\n",
      "00:01:05 verbose #42 > Starting the Spiral Server. It is bound to: http://localhost:13805\r\n",
      "00:01:01 verbose #67 sendJson / port: 13805 / json: {\"Ping\":true} / result:\r\n",
      "00:01:01 verbose #68 awaitCompiler / Ping / result: 'Some(null)' / port: 13805 / retry: 0\r\n",
      "00:01:05 verbose #43 > Server bound to: http://localhost:13805\r\n",
      "00:01:01   debug #69 buildFile / takeWhileInclusive / path: C:\\home\\git\\polyglot\\target/polyglot/spiral_eval\\packages\\5d8d0e66f59ab13f3bfd8d88f05ce13771ab005b08581d99225216170ba6489b\\main.spi / fsxContent:  / errors: [] / typeErrorCount: 0\r\n",
      "00:01:01   debug #70 buildFile / takeWhileInclusive / path: C:\\home\\git\\polyglot\\target/polyglot/spiral_eval\\packages\\5d8d0e66f59ab13f3bfd8d88f05ce13771ab005b08581d99225216170ba6489b\\main.spi / fsxContent:  / errors: [] / typeErrorCount: 0\r\n",
      "00:01:01 verbose #71 sendJson / port: 13805 / json: {\"FileOpen\":{\"spiText\":\"inl main () =\\n    x \\u002B y\\n\",\"uri\":\"file:///c:/home/git/polyglot/target/...ot/spiral_eval/packages/5d8d0e66f59ab13f3bfd8d88f05ce13771ab005b08581d99225216170ba6489b/main.spi\"}} / result:\r\n",
      "00:01:01 verbose #72 sendJson / port: 13805 / json: {\"BuildFile\":{\"backend\":\"Fsharp\",\"uri\":\"file:///c:/home/git/polyglot/target/polyglot/spiral_eval/packages/5d8d0e66f59ab13f3bfd8d88f05ce13771ab005b08581d99225216170ba6489b/main.spi\"}} / result:\r\n",
      "00:01:06 verbose #44 > 00:00:01 debug   #4 Supervisor.supervisor_server.BuildFile / file: c:/home/git/polyglot/target/polyglot/spiral_eval/packages/5d8d0e66f59ab13f3bfd8d88f05ce13771ab005b08581d99225216170ba6489b/main.spi\r\n",
      "00:01:02   debug #73 buildFile / takeWhileInclusive / path: C:\\home\\git\\polyglot\\target/polyglot/spiral_eval\\packages\\5d8d0e66f59ab13f3bfd8d88f05ce13771ab005b08581d99225216170ba6489b\\main.spi / fsxContent:  / errors: [] / typeErrorCount: 0\r\n",
      "00:01:03   debug #74 buildFile / takeWhileInclusive / path: C:\\home\\git\\polyglot\\target/polyglot/spiral_eval\\packages\\5d8d0e66f59ab13f3bfd8d88f05ce13771ab005b08581d99225216170ba6489b\\main.spi / fsxContent:  / errors: [] / typeErrorCount: 0\r\n",
      "00:01:04   debug #75 buildFile / takeWhileInclusive / path: C:\\home\\git\\polyglot\\target/polyglot/spiral_eval\\packages\\5d8d0e66f59ab13f3bfd8d88f05ce13771ab005b08581d99225216170ba6489b\\main.spi / fsxContent:  / errors: [] / typeErrorCount: 1\r\n",
      "00:01:04   debug #76 buildFile / takeWhileInclusive / path: C:\\home\\git\\polyglot\\target/polyglot/spiral_eval\\packages\\5d8d0e66f59ab13f3bfd8d88f05ce13771ab005b08581d99225216170ba6489b\\main.spi / fsxContent:  / errors: [\r\n",
      "  [\r\n",
      "    \"main.spi:\n",
      "Unbound variable: x.\n",
      "Unbound variable: y.\",\r\n",
      "    {\r\n",
      "      \"TypeErrors\": {\r\n",
      "        \"errors\": [\r\n",
      "          [\r\n",
      "            [\r\n",
      "              {\r\n",
      "                \"character\": 4,\r\n",
      "                \"line\": 1\r\n",
      "              },\r\n",
      "              {\r\n",
      "                \"character\": 5,\r\n",
      "                \"line\": 1\r\n",
      "              }\r\n",
      "            ],\r\n",
      "            \"Unbound variable: x.\"\r\n",
      "          ],\r\n",
      "          [\r\n",
      "            [\r\n",
      "              {\r\n",
      "                \"character\": 8,\r\n",
      "                \"line\": 1\r\n",
      "              },\r\n",
      "              {\r\n",
      "                \"character\": 9,\r\n",
      "                \"line\": 1\r\n",
      "              }\r\n",
      "            ],\r\n",
      "            \"Unbound variable: y.\"\r\n",
      "          ]\r\n",
      "        ],\r\n",
      "        \"uri\": \"file:///c:/home/git/polyglot/target/polyglot/spiral_eval/packages/5d8d0e66f59ab13f3bfd8d88f05ce13771ab005b08581d99225216170ba6489b/main.spi\"\r\n",
      "      }\r\n",
      "    }\r\n",
      "  ]\r\n",
      "] / typeErrorCount: 1\r\n",
      "00:01:04 verbose #77 sendJson / port: 13805 / json: {\"FileDelete\":{\"uris\":[\"file:///c:/home/git/polyglot/target/polyglot/spiral_eval/packages/5d8d0e66f59ab13f3bfd8d88f05ce13771ab005b08581d99225216170ba6489b\"]}} / result:\r\n",
      "00:01:13 verbose #17 wait_for_port_access / port: 13805 / retry: 0 / timeout: Some 3000 / status: False\r\n",
      "00:01:15 verbose #18 test_port_open / ex: System.AggregateException: One or more errors occurred. (No connection could be made because the target machine actively refused it.)\r\n",
      "00:01:06   debug #78 watchWithFilter / Disposing watch stream / filter: FileName, LastWrite\r\n",
      "Some (None, [\"main.spi:\n",
      "Unbound variable: x.\n",
      "Unbound variable: y.\"])\r\n",
      "\r\n"
     ]
    }
   ],
   "source": [
    "//// test\n",
    "\n",
    "\"\"\"inl main () =\n",
    "    x + y\n",
    "\"\"\"\n",
    "|> buildCode 10000 None\n",
    "|> Async.runWithTimeout 10000\n",
    "|> Option.map (fun (fsxContent, errors) -> fsxContent, errors |> List.map fst)\n",
    "|> _assertEqual (\n",
    "    Some (\n",
    "        None,\n",
    "        [\n",
    "            \"main.spi:\n",
    "Unbound variable: x.\n",
    "Unbound variable: y.\"\n",
    "        ]\n",
    "    )\n",
    ")"
   ]
  },
  {
   "cell_type": "code",
   "execution_count": null,
   "metadata": {
    "dotnet_interactive": {
     "language": "fsharp"
    },
    "polyglot_notebook": {
     "kernelName": "fsharp"
    }
   },
   "outputs": [
    {
     "name": "stdout",
     "output_type": "stream",
     "text": [
      "00:01:15   debug #19 run_with_timeout_async / timeout: 60\r\n",
      "00:01:11   debug #45 execute_with_options_async / options: struct (Some System.Threading.CancellationToken,\n",
      "        \"dotnet \"C:\\home\\git\\polyglot\\deps\\The-Spiral-Language\\The Spiral Language 2\\artifacts\\bin\\The Spiral Language 2\\release\\Spiral.dll\" --port 13805 --default-int i32 --default-float f64\",\n",
      "        [||], Some <fun:buildCode@3-348>, Some \"C:\\home\\git\\polyglot\")\r\n",
      "00:01:11 verbose #46 > 00:00:00 debug   #1 pwd: C:\\home\\git\\polyglot\r\n",
      "00:01:11 verbose #47 > 00:00:00 debug   #2 dllPath: C:\\home\\git\\polyglot\\deps\\The-Spiral-Language\\The Spiral Language 2\\artifacts\\bin\\The Spiral Language 2\\release\r\n",
      "00:01:11 verbose #48 > 00:00:00 debug   #3 targetDir: C:\\home\\git\\polyglot\\target/polyglot/spiral_eval\r\n",
      "00:01:12 verbose #49 > Starting the Spiral Server. It is bound to: http://localhost:13805\r\n",
      "00:01:08 verbose #79 sendJson / port: 13805 / json: {\"Ping\":true} / result:\r\n",
      "00:01:08 verbose #80 awaitCompiler / Ping / result: 'Some(null)' / port: 13805 / retry: 0\r\n",
      "00:01:13 verbose #50 > Server bound to: http://localhost:13805\r\n",
      "00:01:08   debug #81 buildFile / takeWhileInclusive / path: C:\\home\\git\\polyglot\\target/polyglot/spiral_eval\\packages\\e711a7af82ac8ecfc9df9208c576e0745b2b4e6fbb3a46a168b4c4f56921eb3a\\main.spi / fsxContent:  / errors: [] / typeErrorCount: 0\r\n",
      "00:01:08   debug #82 buildFile / takeWhileInclusive / path: C:\\home\\git\\polyglot\\target/polyglot/spiral_eval\\packages\\e711a7af82ac8ecfc9df9208c576e0745b2b4e6fbb3a46a168b4c4f56921eb3a\\main.spi / fsxContent:  / errors: [] / typeErrorCount: 0\r\n",
      "00:01:08 verbose #83 sendJson / port: 13805 / json: {\"FileOpen\":{\"spiText\":\"union a =\\n    | B\\n    | c\\n\\ninl main () =\\n    ()\\n\",\"uri\":\"file:///c:/ho...ot/spiral_eval/packages/e711a7af82ac8ecfc9df9208c576e0745b2b4e6fbb3a46a168b4c4f56921eb3a/main.spi\"}} / result:\r\n",
      "00:01:08 verbose #84 sendJson / port: 13805 / json: {\"BuildFile\":{\"backend\":\"Fsharp\",\"uri\":\"file:///c:/home/git/polyglot/target/polyglot/spiral_eval/packages/e711a7af82ac8ecfc9df9208c576e0745b2b4e6fbb3a46a168b4c4f56921eb3a/main.spi\"}} / result:\r\n",
      "00:01:13 verbose #51 > 00:00:02 debug   #4 Supervisor.supervisor_server.BuildFile / file: c:/home/git/polyglot/target/polyglot/spiral_eval/packages/e711a7af82ac8ecfc9df9208c576e0745b2b4e6fbb3a46a168b4c4f56921eb3a/main.spi\r\n",
      "00:01:09   debug #85 buildFile / takeWhileInclusive / path: C:\\home\\git\\polyglot\\target/polyglot/spiral_eval\\packages\\e711a7af82ac8ecfc9df9208c576e0745b2b4e6fbb3a46a168b4c4f56921eb3a\\main.spi / fsxContent:  / errors: [\r\n",
      "  [\r\n",
      "    \"main.spi:\n",
      "Expected: uppercase variable\",\r\n",
      "    {\r\n",
      "      \"ParserErrors\": {\r\n",
      "        \"errors\": [\r\n",
      "          [\r\n",
      "            [\r\n",
      "              {\r\n",
      "                \"character\": 6,\r\n",
      "                \"line\": 2\r\n",
      "              },\r\n",
      "              {\r\n",
      "                \"character\": 7,\r\n",
      "                \"line\": 2\r\n",
      "              }\r\n",
      "            ],\r\n",
      "            \"Expected: uppercase variable\"\r\n",
      "          ]\r\n",
      "        ],\r\n",
      "        \"uri\": \"file:///c:/home/git/polyglot/target/polyglot/spiral_eval/packages/e711a7af82ac8ecfc9df9208c576e0745b2b4e6fbb3a46a168b4c4f56921eb3a/main.spi\"\r\n",
      "      }\r\n",
      "    }\r\n",
      "  ]\r\n",
      "] / typeErrorCount: 0\r\n",
      "00:01:09 verbose #86 sendJson / port: 13805 / json: {\"FileDelete\":{\"uris\":[\"file:///c:/home/git/polyglot/target/polyglot/spiral_eval/packages/e711a7af82ac8ecfc9df9208c576e0745b2b4e6fbb3a46a168b4c4f56921eb3a\"]}} / result:\r\n",
      "00:01:18 verbose #20 wait_for_port_access / port: 13805 / retry: 0 / timeout: Some 3000 / status: False\r\n",
      "00:01:20 verbose #21 test_port_open / ex: System.AggregateException: One or more errors occurred. (No connection could be made because the target machine actively refused it.)\r\n",
      "00:01:11   debug #87 watchWithFilter / Disposing watch stream / filter: FileName, LastWrite\r\n",
      "Some (None, [\"main.spi:\n",
      "Expected: uppercase variable\"])\r\n",
      "\r\n"
     ]
    }
   ],
   "source": [
    "//// test\n",
    "\n",
    "\"\"\"union a =\n",
    "    | B\n",
    "    | c\n",
    "\n",
    "inl main () =\n",
    "    ()\n",
    "\"\"\"\n",
    "|> buildCode 10000 None\n",
    "|> Async.runWithTimeout 10000\n",
    "|> Option.map (fun (fsxContent, errors) -> fsxContent, errors |> List.map fst)\n",
    "|> _assertEqual (\n",
    "    Some (\n",
    "        None,\n",
    "        [ \"main.spi:\n",
    "Expected: uppercase variable\" ]\n",
    "    )\n",
    ")"
   ]
  },
  {
   "cell_type": "code",
   "execution_count": null,
   "metadata": {
    "dotnet_interactive": {
     "language": "fsharp"
    },
    "polyglot_notebook": {
     "kernelName": "fsharp"
    }
   },
   "outputs": [
    {
     "name": "stdout",
     "output_type": "stream",
     "text": [
      "00:01:20   debug #22 run_with_timeout_async / timeout: 60\r\n",
      "00:01:16   debug #52 execute_with_options_async / options: struct (Some System.Threading.CancellationToken,\n",
      "        \"dotnet \"C:\\home\\git\\polyglot\\deps\\The-Spiral-Language\\The Spiral Language 2\\artifacts\\bin\\The Spiral Language 2\\release\\Spiral.dll\" --port 13805 --default-int i32 --default-float f64\",\n",
      "        [||], Some <fun:buildCode@3-348>, Some \"C:\\home\\git\\polyglot\")\r\n",
      "00:01:16 verbose #53 > 00:00:00 debug   #1 pwd: C:\\home\\git\\polyglot\r\n",
      "00:01:16 verbose #54 > 00:00:00 debug   #2 dllPath: C:\\home\\git\\polyglot\\deps\\The-Spiral-Language\\The Spiral Language 2\\artifacts\\bin\\The Spiral Language 2\\release\r\n",
      "00:01:16 verbose #55 > 00:00:00 debug   #3 targetDir: C:\\home\\git\\polyglot\\target/polyglot/spiral_eval\r\n",
      "00:01:17 verbose #56 > Starting the Spiral Server. It is bound to: http://localhost:13805\r\n",
      "00:01:13 verbose #88 sendJson / port: 13805 / json: {\"Ping\":true} / result:\r\n",
      "00:01:13 verbose #89 awaitCompiler / Ping / result: 'Some(null)' / port: 13805 / retry: 0\r\n",
      "00:01:17 verbose #57 > Server bound to: http://localhost:13805\r\n",
      "00:01:13   debug #90 buildFile / takeWhileInclusive / path: C:\\home\\git\\polyglot\\target/polyglot/spiral_eval\\packages\\e83597a8ca85933ec91ea140faca562c6789f98f5348e641a1c44c73de804631\\main.spi / fsxContent:  / errors: [] / typeErrorCount: 0\r\n",
      "00:01:13   debug #91 buildFile / takeWhileInclusive / path: C:\\home\\git\\polyglot\\target/polyglot/spiral_eval\\packages\\e83597a8ca85933ec91ea140faca562c6789f98f5348e641a1c44c73de804631\\main.spi / fsxContent:  / errors: [] / typeErrorCount: 0\r\n",
      "00:01:13 verbose #92 sendJson / port: 13805 / json: {\"FileOpen\":{\"spiText\":\"\\n/// abc\\ninl main () =\\n    ()\\n\",\"uri\":\"file:///c:/home/git/polyglot/targ...ot/spiral_eval/packages/e83597a8ca85933ec91ea140faca562c6789f98f5348e641a1c44c73de804631/main.spi\"}} / result:\r\n",
      "00:01:13 verbose #93 sendJson / port: 13805 / json: {\"BuildFile\":{\"backend\":\"Fsharp\",\"uri\":\"file:///c:/home/git/polyglot/target/polyglot/spiral_eval/packages/e83597a8ca85933ec91ea140faca562c6789f98f5348e641a1c44c73de804631/main.spi\"}} / result:\r\n",
      "00:01:14   debug #94 buildFile / takeWhileInclusive / path: C:\\home\\git\\polyglot\\target/polyglot/spiral_eval\\packages\\e83597a8ca85933ec91ea140faca562c6789f98f5348e641a1c44c73de804631\\main.spi / fsxContent:  / errors: [] / typeErrorCount: 0\r\n",
      "00:01:18 verbose #58 > 00:00:02 debug   #4 Supervisor.supervisor_server.BuildFile / file: c:/home/git/polyglot/target/polyglot/spiral_eval/packages/e83597a8ca85933ec91ea140faca562c6789f98f5348e641a1c44c73de804631/main.spi\r\n",
      "00:01:14   debug #95 buildFile / takeWhileInclusive / path: C:\\home\\git\\polyglot\\target/polyglot/spiral_eval\\packages\\e83597a8ca85933ec91ea140faca562c6789f98f5348e641a1c44c73de804631\\main.spi / fsxContent:  / errors: [\r\n",
      "  [\r\n",
      "    \"main.spi:\n",
      "Expected: whitespace\",\r\n",
      "    {\r\n",
      "      \"TokenizerErrors\": {\r\n",
      "        \"errors\": [\r\n",
      "          [\r\n",
      "            [\r\n",
      "              {\r\n",
      "                \"character\": 2,\r\n",
      "                \"line\": 1\r\n",
      "              },\r\n",
      "              {\r\n",
      "                \"character\": 3,\r\n",
      "                \"line\": 1\r\n",
      "              }\r\n",
      "            ],\r\n",
      "            \"Expected: whitespace\"\r\n",
      "          ]\r\n",
      "        ],\r\n",
      "        \"uri\": \"file:///c:/home/git/polyglot/target/polyglot/spiral_eval/packages/e83597a8ca85933ec91ea140faca562c6789f98f5348e641a1c44c73de804631/main.spi\"\r\n",
      "      }\r\n",
      "    }\r\n",
      "  ]\r\n",
      "] / typeErrorCount: 0\r\n",
      "00:01:14 verbose #96 sendJson / port: 13805 / json: {\"FileDelete\":{\"uris\":[\"file:///c:/home/git/polyglot/target/polyglot/spiral_eval/packages/e83597a8ca85933ec91ea140faca562c6789f98f5348e641a1c44c73de804631\"]}} / result:\r\n",
      "00:01:23 verbose #23 wait_for_port_access / port: 13805 / retry: 0 / timeout: Some 3000 / status: False\r\n",
      "00:01:25 verbose #24 test_port_open / ex: System.AggregateException: One or more errors occurred. (No connection could be made because the target machine actively refused it.)\r\n",
      "00:01:16   debug #97 watchWithFilter / Disposing watch stream / filter: FileName, LastWrite\r\n",
      "Some (None, [\"main.spi:\n",
      "Expected: whitespace\"])\r\n",
      "\r\n"
     ]
    }
   ],
   "source": [
    "//// test\n",
    "\n",
    "\"\"\"\n",
    "/// abc\n",
    "inl main () =\n",
    "    ()\n",
    "\"\"\"\n",
    "|> buildCode 10000 None\n",
    "|> Async.runWithTimeout 10000\n",
    "|> Option.map (fun (fsxContent, errors) -> fsxContent, errors |> List.map fst)\n",
    "|> _assertEqual (\n",
    "    Some (\n",
    "        None,\n",
    "        [ \"main.spi:\n",
    "Expected: whitespace\" ]\n",
    "    )\n",
    ")"
   ]
  },
  {
   "cell_type": "code",
   "execution_count": null,
   "metadata": {
    "dotnet_interactive": {
     "language": "fsharp"
    },
    "polyglot_notebook": {
     "kernelName": "fsharp"
    }
   },
   "outputs": [
    {
     "name": "stdout",
     "output_type": "stream",
     "text": [
      "00:01:25   debug #25 run_with_timeout_async / timeout: 60\r\n",
      "00:01:21   debug #59 execute_with_options_async / options: struct (Some System.Threading.CancellationToken,\n",
      "        \"dotnet \"C:\\home\\git\\polyglot\\deps\\The-Spiral-Language\\The Spiral Language 2\\artifacts\\bin\\The Spiral Language 2\\release\\Spiral.dll\" --port 13805 --default-int i32 --default-float f64\",\n",
      "        [||], Some <fun:buildCode@3-348>, Some \"C:\\home\\git\\polyglot\")\r\n",
      "00:01:22 verbose #60 > 00:00:00 debug   #1 pwd: C:\\home\\git\\polyglot\r\n",
      "00:01:22 verbose #61 > 00:00:00 debug   #2 dllPath: C:\\home\\git\\polyglot\\deps\\The-Spiral-Language\\The Spiral Language 2\\artifacts\\bin\\The Spiral Language 2\\release\r\n",
      "00:01:22 verbose #62 > 00:00:00 debug   #3 targetDir: C:\\home\\git\\polyglot\\target/polyglot/spiral_eval\r\n",
      "00:01:22 verbose #63 > Starting the Spiral Server. It is bound to: http://localhost:13805\r\n",
      "00:01:19 verbose #98 sendJson / port: 13805 / json: {\"Ping\":true} / result:\r\n",
      "00:01:19 verbose #99 awaitCompiler / Ping / result: 'Some(null)' / port: 13805 / retry: 0\r\n",
      "00:01:23 verbose #64 > Server bound to: http://localhost:13805\r\n",
      "00:01:19   debug #100 buildFile / takeWhileInclusive / path: C:\\home\\git\\polyglot\\target/polyglot/spiral_eval\\packages\\a2aa158e3d25dde470018a814a2045bf437bae1760d98ab33335c72b076d4d50\\main.spi / fsxContent:  / errors: [] / typeErrorCount: 0\r\n",
      "00:01:19   debug #101 buildFile / takeWhileInclusive / path: C:\\home\\git\\polyglot\\target/polyglot/spiral_eval\\packages\\a2aa158e3d25dde470018a814a2045bf437bae1760d98ab33335c72b076d4d50\\main.spi / fsxContent:  / errors: [] / typeErrorCount: 0\r\n",
      "00:01:19 verbose #102 sendJson / port: 13805 / json: {\"FileOpen\":{\"spiText\":\"\\ninl main () =\\n    real\\n        inl real_unbox forall a. (obj : a) : a =\\...ot/spiral_eval/packages/a2aa158e3d25dde470018a814a2045bf437bae1760d98ab33335c72b076d4d50/main.spi\"}} / result:\r\n",
      "00:01:19 verbose #103 sendJson / port: 13805 / json: {\"BuildFile\":{\"backend\":\"Fsharp\",\"uri\":\"file:///c:/home/git/polyglot/target/polyglot/spiral_eval/packages/a2aa158e3d25dde470018a814a2045bf437bae1760d98ab33335c72b076d4d50/main.spi\"}} / result:\r\n",
      "00:01:24 verbose #65 > 00:00:02 debug   #4 Supervisor.supervisor_server.BuildFile / file: c:/home/git/polyglot/target/polyglot/spiral_eval/packages/a2aa158e3d25dde470018a814a2045bf437bae1760d98ab33335c72b076d4d50/main.spi\r\n",
      "00:01:20   debug #104 buildFile / takeWhileInclusive / path: C:\\home\\git\\polyglot\\target/polyglot/spiral_eval\\packages\\a2aa158e3d25dde470018a814a2045bf437bae1760d98ab33335c72b076d4d50\\main.spi / fsxContent:  / errors: [] / typeErrorCount: 0\r\n",
      "00:01:21   debug #105 buildFile / takeWhileInclusive / path: C:\\home\\git\\polyglot\\target/polyglot/spiral_eval\\packages\\a2aa158e3d25dde470018a814a2045bf437bae1760d98ab33335c72b076d4d50\\main.spi / fsxContent:  / errors: [] / typeErrorCount: 0\r\n",
      "00:01:22   debug #106 buildFile / takeWhileInclusive / path: C:\\home\\git\\polyglot\\target/polyglot/spiral_eval\\packages\\a2aa158e3d25dde470018a814a2045bf437bae1760d98ab33335c72b076d4d50\\main.spi / fsxContent:  / errors: [] / typeErrorCount: 0\r\n",
      "00:01:23   debug #107 buildFile / takeWhileInclusive / path: C:\\home\\git\\polyglot\\target/polyglot/spiral_eval\\packages\\a2aa158e3d25dde470018a814a2045bf437bae1760d98ab33335c72b076d4d50\\main.spi / fsxContent:  / errors: [] / typeErrorCount: 0\r\n",
      "00:01:23   debug #108 buildFile / takeWhileInclusive / path: C:\\home\\git\\polyglot\\target/polyglot/spiral_eval\\packages\\a2aa158e3d25dde470018a814a2045bf437bae1760d98ab33335c72b076d4d50\\main.spi / fsxContent:  / errors: [\r\n",
      "  [\r\n",
      "    \"Cannot apply a forall with a term.\",\r\n",
      "    {\r\n",
      "      \"TracedError\": {\r\n",
      "        \"message\": \"Cannot apply a forall with a term.\",\r\n",
      "        \"trace\": [\r\n",
      "          \"Error trace on line: 2, column: 10 in module: c:/home/git/polyglot/target/polyglot/spiral_eval/packages/a2aa158e3d25dde470018a814a2045bf437bae1760d98ab33335c72b076d4d50/main.spi.\n",
      "inl main () =\n",
      "         ^\n",
      "\",\r\n",
      "          \"Error trace on line: 4, column: 9 in module: c:/home/git/polyglot/target/polyglot/spiral_eval/packages/a2aa158e3d25dde470018a814a2045bf437bae1760d98ab33335c72b076d4d50/main.spi.\n",
      "        inl real_unbox forall a. (obj : a) : a =\n",
      "        ^\n",
      "\",\r\n",
      "          \"Error trace on line: 7, column: 9 in module: c:/home/git/polyglot/target/polyglot/spiral_eval/packages/a2aa158e3d25dde470018a814a2045bf437bae1760d98ab33335c72b076d4d50/main.spi.\n",
      "        real_unbox ()\n",
      "        ^\n",
      "\"\r\n",
      "        ]\r\n",
      "      }\r\n",
      "    }\r\n",
      "  ]\r\n",
      "] / typeErrorCount: 0\r\n",
      "00:01:23 verbose #109 sendJson / port: 13805 / json: {\"FileDelete\":{\"uris\":[\"file:///c:/home/git/polyglot/target/polyglot/spiral_eval/packages/a2aa158e3d25dde470018a814a2045bf437bae1760d98ab33335c72b076d4d50\"]}} / result:\r\n",
      "00:01:32 verbose #26 wait_for_port_access / port: 13805 / retry: 0 / timeout: Some 3000 / status: False\r\n",
      "00:01:34 verbose #27 test_port_open / ex: System.AggregateException: One or more errors occurred. (No connection could be made because the target machine actively refused it.)\r\n",
      "00:01:25   debug #110 watchWithFilter / Disposing watch stream / filter: FileName, LastWrite\r\n",
      "Some (None, [\"Cannot apply a forall with a term.\"])\r\n",
      "\r\n"
     ]
    }
   ],
   "source": [
    "//// test\n",
    "\n",
    "\"\"\"\n",
    "inl main () =\n",
    "    real\n",
    "        inl real_unbox forall a. (obj : a) : a =\n",
    "            typecase obj with\n",
    "            | _ => obj\n",
    "        real_unbox ()\n",
    "    ()\n",
    "\"\"\"\n",
    "|> buildCode 10000 None\n",
    "|> Async.runWithTimeout 10000\n",
    "|> Option.map (fun (fsxContent, errors) -> fsxContent, errors |> List.map fst)\n",
    "|> _assertEqual (\n",
    "    Some (\n",
    "        None,\n",
    "        [ \"Cannot apply a forall with a term.\" ]\n",
    "    )\n",
    ")"
   ]
  },
  {
   "cell_type": "code",
   "execution_count": null,
   "metadata": {
    "dotnet_interactive": {
     "language": "fsharp"
    },
    "polyglot_notebook": {
     "kernelName": "fsharp"
    }
   },
   "outputs": [
    {
     "name": "stdout",
     "output_type": "stream",
     "text": [
      "00:01:34   debug #28 run_with_timeout_async / timeout: 60\r\n",
      "00:01:30   debug #66 execute_with_options_async / options: struct (Some System.Threading.CancellationToken,\n",
      "        \"dotnet \"C:\\home\\git\\polyglot\\deps\\The-Spiral-Language\\The Spiral Language 2\\artifacts\\bin\\The Spiral Language 2\\release\\Spiral.dll\" --port 13805 --default-int i32 --default-float f64\",\n",
      "        [||], Some <fun:buildCode@3-348>, Some \"C:\\home\\git\\polyglot\")\r\n",
      "00:01:31 verbose #67 > 00:00:00 debug   #1 pwd: C:\\home\\git\\polyglot\r\n",
      "00:01:31 verbose #68 > 00:00:00 debug   #2 dllPath: C:\\home\\git\\polyglot\\deps\\The-Spiral-Language\\The Spiral Language 2\\artifacts\\bin\\The Spiral Language 2\\release\r\n",
      "00:01:31 verbose #69 > 00:00:00 debug   #3 targetDir: C:\\home\\git\\polyglot\\target/polyglot/spiral_eval\r\n",
      "00:01:31 verbose #70 > Starting the Spiral Server. It is bound to: http://localhost:13805\r\n",
      "00:01:28 verbose #111 sendJson / port: 13805 / json: {\"Ping\":true} / result:\r\n",
      "00:01:28 verbose #112 awaitCompiler / Ping / result: 'Some(null)' / port: 13805 / retry: 0\r\n",
      "00:01:32 verbose #71 > Server bound to: http://localhost:13805\r\n",
      "00:01:28   debug #113 buildFile / takeWhileInclusive / path: C:\\home\\git\\polyglot\\target/polyglot/spiral_eval\\packages\\84eca3865a0cfc1afd28f49a38d395e9b89071527b4bda759de7cfb116593b3e\\main.spi / fsxContent:  / errors: [] / typeErrorCount: 0\r\n",
      "00:01:28   debug #114 buildFile / takeWhileInclusive / path: C:\\home\\git\\polyglot\\target/polyglot/spiral_eval\\packages\\84eca3865a0cfc1afd28f49a38d395e9b89071527b4bda759de7cfb116593b3e\\main.spi / fsxContent:  / errors: [] / typeErrorCount: 0\r\n",
      "00:01:28 verbose #115 sendJson / port: 13805 / json: {\"FileOpen\":{\"spiText\":\"\\ninl main () =\\n    real\\n        inl real_unbox forall a. (obj : a) : a =\\...ot/spiral_eval/packages/84eca3865a0cfc1afd28f49a38d395e9b89071527b4bda759de7cfb116593b3e/main.spi\"}} / result:\r\n",
      "00:01:28 verbose #116 sendJson / port: 13805 / json: {\"BuildFile\":{\"backend\":\"Fsharp\",\"uri\":\"file:///c:/home/git/polyglot/target/polyglot/spiral_eval/packages/84eca3865a0cfc1afd28f49a38d395e9b89071527b4bda759de7cfb116593b3e/main.spi\"}} / result:\r\n",
      "00:01:32 verbose #72 > 00:00:01 debug   #4 Supervisor.supervisor_server.BuildFile / file: c:/home/git/polyglot/target/polyglot/spiral_eval/packages/84eca3865a0cfc1afd28f49a38d395e9b89071527b4bda759de7cfb116593b3e/main.spi\r\n",
      "00:01:29   debug #117 buildFile / takeWhileInclusive / path: C:\\home\\git\\polyglot\\target/polyglot/spiral_eval\\packages\\84eca3865a0cfc1afd28f49a38d395e9b89071527b4bda759de7cfb116593b3e\\main.spi / fsxContent:  / errors: [] / typeErrorCount: 0\r\n",
      "00:01:30   debug #118 buildFile / takeWhileInclusive / path: C:\\home\\git\\polyglot\\target/polyglot/spiral_eval\\packages\\84eca3865a0cfc1afd28f49a38d395e9b89071527b4bda759de7cfb116593b3e\\main.spi / fsxContent:  / errors: [] / typeErrorCount: 0\r\n",
      "00:01:31   debug #119 buildFile / takeWhileInclusive / path: C:\\home\\git\\polyglot\\target/polyglot/spiral_eval\\packages\\84eca3865a0cfc1afd28f49a38d395e9b89071527b4bda759de7cfb116593b3e\\main.spi / fsxContent:  / errors: [] / typeErrorCount: 0\r\n",
      "00:01:31   debug #120 buildFile / takeWhileInclusive / path: C:\\home\\git\\polyglot\\target/polyglot/spiral_eval\\packages\\84eca3865a0cfc1afd28f49a38d395e9b89071527b4bda759de7cfb116593b3e\\main.spi / fsxContent:  / errors: [\r\n",
      "  [\r\n",
      "    \"The main function should not have a forall.\",\r\n",
      "    {\r\n",
      "      \"TracedError\": {\r\n",
      "        \"message\": \"The main function should not have a forall.\",\r\n",
      "        \"trace\": []\r\n",
      "      }\r\n",
      "    }\r\n",
      "  ]\r\n",
      "] / typeErrorCount: 0\r\n",
      "00:01:31 verbose #121 sendJson / port: 13805 / json: {\"FileDelete\":{\"uris\":[\"file:///c:/home/git/polyglot/target/polyglot/spiral_eval/packages/84eca3865a0cfc1afd28f49a38d395e9b89071527b4bda759de7cfb116593b3e\"]}} / result:\r\n",
      "00:01:39 verbose #29 wait_for_port_access / port: 13805 / retry: 0 / timeout: Some 3000 / status: False\r\n",
      "00:01:42 verbose #30 test_port_open / ex: System.AggregateException: One or more errors occurred. (No connection could be made because the target machine actively refused it.)\r\n",
      "00:01:33   debug #122 watchWithFilter / Disposing watch stream / filter: FileName, LastWrite\r\n",
      "Some (None, [\"The main function should not have a forall.\"])\r\n",
      "\r\n"
     ]
    }
   ],
   "source": [
    "//// test\n",
    "\n",
    "\"\"\"\n",
    "inl main () =\n",
    "    real\n",
    "        inl real_unbox forall a. (obj : a) : a =\n",
    "            typecase obj with\n",
    "            | _ => obj\n",
    "        real_unbox `i32 1\n",
    "\"\"\"\n",
    "|> buildCode 10000 None\n",
    "|> Async.runWithTimeout 10000\n",
    "|> Option.map (fun (fsxContent, errors) -> fsxContent, errors |> List.map fst)\n",
    "|> _assertEqual (\n",
    "    Some (\n",
    "        None,\n",
    "        [ \"The main function should not have a forall.\" ]\n",
    "    )\n",
    ")"
   ]
  },
  {
   "cell_type": "code",
   "execution_count": null,
   "metadata": {
    "dotnet_interactive": {
     "language": "fsharp"
    },
    "polyglot_notebook": {
     "kernelName": "fsharp"
    }
   },
   "outputs": [
    {
     "name": "stdout",
     "output_type": "stream",
     "text": [
      "00:01:42   debug #31 run_with_timeout_async / timeout: 60\r\n",
      "00:01:38   debug #73 execute_with_options_async / options: struct (Some System.Threading.CancellationToken,\n",
      "        \"dotnet \"C:\\home\\git\\polyglot\\deps\\The-Spiral-Language\\The Spiral Language 2\\artifacts\\bin\\The Spiral Language 2\\release\\Spiral.dll\" --port 13805 --default-int i32 --default-float f64\",\n",
      "        [||], Some <fun:buildCode@3-348>, Some \"C:\\home\\git\\polyglot\")\r\n",
      "00:01:38 verbose #74 > 00:00:00 debug   #1 pwd: C:\\home\\git\\polyglot\r\n",
      "00:01:38 verbose #75 > 00:00:00 debug   #2 dllPath: C:\\home\\git\\polyglot\\deps\\The-Spiral-Language\\The Spiral Language 2\\artifacts\\bin\\The Spiral Language 2\\release\r\n",
      "00:01:38 verbose #76 > 00:00:00 debug   #3 targetDir: C:\\home\\git\\polyglot\\target/polyglot/spiral_eval\r\n",
      "00:01:38 verbose #77 > Starting the Spiral Server. It is bound to: http://localhost:13805\r\n",
      "00:01:35 verbose #123 sendJson / port: 13805 / json: {\"Ping\":true} / result:\r\n",
      "00:01:35 verbose #124 awaitCompiler / Ping / result: 'Some(null)' / port: 13805 / retry: 0\r\n",
      "00:01:39 verbose #78 > Server bound to: http://localhost:13805\r\n",
      "00:01:35   debug #125 buildFile / takeWhileInclusive / path: C:\\home\\git\\polyglot\\target/polyglot/spiral_eval\\packages\\c0932fdbf60389c2ae8b78bb5443994f2d0ecdc6c6e7dfddf408cecaa050d294\\main.spi / fsxContent:  / errors: [] / typeErrorCount: 0\r\n",
      "00:01:35   debug #126 buildFile / takeWhileInclusive / path: C:\\home\\git\\polyglot\\target/polyglot/spiral_eval\\packages\\c0932fdbf60389c2ae8b78bb5443994f2d0ecdc6c6e7dfddf408cecaa050d294\\main.spi / fsxContent:  / errors: [] / typeErrorCount: 0\r\n",
      "00:01:35 verbose #127 sendJson / port: 13805 / json: {\"FileOpen\":{\"spiText\":\"\\ninl init_series start end inc =\\n    inl total : f64 = conv ((end - start)...ot/spiral_eval/packages/c0932fdbf60389c2ae8b78bb5443994f2d0ecdc6c6e7dfddf408cecaa050d294/main.spi\"}} / result:\r\n",
      "00:01:35 verbose #128 sendJson / port: 13805 / json: {\"BuildFile\":{\"backend\":\"Fsharp\",\"uri\":\"file:///c:/home/git/polyglot/target/polyglot/spiral_eval/packages/c0932fdbf60389c2ae8b78bb5443994f2d0ecdc6c6e7dfddf408cecaa050d294/main.spi\"}} / result:\r\n",
      "00:01:39 verbose #79 > 00:00:01 debug   #4 Supervisor.supervisor_server.BuildFile / file: c:/home/git/polyglot/target/polyglot/spiral_eval/packages/c0932fdbf60389c2ae8b78bb5443994f2d0ecdc6c6e7dfddf408cecaa050d294/main.spi\r\n",
      "00:01:36   debug #129 buildFile / takeWhileInclusive / path: C:\\home\\git\\polyglot\\target/polyglot/spiral_eval\\packages\\c0932fdbf60389c2ae8b78bb5443994f2d0ecdc6c6e7dfddf408cecaa050d294\\main.spi / fsxContent:  / errors: [] / typeErrorCount: 0\r\n",
      "00:01:37   debug #130 buildFile / takeWhileInclusive / path: C:\\home\\git\\polyglot\\target/polyglot/spiral_eval\\packages\\c0932fdbf60389c2ae8b78bb5443994f2d0ecdc6c6e7dfddf408cecaa050d294\\main.spi / fsxContent:  / errors: [] / typeErrorCount: 0\r\n",
      "00:01:38   debug #131 buildFile / takeWhileInclusive / path: C:\\home\\git\\polyglot\\target/polyglot/spiral_eval\\packages\\c0932fdbf60389c2ae8b78bb5443994f2d0ecdc6c6e7dfddf408cecaa050d294\\main.spi / fsxContent:  / errors: [] / typeErrorCount: 0\r\n",
      "00:01:38   debug #132 buildFile / takeWhileInclusive / path: C:\\home\\git\\polyglot\\target/polyglot/spiral_eval\\packages\\c0932fdbf60389c2ae8b78bb5443994f2d0ecdc6c6e7dfddf408cecaa050d294\\main.spi / fsxContent: 0.3325000000000001\n",
      " / errors: [] / typeErrorCount: 0\r\n",
      "00:01:38 verbose #133 sendJson / port: 13805 / json: {\"FileDelete\":{\"uris\":[\"file:///c:/home/git/polyglot/target/polyglot/spiral_eval/packages/c0932fdbf60389c2ae8b78bb5443994f2d0ecdc6c6e7dfddf408cecaa050d294\"]}} / result:\r\n",
      "00:01:46 verbose #32 wait_for_port_access / port: 13805 / retry: 0 / timeout: Some 3000 / status: False\r\n",
      "00:01:48 verbose #33 test_port_open / ex: System.AggregateException: One or more errors occurred. (No connection could be made because the target machine actively refused it.)\r\n",
      "00:01:40   debug #134 watchWithFilter / Disposing watch stream / filter: FileName, LastWrite\r\n",
      "Some (Some \"0.3325000000000001\n",
      "\", [])\r\n",
      "\r\n"
     ]
    }
   ],
   "source": [
    "//// test\n",
    "\n",
    "\"\"\"\n",
    "inl init_series start end inc =\n",
    "    inl total : f64 = conv ((end - start) / inc) + 1\n",
    "    listm.init total (conv >> (*) inc >> (+) start) : list f64\n",
    "\n",
    "type integration = (f64 -> f64) -> f64 -> f64 -> f64\n",
    "\n",
    "inl integral dt : integration =\n",
    "    fun f a b =>\n",
    "        init_series (a + dt / 2) (b - dt / 2) dt\n",
    "        |> listm.map (f >> (*) dt)\n",
    "        |> listm.fold (+) 0\n",
    "\n",
    "inl main () =\n",
    "    integral 0.1 (fun x => x ** 2) 0 1\n",
    "\"\"\"\n",
    "|> buildCode 10000 None\n",
    "|> Async.runWithTimeout 10000\n",
    "|> Option.map (fun (fsxContent, errors) -> fsxContent, errors |> List.map fst)\n",
    "|> _assertEqual (\n",
    "    Some (\n",
    "        Some \"0.3325000000000001\\n\",\n",
    "        []\n",
    "    )\n",
    ")"
   ]
  },
  {
   "cell_type": "code",
   "execution_count": null,
   "metadata": {
    "dotnet_interactive": {
     "language": "fsharp"
    },
    "polyglot_notebook": {
     "kernelName": "fsharp"
    }
   },
   "outputs": [
    {
     "name": "stdout",
     "output_type": "stream",
     "text": [
      "00:01:49   debug #34 run_with_timeout_async / timeout: 60\r\n",
      "00:01:44   debug #80 execute_with_options_async / options: struct (Some System.Threading.CancellationToken,\n",
      "        \"dotnet \"C:\\home\\git\\polyglot\\deps\\The-Spiral-Language\\The Spiral Language 2\\artifacts\\bin\\The Spiral Language 2\\release\\Spiral.dll\" --port 13805 --default-int i32 --default-float f64\",\n",
      "        [||], Some <fun:buildCode@3-348>, Some \"C:\\home\\git\\polyglot\")\r\n",
      "00:01:45 verbose #81 > 00:00:00 debug   #1 pwd: C:\\home\\git\\polyglot\r\n",
      "00:01:45 verbose #82 > 00:00:00 debug   #2 dllPath: C:\\home\\git\\polyglot\\deps\\The-Spiral-Language\\The Spiral Language 2\\artifacts\\bin\\The Spiral Language 2\\release\r\n",
      "00:01:45 verbose #83 > 00:00:00 debug   #3 targetDir: C:\\home\\git\\polyglot\\target/polyglot/spiral_eval\r\n",
      "00:01:45 verbose #84 > Starting the Spiral Server. It is bound to: http://localhost:13805\r\n",
      "00:01:41 verbose #135 sendJson / port: 13805 / json: {\"Ping\":true} / result:\r\n",
      "00:01:41 verbose #136 awaitCompiler / Ping / result: 'Some(null)' / port: 13805 / retry: 0\r\n",
      "00:01:46 verbose #85 > Server bound to: http://localhost:13805\r\n",
      "00:01:41   debug #137 buildFile / takeWhileInclusive / path: C:\\home\\git\\polyglot\\target/polyglot/spiral_eval\\packages\\355c36b6d259fe6b1c7527aa9b475ca37914ad348c4a239687383dcd0daeed2c\\main.spi / fsxContent:  / errors: [] / typeErrorCount: 0\r\n",
      "00:01:41   debug #138 buildFile / takeWhileInclusive / path: C:\\home\\git\\polyglot\\target/polyglot/spiral_eval\\packages\\355c36b6d259fe6b1c7527aa9b475ca37914ad348c4a239687383dcd0daeed2c\\main.spi / fsxContent:  / errors: [] / typeErrorCount: 0\r\n",
      "00:01:41 verbose #139 sendJson / port: 13805 / json: {\"FileOpen\":{\"spiText\":\"\\ninl init_series start end inc =\\n    inl total : f64 = conv ((end - start)...ot/spiral_eval/packages/355c36b6d259fe6b1c7527aa9b475ca37914ad348c4a239687383dcd0daeed2c/main.spi\"}} / result:\r\n",
      "00:01:41 verbose #140 sendJson / port: 13805 / json: {\"BuildFile\":{\"backend\":\"Fsharp\",\"uri\":\"file:///c:/home/git/polyglot/target/polyglot/spiral_eval/packages/355c36b6d259fe6b1c7527aa9b475ca37914ad348c4a239687383dcd0daeed2c/main.spi\"}} / result:\r\n",
      "00:01:46 verbose #86 > 00:00:01 debug   #4 Supervisor.supervisor_server.BuildFile / file: c:/home/git/polyglot/target/polyglot/spiral_eval/packages/355c36b6d259fe6b1c7527aa9b475ca37914ad348c4a239687383dcd0daeed2c/main.spi\r\n",
      "00:01:42   debug #141 buildFile / takeWhileInclusive / path: C:\\home\\git\\polyglot\\target/polyglot/spiral_eval\\packages\\355c36b6d259fe6b1c7527aa9b475ca37914ad348c4a239687383dcd0daeed2c\\main.spi / fsxContent:  / errors: [] / typeErrorCount: 0\r\n",
      "00:01:43   debug #142 buildFile / takeWhileInclusive / path: C:\\home\\git\\polyglot\\target/polyglot/spiral_eval\\packages\\355c36b6d259fe6b1c7527aa9b475ca37914ad348c4a239687383dcd0daeed2c\\main.spi / fsxContent:  / errors: [] / typeErrorCount: 0\r\n",
      "00:01:44   debug #143 buildFile / takeWhileInclusive / path: C:\\home\\git\\polyglot\\target/polyglot/spiral_eval\\packages\\355c36b6d259fe6b1c7527aa9b475ca37914ad348c4a239687383dcd0daeed2c\\main.spi / fsxContent:  / errors: [] / typeErrorCount: 0\r\n",
      "00:01:45   debug #144 buildFile / takeWhileInclusive / path: C:\\home\\git\\polyglot\\target/polyglot/spiral_eval\\packages\\355c36b6d259fe6b1c7527aa9b475ca37914ad348c4a239687383dcd0daeed2c\\main.spi / fsxContent: 0.33332500000000004\n",
      " / errors: [] / typeErrorCount: 0\r\n",
      "00:01:45 verbose #145 sendJson / port: 13805 / json: {\"FileDelete\":{\"uris\":[\"file:///c:/home/git/polyglot/target/polyglot/spiral_eval/packages/355c36b6d259fe6b1c7527aa9b475ca37914ad348c4a239687383dcd0daeed2c\"]}} / result:\r\n",
      "00:01:54 verbose #35 wait_for_port_access / port: 13805 / retry: 0 / timeout: Some 3000 / status: False\r\n",
      "00:01:56 verbose #36 test_port_open / ex: System.AggregateException: One or more errors occurred. (No connection could be made because the target machine actively refused it.)\r\n",
      "00:01:47   debug #146 watchWithFilter / Disposing watch stream / filter: FileName, LastWrite\r\n",
      "Some (Some \"0.33332500000000004\n",
      "\", [])\r\n",
      "\r\n"
     ]
    }
   ],
   "source": [
    "//// test\n",
    "\n",
    "\"\"\"\n",
    "inl init_series start end inc =\n",
    "    inl total : f64 = conv ((end - start) / inc) + 1\n",
    "    listm.init total (conv >> (*) inc >> (+) start) : list f64\n",
    "\n",
    "type integration = (f64 -> f64) -> f64 -> f64 -> f64\n",
    "\n",
    "inl integral dt : integration =\n",
    "    fun f a b =>\n",
    "        init_series (a + dt / 2) (b - dt / 2) dt\n",
    "        |> listm.map (f >> (*) dt)\n",
    "        |> listm.fold (+) 0\n",
    "\n",
    "inl main () =\n",
    "    integral 0.01 (fun x => x ** 2) 0 1\n",
    "\"\"\"\n",
    "|> buildCode 10000 None\n",
    "|> Async.runWithTimeout 10000\n",
    "|> Option.map (fun (fsxContent, errors) -> fsxContent, errors |> List.map fst)\n",
    "|> _assertEqual (\n",
    "    Some (\n",
    "        Some \"0.33332500000000004\\n\",\n",
    "        []\n",
    "    )\n",
    ")\n",
    "// |> _assertEqual None\n",
    "// |> fun x -> printfn $\"{x.ToDisplayString ()}\""
   ]
  },
  {
   "cell_type": "markdown",
   "metadata": {},
   "source": [
    "## getFileTokenRange"
   ]
  },
  {
   "cell_type": "code",
   "execution_count": null,
   "metadata": {
    "dotnet_interactive": {
     "language": "fsharp"
    },
    "polyglot_notebook": {
     "kernelName": "fsharp"
    }
   },
   "outputs": [],
   "source": [
    "let inline getFileTokenRange port cancellationToken path = async {\n",
    "    let fullPath = path |> System.IO.Path.GetFullPath\n",
    "    let! code = fullPath |> SpiralFileSystem.read_all_text_async\n",
    "    let lines = code |> SpiralSm.split \"\\n\"\n",
    "\n",
    "    let struct (token, disposable) = SpiralThreading.new_disposable_token cancellationToken\n",
    "    use _ = disposable\n",
    "\n",
    "    let! serverPort, _errors, ct, disposable =\n",
    "        match port with\n",
    "        | Some port -> awaitCompiler port (Some token)\n",
    "        | None -> (getCompilerPort (), FSharp.Control.AsyncSeq.empty, token, new_disposable id) |> Async.init\n",
    "    use _ = disposable\n",
    "\n",
    "    let fullPathUri = fullPath |> SpiralFileSystem.normalize_path |> SpiralFileSystem.new_file_uri\n",
    "\n",
    "    let fileOpenObj = {| FileOpen = {| uri = fullPathUri; spiText = code |} |}\n",
    "    let! _fileOpenResult = fileOpenObj |> sendObj serverPort\n",
    "\n",
    "    // do! Async.Sleep 60\n",
    "\n",
    "    let fileTokenRangeObj =\n",
    "        {|\n",
    "            FileTokenRange =\n",
    "                {|\n",
    "                    uri = fullPathUri\n",
    "                    range =\n",
    "                        [|\n",
    "                            {| line = 0; character = 0 |}\n",
    "                            {| line = lines.Length - 1; character = lines.[lines.Length - 1].Length |}\n",
    "                        |]\n",
    "                |}\n",
    "        |}\n",
    "    let! fileTokenRangeResult =\n",
    "        fileTokenRangeObj\n",
    "        |> sendObj serverPort\n",
    "        |> Async.withCancellationToken ct\n",
    "\n",
    "    let fileDir = fullPath |> System.IO.Path.GetDirectoryName\n",
    "    if fileDir |> SpiralSm.starts_with (repositoryRoot </> \"target\") then\n",
    "        let fileDirUri = fileDir |> SpiralFileSystem.normalize_path |> SpiralFileSystem.new_file_uri\n",
    "        let fileDeleteObj = {| FileDelete = {| uris = [| fileDirUri |] |} |}\n",
    "        let! _fileDeleteResult = fileDeleteObj |> sendObj serverPort\n",
    "        ()\n",
    "\n",
    "    return fileTokenRangeResult |> Option.map FSharp.Json.Json.deserialize<int array>\n",
    "}"
   ]
  },
  {
   "cell_type": "markdown",
   "metadata": {},
   "source": [
    "## getCodeTokenRange"
   ]
  },
  {
   "cell_type": "code",
   "execution_count": null,
   "metadata": {
    "dotnet_interactive": {
     "language": "fsharp"
    },
    "polyglot_notebook": {
     "kernelName": "fsharp"
    }
   },
   "outputs": [],
   "source": [
    "let inline getCodeTokenRange cancellationToken code = async {\n",
    "    let! mainPath = persistCode code\n",
    "    let port = getCompilerPort ()\n",
    "    return! mainPath |> getFileTokenRange (Some port) cancellationToken\n",
    "}"
   ]
  },
  {
   "cell_type": "code",
   "execution_count": null,
   "metadata": {
    "dotnet_interactive": {
     "language": "fsharp"
    },
    "polyglot_notebook": {
     "kernelName": "fsharp"
    }
   },
   "outputs": [
    {
     "name": "stdout",
     "output_type": "stream",
     "text": [
      "00:02:01   debug #37 run_with_timeout_async / timeout: 60\r\n",
      "00:01:57   debug #87 execute_with_options_async / options: struct (Some System.Threading.CancellationToken,\n",
      "        \"dotnet \"C:\\home\\git\\polyglot\\deps\\The-Spiral-Language\\The Spiral Language 2\\artifacts\\bin\\The Spiral Language 2\\release\\Spiral.dll\" --port 13805 --default-int i32 --default-float f64\",\n",
      "        [||], Some <fun:it@4-199>, Some \"C:\\home\\git\\polyglot\")\r\n",
      "00:01:57 verbose #88 > 00:00:00 debug   #1 pwd: C:\\home\\git\\polyglot\r\n",
      "00:01:57 verbose #89 > 00:00:00 debug   #2 dllPath: C:\\home\\git\\polyglot\\deps\\The-Spiral-Language\\The Spiral Language 2\\artifacts\\bin\\The Spiral Language 2\\release\r\n",
      "00:01:57 verbose #90 > 00:00:00 debug   #3 targetDir: C:\\home\\git\\polyglot\\target/polyglot/spiral_eval\r\n",
      "00:01:57 verbose #91 > Starting the Spiral Server. It is bound to: http://localhost:13805\r\n",
      "00:01:54 verbose #147 sendJson / port: 13805 / json: {\"Ping\":true} / result:\r\n",
      "00:01:54 verbose #148 awaitCompiler / Ping / result: 'Some(null)' / port: 13805 / retry: 0\r\n",
      "00:01:58 verbose #92 > Server bound to: http://localhost:13805\r\n",
      "00:01:54 verbose #149 sendJson / port: 13805 / json: {\"FileOpen\":{\"spiText\":\"inl main () = ()\",\"uri\":\"file:///c:/home/git/polyglot/target/polyglot/spiral_eval/packages/fb6c8d45c45c5bed6706c564f1573e80b77a3923967ce83cb69737ce2ce5040c/main.spi\"}} / result:\r\n",
      "00:01:54 verbose #150 sendJson / port: 13805 / json: {\"FileTokenRange\":{\"range\":[{\"character\":0,\"line\":0},{\"character\":16,\"line\":0}],\"uri\":\"file:///c:/ho...ot/spiral_eval/packages/fb6c8d45c45c5bed6706c564f1573e80b77a3923967ce83cb69737ce2ce5040c/main.spi\"}} / result: Some([\r\n",
      "  0,\r\n",
      "  0,\r\n",
      "  3,\r\n",
      "  7,\r\n",
      "  0,\r\n",
      "  0,\r\n",
      "  4,\r\n",
      "  4,\r\n",
      "  0,\r\n",
      "  0,\r\n",
      "  0,\r\n",
      "  5,\r\n",
      "  1,\r\n",
      "  8,\r\n",
      "  0,\r\n",
      "  0,\r\n",
      " ...8,\r\n",
      "  0,\r\n",
      "  0,\r\n",
      "  2,\r\n",
      "  1,\r\n",
      "  4,\r\n",
      "  0,\r\n",
      "  0,\r\n",
      "  2,\r\n",
      "  1,\r\n",
      "  8,\r\n",
      "  0,\r\n",
      "  0,\r\n",
      "  1,\r\n",
      "  1,\r\n",
      "  8,\r\n",
      "  0\r\n",
      "])\r\n",
      "00:01:54 verbose #151 sendJson / port: 13805 / json: {\"FileDelete\":{\"uris\":[\"file:///c:/home/git/polyglot/target/polyglot/spiral_eval/packages/fb6c8d45c45c5bed6706c564f1573e80b77a3923967ce83cb69737ce2ce5040c\"]}} / result:\r\n",
      "00:02:03 verbose #38 wait_for_port_access / port: 13805 / retry: 0 / timeout: Some 3000 / status: False\r\n",
      "00:02:05 verbose #39 test_port_open / ex: System.AggregateException: One or more errors occurred. (No connection could be made because the target machine actively refused it.)\r\n",
      "Some [|0; 0; 3; 7; 0; 0; 4; 4; 0; 0; 0; 5; 1; 8; 0; 0; 1; 1; 8; 0; 0; 2; 1; 4; 0; 0; 2; 1; 8; 0; 0; 1; 1; 8; 0|]\r\n",
      "\r\n"
     ]
    }
   ],
   "source": [
    "//// test\n",
    "\n",
    "\"\"\"inl main () = ()\"\"\"\n",
    "|> getCodeTokenRange None\n",
    "|> Async.runWithTimeout 10000\n",
    "|> Option.flatten\n",
    "|> _assertEqual (Some [| 0; 0; 3; 7; 0; 0; 4; 4; 0; 0; 0; 5; 1; 8; 0; 0; 1; 1; 8; 0; 0; 2; 1; 4; 0; 0;\n",
    "2; 1; 8; 0; 0; 1; 1; 8; 0 |])"
   ]
  },
  {
   "cell_type": "code",
   "execution_count": null,
   "metadata": {
    "dotnet_interactive": {
     "language": "fsharp"
    },
    "polyglot_notebook": {
     "kernelName": "fsharp"
    }
   },
   "outputs": [
    {
     "name": "stdout",
     "output_type": "stream",
     "text": [
      "00:02:08   debug #40 run_with_timeout_async / timeout: 60\r\n",
      "00:02:03   debug #93 execute_with_options_async / options: struct (Some System.Threading.CancellationToken,\n",
      "        \"dotnet \"C:\\home\\git\\polyglot\\deps\\The-Spiral-Language\\The Spiral Language 2\\artifacts\\bin\\The Spiral Language 2\\release\\Spiral.dll\" --port 13805 --default-int i32 --default-float f64\",\n",
      "        [||], Some <fun:it@4-376>, Some \"C:\\home\\git\\polyglot\")\r\n",
      "00:02:04 verbose #94 > 00:00:00 debug   #1 pwd: C:\\home\\git\\polyglot\r\n",
      "00:02:04 verbose #95 > 00:00:00 debug   #2 dllPath: C:\\home\\git\\polyglot\\deps\\The-Spiral-Language\\The Spiral Language 2\\artifacts\\bin\\The Spiral Language 2\\release\r\n",
      "00:02:04 verbose #96 > 00:00:00 debug   #3 targetDir: C:\\home\\git\\polyglot\\target/polyglot/spiral_eval\r\n",
      "00:02:05 verbose #97 > Starting the Spiral Server. It is bound to: http://localhost:13805\r\n",
      "00:02:01 verbose #152 sendJson / port: 13805 / json: {\"Ping\":true} / result:\r\n",
      "00:02:01 verbose #153 awaitCompiler / Ping / result: 'Some(null)' / port: 13805 / retry: 0\r\n",
      "00:02:05 verbose #98 > Server bound to: http://localhost:13805\r\n",
      "00:02:01 verbose #154 sendJson / port: 13805 / json: {\"FileOpen\":{\"spiText\":\"inl main () = 1i32\",\"uri\":\"file:///c:/home/git/polyglot/target/polyglot/spiral_eval/packages/9df95a2f18642bd8d2f682f6edb6cef45c30ca9c616b33ebb0e5577eed14871c/main.spi\"}} / result:\r\n",
      "00:02:02 verbose #155 sendJson / port: 13805 / json: {\"FileTokenRange\":{\"range\":[{\"character\":0,\"line\":0},{\"character\":18,\"line\":0}],\"uri\":\"file:///c:/ho...ot/spiral_eval/packages/9df95a2f18642bd8d2f682f6edb6cef45c30ca9c616b33ebb0e5577eed14871c/main.spi\"}} / result: Some([\r\n",
      "  0,\r\n",
      "  0,\r\n",
      "  3,\r\n",
      "  7,\r\n",
      "  0,\r\n",
      "  0,\r\n",
      "  4,\r\n",
      "  4,\r\n",
      "  0,\r\n",
      "  0,\r\n",
      "  0,\r\n",
      "  5,\r\n",
      "  1,\r\n",
      "  8,\r\n",
      "  0,\r\n",
      "  0,\r\n",
      " ...,\r\n",
      "  0,\r\n",
      "  0,\r\n",
      "  2,\r\n",
      "  1,\r\n",
      "  4,\r\n",
      "  0,\r\n",
      "  0,\r\n",
      "  2,\r\n",
      "  1,\r\n",
      "  3,\r\n",
      "  0,\r\n",
      "  0,\r\n",
      "  1,\r\n",
      "  3,\r\n",
      "  12,\r\n",
      "  0\r\n",
      "])\r\n",
      "00:02:02 verbose #156 sendJson / port: 13805 / json: {\"FileDelete\":{\"uris\":[\"file:///c:/home/git/polyglot/target/polyglot/spiral_eval/packages/9df95a2f18642bd8d2f682f6edb6cef45c30ca9c616b33ebb0e5577eed14871c\"]}} / result:\r\n",
      "00:02:10 verbose #41 wait_for_port_access / port: 13805 / retry: 0 / timeout: Some 3000 / status: False\r\n",
      "00:02:12 verbose #42 test_port_open / ex: System.AggregateException: One or more errors occurred. (No connection could be made because the target machine actively refused it.)\r\n",
      "Some [|0; 0; 3; 7; 0; 0; 4; 4; 0; 0; 0; 5; 1; 8; 0; 0; 1; 1; 8; 0; 0; 2; 1; 4; 0; 0; 2; 1; 3; 0; 0; 1; 3; 12; 0|]\r\n",
      "\r\n"
     ]
    }
   ],
   "source": [
    "//// test\n",
    "\n",
    "\"\"\"inl main () = 1i32\"\"\"\n",
    "|> getCodeTokenRange None\n",
    "|> Async.runWithTimeout 10000\n",
    "|> Option.flatten\n",
    "|> _assertEqual (Some [| 0; 0; 3; 7; 0; 0; 4; 4; 0; 0; 0; 5; 1; 8; 0; 0; 1; 1; 8; 0; 0; 2; 1; 4; 0; 0;\n",
    "2; 1; 3; 0; 0; 1; 3; 12; 0 |])"
   ]
  },
  {
   "cell_type": "markdown",
   "metadata": {},
   "source": [
    "## Arguments"
   ]
  },
  {
   "cell_type": "code",
   "execution_count": null,
   "metadata": {
    "dotnet_interactive": {
     "language": "fsharp"
    },
    "polyglot_notebook": {
     "kernelName": "fsharp"
    }
   },
   "outputs": [],
   "source": [
    "[<RequireQualifiedAccess>]\n",
    "type Arguments =\n",
    "    | Build_File of string * string\n",
    "    | File_Token_Range of string * string\n",
    "    | Execute_Command of string\n",
    "    | [<Argu.ArguAttributes.Unique>] Timeout of int\n",
    "    | [<Argu.ArguAttributes.Unique>] Port of int\n",
    "    | [<Argu.ArguAttributes.Unique>] Parallel\n",
    "\n",
    "    interface Argu.IArgParserTemplate with\n",
    "        member s.Usage =\n",
    "            match s with\n",
    "            | Build_File _ -> nameof Build_File\n",
    "            | File_Token_Range _ -> nameof File_Token_Range\n",
    "            | Execute_Command _ -> nameof Execute_Command\n",
    "            | Timeout _ -> nameof Timeout\n",
    "            | Port _ -> nameof Port\n",
    "            | Parallel -> nameof Parallel"
   ]
  },
  {
   "cell_type": "code",
   "execution_count": null,
   "metadata": {
    "dotnet_interactive": {
     "language": "fsharp"
    },
    "polyglot_notebook": {
     "kernelName": "fsharp"
    }
   },
   "outputs": [
    {
     "data": {
      "text/plain": [
       "\"USAGE: dotnet-repl [--help] [--build-file <string> <string>]\r\n",
       "                   [--file-token-range <string> <string>]\r\n",
       "                   [--execute-command <string>] [--timeout <int>] [--port <int>]\r\n",
       "                   [--parallel]\r\n",
       "\r\n",
       "OPTIONS:\r\n",
       "\r\n",
       "    --build-file <string> <string>\r\n",
       "                          Build_File\r\n",
       "    --file-token-range <string> <string>\r\n",
       "                          File_Token_Range\r\n",
       "    --execute-command <string>\r\n",
       "                          Execute_Command\r\n",
       "    --timeout <int>       Timeout\r\n",
       "    --port <int>          Port\r\n",
       "    --parallel            Parallel\r\n",
       "    --help                display this list of options.\r\n",
       "\"\r\n"
      ]
     },
     "metadata": {},
     "output_type": "display_data"
    }
   ],
   "source": [
    "//// test\n",
    "\n",
    "Argu.ArgumentParser.Create<Arguments>().PrintUsage ()"
   ]
  },
  {
   "cell_type": "markdown",
   "metadata": {},
   "source": [
    "## main"
   ]
  },
  {
   "cell_type": "code",
   "execution_count": null,
   "metadata": {
    "dotnet_interactive": {
     "language": "fsharp"
    },
    "polyglot_notebook": {
     "kernelName": "fsharp"
    }
   },
   "outputs": [],
   "source": [
    "let main args =\n",
    "    let argsMap = args |> Runtime.parseArgsMap<Arguments>\n",
    "\n",
    "    let buildFileActions =\n",
    "        argsMap\n",
    "        |> Map.tryFind (nameof Arguments.Build_File)\n",
    "        |> Option.defaultValue []\n",
    "        |> List.choose (function\n",
    "            | Arguments.Build_File (inputPath, outputPath) -> Some (inputPath, outputPath)\n",
    "            | _ -> None\n",
    "        )\n",
    "\n",
    "    let fileTokenRangeActions =\n",
    "        argsMap\n",
    "        |> Map.tryFind (nameof Arguments.File_Token_Range)\n",
    "        |> Option.defaultValue []\n",
    "        |> List.choose (function\n",
    "            | Arguments.File_Token_Range (inputPath, outputPath) -> Some (inputPath, outputPath)\n",
    "            | _ -> None\n",
    "        )\n",
    "\n",
    "    let executeCommandActions =\n",
    "        argsMap\n",
    "        |> Map.tryFind (nameof Arguments.Execute_Command)\n",
    "        |> Option.defaultValue []\n",
    "        |> List.choose (function\n",
    "            | Arguments.Execute_Command command -> Some command\n",
    "            | _ -> None\n",
    "        )\n",
    "\n",
    "    let timeout =\n",
    "        match argsMap |> Map.tryFind (nameof Arguments.Timeout) with\n",
    "        | Some [ Arguments.Timeout timeout ] -> timeout\n",
    "        | _ -> 60000 * 60\n",
    "\n",
    "    let port =\n",
    "        match argsMap |> Map.tryFind (nameof Arguments.Port) with\n",
    "        | Some [ Arguments.Port port ] -> Some port\n",
    "        | _ -> None\n",
    "\n",
    "    let isParallel = argsMap |> Map.containsKey (nameof Arguments.Parallel)\n",
    "\n",
    "    async {\n",
    "        let port = port |> Option.defaultWith getCompilerPort\n",
    "        let struct (localToken, disposable) = SpiralThreading.new_disposable_token None\n",
    "        let! serverPort, _errors, compilerToken, disposable = awaitCompiler port (Some localToken)\n",
    "        use _ = disposable\n",
    "\n",
    "        let buildFileAsync =\n",
    "            buildFileActions\n",
    "            |> List.map (fun (inputPath, outputPath) -> async {\n",
    "                let! outputCode, errors = inputPath |> buildFile timeout serverPort None\n",
    "\n",
    "                errors\n",
    "                |> List.map snd\n",
    "                |> List.iter (fun error ->\n",
    "                    trace Critical (fun () -> $\"main / error: {error |> serializeObj}\") _locals\n",
    "                )\n",
    "\n",
    "                match outputCode with\n",
    "                | Some outputCode ->\n",
    "                    do! outputCode |> SpiralFileSystem.write_all_text_async outputPath\n",
    "                    return 0\n",
    "                | None ->\n",
    "                    return 1\n",
    "            })\n",
    "\n",
    "        let fileTokenRangeAsync =\n",
    "            fileTokenRangeActions\n",
    "            |> List.map (fun (inputPath, outputPath) -> async {\n",
    "                let! tokenRange = inputPath |> getFileTokenRange (Some serverPort) None\n",
    "                match tokenRange with\n",
    "                | Some tokenRange ->\n",
    "                    do! tokenRange |> FSharp.Json.Json.serialize |> SpiralFileSystem.write_all_text_async outputPath\n",
    "                    return 0\n",
    "                | None ->\n",
    "                    return 1\n",
    "            })\n",
    "\n",
    "        let executeCommandAsync =\n",
    "            executeCommandActions\n",
    "            |> List.map (fun command -> async {\n",
    "                let! exitCode, result =\n",
    "                    SpiralRuntime.execution_options (fun x ->\n",
    "                        { x with\n",
    "                            l0 = Some compilerToken\n",
    "                            l1 = command\n",
    "                        }\n",
    "                    )\n",
    "                    |> SpiralRuntime.execute_with_options_async\n",
    "\n",
    "                trace Debug (fun () -> $\"main / executeCommand / exitCode: {exitCode}\") _locals\n",
    "\n",
    "                return exitCode\n",
    "            })\n",
    "\n",
    "        return!\n",
    "            [| buildFileAsync; fileTokenRangeAsync; executeCommandAsync |]\n",
    "            |> Seq.collect id\n",
    "            |> fun x ->\n",
    "                if isParallel\n",
    "                then Async.Parallel (x, float System.Environment.ProcessorCount * 0.51 |> ceil |> int)\n",
    "                else Async.Sequential x\n",
    "            |> Async.map Array.sum\n",
    "    }\n",
    "    |> Async.runWithTimeout timeout\n",
    "    |> Option.defaultValue 1"
   ]
  },
  {
   "cell_type": "code",
   "execution_count": null,
   "metadata": {
    "dotnet_interactive": {
     "language": "fsharp"
    },
    "polyglot_notebook": {
     "kernelName": "fsharp"
    }
   },
   "outputs": [
    {
     "data": {
      "text/html": [
       "<div class=\"dni-plaintext\"><pre>0\r\n",
       "</pre></div><style>\r\n",
       ".dni-code-hint {\r\n",
       "    font-style: italic;\r\n",
       "    overflow: hidden;\r\n",
       "    white-space: nowrap;\r\n",
       "}\r\n",
       ".dni-treeview {\r\n",
       "    white-space: nowrap;\r\n",
       "}\r\n",
       ".dni-treeview td {\r\n",
       "    vertical-align: top;\r\n",
       "    text-align: start;\r\n",
       "}\r\n",
       "details.dni-treeview {\r\n",
       "    padding-left: 1em;\r\n",
       "}\r\n",
       "table td {\r\n",
       "    text-align: start;\r\n",
       "}\r\n",
       "table tr { \r\n",
       "    vertical-align: top; \r\n",
       "    margin: 0em 0px;\r\n",
       "}\r\n",
       "table tr td pre \r\n",
       "{ \r\n",
       "    vertical-align: top !important; \r\n",
       "    margin: 0em 0px !important;\r\n",
       "} \r\n",
       "table th {\r\n",
       "    text-align: start;\r\n",
       "}\r\n",
       "</style>"
      ]
     },
     "metadata": {},
     "output_type": "display_data"
    }
   ],
   "source": [
    "//// test\n",
    "\n",
    "let args =\n",
    "    System.Environment.GetEnvironmentVariable \"ARGS\"\n",
    "    |> SpiralRuntime.split_args\n",
    "    |> Seq.toArray\n",
    "\n",
    "match args with\n",
    "| [||] -> 0\n",
    "| args -> if main args = 0 then 0 else failwith \"main failed\""
   ]
  }
 ],
 "metadata": {},
 "nbformat": 4,
 "nbformat_minor": 5
}