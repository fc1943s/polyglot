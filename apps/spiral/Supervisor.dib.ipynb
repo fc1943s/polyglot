{
 "cells": [
  {
   "cell_type": "markdown",
   "metadata": {},
   "source": [
    "# Supervisor (Polyglot)"
   ]
  },
  {
   "cell_type": "code",
   "execution_count": null,
   "metadata": {
    "dotnet_interactive": {
     "language": "fsharp"
    },
    "polyglot_notebook": {
     "kernelName": "fsharp"
    }
   },
   "outputs": [],
   "source": [
    "#!import ../../lib/fsharp/Notebooks.dib\n",
    "#!import ../../lib/fsharp/Testing.dib"
   ]
  },
  {
   "cell_type": "code",
   "execution_count": null,
   "metadata": {
    "dotnet_interactive": {
     "language": "fsharp"
    },
    "polyglot_notebook": {
     "kernelName": "fsharp"
    }
   },
   "outputs": [],
   "source": [
    "#r @\"../../../../../../../.nuget/packages/fsharp.control.asyncseq/3.2.1/lib/netstandard2.1/FSharp.Control.AsyncSeq.dll\"\n",
    "#r @\"../../../../../../../.nuget/packages/system.reactive/6.0.1-preview.1/lib/net6.0/System.Reactive.dll\"\n",
    "#r @\"../../../../../../../.nuget/packages/system.reactive.linq/6.0.1-preview.1/lib/netstandard2.0/System.Reactive.Linq.dll\"\n",
    "#r @\"../../../../../../../.nuget/packages/argu/6.2.2/lib/netstandard2.0/Argu.dll\"\n",
    "#r @\"../../../../../../../.nuget/packages/system.commandline/2.0.0-beta4.22272.1/lib/net6.0/System.CommandLine.dll\"\n",
    "#r @\"../../../../../../../.nuget/packages/microsoft.aspnetcore.http.connections.common/7.0.0/lib/net7.0/Microsoft.AspNetCore.Http.Connections.Common.dll\"\n",
    "#r @\"../../../../../../../.nuget/packages/microsoft.aspnetcore.http.connections.client/7.0.0/lib/net7.0/Microsoft.AspNetCore.Http.Connections.Client.dll\"\n",
    "#r @\"../../../../../../../.nuget/packages/microsoft.aspnetcore.signalr.common/7.0.0/lib/net7.0/Microsoft.AspNetCore.SignalR.Common.dll\"\n",
    "#r @\"../../../../../../../.nuget/packages/microsoft.aspnetcore.signalr.client/7.0.0/lib/net7.0/Microsoft.AspNetCore.SignalR.Client.dll\"\n",
    "#r @\"../../../../../../../.nuget/packages/microsoft.aspnetcore.signalr.client.core/7.0.0/lib/net7.0/Microsoft.AspNetCore.SignalR.Client.Core.dll\"\n",
    "#r @\"../../../../../../../.nuget/packages/fsharp.json/0.4.1/lib/netstandard2.0/FSharp.Json.dll\""
   ]
  },
  {
   "cell_type": "code",
   "execution_count": null,
   "metadata": {
    "dotnet_interactive": {
     "language": "fsharp"
    },
    "polyglot_notebook": {
     "kernelName": "fsharp"
    }
   },
   "outputs": [],
   "source": [
    "#!import ../../lib/spiral/common.fsx\n",
    "#!import ../../lib/spiral/sm.fsx\n",
    "#!import ../../lib/spiral/date_time.fsx\n",
    "#!import ../../lib/spiral/file_system.fsx\n",
    "#!import ../../lib/spiral/lib.fsx\n",
    "#!import ../../lib/fsharp/Common.fs\n",
    "#!import ../../lib/fsharp/CommonFSharp.fs\n",
    "#!import ../../lib/fsharp/Threading.fs\n",
    "#!import ../../lib/fsharp/Async.fs\n",
    "#!import ../../lib/fsharp/AsyncSeq.fs\n",
    "#!import ../../lib/fsharp/Networking.fs\n",
    "#!import ../../lib/fsharp/Runtime.fs\n",
    "#!import ../../lib/fsharp/FileSystem.fs"
   ]
  },
  {
   "cell_type": "code",
   "execution_count": null,
   "metadata": {
    "dotnet_interactive": {
     "language": "fsharp"
    },
    "polyglot_notebook": {
     "kernelName": "fsharp"
    }
   },
   "outputs": [],
   "source": [
    "#if !INTERACTIVE\n",
    "open Lib\n",
    "#endif"
   ]
  },
  {
   "cell_type": "code",
   "execution_count": null,
   "metadata": {
    "dotnet_interactive": {
     "language": "fsharp"
    },
    "polyglot_notebook": {
     "kernelName": "fsharp"
    }
   },
   "outputs": [],
   "source": [
    "open Common\n",
    "open FileSystem.Operators\n",
    "open Microsoft.AspNetCore.SignalR.Client"
   ]
  },
  {
   "cell_type": "markdown",
   "metadata": {},
   "source": [
    "## sendJson"
   ]
  },
  {
   "cell_type": "code",
   "execution_count": null,
   "metadata": {
    "dotnet_interactive": {
     "language": "fsharp"
    },
    "polyglot_notebook": {
     "kernelName": "fsharp"
    }
   },
   "outputs": [],
   "source": [
    "let inline sendJson (port : int) (json : string) = async {\n",
    "    let! portOpen = Networking.testPortOpen port\n",
    "    if portOpen then\n",
    "        try\n",
    "            let connection = HubConnectionBuilder().WithUrl($\"http://127.0.0.1:{port}\").Build()\n",
    "            do! connection.StartAsync () |> Async.AwaitTask\n",
    "            let! result = connection.InvokeAsync<string>(\"ClientToServerMsg\", json) |> Async.AwaitTask\n",
    "            do! connection.StopAsync () |> Async.AwaitTask\n",
    "            trace Debug (fun () -> $\"sendJson / port: {port} / json: {json} / result.Length: {result |> Option.ofObj |> Option.map String.length}\") getLocals\n",
    "            return Some result\n",
    "        with ex ->\n",
    "            trace Critical (fun () -> $\"sendJson / port: {port} / json: {json} / ex: {ex |> Sm.format_exception}\") getLocals\n",
    "            return None\n",
    "    else\n",
    "        trace Debug (fun () -> \"sendJson / error: port not open\") getLocals\n",
    "        return None\n",
    "}"
   ]
  },
  {
   "cell_type": "markdown",
   "metadata": {},
   "source": [
    "## sendObj"
   ]
  },
  {
   "cell_type": "code",
   "execution_count": null,
   "metadata": {
    "dotnet_interactive": {
     "language": "fsharp"
    },
    "polyglot_notebook": {
     "kernelName": "fsharp"
    }
   },
   "outputs": [],
   "source": [
    "let inline sendObj port obj =\n",
    "    obj\n",
    "    |> System.Text.Json.JsonSerializer.Serialize\n",
    "    |> sendJson port"
   ]
  },
  {
   "cell_type": "markdown",
   "metadata": {},
   "source": [
    "## awaitCompiler"
   ]
  },
  {
   "cell_type": "code",
   "execution_count": null,
   "metadata": {
    "dotnet_interactive": {
     "language": "fsharp"
    },
    "polyglot_notebook": {
     "kernelName": "fsharp"
    }
   },
   "outputs": [],
   "source": [
    "type VSCPos = {| line : int; character : int |}\n",
    "type VSCRange = VSCPos * VSCPos\n",
    "type RString = VSCRange * string\n",
    "type TracedError = {| trace : string list; message : string |}\n",
    "type ClientErrorsRes =\n",
    "    | FatalError of string\n",
    "    | TracedError of TracedError\n",
    "    | PackageErrors of {| uri : string; errors : RString list |}\n",
    "    | TokenizerErrors of {| uri : string; errors : RString list |}\n",
    "    | ParserErrors of {| uri : string; errors : RString list |}\n",
    "    | TypeErrors of {| uri : string; errors : RString list |}"
   ]
  },
  {
   "cell_type": "code",
   "execution_count": null,
   "metadata": {
    "dotnet_interactive": {
     "language": "fsharp"
    },
    "polyglot_notebook": {
     "kernelName": "fsharp"
    }
   },
   "outputs": [],
   "source": [
    "let inline awaitCompiler port cancellationToken = async {\n",
    "    let ct, disposable = cancellationToken |> Threading.newDisposableToken\n",
    "    let! ct = ct |> Async.mergeCancellationTokenWithDefaultAsync\n",
    "\n",
    "    let compiler = MailboxProcessor.Start (fun inbox -> async {\n",
    "        let! availablePort = Networking.getAvailablePort (Some 60) port\n",
    "        if availablePort <> port then\n",
    "            inbox.Post (port, false)\n",
    "        else\n",
    "            let repositoryRoot = FileSystem.getSourceDirectory () |> FileSystem.findParent \".paket\" false\n",
    "\n",
    "            let compilerPath =\n",
    "                repositoryRoot </> \"deps/The-Spiral-Language/The Spiral Language 2/artifacts/bin/The Spiral Language 2/release\"\n",
    "                |> System.IO.Path.GetFullPath\n",
    "\n",
    "            let dllPath = compilerPath </> \"Spiral.dll\"\n",
    "\n",
    "            let! exitCode, result =\n",
    "                Runtime.executeWithOptionsAsync\n",
    "                    {\n",
    "                        Command = $@\"dotnet \"\"{dllPath}\"\" --port {availablePort} --default-int i32 --default-float f64\"\n",
    "                        CancellationToken = Some ct\n",
    "                        WorkingDirectory = None\n",
    "                        OnLine = Some <| fun { Line = line } -> async {\n",
    "                            if line |> Sm.contains $\"Server bound to: http://localhost:{availablePort}\" then\n",
    "                                do! Networking.waitForPortAccess (Some 500) true availablePort |> Async.Ignore\n",
    "\n",
    "                                let rec loop retry = async {\n",
    "                                    let getLocals () = $\"port: {availablePort} / retry: {retry} / {getLocals ()}\"\n",
    "                                    try\n",
    "                                        let pingObj = {| Ping = true |}\n",
    "                                        let! pingResult = pingObj |> sendObj availablePort\n",
    "                                        trace Verbose (fun () -> $\"awaitCompiler / Ping / result: {pingResult}\") getLocals\n",
    "                                    with ex ->\n",
    "                                        trace Verbose (fun () -> $\"awaitCompiler / Ping / ex: {ex |> Sm.format_exception}\") getLocals\n",
    "                                        do! Async.Sleep 10\n",
    "                                        do! loop (retry + 1)\n",
    "                                }\n",
    "                                do! loop 0\n",
    "                                inbox.Post (availablePort, true)\n",
    "                        }\n",
    "                    }\n",
    "            trace Debug (fun () -> $\"awaitCompiler / exitCode: {exitCode} / result: {result}\") getLocals\n",
    "            disposable.Dispose ()\n",
    "    }, ct)\n",
    "\n",
    "    let! serverPort, managed = compiler.Receive ()\n",
    "\n",
    "    let connection = HubConnectionBuilder().WithUrl($\"http://127.0.0.1:{serverPort}\").Build ()\n",
    "    do! connection.StartAsync () |> Async.AwaitTask\n",
    "\n",
    "    let event = Event<_> ()\n",
    "    let disposable' = connection.On<string> (\"ServerToClientMsg\", event.Trigger)\n",
    "    let stream =\n",
    "        FSharp.Control.AsyncSeq.unfoldAsync\n",
    "            (fun () -> async {\n",
    "                let! msg = event.Publish |> Async.AwaitEvent\n",
    "                return Some (msg |> FSharp.Json.Json.deserialize<ClientErrorsRes>, ())\n",
    "            })\n",
    "            ()\n",
    "\n",
    "    let disposable' =\n",
    "        new_disposable (fun () ->\n",
    "            async {\n",
    "                disposable'.Dispose ()\n",
    "                do! connection.StopAsync () |> Async.AwaitTask\n",
    "                disposable.Dispose ()\n",
    "                if managed\n",
    "                then do! Networking.waitForPortAccess (Some 2000) false serverPort |> Async.Ignore\n",
    "            }\n",
    "            |> Async.RunSynchronously\n",
    "        )\n",
    "\n",
    "    return\n",
    "        serverPort,\n",
    "        stream,\n",
    "        ct,\n",
    "        disposable'\n",
    "}"
   ]
  },
  {
   "cell_type": "markdown",
   "metadata": {},
   "source": [
    "## getFileUri"
   ]
  },
  {
   "cell_type": "code",
   "execution_count": null,
   "metadata": {
    "dotnet_interactive": {
     "language": "fsharp"
    },
    "polyglot_notebook": {
     "kernelName": "fsharp"
    }
   },
   "outputs": [],
   "source": [
    "let inline getFileUri (path : string) =\n",
    "    let path =\n",
    "        if Runtime.isWindows () |> not\n",
    "        then path\n",
    "        else $\"{path.[0] |> System.Char.ToLower}{path.[1..]}\" |> Sm.replace \"\\\\\" \"/\"\n",
    "    $\"file:///{path |> Sm.trim_start [| '/' |]}\""
   ]
  },
  {
   "cell_type": "code",
   "execution_count": null,
   "metadata": {
    "dotnet_interactive": {
     "language": "fsharp"
    },
    "polyglot_notebook": {
     "kernelName": "fsharp"
    }
   },
   "outputs": [],
   "source": [
    "let inline getFilePathFromUri uri =\n",
    "    match System.Uri.TryCreate (uri, System.UriKind.Absolute) with\n",
    "    | true, uri -> uri.AbsolutePath |> System.IO.Path.GetFullPath\n",
    "    | _ -> failwith \"invalid uri\""
   ]
  },
  {
   "cell_type": "code",
   "execution_count": null,
   "metadata": {
    "dotnet_interactive": {
     "language": "fsharp"
    },
    "polyglot_notebook": {
     "kernelName": "fsharp"
    }
   },
   "outputs": [],
   "source": [
    "let inline getCompilerPort () =\n",
    "    13805"
   ]
  },
  {
   "cell_type": "markdown",
   "metadata": {},
   "source": [
    "## serialize_obj"
   ]
  },
  {
   "cell_type": "code",
   "execution_count": null,
   "metadata": {
    "dotnet_interactive": {
     "language": "fsharp"
    },
    "polyglot_notebook": {
     "kernelName": "fsharp"
    }
   },
   "outputs": [],
   "source": [
    "    let serializeObj obj =\n",
    "        obj\n",
    "        |> FSharp.Json.Json.serialize\n",
    "        |> Sm.replace \"\\\\\\\\\" \"\\\\\"\n",
    "        |> Sm.replace \"\\\\r\\\\n\" \"\\n\"\n",
    "        |> Sm.replace \"\\\\n\" \"\\n\""
   ]
  },
  {
   "cell_type": "markdown",
   "metadata": {},
   "source": [
    "## buildFile"
   ]
  },
  {
   "cell_type": "code",
   "execution_count": null,
   "metadata": {
    "dotnet_interactive": {
     "language": "fsharp"
    },
    "polyglot_notebook": {
     "kernelName": "fsharp"
    }
   },
   "outputs": [],
   "source": [
    "let inline buildFile timeout port cancellationToken path = async {\n",
    "    let fullPath = path |> System.IO.Path.GetFullPath\n",
    "    let fileDir = fullPath |> System.IO.Path.GetDirectoryName\n",
    "    let fileName = fullPath |> System.IO.Path.GetFileNameWithoutExtension\n",
    "    let! code = fullPath |> FileSystem.readAllTextAsync\n",
    "\n",
    "    let eventFilter = function\n",
    "        | FileSystem.FileSystemChange.Changed (path, _) when path = $\"{fileName}.fsx\" -> true\n",
    "        | _ -> false\n",
    "\n",
    "    let stream, disposable = fileDir |> FileSystem.watchDirectory eventFilter\n",
    "    use _ = disposable\n",
    "\n",
    "    let token, disposable = Threading.newDisposableToken cancellationToken\n",
    "    use _ = disposable\n",
    "\n",
    "    let! serverPort, errors, ct, disposable = awaitCompiler port (Some token)\n",
    "    use _ = disposable\n",
    "\n",
    "    let fsxContentSeq =\n",
    "        stream\n",
    "        |> FSharp.Control.AsyncSeq.choose (function\n",
    "            | _, (FileSystem.FileSystemChange.Changed (path, Some content) as event)\n",
    "                when event |> eventFilter\n",
    "                ->\n",
    "                Some content\n",
    "            | _ -> None\n",
    "        )\n",
    "        |> FSharp.Control.AsyncSeq.map (fun content ->\n",
    "            Some (content |> Sm.replace \"\\r\\n\" \"\\n\"), None\n",
    "        )\n",
    "\n",
    "    let inline printErrorData (data : {| uri : string; errors : RString list |}) =\n",
    "        let fileName = data.uri |> System.IO.Path.GetFileName\n",
    "        let errors =\n",
    "            data.errors\n",
    "            |> List.map snd\n",
    "            |> Sm.concat \"\\n\"\n",
    "        $\"{fileName}:\\n{errors}\"\n",
    "\n",
    "    let errorsSeq =\n",
    "        errors\n",
    "        |> FSharp.Control.AsyncSeq.choose (fun error ->\n",
    "            match error with\n",
    "            | FatalError message ->\n",
    "                Some (message, error)\n",
    "            | TracedError data ->\n",
    "                Some (data.message, error)\n",
    "            | PackageErrors data when data.errors |> List.isEmpty |> not ->\n",
    "                Some (data |> printErrorData, error)\n",
    "            | TokenizerErrors data when data.errors |> List.isEmpty |> not ->\n",
    "                Some (data |> printErrorData, error)\n",
    "            | ParserErrors data when data.errors |> List.isEmpty |> not ->\n",
    "                Some (data |> printErrorData, error)\n",
    "            | TypeErrors data when data.errors |> List.isEmpty |> not ->\n",
    "                Some (data |> printErrorData, error)\n",
    "            | _ -> None\n",
    "        )\n",
    "        |> FSharp.Control.AsyncSeq.map (fun (message, error) ->\n",
    "            None, Some (message, error)\n",
    "        )\n",
    "\n",
    "    let timerSeq =\n",
    "        1000\n",
    "        |> FSharp.Control.AsyncSeq.intervalMs\n",
    "        |> FSharp.Control.AsyncSeq.map (fun _ -> None, None)\n",
    "\n",
    "    let outputSeq =\n",
    "        [ fsxContentSeq; errorsSeq; timerSeq ]\n",
    "        |> FSharp.Control.AsyncSeq.mergeAll\n",
    "\n",
    "    let! outputChild =\n",
    "        ((None, [], 0), outputSeq)\n",
    "        ||> FSharp.Control.AsyncSeq.scan (\n",
    "            fun (fsxContentResult, errors, typeErrorCount) (fsxContent, error) ->\n",
    "                match fsxContent, error with\n",
    "                | Some fsxContent, None -> Some fsxContent, errors, typeErrorCount\n",
    "                | None, Some (_, FatalError \"File main has a type error somewhere in its path.\") ->\n",
    "                    fsxContentResult, errors, typeErrorCount + 1\n",
    "                | None, Some error -> fsxContentResult, error :: errors, typeErrorCount\n",
    "                | None, None when typeErrorCount >= 1 ->\n",
    "                    fsxContentResult, errors, typeErrorCount + 1\n",
    "                | _ -> fsxContentResult, errors, typeErrorCount\n",
    "        )\n",
    "        |> FSharp.Control.AsyncSeq.takeWhileInclusive (fun (fsxContent, errors, typeErrorCount) ->\n",
    "            trace Debug (fun () -> $\"buildFile / takeWhileInclusive / fsxContent: {fsxContent |> Option.defaultValue System.String.Empty |> Sm.ellipsis 750} / errors: {errors |> serializeObj} / typeErrorCount: {typeErrorCount}\") getLocals\n",
    "            match fsxContent, errors with\n",
    "            | None, [] when typeErrorCount > 2 -> false\n",
    "            | None, [] -> true\n",
    "            | _ -> false\n",
    "        )\n",
    "        |> FSharp.Control.AsyncSeq.tryLast\n",
    "        |> Async.withCancellationToken ct\n",
    "        |> Async.catch\n",
    "        |> Async.runWithTimeoutAsync timeout\n",
    "        |> Async.StartChild\n",
    "\n",
    "    let fileOpenObj = {| FileOpen = {| uri = fullPath |> getFileUri; spiText = code |} |}\n",
    "    let! _fileOpenResult = fileOpenObj |> sendObj serverPort\n",
    "\n",
    "    do! Async.Sleep 60\n",
    "\n",
    "    let buildFileObj = {| BuildFile = {| uri = fullPath |> getFileUri; backend = \"Fsharp\" |} |}\n",
    "    let! _buildFileResult = buildFileObj |> sendObj serverPort\n",
    "\n",
    "    return!\n",
    "        outputChild\n",
    "        |> Async.map (function\n",
    "            | Some (Ok (Some (message, errors, _))) ->\n",
    "                message, errors |> List.distinct |> List.rev\n",
    "            | Some (Error ex) ->\n",
    "                trace Critical (fun () -> $\"buildFile / error: {ex |> serializeObj}\") getLocals\n",
    "                None, []\n",
    "            | _ -> None, []\n",
    "        )\n",
    "}"
   ]
  },
  {
   "cell_type": "markdown",
   "metadata": {},
   "source": [
    "## persistCode"
   ]
  },
  {
   "cell_type": "code",
   "execution_count": null,
   "metadata": {
    "dotnet_interactive": {
     "language": "fsharp"
    },
    "polyglot_notebook": {
     "kernelName": "fsharp"
    }
   },
   "outputs": [],
   "source": [
    "let inline persistCode code = async {\n",
    "    let tempDir = FileSystem.createTempDirectory ()\n",
    "\n",
    "    let mainPath = tempDir </> \"main.spi\"\n",
    "    do! code |> FileSystem.writeAllTextAsync mainPath\n",
    "\n",
    "    let repositoryRoot = FileSystem.getSourceDirectory () |> FileSystem.findParent \".paket\" false\n",
    "\n",
    "    let spiprojPath = tempDir </> \"package.spiproj\"\n",
    "    let spiprojCode =\n",
    "        $\"\"\"packageDir: {repositoryRoot </> \"lib\"}\n",
    "packages:\n",
    "    |core-\n",
    "    spiral-\n",
    "modules:\n",
    "    main\n",
    "\"\"\"\n",
    "    do! spiprojCode |> FileSystem.writeAllTextAsync spiprojPath\n",
    "\n",
    "    let disposable = new_disposable (fun () ->\n",
    "        ()\n",
    "        // tempDir |> FileSystem.deleteDirectoryAsync |> Async.Ignore |> Async.RunSynchronously\n",
    "    )\n",
    "\n",
    "    return mainPath, disposable\n",
    "}"
   ]
  },
  {
   "cell_type": "markdown",
   "metadata": {},
   "source": [
    "## buildCode"
   ]
  },
  {
   "cell_type": "code",
   "execution_count": null,
   "metadata": {
    "dotnet_interactive": {
     "language": "fsharp"
    },
    "polyglot_notebook": {
     "kernelName": "fsharp"
    }
   },
   "outputs": [],
   "source": [
    "let inline buildCode timeout cancellationToken code = async {\n",
    "    let! mainPath, disposable = persistCode code\n",
    "    use _ = disposable\n",
    "    let port = getCompilerPort ()\n",
    "    return! mainPath |> buildFile timeout port cancellationToken\n",
    "}"
   ]
  },
  {
   "cell_type": "code",
   "execution_count": null,
   "metadata": {
    "dotnet_interactive": {
     "language": "fsharp"
    },
    "polyglot_notebook": {
     "kernelName": "fsharp"
    }
   },
   "outputs": [],
   "source": [
    "//// test\n",
    "\n",
    "let buildCode timeout cancellationToken code = buildCode timeout cancellationToken code"
   ]
  },
  {
   "cell_type": "code",
   "execution_count": null,
   "metadata": {
    "dotnet_interactive": {
     "language": "fsharp"
    },
    "polyglot_notebook": {
     "kernelName": "fsharp"
    }
   },
   "outputs": [
    {
     "name": "stdout",
     "output_type": "stream",
     "text": [
      "00:00:00 #1 [Debug] runWithTimeoutAsync / timeout: 60\r\n",
      "00:00:00 #2 [Debug] executeAsync / options: { Command =\n",
      "   \"dotnet \"C:\\home\\git\\polyglot\\deps\\The-Spiral-Language\\The Spiral Language 2\\artifacts\\bin\\The Spiral Language 2\\release\\Spiral.dll\" --port 13805 --default-int i32 --default-float f64\"\n",
      "  WorkingDirectory = None\n",
      "  CancellationToken = Some System.Threading.CancellationToken\n",
      "  OnLine = Some <fun:buildCode@3-1070> }\r\n",
      "00:00:00 #3 [Verbose] > pwd: C:\\home\\git\\polyglot\\apps\\spiral\r\n",
      "00:00:00 #4 [Verbose] > dll_path: C:\\home\\git\\polyglot\\deps\\The-Spiral-Language\\The Spiral Language 2\\artifacts\\bin\\The Spiral Language 2\\release\r\n",
      "00:00:00 #5 [Verbose] > Starting the Spiral Server. It is bound to: http://localhost:13805\r\n",
      "00:00:00 #6 [Debug] runWithTimeoutAsync / timeout: 500\r\n",
      "00:00:00 #7 [Verbose] waitForPortAccess / port: 13805 / retry: 0\r\n",
      "00:00:01 #8 [Debug] sendJson / port: 13805 / json: {\"Ping\":true} / result.Length:\r\n",
      "00:00:01 #9 [Verbose] awaitCompiler / Ping / result: Some(null) / port: 13805 / retry: 0\r\n",
      "00:00:01 #10 [Verbose] > Server bound to: http://localhost:13805\r\n",
      "00:00:01 #11 [Debug] buildFile / takeWhileInclusive / fsxContent:  / errors: [] / typeErrorCount: 0\r\n",
      "00:00:01 #12 [Debug] buildFile / takeWhileInclusive / fsxContent:  / errors: [] / typeErrorCount: 0\r\n",
      "00:00:01 #13 [Debug] sendJson / port: 13805 / json: {\"FileOpen\":{\"spiText\":\"inl app () =\\n    console.write_line \\u0022text\\u0022\\n    1i32\\n\\ninl main () =\\n    app\\n    |\\u003E dyn\\n    |\\u003E ignore\\n\",\"uri\":\"file:///c:/Users/i574n/AppData/Local/Temp/dotnet-repl/20240330-0129-3690-9094-985b99797e7b/main.spi\"}} / result.Length:\r\n",
      "00:00:01 #14 [Debug] sendJson / port: 13805 / json: {\"BuildFile\":{\"backend\":\"Fsharp\",\"uri\":\"file:///c:/Users/i574n/AppData/Local/Temp/dotnet-repl/20240330-0129-3690-9094-985b99797e7b/main.spi\"}} / result.Length:\r\n",
      "00:00:02 #15 [Verbose] > Building c:\\Users\\i574n\\AppData\\Local\\Temp\\dotnet-repl\\20240330-0129-3690-9094-985b99797e7b\\main.spi\r\n",
      "00:00:02 #16 [Debug] buildFile / takeWhileInclusive / fsxContent:  / errors: [] / typeErrorCount: 0\r\n",
      "00:00:03 #17 [Debug] buildFile / takeWhileInclusive / fsxContent:  / errors: [] / typeErrorCount: 0\r\n",
      "00:00:04 #18 [Debug] buildFile / takeWhileInclusive / fsxContent: let rec closure0 () () : int32 =\n",
      "    let v0 : string = \"text\"\n",
      "    System.Console.WriteLine v0\n",
      "    1\n",
      "let v0 : (unit -> int32) = closure0()\n",
      "()\n",
      " / errors: [] / typeErrorCount: 0\r\n",
      "00:00:06 #19 [Debug] runWithTimeoutAsync / timeout: 2000\r\n",
      "00:00:06 #20 [Debug] watchWithFilter / Disposing watch stream / filter: FileName, LastWrite\r\n",
      "FSharpOption<Tuple<FSharpOption<String>,FSharpList<String>>>\r\n",
      "      Value:       - FSharpOption<String>\r\n",
      "          Value: let rec closure0 () () : int32 =\n",
      "    let v0 : string = \"text\"\n",
      "    System.Console.WriteLine v0\n",
      "    1\n",
      "let v0 : (unit -> int32) = closure0()\n",
      "()\n",
      "\r\n",
      "      - [  ]\r\n"
     ]
    }
   ],
   "source": [
    "//// test\n",
    "\n",
    "\"\"\"inl app () =\n",
    "    console.write_line \"text\"\n",
    "    1i32\n",
    "\n",
    "inl main () =\n",
    "    app\n",
    "    |> dyn\n",
    "    |> ignore\n",
    "\"\"\"\n",
    "|> buildCode 15000 None\n",
    "|> Async.runWithTimeout 15000\n",
    "|> Option.map (fun (fsxContent, errors) -> fsxContent, errors |> List.map fst)\n",
    "|> _assertEqual (\n",
    "    Some (\n",
    "        Some \"\"\"let rec closure0 () () : int32 =\n",
    "    let v0 : string = \"text\"\n",
    "    System.Console.WriteLine v0\n",
    "    1\n",
    "let v0 : (unit -> int32) = closure0()\n",
    "()\n",
    "\"\"\",\n",
    "        []\n",
    "    )\n",
    ")"
   ]
  },
  {
   "cell_type": "code",
   "execution_count": null,
   "metadata": {
    "dotnet_interactive": {
     "language": "fsharp"
    },
    "polyglot_notebook": {
     "kernelName": "fsharp"
    }
   },
   "outputs": [
    {
     "name": "stdout",
     "output_type": "stream",
     "text": [
      "00:00:07 #21 [Debug] runWithTimeoutAsync / timeout: 60\r\n",
      "00:00:07 #22 [Debug] executeAsync / options: { Command =\n",
      "   \"dotnet \"C:\\home\\git\\polyglot\\deps\\The-Spiral-Language\\The Spiral Language 2\\artifacts\\bin\\The Spiral Language 2\\release\\Spiral.dll\" --port 13805 --default-int i32 --default-float f64\"\n",
      "  WorkingDirectory = None\n",
      "  CancellationToken = Some System.Threading.CancellationToken\n",
      "  OnLine = Some <fun:buildCode@3-1070> }\r\n",
      "00:00:07 #23 [Verbose] > pwd: C:\\home\\git\\polyglot\\apps\\spiral\r\n",
      "00:00:07 #24 [Verbose] > dll_path: C:\\home\\git\\polyglot\\deps\\The-Spiral-Language\\The Spiral Language 2\\artifacts\\bin\\The Spiral Language 2\\release\r\n",
      "00:00:08 #25 [Verbose] > Starting the Spiral Server. It is bound to: http://localhost:13805\r\n",
      "00:00:08 #26 [Debug] runWithTimeoutAsync / timeout: 500\r\n",
      "00:00:08 #27 [Verbose] waitForPortAccess / port: 13805 / retry: 0\r\n",
      "00:00:08 #28 [Debug] sendJson / port: 13805 / json: {\"Ping\":true} / result.Length:\r\n",
      "00:00:08 #29 [Verbose] awaitCompiler / Ping / result: Some(null) / port: 13805 / retry: 0\r\n",
      "00:00:08 #30 [Verbose] > Server bound to: http://localhost:13805\r\n",
      "00:00:08 #31 [Debug] buildFile / takeWhileInclusive / fsxContent:  / errors: [] / typeErrorCount: 0\r\n",
      "00:00:08 #32 [Debug] buildFile / takeWhileInclusive / fsxContent:  / errors: [] / typeErrorCount: 0\r\n",
      "00:00:08 #33 [Debug] sendJson / port: 13805 / json: {\"FileOpen\":{\"spiText\":\"\",\"uri\":\"file:///c:/Users/i574n/AppData/Local/Temp/dotnet-repl/20240330-0129-4416-1606-1d4cb45969a1/main.spi\"}} / result.Length:\r\n",
      "00:00:08 #34 [Debug] sendJson / port: 13805 / json: {\"BuildFile\":{\"backend\":\"Fsharp\",\"uri\":\"file:///c:/Users/i574n/AppData/Local/Temp/dotnet-repl/20240330-0129-4416-1606-1d4cb45969a1/main.spi\"}} / result.Length:\r\n",
      "00:00:09 #35 [Verbose] > Building c:\\Users\\i574n\\AppData\\Local\\Temp\\dotnet-repl\\20240330-0129-4416-1606-1d4cb45969a1\\main.spi\r\n",
      "00:00:09 #36 [Debug] buildFile / takeWhileInclusive / fsxContent:  / errors: [] / typeErrorCount: 0\r\n",
      "00:00:10 #37 [Debug] buildFile / takeWhileInclusive / fsxContent:  / errors: [] / typeErrorCount: 0\r\n",
      "00:00:11 #38 [Verbose] > Cannot find `main` in file main.\r\n",
      "00:00:11 #39 [Verbose] > Build skipped for c:\\Users\\i574n\\AppData\\Local\\Temp\\dotnet-repl\\20240330-0129-4416-1606-1d4cb45969a1\\main.spi\r\n",
      "00:00:11 #40 [Debug] buildFile / takeWhileInclusive / fsxContent:  / errors: [] / typeErrorCount: 0\r\n",
      "00:00:12 #41 [Debug] buildFile / takeWhileInclusive / fsxContent:  / errors: [] / typeErrorCount: 0\r\n",
      "00:00:13 #42 [Debug] buildFile / takeWhileInclusive / fsxContent:  / errors: [] / typeErrorCount: 0\r\n",
      "00:00:14 #43 [Debug] buildFile / takeWhileInclusive / fsxContent:  / errors: [] / typeErrorCount: 0\r\n",
      "00:00:15 #44 [Debug] buildFile / takeWhileInclusive / fsxContent:  / errors: [] / typeErrorCount: 0\r\n",
      "00:00:16 #45 [Debug] buildFile / takeWhileInclusive / fsxContent:  / errors: [] / typeErrorCount: 0\r\n",
      "00:00:17 #46 [Debug] runWithTimeoutAsync / timeout: 10000\r\n",
      "00:00:17 #47 [Verbose] waitForPortAccess / port: 13805 / retry: 0\r\n",
      "00:00:18 #48 [Debug] runWithTimeoutAsync / timeout: 10000\r\n",
      "00:00:19 #49 [Debug] runWithTimeoutAsync / timeout: 2000\r\n",
      "00:00:19 #50 [Debug] watchWithFilter / Disposing watch stream / filter: FileName, LastWrite\r\n",
      "<null>\r\n"
     ]
    }
   ],
   "source": [
    "//// test\n",
    "\n",
    "\"\"\n",
    "|> buildCode 10000 None\n",
    "|> Async.runWithTimeout 10000\n",
    "|> _assertEqual None"
   ]
  },
  {
   "cell_type": "code",
   "execution_count": null,
   "metadata": {
    "dotnet_interactive": {
     "language": "fsharp"
    },
    "polyglot_notebook": {
     "kernelName": "fsharp"
    }
   },
   "outputs": [
    {
     "name": "stdout",
     "output_type": "stream",
     "text": [
      "00:00:19 #51 [Debug] runWithTimeoutAsync / timeout: 60\r\n",
      "00:00:19 #52 [Debug] executeAsync / options: { Command =\n",
      "   \"dotnet \"C:\\home\\git\\polyglot\\deps\\The-Spiral-Language\\The Spiral Language 2\\artifacts\\bin\\The Spiral Language 2\\release\\Spiral.dll\" --port 13805 --default-int i32 --default-float f64\"\n",
      "  WorkingDirectory = None\n",
      "  CancellationToken = Some System.Threading.CancellationToken\n",
      "  OnLine = Some <fun:buildCode@3-1070> }\r\n",
      "00:00:20 #53 [Verbose] > pwd: C:\\home\\git\\polyglot\\apps\\spiral\r\n",
      "00:00:20 #54 [Verbose] > dll_path: C:\\home\\git\\polyglot\\deps\\The-Spiral-Language\\The Spiral Language 2\\artifacts\\bin\\The Spiral Language 2\\release\r\n",
      "00:00:20 #55 [Verbose] > Starting the Spiral Server. It is bound to: http://localhost:13805\r\n",
      "00:00:20 #56 [Debug] runWithTimeoutAsync / timeout: 500\r\n",
      "00:00:20 #57 [Verbose] waitForPortAccess / port: 13805 / retry: 0\r\n",
      "00:00:20 #58 [Debug] sendJson / port: 13805 / json: {\"Ping\":true} / result.Length:\r\n",
      "00:00:20 #59 [Verbose] awaitCompiler / Ping / result: Some(null) / port: 13805 / retry: 0\r\n",
      "00:00:20 #60 [Verbose] > Server bound to: http://localhost:13805\r\n",
      "00:00:20 #61 [Debug] buildFile / takeWhileInclusive / fsxContent:  / errors: [] / typeErrorCount: 0\r\n",
      "00:00:20 #62 [Debug] buildFile / takeWhileInclusive / fsxContent:  / errors: [] / typeErrorCount: 0\r\n",
      "00:00:20 #63 [Debug] sendJson / port: 13805 / json: {\"FileOpen\":{\"spiText\":\"inl app () =\\n    0i32\\n\\ninl a = 1\\n\\ninl main () =\\n    app\\n    |\\u003E dyn\\n    |\\u003E ignore\\n\",\"uri\":\"file:///c:/Users/i574n/AppData/Local/Temp/dotnet-repl/20240330-0129-5656-5658-56cfb73482f2/main.spi\"}} / result.Length:\r\n",
      "00:00:20 #64 [Debug] sendJson / port: 13805 / json: {\"BuildFile\":{\"backend\":\"Fsharp\",\"uri\":\"file:///c:/Users/i574n/AppData/Local/Temp/dotnet-repl/20240330-0129-5656-5658-56cfb73482f2/main.spi\"}} / result.Length:\r\n",
      "00:00:21 #65 [Verbose] > Building c:\\Users\\i574n\\AppData\\Local\\Temp\\dotnet-repl\\20240330-0129-5656-5658-56cfb73482f2\\main.spi\r\n",
      "00:00:21 #66 [Debug] buildFile / takeWhileInclusive / fsxContent:  / errors: [\r\n",
      "  [\r\n",
      "    \"main.spi:\n",
      "Global inl/let statements should all return functions known at parse time.\",\r\n",
      "    {\r\n",
      "      \"ParserErrors\": {\r\n",
      "        \"errors\": [\r\n",
      "          [\r\n",
      "            [\r\n",
      "              {\r\n",
      "                \"character\": 0,\r\n",
      "                \"line\": 3\r\n",
      "              },\r\n",
      "              {\r\n",
      "                \"character\": 9,\r\n",
      "                \"line\": 3\r\n",
      "              }\r\n",
      "            ],\r\n",
      "            \"Global inl/let statements should all return functions known at parse time.\"\r\n",
      "          ]\r\n",
      "        ],\r\n",
      "        \"uri\": \"file:///c:\\Users\\i574n\\AppData\\Local\\Temp\\dotnet-repl\\20240330-0129-5656-5658-56cfb73482f2\\main.spi\"\r\n",
      "      }\r\n",
      "    }\r\n",
      "  ]\r\n",
      "] / typeErrorCount: 0\r\n",
      "00:00:21 #67 [Verbose] waitForPortAccess / port: 13805 / retry: 0\r\n",
      "00:00:23 #68 [Debug] runWithTimeoutAsync / timeout: 2000\r\n",
      "00:00:23 #69 [Debug] watchWithFilter / Disposing watch stream / filter: FileName, LastWrite\r\n",
      "FSharpOption<Tuple<FSharpOption<String>,FSharpList<String>>>\r\n",
      "      Value:       - <null>\r\n",
      "      - [ main.spi:\n",
      "Global inl/let statements should all return functions known at parse time. ]\r\n"
     ]
    }
   ],
   "source": [
    "//// test\n",
    "\n",
    "\"inl app () =\n",
    "    0i32\n",
    "\n",
    "inl a = 1\n",
    "\n",
    "inl main () =\n",
    "    app\n",
    "    |> dyn\n",
    "    |> ignore\n",
    "\"\n",
    "|> buildCode 10000 None\n",
    "|> Async.runWithTimeout 10000\n",
    "|> Option.map (fun (fsxContent, errors) -> fsxContent, errors |> List.map fst)\n",
    "|> _assertEqual (\n",
    "    Some (\n",
    "        None,\n",
    "        [ \"main.spi:\n",
    "Global inl/let statements should all return functions known at parse time.\" ]\n",
    "    )\n",
    ")"
   ]
  },
  {
   "cell_type": "code",
   "execution_count": null,
   "metadata": {
    "dotnet_interactive": {
     "language": "fsharp"
    },
    "polyglot_notebook": {
     "kernelName": "fsharp"
    }
   },
   "outputs": [
    {
     "name": "stdout",
     "output_type": "stream",
     "text": [
      "00:00:23 #70 [Debug] runWithTimeoutAsync / timeout: 60\r\n",
      "00:00:23 #71 [Debug] executeAsync / options: { Command =\n",
      "   \"dotnet \"C:\\home\\git\\polyglot\\deps\\The-Spiral-Language\\The Spiral Language 2\\artifacts\\bin\\The Spiral Language 2\\release\\Spiral.dll\" --port 13805 --default-int i32 --default-float f64\"\n",
      "  WorkingDirectory = None\n",
      "  CancellationToken = Some System.Threading.CancellationToken\n",
      "  OnLine = Some <fun:buildCode@3-1070> }\r\n",
      "00:00:24 #72 [Verbose] > pwd: C:\\home\\git\\polyglot\\apps\\spiral\r\n",
      "00:00:24 #73 [Verbose] > dll_path: C:\\home\\git\\polyglot\\deps\\The-Spiral-Language\\The Spiral Language 2\\artifacts\\bin\\The Spiral Language 2\\release\r\n",
      "00:00:24 #74 [Verbose] > Starting the Spiral Server. It is bound to: http://localhost:13805\r\n",
      "00:00:24 #75 [Debug] runWithTimeoutAsync / timeout: 500\r\n",
      "00:00:24 #76 [Verbose] waitForPortAccess / port: 13805 / retry: 0\r\n",
      "00:00:24 #77 [Debug] sendJson / port: 13805 / json: {\"Ping\":true} / result.Length:\r\n",
      "00:00:24 #78 [Verbose] awaitCompiler / Ping / result: Some(null) / port: 13805 / retry: 0\r\n",
      "00:00:24 #79 [Verbose] > Server bound to: http://localhost:13805\r\n",
      "00:00:24 #80 [Debug] buildFile / takeWhileInclusive / fsxContent:  / errors: [] / typeErrorCount: 0\r\n",
      "00:00:24 #81 [Debug] buildFile / takeWhileInclusive / fsxContent:  / errors: [] / typeErrorCount: 0\r\n",
      "00:00:24 #82 [Debug] sendJson / port: 13805 / json: {\"FileOpen\":{\"spiText\":\"inl main () =\\n    1i32 / 0i32\\n\",\"uri\":\"file:///c:/Users/i574n/AppData/Local/Temp/dotnet-repl/20240330-0130-0077-7723-70f3e5038b26/main.spi\"}} / result.Length:\r\n",
      "00:00:25 #83 [Debug] sendJson / port: 13805 / json: {\"BuildFile\":{\"backend\":\"Fsharp\",\"uri\":\"file:///c:/Users/i574n/AppData/Local/Temp/dotnet-repl/20240330-0130-0077-7723-70f3e5038b26/main.spi\"}} / result.Length:\r\n",
      "00:00:25 #84 [Verbose] > Building c:\\Users\\i574n\\AppData\\Local\\Temp\\dotnet-repl\\20240330-0130-0077-7723-70f3e5038b26\\main.spi\r\n",
      "00:00:25 #85 [Debug] buildFile / takeWhileInclusive / fsxContent:  / errors: [] / typeErrorCount: 0\r\n",
      "00:00:26 #86 [Debug] buildFile / takeWhileInclusive / fsxContent:  / errors: [\r\n",
      "  [\r\n",
      "    \"An attempt to divide by zero has been detected at compile time.\",\r\n",
      "    {\r\n",
      "      \"TracedError\": {\r\n",
      "        \"message\": \"An attempt to divide by zero has been detected at compile time.\",\r\n",
      "        \"trace\": [\r\n",
      "          \"Error trace on line: 1, column: 10 in module: c:\\Users\\i574n\\AppData\\Local\\Temp\\dotnet-repl\\20240330-0130-0077-7723-70f3e5038b26\\main.spi.\n",
      "inl main () =\n",
      "         ^\n",
      "\",\r\n",
      "          \"Error trace on line: 2, column: 5 in module: c:\\Users\\i574n\\AppData\\Local\\Temp\\dotnet-repl\\20240330-0130-0077-7723-70f3e5038b26\\main.spi.\n",
      "    1i32 / 0i32\n",
      "    ^\n",
      "\"\r\n",
      "        ]\r\n",
      "      }\r\n",
      "    }\r\n",
      "  ]\r\n",
      "] / typeErrorCount: 0\r\n",
      "00:00:26 #87 [Verbose] waitForPortAccess / port: 13805 / retry: 0\r\n",
      "00:00:28 #88 [Debug] runWithTimeoutAsync / timeout: 2000\r\n",
      "00:00:28 #89 [Debug] watchWithFilter / Disposing watch stream / filter: FileName, LastWrite\r\n",
      "FSharpOption<Tuple<FSharpOption<String>,FSharpList<String>>>\r\n",
      "      Value:       - <null>\r\n",
      "      - [ An attempt to divide by zero has been detected at compile time. ]\r\n"
     ]
    }
   ],
   "source": [
    "//// test\n",
    "\n",
    "\"\"\"inl main () =\n",
    "    1i32 / 0i32\n",
    "\"\"\"\n",
    "|> buildCode 10000 None\n",
    "|> Async.runWithTimeout 10000\n",
    "|> Option.map (fun (fsxContent, errors) -> fsxContent, errors |> List.map fst)\n",
    "|> _assertEqual (\n",
    "    Some (\n",
    "        None,\n",
    "        [ \"An attempt to divide by zero has been detected at compile time.\" ]\n",
    "    )\n",
    ")"
   ]
  },
  {
   "cell_type": "code",
   "execution_count": null,
   "metadata": {
    "dotnet_interactive": {
     "language": "fsharp"
    },
    "polyglot_notebook": {
     "kernelName": "fsharp"
    }
   },
   "outputs": [
    {
     "name": "stdout",
     "output_type": "stream",
     "text": [
      "00:00:29 #90 [Debug] runWithTimeoutAsync / timeout: 60\r\n",
      "00:00:29 #91 [Debug] executeAsync / options: { Command =\n",
      "   \"dotnet \"C:\\home\\git\\polyglot\\deps\\The-Spiral-Language\\The Spiral Language 2\\artifacts\\bin\\The Spiral Language 2\\release\\Spiral.dll\" --port 13805 --default-int i32 --default-float f64\"\n",
      "  WorkingDirectory = None\n",
      "  CancellationToken = Some System.Threading.CancellationToken\n",
      "  OnLine = Some <fun:buildCode@3-1070> }\r\n",
      "00:00:29 #92 [Verbose] > pwd: C:\\home\\git\\polyglot\\apps\\spiral\r\n",
      "00:00:29 #93 [Verbose] > dll_path: C:\\home\\git\\polyglot\\deps\\The-Spiral-Language\\The Spiral Language 2\\artifacts\\bin\\The Spiral Language 2\\release\r\n",
      "00:00:29 #94 [Verbose] > Starting the Spiral Server. It is bound to: http://localhost:13805\r\n",
      "00:00:30 #95 [Debug] runWithTimeoutAsync / timeout: 500\r\n",
      "00:00:30 #96 [Verbose] waitForPortAccess / port: 13805 / retry: 0\r\n",
      "00:00:30 #97 [Debug] sendJson / port: 13805 / json: {\"Ping\":true} / result.Length:\r\n",
      "00:00:30 #98 [Verbose] awaitCompiler / Ping / result: Some(null) / port: 13805 / retry: 0\r\n",
      "00:00:30 #99 [Verbose] > Server bound to: http://localhost:13805\r\n",
      "00:00:30 #100 [Debug] buildFile / takeWhileInclusive / fsxContent:  / errors: [] / typeErrorCount: 0\r\n",
      "00:00:30 #101 [Debug] buildFile / takeWhileInclusive / fsxContent:  / errors: [] / typeErrorCount: 0\r\n",
      "00:00:30 #102 [Debug] sendJson / port: 13805 / json: {\"FileOpen\":{\"spiText\":\"inl main () =\\n    1 \\u002B \\u0022\\u0022\\n\",\"uri\":\"file:///c:/Users/i574n/AppData/Local/Temp/dotnet-repl/20240330-0130-0617-1716-1034eb7269c3/main.spi\"}} / result.Length:\r\n",
      "00:00:30 #103 [Debug] sendJson / port: 13805 / json: {\"BuildFile\":{\"backend\":\"Fsharp\",\"uri\":\"file:///c:/Users/i574n/AppData/Local/Temp/dotnet-repl/20240330-0130-0617-1716-1034eb7269c3/main.spi\"}} / result.Length:\r\n",
      "00:00:30 #104 [Verbose] > Building c:\\Users\\i574n\\AppData\\Local\\Temp\\dotnet-repl\\20240330-0130-0617-1716-1034eb7269c3\\main.spi\r\n",
      "00:00:31 #105 [Debug] buildFile / takeWhileInclusive / fsxContent:  / errors: [] / typeErrorCount: 0\r\n",
      "00:00:31 #106 [Debug] buildFile / takeWhileInclusive / fsxContent:  / errors: [] / typeErrorCount: 1\r\n",
      "00:00:31 #107 [Debug] buildFile / takeWhileInclusive / fsxContent:  / errors: [\r\n",
      "  [\r\n",
      "    \"main.spi:\n",
      "Constraint satisfaction error.\n",
      "Got: string\n",
      "Fails to satisfy: number\",\r\n",
      "    {\r\n",
      "      \"TypeErrors\": {\r\n",
      "        \"errors\": [\r\n",
      "          [\r\n",
      "            [\r\n",
      "              {\r\n",
      "                \"character\": 8,\r\n",
      "                \"line\": 1\r\n",
      "              },\r\n",
      "              {\r\n",
      "                \"character\": 10,\r\n",
      "                \"line\": 1\r\n",
      "              }\r\n",
      "            ],\r\n",
      "            \"Constraint satisfaction error.\n",
      "Got: string\n",
      "Fails to satisfy: number\"\r\n",
      "          ]\r\n",
      "        ],\r\n",
      "        \"uri\": \"file:///c:\\Users\\i574n\\AppData\\Local\\Temp\\dotnet-repl\\20240330-0130-0617-1716-1034eb7269c3\\main.spi\"\r\n",
      "      }\r\n",
      "    }\r\n",
      "  ]\r\n",
      "] / typeErrorCount: 1\r\n",
      "00:00:31 #108 [Verbose] waitForPortAccess / port: 13805 / retry: 0\r\n",
      "00:00:33 #109 [Debug] runWithTimeoutAsync / timeout: 2000\r\n",
      "00:00:33 #110 [Debug] watchWithFilter / Disposing watch stream / filter: FileName, LastWrite\r\n",
      "FSharpOption<Tuple<FSharpOption<String>,FSharpList<String>>>\r\n",
      "      Value:       - <null>\r\n",
      "      - [ main.spi:\n",
      "Constraint satisfaction error.\n",
      "Got: string\n",
      "Fails to satisfy: number ]\r\n"
     ]
    }
   ],
   "source": [
    "//// test\n",
    "\n",
    "\"\"\"inl main () =\n",
    "    1 + \"\"\n",
    "\"\"\"\n",
    "|> buildCode 10000 None\n",
    "|> Async.runWithTimeout 10000\n",
    "|> Option.map (fun (fsxContent, errors) -> fsxContent, errors |> List.map fst)\n",
    "|> _assertEqual (\n",
    "    Some (\n",
    "        None,\n",
    "        [\n",
    "            \"main.spi:\n",
    "Constraint satisfaction error.\n",
    "Got: string\n",
    "Fails to satisfy: number\"\n",
    "        ]\n",
    "    )\n",
    ")"
   ]
  },
  {
   "cell_type": "code",
   "execution_count": null,
   "metadata": {
    "dotnet_interactive": {
     "language": "fsharp"
    },
    "polyglot_notebook": {
     "kernelName": "fsharp"
    }
   },
   "outputs": [
    {
     "name": "stdout",
     "output_type": "stream",
     "text": [
      "00:00:34 #111 [Debug] runWithTimeoutAsync / timeout: 60\r\n",
      "00:00:34 #112 [Debug] executeAsync / options: { Command =\n",
      "   \"dotnet \"C:\\home\\git\\polyglot\\deps\\The-Spiral-Language\\The Spiral Language 2\\artifacts\\bin\\The Spiral Language 2\\release\\Spiral.dll\" --port 13805 --default-int i32 --default-float f64\"\n",
      "  WorkingDirectory = None\n",
      "  CancellationToken = Some System.Threading.CancellationToken\n",
      "  OnLine = Some <fun:buildCode@3-1070> }\r\n",
      "00:00:34 #113 [Verbose] > pwd: C:\\home\\git\\polyglot\\apps\\spiral\r\n",
      "00:00:34 #114 [Verbose] > dll_path: C:\\home\\git\\polyglot\\deps\\The-Spiral-Language\\The Spiral Language 2\\artifacts\\bin\\The Spiral Language 2\\release\r\n",
      "00:00:34 #115 [Verbose] > Starting the Spiral Server. It is bound to: http://localhost:13805\r\n",
      "00:00:35 #116 [Debug] runWithTimeoutAsync / timeout: 500\r\n",
      "00:00:35 #117 [Verbose] waitForPortAccess / port: 13805 / retry: 0\r\n",
      "00:00:35 #118 [Debug] sendJson / port: 13805 / json: {\"Ping\":true} / result.Length:\r\n",
      "00:00:35 #119 [Verbose] awaitCompiler / Ping / result: Some(null) / port: 13805 / retry: 0\r\n",
      "00:00:35 #120 [Verbose] > Server bound to: http://localhost:13805\r\n",
      "00:00:35 #121 [Debug] buildFile / takeWhileInclusive / fsxContent:  / errors: [] / typeErrorCount: 0\r\n",
      "00:00:35 #122 [Debug] buildFile / takeWhileInclusive / fsxContent:  / errors: [] / typeErrorCount: 0\r\n",
      "00:00:35 #123 [Debug] sendJson / port: 13805 / json: {\"FileOpen\":{\"spiText\":\"inl main () =\\n    x \\u002B y\\n\",\"uri\":\"file:///c:/Users/i574n/AppData/Local/Temp/dotnet-repl/20240330-0130-1130-3070-34d2bf56f3e4/main.spi\"}} / result.Length:\r\n",
      "00:00:35 #124 [Debug] sendJson / port: 13805 / json: {\"BuildFile\":{\"backend\":\"Fsharp\",\"uri\":\"file:///c:/Users/i574n/AppData/Local/Temp/dotnet-repl/20240330-0130-1130-3070-34d2bf56f3e4/main.spi\"}} / result.Length:\r\n",
      "00:00:35 #125 [Verbose] > Building c:\\Users\\i574n\\AppData\\Local\\Temp\\dotnet-repl\\20240330-0130-1130-3070-34d2bf56f3e4\\main.spi\r\n",
      "00:00:36 #126 [Debug] buildFile / takeWhileInclusive / fsxContent:  / errors: [] / typeErrorCount: 0\r\n",
      "00:00:36 #127 [Debug] buildFile / takeWhileInclusive / fsxContent:  / errors: [] / typeErrorCount: 1\r\n",
      "00:00:36 #128 [Debug] buildFile / takeWhileInclusive / fsxContent:  / errors: [\r\n",
      "  [\r\n",
      "    \"main.spi:\n",
      "Unbound variable: x.\n",
      "Unbound variable: y.\",\r\n",
      "    {\r\n",
      "      \"TypeErrors\": {\r\n",
      "        \"errors\": [\r\n",
      "          [\r\n",
      "            [\r\n",
      "              {\r\n",
      "                \"character\": 4,\r\n",
      "                \"line\": 1\r\n",
      "              },\r\n",
      "              {\r\n",
      "                \"character\": 5,\r\n",
      "                \"line\": 1\r\n",
      "              }\r\n",
      "            ],\r\n",
      "            \"Unbound variable: x.\"\r\n",
      "          ],\r\n",
      "          [\r\n",
      "            [\r\n",
      "              {\r\n",
      "                \"character\": 8,\r\n",
      "                \"line\": 1\r\n",
      "              },\r\n",
      "              {\r\n",
      "                \"character\": 9,\r\n",
      "                \"line\": 1\r\n",
      "              }\r\n",
      "            ],\r\n",
      "            \"Unbound variable: y.\"\r\n",
      "          ]\r\n",
      "        ],\r\n",
      "        \"uri\": \"file:///c:\\Users\\i574n\\AppData\\Local\\Temp\\dotnet-repl\\20240330-0130-1130-3070-34d2bf56f3e4\\main.spi\"\r\n",
      "      }\r\n",
      "    }\r\n",
      "  ]\r\n",
      "] / typeErrorCount: 1\r\n",
      "00:00:36 #129 [Verbose] waitForPortAccess / port: 13805 / retry: 0\r\n",
      "00:00:38 #130 [Debug] runWithTimeoutAsync / timeout: 2000\r\n",
      "00:00:38 #131 [Debug] watchWithFilter / Disposing watch stream / filter: FileName, LastWrite\r\n",
      "FSharpOption<Tuple<FSharpOption<String>,FSharpList<String>>>\r\n",
      "      Value:       - <null>\r\n",
      "      - [ main.spi:\n",
      "Unbound variable: x.\n",
      "Unbound variable: y. ]\r\n"
     ]
    }
   ],
   "source": [
    "//// test\n",
    "\n",
    "\"\"\"inl main () =\n",
    "    x + y\n",
    "\"\"\"\n",
    "|> buildCode 10000 None\n",
    "|> Async.runWithTimeout 10000\n",
    "|> Option.map (fun (fsxContent, errors) -> fsxContent, errors |> List.map fst)\n",
    "|> _assertEqual (\n",
    "    Some (\n",
    "        None,\n",
    "        [\n",
    "            \"main.spi:\n",
    "Unbound variable: x.\n",
    "Unbound variable: y.\"\n",
    "        ]\n",
    "    )\n",
    ")"
   ]
  },
  {
   "cell_type": "code",
   "execution_count": null,
   "metadata": {
    "dotnet_interactive": {
     "language": "fsharp"
    },
    "polyglot_notebook": {
     "kernelName": "fsharp"
    }
   },
   "outputs": [
    {
     "name": "stdout",
     "output_type": "stream",
     "text": [
      "00:00:39 #132 [Debug] runWithTimeoutAsync / timeout: 60\r\n",
      "00:00:39 #133 [Debug] executeAsync / options: { Command =\n",
      "   \"dotnet \"C:\\home\\git\\polyglot\\deps\\The-Spiral-Language\\The Spiral Language 2\\artifacts\\bin\\The Spiral Language 2\\release\\Spiral.dll\" --port 13805 --default-int i32 --default-float f64\"\n",
      "  WorkingDirectory = None\n",
      "  CancellationToken = Some System.Threading.CancellationToken\n",
      "  OnLine = Some <fun:buildCode@3-1070> }\r\n",
      "00:00:39 #134 [Verbose] > pwd: C:\\home\\git\\polyglot\\apps\\spiral\r\n",
      "00:00:39 #135 [Verbose] > dll_path: C:\\home\\git\\polyglot\\deps\\The-Spiral-Language\\The Spiral Language 2\\artifacts\\bin\\The Spiral Language 2\\release\r\n",
      "00:00:40 #136 [Verbose] > Starting the Spiral Server. It is bound to: http://localhost:13805\r\n",
      "00:00:40 #137 [Debug] runWithTimeoutAsync / timeout: 500\r\n",
      "00:00:40 #138 [Verbose] waitForPortAccess / port: 13805 / retry: 0\r\n",
      "00:00:40 #139 [Debug] sendJson / port: 13805 / json: {\"Ping\":true} / result.Length:\r\n",
      "00:00:40 #140 [Verbose] awaitCompiler / Ping / result: Some(null) / port: 13805 / retry: 0\r\n",
      "00:00:40 #141 [Verbose] > Server bound to: http://localhost:13805\r\n",
      "00:00:40 #142 [Debug] buildFile / takeWhileInclusive / fsxContent:  / errors: [] / typeErrorCount: 0\r\n",
      "00:00:40 #143 [Debug] buildFile / takeWhileInclusive / fsxContent:  / errors: [] / typeErrorCount: 0\r\n",
      "00:00:40 #144 [Debug] sendJson / port: 13805 / json: {\"FileOpen\":{\"spiText\":\"union a =\\n    | B\\n    | c\\n\\ninl main () =\\n    ()\\n\",\"uri\":\"file:///c:/Users/i574n/AppData/Local/Temp/dotnet-repl/20240330-0130-1637-3723-37b647caae24/main.spi\"}} / result.Length:\r\n",
      "00:00:40 #145 [Debug] sendJson / port: 13805 / json: {\"BuildFile\":{\"backend\":\"Fsharp\",\"uri\":\"file:///c:/Users/i574n/AppData/Local/Temp/dotnet-repl/20240330-0130-1637-3723-37b647caae24/main.spi\"}} / result.Length:\r\n",
      "00:00:40 #146 [Verbose] > Building c:\\Users\\i574n\\AppData\\Local\\Temp\\dotnet-repl\\20240330-0130-1637-3723-37b647caae24\\main.spi\r\n",
      "00:00:40 #147 [Debug] buildFile / takeWhileInclusive / fsxContent:  / errors: [\r\n",
      "  [\r\n",
      "    \"main.spi:\n",
      "Expected: uppercase variable\",\r\n",
      "    {\r\n",
      "      \"ParserErrors\": {\r\n",
      "        \"errors\": [\r\n",
      "          [\r\n",
      "            [\r\n",
      "              {\r\n",
      "                \"character\": 6,\r\n",
      "                \"line\": 2\r\n",
      "              },\r\n",
      "              {\r\n",
      "                \"character\": 7,\r\n",
      "                \"line\": 2\r\n",
      "              }\r\n",
      "            ],\r\n",
      "            \"Expected: uppercase variable\"\r\n",
      "          ]\r\n",
      "        ],\r\n",
      "        \"uri\": \"file:///c:\\Users\\i574n\\AppData\\Local\\Temp\\dotnet-repl\\20240330-0130-1637-3723-37b647caae24\\main.spi\"\r\n",
      "      }\r\n",
      "    }\r\n",
      "  ]\r\n",
      "] / typeErrorCount: 0\r\n",
      "00:00:40 #148 [Verbose] waitForPortAccess / port: 13805 / retry: 0\r\n",
      "00:00:42 #149 [Debug] runWithTimeoutAsync / timeout: 2000\r\n",
      "00:00:42 #150 [Debug] watchWithFilter / Disposing watch stream / filter: FileName, LastWrite\r\n",
      "FSharpOption<Tuple<FSharpOption<String>,FSharpList<String>>>\r\n",
      "      Value:       - <null>\r\n",
      "      - [ main.spi:\n",
      "Expected: uppercase variable ]\r\n"
     ]
    }
   ],
   "source": [
    "//// test\n",
    "\n",
    "\"\"\"union a =\n",
    "    | B\n",
    "    | c\n",
    "\n",
    "inl main () =\n",
    "    ()\n",
    "\"\"\"\n",
    "|> buildCode 10000 None\n",
    "|> Async.runWithTimeout 10000\n",
    "|> Option.map (fun (fsxContent, errors) -> fsxContent, errors |> List.map fst)\n",
    "|> _assertEqual (\n",
    "    Some (\n",
    "        None,\n",
    "        [ \"main.spi:\n",
    "Expected: uppercase variable\" ]\n",
    "    )\n",
    ")"
   ]
  },
  {
   "cell_type": "code",
   "execution_count": null,
   "metadata": {
    "dotnet_interactive": {
     "language": "fsharp"
    },
    "polyglot_notebook": {
     "kernelName": "fsharp"
    }
   },
   "outputs": [
    {
     "name": "stdout",
     "output_type": "stream",
     "text": [
      "00:00:43 #151 [Debug] runWithTimeoutAsync / timeout: 60\r\n",
      "00:00:43 #152 [Debug] buildFile / takeWhileInclusive / fsxContent:  / errors: [] / typeErrorCount: 0\r\n",
      "00:00:43 #153 [Debug] buildFile / takeWhileInclusive / fsxContent:  / errors: [] / typeErrorCount: 0\r\n",
      "00:00:43 #154 [Debug] sendJson / port: 13805 / json: {\"FileOpen\":{\"spiText\":\"\\n/// abc\\ninl main () =\\n    ()\\n\",\"uri\":\"file:///c:/Users/i574n/AppData/Local/Temp/dotnet-repl/20240330-0130-2050-5014-5865b2eca5fd/main.spi\"}} / result.Length:\r\n",
      "00:00:43 #155 [Debug] sendJson / port: 13805 / json: {\"BuildFile\":{\"backend\":\"Fsharp\",\"uri\":\"file:///c:/Users/i574n/AppData/Local/Temp/dotnet-repl/20240330-0130-2050-5014-5865b2eca5fd/main.spi\"}} / result.Length:\r\n",
      "00:00:44 #156 [Debug] buildFile / takeWhileInclusive / fsxContent:  / errors: [\r\n",
      "  [\r\n",
      "    \"main.spi:\n",
      "Expected: whitespace\",\r\n",
      "    {\r\n",
      "      \"TokenizerErrors\": {\r\n",
      "        \"errors\": [\r\n",
      "          [\r\n",
      "            [\r\n",
      "              {\r\n",
      "                \"character\": 2,\r\n",
      "                \"line\": 1\r\n",
      "              },\r\n",
      "              {\r\n",
      "                \"character\": 3,\r\n",
      "                \"line\": 1\r\n",
      "              }\r\n",
      "            ],\r\n",
      "            \"Expected: whitespace\"\r\n",
      "          ]\r\n",
      "        ],\r\n",
      "        \"uri\": \"file:///c:\\Users\\i574n\\AppData\\Local\\Temp\\dotnet-repl\\20240330-0130-2050-5014-5865b2eca5fd\\main.spi\"\r\n",
      "      }\r\n",
      "    }\r\n",
      "  ]\r\n",
      "] / typeErrorCount: 0\r\n",
      "00:00:44 #157 [Debug] watchWithFilter / Disposing watch stream / filter: FileName, LastWrite\r\n",
      "FSharpOption<Tuple<FSharpOption<String>,FSharpList<String>>>\r\n",
      "      Value:       - <null>\r\n",
      "      - [ main.spi:\n",
      "Expected: whitespace ]\r\n"
     ]
    }
   ],
   "source": [
    "//// test\n",
    "\n",
    "\"\"\"\n",
    "/// abc\n",
    "inl main () =\n",
    "    ()\n",
    "\"\"\"\n",
    "|> buildCode 10000 None\n",
    "|> Async.runWithTimeout 10000\n",
    "|> Option.map (fun (fsxContent, errors) -> fsxContent, errors |> List.map fst)\n",
    "|> _assertEqual (\n",
    "    Some (\n",
    "        None,\n",
    "        [ \"main.spi:\n",
    "Expected: whitespace\" ]\n",
    "    )\n",
    ")"
   ]
  },
  {
   "cell_type": "code",
   "execution_count": null,
   "metadata": {
    "dotnet_interactive": {
     "language": "fsharp"
    },
    "polyglot_notebook": {
     "kernelName": "fsharp"
    }
   },
   "outputs": [
    {
     "name": "stdout",
     "output_type": "stream",
     "text": [
      "00:00:44 #158 [Debug] runWithTimeoutAsync / timeout: 60\r\n",
      "00:00:44 #159 [Debug] executeAsync / options: { Command =\n",
      "   \"dotnet \"C:\\home\\git\\polyglot\\deps\\The-Spiral-Language\\The Spiral Language 2\\artifacts\\bin\\The Spiral Language 2\\release\\Spiral.dll\" --port 13805 --default-int i32 --default-float f64\"\n",
      "  WorkingDirectory = None\n",
      "  CancellationToken = Some System.Threading.CancellationToken\n",
      "  OnLine = Some <fun:buildCode@3-1070> }\r\n",
      "00:00:45 #160 [Verbose] > pwd: C:\\home\\git\\polyglot\\apps\\spiral\r\n",
      "00:00:45 #161 [Verbose] > dll_path: C:\\home\\git\\polyglot\\deps\\The-Spiral-Language\\The Spiral Language 2\\artifacts\\bin\\The Spiral Language 2\\release\r\n",
      "00:00:45 #162 [Verbose] > Starting the Spiral Server. It is bound to: http://localhost:13805\r\n",
      "00:00:45 #163 [Debug] runWithTimeoutAsync / timeout: 500\r\n",
      "00:00:45 #164 [Verbose] waitForPortAccess / port: 13805 / retry: 0\r\n",
      "00:00:45 #165 [Debug] sendJson / port: 13805 / json: {\"Ping\":true} / result.Length:\r\n",
      "00:00:45 #166 [Verbose] awaitCompiler / Ping / result: Some(null) / port: 13805 / retry: 0\r\n",
      "00:00:45 #167 [Verbose] > Server bound to: http://localhost:13805\r\n",
      "00:00:45 #168 [Debug] buildFile / takeWhileInclusive / fsxContent:  / errors: [] / typeErrorCount: 0\r\n",
      "00:00:45 #169 [Debug] buildFile / takeWhileInclusive / fsxContent:  / errors: [] / typeErrorCount: 0\r\n",
      "00:00:45 #170 [Debug] sendJson / port: 13805 / json: {\"FileOpen\":{\"spiText\":\"\\ninl main () =\\n    real\\n        inl real_unbox forall a. (obj : a) : a =\\n            typecase obj with\\n            | _ =\\u003E obj\\n        real_unbox ()\\n    ()\\n\",\"uri\":\"file:///c:/Users/i574n/AppData/Local/Temp/dotnet-repl/20240330-0130-2177-7757-7e0dc815fdc6/main.spi\"}} / result.Length:\r\n",
      "00:00:46 #171 [Debug] sendJson / port: 13805 / json: {\"BuildFile\":{\"backend\":\"Fsharp\",\"uri\":\"file:///c:/Users/i574n/AppData/Local/Temp/dotnet-repl/20240330-0130-2177-7757-7e0dc815fdc6/main.spi\"}} / result.Length:\r\n",
      "00:00:46 #172 [Verbose] > Building c:\\Users\\i574n\\AppData\\Local\\Temp\\dotnet-repl\\20240330-0130-2177-7757-7e0dc815fdc6\\main.spi\r\n",
      "00:00:46 #173 [Debug] buildFile / takeWhileInclusive / fsxContent:  / errors: [] / typeErrorCount: 0\r\n",
      "00:00:47 #174 [Debug] buildFile / takeWhileInclusive / fsxContent:  / errors: [\r\n",
      "  [\r\n",
      "    \"Cannot apply a forall with a term.\",\r\n",
      "    {\r\n",
      "      \"TracedError\": {\r\n",
      "        \"message\": \"Cannot apply a forall with a term.\",\r\n",
      "        \"trace\": [\r\n",
      "          \"Error trace on line: 2, column: 10 in module: c:\\Users\\i574n\\AppData\\Local\\Temp\\dotnet-repl\\20240330-0130-2177-7757-7e0dc815fdc6\\main.spi.\n",
      "inl main () =\n",
      "         ^\n",
      "\",\r\n",
      "          \"Error trace on line: 4, column: 9 in module: c:\\Users\\i574n\\AppData\\Local\\Temp\\dotnet-repl\\20240330-0130-2177-7757-7e0dc815fdc6\\main.spi.\n",
      "        inl real_unbox forall a. (obj : a) : a =\n",
      "        ^\n",
      "\",\r\n",
      "          \"Error trace on line: 7, column: 9 in module: c:\\Users\\i574n\\AppData\\Local\\Temp\\dotnet-repl\\20240330-0130-2177-7757-7e0dc815fdc6\\main.spi.\n",
      "        real_unbox ()\n",
      "        ^\n",
      "\"\r\n",
      "        ]\r\n",
      "      }\r\n",
      "    }\r\n",
      "  ]\r\n",
      "] / typeErrorCount: 0\r\n",
      "00:00:47 #175 [Verbose] waitForPortAccess / port: 13805 / retry: 0\r\n",
      "00:00:49 #176 [Debug] runWithTimeoutAsync / timeout: 2000\r\n",
      "00:00:49 #177 [Debug] watchWithFilter / Disposing watch stream / filter: FileName, LastWrite\r\n",
      "FSharpOption<Tuple<FSharpOption<String>,FSharpList<String>>>\r\n",
      "      Value:       - <null>\r\n",
      "      - [ Cannot apply a forall with a term. ]\r\n"
     ]
    }
   ],
   "source": [
    "//// test\n",
    "\n",
    "\"\"\"\n",
    "inl main () =\n",
    "    real\n",
    "        inl real_unbox forall a. (obj : a) : a =\n",
    "            typecase obj with\n",
    "            | _ => obj\n",
    "        real_unbox ()\n",
    "    ()\n",
    "\"\"\"\n",
    "|> buildCode 10000 None\n",
    "|> Async.runWithTimeout 10000\n",
    "|> Option.map (fun (fsxContent, errors) -> fsxContent, errors |> List.map fst)\n",
    "|> _assertEqual (\n",
    "    Some (\n",
    "        None,\n",
    "        [ \"Cannot apply a forall with a term.\" ]\n",
    "    )\n",
    ")"
   ]
  },
  {
   "cell_type": "code",
   "execution_count": null,
   "metadata": {
    "dotnet_interactive": {
     "language": "fsharp"
    },
    "polyglot_notebook": {
     "kernelName": "fsharp"
    }
   },
   "outputs": [
    {
     "name": "stdout",
     "output_type": "stream",
     "text": [
      "00:00:50 #178 [Debug] runWithTimeoutAsync / timeout: 60\r\n",
      "00:00:50 #179 [Debug] executeAsync / options: { Command =\n",
      "   \"dotnet \"C:\\home\\git\\polyglot\\deps\\The-Spiral-Language\\The Spiral Language 2\\artifacts\\bin\\The Spiral Language 2\\release\\Spiral.dll\" --port 13805 --default-int i32 --default-float f64\"\n",
      "  WorkingDirectory = None\n",
      "  CancellationToken = Some System.Threading.CancellationToken\n",
      "  OnLine = Some <fun:buildCode@3-1070> }\r\n",
      "00:00:50 #180 [Verbose] > pwd: C:\\home\\git\\polyglot\\apps\\spiral\r\n",
      "00:00:50 #181 [Verbose] > dll_path: C:\\home\\git\\polyglot\\deps\\The-Spiral-Language\\The Spiral Language 2\\artifacts\\bin\\The Spiral Language 2\\release\r\n",
      "00:00:51 #182 [Verbose] > Starting the Spiral Server. It is bound to: http://localhost:13805\r\n",
      "00:00:51 #183 [Debug] runWithTimeoutAsync / timeout: 500\r\n",
      "00:00:51 #184 [Debug] sendJson / port: 13805 / json: {\"Ping\":true} / result.Length:\r\n",
      "00:00:51 #185 [Verbose] awaitCompiler / Ping / result: Some(null) / port: 13805 / retry: 0\r\n",
      "00:00:51 #186 [Verbose] > Server bound to: http://localhost:13805\r\n",
      "00:00:51 #187 [Debug] buildFile / takeWhileInclusive / fsxContent:  / errors: [] / typeErrorCount: 0\r\n",
      "00:00:51 #188 [Debug] buildFile / takeWhileInclusive / fsxContent:  / errors: [] / typeErrorCount: 0\r\n",
      "00:00:51 #189 [Debug] sendJson / port: 13805 / json: {\"FileOpen\":{\"spiText\":\"\\ninl main () =\\n    real\\n        inl real_unbox forall a. (obj : a) : a =\\n            typecase obj with\\n            | _ =\\u003E obj\\n        real_unbox \\u0060i32 1\\n\",\"uri\":\"file:///c:/Users/i574n/AppData/Local/Temp/dotnet-repl/20240330-0130-2739-3909-3fb9d22f43cc/main.spi\"}} / result.Length:\r\n",
      "00:00:51 #190 [Debug] sendJson / port: 13805 / json: {\"BuildFile\":{\"backend\":\"Fsharp\",\"uri\":\"file:///c:/Users/i574n/AppData/Local/Temp/dotnet-repl/20240330-0130-2739-3909-3fb9d22f43cc/main.spi\"}} / result.Length:\r\n",
      "00:00:51 #191 [Verbose] > Building c:\\Users\\i574n\\AppData\\Local\\Temp\\dotnet-repl\\20240330-0130-2739-3909-3fb9d22f43cc\\main.spi\r\n",
      "00:00:52 #192 [Debug] buildFile / takeWhileInclusive / fsxContent:  / errors: [] / typeErrorCount: 0\r\n",
      "00:00:53 #193 [Debug] buildFile / takeWhileInclusive / fsxContent:  / errors: [\r\n",
      "  [\r\n",
      "    \"The main function should not have a forall.\",\r\n",
      "    {\r\n",
      "      \"TracedError\": {\r\n",
      "        \"message\": \"The main function should not have a forall.\",\r\n",
      "        \"trace\": []\r\n",
      "      }\r\n",
      "    }\r\n",
      "  ]\r\n",
      "] / typeErrorCount: 0\r\n",
      "00:00:53 #194 [Verbose] waitForPortAccess / port: 13805 / retry: 0\r\n",
      "00:00:55 #195 [Debug] runWithTimeoutAsync / timeout: 2000\r\n",
      "00:00:55 #196 [Debug] watchWithFilter / Disposing watch stream / filter: FileName, LastWrite\r\n",
      "FSharpOption<Tuple<FSharpOption<String>,FSharpList<String>>>\r\n",
      "      Value:       - <null>\r\n",
      "      - [ The main function should not have a forall. ]\r\n"
     ]
    }
   ],
   "source": [
    "//// test\n",
    "\n",
    "\"\"\"\n",
    "inl main () =\n",
    "    real\n",
    "        inl real_unbox forall a. (obj : a) : a =\n",
    "            typecase obj with\n",
    "            | _ => obj\n",
    "        real_unbox `i32 1\n",
    "\"\"\"\n",
    "|> buildCode 10000 None\n",
    "|> Async.runWithTimeout 10000\n",
    "|> Option.map (fun (fsxContent, errors) -> fsxContent, errors |> List.map fst)\n",
    "|> _assertEqual (\n",
    "    Some (\n",
    "        None,\n",
    "        [ \"The main function should not have a forall.\" ]\n",
    "    )\n",
    ")"
   ]
  },
  {
   "cell_type": "code",
   "execution_count": null,
   "metadata": {
    "dotnet_interactive": {
     "language": "fsharp"
    },
    "polyglot_notebook": {
     "kernelName": "fsharp"
    }
   },
   "outputs": [
    {
     "name": "stdout",
     "output_type": "stream",
     "text": [
      "00:00:55 #197 [Debug] runWithTimeoutAsync / timeout: 60\r\n",
      "00:00:55 #198 [Debug] executeAsync / options: { Command =\n",
      "   \"dotnet \"C:\\home\\git\\polyglot\\deps\\The-Spiral-Language\\The Spiral Language 2\\artifacts\\bin\\The Spiral Language 2\\release\\Spiral.dll\" --port 13805 --default-int i32 --default-float f64\"\n",
      "  WorkingDirectory = None\n",
      "  CancellationToken = Some System.Threading.CancellationToken\n",
      "  OnLine = Some <fun:buildCode@3-1070> }\r\n",
      "00:00:55 #199 [Verbose] > pwd: C:\\home\\git\\polyglot\\apps\\spiral\r\n",
      "00:00:55 #200 [Verbose] > dll_path: C:\\home\\git\\polyglot\\deps\\The-Spiral-Language\\The Spiral Language 2\\artifacts\\bin\\The Spiral Language 2\\release\r\n",
      "00:00:56 #201 [Verbose] > Starting the Spiral Server. It is bound to: http://localhost:13805\r\n",
      "00:00:56 #202 [Debug] runWithTimeoutAsync / timeout: 500\r\n",
      "00:00:56 #203 [Verbose] waitForPortAccess / port: 13805 / retry: 0\r\n",
      "00:00:56 #204 [Debug] sendJson / port: 13805 / json: {\"Ping\":true} / result.Length:\r\n",
      "00:00:56 #205 [Verbose] awaitCompiler / Ping / result: Some(null) / port: 13805 / retry: 0\r\n",
      "00:00:56 #206 [Verbose] > Server bound to: http://localhost:13805\r\n",
      "00:00:56 #207 [Debug] buildFile / takeWhileInclusive / fsxContent:  / errors: [] / typeErrorCount: 0\r\n",
      "00:00:56 #208 [Debug] buildFile / takeWhileInclusive / fsxContent:  / errors: [] / typeErrorCount: 0\r\n",
      "00:00:56 #209 [Debug] sendJson / port: 13805 / json: {\"FileOpen\":{\"spiText\":\"\\ninl init_series start end inc =\\n    inl total : f64 = conv ((end - start) / inc) \\u002B 1\\n    listm.init total (conv \\u003E\\u003E (*) inc \\u003E\\u003E (\\u002B) start) : list f64\\n\\ntype integration = (f64 -\\u003E f64) -\\u003E f64 -\\u003E f64 -\\u003E f64\\n\\ninl integral dt : integration =\\n    fun f a b =\\u003E\\n        init_series (a \\u002B dt / 2) (b - dt / 2) dt\\n        |\\u003E listm.map (f \\u003E\\u003E (*) dt)\\n        |\\u003E listm.fold (\\u002B) 0\\n\\ninl main () =\\n    integral 0.1 (fun x =\\u003E x ** 2) 0 1\\n\",\"uri\":\"file:///c:/Users/i574n/AppData/Local/Temp/dotnet-repl/20240330-0130-3255-5574-51465d129636/main.spi\"}} / result.Length:\r\n",
      "00:00:56 #210 [Debug] sendJson / port: 13805 / json: {\"BuildFile\":{\"backend\":\"Fsharp\",\"uri\":\"file:///c:/Users/i574n/AppData/Local/Temp/dotnet-repl/20240330-0130-3255-5574-51465d129636/main.spi\"}} / result.Length:\r\n",
      "00:00:57 #211 [Verbose] > Building c:\\Users\\i574n\\AppData\\Local\\Temp\\dotnet-repl\\20240330-0130-3255-5574-51465d129636\\main.spi\r\n",
      "00:00:57 #212 [Debug] buildFile / takeWhileInclusive / fsxContent:  / errors: [] / typeErrorCount: 0\r\n",
      "00:00:58 #213 [Debug] buildFile / takeWhileInclusive / fsxContent:  / errors: [] / typeErrorCount: 0\r\n",
      "00:00:58 #214 [Debug] buildFile / takeWhileInclusive / fsxContent: 0.3325000000000001\n",
      " / errors: [] / typeErrorCount: 0\r\n",
      "00:00:58 #215 [Verbose] waitForPortAccess / port: 13805 / retry: 0\r\n",
      "00:01:00 #216 [Debug] runWithTimeoutAsync / timeout: 2000\r\n",
      "00:01:00 #217 [Debug] watchWithFilter / Disposing watch stream / filter: FileName, LastWrite\r\n",
      "FSharpOption<Tuple<FSharpOption<String>,FSharpList<String>>>\r\n",
      "      Value:       - FSharpOption<String>\r\n",
      "          Value: 0.3325000000000001\n",
      "\r\n",
      "      - [  ]\r\n"
     ]
    }
   ],
   "source": [
    "//// test\n",
    "\n",
    "\"\"\"\n",
    "inl init_series start end inc =\n",
    "    inl total : f64 = conv ((end - start) / inc) + 1\n",
    "    listm.init total (conv >> (*) inc >> (+) start) : list f64\n",
    "\n",
    "type integration = (f64 -> f64) -> f64 -> f64 -> f64\n",
    "\n",
    "inl integral dt : integration =\n",
    "    fun f a b =>\n",
    "        init_series (a + dt / 2) (b - dt / 2) dt\n",
    "        |> listm.map (f >> (*) dt)\n",
    "        |> listm.fold (+) 0\n",
    "\n",
    "inl main () =\n",
    "    integral 0.1 (fun x => x ** 2) 0 1\n",
    "\"\"\"\n",
    "|> buildCode 10000 None\n",
    "|> Async.runWithTimeout 10000\n",
    "|> Option.map (fun (fsxContent, errors) -> fsxContent, errors |> List.map fst)\n",
    "|> _assertEqual (\n",
    "    Some (\n",
    "        Some \"0.3325000000000001\\n\",\n",
    "        []\n",
    "    )\n",
    ")"
   ]
  },
  {
   "cell_type": "code",
   "execution_count": null,
   "metadata": {
    "dotnet_interactive": {
     "language": "fsharp"
    },
    "polyglot_notebook": {
     "kernelName": "fsharp"
    }
   },
   "outputs": [
    {
     "name": "stdout",
     "output_type": "stream",
     "text": [
      "00:01:01 #218 [Debug] runWithTimeoutAsync / timeout: 60\r\n",
      "00:01:01 #219 [Debug] executeAsync / options: { Command =\n",
      "   \"dotnet \"C:\\home\\git\\polyglot\\deps\\The-Spiral-Language\\The Spiral Language 2\\artifacts\\bin\\The Spiral Language 2\\release\\Spiral.dll\" --port 13805 --default-int i32 --default-float f64\"\n",
      "  WorkingDirectory = None\n",
      "  CancellationToken = Some System.Threading.CancellationToken\n",
      "  OnLine = Some <fun:buildCode@3-1070> }\r\n",
      "00:01:01 #220 [Verbose] > pwd: C:\\home\\git\\polyglot\\apps\\spiral\r\n",
      "00:01:01 #221 [Verbose] > dll_path: C:\\home\\git\\polyglot\\deps\\The-Spiral-Language\\The Spiral Language 2\\artifacts\\bin\\The Spiral Language 2\\release\r\n",
      "00:01:01 #222 [Verbose] > Starting the Spiral Server. It is bound to: http://localhost:13805\r\n",
      "00:01:01 #223 [Debug] runWithTimeoutAsync / timeout: 500\r\n",
      "00:01:01 #224 [Verbose] waitForPortAccess / port: 13805 / retry: 0\r\n",
      "00:01:02 #225 [Debug] sendJson / port: 13805 / json: {\"Ping\":true} / result.Length:\r\n",
      "00:01:02 #226 [Verbose] awaitCompiler / Ping / result: Some(null) / port: 13805 / retry: 0\r\n",
      "00:01:02 #227 [Verbose] > Server bound to: http://localhost:13805\r\n",
      "00:01:02 #228 [Debug] buildFile / takeWhileInclusive / fsxContent:  / errors: [] / typeErrorCount: 0\r\n",
      "00:01:02 #229 [Debug] buildFile / takeWhileInclusive / fsxContent:  / errors: [] / typeErrorCount: 0\r\n",
      "00:01:02 #230 [Debug] sendJson / port: 13805 / json: {\"FileOpen\":{\"spiText\":\"\\ninl init_series start end inc =\\n    inl total : f64 = conv ((end - start) / inc) \\u002B 1\\n    listm.init total (conv \\u003E\\u003E (*) inc \\u003E\\u003E (\\u002B) start) : list f64\\n\\ntype integration = (f64 -\\u003E f64) -\\u003E f64 -\\u003E f64 -\\u003E f64\\n\\ninl integral dt : integration =\\n    fun f a b =\\u003E\\n        init_series (a \\u002B dt / 2) (b - dt / 2) dt\\n        |\\u003E listm.map (f \\u003E\\u003E (*) dt)\\n        |\\u003E listm.fold (\\u002B) 0\\n\\ninl main () =\\n    integral 0.01 (fun x =\\u003E x ** 2) 0 1\\n\",\"uri\":\"file:///c:/Users/i574n/AppData/Local/Temp/dotnet-repl/20240330-0130-3804-0425-01317014591d/main.spi\"}} / result.Length:\r\n",
      "00:01:02 #231 [Debug] sendJson / port: 13805 / json: {\"BuildFile\":{\"backend\":\"Fsharp\",\"uri\":\"file:///c:/Users/i574n/AppData/Local/Temp/dotnet-repl/20240330-0130-3804-0425-01317014591d/main.spi\"}} / result.Length:\r\n",
      "00:01:02 #232 [Verbose] > Building c:\\Users\\i574n\\AppData\\Local\\Temp\\dotnet-repl\\20240330-0130-3804-0425-01317014591d\\main.spi\r\n",
      "00:01:03 #233 [Debug] buildFile / takeWhileInclusive / fsxContent:  / errors: [] / typeErrorCount: 0\r\n",
      "00:01:04 #234 [Debug] buildFile / takeWhileInclusive / fsxContent:  / errors: [] / typeErrorCount: 0\r\n",
      "00:01:04 #235 [Debug] buildFile / takeWhileInclusive / fsxContent: 0.33332500000000004\n",
      " / errors: [] / typeErrorCount: 0\r\n",
      "00:01:04 #236 [Verbose] waitForPortAccess / port: 13805 / retry: 0\r\n",
      "00:01:06 #237 [Debug] runWithTimeoutAsync / timeout: 2000\r\n",
      "00:01:06 #238 [Debug] watchWithFilter / Disposing watch stream / filter: FileName, LastWrite\r\n",
      "FSharpOption<Tuple<FSharpOption<String>,FSharpList<String>>>\r\n",
      "      Value:       - FSharpOption<String>\r\n",
      "          Value: 0.33332500000000004\n",
      "\r\n",
      "      - [  ]\r\n"
     ]
    }
   ],
   "source": [
    "//// test\n",
    "\n",
    "\"\"\"\n",
    "inl init_series start end inc =\n",
    "    inl total : f64 = conv ((end - start) / inc) + 1\n",
    "    listm.init total (conv >> (*) inc >> (+) start) : list f64\n",
    "\n",
    "type integration = (f64 -> f64) -> f64 -> f64 -> f64\n",
    "\n",
    "inl integral dt : integration =\n",
    "    fun f a b =>\n",
    "        init_series (a + dt / 2) (b - dt / 2) dt\n",
    "        |> listm.map (f >> (*) dt)\n",
    "        |> listm.fold (+) 0\n",
    "\n",
    "inl main () =\n",
    "    integral 0.01 (fun x => x ** 2) 0 1\n",
    "\"\"\"\n",
    "|> buildCode 10000 None\n",
    "|> Async.runWithTimeout 10000\n",
    "|> Option.map (fun (fsxContent, errors) -> fsxContent, errors |> List.map fst)\n",
    "|> _assertEqual (\n",
    "    Some (\n",
    "        Some \"0.33332500000000004\\n\",\n",
    "        []\n",
    "    )\n",
    ")\n",
    "// |> _assertEqual None\n",
    "// |> fun x -> printfn $\"{x.ToDisplayString ()}\""
   ]
  },
  {
   "cell_type": "markdown",
   "metadata": {},
   "source": [
    "## getFileTokenRange"
   ]
  },
  {
   "cell_type": "code",
   "execution_count": null,
   "metadata": {
    "dotnet_interactive": {
     "language": "fsharp"
    },
    "polyglot_notebook": {
     "kernelName": "fsharp"
    }
   },
   "outputs": [],
   "source": [
    "let inline getFileTokenRange port cancellationToken path = async {\n",
    "    let fullPath = path |> System.IO.Path.GetFullPath\n",
    "    let! code = fullPath |> FileSystem.readAllTextAsync\n",
    "    let lines = code |> Sm.split \"\\n\"\n",
    "\n",
    "    let token, disposable = Threading.newDisposableToken cancellationToken\n",
    "    use _ = disposable\n",
    "\n",
    "    let! serverPort, _errors, ct, disposable = awaitCompiler port (Some token)\n",
    "    use _ = disposable\n",
    "\n",
    "    let fileOpenObj = {| FileOpen = {| uri = fullPath |> getFileUri; spiText = code |} |}\n",
    "    let! _fileOpenResult = fileOpenObj |> sendObj serverPort\n",
    "\n",
    "    let fileTokenRangeObj =\n",
    "        {|\n",
    "            FileTokenRange =\n",
    "                {|\n",
    "                    uri = fullPath |> getFileUri\n",
    "                    range =\n",
    "                        [|\n",
    "                            {| line = 0; character = 0 |}\n",
    "                            {| line = lines.Length - 1; character = lines.[lines.Length - 1].Length |}\n",
    "                        |]\n",
    "                |}\n",
    "        |}\n",
    "    let! fileTokenRangeResult =\n",
    "        fileTokenRangeObj\n",
    "        |> sendObj serverPort\n",
    "        |> Async.withCancellationToken ct\n",
    "\n",
    "    return fileTokenRangeResult |> Option.map FSharp.Json.Json.deserialize<int array>\n",
    "}"
   ]
  },
  {
   "cell_type": "markdown",
   "metadata": {},
   "source": [
    "## getCodeTokenRange"
   ]
  },
  {
   "cell_type": "code",
   "execution_count": null,
   "metadata": {
    "dotnet_interactive": {
     "language": "fsharp"
    },
    "polyglot_notebook": {
     "kernelName": "fsharp"
    }
   },
   "outputs": [],
   "source": [
    "let inline getCodeTokenRange cancellationToken code = async {\n",
    "    let! mainPath, disposable = persistCode code\n",
    "    use _ = disposable\n",
    "    let port = getCompilerPort ()\n",
    "    return! mainPath |> getFileTokenRange port cancellationToken\n",
    "}"
   ]
  },
  {
   "cell_type": "code",
   "execution_count": null,
   "metadata": {
    "dotnet_interactive": {
     "language": "fsharp"
    },
    "polyglot_notebook": {
     "kernelName": "fsharp"
    }
   },
   "outputs": [
    {
     "name": "stdout",
     "output_type": "stream",
     "text": [
      "00:01:19 #239 [Debug] runWithTimeoutAsync / timeout: 60\r\n",
      "00:01:19 #240 [Debug] executeAsync / options: { Command =\n",
      "   \"dotnet \"C:\\home\\git\\polyglot\\deps\\The-Spiral-Language\\The Spiral Language 2\\artifacts\\bin\\The Spiral Language 2\\release\\Spiral.dll\" --port 13805 --default-int i32 --default-float f64\"\n",
      "  WorkingDirectory = None\n",
      "  CancellationToken = Some System.Threading.CancellationToken\n",
      "  OnLine = Some <fun:it@4-435> }\r\n",
      "00:01:19 #241 [Verbose] > pwd: C:\\home\\git\\polyglot\\apps\\spiral\r\n",
      "00:01:19 #242 [Verbose] > dll_path: C:\\home\\git\\polyglot\\deps\\The-Spiral-Language\\The Spiral Language 2\\artifacts\\bin\\The Spiral Language 2\\release\r\n",
      "00:01:19 #243 [Verbose] > Starting the Spiral Server. It is bound to: http://localhost:13805\r\n",
      "00:01:20 #244 [Debug] runWithTimeoutAsync / timeout: 500\r\n",
      "00:01:20 #245 [Verbose] waitForPortAccess / port: 13805 / retry: 0\r\n",
      "00:01:20 #246 [Debug] sendJson / port: 13805 / json: {\"Ping\":true} / result.Length:\r\n",
      "00:01:20 #247 [Verbose] awaitCompiler / Ping / result: Some(null) / port: 13805 / retry: 0\r\n",
      "00:01:20 #248 [Verbose] > Server bound to: http://localhost:13805\r\n",
      "00:01:20 #249 [Debug] sendJson / port: 13805 / json: {\"FileOpen\":{\"spiText\":\"inl main () = ()\",\"uri\":\"file:///c:/Users/i574n/AppData/Local/Temp/dotnet-repl/20240330-0130-5612-1201-14bfd41c7487/main.spi\"}} / result.Length:\r\n",
      "00:01:20 #250 [Debug] sendJson / port: 13805 / json: {\"FileTokenRange\":{\"range\":[{\"character\":0,\"line\":0},{\"character\":16,\"line\":0}],\"uri\":\"file:///c:/Users/i574n/AppData/Local/Temp/dotnet-repl/20240330-0130-5612-1201-14bfd41c7487/main.spi\"}} / result.Length: Some(213)\r\n",
      "00:01:22 #251 [Debug] runWithTimeoutAsync / timeout: 2000\r\n",
      "FSharpOption<Int32[]>\r\n",
      "      Value: [ 0, 0, 3, 7, 0, 0, 4, 4, 0, 0, 0, 5, 1, 8, 0, 0, 1, 1, 8, 0, 0, 2, 1, 4, 0, 0, 2, 1, 8, 0, 0, 1, 1, 8, 0 ]\r\n"
     ]
    }
   ],
   "source": [
    "//// test\n",
    "\n",
    "\"\"\"inl main () = ()\"\"\"\n",
    "|> getCodeTokenRange None\n",
    "|> Async.runWithTimeout 10000\n",
    "|> Option.flatten\n",
    "|> _assertEqual (Some [| 0; 0; 3; 7; 0; 0; 4; 4; 0; 0; 0; 5; 1; 8; 0; 0; 1; 1; 8; 0; 0; 2; 1; 4; 0; 0;\n",
    "2; 1; 8; 0; 0; 1; 1; 8; 0 |])"
   ]
  },
  {
   "cell_type": "code",
   "execution_count": null,
   "metadata": {
    "dotnet_interactive": {
     "language": "fsharp"
    },
    "polyglot_notebook": {
     "kernelName": "fsharp"
    }
   },
   "outputs": [
    {
     "name": "stdout",
     "output_type": "stream",
     "text": [
      "00:01:29 #252 [Debug] runWithTimeoutAsync / timeout: 60\r\n",
      "00:01:29 #253 [Debug] executeAsync / options: { Command =\n",
      "   \"dotnet \"C:\\home\\git\\polyglot\\deps\\The-Spiral-Language\\The Spiral Language 2\\artifacts\\bin\\The Spiral Language 2\\release\\Spiral.dll\" --port 13805 --default-int i32 --default-float f64\"\n",
      "  WorkingDirectory = None\n",
      "  CancellationToken = Some System.Threading.CancellationToken\n",
      "  OnLine = Some <fun:it@4-865> }\r\n",
      "00:01:29 #254 [Verbose] > pwd: C:\\home\\git\\polyglot\\apps\\spiral\r\n",
      "00:01:29 #255 [Verbose] > dll_path: C:\\home\\git\\polyglot\\deps\\The-Spiral-Language\\The Spiral Language 2\\artifacts\\bin\\The Spiral Language 2\\release\r\n",
      "00:01:29 #256 [Verbose] > Starting the Spiral Server. It is bound to: http://localhost:13805\r\n",
      "00:01:30 #257 [Debug] runWithTimeoutAsync / timeout: 500\r\n",
      "00:01:30 #258 [Verbose] waitForPortAccess / port: 13805 / retry: 0\r\n",
      "00:01:30 #259 [Debug] sendJson / port: 13805 / json: {\"Ping\":true} / result.Length:\r\n",
      "00:01:30 #260 [Verbose] awaitCompiler / Ping / result: Some(null) / port: 13805 / retry: 0\r\n",
      "00:01:30 #261 [Verbose] > Server bound to: http://localhost:13805\r\n",
      "00:01:30 #262 [Debug] sendJson / port: 13805 / json: {\"FileOpen\":{\"spiText\":\"inl main () = 1i32\",\"uri\":\"file:///c:/Users/i574n/AppData/Local/Temp/dotnet-repl/20240330-0131-0624-2479-243b78935926/main.spi\"}} / result.Length:\r\n",
      "00:01:30 #263 [Debug] sendJson / port: 13805 / json: {\"FileTokenRange\":{\"range\":[{\"character\":0,\"line\":0},{\"character\":18,\"line\":0}],\"uri\":\"file:///c:/Users/i574n/AppData/Local/Temp/dotnet-repl/20240330-0131-0624-2479-243b78935926/main.spi\"}} / result.Length: Some(214)\r\n",
      "00:01:32 #264 [Debug] runWithTimeoutAsync / timeout: 2000\r\n",
      "FSharpOption<Int32[]>\r\n",
      "      Value: [ 0, 0, 3, 7, 0, 0, 4, 4, 0, 0, 0, 5, 1, 8, 0, 0, 1, 1, 8, 0, 0, 2, 1, 4, 0, 0, 2, 1, 3, 0, 0, 1, 3, 12, 0 ]\r\n"
     ]
    }
   ],
   "source": [
    "//// test\n",
    "\n",
    "\"\"\"inl main () = 1i32\"\"\"\n",
    "|> getCodeTokenRange None\n",
    "|> Async.runWithTimeout 10000\n",
    "|> Option.flatten\n",
    "|> _assertEqual (Some [| 0; 0; 3; 7; 0; 0; 4; 4; 0; 0; 0; 5; 1; 8; 0; 0; 1; 1; 8; 0; 0; 2; 1; 4; 0; 0;\n",
    "2; 1; 3; 0; 0; 1; 3; 12; 0 |])"
   ]
  },
  {
   "cell_type": "markdown",
   "metadata": {},
   "source": [
    "## Arguments"
   ]
  },
  {
   "cell_type": "code",
   "execution_count": null,
   "metadata": {
    "dotnet_interactive": {
     "language": "fsharp"
    },
    "polyglot_notebook": {
     "kernelName": "fsharp"
    }
   },
   "outputs": [],
   "source": [
    "[<RequireQualifiedAccess>]\n",
    "type Arguments =\n",
    "    | Build_File of string * string\n",
    "    | File_Token_Range of string * string\n",
    "    | Execute_Command of string\n",
    "    | Timeout of int\n",
    "    | Port of int\n",
    "\n",
    "    interface Argu.IArgParserTemplate with\n",
    "        member s.Usage =\n",
    "            match s with\n",
    "            | Build_File _ -> nameof Build_File\n",
    "            | File_Token_Range _ -> nameof File_Token_Range\n",
    "            | Execute_Command _ -> nameof Execute_Command\n",
    "            | Timeout _ -> nameof Timeout\n",
    "            | Port _ -> nameof Port"
   ]
  },
  {
   "cell_type": "code",
   "execution_count": null,
   "metadata": {
    "dotnet_interactive": {
     "language": "fsharp"
    },
    "polyglot_notebook": {
     "kernelName": "fsharp"
    }
   },
   "outputs": [
    {
     "data": {
      "text/plain": [
       "USAGE: dotnet-repl [--help] [--build-file <string> <string>]\r\n",
       "                   [--file-token-range <string> <string>]\r\n",
       "                   [--execute-command <string>] [--timeout <int>] [--port <int>]\r\n",
       "\r\n",
       "OPTIONS:\r\n",
       "\r\n",
       "    --build-file <string> <string>\r\n",
       "                          Build_File\r\n",
       "    --file-token-range <string> <string>\r\n",
       "                          File_Token_Range\r\n",
       "    --execute-command <string>\r\n",
       "                          Execute_Command\r\n",
       "    --timeout <int>       Timeout\r\n",
       "    --port <int>          Port\r\n",
       "    --help                display this list of options.\r\n"
      ]
     },
     "metadata": {},
     "output_type": "display_data"
    }
   ],
   "source": [
    "//// test\n",
    "\n",
    "Argu.ArgumentParser.Create<Arguments>().PrintUsage ()"
   ]
  },
  {
   "cell_type": "markdown",
   "metadata": {},
   "source": [
    "## main"
   ]
  },
  {
   "cell_type": "code",
   "execution_count": null,
   "metadata": {
    "dotnet_interactive": {
     "language": "fsharp"
    },
    "polyglot_notebook": {
     "kernelName": "fsharp"
    }
   },
   "outputs": [],
   "source": [
    "let main args =\n",
    "    let argsMap = args |> Runtime.parseArgsMap<Arguments>\n",
    "\n",
    "    let buildFileActions =\n",
    "        argsMap\n",
    "        |> Map.tryFind (nameof Arguments.Build_File)\n",
    "        |> Option.defaultValue []\n",
    "        |> List.choose (function\n",
    "            | Arguments.Build_File (inputPath, outputPath) -> Some (inputPath, outputPath)\n",
    "            | _ -> None\n",
    "        )\n",
    "\n",
    "    let fileTokenRangeActions =\n",
    "        argsMap\n",
    "        |> Map.tryFind (nameof Arguments.File_Token_Range)\n",
    "        |> Option.defaultValue []\n",
    "        |> List.choose (function\n",
    "            | Arguments.File_Token_Range (inputPath, outputPath) -> Some (inputPath, outputPath)\n",
    "            | _ -> None\n",
    "        )\n",
    "\n",
    "    let executeCommandActions =\n",
    "        argsMap\n",
    "        |> Map.tryFind (nameof Arguments.Execute_Command)\n",
    "        |> Option.defaultValue []\n",
    "        |> List.choose (function\n",
    "            | Arguments.Execute_Command command -> Some command\n",
    "            | _ -> None\n",
    "        )\n",
    "\n",
    "    let timeout =\n",
    "        match argsMap |> Map.tryFind (nameof Arguments.Timeout) with\n",
    "        | Some [ Arguments.Timeout timeout ] -> timeout\n",
    "        | _ -> 60000 * 60\n",
    "\n",
    "    let port =\n",
    "        match argsMap |> Map.tryFind (nameof Arguments.Port) with\n",
    "        | Some [ Arguments.Port port ] -> Some port\n",
    "        | _ -> None\n",
    "\n",
    "    async {\n",
    "        let port = port |> Option.defaultWith getCompilerPort\n",
    "        let localToken, disposable = Threading.newDisposableToken None\n",
    "        let! serverPort, _errors, compilerToken, disposable = awaitCompiler port (Some localToken)\n",
    "        use _ = disposable\n",
    "\n",
    "        let buildFileAsync =\n",
    "            buildFileActions\n",
    "            |> List.map (fun (inputPath, outputPath) -> async {\n",
    "                let! outputCode, errors = inputPath |> buildFile timeout serverPort None\n",
    "\n",
    "                errors\n",
    "                |> List.map snd\n",
    "                |> List.iter (fun error ->\n",
    "                    trace Critical (fun () -> $\"main / error: {error |> serializeObj}\") getLocals\n",
    "                )\n",
    "\n",
    "                match outputCode with\n",
    "                | Some outputCode ->\n",
    "                    do! outputCode |> FileSystem.writeAllTextAsync outputPath\n",
    "                    return 0\n",
    "                | None ->\n",
    "                    return 1\n",
    "            })\n",
    "\n",
    "        let fileTokenRangeAsync =\n",
    "            fileTokenRangeActions\n",
    "            |> List.map (fun (inputPath, outputPath) -> async {\n",
    "                let! tokenRange = inputPath |> getFileTokenRange serverPort None\n",
    "                match tokenRange with\n",
    "                | Some tokenRange ->\n",
    "                    do! tokenRange |> FSharp.Json.Json.serialize |> FileSystem.writeAllTextAsync outputPath\n",
    "                    return 0\n",
    "                | None ->\n",
    "                    return 1\n",
    "            })\n",
    "\n",
    "        let executeCommandAsync =\n",
    "            executeCommandActions\n",
    "            |> List.map (fun command -> async {\n",
    "                let! exitCode, result =\n",
    "                    Runtime.executeWithOptionsAsync\n",
    "                        {\n",
    "                            Command = command\n",
    "                            CancellationToken = Some compilerToken\n",
    "                            WorkingDirectory = None\n",
    "                            OnLine = None\n",
    "                        }\n",
    "\n",
    "                trace Debug (fun () -> $\"main / executeCommand / exitCode: {exitCode}\") getLocals\n",
    "\n",
    "                return exitCode\n",
    "            })\n",
    "\n",
    "        return!\n",
    "            [| buildFileAsync; fileTokenRangeAsync; executeCommandAsync |]\n",
    "            |> Seq.collect id\n",
    "            |> fun x -> Async.Parallel (x, float System.Environment.ProcessorCount * 0.75 |> ceil |> int)\n",
    "            |> Async.map Array.sum\n",
    "    }\n",
    "    |> Async.runWithTimeout timeout\n",
    "    |> Option.defaultValue 1"
   ]
  },
  {
   "cell_type": "code",
   "execution_count": null,
   "metadata": {
    "dotnet_interactive": {
     "language": "fsharp"
    },
    "polyglot_notebook": {
     "kernelName": "fsharp"
    }
   },
   "outputs": [
    {
     "data": {
      "text/html": [
       "<div class=\"dni-plaintext\"><pre>0</pre></div><style>\r\n",
       ".dni-code-hint {\r\n",
       "    font-style: italic;\r\n",
       "    overflow: hidden;\r\n",
       "    white-space: nowrap;\r\n",
       "}\r\n",
       ".dni-treeview {\r\n",
       "    white-space: nowrap;\r\n",
       "}\r\n",
       ".dni-treeview td {\r\n",
       "    vertical-align: top;\r\n",
       "    text-align: start;\r\n",
       "}\r\n",
       "details.dni-treeview {\r\n",
       "    padding-left: 1em;\r\n",
       "}\r\n",
       "table td {\r\n",
       "    text-align: start;\r\n",
       "}\r\n",
       "table tr { \r\n",
       "    vertical-align: top; \r\n",
       "    margin: 0em 0px;\r\n",
       "}\r\n",
       "table tr td pre \r\n",
       "{ \r\n",
       "    vertical-align: top !important; \r\n",
       "    margin: 0em 0px !important;\r\n",
       "} \r\n",
       "table th {\r\n",
       "    text-align: start;\r\n",
       "}\r\n",
       "</style>"
      ]
     },
     "metadata": {},
     "output_type": "display_data"
    }
   ],
   "source": [
    "//// test\n",
    "\n",
    "let args =\n",
    "    System.Environment.GetEnvironmentVariable \"ARGS\"\n",
    "    |> Runtime.splitArgs\n",
    "    |> Seq.toArray\n",
    "\n",
    "match args with\n",
    "| [||] -> 0\n",
    "| args -> if main args = 0 then 0 else failwith \"main failed\""
   ]
  }
 ],
 "metadata": {},
 "nbformat": 4,
 "nbformat_minor": 5
}