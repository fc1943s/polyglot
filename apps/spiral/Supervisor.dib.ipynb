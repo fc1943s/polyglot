{
 "cells": [
  {
   "cell_type": "markdown",
   "metadata": {},
   "source": [
    "# Supervisor (Polyglot)"
   ]
  },
  {
   "cell_type": "code",
   "execution_count": null,
   "metadata": {
    "dotnet_interactive": {
     "language": "fsharp"
    },
    "polyglot_notebook": {
     "kernelName": "fsharp"
    }
   },
   "outputs": [],
   "source": [
    "#!import ../../lib/fsharp/Notebooks.dib\n",
    "#!import ../../lib/fsharp/Testing.dib"
   ]
  },
  {
   "cell_type": "code",
   "execution_count": null,
   "metadata": {
    "dotnet_interactive": {
     "language": "fsharp"
    },
    "polyglot_notebook": {
     "kernelName": "fsharp"
    }
   },
   "outputs": [],
   "source": [
    "#r @\"../../../../../../../.nuget/packages/fsharp.control.asyncseq/3.2.1/lib/netstandard2.1/FSharp.Control.AsyncSeq.dll\"\n",
    "#r @\"../../../../../../../.nuget/packages/system.reactive/6.0.1-preview.1/lib/net6.0/System.Reactive.dll\"\n",
    "#r @\"../../../../../../../.nuget/packages/system.reactive.linq/6.0.1-preview.1/lib/netstandard2.0/System.Reactive.Linq.dll\"\n",
    "#r @\"../../../../../../../.nuget/packages/argu/6.1.5/lib/netstandard2.0/Argu.dll\"\n",
    "#r @\"../../../../../../../.nuget/packages/system.commandline/2.0.0-beta4.22272.1/lib/net6.0/System.CommandLine.dll\"\n",
    "#r @\"../../../../../../../.nuget/packages/microsoft.aspnetcore.http.connections.common/7.0.0/lib/net7.0/Microsoft.AspNetCore.Http.Connections.Common.dll\"\n",
    "#r @\"../../../../../../../.nuget/packages/microsoft.aspnetcore.http.connections.client/7.0.0/lib/net7.0/Microsoft.AspNetCore.Http.Connections.Client.dll\"\n",
    "#r @\"../../../../../../../.nuget/packages/microsoft.aspnetcore.signalr.common/7.0.0/lib/net7.0/Microsoft.AspNetCore.SignalR.Common.dll\"\n",
    "#r @\"../../../../../../../.nuget/packages/microsoft.aspnetcore.signalr.client/7.0.0/lib/net7.0/Microsoft.AspNetCore.SignalR.Client.dll\"\n",
    "#r @\"../../../../../../../.nuget/packages/microsoft.aspnetcore.signalr.client.core/7.0.0/lib/net7.0/Microsoft.AspNetCore.SignalR.Client.Core.dll\"\n",
    "#r @\"../../../../../../../.nuget/packages/fsharp.json/0.4.1/lib/netstandard2.0/FSharp.Json.dll\""
   ]
  },
  {
   "cell_type": "code",
   "execution_count": null,
   "metadata": {
    "dotnet_interactive": {
     "language": "fsharp"
    },
    "polyglot_notebook": {
     "kernelName": "fsharp"
    }
   },
   "outputs": [],
   "source": [
    "#!import ../../lib/fsharp/Common.fs\n",
    "#!import ../../lib/fsharp/CommonFSharp.fs\n",
    "#!import ../../lib/fsharp/Threading.fs\n",
    "#!import ../../lib/fsharp/Async.fs\n",
    "#!import ../../lib/fsharp/AsyncSeq.fs\n",
    "#!import ../../lib/fsharp/Networking.fs\n",
    "#!import ../../lib/fsharp/Runtime.fs\n",
    "#!import ../../lib/fsharp/FileSystem.fs"
   ]
  },
  {
   "cell_type": "code",
   "execution_count": null,
   "metadata": {
    "dotnet_interactive": {
     "language": "fsharp"
    },
    "polyglot_notebook": {
     "kernelName": "fsharp"
    }
   },
   "outputs": [],
   "source": [
    "open Common\n",
    "open FileSystem.Operators\n",
    "open Microsoft.AspNetCore.SignalR.Client"
   ]
  },
  {
   "cell_type": "markdown",
   "metadata": {},
   "source": [
    "## sendJson"
   ]
  },
  {
   "cell_type": "code",
   "execution_count": null,
   "metadata": {
    "dotnet_interactive": {
     "language": "fsharp"
    },
    "polyglot_notebook": {
     "kernelName": "fsharp"
    }
   },
   "outputs": [],
   "source": [
    "let inline sendJson (port : int) (json : string) = async {\n",
    "    let! portOpen = Networking.testPortOpen port\n",
    "    if portOpen then\n",
    "        try\n",
    "            let connection = HubConnectionBuilder().WithUrl($\"http://127.0.0.1:{port}\").Build()\n",
    "            do! connection.StartAsync () |> Async.AwaitTask\n",
    "            let! result = connection.InvokeAsync<string>(\"ClientToServerMsg\", json) |> Async.AwaitTask\n",
    "            do! connection.StopAsync () |> Async.AwaitTask\n",
    "            trace Debug (fun () -> $\"sendJson / port: {port} / json: {json} / result.Length: {result |> Option.ofObj |> Option.map String.length}\") getLocals\n",
    "            return Some result\n",
    "        with ex ->\n",
    "            trace Critical (fun () -> $\"sendJson / port: {port} / json: {json} / ex: {ex |> printException}\") getLocals\n",
    "            return None\n",
    "    else\n",
    "        trace Debug (fun () -> \"sendJson / error: port not open\") getLocals\n",
    "        return None\n",
    "}"
   ]
  },
  {
   "cell_type": "markdown",
   "metadata": {},
   "source": [
    "## sendObj"
   ]
  },
  {
   "cell_type": "code",
   "execution_count": null,
   "metadata": {
    "dotnet_interactive": {
     "language": "fsharp"
    },
    "polyglot_notebook": {
     "kernelName": "fsharp"
    }
   },
   "outputs": [],
   "source": [
    "let inline sendObj port obj =\n",
    "    obj\n",
    "    |> System.Text.Json.JsonSerializer.Serialize\n",
    "    |> sendJson port"
   ]
  },
  {
   "cell_type": "markdown",
   "metadata": {},
   "source": [
    "## awaitCompiler"
   ]
  },
  {
   "cell_type": "code",
   "execution_count": null,
   "metadata": {
    "dotnet_interactive": {
     "language": "fsharp"
    },
    "polyglot_notebook": {
     "kernelName": "fsharp"
    }
   },
   "outputs": [],
   "source": [
    "type VSCPos = {| line : int; character : int |}\n",
    "type VSCRange = VSCPos * VSCPos\n",
    "type RString = VSCRange * string\n",
    "type TracedError = {| trace : string list; message : string |}\n",
    "type ClientErrorsRes =\n",
    "    | FatalError of string\n",
    "    | TracedError of TracedError\n",
    "    | PackageErrors of {| uri : string; errors : RString list |}\n",
    "    | TokenizerErrors of {| uri : string; errors : RString list |}\n",
    "    | ParserErrors of {| uri : string; errors : RString list |}\n",
    "    | TypeErrors of {| uri : string; errors : RString list |}"
   ]
  },
  {
   "cell_type": "code",
   "execution_count": null,
   "metadata": {
    "dotnet_interactive": {
     "language": "fsharp"
    },
    "polyglot_notebook": {
     "kernelName": "fsharp"
    }
   },
   "outputs": [],
   "source": [
    "let inline awaitCompiler port cancellationToken = async {\n",
    "    let! ct =\n",
    "        cancellationToken\n",
    "        |> Option.defaultValue System.Threading.CancellationToken.None\n",
    "        |> Async.mergeCancellationTokenWithDefaultAsync\n",
    "\n",
    "    let cts = new System.Threading.CancellationTokenSource ()\n",
    "\n",
    "    let compiler = MailboxProcessor.Start (fun inbox -> async {\n",
    "        let! availablePort = Networking.getAvailablePort (Some 60) port\n",
    "        if availablePort <> port then\n",
    "            inbox.Post port\n",
    "        else\n",
    "            let repositoryRoot = FileSystem.getSourceDirectory () |> FileSystem.findParent \".paket\" false\n",
    "\n",
    "            let compilerPath =\n",
    "                repositoryRoot </> \"deps/The-Spiral-Language/The Spiral Language 2/artifacts/bin/The Spiral Language 2/release\"\n",
    "                |> System.IO.Path.GetFullPath\n",
    "\n",
    "            let dllPath = compilerPath </> \"Spiral.dll\"\n",
    "\n",
    "            let! exitCode, result =\n",
    "                Runtime.executeWithOptionsAsync\n",
    "                    {\n",
    "                        Command = $@\"dotnet \"\"{dllPath}\"\" --port {availablePort} --default-int i32 --default-float f64\"\n",
    "                        CancellationToken = Some ct\n",
    "                        WorkingDirectory = None\n",
    "                        OnLine = Some <| fun { Line = line } -> async {\n",
    "                            if line |> String.contains $\"Server bound to: http://localhost:{availablePort}\" then\n",
    "                                do! Networking.waitForPortAccess (Some 500) true availablePort |> Async.Ignore\n",
    "\n",
    "                                let rec loop retry = async {\n",
    "                                    let getLocals () = $\"port: {availablePort} / retry: {retry} / {getLocals ()}\"\n",
    "                                    try\n",
    "                                        let pingObj = {| Ping = true |}\n",
    "                                        let! pingResult = pingObj |> sendObj availablePort\n",
    "                                        trace Verbose (fun () -> $\"awaitCompiler / Ping / result: {pingResult}\") getLocals\n",
    "                                    with ex ->\n",
    "                                        trace Verbose (fun () -> $\"awaitCompiler / Ping / ex: {ex |> printException}\") getLocals\n",
    "                                        do! Async.Sleep 10\n",
    "                                        do! loop (retry + 1)\n",
    "                                }\n",
    "                                do! loop 0\n",
    "                                inbox.Post availablePort\n",
    "                        }\n",
    "                    }\n",
    "            trace Debug (fun () -> $\"awaitCompiler / exitCode: {exitCode} / result: {result}\") getLocals\n",
    "            cts.Cancel ()\n",
    "    }, ct)\n",
    "\n",
    "    let! serverPort = compiler.Receive ()\n",
    "\n",
    "    let connection = HubConnectionBuilder().WithUrl($\"http://127.0.0.1:{serverPort}\").Build ()\n",
    "    do! connection.StartAsync () |> Async.AwaitTask\n",
    "\n",
    "    let event = Event<_> ()\n",
    "    let disposable = connection.On<string> (\"ServerToClientMsg\", event.Trigger)\n",
    "    let stream =\n",
    "        FSharp.Control.AsyncSeq.unfoldAsync\n",
    "            (fun () -> async {\n",
    "                let! msg = event.Publish |> Async.AwaitEvent\n",
    "                return Some (msg |> FSharp.Json.Json.deserialize<ClientErrorsRes>, ())\n",
    "            })\n",
    "            ()\n",
    "\n",
    "    let disposable =\n",
    "        newDisposable (fun () ->\n",
    "            disposable.Dispose ()\n",
    "            connection.StopAsync () |> Async.AwaitTask |> Async.StartImmediate\n",
    "        )\n",
    "\n",
    "    return\n",
    "        serverPort,\n",
    "        stream,\n",
    "        cts.Token,\n",
    "        disposable\n",
    "}"
   ]
  },
  {
   "cell_type": "markdown",
   "metadata": {},
   "source": [
    "## getFileUri"
   ]
  },
  {
   "cell_type": "code",
   "execution_count": null,
   "metadata": {
    "dotnet_interactive": {
     "language": "fsharp"
    },
    "polyglot_notebook": {
     "kernelName": "fsharp"
    }
   },
   "outputs": [],
   "source": [
    "let inline getFileUri (path : string) =\n",
    "    let path =\n",
    "        if Runtime.isWindows () |> not\n",
    "        then path\n",
    "        else $\"{path.[0] |> System.Char.ToLower}{path.[1..]}\" |> String.replace \"\\\\\" \"/\"\n",
    "    $\"file:///{path |> String.trimStart [| '/' |]}\""
   ]
  },
  {
   "cell_type": "code",
   "execution_count": null,
   "metadata": {
    "dotnet_interactive": {
     "language": "fsharp"
    },
    "polyglot_notebook": {
     "kernelName": "fsharp"
    }
   },
   "outputs": [],
   "source": [
    "let inline getFilePathFromUri uri =\n",
    "    match System.Uri.TryCreate (uri, System.UriKind.Absolute) with\n",
    "    | true, uri -> uri.AbsolutePath |> System.IO.Path.GetFullPath\n",
    "    | _ -> failwith \"invalid uri\""
   ]
  },
  {
   "cell_type": "code",
   "execution_count": null,
   "metadata": {
    "dotnet_interactive": {
     "language": "fsharp"
    },
    "polyglot_notebook": {
     "kernelName": "fsharp"
    }
   },
   "outputs": [],
   "source": [
    "let inline getCompilerPort () =\n",
    "    13805"
   ]
  },
  {
   "cell_type": "markdown",
   "metadata": {},
   "source": [
    "## buildFile"
   ]
  },
  {
   "cell_type": "code",
   "execution_count": null,
   "metadata": {
    "dotnet_interactive": {
     "language": "fsharp"
    },
    "polyglot_notebook": {
     "kernelName": "fsharp"
    }
   },
   "outputs": [],
   "source": [
    "let inline buildFile timeout port cancellationToken path = async {\n",
    "    let fullPath = path |> System.IO.Path.GetFullPath\n",
    "    let fileDir = fullPath |> System.IO.Path.GetDirectoryName\n",
    "    let fileName = fullPath |> System.IO.Path.GetFileNameWithoutExtension\n",
    "    let! code = fullPath |> FileSystem.readAllTextAsync\n",
    "\n",
    "    let eventFilter = function\n",
    "        | FileSystem.FileSystemChange.Changed (path, _) when path = $\"{fileName}.fsx\" -> true\n",
    "        | _ -> false\n",
    "\n",
    "    let stream, disposable = fileDir |> FileSystem.watchDirectory eventFilter\n",
    "    use _ = disposable\n",
    "\n",
    "    let token, disposable = Threading.newDisposableToken cancellationToken\n",
    "    use _ = disposable\n",
    "\n",
    "    let! serverPort, errors, ct, disposable = awaitCompiler port (Some token)\n",
    "    use _ = disposable\n",
    "\n",
    "    let fsxContentSeq =\n",
    "        stream\n",
    "        |> FSharp.Control.AsyncSeq.choose (function\n",
    "            | _, (FileSystem.FileSystemChange.Changed (path, Some content) as event)\n",
    "                when event |> eventFilter\n",
    "                ->\n",
    "                Some content\n",
    "            | _ -> None\n",
    "        )\n",
    "        |> FSharp.Control.AsyncSeq.map (fun content ->\n",
    "            Some (content |> String.replace \"\\r\\n\" \"\\n\"), None\n",
    "        )\n",
    "\n",
    "    let inline printErrorData (data : {| uri : string; errors : RString list |}) =\n",
    "        let fileName = data.uri |> System.IO.Path.GetFileName\n",
    "        let errors =\n",
    "            data.errors\n",
    "            |> List.map snd\n",
    "            |> String.concat \"\\n\"\n",
    "        $\"{fileName}:\\n{errors}\"\n",
    "\n",
    "    let errorsSeq =\n",
    "        errors\n",
    "        |> FSharp.Control.AsyncSeq.choose (fun error ->\n",
    "            match error with\n",
    "            | FatalError message ->\n",
    "                Some (message, error)\n",
    "            | TracedError data ->\n",
    "                Some (data.message, error)\n",
    "            | PackageErrors data when data.errors |> List.isEmpty |> not ->\n",
    "                Some (data |> printErrorData, error)\n",
    "            | TokenizerErrors data when data.errors |> List.isEmpty |> not ->\n",
    "                Some (data |> printErrorData, error)\n",
    "            | ParserErrors data when data.errors |> List.isEmpty |> not ->\n",
    "                Some (data |> printErrorData, error)\n",
    "            | TypeErrors data when data.errors |> List.isEmpty |> not ->\n",
    "                Some (data |> printErrorData, error)\n",
    "            | _ -> None\n",
    "        )\n",
    "        |> FSharp.Control.AsyncSeq.map (fun (message, error) ->\n",
    "            None, Some (message, error)\n",
    "        )\n",
    "\n",
    "    let timerSeq =\n",
    "        1000\n",
    "        |> FSharp.Control.AsyncSeq.intervalMs\n",
    "        |> FSharp.Control.AsyncSeq.map (fun _ -> None, None)\n",
    "\n",
    "    let outputSeq =\n",
    "        [ fsxContentSeq; errorsSeq; timerSeq ]\n",
    "        |> FSharp.Control.AsyncSeq.mergeAll\n",
    "\n",
    "    let! outputChild =\n",
    "        ((None, [], 0), outputSeq)\n",
    "        ||> FSharp.Control.AsyncSeq.scan (\n",
    "            fun (fsxContentResult, errors, typeErrorCount) (fsxContent, error) ->\n",
    "                match fsxContent, error with\n",
    "                | Some fsxContent, None -> Some fsxContent, errors, typeErrorCount\n",
    "                | None, Some (_, FatalError \"File main has a type error somewhere in its path.\") ->\n",
    "                    fsxContentResult, errors, typeErrorCount + 1\n",
    "                | None, Some error -> fsxContentResult, error :: errors, typeErrorCount\n",
    "                | None, None when typeErrorCount >= 1 ->\n",
    "                    fsxContentResult, errors, typeErrorCount + 1\n",
    "                | _ -> fsxContentResult, errors, typeErrorCount\n",
    "        )\n",
    "        |> FSharp.Control.AsyncSeq.takeWhileInclusive (fun (fsxContent, errors, typeErrorCount) ->\n",
    "            trace Debug (fun () -> $\"buildFile / takeWhileInclusive / fsxContent: {fsxContent |> Option.defaultValue System.String.Empty |> String.ellipsis 750} / errors: {errors} / typeErrorCount: {typeErrorCount}\") getLocals\n",
    "            match fsxContent, errors with\n",
    "            | None, [] when typeErrorCount > 2 -> false\n",
    "            | None, [] -> true\n",
    "            | _ -> false\n",
    "        )\n",
    "        |> FSharp.Control.AsyncSeq.tryLast\n",
    "        |> Async.withCancellationToken ct\n",
    "        |> Async.catch\n",
    "        |> Async.runWithTimeoutAsync timeout\n",
    "        |> Async.StartChild\n",
    "\n",
    "    let fileOpenObj = {| FileOpen = {| uri = fullPath |> getFileUri; spiText = code |} |}\n",
    "    let! _fileOpenResult = fileOpenObj |> sendObj serverPort\n",
    "\n",
    "    do! Async.Sleep 60\n",
    "\n",
    "    let buildFileObj = {| BuildFile = {| uri = fullPath |> getFileUri; backend = \"Fsharp\" |} |}\n",
    "    let! _buildFileResult = buildFileObj |> sendObj serverPort\n",
    "\n",
    "    return!\n",
    "        outputChild\n",
    "        |> Async.map (function\n",
    "            | Some (Ok (Some (message, errors, _))) -> message, errors |> List.distinct |> List.rev\n",
    "            | Some (Error ex) ->\n",
    "                trace Critical (fun () -> $\"buildFile / error: {ex |> printException}\") getLocals\n",
    "                None, []\n",
    "            | _ -> None, []\n",
    "        )\n",
    "}"
   ]
  },
  {
   "cell_type": "markdown",
   "metadata": {},
   "source": [
    "## persistCode"
   ]
  },
  {
   "cell_type": "code",
   "execution_count": null,
   "metadata": {
    "dotnet_interactive": {
     "language": "fsharp"
    },
    "polyglot_notebook": {
     "kernelName": "fsharp"
    }
   },
   "outputs": [],
   "source": [
    "let inline persistCode code = async {\n",
    "    let tempDir = FileSystem.createTempDirectory ()\n",
    "\n",
    "    let mainPath = tempDir </> \"main.spi\"\n",
    "    do! code |> FileSystem.writeAllTextAsync mainPath\n",
    "\n",
    "    let repositoryRoot = FileSystem.getSourceDirectory () |> FileSystem.findParent \".paket\" false\n",
    "\n",
    "    let spiprojPath = tempDir </> \"package.spiproj\"\n",
    "    let spiprojCode =\n",
    "        $\"\"\"packageDir: {repositoryRoot </> \"lib\"}\n",
    "packages:\n",
    "    |core-\n",
    "    spiral-\n",
    "modules:\n",
    "    main\n",
    "\"\"\"\n",
    "    do! spiprojCode |> FileSystem.writeAllTextAsync spiprojPath\n",
    "\n",
    "    let disposable = newDisposable (fun () ->\n",
    "        ()\n",
    "        // tempDir |> FileSystem.deleteDirectoryAsync |> Async.Ignore |> Async.RunSynchronously\n",
    "    )\n",
    "\n",
    "    return mainPath, disposable\n",
    "}"
   ]
  },
  {
   "cell_type": "markdown",
   "metadata": {},
   "source": [
    "## buildCode"
   ]
  },
  {
   "cell_type": "code",
   "execution_count": null,
   "metadata": {
    "dotnet_interactive": {
     "language": "fsharp"
    },
    "polyglot_notebook": {
     "kernelName": "fsharp"
    }
   },
   "outputs": [],
   "source": [
    "let inline buildCode timeout cancellationToken code = async {\n",
    "    let! mainPath, disposable = persistCode code\n",
    "    use _ = disposable\n",
    "    let port = getCompilerPort ()\n",
    "    return! mainPath |> buildFile timeout port cancellationToken\n",
    "}"
   ]
  },
  {
   "cell_type": "code",
   "execution_count": null,
   "metadata": {
    "dotnet_interactive": {
     "language": "fsharp"
    },
    "polyglot_notebook": {
     "kernelName": "fsharp"
    }
   },
   "outputs": [],
   "source": [
    "//// test\n",
    "\n",
    "let buildCode timeout cancellationToken code = buildCode timeout cancellationToken code"
   ]
  },
  {
   "cell_type": "code",
   "execution_count": null,
   "metadata": {
    "dotnet_interactive": {
     "language": "fsharp"
    },
    "polyglot_notebook": {
     "kernelName": "fsharp"
    }
   },
   "outputs": [
    {
     "name": "stdout",
     "output_type": "stream",
     "text": [
      "00:00:00 #1 [Debug] runWithTimeoutAsync / timeout: 60\r\n",
      "00:00:00 #2 [Debug] executeAsync / options: { Command =\n",
      "   \"dotnet \"C:\\home\\git\\polyglot\\deps\\The-Spiral-Language\\The Spiral Language 2\\artifacts\\bin\\The Spiral Language 2\\release\\Spiral.dll\" --port 13805 --default-int i32 --default-float f64\"\n",
      "  WorkingDirectory = None\n",
      "  CancellationToken = Some System.Threading.CancellationToken\n",
      "  OnLine = Some <fun:buildCode@3-1005> }\r\n",
      "00:00:01 #3 [Verbose] > pwd: C:\\home\\git\\polyglot\\apps\\spiral\r\n",
      "00:00:01 #4 [Verbose] > dll_path: C:\\home\\git\\polyglot\\deps\\The-Spiral-Language\\The Spiral Language 2\\artifacts\\bin\\The Spiral Language 2\\release\r\n",
      "00:00:01 #5 [Verbose] > Starting the Spiral Server. It is bound to: http://localhost:13805\r\n",
      "00:00:01 #6 [Debug] runWithTimeoutAsync / timeout: 500\r\n",
      "00:00:01 #7 [Verbose] waitForPortAccess / port: 13805 / retry: 0\r\n",
      "00:00:02 #8 [Debug] sendJson / port: 13805 / json: {\"Ping\":true} / result.Length:\r\n",
      "00:00:02 #9 [Verbose] awaitCompiler / Ping / result: Some(null) / port: 13805 / retry: 0\r\n",
      "00:00:02 #10 [Verbose] > Server bound to: http://localhost:13805\r\n",
      "00:00:02 #11 [Debug] buildFile / takeWhileInclusive / fsxContent:  / errors: [] / typeErrorCount: 0\r\n",
      "00:00:02 #12 [Debug] buildFile / takeWhileInclusive / fsxContent:  / errors: [] / typeErrorCount: 0\r\n",
      "00:00:02 #13 [Debug] sendJson / port: 13805 / json: {\"FileOpen\":{\"spiText\":\"inl app () =\\n    console.write_line \\u0022text\\u0022\\n    1i32\\n\\ninl main () =\\n    app\\n    |\\u003E dyn\\n    |\\u003E ignore\\n\",\"uri\":\"file:///c:/Users/i574n/AppData/Local/Temp/!dotnet-repl/20240304-2009-0311-1170-1972a4ba7796/main.spi\"}} / result.Length:\r\n",
      "00:00:02 #14 [Debug] sendJson / port: 13805 / json: {\"BuildFile\":{\"backend\":\"Fsharp\",\"uri\":\"file:///c:/Users/i574n/AppData/Local/Temp/!dotnet-repl/20240304-2009-0311-1170-1972a4ba7796/main.spi\"}} / result.Length:\r\n",
      "00:00:03 #15 [Verbose] > Building c:\\Users\\i574n\\AppData\\Local\\Temp\\!dotnet-repl\\20240304-2009-0311-1170-1972a4ba7796\\main.spi\r\n",
      "00:00:03 #16 [Debug] buildFile / takeWhileInclusive / fsxContent:  / errors: [] / typeErrorCount: 0\r\n",
      "00:00:04 #17 [Debug] buildFile / takeWhileInclusive / fsxContent:  / errors: [] / typeErrorCount: 0\r\n",
      "00:00:05 #18 [Debug] buildFile / takeWhileInclusive / fsxContent:  / errors: [] / typeErrorCount: 0\r\n",
      "00:00:06 #19 [Debug] buildFile / takeWhileInclusive / fsxContent: let rec closure0 () () : int32 =\n",
      "    let v0 : string = \"text\"\n",
      "    System.Console.WriteLine v0\n",
      "    1\n",
      "let v0 : (unit -> int32) = closure0()\n",
      "()\n",
      " / errors: [] / typeErrorCount: 0\r\n",
      "00:00:06 #20 [Debug] watchWithFilter / Disposing watch stream / filter: FileName, LastWrite\r\n",
      "FSharpOption<Tuple<FSharpOption<String>,FSharpList<String>>>\r\n",
      "      Value:       - FSharpOption<String>\r\n",
      "          Value: let rec closure0 () () : int32 =\n",
      "    let v0 : string = \"text\"\n",
      "    System.Console.WriteLine v0\n",
      "    1\n",
      "let v0 : (unit -> int32) = closure0()\n",
      "()\n",
      "\r\n",
      "      - [  ]\r\n"
     ]
    }
   ],
   "source": [
    "//// test\n",
    "\n",
    "\"\"\"inl app () =\n",
    "    console.write_line \"text\"\n",
    "    1i32\n",
    "\n",
    "inl main () =\n",
    "    app\n",
    "    |> dyn\n",
    "    |> ignore\n",
    "\"\"\"\n",
    "|> buildCode 15000 None\n",
    "|> Async.runWithTimeout 15000\n",
    "|> Option.map (fun (fsxContent, errors) -> fsxContent, errors |> List.map fst)\n",
    "|> _equal (\n",
    "    Some (\n",
    "        Some \"\"\"let rec closure0 () () : int32 =\n",
    "    let v0 : string = \"text\"\n",
    "    System.Console.WriteLine v0\n",
    "    1\n",
    "let v0 : (unit -> int32) = closure0()\n",
    "()\n",
    "\"\"\",\n",
    "        []\n",
    "    )\n",
    ")"
   ]
  },
  {
   "cell_type": "code",
   "execution_count": null,
   "metadata": {
    "dotnet_interactive": {
     "language": "fsharp"
    },
    "polyglot_notebook": {
     "kernelName": "fsharp"
    }
   },
   "outputs": [
    {
     "name": "stdout",
     "output_type": "stream",
     "text": [
      "00:00:06 #21 [Debug] runWithTimeoutAsync / timeout: 60\r\n",
      "00:00:06 #22 [Debug] executeAsync / options: { Command =\n",
      "   \"dotnet \"C:\\home\\git\\polyglot\\deps\\The-Spiral-Language\\The Spiral Language 2\\artifacts\\bin\\The Spiral Language 2\\release\\Spiral.dll\" --port 13805 --default-int i32 --default-float f64\"\n",
      "  WorkingDirectory = None\n",
      "  CancellationToken = Some System.Threading.CancellationToken\n",
      "  OnLine = Some <fun:buildCode@3-1005> }\r\n",
      "00:00:07 #23 [Verbose] > pwd: C:\\home\\git\\polyglot\\apps\\spiral\r\n",
      "00:00:07 #24 [Verbose] > dll_path: C:\\home\\git\\polyglot\\deps\\The-Spiral-Language\\The Spiral Language 2\\artifacts\\bin\\The Spiral Language 2\\release\r\n",
      "00:00:07 #25 [Verbose] > Starting the Spiral Server. It is bound to: http://localhost:13805\r\n",
      "00:00:07 #26 [Debug] runWithTimeoutAsync / timeout: 500\r\n",
      "00:00:08 #27 [Debug] sendJson / port: 13805 / json: {\"Ping\":true} / result.Length:\r\n",
      "00:00:08 #28 [Verbose] awaitCompiler / Ping / result: Some(null) / port: 13805 / retry: 0\r\n",
      "00:00:08 #29 [Verbose] > Server bound to: http://localhost:13805\r\n",
      "00:00:08 #30 [Debug] buildFile / takeWhileInclusive / fsxContent:  / errors: [] / typeErrorCount: 0\r\n",
      "00:00:08 #31 [Debug] buildFile / takeWhileInclusive / fsxContent:  / errors: [] / typeErrorCount: 0\r\n",
      "00:00:08 #32 [Debug] sendJson / port: 13805 / json: {\"FileOpen\":{\"spiText\":\"\",\"uri\":\"file:///c:/Users/i574n/AppData/Local/Temp/!dotnet-repl/20240304-2009-1004-0444-04c0337b1b83/main.spi\"}} / result.Length:\r\n",
      "00:00:08 #33 [Debug] sendJson / port: 13805 / json: {\"BuildFile\":{\"backend\":\"Fsharp\",\"uri\":\"file:///c:/Users/i574n/AppData/Local/Temp/!dotnet-repl/20240304-2009-1004-0444-04c0337b1b83/main.spi\"}} / result.Length:\r\n",
      "00:00:08 #34 [Verbose] > Building c:\\Users\\i574n\\AppData\\Local\\Temp\\!dotnet-repl\\20240304-2009-1004-0444-04c0337b1b83\\main.spi\r\n",
      "00:00:09 #35 [Debug] buildFile / takeWhileInclusive / fsxContent:  / errors: [] / typeErrorCount: 0\r\n",
      "00:00:10 #36 [Debug] buildFile / takeWhileInclusive / fsxContent:  / errors: [] / typeErrorCount: 0\r\n",
      "00:00:10 #37 [Verbose] > Cannot find `main` in file main.\r\n",
      "00:00:10 #38 [Verbose] > Build skipped for c:\\Users\\i574n\\AppData\\Local\\Temp\\!dotnet-repl\\20240304-2009-1004-0444-04c0337b1b83\\main.spi\r\n",
      "00:00:11 #39 [Debug] buildFile / takeWhileInclusive / fsxContent:  / errors: [] / typeErrorCount: 0\r\n",
      "00:00:12 #40 [Debug] buildFile / takeWhileInclusive / fsxContent:  / errors: [] / typeErrorCount: 0\r\n",
      "00:00:13 #41 [Debug] buildFile / takeWhileInclusive / fsxContent:  / errors: [] / typeErrorCount: 0\r\n",
      "00:00:14 #42 [Debug] buildFile / takeWhileInclusive / fsxContent:  / errors: [] / typeErrorCount: 0\r\n",
      "00:00:15 #43 [Debug] buildFile / takeWhileInclusive / fsxContent:  / errors: [] / typeErrorCount: 0\r\n",
      "00:00:16 #44 [Debug] buildFile / takeWhileInclusive / fsxContent:  / errors: [] / typeErrorCount: 0\r\n",
      "00:00:16 #45 [Debug] runWithTimeoutAsync / timeout: 10000\r\n",
      "00:00:16 #46 [Debug] watchWithFilter / Disposing watch stream / filter: FileName, LastWrite\r\n",
      "<null>\r\n"
     ]
    }
   ],
   "source": [
    "//// test\n",
    "\n",
    "\"\"\n",
    "|> buildCode 10000 None\n",
    "|> Async.runWithTimeout 10000\n",
    "|> _equal None"
   ]
  },
  {
   "cell_type": "code",
   "execution_count": null,
   "metadata": {
    "dotnet_interactive": {
     "language": "fsharp"
    },
    "polyglot_notebook": {
     "kernelName": "fsharp"
    }
   },
   "outputs": [
    {
     "name": "stdout",
     "output_type": "stream",
     "text": [
      "00:00:17 #48 [Debug] runWithTimeoutAsync / timeout: 60\r\n",
      "00:00:17 #49 [Debug] executeAsync / options: { Command =\n",
      "   \"dotnet \"C:\\home\\git\\polyglot\\deps\\The-Spiral-Language\\The Spiral Language 2\\artifacts\\bin\\The Spiral Language 2\\release\\Spiral.dll\" --port 13805 --default-int i32 --default-float f64\"\n",
      "  WorkingDirectory = None\n",
      "  CancellationToken = Some System.Threading.CancellationToken\n",
      "  OnLine = Some <fun:buildCode@3-1005> }\r\n",
      "00:00:17 #50 [Verbose] > pwd: C:\\home\\git\\polyglot\\apps\\spiral\r\n",
      "00:00:17 #51 [Verbose] > dll_path: C:\\home\\git\\polyglot\\deps\\The-Spiral-Language\\The Spiral Language 2\\artifacts\\bin\\The Spiral Language 2\\release\r\n",
      "00:00:17 #52 [Verbose] > Starting the Spiral Server. It is bound to: http://localhost:13805\r\n",
      "00:00:18 #54 [Debug] runWithTimeoutAsync / timeout: 500\r\n",
      "00:00:18 #56 [Debug] sendJson / port: 13805 / json: {\"Ping\":true} / result.Length:\r\n",
      "00:00:18 #57 [Verbose] awaitCompiler / Ping / result: Some(null) / port: 13805 / retry: 0\r\n",
      "00:00:18 #58 [Verbose] > Server bound to: http://localhost:13805\r\n",
      "00:00:18 #59 [Debug] buildFile / takeWhileInclusive / fsxContent:  / errors: [] / typeErrorCount: 0\r\n",
      "00:00:18 #60 [Debug] buildFile / takeWhileInclusive / fsxContent:  / errors: [] / typeErrorCount: 0\r\n",
      "00:00:18 #61 [Debug] sendJson / port: 13805 / json: {\"FileOpen\":{\"spiText\":\"inl app () =\\n    0i32\\n\\ninl a = 1\\n\\ninl main () =\\n    app\\n    |\\u003E dyn\\n    |\\u003E ignore\\n\",\"uri\":\"file:///c:/Users/i574n/AppData/Local/Temp/!dotnet-repl/20240304-2009-2036-3628-36f44b5ba4ff/main.spi\"}} / result.Length:\r\n",
      "00:00:18 #62 [Debug] sendJson / port: 13805 / json: {\"BuildFile\":{\"backend\":\"Fsharp\",\"uri\":\"file:///c:/Users/i574n/AppData/Local/Temp/!dotnet-repl/20240304-2009-2036-3628-36f44b5ba4ff/main.spi\"}} / result.Length:\r\n",
      "00:00:18 #63 [Verbose] > Building c:\\Users\\i574n\\AppData\\Local\\Temp\\!dotnet-repl\\20240304-2009-2036-3628-36f44b5ba4ff\\main.spi\r\n",
      "00:00:18 #64 [Debug] buildFile / takeWhileInclusive / fsxContent:  / errors: [(main.spi:\n",
      "Global inl/let statements should all return functions known at parse time., ParserErrors\n",
      "  { errors =\n",
      "     [(({ character = 0\n",
      "          line = 3 }, { character = 9\n",
      "                        line = 3 }),\n",
      "       \"Global inl/let statements should all return functions known at parse time.\")]\n",
      "    uri =\n",
      "     \"file:///c:\\Users\\i574n\\AppData\\Local\\Temp\\!dotnet-repl\\20240304-2009-2036-3628-36f44b5ba4ff\\main.spi\" })] / typeErrorCount: 0\r\n",
      "00:00:18 #65 [Debug] watchWithFilter / Disposing watch stream / filter: FileName, LastWrite\r\n",
      "FSharpOption<Tuple<FSharpOption<String>,FSharpList<String>>>\r\n",
      "      Value:       - <null>\r\n",
      "      - [ main.spi:\n",
      "Global inl/let statements should all return functions known at parse time. ]\r\n"
     ]
    }
   ],
   "source": [
    "//// test\n",
    "\n",
    "\"inl app () =\n",
    "    0i32\n",
    "\n",
    "inl a = 1\n",
    "\n",
    "inl main () =\n",
    "    app\n",
    "    |> dyn\n",
    "    |> ignore\n",
    "\"\n",
    "|> buildCode 10000 None\n",
    "|> Async.runWithTimeout 10000\n",
    "|> Option.map (fun (fsxContent, errors) -> fsxContent, errors |> List.map fst)\n",
    "|> _equal (\n",
    "    Some (\n",
    "        None,\n",
    "        [ \"main.spi:\n",
    "Global inl/let statements should all return functions known at parse time.\" ]\n",
    "    )\n",
    ")"
   ]
  },
  {
   "cell_type": "code",
   "execution_count": null,
   "metadata": {
    "dotnet_interactive": {
     "language": "fsharp"
    },
    "polyglot_notebook": {
     "kernelName": "fsharp"
    }
   },
   "outputs": [
    {
     "name": "stdout",
     "output_type": "stream",
     "text": [
      "00:00:19 #67 [Debug] runWithTimeoutAsync / timeout: 60\r\n",
      "00:00:19 #68 [Debug] executeAsync / options: { Command =\n",
      "   \"dotnet \"C:\\home\\git\\polyglot\\deps\\The-Spiral-Language\\The Spiral Language 2\\artifacts\\bin\\The Spiral Language 2\\release\\Spiral.dll\" --port 13805 --default-int i32 --default-float f64\"\n",
      "  WorkingDirectory = None\n",
      "  CancellationToken = Some System.Threading.CancellationToken\n",
      "  OnLine = Some <fun:buildCode@3-1005> }\r\n",
      "00:00:19 #69 [Verbose] > pwd: C:\\home\\git\\polyglot\\apps\\spiral\r\n",
      "00:00:19 #70 [Verbose] > dll_path: C:\\home\\git\\polyglot\\deps\\The-Spiral-Language\\The Spiral Language 2\\artifacts\\bin\\The Spiral Language 2\\release\r\n",
      "00:00:19 #71 [Verbose] > Starting the Spiral Server. It is bound to: http://localhost:13805\r\n",
      "00:00:20 #72 [Debug] runWithTimeoutAsync / timeout: 500\r\n",
      "00:00:20 #74 [Debug] sendJson / port: 13805 / json: {\"Ping\":true} / result.Length:\r\n",
      "00:00:20 #75 [Verbose] awaitCompiler / Ping / result: Some(null) / port: 13805 / retry: 0\r\n",
      "00:00:20 #76 [Verbose] > Server bound to: http://localhost:13805\r\n",
      "00:00:20 #77 [Debug] buildFile / takeWhileInclusive / fsxContent:  / errors: [] / typeErrorCount: 0\r\n",
      "00:00:20 #78 [Debug] buildFile / takeWhileInclusive / fsxContent:  / errors: [] / typeErrorCount: 0\r\n",
      "00:00:20 #79 [Debug] sendJson / port: 13805 / json: {\"FileOpen\":{\"spiText\":\"inl main () =\\n    1i32 / 0i32\\n\",\"uri\":\"file:///c:/Users/i574n/AppData/Local/Temp/!dotnet-repl/20240304-2009-2236-3673-32376ac1c0fb/main.spi\"}} / result.Length:\r\n",
      "00:00:20 #80 [Debug] sendJson / port: 13805 / json: {\"BuildFile\":{\"backend\":\"Fsharp\",\"uri\":\"file:///c:/Users/i574n/AppData/Local/Temp/!dotnet-repl/20240304-2009-2236-3673-32376ac1c0fb/main.spi\"}} / result.Length:\r\n",
      "00:00:20 #81 [Verbose] > Building c:\\Users\\i574n\\AppData\\Local\\Temp\\!dotnet-repl\\20240304-2009-2236-3673-32376ac1c0fb\\main.spi\r\n",
      "00:00:21 #83 [Debug] buildFile / takeWhileInclusive / fsxContent:  / errors: [] / typeErrorCount: 0\r\n",
      "00:00:22 #85 [Debug] buildFile / takeWhileInclusive / fsxContent:  / errors: [] / typeErrorCount: 0\r\n",
      "00:00:22 #86 [Debug] buildFile / takeWhileInclusive / fsxContent:  / errors: [(An attempt to divide by zero has been detected at compile time., TracedError\n",
      "  { message = \"An attempt to divide by zero has been detected at compile time.\"\n",
      "    trace =\n",
      "     [\"Error trace on line: 1, column: 10 in module: c:\\Users\\i574n\\AppData\\Local\\Temp\\!dotnet-repl\\20240304-2009-2236-3673-32376ac1c0fb\\main.spi.\r\n",
      "inl main () =\r\n",
      "         ^\r\n",
      "\";\n",
      "      \"Error trace on line: 2, column: 5 in module: c:\\Users\\i574n\\AppData\\Local\\Temp\\!dotnet-repl\\20240304-2009-2236-3673-32376ac1c0fb\\main.spi.\r\n",
      "    1i32 / 0i32\r\n",
      "    ^\r\n",
      "\"] })] / typeErrorCount: 0\r\n",
      "00:00:22 #87 [Debug] watchWithFilter / Disposing watch stream / filter: FileName, LastWrite\r\n",
      "FSharpOption<Tuple<FSharpOption<String>,FSharpList<String>>>\r\n",
      "      Value:       - <null>\r\n",
      "      - [ An attempt to divide by zero has been detected at compile time. ]\r\n"
     ]
    }
   ],
   "source": [
    "//// test\n",
    "\n",
    "\"\"\"inl main () =\n",
    "    1i32 / 0i32\n",
    "\"\"\"\n",
    "|> buildCode 10000 None\n",
    "|> Async.runWithTimeout 10000\n",
    "|> Option.map (fun (fsxContent, errors) -> fsxContent, errors |> List.map fst)\n",
    "|> _equal (\n",
    "    Some (\n",
    "        None,\n",
    "        [ \"An attempt to divide by zero has been detected at compile time.\" ]\n",
    "    )\n",
    ")"
   ]
  },
  {
   "cell_type": "code",
   "execution_count": null,
   "metadata": {
    "dotnet_interactive": {
     "language": "fsharp"
    },
    "polyglot_notebook": {
     "kernelName": "fsharp"
    }
   },
   "outputs": [
    {
     "name": "stdout",
     "output_type": "stream",
     "text": [
      "00:00:23 #89 [Debug] runWithTimeoutAsync / timeout: 60\r\n",
      "00:00:23 #90 [Debug] executeAsync / options: { Command =\n",
      "   \"dotnet \"C:\\home\\git\\polyglot\\deps\\The-Spiral-Language\\The Spiral Language 2\\artifacts\\bin\\The Spiral Language 2\\release\\Spiral.dll\" --port 13805 --default-int i32 --default-float f64\"\n",
      "  WorkingDirectory = None\n",
      "  CancellationToken = Some System.Threading.CancellationToken\n",
      "  OnLine = Some <fun:buildCode@3-1005> }\r\n",
      "00:00:23 #91 [Verbose] > pwd: C:\\home\\git\\polyglot\\apps\\spiral\r\n",
      "00:00:23 #92 [Verbose] > dll_path: C:\\home\\git\\polyglot\\deps\\The-Spiral-Language\\The Spiral Language 2\\artifacts\\bin\\The Spiral Language 2\\release\r\n",
      "00:00:24 #93 [Verbose] > Starting the Spiral Server. It is bound to: http://localhost:13805\r\n",
      "00:00:24 #95 [Debug] runWithTimeoutAsync / timeout: 500\r\n",
      "00:00:24 #96 [Debug] sendJson / port: 13805 / json: {\"Ping\":true} / result.Length:\r\n",
      "00:00:24 #97 [Verbose] awaitCompiler / Ping / result: Some(null) / port: 13805 / retry: 0\r\n",
      "00:00:24 #98 [Verbose] > Server bound to: http://localhost:13805\r\n",
      "00:00:24 #99 [Debug] buildFile / takeWhileInclusive / fsxContent:  / errors: [] / typeErrorCount: 0\r\n",
      "00:00:24 #100 [Debug] buildFile / takeWhileInclusive / fsxContent:  / errors: [] / typeErrorCount: 0\r\n",
      "00:00:24 #101 [Debug] sendJson / port: 13805 / json: {\"FileOpen\":{\"spiText\":\"inl main () =\\n    1 \\u002B \\u0022\\u0022\\n\",\"uri\":\"file:///c:/Users/i574n/AppData/Local/Temp/!dotnet-repl/20240304-2009-2654-5498-576bac3830b0/main.spi\"}} / result.Length:\r\n",
      "00:00:24 #102 [Debug] sendJson / port: 13805 / json: {\"BuildFile\":{\"backend\":\"Fsharp\",\"uri\":\"file:///c:/Users/i574n/AppData/Local/Temp/!dotnet-repl/20240304-2009-2654-5498-576bac3830b0/main.spi\"}} / result.Length:\r\n",
      "00:00:24 #103 [Verbose] > Building c:\\Users\\i574n\\AppData\\Local\\Temp\\!dotnet-repl\\20240304-2009-2654-5498-576bac3830b0\\main.spi\r\n",
      "00:00:25 #105 [Debug] buildFile / takeWhileInclusive / fsxContent:  / errors: [] / typeErrorCount: 0\r\n",
      "00:00:26 #107 [Debug] buildFile / takeWhileInclusive / fsxContent:  / errors: [] / typeErrorCount: 0\r\n",
      "00:00:26 #108 [Debug] buildFile / takeWhileInclusive / fsxContent:  / errors: [] / typeErrorCount: 1\r\n",
      "00:00:27 #109 [Debug] buildFile / takeWhileInclusive / fsxContent:  / errors: [(main.spi:\n",
      "Constraint satisfaction error.\n",
      "Got: string\n",
      "Fails to satisfy: number, TypeErrors\n",
      "  { errors =\n",
      "     [(({ character = 8\n",
      "          line = 1 }, { character = 10\n",
      "                        line = 1 }),\n",
      "       \"Constraint satisfaction error.\n",
      "Got: string\n",
      "Fails to satisfy: number\")]\n",
      "    uri =\n",
      "     \"file:///c:\\Users\\i574n\\AppData\\Local\\Temp\\!dotnet-repl\\20240304-2009-2654-5498-576bac3830b0\\main.spi\" })] / typeErrorCount: 1\r\n",
      "00:00:27 #110 [Debug] watchWithFilter / Disposing watch stream / filter: FileName, LastWrite\r\n",
      "FSharpOption<Tuple<FSharpOption<String>,FSharpList<String>>>\r\n",
      "      Value:       - <null>\r\n",
      "      - [ main.spi:\n",
      "Constraint satisfaction error.\n",
      "Got: string\n",
      "Fails to satisfy: number ]\r\n"
     ]
    }
   ],
   "source": [
    "//// test\n",
    "\n",
    "\"\"\"inl main () =\n",
    "    1 + \"\"\n",
    "\"\"\"\n",
    "|> buildCode 10000 None\n",
    "|> Async.runWithTimeout 10000\n",
    "|> Option.map (fun (fsxContent, errors) -> fsxContent, errors |> List.map fst)\n",
    "|> _equal (\n",
    "    Some (\n",
    "        None,\n",
    "        [\n",
    "            \"main.spi:\n",
    "Constraint satisfaction error.\n",
    "Got: string\n",
    "Fails to satisfy: number\"\n",
    "        ]\n",
    "    )\n",
    ")"
   ]
  },
  {
   "cell_type": "code",
   "execution_count": null,
   "metadata": {
    "dotnet_interactive": {
     "language": "fsharp"
    },
    "polyglot_notebook": {
     "kernelName": "fsharp"
    }
   },
   "outputs": [
    {
     "name": "stdout",
     "output_type": "stream",
     "text": [
      "00:00:27 #112 [Debug] runWithTimeoutAsync / timeout: 60\r\n",
      "00:00:27 #113 [Debug] executeAsync / options: { Command =\n",
      "   \"dotnet \"C:\\home\\git\\polyglot\\deps\\The-Spiral-Language\\The Spiral Language 2\\artifacts\\bin\\The Spiral Language 2\\release\\Spiral.dll\" --port 13805 --default-int i32 --default-float f64\"\n",
      "  WorkingDirectory = None\n",
      "  CancellationToken = Some System.Threading.CancellationToken\n",
      "  OnLine = Some <fun:buildCode@3-1005> }\r\n",
      "00:00:27 #114 [Verbose] > pwd: C:\\home\\git\\polyglot\\apps\\spiral\r\n",
      "00:00:27 #115 [Verbose] > dll_path: C:\\home\\git\\polyglot\\deps\\The-Spiral-Language\\The Spiral Language 2\\artifacts\\bin\\The Spiral Language 2\\release\r\n",
      "00:00:28 #116 [Verbose] > Starting the Spiral Server. It is bound to: http://localhost:13805\r\n",
      "00:00:28 #118 [Debug] runWithTimeoutAsync / timeout: 500\r\n",
      "00:00:28 #119 [Debug] sendJson / port: 13805 / json: {\"Ping\":true} / result.Length:\r\n",
      "00:00:28 #120 [Verbose] awaitCompiler / Ping / result: Some(null) / port: 13805 / retry: 0\r\n",
      "00:00:28 #121 [Verbose] > Server bound to: http://localhost:13805\r\n",
      "00:00:28 #122 [Debug] buildFile / takeWhileInclusive / fsxContent:  / errors: [] / typeErrorCount: 0\r\n",
      "00:00:28 #123 [Debug] buildFile / takeWhileInclusive / fsxContent:  / errors: [] / typeErrorCount: 0\r\n",
      "00:00:28 #124 [Debug] sendJson / port: 13805 / json: {\"FileOpen\":{\"spiText\":\"inl main () =\\n    x \\u002B y\\n\",\"uri\":\"file:///c:/Users/i574n/AppData/Local/Temp/!dotnet-repl/20240304-2009-3074-7498-73f8e72694ec/main.spi\"}} / result.Length:\r\n",
      "00:00:28 #125 [Debug] sendJson / port: 13805 / json: {\"BuildFile\":{\"backend\":\"Fsharp\",\"uri\":\"file:///c:/Users/i574n/AppData/Local/Temp/!dotnet-repl/20240304-2009-3074-7498-73f8e72694ec/main.spi\"}} / result.Length:\r\n",
      "00:00:29 #126 [Verbose] > Building c:\\Users\\i574n\\AppData\\Local\\Temp\\!dotnet-repl\\20240304-2009-3074-7498-73f8e72694ec\\main.spi\r\n",
      "00:00:29 #128 [Debug] buildFile / takeWhileInclusive / fsxContent:  / errors: [] / typeErrorCount: 0\r\n",
      "00:00:30 #129 [Debug] buildFile / takeWhileInclusive / fsxContent:  / errors: [] / typeErrorCount: 1\r\n",
      "00:00:30 #131 [Debug] buildFile / takeWhileInclusive / fsxContent:  / errors: [(main.spi:\n",
      "Unbound variable: x.\n",
      "Unbound variable: y., TypeErrors\n",
      "  { errors =\n",
      "     [(({ character = 4\n",
      "          line = 1 }, { character = 5\n",
      "                        line = 1 }), \"Unbound variable: x.\");\n",
      "      (({ character = 8\n",
      "          line = 1 }, { character = 9\n",
      "                        line = 1 }), \"Unbound variable: y.\")]\n",
      "    uri =\n",
      "     \"file:///c:\\Users\\i574n\\AppData\\Local\\Temp\\!dotnet-repl\\20240304-2009-3074-7498-73f8e72694ec\\main.spi\" })] / typeErrorCount: 1\r\n",
      "00:00:30 #132 [Debug] watchWithFilter / Disposing watch stream / filter: FileName, LastWrite\r\n",
      "FSharpOption<Tuple<FSharpOption<String>,FSharpList<String>>>\r\n",
      "      Value:       - <null>\r\n",
      "      - [ main.spi:\n",
      "Unbound variable: x.\n",
      "Unbound variable: y. ]\r\n"
     ]
    }
   ],
   "source": [
    "//// test\n",
    "\n",
    "\"\"\"inl main () =\n",
    "    x + y\n",
    "\"\"\"\n",
    "|> buildCode 10000 None\n",
    "|> Async.runWithTimeout 10000\n",
    "|> Option.map (fun (fsxContent, errors) -> fsxContent, errors |> List.map fst)\n",
    "|> _equal (\n",
    "    Some (\n",
    "        None,\n",
    "        [\n",
    "            \"main.spi:\n",
    "Unbound variable: x.\n",
    "Unbound variable: y.\"\n",
    "        ]\n",
    "    )\n",
    ")"
   ]
  },
  {
   "cell_type": "code",
   "execution_count": null,
   "metadata": {
    "dotnet_interactive": {
     "language": "fsharp"
    },
    "polyglot_notebook": {
     "kernelName": "fsharp"
    }
   },
   "outputs": [
    {
     "name": "stdout",
     "output_type": "stream",
     "text": [
      "00:00:31 #133 [Debug] runWithTimeoutAsync / timeout: 60\r\n",
      "00:00:31 #134 [Debug] executeAsync / options: { Command =\n",
      "   \"dotnet \"C:\\home\\git\\polyglot\\deps\\The-Spiral-Language\\The Spiral Language 2\\artifacts\\bin\\The Spiral Language 2\\release\\Spiral.dll\" --port 13805 --default-int i32 --default-float f64\"\n",
      "  WorkingDirectory = None\n",
      "  CancellationToken = Some System.Threading.CancellationToken\n",
      "  OnLine = Some <fun:buildCode@3-1005> }\r\n",
      "00:00:31 #136 [Verbose] > pwd: C:\\home\\git\\polyglot\\apps\\spiral\r\n",
      "00:00:31 #137 [Verbose] > dll_path: C:\\home\\git\\polyglot\\deps\\The-Spiral-Language\\The Spiral Language 2\\artifacts\\bin\\The Spiral Language 2\\release\r\n",
      "00:00:31 #138 [Verbose] > Starting the Spiral Server. It is bound to: http://localhost:13805\r\n",
      "00:00:32 #139 [Debug] runWithTimeoutAsync / timeout: 500\r\n",
      "00:00:32 #140 [Debug] sendJson / port: 13805 / json: {\"Ping\":true} / result.Length:\r\n",
      "00:00:32 #141 [Verbose] awaitCompiler / Ping / result: Some(null) / port: 13805 / retry: 0\r\n",
      "00:00:32 #142 [Verbose] > Server bound to: http://localhost:13805\r\n",
      "00:00:32 #144 [Debug] buildFile / takeWhileInclusive / fsxContent:  / errors: [] / typeErrorCount: 0\r\n",
      "00:00:32 #145 [Debug] buildFile / takeWhileInclusive / fsxContent:  / errors: [] / typeErrorCount: 0\r\n",
      "00:00:32 #146 [Debug] sendJson / port: 13805 / json: {\"FileOpen\":{\"spiText\":\"union a =\\n    | B\\n    | c\\n\\ninl main () =\\n    ()\\n\",\"uri\":\"file:///c:/Users/i574n/AppData/Local/Temp/!dotnet-repl/20240304-2009-3430-3015-3438ca3db409/main.spi\"}} / result.Length:\r\n",
      "00:00:32 #147 [Debug] sendJson / port: 13805 / json: {\"BuildFile\":{\"backend\":\"Fsharp\",\"uri\":\"file:///c:/Users/i574n/AppData/Local/Temp/!dotnet-repl/20240304-2009-3430-3015-3438ca3db409/main.spi\"}} / result.Length:\r\n",
      "00:00:32 #148 [Verbose] > Building c:\\Users\\i574n\\AppData\\Local\\Temp\\!dotnet-repl\\20240304-2009-3430-3015-3438ca3db409\\main.spi\r\n",
      "00:00:33 #149 [Debug] buildFile / takeWhileInclusive / fsxContent:  / errors: [(main.spi:\n",
      "Expected: uppercase variable, ParserErrors\n",
      "  { errors = [(({ character = 6\n",
      "                  line = 2 }, { character = 7\n",
      "                                line = 2 }), \"Expected: uppercase variable\")]\n",
      "    uri =\n",
      "     \"file:///c:\\Users\\i574n\\AppData\\Local\\Temp\\!dotnet-repl\\20240304-2009-3430-3015-3438ca3db409\\main.spi\" })] / typeErrorCount: 0\r\n",
      "00:00:33 #150 [Debug] watchWithFilter / Disposing watch stream / filter: FileName, LastWrite\r\n",
      "FSharpOption<Tuple<FSharpOption<String>,FSharpList<String>>>\r\n",
      "      Value:       - <null>\r\n",
      "      - [ main.spi:\n",
      "Expected: uppercase variable ]\r\n"
     ]
    }
   ],
   "source": [
    "//// test\n",
    "\n",
    "\"\"\"union a =\n",
    "    | B\n",
    "    | c\n",
    "\n",
    "inl main () =\n",
    "    ()\n",
    "\"\"\"\n",
    "|> buildCode 10000 None\n",
    "|> Async.runWithTimeout 10000\n",
    "|> Option.map (fun (fsxContent, errors) -> fsxContent, errors |> List.map fst)\n",
    "|> _equal (\n",
    "    Some (\n",
    "        None,\n",
    "        [ \"main.spi:\n",
    "Expected: uppercase variable\" ]\n",
    "    )\n",
    ")"
   ]
  },
  {
   "cell_type": "code",
   "execution_count": null,
   "metadata": {
    "dotnet_interactive": {
     "language": "fsharp"
    },
    "polyglot_notebook": {
     "kernelName": "fsharp"
    }
   },
   "outputs": [
    {
     "name": "stdout",
     "output_type": "stream",
     "text": [
      "00:00:33 #152 [Debug] runWithTimeoutAsync / timeout: 60\r\n",
      "00:00:33 #153 [Debug] executeAsync / options: { Command =\n",
      "   \"dotnet \"C:\\home\\git\\polyglot\\deps\\The-Spiral-Language\\The Spiral Language 2\\artifacts\\bin\\The Spiral Language 2\\release\\Spiral.dll\" --port 13805 --default-int i32 --default-float f64\"\n",
      "  WorkingDirectory = None\n",
      "  CancellationToken = Some System.Threading.CancellationToken\n",
      "  OnLine = Some <fun:buildCode@3-1005> }\r\n",
      "00:00:34 #154 [Verbose] > pwd: C:\\home\\git\\polyglot\\apps\\spiral\r\n",
      "00:00:34 #155 [Verbose] > dll_path: C:\\home\\git\\polyglot\\deps\\The-Spiral-Language\\The Spiral Language 2\\artifacts\\bin\\The Spiral Language 2\\release\r\n",
      "00:00:34 #157 [Verbose] > Starting the Spiral Server. It is bound to: http://localhost:13805\r\n",
      "00:00:34 #158 [Debug] runWithTimeoutAsync / timeout: 500\r\n",
      "00:00:35 #159 [Debug] sendJson / port: 13805 / json: {\"Ping\":true} / result.Length:\r\n",
      "00:00:35 #160 [Verbose] awaitCompiler / Ping / result: Some(null) / port: 13805 / retry: 0\r\n",
      "00:00:35 #161 [Verbose] > Server bound to: http://localhost:13805\r\n",
      "00:00:35 #162 [Debug] buildFile / takeWhileInclusive / fsxContent:  / errors: [] / typeErrorCount: 0\r\n",
      "00:00:35 #163 [Debug] buildFile / takeWhileInclusive / fsxContent:  / errors: [] / typeErrorCount: 0\r\n",
      "00:00:35 #164 [Debug] sendJson / port: 13805 / json: {\"FileOpen\":{\"spiText\":\"\\n/// abc\\ninl main () =\\n    ()\\n\",\"uri\":\"file:///c:/Users/i574n/AppData/Local/Temp/!dotnet-repl/20240304-2009-3701-0108-0d2c2538946c/main.spi\"}} / result.Length:\r\n",
      "00:00:35 #165 [Debug] sendJson / port: 13805 / json: {\"BuildFile\":{\"backend\":\"Fsharp\",\"uri\":\"file:///c:/Users/i574n/AppData/Local/Temp/!dotnet-repl/20240304-2009-3701-0108-0d2c2538946c/main.spi\"}} / result.Length:\r\n",
      "00:00:35 #167 [Debug] buildFile / takeWhileInclusive / fsxContent:  / errors: [(main.spi:\n",
      "Expected: whitespace, TokenizerErrors\n",
      "  { errors = [(({ character = 2\n",
      "                  line = 1 }, { character = 3\n",
      "                                line = 1 }), \"Expected: whitespace\")]\n",
      "    uri =\n",
      "     \"file:///c:\\Users\\i574n\\AppData\\Local\\Temp\\!dotnet-repl\\20240304-2009-3701-0108-0d2c2538946c\\main.spi\" })] / typeErrorCount: 0\r\n",
      "00:00:35 #168 [Debug] watchWithFilter / Disposing watch stream / filter: FileName, LastWrite\r\n",
      "FSharpOption<Tuple<FSharpOption<String>,FSharpList<String>>>\r\n",
      "      Value:       - <null>\r\n",
      "      - [ main.spi:\n",
      "Expected: whitespace ]\r\n"
     ]
    }
   ],
   "source": [
    "//// test\n",
    "\n",
    "\"\"\"\n",
    "/// abc\n",
    "inl main () =\n",
    "    ()\n",
    "\"\"\"\n",
    "|> buildCode 10000 None\n",
    "|> Async.runWithTimeout 10000\n",
    "|> Option.map (fun (fsxContent, errors) -> fsxContent, errors |> List.map fst)\n",
    "|> _equal (\n",
    "    Some (\n",
    "        None,\n",
    "        [ \"main.spi:\n",
    "Expected: whitespace\" ]\n",
    "    )\n",
    ")"
   ]
  },
  {
   "cell_type": "code",
   "execution_count": null,
   "metadata": {
    "dotnet_interactive": {
     "language": "fsharp"
    },
    "polyglot_notebook": {
     "kernelName": "fsharp"
    }
   },
   "outputs": [
    {
     "name": "stdout",
     "output_type": "stream",
     "text": [
      "00:00:35 #169 [Debug] runWithTimeoutAsync / timeout: 60\r\n",
      "00:00:35 #170 [Debug] executeAsync / options: { Command =\n",
      "   \"dotnet \"C:\\home\\git\\polyglot\\deps\\The-Spiral-Language\\The Spiral Language 2\\artifacts\\bin\\The Spiral Language 2\\release\\Spiral.dll\" --port 13805 --default-int i32 --default-float f64\"\n",
      "  WorkingDirectory = None\n",
      "  CancellationToken = Some System.Threading.CancellationToken\n",
      "  OnLine = Some <fun:buildCode@3-1005> }\r\n",
      "00:00:36 #171 [Verbose] > pwd: C:\\home\\git\\polyglot\\apps\\spiral\r\n",
      "00:00:36 #172 [Verbose] > dll_path: C:\\home\\git\\polyglot\\deps\\The-Spiral-Language\\The Spiral Language 2\\artifacts\\bin\\The Spiral Language 2\\release\r\n",
      "00:00:36 #174 [Verbose] > Starting the Spiral Server. It is bound to: http://localhost:13805\r\n",
      "00:00:36 #175 [Debug] runWithTimeoutAsync / timeout: 500\r\n",
      "00:00:37 #176 [Debug] sendJson / port: 13805 / json: {\"Ping\":true} / result.Length:\r\n",
      "00:00:37 #177 [Verbose] awaitCompiler / Ping / result: Some(null) / port: 13805 / retry: 0\r\n",
      "00:00:37 #178 [Verbose] > Server bound to: http://localhost:13805\r\n",
      "00:00:37 #179 [Debug] buildFile / takeWhileInclusive / fsxContent:  / errors: [] / typeErrorCount: 0\r\n",
      "00:00:37 #180 [Debug] buildFile / takeWhileInclusive / fsxContent:  / errors: [] / typeErrorCount: 0\r\n",
      "00:00:37 #181 [Debug] sendJson / port: 13805 / json: {\"FileOpen\":{\"spiText\":\"\\ninl main () =\\n    real\\n        inl real_unbox forall a. (obj : a) : a =\\n            typecase obj with\\n            | _ =\\u003E obj\\n        real_unbox ()\\n    ()\\n\",\"uri\":\"file:///c:/Users/i574n/AppData/Local/Temp/!dotnet-repl/20240304-2009-3911-1114-138b331f7278/main.spi\"}} / result.Length:\r\n",
      "00:00:37 #182 [Debug] sendJson / port: 13805 / json: {\"BuildFile\":{\"backend\":\"Fsharp\",\"uri\":\"file:///c:/Users/i574n/AppData/Local/Temp/!dotnet-repl/20240304-2009-3911-1114-138b331f7278/main.spi\"}} / result.Length:\r\n",
      "00:00:37 #183 [Verbose] > Building c:\\Users\\i574n\\AppData\\Local\\Temp\\!dotnet-repl\\20240304-2009-3911-1114-138b331f7278\\main.spi\r\n",
      "00:00:38 #185 [Debug] buildFile / takeWhileInclusive / fsxContent:  / errors: [] / typeErrorCount: 0\r\n",
      "00:00:39 #187 [Debug] buildFile / takeWhileInclusive / fsxContent:  / errors: [] / typeErrorCount: 0\r\n",
      "00:00:39 #189 [Debug] buildFile / takeWhileInclusive / fsxContent:  / errors: [(Cannot apply a forall with a term., TracedError\n",
      "  { message = \"Cannot apply a forall with a term.\"\n",
      "    trace =\n",
      "     [\"Error trace on line: 2, column: 10 in module: c:\\Users\\i574n\\AppData\\Local\\Temp\\!dotnet-repl\\20240304-2009-3911-1114-138b331f7278\\main.spi.\r\n",
      "inl main () =\r\n",
      "         ^\r\n",
      "\";\n",
      "      \"Error trace on line: 4, column: 9 in module: c:\\Users\\i574n\\AppData\\Local\\Temp\\!dotnet-repl\\20240304-2009-3911-1114-138b331f7278\\main.spi.\r\n",
      "        inl real_unbox forall a. (obj : a) : a =\r\n",
      "        ^\r\n",
      "\";\n",
      "      \"Error trace on line: 7, column: 9 in module: c:\\Users\\i574n\\AppData\\Local\\Temp\\!dotnet-repl\\20240304-2009-3911-1114-138b331f7278\\main.spi.\r\n",
      "        real_unbox ()\r\n",
      "        ^\r\n",
      "\"] })] / typeErrorCount: 0\r\n",
      "00:00:39 #190 [Debug] watchWithFilter / Disposing watch stream / filter: FileName, LastWrite\r\n",
      "FSharpOption<Tuple<FSharpOption<String>,FSharpList<String>>>\r\n",
      "      Value:       - <null>\r\n",
      "      - [ Cannot apply a forall with a term. ]\r\n"
     ]
    }
   ],
   "source": [
    "//// test\n",
    "\n",
    "\"\"\"\n",
    "inl main () =\n",
    "    real\n",
    "        inl real_unbox forall a. (obj : a) : a =\n",
    "            typecase obj with\n",
    "            | _ => obj\n",
    "        real_unbox ()\n",
    "    ()\n",
    "\"\"\"\n",
    "|> buildCode 10000 None\n",
    "|> Async.runWithTimeout 10000\n",
    "|> Option.map (fun (fsxContent, errors) -> fsxContent, errors |> List.map fst)\n",
    "|> _equal (\n",
    "    Some (\n",
    "        None,\n",
    "        [ \"Cannot apply a forall with a term.\" ]\n",
    "    )\n",
    ")"
   ]
  },
  {
   "cell_type": "code",
   "execution_count": null,
   "metadata": {
    "dotnet_interactive": {
     "language": "fsharp"
    },
    "polyglot_notebook": {
     "kernelName": "fsharp"
    }
   },
   "outputs": [
    {
     "name": "stdout",
     "output_type": "stream",
     "text": [
      "00:00:40 #192 [Debug] runWithTimeoutAsync / timeout: 60\r\n",
      "00:00:40 #193 [Debug] executeAsync / options: { Command =\n",
      "   \"dotnet \"C:\\home\\git\\polyglot\\deps\\The-Spiral-Language\\The Spiral Language 2\\artifacts\\bin\\The Spiral Language 2\\release\\Spiral.dll\" --port 13805 --default-int i32 --default-float f64\"\n",
      "  WorkingDirectory = None\n",
      "  CancellationToken = Some System.Threading.CancellationToken\n",
      "  OnLine = Some <fun:buildCode@3-1005> }\r\n",
      "00:00:41 #194 [Verbose] > pwd: C:\\home\\git\\polyglot\\apps\\spiral\r\n",
      "00:00:41 #195 [Verbose] > dll_path: C:\\home\\git\\polyglot\\deps\\The-Spiral-Language\\The Spiral Language 2\\artifacts\\bin\\The Spiral Language 2\\release\r\n",
      "00:00:41 #197 [Verbose] > Starting the Spiral Server. It is bound to: http://localhost:13805\r\n",
      "00:00:41 #198 [Debug] runWithTimeoutAsync / timeout: 500\r\n",
      "00:00:42 #199 [Debug] sendJson / port: 13805 / json: {\"Ping\":true} / result.Length:\r\n",
      "00:00:42 #200 [Verbose] awaitCompiler / Ping / result: Some(null) / port: 13805 / retry: 0\r\n",
      "00:00:42 #201 [Verbose] > Server bound to: http://localhost:13805\r\n",
      "00:00:42 #202 [Debug] buildFile / takeWhileInclusive / fsxContent:  / errors: [] / typeErrorCount: 0\r\n",
      "00:00:42 #203 [Debug] buildFile / takeWhileInclusive / fsxContent:  / errors: [] / typeErrorCount: 0\r\n",
      "00:00:42 #204 [Debug] sendJson / port: 13805 / json: {\"FileOpen\":{\"spiText\":\"\\ninl main () =\\n    real\\n        inl real_unbox forall a. (obj : a) : a =\\n            typecase obj with\\n            | _ =\\u003E obj\\n        real_unbox \\u0060i32 1\\n\",\"uri\":\"file:///c:/Users/i574n/AppData/Local/Temp/!dotnet-repl/20240304-2009-4382-8264-837233b2a765/main.spi\"}} / result.Length:\r\n",
      "00:00:42 #205 [Debug] sendJson / port: 13805 / json: {\"BuildFile\":{\"backend\":\"Fsharp\",\"uri\":\"file:///c:/Users/i574n/AppData/Local/Temp/!dotnet-repl/20240304-2009-4382-8264-837233b2a765/main.spi\"}} / result.Length:\r\n",
      "00:00:43 #207 [Verbose] > Building c:\\Users\\i574n\\AppData\\Local\\Temp\\!dotnet-repl\\20240304-2009-4382-8264-837233b2a765\\main.spi\r\n",
      "00:00:43 #208 [Debug] buildFile / takeWhileInclusive / fsxContent:  / errors: [] / typeErrorCount: 0\r\n",
      "00:00:44 #210 [Debug] buildFile / takeWhileInclusive / fsxContent:  / errors: [] / typeErrorCount: 0\r\n",
      "00:00:45 #212 [Debug] buildFile / takeWhileInclusive / fsxContent:  / errors: [] / typeErrorCount: 0\r\n",
      "00:00:45 #214 [Debug] buildFile / takeWhileInclusive / fsxContent:  / errors: [(The main function should not have a forall., TracedError { message = \"The main function should not have a forall.\"\n",
      "              trace = [] })] / typeErrorCount: 0\r\n",
      "00:00:45 #215 [Debug] watchWithFilter / Disposing watch stream / filter: FileName, LastWrite\r\n",
      "FSharpOption<Tuple<FSharpOption<String>,FSharpList<String>>>\r\n",
      "      Value:       - <null>\r\n",
      "      - [ The main function should not have a forall. ]\r\n"
     ]
    }
   ],
   "source": [
    "//// test\n",
    "\n",
    "\"\"\"\n",
    "inl main () =\n",
    "    real\n",
    "        inl real_unbox forall a. (obj : a) : a =\n",
    "            typecase obj with\n",
    "            | _ => obj\n",
    "        real_unbox `i32 1\n",
    "\"\"\"\n",
    "|> buildCode 10000 None\n",
    "|> Async.runWithTimeout 10000\n",
    "|> Option.map (fun (fsxContent, errors) -> fsxContent, errors |> List.map fst)\n",
    "|> _equal (\n",
    "    Some (\n",
    "        None,\n",
    "        [ \"The main function should not have a forall.\" ]\n",
    "    )\n",
    ")"
   ]
  },
  {
   "cell_type": "code",
   "execution_count": null,
   "metadata": {
    "dotnet_interactive": {
     "language": "fsharp"
    },
    "polyglot_notebook": {
     "kernelName": "fsharp"
    }
   },
   "outputs": [
    {
     "name": "stdout",
     "output_type": "stream",
     "text": [
      "00:00:46 #216 [Debug] runWithTimeoutAsync / timeout: 60\r\n",
      "00:00:46 #217 [Debug] executeAsync / options: { Command =\n",
      "   \"dotnet \"C:\\home\\git\\polyglot\\deps\\The-Spiral-Language\\The Spiral Language 2\\artifacts\\bin\\The Spiral Language 2\\release\\Spiral.dll\" --port 13805 --default-int i32 --default-float f64\"\n",
      "  WorkingDirectory = None\n",
      "  CancellationToken = Some System.Threading.CancellationToken\n",
      "  OnLine = Some <fun:buildCode@3-1005> }\r\n",
      "00:00:47 #219 [Verbose] > pwd: C:\\home\\git\\polyglot\\apps\\spiral\r\n",
      "00:00:47 #220 [Verbose] > dll_path: C:\\home\\git\\polyglot\\deps\\The-Spiral-Language\\The Spiral Language 2\\artifacts\\bin\\The Spiral Language 2\\release\r\n",
      "00:00:47 #221 [Verbose] > Starting the Spiral Server. It is bound to: http://localhost:13805\r\n",
      "00:00:47 #222 [Debug] runWithTimeoutAsync / timeout: 500\r\n",
      "00:00:47 #223 [Verbose] waitForPortAccess / port: 13805 / retry: 0\r\n",
      "00:00:47 #225 [Debug] sendJson / port: 13805 / json: {\"Ping\":true} / result.Length:\r\n",
      "00:00:47 #226 [Verbose] awaitCompiler / Ping / result: Some(null) / port: 13805 / retry: 0\r\n",
      "00:00:47 #227 [Verbose] > Server bound to: http://localhost:13805\r\n",
      "00:00:47 #228 [Debug] buildFile / takeWhileInclusive / fsxContent:  / errors: [] / typeErrorCount: 0\r\n",
      "00:00:47 #229 [Debug] buildFile / takeWhileInclusive / fsxContent:  / errors: [] / typeErrorCount: 0\r\n",
      "00:00:47 #230 [Debug] sendJson / port: 13805 / json: {\"FileOpen\":{\"spiText\":\"\\ninl init_series start end inc =\\n    inl total : f64 = conv ((end - start) / inc) \\u002B 1\\n    listm.init total (conv \\u003E\\u003E (*) inc \\u003E\\u003E (\\u002B) start) : list f64\\n\\ntype integration = (f64 -\\u003E f64) -\\u003E f64 -\\u003E f64 -\\u003E f64\\n\\ninl integral dt : integration =\\n    fun f a b =\\u003E\\n        init_series (a \\u002B dt / 2) (b - dt / 2) dt\\n        |\\u003E listm.map (f \\u003E\\u003E (*) dt)\\n        |\\u003E listm.fold (\\u002B) 0\\n\\ninl main () =\\n    integral 0.1 (fun x =\\u003E x ** 2) 0 1\\n\",\"uri\":\"file:///c:/Users/i574n/AppData/Local/Temp/!dotnet-repl/20240304-2009-4967-6716-6c57ab7a44d0/main.spi\"}} / result.Length:\r\n",
      "00:00:47 #231 [Debug] sendJson / port: 13805 / json: {\"BuildFile\":{\"backend\":\"Fsharp\",\"uri\":\"file:///c:/Users/i574n/AppData/Local/Temp/!dotnet-repl/20240304-2009-4967-6716-6c57ab7a44d0/main.spi\"}} / result.Length:\r\n",
      "00:00:48 #232 [Verbose] > Building c:\\Users\\i574n\\AppData\\Local\\Temp\\!dotnet-repl\\20240304-2009-4967-6716-6c57ab7a44d0\\main.spi\r\n",
      "00:00:48 #234 [Debug] buildFile / takeWhileInclusive / fsxContent:  / errors: [] / typeErrorCount: 0\r\n",
      "00:00:49 #236 [Debug] buildFile / takeWhileInclusive / fsxContent:  / errors: [] / typeErrorCount: 0\r\n",
      "00:00:50 #238 [Debug] buildFile / takeWhileInclusive / fsxContent: 0.3325000000000001\n",
      " / errors: [] / typeErrorCount: 0\r\n",
      "00:00:50 #239 [Debug] watchWithFilter / Disposing watch stream / filter: FileName, LastWrite\r\n",
      "FSharpOption<Tuple<FSharpOption<String>,FSharpList<String>>>\r\n",
      "      Value:       - FSharpOption<String>\r\n",
      "          Value: 0.3325000000000001\n",
      "\r\n",
      "      - [  ]\r\n"
     ]
    }
   ],
   "source": [
    "//// test\n",
    "\n",
    "\"\"\"\n",
    "inl init_series start end inc =\n",
    "    inl total : f64 = conv ((end - start) / inc) + 1\n",
    "    listm.init total (conv >> (*) inc >> (+) start) : list f64\n",
    "\n",
    "type integration = (f64 -> f64) -> f64 -> f64 -> f64\n",
    "\n",
    "inl integral dt : integration =\n",
    "    fun f a b =>\n",
    "        init_series (a + dt / 2) (b - dt / 2) dt\n",
    "        |> listm.map (f >> (*) dt)\n",
    "        |> listm.fold (+) 0\n",
    "\n",
    "inl main () =\n",
    "    integral 0.1 (fun x => x ** 2) 0 1\n",
    "\"\"\"\n",
    "|> buildCode 10000 None\n",
    "|> Async.runWithTimeout 10000\n",
    "|> Option.map (fun (fsxContent, errors) -> fsxContent, errors |> List.map fst)\n",
    "|> _equal (\n",
    "    Some (\n",
    "        Some \"0.3325000000000001\\n\",\n",
    "        []\n",
    "    )\n",
    ")"
   ]
  },
  {
   "cell_type": "code",
   "execution_count": null,
   "metadata": {
    "dotnet_interactive": {
     "language": "fsharp"
    },
    "polyglot_notebook": {
     "kernelName": "fsharp"
    }
   },
   "outputs": [
    {
     "data": {
      "text/html": [
       "<details open=\"open\" class=\"dni-treeview\"><summary><span class=\"dni-code-hint\"><code>Some((Some(0.33332500000000004\\n), []))</code></span></summary><div><table><thead><tr></tr></thead><tbody><tr><td>Value</td><td><details class=\"dni-treeview\"><summary><span class=\"dni-code-hint\"><code>(Some(0.33332500000000004\\n), [])</code></span></summary><div><table><thead><tr></tr></thead><tbody><tr><td>Item1</td><td><details class=\"dni-treeview\"><summary><span class=\"dni-code-hint\"><code>Some(0.33332500000000004\\n)</code></span></summary><div><table><thead><tr></tr></thead><tbody><tr><td>Value</td><td><div class=\"dni-plaintext\"><pre>0.33332500000000004\n",
       "</pre></div></td></tr></tbody></table></div></details></td></tr><tr><td>Item2</td><td><div class=\"dni-plaintext\"><pre>[  ]</pre></div></td></tr></tbody></table></div></details></td></tr></tbody></table></div></details><style>\r\n",
       ".dni-code-hint {\r\n",
       "    font-style: italic;\r\n",
       "    overflow: hidden;\r\n",
       "    white-space: nowrap;\r\n",
       "}\r\n",
       ".dni-treeview {\r\n",
       "    white-space: nowrap;\r\n",
       "}\r\n",
       ".dni-treeview td {\r\n",
       "    vertical-align: top;\r\n",
       "    text-align: start;\r\n",
       "}\r\n",
       "details.dni-treeview {\r\n",
       "    padding-left: 1em;\r\n",
       "}\r\n",
       "table td {\r\n",
       "    text-align: start;\r\n",
       "}\r\n",
       "table tr { \r\n",
       "    vertical-align: top; \r\n",
       "    margin: 0em 0px;\r\n",
       "}\r\n",
       "table tr td pre \r\n",
       "{ \r\n",
       "    vertical-align: top !important; \r\n",
       "    margin: 0em 0px !important;\r\n",
       "} \r\n",
       "table th {\r\n",
       "    text-align: start;\r\n",
       "}\r\n",
       "</style>"
      ]
     },
     "metadata": {},
     "output_type": "display_data"
    },
    {
     "name": "stdout",
     "output_type": "stream",
     "text": [
      "00:00:51 #240 [Debug] runWithTimeoutAsync / timeout: 60\r\n",
      "00:00:51 #241 [Debug] executeAsync / options: { Command =\n",
      "   \"dotnet \"C:\\home\\git\\polyglot\\deps\\The-Spiral-Language\\The Spiral Language 2\\artifacts\\bin\\The Spiral Language 2\\release\\Spiral.dll\" --port 13805 --default-int i32 --default-float f64\"\n",
      "  WorkingDirectory = None\n",
      "  CancellationToken = Some System.Threading.CancellationToken\n",
      "  OnLine = Some <fun:buildCode@3-1005> }\r\n",
      "00:00:52 #243 [Verbose] > pwd: C:\\home\\git\\polyglot\\apps\\spiral\r\n",
      "00:00:52 #244 [Verbose] > dll_path: C:\\home\\git\\polyglot\\deps\\The-Spiral-Language\\The Spiral Language 2\\artifacts\\bin\\The Spiral Language 2\\release\r\n",
      "00:00:52 #245 [Verbose] > Starting the Spiral Server. It is bound to: http://localhost:13805\r\n",
      "00:00:52 #246 [Debug] runWithTimeoutAsync / timeout: 500\r\n",
      "00:00:52 #248 [Debug] sendJson / port: 13805 / json: {\"Ping\":true} / result.Length:\r\n",
      "00:00:52 #249 [Verbose] awaitCompiler / Ping / result: Some(null) / port: 13805 / retry: 0\r\n",
      "00:00:52 #250 [Verbose] > Server bound to: http://localhost:13805\r\n",
      "00:00:52 #251 [Debug] buildFile / takeWhileInclusive / fsxContent:  / errors: [] / typeErrorCount: 0\r\n",
      "00:00:52 #252 [Debug] buildFile / takeWhileInclusive / fsxContent:  / errors: [] / typeErrorCount: 0\r\n",
      "00:00:52 #253 [Debug] sendJson / port: 13805 / json: {\"FileOpen\":{\"spiText\":\"\\ninl init_series start end inc =\\n    inl total : f64 = conv ((end - start) / inc) \\u002B 1\\n    listm.init total (conv \\u003E\\u003E (*) inc \\u003E\\u003E (\\u002B) start) : list f64\\n\\ntype integration = (f64 -\\u003E f64) -\\u003E f64 -\\u003E f64 -\\u003E f64\\n\\ninl integral dt : integration =\\n    fun f a b =\\u003E\\n        init_series (a \\u002B dt / 2) (b - dt / 2) dt\\n        |\\u003E listm.map (f \\u003E\\u003E (*) dt)\\n        |\\u003E listm.fold (\\u002B) 0\\n\\ninl main () =\\n    integral 0.01 (fun x =\\u003E x ** 2) 0 1\\n\",\"uri\":\"file:///c:/Users/i574n/AppData/Local/Temp/!dotnet-repl/20240304-2009-5490-9043-9c370bafb3b8/main.spi\"}} / result.Length:\r\n",
      "00:00:53 #254 [Debug] sendJson / port: 13805 / json: {\"BuildFile\":{\"backend\":\"Fsharp\",\"uri\":\"file:///c:/Users/i574n/AppData/Local/Temp/!dotnet-repl/20240304-2009-5490-9043-9c370bafb3b8/main.spi\"}} / result.Length:\r\n",
      "00:00:53 #255 [Verbose] > Building c:\\Users\\i574n\\AppData\\Local\\Temp\\!dotnet-repl\\20240304-2009-5490-9043-9c370bafb3b8\\main.spi\r\n",
      "00:00:53 #257 [Debug] buildFile / takeWhileInclusive / fsxContent:  / errors: [] / typeErrorCount: 0\r\n",
      "00:00:54 #259 [Debug] buildFile / takeWhileInclusive / fsxContent:  / errors: [] / typeErrorCount: 0\r\n",
      "00:00:55 #260 [Debug] buildFile / takeWhileInclusive / fsxContent: 0.33332500000000004\n",
      " / errors: [] / typeErrorCount: 0\r\n",
      "00:00:55 #261 [Debug] watchWithFilter / Disposing watch stream / filter: FileName, LastWrite\r\n"
     ]
    }
   ],
   "source": [
    "//// test\n",
    "\n",
    "\"\"\"\n",
    "inl init_series start end inc =\n",
    "    inl total : f64 = conv ((end - start) / inc) + 1\n",
    "    listm.init total (conv >> (*) inc >> (+) start) : list f64\n",
    "\n",
    "type integration = (f64 -> f64) -> f64 -> f64 -> f64\n",
    "\n",
    "inl integral dt : integration =\n",
    "    fun f a b =>\n",
    "        init_series (a + dt / 2) (b - dt / 2) dt\n",
    "        |> listm.map (f >> (*) dt)\n",
    "        |> listm.fold (+) 0\n",
    "\n",
    "inl main () =\n",
    "    integral 0.01 (fun x => x ** 2) 0 1\n",
    "\"\"\"\n",
    "|> buildCode 10000 None\n",
    "|> Async.runWithTimeout 10000\n",
    "|> Option.map (fun (fsxContent, errors) -> fsxContent, errors |> List.map fst)\n",
    "// |> _equal None\n",
    "// |> fun x -> printfn $\"{x.ToDisplayString ()}\""
   ]
  },
  {
   "cell_type": "markdown",
   "metadata": {},
   "source": [
    "## getFileTokenRange"
   ]
  },
  {
   "cell_type": "code",
   "execution_count": null,
   "metadata": {
    "dotnet_interactive": {
     "language": "fsharp"
    },
    "polyglot_notebook": {
     "kernelName": "fsharp"
    }
   },
   "outputs": [],
   "source": [
    "let inline getFileTokenRange port cancellationToken path = async {\n",
    "    let fullPath = path |> System.IO.Path.GetFullPath\n",
    "    let! code = fullPath |> FileSystem.readAllTextAsync\n",
    "    let lines = code |> String.split [| '\\n' |]\n",
    "\n",
    "    let token, disposable = Threading.newDisposableToken cancellationToken\n",
    "    use _ = disposable\n",
    "\n",
    "    let! serverPort, _errors, ct, disposable = awaitCompiler port (Some token)\n",
    "    use _ = disposable\n",
    "\n",
    "    let fileOpenObj = {| FileOpen = {| uri = fullPath |> getFileUri; spiText = code |} |}\n",
    "    let! _fileOpenResult = fileOpenObj |> sendObj serverPort\n",
    "\n",
    "    let fileTokenRangeObj =\n",
    "        {|\n",
    "            FileTokenRange =\n",
    "                {|\n",
    "                    uri = fullPath |> getFileUri\n",
    "                    range =\n",
    "                        [|\n",
    "                            {| line = 0; character = 0 |}\n",
    "                            {| line = lines.Length - 1; character = lines.[lines.Length - 1].Length |}\n",
    "                        |]\n",
    "                |}\n",
    "        |}\n",
    "    let! fileTokenRangeResult =\n",
    "        fileTokenRangeObj\n",
    "        |> sendObj serverPort\n",
    "        |> Async.withCancellationToken ct\n",
    "\n",
    "    return fileTokenRangeResult |> Option.map FSharp.Json.Json.deserialize<int array>\n",
    "}"
   ]
  },
  {
   "cell_type": "markdown",
   "metadata": {},
   "source": [
    "## getCodeTokenRange"
   ]
  },
  {
   "cell_type": "code",
   "execution_count": null,
   "metadata": {
    "dotnet_interactive": {
     "language": "fsharp"
    },
    "polyglot_notebook": {
     "kernelName": "fsharp"
    }
   },
   "outputs": [],
   "source": [
    "let inline getCodeTokenRange cancellationToken code = async {\n",
    "    let! mainPath, disposable = persistCode code\n",
    "    use _ = disposable\n",
    "    let port = getCompilerPort ()\n",
    "    return! mainPath |> getFileTokenRange port cancellationToken\n",
    "}"
   ]
  },
  {
   "cell_type": "code",
   "execution_count": null,
   "metadata": {
    "dotnet_interactive": {
     "language": "fsharp"
    },
    "polyglot_notebook": {
     "kernelName": "fsharp"
    }
   },
   "outputs": [
    {
     "name": "stdout",
     "output_type": "stream",
     "text": [
      "00:01:12 #277 [Debug] runWithTimeoutAsync / timeout: 60\r\n",
      "00:01:12 #278 [Debug] executeAsync / options: { Command =\n",
      "   \"dotnet \"C:\\home\\git\\polyglot\\deps\\The-Spiral-Language\\The Spiral Language 2\\artifacts\\bin\\The Spiral Language 2\\release\\Spiral.dll\" --port 13805 --default-int i32 --default-float f64\"\n",
      "  WorkingDirectory = None\n",
      "  CancellationToken = Some System.Threading.CancellationToken\n",
      "  OnLine = Some <fun:it@4-434> }\r\n",
      "00:01:12 #280 [Verbose] > pwd: C:\\home\\git\\polyglot\\apps\\spiral\r\n",
      "00:01:12 #281 [Verbose] > dll_path: C:\\home\\git\\polyglot\\deps\\The-Spiral-Language\\The Spiral Language 2\\artifacts\\bin\\The Spiral Language 2\\release\r\n",
      "00:01:13 #282 [Verbose] > Starting the Spiral Server. It is bound to: http://localhost:13805\r\n",
      "00:01:13 #283 [Debug] runWithTimeoutAsync / timeout: 500\r\n",
      "00:01:13 #284 [Debug] sendJson / port: 13805 / json: {\"Ping\":true} / result.Length:\r\n",
      "00:01:13 #285 [Verbose] awaitCompiler / Ping / result: Some(null) / port: 13805 / retry: 0\r\n",
      "00:01:13 #286 [Verbose] > Server bound to: http://localhost:13805\r\n",
      "00:01:13 #287 [Debug] sendJson / port: 13805 / json: {\"FileOpen\":{\"spiText\":\"inl main () = ()\",\"uri\":\"file:///c:/Users/i574n/AppData/Local/Temp/!dotnet-repl/20240304-2010-1525-2582-2a12ed16cf11/main.spi\"}} / result.Length:\r\n",
      "00:01:14 #289 [Debug] sendJson / port: 13805 / json: {\"FileTokenRange\":{\"range\":[{\"character\":0,\"line\":0},{\"character\":16,\"line\":0}],\"uri\":\"file:///c:/Users/i574n/AppData/Local/Temp/!dotnet-repl/20240304-2010-1525-2582-2a12ed16cf11/main.spi\"}} / result.Length: Some(213)\r\n",
      "FSharpOption<Int32[]>\r\n",
      "      Value: [ 0, 0, 3, 7, 0, 0, 4, 4, 0, 0, 0, 5, 1, 8, 0, 0, 1, 1, 8, 0, 0, 2, 1, 4, 0, 0, 2, 1, 8, 0, 0, 1, 1, 8, 0 ]\r\n"
     ]
    }
   ],
   "source": [
    "//// test\n",
    "\n",
    "\"\"\"inl main () = ()\"\"\"\n",
    "|> getCodeTokenRange None\n",
    "|> Async.runWithTimeout 10000\n",
    "|> Option.flatten\n",
    "|> _equal (Some [| 0; 0; 3; 7; 0; 0; 4; 4; 0; 0; 0; 5; 1; 8; 0; 0; 1; 1; 8; 0; 0; 2; 1; 4; 0; 0;\n",
    "2; 1; 8; 0; 0; 1; 1; 8; 0 |])"
   ]
  },
  {
   "cell_type": "code",
   "execution_count": null,
   "metadata": {
    "dotnet_interactive": {
     "language": "fsharp"
    },
    "polyglot_notebook": {
     "kernelName": "fsharp"
    }
   },
   "outputs": [
    {
     "name": "stdout",
     "output_type": "stream",
     "text": [
      "00:01:19 #295 [Debug] runWithTimeoutAsync / timeout: 60\r\n",
      "00:01:19 #296 [Debug] executeAsync / options: { Command =\n",
      "   \"dotnet \"C:\\home\\git\\polyglot\\deps\\The-Spiral-Language\\The Spiral Language 2\\artifacts\\bin\\The Spiral Language 2\\release\\Spiral.dll\" --port 13805 --default-int i32 --default-float f64\"\n",
      "  WorkingDirectory = None\n",
      "  CancellationToken = Some System.Threading.CancellationToken\n",
      "  OnLine = Some <fun:it@4-801> }\r\n",
      "00:01:20 #298 [Verbose] > pwd: C:\\home\\git\\polyglot\\apps\\spiral\r\n",
      "00:01:20 #299 [Verbose] > dll_path: C:\\home\\git\\polyglot\\deps\\The-Spiral-Language\\The Spiral Language 2\\artifacts\\bin\\The Spiral Language 2\\release\r\n",
      "00:01:20 #300 [Verbose] > Starting the Spiral Server. It is bound to: http://localhost:13805\r\n",
      "00:01:20 #301 [Debug] runWithTimeoutAsync / timeout: 500\r\n",
      "00:01:20 #302 [Verbose] waitForPortAccess / port: 13805 / retry: 0\r\n",
      "00:01:20 #303 [Debug] sendJson / port: 13805 / json: {\"Ping\":true} / result.Length:\r\n",
      "00:01:20 #304 [Verbose] awaitCompiler / Ping / result: Some(null) / port: 13805 / retry: 0\r\n",
      "00:01:20 #305 [Verbose] > Server bound to: http://localhost:13805\r\n",
      "00:01:20 #306 [Debug] sendJson / port: 13805 / json: {\"FileOpen\":{\"spiText\":\"inl main () = 1i32\",\"uri\":\"file:///c:/Users/i574n/AppData/Local/Temp/!dotnet-repl/20240304-2010-2286-8651-86c4f81e0776/main.spi\"}} / result.Length:\r\n",
      "00:01:21 #308 [Debug] sendJson / port: 13805 / json: {\"FileTokenRange\":{\"range\":[{\"character\":0,\"line\":0},{\"character\":18,\"line\":0}],\"uri\":\"file:///c:/Users/i574n/AppData/Local/Temp/!dotnet-repl/20240304-2010-2286-8651-86c4f81e0776/main.spi\"}} / result.Length: Some(214)\r\n",
      "FSharpOption<Int32[]>\r\n",
      "      Value: [ 0, 0, 3, 7, 0, 0, 4, 4, 0, 0, 0, 5, 1, 8, 0, 0, 1, 1, 8, 0, 0, 2, 1, 4, 0, 0, 2, 1, 3, 0, 0, 1, 3, 12, 0 ]\r\n"
     ]
    }
   ],
   "source": [
    "//// test\n",
    "\n",
    "\"\"\"inl main () = 1i32\"\"\"\n",
    "|> getCodeTokenRange None\n",
    "|> Async.runWithTimeout 10000\n",
    "|> Option.flatten\n",
    "|> _equal (Some [| 0; 0; 3; 7; 0; 0; 4; 4; 0; 0; 0; 5; 1; 8; 0; 0; 1; 1; 8; 0; 0; 2; 1; 4; 0; 0;\n",
    "2; 1; 3; 0; 0; 1; 3; 12; 0 |])"
   ]
  },
  {
   "cell_type": "markdown",
   "metadata": {},
   "source": [
    "## Arguments"
   ]
  },
  {
   "cell_type": "code",
   "execution_count": null,
   "metadata": {
    "dotnet_interactive": {
     "language": "fsharp"
    },
    "polyglot_notebook": {
     "kernelName": "fsharp"
    }
   },
   "outputs": [],
   "source": [
    "[<RequireQualifiedAccess>]\n",
    "type Arguments =\n",
    "    | Build_File of string * string\n",
    "    | File_Token_Range of string * string\n",
    "    | Execute_Command of string\n",
    "    | Timeout of int\n",
    "    | Port of int\n",
    "\n",
    "    interface Argu.IArgParserTemplate with\n",
    "        member s.Usage =\n",
    "            match s with\n",
    "            | Build_File _ -> nameof Build_File\n",
    "            | File_Token_Range _ -> nameof File_Token_Range\n",
    "            | Execute_Command _ -> nameof Execute_Command\n",
    "            | Timeout _ -> nameof Timeout\n",
    "            | Port _ -> nameof Port"
   ]
  },
  {
   "cell_type": "code",
   "execution_count": null,
   "metadata": {
    "dotnet_interactive": {
     "language": "fsharp"
    },
    "polyglot_notebook": {
     "kernelName": "fsharp"
    }
   },
   "outputs": [
    {
     "data": {
      "text/plain": [
       "USAGE: dotnet.exe [--help] [--build-file <string> <string>] [--file-token-range <string> <string>] [--execute-command <string>] [--timeout <int>] [--port <int>]\r\n",
       "\r\n",
       "OPTIONS:\r\n",
       "\r\n",
       "    --build-file <string> <string>\r\n",
       "                          Build_File\r\n",
       "    --file-token-range <string> <string>\r\n",
       "                          File_Token_Range\r\n",
       "    --execute-command <string>\r\n",
       "                          Execute_Command\r\n",
       "    --timeout <int>       Timeout\r\n",
       "    --port <int>          Port\r\n",
       "    --help                display this list of options.\r\n"
      ]
     },
     "metadata": {},
     "output_type": "display_data"
    }
   ],
   "source": [
    "//// test\n",
    "\n",
    "Argu.ArgumentParser.Create<Arguments>().PrintUsage ()"
   ]
  },
  {
   "cell_type": "markdown",
   "metadata": {},
   "source": [
    "## main"
   ]
  },
  {
   "cell_type": "code",
   "execution_count": null,
   "metadata": {
    "dotnet_interactive": {
     "language": "fsharp"
    },
    "polyglot_notebook": {
     "kernelName": "fsharp"
    }
   },
   "outputs": [],
   "source": [
    "let main args =\n",
    "    let argsMap = args |> Runtime.parseArgsMap<Arguments>\n",
    "\n",
    "    let buildFileActions =\n",
    "        argsMap\n",
    "        |> Map.tryFind (nameof Arguments.Build_File)\n",
    "        |> Option.defaultValue []\n",
    "        |> List.choose (function\n",
    "            | Arguments.Build_File (inputPath, outputPath) -> Some (inputPath, outputPath)\n",
    "            | _ -> None\n",
    "        )\n",
    "\n",
    "    let fileTokenRangeActions =\n",
    "        argsMap\n",
    "        |> Map.tryFind (nameof Arguments.File_Token_Range)\n",
    "        |> Option.defaultValue []\n",
    "        |> List.choose (function\n",
    "            | Arguments.File_Token_Range (inputPath, outputPath) -> Some (inputPath, outputPath)\n",
    "            | _ -> None\n",
    "        )\n",
    "\n",
    "    let executeCommandActions =\n",
    "        argsMap\n",
    "        |> Map.tryFind (nameof Arguments.Execute_Command)\n",
    "        |> Option.defaultValue []\n",
    "        |> List.choose (function\n",
    "            | Arguments.Execute_Command command -> Some command\n",
    "            | _ -> None\n",
    "        )\n",
    "\n",
    "    let timeout =\n",
    "        match argsMap |> Map.tryFind (nameof Arguments.Timeout) with\n",
    "        | Some [ Arguments.Timeout timeout ] -> timeout\n",
    "        | _ -> 60000 * 60\n",
    "\n",
    "    let port =\n",
    "        match argsMap |> Map.tryFind (nameof Arguments.Port) with\n",
    "        | Some [ Arguments.Port port ] -> Some port\n",
    "        | _ -> None\n",
    "\n",
    "    async {\n",
    "        let! buildFileResult =\n",
    "            buildFileActions\n",
    "            |> List.map (fun (inputPath, outputPath) -> async {\n",
    "                let port = port |> Option.defaultWith getCompilerPort\n",
    "                let! outputCode, errors = inputPath |> buildFile timeout port None\n",
    "\n",
    "                errors\n",
    "                |> List.map snd\n",
    "                |> List.iter (fun error ->\n",
    "                    trace Critical (fun () -> $\"main / error: {error}\") getLocals\n",
    "                )\n",
    "\n",
    "                match outputCode with\n",
    "                | Some outputCode ->\n",
    "                    do! outputCode |> FileSystem.writeAllTextAsync outputPath\n",
    "                    return 0\n",
    "                | None ->\n",
    "                    return 1\n",
    "            })\n",
    "            |> Async.Sequential\n",
    "\n",
    "        let! fileTokenRangeResult =\n",
    "            fileTokenRangeActions\n",
    "            |> List.map (fun (inputPath, outputPath) -> async {\n",
    "                let port = port |> Option.defaultWith getCompilerPort\n",
    "                let! tokenRange = inputPath |> getFileTokenRange port None\n",
    "                match tokenRange with\n",
    "                | Some tokenRange ->\n",
    "                    do! tokenRange |> FSharp.Json.Json.serialize |> FileSystem.writeAllTextAsync outputPath\n",
    "                    return 0\n",
    "                | None ->\n",
    "                    return 1\n",
    "            })\n",
    "            |> Async.Sequential\n",
    "\n",
    "        let! executeCommandResult =\n",
    "            executeCommandActions\n",
    "            |> List.map (fun command -> async {\n",
    "                let port = port |> Option.defaultWith getCompilerPort\n",
    "\n",
    "                let localToken, disposable = Threading.newDisposableToken None\n",
    "                use _ = disposable\n",
    "\n",
    "                let! serverPort, _errors, compilerToken, disposable = awaitCompiler port (Some localToken)\n",
    "                use _ = disposable\n",
    "\n",
    "                let! exitCode, result =\n",
    "                    Runtime.executeWithOptionsAsync\n",
    "                        {\n",
    "                            Command = command\n",
    "                            CancellationToken = Some compilerToken\n",
    "                            WorkingDirectory = None\n",
    "                            OnLine = None\n",
    "                        }\n",
    "\n",
    "                trace Debug (fun () -> $\"main / executeCommand / exitCode: {exitCode}\") getLocals\n",
    "\n",
    "                return exitCode\n",
    "            })\n",
    "            |> Async.Sequential\n",
    "\n",
    "        return\n",
    "            [| buildFileResult; fileTokenRangeResult; executeCommandResult |]\n",
    "            |> Array.collect id\n",
    "            |> Array.sum\n",
    "    }\n",
    "    |> Async.runWithTimeout timeout\n",
    "    |> Option.defaultValue 1"
   ]
  },
  {
   "cell_type": "code",
   "execution_count": null,
   "metadata": {
    "dotnet_interactive": {
     "language": "fsharp"
    },
    "polyglot_notebook": {
     "kernelName": "fsharp"
    }
   },
   "outputs": [
    {
     "data": {
      "text/html": [
       "<div class=\"dni-plaintext\"><pre>0</pre></div><style>\r\n",
       ".dni-code-hint {\r\n",
       "    font-style: italic;\r\n",
       "    overflow: hidden;\r\n",
       "    white-space: nowrap;\r\n",
       "}\r\n",
       ".dni-treeview {\r\n",
       "    white-space: nowrap;\r\n",
       "}\r\n",
       ".dni-treeview td {\r\n",
       "    vertical-align: top;\r\n",
       "    text-align: start;\r\n",
       "}\r\n",
       "details.dni-treeview {\r\n",
       "    padding-left: 1em;\r\n",
       "}\r\n",
       "table td {\r\n",
       "    text-align: start;\r\n",
       "}\r\n",
       "table tr { \r\n",
       "    vertical-align: top; \r\n",
       "    margin: 0em 0px;\r\n",
       "}\r\n",
       "table tr td pre \r\n",
       "{ \r\n",
       "    vertical-align: top !important; \r\n",
       "    margin: 0em 0px !important;\r\n",
       "} \r\n",
       "table th {\r\n",
       "    text-align: start;\r\n",
       "}\r\n",
       "</style>"
      ]
     },
     "metadata": {},
     "output_type": "display_data"
    }
   ],
   "source": [
    "//// test\n",
    "\n",
    "let args =\n",
    "    System.Environment.GetEnvironmentVariable \"ARGS\"\n",
    "    |> Runtime.splitArgs\n",
    "    |> Seq.toArray\n",
    "\n",
    "match args with\n",
    "| [||] -> 0\n",
    "| args -> if main args = 0 then 0 else failwith \"main failed\""
   ]
  }
 ],
 "metadata": {},
 "nbformat": 4,
 "nbformat_minor": 5
}