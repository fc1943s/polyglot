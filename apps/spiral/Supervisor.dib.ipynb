{
 "cells": [
  {
   "cell_type": "markdown",
   "metadata": {},
   "source": [
    "# Supervisor (Polyglot)"
   ]
  },
  {
   "cell_type": "code",
   "execution_count": null,
   "metadata": {
    "dotnet_interactive": {
     "language": "fsharp"
    },
    "polyglot_notebook": {
     "kernelName": "fsharp"
    }
   },
   "outputs": [],
   "source": [
    "#r @\"../../../../../../../.nuget/packages/fsharp.control.asyncseq/3.2.1/lib/netstandard2.1/FSharp.Control.AsyncSeq.dll\"\n",
    "#r @\"../../../../../../../.nuget/packages/system.reactive/6.0.1-preview.1/lib/net6.0/System.Reactive.dll\"\n",
    "#r @\"../../../../../../../.nuget/packages/system.reactive.linq/6.0.1-preview.1/lib/netstandard2.0/System.Reactive.Linq.dll\"\n",
    "#r @\"../../../../../../../.nuget/packages/argu/6.2.4/lib/netstandard2.0/Argu.dll\"\n",
    "#r @\"../../../../../../../.nuget/packages/microsoft.aspnetcore.http.connections.common/7.0.0/lib/net7.0/Microsoft.AspNetCore.Http.Connections.Common.dll\"\n",
    "#r @\"../../../../../../../.nuget/packages/microsoft.aspnetcore.http.connections.client/7.0.0/lib/net7.0/Microsoft.AspNetCore.Http.Connections.Client.dll\"\n",
    "#r @\"../../../../../../../.nuget/packages/microsoft.aspnetcore.signalr.common/7.0.0/lib/net7.0/Microsoft.AspNetCore.SignalR.Common.dll\"\n",
    "#r @\"../../../../../../../.nuget/packages/microsoft.aspnetcore.signalr.client/7.0.0/lib/net7.0/Microsoft.AspNetCore.SignalR.Client.dll\"\n",
    "#r @\"../../../../../../../.nuget/packages/microsoft.aspnetcore.signalr.client.core/7.0.0/lib/net7.0/Microsoft.AspNetCore.SignalR.Client.Core.dll\"\n",
    "#r @\"../../../../../../../.nuget/packages/fsharp.json/0.4.1/lib/netstandard2.0/FSharp.Json.dll\""
   ]
  },
  {
   "cell_type": "code",
   "execution_count": null,
   "metadata": {
    "dotnet_interactive": {
     "language": "fsharp"
    },
    "polyglot_notebook": {
     "kernelName": "fsharp"
    }
   },
   "outputs": [],
   "source": [
    "#!import ../../lib/fsharp/Notebooks.dib\n",
    "#!import ../../lib/fsharp/Testing.dib"
   ]
  },
  {
   "cell_type": "code",
   "execution_count": null,
   "metadata": {
    "dotnet_interactive": {
     "language": "fsharp"
    },
    "polyglot_notebook": {
     "kernelName": "fsharp"
    }
   },
   "outputs": [],
   "source": [
    "#!import ../../lib/fsharp/Common.fs\n",
    "#!import ../../lib/fsharp/CommonFSharp.fs\n",
    "#!import ../../lib/fsharp/Async.fs\n",
    "#!import ../../lib/fsharp/AsyncSeq.fs\n",
    "#!import ../../lib/fsharp/Runtime.fs\n",
    "#!import ../../lib/fsharp/FileSystem.fs"
   ]
  },
  {
   "cell_type": "code",
   "execution_count": null,
   "metadata": {
    "dotnet_interactive": {
     "language": "fsharp"
    },
    "polyglot_notebook": {
     "kernelName": "fsharp"
    }
   },
   "outputs": [],
   "source": [
    "#if !INTERACTIVE\n",
    "open Lib\n",
    "#endif"
   ]
  },
  {
   "cell_type": "code",
   "execution_count": null,
   "metadata": {
    "dotnet_interactive": {
     "language": "fsharp"
    },
    "polyglot_notebook": {
     "kernelName": "fsharp"
    }
   },
   "outputs": [],
   "source": [
    "open Common\n",
    "open SpiralFileSystem.Operators\n",
    "open Microsoft.AspNetCore.SignalR.Client"
   ]
  },
  {
   "cell_type": "markdown",
   "metadata": {},
   "source": [
    "## sendJson"
   ]
  },
  {
   "cell_type": "code",
   "execution_count": null,
   "metadata": {
    "dotnet_interactive": {
     "language": "fsharp"
    },
    "polyglot_notebook": {
     "kernelName": "fsharp"
    }
   },
   "outputs": [],
   "source": [
    "let inline sendJson (port : int) (json : string) = async {\n",
    "    let host = \"127.0.0.1\"\n",
    "    let! portOpen = SpiralNetworking.test_port_open host port\n",
    "    if portOpen then\n",
    "        try\n",
    "            let connection = HubConnectionBuilder().WithUrl($\"http://{host}:{port}\").Build()\n",
    "            do! connection.StartAsync () |> Async.AwaitTask\n",
    "            let! result = connection.InvokeAsync<string>(\"ClientToServerMsg\", json) |> Async.AwaitTask\n",
    "            do! connection.StopAsync () |> Async.AwaitTask\n",
    "            trace Verbose (fun () -> $\"Supervisor.sendJson / port: {port} / json: {json |> SpiralSm.ellipsis_end 200} / result: {result |> Option.ofObj |> Option.map (SpiralSm.ellipsis_end 200)}\") _locals\n",
    "            return Some result\n",
    "        with ex ->\n",
    "            trace Critical (fun () -> $\"Supervisor.sendJson / port: {port} / json: {json |> SpiralSm.ellipsis_end 200} / ex: {ex |> SpiralSm.format_exception}\") _locals\n",
    "            return None\n",
    "    else\n",
    "        trace Debug (fun () -> \"Supervisor.sendJson / port: {port} / error: port not open\") _locals\n",
    "        return None\n",
    "}"
   ]
  },
  {
   "cell_type": "markdown",
   "metadata": {},
   "source": [
    "## sendObj"
   ]
  },
  {
   "cell_type": "code",
   "execution_count": null,
   "metadata": {
    "dotnet_interactive": {
     "language": "fsharp"
    },
    "polyglot_notebook": {
     "kernelName": "fsharp"
    }
   },
   "outputs": [],
   "source": [
    "let inline sendObj port obj =\n",
    "    obj\n",
    "    |> System.Text.Json.JsonSerializer.Serialize\n",
    "    |> sendJson port"
   ]
  },
  {
   "cell_type": "markdown",
   "metadata": {},
   "source": [
    "## awaitCompiler"
   ]
  },
  {
   "cell_type": "code",
   "execution_count": null,
   "metadata": {
    "dotnet_interactive": {
     "language": "fsharp"
    },
    "polyglot_notebook": {
     "kernelName": "fsharp"
    }
   },
   "outputs": [],
   "source": [
    "type VSCPos = {| line : int; character : int |}\n",
    "type VSCRange = VSCPos * VSCPos\n",
    "type RString = VSCRange * string\n",
    "type TracedError = {| trace : string list; message : string |}\n",
    "type ClientErrorsRes =\n",
    "    | FatalError of string\n",
    "    | TracedError of TracedError\n",
    "    | PackageErrors of {| uri : string; errors : RString list |}\n",
    "    | TokenizerErrors of {| uri : string; errors : RString list |}\n",
    "    | ParserErrors of {| uri : string; errors : RString list |}\n",
    "    | TypeErrors of {| uri : string; errors : RString list |}"
   ]
  },
  {
   "cell_type": "code",
   "execution_count": null,
   "metadata": {
    "dotnet_interactive": {
     "language": "fsharp"
    },
    "polyglot_notebook": {
     "kernelName": "fsharp"
    }
   },
   "outputs": [],
   "source": [
    "let workspaceRoot = SpiralFileSystem.get_workspace_root ()"
   ]
  },
  {
   "cell_type": "code",
   "execution_count": null,
   "metadata": {
    "dotnet_interactive": {
     "language": "fsharp"
    },
    "polyglot_notebook": {
     "kernelName": "fsharp"
    }
   },
   "outputs": [],
   "source": [
    "let inline awaitCompiler port cancellationToken = async {\n",
    "    let host = \"127.0.0.1\"\n",
    "    let struct (ct, disposable) = cancellationToken |> SpiralThreading.new_disposable_token\n",
    "    let! ct = ct |> SpiralAsync.merge_cancellation_token_with_default_async\n",
    "\n",
    "    let compiler = MailboxProcessor.Start (fun inbox -> async {\n",
    "        let! availablePort = SpiralNetworking.get_available_port (Some 500) host port\n",
    "        if availablePort <> port then\n",
    "            inbox.Post (port, false)\n",
    "        else\n",
    "            let compilerPath =\n",
    "                workspaceRoot </> \"deps/The-Spiral-Language/The Spiral Language 2/artifacts/bin/The Spiral Language 2/release\"\n",
    "                |> System.IO.Path.GetFullPath\n",
    "\n",
    "            let dllPath = compilerPath </> \"Spiral.dll\"\n",
    "\n",
    "            let! exitCode, result =\n",
    "                SpiralRuntime.execution_options (fun x ->\n",
    "                    { x with\n",
    "                        l0 = Some ct\n",
    "                        l1 = $@\"dotnet \"\"{dllPath}\"\" --port {availablePort} --default-int i32 --default-float f64\"\n",
    "                        l3 = Some (fun struct (_, line, _) -> async {\n",
    "                            if line |> SpiralSm.contains $\"System.IO.IOException: Failed to bind to address http://{host}:{port}: address already in use.\" then\n",
    "                                inbox.Post (port, false)\n",
    "\n",
    "                            if line |> SpiralSm.contains $\"Server bound to: http://localhost:{availablePort}\" then\n",
    "                                let rec loop retry = async {\n",
    "                                    do!\n",
    "                                        SpiralNetworking.wait_for_port_access (Some 100) true host availablePort\n",
    "                                        |> Async.runWithTimeoutAsync 2000\n",
    "                                        |> Async.Ignore\n",
    "\n",
    "                                    let _locals () = $\"port: {availablePort} / retry: {retry} / {_locals ()}\"\n",
    "                                    try\n",
    "                                        let pingObj = {| Ping = true |}\n",
    "                                        let! pingResult = pingObj |> sendObj availablePort\n",
    "                                        trace Verbose (fun () -> $\"awaitCompiler / Ping / result: '{pingResult}'\") _locals\n",
    "\n",
    "                                        inbox.Post (availablePort, true)\n",
    "                                    with ex ->\n",
    "                                        trace Verbose (fun () -> $\"awaitCompiler / Ping / ex: {ex |> SpiralSm.format_exception}\") _locals\n",
    "                                        do! Async.Sleep 10\n",
    "                                        do! loop (retry + 1)\n",
    "                                }\n",
    "                                do! loop 0\n",
    "                        })\n",
    "                        l6 = Some workspaceRoot\n",
    "                    }\n",
    "                )\n",
    "                |> SpiralRuntime.execute_with_options_async\n",
    "\n",
    "            trace Debug (fun () -> $\"awaitCompiler / exitCode: {exitCode} / result: {result}\") _locals\n",
    "            disposable.Dispose ()\n",
    "    }, ct)\n",
    "\n",
    "    let! serverPort, managed = compiler.Receive ()\n",
    "\n",
    "    let connection = HubConnectionBuilder().WithUrl($\"http://{host}:{serverPort}\").Build ()\n",
    "    do! connection.StartAsync () |> Async.AwaitTask\n",
    "\n",
    "    let event = Event<_> ()\n",
    "    let disposable' = connection.On<string> (\"ServerToClientMsg\", event.Trigger)\n",
    "    let stream =\n",
    "        FSharp.Control.AsyncSeq.unfoldAsync\n",
    "            (fun () -> async {\n",
    "                let! msg = event.Publish |> Async.AwaitEvent\n",
    "                return Some (msg |> FSharp.Json.Json.deserialize<ClientErrorsRes>, ())\n",
    "            })\n",
    "            ()\n",
    "\n",
    "    let disposable' =\n",
    "        new_disposable (fun () ->\n",
    "            async {\n",
    "                disposable'.Dispose ()\n",
    "                do! connection.StopAsync () |> Async.AwaitTask\n",
    "                disposable.Dispose ()\n",
    "                if managed\n",
    "                then do!\n",
    "                    SpiralNetworking.wait_for_port_access (Some 100) false host serverPort\n",
    "                    |> Async.runWithTimeoutAsync 2000\n",
    "                    |> Async.Ignore\n",
    "            }\n",
    "            |> Async.RunSynchronously\n",
    "        )\n",
    "\n",
    "    return\n",
    "        serverPort,\n",
    "        stream,\n",
    "        ct,\n",
    "        disposable'\n",
    "}"
   ]
  },
  {
   "cell_type": "markdown",
   "metadata": {},
   "source": [
    "## getFilePathFromUri"
   ]
  },
  {
   "cell_type": "code",
   "execution_count": null,
   "metadata": {
    "dotnet_interactive": {
     "language": "fsharp"
    },
    "polyglot_notebook": {
     "kernelName": "fsharp"
    }
   },
   "outputs": [],
   "source": [
    "let inline getFilePathFromUri uri =\n",
    "    match System.Uri.TryCreate (uri, System.UriKind.Absolute) with\n",
    "    | true, uri -> uri.AbsolutePath |> System.IO.Path.GetFullPath\n",
    "    | _ -> failwith \"invalid uri\""
   ]
  },
  {
   "cell_type": "markdown",
   "metadata": {},
   "source": [
    "## getCompilerPort"
   ]
  },
  {
   "cell_type": "code",
   "execution_count": null,
   "metadata": {
    "dotnet_interactive": {
     "language": "fsharp"
    },
    "polyglot_notebook": {
     "kernelName": "fsharp"
    }
   },
   "outputs": [],
   "source": [
    "let inline getCompilerPort () =\n",
    "    13805"
   ]
  },
  {
   "cell_type": "markdown",
   "metadata": {},
   "source": [
    "## serialize_obj"
   ]
  },
  {
   "cell_type": "code",
   "execution_count": null,
   "metadata": {
    "dotnet_interactive": {
     "language": "fsharp"
    },
    "polyglot_notebook": {
     "kernelName": "fsharp"
    }
   },
   "outputs": [],
   "source": [
    "    let serializeObj obj =\n",
    "        obj\n",
    "        |> FSharp.Json.Json.serialize\n",
    "        |> SpiralSm.replace \"\\\\\\\\\" \"\\\\\"\n",
    "        |> SpiralSm.replace \"\\\\r\\\\n\" \"\\n\"\n",
    "        |> SpiralSm.replace \"\\\\n\" \"\\n\""
   ]
  },
  {
   "cell_type": "markdown",
   "metadata": {},
   "source": [
    "## Backend"
   ]
  },
  {
   "cell_type": "code",
   "execution_count": null,
   "metadata": {
    "dotnet_interactive": {
     "language": "fsharp"
    },
    "polyglot_notebook": {
     "kernelName": "fsharp"
    }
   },
   "outputs": [],
   "source": [
    "type Backend =\n",
    "    | Fsharp\n",
    "    | Cuda"
   ]
  },
  {
   "cell_type": "markdown",
   "metadata": {},
   "source": [
    "## buildFile"
   ]
  },
  {
   "cell_type": "code",
   "execution_count": null,
   "metadata": {
    "dotnet_interactive": {
     "language": "fsharp"
    },
    "polyglot_notebook": {
     "kernelName": "fsharp"
    }
   },
   "outputs": [],
   "source": [
    "let inline buildFile backend timeout port cancellationToken path = async {\n",
    "    let fullPath = path |> System.IO.Path.GetFullPath\n",
    "    let fileDir = fullPath |> System.IO.Path.GetDirectoryName\n",
    "    let fileName = fullPath |> System.IO.Path.GetFileNameWithoutExtension\n",
    "    let! code = fullPath |> SpiralFileSystem.read_all_text_async\n",
    "\n",
    "    let stream, disposable = fileDir |> FileSystem.watchDirectory (fun _ -> false)\n",
    "    use _ = disposable\n",
    "\n",
    "    let struct (token, disposable) = SpiralThreading.new_disposable_token cancellationToken\n",
    "    use _ = disposable\n",
    "\n",
    "    let port = port |> Option.defaultWith getCompilerPort\n",
    "    let! serverPort, errors, ct, disposable = awaitCompiler port (Some token)\n",
    "    use _ = disposable\n",
    "\n",
    "    let outputFileName =\n",
    "        match backend with\n",
    "        | Fsharp -> $\"{fileName}.fsx\"\n",
    "        | Cuda -> $\"{fileName}.py\"\n",
    "\n",
    "    let outputContentSeq =\n",
    "        stream\n",
    "        |> FSharp.Control.AsyncSeq.chooseAsync (function\n",
    "            | _, (FileSystem.FileSystemChange.Changed (path, _))\n",
    "                when (path |> System.IO.Path.GetFileName) = outputFileName\n",
    "                ->\n",
    "                    fileDir </> path |> SpiralFileSystem.read_all_text_retry_async\n",
    "            | _ -> None |> Async.init\n",
    "        )\n",
    "        |> FSharp.Control.AsyncSeq.map (fun content ->\n",
    "            Some (content |> SpiralSm.replace \"\\r\\n\" \"\\n\"), None\n",
    "        )\n",
    "\n",
    "    let inline printErrorData (data : {| uri : string; errors : RString list |}) =\n",
    "        let fileName = data.uri |> System.IO.Path.GetFileName\n",
    "        let errors =\n",
    "            data.errors\n",
    "            |> List.map snd\n",
    "            |> SpiralSm.concat \"\\n\"\n",
    "        $\"{fileName}:\\n{errors}\"\n",
    "\n",
    "    let errorsSeq =\n",
    "        errors\n",
    "        |> FSharp.Control.AsyncSeq.choose (fun error ->\n",
    "            match error with\n",
    "            | FatalError message ->\n",
    "                Some (message, error)\n",
    "            | TracedError data ->\n",
    "                Some (data.message, error)\n",
    "            | PackageErrors data when data.errors |> List.isEmpty |> not ->\n",
    "                Some (data |> printErrorData, error)\n",
    "            | TokenizerErrors data when data.errors |> List.isEmpty |> not ->\n",
    "                Some (data |> printErrorData, error)\n",
    "            | ParserErrors data when data.errors |> List.isEmpty |> not ->\n",
    "                Some (data |> printErrorData, error)\n",
    "            | TypeErrors data when data.errors |> List.isEmpty |> not ->\n",
    "                Some (data |> printErrorData, error)\n",
    "            | _ -> None\n",
    "        )\n",
    "        |> FSharp.Control.AsyncSeq.map (fun (message, error) ->\n",
    "            None, Some (message, error)\n",
    "        )\n",
    "\n",
    "    let timerSeq =\n",
    "        1000\n",
    "        |> FSharp.Control.AsyncSeq.intervalMs\n",
    "        |> FSharp.Control.AsyncSeq.map (fun _ -> None, None)\n",
    "\n",
    "    let outputSeq =\n",
    "        [ outputContentSeq; errorsSeq; timerSeq ]\n",
    "        |> FSharp.Control.AsyncSeq.mergeAll\n",
    "\n",
    "    let! outputChild =\n",
    "        ((None, [], 0), outputSeq)\n",
    "        ||> FSharp.Control.AsyncSeq.scan (\n",
    "            fun (outputContentResult, errors, typeErrorCount) (outputContent, error) ->\n",
    "                match outputContent, error with\n",
    "                | Some outputContent, None -> Some outputContent, errors, typeErrorCount\n",
    "                | None, Some (_, FatalError \"File main has a type error somewhere in its path.\") ->\n",
    "                    outputContentResult, errors, typeErrorCount + 1\n",
    "                | None, Some error -> outputContentResult, error :: errors, typeErrorCount\n",
    "                | None, None when typeErrorCount >= 1 ->\n",
    "                    outputContentResult, errors, typeErrorCount + 1\n",
    "                | _ -> outputContentResult, errors, typeErrorCount\n",
    "        )\n",
    "        |> FSharp.Control.AsyncSeq.takeWhileInclusive (fun (outputContent, errors, typeErrorCount) ->\n",
    "            trace Debug (fun () -> $\"Supervisor.buildFile / takeWhileInclusive / path: {path} / outputContent: {outputContent |> Option.defaultValue System.String.Empty |> SpiralSm.ellipsis_end 400} / errors: {errors |> serializeObj} / typeErrorCount: {typeErrorCount}\") _locals\n",
    "#if INTERACTIVE\n",
    "            let errorWait = 2\n",
    "#else\n",
    "            let errorWait = 4\n",
    "#endif\n",
    "            match outputContent, errors with\n",
    "            | None, [] when typeErrorCount > errorWait -> false\n",
    "            | None, [] -> true\n",
    "            | _ -> false\n",
    "        )\n",
    "        |> FSharp.Control.AsyncSeq.tryLast\n",
    "        |> Async.withCancellationToken ct\n",
    "        |> Async.catch\n",
    "        |> Async.runWithTimeoutAsync timeout\n",
    "        |> Async.StartChild\n",
    "\n",
    "    let fullPathUri = fullPath |> SpiralFileSystem.normalize_path |> SpiralFileSystem.new_file_uri\n",
    "\n",
    "    let fileOpenObj = {| FileOpen = {| uri = fullPathUri; spiText = code |} |}\n",
    "    let! _fileOpenResult = fileOpenObj |> sendObj serverPort\n",
    "\n",
    "    // do! Async.Sleep 60\n",
    "\n",
    "    let backendId =\n",
    "        match backend with\n",
    "        | Fsharp -> \"Fsharp\"\n",
    "        | Cuda -> \"Python + Cuda\"\n",
    "    let buildFileObj = {| BuildFile = {| uri = fullPathUri; backend = backendId |} |}\n",
    "    let! _buildFileResult = buildFileObj |> sendObj serverPort\n",
    "\n",
    "    let! result =\n",
    "        outputChild\n",
    "        |> Async.map (function\n",
    "            | Some (Ok (Some (outputCode, errors, _))) ->\n",
    "                outputCode, errors |> List.distinct |> List.rev\n",
    "            | Some (Error ex) ->\n",
    "                trace Critical (fun () -> $\"Supervisor.buildFile / error: {ex |> serializeObj}\") _locals\n",
    "                None, []\n",
    "            | _ -> None, []\n",
    "        )\n",
    "\n",
    "    if fileDir |> SpiralSm.starts_with (workspaceRoot </> \"target\") then\n",
    "        let fileDirUri = fileDir |> SpiralFileSystem.normalize_path |> SpiralFileSystem.new_file_uri\n",
    "        let fileDeleteObj = {| FileDelete = {| uris = [| fileDirUri |] |} |}\n",
    "        let! _fileDeleteResult = fileDeleteObj |> sendObj serverPort\n",
    "        ()\n",
    "\n",
    "    let outputPath = fileDir </> outputFileName\n",
    "    return outputPath, result\n",
    "}"
   ]
  },
  {
   "cell_type": "markdown",
   "metadata": {},
   "source": [
    "## persistCode"
   ]
  },
  {
   "cell_type": "code",
   "execution_count": null,
   "metadata": {
    "dotnet_interactive": {
     "language": "fsharp"
    },
    "polyglot_notebook": {
     "kernelName": "fsharp"
    }
   },
   "outputs": [],
   "source": [
    "let inline persistCode backend code = async {\n",
    "    let targetDir = workspaceRoot </> \"target/spiral_Eval\"\n",
    "\n",
    "    let packagesDir = targetDir </> \"packages\"\n",
    "\n",
    "    let hashHex = $\"{backend}{code}\" |> SpiralCrypto.hash_text\n",
    "\n",
    "    let codeDir = packagesDir </> hashHex\n",
    "\n",
    "    let spiPath = codeDir </> \"main.spi\"\n",
    "\n",
    "    codeDir |> System.IO.Directory.CreateDirectory |> ignore\n",
    "\n",
    "    do! code |> SpiralFileSystem.write_all_text_exists spiPath\n",
    "\n",
    "    let spiprojPath = codeDir </> \"package.spiproj\"\n",
    "    let spiprojCode =\n",
    "        $\"\"\"packageDir: {workspaceRoot </> \"lib\"}\n",
    "packages:\n",
    "    |core-\n",
    "    spiral-\n",
    "modules:\n",
    "    main\n",
    "\"\"\"\n",
    "    do! spiprojCode |> SpiralFileSystem.write_all_text_exists spiprojPath\n",
    "\n",
    "    match backend with\n",
    "    | None -> return spiPath, None\n",
    "    | Some backend ->\n",
    "        let outputFileName =\n",
    "            match backend with\n",
    "            | Fsharp -> $\"main.fsx\"\n",
    "            | Cuda -> $\"main.py\"\n",
    "        let outputPath = codeDir </> outputFileName\n",
    "\n",
    "        if outputPath |> System.IO.File.Exists |> not\n",
    "        then return spiPath, None\n",
    "        else\n",
    "            let! oldCode = spiPath |> SpiralFileSystem.read_all_text_async\n",
    "            if oldCode <> code\n",
    "            then return spiPath, None\n",
    "            else\n",
    "                let! outputCode = outputPath |> SpiralFileSystem.read_all_text_async\n",
    "                return spiPath, Some (outputPath, outputCode |> SpiralSm.replace \"\\r\\n\" \"\\n\")\n",
    "    }"
   ]
  },
  {
   "cell_type": "markdown",
   "metadata": {},
   "source": [
    "## buildCode"
   ]
  },
  {
   "cell_type": "code",
   "execution_count": null,
   "metadata": {
    "dotnet_interactive": {
     "language": "fsharp"
    },
    "polyglot_notebook": {
     "kernelName": "fsharp"
    }
   },
   "outputs": [],
   "source": [
    "let inline buildCode backend cache timeout cancellationToken code = async {\n",
    "    let! mainPath, outputCache = code |> persistCode (Some backend)\n",
    "    match outputCache with\n",
    "    | Some (outputPath, outputCode) when cache -> return mainPath, (outputPath, Some outputCode), []\n",
    "    | _ ->\n",
    "        let! outputPath, (outputCode, errors) = mainPath |> buildFile backend timeout None cancellationToken\n",
    "        return mainPath, (outputPath, outputCode), errors\n",
    "}"
   ]
  },
  {
   "cell_type": "code",
   "execution_count": null,
   "metadata": {
    "dotnet_interactive": {
     "language": "fsharp"
    },
    "polyglot_notebook": {
     "kernelName": "fsharp"
    }
   },
   "outputs": [],
   "source": [
    "//// test\n",
    "\n",
    "let buildCode cache timeout cancellationToken code = buildCode cache timeout cancellationToken code"
   ]
  },
  {
   "cell_type": "code",
   "execution_count": null,
   "metadata": {
    "dotnet_interactive": {
     "language": "fsharp"
    },
    "polyglot_notebook": {
     "kernelName": "fsharp"
    }
   },
   "outputs": [
    {
     "name": "stdout",
     "output_type": "stream",
     "text": [
      "00:00:17   debug #1 async.run_with_timeout_async / timeout: 500\n",
      "00:00:14   debug #1 runtime.execute_with_options_async / options: struct (Some System.Threading.CancellationToken,\n",
      "        \"dotnet \"C:\\home\\git\\polyglot\\deps\\The-Spiral-Language\\The Spiral Language 2\\artifacts\\bin\\The Spiral Language 2\\release\\Spiral.dll\" --port 13805 --default-int i32 --default-float f64\",\n",
      "        [||], Some <fun:buildCode@3-399>, None, true,\n",
      "        Some \"C:\\home\\git\\polyglot\")\n",
      "00:00:15 verbose #2 > 00:00:00   debug #1 pwd: C:\\home\\git\\polyglot\n",
      "00:00:15 verbose #3 > 00:00:00   debug #2 dllPath: C:\\home\\git\\polyglot\\deps\\The-Spiral-Language\\The Spiral Language 2\\artifacts\\bin\\The Spiral Language 2\\release\n",
      "00:00:15 verbose #4 > 00:00:00   debug #3 targetDir: C:\\home\\git\\polyglot\\target/polyglot/spiral_eval\n",
      "00:00:17   debug #2 async.run_with_timeout_async / timeout: 100\n",
      "00:00:17 verbose #3 networking.wait_for_port_access / port: 13805 / retry: 0 / timeout: Some 100 / status: True\n",
      "00:00:17   debug #4 async.run_with_timeout_async / timeout: 100\n",
      "00:00:15 verbose #5 > Starting the Spiral Server. It is bound to: http://localhost:13805\n",
      "00:00:18   debug #5 async.run_with_timeout_async / timeout: 100\n",
      "00:00:12 verbose #1 Supervisor.sendJson / port: 13805 / json: {\"Ping\":true} / result:\n",
      "00:00:12 verbose #2 awaitCompiler / Ping / result: 'Some(null)' / port: 13805 / retry: 0\n",
      "00:00:15 verbose #6 > Server bound to: http://localhost:13805\n",
      "00:00:12   debug #3 Supervisor.buildFile / takeWhileInclusive / path: C:\\home\\git\\polyglot\\target/spiral_Eval\\packages\\8c88433e7d69e9e1a9d4b28a930d3862015735981709156ba9a9a49d1474baaf\\main.spi / outputContent:  / errors: [] / typeErrorCount: 0\n",
      "00:00:12   debug #4 Supervisor.buildFile / takeWhileInclusive / path: C:\\home\\git\\polyglot\\target/spiral_Eval\\packages\\8c88433e7d69e9e1a9d4b28a930d3862015735981709156ba9a9a49d1474baaf\\main.spi / outputContent:  / errors: [] / typeErrorCount: 0\n",
      "00:00:12 verbose #5 Supervisor.sendJson / port: 13805 / json: {\"FileOpen\":{\"spiText\":\"inl app () =\\n    console.write_line \\u0022text\\u0022\\n    1i32\\n\\ninl main ...et/spiral_Eval/packages/8c88433e7d69e9e1a9d4b28a930d3862015735981709156ba9a9a49d1474baaf/main.spi\"}} / result:\n",
      "00:00:12 verbose #6 Supervisor.sendJson / port: 13805 / json: {\"BuildFile\":{\"backend\":\"Fsharp\",\"uri\":\"file:///c:/home/git/polyglot/target/spiral_Eval/packages/8c88433e7d69e9e1a9d4b28a930d3862015735981709156ba9a9a49d1474baaf/main.spi\"}} / result:\n",
      "00:00:16 verbose #7 > 00:00:01   debug #4 Supervisor.supervisor_server.BuildFile / file: c:/home/git/polyglot/target/spiral_Eval/packages/8c88433e7d69e9e1a9d4b28a930d3862015735981709156ba9a9a49d1474baaf/main.spi\n",
      "00:00:13   debug #7 Supervisor.buildFile / takeWhileInclusive / path: C:\\home\\git\\polyglot\\target/spiral_Eval\\packages\\8c88433e7d69e9e1a9d4b28a930d3862015735981709156ba9a9a49d1474baaf\\main.spi / outputContent:  / errors: [] / typeErrorCount: 0\n",
      "00:00:14   debug #8 Supervisor.buildFile / takeWhileInclusive / path: C:\\home\\git\\polyglot\\target/spiral_Eval\\packages\\8c88433e7d69e9e1a9d4b28a930d3862015735981709156ba9a9a49d1474baaf\\main.spi / outputContent:  / errors: [] / typeErrorCount: 0\n",
      "00:00:15   debug #9 Supervisor.buildFile / takeWhileInclusive / path: C:\\home\\git\\polyglot\\target/spiral_Eval\\packages\\8c88433e7d69e9e1a9d4b28a930d3862015735981709156ba9a9a49d1474baaf\\main.spi / outputContent: let rec closure0 () () : int32 =\n",
      "    let v0 : (string -> unit) = System.Console.WriteLine\n",
      "    let v1 : string = \"text\"\n",
      "    v0 v1\n",
      "    1\n",
      "let v0 : (unit -> int32) = closure0()\n",
      "()\n",
      " / errors: [] / typeErrorCount: 0\n",
      "00:00:15 verbose #10 Supervisor.sendJson / port: 13805 / json: {\"FileDelete\":{\"uris\":[\"file:///c:/home/git/polyglot/target/spiral_Eval/packages/8c88433e7d69e9e1a9d4b28a930d3862015735981709156ba9a9a49d1474baaf\"]}} / result:\n",
      "00:00:21 verbose #6 networking.wait_for_port_access / port: 13805 / retry: 0 / timeout: Some 100 / status: False\n",
      "00:00:21   debug #7 async.run_with_timeout_async / timeout: 100\n",
      "00:00:15   debug #11 FileSystem.watchWithFilter / Disposing watch stream / filter: FileName, LastWrite\n",
      "Some\n",
      "  (Some\n",
      "     \"let rec closure0 () () : int32 =\n",
      "    let v0 : (string -> unit) = System.Console.WriteLine\n",
      "    let v1 : string = \"text\"\n",
      "    v0 v1\n",
      "    1\n",
      "let v0 : (unit -> int32) = closure0()\n",
      "()\n",
      "\",\n",
      "   [])\n",
      "\n"
     ]
    }
   ],
   "source": [
    "//// test\n",
    "\n",
    "\"\"\"inl app () =\n",
    "    console.write_line \"text\"\n",
    "    1i32\n",
    "\n",
    "inl main () =\n",
    "    app\n",
    "    |> dyn\n",
    "    |> ignore\n",
    "\"\"\"\n",
    "|> buildCode Fsharp false 15000 None\n",
    "|> Async.runWithTimeout 15000\n",
    "|> Option.map (fun (_, (_, outputContent), errors) -> outputContent, errors |> List.map fst)\n",
    "|> _assertEqual (\n",
    "    Some (\n",
    "        Some \"\"\"let rec closure0 () () : int32 =\n",
    "    let v0 : (string -> unit) = System.Console.WriteLine\n",
    "    let v1 : string = \"text\"\n",
    "    v0 v1\n",
    "    1\n",
    "let v0 : (unit -> int32) = closure0()\n",
    "()\n",
    "\"\"\",\n",
    "        []\n",
    "    )\n",
    ")"
   ]
  },
  {
   "cell_type": "code",
   "execution_count": null,
   "metadata": {
    "dotnet_interactive": {
     "language": "fsharp"
    },
    "polyglot_notebook": {
     "kernelName": "fsharp"
    }
   },
   "outputs": [
    {
     "name": "stdout",
     "output_type": "stream",
     "text": [
      "00:00:22   debug #8 async.run_with_timeout_async / timeout: 500\n",
      "00:00:19   debug #8 runtime.execute_with_options_async / options: struct (Some System.Threading.CancellationToken,\n",
      "        \"dotnet \"C:\\home\\git\\polyglot\\deps\\The-Spiral-Language\\The Spiral Language 2\\artifacts\\bin\\The Spiral Language 2\\release\\Spiral.dll\" --port 13805 --default-int i32 --default-float f64\",\n",
      "        [||], Some <fun:buildCode@3-399>, None, true,\n",
      "        Some \"C:\\home\\git\\polyglot\")\n",
      "00:00:20 verbose #9 > 00:00:00   debug #1 pwd: C:\\home\\git\\polyglot\n",
      "00:00:20 verbose #10 > 00:00:00   debug #2 dllPath: C:\\home\\git\\polyglot\\deps\\The-Spiral-Language\\The Spiral Language 2\\artifacts\\bin\\The Spiral Language 2\\release\n",
      "00:00:20 verbose #11 > 00:00:00   debug #3 targetDir: C:\\home\\git\\polyglot\\target/polyglot/spiral_eval\n",
      "00:00:22   debug #9 async.run_with_timeout_async / timeout: 100\n",
      "00:00:22 verbose #10 networking.wait_for_port_access / port: 13805 / retry: 0 / timeout: Some 100 / status: True\n",
      "00:00:23   debug #11 async.run_with_timeout_async / timeout: 100\n",
      "00:00:23   debug #12 async.run_with_timeout_async / timeout: 100\n",
      "00:00:20 verbose #12 > Starting the Spiral Server. It is bound to: http://localhost:13805\n",
      "00:00:23   debug #13 async.run_with_timeout_async / timeout: 100\n",
      "00:00:17 verbose #12 Supervisor.sendJson / port: 13805 / json: {\"Ping\":true} / result:\n",
      "00:00:17 verbose #13 awaitCompiler / Ping / result: 'Some(null)' / port: 13805 / retry: 0\n",
      "00:00:21 verbose #13 > Server bound to: http://localhost:13805\n",
      "00:00:17   debug #14 Supervisor.buildFile / takeWhileInclusive / path: C:\\home\\git\\polyglot\\target/spiral_Eval\\packages\\9c831865c266ad2da284d289670a5c0190122ff42cafbbc1826cd6e1d207b0d4\\main.spi / outputContent:  / errors: [] / typeErrorCount: 0\n",
      "00:00:17   debug #15 Supervisor.buildFile / takeWhileInclusive / path: C:\\home\\git\\polyglot\\target/spiral_Eval\\packages\\9c831865c266ad2da284d289670a5c0190122ff42cafbbc1826cd6e1d207b0d4\\main.spi / outputContent:  / errors: [] / typeErrorCount: 0\n",
      "00:00:17 verbose #16 Supervisor.sendJson / port: 13805 / json: {\"FileOpen\":{\"spiText\":\"\",\"uri\":\"file:///c:/home/git/polyglot/target/spiral_Eval/packages/9c831865c266ad2da284d289670a5c0190122ff42cafbbc1826cd6e1d207b0d4/main.spi\"}} / result:\n",
      "00:00:17 verbose #17 Supervisor.sendJson / port: 13805 / json: {\"BuildFile\":{\"backend\":\"Fsharp\",\"uri\":\"file:///c:/home/git/polyglot/target/spiral_Eval/packages/9c831865c266ad2da284d289670a5c0190122ff42cafbbc1826cd6e1d207b0d4/main.spi\"}} / result:\n",
      "00:00:21 verbose #14 > 00:00:01   debug #4 Supervisor.supervisor_server.BuildFile / file: c:/home/git/polyglot/target/spiral_Eval/packages/9c831865c266ad2da284d289670a5c0190122ff42cafbbc1826cd6e1d207b0d4/main.spi\n",
      "00:00:18   debug #18 Supervisor.buildFile / takeWhileInclusive / path: C:\\home\\git\\polyglot\\target/spiral_Eval\\packages\\9c831865c266ad2da284d289670a5c0190122ff42cafbbc1826cd6e1d207b0d4\\main.spi / outputContent:  / errors: [] / typeErrorCount: 0\n",
      "00:00:19   debug #19 Supervisor.buildFile / takeWhileInclusive / path: C:\\home\\git\\polyglot\\target/spiral_Eval\\packages\\9c831865c266ad2da284d289670a5c0190122ff42cafbbc1826cd6e1d207b0d4\\main.spi / outputContent:  / errors: [] / typeErrorCount: 0\n",
      "00:00:23 verbose #15 > Cannot find `main` in file main.\n",
      "00:00:23 verbose #16 > 00:00:03   debug #5 Supervisor.supervisor_server.BuildFile.handle_build_result.BuildSkip / file: c:/home/git/polyglot/target/spiral_Eval/packages/9c831865c266ad2da284d289670a5c0190122ff42cafbbc1826cd6e1d207b0d4/main.spi\n",
      "00:00:20   debug #20 Supervisor.buildFile / takeWhileInclusive / path: C:\\home\\git\\polyglot\\target/spiral_Eval\\packages\\9c831865c266ad2da284d289670a5c0190122ff42cafbbc1826cd6e1d207b0d4\\main.spi / outputContent:  / errors: [] / typeErrorCount: 0\n",
      "00:00:21   debug #21 Supervisor.buildFile / takeWhileInclusive / path: C:\\home\\git\\polyglot\\target/spiral_Eval\\packages\\9c831865c266ad2da284d289670a5c0190122ff42cafbbc1826cd6e1d207b0d4\\main.spi / outputContent:  / errors: [] / typeErrorCount: 0\n",
      "00:00:22   debug #22 Supervisor.buildFile / takeWhileInclusive / path: C:\\home\\git\\polyglot\\target/spiral_Eval\\packages\\9c831865c266ad2da284d289670a5c0190122ff42cafbbc1826cd6e1d207b0d4\\main.spi / outputContent:  / errors: [] / typeErrorCount: 0\n",
      "00:00:23   debug #23 Supervisor.buildFile / takeWhileInclusive / path: C:\\home\\git\\polyglot\\target/spiral_Eval\\packages\\9c831865c266ad2da284d289670a5c0190122ff42cafbbc1826cd6e1d207b0d4\\main.spi / outputContent:  / errors: [] / typeErrorCount: 0\n",
      "00:00:24   debug #24 Supervisor.buildFile / takeWhileInclusive / path: C:\\home\\git\\polyglot\\target/spiral_Eval\\packages\\9c831865c266ad2da284d289670a5c0190122ff42cafbbc1826cd6e1d207b0d4\\main.spi / outputContent:  / errors: [] / typeErrorCount: 0\n",
      "00:00:25   debug #25 Supervisor.buildFile / takeWhileInclusive / path: C:\\home\\git\\polyglot\\target/spiral_Eval\\packages\\9c831865c266ad2da284d289670a5c0190122ff42cafbbc1826cd6e1d207b0d4\\main.spi / outputContent:  / errors: [] / typeErrorCount: 0\n",
      "00:00:31 verbose #14 networking.wait_for_port_access / port: 13805 / retry: 0 / timeout: Some 100 / status: False\n",
      "00:00:32   debug #15 async.run_with_timeout_async / timeout: 100\n",
      "00:00:26   debug #26 FileSystem.watchWithFilter / Disposing watch stream / filter: FileName, LastWrite\n",
      "00:00:26   debug #27 runWithTimeoutAsync / timeout: 10000\n",
      "<null>\n",
      "\n"
     ]
    }
   ],
   "source": [
    "//// test\n",
    "\n",
    "\"\"\n",
    "|> buildCode Fsharp false 10000 None\n",
    "|> Async.runWithTimeout 10000\n",
    "|> _assertEqual None"
   ]
  },
  {
   "cell_type": "code",
   "execution_count": null,
   "metadata": {
    "dotnet_interactive": {
     "language": "fsharp"
    },
    "polyglot_notebook": {
     "kernelName": "fsharp"
    }
   },
   "outputs": [
    {
     "name": "stdout",
     "output_type": "stream",
     "text": [
      "00:00:32   debug #16 async.run_with_timeout_async / timeout: 500\n",
      "00:00:30   debug #17 runtime.execute_with_options_async / options: struct (Some System.Threading.CancellationToken,\n",
      "        \"dotnet \"C:\\home\\git\\polyglot\\deps\\The-Spiral-Language\\The Spiral Language 2\\artifacts\\bin\\The Spiral Language 2\\release\\Spiral.dll\" --port 13805 --default-int i32 --default-float f64\",\n",
      "        [||], Some <fun:buildCode@3-399>, None, true,\n",
      "        Some \"C:\\home\\git\\polyglot\")\n",
      "00:00:30 verbose #18 > 00:00:00   debug #1 pwd: C:\\home\\git\\polyglot\n",
      "00:00:30 verbose #19 > 00:00:00   debug #2 dllPath: C:\\home\\git\\polyglot\\deps\\The-Spiral-Language\\The Spiral Language 2\\artifacts\\bin\\The Spiral Language 2\\release\n",
      "00:00:30 verbose #20 > 00:00:00   debug #3 targetDir: C:\\home\\git\\polyglot\\target/polyglot/spiral_eval\n",
      "00:00:33   debug #17 async.run_with_timeout_async / timeout: 100\n",
      "00:00:33 verbose #18 networking.wait_for_port_access / port: 13805 / retry: 0 / timeout: Some 100 / status: True\n",
      "00:00:33   debug #19 async.run_with_timeout_async / timeout: 100\n",
      "00:00:30 verbose #21 > Starting the Spiral Server. It is bound to: http://localhost:13805\n",
      "00:00:33   debug #20 async.run_with_timeout_async / timeout: 100\n",
      "00:00:27 verbose #28 Supervisor.sendJson / port: 13805 / json: {\"Ping\":true} / result:\n",
      "00:00:27 verbose #29 awaitCompiler / Ping / result: 'Some(null)' / port: 13805 / retry: 0\n",
      "00:00:31 verbose #22 > Server bound to: http://localhost:13805\n",
      "00:00:27   debug #30 Supervisor.buildFile / takeWhileInclusive / path: C:\\home\\git\\polyglot\\target/spiral_Eval\\packages\\ee0a78d78a0479a47d81f2adf12ca62c75c5c178ab311d98939cbb8c72ded046\\main.spi / outputContent:  / errors: [] / typeErrorCount: 0\n",
      "00:00:27   debug #31 Supervisor.buildFile / takeWhileInclusive / path: C:\\home\\git\\polyglot\\target/spiral_Eval\\packages\\ee0a78d78a0479a47d81f2adf12ca62c75c5c178ab311d98939cbb8c72ded046\\main.spi / outputContent:  / errors: [] / typeErrorCount: 0\n",
      "00:00:27 verbose #32 Supervisor.sendJson / port: 13805 / json: {\"FileOpen\":{\"spiText\":\"inl main () =\\n    1i32 / 0i32\\n\",\"uri\":\"file:///c:/home/git/polyglot/target/spiral_Eval/packages/ee0a78d78a0479a47d81f2adf12ca62c75c5c178ab311d98939cbb8c72ded046/main.spi\"}} / result:\n",
      "00:00:27 verbose #33 Supervisor.sendJson / port: 13805 / json: {\"BuildFile\":{\"backend\":\"Fsharp\",\"uri\":\"file:///c:/home/git/polyglot/target/spiral_Eval/packages/ee0a78d78a0479a47d81f2adf12ca62c75c5c178ab311d98939cbb8c72ded046/main.spi\"}} / result:\n",
      "00:00:31 verbose #23 > 00:00:01   debug #4 Supervisor.supervisor_server.BuildFile / file: c:/home/git/polyglot/target/spiral_Eval/packages/ee0a78d78a0479a47d81f2adf12ca62c75c5c178ab311d98939cbb8c72ded046/main.spi\n",
      "00:00:28   debug #34 Supervisor.buildFile / takeWhileInclusive / path: C:\\home\\git\\polyglot\\target/spiral_Eval\\packages\\ee0a78d78a0479a47d81f2adf12ca62c75c5c178ab311d98939cbb8c72ded046\\main.spi / outputContent:  / errors: [] / typeErrorCount: 0\n",
      "00:00:29   debug #35 Supervisor.buildFile / takeWhileInclusive / path: C:\\home\\git\\polyglot\\target/spiral_Eval\\packages\\ee0a78d78a0479a47d81f2adf12ca62c75c5c178ab311d98939cbb8c72ded046\\main.spi / outputContent:  / errors: [] / typeErrorCount: 0\n",
      "00:00:30   debug #36 Supervisor.buildFile / takeWhileInclusive / path: C:\\home\\git\\polyglot\\target/spiral_Eval\\packages\\ee0a78d78a0479a47d81f2adf12ca62c75c5c178ab311d98939cbb8c72ded046\\main.spi / outputContent:  / errors: [\n",
      "  [\n",
      "    \"An attempt to divide by zero has been detected at compile time.\",\n",
      "    {\n",
      "      \"TracedError\": {\n",
      "        \"message\": \"An attempt to divide by zero has been detected at compile time.\",\n",
      "        \"trace\": [\n",
      "          \"Error trace on line: 1, column: 10 in module: c:/home/git/polyglot/target/spiral_Eval/packages/ee0a78d78a0479a47d81f2adf12ca62c75c5c178ab311d98939cbb8c72ded046/main.spi.\n",
      "inl main () =\n",
      "         ^\n",
      "\",\n",
      "          \"Error trace on line: 2, column: 5 in module: c:/home/git/polyglot/target/spiral_Eval/packages/ee0a78d78a0479a47d81f2adf12ca62c75c5c178ab311d98939cbb8c72ded046/main.spi.\n",
      "    1i32 / 0i32\n",
      "    ^\n",
      "\"\n",
      "        ]\n",
      "      }\n",
      "    }\n",
      "  ]\n",
      "] / typeErrorCount: 0\n",
      "00:00:30 verbose #37 Supervisor.sendJson / port: 13805 / json: {\"FileDelete\":{\"uris\":[\"file:///c:/home/git/polyglot/target/spiral_Eval/packages/ee0a78d78a0479a47d81f2adf12ca62c75c5c178ab311d98939cbb8c72ded046\"]}} / result:\n",
      "00:00:36 verbose #21 networking.wait_for_port_access / port: 13805 / retry: 0 / timeout: Some 100 / status: False\n",
      "00:00:36   debug #22 async.run_with_timeout_async / timeout: 100\n",
      "00:00:30   debug #38 FileSystem.watchWithFilter / Disposing watch stream / filter: FileName, LastWrite\n",
      "Some (None, [\"An attempt to divide by zero has been detected at compile time.\"])\n",
      "\n"
     ]
    }
   ],
   "source": [
    "//// test\n",
    "\n",
    "\"\"\"inl main () =\n",
    "    1i32 / 0i32\n",
    "\"\"\"\n",
    "|> buildCode Fsharp false 10000 None\n",
    "|> Async.runWithTimeout 10000\n",
    "|> Option.map (fun (_, (_, outputContent), errors) -> outputContent, errors |> List.map fst)\n",
    "|> _assertEqual (\n",
    "    Some (\n",
    "        None,\n",
    "        [ \"An attempt to divide by zero has been detected at compile time.\" ]\n",
    "    )\n",
    ")"
   ]
  },
  {
   "cell_type": "code",
   "execution_count": null,
   "metadata": {
    "dotnet_interactive": {
     "language": "fsharp"
    },
    "polyglot_notebook": {
     "kernelName": "fsharp"
    }
   },
   "outputs": [
    {
     "name": "stdout",
     "output_type": "stream",
     "text": [
      "00:00:36   debug #23 async.run_with_timeout_async / timeout: 500\n",
      "00:00:34   debug #24 runtime.execute_with_options_async / options: struct (Some System.Threading.CancellationToken,\n",
      "        \"dotnet \"C:\\home\\git\\polyglot\\deps\\The-Spiral-Language\\The Spiral Language 2\\artifacts\\bin\\The Spiral Language 2\\release\\Spiral.dll\" --port 13805 --default-int i32 --default-float f64\",\n",
      "        [||], Some <fun:buildCode@3-399>, None, true,\n",
      "        Some \"C:\\home\\git\\polyglot\")\n",
      "00:00:34 verbose #25 > 00:00:00   debug #1 pwd: C:\\home\\git\\polyglot\n",
      "00:00:34 verbose #26 > 00:00:00   debug #2 dllPath: C:\\home\\git\\polyglot\\deps\\The-Spiral-Language\\The Spiral Language 2\\artifacts\\bin\\The Spiral Language 2\\release\n",
      "00:00:34 verbose #27 > 00:00:00   debug #3 targetDir: C:\\home\\git\\polyglot\\target/polyglot/spiral_eval\n",
      "00:00:37   debug #24 async.run_with_timeout_async / timeout: 100\n",
      "00:00:37 verbose #25 networking.wait_for_port_access / port: 13805 / retry: 0 / timeout: Some 100 / status: True\n",
      "00:00:37   debug #26 async.run_with_timeout_async / timeout: 100\n",
      "00:00:35 verbose #28 > Starting the Spiral Server. It is bound to: http://localhost:13805\n",
      "00:00:37   debug #27 async.run_with_timeout_async / timeout: 100\n",
      "00:00:31 verbose #39 Supervisor.sendJson / port: 13805 / json: {\"Ping\":true} / result:\n",
      "00:00:31 verbose #40 awaitCompiler / Ping / result: 'Some(null)' / port: 13805 / retry: 0\n",
      "00:00:35 verbose #29 > Server bound to: http://localhost:13805\n",
      "00:00:31   debug #41 Supervisor.buildFile / takeWhileInclusive / path: C:\\home\\git\\polyglot\\target/spiral_Eval\\packages\\76b13cc01bea41edca2abb2018ecb52338691709add5c127990c271c0479c00b\\main.spi / outputContent:  / errors: [] / typeErrorCount: 0\n",
      "00:00:31   debug #42 Supervisor.buildFile / takeWhileInclusive / path: C:\\home\\git\\polyglot\\target/spiral_Eval\\packages\\76b13cc01bea41edca2abb2018ecb52338691709add5c127990c271c0479c00b\\main.spi / outputContent:  / errors: [] / typeErrorCount: 0\n",
      "00:00:31 verbose #43 Supervisor.sendJson / port: 13805 / json: {\"FileOpen\":{\"spiText\":\"inl main () =\\n    1 \\u002B \\u0022\\u0022\\n\",\"uri\":\"file:///c:/home/git/polyg...et/spiral_Eval/packages/76b13cc01bea41edca2abb2018ecb52338691709add5c127990c271c0479c00b/main.spi\"}} / result:\n",
      "00:00:31 verbose #44 Supervisor.sendJson / port: 13805 / json: {\"BuildFile\":{\"backend\":\"Fsharp\",\"uri\":\"file:///c:/home/git/polyglot/target/spiral_Eval/packages/76b13cc01bea41edca2abb2018ecb52338691709add5c127990c271c0479c00b/main.spi\"}} / result:\n",
      "00:00:35 verbose #30 > 00:00:01   debug #4 Supervisor.supervisor_server.BuildFile / file: c:/home/git/polyglot/target/spiral_Eval/packages/76b13cc01bea41edca2abb2018ecb52338691709add5c127990c271c0479c00b/main.spi\n",
      "00:00:32   debug #45 Supervisor.buildFile / takeWhileInclusive / path: C:\\home\\git\\polyglot\\target/spiral_Eval\\packages\\76b13cc01bea41edca2abb2018ecb52338691709add5c127990c271c0479c00b\\main.spi / outputContent:  / errors: [] / typeErrorCount: 0\n",
      "00:00:33   debug #46 Supervisor.buildFile / takeWhileInclusive / path: C:\\home\\git\\polyglot\\target/spiral_Eval\\packages\\76b13cc01bea41edca2abb2018ecb52338691709add5c127990c271c0479c00b\\main.spi / outputContent:  / errors: [] / typeErrorCount: 0\n",
      "00:00:34   debug #47 Supervisor.buildFile / takeWhileInclusive / path: C:\\home\\git\\polyglot\\target/spiral_Eval\\packages\\76b13cc01bea41edca2abb2018ecb52338691709add5c127990c271c0479c00b\\main.spi / outputContent:  / errors: [] / typeErrorCount: 1\n",
      "00:00:34   debug #48 Supervisor.buildFile / takeWhileInclusive / path: C:\\home\\git\\polyglot\\target/spiral_Eval\\packages\\76b13cc01bea41edca2abb2018ecb52338691709add5c127990c271c0479c00b\\main.spi / outputContent:  / errors: [\n",
      "  [\n",
      "    \"main.spi:\n",
      "Constraint satisfaction error.\n",
      "Got: string\n",
      "Fails to satisfy: number\",\n",
      "    {\n",
      "      \"TypeErrors\": {\n",
      "        \"errors\": [\n",
      "          [\n",
      "            [\n",
      "              {\n",
      "                \"character\": 8,\n",
      "                \"line\": 1\n",
      "              },\n",
      "              {\n",
      "                \"character\": 10,\n",
      "                \"line\": 1\n",
      "              }\n",
      "            ],\n",
      "            \"Constraint satisfaction error.\n",
      "Got: string\n",
      "Fails to satisfy: number\"\n",
      "          ]\n",
      "        ],\n",
      "        \"uri\": \"file:///c:/home/git/polyglot/target/spiral_Eval/packages/76b13cc01bea41edca2abb2018ecb52338691709add5c127990c271c0479c00b/main.spi\"\n",
      "      }\n",
      "    }\n",
      "  ]\n",
      "] / typeErrorCount: 1\n",
      "00:00:34 verbose #49 Supervisor.sendJson / port: 13805 / json: {\"FileDelete\":{\"uris\":[\"file:///c:/home/git/polyglot/target/spiral_Eval/packages/76b13cc01bea41edca2abb2018ecb52338691709add5c127990c271c0479c00b\"]}} / result:\n",
      "00:00:40 verbose #28 networking.wait_for_port_access / port: 13805 / retry: 0 / timeout: Some 100 / status: False\n",
      "00:00:40   debug #29 async.run_with_timeout_async / timeout: 100\n",
      "00:00:34   debug #50 FileSystem.watchWithFilter / Disposing watch stream / filter: FileName, LastWrite\n",
      "Some (None, [\"main.spi:\n",
      "Constraint satisfaction error.\n",
      "Got: string\n",
      "Fails to satisfy: number\"])\n",
      "\n"
     ]
    }
   ],
   "source": [
    "//// test\n",
    "\n",
    "\"\"\"inl main () =\n",
    "    1 + \"\"\n",
    "\"\"\"\n",
    "|> buildCode Fsharp false 10000 None\n",
    "|> Async.runWithTimeout 10000\n",
    "|> Option.map (fun (_, (_, outputContent), errors) -> outputContent, errors |> List.map fst)\n",
    "|> _assertEqual (\n",
    "    Some (\n",
    "        None,\n",
    "        [\n",
    "            \"main.spi:\n",
    "Constraint satisfaction error.\n",
    "Got: string\n",
    "Fails to satisfy: number\"\n",
    "        ]\n",
    "    )\n",
    ")"
   ]
  },
  {
   "cell_type": "code",
   "execution_count": null,
   "metadata": {
    "dotnet_interactive": {
     "language": "fsharp"
    },
    "polyglot_notebook": {
     "kernelName": "fsharp"
    }
   },
   "outputs": [
    {
     "name": "stdout",
     "output_type": "stream",
     "text": [
      "00:00:40   debug #30 async.run_with_timeout_async / timeout: 500\n",
      "00:00:38   debug #31 runtime.execute_with_options_async / options: struct (Some System.Threading.CancellationToken,\n",
      "        \"dotnet \"C:\\home\\git\\polyglot\\deps\\The-Spiral-Language\\The Spiral Language 2\\artifacts\\bin\\The Spiral Language 2\\release\\Spiral.dll\" --port 13805 --default-int i32 --default-float f64\",\n",
      "        [||], Some <fun:buildCode@3-399>, None, true,\n",
      "        Some \"C:\\home\\git\\polyglot\")\n",
      "00:00:38 verbose #32 > 00:00:00   debug #1 pwd: C:\\home\\git\\polyglot\n",
      "00:00:38 verbose #33 > 00:00:00   debug #2 dllPath: C:\\home\\git\\polyglot\\deps\\The-Spiral-Language\\The Spiral Language 2\\artifacts\\bin\\The Spiral Language 2\\release\n",
      "00:00:38 verbose #34 > 00:00:00   debug #3 targetDir: C:\\home\\git\\polyglot\\target/polyglot/spiral_eval\n",
      "00:00:41   debug #31 async.run_with_timeout_async / timeout: 100\n",
      "00:00:41 verbose #32 networking.wait_for_port_access / port: 13805 / retry: 0 / timeout: Some 100 / status: True\n",
      "00:00:41   debug #33 async.run_with_timeout_async / timeout: 100\n",
      "00:00:38 verbose #35 > Starting the Spiral Server. It is bound to: http://localhost:13805\n",
      "00:00:41   debug #34 async.run_with_timeout_async / timeout: 100\n",
      "00:00:35 verbose #51 Supervisor.sendJson / port: 13805 / json: {\"Ping\":true} / result:\n",
      "00:00:35 verbose #52 awaitCompiler / Ping / result: 'Some(null)' / port: 13805 / retry: 0\n",
      "00:00:39 verbose #36 > Server bound to: http://localhost:13805\n",
      "00:00:35   debug #53 Supervisor.buildFile / takeWhileInclusive / path: C:\\home\\git\\polyglot\\target/spiral_Eval\\packages\\cfa3b536fb46879d63cb523d8a44192250a24ea6686659f958914728b1fe1ef4\\main.spi / outputContent:  / errors: [] / typeErrorCount: 0\n",
      "00:00:35   debug #54 Supervisor.buildFile / takeWhileInclusive / path: C:\\home\\git\\polyglot\\target/spiral_Eval\\packages\\cfa3b536fb46879d63cb523d8a44192250a24ea6686659f958914728b1fe1ef4\\main.spi / outputContent:  / errors: [] / typeErrorCount: 0\n",
      "00:00:35 verbose #55 Supervisor.sendJson / port: 13805 / json: {\"FileOpen\":{\"spiText\":\"inl main () =\\n    x \\u002B y\\n\",\"uri\":\"file:///c:/home/git/polyglot/target/spiral_Eval/packages/cfa3b536fb46879d63cb523d8a44192250a24ea6686659f958914728b1fe1ef4/main.spi\"}} / result:\n",
      "00:00:35 verbose #56 Supervisor.sendJson / port: 13805 / json: {\"BuildFile\":{\"backend\":\"Fsharp\",\"uri\":\"file:///c:/home/git/polyglot/target/spiral_Eval/packages/cfa3b536fb46879d63cb523d8a44192250a24ea6686659f958914728b1fe1ef4/main.spi\"}} / result:\n",
      "00:00:39 verbose #37 > 00:00:01   debug #4 Supervisor.supervisor_server.BuildFile / file: c:/home/git/polyglot/target/spiral_Eval/packages/cfa3b536fb46879d63cb523d8a44192250a24ea6686659f958914728b1fe1ef4/main.spi\n",
      "00:00:36   debug #57 Supervisor.buildFile / takeWhileInclusive / path: C:\\home\\git\\polyglot\\target/spiral_Eval\\packages\\cfa3b536fb46879d63cb523d8a44192250a24ea6686659f958914728b1fe1ef4\\main.spi / outputContent:  / errors: [] / typeErrorCount: 0\n",
      "00:00:37   debug #58 Supervisor.buildFile / takeWhileInclusive / path: C:\\home\\git\\polyglot\\target/spiral_Eval\\packages\\cfa3b536fb46879d63cb523d8a44192250a24ea6686659f958914728b1fe1ef4\\main.spi / outputContent:  / errors: [] / typeErrorCount: 0\n",
      "00:00:37   debug #59 Supervisor.buildFile / takeWhileInclusive / path: C:\\home\\git\\polyglot\\target/spiral_Eval\\packages\\cfa3b536fb46879d63cb523d8a44192250a24ea6686659f958914728b1fe1ef4\\main.spi / outputContent:  / errors: [] / typeErrorCount: 1\n",
      "00:00:37   debug #60 Supervisor.buildFile / takeWhileInclusive / path: C:\\home\\git\\polyglot\\target/spiral_Eval\\packages\\cfa3b536fb46879d63cb523d8a44192250a24ea6686659f958914728b1fe1ef4\\main.spi / outputContent:  / errors: [\n",
      "  [\n",
      "    \"main.spi:\n",
      "Unbound variable: x.\n",
      "Unbound variable: y.\",\n",
      "    {\n",
      "      \"TypeErrors\": {\n",
      "        \"errors\": [\n",
      "          [\n",
      "            [\n",
      "              {\n",
      "                \"character\": 4,\n",
      "                \"line\": 1\n",
      "              },\n",
      "              {\n",
      "                \"character\": 5,\n",
      "                \"line\": 1\n",
      "              }\n",
      "            ],\n",
      "            \"Unbound variable: x.\"\n",
      "          ],\n",
      "          [\n",
      "            [\n",
      "              {\n",
      "                \"character\": 8,\n",
      "                \"line\": 1\n",
      "              },\n",
      "              {\n",
      "                \"character\": 9,\n",
      "                \"line\": 1\n",
      "              }\n",
      "            ],\n",
      "            \"Unbound variable: y.\"\n",
      "          ]\n",
      "        ],\n",
      "        \"uri\": \"file:///c:/home/git/polyglot/target/spiral_Eval/packages/cfa3b536fb46879d63cb523d8a44192250a24ea6686659f958914728b1fe1ef4/main.spi\"\n",
      "      }\n",
      "    }\n",
      "  ]\n",
      "] / typeErrorCount: 1\n",
      "00:00:37 verbose #61 Supervisor.sendJson / port: 13805 / json: {\"FileDelete\":{\"uris\":[\"file:///c:/home/git/polyglot/target/spiral_Eval/packages/cfa3b536fb46879d63cb523d8a44192250a24ea6686659f958914728b1fe1ef4\"]}} / result:\n",
      "00:00:43 verbose #35 networking.wait_for_port_access / port: 13805 / retry: 0 / timeout: Some 100 / status: False\n",
      "00:00:43   debug #36 async.run_with_timeout_async / timeout: 100\n",
      "00:00:37   debug #62 FileSystem.watchWithFilter / Disposing watch stream / filter: FileName, LastWrite\n",
      "Some (None, [\"main.spi:\n",
      "Unbound variable: x.\n",
      "Unbound variable: y.\"])\n",
      "\n"
     ]
    }
   ],
   "source": [
    "//// test\n",
    "\n",
    "\"\"\"inl main () =\n",
    "    x + y\n",
    "\"\"\"\n",
    "|> buildCode Fsharp false 10000 None\n",
    "|> Async.runWithTimeout 10000\n",
    "|> Option.map (fun (_, (_, outputContent), errors) -> outputContent, errors |> List.map fst)\n",
    "|> _assertEqual (\n",
    "    Some (\n",
    "        None,\n",
    "        [\n",
    "            \"main.spi:\n",
    "Unbound variable: x.\n",
    "Unbound variable: y.\"\n",
    "        ]\n",
    "    )\n",
    ")"
   ]
  },
  {
   "cell_type": "code",
   "execution_count": null,
   "metadata": {
    "dotnet_interactive": {
     "language": "fsharp"
    },
    "polyglot_notebook": {
     "kernelName": "fsharp"
    }
   },
   "outputs": [
    {
     "name": "stdout",
     "output_type": "stream",
     "text": [
      "00:00:44   debug #37 async.run_with_timeout_async / timeout: 500\n",
      "00:00:42   debug #38 runtime.execute_with_options_async / options: struct (Some System.Threading.CancellationToken,\n",
      "        \"dotnet \"C:\\home\\git\\polyglot\\deps\\The-Spiral-Language\\The Spiral Language 2\\artifacts\\bin\\The Spiral Language 2\\release\\Spiral.dll\" --port 13805 --default-int i32 --default-float f64\",\n",
      "        [||], Some <fun:buildCode@3-399>, None, true,\n",
      "        Some \"C:\\home\\git\\polyglot\")\n",
      "00:00:42 verbose #39 > 00:00:00   debug #1 pwd: C:\\home\\git\\polyglot\n",
      "00:00:42 verbose #40 > 00:00:00   debug #2 dllPath: C:\\home\\git\\polyglot\\deps\\The-Spiral-Language\\The Spiral Language 2\\artifacts\\bin\\The Spiral Language 2\\release\n",
      "00:00:42 verbose #41 > 00:00:00   debug #3 targetDir: C:\\home\\git\\polyglot\\target/polyglot/spiral_eval\n",
      "00:00:44   debug #38 async.run_with_timeout_async / timeout: 100\n",
      "00:00:44 verbose #39 networking.wait_for_port_access / port: 13805 / retry: 0 / timeout: Some 100 / status: True\n",
      "00:00:45   debug #40 async.run_with_timeout_async / timeout: 100\n",
      "00:00:42 verbose #42 > Starting the Spiral Server. It is bound to: http://localhost:13805\n",
      "00:00:45   debug #41 async.run_with_timeout_async / timeout: 100\n",
      "00:00:39 verbose #63 Supervisor.sendJson / port: 13805 / json: {\"Ping\":true} / result:\n",
      "00:00:39 verbose #64 awaitCompiler / Ping / result: 'Some(null)' / port: 13805 / retry: 0\n",
      "00:00:42 verbose #43 > Server bound to: http://localhost:13805\n",
      "00:00:39   debug #65 Supervisor.buildFile / takeWhileInclusive / path: C:\\home\\git\\polyglot\\target/spiral_Eval\\packages\\7328c18b0e8ef6c0be0cbc319b4cb6918806cd0ec87942527e5833d681fe1f6a\\main.spi / outputContent:  / errors: [] / typeErrorCount: 0\n",
      "00:00:39   debug #66 Supervisor.buildFile / takeWhileInclusive / path: C:\\home\\git\\polyglot\\target/spiral_Eval\\packages\\7328c18b0e8ef6c0be0cbc319b4cb6918806cd0ec87942527e5833d681fe1f6a\\main.spi / outputContent:  / errors: [] / typeErrorCount: 0\n",
      "00:00:39 verbose #67 Supervisor.sendJson / port: 13805 / json: {\"FileOpen\":{\"spiText\":\"\\ninl main () =\\n    real\\n        inl real_unbox forall a. (obj : a) : a =\\...et/spiral_Eval/packages/7328c18b0e8ef6c0be0cbc319b4cb6918806cd0ec87942527e5833d681fe1f6a/main.spi\"}} / result:\n",
      "00:00:39 verbose #68 Supervisor.sendJson / port: 13805 / json: {\"BuildFile\":{\"backend\":\"Fsharp\",\"uri\":\"file:///c:/home/git/polyglot/target/spiral_Eval/packages/7328c18b0e8ef6c0be0cbc319b4cb6918806cd0ec87942527e5833d681fe1f6a/main.spi\"}} / result:\n",
      "00:00:43 verbose #44 > 00:00:01   debug #4 Supervisor.supervisor_server.BuildFile / file: c:/home/git/polyglot/target/spiral_Eval/packages/7328c18b0e8ef6c0be0cbc319b4cb6918806cd0ec87942527e5833d681fe1f6a/main.spi\n",
      "00:00:40   debug #69 Supervisor.buildFile / takeWhileInclusive / path: C:\\home\\git\\polyglot\\target/spiral_Eval\\packages\\7328c18b0e8ef6c0be0cbc319b4cb6918806cd0ec87942527e5833d681fe1f6a\\main.spi / outputContent:  / errors: [] / typeErrorCount: 0\n",
      "00:00:41   debug #70 Supervisor.buildFile / takeWhileInclusive / path: C:\\home\\git\\polyglot\\target/spiral_Eval\\packages\\7328c18b0e8ef6c0be0cbc319b4cb6918806cd0ec87942527e5833d681fe1f6a\\main.spi / outputContent:  / errors: [] / typeErrorCount: 0\n",
      "00:00:41   debug #71 Supervisor.buildFile / takeWhileInclusive / path: C:\\home\\git\\polyglot\\target/spiral_Eval\\packages\\7328c18b0e8ef6c0be0cbc319b4cb6918806cd0ec87942527e5833d681fe1f6a\\main.spi / outputContent:  / errors: [\n",
      "  [\n",
      "    \"Cannot apply a forall with a term.\",\n",
      "    {\n",
      "      \"TracedError\": {\n",
      "        \"message\": \"Cannot apply a forall with a term.\",\n",
      "        \"trace\": [\n",
      "          \"Error trace on line: 2, column: 10 in module: c:/home/git/polyglot/target/spiral_Eval/packages/7328c18b0e8ef6c0be0cbc319b4cb6918806cd0ec87942527e5833d681fe1f6a/main.spi.\n",
      "inl main () =\n",
      "         ^\n",
      "\",\n",
      "          \"Error trace on line: 4, column: 9 in module: c:/home/git/polyglot/target/spiral_Eval/packages/7328c18b0e8ef6c0be0cbc319b4cb6918806cd0ec87942527e5833d681fe1f6a/main.spi.\n",
      "        inl real_unbox forall a. (obj : a) : a =\n",
      "        ^\n",
      "\",\n",
      "          \"Error trace on line: 7, column: 9 in module: c:/home/git/polyglot/target/spiral_Eval/packages/7328c18b0e8ef6c0be0cbc319b4cb6918806cd0ec87942527e5833d681fe1f6a/main.spi.\n",
      "        real_unbox ()\n",
      "        ^\n",
      "\"\n",
      "        ]\n",
      "      }\n",
      "    }\n",
      "  ]\n",
      "] / typeErrorCount: 0\n",
      "00:00:41 verbose #72 Supervisor.sendJson / port: 13805 / json: {\"FileDelete\":{\"uris\":[\"file:///c:/home/git/polyglot/target/spiral_Eval/packages/7328c18b0e8ef6c0be0cbc319b4cb6918806cd0ec87942527e5833d681fe1f6a\"]}} / result:\n",
      "00:00:47 verbose #42 networking.wait_for_port_access / port: 13805 / retry: 0 / timeout: Some 100 / status: False\n",
      "00:00:47   debug #43 async.run_with_timeout_async / timeout: 100\n",
      "00:00:42   debug #73 FileSystem.watchWithFilter / Disposing watch stream / filter: FileName, LastWrite\n",
      "Some (None, [\"Cannot apply a forall with a term.\"])\n",
      "\n"
     ]
    }
   ],
   "source": [
    "//// test\n",
    "\n",
    "\"\"\"\n",
    "inl main () =\n",
    "    real\n",
    "        inl real_unbox forall a. (obj : a) : a =\n",
    "            typecase obj with\n",
    "            | _ => obj\n",
    "        real_unbox ()\n",
    "    ()\n",
    "\"\"\"\n",
    "|> buildCode Fsharp false 10000 None\n",
    "|> Async.runWithTimeout 10000\n",
    "|> Option.map (fun (_, (_, outputContent), errors) -> outputContent, errors |> List.map fst)\n",
    "|> _assertEqual (\n",
    "    Some (\n",
    "        None,\n",
    "        [ \"Cannot apply a forall with a term.\" ]\n",
    "    )\n",
    ")"
   ]
  },
  {
   "cell_type": "code",
   "execution_count": null,
   "metadata": {
    "dotnet_interactive": {
     "language": "fsharp"
    },
    "polyglot_notebook": {
     "kernelName": "fsharp"
    }
   },
   "outputs": [
    {
     "name": "stdout",
     "output_type": "stream",
     "text": [
      "00:00:48   debug #44 async.run_with_timeout_async / timeout: 500\n",
      "00:00:46   debug #45 runtime.execute_with_options_async / options: struct (Some System.Threading.CancellationToken,\n",
      "        \"dotnet \"C:\\home\\git\\polyglot\\deps\\The-Spiral-Language\\The Spiral Language 2\\artifacts\\bin\\The Spiral Language 2\\release\\Spiral.dll\" --port 13805 --default-int i32 --default-float f64\",\n",
      "        [||], Some <fun:buildCode@3-399>, None, true,\n",
      "        Some \"C:\\home\\git\\polyglot\")\n",
      "00:00:46 verbose #46 > 00:00:00   debug #1 pwd: C:\\home\\git\\polyglot\n",
      "00:00:46 verbose #47 > 00:00:00   debug #2 dllPath: C:\\home\\git\\polyglot\\deps\\The-Spiral-Language\\The Spiral Language 2\\artifacts\\bin\\The Spiral Language 2\\release\n",
      "00:00:46 verbose #48 > 00:00:00   debug #3 targetDir: C:\\home\\git\\polyglot\\target/polyglot/spiral_eval\n",
      "00:00:49   debug #45 async.run_with_timeout_async / timeout: 100\n",
      "00:00:49 verbose #46 networking.wait_for_port_access / port: 13805 / retry: 0 / timeout: Some 100 / status: True\n",
      "00:00:49   debug #47 async.run_with_timeout_async / timeout: 100\n",
      "00:00:46 verbose #49 > Starting the Spiral Server. It is bound to: http://localhost:13805\n",
      "00:00:49   debug #48 async.run_with_timeout_async / timeout: 100\n",
      "00:00:43 verbose #74 Supervisor.sendJson / port: 13805 / json: {\"Ping\":true} / result:\n",
      "00:00:43 verbose #75 awaitCompiler / Ping / result: 'Some(null)' / port: 13805 / retry: 0\n",
      "00:00:46 verbose #50 > Server bound to: http://localhost:13805\n",
      "00:00:43   debug #76 Supervisor.buildFile / takeWhileInclusive / path: C:\\home\\git\\polyglot\\target/spiral_Eval\\packages\\7edb70ebb1b24f671a663af73f41c7905a8ba26bb617418a310694663ad6394e\\main.spi / outputContent:  / errors: [] / typeErrorCount: 0\n",
      "00:00:43   debug #77 Supervisor.buildFile / takeWhileInclusive / path: C:\\home\\git\\polyglot\\target/spiral_Eval\\packages\\7edb70ebb1b24f671a663af73f41c7905a8ba26bb617418a310694663ad6394e\\main.spi / outputContent:  / errors: [] / typeErrorCount: 0\n",
      "00:00:43 verbose #78 Supervisor.sendJson / port: 13805 / json: {\"FileOpen\":{\"spiText\":\"\\ninl main () =\\n    real\\n        inl real_unbox forall a. (obj : a) : a =\\...et/spiral_Eval/packages/7edb70ebb1b24f671a663af73f41c7905a8ba26bb617418a310694663ad6394e/main.spi\"}} / result:\n",
      "00:00:43 verbose #79 Supervisor.sendJson / port: 13805 / json: {\"BuildFile\":{\"backend\":\"Fsharp\",\"uri\":\"file:///c:/home/git/polyglot/target/spiral_Eval/packages/7edb70ebb1b24f671a663af73f41c7905a8ba26bb617418a310694663ad6394e/main.spi\"}} / result:\n",
      "00:00:47 verbose #51 > 00:00:01   debug #4 Supervisor.supervisor_server.BuildFile / file: c:/home/git/polyglot/target/spiral_Eval/packages/7edb70ebb1b24f671a663af73f41c7905a8ba26bb617418a310694663ad6394e/main.spi\n",
      "00:00:44   debug #80 Supervisor.buildFile / takeWhileInclusive / path: C:\\home\\git\\polyglot\\target/spiral_Eval\\packages\\7edb70ebb1b24f671a663af73f41c7905a8ba26bb617418a310694663ad6394e\\main.spi / outputContent:  / errors: [] / typeErrorCount: 0\n",
      "00:00:45   debug #81 Supervisor.buildFile / takeWhileInclusive / path: C:\\home\\git\\polyglot\\target/spiral_Eval\\packages\\7edb70ebb1b24f671a663af73f41c7905a8ba26bb617418a310694663ad6394e\\main.spi / outputContent:  / errors: [] / typeErrorCount: 0\n",
      "00:00:45   debug #82 Supervisor.buildFile / takeWhileInclusive / path: C:\\home\\git\\polyglot\\target/spiral_Eval\\packages\\7edb70ebb1b24f671a663af73f41c7905a8ba26bb617418a310694663ad6394e\\main.spi / outputContent:  / errors: [\n",
      "  [\n",
      "    \"The main function should not have a forall.\",\n",
      "    {\n",
      "      \"TracedError\": {\n",
      "        \"message\": \"The main function should not have a forall.\",\n",
      "        \"trace\": []\n",
      "      }\n",
      "    }\n",
      "  ]\n",
      "] / typeErrorCount: 0\n",
      "00:00:45 verbose #83 Supervisor.sendJson / port: 13805 / json: {\"FileDelete\":{\"uris\":[\"file:///c:/home/git/polyglot/target/spiral_Eval/packages/7edb70ebb1b24f671a663af73f41c7905a8ba26bb617418a310694663ad6394e\"]}} / result:\n",
      "00:00:51 verbose #49 networking.wait_for_port_access / port: 13805 / retry: 0 / timeout: Some 100 / status: False\n",
      "00:00:51   debug #50 async.run_with_timeout_async / timeout: 100\n",
      "00:00:46   debug #84 FileSystem.watchWithFilter / Disposing watch stream / filter: FileName, LastWrite\n",
      "Some (None, [\"The main function should not have a forall.\"])\n",
      "\n"
     ]
    }
   ],
   "source": [
    "//// test\n",
    "\n",
    "\"\"\"\n",
    "inl main () =\n",
    "    real\n",
    "        inl real_unbox forall a. (obj : a) : a =\n",
    "            typecase obj with\n",
    "            | _ => obj\n",
    "        real_unbox `i32 1\n",
    "\"\"\"\n",
    "|> buildCode Fsharp false 10000 None\n",
    "|> Async.runWithTimeout 10000\n",
    "|> Option.map (fun (_, (_, outputContent), errors) -> outputContent, errors |> List.map fst)\n",
    "|> _assertEqual (\n",
    "    Some (\n",
    "        None,\n",
    "        [ \"The main function should not have a forall.\" ]\n",
    "    )\n",
    ")"
   ]
  },
  {
   "cell_type": "code",
   "execution_count": null,
   "metadata": {
    "dotnet_interactive": {
     "language": "fsharp"
    },
    "polyglot_notebook": {
     "kernelName": "fsharp"
    }
   },
   "outputs": [
    {
     "name": "stdout",
     "output_type": "stream",
     "text": [
      "00:00:52   debug #51 async.run_with_timeout_async / timeout: 500\n",
      "00:00:50   debug #52 runtime.execute_with_options_async / options: struct (Some System.Threading.CancellationToken,\n",
      "        \"dotnet \"C:\\home\\git\\polyglot\\deps\\The-Spiral-Language\\The Spiral Language 2\\artifacts\\bin\\The Spiral Language 2\\release\\Spiral.dll\" --port 13805 --default-int i32 --default-float f64\",\n",
      "        [||], Some <fun:buildCode@3-399>, None, true,\n",
      "        Some \"C:\\home\\git\\polyglot\")\n",
      "00:00:50 verbose #53 > 00:00:00   debug #1 pwd: C:\\home\\git\\polyglot\n",
      "00:00:50 verbose #54 > 00:00:00   debug #2 dllPath: C:\\home\\git\\polyglot\\deps\\The-Spiral-Language\\The Spiral Language 2\\artifacts\\bin\\The Spiral Language 2\\release\n",
      "00:00:50 verbose #55 > 00:00:00   debug #3 targetDir: C:\\home\\git\\polyglot\\target/polyglot/spiral_eval\n",
      "00:00:53   debug #52 async.run_with_timeout_async / timeout: 100\n",
      "00:00:53 verbose #53 networking.wait_for_port_access / port: 13805 / retry: 0 / timeout: Some 100 / status: True\n",
      "00:00:53   debug #54 async.run_with_timeout_async / timeout: 100\n",
      "00:00:50 verbose #56 > Starting the Spiral Server. It is bound to: http://localhost:13805\n",
      "00:00:53   debug #55 async.run_with_timeout_async / timeout: 100\n",
      "00:00:47 verbose #85 Supervisor.sendJson / port: 13805 / json: {\"Ping\":true} / result:\n",
      "00:00:47 verbose #86 awaitCompiler / Ping / result: 'Some(null)' / port: 13805 / retry: 0\n",
      "00:00:51 verbose #57 > Server bound to: http://localhost:13805\n",
      "00:00:47   debug #87 Supervisor.buildFile / takeWhileInclusive / path: C:\\home\\git\\polyglot\\target/spiral_Eval\\packages\\9ef2ff1993c1cbbc9a30116fb9fc65b44a054b1256bab698edc2fbd62d2289f2\\main.spi / outputContent:  / errors: [] / typeErrorCount: 0\n",
      "00:00:47   debug #88 Supervisor.buildFile / takeWhileInclusive / path: C:\\home\\git\\polyglot\\target/spiral_Eval\\packages\\9ef2ff1993c1cbbc9a30116fb9fc65b44a054b1256bab698edc2fbd62d2289f2\\main.spi / outputContent:  / errors: [] / typeErrorCount: 0\n",
      "00:00:47 verbose #89 Supervisor.sendJson / port: 13805 / json: {\"FileOpen\":{\"spiText\":\"\\ninl init_series start end inc =\\n    inl total : f64 = conv ((end - start)...et/spiral_Eval/packages/9ef2ff1993c1cbbc9a30116fb9fc65b44a054b1256bab698edc2fbd62d2289f2/main.spi\"}} / result:\n",
      "00:00:47 verbose #90 Supervisor.sendJson / port: 13805 / json: {\"BuildFile\":{\"backend\":\"Fsharp\",\"uri\":\"file:///c:/home/git/polyglot/target/spiral_Eval/packages/9ef2ff1993c1cbbc9a30116fb9fc65b44a054b1256bab698edc2fbd62d2289f2/main.spi\"}} / result:\n",
      "00:00:51 verbose #58 > 00:00:01   debug #4 Supervisor.supervisor_server.BuildFile / file: c:/home/git/polyglot/target/spiral_Eval/packages/9ef2ff1993c1cbbc9a30116fb9fc65b44a054b1256bab698edc2fbd62d2289f2/main.spi\n",
      "00:00:48   debug #91 Supervisor.buildFile / takeWhileInclusive / path: C:\\home\\git\\polyglot\\target/spiral_Eval\\packages\\9ef2ff1993c1cbbc9a30116fb9fc65b44a054b1256bab698edc2fbd62d2289f2\\main.spi / outputContent:  / errors: [] / typeErrorCount: 0\n",
      "00:00:49   debug #92 Supervisor.buildFile / takeWhileInclusive / path: C:\\home\\git\\polyglot\\target/spiral_Eval\\packages\\9ef2ff1993c1cbbc9a30116fb9fc65b44a054b1256bab698edc2fbd62d2289f2\\main.spi / outputContent:  / errors: [] / typeErrorCount: 0\n",
      "00:00:50   debug #93 Supervisor.buildFile / takeWhileInclusive / path: C:\\home\\git\\polyglot\\target/spiral_Eval\\packages\\9ef2ff1993c1cbbc9a30116fb9fc65b44a054b1256bab698edc2fbd62d2289f2\\main.spi / outputContent: 0.3325000000000001\n",
      " / errors: [] / typeErrorCount: 0\n",
      "00:00:50 verbose #94 Supervisor.sendJson / port: 13805 / json: {\"FileDelete\":{\"uris\":[\"file:///c:/home/git/polyglot/target/spiral_Eval/packages/9ef2ff1993c1cbbc9a30116fb9fc65b44a054b1256bab698edc2fbd62d2289f2\"]}} / result:\n",
      "00:00:56 verbose #56 networking.wait_for_port_access / port: 13805 / retry: 0 / timeout: Some 100 / status: False\n",
      "00:00:56   debug #57 async.run_with_timeout_async / timeout: 100\n",
      "00:00:50   debug #95 FileSystem.watchWithFilter / Disposing watch stream / filter: FileName, LastWrite\n",
      "Some (Some \"0.3325000000000001\n",
      "\", [])\n",
      "\n"
     ]
    }
   ],
   "source": [
    "//// test\n",
    "\n",
    "\"\"\"\n",
    "inl init_series start end inc =\n",
    "    inl total : f64 = conv ((end - start) / inc) + 1\n",
    "    listm.init total (conv >> (*) inc >> (+) start) : list f64\n",
    "\n",
    "type integration = (f64 -> f64) -> f64 -> f64 -> f64\n",
    "\n",
    "inl integral dt : integration =\n",
    "    fun f a b =>\n",
    "        init_series (a + dt / 2) (b - dt / 2) dt\n",
    "        |> listm.map (f >> (*) dt)\n",
    "        |> listm.fold (+) 0\n",
    "\n",
    "inl main () =\n",
    "    integral 0.1 (fun x => x ** 2) 0 1\n",
    "\"\"\"\n",
    "|> buildCode Fsharp false 10000 None\n",
    "|> Async.runWithTimeout 10000\n",
    "|> Option.map (fun (_, (_, outputContent), errors) -> outputContent, errors |> List.map fst)\n",
    "|> _assertEqual (\n",
    "    Some (\n",
    "        Some \"0.3325000000000001\\n\",\n",
    "        []\n",
    "    )\n",
    ")"
   ]
  },
  {
   "cell_type": "code",
   "execution_count": null,
   "metadata": {
    "dotnet_interactive": {
     "language": "fsharp"
    },
    "polyglot_notebook": {
     "kernelName": "fsharp"
    }
   },
   "outputs": [
    {
     "name": "stdout",
     "output_type": "stream",
     "text": [
      "00:00:57   debug #58 async.run_with_timeout_async / timeout: 500\n",
      "00:00:54   debug #59 runtime.execute_with_options_async / options: struct (Some System.Threading.CancellationToken,\n",
      "        \"dotnet \"C:\\home\\git\\polyglot\\deps\\The-Spiral-Language\\The Spiral Language 2\\artifacts\\bin\\The Spiral Language 2\\release\\Spiral.dll\" --port 13805 --default-int i32 --default-float f64\",\n",
      "        [||], Some <fun:buildCode@3-399>, None, true,\n",
      "        Some \"C:\\home\\git\\polyglot\")\n",
      "00:00:55 verbose #60 > 00:00:00   debug #1 pwd: C:\\home\\git\\polyglot\n",
      "00:00:55 verbose #61 > 00:00:00   debug #2 dllPath: C:\\home\\git\\polyglot\\deps\\The-Spiral-Language\\The Spiral Language 2\\artifacts\\bin\\The Spiral Language 2\\release\n",
      "00:00:55 verbose #62 > 00:00:00   debug #3 targetDir: C:\\home\\git\\polyglot\\target/polyglot/spiral_eval\n",
      "00:00:57   debug #59 async.run_with_timeout_async / timeout: 100\n",
      "00:00:57 verbose #60 networking.wait_for_port_access / port: 13805 / retry: 0 / timeout: Some 100 / status: True\n",
      "00:00:58   debug #61 async.run_with_timeout_async / timeout: 100\n",
      "00:00:58   debug #62 async.run_with_timeout_async / timeout: 100\n",
      "00:00:55 verbose #63 > Starting the Spiral Server. It is bound to: http://localhost:13805\n",
      "00:00:58   debug #63 async.run_with_timeout_async / timeout: 100\n",
      "00:00:52 verbose #96 Supervisor.sendJson / port: 13805 / json: {\"Ping\":true} / result:\n",
      "00:00:52 verbose #97 awaitCompiler / Ping / result: 'Some(null)' / port: 13805 / retry: 0\n",
      "00:00:56 verbose #64 > Server bound to: http://localhost:13805\n",
      "00:00:52   debug #98 Supervisor.buildFile / takeWhileInclusive / path: C:\\home\\git\\polyglot\\target/spiral_Eval\\packages\\2e0bd0b3083fbaaaf3a4ff1ebb639c90d0888e866b0857ab4bc5cf2b7402d93a\\main.spi / outputContent:  / errors: [] / typeErrorCount: 0\n",
      "00:00:52   debug #99 Supervisor.buildFile / takeWhileInclusive / path: C:\\home\\git\\polyglot\\target/spiral_Eval\\packages\\2e0bd0b3083fbaaaf3a4ff1ebb639c90d0888e866b0857ab4bc5cf2b7402d93a\\main.spi / outputContent:  / errors: [] / typeErrorCount: 0\n",
      "00:00:52 verbose #100 Supervisor.sendJson / port: 13805 / json: {\"FileOpen\":{\"spiText\":\"\\ninl init_series start end inc =\\n    inl total : f64 = conv ((end - start)...et/spiral_Eval/packages/2e0bd0b3083fbaaaf3a4ff1ebb639c90d0888e866b0857ab4bc5cf2b7402d93a/main.spi\"}} / result:\n",
      "00:00:52 verbose #101 Supervisor.sendJson / port: 13805 / json: {\"BuildFile\":{\"backend\":\"Python \\u002B Cuda\",\"uri\":\"file:///c:/home/git/polyglot/target/spiral_Eval/packages/2e0bd0b3083fbaaaf3a4ff1ebb639c90d0888e866b0857ab4bc5cf2b7402d93a/main.spi\"}} / result:\n",
      "00:00:56 verbose #65 > 00:00:01   debug #4 Supervisor.supervisor_server.BuildFile / file: c:/home/git/polyglot/target/spiral_Eval/packages/2e0bd0b3083fbaaaf3a4ff1ebb639c90d0888e866b0857ab4bc5cf2b7402d93a/main.spi\n",
      "00:00:53   debug #102 Supervisor.buildFile / takeWhileInclusive / path: C:\\home\\git\\polyglot\\target/spiral_Eval\\packages\\2e0bd0b3083fbaaaf3a4ff1ebb639c90d0888e866b0857ab4bc5cf2b7402d93a\\main.spi / outputContent:  / errors: [] / typeErrorCount: 0\n",
      "00:00:54   debug #103 Supervisor.buildFile / takeWhileInclusive / path: C:\\home\\git\\polyglot\\target/spiral_Eval\\packages\\2e0bd0b3083fbaaaf3a4ff1ebb639c90d0888e866b0857ab4bc5cf2b7402d93a\\main.spi / outputContent:  / errors: [] / typeErrorCount: 0\n",
      "00:00:55   debug #104 Supervisor.buildFile / takeWhileInclusive / path: C:\\home\\git\\polyglot\\target/spiral_Eval\\packages\\2e0bd0b3083fbaaaf3a4ff1ebb639c90d0888e866b0857ab4bc5cf2b7402d93a\\main.spi / outputContent: kernel = r\"\"\"\n",
      "template <typename el, int dim> struct static_array { el v[dim]; };\n",
      "template <typename el, int dim, typename default_int> struct static_array_list { el v[dim]; default_int length; };\n",
      "\"\"\"... = u8 = u16 = u32 = u64 = int; f32 = f64 = float; char = string = str\n",
      "\n",
      "def main():\n",
      "    return 0.3325000000000001\n",
      "\n",
      "if __name__ == '__main__': result = main(); None if result is None else print(result)\n",
      " / errors: [] / typeErrorCount: 0\n",
      "00:00:55 verbose #105 Supervisor.sendJson / port: 13805 / json: {\"FileDelete\":{\"uris\":[\"file:///c:/home/git/polyglot/target/spiral_Eval/packages/2e0bd0b3083fbaaaf3a4ff1ebb639c90d0888e866b0857ab4bc5cf2b7402d93a\"]}} / result:\n",
      "00:01:01 verbose #64 networking.wait_for_port_access / port: 13805 / retry: 0 / timeout: Some 100 / status: False\n",
      "00:01:01   debug #65 async.run_with_timeout_async / timeout: 100\n",
      "00:00:55   debug #106 FileSystem.watchWithFilter / Disposing watch stream / filter: FileName, LastWrite\n",
      "Some\n",
      "  (Some\n",
      "     \"kernel = r\"\"\"\n",
      "template <typename el, int dim> struct static_array { el v[dim]; };\n",
      "template <typename el, int dim, typename default_int> struct static_array_list { el v[dim]; default_int length; };\n",
      "\"\"\"\n",
      "class static_array(list):\n",
      "    def __init__(self, length):\n",
      "        for _ in range(length):\n",
      "            self.append(None)\n",
      "\n",
      "class static_array_list(static_array):\n",
      "    def __init__(self, length):\n",
      "        super().__init__(length)\n",
      "        self.length = 0\n",
      "import cupy as cp\n",
      "from dataclasses import dataclass\n",
      "from typing import NamedTuple, Union, Callable, Tuple\n",
      "i8 = i16 = i32 = i64 = u8 = u16 = u32 = u64 = int; f32 = f64 = float; char = string = str\n",
      "\n",
      "def main():\n",
      "    return 0.3325000000000001\n",
      "\n",
      "if __name__ == '__main__': result = main(); None if result is None else print(result)\n",
      "\",\n",
      "   [])\n",
      "\n"
     ]
    }
   ],
   "source": [
    "//// test\n",
    "\n",
    "\"\"\"\n",
    "inl init_series start end inc =\n",
    "    inl total : f64 = conv ((end - start) / inc) + 1\n",
    "    listm.init total (conv >> (*) inc >> (+) start) : list f64\n",
    "\n",
    "type integration = (f64 -> f64) -> f64 -> f64 -> f64\n",
    "\n",
    "inl integral dt : integration =\n",
    "    fun f a b =>\n",
    "        init_series (a + dt / 2) (b - dt / 2) dt\n",
    "        |> listm.map (f >> (*) dt)\n",
    "        |> listm.fold (+) 0\n",
    "\n",
    "inl main () =\n",
    "    integral 0.1 (fun x => x ** 2) 0 1\n",
    "\"\"\"\n",
    "|> buildCode Cuda false 10000 None\n",
    "|> Async.runWithTimeout 10000\n",
    "|> Option.map (fun (_, (_, outputContent), errors) -> outputContent, errors |> List.map fst)\n",
    "|> _assertEqual (\n",
    "    Some (\n",
    "        Some \"kernel = r\\\"\\\"\\\"\n",
    "template <typename el, int dim> struct static_array { el v[dim]; };\n",
    "template <typename el, int dim, typename default_int> struct static_array_list { el v[dim]; default_int length; };\n",
    "\\\"\\\"\\\"\n",
    "class static_array(list):\n",
    "    def __init__(self, length):\n",
    "        for _ in range(length):\n",
    "            self.append(None)\n",
    "\n",
    "class static_array_list(static_array):\n",
    "    def __init__(self, length):\n",
    "        super().__init__(length)\n",
    "        self.length = 0\n",
    "import cupy as cp\n",
    "from dataclasses import dataclass\n",
    "from typing import NamedTuple, Union, Callable, Tuple\n",
    "i8 = i16 = i32 = i64 = u8 = u16 = u32 = u64 = int; f32 = f64 = float; char = string = str\n",
    "\n",
    "def main():\n",
    "    return 0.3325000000000001\n",
    "\n",
    "if __name__ == '__main__': result = main(); None if result is None else print(result)\n",
    "\",\n",
    "        []\n",
    "    )\n",
    ")"
   ]
  },
  {
   "cell_type": "code",
   "execution_count": null,
   "metadata": {
    "dotnet_interactive": {
     "language": "fsharp"
    },
    "polyglot_notebook": {
     "kernelName": "fsharp"
    }
   },
   "outputs": [
    {
     "name": "stdout",
     "output_type": "stream",
     "text": [
      "00:01:02   debug #66 async.run_with_timeout_async / timeout: 500\n",
      "00:00:59   debug #66 runtime.execute_with_options_async / options: struct (Some System.Threading.CancellationToken,\n",
      "        \"dotnet \"C:\\home\\git\\polyglot\\deps\\The-Spiral-Language\\The Spiral Language 2\\artifacts\\bin\\The Spiral Language 2\\release\\Spiral.dll\" --port 13805 --default-int i32 --default-float f64\",\n",
      "        [||], Some <fun:buildCode@3-399>, None, true,\n",
      "        Some \"C:\\home\\git\\polyglot\")\n",
      "00:01:00 verbose #67 > 00:00:00   debug #1 pwd: C:\\home\\git\\polyglot\n",
      "00:01:00 verbose #68 > 00:00:00   debug #2 dllPath: C:\\home\\git\\polyglot\\deps\\The-Spiral-Language\\The Spiral Language 2\\artifacts\\bin\\The Spiral Language 2\\release\n",
      "00:01:00 verbose #69 > 00:00:00   debug #3 targetDir: C:\\home\\git\\polyglot\\target/polyglot/spiral_eval\n",
      "00:01:02   debug #67 async.run_with_timeout_async / timeout: 100\n",
      "00:01:02 verbose #68 networking.wait_for_port_access / port: 13805 / retry: 0 / timeout: Some 100 / status: True\n",
      "00:01:02   debug #69 async.run_with_timeout_async / timeout: 100\n",
      "00:01:00 verbose #70 > Starting the Spiral Server. It is bound to: http://localhost:13805\n",
      "00:01:02   debug #70 async.run_with_timeout_async / timeout: 100\n",
      "00:00:57 verbose #107 Supervisor.sendJson / port: 13805 / json: {\"Ping\":true} / result:\n",
      "00:00:57 verbose #108 awaitCompiler / Ping / result: 'Some(null)' / port: 13805 / retry: 0\n",
      "00:01:00 verbose #71 > Server bound to: http://localhost:13805\n",
      "00:00:57   debug #109 Supervisor.buildFile / takeWhileInclusive / path: C:\\home\\git\\polyglot\\target/spiral_Eval\\packages\\bef9303d5ade2630e0a996e8c6bea98b5b6c6f4e06aab63d23b1754d52936476\\main.spi / outputContent:  / errors: [] / typeErrorCount: 0\n",
      "00:00:57   debug #110 Supervisor.buildFile / takeWhileInclusive / path: C:\\home\\git\\polyglot\\target/spiral_Eval\\packages\\bef9303d5ade2630e0a996e8c6bea98b5b6c6f4e06aab63d23b1754d52936476\\main.spi / outputContent:  / errors: [] / typeErrorCount: 0\n",
      "00:00:57 verbose #111 Supervisor.sendJson / port: 13805 / json: {\"FileOpen\":{\"spiText\":\"\\ninl init_series start end inc =\\n    inl total : f64 = conv ((end - start)...et/spiral_Eval/packages/bef9303d5ade2630e0a996e8c6bea98b5b6c6f4e06aab63d23b1754d52936476/main.spi\"}} / result:\n",
      "00:00:57 verbose #112 Supervisor.sendJson / port: 13805 / json: {\"BuildFile\":{\"backend\":\"Fsharp\",\"uri\":\"file:///c:/home/git/polyglot/target/spiral_Eval/packages/bef9303d5ade2630e0a996e8c6bea98b5b6c6f4e06aab63d23b1754d52936476/main.spi\"}} / result:\n",
      "00:01:00 verbose #72 > 00:00:01   debug #4 Supervisor.supervisor_server.BuildFile / file: c:/home/git/polyglot/target/spiral_Eval/packages/bef9303d5ade2630e0a996e8c6bea98b5b6c6f4e06aab63d23b1754d52936476/main.spi\n",
      "00:00:58   debug #113 Supervisor.buildFile / takeWhileInclusive / path: C:\\home\\git\\polyglot\\target/spiral_Eval\\packages\\bef9303d5ade2630e0a996e8c6bea98b5b6c6f4e06aab63d23b1754d52936476\\main.spi / outputContent:  / errors: [] / typeErrorCount: 0\n",
      "00:00:59   debug #114 Supervisor.buildFile / takeWhileInclusive / path: C:\\home\\git\\polyglot\\target/spiral_Eval\\packages\\bef9303d5ade2630e0a996e8c6bea98b5b6c6f4e06aab63d23b1754d52936476\\main.spi / outputContent:  / errors: [] / typeErrorCount: 0\n",
      "00:00:59   debug #115 Supervisor.buildFile / takeWhileInclusive / path: C:\\home\\git\\polyglot\\target/spiral_Eval\\packages\\bef9303d5ade2630e0a996e8c6bea98b5b6c6f4e06aab63d23b1754d52936476\\main.spi / outputContent: 0.33332500000000004\n",
      " / errors: [] / typeErrorCount: 0\n",
      "00:00:59 verbose #116 Supervisor.sendJson / port: 13805 / json: {\"FileDelete\":{\"uris\":[\"file:///c:/home/git/polyglot/target/spiral_Eval/packages/bef9303d5ade2630e0a996e8c6bea98b5b6c6f4e06aab63d23b1754d52936476\"]}} / result:\n",
      "00:01:05 verbose #71 networking.wait_for_port_access / port: 13805 / retry: 0 / timeout: Some 100 / status: False\n",
      "00:01:05   debug #72 async.run_with_timeout_async / timeout: 100\n",
      "00:00:59   debug #117 FileSystem.watchWithFilter / Disposing watch stream / filter: FileName, LastWrite\n",
      "Some (Some \"0.33332500000000004\n",
      "\", [])\n",
      "\n"
     ]
    }
   ],
   "source": [
    "//// test\n",
    "\n",
    "\"\"\"\n",
    "inl init_series start end inc =\n",
    "    inl total : f64 = conv ((end - start) / inc) + 1\n",
    "    listm.init total (conv >> (*) inc >> (+) start) : list f64\n",
    "\n",
    "type integration = (f64 -> f64) -> f64 -> f64 -> f64\n",
    "\n",
    "inl integral dt : integration =\n",
    "    fun f a b =>\n",
    "        init_series (a + dt / 2) (b - dt / 2) dt\n",
    "        |> listm.map (f >> (*) dt)\n",
    "        |> listm.fold (+) 0\n",
    "\n",
    "inl main () =\n",
    "    integral 0.01 (fun x => x ** 2) 0 1\n",
    "\"\"\"\n",
    "|> buildCode Fsharp false 10000 None\n",
    "|> Async.runWithTimeout 10000\n",
    "|> Option.map (fun (_, (_, outputContent), errors) -> outputContent, errors |> List.map fst)\n",
    "|> _assertEqual (\n",
    "    Some (\n",
    "        Some \"0.33332500000000004\\n\",\n",
    "        []\n",
    "    )\n",
    ")\n",
    "// |> _assertEqual None\n",
    "// |> fun x -> printfn $\"{x.ToDisplayString ()}\""
   ]
  },
  {
   "cell_type": "markdown",
   "metadata": {},
   "source": [
    "## getFileTokenRange"
   ]
  },
  {
   "cell_type": "code",
   "execution_count": null,
   "metadata": {
    "dotnet_interactive": {
     "language": "fsharp"
    },
    "polyglot_notebook": {
     "kernelName": "fsharp"
    }
   },
   "outputs": [],
   "source": [
    "let inline getFileTokenRange port cancellationToken path = async {\n",
    "    let fullPath = path |> System.IO.Path.GetFullPath\n",
    "    let! code = fullPath |> SpiralFileSystem.read_all_text_async\n",
    "    let lines = code |> SpiralSm.split \"\\n\"\n",
    "\n",
    "    let struct (token, disposable) = SpiralThreading.new_disposable_token cancellationToken\n",
    "    use _ = disposable\n",
    "\n",
    "    let port = port |> Option.defaultWith getCompilerPort\n",
    "    let! serverPort, _errors, ct, disposable = awaitCompiler port (Some token)\n",
    "    use _ = disposable\n",
    "\n",
    "    let fullPathUri = fullPath |> SpiralFileSystem.normalize_path |> SpiralFileSystem.new_file_uri\n",
    "\n",
    "    let fileOpenObj = {| FileOpen = {| uri = fullPathUri; spiText = code |} |}\n",
    "    let! _fileOpenResult = fileOpenObj |> sendObj serverPort\n",
    "\n",
    "    // do! Async.Sleep 60\n",
    "\n",
    "    let fileTokenRangeObj =\n",
    "        {|\n",
    "            FileTokenRange =\n",
    "                {|\n",
    "                    uri = fullPathUri\n",
    "                    range =\n",
    "                        [|\n",
    "                            {| line = 0; character = 0 |}\n",
    "                            {| line = lines.Length - 1; character = lines.[lines.Length - 1].Length |}\n",
    "                        |]\n",
    "                |}\n",
    "        |}\n",
    "    let! fileTokenRangeResult =\n",
    "        fileTokenRangeObj\n",
    "        |> sendObj serverPort\n",
    "        |> Async.withCancellationToken ct\n",
    "\n",
    "    let fileDir = fullPath |> System.IO.Path.GetDirectoryName\n",
    "    if fileDir |> SpiralSm.starts_with (workspaceRoot </> \"target\") then\n",
    "        let fileDirUri = fileDir |> SpiralFileSystem.normalize_path |> SpiralFileSystem.new_file_uri\n",
    "        let fileDeleteObj = {| FileDelete = {| uris = [| fileDirUri |] |} |}\n",
    "        let! _fileDeleteResult = fileDeleteObj |> sendObj serverPort\n",
    "        ()\n",
    "\n",
    "    return fileTokenRangeResult |> Option.map FSharp.Json.Json.deserialize<int array>\n",
    "}"
   ]
  },
  {
   "cell_type": "markdown",
   "metadata": {},
   "source": [
    "## getCodeTokenRange"
   ]
  },
  {
   "cell_type": "code",
   "execution_count": null,
   "metadata": {
    "dotnet_interactive": {
     "language": "fsharp"
    },
    "polyglot_notebook": {
     "kernelName": "fsharp"
    }
   },
   "outputs": [],
   "source": [
    "let inline getCodeTokenRange cancellationToken code = async {\n",
    "    let! mainPath, _ = persistCode None code\n",
    "\n",
    "    let codeDir = mainPath |> System.IO.Path.GetDirectoryName\n",
    "    let tokensPath = codeDir </> \"tokens.json\"\n",
    "    let! tokens = async {\n",
    "        if tokensPath |> System.IO.File.Exists |> not\n",
    "        then return None\n",
    "        else\n",
    "            let! text = tokensPath |> SpiralFileSystem.read_all_text_async\n",
    "\n",
    "            return\n",
    "                if text.Length > 2\n",
    "                then text |> FSharp.Json.Json.deserialize<int array> |> Some\n",
    "                else None\n",
    "    }\n",
    "    match tokens with\n",
    "    | Some tokens ->\n",
    "        return tokens |> Some\n",
    "    | None -> return! mainPath |> getFileTokenRange None cancellationToken\n",
    "}"
   ]
  },
  {
   "cell_type": "code",
   "execution_count": null,
   "metadata": {
    "dotnet_interactive": {
     "language": "fsharp"
    },
    "polyglot_notebook": {
     "kernelName": "fsharp"
    }
   },
   "outputs": [
    {
     "name": "stdout",
     "output_type": "stream",
     "text": [
      "00:01:11   debug #73 async.run_with_timeout_async / timeout: 500\n",
      "00:01:08   debug #73 runtime.execute_with_options_async / options: struct (Some System.Threading.CancellationToken,\n",
      "        \"dotnet \"C:\\home\\git\\polyglot\\deps\\The-Spiral-Language\\The Spiral Language 2\\artifacts\\bin\\The Spiral Language 2\\release\\Spiral.dll\" --port 13805 --default-int i32 --default-float f64\",\n",
      "        [||], Some <fun:it@4-176>, None, true, Some \"C:\\home\\git\\polyglot\")\n",
      "00:01:08 verbose #74 > 00:00:00   debug #1 pwd: C:\\home\\git\\polyglot\n",
      "00:01:08 verbose #75 > 00:00:00   debug #2 dllPath: C:\\home\\git\\polyglot\\deps\\The-Spiral-Language\\The Spiral Language 2\\artifacts\\bin\\The Spiral Language 2\\release\n",
      "00:01:08 verbose #76 > 00:00:00   debug #3 targetDir: C:\\home\\git\\polyglot\\target/polyglot/spiral_eval\n",
      "00:01:11   debug #74 async.run_with_timeout_async / timeout: 100\n",
      "00:01:11 verbose #75 networking.wait_for_port_access / port: 13805 / retry: 0 / timeout: Some 100 / status: True\n",
      "00:01:11   debug #76 async.run_with_timeout_async / timeout: 100\n",
      "00:01:09 verbose #77 > Starting the Spiral Server. It is bound to: http://localhost:13805\n",
      "00:01:11   debug #77 async.run_with_timeout_async / timeout: 100\n",
      "00:01:06 verbose #118 Supervisor.sendJson / port: 13805 / json: {\"Ping\":true} / result:\n",
      "00:01:06 verbose #119 awaitCompiler / Ping / result: 'Some(null)' / port: 13805 / retry: 0\n",
      "00:01:09 verbose #78 > Server bound to: http://localhost:13805\n",
      "00:01:06 verbose #120 Supervisor.sendJson / port: 13805 / json: {\"FileOpen\":{\"spiText\":\"inl main () = ()\",\"uri\":\"file:///c:/home/git/polyglot/target/spiral_Eval/packages/fb6c8d45c45c5bed6706c564f1573e80b77a3923967ce83cb69737ce2ce5040c/main.spi\"}} / result:\n",
      "00:01:06 verbose #121 Supervisor.sendJson / port: 13805 / json: {\"FileTokenRange\":{\"range\":[{\"character\":0,\"line\":0},{\"character\":16,\"line\":0}],\"uri\":\"file:///c:/ho...et/spiral_Eval/packages/fb6c8d45c45c5bed6706c564f1573e80b77a3923967ce83cb69737ce2ce5040c/main.spi\"}} / result: Some([\n",
      "  0,\n",
      "  0,\n",
      "  3,\n",
      "  7,\n",
      "  0,\n",
      "  0,\n",
      "  4,\n",
      "  4,\n",
      "  0,\n",
      "  0,\n",
      "  0,\n",
      "  5,\n",
      "  1,\n",
      "  8,\n",
      "  0,\n",
      "  0,\n",
      " ...8,\n",
      "  0,\n",
      "  0,\n",
      "  2,\n",
      "  1,\n",
      "  4,\n",
      "  0,\n",
      "  0,\n",
      "  2,\n",
      "  1,\n",
      "  8,\n",
      "  0,\n",
      "  0,\n",
      "  1,\n",
      "  1,\n",
      "  8,\n",
      "  0\n",
      "])\n",
      "00:01:06 verbose #122 Supervisor.sendJson / port: 13805 / json: {\"FileDelete\":{\"uris\":[\"file:///c:/home/git/polyglot/target/spiral_Eval/packages/fb6c8d45c45c5bed6706c564f1573e80b77a3923967ce83cb69737ce2ce5040c\"]}} / result:\n",
      "00:01:12 verbose #78 networking.wait_for_port_access / port: 13805 / retry: 0 / timeout: Some 100 / status: False\n",
      "00:01:12   debug #79 async.run_with_timeout_async / timeout: 100\n",
      "Some [|0; 0; 3; 7; 0; 0; 4; 4; 0; 0; 0; 5; 1; 8; 0; 0; 1; 1; 8; 0; 0; 2; 1; 4; 0; 0; 2; 1; 8; 0; 0; 1; 1; 8; 0|]\n",
      "\n"
     ]
    }
   ],
   "source": [
    "//// test\n",
    "\n",
    "\"\"\"inl main () = ()\"\"\"\n",
    "|> getCodeTokenRange None\n",
    "|> Async.runWithTimeout 10000\n",
    "|> Option.flatten\n",
    "|> _assertEqual (Some [| 0; 0; 3; 7; 0; 0; 4; 4; 0; 0; 0; 5; 1; 8; 0; 0; 1; 1; 8; 0; 0; 2; 1; 4; 0; 0;\n",
    "2; 1; 8; 0; 0; 1; 1; 8; 0 |])"
   ]
  },
  {
   "cell_type": "code",
   "execution_count": null,
   "metadata": {
    "dotnet_interactive": {
     "language": "fsharp"
    },
    "polyglot_notebook": {
     "kernelName": "fsharp"
    }
   },
   "outputs": [
    {
     "name": "stdout",
     "output_type": "stream",
     "text": [
      "00:01:15   debug #80 async.run_with_timeout_async / timeout: 500\n",
      "00:01:12   debug #79 runtime.execute_with_options_async / options: struct (Some System.Threading.CancellationToken,\n",
      "        \"dotnet \"C:\\home\\git\\polyglot\\deps\\The-Spiral-Language\\The Spiral Language 2\\artifacts\\bin\\The Spiral Language 2\\release\\Spiral.dll\" --port 13805 --default-int i32 --default-float f64\",\n",
      "        [||], Some <fun:it@4-390>, None, true, Some \"C:\\home\\git\\polyglot\")\n",
      "00:01:13 verbose #80 > 00:00:00   debug #1 pwd: C:\\home\\git\\polyglot\n",
      "00:01:13 verbose #81 > 00:00:00   debug #2 dllPath: C:\\home\\git\\polyglot\\deps\\The-Spiral-Language\\The Spiral Language 2\\artifacts\\bin\\The Spiral Language 2\\release\n",
      "00:01:13 verbose #82 > 00:00:00   debug #3 targetDir: C:\\home\\git\\polyglot\\target/polyglot/spiral_eval\n",
      "00:01:15   debug #81 async.run_with_timeout_async / timeout: 100\n",
      "00:01:15 verbose #82 networking.wait_for_port_access / port: 13805 / retry: 0 / timeout: Some 100 / status: True\n",
      "00:01:15   debug #83 async.run_with_timeout_async / timeout: 100\n",
      "00:01:13 verbose #83 > Starting the Spiral Server. It is bound to: http://localhost:13805\n",
      "00:01:15   debug #84 async.run_with_timeout_async / timeout: 100\n",
      "00:01:10 verbose #123 Supervisor.sendJson / port: 13805 / json: {\"Ping\":true} / result:\n",
      "00:01:10 verbose #124 awaitCompiler / Ping / result: 'Some(null)' / port: 13805 / retry: 0\n",
      "00:01:13 verbose #84 > Server bound to: http://localhost:13805\n",
      "00:01:10 verbose #125 Supervisor.sendJson / port: 13805 / json: {\"FileOpen\":{\"spiText\":\"inl main () = 1i32\",\"uri\":\"file:///c:/home/git/polyglot/target/spiral_Eval/packages/9df95a2f18642bd8d2f682f6edb6cef45c30ca9c616b33ebb0e5577eed14871c/main.spi\"}} / result:\n",
      "00:01:10 verbose #126 Supervisor.sendJson / port: 13805 / json: {\"FileTokenRange\":{\"range\":[{\"character\":0,\"line\":0},{\"character\":18,\"line\":0}],\"uri\":\"file:///c:/ho...et/spiral_Eval/packages/9df95a2f18642bd8d2f682f6edb6cef45c30ca9c616b33ebb0e5577eed14871c/main.spi\"}} / result: Some([\n",
      "  0,\n",
      "  0,\n",
      "  3,\n",
      "  7,\n",
      "  0,\n",
      "  0,\n",
      "  4,\n",
      "  4,\n",
      "  0,\n",
      "  0,\n",
      "  0,\n",
      "  5,\n",
      "  1,\n",
      "  8,\n",
      "  0,\n",
      "  0,\n",
      " ...,\n",
      "  0,\n",
      "  0,\n",
      "  2,\n",
      "  1,\n",
      "  4,\n",
      "  0,\n",
      "  0,\n",
      "  2,\n",
      "  1,\n",
      "  3,\n",
      "  0,\n",
      "  0,\n",
      "  1,\n",
      "  3,\n",
      "  12,\n",
      "  0\n",
      "])\n",
      "00:01:10 verbose #127 Supervisor.sendJson / port: 13805 / json: {\"FileDelete\":{\"uris\":[\"file:///c:/home/git/polyglot/target/spiral_Eval/packages/9df95a2f18642bd8d2f682f6edb6cef45c30ca9c616b33ebb0e5577eed14871c\"]}} / result:\n",
      "00:01:16 verbose #85 networking.wait_for_port_access / port: 13805 / retry: 0 / timeout: Some 100 / status: False\n",
      "00:01:16   debug #86 async.run_with_timeout_async / timeout: 100\n",
      "Some [|0; 0; 3; 7; 0; 0; 4; 4; 0; 0; 0; 5; 1; 8; 0; 0; 1; 1; 8; 0; 0; 2; 1; 4; 0; 0; 2; 1; 3; 0; 0; 1; 3; 12; 0|]\n",
      "\n"
     ]
    }
   ],
   "source": [
    "//// test\n",
    "\n",
    "\"\"\"inl main () = 1i32\"\"\"\n",
    "|> getCodeTokenRange None\n",
    "|> Async.runWithTimeout 10000\n",
    "|> Option.flatten\n",
    "|> _assertEqual (Some [| 0; 0; 3; 7; 0; 0; 4; 4; 0; 0; 0; 5; 1; 8; 0; 0; 1; 1; 8; 0; 0; 2; 1; 4; 0; 0;\n",
    "2; 1; 3; 0; 0; 1; 3; 12; 0 |])"
   ]
  },
  {
   "cell_type": "markdown",
   "metadata": {},
   "source": [
    "## Arguments"
   ]
  },
  {
   "cell_type": "code",
   "execution_count": null,
   "metadata": {
    "dotnet_interactive": {
     "language": "fsharp"
    },
    "polyglot_notebook": {
     "kernelName": "fsharp"
    }
   },
   "outputs": [],
   "source": [
    "[<RequireQualifiedAccess>]\n",
    "type Arguments =\n",
    "    | Build_File of string * string\n",
    "    | File_Token_Range of string * string\n",
    "    | Execute_Command of string\n",
    "    | [<Argu.ArguAttributes.Unique>] Timeout of int\n",
    "    | [<Argu.ArguAttributes.Unique>] Port of int\n",
    "    | [<Argu.ArguAttributes.Unique>] Parallel\n",
    "    | [<Argu.ArguAttributes.Unique>] Exit_On_Error\n",
    "\n",
    "    interface Argu.IArgParserTemplate with\n",
    "        member s.Usage =\n",
    "            match s with\n",
    "            | Build_File _ -> nameof Build_File\n",
    "            | File_Token_Range _ -> nameof File_Token_Range\n",
    "            | Execute_Command _ -> nameof Execute_Command\n",
    "            | Timeout _ -> nameof Timeout\n",
    "            | Port _ -> nameof Port\n",
    "            | Parallel -> nameof Parallel\n",
    "            | Exit_On_Error-> nameof Exit_On_Error"
   ]
  },
  {
   "cell_type": "code",
   "execution_count": null,
   "metadata": {
    "dotnet_interactive": {
     "language": "fsharp"
    },
    "polyglot_notebook": {
     "kernelName": "fsharp"
    }
   },
   "outputs": [
    {
     "data": {
      "text/plain": [
       "\"USAGE: dotnet-repl [--help] [--build-file <string> <string>]\n",
       "                   [--file-token-range <string> <string>]\n",
       "                   [--execute-command <string>] [--timeout <int>] [--port <int>]\n",
       "                   [--parallel] [--exit-on-error]\n",
       "\n",
       "OPTIONS:\n",
       "\n",
       "    --build-file <string> <string>\n",
       "                          Build_File\n",
       "    --file-token-range <string> <string>\n",
       "                          File_Token_Range\n",
       "    --execute-command <string>\n",
       "                          Execute_Command\n",
       "    --timeout <int>       Timeout\n",
       "    --port <int>          Port\n",
       "    --parallel            Parallel\n",
       "    --exit-on-error       Exit_On_Error\n",
       "    --help                display this list of options.\n",
       "\"\n"
      ]
     },
     "metadata": {},
     "output_type": "display_data"
    }
   ],
   "source": [
    "//// test\n",
    "\n",
    "Argu.ArgumentParser.Create<Arguments>().PrintUsage ()"
   ]
  },
  {
   "cell_type": "markdown",
   "metadata": {},
   "source": [
    "## main"
   ]
  },
  {
   "cell_type": "code",
   "execution_count": null,
   "metadata": {
    "dotnet_interactive": {
     "language": "fsharp"
    },
    "polyglot_notebook": {
     "kernelName": "fsharp"
    }
   },
   "outputs": [],
   "source": [
    "let main args =\n",
    "    let argsMap = args |> Runtime.parseArgsMap<Arguments>\n",
    "\n",
    "    let buildFileActions =\n",
    "        argsMap\n",
    "        |> Map.tryFind (nameof Arguments.Build_File)\n",
    "        |> Option.defaultValue []\n",
    "        |> List.choose (function\n",
    "            | Arguments.Build_File (inputPath, outputPath) -> Some (inputPath, outputPath)\n",
    "            | _ -> None\n",
    "        )\n",
    "\n",
    "    let fileTokenRangeActions =\n",
    "        argsMap\n",
    "        |> Map.tryFind (nameof Arguments.File_Token_Range)\n",
    "        |> Option.defaultValue []\n",
    "        |> List.choose (function\n",
    "            | Arguments.File_Token_Range (inputPath, outputPath) -> Some (inputPath, outputPath)\n",
    "            | _ -> None\n",
    "        )\n",
    "\n",
    "    let executeCommandActions =\n",
    "        argsMap\n",
    "        |> Map.tryFind (nameof Arguments.Execute_Command)\n",
    "        |> Option.defaultValue []\n",
    "        |> List.choose (function\n",
    "            | Arguments.Execute_Command command -> Some command\n",
    "            | _ -> None\n",
    "        )\n",
    "\n",
    "    let timeout =\n",
    "        match argsMap |> Map.tryFind (nameof Arguments.Timeout) with\n",
    "        | Some [ Arguments.Timeout timeout ] -> timeout\n",
    "        | _ -> 60000 * 60\n",
    "\n",
    "    let port =\n",
    "        match argsMap |> Map.tryFind (nameof Arguments.Port) with\n",
    "        | Some [ Arguments.Port port ] -> Some port\n",
    "        | _ -> None\n",
    "\n",
    "    let isParallel = argsMap |> Map.containsKey (nameof Arguments.Parallel)\n",
    "\n",
    "    let isExitOnError = argsMap |> Map.containsKey (nameof Arguments.Exit_On_Error)\n",
    "\n",
    "    async {\n",
    "        let port =\n",
    "            port\n",
    "            |> Option.defaultWith getCompilerPort\n",
    "        let struct (localToken, disposable) = SpiralThreading.new_disposable_token None\n",
    "        let! serverPort, _errors, compilerToken, disposable = awaitCompiler port (Some localToken)\n",
    "        use _ = disposable\n",
    "\n",
    "        let buildFileAsync =\n",
    "            buildFileActions\n",
    "            |> List.map (fun (inputPath, outputPath) -> async {\n",
    "                let! _outputPath, (outputCode, errors) =\n",
    "                    let backend =\n",
    "                        if outputPath |> SpiralSm.ends_with \".fsx\"\n",
    "                        then Fsharp\n",
    "                        elif outputPath |> SpiralSm.ends_with \".py\"\n",
    "                        then Cuda\n",
    "                        else failwith $\"Supervisor.main / invalid backend / outputPath: {outputPath}\"\n",
    "                    inputPath |> buildFile backend timeout (Some serverPort) None\n",
    "\n",
    "                errors\n",
    "                |> List.map snd\n",
    "                |> List.iter (fun error ->\n",
    "                    trace Critical (fun () -> $\"main / error: {error |> serializeObj}\") _locals\n",
    "                )\n",
    "\n",
    "                match outputCode with\n",
    "                | Some outputCode ->\n",
    "                    do! outputCode |> SpiralFileSystem.write_all_text_exists outputPath\n",
    "                    return 0\n",
    "                | None ->\n",
    "                    if isExitOnError\n",
    "                    then SpiralRuntime.current_process_kill ()\n",
    "\n",
    "                    return 1\n",
    "            })\n",
    "\n",
    "        let fileTokenRangeAsync =\n",
    "            fileTokenRangeActions\n",
    "            |> List.map (fun (inputPath, outputPath) -> async {\n",
    "                let! tokenRange = inputPath |> getFileTokenRange (Some serverPort) None\n",
    "                match tokenRange with\n",
    "                | Some tokenRange ->\n",
    "                    do! tokenRange |> FSharp.Json.Json.serialize |> SpiralFileSystem.write_all_text_exists outputPath\n",
    "                    return 0\n",
    "                | None ->\n",
    "                    if isExitOnError\n",
    "                    then SpiralRuntime.current_process_kill ()\n",
    "\n",
    "                    return 1\n",
    "            })\n",
    "\n",
    "        let executeCommandAsync =\n",
    "            executeCommandActions\n",
    "            |> List.map (fun command -> async {\n",
    "                let! exitCode, result =\n",
    "                    SpiralRuntime.execution_options (fun x ->\n",
    "                        { x with\n",
    "                            l0 = Some compilerToken\n",
    "                            l1 = command\n",
    "                        }\n",
    "                    )\n",
    "                    |> SpiralRuntime.execute_with_options_async\n",
    "\n",
    "                trace Debug (fun () -> $\"main / executeCommand / exitCode: {exitCode} / command: {command}\") _locals\n",
    "\n",
    "                if isExitOnError && exitCode <> 0\n",
    "                then SpiralRuntime.current_process_kill ()\n",
    "\n",
    "                return exitCode\n",
    "            })\n",
    "\n",
    "        return!\n",
    "            [| buildFileAsync; fileTokenRangeAsync; executeCommandAsync |]\n",
    "            |> Seq.collect id\n",
    "            |> fun x ->\n",
    "                if isParallel\n",
    "                then Async.Parallel (x, float System.Environment.ProcessorCount * 0.51 |> ceil |> int)\n",
    "                else Async.Sequential x\n",
    "            |> Async.map Array.sum\n",
    "    }\n",
    "    |> Async.runWithTimeout timeout\n",
    "    |> Option.defaultValue 1"
   ]
  },
  {
   "cell_type": "code",
   "execution_count": null,
   "metadata": {
    "dotnet_interactive": {
     "language": "fsharp"
    },
    "polyglot_notebook": {
     "kernelName": "fsharp"
    }
   },
   "outputs": [
    {
     "data": {
      "text/html": [
       "<div class=\"dni-plaintext\"><pre>0\n",
       "</pre></div><style>\n",
       ".dni-code-hint {\n",
       "    font-style: italic;\n",
       "    overflow: hidden;\n",
       "    white-space: nowrap;\n",
       "}\n",
       ".dni-treeview {\n",
       "    white-space: nowrap;\n",
       "}\n",
       ".dni-treeview td {\n",
       "    vertical-align: top;\n",
       "    text-align: start;\n",
       "}\n",
       "details.dni-treeview {\n",
       "    padding-left: 1em;\n",
       "}\n",
       "table td {\n",
       "    text-align: start;\n",
       "}\n",
       "table tr { \n",
       "    vertical-align: top; \n",
       "    margin: 0em 0px;\n",
       "}\n",
       "table tr td pre \n",
       "{ \n",
       "    vertical-align: top !important; \n",
       "    margin: 0em 0px !important;\n",
       "} \n",
       "table th {\n",
       "    text-align: start;\n",
       "}\n",
       "</style>"
      ]
     },
     "metadata": {},
     "output_type": "display_data"
    }
   ],
   "source": [
    "//// test\n",
    "\n",
    "let args =\n",
    "    System.Environment.GetEnvironmentVariable \"ARGS\"\n",
    "    |> SpiralRuntime.split_args\n",
    "    |> Result.toArray\n",
    "    |> Array.collect id\n",
    "\n",
    "match args with\n",
    "| [||] -> 0\n",
    "| args -> if main args = 0 then 0 else failwith \"main failed\""
   ]
  }
 ],
 "metadata": {},
 "nbformat": 4,
 "nbformat_minor": 5
}