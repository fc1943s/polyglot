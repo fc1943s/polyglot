{
 "cells": [
  {
   "cell_type": "markdown",
   "metadata": {},
   "source": [
    "# Supervisor (Polyglot)"
   ]
  },
  {
   "cell_type": "code",
   "execution_count": null,
   "metadata": {
    "dotnet_interactive": {
     "language": "fsharp"
    },
    "polyglot_notebook": {
     "kernelName": "fsharp"
    }
   },
   "outputs": [],
   "source": [
    "#!import ../../lib/fsharp/Notebooks.dib\n",
    "#!import ../../lib/fsharp/Testing.dib"
   ]
  },
  {
   "cell_type": "code",
   "execution_count": null,
   "metadata": {
    "dotnet_interactive": {
     "language": "fsharp"
    },
    "polyglot_notebook": {
     "kernelName": "fsharp"
    }
   },
   "outputs": [],
   "source": [
    "#r @\"../../../../../../../.nuget/packages/fsharp.control.asyncseq/3.2.1/lib/netstandard2.1/FSharp.Control.AsyncSeq.dll\"\n",
    "#r @\"../../../../../../../.nuget/packages/system.reactive/6.0.1-preview.1/lib/net6.0/System.Reactive.dll\"\n",
    "#r @\"../../../../../../../.nuget/packages/system.reactive.linq/6.0.1-preview.1/lib/netstandard2.0/System.Reactive.Linq.dll\"\n",
    "#r @\"../../../../../../../.nuget/packages/argu/6.1.5/lib/netstandard2.0/Argu.dll\"\n",
    "#r @\"../../../../../../../.nuget/packages/system.commandline/2.0.0-beta4.22272.1/lib/net6.0/System.CommandLine.dll\"\n",
    "#r @\"../../../../../../../.nuget/packages/microsoft.aspnetcore.http.connections.common/7.0.0/lib/net7.0/Microsoft.AspNetCore.Http.Connections.Common.dll\"\n",
    "#r @\"../../../../../../../.nuget/packages/microsoft.aspnetcore.http.connections.client/7.0.0/lib/net7.0/Microsoft.AspNetCore.Http.Connections.Client.dll\"\n",
    "#r @\"../../../../../../../.nuget/packages/microsoft.aspnetcore.signalr.common/7.0.0/lib/net7.0/Microsoft.AspNetCore.SignalR.Common.dll\"\n",
    "#r @\"../../../../../../../.nuget/packages/microsoft.aspnetcore.signalr.client/7.0.0/lib/net7.0/Microsoft.AspNetCore.SignalR.Client.dll\"\n",
    "#r @\"../../../../../../../.nuget/packages/microsoft.aspnetcore.signalr.client.core/7.0.0/lib/net7.0/Microsoft.AspNetCore.SignalR.Client.Core.dll\"\n",
    "#r @\"../../../../../../../.nuget/packages/fsharp.json/0.4.1/lib/netstandard2.0/FSharp.Json.dll\""
   ]
  },
  {
   "cell_type": "code",
   "execution_count": null,
   "metadata": {
    "dotnet_interactive": {
     "language": "fsharp"
    },
    "polyglot_notebook": {
     "kernelName": "fsharp"
    }
   },
   "outputs": [],
   "source": [
    "#!import ../../lib/fsharp/Common.fs\n",
    "#!import ../../lib/fsharp/CommonFSharp.fs\n",
    "#!import ../../lib/fsharp/Threading.fs\n",
    "#!import ../../lib/fsharp/Async.fs\n",
    "#!import ../../lib/fsharp/AsyncSeq.fs\n",
    "#!import ../../lib/fsharp/Networking.fs\n",
    "#!import ../../lib/fsharp/Runtime.fs\n",
    "#!import ../../lib/fsharp/FileSystem.fs"
   ]
  },
  {
   "cell_type": "code",
   "execution_count": null,
   "metadata": {
    "dotnet_interactive": {
     "language": "fsharp"
    },
    "polyglot_notebook": {
     "kernelName": "fsharp"
    }
   },
   "outputs": [],
   "source": [
    "open Common\n",
    "open FileSystem.Operators\n",
    "open Microsoft.AspNetCore.SignalR.Client"
   ]
  },
  {
   "cell_type": "markdown",
   "metadata": {},
   "source": [
    "## sendJson"
   ]
  },
  {
   "cell_type": "code",
   "execution_count": null,
   "metadata": {
    "dotnet_interactive": {
     "language": "fsharp"
    },
    "polyglot_notebook": {
     "kernelName": "fsharp"
    }
   },
   "outputs": [],
   "source": [
    "let inline sendJson (port : int) (json : string) = async {\n",
    "    let! portOpen = Networking.testPortOpen port\n",
    "    if portOpen then\n",
    "        try\n",
    "            let connection = HubConnectionBuilder().WithUrl($\"http://127.0.0.1:{port}\").Build()\n",
    "            do! connection.StartAsync () |> Async.AwaitTask\n",
    "            let! result = connection.InvokeAsync<string>(\"ClientToServerMsg\", json) |> Async.AwaitTask\n",
    "            do! connection.StopAsync () |> Async.AwaitTask\n",
    "            trace Debug (fun () -> $\"sendJson / port: {port} / json: {json} / result.Length: {result |> Option.ofObj |> Option.map String.length}\") getLocals\n",
    "            return Some result\n",
    "        with ex ->\n",
    "            trace Critical (fun () -> $\"sendJson / port: {port} / json: {json} / ex: {ex |> printException}\") getLocals\n",
    "            return None\n",
    "    else\n",
    "        trace Debug (fun () -> \"sendJson / error: port not open\") getLocals\n",
    "        return None\n",
    "}"
   ]
  },
  {
   "cell_type": "markdown",
   "metadata": {},
   "source": [
    "## sendObj"
   ]
  },
  {
   "cell_type": "code",
   "execution_count": null,
   "metadata": {
    "dotnet_interactive": {
     "language": "fsharp"
    },
    "polyglot_notebook": {
     "kernelName": "fsharp"
    }
   },
   "outputs": [],
   "source": [
    "let inline sendObj port obj =\n",
    "    obj\n",
    "    |> System.Text.Json.JsonSerializer.Serialize\n",
    "    |> sendJson port"
   ]
  },
  {
   "cell_type": "markdown",
   "metadata": {},
   "source": [
    "## awaitCompiler"
   ]
  },
  {
   "cell_type": "code",
   "execution_count": null,
   "metadata": {
    "dotnet_interactive": {
     "language": "fsharp"
    },
    "polyglot_notebook": {
     "kernelName": "fsharp"
    }
   },
   "outputs": [],
   "source": [
    "type VSCPos = {| line : int; character : int |}\n",
    "type VSCRange = VSCPos * VSCPos\n",
    "type RString = VSCRange * string\n",
    "type TracedError = {| trace : string list; message : string |}\n",
    "type ClientErrorsRes =\n",
    "    | FatalError of string\n",
    "    | TracedError of TracedError\n",
    "    | PackageErrors of {| uri : string; errors : RString list |}\n",
    "    | TokenizerErrors of {| uri : string; errors : RString list |}\n",
    "    | ParserErrors of {| uri : string; errors : RString list |}\n",
    "    | TypeErrors of {| uri : string; errors : RString list |}"
   ]
  },
  {
   "cell_type": "code",
   "execution_count": null,
   "metadata": {
    "dotnet_interactive": {
     "language": "fsharp"
    },
    "polyglot_notebook": {
     "kernelName": "fsharp"
    }
   },
   "outputs": [],
   "source": [
    "let inline awaitCompiler port cancellationToken = async {\n",
    "    let! ct =\n",
    "        cancellationToken\n",
    "        |> Option.defaultValue System.Threading.CancellationToken.None\n",
    "        |> Async.mergeCancellationTokenWithDefaultAsync\n",
    "    \n",
    "    let cts = new System.Threading.CancellationTokenSource ()\n",
    "\n",
    "    let compiler = MailboxProcessor.Start (fun inbox -> async {\n",
    "        let! availablePort = Networking.getAvailablePort (Some 60) port\n",
    "        if availablePort <> port then\n",
    "            inbox.Post port\n",
    "        else\n",
    "            let repositoryRoot = FileSystem.getSourceDirectory () |> FileSystem.findParent \".paket\" false\n",
    "\n",
    "            let compilerPath =\n",
    "                repositoryRoot </> \"deps/The-Spiral-Language/The Spiral Language 2/artifacts/bin/The Spiral Language 2/release\"\n",
    "                |> System.IO.Path.GetFullPath\n",
    "\n",
    "            let dllPath = compilerPath </> \"Spiral.dll\"\n",
    "\n",
    "            let! exitCode, result =\n",
    "                Runtime.executeWithOptionsAsync\n",
    "                    {\n",
    "                        Command = $@\"dotnet \"\"{dllPath}\"\" --port {availablePort} --default-int i32 --default-float f64\"\n",
    "                        CancellationToken = Some ct\n",
    "                        WorkingDirectory = None\n",
    "                        OnLine = Some <| fun { Line = line } -> async {\n",
    "                            if line |> String.contains $\"Server bound to: http://localhost:{availablePort}\" then\n",
    "                                do! Networking.waitForPortAccess (Some 500) true availablePort |> Async.Ignore\n",
    "\n",
    "                                let rec loop retry = async {\n",
    "                                    let getLocals () = $\"port: {availablePort} / retry: {retry} / {getLocals ()}\"\n",
    "                                    try\n",
    "                                        let pingObj = {| Ping = true |}\n",
    "                                        let! pingResult = pingObj |> sendObj availablePort\n",
    "                                        trace Verbose (fun () -> $\"awaitCompiler / Ping / result: {pingResult}\") getLocals\n",
    "                                    with ex ->\n",
    "                                        trace Verbose (fun () -> $\"awaitCompiler / Ping / ex: {ex |> printException}\") getLocals\n",
    "                                        do! Async.Sleep 10\n",
    "                                        do! loop (retry + 1)\n",
    "                                }\n",
    "                                do! loop 0\n",
    "                                inbox.Post availablePort\n",
    "                        }\n",
    "                    }\n",
    "            trace Debug (fun () -> $\"awaitCompiler / exitCode: {exitCode} / result: {result}\") getLocals\n",
    "            cts.Cancel ()\n",
    "    }, ct)\n",
    "\n",
    "    let! serverPort = compiler.Receive ()\n",
    "\n",
    "    let connection = HubConnectionBuilder().WithUrl($\"http://127.0.0.1:{serverPort}\").Build ()\n",
    "    do! connection.StartAsync () |> Async.AwaitTask\n",
    "\n",
    "    let event = Event<_> ()\n",
    "    let disposable = connection.On<string> (\"ServerToClientMsg\", event.Trigger)\n",
    "    let stream =\n",
    "        FSharp.Control.AsyncSeq.unfoldAsync\n",
    "            (fun () -> async {\n",
    "                let! msg = event.Publish |> Async.AwaitEvent\n",
    "                return Some (msg |> FSharp.Json.Json.deserialize<ClientErrorsRes>, ())\n",
    "            })\n",
    "            ()\n",
    "\n",
    "    let disposable =\n",
    "        newDisposable (fun () ->\n",
    "            disposable.Dispose ()\n",
    "            connection.StopAsync () |> Async.AwaitTask |> Async.StartImmediate\n",
    "        )\n",
    "\n",
    "    return\n",
    "        serverPort,\n",
    "        stream,\n",
    "        cts.Token,\n",
    "        disposable\n",
    "}"
   ]
  },
  {
   "cell_type": "markdown",
   "metadata": {},
   "source": [
    "## getFileUri"
   ]
  },
  {
   "cell_type": "code",
   "execution_count": null,
   "metadata": {
    "dotnet_interactive": {
     "language": "fsharp"
    },
    "polyglot_notebook": {
     "kernelName": "fsharp"
    }
   },
   "outputs": [],
   "source": [
    "let inline getFileUri path =\n",
    "    $\"file:///{path |> String.trimStart [| '/' |]}\""
   ]
  },
  {
   "cell_type": "code",
   "execution_count": null,
   "metadata": {
    "dotnet_interactive": {
     "language": "fsharp"
    },
    "polyglot_notebook": {
     "kernelName": "fsharp"
    }
   },
   "outputs": [],
   "source": [
    "let inline getFilePathFromUri uri =\n",
    "    match System.Uri.TryCreate (uri, System.UriKind.Absolute) with\n",
    "    | true, uri -> uri.AbsolutePath |> System.IO.Path.GetFullPath\n",
    "    | _ -> failwith \"invalid uri\""
   ]
  },
  {
   "cell_type": "code",
   "execution_count": null,
   "metadata": {
    "dotnet_interactive": {
     "language": "fsharp"
    },
    "polyglot_notebook": {
     "kernelName": "fsharp"
    }
   },
   "outputs": [],
   "source": [
    "let inline getCompilerPort () =\n",
    "    13805"
   ]
  },
  {
   "cell_type": "markdown",
   "metadata": {},
   "source": [
    "## buildFile"
   ]
  },
  {
   "cell_type": "code",
   "execution_count": null,
   "metadata": {
    "dotnet_interactive": {
     "language": "fsharp"
    },
    "polyglot_notebook": {
     "kernelName": "fsharp"
    }
   },
   "outputs": [],
   "source": [
    "let inline buildFile timeout port cancellationToken path = async {\n",
    "    let fullPath = path |> System.IO.Path.GetFullPath\n",
    "    let fileDir = fullPath |> System.IO.Path.GetDirectoryName\n",
    "    let fileName = fullPath |> System.IO.Path.GetFileNameWithoutExtension\n",
    "    let! code = fullPath |> FileSystem.readAllTextAsync\n",
    "\n",
    "    let eventFilter = function\n",
    "        | FileSystem.FileSystemChange.Changed (path, _) when path = $\"{fileName}.fsx\" -> true\n",
    "        | _ -> false\n",
    "\n",
    "    let stream, disposable = fileDir |> FileSystem.watchDirectory eventFilter\n",
    "    use _ = disposable\n",
    "\n",
    "    let token, disposable = Threading.newDisposableToken cancellationToken\n",
    "    use _ = disposable\n",
    "\n",
    "    let! serverPort, errors, ct, disposable = awaitCompiler port (Some token)\n",
    "    use _ = disposable\n",
    "\n",
    "    let fsxContentSeq =\n",
    "        stream\n",
    "        |> FSharp.Control.AsyncSeq.choose (function\n",
    "            | _, (FileSystem.FileSystemChange.Changed (path, Some content) as event)\n",
    "                when event |> eventFilter\n",
    "                ->\n",
    "                Some content\n",
    "            | _ -> None\n",
    "        )\n",
    "        |> FSharp.Control.AsyncSeq.map (fun content ->\n",
    "            Some (content |> String.replace \"\\r\\n\" \"\\n\"), None\n",
    "        )\n",
    "\n",
    "    let inline printErrorData (data : {| uri : string; errors : RString list |}) =\n",
    "        let fileName = data.uri |> System.IO.Path.GetFileName\n",
    "        let errors =\n",
    "            data.errors\n",
    "            |> List.map snd\n",
    "            |> String.concat \"\\n\"\n",
    "        $\"{fileName}:\\n{errors}\"\n",
    "\n",
    "    let errorsSeq =\n",
    "        errors\n",
    "        |> FSharp.Control.AsyncSeq.choose (fun error ->\n",
    "            match error with\n",
    "            | FatalError message ->\n",
    "                Some (message, error)\n",
    "            | TracedError data ->\n",
    "                Some (data.message, error)\n",
    "            | PackageErrors data when data.errors |> List.isEmpty |> not ->\n",
    "                Some (data |> printErrorData, error)\n",
    "            | TokenizerErrors data when data.errors |> List.isEmpty |> not ->\n",
    "                Some (data |> printErrorData, error)\n",
    "            | ParserErrors data when data.errors |> List.isEmpty |> not ->\n",
    "                Some (data |> printErrorData, error)\n",
    "            | TypeErrors data when data.errors |> List.isEmpty |> not ->\n",
    "                Some (data |> printErrorData, error)\n",
    "            | _ -> None\n",
    "        )\n",
    "        |> FSharp.Control.AsyncSeq.map (fun (message, error) ->\n",
    "            None, Some (message, error)\n",
    "        )\n",
    "    \n",
    "    let timerSeq =\n",
    "        1000\n",
    "        |> FSharp.Control.AsyncSeq.intervalMs\n",
    "        |> FSharp.Control.AsyncSeq.map (fun _ -> None, None)\n",
    "\n",
    "    let outputSeq =\n",
    "        [ fsxContentSeq; errorsSeq; timerSeq ]\n",
    "        |> FSharp.Control.AsyncSeq.mergeAll\n",
    "\n",
    "    let! outputChild =\n",
    "        ((None, [], 0), outputSeq)\n",
    "        ||> FSharp.Control.AsyncSeq.scan (\n",
    "            fun (fsxContentResult, errors, typeErrorCount) (fsxContent, error) ->\n",
    "                match fsxContent, error with\n",
    "                | Some fsxContent, None -> Some fsxContent, errors, typeErrorCount\n",
    "                | None, Some (_, FatalError \"File main has a type error somewhere in its path.\") ->\n",
    "                    fsxContentResult, errors, typeErrorCount + 1\n",
    "                | None, Some error -> fsxContentResult, error :: errors, typeErrorCount\n",
    "                | None, None when typeErrorCount >= 1 ->\n",
    "                    fsxContentResult, errors, typeErrorCount + 1\n",
    "                | _ -> fsxContentResult, errors, typeErrorCount\n",
    "        )\n",
    "        |> FSharp.Control.AsyncSeq.takeWhileInclusive (fun (fsxContent, errors, typeErrorCount) ->\n",
    "            trace Debug (fun () -> $\"buildFile / takeWhileInclusive / fsxContent: {fsxContent |> Option.defaultValue System.String.Empty |> String.ellipsis 750} / errors: {errors} / typeErrorCount: {typeErrorCount}\") getLocals\n",
    "            match fsxContent, errors with\n",
    "            | None, [] when typeErrorCount > 2 -> false\n",
    "            | None, [] -> true\n",
    "            | _ -> false\n",
    "        )\n",
    "        |> FSharp.Control.AsyncSeq.tryLast\n",
    "        |> Async.withCancellationToken ct\n",
    "        |> Async.catch\n",
    "        |> Async.runWithTimeoutAsync timeout\n",
    "        |> Async.StartChild\n",
    "\n",
    "    let fileOpenObj = {| FileOpen = {| uri = fullPath |> getFileUri; spiText = code |} |}\n",
    "    let! _fileOpenResult = fileOpenObj |> sendObj serverPort\n",
    "\n",
    "    do! Async.Sleep 60\n",
    "\n",
    "    let buildFileObj = {| BuildFile = {| uri = fullPath |> getFileUri; backend = \"Fsharp\" |} |}\n",
    "    let! _buildFileResult = buildFileObj |> sendObj serverPort\n",
    "\n",
    "    return!\n",
    "        outputChild\n",
    "        |> Async.map (function\n",
    "            | Some (Ok (Some (message, errors, _))) -> message, errors |> List.distinct |> List.rev\n",
    "            | Some (Error ex) ->\n",
    "                trace Critical (fun () -> $\"buildFile / error: {ex |> printException}\") getLocals\n",
    "                None, []\n",
    "            | _ -> None, []\n",
    "        )\n",
    "}"
   ]
  },
  {
   "cell_type": "markdown",
   "metadata": {},
   "source": [
    "## persistCode"
   ]
  },
  {
   "cell_type": "code",
   "execution_count": null,
   "metadata": {
    "dotnet_interactive": {
     "language": "fsharp"
    },
    "polyglot_notebook": {
     "kernelName": "fsharp"
    }
   },
   "outputs": [],
   "source": [
    "let inline persistCode code = async {\n",
    "    let tempDir = FileSystem.createTempDirectory ()\n",
    "\n",
    "    let mainPath = tempDir </> \"main.spi\"\n",
    "    do! code |> FileSystem.writeAllTextAsync mainPath\n",
    "\n",
    "    let repositoryRoot = FileSystem.getSourceDirectory () |> FileSystem.findParent \".paket\" false\n",
    "\n",
    "    let spiprojPath = tempDir </> \"package.spiproj\"\n",
    "    let spiprojCode =\n",
    "        $\"\"\"packageDir: {repositoryRoot </> \"lib\"}\n",
    "packages:\n",
    "    |core-\n",
    "    spiral-\n",
    "modules:\n",
    "    main\n",
    "\"\"\"\n",
    "    do! spiprojCode |> FileSystem.writeAllTextAsync spiprojPath\n",
    "\n",
    "    let disposable = newDisposable (fun () ->\n",
    "        ()\n",
    "        // tempDir |> FileSystem.deleteDirectoryAsync |> Async.Ignore |> Async.RunSynchronously\n",
    "    )\n",
    "\n",
    "    return mainPath, disposable\n",
    "}"
   ]
  },
  {
   "cell_type": "markdown",
   "metadata": {},
   "source": [
    "## buildCode"
   ]
  },
  {
   "cell_type": "code",
   "execution_count": null,
   "metadata": {
    "dotnet_interactive": {
     "language": "fsharp"
    },
    "polyglot_notebook": {
     "kernelName": "fsharp"
    }
   },
   "outputs": [],
   "source": [
    "let inline buildCode timeout cancellationToken code = async {\n",
    "    let! mainPath, disposable = persistCode code\n",
    "    use _ = disposable\n",
    "    let port = getCompilerPort ()\n",
    "    return! mainPath |> buildFile timeout port cancellationToken\n",
    "}"
   ]
  },
  {
   "cell_type": "code",
   "execution_count": null,
   "metadata": {
    "dotnet_interactive": {
     "language": "fsharp"
    },
    "polyglot_notebook": {
     "kernelName": "fsharp"
    }
   },
   "outputs": [],
   "source": [
    "//// test\n",
    "\n",
    "let buildCode timeout cancellationToken code = buildCode timeout cancellationToken code"
   ]
  },
  {
   "cell_type": "code",
   "execution_count": null,
   "metadata": {
    "dotnet_interactive": {
     "language": "fsharp"
    },
    "polyglot_notebook": {
     "kernelName": "fsharp"
    }
   },
   "outputs": [
    {
     "name": "stdout",
     "output_type": "stream",
     "text": [
      "00:00:00 #1 [Debug] runWithTimeoutAsync / timeout: 60\r\n",
      "00:00:00 #2 [Debug] executeAsync / options: { Command =\n",
      "   \"dotnet \"C:\\home\\git\\polyglot\\deps\\The-Spiral-Language\\The Spiral Language 2\\artifacts\\bin\\The Spiral Language 2\\release\\Spiral.dll\" --port 13805 --default-int i32 --default-float f64\"\n",
      "  WorkingDirectory = None\n",
      "  CancellationToken = Some System.Threading.CancellationToken\n",
      "  OnLine = Some <fun:buildCode@3-983> }\r\n",
      "00:00:00 #3 [Verbose] > pwd: C:\\home\\git\\polyglot\\apps\\spiral\r\n",
      "00:00:00 #4 [Verbose] > dll_path: C:\\home\\git\\polyglot\\deps\\The-Spiral-Language\\The Spiral Language 2\\artifacts\\bin\\The Spiral Language 2\\release\r\n",
      "00:00:00 #5 [Verbose] > Starting the Spiral Server. It is bound to: http://localhost:13805\r\n",
      "00:00:00 #6 [Debug] runWithTimeoutAsync / timeout: 500\r\n",
      "00:00:00 #7 [Verbose] waitForPortAccess / port: 13805 / retry: 0\r\n",
      "00:00:01 #8 [Debug] runWithTimeoutAsync / timeout: 500\r\n",
      "00:00:01 #9 [Debug] sendJson / port: 13805 / json: {\"Ping\":true} / result.Length:\r\n",
      "00:00:01 #10 [Verbose] awaitCompiler / Ping / result: Some(null) / port: 13805 / retry: 0\r\n",
      "00:00:01 #11 [Verbose] > Server bound to: http://localhost:13805\r\n",
      "00:00:01 #12 [Debug] buildFile / takeWhileInclusive / fsxContent:  / errors: [] / typeErrorCount: 0\r\n",
      "00:00:01 #13 [Debug] buildFile / takeWhileInclusive / fsxContent:  / errors: [] / typeErrorCount: 0\r\n",
      "00:00:01 #14 [Debug] sendJson / port: 13805 / json: {\"FileOpen\":{\"spiText\":\"inl app () =\\n    console.write_line \\u0022text\\u0022\\n    1i32\\n\\ninl main () =\\n    app\\n    |\\u003E dyn\\n    |\\u003E ignore\\n\",\"uri\":\"file:///C:\\\\Users\\\\i574n\\\\AppData\\\\Local\\\\Temp\\\\!dotnet-repl\\\\20240217-1336-3160-6077-626470bae0f6\\\\main.spi\"}} / result.Length:\r\n",
      "00:00:01 #15 [Debug] sendJson / port: 13805 / json: {\"BuildFile\":{\"backend\":\"Fsharp\",\"uri\":\"file:///C:\\\\Users\\\\i574n\\\\AppData\\\\Local\\\\Temp\\\\!dotnet-repl\\\\20240217-1336-3160-6077-626470bae0f6\\\\main.spi\"}} / result.Length:\r\n",
      "00:00:02 #16 [Verbose] > Building C:\\Users\\i574n\\AppData\\Local\\Temp\\!dotnet-repl\\20240217-1336-3160-6077-626470bae0f6\\main.spi\r\n",
      "00:00:02 #17 [Debug] buildFile / takeWhileInclusive / fsxContent:  / errors: [] / typeErrorCount: 0\r\n",
      "00:00:03 #18 [Debug] buildFile / takeWhileInclusive / fsxContent: let rec closure0 () () : int32 =\n",
      "    let v0 : string = \"text\"\n",
      "    System.Console.WriteLine v0\n",
      "    1\n",
      "let v0 : (unit -> int32) = closure0()\n",
      "()\n",
      " / errors: [] / typeErrorCount: 0\r\n",
      "00:00:03 #19 [Debug] watchWithFilter / Disposing watch stream / filter: FileName, LastWrite\r\n",
      "FSharpOption<Tuple<FSharpOption<String>,FSharpList<String>>>\r\n",
      "      Value:       - FSharpOption<String>\r\n",
      "          Value: let rec closure0 () () : int32 =\n",
      "    let v0 : string = \"text\"\n",
      "    System.Console.WriteLine v0\n",
      "    1\n",
      "let v0 : (unit -> int32) = closure0()\n",
      "()\n",
      "\r\n",
      "      - [  ]\r\n"
     ]
    }
   ],
   "source": [
    "//// test\n",
    "\n",
    "\"\"\"inl app () =\n",
    "    console.write_line \"text\"\n",
    "    1i32\n",
    "\n",
    "inl main () =\n",
    "    app\n",
    "    |> dyn\n",
    "    |> ignore\n",
    "\"\"\"\n",
    "|> buildCode 15000 None\n",
    "|> Async.runWithTimeout 15000\n",
    "|> Option.map (fun (fsxContent, errors) -> fsxContent, errors |> List.map fst)\n",
    "|> _equal (\n",
    "    Some (\n",
    "        Some \"\"\"let rec closure0 () () : int32 =\n",
    "    let v0 : string = \"text\"\n",
    "    System.Console.WriteLine v0\n",
    "    1\n",
    "let v0 : (unit -> int32) = closure0()\n",
    "()\n",
    "\"\"\",\n",
    "        []\n",
    "    )\n",
    ")"
   ]
  },
  {
   "cell_type": "code",
   "execution_count": null,
   "metadata": {
    "dotnet_interactive": {
     "language": "fsharp"
    },
    "polyglot_notebook": {
     "kernelName": "fsharp"
    }
   },
   "outputs": [
    {
     "name": "stdout",
     "output_type": "stream",
     "text": [
      "00:00:04 #20 [Debug] runWithTimeoutAsync / timeout: 60\r\n",
      "00:00:04 #21 [Debug] executeAsync / options: { Command =\n",
      "   \"dotnet \"C:\\home\\git\\polyglot\\deps\\The-Spiral-Language\\The Spiral Language 2\\artifacts\\bin\\The Spiral Language 2\\release\\Spiral.dll\" --port 13805 --default-int i32 --default-float f64\"\n",
      "  WorkingDirectory = None\n",
      "  CancellationToken = Some System.Threading.CancellationToken\n",
      "  OnLine = Some <fun:buildCode@3-983> }\r\n",
      "00:00:04 #22 [Verbose] > pwd: C:\\home\\git\\polyglot\\apps\\spiral\r\n",
      "00:00:04 #23 [Verbose] > dll_path: C:\\home\\git\\polyglot\\deps\\The-Spiral-Language\\The Spiral Language 2\\artifacts\\bin\\The Spiral Language 2\\release\r\n",
      "00:00:04 #24 [Verbose] > Starting the Spiral Server. It is bound to: http://localhost:13805\r\n",
      "00:00:04 #25 [Debug] runWithTimeoutAsync / timeout: 500\r\n",
      "00:00:04 #26 [Verbose] waitForPortAccess / port: 13805 / retry: 0\r\n",
      "00:00:05 #27 [Debug] sendJson / port: 13805 / json: {\"Ping\":true} / result.Length:\r\n",
      "00:00:05 #28 [Verbose] awaitCompiler / Ping / result: Some(null) / port: 13805 / retry: 0\r\n",
      "00:00:05 #29 [Verbose] > Server bound to: http://localhost:13805\r\n",
      "00:00:05 #30 [Debug] buildFile / takeWhileInclusive / fsxContent:  / errors: [] / typeErrorCount: 0\r\n",
      "00:00:05 #31 [Debug] buildFile / takeWhileInclusive / fsxContent:  / errors: [] / typeErrorCount: 0\r\n",
      "00:00:05 #32 [Debug] sendJson / port: 13805 / json: {\"FileOpen\":{\"spiText\":\"\",\"uri\":\"file:///C:\\\\Users\\\\i574n\\\\AppData\\\\Local\\\\Temp\\\\!dotnet-repl\\\\20240217-1336-3578-7801-7f6988835fe6\\\\main.spi\"}} / result.Length:\r\n",
      "00:00:05 #33 [Debug] sendJson / port: 13805 / json: {\"BuildFile\":{\"backend\":\"Fsharp\",\"uri\":\"file:///C:\\\\Users\\\\i574n\\\\AppData\\\\Local\\\\Temp\\\\!dotnet-repl\\\\20240217-1336-3578-7801-7f6988835fe6\\\\main.spi\"}} / result.Length:\r\n",
      "00:00:05 #34 [Verbose] > Building C:\\Users\\i574n\\AppData\\Local\\Temp\\!dotnet-repl\\20240217-1336-3578-7801-7f6988835fe6\\main.spi\r\n",
      "00:00:06 #35 [Debug] buildFile / takeWhileInclusive / fsxContent:  / errors: [] / typeErrorCount: 0\r\n",
      "00:00:06 #36 [Verbose] > Cannot find `main` in file main.\r\n",
      "00:00:06 #37 [Verbose] > Build skipped for C:\\Users\\i574n\\AppData\\Local\\Temp\\!dotnet-repl\\20240217-1336-3578-7801-7f6988835fe6\\main.spi\r\n",
      "00:00:07 #38 [Debug] buildFile / takeWhileInclusive / fsxContent:  / errors: [] / typeErrorCount: 0\r\n",
      "00:00:08 #39 [Debug] buildFile / takeWhileInclusive / fsxContent:  / errors: [] / typeErrorCount: 0\r\n",
      "00:00:09 #40 [Debug] buildFile / takeWhileInclusive / fsxContent:  / errors: [] / typeErrorCount: 0\r\n",
      "00:00:10 #41 [Debug] buildFile / takeWhileInclusive / fsxContent:  / errors: [] / typeErrorCount: 0\r\n",
      "00:00:11 #42 [Debug] buildFile / takeWhileInclusive / fsxContent:  / errors: [] / typeErrorCount: 0\r\n",
      "00:00:12 #43 [Debug] buildFile / takeWhileInclusive / fsxContent:  / errors: [] / typeErrorCount: 0\r\n",
      "00:00:13 #44 [Debug] buildFile / takeWhileInclusive / fsxContent:  / errors: [] / typeErrorCount: 0\r\n",
      "00:00:14 #45 [Debug] runWithTimeoutAsync / timeout: 10000\r\n",
      "00:00:14 #46 [Debug] watchWithFilter / Disposing watch stream / filter: FileName, LastWrite\r\n",
      "<null>\r\n"
     ]
    }
   ],
   "source": [
    "//// test\n",
    "\n",
    "\"\"\n",
    "|> buildCode 10000 None\n",
    "|> Async.runWithTimeout 10000\n",
    "|> _equal None"
   ]
  },
  {
   "cell_type": "code",
   "execution_count": null,
   "metadata": {
    "dotnet_interactive": {
     "language": "fsharp"
    },
    "polyglot_notebook": {
     "kernelName": "fsharp"
    }
   },
   "outputs": [
    {
     "name": "stdout",
     "output_type": "stream",
     "text": [
      "00:00:14 #48 [Debug] runWithTimeoutAsync / timeout: 60\r\n",
      "00:00:14 #49 [Debug] executeAsync / options: { Command =\n",
      "   \"dotnet \"C:\\home\\git\\polyglot\\deps\\The-Spiral-Language\\The Spiral Language 2\\artifacts\\bin\\The Spiral Language 2\\release\\Spiral.dll\" --port 13805 --default-int i32 --default-float f64\"\n",
      "  WorkingDirectory = None\n",
      "  CancellationToken = Some System.Threading.CancellationToken\n",
      "  OnLine = Some <fun:buildCode@3-983> }\r\n",
      "00:00:14 #50 [Verbose] > pwd: C:\\home\\git\\polyglot\\apps\\spiral\r\n",
      "00:00:14 #51 [Verbose] > dll_path: C:\\home\\git\\polyglot\\deps\\The-Spiral-Language\\The Spiral Language 2\\artifacts\\bin\\The Spiral Language 2\\release\r\n",
      "00:00:15 #52 [Verbose] > Starting the Spiral Server. It is bound to: http://localhost:13805\r\n",
      "00:00:15 #54 [Debug] runWithTimeoutAsync / timeout: 500\r\n",
      "00:00:15 #55 [Verbose] waitForPortAccess / port: 13805 / retry: 0\r\n",
      "00:00:15 #57 [Debug] sendJson / port: 13805 / json: {\"Ping\":true} / result.Length:\r\n",
      "00:00:15 #58 [Verbose] awaitCompiler / Ping / result: Some(null) / port: 13805 / retry: 0\r\n",
      "00:00:15 #59 [Verbose] > Server bound to: http://localhost:13805\r\n",
      "00:00:15 #60 [Debug] buildFile / takeWhileInclusive / fsxContent:  / errors: [] / typeErrorCount: 0\r\n",
      "00:00:15 #61 [Debug] buildFile / takeWhileInclusive / fsxContent:  / errors: [] / typeErrorCount: 0\r\n",
      "00:00:15 #62 [Debug] sendJson / port: 13805 / json: {\"FileOpen\":{\"spiText\":\"inl app () =\\n    0i32\\n\\ninl a = 1\\n\\ninl main () =\\n    app\\n    |\\u003E dyn\\n    |\\u003E ignore\\n\",\"uri\":\"file:///C:\\\\Users\\\\i574n\\\\AppData\\\\Local\\\\Temp\\\\!dotnet-repl\\\\20240217-1336-4604-0422-06400a24bd7c\\\\main.spi\"}} / result.Length:\r\n",
      "00:00:15 #63 [Debug] sendJson / port: 13805 / json: {\"BuildFile\":{\"backend\":\"Fsharp\",\"uri\":\"file:///C:\\\\Users\\\\i574n\\\\AppData\\\\Local\\\\Temp\\\\!dotnet-repl\\\\20240217-1336-4604-0422-06400a24bd7c\\\\main.spi\"}} / result.Length:\r\n",
      "00:00:15 #64 [Verbose] > Building C:\\Users\\i574n\\AppData\\Local\\Temp\\!dotnet-repl\\20240217-1336-4604-0422-06400a24bd7c\\main.spi\r\n",
      "00:00:15 #65 [Debug] buildFile / takeWhileInclusive / fsxContent:  / errors: [(main.spi:\n",
      "Global inl/let statements should all return functions known at parse time., ParserErrors\n",
      "  { errors =\n",
      "     [(({ character = 0\n",
      "          line = 3 }, { character = 9\n",
      "                        line = 3 }),\n",
      "       \"Global inl/let statements should all return functions known at parse time.\")]\n",
      "    uri =\n",
      "     \"file:///C:\\Users\\i574n\\AppData\\Local\\Temp\\!dotnet-repl\\20240217-1336-4604-0422-06400a24bd7c\\main.spi\" })] / typeErrorCount: 0\r\n",
      "00:00:15 #66 [Debug] watchWithFilter / Disposing watch stream / filter: FileName, LastWrite\r\n",
      "FSharpOption<Tuple<FSharpOption<String>,FSharpList<String>>>\r\n",
      "      Value:       - <null>\r\n",
      "      - [ main.spi:\n",
      "Global inl/let statements should all return functions known at parse time. ]\r\n"
     ]
    }
   ],
   "source": [
    "//// test\n",
    "\n",
    "\"inl app () =\n",
    "    0i32\n",
    "\n",
    "inl a = 1\n",
    "\n",
    "inl main () =\n",
    "    app\n",
    "    |> dyn\n",
    "    |> ignore\n",
    "\"\n",
    "|> buildCode 10000 None\n",
    "|> Async.runWithTimeout 10000\n",
    "|> Option.map (fun (fsxContent, errors) -> fsxContent, errors |> List.map fst)\n",
    "|> _equal (\n",
    "    Some (\n",
    "        None,\n",
    "        [ \"main.spi:\n",
    "Global inl/let statements should all return functions known at parse time.\" ]\n",
    "    )\n",
    ")"
   ]
  },
  {
   "cell_type": "code",
   "execution_count": null,
   "metadata": {
    "dotnet_interactive": {
     "language": "fsharp"
    },
    "polyglot_notebook": {
     "kernelName": "fsharp"
    }
   },
   "outputs": [
    {
     "name": "stdout",
     "output_type": "stream",
     "text": [
      "00:00:16 #67 [Debug] runWithTimeoutAsync / timeout: 60\r\n",
      "00:00:16 #69 [Debug] executeAsync / options: { Command =\n",
      "   \"dotnet \"C:\\home\\git\\polyglot\\deps\\The-Spiral-Language\\The Spiral Language 2\\artifacts\\bin\\The Spiral Language 2\\release\\Spiral.dll\" --port 13805 --default-int i32 --default-float f64\"\n",
      "  WorkingDirectory = None\n",
      "  CancellationToken = Some System.Threading.CancellationToken\n",
      "  OnLine = Some <fun:buildCode@3-983> }\r\n",
      "00:00:16 #70 [Verbose] > pwd: C:\\home\\git\\polyglot\\apps\\spiral\r\n",
      "00:00:16 #71 [Verbose] > dll_path: C:\\home\\git\\polyglot\\deps\\The-Spiral-Language\\The Spiral Language 2\\artifacts\\bin\\The Spiral Language 2\\release\r\n",
      "00:00:16 #72 [Verbose] > Starting the Spiral Server. It is bound to: http://localhost:13805\r\n",
      "00:00:17 #73 [Debug] runWithTimeoutAsync / timeout: 500\r\n",
      "00:00:17 #74 [Verbose] waitForPortAccess / port: 13805 / retry: 0\r\n",
      "00:00:17 #76 [Debug] sendJson / port: 13805 / json: {\"Ping\":true} / result.Length:\r\n",
      "00:00:17 #77 [Verbose] awaitCompiler / Ping / result: Some(null) / port: 13805 / retry: 0\r\n",
      "00:00:17 #78 [Verbose] > Server bound to: http://localhost:13805\r\n",
      "00:00:17 #79 [Debug] buildFile / takeWhileInclusive / fsxContent:  / errors: [] / typeErrorCount: 0\r\n",
      "00:00:17 #80 [Debug] buildFile / takeWhileInclusive / fsxContent:  / errors: [] / typeErrorCount: 0\r\n",
      "00:00:17 #81 [Debug] sendJson / port: 13805 / json: {\"FileOpen\":{\"spiText\":\"inl main () =\\n    1i32 / 0i32\\n\",\"uri\":\"file:///C:\\\\Users\\\\i574n\\\\AppData\\\\Local\\\\Temp\\\\!dotnet-repl\\\\20240217-1336-4794-9434-9fd35889fefc\\\\main.spi\"}} / result.Length:\r\n",
      "00:00:17 #82 [Debug] sendJson / port: 13805 / json: {\"BuildFile\":{\"backend\":\"Fsharp\",\"uri\":\"file:///C:\\\\Users\\\\i574n\\\\AppData\\\\Local\\\\Temp\\\\!dotnet-repl\\\\20240217-1336-4794-9434-9fd35889fefc\\\\main.spi\"}} / result.Length:\r\n",
      "00:00:17 #83 [Verbose] > Building C:\\Users\\i574n\\AppData\\Local\\Temp\\!dotnet-repl\\20240217-1336-4794-9434-9fd35889fefc\\main.spi\r\n",
      "00:00:18 #85 [Debug] buildFile / takeWhileInclusive / fsxContent:  / errors: [] / typeErrorCount: 0\r\n",
      "00:00:18 #86 [Debug] buildFile / takeWhileInclusive / fsxContent:  / errors: [(An attempt to divide by zero has been detected at compile time., TracedError\n",
      "  { message = \"An attempt to divide by zero has been detected at compile time.\"\n",
      "    trace =\n",
      "     [\"Error trace on line: 1, column: 10 in module: C:\\Users\\i574n\\AppData\\Local\\Temp\\!dotnet-repl\\20240217-1336-4794-9434-9fd35889fefc\\main.spi.\r\n",
      "inl main () =\r\n",
      "         ^\r\n",
      "\";\n",
      "      \"Error trace on line: 2, column: 5 in module: C:\\Users\\i574n\\AppData\\Local\\Temp\\!dotnet-repl\\20240217-1336-4794-9434-9fd35889fefc\\main.spi.\r\n",
      "    1i32 / 0i32\r\n",
      "    ^\r\n",
      "\"] })] / typeErrorCount: 0\r\n",
      "00:00:18 #87 [Debug] watchWithFilter / Disposing watch stream / filter: FileName, LastWrite\r\n",
      "FSharpOption<Tuple<FSharpOption<String>,FSharpList<String>>>\r\n",
      "      Value:       - <null>\r\n",
      "      - [ An attempt to divide by zero has been detected at compile time. ]\r\n"
     ]
    }
   ],
   "source": [
    "//// test\n",
    "\n",
    "\"\"\"inl main () =\n",
    "    1i32 / 0i32\n",
    "\"\"\"\n",
    "|> buildCode 10000 None\n",
    "|> Async.runWithTimeout 10000\n",
    "|> Option.map (fun (fsxContent, errors) -> fsxContent, errors |> List.map fst)\n",
    "|> _equal (\n",
    "    Some (\n",
    "        None,\n",
    "        [ \"An attempt to divide by zero has been detected at compile time.\" ]\n",
    "    )\n",
    ")"
   ]
  },
  {
   "cell_type": "code",
   "execution_count": null,
   "metadata": {
    "dotnet_interactive": {
     "language": "fsharp"
    },
    "polyglot_notebook": {
     "kernelName": "fsharp"
    }
   },
   "outputs": [
    {
     "name": "stdout",
     "output_type": "stream",
     "text": [
      "00:00:18 #88 [Debug] runWithTimeoutAsync / timeout: 60\r\n",
      "00:00:19 #89 [Debug] executeAsync / options: { Command =\n",
      "   \"dotnet \"C:\\home\\git\\polyglot\\deps\\The-Spiral-Language\\The Spiral Language 2\\artifacts\\bin\\The Spiral Language 2\\release\\Spiral.dll\" --port 13805 --default-int i32 --default-float f64\"\n",
      "  WorkingDirectory = None\n",
      "  CancellationToken = Some System.Threading.CancellationToken\n",
      "  OnLine = Some <fun:buildCode@3-983> }\r\n",
      "00:00:19 #91 [Verbose] > pwd: C:\\home\\git\\polyglot\\apps\\spiral\r\n",
      "00:00:19 #92 [Verbose] > dll_path: C:\\home\\git\\polyglot\\deps\\The-Spiral-Language\\The Spiral Language 2\\artifacts\\bin\\The Spiral Language 2\\release\r\n",
      "00:00:19 #93 [Verbose] > Starting the Spiral Server. It is bound to: http://localhost:13805\r\n",
      "00:00:19 #94 [Debug] runWithTimeoutAsync / timeout: 500\r\n",
      "00:00:19 #95 [Verbose] waitForPortAccess / port: 13805 / retry: 0\r\n",
      "00:00:20 #96 [Debug] sendJson / port: 13805 / json: {\"Ping\":true} / result.Length:\r\n",
      "00:00:20 #97 [Verbose] awaitCompiler / Ping / result: Some(null) / port: 13805 / retry: 0\r\n",
      "00:00:20 #98 [Verbose] > Server bound to: http://localhost:13805\r\n",
      "00:00:20 #99 [Debug] buildFile / takeWhileInclusive / fsxContent:  / errors: [] / typeErrorCount: 0\r\n",
      "00:00:20 #100 [Debug] buildFile / takeWhileInclusive / fsxContent:  / errors: [] / typeErrorCount: 0\r\n",
      "00:00:20 #101 [Debug] sendJson / port: 13805 / json: {\"FileOpen\":{\"spiText\":\"inl main () =\\n    1 \\u002B \\u0022\\u0022\\n\",\"uri\":\"file:///C:\\\\Users\\\\i574n\\\\AppData\\\\Local\\\\Temp\\\\!dotnet-repl\\\\20240217-1336-5060-6096-6825c20f36d2\\\\main.spi\"}} / result.Length:\r\n",
      "00:00:20 #102 [Debug] sendJson / port: 13805 / json: {\"BuildFile\":{\"backend\":\"Fsharp\",\"uri\":\"file:///C:\\\\Users\\\\i574n\\\\AppData\\\\Local\\\\Temp\\\\!dotnet-repl\\\\20240217-1336-5060-6096-6825c20f36d2\\\\main.spi\"}} / result.Length:\r\n",
      "00:00:20 #104 [Verbose] > Building C:\\Users\\i574n\\AppData\\Local\\Temp\\!dotnet-repl\\20240217-1336-5060-6096-6825c20f36d2\\main.spi\r\n",
      "00:00:21 #105 [Debug] buildFile / takeWhileInclusive / fsxContent:  / errors: [] / typeErrorCount: 0\r\n",
      "00:00:21 #106 [Debug] buildFile / takeWhileInclusive / fsxContent:  / errors: [] / typeErrorCount: 1\r\n",
      "00:00:21 #107 [Debug] buildFile / takeWhileInclusive / fsxContent:  / errors: [(main.spi:\n",
      "Constraint satisfaction error.\n",
      "Got: string\n",
      "Fails to satisfy: number, TypeErrors\n",
      "  { errors =\n",
      "     [(({ character = 8\n",
      "          line = 1 }, { character = 10\n",
      "                        line = 1 }),\n",
      "       \"Constraint satisfaction error.\n",
      "Got: string\n",
      "Fails to satisfy: number\")]\n",
      "    uri =\n",
      "     \"file:///C:\\Users\\i574n\\AppData\\Local\\Temp\\!dotnet-repl\\20240217-1336-5060-6096-6825c20f36d2\\main.spi\" })] / typeErrorCount: 1\r\n",
      "00:00:21 #108 [Debug] watchWithFilter / Disposing watch stream / filter: FileName, LastWrite\r\n",
      "FSharpOption<Tuple<FSharpOption<String>,FSharpList<String>>>\r\n",
      "      Value:       - <null>\r\n",
      "      - [ main.spi:\n",
      "Constraint satisfaction error.\n",
      "Got: string\n",
      "Fails to satisfy: number ]\r\n"
     ]
    }
   ],
   "source": [
    "//// test\n",
    "\n",
    "\"\"\"inl main () =\n",
    "    1 + \"\"\n",
    "\"\"\"\n",
    "|> buildCode 10000 None\n",
    "|> Async.runWithTimeout 10000\n",
    "|> Option.map (fun (fsxContent, errors) -> fsxContent, errors |> List.map fst)\n",
    "|> _equal (\n",
    "    Some (\n",
    "        None,\n",
    "        [\n",
    "            \"main.spi:\n",
    "Constraint satisfaction error.\n",
    "Got: string\n",
    "Fails to satisfy: number\"\n",
    "        ]\n",
    "    )\n",
    ")"
   ]
  },
  {
   "cell_type": "code",
   "execution_count": null,
   "metadata": {
    "dotnet_interactive": {
     "language": "fsharp"
    },
    "polyglot_notebook": {
     "kernelName": "fsharp"
    }
   },
   "outputs": [
    {
     "name": "stdout",
     "output_type": "stream",
     "text": [
      "00:00:21 #110 [Debug] runWithTimeoutAsync / timeout: 60\r\n",
      "00:00:21 #111 [Debug] executeAsync / options: { Command =\n",
      "   \"dotnet \"C:\\home\\git\\polyglot\\deps\\The-Spiral-Language\\The Spiral Language 2\\artifacts\\bin\\The Spiral Language 2\\release\\Spiral.dll\" --port 13805 --default-int i32 --default-float f64\"\n",
      "  WorkingDirectory = None\n",
      "  CancellationToken = Some System.Threading.CancellationToken\n",
      "  OnLine = Some <fun:buildCode@3-983> }\r\n",
      "00:00:21 #112 [Verbose] > pwd: C:\\home\\git\\polyglot\\apps\\spiral\r\n",
      "00:00:21 #113 [Verbose] > dll_path: C:\\home\\git\\polyglot\\deps\\The-Spiral-Language\\The Spiral Language 2\\artifacts\\bin\\The Spiral Language 2\\release\r\n",
      "00:00:22 #114 [Verbose] > Starting the Spiral Server. It is bound to: http://localhost:13805\r\n",
      "00:00:22 #115 [Debug] runWithTimeoutAsync / timeout: 500\r\n",
      "00:00:22 #116 [Verbose] waitForPortAccess / port: 13805 / retry: 0\r\n",
      "00:00:22 #118 [Debug] sendJson / port: 13805 / json: {\"Ping\":true} / result.Length:\r\n",
      "00:00:22 #119 [Verbose] awaitCompiler / Ping / result: Some(null) / port: 13805 / retry: 0\r\n",
      "00:00:22 #120 [Verbose] > Server bound to: http://localhost:13805\r\n",
      "00:00:22 #121 [Debug] buildFile / takeWhileInclusive / fsxContent:  / errors: [] / typeErrorCount: 0\r\n",
      "00:00:22 #122 [Debug] buildFile / takeWhileInclusive / fsxContent:  / errors: [] / typeErrorCount: 0\r\n",
      "00:00:22 #123 [Debug] sendJson / port: 13805 / json: {\"FileOpen\":{\"spiText\":\"inl main () =\\n    x \\u002B y\\n\",\"uri\":\"file:///C:\\\\Users\\\\i574n\\\\AppData\\\\Local\\\\Temp\\\\!dotnet-repl\\\\20240217-1336-5318-1838-1e8eadd34b71\\\\main.spi\"}} / result.Length:\r\n",
      "00:00:22 #124 [Debug] sendJson / port: 13805 / json: {\"BuildFile\":{\"backend\":\"Fsharp\",\"uri\":\"file:///C:\\\\Users\\\\i574n\\\\AppData\\\\Local\\\\Temp\\\\!dotnet-repl\\\\20240217-1336-5318-1838-1e8eadd34b71\\\\main.spi\"}} / result.Length:\r\n",
      "00:00:22 #125 [Verbose] > Building C:\\Users\\i574n\\AppData\\Local\\Temp\\!dotnet-repl\\20240217-1336-5318-1838-1e8eadd34b71\\main.spi\r\n",
      "00:00:23 #127 [Debug] buildFile / takeWhileInclusive / fsxContent:  / errors: [] / typeErrorCount: 0\r\n",
      "00:00:23 #128 [Debug] buildFile / takeWhileInclusive / fsxContent:  / errors: [] / typeErrorCount: 1\r\n",
      "00:00:23 #129 [Debug] buildFile / takeWhileInclusive / fsxContent:  / errors: [(main.spi:\n",
      "Unbound variable: x.\n",
      "Unbound variable: y., TypeErrors\n",
      "  { errors =\n",
      "     [(({ character = 4\n",
      "          line = 1 }, { character = 5\n",
      "                        line = 1 }), \"Unbound variable: x.\");\n",
      "      (({ character = 8\n",
      "          line = 1 }, { character = 9\n",
      "                        line = 1 }), \"Unbound variable: y.\")]\n",
      "    uri =\n",
      "     \"file:///C:\\Users\\i574n\\AppData\\Local\\Temp\\!dotnet-repl\\20240217-1336-5318-1838-1e8eadd34b71\\main.spi\" })] / typeErrorCount: 1\r\n",
      "00:00:23 #130 [Debug] watchWithFilter / Disposing watch stream / filter: FileName, LastWrite\r\n",
      "FSharpOption<Tuple<FSharpOption<String>,FSharpList<String>>>\r\n",
      "      Value:       - <null>\r\n",
      "      - [ main.spi:\n",
      "Unbound variable: x.\n",
      "Unbound variable: y. ]\r\n"
     ]
    }
   ],
   "source": [
    "//// test\n",
    "\n",
    "\"\"\"inl main () =\n",
    "    x + y\n",
    "\"\"\"\n",
    "|> buildCode 10000 None\n",
    "|> Async.runWithTimeout 10000\n",
    "|> Option.map (fun (fsxContent, errors) -> fsxContent, errors |> List.map fst)\n",
    "|> _equal (\n",
    "    Some (\n",
    "        None,\n",
    "        [\n",
    "            \"main.spi:\n",
    "Unbound variable: x.\n",
    "Unbound variable: y.\"\n",
    "        ]\n",
    "    )\n",
    ")"
   ]
  },
  {
   "cell_type": "code",
   "execution_count": null,
   "metadata": {
    "dotnet_interactive": {
     "language": "fsharp"
    },
    "polyglot_notebook": {
     "kernelName": "fsharp"
    }
   },
   "outputs": [
    {
     "name": "stdout",
     "output_type": "stream",
     "text": [
      "00:00:24 #131 [Debug] runWithTimeoutAsync / timeout: 60\r\n",
      "00:00:24 #132 [Debug] executeAsync / options: { Command =\n",
      "   \"dotnet \"C:\\home\\git\\polyglot\\deps\\The-Spiral-Language\\The Spiral Language 2\\artifacts\\bin\\The Spiral Language 2\\release\\Spiral.dll\" --port 13805 --default-int i32 --default-float f64\"\n",
      "  WorkingDirectory = None\n",
      "  CancellationToken = Some System.Threading.CancellationToken\n",
      "  OnLine = Some <fun:buildCode@3-983> }\r\n",
      "00:00:24 #134 [Verbose] > pwd: C:\\home\\git\\polyglot\\apps\\spiral\r\n",
      "00:00:24 #135 [Verbose] > dll_path: C:\\home\\git\\polyglot\\deps\\The-Spiral-Language\\The Spiral Language 2\\artifacts\\bin\\The Spiral Language 2\\release\r\n",
      "00:00:24 #136 [Verbose] > Starting the Spiral Server. It is bound to: http://localhost:13805\r\n",
      "00:00:24 #137 [Debug] runWithTimeoutAsync / timeout: 500\r\n",
      "00:00:25 #138 [Debug] sendJson / port: 13805 / json: {\"Ping\":true} / result.Length:\r\n",
      "00:00:25 #139 [Verbose] awaitCompiler / Ping / result: Some(null) / port: 13805 / retry: 0\r\n",
      "00:00:25 #140 [Verbose] > Server bound to: http://localhost:13805\r\n",
      "00:00:25 #141 [Debug] buildFile / takeWhileInclusive / fsxContent:  / errors: [] / typeErrorCount: 0\r\n",
      "00:00:25 #142 [Debug] buildFile / takeWhileInclusive / fsxContent:  / errors: [] / typeErrorCount: 0\r\n",
      "00:00:25 #143 [Debug] sendJson / port: 13805 / json: {\"FileOpen\":{\"spiText\":\"union a =\\n    | B\\n    | c\\n\\ninl main () =\\n    ()\\n\",\"uri\":\"file:///C:\\\\Users\\\\i574n\\\\AppData\\\\Local\\\\Temp\\\\!dotnet-repl\\\\20240217-1336-5566-6622-6d599f695f39\\\\main.spi\"}} / result.Length:\r\n",
      "00:00:25 #144 [Debug] sendJson / port: 13805 / json: {\"BuildFile\":{\"backend\":\"Fsharp\",\"uri\":\"file:///C:\\\\Users\\\\i574n\\\\AppData\\\\Local\\\\Temp\\\\!dotnet-repl\\\\20240217-1336-5566-6622-6d599f695f39\\\\main.spi\"}} / result.Length:\r\n",
      "00:00:25 #145 [Verbose] > Building C:\\Users\\i574n\\AppData\\Local\\Temp\\!dotnet-repl\\20240217-1336-5566-6622-6d599f695f39\\main.spi\r\n",
      "00:00:25 #147 [Debug] buildFile / takeWhileInclusive / fsxContent:  / errors: [(main.spi:\n",
      "Expected: uppercase variable, ParserErrors\n",
      "  { errors = [(({ character = 6\n",
      "                  line = 2 }, { character = 7\n",
      "                                line = 2 }), \"Expected: uppercase variable\")]\n",
      "    uri =\n",
      "     \"file:///C:\\Users\\i574n\\AppData\\Local\\Temp\\!dotnet-repl\\20240217-1336-5566-6622-6d599f695f39\\main.spi\" })] / typeErrorCount: 0\r\n",
      "00:00:25 #148 [Debug] watchWithFilter / Disposing watch stream / filter: FileName, LastWrite\r\n",
      "FSharpOption<Tuple<FSharpOption<String>,FSharpList<String>>>\r\n",
      "      Value:       - <null>\r\n",
      "      - [ main.spi:\n",
      "Expected: uppercase variable ]\r\n"
     ]
    }
   ],
   "source": [
    "//// test\n",
    "\n",
    "\"\"\"union a =\n",
    "    | B\n",
    "    | c\n",
    "\n",
    "inl main () =\n",
    "    ()\n",
    "\"\"\"\n",
    "|> buildCode 10000 None\n",
    "|> Async.runWithTimeout 10000\n",
    "|> Option.map (fun (fsxContent, errors) -> fsxContent, errors |> List.map fst)\n",
    "|> _equal (\n",
    "    Some (\n",
    "        None,\n",
    "        [ \"main.spi:\n",
    "Expected: uppercase variable\" ]\n",
    "    )\n",
    ")"
   ]
  },
  {
   "cell_type": "code",
   "execution_count": null,
   "metadata": {
    "dotnet_interactive": {
     "language": "fsharp"
    },
    "polyglot_notebook": {
     "kernelName": "fsharp"
    }
   },
   "outputs": [
    {
     "name": "stdout",
     "output_type": "stream",
     "text": [
      "00:00:25 #149 [Debug] runWithTimeoutAsync / timeout: 60\r\n",
      "00:00:25 #150 [Debug] executeAsync / options: { Command =\n",
      "   \"dotnet \"C:\\home\\git\\polyglot\\deps\\The-Spiral-Language\\The Spiral Language 2\\artifacts\\bin\\The Spiral Language 2\\release\\Spiral.dll\" --port 13805 --default-int i32 --default-float f64\"\n",
      "  WorkingDirectory = None\n",
      "  CancellationToken = Some System.Threading.CancellationToken\n",
      "  OnLine = Some <fun:buildCode@3-983> }\r\n",
      "00:00:26 #151 [Verbose] > pwd: C:\\home\\git\\polyglot\\apps\\spiral\r\n",
      "00:00:26 #152 [Verbose] > dll_path: C:\\home\\git\\polyglot\\deps\\The-Spiral-Language\\The Spiral Language 2\\artifacts\\bin\\The Spiral Language 2\\release\r\n",
      "00:00:26 #154 [Verbose] > Starting the Spiral Server. It is bound to: http://localhost:13805\r\n",
      "00:00:26 #155 [Debug] runWithTimeoutAsync / timeout: 500\r\n",
      "00:00:26 #156 [Verbose] waitForPortAccess / port: 13805 / retry: 0\r\n",
      "00:00:26 #157 [Debug] sendJson / port: 13805 / json: {\"Ping\":true} / result.Length:\r\n",
      "00:00:26 #158 [Verbose] awaitCompiler / Ping / result: Some(null) / port: 13805 / retry: 0\r\n",
      "00:00:26 #159 [Verbose] > Server bound to: http://localhost:13805\r\n",
      "00:00:26 #160 [Debug] buildFile / takeWhileInclusive / fsxContent:  / errors: [] / typeErrorCount: 0\r\n",
      "00:00:26 #161 [Debug] buildFile / takeWhileInclusive / fsxContent:  / errors: [] / typeErrorCount: 0\r\n",
      "00:00:26 #162 [Debug] sendJson / port: 13805 / json: {\"FileOpen\":{\"spiText\":\"\\n/// abc\\ninl main () =\\n    ()\\n\",\"uri\":\"file:///C:\\\\Users\\\\i574n\\\\AppData\\\\Local\\\\Temp\\\\!dotnet-repl\\\\20240217-1336-5752-5211-56a4e761c7ca\\\\main.spi\"}} / result.Length:\r\n",
      "00:00:27 #163 [Debug] sendJson / port: 13805 / json: {\"BuildFile\":{\"backend\":\"Fsharp\",\"uri\":\"file:///C:\\\\Users\\\\i574n\\\\AppData\\\\Local\\\\Temp\\\\!dotnet-repl\\\\20240217-1336-5752-5211-56a4e761c7ca\\\\main.spi\"}} / result.Length:\r\n",
      "00:00:27 #164 [Debug] buildFile / takeWhileInclusive / fsxContent:  / errors: [(main.spi:\n",
      "Expected: whitespace, TokenizerErrors\n",
      "  { errors = [(({ character = 2\n",
      "                  line = 1 }, { character = 3\n",
      "                                line = 1 }), \"Expected: whitespace\")]\n",
      "    uri =\n",
      "     \"file:///C:\\Users\\i574n\\AppData\\Local\\Temp\\!dotnet-repl\\20240217-1336-5752-5211-56a4e761c7ca\\main.spi\" })] / typeErrorCount: 0\r\n",
      "00:00:27 #165 [Debug] watchWithFilter / Disposing watch stream / filter: FileName, LastWrite\r\n",
      "FSharpOption<Tuple<FSharpOption<String>,FSharpList<String>>>\r\n",
      "      Value:       - <null>\r\n",
      "      - [ main.spi:\n",
      "Expected: whitespace ]\r\n"
     ]
    }
   ],
   "source": [
    "//// test\n",
    "\n",
    "\"\"\"\n",
    "/// abc\n",
    "inl main () =\n",
    "    ()\n",
    "\"\"\"\n",
    "|> buildCode 10000 None\n",
    "|> Async.runWithTimeout 10000\n",
    "|> Option.map (fun (fsxContent, errors) -> fsxContent, errors |> List.map fst)\n",
    "|> _equal (\n",
    "    Some (\n",
    "        None,\n",
    "        [ \"main.spi:\n",
    "Expected: whitespace\" ]\n",
    "    )\n",
    ")"
   ]
  },
  {
   "cell_type": "code",
   "execution_count": null,
   "metadata": {
    "dotnet_interactive": {
     "language": "fsharp"
    },
    "polyglot_notebook": {
     "kernelName": "fsharp"
    }
   },
   "outputs": [
    {
     "name": "stdout",
     "output_type": "stream",
     "text": [
      "00:00:27 #167 [Debug] runWithTimeoutAsync / timeout: 60\r\n",
      "00:00:27 #168 [Debug] executeAsync / options: { Command =\n",
      "   \"dotnet \"C:\\home\\git\\polyglot\\deps\\The-Spiral-Language\\The Spiral Language 2\\artifacts\\bin\\The Spiral Language 2\\release\\Spiral.dll\" --port 13805 --default-int i32 --default-float f64\"\n",
      "  WorkingDirectory = None\n",
      "  CancellationToken = Some System.Threading.CancellationToken\n",
      "  OnLine = Some <fun:buildCode@3-983> }\r\n",
      "00:00:27 #169 [Verbose] > pwd: C:\\home\\git\\polyglot\\apps\\spiral\r\n",
      "00:00:27 #170 [Verbose] > dll_path: C:\\home\\git\\polyglot\\deps\\The-Spiral-Language\\The Spiral Language 2\\artifacts\\bin\\The Spiral Language 2\\release\r\n",
      "00:00:28 #171 [Verbose] > Starting the Spiral Server. It is bound to: http://localhost:13805\r\n",
      "00:00:28 #173 [Debug] runWithTimeoutAsync / timeout: 500\r\n",
      "00:00:28 #174 [Verbose] waitForPortAccess / port: 13805 / retry: 0\r\n",
      "00:00:28 #175 [Debug] sendJson / port: 13805 / json: {\"Ping\":true} / result.Length:\r\n",
      "00:00:28 #176 [Verbose] awaitCompiler / Ping / result: Some(null) / port: 13805 / retry: 0\r\n",
      "00:00:28 #177 [Verbose] > Server bound to: http://localhost:13805\r\n",
      "00:00:28 #178 [Debug] buildFile / takeWhileInclusive / fsxContent:  / errors: [] / typeErrorCount: 0\r\n",
      "00:00:28 #179 [Debug] buildFile / takeWhileInclusive / fsxContent:  / errors: [] / typeErrorCount: 0\r\n",
      "00:00:28 #180 [Debug] sendJson / port: 13805 / json: {\"FileOpen\":{\"spiText\":\"\\ninl main () =\\n    real\\n        inl real_unbox forall a. (obj : a) : a =\\n            typecase obj with\\n            | _ =\\u003E obj\\n        real_unbox ()\\n    ()\\n\",\"uri\":\"file:///C:\\\\Users\\\\i574n\\\\AppData\\\\Local\\\\Temp\\\\!dotnet-repl\\\\20240217-1336-5917-1724-19f40576fc53\\\\main.spi\"}} / result.Length:\r\n",
      "00:00:28 #181 [Debug] sendJson / port: 13805 / json: {\"BuildFile\":{\"backend\":\"Fsharp\",\"uri\":\"file:///C:\\\\Users\\\\i574n\\\\AppData\\\\Local\\\\Temp\\\\!dotnet-repl\\\\20240217-1336-5917-1724-19f40576fc53\\\\main.spi\"}} / result.Length:\r\n",
      "00:00:28 #182 [Verbose] > Building C:\\Users\\i574n\\AppData\\Local\\Temp\\!dotnet-repl\\20240217-1336-5917-1724-19f40576fc53\\main.spi\r\n",
      "00:00:29 #184 [Debug] buildFile / takeWhileInclusive / fsxContent:  / errors: [] / typeErrorCount: 0\r\n",
      "00:00:30 #185 [Debug] buildFile / takeWhileInclusive / fsxContent:  / errors: [(Cannot apply a forall with a term., TracedError\n",
      "  { message = \"Cannot apply a forall with a term.\"\n",
      "    trace =\n",
      "     [\"Error trace on line: 2, column: 10 in module: C:\\Users\\i574n\\AppData\\Local\\Temp\\!dotnet-repl\\20240217-1336-5917-1724-19f40576fc53\\main.spi.\r\n",
      "inl main () =\r\n",
      "         ^\r\n",
      "\";\n",
      "      \"Error trace on line: 4, column: 9 in module: C:\\Users\\i574n\\AppData\\Local\\Temp\\!dotnet-repl\\20240217-1336-5917-1724-19f40576fc53\\main.spi.\r\n",
      "        inl real_unbox forall a. (obj : a) : a =\r\n",
      "        ^\r\n",
      "\";\n",
      "      \"Error trace on line: 7, column: 9 in module: C:\\Users\\i574n\\AppData\\Local\\Temp\\!dotnet-repl\\20240217-1336-5917-1724-19f40576fc53\\main.spi.\r\n",
      "        real_unbox ()\r\n",
      "        ^\r\n",
      "\"] })] / typeErrorCount: 0\r\n",
      "00:00:30 #186 [Debug] watchWithFilter / Disposing watch stream / filter: FileName, LastWrite\r\n",
      "FSharpOption<Tuple<FSharpOption<String>,FSharpList<String>>>\r\n",
      "      Value:       - <null>\r\n",
      "      - [ Cannot apply a forall with a term. ]\r\n"
     ]
    }
   ],
   "source": [
    "//// test\n",
    "\n",
    "\"\"\"\n",
    "inl main () =\n",
    "    real\n",
    "        inl real_unbox forall a. (obj : a) : a =\n",
    "            typecase obj with\n",
    "            | _ => obj\n",
    "        real_unbox ()\n",
    "    ()\n",
    "\"\"\"\n",
    "|> buildCode 10000 None\n",
    "|> Async.runWithTimeout 10000\n",
    "|> Option.map (fun (fsxContent, errors) -> fsxContent, errors |> List.map fst)\n",
    "|> _equal (\n",
    "    Some (\n",
    "        None,\n",
    "        [ \"Cannot apply a forall with a term.\" ]\n",
    "    )\n",
    ")"
   ]
  },
  {
   "cell_type": "code",
   "execution_count": null,
   "metadata": {
    "dotnet_interactive": {
     "language": "fsharp"
    },
    "polyglot_notebook": {
     "kernelName": "fsharp"
    }
   },
   "outputs": [
    {
     "name": "stdout",
     "output_type": "stream",
     "text": [
      "00:00:30 #187 [Debug] runWithTimeoutAsync / timeout: 60\r\n",
      "00:00:30 #188 [Debug] executeAsync / options: { Command =\n",
      "   \"dotnet \"C:\\home\\git\\polyglot\\deps\\The-Spiral-Language\\The Spiral Language 2\\artifacts\\bin\\The Spiral Language 2\\release\\Spiral.dll\" --port 13805 --default-int i32 --default-float f64\"\n",
      "  WorkingDirectory = None\n",
      "  CancellationToken = Some System.Threading.CancellationToken\n",
      "  OnLine = Some <fun:buildCode@3-983> }\r\n",
      "00:00:30 #190 [Verbose] > pwd: C:\\home\\git\\polyglot\\apps\\spiral\r\n",
      "00:00:30 #191 [Verbose] > dll_path: C:\\home\\git\\polyglot\\deps\\The-Spiral-Language\\The Spiral Language 2\\artifacts\\bin\\The Spiral Language 2\\release\r\n",
      "00:00:31 #192 [Verbose] > Starting the Spiral Server. It is bound to: http://localhost:13805\r\n",
      "00:00:31 #193 [Debug] runWithTimeoutAsync / timeout: 500\r\n",
      "00:00:31 #194 [Verbose] waitForPortAccess / port: 13805 / retry: 0\r\n",
      "00:00:31 #195 [Debug] sendJson / port: 13805 / json: {\"Ping\":true} / result.Length:\r\n",
      "00:00:31 #196 [Verbose] awaitCompiler / Ping / result: Some(null) / port: 13805 / retry: 0\r\n",
      "00:00:31 #197 [Verbose] > Server bound to: http://localhost:13805\r\n",
      "00:00:31 #198 [Debug] buildFile / takeWhileInclusive / fsxContent:  / errors: [] / typeErrorCount: 0\r\n",
      "00:00:31 #199 [Debug] buildFile / takeWhileInclusive / fsxContent:  / errors: [] / typeErrorCount: 0\r\n",
      "00:00:31 #201 [Debug] sendJson / port: 13805 / json: {\"FileOpen\":{\"spiText\":\"\\ninl main () =\\n    real\\n        inl real_unbox forall a. (obj : a) : a =\\n            typecase obj with\\n            | _ =\\u003E obj\\n        real_unbox \\u0060i32 1\\n\",\"uri\":\"file:///C:\\\\Users\\\\i574n\\\\AppData\\\\Local\\\\Temp\\\\!dotnet-repl\\\\20240217-1337-0201-0196-09db240a29ca\\\\main.spi\"}} / result.Length:\r\n",
      "00:00:31 #202 [Debug] sendJson / port: 13805 / json: {\"BuildFile\":{\"backend\":\"Fsharp\",\"uri\":\"file:///C:\\\\Users\\\\i574n\\\\AppData\\\\Local\\\\Temp\\\\!dotnet-repl\\\\20240217-1337-0201-0196-09db240a29ca\\\\main.spi\"}} / result.Length:\r\n",
      "00:00:31 #203 [Verbose] > Building C:\\Users\\i574n\\AppData\\Local\\Temp\\!dotnet-repl\\20240217-1337-0201-0196-09db240a29ca\\main.spi\r\n",
      "00:00:32 #204 [Debug] buildFile / takeWhileInclusive / fsxContent:  / errors: [] / typeErrorCount: 0\r\n",
      "00:00:32 #206 [Debug] buildFile / takeWhileInclusive / fsxContent:  / errors: [(The main function should not have a forall., TracedError { message = \"The main function should not have a forall.\"\n",
      "              trace = [] })] / typeErrorCount: 0\r\n",
      "00:00:32 #207 [Debug] watchWithFilter / Disposing watch stream / filter: FileName, LastWrite\r\n",
      "FSharpOption<Tuple<FSharpOption<String>,FSharpList<String>>>\r\n",
      "      Value:       - <null>\r\n",
      "      - [ The main function should not have a forall. ]\r\n"
     ]
    }
   ],
   "source": [
    "//// test\n",
    "\n",
    "\"\"\"\n",
    "inl main () =\n",
    "    real\n",
    "        inl real_unbox forall a. (obj : a) : a =\n",
    "            typecase obj with\n",
    "            | _ => obj\n",
    "        real_unbox `i32 1\n",
    "\"\"\"\n",
    "|> buildCode 10000 None\n",
    "|> Async.runWithTimeout 10000\n",
    "|> Option.map (fun (fsxContent, errors) -> fsxContent, errors |> List.map fst)\n",
    "|> _equal (\n",
    "    Some (\n",
    "        None,\n",
    "        [ \"The main function should not have a forall.\" ]\n",
    "    )\n",
    ")"
   ]
  },
  {
   "cell_type": "code",
   "execution_count": null,
   "metadata": {
    "dotnet_interactive": {
     "language": "fsharp"
    },
    "polyglot_notebook": {
     "kernelName": "fsharp"
    }
   },
   "outputs": [
    {
     "name": "stdout",
     "output_type": "stream",
     "text": [
      "00:00:32 #208 [Debug] runWithTimeoutAsync / timeout: 60\r\n",
      "00:00:33 #209 [Debug] executeAsync / options: { Command =\n",
      "   \"dotnet \"C:\\home\\git\\polyglot\\deps\\The-Spiral-Language\\The Spiral Language 2\\artifacts\\bin\\The Spiral Language 2\\release\\Spiral.dll\" --port 13805 --default-int i32 --default-float f64\"\n",
      "  WorkingDirectory = None\n",
      "  CancellationToken = Some System.Threading.CancellationToken\n",
      "  OnLine = Some <fun:buildCode@3-983> }\r\n",
      "00:00:33 #210 [Verbose] > pwd: C:\\home\\git\\polyglot\\apps\\spiral\r\n",
      "00:00:33 #211 [Verbose] > dll_path: C:\\home\\git\\polyglot\\deps\\The-Spiral-Language\\The Spiral Language 2\\artifacts\\bin\\The Spiral Language 2\\release\r\n",
      "00:00:33 #213 [Verbose] > Starting the Spiral Server. It is bound to: http://localhost:13805\r\n",
      "00:00:33 #214 [Debug] runWithTimeoutAsync / timeout: 500\r\n",
      "00:00:33 #215 [Verbose] waitForPortAccess / port: 13805 / retry: 0\r\n",
      "00:00:34 #216 [Debug] sendJson / port: 13805 / json: {\"Ping\":true} / result.Length:\r\n",
      "00:00:34 #217 [Verbose] awaitCompiler / Ping / result: Some(null) / port: 13805 / retry: 0\r\n",
      "00:00:34 #218 [Verbose] > Server bound to: http://localhost:13805\r\n",
      "00:00:34 #219 [Debug] buildFile / takeWhileInclusive / fsxContent:  / errors: [] / typeErrorCount: 0\r\n",
      "00:00:34 #220 [Debug] buildFile / takeWhileInclusive / fsxContent:  / errors: [] / typeErrorCount: 0\r\n",
      "00:00:34 #221 [Debug] sendJson / port: 13805 / json: {\"FileOpen\":{\"spiText\":\"\\ninl init_series start end inc =\\n    inl total : f64 = conv ((end - start) / inc) \\u002B 1\\n    listm.init total (conv \\u003E\\u003E (*) inc \\u003E\\u003E (\\u002B) start) : list f64\\n\\ntype integration = (f64 -\\u003E f64) -\\u003E f64 -\\u003E f64 -\\u003E f64\\n\\ninl integral dt : integration =\\n    fun f a b =\\u003E\\n        init_series (a \\u002B dt / 2) (b - dt / 2) dt\\n        |\\u003E listm.map (f \\u003E\\u003E (*) dt)\\n        |\\u003E listm.fold (\\u002B) 0\\n\\ninl main () =\\n    integral 0.1 (fun x =\\u003E x ** 2) 0 1\\n\",\"uri\":\"file:///C:\\\\Users\\\\i574n\\\\AppData\\\\Local\\\\Temp\\\\!dotnet-repl\\\\20240217-1337-0460-6071-67cd1db5a835\\\\main.spi\"}} / result.Length:\r\n",
      "00:00:34 #222 [Debug] sendJson / port: 13805 / json: {\"BuildFile\":{\"backend\":\"Fsharp\",\"uri\":\"file:///C:\\\\Users\\\\i574n\\\\AppData\\\\Local\\\\Temp\\\\!dotnet-repl\\\\20240217-1337-0460-6071-67cd1db5a835\\\\main.spi\"}} / result.Length:\r\n",
      "00:00:34 #223 [Verbose] > Building C:\\Users\\i574n\\AppData\\Local\\Temp\\!dotnet-repl\\20240217-1337-0460-6071-67cd1db5a835\\main.spi\r\n",
      "00:00:35 #225 [Debug] buildFile / takeWhileInclusive / fsxContent:  / errors: [] / typeErrorCount: 0\r\n",
      "00:00:35 #226 [Debug] buildFile / takeWhileInclusive / fsxContent: 0.3325000000000001\n",
      " / errors: [] / typeErrorCount: 0\r\n",
      "00:00:35 #227 [Debug] watchWithFilter / Disposing watch stream / filter: FileName, LastWrite\r\n",
      "FSharpOption<Tuple<FSharpOption<String>,FSharpList<String>>>\r\n",
      "      Value:       - FSharpOption<String>\r\n",
      "          Value: 0.3325000000000001\n",
      "\r\n",
      "      - [  ]\r\n"
     ]
    }
   ],
   "source": [
    "//// test\n",
    "\n",
    "\"\"\"\n",
    "inl init_series start end inc =\n",
    "    inl total : f64 = conv ((end - start) / inc) + 1\n",
    "    listm.init total (conv >> (*) inc >> (+) start) : list f64\n",
    "\n",
    "type integration = (f64 -> f64) -> f64 -> f64 -> f64\n",
    "\n",
    "inl integral dt : integration =\n",
    "    fun f a b =>\n",
    "        init_series (a + dt / 2) (b - dt / 2) dt\n",
    "        |> listm.map (f >> (*) dt)\n",
    "        |> listm.fold (+) 0\n",
    "\n",
    "inl main () =\n",
    "    integral 0.1 (fun x => x ** 2) 0 1\n",
    "\"\"\"\n",
    "|> buildCode 10000 None\n",
    "|> Async.runWithTimeout 10000\n",
    "|> Option.map (fun (fsxContent, errors) -> fsxContent, errors |> List.map fst)\n",
    "|> _equal (\n",
    "    Some (\n",
    "        Some \"0.3325000000000001\\n\",\n",
    "        []\n",
    "    )\n",
    ")"
   ]
  },
  {
   "cell_type": "code",
   "execution_count": null,
   "metadata": {
    "dotnet_interactive": {
     "language": "fsharp"
    },
    "polyglot_notebook": {
     "kernelName": "fsharp"
    }
   },
   "outputs": [
    {
     "data": {
      "text/html": [
       "<details open=\"open\" class=\"dni-treeview\"><summary><span class=\"dni-code-hint\"><code>Some((, []))</code></span></summary><div><table><thead><tr></tr></thead><tbody><tr><td>Value</td><td><details class=\"dni-treeview\"><summary><span class=\"dni-code-hint\"><code>(, [])</code></span></summary><div><table><thead><tr></tr></thead><tbody><tr><td>Item1</td><td><div class=\"dni-plaintext\"><pre>&lt;null&gt;</pre></div></td></tr><tr><td>Item2</td><td><div class=\"dni-plaintext\"><pre>[  ]</pre></div></td></tr></tbody></table></div></details></td></tr></tbody></table></div></details><style>\r\n",
       ".dni-code-hint {\r\n",
       "    font-style: italic;\r\n",
       "    overflow: hidden;\r\n",
       "    white-space: nowrap;\r\n",
       "}\r\n",
       ".dni-treeview {\r\n",
       "    white-space: nowrap;\r\n",
       "}\r\n",
       ".dni-treeview td {\r\n",
       "    vertical-align: top;\r\n",
       "    text-align: start;\r\n",
       "}\r\n",
       "details.dni-treeview {\r\n",
       "    padding-left: 1em;\r\n",
       "}\r\n",
       "table td {\r\n",
       "    text-align: start;\r\n",
       "}\r\n",
       "table tr { \r\n",
       "    vertical-align: top; \r\n",
       "    margin: 0em 0px;\r\n",
       "}\r\n",
       "table tr td pre \r\n",
       "{ \r\n",
       "    vertical-align: top !important; \r\n",
       "    margin: 0em 0px !important;\r\n",
       "} \r\n",
       "table th {\r\n",
       "    text-align: start;\r\n",
       "}\r\n",
       "</style>"
      ]
     },
     "metadata": {},
     "output_type": "display_data"
    },
    {
     "name": "stdout",
     "output_type": "stream",
     "text": [
      "00:00:35 #229 [Debug] runWithTimeoutAsync / timeout: 60\r\n",
      "00:00:35 #230 [Debug] executeAsync / options: { Command =\n",
      "   \"dotnet \"C:\\home\\git\\polyglot\\deps\\The-Spiral-Language\\The Spiral Language 2\\artifacts\\bin\\The Spiral Language 2\\release\\Spiral.dll\" --port 13805 --default-int i32 --default-float f64\"\n",
      "  WorkingDirectory = None\n",
      "  CancellationToken = Some System.Threading.CancellationToken\n",
      "  OnLine = Some <fun:buildCode@3-983> }\r\n",
      "00:00:36 #231 [Verbose] > pwd: C:\\home\\git\\polyglot\\apps\\spiral\r\n",
      "00:00:36 #232 [Verbose] > dll_path: C:\\home\\git\\polyglot\\deps\\The-Spiral-Language\\The Spiral Language 2\\artifacts\\bin\\The Spiral Language 2\\release\r\n",
      "00:00:36 #233 [Verbose] > Starting the Spiral Server. It is bound to: http://localhost:13805\r\n",
      "00:00:36 #235 [Debug] runWithTimeoutAsync / timeout: 500\r\n",
      "00:00:36 #236 [Verbose] waitForPortAccess / port: 13805 / retry: 0\r\n",
      "00:00:36 #237 [Debug] sendJson / port: 13805 / json: {\"Ping\":true} / result.Length:\r\n",
      "00:00:36 #238 [Verbose] awaitCompiler / Ping / result: Some(null) / port: 13805 / retry: 0\r\n",
      "00:00:36 #239 [Verbose] > Server bound to: http://localhost:13805\r\n",
      "00:00:36 #240 [Debug] buildFile / takeWhileInclusive / fsxContent:  / errors: [] / typeErrorCount: 0\r\n",
      "00:00:36 #241 [Debug] buildFile / takeWhileInclusive / fsxContent:  / errors: [] / typeErrorCount: 0\r\n",
      "00:00:36 #242 [Debug] sendJson / port: 13805 / json: {\"FileOpen\":{\"spiText\":\"\\ninl init_series start end inc =\\n    inl total : f64 = conv ((end - start) / inc) \\u002B 1\\n    listm.init total (conv \\u003E\\u003E (*) inc \\u003E\\u003E (\\u002B) start) : list f64\\n\\ntype integration = (f64 -\\u003E f64) -\\u003E f64 -\\u003E f64 -\\u003E f64\\n\\ninl integral dt : integration =\\n    fun f a b =\\u003E\\n        init_series (a \\u002B dt / 2) (b - dt / 2) dt\\n        |\\u003E listm.map (f \\u003E\\u003E (*) dt)\\n        |\\u003E listm.fold (\\u002B) 0\\n\\ninl main () =\\n    integral 0.01 (fun x =\\u003E x ** 2) 0 1\\n\",\"uri\":\"file:///C:\\\\Users\\\\i574n\\\\AppData\\\\Local\\\\Temp\\\\!dotnet-repl\\\\20240217-1337-0737-3790-30329c688bb6\\\\main.spi\"}} / result.Length:\r\n",
      "00:00:36 #243 [Debug] sendJson / port: 13805 / json: {\"BuildFile\":{\"backend\":\"Fsharp\",\"uri\":\"file:///C:\\\\Users\\\\i574n\\\\AppData\\\\Local\\\\Temp\\\\!dotnet-repl\\\\20240217-1337-0737-3790-30329c688bb6\\\\main.spi\"}} / result.Length:\r\n",
      "00:00:37 #244 [Verbose] > Building C:\\Users\\i574n\\AppData\\Local\\Temp\\!dotnet-repl\\20240217-1337-0737-3790-30329c688bb6\\main.spi\r\n",
      "00:00:37 #246 [Debug] buildFile / takeWhileInclusive / fsxContent:  / errors: [] / typeErrorCount: 0\r\n",
      "00:00:38 #247 [Verbose] > Stack overflow.\r\n",
      "00:00:38 #248 [Verbose] > Repeat 2 times:\r\n",
      "00:00:38 #249 [Verbose] > --------------------------------\r\n",
      "00:00:38 #250 [Verbose] >    at Spiral.PartEval.Main.term@711-64(TopEnv, System.Collections.Generic.Dictionary`2<E,System.Tuple`2<System.Collections.Generic.Dictionary`2<ConsedNode`1<System.Tuple`2<RData[],Ty[]>>,System.Tuple`3<Microsoft.FSharp.Core.FSharpOption`1<TypedBind[]>,Microsoft.FSharp.Core.FSharpOption`1<Ty>,Microsoft.FSharp.Core.FSharpOption`1<System.String>>>,HashConsTable>>, System.Collections.Generic.Dictionary`2<E,System.Tuple`2<System.Collections.Generic.Dictionary`2<ConsedNode`1<System.Tuple`4<RData[],Ty[],Ty,Ty>>,Microsoft.FSharp.Core.FSharpOption`1<System.Tuple`2<Data,TypedBind[]>>>,HashConsTable>>, System.Collections.Generic.Dictionary`2<T,System.Tuple`2<System.Collections.Generic.Dictionary`2<ConsedNode`1<Ty[]>,Microsoft.FSharp.Core.FSharpOption`1<Ty>>,HashConsTable>>, Microsoft.FSharp.Core.FSharpOption`1<Microsoft.FSharp.Core.FSharpFunc`2<Microsoft.FSharp.Core.Unit,Microsoft.FSharp.Core.Unit>>, LangEnv, E)\r\n",
      "00:00:38 #251 [Verbose] >    at Spiral.PartEval.Main.term@711-64(TopEnv, System.Collections.Generic.Dictionary`2<E,System.Tuple`2<System.Collections.Generic.Dictionary`2<ConsedNode`1<System.Tuple`2<RData[],Ty[]>>,System.Tuple`3<Microsoft.FSharp.Core.FSharpOption`1<TypedBind[]>,Microsoft.FSharp.Core.FSharpOption`1<Ty>,Microsoft.FSharp.Core.FSharpOption`1<System.String>>>,HashConsTable>>, System.Collections.Generic.Dictionary`2<E,System.Tuple`2<System.Collections.Generic.Dictionary`2<ConsedNode`1<System.Tuple`4<RData[],Ty[],Ty,Ty>>,Microsoft.FSharp.Core.FSharpOption`1<System.Tuple`2<Data,TypedBind[]>>>,HashConsTable>>, System.Collections.Generic.Dictionary`2<T,System.Tuple`2<System.Collections.Generic.Dictionary`2<ConsedNode`1<Ty[]>,Microsoft.FSharp.Core.FSharpOption`1<Ty>>,HashConsTable>>, Microsoft.FSharp.Core.FSharpOption`1<Microsoft.FSharp.Core.FSharpFunc`2<Microsoft.FSharp.Core.Unit,Microsoft.FSharp.Core.Unit>>, LangEnv, E)\r\n",
      "00:00:38 #252 [Verbose] >    at Spiral.PartEval.Main.term@711-64(TopEnv, System.Collections.Generic.Dictionary`2<E,System.Tuple`2<System.Collections.Generic.Dictionary`2<ConsedNode`1<System.Tuple`2<RData[],Ty[]>>,System.Tuple`3<Microsoft.FSharp.Core.FSharpOption`1<TypedBind[]>,Microsoft.FSharp.Core.FSharpOption`1<Ty>,Microsoft.FSharp.Core.FSharpOption`1<System.String>>>,HashConsTable>>, System.Collections.Generic.Dictionary`2<E,System.Tuple`2<System.Collections.Generic.Dictionary`2<ConsedNode`1<System.Tuple`4<RData[],Ty[],Ty,Ty>>,Microsoft.FSharp.Core.FSharpOption`1<System.Tuple`2<Data,TypedBind[]>>>,HashConsTable>>, System.Collections.Generic.Dictionary`2<T,System.Tuple`2<System.Collections.Generic.Dictionary`2<ConsedNode`1<Ty[]>,Microsoft.FSharp.Core.FSharpOption`1<Ty>>,HashConsTable>>, Microsoft.FSharp.Core.FSharpOption`1<Microsoft.FSharp.Core.FSharpFunc`2<Microsoft.FSharp.Core.Unit,Microsoft.FSharp.Core.Unit>>, LangEnv, E)\r\n",
      "00:00:38 #253 [Verbose] >    at System.Runtime.CompilerServices.RuntimeHelpers.DispatchTailCalls(IntPtr, Void (IntPtr, Byte ByRef, System.Runtime.CompilerServices.PortableTailCallFrame*), Byte ByRef)\r\n",
      "00:00:38 #254 [Verbose] >    at Spiral.PartEval.Main.term@711-64(TopEnv, System.Collections.Generic.Dictionary`2<E,System.Tuple`2<System.Collections.Generic.Dictionary`2<ConsedNode`1<System.Tuple`2<RData[],Ty[]>>,System.Tuple`3<Microsoft.FSharp.Core.FSharpOption`1<TypedBind[]>,Microsoft.FSharp.Core.FSharpOption`1<Ty>,Microsoft.FSharp.Core.FSharpOption`1<System.String>>>,HashConsTable>>, System.Collections.Generic.Dictionary`2<E,System.Tuple`2<System.Collections.Generic.Dictionary`2<ConsedNode`1<System.Tuple`4<RData[],Ty[],Ty,Ty>>,Microsoft.FSharp.Core.FSharpOption`1<System.Tuple`2<Data,TypedBind[]>>>,HashConsTable>>, System.Collections.Generic.Dictionary`2<T,System.Tuple`2<System.Collections.Generic.Dictionary`2<ConsedNode`1<Ty[]>,Microsoft.FSharp.Core.FSharpOption`1<Ty>>,HashConsTable>>, Microsoft.FSharp.Core.FSharpOption`1<Microsoft.FSharp.Core.FSharpFunc`2<Microsoft.FSharp.Core.Unit,Microsoft.FSharp.Core.Unit>>, LangEnv, E)\r\n",
      "00:00:38 #255 [Verbose] >    at Spiral.PartEval.Main.term@711-64(TopEnv, System.Collections.Generic.Dictionary`2<E,System.Tuple`2<System.Collections.Generic.Dictionary`2<ConsedNode`1<System.Tuple`2<RData[],Ty[]>>,System.Tuple`3<Microsoft.FSharp.Core.FSharpOption`1<TypedBind[]>,Microsoft.FSharp.Core.FSharpOption`1<Ty>,Microsoft.FSharp.Core.FSharpOption`1<System.String>>>,HashConsTable>>, System.Collections.Generic.Dictionary`2<E,System.Tuple`2<System.Collections.Generic.Dictionary`2<ConsedNode`1<System.Tuple`4<RData[],Ty[],Ty,Ty>>,Microsoft.FSharp.Core.FSharpOption`1<System.Tuple`2<Data,TypedBind[]>>>,HashConsTable>>, System.Collections.Generic.Dictionary`2<T,System.Tuple`2<System.Collections.Generic.Dictionary`2<ConsedNode`1<Ty[]>,Microsoft.FSharp.Core.FSharpOption`1<Ty>>,HashConsTable>>, Microsoft.FSharp.Core.FSharpOption`1<Microsoft.FSharp.Core.FSharpFunc`2<Microsoft.FSharp.Core.Unit,Microsoft.FSharp.Core.Unit>>, LangEnv, E)\r\n",
      "00:00:38 #256 [Verbose] >    at System.Runtime.CompilerServices.RuntimeHelpers.DispatchTailCalls(IntPtr, Void (IntPtr, Byte ByRef, System.Runtime.CompilerServices.PortableTailCallFrame*), Byte ByRef)\r\n",
      "00:00:38 #257 [Verbose] > --------------------------------\r\n",
      "00:00:38 #258 [Verbose] >    at Spiral.PartEval.Main.term@711-64(TopEnv, System.Collections.Generic.Dictionary`2<E,System.Tuple`2<System.Collections.Generic.Dictionary`2<ConsedNode`1<System.Tuple`2<RData[],Ty[]>>,System.Tuple`3<Microsoft.FSharp.Core.FSharpOption`1<TypedBind[]>,Microsoft.FSharp.Core.FSharpOption`1<Ty>,Microsoft.FSharp.Core.FSharpOption`1<System.String>>>,HashConsTable>>, System.Collections.Generic.Dictionary`2<E,System.Tuple`2<System.Collections.Generic.Dictionary`2<ConsedNode`1<System.Tuple`4<RData[],Ty[],Ty,Ty>>,Microsoft.FSharp.Core.FSharpOption`1<System.Tuple`2<Data,TypedBind[]>>>,HashConsTable>>, System.Collections.Generic.Dictionary`2<T,System.Tuple`2<System.Collections.Generic.Dictionary`2<ConsedNode`1<Ty[]>,Microsoft.FSharp.Core.FSharpOption`1<Ty>>,HashConsTable>>, Microsoft.FSharp.Core.FSharpOption`1<Microsoft.FSharp.Core.FSharpFunc`2<Microsoft.FSharp.Core.Unit,Microsoft.FSharp.Core.Unit>>, LangEnv, E)\r\n",
      "00:00:38 #259 [Verbose] >    at Spiral.PartEval.Main.term@711-64(TopEnv, System.Collections.Generic.Dictionary`2<E,System.Tuple`2<System.Collections.Generic.Dictionary`2<ConsedNode`1<System.Tuple`2<RData[],Ty[]>>,System.Tuple`3<Microsoft.FSharp.Core.FSharpOption`1<TypedBind[]>,Microsoft.FSharp.Core.FSharpOption`1<Ty>,Microsoft.FSharp.Core.FSharpOption`1<System.String>>>,HashConsTable>>, System.Collections.Generic.Dictionary`2<E,System.Tuple`2<System.Collections.Generic.Dictionary`2<ConsedNode`1<System.Tuple`4<RData[],Ty[],Ty,Ty>>,Microsoft.FSharp.Core.FSharpOption`1<System.Tuple`2<Data,TypedBind[]>>>,HashConsTable>>, System.Collections.Generic.Dictionary`2<T,System.Tuple`2<System.Collections.Generic.Dictionary`2<ConsedNode`1<Ty[]>,Microsoft.FSharp.Core.FSharpOption`1<Ty>>,HashConsTable>>, Microsoft.FSharp.Core.FSharpOption`1<Microsoft.FSharp.Core.FSharpFunc`2<Microsoft.FSharp.Core.Unit,Microsoft.FSharp.Core.Unit>>, LangEnv, E)\r\n",
      "00:00:38 #260 [Verbose] >    at System.Runtime.CompilerServices.RuntimeHelpers.DispatchTailCalls(IntPtr, Void (IntPtr, Byte ByRef, System.Runtime.CompilerServices.PortableTailCallFrame*), Byte ByRef)\r\n",
      "00:00:38 #261 [Verbose] >    at Spiral.PartEval.Main.term@711-64(TopEnv, System.Collections.Generic.Dictionary`2<E,System.Tuple`2<System.Collections.Generic.Dictionary`2<ConsedNode`1<System.Tuple`2<RData[],Ty[]>>,System.Tuple`3<Microsoft.FSharp.Core.FSharpOption`1<TypedBind[]>,Microsoft.FSharp.Core.FSharpOption`1<Ty>,Microsoft.FSharp.Core.FSharpOption`1<System.String>>>,HashConsTable>>, System.Collections.Generic.Dictionary`2<E,System.Tuple`2<System.Collections.Generic.Dictionary`2<ConsedNode`1<System.Tuple`4<RData[],Ty[],Ty,Ty>>,Microsoft.FSharp.Core.FSharpOption`1<System.Tuple`2<Data,TypedBind[]>>>,HashConsTable>>, System.Collections.Generic.Dictionary`2<T,System.Tuple`2<System.Collections.Generic.Dictionary`2<ConsedNode`1<Ty[]>,Microsoft.FSharp.Core.FSharpOption`1<Ty>>,HashConsTable>>, Microsoft.FSharp.Core.FSharpOption`1<Microsoft.FSharp.Core.FSharpFunc`2<Microsoft.FSharp.Core.Unit,Microsoft.FSharp.Core.Unit>>, LangEnv, E)\r\n",
      "00:00:38 #262 [Verbose] >    at Spiral.PartEval.Main.term@711-64(TopEnv, System.Collections.Generic.Dictionary`2<E,System.Tuple`2<System.Collections.Generic.Dictionary`2<ConsedNode`1<System.Tuple`2<RData[],Ty[]>>,System.Tuple`3<Microsoft.FSharp.Core.FSharpOption`1<TypedBind[]>,Microsoft.FSharp.Core.FSharpOption`1<Ty>,Microsoft.FSharp.Core.FSharpOption`1<System.String>>>,HashConsTable>>, System.Collections.Generic.Dictionary`2<E,System.Tuple`2<System.Collections.Generic.Dictionary`2<ConsedNode`1<System.Tuple`4<RData[],Ty[],Ty,Ty>>,Microsoft.FSharp.Core.FSharpOption`1<System.Tuple`2<Data,TypedBind[]>>>,HashConsTable>>, System.Collections.Generic.Dictionary`2<T,System.Tuple`2<System.Collections.Generic.Dictionary`2<ConsedNode`1<Ty[]>,Microsoft.FSharp.Core.FSharpOption`1<Ty>>,HashConsTable>>, Microsoft.FSharp.Core.FSharpOption`1<Microsoft.FSharp.Core.FSharpFunc`2<Microsoft.FSharp.Core.Unit,Microsoft.FSharp.Core.Unit>>, LangEnv, E)\r\n",
      "00:00:38 #263 [Verbose] >    at System.Runtime.CompilerServices.RuntimeHelpers.DispatchTailCalls(IntPtr, Void (IntPtr, Byte ByRef, System.Runtime.CompilerServices.PortableTailCallFrame*), Byte ByRef)\r\n",
      "00:00:38 #264 [Verbose] >    at Spiral.PartEval.Main.term@711-64(TopEnv, System.Collections.Generic.Dictionary`2<E,System.Tuple`2<System.Collections.Generic.Dictionary`2<ConsedNode`1<System.Tuple`2<RData[],Ty[]>>,System.Tuple`3<Microsoft.FSharp.Core.FSharpOption`1<TypedBind[]>,Microsoft.FSharp.Core.FSharpOption`1<Ty>,Microsoft.FSharp.Core.FSharpOption`1<System.String>>>,HashConsTable>>, System.Collections.Generic.Dictionary`2<E,System.Tuple`2<System.Collections.Generic.Dictionary`2<ConsedNode`1<System.Tuple`4<RData[],Ty[],Ty,Ty>>,Microsoft.FSharp.Core.FSharpOption`1<System.Tuple`2<Data,TypedBind[]>>>,HashConsTable>>, System.Collections.Generic.Dictionary`2<T,System.Tuple`2<System.Collections.Generic.Dictionary`2<ConsedNode`1<Ty[]>,Microsoft.FSharp.Core.FSharpOption`1<Ty>>,HashConsTable>>, Microsoft.FSharp.Core.FSharpOption`1<Microsoft.FSharp.Core.FSharpFunc`2<Microsoft.FSharp.Core.Unit,Microsoft.FSharp.Core.Unit>>, LangEnv, E)\r\n",
      "00:00:38 #265 [Verbose] >    at Spiral.PartEval.Main.term@711-64(TopEnv, System.Collections.Generic.Dictionary`2<E,System.Tuple`2<System.Collections.Generic.Dictionary`2<ConsedNode`1<System.Tuple`2<RData[],Ty[]>>,System.Tuple`3<Microsoft.FSharp.Core.FSharpOption`1<TypedBind[]>,Microsoft.FSharp.Core.FSharpOption`1<Ty>,Microsoft.FSharp.Core.FSharpOption`1<System.String>>>,HashConsTable>>, System.Collections.Generic.Dictionary`2<E,System.Tuple`2<System.Collections.Generic.Dictionary`2<ConsedNode`1<System.Tuple`4<RData[],Ty[],Ty,Ty>>,Microsoft.FSharp.Core.FSharpOption`1<System.Tuple`2<Data,TypedBind[]>>>,HashConsTable>>, System.Collections.Generic.Dictionary`2<T,System.Tuple`2<System.Collections.Generic.Dictionary`2<ConsedNode`1<Ty[]>,Microsoft.FSharp.Core.FSharpOption`1<Ty>>,HashConsTable>>, Microsoft.FSharp.Core.FSharpOption`1<Microsoft.FSharp.Core.FSharpFunc`2<Microsoft.FSharp.Core.Unit,Microsoft.FSharp.Core.Unit>>, LangEnv, E)\r\n",
      "00:00:38 #266 [Verbose] >    at System.Runtime.CompilerServices.RuntimeHelpers.DispatchTailCalls(IntPtr, Void (IntPtr, Byte ByRef, System.Runtime.CompilerServices.PortableTailCallFrame*), Byte ByRef)\r\n",
      "00:00:38 #267 [Verbose] >    at Spiral.PartEval.Main.term@711-64(TopEnv, System.Collections.Generic.Dictionary`2<E,System.Tuple`2<System.Collections.Generic.Dictionary`2<ConsedNode`1<System.Tuple`2<RData[],Ty[]>>,System.Tuple`3<Microsoft.FSharp.Core.FSharpOption`1<TypedBind[]>,Microsoft.FSharp.Core.FSharpOption`1<Ty>,Microsoft.FSharp.Core.FSharpOption`1<System.String>>>,HashConsTable>>, System.Collections.Generic.Dictionary`2<E,System.Tuple`2<System.Collections.Generic.Dictionary`2<ConsedNode`1<System.Tuple`4<RData[],Ty[],Ty,Ty>>,Microsoft.FSharp.Core.FSharpOption`1<System.Tuple`2<Data,TypedBind[]>>>,HashConsTable>>, System.Collections.Generic.Dictionary`2<T,System.Tuple`2<System.Collections.Generic.Dictionary`2<ConsedNode`1<Ty[]>,Microsoft.FSharp.Core.FSharpOption`1<Ty>>,HashConsTable>>, Microsoft.FSharp.Core.FSharpOption`1<Microsoft.FSharp.Core.FSharpFunc`2<Microsoft.FSharp.Core.Unit,Microsoft.FSharp.Core.Unit>>, LangEnv, E)\r\n",
      "00:00:38 #268 [Verbose] >    at Spiral.PartEval.Main.term@711-64(TopEnv, System.Collections.Generic.Dictionary`2<E,System.Tuple`2<System.Collections.Generic.Dictionary`2<ConsedNode`1<System.Tuple`2<RData[],Ty[]>>,System.Tuple`3<Microsoft.FSharp.Core.FSharpOption`1<TypedBind[]>,Microsoft.FSharp.Core.FSharpOption`1<Ty>,Microsoft.FSharp.Core.FSharpOption`1<System.String>>>,HashConsTable>>, System.Collections.Generic.Dictionary`2<E,System.Tuple`2<System.Collections.Generic.Dictionary`2<ConsedNode`1<System.Tuple`4<RData[],Ty[],Ty,Ty>>,Microsoft.FSharp.Core.FSharpOption`1<System.Tuple`2<Data,TypedBind[]>>>,HashConsTable>>, System.Collections.Generic.Dictionary`2<T,System.Tuple`2<System.Collections.Generic.Dictionary`2<ConsedNode`1<Ty[]>,Microsoft.FSharp.Core.FSharpOption`1<Ty>>,HashConsTable>>, Microsoft.FSharp.Core.FSharpOption`1<Microsoft.FSharp.Core.FSharpFunc`2<Microsoft.FSharp.Core.Unit,Microsoft.FSharp.Core.Unit>>, LangEnv, E)\r\n",
      "00:00:38 #269 [Verbose] >    at System.Runtime.CompilerServices.RuntimeHelpers.DispatchTailCalls(IntPtr, Void (IntPtr, Byte ByRef, System.Runtime.CompilerServices.PortableTailCallFrame*), Byte ByRef)\r\n",
      "00:00:38 #270 [Verbose] >    at Spiral.PartEval.Main.term@711-64(TopEnv, System.Collections.Generic.Dictionary`2<E,System.Tuple`2<System.Collections.Generic.Dictionary`2<ConsedNode`1<System.Tuple`2<RData[],Ty[]>>,System.Tuple`3<Microsoft.FSharp.Core.FSharpOption`1<TypedBind[]>,Microsoft.FSharp.Core.FSharpOption`1<Ty>,Microsoft.FSharp.Core.FSharpOption`1<System.String>>>,HashConsTable>>, System.Collections.Generic.Dictionary`2<E,System.Tuple`2<System.Collections.Generic.Dictionary`2<ConsedNode`1<System.Tuple`4<RData[],Ty[],Ty,Ty>>,Microsoft.FSharp.Core.FSharpOption`1<System.Tuple`2<Data,TypedBind[]>>>,HashConsTable>>, System.Collections.Generic.Dictionary`2<T,System.Tuple`2<System.Collections.Generic.Dictionary`2<ConsedNode`1<Ty[]>,Microsoft.FSharp.Core.FSharpOption`1<Ty>>,HashConsTable>>, Microsoft.FSharp.Core.FSharpOption`1<Microsoft.FSharp.Core.FSharpFunc`2<Microsoft.FSharp.Core.Unit,Microsoft.FSharp.Core.Unit>>, LangEnv, E)\r\n",
      "00:00:38 #271 [Verbose] >    at Spiral.PartEval.Main.term@711-64(TopEnv, System.Collections.Generic.Dictionary`2<E,System.Tuple`2<System.Collections.Generic.Dictionary`2<ConsedNode`1<System.Tuple`2<RData[],Ty[]>>,System.Tuple`3<Microsoft.FSharp.Core.FSharpOption`1<TypedBind[]>,Microsoft.FSharp.Core.FSharpOption`1<Ty>,Microsoft.FSharp.Core.FSharpOption`1<System.String>>>,HashConsTable>>, System.Collections.Generic.Dictionary`2<E,System.Tuple`2<System.Collections.Generic.Dictionary`2<ConsedNode`1<System.Tuple`4<RData[],Ty[],Ty,Ty>>,Microsoft.FSharp.Core.FSharpOption`1<System.Tuple`2<Data,TypedBind[]>>>,HashConsTable>>, System.Collections.Generic.Dictionary`2<T,System.Tuple`2<System.Collections.Generic.Dictionary`2<ConsedNode`1<Ty[]>,Microsoft.FSharp.Core.FSharpOption`1<Ty>>,HashConsTable>>, Microsoft.FSharp.Core.FSharpOption`1<Microsoft.FSharp.Core.FSharpFunc`2<Microsoft.FSharp.Core.Unit,Microsoft.FSharp.Core.Unit>>, LangEnv, E)\r\n",
      "00:00:38 #272 [Verbose] >    at System.Runtime.CompilerServices.RuntimeHelpers.DispatchTailCalls(IntPtr, Void (IntPtr, Byte ByRef, System.Runtime.CompilerServices.PortableTailCallFrame*), Byte ByRef)\r\n",
      "00:00:38 #273 [Verbose] >    at Spiral.PartEval.Main.term@711-64(TopEnv, System.Collections.Generic.Dictionary`2<E,System.Tuple`2<System.Collections.Generic.Dictionary`2<ConsedNode`1<System.Tuple`2<RData[],Ty[]>>,System.Tuple`3<Microsoft.FSharp.Core.FSharpOption`1<TypedBind[]>,Microsoft.FSharp.Core.FSharpOption`1<Ty>,Microsoft.FSharp.Core.FSharpOption`1<System.String>>>,HashConsTable>>, System.Collections.Generic.Dictionary`2<E,System.Tuple`2<System.Collections.Generic.Dictionary`2<ConsedNode`1<System.Tuple`4<RData[],Ty[],Ty,Ty>>,Microsoft.FSharp.Core.FSharpOption`1<System.Tuple`2<Data,TypedBind[]>>>,HashConsTable>>, System.Collections.Generic.Dictionary`2<T,System.Tuple`2<System.Collections.Generic.Dictionary`2<ConsedNode`1<Ty[]>,Microsoft.FSharp.Core.FSharpOption`1<Ty>>,HashConsTable>>, Microsoft.FSharp.Core.FSharpOption`1<Microsoft.FSharp.Core.FSharpFunc`2<Microsoft.FSharp.Core.Unit,Microsoft.FSharp.Core.Unit>>, LangEnv, E)\r\n",
      "00:00:38 #274 [Verbose] >    at Spiral.PartEval.Main.term@711-64(TopEnv, System.Collections.Generic.Dictionary`2<E,System.Tuple`2<System.Collections.Generic.Dictionary`2<ConsedNode`1<System.Tuple`2<RData[],Ty[]>>,System.Tuple`3<Microsoft.FSharp.Core.FSharpOption`1<TypedBind[]>,Microsoft.FSharp.Core.FSharpOption`1<Ty>,Microsoft.FSharp.Core.FSharpOption`1<System.String>>>,HashConsTable>>, System.Collections.Generic.Dictionary`2<E,System.Tuple`2<System.Collections.Generic.Dictionary`2<ConsedNode`1<System.Tuple`4<RData[],Ty[],Ty,Ty>>,Microsoft.FSharp.Core.FSharpOption`1<System.Tuple`2<Data,TypedBind[]>>>,HashConsTable>>, System.Collections.Generic.Dictionary`2<T,System.Tuple`2<System.Collections.Generic.Dictionary`2<ConsedNode`1<Ty[]>,Microsoft.FSharp.Core.FSharpOption`1<Ty>>,HashConsTable>>, Microsoft.FSharp.Core.FSharpOption`1<Microsoft.FSharp.Core.FSharpFunc`2<Microsoft.FSharp.Core.Unit,Microsoft.FSharp.Core.Unit>>, LangEnv, E)\r\n",
      "00:00:38 #275 [Verbose] >    at System.Runtime.CompilerServices.RuntimeHelpers.DispatchTailCalls(IntPtr, Void (IntPtr, Byte ByRef, System.Runtime.CompilerServices.PortableTailCallFrame*), Byte ByRef)\r\n",
      "00:00:38 #276 [Verbose] >    at Spiral.PartEval.Main.term@711-64(TopEnv, System.Collections.Generic.Dictionary`2<E,System.Tuple`2<System.Collections.Generic.Dictionary`2<ConsedNode`1<System.Tuple`2<RData[],Ty[]>>,System.Tuple`3<Microsoft.FSharp.Core.FSharpOption`1<TypedBind[]>,Microsoft.FSharp.Core.FSharpOption`1<Ty>,Microsoft.FSharp.Core.FSharpOption`1<System.String>>>,HashConsTable>>, System.Collections.Generic.Dictionary`2<E,System.Tuple`2<System.Collections.Generic.Dictionary`2<ConsedNode`1<System.Tuple`4<RData[],Ty[],Ty,Ty>>,Microsoft.FSharp.Core.FSharpOption`1<System.Tuple`2<Data,TypedBind[]>>>,HashConsTable>>, System.Collections.Generic.Dictionary`2<T,System.Tuple`2<System.Collections.Generic.Dictionary`2<ConsedNode`1<Ty[]>,Microsoft.FSharp.Core.FSharpOption`1<Ty>>,HashConsTable>>, Microsoft.FSharp.Core.FSharpOption`1<Microsoft.FSharp.Core.FSharpFunc`2<Microsoft.FSharp.Core.Unit,Microsoft.FSharp.Core.Unit>>, LangEnv, E)\r\n",
      "00:00:38 #277 [Verbose] >    at Spiral.PartEval.Main.term@711-64(TopEnv, System.Collections.Generic.Dictionary`2<E,System.Tuple`2<System.Collections.Generic.Dictionary`2<ConsedNode`1<System.Tuple`2<RData[],Ty[]>>,System.Tuple`3<Microsoft.FSharp.Core.FSharpOption`1<TypedBind[]>,Microsoft.FSharp.Core.FSharpOption`1<Ty>,Microsoft.FSharp.Core.FSharpOption`1<System.String>>>,HashConsTable>>, System.Collections.Generic.Dictionary`2<E,System.Tuple`2<System.Collections.Generic.Dictionary`2<ConsedNode`1<System.Tuple`4<RData[],Ty[],Ty,Ty>>,Microsoft.FSharp.Core.FSharpOption`1<System.Tuple`2<Data,TypedBind[]>>>,HashConsTable>>, System.Collections.Generic.Dictionary`2<T,System.Tuple`2<System.Collections.Generic.Dictionary`2<ConsedNode`1<Ty[]>,Microsoft.FSharp.Core.FSharpOption`1<Ty>>,HashConsTable>>, Microsoft.FSharp.Core.FSharpOption`1<Microsoft.FSharp.Core.FSharpFunc`2<Microsoft.FSharp.Core.Unit,Microsoft.FSharp.Core.Unit>>, LangEnv, E)\r\n",
      "00:00:38 #278 [Verbose] >    at System.Runtime.CompilerServices.RuntimeHelpers.DispatchTailCalls(IntPtr, Void (IntPtr, Byte ByRef, System.Runtime.CompilerServices.PortableTailCallFrame*), Byte ByRef)\r\n",
      "00:00:38 #279 [Verbose] >    at Spiral.PartEval.Main.term@711-64(TopEnv, System.Collections.Generic.Dictionary`2<E,System.Tuple`2<System.Collections.Generic.Dictionary`2<ConsedNode`1<System.Tuple`2<RData[],Ty[]>>,System.Tuple`3<Microsoft.FSharp.Core.FSharpOption`1<TypedBind[]>,Microsoft.FSharp.Core.FSharpOption`1<Ty>,Microsoft.FSharp.Core.FSharpOption`1<System.String>>>,HashConsTable>>, System.Collections.Generic.Dictionary`2<E,System.Tuple`2<System.Collections.Generic.Dictionary`2<ConsedNode`1<System.Tuple`4<RData[],Ty[],Ty,Ty>>,Microsoft.FSharp.Core.FSharpOption`1<System.Tuple`2<Data,TypedBind[]>>>,HashConsTable>>, System.Collections.Generic.Dictionary`2<T,System.Tuple`2<System.Collections.Generic.Dictionary`2<ConsedNode`1<Ty[]>,Microsoft.FSharp.Core.FSharpOption`1<Ty>>,HashConsTable>>, Microsoft.FSharp.Core.FSharpOption`1<Microsoft.FSharp.Core.FSharpFunc`2<Microsoft.FSharp.Core.Unit,Microsoft.FSharp.Core.Unit>>, LangEnv, E)\r\n",
      "00:00:38 #280 [Verbose] >    at Spiral.PartEval.Main.term@711-64(TopEnv, System.Collections.Generic.Dictionary`2<E,System.Tuple`2<System.Collections.Generic.Dictionary`2<ConsedNode`1<System.Tuple`2<RData[],Ty[]>>,System.Tuple`3<Microsoft.FSharp.Core.FSharpOption`1<TypedBind[]>,Microsoft.FSharp.Core.FSharpOption`1<Ty>,Microsoft.FSharp.Core.FSharpOption`1<System.String>>>,HashConsTable>>, System.Collections.Generic.Dictionary`2<E,System.Tuple`2<System.Collections.Generic.Dictionary`2<ConsedNode`1<System.Tuple`4<RData[],Ty[],Ty,Ty>>,Microsoft.FSharp.Core.FSharpOption`1<System.Tuple`2<Data,TypedBind[]>>>,HashConsTable>>, System.Collections.Generic.Dictionary`2<T,System.Tuple`2<System.Collections.Generic.Dictionary`2<ConsedNode`1<Ty[]>,Microsoft.FSharp.Core.FSharpOption`1<Ty>>,HashConsTable>>, Microsoft.FSharp.Core.FSharpOption`1<Microsoft.FSharp.Core.FSharpFunc`2<Microsoft.FSharp.Core.Unit,Microsoft.FSharp.Core.Unit>>, LangEnv, E)\r\n",
      "00:00:38 #281 [Verbose] >    at System.Runtime.CompilerServices.RuntimeHelpers.DispatchTailCalls(IntPtr, Void (IntPtr, Byte ByRef, System.Runtime.CompilerServices.PortableTailCallFrame*), Byte ByRef)\r\n",
      "00:00:38 #282 [Verbose] >    at Spiral.PartEval.Main.term@711-64(TopEnv, System.Collections.Generic.Dictionary`2<E,System.Tuple`2<System.Collections.Generic.Dictionary`2<ConsedNode`1<System.Tuple`2<RData[],Ty[]>>,System.Tuple`3<Microsoft.FSharp.Core.FSharpOption`1<TypedBind[]>,Microsoft.FSharp.Core.FSharpOption`1<Ty>,Microsoft.FSharp.Core.FSharpOption`1<System.String>>>,HashConsTable>>, System.Collections.Generic.Dictionary`2<E,System.Tuple`2<System.Collections.Generic.Dictionary`2<ConsedNode`1<System.Tuple`4<RData[],Ty[],Ty,Ty>>,Microsoft.FSharp.Core.FSharpOption`1<System.Tuple`2<Data,TypedBind[]>>>,HashConsTable>>, System.Collections.Generic.Dictionary`2<T,System.Tuple`2<System.Collections.Generic.Dictionary`2<ConsedNode`1<Ty[]>,Microsoft.FSharp.Core.FSharpOption`1<Ty>>,HashConsTable>>, Microsoft.FSharp.Core.FSharpOption`1<Microsoft.FSharp.Core.FSharpFunc`2<Microsoft.FSharp.Core.Unit,Microsoft.FSharp.Core.Unit>>, LangEnv, E)\r\n",
      "00:00:38 #283 [Verbose] >    at Spiral.PartEval.Main.term@711-64(TopEnv, System.Collections.Generic.Dictionary`2<E,System.Tuple`2<System.Collections.Generic.Dictionary`2<ConsedNode`1<System.Tuple`2<RData[],Ty[]>>,System.Tuple`3<Microsoft.FSharp.Core.FSharpOption`1<TypedBind[]>,Microsoft.FSharp.Core.FSharpOption`1<Ty>,Microsoft.FSharp.Core.FSharpOption`1<System.String>>>,HashConsTable>>, System.Collections.Generic.Dictionary`2<E,System.Tuple`2<System.Collections.Generic.Dictionary`2<ConsedNode`1<System.Tuple`4<RData[],Ty[],Ty,Ty>>,Microsoft.FSharp.Core.FSharpOption`1<System.Tuple`2<Data,TypedBind[]>>>,HashConsTable>>, System.Collections.Generic.Dictionary`2<T,System.Tuple`2<System.Collections.Generic.Dictionary`2<ConsedNode`1<Ty[]>,Microsoft.FSharp.Core.FSharpOption`1<Ty>>,HashConsTable>>, Microsoft.FSharp.Core.FSharpOption`1<Microsoft.FSharp.Core.FSharpFunc`2<Microsoft.FSharp.Core.Unit,Microsoft.FSharp.Core.Unit>>, LangEnv, E)\r\n",
      "00:00:38 #284 [Verbose] >    at System.Runtime.CompilerServices.RuntimeHelpers.DispatchTailCalls(IntPtr, Void (IntPtr, Byte ByRef, System.Runtime.CompilerServices.PortableTailCallFrame*), Byte ByRef)\r\n",
      "00:00:38 #285 [Verbose] >    at Spiral.PartEval.Main.term@711-64(TopEnv, System.Collections.Generic.Dictionary`2<E,System.Tuple`2<System.Collections.Generic.Dictionary`2<ConsedNode`1<System.Tuple`2<RData[],Ty[]>>,System.Tuple`3<Microsoft.FSharp.Core.FSharpOption`1<TypedBind[]>,Microsoft.FSharp.Core.FSharpOption`1<Ty>,Microsoft.FSharp.Core.FSharpOption`1<System.String>>>,HashConsTable>>, System.Collections.Generic.Dictionary`2<E,System.Tuple`2<System.Collections.Generic.Dictionary`2<ConsedNode`1<System.Tuple`4<RData[],Ty[],Ty,Ty>>,Microsoft.FSharp.Core.FSharpOption`1<System.Tuple`2<Data,TypedBind[]>>>,HashConsTable>>, System.Collections.Generic.Dictionary`2<T,System.Tuple`2<System.Collections.Generic.Dictionary`2<ConsedNode`1<Ty[]>,Microsoft.FSharp.Core.FSharpOption`1<Ty>>,HashConsTable>>, Microsoft.FSharp.Core.FSharpOption`1<Microsoft.FSharp.Core.FSharpFunc`2<Microsoft.FSharp.Core.Unit,Microsoft.FSharp.Core.Unit>>, LangEnv, E)\r\n",
      "00:00:38 #286 [Verbose] >    at Spiral.PartEval.Main.term@711-64(TopEnv, System.Collections.Generic.Dictionary`2<E,System.Tuple`2<System.Collections.Generic.Dictionary`2<ConsedNode`1<System.Tuple`2<RData[],Ty[]>>,System.Tuple`3<Microsoft.FSharp.Core.FSharpOption`1<TypedBind[]>,Microsoft.FSharp.Core.FSharpOption`1<Ty>,Microsoft.FSharp.Core.FSharpOption`1<System.String>>>,HashConsTable>>, System.Collections.Generic.Dictionary`2<E,System.Tuple`2<System.Collections.Generic.Dictionary`2<ConsedNode`1<System.Tuple`4<RData[],Ty[],Ty,Ty>>,Microsoft.FSharp.Core.FSharpOption`1<System.Tuple`2<Data,TypedBind[]>>>,HashConsTable>>, System.Collections.Generic.Dictionary`2<T,System.Tuple`2<System.Collections.Generic.Dictionary`2<ConsedNode`1<Ty[]>,Microsoft.FSharp.Core.FSharpOption`1<Ty>>,HashConsTable>>, Microsoft.FSharp.Core.FSharpOption`1<Microsoft.FSharp.Core.FSharpFunc`2<Microsoft.FSharp.Core.Unit,Microsoft.FSharp.Core.Unit>>, LangEnv, E)\r\n",
      "00:00:38 #287 [Verbose] >    at System.Runtime.CompilerServices.RuntimeHelpers.DispatchTailCalls(IntPtr, Void (IntPtr, Byte ByRef, System.Runtime.CompilerServices.PortableTailCallFrame*), Byte ByRef)\r\n",
      "00:00:38 #288 [Verbose] >    at Spiral.PartEval.Main.term@711-64(TopEnv, System.Collections.Generic.Dictionary`2<E,System.Tuple`2<System.Collections.Generic.Dictionary`2<ConsedNode`1<System.Tuple`2<RData[],Ty[]>>,System.Tuple`3<Microsoft.FSharp.Core.FSharpOption`1<TypedBind[]>,Microsoft.FSharp.Core.FSharpOption`1<Ty>,Microsoft.FSharp.Core.FSharpOption`1<System.String>>>,HashConsTable>>, System.Collections.Generic.Dictionary`2<E,System.Tuple`2<System.Collections.Generic.Dictionary`2<ConsedNode`1<System.Tuple`4<RData[],Ty[],Ty,Ty>>,Microsoft.FSharp.Core.FSharpOption`1<System.Tuple`2<Data,TypedBind[]>>>,HashConsTable>>, System.Collections.Generic.Dictionary`2<T,System.Tuple`2<System.Collections.Generic.Dictionary`2<ConsedNode`1<Ty[]>,Microsoft.FSharp.Core.FSharpOption`1<Ty>>,HashConsTable>>, Microsoft.FSharp.Core.FSharpOption`1<Microsoft.FSharp.Core.FSharpFunc`2<Microsoft.FSharp.Core.Unit,Microsoft.FSharp.Core.Unit>>, LangEnv, E)\r\n",
      "00:00:38 #289 [Verbose] >    at Spiral.PartEval.Main.term@711-64(TopEnv, System.Collections.Generic.Dictionary`2<E,System.Tuple`2<System.Collections.Generic.Dictionary`2<ConsedNode`1<System.Tuple`2<RData[],Ty[]>>,System.Tuple`3<Microsoft.FSharp.Core.FSharpOption`1<TypedBind[]>,Microsoft.FSharp.Core.FSharpOption`1<Ty>,Microsoft.FSharp.Core.FSharpOption`1<System.String>>>,HashConsTable>>, System.Collections.Generic.Dictionary`2<E,System.Tuple`2<System.Collections.Generic.Dictionary`2<ConsedNode`1<System.Tuple`4<RData[],Ty[],Ty,Ty>>,Microsoft.FSharp.Core.FSharpOption`1<System.Tuple`2<Data,TypedBind[]>>>,HashConsTable>>, System.Collections.Generic.Dictionary`2<T,System.Tuple`2<System.Collections.Generic.Dictionary`2<ConsedNode`1<Ty[]>,Microsoft.FSharp.Core.FSharpOption`1<Ty>>,HashConsTable>>, Microsoft.FSharp.Core.FSharpOption`1<Microsoft.FSharp.Core.FSharpFunc`2<Microsoft.FSharp.Core.Unit,Microsoft.FSharp.Core.Unit>>, LangEnv, E)\r\n",
      "00:00:38 #290 [Verbose] >    at System.Runtime.CompilerServices.RuntimeHelpers.DispatchTailCalls(IntPtr, Void (IntPtr, Byte ByRef, System.Runtime.CompilerServices.PortableTailCallFrame*), Byte ByRef)\r\n",
      "00:00:38 #291 [Verbose] >    at Spiral.PartEval.Main.term@711-64(TopEnv, System.Collections.Generic.Dictionary`2<E,System.Tuple`2<System.Collections.Generic.Dictionary`2<ConsedNode`1<System.Tuple`2<RData[],Ty[]>>,System.Tuple`3<Microsoft.FSharp.Core.FSharpOption`1<TypedBind[]>,Microsoft.FSharp.Core.FSharpOption`1<Ty>,Microsoft.FSharp.Core.FSharpOption`1<System.String>>>,HashConsTable>>, System.Collections.Generic.Dictionary`2<E,System.Tuple`2<System.Collections.Generic.Dictionary`2<ConsedNode`1<System.Tuple`4<RData[],Ty[],Ty,Ty>>,Microsoft.FSharp.Core.FSharpOption`1<System.Tuple`2<Data,TypedBind[]>>>,HashConsTable>>, System.Collections.Generic.Dictionary`2<T,System.Tuple`2<System.Collections.Generic.Dictionary`2<ConsedNode`1<Ty[]>,Microsoft.FSharp.Core.FSharpOption`1<Ty>>,HashConsTable>>, Microsoft.FSharp.Core.FSharpOption`1<Microsoft.FSharp.Core.FSharpFunc`2<Microsoft.FSharp.Core.Unit,Microsoft.FSharp.Core.Unit>>, LangEnv, E)\r\n",
      "00:00:38 #292 [Verbose] >    at Spiral.PartEval.Main.term@711-64(TopEnv, System.Collections.Generic.Dictionary`2<E,System.Tuple`2<System.Collections.Generic.Dictionary`2<ConsedNode`1<System.Tuple`2<RData[],Ty[]>>,System.Tuple`3<Microsoft.FSharp.Core.FSharpOption`1<TypedBind[]>,Microsoft.FSharp.Core.FSharpOption`1<Ty>,Microsoft.FSharp.Core.FSharpOption`1<System.String>>>,HashConsTable>>, System.Collections.Generic.Dictionary`2<E,System.Tuple`2<System.Collections.Generic.Dictionary`2<ConsedNode`1<System.Tuple`4<RData[],Ty[],Ty,Ty>>,Microsoft.FSharp.Core.FSharpOption`1<System.Tuple`2<Data,TypedBind[]>>>,HashConsTable>>, System.Collections.Generic.Dictionary`2<T,System.Tuple`2<System.Collections.Generic.Dictionary`2<ConsedNode`1<Ty[]>,Microsoft.FSharp.Core.FSharpOption`1<Ty>>,HashConsTable>>, Microsoft.FSharp.Core.FSharpOption`1<Microsoft.FSharp.Core.FSharpFunc`2<Microsoft.FSharp.Core.Unit,Microsoft.FSharp.Core.Unit>>, LangEnv, E)\r\n",
      "00:00:38 #293 [Verbose] >    at System.Runtime.CompilerServices.RuntimeHelpers.DispatchTailCalls(IntPtr, Void (IntPtr, Byte ByRef, System.Runtime.CompilerServices.PortableTailCallFrame*), Byte ByRef)\r\n",
      "00:00:38 #294 [Verbose] >    at Spiral.PartEval.Main.term@711-64(TopEnv, System.Collections.Generic.Dictionary`2<E,System.Tuple`2<System.Collections.Generic.Dictionary`2<ConsedNode`1<System.Tuple`2<RData[],Ty[]>>,System.Tuple`3<Microsoft.FSharp.Core.FSharpOption`1<TypedBind[]>,Microsoft.FSharp.Core.FSharpOption`1<Ty>,Microsoft.FSharp.Core.FSharpOption`1<System.String>>>,HashConsTable>>, System.Collections.Generic.Dictionary`2<E,System.Tuple`2<System.Collections.Generic.Dictionary`2<ConsedNode`1<System.Tuple`4<RData[],Ty[],Ty,Ty>>,Microsoft.FSharp.Core.FSharpOption`1<System.Tuple`2<Data,TypedBind[]>>>,HashConsTable>>, System.Collections.Generic.Dictionary`2<T,System.Tuple`2<System.Collections.Generic.Dictionary`2<ConsedNode`1<Ty[]>,Microsoft.FSharp.Core.FSharpOption`1<Ty>>,HashConsTable>>, Microsoft.FSharp.Core.FSharpOption`1<Microsoft.FSharp.Core.FSharpFunc`2<Microsoft.FSharp.Core.Unit,Microsoft.FSharp.Core.Unit>>, LangEnv, E)\r\n",
      "00:00:38 #295 [Verbose] >    at Spiral.PartEval.Main.term@711-64(TopEnv, System.Collections.Generic.Dictionary`2<E,System.Tuple`2<System.Collections.Generic.Dictionary`2<ConsedNode`1<System.Tuple`2<RData[],Ty[]>>,System.Tuple`3<Microsoft.FSharp.Core.FSharpOption`1<TypedBind[]>,Microsoft.FSharp.Core.FSharpOption`1<Ty>,Microsoft.FSharp.Core.FSharpOption`1<System.String>>>,HashConsTable>>, System.Collections.Generic.Dictionary`2<E,System.Tuple`2<System.Collections.Generic.Dictionary`2<ConsedNode`1<System.Tuple`4<RData[],Ty[],Ty,Ty>>,Microsoft.FSharp.Core.FSharpOption`1<System.Tuple`2<Data,TypedBind[]>>>,HashConsTable>>, System.Collections.Generic.Dictionary`2<T,System.Tuple`2<System.Collections.Generic.Dictionary`2<ConsedNode`1<Ty[]>,Microsoft.FSharp.Core.FSharpOption`1<Ty>>,HashConsTable>>, Microsoft.FSharp.Core.FSharpOption`1<Microsoft.FSharp.Core.FSharpFunc`2<Microsoft.FSharp.Core.Unit,Microsoft.FSharp.Core.Unit>>, LangEnv, E)\r\n",
      "00:00:38 #296 [Verbose] >    at System.Runtime.CompilerServices.RuntimeHelpers.DispatchTailCalls(IntPtr, Void (IntPtr, Byte ByRef, System.Runtime.CompilerServices.PortableTailCallFrame*), Byte ByRef)\r\n",
      "00:00:38 #297 [Verbose] >    at Spiral.PartEval.Main.term@711-64(TopEnv, System.Collections.Generic.Dictionary`2<E,System.Tuple`2<System.Collections.Generic.Dictionary`2<ConsedNode`1<System.Tuple`2<RData[],Ty[]>>,System.Tuple`3<Microsoft.FSharp.Core.FSharpOption`1<TypedBind[]>,Microsoft.FSharp.Core.FSharpOption`1<Ty>,Microsoft.FSharp.Core.FSharpOption`1<System.String>>>,HashConsTable>>, System.Collections.Generic.Dictionary`2<E,System.Tuple`2<System.Collections.Generic.Dictionary`2<ConsedNode`1<System.Tuple`4<RData[],Ty[],Ty,Ty>>,Microsoft.FSharp.Core.FSharpOption`1<System.Tuple`2<Data,TypedBind[]>>>,HashConsTable>>, System.Collections.Generic.Dictionary`2<T,System.Tuple`2<System.Collections.Generic.Dictionary`2<ConsedNode`1<Ty[]>,Microsoft.FSharp.Core.FSharpOption`1<Ty>>,HashConsTable>>, Microsoft.FSharp.Core.FSharpOption`1<Microsoft.FSharp.Core.FSharpFunc`2<Microsoft.FSharp.Core.Unit,Microsoft.FSharp.Core.Unit>>, LangEnv, E)\r\n",
      "00:00:38 #298 [Verbose] >    at Spiral.PartEval.Main.term@711-64(TopEnv, System.Collections.Generic.Dictionary`2<E,System.Tuple`2<System.Collections.Generic.Dictionary`2<ConsedNode`1<System.Tuple`2<RData[],Ty[]>>,System.Tuple`3<Microsoft.FSharp.Core.FSharpOption`1<TypedBind[]>,Microsoft.FSharp.Core.FSharpOption`1<Ty>,Microsoft.FSharp.Core.FSharpOption`1<System.String>>>,HashConsTable>>, System.Collections.Generic.Dictionary`2<E,System.Tuple`2<System.Collections.Generic.Dictionary`2<ConsedNode`1<System.Tuple`4<RData[],Ty[],Ty,Ty>>,Microsoft.FSharp.Core.FSharpOption`1<System.Tuple`2<Data,TypedBind[]>>>,HashConsTable>>, System.Collections.Generic.Dictionary`2<T,System.Tuple`2<System.Collections.Generic.Dictionary`2<ConsedNode`1<Ty[]>,Microsoft.FSharp.Core.FSharpOption`1<Ty>>,HashConsTable>>, Microsoft.FSharp.Core.FSharpOption`1<Microsoft.FSharp.Core.FSharpFunc`2<Microsoft.FSharp.Core.Unit,Microsoft.FSharp.Core.Unit>>, LangEnv, E)\r\n",
      "00:00:38 #299 [Verbose] >    at System.Runtime.CompilerServices.RuntimeHelpers.DispatchTailCalls(IntPtr, Void (IntPtr, Byte ByRef, System.Runtime.CompilerServices.PortableTailCallFrame*), Byte ByRef)\r\n",
      "00:00:38 #300 [Verbose] >    at Spiral.PartEval.Main.term@711-64(TopEnv, System.Collections.Generic.Dictionary`2<E,System.Tuple`2<System.Collections.Generic.Dictionary`2<ConsedNode`1<System.Tuple`2<RData[],Ty[]>>,System.Tuple`3<Microsoft.FSharp.Core.FSharpOption`1<TypedBind[]>,Microsoft.FSharp.Core.FSharpOption`1<Ty>,Microsoft.FSharp.Core.FSharpOption`1<System.String>>>,HashConsTable>>, System.Collections.Generic.Dictionary`2<E,System.Tuple`2<System.Collections.Generic.Dictionary`2<ConsedNode`1<System.Tuple`4<RData[],Ty[],Ty,Ty>>,Microsoft.FSharp.Core.FSharpOption`1<System.Tuple`2<Data,TypedBind[]>>>,HashConsTable>>, System.Collections.Generic.Dictionary`2<T,System.Tuple`2<System.Collections.Generic.Dictionary`2<ConsedNode`1<Ty[]>,Microsoft.FSharp.Core.FSharpOption`1<Ty>>,HashConsTable>>, Microsoft.FSharp.Core.FSharpOption`1<Microsoft.FSharp.Core.FSharpFunc`2<Microsoft.FSharp.Core.Unit,Microsoft.FSharp.Core.Unit>>, LangEnv, E)\r\n",
      "00:00:38 #301 [Verbose] >    at Spiral.PartEval.Main.term@711-64(TopEnv, System.Collections.Generic.Dictionary`2<E,System.Tuple`2<System.Collections.Generic.Dictionary`2<ConsedNode`1<System.Tuple`2<RData[],Ty[]>>,System.Tuple`3<Microsoft.FSharp.Core.FSharpOption`1<TypedBind[]>,Microsoft.FSharp.Core.FSharpOption`1<Ty>,Microsoft.FSharp.Core.FSharpOption`1<System.String>>>,HashConsTable>>, System.Collections.Generic.Dictionary`2<E,System.Tuple`2<System.Collections.Generic.Dictionary`2<ConsedNode`1<System.Tuple`4<RData[],Ty[],Ty,Ty>>,Microsoft.FSharp.Core.FSharpOption`1<System.Tuple`2<Data,TypedBind[]>>>,HashConsTable>>, System.Collections.Generic.Dictionary`2<T,System.Tuple`2<System.Collections.Generic.Dictionary`2<ConsedNode`1<Ty[]>,Microsoft.FSharp.Core.FSharpOption`1<Ty>>,HashConsTable>>, Microsoft.FSharp.Core.FSharpOption`1<Microsoft.FSharp.Core.FSharpFunc`2<Microsoft.FSharp.Core.Unit,Microsoft.FSharp.Core.Unit>>, LangEnv, E)\r\n",
      "00:00:38 #302 [Verbose] >    at System.Runtime.CompilerServices.RuntimeHelpers.DispatchTailCalls(IntPtr, Void (IntPtr, Byte ByRef, System.Runtime.CompilerServices.PortableTailCallFrame*), Byte ByRef)\r\n",
      "00:00:38 #303 [Verbose] >    at Spiral.PartEval.Main.term@711-64(TopEnv, System.Collections.Generic.Dictionary`2<E,System.Tuple`2<System.Collections.Generic.Dictionary`2<ConsedNode`1<System.Tuple`2<RData[],Ty[]>>,System.Tuple`3<Microsoft.FSharp.Core.FSharpOption`1<TypedBind[]>,Microsoft.FSharp.Core.FSharpOption`1<Ty>,Microsoft.FSharp.Core.FSharpOption`1<System.String>>>,HashConsTable>>, System.Collections.Generic.Dictionary`2<E,System.Tuple`2<System.Collections.Generic.Dictionary`2<ConsedNode`1<System.Tuple`4<RData[],Ty[],Ty,Ty>>,Microsoft.FSharp.Core.FSharpOption`1<System.Tuple`2<Data,TypedBind[]>>>,HashConsTable>>, System.Collections.Generic.Dictionary`2<T,System.Tuple`2<System.Collections.Generic.Dictionary`2<ConsedNode`1<Ty[]>,Microsoft.FSharp.Core.FSharpOption`1<Ty>>,HashConsTable>>, Microsoft.FSharp.Core.FSharpOption`1<Microsoft.FSharp.Core.FSharpFunc`2<Microsoft.FSharp.Core.Unit,Microsoft.FSharp.Core.Unit>>, LangEnv, E)\r\n",
      "00:00:38 #304 [Verbose] >    at Spiral.PartEval.Main.term@711-64(TopEnv, System.Collections.Generic.Dictionary`2<E,System.Tuple`2<System.Collections.Generic.Dictionary`2<ConsedNode`1<System.Tuple`2<RData[],Ty[]>>,System.Tuple`3<Microsoft.FSharp.Core.FSharpOption`1<TypedBind[]>,Microsoft.FSharp.Core.FSharpOption`1<Ty>,Microsoft.FSharp.Core.FSharpOption`1<System.String>>>,HashConsTable>>, System.Collections.Generic.Dictionary`2<E,System.Tuple`2<System.Collections.Generic.Dictionary`2<ConsedNode`1<System.Tuple`4<RData[],Ty[],Ty,Ty>>,Microsoft.FSharp.Core.FSharpOption`1<System.Tuple`2<Data,TypedBind[]>>>,HashConsTable>>, System.Collections.Generic.Dictionary`2<T,System.Tuple`2<System.Collections.Generic.Dictionary`2<ConsedNode`1<Ty[]>,Microsoft.FSharp.Core.FSharpOption`1<Ty>>,HashConsTable>>, Microsoft.FSharp.Core.FSharpOption`1<Microsoft.FSharp.Core.FSharpFunc`2<Microsoft.FSharp.Core.Unit,Microsoft.FSharp.Core.Unit>>, LangEnv, E)\r\n",
      "00:00:38 #305 [Verbose] >    at System.Runtime.CompilerServices.RuntimeHelpers.DispatchTailCalls(IntPtr, Void (IntPtr, Byte ByRef, System.Runtime.CompilerServices.PortableTailCallFrame*), Byte ByRef)\r\n",
      "00:00:38 #306 [Verbose] >    at Spiral.PartEval.Main.term@711-64(TopEnv, System.Collections.Generic.Dictionary`2<E,System.Tuple`2<System.Collections.Generic.Dictionary`2<ConsedNode`1<System.Tuple`2<RData[],Ty[]>>,System.Tuple`3<Microsoft.FSharp.Core.FSharpOption`1<TypedBind[]>,Microsoft.FSharp.Core.FSharpOption`1<Ty>,Microsoft.FSharp.Core.FSharpOption`1<System.String>>>,HashConsTable>>, System.Collections.Generic.Dictionary`2<E,System.Tuple`2<System.Collections.Generic.Dictionary`2<ConsedNode`1<System.Tuple`4<RData[],Ty[],Ty,Ty>>,Microsoft.FSharp.Core.FSharpOption`1<System.Tuple`2<Data,TypedBind[]>>>,HashConsTable>>, System.Collections.Generic.Dictionary`2<T,System.Tuple`2<System.Collections.Generic.Dictionary`2<ConsedNode`1<Ty[]>,Microsoft.FSharp.Core.FSharpOption`1<Ty>>,HashConsTable>>, Microsoft.FSharp.Core.FSharpOption`1<Microsoft.FSharp.Core.FSharpFunc`2<Microsoft.FSharp.Core.Unit,Microsoft.FSharp.Core.Unit>>, LangEnv, E)\r\n",
      "00:00:38 #307 [Verbose] >    at Spiral.PartEval.Main.term@711-64(TopEnv, System.Collections.Generic.Dictionary`2<E,System.Tuple`2<System.Collections.Generic.Dictionary`2<ConsedNode`1<System.Tuple`2<RData[],Ty[]>>,System.Tuple`3<Microsoft.FSharp.Core.FSharpOption`1<TypedBind[]>,Microsoft.FSharp.Core.FSharpOption`1<Ty>,Microsoft.FSharp.Core.FSharpOption`1<System.String>>>,HashConsTable>>, System.Collections.Generic.Dictionary`2<E,System.Tuple`2<System.Collections.Generic.Dictionary`2<ConsedNode`1<System.Tuple`4<RData[],Ty[],Ty,Ty>>,Microsoft.FSharp.Core.FSharpOption`1<System.Tuple`2<Data,TypedBind[]>>>,HashConsTable>>, System.Collections.Generic.Dictionary`2<T,System.Tuple`2<System.Collections.Generic.Dictionary`2<ConsedNode`1<Ty[]>,Microsoft.FSharp.Core.FSharpOption`1<Ty>>,HashConsTable>>, Microsoft.FSharp.Core.FSharpOption`1<Microsoft.FSharp.Core.FSharpFunc`2<Microsoft.FSharp.Core.Unit,Microsoft.FSharp.Core.Unit>>, LangEnv, E)\r\n",
      "00:00:38 #308 [Verbose] >    at System.Runtime.CompilerServices.RuntimeHelpers.DispatchTailCalls(IntPtr, Void (IntPtr, Byte ByRef, System.Runtime.CompilerServices.PortableTailCallFrame*), Byte ByRef)\r\n",
      "00:00:38 #309 [Verbose] >    at Spiral.PartEval.Main.term@711-64(TopEnv, System.Collections.Generic.Dictionary`2<E,System.Tuple`2<System.Collections.Generic.Dictionary`2<ConsedNode`1<System.Tuple`2<RData[],Ty[]>>,System.Tuple`3<Microsoft.FSharp.Core.FSharpOption`1<TypedBind[]>,Microsoft.FSharp.Core.FSharpOption`1<Ty>,Microsoft.FSharp.Core.FSharpOption`1<System.String>>>,HashConsTable>>, System.Collections.Generic.Dictionary`2<E,System.Tuple`2<System.Collections.Generic.Dictionary`2<ConsedNode`1<System.Tuple`4<RData[],Ty[],Ty,Ty>>,Microsoft.FSharp.Core.FSharpOption`1<System.Tuple`2<Data,TypedBind[]>>>,HashConsTable>>, System.Collections.Generic.Dictionary`2<T,System.Tuple`2<System.Collections.Generic.Dictionary`2<ConsedNode`1<Ty[]>,Microsoft.FSharp.Core.FSharpOption`1<Ty>>,HashConsTable>>, Microsoft.FSharp.Core.FSharpOption`1<Microsoft.FSharp.Core.FSharpFunc`2<Microsoft.FSharp.Core.Unit,Microsoft.FSharp.Core.Unit>>, LangEnv, E)\r\n",
      "00:00:38 #310 [Verbose] >    at Spiral.PartEval.Main.term@711-64(TopEnv, System.Collections.Generic.Dictionary`2<E,System.Tuple`2<System.Collections.Generic.Dictionary`2<ConsedNode`1<System.Tuple`2<RData[],Ty[]>>,System.Tuple`3<Microsoft.FSharp.Core.FSharpOption`1<TypedBind[]>,Microsoft.FSharp.Core.FSharpOption`1<Ty>,Microsoft.FSharp.Core.FSharpOption`1<System.String>>>,HashConsTable>>, System.Collections.Generic.Dictionary`2<E,System.Tuple`2<System.Collections.Generic.Dictionary`2<ConsedNode`1<System.Tuple`4<RData[],Ty[],Ty,Ty>>,Microsoft.FSharp.Core.FSharpOption`1<System.Tuple`2<Data,TypedBind[]>>>,HashConsTable>>, System.Collections.Generic.Dictionary`2<T,System.Tuple`2<System.Collections.Generic.Dictionary`2<ConsedNode`1<Ty[]>,Microsoft.FSharp.Core.FSharpOption`1<Ty>>,HashConsTable>>, Microsoft.FSharp.Core.FSharpOption`1<Microsoft.FSharp.Core.FSharpFunc`2<Microsoft.FSharp.Core.Unit,Microsoft.FSharp.Core.Unit>>, LangEnv, E)\r\n",
      "00:00:38 #311 [Verbose] >    at System.Runtime.CompilerServices.RuntimeHelpers.DispatchTailCalls(IntPtr, Void (IntPtr, Byte ByRef, System.Runtime.CompilerServices.PortableTailCallFrame*), Byte ByRef)\r\n",
      "00:00:38 #312 [Verbose] >    at Spiral.PartEval.Main.term@711-64(TopEnv, System.Collections.Generic.Dictionary`2<E,System.Tuple`2<System.Collections.Generic.Dictionary`2<ConsedNode`1<System.Tuple`2<RData[],Ty[]>>,System.Tuple`3<Microsoft.FSharp.Core.FSharpOption`1<TypedBind[]>,Microsoft.FSharp.Core.FSharpOption`1<Ty>,Microsoft.FSharp.Core.FSharpOption`1<System.String>>>,HashConsTable>>, System.Collections.Generic.Dictionary`2<E,System.Tuple`2<System.Collections.Generic.Dictionary`2<ConsedNode`1<System.Tuple`4<RData[],Ty[],Ty,Ty>>,Microsoft.FSharp.Core.FSharpOption`1<System.Tuple`2<Data,TypedBind[]>>>,HashConsTable>>, System.Collections.Generic.Dictionary`2<T,System.Tuple`2<System.Collections.Generic.Dictionary`2<ConsedNode`1<Ty[]>,Microsoft.FSharp.Core.FSharpOption`1<Ty>>,HashConsTable>>, Microsoft.FSharp.Core.FSharpOption`1<Microsoft.FSharp.Core.FSharpFunc`2<Microsoft.FSharp.Core.Unit,Microsoft.FSharp.Core.Unit>>, LangEnv, E)\r\n",
      "00:00:38 #313 [Verbose] >    at Spiral.PartEval.Main.term@711-64(TopEnv, System.Collections.Generic.Dictionary`2<E,System.Tuple`2<System.Collections.Generic.Dictionary`2<ConsedNode`1<System.Tuple`2<RData[],Ty[]>>,System.Tuple`3<Microsoft.FSharp.Core.FSharpOption`1<TypedBind[]>,Microsoft.FSharp.Core.FSharpOption`1<Ty>,Microsoft.FSharp.Core.FSharpOption`1<System.String>>>,HashConsTable>>, System.Collections.Generic.Dictionary`2<E,System.Tuple`2<System.Collections.Generic.Dictionary`2<ConsedNode`1<System.Tuple`4<RData[],Ty[],Ty,Ty>>,Microsoft.FSharp.Core.FSharpOption`1<System.Tuple`2<Data,TypedBind[]>>>,HashConsTable>>, System.Collections.Generic.Dictionary`2<T,System.Tuple`2<System.Collections.Generic.Dictionary`2<ConsedNode`1<Ty[]>,Microsoft.FSharp.Core.FSharpOption`1<Ty>>,HashConsTable>>, Microsoft.FSharp.Core.FSharpOption`1<Microsoft.FSharp.Core.FSharpFunc`2<Microsoft.FSharp.Core.Unit,Microsoft.FSharp.Core.Unit>>, LangEnv, E)\r\n",
      "00:00:38 #314 [Verbose] >    at System.Runtime.CompilerServices.RuntimeHelpers.DispatchTailCalls(IntPtr, Void (IntPtr, Byte ByRef, System.Runtime.CompilerServices.PortableTailCallFrame*), Byte ByRef)\r\n",
      "00:00:38 #315 [Verbose] >    at Spiral.PartEval.Main.term@711-64(TopEnv, System.Collections.Generic.Dictionary`2<E,System.Tuple`2<System.Collections.Generic.Dictionary`2<ConsedNode`1<System.Tuple`2<RData[],Ty[]>>,System.Tuple`3<Microsoft.FSharp.Core.FSharpOption`1<TypedBind[]>,Microsoft.FSharp.Core.FSharpOption`1<Ty>,Microsoft.FSharp.Core.FSharpOption`1<System.String>>>,HashConsTable>>, System.Collections.Generic.Dictionary`2<E,System.Tuple`2<System.Collections.Generic.Dictionary`2<ConsedNode`1<System.Tuple`4<RData[],Ty[],Ty,Ty>>,Microsoft.FSharp.Core.FSharpOption`1<System.Tuple`2<Data,TypedBind[]>>>,HashConsTable>>, System.Collections.Generic.Dictionary`2<T,System.Tuple`2<System.Collections.Generic.Dictionary`2<ConsedNode`1<Ty[]>,Microsoft.FSharp.Core.FSharpOption`1<Ty>>,HashConsTable>>, Microsoft.FSharp.Core.FSharpOption`1<Microsoft.FSharp.Core.FSharpFunc`2<Microsoft.FSharp.Core.Unit,Microsoft.FSharp.Core.Unit>>, LangEnv, E)\r\n",
      "00:00:38 #316 [Verbose] >    at Spiral.PartEval.Main.term@711-64(TopEnv, System.Collections.Generic.Dictionary`2<E,System.Tuple`2<System.Collections.Generic.Dictionary`2<ConsedNode`1<System.Tuple`2<RData[],Ty[]>>,System.Tuple`3<Microsoft.FSharp.Core.FSharpOption`1<TypedBind[]>,Microsoft.FSharp.Core.FSharpOption`1<Ty>,Microsoft.FSharp.Core.FSharpOption`1<System.String>>>,HashConsTable>>, System.Collections.Generic.Dictionary`2<E,System.Tuple`2<System.Collections.Generic.Dictionary`2<ConsedNode`1<System.Tuple`4<RData[],Ty[],Ty,Ty>>,Microsoft.FSharp.Core.FSharpOption`1<System.Tuple`2<Data,TypedBind[]>>>,HashConsTable>>, System.Collections.Generic.Dictionary`2<T,System.Tuple`2<System.Collections.Generic.Dictionary`2<ConsedNode`1<Ty[]>,Microsoft.FSharp.Core.FSharpOption`1<Ty>>,HashConsTable>>, Microsoft.FSharp.Core.FSharpOption`1<Microsoft.FSharp.Core.FSharpFunc`2<Microsoft.FSharp.Core.Unit,Microsoft.FSharp.Core.Unit>>, LangEnv, E)\r\n",
      "00:00:38 #317 [Verbose] >    at System.Runtime.CompilerServices.RuntimeHelpers.DispatchTailCalls(IntPtr, Void (IntPtr, Byte ByRef, System.Runtime.CompilerServices.PortableTailCallFrame*), Byte ByRef)\r\n",
      "00:00:38 #318 [Verbose] >    at Spiral.PartEval.Main.term@711-64(TopEnv, System.Collections.Generic.Dictionary`2<E,System.Tuple`2<System.Collections.Generic.Dictionary`2<ConsedNode`1<System.Tuple`2<RData[],Ty[]>>,System.Tuple`3<Microsoft.FSharp.Core.FSharpOption`1<TypedBind[]>,Microsoft.FSharp.Core.FSharpOption`1<Ty>,Microsoft.FSharp.Core.FSharpOption`1<System.String>>>,HashConsTable>>, System.Collections.Generic.Dictionary`2<E,System.Tuple`2<System.Collections.Generic.Dictionary`2<ConsedNode`1<System.Tuple`4<RData[],Ty[],Ty,Ty>>,Microsoft.FSharp.Core.FSharpOption`1<System.Tuple`2<Data,TypedBind[]>>>,HashConsTable>>, System.Collections.Generic.Dictionary`2<T,System.Tuple`2<System.Collections.Generic.Dictionary`2<ConsedNode`1<Ty[]>,Microsoft.FSharp.Core.FSharpOption`1<Ty>>,HashConsTable>>, Microsoft.FSharp.Core.FSharpOption`1<Microsoft.FSharp.Core.FSharpFunc`2<Microsoft.FSharp.Core.Unit,Microsoft.FSharp.Core.Unit>>, LangEnv, E)\r\n",
      "00:00:38 #319 [Verbose] >    at Spiral.PartEval.Main.term@711-64(TopEnv, System.Collections.Generic.Dictionary`2<E,System.Tuple`2<System.Collections.Generic.Dictionary`2<ConsedNode`1<System.Tuple`2<RData[],Ty[]>>,System.Tuple`3<Microsoft.FSharp.Core.FSharpOption`1<TypedBind[]>,Microsoft.FSharp.Core.FSharpOption`1<Ty>,Microsoft.FSharp.Core.FSharpOption`1<System.String>>>,HashConsTable>>, System.Collections.Generic.Dictionary`2<E,System.Tuple`2<System.Collections.Generic.Dictionary`2<ConsedNode`1<System.Tuple`4<RData[],Ty[],Ty,Ty>>,Microsoft.FSharp.Core.FSharpOption`1<System.Tuple`2<Data,TypedBind[]>>>,HashConsTable>>, System.Collections.Generic.Dictionary`2<T,System.Tuple`2<System.Collections.Generic.Dictionary`2<ConsedNode`1<Ty[]>,Microsoft.FSharp.Core.FSharpOption`1<Ty>>,HashConsTable>>, Microsoft.FSharp.Core.FSharpOption`1<Microsoft.FSharp.Core.FSharpFunc`2<Microsoft.FSharp.Core.Unit,Microsoft.FSharp.Core.Unit>>, LangEnv, E)\r\n",
      "00:00:38 #320 [Verbose] >    at System.Runtime.CompilerServices.RuntimeHelpers.DispatchTailCalls(IntPtr, Void (IntPtr, Byte ByRef, System.Runtime.CompilerServices.PortableTailCallFrame*), Byte ByRef)\r\n",
      "00:00:38 #321 [Verbose] >    at Spiral.PartEval.Main.term@711-64(TopEnv, System.Collections.Generic.Dictionary`2<E,System.Tuple`2<System.Collections.Generic.Dictionary`2<ConsedNode`1<System.Tuple`2<RData[],Ty[]>>,System.Tuple`3<Microsoft.FSharp.Core.FSharpOption`1<TypedBind[]>,Microsoft.FSharp.Core.FSharpOption`1<Ty>,Microsoft.FSharp.Core.FSharpOption`1<System.String>>>,HashConsTable>>, System.Collections.Generic.Dictionary`2<E,System.Tuple`2<System.Collections.Generic.Dictionary`2<ConsedNode`1<System.Tuple`4<RData[],Ty[],Ty,Ty>>,Microsoft.FSharp.Core.FSharpOption`1<System.Tuple`2<Data,TypedBind[]>>>,HashConsTable>>, System.Collections.Generic.Dictionary`2<T,System.Tuple`2<System.Collections.Generic.Dictionary`2<ConsedNode`1<Ty[]>,Microsoft.FSharp.Core.FSharpOption`1<Ty>>,HashConsTable>>, Microsoft.FSharp.Core.FSharpOption`1<Microsoft.FSharp.Core.FSharpFunc`2<Microsoft.FSharp.Core.Unit,Microsoft.FSharp.Core.Unit>>, LangEnv, E)\r\n",
      "00:00:38 #322 [Verbose] >    at Spiral.PartEval.Main.term@711-64(TopEnv, System.Collections.Generic.Dictionary`2<E,System.Tuple`2<System.Collections.Generic.Dictionary`2<ConsedNode`1<System.Tuple`2<RData[],Ty[]>>,System.Tuple`3<Microsoft.FSharp.Core.FSharpOption`1<TypedBind[]>,Microsoft.FSharp.Core.FSharpOption`1<Ty>,Microsoft.FSharp.Core.FSharpOption`1<System.String>>>,HashConsTable>>, System.Collections.Generic.Dictionary`2<E,System.Tuple`2<System.Collections.Generic.Dictionary`2<ConsedNode`1<System.Tuple`4<RData[],Ty[],Ty,Ty>>,Microsoft.FSharp.Core.FSharpOption`1<System.Tuple`2<Data,TypedBind[]>>>,HashConsTable>>, System.Collections.Generic.Dictionary`2<T,System.Tuple`2<System.Collections.Generic.Dictionary`2<ConsedNode`1<Ty[]>,Microsoft.FSharp.Core.FSharpOption`1<Ty>>,HashConsTable>>, Microsoft.FSharp.Core.FSharpOption`1<Microsoft.FSharp.Core.FSharpFunc`2<Microsoft.FSharp.Core.Unit,Microsoft.FSharp.Core.Unit>>, LangEnv, E)\r\n",
      "00:00:38 #323 [Verbose] >    at System.Runtime.CompilerServices.RuntimeHelpers.DispatchTailCalls(IntPtr, Void (IntPtr, Byte ByRef, System.Runtime.CompilerServices.PortableTailCallFrame*), Byte ByRef)\r\n",
      "00:00:38 #324 [Verbose] >    at Spiral.PartEval.Main.term@711-64(TopEnv, System.Collections.Generic.Dictionary`2<E,System.Tuple`2<System.Collections.Generic.Dictionary`2<ConsedNode`1<System.Tuple`2<RData[],Ty[]>>,System.Tuple`3<Microsoft.FSharp.Core.FSharpOption`1<TypedBind[]>,Microsoft.FSharp.Core.FSharpOption`1<Ty>,Microsoft.FSharp.Core.FSharpOption`1<System.String>>>,HashConsTable>>, System.Collections.Generic.Dictionary`2<E,System.Tuple`2<System.Collections.Generic.Dictionary`2<ConsedNode`1<System.Tuple`4<RData[],Ty[],Ty,Ty>>,Microsoft.FSharp.Core.FSharpOption`1<System.Tuple`2<Data,TypedBind[]>>>,HashConsTable>>, System.Collections.Generic.Dictionary`2<T,System.Tuple`2<System.Collections.Generic.Dictionary`2<ConsedNode`1<Ty[]>,Microsoft.FSharp.Core.FSharpOption`1<Ty>>,HashConsTable>>, Microsoft.FSharp.Core.FSharpOption`1<Microsoft.FSharp.Core.FSharpFunc`2<Microsoft.FSharp.Core.Unit,Microsoft.FSharp.Core.Unit>>, LangEnv, E)\r\n",
      "00:00:38 #325 [Verbose] >    at Spiral.PartEval.Main.term@711-64(TopEnv, System.Collections.Generic.Dictionary`2<E,System.Tuple`2<System.Collections.Generic.Dictionary`2<ConsedNode`1<System.Tuple`2<RData[],Ty[]>>,System.Tuple`3<Microsoft.FSharp.Core.FSharpOption`1<TypedBind[]>,Microsoft.FSharp.Core.FSharpOption`1<Ty>,Microsoft.FSharp.Core.FSharpOption`1<System.String>>>,HashConsTable>>, System.Collections.Generic.Dictionary`2<E,System.Tuple`2<System.Collections.Generic.Dictionary`2<ConsedNode`1<System.Tuple`4<RData[],Ty[],Ty,Ty>>,Microsoft.FSharp.Core.FSharpOption`1<System.Tuple`2<Data,TypedBind[]>>>,HashConsTable>>, System.Collections.Generic.Dictionary`2<T,System.Tuple`2<System.Collections.Generic.Dictionary`2<ConsedNode`1<Ty[]>,Microsoft.FSharp.Core.FSharpOption`1<Ty>>,HashConsTable>>, Microsoft.FSharp.Core.FSharpOption`1<Microsoft.FSharp.Core.FSharpFunc`2<Microsoft.FSharp.Core.Unit,Microsoft.FSharp.Core.Unit>>, LangEnv, E)\r\n",
      "00:00:38 #326 [Verbose] >    at System.Runtime.CompilerServices.RuntimeHelpers.DispatchTailCalls(IntPtr, Void (IntPtr, Byte ByRef, System.Runtime.CompilerServices.PortableTailCallFrame*), Byte ByRef)\r\n",
      "00:00:38 #327 [Verbose] >    at Spiral.PartEval.Main.term@711-64(TopEnv, System.Collections.Generic.Dictionary`2<E,System.Tuple`2<System.Collections.Generic.Dictionary`2<ConsedNode`1<System.Tuple`2<RData[],Ty[]>>,System.Tuple`3<Microsoft.FSharp.Core.FSharpOption`1<TypedBind[]>,Microsoft.FSharp.Core.FSharpOption`1<Ty>,Microsoft.FSharp.Core.FSharpOption`1<System.String>>>,HashConsTable>>, System.Collections.Generic.Dictionary`2<E,System.Tuple`2<System.Collections.Generic.Dictionary`2<ConsedNode`1<System.Tuple`4<RData[],Ty[],Ty,Ty>>,Microsoft.FSharp.Core.FSharpOption`1<System.Tuple`2<Data,TypedBind[]>>>,HashConsTable>>, System.Collections.Generic.Dictionary`2<T,System.Tuple`2<System.Collections.Generic.Dictionary`2<ConsedNode`1<Ty[]>,Microsoft.FSharp.Core.FSharpOption`1<Ty>>,HashConsTable>>, Microsoft.FSharp.Core.FSharpOption`1<Microsoft.FSharp.Core.FSharpFunc`2<Microsoft.FSharp.Core.Unit,Microsoft.FSharp.Core.Unit>>, LangEnv, E)\r\n",
      "00:00:38 #328 [Verbose] >    at Spiral.PartEval.Main.term@711-64(TopEnv, System.Collections.Generic.Dictionary`2<E,System.Tuple`2<System.Collections.Generic.Dictionary`2<ConsedNode`1<System.Tuple`2<RData[],Ty[]>>,System.Tuple`3<Microsoft.FSharp.Core.FSharpOption`1<TypedBind[]>,Microsoft.FSharp.Core.FSharpOption`1<Ty>,Microsoft.FSharp.Core.FSharpOption`1<System.String>>>,HashConsTable>>, System.Collections.Generic.Dictionary`2<E,System.Tuple`2<System.Collections.Generic.Dictionary`2<ConsedNode`1<System.Tuple`4<RData[],Ty[],Ty,Ty>>,Microsoft.FSharp.Core.FSharpOption`1<System.Tuple`2<Data,TypedBind[]>>>,HashConsTable>>, System.Collections.Generic.Dictionary`2<T,System.Tuple`2<System.Collections.Generic.Dictionary`2<ConsedNode`1<Ty[]>,Microsoft.FSharp.Core.FSharpOption`1<Ty>>,HashConsTable>>, Microsoft.FSharp.Core.FSharpOption`1<Microsoft.FSharp.Core.FSharpFunc`2<Microsoft.FSharp.Core.Unit,Microsoft.FSharp.Core.Unit>>, LangEnv, E)\r\n",
      "00:00:38 #329 [Verbose] >    at System.Runtime.CompilerServices.RuntimeHelpers.DispatchTailCalls(IntPtr, Void (IntPtr, Byte ByRef, System.Runtime.CompilerServices.PortableTailCallFrame*), Byte ByRef)\r\n",
      "00:00:38 #330 [Verbose] >    at Spiral.PartEval.Main.term@711-64(TopEnv, System.Collections.Generic.Dictionary`2<E,System.Tuple`2<System.Collections.Generic.Dictionary`2<ConsedNode`1<System.Tuple`2<RData[],Ty[]>>,System.Tuple`3<Microsoft.FSharp.Core.FSharpOption`1<TypedBind[]>,Microsoft.FSharp.Core.FSharpOption`1<Ty>,Microsoft.FSharp.Core.FSharpOption`1<System.String>>>,HashConsTable>>, System.Collections.Generic.Dictionary`2<E,System.Tuple`2<System.Collections.Generic.Dictionary`2<ConsedNode`1<System.Tuple`4<RData[],Ty[],Ty,Ty>>,Microsoft.FSharp.Core.FSharpOption`1<System.Tuple`2<Data,TypedBind[]>>>,HashConsTable>>, System.Collections.Generic.Dictionary`2<T,System.Tuple`2<System.Collections.Generic.Dictionary`2<ConsedNode`1<Ty[]>,Microsoft.FSharp.Core.FSharpOption`1<Ty>>,HashConsTable>>, Microsoft.FSharp.Core.FSharpOption`1<Microsoft.FSharp.Core.FSharpFunc`2<Microsoft.FSharp.Core.Unit,Microsoft.FSharp.Core.Unit>>, LangEnv, E)\r\n",
      "00:00:38 #331 [Verbose] >    at Spiral.PartEval.Main.term@711-64(TopEnv, System.Collections.Generic.Dictionary`2<E,System.Tuple`2<System.Collections.Generic.Dictionary`2<ConsedNode`1<System.Tuple`2<RData[],Ty[]>>,System.Tuple`3<Microsoft.FSharp.Core.FSharpOption`1<TypedBind[]>,Microsoft.FSharp.Core.FSharpOption`1<Ty>,Microsoft.FSharp.Core.FSharpOption`1<System.String>>>,HashConsTable>>, System.Collections.Generic.Dictionary`2<E,System.Tuple`2<System.Collections.Generic.Dictionary`2<ConsedNode`1<System.Tuple`4<RData[],Ty[],Ty,Ty>>,Microsoft.FSharp.Core.FSharpOption`1<System.Tuple`2<Data,TypedBind[]>>>,HashConsTable>>, System.Collections.Generic.Dictionary`2<T,System.Tuple`2<System.Collections.Generic.Dictionary`2<ConsedNode`1<Ty[]>,Microsoft.FSharp.Core.FSharpOption`1<Ty>>,HashConsTable>>, Microsoft.FSharp.Core.FSharpOption`1<Microsoft.FSharp.Core.FSharpFunc`2<Microsoft.FSharp.Core.Unit,Microsoft.FSharp.Core.Unit>>, LangEnv, E)\r\n",
      "00:00:38 #332 [Verbose] >    at System.Runtime.CompilerServices.RuntimeHelpers.DispatchTailCalls(IntPtr, Void (IntPtr, Byte ByRef, System.Runtime.CompilerServices.PortableTailCallFrame*), Byte ByRef)\r\n",
      "00:00:38 #333 [Verbose] >    at Spiral.PartEval.Main.term@711-64(TopEnv, System.Collections.Generic.Dictionary`2<E,System.Tuple`2<System.Collections.Generic.Dictionary`2<ConsedNode`1<System.Tuple`2<RData[],Ty[]>>,System.Tuple`3<Microsoft.FSharp.Core.FSharpOption`1<TypedBind[]>,Microsoft.FSharp.Core.FSharpOption`1<Ty>,Microsoft.FSharp.Core.FSharpOption`1<System.String>>>,HashConsTable>>, System.Collections.Generic.Dictionary`2<E,System.Tuple`2<System.Collections.Generic.Dictionary`2<ConsedNode`1<System.Tuple`4<RData[],Ty[],Ty,Ty>>,Microsoft.FSharp.Core.FSharpOption`1<System.Tuple`2<Data,TypedBind[]>>>,HashConsTable>>, System.Collections.Generic.Dictionary`2<T,System.Tuple`2<System.Collections.Generic.Dictionary`2<ConsedNode`1<Ty[]>,Microsoft.FSharp.Core.FSharpOption`1<Ty>>,HashConsTable>>, Microsoft.FSharp.Core.FSharpOption`1<Microsoft.FSharp.Core.FSharpFunc`2<Microsoft.FSharp.Core.Unit,Microsoft.FSharp.Core.Unit>>, LangEnv, E)\r\n",
      "00:00:38 #334 [Verbose] >    at Spiral.PartEval.Main.term@711-64(TopEnv, System.Collections.Generic.Dictionary`2<E,System.Tuple`2<System.Collections.Generic.Dictionary`2<ConsedNode`1<System.Tuple`2<RData[],Ty[]>>,System.Tuple`3<Microsoft.FSharp.Core.FSharpOption`1<TypedBind[]>,Microsoft.FSharp.Core.FSharpOption`1<Ty>,Microsoft.FSharp.Core.FSharpOption`1<System.String>>>,HashConsTable>>, System.Collections.Generic.Dictionary`2<E,System.Tuple`2<System.Collections.Generic.Dictionary`2<ConsedNode`1<System.Tuple`4<RData[],Ty[],Ty,Ty>>,Microsoft.FSharp.Core.FSharpOption`1<System.Tuple`2<Data,TypedBind[]>>>,HashConsTable>>, System.Collections.Generic.Dictionary`2<T,System.Tuple`2<System.Collections.Generic.Dictionary`2<ConsedNode`1<Ty[]>,Microsoft.FSharp.Core.FSharpOption`1<Ty>>,HashConsTable>>, Microsoft.FSharp.Core.FSharpOption`1<Microsoft.FSharp.Core.FSharpFunc`2<Microsoft.FSharp.Core.Unit,Microsoft.FSharp.Core.Unit>>, LangEnv, E)\r\n",
      "00:00:38 #335 [Verbose] >    at System.Runtime.CompilerServices.RuntimeHelpers.DispatchTailCalls(IntPtr, Void (IntPtr, Byte ByRef, System.Runtime.CompilerServices.PortableTailCallFrame*), Byte ByRef)\r\n",
      "00:00:38 #336 [Verbose] >    at Spiral.PartEval.Main.term@711-64(TopEnv, System.Collections.Generic.Dictionary`2<E,System.Tuple`2<System.Collections.Generic.Dictionary`2<ConsedNode`1<System.Tuple`2<RData[],Ty[]>>,System.Tuple`3<Microsoft.FSharp.Core.FSharpOption`1<TypedBind[]>,Microsoft.FSharp.Core.FSharpOption`1<Ty>,Microsoft.FSharp.Core.FSharpOption`1<System.String>>>,HashConsTable>>, System.Collections.Generic.Dictionary`2<E,System.Tuple`2<System.Collections.Generic.Dictionary`2<ConsedNode`1<System.Tuple`4<RData[],Ty[],Ty,Ty>>,Microsoft.FSharp.Core.FSharpOption`1<System.Tuple`2<Data,TypedBind[]>>>,HashConsTable>>, System.Collections.Generic.Dictionary`2<T,System.Tuple`2<System.Collections.Generic.Dictionary`2<ConsedNode`1<Ty[]>,Microsoft.FSharp.Core.FSharpOption`1<Ty>>,HashConsTable>>, Microsoft.FSharp.Core.FSharpOption`1<Microsoft.FSharp.Core.FSharpFunc`2<Microsoft.FSharp.Core.Unit,Microsoft.FSharp.Core.Unit>>, LangEnv, E)\r\n",
      "00:00:38 #337 [Verbose] >    at Spiral.PartEval.Main.term@711-64(TopEnv, System.Collections.Generic.Dictionary`2<E,System.Tuple`2<System.Collections.Generic.Dictionary`2<ConsedNode`1<System.Tuple`2<RData[],Ty[]>>,System.Tuple`3<Microsoft.FSharp.Core.FSharpOption`1<TypedBind[]>,Microsoft.FSharp.Core.FSharpOption`1<Ty>,Microsoft.FSharp.Core.FSharpOption`1<System.String>>>,HashConsTable>>, System.Collections.Generic.Dictionary`2<E,System.Tuple`2<System.Collections.Generic.Dictionary`2<ConsedNode`1<System.Tuple`4<RData[],Ty[],Ty,Ty>>,Microsoft.FSharp.Core.FSharpOption`1<System.Tuple`2<Data,TypedBind[]>>>,HashConsTable>>, System.Collections.Generic.Dictionary`2<T,System.Tuple`2<System.Collections.Generic.Dictionary`2<ConsedNode`1<Ty[]>,Microsoft.FSharp.Core.FSharpOption`1<Ty>>,HashConsTable>>, Microsoft.FSharp.Core.FSharpOption`1<Microsoft.FSharp.Core.FSharpFunc`2<Microsoft.FSharp.Core.Unit,Microsoft.FSharp.Core.Unit>>, LangEnv, E)\r\n",
      "00:00:38 #338 [Verbose] >    at System.Runtime.CompilerServices.RuntimeHelpers.DispatchTailCalls(IntPtr, Void (IntPtr, Byte ByRef, System.Runtime.CompilerServices.PortableTailCallFrame*), Byte ByRef)\r\n",
      "00:00:38 #339 [Verbose] >    at Spiral.PartEval.Main.term@711-64(TopEnv, System.Collections.Generic.Dictionary`2<E,System.Tuple`2<System.Collections.Generic.Dictionary`2<ConsedNode`1<System.Tuple`2<RData[],Ty[]>>,System.Tuple`3<Microsoft.FSharp.Core.FSharpOption`1<TypedBind[]>,Microsoft.FSharp.Core.FSharpOption`1<Ty>,Microsoft.FSharp.Core.FSharpOption`1<System.String>>>,HashConsTable>>, System.Collections.Generic.Dictionary`2<E,System.Tuple`2<System.Collections.Generic.Dictionary`2<ConsedNode`1<System.Tuple`4<RData[],Ty[],Ty,Ty>>,Microsoft.FSharp.Core.FSharpOption`1<System.Tuple`2<Data,TypedBind[]>>>,HashConsTable>>, System.Collections.Generic.Dictionary`2<T,System.Tuple`2<System.Collections.Generic.Dictionary`2<ConsedNode`1<Ty[]>,Microsoft.FSharp.Core.FSharpOption`1<Ty>>,HashConsTable>>, Microsoft.FSharp.Core.FSharpOption`1<Microsoft.FSharp.Core.FSharpFunc`2<Microsoft.FSharp.Core.Unit,Microsoft.FSharp.Core.Unit>>, LangEnv, E)\r\n",
      "00:00:38 #340 [Verbose] >    at Spiral.PartEval.Main.term@711-64(TopEnv, System.Collections.Generic.Dictionary`2<E,System.Tuple`2<System.Collections.Generic.Dictionary`2<ConsedNode`1<System.Tuple`2<RData[],Ty[]>>,System.Tuple`3<Microsoft.FSharp.Core.FSharpOption`1<TypedBind[]>,Microsoft.FSharp.Core.FSharpOption`1<Ty>,Microsoft.FSharp.Core.FSharpOption`1<System.String>>>,HashConsTable>>, System.Collections.Generic.Dictionary`2<E,System.Tuple`2<System.Collections.Generic.Dictionary`2<ConsedNode`1<System.Tuple`4<RData[],Ty[],Ty,Ty>>,Microsoft.FSharp.Core.FSharpOption`1<System.Tuple`2<Data,TypedBind[]>>>,HashConsTable>>, System.Collections.Generic.Dictionary`2<T,System.Tuple`2<System.Collections.Generic.Dictionary`2<ConsedNode`1<Ty[]>,Microsoft.FSharp.Core.FSharpOption`1<Ty>>,HashConsTable>>, Microsoft.FSharp.Core.FSharpOption`1<Microsoft.FSharp.Core.FSharpFunc`2<Microsoft.FSharp.Core.Unit,Microsoft.FSharp.Core.Unit>>, LangEnv, E)\r\n",
      "00:00:38 #341 [Verbose] >    at System.Runtime.CompilerServices.RuntimeHelpers.DispatchTailCalls(IntPtr, Void (IntPtr, Byte ByRef, System.Runtime.CompilerServices.PortableTailCallFrame*), Byte ByRef)\r\n",
      "00:00:38 #342 [Verbose] >    at Spiral.PartEval.Main.term@711-64(TopEnv, System.Collections.Generic.Dictionary`2<E,System.Tuple`2<System.Collections.Generic.Dictionary`2<ConsedNode`1<System.Tuple`2<RData[],Ty[]>>,System.Tuple`3<Microsoft.FSharp.Core.FSharpOption`1<TypedBind[]>,Microsoft.FSharp.Core.FSharpOption`1<Ty>,Microsoft.FSharp.Core.FSharpOption`1<System.String>>>,HashConsTable>>, System.Collections.Generic.Dictionary`2<E,System.Tuple`2<System.Collections.Generic.Dictionary`2<ConsedNode`1<System.Tuple`4<RData[],Ty[],Ty,Ty>>,Microsoft.FSharp.Core.FSharpOption`1<System.Tuple`2<Data,TypedBind[]>>>,HashConsTable>>, System.Collections.Generic.Dictionary`2<T,System.Tuple`2<System.Collections.Generic.Dictionary`2<ConsedNode`1<Ty[]>,Microsoft.FSharp.Core.FSharpOption`1<Ty>>,HashConsTable>>, Microsoft.FSharp.Core.FSharpOption`1<Microsoft.FSharp.Core.FSharpFunc`2<Microsoft.FSharp.Core.Unit,Microsoft.FSharp.Core.Unit>>, LangEnv, E)\r\n",
      "00:00:38 #343 [Verbose] >    at Spiral.PartEval.Main.term@711-64(TopEnv, System.Collections.Generic.Dictionary`2<E,System.Tuple`2<System.Collections.Generic.Dictionary`2<ConsedNode`1<System.Tuple`2<RData[],Ty[]>>,System.Tuple`3<Microsoft.FSharp.Core.FSharpOption`1<TypedBind[]>,Microsoft.FSharp.Core.FSharpOption`1<Ty>,Microsoft.FSharp.Core.FSharpOption`1<System.String>>>,HashConsTable>>, System.Collections.Generic.Dictionary`2<E,System.Tuple`2<System.Collections.Generic.Dictionary`2<ConsedNode`1<System.Tuple`4<RData[],Ty[],Ty,Ty>>,Microsoft.FSharp.Core.FSharpOption`1<System.Tuple`2<Data,TypedBind[]>>>,HashConsTable>>, System.Collections.Generic.Dictionary`2<T,System.Tuple`2<System.Collections.Generic.Dictionary`2<ConsedNode`1<Ty[]>,Microsoft.FSharp.Core.FSharpOption`1<Ty>>,HashConsTable>>, Microsoft.FSharp.Core.FSharpOption`1<Microsoft.FSharp.Core.FSharpFunc`2<Microsoft.FSharp.Core.Unit,Microsoft.FSharp.Core.Unit>>, LangEnv, E)\r\n",
      "00:00:38 #344 [Verbose] >    at System.Runtime.CompilerServices.RuntimeHelpers.DispatchTailCalls(IntPtr, Void (IntPtr, Byte ByRef, System.Runtime.CompilerServices.PortableTailCallFrame*), Byte ByRef)\r\n",
      "00:00:38 #345 [Verbose] >    at Spiral.PartEval.Main.term@711-64(TopEnv, System.Collections.Generic.Dictionary`2<E,System.Tuple`2<System.Collections.Generic.Dictionary`2<ConsedNode`1<System.Tuple`2<RData[],Ty[]>>,System.Tuple`3<Microsoft.FSharp.Core.FSharpOption`1<TypedBind[]>,Microsoft.FSharp.Core.FSharpOption`1<Ty>,Microsoft.FSharp.Core.FSharpOption`1<System.String>>>,HashConsTable>>, System.Collections.Generic.Dictionary`2<E,System.Tuple`2<System.Collections.Generic.Dictionary`2<ConsedNode`1<System.Tuple`4<RData[],Ty[],Ty,Ty>>,Microsoft.FSharp.Core.FSharpOption`1<System.Tuple`2<Data,TypedBind[]>>>,HashConsTable>>, System.Collections.Generic.Dictionary`2<T,System.Tuple`2<System.Collections.Generic.Dictionary`2<ConsedNode`1<Ty[]>,Microsoft.FSharp.Core.FSharpOption`1<Ty>>,HashConsTable>>, Microsoft.FSharp.Core.FSharpOption`1<Microsoft.FSharp.Core.FSharpFunc`2<Microsoft.FSharp.Core.Unit,Microsoft.FSharp.Core.Unit>>, LangEnv, E)\r\n",
      "00:00:38 #346 [Verbose] >    at Spiral.PartEval.Main.term@711-64(TopEnv, System.Collections.Generic.Dictionary`2<E,System.Tuple`2<System.Collections.Generic.Dictionary`2<ConsedNode`1<System.Tuple`2<RData[],Ty[]>>,System.Tuple`3<Microsoft.FSharp.Core.FSharpOption`1<TypedBind[]>,Microsoft.FSharp.Core.FSharpOption`1<Ty>,Microsoft.FSharp.Core.FSharpOption`1<System.String>>>,HashConsTable>>, System.Collections.Generic.Dictionary`2<E,System.Tuple`2<System.Collections.Generic.Dictionary`2<ConsedNode`1<System.Tuple`4<RData[],Ty[],Ty,Ty>>,Microsoft.FSharp.Core.FSharpOption`1<System.Tuple`2<Data,TypedBind[]>>>,HashConsTable>>, System.Collections.Generic.Dictionary`2<T,System.Tuple`2<System.Collections.Generic.Dictionary`2<ConsedNode`1<Ty[]>,Microsoft.FSharp.Core.FSharpOption`1<Ty>>,HashConsTable>>, Microsoft.FSharp.Core.FSharpOption`1<Microsoft.FSharp.Core.FSharpFunc`2<Microsoft.FSharp.Core.Unit,Microsoft.FSharp.Core.Unit>>, LangEnv, E)\r\n",
      "00:00:38 #347 [Verbose] >    at System.Runtime.CompilerServices.RuntimeHelpers.DispatchTailCalls(IntPtr, Void (IntPtr, Byte ByRef, System.Runtime.CompilerServices.PortableTailCallFrame*), Byte ByRef)\r\n",
      "00:00:38 #348 [Verbose] >    at Spiral.PartEval.Main.term@711-64(TopEnv, System.Collections.Generic.Dictionary`2<E,System.Tuple`2<System.Collections.Generic.Dictionary`2<ConsedNode`1<System.Tuple`2<RData[],Ty[]>>,System.Tuple`3<Microsoft.FSharp.Core.FSharpOption`1<TypedBind[]>,Microsoft.FSharp.Core.FSharpOption`1<Ty>,Microsoft.FSharp.Core.FSharpOption`1<System.String>>>,HashConsTable>>, System.Collections.Generic.Dictionary`2<E,System.Tuple`2<System.Collections.Generic.Dictionary`2<ConsedNode`1<System.Tuple`4<RData[],Ty[],Ty,Ty>>,Microsoft.FSharp.Core.FSharpOption`1<System.Tuple`2<Data,TypedBind[]>>>,HashConsTable>>, System.Collections.Generic.Dictionary`2<T,System.Tuple`2<System.Collections.Generic.Dictionary`2<ConsedNode`1<Ty[]>,Microsoft.FSharp.Core.FSharpOption`1<Ty>>,HashConsTable>>, Microsoft.FSharp.Core.FSharpOption`1<Microsoft.FSharp.Core.FSharpFunc`2<Microsoft.FSharp.Core.Unit,Microsoft.FSharp.Core.Unit>>, LangEnv, E)\r\n",
      "00:00:38 #349 [Verbose] >    at Spiral.PartEval.Main.term@711-64(TopEnv, System.Collections.Generic.Dictionary`2<E,System.Tuple`2<System.Collections.Generic.Dictionary`2<ConsedNode`1<System.Tuple`2<RData[],Ty[]>>,System.Tuple`3<Microsoft.FSharp.Core.FSharpOption`1<TypedBind[]>,Microsoft.FSharp.Core.FSharpOption`1<Ty>,Microsoft.FSharp.Core.FSharpOption`1<System.String>>>,HashConsTable>>, System.Collections.Generic.Dictionary`2<E,System.Tuple`2<System.Collections.Generic.Dictionary`2<ConsedNode`1<System.Tuple`4<RData[],Ty[],Ty,Ty>>,Microsoft.FSharp.Core.FSharpOption`1<System.Tuple`2<Data,TypedBind[]>>>,HashConsTable>>, System.Collections.Generic.Dictionary`2<T,System.Tuple`2<System.Collections.Generic.Dictionary`2<ConsedNode`1<Ty[]>,Microsoft.FSharp.Core.FSharpOption`1<Ty>>,HashConsTable>>, Microsoft.FSharp.Core.FSharpOption`1<Microsoft.FSharp.Core.FSharpFunc`2<Microsoft.FSharp.Core.Unit,Microsoft.FSharp.Core.Unit>>, LangEnv, E)\r\n",
      "00:00:38 #350 [Verbose] >    at System.Runtime.CompilerServices.RuntimeHelpers.DispatchTailCalls(IntPtr, Void (IntPtr, Byte ByRef, System.Runtime.CompilerServices.PortableTailCallFrame*), Byte ByRef)\r\n",
      "00:00:38 #351 [Verbose] >    at Spiral.PartEval.Main.term@711-64(TopEnv, System.Collections.Generic.Dictionary`2<E,System.Tuple`2<System.Collections.Generic.Dictionary`2<ConsedNode`1<System.Tuple`2<RData[],Ty[]>>,System.Tuple`3<Microsoft.FSharp.Core.FSharpOption`1<TypedBind[]>,Microsoft.FSharp.Core.FSharpOption`1<Ty>,Microsoft.FSharp.Core.FSharpOption`1<System.String>>>,HashConsTable>>, System.Collections.Generic.Dictionary`2<E,System.Tuple`2<System.Collections.Generic.Dictionary`2<ConsedNode`1<System.Tuple`4<RData[],Ty[],Ty,Ty>>,Microsoft.FSharp.Core.FSharpOption`1<System.Tuple`2<Data,TypedBind[]>>>,HashConsTable>>, System.Collections.Generic.Dictionary`2<T,System.Tuple`2<System.Collections.Generic.Dictionary`2<ConsedNode`1<Ty[]>,Microsoft.FSharp.Core.FSharpOption`1<Ty>>,HashConsTable>>, Microsoft.FSharp.Core.FSharpOption`1<Microsoft.FSharp.Core.FSharpFunc`2<Microsoft.FSharp.Core.Unit,Microsoft.FSharp.Core.Unit>>, LangEnv, E)\r\n",
      "00:00:38 #352 [Verbose] >    at Spiral.PartEval.Main.term@711-64(TopEnv, System.Collections.Generic.Dictionary`2<E,System.Tuple`2<System.Collections.Generic.Dictionary`2<ConsedNode`1<System.Tuple`2<RData[],Ty[]>>,System.Tuple`3<Microsoft.FSharp.Core.FSharpOption`1<TypedBind[]>,Microsoft.FSharp.Core.FSharpOption`1<Ty>,Microsoft.FSharp.Core.FSharpOption`1<System.String>>>,HashConsTable>>, System.Collections.Generic.Dictionary`2<E,System.Tuple`2<System.Collections.Generic.Dictionary`2<ConsedNode`1<System.Tuple`4<RData[],Ty[],Ty,Ty>>,Microsoft.FSharp.Core.FSharpOption`1<System.Tuple`2<Data,TypedBind[]>>>,HashConsTable>>, System.Collections.Generic.Dictionary`2<T,System.Tuple`2<System.Collections.Generic.Dictionary`2<ConsedNode`1<Ty[]>,Microsoft.FSharp.Core.FSharpOption`1<Ty>>,HashConsTable>>, Microsoft.FSharp.Core.FSharpOption`1<Microsoft.FSharp.Core.FSharpFunc`2<Microsoft.FSharp.Core.Unit,Microsoft.FSharp.Core.Unit>>, LangEnv, E)\r\n",
      "00:00:38 #353 [Verbose] >    at System.Runtime.CompilerServices.RuntimeHelpers.DispatchTailCalls(IntPtr, Void (IntPtr, Byte ByRef, System.Runtime.CompilerServices.PortableTailCallFrame*), Byte ByRef)\r\n",
      "00:00:38 #354 [Verbose] >    at Spiral.PartEval.Main.term@711-64(TopEnv, System.Collections.Generic.Dictionary`2<E,System.Tuple`2<System.Collections.Generic.Dictionary`2<ConsedNode`1<System.Tuple`2<RData[],Ty[]>>,System.Tuple`3<Microsoft.FSharp.Core.FSharpOption`1<TypedBind[]>,Microsoft.FSharp.Core.FSharpOption`1<Ty>,Microsoft.FSharp.Core.FSharpOption`1<System.String>>>,HashConsTable>>, System.Collections.Generic.Dictionary`2<E,System.Tuple`2<System.Collections.Generic.Dictionary`2<ConsedNode`1<System.Tuple`4<RData[],Ty[],Ty,Ty>>,Microsoft.FSharp.Core.FSharpOption`1<System.Tuple`2<Data,TypedBind[]>>>,HashConsTable>>, System.Collections.Generic.Dictionary`2<T,System.Tuple`2<System.Collections.Generic.Dictionary`2<ConsedNode`1<Ty[]>,Microsoft.FSharp.Core.FSharpOption`1<Ty>>,HashConsTable>>, Microsoft.FSharp.Core.FSharpOption`1<Microsoft.FSharp.Core.FSharpFunc`2<Microsoft.FSharp.Core.Unit,Microsoft.FSharp.Core.Unit>>, LangEnv, E)\r\n",
      "00:00:38 #355 [Verbose] >    at Spiral.PartEval.Main.term@711-64(TopEnv, System.Collections.Generic.Dictionary`2<E,System.Tuple`2<System.Collections.Generic.Dictionary`2<ConsedNode`1<System.Tuple`2<RData[],Ty[]>>,System.Tuple`3<Microsoft.FSharp.Core.FSharpOption`1<TypedBind[]>,Microsoft.FSharp.Core.FSharpOption`1<Ty>,Microsoft.FSharp.Core.FSharpOption`1<System.String>>>,HashConsTable>>, System.Collections.Generic.Dictionary`2<E,System.Tuple`2<System.Collections.Generic.Dictionary`2<ConsedNode`1<System.Tuple`4<RData[],Ty[],Ty,Ty>>,Microsoft.FSharp.Core.FSharpOption`1<System.Tuple`2<Data,TypedBind[]>>>,HashConsTable>>, System.Collections.Generic.Dictionary`2<T,System.Tuple`2<System.Collections.Generic.Dictionary`2<ConsedNode`1<Ty[]>,Microsoft.FSharp.Core.FSharpOption`1<Ty>>,HashConsTable>>, Microsoft.FSharp.Core.FSharpOption`1<Microsoft.FSharp.Core.FSharpFunc`2<Microsoft.FSharp.Core.Unit,Microsoft.FSharp.Core.Unit>>, LangEnv, E)\r\n",
      "00:00:38 #356 [Verbose] >    at System.Runtime.CompilerServices.RuntimeHelpers.DispatchTailCalls(IntPtr, Void (IntPtr, Byte ByRef, System.Runtime.CompilerServices.PortableTailCallFrame*), Byte ByRef)\r\n",
      "00:00:38 #357 [Verbose] >    at Spiral.PartEval.Main.term@711-64(TopEnv, System.Collections.Generic.Dictionary`2<E,System.Tuple`2<System.Collections.Generic.Dictionary`2<ConsedNode`1<System.Tuple`2<RData[],Ty[]>>,System.Tuple`3<Microsoft.FSharp.Core.FSharpOption`1<TypedBind[]>,Microsoft.FSharp.Core.FSharpOption`1<Ty>,Microsoft.FSharp.Core.FSharpOption`1<System.String>>>,HashConsTable>>, System.Collections.Generic.Dictionary`2<E,System.Tuple`2<System.Collections.Generic.Dictionary`2<ConsedNode`1<System.Tuple`4<RData[],Ty[],Ty,Ty>>,Microsoft.FSharp.Core.FSharpOption`1<System.Tuple`2<Data,TypedBind[]>>>,HashConsTable>>, System.Collections.Generic.Dictionary`2<T,System.Tuple`2<System.Collections.Generic.Dictionary`2<ConsedNode`1<Ty[]>,Microsoft.FSharp.Core.FSharpOption`1<Ty>>,HashConsTable>>, Microsoft.FSharp.Core.FSharpOption`1<Microsoft.FSharp.Core.FSharpFunc`2<Microsoft.FSharp.Core.Unit,Microsoft.FSharp.Core.Unit>>, LangEnv, E)\r\n",
      "00:00:38 #358 [Verbose] >    at Spiral.PartEval.Main.term@711-64(TopEnv, System.Collections.Generic.Dictionary`2<E,System.Tuple`2<System.Collections.Generic.Dictionary`2<ConsedNode`1<System.Tuple`2<RData[],Ty[]>>,System.Tuple`3<Microsoft.FSharp.Core.FSharpOption`1<TypedBind[]>,Microsoft.FSharp.Core.FSharpOption`1<Ty>,Microsoft.FSharp.Core.FSharpOption`1<System.String>>>,HashConsTable>>, System.Collections.Generic.Dictionary`2<E,System.Tuple`2<System.Collections.Generic.Dictionary`2<ConsedNode`1<System.Tuple`4<RData[],Ty[],Ty,Ty>>,Microsoft.FSharp.Core.FSharpOption`1<System.Tuple`2<Data,TypedBind[]>>>,HashConsTable>>, System.Collections.Generic.Dictionary`2<T,System.Tuple`2<System.Collections.Generic.Dictionary`2<ConsedNode`1<Ty[]>,Microsoft.FSharp.Core.FSharpOption`1<Ty>>,HashConsTable>>, Microsoft.FSharp.Core.FSharpOption`1<Microsoft.FSharp.Core.FSharpFunc`2<Microsoft.FSharp.Core.Unit,Microsoft.FSharp.Core.Unit>>, LangEnv, E)\r\n",
      "00:00:38 #359 [Verbose] >    at System.Runtime.CompilerServices.RuntimeHelpers.DispatchTailCalls(IntPtr, Void (IntPtr, Byte ByRef, System.Runtime.CompilerServices.PortableTailCallFrame*), Byte ByRef)\r\n",
      "00:00:38 #360 [Verbose] >    at Spiral.PartEval.Main.term@711-64(TopEnv, System.Collections.Generic.Dictionary`2<E,System.Tuple`2<System.Collections.Generic.Dictionary`2<ConsedNode`1<System.Tuple`2<RData[],Ty[]>>,System.Tuple`3<Microsoft.FSharp.Core.FSharpOption`1<TypedBind[]>,Microsoft.FSharp.Core.FSharpOption`1<Ty>,Microsoft.FSharp.Core.FSharpOption`1<System.String>>>,HashConsTable>>, System.Collections.Generic.Dictionary`2<E,System.Tuple`2<System.Collections.Generic.Dictionary`2<ConsedNode`1<System.Tuple`4<RData[],Ty[],Ty,Ty>>,Microsoft.FSharp.Core.FSharpOption`1<System.Tuple`2<Data,TypedBind[]>>>,HashConsTable>>, System.Collections.Generic.Dictionary`2<T,System.Tuple`2<System.Collections.Generic.Dictionary`2<ConsedNode`1<Ty[]>,Microsoft.FSharp.Core.FSharpOption`1<Ty>>,HashConsTable>>, Microsoft.FSharp.Core.FSharpOption`1<Microsoft.FSharp.Core.FSharpFunc`2<Microsoft.FSharp.Core.Unit,Microsoft.FSharp.Core.Unit>>, LangEnv, E)\r\n",
      "00:00:38 #361 [Verbose] >    at Spiral.PartEval.Main.term@711-64(TopEnv, System.Collections.Generic.Dictionary`2<E,System.Tuple`2<System.Collections.Generic.Dictionary`2<ConsedNode`1<System.Tuple`2<RData[],Ty[]>>,System.Tuple`3<Microsoft.FSharp.Core.FSharpOption`1<TypedBind[]>,Microsoft.FSharp.Core.FSharpOption`1<Ty>,Microsoft.FSharp.Core.FSharpOption`1<System.String>>>,HashConsTable>>, System.Collections.Generic.Dictionary`2<E,System.Tuple`2<System.Collections.Generic.Dictionary`2<ConsedNode`1<System.Tuple`4<RData[],Ty[],Ty,Ty>>,Microsoft.FSharp.Core.FSharpOption`1<System.Tuple`2<Data,TypedBind[]>>>,HashConsTable>>, System.Collections.Generic.Dictionary`2<T,System.Tuple`2<System.Collections.Generic.Dictionary`2<ConsedNode`1<Ty[]>,Microsoft.FSharp.Core.FSharpOption`1<Ty>>,HashConsTable>>, Microsoft.FSharp.Core.FSharpOption`1<Microsoft.FSharp.Core.FSharpFunc`2<Microsoft.FSharp.Core.Unit,Microsoft.FSharp.Core.Unit>>, LangEnv, E)\r\n",
      "00:00:38 #362 [Verbose] >    at System.Runtime.CompilerServices.RuntimeHelpers.DispatchTailCalls(IntPtr, Void (IntPtr, Byte ByRef, System.Runtime.CompilerServices.PortableTailCallFrame*), Byte ByRef)\r\n",
      "00:00:38 #363 [Verbose] >    at Spiral.PartEval.Main.term@711-64(TopEnv, System.Collections.Generic.Dictionary`2<E,System.Tuple`2<System.Collections.Generic.Dictionary`2<ConsedNode`1<System.Tuple`2<RData[],Ty[]>>,System.Tuple`3<Microsoft.FSharp.Core.FSharpOption`1<TypedBind[]>,Microsoft.FSharp.Core.FSharpOption`1<Ty>,Microsoft.FSharp.Core.FSharpOption`1<System.String>>>,HashConsTable>>, System.Collections.Generic.Dictionary`2<E,System.Tuple`2<System.Collections.Generic.Dictionary`2<ConsedNode`1<System.Tuple`4<RData[],Ty[],Ty,Ty>>,Microsoft.FSharp.Core.FSharpOption`1<System.Tuple`2<Data,TypedBind[]>>>,HashConsTable>>, System.Collections.Generic.Dictionary`2<T,System.Tuple`2<System.Collections.Generic.Dictionary`2<ConsedNode`1<Ty[]>,Microsoft.FSharp.Core.FSharpOption`1<Ty>>,HashConsTable>>, Microsoft.FSharp.Core.FSharpOption`1<Microsoft.FSharp.Core.FSharpFunc`2<Microsoft.FSharp.Core.Unit,Microsoft.FSharp.Core.Unit>>, LangEnv, E)\r\n",
      "00:00:38 #364 [Verbose] >    at Spiral.PartEval.Main.term@711-64(TopEnv, System.Collections.Generic.Dictionary`2<E,System.Tuple`2<System.Collections.Generic.Dictionary`2<ConsedNode`1<System.Tuple`2<RData[],Ty[]>>,System.Tuple`3<Microsoft.FSharp.Core.FSharpOption`1<TypedBind[]>,Microsoft.FSharp.Core.FSharpOption`1<Ty>,Microsoft.FSharp.Core.FSharpOption`1<System.String>>>,HashConsTable>>, System.Collections.Generic.Dictionary`2<E,System.Tuple`2<System.Collections.Generic.Dictionary`2<ConsedNode`1<System.Tuple`4<RData[],Ty[],Ty,Ty>>,Microsoft.FSharp.Core.FSharpOption`1<System.Tuple`2<Data,TypedBind[]>>>,HashConsTable>>, System.Collections.Generic.Dictionary`2<T,System.Tuple`2<System.Collections.Generic.Dictionary`2<ConsedNode`1<Ty[]>,Microsoft.FSharp.Core.FSharpOption`1<Ty>>,HashConsTable>>, Microsoft.FSharp.Core.FSharpOption`1<Microsoft.FSharp.Core.FSharpFunc`2<Microsoft.FSharp.Core.Unit,Microsoft.FSharp.Core.Unit>>, LangEnv, E)\r\n",
      "00:00:38 #365 [Verbose] >    at System.Runtime.CompilerServices.RuntimeHelpers.DispatchTailCalls(IntPtr, Void (IntPtr, Byte ByRef, System.Runtime.CompilerServices.PortableTailCallFrame*), Byte ByRef)\r\n",
      "00:00:38 #366 [Verbose] >    at Spiral.PartEval.Main.term@711-64(TopEnv, System.Collections.Generic.Dictionary`2<E,System.Tuple`2<System.Collections.Generic.Dictionary`2<ConsedNode`1<System.Tuple`2<RData[],Ty[]>>,System.Tuple`3<Microsoft.FSharp.Core.FSharpOption`1<TypedBind[]>,Microsoft.FSharp.Core.FSharpOption`1<Ty>,Microsoft.FSharp.Core.FSharpOption`1<System.String>>>,HashConsTable>>, System.Collections.Generic.Dictionary`2<E,System.Tuple`2<System.Collections.Generic.Dictionary`2<ConsedNode`1<System.Tuple`4<RData[],Ty[],Ty,Ty>>,Microsoft.FSharp.Core.FSharpOption`1<System.Tuple`2<Data,TypedBind[]>>>,HashConsTable>>, System.Collections.Generic.Dictionary`2<T,System.Tuple`2<System.Collections.Generic.Dictionary`2<ConsedNode`1<Ty[]>,Microsoft.FSharp.Core.FSharpOption`1<Ty>>,HashConsTable>>, Microsoft.FSharp.Core.FSharpOption`1<Microsoft.FSharp.Core.FSharpFunc`2<Microsoft.FSharp.Core.Unit,Microsoft.FSharp.Core.Unit>>, LangEnv, E)\r\n",
      "00:00:38 #367 [Verbose] >    at Spiral.PartEval.Main.term@711-64(TopEnv, System.Collections.Generic.Dictionary`2<E,System.Tuple`2<System.Collections.Generic.Dictionary`2<ConsedNode`1<System.Tuple`2<RData[],Ty[]>>,System.Tuple`3<Microsoft.FSharp.Core.FSharpOption`1<TypedBind[]>,Microsoft.FSharp.Core.FSharpOption`1<Ty>,Microsoft.FSharp.Core.FSharpOption`1<System.String>>>,HashConsTable>>, System.Collections.Generic.Dictionary`2<E,System.Tuple`2<System.Collections.Generic.Dictionary`2<ConsedNode`1<System.Tuple`4<RData[],Ty[],Ty,Ty>>,Microsoft.FSharp.Core.FSharpOption`1<System.Tuple`2<Data,TypedBind[]>>>,HashConsTable>>, System.Collections.Generic.Dictionary`2<T,System.Tuple`2<System.Collections.Generic.Dictionary`2<ConsedNode`1<Ty[]>,Microsoft.FSharp.Core.FSharpOption`1<Ty>>,HashConsTable>>, Microsoft.FSharp.Core.FSharpOption`1<Microsoft.FSharp.Core.FSharpFunc`2<Microsoft.FSharp.Core.Unit,Microsoft.FSharp.Core.Unit>>, LangEnv, E)\r\n",
      "00:00:38 #368 [Verbose] >    at System.Runtime.CompilerServices.RuntimeHelpers.DispatchTailCalls(IntPtr, Void (IntPtr, Byte ByRef, System.Runtime.CompilerServices.PortableTailCallFrame*), Byte ByRef)\r\n",
      "00:00:38 #369 [Verbose] >    at Spiral.PartEval.Main.term@711-64(TopEnv, System.Collections.Generic.Dictionary`2<E,System.Tuple`2<System.Collections.Generic.Dictionary`2<ConsedNode`1<System.Tuple`2<RData[],Ty[]>>,System.Tuple`3<Microsoft.FSharp.Core.FSharpOption`1<TypedBind[]>,Microsoft.FSharp.Core.FSharpOption`1<Ty>,Microsoft.FSharp.Core.FSharpOption`1<System.String>>>,HashConsTable>>, System.Collections.Generic.Dictionary`2<E,System.Tuple`2<System.Collections.Generic.Dictionary`2<ConsedNode`1<System.Tuple`4<RData[],Ty[],Ty,Ty>>,Microsoft.FSharp.Core.FSharpOption`1<System.Tuple`2<Data,TypedBind[]>>>,HashConsTable>>, System.Collections.Generic.Dictionary`2<T,System.Tuple`2<System.Collections.Generic.Dictionary`2<ConsedNode`1<Ty[]>,Microsoft.FSharp.Core.FSharpOption`1<Ty>>,HashConsTable>>, Microsoft.FSharp.Core.FSharpOption`1<Microsoft.FSharp.Core.FSharpFunc`2<Microsoft.FSharp.Core.Unit,Microsoft.FSharp.Core.Unit>>, LangEnv, E)\r\n",
      "00:00:38 #370 [Verbose] >    at Spiral.PartEval.Main.term@711-64(TopEnv, System.Collections.Generic.Dictionary`2<E,System.Tuple`2<System.Collections.Generic.Dictionary`2<ConsedNode`1<System.Tuple`2<RData[],Ty[]>>,System.Tuple`3<Microsoft.FSharp.Core.FSharpOption`1<TypedBind[]>,Microsoft.FSharp.Core.FSharpOption`1<Ty>,Microsoft.FSharp.Core.FSharpOption`1<System.String>>>,HashConsTable>>, System.Collections.Generic.Dictionary`2<E,System.Tuple`2<System.Collections.Generic.Dictionary`2<ConsedNode`1<System.Tuple`4<RData[],Ty[],Ty,Ty>>,Microsoft.FSharp.Core.FSharpOption`1<System.Tuple`2<Data,TypedBind[]>>>,HashConsTable>>, System.Collections.Generic.Dictionary`2<T,System.Tuple`2<System.Collections.Generic.Dictionary`2<ConsedNode`1<Ty[]>,Microsoft.FSharp.Core.FSharpOption`1<Ty>>,HashConsTable>>, Microsoft.FSharp.Core.FSharpOption`1<Microsoft.FSharp.Core.FSharpFunc`2<Microsoft.FSharp.Core.Unit,Microsoft.FSharp.Core.Unit>>, LangEnv, E)\r\n",
      "00:00:38 #371 [Verbose] >    at System.Runtime.CompilerServices.RuntimeHelpers.DispatchTailCalls(IntPtr, Void (IntPtr, Byte ByRef, System.Runtime.CompilerServices.PortableTailCallFrame*), Byte ByRef)\r\n",
      "00:00:38 #372 [Verbose] >    at Spiral.PartEval.Main.term@711-64(TopEnv, System.Collections.Generic.Dictionary`2<E,System.Tuple`2<System.Collections.Generic.Dictionary`2<ConsedNode`1<System.Tuple`2<RData[],Ty[]>>,System.Tuple`3<Microsoft.FSharp.Core.FSharpOption`1<TypedBind[]>,Microsoft.FSharp.Core.FSharpOption`1<Ty>,Microsoft.FSharp.Core.FSharpOption`1<System.String>>>,HashConsTable>>, System.Collections.Generic.Dictionary`2<E,System.Tuple`2<System.Collections.Generic.Dictionary`2<ConsedNode`1<System.Tuple`4<RData[],Ty[],Ty,Ty>>,Microsoft.FSharp.Core.FSharpOption`1<System.Tuple`2<Data,TypedBind[]>>>,HashConsTable>>, System.Collections.Generic.Dictionary`2<T,System.Tuple`2<System.Collections.Generic.Dictionary`2<ConsedNode`1<Ty[]>,Microsoft.FSharp.Core.FSharpOption`1<Ty>>,HashConsTable>>, Microsoft.FSharp.Core.FSharpOption`1<Microsoft.FSharp.Core.FSharpFunc`2<Microsoft.FSharp.Core.Unit,Microsoft.FSharp.Core.Unit>>, LangEnv, E)\r\n",
      "00:00:38 #373 [Verbose] >    at Spiral.PartEval.Main.term@711-64(TopEnv, System.Collections.Generic.Dictionary`2<E,System.Tuple`2<System.Collections.Generic.Dictionary`2<ConsedNode`1<System.Tuple`2<RData[],Ty[]>>,System.Tuple`3<Microsoft.FSharp.Core.FSharpOption`1<TypedBind[]>,Microsoft.FSharp.Core.FSharpOption`1<Ty>,Microsoft.FSharp.Core.FSharpOption`1<System.String>>>,HashConsTable>>, System.Collections.Generic.Dictionary`2<E,System.Tuple`2<System.Collections.Generic.Dictionary`2<ConsedNode`1<System.Tuple`4<RData[],Ty[],Ty,Ty>>,Microsoft.FSharp.Core.FSharpOption`1<System.Tuple`2<Data,TypedBind[]>>>,HashConsTable>>, System.Collections.Generic.Dictionary`2<T,System.Tuple`2<System.Collections.Generic.Dictionary`2<ConsedNode`1<Ty[]>,Microsoft.FSharp.Core.FSharpOption`1<Ty>>,HashConsTable>>, Microsoft.FSharp.Core.FSharpOption`1<Microsoft.FSharp.Core.FSharpFunc`2<Microsoft.FSharp.Core.Unit,Microsoft.FSharp.Core.Unit>>, LangEnv, E)\r\n",
      "00:00:38 #374 [Verbose] >    at System.Runtime.CompilerServices.RuntimeHelpers.DispatchTailCalls(IntPtr, Void (IntPtr, Byte ByRef, System.Runtime.CompilerServices.PortableTailCallFrame*), Byte ByRef)\r\n",
      "00:00:38 #375 [Verbose] >    at Spiral.PartEval.Main.term@711-64(TopEnv, System.Collections.Generic.Dictionary`2<E,System.Tuple`2<System.Collections.Generic.Dictionary`2<ConsedNode`1<System.Tuple`2<RData[],Ty[]>>,System.Tuple`3<Microsoft.FSharp.Core.FSharpOption`1<TypedBind[]>,Microsoft.FSharp.Core.FSharpOption`1<Ty>,Microsoft.FSharp.Core.FSharpOption`1<System.String>>>,HashConsTable>>, System.Collections.Generic.Dictionary`2<E,System.Tuple`2<System.Collections.Generic.Dictionary`2<ConsedNode`1<System.Tuple`4<RData[],Ty[],Ty,Ty>>,Microsoft.FSharp.Core.FSharpOption`1<System.Tuple`2<Data,TypedBind[]>>>,HashConsTable>>, System.Collections.Generic.Dictionary`2<T,System.Tuple`2<System.Collections.Generic.Dictionary`2<ConsedNode`1<Ty[]>,Microsoft.FSharp.Core.FSharpOption`1<Ty>>,HashConsTable>>, Microsoft.FSharp.Core.FSharpOption`1<Microsoft.FSharp.Core.FSharpFunc`2<Microsoft.FSharp.Core.Unit,Microsoft.FSharp.Core.Unit>>, LangEnv, E)\r\n",
      "00:00:38 #376 [Verbose] >    at Spiral.PartEval.Main.term@711-64(TopEnv, System.Collections.Generic.Dictionary`2<E,System.Tuple`2<System.Collections.Generic.Dictionary`2<ConsedNode`1<System.Tuple`2<RData[],Ty[]>>,System.Tuple`3<Microsoft.FSharp.Core.FSharpOption`1<TypedBind[]>,Microsoft.FSharp.Core.FSharpOption`1<Ty>,Microsoft.FSharp.Core.FSharpOption`1<System.String>>>,HashConsTable>>, System.Collections.Generic.Dictionary`2<E,System.Tuple`2<System.Collections.Generic.Dictionary`2<ConsedNode`1<System.Tuple`4<RData[],Ty[],Ty,Ty>>,Microsoft.FSharp.Core.FSharpOption`1<System.Tuple`2<Data,TypedBind[]>>>,HashConsTable>>, System.Collections.Generic.Dictionary`2<T,System.Tuple`2<System.Collections.Generic.Dictionary`2<ConsedNode`1<Ty[]>,Microsoft.FSharp.Core.FSharpOption`1<Ty>>,HashConsTable>>, Microsoft.FSharp.Core.FSharpOption`1<Microsoft.FSharp.Core.FSharpFunc`2<Microsoft.FSharp.Core.Unit,Microsoft.FSharp.Core.Unit>>, LangEnv, E)\r\n",
      "00:00:38 #377 [Verbose] >    at System.Runtime.CompilerServices.RuntimeHelpers.DispatchTailCalls(IntPtr, Void (IntPtr, Byte ByRef, System.Runtime.CompilerServices.PortableTailCallFrame*), Byte ByRef)\r\n",
      "00:00:38 #378 [Verbose] >    at Spiral.PartEval.Main.term@711-64(TopEnv, System.Collections.Generic.Dictionary`2<E,System.Tuple`2<System.Collections.Generic.Dictionary`2<ConsedNode`1<System.Tuple`2<RData[],Ty[]>>,System.Tuple`3<Microsoft.FSharp.Core.FSharpOption`1<TypedBind[]>,Microsoft.FSharp.Core.FSharpOption`1<Ty>,Microsoft.FSharp.Core.FSharpOption`1<System.String>>>,HashConsTable>>, System.Collections.Generic.Dictionary`2<E,System.Tuple`2<System.Collections.Generic.Dictionary`2<ConsedNode`1<System.Tuple`4<RData[],Ty[],Ty,Ty>>,Microsoft.FSharp.Core.FSharpOption`1<System.Tuple`2<Data,TypedBind[]>>>,HashConsTable>>, System.Collections.Generic.Dictionary`2<T,System.Tuple`2<System.Collections.Generic.Dictionary`2<ConsedNode`1<Ty[]>,Microsoft.FSharp.Core.FSharpOption`1<Ty>>,HashConsTable>>, Microsoft.FSharp.Core.FSharpOption`1<Microsoft.FSharp.Core.FSharpFunc`2<Microsoft.FSharp.Core.Unit,Microsoft.FSharp.Core.Unit>>, LangEnv, E)\r\n",
      "00:00:38 #379 [Verbose] >    at Spiral.PartEval.Main.term@711-64(TopEnv, System.Collections.Generic.Dictionary`2<E,System.Tuple`2<System.Collections.Generic.Dictionary`2<ConsedNode`1<System.Tuple`2<RData[],Ty[]>>,System.Tuple`3<Microsoft.FSharp.Core.FSharpOption`1<TypedBind[]>,Microsoft.FSharp.Core.FSharpOption`1<Ty>,Microsoft.FSharp.Core.FSharpOption`1<System.String>>>,HashConsTable>>, System.Collections.Generic.Dictionary`2<E,System.Tuple`2<System.Collections.Generic.Dictionary`2<ConsedNode`1<System.Tuple`4<RData[],Ty[],Ty,Ty>>,Microsoft.FSharp.Core.FSharpOption`1<System.Tuple`2<Data,TypedBind[]>>>,HashConsTable>>, System.Collections.Generic.Dictionary`2<T,System.Tuple`2<System.Collections.Generic.Dictionary`2<ConsedNode`1<Ty[]>,Microsoft.FSharp.Core.FSharpOption`1<Ty>>,HashConsTable>>, Microsoft.FSharp.Core.FSharpOption`1<Microsoft.FSharp.Core.FSharpFunc`2<Microsoft.FSharp.Core.Unit,Microsoft.FSharp.Core.Unit>>, LangEnv, E)\r\n",
      "00:00:38 #380 [Verbose] >    at System.Runtime.CompilerServices.RuntimeHelpers.DispatchTailCalls(IntPtr, Void (IntPtr, Byte ByRef, System.Runtime.CompilerServices.PortableTailCallFrame*), Byte ByRef)\r\n",
      "00:00:38 #381 [Verbose] >    at Spiral.PartEval.Main.term@711-64(TopEnv, System.Collections.Generic.Dictionary`2<E,System.Tuple`2<System.Collections.Generic.Dictionary`2<ConsedNode`1<System.Tuple`2<RData[],Ty[]>>,System.Tuple`3<Microsoft.FSharp.Core.FSharpOption`1<TypedBind[]>,Microsoft.FSharp.Core.FSharpOption`1<Ty>,Microsoft.FSharp.Core.FSharpOption`1<System.String>>>,HashConsTable>>, System.Collections.Generic.Dictionary`2<E,System.Tuple`2<System.Collections.Generic.Dictionary`2<ConsedNode`1<System.Tuple`4<RData[],Ty[],Ty,Ty>>,Microsoft.FSharp.Core.FSharpOption`1<System.Tuple`2<Data,TypedBind[]>>>,HashConsTable>>, System.Collections.Generic.Dictionary`2<T,System.Tuple`2<System.Collections.Generic.Dictionary`2<ConsedNode`1<Ty[]>,Microsoft.FSharp.Core.FSharpOption`1<Ty>>,HashConsTable>>, Microsoft.FSharp.Core.FSharpOption`1<Microsoft.FSharp.Core.FSharpFunc`2<Microsoft.FSharp.Core.Unit,Microsoft.FSharp.Core.Unit>>, LangEnv, E)\r\n",
      "00:00:38 #382 [Verbose] >    at Spiral.PartEval.Main.term@711-64(TopEnv, System.Collections.Generic.Dictionary`2<E,System.Tuple`2<System.Collections.Generic.Dictionary`2<ConsedNode`1<System.Tuple`2<RData[],Ty[]>>,System.Tuple`3<Microsoft.FSharp.Core.FSharpOption`1<TypedBind[]>,Microsoft.FSharp.Core.FSharpOption`1<Ty>,Microsoft.FSharp.Core.FSharpOption`1<System.String>>>,HashConsTable>>, System.Collections.Generic.Dictionary`2<E,System.Tuple`2<System.Collections.Generic.Dictionary`2<ConsedNode`1<System.Tuple`4<RData[],Ty[],Ty,Ty>>,Microsoft.FSharp.Core.FSharpOption`1<System.Tuple`2<Data,TypedBind[]>>>,HashConsTable>>, System.Collections.Generic.Dictionary`2<T,System.Tuple`2<System.Collections.Generic.Dictionary`2<ConsedNode`1<Ty[]>,Microsoft.FSharp.Core.FSharpOption`1<Ty>>,HashConsTable>>, Microsoft.FSharp.Core.FSharpOption`1<Microsoft.FSharp.Core.FSharpFunc`2<Microsoft.FSharp.Core.Unit,Microsoft.FSharp.Core.Unit>>, LangEnv, E)\r\n",
      "00:00:38 #383 [Verbose] >    at System.Runtime.CompilerServices.RuntimeHelpers.DispatchTailCalls(IntPtr, Void (IntPtr, Byte ByRef, System.Runtime.CompilerServices.PortableTailCallFrame*), Byte ByRef)\r\n",
      "00:00:38 #384 [Verbose] >    at Spiral.PartEval.Main.term@711-64(TopEnv, System.Collections.Generic.Dictionary`2<E,System.Tuple`2<System.Collections.Generic.Dictionary`2<ConsedNode`1<System.Tuple`2<RData[],Ty[]>>,System.Tuple`3<Microsoft.FSharp.Core.FSharpOption`1<TypedBind[]>,Microsoft.FSharp.Core.FSharpOption`1<Ty>,Microsoft.FSharp.Core.FSharpOption`1<System.String>>>,HashConsTable>>, System.Collections.Generic.Dictionary`2<E,System.Tuple`2<System.Collections.Generic.Dictionary`2<ConsedNode`1<System.Tuple`4<RData[],Ty[],Ty,Ty>>,Microsoft.FSharp.Core.FSharpOption`1<System.Tuple`2<Data,TypedBind[]>>>,HashConsTable>>, System.Collections.Generic.Dictionary`2<T,System.Tuple`2<System.Collections.Generic.Dictionary`2<ConsedNode`1<Ty[]>,Microsoft.FSharp.Core.FSharpOption`1<Ty>>,HashConsTable>>, Microsoft.FSharp.Core.FSharpOption`1<Microsoft.FSharp.Core.FSharpFunc`2<Microsoft.FSharp.Core.Unit,Microsoft.FSharp.Core.Unit>>, LangEnv, E)\r\n",
      "00:00:38 #385 [Verbose] >    at Spiral.PartEval.Main.term@711-64(TopEnv, System.Collections.Generic.Dictionary`2<E,System.Tuple`2<System.Collections.Generic.Dictionary`2<ConsedNode`1<System.Tuple`2<RData[],Ty[]>>,System.Tuple`3<Microsoft.FSharp.Core.FSharpOption`1<TypedBind[]>,Microsoft.FSharp.Core.FSharpOption`1<Ty>,Microsoft.FSharp.Core.FSharpOption`1<System.String>>>,HashConsTable>>, System.Collections.Generic.Dictionary`2<E,System.Tuple`2<System.Collections.Generic.Dictionary`2<ConsedNode`1<System.Tuple`4<RData[],Ty[],Ty,Ty>>,Microsoft.FSharp.Core.FSharpOption`1<System.Tuple`2<Data,TypedBind[]>>>,HashConsTable>>, System.Collections.Generic.Dictionary`2<T,System.Tuple`2<System.Collections.Generic.Dictionary`2<ConsedNode`1<Ty[]>,Microsoft.FSharp.Core.FSharpOption`1<Ty>>,HashConsTable>>, Microsoft.FSharp.Core.FSharpOption`1<Microsoft.FSharp.Core.FSharpFunc`2<Microsoft.FSharp.Core.Unit,Microsoft.FSharp.Core.Unit>>, LangEnv, E)\r\n",
      "00:00:38 #386 [Verbose] >    at System.Runtime.CompilerServices.RuntimeHelpers.DispatchTailCalls(IntPtr, Void (IntPtr, Byte ByRef, System.Runtime.CompilerServices.PortableTailCallFrame*), Byte ByRef)\r\n",
      "00:00:38 #387 [Verbose] >    at Spiral.PartEval.Main.term@711-64(TopEnv, System.Collections.Generic.Dictionary`2<E,System.Tuple`2<System.Collections.Generic.Dictionary`2<ConsedNode`1<System.Tuple`2<RData[],Ty[]>>,System.Tuple`3<Microsoft.FSharp.Core.FSharpOption`1<TypedBind[]>,Microsoft.FSharp.Core.FSharpOption`1<Ty>,Microsoft.FSharp.Core.FSharpOption`1<System.String>>>,HashConsTable>>, System.Collections.Generic.Dictionary`2<E,System.Tuple`2<System.Collections.Generic.Dictionary`2<ConsedNode`1<System.Tuple`4<RData[],Ty[],Ty,Ty>>,Microsoft.FSharp.Core.FSharpOption`1<System.Tuple`2<Data,TypedBind[]>>>,HashConsTable>>, System.Collections.Generic.Dictionary`2<T,System.Tuple`2<System.Collections.Generic.Dictionary`2<ConsedNode`1<Ty[]>,Microsoft.FSharp.Core.FSharpOption`1<Ty>>,HashConsTable>>, Microsoft.FSharp.Core.FSharpOption`1<Microsoft.FSharp.Core.FSharpFunc`2<Microsoft.FSharp.Core.Unit,Microsoft.FSharp.Core.Unit>>, LangEnv, E)\r\n",
      "00:00:38 #388 [Verbose] >    at Spiral.PartEval.Main.term@711-64(TopEnv, System.Collections.Generic.Dictionary`2<E,System.Tuple`2<System.Collections.Generic.Dictionary`2<ConsedNode`1<System.Tuple`2<RData[],Ty[]>>,System.Tuple`3<Microsoft.FSharp.Core.FSharpOption`1<TypedBind[]>,Microsoft.FSharp.Core.FSharpOption`1<Ty>,Microsoft.FSharp.Core.FSharpOption`1<System.String>>>,HashConsTable>>, System.Collections.Generic.Dictionary`2<E,System.Tuple`2<System.Collections.Generic.Dictionary`2<ConsedNode`1<System.Tuple`4<RData[],Ty[],Ty,Ty>>,Microsoft.FSharp.Core.FSharpOption`1<System.Tuple`2<Data,TypedBind[]>>>,HashConsTable>>, System.Collections.Generic.Dictionary`2<T,System.Tuple`2<System.Collections.Generic.Dictionary`2<ConsedNode`1<Ty[]>,Microsoft.FSharp.Core.FSharpOption`1<Ty>>,HashConsTable>>, Microsoft.FSharp.Core.FSharpOption`1<Microsoft.FSharp.Core.FSharpFunc`2<Microsoft.FSharp.Core.Unit,Microsoft.FSharp.Core.Unit>>, LangEnv, E)\r\n",
      "00:00:38 #389 [Verbose] >    at System.Runtime.CompilerServices.RuntimeHelpers.DispatchTailCalls(IntPtr, Void (IntPtr, Byte ByRef, System.Runtime.CompilerServices.PortableTailCallFrame*), Byte ByRef)\r\n",
      "00:00:38 #390 [Verbose] >    at Spiral.PartEval.Main.term@711-64(TopEnv, System.Collections.Generic.Dictionary`2<E,System.Tuple`2<System.Collections.Generic.Dictionary`2<ConsedNode`1<System.Tuple`2<RData[],Ty[]>>,System.Tuple`3<Microsoft.FSharp.Core.FSharpOption`1<TypedBind[]>,Microsoft.FSharp.Core.FSharpOption`1<Ty>,Microsoft.FSharp.Core.FSharpOption`1<System.String>>>,HashConsTable>>, System.Collections.Generic.Dictionary`2<E,System.Tuple`2<System.Collections.Generic.Dictionary`2<ConsedNode`1<System.Tuple`4<RData[],Ty[],Ty,Ty>>,Microsoft.FSharp.Core.FSharpOption`1<System.Tuple`2<Data,TypedBind[]>>>,HashConsTable>>, System.Collections.Generic.Dictionary`2<T,System.Tuple`2<System.Collections.Generic.Dictionary`2<ConsedNode`1<Ty[]>,Microsoft.FSharp.Core.FSharpOption`1<Ty>>,HashConsTable>>, Microsoft.FSharp.Core.FSharpOption`1<Microsoft.FSharp.Core.FSharpFunc`2<Microsoft.FSharp.Core.Unit,Microsoft.FSharp.Core.Unit>>, LangEnv, E)\r\n",
      "00:00:38 #391 [Verbose] >    at Spiral.PartEval.Main.term@711-64(TopEnv, System.Collections.Generic.Dictionary`2<E,System.Tuple`2<System.Collections.Generic.Dictionary`2<ConsedNode`1<System.Tuple`2<RData[],Ty[]>>,System.Tuple`3<Microsoft.FSharp.Core.FSharpOption`1<TypedBind[]>,Microsoft.FSharp.Core.FSharpOption`1<Ty>,Microsoft.FSharp.Core.FSharpOption`1<System.String>>>,HashConsTable>>, System.Collections.Generic.Dictionary`2<E,System.Tuple`2<System.Collections.Generic.Dictionary`2<ConsedNode`1<System.Tuple`4<RData[],Ty[],Ty,Ty>>,Microsoft.FSharp.Core.FSharpOption`1<System.Tuple`2<Data,TypedBind[]>>>,HashConsTable>>, System.Collections.Generic.Dictionary`2<T,System.Tuple`2<System.Collections.Generic.Dictionary`2<ConsedNode`1<Ty[]>,Microsoft.FSharp.Core.FSharpOption`1<Ty>>,HashConsTable>>, Microsoft.FSharp.Core.FSharpOption`1<Microsoft.FSharp.Core.FSharpFunc`2<Microsoft.FSharp.Core.Unit,Microsoft.FSharp.Core.Unit>>, LangEnv, E)\r\n",
      "00:00:38 #392 [Verbose] >    at System.Runtime.CompilerServices.RuntimeHelpers.DispatchTailCalls(IntPtr, Void (IntPtr, Byte ByRef, System.Runtime.CompilerServices.PortableTailCallFrame*), Byte ByRef)\r\n",
      "00:00:38 #393 [Verbose] >    at Spiral.PartEval.Main.term@711-64(TopEnv, System.Collections.Generic.Dictionary`2<E,System.Tuple`2<System.Collections.Generic.Dictionary`2<ConsedNode`1<System.Tuple`2<RData[],Ty[]>>,System.Tuple`3<Microsoft.FSharp.Core.FSharpOption`1<TypedBind[]>,Microsoft.FSharp.Core.FSharpOption`1<Ty>,Microsoft.FSharp.Core.FSharpOption`1<System.String>>>,HashConsTable>>, System.Collections.Generic.Dictionary`2<E,System.Tuple`2<System.Collections.Generic.Dictionary`2<ConsedNode`1<System.Tuple`4<RData[],Ty[],Ty,Ty>>,Microsoft.FSharp.Core.FSharpOption`1<System.Tuple`2<Data,TypedBind[]>>>,HashConsTable>>, System.Collections.Generic.Dictionary`2<T,System.Tuple`2<System.Collections.Generic.Dictionary`2<ConsedNode`1<Ty[]>,Microsoft.FSharp.Core.FSharpOption`1<Ty>>,HashConsTable>>, Microsoft.FSharp.Core.FSharpOption`1<Microsoft.FSharp.Core.FSharpFunc`2<Microsoft.FSharp.Core.Unit,Microsoft.FSharp.Core.Unit>>, LangEnv, E)\r\n",
      "00:00:38 #394 [Verbose] >    at Spiral.PartEval.Main.term@711-64(TopEnv, System.Collections.Generic.Dictionary`2<E,System.Tuple`2<System.Collections.Generic.Dictionary`2<ConsedNode`1<System.Tuple`2<RData[],Ty[]>>,System.Tuple`3<Microsoft.FSharp.Core.FSharpOption`1<TypedBind[]>,Microsoft.FSharp.Core.FSharpOption`1<Ty>,Microsoft.FSharp.Core.FSharpOption`1<System.String>>>,HashConsTable>>, System.Collections.Generic.Dictionary`2<E,System.Tuple`2<System.Collections.Generic.Dictionary`2<ConsedNode`1<System.Tuple`4<RData[],Ty[],Ty,Ty>>,Microsoft.FSharp.Core.FSharpOption`1<System.Tuple`2<Data,TypedBind[]>>>,HashConsTable>>, System.Collections.Generic.Dictionary`2<T,System.Tuple`2<System.Collections.Generic.Dictionary`2<ConsedNode`1<Ty[]>,Microsoft.FSharp.Core.FSharpOption`1<Ty>>,HashConsTable>>, Microsoft.FSharp.Core.FSharpOption`1<Microsoft.FSharp.Core.FSharpFunc`2<Microsoft.FSharp.Core.Unit,Microsoft.FSharp.Core.Unit>>, LangEnv, E)\r\n",
      "00:00:38 #395 [Verbose] >    at System.Runtime.CompilerServices.RuntimeHelpers.DispatchTailCalls(IntPtr, Void (IntPtr, Byte ByRef, System.Runtime.CompilerServices.PortableTailCallFrame*), Byte ByRef)\r\n",
      "00:00:38 #396 [Verbose] >    at Spiral.PartEval.Main.term@711-64(TopEnv, System.Collections.Generic.Dictionary`2<E,System.Tuple`2<System.Collections.Generic.Dictionary`2<ConsedNode`1<System.Tuple`2<RData[],Ty[]>>,System.Tuple`3<Microsoft.FSharp.Core.FSharpOption`1<TypedBind[]>,Microsoft.FSharp.Core.FSharpOption`1<Ty>,Microsoft.FSharp.Core.FSharpOption`1<System.String>>>,HashConsTable>>, System.Collections.Generic.Dictionary`2<E,System.Tuple`2<System.Collections.Generic.Dictionary`2<ConsedNode`1<System.Tuple`4<RData[],Ty[],Ty,Ty>>,Microsoft.FSharp.Core.FSharpOption`1<System.Tuple`2<Data,TypedBind[]>>>,HashConsTable>>, System.Collections.Generic.Dictionary`2<T,System.Tuple`2<System.Collections.Generic.Dictionary`2<ConsedNode`1<Ty[]>,Microsoft.FSharp.Core.FSharpOption`1<Ty>>,HashConsTable>>, Microsoft.FSharp.Core.FSharpOption`1<Microsoft.FSharp.Core.FSharpFunc`2<Microsoft.FSharp.Core.Unit,Microsoft.FSharp.Core.Unit>>, LangEnv, E)\r\n",
      "00:00:38 #397 [Verbose] >    at Spiral.PartEval.Main.term@711-64(TopEnv, System.Collections.Generic.Dictionary`2<E,System.Tuple`2<System.Collections.Generic.Dictionary`2<ConsedNode`1<System.Tuple`2<RData[],Ty[]>>,System.Tuple`3<Microsoft.FSharp.Core.FSharpOption`1<TypedBind[]>,Microsoft.FSharp.Core.FSharpOption`1<Ty>,Microsoft.FSharp.Core.FSharpOption`1<System.String>>>,HashConsTable>>, System.Collections.Generic.Dictionary`2<E,System.Tuple`2<System.Collections.Generic.Dictionary`2<ConsedNode`1<System.Tuple`4<RData[],Ty[],Ty,Ty>>,Microsoft.FSharp.Core.FSharpOption`1<System.Tuple`2<Data,TypedBind[]>>>,HashConsTable>>, System.Collections.Generic.Dictionary`2<T,System.Tuple`2<System.Collections.Generic.Dictionary`2<ConsedNode`1<Ty[]>,Microsoft.FSharp.Core.FSharpOption`1<Ty>>,HashConsTable>>, Microsoft.FSharp.Core.FSharpOption`1<Microsoft.FSharp.Core.FSharpFunc`2<Microsoft.FSharp.Core.Unit,Microsoft.FSharp.Core.Unit>>, LangEnv, E)\r\n",
      "00:00:38 #398 [Verbose] >    at System.Runtime.CompilerServices.RuntimeHelpers.DispatchTailCalls(IntPtr, Void (IntPtr, Byte ByRef, System.Runtime.CompilerServices.PortableTailCallFrame*), Byte ByRef)\r\n",
      "00:00:38 #399 [Verbose] >    at Spiral.PartEval.Main.term@711-64(TopEnv, System.Collections.Generic.Dictionary`2<E,System.Tuple`2<System.Collections.Generic.Dictionary`2<ConsedNode`1<System.Tuple`2<RData[],Ty[]>>,System.Tuple`3<Microsoft.FSharp.Core.FSharpOption`1<TypedBind[]>,Microsoft.FSharp.Core.FSharpOption`1<Ty>,Microsoft.FSharp.Core.FSharpOption`1<System.String>>>,HashConsTable>>, System.Collections.Generic.Dictionary`2<E,System.Tuple`2<System.Collections.Generic.Dictionary`2<ConsedNode`1<System.Tuple`4<RData[],Ty[],Ty,Ty>>,Microsoft.FSharp.Core.FSharpOption`1<System.Tuple`2<Data,TypedBind[]>>>,HashConsTable>>, System.Collections.Generic.Dictionary`2<T,System.Tuple`2<System.Collections.Generic.Dictionary`2<ConsedNode`1<Ty[]>,Microsoft.FSharp.Core.FSharpOption`1<Ty>>,HashConsTable>>, Microsoft.FSharp.Core.FSharpOption`1<Microsoft.FSharp.Core.FSharpFunc`2<Microsoft.FSharp.Core.Unit,Microsoft.FSharp.Core.Unit>>, LangEnv, E)\r\n",
      "00:00:38 #400 [Verbose] >    at Spiral.PartEval.Main.term@711-64(TopEnv, System.Collections.Generic.Dictionary`2<E,System.Tuple`2<System.Collections.Generic.Dictionary`2<ConsedNode`1<System.Tuple`2<RData[],Ty[]>>,System.Tuple`3<Microsoft.FSharp.Core.FSharpOption`1<TypedBind[]>,Microsoft.FSharp.Core.FSharpOption`1<Ty>,Microsoft.FSharp.Core.FSharpOption`1<System.String>>>,HashConsTable>>, System.Collections.Generic.Dictionary`2<E,System.Tuple`2<System.Collections.Generic.Dictionary`2<ConsedNode`1<System.Tuple`4<RData[],Ty[],Ty,Ty>>,Microsoft.FSharp.Core.FSharpOption`1<System.Tuple`2<Data,TypedBind[]>>>,HashConsTable>>, System.Collections.Generic.Dictionary`2<T,System.Tuple`2<System.Collections.Generic.Dictionary`2<ConsedNode`1<Ty[]>,Microsoft.FSharp.Core.FSharpOption`1<Ty>>,HashConsTable>>, Microsoft.FSharp.Core.FSharpOption`1<Microsoft.FSharp.Core.FSharpFunc`2<Microsoft.FSharp.Core.Unit,Microsoft.FSharp.Core.Unit>>, LangEnv, E)\r\n",
      "00:00:38 #401 [Verbose] >    at System.Runtime.CompilerServices.RuntimeHelpers.DispatchTailCalls(IntPtr, Void (IntPtr, Byte ByRef, System.Runtime.CompilerServices.PortableTailCallFrame*), Byte ByRef)\r\n",
      "00:00:38 #402 [Verbose] >    at Spiral.PartEval.Main.term@711-64(TopEnv, System.Collections.Generic.Dictionary`2<E,System.Tuple`2<System.Collections.Generic.Dictionary`2<ConsedNode`1<System.Tuple`2<RData[],Ty[]>>,System.Tuple`3<Microsoft.FSharp.Core.FSharpOption`1<TypedBind[]>,Microsoft.FSharp.Core.FSharpOption`1<Ty>,Microsoft.FSharp.Core.FSharpOption`1<System.String>>>,HashConsTable>>, System.Collections.Generic.Dictionary`2<E,System.Tuple`2<System.Collections.Generic.Dictionary`2<ConsedNode`1<System.Tuple`4<RData[],Ty[],Ty,Ty>>,Microsoft.FSharp.Core.FSharpOption`1<System.Tuple`2<Data,TypedBind[]>>>,HashConsTable>>, System.Collections.Generic.Dictionary`2<T,System.Tuple`2<System.Collections.Generic.Dictionary`2<ConsedNode`1<Ty[]>,Microsoft.FSharp.Core.FSharpOption`1<Ty>>,HashConsTable>>, Microsoft.FSharp.Core.FSharpOption`1<Microsoft.FSharp.Core.FSharpFunc`2<Microsoft.FSharp.Core.Unit,Microsoft.FSharp.Core.Unit>>, LangEnv, E)\r\n",
      "00:00:38 #403 [Verbose] >    at Spiral.PartEval.Main.term@711-64(TopEnv, System.Collections.Generic.Dictionary`2<E,System.Tuple`2<System.Collections.Generic.Dictionary`2<ConsedNode`1<System.Tuple`2<RData[],Ty[]>>,System.Tuple`3<Microsoft.FSharp.Core.FSharpOption`1<TypedBind[]>,Microsoft.FSharp.Core.FSharpOption`1<Ty>,Microsoft.FSharp.Core.FSharpOption`1<System.String>>>,HashConsTable>>, System.Collections.Generic.Dictionary`2<E,System.Tuple`2<System.Collections.Generic.Dictionary`2<ConsedNode`1<System.Tuple`4<RData[],Ty[],Ty,Ty>>,Microsoft.FSharp.Core.FSharpOption`1<System.Tuple`2<Data,TypedBind[]>>>,HashConsTable>>, System.Collections.Generic.Dictionary`2<T,System.Tuple`2<System.Collections.Generic.Dictionary`2<ConsedNode`1<Ty[]>,Microsoft.FSharp.Core.FSharpOption`1<Ty>>,HashConsTable>>, Microsoft.FSharp.Core.FSharpOption`1<Microsoft.FSharp.Core.FSharpFunc`2<Microsoft.FSharp.Core.Unit,Microsoft.FSharp.Core.Unit>>, LangEnv, E)\r\n",
      "00:00:38 #404 [Verbose] >    at System.Runtime.CompilerServices.RuntimeHelpers.DispatchTailCalls(IntPtr, Void (IntPtr, Byte ByRef, System.Runtime.CompilerServices.PortableTailCallFrame*), Byte ByRef)\r\n",
      "00:00:38 #405 [Verbose] >    at Spiral.PartEval.Main.term@711-64(TopEnv, System.Collections.Generic.Dictionary`2<E,System.Tuple`2<System.Collections.Generic.Dictionary`2<ConsedNode`1<System.Tuple`2<RData[],Ty[]>>,System.Tuple`3<Microsoft.FSharp.Core.FSharpOption`1<TypedBind[]>,Microsoft.FSharp.Core.FSharpOption`1<Ty>,Microsoft.FSharp.Core.FSharpOption`1<System.String>>>,HashConsTable>>, System.Collections.Generic.Dictionary`2<E,System.Tuple`2<System.Collections.Generic.Dictionary`2<ConsedNode`1<System.Tuple`4<RData[],Ty[],Ty,Ty>>,Microsoft.FSharp.Core.FSharpOption`1<System.Tuple`2<Data,TypedBind[]>>>,HashConsTable>>, System.Collections.Generic.Dictionary`2<T,System.Tuple`2<System.Collections.Generic.Dictionary`2<ConsedNode`1<Ty[]>,Microsoft.FSharp.Core.FSharpOption`1<Ty>>,HashConsTable>>, Microsoft.FSharp.Core.FSharpOption`1<Microsoft.FSharp.Core.FSharpFunc`2<Microsoft.FSharp.Core.Unit,Microsoft.FSharp.Core.Unit>>, LangEnv, E)\r\n",
      "00:00:38 #406 [Verbose] >    at Spiral.PartEval.Main.term@711-64(TopEnv, System.Collections.Generic.Dictionary`2<E,System.Tuple`2<System.Collections.Generic.Dictionary`2<ConsedNode`1<System.Tuple`2<RData[],Ty[]>>,System.Tuple`3<Microsoft.FSharp.Core.FSharpOption`1<TypedBind[]>,Microsoft.FSharp.Core.FSharpOption`1<Ty>,Microsoft.FSharp.Core.FSharpOption`1<System.String>>>,HashConsTable>>, System.Collections.Generic.Dictionary`2<E,System.Tuple`2<System.Collections.Generic.Dictionary`2<ConsedNode`1<System.Tuple`4<RData[],Ty[],Ty,Ty>>,Microsoft.FSharp.Core.FSharpOption`1<System.Tuple`2<Data,TypedBind[]>>>,HashConsTable>>, System.Collections.Generic.Dictionary`2<T,System.Tuple`2<System.Collections.Generic.Dictionary`2<ConsedNode`1<Ty[]>,Microsoft.FSharp.Core.FSharpOption`1<Ty>>,HashConsTable>>, Microsoft.FSharp.Core.FSharpOption`1<Microsoft.FSharp.Core.FSharpFunc`2<Microsoft.FSharp.Core.Unit,Microsoft.FSharp.Core.Unit>>, LangEnv, E)\r\n",
      "00:00:38 #407 [Verbose] >    at System.Runtime.CompilerServices.RuntimeHelpers.DispatchTailCalls(IntPtr, Void (IntPtr, Byte ByRef, System.Runtime.CompilerServices.PortableTailCallFrame*), Byte ByRef)\r\n",
      "00:00:38 #408 [Verbose] >    at Spiral.PartEval.Main.term@711-64(TopEnv, System.Collections.Generic.Dictionary`2<E,System.Tuple`2<System.Collections.Generic.Dictionary`2<ConsedNode`1<System.Tuple`2<RData[],Ty[]>>,System.Tuple`3<Microsoft.FSharp.Core.FSharpOption`1<TypedBind[]>,Microsoft.FSharp.Core.FSharpOption`1<Ty>,Microsoft.FSharp.Core.FSharpOption`1<System.String>>>,HashConsTable>>, System.Collections.Generic.Dictionary`2<E,System.Tuple`2<System.Collections.Generic.Dictionary`2<ConsedNode`1<System.Tuple`4<RData[],Ty[],Ty,Ty>>,Microsoft.FSharp.Core.FSharpOption`1<System.Tuple`2<Data,TypedBind[]>>>,HashConsTable>>, System.Collections.Generic.Dictionary`2<T,System.Tuple`2<System.Collections.Generic.Dictionary`2<ConsedNode`1<Ty[]>,Microsoft.FSharp.Core.FSharpOption`1<Ty>>,HashConsTable>>, Microsoft.FSharp.Core.FSharpOption`1<Microsoft.FSharp.Core.FSharpFunc`2<Microsoft.FSharp.Core.Unit,Microsoft.FSharp.Core.Unit>>, LangEnv, E)\r\n",
      "00:00:38 #409 [Verbose] >    at Spiral.PartEval.Main.term@711-64(TopEnv, System.Collections.Generic.Dictionary`2<E,System.Tuple`2<System.Collections.Generic.Dictionary`2<ConsedNode`1<System.Tuple`2<RData[],Ty[]>>,System.Tuple`3<Microsoft.FSharp.Core.FSharpOption`1<TypedBind[]>,Microsoft.FSharp.Core.FSharpOption`1<Ty>,Microsoft.FSharp.Core.FSharpOption`1<System.String>>>,HashConsTable>>, System.Collections.Generic.Dictionary`2<E,System.Tuple`2<System.Collections.Generic.Dictionary`2<ConsedNode`1<System.Tuple`4<RData[],Ty[],Ty,Ty>>,Microsoft.FSharp.Core.FSharpOption`1<System.Tuple`2<Data,TypedBind[]>>>,HashConsTable>>, System.Collections.Generic.Dictionary`2<T,System.Tuple`2<System.Collections.Generic.Dictionary`2<ConsedNode`1<Ty[]>,Microsoft.FSharp.Core.FSharpOption`1<Ty>>,HashConsTable>>, Microsoft.FSharp.Core.FSharpOption`1<Microsoft.FSharp.Core.FSharpFunc`2<Microsoft.FSharp.Core.Unit,Microsoft.FSharp.Core.Unit>>, LangEnv, E)\r\n",
      "00:00:38 #410 [Verbose] >    at System.Runtime.CompilerServices.RuntimeHelpers.DispatchTailCalls(IntPtr, Void (IntPtr, Byte ByRef, System.Runtime.CompilerServices.PortableTailCallFrame*), Byte ByRef)\r\n",
      "00:00:38 #411 [Verbose] >    at Spiral.PartEval.Main.term@711-64(TopEnv, System.Collections.Generic.Dictionary`2<E,System.Tuple`2<System.Collections.Generic.Dictionary`2<ConsedNode`1<System.Tuple`2<RData[],Ty[]>>,System.Tuple`3<Microsoft.FSharp.Core.FSharpOption`1<TypedBind[]>,Microsoft.FSharp.Core.FSharpOption`1<Ty>,Microsoft.FSharp.Core.FSharpOption`1<System.String>>>,HashConsTable>>, System.Collections.Generic.Dictionary`2<E,System.Tuple`2<System.Collections.Generic.Dictionary`2<ConsedNode`1<System.Tuple`4<RData[],Ty[],Ty,Ty>>,Microsoft.FSharp.Core.FSharpOption`1<System.Tuple`2<Data,TypedBind[]>>>,HashConsTable>>, System.Collections.Generic.Dictionary`2<T,System.Tuple`2<System.Collections.Generic.Dictionary`2<ConsedNode`1<Ty[]>,Microsoft.FSharp.Core.FSharpOption`1<Ty>>,HashConsTable>>, Microsoft.FSharp.Core.FSharpOption`1<Microsoft.FSharp.Core.FSharpFunc`2<Microsoft.FSharp.Core.Unit,Microsoft.FSharp.Core.Unit>>, LangEnv, E)\r\n",
      "00:00:38 #412 [Verbose] >    at Spiral.PartEval.Main.term@711-64(TopEnv, System.Collections.Generic.Dictionary`2<E,System.Tuple`2<System.Collections.Generic.Dictionary`2<ConsedNode`1<System.Tuple`2<RData[],Ty[]>>,System.Tuple`3<Microsoft.FSharp.Core.FSharpOption`1<TypedBind[]>,Microsoft.FSharp.Core.FSharpOption`1<Ty>,Microsoft.FSharp.Core.FSharpOption`1<System.String>>>,HashConsTable>>, System.Collections.Generic.Dictionary`2<E,System.Tuple`2<System.Collections.Generic.Dictionary`2<ConsedNode`1<System.Tuple`4<RData[],Ty[],Ty,Ty>>,Microsoft.FSharp.Core.FSharpOption`1<System.Tuple`2<Data,TypedBind[]>>>,HashConsTable>>, System.Collections.Generic.Dictionary`2<T,System.Tuple`2<System.Collections.Generic.Dictionary`2<ConsedNode`1<Ty[]>,Microsoft.FSharp.Core.FSharpOption`1<Ty>>,HashConsTable>>, Microsoft.FSharp.Core.FSharpOption`1<Microsoft.FSharp.Core.FSharpFunc`2<Microsoft.FSharp.Core.Unit,Microsoft.FSharp.Core.Unit>>, LangEnv, E)\r\n",
      "00:00:38 #413 [Verbose] >    at System.Runtime.CompilerServices.RuntimeHelpers.DispatchTailCalls(IntPtr, Void (IntPtr, Byte ByRef, System.Runtime.CompilerServices.PortableTailCallFrame*), Byte ByRef)\r\n",
      "00:00:38 #414 [Verbose] >    at Spiral.PartEval.Main.term@711-64(TopEnv, System.Collections.Generic.Dictionary`2<E,System.Tuple`2<System.Collections.Generic.Dictionary`2<ConsedNode`1<System.Tuple`2<RData[],Ty[]>>,System.Tuple`3<Microsoft.FSharp.Core.FSharpOption`1<TypedBind[]>,Microsoft.FSharp.Core.FSharpOption`1<Ty>,Microsoft.FSharp.Core.FSharpOption`1<System.String>>>,HashConsTable>>, System.Collections.Generic.Dictionary`2<E,System.Tuple`2<System.Collections.Generic.Dictionary`2<ConsedNode`1<System.Tuple`4<RData[],Ty[],Ty,Ty>>,Microsoft.FSharp.Core.FSharpOption`1<System.Tuple`2<Data,TypedBind[]>>>,HashConsTable>>, System.Collections.Generic.Dictionary`2<T,System.Tuple`2<System.Collections.Generic.Dictionary`2<ConsedNode`1<Ty[]>,Microsoft.FSharp.Core.FSharpOption`1<Ty>>,HashConsTable>>, Microsoft.FSharp.Core.FSharpOption`1<Microsoft.FSharp.Core.FSharpFunc`2<Microsoft.FSharp.Core.Unit,Microsoft.FSharp.Core.Unit>>, LangEnv, E)\r\n",
      "00:00:38 #415 [Verbose] >    at Spiral.PartEval.Main.term@711-64(TopEnv, System.Collections.Generic.Dictionary`2<E,System.Tuple`2<System.Collections.Generic.Dictionary`2<ConsedNode`1<System.Tuple`2<RData[],Ty[]>>,System.Tuple`3<Microsoft.FSharp.Core.FSharpOption`1<TypedBind[]>,Microsoft.FSharp.Core.FSharpOption`1<Ty>,Microsoft.FSharp.Core.FSharpOption`1<System.String>>>,HashConsTable>>, System.Collections.Generic.Dictionary`2<E,System.Tuple`2<System.Collections.Generic.Dictionary`2<ConsedNode`1<System.Tuple`4<RData[],Ty[],Ty,Ty>>,Microsoft.FSharp.Core.FSharpOption`1<System.Tuple`2<Data,TypedBind[]>>>,HashConsTable>>, System.Collections.Generic.Dictionary`2<T,System.Tuple`2<System.Collections.Generic.Dictionary`2<ConsedNode`1<Ty[]>,Microsoft.FSharp.Core.FSharpOption`1<Ty>>,HashConsTable>>, Microsoft.FSharp.Core.FSharpOption`1<Microsoft.FSharp.Core.FSharpFunc`2<Microsoft.FSharp.Core.Unit,Microsoft.FSharp.Core.Unit>>, LangEnv, E)\r\n",
      "00:00:38 #416 [Verbose] >    at System.Runtime.CompilerServices.RuntimeHelpers.DispatchTailCalls(IntPtr, Void (IntPtr, Byte ByRef, System.Runtime.CompilerServices.PortableTailCallFrame*), Byte ByRef)\r\n",
      "00:00:38 #417 [Verbose] >    at Spiral.PartEval.Main.term@711-64(TopEnv, System.Collections.Generic.Dictionary`2<E,System.Tuple`2<System.Collections.Generic.Dictionary`2<ConsedNode`1<System.Tuple`2<RData[],Ty[]>>,System.Tuple`3<Microsoft.FSharp.Core.FSharpOption`1<TypedBind[]>,Microsoft.FSharp.Core.FSharpOption`1<Ty>,Microsoft.FSharp.Core.FSharpOption`1<System.String>>>,HashConsTable>>, System.Collections.Generic.Dictionary`2<E,System.Tuple`2<System.Collections.Generic.Dictionary`2<ConsedNode`1<System.Tuple`4<RData[],Ty[],Ty,Ty>>,Microsoft.FSharp.Core.FSharpOption`1<System.Tuple`2<Data,TypedBind[]>>>,HashConsTable>>, System.Collections.Generic.Dictionary`2<T,System.Tuple`2<System.Collections.Generic.Dictionary`2<ConsedNode`1<Ty[]>,Microsoft.FSharp.Core.FSharpOption`1<Ty>>,HashConsTable>>, Microsoft.FSharp.Core.FSharpOption`1<Microsoft.FSharp.Core.FSharpFunc`2<Microsoft.FSharp.Core.Unit,Microsoft.FSharp.Core.Unit>>, LangEnv, E)\r\n",
      "00:00:38 #418 [Verbose] >    at Spiral.PartEval.Main.term@711-64(TopEnv, System.Collections.Generic.Dictionary`2<E,System.Tuple`2<System.Collections.Generic.Dictionary`2<ConsedNode`1<System.Tuple`2<RData[],Ty[]>>,System.Tuple`3<Microsoft.FSharp.Core.FSharpOption`1<TypedBind[]>,Microsoft.FSharp.Core.FSharpOption`1<Ty>,Microsoft.FSharp.Core.FSharpOption`1<System.String>>>,HashConsTable>>, System.Collections.Generic.Dictionary`2<E,System.Tuple`2<System.Collections.Generic.Dictionary`2<ConsedNode`1<System.Tuple`4<RData[],Ty[],Ty,Ty>>,Microsoft.FSharp.Core.FSharpOption`1<System.Tuple`2<Data,TypedBind[]>>>,HashConsTable>>, System.Collections.Generic.Dictionary`2<T,System.Tuple`2<System.Collections.Generic.Dictionary`2<ConsedNode`1<Ty[]>,Microsoft.FSharp.Core.FSharpOption`1<Ty>>,HashConsTable>>, Microsoft.FSharp.Core.FSharpOption`1<Microsoft.FSharp.Core.FSharpFunc`2<Microsoft.FSharp.Core.Unit,Microsoft.FSharp.Core.Unit>>, LangEnv, E)\r\n",
      "00:00:38 #419 [Verbose] >    at System.Runtime.CompilerServices.RuntimeHelpers.DispatchTailCalls(IntPtr, Void (IntPtr, Byte ByRef, System.Runtime.CompilerServices.PortableTailCallFrame*), Byte ByRef)\r\n",
      "00:00:38 #420 [Verbose] >    at Spiral.PartEval.Main.term@711-64(TopEnv, System.Collections.Generic.Dictionary`2<E,System.Tuple`2<System.Collections.Generic.Dictionary`2<ConsedNode`1<System.Tuple`2<RData[],Ty[]>>,System.Tuple`3<Microsoft.FSharp.Core.FSharpOption`1<TypedBind[]>,Microsoft.FSharp.Core.FSharpOption`1<Ty>,Microsoft.FSharp.Core.FSharpOption`1<System.String>>>,HashConsTable>>, System.Collections.Generic.Dictionary`2<E,System.Tuple`2<System.Collections.Generic.Dictionary`2<ConsedNode`1<System.Tuple`4<RData[],Ty[],Ty,Ty>>,Microsoft.FSharp.Core.FSharpOption`1<System.Tuple`2<Data,TypedBind[]>>>,HashConsTable>>, System.Collections.Generic.Dictionary`2<T,System.Tuple`2<System.Collections.Generic.Dictionary`2<ConsedNode`1<Ty[]>,Microsoft.FSharp.Core.FSharpOption`1<Ty>>,HashConsTable>>, Microsoft.FSharp.Core.FSharpOption`1<Microsoft.FSharp.Core.FSharpFunc`2<Microsoft.FSharp.Core.Unit,Microsoft.FSharp.Core.Unit>>, LangEnv, E)\r\n",
      "00:00:38 #421 [Verbose] >    at Spiral.PartEval.Main.term@711-64(TopEnv, System.Collections.Generic.Dictionary`2<E,System.Tuple`2<System.Collections.Generic.Dictionary`2<ConsedNode`1<System.Tuple`2<RData[],Ty[]>>,System.Tuple`3<Microsoft.FSharp.Core.FSharpOption`1<TypedBind[]>,Microsoft.FSharp.Core.FSharpOption`1<Ty>,Microsoft.FSharp.Core.FSharpOption`1<System.String>>>,HashConsTable>>, System.Collections.Generic.Dictionary`2<E,System.Tuple`2<System.Collections.Generic.Dictionary`2<ConsedNode`1<System.Tuple`4<RData[],Ty[],Ty,Ty>>,Microsoft.FSharp.Core.FSharpOption`1<System.Tuple`2<Data,TypedBind[]>>>,HashConsTable>>, System.Collections.Generic.Dictionary`2<T,System.Tuple`2<System.Collections.Generic.Dictionary`2<ConsedNode`1<Ty[]>,Microsoft.FSharp.Core.FSharpOption`1<Ty>>,HashConsTable>>, Microsoft.FSharp.Core.FSharpOption`1<Microsoft.FSharp.Core.FSharpFunc`2<Microsoft.FSharp.Core.Unit,Microsoft.FSharp.Core.Unit>>, LangEnv, E)\r\n",
      "00:00:38 #422 [Verbose] >    at System.Runtime.CompilerServices.RuntimeHelpers.DispatchTailCalls(IntPtr, Void (IntPtr, Byte ByRef, System.Runtime.CompilerServices.PortableTailCallFrame*), Byte ByRef)\r\n",
      "00:00:38 #423 [Verbose] >    at Spiral.PartEval.Main.term@711-64(TopEnv, System.Collections.Generic.Dictionary`2<E,System.Tuple`2<System.Collections.Generic.Dictionary`2<ConsedNode`1<System.Tuple`2<RData[],Ty[]>>,System.Tuple`3<Microsoft.FSharp.Core.FSharpOption`1<TypedBind[]>,Microsoft.FSharp.Core.FSharpOption`1<Ty>,Microsoft.FSharp.Core.FSharpOption`1<System.String>>>,HashConsTable>>, System.Collections.Generic.Dictionary`2<E,System.Tuple`2<System.Collections.Generic.Dictionary`2<ConsedNode`1<System.Tuple`4<RData[],Ty[],Ty,Ty>>,Microsoft.FSharp.Core.FSharpOption`1<System.Tuple`2<Data,TypedBind[]>>>,HashConsTable>>, System.Collections.Generic.Dictionary`2<T,System.Tuple`2<System.Collections.Generic.Dictionary`2<ConsedNode`1<Ty[]>,Microsoft.FSharp.Core.FSharpOption`1<Ty>>,HashConsTable>>, Microsoft.FSharp.Core.FSharpOption`1<Microsoft.FSharp.Core.FSharpFunc`2<Microsoft.FSharp.Core.Unit,Microsoft.FSharp.Core.Unit>>, LangEnv, E)\r\n",
      "00:00:38 #424 [Verbose] >    at Spiral.PartEval.Main.term@711-64(TopEnv, System.Collections.Generic.Dictionary`2<E,System.Tuple`2<System.Collections.Generic.Dictionary`2<ConsedNode`1<System.Tuple`2<RData[],Ty[]>>,System.Tuple`3<Microsoft.FSharp.Core.FSharpOption`1<TypedBind[]>,Microsoft.FSharp.Core.FSharpOption`1<Ty>,Microsoft.FSharp.Core.FSharpOption`1<System.String>>>,HashConsTable>>, System.Collections.Generic.Dictionary`2<E,System.Tuple`2<System.Collections.Generic.Dictionary`2<ConsedNode`1<System.Tuple`4<RData[],Ty[],Ty,Ty>>,Microsoft.FSharp.Core.FSharpOption`1<System.Tuple`2<Data,TypedBind[]>>>,HashConsTable>>, System.Collections.Generic.Dictionary`2<T,System.Tuple`2<System.Collections.Generic.Dictionary`2<ConsedNode`1<Ty[]>,Microsoft.FSharp.Core.FSharpOption`1<Ty>>,HashConsTable>>, Microsoft.FSharp.Core.FSharpOption`1<Microsoft.FSharp.Core.FSharpFunc`2<Microsoft.FSharp.Core.Unit,Microsoft.FSharp.Core.Unit>>, LangEnv, E)\r\n",
      "00:00:38 #425 [Verbose] >    at System.Runtime.CompilerServices.RuntimeHelpers.DispatchTailCalls(IntPtr, Void (IntPtr, Byte ByRef, System.Runtime.CompilerServices.PortableTailCallFrame*), Byte ByRef)\r\n",
      "00:00:38 #426 [Verbose] >    at Spiral.PartEval.Main.term@711-64(TopEnv, System.Collections.Generic.Dictionary`2<E,System.Tuple`2<System.Collections.Generic.Dictionary`2<ConsedNode`1<System.Tuple`2<RData[],Ty[]>>,System.Tuple`3<Microsoft.FSharp.Core.FSharpOption`1<TypedBind[]>,Microsoft.FSharp.Core.FSharpOption`1<Ty>,Microsoft.FSharp.Core.FSharpOption`1<System.String>>>,HashConsTable>>, System.Collections.Generic.Dictionary`2<E,System.Tuple`2<System.Collections.Generic.Dictionary`2<ConsedNode`1<System.Tuple`4<RData[],Ty[],Ty,Ty>>,Microsoft.FSharp.Core.FSharpOption`1<System.Tuple`2<Data,TypedBind[]>>>,HashConsTable>>, System.Collections.Generic.Dictionary`2<T,System.Tuple`2<System.Collections.Generic.Dictionary`2<ConsedNode`1<Ty[]>,Microsoft.FSharp.Core.FSharpOption`1<Ty>>,HashConsTable>>, Microsoft.FSharp.Core.FSharpOption`1<Microsoft.FSharp.Core.FSharpFunc`2<Microsoft.FSharp.Core.Unit,Microsoft.FSharp.Core.Unit>>, LangEnv, E)\r\n",
      "00:00:38 #427 [Verbose] >    at Spiral.PartEval.Main.term@711-64(TopEnv, System.Collections.Generic.Dictionary`2<E,System.Tuple`2<System.Collections.Generic.Dictionary`2<ConsedNode`1<System.Tuple`2<RData[],Ty[]>>,System.Tuple`3<Microsoft.FSharp.Core.FSharpOption`1<TypedBind[]>,Microsoft.FSharp.Core.FSharpOption`1<Ty>,Microsoft.FSharp.Core.FSharpOption`1<System.String>>>,HashConsTable>>, System.Collections.Generic.Dictionary`2<E,System.Tuple`2<System.Collections.Generic.Dictionary`2<ConsedNode`1<System.Tuple`4<RData[],Ty[],Ty,Ty>>,Microsoft.FSharp.Core.FSharpOption`1<System.Tuple`2<Data,TypedBind[]>>>,HashConsTable>>, System.Collections.Generic.Dictionary`2<T,System.Tuple`2<System.Collections.Generic.Dictionary`2<ConsedNode`1<Ty[]>,Microsoft.FSharp.Core.FSharpOption`1<Ty>>,HashConsTable>>, Microsoft.FSharp.Core.FSharpOption`1<Microsoft.FSharp.Core.FSharpFunc`2<Microsoft.FSharp.Core.Unit,Microsoft.FSharp.Core.Unit>>, LangEnv, E)\r\n",
      "00:00:38 #428 [Verbose] >    at System.Runtime.CompilerServices.RuntimeHelpers.DispatchTailCalls(IntPtr, Void (IntPtr, Byte ByRef, System.Runtime.CompilerServices.PortableTailCallFrame*), Byte ByRef)\r\n",
      "00:00:38 #429 [Verbose] >    at Spiral.PartEval.Main.term@711-64(TopEnv, System.Collections.Generic.Dictionary`2<E,System.Tuple`2<System.Collections.Generic.Dictionary`2<ConsedNode`1<System.Tuple`2<RData[],Ty[]>>,System.Tuple`3<Microsoft.FSharp.Core.FSharpOption`1<TypedBind[]>,Microsoft.FSharp.Core.FSharpOption`1<Ty>,Microsoft.FSharp.Core.FSharpOption`1<System.String>>>,HashConsTable>>, System.Collections.Generic.Dictionary`2<E,System.Tuple`2<System.Collections.Generic.Dictionary`2<ConsedNode`1<System.Tuple`4<RData[],Ty[],Ty,Ty>>,Microsoft.FSharp.Core.FSharpOption`1<System.Tuple`2<Data,TypedBind[]>>>,HashConsTable>>, System.Collections.Generic.Dictionary`2<T,System.Tuple`2<System.Collections.Generic.Dictionary`2<ConsedNode`1<Ty[]>,Microsoft.FSharp.Core.FSharpOption`1<Ty>>,HashConsTable>>, Microsoft.FSharp.Core.FSharpOption`1<Microsoft.FSharp.Core.FSharpFunc`2<Microsoft.FSharp.Core.Unit,Microsoft.FSharp.Core.Unit>>, LangEnv, E)\r\n",
      "00:00:38 #430 [Verbose] >    at Spiral.PartEval.Main.term@711-64(TopEnv, System.Collections.Generic.Dictionary`2<E,System.Tuple`2<System.Collections.Generic.Dictionary`2<ConsedNode`1<System.Tuple`2<RData[],Ty[]>>,System.Tuple`3<Microsoft.FSharp.Core.FSharpOption`1<TypedBind[]>,Microsoft.FSharp.Core.FSharpOption`1<Ty>,Microsoft.FSharp.Core.FSharpOption`1<System.String>>>,HashConsTable>>, System.Collections.Generic.Dictionary`2<E,System.Tuple`2<System.Collections.Generic.Dictionary`2<ConsedNode`1<System.Tuple`4<RData[],Ty[],Ty,Ty>>,Microsoft.FSharp.Core.FSharpOption`1<System.Tuple`2<Data,TypedBind[]>>>,HashConsTable>>, System.Collections.Generic.Dictionary`2<T,System.Tuple`2<System.Collections.Generic.Dictionary`2<ConsedNode`1<Ty[]>,Microsoft.FSharp.Core.FSharpOption`1<Ty>>,HashConsTable>>, Microsoft.FSharp.Core.FSharpOption`1<Microsoft.FSharp.Core.FSharpFunc`2<Microsoft.FSharp.Core.Unit,Microsoft.FSharp.Core.Unit>>, LangEnv, E)\r\n",
      "00:00:38 #431 [Verbose] >    at System.Runtime.CompilerServices.RuntimeHelpers.DispatchTailCalls(IntPtr, Void (IntPtr, Byte ByRef, System.Runtime.CompilerServices.PortableTailCallFrame*), Byte ByRef)\r\n",
      "00:00:38 #432 [Verbose] >    at Spiral.PartEval.Main.term@711-64(TopEnv, System.Collections.Generic.Dictionary`2<E,System.Tuple`2<System.Collections.Generic.Dictionary`2<ConsedNode`1<System.Tuple`2<RData[],Ty[]>>,System.Tuple`3<Microsoft.FSharp.Core.FSharpOption`1<TypedBind[]>,Microsoft.FSharp.Core.FSharpOption`1<Ty>,Microsoft.FSharp.Core.FSharpOption`1<System.String>>>,HashConsTable>>, System.Collections.Generic.Dictionary`2<E,System.Tuple`2<System.Collections.Generic.Dictionary`2<ConsedNode`1<System.Tuple`4<RData[],Ty[],Ty,Ty>>,Microsoft.FSharp.Core.FSharpOption`1<System.Tuple`2<Data,TypedBind[]>>>,HashConsTable>>, System.Collections.Generic.Dictionary`2<T,System.Tuple`2<System.Collections.Generic.Dictionary`2<ConsedNode`1<Ty[]>,Microsoft.FSharp.Core.FSharpOption`1<Ty>>,HashConsTable>>, Microsoft.FSharp.Core.FSharpOption`1<Microsoft.FSharp.Core.FSharpFunc`2<Microsoft.FSharp.Core.Unit,Microsoft.FSharp.Core.Unit>>, LangEnv, E)\r\n",
      "00:00:38 #433 [Verbose] >    at Spiral.PartEval.Main.term@711-64(TopEnv, System.Collections.Generic.Dictionary`2<E,System.Tuple`2<System.Collections.Generic.Dictionary`2<ConsedNode`1<System.Tuple`2<RData[],Ty[]>>,System.Tuple`3<Microsoft.FSharp.Core.FSharpOption`1<TypedBind[]>,Microsoft.FSharp.Core.FSharpOption`1<Ty>,Microsoft.FSharp.Core.FSharpOption`1<System.String>>>,HashConsTable>>, System.Collections.Generic.Dictionary`2<E,System.Tuple`2<System.Collections.Generic.Dictionary`2<ConsedNode`1<System.Tuple`4<RData[],Ty[],Ty,Ty>>,Microsoft.FSharp.Core.FSharpOption`1<System.Tuple`2<Data,TypedBind[]>>>,HashConsTable>>, System.Collections.Generic.Dictionary`2<T,System.Tuple`2<System.Collections.Generic.Dictionary`2<ConsedNode`1<Ty[]>,Microsoft.FSharp.Core.FSharpOption`1<Ty>>,HashConsTable>>, Microsoft.FSharp.Core.FSharpOption`1<Microsoft.FSharp.Core.FSharpFunc`2<Microsoft.FSharp.Core.Unit,Microsoft.FSharp.Core.Unit>>, LangEnv, E)\r\n",
      "00:00:38 #434 [Verbose] >    at System.Runtime.CompilerServices.RuntimeHelpers.DispatchTailCalls(IntPtr, Void (IntPtr, Byte ByRef, System.Runtime.CompilerServices.PortableTailCallFrame*), Byte ByRef)\r\n",
      "00:00:38 #435 [Verbose] >    at Spiral.PartEval.Main.term@711-64(TopEnv, System.Collections.Generic.Dictionary`2<E,System.Tuple`2<System.Collections.Generic.Dictionary`2<ConsedNode`1<System.Tuple`2<RData[],Ty[]>>,System.Tuple`3<Microsoft.FSharp.Core.FSharpOption`1<TypedBind[]>,Microsoft.FSharp.Core.FSharpOption`1<Ty>,Microsoft.FSharp.Core.FSharpOption`1<System.String>>>,HashConsTable>>, System.Collections.Generic.Dictionary`2<E,System.Tuple`2<System.Collections.Generic.Dictionary`2<ConsedNode`1<System.Tuple`4<RData[],Ty[],Ty,Ty>>,Microsoft.FSharp.Core.FSharpOption`1<System.Tuple`2<Data,TypedBind[]>>>,HashConsTable>>, System.Collections.Generic.Dictionary`2<T,System.Tuple`2<System.Collections.Generic.Dictionary`2<ConsedNode`1<Ty[]>,Microsoft.FSharp.Core.FSharpOption`1<Ty>>,HashConsTable>>, Microsoft.FSharp.Core.FSharpOption`1<Microsoft.FSharp.Core.FSharpFunc`2<Microsoft.FSharp.Core.Unit,Microsoft.FSharp.Core.Unit>>, LangEnv, E)\r\n",
      "00:00:38 #436 [Verbose] >    at Spiral.PartEval.Main.term@711-64(TopEnv, System.Collections.Generic.Dictionary`2<E,System.Tuple`2<System.Collections.Generic.Dictionary`2<ConsedNode`1<System.Tuple`2<RData[],Ty[]>>,System.Tuple`3<Microsoft.FSharp.Core.FSharpOption`1<TypedBind[]>,Microsoft.FSharp.Core.FSharpOption`1<Ty>,Microsoft.FSharp.Core.FSharpOption`1<System.String>>>,HashConsTable>>, System.Collections.Generic.Dictionary`2<E,System.Tuple`2<System.Collections.Generic.Dictionary`2<ConsedNode`1<System.Tuple`4<RData[],Ty[],Ty,Ty>>,Microsoft.FSharp.Core.FSharpOption`1<System.Tuple`2<Data,TypedBind[]>>>,HashConsTable>>, System.Collections.Generic.Dictionary`2<T,System.Tuple`2<System.Collections.Generic.Dictionary`2<ConsedNode`1<Ty[]>,Microsoft.FSharp.Core.FSharpOption`1<Ty>>,HashConsTable>>, Microsoft.FSharp.Core.FSharpOption`1<Microsoft.FSharp.Core.FSharpFunc`2<Microsoft.FSharp.Core.Unit,Microsoft.FSharp.Core.Unit>>, LangEnv, E)\r\n",
      "00:00:38 #437 [Verbose] >    at System.Runtime.CompilerServices.RuntimeHelpers.DispatchTailCalls(IntPtr, Void (IntPtr, Byte ByRef, System.Runtime.CompilerServices.PortableTailCallFrame*), Byte ByRef)\r\n",
      "00:00:38 #438 [Verbose] >    at Spiral.PartEval.Main.term@711-64(TopEnv, System.Collections.Generic.Dictionary`2<E,System.Tuple`2<System.Collections.Generic.Dictionary`2<ConsedNode`1<System.Tuple`2<RData[],Ty[]>>,System.Tuple`3<Microsoft.FSharp.Core.FSharpOption`1<TypedBind[]>,Microsoft.FSharp.Core.FSharpOption`1<Ty>,Microsoft.FSharp.Core.FSharpOption`1<System.String>>>,HashConsTable>>, System.Collections.Generic.Dictionary`2<E,System.Tuple`2<System.Collections.Generic.Dictionary`2<ConsedNode`1<System.Tuple`4<RData[],Ty[],Ty,Ty>>,Microsoft.FSharp.Core.FSharpOption`1<System.Tuple`2<Data,TypedBind[]>>>,HashConsTable>>, System.Collections.Generic.Dictionary`2<T,System.Tuple`2<System.Collections.Generic.Dictionary`2<ConsedNode`1<Ty[]>,Microsoft.FSharp.Core.FSharpOption`1<Ty>>,HashConsTable>>, Microsoft.FSharp.Core.FSharpOption`1<Microsoft.FSharp.Core.FSharpFunc`2<Microsoft.FSharp.Core.Unit,Microsoft.FSharp.Core.Unit>>, LangEnv, E)\r\n",
      "00:00:38 #439 [Verbose] >    at Spiral.PartEval.Main.term@711-64(TopEnv, System.Collections.Generic.Dictionary`2<E,System.Tuple`2<System.Collections.Generic.Dictionary`2<ConsedNode`1<System.Tuple`2<RData[],Ty[]>>,System.Tuple`3<Microsoft.FSharp.Core.FSharpOption`1<TypedBind[]>,Microsoft.FSharp.Core.FSharpOption`1<Ty>,Microsoft.FSharp.Core.FSharpOption`1<System.String>>>,HashConsTable>>, System.Collections.Generic.Dictionary`2<E,System.Tuple`2<System.Collections.Generic.Dictionary`2<ConsedNode`1<System.Tuple`4<RData[],Ty[],Ty,Ty>>,Microsoft.FSharp.Core.FSharpOption`1<System.Tuple`2<Data,TypedBind[]>>>,HashConsTable>>, System.Collections.Generic.Dictionary`2<T,System.Tuple`2<System.Collections.Generic.Dictionary`2<ConsedNode`1<Ty[]>,Microsoft.FSharp.Core.FSharpOption`1<Ty>>,HashConsTable>>, Microsoft.FSharp.Core.FSharpOption`1<Microsoft.FSharp.Core.FSharpFunc`2<Microsoft.FSharp.Core.Unit,Microsoft.FSharp.Core.Unit>>, LangEnv, E)\r\n",
      "00:00:38 #440 [Verbose] >    at System.Runtime.CompilerServices.RuntimeHelpers.DispatchTailCalls(IntPtr, Void (IntPtr, Byte ByRef, System.Runtime.CompilerServices.PortableTailCallFrame*), Byte ByRef)\r\n",
      "00:00:38 #441 [Verbose] >    at Spiral.PartEval.Main.term@711-64(TopEnv, System.Collections.Generic.Dictionary`2<E,System.Tuple`2<System.Collections.Generic.Dictionary`2<ConsedNode`1<System.Tuple`2<RData[],Ty[]>>,System.Tuple`3<Microsoft.FSharp.Core.FSharpOption`1<TypedBind[]>,Microsoft.FSharp.Core.FSharpOption`1<Ty>,Microsoft.FSharp.Core.FSharpOption`1<System.String>>>,HashConsTable>>, System.Collections.Generic.Dictionary`2<E,System.Tuple`2<System.Collections.Generic.Dictionary`2<ConsedNode`1<System.Tuple`4<RData[],Ty[],Ty,Ty>>,Microsoft.FSharp.Core.FSharpOption`1<System.Tuple`2<Data,TypedBind[]>>>,HashConsTable>>, System.Collections.Generic.Dictionary`2<T,System.Tuple`2<System.Collections.Generic.Dictionary`2<ConsedNode`1<Ty[]>,Microsoft.FSharp.Core.FSharpOption`1<Ty>>,HashConsTable>>, Microsoft.FSharp.Core.FSharpOption`1<Microsoft.FSharp.Core.FSharpFunc`2<Microsoft.FSharp.Core.Unit,Microsoft.FSharp.Core.Unit>>, LangEnv, E)\r\n",
      "00:00:38 #442 [Verbose] >    at Spiral.PartEval.Main.term@711-64(TopEnv, System.Collections.Generic.Dictionary`2<E,System.Tuple`2<System.Collections.Generic.Dictionary`2<ConsedNode`1<System.Tuple`2<RData[],Ty[]>>,System.Tuple`3<Microsoft.FSharp.Core.FSharpOption`1<TypedBind[]>,Microsoft.FSharp.Core.FSharpOption`1<Ty>,Microsoft.FSharp.Core.FSharpOption`1<System.String>>>,HashConsTable>>, System.Collections.Generic.Dictionary`2<E,System.Tuple`2<System.Collections.Generic.Dictionary`2<ConsedNode`1<System.Tuple`4<RData[],Ty[],Ty,Ty>>,Microsoft.FSharp.Core.FSharpOption`1<System.Tuple`2<Data,TypedBind[]>>>,HashConsTable>>, System.Collections.Generic.Dictionary`2<T,System.Tuple`2<System.Collections.Generic.Dictionary`2<ConsedNode`1<Ty[]>,Microsoft.FSharp.Core.FSharpOption`1<Ty>>,HashConsTable>>, Microsoft.FSharp.Core.FSharpOption`1<Microsoft.FSharp.Core.FSharpFunc`2<Microsoft.FSharp.Core.Unit,Microsoft.FSharp.Core.Unit>>, LangEnv, E)\r\n",
      "00:00:38 #443 [Verbose] >    at System.Runtime.CompilerServices.RuntimeHelpers.DispatchTailCalls(IntPtr, Void (IntPtr, Byte ByRef, System.Runtime.CompilerServices.PortableTailCallFrame*), Byte ByRef)\r\n",
      "00:00:38 #444 [Verbose] >    at Spiral.PartEval.Main.term@711-64(TopEnv, System.Collections.Generic.Dictionary`2<E,System.Tuple`2<System.Collections.Generic.Dictionary`2<ConsedNode`1<System.Tuple`2<RData[],Ty[]>>,System.Tuple`3<Microsoft.FSharp.Core.FSharpOption`1<TypedBind[]>,Microsoft.FSharp.Core.FSharpOption`1<Ty>,Microsoft.FSharp.Core.FSharpOption`1<System.String>>>,HashConsTable>>, System.Collections.Generic.Dictionary`2<E,System.Tuple`2<System.Collections.Generic.Dictionary`2<ConsedNode`1<System.Tuple`4<RData[],Ty[],Ty,Ty>>,Microsoft.FSharp.Core.FSharpOption`1<System.Tuple`2<Data,TypedBind[]>>>,HashConsTable>>, System.Collections.Generic.Dictionary`2<T,System.Tuple`2<System.Collections.Generic.Dictionary`2<ConsedNode`1<Ty[]>,Microsoft.FSharp.Core.FSharpOption`1<Ty>>,HashConsTable>>, Microsoft.FSharp.Core.FSharpOption`1<Microsoft.FSharp.Core.FSharpFunc`2<Microsoft.FSharp.Core.Unit,Microsoft.FSharp.Core.Unit>>, LangEnv, E)\r\n",
      "00:00:38 #445 [Verbose] >    at Spiral.PartEval.Main.term@711-64(TopEnv, System.Collections.Generic.Dictionary`2<E,System.Tuple`2<System.Collections.Generic.Dictionary`2<ConsedNode`1<System.Tuple`2<RData[],Ty[]>>,System.Tuple`3<Microsoft.FSharp.Core.FSharpOption`1<TypedBind[]>,Microsoft.FSharp.Core.FSharpOption`1<Ty>,Microsoft.FSharp.Core.FSharpOption`1<System.String>>>,HashConsTable>>, System.Collections.Generic.Dictionary`2<E,System.Tuple`2<System.Collections.Generic.Dictionary`2<ConsedNode`1<System.Tuple`4<RData[],Ty[],Ty,Ty>>,Microsoft.FSharp.Core.FSharpOption`1<System.Tuple`2<Data,TypedBind[]>>>,HashConsTable>>, System.Collections.Generic.Dictionary`2<T,System.Tuple`2<System.Collections.Generic.Dictionary`2<ConsedNode`1<Ty[]>,Microsoft.FSharp.Core.FSharpOption`1<Ty>>,HashConsTable>>, Microsoft.FSharp.Core.FSharpOption`1<Microsoft.FSharp.Core.FSharpFunc`2<Microsoft.FSharp.Core.Unit,Microsoft.FSharp.Core.Unit>>, LangEnv, E)\r\n",
      "00:00:38 #446 [Verbose] >    at System.Runtime.CompilerServices.RuntimeHelpers.DispatchTailCalls(IntPtr, Void (IntPtr, Byte ByRef, System.Runtime.CompilerServices.PortableTailCallFrame*), Byte ByRef)\r\n",
      "00:00:38 #447 [Verbose] >    at Spiral.PartEval.Main.term@711-64(TopEnv, System.Collections.Generic.Dictionary`2<E,System.Tuple`2<System.Collections.Generic.Dictionary`2<ConsedNode`1<System.Tuple`2<RData[],Ty[]>>,System.Tuple`3<Microsoft.FSharp.Core.FSharpOption`1<TypedBind[]>,Microsoft.FSharp.Core.FSharpOption`1<Ty>,Microsoft.FSharp.Core.FSharpOption`1<System.String>>>,HashConsTable>>, System.Collections.Generic.Dictionary`2<E,System.Tuple`2<System.Collections.Generic.Dictionary`2<ConsedNode`1<System.Tuple`4<RData[],Ty[],Ty,Ty>>,Microsoft.FSharp.Core.FSharpOption`1<System.Tuple`2<Data,TypedBind[]>>>,HashConsTable>>, System.Collections.Generic.Dictionary`2<T,System.Tuple`2<System.Collections.Generic.Dictionary`2<ConsedNode`1<Ty[]>,Microsoft.FSharp.Core.FSharpOption`1<Ty>>,HashConsTable>>, Microsoft.FSharp.Core.FSharpOption`1<Microsoft.FSharp.Core.FSharpFunc`2<Microsoft.FSharp.Core.Unit,Microsoft.FSharp.Core.Unit>>, LangEnv, E)\r\n",
      "00:00:38 #448 [Verbose] >    at Spiral.PartEval.Main.term@711-64(TopEnv, System.Collections.Generic.Dictionary`2<E,System.Tuple`2<System.Collections.Generic.Dictionary`2<ConsedNode`1<System.Tuple`2<RData[],Ty[]>>,System.Tuple`3<Microsoft.FSharp.Core.FSharpOption`1<TypedBind[]>,Microsoft.FSharp.Core.FSharpOption`1<Ty>,Microsoft.FSharp.Core.FSharpOption`1<System.String>>>,HashConsTable>>, System.Collections.Generic.Dictionary`2<E,System.Tuple`2<System.Collections.Generic.Dictionary`2<ConsedNode`1<System.Tuple`4<RData[],Ty[],Ty,Ty>>,Microsoft.FSharp.Core.FSharpOption`1<System.Tuple`2<Data,TypedBind[]>>>,HashConsTable>>, System.Collections.Generic.Dictionary`2<T,System.Tuple`2<System.Collections.Generic.Dictionary`2<ConsedNode`1<Ty[]>,Microsoft.FSharp.Core.FSharpOption`1<Ty>>,HashConsTable>>, Microsoft.FSharp.Core.FSharpOption`1<Microsoft.FSharp.Core.FSharpFunc`2<Microsoft.FSharp.Core.Unit,Microsoft.FSharp.Core.Unit>>, LangEnv, E)\r\n",
      "00:00:38 #449 [Verbose] >    at System.Runtime.CompilerServices.RuntimeHelpers.DispatchTailCalls(IntPtr, Void (IntPtr, Byte ByRef, System.Runtime.CompilerServices.PortableTailCallFrame*), Byte ByRef)\r\n",
      "00:00:38 #450 [Verbose] >    at Spiral.PartEval.Main.term@711-64(TopEnv, System.Collections.Generic.Dictionary`2<E,System.Tuple`2<System.Collections.Generic.Dictionary`2<ConsedNode`1<System.Tuple`2<RData[],Ty[]>>,System.Tuple`3<Microsoft.FSharp.Core.FSharpOption`1<TypedBind[]>,Microsoft.FSharp.Core.FSharpOption`1<Ty>,Microsoft.FSharp.Core.FSharpOption`1<System.String>>>,HashConsTable>>, System.Collections.Generic.Dictionary`2<E,System.Tuple`2<System.Collections.Generic.Dictionary`2<ConsedNode`1<System.Tuple`4<RData[],Ty[],Ty,Ty>>,Microsoft.FSharp.Core.FSharpOption`1<System.Tuple`2<Data,TypedBind[]>>>,HashConsTable>>, System.Collections.Generic.Dictionary`2<T,System.Tuple`2<System.Collections.Generic.Dictionary`2<ConsedNode`1<Ty[]>,Microsoft.FSharp.Core.FSharpOption`1<Ty>>,HashConsTable>>, Microsoft.FSharp.Core.FSharpOption`1<Microsoft.FSharp.Core.FSharpFunc`2<Microsoft.FSharp.Core.Unit,Microsoft.FSharp.Core.Unit>>, LangEnv, E)\r\n",
      "00:00:38 #451 [Verbose] >    at Spiral.PartEval.Main.term@711-64(TopEnv, System.Collections.Generic.Dictionary`2<E,System.Tuple`2<System.Collections.Generic.Dictionary`2<ConsedNode`1<System.Tuple`2<RData[],Ty[]>>,System.Tuple`3<Microsoft.FSharp.Core.FSharpOption`1<TypedBind[]>,Microsoft.FSharp.Core.FSharpOption`1<Ty>,Microsoft.FSharp.Core.FSharpOption`1<System.String>>>,HashConsTable>>, System.Collections.Generic.Dictionary`2<E,System.Tuple`2<System.Collections.Generic.Dictionary`2<ConsedNode`1<System.Tuple`4<RData[],Ty[],Ty,Ty>>,Microsoft.FSharp.Core.FSharpOption`1<System.Tuple`2<Data,TypedBind[]>>>,HashConsTable>>, System.Collections.Generic.Dictionary`2<T,System.Tuple`2<System.Collections.Generic.Dictionary`2<ConsedNode`1<Ty[]>,Microsoft.FSharp.Core.FSharpOption`1<Ty>>,HashConsTable>>, Microsoft.FSharp.Core.FSharpOption`1<Microsoft.FSharp.Core.FSharpFunc`2<Microsoft.FSharp.Core.Unit,Microsoft.FSharp.Core.Unit>>, LangEnv, E)\r\n",
      "00:00:38 #452 [Verbose] >    at System.Runtime.CompilerServices.RuntimeHelpers.DispatchTailCalls(IntPtr, Void (IntPtr, Byte ByRef, System.Runtime.CompilerServices.PortableTailCallFrame*), Byte ByRef)\r\n",
      "00:00:38 #453 [Verbose] >    at Spiral.PartEval.Main.term@711-64(TopEnv, System.Collections.Generic.Dictionary`2<E,System.Tuple`2<System.Collections.Generic.Dictionary`2<ConsedNode`1<System.Tuple`2<RData[],Ty[]>>,System.Tuple`3<Microsoft.FSharp.Core.FSharpOption`1<TypedBind[]>,Microsoft.FSharp.Core.FSharpOption`1<Ty>,Microsoft.FSharp.Core.FSharpOption`1<System.String>>>,HashConsTable>>, System.Collections.Generic.Dictionary`2<E,System.Tuple`2<System.Collections.Generic.Dictionary`2<ConsedNode`1<System.Tuple`4<RData[],Ty[],Ty,Ty>>,Microsoft.FSharp.Core.FSharpOption`1<System.Tuple`2<Data,TypedBind[]>>>,HashConsTable>>, System.Collections.Generic.Dictionary`2<T,System.Tuple`2<System.Collections.Generic.Dictionary`2<ConsedNode`1<Ty[]>,Microsoft.FSharp.Core.FSharpOption`1<Ty>>,HashConsTable>>, Microsoft.FSharp.Core.FSharpOption`1<Microsoft.FSharp.Core.FSharpFunc`2<Microsoft.FSharp.Core.Unit,Microsoft.FSharp.Core.Unit>>, LangEnv, E)\r\n",
      "00:00:38 #454 [Verbose] >    at Spiral.PartEval.Main.term@711-64(TopEnv, System.Collections.Generic.Dictionary`2<E,System.Tuple`2<System.Collections.Generic.Dictionary`2<ConsedNode`1<System.Tuple`2<RData[],Ty[]>>,System.Tuple`3<Microsoft.FSharp.Core.FSharpOption`1<TypedBind[]>,Microsoft.FSharp.Core.FSharpOption`1<Ty>,Microsoft.FSharp.Core.FSharpOption`1<System.String>>>,HashConsTable>>, System.Collections.Generic.Dictionary`2<E,System.Tuple`2<System.Collections.Generic.Dictionary`2<ConsedNode`1<System.Tuple`4<RData[],Ty[],Ty,Ty>>,Microsoft.FSharp.Core.FSharpOption`1<System.Tuple`2<Data,TypedBind[]>>>,HashConsTable>>, System.Collections.Generic.Dictionary`2<T,System.Tuple`2<System.Collections.Generic.Dictionary`2<ConsedNode`1<Ty[]>,Microsoft.FSharp.Core.FSharpOption`1<Ty>>,HashConsTable>>, Microsoft.FSharp.Core.FSharpOption`1<Microsoft.FSharp.Core.FSharpFunc`2<Microsoft.FSharp.Core.Unit,Microsoft.FSharp.Core.Unit>>, LangEnv, E)\r\n",
      "00:00:38 #455 [Verbose] >    at System.Runtime.CompilerServices.RuntimeHelpers.DispatchTailCalls(IntPtr, Void (IntPtr, Byte ByRef, System.Runtime.CompilerServices.PortableTailCallFrame*), Byte ByRef)\r\n",
      "00:00:38 #456 [Verbose] >    at Spiral.PartEval.Main.term@711-64(TopEnv, System.Collections.Generic.Dictionary`2<E,System.Tuple`2<System.Collections.Generic.Dictionary`2<ConsedNode`1<System.Tuple`2<RData[],Ty[]>>,System.Tuple`3<Microsoft.FSharp.Core.FSharpOption`1<TypedBind[]>,Microsoft.FSharp.Core.FSharpOption`1<Ty>,Microsoft.FSharp.Core.FSharpOption`1<System.String>>>,HashConsTable>>, System.Collections.Generic.Dictionary`2<E,System.Tuple`2<System.Collections.Generic.Dictionary`2<ConsedNode`1<System.Tuple`4<RData[],Ty[],Ty,Ty>>,Microsoft.FSharp.Core.FSharpOption`1<System.Tuple`2<Data,TypedBind[]>>>,HashConsTable>>, System.Collections.Generic.Dictionary`2<T,System.Tuple`2<System.Collections.Generic.Dictionary`2<ConsedNode`1<Ty[]>,Microsoft.FSharp.Core.FSharpOption`1<Ty>>,HashConsTable>>, Microsoft.FSharp.Core.FSharpOption`1<Microsoft.FSharp.Core.FSharpFunc`2<Microsoft.FSharp.Core.Unit,Microsoft.FSharp.Core.Unit>>, LangEnv, E)\r\n",
      "00:00:38 #457 [Verbose] >    at Spiral.PartEval.Main.term@711-64(TopEnv, System.Collections.Generic.Dictionary`2<E,System.Tuple`2<System.Collections.Generic.Dictionary`2<ConsedNode`1<System.Tuple`2<RData[],Ty[]>>,System.Tuple`3<Microsoft.FSharp.Core.FSharpOption`1<TypedBind[]>,Microsoft.FSharp.Core.FSharpOption`1<Ty>,Microsoft.FSharp.Core.FSharpOption`1<System.String>>>,HashConsTable>>, System.Collections.Generic.Dictionary`2<E,System.Tuple`2<System.Collections.Generic.Dictionary`2<ConsedNode`1<System.Tuple`4<RData[],Ty[],Ty,Ty>>,Microsoft.FSharp.Core.FSharpOption`1<System.Tuple`2<Data,TypedBind[]>>>,HashConsTable>>, System.Collections.Generic.Dictionary`2<T,System.Tuple`2<System.Collections.Generic.Dictionary`2<ConsedNode`1<Ty[]>,Microsoft.FSharp.Core.FSharpOption`1<Ty>>,HashConsTable>>, Microsoft.FSharp.Core.FSharpOption`1<Microsoft.FSharp.Core.FSharpFunc`2<Microsoft.FSharp.Core.Unit,Microsoft.FSharp.Core.Unit>>, LangEnv, E)\r\n",
      "00:00:38 #458 [Verbose] >    at Spiral.PartEval.Main.term@711-64(TopEnv, System.Collections.Generic.Dictionary`2<E,System.Tuple`2<System.Collections.Generic.Dictionary`2<ConsedNode`1<System.Tuple`2<RData[],Ty[]>>,System.Tuple`3<Microsoft.FSharp.Core.FSharpOption`1<TypedBind[]>,Microsoft.FSharp.Core.FSharpOption`1<Ty>,Microsoft.FSharp.Core.FSharpOption`1<System.String>>>,HashConsTable>>, System.Collections.Generic.Dictionary`2<E,System.Tuple`2<System.Collections.Generic.Dictionary`2<ConsedNode`1<System.Tuple`4<RData[],Ty[],Ty,Ty>>,Microsoft.FSharp.Core.FSharpOption`1<System.Tuple`2<Data,TypedBind[]>>>,HashConsTable>>, System.Collections.Generic.Dictionary`2<T,System.Tuple`2<System.Collections.Generic.Dictionary`2<ConsedNode`1<Ty[]>,Microsoft.FSharp.Core.FSharpOption`1<Ty>>,HashConsTable>>, Microsoft.FSharp.Core.FSharpOption`1<Microsoft.FSharp.Core.FSharpFunc`2<Microsoft.FSharp.Core.Unit,Microsoft.FSharp.Core.Unit>>, LangEnv, E)\r\n",
      "00:00:38 #459 [Verbose] >    at Spiral.PartEval.Main.term@711-64(TopEnv, System.Collections.Generic.Dictionary`2<E,System.Tuple`2<System.Collections.Generic.Dictionary`2<ConsedNode`1<System.Tuple`2<RData[],Ty[]>>,System.Tuple`3<Microsoft.FSharp.Core.FSharpOption`1<TypedBind[]>,Microsoft.FSharp.Core.FSharpOption`1<Ty>,Microsoft.FSharp.Core.FSharpOption`1<System.String>>>,HashConsTable>>, System.Collections.Generic.Dictionary`2<E,System.Tuple`2<System.Collections.Generic.Dictionary`2<ConsedNode`1<System.Tuple`4<RData[],Ty[],Ty,Ty>>,Microsoft.FSharp.Core.FSharpOption`1<System.Tuple`2<Data,TypedBind[]>>>,HashConsTable>>, System.Collections.Generic.Dictionary`2<T,System.Tuple`2<System.Collections.Generic.Dictionary`2<ConsedNode`1<Ty[]>,Microsoft.FSharp.Core.FSharpOption`1<Ty>>,HashConsTable>>, Microsoft.FSharp.Core.FSharpOption`1<Microsoft.FSharp.Core.FSharpFunc`2<Microsoft.FSharp.Core.Unit,Microsoft.FSharp.Core.Unit>>, LangEnv, E)\r\n",
      "00:00:38 #460 [Verbose] >    at Spiral.PartEval.Main.term@711-64(TopEnv, System.Collections.Generic.Dictionary`2<E,System.Tuple`2<System.Collections.Generic.Dictionary`2<ConsedNode`1<System.Tuple`2<RData[],Ty[]>>,System.Tuple`3<Microsoft.FSharp.Core.FSharpOption`1<TypedBind[]>,Microsoft.FSharp.Core.FSharpOption`1<Ty>,Microsoft.FSharp.Core.FSharpOption`1<System.String>>>,HashConsTable>>, System.Collections.Generic.Dictionary`2<E,System.Tuple`2<System.Collections.Generic.Dictionary`2<ConsedNode`1<System.Tuple`4<RData[],Ty[],Ty,Ty>>,Microsoft.FSharp.Core.FSharpOption`1<System.Tuple`2<Data,TypedBind[]>>>,HashConsTable>>, System.Collections.Generic.Dictionary`2<T,System.Tuple`2<System.Collections.Generic.Dictionary`2<ConsedNode`1<Ty[]>,Microsoft.FSharp.Core.FSharpOption`1<Ty>>,HashConsTable>>, Microsoft.FSharp.Core.FSharpOption`1<Microsoft.FSharp.Core.FSharpFunc`2<Microsoft.FSharp.Core.Unit,Microsoft.FSharp.Core.Unit>>, LangEnv, E)\r\n",
      "00:00:38 #461 [Verbose] >    at System.Runtime.CompilerServices.RuntimeHelpers.DispatchTailCalls(IntPtr, Void (IntPtr, Byte ByRef, System.Runtime.CompilerServices.PortableTailCallFrame*), Byte ByRef)\r\n",
      "00:00:38 #462 [Verbose] >    at Spiral.PartEval.Main.term@711-64(TopEnv, System.Collections.Generic.Dictionary`2<E,System.Tuple`2<System.Collections.Generic.Dictionary`2<ConsedNode`1<System.Tuple`2<RData[],Ty[]>>,System.Tuple`3<Microsoft.FSharp.Core.FSharpOption`1<TypedBind[]>,Microsoft.FSharp.Core.FSharpOption`1<Ty>,Microsoft.FSharp.Core.FSharpOption`1<System.String>>>,HashConsTable>>, System.Collections.Generic.Dictionary`2<E,System.Tuple`2<System.Collections.Generic.Dictionary`2<ConsedNode`1<System.Tuple`4<RData[],Ty[],Ty,Ty>>,Microsoft.FSharp.Core.FSharpOption`1<System.Tuple`2<Data,TypedBind[]>>>,HashConsTable>>, System.Collections.Generic.Dictionary`2<T,System.Tuple`2<System.Collections.Generic.Dictionary`2<ConsedNode`1<Ty[]>,Microsoft.FSharp.Core.FSharpOption`1<Ty>>,HashConsTable>>, Microsoft.FSharp.Core.FSharpOption`1<Microsoft.FSharp.Core.FSharpFunc`2<Microsoft.FSharp.Core.Unit,Microsoft.FSharp.Core.Unit>>, LangEnv, E)\r\n",
      "00:00:38 #463 [Verbose] >    at Spiral.PartEval.Main.term_scope''@601(TopEnv, System.Collections.Generic.Dictionary`2<E,System.Tuple`2<System.Collections.Generic.Dictionary`2<ConsedNode`1<System.Tuple`2<RData[],Ty[]>>,System.Tuple`3<Microsoft.FSharp.Core.FSharpOption`1<TypedBind[]>,Microsoft.FSharp.Core.FSharpOption`1<Ty>,Microsoft.FSharp.Core.FSharpOption`1<System.String>>>,HashConsTable>>, System.Collections.Generic.Dictionary`2<E,System.Tuple`2<System.Collections.Generic.Dictionary`2<ConsedNode`1<System.Tuple`4<RData[],Ty[],Ty,Ty>>,Microsoft.FSharp.Core.FSharpOption`1<System.Tuple`2<Data,TypedBind[]>>>,HashConsTable>>, System.Collections.Generic.Dictionary`2<T,System.Tuple`2<System.Collections.Generic.Dictionary`2<ConsedNode`1<Ty[]>,Microsoft.FSharp.Core.FSharpOption`1<Ty>>,HashConsTable>>, Microsoft.FSharp.Core.FSharpOption`1<Microsoft.FSharp.Core.FSharpFunc`2<Microsoft.FSharp.Core.Unit,Microsoft.FSharp.Core.Unit>>, LangEnv, E)\r\n",
      "00:00:38 #464 [Verbose] >    at Spiral.PartEval.Main.term_scope'@605(TopEnv, System.Collections.Generic.Dictionary`2<E,System.Tuple`2<System.Collections.Generic.Dictionary`2<ConsedNode`1<System.Tuple`2<RData[],Ty[]>>,System.Tuple`3<Microsoft.FSharp.Core.FSharpOption`1<TypedBind[]>,Microsoft.FSharp.Core.FSharpOption`1<Ty>,Microsoft.FSharp.Core.FSharpOption`1<System.String>>>,HashConsTable>>, System.Collections.Generic.Dictionary`2<E,System.Tuple`2<System.Collections.Generic.Dictionary`2<ConsedNode`1<System.Tuple`4<RData[],Ty[],Ty,Ty>>,Microsoft.FSharp.Core.FSharpOption`1<System.Tuple`2<Data,TypedBind[]>>>,HashConsTable>>, System.Collections.Generic.Dictionary`2<T,System.Tuple`2<System.Collections.Generic.Dictionary`2<ConsedNode`1<Ty[]>,Microsoft.FSharp.Core.FSharpOption`1<Ty>>,HashConsTable>>, Microsoft.FSharp.Core.FSharpOption`1<Microsoft.FSharp.Core.FSharpFunc`2<Microsoft.FSharp.Core.Unit,Microsoft.FSharp.Core.Unit>>, LangEnv, System.Collections.Generic.Dictionary`2<TypedOp,Data>, E)\r\n",
      "00:00:38 #465 [Verbose] >    at Spiral.PartEval.Main.term_scope@606(TopEnv, System.Collections.Generic.Dictionary`2<E,System.Tuple`2<System.Collections.Generic.Dictionary`2<ConsedNode`1<System.Tuple`2<RData[],Ty[]>>,System.Tuple`3<Microsoft.FSharp.Core.FSharpOption`1<TypedBind[]>,Microsoft.FSharp.Core.FSharpOption`1<Ty>,Microsoft.FSharp.Core.FSharpOption`1<System.String>>>,HashConsTable>>, System.Collections.Generic.Dictionary`2<E,System.Tuple`2<System.Collections.Generic.Dictionary`2<ConsedNode`1<System.Tuple`4<RData[],Ty[],Ty,Ty>>,Microsoft.FSharp.Core.FSharpOption`1<System.Tuple`2<Data,TypedBind[]>>>,HashConsTable>>, System.Collections.Generic.Dictionary`2<T,System.Tuple`2<System.Collections.Generic.Dictionary`2<ConsedNode`1<Ty[]>,Microsoft.FSharp.Core.FSharpOption`1<Ty>>,HashConsTable>>, Microsoft.FSharp.Core.FSharpOption`1<Microsoft.FSharp.Core.FSharpFunc`2<Microsoft.FSharp.Core.Unit,Microsoft.FSharp.Core.Unit>>, LangEnv, E)\r\n",
      "00:00:38 #466 [Verbose] >    at Spiral.PartEval.Main.peval(TopEnv, E)\r\n",
      "00:00:38 #467 [Verbose] >    at Spiral.Supervisor.file_build$cont@383(System.String, SupervisorState, PrepassTopEnv, Microsoft.FSharp.Core.FSharpOption`1<E>, Microsoft.FSharp.Core.Unit)\r\n",
      "00:00:38 #468 [Verbose] >    at Spiral.Supervisor.x2yJ@1-28(SupervisorErrorSources, System.String, System.String, SupervisorState, PrepassTopEnv)\r\n",
      "00:00:38 #469 [Verbose] >    at Spiral.Supervisor+x2yJ@380-41.Do(PrepassTopEnv)\r\n",
      "00:00:38 #470 [Verbose] >    at Hopac.Core.ContBind`2[[System.__Canon, System.Private.CoreLib, Version=9.0.0.0, Culture=neutral, PublicKeyToken=7cec85d7bea7798e],[System.__Canon, System.Private.CoreLib, Version=9.0.0.0, Culture=neutral, PublicKeyToken=7cec85d7bea7798e]].DoCont(Hopac.Core.Worker ByRef, System.__Canon)\r\n",
      "00:00:38 #471 [Verbose] >    at Hopac.Job+result@1000-1[[System.__Canon, System.Private.CoreLib, Version=9.0.0.0, Culture=neutral, PublicKeyToken=7cec85d7bea7798e]].DoJob(Hopac.Core.Worker ByRef, Hopac.Core.Cont`1<System.__Canon>)\r\n",
      "00:00:38 #472 [Verbose] >    at Hopac.Core.ContBind`2[[System.__Canon, System.Private.CoreLib, Version=9.0.0.0, Culture=neutral, PublicKeyToken=7cec85d7bea7798e],[System.__Canon, System.Private.CoreLib, Version=9.0.0.0, Culture=neutral, PublicKeyToken=7cec85d7bea7798e]].DoCont(Hopac.Core.Worker ByRef, System.__Canon)\r\n",
      "00:00:38 #473 [Verbose] >    at Hopac.Promise`1+Fulfill[[System.__Canon, System.Private.CoreLib, Version=9.0.0.0, Culture=neutral, PublicKeyToken=7cec85d7bea7798e]].Do(Hopac.Core.Worker ByRef, System.__Canon)\r\n",
      "00:00:38 #474 [Verbose] >    at Hopac.Promise`1+Fulfill[[System.__Canon, System.Private.CoreLib, Version=9.0.0.0, Culture=neutral, PublicKeyToken=7cec85d7bea7798e]].DoCont(Hopac.Core.Worker ByRef, System.__Canon)\r\n",
      "00:00:38 #475 [Verbose] >    at Hopac.Job+result@1000-1[[System.__Canon, System.Private.CoreLib, Version=9.0.0.0, Culture=neutral, PublicKeyToken=7cec85d7bea7798e]].DoJob(Hopac.Core.Worker ByRef, Hopac.Core.Cont`1<System.__Canon>)\r\n",
      "00:00:38 #476 [Verbose] >    at Hopac.Core.ContBind`2[[System.__Canon, System.Private.CoreLib, Version=9.0.0.0, Culture=neutral, PublicKeyToken=7cec85d7bea7798e],[System.__Canon, System.Private.CoreLib, Version=9.0.0.0, Culture=neutral, PublicKeyToken=7cec85d7bea7798e]].DoCont(Hopac.Core.Worker ByRef, System.__Canon)\r\n",
      "00:00:38 #477 [Verbose] >    at Hopac.Core.Cont.Do[[System.__Canon, System.Private.CoreLib, Version=9.0.0.0, Culture=neutral, PublicKeyToken=7cec85d7bea7798e]](Hopac.Core.Cont`1<System.__Canon>, Hopac.Core.Worker ByRef, System.__Canon)\r\n",
      "00:00:38 #478 [Verbose] >    at Hopac.Promise`1[[System.__Canon, System.Private.CoreLib, Version=9.0.0.0, Culture=neutral, PublicKeyToken=7cec85d7bea7798e]].DoJob(Hopac.Core.Worker ByRef, Hopac.Core.Cont`1<System.__Canon>)\r\n",
      "00:00:38 #479 [Verbose] >    at Hopac.Core.JobCont`2[[System.__Canon, System.Private.CoreLib, Version=9.0.0.0, Culture=neutral, PublicKeyToken=7cec85d7bea7798e],[System.__Canon, System.Private.CoreLib, Version=9.0.0.0, Culture=neutral, PublicKeyToken=7cec85d7bea7798e]].DoJob(Hopac.Core.Worker ByRef, Hopac.Core.Cont`1<System.__Canon>)\r\n",
      "00:00:38 #480 [Verbose] >    at Hopac.Core.Job.Do[[System.__Canon, System.Private.CoreLib, Version=9.0.0.0, Culture=neutral, PublicKeyToken=7cec85d7bea7798e]](Hopac.Job`1<System.__Canon>, Hopac.Core.Worker ByRef, Hopac.Core.Cont`1<System.__Canon>)\r\n",
      "00:00:38 #481 [Verbose] >    at Hopac.Promise`1[[System.__Canon, System.Private.CoreLib, Version=9.0.0.0, Culture=neutral, PublicKeyToken=7cec85d7bea7798e]].DoJob(Hopac.Core.Worker ByRef, Hopac.Core.Cont`1<System.__Canon>)\r\n",
      "00:00:38 #482 [Verbose] >    at Hopac.Core.JobCont`2[[System.__Canon, System.Private.CoreLib, Version=9.0.0.0, Culture=neutral, PublicKeyToken=7cec85d7bea7798e],[System.__Canon, System.Private.CoreLib, Version=9.0.0.0, Culture=neutral, PublicKeyToken=7cec85d7bea7798e]].DoJob(Hopac.Core.Worker ByRef, Hopac.Core.Cont`1<System.__Canon>)\r\n",
      "00:00:38 #483 [Verbose] >    at Hopac.Core.ContBind`2[[System.__Canon, System.Private.CoreLib, Version=9.0.0.0, Culture=neutral, PublicKeyToken=7cec85d7bea7798e],[System.__Canon, System.Private.CoreLib, Version=9.0.0.0, Culture=neutral, PublicKeyToken=7cec85d7bea7798e]].DoCont(Hopac.Core.Worker ByRef, System.__Canon)\r\n",
      "00:00:38 #484 [Verbose] >    at Hopac.Promise`1+Fulfill[[System.__Canon, System.Private.CoreLib, Version=9.0.0.0, Culture=neutral, PublicKeyToken=7cec85d7bea7798e]].Do(Hopac.Core.Worker ByRef, System.__Canon)\r\n",
      "00:00:38 #485 [Verbose] >    at Hopac.Promise`1+Fulfill[[System.__Canon, System.Private.CoreLib, Version=9.0.0.0, Culture=neutral, PublicKeyToken=7cec85d7bea7798e]].DoCont(Hopac.Core.Worker ByRef, System.__Canon)\r\n",
      "00:00:38 #486 [Verbose] >    at Hopac.Core.ContMap`2[[System.__Canon, System.Private.CoreLib, Version=9.0.0.0, Culture=neutral, PublicKeyToken=7cec85d7bea7798e],[System.__Canon, System.Private.CoreLib, Version=9.0.0.0, Culture=neutral, PublicKeyToken=7cec85d7bea7798e]].DoCont(Hopac.Core.Worker ByRef, System.__Canon)\r\n",
      "00:00:38 #487 [Verbose] >    at Hopac.Promise`1+Fulfill[[System.__Canon, System.Private.CoreLib, Version=9.0.0.0, Culture=neutral, PublicKeyToken=7cec85d7bea7798e]].Do(Hopac.Core.Worker ByRef, System.__Canon)\r\n",
      "00:00:38 #488 [Verbose] >    at Hopac.Promise`1+Fulfill[[System.__Canon, System.Private.CoreLib, Version=9.0.0.0, Culture=neutral, PublicKeyToken=7cec85d7bea7798e]].DoCont(Hopac.Core.Worker ByRef, System.__Canon)\r\n",
      "00:00:38 #489 [Verbose] >    at Hopac.Core.Cont.Do[[System.__Canon, System.Private.CoreLib, Version=9.0.0.0, Culture=neutral, PublicKeyToken=7cec85d7bea7798e]](Hopac.Core.Cont`1<System.__Canon>, Hopac.Core.Worker ByRef, System.__Canon)\r\n",
      "00:00:38 #490 [Verbose] >    at Hopac.Core.JobThunk`1[[System.__Canon, System.Private.CoreLib, Version=9.0.0.0, Culture=neutral, PublicKeyToken=7cec85d7bea7798e]].DoJob(Hopac.Core.Worker ByRef, Hopac.Core.Cont`1<System.__Canon>)\r\n",
      "00:00:38 #491 [Verbose] >    at Hopac.Core.Job.Do[[System.__Canon, System.Private.CoreLib, Version=9.0.0.0, Culture=neutral, PublicKeyToken=7cec85d7bea7798e]](Hopac.Job`1<System.__Canon>, Hopac.Core.Worker ByRef, Hopac.Core.Cont`1<System.__Canon>)\r\n",
      "00:00:38 #492 [Verbose] >    at Hopac.Promise`1[[System.__Canon, System.Private.CoreLib, Version=9.0.0.0, Culture=neutral, PublicKeyToken=7cec85d7bea7798e]].DoJob(Hopac.Core.Worker ByRef, Hopac.Core.Cont`1<System.__Canon>)\r\n",
      "00:00:38 #493 [Verbose] >    at Hopac.Core.JobCont`2[[System.__Canon, System.Private.CoreLib, Version=9.0.0.0, Culture=neutral, PublicKeyToken=7cec85d7bea7798e],[System.__Canon, System.Private.CoreLib, Version=9.0.0.0, Culture=neutral, PublicKeyToken=7cec85d7bea7798e]].DoJob(Hopac.Core.Worker ByRef, Hopac.Core.Cont`1<System.__Canon>)\r\n",
      "00:00:38 #494 [Verbose] >    at Hopac.Core.ContBind`2[[System.__Canon, System.Private.CoreLib, Version=9.0.0.0, Culture=neutral, PublicKeyToken=7cec85d7bea7798e],[System.__Canon, System.Private.CoreLib, Version=9.0.0.0, Culture=neutral, PublicKeyToken=7cec85d7bea7798e]].DoWork(Hopac.Core.Worker ByRef)\r\n",
      "00:00:38 #495 [Verbose] >    at Hopac.Core.Worker.Run(Hopac.Scheduler, Int32)\r\n",
      "00:00:38 #496 [Verbose] >    at Hopac.Platform.Scheduler+thread@30.Invoke()\r\n",
      "00:00:38 #497 [Verbose] >    at System.Threading.ExecutionContext.RunInternal(System.Threading.ExecutionContext, System.Threading.ContextCallback, System.Object)\r\n",
      "00:00:38 #499 [Debug] buildFile / takeWhileInclusive / fsxContent:  / errors: [] / typeErrorCount: 0\r\n",
      "00:00:39 #501 [Debug] buildFile / takeWhileInclusive / fsxContent:  / errors: [] / typeErrorCount: 0\r\n",
      "00:00:40 #503 [Debug] buildFile / takeWhileInclusive / fsxContent:  / errors: [] / typeErrorCount: 0\r\n",
      "00:00:41 #505 [Debug] buildFile / takeWhileInclusive / fsxContent:  / errors: [] / typeErrorCount: 0\r\n",
      "00:00:42 #506 [Debug] executeAsync / exitCode: -1073741571 / output.Length: 153096\r\n",
      "00:00:42 #507 [Debug] awaitCompiler / exitCode: -1073741571 / result: pwd: C:\\home\\git\\polyglot\\apps\\spiral\n",
      "dll_path: C:\\home\\git\\polyglot\\deps\\The-Spiral-Language\\The Spiral Language 2\\artifacts\\bin\\The Spiral Language 2\\release\n",
      "Starting the Spiral Server. It is bound to: http://localhost:13805\n",
      "Server bound to: http://localhost:13805\n",
      "Building C:\\Users\\i574n\\AppData\\Local\\Temp\\!dotnet-repl\\20240217-1337-0737-3790-30329c688bb6\\main.spi\n",
      "[Stack overflow.]\n",
      "[Repeat 2 times:]\n",
      "[--------------------------------]\n",
      "[   at Spiral.PartEval.Main.term@711-64(TopEnv, System.Collections.Generic.Dictionary`2<E,System.Tuple`2<System.Collections.Generic.Dictionary`2<ConsedNode`1<System.Tuple`2<RData[],Ty[]>>,System.Tuple`3<Microsoft.FSharp.Core.FSharpOption`1<TypedBind[]>,Microsoft.FSharp.Core.FSharpOption`1<Ty>,Microsoft.FSharp.Core.FSharpOption`1<System.String>>>,HashConsTable>>, System.Collections.Generic.Dictionary`2<E,System.Tuple`2<System.Collections.Generic.Dictionary`2<ConsedNode`1<System.Tuple`4<RData[],Ty[],Ty,Ty>>,Microsoft.FSharp.Core.FSharpOption`1<System.Tuple`2<Data,TypedBind[]>>>,HashConsTable>>, System.Collections.Generic.Dictionary`2<T,System.Tuple`2<System.Collections.Generic.Dictionary`2<ConsedNode`1<Ty[]>,Microsoft.FSharp.Core.FSharpOption`1<Ty>>,HashConsTable>>, Microsoft.FSharp.Core.FSharpOption`1<Microsoft.FSharp.Core.FSharpFunc`2<Microsoft.FSharp.Core.Unit,Microsoft.FSharp.Core.Unit>>, LangEnv, E)]\n",
      "[   at Spiral.PartEval.Main.term@711-64(TopEnv, System.Collections.Generic.Dictionary`2<E,System.Tuple`2<System.Collections.Generic.Dictionary`2<ConsedNode`1<System.Tuple`2<RData[],Ty[]>>,System.Tuple`3<Microsoft.FSharp.Core.FSharpOption`1<TypedBind[]>,Microsoft.FSharp.Core.FSharpOption`1<Ty>,Microsoft.FSharp.Core.FSharpOption`1<System.String>>>,HashConsTable>>, System.Collections.Generic.Dictionary`2<E,System.Tuple`2<System.Collections.Generic.Dictionary`2<ConsedNode`1<System.Tuple`4<RData[],Ty[],Ty,Ty>>,Microsoft.FSharp.Core.FSharpOption`1<System.Tuple`2<Data,TypedBind[]>>>,HashConsTable>>, System.Collections.Generic.Dictionary`2<T,System.Tuple`2<System.Collections.Generic.Dictionary`2<ConsedNode`1<Ty[]>,Microsoft.FSharp.Core.FSharpOption`1<Ty>>,HashConsTable>>, Microsoft.FSharp.Core.FSharpOption`1<Microsoft.FSharp.Core.FSharpFunc`2<Microsoft.FSharp.Core.Unit,Microsoft.FSharp.Core.Unit>>, LangEnv, E)]\n",
      "[   at Spiral.PartEval.Main.term@711-64(TopEnv, System.Collections.Generic.Dictionary`2<E,System.Tuple`2<System.Collections.Generic.Dictionary`2<ConsedNode`1<System.Tuple`2<RData[],Ty[]>>,System.Tuple`3<Microsoft.FSharp.Core.FSharpOption`1<TypedBind[]>,Microsoft.FSharp.Core.FSharpOption`1<Ty>,Microsoft.FSharp.Core.FSharpOption`1<System.String>>>,HashConsTable>>, System.Collections.Generic.Dictionary`2<E,System.Tuple`2<System.Collections.Generic.Dictionary`2<ConsedNode`1<System.Tuple`4<RData[],Ty[],Ty,Ty>>,Microsoft.FSharp.Core.FSharpOption`1<System.Tuple`2<Data,TypedBind[]>>>,HashConsTable>>, System.Collections.Generic.Dictionary`2<T,System.Tuple`2<System.Collections.Generic.Dictionary`2<ConsedNode`1<Ty[]>,Microsoft.FSharp.Core.FSharpOption`1<Ty>>,HashConsTable>>, Microsoft.FSharp.Core.FSharpOption`1<Microsoft.FSharp.Core.FSharpFunc`2<Microsoft.FSharp.Core.Unit,Microsoft.FSharp.Core.Unit>>, LangEnv, E)]\n",
      "[   at System.Runtime.CompilerServices.RuntimeHelpers.DispatchTailCalls(IntPtr, Void (IntPtr, Byte ByRef, System.Runtime.CompilerServices.PortableTailCallFrame*), Byte ByRef)]\n",
      "[   at Spiral.PartEval.Main.term@711-64(TopEnv, System.Collections.Generic.Dictionary`2<E,System.Tuple`2<System.Collections.Generic.Dictionary`2<ConsedNode`1<System.Tuple`2<RData[],Ty[]>>,System.Tuple`3<Microsoft.FSharp.Core.FSharpOption`1<TypedBind[]>,Microsoft.FSharp.Core.FSharpOption`1<Ty>,Microsoft.FSharp.Core.FSharpOption`1<System.String>>>,HashConsTable>>, System.Collections.Generic.Dictionary`2<E,System.Tuple`2<System.Collections.Generic.Dictionary`2<ConsedNode`1<System.Tuple`4<RData[],Ty[],Ty,Ty>>,Microsoft.FSharp.Core.FSharpOption`1<System.Tuple`2<Data,TypedBind[]>>>,HashConsTable>>, System.Collections.Generic.Dictionary`2<T,System.Tuple`2<System.Collections.Generic.Dictionary`2<ConsedNode`1<Ty[]>,Microsoft.FSharp.Core.FSharpOption`1<Ty>>,HashConsTable>>, Microsoft.FSharp.Core.FSharpOption`1<Microsoft.FSharp.Core.FSharpFunc`2<Microsoft.FSharp.Core.Unit,Microsoft.FSharp.Core.Unit>>, LangEnv, E)]\n",
      "[   at Spiral.PartEval.Main.term@711-64(TopEnv, System.Collections.Generic.Dictionary`2<E,System.Tuple`2<System.Collections.Generic.Dictionary`2<ConsedNode`1<System.Tuple`2<RData[],Ty[]>>,System.Tuple`3<Microsoft.FSharp.Core.FSharpOption`1<TypedBind[]>,Microsoft.FSharp.Core.FSharpOption`1<Ty>,Microsoft.FSharp.Core.FSharpOption`1<System.String>>>,HashConsTable>>, System.Collections.Generic.Dictionary`2<E,System.Tuple`2<System.Collections.Generic.Dictionary`2<ConsedNode`1<System.Tuple`4<RData[],Ty[],Ty,Ty>>,Microsoft.FSharp.Core.FSharpOption`1<System.Tuple`2<Data,TypedBind[]>>>,HashConsTable>>, System.Collections.Generic.Dictionary`2<T,System.Tuple`2<System.Collections.Generic.Dictionary`2<ConsedNode`1<Ty[]>,Microsoft.FSharp.Core.FSharpOption`1<Ty>>,HashConsTable>>, Microsoft.FSharp.Core.FSharpOption`1<Microsoft.FSharp.Core.FSharpFunc`2<Microsoft.FSharp.Core.Unit,Microsoft.FSharp.Core.Unit>>, LangEnv, E)]\n",
      "[   at System.Runtime.CompilerServices.RuntimeHelpers.DispatchTailCalls(IntPtr, Void (IntPtr, Byte ByRef, System.Runtime.CompilerServices.PortableTailCallFrame*), Byte ByRef)]\n",
      "[--------------------------------]\n",
      "[   at Spiral.PartEval.Main.term@711-64(TopEnv, System.Collections.Generic.Dictionary`2<E,System.Tuple`2<System.Collections.Generic.Dictionary`2<ConsedNode`1<System.Tuple`2<RData[],Ty[]>>,System.Tuple`3<Microsoft.FSharp.Core.FSharpOption`1<TypedBind[]>,Microsoft.FSharp.Core.FSharpOption`1<Ty>,Microsoft.FSharp.Core.FSharpOption`1<System.String>>>,HashConsTable>>, System.Collections.Generic.Dictionary`2<E,System.Tuple`2<System.Collections.Generic.Dictionary`2<ConsedNode`1<System.Tuple`4<RData[],Ty[],Ty,Ty>>,Microsoft.FSharp.Core.FSharpOption`1<System.Tuple`2<Data,TypedBind[]>>>,HashConsTable>>, System.Collections.Generic.Dictionary`2<T,System.Tuple`2<System.Collections.Generic.Dictionary`2<ConsedNode`1<Ty[]>,Microsoft.FSharp.Core.FSharpOption`1<Ty>>,HashConsTable>>, Microsoft.FSharp.Core.FSharpOption`1<Microsoft.FSharp.Core.FSharpFunc`2<Microsoft.FSharp.Core.Unit,Microsoft.FSharp.Core.Unit>>, LangEnv, E)]\n",
      "[   at Spiral.PartEval.Main.term@711-64(TopEnv, System.Collections.Generic.Dictionary`2<E,System.Tuple`2<System.Collections.Generic.Dictionary`2<ConsedNode`1<System.Tuple`2<RData[],Ty[]>>,System.Tuple`3<Microsoft.FSharp.Core.FSharpOption`1<TypedBind[]>,Microsoft.FSharp.Core.FSharpOption`1<Ty>,Microsoft.FSharp.Core.FSharpOption`1<System.String>>>,HashConsTable>>, System.Collections.Generic.Dictionary`2<E,System.Tuple`2<System.Collections.Generic.Dictionary`2<ConsedNode`1<System.Tuple`4<RData[],Ty[],Ty,Ty>>,Microsoft.FSharp.Core.FSharpOption`1<System.Tuple`2<Data,TypedBind[]>>>,HashConsTable>>, System.Collections.Generic.Dictionary`2<T,System.Tuple`2<System.Collections.Generic.Dictionary`2<ConsedNode`1<Ty[]>,Microsoft.FSharp.Core.FSharpOption`1<Ty>>,HashConsTable>>, Microsoft.FSharp.Core.FSharpOption`1<Microsoft.FSharp.Core.FSharpFunc`2<Microsoft.FSharp.Core.Unit,Microsoft.FSharp.Core.Unit>>, LangEnv, E)]\n",
      "[   at System.Runtime.CompilerServices.RuntimeHelpers.DispatchTailCalls(IntPtr, Void (IntPtr, Byte ByRef, System.Runtime.CompilerServices.PortableTailCallFrame*), Byte ByRef)]\n",
      "[   at Spiral.PartEval.Main.term@711-64(TopEnv, System.Collections.Generic.Dictionary`2<E,System.Tuple`2<System.Collections.Generic.Dictionary`2<ConsedNode`1<System.Tuple`2<RData[],Ty[]>>,System.Tuple`3<Microsoft.FSharp.Core.FSharpOption`1<TypedBind[]>,Microsoft.FSharp.Core.FSharpOption`1<Ty>,Microsoft.FSharp.Core.FSharpOption`1<System.String>>>,HashConsTable>>, System.Collections.Generic.Dictionary`2<E,System.Tuple`2<System.Collections.Generic.Dictionary`2<ConsedNode`1<System.Tuple`4<RData[],Ty[],Ty,Ty>>,Microsoft.FSharp.Core.FSharpOption`1<System.Tuple`2<Data,TypedBind[]>>>,HashConsTable>>, System.Collections.Generic.Dictionary`2<T,System.Tuple`2<System.Collections.Generic.Dictionary`2<ConsedNode`1<Ty[]>,Microsoft.FSharp.Core.FSharpOption`1<Ty>>,HashConsTable>>, Microsoft.FSharp.Core.FSharpOption`1<Microsoft.FSharp.Core.FSharpFunc`2<Microsoft.FSharp.Core.Unit,Microsoft.FSharp.Core.Unit>>, LangEnv, E)]\n",
      "[   at Spiral.PartEval.Main.term@711-64(TopEnv, System.Collections.Generic.Dictionary`2<E,System.Tuple`2<System.Collections.Generic.Dictionary`2<ConsedNode`1<System.Tuple`2<RData[],Ty[]>>,System.Tuple`3<Microsoft.FSharp.Core.FSharpOption`1<TypedBind[]>,Microsoft.FSharp.Core.FSharpOption`1<Ty>,Microsoft.FSharp.Core.FSharpOption`1<System.String>>>,HashConsTable>>, System.Collections.Generic.Dictionary`2<E,System.Tuple`2<System.Collections.Generic.Dictionary`2<ConsedNode`1<System.Tuple`4<RData[],Ty[],Ty,Ty>>,Microsoft.FSharp.Core.FSharpOption`1<System.Tuple`2<Data,TypedBind[]>>>,HashConsTable>>, System.Collections.Generic.Dictionary`2<T,System.Tuple`2<System.Collections.Generic.Dictionary`2<ConsedNode`1<Ty[]>,Microsoft.FSharp.Core.FSharpOption`1<Ty>>,HashConsTable>>, Microsoft.FSharp.Core.FSharpOption`1<Microsoft.FSharp.Core.FSharpFunc`2<Microsoft.FSharp.Core.Unit,Microsoft.FSharp.Core.Unit>>, LangEnv, E)]\n",
      "[   at System.Runtime.CompilerServices.RuntimeHelpers.DispatchTailCalls(IntPtr, Void (IntPtr, Byte ByRef, System.Runtime.CompilerServices.PortableTailCallFrame*), Byte ByRef)]\n",
      "[   at Spiral.PartEval.Main.term@711-64(TopEnv, System.Collections.Generic.Dictionary`2<E,System.Tuple`2<System.Collections.Generic.Dictionary`2<ConsedNode`1<System.Tuple`2<RData[],Ty[]>>,System.Tuple`3<Microsoft.FSharp.Core.FSharpOption`1<TypedBind[]>,Microsoft.FSharp.Core.FSharpOption`1<Ty>,Microsoft.FSharp.Core.FSharpOption`1<System.String>>>,HashConsTable>>, System.Collections.Generic.Dictionary`2<E,System.Tuple`2<System.Collections.Generic.Dictionary`2<ConsedNode`1<System.Tuple`4<RData[],Ty[],Ty,Ty>>,Microsoft.FSharp.Core.FSharpOption`1<System.Tuple`2<Data,TypedBind[]>>>,HashConsTable>>, System.Collections.Generic.Dictionary`2<T,System.Tuple`2<System.Collections.Generic.Dictionary`2<ConsedNode`1<Ty[]>,Microsoft.FSharp.Core.FSharpOption`1<Ty>>,HashConsTable>>, Microsoft.FSharp.Core.FSharpOption`1<Microsoft.FSharp.Core.FSharpFunc`2<Microsoft.FSharp.Core.Unit,Microsoft.FSharp.Core.Unit>>, LangEnv, E)]\n",
      "[   at Spiral.PartEval.Main.term@711-64(TopEnv, System.Collections.Generic.Dictionary`2<E,System.Tuple`2<System.Collections.Generic.Dictionary`2<ConsedNode`1<System.Tuple`2<RData[],Ty[]>>,System.Tuple`3<Microsoft.FSharp.Core.FSharpOption`1<TypedBind[]>,Microsoft.FSharp.Core.FSharpOption`1<Ty>,Microsoft.FSharp.Core.FSharpOption`1<System.String>>>,HashConsTable>>, System.Collections.Generic.Dictionary`2<E,System.Tuple`2<System.Collections.Generic.Dictionary`2<ConsedNode`1<System.Tuple`4<RData[],Ty[],Ty,Ty>>,Microsoft.FSharp.Core.FSharpOption`1<System.Tuple`2<Data,TypedBind[]>>>,HashConsTable>>, System.Collections.Generic.Dictionary`2<T,System.Tuple`2<System.Collections.Generic.Dictionary`2<ConsedNode`1<Ty[]>,Microsoft.FSharp.Core.FSharpOption`1<Ty>>,HashConsTable>>, Microsoft.FSharp.Core.FSharpOption`1<Microsoft.FSharp.Core.FSharpFunc`2<Microsoft.FSharp.Core.Unit,Microsoft.FSharp.Core.Unit>>, LangEnv, E)]\n",
      "[   at System.Runtime.CompilerServices.RuntimeHelpers.DispatchTailCalls(IntPtr, Void (IntPtr, Byte ByRef, System.Runtime.CompilerServices.PortableTailCallFrame*), Byte ByRef)]\n",
      "[   at Spiral.PartEval.Main.term@711-64(TopEnv, System.Collections.Generic.Dictionary`2<E,System.Tuple`2<System.Collections.Generic.Dictionary`2<ConsedNode`1<System.Tuple`2<RData[],Ty[]>>,System.Tuple`3<Microsoft.FSharp.Core.FSharpOption`1<TypedBind[]>,Microsoft.FSharp.Core.FSharpOption`1<Ty>,Microsoft.FSharp.Core.FSharpOption`1<System.String>>>,HashConsTable>>, System.Collections.Generic.Dictionary`2<E,System.Tuple`2<System.Collections.Generic.Dictionary`2<ConsedNode`1<System.Tuple`4<RData[],Ty[],Ty,Ty>>,Microsoft.FSharp.Core.FSharpOption`1<System.Tuple`2<Data,TypedBind[]>>>,HashConsTable>>, System.Collections.Generic.Dictionary`2<T,System.Tuple`2<System.Collections.Generic.Dictionary`2<ConsedNode`1<Ty[]>,Microsoft.FSharp.Core.FSharpOption`1<Ty>>,HashConsTable>>, Microsoft.FSharp.Core.FSharpOption`1<Microsoft.FSharp.Core.FSharpFunc`2<Microsoft.FSharp.Core.Unit,Microsoft.FSharp.Core.Unit>>, LangEnv, E)]\n",
      "[   at Spiral.PartEval.Main.term@711-64(TopEnv, System.Collections.Generic.Dictionary`2<E,System.Tuple`2<System.Collections.Generic.Dictionary`2<ConsedNode`1<System.Tuple`2<RData[],Ty[]>>,System.Tuple`3<Microsoft.FSharp.Core.FSharpOption`1<TypedBind[]>,Microsoft.FSharp.Core.FSharpOption`1<Ty>,Microsoft.FSharp.Core.FSharpOption`1<System.String>>>,HashConsTable>>, System.Collections.Generic.Dictionary`2<E,System.Tuple`2<System.Collections.Generic.Dictionary`2<ConsedNode`1<System.Tuple`4<RData[],Ty[],Ty,Ty>>,Microsoft.FSharp.Core.FSharpOption`1<System.Tuple`2<Data,TypedBind[]>>>,HashConsTable>>, System.Collections.Generic.Dictionary`2<T,System.Tuple`2<System.Collections.Generic.Dictionary`2<ConsedNode`1<Ty[]>,Microsoft.FSharp.Core.FSharpOption`1<Ty>>,HashConsTable>>, Microsoft.FSharp.Core.FSharpOption`1<Microsoft.FSharp.Core.FSharpFunc`2<Microsoft.FSharp.Core.Unit,Microsoft.FSharp.Core.Unit>>, LangEnv, E)]\n",
      "[   at System.Runtime.CompilerServices.RuntimeHelpers.DispatchTailCalls(IntPtr, Void (IntPtr, Byte ByRef, System.Runtime.CompilerServices.PortableTailCallFrame*), Byte ByRef)]\n",
      "[   at Spiral.PartEval.Main.term@711-64(TopEnv, System.Collections.Generic.Dictionary`2<E,System.Tuple`2<System.Collections.Generic.Dictionary`2<ConsedNode`1<System.Tuple`2<RData[],Ty[]>>,System.Tuple`3<Microsoft.FSharp.Core.FSharpOption`1<TypedBind[]>,Microsoft.FSharp.Core.FSharpOption`1<Ty>,Microsoft.FSharp.Core.FSharpOption`1<System.String>>>,HashConsTable>>, System.Collections.Generic.Dictionary`2<E,System.Tuple`2<System.Collections.Generic.Dictionary`2<ConsedNode`1<System.Tuple`4<RData[],Ty[],Ty,Ty>>,Microsoft.FSharp.Core.FSharpOption`1<System.Tuple`2<Data,TypedBind[]>>>,HashConsTable>>, System.Collections.Generic.Dictionary`2<T,System.Tuple`2<System.Collections.Generic.Dictionary`2<ConsedNode`1<Ty[]>,Microsoft.FSharp.Core.FSharpOption`1<Ty>>,HashConsTable>>, Microsoft.FSharp.Core.FSharpOption`1<Microsoft.FSharp.Core.FSharpFunc`2<Microsoft.FSharp.Core.Unit,Microsoft.FSharp.Core.Unit>>, LangEnv, E)]\n",
      "[   at Spiral.PartEval.Main.term@711-64(TopEnv, System.Collections.Generic.Dictionary`2<E,System.Tuple`2<System.Collections.Generic.Dictionary`2<ConsedNode`1<System.Tuple`2<RData[],Ty[]>>,System.Tuple`3<Microsoft.FSharp.Core.FSharpOption`1<TypedBind[]>,Microsoft.FSharp.Core.FSharpOption`1<Ty>,Microsoft.FSharp.Core.FSharpOption`1<System.String>>>,HashConsTable>>, System.Collections.Generic.Dictionary`2<E,System.Tuple`2<System.Collections.Generic.Dictionary`2<ConsedNode`1<System.Tuple`4<RData[],Ty[],Ty,Ty>>,Microsoft.FSharp.Core.FSharpOption`1<System.Tuple`2<Data,TypedBind[]>>>,HashConsTable>>, System.Collections.Generic.Dictionary`2<T,System.Tuple`2<System.Collections.Generic.Dictionary`2<ConsedNode`1<Ty[]>,Microsoft.FSharp.Core.FSharpOption`1<Ty>>,HashConsTable>>, Microsoft.FSharp.Core.FSharpOption`1<Microsoft.FSharp.Core.FSharpFunc`2<Microsoft.FSharp.Core.Unit,Microsoft.FSharp.Core.Unit>>, LangEnv, E)]\n",
      "[   at System.Runtime.CompilerServices.RuntimeHelpers.DispatchTailCalls(IntPtr, Void (IntPtr, Byte ByRef, System.Runtime.CompilerServices.PortableTailCallFrame*), Byte ByRef)]\n",
      "[   at Spiral.PartEval.Main.term@711-64(TopEnv, System.Collections.Generic.Dictionary`2<E,System.Tuple`2<System.Collections.Generic.Dictionary`2<ConsedNode`1<System.Tuple`2<RData[],Ty[]>>,System.Tuple`3<Microsoft.FSharp.Core.FSharpOption`1<TypedBind[]>,Microsoft.FSharp.Core.FSharpOption`1<Ty>,Microsoft.FSharp.Core.FSharpOption`1<System.String>>>,HashConsTable>>, System.Collections.Generic.Dictionary`2<E,System.Tuple`2<System.Collections.Generic.Dictionary`2<ConsedNode`1<System.Tuple`4<RData[],Ty[],Ty,Ty>>,Microsoft.FSharp.Core.FSharpOption`1<System.Tuple`2<Data,TypedBind[]>>>,HashConsTable>>, System.Collections.Generic.Dictionary`2<T,System.Tuple`2<System.Collections.Generic.Dictionary`2<ConsedNode`1<Ty[]>,Microsoft.FSharp.Core.FSharpOption`1<Ty>>,HashConsTable>>, Microsoft.FSharp.Core.FSharpOption`1<Microsoft.FSharp.Core.FSharpFunc`2<Microsoft.FSharp.Core.Unit,Microsoft.FSharp.Core.Unit>>, LangEnv, E)]\n",
      "[   at Spiral.PartEval.Main.term@711-64(TopEnv, System.Collections.Generic.Dictionary`2<E,System.Tuple`2<System.Collections.Generic.Dictionary`2<ConsedNode`1<System.Tuple`2<RData[],Ty[]>>,System.Tuple`3<Microsoft.FSharp.Core.FSharpOption`1<TypedBind[]>,Microsoft.FSharp.Core.FSharpOption`1<Ty>,Microsoft.FSharp.Core.FSharpOption`1<System.String>>>,HashConsTable>>, System.Collections.Generic.Dictionary`2<E,System.Tuple`2<System.Collections.Generic.Dictionary`2<ConsedNode`1<System.Tuple`4<RData[],Ty[],Ty,Ty>>,Microsoft.FSharp.Core.FSharpOption`1<System.Tuple`2<Data,TypedBind[]>>>,HashConsTable>>, System.Collections.Generic.Dictionary`2<T,System.Tuple`2<System.Collections.Generic.Dictionary`2<ConsedNode`1<Ty[]>,Microsoft.FSharp.Core.FSharpOption`1<Ty>>,HashConsTable>>, Microsoft.FSharp.Core.FSharpOption`1<Microsoft.FSharp.Core.FSharpFunc`2<Microsoft.FSharp.Core.Unit,Microsoft.FSharp.Core.Unit>>, LangEnv, E)]\n",
      "[   at System.Runtime.CompilerServices.RuntimeHelpers.DispatchTailCalls(IntPtr, Void (IntPtr, Byte ByRef, System.Runtime.CompilerServices.PortableTailCallFrame*), Byte ByRef)]\n",
      "[   at Spiral.PartEval.Main.term@711-64(TopEnv, System.Collections.Generic.Dictionary`2<E,System.Tuple`2<System.Collections.Generic.Dictionary`2<ConsedNode`1<System.Tuple`2<RData[],Ty[]>>,System.Tuple`3<Microsoft.FSharp.Core.FSharpOption`1<TypedBind[]>,Microsoft.FSharp.Core.FSharpOption`1<Ty>,Microsoft.FSharp.Core.FSharpOption`1<System.String>>>,HashConsTable>>, System.Collections.Generic.Dictionary`2<E,System.Tuple`2<System.Collections.Generic.Dictionary`2<ConsedNode`1<System.Tuple`4<RData[],Ty[],Ty,Ty>>,Microsoft.FSharp.Core.FSharpOption`1<System.Tuple`2<Data,TypedBind[]>>>,HashConsTable>>, System.Collections.Generic.Dictionary`2<T,System.Tuple`2<System.Collections.Generic.Dictionary`2<ConsedNode`1<Ty[]>,Microsoft.FSharp.Core.FSharpOption`1<Ty>>,HashConsTable>>, Microsoft.FSharp.Core.FSharpOption`1<Microsoft.FSharp.Core.FSharpFunc`2<Microsoft.FSharp.Core.Unit,Microsoft.FSharp.Core.Unit>>, LangEnv, E)]\n",
      "[   at Spiral.PartEval.Main.term@711-64(TopEnv, System.Collections.Generic.Dictionary`2<E,System.Tuple`2<System.Collections.Generic.Dictionary`2<ConsedNode`1<System.Tuple`2<RData[],Ty[]>>,System.Tuple`3<Microsoft.FSharp.Core.FSharpOption`1<TypedBind[]>,Microsoft.FSharp.Core.FSharpOption`1<Ty>,Microsoft.FSharp.Core.FSharpOption`1<System.String>>>,HashConsTable>>, System.Collections.Generic.Dictionary`2<E,System.Tuple`2<System.Collections.Generic.Dictionary`2<ConsedNode`1<System.Tuple`4<RData[],Ty[],Ty,Ty>>,Microsoft.FSharp.Core.FSharpOption`1<System.Tuple`2<Data,TypedBind[]>>>,HashConsTable>>, System.Collections.Generic.Dictionary`2<T,System.Tuple`2<System.Collections.Generic.Dictionary`2<ConsedNode`1<Ty[]>,Microsoft.FSharp.Core.FSharpOption`1<Ty>>,HashConsTable>>, Microsoft.FSharp.Core.FSharpOption`1<Microsoft.FSharp.Core.FSharpFunc`2<Microsoft.FSharp.Core.Unit,Microsoft.FSharp.Core.Unit>>, LangEnv, E)]\n",
      "[   at System.Runtime.CompilerServices.RuntimeHelpers.DispatchTailCalls(IntPtr, Void (IntPtr, Byte ByRef, System.Runtime.CompilerServices.PortableTailCallFrame*), Byte ByRef)]\n",
      "[   at Spiral.PartEval.Main.term@711-64(TopEnv, System.Collections.Generic.Dictionary`2<E,System.Tuple`2<System.Collections.Generic.Dictionary`2<ConsedNode`1<System.Tuple`2<RData[],Ty[]>>,System.Tuple`3<Microsoft.FSharp.Core.FSharpOption`1<TypedBind[]>,Microsoft.FSharp.Core.FSharpOption`1<Ty>,Microsoft.FSharp.Core.FSharpOption`1<System.String>>>,HashConsTable>>, System.Collections.Generic.Dictionary`2<E,System.Tuple`2<System.Collections.Generic.Dictionary`2<ConsedNode`1<System.Tuple`4<RData[],Ty[],Ty,Ty>>,Microsoft.FSharp.Core.FSharpOption`1<System.Tuple`2<Data,TypedBind[]>>>,HashConsTable>>, System.Collections.Generic.Dictionary`2<T,System.Tuple`2<System.Collections.Generic.Dictionary`2<ConsedNode`1<Ty[]>,Microsoft.FSharp.Core.FSharpOption`1<Ty>>,HashConsTable>>, Microsoft.FSharp.Core.FSharpOption`1<Microsoft.FSharp.Core.FSharpFunc`2<Microsoft.FSharp.Core.Unit,Microsoft.FSharp.Core.Unit>>, LangEnv, E)]\n",
      "[   at Spiral.PartEval.Main.term@711-64(TopEnv, System.Collections.Generic.Dictionary`2<E,System.Tuple`2<System.Collections.Generic.Dictionary`2<ConsedNode`1<System.Tuple`2<RData[],Ty[]>>,System.Tuple`3<Microsoft.FSharp.Core.FSharpOption`1<TypedBind[]>,Microsoft.FSharp.Core.FSharpOption`1<Ty>,Microsoft.FSharp.Core.FSharpOption`1<System.String>>>,HashConsTable>>, System.Collections.Generic.Dictionary`2<E,System.Tuple`2<System.Collections.Generic.Dictionary`2<ConsedNode`1<System.Tuple`4<RData[],Ty[],Ty,Ty>>,Microsoft.FSharp.Core.FSharpOption`1<System.Tuple`2<Data,TypedBind[]>>>,HashConsTable>>, System.Collections.Generic.Dictionary`2<T,System.Tuple`2<System.Collections.Generic.Dictionary`2<ConsedNode`1<Ty[]>,Microsoft.FSharp.Core.FSharpOption`1<Ty>>,HashConsTable>>, Microsoft.FSharp.Core.FSharpOption`1<Microsoft.FSharp.Core.FSharpFunc`2<Microsoft.FSharp.Core.Unit,Microsoft.FSharp.Core.Unit>>, LangEnv, E)]\n",
      "[   at System.Runtime.CompilerServices.RuntimeHelpers.DispatchTailCalls(IntPtr, Void (IntPtr, Byte ByRef, System.Runtime.CompilerServices.PortableTailCallFrame*), Byte ByRef)]\n",
      "[   at Spiral.PartEval.Main.term@711-64(TopEnv, System.Collections.Generic.Dictionary`2<E,System.Tuple`2<System.Collections.Generic.Dictionary`2<ConsedNode`1<System.Tuple`2<RData[],Ty[]>>,System.Tuple`3<Microsoft.FSharp.Core.FSharpOption`1<TypedBind[]>,Microsoft.FSharp.Core.FSharpOption`1<Ty>,Microsoft.FSharp.Core.FSharpOption`1<System.String>>>,HashConsTable>>, System.Collections.Generic.Dictionary`2<E,System.Tuple`2<System.Collections.Generic.Dictionary`2<ConsedNode`1<System.Tuple`4<RData[],Ty[],Ty,Ty>>,Microsoft.FSharp.Core.FSharpOption`1<System.Tuple`2<Data,TypedBind[]>>>,HashConsTable>>, System.Collections.Generic.Dictionary`2<T,System.Tuple`2<System.Collections.Generic.Dictionary`2<ConsedNode`1<Ty[]>,Microsoft.FSharp.Core.FSharpOption`1<Ty>>,HashConsTable>>, Microsoft.FSharp.Core.FSharpOption`1<Microsoft.FSharp.Core.FSharpFunc`2<Microsoft.FSharp.Core.Unit,Microsoft.FSharp.Core.Unit>>, LangEnv, E)]\n",
      "[   at Spiral.PartEval.Main.term@711-64(TopEnv, System.Collections.Generic.Dictionary`2<E,System.Tuple`2<System.Collections.Generic.Dictionary`2<ConsedNode`1<System.Tuple`2<RData[],Ty[]>>,System.Tuple`3<Microsoft.FSharp.Core.FSharpOption`1<TypedBind[]>,Microsoft.FSharp.Core.FSharpOption`1<Ty>,Microsoft.FSharp.Core.FSharpOption`1<System.String>>>,HashConsTable>>, System.Collections.Generic.Dictionary`2<E,System.Tuple`2<System.Collections.Generic.Dictionary`2<ConsedNode`1<System.Tuple`4<RData[],Ty[],Ty,Ty>>,Microsoft.FSharp.Core.FSharpOption`1<System.Tuple`2<Data,TypedBind[]>>>,HashConsTable>>, System.Collections.Generic.Dictionary`2<T,System.Tuple`2<System.Collections.Generic.Dictionary`2<ConsedNode`1<Ty[]>,Microsoft.FSharp.Core.FSharpOption`1<Ty>>,HashConsTable>>, Microsoft.FSharp.Core.FSharpOption`1<Microsoft.FSharp.Core.FSharpFunc`2<Microsoft.FSharp.Core.Unit,Microsoft.FSharp.Core.Unit>>, LangEnv, E)]\n",
      "[   at System.Runtime.CompilerServices.RuntimeHelpers.DispatchTailCalls(IntPtr, Void (IntPtr, Byte ByRef, System.Runtime.CompilerServices.PortableTailCallFrame*), Byte ByRef)]\n",
      "[   at Spiral.PartEval.Main.term@711-64(TopEnv, System.Collections.Generic.Dictionary`2<E,System.Tuple`2<System.Collections.Generic.Dictionary`2<ConsedNode`1<System.Tuple`2<RData[],Ty[]>>,System.Tuple`3<Microsoft.FSharp.Core.FSharpOption`1<TypedBind[]>,Microsoft.FSharp.Core.FSharpOption`1<Ty>,Microsoft.FSharp.Core.FSharpOption`1<System.String>>>,HashConsTable>>, System.Collections.Generic.Dictionary`2<E,System.Tuple`2<System.Collections.Generic.Dictionary`2<ConsedNode`1<System.Tuple`4<RData[],Ty[],Ty,Ty>>,Microsoft.FSharp.Core.FSharpOption`1<System.Tuple`2<Data,TypedBind[]>>>,HashConsTable>>, System.Collections.Generic.Dictionary`2<T,System.Tuple`2<System.Collections.Generic.Dictionary`2<ConsedNode`1<Ty[]>,Microsoft.FSharp.Core.FSharpOption`1<Ty>>,HashConsTable>>, Microsoft.FSharp.Core.FSharpOption`1<Microsoft.FSharp.Core.FSharpFunc`2<Microsoft.FSharp.Core.Unit,Microsoft.FSharp.Core.Unit>>, LangEnv, E)]\n",
      "[   at Spiral.PartEval.Main.term@711-64(TopEnv, System.Collections.Generic.Dictionary`2<E,System.Tuple`2<System.Collections.Generic.Dictionary`2<ConsedNode`1<System.Tuple`2<RData[],Ty[]>>,System.Tuple`3<Microsoft.FSharp.Core.FSharpOption`1<TypedBind[]>,Microsoft.FSharp.Core.FSharpOption`1<Ty>,Microsoft.FSharp.Core.FSharpOption`1<System.String>>>,HashConsTable>>, System.Collections.Generic.Dictionary`2<E,System.Tuple`2<System.Collections.Generic.Dictionary`2<ConsedNode`1<System.Tuple`4<RData[],Ty[],Ty,Ty>>,Microsoft.FSharp.Core.FSharpOption`1<System.Tuple`2<Data,TypedBind[]>>>,HashConsTable>>, System.Collections.Generic.Dictionary`2<T,System.Tuple`2<System.Collections.Generic.Dictionary`2<ConsedNode`1<Ty[]>,Microsoft.FSharp.Core.FSharpOption`1<Ty>>,HashConsTable>>, Microsoft.FSharp.Core.FSharpOption`1<Microsoft.FSharp.Core.FSharpFunc`2<Microsoft.FSharp.Core.Unit,Microsoft.FSharp.Core.Unit>>, LangEnv, E)]\n",
      "[   at System.Runtime.CompilerServices.RuntimeHelpers.DispatchTailCalls(IntPtr, Void (IntPtr, Byte ByRef, System.Runtime.CompilerServices.PortableTailCallFrame*), Byte ByRef)]\n",
      "[   at Spiral.PartEval.Main.term@711-64(TopEnv, System.Collections.Generic.Dictionary`2<E,System.Tuple`2<System.Collections.Generic.Dictionary`2<ConsedNode`1<System.Tuple`2<RData[],Ty[]>>,System.Tuple`3<Microsoft.FSharp.Core.FSharpOption`1<TypedBind[]>,Microsoft.FSharp.Core.FSharpOption`1<Ty>,Microsoft.FSharp.Core.FSharpOption`1<System.String>>>,HashConsTable>>, System.Collections.Generic.Dictionary`2<E,System.Tuple`2<System.Collections.Generic.Dictionary`2<ConsedNode`1<System.Tuple`4<RData[],Ty[],Ty,Ty>>,Microsoft.FSharp.Core.FSharpOption`1<System.Tuple`2<Data,TypedBind[]>>>,HashConsTable>>, System.Collections.Generic.Dictionary`2<T,System.Tuple`2<System.Collections.Generic.Dictionary`2<ConsedNode`1<Ty[]>,Microsoft.FSharp.Core.FSharpOption`1<Ty>>,HashConsTable>>, Microsoft.FSharp.Core.FSharpOption`1<Microsoft.FSharp.Core.FSharpFunc`2<Microsoft.FSharp.Core.Unit,Microsoft.FSharp.Core.Unit>>, LangEnv, E)]\n",
      "[   at Spiral.PartEval.Main.term@711-64(TopEnv, System.Collections.Generic.Dictionary`2<E,System.Tuple`2<System.Collections.Generic.Dictionary`2<ConsedNode`1<System.Tuple`2<RData[],Ty[]>>,System.Tuple`3<Microsoft.FSharp.Core.FSharpOption`1<TypedBind[]>,Microsoft.FSharp.Core.FSharpOption`1<Ty>,Microsoft.FSharp.Core.FSharpOption`1<System.String>>>,HashConsTable>>, System.Collections.Generic.Dictionary`2<E,System.Tuple`2<System.Collections.Generic.Dictionary`2<ConsedNode`1<System.Tuple`4<RData[],Ty[],Ty,Ty>>,Microsoft.FSharp.Core.FSharpOption`1<System.Tuple`2<Data,TypedBind[]>>>,HashConsTable>>, System.Collections.Generic.Dictionary`2<T,System.Tuple`2<System.Collections.Generic.Dictionary`2<ConsedNode`1<Ty[]>,Microsoft.FSharp.Core.FSharpOption`1<Ty>>,HashConsTable>>, Microsoft.FSharp.Core.FSharpOption`1<Microsoft.FSharp.Core.FSharpFunc`2<Microsoft.FSharp.Core.Unit,Microsoft.FSharp.Core.Unit>>, LangEnv, E)]\n",
      "[   at System.Runtime.CompilerServices.RuntimeHelpers.DispatchTailCalls(IntPtr, Void (IntPtr, Byte ByRef, System.Runtime.CompilerServices.PortableTailCallFrame*), Byte ByRef)]\n",
      "[   at Spiral.PartEval.Main.term@711-64(TopEnv, System.Collections.Generic.Dictionary`2<E,System.Tuple`2<System.Collections.Generic.Dictionary`2<ConsedNode`1<System.Tuple`2<RData[],Ty[]>>,System.Tuple`3<Microsoft.FSharp.Core.FSharpOption`1<TypedBind[]>,Microsoft.FSharp.Core.FSharpOption`1<Ty>,Microsoft.FSharp.Core.FSharpOption`1<System.String>>>,HashConsTable>>, System.Collections.Generic.Dictionary`2<E,System.Tuple`2<System.Collections.Generic.Dictionary`2<ConsedNode`1<System.Tuple`4<RData[],Ty[],Ty,Ty>>,Microsoft.FSharp.Core.FSharpOption`1<System.Tuple`2<Data,TypedBind[]>>>,HashConsTable>>, System.Collections.Generic.Dictionary`2<T,System.Tuple`2<System.Collections.Generic.Dictionary`2<ConsedNode`1<Ty[]>,Microsoft.FSharp.Core.FSharpOption`1<Ty>>,HashConsTable>>, Microsoft.FSharp.Core.FSharpOption`1<Microsoft.FSharp.Core.FSharpFunc`2<Microsoft.FSharp.Core.Unit,Microsoft.FSharp.Core.Unit>>, LangEnv, E)]\n",
      "[   at Spiral.PartEval.Main.term@711-64(TopEnv, System.Collections.Generic.Dictionary`2<E,System.Tuple`2<System.Collections.Generic.Dictionary`2<ConsedNode`1<System.Tuple`2<RData[],Ty[]>>,System.Tuple`3<Microsoft.FSharp.Core.FSharpOption`1<TypedBind[]>,Microsoft.FSharp.Core.FSharpOption`1<Ty>,Microsoft.FSharp.Core.FSharpOption`1<System.String>>>,HashConsTable>>, System.Collections.Generic.Dictionary`2<E,System.Tuple`2<System.Collections.Generic.Dictionary`2<ConsedNode`1<System.Tuple`4<RData[],Ty[],Ty,Ty>>,Microsoft.FSharp.Core.FSharpOption`1<System.Tuple`2<Data,TypedBind[]>>>,HashConsTable>>, System.Collections.Generic.Dictionary`2<T,System.Tuple`2<System.Collections.Generic.Dictionary`2<ConsedNode`1<Ty[]>,Microsoft.FSharp.Core.FSharpOption`1<Ty>>,HashConsTable>>, Microsoft.FSharp.Core.FSharpOption`1<Microsoft.FSharp.Core.FSharpFunc`2<Microsoft.FSharp.Core.Unit,Microsoft.FSharp.Core.Unit>>, LangEnv, E)]\n",
      "[   at System.Runtime.CompilerServices.RuntimeHelpers.DispatchTailCalls(IntPtr, Void (IntPtr, Byte ByRef, System.Runtime.CompilerServices.PortableTailCallFrame*), Byte ByRef)]\n",
      "[   at Spiral.PartEval.Main.term@711-64(TopEnv, System.Collections.Generic.Dictionary`2<E,System.Tuple`2<System.Collections.Generic.Dictionary`2<ConsedNode`1<System.Tuple`2<RData[],Ty[]>>,System.Tuple`3<Microsoft.FSharp.Core.FSharpOption`1<TypedBind[]>,Microsoft.FSharp.Core.FSharpOption`1<Ty>,Microsoft.FSharp.Core.FSharpOption`1<System.String>>>,HashConsTable>>, System.Collections.Generic.Dictionary`2<E,System.Tuple`2<System.Collections.Generic.Dictionary`2<ConsedNode`1<System.Tuple`4<RData[],Ty[],Ty,Ty>>,Microsoft.FSharp.Core.FSharpOption`1<System.Tuple`2<Data,TypedBind[]>>>,HashConsTable>>, System.Collections.Generic.Dictionary`2<T,System.Tuple`2<System.Collections.Generic.Dictionary`2<ConsedNode`1<Ty[]>,Microsoft.FSharp.Core.FSharpOption`1<Ty>>,HashConsTable>>, Microsoft.FSharp.Core.FSharpOption`1<Microsoft.FSharp.Core.FSharpFunc`2<Microsoft.FSharp.Core.Unit,Microsoft.FSharp.Core.Unit>>, LangEnv, E)]\n",
      "[   at Spiral.PartEval.Main.term@711-64(TopEnv, System.Collections.Generic.Dictionary`2<E,System.Tuple`2<System.Collections.Generic.Dictionary`2<ConsedNode`1<System.Tuple`2<RData[],Ty[]>>,System.Tuple`3<Microsoft.FSharp.Core.FSharpOption`1<TypedBind[]>,Microsoft.FSharp.Core.FSharpOption`1<Ty>,Microsoft.FSharp.Core.FSharpOption`1<System.String>>>,HashConsTable>>, System.Collections.Generic.Dictionary`2<E,System.Tuple`2<System.Collections.Generic.Dictionary`2<ConsedNode`1<System.Tuple`4<RData[],Ty[],Ty,Ty>>,Microsoft.FSharp.Core.FSharpOption`1<System.Tuple`2<Data,TypedBind[]>>>,HashConsTable>>, System.Collections.Generic.Dictionary`2<T,System.Tuple`2<System.Collections.Generic.Dictionary`2<ConsedNode`1<Ty[]>,Microsoft.FSharp.Core.FSharpOption`1<Ty>>,HashConsTable>>, Microsoft.FSharp.Core.FSharpOption`1<Microsoft.FSharp.Core.FSharpFunc`2<Microsoft.FSharp.Core.Unit,Microsoft.FSharp.Core.Unit>>, LangEnv, E)]\n",
      "[   at System.Runtime.CompilerServices.RuntimeHelpers.DispatchTailCalls(IntPtr, Void (IntPtr, Byte ByRef, System.Runtime.CompilerServices.PortableTailCallFrame*), Byte ByRef)]\n",
      "[   at Spiral.PartEval.Main.term@711-64(TopEnv, System.Collections.Generic.Dictionary`2<E,System.Tuple`2<System.Collections.Generic.Dictionary`2<ConsedNode`1<System.Tuple`2<RData[],Ty[]>>,System.Tuple`3<Microsoft.FSharp.Core.FSharpOption`1<TypedBind[]>,Microsoft.FSharp.Core.FSharpOption`1<Ty>,Microsoft.FSharp.Core.FSharpOption`1<System.String>>>,HashConsTable>>, System.Collections.Generic.Dictionary`2<E,System.Tuple`2<System.Collections.Generic.Dictionary`2<ConsedNode`1<System.Tuple`4<RData[],Ty[],Ty,Ty>>,Microsoft.FSharp.Core.FSharpOption`1<System.Tuple`2<Data,TypedBind[]>>>,HashConsTable>>, System.Collections.Generic.Dictionary`2<T,System.Tuple`2<System.Collections.Generic.Dictionary`2<ConsedNode`1<Ty[]>,Microsoft.FSharp.Core.FSharpOption`1<Ty>>,HashConsTable>>, Microsoft.FSharp.Core.FSharpOption`1<Microsoft.FSharp.Core.FSharpFunc`2<Microsoft.FSharp.Core.Unit,Microsoft.FSharp.Core.Unit>>, LangEnv, E)]\n",
      "[   at Spiral.PartEval.Main.term@711-64(TopEnv, System.Collections.Generic.Dictionary`2<E,System.Tuple`2<System.Collections.Generic.Dictionary`2<ConsedNode`1<System.Tuple`2<RData[],Ty[]>>,System.Tuple`3<Microsoft.FSharp.Core.FSharpOption`1<TypedBind[]>,Microsoft.FSharp.Core.FSharpOption`1<Ty>,Microsoft.FSharp.Core.FSharpOption`1<System.String>>>,HashConsTable>>, System.Collections.Generic.Dictionary`2<E,System.Tuple`2<System.Collections.Generic.Dictionary`2<ConsedNode`1<System.Tuple`4<RData[],Ty[],Ty,Ty>>,Microsoft.FSharp.Core.FSharpOption`1<System.Tuple`2<Data,TypedBind[]>>>,HashConsTable>>, System.Collections.Generic.Dictionary`2<T,System.Tuple`2<System.Collections.Generic.Dictionary`2<ConsedNode`1<Ty[]>,Microsoft.FSharp.Core.FSharpOption`1<Ty>>,HashConsTable>>, Microsoft.FSharp.Core.FSharpOption`1<Microsoft.FSharp.Core.FSharpFunc`2<Microsoft.FSharp.Core.Unit,Microsoft.FSharp.Core.Unit>>, LangEnv, E)]\n",
      "[   at System.Runtime.CompilerServices.RuntimeHelpers.DispatchTailCalls(IntPtr, Void (IntPtr, Byte ByRef, System.Runtime.CompilerServices.PortableTailCallFrame*), Byte ByRef)]\n",
      "[   at Spiral.PartEval.Main.term@711-64(TopEnv, System.Collections.Generic.Dictionary`2<E,System.Tuple`2<System.Collections.Generic.Dictionary`2<ConsedNode`1<System.Tuple`2<RData[],Ty[]>>,System.Tuple`3<Microsoft.FSharp.Core.FSharpOption`1<TypedBind[]>,Microsoft.FSharp.Core.FSharpOption`1<Ty>,Microsoft.FSharp.Core.FSharpOption`1<System.String>>>,HashConsTable>>, System.Collections.Generic.Dictionary`2<E,System.Tuple`2<System.Collections.Generic.Dictionary`2<ConsedNode`1<System.Tuple`4<RData[],Ty[],Ty,Ty>>,Microsoft.FSharp.Core.FSharpOption`1<System.Tuple`2<Data,TypedBind[]>>>,HashConsTable>>, System.Collections.Generic.Dictionary`2<T,System.Tuple`2<System.Collections.Generic.Dictionary`2<ConsedNode`1<Ty[]>,Microsoft.FSharp.Core.FSharpOption`1<Ty>>,HashConsTable>>, Microsoft.FSharp.Core.FSharpOption`1<Microsoft.FSharp.Core.FSharpFunc`2<Microsoft.FSharp.Core.Unit,Microsoft.FSharp.Core.Unit>>, LangEnv, E)]\n",
      "[   at Spiral.PartEval.Main.term@711-64(TopEnv, System.Collections.Generic.Dictionary`2<E,System.Tuple`2<System.Collections.Generic.Dictionary`2<ConsedNode`1<System.Tuple`2<RData[],Ty[]>>,System.Tuple`3<Microsoft.FSharp.Core.FSharpOption`1<TypedBind[]>,Microsoft.FSharp.Core.FSharpOption`1<Ty>,Microsoft.FSharp.Core.FSharpOption`1<System.String>>>,HashConsTable>>, System.Collections.Generic.Dictionary`2<E,System.Tuple`2<System.Collections.Generic.Dictionary`2<ConsedNode`1<System.Tuple`4<RData[],Ty[],Ty,Ty>>,Microsoft.FSharp.Core.FSharpOption`1<System.Tuple`2<Data,TypedBind[]>>>,HashConsTable>>, System.Collections.Generic.Dictionary`2<T,System.Tuple`2<System.Collections.Generic.Dictionary`2<ConsedNode`1<Ty[]>,Microsoft.FSharp.Core.FSharpOption`1<Ty>>,HashConsTable>>, Microsoft.FSharp.Core.FSharpOption`1<Microsoft.FSharp.Core.FSharpFunc`2<Microsoft.FSharp.Core.Unit,Microsoft.FSharp.Core.Unit>>, LangEnv, E)]\n",
      "[   at System.Runtime.CompilerServices.RuntimeHelpers.DispatchTailCalls(IntPtr, Void (IntPtr, Byte ByRef, System.Runtime.CompilerServices.PortableTailCallFrame*), Byte ByRef)]\n",
      "[   at Spiral.PartEval.Main.term@711-64(TopEnv, System.Collections.Generic.Dictionary`2<E,System.Tuple`2<System.Collections.Generic.Dictionary`2<ConsedNode`1<System.Tuple`2<RData[],Ty[]>>,System.Tuple`3<Microsoft.FSharp.Core.FSharpOption`1<TypedBind[]>,Microsoft.FSharp.Core.FSharpOption`1<Ty>,Microsoft.FSharp.Core.FSharpOption`1<System.String>>>,HashConsTable>>, System.Collections.Generic.Dictionary`2<E,System.Tuple`2<System.Collections.Generic.Dictionary`2<ConsedNode`1<System.Tuple`4<RData[],Ty[],Ty,Ty>>,Microsoft.FSharp.Core.FSharpOption`1<System.Tuple`2<Data,TypedBind[]>>>,HashConsTable>>, System.Collections.Generic.Dictionary`2<T,System.Tuple`2<System.Collections.Generic.Dictionary`2<ConsedNode`1<Ty[]>,Microsoft.FSharp.Core.FSharpOption`1<Ty>>,HashConsTable>>, Microsoft.FSharp.Core.FSharpOption`1<Microsoft.FSharp.Core.FSharpFunc`2<Microsoft.FSharp.Core.Unit,Microsoft.FSharp.Core.Unit>>, LangEnv, E)]\n",
      "[   at Spiral.PartEval.Main.term@711-64(TopEnv, System.Collections.Generic.Dictionary`2<E,System.Tuple`2<System.Collections.Generic.Dictionary`2<ConsedNode`1<System.Tuple`2<RData[],Ty[]>>,System.Tuple`3<Microsoft.FSharp.Core.FSharpOption`1<TypedBind[]>,Microsoft.FSharp.Core.FSharpOption`1<Ty>,Microsoft.FSharp.Core.FSharpOption`1<System.String>>>,HashConsTable>>, System.Collections.Generic.Dictionary`2<E,System.Tuple`2<System.Collections.Generic.Dictionary`2<ConsedNode`1<System.Tuple`4<RData[],Ty[],Ty,Ty>>,Microsoft.FSharp.Core.FSharpOption`1<System.Tuple`2<Data,TypedBind[]>>>,HashConsTable>>, System.Collections.Generic.Dictionary`2<T,System.Tuple`2<System.Collections.Generic.Dictionary`2<ConsedNode`1<Ty[]>,Microsoft.FSharp.Core.FSharpOption`1<Ty>>,HashConsTable>>, Microsoft.FSharp.Core.FSharpOption`1<Microsoft.FSharp.Core.FSharpFunc`2<Microsoft.FSharp.Core.Unit,Microsoft.FSharp.Core.Unit>>, LangEnv, E)]\n",
      "[   at System.Runtime.CompilerServices.RuntimeHelpers.DispatchTailCalls(IntPtr, Void (IntPtr, Byte ByRef, System.Runtime.CompilerServices.PortableTailCallFrame*), Byte ByRef)]\n",
      "[   at Spiral.PartEval.Main.term@711-64(TopEnv, System.Collections.Generic.Dictionary`2<E,System.Tuple`2<System.Collections.Generic.Dictionary`2<ConsedNode`1<System.Tuple`2<RData[],Ty[]>>,System.Tuple`3<Microsoft.FSharp.Core.FSharpOption`1<TypedBind[]>,Microsoft.FSharp.Core.FSharpOption`1<Ty>,Microsoft.FSharp.Core.FSharpOption`1<System.String>>>,HashConsTable>>, System.Collections.Generic.Dictionary`2<E,System.Tuple`2<System.Collections.Generic.Dictionary`2<ConsedNode`1<System.Tuple`4<RData[],Ty[],Ty,Ty>>,Microsoft.FSharp.Core.FSharpOption`1<System.Tuple`2<Data,TypedBind[]>>>,HashConsTable>>, System.Collections.Generic.Dictionary`2<T,System.Tuple`2<System.Collections.Generic.Dictionary`2<ConsedNode`1<Ty[]>,Microsoft.FSharp.Core.FSharpOption`1<Ty>>,HashConsTable>>, Microsoft.FSharp.Core.FSharpOption`1<Microsoft.FSharp.Core.FSharpFunc`2<Microsoft.FSharp.Core.Unit,Microsoft.FSharp.Core.Unit>>, LangEnv, E)]\n",
      "[   at Spiral.PartEval.Main.term@711-64(TopEnv, System.Collections.Generic.Dictionary`2<E,System.Tuple`2<System.Collections.Generic.Dictionary`2<ConsedNode`1<System.Tuple`2<RData[],Ty[]>>,System.Tuple`3<Microsoft.FSharp.Core.FSharpOption`1<TypedBind[]>,Microsoft.FSharp.Core.FSharpOption`1<Ty>,Microsoft.FSharp.Core.FSharpOption`1<System.String>>>,HashConsTable>>, System.Collections.Generic.Dictionary`2<E,System.Tuple`2<System.Collections.Generic.Dictionary`2<ConsedNode`1<System.Tuple`4<RData[],Ty[],Ty,Ty>>,Microsoft.FSharp.Core.FSharpOption`1<System.Tuple`2<Data,TypedBind[]>>>,HashConsTable>>, System.Collections.Generic.Dictionary`2<T,System.Tuple`2<System.Collections.Generic.Dictionary`2<ConsedNode`1<Ty[]>,Microsoft.FSharp.Core.FSharpOption`1<Ty>>,HashConsTable>>, Microsoft.FSharp.Core.FSharpOption`1<Microsoft.FSharp.Core.FSharpFunc`2<Microsoft.FSharp.Core.Unit,Microsoft.FSharp.Core.Unit>>, LangEnv, E)]\n",
      "[   at System.Runtime.CompilerServices.RuntimeHelpers.DispatchTailCalls(IntPtr, Void (IntPtr, Byte ByRef, System.Runtime.CompilerServices.PortableTailCallFrame*), Byte ByRef)]\n",
      "[   at Spiral.PartEval.Main.term@711-64(TopEnv, System.Collections.Generic.Dictionary`2<E,System.Tuple`2<System.Collections.Generic.Dictionary`2<ConsedNode`1<System.Tuple`2<RData[],Ty[]>>,System.Tuple`3<Microsoft.FSharp.Core.FSharpOption`1<TypedBind[]>,Microsoft.FSharp.Core.FSharpOption`1<Ty>,Microsoft.FSharp.Core.FSharpOption`1<System.String>>>,HashConsTable>>, System.Collections.Generic.Dictionary`2<E,System.Tuple`2<System.Collections.Generic.Dictionary`2<ConsedNode`1<System.Tuple`4<RData[],Ty[],Ty,Ty>>,Microsoft.FSharp.Core.FSharpOption`1<System.Tuple`2<Data,TypedBind[]>>>,HashConsTable>>, System.Collections.Generic.Dictionary`2<T,System.Tuple`2<System.Collections.Generic.Dictionary`2<ConsedNode`1<Ty[]>,Microsoft.FSharp.Core.FSharpOption`1<Ty>>,HashConsTable>>, Microsoft.FSharp.Core.FSharpOption`1<Microsoft.FSharp.Core.FSharpFunc`2<Microsoft.FSharp.Core.Unit,Microsoft.FSharp.Core.Unit>>, LangEnv, E)]\n",
      "[   at Spiral.PartEval.Main.term@711-64(TopEnv, System.Collections.Generic.Dictionary`2<E,System.Tuple`2<System.Collections.Generic.Dictionary`2<ConsedNode`1<System.Tuple`2<RData[],Ty[]>>,System.Tuple`3<Microsoft.FSharp.Core.FSharpOption`1<TypedBind[]>,Microsoft.FSharp.Core.FSharpOption`1<Ty>,Microsoft.FSharp.Core.FSharpOption`1<System.String>>>,HashConsTable>>, System.Collections.Generic.Dictionary`2<E,System.Tuple`2<System.Collections.Generic.Dictionary`2<ConsedNode`1<System.Tuple`4<RData[],Ty[],Ty,Ty>>,Microsoft.FSharp.Core.FSharpOption`1<System.Tuple`2<Data,TypedBind[]>>>,HashConsTable>>, System.Collections.Generic.Dictionary`2<T,System.Tuple`2<System.Collections.Generic.Dictionary`2<ConsedNode`1<Ty[]>,Microsoft.FSharp.Core.FSharpOption`1<Ty>>,HashConsTable>>, Microsoft.FSharp.Core.FSharpOption`1<Microsoft.FSharp.Core.FSharpFunc`2<Microsoft.FSharp.Core.Unit,Microsoft.FSharp.Core.Unit>>, LangEnv, E)]\n",
      "[   at System.Runtime.CompilerServices.RuntimeHelpers.DispatchTailCalls(IntPtr, Void (IntPtr, Byte ByRef, System.Runtime.CompilerServices.PortableTailCallFrame*), Byte ByRef)]\n",
      "[   at Spiral.PartEval.Main.term@711-64(TopEnv, System.Collections.Generic.Dictionary`2<E,System.Tuple`2<System.Collections.Generic.Dictionary`2<ConsedNode`1<System.Tuple`2<RData[],Ty[]>>,System.Tuple`3<Microsoft.FSharp.Core.FSharpOption`1<TypedBind[]>,Microsoft.FSharp.Core.FSharpOption`1<Ty>,Microsoft.FSharp.Core.FSharpOption`1<System.String>>>,HashConsTable>>, System.Collections.Generic.Dictionary`2<E,System.Tuple`2<System.Collections.Generic.Dictionary`2<ConsedNode`1<System.Tuple`4<RData[],Ty[],Ty,Ty>>,Microsoft.FSharp.Core.FSharpOption`1<System.Tuple`2<Data,TypedBind[]>>>,HashConsTable>>, System.Collections.Generic.Dictionary`2<T,System.Tuple`2<System.Collections.Generic.Dictionary`2<ConsedNode`1<Ty[]>,Microsoft.FSharp.Core.FSharpOption`1<Ty>>,HashConsTable>>, Microsoft.FSharp.Core.FSharpOption`1<Microsoft.FSharp.Core.FSharpFunc`2<Microsoft.FSharp.Core.Unit,Microsoft.FSharp.Core.Unit>>, LangEnv, E)]\n",
      "[   at Spiral.PartEval.Main.term@711-64(TopEnv, System.Collections.Generic.Dictionary`2<E,System.Tuple`2<System.Collections.Generic.Dictionary`2<ConsedNode`1<System.Tuple`2<RData[],Ty[]>>,System.Tuple`3<Microsoft.FSharp.Core.FSharpOption`1<TypedBind[]>,Microsoft.FSharp.Core.FSharpOption`1<Ty>,Microsoft.FSharp.Core.FSharpOption`1<System.String>>>,HashConsTable>>, System.Collections.Generic.Dictionary`2<E,System.Tuple`2<System.Collections.Generic.Dictionary`2<ConsedNode`1<System.Tuple`4<RData[],Ty[],Ty,Ty>>,Microsoft.FSharp.Core.FSharpOption`1<System.Tuple`2<Data,TypedBind[]>>>,HashConsTable>>, System.Collections.Generic.Dictionary`2<T,System.Tuple`2<System.Collections.Generic.Dictionary`2<ConsedNode`1<Ty[]>,Microsoft.FSharp.Core.FSharpOption`1<Ty>>,HashConsTable>>, Microsoft.FSharp.Core.FSharpOption`1<Microsoft.FSharp.Core.FSharpFunc`2<Microsoft.FSharp.Core.Unit,Microsoft.FSharp.Core.Unit>>, LangEnv, E)]\n",
      "[   at System.Runtime.CompilerServices.RuntimeHelpers.DispatchTailCalls(IntPtr, Void (IntPtr, Byte ByRef, System.Runtime.CompilerServices.PortableTailCallFrame*), Byte ByRef)]\n",
      "[   at Spiral.PartEval.Main.term@711-64(TopEnv, System.Collections.Generic.Dictionary`2<E,System.Tuple`2<System.Collections.Generic.Dictionary`2<ConsedNode`1<System.Tuple`2<RData[],Ty[]>>,System.Tuple`3<Microsoft.FSharp.Core.FSharpOption`1<TypedBind[]>,Microsoft.FSharp.Core.FSharpOption`1<Ty>,Microsoft.FSharp.Core.FSharpOption`1<System.String>>>,HashConsTable>>, System.Collections.Generic.Dictionary`2<E,System.Tuple`2<System.Collections.Generic.Dictionary`2<ConsedNode`1<System.Tuple`4<RData[],Ty[],Ty,Ty>>,Microsoft.FSharp.Core.FSharpOption`1<System.Tuple`2<Data,TypedBind[]>>>,HashConsTable>>, System.Collections.Generic.Dictionary`2<T,System.Tuple`2<System.Collections.Generic.Dictionary`2<ConsedNode`1<Ty[]>,Microsoft.FSharp.Core.FSharpOption`1<Ty>>,HashConsTable>>, Microsoft.FSharp.Core.FSharpOption`1<Microsoft.FSharp.Core.FSharpFunc`2<Microsoft.FSharp.Core.Unit,Microsoft.FSharp.Core.Unit>>, LangEnv, E)]\n",
      "[   at Spiral.PartEval.Main.term@711-64(TopEnv, System.Collections.Generic.Dictionary`2<E,System.Tuple`2<System.Collections.Generic.Dictionary`2<ConsedNode`1<System.Tuple`2<RData[],Ty[]>>,System.Tuple`3<Microsoft.FSharp.Core.FSharpOption`1<TypedBind[]>,Microsoft.FSharp.Core.FSharpOption`1<Ty>,Microsoft.FSharp.Core.FSharpOption`1<System.String>>>,HashConsTable>>, System.Collections.Generic.Dictionary`2<E,System.Tuple`2<System.Collections.Generic.Dictionary`2<ConsedNode`1<System.Tuple`4<RData[],Ty[],Ty,Ty>>,Microsoft.FSharp.Core.FSharpOption`1<System.Tuple`2<Data,TypedBind[]>>>,HashConsTable>>, System.Collections.Generic.Dictionary`2<T,System.Tuple`2<System.Collections.Generic.Dictionary`2<ConsedNode`1<Ty[]>,Microsoft.FSharp.Core.FSharpOption`1<Ty>>,HashConsTable>>, Microsoft.FSharp.Core.FSharpOption`1<Microsoft.FSharp.Core.FSharpFunc`2<Microsoft.FSharp.Core.Unit,Microsoft.FSharp.Core.Unit>>, LangEnv, E)]\n",
      "[   at System.Runtime.CompilerServices.RuntimeHelpers.DispatchTailCalls(IntPtr, Void (IntPtr, Byte ByRef, System.Runtime.CompilerServices.PortableTailCallFrame*), Byte ByRef)]\n",
      "[   at Spiral.PartEval.Main.term@711-64(TopEnv, System.Collections.Generic.Dictionary`2<E,System.Tuple`2<System.Collections.Generic.Dictionary`2<ConsedNode`1<System.Tuple`2<RData[],Ty[]>>,System.Tuple`3<Microsoft.FSharp.Core.FSharpOption`1<TypedBind[]>,Microsoft.FSharp.Core.FSharpOption`1<Ty>,Microsoft.FSharp.Core.FSharpOption`1<System.String>>>,HashConsTable>>, System.Collections.Generic.Dictionary`2<E,System.Tuple`2<System.Collections.Generic.Dictionary`2<ConsedNode`1<System.Tuple`4<RData[],Ty[],Ty,Ty>>,Microsoft.FSharp.Core.FSharpOption`1<System.Tuple`2<Data,TypedBind[]>>>,HashConsTable>>, System.Collections.Generic.Dictionary`2<T,System.Tuple`2<System.Collections.Generic.Dictionary`2<ConsedNode`1<Ty[]>,Microsoft.FSharp.Core.FSharpOption`1<Ty>>,HashConsTable>>, Microsoft.FSharp.Core.FSharpOption`1<Microsoft.FSharp.Core.FSharpFunc`2<Microsoft.FSharp.Core.Unit,Microsoft.FSharp.Core.Unit>>, LangEnv, E)]\n",
      "[   at Spiral.PartEval.Main.term@711-64(TopEnv, System.Collections.Generic.Dictionary`2<E,System.Tuple`2<System.Collections.Generic.Dictionary`2<ConsedNode`1<System.Tuple`2<RData[],Ty[]>>,System.Tuple`3<Microsoft.FSharp.Core.FSharpOption`1<TypedBind[]>,Microsoft.FSharp.Core.FSharpOption`1<Ty>,Microsoft.FSharp.Core.FSharpOption`1<System.String>>>,HashConsTable>>, System.Collections.Generic.Dictionary`2<E,System.Tuple`2<System.Collections.Generic.Dictionary`2<ConsedNode`1<System.Tuple`4<RData[],Ty[],Ty,Ty>>,Microsoft.FSharp.Core.FSharpOption`1<System.Tuple`2<Data,TypedBind[]>>>,HashConsTable>>, System.Collections.Generic.Dictionary`2<T,System.Tuple`2<System.Collections.Generic.Dictionary`2<ConsedNode`1<Ty[]>,Microsoft.FSharp.Core.FSharpOption`1<Ty>>,HashConsTable>>, Microsoft.FSharp.Core.FSharpOption`1<Microsoft.FSharp.Core.FSharpFunc`2<Microsoft.FSharp.Core.Unit,Microsoft.FSharp.Core.Unit>>, LangEnv, E)]\n",
      "[   at System.Runtime.CompilerServices.RuntimeHelpers.DispatchTailCalls(IntPtr, Void (IntPtr, Byte ByRef, System.Runtime.CompilerServices.PortableTailCallFrame*), Byte ByRef)]\n",
      "[   at Spiral.PartEval.Main.term@711-64(TopEnv, System.Collections.Generic.Dictionary`2<E,System.Tuple`2<System.Collections.Generic.Dictionary`2<ConsedNode`1<System.Tuple`2<RData[],Ty[]>>,System.Tuple`3<Microsoft.FSharp.Core.FSharpOption`1<TypedBind[]>,Microsoft.FSharp.Core.FSharpOption`1<Ty>,Microsoft.FSharp.Core.FSharpOption`1<System.String>>>,HashConsTable>>, System.Collections.Generic.Dictionary`2<E,System.Tuple`2<System.Collections.Generic.Dictionary`2<ConsedNode`1<System.Tuple`4<RData[],Ty[],Ty,Ty>>,Microsoft.FSharp.Core.FSharpOption`1<System.Tuple`2<Data,TypedBind[]>>>,HashConsTable>>, System.Collections.Generic.Dictionary`2<T,System.Tuple`2<System.Collections.Generic.Dictionary`2<ConsedNode`1<Ty[]>,Microsoft.FSharp.Core.FSharpOption`1<Ty>>,HashConsTable>>, Microsoft.FSharp.Core.FSharpOption`1<Microsoft.FSharp.Core.FSharpFunc`2<Microsoft.FSharp.Core.Unit,Microsoft.FSharp.Core.Unit>>, LangEnv, E)]\n",
      "[   at Spiral.PartEval.Main.term@711-64(TopEnv, System.Collections.Generic.Dictionary`2<E,System.Tuple`2<System.Collections.Generic.Dictionary`2<ConsedNode`1<System.Tuple`2<RData[],Ty[]>>,System.Tuple`3<Microsoft.FSharp.Core.FSharpOption`1<TypedBind[]>,Microsoft.FSharp.Core.FSharpOption`1<Ty>,Microsoft.FSharp.Core.FSharpOption`1<System.String>>>,HashConsTable>>, System.Collections.Generic.Dictionary`2<E,System.Tuple`2<System.Collections.Generic.Dictionary`2<ConsedNode`1<System.Tuple`4<RData[],Ty[],Ty,Ty>>,Microsoft.FSharp.Core.FSharpOption`1<System.Tuple`2<Data,TypedBind[]>>>,HashConsTable>>, System.Collections.Generic.Dictionary`2<T,System.Tuple`2<System.Collections.Generic.Dictionary`2<ConsedNode`1<Ty[]>,Microsoft.FSharp.Core.FSharpOption`1<Ty>>,HashConsTable>>, Microsoft.FSharp.Core.FSharpOption`1<Microsoft.FSharp.Core.FSharpFunc`2<Microsoft.FSharp.Core.Unit,Microsoft.FSharp.Core.Unit>>, LangEnv, E)]\n",
      "[   at System.Runtime.CompilerServices.RuntimeHelpers.DispatchTailCalls(IntPtr, Void (IntPtr, Byte ByRef, System.Runtime.CompilerServices.PortableTailCallFrame*), Byte ByRef)]\n",
      "[   at Spiral.PartEval.Main.term@711-64(TopEnv, System.Collections.Generic.Dictionary`2<E,System.Tuple`2<System.Collections.Generic.Dictionary`2<ConsedNode`1<System.Tuple`2<RData[],Ty[]>>,System.Tuple`3<Microsoft.FSharp.Core.FSharpOption`1<TypedBind[]>,Microsoft.FSharp.Core.FSharpOption`1<Ty>,Microsoft.FSharp.Core.FSharpOption`1<System.String>>>,HashConsTable>>, System.Collections.Generic.Dictionary`2<E,System.Tuple`2<System.Collections.Generic.Dictionary`2<ConsedNode`1<System.Tuple`4<RData[],Ty[],Ty,Ty>>,Microsoft.FSharp.Core.FSharpOption`1<System.Tuple`2<Data,TypedBind[]>>>,HashConsTable>>, System.Collections.Generic.Dictionary`2<T,System.Tuple`2<System.Collections.Generic.Dictionary`2<ConsedNode`1<Ty[]>,Microsoft.FSharp.Core.FSharpOption`1<Ty>>,HashConsTable>>, Microsoft.FSharp.Core.FSharpOption`1<Microsoft.FSharp.Core.FSharpFunc`2<Microsoft.FSharp.Core.Unit,Microsoft.FSharp.Core.Unit>>, LangEnv, E)]\n",
      "[   at Spiral.PartEval.Main.term@711-64(TopEnv, System.Collections.Generic.Dictionary`2<E,System.Tuple`2<System.Collections.Generic.Dictionary`2<ConsedNode`1<System.Tuple`2<RData[],Ty[]>>,System.Tuple`3<Microsoft.FSharp.Core.FSharpOption`1<TypedBind[]>,Microsoft.FSharp.Core.FSharpOption`1<Ty>,Microsoft.FSharp.Core.FSharpOption`1<System.String>>>,HashConsTable>>, System.Collections.Generic.Dictionary`2<E,System.Tuple`2<System.Collections.Generic.Dictionary`2<ConsedNode`1<System.Tuple`4<RData[],Ty[],Ty,Ty>>,Microsoft.FSharp.Core.FSharpOption`1<System.Tuple`2<Data,TypedBind[]>>>,HashConsTable>>, System.Collections.Generic.Dictionary`2<T,System.Tuple`2<System.Collections.Generic.Dictionary`2<ConsedNode`1<Ty[]>,Microsoft.FSharp.Core.FSharpOption`1<Ty>>,HashConsTable>>, Microsoft.FSharp.Core.FSharpOption`1<Microsoft.FSharp.Core.FSharpFunc`2<Microsoft.FSharp.Core.Unit,Microsoft.FSharp.Core.Unit>>, LangEnv, E)]\n",
      "[   at System.Runtime.CompilerServices.RuntimeHelpers.DispatchTailCalls(IntPtr, Void (IntPtr, Byte ByRef, System.Runtime.CompilerServices.PortableTailCallFrame*), Byte ByRef)]\n",
      "[   at Spiral.PartEval.Main.term@711-64(TopEnv, System.Collections.Generic.Dictionary`2<E,System.Tuple`2<System.Collections.Generic.Dictionary`2<ConsedNode`1<System.Tuple`2<RData[],Ty[]>>,System.Tuple`3<Microsoft.FSharp.Core.FSharpOption`1<TypedBind[]>,Microsoft.FSharp.Core.FSharpOption`1<Ty>,Microsoft.FSharp.Core.FSharpOption`1<System.String>>>,HashConsTable>>, System.Collections.Generic.Dictionary`2<E,System.Tuple`2<System.Collections.Generic.Dictionary`2<ConsedNode`1<System.Tuple`4<RData[],Ty[],Ty,Ty>>,Microsoft.FSharp.Core.FSharpOption`1<System.Tuple`2<Data,TypedBind[]>>>,HashConsTable>>, System.Collections.Generic.Dictionary`2<T,System.Tuple`2<System.Collections.Generic.Dictionary`2<ConsedNode`1<Ty[]>,Microsoft.FSharp.Core.FSharpOption`1<Ty>>,HashConsTable>>, Microsoft.FSharp.Core.FSharpOption`1<Microsoft.FSharp.Core.FSharpFunc`2<Microsoft.FSharp.Core.Unit,Microsoft.FSharp.Core.Unit>>, LangEnv, E)]\n",
      "[   at Spiral.PartEval.Main.term@711-64(TopEnv, System.Collections.Generic.Dictionary`2<E,System.Tuple`2<System.Collections.Generic.Dictionary`2<ConsedNode`1<System.Tuple`2<RData[],Ty[]>>,System.Tuple`3<Microsoft.FSharp.Core.FSharpOption`1<TypedBind[]>,Microsoft.FSharp.Core.FSharpOption`1<Ty>,Microsoft.FSharp.Core.FSharpOption`1<System.String>>>,HashConsTable>>, System.Collections.Generic.Dictionary`2<E,System.Tuple`2<System.Collections.Generic.Dictionary`2<ConsedNode`1<System.Tuple`4<RData[],Ty[],Ty,Ty>>,Microsoft.FSharp.Core.FSharpOption`1<System.Tuple`2<Data,TypedBind[]>>>,HashConsTable>>, System.Collections.Generic.Dictionary`2<T,System.Tuple`2<System.Collections.Generic.Dictionary`2<ConsedNode`1<Ty[]>,Microsoft.FSharp.Core.FSharpOption`1<Ty>>,HashConsTable>>, Microsoft.FSharp.Core.FSharpOption`1<Microsoft.FSharp.Core.FSharpFunc`2<Microsoft.FSharp.Core.Unit,Microsoft.FSharp.Core.Unit>>, LangEnv, E)]\n",
      "[   at System.Runtime.CompilerServices.RuntimeHelpers.DispatchTailCalls(IntPtr, Void (IntPtr, Byte ByRef, System.Runtime.CompilerServices.PortableTailCallFrame*), Byte ByRef)]\n",
      "[   at Spiral.PartEval.Main.term@711-64(TopEnv, System.Collections.Generic.Dictionary`2<E,System.Tuple`2<System.Collections.Generic.Dictionary`2<ConsedNode`1<System.Tuple`2<RData[],Ty[]>>,System.Tuple`3<Microsoft.FSharp.Core.FSharpOption`1<TypedBind[]>,Microsoft.FSharp.Core.FSharpOption`1<Ty>,Microsoft.FSharp.Core.FSharpOption`1<System.String>>>,HashConsTable>>, System.Collections.Generic.Dictionary`2<E,System.Tuple`2<System.Collections.Generic.Dictionary`2<ConsedNode`1<System.Tuple`4<RData[],Ty[],Ty,Ty>>,Microsoft.FSharp.Core.FSharpOption`1<System.Tuple`2<Data,TypedBind[]>>>,HashConsTable>>, System.Collections.Generic.Dictionary`2<T,System.Tuple`2<System.Collections.Generic.Dictionary`2<ConsedNode`1<Ty[]>,Microsoft.FSharp.Core.FSharpOption`1<Ty>>,HashConsTable>>, Microsoft.FSharp.Core.FSharpOption`1<Microsoft.FSharp.Core.FSharpFunc`2<Microsoft.FSharp.Core.Unit,Microsoft.FSharp.Core.Unit>>, LangEnv, E)]\n",
      "[   at Spiral.PartEval.Main.term@711-64(TopEnv, System.Collections.Generic.Dictionary`2<E,System.Tuple`2<System.Collections.Generic.Dictionary`2<ConsedNode`1<System.Tuple`2<RData[],Ty[]>>,System.Tuple`3<Microsoft.FSharp.Core.FSharpOption`1<TypedBind[]>,Microsoft.FSharp.Core.FSharpOption`1<Ty>,Microsoft.FSharp.Core.FSharpOption`1<System.String>>>,HashConsTable>>, System.Collections.Generic.Dictionary`2<E,System.Tuple`2<System.Collections.Generic.Dictionary`2<ConsedNode`1<System.Tuple`4<RData[],Ty[],Ty,Ty>>,Microsoft.FSharp.Core.FSharpOption`1<System.Tuple`2<Data,TypedBind[]>>>,HashConsTable>>, System.Collections.Generic.Dictionary`2<T,System.Tuple`2<System.Collections.Generic.Dictionary`2<ConsedNode`1<Ty[]>,Microsoft.FSharp.Core.FSharpOption`1<Ty>>,HashConsTable>>, Microsoft.FSharp.Core.FSharpOption`1<Microsoft.FSharp.Core.FSharpFunc`2<Microsoft.FSharp.Core.Unit,Microsoft.FSharp.Core.Unit>>, LangEnv, E)]\n",
      "[   at System.Runtime.CompilerServices.RuntimeHelpers.DispatchTailCalls(IntPtr, Void (IntPtr, Byte ByRef, System.Runtime.CompilerServices.PortableTailCallFrame*), Byte ByRef)]\n",
      "[   at Spiral.PartEval.Main.term@711-64(TopEnv, System.Collections.Generic.Dictionary`2<E,System.Tuple`2<System.Collections.Generic.Dictionary`2<ConsedNode`1<System.Tuple`2<RData[],Ty[]>>,System.Tuple`3<Microsoft.FSharp.Core.FSharpOption`1<TypedBind[]>,Microsoft.FSharp.Core.FSharpOption`1<Ty>,Microsoft.FSharp.Core.FSharpOption`1<System.String>>>,HashConsTable>>, System.Collections.Generic.Dictionary`2<E,System.Tuple`2<System.Collections.Generic.Dictionary`2<ConsedNode`1<System.Tuple`4<RData[],Ty[],Ty,Ty>>,Microsoft.FSharp.Core.FSharpOption`1<System.Tuple`2<Data,TypedBind[]>>>,HashConsTable>>, System.Collections.Generic.Dictionary`2<T,System.Tuple`2<System.Collections.Generic.Dictionary`2<ConsedNode`1<Ty[]>,Microsoft.FSharp.Core.FSharpOption`1<Ty>>,HashConsTable>>, Microsoft.FSharp.Core.FSharpOption`1<Microsoft.FSharp.Core.FSharpFunc`2<Microsoft.FSharp.Core.Unit,Microsoft.FSharp.Core.Unit>>, LangEnv, E)]\n",
      "[   at Spiral.PartEval.Main.term@711-64(TopEnv, System.Collections.Generic.Dictionary`2<E,System.Tuple`2<System.Collections.Generic.Dictionary`2<ConsedNode`1<System.Tuple`2<RData[],Ty[]>>,System.Tuple`3<Microsoft.FSharp.Core.FSharpOption`1<TypedBind[]>,Microsoft.FSharp.Core.FSharpOption`1<Ty>,Microsoft.FSharp.Core.FSharpOption`1<System.String>>>,HashConsTable>>, System.Collections.Generic.Dictionary`2<E,System.Tuple`2<System.Collections.Generic.Dictionary`2<ConsedNode`1<System.Tuple`4<RData[],Ty[],Ty,Ty>>,Microsoft.FSharp.Core.FSharpOption`1<System.Tuple`2<Data,TypedBind[]>>>,HashConsTable>>, System.Collections.Generic.Dictionary`2<T,System.Tuple`2<System.Collections.Generic.Dictionary`2<ConsedNode`1<Ty[]>,Microsoft.FSharp.Core.FSharpOption`1<Ty>>,HashConsTable>>, Microsoft.FSharp.Core.FSharpOption`1<Microsoft.FSharp.Core.FSharpFunc`2<Microsoft.FSharp.Core.Unit,Microsoft.FSharp.Core.Unit>>, LangEnv, E)]\n",
      "[   at System.Runtime.CompilerServices.RuntimeHelpers.DispatchTailCalls(IntPtr, Void (IntPtr, Byte ByRef, System.Runtime.CompilerServices.PortableTailCallFrame*), Byte ByRef)]\n",
      "[   at Spiral.PartEval.Main.term@711-64(TopEnv, System.Collections.Generic.Dictionary`2<E,System.Tuple`2<System.Collections.Generic.Dictionary`2<ConsedNode`1<System.Tuple`2<RData[],Ty[]>>,System.Tuple`3<Microsoft.FSharp.Core.FSharpOption`1<TypedBind[]>,Microsoft.FSharp.Core.FSharpOption`1<Ty>,Microsoft.FSharp.Core.FSharpOption`1<System.String>>>,HashConsTable>>, System.Collections.Generic.Dictionary`2<E,System.Tuple`2<System.Collections.Generic.Dictionary`2<ConsedNode`1<System.Tuple`4<RData[],Ty[],Ty,Ty>>,Microsoft.FSharp.Core.FSharpOption`1<System.Tuple`2<Data,TypedBind[]>>>,HashConsTable>>, System.Collections.Generic.Dictionary`2<T,System.Tuple`2<System.Collections.Generic.Dictionary`2<ConsedNode`1<Ty[]>,Microsoft.FSharp.Core.FSharpOption`1<Ty>>,HashConsTable>>, Microsoft.FSharp.Core.FSharpOption`1<Microsoft.FSharp.Core.FSharpFunc`2<Microsoft.FSharp.Core.Unit,Microsoft.FSharp.Core.Unit>>, LangEnv, E)]\n",
      "[   at Spiral.PartEval.Main.term@711-64(TopEnv, System.Collections.Generic.Dictionary`2<E,System.Tuple`2<System.Collections.Generic.Dictionary`2<ConsedNode`1<System.Tuple`2<RData[],Ty[]>>,System.Tuple`3<Microsoft.FSharp.Core.FSharpOption`1<TypedBind[]>,Microsoft.FSharp.Core.FSharpOption`1<Ty>,Microsoft.FSharp.Core.FSharpOption`1<System.String>>>,HashConsTable>>, System.Collections.Generic.Dictionary`2<E,System.Tuple`2<System.Collections.Generic.Dictionary`2<ConsedNode`1<System.Tuple`4<RData[],Ty[],Ty,Ty>>,Microsoft.FSharp.Core.FSharpOption`1<System.Tuple`2<Data,TypedBind[]>>>,HashConsTable>>, System.Collections.Generic.Dictionary`2<T,System.Tuple`2<System.Collections.Generic.Dictionary`2<ConsedNode`1<Ty[]>,Microsoft.FSharp.Core.FSharpOption`1<Ty>>,HashConsTable>>, Microsoft.FSharp.Core.FSharpOption`1<Microsoft.FSharp.Core.FSharpFunc`2<Microsoft.FSharp.Core.Unit,Microsoft.FSharp.Core.Unit>>, LangEnv, E)]\n",
      "[   at System.Runtime.CompilerServices.RuntimeHelpers.DispatchTailCalls(IntPtr, Void (IntPtr, Byte ByRef, System.Runtime.CompilerServices.PortableTailCallFrame*), Byte ByRef)]\n",
      "[   at Spiral.PartEval.Main.term@711-64(TopEnv, System.Collections.Generic.Dictionary`2<E,System.Tuple`2<System.Collections.Generic.Dictionary`2<ConsedNode`1<System.Tuple`2<RData[],Ty[]>>,System.Tuple`3<Microsoft.FSharp.Core.FSharpOption`1<TypedBind[]>,Microsoft.FSharp.Core.FSharpOption`1<Ty>,Microsoft.FSharp.Core.FSharpOption`1<System.String>>>,HashConsTable>>, System.Collections.Generic.Dictionary`2<E,System.Tuple`2<System.Collections.Generic.Dictionary`2<ConsedNode`1<System.Tuple`4<RData[],Ty[],Ty,Ty>>,Microsoft.FSharp.Core.FSharpOption`1<System.Tuple`2<Data,TypedBind[]>>>,HashConsTable>>, System.Collections.Generic.Dictionary`2<T,System.Tuple`2<System.Collections.Generic.Dictionary`2<ConsedNode`1<Ty[]>,Microsoft.FSharp.Core.FSharpOption`1<Ty>>,HashConsTable>>, Microsoft.FSharp.Core.FSharpOption`1<Microsoft.FSharp.Core.FSharpFunc`2<Microsoft.FSharp.Core.Unit,Microsoft.FSharp.Core.Unit>>, LangEnv, E)]\n",
      "[   at Spiral.PartEval.Main.term@711-64(TopEnv, System.Collections.Generic.Dictionary`2<E,System.Tuple`2<System.Collections.Generic.Dictionary`2<ConsedNode`1<System.Tuple`2<RData[],Ty[]>>,System.Tuple`3<Microsoft.FSharp.Core.FSharpOption`1<TypedBind[]>,Microsoft.FSharp.Core.FSharpOption`1<Ty>,Microsoft.FSharp.Core.FSharpOption`1<System.String>>>,HashConsTable>>, System.Collections.Generic.Dictionary`2<E,System.Tuple`2<System.Collections.Generic.Dictionary`2<ConsedNode`1<System.Tuple`4<RData[],Ty[],Ty,Ty>>,Microsoft.FSharp.Core.FSharpOption`1<System.Tuple`2<Data,TypedBind[]>>>,HashConsTable>>, System.Collections.Generic.Dictionary`2<T,System.Tuple`2<System.Collections.Generic.Dictionary`2<ConsedNode`1<Ty[]>,Microsoft.FSharp.Core.FSharpOption`1<Ty>>,HashConsTable>>, Microsoft.FSharp.Core.FSharpOption`1<Microsoft.FSharp.Core.FSharpFunc`2<Microsoft.FSharp.Core.Unit,Microsoft.FSharp.Core.Unit>>, LangEnv, E)]\n",
      "[   at System.Runtime.CompilerServices.RuntimeHelpers.DispatchTailCalls(IntPtr, Void (IntPtr, Byte ByRef, System.Runtime.CompilerServices.PortableTailCallFrame*), Byte ByRef)]\n",
      "[   at Spiral.PartEval.Main.term@711-64(TopEnv, System.Collections.Generic.Dictionary`2<E,System.Tuple`2<System.Collections.Generic.Dictionary`2<ConsedNode`1<System.Tuple`2<RData[],Ty[]>>,System.Tuple`3<Microsoft.FSharp.Core.FSharpOption`1<TypedBind[]>,Microsoft.FSharp.Core.FSharpOption`1<Ty>,Microsoft.FSharp.Core.FSharpOption`1<System.String>>>,HashConsTable>>, System.Collections.Generic.Dictionary`2<E,System.Tuple`2<System.Collections.Generic.Dictionary`2<ConsedNode`1<System.Tuple`4<RData[],Ty[],Ty,Ty>>,Microsoft.FSharp.Core.FSharpOption`1<System.Tuple`2<Data,TypedBind[]>>>,HashConsTable>>, System.Collections.Generic.Dictionary`2<T,System.Tuple`2<System.Collections.Generic.Dictionary`2<ConsedNode`1<Ty[]>,Microsoft.FSharp.Core.FSharpOption`1<Ty>>,HashConsTable>>, Microsoft.FSharp.Core.FSharpOption`1<Microsoft.FSharp.Core.FSharpFunc`2<Microsoft.FSharp.Core.Unit,Microsoft.FSharp.Core.Unit>>, LangEnv, E)]\n",
      "[   at Spiral.PartEval.Main.term@711-64(TopEnv, System.Collections.Generic.Dictionary`2<E,System.Tuple`2<System.Collections.Generic.Dictionary`2<ConsedNode`1<System.Tuple`2<RData[],Ty[]>>,System.Tuple`3<Microsoft.FSharp.Core.FSharpOption`1<TypedBind[]>,Microsoft.FSharp.Core.FSharpOption`1<Ty>,Microsoft.FSharp.Core.FSharpOption`1<System.String>>>,HashConsTable>>, System.Collections.Generic.Dictionary`2<E,System.Tuple`2<System.Collections.Generic.Dictionary`2<ConsedNode`1<System.Tuple`4<RData[],Ty[],Ty,Ty>>,Microsoft.FSharp.Core.FSharpOption`1<System.Tuple`2<Data,TypedBind[]>>>,HashConsTable>>, System.Collections.Generic.Dictionary`2<T,System.Tuple`2<System.Collections.Generic.Dictionary`2<ConsedNode`1<Ty[]>,Microsoft.FSharp.Core.FSharpOption`1<Ty>>,HashConsTable>>, Microsoft.FSharp.Core.FSharpOption`1<Microsoft.FSharp.Core.FSharpFunc`2<Microsoft.FSharp.Core.Unit,Microsoft.FSharp.Core.Unit>>, LangEnv, E)]\n",
      "[   at System.Runtime.CompilerServices.RuntimeHelpers.DispatchTailCalls(IntPtr, Void (IntPtr, Byte ByRef, System.Runtime.CompilerServices.PortableTailCallFrame*), Byte ByRef)]\n",
      "[   at Spiral.PartEval.Main.term@711-64(TopEnv, System.Collections.Generic.Dictionary`2<E,System.Tuple`2<System.Collections.Generic.Dictionary`2<ConsedNode`1<System.Tuple`2<RData[],Ty[]>>,System.Tuple`3<Microsoft.FSharp.Core.FSharpOption`1<TypedBind[]>,Microsoft.FSharp.Core.FSharpOption`1<Ty>,Microsoft.FSharp.Core.FSharpOption`1<System.String>>>,HashConsTable>>, System.Collections.Generic.Dictionary`2<E,System.Tuple`2<System.Collections.Generic.Dictionary`2<ConsedNode`1<System.Tuple`4<RData[],Ty[],Ty,Ty>>,Microsoft.FSharp.Core.FSharpOption`1<System.Tuple`2<Data,TypedBind[]>>>,HashConsTable>>, System.Collections.Generic.Dictionary`2<T,System.Tuple`2<System.Collections.Generic.Dictionary`2<ConsedNode`1<Ty[]>,Microsoft.FSharp.Core.FSharpOption`1<Ty>>,HashConsTable>>, Microsoft.FSharp.Core.FSharpOption`1<Microsoft.FSharp.Core.FSharpFunc`2<Microsoft.FSharp.Core.Unit,Microsoft.FSharp.Core.Unit>>, LangEnv, E)]\n",
      "[   at Spiral.PartEval.Main.term@711-64(TopEnv, System.Collections.Generic.Dictionary`2<E,System.Tuple`2<System.Collections.Generic.Dictionary`2<ConsedNode`1<System.Tuple`2<RData[],Ty[]>>,System.Tuple`3<Microsoft.FSharp.Core.FSharpOption`1<TypedBind[]>,Microsoft.FSharp.Core.FSharpOption`1<Ty>,Microsoft.FSharp.Core.FSharpOption`1<System.String>>>,HashConsTable>>, System.Collections.Generic.Dictionary`2<E,System.Tuple`2<System.Collections.Generic.Dictionary`2<ConsedNode`1<System.Tuple`4<RData[],Ty[],Ty,Ty>>,Microsoft.FSharp.Core.FSharpOption`1<System.Tuple`2<Data,TypedBind[]>>>,HashConsTable>>, System.Collections.Generic.Dictionary`2<T,System.Tuple`2<System.Collections.Generic.Dictionary`2<ConsedNode`1<Ty[]>,Microsoft.FSharp.Core.FSharpOption`1<Ty>>,HashConsTable>>, Microsoft.FSharp.Core.FSharpOption`1<Microsoft.FSharp.Core.FSharpFunc`2<Microsoft.FSharp.Core.Unit,Microsoft.FSharp.Core.Unit>>, LangEnv, E)]\n",
      "[   at System.Runtime.CompilerServices.RuntimeHelpers.DispatchTailCalls(IntPtr, Void (IntPtr, Byte ByRef, System.Runtime.CompilerServices.PortableTailCallFrame*), Byte ByRef)]\n",
      "[   at Spiral.PartEval.Main.term@711-64(TopEnv, System.Collections.Generic.Dictionary`2<E,System.Tuple`2<System.Collections.Generic.Dictionary`2<ConsedNode`1<System.Tuple`2<RData[],Ty[]>>,System.Tuple`3<Microsoft.FSharp.Core.FSharpOption`1<TypedBind[]>,Microsoft.FSharp.Core.FSharpOption`1<Ty>,Microsoft.FSharp.Core.FSharpOption`1<System.String>>>,HashConsTable>>, System.Collections.Generic.Dictionary`2<E,System.Tuple`2<System.Collections.Generic.Dictionary`2<ConsedNode`1<System.Tuple`4<RData[],Ty[],Ty,Ty>>,Microsoft.FSharp.Core.FSharpOption`1<System.Tuple`2<Data,TypedBind[]>>>,HashConsTable>>, System.Collections.Generic.Dictionary`2<T,System.Tuple`2<System.Collections.Generic.Dictionary`2<ConsedNode`1<Ty[]>,Microsoft.FSharp.Core.FSharpOption`1<Ty>>,HashConsTable>>, Microsoft.FSharp.Core.FSharpOption`1<Microsoft.FSharp.Core.FSharpFunc`2<Microsoft.FSharp.Core.Unit,Microsoft.FSharp.Core.Unit>>, LangEnv, E)]\n",
      "[   at Spiral.PartEval.Main.term@711-64(TopEnv, System.Collections.Generic.Dictionary`2<E,System.Tuple`2<System.Collections.Generic.Dictionary`2<ConsedNode`1<System.Tuple`2<RData[],Ty[]>>,System.Tuple`3<Microsoft.FSharp.Core.FSharpOption`1<TypedBind[]>,Microsoft.FSharp.Core.FSharpOption`1<Ty>,Microsoft.FSharp.Core.FSharpOption`1<System.String>>>,HashConsTable>>, System.Collections.Generic.Dictionary`2<E,System.Tuple`2<System.Collections.Generic.Dictionary`2<ConsedNode`1<System.Tuple`4<RData[],Ty[],Ty,Ty>>,Microsoft.FSharp.Core.FSharpOption`1<System.Tuple`2<Data,TypedBind[]>>>,HashConsTable>>, System.Collections.Generic.Dictionary`2<T,System.Tuple`2<System.Collections.Generic.Dictionary`2<ConsedNode`1<Ty[]>,Microsoft.FSharp.Core.FSharpOption`1<Ty>>,HashConsTable>>, Microsoft.FSharp.Core.FSharpOption`1<Microsoft.FSharp.Core.FSharpFunc`2<Microsoft.FSharp.Core.Unit,Microsoft.FSharp.Core.Unit>>, LangEnv, E)]\n",
      "[   at System.Runtime.CompilerServices.RuntimeHelpers.DispatchTailCalls(IntPtr, Void (IntPtr, Byte ByRef, System.Runtime.CompilerServices.PortableTailCallFrame*), Byte ByRef)]\n",
      "[   at Spiral.PartEval.Main.term@711-64(TopEnv, System.Collections.Generic.Dictionary`2<E,System.Tuple`2<System.Collections.Generic.Dictionary`2<ConsedNode`1<System.Tuple`2<RData[],Ty[]>>,System.Tuple`3<Microsoft.FSharp.Core.FSharpOption`1<TypedBind[]>,Microsoft.FSharp.Core.FSharpOption`1<Ty>,Microsoft.FSharp.Core.FSharpOption`1<System.String>>>,HashConsTable>>, System.Collections.Generic.Dictionary`2<E,System.Tuple`2<System.Collections.Generic.Dictionary`2<ConsedNode`1<System.Tuple`4<RData[],Ty[],Ty,Ty>>,Microsoft.FSharp.Core.FSharpOption`1<System.Tuple`2<Data,TypedBind[]>>>,HashConsTable>>, System.Collections.Generic.Dictionary`2<T,System.Tuple`2<System.Collections.Generic.Dictionary`2<ConsedNode`1<Ty[]>,Microsoft.FSharp.Core.FSharpOption`1<Ty>>,HashConsTable>>, Microsoft.FSharp.Core.FSharpOption`1<Microsoft.FSharp.Core.FSharpFunc`2<Microsoft.FSharp.Core.Unit,Microsoft.FSharp.Core.Unit>>, LangEnv, E)]\n",
      "[   at Spiral.PartEval.Main.term@711-64(TopEnv, System.Collections.Generic.Dictionary`2<E,System.Tuple`2<System.Collections.Generic.Dictionary`2<ConsedNode`1<System.Tuple`2<RData[],Ty[]>>,System.Tuple`3<Microsoft.FSharp.Core.FSharpOption`1<TypedBind[]>,Microsoft.FSharp.Core.FSharpOption`1<Ty>,Microsoft.FSharp.Core.FSharpOption`1<System.String>>>,HashConsTable>>, System.Collections.Generic.Dictionary`2<E,System.Tuple`2<System.Collections.Generic.Dictionary`2<ConsedNode`1<System.Tuple`4<RData[],Ty[],Ty,Ty>>,Microsoft.FSharp.Core.FSharpOption`1<System.Tuple`2<Data,TypedBind[]>>>,HashConsTable>>, System.Collections.Generic.Dictionary`2<T,System.Tuple`2<System.Collections.Generic.Dictionary`2<ConsedNode`1<Ty[]>,Microsoft.FSharp.Core.FSharpOption`1<Ty>>,HashConsTable>>, Microsoft.FSharp.Core.FSharpOption`1<Microsoft.FSharp.Core.FSharpFunc`2<Microsoft.FSharp.Core.Unit,Microsoft.FSharp.Core.Unit>>, LangEnv, E)]\n",
      "[   at System.Runtime.CompilerServices.RuntimeHelpers.DispatchTailCalls(IntPtr, Void (IntPtr, Byte ByRef, System.Runtime.CompilerServices.PortableTailCallFrame*), Byte ByRef)]\n",
      "[   at Spiral.PartEval.Main.term@711-64(TopEnv, System.Collections.Generic.Dictionary`2<E,System.Tuple`2<System.Collections.Generic.Dictionary`2<ConsedNode`1<System.Tuple`2<RData[],Ty[]>>,System.Tuple`3<Microsoft.FSharp.Core.FSharpOption`1<TypedBind[]>,Microsoft.FSharp.Core.FSharpOption`1<Ty>,Microsoft.FSharp.Core.FSharpOption`1<System.String>>>,HashConsTable>>, System.Collections.Generic.Dictionary`2<E,System.Tuple`2<System.Collections.Generic.Dictionary`2<ConsedNode`1<System.Tuple`4<RData[],Ty[],Ty,Ty>>,Microsoft.FSharp.Core.FSharpOption`1<System.Tuple`2<Data,TypedBind[]>>>,HashConsTable>>, System.Collections.Generic.Dictionary`2<T,System.Tuple`2<System.Collections.Generic.Dictionary`2<ConsedNode`1<Ty[]>,Microsoft.FSharp.Core.FSharpOption`1<Ty>>,HashConsTable>>, Microsoft.FSharp.Core.FSharpOption`1<Microsoft.FSharp.Core.FSharpFunc`2<Microsoft.FSharp.Core.Unit,Microsoft.FSharp.Core.Unit>>, LangEnv, E)]\n",
      "[   at Spiral.PartEval.Main.term@711-64(TopEnv, System.Collections.Generic.Dictionary`2<E,System.Tuple`2<System.Collections.Generic.Dictionary`2<ConsedNode`1<System.Tuple`2<RData[],Ty[]>>,System.Tuple`3<Microsoft.FSharp.Core.FSharpOption`1<TypedBind[]>,Microsoft.FSharp.Core.FSharpOption`1<Ty>,Microsoft.FSharp.Core.FSharpOption`1<System.String>>>,HashConsTable>>, System.Collections.Generic.Dictionary`2<E,System.Tuple`2<System.Collections.Generic.Dictionary`2<ConsedNode`1<System.Tuple`4<RData[],Ty[],Ty,Ty>>,Microsoft.FSharp.Core.FSharpOption`1<System.Tuple`2<Data,TypedBind[]>>>,HashConsTable>>, System.Collections.Generic.Dictionary`2<T,System.Tuple`2<System.Collections.Generic.Dictionary`2<ConsedNode`1<Ty[]>,Microsoft.FSharp.Core.FSharpOption`1<Ty>>,HashConsTable>>, Microsoft.FSharp.Core.FSharpOption`1<Microsoft.FSharp.Core.FSharpFunc`2<Microsoft.FSharp.Core.Unit,Microsoft.FSharp.Core.Unit>>, LangEnv, E)]\n",
      "[   at System.Runtime.CompilerServices.RuntimeHelpers.DispatchTailCalls(IntPtr, Void (IntPtr, Byte ByRef, System.Runtime.CompilerServices.PortableTailCallFrame*), Byte ByRef)]\n",
      "[   at Spiral.PartEval.Main.term@711-64(TopEnv, System.Collections.Generic.Dictionary`2<E,System.Tuple`2<System.Collections.Generic.Dictionary`2<ConsedNode`1<System.Tuple`2<RData[],Ty[]>>,System.Tuple`3<Microsoft.FSharp.Core.FSharpOption`1<TypedBind[]>,Microsoft.FSharp.Core.FSharpOption`1<Ty>,Microsoft.FSharp.Core.FSharpOption`1<System.String>>>,HashConsTable>>, System.Collections.Generic.Dictionary`2<E,System.Tuple`2<System.Collections.Generic.Dictionary`2<ConsedNode`1<System.Tuple`4<RData[],Ty[],Ty,Ty>>,Microsoft.FSharp.Core.FSharpOption`1<System.Tuple`2<Data,TypedBind[]>>>,HashConsTable>>, System.Collections.Generic.Dictionary`2<T,System.Tuple`2<System.Collections.Generic.Dictionary`2<ConsedNode`1<Ty[]>,Microsoft.FSharp.Core.FSharpOption`1<Ty>>,HashConsTable>>, Microsoft.FSharp.Core.FSharpOption`1<Microsoft.FSharp.Core.FSharpFunc`2<Microsoft.FSharp.Core.Unit,Microsoft.FSharp.Core.Unit>>, LangEnv, E)]\n",
      "[   at Spiral.PartEval.Main.term@711-64(TopEnv, System.Collections.Generic.Dictionary`2<E,System.Tuple`2<System.Collections.Generic.Dictionary`2<ConsedNode`1<System.Tuple`2<RData[],Ty[]>>,System.Tuple`3<Microsoft.FSharp.Core.FSharpOption`1<TypedBind[]>,Microsoft.FSharp.Core.FSharpOption`1<Ty>,Microsoft.FSharp.Core.FSharpOption`1<System.String>>>,HashConsTable>>, System.Collections.Generic.Dictionary`2<E,System.Tuple`2<System.Collections.Generic.Dictionary`2<ConsedNode`1<System.Tuple`4<RData[],Ty[],Ty,Ty>>,Microsoft.FSharp.Core.FSharpOption`1<System.Tuple`2<Data,TypedBind[]>>>,HashConsTable>>, System.Collections.Generic.Dictionary`2<T,System.Tuple`2<System.Collections.Generic.Dictionary`2<ConsedNode`1<Ty[]>,Microsoft.FSharp.Core.FSharpOption`1<Ty>>,HashConsTable>>, Microsoft.FSharp.Core.FSharpOption`1<Microsoft.FSharp.Core.FSharpFunc`2<Microsoft.FSharp.Core.Unit,Microsoft.FSharp.Core.Unit>>, LangEnv, E)]\n",
      "[   at System.Runtime.CompilerServices.RuntimeHelpers.DispatchTailCalls(IntPtr, Void (IntPtr, Byte ByRef, System.Runtime.CompilerServices.PortableTailCallFrame*), Byte ByRef)]\n",
      "[   at Spiral.PartEval.Main.term@711-64(TopEnv, System.Collections.Generic.Dictionary`2<E,System.Tuple`2<System.Collections.Generic.Dictionary`2<ConsedNode`1<System.Tuple`2<RData[],Ty[]>>,System.Tuple`3<Microsoft.FSharp.Core.FSharpOption`1<TypedBind[]>,Microsoft.FSharp.Core.FSharpOption`1<Ty>,Microsoft.FSharp.Core.FSharpOption`1<System.String>>>,HashConsTable>>, System.Collections.Generic.Dictionary`2<E,System.Tuple`2<System.Collections.Generic.Dictionary`2<ConsedNode`1<System.Tuple`4<RData[],Ty[],Ty,Ty>>,Microsoft.FSharp.Core.FSharpOption`1<System.Tuple`2<Data,TypedBind[]>>>,HashConsTable>>, System.Collections.Generic.Dictionary`2<T,System.Tuple`2<System.Collections.Generic.Dictionary`2<ConsedNode`1<Ty[]>,Microsoft.FSharp.Core.FSharpOption`1<Ty>>,HashConsTable>>, Microsoft.FSharp.Core.FSharpOption`1<Microsoft.FSharp.Core.FSharpFunc`2<Microsoft.FSharp.Core.Unit,Microsoft.FSharp.Core.Unit>>, LangEnv, E)]\n",
      "[   at Spiral.PartEval.Main.term@711-64(TopEnv, System.Collections.Generic.Dictionary`2<E,System.Tuple`2<System.Collections.Generic.Dictionary`2<ConsedNode`1<System.Tuple`2<RData[],Ty[]>>,System.Tuple`3<Microsoft.FSharp.Core.FSharpOption`1<TypedBind[]>,Microsoft.FSharp.Core.FSharpOption`1<Ty>,Microsoft.FSharp.Core.FSharpOption`1<System.String>>>,HashConsTable>>, System.Collections.Generic.Dictionary`2<E,System.Tuple`2<System.Collections.Generic.Dictionary`2<ConsedNode`1<System.Tuple`4<RData[],Ty[],Ty,Ty>>,Microsoft.FSharp.Core.FSharpOption`1<System.Tuple`2<Data,TypedBind[]>>>,HashConsTable>>, System.Collections.Generic.Dictionary`2<T,System.Tuple`2<System.Collections.Generic.Dictionary`2<ConsedNode`1<Ty[]>,Microsoft.FSharp.Core.FSharpOption`1<Ty>>,HashConsTable>>, Microsoft.FSharp.Core.FSharpOption`1<Microsoft.FSharp.Core.FSharpFunc`2<Microsoft.FSharp.Core.Unit,Microsoft.FSharp.Core.Unit>>, LangEnv, E)]\n",
      "[   at System.Runtime.CompilerServices.RuntimeHelpers.DispatchTailCalls(IntPtr, Void (IntPtr, Byte ByRef, System.Runtime.CompilerServices.PortableTailCallFrame*), Byte ByRef)]\n",
      "[   at Spiral.PartEval.Main.term@711-64(TopEnv, System.Collections.Generic.Dictionary`2<E,System.Tuple`2<System.Collections.Generic.Dictionary`2<ConsedNode`1<System.Tuple`2<RData[],Ty[]>>,System.Tuple`3<Microsoft.FSharp.Core.FSharpOption`1<TypedBind[]>,Microsoft.FSharp.Core.FSharpOption`1<Ty>,Microsoft.FSharp.Core.FSharpOption`1<System.String>>>,HashConsTable>>, System.Collections.Generic.Dictionary`2<E,System.Tuple`2<System.Collections.Generic.Dictionary`2<ConsedNode`1<System.Tuple`4<RData[],Ty[],Ty,Ty>>,Microsoft.FSharp.Core.FSharpOption`1<System.Tuple`2<Data,TypedBind[]>>>,HashConsTable>>, System.Collections.Generic.Dictionary`2<T,System.Tuple`2<System.Collections.Generic.Dictionary`2<ConsedNode`1<Ty[]>,Microsoft.FSharp.Core.FSharpOption`1<Ty>>,HashConsTable>>, Microsoft.FSharp.Core.FSharpOption`1<Microsoft.FSharp.Core.FSharpFunc`2<Microsoft.FSharp.Core.Unit,Microsoft.FSharp.Core.Unit>>, LangEnv, E)]\n",
      "[   at Spiral.PartEval.Main.term@711-64(TopEnv, System.Collections.Generic.Dictionary`2<E,System.Tuple`2<System.Collections.Generic.Dictionary`2<ConsedNode`1<System.Tuple`2<RData[],Ty[]>>,System.Tuple`3<Microsoft.FSharp.Core.FSharpOption`1<TypedBind[]>,Microsoft.FSharp.Core.FSharpOption`1<Ty>,Microsoft.FSharp.Core.FSharpOption`1<System.String>>>,HashConsTable>>, System.Collections.Generic.Dictionary`2<E,System.Tuple`2<System.Collections.Generic.Dictionary`2<ConsedNode`1<System.Tuple`4<RData[],Ty[],Ty,Ty>>,Microsoft.FSharp.Core.FSharpOption`1<System.Tuple`2<Data,TypedBind[]>>>,HashConsTable>>, System.Collections.Generic.Dictionary`2<T,System.Tuple`2<System.Collections.Generic.Dictionary`2<ConsedNode`1<Ty[]>,Microsoft.FSharp.Core.FSharpOption`1<Ty>>,HashConsTable>>, Microsoft.FSharp.Core.FSharpOption`1<Microsoft.FSharp.Core.FSharpFunc`2<Microsoft.FSharp.Core.Unit,Microsoft.FSharp.Core.Unit>>, LangEnv, E)]\n",
      "[   at System.Runtime.CompilerServices.RuntimeHelpers.DispatchTailCalls(IntPtr, Void (IntPtr, Byte ByRef, System.Runtime.CompilerServices.PortableTailCallFrame*), Byte ByRef)]\n",
      "[   at Spiral.PartEval.Main.term@711-64(TopEnv, System.Collections.Generic.Dictionary`2<E,System.Tuple`2<System.Collections.Generic.Dictionary`2<ConsedNode`1<System.Tuple`2<RData[],Ty[]>>,System.Tuple`3<Microsoft.FSharp.Core.FSharpOption`1<TypedBind[]>,Microsoft.FSharp.Core.FSharpOption`1<Ty>,Microsoft.FSharp.Core.FSharpOption`1<System.String>>>,HashConsTable>>, System.Collections.Generic.Dictionary`2<E,System.Tuple`2<System.Collections.Generic.Dictionary`2<ConsedNode`1<System.Tuple`4<RData[],Ty[],Ty,Ty>>,Microsoft.FSharp.Core.FSharpOption`1<System.Tuple`2<Data,TypedBind[]>>>,HashConsTable>>, System.Collections.Generic.Dictionary`2<T,System.Tuple`2<System.Collections.Generic.Dictionary`2<ConsedNode`1<Ty[]>,Microsoft.FSharp.Core.FSharpOption`1<Ty>>,HashConsTable>>, Microsoft.FSharp.Core.FSharpOption`1<Microsoft.FSharp.Core.FSharpFunc`2<Microsoft.FSharp.Core.Unit,Microsoft.FSharp.Core.Unit>>, LangEnv, E)]\n",
      "[   at Spiral.PartEval.Main.term@711-64(TopEnv, System.Collections.Generic.Dictionary`2<E,System.Tuple`2<System.Collections.Generic.Dictionary`2<ConsedNode`1<System.Tuple`2<RData[],Ty[]>>,System.Tuple`3<Microsoft.FSharp.Core.FSharpOption`1<TypedBind[]>,Microsoft.FSharp.Core.FSharpOption`1<Ty>,Microsoft.FSharp.Core.FSharpOption`1<System.String>>>,HashConsTable>>, System.Collections.Generic.Dictionary`2<E,System.Tuple`2<System.Collections.Generic.Dictionary`2<ConsedNode`1<System.Tuple`4<RData[],Ty[],Ty,Ty>>,Microsoft.FSharp.Core.FSharpOption`1<System.Tuple`2<Data,TypedBind[]>>>,HashConsTable>>, System.Collections.Generic.Dictionary`2<T,System.Tuple`2<System.Collections.Generic.Dictionary`2<ConsedNode`1<Ty[]>,Microsoft.FSharp.Core.FSharpOption`1<Ty>>,HashConsTable>>, Microsoft.FSharp.Core.FSharpOption`1<Microsoft.FSharp.Core.FSharpFunc`2<Microsoft.FSharp.Core.Unit,Microsoft.FSharp.Core.Unit>>, LangEnv, E)]\n",
      "[   at System.Runtime.CompilerServices.RuntimeHelpers.DispatchTailCalls(IntPtr, Void (IntPtr, Byte ByRef, System.Runtime.CompilerServices.PortableTailCallFrame*), Byte ByRef)]\n",
      "[   at Spiral.PartEval.Main.term@711-64(TopEnv, System.Collections.Generic.Dictionary`2<E,System.Tuple`2<System.Collections.Generic.Dictionary`2<ConsedNode`1<System.Tuple`2<RData[],Ty[]>>,System.Tuple`3<Microsoft.FSharp.Core.FSharpOption`1<TypedBind[]>,Microsoft.FSharp.Core.FSharpOption`1<Ty>,Microsoft.FSharp.Core.FSharpOption`1<System.String>>>,HashConsTable>>, System.Collections.Generic.Dictionary`2<E,System.Tuple`2<System.Collections.Generic.Dictionary`2<ConsedNode`1<System.Tuple`4<RData[],Ty[],Ty,Ty>>,Microsoft.FSharp.Core.FSharpOption`1<System.Tuple`2<Data,TypedBind[]>>>,HashConsTable>>, System.Collections.Generic.Dictionary`2<T,System.Tuple`2<System.Collections.Generic.Dictionary`2<ConsedNode`1<Ty[]>,Microsoft.FSharp.Core.FSharpOption`1<Ty>>,HashConsTable>>, Microsoft.FSharp.Core.FSharpOption`1<Microsoft.FSharp.Core.FSharpFunc`2<Microsoft.FSharp.Core.Unit,Microsoft.FSharp.Core.Unit>>, LangEnv, E)]\n",
      "[   at Spiral.PartEval.Main.term@711-64(TopEnv, System.Collections.Generic.Dictionary`2<E,System.Tuple`2<System.Collections.Generic.Dictionary`2<ConsedNode`1<System.Tuple`2<RData[],Ty[]>>,System.Tuple`3<Microsoft.FSharp.Core.FSharpOption`1<TypedBind[]>,Microsoft.FSharp.Core.FSharpOption`1<Ty>,Microsoft.FSharp.Core.FSharpOption`1<System.String>>>,HashConsTable>>, System.Collections.Generic.Dictionary`2<E,System.Tuple`2<System.Collections.Generic.Dictionary`2<ConsedNode`1<System.Tuple`4<RData[],Ty[],Ty,Ty>>,Microsoft.FSharp.Core.FSharpOption`1<System.Tuple`2<Data,TypedBind[]>>>,HashConsTable>>, System.Collections.Generic.Dictionary`2<T,System.Tuple`2<System.Collections.Generic.Dictionary`2<ConsedNode`1<Ty[]>,Microsoft.FSharp.Core.FSharpOption`1<Ty>>,HashConsTable>>, Microsoft.FSharp.Core.FSharpOption`1<Microsoft.FSharp.Core.FSharpFunc`2<Microsoft.FSharp.Core.Unit,Microsoft.FSharp.Core.Unit>>, LangEnv, E)]\n",
      "[   at System.Runtime.CompilerServices.RuntimeHelpers.DispatchTailCalls(IntPtr, Void (IntPtr, Byte ByRef, System.Runtime.CompilerServices.PortableTailCallFrame*), Byte ByRef)]\n",
      "[   at Spiral.PartEval.Main.term@711-64(TopEnv, System.Collections.Generic.Dictionary`2<E,System.Tuple`2<System.Collections.Generic.Dictionary`2<ConsedNode`1<System.Tuple`2<RData[],Ty[]>>,System.Tuple`3<Microsoft.FSharp.Core.FSharpOption`1<TypedBind[]>,Microsoft.FSharp.Core.FSharpOption`1<Ty>,Microsoft.FSharp.Core.FSharpOption`1<System.String>>>,HashConsTable>>, System.Collections.Generic.Dictionary`2<E,System.Tuple`2<System.Collections.Generic.Dictionary`2<ConsedNode`1<System.Tuple`4<RData[],Ty[],Ty,Ty>>,Microsoft.FSharp.Core.FSharpOption`1<System.Tuple`2<Data,TypedBind[]>>>,HashConsTable>>, System.Collections.Generic.Dictionary`2<T,System.Tuple`2<System.Collections.Generic.Dictionary`2<ConsedNode`1<Ty[]>,Microsoft.FSharp.Core.FSharpOption`1<Ty>>,HashConsTable>>, Microsoft.FSharp.Core.FSharpOption`1<Microsoft.FSharp.Core.FSharpFunc`2<Microsoft.FSharp.Core.Unit,Microsoft.FSharp.Core.Unit>>, LangEnv, E)]\n",
      "[   at Spiral.PartEval.Main.term@711-64(TopEnv, System.Collections.Generic.Dictionary`2<E,System.Tuple`2<System.Collections.Generic.Dictionary`2<ConsedNode`1<System.Tuple`2<RData[],Ty[]>>,System.Tuple`3<Microsoft.FSharp.Core.FSharpOption`1<TypedBind[]>,Microsoft.FSharp.Core.FSharpOption`1<Ty>,Microsoft.FSharp.Core.FSharpOption`1<System.String>>>,HashConsTable>>, System.Collections.Generic.Dictionary`2<E,System.Tuple`2<System.Collections.Generic.Dictionary`2<ConsedNode`1<System.Tuple`4<RData[],Ty[],Ty,Ty>>,Microsoft.FSharp.Core.FSharpOption`1<System.Tuple`2<Data,TypedBind[]>>>,HashConsTable>>, System.Collections.Generic.Dictionary`2<T,System.Tuple`2<System.Collections.Generic.Dictionary`2<ConsedNode`1<Ty[]>,Microsoft.FSharp.Core.FSharpOption`1<Ty>>,HashConsTable>>, Microsoft.FSharp.Core.FSharpOption`1<Microsoft.FSharp.Core.FSharpFunc`2<Microsoft.FSharp.Core.Unit,Microsoft.FSharp.Core.Unit>>, LangEnv, E)]\n",
      "[   at System.Runtime.CompilerServices.RuntimeHelpers.DispatchTailCalls(IntPtr, Void (IntPtr, Byte ByRef, System.Runtime.CompilerServices.PortableTailCallFrame*), Byte ByRef)]\n",
      "[   at Spiral.PartEval.Main.term@711-64(TopEnv, System.Collections.Generic.Dictionary`2<E,System.Tuple`2<System.Collections.Generic.Dictionary`2<ConsedNode`1<System.Tuple`2<RData[],Ty[]>>,System.Tuple`3<Microsoft.FSharp.Core.FSharpOption`1<TypedBind[]>,Microsoft.FSharp.Core.FSharpOption`1<Ty>,Microsoft.FSharp.Core.FSharpOption`1<System.String>>>,HashConsTable>>, System.Collections.Generic.Dictionary`2<E,System.Tuple`2<System.Collections.Generic.Dictionary`2<ConsedNode`1<System.Tuple`4<RData[],Ty[],Ty,Ty>>,Microsoft.FSharp.Core.FSharpOption`1<System.Tuple`2<Data,TypedBind[]>>>,HashConsTable>>, System.Collections.Generic.Dictionary`2<T,System.Tuple`2<System.Collections.Generic.Dictionary`2<ConsedNode`1<Ty[]>,Microsoft.FSharp.Core.FSharpOption`1<Ty>>,HashConsTable>>, Microsoft.FSharp.Core.FSharpOption`1<Microsoft.FSharp.Core.FSharpFunc`2<Microsoft.FSharp.Core.Unit,Microsoft.FSharp.Core.Unit>>, LangEnv, E)]\n",
      "[   at Spiral.PartEval.Main.term@711-64(TopEnv, System.Collections.Generic.Dictionary`2<E,System.Tuple`2<System.Collections.Generic.Dictionary`2<ConsedNode`1<System.Tuple`2<RData[],Ty[]>>,System.Tuple`3<Microsoft.FSharp.Core.FSharpOption`1<TypedBind[]>,Microsoft.FSharp.Core.FSharpOption`1<Ty>,Microsoft.FSharp.Core.FSharpOption`1<System.String>>>,HashConsTable>>, System.Collections.Generic.Dictionary`2<E,System.Tuple`2<System.Collections.Generic.Dictionary`2<ConsedNode`1<System.Tuple`4<RData[],Ty[],Ty,Ty>>,Microsoft.FSharp.Core.FSharpOption`1<System.Tuple`2<Data,TypedBind[]>>>,HashConsTable>>, System.Collections.Generic.Dictionary`2<T,System.Tuple`2<System.Collections.Generic.Dictionary`2<ConsedNode`1<Ty[]>,Microsoft.FSharp.Core.FSharpOption`1<Ty>>,HashConsTable>>, Microsoft.FSharp.Core.FSharpOption`1<Microsoft.FSharp.Core.FSharpFunc`2<Microsoft.FSharp.Core.Unit,Microsoft.FSharp.Core.Unit>>, LangEnv, E)]\n",
      "[   at System.Runtime.CompilerServices.RuntimeHelpers.DispatchTailCalls(IntPtr, Void (IntPtr, Byte ByRef, System.Runtime.CompilerServices.PortableTailCallFrame*), Byte ByRef)]\n",
      "[   at Spiral.PartEval.Main.term@711-64(TopEnv, System.Collections.Generic.Dictionary`2<E,System.Tuple`2<System.Collections.Generic.Dictionary`2<ConsedNode`1<System.Tuple`2<RData[],Ty[]>>,System.Tuple`3<Microsoft.FSharp.Core.FSharpOption`1<TypedBind[]>,Microsoft.FSharp.Core.FSharpOption`1<Ty>,Microsoft.FSharp.Core.FSharpOption`1<System.String>>>,HashConsTable>>, System.Collections.Generic.Dictionary`2<E,System.Tuple`2<System.Collections.Generic.Dictionary`2<ConsedNode`1<System.Tuple`4<RData[],Ty[],Ty,Ty>>,Microsoft.FSharp.Core.FSharpOption`1<System.Tuple`2<Data,TypedBind[]>>>,HashConsTable>>, System.Collections.Generic.Dictionary`2<T,System.Tuple`2<System.Collections.Generic.Dictionary`2<ConsedNode`1<Ty[]>,Microsoft.FSharp.Core.FSharpOption`1<Ty>>,HashConsTable>>, Microsoft.FSharp.Core.FSharpOption`1<Microsoft.FSharp.Core.FSharpFunc`2<Microsoft.FSharp.Core.Unit,Microsoft.FSharp.Core.Unit>>, LangEnv, E)]\n",
      "[   at Spiral.PartEval.Main.term@711-64(TopEnv, System.Collections.Generic.Dictionary`2<E,System.Tuple`2<System.Collections.Generic.Dictionary`2<ConsedNode`1<System.Tuple`2<RData[],Ty[]>>,System.Tuple`3<Microsoft.FSharp.Core.FSharpOption`1<TypedBind[]>,Microsoft.FSharp.Core.FSharpOption`1<Ty>,Microsoft.FSharp.Core.FSharpOption`1<System.String>>>,HashConsTable>>, System.Collections.Generic.Dictionary`2<E,System.Tuple`2<System.Collections.Generic.Dictionary`2<ConsedNode`1<System.Tuple`4<RData[],Ty[],Ty,Ty>>,Microsoft.FSharp.Core.FSharpOption`1<System.Tuple`2<Data,TypedBind[]>>>,HashConsTable>>, System.Collections.Generic.Dictionary`2<T,System.Tuple`2<System.Collections.Generic.Dictionary`2<ConsedNode`1<Ty[]>,Microsoft.FSharp.Core.FSharpOption`1<Ty>>,HashConsTable>>, Microsoft.FSharp.Core.FSharpOption`1<Microsoft.FSharp.Core.FSharpFunc`2<Microsoft.FSharp.Core.Unit,Microsoft.FSharp.Core.Unit>>, LangEnv, E)]\n",
      "[   at System.Runtime.CompilerServices.RuntimeHelpers.DispatchTailCalls(IntPtr, Void (IntPtr, Byte ByRef, System.Runtime.CompilerServices.PortableTailCallFrame*), Byte ByRef)]\n",
      "[   at Spiral.PartEval.Main.term@711-64(TopEnv, System.Collections.Generic.Dictionary`2<E,System.Tuple`2<System.Collections.Generic.Dictionary`2<ConsedNode`1<System.Tuple`2<RData[],Ty[]>>,System.Tuple`3<Microsoft.FSharp.Core.FSharpOption`1<TypedBind[]>,Microsoft.FSharp.Core.FSharpOption`1<Ty>,Microsoft.FSharp.Core.FSharpOption`1<System.String>>>,HashConsTable>>, System.Collections.Generic.Dictionary`2<E,System.Tuple`2<System.Collections.Generic.Dictionary`2<ConsedNode`1<System.Tuple`4<RData[],Ty[],Ty,Ty>>,Microsoft.FSharp.Core.FSharpOption`1<System.Tuple`2<Data,TypedBind[]>>>,HashConsTable>>, System.Collections.Generic.Dictionary`2<T,System.Tuple`2<System.Collections.Generic.Dictionary`2<ConsedNode`1<Ty[]>,Microsoft.FSharp.Core.FSharpOption`1<Ty>>,HashConsTable>>, Microsoft.FSharp.Core.FSharpOption`1<Microsoft.FSharp.Core.FSharpFunc`2<Microsoft.FSharp.Core.Unit,Microsoft.FSharp.Core.Unit>>, LangEnv, E)]\n",
      "[   at Spiral.PartEval.Main.term@711-64(TopEnv, System.Collections.Generic.Dictionary`2<E,System.Tuple`2<System.Collections.Generic.Dictionary`2<ConsedNode`1<System.Tuple`2<RData[],Ty[]>>,System.Tuple`3<Microsoft.FSharp.Core.FSharpOption`1<TypedBind[]>,Microsoft.FSharp.Core.FSharpOption`1<Ty>,Microsoft.FSharp.Core.FSharpOption`1<System.String>>>,HashConsTable>>, System.Collections.Generic.Dictionary`2<E,System.Tuple`2<System.Collections.Generic.Dictionary`2<ConsedNode`1<System.Tuple`4<RData[],Ty[],Ty,Ty>>,Microsoft.FSharp.Core.FSharpOption`1<System.Tuple`2<Data,TypedBind[]>>>,HashConsTable>>, System.Collections.Generic.Dictionary`2<T,System.Tuple`2<System.Collections.Generic.Dictionary`2<ConsedNode`1<Ty[]>,Microsoft.FSharp.Core.FSharpOption`1<Ty>>,HashConsTable>>, Microsoft.FSharp.Core.FSharpOption`1<Microsoft.FSharp.Core.FSharpFunc`2<Microsoft.FSharp.Core.Unit,Microsoft.FSharp.Core.Unit>>, LangEnv, E)]\n",
      "[   at System.Runtime.CompilerServices.RuntimeHelpers.DispatchTailCalls(IntPtr, Void (IntPtr, Byte ByRef, System.Runtime.CompilerServices.PortableTailCallFrame*), Byte ByRef)]\n",
      "[   at Spiral.PartEval.Main.term@711-64(TopEnv, System.Collections.Generic.Dictionary`2<E,System.Tuple`2<System.Collections.Generic.Dictionary`2<ConsedNode`1<System.Tuple`2<RData[],Ty[]>>,System.Tuple`3<Microsoft.FSharp.Core.FSharpOption`1<TypedBind[]>,Microsoft.FSharp.Core.FSharpOption`1<Ty>,Microsoft.FSharp.Core.FSharpOption`1<System.String>>>,HashConsTable>>, System.Collections.Generic.Dictionary`2<E,System.Tuple`2<System.Collections.Generic.Dictionary`2<ConsedNode`1<System.Tuple`4<RData[],Ty[],Ty,Ty>>,Microsoft.FSharp.Core.FSharpOption`1<System.Tuple`2<Data,TypedBind[]>>>,HashConsTable>>, System.Collections.Generic.Dictionary`2<T,System.Tuple`2<System.Collections.Generic.Dictionary`2<ConsedNode`1<Ty[]>,Microsoft.FSharp.Core.FSharpOption`1<Ty>>,HashConsTable>>, Microsoft.FSharp.Core.FSharpOption`1<Microsoft.FSharp.Core.FSharpFunc`2<Microsoft.FSharp.Core.Unit,Microsoft.FSharp.Core.Unit>>, LangEnv, E)]\n",
      "[   at Spiral.PartEval.Main.term@711-64(TopEnv, System.Collections.Generic.Dictionary`2<E,System.Tuple`2<System.Collections.Generic.Dictionary`2<ConsedNode`1<System.Tuple`2<RData[],Ty[]>>,System.Tuple`3<Microsoft.FSharp.Core.FSharpOption`1<TypedBind[]>,Microsoft.FSharp.Core.FSharpOption`1<Ty>,Microsoft.FSharp.Core.FSharpOption`1<System.String>>>,HashConsTable>>, System.Collections.Generic.Dictionary`2<E,System.Tuple`2<System.Collections.Generic.Dictionary`2<ConsedNode`1<System.Tuple`4<RData[],Ty[],Ty,Ty>>,Microsoft.FSharp.Core.FSharpOption`1<System.Tuple`2<Data,TypedBind[]>>>,HashConsTable>>, System.Collections.Generic.Dictionary`2<T,System.Tuple`2<System.Collections.Generic.Dictionary`2<ConsedNode`1<Ty[]>,Microsoft.FSharp.Core.FSharpOption`1<Ty>>,HashConsTable>>, Microsoft.FSharp.Core.FSharpOption`1<Microsoft.FSharp.Core.FSharpFunc`2<Microsoft.FSharp.Core.Unit,Microsoft.FSharp.Core.Unit>>, LangEnv, E)]\n",
      "[   at System.Runtime.CompilerServices.RuntimeHelpers.DispatchTailCalls(IntPtr, Void (IntPtr, Byte ByRef, System.Runtime.CompilerServices.PortableTailCallFrame*), Byte ByRef)]\n",
      "[   at Spiral.PartEval.Main.term@711-64(TopEnv, System.Collections.Generic.Dictionary`2<E,System.Tuple`2<System.Collections.Generic.Dictionary`2<ConsedNode`1<System.Tuple`2<RData[],Ty[]>>,System.Tuple`3<Microsoft.FSharp.Core.FSharpOption`1<TypedBind[]>,Microsoft.FSharp.Core.FSharpOption`1<Ty>,Microsoft.FSharp.Core.FSharpOption`1<System.String>>>,HashConsTable>>, System.Collections.Generic.Dictionary`2<E,System.Tuple`2<System.Collections.Generic.Dictionary`2<ConsedNode`1<System.Tuple`4<RData[],Ty[],Ty,Ty>>,Microsoft.FSharp.Core.FSharpOption`1<System.Tuple`2<Data,TypedBind[]>>>,HashConsTable>>, System.Collections.Generic.Dictionary`2<T,System.Tuple`2<System.Collections.Generic.Dictionary`2<ConsedNode`1<Ty[]>,Microsoft.FSharp.Core.FSharpOption`1<Ty>>,HashConsTable>>, Microsoft.FSharp.Core.FSharpOption`1<Microsoft.FSharp.Core.FSharpFunc`2<Microsoft.FSharp.Core.Unit,Microsoft.FSharp.Core.Unit>>, LangEnv, E)]\n",
      "[   at Spiral.PartEval.Main.term@711-64(TopEnv, System.Collections.Generic.Dictionary`2<E,System.Tuple`2<System.Collections.Generic.Dictionary`2<ConsedNode`1<System.Tuple`2<RData[],Ty[]>>,System.Tuple`3<Microsoft.FSharp.Core.FSharpOption`1<TypedBind[]>,Microsoft.FSharp.Core.FSharpOption`1<Ty>,Microsoft.FSharp.Core.FSharpOption`1<System.String>>>,HashConsTable>>, System.Collections.Generic.Dictionary`2<E,System.Tuple`2<System.Collections.Generic.Dictionary`2<ConsedNode`1<System.Tuple`4<RData[],Ty[],Ty,Ty>>,Microsoft.FSharp.Core.FSharpOption`1<System.Tuple`2<Data,TypedBind[]>>>,HashConsTable>>, System.Collections.Generic.Dictionary`2<T,System.Tuple`2<System.Collections.Generic.Dictionary`2<ConsedNode`1<Ty[]>,Microsoft.FSharp.Core.FSharpOption`1<Ty>>,HashConsTable>>, Microsoft.FSharp.Core.FSharpOption`1<Microsoft.FSharp.Core.FSharpFunc`2<Microsoft.FSharp.Core.Unit,Microsoft.FSharp.Core.Unit>>, LangEnv, E)]\n",
      "[   at System.Runtime.CompilerServices.RuntimeHelpers.DispatchTailCalls(IntPtr, Void (IntPtr, Byte ByRef, System.Runtime.CompilerServices.PortableTailCallFrame*), Byte ByRef)]\n",
      "[   at Spiral.PartEval.Main.term@711-64(TopEnv, System.Collections.Generic.Dictionary`2<E,System.Tuple`2<System.Collections.Generic.Dictionary`2<ConsedNode`1<System.Tuple`2<RData[],Ty[]>>,System.Tuple`3<Microsoft.FSharp.Core.FSharpOption`1<TypedBind[]>,Microsoft.FSharp.Core.FSharpOption`1<Ty>,Microsoft.FSharp.Core.FSharpOption`1<System.String>>>,HashConsTable>>, System.Collections.Generic.Dictionary`2<E,System.Tuple`2<System.Collections.Generic.Dictionary`2<ConsedNode`1<System.Tuple`4<RData[],Ty[],Ty,Ty>>,Microsoft.FSharp.Core.FSharpOption`1<System.Tuple`2<Data,TypedBind[]>>>,HashConsTable>>, System.Collections.Generic.Dictionary`2<T,System.Tuple`2<System.Collections.Generic.Dictionary`2<ConsedNode`1<Ty[]>,Microsoft.FSharp.Core.FSharpOption`1<Ty>>,HashConsTable>>, Microsoft.FSharp.Core.FSharpOption`1<Microsoft.FSharp.Core.FSharpFunc`2<Microsoft.FSharp.Core.Unit,Microsoft.FSharp.Core.Unit>>, LangEnv, E)]\n",
      "[   at Spiral.PartEval.Main.term@711-64(TopEnv, System.Collections.Generic.Dictionary`2<E,System.Tuple`2<System.Collections.Generic.Dictionary`2<ConsedNode`1<System.Tuple`2<RData[],Ty[]>>,System.Tuple`3<Microsoft.FSharp.Core.FSharpOption`1<TypedBind[]>,Microsoft.FSharp.Core.FSharpOption`1<Ty>,Microsoft.FSharp.Core.FSharpOption`1<System.String>>>,HashConsTable>>, System.Collections.Generic.Dictionary`2<E,System.Tuple`2<System.Collections.Generic.Dictionary`2<ConsedNode`1<System.Tuple`4<RData[],Ty[],Ty,Ty>>,Microsoft.FSharp.Core.FSharpOption`1<System.Tuple`2<Data,TypedBind[]>>>,HashConsTable>>, System.Collections.Generic.Dictionary`2<T,System.Tuple`2<System.Collections.Generic.Dictionary`2<ConsedNode`1<Ty[]>,Microsoft.FSharp.Core.FSharpOption`1<Ty>>,HashConsTable>>, Microsoft.FSharp.Core.FSharpOption`1<Microsoft.FSharp.Core.FSharpFunc`2<Microsoft.FSharp.Core.Unit,Microsoft.FSharp.Core.Unit>>, LangEnv, E)]\n",
      "[   at System.Runtime.CompilerServices.RuntimeHelpers.DispatchTailCalls(IntPtr, Void (IntPtr, Byte ByRef, System.Runtime.CompilerServices.PortableTailCallFrame*), Byte ByRef)]\n",
      "[   at Spiral.PartEval.Main.term@711-64(TopEnv, System.Collections.Generic.Dictionary`2<E,System.Tuple`2<System.Collections.Generic.Dictionary`2<ConsedNode`1<System.Tuple`2<RData[],Ty[]>>,System.Tuple`3<Microsoft.FSharp.Core.FSharpOption`1<TypedBind[]>,Microsoft.FSharp.Core.FSharpOption`1<Ty>,Microsoft.FSharp.Core.FSharpOption`1<System.String>>>,HashConsTable>>, System.Collections.Generic.Dictionary`2<E,System.Tuple`2<System.Collections.Generic.Dictionary`2<ConsedNode`1<System.Tuple`4<RData[],Ty[],Ty,Ty>>,Microsoft.FSharp.Core.FSharpOption`1<System.Tuple`2<Data,TypedBind[]>>>,HashConsTable>>, System.Collections.Generic.Dictionary`2<T,System.Tuple`2<System.Collections.Generic.Dictionary`2<ConsedNode`1<Ty[]>,Microsoft.FSharp.Core.FSharpOption`1<Ty>>,HashConsTable>>, Microsoft.FSharp.Core.FSharpOption`1<Microsoft.FSharp.Core.FSharpFunc`2<Microsoft.FSharp.Core.Unit,Microsoft.FSharp.Core.Unit>>, LangEnv, E)]\n",
      "[   at Spiral.PartEval.Main.term@711-64(TopEnv, System.Collections.Generic.Dictionary`2<E,System.Tuple`2<System.Collections.Generic.Dictionary`2<ConsedNode`1<System.Tuple`2<RData[],Ty[]>>,System.Tuple`3<Microsoft.FSharp.Core.FSharpOption`1<TypedBind[]>,Microsoft.FSharp.Core.FSharpOption`1<Ty>,Microsoft.FSharp.Core.FSharpOption`1<System.String>>>,HashConsTable>>, System.Collections.Generic.Dictionary`2<E,System.Tuple`2<System.Collections.Generic.Dictionary`2<ConsedNode`1<System.Tuple`4<RData[],Ty[],Ty,Ty>>,Microsoft.FSharp.Core.FSharpOption`1<System.Tuple`2<Data,TypedBind[]>>>,HashConsTable>>, System.Collections.Generic.Dictionary`2<T,System.Tuple`2<System.Collections.Generic.Dictionary`2<ConsedNode`1<Ty[]>,Microsoft.FSharp.Core.FSharpOption`1<Ty>>,HashConsTable>>, Microsoft.FSharp.Core.FSharpOption`1<Microsoft.FSharp.Core.FSharpFunc`2<Microsoft.FSharp.Core.Unit,Microsoft.FSharp.Core.Unit>>, LangEnv, E)]\n",
      "[   at System.Runtime.CompilerServices.RuntimeHelpers.DispatchTailCalls(IntPtr, Void (IntPtr, Byte ByRef, System.Runtime.CompilerServices.PortableTailCallFrame*), Byte ByRef)]\n",
      "[   at Spiral.PartEval.Main.term@711-64(TopEnv, System.Collections.Generic.Dictionary`2<E,System.Tuple`2<System.Collections.Generic.Dictionary`2<ConsedNode`1<System.Tuple`2<RData[],Ty[]>>,System.Tuple`3<Microsoft.FSharp.Core.FSharpOption`1<TypedBind[]>,Microsoft.FSharp.Core.FSharpOption`1<Ty>,Microsoft.FSharp.Core.FSharpOption`1<System.String>>>,HashConsTable>>, System.Collections.Generic.Dictionary`2<E,System.Tuple`2<System.Collections.Generic.Dictionary`2<ConsedNode`1<System.Tuple`4<RData[],Ty[],Ty,Ty>>,Microsoft.FSharp.Core.FSharpOption`1<System.Tuple`2<Data,TypedBind[]>>>,HashConsTable>>, System.Collections.Generic.Dictionary`2<T,System.Tuple`2<System.Collections.Generic.Dictionary`2<ConsedNode`1<Ty[]>,Microsoft.FSharp.Core.FSharpOption`1<Ty>>,HashConsTable>>, Microsoft.FSharp.Core.FSharpOption`1<Microsoft.FSharp.Core.FSharpFunc`2<Microsoft.FSharp.Core.Unit,Microsoft.FSharp.Core.Unit>>, LangEnv, E)]\n",
      "[   at Spiral.PartEval.Main.term@711-64(TopEnv, System.Collections.Generic.Dictionary`2<E,System.Tuple`2<System.Collections.Generic.Dictionary`2<ConsedNode`1<System.Tuple`2<RData[],Ty[]>>,System.Tuple`3<Microsoft.FSharp.Core.FSharpOption`1<TypedBind[]>,Microsoft.FSharp.Core.FSharpOption`1<Ty>,Microsoft.FSharp.Core.FSharpOption`1<System.String>>>,HashConsTable>>, System.Collections.Generic.Dictionary`2<E,System.Tuple`2<System.Collections.Generic.Dictionary`2<ConsedNode`1<System.Tuple`4<RData[],Ty[],Ty,Ty>>,Microsoft.FSharp.Core.FSharpOption`1<System.Tuple`2<Data,TypedBind[]>>>,HashConsTable>>, System.Collections.Generic.Dictionary`2<T,System.Tuple`2<System.Collections.Generic.Dictionary`2<ConsedNode`1<Ty[]>,Microsoft.FSharp.Core.FSharpOption`1<Ty>>,HashConsTable>>, Microsoft.FSharp.Core.FSharpOption`1<Microsoft.FSharp.Core.FSharpFunc`2<Microsoft.FSharp.Core.Unit,Microsoft.FSharp.Core.Unit>>, LangEnv, E)]\n",
      "[   at System.Runtime.CompilerServices.RuntimeHelpers.DispatchTailCalls(IntPtr, Void (IntPtr, Byte ByRef, System.Runtime.CompilerServices.PortableTailCallFrame*), Byte ByRef)]\n",
      "[   at Spiral.PartEval.Main.term@711-64(TopEnv, System.Collections.Generic.Dictionary`2<E,System.Tuple`2<System.Collections.Generic.Dictionary`2<ConsedNode`1<System.Tuple`2<RData[],Ty[]>>,System.Tuple`3<Microsoft.FSharp.Core.FSharpOption`1<TypedBind[]>,Microsoft.FSharp.Core.FSharpOption`1<Ty>,Microsoft.FSharp.Core.FSharpOption`1<System.String>>>,HashConsTable>>, System.Collections.Generic.Dictionary`2<E,System.Tuple`2<System.Collections.Generic.Dictionary`2<ConsedNode`1<System.Tuple`4<RData[],Ty[],Ty,Ty>>,Microsoft.FSharp.Core.FSharpOption`1<System.Tuple`2<Data,TypedBind[]>>>,HashConsTable>>, System.Collections.Generic.Dictionary`2<T,System.Tuple`2<System.Collections.Generic.Dictionary`2<ConsedNode`1<Ty[]>,Microsoft.FSharp.Core.FSharpOption`1<Ty>>,HashConsTable>>, Microsoft.FSharp.Core.FSharpOption`1<Microsoft.FSharp.Core.FSharpFunc`2<Microsoft.FSharp.Core.Unit,Microsoft.FSharp.Core.Unit>>, LangEnv, E)]\n",
      "[   at Spiral.PartEval.Main.term@711-64(TopEnv, System.Collections.Generic.Dictionary`2<E,System.Tuple`2<System.Collections.Generic.Dictionary`2<ConsedNode`1<System.Tuple`2<RData[],Ty[]>>,System.Tuple`3<Microsoft.FSharp.Core.FSharpOption`1<TypedBind[]>,Microsoft.FSharp.Core.FSharpOption`1<Ty>,Microsoft.FSharp.Core.FSharpOption`1<System.String>>>,HashConsTable>>, System.Collections.Generic.Dictionary`2<E,System.Tuple`2<System.Collections.Generic.Dictionary`2<ConsedNode`1<System.Tuple`4<RData[],Ty[],Ty,Ty>>,Microsoft.FSharp.Core.FSharpOption`1<System.Tuple`2<Data,TypedBind[]>>>,HashConsTable>>, System.Collections.Generic.Dictionary`2<T,System.Tuple`2<System.Collections.Generic.Dictionary`2<ConsedNode`1<Ty[]>,Microsoft.FSharp.Core.FSharpOption`1<Ty>>,HashConsTable>>, Microsoft.FSharp.Core.FSharpOption`1<Microsoft.FSharp.Core.FSharpFunc`2<Microsoft.FSharp.Core.Unit,Microsoft.FSharp.Core.Unit>>, LangEnv, E)]\n",
      "[   at System.Runtime.CompilerServices.RuntimeHelpers.DispatchTailCalls(IntPtr, Void (IntPtr, Byte ByRef, System.Runtime.CompilerServices.PortableTailCallFrame*), Byte ByRef)]\n",
      "[   at Spiral.PartEval.Main.term@711-64(TopEnv, System.Collections.Generic.Dictionary`2<E,System.Tuple`2<System.Collections.Generic.Dictionary`2<ConsedNode`1<System.Tuple`2<RData[],Ty[]>>,System.Tuple`3<Microsoft.FSharp.Core.FSharpOption`1<TypedBind[]>,Microsoft.FSharp.Core.FSharpOption`1<Ty>,Microsoft.FSharp.Core.FSharpOption`1<System.String>>>,HashConsTable>>, System.Collections.Generic.Dictionary`2<E,System.Tuple`2<System.Collections.Generic.Dictionary`2<ConsedNode`1<System.Tuple`4<RData[],Ty[],Ty,Ty>>,Microsoft.FSharp.Core.FSharpOption`1<System.Tuple`2<Data,TypedBind[]>>>,HashConsTable>>, System.Collections.Generic.Dictionary`2<T,System.Tuple`2<System.Collections.Generic.Dictionary`2<ConsedNode`1<Ty[]>,Microsoft.FSharp.Core.FSharpOption`1<Ty>>,HashConsTable>>, Microsoft.FSharp.Core.FSharpOption`1<Microsoft.FSharp.Core.FSharpFunc`2<Microsoft.FSharp.Core.Unit,Microsoft.FSharp.Core.Unit>>, LangEnv, E)]\n",
      "[   at Spiral.PartEval.Main.term@711-64(TopEnv, System.Collections.Generic.Dictionary`2<E,System.Tuple`2<System.Collections.Generic.Dictionary`2<ConsedNode`1<System.Tuple`2<RData[],Ty[]>>,System.Tuple`3<Microsoft.FSharp.Core.FSharpOption`1<TypedBind[]>,Microsoft.FSharp.Core.FSharpOption`1<Ty>,Microsoft.FSharp.Core.FSharpOption`1<System.String>>>,HashConsTable>>, System.Collections.Generic.Dictionary`2<E,System.Tuple`2<System.Collections.Generic.Dictionary`2<ConsedNode`1<System.Tuple`4<RData[],Ty[],Ty,Ty>>,Microsoft.FSharp.Core.FSharpOption`1<System.Tuple`2<Data,TypedBind[]>>>,HashConsTable>>, System.Collections.Generic.Dictionary`2<T,System.Tuple`2<System.Collections.Generic.Dictionary`2<ConsedNode`1<Ty[]>,Microsoft.FSharp.Core.FSharpOption`1<Ty>>,HashConsTable>>, Microsoft.FSharp.Core.FSharpOption`1<Microsoft.FSharp.Core.FSharpFunc`2<Microsoft.FSharp.Core.Unit,Microsoft.FSharp.Core.Unit>>, LangEnv, E)]\n",
      "[   at System.Runtime.CompilerServices.RuntimeHelpers.DispatchTailCalls(IntPtr, Void (IntPtr, Byte ByRef, System.Runtime.CompilerServices.PortableTailCallFrame*), Byte ByRef)]\n",
      "[   at Spiral.PartEval.Main.term@711-64(TopEnv, System.Collections.Generic.Dictionary`2<E,System.Tuple`2<System.Collections.Generic.Dictionary`2<ConsedNode`1<System.Tuple`2<RData[],Ty[]>>,System.Tuple`3<Microsoft.FSharp.Core.FSharpOption`1<TypedBind[]>,Microsoft.FSharp.Core.FSharpOption`1<Ty>,Microsoft.FSharp.Core.FSharpOption`1<System.String>>>,HashConsTable>>, System.Collections.Generic.Dictionary`2<E,System.Tuple`2<System.Collections.Generic.Dictionary`2<ConsedNode`1<System.Tuple`4<RData[],Ty[],Ty,Ty>>,Microsoft.FSharp.Core.FSharpOption`1<System.Tuple`2<Data,TypedBind[]>>>,HashConsTable>>, System.Collections.Generic.Dictionary`2<T,System.Tuple`2<System.Collections.Generic.Dictionary`2<ConsedNode`1<Ty[]>,Microsoft.FSharp.Core.FSharpOption`1<Ty>>,HashConsTable>>, Microsoft.FSharp.Core.FSharpOption`1<Microsoft.FSharp.Core.FSharpFunc`2<Microsoft.FSharp.Core.Unit,Microsoft.FSharp.Core.Unit>>, LangEnv, E)]\n",
      "[   at Spiral.PartEval.Main.term@711-64(TopEnv, System.Collections.Generic.Dictionary`2<E,System.Tuple`2<System.Collections.Generic.Dictionary`2<ConsedNode`1<System.Tuple`2<RData[],Ty[]>>,System.Tuple`3<Microsoft.FSharp.Core.FSharpOption`1<TypedBind[]>,Microsoft.FSharp.Core.FSharpOption`1<Ty>,Microsoft.FSharp.Core.FSharpOption`1<System.String>>>,HashConsTable>>, System.Collections.Generic.Dictionary`2<E,System.Tuple`2<System.Collections.Generic.Dictionary`2<ConsedNode`1<System.Tuple`4<RData[],Ty[],Ty,Ty>>,Microsoft.FSharp.Core.FSharpOption`1<System.Tuple`2<Data,TypedBind[]>>>,HashConsTable>>, System.Collections.Generic.Dictionary`2<T,System.Tuple`2<System.Collections.Generic.Dictionary`2<ConsedNode`1<Ty[]>,Microsoft.FSharp.Core.FSharpOption`1<Ty>>,HashConsTable>>, Microsoft.FSharp.Core.FSharpOption`1<Microsoft.FSharp.Core.FSharpFunc`2<Microsoft.FSharp.Core.Unit,Microsoft.FSharp.Core.Unit>>, LangEnv, E)]\n",
      "[   at System.Runtime.CompilerServices.RuntimeHelpers.DispatchTailCalls(IntPtr, Void (IntPtr, Byte ByRef, System.Runtime.CompilerServices.PortableTailCallFrame*), Byte ByRef)]\n",
      "[   at Spiral.PartEval.Main.term@711-64(TopEnv, System.Collections.Generic.Dictionary`2<E,System.Tuple`2<System.Collections.Generic.Dictionary`2<ConsedNode`1<System.Tuple`2<RData[],Ty[]>>,System.Tuple`3<Microsoft.FSharp.Core.FSharpOption`1<TypedBind[]>,Microsoft.FSharp.Core.FSharpOption`1<Ty>,Microsoft.FSharp.Core.FSharpOption`1<System.String>>>,HashConsTable>>, System.Collections.Generic.Dictionary`2<E,System.Tuple`2<System.Collections.Generic.Dictionary`2<ConsedNode`1<System.Tuple`4<RData[],Ty[],Ty,Ty>>,Microsoft.FSharp.Core.FSharpOption`1<System.Tuple`2<Data,TypedBind[]>>>,HashConsTable>>, System.Collections.Generic.Dictionary`2<T,System.Tuple`2<System.Collections.Generic.Dictionary`2<ConsedNode`1<Ty[]>,Microsoft.FSharp.Core.FSharpOption`1<Ty>>,HashConsTable>>, Microsoft.FSharp.Core.FSharpOption`1<Microsoft.FSharp.Core.FSharpFunc`2<Microsoft.FSharp.Core.Unit,Microsoft.FSharp.Core.Unit>>, LangEnv, E)]\n",
      "[   at Spiral.PartEval.Main.term@711-64(TopEnv, System.Collections.Generic.Dictionary`2<E,System.Tuple`2<System.Collections.Generic.Dictionary`2<ConsedNode`1<System.Tuple`2<RData[],Ty[]>>,System.Tuple`3<Microsoft.FSharp.Core.FSharpOption`1<TypedBind[]>,Microsoft.FSharp.Core.FSharpOption`1<Ty>,Microsoft.FSharp.Core.FSharpOption`1<System.String>>>,HashConsTable>>, System.Collections.Generic.Dictionary`2<E,System.Tuple`2<System.Collections.Generic.Dictionary`2<ConsedNode`1<System.Tuple`4<RData[],Ty[],Ty,Ty>>,Microsoft.FSharp.Core.FSharpOption`1<System.Tuple`2<Data,TypedBind[]>>>,HashConsTable>>, System.Collections.Generic.Dictionary`2<T,System.Tuple`2<System.Collections.Generic.Dictionary`2<ConsedNode`1<Ty[]>,Microsoft.FSharp.Core.FSharpOption`1<Ty>>,HashConsTable>>, Microsoft.FSharp.Core.FSharpOption`1<Microsoft.FSharp.Core.FSharpFunc`2<Microsoft.FSharp.Core.Unit,Microsoft.FSharp.Core.Unit>>, LangEnv, E)]\n",
      "[   at System.Runtime.CompilerServices.RuntimeHelpers.DispatchTailCalls(IntPtr, Void (IntPtr, Byte ByRef, System.Runtime.CompilerServices.PortableTailCallFrame*), Byte ByRef)]\n",
      "[   at Spiral.PartEval.Main.term@711-64(TopEnv, System.Collections.Generic.Dictionary`2<E,System.Tuple`2<System.Collections.Generic.Dictionary`2<ConsedNode`1<System.Tuple`2<RData[],Ty[]>>,System.Tuple`3<Microsoft.FSharp.Core.FSharpOption`1<TypedBind[]>,Microsoft.FSharp.Core.FSharpOption`1<Ty>,Microsoft.FSharp.Core.FSharpOption`1<System.String>>>,HashConsTable>>, System.Collections.Generic.Dictionary`2<E,System.Tuple`2<System.Collections.Generic.Dictionary`2<ConsedNode`1<System.Tuple`4<RData[],Ty[],Ty,Ty>>,Microsoft.FSharp.Core.FSharpOption`1<System.Tuple`2<Data,TypedBind[]>>>,HashConsTable>>, System.Collections.Generic.Dictionary`2<T,System.Tuple`2<System.Collections.Generic.Dictionary`2<ConsedNode`1<Ty[]>,Microsoft.FSharp.Core.FSharpOption`1<Ty>>,HashConsTable>>, Microsoft.FSharp.Core.FSharpOption`1<Microsoft.FSharp.Core.FSharpFunc`2<Microsoft.FSharp.Core.Unit,Microsoft.FSharp.Core.Unit>>, LangEnv, E)]\n",
      "[   at Spiral.PartEval.Main.term@711-64(TopEnv, System.Collections.Generic.Dictionary`2<E,System.Tuple`2<System.Collections.Generic.Dictionary`2<ConsedNode`1<System.Tuple`2<RData[],Ty[]>>,System.Tuple`3<Microsoft.FSharp.Core.FSharpOption`1<TypedBind[]>,Microsoft.FSharp.Core.FSharpOption`1<Ty>,Microsoft.FSharp.Core.FSharpOption`1<System.String>>>,HashConsTable>>, System.Collections.Generic.Dictionary`2<E,System.Tuple`2<System.Collections.Generic.Dictionary`2<ConsedNode`1<System.Tuple`4<RData[],Ty[],Ty,Ty>>,Microsoft.FSharp.Core.FSharpOption`1<System.Tuple`2<Data,TypedBind[]>>>,HashConsTable>>, System.Collections.Generic.Dictionary`2<T,System.Tuple`2<System.Collections.Generic.Dictionary`2<ConsedNode`1<Ty[]>,Microsoft.FSharp.Core.FSharpOption`1<Ty>>,HashConsTable>>, Microsoft.FSharp.Core.FSharpOption`1<Microsoft.FSharp.Core.FSharpFunc`2<Microsoft.FSharp.Core.Unit,Microsoft.FSharp.Core.Unit>>, LangEnv, E)]\n",
      "[   at System.Runtime.CompilerServices.RuntimeHelpers.DispatchTailCalls(IntPtr, Void (IntPtr, Byte ByRef, System.Runtime.CompilerServices.PortableTailCallFrame*), Byte ByRef)]\n",
      "[   at Spiral.PartEval.Main.term@711-64(TopEnv, System.Collections.Generic.Dictionary`2<E,System.Tuple`2<System.Collections.Generic.Dictionary`2<ConsedNode`1<System.Tuple`2<RData[],Ty[]>>,System.Tuple`3<Microsoft.FSharp.Core.FSharpOption`1<TypedBind[]>,Microsoft.FSharp.Core.FSharpOption`1<Ty>,Microsoft.FSharp.Core.FSharpOption`1<System.String>>>,HashConsTable>>, System.Collections.Generic.Dictionary`2<E,System.Tuple`2<System.Collections.Generic.Dictionary`2<ConsedNode`1<System.Tuple`4<RData[],Ty[],Ty,Ty>>,Microsoft.FSharp.Core.FSharpOption`1<System.Tuple`2<Data,TypedBind[]>>>,HashConsTable>>, System.Collections.Generic.Dictionary`2<T,System.Tuple`2<System.Collections.Generic.Dictionary`2<ConsedNode`1<Ty[]>,Microsoft.FSharp.Core.FSharpOption`1<Ty>>,HashConsTable>>, Microsoft.FSharp.Core.FSharpOption`1<Microsoft.FSharp.Core.FSharpFunc`2<Microsoft.FSharp.Core.Unit,Microsoft.FSharp.Core.Unit>>, LangEnv, E)]\n",
      "[   at Spiral.PartEval.Main.term@711-64(TopEnv, System.Collections.Generic.Dictionary`2<E,System.Tuple`2<System.Collections.Generic.Dictionary`2<ConsedNode`1<System.Tuple`2<RData[],Ty[]>>,System.Tuple`3<Microsoft.FSharp.Core.FSharpOption`1<TypedBind[]>,Microsoft.FSharp.Core.FSharpOption`1<Ty>,Microsoft.FSharp.Core.FSharpOption`1<System.String>>>,HashConsTable>>, System.Collections.Generic.Dictionary`2<E,System.Tuple`2<System.Collections.Generic.Dictionary`2<ConsedNode`1<System.Tuple`4<RData[],Ty[],Ty,Ty>>,Microsoft.FSharp.Core.FSharpOption`1<System.Tuple`2<Data,TypedBind[]>>>,HashConsTable>>, System.Collections.Generic.Dictionary`2<T,System.Tuple`2<System.Collections.Generic.Dictionary`2<ConsedNode`1<Ty[]>,Microsoft.FSharp.Core.FSharpOption`1<Ty>>,HashConsTable>>, Microsoft.FSharp.Core.FSharpOption`1<Microsoft.FSharp.Core.FSharpFunc`2<Microsoft.FSharp.Core.Unit,Microsoft.FSharp.Core.Unit>>, LangEnv, E)]\n",
      "[   at System.Runtime.CompilerServices.RuntimeHelpers.DispatchTailCalls(IntPtr, Void (IntPtr, Byte ByRef, System.Runtime.CompilerServices.PortableTailCallFrame*), Byte ByRef)]\n",
      "[   at Spiral.PartEval.Main.term@711-64(TopEnv, System.Collections.Generic.Dictionary`2<E,System.Tuple`2<System.Collections.Generic.Dictionary`2<ConsedNode`1<System.Tuple`2<RData[],Ty[]>>,System.Tuple`3<Microsoft.FSharp.Core.FSharpOption`1<TypedBind[]>,Microsoft.FSharp.Core.FSharpOption`1<Ty>,Microsoft.FSharp.Core.FSharpOption`1<System.String>>>,HashConsTable>>, System.Collections.Generic.Dictionary`2<E,System.Tuple`2<System.Collections.Generic.Dictionary`2<ConsedNode`1<System.Tuple`4<RData[],Ty[],Ty,Ty>>,Microsoft.FSharp.Core.FSharpOption`1<System.Tuple`2<Data,TypedBind[]>>>,HashConsTable>>, System.Collections.Generic.Dictionary`2<T,System.Tuple`2<System.Collections.Generic.Dictionary`2<ConsedNode`1<Ty[]>,Microsoft.FSharp.Core.FSharpOption`1<Ty>>,HashConsTable>>, Microsoft.FSharp.Core.FSharpOption`1<Microsoft.FSharp.Core.FSharpFunc`2<Microsoft.FSharp.Core.Unit,Microsoft.FSharp.Core.Unit>>, LangEnv, E)]\n",
      "[   at Spiral.PartEval.Main.term@711-64(TopEnv, System.Collections.Generic.Dictionary`2<E,System.Tuple`2<System.Collections.Generic.Dictionary`2<ConsedNode`1<System.Tuple`2<RData[],Ty[]>>,System.Tuple`3<Microsoft.FSharp.Core.FSharpOption`1<TypedBind[]>,Microsoft.FSharp.Core.FSharpOption`1<Ty>,Microsoft.FSharp.Core.FSharpOption`1<System.String>>>,HashConsTable>>, System.Collections.Generic.Dictionary`2<E,System.Tuple`2<System.Collections.Generic.Dictionary`2<ConsedNode`1<System.Tuple`4<RData[],Ty[],Ty,Ty>>,Microsoft.FSharp.Core.FSharpOption`1<System.Tuple`2<Data,TypedBind[]>>>,HashConsTable>>, System.Collections.Generic.Dictionary`2<T,System.Tuple`2<System.Collections.Generic.Dictionary`2<ConsedNode`1<Ty[]>,Microsoft.FSharp.Core.FSharpOption`1<Ty>>,HashConsTable>>, Microsoft.FSharp.Core.FSharpOption`1<Microsoft.FSharp.Core.FSharpFunc`2<Microsoft.FSharp.Core.Unit,Microsoft.FSharp.Core.Unit>>, LangEnv, E)]\n",
      "[   at System.Runtime.CompilerServices.RuntimeHelpers.DispatchTailCalls(IntPtr, Void (IntPtr, Byte ByRef, System.Runtime.CompilerServices.PortableTailCallFrame*), Byte ByRef)]\n",
      "[   at Spiral.PartEval.Main.term@711-64(TopEnv, System.Collections.Generic.Dictionary`2<E,System.Tuple`2<System.Collections.Generic.Dictionary`2<ConsedNode`1<System.Tuple`2<RData[],Ty[]>>,System.Tuple`3<Microsoft.FSharp.Core.FSharpOption`1<TypedBind[]>,Microsoft.FSharp.Core.FSharpOption`1<Ty>,Microsoft.FSharp.Core.FSharpOption`1<System.String>>>,HashConsTable>>, System.Collections.Generic.Dictionary`2<E,System.Tuple`2<System.Collections.Generic.Dictionary`2<ConsedNode`1<System.Tuple`4<RData[],Ty[],Ty,Ty>>,Microsoft.FSharp.Core.FSharpOption`1<System.Tuple`2<Data,TypedBind[]>>>,HashConsTable>>, System.Collections.Generic.Dictionary`2<T,System.Tuple`2<System.Collections.Generic.Dictionary`2<ConsedNode`1<Ty[]>,Microsoft.FSharp.Core.FSharpOption`1<Ty>>,HashConsTable>>, Microsoft.FSharp.Core.FSharpOption`1<Microsoft.FSharp.Core.FSharpFunc`2<Microsoft.FSharp.Core.Unit,Microsoft.FSharp.Core.Unit>>, LangEnv, E)]\n",
      "[   at Spiral.PartEval.Main.term@711-64(TopEnv, System.Collections.Generic.Dictionary`2<E,System.Tuple`2<System.Collections.Generic.Dictionary`2<ConsedNode`1<System.Tuple`2<RData[],Ty[]>>,System.Tuple`3<Microsoft.FSharp.Core.FSharpOption`1<TypedBind[]>,Microsoft.FSharp.Core.FSharpOption`1<Ty>,Microsoft.FSharp.Core.FSharpOption`1<System.String>>>,HashConsTable>>, System.Collections.Generic.Dictionary`2<E,System.Tuple`2<System.Collections.Generic.Dictionary`2<ConsedNode`1<System.Tuple`4<RData[],Ty[],Ty,Ty>>,Microsoft.FSharp.Core.FSharpOption`1<System.Tuple`2<Data,TypedBind[]>>>,HashConsTable>>, System.Collections.Generic.Dictionary`2<T,System.Tuple`2<System.Collections.Generic.Dictionary`2<ConsedNode`1<Ty[]>,Microsoft.FSharp.Core.FSharpOption`1<Ty>>,HashConsTable>>, Microsoft.FSharp.Core.FSharpOption`1<Microsoft.FSharp.Core.FSharpFunc`2<Microsoft.FSharp.Core.Unit,Microsoft.FSharp.Core.Unit>>, LangEnv, E)]\n",
      "[   at System.Runtime.CompilerServices.RuntimeHelpers.DispatchTailCalls(IntPtr, Void (IntPtr, Byte ByRef, System.Runtime.CompilerServices.PortableTailCallFrame*), Byte ByRef)]\n",
      "[   at Spiral.PartEval.Main.term@711-64(TopEnv, System.Collections.Generic.Dictionary`2<E,System.Tuple`2<System.Collections.Generic.Dictionary`2<ConsedNode`1<System.Tuple`2<RData[],Ty[]>>,System.Tuple`3<Microsoft.FSharp.Core.FSharpOption`1<TypedBind[]>,Microsoft.FSharp.Core.FSharpOption`1<Ty>,Microsoft.FSharp.Core.FSharpOption`1<System.String>>>,HashConsTable>>, System.Collections.Generic.Dictionary`2<E,System.Tuple`2<System.Collections.Generic.Dictionary`2<ConsedNode`1<System.Tuple`4<RData[],Ty[],Ty,Ty>>,Microsoft.FSharp.Core.FSharpOption`1<System.Tuple`2<Data,TypedBind[]>>>,HashConsTable>>, System.Collections.Generic.Dictionary`2<T,System.Tuple`2<System.Collections.Generic.Dictionary`2<ConsedNode`1<Ty[]>,Microsoft.FSharp.Core.FSharpOption`1<Ty>>,HashConsTable>>, Microsoft.FSharp.Core.FSharpOption`1<Microsoft.FSharp.Core.FSharpFunc`2<Microsoft.FSharp.Core.Unit,Microsoft.FSharp.Core.Unit>>, LangEnv, E)]\n",
      "[   at Spiral.PartEval.Main.term@711-64(TopEnv, System.Collections.Generic.Dictionary`2<E,System.Tuple`2<System.Collections.Generic.Dictionary`2<ConsedNode`1<System.Tuple`2<RData[],Ty[]>>,System.Tuple`3<Microsoft.FSharp.Core.FSharpOption`1<TypedBind[]>,Microsoft.FSharp.Core.FSharpOption`1<Ty>,Microsoft.FSharp.Core.FSharpOption`1<System.String>>>,HashConsTable>>, System.Collections.Generic.Dictionary`2<E,System.Tuple`2<System.Collections.Generic.Dictionary`2<ConsedNode`1<System.Tuple`4<RData[],Ty[],Ty,Ty>>,Microsoft.FSharp.Core.FSharpOption`1<System.Tuple`2<Data,TypedBind[]>>>,HashConsTable>>, System.Collections.Generic.Dictionary`2<T,System.Tuple`2<System.Collections.Generic.Dictionary`2<ConsedNode`1<Ty[]>,Microsoft.FSharp.Core.FSharpOption`1<Ty>>,HashConsTable>>, Microsoft.FSharp.Core.FSharpOption`1<Microsoft.FSharp.Core.FSharpFunc`2<Microsoft.FSharp.Core.Unit,Microsoft.FSharp.Core.Unit>>, LangEnv, E)]\n",
      "[   at System.Runtime.CompilerServices.RuntimeHelpers.DispatchTailCalls(IntPtr, Void (IntPtr, Byte ByRef, System.Runtime.CompilerServices.PortableTailCallFrame*), Byte ByRef)]\n",
      "[   at Spiral.PartEval.Main.term@711-64(TopEnv, System.Collections.Generic.Dictionary`2<E,System.Tuple`2<System.Collections.Generic.Dictionary`2<ConsedNode`1<System.Tuple`2<RData[],Ty[]>>,System.Tuple`3<Microsoft.FSharp.Core.FSharpOption`1<TypedBind[]>,Microsoft.FSharp.Core.FSharpOption`1<Ty>,Microsoft.FSharp.Core.FSharpOption`1<System.String>>>,HashConsTable>>, System.Collections.Generic.Dictionary`2<E,System.Tuple`2<System.Collections.Generic.Dictionary`2<ConsedNode`1<System.Tuple`4<RData[],Ty[],Ty,Ty>>,Microsoft.FSharp.Core.FSharpOption`1<System.Tuple`2<Data,TypedBind[]>>>,HashConsTable>>, System.Collections.Generic.Dictionary`2<T,System.Tuple`2<System.Collections.Generic.Dictionary`2<ConsedNode`1<Ty[]>,Microsoft.FSharp.Core.FSharpOption`1<Ty>>,HashConsTable>>, Microsoft.FSharp.Core.FSharpOption`1<Microsoft.FSharp.Core.FSharpFunc`2<Microsoft.FSharp.Core.Unit,Microsoft.FSharp.Core.Unit>>, LangEnv, E)]\n",
      "[   at Spiral.PartEval.Main.term@711-64(TopEnv, System.Collections.Generic.Dictionary`2<E,System.Tuple`2<System.Collections.Generic.Dictionary`2<ConsedNode`1<System.Tuple`2<RData[],Ty[]>>,System.Tuple`3<Microsoft.FSharp.Core.FSharpOption`1<TypedBind[]>,Microsoft.FSharp.Core.FSharpOption`1<Ty>,Microsoft.FSharp.Core.FSharpOption`1<System.String>>>,HashConsTable>>, System.Collections.Generic.Dictionary`2<E,System.Tuple`2<System.Collections.Generic.Dictionary`2<ConsedNode`1<System.Tuple`4<RData[],Ty[],Ty,Ty>>,Microsoft.FSharp.Core.FSharpOption`1<System.Tuple`2<Data,TypedBind[]>>>,HashConsTable>>, System.Collections.Generic.Dictionary`2<T,System.Tuple`2<System.Collections.Generic.Dictionary`2<ConsedNode`1<Ty[]>,Microsoft.FSharp.Core.FSharpOption`1<Ty>>,HashConsTable>>, Microsoft.FSharp.Core.FSharpOption`1<Microsoft.FSharp.Core.FSharpFunc`2<Microsoft.FSharp.Core.Unit,Microsoft.FSharp.Core.Unit>>, LangEnv, E)]\n",
      "[   at System.Runtime.CompilerServices.RuntimeHelpers.DispatchTailCalls(IntPtr, Void (IntPtr, Byte ByRef, System.Runtime.CompilerServices.PortableTailCallFrame*), Byte ByRef)]\n",
      "[   at Spiral.PartEval.Main.term@711-64(TopEnv, System.Collections.Generic.Dictionary`2<E,System.Tuple`2<System.Collections.Generic.Dictionary`2<ConsedNode`1<System.Tuple`2<RData[],Ty[]>>,System.Tuple`3<Microsoft.FSharp.Core.FSharpOption`1<TypedBind[]>,Microsoft.FSharp.Core.FSharpOption`1<Ty>,Microsoft.FSharp.Core.FSharpOption`1<System.String>>>,HashConsTable>>, System.Collections.Generic.Dictionary`2<E,System.Tuple`2<System.Collections.Generic.Dictionary`2<ConsedNode`1<System.Tuple`4<RData[],Ty[],Ty,Ty>>,Microsoft.FSharp.Core.FSharpOption`1<System.Tuple`2<Data,TypedBind[]>>>,HashConsTable>>, System.Collections.Generic.Dictionary`2<T,System.Tuple`2<System.Collections.Generic.Dictionary`2<ConsedNode`1<Ty[]>,Microsoft.FSharp.Core.FSharpOption`1<Ty>>,HashConsTable>>, Microsoft.FSharp.Core.FSharpOption`1<Microsoft.FSharp.Core.FSharpFunc`2<Microsoft.FSharp.Core.Unit,Microsoft.FSharp.Core.Unit>>, LangEnv, E)]\n",
      "[   at Spiral.PartEval.Main.term@711-64(TopEnv, System.Collections.Generic.Dictionary`2<E,System.Tuple`2<System.Collections.Generic.Dictionary`2<ConsedNode`1<System.Tuple`2<RData[],Ty[]>>,System.Tuple`3<Microsoft.FSharp.Core.FSharpOption`1<TypedBind[]>,Microsoft.FSharp.Core.FSharpOption`1<Ty>,Microsoft.FSharp.Core.FSharpOption`1<System.String>>>,HashConsTable>>, System.Collections.Generic.Dictionary`2<E,System.Tuple`2<System.Collections.Generic.Dictionary`2<ConsedNode`1<System.Tuple`4<RData[],Ty[],Ty,Ty>>,Microsoft.FSharp.Core.FSharpOption`1<System.Tuple`2<Data,TypedBind[]>>>,HashConsTable>>, System.Collections.Generic.Dictionary`2<T,System.Tuple`2<System.Collections.Generic.Dictionary`2<ConsedNode`1<Ty[]>,Microsoft.FSharp.Core.FSharpOption`1<Ty>>,HashConsTable>>, Microsoft.FSharp.Core.FSharpOption`1<Microsoft.FSharp.Core.FSharpFunc`2<Microsoft.FSharp.Core.Unit,Microsoft.FSharp.Core.Unit>>, LangEnv, E)]\n",
      "[   at System.Runtime.CompilerServices.RuntimeHelpers.DispatchTailCalls(IntPtr, Void (IntPtr, Byte ByRef, System.Runtime.CompilerServices.PortableTailCallFrame*), Byte ByRef)]\n",
      "[   at Spiral.PartEval.Main.term@711-64(TopEnv, System.Collections.Generic.Dictionary`2<E,System.Tuple`2<System.Collections.Generic.Dictionary`2<ConsedNode`1<System.Tuple`2<RData[],Ty[]>>,System.Tuple`3<Microsoft.FSharp.Core.FSharpOption`1<TypedBind[]>,Microsoft.FSharp.Core.FSharpOption`1<Ty>,Microsoft.FSharp.Core.FSharpOption`1<System.String>>>,HashConsTable>>, System.Collections.Generic.Dictionary`2<E,System.Tuple`2<System.Collections.Generic.Dictionary`2<ConsedNode`1<System.Tuple`4<RData[],Ty[],Ty,Ty>>,Microsoft.FSharp.Core.FSharpOption`1<System.Tuple`2<Data,TypedBind[]>>>,HashConsTable>>, System.Collections.Generic.Dictionary`2<T,System.Tuple`2<System.Collections.Generic.Dictionary`2<ConsedNode`1<Ty[]>,Microsoft.FSharp.Core.FSharpOption`1<Ty>>,HashConsTable>>, Microsoft.FSharp.Core.FSharpOption`1<Microsoft.FSharp.Core.FSharpFunc`2<Microsoft.FSharp.Core.Unit,Microsoft.FSharp.Core.Unit>>, LangEnv, E)]\n",
      "[   at Spiral.PartEval.Main.term@711-64(TopEnv, System.Collections.Generic.Dictionary`2<E,System.Tuple`2<System.Collections.Generic.Dictionary`2<ConsedNode`1<System.Tuple`2<RData[],Ty[]>>,System.Tuple`3<Microsoft.FSharp.Core.FSharpOption`1<TypedBind[]>,Microsoft.FSharp.Core.FSharpOption`1<Ty>,Microsoft.FSharp.Core.FSharpOption`1<System.String>>>,HashConsTable>>, System.Collections.Generic.Dictionary`2<E,System.Tuple`2<System.Collections.Generic.Dictionary`2<ConsedNode`1<System.Tuple`4<RData[],Ty[],Ty,Ty>>,Microsoft.FSharp.Core.FSharpOption`1<System.Tuple`2<Data,TypedBind[]>>>,HashConsTable>>, System.Collections.Generic.Dictionary`2<T,System.Tuple`2<System.Collections.Generic.Dictionary`2<ConsedNode`1<Ty[]>,Microsoft.FSharp.Core.FSharpOption`1<Ty>>,HashConsTable>>, Microsoft.FSharp.Core.FSharpOption`1<Microsoft.FSharp.Core.FSharpFunc`2<Microsoft.FSharp.Core.Unit,Microsoft.FSharp.Core.Unit>>, LangEnv, E)]\n",
      "[   at System.Runtime.CompilerServices.RuntimeHelpers.DispatchTailCalls(IntPtr, Void (IntPtr, Byte ByRef, System.Runtime.CompilerServices.PortableTailCallFrame*), Byte ByRef)]\n",
      "[   at Spiral.PartEval.Main.term@711-64(TopEnv, System.Collections.Generic.Dictionary`2<E,System.Tuple`2<System.Collections.Generic.Dictionary`2<ConsedNode`1<System.Tuple`2<RData[],Ty[]>>,System.Tuple`3<Microsoft.FSharp.Core.FSharpOption`1<TypedBind[]>,Microsoft.FSharp.Core.FSharpOption`1<Ty>,Microsoft.FSharp.Core.FSharpOption`1<System.String>>>,HashConsTable>>, System.Collections.Generic.Dictionary`2<E,System.Tuple`2<System.Collections.Generic.Dictionary`2<ConsedNode`1<System.Tuple`4<RData[],Ty[],Ty,Ty>>,Microsoft.FSharp.Core.FSharpOption`1<System.Tuple`2<Data,TypedBind[]>>>,HashConsTable>>, System.Collections.Generic.Dictionary`2<T,System.Tuple`2<System.Collections.Generic.Dictionary`2<ConsedNode`1<Ty[]>,Microsoft.FSharp.Core.FSharpOption`1<Ty>>,HashConsTable>>, Microsoft.FSharp.Core.FSharpOption`1<Microsoft.FSharp.Core.FSharpFunc`2<Microsoft.FSharp.Core.Unit,Microsoft.FSharp.Core.Unit>>, LangEnv, E)]\n",
      "[   at Spiral.PartEval.Main.term@711-64(TopEnv, System.Collections.Generic.Dictionary`2<E,System.Tuple`2<System.Collections.Generic.Dictionary`2<ConsedNode`1<System.Tuple`2<RData[],Ty[]>>,System.Tuple`3<Microsoft.FSharp.Core.FSharpOption`1<TypedBind[]>,Microsoft.FSharp.Core.FSharpOption`1<Ty>,Microsoft.FSharp.Core.FSharpOption`1<System.String>>>,HashConsTable>>, System.Collections.Generic.Dictionary`2<E,System.Tuple`2<System.Collections.Generic.Dictionary`2<ConsedNode`1<System.Tuple`4<RData[],Ty[],Ty,Ty>>,Microsoft.FSharp.Core.FSharpOption`1<System.Tuple`2<Data,TypedBind[]>>>,HashConsTable>>, System.Collections.Generic.Dictionary`2<T,System.Tuple`2<System.Collections.Generic.Dictionary`2<ConsedNode`1<Ty[]>,Microsoft.FSharp.Core.FSharpOption`1<Ty>>,HashConsTable>>, Microsoft.FSharp.Core.FSharpOption`1<Microsoft.FSharp.Core.FSharpFunc`2<Microsoft.FSharp.Core.Unit,Microsoft.FSharp.Core.Unit>>, LangEnv, E)]\n",
      "[   at System.Runtime.CompilerServices.RuntimeHelpers.DispatchTailCalls(IntPtr, Void (IntPtr, Byte ByRef, System.Runtime.CompilerServices.PortableTailCallFrame*), Byte ByRef)]\n",
      "[   at Spiral.PartEval.Main.term@711-64(TopEnv, System.Collections.Generic.Dictionary`2<E,System.Tuple`2<System.Collections.Generic.Dictionary`2<ConsedNode`1<System.Tuple`2<RData[],Ty[]>>,System.Tuple`3<Microsoft.FSharp.Core.FSharpOption`1<TypedBind[]>,Microsoft.FSharp.Core.FSharpOption`1<Ty>,Microsoft.FSharp.Core.FSharpOption`1<System.String>>>,HashConsTable>>, System.Collections.Generic.Dictionary`2<E,System.Tuple`2<System.Collections.Generic.Dictionary`2<ConsedNode`1<System.Tuple`4<RData[],Ty[],Ty,Ty>>,Microsoft.FSharp.Core.FSharpOption`1<System.Tuple`2<Data,TypedBind[]>>>,HashConsTable>>, System.Collections.Generic.Dictionary`2<T,System.Tuple`2<System.Collections.Generic.Dictionary`2<ConsedNode`1<Ty[]>,Microsoft.FSharp.Core.FSharpOption`1<Ty>>,HashConsTable>>, Microsoft.FSharp.Core.FSharpOption`1<Microsoft.FSharp.Core.FSharpFunc`2<Microsoft.FSharp.Core.Unit,Microsoft.FSharp.Core.Unit>>, LangEnv, E)]\n",
      "[   at Spiral.PartEval.Main.term@711-64(TopEnv, System.Collections.Generic.Dictionary`2<E,System.Tuple`2<System.Collections.Generic.Dictionary`2<ConsedNode`1<System.Tuple`2<RData[],Ty[]>>,System.Tuple`3<Microsoft.FSharp.Core.FSharpOption`1<TypedBind[]>,Microsoft.FSharp.Core.FSharpOption`1<Ty>,Microsoft.FSharp.Core.FSharpOption`1<System.String>>>,HashConsTable>>, System.Collections.Generic.Dictionary`2<E,System.Tuple`2<System.Collections.Generic.Dictionary`2<ConsedNode`1<System.Tuple`4<RData[],Ty[],Ty,Ty>>,Microsoft.FSharp.Core.FSharpOption`1<System.Tuple`2<Data,TypedBind[]>>>,HashConsTable>>, System.Collections.Generic.Dictionary`2<T,System.Tuple`2<System.Collections.Generic.Dictionary`2<ConsedNode`1<Ty[]>,Microsoft.FSharp.Core.FSharpOption`1<Ty>>,HashConsTable>>, Microsoft.FSharp.Core.FSharpOption`1<Microsoft.FSharp.Core.FSharpFunc`2<Microsoft.FSharp.Core.Unit,Microsoft.FSharp.Core.Unit>>, LangEnv, E)]\n",
      "[   at System.Runtime.CompilerServices.RuntimeHelpers.DispatchTailCalls(IntPtr, Void (IntPtr, Byte ByRef, System.Runtime.CompilerServices.PortableTailCallFrame*), Byte ByRef)]\n",
      "[   at Spiral.PartEval.Main.term@711-64(TopEnv, System.Collections.Generic.Dictionary`2<E,System.Tuple`2<System.Collections.Generic.Dictionary`2<ConsedNode`1<System.Tuple`2<RData[],Ty[]>>,System.Tuple`3<Microsoft.FSharp.Core.FSharpOption`1<TypedBind[]>,Microsoft.FSharp.Core.FSharpOption`1<Ty>,Microsoft.FSharp.Core.FSharpOption`1<System.String>>>,HashConsTable>>, System.Collections.Generic.Dictionary`2<E,System.Tuple`2<System.Collections.Generic.Dictionary`2<ConsedNode`1<System.Tuple`4<RData[],Ty[],Ty,Ty>>,Microsoft.FSharp.Core.FSharpOption`1<System.Tuple`2<Data,TypedBind[]>>>,HashConsTable>>, System.Collections.Generic.Dictionary`2<T,System.Tuple`2<System.Collections.Generic.Dictionary`2<ConsedNode`1<Ty[]>,Microsoft.FSharp.Core.FSharpOption`1<Ty>>,HashConsTable>>, Microsoft.FSharp.Core.FSharpOption`1<Microsoft.FSharp.Core.FSharpFunc`2<Microsoft.FSharp.Core.Unit,Microsoft.FSharp.Core.Unit>>, LangEnv, E)]\n",
      "[   at Spiral.PartEval.Main.term@711-64(TopEnv, System.Collections.Generic.Dictionary`2<E,System.Tuple`2<System.Collections.Generic.Dictionary`2<ConsedNode`1<System.Tuple`2<RData[],Ty[]>>,System.Tuple`3<Microsoft.FSharp.Core.FSharpOption`1<TypedBind[]>,Microsoft.FSharp.Core.FSharpOption`1<Ty>,Microsoft.FSharp.Core.FSharpOption`1<System.String>>>,HashConsTable>>, System.Collections.Generic.Dictionary`2<E,System.Tuple`2<System.Collections.Generic.Dictionary`2<ConsedNode`1<System.Tuple`4<RData[],Ty[],Ty,Ty>>,Microsoft.FSharp.Core.FSharpOption`1<System.Tuple`2<Data,TypedBind[]>>>,HashConsTable>>, System.Collections.Generic.Dictionary`2<T,System.Tuple`2<System.Collections.Generic.Dictionary`2<ConsedNode`1<Ty[]>,Microsoft.FSharp.Core.FSharpOption`1<Ty>>,HashConsTable>>, Microsoft.FSharp.Core.FSharpOption`1<Microsoft.FSharp.Core.FSharpFunc`2<Microsoft.FSharp.Core.Unit,Microsoft.FSharp.Core.Unit>>, LangEnv, E)]\n",
      "[   at System.Runtime.CompilerServices.RuntimeHelpers.DispatchTailCalls(IntPtr, Void (IntPtr, Byte ByRef, System.Runtime.CompilerServices.PortableTailCallFrame*), Byte ByRef)]\n",
      "[   at Spiral.PartEval.Main.term@711-64(TopEnv, System.Collections.Generic.Dictionary`2<E,System.Tuple`2<System.Collections.Generic.Dictionary`2<ConsedNode`1<System.Tuple`2<RData[],Ty[]>>,System.Tuple`3<Microsoft.FSharp.Core.FSharpOption`1<TypedBind[]>,Microsoft.FSharp.Core.FSharpOption`1<Ty>,Microsoft.FSharp.Core.FSharpOption`1<System.String>>>,HashConsTable>>, System.Collections.Generic.Dictionary`2<E,System.Tuple`2<System.Collections.Generic.Dictionary`2<ConsedNode`1<System.Tuple`4<RData[],Ty[],Ty,Ty>>,Microsoft.FSharp.Core.FSharpOption`1<System.Tuple`2<Data,TypedBind[]>>>,HashConsTable>>, System.Collections.Generic.Dictionary`2<T,System.Tuple`2<System.Collections.Generic.Dictionary`2<ConsedNode`1<Ty[]>,Microsoft.FSharp.Core.FSharpOption`1<Ty>>,HashConsTable>>, Microsoft.FSharp.Core.FSharpOption`1<Microsoft.FSharp.Core.FSharpFunc`2<Microsoft.FSharp.Core.Unit,Microsoft.FSharp.Core.Unit>>, LangEnv, E)]\n",
      "[   at Spiral.PartEval.Main.term@711-64(TopEnv, System.Collections.Generic.Dictionary`2<E,System.Tuple`2<System.Collections.Generic.Dictionary`2<ConsedNode`1<System.Tuple`2<RData[],Ty[]>>,System.Tuple`3<Microsoft.FSharp.Core.FSharpOption`1<TypedBind[]>,Microsoft.FSharp.Core.FSharpOption`1<Ty>,Microsoft.FSharp.Core.FSharpOption`1<System.String>>>,HashConsTable>>, System.Collections.Generic.Dictionary`2<E,System.Tuple`2<System.Collections.Generic.Dictionary`2<ConsedNode`1<System.Tuple`4<RData[],Ty[],Ty,Ty>>,Microsoft.FSharp.Core.FSharpOption`1<System.Tuple`2<Data,TypedBind[]>>>,HashConsTable>>, System.Collections.Generic.Dictionary`2<T,System.Tuple`2<System.Collections.Generic.Dictionary`2<ConsedNode`1<Ty[]>,Microsoft.FSharp.Core.FSharpOption`1<Ty>>,HashConsTable>>, Microsoft.FSharp.Core.FSharpOption`1<Microsoft.FSharp.Core.FSharpFunc`2<Microsoft.FSharp.Core.Unit,Microsoft.FSharp.Core.Unit>>, LangEnv, E)]\n",
      "[   at System.Runtime.CompilerServices.RuntimeHelpers.DispatchTailCalls(IntPtr, Void (IntPtr, Byte ByRef, System.Runtime.CompilerServices.PortableTailCallFrame*), Byte ByRef)]\n",
      "[   at Spiral.PartEval.Main.term@711-64(TopEnv, System.Collections.Generic.Dictionary`2<E,System.Tuple`2<System.Collections.Generic.Dictionary`2<ConsedNode`1<System.Tuple`2<RData[],Ty[]>>,System.Tuple`3<Microsoft.FSharp.Core.FSharpOption`1<TypedBind[]>,Microsoft.FSharp.Core.FSharpOption`1<Ty>,Microsoft.FSharp.Core.FSharpOption`1<System.String>>>,HashConsTable>>, System.Collections.Generic.Dictionary`2<E,System.Tuple`2<System.Collections.Generic.Dictionary`2<ConsedNode`1<System.Tuple`4<RData[],Ty[],Ty,Ty>>,Microsoft.FSharp.Core.FSharpOption`1<System.Tuple`2<Data,TypedBind[]>>>,HashConsTable>>, System.Collections.Generic.Dictionary`2<T,System.Tuple`2<System.Collections.Generic.Dictionary`2<ConsedNode`1<Ty[]>,Microsoft.FSharp.Core.FSharpOption`1<Ty>>,HashConsTable>>, Microsoft.FSharp.Core.FSharpOption`1<Microsoft.FSharp.Core.FSharpFunc`2<Microsoft.FSharp.Core.Unit,Microsoft.FSharp.Core.Unit>>, LangEnv, E)]\n",
      "[   at Spiral.PartEval.Main.term@711-64(TopEnv, System.Collections.Generic.Dictionary`2<E,System.Tuple`2<System.Collections.Generic.Dictionary`2<ConsedNode`1<System.Tuple`2<RData[],Ty[]>>,System.Tuple`3<Microsoft.FSharp.Core.FSharpOption`1<TypedBind[]>,Microsoft.FSharp.Core.FSharpOption`1<Ty>,Microsoft.FSharp.Core.FSharpOption`1<System.String>>>,HashConsTable>>, System.Collections.Generic.Dictionary`2<E,System.Tuple`2<System.Collections.Generic.Dictionary`2<ConsedNode`1<System.Tuple`4<RData[],Ty[],Ty,Ty>>,Microsoft.FSharp.Core.FSharpOption`1<System.Tuple`2<Data,TypedBind[]>>>,HashConsTable>>, System.Collections.Generic.Dictionary`2<T,System.Tuple`2<System.Collections.Generic.Dictionary`2<ConsedNode`1<Ty[]>,Microsoft.FSharp.Core.FSharpOption`1<Ty>>,HashConsTable>>, Microsoft.FSharp.Core.FSharpOption`1<Microsoft.FSharp.Core.FSharpFunc`2<Microsoft.FSharp.Core.Unit,Microsoft.FSharp.Core.Unit>>, LangEnv, E)]\n",
      "[   at System.Runtime.CompilerServices.RuntimeHelpers.DispatchTailCalls(IntPtr, Void (IntPtr, Byte ByRef, System.Runtime.CompilerServices.PortableTailCallFrame*), Byte ByRef)]\n",
      "[   at Spiral.PartEval.Main.term@711-64(TopEnv, System.Collections.Generic.Dictionary`2<E,System.Tuple`2<System.Collections.Generic.Dictionary`2<ConsedNode`1<System.Tuple`2<RData[],Ty[]>>,System.Tuple`3<Microsoft.FSharp.Core.FSharpOption`1<TypedBind[]>,Microsoft.FSharp.Core.FSharpOption`1<Ty>,Microsoft.FSharp.Core.FSharpOption`1<System.String>>>,HashConsTable>>, System.Collections.Generic.Dictionary`2<E,System.Tuple`2<System.Collections.Generic.Dictionary`2<ConsedNode`1<System.Tuple`4<RData[],Ty[],Ty,Ty>>,Microsoft.FSharp.Core.FSharpOption`1<System.Tuple`2<Data,TypedBind[]>>>,HashConsTable>>, System.Collections.Generic.Dictionary`2<T,System.Tuple`2<System.Collections.Generic.Dictionary`2<ConsedNode`1<Ty[]>,Microsoft.FSharp.Core.FSharpOption`1<Ty>>,HashConsTable>>, Microsoft.FSharp.Core.FSharpOption`1<Microsoft.FSharp.Core.FSharpFunc`2<Microsoft.FSharp.Core.Unit,Microsoft.FSharp.Core.Unit>>, LangEnv, E)]\n",
      "[   at Spiral.PartEval.Main.term@711-64(TopEnv, System.Collections.Generic.Dictionary`2<E,System.Tuple`2<System.Collections.Generic.Dictionary`2<ConsedNode`1<System.Tuple`2<RData[],Ty[]>>,System.Tuple`3<Microsoft.FSharp.Core.FSharpOption`1<TypedBind[]>,Microsoft.FSharp.Core.FSharpOption`1<Ty>,Microsoft.FSharp.Core.FSharpOption`1<System.String>>>,HashConsTable>>, System.Collections.Generic.Dictionary`2<E,System.Tuple`2<System.Collections.Generic.Dictionary`2<ConsedNode`1<System.Tuple`4<RData[],Ty[],Ty,Ty>>,Microsoft.FSharp.Core.FSharpOption`1<System.Tuple`2<Data,TypedBind[]>>>,HashConsTable>>, System.Collections.Generic.Dictionary`2<T,System.Tuple`2<System.Collections.Generic.Dictionary`2<ConsedNode`1<Ty[]>,Microsoft.FSharp.Core.FSharpOption`1<Ty>>,HashConsTable>>, Microsoft.FSharp.Core.FSharpOption`1<Microsoft.FSharp.Core.FSharpFunc`2<Microsoft.FSharp.Core.Unit,Microsoft.FSharp.Core.Unit>>, LangEnv, E)]\n",
      "[   at System.Runtime.CompilerServices.RuntimeHelpers.DispatchTailCalls(IntPtr, Void (IntPtr, Byte ByRef, System.Runtime.CompilerServices.PortableTailCallFrame*), Byte ByRef)]\n",
      "[   at Spiral.PartEval.Main.term@711-64(TopEnv, System.Collections.Generic.Dictionary`2<E,System.Tuple`2<System.Collections.Generic.Dictionary`2<ConsedNode`1<System.Tuple`2<RData[],Ty[]>>,System.Tuple`3<Microsoft.FSharp.Core.FSharpOption`1<TypedBind[]>,Microsoft.FSharp.Core.FSharpOption`1<Ty>,Microsoft.FSharp.Core.FSharpOption`1<System.String>>>,HashConsTable>>, System.Collections.Generic.Dictionary`2<E,System.Tuple`2<System.Collections.Generic.Dictionary`2<ConsedNode`1<System.Tuple`4<RData[],Ty[],Ty,Ty>>,Microsoft.FSharp.Core.FSharpOption`1<System.Tuple`2<Data,TypedBind[]>>>,HashConsTable>>, System.Collections.Generic.Dictionary`2<T,System.Tuple`2<System.Collections.Generic.Dictionary`2<ConsedNode`1<Ty[]>,Microsoft.FSharp.Core.FSharpOption`1<Ty>>,HashConsTable>>, Microsoft.FSharp.Core.FSharpOption`1<Microsoft.FSharp.Core.FSharpFunc`2<Microsoft.FSharp.Core.Unit,Microsoft.FSharp.Core.Unit>>, LangEnv, E)]\n",
      "[   at Spiral.PartEval.Main.term@711-64(TopEnv, System.Collections.Generic.Dictionary`2<E,System.Tuple`2<System.Collections.Generic.Dictionary`2<ConsedNode`1<System.Tuple`2<RData[],Ty[]>>,System.Tuple`3<Microsoft.FSharp.Core.FSharpOption`1<TypedBind[]>,Microsoft.FSharp.Core.FSharpOption`1<Ty>,Microsoft.FSharp.Core.FSharpOption`1<System.String>>>,HashConsTable>>, System.Collections.Generic.Dictionary`2<E,System.Tuple`2<System.Collections.Generic.Dictionary`2<ConsedNode`1<System.Tuple`4<RData[],Ty[],Ty,Ty>>,Microsoft.FSharp.Core.FSharpOption`1<System.Tuple`2<Data,TypedBind[]>>>,HashConsTable>>, System.Collections.Generic.Dictionary`2<T,System.Tuple`2<System.Collections.Generic.Dictionary`2<ConsedNode`1<Ty[]>,Microsoft.FSharp.Core.FSharpOption`1<Ty>>,HashConsTable>>, Microsoft.FSharp.Core.FSharpOption`1<Microsoft.FSharp.Core.FSharpFunc`2<Microsoft.FSharp.Core.Unit,Microsoft.FSharp.Core.Unit>>, LangEnv, E)]\n",
      "[   at System.Runtime.CompilerServices.RuntimeHelpers.DispatchTailCalls(IntPtr, Void (IntPtr, Byte ByRef, System.Runtime.CompilerServices.PortableTailCallFrame*), Byte ByRef)]\n",
      "[   at Spiral.PartEval.Main.term@711-64(TopEnv, System.Collections.Generic.Dictionary`2<E,System.Tuple`2<System.Collections.Generic.Dictionary`2<ConsedNode`1<System.Tuple`2<RData[],Ty[]>>,System.Tuple`3<Microsoft.FSharp.Core.FSharpOption`1<TypedBind[]>,Microsoft.FSharp.Core.FSharpOption`1<Ty>,Microsoft.FSharp.Core.FSharpOption`1<System.String>>>,HashConsTable>>, System.Collections.Generic.Dictionary`2<E,System.Tuple`2<System.Collections.Generic.Dictionary`2<ConsedNode`1<System.Tuple`4<RData[],Ty[],Ty,Ty>>,Microsoft.FSharp.Core.FSharpOption`1<System.Tuple`2<Data,TypedBind[]>>>,HashConsTable>>, System.Collections.Generic.Dictionary`2<T,System.Tuple`2<System.Collections.Generic.Dictionary`2<ConsedNode`1<Ty[]>,Microsoft.FSharp.Core.FSharpOption`1<Ty>>,HashConsTable>>, Microsoft.FSharp.Core.FSharpOption`1<Microsoft.FSharp.Core.FSharpFunc`2<Microsoft.FSharp.Core.Unit,Microsoft.FSharp.Core.Unit>>, LangEnv, E)]\n",
      "[   at Spiral.PartEval.Main.term@711-64(TopEnv, System.Collections.Generic.Dictionary`2<E,System.Tuple`2<System.Collections.Generic.Dictionary`2<ConsedNode`1<System.Tuple`2<RData[],Ty[]>>,System.Tuple`3<Microsoft.FSharp.Core.FSharpOption`1<TypedBind[]>,Microsoft.FSharp.Core.FSharpOption`1<Ty>,Microsoft.FSharp.Core.FSharpOption`1<System.String>>>,HashConsTable>>, System.Collections.Generic.Dictionary`2<E,System.Tuple`2<System.Collections.Generic.Dictionary`2<ConsedNode`1<System.Tuple`4<RData[],Ty[],Ty,Ty>>,Microsoft.FSharp.Core.FSharpOption`1<System.Tuple`2<Data,TypedBind[]>>>,HashConsTable>>, System.Collections.Generic.Dictionary`2<T,System.Tuple`2<System.Collections.Generic.Dictionary`2<ConsedNode`1<Ty[]>,Microsoft.FSharp.Core.FSharpOption`1<Ty>>,HashConsTable>>, Microsoft.FSharp.Core.FSharpOption`1<Microsoft.FSharp.Core.FSharpFunc`2<Microsoft.FSharp.Core.Unit,Microsoft.FSharp.Core.Unit>>, LangEnv, E)]\n",
      "[   at Spiral.PartEval.Main.term@711-64(TopEnv, System.Collections.Generic.Dictionary`2<E,System.Tuple`2<System.Collections.Generic.Dictionary`2<ConsedNode`1<System.Tuple`2<RData[],Ty[]>>,System.Tuple`3<Microsoft.FSharp.Core.FSharpOption`1<TypedBind[]>,Microsoft.FSharp.Core.FSharpOption`1<Ty>,Microsoft.FSharp.Core.FSharpOption`1<System.String>>>,HashConsTable>>, System.Collections.Generic.Dictionary`2<E,System.Tuple`2<System.Collections.Generic.Dictionary`2<ConsedNode`1<System.Tuple`4<RData[],Ty[],Ty,Ty>>,Microsoft.FSharp.Core.FSharpOption`1<System.Tuple`2<Data,TypedBind[]>>>,HashConsTable>>, System.Collections.Generic.Dictionary`2<T,System.Tuple`2<System.Collections.Generic.Dictionary`2<ConsedNode`1<Ty[]>,Microsoft.FSharp.Core.FSharpOption`1<Ty>>,HashConsTable>>, Microsoft.FSharp.Core.FSharpOption`1<Microsoft.FSharp.Core.FSharpFunc`2<Microsoft.FSharp.Core.Unit,Microsoft.FSharp.Core.Unit>>, LangEnv, E)]\n",
      "[   at Spiral.PartEval.Main.term@711-64(TopEnv, System.Collections.Generic.Dictionary`2<E,System.Tuple`2<System.Collections.Generic.Dictionary`2<ConsedNode`1<System.Tuple`2<RData[],Ty[]>>,System.Tuple`3<Microsoft.FSharp.Core.FSharpOption`1<TypedBind[]>,Microsoft.FSharp.Core.FSharpOption`1<Ty>,Microsoft.FSharp.Core.FSharpOption`1<System.String>>>,HashConsTable>>, System.Collections.Generic.Dictionary`2<E,System.Tuple`2<System.Collections.Generic.Dictionary`2<ConsedNode`1<System.Tuple`4<RData[],Ty[],Ty,Ty>>,Microsoft.FSharp.Core.FSharpOption`1<System.Tuple`2<Data,TypedBind[]>>>,HashConsTable>>, System.Collections.Generic.Dictionary`2<T,System.Tuple`2<System.Collections.Generic.Dictionary`2<ConsedNode`1<Ty[]>,Microsoft.FSharp.Core.FSharpOption`1<Ty>>,HashConsTable>>, Microsoft.FSharp.Core.FSharpOption`1<Microsoft.FSharp.Core.FSharpFunc`2<Microsoft.FSharp.Core.Unit,Microsoft.FSharp.Core.Unit>>, LangEnv, E)]\n",
      "[   at Spiral.PartEval.Main.term@711-64(TopEnv, System.Collections.Generic.Dictionary`2<E,System.Tuple`2<System.Collections.Generic.Dictionary`2<ConsedNode`1<System.Tuple`2<RData[],Ty[]>>,System.Tuple`3<Microsoft.FSharp.Core.FSharpOption`1<TypedBind[]>,Microsoft.FSharp.Core.FSharpOption`1<Ty>,Microsoft.FSharp.Core.FSharpOption`1<System.String>>>,HashConsTable>>, System.Collections.Generic.Dictionary`2<E,System.Tuple`2<System.Collections.Generic.Dictionary`2<ConsedNode`1<System.Tuple`4<RData[],Ty[],Ty,Ty>>,Microsoft.FSharp.Core.FSharpOption`1<System.Tuple`2<Data,TypedBind[]>>>,HashConsTable>>, System.Collections.Generic.Dictionary`2<T,System.Tuple`2<System.Collections.Generic.Dictionary`2<ConsedNode`1<Ty[]>,Microsoft.FSharp.Core.FSharpOption`1<Ty>>,HashConsTable>>, Microsoft.FSharp.Core.FSharpOption`1<Microsoft.FSharp.Core.FSharpFunc`2<Microsoft.FSharp.Core.Unit,Microsoft.FSharp.Core.Unit>>, LangEnv, E)]\n",
      "[   at System.Runtime.CompilerServices.RuntimeHelpers.DispatchTailCalls(IntPtr, Void (IntPtr, Byte ByRef, System.Runtime.CompilerServices.PortableTailCallFrame*), Byte ByRef)]\n",
      "[   at Spiral.PartEval.Main.term@711-64(TopEnv, System.Collections.Generic.Dictionary`2<E,System.Tuple`2<System.Collections.Generic.Dictionary`2<ConsedNode`1<System.Tuple`2<RData[],Ty[]>>,System.Tuple`3<Microsoft.FSharp.Core.FSharpOption`1<TypedBind[]>,Microsoft.FSharp.Core.FSharpOption`1<Ty>,Microsoft.FSharp.Core.FSharpOption`1<System.String>>>,HashConsTable>>, System.Collections.Generic.Dictionary`2<E,System.Tuple`2<System.Collections.Generic.Dictionary`2<ConsedNode`1<System.Tuple`4<RData[],Ty[],Ty,Ty>>,Microsoft.FSharp.Core.FSharpOption`1<System.Tuple`2<Data,TypedBind[]>>>,HashConsTable>>, System.Collections.Generic.Dictionary`2<T,System.Tuple`2<System.Collections.Generic.Dictionary`2<ConsedNode`1<Ty[]>,Microsoft.FSharp.Core.FSharpOption`1<Ty>>,HashConsTable>>, Microsoft.FSharp.Core.FSharpOption`1<Microsoft.FSharp.Core.FSharpFunc`2<Microsoft.FSharp.Core.Unit,Microsoft.FSharp.Core.Unit>>, LangEnv, E)]\n",
      "[   at Spiral.PartEval.Main.term_scope''@601(TopEnv, System.Collections.Generic.Dictionary`2<E,System.Tuple`2<System.Collections.Generic.Dictionary`2<ConsedNode`1<System.Tuple`2<RData[],Ty[]>>,System.Tuple`3<Microsoft.FSharp.Core.FSharpOption`1<TypedBind[]>,Microsoft.FSharp.Core.FSharpOption`1<Ty>,Microsoft.FSharp.Core.FSharpOption`1<System.String>>>,HashConsTable>>, System.Collections.Generic.Dictionary`2<E,System.Tuple`2<System.Collections.Generic.Dictionary`2<ConsedNode`1<System.Tuple`4<RData[],Ty[],Ty,Ty>>,Microsoft.FSharp.Core.FSharpOption`1<System.Tuple`2<Data,TypedBind[]>>>,HashConsTable>>, System.Collections.Generic.Dictionary`2<T,System.Tuple`2<System.Collections.Generic.Dictionary`2<ConsedNode`1<Ty[]>,Microsoft.FSharp.Core.FSharpOption`1<Ty>>,HashConsTable>>, Microsoft.FSharp.Core.FSharpOption`1<Microsoft.FSharp.Core.FSharpFunc`2<Microsoft.FSharp.Core.Unit,Microsoft.FSharp.Core.Unit>>, LangEnv, E)]\n",
      "[   at Spiral.PartEval.Main.term_scope'@605(TopEnv, System.Collections.Generic.Dictionary`2<E,System.Tuple`2<System.Collections.Generic.Dictionary`2<ConsedNode`1<System.Tuple`2<RData[],Ty[]>>,System.Tuple`3<Microsoft.FSharp.Core.FSharpOption`1<TypedBind[]>,Microsoft.FSharp.Core.FSharpOption`1<Ty>,Microsoft.FSharp.Core.FSharpOption`1<System.String>>>,HashConsTable>>, System.Collections.Generic.Dictionary`2<E,System.Tuple`2<System.Collections.Generic.Dictionary`2<ConsedNode`1<System.Tuple`4<RData[],Ty[],Ty,Ty>>,Microsoft.FSharp.Core.FSharpOption`1<System.Tuple`2<Data,TypedBind[]>>>,HashConsTable>>, System.Collections.Generic.Dictionary`2<T,System.Tuple`2<System.Collections.Generic.Dictionary`2<ConsedNode`1<Ty[]>,Microsoft.FSharp.Core.FSharpOption`1<Ty>>,HashConsTable>>, Microsoft.FSharp.Core.FSharpOption`1<Microsoft.FSharp.Core.FSharpFunc`2<Microsoft.FSharp.Core.Unit,Microsoft.FSharp.Core.Unit>>, LangEnv, System.Collections.Generic.Dictionary`2<TypedOp,Data>, E)]\n",
      "[   at Spiral.PartEval.Main.term_scope@606(TopEnv, System.Collections.Generic.Dictionary`2<E,System.Tuple`2<System.Collections.Generic.Dictionary`2<ConsedNode`1<System.Tuple`2<RData[],Ty[]>>,System.Tuple`3<Microsoft.FSharp.Core.FSharpOption`1<TypedBind[]>,Microsoft.FSharp.Core.FSharpOption`1<Ty>,Microsoft.FSharp.Core.FSharpOption`1<System.String>>>,HashConsTable>>, System.Collections.Generic.Dictionary`2<E,System.Tuple`2<System.Collections.Generic.Dictionary`2<ConsedNode`1<System.Tuple`4<RData[],Ty[],Ty,Ty>>,Microsoft.FSharp.Core.FSharpOption`1<System.Tuple`2<Data,TypedBind[]>>>,HashConsTable>>, System.Collections.Generic.Dictionary`2<T,System.Tuple`2<System.Collections.Generic.Dictionary`2<ConsedNode`1<Ty[]>,Microsoft.FSharp.Core.FSharpOption`1<Ty>>,HashConsTable>>, Microsoft.FSharp.Core.FSharpOption`1<Microsoft.FSharp.Core.FSharpFunc`2<Microsoft.FSharp.Core.Unit,Microsoft.FSharp.Core.Unit>>, LangEnv, E)]\n",
      "[   at Spiral.PartEval.Main.peval(TopEnv, E)]\n",
      "[   at Spiral.Supervisor.file_build$cont@383(System.String, SupervisorState, PrepassTopEnv, Microsoft.FSharp.Core.FSharpOption`1<E>, Microsoft.FSharp.Core.Unit)]\n",
      "[   at Spiral.Supervisor.x2yJ@1-28(SupervisorErrorSources, System.String, System.String, SupervisorState, PrepassTopEnv)]\n",
      "[   at Spiral.Supervisor+x2yJ@380-41.Do(PrepassTopEnv)]\n",
      "[   at Hopac.Core.ContBind`2[[System.__Canon, System.Private.CoreLib, Version=9.0.0.0, Culture=neutral, PublicKeyToken=7cec85d7bea7798e],[System.__Canon, System.Private.CoreLib, Version=9.0.0.0, Culture=neutral, PublicKeyToken=7cec85d7bea7798e]].DoCont(Hopac.Core.Worker ByRef, System.__Canon)]\n",
      "[   at Hopac.Job+result@1000-1[[System.__Canon, System.Private.CoreLib, Version=9.0.0.0, Culture=neutral, PublicKeyToken=7cec85d7bea7798e]].DoJob(Hopac.Core.Worker ByRef, Hopac.Core.Cont`1<System.__Canon>)]\n",
      "[   at Hopac.Core.ContBind`2[[System.__Canon, System.Private.CoreLib, Version=9.0.0.0, Culture=neutral, PublicKeyToken=7cec85d7bea7798e],[System.__Canon, System.Private.CoreLib, Version=9.0.0.0, Culture=neutral, PublicKeyToken=7cec85d7bea7798e]].DoCont(Hopac.Core.Worker ByRef, System.__Canon)]\n",
      "[   at Hopac.Promise`1+Fulfill[[System.__Canon, System.Private.CoreLib, Version=9.0.0.0, Culture=neutral, PublicKeyToken=7cec85d7bea7798e]].Do(Hopac.Core.Worker ByRef, System.__Canon)]\n",
      "[   at Hopac.Promise`1+Fulfill[[System.__Canon, System.Private.CoreLib, Version=9.0.0.0, Culture=neutral, PublicKeyToken=7cec85d7bea7798e]].DoCont(Hopac.Core.Worker ByRef, System.__Canon)]\n",
      "[   at Hopac.Job+result@1000-1[[System.__Canon, System.Private.CoreLib, Version=9.0.0.0, Culture=neutral, PublicKeyToken=7cec85d7bea7798e]].DoJob(Hopac.Core.Worker ByRef, Hopac.Core.Cont`1<System.__Canon>)]\n",
      "[   at Hopac.Core.ContBind`2[[System.__Canon, System.Private.CoreLib, Version=9.0.0.0, Culture=neutral, PublicKeyToken=7cec85d7bea7798e],[System.__Canon, System.Private.CoreLib, Version=9.0.0.0, Culture=neutral, PublicKeyToken=7cec85d7bea7798e]].DoCont(Hopac.Core.Worker ByRef, System.__Canon)]\n",
      "[   at Hopac.Core.Cont.Do[[System.__Canon, System.Private.CoreLib, Version=9.0.0.0, Culture=neutral, PublicKeyToken=7cec85d7bea7798e]](Hopac.Core.Cont`1<System.__Canon>, Hopac.Core.Worker ByRef, System.__Canon)]\n",
      "[   at Hopac.Promise`1[[System.__Canon, System.Private.CoreLib, Version=9.0.0.0, Culture=neutral, PublicKeyToken=7cec85d7bea7798e]].DoJob(Hopac.Core.Worker ByRef, Hopac.Core.Cont`1<System.__Canon>)]\n",
      "[   at Hopac.Core.JobCont`2[[System.__Canon, System.Private.CoreLib, Version=9.0.0.0, Culture=neutral, PublicKeyToken=7cec85d7bea7798e],[System.__Canon, System.Private.CoreLib, Version=9.0.0.0, Culture=neutral, PublicKeyToken=7cec85d7bea7798e]].DoJob(Hopac.Core.Worker ByRef, Hopac.Core.Cont`1<System.__Canon>)]\n",
      "[   at Hopac.Core.Job.Do[[System.__Canon, System.Private.CoreLib, Version=9.0.0.0, Culture=neutral, PublicKeyToken=7cec85d7bea7798e]](Hopac.Job`1<System.__Canon>, Hopac.Core.Worker ByRef, Hopac.Core.Cont`1<System.__Canon>)]\n",
      "[   at Hopac.Promise`1[[System.__Canon, System.Private.CoreLib, Version=9.0.0.0, Culture=neutral, PublicKeyToken=7cec85d7bea7798e]].DoJob(Hopac.Core.Worker ByRef, Hopac.Core.Cont`1<System.__Canon>)]\n",
      "[   at Hopac.Core.JobCont`2[[System.__Canon, System.Private.CoreLib, Version=9.0.0.0, Culture=neutral, PublicKeyToken=7cec85d7bea7798e],[System.__Canon, System.Private.CoreLib, Version=9.0.0.0, Culture=neutral, PublicKeyToken=7cec85d7bea7798e]].DoJob(Hopac.Core.Worker ByRef, Hopac.Core.Cont`1<System.__Canon>)]\n",
      "[   at Hopac.Core.ContBind`2[[System.__Canon, System.Private.CoreLib, Version=9.0.0.0, Culture=neutral, PublicKeyToken=7cec85d7bea7798e],[System.__Canon, System.Private.CoreLib, Version=9.0.0.0, Culture=neutral, PublicKeyToken=7cec85d7bea7798e]].DoCont(Hopac.Core.Worker ByRef, System.__Canon)]\n",
      "[   at Hopac.Promise`1+Fulfill[[System.__Canon, System.Private.CoreLib, Version=9.0.0.0, Culture=neutral, PublicKeyToken=7cec85d7bea7798e]].Do(Hopac.Core.Worker ByRef, System.__Canon)]\n",
      "[   at Hopac.Promise`1+Fulfill[[System.__Canon, System.Private.CoreLib, Version=9.0.0.0, Culture=neutral, PublicKeyToken=7cec85d7bea7798e]].DoCont(Hopac.Core.Worker ByRef, System.__Canon)]\n",
      "[   at Hopac.Core.ContMap`2[[System.__Canon, System.Private.CoreLib, Version=9.0.0.0, Culture=neutral, PublicKeyToken=7cec85d7bea7798e],[System.__Canon, System.Private.CoreLib, Version=9.0.0.0, Culture=neutral, PublicKeyToken=7cec85d7bea7798e]].DoCont(Hopac.Core.Worker ByRef, System.__Canon)]\n",
      "[   at Hopac.Promise`1+Fulfill[[System.__Canon, System.Private.CoreLib, Version=9.0.0.0, Culture=neutral, PublicKeyToken=7cec85d7bea7798e]].Do(Hopac.Core.Worker ByRef, System.__Canon)]\n",
      "[   at Hopac.Promise`1+Fulfill[[System.__Canon, System.Private.CoreLib, Version=9.0.0.0, Culture=neutral, PublicKeyToken=7cec85d7bea7798e]].DoCont(Hopac.Core.Worker ByRef, System.__Canon)]\n",
      "[   at Hopac.Core.Cont.Do[[System.__Canon, System.Private.CoreLib, Version=9.0.0.0, Culture=neutral, PublicKeyToken=7cec85d7bea7798e]](Hopac.Core.Cont`1<System.__Canon>, Hopac.Core.Worker ByRef, System.__Canon)]\n",
      "[   at Hopac.Core.JobThunk`1[[System.__Canon, System.Private.CoreLib, Version=9.0.0.0, Culture=neutral, PublicKeyToken=7cec85d7bea7798e]].DoJob(Hopac.Core.Worker ByRef, Hopac.Core.Cont`1<System.__Canon>)]\n",
      "[   at Hopac.Core.Job.Do[[System.__Canon, System.Private.CoreLib, Version=9.0.0.0, Culture=neutral, PublicKeyToken=7cec85d7bea7798e]](Hopac.Job`1<System.__Canon>, Hopac.Core.Worker ByRef, Hopac.Core.Cont`1<System.__Canon>)]\n",
      "[   at Hopac.Promise`1[[System.__Canon, System.Private.CoreLib, Version=9.0.0.0, Culture=neutral, PublicKeyToken=7cec85d7bea7798e]].DoJob(Hopac.Core.Worker ByRef, Hopac.Core.Cont`1<System.__Canon>)]\n",
      "[   at Hopac.Core.JobCont`2[[System.__Canon, System.Private.CoreLib, Version=9.0.0.0, Culture=neutral, PublicKeyToken=7cec85d7bea7798e],[System.__Canon, System.Private.CoreLib, Version=9.0.0.0, Culture=neutral, PublicKeyToken=7cec85d7bea7798e]].DoJob(Hopac.Core.Worker ByRef, Hopac.Core.Cont`1<System.__Canon>)]\n",
      "[   at Hopac.Core.ContBind`2[[System.__Canon, System.Private.CoreLib, Version=9.0.0.0, Culture=neutral, PublicKeyToken=7cec85d7bea7798e],[System.__Canon, System.Private.CoreLib, Version=9.0.0.0, Culture=neutral, PublicKeyToken=7cec85d7bea7798e]].DoWork(Hopac.Core.Worker ByRef)]\n",
      "[   at Hopac.Core.Worker.Run(Hopac.Scheduler, Int32)]\n",
      "[   at Hopac.Platform.Scheduler+thread@30.Invoke()]\n",
      "[   at System.Threading.ExecutionContext.RunInternal(System.Threading.ExecutionContext, System.Threading.ContextCallback, System.Object)]\r\n",
      "00:00:42 #508 [Critical] buildFile / error: System.AggregateException: One or more errors occurred. (One or more errors occurred. (A task was canceled.))\r\n",
      "00:00:42 #509 [Debug] watchWithFilter / Disposing watch stream / filter: FileName, LastWrite\r\n"
     ]
    }
   ],
   "source": [
    "//// test\n",
    "\n",
    "\"\"\"\n",
    "inl init_series start end inc =\n",
    "    inl total : f64 = conv ((end - start) / inc) + 1\n",
    "    listm.init total (conv >> (*) inc >> (+) start) : list f64\n",
    "\n",
    "type integration = (f64 -> f64) -> f64 -> f64 -> f64\n",
    "\n",
    "inl integral dt : integration =\n",
    "    fun f a b =>\n",
    "        init_series (a + dt / 2) (b - dt / 2) dt\n",
    "        |> listm.map (f >> (*) dt)\n",
    "        |> listm.fold (+) 0\n",
    "\n",
    "inl main () =\n",
    "    integral 0.01 (fun x => x ** 2) 0 1\n",
    "\"\"\"\n",
    "|> buildCode 10000 None\n",
    "|> Async.runWithTimeout 10000\n",
    "|> Option.map (fun (fsxContent, errors) -> fsxContent, errors |> List.map fst)\n",
    "// |> _equal None\n",
    "// |> fun x -> printfn $\"{x.ToDisplayString ()}\""
   ]
  },
  {
   "cell_type": "markdown",
   "metadata": {},
   "source": [
    "## getFileTokenRange"
   ]
  },
  {
   "cell_type": "code",
   "execution_count": null,
   "metadata": {
    "dotnet_interactive": {
     "language": "fsharp"
    },
    "polyglot_notebook": {
     "kernelName": "fsharp"
    }
   },
   "outputs": [],
   "source": [
    "let inline getFileTokenRange port cancellationToken path = async {\n",
    "    let fullPath = path |> System.IO.Path.GetFullPath\n",
    "    let! code = fullPath |> FileSystem.readAllTextAsync\n",
    "    let lines = code |> String.split [| '\\n' |]\n",
    "\n",
    "    let token, disposable = Threading.newDisposableToken cancellationToken\n",
    "    use _ = disposable\n",
    "\n",
    "    let! serverPort, _errors, ct, disposable = awaitCompiler port (Some token)\n",
    "    use _ = disposable\n",
    "\n",
    "    let fileOpenObj = {| FileOpen = {| uri = fullPath |> getFileUri; spiText = code |} |}\n",
    "    let! _fileOpenResult = fileOpenObj |> sendObj serverPort\n",
    "\n",
    "    let fileTokenRangeObj =\n",
    "        {|\n",
    "            FileTokenRange =\n",
    "                {|\n",
    "                    uri = fullPath |> getFileUri\n",
    "                    range =\n",
    "                        [|\n",
    "                            {| line = 0; character = 0 |}\n",
    "                            {| line = lines.Length - 1; character = lines.[lines.Length - 1].Length |}\n",
    "                        |]\n",
    "                |}\n",
    "        |}\n",
    "    let! fileTokenRangeResult =\n",
    "        fileTokenRangeObj\n",
    "        |> sendObj serverPort\n",
    "        |> Async.withCancellationToken ct\n",
    "\n",
    "    return fileTokenRangeResult |> Option.map FSharp.Json.Json.deserialize<int array>\n",
    "}"
   ]
  },
  {
   "cell_type": "markdown",
   "metadata": {},
   "source": [
    "## getCodeTokenRange"
   ]
  },
  {
   "cell_type": "code",
   "execution_count": null,
   "metadata": {
    "dotnet_interactive": {
     "language": "fsharp"
    },
    "polyglot_notebook": {
     "kernelName": "fsharp"
    }
   },
   "outputs": [],
   "source": [
    "let inline getCodeTokenRange cancellationToken code = async {\n",
    "    let! mainPath, disposable = persistCode code\n",
    "    use _ = disposable\n",
    "    let port = getCompilerPort ()\n",
    "    return! mainPath |> getFileTokenRange port cancellationToken\n",
    "}"
   ]
  },
  {
   "cell_type": "code",
   "execution_count": null,
   "metadata": {
    "dotnet_interactive": {
     "language": "fsharp"
    },
    "polyglot_notebook": {
     "kernelName": "fsharp"
    }
   },
   "outputs": [
    {
     "name": "stdout",
     "output_type": "stream",
     "text": [
      "00:00:52 #520 [Debug] runWithTimeoutAsync / timeout: 60\r\n",
      "00:00:52 #521 [Debug] executeAsync / options: { Command =\n",
      "   \"dotnet \"C:\\home\\git\\polyglot\\deps\\The-Spiral-Language\\The Spiral Language 2\\artifacts\\bin\\The Spiral Language 2\\release\\Spiral.dll\" --port 13805 --default-int i32 --default-float f64\"\n",
      "  WorkingDirectory = None\n",
      "  CancellationToken = Some System.Threading.CancellationToken\n",
      "  OnLine = Some <fun:it@4-434> }\r\n",
      "00:00:52 #522 [Verbose] > pwd: C:\\home\\git\\polyglot\\apps\\spiral\r\n",
      "00:00:52 #523 [Verbose] > dll_path: C:\\home\\git\\polyglot\\deps\\The-Spiral-Language\\The Spiral Language 2\\artifacts\\bin\\The Spiral Language 2\\release\r\n",
      "00:00:52 #524 [Verbose] > Starting the Spiral Server. It is bound to: http://localhost:13805\r\n",
      "00:00:52 #525 [Debug] runWithTimeoutAsync / timeout: 500\r\n",
      "00:00:52 #526 [Verbose] waitForPortAccess / port: 13805 / retry: 0\r\n",
      "00:00:53 #528 [Debug] sendJson / port: 13805 / json: {\"Ping\":true} / result.Length:\r\n",
      "00:00:53 #529 [Verbose] awaitCompiler / Ping / result: Some(null) / port: 13805 / retry: 0\r\n",
      "00:00:53 #530 [Verbose] > Server bound to: http://localhost:13805\r\n",
      "00:00:53 #531 [Debug] sendJson / port: 13805 / json: {\"FileOpen\":{\"spiText\":\"inl main () = ()\",\"uri\":\"file:///C:\\\\Users\\\\i574n\\\\AppData\\\\Local\\\\Temp\\\\!dotnet-repl\\\\20240217-1337-2377-7709-70bc6f80e170\\\\main.spi\"}} / result.Length:\r\n",
      "00:00:53 #532 [Debug] sendJson / port: 13805 / json: {\"FileTokenRange\":{\"range\":[{\"character\":0,\"line\":0},{\"character\":16,\"line\":0}],\"uri\":\"file:///C:\\\\Users\\\\i574n\\\\AppData\\\\Local\\\\Temp\\\\!dotnet-repl\\\\20240217-1337-2377-7709-70bc6f80e170\\\\main.spi\"}} / result.Length: Some(213)\r\n",
      "FSharpOption<Int32[]>\r\n",
      "      Value: [ 0, 0, 3, 7, 0, 0, 4, 4, 0, 0, 0, 5, 1, 8, 0, 0, 1, 1, 8, 0, 0, 2, 1, 4, 0, 0, 2, 1, 8, 0, 0, 1, 1, 8, 0 ]\r\n"
     ]
    }
   ],
   "source": [
    "//// test\n",
    "\n",
    "\"\"\"inl main () = ()\"\"\"\n",
    "|> getCodeTokenRange None\n",
    "|> Async.runWithTimeout 10000\n",
    "|> Option.flatten\n",
    "|> _equal (Some [| 0; 0; 3; 7; 0; 0; 4; 4; 0; 0; 0; 5; 1; 8; 0; 0; 1; 1; 8; 0; 0; 2; 1; 4; 0; 0;\n",
    "2; 1; 8; 0; 0; 1; 1; 8; 0 |])"
   ]
  },
  {
   "cell_type": "code",
   "execution_count": null,
   "metadata": {
    "dotnet_interactive": {
     "language": "fsharp"
    },
    "polyglot_notebook": {
     "kernelName": "fsharp"
    }
   },
   "outputs": [
    {
     "name": "stdout",
     "output_type": "stream",
     "text": [
      "00:00:57 #536 [Debug] runWithTimeoutAsync / timeout: 60\r\n",
      "00:00:57 #537 [Debug] executeAsync / options: { Command =\n",
      "   \"dotnet \"C:\\home\\git\\polyglot\\deps\\The-Spiral-Language\\The Spiral Language 2\\artifacts\\bin\\The Spiral Language 2\\release\\Spiral.dll\" --port 13805 --default-int i32 --default-float f64\"\n",
      "  WorkingDirectory = None\n",
      "  CancellationToken = Some System.Threading.CancellationToken\n",
      "  OnLine = Some <fun:it@4-801> }\r\n",
      "00:00:57 #539 [Verbose] > pwd: C:\\home\\git\\polyglot\\apps\\spiral\r\n",
      "00:00:57 #540 [Verbose] > dll_path: C:\\home\\git\\polyglot\\deps\\The-Spiral-Language\\The Spiral Language 2\\artifacts\\bin\\The Spiral Language 2\\release\r\n",
      "00:00:57 #541 [Verbose] > Starting the Spiral Server. It is bound to: http://localhost:13805\r\n",
      "00:00:58 #542 [Debug] runWithTimeoutAsync / timeout: 500\r\n",
      "00:00:58 #543 [Verbose] waitForPortAccess / port: 13805 / retry: 0\r\n",
      "00:00:58 #544 [Debug] sendJson / port: 13805 / json: {\"Ping\":true} / result.Length:\r\n",
      "00:00:58 #545 [Verbose] awaitCompiler / Ping / result: Some(null) / port: 13805 / retry: 0\r\n",
      "00:00:58 #546 [Verbose] > Server bound to: http://localhost:13805\r\n",
      "00:00:58 #547 [Debug] sendJson / port: 13805 / json: {\"FileOpen\":{\"spiText\":\"inl main () = 1i32\",\"uri\":\"file:///C:\\\\Users\\\\i574n\\\\AppData\\\\Local\\\\Temp\\\\!dotnet-repl\\\\20240217-1337-2878-7882-70c710e6ed8c\\\\main.spi\"}} / result.Length:\r\n",
      "00:00:58 #549 [Debug] sendJson / port: 13805 / json: {\"FileTokenRange\":{\"range\":[{\"character\":0,\"line\":0},{\"character\":18,\"line\":0}],\"uri\":\"file:///C:\\\\Users\\\\i574n\\\\AppData\\\\Local\\\\Temp\\\\!dotnet-repl\\\\20240217-1337-2878-7882-70c710e6ed8c\\\\main.spi\"}} / result.Length: Some(214)\r\n",
      "FSharpOption<Int32[]>\r\n",
      "      Value: [ 0, 0, 3, 7, 0, 0, 4, 4, 0, 0, 0, 5, 1, 8, 0, 0, 1, 1, 8, 0, 0, 2, 1, 4, 0, 0, 2, 1, 3, 0, 0, 1, 3, 12, 0 ]\r\n"
     ]
    }
   ],
   "source": [
    "//// test\n",
    "\n",
    "\"\"\"inl main () = 1i32\"\"\"\n",
    "|> getCodeTokenRange None\n",
    "|> Async.runWithTimeout 10000\n",
    "|> Option.flatten\n",
    "|> _equal (Some [| 0; 0; 3; 7; 0; 0; 4; 4; 0; 0; 0; 5; 1; 8; 0; 0; 1; 1; 8; 0; 0; 2; 1; 4; 0; 0;\n",
    "2; 1; 3; 0; 0; 1; 3; 12; 0 |])"
   ]
  },
  {
   "cell_type": "markdown",
   "metadata": {},
   "source": [
    "## Arguments"
   ]
  },
  {
   "cell_type": "code",
   "execution_count": null,
   "metadata": {
    "dotnet_interactive": {
     "language": "fsharp"
    },
    "polyglot_notebook": {
     "kernelName": "fsharp"
    }
   },
   "outputs": [],
   "source": [
    "[<RequireQualifiedAccess>]\n",
    "type Arguments =\n",
    "    | Build_File of string * string\n",
    "    | File_Token_Range of string * string\n",
    "    | Execute_Command of string\n",
    "    | Timeout of int\n",
    "    | Port of int\n",
    "\n",
    "    interface Argu.IArgParserTemplate with\n",
    "        member s.Usage =\n",
    "            match s with\n",
    "            | Build_File _ -> nameof Build_File\n",
    "            | File_Token_Range _ -> nameof File_Token_Range\n",
    "            | Execute_Command _ -> nameof Execute_Command\n",
    "            | Timeout _ -> nameof Timeout\n",
    "            | Port _ -> nameof Port"
   ]
  },
  {
   "cell_type": "code",
   "execution_count": null,
   "metadata": {
    "dotnet_interactive": {
     "language": "fsharp"
    },
    "polyglot_notebook": {
     "kernelName": "fsharp"
    }
   },
   "outputs": [
    {
     "data": {
      "text/plain": [
       "USAGE: dotnet.exe [--help] [--build-file <string> <string>] [--file-token-range <string> <string>] [--execute-command <string>]\r\n",
       "                  [--timeout <int>] [--port <int>]\r\n",
       "\r\n",
       "OPTIONS:\r\n",
       "\r\n",
       "    --build-file <string> <string>\r\n",
       "                          Build_File\r\n",
       "    --file-token-range <string> <string>\r\n",
       "                          File_Token_Range\r\n",
       "    --execute-command <string>\r\n",
       "                          Execute_Command\r\n",
       "    --timeout <int>       Timeout\r\n",
       "    --port <int>          Port\r\n",
       "    --help                display this list of options.\r\n"
      ]
     },
     "metadata": {},
     "output_type": "display_data"
    }
   ],
   "source": [
    "//// test\n",
    "\n",
    "Argu.ArgumentParser.Create<Arguments>().PrintUsage ()"
   ]
  },
  {
   "cell_type": "markdown",
   "metadata": {},
   "source": [
    "## main"
   ]
  },
  {
   "cell_type": "code",
   "execution_count": null,
   "metadata": {
    "dotnet_interactive": {
     "language": "fsharp"
    },
    "polyglot_notebook": {
     "kernelName": "fsharp"
    }
   },
   "outputs": [],
   "source": [
    "let main args =\n",
    "    let argsMap = args |> Runtime.parseArgsMap<Arguments>\n",
    "\n",
    "    let buildFileActions =\n",
    "        argsMap\n",
    "        |> Map.tryFind (nameof Arguments.Build_File)\n",
    "        |> Option.defaultValue []\n",
    "        |> List.choose (function\n",
    "            | Arguments.Build_File (inputPath, outputPath) -> Some (inputPath, outputPath)\n",
    "            | _ -> None\n",
    "        )\n",
    "\n",
    "    let fileTokenRangeActions =\n",
    "        argsMap\n",
    "        |> Map.tryFind (nameof Arguments.File_Token_Range)\n",
    "        |> Option.defaultValue []\n",
    "        |> List.choose (function\n",
    "            | Arguments.File_Token_Range (inputPath, outputPath) -> Some (inputPath, outputPath)\n",
    "            | _ -> None\n",
    "        )\n",
    "\n",
    "    let executeCommandActions =\n",
    "        argsMap\n",
    "        |> Map.tryFind (nameof Arguments.Execute_Command)\n",
    "        |> Option.defaultValue []\n",
    "        |> List.choose (function\n",
    "            | Arguments.Execute_Command command -> Some command\n",
    "            | _ -> None\n",
    "        )\n",
    "\n",
    "    let timeout =\n",
    "        match argsMap |> Map.tryFind (nameof Arguments.Timeout) with\n",
    "        | Some [ Arguments.Timeout timeout ] -> timeout\n",
    "        | _ -> 60000 * 60\n",
    "\n",
    "    let port =\n",
    "        match argsMap |> Map.tryFind (nameof Arguments.Port) with\n",
    "        | Some [ Arguments.Port port ] -> Some port\n",
    "        | _ -> None\n",
    "\n",
    "    async {\n",
    "        let! buildFileResult =\n",
    "            buildFileActions\n",
    "            |> List.map (fun (inputPath, outputPath) -> async {\n",
    "                let port = port |> Option.defaultWith getCompilerPort\n",
    "                let! outputCode, errors = inputPath |> buildFile timeout port None\n",
    "                \n",
    "                errors\n",
    "                |> List.map snd\n",
    "                |> List.iter (fun error ->\n",
    "                    trace Critical (fun () -> $\"main / error: {error}\") getLocals\n",
    "                )\n",
    "\n",
    "                match outputCode with\n",
    "                | Some outputCode ->\n",
    "                    do! outputCode |> FileSystem.writeAllTextAsync outputPath\n",
    "                    return 0\n",
    "                | None ->\n",
    "                    return 1\n",
    "            })\n",
    "            |> Async.Sequential\n",
    "\n",
    "        let! fileTokenRangeResult =\n",
    "            fileTokenRangeActions\n",
    "            |> List.map (fun (inputPath, outputPath) -> async {\n",
    "                let port = port |> Option.defaultWith getCompilerPort\n",
    "                let! tokenRange = inputPath |> getFileTokenRange port None\n",
    "                match tokenRange with\n",
    "                | Some tokenRange ->\n",
    "                    do! tokenRange |> FSharp.Json.Json.serialize |> FileSystem.writeAllTextAsync outputPath\n",
    "                    return 0\n",
    "                | None ->\n",
    "                    return 1\n",
    "            })\n",
    "            |> Async.Sequential\n",
    "        \n",
    "        let! executeCommandResult =\n",
    "            executeCommandActions\n",
    "            |> List.map (fun command -> async {\n",
    "                let port = port |> Option.defaultWith getCompilerPort\n",
    "\n",
    "                let localToken, disposable = Threading.newDisposableToken None\n",
    "                use _ = disposable\n",
    "\n",
    "                let! serverPort, _errors, compilerToken, disposable = awaitCompiler port (Some localToken)\n",
    "                use _ = disposable\n",
    "                \n",
    "                let! exitCode, result =\n",
    "                    Runtime.executeWithOptionsAsync\n",
    "                        {\n",
    "                            Command = command\n",
    "                            CancellationToken = Some compilerToken\n",
    "                            WorkingDirectory = None\n",
    "                            OnLine = None\n",
    "                        }\n",
    "\n",
    "                trace Debug (fun () -> $\"main / executeCommand / exitCode: {exitCode}\") getLocals\n",
    "\n",
    "                return exitCode\n",
    "            })\n",
    "            |> Async.Sequential\n",
    "            \n",
    "        return\n",
    "            [| buildFileResult; fileTokenRangeResult; executeCommandResult |]\n",
    "            |> Array.collect id\n",
    "            |> Array.sum\n",
    "    }\n",
    "    |> Async.runWithTimeout timeout\n",
    "    |> Option.defaultValue 1"
   ]
  },
  {
   "cell_type": "code",
   "execution_count": null,
   "metadata": {
    "dotnet_interactive": {
     "language": "fsharp"
    },
    "polyglot_notebook": {
     "kernelName": "fsharp"
    }
   },
   "outputs": [
    {
     "data": {
      "text/html": [
       "<div class=\"dni-plaintext\"><pre>0</pre></div><style>\r\n",
       ".dni-code-hint {\r\n",
       "    font-style: italic;\r\n",
       "    overflow: hidden;\r\n",
       "    white-space: nowrap;\r\n",
       "}\r\n",
       ".dni-treeview {\r\n",
       "    white-space: nowrap;\r\n",
       "}\r\n",
       ".dni-treeview td {\r\n",
       "    vertical-align: top;\r\n",
       "    text-align: start;\r\n",
       "}\r\n",
       "details.dni-treeview {\r\n",
       "    padding-left: 1em;\r\n",
       "}\r\n",
       "table td {\r\n",
       "    text-align: start;\r\n",
       "}\r\n",
       "table tr { \r\n",
       "    vertical-align: top; \r\n",
       "    margin: 0em 0px;\r\n",
       "}\r\n",
       "table tr td pre \r\n",
       "{ \r\n",
       "    vertical-align: top !important; \r\n",
       "    margin: 0em 0px !important;\r\n",
       "} \r\n",
       "table th {\r\n",
       "    text-align: start;\r\n",
       "}\r\n",
       "</style>"
      ]
     },
     "metadata": {},
     "output_type": "display_data"
    }
   ],
   "source": [
    "//// test\n",
    "\n",
    "let args =\n",
    "    System.Environment.GetEnvironmentVariable \"ARGS\"\n",
    "    |> Runtime.splitArgs\n",
    "    |> Seq.toArray\n",
    "\n",
    "match args with\n",
    "| [||] -> 0\n",
    "| args -> if main args = 0 then 0 else failwith \"main failed\""
   ]
  }
 ],
 "metadata": {},
 "nbformat": 4,
 "nbformat_minor": 5
}