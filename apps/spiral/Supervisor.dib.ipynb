{
 "cells": [
  {
   "cell_type": "markdown",
   "metadata": {},
   "source": [
    "# Supervisor (Polyglot)"
   ]
  },
  {
   "cell_type": "code",
   "execution_count": null,
   "metadata": {
    "dotnet_interactive": {
     "language": "fsharp"
    },
    "polyglot_notebook": {
     "kernelName": "fsharp"
    }
   },
   "outputs": [],
   "source": [
    "#!import ../nbs/Testing.dib"
   ]
  },
  {
   "cell_type": "code",
   "execution_count": null,
   "metadata": {
    "dotnet_interactive": {
     "language": "fsharp"
    },
    "polyglot_notebook": {
     "kernelName": "fsharp"
    }
   },
   "outputs": [],
   "source": [
    "#r @\"../../../../../../../.nuget/packages/fsharp.control.asyncseq/3.2.1/lib/netstandard2.1/FSharp.Control.AsyncSeq.dll\"\n",
    "#r @\"../../../../../../../.nuget/packages/system.reactive/6.0.1-preview.1/lib/net6.0/System.Reactive.dll\"\n",
    "#r @\"../../../../../../../.nuget/packages/system.reactive.linq/6.0.1-preview.1/lib/netstandard2.0/System.Reactive.Linq.dll\"\n",
    "#r @\"../../../../../../../.nuget/packages/argu/6.1.1/lib/netstandard2.0/Argu.dll\"\n",
    "#r @\"../../../../../../../.nuget/packages/system.commandline/2.0.0-beta4.22272.1/lib/net6.0/System.CommandLine.dll\"\n",
    "#r @\"../../../../../../../.nuget/packages/microsoft.aspnetcore.http.connections.common/7.0.0/lib/net7.0/Microsoft.AspNetCore.Http.Connections.Common.dll\"\n",
    "#r @\"../../../../../../../.nuget/packages/microsoft.aspnetcore.http.connections.client/7.0.0/lib/net7.0/Microsoft.AspNetCore.Http.Connections.Client.dll\"\n",
    "#r @\"../../../../../../../.nuget/packages/microsoft.aspnetcore.signalr.common/7.0.0/lib/net7.0/Microsoft.AspNetCore.SignalR.Common.dll\"\n",
    "#r @\"../../../../../../../.nuget/packages/microsoft.aspnetcore.signalr.client/7.0.0/lib/net7.0/Microsoft.AspNetCore.SignalR.Client.dll\"\n",
    "#r @\"../../../../../../../.nuget/packages/microsoft.aspnetcore.signalr.client.core/7.0.0/lib/net7.0/Microsoft.AspNetCore.SignalR.Client.Core.dll\"\n",
    "#r @\"../../../../../../../.nuget/packages/fsharp.json/0.4.1/lib/netstandard2.0/FSharp.Json.dll\""
   ]
  },
  {
   "cell_type": "code",
   "execution_count": null,
   "metadata": {
    "dotnet_interactive": {
     "language": "fsharp"
    },
    "polyglot_notebook": {
     "kernelName": "fsharp"
    }
   },
   "outputs": [],
   "source": [
    "#!import ../nbs/Common.fs\n",
    "#!import ../nbs/CommonFSharp.fs\n",
    "#!import ../nbs/Async.fs\n",
    "#!import ../nbs/AsyncSeq.fs\n",
    "#!import ../nbs/Networking.fs\n",
    "#!import ../nbs/Runtime.fs\n",
    "#!import ../nbs/FileSystem.fs"
   ]
  },
  {
   "cell_type": "code",
   "execution_count": null,
   "metadata": {
    "dotnet_interactive": {
     "language": "fsharp"
    },
    "polyglot_notebook": {
     "kernelName": "fsharp"
    }
   },
   "outputs": [],
   "source": [
    "open Common\n",
    "open FileSystem.Operators\n",
    "open Microsoft.AspNetCore.SignalR.Client"
   ]
  },
  {
   "cell_type": "markdown",
   "metadata": {},
   "source": [
    "## sendJson"
   ]
  },
  {
   "cell_type": "code",
   "execution_count": null,
   "metadata": {
    "dotnet_interactive": {
     "language": "fsharp"
    },
    "polyglot_notebook": {
     "kernelName": "fsharp"
    }
   },
   "outputs": [],
   "source": [
    "let inline sendJson (port : int) (json : string) = async {\n",
    "    let! portOpen = Networking.testPortOpen port\n",
    "    if portOpen then\n",
    "        try\n",
    "            let connection = HubConnectionBuilder().WithUrl($\"http://127.0.0.1:{port}\").Build()\n",
    "            do! connection.StartAsync () |> Async.AwaitTask\n",
    "            let! result = connection.InvokeAsync<string>(\"ClientToServerMsg\", json) |> Async.AwaitTask\n",
    "            do! connection.StopAsync () |> Async.AwaitTask\n",
    "            trace Debug (fun () -> $\"sendJson / port: {port} / json: {json} / result.Length: {result |> Option.ofObj |> Option.map String.length}\") getLocals\n",
    "            return Some result\n",
    "        with ex ->\n",
    "            trace Critical (fun () -> $\"sendJson / port: {port} / json: {json} / ex: {ex |> printException}\") getLocals\n",
    "            return None\n",
    "    else\n",
    "        trace Debug (fun () -> \"sendJson / error: port not open\") getLocals\n",
    "        return None\n",
    "}"
   ]
  },
  {
   "cell_type": "markdown",
   "metadata": {},
   "source": [
    "## sendObj"
   ]
  },
  {
   "cell_type": "code",
   "execution_count": null,
   "metadata": {
    "dotnet_interactive": {
     "language": "fsharp"
    },
    "polyglot_notebook": {
     "kernelName": "fsharp"
    }
   },
   "outputs": [],
   "source": [
    "let inline sendObj port obj =\n",
    "    obj\n",
    "    |> System.Text.Json.JsonSerializer.Serialize\n",
    "    |> sendJson port"
   ]
  },
  {
   "cell_type": "markdown",
   "metadata": {},
   "source": [
    "## awaitCompiler"
   ]
  },
  {
   "cell_type": "code",
   "execution_count": null,
   "metadata": {
    "dotnet_interactive": {
     "language": "fsharp"
    },
    "polyglot_notebook": {
     "kernelName": "fsharp"
    }
   },
   "outputs": [],
   "source": [
    "type VSCPos = {| line : int; character : int |}\n",
    "type VSCRange = VSCPos * VSCPos\n",
    "type RString = VSCRange * string\n",
    "type TracedError = {| trace : string list; message : string |}\n",
    "type ClientErrorsRes =\n",
    "    | FatalError of string\n",
    "    | TracedError of TracedError\n",
    "    | PackageErrors of {| uri : string; errors : RString list |}\n",
    "    | TokenizerErrors of {| uri : string; errors : RString list |}\n",
    "    | ParserErrors of {| uri : string; errors : RString list |}\n",
    "    | TypeErrors of {| uri : string; errors : RString list |}"
   ]
  },
  {
   "cell_type": "code",
   "execution_count": null,
   "metadata": {
    "dotnet_interactive": {
     "language": "fsharp"
    },
    "polyglot_notebook": {
     "kernelName": "fsharp"
    }
   },
   "outputs": [],
   "source": [
    "let inline awaitCompiler port cancellationToken = async {\n",
    "    let! ct =\n",
    "        cancellationToken\n",
    "        |> Option.defaultValue System.Threading.CancellationToken.None\n",
    "        |> Async.mergeCancellationTokenWithDefaultAsync\n",
    "\n",
    "    let compiler = MailboxProcessor.Start (fun inbox -> async {\n",
    "        let! availablePort = Networking.getAvailablePort (Some 60) port\n",
    "        if port = 13805 && availablePort <> port then\n",
    "            inbox.Post port\n",
    "        else\n",
    "            let repositoryRoot = FileSystem.getSourceDirectory () |> FileSystem.findParent \".paket\" false\n",
    "\n",
    "            let compilerPath =\n",
    "                repositoryRoot </> \"deps/The-Spiral-Language/The Spiral Language 2/artifacts/bin/The Spiral Language 2/release\"\n",
    "                |> System.IO.Path.GetFullPath\n",
    "\n",
    "            let dllPath = compilerPath </> \"Spiral.dll\"\n",
    "\n",
    "            let! exitCode, result =\n",
    "                Runtime.executeWithOptionsAsync\n",
    "                    {\n",
    "                        Command = $@\"dotnet \"\"{dllPath}\"\" port={availablePort}\"\n",
    "                        CancellationToken = Some ct\n",
    "                        WorkingDirectory = None\n",
    "                        OnLine = Some <| fun { Line = line } -> async {\n",
    "                            if line |> String.contains $\"Server bound to: http://localhost:{availablePort}\" then\n",
    "                                do! Networking.waitForPortAccess (Some 10000) true availablePort |> Async.Ignore\n",
    "\n",
    "                                let rec loop retry = async {\n",
    "                                    let getLocals () = $\"port: {availablePort} / retry: {retry} / {getLocals ()}\"\n",
    "                                    try\n",
    "                                        let pingObj = {| Ping = true |}\n",
    "                                        let! pingResult = pingObj |> sendObj availablePort\n",
    "                                        trace Verbose (fun () -> $\"awaitCompiler / Ping / result: {pingResult}\") getLocals\n",
    "                                    with ex ->\n",
    "                                        trace Verbose (fun () -> $\"awaitCompiler / Ping / ex: {ex |> printException}\") getLocals\n",
    "                                        do! Async.Sleep 10\n",
    "                                        do! loop (retry + 1)\n",
    "                                }\n",
    "                                do! loop 0\n",
    "                                inbox.Post availablePort\n",
    "                        }\n",
    "                    }\n",
    "            trace Debug (fun () -> $\"awaitCompiler / exitCode: {exitCode} / result: {result}\") getLocals\n",
    "    }, ct)\n",
    "\n",
    "    let! serverPort = compiler.Receive ()\n",
    "\n",
    "    let connection = HubConnectionBuilder().WithUrl($\"http://127.0.0.1:{serverPort}\").Build ()\n",
    "    do! connection.StartAsync () |> Async.AwaitTask\n",
    "\n",
    "    let event = Event<_> ()\n",
    "    let disposable = connection.On<string> (\"ServerToClientMsg\", event.Trigger)\n",
    "    let stream =\n",
    "        FSharp.Control.AsyncSeq.unfoldAsync\n",
    "            (fun () -> async {\n",
    "                let! msg = event.Publish |> Async.AwaitEvent\n",
    "                return Some (msg |> FSharp.Json.Json.deserialize<ClientErrorsRes>, ())\n",
    "            })\n",
    "            ()\n",
    "\n",
    "    let disposable =\n",
    "        newDisposable (fun () ->\n",
    "            disposable.Dispose ()\n",
    "            connection.StopAsync () |> Async.AwaitTask |> Async.StartImmediate\n",
    "        )\n",
    "\n",
    "    return\n",
    "        serverPort,\n",
    "        stream,\n",
    "        disposable\n",
    "}"
   ]
  },
  {
   "cell_type": "markdown",
   "metadata": {},
   "source": [
    "## getFileUri"
   ]
  },
  {
   "cell_type": "code",
   "execution_count": null,
   "metadata": {
    "dotnet_interactive": {
     "language": "fsharp"
    },
    "polyglot_notebook": {
     "kernelName": "fsharp"
    }
   },
   "outputs": [],
   "source": [
    "let inline getFileUri path =\n",
    "    $\"file:///{path |> String.trimStart [| '/' |]}\""
   ]
  },
  {
   "cell_type": "code",
   "execution_count": null,
   "metadata": {
    "dotnet_interactive": {
     "language": "fsharp"
    },
    "polyglot_notebook": {
     "kernelName": "fsharp"
    }
   },
   "outputs": [],
   "source": [
    "let inline getFilePathFromUri uri =\n",
    "    match System.Uri.TryCreate (uri, System.UriKind.Absolute) with\n",
    "    | true, uri -> uri.AbsolutePath |> System.IO.Path.GetFullPath\n",
    "    | _ -> failwith \"invalid uri\""
   ]
  },
  {
   "cell_type": "markdown",
   "metadata": {},
   "source": [
    "## buildFile"
   ]
  },
  {
   "cell_type": "code",
   "execution_count": null,
   "metadata": {
    "dotnet_interactive": {
     "language": "fsharp"
    },
    "polyglot_notebook": {
     "kernelName": "fsharp"
    }
   },
   "outputs": [],
   "source": [
    "let inline buildFile timeout cancellationToken path = async {\n",
    "    let fullPath = path |> System.IO.Path.GetFullPath\n",
    "    let fileDir = fullPath |> System.IO.Path.GetDirectoryName\n",
    "    let fileName = fullPath |> System.IO.Path.GetFileNameWithoutExtension\n",
    "    let! code = fullPath |> FileSystem.readAllTextAsync\n",
    "\n",
    "    let stream, disposable = FileSystem.watchDirectory true fileDir\n",
    "    use _ = disposable\n",
    "\n",
    "    let port =\n",
    "        if fullPath |> String.startsWith (System.IO.Path.GetTempPath ())\n",
    "            && fullPath |> String.contains \"Microsoft.DotNet.Interactive.App\" |> not\n",
    "        then 13807\n",
    "        else 13805\n",
    "\n",
    "    use cts = new System.Threading.CancellationTokenSource ()\n",
    "    use cts =\n",
    "        System.Threading.CancellationTokenSource.CreateLinkedTokenSource\n",
    "            [| cts.Token; cancellationToken |> Option.defaultValue System.Threading.CancellationToken.None |]\n",
    "    use _ = newDisposable cts.Cancel\n",
    "    let! serverPort, errors, disposable = awaitCompiler port (Some cts.Token)\n",
    "    use _ = disposable\n",
    "\n",
    "    let fsxContentSeq =\n",
    "        stream\n",
    "        |> FSharp.Control.AsyncSeq.choose (function\n",
    "            | _, FileSystem.FileSystemChange.Changed (path, Some content) when path = $\"{fileName}.fsx\" ->\n",
    "                Some content\n",
    "            | _ -> None\n",
    "        )\n",
    "        |> FSharp.Control.AsyncSeq.map (fun content ->\n",
    "            Some (content |> String.replace \"\\r\\n\" \"\\n\"), None\n",
    "        )\n",
    "\n",
    "    let inline printErrorData (data : {| uri : string; errors : RString list |}) =\n",
    "        let fileName = data.uri |> System.IO.Path.GetFileName\n",
    "        let errors =\n",
    "            data.errors\n",
    "            |> List.map snd\n",
    "            |> String.concat \"\\n\"\n",
    "        $\"{fileName}:\\n{errors}\"\n",
    "\n",
    "    let errorsSeq =\n",
    "        errors\n",
    "        |> FSharp.Control.AsyncSeq.choose (fun error ->\n",
    "            match error with\n",
    "            | FatalError message ->\n",
    "                Some (message, true, error)\n",
    "            | TracedError data ->\n",
    "                Some (data.message, true, error)\n",
    "            | PackageErrors data when data.errors |> List.isEmpty |> not ->\n",
    "                Some (data |> printErrorData, true, error)\n",
    "            | TokenizerErrors data when data.errors |> List.isEmpty |> not ->\n",
    "                Some (data |> printErrorData, true, error)\n",
    "            | ParserErrors data when data.errors |> List.isEmpty |> not ->\n",
    "                Some (data |> printErrorData, false, error)\n",
    "            | TypeErrors data when data.errors |> List.isEmpty |> not ->\n",
    "                Some (data |> printErrorData, true, error)\n",
    "            | _ -> None\n",
    "        )\n",
    "        |> FSharp.Control.AsyncSeq.map (fun (message, fatal, error) ->\n",
    "            None, Some (message, fatal, error)\n",
    "        )\n",
    "\n",
    "    let outputSeq =\n",
    "        [fsxContentSeq; errorsSeq]\n",
    "        |> FSharp.Control.AsyncSeq.mergeAll\n",
    "\n",
    "    let! outputChild =\n",
    "        ((None, [], None), outputSeq)\n",
    "        ||> FSharp.Control.AsyncSeq.scan (\n",
    "            fun (fsxContentResult, errors, firstErrorTicks) (fsxContent, error) ->\n",
    "                match fsxContent, error with\n",
    "                | Some fsxContent, None -> Some fsxContent, errors, firstErrorTicks\n",
    "                | None, Some (message, fatal, error) ->\n",
    "                    fsxContentResult,\n",
    "                    (message, error) :: errors,\n",
    "                    firstErrorTicks\n",
    "                    |> Option.defaultWith (fun () ->\n",
    "                        if fatal\n",
    "                        then System.DateTime.MinValue.Ticks\n",
    "                        else System.DateTime.Now.Ticks\n",
    "                    )\n",
    "                    |> Some\n",
    "                | _ -> fsxContentResult, errors, firstErrorTicks\n",
    "        )\n",
    "        |> FSharp.Control.AsyncSeq.takeWhileInclusive (fun (fsxContent, errors, firstErrorTicks) ->\n",
    "            let firstErrorMs =\n",
    "                firstErrorTicks\n",
    "                |> Option.map (fun t -> System.TimeSpan(System.DateTime.Now.Ticks - t).TotalMilliseconds)\n",
    "            trace Debug (fun () -> $\"buildFile / fsxContent: {fsxContent} / errors: {errors} / firstErrorMs: {firstErrorMs}\") getLocals\n",
    "            match fsxContent, errors, firstErrorMs with\n",
    "            | None, [], _ -> true\n",
    "            | None, _, Some firstErrorMs when firstErrorMs < 2000. -> true\n",
    "            | _ -> false\n",
    "        )\n",
    "        |> FSharp.Control.AsyncSeq.map (fun (fsxContent, errors, _) ->\n",
    "            fsxContent, errors |> List.distinct\n",
    "        )\n",
    "        |> FSharp.Control.AsyncSeq.tryLast\n",
    "        |> Async.catch\n",
    "        |> Async.runWithTimeoutAsync timeout\n",
    "        |> Async.StartChild\n",
    "\n",
    "    let fileOpenObj = {| FileOpen = {| uri = fullPath |> getFileUri; spiText = code |} |}\n",
    "    let! _fileOpenResult = fileOpenObj |> sendObj serverPort\n",
    "\n",
    "    let buildFileObj = {| BuildFile = {| uri = fullPath |> getFileUri; backend = \"Fsharp\" |} |}\n",
    "    let! _buildFileResult = buildFileObj |> sendObj serverPort\n",
    "\n",
    "    return!\n",
    "        outputChild\n",
    "        |> Async.map (function\n",
    "            | Some (Ok (Some result)) -> result\n",
    "            | Some (Error ex) ->\n",
    "                trace Critical (fun () -> $\"buildFile / error: {ex |> printException}\") getLocals\n",
    "                None, []\n",
    "            | _ -> None, []\n",
    "        )\n",
    "}"
   ]
  },
  {
   "cell_type": "markdown",
   "metadata": {},
   "source": [
    "## persistCode"
   ]
  },
  {
   "cell_type": "code",
   "execution_count": null,
   "metadata": {
    "dotnet_interactive": {
     "language": "fsharp"
    },
    "polyglot_notebook": {
     "kernelName": "fsharp"
    }
   },
   "outputs": [],
   "source": [
    "let inline persistCode timeout cancellationToken code = async {\n",
    "    let tempDir = FileSystem.createTempDirectory ()\n",
    "\n",
    "    let mainPath = tempDir </> \"main.spi\"\n",
    "    do! code |> FileSystem.writeAllTextAsync mainPath\n",
    "\n",
    "    let repositoryRoot = FileSystem.getSourceDirectory () |> FileSystem.findParent \".paket\" false\n",
    "\n",
    "    let spiprojPath = tempDir </> \"package.spiproj\"\n",
    "    let spiprojCode =\n",
    "        $\"\"\"packageDir: {repositoryRoot </> \"spiral\"}\n",
    "packages:\n",
    "    |core-\n",
    "    fsharp\n",
    "modules:\n",
    "    main\n",
    "\"\"\"\n",
    "    do! spiprojCode |> FileSystem.writeAllTextAsync spiprojPath\n",
    "\n",
    "    let disposable = newDisposable (fun () ->\n",
    "        ()\n",
    "        // tempDir |> FileSystem.deleteDirectoryAsync |> Async.Ignore |> Async.RunSynchronously\n",
    "    )\n",
    "\n",
    "    return mainPath, disposable\n",
    "}"
   ]
  },
  {
   "cell_type": "markdown",
   "metadata": {},
   "source": [
    "## buildCode"
   ]
  },
  {
   "cell_type": "code",
   "execution_count": null,
   "metadata": {
    "dotnet_interactive": {
     "language": "fsharp"
    },
    "polyglot_notebook": {
     "kernelName": "fsharp"
    }
   },
   "outputs": [],
   "source": [
    "let inline buildCode timeout cancellationToken code = async {\n",
    "    let! mainPath, disposable = persistCode timeout cancellationToken code\n",
    "    use _ = disposable\n",
    "    return! mainPath |> buildFile timeout cancellationToken\n",
    "}"
   ]
  },
  {
   "cell_type": "code",
   "execution_count": null,
   "metadata": {
    "dotnet_interactive": {
     "language": "fsharp"
    },
    "polyglot_notebook": {
     "kernelName": "fsharp"
    }
   },
   "outputs": [],
   "source": [
    "//// test\n",
    "\n",
    "let buildCode timeout cancellationToken code = buildCode timeout cancellationToken code"
   ]
  },
  {
   "cell_type": "code",
   "execution_count": null,
   "metadata": {
    "dotnet_interactive": {
     "language": "fsharp"
    },
    "polyglot_notebook": {
     "kernelName": "fsharp"
    }
   },
   "outputs": [
    {
     "name": "stdout",
     "output_type": "stream",
     "text": [
      "00:00:00 #1 [Debug] createTempDirectory / tempFolder: C:\\Users\\i574n\\AppData\\Local\\Temp\\!dotnet-repl\\20230926-2326-4743-4397-47018320563f / result: { CreationTime = 2023-09-26 11:26:47 PM\n",
      "  Exists = true }\r\n",
      "00:00:00 #2 [Debug] runWithTimeoutAsync / timeout: 60\r\n",
      "00:00:00 #3 [Debug] executeAsync / options: { Command =\n",
      "   \"dotnet \"C:\\home\\git\\polyglot\\deps\\The-Spiral-Language\\The Spiral Language 2\\artifacts\\bin\\The Spiral Language 2\\release\\Spiral.dll\" port=13807\"\n",
      "  WorkingDirectory = None\n",
      "  CancellationToken = Some System.Threading.CancellationToken\n",
      "  OnLine = Some <fun:buildCode@3-984> }\r\n",
      "00:00:00 #4 [Debug] > pwd: C:\\home\\git\\polyglot\\apps\\spiral\r\n",
      "00:00:00 #5 [Debug] > dll_path: C:\\home\\git\\polyglot\\deps\\The-Spiral-Language\\The Spiral Language 2\\artifacts\\bin\\The Spiral Language 2\\release\r\n",
      "00:00:01 #6 [Debug] sendJson / port: 13807 / json: {\"Ping\":true} / result.Length:\r\n",
      "00:00:01 #7 [Verbose] awaitCompiler / Ping / result: Some(null) / port: 13807 / retry: 0\r\n",
      "00:00:01 #8 [Debug] > Server bound to: http://localhost:13807\r\n",
      "00:00:01 #9 [Debug] sendJson / port: 13807 / json: {\"FileOpen\":{\"spiText\":\"\",\"uri\":\"file:///C:\\\\Users\\\\i574n\\\\AppData\\\\Local\\\\Temp\\\\!dotnet-repl\\\\20230926-2326-4743-4397-47018320563f\\\\main.spi\"}} / result.Length:\r\n",
      "00:00:01 #10 [Debug] buildFile / fsxContent:  / errors: [] / firstErrorMs:\r\n",
      "00:00:01 #11 [Debug] sendJson / port: 13807 / json: {\"BuildFile\":{\"backend\":\"Fsharp\",\"uri\":\"file:///C:\\\\Users\\\\i574n\\\\AppData\\\\Local\\\\Temp\\\\!dotnet-repl\\\\20230926-2326-4743-4397-47018320563f\\\\main.spi\"}} / result.Length:\r\n",
      "00:00:02 #12 [Debug] > Building C:\\Users\\i574n\\AppData\\Local\\Temp\\!dotnet-repl\\20230926-2326-4743-4397-47018320563f\\main.spi\r\n",
      "00:00:03 #13 [Debug] > Cannot find `main` in file main.\r\n",
      "00:00:03 #14 [Debug] > Build skipped for C:\\Users\\i574n\\AppData\\Local\\Temp\\!dotnet-repl\\20230926-2326-4743-4397-47018320563f\\main.spi\r\n",
      "00:00:05 #15 [Debug] runWithTimeoutAsync / timeout: 6000\r\n",
      "00:00:06 #16 [Debug] watchWithFilter / Disposing watch stream / fullPath: C:\\Users\\i574n\\AppData\\Local\\Temp\\!dotnet-repl\\20230926-2326-4743-4397-47018320563f / filter: FileName, LastWrite\r\n",
      "<null>\r\n"
     ]
    }
   ],
   "source": [
    "//// test\n",
    "\n",
    "\"\"\n",
    "|> buildCode 6000 None\n",
    "|> Async.runWithTimeout 6000\n",
    "|> _equal None"
   ]
  },
  {
   "cell_type": "code",
   "execution_count": null,
   "metadata": {
    "dotnet_interactive": {
     "language": "fsharp"
    },
    "polyglot_notebook": {
     "kernelName": "fsharp"
    }
   },
   "outputs": [
    {
     "name": "stdout",
     "output_type": "stream",
     "text": [
      "00:00:06 #17 [Debug] createTempDirectory / tempFolder: C:\\Users\\i574n\\AppData\\Local\\Temp\\!dotnet-repl\\20230926-2326-5384-8433-8443bf73f0f9 / result: { CreationTime = 2023-09-26 11:26:53 PM\n",
      "  Exists = true }\r\n",
      "00:00:06 #18 [Debug] runWithTimeoutAsync / timeout: 60\r\n",
      "00:00:06 #19 [Debug] executeAsync / options: { Command =\n",
      "   \"dotnet \"C:\\home\\git\\polyglot\\deps\\The-Spiral-Language\\The Spiral Language 2\\artifacts\\bin\\The Spiral Language 2\\release\\Spiral.dll\" port=13807\"\n",
      "  WorkingDirectory = None\n",
      "  CancellationToken = Some System.Threading.CancellationToken\n",
      "  OnLine = Some <fun:buildCode@3-984> }\r\n",
      "00:00:06 #20 [Debug] > pwd: C:\\home\\git\\polyglot\\apps\\spiral\r\n",
      "00:00:06 #21 [Debug] > dll_path: C:\\home\\git\\polyglot\\deps\\The-Spiral-Language\\The Spiral Language 2\\artifacts\\bin\\The Spiral Language 2\\release\r\n",
      "00:00:08 #23 [Debug] sendJson / port: 13807 / json: {\"Ping\":true} / result.Length:\r\n",
      "00:00:08 #24 [Verbose] awaitCompiler / Ping / result: Some(null) / port: 13807 / retry: 0\r\n",
      "00:00:08 #25 [Debug] > Server bound to: http://localhost:13807\r\n",
      "00:00:08 #26 [Debug] buildFile / fsxContent:  / errors: [] / firstErrorMs:\r\n",
      "00:00:08 #27 [Debug] sendJson / port: 13807 / json: {\"FileOpen\":{\"spiText\":\"inl app () =\\n    fsharp.console.write_line \\u0022text\\u0022\\n    1i32\\n\\ninl main () =\\n    app\\n    |\\u003E dyn\\n    |\\u003E ignore\\n\",\"uri\":\"file:///C:\\\\Users\\\\i574n\\\\AppData\\\\Local\\\\Temp\\\\!dotnet-repl\\\\20230926-2326-5384-8433-8443bf73f0f9\\\\main.spi\"}} / result.Length:\r\n",
      "00:00:08 #28 [Debug] sendJson / port: 13807 / json: {\"BuildFile\":{\"backend\":\"Fsharp\",\"uri\":\"file:///C:\\\\Users\\\\i574n\\\\AppData\\\\Local\\\\Temp\\\\!dotnet-repl\\\\20230926-2326-5384-8433-8443bf73f0f9\\\\main.spi\"}} / result.Length:\r\n",
      "00:00:08 #29 [Debug] > Building C:\\Users\\i574n\\AppData\\Local\\Temp\\!dotnet-repl\\20230926-2326-5384-8433-8443bf73f0f9\\main.spi\r\n",
      "00:00:11 #30 [Debug] buildFile / fsxContent: Some(let rec closure0 () () : int32 =\n",
      "    let v0 : string = \"text\"\n",
      "    System.Console.WriteLine v0\n",
      "    1\n",
      "let v0 : (unit -> int32) = closure0()\n",
      "()\n",
      ") / errors: [] / firstErrorMs:\r\n",
      "00:00:11 #31 [Debug] watchWithFilter / Disposing watch stream / fullPath: C:\\Users\\i574n\\AppData\\Local\\Temp\\!dotnet-repl\\20230926-2326-5384-8433-8443bf73f0f9 / filter: FileName, LastWrite\r\n",
      "FSharpOption<Tuple<FSharpOption<String>,FSharpList<String>>>\r\n",
      "      Value:       - FSharpOption<String>\r\n",
      "          Value: let rec closure0 () () : int32 =\n",
      "    let v0 : string = \"text\"\n",
      "    System.Console.WriteLine v0\n",
      "    1\n",
      "let v0 : (unit -> int32) = closure0()\n",
      "()\n",
      "\r\n",
      "      - [  ]\r\n"
     ]
    }
   ],
   "source": [
    "//// test\n",
    "\n",
    "\"\"\"inl app () =\n",
    "    fsharp.console.write_line \"text\"\n",
    "    1i32\n",
    "\n",
    "inl main () =\n",
    "    app\n",
    "    |> dyn\n",
    "    |> ignore\n",
    "\"\"\"\n",
    "|> buildCode 10000 None\n",
    "|> Async.runWithTimeout 10000\n",
    "|> Option.map (fun (fsxContent, errors) -> fsxContent, errors |> List.map fst)\n",
    "|> _equal (\n",
    "    Some (\n",
    "        Some \"\"\"let rec closure0 () () : int32 =\n",
    "    let v0 : string = \"text\"\n",
    "    System.Console.WriteLine v0\n",
    "    1\n",
    "let v0 : (unit -> int32) = closure0()\n",
    "()\n",
    "\"\"\",\n",
    "        []\n",
    "    )\n",
    ")"
   ]
  },
  {
   "cell_type": "code",
   "execution_count": null,
   "metadata": {
    "dotnet_interactive": {
     "language": "fsharp"
    },
    "polyglot_notebook": {
     "kernelName": "fsharp"
    }
   },
   "outputs": [
    {
     "name": "stdout",
     "output_type": "stream",
     "text": [
      "00:00:11 #32 [Debug] createTempDirectory / tempFolder: C:\\Users\\i574n\\AppData\\Local\\Temp\\!dotnet-repl\\20230926-2326-5917-1780-1692e4857f94 / result: { CreationTime = 2023-09-26 11:26:59 PM\n",
      "  Exists = true }\r\n",
      "00:00:11 #33 [Debug] runWithTimeoutAsync / timeout: 60\r\n",
      "00:00:11 #34 [Debug] executeAsync / options: { Command =\n",
      "   \"dotnet \"C:\\home\\git\\polyglot\\deps\\The-Spiral-Language\\The Spiral Language 2\\artifacts\\bin\\The Spiral Language 2\\release\\Spiral.dll\" port=13807\"\n",
      "  WorkingDirectory = None\n",
      "  CancellationToken = Some System.Threading.CancellationToken\n",
      "  OnLine = Some <fun:buildCode@3-984> }\r\n",
      "00:00:12 #35 [Debug] > pwd: C:\\home\\git\\polyglot\\apps\\spiral\r\n",
      "00:00:12 #36 [Debug] > dll_path: C:\\home\\git\\polyglot\\deps\\The-Spiral-Language\\The Spiral Language 2\\artifacts\\bin\\The Spiral Language 2\\release\r\n",
      "00:00:14 #37 [Debug] sendJson / port: 13807 / json: {\"Ping\":true} / result.Length:\r\n",
      "00:00:14 #38 [Verbose] awaitCompiler / Ping / result: Some(null) / port: 13807 / retry: 0\r\n",
      "00:00:14 #39 [Debug] > Server bound to: http://localhost:13807\r\n",
      "00:00:14 #40 [Debug] buildFile / fsxContent:  / errors: [] / firstErrorMs:\r\n",
      "00:00:14 #41 [Debug] sendJson / port: 13807 / json: {\"FileOpen\":{\"spiText\":\"inl app () =\\n    0i32\\n\\ninl a = 1\\n\\ninl main () =\\n    app\\n    |\\u003E dyn\\n    |\\u003E ignore\\n\",\"uri\":\"file:///C:\\\\Users\\\\i574n\\\\AppData\\\\Local\\\\Temp\\\\!dotnet-repl\\\\20230926-2326-5917-1780-1692e4857f94\\\\main.spi\"}} / result.Length:\r\n",
      "00:00:14 #42 [Debug] sendJson / port: 13807 / json: {\"BuildFile\":{\"backend\":\"Fsharp\",\"uri\":\"file:///C:\\\\Users\\\\i574n\\\\AppData\\\\Local\\\\Temp\\\\!dotnet-repl\\\\20230926-2326-5917-1780-1692e4857f94\\\\main.spi\"}} / result.Length:\r\n",
      "00:00:14 #43 [Debug] > Building C:\\Users\\i574n\\AppData\\Local\\Temp\\!dotnet-repl\\20230926-2326-5917-1780-1692e4857f94\\main.spi\r\n",
      "00:00:15 #44 [Debug] buildFile / fsxContent:  / errors: [(main.spi:\n",
      "Global inl/let statements should all return functions known at parse time., ParserErrors\n",
      "  { errors =\n",
      "     [(({ character = 0\n",
      "          line = 3 }, { character = 9\n",
      "                        line = 3 }),\n",
      "       \"Global inl/let statements should all return functions known at parse time.\")]\n",
      "    uri =\n",
      "     \"file:///C:\\Users\\i574n\\AppData\\Local\\Temp\\!dotnet-repl\\20230926-2326-5917-1780-1692e4857f94\\main.spi\" })] / firstErrorMs: Some(0.0385)\r\n",
      "00:00:15 #45 [Debug] buildFile / fsxContent:  / errors: [(main.spi:\n",
      "Global inl/let statements should all return functions known at parse time., ParserErrors\n",
      "  { errors =\n",
      "     [(({ character = 0\n",
      "          line = 3 }, { character = 9\n",
      "                        line = 3 }),\n",
      "       \"Global inl/let statements should all return functions known at parse time.\")]\n",
      "    uri =\n",
      "     \"file:///C:\\Users\\i574n\\AppData\\Local\\Temp\\!dotnet-repl\\20230926-2326-5917-1780-1692e4857f94\\main.spi\" }); (main.spi:\n",
      "Global inl/let statements should all return functions known at parse time., ParserErrors\n",
      "  { errors =\n",
      "     [(({ character = 0\n",
      "          line = 3 }, { character = 9\n",
      "                        line = 3 }),\n",
      "       \"Global inl/let statements should all return functions known at parse time.\")]\n",
      "    uri =\n",
      "     \"file:///C:\\Users\\i574n\\AppData\\Local\\Temp\\!dotnet-repl\\20230926-2326-5917-1780-1692e4857f94\\main.spi\" })] / firstErrorMs: Some(542.9735)\r\n",
      "00:00:16 #46 [Debug] buildFile / fsxContent: Some(let rec closure0 () () : int32 =\n",
      "    0\n",
      "let v0 : (unit -> int32) = closure0()\n",
      "()\n",
      ") / errors: [(main.spi:\n",
      "Global inl/let statements should all return functions known at parse time., ParserErrors\n",
      "  { errors =\n",
      "     [(({ character = 0\n",
      "          line = 3 }, { character = 9\n",
      "                        line = 3 }),\n",
      "       \"Global inl/let statements should all return functions known at parse time.\")]\n",
      "    uri =\n",
      "     \"file:///C:\\Users\\i574n\\AppData\\Local\\Temp\\!dotnet-repl\\20230926-2326-5917-1780-1692e4857f94\\main.spi\" }); (main.spi:\n",
      "Global inl/let statements should all return functions known at parse time., ParserErrors\n",
      "  { errors =\n",
      "     [(({ character = 0\n",
      "          line = 3 }, { character = 9\n",
      "                        line = 3 }),\n",
      "       \"Global inl/let statements should all return functions known at parse time.\")]\n",
      "    uri =\n",
      "     \"file:///C:\\Users\\i574n\\AppData\\Local\\Temp\\!dotnet-repl\\20230926-2326-5917-1780-1692e4857f94\\main.spi\" })] / firstErrorMs: Some(1017.3929)\r\n",
      "00:00:16 #47 [Debug] watchWithFilter / Disposing watch stream / fullPath: C:\\Users\\i574n\\AppData\\Local\\Temp\\!dotnet-repl\\20230926-2326-5917-1780-1692e4857f94 / filter: FileName, LastWrite\r\n",
      "FSharpOption<Tuple<FSharpOption<String>,FSharpList<String>>>\r\n",
      "      Value:       - FSharpOption<String>\r\n",
      "          Value: let rec closure0 () () : int32 =\n",
      "    0\n",
      "let v0 : (unit -> int32) = closure0()\n",
      "()\n",
      "\r\n",
      "      - [ main.spi:\n",
      "Global inl/let statements should all return functions known at parse time. ]\r\n"
     ]
    }
   ],
   "source": [
    "//// test\n",
    "\n",
    "\"inl app () =\n",
    "    0i32\n",
    "\n",
    "inl a = 1\n",
    "\n",
    "inl main () =\n",
    "    app\n",
    "    |> dyn\n",
    "    |> ignore\n",
    "\"\n",
    "|> buildCode 10000 None\n",
    "|> Async.runWithTimeout 10000\n",
    "|> Option.map (fun (fsxContent, errors) -> fsxContent, errors |> List.map fst)\n",
    "|> _equal (\n",
    "    Some (\n",
    "        Some \"let rec closure0 () () : int32 =\n",
    "    0\n",
    "let v0 : (unit -> int32) = closure0()\n",
    "()\n",
    "\",\n",
    "        [\"main.spi:\n",
    "Global inl/let statements should all return functions known at parse time.\"]\n",
    "    )\n",
    ")"
   ]
  },
  {
   "cell_type": "code",
   "execution_count": null,
   "metadata": {
    "dotnet_interactive": {
     "language": "fsharp"
    },
    "polyglot_notebook": {
     "kernelName": "fsharp"
    }
   },
   "outputs": [
    {
     "name": "stdout",
     "output_type": "stream",
     "text": [
      "00:00:16 #48 [Debug] createTempDirectory / tempFolder: C:\\Users\\i574n\\AppData\\Local\\Temp\\!dotnet-repl\\20230926-2327-0403-0357-018705d50ab8 / result: { CreationTime = 2023-09-26 11:27:04 PM\n",
      "  Exists = true }\r\n",
      "00:00:16 #49 [Debug] runWithTimeoutAsync / timeout: 60\r\n",
      "00:00:16 #50 [Debug] executeAsync / options: { Command =\n",
      "   \"dotnet \"C:\\home\\git\\polyglot\\deps\\The-Spiral-Language\\The Spiral Language 2\\artifacts\\bin\\The Spiral Language 2\\release\\Spiral.dll\" port=13807\"\n",
      "  WorkingDirectory = None\n",
      "  CancellationToken = Some System.Threading.CancellationToken\n",
      "  OnLine = Some <fun:buildCode@3-984> }\r\n",
      "00:00:16 #51 [Debug] > pwd: C:\\home\\git\\polyglot\\apps\\spiral\r\n",
      "00:00:16 #52 [Debug] > dll_path: C:\\home\\git\\polyglot\\deps\\The-Spiral-Language\\The Spiral Language 2\\artifacts\\bin\\The Spiral Language 2\\release\r\n",
      "00:00:18 #53 [Debug] sendJson / port: 13807 / json: {\"Ping\":true} / result.Length:\r\n",
      "00:00:18 #54 [Verbose] awaitCompiler / Ping / result: Some(null) / port: 13807 / retry: 0\r\n",
      "00:00:18 #55 [Debug] > Server bound to: http://localhost:13807\r\n",
      "00:00:18 #56 [Debug] buildFile / fsxContent:  / errors: [] / firstErrorMs:\r\n",
      "00:00:18 #57 [Debug] sendJson / port: 13807 / json: {\"FileOpen\":{\"spiText\":\"inl main () =\\n    1i32 / 0i32\\n\",\"uri\":\"file:///C:\\\\Users\\\\i574n\\\\AppData\\\\Local\\\\Temp\\\\!dotnet-repl\\\\20230926-2327-0403-0357-018705d50ab8\\\\main.spi\"}} / result.Length:\r\n",
      "00:00:18 #58 [Debug] sendJson / port: 13807 / json: {\"BuildFile\":{\"backend\":\"Fsharp\",\"uri\":\"file:///C:\\\\Users\\\\i574n\\\\AppData\\\\Local\\\\Temp\\\\!dotnet-repl\\\\20230926-2327-0403-0357-018705d50ab8\\\\main.spi\"}} / result.Length:\r\n",
      "00:00:18 #59 [Debug] > Building C:\\Users\\i574n\\AppData\\Local\\Temp\\!dotnet-repl\\20230926-2327-0403-0357-018705d50ab8\\main.spi\r\n",
      "00:00:19 #60 [Debug] buildFile / fsxContent:  / errors: [(An attempt to divide by zero has been detected at compile time., TracedError\n",
      "  { message = \"An attempt to divide by zero has been detected at compile time.\"\n",
      "    trace =\n",
      "     [\"Error trace on line: 1, column: 10 in module: C:\\Users\\i574n\\AppData\\Local\\Temp\\!dotnet-repl\\20230926-2327-0403-0357-018705d50ab8\\main.spi.\r\n",
      "inl main () =\r\n",
      "         ^\r\n",
      "\";\n",
      "      \"Error trace on line: 2, column: 5 in module: C:\\Users\\i574n\\AppData\\Local\\Temp\\!dotnet-repl\\20230926-2327-0403-0357-018705d50ab8\\main.spi.\r\n",
      "    1i32 / 0i32\r\n",
      "    ^\r\n",
      "\"] })] / firstErrorMs: Some(63831367627279.375)\r\n",
      "00:00:19 #61 [Debug] watchWithFilter / Disposing watch stream / fullPath: C:\\Users\\i574n\\AppData\\Local\\Temp\\!dotnet-repl\\20230926-2327-0403-0357-018705d50ab8 / filter: FileName, LastWrite\r\n",
      "FSharpOption<Tuple<FSharpOption<String>,FSharpList<String>>>\r\n",
      "      Value:       - <null>\r\n",
      "      - [ An attempt to divide by zero has been detected at compile time. ]\r\n"
     ]
    }
   ],
   "source": [
    "//// test\n",
    "\n",
    "\"\"\"inl main () =\n",
    "    1i32 / 0i32\n",
    "\"\"\"\n",
    "|> buildCode 10000 None\n",
    "|> Async.runWithTimeout 10000\n",
    "|> Option.map (fun (fsxContent, errors) -> fsxContent, errors |> List.map fst)\n",
    "|> _equal (\n",
    "    Some (\n",
    "        None,\n",
    "        [\"An attempt to divide by zero has been detected at compile time.\"]\n",
    "    )\n",
    ")"
   ]
  },
  {
   "cell_type": "code",
   "execution_count": null,
   "metadata": {
    "dotnet_interactive": {
     "language": "fsharp"
    },
    "polyglot_notebook": {
     "kernelName": "fsharp"
    }
   },
   "outputs": [
    {
     "name": "stdout",
     "output_type": "stream",
     "text": [
      "00:00:20 #62 [Debug] createTempDirectory / tempFolder: C:\\Users\\i574n\\AppData\\Local\\Temp\\!dotnet-repl\\20230926-2327-0763-6350-65ee0f4a8f7e / result: { CreationTime = 2023-09-26 11:27:07 PM\n",
      "  Exists = true }\r\n",
      "00:00:20 #63 [Debug] runWithTimeoutAsync / timeout: 60\r\n",
      "00:00:20 #64 [Debug] executeAsync / options: { Command =\n",
      "   \"dotnet \"C:\\home\\git\\polyglot\\deps\\The-Spiral-Language\\The Spiral Language 2\\artifacts\\bin\\The Spiral Language 2\\release\\Spiral.dll\" port=13807\"\n",
      "  WorkingDirectory = None\n",
      "  CancellationToken = Some System.Threading.CancellationToken\n",
      "  OnLine = Some <fun:buildCode@3-984> }\r\n",
      "00:00:20 #65 [Debug] > pwd: C:\\home\\git\\polyglot\\apps\\spiral\r\n",
      "00:00:20 #66 [Debug] > dll_path: C:\\home\\git\\polyglot\\deps\\The-Spiral-Language\\The Spiral Language 2\\artifacts\\bin\\The Spiral Language 2\\release\r\n",
      "00:00:21 #67 [Debug] sendJson / port: 13807 / json: {\"Ping\":true} / result.Length:\r\n",
      "00:00:21 #68 [Verbose] awaitCompiler / Ping / result: Some(null) / port: 13807 / retry: 0\r\n",
      "00:00:21 #69 [Debug] > Server bound to: http://localhost:13807\r\n",
      "00:00:21 #70 [Debug] buildFile / fsxContent:  / errors: [] / firstErrorMs:\r\n",
      "00:00:21 #71 [Debug] sendJson / port: 13807 / json: {\"FileOpen\":{\"spiText\":\"union a =\\n    | B\\n    | c\\n\\ninl main () =\\n    ()\\n\",\"uri\":\"file:///C:\\\\Users\\\\i574n\\\\AppData\\\\Local\\\\Temp\\\\!dotnet-repl\\\\20230926-2327-0763-6350-65ee0f4a8f7e\\\\main.spi\"}} / result.Length:\r\n",
      "00:00:21 #72 [Debug] sendJson / port: 13807 / json: {\"BuildFile\":{\"backend\":\"Fsharp\",\"uri\":\"file:///C:\\\\Users\\\\i574n\\\\AppData\\\\Local\\\\Temp\\\\!dotnet-repl\\\\20230926-2327-0763-6350-65ee0f4a8f7e\\\\main.spi\"}} / result.Length:\r\n",
      "00:00:22 #73 [Debug] > Building C:\\Users\\i574n\\AppData\\Local\\Temp\\!dotnet-repl\\20230926-2327-0763-6350-65ee0f4a8f7e\\main.spi\r\n",
      "00:00:22 #74 [Debug] buildFile / fsxContent:  / errors: [(main.spi:\n",
      "Expected: uppercase variable, ParserErrors\n",
      "  { errors = [(({ character = 6\n",
      "                  line = 2 }, { character = 7\n",
      "                                line = 2 }), \"Expected: uppercase variable\")]\n",
      "    uri =\n",
      "     \"file:///C:\\Users\\i574n\\AppData\\Local\\Temp\\!dotnet-repl\\20230926-2327-0763-6350-65ee0f4a8f7e\\main.spi\" })] / firstErrorMs: Some(0.0498)\r\n",
      "00:00:23 #75 [Debug] buildFile / fsxContent:  / errors: [(main.spi:\n",
      "Expected: uppercase variable, ParserErrors\n",
      "  { errors = [(({ character = 6\n",
      "                  line = 2 }, { character = 7\n",
      "                                line = 2 }), \"Expected: uppercase variable\")]\n",
      "    uri =\n",
      "     \"file:///C:\\Users\\i574n\\AppData\\Local\\Temp\\!dotnet-repl\\20230926-2327-0763-6350-65ee0f4a8f7e\\main.spi\" }); (main.spi:\n",
      "Expected: uppercase variable, ParserErrors\n",
      "  { errors = [(({ character = 6\n",
      "                  line = 2 }, { character = 7\n",
      "                                line = 2 }), \"Expected: uppercase variable\")]\n",
      "    uri =\n",
      "     \"file:///C:\\Users\\i574n\\AppData\\Local\\Temp\\!dotnet-repl\\20230926-2327-0763-6350-65ee0f4a8f7e\\main.spi\" })] / firstErrorMs: Some(451.4582)\r\n",
      "00:00:23 #76 [Debug] buildFile / fsxContent: Some(()\n",
      ") / errors: [(main.spi:\n",
      "Expected: uppercase variable, ParserErrors\n",
      "  { errors = [(({ character = 6\n",
      "                  line = 2 }, { character = 7\n",
      "                                line = 2 }), \"Expected: uppercase variable\")]\n",
      "    uri =\n",
      "     \"file:///C:\\Users\\i574n\\AppData\\Local\\Temp\\!dotnet-repl\\20230926-2327-0763-6350-65ee0f4a8f7e\\main.spi\" }); (main.spi:\n",
      "Expected: uppercase variable, ParserErrors\n",
      "  { errors = [(({ character = 6\n",
      "                  line = 2 }, { character = 7\n",
      "                                line = 2 }), \"Expected: uppercase variable\")]\n",
      "    uri =\n",
      "     \"file:///C:\\Users\\i574n\\AppData\\Local\\Temp\\!dotnet-repl\\20230926-2327-0763-6350-65ee0f4a8f7e\\main.spi\" })] / firstErrorMs: Some(846.7493)\r\n",
      "00:00:23 #77 [Debug] watchWithFilter / Disposing watch stream / fullPath: C:\\Users\\i574n\\AppData\\Local\\Temp\\!dotnet-repl\\20230926-2327-0763-6350-65ee0f4a8f7e / filter: FileName, LastWrite\r\n",
      "FSharpOption<Tuple<FSharpOption<String>,FSharpList<String>>>\r\n",
      "      Value:       - FSharpOption<String>\r\n",
      "          Value: ()\n",
      "\r\n",
      "      - [ main.spi:\n",
      "Expected: uppercase variable ]\r\n"
     ]
    }
   ],
   "source": [
    "//// test\n",
    "\n",
    "\"\"\"union a =\n",
    "    | B\n",
    "    | c\n",
    "\n",
    "inl main () =\n",
    "    ()\n",
    "\"\"\"\n",
    "|> buildCode 10000 None\n",
    "|> Async.runWithTimeout 10000\n",
    "|> Option.map (fun (fsxContent, errors) -> fsxContent, errors |> List.map fst)\n",
    "|> _equal (\n",
    "    Some (\n",
    "        Some \"()\n",
    "\",\n",
    "        [\"main.spi:\n",
    "Expected: uppercase variable\"]\n",
    "    )\n",
    ")"
   ]
  },
  {
   "cell_type": "code",
   "execution_count": null,
   "metadata": {
    "dotnet_interactive": {
     "language": "fsharp"
    },
    "polyglot_notebook": {
     "kernelName": "fsharp"
    }
   },
   "outputs": [
    {
     "name": "stdout",
     "output_type": "stream",
     "text": [
      "00:00:23 #78 [Debug] createTempDirectory / tempFolder: C:\\Users\\i574n\\AppData\\Local\\Temp\\!dotnet-repl\\20230926-2327-1126-2648-2f6debe765b8 / result: { CreationTime = 2023-09-26 11:27:11 PM\n",
      "  Exists = true }\r\n",
      "00:00:23 #79 [Debug] runWithTimeoutAsync / timeout: 60\r\n",
      "00:00:23 #80 [Debug] executeAsync / options: { Command =\n",
      "   \"dotnet \"C:\\home\\git\\polyglot\\deps\\The-Spiral-Language\\The Spiral Language 2\\artifacts\\bin\\The Spiral Language 2\\release\\Spiral.dll\" port=13807\"\n",
      "  WorkingDirectory = None\n",
      "  CancellationToken = Some System.Threading.CancellationToken\n",
      "  OnLine = Some <fun:buildCode@3-984> }\r\n",
      "00:00:24 #81 [Debug] > pwd: C:\\home\\git\\polyglot\\apps\\spiral\r\n",
      "00:00:24 #82 [Debug] > dll_path: C:\\home\\git\\polyglot\\deps\\The-Spiral-Language\\The Spiral Language 2\\artifacts\\bin\\The Spiral Language 2\\release\r\n",
      "00:00:25 #83 [Debug] sendJson / port: 13807 / json: {\"Ping\":true} / result.Length:\r\n",
      "00:00:25 #84 [Verbose] awaitCompiler / Ping / result: Some(null) / port: 13807 / retry: 0\r\n",
      "00:00:25 #85 [Debug] > Server bound to: http://localhost:13807\r\n",
      "00:00:25 #86 [Debug] buildFile / fsxContent:  / errors: [] / firstErrorMs:\r\n",
      "00:00:25 #87 [Debug] sendJson / port: 13807 / json: {\"FileOpen\":{\"spiText\":\"\\n/// abc\\ninl main () =\\n    ()\\n\",\"uri\":\"file:///C:\\\\Users\\\\i574n\\\\AppData\\\\Local\\\\Temp\\\\!dotnet-repl\\\\20230926-2327-1126-2648-2f6debe765b8\\\\main.spi\"}} / result.Length:\r\n",
      "00:00:25 #88 [Debug] sendJson / port: 13807 / json: {\"BuildFile\":{\"backend\":\"Fsharp\",\"uri\":\"file:///C:\\\\Users\\\\i574n\\\\AppData\\\\Local\\\\Temp\\\\!dotnet-repl\\\\20230926-2327-1126-2648-2f6debe765b8\\\\main.spi\"}} / result.Length:\r\n",
      "00:00:25 #89 [Debug] buildFile / fsxContent:  / errors: [(main.spi:\n",
      "Expected: whitespace, TokenizerErrors\n",
      "  { errors = [(({ character = 2\n",
      "                  line = 1 }, { character = 3\n",
      "                                line = 1 }), \"Expected: whitespace\")]\n",
      "    uri =\n",
      "     \"file:///C:\\Users\\i574n\\AppData\\Local\\Temp\\!dotnet-repl\\20230926-2327-1126-2648-2f6debe765b8\\main.spi\" })] / firstErrorMs: Some(63831367633367.45)\r\n",
      "00:00:25 #90 [Debug] watchWithFilter / Disposing watch stream / fullPath: C:\\Users\\i574n\\AppData\\Local\\Temp\\!dotnet-repl\\20230926-2327-1126-2648-2f6debe765b8 / filter: FileName, LastWrite\r\n",
      "FSharpOption<Tuple<FSharpOption<String>,FSharpList<String>>>\r\n",
      "      Value:       - <null>\r\n",
      "      - [ main.spi:\n",
      "Expected: whitespace ]\r\n"
     ]
    }
   ],
   "source": [
    "//// test\n",
    "\n",
    "\"\"\"\n",
    "/// abc\n",
    "inl main () =\n",
    "    ()\n",
    "\"\"\"\n",
    "|> buildCode 10000 None\n",
    "|> Async.runWithTimeout 10000\n",
    "|> Option.map (fun (fsxContent, errors) -> fsxContent, errors |> List.map fst)\n",
    "|> _equal (\n",
    "    Some (\n",
    "        None,\n",
    "        [\"main.spi:\n",
    "Expected: whitespace\"]\n",
    "    )\n",
    ")"
   ]
  },
  {
   "cell_type": "code",
   "execution_count": null,
   "metadata": {
    "dotnet_interactive": {
     "language": "fsharp"
    },
    "polyglot_notebook": {
     "kernelName": "fsharp"
    }
   },
   "outputs": [
    {
     "name": "stdout",
     "output_type": "stream",
     "text": [
      "00:00:26 #91 [Debug] createTempDirectory / tempFolder: C:\\Users\\i574n\\AppData\\Local\\Temp\\!dotnet-repl\\20230926-2327-1403-0332-0e1b869789c1 / result: { CreationTime = 2023-09-26 11:27:14 PM\n",
      "  Exists = true }\r\n",
      "00:00:26 #92 [Debug] runWithTimeoutAsync / timeout: 60\r\n",
      "00:00:26 #93 [Debug] executeAsync / options: { Command =\n",
      "   \"dotnet \"C:\\home\\git\\polyglot\\deps\\The-Spiral-Language\\The Spiral Language 2\\artifacts\\bin\\The Spiral Language 2\\release\\Spiral.dll\" port=13807\"\n",
      "  WorkingDirectory = None\n",
      "  CancellationToken = Some System.Threading.CancellationToken\n",
      "  OnLine = Some <fun:buildCode@3-984> }\r\n",
      "00:00:27 #94 [Debug] > pwd: C:\\home\\git\\polyglot\\apps\\spiral\r\n",
      "00:00:27 #95 [Debug] > dll_path: C:\\home\\git\\polyglot\\deps\\The-Spiral-Language\\The Spiral Language 2\\artifacts\\bin\\The Spiral Language 2\\release\r\n",
      "00:00:28 #96 [Debug] sendJson / port: 13807 / json: {\"Ping\":true} / result.Length:\r\n",
      "00:00:28 #97 [Verbose] awaitCompiler / Ping / result: Some(null) / port: 13807 / retry: 0\r\n",
      "00:00:28 #98 [Debug] > Server bound to: http://localhost:13807\r\n",
      "00:00:28 #99 [Debug] buildFile / fsxContent:  / errors: [] / firstErrorMs:\r\n",
      "00:00:28 #100 [Debug] sendJson / port: 13807 / json: {\"FileOpen\":{\"spiText\":\"\\ninl main () =\\n    real\\n        inl real_unbox forall a. (obj : a) : a =\\n            typecase obj with\\n            | _ =\\u003E obj\\n        real_unbox ()\\n    ()\\n\",\"uri\":\"file:///C:\\\\Users\\\\i574n\\\\AppData\\\\Local\\\\Temp\\\\!dotnet-repl\\\\20230926-2327-1403-0332-0e1b869789c1\\\\main.spi\"}} / result.Length:\r\n",
      "00:00:28 #101 [Debug] sendJson / port: 13807 / json: {\"BuildFile\":{\"backend\":\"Fsharp\",\"uri\":\"file:///C:\\\\Users\\\\i574n\\\\AppData\\\\Local\\\\Temp\\\\!dotnet-repl\\\\20230926-2327-1403-0332-0e1b869789c1\\\\main.spi\"}} / result.Length:\r\n",
      "00:00:28 #102 [Debug] > Building C:\\Users\\i574n\\AppData\\Local\\Temp\\!dotnet-repl\\20230926-2327-1403-0332-0e1b869789c1\\main.spi\r\n",
      "00:00:30 #103 [Debug] buildFile / fsxContent:  / errors: [(Cannot apply a forall with a term., TracedError\n",
      "  { message = \"Cannot apply a forall with a term.\"\n",
      "    trace =\n",
      "     [\"Error trace on line: 2, column: 10 in module: C:\\Users\\i574n\\AppData\\Local\\Temp\\!dotnet-repl\\20230926-2327-1403-0332-0e1b869789c1\\main.spi.\r\n",
      "inl main () =\r\n",
      "         ^\r\n",
      "\";\n",
      "      \"Error trace on line: 4, column: 9 in module: C:\\Users\\i574n\\AppData\\Local\\Temp\\!dotnet-repl\\20230926-2327-1403-0332-0e1b869789c1\\main.spi.\r\n",
      "        inl real_unbox forall a. (obj : a) : a =\r\n",
      "        ^\r\n",
      "\";\n",
      "      \"Error trace on line: 7, column: 9 in module: C:\\Users\\i574n\\AppData\\Local\\Temp\\!dotnet-repl\\20230926-2327-1403-0332-0e1b869789c1\\main.spi.\r\n",
      "        real_unbox ()\r\n",
      "        ^\r\n",
      "\"] })] / firstErrorMs: Some(63831367637610.19)\r\n",
      "00:00:30 #104 [Debug] watchWithFilter / Disposing watch stream / fullPath: C:\\Users\\i574n\\AppData\\Local\\Temp\\!dotnet-repl\\20230926-2327-1403-0332-0e1b869789c1 / filter: FileName, LastWrite\r\n",
      "FSharpOption<Tuple<FSharpOption<String>,FSharpList<String>>>\r\n",
      "      Value:       - <null>\r\n",
      "      - [ Cannot apply a forall with a term. ]\r\n"
     ]
    }
   ],
   "source": [
    "//// test\n",
    "\n",
    "\"\"\"\n",
    "inl main () =\n",
    "    real\n",
    "        inl real_unbox forall a. (obj : a) : a =\n",
    "            typecase obj with\n",
    "            | _ => obj\n",
    "        real_unbox ()\n",
    "    ()\n",
    "\"\"\"\n",
    "|> buildCode 10000 None\n",
    "|> Async.runWithTimeout 10000\n",
    "|> Option.map (fun (fsxContent, errors) -> fsxContent, errors |> List.map fst)\n",
    "|> _equal (\n",
    "    Some (\n",
    "        None,\n",
    "        [\"Cannot apply a forall with a term.\"]\n",
    "    )\n",
    ")"
   ]
  },
  {
   "cell_type": "code",
   "execution_count": null,
   "metadata": {
    "dotnet_interactive": {
     "language": "fsharp"
    },
    "polyglot_notebook": {
     "kernelName": "fsharp"
    }
   },
   "outputs": [
    {
     "name": "stdout",
     "output_type": "stream",
     "text": [
      "00:00:30 #105 [Debug] createTempDirectory / tempFolder: C:\\Users\\i574n\\AppData\\Local\\Temp\\!dotnet-repl\\20230926-2327-1795-9594-9385c4c5d704 / result: { CreationTime = 2023-09-26 11:27:17 PM\n",
      "  Exists = true }\r\n",
      "00:00:30 #106 [Debug] runWithTimeoutAsync / timeout: 60\r\n",
      "00:00:30 #107 [Debug] executeAsync / options: { Command =\n",
      "   \"dotnet \"C:\\home\\git\\polyglot\\deps\\The-Spiral-Language\\The Spiral Language 2\\artifacts\\bin\\The Spiral Language 2\\release\\Spiral.dll\" port=13807\"\n",
      "  WorkingDirectory = None\n",
      "  CancellationToken = Some System.Threading.CancellationToken\n",
      "  OnLine = Some <fun:buildCode@3-984> }\r\n",
      "00:00:30 #108 [Debug] > pwd: C:\\home\\git\\polyglot\\apps\\spiral\r\n",
      "00:00:30 #109 [Debug] > dll_path: C:\\home\\git\\polyglot\\deps\\The-Spiral-Language\\The Spiral Language 2\\artifacts\\bin\\The Spiral Language 2\\release\r\n",
      "00:00:32 #110 [Debug] sendJson / port: 13807 / json: {\"Ping\":true} / result.Length:\r\n",
      "00:00:32 #111 [Verbose] awaitCompiler / Ping / result: Some(null) / port: 13807 / retry: 0\r\n",
      "00:00:32 #112 [Debug] > Server bound to: http://localhost:13807\r\n",
      "00:00:32 #113 [Debug] buildFile / fsxContent:  / errors: [] / firstErrorMs:\r\n",
      "00:00:32 #114 [Debug] sendJson / port: 13807 / json: {\"FileOpen\":{\"spiText\":\"\\ninl main () =\\n    real\\n        inl real_unbox forall a. (obj : a) : a =\\n            typecase obj with\\n            | _ =\\u003E obj\\n        real_unbox \\u0060i32 1\\n\",\"uri\":\"file:///C:\\\\Users\\\\i574n\\\\AppData\\\\Local\\\\Temp\\\\!dotnet-repl\\\\20230926-2327-1795-9594-9385c4c5d704\\\\main.spi\"}} / result.Length:\r\n",
      "00:00:32 #115 [Debug] sendJson / port: 13807 / json: {\"BuildFile\":{\"backend\":\"Fsharp\",\"uri\":\"file:///C:\\\\Users\\\\i574n\\\\AppData\\\\Local\\\\Temp\\\\!dotnet-repl\\\\20230926-2327-1795-9594-9385c4c5d704\\\\main.spi\"}} / result.Length:\r\n",
      "00:00:33 #116 [Debug] > Building C:\\Users\\i574n\\AppData\\Local\\Temp\\!dotnet-repl\\20230926-2327-1795-9594-9385c4c5d704\\main.spi\r\n",
      "00:00:35 #117 [Debug] buildFile / fsxContent:  / errors: [(The main function should not have a forall., TracedError { message = \"The main function should not have a forall.\"\n",
      "              trace = [] })] / firstErrorMs: Some(63831367642520)\r\n",
      "00:00:35 #118 [Debug] watchWithFilter / Disposing watch stream / fullPath: C:\\Users\\i574n\\AppData\\Local\\Temp\\!dotnet-repl\\20230926-2327-1795-9594-9385c4c5d704 / filter: FileName, LastWrite\r\n",
      "FSharpOption<Tuple<FSharpOption<String>,FSharpList<String>>>\r\n",
      "      Value:       - <null>\r\n",
      "      - [ The main function should not have a forall. ]\r\n"
     ]
    }
   ],
   "source": [
    "//// test\n",
    "\n",
    "\"\"\"\n",
    "inl main () =\n",
    "    real\n",
    "        inl real_unbox forall a. (obj : a) : a =\n",
    "            typecase obj with\n",
    "            | _ => obj\n",
    "        real_unbox `i32 1\n",
    "\"\"\"\n",
    "|> buildCode 10000 None\n",
    "|> Async.runWithTimeout 10000\n",
    "|> Option.map (fun (fsxContent, errors) -> fsxContent, errors |> List.map fst)\n",
    "|> _equal (\n",
    "    Some (\n",
    "        None,\n",
    "        [\"The main function should not have a forall.\"]\n",
    "    )\n",
    ")"
   ]
  },
  {
   "cell_type": "code",
   "execution_count": null,
   "metadata": {
    "dotnet_interactive": {
     "language": "fsharp"
    },
    "polyglot_notebook": {
     "kernelName": "fsharp"
    }
   },
   "outputs": [
    {
     "name": "stdout",
     "output_type": "stream",
     "text": [
      "00:00:35 #119 [Debug] createTempDirectory / tempFolder: C:\\Users\\i574n\\AppData\\Local\\Temp\\!dotnet-repl\\20230926-2327-2298-9878-96e9d7b6ab22 / result: { CreationTime = 2023-09-26 11:27:22 PM\n",
      "  Exists = true }\r\n",
      "00:00:35 #120 [Debug] runWithTimeoutAsync / timeout: 60\r\n",
      "00:00:35 #121 [Debug] executeAsync / options: { Command =\n",
      "   \"dotnet \"C:\\home\\git\\polyglot\\deps\\The-Spiral-Language\\The Spiral Language 2\\artifacts\\bin\\The Spiral Language 2\\release\\Spiral.dll\" port=13807\"\n",
      "  WorkingDirectory = None\n",
      "  CancellationToken = Some System.Threading.CancellationToken\n",
      "  OnLine = Some <fun:buildCode@3-984> }\r\n",
      "00:00:36 #122 [Debug] > pwd: C:\\home\\git\\polyglot\\apps\\spiral\r\n",
      "00:00:36 #123 [Debug] > dll_path: C:\\home\\git\\polyglot\\deps\\The-Spiral-Language\\The Spiral Language 2\\artifacts\\bin\\The Spiral Language 2\\release\r\n",
      "00:00:37 #124 [Debug] sendJson / port: 13807 / json: {\"Ping\":true} / result.Length:\r\n",
      "00:00:37 #125 [Verbose] awaitCompiler / Ping / result: Some(null) / port: 13807 / retry: 0\r\n",
      "00:00:37 #126 [Debug] > Server bound to: http://localhost:13807\r\n",
      "00:00:37 #127 [Debug] buildFile / fsxContent:  / errors: [] / firstErrorMs:\r\n",
      "00:00:37 #128 [Debug] sendJson / port: 13807 / json: {\"FileOpen\":{\"spiText\":\"\\ninl init_series start end inc =\\n    inl total : f64 = conv ((end - start) / inc) \\u002B 1\\n    listm.init total (conv \\u003E\\u003E (*) inc \\u003E\\u003E (\\u002B) start) : list f64\\n\\ntype integration = (f64 -\\u003E f64) -\\u003E f64 -\\u003E f64 -\\u003E f64\\n\\ninl integral dt : integration =\\n    fun f a b =\\u003E\\n        init_series (a \\u002B dt / 2) (b - dt / 2) dt\\n        |\\u003E listm.map (f \\u003E\\u003E (*) dt)\\n        |\\u003E listm.fold (\\u002B) 0\\n\\ninl main () =\\n    integral 0.1 (fun x =\\u003E x ** 2) 0 1\\n\",\"uri\":\"file:///C:\\\\Users\\\\i574n\\\\AppData\\\\Local\\\\Temp\\\\!dotnet-repl\\\\20230926-2327-2298-9878-96e9d7b6ab22\\\\main.spi\"}} / result.Length:\r\n",
      "00:00:37 #129 [Debug] sendJson / port: 13807 / json: {\"BuildFile\":{\"backend\":\"Fsharp\",\"uri\":\"file:///C:\\\\Users\\\\i574n\\\\AppData\\\\Local\\\\Temp\\\\!dotnet-repl\\\\20230926-2327-2298-9878-96e9d7b6ab22\\\\main.spi\"}} / result.Length:\r\n",
      "00:00:38 #130 [Debug] > Building C:\\Users\\i574n\\AppData\\Local\\Temp\\!dotnet-repl\\20230926-2327-2298-9878-96e9d7b6ab22\\main.spi\r\n",
      "00:00:39 #131 [Debug] buildFile / fsxContent: Some(0.3325000000000001\n",
      ") / errors: [] / firstErrorMs:\r\n",
      "00:00:39 #132 [Debug] watchWithFilter / Disposing watch stream / fullPath: C:\\Users\\i574n\\AppData\\Local\\Temp\\!dotnet-repl\\20230926-2327-2298-9878-96e9d7b6ab22 / filter: FileName, LastWrite\r\n",
      "FSharpOption<Tuple<FSharpOption<String>,FSharpList<String>>>\r\n",
      "      Value:       - FSharpOption<String>\r\n",
      "          Value: 0.3325000000000001\n",
      "\r\n",
      "      - [  ]\r\n"
     ]
    }
   ],
   "source": [
    "//// test\n",
    "\n",
    "\"\"\"\n",
    "inl init_series start end inc =\n",
    "    inl total : f64 = conv ((end - start) / inc) + 1\n",
    "    listm.init total (conv >> (*) inc >> (+) start) : list f64\n",
    "\n",
    "type integration = (f64 -> f64) -> f64 -> f64 -> f64\n",
    "\n",
    "inl integral dt : integration =\n",
    "    fun f a b =>\n",
    "        init_series (a + dt / 2) (b - dt / 2) dt\n",
    "        |> listm.map (f >> (*) dt)\n",
    "        |> listm.fold (+) 0\n",
    "\n",
    "inl main () =\n",
    "    integral 0.1 (fun x => x ** 2) 0 1\n",
    "\"\"\"\n",
    "|> buildCode 10000 None\n",
    "|> Async.runWithTimeout 10000\n",
    "|> Option.map (fun (fsxContent, errors) -> fsxContent, errors |> List.map fst)\n",
    "|> _equal (\n",
    "    Some (\n",
    "        Some \"0.3325000000000001\\n\",\n",
    "        []\n",
    "    )\n",
    ")"
   ]
  },
  {
   "cell_type": "code",
   "execution_count": null,
   "metadata": {
    "dotnet_interactive": {
     "language": "fsharp"
    },
    "polyglot_notebook": {
     "kernelName": "fsharp"
    }
   },
   "outputs": [
    {
     "name": "stdout",
     "output_type": "stream",
     "text": [
      "00:00:39 #133 [Debug] createTempDirectory / tempFolder: C:\\Users\\i574n\\AppData\\Local\\Temp\\!dotnet-repl\\20230926-2327-2717-1739-1d913395c3ec / result: { CreationTime = 2023-09-26 11:27:27 PM\n",
      "  Exists = true }\r\n",
      "00:00:39 #134 [Debug] runWithTimeoutAsync / timeout: 60\r\n",
      "00:00:39 #135 [Debug] executeAsync / options: { Command =\n",
      "   \"dotnet \"C:\\home\\git\\polyglot\\deps\\The-Spiral-Language\\The Spiral Language 2\\artifacts\\bin\\The Spiral Language 2\\release\\Spiral.dll\" port=13807\"\n",
      "  WorkingDirectory = None\n",
      "  CancellationToken = Some System.Threading.CancellationToken\n",
      "  OnLine = Some <fun:buildCode@3-984> }\r\n",
      "00:00:40 #136 [Debug] > pwd: C:\\home\\git\\polyglot\\apps\\spiral\r\n",
      "00:00:40 #137 [Debug] > dll_path: C:\\home\\git\\polyglot\\deps\\The-Spiral-Language\\The Spiral Language 2\\artifacts\\bin\\The Spiral Language 2\\release\r\n",
      "00:00:41 #138 [Debug] sendJson / port: 13807 / json: {\"Ping\":true} / result.Length:\r\n",
      "00:00:41 #139 [Verbose] awaitCompiler / Ping / result: Some(null) / port: 13807 / retry: 0\r\n",
      "00:00:41 #140 [Debug] > Server bound to: http://localhost:13807\r\n",
      "00:00:41 #141 [Debug] buildFile / fsxContent:  / errors: [] / firstErrorMs:\r\n",
      "00:00:41 #142 [Debug] sendJson / port: 13807 / json: {\"FileOpen\":{\"spiText\":\"\\ninl init_series start end inc =\\n    inl total : f64 = conv ((end - start) / inc) \\u002B 1\\n    listm.init total (conv \\u003E\\u003E (*) inc \\u003E\\u003E (\\u002B) start) : list f64\\n\\ntype integration = (f64 -\\u003E f64) -\\u003E f64 -\\u003E f64 -\\u003E f64\\n\\ninl integral dt : integration =\\n    fun f a b =\\u003E\\n        init_series (a \\u002B dt / 2) (b - dt / 2) dt\\n        |\\u003E listm.map (f \\u003E\\u003E (*) dt)\\n        |\\u003E listm.fold (\\u002B) 0\\n\\ninl main () =\\n    integral 0.01 (fun x =\\u003E x ** 2) 0 1\\n\",\"uri\":\"file:///C:\\\\Users\\\\i574n\\\\AppData\\\\Local\\\\Temp\\\\!dotnet-repl\\\\20230926-2327-2717-1739-1d913395c3ec\\\\main.spi\"}} / result.Length:\r\n",
      "00:00:41 #143 [Debug] sendJson / port: 13807 / json: {\"BuildFile\":{\"backend\":\"Fsharp\",\"uri\":\"file:///C:\\\\Users\\\\i574n\\\\AppData\\\\Local\\\\Temp\\\\!dotnet-repl\\\\20230926-2327-2717-1739-1d913395c3ec\\\\main.spi\"}} / result.Length:\r\n",
      "00:00:42 #144 [Debug] > Building C:\\Users\\i574n\\AppData\\Local\\Temp\\!dotnet-repl\\20230926-2327-2717-1739-1d913395c3ec\\main.spi\r\n",
      "00:00:43 #145 [Debug] > Stack overflow.\r\n",
      "00:00:43 #146 [Debug] > Repeat 3 times:\r\n",
      "00:00:43 #147 [Debug] > --------------------------------\r\n",
      "00:00:43 #148 [Debug] >    at Spiral.PartEval.Main.term@655-65(TopEnv, System.Collections.Generic.Dictionary`2<E,System.Tuple`2<System.Collections.Generic.Dictionary`2<ConsedNode`1<System.Tuple`2<RData[],Ty[]>>,System.Tuple`3<Microsoft.FSharp.Core.FSharpOption`1<TypedBind[]>,Microsoft.FSharp.Core.FSharpOption`1<Ty>,Microsoft.FSharp.Core.FSharpOption`1<System.String>>>,HashConsTable>>, System.Collections.Generic.Dictionary`2<E,System.Tuple`2<System.Collections.Generic.Dictionary`2<ConsedNode`1<System.Tuple`4<RData[],Ty[],Ty,Ty>>,Microsoft.FSharp.Core.FSharpOption`1<System.Tuple`2<Data,TypedBind[]>>>,HashConsTable>>, System.Collections.Generic.Dictionary`2<T,System.Tuple`2<System.Collections.Generic.Dictionary`2<ConsedNode`1<Ty[]>,Microsoft.FSharp.Core.FSharpOption`1<Ty>>,HashConsTable>>, LangEnv, E)\r\n",
      "00:00:43 #149 [Debug] >    at Spiral.PartEval.Main.term@655-65(TopEnv, System.Collections.Generic.Dictionary`2<E,System.Tuple`2<System.Collections.Generic.Dictionary`2<ConsedNode`1<System.Tuple`2<RData[],Ty[]>>,System.Tuple`3<Microsoft.FSharp.Core.FSharpOption`1<TypedBind[]>,Microsoft.FSharp.Core.FSharpOption`1<Ty>,Microsoft.FSharp.Core.FSharpOption`1<System.String>>>,HashConsTable>>, System.Collections.Generic.Dictionary`2<E,System.Tuple`2<System.Collections.Generic.Dictionary`2<ConsedNode`1<System.Tuple`4<RData[],Ty[],Ty,Ty>>,Microsoft.FSharp.Core.FSharpOption`1<System.Tuple`2<Data,TypedBind[]>>>,HashConsTable>>, System.Collections.Generic.Dictionary`2<T,System.Tuple`2<System.Collections.Generic.Dictionary`2<ConsedNode`1<Ty[]>,Microsoft.FSharp.Core.FSharpOption`1<Ty>>,HashConsTable>>, LangEnv, E)\r\n",
      "00:00:43 #150 [Debug] >    at System.Runtime.CompilerServices.RuntimeHelpers.DispatchTailCalls(IntPtr, Void (IntPtr, Byte ByRef, System.Runtime.CompilerServices.PortableTailCallFrame*), Byte ByRef)\r\n",
      "00:00:43 #151 [Debug] > --------------------------------\r\n",
      "00:00:43 #152 [Debug] >    at Spiral.PartEval.Main.term@655-65(TopEnv, System.Collections.Generic.Dictionary`2<E,System.Tuple`2<System.Collections.Generic.Dictionary`2<ConsedNode`1<System.Tuple`2<RData[],Ty[]>>,System.Tuple`3<Microsoft.FSharp.Core.FSharpOption`1<TypedBind[]>,Microsoft.FSharp.Core.FSharpOption`1<Ty>,Microsoft.FSharp.Core.FSharpOption`1<System.String>>>,HashConsTable>>, System.Collections.Generic.Dictionary`2<E,System.Tuple`2<System.Collections.Generic.Dictionary`2<ConsedNode`1<System.Tuple`4<RData[],Ty[],Ty,Ty>>,Microsoft.FSharp.Core.FSharpOption`1<System.Tuple`2<Data,TypedBind[]>>>,HashConsTable>>, System.Collections.Generic.Dictionary`2<T,System.Tuple`2<System.Collections.Generic.Dictionary`2<ConsedNode`1<Ty[]>,Microsoft.FSharp.Core.FSharpOption`1<Ty>>,HashConsTable>>, LangEnv, E)\r\n",
      "00:00:43 #153 [Debug] >    at Spiral.PartEval.Main.term@655-65(TopEnv, System.Collections.Generic.Dictionary`2<E,System.Tuple`2<System.Collections.Generic.Dictionary`2<ConsedNode`1<System.Tuple`2<RData[],Ty[]>>,System.Tuple`3<Microsoft.FSharp.Core.FSharpOption`1<TypedBind[]>,Microsoft.FSharp.Core.FSharpOption`1<Ty>,Microsoft.FSharp.Core.FSharpOption`1<System.String>>>,HashConsTable>>, System.Collections.Generic.Dictionary`2<E,System.Tuple`2<System.Collections.Generic.Dictionary`2<ConsedNode`1<System.Tuple`4<RData[],Ty[],Ty,Ty>>,Microsoft.FSharp.Core.FSharpOption`1<System.Tuple`2<Data,TypedBind[]>>>,HashConsTable>>, System.Collections.Generic.Dictionary`2<T,System.Tuple`2<System.Collections.Generic.Dictionary`2<ConsedNode`1<Ty[]>,Microsoft.FSharp.Core.FSharpOption`1<Ty>>,HashConsTable>>, LangEnv, E)\r\n",
      "00:00:43 #154 [Debug] >    at Spiral.PartEval.Main.term@655-65(TopEnv, System.Collections.Generic.Dictionary`2<E,System.Tuple`2<System.Collections.Generic.Dictionary`2<ConsedNode`1<System.Tuple`2<RData[],Ty[]>>,System.Tuple`3<Microsoft.FSharp.Core.FSharpOption`1<TypedBind[]>,Microsoft.FSharp.Core.FSharpOption`1<Ty>,Microsoft.FSharp.Core.FSharpOption`1<System.String>>>,HashConsTable>>, System.Collections.Generic.Dictionary`2<E,System.Tuple`2<System.Collections.Generic.Dictionary`2<ConsedNode`1<System.Tuple`4<RData[],Ty[],Ty,Ty>>,Microsoft.FSharp.Core.FSharpOption`1<System.Tuple`2<Data,TypedBind[]>>>,HashConsTable>>, System.Collections.Generic.Dictionary`2<T,System.Tuple`2<System.Collections.Generic.Dictionary`2<ConsedNode`1<Ty[]>,Microsoft.FSharp.Core.FSharpOption`1<Ty>>,HashConsTable>>, LangEnv, E)\r\n",
      "00:00:43 #155 [Debug] >    at System.Runtime.CompilerServices.RuntimeHelpers.DispatchTailCalls(IntPtr, Void (IntPtr, Byte ByRef, System.Runtime.CompilerServices.PortableTailCallFrame*), Byte ByRef)\r\n",
      "00:00:43 #156 [Debug] >    at Spiral.PartEval.Main.term@655-65(TopEnv, System.Collections.Generic.Dictionary`2<E,System.Tuple`2<System.Collections.Generic.Dictionary`2<ConsedNode`1<System.Tuple`2<RData[],Ty[]>>,System.Tuple`3<Microsoft.FSharp.Core.FSharpOption`1<TypedBind[]>,Microsoft.FSharp.Core.FSharpOption`1<Ty>,Microsoft.FSharp.Core.FSharpOption`1<System.String>>>,HashConsTable>>, System.Collections.Generic.Dictionary`2<E,System.Tuple`2<System.Collections.Generic.Dictionary`2<ConsedNode`1<System.Tuple`4<RData[],Ty[],Ty,Ty>>,Microsoft.FSharp.Core.FSharpOption`1<System.Tuple`2<Data,TypedBind[]>>>,HashConsTable>>, System.Collections.Generic.Dictionary`2<T,System.Tuple`2<System.Collections.Generic.Dictionary`2<ConsedNode`1<Ty[]>,Microsoft.FSharp.Core.FSharpOption`1<Ty>>,HashConsTable>>, LangEnv, E)\r\n",
      "00:00:43 #157 [Debug] >    at Spiral.PartEval.Main.term@655-65(TopEnv, System.Collections.Generic.Dictionary`2<E,System.Tuple`2<System.Collections.Generic.Dictionary`2<ConsedNode`1<System.Tuple`2<RData[],Ty[]>>,System.Tuple`3<Microsoft.FSharp.Core.FSharpOption`1<TypedBind[]>,Microsoft.FSharp.Core.FSharpOption`1<Ty>,Microsoft.FSharp.Core.FSharpOption`1<System.String>>>,HashConsTable>>, System.Collections.Generic.Dictionary`2<E,System.Tuple`2<System.Collections.Generic.Dictionary`2<ConsedNode`1<System.Tuple`4<RData[],Ty[],Ty,Ty>>,Microsoft.FSharp.Core.FSharpOption`1<System.Tuple`2<Data,TypedBind[]>>>,HashConsTable>>, System.Collections.Generic.Dictionary`2<T,System.Tuple`2<System.Collections.Generic.Dictionary`2<ConsedNode`1<Ty[]>,Microsoft.FSharp.Core.FSharpOption`1<Ty>>,HashConsTable>>, LangEnv, E)\r\n",
      "00:00:43 #158 [Debug] >    at System.Runtime.CompilerServices.RuntimeHelpers.DispatchTailCalls(IntPtr, Void (IntPtr, Byte ByRef, System.Runtime.CompilerServices.PortableTailCallFrame*), Byte ByRef)\r\n",
      "00:00:43 #159 [Debug] >    at Spiral.PartEval.Main.term@655-65(TopEnv, System.Collections.Generic.Dictionary`2<E,System.Tuple`2<System.Collections.Generic.Dictionary`2<ConsedNode`1<System.Tuple`2<RData[],Ty[]>>,System.Tuple`3<Microsoft.FSharp.Core.FSharpOption`1<TypedBind[]>,Microsoft.FSharp.Core.FSharpOption`1<Ty>,Microsoft.FSharp.Core.FSharpOption`1<System.String>>>,HashConsTable>>, System.Collections.Generic.Dictionary`2<E,System.Tuple`2<System.Collections.Generic.Dictionary`2<ConsedNode`1<System.Tuple`4<RData[],Ty[],Ty,Ty>>,Microsoft.FSharp.Core.FSharpOption`1<System.Tuple`2<Data,TypedBind[]>>>,HashConsTable>>, System.Collections.Generic.Dictionary`2<T,System.Tuple`2<System.Collections.Generic.Dictionary`2<ConsedNode`1<Ty[]>,Microsoft.FSharp.Core.FSharpOption`1<Ty>>,HashConsTable>>, LangEnv, E)\r\n",
      "00:00:43 #160 [Debug] >    at Spiral.PartEval.Main.term@655-65(TopEnv, System.Collections.Generic.Dictionary`2<E,System.Tuple`2<System.Collections.Generic.Dictionary`2<ConsedNode`1<System.Tuple`2<RData[],Ty[]>>,System.Tuple`3<Microsoft.FSharp.Core.FSharpOption`1<TypedBind[]>,Microsoft.FSharp.Core.FSharpOption`1<Ty>,Microsoft.FSharp.Core.FSharpOption`1<System.String>>>,HashConsTable>>, System.Collections.Generic.Dictionary`2<E,System.Tuple`2<System.Collections.Generic.Dictionary`2<ConsedNode`1<System.Tuple`4<RData[],Ty[],Ty,Ty>>,Microsoft.FSharp.Core.FSharpOption`1<System.Tuple`2<Data,TypedBind[]>>>,HashConsTable>>, System.Collections.Generic.Dictionary`2<T,System.Tuple`2<System.Collections.Generic.Dictionary`2<ConsedNode`1<Ty[]>,Microsoft.FSharp.Core.FSharpOption`1<Ty>>,HashConsTable>>, LangEnv, E)\r\n",
      "00:00:43 #161 [Debug] >    at System.Runtime.CompilerServices.RuntimeHelpers.DispatchTailCalls(IntPtr, Void (IntPtr, Byte ByRef, System.Runtime.CompilerServices.PortableTailCallFrame*), Byte ByRef)\r\n",
      "00:00:43 #162 [Debug] >    at Spiral.PartEval.Main.term@655-65(TopEnv, System.Collections.Generic.Dictionary`2<E,System.Tuple`2<System.Collections.Generic.Dictionary`2<ConsedNode`1<System.Tuple`2<RData[],Ty[]>>,System.Tuple`3<Microsoft.FSharp.Core.FSharpOption`1<TypedBind[]>,Microsoft.FSharp.Core.FSharpOption`1<Ty>,Microsoft.FSharp.Core.FSharpOption`1<System.String>>>,HashConsTable>>, System.Collections.Generic.Dictionary`2<E,System.Tuple`2<System.Collections.Generic.Dictionary`2<ConsedNode`1<System.Tuple`4<RData[],Ty[],Ty,Ty>>,Microsoft.FSharp.Core.FSharpOption`1<System.Tuple`2<Data,TypedBind[]>>>,HashConsTable>>, System.Collections.Generic.Dictionary`2<T,System.Tuple`2<System.Collections.Generic.Dictionary`2<ConsedNode`1<Ty[]>,Microsoft.FSharp.Core.FSharpOption`1<Ty>>,HashConsTable>>, LangEnv, E)\r\n",
      "00:00:43 #163 [Debug] >    at Spiral.PartEval.Main.term@655-65(TopEnv, System.Collections.Generic.Dictionary`2<E,System.Tuple`2<System.Collections.Generic.Dictionary`2<ConsedNode`1<System.Tuple`2<RData[],Ty[]>>,System.Tuple`3<Microsoft.FSharp.Core.FSharpOption`1<TypedBind[]>,Microsoft.FSharp.Core.FSharpOption`1<Ty>,Microsoft.FSharp.Core.FSharpOption`1<System.String>>>,HashConsTable>>, System.Collections.Generic.Dictionary`2<E,System.Tuple`2<System.Collections.Generic.Dictionary`2<ConsedNode`1<System.Tuple`4<RData[],Ty[],Ty,Ty>>,Microsoft.FSharp.Core.FSharpOption`1<System.Tuple`2<Data,TypedBind[]>>>,HashConsTable>>, System.Collections.Generic.Dictionary`2<T,System.Tuple`2<System.Collections.Generic.Dictionary`2<ConsedNode`1<Ty[]>,Microsoft.FSharp.Core.FSharpOption`1<Ty>>,HashConsTable>>, LangEnv, E)\r\n",
      "00:00:43 #164 [Debug] >    at System.Runtime.CompilerServices.RuntimeHelpers.DispatchTailCalls(IntPtr, Void (IntPtr, Byte ByRef, System.Runtime.CompilerServices.PortableTailCallFrame*), Byte ByRef)\r\n",
      "00:00:43 #165 [Debug] >    at Spiral.PartEval.Main.term@655-65(TopEnv, System.Collections.Generic.Dictionary`2<E,System.Tuple`2<System.Collections.Generic.Dictionary`2<ConsedNode`1<System.Tuple`2<RData[],Ty[]>>,System.Tuple`3<Microsoft.FSharp.Core.FSharpOption`1<TypedBind[]>,Microsoft.FSharp.Core.FSharpOption`1<Ty>,Microsoft.FSharp.Core.FSharpOption`1<System.String>>>,HashConsTable>>, System.Collections.Generic.Dictionary`2<E,System.Tuple`2<System.Collections.Generic.Dictionary`2<ConsedNode`1<System.Tuple`4<RData[],Ty[],Ty,Ty>>,Microsoft.FSharp.Core.FSharpOption`1<System.Tuple`2<Data,TypedBind[]>>>,HashConsTable>>, System.Collections.Generic.Dictionary`2<T,System.Tuple`2<System.Collections.Generic.Dictionary`2<ConsedNode`1<Ty[]>,Microsoft.FSharp.Core.FSharpOption`1<Ty>>,HashConsTable>>, LangEnv, E)\r\n",
      "00:00:43 #166 [Debug] >    at Spiral.PartEval.Main.term@655-65(TopEnv, System.Collections.Generic.Dictionary`2<E,System.Tuple`2<System.Collections.Generic.Dictionary`2<ConsedNode`1<System.Tuple`2<RData[],Ty[]>>,System.Tuple`3<Microsoft.FSharp.Core.FSharpOption`1<TypedBind[]>,Microsoft.FSharp.Core.FSharpOption`1<Ty>,Microsoft.FSharp.Core.FSharpOption`1<System.String>>>,HashConsTable>>, System.Collections.Generic.Dictionary`2<E,System.Tuple`2<System.Collections.Generic.Dictionary`2<ConsedNode`1<System.Tuple`4<RData[],Ty[],Ty,Ty>>,Microsoft.FSharp.Core.FSharpOption`1<System.Tuple`2<Data,TypedBind[]>>>,HashConsTable>>, System.Collections.Generic.Dictionary`2<T,System.Tuple`2<System.Collections.Generic.Dictionary`2<ConsedNode`1<Ty[]>,Microsoft.FSharp.Core.FSharpOption`1<Ty>>,HashConsTable>>, LangEnv, E)\r\n",
      "00:00:43 #167 [Debug] >    at System.Runtime.CompilerServices.RuntimeHelpers.DispatchTailCalls(IntPtr, Void (IntPtr, Byte ByRef, System.Runtime.CompilerServices.PortableTailCallFrame*), Byte ByRef)\r\n",
      "00:00:43 #168 [Debug] >    at Spiral.PartEval.Main.term@655-65(TopEnv, System.Collections.Generic.Dictionary`2<E,System.Tuple`2<System.Collections.Generic.Dictionary`2<ConsedNode`1<System.Tuple`2<RData[],Ty[]>>,System.Tuple`3<Microsoft.FSharp.Core.FSharpOption`1<TypedBind[]>,Microsoft.FSharp.Core.FSharpOption`1<Ty>,Microsoft.FSharp.Core.FSharpOption`1<System.String>>>,HashConsTable>>, System.Collections.Generic.Dictionary`2<E,System.Tuple`2<System.Collections.Generic.Dictionary`2<ConsedNode`1<System.Tuple`4<RData[],Ty[],Ty,Ty>>,Microsoft.FSharp.Core.FSharpOption`1<System.Tuple`2<Data,TypedBind[]>>>,HashConsTable>>, System.Collections.Generic.Dictionary`2<T,System.Tuple`2<System.Collections.Generic.Dictionary`2<ConsedNode`1<Ty[]>,Microsoft.FSharp.Core.FSharpOption`1<Ty>>,HashConsTable>>, LangEnv, E)\r\n",
      "00:00:43 #169 [Debug] >    at Spiral.PartEval.Main.term@655-65(TopEnv, System.Collections.Generic.Dictionary`2<E,System.Tuple`2<System.Collections.Generic.Dictionary`2<ConsedNode`1<System.Tuple`2<RData[],Ty[]>>,System.Tuple`3<Microsoft.FSharp.Core.FSharpOption`1<TypedBind[]>,Microsoft.FSharp.Core.FSharpOption`1<Ty>,Microsoft.FSharp.Core.FSharpOption`1<System.String>>>,HashConsTable>>, System.Collections.Generic.Dictionary`2<E,System.Tuple`2<System.Collections.Generic.Dictionary`2<ConsedNode`1<System.Tuple`4<RData[],Ty[],Ty,Ty>>,Microsoft.FSharp.Core.FSharpOption`1<System.Tuple`2<Data,TypedBind[]>>>,HashConsTable>>, System.Collections.Generic.Dictionary`2<T,System.Tuple`2<System.Collections.Generic.Dictionary`2<ConsedNode`1<Ty[]>,Microsoft.FSharp.Core.FSharpOption`1<Ty>>,HashConsTable>>, LangEnv, E)\r\n",
      "00:00:43 #170 [Debug] >    at System.Runtime.CompilerServices.RuntimeHelpers.DispatchTailCalls(IntPtr, Void (IntPtr, Byte ByRef, System.Runtime.CompilerServices.PortableTailCallFrame*), Byte ByRef)\r\n",
      "00:00:43 #171 [Debug] >    at Spiral.PartEval.Main.term@655-65(TopEnv, System.Collections.Generic.Dictionary`2<E,System.Tuple`2<System.Collections.Generic.Dictionary`2<ConsedNode`1<System.Tuple`2<RData[],Ty[]>>,System.Tuple`3<Microsoft.FSharp.Core.FSharpOption`1<TypedBind[]>,Microsoft.FSharp.Core.FSharpOption`1<Ty>,Microsoft.FSharp.Core.FSharpOption`1<System.String>>>,HashConsTable>>, System.Collections.Generic.Dictionary`2<E,System.Tuple`2<System.Collections.Generic.Dictionary`2<ConsedNode`1<System.Tuple`4<RData[],Ty[],Ty,Ty>>,Microsoft.FSharp.Core.FSharpOption`1<System.Tuple`2<Data,TypedBind[]>>>,HashConsTable>>, System.Collections.Generic.Dictionary`2<T,System.Tuple`2<System.Collections.Generic.Dictionary`2<ConsedNode`1<Ty[]>,Microsoft.FSharp.Core.FSharpOption`1<Ty>>,HashConsTable>>, LangEnv, E)\r\n",
      "00:00:43 #172 [Debug] >    at Spiral.PartEval.Main.term@655-65(TopEnv, System.Collections.Generic.Dictionary`2<E,System.Tuple`2<System.Collections.Generic.Dictionary`2<ConsedNode`1<System.Tuple`2<RData[],Ty[]>>,System.Tuple`3<Microsoft.FSharp.Core.FSharpOption`1<TypedBind[]>,Microsoft.FSharp.Core.FSharpOption`1<Ty>,Microsoft.FSharp.Core.FSharpOption`1<System.String>>>,HashConsTable>>, System.Collections.Generic.Dictionary`2<E,System.Tuple`2<System.Collections.Generic.Dictionary`2<ConsedNode`1<System.Tuple`4<RData[],Ty[],Ty,Ty>>,Microsoft.FSharp.Core.FSharpOption`1<System.Tuple`2<Data,TypedBind[]>>>,HashConsTable>>, System.Collections.Generic.Dictionary`2<T,System.Tuple`2<System.Collections.Generic.Dictionary`2<ConsedNode`1<Ty[]>,Microsoft.FSharp.Core.FSharpOption`1<Ty>>,HashConsTable>>, LangEnv, E)\r\n",
      "00:00:43 #173 [Debug] >    at System.Runtime.CompilerServices.RuntimeHelpers.DispatchTailCalls(IntPtr, Void (IntPtr, Byte ByRef, System.Runtime.CompilerServices.PortableTailCallFrame*), Byte ByRef)\r\n",
      "00:00:43 #174 [Debug] >    at Spiral.PartEval.Main.term@655-65(TopEnv, System.Collections.Generic.Dictionary`2<E,System.Tuple`2<System.Collections.Generic.Dictionary`2<ConsedNode`1<System.Tuple`2<RData[],Ty[]>>,System.Tuple`3<Microsoft.FSharp.Core.FSharpOption`1<TypedBind[]>,Microsoft.FSharp.Core.FSharpOption`1<Ty>,Microsoft.FSharp.Core.FSharpOption`1<System.String>>>,HashConsTable>>, System.Collections.Generic.Dictionary`2<E,System.Tuple`2<System.Collections.Generic.Dictionary`2<ConsedNode`1<System.Tuple`4<RData[],Ty[],Ty,Ty>>,Microsoft.FSharp.Core.FSharpOption`1<System.Tuple`2<Data,TypedBind[]>>>,HashConsTable>>, System.Collections.Generic.Dictionary`2<T,System.Tuple`2<System.Collections.Generic.Dictionary`2<ConsedNode`1<Ty[]>,Microsoft.FSharp.Core.FSharpOption`1<Ty>>,HashConsTable>>, LangEnv, E)\r\n",
      "00:00:43 #175 [Debug] >    at Spiral.PartEval.Main.term@655-65(TopEnv, System.Collections.Generic.Dictionary`2<E,System.Tuple`2<System.Collections.Generic.Dictionary`2<ConsedNode`1<System.Tuple`2<RData[],Ty[]>>,System.Tuple`3<Microsoft.FSharp.Core.FSharpOption`1<TypedBind[]>,Microsoft.FSharp.Core.FSharpOption`1<Ty>,Microsoft.FSharp.Core.FSharpOption`1<System.String>>>,HashConsTable>>, System.Collections.Generic.Dictionary`2<E,System.Tuple`2<System.Collections.Generic.Dictionary`2<ConsedNode`1<System.Tuple`4<RData[],Ty[],Ty,Ty>>,Microsoft.FSharp.Core.FSharpOption`1<System.Tuple`2<Data,TypedBind[]>>>,HashConsTable>>, System.Collections.Generic.Dictionary`2<T,System.Tuple`2<System.Collections.Generic.Dictionary`2<ConsedNode`1<Ty[]>,Microsoft.FSharp.Core.FSharpOption`1<Ty>>,HashConsTable>>, LangEnv, E)\r\n",
      "00:00:43 #176 [Debug] >    at System.Runtime.CompilerServices.RuntimeHelpers.DispatchTailCalls(IntPtr, Void (IntPtr, Byte ByRef, System.Runtime.CompilerServices.PortableTailCallFrame*), Byte ByRef)\r\n",
      "00:00:43 #177 [Debug] >    at Spiral.PartEval.Main.term@655-65(TopEnv, System.Collections.Generic.Dictionary`2<E,System.Tuple`2<System.Collections.Generic.Dictionary`2<ConsedNode`1<System.Tuple`2<RData[],Ty[]>>,System.Tuple`3<Microsoft.FSharp.Core.FSharpOption`1<TypedBind[]>,Microsoft.FSharp.Core.FSharpOption`1<Ty>,Microsoft.FSharp.Core.FSharpOption`1<System.String>>>,HashConsTable>>, System.Collections.Generic.Dictionary`2<E,System.Tuple`2<System.Collections.Generic.Dictionary`2<ConsedNode`1<System.Tuple`4<RData[],Ty[],Ty,Ty>>,Microsoft.FSharp.Core.FSharpOption`1<System.Tuple`2<Data,TypedBind[]>>>,HashConsTable>>, System.Collections.Generic.Dictionary`2<T,System.Tuple`2<System.Collections.Generic.Dictionary`2<ConsedNode`1<Ty[]>,Microsoft.FSharp.Core.FSharpOption`1<Ty>>,HashConsTable>>, LangEnv, E)\r\n",
      "00:00:43 #178 [Debug] >    at Spiral.PartEval.Main.term@655-65(TopEnv, System.Collections.Generic.Dictionary`2<E,System.Tuple`2<System.Collections.Generic.Dictionary`2<ConsedNode`1<System.Tuple`2<RData[],Ty[]>>,System.Tuple`3<Microsoft.FSharp.Core.FSharpOption`1<TypedBind[]>,Microsoft.FSharp.Core.FSharpOption`1<Ty>,Microsoft.FSharp.Core.FSharpOption`1<System.String>>>,HashConsTable>>, System.Collections.Generic.Dictionary`2<E,System.Tuple`2<System.Collections.Generic.Dictionary`2<ConsedNode`1<System.Tuple`4<RData[],Ty[],Ty,Ty>>,Microsoft.FSharp.Core.FSharpOption`1<System.Tuple`2<Data,TypedBind[]>>>,HashConsTable>>, System.Collections.Generic.Dictionary`2<T,System.Tuple`2<System.Collections.Generic.Dictionary`2<ConsedNode`1<Ty[]>,Microsoft.FSharp.Core.FSharpOption`1<Ty>>,HashConsTable>>, LangEnv, E)\r\n",
      "00:00:43 #179 [Debug] >    at System.Runtime.CompilerServices.RuntimeHelpers.DispatchTailCalls(IntPtr, Void (IntPtr, Byte ByRef, System.Runtime.CompilerServices.PortableTailCallFrame*), Byte ByRef)\r\n",
      "00:00:43 #180 [Debug] >    at Spiral.PartEval.Main.term@655-65(TopEnv, System.Collections.Generic.Dictionary`2<E,System.Tuple`2<System.Collections.Generic.Dictionary`2<ConsedNode`1<System.Tuple`2<RData[],Ty[]>>,System.Tuple`3<Microsoft.FSharp.Core.FSharpOption`1<TypedBind[]>,Microsoft.FSharp.Core.FSharpOption`1<Ty>,Microsoft.FSharp.Core.FSharpOption`1<System.String>>>,HashConsTable>>, System.Collections.Generic.Dictionary`2<E,System.Tuple`2<System.Collections.Generic.Dictionary`2<ConsedNode`1<System.Tuple`4<RData[],Ty[],Ty,Ty>>,Microsoft.FSharp.Core.FSharpOption`1<System.Tuple`2<Data,TypedBind[]>>>,HashConsTable>>, System.Collections.Generic.Dictionary`2<T,System.Tuple`2<System.Collections.Generic.Dictionary`2<ConsedNode`1<Ty[]>,Microsoft.FSharp.Core.FSharpOption`1<Ty>>,HashConsTable>>, LangEnv, E)\r\n",
      "00:00:43 #181 [Debug] >    at Spiral.PartEval.Main.term@655-65(TopEnv, System.Collections.Generic.Dictionary`2<E,System.Tuple`2<System.Collections.Generic.Dictionary`2<ConsedNode`1<System.Tuple`2<RData[],Ty[]>>,System.Tuple`3<Microsoft.FSharp.Core.FSharpOption`1<TypedBind[]>,Microsoft.FSharp.Core.FSharpOption`1<Ty>,Microsoft.FSharp.Core.FSharpOption`1<System.String>>>,HashConsTable>>, System.Collections.Generic.Dictionary`2<E,System.Tuple`2<System.Collections.Generic.Dictionary`2<ConsedNode`1<System.Tuple`4<RData[],Ty[],Ty,Ty>>,Microsoft.FSharp.Core.FSharpOption`1<System.Tuple`2<Data,TypedBind[]>>>,HashConsTable>>, System.Collections.Generic.Dictionary`2<T,System.Tuple`2<System.Collections.Generic.Dictionary`2<ConsedNode`1<Ty[]>,Microsoft.FSharp.Core.FSharpOption`1<Ty>>,HashConsTable>>, LangEnv, E)\r\n",
      "00:00:43 #182 [Debug] >    at System.Runtime.CompilerServices.RuntimeHelpers.DispatchTailCalls(IntPtr, Void (IntPtr, Byte ByRef, System.Runtime.CompilerServices.PortableTailCallFrame*), Byte ByRef)\r\n",
      "00:00:43 #183 [Debug] >    at Spiral.PartEval.Main.term@655-65(TopEnv, System.Collections.Generic.Dictionary`2<E,System.Tuple`2<System.Collections.Generic.Dictionary`2<ConsedNode`1<System.Tuple`2<RData[],Ty[]>>,System.Tuple`3<Microsoft.FSharp.Core.FSharpOption`1<TypedBind[]>,Microsoft.FSharp.Core.FSharpOption`1<Ty>,Microsoft.FSharp.Core.FSharpOption`1<System.String>>>,HashConsTable>>, System.Collections.Generic.Dictionary`2<E,System.Tuple`2<System.Collections.Generic.Dictionary`2<ConsedNode`1<System.Tuple`4<RData[],Ty[],Ty,Ty>>,Microsoft.FSharp.Core.FSharpOption`1<System.Tuple`2<Data,TypedBind[]>>>,HashConsTable>>, System.Collections.Generic.Dictionary`2<T,System.Tuple`2<System.Collections.Generic.Dictionary`2<ConsedNode`1<Ty[]>,Microsoft.FSharp.Core.FSharpOption`1<Ty>>,HashConsTable>>, LangEnv, E)\r\n",
      "00:00:43 #184 [Debug] >    at Spiral.PartEval.Main.term@655-65(TopEnv, System.Collections.Generic.Dictionary`2<E,System.Tuple`2<System.Collections.Generic.Dictionary`2<ConsedNode`1<System.Tuple`2<RData[],Ty[]>>,System.Tuple`3<Microsoft.FSharp.Core.FSharpOption`1<TypedBind[]>,Microsoft.FSharp.Core.FSharpOption`1<Ty>,Microsoft.FSharp.Core.FSharpOption`1<System.String>>>,HashConsTable>>, System.Collections.Generic.Dictionary`2<E,System.Tuple`2<System.Collections.Generic.Dictionary`2<ConsedNode`1<System.Tuple`4<RData[],Ty[],Ty,Ty>>,Microsoft.FSharp.Core.FSharpOption`1<System.Tuple`2<Data,TypedBind[]>>>,HashConsTable>>, System.Collections.Generic.Dictionary`2<T,System.Tuple`2<System.Collections.Generic.Dictionary`2<ConsedNode`1<Ty[]>,Microsoft.FSharp.Core.FSharpOption`1<Ty>>,HashConsTable>>, LangEnv, E)\r\n",
      "00:00:43 #185 [Debug] >    at System.Runtime.CompilerServices.RuntimeHelpers.DispatchTailCalls(IntPtr, Void (IntPtr, Byte ByRef, System.Runtime.CompilerServices.PortableTailCallFrame*), Byte ByRef)\r\n",
      "00:00:43 #186 [Debug] >    at Spiral.PartEval.Main.term@655-65(TopEnv, System.Collections.Generic.Dictionary`2<E,System.Tuple`2<System.Collections.Generic.Dictionary`2<ConsedNode`1<System.Tuple`2<RData[],Ty[]>>,System.Tuple`3<Microsoft.FSharp.Core.FSharpOption`1<TypedBind[]>,Microsoft.FSharp.Core.FSharpOption`1<Ty>,Microsoft.FSharp.Core.FSharpOption`1<System.String>>>,HashConsTable>>, System.Collections.Generic.Dictionary`2<E,System.Tuple`2<System.Collections.Generic.Dictionary`2<ConsedNode`1<System.Tuple`4<RData[],Ty[],Ty,Ty>>,Microsoft.FSharp.Core.FSharpOption`1<System.Tuple`2<Data,TypedBind[]>>>,HashConsTable>>, System.Collections.Generic.Dictionary`2<T,System.Tuple`2<System.Collections.Generic.Dictionary`2<ConsedNode`1<Ty[]>,Microsoft.FSharp.Core.FSharpOption`1<Ty>>,HashConsTable>>, LangEnv, E)\r\n",
      "00:00:43 #187 [Debug] >    at Spiral.PartEval.Main.term@655-65(TopEnv, System.Collections.Generic.Dictionary`2<E,System.Tuple`2<System.Collections.Generic.Dictionary`2<ConsedNode`1<System.Tuple`2<RData[],Ty[]>>,System.Tuple`3<Microsoft.FSharp.Core.FSharpOption`1<TypedBind[]>,Microsoft.FSharp.Core.FSharpOption`1<Ty>,Microsoft.FSharp.Core.FSharpOption`1<System.String>>>,HashConsTable>>, System.Collections.Generic.Dictionary`2<E,System.Tuple`2<System.Collections.Generic.Dictionary`2<ConsedNode`1<System.Tuple`4<RData[],Ty[],Ty,Ty>>,Microsoft.FSharp.Core.FSharpOption`1<System.Tuple`2<Data,TypedBind[]>>>,HashConsTable>>, System.Collections.Generic.Dictionary`2<T,System.Tuple`2<System.Collections.Generic.Dictionary`2<ConsedNode`1<Ty[]>,Microsoft.FSharp.Core.FSharpOption`1<Ty>>,HashConsTable>>, LangEnv, E)\r\n",
      "00:00:43 #188 [Debug] >    at System.Runtime.CompilerServices.RuntimeHelpers.DispatchTailCalls(IntPtr, Void (IntPtr, Byte ByRef, System.Runtime.CompilerServices.PortableTailCallFrame*), Byte ByRef)\r\n",
      "00:00:43 #189 [Debug] >    at Spiral.PartEval.Main.term@655-65(TopEnv, System.Collections.Generic.Dictionary`2<E,System.Tuple`2<System.Collections.Generic.Dictionary`2<ConsedNode`1<System.Tuple`2<RData[],Ty[]>>,System.Tuple`3<Microsoft.FSharp.Core.FSharpOption`1<TypedBind[]>,Microsoft.FSharp.Core.FSharpOption`1<Ty>,Microsoft.FSharp.Core.FSharpOption`1<System.String>>>,HashConsTable>>, System.Collections.Generic.Dictionary`2<E,System.Tuple`2<System.Collections.Generic.Dictionary`2<ConsedNode`1<System.Tuple`4<RData[],Ty[],Ty,Ty>>,Microsoft.FSharp.Core.FSharpOption`1<System.Tuple`2<Data,TypedBind[]>>>,HashConsTable>>, System.Collections.Generic.Dictionary`2<T,System.Tuple`2<System.Collections.Generic.Dictionary`2<ConsedNode`1<Ty[]>,Microsoft.FSharp.Core.FSharpOption`1<Ty>>,HashConsTable>>, LangEnv, E)\r\n",
      "00:00:43 #190 [Debug] >    at Spiral.PartEval.Main.term@655-65(TopEnv, System.Collections.Generic.Dictionary`2<E,System.Tuple`2<System.Collections.Generic.Dictionary`2<ConsedNode`1<System.Tuple`2<RData[],Ty[]>>,System.Tuple`3<Microsoft.FSharp.Core.FSharpOption`1<TypedBind[]>,Microsoft.FSharp.Core.FSharpOption`1<Ty>,Microsoft.FSharp.Core.FSharpOption`1<System.String>>>,HashConsTable>>, System.Collections.Generic.Dictionary`2<E,System.Tuple`2<System.Collections.Generic.Dictionary`2<ConsedNode`1<System.Tuple`4<RData[],Ty[],Ty,Ty>>,Microsoft.FSharp.Core.FSharpOption`1<System.Tuple`2<Data,TypedBind[]>>>,HashConsTable>>, System.Collections.Generic.Dictionary`2<T,System.Tuple`2<System.Collections.Generic.Dictionary`2<ConsedNode`1<Ty[]>,Microsoft.FSharp.Core.FSharpOption`1<Ty>>,HashConsTable>>, LangEnv, E)\r\n",
      "00:00:43 #191 [Debug] >    at System.Runtime.CompilerServices.RuntimeHelpers.DispatchTailCalls(IntPtr, Void (IntPtr, Byte ByRef, System.Runtime.CompilerServices.PortableTailCallFrame*), Byte ByRef)\r\n",
      "00:00:43 #192 [Debug] >    at Spiral.PartEval.Main.term@655-65(TopEnv, System.Collections.Generic.Dictionary`2<E,System.Tuple`2<System.Collections.Generic.Dictionary`2<ConsedNode`1<System.Tuple`2<RData[],Ty[]>>,System.Tuple`3<Microsoft.FSharp.Core.FSharpOption`1<TypedBind[]>,Microsoft.FSharp.Core.FSharpOption`1<Ty>,Microsoft.FSharp.Core.FSharpOption`1<System.String>>>,HashConsTable>>, System.Collections.Generic.Dictionary`2<E,System.Tuple`2<System.Collections.Generic.Dictionary`2<ConsedNode`1<System.Tuple`4<RData[],Ty[],Ty,Ty>>,Microsoft.FSharp.Core.FSharpOption`1<System.Tuple`2<Data,TypedBind[]>>>,HashConsTable>>, System.Collections.Generic.Dictionary`2<T,System.Tuple`2<System.Collections.Generic.Dictionary`2<ConsedNode`1<Ty[]>,Microsoft.FSharp.Core.FSharpOption`1<Ty>>,HashConsTable>>, LangEnv, E)\r\n",
      "00:00:43 #193 [Debug] >    at Spiral.PartEval.Main.term@655-65(TopEnv, System.Collections.Generic.Dictionary`2<E,System.Tuple`2<System.Collections.Generic.Dictionary`2<ConsedNode`1<System.Tuple`2<RData[],Ty[]>>,System.Tuple`3<Microsoft.FSharp.Core.FSharpOption`1<TypedBind[]>,Microsoft.FSharp.Core.FSharpOption`1<Ty>,Microsoft.FSharp.Core.FSharpOption`1<System.String>>>,HashConsTable>>, System.Collections.Generic.Dictionary`2<E,System.Tuple`2<System.Collections.Generic.Dictionary`2<ConsedNode`1<System.Tuple`4<RData[],Ty[],Ty,Ty>>,Microsoft.FSharp.Core.FSharpOption`1<System.Tuple`2<Data,TypedBind[]>>>,HashConsTable>>, System.Collections.Generic.Dictionary`2<T,System.Tuple`2<System.Collections.Generic.Dictionary`2<ConsedNode`1<Ty[]>,Microsoft.FSharp.Core.FSharpOption`1<Ty>>,HashConsTable>>, LangEnv, E)\r\n",
      "00:00:43 #194 [Debug] >    at System.Runtime.CompilerServices.RuntimeHelpers.DispatchTailCalls(IntPtr, Void (IntPtr, Byte ByRef, System.Runtime.CompilerServices.PortableTailCallFrame*), Byte ByRef)\r\n",
      "00:00:43 #195 [Debug] >    at Spiral.PartEval.Main.term@655-65(TopEnv, System.Collections.Generic.Dictionary`2<E,System.Tuple`2<System.Collections.Generic.Dictionary`2<ConsedNode`1<System.Tuple`2<RData[],Ty[]>>,System.Tuple`3<Microsoft.FSharp.Core.FSharpOption`1<TypedBind[]>,Microsoft.FSharp.Core.FSharpOption`1<Ty>,Microsoft.FSharp.Core.FSharpOption`1<System.String>>>,HashConsTable>>, System.Collections.Generic.Dictionary`2<E,System.Tuple`2<System.Collections.Generic.Dictionary`2<ConsedNode`1<System.Tuple`4<RData[],Ty[],Ty,Ty>>,Microsoft.FSharp.Core.FSharpOption`1<System.Tuple`2<Data,TypedBind[]>>>,HashConsTable>>, System.Collections.Generic.Dictionary`2<T,System.Tuple`2<System.Collections.Generic.Dictionary`2<ConsedNode`1<Ty[]>,Microsoft.FSharp.Core.FSharpOption`1<Ty>>,HashConsTable>>, LangEnv, E)\r\n",
      "00:00:43 #196 [Debug] >    at Spiral.PartEval.Main.term@655-65(TopEnv, System.Collections.Generic.Dictionary`2<E,System.Tuple`2<System.Collections.Generic.Dictionary`2<ConsedNode`1<System.Tuple`2<RData[],Ty[]>>,System.Tuple`3<Microsoft.FSharp.Core.FSharpOption`1<TypedBind[]>,Microsoft.FSharp.Core.FSharpOption`1<Ty>,Microsoft.FSharp.Core.FSharpOption`1<System.String>>>,HashConsTable>>, System.Collections.Generic.Dictionary`2<E,System.Tuple`2<System.Collections.Generic.Dictionary`2<ConsedNode`1<System.Tuple`4<RData[],Ty[],Ty,Ty>>,Microsoft.FSharp.Core.FSharpOption`1<System.Tuple`2<Data,TypedBind[]>>>,HashConsTable>>, System.Collections.Generic.Dictionary`2<T,System.Tuple`2<System.Collections.Generic.Dictionary`2<ConsedNode`1<Ty[]>,Microsoft.FSharp.Core.FSharpOption`1<Ty>>,HashConsTable>>, LangEnv, E)\r\n",
      "00:00:43 #197 [Debug] >    at System.Runtime.CompilerServices.RuntimeHelpers.DispatchTailCalls(IntPtr, Void (IntPtr, Byte ByRef, System.Runtime.CompilerServices.PortableTailCallFrame*), Byte ByRef)\r\n",
      "00:00:43 #198 [Debug] >    at Spiral.PartEval.Main.term@655-65(TopEnv, System.Collections.Generic.Dictionary`2<E,System.Tuple`2<System.Collections.Generic.Dictionary`2<ConsedNode`1<System.Tuple`2<RData[],Ty[]>>,System.Tuple`3<Microsoft.FSharp.Core.FSharpOption`1<TypedBind[]>,Microsoft.FSharp.Core.FSharpOption`1<Ty>,Microsoft.FSharp.Core.FSharpOption`1<System.String>>>,HashConsTable>>, System.Collections.Generic.Dictionary`2<E,System.Tuple`2<System.Collections.Generic.Dictionary`2<ConsedNode`1<System.Tuple`4<RData[],Ty[],Ty,Ty>>,Microsoft.FSharp.Core.FSharpOption`1<System.Tuple`2<Data,TypedBind[]>>>,HashConsTable>>, System.Collections.Generic.Dictionary`2<T,System.Tuple`2<System.Collections.Generic.Dictionary`2<ConsedNode`1<Ty[]>,Microsoft.FSharp.Core.FSharpOption`1<Ty>>,HashConsTable>>, LangEnv, E)\r\n",
      "00:00:43 #199 [Debug] >    at Spiral.PartEval.Main.term@655-65(TopEnv, System.Collections.Generic.Dictionary`2<E,System.Tuple`2<System.Collections.Generic.Dictionary`2<ConsedNode`1<System.Tuple`2<RData[],Ty[]>>,System.Tuple`3<Microsoft.FSharp.Core.FSharpOption`1<TypedBind[]>,Microsoft.FSharp.Core.FSharpOption`1<Ty>,Microsoft.FSharp.Core.FSharpOption`1<System.String>>>,HashConsTable>>, System.Collections.Generic.Dictionary`2<E,System.Tuple`2<System.Collections.Generic.Dictionary`2<ConsedNode`1<System.Tuple`4<RData[],Ty[],Ty,Ty>>,Microsoft.FSharp.Core.FSharpOption`1<System.Tuple`2<Data,TypedBind[]>>>,HashConsTable>>, System.Collections.Generic.Dictionary`2<T,System.Tuple`2<System.Collections.Generic.Dictionary`2<ConsedNode`1<Ty[]>,Microsoft.FSharp.Core.FSharpOption`1<Ty>>,HashConsTable>>, LangEnv, E)\r\n",
      "00:00:43 #200 [Debug] >    at System.Runtime.CompilerServices.RuntimeHelpers.DispatchTailCalls(IntPtr, Void (IntPtr, Byte ByRef, System.Runtime.CompilerServices.PortableTailCallFrame*), Byte ByRef)\r\n",
      "00:00:43 #201 [Debug] >    at Spiral.PartEval.Main.term@655-65(TopEnv, System.Collections.Generic.Dictionary`2<E,System.Tuple`2<System.Collections.Generic.Dictionary`2<ConsedNode`1<System.Tuple`2<RData[],Ty[]>>,System.Tuple`3<Microsoft.FSharp.Core.FSharpOption`1<TypedBind[]>,Microsoft.FSharp.Core.FSharpOption`1<Ty>,Microsoft.FSharp.Core.FSharpOption`1<System.String>>>,HashConsTable>>, System.Collections.Generic.Dictionary`2<E,System.Tuple`2<System.Collections.Generic.Dictionary`2<ConsedNode`1<System.Tuple`4<RData[],Ty[],Ty,Ty>>,Microsoft.FSharp.Core.FSharpOption`1<System.Tuple`2<Data,TypedBind[]>>>,HashConsTable>>, System.Collections.Generic.Dictionary`2<T,System.Tuple`2<System.Collections.Generic.Dictionary`2<ConsedNode`1<Ty[]>,Microsoft.FSharp.Core.FSharpOption`1<Ty>>,HashConsTable>>, LangEnv, E)\r\n",
      "00:00:43 #202 [Debug] >    at Spiral.PartEval.Main.term@655-65(TopEnv, System.Collections.Generic.Dictionary`2<E,System.Tuple`2<System.Collections.Generic.Dictionary`2<ConsedNode`1<System.Tuple`2<RData[],Ty[]>>,System.Tuple`3<Microsoft.FSharp.Core.FSharpOption`1<TypedBind[]>,Microsoft.FSharp.Core.FSharpOption`1<Ty>,Microsoft.FSharp.Core.FSharpOption`1<System.String>>>,HashConsTable>>, System.Collections.Generic.Dictionary`2<E,System.Tuple`2<System.Collections.Generic.Dictionary`2<ConsedNode`1<System.Tuple`4<RData[],Ty[],Ty,Ty>>,Microsoft.FSharp.Core.FSharpOption`1<System.Tuple`2<Data,TypedBind[]>>>,HashConsTable>>, System.Collections.Generic.Dictionary`2<T,System.Tuple`2<System.Collections.Generic.Dictionary`2<ConsedNode`1<Ty[]>,Microsoft.FSharp.Core.FSharpOption`1<Ty>>,HashConsTable>>, LangEnv, E)\r\n",
      "00:00:43 #203 [Debug] >    at System.Runtime.CompilerServices.RuntimeHelpers.DispatchTailCalls(IntPtr, Void (IntPtr, Byte ByRef, System.Runtime.CompilerServices.PortableTailCallFrame*), Byte ByRef)\r\n",
      "00:00:43 #204 [Debug] >    at Spiral.PartEval.Main.term@655-65(TopEnv, System.Collections.Generic.Dictionary`2<E,System.Tuple`2<System.Collections.Generic.Dictionary`2<ConsedNode`1<System.Tuple`2<RData[],Ty[]>>,System.Tuple`3<Microsoft.FSharp.Core.FSharpOption`1<TypedBind[]>,Microsoft.FSharp.Core.FSharpOption`1<Ty>,Microsoft.FSharp.Core.FSharpOption`1<System.String>>>,HashConsTable>>, System.Collections.Generic.Dictionary`2<E,System.Tuple`2<System.Collections.Generic.Dictionary`2<ConsedNode`1<System.Tuple`4<RData[],Ty[],Ty,Ty>>,Microsoft.FSharp.Core.FSharpOption`1<System.Tuple`2<Data,TypedBind[]>>>,HashConsTable>>, System.Collections.Generic.Dictionary`2<T,System.Tuple`2<System.Collections.Generic.Dictionary`2<ConsedNode`1<Ty[]>,Microsoft.FSharp.Core.FSharpOption`1<Ty>>,HashConsTable>>, LangEnv, E)\r\n",
      "00:00:43 #205 [Debug] >    at Spiral.PartEval.Main.term@655-65(TopEnv, System.Collections.Generic.Dictionary`2<E,System.Tuple`2<System.Collections.Generic.Dictionary`2<ConsedNode`1<System.Tuple`2<RData[],Ty[]>>,System.Tuple`3<Microsoft.FSharp.Core.FSharpOption`1<TypedBind[]>,Microsoft.FSharp.Core.FSharpOption`1<Ty>,Microsoft.FSharp.Core.FSharpOption`1<System.String>>>,HashConsTable>>, System.Collections.Generic.Dictionary`2<E,System.Tuple`2<System.Collections.Generic.Dictionary`2<ConsedNode`1<System.Tuple`4<RData[],Ty[],Ty,Ty>>,Microsoft.FSharp.Core.FSharpOption`1<System.Tuple`2<Data,TypedBind[]>>>,HashConsTable>>, System.Collections.Generic.Dictionary`2<T,System.Tuple`2<System.Collections.Generic.Dictionary`2<ConsedNode`1<Ty[]>,Microsoft.FSharp.Core.FSharpOption`1<Ty>>,HashConsTable>>, LangEnv, E)\r\n",
      "00:00:43 #206 [Debug] >    at System.Runtime.CompilerServices.RuntimeHelpers.DispatchTailCalls(IntPtr, Void (IntPtr, Byte ByRef, System.Runtime.CompilerServices.PortableTailCallFrame*), Byte ByRef)\r\n",
      "00:00:43 #207 [Debug] >    at Spiral.PartEval.Main.term@655-65(TopEnv, System.Collections.Generic.Dictionary`2<E,System.Tuple`2<System.Collections.Generic.Dictionary`2<ConsedNode`1<System.Tuple`2<RData[],Ty[]>>,System.Tuple`3<Microsoft.FSharp.Core.FSharpOption`1<TypedBind[]>,Microsoft.FSharp.Core.FSharpOption`1<Ty>,Microsoft.FSharp.Core.FSharpOption`1<System.String>>>,HashConsTable>>, System.Collections.Generic.Dictionary`2<E,System.Tuple`2<System.Collections.Generic.Dictionary`2<ConsedNode`1<System.Tuple`4<RData[],Ty[],Ty,Ty>>,Microsoft.FSharp.Core.FSharpOption`1<System.Tuple`2<Data,TypedBind[]>>>,HashConsTable>>, System.Collections.Generic.Dictionary`2<T,System.Tuple`2<System.Collections.Generic.Dictionary`2<ConsedNode`1<Ty[]>,Microsoft.FSharp.Core.FSharpOption`1<Ty>>,HashConsTable>>, LangEnv, E)\r\n",
      "00:00:43 #208 [Debug] >    at Spiral.PartEval.Main.term@655-65(TopEnv, System.Collections.Generic.Dictionary`2<E,System.Tuple`2<System.Collections.Generic.Dictionary`2<ConsedNode`1<System.Tuple`2<RData[],Ty[]>>,System.Tuple`3<Microsoft.FSharp.Core.FSharpOption`1<TypedBind[]>,Microsoft.FSharp.Core.FSharpOption`1<Ty>,Microsoft.FSharp.Core.FSharpOption`1<System.String>>>,HashConsTable>>, System.Collections.Generic.Dictionary`2<E,System.Tuple`2<System.Collections.Generic.Dictionary`2<ConsedNode`1<System.Tuple`4<RData[],Ty[],Ty,Ty>>,Microsoft.FSharp.Core.FSharpOption`1<System.Tuple`2<Data,TypedBind[]>>>,HashConsTable>>, System.Collections.Generic.Dictionary`2<T,System.Tuple`2<System.Collections.Generic.Dictionary`2<ConsedNode`1<Ty[]>,Microsoft.FSharp.Core.FSharpOption`1<Ty>>,HashConsTable>>, LangEnv, E)\r\n",
      "00:00:43 #209 [Debug] >    at System.Runtime.CompilerServices.RuntimeHelpers.DispatchTailCalls(IntPtr, Void (IntPtr, Byte ByRef, System.Runtime.CompilerServices.PortableTailCallFrame*), Byte ByRef)\r\n",
      "00:00:43 #210 [Debug] >    at Spiral.PartEval.Main.term@655-65(TopEnv, System.Collections.Generic.Dictionary`2<E,System.Tuple`2<System.Collections.Generic.Dictionary`2<ConsedNode`1<System.Tuple`2<RData[],Ty[]>>,System.Tuple`3<Microsoft.FSharp.Core.FSharpOption`1<TypedBind[]>,Microsoft.FSharp.Core.FSharpOption`1<Ty>,Microsoft.FSharp.Core.FSharpOption`1<System.String>>>,HashConsTable>>, System.Collections.Generic.Dictionary`2<E,System.Tuple`2<System.Collections.Generic.Dictionary`2<ConsedNode`1<System.Tuple`4<RData[],Ty[],Ty,Ty>>,Microsoft.FSharp.Core.FSharpOption`1<System.Tuple`2<Data,TypedBind[]>>>,HashConsTable>>, System.Collections.Generic.Dictionary`2<T,System.Tuple`2<System.Collections.Generic.Dictionary`2<ConsedNode`1<Ty[]>,Microsoft.FSharp.Core.FSharpOption`1<Ty>>,HashConsTable>>, LangEnv, E)\r\n",
      "00:00:43 #211 [Debug] >    at Spiral.PartEval.Main.term@655-65(TopEnv, System.Collections.Generic.Dictionary`2<E,System.Tuple`2<System.Collections.Generic.Dictionary`2<ConsedNode`1<System.Tuple`2<RData[],Ty[]>>,System.Tuple`3<Microsoft.FSharp.Core.FSharpOption`1<TypedBind[]>,Microsoft.FSharp.Core.FSharpOption`1<Ty>,Microsoft.FSharp.Core.FSharpOption`1<System.String>>>,HashConsTable>>, System.Collections.Generic.Dictionary`2<E,System.Tuple`2<System.Collections.Generic.Dictionary`2<ConsedNode`1<System.Tuple`4<RData[],Ty[],Ty,Ty>>,Microsoft.FSharp.Core.FSharpOption`1<System.Tuple`2<Data,TypedBind[]>>>,HashConsTable>>, System.Collections.Generic.Dictionary`2<T,System.Tuple`2<System.Collections.Generic.Dictionary`2<ConsedNode`1<Ty[]>,Microsoft.FSharp.Core.FSharpOption`1<Ty>>,HashConsTable>>, LangEnv, E)\r\n",
      "00:00:43 #212 [Debug] >    at System.Runtime.CompilerServices.RuntimeHelpers.DispatchTailCalls(IntPtr, Void (IntPtr, Byte ByRef, System.Runtime.CompilerServices.PortableTailCallFrame*), Byte ByRef)\r\n",
      "00:00:43 #213 [Debug] >    at Spiral.PartEval.Main.term@655-65(TopEnv, System.Collections.Generic.Dictionary`2<E,System.Tuple`2<System.Collections.Generic.Dictionary`2<ConsedNode`1<System.Tuple`2<RData[],Ty[]>>,System.Tuple`3<Microsoft.FSharp.Core.FSharpOption`1<TypedBind[]>,Microsoft.FSharp.Core.FSharpOption`1<Ty>,Microsoft.FSharp.Core.FSharpOption`1<System.String>>>,HashConsTable>>, System.Collections.Generic.Dictionary`2<E,System.Tuple`2<System.Collections.Generic.Dictionary`2<ConsedNode`1<System.Tuple`4<RData[],Ty[],Ty,Ty>>,Microsoft.FSharp.Core.FSharpOption`1<System.Tuple`2<Data,TypedBind[]>>>,HashConsTable>>, System.Collections.Generic.Dictionary`2<T,System.Tuple`2<System.Collections.Generic.Dictionary`2<ConsedNode`1<Ty[]>,Microsoft.FSharp.Core.FSharpOption`1<Ty>>,HashConsTable>>, LangEnv, E)\r\n",
      "00:00:43 #214 [Debug] >    at Spiral.PartEval.Main.term@655-65(TopEnv, System.Collections.Generic.Dictionary`2<E,System.Tuple`2<System.Collections.Generic.Dictionary`2<ConsedNode`1<System.Tuple`2<RData[],Ty[]>>,System.Tuple`3<Microsoft.FSharp.Core.FSharpOption`1<TypedBind[]>,Microsoft.FSharp.Core.FSharpOption`1<Ty>,Microsoft.FSharp.Core.FSharpOption`1<System.String>>>,HashConsTable>>, System.Collections.Generic.Dictionary`2<E,System.Tuple`2<System.Collections.Generic.Dictionary`2<ConsedNode`1<System.Tuple`4<RData[],Ty[],Ty,Ty>>,Microsoft.FSharp.Core.FSharpOption`1<System.Tuple`2<Data,TypedBind[]>>>,HashConsTable>>, System.Collections.Generic.Dictionary`2<T,System.Tuple`2<System.Collections.Generic.Dictionary`2<ConsedNode`1<Ty[]>,Microsoft.FSharp.Core.FSharpOption`1<Ty>>,HashConsTable>>, LangEnv, E)\r\n",
      "00:00:43 #215 [Debug] >    at System.Runtime.CompilerServices.RuntimeHelpers.DispatchTailCalls(IntPtr, Void (IntPtr, Byte ByRef, System.Runtime.CompilerServices.PortableTailCallFrame*), Byte ByRef)\r\n",
      "00:00:43 #216 [Debug] >    at Spiral.PartEval.Main.term@655-65(TopEnv, System.Collections.Generic.Dictionary`2<E,System.Tuple`2<System.Collections.Generic.Dictionary`2<ConsedNode`1<System.Tuple`2<RData[],Ty[]>>,System.Tuple`3<Microsoft.FSharp.Core.FSharpOption`1<TypedBind[]>,Microsoft.FSharp.Core.FSharpOption`1<Ty>,Microsoft.FSharp.Core.FSharpOption`1<System.String>>>,HashConsTable>>, System.Collections.Generic.Dictionary`2<E,System.Tuple`2<System.Collections.Generic.Dictionary`2<ConsedNode`1<System.Tuple`4<RData[],Ty[],Ty,Ty>>,Microsoft.FSharp.Core.FSharpOption`1<System.Tuple`2<Data,TypedBind[]>>>,HashConsTable>>, System.Collections.Generic.Dictionary`2<T,System.Tuple`2<System.Collections.Generic.Dictionary`2<ConsedNode`1<Ty[]>,Microsoft.FSharp.Core.FSharpOption`1<Ty>>,HashConsTable>>, LangEnv, E)\r\n",
      "00:00:43 #217 [Debug] >    at Spiral.PartEval.Main.term@655-65(TopEnv, System.Collections.Generic.Dictionary`2<E,System.Tuple`2<System.Collections.Generic.Dictionary`2<ConsedNode`1<System.Tuple`2<RData[],Ty[]>>,System.Tuple`3<Microsoft.FSharp.Core.FSharpOption`1<TypedBind[]>,Microsoft.FSharp.Core.FSharpOption`1<Ty>,Microsoft.FSharp.Core.FSharpOption`1<System.String>>>,HashConsTable>>, System.Collections.Generic.Dictionary`2<E,System.Tuple`2<System.Collections.Generic.Dictionary`2<ConsedNode`1<System.Tuple`4<RData[],Ty[],Ty,Ty>>,Microsoft.FSharp.Core.FSharpOption`1<System.Tuple`2<Data,TypedBind[]>>>,HashConsTable>>, System.Collections.Generic.Dictionary`2<T,System.Tuple`2<System.Collections.Generic.Dictionary`2<ConsedNode`1<Ty[]>,Microsoft.FSharp.Core.FSharpOption`1<Ty>>,HashConsTable>>, LangEnv, E)\r\n",
      "00:00:43 #218 [Debug] >    at System.Runtime.CompilerServices.RuntimeHelpers.DispatchTailCalls(IntPtr, Void (IntPtr, Byte ByRef, System.Runtime.CompilerServices.PortableTailCallFrame*), Byte ByRef)\r\n",
      "00:00:43 #219 [Debug] >    at Spiral.PartEval.Main.term@655-65(TopEnv, System.Collections.Generic.Dictionary`2<E,System.Tuple`2<System.Collections.Generic.Dictionary`2<ConsedNode`1<System.Tuple`2<RData[],Ty[]>>,System.Tuple`3<Microsoft.FSharp.Core.FSharpOption`1<TypedBind[]>,Microsoft.FSharp.Core.FSharpOption`1<Ty>,Microsoft.FSharp.Core.FSharpOption`1<System.String>>>,HashConsTable>>, System.Collections.Generic.Dictionary`2<E,System.Tuple`2<System.Collections.Generic.Dictionary`2<ConsedNode`1<System.Tuple`4<RData[],Ty[],Ty,Ty>>,Microsoft.FSharp.Core.FSharpOption`1<System.Tuple`2<Data,TypedBind[]>>>,HashConsTable>>, System.Collections.Generic.Dictionary`2<T,System.Tuple`2<System.Collections.Generic.Dictionary`2<ConsedNode`1<Ty[]>,Microsoft.FSharp.Core.FSharpOption`1<Ty>>,HashConsTable>>, LangEnv, E)\r\n",
      "00:00:43 #220 [Debug] >    at Spiral.PartEval.Main.term@655-65(TopEnv, System.Collections.Generic.Dictionary`2<E,System.Tuple`2<System.Collections.Generic.Dictionary`2<ConsedNode`1<System.Tuple`2<RData[],Ty[]>>,System.Tuple`3<Microsoft.FSharp.Core.FSharpOption`1<TypedBind[]>,Microsoft.FSharp.Core.FSharpOption`1<Ty>,Microsoft.FSharp.Core.FSharpOption`1<System.String>>>,HashConsTable>>, System.Collections.Generic.Dictionary`2<E,System.Tuple`2<System.Collections.Generic.Dictionary`2<ConsedNode`1<System.Tuple`4<RData[],Ty[],Ty,Ty>>,Microsoft.FSharp.Core.FSharpOption`1<System.Tuple`2<Data,TypedBind[]>>>,HashConsTable>>, System.Collections.Generic.Dictionary`2<T,System.Tuple`2<System.Collections.Generic.Dictionary`2<ConsedNode`1<Ty[]>,Microsoft.FSharp.Core.FSharpOption`1<Ty>>,HashConsTable>>, LangEnv, E)\r\n",
      "00:00:43 #221 [Debug] >    at System.Runtime.CompilerServices.RuntimeHelpers.DispatchTailCalls(IntPtr, Void (IntPtr, Byte ByRef, System.Runtime.CompilerServices.PortableTailCallFrame*), Byte ByRef)\r\n",
      "00:00:43 #222 [Debug] >    at Spiral.PartEval.Main.term@655-65(TopEnv, System.Collections.Generic.Dictionary`2<E,System.Tuple`2<System.Collections.Generic.Dictionary`2<ConsedNode`1<System.Tuple`2<RData[],Ty[]>>,System.Tuple`3<Microsoft.FSharp.Core.FSharpOption`1<TypedBind[]>,Microsoft.FSharp.Core.FSharpOption`1<Ty>,Microsoft.FSharp.Core.FSharpOption`1<System.String>>>,HashConsTable>>, System.Collections.Generic.Dictionary`2<E,System.Tuple`2<System.Collections.Generic.Dictionary`2<ConsedNode`1<System.Tuple`4<RData[],Ty[],Ty,Ty>>,Microsoft.FSharp.Core.FSharpOption`1<System.Tuple`2<Data,TypedBind[]>>>,HashConsTable>>, System.Collections.Generic.Dictionary`2<T,System.Tuple`2<System.Collections.Generic.Dictionary`2<ConsedNode`1<Ty[]>,Microsoft.FSharp.Core.FSharpOption`1<Ty>>,HashConsTable>>, LangEnv, E)\r\n",
      "00:00:43 #223 [Debug] >    at Spiral.PartEval.Main.term@655-65(TopEnv, System.Collections.Generic.Dictionary`2<E,System.Tuple`2<System.Collections.Generic.Dictionary`2<ConsedNode`1<System.Tuple`2<RData[],Ty[]>>,System.Tuple`3<Microsoft.FSharp.Core.FSharpOption`1<TypedBind[]>,Microsoft.FSharp.Core.FSharpOption`1<Ty>,Microsoft.FSharp.Core.FSharpOption`1<System.String>>>,HashConsTable>>, System.Collections.Generic.Dictionary`2<E,System.Tuple`2<System.Collections.Generic.Dictionary`2<ConsedNode`1<System.Tuple`4<RData[],Ty[],Ty,Ty>>,Microsoft.FSharp.Core.FSharpOption`1<System.Tuple`2<Data,TypedBind[]>>>,HashConsTable>>, System.Collections.Generic.Dictionary`2<T,System.Tuple`2<System.Collections.Generic.Dictionary`2<ConsedNode`1<Ty[]>,Microsoft.FSharp.Core.FSharpOption`1<Ty>>,HashConsTable>>, LangEnv, E)\r\n",
      "00:00:43 #224 [Debug] >    at System.Runtime.CompilerServices.RuntimeHelpers.DispatchTailCalls(IntPtr, Void (IntPtr, Byte ByRef, System.Runtime.CompilerServices.PortableTailCallFrame*), Byte ByRef)\r\n",
      "00:00:43 #225 [Debug] >    at Spiral.PartEval.Main.term@655-65(TopEnv, System.Collections.Generic.Dictionary`2<E,System.Tuple`2<System.Collections.Generic.Dictionary`2<ConsedNode`1<System.Tuple`2<RData[],Ty[]>>,System.Tuple`3<Microsoft.FSharp.Core.FSharpOption`1<TypedBind[]>,Microsoft.FSharp.Core.FSharpOption`1<Ty>,Microsoft.FSharp.Core.FSharpOption`1<System.String>>>,HashConsTable>>, System.Collections.Generic.Dictionary`2<E,System.Tuple`2<System.Collections.Generic.Dictionary`2<ConsedNode`1<System.Tuple`4<RData[],Ty[],Ty,Ty>>,Microsoft.FSharp.Core.FSharpOption`1<System.Tuple`2<Data,TypedBind[]>>>,HashConsTable>>, System.Collections.Generic.Dictionary`2<T,System.Tuple`2<System.Collections.Generic.Dictionary`2<ConsedNode`1<Ty[]>,Microsoft.FSharp.Core.FSharpOption`1<Ty>>,HashConsTable>>, LangEnv, E)\r\n",
      "00:00:43 #226 [Debug] >    at Spiral.PartEval.Main.term@655-65(TopEnv, System.Collections.Generic.Dictionary`2<E,System.Tuple`2<System.Collections.Generic.Dictionary`2<ConsedNode`1<System.Tuple`2<RData[],Ty[]>>,System.Tuple`3<Microsoft.FSharp.Core.FSharpOption`1<TypedBind[]>,Microsoft.FSharp.Core.FSharpOption`1<Ty>,Microsoft.FSharp.Core.FSharpOption`1<System.String>>>,HashConsTable>>, System.Collections.Generic.Dictionary`2<E,System.Tuple`2<System.Collections.Generic.Dictionary`2<ConsedNode`1<System.Tuple`4<RData[],Ty[],Ty,Ty>>,Microsoft.FSharp.Core.FSharpOption`1<System.Tuple`2<Data,TypedBind[]>>>,HashConsTable>>, System.Collections.Generic.Dictionary`2<T,System.Tuple`2<System.Collections.Generic.Dictionary`2<ConsedNode`1<Ty[]>,Microsoft.FSharp.Core.FSharpOption`1<Ty>>,HashConsTable>>, LangEnv, E)\r\n",
      "00:00:43 #227 [Debug] >    at System.Runtime.CompilerServices.RuntimeHelpers.DispatchTailCalls(IntPtr, Void (IntPtr, Byte ByRef, System.Runtime.CompilerServices.PortableTailCallFrame*), Byte ByRef)\r\n",
      "00:00:43 #228 [Debug] >    at Spiral.PartEval.Main.term@655-65(TopEnv, System.Collections.Generic.Dictionary`2<E,System.Tuple`2<System.Collections.Generic.Dictionary`2<ConsedNode`1<System.Tuple`2<RData[],Ty[]>>,System.Tuple`3<Microsoft.FSharp.Core.FSharpOption`1<TypedBind[]>,Microsoft.FSharp.Core.FSharpOption`1<Ty>,Microsoft.FSharp.Core.FSharpOption`1<System.String>>>,HashConsTable>>, System.Collections.Generic.Dictionary`2<E,System.Tuple`2<System.Collections.Generic.Dictionary`2<ConsedNode`1<System.Tuple`4<RData[],Ty[],Ty,Ty>>,Microsoft.FSharp.Core.FSharpOption`1<System.Tuple`2<Data,TypedBind[]>>>,HashConsTable>>, System.Collections.Generic.Dictionary`2<T,System.Tuple`2<System.Collections.Generic.Dictionary`2<ConsedNode`1<Ty[]>,Microsoft.FSharp.Core.FSharpOption`1<Ty>>,HashConsTable>>, LangEnv, E)\r\n",
      "00:00:43 #229 [Debug] >    at Spiral.PartEval.Main.term@655-65(TopEnv, System.Collections.Generic.Dictionary`2<E,System.Tuple`2<System.Collections.Generic.Dictionary`2<ConsedNode`1<System.Tuple`2<RData[],Ty[]>>,System.Tuple`3<Microsoft.FSharp.Core.FSharpOption`1<TypedBind[]>,Microsoft.FSharp.Core.FSharpOption`1<Ty>,Microsoft.FSharp.Core.FSharpOption`1<System.String>>>,HashConsTable>>, System.Collections.Generic.Dictionary`2<E,System.Tuple`2<System.Collections.Generic.Dictionary`2<ConsedNode`1<System.Tuple`4<RData[],Ty[],Ty,Ty>>,Microsoft.FSharp.Core.FSharpOption`1<System.Tuple`2<Data,TypedBind[]>>>,HashConsTable>>, System.Collections.Generic.Dictionary`2<T,System.Tuple`2<System.Collections.Generic.Dictionary`2<ConsedNode`1<Ty[]>,Microsoft.FSharp.Core.FSharpOption`1<Ty>>,HashConsTable>>, LangEnv, E)\r\n",
      "00:00:43 #230 [Debug] >    at System.Runtime.CompilerServices.RuntimeHelpers.DispatchTailCalls(IntPtr, Void (IntPtr, Byte ByRef, System.Runtime.CompilerServices.PortableTailCallFrame*), Byte ByRef)\r\n",
      "00:00:43 #231 [Debug] >    at Spiral.PartEval.Main.term@655-65(TopEnv, System.Collections.Generic.Dictionary`2<E,System.Tuple`2<System.Collections.Generic.Dictionary`2<ConsedNode`1<System.Tuple`2<RData[],Ty[]>>,System.Tuple`3<Microsoft.FSharp.Core.FSharpOption`1<TypedBind[]>,Microsoft.FSharp.Core.FSharpOption`1<Ty>,Microsoft.FSharp.Core.FSharpOption`1<System.String>>>,HashConsTable>>, System.Collections.Generic.Dictionary`2<E,System.Tuple`2<System.Collections.Generic.Dictionary`2<ConsedNode`1<System.Tuple`4<RData[],Ty[],Ty,Ty>>,Microsoft.FSharp.Core.FSharpOption`1<System.Tuple`2<Data,TypedBind[]>>>,HashConsTable>>, System.Collections.Generic.Dictionary`2<T,System.Tuple`2<System.Collections.Generic.Dictionary`2<ConsedNode`1<Ty[]>,Microsoft.FSharp.Core.FSharpOption`1<Ty>>,HashConsTable>>, LangEnv, E)\r\n",
      "00:00:43 #232 [Debug] >    at Spiral.PartEval.Main.term@655-65(TopEnv, System.Collections.Generic.Dictionary`2<E,System.Tuple`2<System.Collections.Generic.Dictionary`2<ConsedNode`1<System.Tuple`2<RData[],Ty[]>>,System.Tuple`3<Microsoft.FSharp.Core.FSharpOption`1<TypedBind[]>,Microsoft.FSharp.Core.FSharpOption`1<Ty>,Microsoft.FSharp.Core.FSharpOption`1<System.String>>>,HashConsTable>>, System.Collections.Generic.Dictionary`2<E,System.Tuple`2<System.Collections.Generic.Dictionary`2<ConsedNode`1<System.Tuple`4<RData[],Ty[],Ty,Ty>>,Microsoft.FSharp.Core.FSharpOption`1<System.Tuple`2<Data,TypedBind[]>>>,HashConsTable>>, System.Collections.Generic.Dictionary`2<T,System.Tuple`2<System.Collections.Generic.Dictionary`2<ConsedNode`1<Ty[]>,Microsoft.FSharp.Core.FSharpOption`1<Ty>>,HashConsTable>>, LangEnv, E)\r\n",
      "00:00:43 #233 [Debug] >    at System.Runtime.CompilerServices.RuntimeHelpers.DispatchTailCalls(IntPtr, Void (IntPtr, Byte ByRef, System.Runtime.CompilerServices.PortableTailCallFrame*), Byte ByRef)\r\n",
      "00:00:43 #234 [Debug] >    at Spiral.PartEval.Main.term@655-65(TopEnv, System.Collections.Generic.Dictionary`2<E,System.Tuple`2<System.Collections.Generic.Dictionary`2<ConsedNode`1<System.Tuple`2<RData[],Ty[]>>,System.Tuple`3<Microsoft.FSharp.Core.FSharpOption`1<TypedBind[]>,Microsoft.FSharp.Core.FSharpOption`1<Ty>,Microsoft.FSharp.Core.FSharpOption`1<System.String>>>,HashConsTable>>, System.Collections.Generic.Dictionary`2<E,System.Tuple`2<System.Collections.Generic.Dictionary`2<ConsedNode`1<System.Tuple`4<RData[],Ty[],Ty,Ty>>,Microsoft.FSharp.Core.FSharpOption`1<System.Tuple`2<Data,TypedBind[]>>>,HashConsTable>>, System.Collections.Generic.Dictionary`2<T,System.Tuple`2<System.Collections.Generic.Dictionary`2<ConsedNode`1<Ty[]>,Microsoft.FSharp.Core.FSharpOption`1<Ty>>,HashConsTable>>, LangEnv, E)\r\n",
      "00:00:43 #235 [Debug] >    at Spiral.PartEval.Main.term@655-65(TopEnv, System.Collections.Generic.Dictionary`2<E,System.Tuple`2<System.Collections.Generic.Dictionary`2<ConsedNode`1<System.Tuple`2<RData[],Ty[]>>,System.Tuple`3<Microsoft.FSharp.Core.FSharpOption`1<TypedBind[]>,Microsoft.FSharp.Core.FSharpOption`1<Ty>,Microsoft.FSharp.Core.FSharpOption`1<System.String>>>,HashConsTable>>, System.Collections.Generic.Dictionary`2<E,System.Tuple`2<System.Collections.Generic.Dictionary`2<ConsedNode`1<System.Tuple`4<RData[],Ty[],Ty,Ty>>,Microsoft.FSharp.Core.FSharpOption`1<System.Tuple`2<Data,TypedBind[]>>>,HashConsTable>>, System.Collections.Generic.Dictionary`2<T,System.Tuple`2<System.Collections.Generic.Dictionary`2<ConsedNode`1<Ty[]>,Microsoft.FSharp.Core.FSharpOption`1<Ty>>,HashConsTable>>, LangEnv, E)\r\n",
      "00:00:43 #236 [Debug] >    at System.Runtime.CompilerServices.RuntimeHelpers.DispatchTailCalls(IntPtr, Void (IntPtr, Byte ByRef, System.Runtime.CompilerServices.PortableTailCallFrame*), Byte ByRef)\r\n",
      "00:00:43 #237 [Debug] >    at Spiral.PartEval.Main.term@655-65(TopEnv, System.Collections.Generic.Dictionary`2<E,System.Tuple`2<System.Collections.Generic.Dictionary`2<ConsedNode`1<System.Tuple`2<RData[],Ty[]>>,System.Tuple`3<Microsoft.FSharp.Core.FSharpOption`1<TypedBind[]>,Microsoft.FSharp.Core.FSharpOption`1<Ty>,Microsoft.FSharp.Core.FSharpOption`1<System.String>>>,HashConsTable>>, System.Collections.Generic.Dictionary`2<E,System.Tuple`2<System.Collections.Generic.Dictionary`2<ConsedNode`1<System.Tuple`4<RData[],Ty[],Ty,Ty>>,Microsoft.FSharp.Core.FSharpOption`1<System.Tuple`2<Data,TypedBind[]>>>,HashConsTable>>, System.Collections.Generic.Dictionary`2<T,System.Tuple`2<System.Collections.Generic.Dictionary`2<ConsedNode`1<Ty[]>,Microsoft.FSharp.Core.FSharpOption`1<Ty>>,HashConsTable>>, LangEnv, E)\r\n",
      "00:00:43 #238 [Debug] >    at Spiral.PartEval.Main.term@655-65(TopEnv, System.Collections.Generic.Dictionary`2<E,System.Tuple`2<System.Collections.Generic.Dictionary`2<ConsedNode`1<System.Tuple`2<RData[],Ty[]>>,System.Tuple`3<Microsoft.FSharp.Core.FSharpOption`1<TypedBind[]>,Microsoft.FSharp.Core.FSharpOption`1<Ty>,Microsoft.FSharp.Core.FSharpOption`1<System.String>>>,HashConsTable>>, System.Collections.Generic.Dictionary`2<E,System.Tuple`2<System.Collections.Generic.Dictionary`2<ConsedNode`1<System.Tuple`4<RData[],Ty[],Ty,Ty>>,Microsoft.FSharp.Core.FSharpOption`1<System.Tuple`2<Data,TypedBind[]>>>,HashConsTable>>, System.Collections.Generic.Dictionary`2<T,System.Tuple`2<System.Collections.Generic.Dictionary`2<ConsedNode`1<Ty[]>,Microsoft.FSharp.Core.FSharpOption`1<Ty>>,HashConsTable>>, LangEnv, E)\r\n",
      "00:00:43 #239 [Debug] >    at System.Runtime.CompilerServices.RuntimeHelpers.DispatchTailCalls(IntPtr, Void (IntPtr, Byte ByRef, System.Runtime.CompilerServices.PortableTailCallFrame*), Byte ByRef)\r\n",
      "00:00:43 #240 [Debug] >    at Spiral.PartEval.Main.term@655-65(TopEnv, System.Collections.Generic.Dictionary`2<E,System.Tuple`2<System.Collections.Generic.Dictionary`2<ConsedNode`1<System.Tuple`2<RData[],Ty[]>>,System.Tuple`3<Microsoft.FSharp.Core.FSharpOption`1<TypedBind[]>,Microsoft.FSharp.Core.FSharpOption`1<Ty>,Microsoft.FSharp.Core.FSharpOption`1<System.String>>>,HashConsTable>>, System.Collections.Generic.Dictionary`2<E,System.Tuple`2<System.Collections.Generic.Dictionary`2<ConsedNode`1<System.Tuple`4<RData[],Ty[],Ty,Ty>>,Microsoft.FSharp.Core.FSharpOption`1<System.Tuple`2<Data,TypedBind[]>>>,HashConsTable>>, System.Collections.Generic.Dictionary`2<T,System.Tuple`2<System.Collections.Generic.Dictionary`2<ConsedNode`1<Ty[]>,Microsoft.FSharp.Core.FSharpOption`1<Ty>>,HashConsTable>>, LangEnv, E)\r\n",
      "00:00:43 #241 [Debug] >    at Spiral.PartEval.Main.term@655-65(TopEnv, System.Collections.Generic.Dictionary`2<E,System.Tuple`2<System.Collections.Generic.Dictionary`2<ConsedNode`1<System.Tuple`2<RData[],Ty[]>>,System.Tuple`3<Microsoft.FSharp.Core.FSharpOption`1<TypedBind[]>,Microsoft.FSharp.Core.FSharpOption`1<Ty>,Microsoft.FSharp.Core.FSharpOption`1<System.String>>>,HashConsTable>>, System.Collections.Generic.Dictionary`2<E,System.Tuple`2<System.Collections.Generic.Dictionary`2<ConsedNode`1<System.Tuple`4<RData[],Ty[],Ty,Ty>>,Microsoft.FSharp.Core.FSharpOption`1<System.Tuple`2<Data,TypedBind[]>>>,HashConsTable>>, System.Collections.Generic.Dictionary`2<T,System.Tuple`2<System.Collections.Generic.Dictionary`2<ConsedNode`1<Ty[]>,Microsoft.FSharp.Core.FSharpOption`1<Ty>>,HashConsTable>>, LangEnv, E)\r\n",
      "00:00:43 #242 [Debug] >    at System.Runtime.CompilerServices.RuntimeHelpers.DispatchTailCalls(IntPtr, Void (IntPtr, Byte ByRef, System.Runtime.CompilerServices.PortableTailCallFrame*), Byte ByRef)\r\n",
      "00:00:43 #243 [Debug] >    at Spiral.PartEval.Main.term@655-65(TopEnv, System.Collections.Generic.Dictionary`2<E,System.Tuple`2<System.Collections.Generic.Dictionary`2<ConsedNode`1<System.Tuple`2<RData[],Ty[]>>,System.Tuple`3<Microsoft.FSharp.Core.FSharpOption`1<TypedBind[]>,Microsoft.FSharp.Core.FSharpOption`1<Ty>,Microsoft.FSharp.Core.FSharpOption`1<System.String>>>,HashConsTable>>, System.Collections.Generic.Dictionary`2<E,System.Tuple`2<System.Collections.Generic.Dictionary`2<ConsedNode`1<System.Tuple`4<RData[],Ty[],Ty,Ty>>,Microsoft.FSharp.Core.FSharpOption`1<System.Tuple`2<Data,TypedBind[]>>>,HashConsTable>>, System.Collections.Generic.Dictionary`2<T,System.Tuple`2<System.Collections.Generic.Dictionary`2<ConsedNode`1<Ty[]>,Microsoft.FSharp.Core.FSharpOption`1<Ty>>,HashConsTable>>, LangEnv, E)\r\n",
      "00:00:43 #244 [Debug] >    at Spiral.PartEval.Main.term@655-65(TopEnv, System.Collections.Generic.Dictionary`2<E,System.Tuple`2<System.Collections.Generic.Dictionary`2<ConsedNode`1<System.Tuple`2<RData[],Ty[]>>,System.Tuple`3<Microsoft.FSharp.Core.FSharpOption`1<TypedBind[]>,Microsoft.FSharp.Core.FSharpOption`1<Ty>,Microsoft.FSharp.Core.FSharpOption`1<System.String>>>,HashConsTable>>, System.Collections.Generic.Dictionary`2<E,System.Tuple`2<System.Collections.Generic.Dictionary`2<ConsedNode`1<System.Tuple`4<RData[],Ty[],Ty,Ty>>,Microsoft.FSharp.Core.FSharpOption`1<System.Tuple`2<Data,TypedBind[]>>>,HashConsTable>>, System.Collections.Generic.Dictionary`2<T,System.Tuple`2<System.Collections.Generic.Dictionary`2<ConsedNode`1<Ty[]>,Microsoft.FSharp.Core.FSharpOption`1<Ty>>,HashConsTable>>, LangEnv, E)\r\n",
      "00:00:43 #245 [Debug] >    at System.Runtime.CompilerServices.RuntimeHelpers.DispatchTailCalls(IntPtr, Void (IntPtr, Byte ByRef, System.Runtime.CompilerServices.PortableTailCallFrame*), Byte ByRef)\r\n",
      "00:00:43 #246 [Debug] >    at Spiral.PartEval.Main.term@655-65(TopEnv, System.Collections.Generic.Dictionary`2<E,System.Tuple`2<System.Collections.Generic.Dictionary`2<ConsedNode`1<System.Tuple`2<RData[],Ty[]>>,System.Tuple`3<Microsoft.FSharp.Core.FSharpOption`1<TypedBind[]>,Microsoft.FSharp.Core.FSharpOption`1<Ty>,Microsoft.FSharp.Core.FSharpOption`1<System.String>>>,HashConsTable>>, System.Collections.Generic.Dictionary`2<E,System.Tuple`2<System.Collections.Generic.Dictionary`2<ConsedNode`1<System.Tuple`4<RData[],Ty[],Ty,Ty>>,Microsoft.FSharp.Core.FSharpOption`1<System.Tuple`2<Data,TypedBind[]>>>,HashConsTable>>, System.Collections.Generic.Dictionary`2<T,System.Tuple`2<System.Collections.Generic.Dictionary`2<ConsedNode`1<Ty[]>,Microsoft.FSharp.Core.FSharpOption`1<Ty>>,HashConsTable>>, LangEnv, E)\r\n",
      "00:00:43 #247 [Debug] >    at Spiral.PartEval.Main.term@655-65(TopEnv, System.Collections.Generic.Dictionary`2<E,System.Tuple`2<System.Collections.Generic.Dictionary`2<ConsedNode`1<System.Tuple`2<RData[],Ty[]>>,System.Tuple`3<Microsoft.FSharp.Core.FSharpOption`1<TypedBind[]>,Microsoft.FSharp.Core.FSharpOption`1<Ty>,Microsoft.FSharp.Core.FSharpOption`1<System.String>>>,HashConsTable>>, System.Collections.Generic.Dictionary`2<E,System.Tuple`2<System.Collections.Generic.Dictionary`2<ConsedNode`1<System.Tuple`4<RData[],Ty[],Ty,Ty>>,Microsoft.FSharp.Core.FSharpOption`1<System.Tuple`2<Data,TypedBind[]>>>,HashConsTable>>, System.Collections.Generic.Dictionary`2<T,System.Tuple`2<System.Collections.Generic.Dictionary`2<ConsedNode`1<Ty[]>,Microsoft.FSharp.Core.FSharpOption`1<Ty>>,HashConsTable>>, LangEnv, E)\r\n",
      "00:00:43 #248 [Debug] >    at System.Runtime.CompilerServices.RuntimeHelpers.DispatchTailCalls(IntPtr, Void (IntPtr, Byte ByRef, System.Runtime.CompilerServices.PortableTailCallFrame*), Byte ByRef)\r\n",
      "00:00:43 #249 [Debug] >    at Spiral.PartEval.Main.term@655-65(TopEnv, System.Collections.Generic.Dictionary`2<E,System.Tuple`2<System.Collections.Generic.Dictionary`2<ConsedNode`1<System.Tuple`2<RData[],Ty[]>>,System.Tuple`3<Microsoft.FSharp.Core.FSharpOption`1<TypedBind[]>,Microsoft.FSharp.Core.FSharpOption`1<Ty>,Microsoft.FSharp.Core.FSharpOption`1<System.String>>>,HashConsTable>>, System.Collections.Generic.Dictionary`2<E,System.Tuple`2<System.Collections.Generic.Dictionary`2<ConsedNode`1<System.Tuple`4<RData[],Ty[],Ty,Ty>>,Microsoft.FSharp.Core.FSharpOption`1<System.Tuple`2<Data,TypedBind[]>>>,HashConsTable>>, System.Collections.Generic.Dictionary`2<T,System.Tuple`2<System.Collections.Generic.Dictionary`2<ConsedNode`1<Ty[]>,Microsoft.FSharp.Core.FSharpOption`1<Ty>>,HashConsTable>>, LangEnv, E)\r\n",
      "00:00:43 #250 [Debug] >    at Spiral.PartEval.Main.term@655-65(TopEnv, System.Collections.Generic.Dictionary`2<E,System.Tuple`2<System.Collections.Generic.Dictionary`2<ConsedNode`1<System.Tuple`2<RData[],Ty[]>>,System.Tuple`3<Microsoft.FSharp.Core.FSharpOption`1<TypedBind[]>,Microsoft.FSharp.Core.FSharpOption`1<Ty>,Microsoft.FSharp.Core.FSharpOption`1<System.String>>>,HashConsTable>>, System.Collections.Generic.Dictionary`2<E,System.Tuple`2<System.Collections.Generic.Dictionary`2<ConsedNode`1<System.Tuple`4<RData[],Ty[],Ty,Ty>>,Microsoft.FSharp.Core.FSharpOption`1<System.Tuple`2<Data,TypedBind[]>>>,HashConsTable>>, System.Collections.Generic.Dictionary`2<T,System.Tuple`2<System.Collections.Generic.Dictionary`2<ConsedNode`1<Ty[]>,Microsoft.FSharp.Core.FSharpOption`1<Ty>>,HashConsTable>>, LangEnv, E)\r\n",
      "00:00:43 #251 [Debug] >    at System.Runtime.CompilerServices.RuntimeHelpers.DispatchTailCalls(IntPtr, Void (IntPtr, Byte ByRef, System.Runtime.CompilerServices.PortableTailCallFrame*), Byte ByRef)\r\n",
      "00:00:43 #252 [Debug] >    at Spiral.PartEval.Main.term@655-65(TopEnv, System.Collections.Generic.Dictionary`2<E,System.Tuple`2<System.Collections.Generic.Dictionary`2<ConsedNode`1<System.Tuple`2<RData[],Ty[]>>,System.Tuple`3<Microsoft.FSharp.Core.FSharpOption`1<TypedBind[]>,Microsoft.FSharp.Core.FSharpOption`1<Ty>,Microsoft.FSharp.Core.FSharpOption`1<System.String>>>,HashConsTable>>, System.Collections.Generic.Dictionary`2<E,System.Tuple`2<System.Collections.Generic.Dictionary`2<ConsedNode`1<System.Tuple`4<RData[],Ty[],Ty,Ty>>,Microsoft.FSharp.Core.FSharpOption`1<System.Tuple`2<Data,TypedBind[]>>>,HashConsTable>>, System.Collections.Generic.Dictionary`2<T,System.Tuple`2<System.Collections.Generic.Dictionary`2<ConsedNode`1<Ty[]>,Microsoft.FSharp.Core.FSharpOption`1<Ty>>,HashConsTable>>, LangEnv, E)\r\n",
      "00:00:43 #253 [Debug] >    at Spiral.PartEval.Main.term@655-65(TopEnv, System.Collections.Generic.Dictionary`2<E,System.Tuple`2<System.Collections.Generic.Dictionary`2<ConsedNode`1<System.Tuple`2<RData[],Ty[]>>,System.Tuple`3<Microsoft.FSharp.Core.FSharpOption`1<TypedBind[]>,Microsoft.FSharp.Core.FSharpOption`1<Ty>,Microsoft.FSharp.Core.FSharpOption`1<System.String>>>,HashConsTable>>, System.Collections.Generic.Dictionary`2<E,System.Tuple`2<System.Collections.Generic.Dictionary`2<ConsedNode`1<System.Tuple`4<RData[],Ty[],Ty,Ty>>,Microsoft.FSharp.Core.FSharpOption`1<System.Tuple`2<Data,TypedBind[]>>>,HashConsTable>>, System.Collections.Generic.Dictionary`2<T,System.Tuple`2<System.Collections.Generic.Dictionary`2<ConsedNode`1<Ty[]>,Microsoft.FSharp.Core.FSharpOption`1<Ty>>,HashConsTable>>, LangEnv, E)\r\n",
      "00:00:43 #254 [Debug] >    at System.Runtime.CompilerServices.RuntimeHelpers.DispatchTailCalls(IntPtr, Void (IntPtr, Byte ByRef, System.Runtime.CompilerServices.PortableTailCallFrame*), Byte ByRef)\r\n",
      "00:00:43 #255 [Debug] >    at Spiral.PartEval.Main.term@655-65(TopEnv, System.Collections.Generic.Dictionary`2<E,System.Tuple`2<System.Collections.Generic.Dictionary`2<ConsedNode`1<System.Tuple`2<RData[],Ty[]>>,System.Tuple`3<Microsoft.FSharp.Core.FSharpOption`1<TypedBind[]>,Microsoft.FSharp.Core.FSharpOption`1<Ty>,Microsoft.FSharp.Core.FSharpOption`1<System.String>>>,HashConsTable>>, System.Collections.Generic.Dictionary`2<E,System.Tuple`2<System.Collections.Generic.Dictionary`2<ConsedNode`1<System.Tuple`4<RData[],Ty[],Ty,Ty>>,Microsoft.FSharp.Core.FSharpOption`1<System.Tuple`2<Data,TypedBind[]>>>,HashConsTable>>, System.Collections.Generic.Dictionary`2<T,System.Tuple`2<System.Collections.Generic.Dictionary`2<ConsedNode`1<Ty[]>,Microsoft.FSharp.Core.FSharpOption`1<Ty>>,HashConsTable>>, LangEnv, E)\r\n",
      "00:00:43 #256 [Debug] >    at Spiral.PartEval.Main.term@655-65(TopEnv, System.Collections.Generic.Dictionary`2<E,System.Tuple`2<System.Collections.Generic.Dictionary`2<ConsedNode`1<System.Tuple`2<RData[],Ty[]>>,System.Tuple`3<Microsoft.FSharp.Core.FSharpOption`1<TypedBind[]>,Microsoft.FSharp.Core.FSharpOption`1<Ty>,Microsoft.FSharp.Core.FSharpOption`1<System.String>>>,HashConsTable>>, System.Collections.Generic.Dictionary`2<E,System.Tuple`2<System.Collections.Generic.Dictionary`2<ConsedNode`1<System.Tuple`4<RData[],Ty[],Ty,Ty>>,Microsoft.FSharp.Core.FSharpOption`1<System.Tuple`2<Data,TypedBind[]>>>,HashConsTable>>, System.Collections.Generic.Dictionary`2<T,System.Tuple`2<System.Collections.Generic.Dictionary`2<ConsedNode`1<Ty[]>,Microsoft.FSharp.Core.FSharpOption`1<Ty>>,HashConsTable>>, LangEnv, E)\r\n",
      "00:00:43 #257 [Debug] >    at System.Runtime.CompilerServices.RuntimeHelpers.DispatchTailCalls(IntPtr, Void (IntPtr, Byte ByRef, System.Runtime.CompilerServices.PortableTailCallFrame*), Byte ByRef)\r\n",
      "00:00:43 #258 [Debug] >    at Spiral.PartEval.Main.term@655-65(TopEnv, System.Collections.Generic.Dictionary`2<E,System.Tuple`2<System.Collections.Generic.Dictionary`2<ConsedNode`1<System.Tuple`2<RData[],Ty[]>>,System.Tuple`3<Microsoft.FSharp.Core.FSharpOption`1<TypedBind[]>,Microsoft.FSharp.Core.FSharpOption`1<Ty>,Microsoft.FSharp.Core.FSharpOption`1<System.String>>>,HashConsTable>>, System.Collections.Generic.Dictionary`2<E,System.Tuple`2<System.Collections.Generic.Dictionary`2<ConsedNode`1<System.Tuple`4<RData[],Ty[],Ty,Ty>>,Microsoft.FSharp.Core.FSharpOption`1<System.Tuple`2<Data,TypedBind[]>>>,HashConsTable>>, System.Collections.Generic.Dictionary`2<T,System.Tuple`2<System.Collections.Generic.Dictionary`2<ConsedNode`1<Ty[]>,Microsoft.FSharp.Core.FSharpOption`1<Ty>>,HashConsTable>>, LangEnv, E)\r\n",
      "00:00:43 #259 [Debug] >    at Spiral.PartEval.Main.term@655-65(TopEnv, System.Collections.Generic.Dictionary`2<E,System.Tuple`2<System.Collections.Generic.Dictionary`2<ConsedNode`1<System.Tuple`2<RData[],Ty[]>>,System.Tuple`3<Microsoft.FSharp.Core.FSharpOption`1<TypedBind[]>,Microsoft.FSharp.Core.FSharpOption`1<Ty>,Microsoft.FSharp.Core.FSharpOption`1<System.String>>>,HashConsTable>>, System.Collections.Generic.Dictionary`2<E,System.Tuple`2<System.Collections.Generic.Dictionary`2<ConsedNode`1<System.Tuple`4<RData[],Ty[],Ty,Ty>>,Microsoft.FSharp.Core.FSharpOption`1<System.Tuple`2<Data,TypedBind[]>>>,HashConsTable>>, System.Collections.Generic.Dictionary`2<T,System.Tuple`2<System.Collections.Generic.Dictionary`2<ConsedNode`1<Ty[]>,Microsoft.FSharp.Core.FSharpOption`1<Ty>>,HashConsTable>>, LangEnv, E)\r\n",
      "00:00:43 #260 [Debug] >    at System.Runtime.CompilerServices.RuntimeHelpers.DispatchTailCalls(IntPtr, Void (IntPtr, Byte ByRef, System.Runtime.CompilerServices.PortableTailCallFrame*), Byte ByRef)\r\n",
      "00:00:43 #261 [Debug] >    at Spiral.PartEval.Main.term@655-65(TopEnv, System.Collections.Generic.Dictionary`2<E,System.Tuple`2<System.Collections.Generic.Dictionary`2<ConsedNode`1<System.Tuple`2<RData[],Ty[]>>,System.Tuple`3<Microsoft.FSharp.Core.FSharpOption`1<TypedBind[]>,Microsoft.FSharp.Core.FSharpOption`1<Ty>,Microsoft.FSharp.Core.FSharpOption`1<System.String>>>,HashConsTable>>, System.Collections.Generic.Dictionary`2<E,System.Tuple`2<System.Collections.Generic.Dictionary`2<ConsedNode`1<System.Tuple`4<RData[],Ty[],Ty,Ty>>,Microsoft.FSharp.Core.FSharpOption`1<System.Tuple`2<Data,TypedBind[]>>>,HashConsTable>>, System.Collections.Generic.Dictionary`2<T,System.Tuple`2<System.Collections.Generic.Dictionary`2<ConsedNode`1<Ty[]>,Microsoft.FSharp.Core.FSharpOption`1<Ty>>,HashConsTable>>, LangEnv, E)\r\n",
      "00:00:43 #262 [Debug] >    at Spiral.PartEval.Main.term@655-65(TopEnv, System.Collections.Generic.Dictionary`2<E,System.Tuple`2<System.Collections.Generic.Dictionary`2<ConsedNode`1<System.Tuple`2<RData[],Ty[]>>,System.Tuple`3<Microsoft.FSharp.Core.FSharpOption`1<TypedBind[]>,Microsoft.FSharp.Core.FSharpOption`1<Ty>,Microsoft.FSharp.Core.FSharpOption`1<System.String>>>,HashConsTable>>, System.Collections.Generic.Dictionary`2<E,System.Tuple`2<System.Collections.Generic.Dictionary`2<ConsedNode`1<System.Tuple`4<RData[],Ty[],Ty,Ty>>,Microsoft.FSharp.Core.FSharpOption`1<System.Tuple`2<Data,TypedBind[]>>>,HashConsTable>>, System.Collections.Generic.Dictionary`2<T,System.Tuple`2<System.Collections.Generic.Dictionary`2<ConsedNode`1<Ty[]>,Microsoft.FSharp.Core.FSharpOption`1<Ty>>,HashConsTable>>, LangEnv, E)\r\n",
      "00:00:43 #263 [Debug] >    at System.Runtime.CompilerServices.RuntimeHelpers.DispatchTailCalls(IntPtr, Void (IntPtr, Byte ByRef, System.Runtime.CompilerServices.PortableTailCallFrame*), Byte ByRef)\r\n",
      "00:00:43 #264 [Debug] >    at Spiral.PartEval.Main.term@655-65(TopEnv, System.Collections.Generic.Dictionary`2<E,System.Tuple`2<System.Collections.Generic.Dictionary`2<ConsedNode`1<System.Tuple`2<RData[],Ty[]>>,System.Tuple`3<Microsoft.FSharp.Core.FSharpOption`1<TypedBind[]>,Microsoft.FSharp.Core.FSharpOption`1<Ty>,Microsoft.FSharp.Core.FSharpOption`1<System.String>>>,HashConsTable>>, System.Collections.Generic.Dictionary`2<E,System.Tuple`2<System.Collections.Generic.Dictionary`2<ConsedNode`1<System.Tuple`4<RData[],Ty[],Ty,Ty>>,Microsoft.FSharp.Core.FSharpOption`1<System.Tuple`2<Data,TypedBind[]>>>,HashConsTable>>, System.Collections.Generic.Dictionary`2<T,System.Tuple`2<System.Collections.Generic.Dictionary`2<ConsedNode`1<Ty[]>,Microsoft.FSharp.Core.FSharpOption`1<Ty>>,HashConsTable>>, LangEnv, E)\r\n",
      "00:00:43 #265 [Debug] >    at Spiral.PartEval.Main.term@655-65(TopEnv, System.Collections.Generic.Dictionary`2<E,System.Tuple`2<System.Collections.Generic.Dictionary`2<ConsedNode`1<System.Tuple`2<RData[],Ty[]>>,System.Tuple`3<Microsoft.FSharp.Core.FSharpOption`1<TypedBind[]>,Microsoft.FSharp.Core.FSharpOption`1<Ty>,Microsoft.FSharp.Core.FSharpOption`1<System.String>>>,HashConsTable>>, System.Collections.Generic.Dictionary`2<E,System.Tuple`2<System.Collections.Generic.Dictionary`2<ConsedNode`1<System.Tuple`4<RData[],Ty[],Ty,Ty>>,Microsoft.FSharp.Core.FSharpOption`1<System.Tuple`2<Data,TypedBind[]>>>,HashConsTable>>, System.Collections.Generic.Dictionary`2<T,System.Tuple`2<System.Collections.Generic.Dictionary`2<ConsedNode`1<Ty[]>,Microsoft.FSharp.Core.FSharpOption`1<Ty>>,HashConsTable>>, LangEnv, E)\r\n",
      "00:00:43 #266 [Debug] >    at System.Runtime.CompilerServices.RuntimeHelpers.DispatchTailCalls(IntPtr, Void (IntPtr, Byte ByRef, System.Runtime.CompilerServices.PortableTailCallFrame*), Byte ByRef)\r\n",
      "00:00:43 #267 [Debug] >    at Spiral.PartEval.Main.term@655-65(TopEnv, System.Collections.Generic.Dictionary`2<E,System.Tuple`2<System.Collections.Generic.Dictionary`2<ConsedNode`1<System.Tuple`2<RData[],Ty[]>>,System.Tuple`3<Microsoft.FSharp.Core.FSharpOption`1<TypedBind[]>,Microsoft.FSharp.Core.FSharpOption`1<Ty>,Microsoft.FSharp.Core.FSharpOption`1<System.String>>>,HashConsTable>>, System.Collections.Generic.Dictionary`2<E,System.Tuple`2<System.Collections.Generic.Dictionary`2<ConsedNode`1<System.Tuple`4<RData[],Ty[],Ty,Ty>>,Microsoft.FSharp.Core.FSharpOption`1<System.Tuple`2<Data,TypedBind[]>>>,HashConsTable>>, System.Collections.Generic.Dictionary`2<T,System.Tuple`2<System.Collections.Generic.Dictionary`2<ConsedNode`1<Ty[]>,Microsoft.FSharp.Core.FSharpOption`1<Ty>>,HashConsTable>>, LangEnv, E)\r\n",
      "00:00:43 #268 [Debug] >    at Spiral.PartEval.Main.term@655-65(TopEnv, System.Collections.Generic.Dictionary`2<E,System.Tuple`2<System.Collections.Generic.Dictionary`2<ConsedNode`1<System.Tuple`2<RData[],Ty[]>>,System.Tuple`3<Microsoft.FSharp.Core.FSharpOption`1<TypedBind[]>,Microsoft.FSharp.Core.FSharpOption`1<Ty>,Microsoft.FSharp.Core.FSharpOption`1<System.String>>>,HashConsTable>>, System.Collections.Generic.Dictionary`2<E,System.Tuple`2<System.Collections.Generic.Dictionary`2<ConsedNode`1<System.Tuple`4<RData[],Ty[],Ty,Ty>>,Microsoft.FSharp.Core.FSharpOption`1<System.Tuple`2<Data,TypedBind[]>>>,HashConsTable>>, System.Collections.Generic.Dictionary`2<T,System.Tuple`2<System.Collections.Generic.Dictionary`2<ConsedNode`1<Ty[]>,Microsoft.FSharp.Core.FSharpOption`1<Ty>>,HashConsTable>>, LangEnv, E)\r\n",
      "00:00:43 #269 [Debug] >    at System.Runtime.CompilerServices.RuntimeHelpers.DispatchTailCalls(IntPtr, Void (IntPtr, Byte ByRef, System.Runtime.CompilerServices.PortableTailCallFrame*), Byte ByRef)\r\n",
      "00:00:43 #270 [Debug] >    at Spiral.PartEval.Main.term@655-65(TopEnv, System.Collections.Generic.Dictionary`2<E,System.Tuple`2<System.Collections.Generic.Dictionary`2<ConsedNode`1<System.Tuple`2<RData[],Ty[]>>,System.Tuple`3<Microsoft.FSharp.Core.FSharpOption`1<TypedBind[]>,Microsoft.FSharp.Core.FSharpOption`1<Ty>,Microsoft.FSharp.Core.FSharpOption`1<System.String>>>,HashConsTable>>, System.Collections.Generic.Dictionary`2<E,System.Tuple`2<System.Collections.Generic.Dictionary`2<ConsedNode`1<System.Tuple`4<RData[],Ty[],Ty,Ty>>,Microsoft.FSharp.Core.FSharpOption`1<System.Tuple`2<Data,TypedBind[]>>>,HashConsTable>>, System.Collections.Generic.Dictionary`2<T,System.Tuple`2<System.Collections.Generic.Dictionary`2<ConsedNode`1<Ty[]>,Microsoft.FSharp.Core.FSharpOption`1<Ty>>,HashConsTable>>, LangEnv, E)\r\n",
      "00:00:43 #271 [Debug] >    at Spiral.PartEval.Main.term@655-65(TopEnv, System.Collections.Generic.Dictionary`2<E,System.Tuple`2<System.Collections.Generic.Dictionary`2<ConsedNode`1<System.Tuple`2<RData[],Ty[]>>,System.Tuple`3<Microsoft.FSharp.Core.FSharpOption`1<TypedBind[]>,Microsoft.FSharp.Core.FSharpOption`1<Ty>,Microsoft.FSharp.Core.FSharpOption`1<System.String>>>,HashConsTable>>, System.Collections.Generic.Dictionary`2<E,System.Tuple`2<System.Collections.Generic.Dictionary`2<ConsedNode`1<System.Tuple`4<RData[],Ty[],Ty,Ty>>,Microsoft.FSharp.Core.FSharpOption`1<System.Tuple`2<Data,TypedBind[]>>>,HashConsTable>>, System.Collections.Generic.Dictionary`2<T,System.Tuple`2<System.Collections.Generic.Dictionary`2<ConsedNode`1<Ty[]>,Microsoft.FSharp.Core.FSharpOption`1<Ty>>,HashConsTable>>, LangEnv, E)\r\n",
      "00:00:43 #272 [Debug] >    at System.Runtime.CompilerServices.RuntimeHelpers.DispatchTailCalls(IntPtr, Void (IntPtr, Byte ByRef, System.Runtime.CompilerServices.PortableTailCallFrame*), Byte ByRef)\r\n",
      "00:00:43 #273 [Debug] >    at Spiral.PartEval.Main.term@655-65(TopEnv, System.Collections.Generic.Dictionary`2<E,System.Tuple`2<System.Collections.Generic.Dictionary`2<ConsedNode`1<System.Tuple`2<RData[],Ty[]>>,System.Tuple`3<Microsoft.FSharp.Core.FSharpOption`1<TypedBind[]>,Microsoft.FSharp.Core.FSharpOption`1<Ty>,Microsoft.FSharp.Core.FSharpOption`1<System.String>>>,HashConsTable>>, System.Collections.Generic.Dictionary`2<E,System.Tuple`2<System.Collections.Generic.Dictionary`2<ConsedNode`1<System.Tuple`4<RData[],Ty[],Ty,Ty>>,Microsoft.FSharp.Core.FSharpOption`1<System.Tuple`2<Data,TypedBind[]>>>,HashConsTable>>, System.Collections.Generic.Dictionary`2<T,System.Tuple`2<System.Collections.Generic.Dictionary`2<ConsedNode`1<Ty[]>,Microsoft.FSharp.Core.FSharpOption`1<Ty>>,HashConsTable>>, LangEnv, E)\r\n",
      "00:00:43 #274 [Debug] >    at Spiral.PartEval.Main.term@655-65(TopEnv, System.Collections.Generic.Dictionary`2<E,System.Tuple`2<System.Collections.Generic.Dictionary`2<ConsedNode`1<System.Tuple`2<RData[],Ty[]>>,System.Tuple`3<Microsoft.FSharp.Core.FSharpOption`1<TypedBind[]>,Microsoft.FSharp.Core.FSharpOption`1<Ty>,Microsoft.FSharp.Core.FSharpOption`1<System.String>>>,HashConsTable>>, System.Collections.Generic.Dictionary`2<E,System.Tuple`2<System.Collections.Generic.Dictionary`2<ConsedNode`1<System.Tuple`4<RData[],Ty[],Ty,Ty>>,Microsoft.FSharp.Core.FSharpOption`1<System.Tuple`2<Data,TypedBind[]>>>,HashConsTable>>, System.Collections.Generic.Dictionary`2<T,System.Tuple`2<System.Collections.Generic.Dictionary`2<ConsedNode`1<Ty[]>,Microsoft.FSharp.Core.FSharpOption`1<Ty>>,HashConsTable>>, LangEnv, E)\r\n",
      "00:00:43 #275 [Debug] >    at System.Runtime.CompilerServices.RuntimeHelpers.DispatchTailCalls(IntPtr, Void (IntPtr, Byte ByRef, System.Runtime.CompilerServices.PortableTailCallFrame*), Byte ByRef)\r\n",
      "00:00:43 #276 [Debug] >    at Spiral.PartEval.Main.term@655-65(TopEnv, System.Collections.Generic.Dictionary`2<E,System.Tuple`2<System.Collections.Generic.Dictionary`2<ConsedNode`1<System.Tuple`2<RData[],Ty[]>>,System.Tuple`3<Microsoft.FSharp.Core.FSharpOption`1<TypedBind[]>,Microsoft.FSharp.Core.FSharpOption`1<Ty>,Microsoft.FSharp.Core.FSharpOption`1<System.String>>>,HashConsTable>>, System.Collections.Generic.Dictionary`2<E,System.Tuple`2<System.Collections.Generic.Dictionary`2<ConsedNode`1<System.Tuple`4<RData[],Ty[],Ty,Ty>>,Microsoft.FSharp.Core.FSharpOption`1<System.Tuple`2<Data,TypedBind[]>>>,HashConsTable>>, System.Collections.Generic.Dictionary`2<T,System.Tuple`2<System.Collections.Generic.Dictionary`2<ConsedNode`1<Ty[]>,Microsoft.FSharp.Core.FSharpOption`1<Ty>>,HashConsTable>>, LangEnv, E)\r\n",
      "00:00:43 #277 [Debug] >    at Spiral.PartEval.Main.term@655-65(TopEnv, System.Collections.Generic.Dictionary`2<E,System.Tuple`2<System.Collections.Generic.Dictionary`2<ConsedNode`1<System.Tuple`2<RData[],Ty[]>>,System.Tuple`3<Microsoft.FSharp.Core.FSharpOption`1<TypedBind[]>,Microsoft.FSharp.Core.FSharpOption`1<Ty>,Microsoft.FSharp.Core.FSharpOption`1<System.String>>>,HashConsTable>>, System.Collections.Generic.Dictionary`2<E,System.Tuple`2<System.Collections.Generic.Dictionary`2<ConsedNode`1<System.Tuple`4<RData[],Ty[],Ty,Ty>>,Microsoft.FSharp.Core.FSharpOption`1<System.Tuple`2<Data,TypedBind[]>>>,HashConsTable>>, System.Collections.Generic.Dictionary`2<T,System.Tuple`2<System.Collections.Generic.Dictionary`2<ConsedNode`1<Ty[]>,Microsoft.FSharp.Core.FSharpOption`1<Ty>>,HashConsTable>>, LangEnv, E)\r\n",
      "00:00:43 #278 [Debug] >    at System.Runtime.CompilerServices.RuntimeHelpers.DispatchTailCalls(IntPtr, Void (IntPtr, Byte ByRef, System.Runtime.CompilerServices.PortableTailCallFrame*), Byte ByRef)\r\n",
      "00:00:43 #279 [Debug] >    at Spiral.PartEval.Main.term@655-65(TopEnv, System.Collections.Generic.Dictionary`2<E,System.Tuple`2<System.Collections.Generic.Dictionary`2<ConsedNode`1<System.Tuple`2<RData[],Ty[]>>,System.Tuple`3<Microsoft.FSharp.Core.FSharpOption`1<TypedBind[]>,Microsoft.FSharp.Core.FSharpOption`1<Ty>,Microsoft.FSharp.Core.FSharpOption`1<System.String>>>,HashConsTable>>, System.Collections.Generic.Dictionary`2<E,System.Tuple`2<System.Collections.Generic.Dictionary`2<ConsedNode`1<System.Tuple`4<RData[],Ty[],Ty,Ty>>,Microsoft.FSharp.Core.FSharpOption`1<System.Tuple`2<Data,TypedBind[]>>>,HashConsTable>>, System.Collections.Generic.Dictionary`2<T,System.Tuple`2<System.Collections.Generic.Dictionary`2<ConsedNode`1<Ty[]>,Microsoft.FSharp.Core.FSharpOption`1<Ty>>,HashConsTable>>, LangEnv, E)\r\n",
      "00:00:43 #280 [Debug] >    at Spiral.PartEval.Main.term@655-65(TopEnv, System.Collections.Generic.Dictionary`2<E,System.Tuple`2<System.Collections.Generic.Dictionary`2<ConsedNode`1<System.Tuple`2<RData[],Ty[]>>,System.Tuple`3<Microsoft.FSharp.Core.FSharpOption`1<TypedBind[]>,Microsoft.FSharp.Core.FSharpOption`1<Ty>,Microsoft.FSharp.Core.FSharpOption`1<System.String>>>,HashConsTable>>, System.Collections.Generic.Dictionary`2<E,System.Tuple`2<System.Collections.Generic.Dictionary`2<ConsedNode`1<System.Tuple`4<RData[],Ty[],Ty,Ty>>,Microsoft.FSharp.Core.FSharpOption`1<System.Tuple`2<Data,TypedBind[]>>>,HashConsTable>>, System.Collections.Generic.Dictionary`2<T,System.Tuple`2<System.Collections.Generic.Dictionary`2<ConsedNode`1<Ty[]>,Microsoft.FSharp.Core.FSharpOption`1<Ty>>,HashConsTable>>, LangEnv, E)\r\n",
      "00:00:43 #281 [Debug] >    at System.Runtime.CompilerServices.RuntimeHelpers.DispatchTailCalls(IntPtr, Void (IntPtr, Byte ByRef, System.Runtime.CompilerServices.PortableTailCallFrame*), Byte ByRef)\r\n",
      "00:00:43 #282 [Debug] >    at Spiral.PartEval.Main.term@655-65(TopEnv, System.Collections.Generic.Dictionary`2<E,System.Tuple`2<System.Collections.Generic.Dictionary`2<ConsedNode`1<System.Tuple`2<RData[],Ty[]>>,System.Tuple`3<Microsoft.FSharp.Core.FSharpOption`1<TypedBind[]>,Microsoft.FSharp.Core.FSharpOption`1<Ty>,Microsoft.FSharp.Core.FSharpOption`1<System.String>>>,HashConsTable>>, System.Collections.Generic.Dictionary`2<E,System.Tuple`2<System.Collections.Generic.Dictionary`2<ConsedNode`1<System.Tuple`4<RData[],Ty[],Ty,Ty>>,Microsoft.FSharp.Core.FSharpOption`1<System.Tuple`2<Data,TypedBind[]>>>,HashConsTable>>, System.Collections.Generic.Dictionary`2<T,System.Tuple`2<System.Collections.Generic.Dictionary`2<ConsedNode`1<Ty[]>,Microsoft.FSharp.Core.FSharpOption`1<Ty>>,HashConsTable>>, LangEnv, E)\r\n",
      "00:00:43 #283 [Debug] >    at Spiral.PartEval.Main.term@655-65(TopEnv, System.Collections.Generic.Dictionary`2<E,System.Tuple`2<System.Collections.Generic.Dictionary`2<ConsedNode`1<System.Tuple`2<RData[],Ty[]>>,System.Tuple`3<Microsoft.FSharp.Core.FSharpOption`1<TypedBind[]>,Microsoft.FSharp.Core.FSharpOption`1<Ty>,Microsoft.FSharp.Core.FSharpOption`1<System.String>>>,HashConsTable>>, System.Collections.Generic.Dictionary`2<E,System.Tuple`2<System.Collections.Generic.Dictionary`2<ConsedNode`1<System.Tuple`4<RData[],Ty[],Ty,Ty>>,Microsoft.FSharp.Core.FSharpOption`1<System.Tuple`2<Data,TypedBind[]>>>,HashConsTable>>, System.Collections.Generic.Dictionary`2<T,System.Tuple`2<System.Collections.Generic.Dictionary`2<ConsedNode`1<Ty[]>,Microsoft.FSharp.Core.FSharpOption`1<Ty>>,HashConsTable>>, LangEnv, E)\r\n",
      "00:00:43 #284 [Debug] >    at System.Runtime.CompilerServices.RuntimeHelpers.DispatchTailCalls(IntPtr, Void (IntPtr, Byte ByRef, System.Runtime.CompilerServices.PortableTailCallFrame*), Byte ByRef)\r\n",
      "00:00:43 #285 [Debug] >    at Spiral.PartEval.Main.term@655-65(TopEnv, System.Collections.Generic.Dictionary`2<E,System.Tuple`2<System.Collections.Generic.Dictionary`2<ConsedNode`1<System.Tuple`2<RData[],Ty[]>>,System.Tuple`3<Microsoft.FSharp.Core.FSharpOption`1<TypedBind[]>,Microsoft.FSharp.Core.FSharpOption`1<Ty>,Microsoft.FSharp.Core.FSharpOption`1<System.String>>>,HashConsTable>>, System.Collections.Generic.Dictionary`2<E,System.Tuple`2<System.Collections.Generic.Dictionary`2<ConsedNode`1<System.Tuple`4<RData[],Ty[],Ty,Ty>>,Microsoft.FSharp.Core.FSharpOption`1<System.Tuple`2<Data,TypedBind[]>>>,HashConsTable>>, System.Collections.Generic.Dictionary`2<T,System.Tuple`2<System.Collections.Generic.Dictionary`2<ConsedNode`1<Ty[]>,Microsoft.FSharp.Core.FSharpOption`1<Ty>>,HashConsTable>>, LangEnv, E)\r\n",
      "00:00:43 #286 [Debug] >    at Spiral.PartEval.Main.term@655-65(TopEnv, System.Collections.Generic.Dictionary`2<E,System.Tuple`2<System.Collections.Generic.Dictionary`2<ConsedNode`1<System.Tuple`2<RData[],Ty[]>>,System.Tuple`3<Microsoft.FSharp.Core.FSharpOption`1<TypedBind[]>,Microsoft.FSharp.Core.FSharpOption`1<Ty>,Microsoft.FSharp.Core.FSharpOption`1<System.String>>>,HashConsTable>>, System.Collections.Generic.Dictionary`2<E,System.Tuple`2<System.Collections.Generic.Dictionary`2<ConsedNode`1<System.Tuple`4<RData[],Ty[],Ty,Ty>>,Microsoft.FSharp.Core.FSharpOption`1<System.Tuple`2<Data,TypedBind[]>>>,HashConsTable>>, System.Collections.Generic.Dictionary`2<T,System.Tuple`2<System.Collections.Generic.Dictionary`2<ConsedNode`1<Ty[]>,Microsoft.FSharp.Core.FSharpOption`1<Ty>>,HashConsTable>>, LangEnv, E)\r\n",
      "00:00:43 #287 [Debug] >    at System.Runtime.CompilerServices.RuntimeHelpers.DispatchTailCalls(IntPtr, Void (IntPtr, Byte ByRef, System.Runtime.CompilerServices.PortableTailCallFrame*), Byte ByRef)\r\n",
      "00:00:43 #288 [Debug] >    at Spiral.PartEval.Main.term@655-65(TopEnv, System.Collections.Generic.Dictionary`2<E,System.Tuple`2<System.Collections.Generic.Dictionary`2<ConsedNode`1<System.Tuple`2<RData[],Ty[]>>,System.Tuple`3<Microsoft.FSharp.Core.FSharpOption`1<TypedBind[]>,Microsoft.FSharp.Core.FSharpOption`1<Ty>,Microsoft.FSharp.Core.FSharpOption`1<System.String>>>,HashConsTable>>, System.Collections.Generic.Dictionary`2<E,System.Tuple`2<System.Collections.Generic.Dictionary`2<ConsedNode`1<System.Tuple`4<RData[],Ty[],Ty,Ty>>,Microsoft.FSharp.Core.FSharpOption`1<System.Tuple`2<Data,TypedBind[]>>>,HashConsTable>>, System.Collections.Generic.Dictionary`2<T,System.Tuple`2<System.Collections.Generic.Dictionary`2<ConsedNode`1<Ty[]>,Microsoft.FSharp.Core.FSharpOption`1<Ty>>,HashConsTable>>, LangEnv, E)\r\n",
      "00:00:43 #289 [Debug] >    at Spiral.PartEval.Main.term@655-65(TopEnv, System.Collections.Generic.Dictionary`2<E,System.Tuple`2<System.Collections.Generic.Dictionary`2<ConsedNode`1<System.Tuple`2<RData[],Ty[]>>,System.Tuple`3<Microsoft.FSharp.Core.FSharpOption`1<TypedBind[]>,Microsoft.FSharp.Core.FSharpOption`1<Ty>,Microsoft.FSharp.Core.FSharpOption`1<System.String>>>,HashConsTable>>, System.Collections.Generic.Dictionary`2<E,System.Tuple`2<System.Collections.Generic.Dictionary`2<ConsedNode`1<System.Tuple`4<RData[],Ty[],Ty,Ty>>,Microsoft.FSharp.Core.FSharpOption`1<System.Tuple`2<Data,TypedBind[]>>>,HashConsTable>>, System.Collections.Generic.Dictionary`2<T,System.Tuple`2<System.Collections.Generic.Dictionary`2<ConsedNode`1<Ty[]>,Microsoft.FSharp.Core.FSharpOption`1<Ty>>,HashConsTable>>, LangEnv, E)\r\n",
      "00:00:43 #290 [Debug] >    at System.Runtime.CompilerServices.RuntimeHelpers.DispatchTailCalls(IntPtr, Void (IntPtr, Byte ByRef, System.Runtime.CompilerServices.PortableTailCallFrame*), Byte ByRef)\r\n",
      "00:00:43 #291 [Debug] >    at Spiral.PartEval.Main.term@655-65(TopEnv, System.Collections.Generic.Dictionary`2<E,System.Tuple`2<System.Collections.Generic.Dictionary`2<ConsedNode`1<System.Tuple`2<RData[],Ty[]>>,System.Tuple`3<Microsoft.FSharp.Core.FSharpOption`1<TypedBind[]>,Microsoft.FSharp.Core.FSharpOption`1<Ty>,Microsoft.FSharp.Core.FSharpOption`1<System.String>>>,HashConsTable>>, System.Collections.Generic.Dictionary`2<E,System.Tuple`2<System.Collections.Generic.Dictionary`2<ConsedNode`1<System.Tuple`4<RData[],Ty[],Ty,Ty>>,Microsoft.FSharp.Core.FSharpOption`1<System.Tuple`2<Data,TypedBind[]>>>,HashConsTable>>, System.Collections.Generic.Dictionary`2<T,System.Tuple`2<System.Collections.Generic.Dictionary`2<ConsedNode`1<Ty[]>,Microsoft.FSharp.Core.FSharpOption`1<Ty>>,HashConsTable>>, LangEnv, E)\r\n",
      "00:00:43 #292 [Debug] >    at Spiral.PartEval.Main.term@655-65(TopEnv, System.Collections.Generic.Dictionary`2<E,System.Tuple`2<System.Collections.Generic.Dictionary`2<ConsedNode`1<System.Tuple`2<RData[],Ty[]>>,System.Tuple`3<Microsoft.FSharp.Core.FSharpOption`1<TypedBind[]>,Microsoft.FSharp.Core.FSharpOption`1<Ty>,Microsoft.FSharp.Core.FSharpOption`1<System.String>>>,HashConsTable>>, System.Collections.Generic.Dictionary`2<E,System.Tuple`2<System.Collections.Generic.Dictionary`2<ConsedNode`1<System.Tuple`4<RData[],Ty[],Ty,Ty>>,Microsoft.FSharp.Core.FSharpOption`1<System.Tuple`2<Data,TypedBind[]>>>,HashConsTable>>, System.Collections.Generic.Dictionary`2<T,System.Tuple`2<System.Collections.Generic.Dictionary`2<ConsedNode`1<Ty[]>,Microsoft.FSharp.Core.FSharpOption`1<Ty>>,HashConsTable>>, LangEnv, E)\r\n",
      "00:00:43 #293 [Debug] >    at System.Runtime.CompilerServices.RuntimeHelpers.DispatchTailCalls(IntPtr, Void (IntPtr, Byte ByRef, System.Runtime.CompilerServices.PortableTailCallFrame*), Byte ByRef)\r\n",
      "00:00:43 #294 [Debug] >    at Spiral.PartEval.Main.term@655-65(TopEnv, System.Collections.Generic.Dictionary`2<E,System.Tuple`2<System.Collections.Generic.Dictionary`2<ConsedNode`1<System.Tuple`2<RData[],Ty[]>>,System.Tuple`3<Microsoft.FSharp.Core.FSharpOption`1<TypedBind[]>,Microsoft.FSharp.Core.FSharpOption`1<Ty>,Microsoft.FSharp.Core.FSharpOption`1<System.String>>>,HashConsTable>>, System.Collections.Generic.Dictionary`2<E,System.Tuple`2<System.Collections.Generic.Dictionary`2<ConsedNode`1<System.Tuple`4<RData[],Ty[],Ty,Ty>>,Microsoft.FSharp.Core.FSharpOption`1<System.Tuple`2<Data,TypedBind[]>>>,HashConsTable>>, System.Collections.Generic.Dictionary`2<T,System.Tuple`2<System.Collections.Generic.Dictionary`2<ConsedNode`1<Ty[]>,Microsoft.FSharp.Core.FSharpOption`1<Ty>>,HashConsTable>>, LangEnv, E)\r\n",
      "00:00:43 #295 [Debug] >    at Spiral.PartEval.Main.term@655-65(TopEnv, System.Collections.Generic.Dictionary`2<E,System.Tuple`2<System.Collections.Generic.Dictionary`2<ConsedNode`1<System.Tuple`2<RData[],Ty[]>>,System.Tuple`3<Microsoft.FSharp.Core.FSharpOption`1<TypedBind[]>,Microsoft.FSharp.Core.FSharpOption`1<Ty>,Microsoft.FSharp.Core.FSharpOption`1<System.String>>>,HashConsTable>>, System.Collections.Generic.Dictionary`2<E,System.Tuple`2<System.Collections.Generic.Dictionary`2<ConsedNode`1<System.Tuple`4<RData[],Ty[],Ty,Ty>>,Microsoft.FSharp.Core.FSharpOption`1<System.Tuple`2<Data,TypedBind[]>>>,HashConsTable>>, System.Collections.Generic.Dictionary`2<T,System.Tuple`2<System.Collections.Generic.Dictionary`2<ConsedNode`1<Ty[]>,Microsoft.FSharp.Core.FSharpOption`1<Ty>>,HashConsTable>>, LangEnv, E)\r\n",
      "00:00:43 #296 [Debug] >    at System.Runtime.CompilerServices.RuntimeHelpers.DispatchTailCalls(IntPtr, Void (IntPtr, Byte ByRef, System.Runtime.CompilerServices.PortableTailCallFrame*), Byte ByRef)\r\n",
      "00:00:43 #297 [Debug] >    at Spiral.PartEval.Main.term@655-65(TopEnv, System.Collections.Generic.Dictionary`2<E,System.Tuple`2<System.Collections.Generic.Dictionary`2<ConsedNode`1<System.Tuple`2<RData[],Ty[]>>,System.Tuple`3<Microsoft.FSharp.Core.FSharpOption`1<TypedBind[]>,Microsoft.FSharp.Core.FSharpOption`1<Ty>,Microsoft.FSharp.Core.FSharpOption`1<System.String>>>,HashConsTable>>, System.Collections.Generic.Dictionary`2<E,System.Tuple`2<System.Collections.Generic.Dictionary`2<ConsedNode`1<System.Tuple`4<RData[],Ty[],Ty,Ty>>,Microsoft.FSharp.Core.FSharpOption`1<System.Tuple`2<Data,TypedBind[]>>>,HashConsTable>>, System.Collections.Generic.Dictionary`2<T,System.Tuple`2<System.Collections.Generic.Dictionary`2<ConsedNode`1<Ty[]>,Microsoft.FSharp.Core.FSharpOption`1<Ty>>,HashConsTable>>, LangEnv, E)\r\n",
      "00:00:43 #298 [Debug] >    at Spiral.PartEval.Main.term@655-65(TopEnv, System.Collections.Generic.Dictionary`2<E,System.Tuple`2<System.Collections.Generic.Dictionary`2<ConsedNode`1<System.Tuple`2<RData[],Ty[]>>,System.Tuple`3<Microsoft.FSharp.Core.FSharpOption`1<TypedBind[]>,Microsoft.FSharp.Core.FSharpOption`1<Ty>,Microsoft.FSharp.Core.FSharpOption`1<System.String>>>,HashConsTable>>, System.Collections.Generic.Dictionary`2<E,System.Tuple`2<System.Collections.Generic.Dictionary`2<ConsedNode`1<System.Tuple`4<RData[],Ty[],Ty,Ty>>,Microsoft.FSharp.Core.FSharpOption`1<System.Tuple`2<Data,TypedBind[]>>>,HashConsTable>>, System.Collections.Generic.Dictionary`2<T,System.Tuple`2<System.Collections.Generic.Dictionary`2<ConsedNode`1<Ty[]>,Microsoft.FSharp.Core.FSharpOption`1<Ty>>,HashConsTable>>, LangEnv, E)\r\n",
      "00:00:43 #299 [Debug] >    at System.Runtime.CompilerServices.RuntimeHelpers.DispatchTailCalls(IntPtr, Void (IntPtr, Byte ByRef, System.Runtime.CompilerServices.PortableTailCallFrame*), Byte ByRef)\r\n",
      "00:00:43 #300 [Debug] >    at Spiral.PartEval.Main.term@655-65(TopEnv, System.Collections.Generic.Dictionary`2<E,System.Tuple`2<System.Collections.Generic.Dictionary`2<ConsedNode`1<System.Tuple`2<RData[],Ty[]>>,System.Tuple`3<Microsoft.FSharp.Core.FSharpOption`1<TypedBind[]>,Microsoft.FSharp.Core.FSharpOption`1<Ty>,Microsoft.FSharp.Core.FSharpOption`1<System.String>>>,HashConsTable>>, System.Collections.Generic.Dictionary`2<E,System.Tuple`2<System.Collections.Generic.Dictionary`2<ConsedNode`1<System.Tuple`4<RData[],Ty[],Ty,Ty>>,Microsoft.FSharp.Core.FSharpOption`1<System.Tuple`2<Data,TypedBind[]>>>,HashConsTable>>, System.Collections.Generic.Dictionary`2<T,System.Tuple`2<System.Collections.Generic.Dictionary`2<ConsedNode`1<Ty[]>,Microsoft.FSharp.Core.FSharpOption`1<Ty>>,HashConsTable>>, LangEnv, E)\r\n",
      "00:00:43 #301 [Debug] >    at Spiral.PartEval.Main.term@655-65(TopEnv, System.Collections.Generic.Dictionary`2<E,System.Tuple`2<System.Collections.Generic.Dictionary`2<ConsedNode`1<System.Tuple`2<RData[],Ty[]>>,System.Tuple`3<Microsoft.FSharp.Core.FSharpOption`1<TypedBind[]>,Microsoft.FSharp.Core.FSharpOption`1<Ty>,Microsoft.FSharp.Core.FSharpOption`1<System.String>>>,HashConsTable>>, System.Collections.Generic.Dictionary`2<E,System.Tuple`2<System.Collections.Generic.Dictionary`2<ConsedNode`1<System.Tuple`4<RData[],Ty[],Ty,Ty>>,Microsoft.FSharp.Core.FSharpOption`1<System.Tuple`2<Data,TypedBind[]>>>,HashConsTable>>, System.Collections.Generic.Dictionary`2<T,System.Tuple`2<System.Collections.Generic.Dictionary`2<ConsedNode`1<Ty[]>,Microsoft.FSharp.Core.FSharpOption`1<Ty>>,HashConsTable>>, LangEnv, E)\r\n",
      "00:00:43 #302 [Debug] >    at System.Runtime.CompilerServices.RuntimeHelpers.DispatchTailCalls(IntPtr, Void (IntPtr, Byte ByRef, System.Runtime.CompilerServices.PortableTailCallFrame*), Byte ByRef)\r\n",
      "00:00:43 #303 [Debug] >    at Spiral.PartEval.Main.term@655-65(TopEnv, System.Collections.Generic.Dictionary`2<E,System.Tuple`2<System.Collections.Generic.Dictionary`2<ConsedNode`1<System.Tuple`2<RData[],Ty[]>>,System.Tuple`3<Microsoft.FSharp.Core.FSharpOption`1<TypedBind[]>,Microsoft.FSharp.Core.FSharpOption`1<Ty>,Microsoft.FSharp.Core.FSharpOption`1<System.String>>>,HashConsTable>>, System.Collections.Generic.Dictionary`2<E,System.Tuple`2<System.Collections.Generic.Dictionary`2<ConsedNode`1<System.Tuple`4<RData[],Ty[],Ty,Ty>>,Microsoft.FSharp.Core.FSharpOption`1<System.Tuple`2<Data,TypedBind[]>>>,HashConsTable>>, System.Collections.Generic.Dictionary`2<T,System.Tuple`2<System.Collections.Generic.Dictionary`2<ConsedNode`1<Ty[]>,Microsoft.FSharp.Core.FSharpOption`1<Ty>>,HashConsTable>>, LangEnv, E)\r\n",
      "00:00:43 #304 [Debug] >    at Spiral.PartEval.Main.term@655-65(TopEnv, System.Collections.Generic.Dictionary`2<E,System.Tuple`2<System.Collections.Generic.Dictionary`2<ConsedNode`1<System.Tuple`2<RData[],Ty[]>>,System.Tuple`3<Microsoft.FSharp.Core.FSharpOption`1<TypedBind[]>,Microsoft.FSharp.Core.FSharpOption`1<Ty>,Microsoft.FSharp.Core.FSharpOption`1<System.String>>>,HashConsTable>>, System.Collections.Generic.Dictionary`2<E,System.Tuple`2<System.Collections.Generic.Dictionary`2<ConsedNode`1<System.Tuple`4<RData[],Ty[],Ty,Ty>>,Microsoft.FSharp.Core.FSharpOption`1<System.Tuple`2<Data,TypedBind[]>>>,HashConsTable>>, System.Collections.Generic.Dictionary`2<T,System.Tuple`2<System.Collections.Generic.Dictionary`2<ConsedNode`1<Ty[]>,Microsoft.FSharp.Core.FSharpOption`1<Ty>>,HashConsTable>>, LangEnv, E)\r\n",
      "00:00:43 #305 [Debug] >    at System.Runtime.CompilerServices.RuntimeHelpers.DispatchTailCalls(IntPtr, Void (IntPtr, Byte ByRef, System.Runtime.CompilerServices.PortableTailCallFrame*), Byte ByRef)\r\n",
      "00:00:43 #306 [Debug] >    at Spiral.PartEval.Main.term@655-65(TopEnv, System.Collections.Generic.Dictionary`2<E,System.Tuple`2<System.Collections.Generic.Dictionary`2<ConsedNode`1<System.Tuple`2<RData[],Ty[]>>,System.Tuple`3<Microsoft.FSharp.Core.FSharpOption`1<TypedBind[]>,Microsoft.FSharp.Core.FSharpOption`1<Ty>,Microsoft.FSharp.Core.FSharpOption`1<System.String>>>,HashConsTable>>, System.Collections.Generic.Dictionary`2<E,System.Tuple`2<System.Collections.Generic.Dictionary`2<ConsedNode`1<System.Tuple`4<RData[],Ty[],Ty,Ty>>,Microsoft.FSharp.Core.FSharpOption`1<System.Tuple`2<Data,TypedBind[]>>>,HashConsTable>>, System.Collections.Generic.Dictionary`2<T,System.Tuple`2<System.Collections.Generic.Dictionary`2<ConsedNode`1<Ty[]>,Microsoft.FSharp.Core.FSharpOption`1<Ty>>,HashConsTable>>, LangEnv, E)\r\n",
      "00:00:43 #307 [Debug] >    at Spiral.PartEval.Main.term@655-65(TopEnv, System.Collections.Generic.Dictionary`2<E,System.Tuple`2<System.Collections.Generic.Dictionary`2<ConsedNode`1<System.Tuple`2<RData[],Ty[]>>,System.Tuple`3<Microsoft.FSharp.Core.FSharpOption`1<TypedBind[]>,Microsoft.FSharp.Core.FSharpOption`1<Ty>,Microsoft.FSharp.Core.FSharpOption`1<System.String>>>,HashConsTable>>, System.Collections.Generic.Dictionary`2<E,System.Tuple`2<System.Collections.Generic.Dictionary`2<ConsedNode`1<System.Tuple`4<RData[],Ty[],Ty,Ty>>,Microsoft.FSharp.Core.FSharpOption`1<System.Tuple`2<Data,TypedBind[]>>>,HashConsTable>>, System.Collections.Generic.Dictionary`2<T,System.Tuple`2<System.Collections.Generic.Dictionary`2<ConsedNode`1<Ty[]>,Microsoft.FSharp.Core.FSharpOption`1<Ty>>,HashConsTable>>, LangEnv, E)\r\n",
      "00:00:43 #308 [Debug] >    at System.Runtime.CompilerServices.RuntimeHelpers.DispatchTailCalls(IntPtr, Void (IntPtr, Byte ByRef, System.Runtime.CompilerServices.PortableTailCallFrame*), Byte ByRef)\r\n",
      "00:00:43 #309 [Debug] >    at Spiral.PartEval.Main.term@655-65(TopEnv, System.Collections.Generic.Dictionary`2<E,System.Tuple`2<System.Collections.Generic.Dictionary`2<ConsedNode`1<System.Tuple`2<RData[],Ty[]>>,System.Tuple`3<Microsoft.FSharp.Core.FSharpOption`1<TypedBind[]>,Microsoft.FSharp.Core.FSharpOption`1<Ty>,Microsoft.FSharp.Core.FSharpOption`1<System.String>>>,HashConsTable>>, System.Collections.Generic.Dictionary`2<E,System.Tuple`2<System.Collections.Generic.Dictionary`2<ConsedNode`1<System.Tuple`4<RData[],Ty[],Ty,Ty>>,Microsoft.FSharp.Core.FSharpOption`1<System.Tuple`2<Data,TypedBind[]>>>,HashConsTable>>, System.Collections.Generic.Dictionary`2<T,System.Tuple`2<System.Collections.Generic.Dictionary`2<ConsedNode`1<Ty[]>,Microsoft.FSharp.Core.FSharpOption`1<Ty>>,HashConsTable>>, LangEnv, E)\r\n",
      "00:00:43 #310 [Debug] >    at Spiral.PartEval.Main.term@655-65(TopEnv, System.Collections.Generic.Dictionary`2<E,System.Tuple`2<System.Collections.Generic.Dictionary`2<ConsedNode`1<System.Tuple`2<RData[],Ty[]>>,System.Tuple`3<Microsoft.FSharp.Core.FSharpOption`1<TypedBind[]>,Microsoft.FSharp.Core.FSharpOption`1<Ty>,Microsoft.FSharp.Core.FSharpOption`1<System.String>>>,HashConsTable>>, System.Collections.Generic.Dictionary`2<E,System.Tuple`2<System.Collections.Generic.Dictionary`2<ConsedNode`1<System.Tuple`4<RData[],Ty[],Ty,Ty>>,Microsoft.FSharp.Core.FSharpOption`1<System.Tuple`2<Data,TypedBind[]>>>,HashConsTable>>, System.Collections.Generic.Dictionary`2<T,System.Tuple`2<System.Collections.Generic.Dictionary`2<ConsedNode`1<Ty[]>,Microsoft.FSharp.Core.FSharpOption`1<Ty>>,HashConsTable>>, LangEnv, E)\r\n",
      "00:00:43 #311 [Debug] >    at System.Runtime.CompilerServices.RuntimeHelpers.DispatchTailCalls(IntPtr, Void (IntPtr, Byte ByRef, System.Runtime.CompilerServices.PortableTailCallFrame*), Byte ByRef)\r\n",
      "00:00:43 #312 [Debug] >    at Spiral.PartEval.Main.term@655-65(TopEnv, System.Collections.Generic.Dictionary`2<E,System.Tuple`2<System.Collections.Generic.Dictionary`2<ConsedNode`1<System.Tuple`2<RData[],Ty[]>>,System.Tuple`3<Microsoft.FSharp.Core.FSharpOption`1<TypedBind[]>,Microsoft.FSharp.Core.FSharpOption`1<Ty>,Microsoft.FSharp.Core.FSharpOption`1<System.String>>>,HashConsTable>>, System.Collections.Generic.Dictionary`2<E,System.Tuple`2<System.Collections.Generic.Dictionary`2<ConsedNode`1<System.Tuple`4<RData[],Ty[],Ty,Ty>>,Microsoft.FSharp.Core.FSharpOption`1<System.Tuple`2<Data,TypedBind[]>>>,HashConsTable>>, System.Collections.Generic.Dictionary`2<T,System.Tuple`2<System.Collections.Generic.Dictionary`2<ConsedNode`1<Ty[]>,Microsoft.FSharp.Core.FSharpOption`1<Ty>>,HashConsTable>>, LangEnv, E)\r\n",
      "00:00:43 #313 [Debug] >    at Spiral.PartEval.Main.term@655-65(TopEnv, System.Collections.Generic.Dictionary`2<E,System.Tuple`2<System.Collections.Generic.Dictionary`2<ConsedNode`1<System.Tuple`2<RData[],Ty[]>>,System.Tuple`3<Microsoft.FSharp.Core.FSharpOption`1<TypedBind[]>,Microsoft.FSharp.Core.FSharpOption`1<Ty>,Microsoft.FSharp.Core.FSharpOption`1<System.String>>>,HashConsTable>>, System.Collections.Generic.Dictionary`2<E,System.Tuple`2<System.Collections.Generic.Dictionary`2<ConsedNode`1<System.Tuple`4<RData[],Ty[],Ty,Ty>>,Microsoft.FSharp.Core.FSharpOption`1<System.Tuple`2<Data,TypedBind[]>>>,HashConsTable>>, System.Collections.Generic.Dictionary`2<T,System.Tuple`2<System.Collections.Generic.Dictionary`2<ConsedNode`1<Ty[]>,Microsoft.FSharp.Core.FSharpOption`1<Ty>>,HashConsTable>>, LangEnv, E)\r\n",
      "00:00:43 #314 [Debug] >    at System.Runtime.CompilerServices.RuntimeHelpers.DispatchTailCalls(IntPtr, Void (IntPtr, Byte ByRef, System.Runtime.CompilerServices.PortableTailCallFrame*), Byte ByRef)\r\n",
      "00:00:43 #315 [Debug] >    at Spiral.PartEval.Main.term@655-65(TopEnv, System.Collections.Generic.Dictionary`2<E,System.Tuple`2<System.Collections.Generic.Dictionary`2<ConsedNode`1<System.Tuple`2<RData[],Ty[]>>,System.Tuple`3<Microsoft.FSharp.Core.FSharpOption`1<TypedBind[]>,Microsoft.FSharp.Core.FSharpOption`1<Ty>,Microsoft.FSharp.Core.FSharpOption`1<System.String>>>,HashConsTable>>, System.Collections.Generic.Dictionary`2<E,System.Tuple`2<System.Collections.Generic.Dictionary`2<ConsedNode`1<System.Tuple`4<RData[],Ty[],Ty,Ty>>,Microsoft.FSharp.Core.FSharpOption`1<System.Tuple`2<Data,TypedBind[]>>>,HashConsTable>>, System.Collections.Generic.Dictionary`2<T,System.Tuple`2<System.Collections.Generic.Dictionary`2<ConsedNode`1<Ty[]>,Microsoft.FSharp.Core.FSharpOption`1<Ty>>,HashConsTable>>, LangEnv, E)\r\n",
      "00:00:43 #316 [Debug] >    at Spiral.PartEval.Main.term@655-65(TopEnv, System.Collections.Generic.Dictionary`2<E,System.Tuple`2<System.Collections.Generic.Dictionary`2<ConsedNode`1<System.Tuple`2<RData[],Ty[]>>,System.Tuple`3<Microsoft.FSharp.Core.FSharpOption`1<TypedBind[]>,Microsoft.FSharp.Core.FSharpOption`1<Ty>,Microsoft.FSharp.Core.FSharpOption`1<System.String>>>,HashConsTable>>, System.Collections.Generic.Dictionary`2<E,System.Tuple`2<System.Collections.Generic.Dictionary`2<ConsedNode`1<System.Tuple`4<RData[],Ty[],Ty,Ty>>,Microsoft.FSharp.Core.FSharpOption`1<System.Tuple`2<Data,TypedBind[]>>>,HashConsTable>>, System.Collections.Generic.Dictionary`2<T,System.Tuple`2<System.Collections.Generic.Dictionary`2<ConsedNode`1<Ty[]>,Microsoft.FSharp.Core.FSharpOption`1<Ty>>,HashConsTable>>, LangEnv, E)\r\n",
      "00:00:43 #317 [Debug] >    at System.Runtime.CompilerServices.RuntimeHelpers.DispatchTailCalls(IntPtr, Void (IntPtr, Byte ByRef, System.Runtime.CompilerServices.PortableTailCallFrame*), Byte ByRef)\r\n",
      "00:00:43 #318 [Debug] >    at Spiral.PartEval.Main.term@655-65(TopEnv, System.Collections.Generic.Dictionary`2<E,System.Tuple`2<System.Collections.Generic.Dictionary`2<ConsedNode`1<System.Tuple`2<RData[],Ty[]>>,System.Tuple`3<Microsoft.FSharp.Core.FSharpOption`1<TypedBind[]>,Microsoft.FSharp.Core.FSharpOption`1<Ty>,Microsoft.FSharp.Core.FSharpOption`1<System.String>>>,HashConsTable>>, System.Collections.Generic.Dictionary`2<E,System.Tuple`2<System.Collections.Generic.Dictionary`2<ConsedNode`1<System.Tuple`4<RData[],Ty[],Ty,Ty>>,Microsoft.FSharp.Core.FSharpOption`1<System.Tuple`2<Data,TypedBind[]>>>,HashConsTable>>, System.Collections.Generic.Dictionary`2<T,System.Tuple`2<System.Collections.Generic.Dictionary`2<ConsedNode`1<Ty[]>,Microsoft.FSharp.Core.FSharpOption`1<Ty>>,HashConsTable>>, LangEnv, E)\r\n",
      "00:00:43 #319 [Debug] >    at Spiral.PartEval.Main.term@655-65(TopEnv, System.Collections.Generic.Dictionary`2<E,System.Tuple`2<System.Collections.Generic.Dictionary`2<ConsedNode`1<System.Tuple`2<RData[],Ty[]>>,System.Tuple`3<Microsoft.FSharp.Core.FSharpOption`1<TypedBind[]>,Microsoft.FSharp.Core.FSharpOption`1<Ty>,Microsoft.FSharp.Core.FSharpOption`1<System.String>>>,HashConsTable>>, System.Collections.Generic.Dictionary`2<E,System.Tuple`2<System.Collections.Generic.Dictionary`2<ConsedNode`1<System.Tuple`4<RData[],Ty[],Ty,Ty>>,Microsoft.FSharp.Core.FSharpOption`1<System.Tuple`2<Data,TypedBind[]>>>,HashConsTable>>, System.Collections.Generic.Dictionary`2<T,System.Tuple`2<System.Collections.Generic.Dictionary`2<ConsedNode`1<Ty[]>,Microsoft.FSharp.Core.FSharpOption`1<Ty>>,HashConsTable>>, LangEnv, E)\r\n",
      "00:00:43 #320 [Debug] >    at System.Runtime.CompilerServices.RuntimeHelpers.DispatchTailCalls(IntPtr, Void (IntPtr, Byte ByRef, System.Runtime.CompilerServices.PortableTailCallFrame*), Byte ByRef)\r\n",
      "00:00:43 #321 [Debug] >    at Spiral.PartEval.Main.term@655-65(TopEnv, System.Collections.Generic.Dictionary`2<E,System.Tuple`2<System.Collections.Generic.Dictionary`2<ConsedNode`1<System.Tuple`2<RData[],Ty[]>>,System.Tuple`3<Microsoft.FSharp.Core.FSharpOption`1<TypedBind[]>,Microsoft.FSharp.Core.FSharpOption`1<Ty>,Microsoft.FSharp.Core.FSharpOption`1<System.String>>>,HashConsTable>>, System.Collections.Generic.Dictionary`2<E,System.Tuple`2<System.Collections.Generic.Dictionary`2<ConsedNode`1<System.Tuple`4<RData[],Ty[],Ty,Ty>>,Microsoft.FSharp.Core.FSharpOption`1<System.Tuple`2<Data,TypedBind[]>>>,HashConsTable>>, System.Collections.Generic.Dictionary`2<T,System.Tuple`2<System.Collections.Generic.Dictionary`2<ConsedNode`1<Ty[]>,Microsoft.FSharp.Core.FSharpOption`1<Ty>>,HashConsTable>>, LangEnv, E)\r\n",
      "00:00:43 #322 [Debug] >    at Spiral.PartEval.Main.term@655-65(TopEnv, System.Collections.Generic.Dictionary`2<E,System.Tuple`2<System.Collections.Generic.Dictionary`2<ConsedNode`1<System.Tuple`2<RData[],Ty[]>>,System.Tuple`3<Microsoft.FSharp.Core.FSharpOption`1<TypedBind[]>,Microsoft.FSharp.Core.FSharpOption`1<Ty>,Microsoft.FSharp.Core.FSharpOption`1<System.String>>>,HashConsTable>>, System.Collections.Generic.Dictionary`2<E,System.Tuple`2<System.Collections.Generic.Dictionary`2<ConsedNode`1<System.Tuple`4<RData[],Ty[],Ty,Ty>>,Microsoft.FSharp.Core.FSharpOption`1<System.Tuple`2<Data,TypedBind[]>>>,HashConsTable>>, System.Collections.Generic.Dictionary`2<T,System.Tuple`2<System.Collections.Generic.Dictionary`2<ConsedNode`1<Ty[]>,Microsoft.FSharp.Core.FSharpOption`1<Ty>>,HashConsTable>>, LangEnv, E)\r\n",
      "00:00:43 #323 [Debug] >    at System.Runtime.CompilerServices.RuntimeHelpers.DispatchTailCalls(IntPtr, Void (IntPtr, Byte ByRef, System.Runtime.CompilerServices.PortableTailCallFrame*), Byte ByRef)\r\n",
      "00:00:43 #324 [Debug] >    at Spiral.PartEval.Main.term@655-65(TopEnv, System.Collections.Generic.Dictionary`2<E,System.Tuple`2<System.Collections.Generic.Dictionary`2<ConsedNode`1<System.Tuple`2<RData[],Ty[]>>,System.Tuple`3<Microsoft.FSharp.Core.FSharpOption`1<TypedBind[]>,Microsoft.FSharp.Core.FSharpOption`1<Ty>,Microsoft.FSharp.Core.FSharpOption`1<System.String>>>,HashConsTable>>, System.Collections.Generic.Dictionary`2<E,System.Tuple`2<System.Collections.Generic.Dictionary`2<ConsedNode`1<System.Tuple`4<RData[],Ty[],Ty,Ty>>,Microsoft.FSharp.Core.FSharpOption`1<System.Tuple`2<Data,TypedBind[]>>>,HashConsTable>>, System.Collections.Generic.Dictionary`2<T,System.Tuple`2<System.Collections.Generic.Dictionary`2<ConsedNode`1<Ty[]>,Microsoft.FSharp.Core.FSharpOption`1<Ty>>,HashConsTable>>, LangEnv, E)\r\n",
      "00:00:43 #325 [Debug] >    at Spiral.PartEval.Main.term@655-65(TopEnv, System.Collections.Generic.Dictionary`2<E,System.Tuple`2<System.Collections.Generic.Dictionary`2<ConsedNode`1<System.Tuple`2<RData[],Ty[]>>,System.Tuple`3<Microsoft.FSharp.Core.FSharpOption`1<TypedBind[]>,Microsoft.FSharp.Core.FSharpOption`1<Ty>,Microsoft.FSharp.Core.FSharpOption`1<System.String>>>,HashConsTable>>, System.Collections.Generic.Dictionary`2<E,System.Tuple`2<System.Collections.Generic.Dictionary`2<ConsedNode`1<System.Tuple`4<RData[],Ty[],Ty,Ty>>,Microsoft.FSharp.Core.FSharpOption`1<System.Tuple`2<Data,TypedBind[]>>>,HashConsTable>>, System.Collections.Generic.Dictionary`2<T,System.Tuple`2<System.Collections.Generic.Dictionary`2<ConsedNode`1<Ty[]>,Microsoft.FSharp.Core.FSharpOption`1<Ty>>,HashConsTable>>, LangEnv, E)\r\n",
      "00:00:43 #326 [Debug] >    at System.Runtime.CompilerServices.RuntimeHelpers.DispatchTailCalls(IntPtr, Void (IntPtr, Byte ByRef, System.Runtime.CompilerServices.PortableTailCallFrame*), Byte ByRef)\r\n",
      "00:00:43 #327 [Debug] >    at Spiral.PartEval.Main.term@655-65(TopEnv, System.Collections.Generic.Dictionary`2<E,System.Tuple`2<System.Collections.Generic.Dictionary`2<ConsedNode`1<System.Tuple`2<RData[],Ty[]>>,System.Tuple`3<Microsoft.FSharp.Core.FSharpOption`1<TypedBind[]>,Microsoft.FSharp.Core.FSharpOption`1<Ty>,Microsoft.FSharp.Core.FSharpOption`1<System.String>>>,HashConsTable>>, System.Collections.Generic.Dictionary`2<E,System.Tuple`2<System.Collections.Generic.Dictionary`2<ConsedNode`1<System.Tuple`4<RData[],Ty[],Ty,Ty>>,Microsoft.FSharp.Core.FSharpOption`1<System.Tuple`2<Data,TypedBind[]>>>,HashConsTable>>, System.Collections.Generic.Dictionary`2<T,System.Tuple`2<System.Collections.Generic.Dictionary`2<ConsedNode`1<Ty[]>,Microsoft.FSharp.Core.FSharpOption`1<Ty>>,HashConsTable>>, LangEnv, E)\r\n",
      "00:00:43 #328 [Debug] >    at Spiral.PartEval.Main.term@655-65(TopEnv, System.Collections.Generic.Dictionary`2<E,System.Tuple`2<System.Collections.Generic.Dictionary`2<ConsedNode`1<System.Tuple`2<RData[],Ty[]>>,System.Tuple`3<Microsoft.FSharp.Core.FSharpOption`1<TypedBind[]>,Microsoft.FSharp.Core.FSharpOption`1<Ty>,Microsoft.FSharp.Core.FSharpOption`1<System.String>>>,HashConsTable>>, System.Collections.Generic.Dictionary`2<E,System.Tuple`2<System.Collections.Generic.Dictionary`2<ConsedNode`1<System.Tuple`4<RData[],Ty[],Ty,Ty>>,Microsoft.FSharp.Core.FSharpOption`1<System.Tuple`2<Data,TypedBind[]>>>,HashConsTable>>, System.Collections.Generic.Dictionary`2<T,System.Tuple`2<System.Collections.Generic.Dictionary`2<ConsedNode`1<Ty[]>,Microsoft.FSharp.Core.FSharpOption`1<Ty>>,HashConsTable>>, LangEnv, E)\r\n",
      "00:00:43 #329 [Debug] >    at System.Runtime.CompilerServices.RuntimeHelpers.DispatchTailCalls(IntPtr, Void (IntPtr, Byte ByRef, System.Runtime.CompilerServices.PortableTailCallFrame*), Byte ByRef)\r\n",
      "00:00:43 #330 [Debug] >    at Spiral.PartEval.Main.term@655-65(TopEnv, System.Collections.Generic.Dictionary`2<E,System.Tuple`2<System.Collections.Generic.Dictionary`2<ConsedNode`1<System.Tuple`2<RData[],Ty[]>>,System.Tuple`3<Microsoft.FSharp.Core.FSharpOption`1<TypedBind[]>,Microsoft.FSharp.Core.FSharpOption`1<Ty>,Microsoft.FSharp.Core.FSharpOption`1<System.String>>>,HashConsTable>>, System.Collections.Generic.Dictionary`2<E,System.Tuple`2<System.Collections.Generic.Dictionary`2<ConsedNode`1<System.Tuple`4<RData[],Ty[],Ty,Ty>>,Microsoft.FSharp.Core.FSharpOption`1<System.Tuple`2<Data,TypedBind[]>>>,HashConsTable>>, System.Collections.Generic.Dictionary`2<T,System.Tuple`2<System.Collections.Generic.Dictionary`2<ConsedNode`1<Ty[]>,Microsoft.FSharp.Core.FSharpOption`1<Ty>>,HashConsTable>>, LangEnv, E)\r\n",
      "00:00:43 #331 [Debug] >    at Spiral.PartEval.Main.term@655-65(TopEnv, System.Collections.Generic.Dictionary`2<E,System.Tuple`2<System.Collections.Generic.Dictionary`2<ConsedNode`1<System.Tuple`2<RData[],Ty[]>>,System.Tuple`3<Microsoft.FSharp.Core.FSharpOption`1<TypedBind[]>,Microsoft.FSharp.Core.FSharpOption`1<Ty>,Microsoft.FSharp.Core.FSharpOption`1<System.String>>>,HashConsTable>>, System.Collections.Generic.Dictionary`2<E,System.Tuple`2<System.Collections.Generic.Dictionary`2<ConsedNode`1<System.Tuple`4<RData[],Ty[],Ty,Ty>>,Microsoft.FSharp.Core.FSharpOption`1<System.Tuple`2<Data,TypedBind[]>>>,HashConsTable>>, System.Collections.Generic.Dictionary`2<T,System.Tuple`2<System.Collections.Generic.Dictionary`2<ConsedNode`1<Ty[]>,Microsoft.FSharp.Core.FSharpOption`1<Ty>>,HashConsTable>>, LangEnv, E)\r\n",
      "00:00:43 #332 [Debug] >    at System.Runtime.CompilerServices.RuntimeHelpers.DispatchTailCalls(IntPtr, Void (IntPtr, Byte ByRef, System.Runtime.CompilerServices.PortableTailCallFrame*), Byte ByRef)\r\n",
      "00:00:43 #333 [Debug] >    at Spiral.PartEval.Main.term@655-65(TopEnv, System.Collections.Generic.Dictionary`2<E,System.Tuple`2<System.Collections.Generic.Dictionary`2<ConsedNode`1<System.Tuple`2<RData[],Ty[]>>,System.Tuple`3<Microsoft.FSharp.Core.FSharpOption`1<TypedBind[]>,Microsoft.FSharp.Core.FSharpOption`1<Ty>,Microsoft.FSharp.Core.FSharpOption`1<System.String>>>,HashConsTable>>, System.Collections.Generic.Dictionary`2<E,System.Tuple`2<System.Collections.Generic.Dictionary`2<ConsedNode`1<System.Tuple`4<RData[],Ty[],Ty,Ty>>,Microsoft.FSharp.Core.FSharpOption`1<System.Tuple`2<Data,TypedBind[]>>>,HashConsTable>>, System.Collections.Generic.Dictionary`2<T,System.Tuple`2<System.Collections.Generic.Dictionary`2<ConsedNode`1<Ty[]>,Microsoft.FSharp.Core.FSharpOption`1<Ty>>,HashConsTable>>, LangEnv, E)\r\n",
      "00:00:43 #334 [Debug] >    at Spiral.PartEval.Main.term@655-65(TopEnv, System.Collections.Generic.Dictionary`2<E,System.Tuple`2<System.Collections.Generic.Dictionary`2<ConsedNode`1<System.Tuple`2<RData[],Ty[]>>,System.Tuple`3<Microsoft.FSharp.Core.FSharpOption`1<TypedBind[]>,Microsoft.FSharp.Core.FSharpOption`1<Ty>,Microsoft.FSharp.Core.FSharpOption`1<System.String>>>,HashConsTable>>, System.Collections.Generic.Dictionary`2<E,System.Tuple`2<System.Collections.Generic.Dictionary`2<ConsedNode`1<System.Tuple`4<RData[],Ty[],Ty,Ty>>,Microsoft.FSharp.Core.FSharpOption`1<System.Tuple`2<Data,TypedBind[]>>>,HashConsTable>>, System.Collections.Generic.Dictionary`2<T,System.Tuple`2<System.Collections.Generic.Dictionary`2<ConsedNode`1<Ty[]>,Microsoft.FSharp.Core.FSharpOption`1<Ty>>,HashConsTable>>, LangEnv, E)\r\n",
      "00:00:43 #335 [Debug] >    at System.Runtime.CompilerServices.RuntimeHelpers.DispatchTailCalls(IntPtr, Void (IntPtr, Byte ByRef, System.Runtime.CompilerServices.PortableTailCallFrame*), Byte ByRef)\r\n",
      "00:00:43 #336 [Debug] >    at Spiral.PartEval.Main.term@655-65(TopEnv, System.Collections.Generic.Dictionary`2<E,System.Tuple`2<System.Collections.Generic.Dictionary`2<ConsedNode`1<System.Tuple`2<RData[],Ty[]>>,System.Tuple`3<Microsoft.FSharp.Core.FSharpOption`1<TypedBind[]>,Microsoft.FSharp.Core.FSharpOption`1<Ty>,Microsoft.FSharp.Core.FSharpOption`1<System.String>>>,HashConsTable>>, System.Collections.Generic.Dictionary`2<E,System.Tuple`2<System.Collections.Generic.Dictionary`2<ConsedNode`1<System.Tuple`4<RData[],Ty[],Ty,Ty>>,Microsoft.FSharp.Core.FSharpOption`1<System.Tuple`2<Data,TypedBind[]>>>,HashConsTable>>, System.Collections.Generic.Dictionary`2<T,System.Tuple`2<System.Collections.Generic.Dictionary`2<ConsedNode`1<Ty[]>,Microsoft.FSharp.Core.FSharpOption`1<Ty>>,HashConsTable>>, LangEnv, E)\r\n",
      "00:00:43 #337 [Debug] >    at Spiral.PartEval.Main.term@655-65(TopEnv, System.Collections.Generic.Dictionary`2<E,System.Tuple`2<System.Collections.Generic.Dictionary`2<ConsedNode`1<System.Tuple`2<RData[],Ty[]>>,System.Tuple`3<Microsoft.FSharp.Core.FSharpOption`1<TypedBind[]>,Microsoft.FSharp.Core.FSharpOption`1<Ty>,Microsoft.FSharp.Core.FSharpOption`1<System.String>>>,HashConsTable>>, System.Collections.Generic.Dictionary`2<E,System.Tuple`2<System.Collections.Generic.Dictionary`2<ConsedNode`1<System.Tuple`4<RData[],Ty[],Ty,Ty>>,Microsoft.FSharp.Core.FSharpOption`1<System.Tuple`2<Data,TypedBind[]>>>,HashConsTable>>, System.Collections.Generic.Dictionary`2<T,System.Tuple`2<System.Collections.Generic.Dictionary`2<ConsedNode`1<Ty[]>,Microsoft.FSharp.Core.FSharpOption`1<Ty>>,HashConsTable>>, LangEnv, E)\r\n",
      "00:00:43 #338 [Debug] >    at System.Runtime.CompilerServices.RuntimeHelpers.DispatchTailCalls(IntPtr, Void (IntPtr, Byte ByRef, System.Runtime.CompilerServices.PortableTailCallFrame*), Byte ByRef)\r\n",
      "00:00:43 #339 [Debug] >    at Spiral.PartEval.Main.term@655-65(TopEnv, System.Collections.Generic.Dictionary`2<E,System.Tuple`2<System.Collections.Generic.Dictionary`2<ConsedNode`1<System.Tuple`2<RData[],Ty[]>>,System.Tuple`3<Microsoft.FSharp.Core.FSharpOption`1<TypedBind[]>,Microsoft.FSharp.Core.FSharpOption`1<Ty>,Microsoft.FSharp.Core.FSharpOption`1<System.String>>>,HashConsTable>>, System.Collections.Generic.Dictionary`2<E,System.Tuple`2<System.Collections.Generic.Dictionary`2<ConsedNode`1<System.Tuple`4<RData[],Ty[],Ty,Ty>>,Microsoft.FSharp.Core.FSharpOption`1<System.Tuple`2<Data,TypedBind[]>>>,HashConsTable>>, System.Collections.Generic.Dictionary`2<T,System.Tuple`2<System.Collections.Generic.Dictionary`2<ConsedNode`1<Ty[]>,Microsoft.FSharp.Core.FSharpOption`1<Ty>>,HashConsTable>>, LangEnv, E)\r\n",
      "00:00:43 #340 [Debug] >    at Spiral.PartEval.Main.term@655-65(TopEnv, System.Collections.Generic.Dictionary`2<E,System.Tuple`2<System.Collections.Generic.Dictionary`2<ConsedNode`1<System.Tuple`2<RData[],Ty[]>>,System.Tuple`3<Microsoft.FSharp.Core.FSharpOption`1<TypedBind[]>,Microsoft.FSharp.Core.FSharpOption`1<Ty>,Microsoft.FSharp.Core.FSharpOption`1<System.String>>>,HashConsTable>>, System.Collections.Generic.Dictionary`2<E,System.Tuple`2<System.Collections.Generic.Dictionary`2<ConsedNode`1<System.Tuple`4<RData[],Ty[],Ty,Ty>>,Microsoft.FSharp.Core.FSharpOption`1<System.Tuple`2<Data,TypedBind[]>>>,HashConsTable>>, System.Collections.Generic.Dictionary`2<T,System.Tuple`2<System.Collections.Generic.Dictionary`2<ConsedNode`1<Ty[]>,Microsoft.FSharp.Core.FSharpOption`1<Ty>>,HashConsTable>>, LangEnv, E)\r\n",
      "00:00:43 #341 [Debug] >    at System.Runtime.CompilerServices.RuntimeHelpers.DispatchTailCalls(IntPtr, Void (IntPtr, Byte ByRef, System.Runtime.CompilerServices.PortableTailCallFrame*), Byte ByRef)\r\n",
      "00:00:43 #342 [Debug] >    at Spiral.PartEval.Main.term@655-65(TopEnv, System.Collections.Generic.Dictionary`2<E,System.Tuple`2<System.Collections.Generic.Dictionary`2<ConsedNode`1<System.Tuple`2<RData[],Ty[]>>,System.Tuple`3<Microsoft.FSharp.Core.FSharpOption`1<TypedBind[]>,Microsoft.FSharp.Core.FSharpOption`1<Ty>,Microsoft.FSharp.Core.FSharpOption`1<System.String>>>,HashConsTable>>, System.Collections.Generic.Dictionary`2<E,System.Tuple`2<System.Collections.Generic.Dictionary`2<ConsedNode`1<System.Tuple`4<RData[],Ty[],Ty,Ty>>,Microsoft.FSharp.Core.FSharpOption`1<System.Tuple`2<Data,TypedBind[]>>>,HashConsTable>>, System.Collections.Generic.Dictionary`2<T,System.Tuple`2<System.Collections.Generic.Dictionary`2<ConsedNode`1<Ty[]>,Microsoft.FSharp.Core.FSharpOption`1<Ty>>,HashConsTable>>, LangEnv, E)\r\n",
      "00:00:43 #343 [Debug] >    at Spiral.PartEval.Main.term@655-65(TopEnv, System.Collections.Generic.Dictionary`2<E,System.Tuple`2<System.Collections.Generic.Dictionary`2<ConsedNode`1<System.Tuple`2<RData[],Ty[]>>,System.Tuple`3<Microsoft.FSharp.Core.FSharpOption`1<TypedBind[]>,Microsoft.FSharp.Core.FSharpOption`1<Ty>,Microsoft.FSharp.Core.FSharpOption`1<System.String>>>,HashConsTable>>, System.Collections.Generic.Dictionary`2<E,System.Tuple`2<System.Collections.Generic.Dictionary`2<ConsedNode`1<System.Tuple`4<RData[],Ty[],Ty,Ty>>,Microsoft.FSharp.Core.FSharpOption`1<System.Tuple`2<Data,TypedBind[]>>>,HashConsTable>>, System.Collections.Generic.Dictionary`2<T,System.Tuple`2<System.Collections.Generic.Dictionary`2<ConsedNode`1<Ty[]>,Microsoft.FSharp.Core.FSharpOption`1<Ty>>,HashConsTable>>, LangEnv, E)\r\n",
      "00:00:43 #344 [Debug] >    at System.Runtime.CompilerServices.RuntimeHelpers.DispatchTailCalls(IntPtr, Void (IntPtr, Byte ByRef, System.Runtime.CompilerServices.PortableTailCallFrame*), Byte ByRef)\r\n",
      "00:00:43 #345 [Debug] >    at Spiral.PartEval.Main.term@655-65(TopEnv, System.Collections.Generic.Dictionary`2<E,System.Tuple`2<System.Collections.Generic.Dictionary`2<ConsedNode`1<System.Tuple`2<RData[],Ty[]>>,System.Tuple`3<Microsoft.FSharp.Core.FSharpOption`1<TypedBind[]>,Microsoft.FSharp.Core.FSharpOption`1<Ty>,Microsoft.FSharp.Core.FSharpOption`1<System.String>>>,HashConsTable>>, System.Collections.Generic.Dictionary`2<E,System.Tuple`2<System.Collections.Generic.Dictionary`2<ConsedNode`1<System.Tuple`4<RData[],Ty[],Ty,Ty>>,Microsoft.FSharp.Core.FSharpOption`1<System.Tuple`2<Data,TypedBind[]>>>,HashConsTable>>, System.Collections.Generic.Dictionary`2<T,System.Tuple`2<System.Collections.Generic.Dictionary`2<ConsedNode`1<Ty[]>,Microsoft.FSharp.Core.FSharpOption`1<Ty>>,HashConsTable>>, LangEnv, E)\r\n",
      "00:00:43 #346 [Debug] >    at Spiral.PartEval.Main.term@655-65(TopEnv, System.Collections.Generic.Dictionary`2<E,System.Tuple`2<System.Collections.Generic.Dictionary`2<ConsedNode`1<System.Tuple`2<RData[],Ty[]>>,System.Tuple`3<Microsoft.FSharp.Core.FSharpOption`1<TypedBind[]>,Microsoft.FSharp.Core.FSharpOption`1<Ty>,Microsoft.FSharp.Core.FSharpOption`1<System.String>>>,HashConsTable>>, System.Collections.Generic.Dictionary`2<E,System.Tuple`2<System.Collections.Generic.Dictionary`2<ConsedNode`1<System.Tuple`4<RData[],Ty[],Ty,Ty>>,Microsoft.FSharp.Core.FSharpOption`1<System.Tuple`2<Data,TypedBind[]>>>,HashConsTable>>, System.Collections.Generic.Dictionary`2<T,System.Tuple`2<System.Collections.Generic.Dictionary`2<ConsedNode`1<Ty[]>,Microsoft.FSharp.Core.FSharpOption`1<Ty>>,HashConsTable>>, LangEnv, E)\r\n",
      "00:00:43 #347 [Debug] >    at System.Runtime.CompilerServices.RuntimeHelpers.DispatchTailCalls(IntPtr, Void (IntPtr, Byte ByRef, System.Runtime.CompilerServices.PortableTailCallFrame*), Byte ByRef)\r\n",
      "00:00:43 #348 [Debug] >    at Spiral.PartEval.Main.term@655-65(TopEnv, System.Collections.Generic.Dictionary`2<E,System.Tuple`2<System.Collections.Generic.Dictionary`2<ConsedNode`1<System.Tuple`2<RData[],Ty[]>>,System.Tuple`3<Microsoft.FSharp.Core.FSharpOption`1<TypedBind[]>,Microsoft.FSharp.Core.FSharpOption`1<Ty>,Microsoft.FSharp.Core.FSharpOption`1<System.String>>>,HashConsTable>>, System.Collections.Generic.Dictionary`2<E,System.Tuple`2<System.Collections.Generic.Dictionary`2<ConsedNode`1<System.Tuple`4<RData[],Ty[],Ty,Ty>>,Microsoft.FSharp.Core.FSharpOption`1<System.Tuple`2<Data,TypedBind[]>>>,HashConsTable>>, System.Collections.Generic.Dictionary`2<T,System.Tuple`2<System.Collections.Generic.Dictionary`2<ConsedNode`1<Ty[]>,Microsoft.FSharp.Core.FSharpOption`1<Ty>>,HashConsTable>>, LangEnv, E)\r\n",
      "00:00:43 #349 [Debug] >    at Spiral.PartEval.Main.term@655-65(TopEnv, System.Collections.Generic.Dictionary`2<E,System.Tuple`2<System.Collections.Generic.Dictionary`2<ConsedNode`1<System.Tuple`2<RData[],Ty[]>>,System.Tuple`3<Microsoft.FSharp.Core.FSharpOption`1<TypedBind[]>,Microsoft.FSharp.Core.FSharpOption`1<Ty>,Microsoft.FSharp.Core.FSharpOption`1<System.String>>>,HashConsTable>>, System.Collections.Generic.Dictionary`2<E,System.Tuple`2<System.Collections.Generic.Dictionary`2<ConsedNode`1<System.Tuple`4<RData[],Ty[],Ty,Ty>>,Microsoft.FSharp.Core.FSharpOption`1<System.Tuple`2<Data,TypedBind[]>>>,HashConsTable>>, System.Collections.Generic.Dictionary`2<T,System.Tuple`2<System.Collections.Generic.Dictionary`2<ConsedNode`1<Ty[]>,Microsoft.FSharp.Core.FSharpOption`1<Ty>>,HashConsTable>>, LangEnv, E)\r\n",
      "00:00:43 #350 [Debug] >    at System.Runtime.CompilerServices.RuntimeHelpers.DispatchTailCalls(IntPtr, Void (IntPtr, Byte ByRef, System.Runtime.CompilerServices.PortableTailCallFrame*), Byte ByRef)\r\n",
      "00:00:43 #351 [Debug] >    at Spiral.PartEval.Main.term@655-65(TopEnv, System.Collections.Generic.Dictionary`2<E,System.Tuple`2<System.Collections.Generic.Dictionary`2<ConsedNode`1<System.Tuple`2<RData[],Ty[]>>,System.Tuple`3<Microsoft.FSharp.Core.FSharpOption`1<TypedBind[]>,Microsoft.FSharp.Core.FSharpOption`1<Ty>,Microsoft.FSharp.Core.FSharpOption`1<System.String>>>,HashConsTable>>, System.Collections.Generic.Dictionary`2<E,System.Tuple`2<System.Collections.Generic.Dictionary`2<ConsedNode`1<System.Tuple`4<RData[],Ty[],Ty,Ty>>,Microsoft.FSharp.Core.FSharpOption`1<System.Tuple`2<Data,TypedBind[]>>>,HashConsTable>>, System.Collections.Generic.Dictionary`2<T,System.Tuple`2<System.Collections.Generic.Dictionary`2<ConsedNode`1<Ty[]>,Microsoft.FSharp.Core.FSharpOption`1<Ty>>,HashConsTable>>, LangEnv, E)\r\n",
      "00:00:43 #352 [Debug] >    at Spiral.PartEval.Main.term@655-65(TopEnv, System.Collections.Generic.Dictionary`2<E,System.Tuple`2<System.Collections.Generic.Dictionary`2<ConsedNode`1<System.Tuple`2<RData[],Ty[]>>,System.Tuple`3<Microsoft.FSharp.Core.FSharpOption`1<TypedBind[]>,Microsoft.FSharp.Core.FSharpOption`1<Ty>,Microsoft.FSharp.Core.FSharpOption`1<System.String>>>,HashConsTable>>, System.Collections.Generic.Dictionary`2<E,System.Tuple`2<System.Collections.Generic.Dictionary`2<ConsedNode`1<System.Tuple`4<RData[],Ty[],Ty,Ty>>,Microsoft.FSharp.Core.FSharpOption`1<System.Tuple`2<Data,TypedBind[]>>>,HashConsTable>>, System.Collections.Generic.Dictionary`2<T,System.Tuple`2<System.Collections.Generic.Dictionary`2<ConsedNode`1<Ty[]>,Microsoft.FSharp.Core.FSharpOption`1<Ty>>,HashConsTable>>, LangEnv, E)\r\n",
      "00:00:43 #353 [Debug] >    at System.Runtime.CompilerServices.RuntimeHelpers.DispatchTailCalls(IntPtr, Void (IntPtr, Byte ByRef, System.Runtime.CompilerServices.PortableTailCallFrame*), Byte ByRef)\r\n",
      "00:00:43 #354 [Debug] >    at Spiral.PartEval.Main.term@655-65(TopEnv, System.Collections.Generic.Dictionary`2<E,System.Tuple`2<System.Collections.Generic.Dictionary`2<ConsedNode`1<System.Tuple`2<RData[],Ty[]>>,System.Tuple`3<Microsoft.FSharp.Core.FSharpOption`1<TypedBind[]>,Microsoft.FSharp.Core.FSharpOption`1<Ty>,Microsoft.FSharp.Core.FSharpOption`1<System.String>>>,HashConsTable>>, System.Collections.Generic.Dictionary`2<E,System.Tuple`2<System.Collections.Generic.Dictionary`2<ConsedNode`1<System.Tuple`4<RData[],Ty[],Ty,Ty>>,Microsoft.FSharp.Core.FSharpOption`1<System.Tuple`2<Data,TypedBind[]>>>,HashConsTable>>, System.Collections.Generic.Dictionary`2<T,System.Tuple`2<System.Collections.Generic.Dictionary`2<ConsedNode`1<Ty[]>,Microsoft.FSharp.Core.FSharpOption`1<Ty>>,HashConsTable>>, LangEnv, E)\r\n",
      "00:00:43 #355 [Debug] >    at Spiral.PartEval.Main.term@655-65(TopEnv, System.Collections.Generic.Dictionary`2<E,System.Tuple`2<System.Collections.Generic.Dictionary`2<ConsedNode`1<System.Tuple`2<RData[],Ty[]>>,System.Tuple`3<Microsoft.FSharp.Core.FSharpOption`1<TypedBind[]>,Microsoft.FSharp.Core.FSharpOption`1<Ty>,Microsoft.FSharp.Core.FSharpOption`1<System.String>>>,HashConsTable>>, System.Collections.Generic.Dictionary`2<E,System.Tuple`2<System.Collections.Generic.Dictionary`2<ConsedNode`1<System.Tuple`4<RData[],Ty[],Ty,Ty>>,Microsoft.FSharp.Core.FSharpOption`1<System.Tuple`2<Data,TypedBind[]>>>,HashConsTable>>, System.Collections.Generic.Dictionary`2<T,System.Tuple`2<System.Collections.Generic.Dictionary`2<ConsedNode`1<Ty[]>,Microsoft.FSharp.Core.FSharpOption`1<Ty>>,HashConsTable>>, LangEnv, E)\r\n",
      "00:00:43 #356 [Debug] >    at System.Runtime.CompilerServices.RuntimeHelpers.DispatchTailCalls(IntPtr, Void (IntPtr, Byte ByRef, System.Runtime.CompilerServices.PortableTailCallFrame*), Byte ByRef)\r\n",
      "00:00:43 #357 [Debug] >    at Spiral.PartEval.Main.term@655-65(TopEnv, System.Collections.Generic.Dictionary`2<E,System.Tuple`2<System.Collections.Generic.Dictionary`2<ConsedNode`1<System.Tuple`2<RData[],Ty[]>>,System.Tuple`3<Microsoft.FSharp.Core.FSharpOption`1<TypedBind[]>,Microsoft.FSharp.Core.FSharpOption`1<Ty>,Microsoft.FSharp.Core.FSharpOption`1<System.String>>>,HashConsTable>>, System.Collections.Generic.Dictionary`2<E,System.Tuple`2<System.Collections.Generic.Dictionary`2<ConsedNode`1<System.Tuple`4<RData[],Ty[],Ty,Ty>>,Microsoft.FSharp.Core.FSharpOption`1<System.Tuple`2<Data,TypedBind[]>>>,HashConsTable>>, System.Collections.Generic.Dictionary`2<T,System.Tuple`2<System.Collections.Generic.Dictionary`2<ConsedNode`1<Ty[]>,Microsoft.FSharp.Core.FSharpOption`1<Ty>>,HashConsTable>>, LangEnv, E)\r\n",
      "00:00:43 #358 [Debug] >    at Spiral.PartEval.Main.term@655-65(TopEnv, System.Collections.Generic.Dictionary`2<E,System.Tuple`2<System.Collections.Generic.Dictionary`2<ConsedNode`1<System.Tuple`2<RData[],Ty[]>>,System.Tuple`3<Microsoft.FSharp.Core.FSharpOption`1<TypedBind[]>,Microsoft.FSharp.Core.FSharpOption`1<Ty>,Microsoft.FSharp.Core.FSharpOption`1<System.String>>>,HashConsTable>>, System.Collections.Generic.Dictionary`2<E,System.Tuple`2<System.Collections.Generic.Dictionary`2<ConsedNode`1<System.Tuple`4<RData[],Ty[],Ty,Ty>>,Microsoft.FSharp.Core.FSharpOption`1<System.Tuple`2<Data,TypedBind[]>>>,HashConsTable>>, System.Collections.Generic.Dictionary`2<T,System.Tuple`2<System.Collections.Generic.Dictionary`2<ConsedNode`1<Ty[]>,Microsoft.FSharp.Core.FSharpOption`1<Ty>>,HashConsTable>>, LangEnv, E)\r\n",
      "00:00:43 #359 [Debug] >    at System.Runtime.CompilerServices.RuntimeHelpers.DispatchTailCalls(IntPtr, Void (IntPtr, Byte ByRef, System.Runtime.CompilerServices.PortableTailCallFrame*), Byte ByRef)\r\n",
      "00:00:43 #360 [Debug] >    at Spiral.PartEval.Main.term@655-65(TopEnv, System.Collections.Generic.Dictionary`2<E,System.Tuple`2<System.Collections.Generic.Dictionary`2<ConsedNode`1<System.Tuple`2<RData[],Ty[]>>,System.Tuple`3<Microsoft.FSharp.Core.FSharpOption`1<TypedBind[]>,Microsoft.FSharp.Core.FSharpOption`1<Ty>,Microsoft.FSharp.Core.FSharpOption`1<System.String>>>,HashConsTable>>, System.Collections.Generic.Dictionary`2<E,System.Tuple`2<System.Collections.Generic.Dictionary`2<ConsedNode`1<System.Tuple`4<RData[],Ty[],Ty,Ty>>,Microsoft.FSharp.Core.FSharpOption`1<System.Tuple`2<Data,TypedBind[]>>>,HashConsTable>>, System.Collections.Generic.Dictionary`2<T,System.Tuple`2<System.Collections.Generic.Dictionary`2<ConsedNode`1<Ty[]>,Microsoft.FSharp.Core.FSharpOption`1<Ty>>,HashConsTable>>, LangEnv, E)\r\n",
      "00:00:43 #361 [Debug] >    at Spiral.PartEval.Main.term@655-65(TopEnv, System.Collections.Generic.Dictionary`2<E,System.Tuple`2<System.Collections.Generic.Dictionary`2<ConsedNode`1<System.Tuple`2<RData[],Ty[]>>,System.Tuple`3<Microsoft.FSharp.Core.FSharpOption`1<TypedBind[]>,Microsoft.FSharp.Core.FSharpOption`1<Ty>,Microsoft.FSharp.Core.FSharpOption`1<System.String>>>,HashConsTable>>, System.Collections.Generic.Dictionary`2<E,System.Tuple`2<System.Collections.Generic.Dictionary`2<ConsedNode`1<System.Tuple`4<RData[],Ty[],Ty,Ty>>,Microsoft.FSharp.Core.FSharpOption`1<System.Tuple`2<Data,TypedBind[]>>>,HashConsTable>>, System.Collections.Generic.Dictionary`2<T,System.Tuple`2<System.Collections.Generic.Dictionary`2<ConsedNode`1<Ty[]>,Microsoft.FSharp.Core.FSharpOption`1<Ty>>,HashConsTable>>, LangEnv, E)\r\n",
      "00:00:43 #362 [Debug] >    at System.Runtime.CompilerServices.RuntimeHelpers.DispatchTailCalls(IntPtr, Void (IntPtr, Byte ByRef, System.Runtime.CompilerServices.PortableTailCallFrame*), Byte ByRef)\r\n",
      "00:00:43 #363 [Debug] >    at Spiral.PartEval.Main.term@655-65(TopEnv, System.Collections.Generic.Dictionary`2<E,System.Tuple`2<System.Collections.Generic.Dictionary`2<ConsedNode`1<System.Tuple`2<RData[],Ty[]>>,System.Tuple`3<Microsoft.FSharp.Core.FSharpOption`1<TypedBind[]>,Microsoft.FSharp.Core.FSharpOption`1<Ty>,Microsoft.FSharp.Core.FSharpOption`1<System.String>>>,HashConsTable>>, System.Collections.Generic.Dictionary`2<E,System.Tuple`2<System.Collections.Generic.Dictionary`2<ConsedNode`1<System.Tuple`4<RData[],Ty[],Ty,Ty>>,Microsoft.FSharp.Core.FSharpOption`1<System.Tuple`2<Data,TypedBind[]>>>,HashConsTable>>, System.Collections.Generic.Dictionary`2<T,System.Tuple`2<System.Collections.Generic.Dictionary`2<ConsedNode`1<Ty[]>,Microsoft.FSharp.Core.FSharpOption`1<Ty>>,HashConsTable>>, LangEnv, E)\r\n",
      "00:00:43 #364 [Debug] >    at Spiral.PartEval.Main.term@655-65(TopEnv, System.Collections.Generic.Dictionary`2<E,System.Tuple`2<System.Collections.Generic.Dictionary`2<ConsedNode`1<System.Tuple`2<RData[],Ty[]>>,System.Tuple`3<Microsoft.FSharp.Core.FSharpOption`1<TypedBind[]>,Microsoft.FSharp.Core.FSharpOption`1<Ty>,Microsoft.FSharp.Core.FSharpOption`1<System.String>>>,HashConsTable>>, System.Collections.Generic.Dictionary`2<E,System.Tuple`2<System.Collections.Generic.Dictionary`2<ConsedNode`1<System.Tuple`4<RData[],Ty[],Ty,Ty>>,Microsoft.FSharp.Core.FSharpOption`1<System.Tuple`2<Data,TypedBind[]>>>,HashConsTable>>, System.Collections.Generic.Dictionary`2<T,System.Tuple`2<System.Collections.Generic.Dictionary`2<ConsedNode`1<Ty[]>,Microsoft.FSharp.Core.FSharpOption`1<Ty>>,HashConsTable>>, LangEnv, E)\r\n",
      "00:00:43 #365 [Debug] >    at System.Runtime.CompilerServices.RuntimeHelpers.DispatchTailCalls(IntPtr, Void (IntPtr, Byte ByRef, System.Runtime.CompilerServices.PortableTailCallFrame*), Byte ByRef)\r\n",
      "00:00:43 #366 [Debug] >    at Spiral.PartEval.Main.term@655-65(TopEnv, System.Collections.Generic.Dictionary`2<E,System.Tuple`2<System.Collections.Generic.Dictionary`2<ConsedNode`1<System.Tuple`2<RData[],Ty[]>>,System.Tuple`3<Microsoft.FSharp.Core.FSharpOption`1<TypedBind[]>,Microsoft.FSharp.Core.FSharpOption`1<Ty>,Microsoft.FSharp.Core.FSharpOption`1<System.String>>>,HashConsTable>>, System.Collections.Generic.Dictionary`2<E,System.Tuple`2<System.Collections.Generic.Dictionary`2<ConsedNode`1<System.Tuple`4<RData[],Ty[],Ty,Ty>>,Microsoft.FSharp.Core.FSharpOption`1<System.Tuple`2<Data,TypedBind[]>>>,HashConsTable>>, System.Collections.Generic.Dictionary`2<T,System.Tuple`2<System.Collections.Generic.Dictionary`2<ConsedNode`1<Ty[]>,Microsoft.FSharp.Core.FSharpOption`1<Ty>>,HashConsTable>>, LangEnv, E)\r\n",
      "00:00:43 #367 [Debug] >    at Spiral.PartEval.Main.term@655-65(TopEnv, System.Collections.Generic.Dictionary`2<E,System.Tuple`2<System.Collections.Generic.Dictionary`2<ConsedNode`1<System.Tuple`2<RData[],Ty[]>>,System.Tuple`3<Microsoft.FSharp.Core.FSharpOption`1<TypedBind[]>,Microsoft.FSharp.Core.FSharpOption`1<Ty>,Microsoft.FSharp.Core.FSharpOption`1<System.String>>>,HashConsTable>>, System.Collections.Generic.Dictionary`2<E,System.Tuple`2<System.Collections.Generic.Dictionary`2<ConsedNode`1<System.Tuple`4<RData[],Ty[],Ty,Ty>>,Microsoft.FSharp.Core.FSharpOption`1<System.Tuple`2<Data,TypedBind[]>>>,HashConsTable>>, System.Collections.Generic.Dictionary`2<T,System.Tuple`2<System.Collections.Generic.Dictionary`2<ConsedNode`1<Ty[]>,Microsoft.FSharp.Core.FSharpOption`1<Ty>>,HashConsTable>>, LangEnv, E)\r\n",
      "00:00:43 #368 [Debug] >    at System.Runtime.CompilerServices.RuntimeHelpers.DispatchTailCalls(IntPtr, Void (IntPtr, Byte ByRef, System.Runtime.CompilerServices.PortableTailCallFrame*), Byte ByRef)\r\n",
      "00:00:43 #369 [Debug] >    at Spiral.PartEval.Main.term@655-65(TopEnv, System.Collections.Generic.Dictionary`2<E,System.Tuple`2<System.Collections.Generic.Dictionary`2<ConsedNode`1<System.Tuple`2<RData[],Ty[]>>,System.Tuple`3<Microsoft.FSharp.Core.FSharpOption`1<TypedBind[]>,Microsoft.FSharp.Core.FSharpOption`1<Ty>,Microsoft.FSharp.Core.FSharpOption`1<System.String>>>,HashConsTable>>, System.Collections.Generic.Dictionary`2<E,System.Tuple`2<System.Collections.Generic.Dictionary`2<ConsedNode`1<System.Tuple`4<RData[],Ty[],Ty,Ty>>,Microsoft.FSharp.Core.FSharpOption`1<System.Tuple`2<Data,TypedBind[]>>>,HashConsTable>>, System.Collections.Generic.Dictionary`2<T,System.Tuple`2<System.Collections.Generic.Dictionary`2<ConsedNode`1<Ty[]>,Microsoft.FSharp.Core.FSharpOption`1<Ty>>,HashConsTable>>, LangEnv, E)\r\n",
      "00:00:43 #370 [Debug] >    at Spiral.PartEval.Main.term@655-65(TopEnv, System.Collections.Generic.Dictionary`2<E,System.Tuple`2<System.Collections.Generic.Dictionary`2<ConsedNode`1<System.Tuple`2<RData[],Ty[]>>,System.Tuple`3<Microsoft.FSharp.Core.FSharpOption`1<TypedBind[]>,Microsoft.FSharp.Core.FSharpOption`1<Ty>,Microsoft.FSharp.Core.FSharpOption`1<System.String>>>,HashConsTable>>, System.Collections.Generic.Dictionary`2<E,System.Tuple`2<System.Collections.Generic.Dictionary`2<ConsedNode`1<System.Tuple`4<RData[],Ty[],Ty,Ty>>,Microsoft.FSharp.Core.FSharpOption`1<System.Tuple`2<Data,TypedBind[]>>>,HashConsTable>>, System.Collections.Generic.Dictionary`2<T,System.Tuple`2<System.Collections.Generic.Dictionary`2<ConsedNode`1<Ty[]>,Microsoft.FSharp.Core.FSharpOption`1<Ty>>,HashConsTable>>, LangEnv, E)\r\n",
      "00:00:43 #371 [Debug] >    at System.Runtime.CompilerServices.RuntimeHelpers.DispatchTailCalls(IntPtr, Void (IntPtr, Byte ByRef, System.Runtime.CompilerServices.PortableTailCallFrame*), Byte ByRef)\r\n",
      "00:00:43 #372 [Debug] >    at Spiral.PartEval.Main.term@655-65(TopEnv, System.Collections.Generic.Dictionary`2<E,System.Tuple`2<System.Collections.Generic.Dictionary`2<ConsedNode`1<System.Tuple`2<RData[],Ty[]>>,System.Tuple`3<Microsoft.FSharp.Core.FSharpOption`1<TypedBind[]>,Microsoft.FSharp.Core.FSharpOption`1<Ty>,Microsoft.FSharp.Core.FSharpOption`1<System.String>>>,HashConsTable>>, System.Collections.Generic.Dictionary`2<E,System.Tuple`2<System.Collections.Generic.Dictionary`2<ConsedNode`1<System.Tuple`4<RData[],Ty[],Ty,Ty>>,Microsoft.FSharp.Core.FSharpOption`1<System.Tuple`2<Data,TypedBind[]>>>,HashConsTable>>, System.Collections.Generic.Dictionary`2<T,System.Tuple`2<System.Collections.Generic.Dictionary`2<ConsedNode`1<Ty[]>,Microsoft.FSharp.Core.FSharpOption`1<Ty>>,HashConsTable>>, LangEnv, E)\r\n",
      "00:00:43 #373 [Debug] >    at Spiral.PartEval.Main.term@655-65(TopEnv, System.Collections.Generic.Dictionary`2<E,System.Tuple`2<System.Collections.Generic.Dictionary`2<ConsedNode`1<System.Tuple`2<RData[],Ty[]>>,System.Tuple`3<Microsoft.FSharp.Core.FSharpOption`1<TypedBind[]>,Microsoft.FSharp.Core.FSharpOption`1<Ty>,Microsoft.FSharp.Core.FSharpOption`1<System.String>>>,HashConsTable>>, System.Collections.Generic.Dictionary`2<E,System.Tuple`2<System.Collections.Generic.Dictionary`2<ConsedNode`1<System.Tuple`4<RData[],Ty[],Ty,Ty>>,Microsoft.FSharp.Core.FSharpOption`1<System.Tuple`2<Data,TypedBind[]>>>,HashConsTable>>, System.Collections.Generic.Dictionary`2<T,System.Tuple`2<System.Collections.Generic.Dictionary`2<ConsedNode`1<Ty[]>,Microsoft.FSharp.Core.FSharpOption`1<Ty>>,HashConsTable>>, LangEnv, E)\r\n",
      "00:00:43 #374 [Debug] >    at System.Runtime.CompilerServices.RuntimeHelpers.DispatchTailCalls(IntPtr, Void (IntPtr, Byte ByRef, System.Runtime.CompilerServices.PortableTailCallFrame*), Byte ByRef)\r\n",
      "00:00:43 #375 [Debug] >    at Spiral.PartEval.Main.term@655-65(TopEnv, System.Collections.Generic.Dictionary`2<E,System.Tuple`2<System.Collections.Generic.Dictionary`2<ConsedNode`1<System.Tuple`2<RData[],Ty[]>>,System.Tuple`3<Microsoft.FSharp.Core.FSharpOption`1<TypedBind[]>,Microsoft.FSharp.Core.FSharpOption`1<Ty>,Microsoft.FSharp.Core.FSharpOption`1<System.String>>>,HashConsTable>>, System.Collections.Generic.Dictionary`2<E,System.Tuple`2<System.Collections.Generic.Dictionary`2<ConsedNode`1<System.Tuple`4<RData[],Ty[],Ty,Ty>>,Microsoft.FSharp.Core.FSharpOption`1<System.Tuple`2<Data,TypedBind[]>>>,HashConsTable>>, System.Collections.Generic.Dictionary`2<T,System.Tuple`2<System.Collections.Generic.Dictionary`2<ConsedNode`1<Ty[]>,Microsoft.FSharp.Core.FSharpOption`1<Ty>>,HashConsTable>>, LangEnv, E)\r\n",
      "00:00:43 #376 [Debug] >    at Spiral.PartEval.Main.term@655-65(TopEnv, System.Collections.Generic.Dictionary`2<E,System.Tuple`2<System.Collections.Generic.Dictionary`2<ConsedNode`1<System.Tuple`2<RData[],Ty[]>>,System.Tuple`3<Microsoft.FSharp.Core.FSharpOption`1<TypedBind[]>,Microsoft.FSharp.Core.FSharpOption`1<Ty>,Microsoft.FSharp.Core.FSharpOption`1<System.String>>>,HashConsTable>>, System.Collections.Generic.Dictionary`2<E,System.Tuple`2<System.Collections.Generic.Dictionary`2<ConsedNode`1<System.Tuple`4<RData[],Ty[],Ty,Ty>>,Microsoft.FSharp.Core.FSharpOption`1<System.Tuple`2<Data,TypedBind[]>>>,HashConsTable>>, System.Collections.Generic.Dictionary`2<T,System.Tuple`2<System.Collections.Generic.Dictionary`2<ConsedNode`1<Ty[]>,Microsoft.FSharp.Core.FSharpOption`1<Ty>>,HashConsTable>>, LangEnv, E)\r\n",
      "00:00:43 #377 [Debug] >    at System.Runtime.CompilerServices.RuntimeHelpers.DispatchTailCalls(IntPtr, Void (IntPtr, Byte ByRef, System.Runtime.CompilerServices.PortableTailCallFrame*), Byte ByRef)\r\n",
      "00:00:43 #378 [Debug] >    at Spiral.PartEval.Main.term@655-65(TopEnv, System.Collections.Generic.Dictionary`2<E,System.Tuple`2<System.Collections.Generic.Dictionary`2<ConsedNode`1<System.Tuple`2<RData[],Ty[]>>,System.Tuple`3<Microsoft.FSharp.Core.FSharpOption`1<TypedBind[]>,Microsoft.FSharp.Core.FSharpOption`1<Ty>,Microsoft.FSharp.Core.FSharpOption`1<System.String>>>,HashConsTable>>, System.Collections.Generic.Dictionary`2<E,System.Tuple`2<System.Collections.Generic.Dictionary`2<ConsedNode`1<System.Tuple`4<RData[],Ty[],Ty,Ty>>,Microsoft.FSharp.Core.FSharpOption`1<System.Tuple`2<Data,TypedBind[]>>>,HashConsTable>>, System.Collections.Generic.Dictionary`2<T,System.Tuple`2<System.Collections.Generic.Dictionary`2<ConsedNode`1<Ty[]>,Microsoft.FSharp.Core.FSharpOption`1<Ty>>,HashConsTable>>, LangEnv, E)\r\n",
      "00:00:43 #379 [Debug] >    at Spiral.PartEval.Main.term@655-65(TopEnv, System.Collections.Generic.Dictionary`2<E,System.Tuple`2<System.Collections.Generic.Dictionary`2<ConsedNode`1<System.Tuple`2<RData[],Ty[]>>,System.Tuple`3<Microsoft.FSharp.Core.FSharpOption`1<TypedBind[]>,Microsoft.FSharp.Core.FSharpOption`1<Ty>,Microsoft.FSharp.Core.FSharpOption`1<System.String>>>,HashConsTable>>, System.Collections.Generic.Dictionary`2<E,System.Tuple`2<System.Collections.Generic.Dictionary`2<ConsedNode`1<System.Tuple`4<RData[],Ty[],Ty,Ty>>,Microsoft.FSharp.Core.FSharpOption`1<System.Tuple`2<Data,TypedBind[]>>>,HashConsTable>>, System.Collections.Generic.Dictionary`2<T,System.Tuple`2<System.Collections.Generic.Dictionary`2<ConsedNode`1<Ty[]>,Microsoft.FSharp.Core.FSharpOption`1<Ty>>,HashConsTable>>, LangEnv, E)\r\n",
      "00:00:43 #380 [Debug] >    at Spiral.PartEval.Main.term@655-65(TopEnv, System.Collections.Generic.Dictionary`2<E,System.Tuple`2<System.Collections.Generic.Dictionary`2<ConsedNode`1<System.Tuple`2<RData[],Ty[]>>,System.Tuple`3<Microsoft.FSharp.Core.FSharpOption`1<TypedBind[]>,Microsoft.FSharp.Core.FSharpOption`1<Ty>,Microsoft.FSharp.Core.FSharpOption`1<System.String>>>,HashConsTable>>, System.Collections.Generic.Dictionary`2<E,System.Tuple`2<System.Collections.Generic.Dictionary`2<ConsedNode`1<System.Tuple`4<RData[],Ty[],Ty,Ty>>,Microsoft.FSharp.Core.FSharpOption`1<System.Tuple`2<Data,TypedBind[]>>>,HashConsTable>>, System.Collections.Generic.Dictionary`2<T,System.Tuple`2<System.Collections.Generic.Dictionary`2<ConsedNode`1<Ty[]>,Microsoft.FSharp.Core.FSharpOption`1<Ty>>,HashConsTable>>, LangEnv, E)\r\n",
      "00:00:43 #381 [Debug] >    at Spiral.PartEval.Main.term@655-65(TopEnv, System.Collections.Generic.Dictionary`2<E,System.Tuple`2<System.Collections.Generic.Dictionary`2<ConsedNode`1<System.Tuple`2<RData[],Ty[]>>,System.Tuple`3<Microsoft.FSharp.Core.FSharpOption`1<TypedBind[]>,Microsoft.FSharp.Core.FSharpOption`1<Ty>,Microsoft.FSharp.Core.FSharpOption`1<System.String>>>,HashConsTable>>, System.Collections.Generic.Dictionary`2<E,System.Tuple`2<System.Collections.Generic.Dictionary`2<ConsedNode`1<System.Tuple`4<RData[],Ty[],Ty,Ty>>,Microsoft.FSharp.Core.FSharpOption`1<System.Tuple`2<Data,TypedBind[]>>>,HashConsTable>>, System.Collections.Generic.Dictionary`2<T,System.Tuple`2<System.Collections.Generic.Dictionary`2<ConsedNode`1<Ty[]>,Microsoft.FSharp.Core.FSharpOption`1<Ty>>,HashConsTable>>, LangEnv, E)\r\n",
      "00:00:43 #382 [Debug] >    at Spiral.PartEval.Main.term@655-65(TopEnv, System.Collections.Generic.Dictionary`2<E,System.Tuple`2<System.Collections.Generic.Dictionary`2<ConsedNode`1<System.Tuple`2<RData[],Ty[]>>,System.Tuple`3<Microsoft.FSharp.Core.FSharpOption`1<TypedBind[]>,Microsoft.FSharp.Core.FSharpOption`1<Ty>,Microsoft.FSharp.Core.FSharpOption`1<System.String>>>,HashConsTable>>, System.Collections.Generic.Dictionary`2<E,System.Tuple`2<System.Collections.Generic.Dictionary`2<ConsedNode`1<System.Tuple`4<RData[],Ty[],Ty,Ty>>,Microsoft.FSharp.Core.FSharpOption`1<System.Tuple`2<Data,TypedBind[]>>>,HashConsTable>>, System.Collections.Generic.Dictionary`2<T,System.Tuple`2<System.Collections.Generic.Dictionary`2<ConsedNode`1<Ty[]>,Microsoft.FSharp.Core.FSharpOption`1<Ty>>,HashConsTable>>, LangEnv, E)\r\n",
      "00:00:43 #383 [Debug] >    at System.Runtime.CompilerServices.RuntimeHelpers.DispatchTailCalls(IntPtr, Void (IntPtr, Byte ByRef, System.Runtime.CompilerServices.PortableTailCallFrame*), Byte ByRef)\r\n",
      "00:00:43 #384 [Debug] >    at Spiral.PartEval.Main.term@655-65(TopEnv, System.Collections.Generic.Dictionary`2<E,System.Tuple`2<System.Collections.Generic.Dictionary`2<ConsedNode`1<System.Tuple`2<RData[],Ty[]>>,System.Tuple`3<Microsoft.FSharp.Core.FSharpOption`1<TypedBind[]>,Microsoft.FSharp.Core.FSharpOption`1<Ty>,Microsoft.FSharp.Core.FSharpOption`1<System.String>>>,HashConsTable>>, System.Collections.Generic.Dictionary`2<E,System.Tuple`2<System.Collections.Generic.Dictionary`2<ConsedNode`1<System.Tuple`4<RData[],Ty[],Ty,Ty>>,Microsoft.FSharp.Core.FSharpOption`1<System.Tuple`2<Data,TypedBind[]>>>,HashConsTable>>, System.Collections.Generic.Dictionary`2<T,System.Tuple`2<System.Collections.Generic.Dictionary`2<ConsedNode`1<Ty[]>,Microsoft.FSharp.Core.FSharpOption`1<Ty>>,HashConsTable>>, LangEnv, E)\r\n",
      "00:00:43 #385 [Debug] >    at Spiral.PartEval.Main.term_scope''@545(TopEnv, System.Collections.Generic.Dictionary`2<E,System.Tuple`2<System.Collections.Generic.Dictionary`2<ConsedNode`1<System.Tuple`2<RData[],Ty[]>>,System.Tuple`3<Microsoft.FSharp.Core.FSharpOption`1<TypedBind[]>,Microsoft.FSharp.Core.FSharpOption`1<Ty>,Microsoft.FSharp.Core.FSharpOption`1<System.String>>>,HashConsTable>>, System.Collections.Generic.Dictionary`2<E,System.Tuple`2<System.Collections.Generic.Dictionary`2<ConsedNode`1<System.Tuple`4<RData[],Ty[],Ty,Ty>>,Microsoft.FSharp.Core.FSharpOption`1<System.Tuple`2<Data,TypedBind[]>>>,HashConsTable>>, System.Collections.Generic.Dictionary`2<T,System.Tuple`2<System.Collections.Generic.Dictionary`2<ConsedNode`1<Ty[]>,Microsoft.FSharp.Core.FSharpOption`1<Ty>>,HashConsTable>>, LangEnv, E)\r\n",
      "00:00:43 #386 [Debug] >    at Spiral.PartEval.Main.term_scope'@549(TopEnv, System.Collections.Generic.Dictionary`2<E,System.Tuple`2<System.Collections.Generic.Dictionary`2<ConsedNode`1<System.Tuple`2<RData[],Ty[]>>,System.Tuple`3<Microsoft.FSharp.Core.FSharpOption`1<TypedBind[]>,Microsoft.FSharp.Core.FSharpOption`1<Ty>,Microsoft.FSharp.Core.FSharpOption`1<System.String>>>,HashConsTable>>, System.Collections.Generic.Dictionary`2<E,System.Tuple`2<System.Collections.Generic.Dictionary`2<ConsedNode`1<System.Tuple`4<RData[],Ty[],Ty,Ty>>,Microsoft.FSharp.Core.FSharpOption`1<System.Tuple`2<Data,TypedBind[]>>>,HashConsTable>>, System.Collections.Generic.Dictionary`2<T,System.Tuple`2<System.Collections.Generic.Dictionary`2<ConsedNode`1<Ty[]>,Microsoft.FSharp.Core.FSharpOption`1<Ty>>,HashConsTable>>, LangEnv, System.Collections.Generic.Dictionary`2<TypedOp,Data>, E)\r\n",
      "00:00:43 #387 [Debug] >    at Spiral.PartEval.Main.term_scope@550(TopEnv, System.Collections.Generic.Dictionary`2<E,System.Tuple`2<System.Collections.Generic.Dictionary`2<ConsedNode`1<System.Tuple`2<RData[],Ty[]>>,System.Tuple`3<Microsoft.FSharp.Core.FSharpOption`1<TypedBind[]>,Microsoft.FSharp.Core.FSharpOption`1<Ty>,Microsoft.FSharp.Core.FSharpOption`1<System.String>>>,HashConsTable>>, System.Collections.Generic.Dictionary`2<E,System.Tuple`2<System.Collections.Generic.Dictionary`2<ConsedNode`1<System.Tuple`4<RData[],Ty[],Ty,Ty>>,Microsoft.FSharp.Core.FSharpOption`1<System.Tuple`2<Data,TypedBind[]>>>,HashConsTable>>, System.Collections.Generic.Dictionary`2<T,System.Tuple`2<System.Collections.Generic.Dictionary`2<ConsedNode`1<Ty[]>,Microsoft.FSharp.Core.FSharpOption`1<Ty>>,HashConsTable>>, LangEnv, E)\r\n",
      "00:00:43 #388 [Debug] >    at Spiral.PartEval.Main.peval(TopEnv, E)\r\n",
      "00:00:43 #389 [Debug] >    at Spiral.Supervisor.file_build$cont@373(System.String, SupervisorState, PrepassTopEnv, Microsoft.FSharp.Core.FSharpOption`1<E>, Microsoft.FSharp.Core.Unit)\r\n",
      "00:00:43 #390 [Debug] >    at Spiral.Supervisor.x2yJ@1-28(SupervisorErrorSources, System.String, System.String, SupervisorState, PrepassTopEnv)\r\n",
      "00:00:43 #391 [Debug] >    at Spiral.Supervisor+x2yJ@370-30.Do(PrepassTopEnv)\r\n",
      "00:00:43 #392 [Debug] >    at Hopac.Core.ContBind`2[[System.__Canon, System.Private.CoreLib, Version=8.0.0.0, Culture=neutral, PublicKeyToken=7cec85d7bea7798e],[System.__Canon, System.Private.CoreLib, Version=8.0.0.0, Culture=neutral, PublicKeyToken=7cec85d7bea7798e]].DoCont(Hopac.Core.Worker ByRef, System.__Canon)\r\n",
      "00:00:43 #393 [Debug] >    at Hopac.Job+result@1000-1[[System.__Canon, System.Private.CoreLib, Version=8.0.0.0, Culture=neutral, PublicKeyToken=7cec85d7bea7798e]].DoJob(Hopac.Core.Worker ByRef, Hopac.Core.Cont`1<System.__Canon>)\r\n",
      "00:00:43 #394 [Debug] >    at Hopac.Core.ContBind`2[[System.__Canon, System.Private.CoreLib, Version=8.0.0.0, Culture=neutral, PublicKeyToken=7cec85d7bea7798e],[System.__Canon, System.Private.CoreLib, Version=8.0.0.0, Culture=neutral, PublicKeyToken=7cec85d7bea7798e]].DoCont(Hopac.Core.Worker ByRef, System.__Canon)\r\n",
      "00:00:43 #395 [Debug] >    at Hopac.Promise`1+Fulfill[[System.__Canon, System.Private.CoreLib, Version=8.0.0.0, Culture=neutral, PublicKeyToken=7cec85d7bea7798e]].Do(Hopac.Core.Worker ByRef, System.__Canon)\r\n",
      "00:00:43 #396 [Debug] >    at Hopac.Promise`1+Fulfill[[System.__Canon, System.Private.CoreLib, Version=8.0.0.0, Culture=neutral, PublicKeyToken=7cec85d7bea7798e]].DoCont(Hopac.Core.Worker ByRef, System.__Canon)\r\n",
      "00:00:43 #397 [Debug] >    at Hopac.Job+result@1000-1[[System.__Canon, System.Private.CoreLib, Version=8.0.0.0, Culture=neutral, PublicKeyToken=7cec85d7bea7798e]].DoJob(Hopac.Core.Worker ByRef, Hopac.Core.Cont`1<System.__Canon>)\r\n",
      "00:00:43 #398 [Debug] >    at Hopac.Core.ContBind`2[[System.__Canon, System.Private.CoreLib, Version=8.0.0.0, Culture=neutral, PublicKeyToken=7cec85d7bea7798e],[System.__Canon, System.Private.CoreLib, Version=8.0.0.0, Culture=neutral, PublicKeyToken=7cec85d7bea7798e]].DoCont(Hopac.Core.Worker ByRef, System.__Canon)\r\n",
      "00:00:43 #399 [Debug] >    at Hopac.Core.Cont.Do[[System.__Canon, System.Private.CoreLib, Version=8.0.0.0, Culture=neutral, PublicKeyToken=7cec85d7bea7798e]](Hopac.Core.Cont`1<System.__Canon>, Hopac.Core.Worker ByRef, System.__Canon)\r\n",
      "00:00:43 #400 [Debug] >    at Hopac.Promise`1[[System.__Canon, System.Private.CoreLib, Version=8.0.0.0, Culture=neutral, PublicKeyToken=7cec85d7bea7798e]].DoJob(Hopac.Core.Worker ByRef, Hopac.Core.Cont`1<System.__Canon>)\r\n",
      "00:00:43 #401 [Debug] >    at Hopac.Core.JobCont`2[[System.__Canon, System.Private.CoreLib, Version=8.0.0.0, Culture=neutral, PublicKeyToken=7cec85d7bea7798e],[System.__Canon, System.Private.CoreLib, Version=8.0.0.0, Culture=neutral, PublicKeyToken=7cec85d7bea7798e]].DoJob(Hopac.Core.Worker ByRef, Hopac.Core.Cont`1<System.__Canon>)\r\n",
      "00:00:43 #402 [Debug] >    at Hopac.Core.Job.Do[[System.__Canon, System.Private.CoreLib, Version=8.0.0.0, Culture=neutral, PublicKeyToken=7cec85d7bea7798e]](Hopac.Job`1<System.__Canon>, Hopac.Core.Worker ByRef, Hopac.Core.Cont`1<System.__Canon>)\r\n",
      "00:00:43 #403 [Debug] >    at Hopac.Promise`1[[System.__Canon, System.Private.CoreLib, Version=8.0.0.0, Culture=neutral, PublicKeyToken=7cec85d7bea7798e]].DoJob(Hopac.Core.Worker ByRef, Hopac.Core.Cont`1<System.__Canon>)\r\n",
      "00:00:43 #404 [Debug] >    at Hopac.Core.JobCont`2[[System.__Canon, System.Private.CoreLib, Version=8.0.0.0, Culture=neutral, PublicKeyToken=7cec85d7bea7798e],[System.__Canon, System.Private.CoreLib, Version=8.0.0.0, Culture=neutral, PublicKeyToken=7cec85d7bea7798e]].DoJob(Hopac.Core.Worker ByRef, Hopac.Core.Cont`1<System.__Canon>)\r\n",
      "00:00:43 #405 [Debug] >    at Hopac.Core.ContBind`2[[System.__Canon, System.Private.CoreLib, Version=8.0.0.0, Culture=neutral, PublicKeyToken=7cec85d7bea7798e],[System.__Canon, System.Private.CoreLib, Version=8.0.0.0, Culture=neutral, PublicKeyToken=7cec85d7bea7798e]].DoCont(Hopac.Core.Worker ByRef, System.__Canon)\r\n",
      "00:00:43 #406 [Debug] >    at Hopac.Promise`1+Fulfill[[System.__Canon, System.Private.CoreLib, Version=8.0.0.0, Culture=neutral, PublicKeyToken=7cec85d7bea7798e]].Do(Hopac.Core.Worker ByRef, System.__Canon)\r\n",
      "00:00:43 #407 [Debug] >    at Hopac.Promise`1+Fulfill[[System.__Canon, System.Private.CoreLib, Version=8.0.0.0, Culture=neutral, PublicKeyToken=7cec85d7bea7798e]].DoCont(Hopac.Core.Worker ByRef, System.__Canon)\r\n",
      "00:00:43 #408 [Debug] >    at Hopac.Core.ContMap`2[[System.__Canon, System.Private.CoreLib, Version=8.0.0.0, Culture=neutral, PublicKeyToken=7cec85d7bea7798e],[System.__Canon, System.Private.CoreLib, Version=8.0.0.0, Culture=neutral, PublicKeyToken=7cec85d7bea7798e]].DoCont(Hopac.Core.Worker ByRef, System.__Canon)\r\n",
      "00:00:43 #409 [Debug] >    at Hopac.Promise`1+Fulfill[[System.__Canon, System.Private.CoreLib, Version=8.0.0.0, Culture=neutral, PublicKeyToken=7cec85d7bea7798e]].Do(Hopac.Core.Worker ByRef, System.__Canon)\r\n",
      "00:00:43 #410 [Debug] >    at Hopac.Promise`1+Fulfill[[System.__Canon, System.Private.CoreLib, Version=8.0.0.0, Culture=neutral, PublicKeyToken=7cec85d7bea7798e]].DoCont(Hopac.Core.Worker ByRef, System.__Canon)\r\n",
      "00:00:43 #411 [Debug] >    at Hopac.Core.Cont.Do[[System.__Canon, System.Private.CoreLib, Version=8.0.0.0, Culture=neutral, PublicKeyToken=7cec85d7bea7798e]](Hopac.Core.Cont`1<System.__Canon>, Hopac.Core.Worker ByRef, System.__Canon)\r\n",
      "00:00:43 #412 [Debug] >    at Hopac.Core.JobThunk`1[[System.__Canon, System.Private.CoreLib, Version=8.0.0.0, Culture=neutral, PublicKeyToken=7cec85d7bea7798e]].DoJob(Hopac.Core.Worker ByRef, Hopac.Core.Cont`1<System.__Canon>)\r\n",
      "00:00:43 #413 [Debug] >    at Hopac.Core.Job.Do[[System.__Canon, System.Private.CoreLib, Version=8.0.0.0, Culture=neutral, PublicKeyToken=7cec85d7bea7798e]](Hopac.Job`1<System.__Canon>, Hopac.Core.Worker ByRef, Hopac.Core.Cont`1<System.__Canon>)\r\n",
      "00:00:43 #414 [Debug] >    at Hopac.Promise`1[[System.__Canon, System.Private.CoreLib, Version=8.0.0.0, Culture=neutral, PublicKeyToken=7cec85d7bea7798e]].DoJob(Hopac.Core.Worker ByRef, Hopac.Core.Cont`1<System.__Canon>)\r\n",
      "00:00:43 #415 [Debug] >    at Hopac.Core.JobCont`2[[System.__Canon, System.Private.CoreLib, Version=8.0.0.0, Culture=neutral, PublicKeyToken=7cec85d7bea7798e],[System.__Canon, System.Private.CoreLib, Version=8.0.0.0, Culture=neutral, PublicKeyToken=7cec85d7bea7798e]].DoJob(Hopac.Core.Worker ByRef, Hopac.Core.Cont`1<System.__Canon>)\r\n",
      "00:00:43 #416 [Debug] >    at Hopac.Core.ContBind`2[[System.__Canon, System.Private.CoreLib, Version=8.0.0.0, Culture=neutral, PublicKeyToken=7cec85d7bea7798e],[System.__Canon, System.Private.CoreLib, Version=8.0.0.0, Culture=neutral, PublicKeyToken=7cec85d7bea7798e]].DoCont(Hopac.Core.Worker ByRef, System.__Canon)\r\n",
      "00:00:43 #417 [Debug] >    at Hopac.Core.Cont.Do[[System.__Canon, System.Private.CoreLib, Version=8.0.0.0, Culture=neutral, PublicKeyToken=7cec85d7bea7798e]](Hopac.Core.Cont`1<System.__Canon>, Hopac.Core.Worker ByRef, System.__Canon)\r\n",
      "00:00:43 #418 [Debug] >    at Hopac.Promise`1[[System.__Canon, System.Private.CoreLib, Version=8.0.0.0, Culture=neutral, PublicKeyToken=7cec85d7bea7798e]].DoJob(Hopac.Core.Worker ByRef, Hopac.Core.Cont`1<System.__Canon>)\r\n",
      "00:00:43 #419 [Debug] >    at Hopac.Core.JobCont`2[[System.__Canon, System.Private.CoreLib, Version=8.0.0.0, Culture=neutral, PublicKeyToken=7cec85d7bea7798e],[System.__Canon, System.Private.CoreLib, Version=8.0.0.0, Culture=neutral, PublicKeyToken=7cec85d7bea7798e]].DoJob(Hopac.Core.Worker ByRef, Hopac.Core.Cont`1<System.__Canon>)\r\n",
      "00:00:43 #420 [Debug] >    at Hopac.Core.Job.Do[[System.__Canon, System.Private.CoreLib, Version=8.0.0.0, Culture=neutral, PublicKeyToken=7cec85d7bea7798e]](Hopac.Job`1<System.__Canon>, Hopac.Core.Worker ByRef, Hopac.Core.Cont`1<System.__Canon>)\r\n",
      "00:00:43 #421 [Debug] >    at Hopac.Promise`1[[System.__Canon, System.Private.CoreLib, Version=8.0.0.0, Culture=neutral, PublicKeyToken=7cec85d7bea7798e]].DoJob(Hopac.Core.Worker ByRef, Hopac.Core.Cont`1<System.__Canon>)\r\n",
      "00:00:43 #422 [Debug] >    at Hopac.Core.JobCont`2[[System.__Canon, System.Private.CoreLib, Version=8.0.0.0, Culture=neutral, PublicKeyToken=7cec85d7bea7798e],[System.__Canon, System.Private.CoreLib, Version=8.0.0.0, Culture=neutral, PublicKeyToken=7cec85d7bea7798e]].DoJob(Hopac.Core.Worker ByRef, Hopac.Core.Cont`1<System.__Canon>)\r\n",
      "00:00:43 #423 [Debug] >    at Hopac.Core.ContBind`2[[System.__Canon, System.Private.CoreLib, Version=8.0.0.0, Culture=neutral, PublicKeyToken=7cec85d7bea7798e],[System.__Canon, System.Private.CoreLib, Version=8.0.0.0, Culture=neutral, PublicKeyToken=7cec85d7bea7798e]].DoCont(Hopac.Core.Worker ByRef, System.__Canon)\r\n",
      "00:00:43 #424 [Debug] >    at Hopac.Promise`1+Fulfill[[System.__Canon, System.Private.CoreLib, Version=8.0.0.0, Culture=neutral, PublicKeyToken=7cec85d7bea7798e]].Do(Hopac.Core.Worker ByRef, System.__Canon)\r\n",
      "00:00:43 #425 [Debug] >    at Hopac.Promise`1+Fulfill[[System.__Canon, System.Private.CoreLib, Version=8.0.0.0, Culture=neutral, PublicKeyToken=7cec85d7bea7798e]].DoCont(Hopac.Core.Worker ByRef, System.__Canon)\r\n",
      "00:00:43 #426 [Debug] >    at Hopac.Core.ContMap`2[[System.__Canon, System.Private.CoreLib, Version=8.0.0.0, Culture=neutral, PublicKeyToken=7cec85d7bea7798e],[System.__Canon, System.Private.CoreLib, Version=8.0.0.0, Culture=neutral, PublicKeyToken=7cec85d7bea7798e]].DoCont(Hopac.Core.Worker ByRef, System.__Canon)\r\n",
      "00:00:43 #427 [Debug] >    at Hopac.Promise`1+Fulfill[[System.__Canon, System.Private.CoreLib, Version=8.0.0.0, Culture=neutral, PublicKeyToken=7cec85d7bea7798e]].Do(Hopac.Core.Worker ByRef, System.__Canon)\r\n",
      "00:00:43 #428 [Debug] >    at Hopac.Promise`1+Fulfill[[System.__Canon, System.Private.CoreLib, Version=8.0.0.0, Culture=neutral, PublicKeyToken=7cec85d7bea7798e]].DoCont(Hopac.Core.Worker ByRef, System.__Canon)\r\n",
      "00:00:43 #429 [Debug] >    at Hopac.Core.Cont.Do[[System.__Canon, System.Private.CoreLib, Version=8.0.0.0, Culture=neutral, PublicKeyToken=7cec85d7bea7798e]](Hopac.Core.Cont`1<System.__Canon>, Hopac.Core.Worker ByRef, System.__Canon)\r\n",
      "00:00:43 #430 [Debug] >    at Hopac.Core.JobThunk`1[[System.__Canon, System.Private.CoreLib, Version=8.0.0.0, Culture=neutral, PublicKeyToken=7cec85d7bea7798e]].DoJob(Hopac.Core.Worker ByRef, Hopac.Core.Cont`1<System.__Canon>)\r\n",
      "00:00:43 #431 [Debug] >    at Hopac.Core.Job.Do[[System.__Canon, System.Private.CoreLib, Version=8.0.0.0, Culture=neutral, PublicKeyToken=7cec85d7bea7798e]](Hopac.Job`1<System.__Canon>, Hopac.Core.Worker ByRef, Hopac.Core.Cont`1<System.__Canon>)\r\n",
      "00:00:43 #432 [Debug] >    at Hopac.Promise`1[[System.__Canon, System.Private.CoreLib, Version=8.0.0.0, Culture=neutral, PublicKeyToken=7cec85d7bea7798e]].DoJob(Hopac.Core.Worker ByRef, Hopac.Core.Cont`1<System.__Canon>)\r\n",
      "00:00:43 #433 [Debug] >    at Hopac.Core.JobCont`2[[System.__Canon, System.Private.CoreLib, Version=8.0.0.0, Culture=neutral, PublicKeyToken=7cec85d7bea7798e],[System.__Canon, System.Private.CoreLib, Version=8.0.0.0, Culture=neutral, PublicKeyToken=7cec85d7bea7798e]].DoJob(Hopac.Core.Worker ByRef, Hopac.Core.Cont`1<System.__Canon>)\r\n",
      "00:00:43 #434 [Debug] >    at Hopac.Core.ContBind`2[[System.__Canon, System.Private.CoreLib, Version=8.0.0.0, Culture=neutral, PublicKeyToken=7cec85d7bea7798e],[System.__Canon, System.Private.CoreLib, Version=8.0.0.0, Culture=neutral, PublicKeyToken=7cec85d7bea7798e]].DoCont(Hopac.Core.Worker ByRef, System.__Canon)\r\n",
      "00:00:43 #435 [Debug] >    at Hopac.Core.Cont.Do[[System.__Canon, System.Private.CoreLib, Version=8.0.0.0, Culture=neutral, PublicKeyToken=7cec85d7bea7798e]](Hopac.Core.Cont`1<System.__Canon>, Hopac.Core.Worker ByRef, System.__Canon)\r\n",
      "00:00:43 #436 [Debug] >    at Hopac.Promise`1[[System.__Canon, System.Private.CoreLib, Version=8.0.0.0, Culture=neutral, PublicKeyToken=7cec85d7bea7798e]].DoJob(Hopac.Core.Worker ByRef, Hopac.Core.Cont`1<System.__Canon>)\r\n",
      "00:00:43 #437 [Debug] >    at Hopac.Core.JobCont`2[[System.__Canon, System.Private.CoreLib, Version=8.0.0.0, Culture=neutral, PublicKeyToken=7cec85d7bea7798e],[System.__Canon, System.Private.CoreLib, Version=8.0.0.0, Culture=neutral, PublicKeyToken=7cec85d7bea7798e]].DoJob(Hopac.Core.Worker ByRef, Hopac.Core.Cont`1<System.__Canon>)\r\n",
      "00:00:43 #438 [Debug] >    at Hopac.Core.Job.Do[[System.__Canon, System.Private.CoreLib, Version=8.0.0.0, Culture=neutral, PublicKeyToken=7cec85d7bea7798e]](Hopac.Job`1<System.__Canon>, Hopac.Core.Worker ByRef, Hopac.Core.Cont`1<System.__Canon>)\r\n",
      "00:00:43 #439 [Debug] >    at Hopac.Promise`1[[System.__Canon, System.Private.CoreLib, Version=8.0.0.0, Culture=neutral, PublicKeyToken=7cec85d7bea7798e]].DoJob(Hopac.Core.Worker ByRef, Hopac.Core.Cont`1<System.__Canon>)\r\n",
      "00:00:43 #440 [Debug] >    at Hopac.Core.JobCont`2[[System.__Canon, System.Private.CoreLib, Version=8.0.0.0, Culture=neutral, PublicKeyToken=7cec85d7bea7798e],[System.__Canon, System.Private.CoreLib, Version=8.0.0.0, Culture=neutral, PublicKeyToken=7cec85d7bea7798e]].DoJob(Hopac.Core.Worker ByRef, Hopac.Core.Cont`1<System.__Canon>)\r\n",
      "00:00:43 #441 [Debug] >    at Hopac.Core.ContBind`2[[System.__Canon, System.Private.CoreLib, Version=8.0.0.0, Culture=neutral, PublicKeyToken=7cec85d7bea7798e],[System.__Canon, System.Private.CoreLib, Version=8.0.0.0, Culture=neutral, PublicKeyToken=7cec85d7bea7798e]].DoCont(Hopac.Core.Worker ByRef, System.__Canon)\r\n",
      "00:00:43 #442 [Debug] >    at Hopac.Promise`1+Fulfill[[System.__Canon, System.Private.CoreLib, Version=8.0.0.0, Culture=neutral, PublicKeyToken=7cec85d7bea7798e]].Do(Hopac.Core.Worker ByRef, System.__Canon)\r\n",
      "00:00:43 #443 [Debug] >    at Hopac.Promise`1+Fulfill[[System.__Canon, System.Private.CoreLib, Version=8.0.0.0, Culture=neutral, PublicKeyToken=7cec85d7bea7798e]].DoCont(Hopac.Core.Worker ByRef, System.__Canon)\r\n",
      "00:00:43 #444 [Debug] >    at Hopac.Core.ContMap`2[[System.__Canon, System.Private.CoreLib, Version=8.0.0.0, Culture=neutral, PublicKeyToken=7cec85d7bea7798e],[System.__Canon, System.Private.CoreLib, Version=8.0.0.0, Culture=neutral, PublicKeyToken=7cec85d7bea7798e]].DoCont(Hopac.Core.Worker ByRef, System.__Canon)\r\n",
      "00:00:43 #445 [Debug] >    at Hopac.Promise`1+Fulfill[[System.__Canon, System.Private.CoreLib, Version=8.0.0.0, Culture=neutral, PublicKeyToken=7cec85d7bea7798e]].Do(Hopac.Core.Worker ByRef, System.__Canon)\r\n",
      "00:00:43 #446 [Debug] >    at Hopac.Promise`1+Fulfill[[System.__Canon, System.Private.CoreLib, Version=8.0.0.0, Culture=neutral, PublicKeyToken=7cec85d7bea7798e]].DoCont(Hopac.Core.Worker ByRef, System.__Canon)\r\n",
      "00:00:43 #447 [Debug] >    at Hopac.Core.Cont.Do[[System.__Canon, System.Private.CoreLib, Version=8.0.0.0, Culture=neutral, PublicKeyToken=7cec85d7bea7798e]](Hopac.Core.Cont`1<System.__Canon>, Hopac.Core.Worker ByRef, System.__Canon)\r\n",
      "00:00:43 #448 [Debug] >    at Hopac.Core.JobThunk`1[[System.__Canon, System.Private.CoreLib, Version=8.0.0.0, Culture=neutral, PublicKeyToken=7cec85d7bea7798e]].DoJob(Hopac.Core.Worker ByRef, Hopac.Core.Cont`1<System.__Canon>)\r\n",
      "00:00:43 #449 [Debug] >    at Hopac.Core.Job.Do[[System.__Canon, System.Private.CoreLib, Version=8.0.0.0, Culture=neutral, PublicKeyToken=7cec85d7bea7798e]](Hopac.Job`1<System.__Canon>, Hopac.Core.Worker ByRef, Hopac.Core.Cont`1<System.__Canon>)\r\n",
      "00:00:43 #450 [Debug] >    at Hopac.Promise`1[[System.__Canon, System.Private.CoreLib, Version=8.0.0.0, Culture=neutral, PublicKeyToken=7cec85d7bea7798e]].DoJob(Hopac.Core.Worker ByRef, Hopac.Core.Cont`1<System.__Canon>)\r\n",
      "00:00:43 #451 [Debug] >    at Hopac.Core.JobCont`2[[System.__Canon, System.Private.CoreLib, Version=8.0.0.0, Culture=neutral, PublicKeyToken=7cec85d7bea7798e],[System.__Canon, System.Private.CoreLib, Version=8.0.0.0, Culture=neutral, PublicKeyToken=7cec85d7bea7798e]].DoJob(Hopac.Core.Worker ByRef, Hopac.Core.Cont`1<System.__Canon>)\r\n",
      "00:00:43 #452 [Debug] >    at Hopac.Core.ContBind`2[[System.__Canon, System.Private.CoreLib, Version=8.0.0.0, Culture=neutral, PublicKeyToken=7cec85d7bea7798e],[System.__Canon, System.Private.CoreLib, Version=8.0.0.0, Culture=neutral, PublicKeyToken=7cec85d7bea7798e]].DoCont(Hopac.Core.Worker ByRef, System.__Canon)\r\n",
      "00:00:43 #453 [Debug] >    at Hopac.Core.Cont.Do[[System.__Canon, System.Private.CoreLib, Version=8.0.0.0, Culture=neutral, PublicKeyToken=7cec85d7bea7798e]](Hopac.Core.Cont`1<System.__Canon>, Hopac.Core.Worker ByRef, System.__Canon)\r\n",
      "00:00:43 #454 [Debug] >    at Hopac.Promise`1[[System.__Canon, System.Private.CoreLib, Version=8.0.0.0, Culture=neutral, PublicKeyToken=7cec85d7bea7798e]].DoJob(Hopac.Core.Worker ByRef, Hopac.Core.Cont`1<System.__Canon>)\r\n",
      "00:00:43 #455 [Debug] >    at Hopac.Core.JobCont`2[[System.__Canon, System.Private.CoreLib, Version=8.0.0.0, Culture=neutral, PublicKeyToken=7cec85d7bea7798e],[System.__Canon, System.Private.CoreLib, Version=8.0.0.0, Culture=neutral, PublicKeyToken=7cec85d7bea7798e]].DoJob(Hopac.Core.Worker ByRef, Hopac.Core.Cont`1<System.__Canon>)\r\n",
      "00:00:43 #456 [Debug] >    at Hopac.Core.Job.Do[[System.__Canon, System.Private.CoreLib, Version=8.0.0.0, Culture=neutral, PublicKeyToken=7cec85d7bea7798e]](Hopac.Job`1<System.__Canon>, Hopac.Core.Worker ByRef, Hopac.Core.Cont`1<System.__Canon>)\r\n",
      "00:00:43 #457 [Debug] >    at Hopac.Promise`1[[System.__Canon, System.Private.CoreLib, Version=8.0.0.0, Culture=neutral, PublicKeyToken=7cec85d7bea7798e]].DoJob(Hopac.Core.Worker ByRef, Hopac.Core.Cont`1<System.__Canon>)\r\n",
      "00:00:43 #458 [Debug] >    at Hopac.Core.JobCont`2[[System.__Canon, System.Private.CoreLib, Version=8.0.0.0, Culture=neutral, PublicKeyToken=7cec85d7bea7798e],[System.__Canon, System.Private.CoreLib, Version=8.0.0.0, Culture=neutral, PublicKeyToken=7cec85d7bea7798e]].DoJob(Hopac.Core.Worker ByRef, Hopac.Core.Cont`1<System.__Canon>)\r\n",
      "00:00:43 #459 [Debug] >    at Hopac.Core.ContBind`2[[System.__Canon, System.Private.CoreLib, Version=8.0.0.0, Culture=neutral, PublicKeyToken=7cec85d7bea7798e],[System.__Canon, System.Private.CoreLib, Version=8.0.0.0, Culture=neutral, PublicKeyToken=7cec85d7bea7798e]].DoCont(Hopac.Core.Worker ByRef, System.__Canon)\r\n",
      "00:00:43 #460 [Debug] >    at Hopac.Promise`1+Fulfill[[System.__Canon, System.Private.CoreLib, Version=8.0.0.0, Culture=neutral, PublicKeyToken=7cec85d7bea7798e]].Do(Hopac.Core.Worker ByRef, System.__Canon)\r\n",
      "00:00:43 #461 [Debug] >    at Hopac.Promise`1+Fulfill[[System.__Canon, System.Private.CoreLib, Version=8.0.0.0, Culture=neutral, PublicKeyToken=7cec85d7bea7798e]].DoCont(Hopac.Core.Worker ByRef, System.__Canon)\r\n",
      "00:00:43 #462 [Debug] >    at Hopac.Core.ContMap`2[[System.__Canon, System.Private.CoreLib, Version=8.0.0.0, Culture=neutral, PublicKeyToken=7cec85d7bea7798e],[System.__Canon, System.Private.CoreLib, Version=8.0.0.0, Culture=neutral, PublicKeyToken=7cec85d7bea7798e]].DoCont(Hopac.Core.Worker ByRef, System.__Canon)\r\n",
      "00:00:43 #463 [Debug] >    at Hopac.Promise`1+Fulfill[[System.__Canon, System.Private.CoreLib, Version=8.0.0.0, Culture=neutral, PublicKeyToken=7cec85d7bea7798e]].Do(Hopac.Core.Worker ByRef, System.__Canon)\r\n",
      "00:00:43 #464 [Debug] >    at Hopac.Promise`1+Fulfill[[System.__Canon, System.Private.CoreLib, Version=8.0.0.0, Culture=neutral, PublicKeyToken=7cec85d7bea7798e]].DoCont(Hopac.Core.Worker ByRef, System.__Canon)\r\n",
      "00:00:43 #465 [Debug] >    at Hopac.Core.Cont.Do[[System.__Canon, System.Private.CoreLib, Version=8.0.0.0, Culture=neutral, PublicKeyToken=7cec85d7bea7798e]](Hopac.Core.Cont`1<System.__Canon>, Hopac.Core.Worker ByRef, System.__Canon)\r\n",
      "00:00:43 #466 [Debug] >    at Hopac.Core.JobThunk`1[[System.__Canon, System.Private.CoreLib, Version=8.0.0.0, Culture=neutral, PublicKeyToken=7cec85d7bea7798e]].DoJob(Hopac.Core.Worker ByRef, Hopac.Core.Cont`1<System.__Canon>)\r\n",
      "00:00:43 #467 [Debug] >    at Hopac.Core.Job.Do[[System.__Canon, System.Private.CoreLib, Version=8.0.0.0, Culture=neutral, PublicKeyToken=7cec85d7bea7798e]](Hopac.Job`1<System.__Canon>, Hopac.Core.Worker ByRef, Hopac.Core.Cont`1<System.__Canon>)\r\n",
      "00:00:43 #468 [Debug] >    at Hopac.Promise`1[[System.__Canon, System.Private.CoreLib, Version=8.0.0.0, Culture=neutral, PublicKeyToken=7cec85d7bea7798e]].DoJob(Hopac.Core.Worker ByRef, Hopac.Core.Cont`1<System.__Canon>)\r\n",
      "00:00:43 #469 [Debug] >    at Hopac.Core.JobCont`2[[System.__Canon, System.Private.CoreLib, Version=8.0.0.0, Culture=neutral, PublicKeyToken=7cec85d7bea7798e],[System.__Canon, System.Private.CoreLib, Version=8.0.0.0, Culture=neutral, PublicKeyToken=7cec85d7bea7798e]].DoJob(Hopac.Core.Worker ByRef, Hopac.Core.Cont`1<System.__Canon>)\r\n",
      "00:00:43 #470 [Debug] >    at Hopac.Core.ContBind`2[[System.__Canon, System.Private.CoreLib, Version=8.0.0.0, Culture=neutral, PublicKeyToken=7cec85d7bea7798e],[System.__Canon, System.Private.CoreLib, Version=8.0.0.0, Culture=neutral, PublicKeyToken=7cec85d7bea7798e]].DoCont(Hopac.Core.Worker ByRef, System.__Canon)\r\n",
      "00:00:43 #471 [Debug] >    at Hopac.Core.Cont.Do[[System.__Canon, System.Private.CoreLib, Version=8.0.0.0, Culture=neutral, PublicKeyToken=7cec85d7bea7798e]](Hopac.Core.Cont`1<System.__Canon>, Hopac.Core.Worker ByRef, System.__Canon)\r\n",
      "00:00:43 #472 [Debug] >    at Hopac.Promise`1[[System.__Canon, System.Private.CoreLib, Version=8.0.0.0, Culture=neutral, PublicKeyToken=7cec85d7bea7798e]].DoJob(Hopac.Core.Worker ByRef, Hopac.Core.Cont`1<System.__Canon>)\r\n",
      "00:00:43 #473 [Debug] >    at Hopac.Core.JobCont`2[[System.__Canon, System.Private.CoreLib, Version=8.0.0.0, Culture=neutral, PublicKeyToken=7cec85d7bea7798e],[System.__Canon, System.Private.CoreLib, Version=8.0.0.0, Culture=neutral, PublicKeyToken=7cec85d7bea7798e]].DoJob(Hopac.Core.Worker ByRef, Hopac.Core.Cont`1<System.__Canon>)\r\n",
      "00:00:43 #474 [Debug] >    at Hopac.Core.ContBind`2[[System.__Canon, System.Private.CoreLib, Version=8.0.0.0, Culture=neutral, PublicKeyToken=7cec85d7bea7798e],[System.__Canon, System.Private.CoreLib, Version=8.0.0.0, Culture=neutral, PublicKeyToken=7cec85d7bea7798e]].DoCont(Hopac.Core.Worker ByRef, System.__Canon)\r\n",
      "00:00:43 #475 [Debug] >    at Hopac.Promise`1+Fulfill[[System.__Canon, System.Private.CoreLib, Version=8.0.0.0, Culture=neutral, PublicKeyToken=7cec85d7bea7798e]].Do(Hopac.Core.Worker ByRef, System.__Canon)\r\n",
      "00:00:43 #476 [Debug] >    at Hopac.Promise`1+Fulfill[[System.__Canon, System.Private.CoreLib, Version=8.0.0.0, Culture=neutral, PublicKeyToken=7cec85d7bea7798e]].DoCont(Hopac.Core.Worker ByRef, System.__Canon)\r\n",
      "00:00:43 #477 [Debug] >    at Hopac.Core.ContMap`2[[System.__Canon, System.Private.CoreLib, Version=8.0.0.0, Culture=neutral, PublicKeyToken=7cec85d7bea7798e],[System.__Canon, System.Private.CoreLib, Version=8.0.0.0, Culture=neutral, PublicKeyToken=7cec85d7bea7798e]].DoCont(Hopac.Core.Worker ByRef, System.__Canon)\r\n",
      "00:00:43 #478 [Debug] >    at Hopac.Promise`1+Fulfill[[System.__Canon, System.Private.CoreLib, Version=8.0.0.0, Culture=neutral, PublicKeyToken=7cec85d7bea7798e]].Do(Hopac.Core.Worker ByRef, System.__Canon)\r\n",
      "00:00:43 #479 [Debug] >    at Hopac.Promise`1+Fulfill[[System.__Canon, System.Private.CoreLib, Version=8.0.0.0, Culture=neutral, PublicKeyToken=7cec85d7bea7798e]].DoCont(Hopac.Core.Worker ByRef, System.__Canon)\r\n",
      "00:00:43 #480 [Debug] >    at Hopac.Core.ContMap`2[[System.__Canon, System.Private.CoreLib, Version=8.0.0.0, Culture=neutral, PublicKeyToken=7cec85d7bea7798e],[System.__Canon, System.Private.CoreLib, Version=8.0.0.0, Culture=neutral, PublicKeyToken=7cec85d7bea7798e]].DoCont(Hopac.Core.Worker ByRef, System.__Canon)\r\n",
      "00:00:43 #481 [Debug] >    at Hopac.Core.Cont.Do[[System.__Canon, System.Private.CoreLib, Version=8.0.0.0, Culture=neutral, PublicKeyToken=7cec85d7bea7798e]](Hopac.Core.Cont`1<System.__Canon>, Hopac.Core.Worker ByRef, System.__Canon)\r\n",
      "00:00:43 #482 [Debug] >    at Hopac.Promise`1[[System.__Canon, System.Private.CoreLib, Version=8.0.0.0, Culture=neutral, PublicKeyToken=7cec85d7bea7798e]].DoJob(Hopac.Core.Worker ByRef, Hopac.Core.Cont`1<System.__Canon>)\r\n",
      "00:00:43 #483 [Debug] >    at Hopac.Core.JobCont`2[[System.__Canon, System.Private.CoreLib, Version=8.0.0.0, Culture=neutral, PublicKeyToken=7cec85d7bea7798e],[System.__Canon, System.Private.CoreLib, Version=8.0.0.0, Culture=neutral, PublicKeyToken=7cec85d7bea7798e]].DoJob(Hopac.Core.Worker ByRef, Hopac.Core.Cont`1<System.__Canon>)\r\n",
      "00:00:43 #484 [Debug] >    at Hopac.Core.ContBind`2[[System.__Canon, System.Private.CoreLib, Version=8.0.0.0, Culture=neutral, PublicKeyToken=7cec85d7bea7798e],[System.__Canon, System.Private.CoreLib, Version=8.0.0.0, Culture=neutral, PublicKeyToken=7cec85d7bea7798e]].DoCont(Hopac.Core.Worker ByRef, System.__Canon)\r\n",
      "00:00:43 #485 [Debug] >    at Hopac.Promise`1+Fulfill[[System.__Canon, System.Private.CoreLib, Version=8.0.0.0, Culture=neutral, PublicKeyToken=7cec85d7bea7798e]].Do(Hopac.Core.Worker ByRef, System.__Canon)\r\n",
      "00:00:43 #486 [Debug] >    at Hopac.Promise`1+Fulfill[[System.__Canon, System.Private.CoreLib, Version=8.0.0.0, Culture=neutral, PublicKeyToken=7cec85d7bea7798e]].DoCont(Hopac.Core.Worker ByRef, System.__Canon)\r\n",
      "00:00:43 #487 [Debug] >    at Hopac.Core.ContMap`2[[System.__Canon, System.Private.CoreLib, Version=8.0.0.0, Culture=neutral, PublicKeyToken=7cec85d7bea7798e],[System.__Canon, System.Private.CoreLib, Version=8.0.0.0, Culture=neutral, PublicKeyToken=7cec85d7bea7798e]].DoCont(Hopac.Core.Worker ByRef, System.__Canon)\r\n",
      "00:00:43 #488 [Debug] >    at Hopac.Promise`1+Fulfill[[System.__Canon, System.Private.CoreLib, Version=8.0.0.0, Culture=neutral, PublicKeyToken=7cec85d7bea7798e]].Do(Hopac.Core.Worker ByRef, System.__Canon)\r\n",
      "00:00:43 #489 [Debug] >    at Hopac.Promise`1+Fulfill[[System.__Canon, System.Private.CoreLib, Version=8.0.0.0, Culture=neutral, PublicKeyToken=7cec85d7bea7798e]].DoCont(Hopac.Core.Worker ByRef, System.__Canon)\r\n",
      "00:00:43 #490 [Debug] >    at Hopac.Promise`1+Fulfill[[System.__Canon, System.Private.CoreLib, Version=8.0.0.0, Culture=neutral, PublicKeyToken=7cec85d7bea7798e]].Do(Hopac.Core.Worker ByRef, System.__Canon)\r\n",
      "00:00:43 #491 [Debug] >    at Hopac.Promise`1+Fulfill[[System.__Canon, System.Private.CoreLib, Version=8.0.0.0, Culture=neutral, PublicKeyToken=7cec85d7bea7798e]].DoCont(Hopac.Core.Worker ByRef, System.__Canon)\r\n",
      "00:00:43 #492 [Debug] >    at Hopac.Core.ContMap`2[[System.__Canon, System.Private.CoreLib, Version=8.0.0.0, Culture=neutral, PublicKeyToken=7cec85d7bea7798e],[System.__Canon, System.Private.CoreLib, Version=8.0.0.0, Culture=neutral, PublicKeyToken=7cec85d7bea7798e]].DoCont(Hopac.Core.Worker ByRef, System.__Canon)\r\n",
      "00:00:43 #493 [Debug] >    at Hopac.Core.Cont.Do[[System.__Canon, System.Private.CoreLib, Version=8.0.0.0, Culture=neutral, PublicKeyToken=7cec85d7bea7798e]](Hopac.Core.Cont`1<System.__Canon>, Hopac.Core.Worker ByRef, System.__Canon)\r\n",
      "00:00:43 #494 [Debug] >    at Hopac.Promise`1[[System.__Canon, System.Private.CoreLib, Version=8.0.0.0, Culture=neutral, PublicKeyToken=7cec85d7bea7798e]].DoJob(Hopac.Core.Worker ByRef, Hopac.Core.Cont`1<System.__Canon>)\r\n",
      "00:00:43 #495 [Debug] >    at Hopac.Core.JobCont`2[[System.__Canon, System.Private.CoreLib, Version=8.0.0.0, Culture=neutral, PublicKeyToken=7cec85d7bea7798e],[System.__Canon, System.Private.CoreLib, Version=8.0.0.0, Culture=neutral, PublicKeyToken=7cec85d7bea7798e]].DoJob(Hopac.Core.Worker ByRef, Hopac.Core.Cont`1<System.__Canon>)\r\n",
      "00:00:43 #496 [Debug] >    at Hopac.Core.Job.Do[[System.__Canon, System.Private.CoreLib, Version=8.0.0.0, Culture=neutral, PublicKeyToken=7cec85d7bea7798e]](Hopac.Job`1<System.__Canon>, Hopac.Core.Worker ByRef, Hopac.Core.Cont`1<System.__Canon>)\r\n",
      "00:00:43 #497 [Debug] >    at Hopac.Promise`1[[System.__Canon, System.Private.CoreLib, Version=8.0.0.0, Culture=neutral, PublicKeyToken=7cec85d7bea7798e]].DoJob(Hopac.Core.Worker ByRef, Hopac.Core.Cont`1<System.__Canon>)\r\n",
      "00:00:43 #498 [Debug] >    at Hopac.Core.ContBind`2[[System.__Canon, System.Private.CoreLib, Version=8.0.0.0, Culture=neutral, PublicKeyToken=7cec85d7bea7798e],[System.__Canon, System.Private.CoreLib, Version=8.0.0.0, Culture=neutral, PublicKeyToken=7cec85d7bea7798e]].DoCont(Hopac.Core.Worker ByRef, System.__Canon)\r\n",
      "00:00:43 #499 [Debug] >    at Hopac.Promise`1+Fulfill[[System.__Canon, System.Private.CoreLib, Version=8.0.0.0, Culture=neutral, PublicKeyToken=7cec85d7bea7798e]].Do(Hopac.Core.Worker ByRef, System.__Canon)\r\n",
      "00:00:43 #500 [Debug] >    at Hopac.Promise`1+Fulfill[[System.__Canon, System.Private.CoreLib, Version=8.0.0.0, Culture=neutral, PublicKeyToken=7cec85d7bea7798e]].DoCont(Hopac.Core.Worker ByRef, System.__Canon)\r\n",
      "00:00:43 #501 [Debug] >    at Hopac.Core.ContMap`2[[System.__Canon, System.Private.CoreLib, Version=8.0.0.0, Culture=neutral, PublicKeyToken=7cec85d7bea7798e],[System.__Canon, System.Private.CoreLib, Version=8.0.0.0, Culture=neutral, PublicKeyToken=7cec85d7bea7798e]].DoCont(Hopac.Core.Worker ByRef, System.__Canon)\r\n",
      "00:00:43 #502 [Debug] >    at Hopac.Core.Cont.Do[[System.__Canon, System.Private.CoreLib, Version=8.0.0.0, Culture=neutral, PublicKeyToken=7cec85d7bea7798e]](Hopac.Core.Cont`1<System.__Canon>, Hopac.Core.Worker ByRef, System.__Canon)\r\n",
      "00:00:43 #503 [Debug] >    at Hopac.Promise`1[[System.__Canon, System.Private.CoreLib, Version=8.0.0.0, Culture=neutral, PublicKeyToken=7cec85d7bea7798e]].DoJob(Hopac.Core.Worker ByRef, Hopac.Core.Cont`1<System.__Canon>)\r\n",
      "00:00:43 #504 [Debug] >    at Hopac.Core.JobCont`2[[System.__Canon, System.Private.CoreLib, Version=8.0.0.0, Culture=neutral, PublicKeyToken=7cec85d7bea7798e],[System.__Canon, System.Private.CoreLib, Version=8.0.0.0, Culture=neutral, PublicKeyToken=7cec85d7bea7798e]].DoJob(Hopac.Core.Worker ByRef, Hopac.Core.Cont`1<System.__Canon>)\r\n",
      "00:00:43 #505 [Debug] >    at Hopac.Core.ContBind`2[[System.__Canon, System.Private.CoreLib, Version=8.0.0.0, Culture=neutral, PublicKeyToken=7cec85d7bea7798e],[System.__Canon, System.Private.CoreLib, Version=8.0.0.0, Culture=neutral, PublicKeyToken=7cec85d7bea7798e]].DoCont(Hopac.Core.Worker ByRef, System.__Canon)\r\n",
      "00:00:43 #506 [Debug] >    at Hopac.Promise`1+Fulfill[[System.__Canon, System.Private.CoreLib, Version=8.0.0.0, Culture=neutral, PublicKeyToken=7cec85d7bea7798e]].Do(Hopac.Core.Worker ByRef, System.__Canon)\r\n",
      "00:00:43 #507 [Debug] >    at Hopac.Promise`1+Fulfill[[System.__Canon, System.Private.CoreLib, Version=8.0.0.0, Culture=neutral, PublicKeyToken=7cec85d7bea7798e]].DoCont(Hopac.Core.Worker ByRef, System.__Canon)\r\n",
      "00:00:43 #508 [Debug] >    at Hopac.Core.ContMap`2[[System.__Canon, System.Private.CoreLib, Version=8.0.0.0, Culture=neutral, PublicKeyToken=7cec85d7bea7798e],[System.__Canon, System.Private.CoreLib, Version=8.0.0.0, Culture=neutral, PublicKeyToken=7cec85d7bea7798e]].DoCont(Hopac.Core.Worker ByRef, System.__Canon)\r\n",
      "00:00:43 #509 [Debug] >    at Hopac.Job+result@1000-1[[System.__Canon, System.Private.CoreLib, Version=8.0.0.0, Culture=neutral, PublicKeyToken=7cec85d7bea7798e]].DoJob(Hopac.Core.Worker ByRef, Hopac.Core.Cont`1<System.__Canon>)\r\n",
      "00:00:43 #510 [Debug] >    at Hopac.Core.ContBind`2[[System.__Canon, System.Private.CoreLib, Version=8.0.0.0, Culture=neutral, PublicKeyToken=7cec85d7bea7798e],[System.__Canon, System.Private.CoreLib, Version=8.0.0.0, Culture=neutral, PublicKeyToken=7cec85d7bea7798e]].DoCont(Hopac.Core.Worker ByRef, System.__Canon)\r\n",
      "00:00:43 #511 [Debug] >    at Hopac.Promise`1+Fulfill[[System.__Canon, System.Private.CoreLib, Version=8.0.0.0, Culture=neutral, PublicKeyToken=7cec85d7bea7798e]].Do(Hopac.Core.Worker ByRef, System.__Canon)\r\n",
      "00:00:44 #512 [Debug] >    at Hopac.Promise`1+Fulfill[[System.__Canon, System.Private.CoreLib, Version=8.0.0.0, Culture=neutral, PublicKeyToken=7cec85d7bea7798e]].DoCont(Hopac.Core.Worker ByRef, System.__Canon)\r\n",
      "00:00:44 #513 [Debug] >    at Hopac.Job+result@1000-1[[System.__Canon, System.Private.CoreLib, Version=8.0.0.0, Culture=neutral, PublicKeyToken=7cec85d7bea7798e]].DoJob(Hopac.Core.Worker ByRef, Hopac.Core.Cont`1<System.__Canon>)\r\n",
      "00:00:44 #514 [Debug] >    at Hopac.Core.ContBind`2[[System.__Canon, System.Private.CoreLib, Version=8.0.0.0, Culture=neutral, PublicKeyToken=7cec85d7bea7798e],[System.__Canon, System.Private.CoreLib, Version=8.0.0.0, Culture=neutral, PublicKeyToken=7cec85d7bea7798e]].DoCont(Hopac.Core.Worker ByRef, System.__Canon)\r\n",
      "00:00:44 #515 [Debug] >    at Hopac.Core.Cont.Do[[System.__Canon, System.Private.CoreLib, Version=8.0.0.0, Culture=neutral, PublicKeyToken=7cec85d7bea7798e]](Hopac.Core.Cont`1<System.__Canon>, Hopac.Core.Worker ByRef, System.__Canon)\r\n",
      "00:00:44 #516 [Debug] >    at Hopac.Promise`1[[System.__Canon, System.Private.CoreLib, Version=8.0.0.0, Culture=neutral, PublicKeyToken=7cec85d7bea7798e]].DoJob(Hopac.Core.Worker ByRef, Hopac.Core.Cont`1<System.__Canon>)\r\n",
      "00:00:44 #517 [Debug] >    at Hopac.Core.JobCont`2[[System.__Canon, System.Private.CoreLib, Version=8.0.0.0, Culture=neutral, PublicKeyToken=7cec85d7bea7798e],[System.__Canon, System.Private.CoreLib, Version=8.0.0.0, Culture=neutral, PublicKeyToken=7cec85d7bea7798e]].DoJob(Hopac.Core.Worker ByRef, Hopac.Core.Cont`1<System.__Canon>)\r\n",
      "00:00:44 #518 [Debug] >    at Hopac.Core.Job.Do[[System.__Canon, System.Private.CoreLib, Version=8.0.0.0, Culture=neutral, PublicKeyToken=7cec85d7bea7798e]](Hopac.Job`1<System.__Canon>, Hopac.Core.Worker ByRef, Hopac.Core.Cont`1<System.__Canon>)\r\n",
      "00:00:44 #519 [Debug] >    at Hopac.Promise`1[[System.__Canon, System.Private.CoreLib, Version=8.0.0.0, Culture=neutral, PublicKeyToken=7cec85d7bea7798e]].DoJob(Hopac.Core.Worker ByRef, Hopac.Core.Cont`1<System.__Canon>)\r\n",
      "00:00:44 #520 [Debug] >    at Hopac.Core.JobCont`2[[System.__Canon, System.Private.CoreLib, Version=8.0.0.0, Culture=neutral, PublicKeyToken=7cec85d7bea7798e],[System.__Canon, System.Private.CoreLib, Version=8.0.0.0, Culture=neutral, PublicKeyToken=7cec85d7bea7798e]].DoJob(Hopac.Core.Worker ByRef, Hopac.Core.Cont`1<System.__Canon>)\r\n",
      "00:00:44 #521 [Debug] >    at Hopac.Core.ContBind`2[[System.__Canon, System.Private.CoreLib, Version=8.0.0.0, Culture=neutral, PublicKeyToken=7cec85d7bea7798e],[System.__Canon, System.Private.CoreLib, Version=8.0.0.0, Culture=neutral, PublicKeyToken=7cec85d7bea7798e]].DoCont(Hopac.Core.Worker ByRef, System.__Canon)\r\n",
      "00:00:44 #522 [Debug] >    at Hopac.Promise`1+Fulfill[[System.__Canon, System.Private.CoreLib, Version=8.0.0.0, Culture=neutral, PublicKeyToken=7cec85d7bea7798e]].Do(Hopac.Core.Worker ByRef, System.__Canon)\r\n",
      "00:00:44 #523 [Debug] >    at Hopac.Promise`1+Fulfill[[System.__Canon, System.Private.CoreLib, Version=8.0.0.0, Culture=neutral, PublicKeyToken=7cec85d7bea7798e]].DoCont(Hopac.Core.Worker ByRef, System.__Canon)\r\n",
      "00:00:44 #524 [Debug] >    at Hopac.Core.ContMap`2[[System.__Canon, System.Private.CoreLib, Version=8.0.0.0, Culture=neutral, PublicKeyToken=7cec85d7bea7798e],[System.__Canon, System.Private.CoreLib, Version=8.0.0.0, Culture=neutral, PublicKeyToken=7cec85d7bea7798e]].DoCont(Hopac.Core.Worker ByRef, System.__Canon)\r\n",
      "00:00:44 #525 [Debug] >    at Hopac.Promise`1+Fulfill[[System.__Canon, System.Private.CoreLib, Version=8.0.0.0, Culture=neutral, PublicKeyToken=7cec85d7bea7798e]].Do(Hopac.Core.Worker ByRef, System.__Canon)\r\n",
      "00:00:44 #526 [Debug] >    at Hopac.Promise`1+Fulfill[[System.__Canon, System.Private.CoreLib, Version=8.0.0.0, Culture=neutral, PublicKeyToken=7cec85d7bea7798e]].DoCont(Hopac.Core.Worker ByRef, System.__Canon)\r\n",
      "00:00:44 #527 [Debug] >    at Hopac.Core.Cont.Do[[System.__Canon, System.Private.CoreLib, Version=8.0.0.0, Culture=neutral, PublicKeyToken=7cec85d7bea7798e]](Hopac.Core.Cont`1<System.__Canon>, Hopac.Core.Worker ByRef, System.__Canon)\r\n",
      "00:00:44 #528 [Debug] >    at Hopac.Core.JobThunk`1[[System.__Canon, System.Private.CoreLib, Version=8.0.0.0, Culture=neutral, PublicKeyToken=7cec85d7bea7798e]].DoJob(Hopac.Core.Worker ByRef, Hopac.Core.Cont`1<System.__Canon>)\r\n",
      "00:00:44 #529 [Debug] >    at Hopac.Core.Job.Do[[System.__Canon, System.Private.CoreLib, Version=8.0.0.0, Culture=neutral, PublicKeyToken=7cec85d7bea7798e]](Hopac.Job`1<System.__Canon>, Hopac.Core.Worker ByRef, Hopac.Core.Cont`1<System.__Canon>)\r\n",
      "00:00:44 #530 [Debug] >    at Hopac.Promise`1[[System.__Canon, System.Private.CoreLib, Version=8.0.0.0, Culture=neutral, PublicKeyToken=7cec85d7bea7798e]].DoJob(Hopac.Core.Worker ByRef, Hopac.Core.Cont`1<System.__Canon>)\r\n",
      "00:00:44 #531 [Debug] >    at Hopac.Core.JobCont`2[[System.__Canon, System.Private.CoreLib, Version=8.0.0.0, Culture=neutral, PublicKeyToken=7cec85d7bea7798e],[System.__Canon, System.Private.CoreLib, Version=8.0.0.0, Culture=neutral, PublicKeyToken=7cec85d7bea7798e]].DoJob(Hopac.Core.Worker ByRef, Hopac.Core.Cont`1<System.__Canon>)\r\n",
      "00:00:44 #532 [Debug] >    at Hopac.Core.ContBind`2[[System.__Canon, System.Private.CoreLib, Version=8.0.0.0, Culture=neutral, PublicKeyToken=7cec85d7bea7798e],[System.__Canon, System.Private.CoreLib, Version=8.0.0.0, Culture=neutral, PublicKeyToken=7cec85d7bea7798e]].DoCont(Hopac.Core.Worker ByRef, System.__Canon)\r\n",
      "00:00:44 #533 [Debug] >    at Hopac.Core.Cont.Do[[System.__Canon, System.Private.CoreLib, Version=8.0.0.0, Culture=neutral, PublicKeyToken=7cec85d7bea7798e]](Hopac.Core.Cont`1<System.__Canon>, Hopac.Core.Worker ByRef, System.__Canon)\r\n",
      "00:00:44 #534 [Debug] >    at Hopac.Promise`1[[System.__Canon, System.Private.CoreLib, Version=8.0.0.0, Culture=neutral, PublicKeyToken=7cec85d7bea7798e]].DoJob(Hopac.Core.Worker ByRef, Hopac.Core.Cont`1<System.__Canon>)\r\n",
      "00:00:44 #535 [Debug] >    at Hopac.Core.JobCont`2[[System.__Canon, System.Private.CoreLib, Version=8.0.0.0, Culture=neutral, PublicKeyToken=7cec85d7bea7798e],[System.__Canon, System.Private.CoreLib, Version=8.0.0.0, Culture=neutral, PublicKeyToken=7cec85d7bea7798e]].DoJob(Hopac.Core.Worker ByRef, Hopac.Core.Cont`1<System.__Canon>)\r\n",
      "00:00:44 #536 [Debug] >    at Hopac.Core.ContBind`2[[System.__Canon, System.Private.CoreLib, Version=8.0.0.0, Culture=neutral, PublicKeyToken=7cec85d7bea7798e],[System.__Canon, System.Private.CoreLib, Version=8.0.0.0, Culture=neutral, PublicKeyToken=7cec85d7bea7798e]].DoCont(Hopac.Core.Worker ByRef, System.__Canon)\r\n",
      "00:00:44 #537 [Debug] >    at Hopac.Promise`1+Fulfill[[System.__Canon, System.Private.CoreLib, Version=8.0.0.0, Culture=neutral, PublicKeyToken=7cec85d7bea7798e]].Do(Hopac.Core.Worker ByRef, System.__Canon)\r\n",
      "00:00:44 #538 [Debug] >    at Hopac.Promise`1+Fulfill[[System.__Canon, System.Private.CoreLib, Version=8.0.0.0, Culture=neutral, PublicKeyToken=7cec85d7bea7798e]].DoCont(Hopac.Core.Worker ByRef, System.__Canon)\r\n",
      "00:00:44 #539 [Debug] >    at Hopac.Core.ContMap`2[[System.__Canon, System.Private.CoreLib, Version=8.0.0.0, Culture=neutral, PublicKeyToken=7cec85d7bea7798e],[System.__Canon, System.Private.CoreLib, Version=8.0.0.0, Culture=neutral, PublicKeyToken=7cec85d7bea7798e]].DoCont(Hopac.Core.Worker ByRef, System.__Canon)\r\n",
      "00:00:44 #540 [Debug] >    at Hopac.Promise`1+Fulfill[[System.__Canon, System.Private.CoreLib, Version=8.0.0.0, Culture=neutral, PublicKeyToken=7cec85d7bea7798e]].Do(Hopac.Core.Worker ByRef, System.__Canon)\r\n",
      "00:00:44 #541 [Debug] >    at Hopac.Promise`1+Fulfill[[System.__Canon, System.Private.CoreLib, Version=8.0.0.0, Culture=neutral, PublicKeyToken=7cec85d7bea7798e]].DoCont(Hopac.Core.Worker ByRef, System.__Canon)\r\n",
      "00:00:44 #542 [Debug] >    at Hopac.Core.ContMap`2[[System.__Canon, System.Private.CoreLib, Version=8.0.0.0, Culture=neutral, PublicKeyToken=7cec85d7bea7798e],[System.__Canon, System.Private.CoreLib, Version=8.0.0.0, Culture=neutral, PublicKeyToken=7cec85d7bea7798e]].DoCont(Hopac.Core.Worker ByRef, System.__Canon)\r\n",
      "00:00:44 #543 [Debug] >    at Hopac.Core.Cont.Do[[System.__Canon, System.Private.CoreLib, Version=8.0.0.0, Culture=neutral, PublicKeyToken=7cec85d7bea7798e]](Hopac.Core.Cont`1<System.__Canon>, Hopac.Core.Worker ByRef, System.__Canon)\r\n",
      "00:00:44 #544 [Debug] >    at Hopac.Promise`1[[System.__Canon, System.Private.CoreLib, Version=8.0.0.0, Culture=neutral, PublicKeyToken=7cec85d7bea7798e]].DoJob(Hopac.Core.Worker ByRef, Hopac.Core.Cont`1<System.__Canon>)\r\n",
      "00:00:44 #545 [Debug] >    at Hopac.Core.JobCont`2[[System.__Canon, System.Private.CoreLib, Version=8.0.0.0, Culture=neutral, PublicKeyToken=7cec85d7bea7798e],[System.__Canon, System.Private.CoreLib, Version=8.0.0.0, Culture=neutral, PublicKeyToken=7cec85d7bea7798e]].DoJob(Hopac.Core.Worker ByRef, Hopac.Core.Cont`1<System.__Canon>)\r\n",
      "00:00:44 #546 [Debug] >    at Hopac.Core.ContBind`2[[System.__Canon, System.Private.CoreLib, Version=8.0.0.0, Culture=neutral, PublicKeyToken=7cec85d7bea7798e],[System.__Canon, System.Private.CoreLib, Version=8.0.0.0, Culture=neutral, PublicKeyToken=7cec85d7bea7798e]].DoWork(Hopac.Core.Worker ByRef)\r\n",
      "00:00:44 #547 [Debug] >    at Hopac.Core.Worker.Run(Hopac.Scheduler, Int32)\r\n",
      "00:00:44 #548 [Debug] >    at Hopac.Platform.Scheduler+thread@30.Invoke()\r\n",
      "00:00:44 #549 [Debug] >    at System.Threading.ExecutionContext.RunInternal(System.Threading.ExecutionContext, System.Threading.ContextCallback, System.Object)\r\n",
      "00:00:49 #550 [Debug] runWithTimeoutAsync / timeout: 10000\r\n",
      "00:00:49 #551 [Debug] watchWithFilter / Disposing watch stream / fullPath: C:\\Users\\i574n\\AppData\\Local\\Temp\\!dotnet-repl\\20230926-2327-2717-1739-1d913395c3ec / filter: FileName, LastWrite\r\n",
      "<null>\r\n"
     ]
    }
   ],
   "source": [
    "//// test\n",
    "\n",
    "\"\"\"\n",
    "inl init_series start end inc =\n",
    "    inl total : f64 = conv ((end - start) / inc) + 1\n",
    "    listm.init total (conv >> (*) inc >> (+) start) : list f64\n",
    "\n",
    "type integration = (f64 -> f64) -> f64 -> f64 -> f64\n",
    "\n",
    "inl integral dt : integration =\n",
    "    fun f a b =>\n",
    "        init_series (a + dt / 2) (b - dt / 2) dt\n",
    "        |> listm.map (f >> (*) dt)\n",
    "        |> listm.fold (+) 0\n",
    "\n",
    "inl main () =\n",
    "    integral 0.01 (fun x => x ** 2) 0 1\n",
    "\"\"\"\n",
    "|> buildCode 10000 None\n",
    "|> Async.runWithTimeout 10000\n",
    "|> Option.map (fun (fsxContent, errors) -> fsxContent, errors |> List.map fst)\n",
    "// |> _equal None\n",
    "|> fun x -> printfn $\"{x.ToDisplayString ()}\""
   ]
  },
  {
   "cell_type": "markdown",
   "metadata": {},
   "source": [
    "## getFileTokenRange"
   ]
  },
  {
   "cell_type": "code",
   "execution_count": null,
   "metadata": {
    "dotnet_interactive": {
     "language": "fsharp"
    },
    "polyglot_notebook": {
     "kernelName": "fsharp"
    }
   },
   "outputs": [],
   "source": [
    "let inline getFileTokenRange timeout cancellationToken path = async {\n",
    "    let fullPath = path |> System.IO.Path.GetFullPath\n",
    "    let! code = fullPath |> FileSystem.readAllTextAsync\n",
    "    let lines = code |> String.split [| '\\n' |]\n",
    "\n",
    "    let port =\n",
    "        if fullPath |> String.startsWith (System.IO.Path.GetTempPath ())\n",
    "            && fullPath |> String.contains \"Microsoft.DotNet.Interactive.App\" |> not\n",
    "        then 13807\n",
    "        else 13805\n",
    "\n",
    "    let! serverPort, outputs, disposable = awaitCompiler port cancellationToken\n",
    "    use _ = disposable\n",
    "\n",
    "    let fileOpenObj = {| FileOpen = {| uri = fullPath |> getFileUri; spiText = code |} |}\n",
    "    let! fileOpenResult = fileOpenObj |> sendObj serverPort\n",
    "\n",
    "    let fileTokenRangeObj =\n",
    "        {|\n",
    "            FileTokenRange =\n",
    "                {|\n",
    "                    uri = fullPath |> getFileUri\n",
    "                    range =\n",
    "                        [|\n",
    "                            {| line = 0; character = 0 |}\n",
    "                            {| line = lines.Length - 1; character = lines.[lines.Length - 1].Length |}\n",
    "                        |]\n",
    "                |}\n",
    "        |}\n",
    "    let! fileTokenRangeResult = fileTokenRangeObj |> sendObj serverPort\n",
    "\n",
    "    return fileTokenRangeResult |> Option.map FSharp.Json.Json.deserialize<int array>\n",
    "}"
   ]
  },
  {
   "cell_type": "markdown",
   "metadata": {},
   "source": [
    "## getCodeTokenRange"
   ]
  },
  {
   "cell_type": "code",
   "execution_count": null,
   "metadata": {
    "dotnet_interactive": {
     "language": "fsharp"
    },
    "polyglot_notebook": {
     "kernelName": "fsharp"
    }
   },
   "outputs": [],
   "source": [
    "let inline getCodeTokenRange timeout cancellationToken code = async {\n",
    "    let! mainPath, disposable = persistCode timeout cancellationToken code\n",
    "    use _ = disposable\n",
    "    return! mainPath |> getFileTokenRange timeout cancellationToken\n",
    "}"
   ]
  },
  {
   "cell_type": "code",
   "execution_count": null,
   "metadata": {
    "dotnet_interactive": {
     "language": "fsharp"
    },
    "polyglot_notebook": {
     "kernelName": "fsharp"
    }
   },
   "outputs": [
    {
     "name": "stdout",
     "output_type": "stream",
     "text": [
      "00:01:02 #553 [Debug] createTempDirectory / tempFolder: C:\\Users\\i574n\\AppData\\Local\\Temp\\!dotnet-repl\\20230926-2327-5039-3912-393a605dc31c / result: { CreationTime = 2023-09-26 11:27:50 PM\n",
      "  Exists = true }\r\n",
      "00:01:03 #554 [Debug] runWithTimeoutAsync / timeout: 60\r\n",
      "00:01:03 #555 [Debug] executeAsync / options: { Command =\n",
      "   \"dotnet \"C:\\home\\git\\polyglot\\deps\\The-Spiral-Language\\The Spiral Language 2\\artifacts\\bin\\The Spiral Language 2\\release\\Spiral.dll\" port=13807\"\n",
      "  WorkingDirectory = None\n",
      "  CancellationToken = Some System.Threading.CancellationToken\n",
      "  OnLine = Some <fun:it@4-372> }\r\n",
      "00:01:03 #556 [Debug] > pwd: C:\\home\\git\\polyglot\\apps\\spiral\r\n",
      "00:01:03 #557 [Debug] > dll_path: C:\\home\\git\\polyglot\\deps\\The-Spiral-Language\\The Spiral Language 2\\artifacts\\bin\\The Spiral Language 2\\release\r\n",
      "00:01:04 #558 [Debug] sendJson / port: 13807 / json: {\"Ping\":true} / result.Length:\r\n",
      "00:01:04 #559 [Verbose] awaitCompiler / Ping / result: Some(null) / port: 13807 / retry: 0\r\n",
      "00:01:04 #560 [Debug] > Server bound to: http://localhost:13807\r\n",
      "00:01:04 #561 [Debug] sendJson / port: 13807 / json: {\"FileOpen\":{\"spiText\":\"inl main () = ()\",\"uri\":\"file:///C:\\\\Users\\\\i574n\\\\AppData\\\\Local\\\\Temp\\\\!dotnet-repl\\\\20230926-2327-5039-3912-393a605dc31c\\\\main.spi\"}} / result.Length:\r\n",
      "00:01:04 #562 [Debug] sendJson / port: 13807 / json: {\"FileTokenRange\":{\"range\":[{\"character\":0,\"line\":0},{\"character\":16,\"line\":0}],\"uri\":\"file:///C:\\\\Users\\\\i574n\\\\AppData\\\\Local\\\\Temp\\\\!dotnet-repl\\\\20230926-2327-5039-3912-393a605dc31c\\\\main.spi\"}} / result.Length: Some(213)\r\n",
      "FSharpOption<Int32[]>\r\n",
      "      Value: [ 0, 0, 3, 7, 0, 0, 4, 4, 0, 0, 0, 5, 1, 8, 0, 0, 1, 1, 8, 0, 0, 2, 1, 4, 0, 0, 2, 1, 8, 0, 0, 1, 1, 8, 0 ]\r\n"
     ]
    }
   ],
   "source": [
    "//// test\n",
    "\n",
    "\"\"\"inl main () = ()\"\"\"\n",
    "|> getCodeTokenRange 10000 None\n",
    "|> Async.runWithTimeout 10000\n",
    "|> Option.flatten\n",
    "|> _equal (Some [|0; 0; 3; 7; 0; 0; 4; 4; 0; 0; 0; 5; 1; 8; 0; 0; 1; 1; 8; 0; 0; 2; 1; 4; 0; 0;\n",
    "2; 1; 8; 0; 0; 1; 1; 8; 0|])"
   ]
  },
  {
   "cell_type": "code",
   "execution_count": null,
   "metadata": {
    "dotnet_interactive": {
     "language": "fsharp"
    },
    "polyglot_notebook": {
     "kernelName": "fsharp"
    }
   },
   "outputs": [
    {
     "name": "stdout",
     "output_type": "stream",
     "text": [
      "00:01:09 #563 [Debug] createTempDirectory / tempFolder: C:\\Users\\i574n\\AppData\\Local\\Temp\\!dotnet-repl\\20230926-2327-5661-6172-66fa68cc7df0 / result: { CreationTime = 2023-09-26 11:27:56 PM\n",
      "  Exists = true }\r\n",
      "00:01:09 #564 [Debug] runWithTimeoutAsync / timeout: 60\r\n",
      "00:01:09 #565 [Debug] executeAsync / options: { Command =\n",
      "   \"dotnet \"C:\\home\\git\\polyglot\\deps\\The-Spiral-Language\\The Spiral Language 2\\artifacts\\bin\\The Spiral Language 2\\release\\Spiral.dll\" port=13807\"\n",
      "  WorkingDirectory = None\n",
      "  CancellationToken = Some System.Threading.CancellationToken\n",
      "  OnLine = Some <fun:it@4-737> }\r\n",
      "00:01:09 #566 [Debug] > pwd: C:\\home\\git\\polyglot\\apps\\spiral\r\n",
      "00:01:09 #567 [Debug] > dll_path: C:\\home\\git\\polyglot\\deps\\The-Spiral-Language\\The Spiral Language 2\\artifacts\\bin\\The Spiral Language 2\\release\r\n",
      "00:01:10 #568 [Debug] sendJson / port: 13807 / json: {\"Ping\":true} / result.Length:\r\n",
      "00:01:10 #569 [Verbose] awaitCompiler / Ping / result: Some(null) / port: 13807 / retry: 0\r\n",
      "00:01:10 #570 [Debug] > Server bound to: http://localhost:13807\r\n",
      "00:01:10 #571 [Debug] sendJson / port: 13807 / json: {\"FileOpen\":{\"spiText\":\"inl main () = 1i32\",\"uri\":\"file:///C:\\\\Users\\\\i574n\\\\AppData\\\\Local\\\\Temp\\\\!dotnet-repl\\\\20230926-2327-5661-6172-66fa68cc7df0\\\\main.spi\"}} / result.Length:\r\n",
      "00:01:10 #572 [Debug] sendJson / port: 13807 / json: {\"FileTokenRange\":{\"range\":[{\"character\":0,\"line\":0},{\"character\":18,\"line\":0}],\"uri\":\"file:///C:\\\\Users\\\\i574n\\\\AppData\\\\Local\\\\Temp\\\\!dotnet-repl\\\\20230926-2327-5661-6172-66fa68cc7df0\\\\main.spi\"}} / result.Length: Some(214)\r\n",
      "FSharpOption<Int32[]>\r\n",
      "      Value: [ 0, 0, 3, 7, 0, 0, 4, 4, 0, 0, 0, 5, 1, 8, 0, 0, 1, 1, 8, 0, 0, 2, 1, 4, 0, 0, 2, 1, 3, 0, 0, 1, 3, 12, 0 ]\r\n"
     ]
    }
   ],
   "source": [
    "//// test\n",
    "\n",
    "\"\"\"inl main () = 1i32\"\"\"\n",
    "|> getCodeTokenRange 10000 None\n",
    "|> Async.runWithTimeout 10000\n",
    "|> Option.flatten\n",
    "|> _equal (Some [|0; 0; 3; 7; 0; 0; 4; 4; 0; 0; 0; 5; 1; 8; 0; 0; 1; 1; 8; 0; 0; 2; 1; 4; 0; 0;\n",
    "2; 1; 3; 0; 0; 1; 3; 12; 0|])"
   ]
  },
  {
   "cell_type": "markdown",
   "metadata": {},
   "source": [
    "## Arguments"
   ]
  },
  {
   "cell_type": "code",
   "execution_count": null,
   "metadata": {
    "dotnet_interactive": {
     "language": "fsharp"
    },
    "polyglot_notebook": {
     "kernelName": "fsharp"
    }
   },
   "outputs": [],
   "source": [
    "[<RequireQualifiedAccess>]\n",
    "type Arguments =\n",
    "    | [<Argu.ArguAttributes.Mandatory>] BuildFile of string * string\n",
    "    | Timeout of int\n",
    "\n",
    "    interface Argu.IArgParserTemplate with\n",
    "        member s.Usage =\n",
    "            match s with\n",
    "            | BuildFile _ -> nameof Arguments.BuildFile\n",
    "            | Timeout _ -> nameof Arguments.Timeout"
   ]
  },
  {
   "cell_type": "markdown",
   "metadata": {},
   "source": [
    "## main"
   ]
  },
  {
   "cell_type": "code",
   "execution_count": null,
   "metadata": {
    "dotnet_interactive": {
     "language": "fsharp"
    },
    "polyglot_notebook": {
     "kernelName": "fsharp"
    }
   },
   "outputs": [],
   "source": [
    "let main args =\n",
    "    let argsMap = args |> Runtime.parseArgsMap<Arguments>\n",
    "\n",
    "    let inputPath, outputPath =\n",
    "        match argsMap.[nameof Arguments.BuildFile] with\n",
    "        | [ Arguments.BuildFile (inputPath, outputPath) ] -> Some (inputPath, outputPath)\n",
    "        | _ -> None\n",
    "        |> Option.get\n",
    "\n",
    "    let timeout =\n",
    "        match argsMap |> Map.tryFind (nameof Arguments.Timeout) with\n",
    "        | Some [ Arguments.Timeout timeout ] -> timeout\n",
    "        | _ -> 30000\n",
    "\n",
    "    async {\n",
    "        let! outputCode, errors = inputPath |> buildFile timeout None\n",
    "        \n",
    "        errors\n",
    "        |> List.map snd\n",
    "        |> List.iter (fun error ->\n",
    "            trace Critical (fun () -> $\"main / error: {error}\") getLocals\n",
    "        )\n",
    "\n",
    "        match outputCode with\n",
    "        | Some outputCode ->\n",
    "            do! outputCode |> FileSystem.writeAllTextAsync outputPath\n",
    "            return 0\n",
    "        | None ->\n",
    "            return 1\n",
    "    }\n",
    "    |> Async.runWithTimeout timeout\n",
    "    |> Option.defaultValue 1"
   ]
  },
  {
   "cell_type": "code",
   "execution_count": null,
   "metadata": {
    "dotnet_interactive": {
     "language": "fsharp"
    },
    "polyglot_notebook": {
     "kernelName": "fsharp"
    }
   },
   "outputs": [
    {
     "data": {
      "text/html": [
       "<div class=\"dni-plaintext\"><pre>0</pre></div><style>\r\n",
       ".dni-code-hint {\r\n",
       "    font-style: italic;\r\n",
       "    overflow: hidden;\r\n",
       "    white-space: nowrap;\r\n",
       "}\r\n",
       ".dni-treeview {\r\n",
       "    white-space: nowrap;\r\n",
       "}\r\n",
       ".dni-treeview td {\r\n",
       "    vertical-align: top;\r\n",
       "    text-align: start;\r\n",
       "}\r\n",
       "details.dni-treeview {\r\n",
       "    padding-left: 1em;\r\n",
       "}\r\n",
       "table td {\r\n",
       "    text-align: start;\r\n",
       "}\r\n",
       "table tr { \r\n",
       "    vertical-align: top; \r\n",
       "    margin: 0em 0px;\r\n",
       "}\r\n",
       "table tr td pre \r\n",
       "{ \r\n",
       "    vertical-align: top !important; \r\n",
       "    margin: 0em 0px !important;\r\n",
       "} \r\n",
       "table th {\r\n",
       "    text-align: start;\r\n",
       "}\r\n",
       "</style>"
      ]
     },
     "metadata": {},
     "output_type": "display_data"
    }
   ],
   "source": [
    "//// test\n",
    "\n",
    "let args =\n",
    "    System.Environment.GetEnvironmentVariable \"ARGS\"\n",
    "    |> Runtime.splitArgs\n",
    "    |> Seq.toArray\n",
    "\n",
    "match args with\n",
    "| [||] -> 0\n",
    "| args -> if main args = 0 then 0 else failwith \"main failed\""
   ]
  }
 ],
 "metadata": {},
 "nbformat": 4,
 "nbformat_minor": 5
}