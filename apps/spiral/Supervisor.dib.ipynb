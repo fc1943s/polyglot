{
 "cells": [
  {
   "cell_type": "markdown",
   "metadata": {},
   "source": [
    "# Supervisor (Polyglot)"
   ]
  },
  {
   "cell_type": "code",
   "execution_count": null,
   "metadata": {
    "dotnet_interactive": {
     "language": "fsharp"
    },
    "polyglot_notebook": {
     "kernelName": "fsharp"
    }
   },
   "outputs": [],
   "source": [
    "#!import ../../lib/fsharp/Notebooks.dib\n",
    "#!import ../../lib/fsharp/Testing.dib"
   ]
  },
  {
   "cell_type": "code",
   "execution_count": null,
   "metadata": {
    "dotnet_interactive": {
     "language": "fsharp"
    },
    "polyglot_notebook": {
     "kernelName": "fsharp"
    }
   },
   "outputs": [],
   "source": [
    "#r @\"../../../../../../../.nuget/packages/fsharp.control.asyncseq/3.2.1/lib/netstandard2.1/FSharp.Control.AsyncSeq.dll\"\n",
    "#r @\"../../../../../../../.nuget/packages/system.reactive/6.0.1-preview.1/lib/net6.0/System.Reactive.dll\"\n",
    "#r @\"../../../../../../../.nuget/packages/system.reactive.linq/6.0.1-preview.1/lib/netstandard2.0/System.Reactive.Linq.dll\"\n",
    "#r @\"../../../../../../../.nuget/packages/argu/6.2.2/lib/netstandard2.0/Argu.dll\"\n",
    "#r @\"../../../../../../../.nuget/packages/system.commandline/2.0.0-beta4.22272.1/lib/net6.0/System.CommandLine.dll\"\n",
    "#r @\"../../../../../../../.nuget/packages/microsoft.aspnetcore.http.connections.common/7.0.0/lib/net7.0/Microsoft.AspNetCore.Http.Connections.Common.dll\"\n",
    "#r @\"../../../../../../../.nuget/packages/microsoft.aspnetcore.http.connections.client/7.0.0/lib/net7.0/Microsoft.AspNetCore.Http.Connections.Client.dll\"\n",
    "#r @\"../../../../../../../.nuget/packages/microsoft.aspnetcore.signalr.common/7.0.0/lib/net7.0/Microsoft.AspNetCore.SignalR.Common.dll\"\n",
    "#r @\"../../../../../../../.nuget/packages/microsoft.aspnetcore.signalr.client/7.0.0/lib/net7.0/Microsoft.AspNetCore.SignalR.Client.dll\"\n",
    "#r @\"../../../../../../../.nuget/packages/microsoft.aspnetcore.signalr.client.core/7.0.0/lib/net7.0/Microsoft.AspNetCore.SignalR.Client.Core.dll\"\n",
    "#r @\"../../../../../../../.nuget/packages/fsharp.json/0.4.1/lib/netstandard2.0/FSharp.Json.dll\""
   ]
  },
  {
   "cell_type": "code",
   "execution_count": null,
   "metadata": {
    "dotnet_interactive": {
     "language": "fsharp"
    },
    "polyglot_notebook": {
     "kernelName": "fsharp"
    }
   },
   "outputs": [],
   "source": [
    "#!import ../../lib/spiral/common.fsx\n",
    "#!import ../../lib/spiral/sm.fsx\n",
    "#!import ../../lib/spiral/date_time.fsx\n",
    "#!import ../../lib/spiral/file_system.fsx\n",
    "#!import ../../lib/spiral/lib.fsx\n",
    "#!import ../../lib/fsharp/Common.fs\n",
    "#!import ../../lib/fsharp/CommonFSharp.fs\n",
    "#!import ../../lib/fsharp/Threading.fs\n",
    "#!import ../../lib/fsharp/Async.fs\n",
    "#!import ../../lib/fsharp/AsyncSeq.fs\n",
    "#!import ../../lib/fsharp/Networking.fs\n",
    "#!import ../../lib/fsharp/Runtime.fs\n",
    "#!import ../../lib/fsharp/FileSystem.fs"
   ]
  },
  {
   "cell_type": "code",
   "execution_count": null,
   "metadata": {
    "dotnet_interactive": {
     "language": "fsharp"
    },
    "polyglot_notebook": {
     "kernelName": "fsharp"
    }
   },
   "outputs": [],
   "source": [
    "#if !INTERACTIVE\n",
    "open Lib\n",
    "#endif"
   ]
  },
  {
   "cell_type": "code",
   "execution_count": null,
   "metadata": {
    "dotnet_interactive": {
     "language": "fsharp"
    },
    "polyglot_notebook": {
     "kernelName": "fsharp"
    }
   },
   "outputs": [],
   "source": [
    "open Common\n",
    "open File_system.Operators\n",
    "open Microsoft.AspNetCore.SignalR.Client"
   ]
  },
  {
   "cell_type": "markdown",
   "metadata": {},
   "source": [
    "## sendJson"
   ]
  },
  {
   "cell_type": "code",
   "execution_count": null,
   "metadata": {
    "dotnet_interactive": {
     "language": "fsharp"
    },
    "polyglot_notebook": {
     "kernelName": "fsharp"
    }
   },
   "outputs": [],
   "source": [
    "let inline sendJson (port : int) (json : string) = async {\n",
    "    let! portOpen = Networking.testPortOpen port\n",
    "    if portOpen then\n",
    "        try\n",
    "            let connection = HubConnectionBuilder().WithUrl($\"http://127.0.0.1:{port}\").Build()\n",
    "            do! connection.StartAsync () |> Async.AwaitTask\n",
    "            let! result = connection.InvokeAsync<string>(\"ClientToServerMsg\", json) |> Async.AwaitTask\n",
    "            do! connection.StopAsync () |> Async.AwaitTask\n",
    "            trace Debug (fun () -> $\"sendJson / port: {port} / json: {json} / result.Length: {result |> Option.ofObj |> Option.map String.length}\") getLocals\n",
    "            return Some result\n",
    "        with ex ->\n",
    "            trace Critical (fun () -> $\"sendJson / port: {port} / json: {json} / ex: {ex |> Sm.format_exception}\") getLocals\n",
    "            return None\n",
    "    else\n",
    "        trace Debug (fun () -> \"sendJson / error: port not open\") getLocals\n",
    "        return None\n",
    "}"
   ]
  },
  {
   "cell_type": "markdown",
   "metadata": {},
   "source": [
    "## sendObj"
   ]
  },
  {
   "cell_type": "code",
   "execution_count": null,
   "metadata": {
    "dotnet_interactive": {
     "language": "fsharp"
    },
    "polyglot_notebook": {
     "kernelName": "fsharp"
    }
   },
   "outputs": [],
   "source": [
    "let inline sendObj port obj =\n",
    "    obj\n",
    "    |> System.Text.Json.JsonSerializer.Serialize\n",
    "    |> sendJson port"
   ]
  },
  {
   "cell_type": "markdown",
   "metadata": {},
   "source": [
    "## awaitCompiler"
   ]
  },
  {
   "cell_type": "code",
   "execution_count": null,
   "metadata": {
    "dotnet_interactive": {
     "language": "fsharp"
    },
    "polyglot_notebook": {
     "kernelName": "fsharp"
    }
   },
   "outputs": [],
   "source": [
    "type VSCPos = {| line : int; character : int |}\n",
    "type VSCRange = VSCPos * VSCPos\n",
    "type RString = VSCRange * string\n",
    "type TracedError = {| trace : string list; message : string |}\n",
    "type ClientErrorsRes =\n",
    "    | FatalError of string\n",
    "    | TracedError of TracedError\n",
    "    | PackageErrors of {| uri : string; errors : RString list |}\n",
    "    | TokenizerErrors of {| uri : string; errors : RString list |}\n",
    "    | ParserErrors of {| uri : string; errors : RString list |}\n",
    "    | TypeErrors of {| uri : string; errors : RString list |}"
   ]
  },
  {
   "cell_type": "code",
   "execution_count": null,
   "metadata": {
    "dotnet_interactive": {
     "language": "fsharp"
    },
    "polyglot_notebook": {
     "kernelName": "fsharp"
    }
   },
   "outputs": [],
   "source": [
    "let inline awaitCompiler port cancellationToken = async {\n",
    "    let ct, disposable = cancellationToken |> Threading.newDisposableToken\n",
    "    let! ct = ct |> Async.mergeCancellationTokenWithDefaultAsync\n",
    "\n",
    "    let compiler = MailboxProcessor.Start (fun inbox -> async {\n",
    "        let! availablePort = Networking.getAvailablePort (Some 60) port\n",
    "        if availablePort <> port then\n",
    "            inbox.Post (port, false)\n",
    "        else\n",
    "            let repositoryRoot = FileSystem.getSourceDirectory () |> FileSystem.findParent \".paket\" false\n",
    "\n",
    "            let compilerPath =\n",
    "                repositoryRoot </> \"deps/The-Spiral-Language/The Spiral Language 2/artifacts/bin/The Spiral Language 2/release\"\n",
    "                |> System.IO.Path.GetFullPath\n",
    "\n",
    "            let dllPath = compilerPath </> \"Spiral.dll\"\n",
    "\n",
    "            let! exitCode, result =\n",
    "                Runtime.executeWithOptionsAsync\n",
    "                    {\n",
    "                        Command = $@\"dotnet \"\"{dllPath}\"\" --port {availablePort} --default-int i32 --default-float f64\"\n",
    "                        CancellationToken = Some ct\n",
    "                        WorkingDirectory = None\n",
    "                        OnLine = Some <| fun { Line = line } -> async {\n",
    "                            if line |> Sm.contains $\"Server bound to: http://localhost:{availablePort}\" then\n",
    "                                do! Networking.waitForPortAccess (Some 500) true availablePort |> Async.Ignore\n",
    "\n",
    "                                let rec loop retry = async {\n",
    "                                    let getLocals () = $\"port: {availablePort} / retry: {retry} / {getLocals ()}\"\n",
    "                                    try\n",
    "                                        let pingObj = {| Ping = true |}\n",
    "                                        let! pingResult = pingObj |> sendObj availablePort\n",
    "                                        trace Verbose (fun () -> $\"awaitCompiler / Ping / result: {pingResult}\") getLocals\n",
    "                                    with ex ->\n",
    "                                        trace Verbose (fun () -> $\"awaitCompiler / Ping / ex: {ex |> Sm.format_exception}\") getLocals\n",
    "                                        do! Async.Sleep 10\n",
    "                                        do! loop (retry + 1)\n",
    "                                }\n",
    "                                do! loop 0\n",
    "                                inbox.Post (availablePort, true)\n",
    "                        }\n",
    "                    }\n",
    "            trace Debug (fun () -> $\"awaitCompiler / exitCode: {exitCode} / result: {result}\") getLocals\n",
    "            disposable.Dispose ()\n",
    "    }, ct)\n",
    "\n",
    "    let! serverPort, managed = compiler.Receive ()\n",
    "\n",
    "    let connection = HubConnectionBuilder().WithUrl($\"http://127.0.0.1:{serverPort}\").Build ()\n",
    "    do! connection.StartAsync () |> Async.AwaitTask\n",
    "\n",
    "    let event = Event<_> ()\n",
    "    let disposable' = connection.On<string> (\"ServerToClientMsg\", event.Trigger)\n",
    "    let stream =\n",
    "        FSharp.Control.AsyncSeq.unfoldAsync\n",
    "            (fun () -> async {\n",
    "                let! msg = event.Publish |> Async.AwaitEvent\n",
    "                return Some (msg |> FSharp.Json.Json.deserialize<ClientErrorsRes>, ())\n",
    "            })\n",
    "            ()\n",
    "\n",
    "    let disposable' =\n",
    "        new_disposable (fun () ->\n",
    "            async {\n",
    "                disposable'.Dispose ()\n",
    "                do! connection.StopAsync () |> Async.AwaitTask\n",
    "                disposable.Dispose ()\n",
    "                if managed\n",
    "                then do! Networking.waitForPortAccess (Some 2000) false serverPort |> Async.Ignore\n",
    "            }\n",
    "            |> Async.RunSynchronously\n",
    "        )\n",
    "\n",
    "    return\n",
    "        serverPort,\n",
    "        stream,\n",
    "        ct,\n",
    "        disposable'\n",
    "}"
   ]
  },
  {
   "cell_type": "markdown",
   "metadata": {},
   "source": [
    "## getFileUri"
   ]
  },
  {
   "cell_type": "code",
   "execution_count": null,
   "metadata": {
    "dotnet_interactive": {
     "language": "fsharp"
    },
    "polyglot_notebook": {
     "kernelName": "fsharp"
    }
   },
   "outputs": [],
   "source": [
    "let inline getFileUri (path : string) =\n",
    "    let path =\n",
    "        if Runtime.isWindows () |> not\n",
    "        then path\n",
    "        else $\"{path.[0] |> System.Char.ToLower}{path.[1..]}\" |> Sm.replace \"\\\\\" \"/\"\n",
    "    $\"file:///{path |> Sm.trim_start [| '/' |]}\""
   ]
  },
  {
   "cell_type": "code",
   "execution_count": null,
   "metadata": {
    "dotnet_interactive": {
     "language": "fsharp"
    },
    "polyglot_notebook": {
     "kernelName": "fsharp"
    }
   },
   "outputs": [],
   "source": [
    "let inline getFilePathFromUri uri =\n",
    "    match System.Uri.TryCreate (uri, System.UriKind.Absolute) with\n",
    "    | true, uri -> uri.AbsolutePath |> System.IO.Path.GetFullPath\n",
    "    | _ -> failwith \"invalid uri\""
   ]
  },
  {
   "cell_type": "code",
   "execution_count": null,
   "metadata": {
    "dotnet_interactive": {
     "language": "fsharp"
    },
    "polyglot_notebook": {
     "kernelName": "fsharp"
    }
   },
   "outputs": [],
   "source": [
    "let inline getCompilerPort () =\n",
    "    13805"
   ]
  },
  {
   "cell_type": "markdown",
   "metadata": {},
   "source": [
    "## serialize_obj"
   ]
  },
  {
   "cell_type": "code",
   "execution_count": null,
   "metadata": {
    "dotnet_interactive": {
     "language": "fsharp"
    },
    "polyglot_notebook": {
     "kernelName": "fsharp"
    }
   },
   "outputs": [],
   "source": [
    "    let serializeObj obj =\n",
    "        obj\n",
    "        |> FSharp.Json.Json.serialize\n",
    "        |> Sm.replace \"\\\\\\\\\" \"\\\\\"\n",
    "        |> Sm.replace \"\\\\r\\\\n\" \"\\n\"\n",
    "        |> Sm.replace \"\\\\n\" \"\\n\""
   ]
  },
  {
   "cell_type": "markdown",
   "metadata": {},
   "source": [
    "## buildFile"
   ]
  },
  {
   "cell_type": "code",
   "execution_count": null,
   "metadata": {
    "dotnet_interactive": {
     "language": "fsharp"
    },
    "polyglot_notebook": {
     "kernelName": "fsharp"
    }
   },
   "outputs": [],
   "source": [
    "let inline buildFile timeout port cancellationToken path = async {\n",
    "    let fullPath = path |> System.IO.Path.GetFullPath\n",
    "    let fileDir = fullPath |> System.IO.Path.GetDirectoryName\n",
    "    let fileName = fullPath |> System.IO.Path.GetFileNameWithoutExtension\n",
    "    let! code = fullPath |> FileSystem.readAllTextAsync\n",
    "\n",
    "    let eventFilter = function\n",
    "        | FileSystem.FileSystemChange.Changed (path, _) when path = $\"{fileName}.fsx\" -> true\n",
    "        | _ -> false\n",
    "\n",
    "    let stream, disposable = fileDir |> FileSystem.watchDirectory eventFilter\n",
    "    use _ = disposable\n",
    "\n",
    "    let token, disposable = Threading.newDisposableToken cancellationToken\n",
    "    use _ = disposable\n",
    "\n",
    "    let! serverPort, errors, ct, disposable = awaitCompiler port (Some token)\n",
    "    use _ = disposable\n",
    "\n",
    "    let fsxContentSeq =\n",
    "        stream\n",
    "        |> FSharp.Control.AsyncSeq.choose (function\n",
    "            | _, (FileSystem.FileSystemChange.Changed (path, Some content) as event)\n",
    "                when event |> eventFilter\n",
    "                ->\n",
    "                Some content\n",
    "            | _ -> None\n",
    "        )\n",
    "        |> FSharp.Control.AsyncSeq.map (fun content ->\n",
    "            Some (content |> Sm.replace \"\\r\\n\" \"\\n\"), None\n",
    "        )\n",
    "\n",
    "    let inline printErrorData (data : {| uri : string; errors : RString list |}) =\n",
    "        let fileName = data.uri |> System.IO.Path.GetFileName\n",
    "        let errors =\n",
    "            data.errors\n",
    "            |> List.map snd\n",
    "            |> Sm.concat \"\\n\"\n",
    "        $\"{fileName}:\\n{errors}\"\n",
    "\n",
    "    let errorsSeq =\n",
    "        errors\n",
    "        |> FSharp.Control.AsyncSeq.choose (fun error ->\n",
    "            match error with\n",
    "            | FatalError message ->\n",
    "                Some (message, error)\n",
    "            | TracedError data ->\n",
    "                Some (data.message, error)\n",
    "            | PackageErrors data when data.errors |> List.isEmpty |> not ->\n",
    "                Some (data |> printErrorData, error)\n",
    "            | TokenizerErrors data when data.errors |> List.isEmpty |> not ->\n",
    "                Some (data |> printErrorData, error)\n",
    "            | ParserErrors data when data.errors |> List.isEmpty |> not ->\n",
    "                Some (data |> printErrorData, error)\n",
    "            | TypeErrors data when data.errors |> List.isEmpty |> not ->\n",
    "                Some (data |> printErrorData, error)\n",
    "            | _ -> None\n",
    "        )\n",
    "        |> FSharp.Control.AsyncSeq.map (fun (message, error) ->\n",
    "            None, Some (message, error)\n",
    "        )\n",
    "\n",
    "    let timerSeq =\n",
    "        1000\n",
    "        |> FSharp.Control.AsyncSeq.intervalMs\n",
    "        |> FSharp.Control.AsyncSeq.map (fun _ -> None, None)\n",
    "\n",
    "    let outputSeq =\n",
    "        [ fsxContentSeq; errorsSeq; timerSeq ]\n",
    "        |> FSharp.Control.AsyncSeq.mergeAll\n",
    "\n",
    "    let! outputChild =\n",
    "        ((None, [], 0), outputSeq)\n",
    "        ||> FSharp.Control.AsyncSeq.scan (\n",
    "            fun (fsxContentResult, errors, typeErrorCount) (fsxContent, error) ->\n",
    "                match fsxContent, error with\n",
    "                | Some fsxContent, None -> Some fsxContent, errors, typeErrorCount\n",
    "                | None, Some (_, FatalError \"File main has a type error somewhere in its path.\") ->\n",
    "                    fsxContentResult, errors, typeErrorCount + 1\n",
    "                | None, Some error -> fsxContentResult, error :: errors, typeErrorCount\n",
    "                | None, None when typeErrorCount >= 1 ->\n",
    "                    fsxContentResult, errors, typeErrorCount + 1\n",
    "                | _ -> fsxContentResult, errors, typeErrorCount\n",
    "        )\n",
    "        |> FSharp.Control.AsyncSeq.takeWhileInclusive (fun (fsxContent, errors, typeErrorCount) ->\n",
    "            trace Debug (fun () -> $\"buildFile / takeWhileInclusive / fsxContent: {fsxContent |> Option.defaultValue System.String.Empty |> Sm.ellipsis 750} / errors: {errors |> serializeObj} / typeErrorCount: {typeErrorCount}\") getLocals\n",
    "#if INTERACTIVE\n",
    "            let errorWait = 2\n",
    "#else\n",
    "            let errorWait = 10\n",
    "#endif\n",
    "            match fsxContent, errors with\n",
    "            | None, [] when typeErrorCount > errorWait -> false\n",
    "            | None, [] -> true\n",
    "            | _ -> false\n",
    "        )\n",
    "        |> FSharp.Control.AsyncSeq.tryLast\n",
    "        |> Async.withCancellationToken ct\n",
    "        |> Async.catch\n",
    "        |> Async.runWithTimeoutAsync timeout\n",
    "        |> Async.StartChild\n",
    "\n",
    "    let fileOpenObj = {| FileOpen = {| uri = fullPath |> getFileUri; spiText = code |} |}\n",
    "    let! _fileOpenResult = fileOpenObj |> sendObj serverPort\n",
    "\n",
    "    do! Async.Sleep 60\n",
    "\n",
    "    let buildFileObj = {| BuildFile = {| uri = fullPath |> getFileUri; backend = \"Fsharp\" |} |}\n",
    "    let! _buildFileResult = buildFileObj |> sendObj serverPort\n",
    "\n",
    "    return!\n",
    "        outputChild\n",
    "        |> Async.map (function\n",
    "            | Some (Ok (Some (message, errors, _))) ->\n",
    "                message, errors |> List.distinct |> List.rev\n",
    "            | Some (Error ex) ->\n",
    "                trace Critical (fun () -> $\"buildFile / error: {ex |> serializeObj}\") getLocals\n",
    "                None, []\n",
    "            | _ -> None, []\n",
    "        )\n",
    "}"
   ]
  },
  {
   "cell_type": "markdown",
   "metadata": {},
   "source": [
    "## persistCode"
   ]
  },
  {
   "cell_type": "code",
   "execution_count": null,
   "metadata": {
    "dotnet_interactive": {
     "language": "fsharp"
    },
    "polyglot_notebook": {
     "kernelName": "fsharp"
    }
   },
   "outputs": [],
   "source": [
    "let inline persistCode code = async {\n",
    "    let tempDir = File_system.create_temp_directory ()\n",
    "\n",
    "    let mainPath = tempDir </> \"main.spi\"\n",
    "    do! code |> FileSystem.writeAllTextAsync mainPath\n",
    "\n",
    "    let repositoryRoot = FileSystem.getSourceDirectory () |> FileSystem.findParent \".paket\" false\n",
    "\n",
    "    let spiprojPath = tempDir </> \"package.spiproj\"\n",
    "    let spiprojCode =\n",
    "        $\"\"\"packageDir: {repositoryRoot </> \"lib\"}\n",
    "packages:\n",
    "    |core-\n",
    "    spiral-\n",
    "modules:\n",
    "    main\n",
    "\"\"\"\n",
    "    do! spiprojCode |> FileSystem.writeAllTextAsync spiprojPath\n",
    "\n",
    "    let disposable = new_disposable (fun () ->\n",
    "        ()\n",
    "        // tempDir |> FileSystem.deleteDirectoryAsync |> Async.Ignore |> Async.RunSynchronously\n",
    "    )\n",
    "\n",
    "    return mainPath, disposable\n",
    "}"
   ]
  },
  {
   "cell_type": "markdown",
   "metadata": {},
   "source": [
    "## buildCode"
   ]
  },
  {
   "cell_type": "code",
   "execution_count": null,
   "metadata": {
    "dotnet_interactive": {
     "language": "fsharp"
    },
    "polyglot_notebook": {
     "kernelName": "fsharp"
    }
   },
   "outputs": [],
   "source": [
    "let inline buildCode timeout cancellationToken code = async {\n",
    "    let! mainPath, disposable = persistCode code\n",
    "    use _ = disposable\n",
    "    let port = getCompilerPort ()\n",
    "    return! mainPath |> buildFile timeout port cancellationToken\n",
    "}"
   ]
  },
  {
   "cell_type": "code",
   "execution_count": null,
   "metadata": {
    "dotnet_interactive": {
     "language": "fsharp"
    },
    "polyglot_notebook": {
     "kernelName": "fsharp"
    }
   },
   "outputs": [],
   "source": [
    "//// test\n",
    "\n",
    "let buildCode timeout cancellationToken code = buildCode timeout cancellationToken code"
   ]
  },
  {
   "cell_type": "code",
   "execution_count": null,
   "metadata": {
    "dotnet_interactive": {
     "language": "fsharp"
    },
    "polyglot_notebook": {
     "kernelName": "fsharp"
    }
   },
   "outputs": [
    {
     "name": "stdout",
     "output_type": "stream",
     "text": [
      "00:00:00 #1 [Debug] runWithTimeoutChildAsync / timeout: 60\r\n",
      "00:00:00 #2 [Debug] buildFile / takeWhileInclusive / fsxContent:  / errors: [] / typeErrorCount: 0\r\n",
      "00:00:00 #3 [Debug] buildFile / takeWhileInclusive / fsxContent:  / errors: [] / typeErrorCount: 0\r\n",
      "00:00:00 #4 [Debug] sendJson / port: 13805 / json: {\"FileOpen\":{\"spiText\":\"inl app () =\\n    console.write_line \\u0022text\\u0022\\n    1i32\\n\\ninl main () =\\n    app\\n    |\\u003E dyn\\n    |\\u003E ignore\\n\",\"uri\":\"file:///c:/Users/i574n/AppData/Local/Temp/!dotnet-repl/20240402-0221-4092-9206-97ce48fef478/main.spi\"}} / result.Length:\r\n",
      "00:00:00 #5 [Debug] sendJson / port: 13805 / json: {\"BuildFile\":{\"backend\":\"Fsharp\",\"uri\":\"file:///c:/Users/i574n/AppData/Local/Temp/!dotnet-repl/20240402-0221-4092-9206-97ce48fef478/main.spi\"}} / result.Length:\r\n",
      "00:00:00 #6 [Debug] buildFile / takeWhileInclusive / fsxContent: let rec closure0 () () : int32 =\n",
      "    let v0 : string = \"text\"\n",
      "    System.Console.WriteLine v0\n",
      "    1\n",
      "let v0 : (unit -> int32) = closure0()\n",
      "()\n",
      " / errors: [] / typeErrorCount: 0\r\n",
      "00:00:00 #7 [Debug] watchWithFilter / Disposing watch stream / filter: FileName, LastWrite\r\n",
      "FSharpOption<Tuple<FSharpOption<String>,FSharpList<String>>>\r\n",
      "      Value:       - FSharpOption<String>\r\n",
      "          Value: let rec closure0 () () : int32 =\n",
      "    let v0 : string = \"text\"\n",
      "    System.Console.WriteLine v0\n",
      "    1\n",
      "let v0 : (unit -> int32) = closure0()\n",
      "()\n",
      "\r\n",
      "      - [  ]\r\n"
     ]
    }
   ],
   "source": [
    "//// test\n",
    "\n",
    "\"\"\"inl app () =\n",
    "    console.write_line \"text\"\n",
    "    1i32\n",
    "\n",
    "inl main () =\n",
    "    app\n",
    "    |> dyn\n",
    "    |> ignore\n",
    "\"\"\"\n",
    "|> buildCode 15000 None\n",
    "|> Async.runWithTimeout 15000\n",
    "|> Option.map (fun (fsxContent, errors) -> fsxContent, errors |> List.map fst)\n",
    "|> _assertEqual (\n",
    "    Some (\n",
    "        Some \"\"\"let rec closure0 () () : int32 =\n",
    "    let v0 : string = \"text\"\n",
    "    System.Console.WriteLine v0\n",
    "    1\n",
    "let v0 : (unit -> int32) = closure0()\n",
    "()\n",
    "\"\"\",\n",
    "        []\n",
    "    )\n",
    ")"
   ]
  },
  {
   "cell_type": "code",
   "execution_count": null,
   "metadata": {
    "dotnet_interactive": {
     "language": "fsharp"
    },
    "polyglot_notebook": {
     "kernelName": "fsharp"
    }
   },
   "outputs": [
    {
     "name": "stdout",
     "output_type": "stream",
     "text": [
      "00:00:00 #8 [Debug] runWithTimeoutChildAsync / timeout: 60\r\n",
      "00:00:00 #9 [Debug] buildFile / takeWhileInclusive / fsxContent:  / errors: [] / typeErrorCount: 0\r\n",
      "00:00:00 #10 [Debug] buildFile / takeWhileInclusive / fsxContent:  / errors: [] / typeErrorCount: 0\r\n",
      "00:00:00 #11 [Debug] sendJson / port: 13805 / json: {\"FileOpen\":{\"spiText\":\"\",\"uri\":\"file:///c:/Users/i574n/AppData/Local/Temp/!dotnet-repl/20240402-0221-4186-8601-843cea1a80bc/main.spi\"}} / result.Length:\r\n",
      "00:00:00 #12 [Debug] sendJson / port: 13805 / json: {\"BuildFile\":{\"backend\":\"Fsharp\",\"uri\":\"file:///c:/Users/i574n/AppData/Local/Temp/!dotnet-repl/20240402-0221-4186-8601-843cea1a80bc/main.spi\"}} / result.Length:\r\n",
      "00:00:01 #13 [Debug] buildFile / takeWhileInclusive / fsxContent:  / errors: [] / typeErrorCount: 0\r\n",
      "00:00:02 #14 [Debug] buildFile / takeWhileInclusive / fsxContent:  / errors: [] / typeErrorCount: 0\r\n",
      "00:00:03 #15 [Debug] buildFile / takeWhileInclusive / fsxContent:  / errors: [] / typeErrorCount: 0\r\n",
      "00:00:04 #16 [Debug] buildFile / takeWhileInclusive / fsxContent:  / errors: [] / typeErrorCount: 0\r\n",
      "00:00:05 #17 [Debug] buildFile / takeWhileInclusive / fsxContent:  / errors: [] / typeErrorCount: 0\r\n",
      "00:00:06 #18 [Debug] buildFile / takeWhileInclusive / fsxContent:  / errors: [] / typeErrorCount: 0\r\n",
      "00:00:07 #19 [Debug] buildFile / takeWhileInclusive / fsxContent:  / errors: [] / typeErrorCount: 0\r\n",
      "00:00:08 #20 [Debug] buildFile / takeWhileInclusive / fsxContent:  / errors: [] / typeErrorCount: 0\r\n",
      "00:00:09 #21 [Debug] buildFile / takeWhileInclusive / fsxContent:  / errors: [] / typeErrorCount: 0\r\n",
      "00:00:10 #22 [Debug] watchWithFilter / Disposing watch stream / filter: FileName, LastWrite\r\n",
      "00:00:10 #23 [Debug] runWithTimeoutChildAsync / timeout: 10000\r\n",
      "<null>\r\n"
     ]
    }
   ],
   "source": [
    "//// test\n",
    "\n",
    "\"\"\n",
    "|> buildCode 10000 None\n",
    "|> Async.runWithTimeout 10000\n",
    "|> _assertEqual None"
   ]
  },
  {
   "cell_type": "code",
   "execution_count": null,
   "metadata": {
    "dotnet_interactive": {
     "language": "fsharp"
    },
    "polyglot_notebook": {
     "kernelName": "fsharp"
    }
   },
   "outputs": [
    {
     "name": "stdout",
     "output_type": "stream",
     "text": [
      "00:00:11 #24 [Debug] runWithTimeoutChildAsync / timeout: 60\r\n",
      "00:00:11 #25 [Debug] buildFile / takeWhileInclusive / fsxContent:  / errors: [] / typeErrorCount: 0\r\n",
      "00:00:11 #26 [Debug] buildFile / takeWhileInclusive / fsxContent:  / errors: [] / typeErrorCount: 0\r\n",
      "00:00:11 #27 [Debug] sendJson / port: 13805 / json: {\"FileOpen\":{\"spiText\":\"inl app () =\\n    0i32\\n\\ninl a = 1\\n\\ninl main () =\\n    app\\n    |\\u003E dyn\\n    |\\u003E ignore\\n\",\"uri\":\"file:///c:/Users/i574n/AppData/Local/Temp/!dotnet-repl/20240402-0221-5206-0671-0766f9de27b6/main.spi\"}} / result.Length:\r\n",
      "00:00:11 #28 [Debug] buildFile / takeWhileInclusive / fsxContent:  / errors: [\r\n",
      "  [\r\n",
      "    \"main.spi:\n",
      "Global inl/let statements should all return functions known at parse time.\",\r\n",
      "    {\r\n",
      "      \"ParserErrors\": {\r\n",
      "        \"errors\": [\r\n",
      "          [\r\n",
      "            [\r\n",
      "              {\r\n",
      "                \"character\": 0,\r\n",
      "                \"line\": 3\r\n",
      "              },\r\n",
      "              {\r\n",
      "                \"character\": 9,\r\n",
      "                \"line\": 3\r\n",
      "              }\r\n",
      "            ],\r\n",
      "            \"Global inl/let statements should all return functions known at parse time.\"\r\n",
      "          ]\r\n",
      "        ],\r\n",
      "        \"uri\": \"file:///c:\\Users\\i574n\\AppData\\Local\\Temp\\!dotnet-repl\\20240402-0221-5206-0671-0766f9de27b6\\main.spi\"\r\n",
      "      }\r\n",
      "    }\r\n",
      "  ]\r\n",
      "] / typeErrorCount: 0\r\n",
      "00:00:11 #29 [Debug] sendJson / port: 13805 / json: {\"BuildFile\":{\"backend\":\"Fsharp\",\"uri\":\"file:///c:/Users/i574n/AppData/Local/Temp/!dotnet-repl/20240402-0221-5206-0671-0766f9de27b6/main.spi\"}} / result.Length:\r\n",
      "00:00:11 #30 [Debug] watchWithFilter / Disposing watch stream / filter: FileName, LastWrite\r\n",
      "FSharpOption<Tuple<FSharpOption<String>,FSharpList<String>>>\r\n",
      "      Value:       - <null>\r\n",
      "      - [ main.spi:\n",
      "Global inl/let statements should all return functions known at parse time. ]\r\n"
     ]
    }
   ],
   "source": [
    "//// test\n",
    "\n",
    "\"inl app () =\n",
    "    0i32\n",
    "\n",
    "inl a = 1\n",
    "\n",
    "inl main () =\n",
    "    app\n",
    "    |> dyn\n",
    "    |> ignore\n",
    "\"\n",
    "|> buildCode 10000 None\n",
    "|> Async.runWithTimeout 10000\n",
    "|> Option.map (fun (fsxContent, errors) -> fsxContent, errors |> List.map fst)\n",
    "|> _assertEqual (\n",
    "    Some (\n",
    "        None,\n",
    "        [ \"main.spi:\n",
    "Global inl/let statements should all return functions known at parse time.\" ]\n",
    "    )\n",
    ")"
   ]
  },
  {
   "cell_type": "code",
   "execution_count": null,
   "metadata": {
    "dotnet_interactive": {
     "language": "fsharp"
    },
    "polyglot_notebook": {
     "kernelName": "fsharp"
    }
   },
   "outputs": [
    {
     "name": "stdout",
     "output_type": "stream",
     "text": [
      "00:00:11 #31 [Debug] runWithTimeoutChildAsync / timeout: 60\r\n",
      "00:00:11 #32 [Debug] buildFile / takeWhileInclusive / fsxContent:  / errors: [] / typeErrorCount: 0\r\n",
      "00:00:11 #33 [Debug] buildFile / takeWhileInclusive / fsxContent:  / errors: [] / typeErrorCount: 0\r\n",
      "00:00:11 #34 [Debug] sendJson / port: 13805 / json: {\"FileOpen\":{\"spiText\":\"inl main () =\\n    1i32 / 0i32\\n\",\"uri\":\"file:///c:/Users/i574n/AppData/Local/Temp/!dotnet-repl/20240402-0221-5248-4870-4ce476b41809/main.spi\"}} / result.Length:\r\n",
      "00:00:11 #35 [Debug] sendJson / port: 13805 / json: {\"BuildFile\":{\"backend\":\"Fsharp\",\"uri\":\"file:///c:/Users/i574n/AppData/Local/Temp/!dotnet-repl/20240402-0221-5248-4870-4ce476b41809/main.spi\"}} / result.Length:\r\n",
      "00:00:11 #36 [Debug] buildFile / takeWhileInclusive / fsxContent:  / errors: [\r\n",
      "  [\r\n",
      "    \"An attempt to divide by zero has been detected at compile time.\",\r\n",
      "    {\r\n",
      "      \"TracedError\": {\r\n",
      "        \"message\": \"An attempt to divide by zero has been detected at compile time.\",\r\n",
      "        \"trace\": [\r\n",
      "          \"Error trace on line: 1, column: 10 in module: c:\\Users\\i574n\\AppData\\Local\\Temp\\!dotnet-repl\\20240402-0221-5248-4870-4ce476b41809\\main.spi.\n",
      "inl main () =\n",
      "         ^\n",
      "\",\r\n",
      "          \"Error trace on line: 2, column: 5 in module: c:\\Users\\i574n\\AppData\\Local\\Temp\\!dotnet-repl\\20240402-0221-5248-4870-4ce476b41809\\main.spi.\n",
      "    1i32 / 0i32\n",
      "    ^\n",
      "\"\r\n",
      "        ]\r\n",
      "      }\r\n",
      "    }\r\n",
      "  ]\r\n",
      "] / typeErrorCount: 0\r\n",
      "00:00:11 #37 [Debug] watchWithFilter / Disposing watch stream / filter: FileName, LastWrite\r\n",
      "FSharpOption<Tuple<FSharpOption<String>,FSharpList<String>>>\r\n",
      "      Value:       - <null>\r\n",
      "      - [ An attempt to divide by zero has been detected at compile time. ]\r\n"
     ]
    }
   ],
   "source": [
    "//// test\n",
    "\n",
    "\"\"\"inl main () =\n",
    "    1i32 / 0i32\n",
    "\"\"\"\n",
    "|> buildCode 10000 None\n",
    "|> Async.runWithTimeout 10000\n",
    "|> Option.map (fun (fsxContent, errors) -> fsxContent, errors |> List.map fst)\n",
    "|> _assertEqual (\n",
    "    Some (\n",
    "        None,\n",
    "        [ \"An attempt to divide by zero has been detected at compile time.\" ]\n",
    "    )\n",
    ")"
   ]
  },
  {
   "cell_type": "code",
   "execution_count": null,
   "metadata": {
    "dotnet_interactive": {
     "language": "fsharp"
    },
    "polyglot_notebook": {
     "kernelName": "fsharp"
    }
   },
   "outputs": [
    {
     "name": "stdout",
     "output_type": "stream",
     "text": [
      "00:00:11 #38 [Debug] runWithTimeoutChildAsync / timeout: 60\r\n",
      "00:00:12 #39 [Debug] buildFile / takeWhileInclusive / fsxContent:  / errors: [] / typeErrorCount: 0\r\n",
      "00:00:12 #40 [Debug] buildFile / takeWhileInclusive / fsxContent:  / errors: [] / typeErrorCount: 0\r\n",
      "00:00:12 #41 [Debug] sendJson / port: 13805 / json: {\"FileOpen\":{\"spiText\":\"inl main () =\\n    1 \\u002B \\u0022\\u0022\\n\",\"uri\":\"file:///c:/Users/i574n/AppData/Local/Temp/!dotnet-repl/20240402-0221-5297-9708-94a32468dd4a/main.spi\"}} / result.Length:\r\n",
      "00:00:12 #42 [Debug] buildFile / takeWhileInclusive / fsxContent:  / errors: [\r\n",
      "  [\r\n",
      "    \"main.spi:\n",
      "Constraint satisfaction error.\n",
      "Got: string\n",
      "Fails to satisfy: number\",\r\n",
      "    {\r\n",
      "      \"TypeErrors\": {\r\n",
      "        \"errors\": [\r\n",
      "          [\r\n",
      "            [\r\n",
      "              {\r\n",
      "                \"character\": 8,\r\n",
      "                \"line\": 1\r\n",
      "              },\r\n",
      "              {\r\n",
      "                \"character\": 10,\r\n",
      "                \"line\": 1\r\n",
      "              }\r\n",
      "            ],\r\n",
      "            \"Constraint satisfaction error.\n",
      "Got: string\n",
      "Fails to satisfy: number\"\r\n",
      "          ]\r\n",
      "        ],\r\n",
      "        \"uri\": \"file:///c:\\Users\\i574n\\AppData\\Local\\Temp\\!dotnet-repl\\20240402-0221-5297-9708-94a32468dd4a\\main.spi\"\r\n",
      "      }\r\n",
      "    }\r\n",
      "  ]\r\n",
      "] / typeErrorCount: 0\r\n",
      "00:00:12 #43 [Debug] sendJson / port: 13805 / json: {\"BuildFile\":{\"backend\":\"Fsharp\",\"uri\":\"file:///c:/Users/i574n/AppData/Local/Temp/!dotnet-repl/20240402-0221-5297-9708-94a32468dd4a/main.spi\"}} / result.Length:\r\n",
      "00:00:12 #44 [Debug] watchWithFilter / Disposing watch stream / filter: FileName, LastWrite\r\n",
      "FSharpOption<Tuple<FSharpOption<String>,FSharpList<String>>>\r\n",
      "      Value:       - <null>\r\n",
      "      - [ main.spi:\n",
      "Constraint satisfaction error.\n",
      "Got: string\n",
      "Fails to satisfy: number ]\r\n"
     ]
    }
   ],
   "source": [
    "//// test\n",
    "\n",
    "\"\"\"inl main () =\n",
    "    1 + \"\"\n",
    "\"\"\"\n",
    "|> buildCode 10000 None\n",
    "|> Async.runWithTimeout 10000\n",
    "|> Option.map (fun (fsxContent, errors) -> fsxContent, errors |> List.map fst)\n",
    "|> _assertEqual (\n",
    "    Some (\n",
    "        None,\n",
    "        [\n",
    "            \"main.spi:\n",
    "Constraint satisfaction error.\n",
    "Got: string\n",
    "Fails to satisfy: number\"\n",
    "        ]\n",
    "    )\n",
    ")"
   ]
  },
  {
   "cell_type": "code",
   "execution_count": null,
   "metadata": {
    "dotnet_interactive": {
     "language": "fsharp"
    },
    "polyglot_notebook": {
     "kernelName": "fsharp"
    }
   },
   "outputs": [
    {
     "name": "stdout",
     "output_type": "stream",
     "text": [
      "00:00:12 #45 [Debug] runWithTimeoutChildAsync / timeout: 60\r\n",
      "00:00:12 #46 [Debug] buildFile / takeWhileInclusive / fsxContent:  / errors: [] / typeErrorCount: 0\r\n",
      "00:00:12 #47 [Debug] buildFile / takeWhileInclusive / fsxContent:  / errors: [] / typeErrorCount: 0\r\n",
      "00:00:12 #48 [Debug] sendJson / port: 13805 / json: {\"FileOpen\":{\"spiText\":\"inl main () =\\n    x \\u002B y\\n\",\"uri\":\"file:///c:/Users/i574n/AppData/Local/Temp/!dotnet-repl/20240402-0221-5335-3541-3da07656330e/main.spi\"}} / result.Length:\r\n",
      "00:00:12 #49 [Debug] buildFile / takeWhileInclusive / fsxContent:  / errors: [\r\n",
      "  [\r\n",
      "    \"main.spi:\n",
      "Unbound variable: x.\n",
      "Unbound variable: y.\",\r\n",
      "    {\r\n",
      "      \"TypeErrors\": {\r\n",
      "        \"errors\": [\r\n",
      "          [\r\n",
      "            [\r\n",
      "              {\r\n",
      "                \"character\": 4,\r\n",
      "                \"line\": 1\r\n",
      "              },\r\n",
      "              {\r\n",
      "                \"character\": 5,\r\n",
      "                \"line\": 1\r\n",
      "              }\r\n",
      "            ],\r\n",
      "            \"Unbound variable: x.\"\r\n",
      "          ],\r\n",
      "          [\r\n",
      "            [\r\n",
      "              {\r\n",
      "                \"character\": 8,\r\n",
      "                \"line\": 1\r\n",
      "              },\r\n",
      "              {\r\n",
      "                \"character\": 9,\r\n",
      "                \"line\": 1\r\n",
      "              }\r\n",
      "            ],\r\n",
      "            \"Unbound variable: y.\"\r\n",
      "          ]\r\n",
      "        ],\r\n",
      "        \"uri\": \"file:///c:\\Users\\i574n\\AppData\\Local\\Temp\\!dotnet-repl\\20240402-0221-5335-3541-3da07656330e\\main.spi\"\r\n",
      "      }\r\n",
      "    }\r\n",
      "  ]\r\n",
      "] / typeErrorCount: 0\r\n",
      "00:00:12 #50 [Debug] sendJson / port: 13805 / json: {\"BuildFile\":{\"backend\":\"Fsharp\",\"uri\":\"file:///c:/Users/i574n/AppData/Local/Temp/!dotnet-repl/20240402-0221-5335-3541-3da07656330e/main.spi\"}} / result.Length:\r\n",
      "00:00:12 #51 [Debug] watchWithFilter / Disposing watch stream / filter: FileName, LastWrite\r\n",
      "FSharpOption<Tuple<FSharpOption<String>,FSharpList<String>>>\r\n",
      "      Value:       - <null>\r\n",
      "      - [ main.spi:\n",
      "Unbound variable: x.\n",
      "Unbound variable: y. ]\r\n"
     ]
    }
   ],
   "source": [
    "//// test\n",
    "\n",
    "\"\"\"inl main () =\n",
    "    x + y\n",
    "\"\"\"\n",
    "|> buildCode 10000 None\n",
    "|> Async.runWithTimeout 10000\n",
    "|> Option.map (fun (fsxContent, errors) -> fsxContent, errors |> List.map fst)\n",
    "|> _assertEqual (\n",
    "    Some (\n",
    "        None,\n",
    "        [\n",
    "            \"main.spi:\n",
    "Unbound variable: x.\n",
    "Unbound variable: y.\"\n",
    "        ]\n",
    "    )\n",
    ")"
   ]
  },
  {
   "cell_type": "code",
   "execution_count": null,
   "metadata": {
    "dotnet_interactive": {
     "language": "fsharp"
    },
    "polyglot_notebook": {
     "kernelName": "fsharp"
    }
   },
   "outputs": [
    {
     "name": "stdout",
     "output_type": "stream",
     "text": [
      "00:00:12 #52 [Debug] runWithTimeoutChildAsync / timeout: 60\r\n",
      "00:00:12 #53 [Debug] buildFile / takeWhileInclusive / fsxContent:  / errors: [] / typeErrorCount: 0\r\n",
      "00:00:12 #54 [Debug] buildFile / takeWhileInclusive / fsxContent:  / errors: [] / typeErrorCount: 0\r\n",
      "00:00:12 #55 [Debug] sendJson / port: 13805 / json: {\"FileOpen\":{\"spiText\":\"union a =\\n    | B\\n    | c\\n\\ninl main () =\\n    ()\\n\",\"uri\":\"file:///c:/Users/i574n/AppData/Local/Temp/!dotnet-repl/20240402-0221-5372-7284-7708a2a85d56/main.spi\"}} / result.Length:\r\n",
      "00:00:12 #56 [Debug] buildFile / takeWhileInclusive / fsxContent:  / errors: [\r\n",
      "  [\r\n",
      "    \"main.spi:\n",
      "Expected: uppercase variable\",\r\n",
      "    {\r\n",
      "      \"ParserErrors\": {\r\n",
      "        \"errors\": [\r\n",
      "          [\r\n",
      "            [\r\n",
      "              {\r\n",
      "                \"character\": 6,\r\n",
      "                \"line\": 2\r\n",
      "              },\r\n",
      "              {\r\n",
      "                \"character\": 7,\r\n",
      "                \"line\": 2\r\n",
      "              }\r\n",
      "            ],\r\n",
      "            \"Expected: uppercase variable\"\r\n",
      "          ]\r\n",
      "        ],\r\n",
      "        \"uri\": \"file:///c:\\Users\\i574n\\AppData\\Local\\Temp\\!dotnet-repl\\20240402-0221-5372-7284-7708a2a85d56\\main.spi\"\r\n",
      "      }\r\n",
      "    }\r\n",
      "  ]\r\n",
      "] / typeErrorCount: 0\r\n",
      "00:00:12 #57 [Debug] sendJson / port: 13805 / json: {\"BuildFile\":{\"backend\":\"Fsharp\",\"uri\":\"file:///c:/Users/i574n/AppData/Local/Temp/!dotnet-repl/20240402-0221-5372-7284-7708a2a85d56/main.spi\"}} / result.Length:\r\n",
      "00:00:12 #58 [Debug] watchWithFilter / Disposing watch stream / filter: FileName, LastWrite\r\n",
      "FSharpOption<Tuple<FSharpOption<String>,FSharpList<String>>>\r\n",
      "      Value:       - <null>\r\n",
      "      - [ main.spi:\n",
      "Expected: uppercase variable ]\r\n"
     ]
    }
   ],
   "source": [
    "//// test\n",
    "\n",
    "\"\"\"union a =\n",
    "    | B\n",
    "    | c\n",
    "\n",
    "inl main () =\n",
    "    ()\n",
    "\"\"\"\n",
    "|> buildCode 10000 None\n",
    "|> Async.runWithTimeout 10000\n",
    "|> Option.map (fun (fsxContent, errors) -> fsxContent, errors |> List.map fst)\n",
    "|> _assertEqual (\n",
    "    Some (\n",
    "        None,\n",
    "        [ \"main.spi:\n",
    "Expected: uppercase variable\" ]\n",
    "    )\n",
    ")"
   ]
  },
  {
   "cell_type": "code",
   "execution_count": null,
   "metadata": {
    "dotnet_interactive": {
     "language": "fsharp"
    },
    "polyglot_notebook": {
     "kernelName": "fsharp"
    }
   },
   "outputs": [
    {
     "name": "stdout",
     "output_type": "stream",
     "text": [
      "00:00:13 #59 [Debug] runWithTimeoutChildAsync / timeout: 60\r\n",
      "00:00:13 #60 [Debug] buildFile / takeWhileInclusive / fsxContent:  / errors: [] / typeErrorCount: 0\r\n",
      "00:00:13 #61 [Debug] buildFile / takeWhileInclusive / fsxContent:  / errors: [] / typeErrorCount: 0\r\n",
      "00:00:13 #62 [Debug] sendJson / port: 13805 / json: {\"FileOpen\":{\"spiText\":\"\\n/// abc\\ninl main () =\\n    ()\\n\",\"uri\":\"file:///c:/Users/i574n/AppData/Local/Temp/!dotnet-repl/20240402-0221-5407-0737-0ff4b4412f6b/main.spi\"}} / result.Length:\r\n",
      "00:00:13 #63 [Debug] buildFile / takeWhileInclusive / fsxContent:  / errors: [\r\n",
      "  [\r\n",
      "    \"main.spi:\n",
      "Expected: whitespace\",\r\n",
      "    {\r\n",
      "      \"TokenizerErrors\": {\r\n",
      "        \"errors\": [\r\n",
      "          [\r\n",
      "            [\r\n",
      "              {\r\n",
      "                \"character\": 2,\r\n",
      "                \"line\": 1\r\n",
      "              },\r\n",
      "              {\r\n",
      "                \"character\": 3,\r\n",
      "                \"line\": 1\r\n",
      "              }\r\n",
      "            ],\r\n",
      "            \"Expected: whitespace\"\r\n",
      "          ]\r\n",
      "        ],\r\n",
      "        \"uri\": \"file:///c:\\Users\\i574n\\AppData\\Local\\Temp\\!dotnet-repl\\20240402-0221-5407-0737-0ff4b4412f6b\\main.spi\"\r\n",
      "      }\r\n",
      "    }\r\n",
      "  ]\r\n",
      "] / typeErrorCount: 0\r\n",
      "00:00:13 #64 [Debug] sendJson / port: 13805 / json: {\"BuildFile\":{\"backend\":\"Fsharp\",\"uri\":\"file:///c:/Users/i574n/AppData/Local/Temp/!dotnet-repl/20240402-0221-5407-0737-0ff4b4412f6b/main.spi\"}} / result.Length:\r\n",
      "00:00:13 #65 [Debug] watchWithFilter / Disposing watch stream / filter: FileName, LastWrite\r\n",
      "FSharpOption<Tuple<FSharpOption<String>,FSharpList<String>>>\r\n",
      "      Value:       - <null>\r\n",
      "      - [ main.spi:\n",
      "Expected: whitespace ]\r\n"
     ]
    }
   ],
   "source": [
    "//// test\n",
    "\n",
    "\"\"\"\n",
    "/// abc\n",
    "inl main () =\n",
    "    ()\n",
    "\"\"\"\n",
    "|> buildCode 10000 None\n",
    "|> Async.runWithTimeout 10000\n",
    "|> Option.map (fun (fsxContent, errors) -> fsxContent, errors |> List.map fst)\n",
    "|> _assertEqual (\n",
    "    Some (\n",
    "        None,\n",
    "        [ \"main.spi:\n",
    "Expected: whitespace\" ]\n",
    "    )\n",
    ")"
   ]
  },
  {
   "cell_type": "code",
   "execution_count": null,
   "metadata": {
    "dotnet_interactive": {
     "language": "fsharp"
    },
    "polyglot_notebook": {
     "kernelName": "fsharp"
    }
   },
   "outputs": [
    {
     "name": "stdout",
     "output_type": "stream",
     "text": [
      "00:00:13 #66 [Debug] runWithTimeoutChildAsync / timeout: 60\r\n",
      "00:00:13 #67 [Debug] buildFile / takeWhileInclusive / fsxContent:  / errors: [] / typeErrorCount: 0\r\n",
      "00:00:13 #68 [Debug] buildFile / takeWhileInclusive / fsxContent:  / errors: [] / typeErrorCount: 0\r\n",
      "00:00:13 #69 [Debug] sendJson / port: 13805 / json: {\"FileOpen\":{\"spiText\":\"\\ninl main () =\\n    real\\n        inl real_unbox forall a. (obj : a) : a =\\n            typecase obj with\\n            | _ =\\u003E obj\\n        real_unbox ()\\n    ()\\n\",\"uri\":\"file:///c:/Users/i574n/AppData/Local/Temp/!dotnet-repl/20240402-0221-5453-5384-567bf9554df9/main.spi\"}} / result.Length:\r\n",
      "00:00:13 #70 [Debug] sendJson / port: 13805 / json: {\"BuildFile\":{\"backend\":\"Fsharp\",\"uri\":\"file:///c:/Users/i574n/AppData/Local/Temp/!dotnet-repl/20240402-0221-5453-5384-567bf9554df9/main.spi\"}} / result.Length:\r\n",
      "00:00:13 #71 [Debug] buildFile / takeWhileInclusive / fsxContent:  / errors: [\r\n",
      "  [\r\n",
      "    \"Cannot apply a forall with a term.\",\r\n",
      "    {\r\n",
      "      \"TracedError\": {\r\n",
      "        \"message\": \"Cannot apply a forall with a term.\",\r\n",
      "        \"trace\": [\r\n",
      "          \"Error trace on line: 2, column: 10 in module: c:\\Users\\i574n\\AppData\\Local\\Temp\\!dotnet-repl\\20240402-0221-5453-5384-567bf9554df9\\main.spi.\n",
      "inl main () =\n",
      "         ^\n",
      "\",\r\n",
      "          \"Error trace on line: 4, column: 9 in module: c:\\Users\\i574n\\AppData\\Local\\Temp\\!dotnet-repl\\20240402-0221-5453-5384-567bf9554df9\\main.spi.\n",
      "        inl real_unbox forall a. (obj : a) : a =\n",
      "        ^\n",
      "\",\r\n",
      "          \"Error trace on line: 7, column: 9 in module: c:\\Users\\i574n\\AppData\\Local\\Temp\\!dotnet-repl\\20240402-0221-5453-5384-567bf9554df9\\main.spi.\n",
      "        real_unbox ()\n",
      "        ^\n",
      "\"\r\n",
      "        ]\r\n",
      "      }\r\n",
      "    }\r\n",
      "  ]\r\n",
      "] / typeErrorCount: 0\r\n",
      "00:00:13 #72 [Debug] watchWithFilter / Disposing watch stream / filter: FileName, LastWrite\r\n",
      "FSharpOption<Tuple<FSharpOption<String>,FSharpList<String>>>\r\n",
      "      Value:       - <null>\r\n",
      "      - [ Cannot apply a forall with a term. ]\r\n"
     ]
    }
   ],
   "source": [
    "//// test\n",
    "\n",
    "\"\"\"\n",
    "inl main () =\n",
    "    real\n",
    "        inl real_unbox forall a. (obj : a) : a =\n",
    "            typecase obj with\n",
    "            | _ => obj\n",
    "        real_unbox ()\n",
    "    ()\n",
    "\"\"\"\n",
    "|> buildCode 10000 None\n",
    "|> Async.runWithTimeout 10000\n",
    "|> Option.map (fun (fsxContent, errors) -> fsxContent, errors |> List.map fst)\n",
    "|> _assertEqual (\n",
    "    Some (\n",
    "        None,\n",
    "        [ \"Cannot apply a forall with a term.\" ]\n",
    "    )\n",
    ")"
   ]
  },
  {
   "cell_type": "code",
   "execution_count": null,
   "metadata": {
    "dotnet_interactive": {
     "language": "fsharp"
    },
    "polyglot_notebook": {
     "kernelName": "fsharp"
    }
   },
   "outputs": [
    {
     "name": "stdout",
     "output_type": "stream",
     "text": [
      "00:00:14 #73 [Debug] runWithTimeoutChildAsync / timeout: 60\r\n",
      "00:00:14 #74 [Debug] buildFile / takeWhileInclusive / fsxContent:  / errors: [] / typeErrorCount: 0\r\n",
      "00:00:14 #75 [Debug] buildFile / takeWhileInclusive / fsxContent:  / errors: [] / typeErrorCount: 0\r\n",
      "00:00:14 #76 [Debug] sendJson / port: 13805 / json: {\"FileOpen\":{\"spiText\":\"\\ninl main () =\\n    real\\n        inl real_unbox forall a. (obj : a) : a =\\n            typecase obj with\\n            | _ =\\u003E obj\\n        real_unbox \\u0060i32 1\\n\",\"uri\":\"file:///c:/Users/i574n/AppData/Local/Temp/!dotnet-repl/20240402-0221-5500-0061-095633628574/main.spi\"}} / result.Length:\r\n",
      "00:00:14 #77 [Debug] sendJson / port: 13805 / json: {\"BuildFile\":{\"backend\":\"Fsharp\",\"uri\":\"file:///c:/Users/i574n/AppData/Local/Temp/!dotnet-repl/20240402-0221-5500-0061-095633628574/main.spi\"}} / result.Length:\r\n",
      "00:00:14 #78 [Debug] buildFile / takeWhileInclusive / fsxContent:  / errors: [\r\n",
      "  [\r\n",
      "    \"The main function should not have a forall.\",\r\n",
      "    {\r\n",
      "      \"TracedError\": {\r\n",
      "        \"message\": \"The main function should not have a forall.\",\r\n",
      "        \"trace\": []\r\n",
      "      }\r\n",
      "    }\r\n",
      "  ]\r\n",
      "] / typeErrorCount: 0\r\n",
      "00:00:14 #79 [Debug] watchWithFilter / Disposing watch stream / filter: FileName, LastWrite\r\n",
      "FSharpOption<Tuple<FSharpOption<String>,FSharpList<String>>>\r\n",
      "      Value:       - <null>\r\n",
      "      - [ The main function should not have a forall. ]\r\n"
     ]
    }
   ],
   "source": [
    "//// test\n",
    "\n",
    "\"\"\"\n",
    "inl main () =\n",
    "    real\n",
    "        inl real_unbox forall a. (obj : a) : a =\n",
    "            typecase obj with\n",
    "            | _ => obj\n",
    "        real_unbox `i32 1\n",
    "\"\"\"\n",
    "|> buildCode 10000 None\n",
    "|> Async.runWithTimeout 10000\n",
    "|> Option.map (fun (fsxContent, errors) -> fsxContent, errors |> List.map fst)\n",
    "|> _assertEqual (\n",
    "    Some (\n",
    "        None,\n",
    "        [ \"The main function should not have a forall.\" ]\n",
    "    )\n",
    ")"
   ]
  },
  {
   "cell_type": "code",
   "execution_count": null,
   "metadata": {
    "dotnet_interactive": {
     "language": "fsharp"
    },
    "polyglot_notebook": {
     "kernelName": "fsharp"
    }
   },
   "outputs": [
    {
     "name": "stdout",
     "output_type": "stream",
     "text": [
      "00:00:14 #80 [Debug] runWithTimeoutChildAsync / timeout: 60\r\n",
      "00:00:14 #81 [Debug] buildFile / takeWhileInclusive / fsxContent:  / errors: [] / typeErrorCount: 0\r\n",
      "00:00:14 #82 [Debug] buildFile / takeWhileInclusive / fsxContent:  / errors: [] / typeErrorCount: 0\r\n",
      "00:00:14 #83 [Debug] sendJson / port: 13805 / json: {\"FileOpen\":{\"spiText\":\"\\ninl init_series start end inc =\\n    inl total : f64 = conv ((end - start) / inc) \\u002B 1\\n    listm.init total (conv \\u003E\\u003E (*) inc \\u003E\\u003E (\\u002B) start) : list f64\\n\\ntype integration = (f64 -\\u003E f64) -\\u003E f64 -\\u003E f64 -\\u003E f64\\n\\ninl integral dt : integration =\\n    fun f a b =\\u003E\\n        init_series (a \\u002B dt / 2) (b - dt / 2) dt\\n        |\\u003E listm.map (f \\u003E\\u003E (*) dt)\\n        |\\u003E listm.fold (\\u002B) 0\\n\\ninl main () =\\n    integral 0.1 (fun x =\\u003E x ** 2) 0 1\\n\",\"uri\":\"file:///c:/Users/i574n/AppData/Local/Temp/!dotnet-repl/20240402-0221-5555-5571-5b8e96fa39ce/main.spi\"}} / result.Length:\r\n",
      "00:00:14 #84 [Debug] sendJson / port: 13805 / json: {\"BuildFile\":{\"backend\":\"Fsharp\",\"uri\":\"file:///c:/Users/i574n/AppData/Local/Temp/!dotnet-repl/20240402-0221-5555-5571-5b8e96fa39ce/main.spi\"}} / result.Length:\r\n",
      "00:00:14 #85 [Debug] buildFile / takeWhileInclusive / fsxContent: 0.3325000000000001\n",
      " / errors: [] / typeErrorCount: 0\r\n",
      "00:00:14 #86 [Debug] watchWithFilter / Disposing watch stream / filter: FileName, LastWrite\r\n",
      "FSharpOption<Tuple<FSharpOption<String>,FSharpList<String>>>\r\n",
      "      Value:       - FSharpOption<String>\r\n",
      "          Value: 0.3325000000000001\n",
      "\r\n",
      "      - [  ]\r\n"
     ]
    }
   ],
   "source": [
    "//// test\n",
    "\n",
    "\"\"\"\n",
    "inl init_series start end inc =\n",
    "    inl total : f64 = conv ((end - start) / inc) + 1\n",
    "    listm.init total (conv >> (*) inc >> (+) start) : list f64\n",
    "\n",
    "type integration = (f64 -> f64) -> f64 -> f64 -> f64\n",
    "\n",
    "inl integral dt : integration =\n",
    "    fun f a b =>\n",
    "        init_series (a + dt / 2) (b - dt / 2) dt\n",
    "        |> listm.map (f >> (*) dt)\n",
    "        |> listm.fold (+) 0\n",
    "\n",
    "inl main () =\n",
    "    integral 0.1 (fun x => x ** 2) 0 1\n",
    "\"\"\"\n",
    "|> buildCode 10000 None\n",
    "|> Async.runWithTimeout 10000\n",
    "|> Option.map (fun (fsxContent, errors) -> fsxContent, errors |> List.map fst)\n",
    "|> _assertEqual (\n",
    "    Some (\n",
    "        Some \"0.3325000000000001\\n\",\n",
    "        []\n",
    "    )\n",
    ")"
   ]
  },
  {
   "cell_type": "code",
   "execution_count": null,
   "metadata": {
    "dotnet_interactive": {
     "language": "fsharp"
    },
    "polyglot_notebook": {
     "kernelName": "fsharp"
    }
   },
   "outputs": [
    {
     "name": "stdout",
     "output_type": "stream",
     "text": [
      "00:00:15 #87 [Debug] runWithTimeoutChildAsync / timeout: 60\r\n",
      "00:00:15 #88 [Debug] buildFile / takeWhileInclusive / fsxContent:  / errors: [] / typeErrorCount: 0\r\n",
      "00:00:15 #89 [Debug] buildFile / takeWhileInclusive / fsxContent:  / errors: [] / typeErrorCount: 0\r\n",
      "00:00:15 #90 [Debug] sendJson / port: 13805 / json: {\"FileOpen\":{\"spiText\":\"\\ninl init_series start end inc =\\n    inl total : f64 = conv ((end - start) / inc) \\u002B 1\\n    listm.init total (conv \\u003E\\u003E (*) inc \\u003E\\u003E (\\u002B) start) : list f64\\n\\ntype integration = (f64 -\\u003E f64) -\\u003E f64 -\\u003E f64 -\\u003E f64\\n\\ninl integral dt : integration =\\n    fun f a b =\\u003E\\n        init_series (a \\u002B dt / 2) (b - dt / 2) dt\\n        |\\u003E listm.map (f \\u003E\\u003E (*) dt)\\n        |\\u003E listm.fold (\\u002B) 0\\n\\ninl main () =\\n    integral 0.01 (fun x =\\u003E x ** 2) 0 1\\n\",\"uri\":\"file:///c:/Users/i574n/AppData/Local/Temp/!dotnet-repl/20240402-0221-5609-0902-017c885a7c50/main.spi\"}} / result.Length:\r\n",
      "00:00:15 #91 [Debug] sendJson / port: 13805 / json: {\"BuildFile\":{\"backend\":\"Fsharp\",\"uri\":\"file:///c:/Users/i574n/AppData/Local/Temp/!dotnet-repl/20240402-0221-5609-0902-017c885a7c50/main.spi\"}} / result.Length:\r\n",
      "00:00:15 #92 [Debug] buildFile / takeWhileInclusive / fsxContent: 0.33332500000000004\n",
      " / errors: [] / typeErrorCount: 0\r\n",
      "00:00:15 #93 [Debug] watchWithFilter / Disposing watch stream / filter: FileName, LastWrite\r\n",
      "FSharpOption<Tuple<FSharpOption<String>,FSharpList<String>>>\r\n",
      "      Value:       - FSharpOption<String>\r\n",
      "          Value: 0.33332500000000004\n",
      "\r\n",
      "      - [  ]\r\n"
     ]
    }
   ],
   "source": [
    "//// test\n",
    "\n",
    "\"\"\"\n",
    "inl init_series start end inc =\n",
    "    inl total : f64 = conv ((end - start) / inc) + 1\n",
    "    listm.init total (conv >> (*) inc >> (+) start) : list f64\n",
    "\n",
    "type integration = (f64 -> f64) -> f64 -> f64 -> f64\n",
    "\n",
    "inl integral dt : integration =\n",
    "    fun f a b =>\n",
    "        init_series (a + dt / 2) (b - dt / 2) dt\n",
    "        |> listm.map (f >> (*) dt)\n",
    "        |> listm.fold (+) 0\n",
    "\n",
    "inl main () =\n",
    "    integral 0.01 (fun x => x ** 2) 0 1\n",
    "\"\"\"\n",
    "|> buildCode 10000 None\n",
    "|> Async.runWithTimeout 10000\n",
    "|> Option.map (fun (fsxContent, errors) -> fsxContent, errors |> List.map fst)\n",
    "|> _assertEqual (\n",
    "    Some (\n",
    "        Some \"0.33332500000000004\\n\",\n",
    "        []\n",
    "    )\n",
    ")\n",
    "// |> _assertEqual None\n",
    "// |> fun x -> printfn $\"{x.ToDisplayString ()}\""
   ]
  },
  {
   "cell_type": "markdown",
   "metadata": {},
   "source": [
    "## getFileTokenRange"
   ]
  },
  {
   "cell_type": "code",
   "execution_count": null,
   "metadata": {
    "dotnet_interactive": {
     "language": "fsharp"
    },
    "polyglot_notebook": {
     "kernelName": "fsharp"
    }
   },
   "outputs": [],
   "source": [
    "let inline getFileTokenRange port cancellationToken path = async {\n",
    "    let fullPath = path |> System.IO.Path.GetFullPath\n",
    "    let! code = fullPath |> FileSystem.readAllTextAsync\n",
    "    let lines = code |> Sm.split \"\\n\"\n",
    "\n",
    "    let token, disposable = Threading.newDisposableToken cancellationToken\n",
    "    use _ = disposable\n",
    "\n",
    "    let! serverPort, _errors, ct, disposable = awaitCompiler port (Some token)\n",
    "    use _ = disposable\n",
    "\n",
    "    let fileOpenObj = {| FileOpen = {| uri = fullPath |> getFileUri; spiText = code |} |}\n",
    "    let! _fileOpenResult = fileOpenObj |> sendObj serverPort\n",
    "\n",
    "    let fileTokenRangeObj =\n",
    "        {|\n",
    "            FileTokenRange =\n",
    "                {|\n",
    "                    uri = fullPath |> getFileUri\n",
    "                    range =\n",
    "                        [|\n",
    "                            {| line = 0; character = 0 |}\n",
    "                            {| line = lines.Length - 1; character = lines.[lines.Length - 1].Length |}\n",
    "                        |]\n",
    "                |}\n",
    "        |}\n",
    "    let! fileTokenRangeResult =\n",
    "        fileTokenRangeObj\n",
    "        |> sendObj serverPort\n",
    "        |> Async.withCancellationToken ct\n",
    "\n",
    "    return fileTokenRangeResult |> Option.map FSharp.Json.Json.deserialize<int array>\n",
    "}"
   ]
  },
  {
   "cell_type": "markdown",
   "metadata": {},
   "source": [
    "## getCodeTokenRange"
   ]
  },
  {
   "cell_type": "code",
   "execution_count": null,
   "metadata": {
    "dotnet_interactive": {
     "language": "fsharp"
    },
    "polyglot_notebook": {
     "kernelName": "fsharp"
    }
   },
   "outputs": [],
   "source": [
    "let inline getCodeTokenRange cancellationToken code = async {\n",
    "    let! mainPath, disposable = persistCode code\n",
    "    use _ = disposable\n",
    "    let port = getCompilerPort ()\n",
    "    return! mainPath |> getFileTokenRange port cancellationToken\n",
    "}"
   ]
  },
  {
   "cell_type": "code",
   "execution_count": null,
   "metadata": {
    "dotnet_interactive": {
     "language": "fsharp"
    },
    "polyglot_notebook": {
     "kernelName": "fsharp"
    }
   },
   "outputs": [
    {
     "name": "stdout",
     "output_type": "stream",
     "text": [
      "00:00:25 #94 [Debug] runWithTimeoutChildAsync / timeout: 60\r\n",
      "00:00:25 #95 [Debug] sendJson / port: 13805 / json: {\"FileOpen\":{\"spiText\":\"inl main () = ()\",\"uri\":\"file:///c:/Users/i574n/AppData/Local/Temp/!dotnet-repl/20240402-0222-0660-6087-6fc5ad9c44b0/main.spi\"}} / result.Length:\r\n",
      "00:00:25 #96 [Debug] sendJson / port: 13805 / json: {\"FileTokenRange\":{\"range\":[{\"character\":0,\"line\":0},{\"character\":16,\"line\":0}],\"uri\":\"file:///c:/Users/i574n/AppData/Local/Temp/!dotnet-repl/20240402-0222-0660-6087-6fc5ad9c44b0/main.spi\"}} / result.Length: Some(213)\r\n",
      "FSharpOption<Int32[]>\r\n",
      "      Value: [ 0, 0, 3, 7, 0, 0, 4, 4, 0, 0, 0, 5, 1, 8, 0, 0, 1, 1, 8, 0, 0, 2, 1, 4, 0, 0, 2, 1, 8, 0, 0, 1, 1, 8, 0 ]\r\n"
     ]
    }
   ],
   "source": [
    "//// test\n",
    "\n",
    "\"\"\"inl main () = ()\"\"\"\n",
    "|> getCodeTokenRange None\n",
    "|> Async.runWithTimeout 10000\n",
    "|> Option.flatten\n",
    "|> _assertEqual (Some [| 0; 0; 3; 7; 0; 0; 4; 4; 0; 0; 0; 5; 1; 8; 0; 0; 1; 1; 8; 0; 0; 2; 1; 4; 0; 0;\n",
    "2; 1; 8; 0; 0; 1; 1; 8; 0 |])"
   ]
  },
  {
   "cell_type": "code",
   "execution_count": null,
   "metadata": {
    "dotnet_interactive": {
     "language": "fsharp"
    },
    "polyglot_notebook": {
     "kernelName": "fsharp"
    }
   },
   "outputs": [
    {
     "name": "stdout",
     "output_type": "stream",
     "text": [
      "00:00:29 #97 [Debug] runWithTimeoutChildAsync / timeout: 60\r\n",
      "00:00:29 #98 [Debug] sendJson / port: 13805 / json: {\"FileOpen\":{\"spiText\":\"inl main () = 1i32\",\"uri\":\"file:///c:/Users/i574n/AppData/Local/Temp/!dotnet-repl/20240402-0222-1043-4391-437145c41080/main.spi\"}} / result.Length:\r\n",
      "00:00:29 #99 [Debug] sendJson / port: 13805 / json: {\"FileTokenRange\":{\"range\":[{\"character\":0,\"line\":0},{\"character\":18,\"line\":0}],\"uri\":\"file:///c:/Users/i574n/AppData/Local/Temp/!dotnet-repl/20240402-0222-1043-4391-437145c41080/main.spi\"}} / result.Length: Some(214)\r\n",
      "FSharpOption<Int32[]>\r\n",
      "      Value: [ 0, 0, 3, 7, 0, 0, 4, 4, 0, 0, 0, 5, 1, 8, 0, 0, 1, 1, 8, 0, 0, 2, 1, 4, 0, 0, 2, 1, 3, 0, 0, 1, 3, 12, 0 ]\r\n"
     ]
    }
   ],
   "source": [
    "//// test\n",
    "\n",
    "\"\"\"inl main () = 1i32\"\"\"\n",
    "|> getCodeTokenRange None\n",
    "|> Async.runWithTimeout 10000\n",
    "|> Option.flatten\n",
    "|> _assertEqual (Some [| 0; 0; 3; 7; 0; 0; 4; 4; 0; 0; 0; 5; 1; 8; 0; 0; 1; 1; 8; 0; 0; 2; 1; 4; 0; 0;\n",
    "2; 1; 3; 0; 0; 1; 3; 12; 0 |])"
   ]
  },
  {
   "cell_type": "markdown",
   "metadata": {},
   "source": [
    "## Arguments"
   ]
  },
  {
   "cell_type": "code",
   "execution_count": null,
   "metadata": {
    "dotnet_interactive": {
     "language": "fsharp"
    },
    "polyglot_notebook": {
     "kernelName": "fsharp"
    }
   },
   "outputs": [],
   "source": [
    "[<RequireQualifiedAccess>]\n",
    "type Arguments =\n",
    "    | Build_File of string * string\n",
    "    | File_Token_Range of string * string\n",
    "    | Execute_Command of string\n",
    "    | [<Argu.ArguAttributes.Unique>] Timeout of int\n",
    "    | [<Argu.ArguAttributes.Unique>] Port of int\n",
    "    | [<Argu.ArguAttributes.Unique>] Parallel\n",
    "\n",
    "    interface Argu.IArgParserTemplate with\n",
    "        member s.Usage =\n",
    "            match s with\n",
    "            | Build_File _ -> nameof Build_File\n",
    "            | File_Token_Range _ -> nameof File_Token_Range\n",
    "            | Execute_Command _ -> nameof Execute_Command\n",
    "            | Timeout _ -> nameof Timeout\n",
    "            | Port _ -> nameof Port\n",
    "            | Parallel -> nameof Parallel"
   ]
  },
  {
   "cell_type": "code",
   "execution_count": null,
   "metadata": {
    "dotnet_interactive": {
     "language": "fsharp"
    },
    "polyglot_notebook": {
     "kernelName": "fsharp"
    }
   },
   "outputs": [
    {
     "data": {
      "text/plain": [
       "USAGE: dotnet-repl [--help] [--build-file <string> <string>]\r\n",
       "                   [--file-token-range <string> <string>]\r\n",
       "                   [--execute-command <string>] [--timeout <int>] [--port <int>]\r\n",
       "                   [--parallel]\r\n",
       "\r\n",
       "OPTIONS:\r\n",
       "\r\n",
       "    --build-file <string> <string>\r\n",
       "                          Build_File\r\n",
       "    --file-token-range <string> <string>\r\n",
       "                          File_Token_Range\r\n",
       "    --execute-command <string>\r\n",
       "                          Execute_Command\r\n",
       "    --timeout <int>       Timeout\r\n",
       "    --port <int>          Port\r\n",
       "    --parallel            Parallel\r\n",
       "    --help                display this list of options.\r\n"
      ]
     },
     "metadata": {},
     "output_type": "display_data"
    }
   ],
   "source": [
    "//// test\n",
    "\n",
    "Argu.ArgumentParser.Create<Arguments>().PrintUsage ()"
   ]
  },
  {
   "cell_type": "markdown",
   "metadata": {},
   "source": [
    "## main"
   ]
  },
  {
   "cell_type": "code",
   "execution_count": null,
   "metadata": {
    "dotnet_interactive": {
     "language": "fsharp"
    },
    "polyglot_notebook": {
     "kernelName": "fsharp"
    }
   },
   "outputs": [],
   "source": [
    "let main args =\n",
    "    let argsMap = args |> Runtime.parseArgsMap<Arguments>\n",
    "\n",
    "    let buildFileActions =\n",
    "        argsMap\n",
    "        |> Map.tryFind (nameof Arguments.Build_File)\n",
    "        |> Option.defaultValue []\n",
    "        |> List.choose (function\n",
    "            | Arguments.Build_File (inputPath, outputPath) -> Some (inputPath, outputPath)\n",
    "            | _ -> None\n",
    "        )\n",
    "\n",
    "    let fileTokenRangeActions =\n",
    "        argsMap\n",
    "        |> Map.tryFind (nameof Arguments.File_Token_Range)\n",
    "        |> Option.defaultValue []\n",
    "        |> List.choose (function\n",
    "            | Arguments.File_Token_Range (inputPath, outputPath) -> Some (inputPath, outputPath)\n",
    "            | _ -> None\n",
    "        )\n",
    "\n",
    "    let executeCommandActions =\n",
    "        argsMap\n",
    "        |> Map.tryFind (nameof Arguments.Execute_Command)\n",
    "        |> Option.defaultValue []\n",
    "        |> List.choose (function\n",
    "            | Arguments.Execute_Command command -> Some command\n",
    "            | _ -> None\n",
    "        )\n",
    "\n",
    "    let timeout =\n",
    "        match argsMap |> Map.tryFind (nameof Arguments.Timeout) with\n",
    "        | Some [ Arguments.Timeout timeout ] -> timeout\n",
    "        | _ -> 60000 * 60\n",
    "\n",
    "    let port =\n",
    "        match argsMap |> Map.tryFind (nameof Arguments.Port) with\n",
    "        | Some [ Arguments.Port port ] -> Some port\n",
    "        | _ -> None\n",
    "\n",
    "    let isParallel = argsMap |> Map.containsKey (nameof Arguments.Parallel)\n",
    "\n",
    "    async {\n",
    "        let port = port |> Option.defaultWith getCompilerPort\n",
    "        let localToken, disposable = Threading.newDisposableToken None\n",
    "        let! serverPort, _errors, compilerToken, disposable = awaitCompiler port (Some localToken)\n",
    "        use _ = disposable\n",
    "\n",
    "        let buildFileAsync =\n",
    "            buildFileActions\n",
    "            |> List.map (fun (inputPath, outputPath) -> async {\n",
    "                let! outputCode, errors = inputPath |> buildFile timeout serverPort None\n",
    "\n",
    "                errors\n",
    "                |> List.map snd\n",
    "                |> List.iter (fun error ->\n",
    "                    trace Critical (fun () -> $\"main / error: {error |> serializeObj}\") getLocals\n",
    "                )\n",
    "\n",
    "                match outputCode with\n",
    "                | Some outputCode ->\n",
    "                    do! outputCode |> FileSystem.writeAllTextAsync outputPath\n",
    "                    return 0\n",
    "                | None ->\n",
    "                    return 1\n",
    "            })\n",
    "\n",
    "        let fileTokenRangeAsync =\n",
    "            fileTokenRangeActions\n",
    "            |> List.map (fun (inputPath, outputPath) -> async {\n",
    "                let! tokenRange = inputPath |> getFileTokenRange serverPort None\n",
    "                match tokenRange with\n",
    "                | Some tokenRange ->\n",
    "                    do! tokenRange |> FSharp.Json.Json.serialize |> FileSystem.writeAllTextAsync outputPath\n",
    "                    return 0\n",
    "                | None ->\n",
    "                    return 1\n",
    "            })\n",
    "\n",
    "        let executeCommandAsync =\n",
    "            executeCommandActions\n",
    "            |> List.map (fun command -> async {\n",
    "                let! exitCode, result =\n",
    "                    Runtime.executeWithOptionsAsync\n",
    "                        {\n",
    "                            Command = command\n",
    "                            CancellationToken = Some compilerToken\n",
    "                            WorkingDirectory = None\n",
    "                            OnLine = None\n",
    "                        }\n",
    "\n",
    "                trace Debug (fun () -> $\"main / executeCommand / exitCode: {exitCode}\") getLocals\n",
    "\n",
    "                return exitCode\n",
    "            })\n",
    "\n",
    "        return!\n",
    "            [| buildFileAsync; fileTokenRangeAsync; executeCommandAsync |]\n",
    "            |> Seq.collect id\n",
    "            |> fun x ->\n",
    "                if isParallel\n",
    "                then Async.Parallel (x, float System.Environment.ProcessorCount * 0.75 |> ceil |> int)\n",
    "                else Async.Sequential x\n",
    "            |> Async.map Array.sum\n",
    "    }\n",
    "    |> Async.runWithTimeout timeout\n",
    "    |> Option.defaultValue 1"
   ]
  },
  {
   "cell_type": "code",
   "execution_count": null,
   "metadata": {
    "dotnet_interactive": {
     "language": "fsharp"
    },
    "polyglot_notebook": {
     "kernelName": "fsharp"
    }
   },
   "outputs": [
    {
     "data": {
      "text/html": [
       "<div class=\"dni-plaintext\"><pre>0</pre></div><style>\r\n",
       ".dni-code-hint {\r\n",
       "    font-style: italic;\r\n",
       "    overflow: hidden;\r\n",
       "    white-space: nowrap;\r\n",
       "}\r\n",
       ".dni-treeview {\r\n",
       "    white-space: nowrap;\r\n",
       "}\r\n",
       ".dni-treeview td {\r\n",
       "    vertical-align: top;\r\n",
       "    text-align: start;\r\n",
       "}\r\n",
       "details.dni-treeview {\r\n",
       "    padding-left: 1em;\r\n",
       "}\r\n",
       "table td {\r\n",
       "    text-align: start;\r\n",
       "}\r\n",
       "table tr { \r\n",
       "    vertical-align: top; \r\n",
       "    margin: 0em 0px;\r\n",
       "}\r\n",
       "table tr td pre \r\n",
       "{ \r\n",
       "    vertical-align: top !important; \r\n",
       "    margin: 0em 0px !important;\r\n",
       "} \r\n",
       "table th {\r\n",
       "    text-align: start;\r\n",
       "}\r\n",
       "</style>"
      ]
     },
     "metadata": {},
     "output_type": "display_data"
    }
   ],
   "source": [
    "//// test\n",
    "\n",
    "let args =\n",
    "    System.Environment.GetEnvironmentVariable \"ARGS\"\n",
    "    |> Runtime.splitArgs\n",
    "    |> Seq.toArray\n",
    "\n",
    "match args with\n",
    "| [||] -> 0\n",
    "| args -> if main args = 0 then 0 else failwith \"main failed\""
   ]
  }
 ],
 "metadata": {},
 "nbformat": 4,
 "nbformat_minor": 5
}