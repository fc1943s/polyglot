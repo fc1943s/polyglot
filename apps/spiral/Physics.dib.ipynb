{
 "cells": [
  {
   "cell_type": "markdown",
   "metadata": {},
   "source": [
    "## Physics (Polyglot)"
   ]
  },
  {
   "cell_type": "code",
   "execution_count": null,
   "metadata": {
    "dotnet_interactive": {
     "language": "fsharp"
    },
    "polyglot_notebook": {
     "kernelName": "fsharp"
    }
   },
   "outputs": [],
   "source": [
    "#!import ../nbs/Plotting.dib"
   ]
  },
  {
   "cell_type": "markdown",
   "metadata": {},
   "source": [
    "## Testing"
   ]
  },
  {
   "cell_type": "code",
   "execution_count": null,
   "metadata": {
    "dotnet_interactive": {
     "language": "spiral"
    },
    "polyglot_notebook": {
     "kernelName": "spiral"
    }
   },
   "outputs": [
    {
     "name": "stdout",
     "output_type": "stream",
     "text": [
      "()\n",
      "\r\n"
     ]
    }
   ],
   "source": [
    "// // test\n",
    "\n",
    "inl _almost_equal b a =\n",
    "    assert (abs (b - a) < 0.00000001) $\"$\\\"_almost_equal / actual: {!a} / expected: {!b}\\\"\"\n",
    "\n",
    "inl _equal b a =\n",
    "    assert (a = b) $\"$\\\"_equal / actual: {!a} / expected: {!b}\\\"\"\n",
    "\n",
    "inl _is_less_than b a =\n",
    "    assert (b < a) $\"$\\\"_is_less_than / actual: {!a} / expected: {!b}\\\"\"\n",
    "\n",
    "inl _is_less_than_or_equal b a =\n",
    "    assert (b <= a) $\"$\\\"_is_less_than_or_equal / actual: {!a} / expected: {!b}\\\"\""
   ]
  },
  {
   "cell_type": "markdown",
   "metadata": {},
   "source": [
    "## Math"
   ]
  },
  {
   "cell_type": "code",
   "execution_count": null,
   "metadata": {
    "dotnet_interactive": {
     "language": "spiral"
    },
    "polyglot_notebook": {
     "kernelName": "spiral"
    }
   },
   "outputs": [
    {
     "name": "stdout",
     "output_type": "stream",
     "text": [
      "()\n",
      "\r\n"
     ]
    }
   ],
   "source": [
    "inl atan2 (y : f64) (x : f64) =\n",
    "    $\"System.Math.Atan2 (!y, !x)\" : f64\n",
    "\n",
    "inl e () =\n",
    "    exp 1f64\n",
    "\n",
    "inl log_base (new_base : f64) (a : f64) =\n",
    "    $\"System.Math.Log (!a, !new_base)\" : f64\n",
    "\n",
    "inl round forall t {float}. (x : t) : t =\n",
    "    $\"round !x\"\n",
    "\n",
    "inl square x =\n",
    "    x ** 2"
   ]
  },
  {
   "cell_type": "code",
   "execution_count": null,
   "metadata": {
    "dotnet_interactive": {
     "language": "spiral"
    },
    "polyglot_notebook": {
     "kernelName": "spiral"
    }
   },
   "outputs": [
    {
     "name": "stdout",
     "output_type": "stream",
     "text": [
      "let rec method0 () : unit =\n",
      "    let v0 : string = $\"_almost_equal / actual: {3.1622776601683795} / expected: {3.1622776601683795}\"\n",
      "    ()\n",
      "method0()\n",
      "\r\n"
     ]
    }
   ],
   "source": [
    "// // test\n",
    "\n",
    "2 * 2 / 0.4f64 |> sqrt\n",
    "|> _almost_equal 3.1622776601683795"
   ]
  },
  {
   "cell_type": "code",
   "execution_count": null,
   "metadata": {
    "dotnet_interactive": {
     "language": "spiral"
    },
    "polyglot_notebook": {
     "kernelName": "spiral"
    }
   },
   "outputs": [
    {
     "name": "stdout",
     "output_type": "stream",
     "text": [
      "let rec method0 () : unit =\n",
      "    let v0 : string = $\"_almost_equal / actual: {0.6666666666666666} / expected: {0.6666666666666666}\"\n",
      "    ()\n",
      "method0()\n",
      "\r\n"
     ]
    }
   ],
   "source": [
    "// // test\n",
    "\n",
    "2f64 / 3\n",
    "|> _almost_equal 0.6666666666666666"
   ]
  },
  {
   "cell_type": "code",
   "execution_count": null,
   "metadata": {
    "dotnet_interactive": {
     "language": "spiral"
    },
    "polyglot_notebook": {
     "kernelName": "spiral"
    }
   },
   "outputs": [
    {
     "name": "stdout",
     "output_type": "stream",
     "text": [
      "let rec method0 () : unit =\n",
      "    let v0 : string = $\"_almost_equal / actual: {0.6931471805599453} / expected: {0.6931471805599453}\"\n",
      "    ()\n",
      "method0()\n",
      "\r\n"
     ]
    }
   ],
   "source": [
    "// // test\n",
    "\n",
    "2f64 |> log\n",
    "|> _almost_equal 0.6931471805599453"
   ]
  },
  {
   "cell_type": "code",
   "execution_count": null,
   "metadata": {
    "dotnet_interactive": {
     "language": "spiral"
    },
    "polyglot_notebook": {
     "kernelName": "spiral"
    }
   },
   "outputs": [
    {
     "name": "stdout",
     "output_type": "stream",
     "text": [
      "let rec method0 () : unit =\n",
      "    let v0 : string = $\"_almost_equal / actual: {3.141592653589793} / expected: {3.141592653589793}\"\n",
      "    ()\n",
      "method0()\n",
      "\r\n"
     ]
    }
   ],
   "source": [
    "// // test\n",
    "\n",
    "pi\n",
    "|> _almost_equal 3.141592653589793f64"
   ]
  },
  {
   "cell_type": "code",
   "execution_count": null,
   "metadata": {
    "dotnet_interactive": {
     "language": "spiral"
    },
    "polyglot_notebook": {
     "kernelName": "spiral"
    }
   },
   "outputs": [
    {
     "name": "stdout",
     "output_type": "stream",
     "text": [
      "let rec method0 () : unit =\n",
      "    let v0 : string = $\"_equal / actual: {-1.0} / expected: {-1.0}\"\n",
      "    ()\n",
      "method0()\n",
      "\r\n"
     ]
    }
   ],
   "source": [
    "// // test\n",
    "\n",
    "pi |> cos\n",
    "|> _equal -1f64"
   ]
  },
  {
   "cell_type": "code",
   "execution_count": null,
   "metadata": {
    "dotnet_interactive": {
     "language": "spiral"
    },
    "polyglot_notebook": {
     "kernelName": "spiral"
    }
   },
   "outputs": [
    {
     "name": "stdout",
     "output_type": "stream",
     "text": [
      "let rec method0 () : unit =\n",
      "    let v0 : string = $\"_almost_equal / actual: {-0.5} / expected: {-0.5}\"\n",
      "    ()\n",
      "method0()\n",
      "\r\n"
     ]
    }
   ],
   "source": [
    "// // test\n",
    "\n",
    "pi\n",
    "|> cos\n",
    "|> fun n => n / 2f64\n",
    "|> _almost_equal -0.5"
   ]
  },
  {
   "cell_type": "code",
   "execution_count": null,
   "metadata": {
    "dotnet_interactive": {
     "language": "spiral"
    },
    "polyglot_notebook": {
     "kernelName": "spiral"
    }
   },
   "outputs": [
    {
     "name": "stdout",
     "output_type": "stream",
     "text": [
      "let rec method0 () : unit =\n",
      "    let v0 : string = $\"_almost_equal / actual: {6.123233995736766E-17} / expected: {6.123233995736766E-17}\"\n",
      "    ()\n",
      "method0()\n",
      "\r\n"
     ]
    }
   ],
   "source": [
    "// // test\n",
    "\n",
    "pi / 2 |> cos\n",
    "|> _almost_equal 0.00000000000000006123233995736766f64"
   ]
  },
  {
   "cell_type": "code",
   "execution_count": null,
   "metadata": {
    "dotnet_interactive": {
     "language": "spiral"
    },
    "polyglot_notebook": {
     "kernelName": "spiral"
    }
   },
   "outputs": [
    {
     "name": "stdout",
     "output_type": "stream",
     "text": [
      "let rec method0 () : unit =\n",
      "    let v0 : float = System.Math.Log (100.0, 10.0)\n",
      "    let v1 : bool = v0 = 2.0\n",
      "    let v2 : string = $\"_equal / actual: {v0} / expected: {2.0}\"\n",
      "    let v3 : bool = v1 = false\n",
      "    if v3 then\n",
      "        failwith<unit> v2\n",
      "method0()\n",
      "\r\n"
     ]
    }
   ],
   "source": [
    "// // test\n",
    "\n",
    "100 |> log_base 10\n",
    "|> _equal 2"
   ]
  },
  {
   "cell_type": "code",
   "execution_count": null,
   "metadata": {
    "dotnet_interactive": {
     "language": "spiral"
    },
    "polyglot_notebook": {
     "kernelName": "spiral"
    }
   },
   "outputs": [
    {
     "name": "stdout",
     "output_type": "stream",
     "text": [
      "let rec method0 () : unit =\n",
      "    let v0 : float = System.Math.Atan2 (1.0, 0.0)\n",
      "    let v1 : bool = v0 = 1.5707963267948966\n",
      "    let v2 : string = $\"_equal / actual: {v0} / expected: {1.5707963267948966}\"\n",
      "    let v3 : bool = v1 = false\n",
      "    if v3 then\n",
      "        failwith<unit> v2\n",
      "method0()\n",
      "\r\n"
     ]
    }
   ],
   "source": [
    "// // test\n",
    "\n",
    "0 |> atan2 1\n",
    "|> _equal 1.5707963267948966"
   ]
  },
  {
   "cell_type": "code",
   "execution_count": null,
   "metadata": {
    "dotnet_interactive": {
     "language": "spiral"
    },
    "polyglot_notebook": {
     "kernelName": "spiral"
    }
   },
   "outputs": [
    {
     "name": "stdout",
     "output_type": "stream",
     "text": [
      "let rec method0 () : unit =\n",
      "    let v0 : string = $\"_almost_equal / actual: {5.000000000000001} / expected: {5.0}\"\n",
      "    ()\n",
      "method0()\n",
      "\r\n"
     ]
    }
   ],
   "source": [
    "// // test\n",
    "\n",
    "5f64\n",
    "|> sqrt\n",
    "|> square\n",
    "|> _almost_equal 5"
   ]
  },
  {
   "cell_type": "code",
   "execution_count": null,
   "metadata": {
    "dotnet_interactive": {
     "language": "spiral"
    },
    "polyglot_notebook": {
     "kernelName": "spiral"
    }
   },
   "outputs": [
    {
     "name": "stdout",
     "output_type": "stream",
     "text": [
      "let rec method0 () : unit =\n",
      "    let v0 : string = $\"_almost_equal / actual: {7.3890560989306495} / expected: {7.3890560989306495}\"\n",
      "    ()\n",
      "method0()\n",
      "\r\n"
     ]
    }
   ],
   "source": [
    "// // test\n",
    "\n",
    "e () |> square\n",
    "|> _almost_equal 7.3890560989306495"
   ]
  },
  {
   "cell_type": "markdown",
   "metadata": {},
   "source": [
    "## iterate"
   ]
  },
  {
   "cell_type": "code",
   "execution_count": null,
   "metadata": {
    "dotnet_interactive": {
     "language": "spiral"
    },
    "polyglot_notebook": {
     "kernelName": "spiral"
    }
   },
   "outputs": [
    {
     "name": "stdout",
     "output_type": "stream",
     "text": [
      "()\n",
      "\r\n"
     ]
    }
   ],
   "source": [
    "inl iterate f x0 num_steps =\n",
    "    inl rec loop x n =\n",
    "        if n <= 0\n",
    "        then x\n",
    "        else loop (f x) (n - 1)\n",
    "    loop x0 num_steps"
   ]
  },
  {
   "cell_type": "code",
   "execution_count": null,
   "metadata": {
    "dotnet_interactive": {
     "language": "spiral"
    },
    "polyglot_notebook": {
     "kernelName": "spiral"
    }
   },
   "outputs": [
    {
     "name": "stdout",
     "output_type": "stream",
     "text": [
      "let rec method0 () : unit =\n",
      "    let v0 : string = $\"_equal / actual: {11} / expected: {11}\"\n",
      "    ()\n",
      "method0()\n",
      "\r\n"
     ]
    }
   ],
   "source": [
    "// // test\n",
    "\n",
    "10i32 |> iterate ((+) 1) 1i32\n",
    "|> _equal 11"
   ]
  },
  {
   "cell_type": "code",
   "execution_count": null,
   "metadata": {
    "dotnet_interactive": {
     "language": "spiral"
    },
    "polyglot_notebook": {
     "kernelName": "spiral"
    }
   },
   "outputs": [
    {
     "name": "stdout",
     "output_type": "stream",
     "text": [
      "()\n",
      "\r\n"
     ]
    }
   ],
   "source": [
    "inl iterate_ f x0 num_steps =\n",
    "    let rec loop x n =\n",
    "        if n <= 0\n",
    "        then x\n",
    "        else loop (f x) (n - 1)\n",
    "    loop x0 num_steps"
   ]
  },
  {
   "cell_type": "code",
   "execution_count": null,
   "metadata": {
    "dotnet_interactive": {
     "language": "spiral"
    },
    "polyglot_notebook": {
     "kernelName": "spiral"
    }
   },
   "outputs": [
    {
     "name": "stdout",
     "output_type": "stream",
     "text": [
      "let rec method1 (v0 : int32, v1 : int32) : int32 =\n",
      "    let v2 : bool = v1 <= 0\n",
      "    if v2 then\n",
      "        v0\n",
      "    else\n",
      "        let v3 : int32 = 1 + v0\n",
      "        let v4 : int32 = v1 - 1\n",
      "        method1(v3, v4)\n",
      "and method0 () : unit =\n",
      "    let v0 : int32 = 1\n",
      "    let v1 : int32 = 10\n",
      "    let v2 : int32 = method1(v0, v1)\n",
      "    let v3 : bool = v2 = 11\n",
      "    let v4 : string = $\"_equal / actual: {v2} / expected: {11}\"\n",
      "    let v5 : bool = v3 = false\n",
      "    if v5 then\n",
      "        failwith<unit> v4\n",
      "method0()\n",
      "\r\n"
     ]
    }
   ],
   "source": [
    "// // test\n",
    "\n",
    "10i32 |> iterate_ ((+) 1) 1i32\n",
    "|> _equal 11"
   ]
  },
  {
   "cell_type": "code",
   "execution_count": null,
   "metadata": {
    "dotnet_interactive": {
     "language": "spiral"
    },
    "polyglot_notebook": {
     "kernelName": "spiral"
    }
   },
   "outputs": [
    {
     "name": "stdout",
     "output_type": "stream",
     "text": [
      "()\n",
      "\r\n"
     ]
    }
   ],
   "source": [
    "inl iterate' f x0 num_steps =\n",
    "    listm.init num_steps id\n",
    "    |> listm.fold (fun x _ => f x) x0"
   ]
  },
  {
   "cell_type": "code",
   "execution_count": null,
   "metadata": {
    "dotnet_interactive": {
     "language": "spiral"
    },
    "polyglot_notebook": {
     "kernelName": "spiral"
    }
   },
   "outputs": [
    {
     "name": "stdout",
     "output_type": "stream",
     "text": [
      "let rec method0 () : unit =\n",
      "    let v0 : string = $\"_equal / actual: {11} / expected: {11}\"\n",
      "    ()\n",
      "method0()\n",
      "\r\n"
     ]
    }
   ],
   "source": [
    "// // test\n",
    "\n",
    "10i32 |> iterate' ((+) 1) 1i32\n",
    "|> _equal 11"
   ]
  },
  {
   "cell_type": "markdown",
   "metadata": {},
   "source": [
    "## list"
   ]
  },
  {
   "cell_type": "markdown",
   "metadata": {},
   "source": [
    "### list_item"
   ]
  },
  {
   "cell_type": "code",
   "execution_count": null,
   "metadata": {
    "dotnet_interactive": {
     "language": "spiral"
    },
    "polyglot_notebook": {
     "kernelName": "spiral"
    }
   },
   "outputs": [
    {
     "name": "stdout",
     "output_type": "stream",
     "text": [
      "()\n",
      "\r\n"
     ]
    }
   ],
   "source": [
    "inl rec list_item i = function\n",
    "    | Cons (x, _) when i = 0 => x\n",
    "    | Cons (_, xs) => list_item (i - 1) xs\n",
    "    | Nil => failwith \"list_item: index out of bounds\""
   ]
  },
  {
   "cell_type": "code",
   "execution_count": null,
   "metadata": {
    "dotnet_interactive": {
     "language": "spiral"
    },
    "polyglot_notebook": {
     "kernelName": "spiral"
    }
   },
   "outputs": [
    {
     "name": "stdout",
     "output_type": "stream",
     "text": [
      "let rec method0 () : unit =\n",
      "    let v0 : string = $\"_equal / actual: {9} / expected: {9}\"\n",
      "    ()\n",
      "method0()\n",
      "\r\n"
     ]
    }
   ],
   "source": [
    "// // test\n",
    "\n",
    "listm.init 10i32 id\n",
    "|> list_item 9i32\n",
    "|> _equal 9"
   ]
  },
  {
   "cell_type": "markdown",
   "metadata": {},
   "source": [
    "### lazy_list"
   ]
  },
  {
   "cell_type": "code",
   "execution_count": null,
   "metadata": {
    "dotnet_interactive": {
     "language": "spiral"
    },
    "polyglot_notebook": {
     "kernelName": "spiral"
    }
   },
   "outputs": [
    {
     "name": "stdout",
     "output_type": "stream",
     "text": [
      "()\n",
      "\r\n"
     ]
    }
   ],
   "source": [
    "union rec lazy_list t =\n",
    "    | LazyCons : t * (() -> lazy_list t)\n",
    "    | LazyNil\n",
    "\n",
    "inl rec lazy_list list =\n",
    "    match list with\n",
    "    | [] => LazyNil\n",
    "    | x :: xs => LazyCons (x, fun () => lazy_list xs)\n",
    "\n",
    "inl rec lazy_list_item i = function\n",
    "    | LazyCons (x, _) when i = 0 => x\n",
    "    | LazyCons (_, fn) => lazy_list_item (i - 1) (fn ())\n",
    "    | LazyNil => failwith \"list_item: index out of bounds\""
   ]
  },
  {
   "cell_type": "code",
   "execution_count": null,
   "metadata": {
    "dotnet_interactive": {
     "language": "spiral"
    },
    "polyglot_notebook": {
     "kernelName": "spiral"
    }
   },
   "outputs": [
    {
     "name": "stdout",
     "output_type": "stream",
     "text": [
      "let rec method0 () : unit =\n",
      "    let v0 : string = $\"_equal / actual: {9} / expected: {9}\"\n",
      "    ()\n",
      "method0()\n",
      "\r\n"
     ]
    }
   ],
   "source": [
    "// // test\n",
    "\n",
    "listm.init 10i32 id\n",
    "|> lazy_list\n",
    "|> lazy_list_item 9i32\n",
    "|> _equal 9"
   ]
  },
  {
   "cell_type": "code",
   "execution_count": null,
   "metadata": {
    "dotnet_interactive": {
     "language": "spiral"
    },
    "polyglot_notebook": {
     "kernelName": "spiral"
    }
   },
   "outputs": [
    {
     "name": "stdout",
     "output_type": "stream",
     "text": [
      "let rec method0 () : unit =\n",
      "    let v0 : string = $\"_equal / actual: {4} / expected: {4}\"\n",
      "    ()\n",
      "method0()\n",
      "\r\n"
     ]
    }
   ],
   "source": [
    "// // test\n",
    "\n",
    "inl rec infinite_lazy_list_from n =\n",
    "    LazyCons (n, fun () => infinite_lazy_list_from (n + 1))\n",
    "\n",
    "infinite_lazy_list_from 0i32\n",
    "|> lazy_list_item 4i32\n",
    "|> _equal 4i32"
   ]
  },
  {
   "cell_type": "code",
   "execution_count": null,
   "metadata": {
    "dotnet_interactive": {
     "language": "spiral"
    },
    "polyglot_notebook": {
     "kernelName": "spiral"
    }
   },
   "outputs": [
    {
     "name": "stdout",
     "output_type": "stream",
     "text": [
      "()\n",
      "\r\n"
     ]
    }
   ],
   "source": [
    "// // test\n",
    "\n",
    "inl print_and_return x =\n",
    "    $\"printfn $\\\"el {!x}\\\"\"\n",
    "    x\n",
    "\n",
    "inl finite_lazy_list () =\n",
    "    LazyCons (\n",
    "        print_and_return 0i32,\n",
    "        fun () =>\n",
    "            LazyCons (\n",
    "                print_and_return 1i32,\n",
    "                fun () =>\n",
    "                    LazyCons (\n",
    "                        print_and_return 2i32,\n",
    "                        fun () =>\n",
    "                            LazyCons (\n",
    "                                print_and_return 3i32,\n",
    "                                fun () =>\n",
    "                                    LazyCons (\n",
    "                                        print_and_return 4i32,\n",
    "                                        fun () =>\n",
    "                                            LazyCons (\n",
    "                                                print_and_return 5i32,\n",
    "                                                fun () =>\n",
    "                                                    LazyNil\n",
    "                                            )\n",
    "                                    )\n",
    "                            )\n",
    "                    )\n",
    "            )\n",
    "    )"
   ]
  },
  {
   "cell_type": "markdown",
   "metadata": {},
   "source": [
    "### memoize_lazy_list"
   ]
  },
  {
   "cell_type": "code",
   "execution_count": null,
   "metadata": {
    "dotnet_interactive": {
     "language": "spiral"
    },
    "polyglot_notebook": {
     "kernelName": "spiral"
    }
   },
   "outputs": [
    {
     "name": "stdout",
     "output_type": "stream",
     "text": [
      "()\n",
      "\r\n"
     ]
    }
   ],
   "source": [
    "union memoized_lazy_list t =\n",
    "    | NotComputed : () -> lazy_list t\n",
    "    | Computed : lazy_list t\n",
    "\n",
    "inl rec memoize_lazy_list lazy_list =\n",
    "    inl state = mut (NotComputed fun () => lazy_list)\n",
    "    fun () =>\n",
    "        match *state with\n",
    "        | Computed x => x\n",
    "        | NotComputed fn =>\n",
    "            inl new_state =\n",
    "                match fn () with\n",
    "                | LazyNil => LazyNil\n",
    "                | LazyCons (x, fn) => LazyCons (x, memoize_lazy_list (fn ()))\n",
    "            state <- Computed new_state\n",
    "            new_state"
   ]
  },
  {
   "cell_type": "code",
   "execution_count": null,
   "metadata": {
    "dotnet_interactive": {
     "language": "spiral"
    },
    "polyglot_notebook": {
     "kernelName": "spiral"
    }
   },
   "outputs": [
    {
     "name": "stdout",
     "output_type": "stream",
     "text": [
      "type UH0 =\n",
      "    | UH0_0 of int32 * (unit -> UH0)\n",
      "    | UH0_1\n",
      "and [<Struct>] US0 =\n",
      "    | US0_0 of f0_0 : UH0\n",
      "    | US0_1 of f1_0 : (unit -> UH0)\n",
      "and Mut0 = {mutable l0 : US0}\n",
      "let rec closure6 () () : UH0 =\n",
      "    UH0_1\n",
      "and closure5 () () : UH0 =\n",
      "    printfn $\"el {5}\"\n",
      "    let v0 : (unit -> UH0) = closure6()\n",
      "    UH0_0(5, v0)\n",
      "and closure4 () () : UH0 =\n",
      "    printfn $\"el {4}\"\n",
      "    let v0 : (unit -> UH0) = closure5()\n",
      "    UH0_0(4, v0)\n",
      "and closure3 () () : UH0 =\n",
      "    printfn $\"el {3}\"\n",
      "    let v0 : (unit -> UH0) = closure4()\n",
      "    UH0_0(3, v0)\n",
      "and closure2 () () : UH0 =\n",
      "    printfn $\"el {2}\"\n",
      "    let v0 : (unit -> UH0) = closure3()\n",
      "    UH0_0(2, v0)\n",
      "and closure1 () () : UH0 =\n",
      "    printfn $\"el {1}\"\n",
      "    let v0 : (unit -> UH0) = closure2()\n",
      "    UH0_0(1, v0)\n",
      "and closure0 () () : UH0 =\n",
      "    let v0 : (unit -> UH0) = closure1()\n",
      "    UH0_0(0, v0)\n",
      "and closure7 (v0 : UH0) () : UH0 =\n",
      "    v0\n",
      "and closure8 (v0 : Mut0) () : UH0 =\n",
      "    let v1 : US0 = v0.l0\n",
      "    match v1 with\n",
      "    | US0_0(v2) -> (* Computed *)\n",
      "        v2\n",
      "    | US0_1(v3) -> (* NotComputed *)\n",
      "        let v4 : UH0 = v3 ()\n",
      "        let v15 : UH0 =\n",
      "            match v4 with\n",
      "            | UH0_0(v6, v7) -> (* LazyCons *)\n",
      "                let v8 : UH0 = v7 ()\n",
      "                let v9 : (unit -> UH0) = closure7(v8)\n",
      "                let v10 : US0 = US0_1(v9)\n",
      "                let v11 : Mut0 = {l0 = v10} : Mut0\n",
      "                let v12 : (unit -> UH0) = closure8(v11)\n",
      "                UH0_0(v6, v12)\n",
      "            | UH0_1 -> (* LazyNil *)\n",
      "                UH0_1\n",
      "        let v16 : US0 = US0_0(v15)\n",
      "        v0.l0 <- v16\n",
      "        v15\n",
      "and method0 () : unit =\n",
      "    printfn $\"el {0}\"\n",
      "    let v0 : (unit -> UH0) = closure0()\n",
      "    let v1 : US0 = US0_1(v0)\n",
      "    let v2 : Mut0 = {l0 = v1} : Mut0\n",
      "    let v3 : US0 = v2.l0\n",
      "    let v20 : UH0 =\n",
      "        match v3 with\n",
      "        | US0_0(v4) -> (* Computed *)\n",
      "            v4\n",
      "        | US0_1(v5) -> (* NotComputed *)\n",
      "            let v6 : UH0 = v5 ()\n",
      "            let v17 : UH0 =\n",
      "                match v6 with\n",
      "                | UH0_0(v8, v9) -> (* LazyCons *)\n",
      "                    let v10 : UH0 = v9 ()\n",
      "                    let v11 : (unit -> UH0) = closure7(v10)\n",
      "                    let v12 : US0 = US0_1(v11)\n",
      "                    let v13 : Mut0 = {l0 = v12} : Mut0\n",
      "                    let v14 : (unit -> UH0) = closure8(v13)\n",
      "                    UH0_0(v8, v14)\n",
      "                | UH0_1 -> (* LazyNil *)\n",
      "                    UH0_1\n",
      "            let v18 : US0 = US0_0(v17)\n",
      "            v2.l0 <- v18\n",
      "            v17\n",
      "    let v43 : int32 =\n",
      "        match v20 with\n",
      "        | UH0_0(v21, v22) -> (* LazyCons *)\n",
      "            let v23 : UH0 = v22 ()\n",
      "            match v23 with\n",
      "            | UH0_0(v24, v25) -> (* LazyCons *)\n",
      "                let v26 : UH0 = v25 ()\n",
      "                match v26 with\n",
      "                | UH0_0(v27, v28) -> (* LazyCons *)\n",
      "                    let v29 : UH0 = v28 ()\n",
      "                    match v29 with\n",
      "                    | UH0_0(v30, v31) -> (* LazyCons *)\n",
      "                        v30\n",
      "                    | UH0_1 -> (* LazyNil *)\n",
      "                        failwith<int32> \"list_item: index out of bounds\"\n",
      "                | UH0_1 -> (* LazyNil *)\n",
      "                    failwith<int32> \"list_item: index out of bounds\"\n",
      "            | UH0_1 -> (* LazyNil *)\n",
      "                failwith<int32> \"list_item: index out of bounds\"\n",
      "        | UH0_1 -> (* LazyNil *)\n",
      "            failwith<int32> \"list_item: index out of bounds\"\n",
      "    let v44 : bool = v43 = 3\n",
      "    let v45 : string = $\"_equal / actual: {v43} / expected: {3}\"\n",
      "    let v46 : bool = v44 = false\n",
      "    if v46 then\n",
      "        failwith<unit> v45\n",
      "    let v47 : US0 = v2.l0\n",
      "    let v64 : UH0 =\n",
      "        match v47 with\n",
      "        | US0_0(v48) -> (* Computed *)\n",
      "            v48\n",
      "        | US0_1(v49) -> (* NotComputed *)\n",
      "            let v50 : UH0 = v49 ()\n",
      "            let v61 : UH0 =\n",
      "                match v50 with\n",
      "                | UH0_0(v52, v53) -> (* LazyCons *)\n",
      "                    let v54 : UH0 = v53 ()\n",
      "                    let v55 : (unit -> UH0) = closure7(v54)\n",
      "                    let v56 : US0 = US0_1(v55)\n",
      "                    let v57 : Mut0 = {l0 = v56} : Mut0\n",
      "                    let v58 : (unit -> UH0) = closure8(v57)\n",
      "                    UH0_0(v52, v58)\n",
      "                | UH0_1 -> (* LazyNil *)\n",
      "                    UH0_1\n",
      "            let v62 : US0 = US0_0(v61)\n",
      "            v2.l0 <- v62\n",
      "            v61\n",
      "    let v99 : int32 =\n",
      "        match v64 with\n",
      "        | UH0_0(v65, v66) -> (* LazyCons *)\n",
      "            let v67 : UH0 = v66 ()\n",
      "            match v67 with\n",
      "            | UH0_0(v68, v69) -> (* LazyCons *)\n",
      "                let v70 : UH0 = v69 ()\n",
      "                match v70 with\n",
      "                | UH0_0(v71, v72) -> (* LazyCons *)\n",
      "                    let v73 : UH0 = v72 ()\n",
      "                    match v73 with\n",
      "                    | UH0_0(v74, v75) -> (* LazyCons *)\n",
      "                        let v76 : UH0 = v75 ()\n",
      "                        match v76 with\n",
      "                        | UH0_0(v77, v78) -> (* LazyCons *)\n",
      "                            let v79 : UH0 = v78 ()\n",
      "                            match v79 with\n",
      "                            | UH0_0(v80, v81) -> (* LazyCons *)\n",
      "                                v80\n",
      "                            | UH0_1 -> (* LazyNil *)\n",
      "                                failwith<int32> \"list_item: index out of bounds\"\n",
      "                        | UH0_1 -> (* LazyNil *)\n",
      "                            failwith<int32> \"list_item: index out of bounds\"\n",
      "                    | UH0_1 -> (* LazyNil *)\n",
      "                        failwith<int32> \"list_item: index out of bounds\"\n",
      "                | UH0_1 -> (* LazyNil *)\n",
      "                    failwith<int32> \"list_item: index out of bounds\"\n",
      "            | UH0_1 -> (* LazyNil *)\n",
      "                failwith<int32> \"list_item: index out of bounds\"\n",
      "        | UH0_1 -> (* LazyNil *)\n",
      "            failwith<int32> \"list_item: index out of bounds\"\n",
      "    let v100 : bool = v99 = 5\n",
      "    let v101 : string = $\"_equal / actual: {v99} / expected: {5}\"\n",
      "    let v102 : bool = v100 = false\n",
      "    if v102 then\n",
      "        failwith<unit> v101\n",
      "method0()\n",
      "\r\n",
      "el 0\r\n",
      "el 1\r\n",
      "el 2\r\n",
      "el 3\r\n",
      "el 4\r\n",
      "el 5\r\n"
     ]
    }
   ],
   "source": [
    "// // test\n",
    "\n",
    "inl list_memo = finite_lazy_list () |> memoize_lazy_list\n",
    "\n",
    "list_memo ()\n",
    "|> lazy_list_item 3i32\n",
    "|> _equal 3i32\n",
    "\n",
    "list_memo ()\n",
    "|> lazy_list_item 5i32\n",
    "|> _equal 5i32"
   ]
  },
  {
   "cell_type": "markdown",
   "metadata": {},
   "source": [
    "### memoize_lazy_list'"
   ]
  },
  {
   "cell_type": "code",
   "execution_count": null,
   "metadata": {
    "dotnet_interactive": {
     "language": "spiral"
    },
    "polyglot_notebook": {
     "kernelName": "spiral"
    }
   },
   "outputs": [
    {
     "name": "stdout",
     "output_type": "stream",
     "text": [
      "()\n",
      "\r\n"
     ]
    }
   ],
   "source": [
    "inl rec memoize_lazy_list' lazy_list =\n",
    "    match lazy_list with\n",
    "    | LazyNil => fun () => LazyNil\n",
    "    | LazyCons (x, fn) =>\n",
    "        inl cache = mut None\n",
    "        fun () =>\n",
    "            match *cache with\n",
    "            | Some v => v\n",
    "            | None =>\n",
    "                inl next = memoize_lazy_list' (fn ())\n",
    "                inl value = LazyCons (x, next)\n",
    "                cache <- Some value\n",
    "                value"
   ]
  },
  {
   "cell_type": "code",
   "execution_count": null,
   "metadata": {
    "dotnet_interactive": {
     "language": "spiral"
    },
    "polyglot_notebook": {
     "kernelName": "spiral"
    }
   },
   "outputs": [
    {
     "name": "stdout",
     "output_type": "stream",
     "text": [
      "type UH0 =\n",
      "    | UH0_0 of int32 * (unit -> UH0)\n",
      "    | UH0_1\n",
      "and [<Struct>] US0 =\n",
      "    | US0_0\n",
      "    | US0_1 of f1_0 : UH0\n",
      "and Mut0 = {mutable l0 : US0}\n",
      "let rec closure5 () () : UH0 =\n",
      "    UH0_1\n",
      "and closure4 (v0 : Mut0) () : UH0 =\n",
      "    let v1 : US0 = v0.l0\n",
      "    match v1 with\n",
      "    | US0_0 -> (* None *)\n",
      "        let v3 : (unit -> UH0) = closure5()\n",
      "        let v4 : UH0 = UH0_0(5, v3)\n",
      "        let v5 : US0 = US0_1(v4)\n",
      "        v0.l0 <- v5\n",
      "        UH0_0(5, v3)\n",
      "    | US0_1(v2) -> (* Some *)\n",
      "        v2\n",
      "and closure3 (v0 : Mut0) () : UH0 =\n",
      "    let v1 : US0 = v0.l0\n",
      "    match v1 with\n",
      "    | US0_0 -> (* None *)\n",
      "        printfn $\"el {5}\"\n",
      "        let v3 : US0 = US0_0\n",
      "        let v4 : Mut0 = {l0 = v3} : Mut0\n",
      "        let v5 : (unit -> UH0) = closure4(v4)\n",
      "        let v6 : UH0 = UH0_0(4, v5)\n",
      "        let v7 : US0 = US0_1(v6)\n",
      "        v0.l0 <- v7\n",
      "        UH0_0(4, v5)\n",
      "    | US0_1(v2) -> (* Some *)\n",
      "        v2\n",
      "and closure2 (v0 : Mut0) () : UH0 =\n",
      "    let v1 : US0 = v0.l0\n",
      "    match v1 with\n",
      "    | US0_0 -> (* None *)\n",
      "        printfn $\"el {4}\"\n",
      "        let v3 : US0 = US0_0\n",
      "        let v4 : Mut0 = {l0 = v3} : Mut0\n",
      "        let v5 : (unit -> UH0) = closure3(v4)\n",
      "        let v6 : UH0 = UH0_0(3, v5)\n",
      "        let v7 : US0 = US0_1(v6)\n",
      "        v0.l0 <- v7\n",
      "        UH0_0(3, v5)\n",
      "    | US0_1(v2) -> (* Some *)\n",
      "        v2\n",
      "and closure1 (v0 : Mut0) () : UH0 =\n",
      "    let v1 : US0 = v0.l0\n",
      "    match v1 with\n",
      "    | US0_0 -> (* None *)\n",
      "        printfn $\"el {3}\"\n",
      "        let v3 : US0 = US0_0\n",
      "        let v4 : Mut0 = {l0 = v3} : Mut0\n",
      "        let v5 : (unit -> UH0) = closure2(v4)\n",
      "        let v6 : UH0 = UH0_0(2, v5)\n",
      "        let v7 : US0 = US0_1(v6)\n",
      "        v0.l0 <- v7\n",
      "        UH0_0(2, v5)\n",
      "    | US0_1(v2) -> (* Some *)\n",
      "        v2\n",
      "and closure0 (v0 : Mut0) () : UH0 =\n",
      "    let v1 : US0 = v0.l0\n",
      "    match v1 with\n",
      "    | US0_0 -> (* None *)\n",
      "        printfn $\"el {2}\"\n",
      "        let v3 : US0 = US0_0\n",
      "        let v4 : Mut0 = {l0 = v3} : Mut0\n",
      "        let v5 : (unit -> UH0) = closure1(v4)\n",
      "        let v6 : UH0 = UH0_0(1, v5)\n",
      "        let v7 : US0 = US0_1(v6)\n",
      "        v0.l0 <- v7\n",
      "        UH0_0(1, v5)\n",
      "    | US0_1(v2) -> (* Some *)\n",
      "        v2\n",
      "and method0 () : unit =\n",
      "    printfn $\"el {0}\"\n",
      "    let v0 : US0 = US0_0\n",
      "    let v1 : Mut0 = {l0 = v0} : Mut0\n",
      "    let v2 : US0 = v1.l0\n",
      "    let v11 : UH0 =\n",
      "        match v2 with\n",
      "        | US0_0 -> (* None *)\n",
      "            printfn $\"el {1}\"\n",
      "            let v4 : US0 = US0_0\n",
      "            let v5 : Mut0 = {l0 = v4} : Mut0\n",
      "            let v6 : (unit -> UH0) = closure0(v5)\n",
      "            let v7 : UH0 = UH0_0(0, v6)\n",
      "            let v8 : US0 = US0_1(v7)\n",
      "            v1.l0 <- v8\n",
      "            UH0_0(0, v6)\n",
      "        | US0_1(v3) -> (* Some *)\n",
      "            v3\n",
      "    let v34 : int32 =\n",
      "        match v11 with\n",
      "        | UH0_0(v12, v13) -> (* LazyCons *)\n",
      "            let v14 : UH0 = v13 ()\n",
      "            match v14 with\n",
      "            | UH0_0(v15, v16) -> (* LazyCons *)\n",
      "                let v17 : UH0 = v16 ()\n",
      "                match v17 with\n",
      "                | UH0_0(v18, v19) -> (* LazyCons *)\n",
      "                    let v20 : UH0 = v19 ()\n",
      "                    match v20 with\n",
      "                    | UH0_0(v21, v22) -> (* LazyCons *)\n",
      "                        v21\n",
      "                    | UH0_1 -> (* LazyNil *)\n",
      "                        failwith<int32> \"list_item: index out of bounds\"\n",
      "                | UH0_1 -> (* LazyNil *)\n",
      "                    failwith<int32> \"list_item: index out of bounds\"\n",
      "            | UH0_1 -> (* LazyNil *)\n",
      "                failwith<int32> \"list_item: index out of bounds\"\n",
      "        | UH0_1 -> (* LazyNil *)\n",
      "            failwith<int32> \"list_item: index out of bounds\"\n",
      "    let v35 : bool = v34 = 3\n",
      "    let v36 : string = $\"_equal / actual: {v34} / expected: {3}\"\n",
      "    let v37 : bool = v35 = false\n",
      "    if v37 then\n",
      "        failwith<unit> v36\n",
      "    let v38 : US0 = v1.l0\n",
      "    let v47 : UH0 =\n",
      "        match v38 with\n",
      "        | US0_0 -> (* None *)\n",
      "            printfn $\"el {1}\"\n",
      "            let v40 : US0 = US0_0\n",
      "            let v41 : Mut0 = {l0 = v40} : Mut0\n",
      "            let v42 : (unit -> UH0) = closure0(v41)\n",
      "            let v43 : UH0 = UH0_0(0, v42)\n",
      "            let v44 : US0 = US0_1(v43)\n",
      "            v1.l0 <- v44\n",
      "            UH0_0(0, v42)\n",
      "        | US0_1(v39) -> (* Some *)\n",
      "            v39\n",
      "    let v82 : int32 =\n",
      "        match v47 with\n",
      "        | UH0_0(v48, v49) -> (* LazyCons *)\n",
      "            let v50 : UH0 = v49 ()\n",
      "            match v50 with\n",
      "            | UH0_0(v51, v52) -> (* LazyCons *)\n",
      "                let v53 : UH0 = v52 ()\n",
      "                match v53 with\n",
      "                | UH0_0(v54, v55) -> (* LazyCons *)\n",
      "                    let v56 : UH0 = v55 ()\n",
      "                    match v56 with\n",
      "                    | UH0_0(v57, v58) -> (* LazyCons *)\n",
      "                        let v59 : UH0 = v58 ()\n",
      "                        match v59 with\n",
      "                        | UH0_0(v60, v61) -> (* LazyCons *)\n",
      "                            let v62 : UH0 = v61 ()\n",
      "                            match v62 with\n",
      "                            | UH0_0(v63, v64) -> (* LazyCons *)\n",
      "                                v63\n",
      "                            | UH0_1 -> (* LazyNil *)\n",
      "                                failwith<int32> \"list_item: index out of bounds\"\n",
      "                        | UH0_1 -> (* LazyNil *)\n",
      "                            failwith<int32> \"list_item: index out of bounds\"\n",
      "                    | UH0_1 -> (* LazyNil *)\n",
      "                        failwith<int32> \"list_item: index out of bounds\"\n",
      "                | UH0_1 -> (* LazyNil *)\n",
      "                    failwith<int32> \"list_item: index out of bounds\"\n",
      "            | UH0_1 -> (* LazyNil *)\n",
      "                failwith<int32> \"list_item: index out of bounds\"\n",
      "        | UH0_1 -> (* LazyNil *)\n",
      "            failwith<int32> \"list_item: index out of bounds\"\n",
      "    let v83 : bool = v82 = 5\n",
      "    let v84 : string = $\"_equal / actual: {v82} / expected: {5}\"\n",
      "    let v85 : bool = v83 = false\n",
      "    if v85 then\n",
      "        failwith<unit> v84\n",
      "method0()\n",
      "\r\n",
      "el 0\r\n",
      "el 1\r\n",
      "el 2\r\n",
      "el 3\r\n",
      "el 4\r\n",
      "el 5\r\n"
     ]
    }
   ],
   "source": [
    "// // test\n",
    "\n",
    "inl list_memo = finite_lazy_list () |> memoize_lazy_list'\n",
    "\n",
    "list_memo ()\n",
    "|> lazy_list_item 3i32\n",
    "|> _equal 3i32\n",
    "\n",
    "list_memo ()\n",
    "|> lazy_list_item 5i32\n",
    "|> _equal 5i32"
   ]
  },
  {
   "cell_type": "markdown",
   "metadata": {},
   "source": [
    "### list_sum"
   ]
  },
  {
   "cell_type": "code",
   "execution_count": null,
   "metadata": {
    "dotnet_interactive": {
     "language": "spiral"
    },
    "polyglot_notebook": {
     "kernelName": "spiral"
    }
   },
   "outputs": [
    {
     "name": "stdout",
     "output_type": "stream",
     "text": [
      "()\n",
      "\r\n"
     ]
    }
   ],
   "source": [
    "inl list_sum list =\n",
    "    list |> listm.fold (+) 0"
   ]
  },
  {
   "cell_type": "code",
   "execution_count": null,
   "metadata": {
    "dotnet_interactive": {
     "language": "spiral"
    },
    "polyglot_notebook": {
     "kernelName": "spiral"
    }
   },
   "outputs": [
    {
     "name": "stdout",
     "output_type": "stream",
     "text": [
      "let rec method0 () : unit =\n",
      "    let v0 : string = $\"_equal / actual: {45} / expected: {45}\"\n",
      "    ()\n",
      "method0()\n",
      "\r\n"
     ]
    }
   ],
   "source": [
    "// // test\n",
    "\n",
    "listm.init 10i32 id\n",
    "|> list_sum\n",
    "|> _equal 45"
   ]
  },
  {
   "cell_type": "markdown",
   "metadata": {},
   "source": [
    "### list_take_while"
   ]
  },
  {
   "cell_type": "code",
   "execution_count": null,
   "metadata": {
    "dotnet_interactive": {
     "language": "spiral"
    },
    "polyglot_notebook": {
     "kernelName": "spiral"
    }
   },
   "outputs": [
    {
     "name": "stdout",
     "output_type": "stream",
     "text": [
      "()\n",
      "\r\n"
     ]
    }
   ],
   "source": [
    "inl list_take_while cond sts =\n",
    "    let rec loop acc i =\n",
    "        inl st = sts i\n",
    "        if cond st\n",
    "        then loop (st :: acc) (i + 1)\n",
    "        else acc |> listm.rev\n",
    "    loop [] 0i32"
   ]
  },
  {
   "cell_type": "code",
   "execution_count": null,
   "metadata": {
    "dotnet_interactive": {
     "language": "spiral"
    },
    "polyglot_notebook": {
     "kernelName": "spiral"
    }
   },
   "outputs": [
    {
     "name": "stdout",
     "output_type": "stream",
     "text": [
      "type UH0 =\n",
      "    | UH0_0 of int32 * UH0\n",
      "    | UH0_1\n",
      "let rec method2 (v0 : UH0, v1 : UH0) : UH0 =\n",
      "    match v0 with\n",
      "    | UH0_0(v2, v3) -> (* Cons *)\n",
      "        let v4 : UH0 = UH0_0(v2, v1)\n",
      "        method2(v3, v4)\n",
      "    | UH0_1 -> (* Nil *)\n",
      "        v1\n",
      "and method1 (v0 : UH0, v1 : int32) : UH0 =\n",
      "    let v2 : bool = v1 = 0\n",
      "    let v32 : int32 =\n",
      "        if v2 then\n",
      "            0\n",
      "        else\n",
      "            let v3 : int32 = v1 - 1\n",
      "            let v4 : bool = v3 = 0\n",
      "            if v4 then\n",
      "                1\n",
      "            else\n",
      "                let v5 : int32 = v3 - 1\n",
      "                let v6 : bool = v5 = 0\n",
      "                if v6 then\n",
      "                    2\n",
      "                else\n",
      "                    let v7 : int32 = v5 - 1\n",
      "                    let v8 : bool = v7 = 0\n",
      "                    if v8 then\n",
      "                        3\n",
      "                    else\n",
      "                        let v9 : int32 = v7 - 1\n",
      "                        let v10 : bool = v9 = 0\n",
      "                        if v10 then\n",
      "                            4\n",
      "                        else\n",
      "                            let v11 : int32 = v9 - 1\n",
      "                            let v12 : bool = v11 = 0\n",
      "                            if v12 then\n",
      "                                5\n",
      "                            else\n",
      "                                let v13 : int32 = v11 - 1\n",
      "                                let v14 : bool = v13 = 0\n",
      "                                if v14 then\n",
      "                                    6\n",
      "                                else\n",
      "                                    let v15 : int32 = v13 - 1\n",
      "                                    let v16 : bool = v15 = 0\n",
      "                                    if v16 then\n",
      "                                        7\n",
      "                                    else\n",
      "                                        let v17 : int32 = v15 - 1\n",
      "                                        let v18 : bool = v17 = 0\n",
      "                                        if v18 then\n",
      "                                            8\n",
      "                                        else\n",
      "                                            let v19 : int32 = v17 - 1\n",
      "                                            let v20 : bool = v19 = 0\n",
      "                                            if v20 then\n",
      "                                                9\n",
      "                                            else\n",
      "                                                let v21 : int32 = v19 - 1\n",
      "                                                failwith<int32> \"list_item: index out of bounds\"\n",
      "    let v33 : bool = v32 < 5\n",
      "    if v33 then\n",
      "        let v34 : UH0 = UH0_0(v32, v0)\n",
      "        let v35 : int32 = v1 + 1\n",
      "        method1(v34, v35)\n",
      "    else\n",
      "        let v37 : UH0 = UH0_1\n",
      "        method2(v0, v37)\n",
      "and method3 (v0 : UH0, v1 : int32) : int32 =\n",
      "    match v0 with\n",
      "    | UH0_0(v2, v3) -> (* Cons *)\n",
      "        let v4 : int32 = v1 + v2\n",
      "        method3(v3, v4)\n",
      "    | UH0_1 -> (* Nil *)\n",
      "        v1\n",
      "and method0 () : unit =\n",
      "    let v0 : UH0 = UH0_1\n",
      "    let v1 : int32 = 0\n",
      "    let v2 : UH0 = method1(v0, v1)\n",
      "    let v3 : int32 = 0\n",
      "    let v4 : int32 = method3(v2, v3)\n",
      "    let v5 : bool = v4 = 10\n",
      "    let v6 : string = $\"_equal / actual: {v4} / expected: {10}\"\n",
      "    let v7 : bool = v5 = false\n",
      "    if v7 then\n",
      "        failwith<unit> v6\n",
      "method0()\n",
      "\r\n"
     ]
    }
   ],
   "source": [
    "// // test\n",
    "\n",
    "listm.init 10i32 id\n",
    "|> lazy_list\n",
    "|> fun list =>\n",
    "    fun n =>\n",
    "        list |> lazy_list_item n\n",
    "|> list_take_while (fun n => n < 5)\n",
    "|> list_sum\n",
    "|> _equal 10"
   ]
  },
  {
   "cell_type": "code",
   "execution_count": null,
   "metadata": {
    "dotnet_interactive": {
     "language": "spiral"
    },
    "polyglot_notebook": {
     "kernelName": "spiral"
    }
   },
   "outputs": [
    {
     "name": "stdout",
     "output_type": "stream",
     "text": [
      "()\n",
      "\r\n"
     ]
    }
   ],
   "source": [
    "inl list_take_while_ cond sts =\n",
    "    inl rec loop acc i =\n",
    "        inl st = sts i\n",
    "        if cond st\n",
    "        then loop (st :: acc) (i + 1)\n",
    "        else acc |> listm.rev\n",
    "    loop [] 0i32"
   ]
  },
  {
   "cell_type": "code",
   "execution_count": null,
   "metadata": {
    "dotnet_interactive": {
     "language": "spiral"
    },
    "polyglot_notebook": {
     "kernelName": "spiral"
    }
   },
   "outputs": [
    {
     "name": "stdout",
     "output_type": "stream",
     "text": [
      "let rec method0 () : unit =\n",
      "    let v0 : string = $\"_equal / actual: {10} / expected: {10}\"\n",
      "    ()\n",
      "method0()\n",
      "\r\n"
     ]
    }
   ],
   "source": [
    "// // test\n",
    "\n",
    "listm.init 10i32 id\n",
    "|> lazy_list\n",
    "|> fun list =>\n",
    "    fun n =>\n",
    "        list |> lazy_list_item n\n",
    "|> list_take_while_ (fun n => n < 5)\n",
    "|> list_sum\n",
    "|> _equal 10"
   ]
  },
  {
   "cell_type": "markdown",
   "metadata": {},
   "source": [
    "### list_take_while'"
   ]
  },
  {
   "cell_type": "code",
   "execution_count": null,
   "metadata": {
    "dotnet_interactive": {
     "language": "spiral"
    },
    "polyglot_notebook": {
     "kernelName": "spiral"
    }
   },
   "outputs": [
    {
     "name": "stdout",
     "output_type": "stream",
     "text": [
      "()\n",
      "\r\n"
     ]
    }
   ],
   "source": [
    "inl list_take_while' cond sts =\n",
    "    inl result = mut []\n",
    "    inl i = mut 0i32\n",
    "    let rec loop () =\n",
    "        inl st = sts *i\n",
    "        if cond st then\n",
    "            result <- st :: *result\n",
    "            i <- *i + 1\n",
    "            loop ()\n",
    "        else *result |> listm.rev\n",
    "    loop ()"
   ]
  },
  {
   "cell_type": "code",
   "execution_count": null,
   "metadata": {
    "dotnet_interactive": {
     "language": "spiral"
    },
    "polyglot_notebook": {
     "kernelName": "spiral"
    }
   },
   "outputs": [
    {
     "name": "stdout",
     "output_type": "stream",
     "text": [
      "type UH0 =\n",
      "    | UH0_0 of int32 * UH0\n",
      "    | UH0_1\n",
      "and Mut0 = {mutable l0 : UH0}\n",
      "and Mut1 = {mutable l0 : int32}\n",
      "let rec method2 (v0 : UH0, v1 : UH0) : UH0 =\n",
      "    match v0 with\n",
      "    | UH0_0(v2, v3) -> (* Cons *)\n",
      "        let v4 : UH0 = UH0_0(v2, v1)\n",
      "        method2(v3, v4)\n",
      "    | UH0_1 -> (* Nil *)\n",
      "        v1\n",
      "and method1 (v0 : Mut0, v1 : Mut1) : UH0 =\n",
      "    let v2 : int32 = v1.l0\n",
      "    let v3 : bool = v2 = 0\n",
      "    let v33 : int32 =\n",
      "        if v3 then\n",
      "            0\n",
      "        else\n",
      "            let v4 : int32 = v2 - 1\n",
      "            let v5 : bool = v4 = 0\n",
      "            if v5 then\n",
      "                1\n",
      "            else\n",
      "                let v6 : int32 = v4 - 1\n",
      "                let v7 : bool = v6 = 0\n",
      "                if v7 then\n",
      "                    2\n",
      "                else\n",
      "                    let v8 : int32 = v6 - 1\n",
      "                    let v9 : bool = v8 = 0\n",
      "                    if v9 then\n",
      "                        3\n",
      "                    else\n",
      "                        let v10 : int32 = v8 - 1\n",
      "                        let v11 : bool = v10 = 0\n",
      "                        if v11 then\n",
      "                            4\n",
      "                        else\n",
      "                            let v12 : int32 = v10 - 1\n",
      "                            let v13 : bool = v12 = 0\n",
      "                            if v13 then\n",
      "                                5\n",
      "                            else\n",
      "                                let v14 : int32 = v12 - 1\n",
      "                                let v15 : bool = v14 = 0\n",
      "                                if v15 then\n",
      "                                    6\n",
      "                                else\n",
      "                                    let v16 : int32 = v14 - 1\n",
      "                                    let v17 : bool = v16 = 0\n",
      "                                    if v17 then\n",
      "                                        7\n",
      "                                    else\n",
      "                                        let v18 : int32 = v16 - 1\n",
      "                                        let v19 : bool = v18 = 0\n",
      "                                        if v19 then\n",
      "                                            8\n",
      "                                        else\n",
      "                                            let v20 : int32 = v18 - 1\n",
      "                                            let v21 : bool = v20 = 0\n",
      "                                            if v21 then\n",
      "                                                9\n",
      "                                            else\n",
      "                                                let v22 : int32 = v20 - 1\n",
      "                                                failwith<int32> \"list_item: index out of bounds\"\n",
      "    let v34 : bool = v33 < 5\n",
      "    if v34 then\n",
      "        let v35 : UH0 = v0.l0\n",
      "        let v36 : UH0 = UH0_0(v33, v35)\n",
      "        v0.l0 <- v36\n",
      "        let v37 : int32 = v1.l0\n",
      "        let v38 : int32 = v37 + 1\n",
      "        v1.l0 <- v38\n",
      "        method1(v0, v1)\n",
      "    else\n",
      "        let v40 : UH0 = v0.l0\n",
      "        let v41 : UH0 = UH0_1\n",
      "        method2(v40, v41)\n",
      "and method3 (v0 : UH0, v1 : int32) : int32 =\n",
      "    match v0 with\n",
      "    | UH0_0(v2, v3) -> (* Cons *)\n",
      "        let v4 : int32 = v1 + v2\n",
      "        method3(v3, v4)\n",
      "    | UH0_1 -> (* Nil *)\n",
      "        v1\n",
      "and method0 () : unit =\n",
      "    let v0 : UH0 = UH0_1\n",
      "    let v1 : Mut0 = {l0 = v0} : Mut0\n",
      "    let v2 : Mut1 = {l0 = 0} : Mut1\n",
      "    let v3 : UH0 = method1(v1, v2)\n",
      "    let v4 : int32 = 0\n",
      "    let v5 : int32 = method3(v3, v4)\n",
      "    let v6 : bool = v5 = 10\n",
      "    let v7 : string = $\"_equal / actual: {v5} / expected: {10}\"\n",
      "    let v8 : bool = v6 = false\n",
      "    if v8 then\n",
      "        failwith<unit> v7\n",
      "method0()\n",
      "\r\n"
     ]
    }
   ],
   "source": [
    "// // test\n",
    "\n",
    "listm.init 10i32 id\n",
    "|> lazy_list\n",
    "|> fun list =>\n",
    "    fun n =>\n",
    "        list |> lazy_list_item n\n",
    "|> list_take_while' (fun n => n < 5)\n",
    "|> list_sum\n",
    "|> _equal 10"
   ]
  },
  {
   "cell_type": "markdown",
   "metadata": {},
   "source": [
    "### list_take_while''"
   ]
  },
  {
   "cell_type": "code",
   "execution_count": null,
   "metadata": {
    "dotnet_interactive": {
     "language": "spiral"
    },
    "polyglot_notebook": {
     "kernelName": "spiral"
    }
   },
   "outputs": [
    {
     "name": "stdout",
     "output_type": "stream",
     "text": [
      "()\n",
      "\r\n"
     ]
    }
   ],
   "source": [
    "inl list_take_while'' forall t. (cond : t -> bool) (sts : i32 -> t) : list t =\n",
    "    real\n",
    "        inl rec loop acc i =\n",
    "            inl st = sts i\n",
    "            if cond st\n",
    "            then loop ((::) `t st acc) ((+) `i32 i 1i32)\n",
    "            else listm.rev `t acc\n",
    "        loop (Nil `t) 0"
   ]
  },
  {
   "cell_type": "code",
   "execution_count": null,
   "metadata": {
    "dotnet_interactive": {
     "language": "spiral"
    },
    "polyglot_notebook": {
     "kernelName": "spiral"
    }
   },
   "outputs": [
    {
     "name": "stdout",
     "output_type": "stream",
     "text": [
      "let rec method0 () : unit =\n",
      "    let v0 : string = $\"_equal / actual: {10} / expected: {10}\"\n",
      "    ()\n",
      "method0()\n",
      "\r\n"
     ]
    }
   ],
   "source": [
    "// // test\n",
    "\n",
    "listm.init 10i32 id\n",
    "|> lazy_list\n",
    "|> fun list =>\n",
    "    fun n =>\n",
    "        list |> lazy_list_item n\n",
    "|> list_take_while'' (fun n => n < 5)\n",
    "|> list_sum\n",
    "|> _equal 10"
   ]
  },
  {
   "cell_type": "code",
   "execution_count": null,
   "metadata": {
    "dotnet_interactive": {
     "language": "spiral"
    },
    "polyglot_notebook": {
     "kernelName": "spiral"
    }
   },
   "outputs": [
    {
     "name": "stdout",
     "output_type": "stream",
     "text": [
      "()\n",
      "\r\n"
     ]
    }
   ],
   "source": [
    "inl list_take_while''_ forall t. (cond : t -> bool) (sts : i32 -> t) : list t =\n",
    "    real\n",
    "        inl rec loop acc i =\n",
    "            inl st = sts i\n",
    "            if cond st\n",
    "            then join loop ((::) `t st acc) ((+) `i32 i 1i32)\n",
    "            else listm.rev `t acc\n",
    "        loop (Nil `t) 0"
   ]
  },
  {
   "cell_type": "code",
   "execution_count": null,
   "metadata": {
    "dotnet_interactive": {
     "language": "spiral"
    },
    "polyglot_notebook": {
     "kernelName": "spiral"
    }
   },
   "outputs": [
    {
     "name": "stdout",
     "output_type": "stream",
     "text": [
      "type UH0 =\n",
      "    | UH0_0 of int32 * UH0\n",
      "    | UH0_1\n",
      "let rec method5 () : UH0 =\n",
      "    let v0 : UH0 = UH0_1\n",
      "    let v1 : UH0 = UH0_0(4, v0)\n",
      "    let v2 : UH0 = UH0_0(3, v1)\n",
      "    let v3 : UH0 = UH0_0(2, v2)\n",
      "    let v4 : UH0 = UH0_0(1, v3)\n",
      "    UH0_0(0, v4)\n",
      "and method4 () : UH0 =\n",
      "    method5()\n",
      "and method3 () : UH0 =\n",
      "    method4()\n",
      "and method2 () : UH0 =\n",
      "    method3()\n",
      "and method1 () : UH0 =\n",
      "    method2()\n",
      "and method6 (v0 : UH0, v1 : int32) : int32 =\n",
      "    match v0 with\n",
      "    | UH0_0(v2, v3) -> (* Cons *)\n",
      "        let v4 : int32 = v1 + v2\n",
      "        method6(v3, v4)\n",
      "    | UH0_1 -> (* Nil *)\n",
      "        v1\n",
      "and method0 () : unit =\n",
      "    let v0 : UH0 = method1()\n",
      "    let v1 : int32 = 0\n",
      "    let v2 : int32 = method6(v0, v1)\n",
      "    let v3 : bool = v2 = 10\n",
      "    let v4 : string = $\"_equal / actual: {v2} / expected: {10}\"\n",
      "    let v5 : bool = v3 = false\n",
      "    if v5 then\n",
      "        failwith<unit> v4\n",
      "method0()\n",
      "\r\n"
     ]
    }
   ],
   "source": [
    "// // test\n",
    "\n",
    "listm.init 10i32 id\n",
    "|> lazy_list\n",
    "|> fun list =>\n",
    "    fun n =>\n",
    "        list |> lazy_list_item n\n",
    "|> list_take_while''_ (fun n => n < 5)\n",
    "|> list_sum\n",
    "|> _equal 10"
   ]
  },
  {
   "cell_type": "markdown",
   "metadata": {},
   "source": [
    "## a"
   ]
  },
  {
   "cell_type": "code",
   "execution_count": null,
   "metadata": {
    "dotnet_interactive": {
     "language": "spiral"
    },
    "polyglot_notebook": {
     "kernelName": "spiral"
    }
   },
   "outputs": [
    {
     "name": "stdout",
     "output_type": "stream",
     "text": [
      "()\n",
      "\r\n"
     ]
    }
   ],
   "source": [
    "inl a_sum (a' : a _ _) =\n",
    "    a' |> am.fold (+) 0"
   ]
  },
  {
   "cell_type": "code",
   "execution_count": null,
   "metadata": {
    "dotnet_interactive": {
     "language": "spiral"
    },
    "polyglot_notebook": {
     "kernelName": "spiral"
    }
   },
   "outputs": [
    {
     "name": "stdout",
     "output_type": "stream",
     "text": [
      "type Mut0 = {mutable l0 : int32}\n",
      "and Mut1 = {mutable l0 : int32; mutable l1 : int32}\n",
      "let rec method1 (v0 : Mut0) : bool =\n",
      "    let v1 : int32 = v0.l0\n",
      "    let v2 : bool = v1 < 10\n",
      "    v2\n",
      "and method2 (v0 : int32, v1 : Mut1) : bool =\n",
      "    let v2 : int32 = v1.l0\n",
      "    let v3 : bool = v2 < v0\n",
      "    v3\n",
      "and method0 () : unit =\n",
      "    let v0 : (int32 []) = Array.zeroCreate<int32> (10)\n",
      "    let v1 : Mut0 = {l0 = 0} : Mut0\n",
      "    while method1(v1) do\n",
      "        let v3 : int32 = v1.l0\n",
      "        v0.[int v3] <- v3\n",
      "        let v4 : int32 = v3 + 1\n",
      "        v1.l0 <- v4\n",
      "        ()\n",
      "    let v5 : int32 = v0.Length\n",
      "    let v6 : Mut1 = {l0 = 0; l1 = 0} : Mut1\n",
      "    while method2(v5, v6) do\n",
      "        let v8 : int32 = v6.l0\n",
      "        let v9 : int32 = v6.l1\n",
      "        let v10 : int32 = v0.[int v8]\n",
      "        let v11 : int32 = v9 + v10\n",
      "        let v12 : int32 = v8 + 1\n",
      "        v6.l0 <- v12\n",
      "        v6.l1 <- v11\n",
      "        ()\n",
      "    let v13 : int32 = v6.l1\n",
      "    let v14 : bool = v13 = 45\n",
      "    let v15 : string = $\"_equal / actual: {v13} / expected: {45}\"\n",
      "    let v16 : bool = v14 = false\n",
      "    if v16 then\n",
      "        failwith<unit> v15\n",
      "method0()\n",
      "\r\n"
     ]
    }
   ],
   "source": [
    "// // test\n",
    "\n",
    "am.init 10i32 id\n",
    "|> a_sum\n",
    "|> _equal 45"
   ]
  },
  {
   "cell_type": "markdown",
   "metadata": {},
   "source": [
    "## init_series"
   ]
  },
  {
   "cell_type": "code",
   "execution_count": null,
   "metadata": {
    "dotnet_interactive": {
     "language": "spiral"
    },
    "polyglot_notebook": {
     "kernelName": "spiral"
    }
   },
   "outputs": [
    {
     "name": "stdout",
     "output_type": "stream",
     "text": [
      "()\n",
      "\r\n"
     ]
    }
   ],
   "source": [
    "inl init_series start end inc =\n",
    "    inl total = conv ((end - start) / inc) + 1\n",
    "    am.init total (conv >> (*) inc >> (+) start) : a i32 _\n",
    "\n",
    "inl init_series' start end inc =\n",
    "    inl total : f64 = conv ((end - start) / inc) + 1\n",
    "    listm.init total (conv >> (*) inc >> (+) start)"
   ]
  },
  {
   "cell_type": "code",
   "execution_count": null,
   "metadata": {
    "dotnet_interactive": {
     "language": "spiral"
    },
    "polyglot_notebook": {
     "kernelName": "spiral"
    }
   },
   "outputs": [
    {
     "data": {
      "text/html": [
       "<svg width=\"640\" height=\"480\" viewBox=\"0 0 640 480\" xmlns=\"http://www.w3.org/2000/svg\">\n",
       "<rect x=\"0\" y=\"0\" width=\"640\" height=\"480\" opacity=\"1\" fill=\"#141414\" stroke=\"none\"/>\n",
       "<text x=\"320\" y=\"10\" dy=\"0.76em\" text-anchor=\"middle\" font-family=\"sans-serif\" font-size=\"9.67741935483871\" opacity=\"1\" fill=\"#FFFFFF\">\n",
       "square\n",
       "</text>\n",
       "<line opacity=\"1\" stroke=\"#323232\" stroke-width=\"1\" x1=\"55\" y1=\"424\" x2=\"55\" y2=\"75\"/>\n",
       "<line opacity=\"1\" stroke=\"#323232\" stroke-width=\"1\" x1=\"63\" y1=\"424\" x2=\"63\" y2=\"75\"/>\n",
       "<line opacity=\"1\" stroke=\"#323232\" stroke-width=\"1\" x1=\"72\" y1=\"424\" x2=\"72\" y2=\"75\"/>\n",
       "<line opacity=\"1\" stroke=\"#323232\" stroke-width=\"1\" x1=\"81\" y1=\"424\" x2=\"81\" y2=\"75\"/>\n",
       "<line opacity=\"1\" stroke=\"#323232\" stroke-width=\"1\" x1=\"90\" y1=\"424\" x2=\"90\" y2=\"75\"/>\n",
       "<line opacity=\"1\" stroke=\"#323232\" stroke-width=\"1\" x1=\"99\" y1=\"424\" x2=\"99\" y2=\"75\"/>\n",
       "<line opacity=\"1\" stroke=\"#323232\" stroke-width=\"1\" x1=\"107\" y1=\"424\" x2=\"107\" y2=\"75\"/>\n",
       "<line opacity=\"1\" stroke=\"#323232\" stroke-width=\"1\" x1=\"116\" y1=\"424\" x2=\"116\" y2=\"75\"/>\n",
       "<line opacity=\"1\" stroke=\"#323232\" stroke-width=\"1\" x1=\"125\" y1=\"424\" x2=\"125\" y2=\"75\"/>\n",
       "<line opacity=\"1\" stroke=\"#323232\" stroke-width=\"1\" x1=\"134\" y1=\"424\" x2=\"134\" y2=\"75\"/>\n",
       "<line opacity=\"1\" stroke=\"#323232\" stroke-width=\"1\" x1=\"143\" y1=\"424\" x2=\"143\" y2=\"75\"/>\n",
       "<line opacity=\"1\" stroke=\"#323232\" stroke-width=\"1\" x1=\"151\" y1=\"424\" x2=\"151\" y2=\"75\"/>\n",
       "<line opacity=\"1\" stroke=\"#323232\" stroke-width=\"1\" x1=\"160\" y1=\"424\" x2=\"160\" y2=\"75\"/>\n",
       "<line opacity=\"1\" stroke=\"#323232\" stroke-width=\"1\" x1=\"169\" y1=\"424\" x2=\"169\" y2=\"75\"/>\n",
       "<line opacity=\"1\" stroke=\"#323232\" stroke-width=\"1\" x1=\"178\" y1=\"424\" x2=\"178\" y2=\"75\"/>\n",
       "<line opacity=\"1\" stroke=\"#323232\" stroke-width=\"1\" x1=\"187\" y1=\"424\" x2=\"187\" y2=\"75\"/>\n",
       "<line opacity=\"1\" stroke=\"#323232\" stroke-width=\"1\" x1=\"196\" y1=\"424\" x2=\"196\" y2=\"75\"/>\n",
       "<line opacity=\"1\" stroke=\"#323232\" stroke-width=\"1\" x1=\"204\" y1=\"424\" x2=\"204\" y2=\"75\"/>\n",
       "<line opacity=\"1\" stroke=\"#323232\" stroke-width=\"1\" x1=\"213\" y1=\"424\" x2=\"213\" y2=\"75\"/>\n",
       "<line opacity=\"1\" stroke=\"#323232\" stroke-width=\"1\" x1=\"222\" y1=\"424\" x2=\"222\" y2=\"75\"/>\n",
       "<line opacity=\"1\" stroke=\"#323232\" stroke-width=\"1\" x1=\"231\" y1=\"424\" x2=\"231\" y2=\"75\"/>\n",
       "<line opacity=\"1\" stroke=\"#323232\" stroke-width=\"1\" x1=\"240\" y1=\"424\" x2=\"240\" y2=\"75\"/>\n",
       "<line opacity=\"1\" stroke=\"#323232\" stroke-width=\"1\" x1=\"248\" y1=\"424\" x2=\"248\" y2=\"75\"/>\n",
       "<line opacity=\"1\" stroke=\"#323232\" stroke-width=\"1\" x1=\"257\" y1=\"424\" x2=\"257\" y2=\"75\"/>\n",
       "<line opacity=\"1\" stroke=\"#323232\" stroke-width=\"1\" x1=\"266\" y1=\"424\" x2=\"266\" y2=\"75\"/>\n",
       "<line opacity=\"1\" stroke=\"#323232\" stroke-width=\"1\" x1=\"275\" y1=\"424\" x2=\"275\" y2=\"75\"/>\n",
       "<line opacity=\"1\" stroke=\"#323232\" stroke-width=\"1\" x1=\"284\" y1=\"424\" x2=\"284\" y2=\"75\"/>\n",
       "<line opacity=\"1\" stroke=\"#323232\" stroke-width=\"1\" x1=\"293\" y1=\"424\" x2=\"293\" y2=\"75\"/>\n",
       "<line opacity=\"1\" stroke=\"#323232\" stroke-width=\"1\" x1=\"301\" y1=\"424\" x2=\"301\" y2=\"75\"/>\n",
       "<line opacity=\"1\" stroke=\"#323232\" stroke-width=\"1\" x1=\"310\" y1=\"424\" x2=\"310\" y2=\"75\"/>\n",
       "<line opacity=\"1\" stroke=\"#323232\" stroke-width=\"1\" x1=\"319\" y1=\"424\" x2=\"319\" y2=\"75\"/>\n",
       "<line opacity=\"1\" stroke=\"#323232\" stroke-width=\"1\" x1=\"328\" y1=\"424\" x2=\"328\" y2=\"75\"/>\n",
       "<line opacity=\"1\" stroke=\"#323232\" stroke-width=\"1\" x1=\"337\" y1=\"424\" x2=\"337\" y2=\"75\"/>\n",
       "<line opacity=\"1\" stroke=\"#323232\" stroke-width=\"1\" x1=\"345\" y1=\"424\" x2=\"345\" y2=\"75\"/>\n",
       "<line opacity=\"1\" stroke=\"#323232\" stroke-width=\"1\" x1=\"354\" y1=\"424\" x2=\"354\" y2=\"75\"/>\n",
       "<line opacity=\"1\" stroke=\"#323232\" stroke-width=\"1\" x1=\"363\" y1=\"424\" x2=\"363\" y2=\"75\"/>\n",
       "<line opacity=\"1\" stroke=\"#323232\" stroke-width=\"1\" x1=\"372\" y1=\"424\" x2=\"372\" y2=\"75\"/>\n",
       "<line opacity=\"1\" stroke=\"#323232\" stroke-width=\"1\" x1=\"381\" y1=\"424\" x2=\"381\" y2=\"75\"/>\n",
       "<line opacity=\"1\" stroke=\"#323232\" stroke-width=\"1\" x1=\"390\" y1=\"424\" x2=\"390\" y2=\"75\"/>\n",
       "<line opacity=\"1\" stroke=\"#323232\" stroke-width=\"1\" x1=\"398\" y1=\"424\" x2=\"398\" y2=\"75\"/>\n",
       "<line opacity=\"1\" stroke=\"#323232\" stroke-width=\"1\" x1=\"407\" y1=\"424\" x2=\"407\" y2=\"75\"/>\n",
       "<line opacity=\"1\" stroke=\"#323232\" stroke-width=\"1\" x1=\"416\" y1=\"424\" x2=\"416\" y2=\"75\"/>\n",
       "<line opacity=\"1\" stroke=\"#323232\" stroke-width=\"1\" x1=\"425\" y1=\"424\" x2=\"425\" y2=\"75\"/>\n",
       "<line opacity=\"1\" stroke=\"#323232\" stroke-width=\"1\" x1=\"434\" y1=\"424\" x2=\"434\" y2=\"75\"/>\n",
       "<line opacity=\"1\" stroke=\"#323232\" stroke-width=\"1\" x1=\"442\" y1=\"424\" x2=\"442\" y2=\"75\"/>\n",
       "<line opacity=\"1\" stroke=\"#323232\" stroke-width=\"1\" x1=\"451\" y1=\"424\" x2=\"451\" y2=\"75\"/>\n",
       "<line opacity=\"1\" stroke=\"#323232\" stroke-width=\"1\" x1=\"460\" y1=\"424\" x2=\"460\" y2=\"75\"/>\n",
       "<line opacity=\"1\" stroke=\"#323232\" stroke-width=\"1\" x1=\"469\" y1=\"424\" x2=\"469\" y2=\"75\"/>\n",
       "<line opacity=\"1\" stroke=\"#323232\" stroke-width=\"1\" x1=\"478\" y1=\"424\" x2=\"478\" y2=\"75\"/>\n",
       "<line opacity=\"1\" stroke=\"#323232\" stroke-width=\"1\" x1=\"487\" y1=\"424\" x2=\"487\" y2=\"75\"/>\n",
       "<line opacity=\"1\" stroke=\"#323232\" stroke-width=\"1\" x1=\"495\" y1=\"424\" x2=\"495\" y2=\"75\"/>\n",
       "<line opacity=\"1\" stroke=\"#323232\" stroke-width=\"1\" x1=\"504\" y1=\"424\" x2=\"504\" y2=\"75\"/>\n",
       "<line opacity=\"1\" stroke=\"#323232\" stroke-width=\"1\" x1=\"513\" y1=\"424\" x2=\"513\" y2=\"75\"/>\n",
       "<line opacity=\"1\" stroke=\"#323232\" stroke-width=\"1\" x1=\"522\" y1=\"424\" x2=\"522\" y2=\"75\"/>\n",
       "<line opacity=\"1\" stroke=\"#323232\" stroke-width=\"1\" x1=\"531\" y1=\"424\" x2=\"531\" y2=\"75\"/>\n",
       "<line opacity=\"1\" stroke=\"#323232\" stroke-width=\"1\" x1=\"539\" y1=\"424\" x2=\"539\" y2=\"75\"/>\n",
       "<line opacity=\"1\" stroke=\"#323232\" stroke-width=\"1\" x1=\"548\" y1=\"424\" x2=\"548\" y2=\"75\"/>\n",
       "<line opacity=\"1\" stroke=\"#323232\" stroke-width=\"1\" x1=\"557\" y1=\"424\" x2=\"557\" y2=\"75\"/>\n",
       "<line opacity=\"1\" stroke=\"#323232\" stroke-width=\"1\" x1=\"566\" y1=\"424\" x2=\"566\" y2=\"75\"/>\n",
       "<line opacity=\"1\" stroke=\"#323232\" stroke-width=\"1\" x1=\"575\" y1=\"424\" x2=\"575\" y2=\"75\"/>\n",
       "<line opacity=\"1\" stroke=\"#323232\" stroke-width=\"1\" x1=\"584\" y1=\"424\" x2=\"584\" y2=\"75\"/>\n",
       "<line opacity=\"1\" stroke=\"#323232\" stroke-width=\"1\" x1=\"55\" y1=\"424\" x2=\"584\" y2=\"424\"/>\n",
       "<line opacity=\"1\" stroke=\"#323232\" stroke-width=\"1\" x1=\"55\" y1=\"405\" x2=\"584\" y2=\"405\"/>\n",
       "<line opacity=\"1\" stroke=\"#323232\" stroke-width=\"1\" x1=\"55\" y1=\"386\" x2=\"584\" y2=\"386\"/>\n",
       "<line opacity=\"1\" stroke=\"#323232\" stroke-width=\"1\" x1=\"55\" y1=\"366\" x2=\"584\" y2=\"366\"/>\n",
       "<line opacity=\"1\" stroke=\"#323232\" stroke-width=\"1\" x1=\"55\" y1=\"347\" x2=\"584\" y2=\"347\"/>\n",
       "<line opacity=\"1\" stroke=\"#323232\" stroke-width=\"1\" x1=\"55\" y1=\"328\" x2=\"584\" y2=\"328\"/>\n",
       "<line opacity=\"1\" stroke=\"#323232\" stroke-width=\"1\" x1=\"55\" y1=\"308\" x2=\"584\" y2=\"308\"/>\n",
       "<line opacity=\"1\" stroke=\"#323232\" stroke-width=\"1\" x1=\"55\" y1=\"289\" x2=\"584\" y2=\"289\"/>\n",
       "<line opacity=\"1\" stroke=\"#323232\" stroke-width=\"1\" x1=\"55\" y1=\"269\" x2=\"584\" y2=\"269\"/>\n",
       "<line opacity=\"1\" stroke=\"#323232\" stroke-width=\"1\" x1=\"55\" y1=\"250\" x2=\"584\" y2=\"250\"/>\n",
       "<line opacity=\"1\" stroke=\"#323232\" stroke-width=\"1\" x1=\"55\" y1=\"231\" x2=\"584\" y2=\"231\"/>\n",
       "<line opacity=\"1\" stroke=\"#323232\" stroke-width=\"1\" x1=\"55\" y1=\"211\" x2=\"584\" y2=\"211\"/>\n",
       "<line opacity=\"1\" stroke=\"#323232\" stroke-width=\"1\" x1=\"55\" y1=\"192\" x2=\"584\" y2=\"192\"/>\n",
       "<line opacity=\"1\" stroke=\"#323232\" stroke-width=\"1\" x1=\"55\" y1=\"172\" x2=\"584\" y2=\"172\"/>\n",
       "<line opacity=\"1\" stroke=\"#323232\" stroke-width=\"1\" x1=\"55\" y1=\"153\" x2=\"584\" y2=\"153\"/>\n",
       "<line opacity=\"1\" stroke=\"#323232\" stroke-width=\"1\" x1=\"55\" y1=\"134\" x2=\"584\" y2=\"134\"/>\n",
       "<line opacity=\"1\" stroke=\"#323232\" stroke-width=\"1\" x1=\"55\" y1=\"114\" x2=\"584\" y2=\"114\"/>\n",
       "<line opacity=\"1\" stroke=\"#323232\" stroke-width=\"1\" x1=\"55\" y1=\"95\" x2=\"584\" y2=\"95\"/>\n",
       "<line opacity=\"1\" stroke=\"#323232\" stroke-width=\"1\" x1=\"55\" y1=\"75\" x2=\"584\" y2=\"75\"/>\n",
       "<text x=\"320\" y=\"25\" dy=\"0.76em\" text-anchor=\"middle\" font-family=\"sans-serif\" font-size=\"9.67741935483871\" opacity=\"1\" fill=\"#FFFFFF\">\n",
       "x\n",
       "</text>\n",
       "<text x=\"5\" y=\"250\" dy=\"0.76em\" text-anchor=\"middle\" font-family=\"sans-serif\" font-size=\"9.67741935483871\" opacity=\"1\" fill=\"#FFFFFF\" transform=\"rotate(270, 5, 250)\">\n",
       "y\n",
       "</text>\n",
       "<text x=\"320\" y=\"475\" dy=\"-0.5ex\" text-anchor=\"middle\" font-family=\"sans-serif\" font-size=\"9.67741935483871\" opacity=\"1\" fill=\"#FFFFFF\">\n",
       "x\n",
       "</text>\n",
       "<text x=\"635\" y=\"250\" dy=\"0.76em\" text-anchor=\"middle\" font-family=\"sans-serif\" font-size=\"9.67741935483871\" opacity=\"1\" fill=\"#FFFFFF\" transform=\"rotate(90, 635, 250)\">\n",
       "y\n",
       "</text>\n",
       "<line opacity=\"1\" stroke=\"#5A5A5A\" stroke-width=\"1\" x1=\"55\" y1=\"424\" x2=\"55\" y2=\"75\"/>\n",
       "<line opacity=\"1\" stroke=\"#5A5A5A\" stroke-width=\"1\" x1=\"99\" y1=\"424\" x2=\"99\" y2=\"75\"/>\n",
       "<line opacity=\"1\" stroke=\"#5A5A5A\" stroke-width=\"1\" x1=\"143\" y1=\"424\" x2=\"143\" y2=\"75\"/>\n",
       "<line opacity=\"1\" stroke=\"#5A5A5A\" stroke-width=\"1\" x1=\"187\" y1=\"424\" x2=\"187\" y2=\"75\"/>\n",
       "<line opacity=\"1\" stroke=\"#5A5A5A\" stroke-width=\"1\" x1=\"231\" y1=\"424\" x2=\"231\" y2=\"75\"/>\n",
       "<line opacity=\"1\" stroke=\"#5A5A5A\" stroke-width=\"1\" x1=\"275\" y1=\"424\" x2=\"275\" y2=\"75\"/>\n",
       "<line opacity=\"1\" stroke=\"#5A5A5A\" stroke-width=\"1\" x1=\"319\" y1=\"424\" x2=\"319\" y2=\"75\"/>\n",
       "<line opacity=\"1\" stroke=\"#5A5A5A\" stroke-width=\"1\" x1=\"363\" y1=\"424\" x2=\"363\" y2=\"75\"/>\n",
       "<line opacity=\"1\" stroke=\"#5A5A5A\" stroke-width=\"1\" x1=\"407\" y1=\"424\" x2=\"407\" y2=\"75\"/>\n",
       "<line opacity=\"1\" stroke=\"#5A5A5A\" stroke-width=\"1\" x1=\"451\" y1=\"424\" x2=\"451\" y2=\"75\"/>\n",
       "<line opacity=\"1\" stroke=\"#5A5A5A\" stroke-width=\"1\" x1=\"495\" y1=\"424\" x2=\"495\" y2=\"75\"/>\n",
       "<line opacity=\"1\" stroke=\"#5A5A5A\" stroke-width=\"1\" x1=\"539\" y1=\"424\" x2=\"539\" y2=\"75\"/>\n",
       "<line opacity=\"1\" stroke=\"#5A5A5A\" stroke-width=\"1\" x1=\"584\" y1=\"424\" x2=\"584\" y2=\"75\"/>\n",
       "<line opacity=\"1\" stroke=\"#5A5A5A\" stroke-width=\"1\" x1=\"55\" y1=\"424\" x2=\"584\" y2=\"424\"/>\n",
       "<line opacity=\"1\" stroke=\"#5A5A5A\" stroke-width=\"1\" x1=\"55\" y1=\"386\" x2=\"584\" y2=\"386\"/>\n",
       "<line opacity=\"1\" stroke=\"#5A5A5A\" stroke-width=\"1\" x1=\"55\" y1=\"347\" x2=\"584\" y2=\"347\"/>\n",
       "<line opacity=\"1\" stroke=\"#5A5A5A\" stroke-width=\"1\" x1=\"55\" y1=\"308\" x2=\"584\" y2=\"308\"/>\n",
       "<line opacity=\"1\" stroke=\"#5A5A5A\" stroke-width=\"1\" x1=\"55\" y1=\"269\" x2=\"584\" y2=\"269\"/>\n",
       "<line opacity=\"1\" stroke=\"#5A5A5A\" stroke-width=\"1\" x1=\"55\" y1=\"231\" x2=\"584\" y2=\"231\"/>\n",
       "<line opacity=\"1\" stroke=\"#5A5A5A\" stroke-width=\"1\" x1=\"55\" y1=\"192\" x2=\"584\" y2=\"192\"/>\n",
       "<line opacity=\"1\" stroke=\"#5A5A5A\" stroke-width=\"1\" x1=\"55\" y1=\"153\" x2=\"584\" y2=\"153\"/>\n",
       "<line opacity=\"1\" stroke=\"#5A5A5A\" stroke-width=\"1\" x1=\"55\" y1=\"114\" x2=\"584\" y2=\"114\"/>\n",
       "<line opacity=\"1\" stroke=\"#5A5A5A\" stroke-width=\"1\" x1=\"55\" y1=\"75\" x2=\"584\" y2=\"75\"/>\n",
       "<polyline fill=\"none\" opacity=\"1\" stroke=\"#FFFFFF\" stroke-width=\"1\" points=\"55,74 584,74 \"/>\n",
       "<text x=\"55\" y=\"65\" dy=\"-0.5ex\" text-anchor=\"middle\" font-family=\"sans-serif\" font-size=\"9.67741935483871\" opacity=\"1\" fill=\"#FFFFFF\">\n",
       "-3.0\n",
       "</text>\n",
       "<polyline fill=\"none\" opacity=\"1\" stroke=\"#FFFFFF\" stroke-width=\"1\" points=\"55,69 55,74 \"/>\n",
       "<text x=\"99\" y=\"65\" dy=\"-0.5ex\" text-anchor=\"middle\" font-family=\"sans-serif\" font-size=\"9.67741935483871\" opacity=\"1\" fill=\"#FFFFFF\">\n",
       "-2.5\n",
       "</text>\n",
       "<polyline fill=\"none\" opacity=\"1\" stroke=\"#FFFFFF\" stroke-width=\"1\" points=\"99,69 99,74 \"/>\n",
       "<text x=\"143\" y=\"65\" dy=\"-0.5ex\" text-anchor=\"middle\" font-family=\"sans-serif\" font-size=\"9.67741935483871\" opacity=\"1\" fill=\"#FFFFFF\">\n",
       "-2.0\n",
       "</text>\n",
       "<polyline fill=\"none\" opacity=\"1\" stroke=\"#FFFFFF\" stroke-width=\"1\" points=\"143,69 143,74 \"/>\n",
       "<text x=\"187\" y=\"65\" dy=\"-0.5ex\" text-anchor=\"middle\" font-family=\"sans-serif\" font-size=\"9.67741935483871\" opacity=\"1\" fill=\"#FFFFFF\">\n",
       "-1.5\n",
       "</text>\n",
       "<polyline fill=\"none\" opacity=\"1\" stroke=\"#FFFFFF\" stroke-width=\"1\" points=\"187,69 187,74 \"/>\n",
       "<text x=\"231\" y=\"65\" dy=\"-0.5ex\" text-anchor=\"middle\" font-family=\"sans-serif\" font-size=\"9.67741935483871\" opacity=\"1\" fill=\"#FFFFFF\">\n",
       "-1.0\n",
       "</text>\n",
       "<polyline fill=\"none\" opacity=\"1\" stroke=\"#FFFFFF\" stroke-width=\"1\" points=\"231,69 231,74 \"/>\n",
       "<text x=\"275\" y=\"65\" dy=\"-0.5ex\" text-anchor=\"middle\" font-family=\"sans-serif\" font-size=\"9.67741935483871\" opacity=\"1\" fill=\"#FFFFFF\">\n",
       "-0.5\n",
       "</text>\n",
       "<polyline fill=\"none\" opacity=\"1\" stroke=\"#FFFFFF\" stroke-width=\"1\" points=\"275,69 275,74 \"/>\n",
       "<text x=\"319\" y=\"65\" dy=\"-0.5ex\" text-anchor=\"middle\" font-family=\"sans-serif\" font-size=\"9.67741935483871\" opacity=\"1\" fill=\"#FFFFFF\">\n",
       "0.0\n",
       "</text>\n",
       "<polyline fill=\"none\" opacity=\"1\" stroke=\"#FFFFFF\" stroke-width=\"1\" points=\"319,69 319,74 \"/>\n",
       "<text x=\"363\" y=\"65\" dy=\"-0.5ex\" text-anchor=\"middle\" font-family=\"sans-serif\" font-size=\"9.67741935483871\" opacity=\"1\" fill=\"#FFFFFF\">\n",
       "0.5\n",
       "</text>\n",
       "<polyline fill=\"none\" opacity=\"1\" stroke=\"#FFFFFF\" stroke-width=\"1\" points=\"363,69 363,74 \"/>\n",
       "<text x=\"407\" y=\"65\" dy=\"-0.5ex\" text-anchor=\"middle\" font-family=\"sans-serif\" font-size=\"9.67741935483871\" opacity=\"1\" fill=\"#FFFFFF\">\n",
       "1.0\n",
       "</text>\n",
       "<polyline fill=\"none\" opacity=\"1\" stroke=\"#FFFFFF\" stroke-width=\"1\" points=\"407,69 407,74 \"/>\n",
       "<text x=\"451\" y=\"65\" dy=\"-0.5ex\" text-anchor=\"middle\" font-family=\"sans-serif\" font-size=\"9.67741935483871\" opacity=\"1\" fill=\"#FFFFFF\">\n",
       "1.5\n",
       "</text>\n",
       "<polyline fill=\"none\" opacity=\"1\" stroke=\"#FFFFFF\" stroke-width=\"1\" points=\"451,69 451,74 \"/>\n",
       "<text x=\"495\" y=\"65\" dy=\"-0.5ex\" text-anchor=\"middle\" font-family=\"sans-serif\" font-size=\"9.67741935483871\" opacity=\"1\" fill=\"#FFFFFF\">\n",
       "2.0\n",
       "</text>\n",
       "<polyline fill=\"none\" opacity=\"1\" stroke=\"#FFFFFF\" stroke-width=\"1\" points=\"495,69 495,74 \"/>\n",
       "<text x=\"539\" y=\"65\" dy=\"-0.5ex\" text-anchor=\"middle\" font-family=\"sans-serif\" font-size=\"9.67741935483871\" opacity=\"1\" fill=\"#FFFFFF\">\n",
       "2.5\n",
       "</text>\n",
       "<polyline fill=\"none\" opacity=\"1\" stroke=\"#FFFFFF\" stroke-width=\"1\" points=\"539,69 539,74 \"/>\n",
       "<text x=\"584\" y=\"65\" dy=\"-0.5ex\" text-anchor=\"middle\" font-family=\"sans-serif\" font-size=\"9.67741935483871\" opacity=\"1\" fill=\"#FFFFFF\">\n",
       "3.0\n",
       "</text>\n",
       "<polyline fill=\"none\" opacity=\"1\" stroke=\"#FFFFFF\" stroke-width=\"1\" points=\"584,69 584,74 \"/>\n",
       "<polyline fill=\"none\" opacity=\"1\" stroke=\"#FFFFFF\" stroke-width=\"1\" points=\"54,75 54,424 \"/>\n",
       "<text x=\"45\" y=\"424\" dy=\"0.5ex\" text-anchor=\"end\" font-family=\"sans-serif\" font-size=\"9.67741935483871\" opacity=\"1\" fill=\"#FFFFFF\">\n",
       "0.0\n",
       "</text>\n",
       "<polyline fill=\"none\" opacity=\"1\" stroke=\"#FFFFFF\" stroke-width=\"1\" points=\"49,424 54,424 \"/>\n",
       "<text x=\"45\" y=\"386\" dy=\"0.5ex\" text-anchor=\"end\" font-family=\"sans-serif\" font-size=\"9.67741935483871\" opacity=\"1\" fill=\"#FFFFFF\">\n",
       "1.0\n",
       "</text>\n",
       "<polyline fill=\"none\" opacity=\"1\" stroke=\"#FFFFFF\" stroke-width=\"1\" points=\"49,386 54,386 \"/>\n",
       "<text x=\"45\" y=\"347\" dy=\"0.5ex\" text-anchor=\"end\" font-family=\"sans-serif\" font-size=\"9.67741935483871\" opacity=\"1\" fill=\"#FFFFFF\">\n",
       "2.0\n",
       "</text>\n",
       "<polyline fill=\"none\" opacity=\"1\" stroke=\"#FFFFFF\" stroke-width=\"1\" points=\"49,347 54,347 \"/>\n",
       "<text x=\"45\" y=\"308\" dy=\"0.5ex\" text-anchor=\"end\" font-family=\"sans-serif\" font-size=\"9.67741935483871\" opacity=\"1\" fill=\"#FFFFFF\">\n",
       "3.0\n",
       "</text>\n",
       "<polyline fill=\"none\" opacity=\"1\" stroke=\"#FFFFFF\" stroke-width=\"1\" points=\"49,308 54,308 \"/>\n",
       "<text x=\"45\" y=\"269\" dy=\"0.5ex\" text-anchor=\"end\" font-family=\"sans-serif\" font-size=\"9.67741935483871\" opacity=\"1\" fill=\"#FFFFFF\">\n",
       "4.0\n",
       "</text>\n",
       "<polyline fill=\"none\" opacity=\"1\" stroke=\"#FFFFFF\" stroke-width=\"1\" points=\"49,269 54,269 \"/>\n",
       "<text x=\"45\" y=\"231\" dy=\"0.5ex\" text-anchor=\"end\" font-family=\"sans-serif\" font-size=\"9.67741935483871\" opacity=\"1\" fill=\"#FFFFFF\">\n",
       "5.0\n",
       "</text>\n",
       "<polyline fill=\"none\" opacity=\"1\" stroke=\"#FFFFFF\" stroke-width=\"1\" points=\"49,231 54,231 \"/>\n",
       "<text x=\"45\" y=\"192\" dy=\"0.5ex\" text-anchor=\"end\" font-family=\"sans-serif\" font-size=\"9.67741935483871\" opacity=\"1\" fill=\"#FFFFFF\">\n",
       "6.0\n",
       "</text>\n",
       "<polyline fill=\"none\" opacity=\"1\" stroke=\"#FFFFFF\" stroke-width=\"1\" points=\"49,192 54,192 \"/>\n",
       "<text x=\"45\" y=\"153\" dy=\"0.5ex\" text-anchor=\"end\" font-family=\"sans-serif\" font-size=\"9.67741935483871\" opacity=\"1\" fill=\"#FFFFFF\">\n",
       "7.0\n",
       "</text>\n",
       "<polyline fill=\"none\" opacity=\"1\" stroke=\"#FFFFFF\" stroke-width=\"1\" points=\"49,153 54,153 \"/>\n",
       "<text x=\"45\" y=\"114\" dy=\"0.5ex\" text-anchor=\"end\" font-family=\"sans-serif\" font-size=\"9.67741935483871\" opacity=\"1\" fill=\"#FFFFFF\">\n",
       "8.0\n",
       "</text>\n",
       "<polyline fill=\"none\" opacity=\"1\" stroke=\"#FFFFFF\" stroke-width=\"1\" points=\"49,114 54,114 \"/>\n",
       "<text x=\"45\" y=\"75\" dy=\"0.5ex\" text-anchor=\"end\" font-family=\"sans-serif\" font-size=\"9.67741935483871\" opacity=\"1\" fill=\"#FFFFFF\">\n",
       "9.0\n",
       "</text>\n",
       "<polyline fill=\"none\" opacity=\"1\" stroke=\"#FFFFFF\" stroke-width=\"1\" points=\"49,75 54,75 \"/>\n",
       "<polyline fill=\"none\" opacity=\"1\" stroke=\"#FFFFFF\" stroke-width=\"1\" points=\"55,425 584,425 \"/>\n",
       "<text x=\"55\" y=\"435\" dy=\"0.76em\" text-anchor=\"middle\" font-family=\"sans-serif\" font-size=\"9.67741935483871\" opacity=\"1\" fill=\"#FFFFFF\">\n",
       "-3.0\n",
       "</text>\n",
       "<polyline fill=\"none\" opacity=\"1\" stroke=\"#FFFFFF\" stroke-width=\"1\" points=\"55,425 55,430 \"/>\n",
       "<text x=\"99\" y=\"435\" dy=\"0.76em\" text-anchor=\"middle\" font-family=\"sans-serif\" font-size=\"9.67741935483871\" opacity=\"1\" fill=\"#FFFFFF\">\n",
       "-2.5\n",
       "</text>\n",
       "<polyline fill=\"none\" opacity=\"1\" stroke=\"#FFFFFF\" stroke-width=\"1\" points=\"99,425 99,430 \"/>\n",
       "<text x=\"143\" y=\"435\" dy=\"0.76em\" text-anchor=\"middle\" font-family=\"sans-serif\" font-size=\"9.67741935483871\" opacity=\"1\" fill=\"#FFFFFF\">\n",
       "-2.0\n",
       "</text>\n",
       "<polyline fill=\"none\" opacity=\"1\" stroke=\"#FFFFFF\" stroke-width=\"1\" points=\"143,425 143,430 \"/>\n",
       "<text x=\"187\" y=\"435\" dy=\"0.76em\" text-anchor=\"middle\" font-family=\"sans-serif\" font-size=\"9.67741935483871\" opacity=\"1\" fill=\"#FFFFFF\">\n",
       "-1.5\n",
       "</text>\n",
       "<polyline fill=\"none\" opacity=\"1\" stroke=\"#FFFFFF\" stroke-width=\"1\" points=\"187,425 187,430 \"/>\n",
       "<text x=\"231\" y=\"435\" dy=\"0.76em\" text-anchor=\"middle\" font-family=\"sans-serif\" font-size=\"9.67741935483871\" opacity=\"1\" fill=\"#FFFFFF\">\n",
       "-1.0\n",
       "</text>\n",
       "<polyline fill=\"none\" opacity=\"1\" stroke=\"#FFFFFF\" stroke-width=\"1\" points=\"231,425 231,430 \"/>\n",
       "<text x=\"275\" y=\"435\" dy=\"0.76em\" text-anchor=\"middle\" font-family=\"sans-serif\" font-size=\"9.67741935483871\" opacity=\"1\" fill=\"#FFFFFF\">\n",
       "-0.5\n",
       "</text>\n",
       "<polyline fill=\"none\" opacity=\"1\" stroke=\"#FFFFFF\" stroke-width=\"1\" points=\"275,425 275,430 \"/>\n",
       "<text x=\"319\" y=\"435\" dy=\"0.76em\" text-anchor=\"middle\" font-family=\"sans-serif\" font-size=\"9.67741935483871\" opacity=\"1\" fill=\"#FFFFFF\">\n",
       "0.0\n",
       "</text>\n",
       "<polyline fill=\"none\" opacity=\"1\" stroke=\"#FFFFFF\" stroke-width=\"1\" points=\"319,425 319,430 \"/>\n",
       "<text x=\"363\" y=\"435\" dy=\"0.76em\" text-anchor=\"middle\" font-family=\"sans-serif\" font-size=\"9.67741935483871\" opacity=\"1\" fill=\"#FFFFFF\">\n",
       "0.5\n",
       "</text>\n",
       "<polyline fill=\"none\" opacity=\"1\" stroke=\"#FFFFFF\" stroke-width=\"1\" points=\"363,425 363,430 \"/>\n",
       "<text x=\"407\" y=\"435\" dy=\"0.76em\" text-anchor=\"middle\" font-family=\"sans-serif\" font-size=\"9.67741935483871\" opacity=\"1\" fill=\"#FFFFFF\">\n",
       "1.0\n",
       "</text>\n",
       "<polyline fill=\"none\" opacity=\"1\" stroke=\"#FFFFFF\" stroke-width=\"1\" points=\"407,425 407,430 \"/>\n",
       "<text x=\"451\" y=\"435\" dy=\"0.76em\" text-anchor=\"middle\" font-family=\"sans-serif\" font-size=\"9.67741935483871\" opacity=\"1\" fill=\"#FFFFFF\">\n",
       "1.5\n",
       "</text>\n",
       "<polyline fill=\"none\" opacity=\"1\" stroke=\"#FFFFFF\" stroke-width=\"1\" points=\"451,425 451,430 \"/>\n",
       "<text x=\"495\" y=\"435\" dy=\"0.76em\" text-anchor=\"middle\" font-family=\"sans-serif\" font-size=\"9.67741935483871\" opacity=\"1\" fill=\"#FFFFFF\">\n",
       "2.0\n",
       "</text>\n",
       "<polyline fill=\"none\" opacity=\"1\" stroke=\"#FFFFFF\" stroke-width=\"1\" points=\"495,425 495,430 \"/>\n",
       "<text x=\"539\" y=\"435\" dy=\"0.76em\" text-anchor=\"middle\" font-family=\"sans-serif\" font-size=\"9.67741935483871\" opacity=\"1\" fill=\"#FFFFFF\">\n",
       "2.5\n",
       "</text>\n",
       "<polyline fill=\"none\" opacity=\"1\" stroke=\"#FFFFFF\" stroke-width=\"1\" points=\"539,425 539,430 \"/>\n",
       "<text x=\"584\" y=\"435\" dy=\"0.76em\" text-anchor=\"middle\" font-family=\"sans-serif\" font-size=\"9.67741935483871\" opacity=\"1\" fill=\"#FFFFFF\">\n",
       "3.0\n",
       "</text>\n",
       "<polyline fill=\"none\" opacity=\"1\" stroke=\"#FFFFFF\" stroke-width=\"1\" points=\"584,425 584,430 \"/>\n",
       "<polyline fill=\"none\" opacity=\"1\" stroke=\"#FFFFFF\" stroke-width=\"1\" points=\"585,75 585,424 \"/>\n",
       "<text x=\"595\" y=\"424\" dy=\"0.5ex\" text-anchor=\"start\" font-family=\"sans-serif\" font-size=\"9.67741935483871\" opacity=\"1\" fill=\"#FFFFFF\">\n",
       "0.0\n",
       "</text>\n",
       "<polyline fill=\"none\" opacity=\"1\" stroke=\"#FFFFFF\" stroke-width=\"1\" points=\"585,424 590,424 \"/>\n",
       "<text x=\"595\" y=\"386\" dy=\"0.5ex\" text-anchor=\"start\" font-family=\"sans-serif\" font-size=\"9.67741935483871\" opacity=\"1\" fill=\"#FFFFFF\">\n",
       "1.0\n",
       "</text>\n",
       "<polyline fill=\"none\" opacity=\"1\" stroke=\"#FFFFFF\" stroke-width=\"1\" points=\"585,386 590,386 \"/>\n",
       "<text x=\"595\" y=\"347\" dy=\"0.5ex\" text-anchor=\"start\" font-family=\"sans-serif\" font-size=\"9.67741935483871\" opacity=\"1\" fill=\"#FFFFFF\">\n",
       "2.0\n",
       "</text>\n",
       "<polyline fill=\"none\" opacity=\"1\" stroke=\"#FFFFFF\" stroke-width=\"1\" points=\"585,347 590,347 \"/>\n",
       "<text x=\"595\" y=\"308\" dy=\"0.5ex\" text-anchor=\"start\" font-family=\"sans-serif\" font-size=\"9.67741935483871\" opacity=\"1\" fill=\"#FFFFFF\">\n",
       "3.0\n",
       "</text>\n",
       "<polyline fill=\"none\" opacity=\"1\" stroke=\"#FFFFFF\" stroke-width=\"1\" points=\"585,308 590,308 \"/>\n",
       "<text x=\"595\" y=\"269\" dy=\"0.5ex\" text-anchor=\"start\" font-family=\"sans-serif\" font-size=\"9.67741935483871\" opacity=\"1\" fill=\"#FFFFFF\">\n",
       "4.0\n",
       "</text>\n",
       "<polyline fill=\"none\" opacity=\"1\" stroke=\"#FFFFFF\" stroke-width=\"1\" points=\"585,269 590,269 \"/>\n",
       "<text x=\"595\" y=\"231\" dy=\"0.5ex\" text-anchor=\"start\" font-family=\"sans-serif\" font-size=\"9.67741935483871\" opacity=\"1\" fill=\"#FFFFFF\">\n",
       "5.0\n",
       "</text>\n",
       "<polyline fill=\"none\" opacity=\"1\" stroke=\"#FFFFFF\" stroke-width=\"1\" points=\"585,231 590,231 \"/>\n",
       "<text x=\"595\" y=\"192\" dy=\"0.5ex\" text-anchor=\"start\" font-family=\"sans-serif\" font-size=\"9.67741935483871\" opacity=\"1\" fill=\"#FFFFFF\">\n",
       "6.0\n",
       "</text>\n",
       "<polyline fill=\"none\" opacity=\"1\" stroke=\"#FFFFFF\" stroke-width=\"1\" points=\"585,192 590,192 \"/>\n",
       "<text x=\"595\" y=\"153\" dy=\"0.5ex\" text-anchor=\"start\" font-family=\"sans-serif\" font-size=\"9.67741935483871\" opacity=\"1\" fill=\"#FFFFFF\">\n",
       "7.0\n",
       "</text>\n",
       "<polyline fill=\"none\" opacity=\"1\" stroke=\"#FFFFFF\" stroke-width=\"1\" points=\"585,153 590,153 \"/>\n",
       "<text x=\"595\" y=\"114\" dy=\"0.5ex\" text-anchor=\"start\" font-family=\"sans-serif\" font-size=\"9.67741935483871\" opacity=\"1\" fill=\"#FFFFFF\">\n",
       "8.0\n",
       "</text>\n",
       "<polyline fill=\"none\" opacity=\"1\" stroke=\"#FFFFFF\" stroke-width=\"1\" points=\"585,114 590,114 \"/>\n",
       "<text x=\"595\" y=\"75\" dy=\"0.5ex\" text-anchor=\"start\" font-family=\"sans-serif\" font-size=\"9.67741935483871\" opacity=\"1\" fill=\"#FFFFFF\">\n",
       "9.0\n",
       "</text>\n",
       "<polyline fill=\"none\" opacity=\"1\" stroke=\"#FFFFFF\" stroke-width=\"1\" points=\"585,75 590,75 \"/>\n",
       "<polyline fill=\"none\" opacity=\"1\" stroke=\"#FF0000\" stroke-width=\"1\" points=\"55,75 55,78 56,80 57,82 58,85 59,87 60,89 61,92 62,94 62,96 63,98 64,101 65,103 66,105 67,107 68,110 69,112 69,114 70,116 71,118 72,120 73,123 74,125 75,127 76,129 77,131 77,133 78,135 79,138 80,140 81,142 82,144 83,146 84,148 84,150 85,152 86,154 87,156 88,158 89,160 90,162 91,164 92,166 92,168 93,170 94,172 95,174 96,176 97,178 98,180 99,182 99,184 100,186 101,188 102,190 103,192 104,194 105,196 106,197 107,199 107,201 108,203 109,205 110,207 111,209 112,210 113,212 114,214 114,216 115,218 116,219 117,221 118,223 119,225 120,226 121,228 122,230 122,232 123,233 124,235 125,237 126,239 127,240 128,242 129,244 129,245 130,247 131,249 132,250 133,252 134,253 135,255 136,257 136,258 137,260 138,262 139,263 140,265 141,266 142,268 143,269 144,271 144,272 145,274 146,276 147,277 148,279 149,280 150,282 151,283 151,285 152,286 153,287 154,289 155,290 156,292 157,293 158,295 159,296 159,297 160,299 161,300 162,302 163,303 164,304 165,306 166,307 166,308 167,310 168,311 169,312 170,314 171,315 172,316 173,318 174,319 174,320 175,321 176,323 177,324 178,325 179,326 180,328 181,329 181,330 182,331 183,333 184,334 185,335 186,336 187,337 188,338 189,340 189,341 190,342 191,343 192,344 193,345 194,346 195,347 196,348 196,350 197,351 198,352 199,353 200,354 201,355 202,356 203,357 204,358 204,359 205,360 206,361 207,362 208,363 209,364 210,365 211,366 211,367 212,368 213,369 214,370 215,371 216,371 217,372 218,373 218,374 219,375 220,376 221,377 222,378 223,378 224,379 225,380 226,381 226,382 227,383 228,383 229,384 230,385 231,386 232,386 233,387 233,388 234,389 235,390 236,390 237,391 238,392 239,392 240,393 241,394 241,394 242,395 243,396 244,396 245,397 246,398 247,398 248,399 248,400 249,400 250,401 251,402 252,402 253,403 254,403 255,404 256,404 256,405 257,405 258,406 259,407 260,407 261,408 262,408 263,409 263,409 264,410 265,410 266,411 267,411 268,411 269,412 270,412 271,413 271,413 272,414 273,414 274,414 275,415 276,415 277,416 278,416 278,416 279,417 280,417 281,417 282,418 283,418 284,418 285,419 285,419 286,419 287,419 288,420 289,420 290,420 291,421 292,421 293,421 293,421 294,421 295,422 296,422 297,422 298,422 299,422 300,423 300,423 301,423 302,423 303,423 304,423 305,424 306,424 307,424 308,424 308,424 309,424 310,424 311,424 312,424 313,424 314,424 315,424 315,424 316,424 317,424 318,424 319,424 320,424 321,424 322,424 323,424 323,424 324,424 325,424 326,424 327,424 328,424 329,424 330,424 330,424 331,424 332,424 333,424 334,423 335,423 336,423 337,423 338,423 338,423 339,422 340,422 341,422 342,422 343,422 344,421 345,421 345,421 346,421 347,421 348,420 349,420 350,420 351,419 352,419 353,419 353,419 354,418 355,418 356,418 357,417 358,417 359,417 360,416 360,416 361,416 362,415 363,415 364,414 365,414 366,414 367,413 367,413 368,412 369,412 370,411 371,411 372,411 373,410 374,410 375,409 375,409 376,408 377,408 378,407 379,407 380,406 381,405 382,405 382,404 383,404 384,403 385,403 386,402 387,402 388,401 389,400 390,400 390,399 391,398 392,398 393,397 394,396 395,396 396,395 397,394 397,394 398,393 399,392 400,392 401,391 402,390 403,390 404,389 405,388 405,387 406,386 407,386 408,385 409,384 410,383 411,383 412,382 412,381 413,380 414,379 415,378 416,378 417,377 418,376 419,375 420,374 420,373 421,372 422,371 423,371 424,370 425,369 426,368 427,367 427,366 428,365 429,364 430,363 431,362 432,361 433,360 434,359 434,358 435,357 436,356 437,355 438,354 439,353 440,352 441,351 442,350 442,348 443,347 444,346 445,345 446,344 447,343 448,342 449,341 449,340 450,338 451,337 452,336 453,335 454,334 455,333 456,331 457,330 457,329 458,328 459,326 460,325 461,324 462,323 463,321 464,320 464,319 465,318 466,316 467,315 468,314 469,312 470,311 471,310 472,308 472,307 473,306 474,304 475,303 476,302 477,300 478,299 479,297 479,296 480,295 481,293 482,292 483,290 484,289 485,287 486,286 487,285 487,283 488,282 489,280 490,279 491,277 492,276 493,274 494,272 494,271 495,269 496,268 497,266 498,265 499,263 500,262 501,260 502,258 502,257 503,255 504,253 505,252 506,250 507,249 508,247 509,245 509,244 510,242 511,240 512,239 513,237 514,235 515,233 516,232 516,230 517,228 518,226 519,225 520,223 521,221 522,219 523,218 524,216 524,214 525,212 526,210 527,209 528,207 529,205 530,203 531,201 531,199 532,197 533,196 534,194 535,192 536,190 537,188 538,186 539,184 539,182 540,180 541,178 542,176 543,174 544,172 545,170 546,168 546,166 547,164 548,162 549,160 550,158 551,156 552,154 553,152 554,150 554,148 555,146 556,144 557,142 558,140 559,138 560,135 561,133 561,131 562,129 563,127 564,125 565,123 566,120 567,118 568,116 569,114 569,112 570,110 571,107 572,105 573,103 574,101 575,98 576,96 576,94 577,92 578,89 579,87 580,85 581,82 582,80 583,78 584,75 \"/>\n",
       "<rect x=\"497\" y=\"235\" width=\"83\" height=\"30\" opacity=\"1\" fill=\"none\" stroke=\"#FFFFFF\"/>\n",
       "<text x=\"537\" y=\"245\" dy=\"0.76em\" text-anchor=\"start\" font-family=\"sans-serif\" font-size=\"9.67741935483871\" opacity=\"1\" fill=\"#FFFFFF\">\n",
       "square\n",
       "</text>\n",
       "<polyline fill=\"none\" opacity=\"1\" stroke=\"#FF0000\" stroke-width=\"1\" points=\"507,250 527,250 \"/>\n",
       "</svg>\n"
      ]
     },
     "metadata": {},
     "output_type": "display_data"
    },
    {
     "name": "stdout",
     "output_type": "stream",
     "text": [
      "type Mut0 = {mutable l0 : int32}\n",
      "let rec method1 (v0 : Mut0) : bool =\n",
      "    let v1 : int32 = v0.l0\n",
      "    let v2 : bool = v1 < 601\n",
      "    v2\n",
      "and method2 (v0 : int32, v1 : Mut0) : bool =\n",
      "    let v2 : int32 = v1.l0\n",
      "    let v3 : bool = v2 < v0\n",
      "    v3\n",
      "and method0 () : struct (string * string * (float []) * string * (struct (string * (float [])) [])) =\n",
      "    let v0 : (float []) = Array.zeroCreate<float> (601)\n",
      "    let v1 : Mut0 = {l0 = 0} : Mut0\n",
      "    while method1(v1) do\n",
      "        let v3 : int32 = v1.l0\n",
      "        let v4 : float = float v3\n",
      "        let v5 : float = 0.01 * v4\n",
      "        let v6 : float = -3.0 + v5\n",
      "        v0.[int v3] <- v6\n",
      "        let v7 : int32 = v3 + 1\n",
      "        v1.l0 <- v7\n",
      "        ()\n",
      "    let v8 : int32 = v0.Length\n",
      "    let v9 : (float []) = Array.zeroCreate<float> (v8)\n",
      "    let v10 : Mut0 = {l0 = 0} : Mut0\n",
      "    while method2(v8, v10) do\n",
      "        let v12 : int32 = v10.l0\n",
      "        let v13 : float = v0.[int v12]\n",
      "        let v14 : float = v13 ** 2.0\n",
      "        v9.[int v12] <- v14\n",
      "        let v15 : int32 = v12 + 1\n",
      "        v10.l0 <- v15\n",
      "        ()\n",
      "    let v16 : string = \"square\"\n",
      "    let v17 : (struct (string * (float [])) []) = [|struct (v16, v9)|]\n",
      "    let v18 : string = \"x\"\n",
      "    let v19 : string = \"y\"\n",
      "    struct (v16, v18, v0, v19, v17)\n",
      "method0()\n",
      "\r\n"
     ]
    }
   ],
   "source": [
    "// // test\n",
    "\n",
    "inl x : a _ f64 = init_series -3 3 0.01\n",
    "inl y = x |> am.map square\n",
    "\"square\", \"x\", x, \"y\", ;[\"square\", y]"
   ]
  },
  {
   "cell_type": "code",
   "execution_count": null,
   "metadata": {
    "dotnet_interactive": {
     "language": "spiral"
    },
    "polyglot_notebook": {
     "kernelName": "spiral"
    }
   },
   "outputs": [
    {
     "data": {
      "text/html": [
       "<svg width=\"640\" height=\"480\" viewBox=\"0 0 640 480\" xmlns=\"http://www.w3.org/2000/svg\">\n",
       "<rect x=\"0\" y=\"0\" width=\"640\" height=\"480\" opacity=\"1\" fill=\"#141414\" stroke=\"none\"/>\n",
       "<text x=\"320\" y=\"10\" dy=\"0.76em\" text-anchor=\"middle\" font-family=\"sans-serif\" font-size=\"9.67741935483871\" opacity=\"1\" fill=\"#FFFFFF\">\n",
       "sin cos\n",
       "</text>\n",
       "<line opacity=\"1\" stroke=\"#323232\" stroke-width=\"1\" x1=\"55\" y1=\"424\" x2=\"55\" y2=\"75\"/>\n",
       "<line opacity=\"1\" stroke=\"#323232\" stroke-width=\"1\" x1=\"68\" y1=\"424\" x2=\"68\" y2=\"75\"/>\n",
       "<line opacity=\"1\" stroke=\"#323232\" stroke-width=\"1\" x1=\"81\" y1=\"424\" x2=\"81\" y2=\"75\"/>\n",
       "<line opacity=\"1\" stroke=\"#323232\" stroke-width=\"1\" x1=\"94\" y1=\"424\" x2=\"94\" y2=\"75\"/>\n",
       "<line opacity=\"1\" stroke=\"#323232\" stroke-width=\"1\" x1=\"107\" y1=\"424\" x2=\"107\" y2=\"75\"/>\n",
       "<line opacity=\"1\" stroke=\"#323232\" stroke-width=\"1\" x1=\"121\" y1=\"424\" x2=\"121\" y2=\"75\"/>\n",
       "<line opacity=\"1\" stroke=\"#323232\" stroke-width=\"1\" x1=\"134\" y1=\"424\" x2=\"134\" y2=\"75\"/>\n",
       "<line opacity=\"1\" stroke=\"#323232\" stroke-width=\"1\" x1=\"147\" y1=\"424\" x2=\"147\" y2=\"75\"/>\n",
       "<line opacity=\"1\" stroke=\"#323232\" stroke-width=\"1\" x1=\"160\" y1=\"424\" x2=\"160\" y2=\"75\"/>\n",
       "<line opacity=\"1\" stroke=\"#323232\" stroke-width=\"1\" x1=\"174\" y1=\"424\" x2=\"174\" y2=\"75\"/>\n",
       "<line opacity=\"1\" stroke=\"#323232\" stroke-width=\"1\" x1=\"187\" y1=\"424\" x2=\"187\" y2=\"75\"/>\n",
       "<line opacity=\"1\" stroke=\"#323232\" stroke-width=\"1\" x1=\"200\" y1=\"424\" x2=\"200\" y2=\"75\"/>\n",
       "<line opacity=\"1\" stroke=\"#323232\" stroke-width=\"1\" x1=\"213\" y1=\"424\" x2=\"213\" y2=\"75\"/>\n",
       "<line opacity=\"1\" stroke=\"#323232\" stroke-width=\"1\" x1=\"226\" y1=\"424\" x2=\"226\" y2=\"75\"/>\n",
       "<line opacity=\"1\" stroke=\"#323232\" stroke-width=\"1\" x1=\"240\" y1=\"424\" x2=\"240\" y2=\"75\"/>\n",
       "<line opacity=\"1\" stroke=\"#323232\" stroke-width=\"1\" x1=\"253\" y1=\"424\" x2=\"253\" y2=\"75\"/>\n",
       "<line opacity=\"1\" stroke=\"#323232\" stroke-width=\"1\" x1=\"266\" y1=\"424\" x2=\"266\" y2=\"75\"/>\n",
       "<line opacity=\"1\" stroke=\"#323232\" stroke-width=\"1\" x1=\"279\" y1=\"424\" x2=\"279\" y2=\"75\"/>\n",
       "<line opacity=\"1\" stroke=\"#323232\" stroke-width=\"1\" x1=\"293\" y1=\"424\" x2=\"293\" y2=\"75\"/>\n",
       "<line opacity=\"1\" stroke=\"#323232\" stroke-width=\"1\" x1=\"306\" y1=\"424\" x2=\"306\" y2=\"75\"/>\n",
       "<line opacity=\"1\" stroke=\"#323232\" stroke-width=\"1\" x1=\"319\" y1=\"424\" x2=\"319\" y2=\"75\"/>\n",
       "<line opacity=\"1\" stroke=\"#323232\" stroke-width=\"1\" x1=\"332\" y1=\"424\" x2=\"332\" y2=\"75\"/>\n",
       "<line opacity=\"1\" stroke=\"#323232\" stroke-width=\"1\" x1=\"345\" y1=\"424\" x2=\"345\" y2=\"75\"/>\n",
       "<line opacity=\"1\" stroke=\"#323232\" stroke-width=\"1\" x1=\"359\" y1=\"424\" x2=\"359\" y2=\"75\"/>\n",
       "<line opacity=\"1\" stroke=\"#323232\" stroke-width=\"1\" x1=\"372\" y1=\"424\" x2=\"372\" y2=\"75\"/>\n",
       "<line opacity=\"1\" stroke=\"#323232\" stroke-width=\"1\" x1=\"385\" y1=\"424\" x2=\"385\" y2=\"75\"/>\n",
       "<line opacity=\"1\" stroke=\"#323232\" stroke-width=\"1\" x1=\"398\" y1=\"424\" x2=\"398\" y2=\"75\"/>\n",
       "<line opacity=\"1\" stroke=\"#323232\" stroke-width=\"1\" x1=\"412\" y1=\"424\" x2=\"412\" y2=\"75\"/>\n",
       "<line opacity=\"1\" stroke=\"#323232\" stroke-width=\"1\" x1=\"425\" y1=\"424\" x2=\"425\" y2=\"75\"/>\n",
       "<line opacity=\"1\" stroke=\"#323232\" stroke-width=\"1\" x1=\"438\" y1=\"424\" x2=\"438\" y2=\"75\"/>\n",
       "<line opacity=\"1\" stroke=\"#323232\" stroke-width=\"1\" x1=\"451\" y1=\"424\" x2=\"451\" y2=\"75\"/>\n",
       "<line opacity=\"1\" stroke=\"#323232\" stroke-width=\"1\" x1=\"464\" y1=\"424\" x2=\"464\" y2=\"75\"/>\n",
       "<line opacity=\"1\" stroke=\"#323232\" stroke-width=\"1\" x1=\"478\" y1=\"424\" x2=\"478\" y2=\"75\"/>\n",
       "<line opacity=\"1\" stroke=\"#323232\" stroke-width=\"1\" x1=\"491\" y1=\"424\" x2=\"491\" y2=\"75\"/>\n",
       "<line opacity=\"1\" stroke=\"#323232\" stroke-width=\"1\" x1=\"504\" y1=\"424\" x2=\"504\" y2=\"75\"/>\n",
       "<line opacity=\"1\" stroke=\"#323232\" stroke-width=\"1\" x1=\"517\" y1=\"424\" x2=\"517\" y2=\"75\"/>\n",
       "<line opacity=\"1\" stroke=\"#323232\" stroke-width=\"1\" x1=\"531\" y1=\"424\" x2=\"531\" y2=\"75\"/>\n",
       "<line opacity=\"1\" stroke=\"#323232\" stroke-width=\"1\" x1=\"544\" y1=\"424\" x2=\"544\" y2=\"75\"/>\n",
       "<line opacity=\"1\" stroke=\"#323232\" stroke-width=\"1\" x1=\"557\" y1=\"424\" x2=\"557\" y2=\"75\"/>\n",
       "<line opacity=\"1\" stroke=\"#323232\" stroke-width=\"1\" x1=\"570\" y1=\"424\" x2=\"570\" y2=\"75\"/>\n",
       "<line opacity=\"1\" stroke=\"#323232\" stroke-width=\"1\" x1=\"584\" y1=\"424\" x2=\"584\" y2=\"75\"/>\n",
       "<line opacity=\"1\" stroke=\"#323232\" stroke-width=\"1\" x1=\"55\" y1=\"416\" x2=\"584\" y2=\"416\"/>\n",
       "<line opacity=\"1\" stroke=\"#323232\" stroke-width=\"1\" x1=\"55\" y1=\"407\" x2=\"584\" y2=\"407\"/>\n",
       "<line opacity=\"1\" stroke=\"#323232\" stroke-width=\"1\" x1=\"55\" y1=\"398\" x2=\"584\" y2=\"398\"/>\n",
       "<line opacity=\"1\" stroke=\"#323232\" stroke-width=\"1\" x1=\"55\" y1=\"390\" x2=\"584\" y2=\"390\"/>\n",
       "<line opacity=\"1\" stroke=\"#323232\" stroke-width=\"1\" x1=\"55\" y1=\"381\" x2=\"584\" y2=\"381\"/>\n",
       "<line opacity=\"1\" stroke=\"#323232\" stroke-width=\"1\" x1=\"55\" y1=\"372\" x2=\"584\" y2=\"372\"/>\n",
       "<line opacity=\"1\" stroke=\"#323232\" stroke-width=\"1\" x1=\"55\" y1=\"363\" x2=\"584\" y2=\"363\"/>\n",
       "<line opacity=\"1\" stroke=\"#323232\" stroke-width=\"1\" x1=\"55\" y1=\"355\" x2=\"584\" y2=\"355\"/>\n",
       "<line opacity=\"1\" stroke=\"#323232\" stroke-width=\"1\" x1=\"55\" y1=\"346\" x2=\"584\" y2=\"346\"/>\n",
       "<line opacity=\"1\" stroke=\"#323232\" stroke-width=\"1\" x1=\"55\" y1=\"337\" x2=\"584\" y2=\"337\"/>\n",
       "<line opacity=\"1\" stroke=\"#323232\" stroke-width=\"1\" x1=\"55\" y1=\"329\" x2=\"584\" y2=\"329\"/>\n",
       "<line opacity=\"1\" stroke=\"#323232\" stroke-width=\"1\" x1=\"55\" y1=\"320\" x2=\"584\" y2=\"320\"/>\n",
       "<line opacity=\"1\" stroke=\"#323232\" stroke-width=\"1\" x1=\"55\" y1=\"311\" x2=\"584\" y2=\"311\"/>\n",
       "<line opacity=\"1\" stroke=\"#323232\" stroke-width=\"1\" x1=\"55\" y1=\"302\" x2=\"584\" y2=\"302\"/>\n",
       "<line opacity=\"1\" stroke=\"#323232\" stroke-width=\"1\" x1=\"55\" y1=\"294\" x2=\"584\" y2=\"294\"/>\n",
       "<line opacity=\"1\" stroke=\"#323232\" stroke-width=\"1\" x1=\"55\" y1=\"285\" x2=\"584\" y2=\"285\"/>\n",
       "<line opacity=\"1\" stroke=\"#323232\" stroke-width=\"1\" x1=\"55\" y1=\"276\" x2=\"584\" y2=\"276\"/>\n",
       "<line opacity=\"1\" stroke=\"#323232\" stroke-width=\"1\" x1=\"55\" y1=\"267\" x2=\"584\" y2=\"267\"/>\n",
       "<line opacity=\"1\" stroke=\"#323232\" stroke-width=\"1\" x1=\"55\" y1=\"259\" x2=\"584\" y2=\"259\"/>\n",
       "<line opacity=\"1\" stroke=\"#323232\" stroke-width=\"1\" x1=\"55\" y1=\"250\" x2=\"584\" y2=\"250\"/>\n",
       "<line opacity=\"1\" stroke=\"#323232\" stroke-width=\"1\" x1=\"55\" y1=\"241\" x2=\"584\" y2=\"241\"/>\n",
       "<line opacity=\"1\" stroke=\"#323232\" stroke-width=\"1\" x1=\"55\" y1=\"233\" x2=\"584\" y2=\"233\"/>\n",
       "<line opacity=\"1\" stroke=\"#323232\" stroke-width=\"1\" x1=\"55\" y1=\"224\" x2=\"584\" y2=\"224\"/>\n",
       "<line opacity=\"1\" stroke=\"#323232\" stroke-width=\"1\" x1=\"55\" y1=\"215\" x2=\"584\" y2=\"215\"/>\n",
       "<line opacity=\"1\" stroke=\"#323232\" stroke-width=\"1\" x1=\"55\" y1=\"206\" x2=\"584\" y2=\"206\"/>\n",
       "<line opacity=\"1\" stroke=\"#323232\" stroke-width=\"1\" x1=\"55\" y1=\"198\" x2=\"584\" y2=\"198\"/>\n",
       "<line opacity=\"1\" stroke=\"#323232\" stroke-width=\"1\" x1=\"55\" y1=\"189\" x2=\"584\" y2=\"189\"/>\n",
       "<line opacity=\"1\" stroke=\"#323232\" stroke-width=\"1\" x1=\"55\" y1=\"180\" x2=\"584\" y2=\"180\"/>\n",
       "<line opacity=\"1\" stroke=\"#323232\" stroke-width=\"1\" x1=\"55\" y1=\"171\" x2=\"584\" y2=\"171\"/>\n",
       "<line opacity=\"1\" stroke=\"#323232\" stroke-width=\"1\" x1=\"55\" y1=\"163\" x2=\"584\" y2=\"163\"/>\n",
       "<line opacity=\"1\" stroke=\"#323232\" stroke-width=\"1\" x1=\"55\" y1=\"154\" x2=\"584\" y2=\"154\"/>\n",
       "<line opacity=\"1\" stroke=\"#323232\" stroke-width=\"1\" x1=\"55\" y1=\"145\" x2=\"584\" y2=\"145\"/>\n",
       "<line opacity=\"1\" stroke=\"#323232\" stroke-width=\"1\" x1=\"55\" y1=\"137\" x2=\"584\" y2=\"137\"/>\n",
       "<line opacity=\"1\" stroke=\"#323232\" stroke-width=\"1\" x1=\"55\" y1=\"128\" x2=\"584\" y2=\"128\"/>\n",
       "<line opacity=\"1\" stroke=\"#323232\" stroke-width=\"1\" x1=\"55\" y1=\"119\" x2=\"584\" y2=\"119\"/>\n",
       "<line opacity=\"1\" stroke=\"#323232\" stroke-width=\"1\" x1=\"55\" y1=\"110\" x2=\"584\" y2=\"110\"/>\n",
       "<line opacity=\"1\" stroke=\"#323232\" stroke-width=\"1\" x1=\"55\" y1=\"102\" x2=\"584\" y2=\"102\"/>\n",
       "<line opacity=\"1\" stroke=\"#323232\" stroke-width=\"1\" x1=\"55\" y1=\"93\" x2=\"584\" y2=\"93\"/>\n",
       "<line opacity=\"1\" stroke=\"#323232\" stroke-width=\"1\" x1=\"55\" y1=\"84\" x2=\"584\" y2=\"84\"/>\n",
       "<text x=\"320\" y=\"25\" dy=\"0.76em\" text-anchor=\"middle\" font-family=\"sans-serif\" font-size=\"9.67741935483871\" opacity=\"1\" fill=\"#FFFFFF\">\n",
       "x\n",
       "</text>\n",
       "<text x=\"5\" y=\"250\" dy=\"0.76em\" text-anchor=\"middle\" font-family=\"sans-serif\" font-size=\"9.67741935483871\" opacity=\"1\" fill=\"#FFFFFF\" transform=\"rotate(270, 5, 250)\">\n",
       "y\n",
       "</text>\n",
       "<text x=\"320\" y=\"475\" dy=\"-0.5ex\" text-anchor=\"middle\" font-family=\"sans-serif\" font-size=\"9.67741935483871\" opacity=\"1\" fill=\"#FFFFFF\">\n",
       "x\n",
       "</text>\n",
       "<text x=\"635\" y=\"250\" dy=\"0.76em\" text-anchor=\"middle\" font-family=\"sans-serif\" font-size=\"9.67741935483871\" opacity=\"1\" fill=\"#FFFFFF\" transform=\"rotate(90, 635, 250)\">\n",
       "y\n",
       "</text>\n",
       "<line opacity=\"1\" stroke=\"#5A5A5A\" stroke-width=\"1\" x1=\"55\" y1=\"424\" x2=\"55\" y2=\"75\"/>\n",
       "<line opacity=\"1\" stroke=\"#5A5A5A\" stroke-width=\"1\" x1=\"107\" y1=\"424\" x2=\"107\" y2=\"75\"/>\n",
       "<line opacity=\"1\" stroke=\"#5A5A5A\" stroke-width=\"1\" x1=\"160\" y1=\"424\" x2=\"160\" y2=\"75\"/>\n",
       "<line opacity=\"1\" stroke=\"#5A5A5A\" stroke-width=\"1\" x1=\"213\" y1=\"424\" x2=\"213\" y2=\"75\"/>\n",
       "<line opacity=\"1\" stroke=\"#5A5A5A\" stroke-width=\"1\" x1=\"266\" y1=\"424\" x2=\"266\" y2=\"75\"/>\n",
       "<line opacity=\"1\" stroke=\"#5A5A5A\" stroke-width=\"1\" x1=\"319\" y1=\"424\" x2=\"319\" y2=\"75\"/>\n",
       "<line opacity=\"1\" stroke=\"#5A5A5A\" stroke-width=\"1\" x1=\"372\" y1=\"424\" x2=\"372\" y2=\"75\"/>\n",
       "<line opacity=\"1\" stroke=\"#5A5A5A\" stroke-width=\"1\" x1=\"425\" y1=\"424\" x2=\"425\" y2=\"75\"/>\n",
       "<line opacity=\"1\" stroke=\"#5A5A5A\" stroke-width=\"1\" x1=\"478\" y1=\"424\" x2=\"478\" y2=\"75\"/>\n",
       "<line opacity=\"1\" stroke=\"#5A5A5A\" stroke-width=\"1\" x1=\"531\" y1=\"424\" x2=\"531\" y2=\"75\"/>\n",
       "<line opacity=\"1\" stroke=\"#5A5A5A\" stroke-width=\"1\" x1=\"584\" y1=\"424\" x2=\"584\" y2=\"75\"/>\n",
       "<line opacity=\"1\" stroke=\"#5A5A5A\" stroke-width=\"1\" x1=\"55\" y1=\"390\" x2=\"584\" y2=\"390\"/>\n",
       "<line opacity=\"1\" stroke=\"#5A5A5A\" stroke-width=\"1\" x1=\"55\" y1=\"355\" x2=\"584\" y2=\"355\"/>\n",
       "<line opacity=\"1\" stroke=\"#5A5A5A\" stroke-width=\"1\" x1=\"55\" y1=\"320\" x2=\"584\" y2=\"320\"/>\n",
       "<line opacity=\"1\" stroke=\"#5A5A5A\" stroke-width=\"1\" x1=\"55\" y1=\"285\" x2=\"584\" y2=\"285\"/>\n",
       "<line opacity=\"1\" stroke=\"#5A5A5A\" stroke-width=\"1\" x1=\"55\" y1=\"250\" x2=\"584\" y2=\"250\"/>\n",
       "<line opacity=\"1\" stroke=\"#5A5A5A\" stroke-width=\"1\" x1=\"55\" y1=\"215\" x2=\"584\" y2=\"215\"/>\n",
       "<line opacity=\"1\" stroke=\"#5A5A5A\" stroke-width=\"1\" x1=\"55\" y1=\"180\" x2=\"584\" y2=\"180\"/>\n",
       "<line opacity=\"1\" stroke=\"#5A5A5A\" stroke-width=\"1\" x1=\"55\" y1=\"145\" x2=\"584\" y2=\"145\"/>\n",
       "<line opacity=\"1\" stroke=\"#5A5A5A\" stroke-width=\"1\" x1=\"55\" y1=\"110\" x2=\"584\" y2=\"110\"/>\n",
       "<line opacity=\"1\" stroke=\"#5A5A5A\" stroke-width=\"1\" x1=\"55\" y1=\"75\" x2=\"584\" y2=\"75\"/>\n",
       "<polyline fill=\"none\" opacity=\"1\" stroke=\"#FFFFFF\" stroke-width=\"1\" points=\"55,74 584,74 \"/>\n",
       "<text x=\"55\" y=\"65\" dy=\"-0.5ex\" text-anchor=\"middle\" font-family=\"sans-serif\" font-size=\"9.67741935483871\" opacity=\"1\" fill=\"#FFFFFF\">\n",
       "-10.0\n",
       "</text>\n",
       "<polyline fill=\"none\" opacity=\"1\" stroke=\"#FFFFFF\" stroke-width=\"1\" points=\"55,69 55,74 \"/>\n",
       "<text x=\"107\" y=\"65\" dy=\"-0.5ex\" text-anchor=\"middle\" font-family=\"sans-serif\" font-size=\"9.67741935483871\" opacity=\"1\" fill=\"#FFFFFF\">\n",
       "-8.0\n",
       "</text>\n",
       "<polyline fill=\"none\" opacity=\"1\" stroke=\"#FFFFFF\" stroke-width=\"1\" points=\"107,69 107,74 \"/>\n",
       "<text x=\"160\" y=\"65\" dy=\"-0.5ex\" text-anchor=\"middle\" font-family=\"sans-serif\" font-size=\"9.67741935483871\" opacity=\"1\" fill=\"#FFFFFF\">\n",
       "-6.0\n",
       "</text>\n",
       "<polyline fill=\"none\" opacity=\"1\" stroke=\"#FFFFFF\" stroke-width=\"1\" points=\"160,69 160,74 \"/>\n",
       "<text x=\"213\" y=\"65\" dy=\"-0.5ex\" text-anchor=\"middle\" font-family=\"sans-serif\" font-size=\"9.67741935483871\" opacity=\"1\" fill=\"#FFFFFF\">\n",
       "-4.0\n",
       "</text>\n",
       "<polyline fill=\"none\" opacity=\"1\" stroke=\"#FFFFFF\" stroke-width=\"1\" points=\"213,69 213,74 \"/>\n",
       "<text x=\"266\" y=\"65\" dy=\"-0.5ex\" text-anchor=\"middle\" font-family=\"sans-serif\" font-size=\"9.67741935483871\" opacity=\"1\" fill=\"#FFFFFF\">\n",
       "-2.0\n",
       "</text>\n",
       "<polyline fill=\"none\" opacity=\"1\" stroke=\"#FFFFFF\" stroke-width=\"1\" points=\"266,69 266,74 \"/>\n",
       "<text x=\"319\" y=\"65\" dy=\"-0.5ex\" text-anchor=\"middle\" font-family=\"sans-serif\" font-size=\"9.67741935483871\" opacity=\"1\" fill=\"#FFFFFF\">\n",
       "0.0\n",
       "</text>\n",
       "<polyline fill=\"none\" opacity=\"1\" stroke=\"#FFFFFF\" stroke-width=\"1\" points=\"319,69 319,74 \"/>\n",
       "<text x=\"372\" y=\"65\" dy=\"-0.5ex\" text-anchor=\"middle\" font-family=\"sans-serif\" font-size=\"9.67741935483871\" opacity=\"1\" fill=\"#FFFFFF\">\n",
       "2.0\n",
       "</text>\n",
       "<polyline fill=\"none\" opacity=\"1\" stroke=\"#FFFFFF\" stroke-width=\"1\" points=\"372,69 372,74 \"/>\n",
       "<text x=\"425\" y=\"65\" dy=\"-0.5ex\" text-anchor=\"middle\" font-family=\"sans-serif\" font-size=\"9.67741935483871\" opacity=\"1\" fill=\"#FFFFFF\">\n",
       "4.0\n",
       "</text>\n",
       "<polyline fill=\"none\" opacity=\"1\" stroke=\"#FFFFFF\" stroke-width=\"1\" points=\"425,69 425,74 \"/>\n",
       "<text x=\"478\" y=\"65\" dy=\"-0.5ex\" text-anchor=\"middle\" font-family=\"sans-serif\" font-size=\"9.67741935483871\" opacity=\"1\" fill=\"#FFFFFF\">\n",
       "6.0\n",
       "</text>\n",
       "<polyline fill=\"none\" opacity=\"1\" stroke=\"#FFFFFF\" stroke-width=\"1\" points=\"478,69 478,74 \"/>\n",
       "<text x=\"531\" y=\"65\" dy=\"-0.5ex\" text-anchor=\"middle\" font-family=\"sans-serif\" font-size=\"9.67741935483871\" opacity=\"1\" fill=\"#FFFFFF\">\n",
       "8.0\n",
       "</text>\n",
       "<polyline fill=\"none\" opacity=\"1\" stroke=\"#FFFFFF\" stroke-width=\"1\" points=\"531,69 531,74 \"/>\n",
       "<text x=\"584\" y=\"65\" dy=\"-0.5ex\" text-anchor=\"middle\" font-family=\"sans-serif\" font-size=\"9.67741935483871\" opacity=\"1\" fill=\"#FFFFFF\">\n",
       "10.0\n",
       "</text>\n",
       "<polyline fill=\"none\" opacity=\"1\" stroke=\"#FFFFFF\" stroke-width=\"1\" points=\"584,69 584,74 \"/>\n",
       "<polyline fill=\"none\" opacity=\"1\" stroke=\"#FFFFFF\" stroke-width=\"1\" points=\"54,75 54,424 \"/>\n",
       "<text x=\"45\" y=\"390\" dy=\"0.5ex\" text-anchor=\"end\" font-family=\"sans-serif\" font-size=\"9.67741935483871\" opacity=\"1\" fill=\"#FFFFFF\">\n",
       "-0.8\n",
       "</text>\n",
       "<polyline fill=\"none\" opacity=\"1\" stroke=\"#FFFFFF\" stroke-width=\"1\" points=\"49,390 54,390 \"/>\n",
       "<text x=\"45\" y=\"355\" dy=\"0.5ex\" text-anchor=\"end\" font-family=\"sans-serif\" font-size=\"9.67741935483871\" opacity=\"1\" fill=\"#FFFFFF\">\n",
       "-0.6\n",
       "</text>\n",
       "<polyline fill=\"none\" opacity=\"1\" stroke=\"#FFFFFF\" stroke-width=\"1\" points=\"49,355 54,355 \"/>\n",
       "<text x=\"45\" y=\"320\" dy=\"0.5ex\" text-anchor=\"end\" font-family=\"sans-serif\" font-size=\"9.67741935483871\" opacity=\"1\" fill=\"#FFFFFF\">\n",
       "-0.4\n",
       "</text>\n",
       "<polyline fill=\"none\" opacity=\"1\" stroke=\"#FFFFFF\" stroke-width=\"1\" points=\"49,320 54,320 \"/>\n",
       "<text x=\"45\" y=\"285\" dy=\"0.5ex\" text-anchor=\"end\" font-family=\"sans-serif\" font-size=\"9.67741935483871\" opacity=\"1\" fill=\"#FFFFFF\">\n",
       "-0.2\n",
       "</text>\n",
       "<polyline fill=\"none\" opacity=\"1\" stroke=\"#FFFFFF\" stroke-width=\"1\" points=\"49,285 54,285 \"/>\n",
       "<text x=\"45\" y=\"250\" dy=\"0.5ex\" text-anchor=\"end\" font-family=\"sans-serif\" font-size=\"9.67741935483871\" opacity=\"1\" fill=\"#FFFFFF\">\n",
       "0.0\n",
       "</text>\n",
       "<polyline fill=\"none\" opacity=\"1\" stroke=\"#FFFFFF\" stroke-width=\"1\" points=\"49,250 54,250 \"/>\n",
       "<text x=\"45\" y=\"215\" dy=\"0.5ex\" text-anchor=\"end\" font-family=\"sans-serif\" font-size=\"9.67741935483871\" opacity=\"1\" fill=\"#FFFFFF\">\n",
       "0.2\n",
       "</text>\n",
       "<polyline fill=\"none\" opacity=\"1\" stroke=\"#FFFFFF\" stroke-width=\"1\" points=\"49,215 54,215 \"/>\n",
       "<text x=\"45\" y=\"180\" dy=\"0.5ex\" text-anchor=\"end\" font-family=\"sans-serif\" font-size=\"9.67741935483871\" opacity=\"1\" fill=\"#FFFFFF\">\n",
       "0.4\n",
       "</text>\n",
       "<polyline fill=\"none\" opacity=\"1\" stroke=\"#FFFFFF\" stroke-width=\"1\" points=\"49,180 54,180 \"/>\n",
       "<text x=\"45\" y=\"145\" dy=\"0.5ex\" text-anchor=\"end\" font-family=\"sans-serif\" font-size=\"9.67741935483871\" opacity=\"1\" fill=\"#FFFFFF\">\n",
       "0.6\n",
       "</text>\n",
       "<polyline fill=\"none\" opacity=\"1\" stroke=\"#FFFFFF\" stroke-width=\"1\" points=\"49,145 54,145 \"/>\n",
       "<text x=\"45\" y=\"110\" dy=\"0.5ex\" text-anchor=\"end\" font-family=\"sans-serif\" font-size=\"9.67741935483871\" opacity=\"1\" fill=\"#FFFFFF\">\n",
       "0.8\n",
       "</text>\n",
       "<polyline fill=\"none\" opacity=\"1\" stroke=\"#FFFFFF\" stroke-width=\"1\" points=\"49,110 54,110 \"/>\n",
       "<text x=\"45\" y=\"75\" dy=\"0.5ex\" text-anchor=\"end\" font-family=\"sans-serif\" font-size=\"9.67741935483871\" opacity=\"1\" fill=\"#FFFFFF\">\n",
       "1.0\n",
       "</text>\n",
       "<polyline fill=\"none\" opacity=\"1\" stroke=\"#FFFFFF\" stroke-width=\"1\" points=\"49,75 54,75 \"/>\n",
       "<polyline fill=\"none\" opacity=\"1\" stroke=\"#FFFFFF\" stroke-width=\"1\" points=\"55,425 584,425 \"/>\n",
       "<text x=\"55\" y=\"435\" dy=\"0.76em\" text-anchor=\"middle\" font-family=\"sans-serif\" font-size=\"9.67741935483871\" opacity=\"1\" fill=\"#FFFFFF\">\n",
       "-10.0\n",
       "</text>\n",
       "<polyline fill=\"none\" opacity=\"1\" stroke=\"#FFFFFF\" stroke-width=\"1\" points=\"55,425 55,430 \"/>\n",
       "<text x=\"107\" y=\"435\" dy=\"0.76em\" text-anchor=\"middle\" font-family=\"sans-serif\" font-size=\"9.67741935483871\" opacity=\"1\" fill=\"#FFFFFF\">\n",
       "-8.0\n",
       "</text>\n",
       "<polyline fill=\"none\" opacity=\"1\" stroke=\"#FFFFFF\" stroke-width=\"1\" points=\"107,425 107,430 \"/>\n",
       "<text x=\"160\" y=\"435\" dy=\"0.76em\" text-anchor=\"middle\" font-family=\"sans-serif\" font-size=\"9.67741935483871\" opacity=\"1\" fill=\"#FFFFFF\">\n",
       "-6.0\n",
       "</text>\n",
       "<polyline fill=\"none\" opacity=\"1\" stroke=\"#FFFFFF\" stroke-width=\"1\" points=\"160,425 160,430 \"/>\n",
       "<text x=\"213\" y=\"435\" dy=\"0.76em\" text-anchor=\"middle\" font-family=\"sans-serif\" font-size=\"9.67741935483871\" opacity=\"1\" fill=\"#FFFFFF\">\n",
       "-4.0\n",
       "</text>\n",
       "<polyline fill=\"none\" opacity=\"1\" stroke=\"#FFFFFF\" stroke-width=\"1\" points=\"213,425 213,430 \"/>\n",
       "<text x=\"266\" y=\"435\" dy=\"0.76em\" text-anchor=\"middle\" font-family=\"sans-serif\" font-size=\"9.67741935483871\" opacity=\"1\" fill=\"#FFFFFF\">\n",
       "-2.0\n",
       "</text>\n",
       "<polyline fill=\"none\" opacity=\"1\" stroke=\"#FFFFFF\" stroke-width=\"1\" points=\"266,425 266,430 \"/>\n",
       "<text x=\"319\" y=\"435\" dy=\"0.76em\" text-anchor=\"middle\" font-family=\"sans-serif\" font-size=\"9.67741935483871\" opacity=\"1\" fill=\"#FFFFFF\">\n",
       "0.0\n",
       "</text>\n",
       "<polyline fill=\"none\" opacity=\"1\" stroke=\"#FFFFFF\" stroke-width=\"1\" points=\"319,425 319,430 \"/>\n",
       "<text x=\"372\" y=\"435\" dy=\"0.76em\" text-anchor=\"middle\" font-family=\"sans-serif\" font-size=\"9.67741935483871\" opacity=\"1\" fill=\"#FFFFFF\">\n",
       "2.0\n",
       "</text>\n",
       "<polyline fill=\"none\" opacity=\"1\" stroke=\"#FFFFFF\" stroke-width=\"1\" points=\"372,425 372,430 \"/>\n",
       "<text x=\"425\" y=\"435\" dy=\"0.76em\" text-anchor=\"middle\" font-family=\"sans-serif\" font-size=\"9.67741935483871\" opacity=\"1\" fill=\"#FFFFFF\">\n",
       "4.0\n",
       "</text>\n",
       "<polyline fill=\"none\" opacity=\"1\" stroke=\"#FFFFFF\" stroke-width=\"1\" points=\"425,425 425,430 \"/>\n",
       "<text x=\"478\" y=\"435\" dy=\"0.76em\" text-anchor=\"middle\" font-family=\"sans-serif\" font-size=\"9.67741935483871\" opacity=\"1\" fill=\"#FFFFFF\">\n",
       "6.0\n",
       "</text>\n",
       "<polyline fill=\"none\" opacity=\"1\" stroke=\"#FFFFFF\" stroke-width=\"1\" points=\"478,425 478,430 \"/>\n",
       "<text x=\"531\" y=\"435\" dy=\"0.76em\" text-anchor=\"middle\" font-family=\"sans-serif\" font-size=\"9.67741935483871\" opacity=\"1\" fill=\"#FFFFFF\">\n",
       "8.0\n",
       "</text>\n",
       "<polyline fill=\"none\" opacity=\"1\" stroke=\"#FFFFFF\" stroke-width=\"1\" points=\"531,425 531,430 \"/>\n",
       "<text x=\"584\" y=\"435\" dy=\"0.76em\" text-anchor=\"middle\" font-family=\"sans-serif\" font-size=\"9.67741935483871\" opacity=\"1\" fill=\"#FFFFFF\">\n",
       "10.0\n",
       "</text>\n",
       "<polyline fill=\"none\" opacity=\"1\" stroke=\"#FFFFFF\" stroke-width=\"1\" points=\"584,425 584,430 \"/>\n",
       "<polyline fill=\"none\" opacity=\"1\" stroke=\"#FFFFFF\" stroke-width=\"1\" points=\"585,75 585,424 \"/>\n",
       "<text x=\"595\" y=\"390\" dy=\"0.5ex\" text-anchor=\"start\" font-family=\"sans-serif\" font-size=\"9.67741935483871\" opacity=\"1\" fill=\"#FFFFFF\">\n",
       "-0.8\n",
       "</text>\n",
       "<polyline fill=\"none\" opacity=\"1\" stroke=\"#FFFFFF\" stroke-width=\"1\" points=\"585,390 590,390 \"/>\n",
       "<text x=\"595\" y=\"355\" dy=\"0.5ex\" text-anchor=\"start\" font-family=\"sans-serif\" font-size=\"9.67741935483871\" opacity=\"1\" fill=\"#FFFFFF\">\n",
       "-0.6\n",
       "</text>\n",
       "<polyline fill=\"none\" opacity=\"1\" stroke=\"#FFFFFF\" stroke-width=\"1\" points=\"585,355 590,355 \"/>\n",
       "<text x=\"595\" y=\"320\" dy=\"0.5ex\" text-anchor=\"start\" font-family=\"sans-serif\" font-size=\"9.67741935483871\" opacity=\"1\" fill=\"#FFFFFF\">\n",
       "-0.4\n",
       "</text>\n",
       "<polyline fill=\"none\" opacity=\"1\" stroke=\"#FFFFFF\" stroke-width=\"1\" points=\"585,320 590,320 \"/>\n",
       "<text x=\"595\" y=\"285\" dy=\"0.5ex\" text-anchor=\"start\" font-family=\"sans-serif\" font-size=\"9.67741935483871\" opacity=\"1\" fill=\"#FFFFFF\">\n",
       "-0.2\n",
       "</text>\n",
       "<polyline fill=\"none\" opacity=\"1\" stroke=\"#FFFFFF\" stroke-width=\"1\" points=\"585,285 590,285 \"/>\n",
       "<text x=\"617\" y=\"250\" dy=\"0.5ex\" text-anchor=\"end\" font-family=\"sans-serif\" font-size=\"9.67741935483871\" opacity=\"1\" fill=\"#FFFFFF\">\n",
       "0.0\n",
       "</text>\n",
       "<polyline fill=\"none\" opacity=\"1\" stroke=\"#FFFFFF\" stroke-width=\"1\" points=\"585,250 590,250 \"/>\n",
       "<text x=\"617\" y=\"215\" dy=\"0.5ex\" text-anchor=\"end\" font-family=\"sans-serif\" font-size=\"9.67741935483871\" opacity=\"1\" fill=\"#FFFFFF\">\n",
       "0.2\n",
       "</text>\n",
       "<polyline fill=\"none\" opacity=\"1\" stroke=\"#FFFFFF\" stroke-width=\"1\" points=\"585,215 590,215 \"/>\n",
       "<text x=\"617\" y=\"180\" dy=\"0.5ex\" text-anchor=\"end\" font-family=\"sans-serif\" font-size=\"9.67741935483871\" opacity=\"1\" fill=\"#FFFFFF\">\n",
       "0.4\n",
       "</text>\n",
       "<polyline fill=\"none\" opacity=\"1\" stroke=\"#FFFFFF\" stroke-width=\"1\" points=\"585,180 590,180 \"/>\n",
       "<text x=\"617\" y=\"145\" dy=\"0.5ex\" text-anchor=\"end\" font-family=\"sans-serif\" font-size=\"9.67741935483871\" opacity=\"1\" fill=\"#FFFFFF\">\n",
       "0.6\n",
       "</text>\n",
       "<polyline fill=\"none\" opacity=\"1\" stroke=\"#FFFFFF\" stroke-width=\"1\" points=\"585,145 590,145 \"/>\n",
       "<text x=\"617\" y=\"110\" dy=\"0.5ex\" text-anchor=\"end\" font-family=\"sans-serif\" font-size=\"9.67741935483871\" opacity=\"1\" fill=\"#FFFFFF\">\n",
       "0.8\n",
       "</text>\n",
       "<polyline fill=\"none\" opacity=\"1\" stroke=\"#FFFFFF\" stroke-width=\"1\" points=\"585,110 590,110 \"/>\n",
       "<text x=\"617\" y=\"75\" dy=\"0.5ex\" text-anchor=\"end\" font-family=\"sans-serif\" font-size=\"9.67741935483871\" opacity=\"1\" fill=\"#FFFFFF\">\n",
       "1.0\n",
       "</text>\n",
       "<polyline fill=\"none\" opacity=\"1\" stroke=\"#FFFFFF\" stroke-width=\"1\" points=\"585,75 590,75 \"/>\n",
       "<polyline fill=\"none\" opacity=\"1\" stroke=\"#FF0000\" stroke-width=\"1\" points=\"55,155 57,170 60,186 62,203 65,220 68,237 70,254 73,272 76,289 78,306 81,322 84,337 86,352 89,366 92,378 94,389 97,399 99,407 102,414 105,419 107,423 110,424 113,424 115,422 118,419 121,414 123,407 126,398 129,389 131,377 134,365 136,351 139,336 142,321 144,304 147,288 150,270 152,253 155,236 158,218 160,201 163,185 166,169 168,154 171,140 174,127 176,115 179,105 181,96 184,88 187,83 189,79 192,76 195,76 197,77 200,79 203,84 205,90 208,98 211,107 213,118 216,130 218,143 221,158 224,173 226,189 229,205 232,222 234,240 237,257 240,275 242,292 245,308 248,325 250,340 253,354 256,368 258,380 261,391 263,401 266,409 269,415 271,420 274,423 277,424 279,424 282,422 285,418 287,413 290,406 293,397 295,387 298,375 300,362 303,349 306,334 308,318 311,302 314,285 316,267 319,250 322,233 324,215 327,198 330,182 332,166 335,151 338,138 340,125 343,113 345,103 348,94 351,87 353,82 356,78 359,76 361,76 364,77 367,80 369,85 372,91 375,99 377,109 380,120 382,132 385,146 388,160 390,175 393,192 396,208 398,225 401,243 404,260 406,278 409,295 412,311 414,327 417,342 420,357 422,370 425,382 427,393 430,402 433,410 435,416 438,421 441,423 443,424 446,424 449,421 451,417 454,412 457,404 459,395 462,385 464,373 467,360 470,346 472,331 475,315 478,299 480,282 483,265 486,247 488,230 491,212 494,196 496,179 499,164 502,149 504,135 507,123 509,112 512,102 515,93 517,86 520,81 523,78 525,76 528,76 531,77 533,81 536,86 539,93 541,101 544,111 546,122 549,134 552,148 554,163 557,178 560,194 562,211 565,228 568,246 570,263 573,280 576,297 578,314 581,330 584,345 \"/>\n",
       "<polyline fill=\"none\" opacity=\"1\" stroke=\"#0000FF\" stroke-width=\"1\" points=\"55,396 57,405 60,412 62,418 65,422 68,424 70,424 73,423 76,420 78,415 81,409 84,401 86,392 89,381 92,368 94,355 97,341 99,325 102,309 105,293 107,275 110,258 113,241 115,223 118,206 121,190 123,173 126,158 129,144 131,131 134,118 136,108 139,98 142,90 144,84 147,80 150,77 152,76 155,76 158,78 160,82 163,88 166,95 168,104 171,115 174,126 176,139 179,153 181,168 184,184 187,201 189,217 192,235 195,252 197,270 200,287 203,304 205,320 208,336 211,350 213,364 216,377 218,388 221,398 224,406 226,413 229,419 232,422 234,424 237,424 240,423 242,419 245,414 248,408 250,400 253,390 256,379 258,366 261,353 263,338 266,323 269,306 271,290 274,272 277,255 279,238 282,220 285,203 287,187 290,171 293,156 295,142 298,128 300,117 303,106 306,97 308,89 311,83 314,79 316,76 319,75 322,76 324,79 327,83 330,89 332,97 335,106 338,117 340,128 343,142 345,156 348,171 351,187 353,203 356,220 359,238 361,255 364,272 367,290 369,306 372,323 375,338 377,353 380,366 382,379 385,390 388,400 390,408 393,414 396,419 398,423 401,424 404,424 406,422 409,419 412,413 414,406 417,398 420,388 422,377 425,364 427,350 430,336 433,320 435,304 438,287 441,270 443,252 446,235 449,217 451,201 454,184 457,168 459,153 462,139 464,126 467,115 470,104 472,95 475,88 478,82 480,78 483,76 486,76 488,77 491,80 494,84 496,90 499,98 502,108 504,118 507,131 509,144 512,158 515,173 517,190 520,206 523,223 525,241 528,258 531,275 533,293 536,309 539,325 541,341 544,355 546,368 549,381 552,392 554,401 557,409 560,415 562,420 565,423 568,424 570,424 573,422 576,418 578,412 581,405 584,396 \"/>\n",
       "<rect x=\"514\" y=\"227\" width=\"66\" height=\"45\" opacity=\"1\" fill=\"none\" stroke=\"#FFFFFF\"/>\n",
       "<text x=\"554\" y=\"237\" dy=\"0.76em\" text-anchor=\"start\" font-family=\"sans-serif\" font-size=\"9.67741935483871\" opacity=\"1\" fill=\"#FFFFFF\">\n",
       "sin\n",
       "</text>\n",
       "<text x=\"554\" y=\"252\" dy=\"0.76em\" text-anchor=\"start\" font-family=\"sans-serif\" font-size=\"9.67741935483871\" opacity=\"1\" fill=\"#FFFFFF\">\n",
       "cos\n",
       "</text>\n",
       "<polyline fill=\"none\" opacity=\"1\" stroke=\"#FF0000\" stroke-width=\"1\" points=\"524,242 544,242 \"/>\n",
       "<polyline fill=\"none\" opacity=\"1\" stroke=\"#0000FF\" stroke-width=\"1\" points=\"524,257 544,257 \"/>\n",
       "</svg>\n"
      ]
     },
     "metadata": {},
     "output_type": "display_data"
    },
    {
     "name": "stdout",
     "output_type": "stream",
     "text": [
      "type Mut0 = {mutable l0 : int32}\n",
      "let rec method1 (v0 : Mut0) : bool =\n",
      "    let v1 : int32 = v0.l0\n",
      "    let v2 : bool = v1 < 201\n",
      "    v2\n",
      "and method2 (v0 : int32, v1 : Mut0) : bool =\n",
      "    let v2 : int32 = v1.l0\n",
      "    let v3 : bool = v2 < v0\n",
      "    v3\n",
      "and method0 () : struct (string * string * (float []) * string * (struct (string * (float [])) [])) =\n",
      "    let v0 : (float []) = Array.zeroCreate<float> (201)\n",
      "    let v1 : Mut0 = {l0 = 0} : Mut0\n",
      "    while method1(v1) do\n",
      "        let v3 : int32 = v1.l0\n",
      "        let v4 : float = float v3\n",
      "        let v5 : float = 0.1 * v4\n",
      "        let v6 : float = -10.0 + v5\n",
      "        v0.[int v3] <- v6\n",
      "        let v7 : int32 = v3 + 1\n",
      "        v1.l0 <- v7\n",
      "        ()\n",
      "    let v8 : int32 = v0.Length\n",
      "    let v9 : (float []) = Array.zeroCreate<float> (v8)\n",
      "    let v10 : Mut0 = {l0 = 0} : Mut0\n",
      "    while method2(v8, v10) do\n",
      "        let v12 : int32 = v10.l0\n",
      "        let v13 : float = v0.[int v12]\n",
      "        let v14 : float = sin v13\n",
      "        v9.[int v12] <- v14\n",
      "        let v15 : int32 = v12 + 1\n",
      "        v10.l0 <- v15\n",
      "        ()\n",
      "    let v16 : (float []) = Array.zeroCreate<float> (v8)\n",
      "    let v17 : Mut0 = {l0 = 0} : Mut0\n",
      "    while method2(v8, v17) do\n",
      "        let v19 : int32 = v17.l0\n",
      "        let v20 : float = v0.[int v19]\n",
      "        let v21 : float = cos v20\n",
      "        v16.[int v19] <- v21\n",
      "        let v22 : int32 = v19 + 1\n",
      "        v17.l0 <- v22\n",
      "        ()\n",
      "    let v23 : string = \"sin\"\n",
      "    let v24 : string = \"cos\"\n",
      "    let v25 : (struct (string * (float [])) []) = [|struct (v23, v9); struct (v24, v16)|]\n",
      "    let v26 : string = \"sin cos\"\n",
      "    let v27 : string = \"x\"\n",
      "    let v28 : string = \"y\"\n",
      "    struct (v26, v27, v0, v28, v25)\n",
      "method0()\n",
      "\r\n"
     ]
    }
   ],
   "source": [
    "// // test\n",
    "\n",
    "inl x : a _ f64 = init_series -10 10 0.1\n",
    "inl y_sin = x |> am.map sin\n",
    "inl y_cos = x |> am.map cos\n",
    "\"sin cos\", \"x\", x, \"y\", ;[\"sin\", y_sin; \"cos\", y_cos]"
   ]
  },
  {
   "cell_type": "code",
   "execution_count": null,
   "metadata": {
    "dotnet_interactive": {
     "language": "spiral"
    },
    "polyglot_notebook": {
     "kernelName": "spiral"
    }
   },
   "outputs": [
    {
     "data": {
      "text/html": [
       "<svg width=\"640\" height=\"480\" viewBox=\"0 0 640 480\" xmlns=\"http://www.w3.org/2000/svg\">\n",
       "<rect x=\"0\" y=\"0\" width=\"640\" height=\"480\" opacity=\"1\" fill=\"#141414\" stroke=\"none\"/>\n",
       "<text x=\"320\" y=\"10\" dy=\"0.76em\" text-anchor=\"middle\" font-family=\"sans-serif\" font-size=\"9.67741935483871\" opacity=\"1\" fill=\"#FFFFFF\">\n",
       "projectile motion\n",
       "</text>\n",
       "<line opacity=\"1\" stroke=\"#323232\" stroke-width=\"1\" x1=\"55\" y1=\"424\" x2=\"55\" y2=\"75\"/>\n",
       "<line opacity=\"1\" stroke=\"#323232\" stroke-width=\"1\" x1=\"65\" y1=\"424\" x2=\"65\" y2=\"75\"/>\n",
       "<line opacity=\"1\" stroke=\"#323232\" stroke-width=\"1\" x1=\"76\" y1=\"424\" x2=\"76\" y2=\"75\"/>\n",
       "<line opacity=\"1\" stroke=\"#323232\" stroke-width=\"1\" x1=\"86\" y1=\"424\" x2=\"86\" y2=\"75\"/>\n",
       "<line opacity=\"1\" stroke=\"#323232\" stroke-width=\"1\" x1=\"97\" y1=\"424\" x2=\"97\" y2=\"75\"/>\n",
       "<line opacity=\"1\" stroke=\"#323232\" stroke-width=\"1\" x1=\"107\" y1=\"424\" x2=\"107\" y2=\"75\"/>\n",
       "<line opacity=\"1\" stroke=\"#323232\" stroke-width=\"1\" x1=\"118\" y1=\"424\" x2=\"118\" y2=\"75\"/>\n",
       "<line opacity=\"1\" stroke=\"#323232\" stroke-width=\"1\" x1=\"129\" y1=\"424\" x2=\"129\" y2=\"75\"/>\n",
       "<line opacity=\"1\" stroke=\"#323232\" stroke-width=\"1\" x1=\"139\" y1=\"424\" x2=\"139\" y2=\"75\"/>\n",
       "<line opacity=\"1\" stroke=\"#323232\" stroke-width=\"1\" x1=\"150\" y1=\"424\" x2=\"150\" y2=\"75\"/>\n",
       "<line opacity=\"1\" stroke=\"#323232\" stroke-width=\"1\" x1=\"160\" y1=\"424\" x2=\"160\" y2=\"75\"/>\n",
       "<line opacity=\"1\" stroke=\"#323232\" stroke-width=\"1\" x1=\"171\" y1=\"424\" x2=\"171\" y2=\"75\"/>\n",
       "<line opacity=\"1\" stroke=\"#323232\" stroke-width=\"1\" x1=\"181\" y1=\"424\" x2=\"181\" y2=\"75\"/>\n",
       "<line opacity=\"1\" stroke=\"#323232\" stroke-width=\"1\" x1=\"192\" y1=\"424\" x2=\"192\" y2=\"75\"/>\n",
       "<line opacity=\"1\" stroke=\"#323232\" stroke-width=\"1\" x1=\"203\" y1=\"424\" x2=\"203\" y2=\"75\"/>\n",
       "<line opacity=\"1\" stroke=\"#323232\" stroke-width=\"1\" x1=\"213\" y1=\"424\" x2=\"213\" y2=\"75\"/>\n",
       "<line opacity=\"1\" stroke=\"#323232\" stroke-width=\"1\" x1=\"224\" y1=\"424\" x2=\"224\" y2=\"75\"/>\n",
       "<line opacity=\"1\" stroke=\"#323232\" stroke-width=\"1\" x1=\"234\" y1=\"424\" x2=\"234\" y2=\"75\"/>\n",
       "<line opacity=\"1\" stroke=\"#323232\" stroke-width=\"1\" x1=\"245\" y1=\"424\" x2=\"245\" y2=\"75\"/>\n",
       "<line opacity=\"1\" stroke=\"#323232\" stroke-width=\"1\" x1=\"256\" y1=\"424\" x2=\"256\" y2=\"75\"/>\n",
       "<line opacity=\"1\" stroke=\"#323232\" stroke-width=\"1\" x1=\"266\" y1=\"424\" x2=\"266\" y2=\"75\"/>\n",
       "<line opacity=\"1\" stroke=\"#323232\" stroke-width=\"1\" x1=\"277\" y1=\"424\" x2=\"277\" y2=\"75\"/>\n",
       "<line opacity=\"1\" stroke=\"#323232\" stroke-width=\"1\" x1=\"287\" y1=\"424\" x2=\"287\" y2=\"75\"/>\n",
       "<line opacity=\"1\" stroke=\"#323232\" stroke-width=\"1\" x1=\"298\" y1=\"424\" x2=\"298\" y2=\"75\"/>\n",
       "<line opacity=\"1\" stroke=\"#323232\" stroke-width=\"1\" x1=\"308\" y1=\"424\" x2=\"308\" y2=\"75\"/>\n",
       "<line opacity=\"1\" stroke=\"#323232\" stroke-width=\"1\" x1=\"319\" y1=\"424\" x2=\"319\" y2=\"75\"/>\n",
       "<line opacity=\"1\" stroke=\"#323232\" stroke-width=\"1\" x1=\"330\" y1=\"424\" x2=\"330\" y2=\"75\"/>\n",
       "<line opacity=\"1\" stroke=\"#323232\" stroke-width=\"1\" x1=\"340\" y1=\"424\" x2=\"340\" y2=\"75\"/>\n",
       "<line opacity=\"1\" stroke=\"#323232\" stroke-width=\"1\" x1=\"351\" y1=\"424\" x2=\"351\" y2=\"75\"/>\n",
       "<line opacity=\"1\" stroke=\"#323232\" stroke-width=\"1\" x1=\"361\" y1=\"424\" x2=\"361\" y2=\"75\"/>\n",
       "<line opacity=\"1\" stroke=\"#323232\" stroke-width=\"1\" x1=\"372\" y1=\"424\" x2=\"372\" y2=\"75\"/>\n",
       "<line opacity=\"1\" stroke=\"#323232\" stroke-width=\"1\" x1=\"382\" y1=\"424\" x2=\"382\" y2=\"75\"/>\n",
       "<line opacity=\"1\" stroke=\"#323232\" stroke-width=\"1\" x1=\"393\" y1=\"424\" x2=\"393\" y2=\"75\"/>\n",
       "<line opacity=\"1\" stroke=\"#323232\" stroke-width=\"1\" x1=\"404\" y1=\"424\" x2=\"404\" y2=\"75\"/>\n",
       "<line opacity=\"1\" stroke=\"#323232\" stroke-width=\"1\" x1=\"414\" y1=\"424\" x2=\"414\" y2=\"75\"/>\n",
       "<line opacity=\"1\" stroke=\"#323232\" stroke-width=\"1\" x1=\"425\" y1=\"424\" x2=\"425\" y2=\"75\"/>\n",
       "<line opacity=\"1\" stroke=\"#323232\" stroke-width=\"1\" x1=\"435\" y1=\"424\" x2=\"435\" y2=\"75\"/>\n",
       "<line opacity=\"1\" stroke=\"#323232\" stroke-width=\"1\" x1=\"446\" y1=\"424\" x2=\"446\" y2=\"75\"/>\n",
       "<line opacity=\"1\" stroke=\"#323232\" stroke-width=\"1\" x1=\"457\" y1=\"424\" x2=\"457\" y2=\"75\"/>\n",
       "<line opacity=\"1\" stroke=\"#323232\" stroke-width=\"1\" x1=\"467\" y1=\"424\" x2=\"467\" y2=\"75\"/>\n",
       "<line opacity=\"1\" stroke=\"#323232\" stroke-width=\"1\" x1=\"478\" y1=\"424\" x2=\"478\" y2=\"75\"/>\n",
       "<line opacity=\"1\" stroke=\"#323232\" stroke-width=\"1\" x1=\"488\" y1=\"424\" x2=\"488\" y2=\"75\"/>\n",
       "<line opacity=\"1\" stroke=\"#323232\" stroke-width=\"1\" x1=\"499\" y1=\"424\" x2=\"499\" y2=\"75\"/>\n",
       "<line opacity=\"1\" stroke=\"#323232\" stroke-width=\"1\" x1=\"509\" y1=\"424\" x2=\"509\" y2=\"75\"/>\n",
       "<line opacity=\"1\" stroke=\"#323232\" stroke-width=\"1\" x1=\"520\" y1=\"424\" x2=\"520\" y2=\"75\"/>\n",
       "<line opacity=\"1\" stroke=\"#323232\" stroke-width=\"1\" x1=\"531\" y1=\"424\" x2=\"531\" y2=\"75\"/>\n",
       "<line opacity=\"1\" stroke=\"#323232\" stroke-width=\"1\" x1=\"541\" y1=\"424\" x2=\"541\" y2=\"75\"/>\n",
       "<line opacity=\"1\" stroke=\"#323232\" stroke-width=\"1\" x1=\"552\" y1=\"424\" x2=\"552\" y2=\"75\"/>\n",
       "<line opacity=\"1\" stroke=\"#323232\" stroke-width=\"1\" x1=\"562\" y1=\"424\" x2=\"562\" y2=\"75\"/>\n",
       "<line opacity=\"1\" stroke=\"#323232\" stroke-width=\"1\" x1=\"573\" y1=\"424\" x2=\"573\" y2=\"75\"/>\n",
       "<line opacity=\"1\" stroke=\"#323232\" stroke-width=\"1\" x1=\"584\" y1=\"424\" x2=\"584\" y2=\"75\"/>\n",
       "<line opacity=\"1\" stroke=\"#323232\" stroke-width=\"1\" x1=\"55\" y1=\"420\" x2=\"584\" y2=\"420\"/>\n",
       "<line opacity=\"1\" stroke=\"#323232\" stroke-width=\"1\" x1=\"55\" y1=\"404\" x2=\"584\" y2=\"404\"/>\n",
       "<line opacity=\"1\" stroke=\"#323232\" stroke-width=\"1\" x1=\"55\" y1=\"388\" x2=\"584\" y2=\"388\"/>\n",
       "<line opacity=\"1\" stroke=\"#323232\" stroke-width=\"1\" x1=\"55\" y1=\"372\" x2=\"584\" y2=\"372\"/>\n",
       "<line opacity=\"1\" stroke=\"#323232\" stroke-width=\"1\" x1=\"55\" y1=\"355\" x2=\"584\" y2=\"355\"/>\n",
       "<line opacity=\"1\" stroke=\"#323232\" stroke-width=\"1\" x1=\"55\" y1=\"339\" x2=\"584\" y2=\"339\"/>\n",
       "<line opacity=\"1\" stroke=\"#323232\" stroke-width=\"1\" x1=\"55\" y1=\"323\" x2=\"584\" y2=\"323\"/>\n",
       "<line opacity=\"1\" stroke=\"#323232\" stroke-width=\"1\" x1=\"55\" y1=\"307\" x2=\"584\" y2=\"307\"/>\n",
       "<line opacity=\"1\" stroke=\"#323232\" stroke-width=\"1\" x1=\"55\" y1=\"290\" x2=\"584\" y2=\"290\"/>\n",
       "<line opacity=\"1\" stroke=\"#323232\" stroke-width=\"1\" x1=\"55\" y1=\"274\" x2=\"584\" y2=\"274\"/>\n",
       "<line opacity=\"1\" stroke=\"#323232\" stroke-width=\"1\" x1=\"55\" y1=\"258\" x2=\"584\" y2=\"258\"/>\n",
       "<line opacity=\"1\" stroke=\"#323232\" stroke-width=\"1\" x1=\"55\" y1=\"241\" x2=\"584\" y2=\"241\"/>\n",
       "<line opacity=\"1\" stroke=\"#323232\" stroke-width=\"1\" x1=\"55\" y1=\"225\" x2=\"584\" y2=\"225\"/>\n",
       "<line opacity=\"1\" stroke=\"#323232\" stroke-width=\"1\" x1=\"55\" y1=\"209\" x2=\"584\" y2=\"209\"/>\n",
       "<line opacity=\"1\" stroke=\"#323232\" stroke-width=\"1\" x1=\"55\" y1=\"193\" x2=\"584\" y2=\"193\"/>\n",
       "<line opacity=\"1\" stroke=\"#323232\" stroke-width=\"1\" x1=\"55\" y1=\"176\" x2=\"584\" y2=\"176\"/>\n",
       "<line opacity=\"1\" stroke=\"#323232\" stroke-width=\"1\" x1=\"55\" y1=\"160\" x2=\"584\" y2=\"160\"/>\n",
       "<line opacity=\"1\" stroke=\"#323232\" stroke-width=\"1\" x1=\"55\" y1=\"144\" x2=\"584\" y2=\"144\"/>\n",
       "<line opacity=\"1\" stroke=\"#323232\" stroke-width=\"1\" x1=\"55\" y1=\"128\" x2=\"584\" y2=\"128\"/>\n",
       "<line opacity=\"1\" stroke=\"#323232\" stroke-width=\"1\" x1=\"55\" y1=\"111\" x2=\"584\" y2=\"111\"/>\n",
       "<line opacity=\"1\" stroke=\"#323232\" stroke-width=\"1\" x1=\"55\" y1=\"95\" x2=\"584\" y2=\"95\"/>\n",
       "<line opacity=\"1\" stroke=\"#323232\" stroke-width=\"1\" x1=\"55\" y1=\"79\" x2=\"584\" y2=\"79\"/>\n",
       "<text x=\"320\" y=\"25\" dy=\"0.76em\" text-anchor=\"middle\" font-family=\"sans-serif\" font-size=\"9.67741935483871\" opacity=\"1\" fill=\"#FFFFFF\">\n",
       "time (s)\n",
       "</text>\n",
       "<text x=\"5\" y=\"250\" dy=\"0.76em\" text-anchor=\"middle\" font-family=\"sans-serif\" font-size=\"9.67741935483871\" opacity=\"1\" fill=\"#FFFFFF\" transform=\"rotate(270, 5, 250)\">\n",
       "\n",
       "</text>\n",
       "<text x=\"320\" y=\"475\" dy=\"-0.5ex\" text-anchor=\"middle\" font-family=\"sans-serif\" font-size=\"9.67741935483871\" opacity=\"1\" fill=\"#FFFFFF\">\n",
       "time (s)\n",
       "</text>\n",
       "<text x=\"635\" y=\"250\" dy=\"0.76em\" text-anchor=\"middle\" font-family=\"sans-serif\" font-size=\"9.67741935483871\" opacity=\"1\" fill=\"#FFFFFF\" transform=\"rotate(90, 635, 250)\">\n",
       "\n",
       "</text>\n",
       "<line opacity=\"1\" stroke=\"#5A5A5A\" stroke-width=\"1\" x1=\"55\" y1=\"424\" x2=\"55\" y2=\"75\"/>\n",
       "<line opacity=\"1\" stroke=\"#5A5A5A\" stroke-width=\"1\" x1=\"107\" y1=\"424\" x2=\"107\" y2=\"75\"/>\n",
       "<line opacity=\"1\" stroke=\"#5A5A5A\" stroke-width=\"1\" x1=\"160\" y1=\"424\" x2=\"160\" y2=\"75\"/>\n",
       "<line opacity=\"1\" stroke=\"#5A5A5A\" stroke-width=\"1\" x1=\"213\" y1=\"424\" x2=\"213\" y2=\"75\"/>\n",
       "<line opacity=\"1\" stroke=\"#5A5A5A\" stroke-width=\"1\" x1=\"266\" y1=\"424\" x2=\"266\" y2=\"75\"/>\n",
       "<line opacity=\"1\" stroke=\"#5A5A5A\" stroke-width=\"1\" x1=\"319\" y1=\"424\" x2=\"319\" y2=\"75\"/>\n",
       "<line opacity=\"1\" stroke=\"#5A5A5A\" stroke-width=\"1\" x1=\"372\" y1=\"424\" x2=\"372\" y2=\"75\"/>\n",
       "<line opacity=\"1\" stroke=\"#5A5A5A\" stroke-width=\"1\" x1=\"425\" y1=\"424\" x2=\"425\" y2=\"75\"/>\n",
       "<line opacity=\"1\" stroke=\"#5A5A5A\" stroke-width=\"1\" x1=\"478\" y1=\"424\" x2=\"478\" y2=\"75\"/>\n",
       "<line opacity=\"1\" stroke=\"#5A5A5A\" stroke-width=\"1\" x1=\"531\" y1=\"424\" x2=\"531\" y2=\"75\"/>\n",
       "<line opacity=\"1\" stroke=\"#5A5A5A\" stroke-width=\"1\" x1=\"584\" y1=\"424\" x2=\"584\" y2=\"75\"/>\n",
       "<line opacity=\"1\" stroke=\"#5A5A5A\" stroke-width=\"1\" x1=\"55\" y1=\"404\" x2=\"584\" y2=\"404\"/>\n",
       "<line opacity=\"1\" stroke=\"#5A5A5A\" stroke-width=\"1\" x1=\"55\" y1=\"363\" x2=\"584\" y2=\"363\"/>\n",
       "<line opacity=\"1\" stroke=\"#5A5A5A\" stroke-width=\"1\" x1=\"55\" y1=\"323\" x2=\"584\" y2=\"323\"/>\n",
       "<line opacity=\"1\" stroke=\"#5A5A5A\" stroke-width=\"1\" x1=\"55\" y1=\"282\" x2=\"584\" y2=\"282\"/>\n",
       "<line opacity=\"1\" stroke=\"#5A5A5A\" stroke-width=\"1\" x1=\"55\" y1=\"241\" x2=\"584\" y2=\"241\"/>\n",
       "<line opacity=\"1\" stroke=\"#5A5A5A\" stroke-width=\"1\" x1=\"55\" y1=\"201\" x2=\"584\" y2=\"201\"/>\n",
       "<line opacity=\"1\" stroke=\"#5A5A5A\" stroke-width=\"1\" x1=\"55\" y1=\"160\" x2=\"584\" y2=\"160\"/>\n",
       "<line opacity=\"1\" stroke=\"#5A5A5A\" stroke-width=\"1\" x1=\"55\" y1=\"119\" x2=\"584\" y2=\"119\"/>\n",
       "<line opacity=\"1\" stroke=\"#5A5A5A\" stroke-width=\"1\" x1=\"55\" y1=\"79\" x2=\"584\" y2=\"79\"/>\n",
       "<polyline fill=\"none\" opacity=\"1\" stroke=\"#FFFFFF\" stroke-width=\"1\" points=\"55,74 584,74 \"/>\n",
       "<text x=\"55\" y=\"65\" dy=\"-0.5ex\" text-anchor=\"middle\" font-family=\"sans-serif\" font-size=\"9.67741935483871\" opacity=\"1\" fill=\"#FFFFFF\">\n",
       "0.0\n",
       "</text>\n",
       "<polyline fill=\"none\" opacity=\"1\" stroke=\"#FFFFFF\" stroke-width=\"1\" points=\"55,69 55,74 \"/>\n",
       "<text x=\"107\" y=\"65\" dy=\"-0.5ex\" text-anchor=\"middle\" font-family=\"sans-serif\" font-size=\"9.67741935483871\" opacity=\"1\" fill=\"#FFFFFF\">\n",
       "0.5\n",
       "</text>\n",
       "<polyline fill=\"none\" opacity=\"1\" stroke=\"#FFFFFF\" stroke-width=\"1\" points=\"107,69 107,74 \"/>\n",
       "<text x=\"160\" y=\"65\" dy=\"-0.5ex\" text-anchor=\"middle\" font-family=\"sans-serif\" font-size=\"9.67741935483871\" opacity=\"1\" fill=\"#FFFFFF\">\n",
       "1.0\n",
       "</text>\n",
       "<polyline fill=\"none\" opacity=\"1\" stroke=\"#FFFFFF\" stroke-width=\"1\" points=\"160,69 160,74 \"/>\n",
       "<text x=\"213\" y=\"65\" dy=\"-0.5ex\" text-anchor=\"middle\" font-family=\"sans-serif\" font-size=\"9.67741935483871\" opacity=\"1\" fill=\"#FFFFFF\">\n",
       "1.5\n",
       "</text>\n",
       "<polyline fill=\"none\" opacity=\"1\" stroke=\"#FFFFFF\" stroke-width=\"1\" points=\"213,69 213,74 \"/>\n",
       "<text x=\"266\" y=\"65\" dy=\"-0.5ex\" text-anchor=\"middle\" font-family=\"sans-serif\" font-size=\"9.67741935483871\" opacity=\"1\" fill=\"#FFFFFF\">\n",
       "2.0\n",
       "</text>\n",
       "<polyline fill=\"none\" opacity=\"1\" stroke=\"#FFFFFF\" stroke-width=\"1\" points=\"266,69 266,74 \"/>\n",
       "<text x=\"319\" y=\"65\" dy=\"-0.5ex\" text-anchor=\"middle\" font-family=\"sans-serif\" font-size=\"9.67741935483871\" opacity=\"1\" fill=\"#FFFFFF\">\n",
       "2.5\n",
       "</text>\n",
       "<polyline fill=\"none\" opacity=\"1\" stroke=\"#FFFFFF\" stroke-width=\"1\" points=\"319,69 319,74 \"/>\n",
       "<text x=\"372\" y=\"65\" dy=\"-0.5ex\" text-anchor=\"middle\" font-family=\"sans-serif\" font-size=\"9.67741935483871\" opacity=\"1\" fill=\"#FFFFFF\">\n",
       "3.0\n",
       "</text>\n",
       "<polyline fill=\"none\" opacity=\"1\" stroke=\"#FFFFFF\" stroke-width=\"1\" points=\"372,69 372,74 \"/>\n",
       "<text x=\"425\" y=\"65\" dy=\"-0.5ex\" text-anchor=\"middle\" font-family=\"sans-serif\" font-size=\"9.67741935483871\" opacity=\"1\" fill=\"#FFFFFF\">\n",
       "3.5\n",
       "</text>\n",
       "<polyline fill=\"none\" opacity=\"1\" stroke=\"#FFFFFF\" stroke-width=\"1\" points=\"425,69 425,74 \"/>\n",
       "<text x=\"478\" y=\"65\" dy=\"-0.5ex\" text-anchor=\"middle\" font-family=\"sans-serif\" font-size=\"9.67741935483871\" opacity=\"1\" fill=\"#FFFFFF\">\n",
       "4.0\n",
       "</text>\n",
       "<polyline fill=\"none\" opacity=\"1\" stroke=\"#FFFFFF\" stroke-width=\"1\" points=\"478,69 478,74 \"/>\n",
       "<text x=\"531\" y=\"65\" dy=\"-0.5ex\" text-anchor=\"middle\" font-family=\"sans-serif\" font-size=\"9.67741935483871\" opacity=\"1\" fill=\"#FFFFFF\">\n",
       "4.5\n",
       "</text>\n",
       "<polyline fill=\"none\" opacity=\"1\" stroke=\"#FFFFFF\" stroke-width=\"1\" points=\"531,69 531,74 \"/>\n",
       "<text x=\"584\" y=\"65\" dy=\"-0.5ex\" text-anchor=\"middle\" font-family=\"sans-serif\" font-size=\"9.67741935483871\" opacity=\"1\" fill=\"#FFFFFF\">\n",
       "5.0\n",
       "</text>\n",
       "<polyline fill=\"none\" opacity=\"1\" stroke=\"#FFFFFF\" stroke-width=\"1\" points=\"584,69 584,74 \"/>\n",
       "<polyline fill=\"none\" opacity=\"1\" stroke=\"#FFFFFF\" stroke-width=\"1\" points=\"54,75 54,424 \"/>\n",
       "<text x=\"45\" y=\"404\" dy=\"0.5ex\" text-anchor=\"end\" font-family=\"sans-serif\" font-size=\"9.67741935483871\" opacity=\"1\" fill=\"#FFFFFF\">\n",
       "-20.0\n",
       "</text>\n",
       "<polyline fill=\"none\" opacity=\"1\" stroke=\"#FFFFFF\" stroke-width=\"1\" points=\"49,404 54,404 \"/>\n",
       "<text x=\"45\" y=\"363\" dy=\"0.5ex\" text-anchor=\"end\" font-family=\"sans-serif\" font-size=\"9.67741935483871\" opacity=\"1\" fill=\"#FFFFFF\">\n",
       "-15.0\n",
       "</text>\n",
       "<polyline fill=\"none\" opacity=\"1\" stroke=\"#FFFFFF\" stroke-width=\"1\" points=\"49,363 54,363 \"/>\n",
       "<text x=\"45\" y=\"323\" dy=\"0.5ex\" text-anchor=\"end\" font-family=\"sans-serif\" font-size=\"9.67741935483871\" opacity=\"1\" fill=\"#FFFFFF\">\n",
       "-10.0\n",
       "</text>\n",
       "<polyline fill=\"none\" opacity=\"1\" stroke=\"#FFFFFF\" stroke-width=\"1\" points=\"49,323 54,323 \"/>\n",
       "<text x=\"45\" y=\"282\" dy=\"0.5ex\" text-anchor=\"end\" font-family=\"sans-serif\" font-size=\"9.67741935483871\" opacity=\"1\" fill=\"#FFFFFF\">\n",
       "-5.0\n",
       "</text>\n",
       "<polyline fill=\"none\" opacity=\"1\" stroke=\"#FFFFFF\" stroke-width=\"1\" points=\"49,282 54,282 \"/>\n",
       "<text x=\"45\" y=\"241\" dy=\"0.5ex\" text-anchor=\"end\" font-family=\"sans-serif\" font-size=\"9.67741935483871\" opacity=\"1\" fill=\"#FFFFFF\">\n",
       "0.0\n",
       "</text>\n",
       "<polyline fill=\"none\" opacity=\"1\" stroke=\"#FFFFFF\" stroke-width=\"1\" points=\"49,241 54,241 \"/>\n",
       "<text x=\"45\" y=\"201\" dy=\"0.5ex\" text-anchor=\"end\" font-family=\"sans-serif\" font-size=\"9.67741935483871\" opacity=\"1\" fill=\"#FFFFFF\">\n",
       "5.0\n",
       "</text>\n",
       "<polyline fill=\"none\" opacity=\"1\" stroke=\"#FFFFFF\" stroke-width=\"1\" points=\"49,201 54,201 \"/>\n",
       "<text x=\"45\" y=\"160\" dy=\"0.5ex\" text-anchor=\"end\" font-family=\"sans-serif\" font-size=\"9.67741935483871\" opacity=\"1\" fill=\"#FFFFFF\">\n",
       "10.0\n",
       "</text>\n",
       "<polyline fill=\"none\" opacity=\"1\" stroke=\"#FFFFFF\" stroke-width=\"1\" points=\"49,160 54,160 \"/>\n",
       "<text x=\"45\" y=\"119\" dy=\"0.5ex\" text-anchor=\"end\" font-family=\"sans-serif\" font-size=\"9.67741935483871\" opacity=\"1\" fill=\"#FFFFFF\">\n",
       "15.0\n",
       "</text>\n",
       "<polyline fill=\"none\" opacity=\"1\" stroke=\"#FFFFFF\" stroke-width=\"1\" points=\"49,119 54,119 \"/>\n",
       "<text x=\"45\" y=\"79\" dy=\"0.5ex\" text-anchor=\"end\" font-family=\"sans-serif\" font-size=\"9.67741935483871\" opacity=\"1\" fill=\"#FFFFFF\">\n",
       "20.0\n",
       "</text>\n",
       "<polyline fill=\"none\" opacity=\"1\" stroke=\"#FFFFFF\" stroke-width=\"1\" points=\"49,79 54,79 \"/>\n",
       "<polyline fill=\"none\" opacity=\"1\" stroke=\"#FFFFFF\" stroke-width=\"1\" points=\"55,425 584,425 \"/>\n",
       "<text x=\"55\" y=\"435\" dy=\"0.76em\" text-anchor=\"middle\" font-family=\"sans-serif\" font-size=\"9.67741935483871\" opacity=\"1\" fill=\"#FFFFFF\">\n",
       "0.0\n",
       "</text>\n",
       "<polyline fill=\"none\" opacity=\"1\" stroke=\"#FFFFFF\" stroke-width=\"1\" points=\"55,425 55,430 \"/>\n",
       "<text x=\"107\" y=\"435\" dy=\"0.76em\" text-anchor=\"middle\" font-family=\"sans-serif\" font-size=\"9.67741935483871\" opacity=\"1\" fill=\"#FFFFFF\">\n",
       "0.5\n",
       "</text>\n",
       "<polyline fill=\"none\" opacity=\"1\" stroke=\"#FFFFFF\" stroke-width=\"1\" points=\"107,425 107,430 \"/>\n",
       "<text x=\"160\" y=\"435\" dy=\"0.76em\" text-anchor=\"middle\" font-family=\"sans-serif\" font-size=\"9.67741935483871\" opacity=\"1\" fill=\"#FFFFFF\">\n",
       "1.0\n",
       "</text>\n",
       "<polyline fill=\"none\" opacity=\"1\" stroke=\"#FFFFFF\" stroke-width=\"1\" points=\"160,425 160,430 \"/>\n",
       "<text x=\"213\" y=\"435\" dy=\"0.76em\" text-anchor=\"middle\" font-family=\"sans-serif\" font-size=\"9.67741935483871\" opacity=\"1\" fill=\"#FFFFFF\">\n",
       "1.5\n",
       "</text>\n",
       "<polyline fill=\"none\" opacity=\"1\" stroke=\"#FFFFFF\" stroke-width=\"1\" points=\"213,425 213,430 \"/>\n",
       "<text x=\"266\" y=\"435\" dy=\"0.76em\" text-anchor=\"middle\" font-family=\"sans-serif\" font-size=\"9.67741935483871\" opacity=\"1\" fill=\"#FFFFFF\">\n",
       "2.0\n",
       "</text>\n",
       "<polyline fill=\"none\" opacity=\"1\" stroke=\"#FFFFFF\" stroke-width=\"1\" points=\"266,425 266,430 \"/>\n",
       "<text x=\"319\" y=\"435\" dy=\"0.76em\" text-anchor=\"middle\" font-family=\"sans-serif\" font-size=\"9.67741935483871\" opacity=\"1\" fill=\"#FFFFFF\">\n",
       "2.5\n",
       "</text>\n",
       "<polyline fill=\"none\" opacity=\"1\" stroke=\"#FFFFFF\" stroke-width=\"1\" points=\"319,425 319,430 \"/>\n",
       "<text x=\"372\" y=\"435\" dy=\"0.76em\" text-anchor=\"middle\" font-family=\"sans-serif\" font-size=\"9.67741935483871\" opacity=\"1\" fill=\"#FFFFFF\">\n",
       "3.0\n",
       "</text>\n",
       "<polyline fill=\"none\" opacity=\"1\" stroke=\"#FFFFFF\" stroke-width=\"1\" points=\"372,425 372,430 \"/>\n",
       "<text x=\"425\" y=\"435\" dy=\"0.76em\" text-anchor=\"middle\" font-family=\"sans-serif\" font-size=\"9.67741935483871\" opacity=\"1\" fill=\"#FFFFFF\">\n",
       "3.5\n",
       "</text>\n",
       "<polyline fill=\"none\" opacity=\"1\" stroke=\"#FFFFFF\" stroke-width=\"1\" points=\"425,425 425,430 \"/>\n",
       "<text x=\"478\" y=\"435\" dy=\"0.76em\" text-anchor=\"middle\" font-family=\"sans-serif\" font-size=\"9.67741935483871\" opacity=\"1\" fill=\"#FFFFFF\">\n",
       "4.0\n",
       "</text>\n",
       "<polyline fill=\"none\" opacity=\"1\" stroke=\"#FFFFFF\" stroke-width=\"1\" points=\"478,425 478,430 \"/>\n",
       "<text x=\"531\" y=\"435\" dy=\"0.76em\" text-anchor=\"middle\" font-family=\"sans-serif\" font-size=\"9.67741935483871\" opacity=\"1\" fill=\"#FFFFFF\">\n",
       "4.5\n",
       "</text>\n",
       "<polyline fill=\"none\" opacity=\"1\" stroke=\"#FFFFFF\" stroke-width=\"1\" points=\"531,425 531,430 \"/>\n",
       "<text x=\"584\" y=\"435\" dy=\"0.76em\" text-anchor=\"middle\" font-family=\"sans-serif\" font-size=\"9.67741935483871\" opacity=\"1\" fill=\"#FFFFFF\">\n",
       "5.0\n",
       "</text>\n",
       "<polyline fill=\"none\" opacity=\"1\" stroke=\"#FFFFFF\" stroke-width=\"1\" points=\"584,425 584,430 \"/>\n",
       "<polyline fill=\"none\" opacity=\"1\" stroke=\"#FFFFFF\" stroke-width=\"1\" points=\"585,75 585,424 \"/>\n",
       "<text x=\"595\" y=\"404\" dy=\"0.5ex\" text-anchor=\"start\" font-family=\"sans-serif\" font-size=\"9.67741935483871\" opacity=\"1\" fill=\"#FFFFFF\">\n",
       "-20.0\n",
       "</text>\n",
       "<polyline fill=\"none\" opacity=\"1\" stroke=\"#FFFFFF\" stroke-width=\"1\" points=\"585,404 590,404 \"/>\n",
       "<text x=\"595\" y=\"363\" dy=\"0.5ex\" text-anchor=\"start\" font-family=\"sans-serif\" font-size=\"9.67741935483871\" opacity=\"1\" fill=\"#FFFFFF\">\n",
       "-15.0\n",
       "</text>\n",
       "<polyline fill=\"none\" opacity=\"1\" stroke=\"#FFFFFF\" stroke-width=\"1\" points=\"585,363 590,363 \"/>\n",
       "<text x=\"595\" y=\"323\" dy=\"0.5ex\" text-anchor=\"start\" font-family=\"sans-serif\" font-size=\"9.67741935483871\" opacity=\"1\" fill=\"#FFFFFF\">\n",
       "-10.0\n",
       "</text>\n",
       "<polyline fill=\"none\" opacity=\"1\" stroke=\"#FFFFFF\" stroke-width=\"1\" points=\"585,323 590,323 \"/>\n",
       "<text x=\"622\" y=\"282\" dy=\"0.5ex\" text-anchor=\"end\" font-family=\"sans-serif\" font-size=\"9.67741935483871\" opacity=\"1\" fill=\"#FFFFFF\">\n",
       "-5.0\n",
       "</text>\n",
       "<polyline fill=\"none\" opacity=\"1\" stroke=\"#FFFFFF\" stroke-width=\"1\" points=\"585,282 590,282 \"/>\n",
       "<text x=\"622\" y=\"241\" dy=\"0.5ex\" text-anchor=\"end\" font-family=\"sans-serif\" font-size=\"9.67741935483871\" opacity=\"1\" fill=\"#FFFFFF\">\n",
       "0.0\n",
       "</text>\n",
       "<polyline fill=\"none\" opacity=\"1\" stroke=\"#FFFFFF\" stroke-width=\"1\" points=\"585,241 590,241 \"/>\n",
       "<text x=\"622\" y=\"201\" dy=\"0.5ex\" text-anchor=\"end\" font-family=\"sans-serif\" font-size=\"9.67741935483871\" opacity=\"1\" fill=\"#FFFFFF\">\n",
       "5.0\n",
       "</text>\n",
       "<polyline fill=\"none\" opacity=\"1\" stroke=\"#FFFFFF\" stroke-width=\"1\" points=\"585,201 590,201 \"/>\n",
       "<text x=\"622\" y=\"160\" dy=\"0.5ex\" text-anchor=\"end\" font-family=\"sans-serif\" font-size=\"9.67741935483871\" opacity=\"1\" fill=\"#FFFFFF\">\n",
       "10.0\n",
       "</text>\n",
       "<polyline fill=\"none\" opacity=\"1\" stroke=\"#FFFFFF\" stroke-width=\"1\" points=\"585,160 590,160 \"/>\n",
       "<text x=\"622\" y=\"119\" dy=\"0.5ex\" text-anchor=\"end\" font-family=\"sans-serif\" font-size=\"9.67741935483871\" opacity=\"1\" fill=\"#FFFFFF\">\n",
       "15.0\n",
       "</text>\n",
       "<polyline fill=\"none\" opacity=\"1\" stroke=\"#FFFFFF\" stroke-width=\"1\" points=\"585,119 590,119 \"/>\n",
       "<text x=\"622\" y=\"79\" dy=\"0.5ex\" text-anchor=\"end\" font-family=\"sans-serif\" font-size=\"9.67741935483871\" opacity=\"1\" fill=\"#FFFFFF\">\n",
       "20.0\n",
       "</text>\n",
       "<polyline fill=\"none\" opacity=\"1\" stroke=\"#FFFFFF\" stroke-width=\"1\" points=\"585,79 590,79 \"/>\n",
       "<polyline fill=\"none\" opacity=\"1\" stroke=\"#FF0000\" stroke-width=\"1\" points=\"55,241 56,240 57,238 58,237 59,235 60,233 61,232 62,230 63,229 64,227 65,226 66,224 67,223 68,221 69,219 70,218 71,216 72,215 74,214 75,212 76,211 77,209 78,208 79,206 80,205 81,203 82,202 83,200 84,199 85,198 86,196 87,195 88,194 89,192 90,191 92,189 93,188 94,187 95,185 96,184 97,183 98,181 99,180 100,179 101,178 102,176 103,175 104,174 105,173 106,171 107,170 108,169 110,168 111,166 112,165 113,164 114,163 115,162 116,161 117,159 118,158 119,157 120,156 121,155 122,154 123,153 124,151 125,150 126,149 128,148 129,147 130,146 131,145 132,144 133,143 134,142 135,141 136,140 137,139 138,138 139,137 140,136 141,135 142,134 143,133 144,132 145,131 147,130 148,129 149,128 150,127 151,126 152,126 153,125 154,124 155,123 156,122 157,121 158,120 159,120 160,119 161,118 162,117 163,116 165,115 166,115 167,114 168,113 169,112 170,112 171,111 172,110 173,109 174,109 175,108 176,107 177,106 178,106 179,105 180,104 181,104 183,103 184,102 185,102 186,101 187,100 188,100 189,99 190,99 191,98 192,97 193,97 194,96 195,96 196,95 197,95 198,94 199,93 201,93 202,92 203,92 204,91 205,91 206,90 207,90 208,89 209,89 210,88 211,88 212,88 213,87 214,87 215,86 216,86 217,85 218,85 220,85 221,84 222,84 223,84 224,83 225,83 226,83 227,82 228,82 229,82 230,81 231,81 232,81 233,80 234,80 235,80 236,80 238,79 239,79 240,79 241,79 242,78 243,78 244,78 245,78 246,78 247,77 248,77 249,77 250,77 251,77 252,77 253,77 254,76 256,76 257,76 258,76 259,76 260,76 261,76 262,76 263,76 264,76 265,76 266,76 267,76 268,76 269,76 270,75 271,76 272,76 274,76 275,76 276,76 277,76 278,76 279,76 280,76 281,76 282,76 283,76 284,76 285,76 286,76 287,77 288,77 289,77 290,77 291,77 293,77 294,77 295,78 296,78 297,78 298,78 299,78 300,79 301,79 302,79 303,79 304,80 305,80 306,80 307,80 308,81 309,81 311,81 312,82 313,82 314,82 315,83 316,83 317,83 318,84 319,84 320,84 321,85 322,85 323,85 324,86 325,86 326,87 327,87 329,88 330,88 331,88 332,89 333,89 334,90 335,90 336,91 337,91 338,92 339,92 340,93 341,93 342,94 343,94 344,95 345,96 347,96 348,97 349,97 350,98 351,98 352,99 353,100 354,100 355,101 356,102 357,102 358,103 359,104 360,104 361,105 362,106 363,106 364,107 366,108 367,108 368,109 369,110 370,111 371,111 372,112 373,113 374,114 375,114 376,115 377,116 378,117 379,118 380,119 381,119 382,120 384,121 385,122 386,123 387,124 388,125 389,125 390,126 391,127 392,128 393,129 394,130 395,131 396,132 397,133 398,134 399,135 400,136 402,137 403,138 404,139 405,140 406,141 407,142 408,143 409,144 410,145 411,146 412,147 413,148 414,149 415,150 416,151 417,152 418,154 420,155 421,156 422,157 423,158 424,159 425,160 426,162 427,163 428,164 429,165 430,166 431,167 432,169 433,170 434,171 435,172 436,174 437,175 439,176 440,177 441,179 442,180 443,181 444,183 445,184 446,185 447,187 448,188 449,189 450,191 451,192 452,193 453,195 454,196 455,197 457,199 458,200 459,202 460,203 461,205 462,206 463,207 464,209 465,210 466,212 467,213 468,215 469,216 470,218 471,219 472,221 473,222 475,224 476,225 477,227 478,228 479,230 480,232 481,233 482,235 483,236 484,238 485,240 486,241 487,243 488,244 489,246 490,248 491,249 493,251 494,253 495,254 496,256 497,258 498,260 499,261 500,263 501,265 502,267 503,268 504,270 505,272 506,274 507,275 508,277 509,279 510,281 512,283 513,284 514,286 515,288 516,290 517,292 518,294 519,295 520,297 521,299 522,301 523,303 524,305 525,307 526,309 527,311 528,313 530,315 531,317 532,318 533,320 534,322 535,324 536,326 537,328 538,330 539,332 540,334 541,337 542,339 543,341 544,343 545,345 546,347 548,349 549,351 550,353 551,355 552,357 553,359 554,362 555,364 556,366 557,368 558,370 559,372 560,375 561,377 562,379 563,381 564,383 566,386 567,388 568,390 569,392 570,395 571,397 572,399 573,401 574,404 575,406 576,408 577,410 578,413 579,415 580,417 581,420 582,422 584,424 \"/>\n",
       "<rect x=\"399\" y=\"235\" width=\"181\" height=\"30\" opacity=\"1\" fill=\"none\" stroke=\"#FFFFFF\"/>\n",
       "<text x=\"439\" y=\"245\" dy=\"0.76em\" text-anchor=\"start\" font-family=\"sans-serif\" font-size=\"9.67741935483871\" opacity=\"1\" fill=\"#FFFFFF\">\n",
       "height of projectile (m)\n",
       "</text>\n",
       "<polyline fill=\"none\" opacity=\"1\" stroke=\"#FF0000\" stroke-width=\"1\" points=\"409,250 429,250 \"/>\n",
       "</svg>\n"
      ]
     },
     "metadata": {},
     "output_type": "display_data"
    },
    {
     "name": "stdout",
     "output_type": "stream",
     "text": [
      "type Mut0 = {mutable l0 : int32}\n",
      "let rec method1 (v0 : Mut0) : bool =\n",
      "    let v1 : int32 = v0.l0\n",
      "    let v2 : bool = v1 < 501\n",
      "    v2\n",
      "and method2 (v0 : int32, v1 : Mut0) : bool =\n",
      "    let v2 : int32 = v1.l0\n",
      "    let v3 : bool = v2 < v0\n",
      "    v3\n",
      "and method0 () : struct (string * string * (float []) * string * (struct (string * (float [])) [])) =\n",
      "    let v0 : (float []) = Array.zeroCreate<float> (501)\n",
      "    let v1 : Mut0 = {l0 = 0} : Mut0\n",
      "    while method1(v1) do\n",
      "        let v3 : int32 = v1.l0\n",
      "        let v4 : float = float v3\n",
      "        let v5 : float = 0.01 * v4\n",
      "        v0.[int v3] <- v5\n",
      "        let v6 : int32 = v3 + 1\n",
      "        v1.l0 <- v6\n",
      "        ()\n",
      "    let v7 : int32 = v0.Length\n",
      "    let v8 : (float []) = Array.zeroCreate<float> (v7)\n",
      "    let v9 : Mut0 = {l0 = 0} : Mut0\n",
      "    while method2(v7, v9) do\n",
      "        let v11 : int32 = v9.l0\n",
      "        let v12 : float = v0.[int v11]\n",
      "        let v13 : float = 20.0 * v12\n",
      "        let v14 : float = v12 ** 2.0\n",
      "        let v15 : float = -9.8 * v14\n",
      "        let v16 : float = v15 / 2.0\n",
      "        let v17 : float = v13 + v16\n",
      "        v8.[int v11] <- v17\n",
      "        let v18 : int32 = v11 + 1\n",
      "        v9.l0 <- v18\n",
      "        ()\n",
      "    let v19 : string = \"height of projectile (m)\"\n",
      "    let v20 : (struct (string * (float [])) []) = [|struct (v19, v8)|]\n",
      "    let v21 : string = \"projectile motion\"\n",
      "    let v22 : string = \"time (s)\"\n",
      "    let v23 : string = \"\"\n",
      "    struct (v21, v22, v0, v23, v20)\n",
      "method0()\n",
      "\r\n"
     ]
    }
   ],
   "source": [
    "// // test\n",
    "\n",
    "inl y_pos y0 vy0 ay t =\n",
    "    y0 + vy0 * t + ay * (t |> square) / 2\n",
    "\n",
    "inl x : a _ f64 = init_series 0 5 0.01\n",
    "inl y = x |> am.map (y_pos 0 20 -9.8)\n",
    "\"projectile motion\", \"time (s)\", x, \"\", ;[\"height of projectile (m)\", y]"
   ]
  },
  {
   "cell_type": "markdown",
   "metadata": {},
   "source": [
    "## velocity_cf"
   ]
  },
  {
   "cell_type": "code",
   "execution_count": null,
   "metadata": {
    "dotnet_interactive": {
     "language": "spiral"
    },
    "polyglot_notebook": {
     "kernelName": "spiral"
    }
   },
   "outputs": [
    {
     "name": "stdout",
     "output_type": "stream",
     "text": [
      "()\n",
      "\r\n"
     ]
    }
   ],
   "source": [
    "type mass = f64\n",
    "type time = f64\n",
    "type position = f64\n",
    "type velocity = f64\n",
    "type force = f64\n",
    "\n",
    "type velocity_cf = mass -> velocity -> list force -> (time -> velocity)\n",
    "\n",
    "inl velocity_cf m v0 fs =\n",
    "    inl f_net = fs |> list_sum\n",
    "    inl a0 = f_net / m\n",
    "    inl v t = v0 + a0 * t\n",
    "    v"
   ]
  },
  {
   "cell_type": "code",
   "execution_count": null,
   "metadata": {
    "dotnet_interactive": {
     "language": "spiral"
    },
    "polyglot_notebook": {
     "kernelName": "spiral"
    }
   },
   "outputs": [
    {
     "name": "stdout",
     "output_type": "stream",
     "text": [
      "let rec method0 () : unit =\n",
      "    let v0 : string = $\"_equal / actual: {0.6} / expected: {0.6}\"\n",
      "    let v1 : string = $\"_equal / actual: {0.2} / expected: {0.2}\"\n",
      "    ()\n",
      "method0()\n",
      "\r\n"
     ]
    }
   ],
   "source": [
    "// // test\n",
    "\n",
    "velocity_cf 0.1f64 0.6 [0.04; -0.08] 0\n",
    "|> _equal 0.6\n",
    "\n",
    "velocity_cf 0.1f64 0.6 [0.04; -0.08] 1\n",
    "|> _equal 0.2"
   ]
  },
  {
   "cell_type": "code",
   "execution_count": null,
   "metadata": {
    "dotnet_interactive": {
     "language": "spiral"
    },
    "polyglot_notebook": {
     "kernelName": "spiral"
    }
   },
   "outputs": [
    {
     "data": {
      "text/html": [
       "<svg width=\"640\" height=\"480\" viewBox=\"0 0 640 480\" xmlns=\"http://www.w3.org/2000/svg\">\n",
       "<rect x=\"0\" y=\"0\" width=\"640\" height=\"480\" opacity=\"1\" fill=\"#141414\" stroke=\"none\"/>\n",
       "<text x=\"320\" y=\"10\" dy=\"0.76em\" text-anchor=\"middle\" font-family=\"sans-serif\" font-size=\"9.67741935483871\" opacity=\"1\" fill=\"#FFFFFF\">\n",
       "car on an air track\n",
       "</text>\n",
       "<line opacity=\"1\" stroke=\"#323232\" stroke-width=\"1\" x1=\"55\" y1=\"424\" x2=\"55\" y2=\"75\"/>\n",
       "<line opacity=\"1\" stroke=\"#323232\" stroke-width=\"1\" x1=\"68\" y1=\"424\" x2=\"68\" y2=\"75\"/>\n",
       "<line opacity=\"1\" stroke=\"#323232\" stroke-width=\"1\" x1=\"81\" y1=\"424\" x2=\"81\" y2=\"75\"/>\n",
       "<line opacity=\"1\" stroke=\"#323232\" stroke-width=\"1\" x1=\"94\" y1=\"424\" x2=\"94\" y2=\"75\"/>\n",
       "<line opacity=\"1\" stroke=\"#323232\" stroke-width=\"1\" x1=\"107\" y1=\"424\" x2=\"107\" y2=\"75\"/>\n",
       "<line opacity=\"1\" stroke=\"#323232\" stroke-width=\"1\" x1=\"121\" y1=\"424\" x2=\"121\" y2=\"75\"/>\n",
       "<line opacity=\"1\" stroke=\"#323232\" stroke-width=\"1\" x1=\"134\" y1=\"424\" x2=\"134\" y2=\"75\"/>\n",
       "<line opacity=\"1\" stroke=\"#323232\" stroke-width=\"1\" x1=\"147\" y1=\"424\" x2=\"147\" y2=\"75\"/>\n",
       "<line opacity=\"1\" stroke=\"#323232\" stroke-width=\"1\" x1=\"160\" y1=\"424\" x2=\"160\" y2=\"75\"/>\n",
       "<line opacity=\"1\" stroke=\"#323232\" stroke-width=\"1\" x1=\"174\" y1=\"424\" x2=\"174\" y2=\"75\"/>\n",
       "<line opacity=\"1\" stroke=\"#323232\" stroke-width=\"1\" x1=\"187\" y1=\"424\" x2=\"187\" y2=\"75\"/>\n",
       "<line opacity=\"1\" stroke=\"#323232\" stroke-width=\"1\" x1=\"200\" y1=\"424\" x2=\"200\" y2=\"75\"/>\n",
       "<line opacity=\"1\" stroke=\"#323232\" stroke-width=\"1\" x1=\"213\" y1=\"424\" x2=\"213\" y2=\"75\"/>\n",
       "<line opacity=\"1\" stroke=\"#323232\" stroke-width=\"1\" x1=\"226\" y1=\"424\" x2=\"226\" y2=\"75\"/>\n",
       "<line opacity=\"1\" stroke=\"#323232\" stroke-width=\"1\" x1=\"240\" y1=\"424\" x2=\"240\" y2=\"75\"/>\n",
       "<line opacity=\"1\" stroke=\"#323232\" stroke-width=\"1\" x1=\"253\" y1=\"424\" x2=\"253\" y2=\"75\"/>\n",
       "<line opacity=\"1\" stroke=\"#323232\" stroke-width=\"1\" x1=\"266\" y1=\"424\" x2=\"266\" y2=\"75\"/>\n",
       "<line opacity=\"1\" stroke=\"#323232\" stroke-width=\"1\" x1=\"279\" y1=\"424\" x2=\"279\" y2=\"75\"/>\n",
       "<line opacity=\"1\" stroke=\"#323232\" stroke-width=\"1\" x1=\"293\" y1=\"424\" x2=\"293\" y2=\"75\"/>\n",
       "<line opacity=\"1\" stroke=\"#323232\" stroke-width=\"1\" x1=\"306\" y1=\"424\" x2=\"306\" y2=\"75\"/>\n",
       "<line opacity=\"1\" stroke=\"#323232\" stroke-width=\"1\" x1=\"319\" y1=\"424\" x2=\"319\" y2=\"75\"/>\n",
       "<line opacity=\"1\" stroke=\"#323232\" stroke-width=\"1\" x1=\"332\" y1=\"424\" x2=\"332\" y2=\"75\"/>\n",
       "<line opacity=\"1\" stroke=\"#323232\" stroke-width=\"1\" x1=\"345\" y1=\"424\" x2=\"345\" y2=\"75\"/>\n",
       "<line opacity=\"1\" stroke=\"#323232\" stroke-width=\"1\" x1=\"359\" y1=\"424\" x2=\"359\" y2=\"75\"/>\n",
       "<line opacity=\"1\" stroke=\"#323232\" stroke-width=\"1\" x1=\"372\" y1=\"424\" x2=\"372\" y2=\"75\"/>\n",
       "<line opacity=\"1\" stroke=\"#323232\" stroke-width=\"1\" x1=\"385\" y1=\"424\" x2=\"385\" y2=\"75\"/>\n",
       "<line opacity=\"1\" stroke=\"#323232\" stroke-width=\"1\" x1=\"398\" y1=\"424\" x2=\"398\" y2=\"75\"/>\n",
       "<line opacity=\"1\" stroke=\"#323232\" stroke-width=\"1\" x1=\"412\" y1=\"424\" x2=\"412\" y2=\"75\"/>\n",
       "<line opacity=\"1\" stroke=\"#323232\" stroke-width=\"1\" x1=\"425\" y1=\"424\" x2=\"425\" y2=\"75\"/>\n",
       "<line opacity=\"1\" stroke=\"#323232\" stroke-width=\"1\" x1=\"438\" y1=\"424\" x2=\"438\" y2=\"75\"/>\n",
       "<line opacity=\"1\" stroke=\"#323232\" stroke-width=\"1\" x1=\"451\" y1=\"424\" x2=\"451\" y2=\"75\"/>\n",
       "<line opacity=\"1\" stroke=\"#323232\" stroke-width=\"1\" x1=\"464\" y1=\"424\" x2=\"464\" y2=\"75\"/>\n",
       "<line opacity=\"1\" stroke=\"#323232\" stroke-width=\"1\" x1=\"478\" y1=\"424\" x2=\"478\" y2=\"75\"/>\n",
       "<line opacity=\"1\" stroke=\"#323232\" stroke-width=\"1\" x1=\"491\" y1=\"424\" x2=\"491\" y2=\"75\"/>\n",
       "<line opacity=\"1\" stroke=\"#323232\" stroke-width=\"1\" x1=\"504\" y1=\"424\" x2=\"504\" y2=\"75\"/>\n",
       "<line opacity=\"1\" stroke=\"#323232\" stroke-width=\"1\" x1=\"517\" y1=\"424\" x2=\"517\" y2=\"75\"/>\n",
       "<line opacity=\"1\" stroke=\"#323232\" stroke-width=\"1\" x1=\"531\" y1=\"424\" x2=\"531\" y2=\"75\"/>\n",
       "<line opacity=\"1\" stroke=\"#323232\" stroke-width=\"1\" x1=\"544\" y1=\"424\" x2=\"544\" y2=\"75\"/>\n",
       "<line opacity=\"1\" stroke=\"#323232\" stroke-width=\"1\" x1=\"557\" y1=\"424\" x2=\"557\" y2=\"75\"/>\n",
       "<line opacity=\"1\" stroke=\"#323232\" stroke-width=\"1\" x1=\"570\" y1=\"424\" x2=\"570\" y2=\"75\"/>\n",
       "<line opacity=\"1\" stroke=\"#323232\" stroke-width=\"1\" x1=\"55\" y1=\"424\" x2=\"584\" y2=\"424\"/>\n",
       "<line opacity=\"1\" stroke=\"#323232\" stroke-width=\"1\" x1=\"55\" y1=\"414\" x2=\"584\" y2=\"414\"/>\n",
       "<line opacity=\"1\" stroke=\"#323232\" stroke-width=\"1\" x1=\"55\" y1=\"403\" x2=\"584\" y2=\"403\"/>\n",
       "<line opacity=\"1\" stroke=\"#323232\" stroke-width=\"1\" x1=\"55\" y1=\"392\" x2=\"584\" y2=\"392\"/>\n",
       "<line opacity=\"1\" stroke=\"#323232\" stroke-width=\"1\" x1=\"55\" y1=\"381\" x2=\"584\" y2=\"381\"/>\n",
       "<line opacity=\"1\" stroke=\"#323232\" stroke-width=\"1\" x1=\"55\" y1=\"370\" x2=\"584\" y2=\"370\"/>\n",
       "<line opacity=\"1\" stroke=\"#323232\" stroke-width=\"1\" x1=\"55\" y1=\"359\" x2=\"584\" y2=\"359\"/>\n",
       "<line opacity=\"1\" stroke=\"#323232\" stroke-width=\"1\" x1=\"55\" y1=\"348\" x2=\"584\" y2=\"348\"/>\n",
       "<line opacity=\"1\" stroke=\"#323232\" stroke-width=\"1\" x1=\"55\" y1=\"337\" x2=\"584\" y2=\"337\"/>\n",
       "<line opacity=\"1\" stroke=\"#323232\" stroke-width=\"1\" x1=\"55\" y1=\"326\" x2=\"584\" y2=\"326\"/>\n",
       "<line opacity=\"1\" stroke=\"#323232\" stroke-width=\"1\" x1=\"55\" y1=\"315\" x2=\"584\" y2=\"315\"/>\n",
       "<line opacity=\"1\" stroke=\"#323232\" stroke-width=\"1\" x1=\"55\" y1=\"305\" x2=\"584\" y2=\"305\"/>\n",
       "<line opacity=\"1\" stroke=\"#323232\" stroke-width=\"1\" x1=\"55\" y1=\"294\" x2=\"584\" y2=\"294\"/>\n",
       "<line opacity=\"1\" stroke=\"#323232\" stroke-width=\"1\" x1=\"55\" y1=\"283\" x2=\"584\" y2=\"283\"/>\n",
       "<line opacity=\"1\" stroke=\"#323232\" stroke-width=\"1\" x1=\"55\" y1=\"272\" x2=\"584\" y2=\"272\"/>\n",
       "<line opacity=\"1\" stroke=\"#323232\" stroke-width=\"1\" x1=\"55\" y1=\"261\" x2=\"584\" y2=\"261\"/>\n",
       "<line opacity=\"1\" stroke=\"#323232\" stroke-width=\"1\" x1=\"55\" y1=\"250\" x2=\"584\" y2=\"250\"/>\n",
       "<line opacity=\"1\" stroke=\"#323232\" stroke-width=\"1\" x1=\"55\" y1=\"239\" x2=\"584\" y2=\"239\"/>\n",
       "<line opacity=\"1\" stroke=\"#323232\" stroke-width=\"1\" x1=\"55\" y1=\"228\" x2=\"584\" y2=\"228\"/>\n",
       "<line opacity=\"1\" stroke=\"#323232\" stroke-width=\"1\" x1=\"55\" y1=\"217\" x2=\"584\" y2=\"217\"/>\n",
       "<line opacity=\"1\" stroke=\"#323232\" stroke-width=\"1\" x1=\"55\" y1=\"206\" x2=\"584\" y2=\"206\"/>\n",
       "<line opacity=\"1\" stroke=\"#323232\" stroke-width=\"1\" x1=\"55\" y1=\"195\" x2=\"584\" y2=\"195\"/>\n",
       "<line opacity=\"1\" stroke=\"#323232\" stroke-width=\"1\" x1=\"55\" y1=\"185\" x2=\"584\" y2=\"185\"/>\n",
       "<line opacity=\"1\" stroke=\"#323232\" stroke-width=\"1\" x1=\"55\" y1=\"174\" x2=\"584\" y2=\"174\"/>\n",
       "<line opacity=\"1\" stroke=\"#323232\" stroke-width=\"1\" x1=\"55\" y1=\"163\" x2=\"584\" y2=\"163\"/>\n",
       "<line opacity=\"1\" stroke=\"#323232\" stroke-width=\"1\" x1=\"55\" y1=\"152\" x2=\"584\" y2=\"152\"/>\n",
       "<line opacity=\"1\" stroke=\"#323232\" stroke-width=\"1\" x1=\"55\" y1=\"141\" x2=\"584\" y2=\"141\"/>\n",
       "<line opacity=\"1\" stroke=\"#323232\" stroke-width=\"1\" x1=\"55\" y1=\"130\" x2=\"584\" y2=\"130\"/>\n",
       "<line opacity=\"1\" stroke=\"#323232\" stroke-width=\"1\" x1=\"55\" y1=\"119\" x2=\"584\" y2=\"119\"/>\n",
       "<line opacity=\"1\" stroke=\"#323232\" stroke-width=\"1\" x1=\"55\" y1=\"108\" x2=\"584\" y2=\"108\"/>\n",
       "<line opacity=\"1\" stroke=\"#323232\" stroke-width=\"1\" x1=\"55\" y1=\"97\" x2=\"584\" y2=\"97\"/>\n",
       "<line opacity=\"1\" stroke=\"#323232\" stroke-width=\"1\" x1=\"55\" y1=\"86\" x2=\"584\" y2=\"86\"/>\n",
       "<text x=\"320\" y=\"25\" dy=\"0.76em\" text-anchor=\"middle\" font-family=\"sans-serif\" font-size=\"9.67741935483871\" opacity=\"1\" fill=\"#FFFFFF\">\n",
       "time (s)\n",
       "</text>\n",
       "<text x=\"5\" y=\"250\" dy=\"0.76em\" text-anchor=\"middle\" font-family=\"sans-serif\" font-size=\"9.67741935483871\" opacity=\"1\" fill=\"#FFFFFF\" transform=\"rotate(270, 5, 250)\">\n",
       "\n",
       "</text>\n",
       "<text x=\"320\" y=\"475\" dy=\"-0.5ex\" text-anchor=\"middle\" font-family=\"sans-serif\" font-size=\"9.67741935483871\" opacity=\"1\" fill=\"#FFFFFF\">\n",
       "time (s)\n",
       "</text>\n",
       "<text x=\"635\" y=\"250\" dy=\"0.76em\" text-anchor=\"middle\" font-family=\"sans-serif\" font-size=\"9.67741935483871\" opacity=\"1\" fill=\"#FFFFFF\" transform=\"rotate(90, 635, 250)\">\n",
       "\n",
       "</text>\n",
       "<line opacity=\"1\" stroke=\"#5A5A5A\" stroke-width=\"1\" x1=\"55\" y1=\"424\" x2=\"55\" y2=\"75\"/>\n",
       "<line opacity=\"1\" stroke=\"#5A5A5A\" stroke-width=\"1\" x1=\"121\" y1=\"424\" x2=\"121\" y2=\"75\"/>\n",
       "<line opacity=\"1\" stroke=\"#5A5A5A\" stroke-width=\"1\" x1=\"187\" y1=\"424\" x2=\"187\" y2=\"75\"/>\n",
       "<line opacity=\"1\" stroke=\"#5A5A5A\" stroke-width=\"1\" x1=\"253\" y1=\"424\" x2=\"253\" y2=\"75\"/>\n",
       "<line opacity=\"1\" stroke=\"#5A5A5A\" stroke-width=\"1\" x1=\"319\" y1=\"424\" x2=\"319\" y2=\"75\"/>\n",
       "<line opacity=\"1\" stroke=\"#5A5A5A\" stroke-width=\"1\" x1=\"385\" y1=\"424\" x2=\"385\" y2=\"75\"/>\n",
       "<line opacity=\"1\" stroke=\"#5A5A5A\" stroke-width=\"1\" x1=\"451\" y1=\"424\" x2=\"451\" y2=\"75\"/>\n",
       "<line opacity=\"1\" stroke=\"#5A5A5A\" stroke-width=\"1\" x1=\"517\" y1=\"424\" x2=\"517\" y2=\"75\"/>\n",
       "<line opacity=\"1\" stroke=\"#5A5A5A\" stroke-width=\"1\" x1=\"584\" y1=\"424\" x2=\"584\" y2=\"75\"/>\n",
       "<line opacity=\"1\" stroke=\"#5A5A5A\" stroke-width=\"1\" x1=\"55\" y1=\"424\" x2=\"584\" y2=\"424\"/>\n",
       "<line opacity=\"1\" stroke=\"#5A5A5A\" stroke-width=\"1\" x1=\"55\" y1=\"381\" x2=\"584\" y2=\"381\"/>\n",
       "<line opacity=\"1\" stroke=\"#5A5A5A\" stroke-width=\"1\" x1=\"55\" y1=\"337\" x2=\"584\" y2=\"337\"/>\n",
       "<line opacity=\"1\" stroke=\"#5A5A5A\" stroke-width=\"1\" x1=\"55\" y1=\"294\" x2=\"584\" y2=\"294\"/>\n",
       "<line opacity=\"1\" stroke=\"#5A5A5A\" stroke-width=\"1\" x1=\"55\" y1=\"250\" x2=\"584\" y2=\"250\"/>\n",
       "<line opacity=\"1\" stroke=\"#5A5A5A\" stroke-width=\"1\" x1=\"55\" y1=\"206\" x2=\"584\" y2=\"206\"/>\n",
       "<line opacity=\"1\" stroke=\"#5A5A5A\" stroke-width=\"1\" x1=\"55\" y1=\"163\" x2=\"584\" y2=\"163\"/>\n",
       "<line opacity=\"1\" stroke=\"#5A5A5A\" stroke-width=\"1\" x1=\"55\" y1=\"119\" x2=\"584\" y2=\"119\"/>\n",
       "<line opacity=\"1\" stroke=\"#5A5A5A\" stroke-width=\"1\" x1=\"55\" y1=\"75\" x2=\"584\" y2=\"75\"/>\n",
       "<polyline fill=\"none\" opacity=\"1\" stroke=\"#FFFFFF\" stroke-width=\"1\" points=\"55,74 584,74 \"/>\n",
       "<text x=\"55\" y=\"65\" dy=\"-0.5ex\" text-anchor=\"middle\" font-family=\"sans-serif\" font-size=\"9.67741935483871\" opacity=\"1\" fill=\"#FFFFFF\">\n",
       "0.0\n",
       "</text>\n",
       "<polyline fill=\"none\" opacity=\"1\" stroke=\"#FFFFFF\" stroke-width=\"1\" points=\"55,69 55,74 \"/>\n",
       "<text x=\"121\" y=\"65\" dy=\"-0.5ex\" text-anchor=\"middle\" font-family=\"sans-serif\" font-size=\"9.67741935483871\" opacity=\"1\" fill=\"#FFFFFF\">\n",
       "0.5\n",
       "</text>\n",
       "<polyline fill=\"none\" opacity=\"1\" stroke=\"#FFFFFF\" stroke-width=\"1\" points=\"121,69 121,74 \"/>\n",
       "<text x=\"187\" y=\"65\" dy=\"-0.5ex\" text-anchor=\"middle\" font-family=\"sans-serif\" font-size=\"9.67741935483871\" opacity=\"1\" fill=\"#FFFFFF\">\n",
       "1.0\n",
       "</text>\n",
       "<polyline fill=\"none\" opacity=\"1\" stroke=\"#FFFFFF\" stroke-width=\"1\" points=\"187,69 187,74 \"/>\n",
       "<text x=\"253\" y=\"65\" dy=\"-0.5ex\" text-anchor=\"middle\" font-family=\"sans-serif\" font-size=\"9.67741935483871\" opacity=\"1\" fill=\"#FFFFFF\">\n",
       "1.5\n",
       "</text>\n",
       "<polyline fill=\"none\" opacity=\"1\" stroke=\"#FFFFFF\" stroke-width=\"1\" points=\"253,69 253,74 \"/>\n",
       "<text x=\"319\" y=\"65\" dy=\"-0.5ex\" text-anchor=\"middle\" font-family=\"sans-serif\" font-size=\"9.67741935483871\" opacity=\"1\" fill=\"#FFFFFF\">\n",
       "2.0\n",
       "</text>\n",
       "<polyline fill=\"none\" opacity=\"1\" stroke=\"#FFFFFF\" stroke-width=\"1\" points=\"319,69 319,74 \"/>\n",
       "<text x=\"385\" y=\"65\" dy=\"-0.5ex\" text-anchor=\"middle\" font-family=\"sans-serif\" font-size=\"9.67741935483871\" opacity=\"1\" fill=\"#FFFFFF\">\n",
       "2.5\n",
       "</text>\n",
       "<polyline fill=\"none\" opacity=\"1\" stroke=\"#FFFFFF\" stroke-width=\"1\" points=\"385,69 385,74 \"/>\n",
       "<text x=\"451\" y=\"65\" dy=\"-0.5ex\" text-anchor=\"middle\" font-family=\"sans-serif\" font-size=\"9.67741935483871\" opacity=\"1\" fill=\"#FFFFFF\">\n",
       "3.0\n",
       "</text>\n",
       "<polyline fill=\"none\" opacity=\"1\" stroke=\"#FFFFFF\" stroke-width=\"1\" points=\"451,69 451,74 \"/>\n",
       "<text x=\"517\" y=\"65\" dy=\"-0.5ex\" text-anchor=\"middle\" font-family=\"sans-serif\" font-size=\"9.67741935483871\" opacity=\"1\" fill=\"#FFFFFF\">\n",
       "3.5\n",
       "</text>\n",
       "<polyline fill=\"none\" opacity=\"1\" stroke=\"#FFFFFF\" stroke-width=\"1\" points=\"517,69 517,74 \"/>\n",
       "<text x=\"584\" y=\"65\" dy=\"-0.5ex\" text-anchor=\"middle\" font-family=\"sans-serif\" font-size=\"9.67741935483871\" opacity=\"1\" fill=\"#FFFFFF\">\n",
       "4.0\n",
       "</text>\n",
       "<polyline fill=\"none\" opacity=\"1\" stroke=\"#FFFFFF\" stroke-width=\"1\" points=\"584,69 584,74 \"/>\n",
       "<polyline fill=\"none\" opacity=\"1\" stroke=\"#FFFFFF\" stroke-width=\"1\" points=\"54,75 54,424 \"/>\n",
       "<text x=\"45\" y=\"424\" dy=\"0.5ex\" text-anchor=\"end\" font-family=\"sans-serif\" font-size=\"9.67741935483871\" opacity=\"1\" fill=\"#FFFFFF\">\n",
       "-1.0\n",
       "</text>\n",
       "<polyline fill=\"none\" opacity=\"1\" stroke=\"#FFFFFF\" stroke-width=\"1\" points=\"49,424 54,424 \"/>\n",
       "<text x=\"45\" y=\"381\" dy=\"0.5ex\" text-anchor=\"end\" font-family=\"sans-serif\" font-size=\"9.67741935483871\" opacity=\"1\" fill=\"#FFFFFF\">\n",
       "-0.8\n",
       "</text>\n",
       "<polyline fill=\"none\" opacity=\"1\" stroke=\"#FFFFFF\" stroke-width=\"1\" points=\"49,381 54,381 \"/>\n",
       "<text x=\"45\" y=\"337\" dy=\"0.5ex\" text-anchor=\"end\" font-family=\"sans-serif\" font-size=\"9.67741935483871\" opacity=\"1\" fill=\"#FFFFFF\">\n",
       "-0.6\n",
       "</text>\n",
       "<polyline fill=\"none\" opacity=\"1\" stroke=\"#FFFFFF\" stroke-width=\"1\" points=\"49,337 54,337 \"/>\n",
       "<text x=\"45\" y=\"294\" dy=\"0.5ex\" text-anchor=\"end\" font-family=\"sans-serif\" font-size=\"9.67741935483871\" opacity=\"1\" fill=\"#FFFFFF\">\n",
       "-0.4\n",
       "</text>\n",
       "<polyline fill=\"none\" opacity=\"1\" stroke=\"#FFFFFF\" stroke-width=\"1\" points=\"49,294 54,294 \"/>\n",
       "<text x=\"45\" y=\"250\" dy=\"0.5ex\" text-anchor=\"end\" font-family=\"sans-serif\" font-size=\"9.67741935483871\" opacity=\"1\" fill=\"#FFFFFF\">\n",
       "-0.2\n",
       "</text>\n",
       "<polyline fill=\"none\" opacity=\"1\" stroke=\"#FFFFFF\" stroke-width=\"1\" points=\"49,250 54,250 \"/>\n",
       "<text x=\"45\" y=\"206\" dy=\"0.5ex\" text-anchor=\"end\" font-family=\"sans-serif\" font-size=\"9.67741935483871\" opacity=\"1\" fill=\"#FFFFFF\">\n",
       "0.0\n",
       "</text>\n",
       "<polyline fill=\"none\" opacity=\"1\" stroke=\"#FFFFFF\" stroke-width=\"1\" points=\"49,206 54,206 \"/>\n",
       "<text x=\"45\" y=\"163\" dy=\"0.5ex\" text-anchor=\"end\" font-family=\"sans-serif\" font-size=\"9.67741935483871\" opacity=\"1\" fill=\"#FFFFFF\">\n",
       "0.2\n",
       "</text>\n",
       "<polyline fill=\"none\" opacity=\"1\" stroke=\"#FFFFFF\" stroke-width=\"1\" points=\"49,163 54,163 \"/>\n",
       "<text x=\"45\" y=\"119\" dy=\"0.5ex\" text-anchor=\"end\" font-family=\"sans-serif\" font-size=\"9.67741935483871\" opacity=\"1\" fill=\"#FFFFFF\">\n",
       "0.4\n",
       "</text>\n",
       "<polyline fill=\"none\" opacity=\"1\" stroke=\"#FFFFFF\" stroke-width=\"1\" points=\"49,119 54,119 \"/>\n",
       "<text x=\"45\" y=\"75\" dy=\"0.5ex\" text-anchor=\"end\" font-family=\"sans-serif\" font-size=\"9.67741935483871\" opacity=\"1\" fill=\"#FFFFFF\">\n",
       "0.6\n",
       "</text>\n",
       "<polyline fill=\"none\" opacity=\"1\" stroke=\"#FFFFFF\" stroke-width=\"1\" points=\"49,75 54,75 \"/>\n",
       "<polyline fill=\"none\" opacity=\"1\" stroke=\"#FFFFFF\" stroke-width=\"1\" points=\"55,425 584,425 \"/>\n",
       "<text x=\"55\" y=\"435\" dy=\"0.76em\" text-anchor=\"middle\" font-family=\"sans-serif\" font-size=\"9.67741935483871\" opacity=\"1\" fill=\"#FFFFFF\">\n",
       "0.0\n",
       "</text>\n",
       "<polyline fill=\"none\" opacity=\"1\" stroke=\"#FFFFFF\" stroke-width=\"1\" points=\"55,425 55,430 \"/>\n",
       "<text x=\"121\" y=\"435\" dy=\"0.76em\" text-anchor=\"middle\" font-family=\"sans-serif\" font-size=\"9.67741935483871\" opacity=\"1\" fill=\"#FFFFFF\">\n",
       "0.5\n",
       "</text>\n",
       "<polyline fill=\"none\" opacity=\"1\" stroke=\"#FFFFFF\" stroke-width=\"1\" points=\"121,425 121,430 \"/>\n",
       "<text x=\"187\" y=\"435\" dy=\"0.76em\" text-anchor=\"middle\" font-family=\"sans-serif\" font-size=\"9.67741935483871\" opacity=\"1\" fill=\"#FFFFFF\">\n",
       "1.0\n",
       "</text>\n",
       "<polyline fill=\"none\" opacity=\"1\" stroke=\"#FFFFFF\" stroke-width=\"1\" points=\"187,425 187,430 \"/>\n",
       "<text x=\"253\" y=\"435\" dy=\"0.76em\" text-anchor=\"middle\" font-family=\"sans-serif\" font-size=\"9.67741935483871\" opacity=\"1\" fill=\"#FFFFFF\">\n",
       "1.5\n",
       "</text>\n",
       "<polyline fill=\"none\" opacity=\"1\" stroke=\"#FFFFFF\" stroke-width=\"1\" points=\"253,425 253,430 \"/>\n",
       "<text x=\"319\" y=\"435\" dy=\"0.76em\" text-anchor=\"middle\" font-family=\"sans-serif\" font-size=\"9.67741935483871\" opacity=\"1\" fill=\"#FFFFFF\">\n",
       "2.0\n",
       "</text>\n",
       "<polyline fill=\"none\" opacity=\"1\" stroke=\"#FFFFFF\" stroke-width=\"1\" points=\"319,425 319,430 \"/>\n",
       "<text x=\"385\" y=\"435\" dy=\"0.76em\" text-anchor=\"middle\" font-family=\"sans-serif\" font-size=\"9.67741935483871\" opacity=\"1\" fill=\"#FFFFFF\">\n",
       "2.5\n",
       "</text>\n",
       "<polyline fill=\"none\" opacity=\"1\" stroke=\"#FFFFFF\" stroke-width=\"1\" points=\"385,425 385,430 \"/>\n",
       "<text x=\"451\" y=\"435\" dy=\"0.76em\" text-anchor=\"middle\" font-family=\"sans-serif\" font-size=\"9.67741935483871\" opacity=\"1\" fill=\"#FFFFFF\">\n",
       "3.0\n",
       "</text>\n",
       "<polyline fill=\"none\" opacity=\"1\" stroke=\"#FFFFFF\" stroke-width=\"1\" points=\"451,425 451,430 \"/>\n",
       "<text x=\"517\" y=\"435\" dy=\"0.76em\" text-anchor=\"middle\" font-family=\"sans-serif\" font-size=\"9.67741935483871\" opacity=\"1\" fill=\"#FFFFFF\">\n",
       "3.5\n",
       "</text>\n",
       "<polyline fill=\"none\" opacity=\"1\" stroke=\"#FFFFFF\" stroke-width=\"1\" points=\"517,425 517,430 \"/>\n",
       "<text x=\"584\" y=\"435\" dy=\"0.76em\" text-anchor=\"middle\" font-family=\"sans-serif\" font-size=\"9.67741935483871\" opacity=\"1\" fill=\"#FFFFFF\">\n",
       "4.0\n",
       "</text>\n",
       "<polyline fill=\"none\" opacity=\"1\" stroke=\"#FFFFFF\" stroke-width=\"1\" points=\"584,425 584,430 \"/>\n",
       "<polyline fill=\"none\" opacity=\"1\" stroke=\"#FFFFFF\" stroke-width=\"1\" points=\"585,75 585,424 \"/>\n",
       "<text x=\"595\" y=\"424\" dy=\"0.5ex\" text-anchor=\"start\" font-family=\"sans-serif\" font-size=\"9.67741935483871\" opacity=\"1\" fill=\"#FFFFFF\">\n",
       "-1.0\n",
       "</text>\n",
       "<polyline fill=\"none\" opacity=\"1\" stroke=\"#FFFFFF\" stroke-width=\"1\" points=\"585,424 590,424 \"/>\n",
       "<text x=\"595\" y=\"381\" dy=\"0.5ex\" text-anchor=\"start\" font-family=\"sans-serif\" font-size=\"9.67741935483871\" opacity=\"1\" fill=\"#FFFFFF\">\n",
       "-0.8\n",
       "</text>\n",
       "<polyline fill=\"none\" opacity=\"1\" stroke=\"#FFFFFF\" stroke-width=\"1\" points=\"585,381 590,381 \"/>\n",
       "<text x=\"595\" y=\"337\" dy=\"0.5ex\" text-anchor=\"start\" font-family=\"sans-serif\" font-size=\"9.67741935483871\" opacity=\"1\" fill=\"#FFFFFF\">\n",
       "-0.6\n",
       "</text>\n",
       "<polyline fill=\"none\" opacity=\"1\" stroke=\"#FFFFFF\" stroke-width=\"1\" points=\"585,337 590,337 \"/>\n",
       "<text x=\"595\" y=\"294\" dy=\"0.5ex\" text-anchor=\"start\" font-family=\"sans-serif\" font-size=\"9.67741935483871\" opacity=\"1\" fill=\"#FFFFFF\">\n",
       "-0.4\n",
       "</text>\n",
       "<polyline fill=\"none\" opacity=\"1\" stroke=\"#FFFFFF\" stroke-width=\"1\" points=\"585,294 590,294 \"/>\n",
       "<text x=\"595\" y=\"250\" dy=\"0.5ex\" text-anchor=\"start\" font-family=\"sans-serif\" font-size=\"9.67741935483871\" opacity=\"1\" fill=\"#FFFFFF\">\n",
       "-0.2\n",
       "</text>\n",
       "<polyline fill=\"none\" opacity=\"1\" stroke=\"#FFFFFF\" stroke-width=\"1\" points=\"585,250 590,250 \"/>\n",
       "<text x=\"617\" y=\"206\" dy=\"0.5ex\" text-anchor=\"end\" font-family=\"sans-serif\" font-size=\"9.67741935483871\" opacity=\"1\" fill=\"#FFFFFF\">\n",
       "0.0\n",
       "</text>\n",
       "<polyline fill=\"none\" opacity=\"1\" stroke=\"#FFFFFF\" stroke-width=\"1\" points=\"585,206 590,206 \"/>\n",
       "<text x=\"617\" y=\"163\" dy=\"0.5ex\" text-anchor=\"end\" font-family=\"sans-serif\" font-size=\"9.67741935483871\" opacity=\"1\" fill=\"#FFFFFF\">\n",
       "0.2\n",
       "</text>\n",
       "<polyline fill=\"none\" opacity=\"1\" stroke=\"#FFFFFF\" stroke-width=\"1\" points=\"585,163 590,163 \"/>\n",
       "<text x=\"617\" y=\"119\" dy=\"0.5ex\" text-anchor=\"end\" font-family=\"sans-serif\" font-size=\"9.67741935483871\" opacity=\"1\" fill=\"#FFFFFF\">\n",
       "0.4\n",
       "</text>\n",
       "<polyline fill=\"none\" opacity=\"1\" stroke=\"#FFFFFF\" stroke-width=\"1\" points=\"585,119 590,119 \"/>\n",
       "<text x=\"617\" y=\"75\" dy=\"0.5ex\" text-anchor=\"end\" font-family=\"sans-serif\" font-size=\"9.67741935483871\" opacity=\"1\" fill=\"#FFFFFF\">\n",
       "0.6\n",
       "</text>\n",
       "<polyline fill=\"none\" opacity=\"1\" stroke=\"#FFFFFF\" stroke-width=\"1\" points=\"585,75 590,75 \"/>\n",
       "<polyline fill=\"none\" opacity=\"1\" stroke=\"#FF0000\" stroke-width=\"1\" points=\"55,75 68,84 81,93 94,102 107,110 121,119 134,128 147,137 160,145 174,154 187,163 200,171 213,180 226,189 240,198 253,206 266,215 279,224 293,233 306,241 319,250 332,259 345,267 359,276 372,285 385,294 398,302 412,311 425,320 438,329 451,337 464,346 478,355 491,363 504,372 517,381 531,390 544,398 557,407 570,416 584,424 \"/>\n",
       "<rect x=\"415\" y=\"235\" width=\"165\" height=\"30\" opacity=\"1\" fill=\"none\" stroke=\"#FFFFFF\"/>\n",
       "<text x=\"455\" y=\"245\" dy=\"0.76em\" text-anchor=\"start\" font-family=\"sans-serif\" font-size=\"9.67741935483871\" opacity=\"1\" fill=\"#FFFFFF\">\n",
       "velocity of car (m/s)\n",
       "</text>\n",
       "<polyline fill=\"none\" opacity=\"1\" stroke=\"#FF0000\" stroke-width=\"1\" points=\"425,250 445,250 \"/>\n",
       "</svg>\n"
      ]
     },
     "metadata": {},
     "output_type": "display_data"
    },
    {
     "name": "stdout",
     "output_type": "stream",
     "text": [
      "type Mut0 = {mutable l0 : int32}\n",
      "let rec method1 (v0 : Mut0) : bool =\n",
      "    let v1 : int32 = v0.l0\n",
      "    let v2 : bool = v1 < 41\n",
      "    v2\n",
      "and method2 (v0 : int32, v1 : Mut0) : bool =\n",
      "    let v2 : int32 = v1.l0\n",
      "    let v3 : bool = v2 < v0\n",
      "    v3\n",
      "and method0 () : struct (string * string * (float []) * string * (struct (string * (float [])) [])) =\n",
      "    let v0 : (float []) = Array.zeroCreate<float> (41)\n",
      "    let v1 : Mut0 = {l0 = 0} : Mut0\n",
      "    while method1(v1) do\n",
      "        let v3 : int32 = v1.l0\n",
      "        let v4 : float = float v3\n",
      "        let v5 : float = 0.1 * v4\n",
      "        v0.[int v3] <- v5\n",
      "        let v6 : int32 = v3 + 1\n",
      "        v1.l0 <- v6\n",
      "        ()\n",
      "    let v7 : int32 = v0.Length\n",
      "    let v8 : (float []) = Array.zeroCreate<float> (v7)\n",
      "    let v9 : Mut0 = {l0 = 0} : Mut0\n",
      "    while method2(v7, v9) do\n",
      "        let v11 : int32 = v9.l0\n",
      "        let v12 : float = v0.[int v11]\n",
      "        let v13 : float = -0.39999999999999997 * v12\n",
      "        let v14 : float = 0.6 + v13\n",
      "        v8.[int v11] <- v14\n",
      "        let v15 : int32 = v11 + 1\n",
      "        v9.l0 <- v15\n",
      "        ()\n",
      "    let v16 : string = \"velocity of car (m/s)\"\n",
      "    let v17 : (struct (string * (float [])) []) = [|struct (v16, v8)|]\n",
      "    let v18 : string = \"car on an air track\"\n",
      "    let v19 : string = \"time (s)\"\n",
      "    let v20 : string = \"\"\n",
      "    struct (v18, v19, v0, v20, v17)\n",
      "method0()\n",
      "\r\n"
     ]
    }
   ],
   "source": [
    "// // test\n",
    "\n",
    "inl x = init_series 0 4 0.1\n",
    "inl y = x |> am.map (velocity_cf 0.1f64 0.6 [0.04; -0.08])\n",
    "\"car on an air track\", \"time (s)\", x, \"\", ;[\"velocity of car (m/s)\", y]"
   ]
  },
  {
   "cell_type": "markdown",
   "metadata": {},
   "source": [
    "## derivative"
   ]
  },
  {
   "cell_type": "code",
   "execution_count": null,
   "metadata": {
    "dotnet_interactive": {
     "language": "spiral"
    },
    "polyglot_notebook": {
     "kernelName": "spiral"
    }
   },
   "outputs": [
    {
     "name": "stdout",
     "output_type": "stream",
     "text": [
      "()\n",
      "\r\n"
     ]
    }
   ],
   "source": [
    "type derivative = (f64 -> f64) -> f64 -> f64\n",
    "\n",
    "inl derivative dt : derivative =\n",
    "    fun x t =>\n",
    "        (x (t + dt / 2) - x (t - dt / 2)) / dt"
   ]
  },
  {
   "cell_type": "code",
   "execution_count": null,
   "metadata": {
    "dotnet_interactive": {
     "language": "spiral"
    },
    "polyglot_notebook": {
     "kernelName": "spiral"
    }
   },
   "outputs": [
    {
     "name": "stdout",
     "output_type": "stream",
     "text": [
      "let rec method0 () : unit =\n",
      "    let v0 : string = $\"_almost_equal / actual: {0.25} / expected: {0.25}\"\n",
      "    let v1 : string = $\"_almost_equal / actual: {2.499998827953931E-07} / expected: {2.499998827953931E-07}\"\n",
      "    let v2 : string = $\"_almost_equal / actual: {1.000088900582341E-12} / expected: {1.000088900582341E-12}\"\n",
      "    let v3 : string = $\"_almost_equal / actual: {8.274037099909037E-08} / expected: {8.274037099909037E-08}\"\n",
      "    let v4 : string = $\"_almost_equal / actual: {8.890058234101161E-05} / expected: {8.890058234101161E-05}\"\n",
      "    let v5 : string = $\"_almost_equal / actual: {-0.0007992778373592246} / expected: {-0.0007992778373592246}\"\n",
      "    let v6 : string = $\"_almost_equal / actual: {-1.0} / expected: {-1.0}\"\n",
      "    ()\n",
      "method0()\n",
      "\r\n"
     ]
    }
   ],
   "source": [
    "// // test\n",
    "\n",
    "derivative 1 (fun x => x ** 4 / 4) 1 - 1\n",
    "|> _almost_equal 0.25\n",
    "\n",
    "derivative 0.001 (fun x => x ** 4 / 4) 1 - 1\n",
    "|> _almost_equal 0.0000002499998827953931\n",
    "\n",
    "derivative 0.000001 (fun x => x ** 4 / 4) 1 - 1\n",
    "|> _almost_equal 0.000000000001000088900582341\n",
    "\n",
    "derivative 0.000000001 (fun x => x ** 4 / 4) 1 - 1\n",
    "|> _almost_equal 0.00000008274037099909037\n",
    "\n",
    "derivative 0.000000000001 (fun x => x ** 4 / 4) 1 - 1\n",
    "|> _almost_equal 0.00008890058234101161\n",
    "\n",
    "derivative 0.000000000000001 (fun x => x ** 4 / 4) 1 - 1\n",
    "|> _almost_equal -0.0007992778373592246\n",
    "\n",
    "derivative 0.000000000000000001 (fun x => x ** 4 / 4) 1 - 1\n",
    "|> _almost_equal -1"
   ]
  },
  {
   "cell_type": "markdown",
   "metadata": {},
   "source": [
    "## integration"
   ]
  },
  {
   "cell_type": "code",
   "execution_count": null,
   "metadata": {
    "dotnet_interactive": {
     "language": "spiral"
    },
    "polyglot_notebook": {
     "kernelName": "spiral"
    }
   },
   "outputs": [
    {
     "name": "stdout",
     "output_type": "stream",
     "text": [
      "()\n",
      "\r\n"
     ]
    }
   ],
   "source": [
    "type integration = (f64 -> f64) -> f64 -> f64 -> f64\n",
    "\n",
    "inl integral dt : integration =\n",
    "    fun f a b =>\n",
    "        inl rec loop t y =\n",
    "            if t < b\n",
    "            then loop (t + dt) (y + f t * dt)\n",
    "            else t, y\n",
    "        loop (a + dt / 2) 0\n",
    "        |> snd"
   ]
  },
  {
   "cell_type": "code",
   "execution_count": null,
   "metadata": {
    "dotnet_interactive": {
     "language": "spiral"
    },
    "polyglot_notebook": {
     "kernelName": "spiral"
    }
   },
   "outputs": [
    {
     "name": "stdout",
     "output_type": "stream",
     "text": [
      "let rec method0 () : unit =\n",
      "    let v0 : string = $\"_almost_equal / actual: {0.3333250000000004} / expected: {0.33332500000000004}\"\n",
      "    ()\n",
      "method0()\n",
      "\r\n"
     ]
    }
   ],
   "source": [
    "// // test\n",
    "\n",
    "integral 0.01 square 0 1\n",
    "|> _almost_equal 0.33332500000000004"
   ]
  },
  {
   "cell_type": "code",
   "execution_count": null,
   "metadata": {
    "dotnet_interactive": {
     "language": "spiral"
    },
    "polyglot_notebook": {
     "kernelName": "spiral"
    }
   },
   "outputs": [
    {
     "name": "stdout",
     "output_type": "stream",
     "text": [
      "()\n",
      "\r\n"
     ]
    }
   ],
   "source": [
    "inl integral' dt : integration =\n",
    "    fun f a b =>\n",
    "        init_series' (a + dt / 2) (b - dt / 2) dt\n",
    "        |> listm.map (f >> (*) dt)\n",
    "        |> list_sum"
   ]
  },
  {
   "cell_type": "code",
   "execution_count": null,
   "metadata": {
    "dotnet_interactive": {
     "language": "spiral"
    },
    "polyglot_notebook": {
     "kernelName": "spiral"
    }
   },
   "outputs": [
    {
     "name": "stdout",
     "output_type": "stream",
     "text": [
      "let rec method0 () : unit =\n",
      "    let v0 : string = $\"_almost_equal / actual: {0.3325000000000001} / expected: {0.33249999999999996}\"\n",
      "    ()\n",
      "method0()\n",
      "\r\n"
     ]
    }
   ],
   "source": [
    "// // test\n",
    "\n",
    "integral' 0.1 square 0 1\n",
    "|> _almost_equal (integral 0.1 square 0 1)"
   ]
  },
  {
   "cell_type": "code",
   "execution_count": null,
   "metadata": {
    "dotnet_interactive": {
     "language": "spiral"
    },
    "polyglot_notebook": {
     "kernelName": "spiral"
    }
   },
   "outputs": [
    {
     "name": "stdout",
     "output_type": "stream",
     "text": [
      "()\n",
      "\r\n"
     ]
    }
   ],
   "source": [
    "inl integral'' dt : integration =\n",
    "    fun f a b =>\n",
    "        init_series (a + dt / 2) (b - dt / 2) dt\n",
    "        |> am.map (f >> (*) dt)\n",
    "        |> a_sum"
   ]
  },
  {
   "cell_type": "code",
   "execution_count": null,
   "metadata": {
    "dotnet_interactive": {
     "language": "spiral"
    },
    "polyglot_notebook": {
     "kernelName": "spiral"
    }
   },
   "outputs": [
    {
     "name": "stdout",
     "output_type": "stream",
     "text": [
      "type Mut0 = {mutable l0 : int32}\n",
      "and Mut1 = {mutable l0 : int32; mutable l1 : float}\n",
      "let rec method1 (v0 : Mut0) : bool =\n",
      "    let v1 : int32 = v0.l0\n",
      "    let v2 : bool = v1 < 100\n",
      "    v2\n",
      "and method2 (v0 : int32, v1 : Mut0) : bool =\n",
      "    let v2 : int32 = v1.l0\n",
      "    let v3 : bool = v2 < v0\n",
      "    v3\n",
      "and method3 (v0 : int32, v1 : Mut1) : bool =\n",
      "    let v2 : int32 = v1.l0\n",
      "    let v3 : bool = v2 < v0\n",
      "    v3\n",
      "and method0 () : unit =\n",
      "    let v0 : (float []) = Array.zeroCreate<float> (100)\n",
      "    let v1 : Mut0 = {l0 = 0} : Mut0\n",
      "    while method1(v1) do\n",
      "        let v3 : int32 = v1.l0\n",
      "        let v4 : float = float v3\n",
      "        let v5 : float = 0.01 * v4\n",
      "        let v6 : float = 0.005 + v5\n",
      "        v0.[int v3] <- v6\n",
      "        let v7 : int32 = v3 + 1\n",
      "        v1.l0 <- v7\n",
      "        ()\n",
      "    let v8 : int32 = v0.Length\n",
      "    let v9 : (float []) = Array.zeroCreate<float> (v8)\n",
      "    let v10 : Mut0 = {l0 = 0} : Mut0\n",
      "    while method2(v8, v10) do\n",
      "        let v12 : int32 = v10.l0\n",
      "        let v13 : float = v0.[int v12]\n",
      "        let v14 : float = v13 ** 2.0\n",
      "        let v15 : float = 0.01 * v14\n",
      "        v9.[int v12] <- v15\n",
      "        let v16 : int32 = v12 + 1\n",
      "        v10.l0 <- v16\n",
      "        ()\n",
      "    let v17 : int32 = v9.Length\n",
      "    let v18 : Mut1 = {l0 = 0; l1 = 0.0} : Mut1\n",
      "    while method3(v17, v18) do\n",
      "        let v20 : int32 = v18.l0\n",
      "        let v21 : float = v18.l1\n",
      "        let v22 : float = v9.[int v20]\n",
      "        let v23 : float = v21 + v22\n",
      "        let v24 : int32 = v20 + 1\n",
      "        v18.l0 <- v24\n",
      "        v18.l1 <- v23\n",
      "        ()\n",
      "    let v25 : float = v18.l1\n",
      "    let v26 : float = 0.3333250000000004 - v25\n",
      "    let v27 : float =  -v26\n",
      "    let v28 : bool = v26 >= v27\n",
      "    let v29 : float =\n",
      "        if v28 then\n",
      "            v26\n",
      "        else\n",
      "            v27\n",
      "    let v30 : bool = v29 < 1E-08\n",
      "    let v31 : string = $\"_almost_equal / actual: {v25} / expected: {0.3333250000000004}\"\n",
      "    let v32 : bool = v30 = false\n",
      "    if v32 then\n",
      "        failwith<unit> v31\n",
      "method0()\n",
      "\r\n"
     ]
    }
   ],
   "source": [
    "// // test\n",
    "\n",
    "integral'' 0.01 square 0 1\n",
    "|> _almost_equal (integral 0.01 square 0 1)"
   ]
  },
  {
   "cell_type": "markdown",
   "metadata": {},
   "source": [
    "## anti_derivative"
   ]
  },
  {
   "cell_type": "code",
   "execution_count": null,
   "metadata": {
    "dotnet_interactive": {
     "language": "spiral"
    },
    "polyglot_notebook": {
     "kernelName": "spiral"
    }
   },
   "outputs": [
    {
     "name": "stdout",
     "output_type": "stream",
     "text": [
      "()\n",
      "\r\n"
     ]
    }
   ],
   "source": [
    "inl anti_derivative dt v0 a t =\n",
    "    v0 + integral' dt a 0 t"
   ]
  },
  {
   "cell_type": "markdown",
   "metadata": {},
   "source": [
    "## velocity_ft"
   ]
  },
  {
   "cell_type": "code",
   "execution_count": null,
   "metadata": {
    "dotnet_interactive": {
     "language": "spiral"
    },
    "polyglot_notebook": {
     "kernelName": "spiral"
    }
   },
   "outputs": [
    {
     "name": "stdout",
     "output_type": "stream",
     "text": [
      "()\n",
      "\r\n"
     ]
    }
   ],
   "source": [
    "type velocity_ft = mass -> velocity -> list (time -> force) -> (time -> velocity)\n",
    "\n",
    "inl velocity_ft dt : velocity_ft =\n",
    "    fun m v0 fs =>\n",
    "        inl f_net t = fs |> listm.map (fun f => f t) |> list_sum\n",
    "        inl a t = f_net t / m\n",
    "        anti_derivative dt v0 a"
   ]
  },
  {
   "cell_type": "markdown",
   "metadata": {},
   "source": [
    "## position_ft"
   ]
  },
  {
   "cell_type": "code",
   "execution_count": null,
   "metadata": {
    "dotnet_interactive": {
     "language": "spiral"
    },
    "polyglot_notebook": {
     "kernelName": "spiral"
    }
   },
   "outputs": [
    {
     "name": "stdout",
     "output_type": "stream",
     "text": [
      "()\n",
      "\r\n"
     ]
    }
   ],
   "source": [
    "type position_ft = mass -> position -> velocity -> list (time -> force) -> (time -> position)\n",
    "\n",
    "inl position_ft dt : position_ft =\n",
    "    fun m x0 v0 fs =>\n",
    "        velocity_ft dt m v0 fs\n",
    "        |> anti_derivative dt x0"
   ]
  },
  {
   "cell_type": "code",
   "execution_count": null,
   "metadata": {
    "dotnet_interactive": {
     "language": "spiral"
    },
    "polyglot_notebook": {
     "kernelName": "spiral"
    }
   },
   "outputs": [
    {
     "data": {
      "text/html": [
       "<svg width=\"640\" height=\"480\" viewBox=\"0 0 640 480\" xmlns=\"http://www.w3.org/2000/svg\">\n",
       "<rect x=\"0\" y=\"0\" width=\"640\" height=\"480\" opacity=\"1\" fill=\"#141414\" stroke=\"none\"/>\n",
       "<text x=\"320\" y=\"10\" dy=\"0.76em\" text-anchor=\"middle\" font-family=\"sans-serif\" font-size=\"9.67741935483871\" opacity=\"1\" fill=\"#FFFFFF\">\n",
       "child pedaling then coasting\n",
       "</text>\n",
       "<line opacity=\"1\" stroke=\"#323232\" stroke-width=\"1\" x1=\"55\" y1=\"424\" x2=\"55\" y2=\"75\"/>\n",
       "<line opacity=\"1\" stroke=\"#323232\" stroke-width=\"1\" x1=\"65\" y1=\"424\" x2=\"65\" y2=\"75\"/>\n",
       "<line opacity=\"1\" stroke=\"#323232\" stroke-width=\"1\" x1=\"76\" y1=\"424\" x2=\"76\" y2=\"75\"/>\n",
       "<line opacity=\"1\" stroke=\"#323232\" stroke-width=\"1\" x1=\"86\" y1=\"424\" x2=\"86\" y2=\"75\"/>\n",
       "<line opacity=\"1\" stroke=\"#323232\" stroke-width=\"1\" x1=\"97\" y1=\"424\" x2=\"97\" y2=\"75\"/>\n",
       "<line opacity=\"1\" stroke=\"#323232\" stroke-width=\"1\" x1=\"107\" y1=\"424\" x2=\"107\" y2=\"75\"/>\n",
       "<line opacity=\"1\" stroke=\"#323232\" stroke-width=\"1\" x1=\"118\" y1=\"424\" x2=\"118\" y2=\"75\"/>\n",
       "<line opacity=\"1\" stroke=\"#323232\" stroke-width=\"1\" x1=\"129\" y1=\"424\" x2=\"129\" y2=\"75\"/>\n",
       "<line opacity=\"1\" stroke=\"#323232\" stroke-width=\"1\" x1=\"139\" y1=\"424\" x2=\"139\" y2=\"75\"/>\n",
       "<line opacity=\"1\" stroke=\"#323232\" stroke-width=\"1\" x1=\"150\" y1=\"424\" x2=\"150\" y2=\"75\"/>\n",
       "<line opacity=\"1\" stroke=\"#323232\" stroke-width=\"1\" x1=\"160\" y1=\"424\" x2=\"160\" y2=\"75\"/>\n",
       "<line opacity=\"1\" stroke=\"#323232\" stroke-width=\"1\" x1=\"171\" y1=\"424\" x2=\"171\" y2=\"75\"/>\n",
       "<line opacity=\"1\" stroke=\"#323232\" stroke-width=\"1\" x1=\"181\" y1=\"424\" x2=\"181\" y2=\"75\"/>\n",
       "<line opacity=\"1\" stroke=\"#323232\" stroke-width=\"1\" x1=\"192\" y1=\"424\" x2=\"192\" y2=\"75\"/>\n",
       "<line opacity=\"1\" stroke=\"#323232\" stroke-width=\"1\" x1=\"203\" y1=\"424\" x2=\"203\" y2=\"75\"/>\n",
       "<line opacity=\"1\" stroke=\"#323232\" stroke-width=\"1\" x1=\"213\" y1=\"424\" x2=\"213\" y2=\"75\"/>\n",
       "<line opacity=\"1\" stroke=\"#323232\" stroke-width=\"1\" x1=\"224\" y1=\"424\" x2=\"224\" y2=\"75\"/>\n",
       "<line opacity=\"1\" stroke=\"#323232\" stroke-width=\"1\" x1=\"234\" y1=\"424\" x2=\"234\" y2=\"75\"/>\n",
       "<line opacity=\"1\" stroke=\"#323232\" stroke-width=\"1\" x1=\"245\" y1=\"424\" x2=\"245\" y2=\"75\"/>\n",
       "<line opacity=\"1\" stroke=\"#323232\" stroke-width=\"1\" x1=\"256\" y1=\"424\" x2=\"256\" y2=\"75\"/>\n",
       "<line opacity=\"1\" stroke=\"#323232\" stroke-width=\"1\" x1=\"266\" y1=\"424\" x2=\"266\" y2=\"75\"/>\n",
       "<line opacity=\"1\" stroke=\"#323232\" stroke-width=\"1\" x1=\"277\" y1=\"424\" x2=\"277\" y2=\"75\"/>\n",
       "<line opacity=\"1\" stroke=\"#323232\" stroke-width=\"1\" x1=\"287\" y1=\"424\" x2=\"287\" y2=\"75\"/>\n",
       "<line opacity=\"1\" stroke=\"#323232\" stroke-width=\"1\" x1=\"298\" y1=\"424\" x2=\"298\" y2=\"75\"/>\n",
       "<line opacity=\"1\" stroke=\"#323232\" stroke-width=\"1\" x1=\"308\" y1=\"424\" x2=\"308\" y2=\"75\"/>\n",
       "<line opacity=\"1\" stroke=\"#323232\" stroke-width=\"1\" x1=\"319\" y1=\"424\" x2=\"319\" y2=\"75\"/>\n",
       "<line opacity=\"1\" stroke=\"#323232\" stroke-width=\"1\" x1=\"330\" y1=\"424\" x2=\"330\" y2=\"75\"/>\n",
       "<line opacity=\"1\" stroke=\"#323232\" stroke-width=\"1\" x1=\"340\" y1=\"424\" x2=\"340\" y2=\"75\"/>\n",
       "<line opacity=\"1\" stroke=\"#323232\" stroke-width=\"1\" x1=\"351\" y1=\"424\" x2=\"351\" y2=\"75\"/>\n",
       "<line opacity=\"1\" stroke=\"#323232\" stroke-width=\"1\" x1=\"361\" y1=\"424\" x2=\"361\" y2=\"75\"/>\n",
       "<line opacity=\"1\" stroke=\"#323232\" stroke-width=\"1\" x1=\"372\" y1=\"424\" x2=\"372\" y2=\"75\"/>\n",
       "<line opacity=\"1\" stroke=\"#323232\" stroke-width=\"1\" x1=\"382\" y1=\"424\" x2=\"382\" y2=\"75\"/>\n",
       "<line opacity=\"1\" stroke=\"#323232\" stroke-width=\"1\" x1=\"393\" y1=\"424\" x2=\"393\" y2=\"75\"/>\n",
       "<line opacity=\"1\" stroke=\"#323232\" stroke-width=\"1\" x1=\"404\" y1=\"424\" x2=\"404\" y2=\"75\"/>\n",
       "<line opacity=\"1\" stroke=\"#323232\" stroke-width=\"1\" x1=\"414\" y1=\"424\" x2=\"414\" y2=\"75\"/>\n",
       "<line opacity=\"1\" stroke=\"#323232\" stroke-width=\"1\" x1=\"425\" y1=\"424\" x2=\"425\" y2=\"75\"/>\n",
       "<line opacity=\"1\" stroke=\"#323232\" stroke-width=\"1\" x1=\"435\" y1=\"424\" x2=\"435\" y2=\"75\"/>\n",
       "<line opacity=\"1\" stroke=\"#323232\" stroke-width=\"1\" x1=\"446\" y1=\"424\" x2=\"446\" y2=\"75\"/>\n",
       "<line opacity=\"1\" stroke=\"#323232\" stroke-width=\"1\" x1=\"457\" y1=\"424\" x2=\"457\" y2=\"75\"/>\n",
       "<line opacity=\"1\" stroke=\"#323232\" stroke-width=\"1\" x1=\"467\" y1=\"424\" x2=\"467\" y2=\"75\"/>\n",
       "<line opacity=\"1\" stroke=\"#323232\" stroke-width=\"1\" x1=\"478\" y1=\"424\" x2=\"478\" y2=\"75\"/>\n",
       "<line opacity=\"1\" stroke=\"#323232\" stroke-width=\"1\" x1=\"488\" y1=\"424\" x2=\"488\" y2=\"75\"/>\n",
       "<line opacity=\"1\" stroke=\"#323232\" stroke-width=\"1\" x1=\"499\" y1=\"424\" x2=\"499\" y2=\"75\"/>\n",
       "<line opacity=\"1\" stroke=\"#323232\" stroke-width=\"1\" x1=\"509\" y1=\"424\" x2=\"509\" y2=\"75\"/>\n",
       "<line opacity=\"1\" stroke=\"#323232\" stroke-width=\"1\" x1=\"520\" y1=\"424\" x2=\"520\" y2=\"75\"/>\n",
       "<line opacity=\"1\" stroke=\"#323232\" stroke-width=\"1\" x1=\"531\" y1=\"424\" x2=\"531\" y2=\"75\"/>\n",
       "<line opacity=\"1\" stroke=\"#323232\" stroke-width=\"1\" x1=\"541\" y1=\"424\" x2=\"541\" y2=\"75\"/>\n",
       "<line opacity=\"1\" stroke=\"#323232\" stroke-width=\"1\" x1=\"552\" y1=\"424\" x2=\"552\" y2=\"75\"/>\n",
       "<line opacity=\"1\" stroke=\"#323232\" stroke-width=\"1\" x1=\"562\" y1=\"424\" x2=\"562\" y2=\"75\"/>\n",
       "<line opacity=\"1\" stroke=\"#323232\" stroke-width=\"1\" x1=\"573\" y1=\"424\" x2=\"573\" y2=\"75\"/>\n",
       "<line opacity=\"1\" stroke=\"#323232\" stroke-width=\"1\" x1=\"584\" y1=\"424\" x2=\"584\" y2=\"75\"/>\n",
       "<line opacity=\"1\" stroke=\"#323232\" stroke-width=\"1\" x1=\"55\" y1=\"424\" x2=\"584\" y2=\"424\"/>\n",
       "<line opacity=\"1\" stroke=\"#323232\" stroke-width=\"1\" x1=\"55\" y1=\"407\" x2=\"584\" y2=\"407\"/>\n",
       "<line opacity=\"1\" stroke=\"#323232\" stroke-width=\"1\" x1=\"55\" y1=\"390\" x2=\"584\" y2=\"390\"/>\n",
       "<line opacity=\"1\" stroke=\"#323232\" stroke-width=\"1\" x1=\"55\" y1=\"372\" x2=\"584\" y2=\"372\"/>\n",
       "<line opacity=\"1\" stroke=\"#323232\" stroke-width=\"1\" x1=\"55\" y1=\"355\" x2=\"584\" y2=\"355\"/>\n",
       "<line opacity=\"1\" stroke=\"#323232\" stroke-width=\"1\" x1=\"55\" y1=\"337\" x2=\"584\" y2=\"337\"/>\n",
       "<line opacity=\"1\" stroke=\"#323232\" stroke-width=\"1\" x1=\"55\" y1=\"320\" x2=\"584\" y2=\"320\"/>\n",
       "<line opacity=\"1\" stroke=\"#323232\" stroke-width=\"1\" x1=\"55\" y1=\"302\" x2=\"584\" y2=\"302\"/>\n",
       "<line opacity=\"1\" stroke=\"#323232\" stroke-width=\"1\" x1=\"55\" y1=\"285\" x2=\"584\" y2=\"285\"/>\n",
       "<line opacity=\"1\" stroke=\"#323232\" stroke-width=\"1\" x1=\"55\" y1=\"267\" x2=\"584\" y2=\"267\"/>\n",
       "<line opacity=\"1\" stroke=\"#323232\" stroke-width=\"1\" x1=\"55\" y1=\"250\" x2=\"584\" y2=\"250\"/>\n",
       "<line opacity=\"1\" stroke=\"#323232\" stroke-width=\"1\" x1=\"55\" y1=\"233\" x2=\"584\" y2=\"233\"/>\n",
       "<line opacity=\"1\" stroke=\"#323232\" stroke-width=\"1\" x1=\"55\" y1=\"215\" x2=\"584\" y2=\"215\"/>\n",
       "<line opacity=\"1\" stroke=\"#323232\" stroke-width=\"1\" x1=\"55\" y1=\"198\" x2=\"584\" y2=\"198\"/>\n",
       "<line opacity=\"1\" stroke=\"#323232\" stroke-width=\"1\" x1=\"55\" y1=\"180\" x2=\"584\" y2=\"180\"/>\n",
       "<line opacity=\"1\" stroke=\"#323232\" stroke-width=\"1\" x1=\"55\" y1=\"163\" x2=\"584\" y2=\"163\"/>\n",
       "<line opacity=\"1\" stroke=\"#323232\" stroke-width=\"1\" x1=\"55\" y1=\"145\" x2=\"584\" y2=\"145\"/>\n",
       "<line opacity=\"1\" stroke=\"#323232\" stroke-width=\"1\" x1=\"55\" y1=\"128\" x2=\"584\" y2=\"128\"/>\n",
       "<line opacity=\"1\" stroke=\"#323232\" stroke-width=\"1\" x1=\"55\" y1=\"110\" x2=\"584\" y2=\"110\"/>\n",
       "<line opacity=\"1\" stroke=\"#323232\" stroke-width=\"1\" x1=\"55\" y1=\"93\" x2=\"584\" y2=\"93\"/>\n",
       "<line opacity=\"1\" stroke=\"#323232\" stroke-width=\"1\" x1=\"55\" y1=\"75\" x2=\"584\" y2=\"75\"/>\n",
       "<text x=\"320\" y=\"25\" dy=\"0.76em\" text-anchor=\"middle\" font-family=\"sans-serif\" font-size=\"9.67741935483871\" opacity=\"1\" fill=\"#FFFFFF\">\n",
       "time (s)\n",
       "</text>\n",
       "<text x=\"5\" y=\"250\" dy=\"0.76em\" text-anchor=\"middle\" font-family=\"sans-serif\" font-size=\"9.67741935483871\" opacity=\"1\" fill=\"#FFFFFF\" transform=\"rotate(270, 5, 250)\">\n",
       "\n",
       "</text>\n",
       "<text x=\"320\" y=\"475\" dy=\"-0.5ex\" text-anchor=\"middle\" font-family=\"sans-serif\" font-size=\"9.67741935483871\" opacity=\"1\" fill=\"#FFFFFF\">\n",
       "time (s)\n",
       "</text>\n",
       "<text x=\"635\" y=\"250\" dy=\"0.76em\" text-anchor=\"middle\" font-family=\"sans-serif\" font-size=\"9.67741935483871\" opacity=\"1\" fill=\"#FFFFFF\" transform=\"rotate(90, 635, 250)\">\n",
       "\n",
       "</text>\n",
       "<line opacity=\"1\" stroke=\"#5A5A5A\" stroke-width=\"1\" x1=\"55\" y1=\"424\" x2=\"55\" y2=\"75\"/>\n",
       "<line opacity=\"1\" stroke=\"#5A5A5A\" stroke-width=\"1\" x1=\"107\" y1=\"424\" x2=\"107\" y2=\"75\"/>\n",
       "<line opacity=\"1\" stroke=\"#5A5A5A\" stroke-width=\"1\" x1=\"160\" y1=\"424\" x2=\"160\" y2=\"75\"/>\n",
       "<line opacity=\"1\" stroke=\"#5A5A5A\" stroke-width=\"1\" x1=\"213\" y1=\"424\" x2=\"213\" y2=\"75\"/>\n",
       "<line opacity=\"1\" stroke=\"#5A5A5A\" stroke-width=\"1\" x1=\"266\" y1=\"424\" x2=\"266\" y2=\"75\"/>\n",
       "<line opacity=\"1\" stroke=\"#5A5A5A\" stroke-width=\"1\" x1=\"319\" y1=\"424\" x2=\"319\" y2=\"75\"/>\n",
       "<line opacity=\"1\" stroke=\"#5A5A5A\" stroke-width=\"1\" x1=\"372\" y1=\"424\" x2=\"372\" y2=\"75\"/>\n",
       "<line opacity=\"1\" stroke=\"#5A5A5A\" stroke-width=\"1\" x1=\"425\" y1=\"424\" x2=\"425\" y2=\"75\"/>\n",
       "<line opacity=\"1\" stroke=\"#5A5A5A\" stroke-width=\"1\" x1=\"478\" y1=\"424\" x2=\"478\" y2=\"75\"/>\n",
       "<line opacity=\"1\" stroke=\"#5A5A5A\" stroke-width=\"1\" x1=\"531\" y1=\"424\" x2=\"531\" y2=\"75\"/>\n",
       "<line opacity=\"1\" stroke=\"#5A5A5A\" stroke-width=\"1\" x1=\"584\" y1=\"424\" x2=\"584\" y2=\"75\"/>\n",
       "<line opacity=\"1\" stroke=\"#5A5A5A\" stroke-width=\"1\" x1=\"55\" y1=\"424\" x2=\"584\" y2=\"424\"/>\n",
       "<line opacity=\"1\" stroke=\"#5A5A5A\" stroke-width=\"1\" x1=\"55\" y1=\"355\" x2=\"584\" y2=\"355\"/>\n",
       "<line opacity=\"1\" stroke=\"#5A5A5A\" stroke-width=\"1\" x1=\"55\" y1=\"285\" x2=\"584\" y2=\"285\"/>\n",
       "<line opacity=\"1\" stroke=\"#5A5A5A\" stroke-width=\"1\" x1=\"55\" y1=\"215\" x2=\"584\" y2=\"215\"/>\n",
       "<line opacity=\"1\" stroke=\"#5A5A5A\" stroke-width=\"1\" x1=\"55\" y1=\"145\" x2=\"584\" y2=\"145\"/>\n",
       "<line opacity=\"1\" stroke=\"#5A5A5A\" stroke-width=\"1\" x1=\"55\" y1=\"75\" x2=\"584\" y2=\"75\"/>\n",
       "<polyline fill=\"none\" opacity=\"1\" stroke=\"#FFFFFF\" stroke-width=\"1\" points=\"55,74 584,74 \"/>\n",
       "<text x=\"55\" y=\"65\" dy=\"-0.5ex\" text-anchor=\"middle\" font-family=\"sans-serif\" font-size=\"9.67741935483871\" opacity=\"1\" fill=\"#FFFFFF\">\n",
       "-5.0\n",
       "</text>\n",
       "<polyline fill=\"none\" opacity=\"1\" stroke=\"#FFFFFF\" stroke-width=\"1\" points=\"55,69 55,74 \"/>\n",
       "<text x=\"107\" y=\"65\" dy=\"-0.5ex\" text-anchor=\"middle\" font-family=\"sans-serif\" font-size=\"9.67741935483871\" opacity=\"1\" fill=\"#FFFFFF\">\n",
       "0.0\n",
       "</text>\n",
       "<polyline fill=\"none\" opacity=\"1\" stroke=\"#FFFFFF\" stroke-width=\"1\" points=\"107,69 107,74 \"/>\n",
       "<text x=\"160\" y=\"65\" dy=\"-0.5ex\" text-anchor=\"middle\" font-family=\"sans-serif\" font-size=\"9.67741935483871\" opacity=\"1\" fill=\"#FFFFFF\">\n",
       "5.0\n",
       "</text>\n",
       "<polyline fill=\"none\" opacity=\"1\" stroke=\"#FFFFFF\" stroke-width=\"1\" points=\"160,69 160,74 \"/>\n",
       "<text x=\"213\" y=\"65\" dy=\"-0.5ex\" text-anchor=\"middle\" font-family=\"sans-serif\" font-size=\"9.67741935483871\" opacity=\"1\" fill=\"#FFFFFF\">\n",
       "10.0\n",
       "</text>\n",
       "<polyline fill=\"none\" opacity=\"1\" stroke=\"#FFFFFF\" stroke-width=\"1\" points=\"213,69 213,74 \"/>\n",
       "<text x=\"266\" y=\"65\" dy=\"-0.5ex\" text-anchor=\"middle\" font-family=\"sans-serif\" font-size=\"9.67741935483871\" opacity=\"1\" fill=\"#FFFFFF\">\n",
       "15.0\n",
       "</text>\n",
       "<polyline fill=\"none\" opacity=\"1\" stroke=\"#FFFFFF\" stroke-width=\"1\" points=\"266,69 266,74 \"/>\n",
       "<text x=\"319\" y=\"65\" dy=\"-0.5ex\" text-anchor=\"middle\" font-family=\"sans-serif\" font-size=\"9.67741935483871\" opacity=\"1\" fill=\"#FFFFFF\">\n",
       "20.0\n",
       "</text>\n",
       "<polyline fill=\"none\" opacity=\"1\" stroke=\"#FFFFFF\" stroke-width=\"1\" points=\"319,69 319,74 \"/>\n",
       "<text x=\"372\" y=\"65\" dy=\"-0.5ex\" text-anchor=\"middle\" font-family=\"sans-serif\" font-size=\"9.67741935483871\" opacity=\"1\" fill=\"#FFFFFF\">\n",
       "25.0\n",
       "</text>\n",
       "<polyline fill=\"none\" opacity=\"1\" stroke=\"#FFFFFF\" stroke-width=\"1\" points=\"372,69 372,74 \"/>\n",
       "<text x=\"425\" y=\"65\" dy=\"-0.5ex\" text-anchor=\"middle\" font-family=\"sans-serif\" font-size=\"9.67741935483871\" opacity=\"1\" fill=\"#FFFFFF\">\n",
       "30.0\n",
       "</text>\n",
       "<polyline fill=\"none\" opacity=\"1\" stroke=\"#FFFFFF\" stroke-width=\"1\" points=\"425,69 425,74 \"/>\n",
       "<text x=\"478\" y=\"65\" dy=\"-0.5ex\" text-anchor=\"middle\" font-family=\"sans-serif\" font-size=\"9.67741935483871\" opacity=\"1\" fill=\"#FFFFFF\">\n",
       "35.0\n",
       "</text>\n",
       "<polyline fill=\"none\" opacity=\"1\" stroke=\"#FFFFFF\" stroke-width=\"1\" points=\"478,69 478,74 \"/>\n",
       "<text x=\"531\" y=\"65\" dy=\"-0.5ex\" text-anchor=\"middle\" font-family=\"sans-serif\" font-size=\"9.67741935483871\" opacity=\"1\" fill=\"#FFFFFF\">\n",
       "40.0\n",
       "</text>\n",
       "<polyline fill=\"none\" opacity=\"1\" stroke=\"#FFFFFF\" stroke-width=\"1\" points=\"531,69 531,74 \"/>\n",
       "<text x=\"584\" y=\"65\" dy=\"-0.5ex\" text-anchor=\"middle\" font-family=\"sans-serif\" font-size=\"9.67741935483871\" opacity=\"1\" fill=\"#FFFFFF\">\n",
       "45.0\n",
       "</text>\n",
       "<polyline fill=\"none\" opacity=\"1\" stroke=\"#FFFFFF\" stroke-width=\"1\" points=\"584,69 584,74 \"/>\n",
       "<polyline fill=\"none\" opacity=\"1\" stroke=\"#FFFFFF\" stroke-width=\"1\" points=\"54,75 54,424 \"/>\n",
       "<text x=\"45\" y=\"424\" dy=\"0.5ex\" text-anchor=\"end\" font-family=\"sans-serif\" font-size=\"9.67741935483871\" opacity=\"1\" fill=\"#FFFFFF\">\n",
       "0.0\n",
       "</text>\n",
       "<polyline fill=\"none\" opacity=\"1\" stroke=\"#FFFFFF\" stroke-width=\"1\" points=\"49,424 54,424 \"/>\n",
       "<text x=\"45\" y=\"355\" dy=\"0.5ex\" text-anchor=\"end\" font-family=\"sans-serif\" font-size=\"9.67741935483871\" opacity=\"1\" fill=\"#FFFFFF\">\n",
       "2.0\n",
       "</text>\n",
       "<polyline fill=\"none\" opacity=\"1\" stroke=\"#FFFFFF\" stroke-width=\"1\" points=\"49,355 54,355 \"/>\n",
       "<text x=\"45\" y=\"285\" dy=\"0.5ex\" text-anchor=\"end\" font-family=\"sans-serif\" font-size=\"9.67741935483871\" opacity=\"1\" fill=\"#FFFFFF\">\n",
       "4.0\n",
       "</text>\n",
       "<polyline fill=\"none\" opacity=\"1\" stroke=\"#FFFFFF\" stroke-width=\"1\" points=\"49,285 54,285 \"/>\n",
       "<text x=\"45\" y=\"215\" dy=\"0.5ex\" text-anchor=\"end\" font-family=\"sans-serif\" font-size=\"9.67741935483871\" opacity=\"1\" fill=\"#FFFFFF\">\n",
       "6.0\n",
       "</text>\n",
       "<polyline fill=\"none\" opacity=\"1\" stroke=\"#FFFFFF\" stroke-width=\"1\" points=\"49,215 54,215 \"/>\n",
       "<text x=\"45\" y=\"145\" dy=\"0.5ex\" text-anchor=\"end\" font-family=\"sans-serif\" font-size=\"9.67741935483871\" opacity=\"1\" fill=\"#FFFFFF\">\n",
       "8.0\n",
       "</text>\n",
       "<polyline fill=\"none\" opacity=\"1\" stroke=\"#FFFFFF\" stroke-width=\"1\" points=\"49,145 54,145 \"/>\n",
       "<text x=\"45\" y=\"75\" dy=\"0.5ex\" text-anchor=\"end\" font-family=\"sans-serif\" font-size=\"9.67741935483871\" opacity=\"1\" fill=\"#FFFFFF\">\n",
       "10.0\n",
       "</text>\n",
       "<polyline fill=\"none\" opacity=\"1\" stroke=\"#FFFFFF\" stroke-width=\"1\" points=\"49,75 54,75 \"/>\n",
       "<polyline fill=\"none\" opacity=\"1\" stroke=\"#FFFFFF\" stroke-width=\"1\" points=\"55,425 584,425 \"/>\n",
       "<text x=\"55\" y=\"435\" dy=\"0.76em\" text-anchor=\"middle\" font-family=\"sans-serif\" font-size=\"9.67741935483871\" opacity=\"1\" fill=\"#FFFFFF\">\n",
       "-5.0\n",
       "</text>\n",
       "<polyline fill=\"none\" opacity=\"1\" stroke=\"#FFFFFF\" stroke-width=\"1\" points=\"55,425 55,430 \"/>\n",
       "<text x=\"107\" y=\"435\" dy=\"0.76em\" text-anchor=\"middle\" font-family=\"sans-serif\" font-size=\"9.67741935483871\" opacity=\"1\" fill=\"#FFFFFF\">\n",
       "0.0\n",
       "</text>\n",
       "<polyline fill=\"none\" opacity=\"1\" stroke=\"#FFFFFF\" stroke-width=\"1\" points=\"107,425 107,430 \"/>\n",
       "<text x=\"160\" y=\"435\" dy=\"0.76em\" text-anchor=\"middle\" font-family=\"sans-serif\" font-size=\"9.67741935483871\" opacity=\"1\" fill=\"#FFFFFF\">\n",
       "5.0\n",
       "</text>\n",
       "<polyline fill=\"none\" opacity=\"1\" stroke=\"#FFFFFF\" stroke-width=\"1\" points=\"160,425 160,430 \"/>\n",
       "<text x=\"213\" y=\"435\" dy=\"0.76em\" text-anchor=\"middle\" font-family=\"sans-serif\" font-size=\"9.67741935483871\" opacity=\"1\" fill=\"#FFFFFF\">\n",
       "10.0\n",
       "</text>\n",
       "<polyline fill=\"none\" opacity=\"1\" stroke=\"#FFFFFF\" stroke-width=\"1\" points=\"213,425 213,430 \"/>\n",
       "<text x=\"266\" y=\"435\" dy=\"0.76em\" text-anchor=\"middle\" font-family=\"sans-serif\" font-size=\"9.67741935483871\" opacity=\"1\" fill=\"#FFFFFF\">\n",
       "15.0\n",
       "</text>\n",
       "<polyline fill=\"none\" opacity=\"1\" stroke=\"#FFFFFF\" stroke-width=\"1\" points=\"266,425 266,430 \"/>\n",
       "<text x=\"319\" y=\"435\" dy=\"0.76em\" text-anchor=\"middle\" font-family=\"sans-serif\" font-size=\"9.67741935483871\" opacity=\"1\" fill=\"#FFFFFF\">\n",
       "20.0\n",
       "</text>\n",
       "<polyline fill=\"none\" opacity=\"1\" stroke=\"#FFFFFF\" stroke-width=\"1\" points=\"319,425 319,430 \"/>\n",
       "<text x=\"372\" y=\"435\" dy=\"0.76em\" text-anchor=\"middle\" font-family=\"sans-serif\" font-size=\"9.67741935483871\" opacity=\"1\" fill=\"#FFFFFF\">\n",
       "25.0\n",
       "</text>\n",
       "<polyline fill=\"none\" opacity=\"1\" stroke=\"#FFFFFF\" stroke-width=\"1\" points=\"372,425 372,430 \"/>\n",
       "<text x=\"425\" y=\"435\" dy=\"0.76em\" text-anchor=\"middle\" font-family=\"sans-serif\" font-size=\"9.67741935483871\" opacity=\"1\" fill=\"#FFFFFF\">\n",
       "30.0\n",
       "</text>\n",
       "<polyline fill=\"none\" opacity=\"1\" stroke=\"#FFFFFF\" stroke-width=\"1\" points=\"425,425 425,430 \"/>\n",
       "<text x=\"478\" y=\"435\" dy=\"0.76em\" text-anchor=\"middle\" font-family=\"sans-serif\" font-size=\"9.67741935483871\" opacity=\"1\" fill=\"#FFFFFF\">\n",
       "35.0\n",
       "</text>\n",
       "<polyline fill=\"none\" opacity=\"1\" stroke=\"#FFFFFF\" stroke-width=\"1\" points=\"478,425 478,430 \"/>\n",
       "<text x=\"531\" y=\"435\" dy=\"0.76em\" text-anchor=\"middle\" font-family=\"sans-serif\" font-size=\"9.67741935483871\" opacity=\"1\" fill=\"#FFFFFF\">\n",
       "40.0\n",
       "</text>\n",
       "<polyline fill=\"none\" opacity=\"1\" stroke=\"#FFFFFF\" stroke-width=\"1\" points=\"531,425 531,430 \"/>\n",
       "<text x=\"584\" y=\"435\" dy=\"0.76em\" text-anchor=\"middle\" font-family=\"sans-serif\" font-size=\"9.67741935483871\" opacity=\"1\" fill=\"#FFFFFF\">\n",
       "45.0\n",
       "</text>\n",
       "<polyline fill=\"none\" opacity=\"1\" stroke=\"#FFFFFF\" stroke-width=\"1\" points=\"584,425 584,430 \"/>\n",
       "<polyline fill=\"none\" opacity=\"1\" stroke=\"#FFFFFF\" stroke-width=\"1\" points=\"585,75 585,424 \"/>\n",
       "<text x=\"617\" y=\"424\" dy=\"0.5ex\" text-anchor=\"end\" font-family=\"sans-serif\" font-size=\"9.67741935483871\" opacity=\"1\" fill=\"#FFFFFF\">\n",
       "0.0\n",
       "</text>\n",
       "<polyline fill=\"none\" opacity=\"1\" stroke=\"#FFFFFF\" stroke-width=\"1\" points=\"585,424 590,424 \"/>\n",
       "<text x=\"617\" y=\"355\" dy=\"0.5ex\" text-anchor=\"end\" font-family=\"sans-serif\" font-size=\"9.67741935483871\" opacity=\"1\" fill=\"#FFFFFF\">\n",
       "2.0\n",
       "</text>\n",
       "<polyline fill=\"none\" opacity=\"1\" stroke=\"#FFFFFF\" stroke-width=\"1\" points=\"585,355 590,355 \"/>\n",
       "<text x=\"617\" y=\"285\" dy=\"0.5ex\" text-anchor=\"end\" font-family=\"sans-serif\" font-size=\"9.67741935483871\" opacity=\"1\" fill=\"#FFFFFF\">\n",
       "4.0\n",
       "</text>\n",
       "<polyline fill=\"none\" opacity=\"1\" stroke=\"#FFFFFF\" stroke-width=\"1\" points=\"585,285 590,285 \"/>\n",
       "<text x=\"617\" y=\"215\" dy=\"0.5ex\" text-anchor=\"end\" font-family=\"sans-serif\" font-size=\"9.67741935483871\" opacity=\"1\" fill=\"#FFFFFF\">\n",
       "6.0\n",
       "</text>\n",
       "<polyline fill=\"none\" opacity=\"1\" stroke=\"#FFFFFF\" stroke-width=\"1\" points=\"585,215 590,215 \"/>\n",
       "<text x=\"617\" y=\"145\" dy=\"0.5ex\" text-anchor=\"end\" font-family=\"sans-serif\" font-size=\"9.67741935483871\" opacity=\"1\" fill=\"#FFFFFF\">\n",
       "8.0\n",
       "</text>\n",
       "<polyline fill=\"none\" opacity=\"1\" stroke=\"#FFFFFF\" stroke-width=\"1\" points=\"585,145 590,145 \"/>\n",
       "<text x=\"595\" y=\"75\" dy=\"0.5ex\" text-anchor=\"start\" font-family=\"sans-serif\" font-size=\"9.67741935483871\" opacity=\"1\" fill=\"#FFFFFF\">\n",
       "10.0\n",
       "</text>\n",
       "<polyline fill=\"none\" opacity=\"1\" stroke=\"#FFFFFF\" stroke-width=\"1\" points=\"585,75 590,75 \"/>\n",
       "<polyline fill=\"none\" opacity=\"1\" stroke=\"#FF0000\" stroke-width=\"1\" points=\"55,424 56,424 57,424 58,424 59,424 60,424 61,424 62,424 63,424 64,424 65,424 66,424 67,424 68,424 69,424 70,424 71,424 72,424 74,424 75,424 76,424 77,424 78,424 79,424 80,424 81,424 82,424 83,424 84,424 85,424 86,424 87,424 88,424 89,424 90,424 92,424 93,424 94,424 95,424 96,424 97,424 98,424 99,424 100,424 101,424 102,424 103,424 104,424 105,424 106,424 107,424 108,75 110,75 111,75 112,75 113,75 114,75 115,75 116,75 117,75 118,75 119,75 120,75 121,75 122,75 123,75 124,75 125,75 126,75 128,75 129,75 130,75 131,75 132,75 133,75 134,75 135,75 136,75 137,75 138,75 139,75 140,75 141,75 142,75 143,75 144,75 145,75 147,75 148,75 149,75 150,75 151,75 152,75 153,75 154,75 155,75 156,75 157,75 158,75 159,75 160,75 161,75 162,75 163,75 165,75 166,75 167,75 168,75 169,75 170,75 171,75 172,75 173,75 174,75 175,75 176,75 177,75 178,75 179,75 180,75 181,75 183,75 184,75 185,75 186,75 187,75 188,75 189,75 190,75 191,75 192,75 193,75 194,75 195,75 196,75 197,75 198,75 199,75 201,75 202,75 203,75 204,75 205,75 206,75 207,75 208,75 209,75 210,75 211,75 212,75 213,424 214,424 215,424 216,424 217,424 218,424 220,424 221,424 222,424 223,424 224,424 225,424 226,424 227,424 228,424 229,424 230,424 231,424 232,424 233,424 234,424 235,424 236,424 238,424 239,424 240,424 241,424 242,424 243,424 244,424 245,424 246,424 247,424 248,424 249,424 250,424 251,424 252,424 253,424 254,424 256,424 257,424 258,424 259,424 260,424 261,424 262,424 263,424 264,424 265,424 266,424 267,424 268,424 269,424 270,424 271,424 272,424 274,424 275,424 276,424 277,424 278,424 279,424 280,424 281,424 282,424 283,424 284,424 285,424 286,424 287,424 288,424 289,424 290,424 291,424 293,424 294,424 295,424 296,424 297,424 298,424 299,424 300,424 301,424 302,424 303,424 304,424 305,424 306,424 307,424 308,424 309,424 311,424 312,424 313,424 314,424 315,424 316,424 317,424 318,424 319,424 320,75 321,75 322,75 323,75 324,75 325,75 326,75 327,75 329,75 330,75 331,75 332,75 333,75 334,75 335,75 336,75 337,75 338,75 339,75 340,75 341,75 342,75 343,75 344,75 345,75 347,75 348,75 349,75 350,75 351,75 352,75 353,75 354,75 355,75 356,75 357,75 358,75 359,75 360,75 361,75 362,75 363,75 364,75 366,75 367,75 368,75 369,75 370,75 371,75 372,75 373,75 374,75 375,75 376,75 377,75 378,75 379,75 380,75 381,75 382,75 384,75 385,75 386,75 387,75 388,75 389,75 390,75 391,75 392,75 393,75 394,75 395,75 396,75 397,75 398,75 399,75 400,75 402,75 403,75 404,75 405,75 406,75 407,75 408,75 409,75 410,75 411,75 412,75 413,75 414,75 415,75 416,75 417,75 418,75 420,75 421,75 422,75 423,75 424,75 425,424 426,424 427,424 428,424 429,424 430,424 431,424 432,424 433,424 434,424 435,424 436,424 437,424 439,424 440,424 441,424 442,424 443,424 444,424 445,424 446,424 447,424 448,424 449,424 450,424 451,424 452,424 453,424 454,424 455,424 457,424 458,424 459,424 460,424 461,424 462,424 463,424 464,424 465,424 466,424 467,424 468,424 469,424 470,424 471,424 472,424 473,424 475,424 476,424 477,424 478,424 479,424 480,424 481,424 482,424 483,424 484,424 485,424 486,424 487,424 488,424 489,424 490,424 491,424 493,424 494,424 495,424 496,424 497,424 498,424 499,424 500,424 501,424 502,424 503,424 504,424 505,424 506,424 507,424 508,424 509,424 510,424 512,424 513,424 514,424 515,424 516,424 517,424 518,424 519,424 520,424 521,424 522,424 523,424 524,424 525,424 526,424 527,424 528,424 530,424 531,424 532,75 533,75 534,75 535,75 536,75 537,75 538,75 539,75 540,75 541,75 542,75 543,75 544,75 545,75 546,75 548,75 549,75 550,75 551,75 552,75 553,75 554,75 555,75 556,75 557,75 558,75 559,75 560,75 561,75 562,75 563,75 564,75 566,75 567,75 568,75 569,75 570,75 571,75 572,75 573,75 574,75 575,75 576,75 577,75 578,75 579,75 580,75 581,75 582,75 584,75 \"/>\n",
       "<rect x=\"437\" y=\"235\" width=\"143\" height=\"30\" opacity=\"1\" fill=\"none\" stroke=\"#FFFFFF\"/>\n",
       "<text x=\"477\" y=\"245\" dy=\"0.76em\" text-anchor=\"start\" font-family=\"sans-serif\" font-size=\"9.67741935483871\" opacity=\"1\" fill=\"#FFFFFF\">\n",
       "force on bike (N)\n",
       "</text>\n",
       "<polyline fill=\"none\" opacity=\"1\" stroke=\"#FF0000\" stroke-width=\"1\" points=\"447,250 467,250 \"/>\n",
       "</svg>\n"
      ]
     },
     "metadata": {},
     "output_type": "display_data"
    },
    {
     "name": "stdout",
     "output_type": "stream",
     "text": [
      "type Mut0 = {mutable l0 : int32}\n",
      "let rec method1 (v0 : Mut0) : bool =\n",
      "    let v1 : int32 = v0.l0\n",
      "    let v2 : bool = v1 < 501\n",
      "    v2\n",
      "and method2 (v0 : int32, v1 : Mut0) : bool =\n",
      "    let v2 : int32 = v1.l0\n",
      "    let v3 : bool = v2 < v0\n",
      "    v3\n",
      "and method0 () : struct (string * string * (float []) * string * (struct (string * (float [])) [])) =\n",
      "    let v0 : (float []) = Array.zeroCreate<float> (501)\n",
      "    let v1 : Mut0 = {l0 = 0} : Mut0\n",
      "    while method1(v1) do\n",
      "        let v3 : int32 = v1.l0\n",
      "        let v4 : float = float v3\n",
      "        let v5 : float = 0.1 * v4\n",
      "        let v6 : float = -5.0 + v5\n",
      "        v0.[int v3] <- v6\n",
      "        let v7 : int32 = v3 + 1\n",
      "        v1.l0 <- v7\n",
      "        ()\n",
      "    let v8 : int32 = v0.Length\n",
      "    let v9 : (float []) = Array.zeroCreate<float> (v8)\n",
      "    let v10 : Mut0 = {l0 = 0} : Mut0\n",
      "    while method2(v8, v10) do\n",
      "        let v12 : int32 = v10.l0\n",
      "        let v13 : float = v0.[int v12]\n",
      "        let v14 : float = v13 / 20.0\n",
      "        let v15 : int32 = int32 v14\n",
      "        let v16 : float = float v15\n",
      "        let v17 : float = v16 * 20.0\n",
      "        let v18 : float = v13 - v17\n",
      "        let v19 : bool = v18 > 0.0\n",
      "        let v21 : bool =\n",
      "            if v19 then\n",
      "                let v20 : bool = v18 < 10.0\n",
      "                v20\n",
      "            else\n",
      "                false\n",
      "        let v22 : float =\n",
      "            if v21 then\n",
      "                10.0\n",
      "            else\n",
      "                0.0\n",
      "        v9.[int v12] <- v22\n",
      "        let v23 : int32 = v12 + 1\n",
      "        v10.l0 <- v23\n",
      "        ()\n",
      "    let v24 : string = \"force on bike (N)\"\n",
      "    let v25 : (struct (string * (float [])) []) = [|struct (v24, v9)|]\n",
      "    let v26 : string = \"child pedaling then coasting\"\n",
      "    let v27 : string = \"time (s)\"\n",
      "    let v28 : string = \"\"\n",
      "    struct (v26, v27, v0, v28, v25)\n",
      "method0()\n",
      "\r\n"
     ]
    }
   ],
   "source": [
    "// // test\n",
    "\n",
    "inl pedal_coast (t : time) : force =\n",
    "    inl t_cycle = 20\n",
    "    inl n_complete : i32 = t / t_cycle |> conv\n",
    "    inl remainder = t - conv n_complete * t_cycle\n",
    "    if remainder > 0 && remainder < 10\n",
    "    then 10\n",
    "    else 0\n",
    "\n",
    "inl x = init_series -5 45 0.1\n",
    "inl y = x |> am.map pedal_coast\n",
    "\"child pedaling then coasting\", \"time (s)\", x, \"\", ;[\"force on bike (N)\", y]"
   ]
  },
  {
   "cell_type": "code",
   "execution_count": null,
   "metadata": {
    "dotnet_interactive": {
     "language": "spiral"
    },
    "polyglot_notebook": {
     "kernelName": "spiral"
    }
   },
   "outputs": [
    {
     "data": {
      "text/html": [
       "<svg width=\"640\" height=\"480\" viewBox=\"0 0 640 480\" xmlns=\"http://www.w3.org/2000/svg\">\n",
       "<rect x=\"0\" y=\"0\" width=\"640\" height=\"480\" opacity=\"1\" fill=\"#141414\" stroke=\"none\"/>\n",
       "<text x=\"320\" y=\"10\" dy=\"0.76em\" text-anchor=\"middle\" font-family=\"sans-serif\" font-size=\"9.67741935483871\" opacity=\"1\" fill=\"#FFFFFF\">\n",
       "child pedaling then coasting\n",
       "</text>\n",
       "<line opacity=\"1\" stroke=\"#323232\" stroke-width=\"1\" x1=\"55\" y1=\"424\" x2=\"55\" y2=\"75\"/>\n",
       "<line opacity=\"1\" stroke=\"#323232\" stroke-width=\"1\" x1=\"65\" y1=\"424\" x2=\"65\" y2=\"75\"/>\n",
       "<line opacity=\"1\" stroke=\"#323232\" stroke-width=\"1\" x1=\"76\" y1=\"424\" x2=\"76\" y2=\"75\"/>\n",
       "<line opacity=\"1\" stroke=\"#323232\" stroke-width=\"1\" x1=\"86\" y1=\"424\" x2=\"86\" y2=\"75\"/>\n",
       "<line opacity=\"1\" stroke=\"#323232\" stroke-width=\"1\" x1=\"97\" y1=\"424\" x2=\"97\" y2=\"75\"/>\n",
       "<line opacity=\"1\" stroke=\"#323232\" stroke-width=\"1\" x1=\"107\" y1=\"424\" x2=\"107\" y2=\"75\"/>\n",
       "<line opacity=\"1\" stroke=\"#323232\" stroke-width=\"1\" x1=\"118\" y1=\"424\" x2=\"118\" y2=\"75\"/>\n",
       "<line opacity=\"1\" stroke=\"#323232\" stroke-width=\"1\" x1=\"129\" y1=\"424\" x2=\"129\" y2=\"75\"/>\n",
       "<line opacity=\"1\" stroke=\"#323232\" stroke-width=\"1\" x1=\"139\" y1=\"424\" x2=\"139\" y2=\"75\"/>\n",
       "<line opacity=\"1\" stroke=\"#323232\" stroke-width=\"1\" x1=\"150\" y1=\"424\" x2=\"150\" y2=\"75\"/>\n",
       "<line opacity=\"1\" stroke=\"#323232\" stroke-width=\"1\" x1=\"160\" y1=\"424\" x2=\"160\" y2=\"75\"/>\n",
       "<line opacity=\"1\" stroke=\"#323232\" stroke-width=\"1\" x1=\"171\" y1=\"424\" x2=\"171\" y2=\"75\"/>\n",
       "<line opacity=\"1\" stroke=\"#323232\" stroke-width=\"1\" x1=\"181\" y1=\"424\" x2=\"181\" y2=\"75\"/>\n",
       "<line opacity=\"1\" stroke=\"#323232\" stroke-width=\"1\" x1=\"192\" y1=\"424\" x2=\"192\" y2=\"75\"/>\n",
       "<line opacity=\"1\" stroke=\"#323232\" stroke-width=\"1\" x1=\"203\" y1=\"424\" x2=\"203\" y2=\"75\"/>\n",
       "<line opacity=\"1\" stroke=\"#323232\" stroke-width=\"1\" x1=\"213\" y1=\"424\" x2=\"213\" y2=\"75\"/>\n",
       "<line opacity=\"1\" stroke=\"#323232\" stroke-width=\"1\" x1=\"224\" y1=\"424\" x2=\"224\" y2=\"75\"/>\n",
       "<line opacity=\"1\" stroke=\"#323232\" stroke-width=\"1\" x1=\"234\" y1=\"424\" x2=\"234\" y2=\"75\"/>\n",
       "<line opacity=\"1\" stroke=\"#323232\" stroke-width=\"1\" x1=\"245\" y1=\"424\" x2=\"245\" y2=\"75\"/>\n",
       "<line opacity=\"1\" stroke=\"#323232\" stroke-width=\"1\" x1=\"256\" y1=\"424\" x2=\"256\" y2=\"75\"/>\n",
       "<line opacity=\"1\" stroke=\"#323232\" stroke-width=\"1\" x1=\"266\" y1=\"424\" x2=\"266\" y2=\"75\"/>\n",
       "<line opacity=\"1\" stroke=\"#323232\" stroke-width=\"1\" x1=\"277\" y1=\"424\" x2=\"277\" y2=\"75\"/>\n",
       "<line opacity=\"1\" stroke=\"#323232\" stroke-width=\"1\" x1=\"287\" y1=\"424\" x2=\"287\" y2=\"75\"/>\n",
       "<line opacity=\"1\" stroke=\"#323232\" stroke-width=\"1\" x1=\"298\" y1=\"424\" x2=\"298\" y2=\"75\"/>\n",
       "<line opacity=\"1\" stroke=\"#323232\" stroke-width=\"1\" x1=\"308\" y1=\"424\" x2=\"308\" y2=\"75\"/>\n",
       "<line opacity=\"1\" stroke=\"#323232\" stroke-width=\"1\" x1=\"319\" y1=\"424\" x2=\"319\" y2=\"75\"/>\n",
       "<line opacity=\"1\" stroke=\"#323232\" stroke-width=\"1\" x1=\"330\" y1=\"424\" x2=\"330\" y2=\"75\"/>\n",
       "<line opacity=\"1\" stroke=\"#323232\" stroke-width=\"1\" x1=\"340\" y1=\"424\" x2=\"340\" y2=\"75\"/>\n",
       "<line opacity=\"1\" stroke=\"#323232\" stroke-width=\"1\" x1=\"351\" y1=\"424\" x2=\"351\" y2=\"75\"/>\n",
       "<line opacity=\"1\" stroke=\"#323232\" stroke-width=\"1\" x1=\"361\" y1=\"424\" x2=\"361\" y2=\"75\"/>\n",
       "<line opacity=\"1\" stroke=\"#323232\" stroke-width=\"1\" x1=\"372\" y1=\"424\" x2=\"372\" y2=\"75\"/>\n",
       "<line opacity=\"1\" stroke=\"#323232\" stroke-width=\"1\" x1=\"382\" y1=\"424\" x2=\"382\" y2=\"75\"/>\n",
       "<line opacity=\"1\" stroke=\"#323232\" stroke-width=\"1\" x1=\"393\" y1=\"424\" x2=\"393\" y2=\"75\"/>\n",
       "<line opacity=\"1\" stroke=\"#323232\" stroke-width=\"1\" x1=\"404\" y1=\"424\" x2=\"404\" y2=\"75\"/>\n",
       "<line opacity=\"1\" stroke=\"#323232\" stroke-width=\"1\" x1=\"414\" y1=\"424\" x2=\"414\" y2=\"75\"/>\n",
       "<line opacity=\"1\" stroke=\"#323232\" stroke-width=\"1\" x1=\"425\" y1=\"424\" x2=\"425\" y2=\"75\"/>\n",
       "<line opacity=\"1\" stroke=\"#323232\" stroke-width=\"1\" x1=\"435\" y1=\"424\" x2=\"435\" y2=\"75\"/>\n",
       "<line opacity=\"1\" stroke=\"#323232\" stroke-width=\"1\" x1=\"446\" y1=\"424\" x2=\"446\" y2=\"75\"/>\n",
       "<line opacity=\"1\" stroke=\"#323232\" stroke-width=\"1\" x1=\"457\" y1=\"424\" x2=\"457\" y2=\"75\"/>\n",
       "<line opacity=\"1\" stroke=\"#323232\" stroke-width=\"1\" x1=\"467\" y1=\"424\" x2=\"467\" y2=\"75\"/>\n",
       "<line opacity=\"1\" stroke=\"#323232\" stroke-width=\"1\" x1=\"478\" y1=\"424\" x2=\"478\" y2=\"75\"/>\n",
       "<line opacity=\"1\" stroke=\"#323232\" stroke-width=\"1\" x1=\"488\" y1=\"424\" x2=\"488\" y2=\"75\"/>\n",
       "<line opacity=\"1\" stroke=\"#323232\" stroke-width=\"1\" x1=\"499\" y1=\"424\" x2=\"499\" y2=\"75\"/>\n",
       "<line opacity=\"1\" stroke=\"#323232\" stroke-width=\"1\" x1=\"509\" y1=\"424\" x2=\"509\" y2=\"75\"/>\n",
       "<line opacity=\"1\" stroke=\"#323232\" stroke-width=\"1\" x1=\"520\" y1=\"424\" x2=\"520\" y2=\"75\"/>\n",
       "<line opacity=\"1\" stroke=\"#323232\" stroke-width=\"1\" x1=\"531\" y1=\"424\" x2=\"531\" y2=\"75\"/>\n",
       "<line opacity=\"1\" stroke=\"#323232\" stroke-width=\"1\" x1=\"541\" y1=\"424\" x2=\"541\" y2=\"75\"/>\n",
       "<line opacity=\"1\" stroke=\"#323232\" stroke-width=\"1\" x1=\"552\" y1=\"424\" x2=\"552\" y2=\"75\"/>\n",
       "<line opacity=\"1\" stroke=\"#323232\" stroke-width=\"1\" x1=\"562\" y1=\"424\" x2=\"562\" y2=\"75\"/>\n",
       "<line opacity=\"1\" stroke=\"#323232\" stroke-width=\"1\" x1=\"573\" y1=\"424\" x2=\"573\" y2=\"75\"/>\n",
       "<line opacity=\"1\" stroke=\"#323232\" stroke-width=\"1\" x1=\"584\" y1=\"424\" x2=\"584\" y2=\"75\"/>\n",
       "<line opacity=\"1\" stroke=\"#323232\" stroke-width=\"1\" x1=\"55\" y1=\"424\" x2=\"584\" y2=\"424\"/>\n",
       "<line opacity=\"1\" stroke=\"#323232\" stroke-width=\"1\" x1=\"55\" y1=\"413\" x2=\"584\" y2=\"413\"/>\n",
       "<line opacity=\"1\" stroke=\"#323232\" stroke-width=\"1\" x1=\"55\" y1=\"402\" x2=\"584\" y2=\"402\"/>\n",
       "<line opacity=\"1\" stroke=\"#323232\" stroke-width=\"1\" x1=\"55\" y1=\"391\" x2=\"584\" y2=\"391\"/>\n",
       "<line opacity=\"1\" stroke=\"#323232\" stroke-width=\"1\" x1=\"55\" y1=\"379\" x2=\"584\" y2=\"379\"/>\n",
       "<line opacity=\"1\" stroke=\"#323232\" stroke-width=\"1\" x1=\"55\" y1=\"368\" x2=\"584\" y2=\"368\"/>\n",
       "<line opacity=\"1\" stroke=\"#323232\" stroke-width=\"1\" x1=\"55\" y1=\"357\" x2=\"584\" y2=\"357\"/>\n",
       "<line opacity=\"1\" stroke=\"#323232\" stroke-width=\"1\" x1=\"55\" y1=\"345\" x2=\"584\" y2=\"345\"/>\n",
       "<line opacity=\"1\" stroke=\"#323232\" stroke-width=\"1\" x1=\"55\" y1=\"334\" x2=\"584\" y2=\"334\"/>\n",
       "<line opacity=\"1\" stroke=\"#323232\" stroke-width=\"1\" x1=\"55\" y1=\"323\" x2=\"584\" y2=\"323\"/>\n",
       "<line opacity=\"1\" stroke=\"#323232\" stroke-width=\"1\" x1=\"55\" y1=\"311\" x2=\"584\" y2=\"311\"/>\n",
       "<line opacity=\"1\" stroke=\"#323232\" stroke-width=\"1\" x1=\"55\" y1=\"300\" x2=\"584\" y2=\"300\"/>\n",
       "<line opacity=\"1\" stroke=\"#323232\" stroke-width=\"1\" x1=\"55\" y1=\"289\" x2=\"584\" y2=\"289\"/>\n",
       "<line opacity=\"1\" stroke=\"#323232\" stroke-width=\"1\" x1=\"55\" y1=\"277\" x2=\"584\" y2=\"277\"/>\n",
       "<line opacity=\"1\" stroke=\"#323232\" stroke-width=\"1\" x1=\"55\" y1=\"266\" x2=\"584\" y2=\"266\"/>\n",
       "<line opacity=\"1\" stroke=\"#323232\" stroke-width=\"1\" x1=\"55\" y1=\"255\" x2=\"584\" y2=\"255\"/>\n",
       "<line opacity=\"1\" stroke=\"#323232\" stroke-width=\"1\" x1=\"55\" y1=\"243\" x2=\"584\" y2=\"243\"/>\n",
       "<line opacity=\"1\" stroke=\"#323232\" stroke-width=\"1\" x1=\"55\" y1=\"232\" x2=\"584\" y2=\"232\"/>\n",
       "<line opacity=\"1\" stroke=\"#323232\" stroke-width=\"1\" x1=\"55\" y1=\"221\" x2=\"584\" y2=\"221\"/>\n",
       "<line opacity=\"1\" stroke=\"#323232\" stroke-width=\"1\" x1=\"55\" y1=\"209\" x2=\"584\" y2=\"209\"/>\n",
       "<line opacity=\"1\" stroke=\"#323232\" stroke-width=\"1\" x1=\"55\" y1=\"198\" x2=\"584\" y2=\"198\"/>\n",
       "<line opacity=\"1\" stroke=\"#323232\" stroke-width=\"1\" x1=\"55\" y1=\"187\" x2=\"584\" y2=\"187\"/>\n",
       "<line opacity=\"1\" stroke=\"#323232\" stroke-width=\"1\" x1=\"55\" y1=\"175\" x2=\"584\" y2=\"175\"/>\n",
       "<line opacity=\"1\" stroke=\"#323232\" stroke-width=\"1\" x1=\"55\" y1=\"164\" x2=\"584\" y2=\"164\"/>\n",
       "<line opacity=\"1\" stroke=\"#323232\" stroke-width=\"1\" x1=\"55\" y1=\"153\" x2=\"584\" y2=\"153\"/>\n",
       "<line opacity=\"1\" stroke=\"#323232\" stroke-width=\"1\" x1=\"55\" y1=\"141\" x2=\"584\" y2=\"141\"/>\n",
       "<line opacity=\"1\" stroke=\"#323232\" stroke-width=\"1\" x1=\"55\" y1=\"130\" x2=\"584\" y2=\"130\"/>\n",
       "<line opacity=\"1\" stroke=\"#323232\" stroke-width=\"1\" x1=\"55\" y1=\"119\" x2=\"584\" y2=\"119\"/>\n",
       "<line opacity=\"1\" stroke=\"#323232\" stroke-width=\"1\" x1=\"55\" y1=\"107\" x2=\"584\" y2=\"107\"/>\n",
       "<line opacity=\"1\" stroke=\"#323232\" stroke-width=\"1\" x1=\"55\" y1=\"96\" x2=\"584\" y2=\"96\"/>\n",
       "<line opacity=\"1\" stroke=\"#323232\" stroke-width=\"1\" x1=\"55\" y1=\"85\" x2=\"584\" y2=\"85\"/>\n",
       "<text x=\"320\" y=\"25\" dy=\"0.76em\" text-anchor=\"middle\" font-family=\"sans-serif\" font-size=\"9.67741935483871\" opacity=\"1\" fill=\"#FFFFFF\">\n",
       "time (s)\n",
       "</text>\n",
       "<text x=\"5\" y=\"250\" dy=\"0.76em\" text-anchor=\"middle\" font-family=\"sans-serif\" font-size=\"9.67741935483871\" opacity=\"1\" fill=\"#FFFFFF\" transform=\"rotate(270, 5, 250)\">\n",
       "\n",
       "</text>\n",
       "<text x=\"320\" y=\"475\" dy=\"-0.5ex\" text-anchor=\"middle\" font-family=\"sans-serif\" font-size=\"9.67741935483871\" opacity=\"1\" fill=\"#FFFFFF\">\n",
       "time (s)\n",
       "</text>\n",
       "<text x=\"635\" y=\"250\" dy=\"0.76em\" text-anchor=\"middle\" font-family=\"sans-serif\" font-size=\"9.67741935483871\" opacity=\"1\" fill=\"#FFFFFF\" transform=\"rotate(90, 635, 250)\">\n",
       "\n",
       "</text>\n",
       "<line opacity=\"1\" stroke=\"#5A5A5A\" stroke-width=\"1\" x1=\"55\" y1=\"424\" x2=\"55\" y2=\"75\"/>\n",
       "<line opacity=\"1\" stroke=\"#5A5A5A\" stroke-width=\"1\" x1=\"107\" y1=\"424\" x2=\"107\" y2=\"75\"/>\n",
       "<line opacity=\"1\" stroke=\"#5A5A5A\" stroke-width=\"1\" x1=\"160\" y1=\"424\" x2=\"160\" y2=\"75\"/>\n",
       "<line opacity=\"1\" stroke=\"#5A5A5A\" stroke-width=\"1\" x1=\"213\" y1=\"424\" x2=\"213\" y2=\"75\"/>\n",
       "<line opacity=\"1\" stroke=\"#5A5A5A\" stroke-width=\"1\" x1=\"266\" y1=\"424\" x2=\"266\" y2=\"75\"/>\n",
       "<line opacity=\"1\" stroke=\"#5A5A5A\" stroke-width=\"1\" x1=\"319\" y1=\"424\" x2=\"319\" y2=\"75\"/>\n",
       "<line opacity=\"1\" stroke=\"#5A5A5A\" stroke-width=\"1\" x1=\"372\" y1=\"424\" x2=\"372\" y2=\"75\"/>\n",
       "<line opacity=\"1\" stroke=\"#5A5A5A\" stroke-width=\"1\" x1=\"425\" y1=\"424\" x2=\"425\" y2=\"75\"/>\n",
       "<line opacity=\"1\" stroke=\"#5A5A5A\" stroke-width=\"1\" x1=\"478\" y1=\"424\" x2=\"478\" y2=\"75\"/>\n",
       "<line opacity=\"1\" stroke=\"#5A5A5A\" stroke-width=\"1\" x1=\"531\" y1=\"424\" x2=\"531\" y2=\"75\"/>\n",
       "<line opacity=\"1\" stroke=\"#5A5A5A\" stroke-width=\"1\" x1=\"584\" y1=\"424\" x2=\"584\" y2=\"75\"/>\n",
       "<line opacity=\"1\" stroke=\"#5A5A5A\" stroke-width=\"1\" x1=\"55\" y1=\"424\" x2=\"584\" y2=\"424\"/>\n",
       "<line opacity=\"1\" stroke=\"#5A5A5A\" stroke-width=\"1\" x1=\"55\" y1=\"368\" x2=\"584\" y2=\"368\"/>\n",
       "<line opacity=\"1\" stroke=\"#5A5A5A\" stroke-width=\"1\" x1=\"55\" y1=\"311\" x2=\"584\" y2=\"311\"/>\n",
       "<line opacity=\"1\" stroke=\"#5A5A5A\" stroke-width=\"1\" x1=\"55\" y1=\"255\" x2=\"584\" y2=\"255\"/>\n",
       "<line opacity=\"1\" stroke=\"#5A5A5A\" stroke-width=\"1\" x1=\"55\" y1=\"198\" x2=\"584\" y2=\"198\"/>\n",
       "<line opacity=\"1\" stroke=\"#5A5A5A\" stroke-width=\"1\" x1=\"55\" y1=\"141\" x2=\"584\" y2=\"141\"/>\n",
       "<line opacity=\"1\" stroke=\"#5A5A5A\" stroke-width=\"1\" x1=\"55\" y1=\"85\" x2=\"584\" y2=\"85\"/>\n",
       "<polyline fill=\"none\" opacity=\"1\" stroke=\"#FFFFFF\" stroke-width=\"1\" points=\"55,74 584,74 \"/>\n",
       "<text x=\"55\" y=\"65\" dy=\"-0.5ex\" text-anchor=\"middle\" font-family=\"sans-serif\" font-size=\"9.67741935483871\" opacity=\"1\" fill=\"#FFFFFF\">\n",
       "-5.0\n",
       "</text>\n",
       "<polyline fill=\"none\" opacity=\"1\" stroke=\"#FFFFFF\" stroke-width=\"1\" points=\"55,69 55,74 \"/>\n",
       "<text x=\"107\" y=\"65\" dy=\"-0.5ex\" text-anchor=\"middle\" font-family=\"sans-serif\" font-size=\"9.67741935483871\" opacity=\"1\" fill=\"#FFFFFF\">\n",
       "0.0\n",
       "</text>\n",
       "<polyline fill=\"none\" opacity=\"1\" stroke=\"#FFFFFF\" stroke-width=\"1\" points=\"107,69 107,74 \"/>\n",
       "<text x=\"160\" y=\"65\" dy=\"-0.5ex\" text-anchor=\"middle\" font-family=\"sans-serif\" font-size=\"9.67741935483871\" opacity=\"1\" fill=\"#FFFFFF\">\n",
       "5.0\n",
       "</text>\n",
       "<polyline fill=\"none\" opacity=\"1\" stroke=\"#FFFFFF\" stroke-width=\"1\" points=\"160,69 160,74 \"/>\n",
       "<text x=\"213\" y=\"65\" dy=\"-0.5ex\" text-anchor=\"middle\" font-family=\"sans-serif\" font-size=\"9.67741935483871\" opacity=\"1\" fill=\"#FFFFFF\">\n",
       "10.0\n",
       "</text>\n",
       "<polyline fill=\"none\" opacity=\"1\" stroke=\"#FFFFFF\" stroke-width=\"1\" points=\"213,69 213,74 \"/>\n",
       "<text x=\"266\" y=\"65\" dy=\"-0.5ex\" text-anchor=\"middle\" font-family=\"sans-serif\" font-size=\"9.67741935483871\" opacity=\"1\" fill=\"#FFFFFF\">\n",
       "15.0\n",
       "</text>\n",
       "<polyline fill=\"none\" opacity=\"1\" stroke=\"#FFFFFF\" stroke-width=\"1\" points=\"266,69 266,74 \"/>\n",
       "<text x=\"319\" y=\"65\" dy=\"-0.5ex\" text-anchor=\"middle\" font-family=\"sans-serif\" font-size=\"9.67741935483871\" opacity=\"1\" fill=\"#FFFFFF\">\n",
       "20.0\n",
       "</text>\n",
       "<polyline fill=\"none\" opacity=\"1\" stroke=\"#FFFFFF\" stroke-width=\"1\" points=\"319,69 319,74 \"/>\n",
       "<text x=\"372\" y=\"65\" dy=\"-0.5ex\" text-anchor=\"middle\" font-family=\"sans-serif\" font-size=\"9.67741935483871\" opacity=\"1\" fill=\"#FFFFFF\">\n",
       "25.0\n",
       "</text>\n",
       "<polyline fill=\"none\" opacity=\"1\" stroke=\"#FFFFFF\" stroke-width=\"1\" points=\"372,69 372,74 \"/>\n",
       "<text x=\"425\" y=\"65\" dy=\"-0.5ex\" text-anchor=\"middle\" font-family=\"sans-serif\" font-size=\"9.67741935483871\" opacity=\"1\" fill=\"#FFFFFF\">\n",
       "30.0\n",
       "</text>\n",
       "<polyline fill=\"none\" opacity=\"1\" stroke=\"#FFFFFF\" stroke-width=\"1\" points=\"425,69 425,74 \"/>\n",
       "<text x=\"478\" y=\"65\" dy=\"-0.5ex\" text-anchor=\"middle\" font-family=\"sans-serif\" font-size=\"9.67741935483871\" opacity=\"1\" fill=\"#FFFFFF\">\n",
       "35.0\n",
       "</text>\n",
       "<polyline fill=\"none\" opacity=\"1\" stroke=\"#FFFFFF\" stroke-width=\"1\" points=\"478,69 478,74 \"/>\n",
       "<text x=\"531\" y=\"65\" dy=\"-0.5ex\" text-anchor=\"middle\" font-family=\"sans-serif\" font-size=\"9.67741935483871\" opacity=\"1\" fill=\"#FFFFFF\">\n",
       "40.0\n",
       "</text>\n",
       "<polyline fill=\"none\" opacity=\"1\" stroke=\"#FFFFFF\" stroke-width=\"1\" points=\"531,69 531,74 \"/>\n",
       "<text x=\"584\" y=\"65\" dy=\"-0.5ex\" text-anchor=\"middle\" font-family=\"sans-serif\" font-size=\"9.67741935483871\" opacity=\"1\" fill=\"#FFFFFF\">\n",
       "45.0\n",
       "</text>\n",
       "<polyline fill=\"none\" opacity=\"1\" stroke=\"#FFFFFF\" stroke-width=\"1\" points=\"584,69 584,74 \"/>\n",
       "<polyline fill=\"none\" opacity=\"1\" stroke=\"#FFFFFF\" stroke-width=\"1\" points=\"54,75 54,424 \"/>\n",
       "<text x=\"45\" y=\"424\" dy=\"0.5ex\" text-anchor=\"end\" font-family=\"sans-serif\" font-size=\"9.67741935483871\" opacity=\"1\" fill=\"#FFFFFF\">\n",
       "0.0\n",
       "</text>\n",
       "<polyline fill=\"none\" opacity=\"1\" stroke=\"#FFFFFF\" stroke-width=\"1\" points=\"49,424 54,424 \"/>\n",
       "<text x=\"45\" y=\"368\" dy=\"0.5ex\" text-anchor=\"end\" font-family=\"sans-serif\" font-size=\"9.67741935483871\" opacity=\"1\" fill=\"#FFFFFF\">\n",
       "50.0\n",
       "</text>\n",
       "<polyline fill=\"none\" opacity=\"1\" stroke=\"#FFFFFF\" stroke-width=\"1\" points=\"49,368 54,368 \"/>\n",
       "<text x=\"45\" y=\"311\" dy=\"0.5ex\" text-anchor=\"end\" font-family=\"sans-serif\" font-size=\"9.67741935483871\" opacity=\"1\" fill=\"#FFFFFF\">\n",
       "100.0\n",
       "</text>\n",
       "<polyline fill=\"none\" opacity=\"1\" stroke=\"#FFFFFF\" stroke-width=\"1\" points=\"49,311 54,311 \"/>\n",
       "<text x=\"45\" y=\"255\" dy=\"0.5ex\" text-anchor=\"end\" font-family=\"sans-serif\" font-size=\"9.67741935483871\" opacity=\"1\" fill=\"#FFFFFF\">\n",
       "150.0\n",
       "</text>\n",
       "<polyline fill=\"none\" opacity=\"1\" stroke=\"#FFFFFF\" stroke-width=\"1\" points=\"49,255 54,255 \"/>\n",
       "<text x=\"45\" y=\"198\" dy=\"0.5ex\" text-anchor=\"end\" font-family=\"sans-serif\" font-size=\"9.67741935483871\" opacity=\"1\" fill=\"#FFFFFF\">\n",
       "200.0\n",
       "</text>\n",
       "<polyline fill=\"none\" opacity=\"1\" stroke=\"#FFFFFF\" stroke-width=\"1\" points=\"49,198 54,198 \"/>\n",
       "<text x=\"45\" y=\"141\" dy=\"0.5ex\" text-anchor=\"end\" font-family=\"sans-serif\" font-size=\"9.67741935483871\" opacity=\"1\" fill=\"#FFFFFF\">\n",
       "250.0\n",
       "</text>\n",
       "<polyline fill=\"none\" opacity=\"1\" stroke=\"#FFFFFF\" stroke-width=\"1\" points=\"49,141 54,141 \"/>\n",
       "<text x=\"45\" y=\"85\" dy=\"0.5ex\" text-anchor=\"end\" font-family=\"sans-serif\" font-size=\"9.67741935483871\" opacity=\"1\" fill=\"#FFFFFF\">\n",
       "300.0\n",
       "</text>\n",
       "<polyline fill=\"none\" opacity=\"1\" stroke=\"#FFFFFF\" stroke-width=\"1\" points=\"49,85 54,85 \"/>\n",
       "<polyline fill=\"none\" opacity=\"1\" stroke=\"#FFFFFF\" stroke-width=\"1\" points=\"55,425 584,425 \"/>\n",
       "<text x=\"55\" y=\"435\" dy=\"0.76em\" text-anchor=\"middle\" font-family=\"sans-serif\" font-size=\"9.67741935483871\" opacity=\"1\" fill=\"#FFFFFF\">\n",
       "-5.0\n",
       "</text>\n",
       "<polyline fill=\"none\" opacity=\"1\" stroke=\"#FFFFFF\" stroke-width=\"1\" points=\"55,425 55,430 \"/>\n",
       "<text x=\"107\" y=\"435\" dy=\"0.76em\" text-anchor=\"middle\" font-family=\"sans-serif\" font-size=\"9.67741935483871\" opacity=\"1\" fill=\"#FFFFFF\">\n",
       "0.0\n",
       "</text>\n",
       "<polyline fill=\"none\" opacity=\"1\" stroke=\"#FFFFFF\" stroke-width=\"1\" points=\"107,425 107,430 \"/>\n",
       "<text x=\"160\" y=\"435\" dy=\"0.76em\" text-anchor=\"middle\" font-family=\"sans-serif\" font-size=\"9.67741935483871\" opacity=\"1\" fill=\"#FFFFFF\">\n",
       "5.0\n",
       "</text>\n",
       "<polyline fill=\"none\" opacity=\"1\" stroke=\"#FFFFFF\" stroke-width=\"1\" points=\"160,425 160,430 \"/>\n",
       "<text x=\"213\" y=\"435\" dy=\"0.76em\" text-anchor=\"middle\" font-family=\"sans-serif\" font-size=\"9.67741935483871\" opacity=\"1\" fill=\"#FFFFFF\">\n",
       "10.0\n",
       "</text>\n",
       "<polyline fill=\"none\" opacity=\"1\" stroke=\"#FFFFFF\" stroke-width=\"1\" points=\"213,425 213,430 \"/>\n",
       "<text x=\"266\" y=\"435\" dy=\"0.76em\" text-anchor=\"middle\" font-family=\"sans-serif\" font-size=\"9.67741935483871\" opacity=\"1\" fill=\"#FFFFFF\">\n",
       "15.0\n",
       "</text>\n",
       "<polyline fill=\"none\" opacity=\"1\" stroke=\"#FFFFFF\" stroke-width=\"1\" points=\"266,425 266,430 \"/>\n",
       "<text x=\"319\" y=\"435\" dy=\"0.76em\" text-anchor=\"middle\" font-family=\"sans-serif\" font-size=\"9.67741935483871\" opacity=\"1\" fill=\"#FFFFFF\">\n",
       "20.0\n",
       "</text>\n",
       "<polyline fill=\"none\" opacity=\"1\" stroke=\"#FFFFFF\" stroke-width=\"1\" points=\"319,425 319,430 \"/>\n",
       "<text x=\"372\" y=\"435\" dy=\"0.76em\" text-anchor=\"middle\" font-family=\"sans-serif\" font-size=\"9.67741935483871\" opacity=\"1\" fill=\"#FFFFFF\">\n",
       "25.0\n",
       "</text>\n",
       "<polyline fill=\"none\" opacity=\"1\" stroke=\"#FFFFFF\" stroke-width=\"1\" points=\"372,425 372,430 \"/>\n",
       "<text x=\"425\" y=\"435\" dy=\"0.76em\" text-anchor=\"middle\" font-family=\"sans-serif\" font-size=\"9.67741935483871\" opacity=\"1\" fill=\"#FFFFFF\">\n",
       "30.0\n",
       "</text>\n",
       "<polyline fill=\"none\" opacity=\"1\" stroke=\"#FFFFFF\" stroke-width=\"1\" points=\"425,425 425,430 \"/>\n",
       "<text x=\"478\" y=\"435\" dy=\"0.76em\" text-anchor=\"middle\" font-family=\"sans-serif\" font-size=\"9.67741935483871\" opacity=\"1\" fill=\"#FFFFFF\">\n",
       "35.0\n",
       "</text>\n",
       "<polyline fill=\"none\" opacity=\"1\" stroke=\"#FFFFFF\" stroke-width=\"1\" points=\"478,425 478,430 \"/>\n",
       "<text x=\"531\" y=\"435\" dy=\"0.76em\" text-anchor=\"middle\" font-family=\"sans-serif\" font-size=\"9.67741935483871\" opacity=\"1\" fill=\"#FFFFFF\">\n",
       "40.0\n",
       "</text>\n",
       "<polyline fill=\"none\" opacity=\"1\" stroke=\"#FFFFFF\" stroke-width=\"1\" points=\"531,425 531,430 \"/>\n",
       "<text x=\"584\" y=\"435\" dy=\"0.76em\" text-anchor=\"middle\" font-family=\"sans-serif\" font-size=\"9.67741935483871\" opacity=\"1\" fill=\"#FFFFFF\">\n",
       "45.0\n",
       "</text>\n",
       "<polyline fill=\"none\" opacity=\"1\" stroke=\"#FFFFFF\" stroke-width=\"1\" points=\"584,425 584,430 \"/>\n",
       "<polyline fill=\"none\" opacity=\"1\" stroke=\"#FFFFFF\" stroke-width=\"1\" points=\"585,75 585,424 \"/>\n",
       "<text x=\"622\" y=\"424\" dy=\"0.5ex\" text-anchor=\"end\" font-family=\"sans-serif\" font-size=\"9.67741935483871\" opacity=\"1\" fill=\"#FFFFFF\">\n",
       "0.0\n",
       "</text>\n",
       "<polyline fill=\"none\" opacity=\"1\" stroke=\"#FFFFFF\" stroke-width=\"1\" points=\"585,424 590,424 \"/>\n",
       "<text x=\"622\" y=\"368\" dy=\"0.5ex\" text-anchor=\"end\" font-family=\"sans-serif\" font-size=\"9.67741935483871\" opacity=\"1\" fill=\"#FFFFFF\">\n",
       "50.0\n",
       "</text>\n",
       "<polyline fill=\"none\" opacity=\"1\" stroke=\"#FFFFFF\" stroke-width=\"1\" points=\"585,368 590,368 \"/>\n",
       "<text x=\"595\" y=\"311\" dy=\"0.5ex\" text-anchor=\"start\" font-family=\"sans-serif\" font-size=\"9.67741935483871\" opacity=\"1\" fill=\"#FFFFFF\">\n",
       "100.0\n",
       "</text>\n",
       "<polyline fill=\"none\" opacity=\"1\" stroke=\"#FFFFFF\" stroke-width=\"1\" points=\"585,311 590,311 \"/>\n",
       "<text x=\"595\" y=\"255\" dy=\"0.5ex\" text-anchor=\"start\" font-family=\"sans-serif\" font-size=\"9.67741935483871\" opacity=\"1\" fill=\"#FFFFFF\">\n",
       "150.0\n",
       "</text>\n",
       "<polyline fill=\"none\" opacity=\"1\" stroke=\"#FFFFFF\" stroke-width=\"1\" points=\"585,255 590,255 \"/>\n",
       "<text x=\"595\" y=\"198\" dy=\"0.5ex\" text-anchor=\"start\" font-family=\"sans-serif\" font-size=\"9.67741935483871\" opacity=\"1\" fill=\"#FFFFFF\">\n",
       "200.0\n",
       "</text>\n",
       "<polyline fill=\"none\" opacity=\"1\" stroke=\"#FFFFFF\" stroke-width=\"1\" points=\"585,198 590,198 \"/>\n",
       "<text x=\"595\" y=\"141\" dy=\"0.5ex\" text-anchor=\"start\" font-family=\"sans-serif\" font-size=\"9.67741935483871\" opacity=\"1\" fill=\"#FFFFFF\">\n",
       "250.0\n",
       "</text>\n",
       "<polyline fill=\"none\" opacity=\"1\" stroke=\"#FFFFFF\" stroke-width=\"1\" points=\"585,141 590,141 \"/>\n",
       "<text x=\"595\" y=\"85\" dy=\"0.5ex\" text-anchor=\"start\" font-family=\"sans-serif\" font-size=\"9.67741935483871\" opacity=\"1\" fill=\"#FFFFFF\">\n",
       "300.0\n",
       "</text>\n",
       "<polyline fill=\"none\" opacity=\"1\" stroke=\"#FFFFFF\" stroke-width=\"1\" points=\"585,85 590,85 \"/>\n",
       "<polyline fill=\"none\" opacity=\"1\" stroke=\"#FF0000\" stroke-width=\"1\" points=\"55,424 65,424 76,424 86,424 97,424 107,424 118,424 129,423 139,422 150,420 160,417 171,414 181,410 192,406 203,401 213,396 224,390 234,385 245,379 256,373 266,368 277,362 287,356 298,351 308,345 319,339 330,333 340,327 351,320 361,312 372,304 382,295 393,286 404,276 414,265 425,254 435,243 446,231 457,219 467,208 478,196 488,185 499,174 509,162 520,151 531,140 541,128 552,116 562,103 573,89 584,75 \"/>\n",
       "<rect x=\"421\" y=\"235\" width=\"159\" height=\"30\" opacity=\"1\" fill=\"none\" stroke=\"#FFFFFF\"/>\n",
       "<text x=\"461\" y=\"245\" dy=\"0.76em\" text-anchor=\"start\" font-family=\"sans-serif\" font-size=\"9.67741935483871\" opacity=\"1\" fill=\"#FFFFFF\">\n",
       "position of bike (m)\n",
       "</text>\n",
       "<polyline fill=\"none\" opacity=\"1\" stroke=\"#FF0000\" stroke-width=\"1\" points=\"431,250 451,250 \"/>\n",
       "</svg>\n"
      ]
     },
     "metadata": {},
     "output_type": "display_data"
    },
    {
     "name": "stdout",
     "output_type": "stream",
     "text": [
      "type Mut0 = {mutable l0 : int32}\n",
      "and UH0 =\n",
      "    | UH0_0 of float * UH0\n",
      "    | UH0_1\n",
      "let rec method1 (v0 : Mut0) : bool =\n",
      "    let v1 : int32 = v0.l0\n",
      "    let v2 : bool = v1 < 51\n",
      "    v2\n",
      "and method2 (v0 : int32, v1 : Mut0) : bool =\n",
      "    let v2 : int32 = v1.l0\n",
      "    let v3 : bool = v2 < v0\n",
      "    v3\n",
      "and method3 (v0 : float, v1 : float) : UH0 =\n",
      "    let v2 : bool = v1 < v0\n",
      "    if v2 then\n",
      "        let v3 : float = 0.1 * v1\n",
      "        let v4 : float = 0.05 + v3\n",
      "        let v5 : float = v1 + 1.0\n",
      "        let v6 : UH0 = method3(v0, v5)\n",
      "        UH0_0(v4, v6)\n",
      "    else\n",
      "        UH0_1\n",
      "and method5 (v0 : UH0, v1 : UH0) : UH0 =\n",
      "    match v0 with\n",
      "    | UH0_0(v2, v3) -> (* Cons *)\n",
      "        let v4 : UH0 = method5(v3, v1)\n",
      "        let v5 : float = v2 / 20.0\n",
      "        let v6 : int32 = int32 v5\n",
      "        let v7 : float = float v6\n",
      "        let v8 : float = v7 * 20.0\n",
      "        let v9 : float = v2 - v8\n",
      "        let v10 : bool = v9 > 0.0\n",
      "        let v12 : bool =\n",
      "            if v10 then\n",
      "                let v11 : bool = v9 < 10.0\n",
      "                v11\n",
      "            else\n",
      "                false\n",
      "        let v13 : float =\n",
      "            if v12 then\n",
      "                10.0\n",
      "            else\n",
      "                0.0\n",
      "        let v14 : float = v13 / 20.0\n",
      "        let v15 : float = 0.1 * v14\n",
      "        UH0_0(v15, v4)\n",
      "    | UH0_1 -> (* Nil *)\n",
      "        v1\n",
      "and method6 (v0 : UH0, v1 : float) : float =\n",
      "    match v0 with\n",
      "    | UH0_0(v2, v3) -> (* Cons *)\n",
      "        let v4 : float = v1 + v2\n",
      "        method6(v3, v4)\n",
      "    | UH0_1 -> (* Nil *)\n",
      "        v1\n",
      "and method4 (v0 : UH0, v1 : UH0) : UH0 =\n",
      "    match v0 with\n",
      "    | UH0_0(v2, v3) -> (* Cons *)\n",
      "        let v4 : UH0 = method4(v3, v1)\n",
      "        let v5 : float = v2 - 0.05\n",
      "        let v6 : float = v5 - 0.05\n",
      "        let v7 : float = v6 / 0.1\n",
      "        let v8 : float = v7 + 1.0\n",
      "        let v9 : float = 0.0\n",
      "        let v10 : UH0 = method3(v8, v9)\n",
      "        let v11 : UH0 = UH0_1\n",
      "        let v12 : UH0 = method5(v10, v11)\n",
      "        let v13 : float = 0.0\n",
      "        let v14 : float = method6(v12, v13)\n",
      "        let v15 : float = 0.1 * v14\n",
      "        UH0_0(v15, v4)\n",
      "    | UH0_1 -> (* Nil *)\n",
      "        v1\n",
      "and method0 () : struct (string * string * (float []) * string * (struct (string * (float [])) [])) =\n",
      "    let v0 : (float []) = Array.zeroCreate<float> (51)\n",
      "    let v1 : Mut0 = {l0 = 0} : Mut0\n",
      "    while method1(v1) do\n",
      "        let v3 : int32 = v1.l0\n",
      "        let v4 : float = float v3\n",
      "        let v5 : float = -5.0 + v4\n",
      "        v0.[int v3] <- v5\n",
      "        let v6 : int32 = v3 + 1\n",
      "        v1.l0 <- v6\n",
      "        ()\n",
      "    let v7 : int32 = v0.Length\n",
      "    let v8 : (float []) = Array.zeroCreate<float> (v7)\n",
      "    let v9 : Mut0 = {l0 = 0} : Mut0\n",
      "    while method2(v7, v9) do\n",
      "        let v11 : int32 = v9.l0\n",
      "        let v12 : float = v0.[int v11]\n",
      "        let v13 : float = v12 - 0.05\n",
      "        let v14 : float = v13 - 0.05\n",
      "        let v15 : float = v14 / 0.1\n",
      "        let v16 : float = v15 + 1.0\n",
      "        let v17 : float = 0.0\n",
      "        let v18 : UH0 = method3(v16, v17)\n",
      "        let v19 : UH0 = UH0_1\n",
      "        let v20 : UH0 = method4(v18, v19)\n",
      "        let v21 : float = 0.0\n",
      "        let v22 : float = method6(v20, v21)\n",
      "        v8.[int v11] <- v22\n",
      "        let v23 : int32 = v11 + 1\n",
      "        v9.l0 <- v23\n",
      "        ()\n",
      "    let v24 : string = \"position of bike (m)\"\n",
      "    let v25 : (struct (string * (float [])) []) = [|struct (v24, v8)|]\n",
      "    let v26 : string = \"child pedaling then coasting\"\n",
      "    let v27 : string = \"time (s)\"\n",
      "    let v28 : string = \"\"\n",
      "    struct (v26, v27, v0, v28, v25)\n",
      "method0()\n",
      "\r\n"
     ]
    }
   ],
   "source": [
    "// // test\n",
    "\n",
    "inl x = init_series -5 45 1\n",
    "inl y = x |> am.map (position_ft 0.1f64 20 0 0 [pedal_coast])\n",
    "\"child pedaling then coasting\", \"time (s)\", x, \"\", ;[\"position of bike (m)\", y]"
   ]
  },
  {
   "cell_type": "markdown",
   "metadata": {},
   "source": [
    "## velocity_fv"
   ]
  },
  {
   "cell_type": "code",
   "execution_count": null,
   "metadata": {
    "dotnet_interactive": {
     "language": "spiral"
    },
    "polyglot_notebook": {
     "kernelName": "spiral"
    }
   },
   "outputs": [
    {
     "name": "stdout",
     "output_type": "stream",
     "text": [
      "()\n",
      "\r\n"
     ]
    }
   ],
   "source": [
    "inl newton_second_v m fs v0 =\n",
    "    fs |> listm.map (fun f => f v0) |> list_sum |> fun x => x / m\n",
    "\n",
    "inl update_velocity dt m fs v0 =\n",
    "    v0 + newton_second_v m fs v0 * dt\n",
    "\n",
    "inl velocity_fv dt m v0 fs t =\n",
    "    t / dt |> round |> abs\n",
    "    |> iterate_ (update_velocity dt m fs) v0"
   ]
  },
  {
   "cell_type": "code",
   "execution_count": null,
   "metadata": {
    "dotnet_interactive": {
     "language": "spiral"
    },
    "polyglot_notebook": {
     "kernelName": "spiral"
    }
   },
   "outputs": [
    {
     "name": "stdout",
     "output_type": "stream",
     "text": [
      "()\n",
      "\r\n"
     ]
    }
   ],
   "source": [
    "inl f_air drag rho area v =\n",
    "    -drag * rho * area * abs v * v / 2"
   ]
  },
  {
   "cell_type": "code",
   "execution_count": null,
   "metadata": {
    "dotnet_interactive": {
     "language": "spiral"
    },
    "polyglot_notebook": {
     "kernelName": "spiral"
    }
   },
   "outputs": [
    {
     "data": {
      "text/html": [
       "<svg width=\"640\" height=\"480\" viewBox=\"0 0 640 480\" xmlns=\"http://www.w3.org/2000/svg\">\n",
       "<rect x=\"0\" y=\"0\" width=\"640\" height=\"480\" opacity=\"1\" fill=\"#141414\" stroke=\"none\"/>\n",
       "<text x=\"320\" y=\"10\" dy=\"0.76em\" text-anchor=\"middle\" font-family=\"sans-serif\" font-size=\"9.67741935483871\" opacity=\"1\" fill=\"#FFFFFF\">\n",
       "bike velocity\n",
       "</text>\n",
       "<line opacity=\"1\" stroke=\"#323232\" stroke-width=\"1\" x1=\"55\" y1=\"424\" x2=\"55\" y2=\"75\"/>\n",
       "<line opacity=\"1\" stroke=\"#323232\" stroke-width=\"1\" x1=\"63\" y1=\"424\" x2=\"63\" y2=\"75\"/>\n",
       "<line opacity=\"1\" stroke=\"#323232\" stroke-width=\"1\" x1=\"72\" y1=\"424\" x2=\"72\" y2=\"75\"/>\n",
       "<line opacity=\"1\" stroke=\"#323232\" stroke-width=\"1\" x1=\"81\" y1=\"424\" x2=\"81\" y2=\"75\"/>\n",
       "<line opacity=\"1\" stroke=\"#323232\" stroke-width=\"1\" x1=\"90\" y1=\"424\" x2=\"90\" y2=\"75\"/>\n",
       "<line opacity=\"1\" stroke=\"#323232\" stroke-width=\"1\" x1=\"99\" y1=\"424\" x2=\"99\" y2=\"75\"/>\n",
       "<line opacity=\"1\" stroke=\"#323232\" stroke-width=\"1\" x1=\"107\" y1=\"424\" x2=\"107\" y2=\"75\"/>\n",
       "<line opacity=\"1\" stroke=\"#323232\" stroke-width=\"1\" x1=\"116\" y1=\"424\" x2=\"116\" y2=\"75\"/>\n",
       "<line opacity=\"1\" stroke=\"#323232\" stroke-width=\"1\" x1=\"125\" y1=\"424\" x2=\"125\" y2=\"75\"/>\n",
       "<line opacity=\"1\" stroke=\"#323232\" stroke-width=\"1\" x1=\"134\" y1=\"424\" x2=\"134\" y2=\"75\"/>\n",
       "<line opacity=\"1\" stroke=\"#323232\" stroke-width=\"1\" x1=\"143\" y1=\"424\" x2=\"143\" y2=\"75\"/>\n",
       "<line opacity=\"1\" stroke=\"#323232\" stroke-width=\"1\" x1=\"151\" y1=\"424\" x2=\"151\" y2=\"75\"/>\n",
       "<line opacity=\"1\" stroke=\"#323232\" stroke-width=\"1\" x1=\"160\" y1=\"424\" x2=\"160\" y2=\"75\"/>\n",
       "<line opacity=\"1\" stroke=\"#323232\" stroke-width=\"1\" x1=\"169\" y1=\"424\" x2=\"169\" y2=\"75\"/>\n",
       "<line opacity=\"1\" stroke=\"#323232\" stroke-width=\"1\" x1=\"178\" y1=\"424\" x2=\"178\" y2=\"75\"/>\n",
       "<line opacity=\"1\" stroke=\"#323232\" stroke-width=\"1\" x1=\"187\" y1=\"424\" x2=\"187\" y2=\"75\"/>\n",
       "<line opacity=\"1\" stroke=\"#323232\" stroke-width=\"1\" x1=\"196\" y1=\"424\" x2=\"196\" y2=\"75\"/>\n",
       "<line opacity=\"1\" stroke=\"#323232\" stroke-width=\"1\" x1=\"204\" y1=\"424\" x2=\"204\" y2=\"75\"/>\n",
       "<line opacity=\"1\" stroke=\"#323232\" stroke-width=\"1\" x1=\"213\" y1=\"424\" x2=\"213\" y2=\"75\"/>\n",
       "<line opacity=\"1\" stroke=\"#323232\" stroke-width=\"1\" x1=\"222\" y1=\"424\" x2=\"222\" y2=\"75\"/>\n",
       "<line opacity=\"1\" stroke=\"#323232\" stroke-width=\"1\" x1=\"231\" y1=\"424\" x2=\"231\" y2=\"75\"/>\n",
       "<line opacity=\"1\" stroke=\"#323232\" stroke-width=\"1\" x1=\"240\" y1=\"424\" x2=\"240\" y2=\"75\"/>\n",
       "<line opacity=\"1\" stroke=\"#323232\" stroke-width=\"1\" x1=\"248\" y1=\"424\" x2=\"248\" y2=\"75\"/>\n",
       "<line opacity=\"1\" stroke=\"#323232\" stroke-width=\"1\" x1=\"257\" y1=\"424\" x2=\"257\" y2=\"75\"/>\n",
       "<line opacity=\"1\" stroke=\"#323232\" stroke-width=\"1\" x1=\"266\" y1=\"424\" x2=\"266\" y2=\"75\"/>\n",
       "<line opacity=\"1\" stroke=\"#323232\" stroke-width=\"1\" x1=\"275\" y1=\"424\" x2=\"275\" y2=\"75\"/>\n",
       "<line opacity=\"1\" stroke=\"#323232\" stroke-width=\"1\" x1=\"284\" y1=\"424\" x2=\"284\" y2=\"75\"/>\n",
       "<line opacity=\"1\" stroke=\"#323232\" stroke-width=\"1\" x1=\"293\" y1=\"424\" x2=\"293\" y2=\"75\"/>\n",
       "<line opacity=\"1\" stroke=\"#323232\" stroke-width=\"1\" x1=\"301\" y1=\"424\" x2=\"301\" y2=\"75\"/>\n",
       "<line opacity=\"1\" stroke=\"#323232\" stroke-width=\"1\" x1=\"310\" y1=\"424\" x2=\"310\" y2=\"75\"/>\n",
       "<line opacity=\"1\" stroke=\"#323232\" stroke-width=\"1\" x1=\"319\" y1=\"424\" x2=\"319\" y2=\"75\"/>\n",
       "<line opacity=\"1\" stroke=\"#323232\" stroke-width=\"1\" x1=\"328\" y1=\"424\" x2=\"328\" y2=\"75\"/>\n",
       "<line opacity=\"1\" stroke=\"#323232\" stroke-width=\"1\" x1=\"337\" y1=\"424\" x2=\"337\" y2=\"75\"/>\n",
       "<line opacity=\"1\" stroke=\"#323232\" stroke-width=\"1\" x1=\"345\" y1=\"424\" x2=\"345\" y2=\"75\"/>\n",
       "<line opacity=\"1\" stroke=\"#323232\" stroke-width=\"1\" x1=\"354\" y1=\"424\" x2=\"354\" y2=\"75\"/>\n",
       "<line opacity=\"1\" stroke=\"#323232\" stroke-width=\"1\" x1=\"363\" y1=\"424\" x2=\"363\" y2=\"75\"/>\n",
       "<line opacity=\"1\" stroke=\"#323232\" stroke-width=\"1\" x1=\"372\" y1=\"424\" x2=\"372\" y2=\"75\"/>\n",
       "<line opacity=\"1\" stroke=\"#323232\" stroke-width=\"1\" x1=\"381\" y1=\"424\" x2=\"381\" y2=\"75\"/>\n",
       "<line opacity=\"1\" stroke=\"#323232\" stroke-width=\"1\" x1=\"390\" y1=\"424\" x2=\"390\" y2=\"75\"/>\n",
       "<line opacity=\"1\" stroke=\"#323232\" stroke-width=\"1\" x1=\"398\" y1=\"424\" x2=\"398\" y2=\"75\"/>\n",
       "<line opacity=\"1\" stroke=\"#323232\" stroke-width=\"1\" x1=\"407\" y1=\"424\" x2=\"407\" y2=\"75\"/>\n",
       "<line opacity=\"1\" stroke=\"#323232\" stroke-width=\"1\" x1=\"416\" y1=\"424\" x2=\"416\" y2=\"75\"/>\n",
       "<line opacity=\"1\" stroke=\"#323232\" stroke-width=\"1\" x1=\"425\" y1=\"424\" x2=\"425\" y2=\"75\"/>\n",
       "<line opacity=\"1\" stroke=\"#323232\" stroke-width=\"1\" x1=\"434\" y1=\"424\" x2=\"434\" y2=\"75\"/>\n",
       "<line opacity=\"1\" stroke=\"#323232\" stroke-width=\"1\" x1=\"442\" y1=\"424\" x2=\"442\" y2=\"75\"/>\n",
       "<line opacity=\"1\" stroke=\"#323232\" stroke-width=\"1\" x1=\"451\" y1=\"424\" x2=\"451\" y2=\"75\"/>\n",
       "<line opacity=\"1\" stroke=\"#323232\" stroke-width=\"1\" x1=\"460\" y1=\"424\" x2=\"460\" y2=\"75\"/>\n",
       "<line opacity=\"1\" stroke=\"#323232\" stroke-width=\"1\" x1=\"469\" y1=\"424\" x2=\"469\" y2=\"75\"/>\n",
       "<line opacity=\"1\" stroke=\"#323232\" stroke-width=\"1\" x1=\"478\" y1=\"424\" x2=\"478\" y2=\"75\"/>\n",
       "<line opacity=\"1\" stroke=\"#323232\" stroke-width=\"1\" x1=\"487\" y1=\"424\" x2=\"487\" y2=\"75\"/>\n",
       "<line opacity=\"1\" stroke=\"#323232\" stroke-width=\"1\" x1=\"495\" y1=\"424\" x2=\"495\" y2=\"75\"/>\n",
       "<line opacity=\"1\" stroke=\"#323232\" stroke-width=\"1\" x1=\"504\" y1=\"424\" x2=\"504\" y2=\"75\"/>\n",
       "<line opacity=\"1\" stroke=\"#323232\" stroke-width=\"1\" x1=\"513\" y1=\"424\" x2=\"513\" y2=\"75\"/>\n",
       "<line opacity=\"1\" stroke=\"#323232\" stroke-width=\"1\" x1=\"522\" y1=\"424\" x2=\"522\" y2=\"75\"/>\n",
       "<line opacity=\"1\" stroke=\"#323232\" stroke-width=\"1\" x1=\"531\" y1=\"424\" x2=\"531\" y2=\"75\"/>\n",
       "<line opacity=\"1\" stroke=\"#323232\" stroke-width=\"1\" x1=\"539\" y1=\"424\" x2=\"539\" y2=\"75\"/>\n",
       "<line opacity=\"1\" stroke=\"#323232\" stroke-width=\"1\" x1=\"548\" y1=\"424\" x2=\"548\" y2=\"75\"/>\n",
       "<line opacity=\"1\" stroke=\"#323232\" stroke-width=\"1\" x1=\"557\" y1=\"424\" x2=\"557\" y2=\"75\"/>\n",
       "<line opacity=\"1\" stroke=\"#323232\" stroke-width=\"1\" x1=\"566\" y1=\"424\" x2=\"566\" y2=\"75\"/>\n",
       "<line opacity=\"1\" stroke=\"#323232\" stroke-width=\"1\" x1=\"575\" y1=\"424\" x2=\"575\" y2=\"75\"/>\n",
       "<line opacity=\"1\" stroke=\"#323232\" stroke-width=\"1\" x1=\"584\" y1=\"424\" x2=\"584\" y2=\"75\"/>\n",
       "<line opacity=\"1\" stroke=\"#323232\" stroke-width=\"1\" x1=\"55\" y1=\"424\" x2=\"584\" y2=\"424\"/>\n",
       "<line opacity=\"1\" stroke=\"#323232\" stroke-width=\"1\" x1=\"55\" y1=\"410\" x2=\"584\" y2=\"410\"/>\n",
       "<line opacity=\"1\" stroke=\"#323232\" stroke-width=\"1\" x1=\"55\" y1=\"395\" x2=\"584\" y2=\"395\"/>\n",
       "<line opacity=\"1\" stroke=\"#323232\" stroke-width=\"1\" x1=\"55\" y1=\"380\" x2=\"584\" y2=\"380\"/>\n",
       "<line opacity=\"1\" stroke=\"#323232\" stroke-width=\"1\" x1=\"55\" y1=\"365\" x2=\"584\" y2=\"365\"/>\n",
       "<line opacity=\"1\" stroke=\"#323232\" stroke-width=\"1\" x1=\"55\" y1=\"350\" x2=\"584\" y2=\"350\"/>\n",
       "<line opacity=\"1\" stroke=\"#323232\" stroke-width=\"1\" x1=\"55\" y1=\"335\" x2=\"584\" y2=\"335\"/>\n",
       "<line opacity=\"1\" stroke=\"#323232\" stroke-width=\"1\" x1=\"55\" y1=\"320\" x2=\"584\" y2=\"320\"/>\n",
       "<line opacity=\"1\" stroke=\"#323232\" stroke-width=\"1\" x1=\"55\" y1=\"305\" x2=\"584\" y2=\"305\"/>\n",
       "<line opacity=\"1\" stroke=\"#323232\" stroke-width=\"1\" x1=\"55\" y1=\"290\" x2=\"584\" y2=\"290\"/>\n",
       "<line opacity=\"1\" stroke=\"#323232\" stroke-width=\"1\" x1=\"55\" y1=\"275\" x2=\"584\" y2=\"275\"/>\n",
       "<line opacity=\"1\" stroke=\"#323232\" stroke-width=\"1\" x1=\"55\" y1=\"260\" x2=\"584\" y2=\"260\"/>\n",
       "<line opacity=\"1\" stroke=\"#323232\" stroke-width=\"1\" x1=\"55\" y1=\"245\" x2=\"584\" y2=\"245\"/>\n",
       "<line opacity=\"1\" stroke=\"#323232\" stroke-width=\"1\" x1=\"55\" y1=\"230\" x2=\"584\" y2=\"230\"/>\n",
       "<line opacity=\"1\" stroke=\"#323232\" stroke-width=\"1\" x1=\"55\" y1=\"215\" x2=\"584\" y2=\"215\"/>\n",
       "<line opacity=\"1\" stroke=\"#323232\" stroke-width=\"1\" x1=\"55\" y1=\"200\" x2=\"584\" y2=\"200\"/>\n",
       "<line opacity=\"1\" stroke=\"#323232\" stroke-width=\"1\" x1=\"55\" y1=\"185\" x2=\"584\" y2=\"185\"/>\n",
       "<line opacity=\"1\" stroke=\"#323232\" stroke-width=\"1\" x1=\"55\" y1=\"170\" x2=\"584\" y2=\"170\"/>\n",
       "<line opacity=\"1\" stroke=\"#323232\" stroke-width=\"1\" x1=\"55\" y1=\"155\" x2=\"584\" y2=\"155\"/>\n",
       "<line opacity=\"1\" stroke=\"#323232\" stroke-width=\"1\" x1=\"55\" y1=\"140\" x2=\"584\" y2=\"140\"/>\n",
       "<line opacity=\"1\" stroke=\"#323232\" stroke-width=\"1\" x1=\"55\" y1=\"125\" x2=\"584\" y2=\"125\"/>\n",
       "<line opacity=\"1\" stroke=\"#323232\" stroke-width=\"1\" x1=\"55\" y1=\"110\" x2=\"584\" y2=\"110\"/>\n",
       "<line opacity=\"1\" stroke=\"#323232\" stroke-width=\"1\" x1=\"55\" y1=\"95\" x2=\"584\" y2=\"95\"/>\n",
       "<line opacity=\"1\" stroke=\"#323232\" stroke-width=\"1\" x1=\"55\" y1=\"80\" x2=\"584\" y2=\"80\"/>\n",
       "<text x=\"320\" y=\"25\" dy=\"0.76em\" text-anchor=\"middle\" font-family=\"sans-serif\" font-size=\"9.67741935483871\" opacity=\"1\" fill=\"#FFFFFF\">\n",
       "time (s)\n",
       "</text>\n",
       "<text x=\"5\" y=\"250\" dy=\"0.76em\" text-anchor=\"middle\" font-family=\"sans-serif\" font-size=\"9.67741935483871\" opacity=\"1\" fill=\"#FFFFFF\" transform=\"rotate(270, 5, 250)\">\n",
       "\n",
       "</text>\n",
       "<text x=\"320\" y=\"475\" dy=\"-0.5ex\" text-anchor=\"middle\" font-family=\"sans-serif\" font-size=\"9.67741935483871\" opacity=\"1\" fill=\"#FFFFFF\">\n",
       "time (s)\n",
       "</text>\n",
       "<text x=\"635\" y=\"250\" dy=\"0.76em\" text-anchor=\"middle\" font-family=\"sans-serif\" font-size=\"9.67741935483871\" opacity=\"1\" fill=\"#FFFFFF\" transform=\"rotate(90, 635, 250)\">\n",
       "\n",
       "</text>\n",
       "<line opacity=\"1\" stroke=\"#5A5A5A\" stroke-width=\"1\" x1=\"55\" y1=\"424\" x2=\"55\" y2=\"75\"/>\n",
       "<line opacity=\"1\" stroke=\"#5A5A5A\" stroke-width=\"1\" x1=\"99\" y1=\"424\" x2=\"99\" y2=\"75\"/>\n",
       "<line opacity=\"1\" stroke=\"#5A5A5A\" stroke-width=\"1\" x1=\"143\" y1=\"424\" x2=\"143\" y2=\"75\"/>\n",
       "<line opacity=\"1\" stroke=\"#5A5A5A\" stroke-width=\"1\" x1=\"187\" y1=\"424\" x2=\"187\" y2=\"75\"/>\n",
       "<line opacity=\"1\" stroke=\"#5A5A5A\" stroke-width=\"1\" x1=\"231\" y1=\"424\" x2=\"231\" y2=\"75\"/>\n",
       "<line opacity=\"1\" stroke=\"#5A5A5A\" stroke-width=\"1\" x1=\"275\" y1=\"424\" x2=\"275\" y2=\"75\"/>\n",
       "<line opacity=\"1\" stroke=\"#5A5A5A\" stroke-width=\"1\" x1=\"319\" y1=\"424\" x2=\"319\" y2=\"75\"/>\n",
       "<line opacity=\"1\" stroke=\"#5A5A5A\" stroke-width=\"1\" x1=\"363\" y1=\"424\" x2=\"363\" y2=\"75\"/>\n",
       "<line opacity=\"1\" stroke=\"#5A5A5A\" stroke-width=\"1\" x1=\"407\" y1=\"424\" x2=\"407\" y2=\"75\"/>\n",
       "<line opacity=\"1\" stroke=\"#5A5A5A\" stroke-width=\"1\" x1=\"451\" y1=\"424\" x2=\"451\" y2=\"75\"/>\n",
       "<line opacity=\"1\" stroke=\"#5A5A5A\" stroke-width=\"1\" x1=\"495\" y1=\"424\" x2=\"495\" y2=\"75\"/>\n",
       "<line opacity=\"1\" stroke=\"#5A5A5A\" stroke-width=\"1\" x1=\"539\" y1=\"424\" x2=\"539\" y2=\"75\"/>\n",
       "<line opacity=\"1\" stroke=\"#5A5A5A\" stroke-width=\"1\" x1=\"584\" y1=\"424\" x2=\"584\" y2=\"75\"/>\n",
       "<line opacity=\"1\" stroke=\"#5A5A5A\" stroke-width=\"1\" x1=\"55\" y1=\"424\" x2=\"584\" y2=\"424\"/>\n",
       "<line opacity=\"1\" stroke=\"#5A5A5A\" stroke-width=\"1\" x1=\"55\" y1=\"365\" x2=\"584\" y2=\"365\"/>\n",
       "<line opacity=\"1\" stroke=\"#5A5A5A\" stroke-width=\"1\" x1=\"55\" y1=\"305\" x2=\"584\" y2=\"305\"/>\n",
       "<line opacity=\"1\" stroke=\"#5A5A5A\" stroke-width=\"1\" x1=\"55\" y1=\"245\" x2=\"584\" y2=\"245\"/>\n",
       "<line opacity=\"1\" stroke=\"#5A5A5A\" stroke-width=\"1\" x1=\"55\" y1=\"185\" x2=\"584\" y2=\"185\"/>\n",
       "<line opacity=\"1\" stroke=\"#5A5A5A\" stroke-width=\"1\" x1=\"55\" y1=\"125\" x2=\"584\" y2=\"125\"/>\n",
       "<polyline fill=\"none\" opacity=\"1\" stroke=\"#FFFFFF\" stroke-width=\"1\" points=\"55,74 584,74 \"/>\n",
       "<text x=\"55\" y=\"65\" dy=\"-0.5ex\" text-anchor=\"middle\" font-family=\"sans-serif\" font-size=\"9.67741935483871\" opacity=\"1\" fill=\"#FFFFFF\">\n",
       "0.0\n",
       "</text>\n",
       "<polyline fill=\"none\" opacity=\"1\" stroke=\"#FFFFFF\" stroke-width=\"1\" points=\"55,69 55,74 \"/>\n",
       "<text x=\"99\" y=\"65\" dy=\"-0.5ex\" text-anchor=\"middle\" font-family=\"sans-serif\" font-size=\"9.67741935483871\" opacity=\"1\" fill=\"#FFFFFF\">\n",
       "5.0\n",
       "</text>\n",
       "<polyline fill=\"none\" opacity=\"1\" stroke=\"#FFFFFF\" stroke-width=\"1\" points=\"99,69 99,74 \"/>\n",
       "<text x=\"143\" y=\"65\" dy=\"-0.5ex\" text-anchor=\"middle\" font-family=\"sans-serif\" font-size=\"9.67741935483871\" opacity=\"1\" fill=\"#FFFFFF\">\n",
       "10.0\n",
       "</text>\n",
       "<polyline fill=\"none\" opacity=\"1\" stroke=\"#FFFFFF\" stroke-width=\"1\" points=\"143,69 143,74 \"/>\n",
       "<text x=\"187\" y=\"65\" dy=\"-0.5ex\" text-anchor=\"middle\" font-family=\"sans-serif\" font-size=\"9.67741935483871\" opacity=\"1\" fill=\"#FFFFFF\">\n",
       "15.0\n",
       "</text>\n",
       "<polyline fill=\"none\" opacity=\"1\" stroke=\"#FFFFFF\" stroke-width=\"1\" points=\"187,69 187,74 \"/>\n",
       "<text x=\"231\" y=\"65\" dy=\"-0.5ex\" text-anchor=\"middle\" font-family=\"sans-serif\" font-size=\"9.67741935483871\" opacity=\"1\" fill=\"#FFFFFF\">\n",
       "20.0\n",
       "</text>\n",
       "<polyline fill=\"none\" opacity=\"1\" stroke=\"#FFFFFF\" stroke-width=\"1\" points=\"231,69 231,74 \"/>\n",
       "<text x=\"275\" y=\"65\" dy=\"-0.5ex\" text-anchor=\"middle\" font-family=\"sans-serif\" font-size=\"9.67741935483871\" opacity=\"1\" fill=\"#FFFFFF\">\n",
       "25.0\n",
       "</text>\n",
       "<polyline fill=\"none\" opacity=\"1\" stroke=\"#FFFFFF\" stroke-width=\"1\" points=\"275,69 275,74 \"/>\n",
       "<text x=\"319\" y=\"65\" dy=\"-0.5ex\" text-anchor=\"middle\" font-family=\"sans-serif\" font-size=\"9.67741935483871\" opacity=\"1\" fill=\"#FFFFFF\">\n",
       "30.0\n",
       "</text>\n",
       "<polyline fill=\"none\" opacity=\"1\" stroke=\"#FFFFFF\" stroke-width=\"1\" points=\"319,69 319,74 \"/>\n",
       "<text x=\"363\" y=\"65\" dy=\"-0.5ex\" text-anchor=\"middle\" font-family=\"sans-serif\" font-size=\"9.67741935483871\" opacity=\"1\" fill=\"#FFFFFF\">\n",
       "35.0\n",
       "</text>\n",
       "<polyline fill=\"none\" opacity=\"1\" stroke=\"#FFFFFF\" stroke-width=\"1\" points=\"363,69 363,74 \"/>\n",
       "<text x=\"407\" y=\"65\" dy=\"-0.5ex\" text-anchor=\"middle\" font-family=\"sans-serif\" font-size=\"9.67741935483871\" opacity=\"1\" fill=\"#FFFFFF\">\n",
       "40.0\n",
       "</text>\n",
       "<polyline fill=\"none\" opacity=\"1\" stroke=\"#FFFFFF\" stroke-width=\"1\" points=\"407,69 407,74 \"/>\n",
       "<text x=\"451\" y=\"65\" dy=\"-0.5ex\" text-anchor=\"middle\" font-family=\"sans-serif\" font-size=\"9.67741935483871\" opacity=\"1\" fill=\"#FFFFFF\">\n",
       "45.0\n",
       "</text>\n",
       "<polyline fill=\"none\" opacity=\"1\" stroke=\"#FFFFFF\" stroke-width=\"1\" points=\"451,69 451,74 \"/>\n",
       "<text x=\"495\" y=\"65\" dy=\"-0.5ex\" text-anchor=\"middle\" font-family=\"sans-serif\" font-size=\"9.67741935483871\" opacity=\"1\" fill=\"#FFFFFF\">\n",
       "50.0\n",
       "</text>\n",
       "<polyline fill=\"none\" opacity=\"1\" stroke=\"#FFFFFF\" stroke-width=\"1\" points=\"495,69 495,74 \"/>\n",
       "<text x=\"539\" y=\"65\" dy=\"-0.5ex\" text-anchor=\"middle\" font-family=\"sans-serif\" font-size=\"9.67741935483871\" opacity=\"1\" fill=\"#FFFFFF\">\n",
       "55.0\n",
       "</text>\n",
       "<polyline fill=\"none\" opacity=\"1\" stroke=\"#FFFFFF\" stroke-width=\"1\" points=\"539,69 539,74 \"/>\n",
       "<text x=\"584\" y=\"65\" dy=\"-0.5ex\" text-anchor=\"middle\" font-family=\"sans-serif\" font-size=\"9.67741935483871\" opacity=\"1\" fill=\"#FFFFFF\">\n",
       "60.0\n",
       "</text>\n",
       "<polyline fill=\"none\" opacity=\"1\" stroke=\"#FFFFFF\" stroke-width=\"1\" points=\"584,69 584,74 \"/>\n",
       "<polyline fill=\"none\" opacity=\"1\" stroke=\"#FFFFFF\" stroke-width=\"1\" points=\"54,75 54,424 \"/>\n",
       "<text x=\"45\" y=\"424\" dy=\"0.5ex\" text-anchor=\"end\" font-family=\"sans-serif\" font-size=\"9.67741935483871\" opacity=\"1\" fill=\"#FFFFFF\">\n",
       "0.0\n",
       "</text>\n",
       "<polyline fill=\"none\" opacity=\"1\" stroke=\"#FFFFFF\" stroke-width=\"1\" points=\"49,424 54,424 \"/>\n",
       "<text x=\"45\" y=\"365\" dy=\"0.5ex\" text-anchor=\"end\" font-family=\"sans-serif\" font-size=\"9.67741935483871\" opacity=\"1\" fill=\"#FFFFFF\">\n",
       "2.0\n",
       "</text>\n",
       "<polyline fill=\"none\" opacity=\"1\" stroke=\"#FFFFFF\" stroke-width=\"1\" points=\"49,365 54,365 \"/>\n",
       "<text x=\"45\" y=\"305\" dy=\"0.5ex\" text-anchor=\"end\" font-family=\"sans-serif\" font-size=\"9.67741935483871\" opacity=\"1\" fill=\"#FFFFFF\">\n",
       "4.0\n",
       "</text>\n",
       "<polyline fill=\"none\" opacity=\"1\" stroke=\"#FFFFFF\" stroke-width=\"1\" points=\"49,305 54,305 \"/>\n",
       "<text x=\"45\" y=\"245\" dy=\"0.5ex\" text-anchor=\"end\" font-family=\"sans-serif\" font-size=\"9.67741935483871\" opacity=\"1\" fill=\"#FFFFFF\">\n",
       "6.0\n",
       "</text>\n",
       "<polyline fill=\"none\" opacity=\"1\" stroke=\"#FFFFFF\" stroke-width=\"1\" points=\"49,245 54,245 \"/>\n",
       "<text x=\"45\" y=\"185\" dy=\"0.5ex\" text-anchor=\"end\" font-family=\"sans-serif\" font-size=\"9.67741935483871\" opacity=\"1\" fill=\"#FFFFFF\">\n",
       "8.0\n",
       "</text>\n",
       "<polyline fill=\"none\" opacity=\"1\" stroke=\"#FFFFFF\" stroke-width=\"1\" points=\"49,185 54,185 \"/>\n",
       "<text x=\"45\" y=\"125\" dy=\"0.5ex\" text-anchor=\"end\" font-family=\"sans-serif\" font-size=\"9.67741935483871\" opacity=\"1\" fill=\"#FFFFFF\">\n",
       "10.0\n",
       "</text>\n",
       "<polyline fill=\"none\" opacity=\"1\" stroke=\"#FFFFFF\" stroke-width=\"1\" points=\"49,125 54,125 \"/>\n",
       "<polyline fill=\"none\" opacity=\"1\" stroke=\"#FFFFFF\" stroke-width=\"1\" points=\"55,425 584,425 \"/>\n",
       "<text x=\"55\" y=\"435\" dy=\"0.76em\" text-anchor=\"middle\" font-family=\"sans-serif\" font-size=\"9.67741935483871\" opacity=\"1\" fill=\"#FFFFFF\">\n",
       "0.0\n",
       "</text>\n",
       "<polyline fill=\"none\" opacity=\"1\" stroke=\"#FFFFFF\" stroke-width=\"1\" points=\"55,425 55,430 \"/>\n",
       "<text x=\"99\" y=\"435\" dy=\"0.76em\" text-anchor=\"middle\" font-family=\"sans-serif\" font-size=\"9.67741935483871\" opacity=\"1\" fill=\"#FFFFFF\">\n",
       "5.0\n",
       "</text>\n",
       "<polyline fill=\"none\" opacity=\"1\" stroke=\"#FFFFFF\" stroke-width=\"1\" points=\"99,425 99,430 \"/>\n",
       "<text x=\"143\" y=\"435\" dy=\"0.76em\" text-anchor=\"middle\" font-family=\"sans-serif\" font-size=\"9.67741935483871\" opacity=\"1\" fill=\"#FFFFFF\">\n",
       "10.0\n",
       "</text>\n",
       "<polyline fill=\"none\" opacity=\"1\" stroke=\"#FFFFFF\" stroke-width=\"1\" points=\"143,425 143,430 \"/>\n",
       "<text x=\"187\" y=\"435\" dy=\"0.76em\" text-anchor=\"middle\" font-family=\"sans-serif\" font-size=\"9.67741935483871\" opacity=\"1\" fill=\"#FFFFFF\">\n",
       "15.0\n",
       "</text>\n",
       "<polyline fill=\"none\" opacity=\"1\" stroke=\"#FFFFFF\" stroke-width=\"1\" points=\"187,425 187,430 \"/>\n",
       "<text x=\"231\" y=\"435\" dy=\"0.76em\" text-anchor=\"middle\" font-family=\"sans-serif\" font-size=\"9.67741935483871\" opacity=\"1\" fill=\"#FFFFFF\">\n",
       "20.0\n",
       "</text>\n",
       "<polyline fill=\"none\" opacity=\"1\" stroke=\"#FFFFFF\" stroke-width=\"1\" points=\"231,425 231,430 \"/>\n",
       "<text x=\"275\" y=\"435\" dy=\"0.76em\" text-anchor=\"middle\" font-family=\"sans-serif\" font-size=\"9.67741935483871\" opacity=\"1\" fill=\"#FFFFFF\">\n",
       "25.0\n",
       "</text>\n",
       "<polyline fill=\"none\" opacity=\"1\" stroke=\"#FFFFFF\" stroke-width=\"1\" points=\"275,425 275,430 \"/>\n",
       "<text x=\"319\" y=\"435\" dy=\"0.76em\" text-anchor=\"middle\" font-family=\"sans-serif\" font-size=\"9.67741935483871\" opacity=\"1\" fill=\"#FFFFFF\">\n",
       "30.0\n",
       "</text>\n",
       "<polyline fill=\"none\" opacity=\"1\" stroke=\"#FFFFFF\" stroke-width=\"1\" points=\"319,425 319,430 \"/>\n",
       "<text x=\"363\" y=\"435\" dy=\"0.76em\" text-anchor=\"middle\" font-family=\"sans-serif\" font-size=\"9.67741935483871\" opacity=\"1\" fill=\"#FFFFFF\">\n",
       "35.0\n",
       "</text>\n",
       "<polyline fill=\"none\" opacity=\"1\" stroke=\"#FFFFFF\" stroke-width=\"1\" points=\"363,425 363,430 \"/>\n",
       "<text x=\"407\" y=\"435\" dy=\"0.76em\" text-anchor=\"middle\" font-family=\"sans-serif\" font-size=\"9.67741935483871\" opacity=\"1\" fill=\"#FFFFFF\">\n",
       "40.0\n",
       "</text>\n",
       "<polyline fill=\"none\" opacity=\"1\" stroke=\"#FFFFFF\" stroke-width=\"1\" points=\"407,425 407,430 \"/>\n",
       "<text x=\"451\" y=\"435\" dy=\"0.76em\" text-anchor=\"middle\" font-family=\"sans-serif\" font-size=\"9.67741935483871\" opacity=\"1\" fill=\"#FFFFFF\">\n",
       "45.0\n",
       "</text>\n",
       "<polyline fill=\"none\" opacity=\"1\" stroke=\"#FFFFFF\" stroke-width=\"1\" points=\"451,425 451,430 \"/>\n",
       "<text x=\"495\" y=\"435\" dy=\"0.76em\" text-anchor=\"middle\" font-family=\"sans-serif\" font-size=\"9.67741935483871\" opacity=\"1\" fill=\"#FFFFFF\">\n",
       "50.0\n",
       "</text>\n",
       "<polyline fill=\"none\" opacity=\"1\" stroke=\"#FFFFFF\" stroke-width=\"1\" points=\"495,425 495,430 \"/>\n",
       "<text x=\"539\" y=\"435\" dy=\"0.76em\" text-anchor=\"middle\" font-family=\"sans-serif\" font-size=\"9.67741935483871\" opacity=\"1\" fill=\"#FFFFFF\">\n",
       "55.0\n",
       "</text>\n",
       "<polyline fill=\"none\" opacity=\"1\" stroke=\"#FFFFFF\" stroke-width=\"1\" points=\"539,425 539,430 \"/>\n",
       "<text x=\"584\" y=\"435\" dy=\"0.76em\" text-anchor=\"middle\" font-family=\"sans-serif\" font-size=\"9.67741935483871\" opacity=\"1\" fill=\"#FFFFFF\">\n",
       "60.0\n",
       "</text>\n",
       "<polyline fill=\"none\" opacity=\"1\" stroke=\"#FFFFFF\" stroke-width=\"1\" points=\"584,425 584,430 \"/>\n",
       "<polyline fill=\"none\" opacity=\"1\" stroke=\"#FFFFFF\" stroke-width=\"1\" points=\"585,75 585,424 \"/>\n",
       "<text x=\"617\" y=\"424\" dy=\"0.5ex\" text-anchor=\"end\" font-family=\"sans-serif\" font-size=\"9.67741935483871\" opacity=\"1\" fill=\"#FFFFFF\">\n",
       "0.0\n",
       "</text>\n",
       "<polyline fill=\"none\" opacity=\"1\" stroke=\"#FFFFFF\" stroke-width=\"1\" points=\"585,424 590,424 \"/>\n",
       "<text x=\"617\" y=\"365\" dy=\"0.5ex\" text-anchor=\"end\" font-family=\"sans-serif\" font-size=\"9.67741935483871\" opacity=\"1\" fill=\"#FFFFFF\">\n",
       "2.0\n",
       "</text>\n",
       "<polyline fill=\"none\" opacity=\"1\" stroke=\"#FFFFFF\" stroke-width=\"1\" points=\"585,365 590,365 \"/>\n",
       "<text x=\"617\" y=\"305\" dy=\"0.5ex\" text-anchor=\"end\" font-family=\"sans-serif\" font-size=\"9.67741935483871\" opacity=\"1\" fill=\"#FFFFFF\">\n",
       "4.0\n",
       "</text>\n",
       "<polyline fill=\"none\" opacity=\"1\" stroke=\"#FFFFFF\" stroke-width=\"1\" points=\"585,305 590,305 \"/>\n",
       "<text x=\"617\" y=\"245\" dy=\"0.5ex\" text-anchor=\"end\" font-family=\"sans-serif\" font-size=\"9.67741935483871\" opacity=\"1\" fill=\"#FFFFFF\">\n",
       "6.0\n",
       "</text>\n",
       "<polyline fill=\"none\" opacity=\"1\" stroke=\"#FFFFFF\" stroke-width=\"1\" points=\"585,245 590,245 \"/>\n",
       "<text x=\"617\" y=\"185\" dy=\"0.5ex\" text-anchor=\"end\" font-family=\"sans-serif\" font-size=\"9.67741935483871\" opacity=\"1\" fill=\"#FFFFFF\">\n",
       "8.0\n",
       "</text>\n",
       "<polyline fill=\"none\" opacity=\"1\" stroke=\"#FFFFFF\" stroke-width=\"1\" points=\"585,185 590,185 \"/>\n",
       "<text x=\"595\" y=\"125\" dy=\"0.5ex\" text-anchor=\"start\" font-family=\"sans-serif\" font-size=\"9.67741935483871\" opacity=\"1\" fill=\"#FFFFFF\">\n",
       "10.0\n",
       "</text>\n",
       "<polyline fill=\"none\" opacity=\"1\" stroke=\"#FFFFFF\" stroke-width=\"1\" points=\"585,125 590,125 \"/>\n",
       "<polyline fill=\"none\" opacity=\"1\" stroke=\"#FF0000\" stroke-width=\"1\" points=\"55,424 59,424 63,382 68,340 72,340 77,340 81,299 85,262 90,262 94,262 99,229 103,199 107,199 112,199 116,174 121,154 125,154 129,154 134,137 138,123 143,123 147,123 151,112 156,104 160,104 165,104 169,97 174,92 178,92 182,92 187,88 191,85 196,85 200,85 204,83 209,81 213,81 218,81 222,80 226,79 231,79 235,79 240,78 244,77 248,77 253,77 257,77 262,77 266,77 271,77 275,76 279,76 284,76 288,76 293,76 297,76 301,76 306,76 310,76 315,76 319,76 323,76 328,76 332,76 337,76 341,76 345,76 350,76 354,76 359,76 363,76 367,76 372,76 376,76 381,76 385,76 390,76 394,76 398,76 403,76 407,76 412,76 416,76 420,76 425,76 429,76 434,76 438,76 442,76 447,76 451,76 456,76 460,76 464,76 469,76 473,76 478,76 482,76 487,75 491,75 495,75 500,75 504,75 509,75 513,75 517,75 522,75 526,75 531,75 535,75 539,75 544,75 548,75 553,75 557,75 561,75 566,75 570,75 575,75 579,75 584,75 \"/>\n",
       "<rect x=\"410\" y=\"235\" width=\"170\" height=\"30\" opacity=\"1\" fill=\"none\" stroke=\"#FFFFFF\"/>\n",
       "<text x=\"450\" y=\"245\" dy=\"0.76em\" text-anchor=\"start\" font-family=\"sans-serif\" font-size=\"9.67741935483871\" opacity=\"1\" fill=\"#FFFFFF\">\n",
       "velocity of bike (m/s)\n",
       "</text>\n",
       "<polyline fill=\"none\" opacity=\"1\" stroke=\"#FF0000\" stroke-width=\"1\" points=\"420,250 440,250 \"/>\n",
       "</svg>\n"
      ]
     },
     "metadata": {},
     "output_type": "display_data"
    },
    {
     "name": "stdout",
     "output_type": "stream",
     "text": [
      "type Mut0 = {mutable l0 : int32}\n",
      "let rec method1 (v0 : Mut0) : bool =\n",
      "    let v1 : int32 = v0.l0\n",
      "    let v2 : bool = v1 < 121\n",
      "    v2\n",
      "and method2 (v0 : int32, v1 : Mut0) : bool =\n",
      "    let v2 : int32 = v1.l0\n",
      "    let v3 : bool = v2 < v0\n",
      "    v3\n",
      "and method3 (v0 : float, v1 : float) : float =\n",
      "    let v2 : bool = v1 <= 0.0\n",
      "    if v2 then\n",
      "        v0\n",
      "    else\n",
      "        let v3 : float =  -v0\n",
      "        let v4 : bool = v0 >= v3\n",
      "        let v5 : float =\n",
      "            if v4 then\n",
      "                v0\n",
      "            else\n",
      "                v3\n",
      "        let v6 : float = -1.47 * v5\n",
      "        let v7 : float = v6 * v0\n",
      "        let v8 : float = v7 / 2.0\n",
      "        let v9 : float = 100.0 + v8\n",
      "        let v10 : float = v9 / 70.0\n",
      "        let v11 : float = v0 + v10\n",
      "        let v12 : float = v1 - 1.0\n",
      "        method3(v11, v12)\n",
      "and method0 () : struct (string * string * (float []) * string * (struct (string * (float [])) [])) =\n",
      "    let v0 : (float []) = Array.zeroCreate<float> (121)\n",
      "    let v1 : Mut0 = {l0 = 0} : Mut0\n",
      "    while method1(v1) do\n",
      "        let v3 : int32 = v1.l0\n",
      "        let v4 : float = float v3\n",
      "        let v5 : float = 0.5 * v4\n",
      "        v0.[int v3] <- v5\n",
      "        let v6 : int32 = v3 + 1\n",
      "        v1.l0 <- v6\n",
      "        ()\n",
      "    let v7 : int32 = v0.Length\n",
      "    let v8 : (float []) = Array.zeroCreate<float> (v7)\n",
      "    let v9 : Mut0 = {l0 = 0} : Mut0\n",
      "    while method2(v7, v9) do\n",
      "        let v11 : int32 = v9.l0\n",
      "        let v12 : float = v0.[int v11]\n",
      "        let v13 : float = round v12\n",
      "        let v14 : float =  -v13\n",
      "        let v15 : bool = v13 >= v14\n",
      "        let v16 : float =\n",
      "            if v15 then\n",
      "                v13\n",
      "            else\n",
      "                v14\n",
      "        let v17 : float = 0.0\n",
      "        let v18 : float = method3(v17, v16)\n",
      "        v8.[int v11] <- v18\n",
      "        let v19 : int32 = v11 + 1\n",
      "        v9.l0 <- v19\n",
      "        ()\n",
      "    let v20 : string = \"velocity of bike (m/s)\"\n",
      "    let v21 : (struct (string * (float [])) []) = [|struct (v20, v8)|]\n",
      "    let v22 : string = \"bike velocity\"\n",
      "    let v23 : string = \"time (s)\"\n",
      "    let v24 : string = \"\"\n",
      "    struct (v22, v23, v0, v24, v21)\n",
      "method0()\n",
      "\r\n"
     ]
    }
   ],
   "source": [
    "// // test\n",
    "\n",
    "inl x = init_series 0 60 0.5\n",
    "inl y = x |> am.map (velocity_fv 1 70 0f64 [fun _ => 100; f_air 2 1.225 0.6])\n",
    "\"bike velocity\", \"time (s)\", x, \"\", ;[\"velocity of bike (m/s)\", y]"
   ]
  },
  {
   "cell_type": "markdown",
   "metadata": {},
   "source": [
    "## velocity_ftv"
   ]
  },
  {
   "cell_type": "code",
   "execution_count": null,
   "metadata": {
    "dotnet_interactive": {
     "language": "spiral"
    },
    "polyglot_notebook": {
     "kernelName": "spiral"
    }
   },
   "outputs": [
    {
     "name": "stdout",
     "output_type": "stream",
     "text": [
      "()\n",
      "\r\n"
     ]
    }
   ],
   "source": [
    "inl newton_second_tv m fs (t, v0) =\n",
    "    inl f_net = fs |> listm.map (fun f => f (t, v0)) |> list_sum\n",
    "    inl acc = f_net / m\n",
    "    1, acc\n",
    "\n",
    "inl update_tv dt m fs (t, v0) =\n",
    "    inl dtdt, dvdt = newton_second_tv m fs (t, v0)\n",
    "    t + dtdt * dt, v0 + dvdt * dt\n",
    "\n",
    "inl velocity_ftv dt m tv0 fs t =\n",
    "    t / dt |> round |> abs\n",
    "    |> iterate_ (update_tv dt m fs) tv0\n",
    "    |> snd"
   ]
  },
  {
   "cell_type": "code",
   "execution_count": null,
   "metadata": {
    "dotnet_interactive": {
     "language": "spiral"
    },
    "polyglot_notebook": {
     "kernelName": "spiral"
    }
   },
   "outputs": [
    {
     "data": {
      "text/html": [
       "<svg width=\"640\" height=\"480\" viewBox=\"0 0 640 480\" xmlns=\"http://www.w3.org/2000/svg\">\n",
       "<rect x=\"0\" y=\"0\" width=\"640\" height=\"480\" opacity=\"1\" fill=\"#141414\" stroke=\"none\"/>\n",
       "<text x=\"320\" y=\"10\" dy=\"0.76em\" text-anchor=\"middle\" font-family=\"sans-serif\" font-size=\"9.67741935483871\" opacity=\"1\" fill=\"#FFFFFF\">\n",
       "pedaling and coasting with air\n",
       "</text>\n",
       "<line opacity=\"1\" stroke=\"#323232\" stroke-width=\"1\" x1=\"55\" y1=\"424\" x2=\"55\" y2=\"75\"/>\n",
       "<line opacity=\"1\" stroke=\"#323232\" stroke-width=\"1\" x1=\"65\" y1=\"424\" x2=\"65\" y2=\"75\"/>\n",
       "<line opacity=\"1\" stroke=\"#323232\" stroke-width=\"1\" x1=\"76\" y1=\"424\" x2=\"76\" y2=\"75\"/>\n",
       "<line opacity=\"1\" stroke=\"#323232\" stroke-width=\"1\" x1=\"86\" y1=\"424\" x2=\"86\" y2=\"75\"/>\n",
       "<line opacity=\"1\" stroke=\"#323232\" stroke-width=\"1\" x1=\"97\" y1=\"424\" x2=\"97\" y2=\"75\"/>\n",
       "<line opacity=\"1\" stroke=\"#323232\" stroke-width=\"1\" x1=\"107\" y1=\"424\" x2=\"107\" y2=\"75\"/>\n",
       "<line opacity=\"1\" stroke=\"#323232\" stroke-width=\"1\" x1=\"118\" y1=\"424\" x2=\"118\" y2=\"75\"/>\n",
       "<line opacity=\"1\" stroke=\"#323232\" stroke-width=\"1\" x1=\"129\" y1=\"424\" x2=\"129\" y2=\"75\"/>\n",
       "<line opacity=\"1\" stroke=\"#323232\" stroke-width=\"1\" x1=\"139\" y1=\"424\" x2=\"139\" y2=\"75\"/>\n",
       "<line opacity=\"1\" stroke=\"#323232\" stroke-width=\"1\" x1=\"150\" y1=\"424\" x2=\"150\" y2=\"75\"/>\n",
       "<line opacity=\"1\" stroke=\"#323232\" stroke-width=\"1\" x1=\"160\" y1=\"424\" x2=\"160\" y2=\"75\"/>\n",
       "<line opacity=\"1\" stroke=\"#323232\" stroke-width=\"1\" x1=\"171\" y1=\"424\" x2=\"171\" y2=\"75\"/>\n",
       "<line opacity=\"1\" stroke=\"#323232\" stroke-width=\"1\" x1=\"181\" y1=\"424\" x2=\"181\" y2=\"75\"/>\n",
       "<line opacity=\"1\" stroke=\"#323232\" stroke-width=\"1\" x1=\"192\" y1=\"424\" x2=\"192\" y2=\"75\"/>\n",
       "<line opacity=\"1\" stroke=\"#323232\" stroke-width=\"1\" x1=\"203\" y1=\"424\" x2=\"203\" y2=\"75\"/>\n",
       "<line opacity=\"1\" stroke=\"#323232\" stroke-width=\"1\" x1=\"213\" y1=\"424\" x2=\"213\" y2=\"75\"/>\n",
       "<line opacity=\"1\" stroke=\"#323232\" stroke-width=\"1\" x1=\"224\" y1=\"424\" x2=\"224\" y2=\"75\"/>\n",
       "<line opacity=\"1\" stroke=\"#323232\" stroke-width=\"1\" x1=\"234\" y1=\"424\" x2=\"234\" y2=\"75\"/>\n",
       "<line opacity=\"1\" stroke=\"#323232\" stroke-width=\"1\" x1=\"245\" y1=\"424\" x2=\"245\" y2=\"75\"/>\n",
       "<line opacity=\"1\" stroke=\"#323232\" stroke-width=\"1\" x1=\"256\" y1=\"424\" x2=\"256\" y2=\"75\"/>\n",
       "<line opacity=\"1\" stroke=\"#323232\" stroke-width=\"1\" x1=\"266\" y1=\"424\" x2=\"266\" y2=\"75\"/>\n",
       "<line opacity=\"1\" stroke=\"#323232\" stroke-width=\"1\" x1=\"277\" y1=\"424\" x2=\"277\" y2=\"75\"/>\n",
       "<line opacity=\"1\" stroke=\"#323232\" stroke-width=\"1\" x1=\"287\" y1=\"424\" x2=\"287\" y2=\"75\"/>\n",
       "<line opacity=\"1\" stroke=\"#323232\" stroke-width=\"1\" x1=\"298\" y1=\"424\" x2=\"298\" y2=\"75\"/>\n",
       "<line opacity=\"1\" stroke=\"#323232\" stroke-width=\"1\" x1=\"308\" y1=\"424\" x2=\"308\" y2=\"75\"/>\n",
       "<line opacity=\"1\" stroke=\"#323232\" stroke-width=\"1\" x1=\"319\" y1=\"424\" x2=\"319\" y2=\"75\"/>\n",
       "<line opacity=\"1\" stroke=\"#323232\" stroke-width=\"1\" x1=\"330\" y1=\"424\" x2=\"330\" y2=\"75\"/>\n",
       "<line opacity=\"1\" stroke=\"#323232\" stroke-width=\"1\" x1=\"340\" y1=\"424\" x2=\"340\" y2=\"75\"/>\n",
       "<line opacity=\"1\" stroke=\"#323232\" stroke-width=\"1\" x1=\"351\" y1=\"424\" x2=\"351\" y2=\"75\"/>\n",
       "<line opacity=\"1\" stroke=\"#323232\" stroke-width=\"1\" x1=\"361\" y1=\"424\" x2=\"361\" y2=\"75\"/>\n",
       "<line opacity=\"1\" stroke=\"#323232\" stroke-width=\"1\" x1=\"372\" y1=\"424\" x2=\"372\" y2=\"75\"/>\n",
       "<line opacity=\"1\" stroke=\"#323232\" stroke-width=\"1\" x1=\"382\" y1=\"424\" x2=\"382\" y2=\"75\"/>\n",
       "<line opacity=\"1\" stroke=\"#323232\" stroke-width=\"1\" x1=\"393\" y1=\"424\" x2=\"393\" y2=\"75\"/>\n",
       "<line opacity=\"1\" stroke=\"#323232\" stroke-width=\"1\" x1=\"404\" y1=\"424\" x2=\"404\" y2=\"75\"/>\n",
       "<line opacity=\"1\" stroke=\"#323232\" stroke-width=\"1\" x1=\"414\" y1=\"424\" x2=\"414\" y2=\"75\"/>\n",
       "<line opacity=\"1\" stroke=\"#323232\" stroke-width=\"1\" x1=\"425\" y1=\"424\" x2=\"425\" y2=\"75\"/>\n",
       "<line opacity=\"1\" stroke=\"#323232\" stroke-width=\"1\" x1=\"435\" y1=\"424\" x2=\"435\" y2=\"75\"/>\n",
       "<line opacity=\"1\" stroke=\"#323232\" stroke-width=\"1\" x1=\"446\" y1=\"424\" x2=\"446\" y2=\"75\"/>\n",
       "<line opacity=\"1\" stroke=\"#323232\" stroke-width=\"1\" x1=\"457\" y1=\"424\" x2=\"457\" y2=\"75\"/>\n",
       "<line opacity=\"1\" stroke=\"#323232\" stroke-width=\"1\" x1=\"467\" y1=\"424\" x2=\"467\" y2=\"75\"/>\n",
       "<line opacity=\"1\" stroke=\"#323232\" stroke-width=\"1\" x1=\"478\" y1=\"424\" x2=\"478\" y2=\"75\"/>\n",
       "<line opacity=\"1\" stroke=\"#323232\" stroke-width=\"1\" x1=\"488\" y1=\"424\" x2=\"488\" y2=\"75\"/>\n",
       "<line opacity=\"1\" stroke=\"#323232\" stroke-width=\"1\" x1=\"499\" y1=\"424\" x2=\"499\" y2=\"75\"/>\n",
       "<line opacity=\"1\" stroke=\"#323232\" stroke-width=\"1\" x1=\"509\" y1=\"424\" x2=\"509\" y2=\"75\"/>\n",
       "<line opacity=\"1\" stroke=\"#323232\" stroke-width=\"1\" x1=\"520\" y1=\"424\" x2=\"520\" y2=\"75\"/>\n",
       "<line opacity=\"1\" stroke=\"#323232\" stroke-width=\"1\" x1=\"531\" y1=\"424\" x2=\"531\" y2=\"75\"/>\n",
       "<line opacity=\"1\" stroke=\"#323232\" stroke-width=\"1\" x1=\"541\" y1=\"424\" x2=\"541\" y2=\"75\"/>\n",
       "<line opacity=\"1\" stroke=\"#323232\" stroke-width=\"1\" x1=\"552\" y1=\"424\" x2=\"552\" y2=\"75\"/>\n",
       "<line opacity=\"1\" stroke=\"#323232\" stroke-width=\"1\" x1=\"562\" y1=\"424\" x2=\"562\" y2=\"75\"/>\n",
       "<line opacity=\"1\" stroke=\"#323232\" stroke-width=\"1\" x1=\"573\" y1=\"424\" x2=\"573\" y2=\"75\"/>\n",
       "<line opacity=\"1\" stroke=\"#323232\" stroke-width=\"1\" x1=\"584\" y1=\"424\" x2=\"584\" y2=\"75\"/>\n",
       "<line opacity=\"1\" stroke=\"#323232\" stroke-width=\"1\" x1=\"55\" y1=\"424\" x2=\"584\" y2=\"424\"/>\n",
       "<line opacity=\"1\" stroke=\"#323232\" stroke-width=\"1\" x1=\"55\" y1=\"415\" x2=\"584\" y2=\"415\"/>\n",
       "<line opacity=\"1\" stroke=\"#323232\" stroke-width=\"1\" x1=\"55\" y1=\"406\" x2=\"584\" y2=\"406\"/>\n",
       "<line opacity=\"1\" stroke=\"#323232\" stroke-width=\"1\" x1=\"55\" y1=\"397\" x2=\"584\" y2=\"397\"/>\n",
       "<line opacity=\"1\" stroke=\"#323232\" stroke-width=\"1\" x1=\"55\" y1=\"388\" x2=\"584\" y2=\"388\"/>\n",
       "<line opacity=\"1\" stroke=\"#323232\" stroke-width=\"1\" x1=\"55\" y1=\"378\" x2=\"584\" y2=\"378\"/>\n",
       "<line opacity=\"1\" stroke=\"#323232\" stroke-width=\"1\" x1=\"55\" y1=\"369\" x2=\"584\" y2=\"369\"/>\n",
       "<line opacity=\"1\" stroke=\"#323232\" stroke-width=\"1\" x1=\"55\" y1=\"360\" x2=\"584\" y2=\"360\"/>\n",
       "<line opacity=\"1\" stroke=\"#323232\" stroke-width=\"1\" x1=\"55\" y1=\"351\" x2=\"584\" y2=\"351\"/>\n",
       "<line opacity=\"1\" stroke=\"#323232\" stroke-width=\"1\" x1=\"55\" y1=\"342\" x2=\"584\" y2=\"342\"/>\n",
       "<line opacity=\"1\" stroke=\"#323232\" stroke-width=\"1\" x1=\"55\" y1=\"332\" x2=\"584\" y2=\"332\"/>\n",
       "<line opacity=\"1\" stroke=\"#323232\" stroke-width=\"1\" x1=\"55\" y1=\"323\" x2=\"584\" y2=\"323\"/>\n",
       "<line opacity=\"1\" stroke=\"#323232\" stroke-width=\"1\" x1=\"55\" y1=\"314\" x2=\"584\" y2=\"314\"/>\n",
       "<line opacity=\"1\" stroke=\"#323232\" stroke-width=\"1\" x1=\"55\" y1=\"305\" x2=\"584\" y2=\"305\"/>\n",
       "<line opacity=\"1\" stroke=\"#323232\" stroke-width=\"1\" x1=\"55\" y1=\"295\" x2=\"584\" y2=\"295\"/>\n",
       "<line opacity=\"1\" stroke=\"#323232\" stroke-width=\"1\" x1=\"55\" y1=\"286\" x2=\"584\" y2=\"286\"/>\n",
       "<line opacity=\"1\" stroke=\"#323232\" stroke-width=\"1\" x1=\"55\" y1=\"277\" x2=\"584\" y2=\"277\"/>\n",
       "<line opacity=\"1\" stroke=\"#323232\" stroke-width=\"1\" x1=\"55\" y1=\"268\" x2=\"584\" y2=\"268\"/>\n",
       "<line opacity=\"1\" stroke=\"#323232\" stroke-width=\"1\" x1=\"55\" y1=\"259\" x2=\"584\" y2=\"259\"/>\n",
       "<line opacity=\"1\" stroke=\"#323232\" stroke-width=\"1\" x1=\"55\" y1=\"249\" x2=\"584\" y2=\"249\"/>\n",
       "<line opacity=\"1\" stroke=\"#323232\" stroke-width=\"1\" x1=\"55\" y1=\"240\" x2=\"584\" y2=\"240\"/>\n",
       "<line opacity=\"1\" stroke=\"#323232\" stroke-width=\"1\" x1=\"55\" y1=\"231\" x2=\"584\" y2=\"231\"/>\n",
       "<line opacity=\"1\" stroke=\"#323232\" stroke-width=\"1\" x1=\"55\" y1=\"222\" x2=\"584\" y2=\"222\"/>\n",
       "<line opacity=\"1\" stroke=\"#323232\" stroke-width=\"1\" x1=\"55\" y1=\"212\" x2=\"584\" y2=\"212\"/>\n",
       "<line opacity=\"1\" stroke=\"#323232\" stroke-width=\"1\" x1=\"55\" y1=\"203\" x2=\"584\" y2=\"203\"/>\n",
       "<line opacity=\"1\" stroke=\"#323232\" stroke-width=\"1\" x1=\"55\" y1=\"194\" x2=\"584\" y2=\"194\"/>\n",
       "<line opacity=\"1\" stroke=\"#323232\" stroke-width=\"1\" x1=\"55\" y1=\"185\" x2=\"584\" y2=\"185\"/>\n",
       "<line opacity=\"1\" stroke=\"#323232\" stroke-width=\"1\" x1=\"55\" y1=\"176\" x2=\"584\" y2=\"176\"/>\n",
       "<line opacity=\"1\" stroke=\"#323232\" stroke-width=\"1\" x1=\"55\" y1=\"166\" x2=\"584\" y2=\"166\"/>\n",
       "<line opacity=\"1\" stroke=\"#323232\" stroke-width=\"1\" x1=\"55\" y1=\"157\" x2=\"584\" y2=\"157\"/>\n",
       "<line opacity=\"1\" stroke=\"#323232\" stroke-width=\"1\" x1=\"55\" y1=\"148\" x2=\"584\" y2=\"148\"/>\n",
       "<line opacity=\"1\" stroke=\"#323232\" stroke-width=\"1\" x1=\"55\" y1=\"139\" x2=\"584\" y2=\"139\"/>\n",
       "<line opacity=\"1\" stroke=\"#323232\" stroke-width=\"1\" x1=\"55\" y1=\"129\" x2=\"584\" y2=\"129\"/>\n",
       "<line opacity=\"1\" stroke=\"#323232\" stroke-width=\"1\" x1=\"55\" y1=\"120\" x2=\"584\" y2=\"120\"/>\n",
       "<line opacity=\"1\" stroke=\"#323232\" stroke-width=\"1\" x1=\"55\" y1=\"111\" x2=\"584\" y2=\"111\"/>\n",
       "<line opacity=\"1\" stroke=\"#323232\" stroke-width=\"1\" x1=\"55\" y1=\"102\" x2=\"584\" y2=\"102\"/>\n",
       "<line opacity=\"1\" stroke=\"#323232\" stroke-width=\"1\" x1=\"55\" y1=\"93\" x2=\"584\" y2=\"93\"/>\n",
       "<text x=\"320\" y=\"25\" dy=\"0.76em\" text-anchor=\"middle\" font-family=\"sans-serif\" font-size=\"9.67741935483871\" opacity=\"1\" fill=\"#FFFFFF\">\n",
       "time (s)\n",
       "</text>\n",
       "<text x=\"5\" y=\"250\" dy=\"0.76em\" text-anchor=\"middle\" font-family=\"sans-serif\" font-size=\"9.67741935483871\" opacity=\"1\" fill=\"#FFFFFF\" transform=\"rotate(270, 5, 250)\">\n",
       "\n",
       "</text>\n",
       "<text x=\"320\" y=\"475\" dy=\"-0.5ex\" text-anchor=\"middle\" font-family=\"sans-serif\" font-size=\"9.67741935483871\" opacity=\"1\" fill=\"#FFFFFF\">\n",
       "time (s)\n",
       "</text>\n",
       "<text x=\"635\" y=\"250\" dy=\"0.76em\" text-anchor=\"middle\" font-family=\"sans-serif\" font-size=\"9.67741935483871\" opacity=\"1\" fill=\"#FFFFFF\" transform=\"rotate(90, 635, 250)\">\n",
       "\n",
       "</text>\n",
       "<line opacity=\"1\" stroke=\"#5A5A5A\" stroke-width=\"1\" x1=\"55\" y1=\"424\" x2=\"55\" y2=\"75\"/>\n",
       "<line opacity=\"1\" stroke=\"#5A5A5A\" stroke-width=\"1\" x1=\"107\" y1=\"424\" x2=\"107\" y2=\"75\"/>\n",
       "<line opacity=\"1\" stroke=\"#5A5A5A\" stroke-width=\"1\" x1=\"160\" y1=\"424\" x2=\"160\" y2=\"75\"/>\n",
       "<line opacity=\"1\" stroke=\"#5A5A5A\" stroke-width=\"1\" x1=\"213\" y1=\"424\" x2=\"213\" y2=\"75\"/>\n",
       "<line opacity=\"1\" stroke=\"#5A5A5A\" stroke-width=\"1\" x1=\"266\" y1=\"424\" x2=\"266\" y2=\"75\"/>\n",
       "<line opacity=\"1\" stroke=\"#5A5A5A\" stroke-width=\"1\" x1=\"319\" y1=\"424\" x2=\"319\" y2=\"75\"/>\n",
       "<line opacity=\"1\" stroke=\"#5A5A5A\" stroke-width=\"1\" x1=\"372\" y1=\"424\" x2=\"372\" y2=\"75\"/>\n",
       "<line opacity=\"1\" stroke=\"#5A5A5A\" stroke-width=\"1\" x1=\"425\" y1=\"424\" x2=\"425\" y2=\"75\"/>\n",
       "<line opacity=\"1\" stroke=\"#5A5A5A\" stroke-width=\"1\" x1=\"478\" y1=\"424\" x2=\"478\" y2=\"75\"/>\n",
       "<line opacity=\"1\" stroke=\"#5A5A5A\" stroke-width=\"1\" x1=\"531\" y1=\"424\" x2=\"531\" y2=\"75\"/>\n",
       "<line opacity=\"1\" stroke=\"#5A5A5A\" stroke-width=\"1\" x1=\"584\" y1=\"424\" x2=\"584\" y2=\"75\"/>\n",
       "<line opacity=\"1\" stroke=\"#5A5A5A\" stroke-width=\"1\" x1=\"55\" y1=\"424\" x2=\"584\" y2=\"424\"/>\n",
       "<line opacity=\"1\" stroke=\"#5A5A5A\" stroke-width=\"1\" x1=\"55\" y1=\"378\" x2=\"584\" y2=\"378\"/>\n",
       "<line opacity=\"1\" stroke=\"#5A5A5A\" stroke-width=\"1\" x1=\"55\" y1=\"332\" x2=\"584\" y2=\"332\"/>\n",
       "<line opacity=\"1\" stroke=\"#5A5A5A\" stroke-width=\"1\" x1=\"55\" y1=\"286\" x2=\"584\" y2=\"286\"/>\n",
       "<line opacity=\"1\" stroke=\"#5A5A5A\" stroke-width=\"1\" x1=\"55\" y1=\"240\" x2=\"584\" y2=\"240\"/>\n",
       "<line opacity=\"1\" stroke=\"#5A5A5A\" stroke-width=\"1\" x1=\"55\" y1=\"194\" x2=\"584\" y2=\"194\"/>\n",
       "<line opacity=\"1\" stroke=\"#5A5A5A\" stroke-width=\"1\" x1=\"55\" y1=\"148\" x2=\"584\" y2=\"148\"/>\n",
       "<line opacity=\"1\" stroke=\"#5A5A5A\" stroke-width=\"1\" x1=\"55\" y1=\"102\" x2=\"584\" y2=\"102\"/>\n",
       "<polyline fill=\"none\" opacity=\"1\" stroke=\"#FFFFFF\" stroke-width=\"1\" points=\"55,74 584,74 \"/>\n",
       "<text x=\"55\" y=\"65\" dy=\"-0.5ex\" text-anchor=\"middle\" font-family=\"sans-serif\" font-size=\"9.67741935483871\" opacity=\"1\" fill=\"#FFFFFF\">\n",
       "0.0\n",
       "</text>\n",
       "<polyline fill=\"none\" opacity=\"1\" stroke=\"#FFFFFF\" stroke-width=\"1\" points=\"55,69 55,74 \"/>\n",
       "<text x=\"107\" y=\"65\" dy=\"-0.5ex\" text-anchor=\"middle\" font-family=\"sans-serif\" font-size=\"9.67741935483871\" opacity=\"1\" fill=\"#FFFFFF\">\n",
       "10.0\n",
       "</text>\n",
       "<polyline fill=\"none\" opacity=\"1\" stroke=\"#FFFFFF\" stroke-width=\"1\" points=\"107,69 107,74 \"/>\n",
       "<text x=\"160\" y=\"65\" dy=\"-0.5ex\" text-anchor=\"middle\" font-family=\"sans-serif\" font-size=\"9.67741935483871\" opacity=\"1\" fill=\"#FFFFFF\">\n",
       "20.0\n",
       "</text>\n",
       "<polyline fill=\"none\" opacity=\"1\" stroke=\"#FFFFFF\" stroke-width=\"1\" points=\"160,69 160,74 \"/>\n",
       "<text x=\"213\" y=\"65\" dy=\"-0.5ex\" text-anchor=\"middle\" font-family=\"sans-serif\" font-size=\"9.67741935483871\" opacity=\"1\" fill=\"#FFFFFF\">\n",
       "30.0\n",
       "</text>\n",
       "<polyline fill=\"none\" opacity=\"1\" stroke=\"#FFFFFF\" stroke-width=\"1\" points=\"213,69 213,74 \"/>\n",
       "<text x=\"266\" y=\"65\" dy=\"-0.5ex\" text-anchor=\"middle\" font-family=\"sans-serif\" font-size=\"9.67741935483871\" opacity=\"1\" fill=\"#FFFFFF\">\n",
       "40.0\n",
       "</text>\n",
       "<polyline fill=\"none\" opacity=\"1\" stroke=\"#FFFFFF\" stroke-width=\"1\" points=\"266,69 266,74 \"/>\n",
       "<text x=\"319\" y=\"65\" dy=\"-0.5ex\" text-anchor=\"middle\" font-family=\"sans-serif\" font-size=\"9.67741935483871\" opacity=\"1\" fill=\"#FFFFFF\">\n",
       "50.0\n",
       "</text>\n",
       "<polyline fill=\"none\" opacity=\"1\" stroke=\"#FFFFFF\" stroke-width=\"1\" points=\"319,69 319,74 \"/>\n",
       "<text x=\"372\" y=\"65\" dy=\"-0.5ex\" text-anchor=\"middle\" font-family=\"sans-serif\" font-size=\"9.67741935483871\" opacity=\"1\" fill=\"#FFFFFF\">\n",
       "60.0\n",
       "</text>\n",
       "<polyline fill=\"none\" opacity=\"1\" stroke=\"#FFFFFF\" stroke-width=\"1\" points=\"372,69 372,74 \"/>\n",
       "<text x=\"425\" y=\"65\" dy=\"-0.5ex\" text-anchor=\"middle\" font-family=\"sans-serif\" font-size=\"9.67741935483871\" opacity=\"1\" fill=\"#FFFFFF\">\n",
       "70.0\n",
       "</text>\n",
       "<polyline fill=\"none\" opacity=\"1\" stroke=\"#FFFFFF\" stroke-width=\"1\" points=\"425,69 425,74 \"/>\n",
       "<text x=\"478\" y=\"65\" dy=\"-0.5ex\" text-anchor=\"middle\" font-family=\"sans-serif\" font-size=\"9.67741935483871\" opacity=\"1\" fill=\"#FFFFFF\">\n",
       "80.0\n",
       "</text>\n",
       "<polyline fill=\"none\" opacity=\"1\" stroke=\"#FFFFFF\" stroke-width=\"1\" points=\"478,69 478,74 \"/>\n",
       "<text x=\"531\" y=\"65\" dy=\"-0.5ex\" text-anchor=\"middle\" font-family=\"sans-serif\" font-size=\"9.67741935483871\" opacity=\"1\" fill=\"#FFFFFF\">\n",
       "90.0\n",
       "</text>\n",
       "<polyline fill=\"none\" opacity=\"1\" stroke=\"#FFFFFF\" stroke-width=\"1\" points=\"531,69 531,74 \"/>\n",
       "<text x=\"584\" y=\"65\" dy=\"-0.5ex\" text-anchor=\"middle\" font-family=\"sans-serif\" font-size=\"9.67741935483871\" opacity=\"1\" fill=\"#FFFFFF\">\n",
       "100.0\n",
       "</text>\n",
       "<polyline fill=\"none\" opacity=\"1\" stroke=\"#FFFFFF\" stroke-width=\"1\" points=\"584,69 584,74 \"/>\n",
       "<polyline fill=\"none\" opacity=\"1\" stroke=\"#FFFFFF\" stroke-width=\"1\" points=\"54,75 54,424 \"/>\n",
       "<text x=\"45\" y=\"424\" dy=\"0.5ex\" text-anchor=\"end\" font-family=\"sans-serif\" font-size=\"9.67741935483871\" opacity=\"1\" fill=\"#FFFFFF\">\n",
       "0.0\n",
       "</text>\n",
       "<polyline fill=\"none\" opacity=\"1\" stroke=\"#FFFFFF\" stroke-width=\"1\" points=\"49,424 54,424 \"/>\n",
       "<text x=\"45\" y=\"378\" dy=\"0.5ex\" text-anchor=\"end\" font-family=\"sans-serif\" font-size=\"9.67741935483871\" opacity=\"1\" fill=\"#FFFFFF\">\n",
       "0.5\n",
       "</text>\n",
       "<polyline fill=\"none\" opacity=\"1\" stroke=\"#FFFFFF\" stroke-width=\"1\" points=\"49,378 54,378 \"/>\n",
       "<text x=\"45\" y=\"332\" dy=\"0.5ex\" text-anchor=\"end\" font-family=\"sans-serif\" font-size=\"9.67741935483871\" opacity=\"1\" fill=\"#FFFFFF\">\n",
       "1.0\n",
       "</text>\n",
       "<polyline fill=\"none\" opacity=\"1\" stroke=\"#FFFFFF\" stroke-width=\"1\" points=\"49,332 54,332 \"/>\n",
       "<text x=\"45\" y=\"286\" dy=\"0.5ex\" text-anchor=\"end\" font-family=\"sans-serif\" font-size=\"9.67741935483871\" opacity=\"1\" fill=\"#FFFFFF\">\n",
       "1.5\n",
       "</text>\n",
       "<polyline fill=\"none\" opacity=\"1\" stroke=\"#FFFFFF\" stroke-width=\"1\" points=\"49,286 54,286 \"/>\n",
       "<text x=\"45\" y=\"240\" dy=\"0.5ex\" text-anchor=\"end\" font-family=\"sans-serif\" font-size=\"9.67741935483871\" opacity=\"1\" fill=\"#FFFFFF\">\n",
       "2.0\n",
       "</text>\n",
       "<polyline fill=\"none\" opacity=\"1\" stroke=\"#FFFFFF\" stroke-width=\"1\" points=\"49,240 54,240 \"/>\n",
       "<text x=\"45\" y=\"194\" dy=\"0.5ex\" text-anchor=\"end\" font-family=\"sans-serif\" font-size=\"9.67741935483871\" opacity=\"1\" fill=\"#FFFFFF\">\n",
       "2.5\n",
       "</text>\n",
       "<polyline fill=\"none\" opacity=\"1\" stroke=\"#FFFFFF\" stroke-width=\"1\" points=\"49,194 54,194 \"/>\n",
       "<text x=\"45\" y=\"148\" dy=\"0.5ex\" text-anchor=\"end\" font-family=\"sans-serif\" font-size=\"9.67741935483871\" opacity=\"1\" fill=\"#FFFFFF\">\n",
       "3.0\n",
       "</text>\n",
       "<polyline fill=\"none\" opacity=\"1\" stroke=\"#FFFFFF\" stroke-width=\"1\" points=\"49,148 54,148 \"/>\n",
       "<text x=\"45\" y=\"102\" dy=\"0.5ex\" text-anchor=\"end\" font-family=\"sans-serif\" font-size=\"9.67741935483871\" opacity=\"1\" fill=\"#FFFFFF\">\n",
       "3.5\n",
       "</text>\n",
       "<polyline fill=\"none\" opacity=\"1\" stroke=\"#FFFFFF\" stroke-width=\"1\" points=\"49,102 54,102 \"/>\n",
       "<polyline fill=\"none\" opacity=\"1\" stroke=\"#FFFFFF\" stroke-width=\"1\" points=\"55,425 584,425 \"/>\n",
       "<text x=\"55\" y=\"435\" dy=\"0.76em\" text-anchor=\"middle\" font-family=\"sans-serif\" font-size=\"9.67741935483871\" opacity=\"1\" fill=\"#FFFFFF\">\n",
       "0.0\n",
       "</text>\n",
       "<polyline fill=\"none\" opacity=\"1\" stroke=\"#FFFFFF\" stroke-width=\"1\" points=\"55,425 55,430 \"/>\n",
       "<text x=\"107\" y=\"435\" dy=\"0.76em\" text-anchor=\"middle\" font-family=\"sans-serif\" font-size=\"9.67741935483871\" opacity=\"1\" fill=\"#FFFFFF\">\n",
       "10.0\n",
       "</text>\n",
       "<polyline fill=\"none\" opacity=\"1\" stroke=\"#FFFFFF\" stroke-width=\"1\" points=\"107,425 107,430 \"/>\n",
       "<text x=\"160\" y=\"435\" dy=\"0.76em\" text-anchor=\"middle\" font-family=\"sans-serif\" font-size=\"9.67741935483871\" opacity=\"1\" fill=\"#FFFFFF\">\n",
       "20.0\n",
       "</text>\n",
       "<polyline fill=\"none\" opacity=\"1\" stroke=\"#FFFFFF\" stroke-width=\"1\" points=\"160,425 160,430 \"/>\n",
       "<text x=\"213\" y=\"435\" dy=\"0.76em\" text-anchor=\"middle\" font-family=\"sans-serif\" font-size=\"9.67741935483871\" opacity=\"1\" fill=\"#FFFFFF\">\n",
       "30.0\n",
       "</text>\n",
       "<polyline fill=\"none\" opacity=\"1\" stroke=\"#FFFFFF\" stroke-width=\"1\" points=\"213,425 213,430 \"/>\n",
       "<text x=\"266\" y=\"435\" dy=\"0.76em\" text-anchor=\"middle\" font-family=\"sans-serif\" font-size=\"9.67741935483871\" opacity=\"1\" fill=\"#FFFFFF\">\n",
       "40.0\n",
       "</text>\n",
       "<polyline fill=\"none\" opacity=\"1\" stroke=\"#FFFFFF\" stroke-width=\"1\" points=\"266,425 266,430 \"/>\n",
       "<text x=\"319\" y=\"435\" dy=\"0.76em\" text-anchor=\"middle\" font-family=\"sans-serif\" font-size=\"9.67741935483871\" opacity=\"1\" fill=\"#FFFFFF\">\n",
       "50.0\n",
       "</text>\n",
       "<polyline fill=\"none\" opacity=\"1\" stroke=\"#FFFFFF\" stroke-width=\"1\" points=\"319,425 319,430 \"/>\n",
       "<text x=\"372\" y=\"435\" dy=\"0.76em\" text-anchor=\"middle\" font-family=\"sans-serif\" font-size=\"9.67741935483871\" opacity=\"1\" fill=\"#FFFFFF\">\n",
       "60.0\n",
       "</text>\n",
       "<polyline fill=\"none\" opacity=\"1\" stroke=\"#FFFFFF\" stroke-width=\"1\" points=\"372,425 372,430 \"/>\n",
       "<text x=\"425\" y=\"435\" dy=\"0.76em\" text-anchor=\"middle\" font-family=\"sans-serif\" font-size=\"9.67741935483871\" opacity=\"1\" fill=\"#FFFFFF\">\n",
       "70.0\n",
       "</text>\n",
       "<polyline fill=\"none\" opacity=\"1\" stroke=\"#FFFFFF\" stroke-width=\"1\" points=\"425,425 425,430 \"/>\n",
       "<text x=\"478\" y=\"435\" dy=\"0.76em\" text-anchor=\"middle\" font-family=\"sans-serif\" font-size=\"9.67741935483871\" opacity=\"1\" fill=\"#FFFFFF\">\n",
       "80.0\n",
       "</text>\n",
       "<polyline fill=\"none\" opacity=\"1\" stroke=\"#FFFFFF\" stroke-width=\"1\" points=\"478,425 478,430 \"/>\n",
       "<text x=\"531\" y=\"435\" dy=\"0.76em\" text-anchor=\"middle\" font-family=\"sans-serif\" font-size=\"9.67741935483871\" opacity=\"1\" fill=\"#FFFFFF\">\n",
       "90.0\n",
       "</text>\n",
       "<polyline fill=\"none\" opacity=\"1\" stroke=\"#FFFFFF\" stroke-width=\"1\" points=\"531,425 531,430 \"/>\n",
       "<text x=\"584\" y=\"435\" dy=\"0.76em\" text-anchor=\"middle\" font-family=\"sans-serif\" font-size=\"9.67741935483871\" opacity=\"1\" fill=\"#FFFFFF\">\n",
       "100.0\n",
       "</text>\n",
       "<polyline fill=\"none\" opacity=\"1\" stroke=\"#FFFFFF\" stroke-width=\"1\" points=\"584,425 584,430 \"/>\n",
       "<polyline fill=\"none\" opacity=\"1\" stroke=\"#FFFFFF\" stroke-width=\"1\" points=\"585,75 585,424 \"/>\n",
       "<text x=\"595\" y=\"424\" dy=\"0.5ex\" text-anchor=\"start\" font-family=\"sans-serif\" font-size=\"9.67741935483871\" opacity=\"1\" fill=\"#FFFFFF\">\n",
       "0.0\n",
       "</text>\n",
       "<polyline fill=\"none\" opacity=\"1\" stroke=\"#FFFFFF\" stroke-width=\"1\" points=\"585,424 590,424 \"/>\n",
       "<text x=\"595\" y=\"378\" dy=\"0.5ex\" text-anchor=\"start\" font-family=\"sans-serif\" font-size=\"9.67741935483871\" opacity=\"1\" fill=\"#FFFFFF\">\n",
       "0.5\n",
       "</text>\n",
       "<polyline fill=\"none\" opacity=\"1\" stroke=\"#FFFFFF\" stroke-width=\"1\" points=\"585,378 590,378 \"/>\n",
       "<text x=\"595\" y=\"332\" dy=\"0.5ex\" text-anchor=\"start\" font-family=\"sans-serif\" font-size=\"9.67741935483871\" opacity=\"1\" fill=\"#FFFFFF\">\n",
       "1.0\n",
       "</text>\n",
       "<polyline fill=\"none\" opacity=\"1\" stroke=\"#FFFFFF\" stroke-width=\"1\" points=\"585,332 590,332 \"/>\n",
       "<text x=\"595\" y=\"286\" dy=\"0.5ex\" text-anchor=\"start\" font-family=\"sans-serif\" font-size=\"9.67741935483871\" opacity=\"1\" fill=\"#FFFFFF\">\n",
       "1.5\n",
       "</text>\n",
       "<polyline fill=\"none\" opacity=\"1\" stroke=\"#FFFFFF\" stroke-width=\"1\" points=\"585,286 590,286 \"/>\n",
       "<text x=\"595\" y=\"240\" dy=\"0.5ex\" text-anchor=\"start\" font-family=\"sans-serif\" font-size=\"9.67741935483871\" opacity=\"1\" fill=\"#FFFFFF\">\n",
       "2.0\n",
       "</text>\n",
       "<polyline fill=\"none\" opacity=\"1\" stroke=\"#FFFFFF\" stroke-width=\"1\" points=\"585,240 590,240 \"/>\n",
       "<text x=\"595\" y=\"194\" dy=\"0.5ex\" text-anchor=\"start\" font-family=\"sans-serif\" font-size=\"9.67741935483871\" opacity=\"1\" fill=\"#FFFFFF\">\n",
       "2.5\n",
       "</text>\n",
       "<polyline fill=\"none\" opacity=\"1\" stroke=\"#FFFFFF\" stroke-width=\"1\" points=\"585,194 590,194 \"/>\n",
       "<text x=\"595\" y=\"148\" dy=\"0.5ex\" text-anchor=\"start\" font-family=\"sans-serif\" font-size=\"9.67741935483871\" opacity=\"1\" fill=\"#FFFFFF\">\n",
       "3.0\n",
       "</text>\n",
       "<polyline fill=\"none\" opacity=\"1\" stroke=\"#FFFFFF\" stroke-width=\"1\" points=\"585,148 590,148 \"/>\n",
       "<text x=\"595\" y=\"102\" dy=\"0.5ex\" text-anchor=\"start\" font-family=\"sans-serif\" font-size=\"9.67741935483871\" opacity=\"1\" fill=\"#FFFFFF\">\n",
       "3.5\n",
       "</text>\n",
       "<polyline fill=\"none\" opacity=\"1\" stroke=\"#FFFFFF\" stroke-width=\"1\" points=\"585,102 590,102 \"/>\n",
       "<polyline fill=\"none\" opacity=\"1\" stroke=\"#FF0000\" stroke-width=\"1\" points=\"55,424 55,424 56,420 56,415 57,411 57,406 58,401 58,397 59,392 59,388 60,383 60,379 61,374 61,370 62,365 62,361 63,356 63,352 64,347 65,343 65,338 66,334 66,330 67,325 67,321 68,317 68,313 69,308 69,304 70,300 70,296 71,292 71,288 72,284 72,280 73,276 74,272 74,268 75,265 75,261 76,257 76,253 77,250 77,246 78,243 78,239 79,236 79,232 80,229 80,225 81,222 81,219 82,216 83,213 83,209 84,206 84,203 85,200 85,197 86,195 86,192 87,189 87,186 88,183 88,181 89,178 89,175 90,173 90,170 91,168 92,166 92,163 93,161 93,159 94,156 94,154 95,152 95,150 96,148 96,146 97,144 97,142 98,140 98,138 99,136 99,134 100,132 101,130 101,129 102,127 102,125 103,124 103,122 104,120 104,119 105,117 105,116 106,114 106,113 107,112 107,110 108,109 108,112 109,116 110,119 110,122 111,125 111,128 112,131 112,134 113,136 113,139 114,142 114,145 115,147 115,150 116,152 116,155 117,157 117,159 118,162 119,164 119,166 120,169 120,171 121,173 121,175 122,177 122,179 123,181 123,183 124,185 124,187 125,189 125,191 126,192 126,194 127,196 128,198 128,199 129,201 129,203 130,204 130,206 131,208 131,209 132,211 132,212 133,214 133,215 134,217 134,218 135,219 135,221 136,222 136,224 137,225 138,226 138,228 139,229 139,230 140,231 140,233 141,234 141,235 142,236 142,237 143,239 143,240 144,241 144,242 145,243 145,244 146,245 147,246 147,247 148,248 148,249 149,250 149,252 150,252 150,253 151,254 151,255 152,256 152,257 153,258 153,259 154,260 154,261 155,262 156,263 156,264 157,264 157,265 158,266 158,267 159,268 159,269 160,269 160,270 161,266 161,263 162,259 162,255 163,252 163,248 164,244 165,241 165,237 166,234 166,230 167,227 167,224 168,221 168,217 169,214 169,211 170,208 170,205 171,202 171,199 172,196 172,193 173,190 174,187 174,185 175,182 175,179 176,177 176,174 177,172 177,169 178,167 178,164 179,162 179,160 180,157 180,155 181,153 181,151 182,149 183,147 183,144 184,142 184,141 185,139 185,137 186,135 186,133 187,131 187,129 188,128 188,126 189,124 189,123 190,121 190,120 191,118 192,117 192,115 193,114 193,112 194,111 194,110 195,108 195,107 196,106 196,105 197,103 197,102 198,101 198,100 199,99 199,98 200,97 201,96 201,95 202,94 202,93 203,92 203,91 204,90 204,89 205,88 205,87 206,86 206,86 207,85 207,84 208,83 208,82 209,82 209,81 210,80 211,80 211,79 212,78 212,78 213,77 213,77 214,81 214,84 215,88 215,92 216,96 216,99 217,103 217,106 218,110 218,113 219,116 220,119 220,122 221,125 221,128 222,131 222,134 223,137 223,140 224,142 224,145 225,148 225,150 226,153 226,155 227,158 227,160 228,162 229,165 229,167 230,169 230,171 231,173 231,175 232,177 232,179 233,181 233,183 234,185 234,187 235,189 235,191 236,193 236,195 237,196 238,198 238,200 239,201 239,203 240,205 240,206 241,208 241,209 242,211 242,213 243,214 243,215 244,217 244,218 245,220 245,221 246,223 247,224 247,225 248,227 248,228 249,229 249,230 250,232 250,233 251,234 251,235 252,236 252,238 253,239 253,240 254,241 254,242 255,243 256,244 256,245 257,247 257,248 258,249 258,250 259,251 259,252 260,253 260,254 261,255 261,256 262,257 262,257 263,258 263,259 264,260 265,261 265,262 266,263 266,264 267,260 267,256 268,253 268,249 269,245 269,242 270,238 270,235 271,231 271,228 272,225 272,222 273,218 274,215 274,212 275,209 275,206 276,203 276,200 277,197 277,194 278,191 278,188 279,186 279,183 280,180 280,178 281,175 281,172 282,170 282,167 283,165 284,163 284,160 285,158 285,156 286,154 286,151 287,149 287,147 288,145 288,143 289,141 289,139 290,137 290,135 291,134 291,132 292,130 293,128 293,127 294,125 294,123 295,122 295,120 296,119 296,117 297,116 297,114 298,113 298,111 299,110 299,109 300,107 300,106 301,105 302,104 302,102 303,101 303,100 304,99 304,98 305,97 305,96 306,95 306,94 307,93 307,92 308,91 308,90 309,89 309,88 310,87 311,87 311,86 312,85 312,84 313,83 313,83 314,82 314,81 315,81 315,80 316,79 316,79 317,78 317,77 318,77 318,76 319,76 320,80 320,84 321,87 321,91 322,95 322,98 323,102 323,105 324,109 324,112 325,115 325,119 326,122 326,125 327,128 327,131 328,133 329,136 329,139 330,142 330,144 331,147 331,150 332,152 332,155 333,157 333,159 334,162 334,164 335,166 335,168 336,171 336,173 337,175 338,177 338,179 339,181 339,183 340,185 340,187 341,189 341,191 342,192 342,194 343,196 343,198 344,199 344,201 345,203 345,204 346,206 347,208 347,209 348,211 348,212 349,214 349,215 350,217 350,218 351,219 351,221 352,222 352,224 353,225 353,226 354,228 354,229 355,230 356,231 356,233 357,234 357,235 358,236 358,237 359,239 359,240 360,241 360,242 361,243 361,244 362,245 362,246 363,247 363,248 364,249 364,250 365,251 366,252 366,253 367,254 367,255 368,256 368,257 369,258 369,259 370,260 370,261 371,262 371,263 372,264 372,260 373,256 373,252 374,249 375,245 375,242 376,238 376,235 377,231 377,228 378,225 378,221 379,218 379,215 380,212 380,209 381,206 381,203 382,200 382,197 383,194 384,191 384,188 385,185 385,183 386,180 386,177 387,175 387,172 388,170 388,167 389,165 389,163 390,160 390,158 391,156 391,153 392,151 393,149 393,147 394,145 394,143 395,141 395,139 396,137 396,135 397,133 397,132 398,130 398,128 399,126 399,125 400,123 400,122 401,120 402,119 402,117 403,116 403,114 404,113 404,111 405,110 405,109 406,107 406,106 407,105 407,104 408,102 408,101 409,100 409,99 410,98 411,97 411,96 412,95 412,94 413,93 413,92 414,91 414,90 415,89 415,88 416,87 416,87 417,86 417,85 418,84 418,83 419,83 420,82 420,81 421,81 421,80 422,79 422,79 423,78 423,77 424,77 424,76 425,75 425,80 426,83 426,87 427,91 427,95 428,98 429,102 429,105 430,109 430,112 431,115 431,119 432,122 432,125 433,128 433,131 434,133 434,136 435,139 435,142 436,144 436,147 437,150 437,152 438,155 439,157 439,159 440,162 440,164 441,166 441,168 442,171 442,173 443,175 443,177 444,179 444,181 445,183 445,185 446,187 446,189 447,191 448,192 448,194 449,196 449,198 450,199 450,201 451,203 451,204 452,206 452,208 453,209 453,211 454,212 454,214 455,215 455,217 456,218 457,219 457,221 458,222 458,224 459,225 459,226 460,228 460,229 461,230 461,231 462,233 462,234 463,235 463,236 464,237 464,239 465,240 466,241 466,242 467,243 467,244 468,245 468,246 469,247 469,248 470,249 470,250 471,251 471,252 472,253 472,254 473,255 473,256 474,257 475,258 475,259 476,260 476,261 477,262 477,263 478,264 478,264 479,261 479,257 480,253 480,250 481,246 481,242 482,239 482,235 483,232 484,229 484,225 485,222 485,219 486,216 486,212 487,209 487,206 488,203 488,200 489,197 489,194 490,192 490,189 491,186 491,183 492,181 493,178 493,175 494,173 494,170 495,168 495,165 496,163 496,161 497,158 497,156 498,154 498,152 499,150 499,148 500,145 500,143 501,141 502,140 502,138 503,136 503,134 504,132 504,130 505,129 505,127 506,125 506,124 507,122 507,120 508,119 508,117 509,116 509,114 510,113 510,112 511,110 512,109 512,108 513,106 513,105 514,104 514,103 515,102 515,100 516,99 516,98 517,97 517,96 518,95 518,94 519,93 519,92 520,91 521,90 521,89 522,88 522,88 523,87 523,86 524,85 524,84 525,84 525,83 526,82 526,81 527,81 527,80 528,79 528,79 529,78 530,77 530,77 531,76 531,76 532,80 532,84 533,87 533,91 534,95 534,99 535,102 535,106 536,109 536,112 537,115 537,119 538,122 539,125 539,128 540,131 540,134 541,136 541,139 542,142 542,144 543,147 543,150 544,152 544,155 545,157 545,159 546,162 546,164 547,166 548,169 548,171 549,173 549,175 550,177 550,179 551,181 551,183 552,185 552,187 553,189 553,191 554,192 554,194 555,196 555,198 556,199 557,201 557,203 558,204 558,206 559,208 559,209 560,211 560,212 561,214 561,215 562,217 562,218 563,219 563,221 564,222 564,224 565,225 566,226 566,228 567,229 567,230 568,231 568,233 569,234 569,235 570,236 570,237 571,239 571,240 572,241 572,242 573,243 573,244 574,245 575,246 575,247 576,248 576,249 577,250 577,251 578,252 578,253 579,254 579,255 580,256 580,257 581,258 581,259 582,260 582,261 583,262 584,263 \"/>\n",
       "<rect x=\"410\" y=\"235\" width=\"170\" height=\"30\" opacity=\"1\" fill=\"none\" stroke=\"#FFFFFF\"/>\n",
       "<text x=\"450\" y=\"245\" dy=\"0.76em\" text-anchor=\"start\" font-family=\"sans-serif\" font-size=\"9.67741935483871\" opacity=\"1\" fill=\"#FFFFFF\">\n",
       "velocity of bike (m/s)\n",
       "</text>\n",
       "<polyline fill=\"none\" opacity=\"1\" stroke=\"#FF0000\" stroke-width=\"1\" points=\"420,250 440,250 \"/>\n",
       "</svg>\n"
      ]
     },
     "metadata": {},
     "output_type": "display_data"
    },
    {
     "name": "stdout",
     "output_type": "stream",
     "text": [
      "type Mut0 = {mutable l0 : int32}\n",
      "let rec method1 (v0 : Mut0) : bool =\n",
      "    let v1 : int32 = v0.l0\n",
      "    let v2 : bool = v1 < 1001\n",
      "    v2\n",
      "and method2 (v0 : int32, v1 : Mut0) : bool =\n",
      "    let v2 : int32 = v1.l0\n",
      "    let v3 : bool = v2 < v0\n",
      "    v3\n",
      "and method3 (v0 : float, v1 : float, v2 : float) : struct (float * float) =\n",
      "    let v3 : bool = v2 <= 0.0\n",
      "    if v3 then\n",
      "        struct (v0, v1)\n",
      "    else\n",
      "        let v4 : float =  -v1\n",
      "        let v5 : bool = v1 >= v4\n",
      "        let v6 : float =\n",
      "            if v5 then\n",
      "                v1\n",
      "            else\n",
      "                v4\n",
      "        let v7 : float = -1.225 * v6\n",
      "        let v8 : float = v7 * v1\n",
      "        let v9 : float = v8 / 2.0\n",
      "        let v10 : float = v0 / 20.0\n",
      "        let v11 : int32 = int32 v10\n",
      "        let v12 : float = float v11\n",
      "        let v13 : float = v12 * 20.0\n",
      "        let v14 : float = v0 - v13\n",
      "        let v15 : bool = v14 > 0.0\n",
      "        let v17 : bool =\n",
      "            if v15 then\n",
      "                let v16 : bool = v14 < 10.0\n",
      "                v16\n",
      "            else\n",
      "                false\n",
      "        let v18 : float =\n",
      "            if v17 then\n",
      "                10.0\n",
      "            else\n",
      "                0.0\n",
      "        let v19 : float = v18 + v9\n",
      "        let v20 : float = v19 / 20.0\n",
      "        let v21 : float = v0 + 0.1\n",
      "        let v22 : float = v20 * 0.1\n",
      "        let v23 : float = v1 + v22\n",
      "        let v24 : float = v2 - 1.0\n",
      "        method3(v21, v23, v24)\n",
      "and method0 () : struct (string * string * (float []) * string * (struct (string * (float [])) [])) =\n",
      "    let v0 : (float []) = Array.zeroCreate<float> (1001)\n",
      "    let v1 : Mut0 = {l0 = 0} : Mut0\n",
      "    while method1(v1) do\n",
      "        let v3 : int32 = v1.l0\n",
      "        let v4 : float = float v3\n",
      "        let v5 : float = 0.1 * v4\n",
      "        v0.[int v3] <- v5\n",
      "        let v6 : int32 = v3 + 1\n",
      "        v1.l0 <- v6\n",
      "        ()\n",
      "    let v7 : int32 = v0.Length\n",
      "    let v8 : (float []) = Array.zeroCreate<float> (v7)\n",
      "    let v9 : Mut0 = {l0 = 0} : Mut0\n",
      "    while method2(v7, v9) do\n",
      "        let v11 : int32 = v9.l0\n",
      "        let v12 : float = v0.[int v11]\n",
      "        let v13 : float = v12 / 0.1\n",
      "        let v14 : float = round v13\n",
      "        let v15 : float =  -v14\n",
      "        let v16 : bool = v14 >= v15\n",
      "        let v17 : float =\n",
      "            if v16 then\n",
      "                v14\n",
      "            else\n",
      "                v15\n",
      "        let v18 : float = 0.0\n",
      "        let v19 : float = 0.0\n",
      "        let struct (v20 : float, v21 : float) = method3(v18, v19, v17)\n",
      "        v8.[int v11] <- v21\n",
      "        let v22 : int32 = v11 + 1\n",
      "        v9.l0 <- v22\n",
      "        ()\n",
      "    let v23 : string = \"velocity of bike (m/s)\"\n",
      "    let v24 : (struct (string * (float [])) []) = [|struct (v23, v8)|]\n",
      "    let v25 : string = \"pedaling and coasting with air\"\n",
      "    let v26 : string = \"time (s)\"\n",
      "    let v27 : string = \"\"\n",
      "    struct (v25, v26, v0, v27, v24)\n",
      "method0()\n",
      "\r\n"
     ]
    }
   ],
   "source": [
    "// // test\n",
    "\n",
    "inl x = init_series 0 100 0.1\n",
    "inl y =\n",
    "    x\n",
    "    |> am.map (\n",
    "        velocity_ftv 0.1 20 (0, 0) [fun (t, _) => pedal_coast t; fun (_, v) => f_air 2 1.225 0.5 v]\n",
    "    )\n",
    "\"pedaling and coasting with air\", \"time (s)\", x, \"\", ;[\"velocity of bike (m/s)\", y]"
   ]
  },
  {
   "cell_type": "markdown",
   "metadata": {},
   "source": [
    "## velocity_ftxv"
   ]
  },
  {
   "cell_type": "code",
   "execution_count": null,
   "metadata": {
    "dotnet_interactive": {
     "language": "spiral"
    },
    "polyglot_notebook": {
     "kernelName": "spiral"
    }
   },
   "outputs": [
    {
     "name": "stdout",
     "output_type": "stream",
     "text": [
      "()\n",
      "\r\n"
     ]
    }
   ],
   "source": [
    "nominal state_1d = time * position * velocity\n",
    "nominal rrr = f64 * f64 * f64\n",
    "\n",
    "inl newton_second_1d m fs (state_1d (t, x0, v0)) =\n",
    "    inl f_net = fs |> listm.map (fun f => f (state_1d (t, x0, v0))) |> list_sum\n",
    "    inl acc = f_net / m\n",
    "    rrr (1f64, v0, acc)\n",
    "\n",
    "inl euler_1d dt deriv (state_1d (t0, x0, v0) as t) =\n",
    "    inl (rrr (_, _, dvdt)) = deriv t\n",
    "    inl t1 = t0 + dt\n",
    "    inl x1 = x0 + v0 * dt\n",
    "    inl v1 = v0 + dvdt * dt\n",
    "    state_1d (t1, x1, v1)\n",
    "\n",
    "inl update_txv dt m fs =\n",
    "    newton_second_1d m fs |> euler_1d dt\n",
    "\n",
    "inl states_txv dt m txv0 fs =\n",
    "    iterate_ (update_txv dt m fs) txv0\n",
    "\n",
    "inl velocity_1d sts t =\n",
    "    inl (state_1d (t0, _, _)) = sts 0\n",
    "    inl (state_1d (t1, _, _)) = sts 1\n",
    "    inl dt = t1 - t0\n",
    "    inl num_steps = t / dt |> round |> abs\n",
    "    inl (state_1d (_, _, v0)) = sts num_steps\n",
    "    v0\n",
    "\n",
    "inl velocity_ftxv dt m txv0 fs =\n",
    "    states_txv dt m txv0 fs |> velocity_1d\n",
    "\n",
    "inl position_1d sts t =\n",
    "    inl (state_1d (t0, _, _)) = sts 0\n",
    "    inl (state_1d (t1, _, _)) = sts 1\n",
    "    inl dt = t1 - t0\n",
    "    inl num_steps = t / dt |> round |> abs\n",
    "    inl (state_1d (_, x0, _)) = sts num_steps\n",
    "    x0\n",
    "\n",
    "inl position_ftxv dt m txv0 fs =\n",
    "    states_txv dt m txv0 fs |> position_1d\n",
    "\n",
    "inl spring_force k (state_1d (_, x0, _)) =\n",
    "    -k * x0"
   ]
  },
  {
   "cell_type": "code",
   "execution_count": null,
   "metadata": {
    "dotnet_interactive": {
     "language": "spiral"
    },
    "polyglot_notebook": {
     "kernelName": "spiral"
    }
   },
   "outputs": [
    {
     "data": {
      "text/html": [
       "<svg width=\"640\" height=\"480\" viewBox=\"0 0 640 480\" xmlns=\"http://www.w3.org/2000/svg\">\n",
       "<rect x=\"0\" y=\"0\" width=\"640\" height=\"480\" opacity=\"1\" fill=\"#141414\" stroke=\"none\"/>\n",
       "<text x=\"320\" y=\"10\" dy=\"0.76em\" text-anchor=\"middle\" font-family=\"sans-serif\" font-size=\"9.67741935483871\" opacity=\"1\" fill=\"#FFFFFF\">\n",
       "ping pong ball on a slinky\n",
       "</text>\n",
       "<line opacity=\"1\" stroke=\"#323232\" stroke-width=\"1\" x1=\"55\" y1=\"424\" x2=\"55\" y2=\"75\"/>\n",
       "<line opacity=\"1\" stroke=\"#323232\" stroke-width=\"1\" x1=\"63\" y1=\"424\" x2=\"63\" y2=\"75\"/>\n",
       "<line opacity=\"1\" stroke=\"#323232\" stroke-width=\"1\" x1=\"72\" y1=\"424\" x2=\"72\" y2=\"75\"/>\n",
       "<line opacity=\"1\" stroke=\"#323232\" stroke-width=\"1\" x1=\"81\" y1=\"424\" x2=\"81\" y2=\"75\"/>\n",
       "<line opacity=\"1\" stroke=\"#323232\" stroke-width=\"1\" x1=\"90\" y1=\"424\" x2=\"90\" y2=\"75\"/>\n",
       "<line opacity=\"1\" stroke=\"#323232\" stroke-width=\"1\" x1=\"99\" y1=\"424\" x2=\"99\" y2=\"75\"/>\n",
       "<line opacity=\"1\" stroke=\"#323232\" stroke-width=\"1\" x1=\"107\" y1=\"424\" x2=\"107\" y2=\"75\"/>\n",
       "<line opacity=\"1\" stroke=\"#323232\" stroke-width=\"1\" x1=\"116\" y1=\"424\" x2=\"116\" y2=\"75\"/>\n",
       "<line opacity=\"1\" stroke=\"#323232\" stroke-width=\"1\" x1=\"125\" y1=\"424\" x2=\"125\" y2=\"75\"/>\n",
       "<line opacity=\"1\" stroke=\"#323232\" stroke-width=\"1\" x1=\"134\" y1=\"424\" x2=\"134\" y2=\"75\"/>\n",
       "<line opacity=\"1\" stroke=\"#323232\" stroke-width=\"1\" x1=\"143\" y1=\"424\" x2=\"143\" y2=\"75\"/>\n",
       "<line opacity=\"1\" stroke=\"#323232\" stroke-width=\"1\" x1=\"151\" y1=\"424\" x2=\"151\" y2=\"75\"/>\n",
       "<line opacity=\"1\" stroke=\"#323232\" stroke-width=\"1\" x1=\"160\" y1=\"424\" x2=\"160\" y2=\"75\"/>\n",
       "<line opacity=\"1\" stroke=\"#323232\" stroke-width=\"1\" x1=\"169\" y1=\"424\" x2=\"169\" y2=\"75\"/>\n",
       "<line opacity=\"1\" stroke=\"#323232\" stroke-width=\"1\" x1=\"178\" y1=\"424\" x2=\"178\" y2=\"75\"/>\n",
       "<line opacity=\"1\" stroke=\"#323232\" stroke-width=\"1\" x1=\"187\" y1=\"424\" x2=\"187\" y2=\"75\"/>\n",
       "<line opacity=\"1\" stroke=\"#323232\" stroke-width=\"1\" x1=\"196\" y1=\"424\" x2=\"196\" y2=\"75\"/>\n",
       "<line opacity=\"1\" stroke=\"#323232\" stroke-width=\"1\" x1=\"204\" y1=\"424\" x2=\"204\" y2=\"75\"/>\n",
       "<line opacity=\"1\" stroke=\"#323232\" stroke-width=\"1\" x1=\"213\" y1=\"424\" x2=\"213\" y2=\"75\"/>\n",
       "<line opacity=\"1\" stroke=\"#323232\" stroke-width=\"1\" x1=\"222\" y1=\"424\" x2=\"222\" y2=\"75\"/>\n",
       "<line opacity=\"1\" stroke=\"#323232\" stroke-width=\"1\" x1=\"231\" y1=\"424\" x2=\"231\" y2=\"75\"/>\n",
       "<line opacity=\"1\" stroke=\"#323232\" stroke-width=\"1\" x1=\"240\" y1=\"424\" x2=\"240\" y2=\"75\"/>\n",
       "<line opacity=\"1\" stroke=\"#323232\" stroke-width=\"1\" x1=\"248\" y1=\"424\" x2=\"248\" y2=\"75\"/>\n",
       "<line opacity=\"1\" stroke=\"#323232\" stroke-width=\"1\" x1=\"257\" y1=\"424\" x2=\"257\" y2=\"75\"/>\n",
       "<line opacity=\"1\" stroke=\"#323232\" stroke-width=\"1\" x1=\"266\" y1=\"424\" x2=\"266\" y2=\"75\"/>\n",
       "<line opacity=\"1\" stroke=\"#323232\" stroke-width=\"1\" x1=\"275\" y1=\"424\" x2=\"275\" y2=\"75\"/>\n",
       "<line opacity=\"1\" stroke=\"#323232\" stroke-width=\"1\" x1=\"284\" y1=\"424\" x2=\"284\" y2=\"75\"/>\n",
       "<line opacity=\"1\" stroke=\"#323232\" stroke-width=\"1\" x1=\"293\" y1=\"424\" x2=\"293\" y2=\"75\"/>\n",
       "<line opacity=\"1\" stroke=\"#323232\" stroke-width=\"1\" x1=\"301\" y1=\"424\" x2=\"301\" y2=\"75\"/>\n",
       "<line opacity=\"1\" stroke=\"#323232\" stroke-width=\"1\" x1=\"310\" y1=\"424\" x2=\"310\" y2=\"75\"/>\n",
       "<line opacity=\"1\" stroke=\"#323232\" stroke-width=\"1\" x1=\"319\" y1=\"424\" x2=\"319\" y2=\"75\"/>\n",
       "<line opacity=\"1\" stroke=\"#323232\" stroke-width=\"1\" x1=\"328\" y1=\"424\" x2=\"328\" y2=\"75\"/>\n",
       "<line opacity=\"1\" stroke=\"#323232\" stroke-width=\"1\" x1=\"337\" y1=\"424\" x2=\"337\" y2=\"75\"/>\n",
       "<line opacity=\"1\" stroke=\"#323232\" stroke-width=\"1\" x1=\"345\" y1=\"424\" x2=\"345\" y2=\"75\"/>\n",
       "<line opacity=\"1\" stroke=\"#323232\" stroke-width=\"1\" x1=\"354\" y1=\"424\" x2=\"354\" y2=\"75\"/>\n",
       "<line opacity=\"1\" stroke=\"#323232\" stroke-width=\"1\" x1=\"363\" y1=\"424\" x2=\"363\" y2=\"75\"/>\n",
       "<line opacity=\"1\" stroke=\"#323232\" stroke-width=\"1\" x1=\"372\" y1=\"424\" x2=\"372\" y2=\"75\"/>\n",
       "<line opacity=\"1\" stroke=\"#323232\" stroke-width=\"1\" x1=\"381\" y1=\"424\" x2=\"381\" y2=\"75\"/>\n",
       "<line opacity=\"1\" stroke=\"#323232\" stroke-width=\"1\" x1=\"390\" y1=\"424\" x2=\"390\" y2=\"75\"/>\n",
       "<line opacity=\"1\" stroke=\"#323232\" stroke-width=\"1\" x1=\"398\" y1=\"424\" x2=\"398\" y2=\"75\"/>\n",
       "<line opacity=\"1\" stroke=\"#323232\" stroke-width=\"1\" x1=\"407\" y1=\"424\" x2=\"407\" y2=\"75\"/>\n",
       "<line opacity=\"1\" stroke=\"#323232\" stroke-width=\"1\" x1=\"416\" y1=\"424\" x2=\"416\" y2=\"75\"/>\n",
       "<line opacity=\"1\" stroke=\"#323232\" stroke-width=\"1\" x1=\"425\" y1=\"424\" x2=\"425\" y2=\"75\"/>\n",
       "<line opacity=\"1\" stroke=\"#323232\" stroke-width=\"1\" x1=\"434\" y1=\"424\" x2=\"434\" y2=\"75\"/>\n",
       "<line opacity=\"1\" stroke=\"#323232\" stroke-width=\"1\" x1=\"442\" y1=\"424\" x2=\"442\" y2=\"75\"/>\n",
       "<line opacity=\"1\" stroke=\"#323232\" stroke-width=\"1\" x1=\"451\" y1=\"424\" x2=\"451\" y2=\"75\"/>\n",
       "<line opacity=\"1\" stroke=\"#323232\" stroke-width=\"1\" x1=\"460\" y1=\"424\" x2=\"460\" y2=\"75\"/>\n",
       "<line opacity=\"1\" stroke=\"#323232\" stroke-width=\"1\" x1=\"469\" y1=\"424\" x2=\"469\" y2=\"75\"/>\n",
       "<line opacity=\"1\" stroke=\"#323232\" stroke-width=\"1\" x1=\"478\" y1=\"424\" x2=\"478\" y2=\"75\"/>\n",
       "<line opacity=\"1\" stroke=\"#323232\" stroke-width=\"1\" x1=\"487\" y1=\"424\" x2=\"487\" y2=\"75\"/>\n",
       "<line opacity=\"1\" stroke=\"#323232\" stroke-width=\"1\" x1=\"495\" y1=\"424\" x2=\"495\" y2=\"75\"/>\n",
       "<line opacity=\"1\" stroke=\"#323232\" stroke-width=\"1\" x1=\"504\" y1=\"424\" x2=\"504\" y2=\"75\"/>\n",
       "<line opacity=\"1\" stroke=\"#323232\" stroke-width=\"1\" x1=\"513\" y1=\"424\" x2=\"513\" y2=\"75\"/>\n",
       "<line opacity=\"1\" stroke=\"#323232\" stroke-width=\"1\" x1=\"522\" y1=\"424\" x2=\"522\" y2=\"75\"/>\n",
       "<line opacity=\"1\" stroke=\"#323232\" stroke-width=\"1\" x1=\"531\" y1=\"424\" x2=\"531\" y2=\"75\"/>\n",
       "<line opacity=\"1\" stroke=\"#323232\" stroke-width=\"1\" x1=\"539\" y1=\"424\" x2=\"539\" y2=\"75\"/>\n",
       "<line opacity=\"1\" stroke=\"#323232\" stroke-width=\"1\" x1=\"548\" y1=\"424\" x2=\"548\" y2=\"75\"/>\n",
       "<line opacity=\"1\" stroke=\"#323232\" stroke-width=\"1\" x1=\"557\" y1=\"424\" x2=\"557\" y2=\"75\"/>\n",
       "<line opacity=\"1\" stroke=\"#323232\" stroke-width=\"1\" x1=\"566\" y1=\"424\" x2=\"566\" y2=\"75\"/>\n",
       "<line opacity=\"1\" stroke=\"#323232\" stroke-width=\"1\" x1=\"575\" y1=\"424\" x2=\"575\" y2=\"75\"/>\n",
       "<line opacity=\"1\" stroke=\"#323232\" stroke-width=\"1\" x1=\"584\" y1=\"424\" x2=\"584\" y2=\"75\"/>\n",
       "<line opacity=\"1\" stroke=\"#323232\" stroke-width=\"1\" x1=\"55\" y1=\"415\" x2=\"584\" y2=\"415\"/>\n",
       "<line opacity=\"1\" stroke=\"#323232\" stroke-width=\"1\" x1=\"55\" y1=\"401\" x2=\"584\" y2=\"401\"/>\n",
       "<line opacity=\"1\" stroke=\"#323232\" stroke-width=\"1\" x1=\"55\" y1=\"388\" x2=\"584\" y2=\"388\"/>\n",
       "<line opacity=\"1\" stroke=\"#323232\" stroke-width=\"1\" x1=\"55\" y1=\"374\" x2=\"584\" y2=\"374\"/>\n",
       "<line opacity=\"1\" stroke=\"#323232\" stroke-width=\"1\" x1=\"55\" y1=\"361\" x2=\"584\" y2=\"361\"/>\n",
       "<line opacity=\"1\" stroke=\"#323232\" stroke-width=\"1\" x1=\"55\" y1=\"347\" x2=\"584\" y2=\"347\"/>\n",
       "<line opacity=\"1\" stroke=\"#323232\" stroke-width=\"1\" x1=\"55\" y1=\"334\" x2=\"584\" y2=\"334\"/>\n",
       "<line opacity=\"1\" stroke=\"#323232\" stroke-width=\"1\" x1=\"55\" y1=\"320\" x2=\"584\" y2=\"320\"/>\n",
       "<line opacity=\"1\" stroke=\"#323232\" stroke-width=\"1\" x1=\"55\" y1=\"306\" x2=\"584\" y2=\"306\"/>\n",
       "<line opacity=\"1\" stroke=\"#323232\" stroke-width=\"1\" x1=\"55\" y1=\"293\" x2=\"584\" y2=\"293\"/>\n",
       "<line opacity=\"1\" stroke=\"#323232\" stroke-width=\"1\" x1=\"55\" y1=\"279\" x2=\"584\" y2=\"279\"/>\n",
       "<line opacity=\"1\" stroke=\"#323232\" stroke-width=\"1\" x1=\"55\" y1=\"266\" x2=\"584\" y2=\"266\"/>\n",
       "<line opacity=\"1\" stroke=\"#323232\" stroke-width=\"1\" x1=\"55\" y1=\"252\" x2=\"584\" y2=\"252\"/>\n",
       "<line opacity=\"1\" stroke=\"#323232\" stroke-width=\"1\" x1=\"55\" y1=\"238\" x2=\"584\" y2=\"238\"/>\n",
       "<line opacity=\"1\" stroke=\"#323232\" stroke-width=\"1\" x1=\"55\" y1=\"225\" x2=\"584\" y2=\"225\"/>\n",
       "<line opacity=\"1\" stroke=\"#323232\" stroke-width=\"1\" x1=\"55\" y1=\"211\" x2=\"584\" y2=\"211\"/>\n",
       "<line opacity=\"1\" stroke=\"#323232\" stroke-width=\"1\" x1=\"55\" y1=\"198\" x2=\"584\" y2=\"198\"/>\n",
       "<line opacity=\"1\" stroke=\"#323232\" stroke-width=\"1\" x1=\"55\" y1=\"184\" x2=\"584\" y2=\"184\"/>\n",
       "<line opacity=\"1\" stroke=\"#323232\" stroke-width=\"1\" x1=\"55\" y1=\"171\" x2=\"584\" y2=\"171\"/>\n",
       "<line opacity=\"1\" stroke=\"#323232\" stroke-width=\"1\" x1=\"55\" y1=\"157\" x2=\"584\" y2=\"157\"/>\n",
       "<line opacity=\"1\" stroke=\"#323232\" stroke-width=\"1\" x1=\"55\" y1=\"143\" x2=\"584\" y2=\"143\"/>\n",
       "<line opacity=\"1\" stroke=\"#323232\" stroke-width=\"1\" x1=\"55\" y1=\"130\" x2=\"584\" y2=\"130\"/>\n",
       "<line opacity=\"1\" stroke=\"#323232\" stroke-width=\"1\" x1=\"55\" y1=\"116\" x2=\"584\" y2=\"116\"/>\n",
       "<line opacity=\"1\" stroke=\"#323232\" stroke-width=\"1\" x1=\"55\" y1=\"103\" x2=\"584\" y2=\"103\"/>\n",
       "<line opacity=\"1\" stroke=\"#323232\" stroke-width=\"1\" x1=\"55\" y1=\"89\" x2=\"584\" y2=\"89\"/>\n",
       "<line opacity=\"1\" stroke=\"#323232\" stroke-width=\"1\" x1=\"55\" y1=\"75\" x2=\"584\" y2=\"75\"/>\n",
       "<text x=\"320\" y=\"25\" dy=\"0.76em\" text-anchor=\"middle\" font-family=\"sans-serif\" font-size=\"9.67741935483871\" opacity=\"1\" fill=\"#FFFFFF\">\n",
       "time (s)\n",
       "</text>\n",
       "<text x=\"5\" y=\"250\" dy=\"0.76em\" text-anchor=\"middle\" font-family=\"sans-serif\" font-size=\"9.67741935483871\" opacity=\"1\" fill=\"#FFFFFF\" transform=\"rotate(270, 5, 250)\">\n",
       "\n",
       "</text>\n",
       "<text x=\"320\" y=\"475\" dy=\"-0.5ex\" text-anchor=\"middle\" font-family=\"sans-serif\" font-size=\"9.67741935483871\" opacity=\"1\" fill=\"#FFFFFF\">\n",
       "time (s)\n",
       "</text>\n",
       "<text x=\"635\" y=\"250\" dy=\"0.76em\" text-anchor=\"middle\" font-family=\"sans-serif\" font-size=\"9.67741935483871\" opacity=\"1\" fill=\"#FFFFFF\" transform=\"rotate(90, 635, 250)\">\n",
       "\n",
       "</text>\n",
       "<line opacity=\"1\" stroke=\"#5A5A5A\" stroke-width=\"1\" x1=\"55\" y1=\"424\" x2=\"55\" y2=\"75\"/>\n",
       "<line opacity=\"1\" stroke=\"#5A5A5A\" stroke-width=\"1\" x1=\"90\" y1=\"424\" x2=\"90\" y2=\"75\"/>\n",
       "<line opacity=\"1\" stroke=\"#5A5A5A\" stroke-width=\"1\" x1=\"125\" y1=\"424\" x2=\"125\" y2=\"75\"/>\n",
       "<line opacity=\"1\" stroke=\"#5A5A5A\" stroke-width=\"1\" x1=\"160\" y1=\"424\" x2=\"160\" y2=\"75\"/>\n",
       "<line opacity=\"1\" stroke=\"#5A5A5A\" stroke-width=\"1\" x1=\"196\" y1=\"424\" x2=\"196\" y2=\"75\"/>\n",
       "<line opacity=\"1\" stroke=\"#5A5A5A\" stroke-width=\"1\" x1=\"231\" y1=\"424\" x2=\"231\" y2=\"75\"/>\n",
       "<line opacity=\"1\" stroke=\"#5A5A5A\" stroke-width=\"1\" x1=\"266\" y1=\"424\" x2=\"266\" y2=\"75\"/>\n",
       "<line opacity=\"1\" stroke=\"#5A5A5A\" stroke-width=\"1\" x1=\"301\" y1=\"424\" x2=\"301\" y2=\"75\"/>\n",
       "<line opacity=\"1\" stroke=\"#5A5A5A\" stroke-width=\"1\" x1=\"337\" y1=\"424\" x2=\"337\" y2=\"75\"/>\n",
       "<line opacity=\"1\" stroke=\"#5A5A5A\" stroke-width=\"1\" x1=\"372\" y1=\"424\" x2=\"372\" y2=\"75\"/>\n",
       "<line opacity=\"1\" stroke=\"#5A5A5A\" stroke-width=\"1\" x1=\"407\" y1=\"424\" x2=\"407\" y2=\"75\"/>\n",
       "<line opacity=\"1\" stroke=\"#5A5A5A\" stroke-width=\"1\" x1=\"442\" y1=\"424\" x2=\"442\" y2=\"75\"/>\n",
       "<line opacity=\"1\" stroke=\"#5A5A5A\" stroke-width=\"1\" x1=\"478\" y1=\"424\" x2=\"478\" y2=\"75\"/>\n",
       "<line opacity=\"1\" stroke=\"#5A5A5A\" stroke-width=\"1\" x1=\"513\" y1=\"424\" x2=\"513\" y2=\"75\"/>\n",
       "<line opacity=\"1\" stroke=\"#5A5A5A\" stroke-width=\"1\" x1=\"548\" y1=\"424\" x2=\"548\" y2=\"75\"/>\n",
       "<line opacity=\"1\" stroke=\"#5A5A5A\" stroke-width=\"1\" x1=\"55\" y1=\"415\" x2=\"584\" y2=\"415\"/>\n",
       "<line opacity=\"1\" stroke=\"#5A5A5A\" stroke-width=\"1\" x1=\"55\" y1=\"347\" x2=\"584\" y2=\"347\"/>\n",
       "<line opacity=\"1\" stroke=\"#5A5A5A\" stroke-width=\"1\" x1=\"55\" y1=\"279\" x2=\"584\" y2=\"279\"/>\n",
       "<line opacity=\"1\" stroke=\"#5A5A5A\" stroke-width=\"1\" x1=\"55\" y1=\"211\" x2=\"584\" y2=\"211\"/>\n",
       "<line opacity=\"1\" stroke=\"#5A5A5A\" stroke-width=\"1\" x1=\"55\" y1=\"143\" x2=\"584\" y2=\"143\"/>\n",
       "<line opacity=\"1\" stroke=\"#5A5A5A\" stroke-width=\"1\" x1=\"55\" y1=\"75\" x2=\"584\" y2=\"75\"/>\n",
       "<polyline fill=\"none\" opacity=\"1\" stroke=\"#FFFFFF\" stroke-width=\"1\" points=\"55,74 584,74 \"/>\n",
       "<text x=\"55\" y=\"65\" dy=\"-0.5ex\" text-anchor=\"middle\" font-family=\"sans-serif\" font-size=\"9.67741935483871\" opacity=\"1\" fill=\"#FFFFFF\">\n",
       "0.0\n",
       "</text>\n",
       "<polyline fill=\"none\" opacity=\"1\" stroke=\"#FFFFFF\" stroke-width=\"1\" points=\"55,69 55,74 \"/>\n",
       "<text x=\"90\" y=\"65\" dy=\"-0.5ex\" text-anchor=\"middle\" font-family=\"sans-serif\" font-size=\"9.67741935483871\" opacity=\"1\" fill=\"#FFFFFF\">\n",
       "0.2\n",
       "</text>\n",
       "<polyline fill=\"none\" opacity=\"1\" stroke=\"#FFFFFF\" stroke-width=\"1\" points=\"90,69 90,74 \"/>\n",
       "<text x=\"125\" y=\"65\" dy=\"-0.5ex\" text-anchor=\"middle\" font-family=\"sans-serif\" font-size=\"9.67741935483871\" opacity=\"1\" fill=\"#FFFFFF\">\n",
       "0.4\n",
       "</text>\n",
       "<polyline fill=\"none\" opacity=\"1\" stroke=\"#FFFFFF\" stroke-width=\"1\" points=\"125,69 125,74 \"/>\n",
       "<text x=\"160\" y=\"65\" dy=\"-0.5ex\" text-anchor=\"middle\" font-family=\"sans-serif\" font-size=\"9.67741935483871\" opacity=\"1\" fill=\"#FFFFFF\">\n",
       "0.6\n",
       "</text>\n",
       "<polyline fill=\"none\" opacity=\"1\" stroke=\"#FFFFFF\" stroke-width=\"1\" points=\"160,69 160,74 \"/>\n",
       "<text x=\"196\" y=\"65\" dy=\"-0.5ex\" text-anchor=\"middle\" font-family=\"sans-serif\" font-size=\"9.67741935483871\" opacity=\"1\" fill=\"#FFFFFF\">\n",
       "0.8\n",
       "</text>\n",
       "<polyline fill=\"none\" opacity=\"1\" stroke=\"#FFFFFF\" stroke-width=\"1\" points=\"196,69 196,74 \"/>\n",
       "<text x=\"231\" y=\"65\" dy=\"-0.5ex\" text-anchor=\"middle\" font-family=\"sans-serif\" font-size=\"9.67741935483871\" opacity=\"1\" fill=\"#FFFFFF\">\n",
       "1.0\n",
       "</text>\n",
       "<polyline fill=\"none\" opacity=\"1\" stroke=\"#FFFFFF\" stroke-width=\"1\" points=\"231,69 231,74 \"/>\n",
       "<text x=\"266\" y=\"65\" dy=\"-0.5ex\" text-anchor=\"middle\" font-family=\"sans-serif\" font-size=\"9.67741935483871\" opacity=\"1\" fill=\"#FFFFFF\">\n",
       "1.2\n",
       "</text>\n",
       "<polyline fill=\"none\" opacity=\"1\" stroke=\"#FFFFFF\" stroke-width=\"1\" points=\"266,69 266,74 \"/>\n",
       "<text x=\"301\" y=\"65\" dy=\"-0.5ex\" text-anchor=\"middle\" font-family=\"sans-serif\" font-size=\"9.67741935483871\" opacity=\"1\" fill=\"#FFFFFF\">\n",
       "1.4\n",
       "</text>\n",
       "<polyline fill=\"none\" opacity=\"1\" stroke=\"#FFFFFF\" stroke-width=\"1\" points=\"301,69 301,74 \"/>\n",
       "<text x=\"337\" y=\"65\" dy=\"-0.5ex\" text-anchor=\"middle\" font-family=\"sans-serif\" font-size=\"9.67741935483871\" opacity=\"1\" fill=\"#FFFFFF\">\n",
       "1.6\n",
       "</text>\n",
       "<polyline fill=\"none\" opacity=\"1\" stroke=\"#FFFFFF\" stroke-width=\"1\" points=\"337,69 337,74 \"/>\n",
       "<text x=\"372\" y=\"65\" dy=\"-0.5ex\" text-anchor=\"middle\" font-family=\"sans-serif\" font-size=\"9.67741935483871\" opacity=\"1\" fill=\"#FFFFFF\">\n",
       "1.8\n",
       "</text>\n",
       "<polyline fill=\"none\" opacity=\"1\" stroke=\"#FFFFFF\" stroke-width=\"1\" points=\"372,69 372,74 \"/>\n",
       "<text x=\"407\" y=\"65\" dy=\"-0.5ex\" text-anchor=\"middle\" font-family=\"sans-serif\" font-size=\"9.67741935483871\" opacity=\"1\" fill=\"#FFFFFF\">\n",
       "2.0\n",
       "</text>\n",
       "<polyline fill=\"none\" opacity=\"1\" stroke=\"#FFFFFF\" stroke-width=\"1\" points=\"407,69 407,74 \"/>\n",
       "<text x=\"442\" y=\"65\" dy=\"-0.5ex\" text-anchor=\"middle\" font-family=\"sans-serif\" font-size=\"9.67741935483871\" opacity=\"1\" fill=\"#FFFFFF\">\n",
       "2.2\n",
       "</text>\n",
       "<polyline fill=\"none\" opacity=\"1\" stroke=\"#FFFFFF\" stroke-width=\"1\" points=\"442,69 442,74 \"/>\n",
       "<text x=\"478\" y=\"65\" dy=\"-0.5ex\" text-anchor=\"middle\" font-family=\"sans-serif\" font-size=\"9.67741935483871\" opacity=\"1\" fill=\"#FFFFFF\">\n",
       "2.4\n",
       "</text>\n",
       "<polyline fill=\"none\" opacity=\"1\" stroke=\"#FFFFFF\" stroke-width=\"1\" points=\"478,69 478,74 \"/>\n",
       "<text x=\"513\" y=\"65\" dy=\"-0.5ex\" text-anchor=\"middle\" font-family=\"sans-serif\" font-size=\"9.67741935483871\" opacity=\"1\" fill=\"#FFFFFF\">\n",
       "2.6\n",
       "</text>\n",
       "<polyline fill=\"none\" opacity=\"1\" stroke=\"#FFFFFF\" stroke-width=\"1\" points=\"513,69 513,74 \"/>\n",
       "<text x=\"548\" y=\"65\" dy=\"-0.5ex\" text-anchor=\"middle\" font-family=\"sans-serif\" font-size=\"9.67741935483871\" opacity=\"1\" fill=\"#FFFFFF\">\n",
       "2.8\n",
       "</text>\n",
       "<polyline fill=\"none\" opacity=\"1\" stroke=\"#FFFFFF\" stroke-width=\"1\" points=\"548,69 548,74 \"/>\n",
       "<polyline fill=\"none\" opacity=\"1\" stroke=\"#FFFFFF\" stroke-width=\"1\" points=\"54,75 54,424 \"/>\n",
       "<text x=\"45\" y=\"415\" dy=\"0.5ex\" text-anchor=\"end\" font-family=\"sans-serif\" font-size=\"9.67741935483871\" opacity=\"1\" fill=\"#FFFFFF\">\n",
       "-0.2\n",
       "</text>\n",
       "<polyline fill=\"none\" opacity=\"1\" stroke=\"#FFFFFF\" stroke-width=\"1\" points=\"49,415 54,415 \"/>\n",
       "<text x=\"45\" y=\"347\" dy=\"0.5ex\" text-anchor=\"end\" font-family=\"sans-serif\" font-size=\"9.67741935483871\" opacity=\"1\" fill=\"#FFFFFF\">\n",
       "-0.1\n",
       "</text>\n",
       "<polyline fill=\"none\" opacity=\"1\" stroke=\"#FFFFFF\" stroke-width=\"1\" points=\"49,347 54,347 \"/>\n",
       "<text x=\"45\" y=\"279\" dy=\"0.5ex\" text-anchor=\"end\" font-family=\"sans-serif\" font-size=\"9.67741935483871\" opacity=\"1\" fill=\"#FFFFFF\">\n",
       "-0.1\n",
       "</text>\n",
       "<polyline fill=\"none\" opacity=\"1\" stroke=\"#FFFFFF\" stroke-width=\"1\" points=\"49,279 54,279 \"/>\n",
       "<text x=\"45\" y=\"211\" dy=\"0.5ex\" text-anchor=\"end\" font-family=\"sans-serif\" font-size=\"9.67741935483871\" opacity=\"1\" fill=\"#FFFFFF\">\n",
       "-0.0\n",
       "</text>\n",
       "<polyline fill=\"none\" opacity=\"1\" stroke=\"#FFFFFF\" stroke-width=\"1\" points=\"49,211 54,211 \"/>\n",
       "<text x=\"45\" y=\"143\" dy=\"0.5ex\" text-anchor=\"end\" font-family=\"sans-serif\" font-size=\"9.67741935483871\" opacity=\"1\" fill=\"#FFFFFF\">\n",
       "0.1\n",
       "</text>\n",
       "<polyline fill=\"none\" opacity=\"1\" stroke=\"#FFFFFF\" stroke-width=\"1\" points=\"49,143 54,143 \"/>\n",
       "<text x=\"45\" y=\"75\" dy=\"0.5ex\" text-anchor=\"end\" font-family=\"sans-serif\" font-size=\"9.67741935483871\" opacity=\"1\" fill=\"#FFFFFF\">\n",
       "0.1\n",
       "</text>\n",
       "<polyline fill=\"none\" opacity=\"1\" stroke=\"#FFFFFF\" stroke-width=\"1\" points=\"49,75 54,75 \"/>\n",
       "<polyline fill=\"none\" opacity=\"1\" stroke=\"#FFFFFF\" stroke-width=\"1\" points=\"55,425 584,425 \"/>\n",
       "<text x=\"55\" y=\"435\" dy=\"0.76em\" text-anchor=\"middle\" font-family=\"sans-serif\" font-size=\"9.67741935483871\" opacity=\"1\" fill=\"#FFFFFF\">\n",
       "0.0\n",
       "</text>\n",
       "<polyline fill=\"none\" opacity=\"1\" stroke=\"#FFFFFF\" stroke-width=\"1\" points=\"55,425 55,430 \"/>\n",
       "<text x=\"90\" y=\"435\" dy=\"0.76em\" text-anchor=\"middle\" font-family=\"sans-serif\" font-size=\"9.67741935483871\" opacity=\"1\" fill=\"#FFFFFF\">\n",
       "0.2\n",
       "</text>\n",
       "<polyline fill=\"none\" opacity=\"1\" stroke=\"#FFFFFF\" stroke-width=\"1\" points=\"90,425 90,430 \"/>\n",
       "<text x=\"125\" y=\"435\" dy=\"0.76em\" text-anchor=\"middle\" font-family=\"sans-serif\" font-size=\"9.67741935483871\" opacity=\"1\" fill=\"#FFFFFF\">\n",
       "0.4\n",
       "</text>\n",
       "<polyline fill=\"none\" opacity=\"1\" stroke=\"#FFFFFF\" stroke-width=\"1\" points=\"125,425 125,430 \"/>\n",
       "<text x=\"160\" y=\"435\" dy=\"0.76em\" text-anchor=\"middle\" font-family=\"sans-serif\" font-size=\"9.67741935483871\" opacity=\"1\" fill=\"#FFFFFF\">\n",
       "0.6\n",
       "</text>\n",
       "<polyline fill=\"none\" opacity=\"1\" stroke=\"#FFFFFF\" stroke-width=\"1\" points=\"160,425 160,430 \"/>\n",
       "<text x=\"196\" y=\"435\" dy=\"0.76em\" text-anchor=\"middle\" font-family=\"sans-serif\" font-size=\"9.67741935483871\" opacity=\"1\" fill=\"#FFFFFF\">\n",
       "0.8\n",
       "</text>\n",
       "<polyline fill=\"none\" opacity=\"1\" stroke=\"#FFFFFF\" stroke-width=\"1\" points=\"196,425 196,430 \"/>\n",
       "<text x=\"231\" y=\"435\" dy=\"0.76em\" text-anchor=\"middle\" font-family=\"sans-serif\" font-size=\"9.67741935483871\" opacity=\"1\" fill=\"#FFFFFF\">\n",
       "1.0\n",
       "</text>\n",
       "<polyline fill=\"none\" opacity=\"1\" stroke=\"#FFFFFF\" stroke-width=\"1\" points=\"231,425 231,430 \"/>\n",
       "<text x=\"266\" y=\"435\" dy=\"0.76em\" text-anchor=\"middle\" font-family=\"sans-serif\" font-size=\"9.67741935483871\" opacity=\"1\" fill=\"#FFFFFF\">\n",
       "1.2\n",
       "</text>\n",
       "<polyline fill=\"none\" opacity=\"1\" stroke=\"#FFFFFF\" stroke-width=\"1\" points=\"266,425 266,430 \"/>\n",
       "<text x=\"301\" y=\"435\" dy=\"0.76em\" text-anchor=\"middle\" font-family=\"sans-serif\" font-size=\"9.67741935483871\" opacity=\"1\" fill=\"#FFFFFF\">\n",
       "1.4\n",
       "</text>\n",
       "<polyline fill=\"none\" opacity=\"1\" stroke=\"#FFFFFF\" stroke-width=\"1\" points=\"301,425 301,430 \"/>\n",
       "<text x=\"337\" y=\"435\" dy=\"0.76em\" text-anchor=\"middle\" font-family=\"sans-serif\" font-size=\"9.67741935483871\" opacity=\"1\" fill=\"#FFFFFF\">\n",
       "1.6\n",
       "</text>\n",
       "<polyline fill=\"none\" opacity=\"1\" stroke=\"#FFFFFF\" stroke-width=\"1\" points=\"337,425 337,430 \"/>\n",
       "<text x=\"372\" y=\"435\" dy=\"0.76em\" text-anchor=\"middle\" font-family=\"sans-serif\" font-size=\"9.67741935483871\" opacity=\"1\" fill=\"#FFFFFF\">\n",
       "1.8\n",
       "</text>\n",
       "<polyline fill=\"none\" opacity=\"1\" stroke=\"#FFFFFF\" stroke-width=\"1\" points=\"372,425 372,430 \"/>\n",
       "<text x=\"407\" y=\"435\" dy=\"0.76em\" text-anchor=\"middle\" font-family=\"sans-serif\" font-size=\"9.67741935483871\" opacity=\"1\" fill=\"#FFFFFF\">\n",
       "2.0\n",
       "</text>\n",
       "<polyline fill=\"none\" opacity=\"1\" stroke=\"#FFFFFF\" stroke-width=\"1\" points=\"407,425 407,430 \"/>\n",
       "<text x=\"442\" y=\"435\" dy=\"0.76em\" text-anchor=\"middle\" font-family=\"sans-serif\" font-size=\"9.67741935483871\" opacity=\"1\" fill=\"#FFFFFF\">\n",
       "2.2\n",
       "</text>\n",
       "<polyline fill=\"none\" opacity=\"1\" stroke=\"#FFFFFF\" stroke-width=\"1\" points=\"442,425 442,430 \"/>\n",
       "<text x=\"478\" y=\"435\" dy=\"0.76em\" text-anchor=\"middle\" font-family=\"sans-serif\" font-size=\"9.67741935483871\" opacity=\"1\" fill=\"#FFFFFF\">\n",
       "2.4\n",
       "</text>\n",
       "<polyline fill=\"none\" opacity=\"1\" stroke=\"#FFFFFF\" stroke-width=\"1\" points=\"478,425 478,430 \"/>\n",
       "<text x=\"513\" y=\"435\" dy=\"0.76em\" text-anchor=\"middle\" font-family=\"sans-serif\" font-size=\"9.67741935483871\" opacity=\"1\" fill=\"#FFFFFF\">\n",
       "2.6\n",
       "</text>\n",
       "<polyline fill=\"none\" opacity=\"1\" stroke=\"#FFFFFF\" stroke-width=\"1\" points=\"513,425 513,430 \"/>\n",
       "<text x=\"548\" y=\"435\" dy=\"0.76em\" text-anchor=\"middle\" font-family=\"sans-serif\" font-size=\"9.67741935483871\" opacity=\"1\" fill=\"#FFFFFF\">\n",
       "2.8\n",
       "</text>\n",
       "<polyline fill=\"none\" opacity=\"1\" stroke=\"#FFFFFF\" stroke-width=\"1\" points=\"548,425 548,430 \"/>\n",
       "<polyline fill=\"none\" opacity=\"1\" stroke=\"#FFFFFF\" stroke-width=\"1\" points=\"585,75 585,424 \"/>\n",
       "<text x=\"595\" y=\"415\" dy=\"0.5ex\" text-anchor=\"start\" font-family=\"sans-serif\" font-size=\"9.67741935483871\" opacity=\"1\" fill=\"#FFFFFF\">\n",
       "-0.2\n",
       "</text>\n",
       "<polyline fill=\"none\" opacity=\"1\" stroke=\"#FFFFFF\" stroke-width=\"1\" points=\"585,415 590,415 \"/>\n",
       "<text x=\"595\" y=\"347\" dy=\"0.5ex\" text-anchor=\"start\" font-family=\"sans-serif\" font-size=\"9.67741935483871\" opacity=\"1\" fill=\"#FFFFFF\">\n",
       "-0.1\n",
       "</text>\n",
       "<polyline fill=\"none\" opacity=\"1\" stroke=\"#FFFFFF\" stroke-width=\"1\" points=\"585,347 590,347 \"/>\n",
       "<text x=\"595\" y=\"279\" dy=\"0.5ex\" text-anchor=\"start\" font-family=\"sans-serif\" font-size=\"9.67741935483871\" opacity=\"1\" fill=\"#FFFFFF\">\n",
       "-0.1\n",
       "</text>\n",
       "<polyline fill=\"none\" opacity=\"1\" stroke=\"#FFFFFF\" stroke-width=\"1\" points=\"585,279 590,279 \"/>\n",
       "<text x=\"595\" y=\"211\" dy=\"0.5ex\" text-anchor=\"start\" font-family=\"sans-serif\" font-size=\"9.67741935483871\" opacity=\"1\" fill=\"#FFFFFF\">\n",
       "-0.0\n",
       "</text>\n",
       "<polyline fill=\"none\" opacity=\"1\" stroke=\"#FFFFFF\" stroke-width=\"1\" points=\"585,211 590,211 \"/>\n",
       "<text x=\"617\" y=\"143\" dy=\"0.5ex\" text-anchor=\"end\" font-family=\"sans-serif\" font-size=\"9.67741935483871\" opacity=\"1\" fill=\"#FFFFFF\">\n",
       "0.1\n",
       "</text>\n",
       "<polyline fill=\"none\" opacity=\"1\" stroke=\"#FFFFFF\" stroke-width=\"1\" points=\"585,143 590,143 \"/>\n",
       "<text x=\"617\" y=\"75\" dy=\"0.5ex\" text-anchor=\"end\" font-family=\"sans-serif\" font-size=\"9.67741935483871\" opacity=\"1\" fill=\"#FFFFFF\">\n",
       "0.1\n",
       "</text>\n",
       "<polyline fill=\"none\" opacity=\"1\" stroke=\"#FFFFFF\" stroke-width=\"1\" points=\"585,75 590,75 \"/>\n",
       "<polyline fill=\"none\" opacity=\"1\" stroke=\"#FF0000\" stroke-width=\"1\" points=\"55,75 56,78 58,86 60,98 62,116 63,137 65,162 67,189 69,218 70,248 72,278 74,307 76,334 77,359 79,380 81,398 83,412 84,420 86,424 88,424 90,418 92,407 93,392 95,373 97,350 99,326 100,299 102,271 104,243 106,215 107,189 109,166 111,145 113,127 114,113 116,104 118,99 120,99 122,103 123,112 125,125 127,142 129,162 130,185 132,210 134,236 136,262 137,288 139,313 141,336 143,357 144,374 146,388 148,398 150,404 151,405 153,402 155,395 157,383 159,368 160,350 162,329 164,306 166,282 167,257 169,232 171,208 173,186 174,166 176,149 178,134 180,124 181,118 183,115 185,117 187,123 189,133 190,146 192,163 194,182 196,204 197,226 199,250 201,274 203,297 204,318 206,338 208,355 210,369 211,380 213,387 215,390 217,390 218,385 220,377 222,365 224,349 226,332 227,312 229,290 231,268 233,245 234,223 236,202 238,183 240,166 241,152 243,141 245,133 247,129 248,128 250,132 252,139 254,150 256,163 257,180 259,198 261,219 263,240 264,261 266,283 268,303 270,322 271,339 273,353 275,365 277,373 278,378 280,379 282,377 284,371 285,361 287,349 289,334 291,316 293,297 294,277 296,256 298,236 300,216 301,198 303,181 305,166 307,155 308,146 310,140 312,138 314,140 315,145 317,153 319,164 321,178 323,194 324,212 326,231 328,251 330,271 331,290 333,308 335,325 337,340 338,352 340,361 342,367 344,370 345,369 347,365 349,358 351,348 353,335 354,320 356,303 358,285 360,266 361,247 363,228 365,210 367,194 368,179 370,167 372,157 374,151 375,147 377,147 379,150 381,156 382,165 384,177 386,191 388,207 390,224 391,242 393,261 395,279 397,297 398,313 400,327 402,340 404,350 405,357 407,361 409,362 411,360 412,355 414,347 416,336 418,323 420,308 421,292 423,274 425,256 427,239 428,221 430,205 432,191 434,178 435,168 437,160 439,155 441,154 442,155 444,159 446,166 448,176 449,188 451,202 453,218 455,235 457,252 458,269 460,286 462,302 464,317 465,329 467,340 469,348 471,353 472,356 474,355 476,352 478,346 479,337 481,326 483,312 485,298 487,282 488,265 490,248 492,231 494,216 495,201 497,188 499,177 501,169 502,163 504,160 506,160 508,162 509,168 511,175 513,186 515,198 516,212 518,228 520,244 522,260 524,277 525,292 527,307 529,320 531,331 532,340 534,346 536,350 538,351 539,349 541,344 543,337 545,328 546,316 548,303 550,288 552,272 554,256 555,240 557,225 559,211 561,197 562,186 564,177 566,170 568,166 569,164 571,165 573,169 575,175 576,184 578,195 580,208 582,222 584,237 \"/>\n",
       "<rect x=\"464\" y=\"235\" width=\"116\" height=\"30\" opacity=\"1\" fill=\"none\" stroke=\"#FFFFFF\"/>\n",
       "<text x=\"504\" y=\"245\" dy=\"0.76em\" text-anchor=\"start\" font-family=\"sans-serif\" font-size=\"9.67741935483871\" opacity=\"1\" fill=\"#FFFFFF\">\n",
       "position (m)\n",
       "</text>\n",
       "<polyline fill=\"none\" opacity=\"1\" stroke=\"#FF0000\" stroke-width=\"1\" points=\"474,250 494,250 \"/>\n",
       "</svg>\n"
      ]
     },
     "metadata": {},
     "output_type": "display_data"
    },
    {
     "name": "stdout",
     "output_type": "stream",
     "text": [
      "type Mut0 = {mutable l0 : int32}\n",
      "let rec method1 (v0 : Mut0) : bool =\n",
      "    let v1 : int32 = v0.l0\n",
      "    let v2 : bool = v1 < 301\n",
      "    v2\n",
      "and method2 (v0 : int32, v1 : Mut0) : bool =\n",
      "    let v2 : int32 = v1.l0\n",
      "    let v3 : bool = v2 < v0\n",
      "    v3\n",
      "and method3 (v0 : float, v1 : float, v2 : float, v3 : float) : struct (float * float * float) =\n",
      "    let v4 : bool = v3 <= 0.0\n",
      "    if v4 then\n",
      "        struct (v0, v1, v2)\n",
      "    else\n",
      "        let v5 : float =  -v2\n",
      "        let v6 : bool = v2 >= v5\n",
      "        let v7 : float =\n",
      "            if v6 then\n",
      "                v2\n",
      "            else\n",
      "                v5\n",
      "        let v8 : float = -0.0030787608005179976 * v7\n",
      "        let v9 : float = v8 * v2\n",
      "        let v10 : float = v9 / 2.0\n",
      "        let v11 : float = -0.8 * v1\n",
      "        let v12 : float = v11 + v10\n",
      "        let v13 : float = v12 + -0.026477955\n",
      "        let v14 : float = v13 / 0.0027\n",
      "        let v15 : float = v0 + 0.001\n",
      "        let v16 : float = v2 * 0.001\n",
      "        let v17 : float = v1 + v16\n",
      "        let v18 : float = v14 * 0.001\n",
      "        let v19 : float = v2 + v18\n",
      "        let v20 : float = v3 - 1.0\n",
      "        method3(v15, v17, v19, v20)\n",
      "and method0 () : struct (string * string * (float []) * string * (struct (string * (float [])) [])) =\n",
      "    let v0 : (float []) = Array.zeroCreate<float> (301)\n",
      "    let v1 : Mut0 = {l0 = 0} : Mut0\n",
      "    while method1(v1) do\n",
      "        let v3 : int32 = v1.l0\n",
      "        let v4 : float = float v3\n",
      "        let v5 : float = 0.01 * v4\n",
      "        v0.[int v3] <- v5\n",
      "        let v6 : int32 = v3 + 1\n",
      "        v1.l0 <- v6\n",
      "        ()\n",
      "    let v7 : int32 = v0.Length\n",
      "    let v8 : (float []) = Array.zeroCreate<float> (v7)\n",
      "    let v9 : Mut0 = {l0 = 0} : Mut0\n",
      "    while method2(v7, v9) do\n",
      "        let v11 : int32 = v9.l0\n",
      "        let v12 : float = v0.[int v11]\n",
      "        let v13 : float = 0.0\n",
      "        let v14 : float = 0.1\n",
      "        let v15 : float = 0.0\n",
      "        let v16 : float = 0.0\n",
      "        let struct (v17 : float, v18 : float, v19 : float) = method3(v13, v14, v15, v16)\n",
      "        let v20 : float = 0.0\n",
      "        let v21 : float = 0.1\n",
      "        let v22 : float = 0.0\n",
      "        let v23 : float = 1.0\n",
      "        let struct (v24 : float, v25 : float, v26 : float) = method3(v20, v21, v22, v23)\n",
      "        let v27 : float = v24 - v17\n",
      "        let v28 : float = v12 / v27\n",
      "        let v29 : float = round v28\n",
      "        let v30 : float =  -v29\n",
      "        let v31 : bool = v29 >= v30\n",
      "        let v32 : float =\n",
      "            if v31 then\n",
      "                v29\n",
      "            else\n",
      "                v30\n",
      "        let v33 : float = 0.0\n",
      "        let v34 : float = 0.1\n",
      "        let v35 : float = 0.0\n",
      "        let struct (v36 : float, v37 : float, v38 : float) = method3(v33, v34, v35, v32)\n",
      "        v8.[int v11] <- v37\n",
      "        let v39 : int32 = v11 + 1\n",
      "        v9.l0 <- v39\n",
      "        ()\n",
      "    let v40 : string = \"position (m)\"\n",
      "    let v41 : (struct (string * (float [])) []) = [|struct (v40, v8)|]\n",
      "    let v42 : string = \"ping pong ball on a slinky\"\n",
      "    let v43 : string = \"time (s)\"\n",
      "    let v44 : string = \"\"\n",
      "    struct (v42, v43, v0, v44, v41)\n",
      "method0()\n",
      "\r\n"
     ]
    }
   ],
   "source": [
    "// // test\n",
    "\n",
    "inl damped_ho_forces () =\n",
    "    [\n",
    "        spring_force 0.8\n",
    "        fun (state_1d (_, _, v0)) => f_air 2 1.225 (pi * square 0.02) v0\n",
    "        fun _ => -0.0027 * 9.80665\n",
    "    ]\n",
    "    \n",
    "inl damped_ho_states () =\n",
    "    states_txv 0.001 0.0027 (state_1d (0, 0.1, 0)) (damped_ho_forces ())\n",
    "    \n",
    "inl pingpong_position t =\n",
    "    position_ftxv 0.001 0.0027 (state_1d (0, 0.1, 0)) (damped_ho_forces ()) t\n",
    "\n",
    "inl x : a _ f64 = init_series 0 3 0.01\n",
    "inl y = x |> am.map pingpong_position\n",
    "\"ping pong ball on a slinky\", \"time (s)\", x, \"\", ;[\"position (m)\", y]"
   ]
  },
  {
   "cell_type": "code",
   "execution_count": null,
   "metadata": {
    "dotnet_interactive": {
     "language": "spiral"
    },
    "polyglot_notebook": {
     "kernelName": "spiral"
    }
   },
   "outputs": [
    {
     "data": {
      "text/html": [
       "<svg width=\"640\" height=\"480\" viewBox=\"0 0 640 480\" xmlns=\"http://www.w3.org/2000/svg\">\n",
       "<rect x=\"0\" y=\"0\" width=\"640\" height=\"480\" opacity=\"1\" fill=\"#141414\" stroke=\"none\"/>\n",
       "<text x=\"320\" y=\"10\" dy=\"0.76em\" text-anchor=\"middle\" font-family=\"sans-serif\" font-size=\"9.67741935483871\" opacity=\"1\" fill=\"#FFFFFF\">\n",
       "ping pong ball on a slinky\n",
       "</text>\n",
       "<line opacity=\"1\" stroke=\"#323232\" stroke-width=\"1\" x1=\"55\" y1=\"424\" x2=\"55\" y2=\"75\"/>\n",
       "<line opacity=\"1\" stroke=\"#323232\" stroke-width=\"1\" x1=\"63\" y1=\"424\" x2=\"63\" y2=\"75\"/>\n",
       "<line opacity=\"1\" stroke=\"#323232\" stroke-width=\"1\" x1=\"72\" y1=\"424\" x2=\"72\" y2=\"75\"/>\n",
       "<line opacity=\"1\" stroke=\"#323232\" stroke-width=\"1\" x1=\"81\" y1=\"424\" x2=\"81\" y2=\"75\"/>\n",
       "<line opacity=\"1\" stroke=\"#323232\" stroke-width=\"1\" x1=\"90\" y1=\"424\" x2=\"90\" y2=\"75\"/>\n",
       "<line opacity=\"1\" stroke=\"#323232\" stroke-width=\"1\" x1=\"99\" y1=\"424\" x2=\"99\" y2=\"75\"/>\n",
       "<line opacity=\"1\" stroke=\"#323232\" stroke-width=\"1\" x1=\"107\" y1=\"424\" x2=\"107\" y2=\"75\"/>\n",
       "<line opacity=\"1\" stroke=\"#323232\" stroke-width=\"1\" x1=\"116\" y1=\"424\" x2=\"116\" y2=\"75\"/>\n",
       "<line opacity=\"1\" stroke=\"#323232\" stroke-width=\"1\" x1=\"125\" y1=\"424\" x2=\"125\" y2=\"75\"/>\n",
       "<line opacity=\"1\" stroke=\"#323232\" stroke-width=\"1\" x1=\"134\" y1=\"424\" x2=\"134\" y2=\"75\"/>\n",
       "<line opacity=\"1\" stroke=\"#323232\" stroke-width=\"1\" x1=\"143\" y1=\"424\" x2=\"143\" y2=\"75\"/>\n",
       "<line opacity=\"1\" stroke=\"#323232\" stroke-width=\"1\" x1=\"151\" y1=\"424\" x2=\"151\" y2=\"75\"/>\n",
       "<line opacity=\"1\" stroke=\"#323232\" stroke-width=\"1\" x1=\"160\" y1=\"424\" x2=\"160\" y2=\"75\"/>\n",
       "<line opacity=\"1\" stroke=\"#323232\" stroke-width=\"1\" x1=\"169\" y1=\"424\" x2=\"169\" y2=\"75\"/>\n",
       "<line opacity=\"1\" stroke=\"#323232\" stroke-width=\"1\" x1=\"178\" y1=\"424\" x2=\"178\" y2=\"75\"/>\n",
       "<line opacity=\"1\" stroke=\"#323232\" stroke-width=\"1\" x1=\"187\" y1=\"424\" x2=\"187\" y2=\"75\"/>\n",
       "<line opacity=\"1\" stroke=\"#323232\" stroke-width=\"1\" x1=\"196\" y1=\"424\" x2=\"196\" y2=\"75\"/>\n",
       "<line opacity=\"1\" stroke=\"#323232\" stroke-width=\"1\" x1=\"204\" y1=\"424\" x2=\"204\" y2=\"75\"/>\n",
       "<line opacity=\"1\" stroke=\"#323232\" stroke-width=\"1\" x1=\"213\" y1=\"424\" x2=\"213\" y2=\"75\"/>\n",
       "<line opacity=\"1\" stroke=\"#323232\" stroke-width=\"1\" x1=\"222\" y1=\"424\" x2=\"222\" y2=\"75\"/>\n",
       "<line opacity=\"1\" stroke=\"#323232\" stroke-width=\"1\" x1=\"231\" y1=\"424\" x2=\"231\" y2=\"75\"/>\n",
       "<line opacity=\"1\" stroke=\"#323232\" stroke-width=\"1\" x1=\"240\" y1=\"424\" x2=\"240\" y2=\"75\"/>\n",
       "<line opacity=\"1\" stroke=\"#323232\" stroke-width=\"1\" x1=\"248\" y1=\"424\" x2=\"248\" y2=\"75\"/>\n",
       "<line opacity=\"1\" stroke=\"#323232\" stroke-width=\"1\" x1=\"257\" y1=\"424\" x2=\"257\" y2=\"75\"/>\n",
       "<line opacity=\"1\" stroke=\"#323232\" stroke-width=\"1\" x1=\"266\" y1=\"424\" x2=\"266\" y2=\"75\"/>\n",
       "<line opacity=\"1\" stroke=\"#323232\" stroke-width=\"1\" x1=\"275\" y1=\"424\" x2=\"275\" y2=\"75\"/>\n",
       "<line opacity=\"1\" stroke=\"#323232\" stroke-width=\"1\" x1=\"284\" y1=\"424\" x2=\"284\" y2=\"75\"/>\n",
       "<line opacity=\"1\" stroke=\"#323232\" stroke-width=\"1\" x1=\"293\" y1=\"424\" x2=\"293\" y2=\"75\"/>\n",
       "<line opacity=\"1\" stroke=\"#323232\" stroke-width=\"1\" x1=\"301\" y1=\"424\" x2=\"301\" y2=\"75\"/>\n",
       "<line opacity=\"1\" stroke=\"#323232\" stroke-width=\"1\" x1=\"310\" y1=\"424\" x2=\"310\" y2=\"75\"/>\n",
       "<line opacity=\"1\" stroke=\"#323232\" stroke-width=\"1\" x1=\"319\" y1=\"424\" x2=\"319\" y2=\"75\"/>\n",
       "<line opacity=\"1\" stroke=\"#323232\" stroke-width=\"1\" x1=\"328\" y1=\"424\" x2=\"328\" y2=\"75\"/>\n",
       "<line opacity=\"1\" stroke=\"#323232\" stroke-width=\"1\" x1=\"337\" y1=\"424\" x2=\"337\" y2=\"75\"/>\n",
       "<line opacity=\"1\" stroke=\"#323232\" stroke-width=\"1\" x1=\"345\" y1=\"424\" x2=\"345\" y2=\"75\"/>\n",
       "<line opacity=\"1\" stroke=\"#323232\" stroke-width=\"1\" x1=\"354\" y1=\"424\" x2=\"354\" y2=\"75\"/>\n",
       "<line opacity=\"1\" stroke=\"#323232\" stroke-width=\"1\" x1=\"363\" y1=\"424\" x2=\"363\" y2=\"75\"/>\n",
       "<line opacity=\"1\" stroke=\"#323232\" stroke-width=\"1\" x1=\"372\" y1=\"424\" x2=\"372\" y2=\"75\"/>\n",
       "<line opacity=\"1\" stroke=\"#323232\" stroke-width=\"1\" x1=\"381\" y1=\"424\" x2=\"381\" y2=\"75\"/>\n",
       "<line opacity=\"1\" stroke=\"#323232\" stroke-width=\"1\" x1=\"390\" y1=\"424\" x2=\"390\" y2=\"75\"/>\n",
       "<line opacity=\"1\" stroke=\"#323232\" stroke-width=\"1\" x1=\"398\" y1=\"424\" x2=\"398\" y2=\"75\"/>\n",
       "<line opacity=\"1\" stroke=\"#323232\" stroke-width=\"1\" x1=\"407\" y1=\"424\" x2=\"407\" y2=\"75\"/>\n",
       "<line opacity=\"1\" stroke=\"#323232\" stroke-width=\"1\" x1=\"416\" y1=\"424\" x2=\"416\" y2=\"75\"/>\n",
       "<line opacity=\"1\" stroke=\"#323232\" stroke-width=\"1\" x1=\"425\" y1=\"424\" x2=\"425\" y2=\"75\"/>\n",
       "<line opacity=\"1\" stroke=\"#323232\" stroke-width=\"1\" x1=\"434\" y1=\"424\" x2=\"434\" y2=\"75\"/>\n",
       "<line opacity=\"1\" stroke=\"#323232\" stroke-width=\"1\" x1=\"442\" y1=\"424\" x2=\"442\" y2=\"75\"/>\n",
       "<line opacity=\"1\" stroke=\"#323232\" stroke-width=\"1\" x1=\"451\" y1=\"424\" x2=\"451\" y2=\"75\"/>\n",
       "<line opacity=\"1\" stroke=\"#323232\" stroke-width=\"1\" x1=\"460\" y1=\"424\" x2=\"460\" y2=\"75\"/>\n",
       "<line opacity=\"1\" stroke=\"#323232\" stroke-width=\"1\" x1=\"469\" y1=\"424\" x2=\"469\" y2=\"75\"/>\n",
       "<line opacity=\"1\" stroke=\"#323232\" stroke-width=\"1\" x1=\"478\" y1=\"424\" x2=\"478\" y2=\"75\"/>\n",
       "<line opacity=\"1\" stroke=\"#323232\" stroke-width=\"1\" x1=\"487\" y1=\"424\" x2=\"487\" y2=\"75\"/>\n",
       "<line opacity=\"1\" stroke=\"#323232\" stroke-width=\"1\" x1=\"495\" y1=\"424\" x2=\"495\" y2=\"75\"/>\n",
       "<line opacity=\"1\" stroke=\"#323232\" stroke-width=\"1\" x1=\"504\" y1=\"424\" x2=\"504\" y2=\"75\"/>\n",
       "<line opacity=\"1\" stroke=\"#323232\" stroke-width=\"1\" x1=\"513\" y1=\"424\" x2=\"513\" y2=\"75\"/>\n",
       "<line opacity=\"1\" stroke=\"#323232\" stroke-width=\"1\" x1=\"522\" y1=\"424\" x2=\"522\" y2=\"75\"/>\n",
       "<line opacity=\"1\" stroke=\"#323232\" stroke-width=\"1\" x1=\"531\" y1=\"424\" x2=\"531\" y2=\"75\"/>\n",
       "<line opacity=\"1\" stroke=\"#323232\" stroke-width=\"1\" x1=\"539\" y1=\"424\" x2=\"539\" y2=\"75\"/>\n",
       "<line opacity=\"1\" stroke=\"#323232\" stroke-width=\"1\" x1=\"548\" y1=\"424\" x2=\"548\" y2=\"75\"/>\n",
       "<line opacity=\"1\" stroke=\"#323232\" stroke-width=\"1\" x1=\"557\" y1=\"424\" x2=\"557\" y2=\"75\"/>\n",
       "<line opacity=\"1\" stroke=\"#323232\" stroke-width=\"1\" x1=\"566\" y1=\"424\" x2=\"566\" y2=\"75\"/>\n",
       "<line opacity=\"1\" stroke=\"#323232\" stroke-width=\"1\" x1=\"575\" y1=\"424\" x2=\"575\" y2=\"75\"/>\n",
       "<line opacity=\"1\" stroke=\"#323232\" stroke-width=\"1\" x1=\"584\" y1=\"424\" x2=\"584\" y2=\"75\"/>\n",
       "<line opacity=\"1\" stroke=\"#323232\" stroke-width=\"1\" x1=\"55\" y1=\"423\" x2=\"584\" y2=\"423\"/>\n",
       "<line opacity=\"1\" stroke=\"#323232\" stroke-width=\"1\" x1=\"55\" y1=\"407\" x2=\"584\" y2=\"407\"/>\n",
       "<line opacity=\"1\" stroke=\"#323232\" stroke-width=\"1\" x1=\"55\" y1=\"391\" x2=\"584\" y2=\"391\"/>\n",
       "<line opacity=\"1\" stroke=\"#323232\" stroke-width=\"1\" x1=\"55\" y1=\"375\" x2=\"584\" y2=\"375\"/>\n",
       "<line opacity=\"1\" stroke=\"#323232\" stroke-width=\"1\" x1=\"55\" y1=\"358\" x2=\"584\" y2=\"358\"/>\n",
       "<line opacity=\"1\" stroke=\"#323232\" stroke-width=\"1\" x1=\"55\" y1=\"342\" x2=\"584\" y2=\"342\"/>\n",
       "<line opacity=\"1\" stroke=\"#323232\" stroke-width=\"1\" x1=\"55\" y1=\"326\" x2=\"584\" y2=\"326\"/>\n",
       "<line opacity=\"1\" stroke=\"#323232\" stroke-width=\"1\" x1=\"55\" y1=\"309\" x2=\"584\" y2=\"309\"/>\n",
       "<line opacity=\"1\" stroke=\"#323232\" stroke-width=\"1\" x1=\"55\" y1=\"293\" x2=\"584\" y2=\"293\"/>\n",
       "<line opacity=\"1\" stroke=\"#323232\" stroke-width=\"1\" x1=\"55\" y1=\"277\" x2=\"584\" y2=\"277\"/>\n",
       "<line opacity=\"1\" stroke=\"#323232\" stroke-width=\"1\" x1=\"55\" y1=\"260\" x2=\"584\" y2=\"260\"/>\n",
       "<line opacity=\"1\" stroke=\"#323232\" stroke-width=\"1\" x1=\"55\" y1=\"244\" x2=\"584\" y2=\"244\"/>\n",
       "<line opacity=\"1\" stroke=\"#323232\" stroke-width=\"1\" x1=\"55\" y1=\"228\" x2=\"584\" y2=\"228\"/>\n",
       "<line opacity=\"1\" stroke=\"#323232\" stroke-width=\"1\" x1=\"55\" y1=\"211\" x2=\"584\" y2=\"211\"/>\n",
       "<line opacity=\"1\" stroke=\"#323232\" stroke-width=\"1\" x1=\"55\" y1=\"195\" x2=\"584\" y2=\"195\"/>\n",
       "<line opacity=\"1\" stroke=\"#323232\" stroke-width=\"1\" x1=\"55\" y1=\"179\" x2=\"584\" y2=\"179\"/>\n",
       "<line opacity=\"1\" stroke=\"#323232\" stroke-width=\"1\" x1=\"55\" y1=\"163\" x2=\"584\" y2=\"163\"/>\n",
       "<line opacity=\"1\" stroke=\"#323232\" stroke-width=\"1\" x1=\"55\" y1=\"146\" x2=\"584\" y2=\"146\"/>\n",
       "<line opacity=\"1\" stroke=\"#323232\" stroke-width=\"1\" x1=\"55\" y1=\"130\" x2=\"584\" y2=\"130\"/>\n",
       "<line opacity=\"1\" stroke=\"#323232\" stroke-width=\"1\" x1=\"55\" y1=\"114\" x2=\"584\" y2=\"114\"/>\n",
       "<line opacity=\"1\" stroke=\"#323232\" stroke-width=\"1\" x1=\"55\" y1=\"97\" x2=\"584\" y2=\"97\"/>\n",
       "<text x=\"320\" y=\"25\" dy=\"0.76em\" text-anchor=\"middle\" font-family=\"sans-serif\" font-size=\"9.67741935483871\" opacity=\"1\" fill=\"#FFFFFF\">\n",
       "time (s)\n",
       "</text>\n",
       "<text x=\"5\" y=\"250\" dy=\"0.76em\" text-anchor=\"middle\" font-family=\"sans-serif\" font-size=\"9.67741935483871\" opacity=\"1\" fill=\"#FFFFFF\" transform=\"rotate(270, 5, 250)\">\n",
       "\n",
       "</text>\n",
       "<text x=\"320\" y=\"475\" dy=\"-0.5ex\" text-anchor=\"middle\" font-family=\"sans-serif\" font-size=\"9.67741935483871\" opacity=\"1\" fill=\"#FFFFFF\">\n",
       "time (s)\n",
       "</text>\n",
       "<text x=\"635\" y=\"250\" dy=\"0.76em\" text-anchor=\"middle\" font-family=\"sans-serif\" font-size=\"9.67741935483871\" opacity=\"1\" fill=\"#FFFFFF\" transform=\"rotate(90, 635, 250)\">\n",
       "\n",
       "</text>\n",
       "<line opacity=\"1\" stroke=\"#5A5A5A\" stroke-width=\"1\" x1=\"55\" y1=\"424\" x2=\"55\" y2=\"75\"/>\n",
       "<line opacity=\"1\" stroke=\"#5A5A5A\" stroke-width=\"1\" x1=\"90\" y1=\"424\" x2=\"90\" y2=\"75\"/>\n",
       "<line opacity=\"1\" stroke=\"#5A5A5A\" stroke-width=\"1\" x1=\"125\" y1=\"424\" x2=\"125\" y2=\"75\"/>\n",
       "<line opacity=\"1\" stroke=\"#5A5A5A\" stroke-width=\"1\" x1=\"160\" y1=\"424\" x2=\"160\" y2=\"75\"/>\n",
       "<line opacity=\"1\" stroke=\"#5A5A5A\" stroke-width=\"1\" x1=\"196\" y1=\"424\" x2=\"196\" y2=\"75\"/>\n",
       "<line opacity=\"1\" stroke=\"#5A5A5A\" stroke-width=\"1\" x1=\"231\" y1=\"424\" x2=\"231\" y2=\"75\"/>\n",
       "<line opacity=\"1\" stroke=\"#5A5A5A\" stroke-width=\"1\" x1=\"266\" y1=\"424\" x2=\"266\" y2=\"75\"/>\n",
       "<line opacity=\"1\" stroke=\"#5A5A5A\" stroke-width=\"1\" x1=\"301\" y1=\"424\" x2=\"301\" y2=\"75\"/>\n",
       "<line opacity=\"1\" stroke=\"#5A5A5A\" stroke-width=\"1\" x1=\"337\" y1=\"424\" x2=\"337\" y2=\"75\"/>\n",
       "<line opacity=\"1\" stroke=\"#5A5A5A\" stroke-width=\"1\" x1=\"372\" y1=\"424\" x2=\"372\" y2=\"75\"/>\n",
       "<line opacity=\"1\" stroke=\"#5A5A5A\" stroke-width=\"1\" x1=\"407\" y1=\"424\" x2=\"407\" y2=\"75\"/>\n",
       "<line opacity=\"1\" stroke=\"#5A5A5A\" stroke-width=\"1\" x1=\"442\" y1=\"424\" x2=\"442\" y2=\"75\"/>\n",
       "<line opacity=\"1\" stroke=\"#5A5A5A\" stroke-width=\"1\" x1=\"478\" y1=\"424\" x2=\"478\" y2=\"75\"/>\n",
       "<line opacity=\"1\" stroke=\"#5A5A5A\" stroke-width=\"1\" x1=\"513\" y1=\"424\" x2=\"513\" y2=\"75\"/>\n",
       "<line opacity=\"1\" stroke=\"#5A5A5A\" stroke-width=\"1\" x1=\"548\" y1=\"424\" x2=\"548\" y2=\"75\"/>\n",
       "<line opacity=\"1\" stroke=\"#5A5A5A\" stroke-width=\"1\" x1=\"55\" y1=\"407\" x2=\"584\" y2=\"407\"/>\n",
       "<line opacity=\"1\" stroke=\"#5A5A5A\" stroke-width=\"1\" x1=\"55\" y1=\"366\" x2=\"584\" y2=\"366\"/>\n",
       "<line opacity=\"1\" stroke=\"#5A5A5A\" stroke-width=\"1\" x1=\"55\" y1=\"326\" x2=\"584\" y2=\"326\"/>\n",
       "<line opacity=\"1\" stroke=\"#5A5A5A\" stroke-width=\"1\" x1=\"55\" y1=\"285\" x2=\"584\" y2=\"285\"/>\n",
       "<line opacity=\"1\" stroke=\"#5A5A5A\" stroke-width=\"1\" x1=\"55\" y1=\"244\" x2=\"584\" y2=\"244\"/>\n",
       "<line opacity=\"1\" stroke=\"#5A5A5A\" stroke-width=\"1\" x1=\"55\" y1=\"203\" x2=\"584\" y2=\"203\"/>\n",
       "<line opacity=\"1\" stroke=\"#5A5A5A\" stroke-width=\"1\" x1=\"55\" y1=\"163\" x2=\"584\" y2=\"163\"/>\n",
       "<line opacity=\"1\" stroke=\"#5A5A5A\" stroke-width=\"1\" x1=\"55\" y1=\"122\" x2=\"584\" y2=\"122\"/>\n",
       "<line opacity=\"1\" stroke=\"#5A5A5A\" stroke-width=\"1\" x1=\"55\" y1=\"81\" x2=\"584\" y2=\"81\"/>\n",
       "<polyline fill=\"none\" opacity=\"1\" stroke=\"#FFFFFF\" stroke-width=\"1\" points=\"55,74 584,74 \"/>\n",
       "<text x=\"55\" y=\"65\" dy=\"-0.5ex\" text-anchor=\"middle\" font-family=\"sans-serif\" font-size=\"9.67741935483871\" opacity=\"1\" fill=\"#FFFFFF\">\n",
       "0.0\n",
       "</text>\n",
       "<polyline fill=\"none\" opacity=\"1\" stroke=\"#FFFFFF\" stroke-width=\"1\" points=\"55,69 55,74 \"/>\n",
       "<text x=\"90\" y=\"65\" dy=\"-0.5ex\" text-anchor=\"middle\" font-family=\"sans-serif\" font-size=\"9.67741935483871\" opacity=\"1\" fill=\"#FFFFFF\">\n",
       "0.2\n",
       "</text>\n",
       "<polyline fill=\"none\" opacity=\"1\" stroke=\"#FFFFFF\" stroke-width=\"1\" points=\"90,69 90,74 \"/>\n",
       "<text x=\"125\" y=\"65\" dy=\"-0.5ex\" text-anchor=\"middle\" font-family=\"sans-serif\" font-size=\"9.67741935483871\" opacity=\"1\" fill=\"#FFFFFF\">\n",
       "0.4\n",
       "</text>\n",
       "<polyline fill=\"none\" opacity=\"1\" stroke=\"#FFFFFF\" stroke-width=\"1\" points=\"125,69 125,74 \"/>\n",
       "<text x=\"160\" y=\"65\" dy=\"-0.5ex\" text-anchor=\"middle\" font-family=\"sans-serif\" font-size=\"9.67741935483871\" opacity=\"1\" fill=\"#FFFFFF\">\n",
       "0.6\n",
       "</text>\n",
       "<polyline fill=\"none\" opacity=\"1\" stroke=\"#FFFFFF\" stroke-width=\"1\" points=\"160,69 160,74 \"/>\n",
       "<text x=\"196\" y=\"65\" dy=\"-0.5ex\" text-anchor=\"middle\" font-family=\"sans-serif\" font-size=\"9.67741935483871\" opacity=\"1\" fill=\"#FFFFFF\">\n",
       "0.8\n",
       "</text>\n",
       "<polyline fill=\"none\" opacity=\"1\" stroke=\"#FFFFFF\" stroke-width=\"1\" points=\"196,69 196,74 \"/>\n",
       "<text x=\"231\" y=\"65\" dy=\"-0.5ex\" text-anchor=\"middle\" font-family=\"sans-serif\" font-size=\"9.67741935483871\" opacity=\"1\" fill=\"#FFFFFF\">\n",
       "1.0\n",
       "</text>\n",
       "<polyline fill=\"none\" opacity=\"1\" stroke=\"#FFFFFF\" stroke-width=\"1\" points=\"231,69 231,74 \"/>\n",
       "<text x=\"266\" y=\"65\" dy=\"-0.5ex\" text-anchor=\"middle\" font-family=\"sans-serif\" font-size=\"9.67741935483871\" opacity=\"1\" fill=\"#FFFFFF\">\n",
       "1.2\n",
       "</text>\n",
       "<polyline fill=\"none\" opacity=\"1\" stroke=\"#FFFFFF\" stroke-width=\"1\" points=\"266,69 266,74 \"/>\n",
       "<text x=\"301\" y=\"65\" dy=\"-0.5ex\" text-anchor=\"middle\" font-family=\"sans-serif\" font-size=\"9.67741935483871\" opacity=\"1\" fill=\"#FFFFFF\">\n",
       "1.4\n",
       "</text>\n",
       "<polyline fill=\"none\" opacity=\"1\" stroke=\"#FFFFFF\" stroke-width=\"1\" points=\"301,69 301,74 \"/>\n",
       "<text x=\"337\" y=\"65\" dy=\"-0.5ex\" text-anchor=\"middle\" font-family=\"sans-serif\" font-size=\"9.67741935483871\" opacity=\"1\" fill=\"#FFFFFF\">\n",
       "1.6\n",
       "</text>\n",
       "<polyline fill=\"none\" opacity=\"1\" stroke=\"#FFFFFF\" stroke-width=\"1\" points=\"337,69 337,74 \"/>\n",
       "<text x=\"372\" y=\"65\" dy=\"-0.5ex\" text-anchor=\"middle\" font-family=\"sans-serif\" font-size=\"9.67741935483871\" opacity=\"1\" fill=\"#FFFFFF\">\n",
       "1.8\n",
       "</text>\n",
       "<polyline fill=\"none\" opacity=\"1\" stroke=\"#FFFFFF\" stroke-width=\"1\" points=\"372,69 372,74 \"/>\n",
       "<text x=\"407\" y=\"65\" dy=\"-0.5ex\" text-anchor=\"middle\" font-family=\"sans-serif\" font-size=\"9.67741935483871\" opacity=\"1\" fill=\"#FFFFFF\">\n",
       "2.0\n",
       "</text>\n",
       "<polyline fill=\"none\" opacity=\"1\" stroke=\"#FFFFFF\" stroke-width=\"1\" points=\"407,69 407,74 \"/>\n",
       "<text x=\"442\" y=\"65\" dy=\"-0.5ex\" text-anchor=\"middle\" font-family=\"sans-serif\" font-size=\"9.67741935483871\" opacity=\"1\" fill=\"#FFFFFF\">\n",
       "2.2\n",
       "</text>\n",
       "<polyline fill=\"none\" opacity=\"1\" stroke=\"#FFFFFF\" stroke-width=\"1\" points=\"442,69 442,74 \"/>\n",
       "<text x=\"478\" y=\"65\" dy=\"-0.5ex\" text-anchor=\"middle\" font-family=\"sans-serif\" font-size=\"9.67741935483871\" opacity=\"1\" fill=\"#FFFFFF\">\n",
       "2.4\n",
       "</text>\n",
       "<polyline fill=\"none\" opacity=\"1\" stroke=\"#FFFFFF\" stroke-width=\"1\" points=\"478,69 478,74 \"/>\n",
       "<text x=\"513\" y=\"65\" dy=\"-0.5ex\" text-anchor=\"middle\" font-family=\"sans-serif\" font-size=\"9.67741935483871\" opacity=\"1\" fill=\"#FFFFFF\">\n",
       "2.6\n",
       "</text>\n",
       "<polyline fill=\"none\" opacity=\"1\" stroke=\"#FFFFFF\" stroke-width=\"1\" points=\"513,69 513,74 \"/>\n",
       "<text x=\"548\" y=\"65\" dy=\"-0.5ex\" text-anchor=\"middle\" font-family=\"sans-serif\" font-size=\"9.67741935483871\" opacity=\"1\" fill=\"#FFFFFF\">\n",
       "2.8\n",
       "</text>\n",
       "<polyline fill=\"none\" opacity=\"1\" stroke=\"#FFFFFF\" stroke-width=\"1\" points=\"548,69 548,74 \"/>\n",
       "<polyline fill=\"none\" opacity=\"1\" stroke=\"#FFFFFF\" stroke-width=\"1\" points=\"54,75 54,424 \"/>\n",
       "<text x=\"45\" y=\"407\" dy=\"0.5ex\" text-anchor=\"end\" font-family=\"sans-serif\" font-size=\"9.67741935483871\" opacity=\"1\" fill=\"#FFFFFF\">\n",
       "-2.0\n",
       "</text>\n",
       "<polyline fill=\"none\" opacity=\"1\" stroke=\"#FFFFFF\" stroke-width=\"1\" points=\"49,407 54,407 \"/>\n",
       "<text x=\"45\" y=\"366\" dy=\"0.5ex\" text-anchor=\"end\" font-family=\"sans-serif\" font-size=\"9.67741935483871\" opacity=\"1\" fill=\"#FFFFFF\">\n",
       "-1.5\n",
       "</text>\n",
       "<polyline fill=\"none\" opacity=\"1\" stroke=\"#FFFFFF\" stroke-width=\"1\" points=\"49,366 54,366 \"/>\n",
       "<text x=\"45\" y=\"326\" dy=\"0.5ex\" text-anchor=\"end\" font-family=\"sans-serif\" font-size=\"9.67741935483871\" opacity=\"1\" fill=\"#FFFFFF\">\n",
       "-1.0\n",
       "</text>\n",
       "<polyline fill=\"none\" opacity=\"1\" stroke=\"#FFFFFF\" stroke-width=\"1\" points=\"49,326 54,326 \"/>\n",
       "<text x=\"45\" y=\"285\" dy=\"0.5ex\" text-anchor=\"end\" font-family=\"sans-serif\" font-size=\"9.67741935483871\" opacity=\"1\" fill=\"#FFFFFF\">\n",
       "-0.5\n",
       "</text>\n",
       "<polyline fill=\"none\" opacity=\"1\" stroke=\"#FFFFFF\" stroke-width=\"1\" points=\"49,285 54,285 \"/>\n",
       "<text x=\"45\" y=\"244\" dy=\"0.5ex\" text-anchor=\"end\" font-family=\"sans-serif\" font-size=\"9.67741935483871\" opacity=\"1\" fill=\"#FFFFFF\">\n",
       "0.0\n",
       "</text>\n",
       "<polyline fill=\"none\" opacity=\"1\" stroke=\"#FFFFFF\" stroke-width=\"1\" points=\"49,244 54,244 \"/>\n",
       "<text x=\"45\" y=\"203\" dy=\"0.5ex\" text-anchor=\"end\" font-family=\"sans-serif\" font-size=\"9.67741935483871\" opacity=\"1\" fill=\"#FFFFFF\">\n",
       "0.5\n",
       "</text>\n",
       "<polyline fill=\"none\" opacity=\"1\" stroke=\"#FFFFFF\" stroke-width=\"1\" points=\"49,203 54,203 \"/>\n",
       "<text x=\"45\" y=\"163\" dy=\"0.5ex\" text-anchor=\"end\" font-family=\"sans-serif\" font-size=\"9.67741935483871\" opacity=\"1\" fill=\"#FFFFFF\">\n",
       "1.0\n",
       "</text>\n",
       "<polyline fill=\"none\" opacity=\"1\" stroke=\"#FFFFFF\" stroke-width=\"1\" points=\"49,163 54,163 \"/>\n",
       "<text x=\"45\" y=\"122\" dy=\"0.5ex\" text-anchor=\"end\" font-family=\"sans-serif\" font-size=\"9.67741935483871\" opacity=\"1\" fill=\"#FFFFFF\">\n",
       "1.5\n",
       "</text>\n",
       "<polyline fill=\"none\" opacity=\"1\" stroke=\"#FFFFFF\" stroke-width=\"1\" points=\"49,122 54,122 \"/>\n",
       "<text x=\"45\" y=\"81\" dy=\"0.5ex\" text-anchor=\"end\" font-family=\"sans-serif\" font-size=\"9.67741935483871\" opacity=\"1\" fill=\"#FFFFFF\">\n",
       "2.0\n",
       "</text>\n",
       "<polyline fill=\"none\" opacity=\"1\" stroke=\"#FFFFFF\" stroke-width=\"1\" points=\"49,81 54,81 \"/>\n",
       "<polyline fill=\"none\" opacity=\"1\" stroke=\"#FFFFFF\" stroke-width=\"1\" points=\"55,425 584,425 \"/>\n",
       "<text x=\"55\" y=\"435\" dy=\"0.76em\" text-anchor=\"middle\" font-family=\"sans-serif\" font-size=\"9.67741935483871\" opacity=\"1\" fill=\"#FFFFFF\">\n",
       "0.0\n",
       "</text>\n",
       "<polyline fill=\"none\" opacity=\"1\" stroke=\"#FFFFFF\" stroke-width=\"1\" points=\"55,425 55,430 \"/>\n",
       "<text x=\"90\" y=\"435\" dy=\"0.76em\" text-anchor=\"middle\" font-family=\"sans-serif\" font-size=\"9.67741935483871\" opacity=\"1\" fill=\"#FFFFFF\">\n",
       "0.2\n",
       "</text>\n",
       "<polyline fill=\"none\" opacity=\"1\" stroke=\"#FFFFFF\" stroke-width=\"1\" points=\"90,425 90,430 \"/>\n",
       "<text x=\"125\" y=\"435\" dy=\"0.76em\" text-anchor=\"middle\" font-family=\"sans-serif\" font-size=\"9.67741935483871\" opacity=\"1\" fill=\"#FFFFFF\">\n",
       "0.4\n",
       "</text>\n",
       "<polyline fill=\"none\" opacity=\"1\" stroke=\"#FFFFFF\" stroke-width=\"1\" points=\"125,425 125,430 \"/>\n",
       "<text x=\"160\" y=\"435\" dy=\"0.76em\" text-anchor=\"middle\" font-family=\"sans-serif\" font-size=\"9.67741935483871\" opacity=\"1\" fill=\"#FFFFFF\">\n",
       "0.6\n",
       "</text>\n",
       "<polyline fill=\"none\" opacity=\"1\" stroke=\"#FFFFFF\" stroke-width=\"1\" points=\"160,425 160,430 \"/>\n",
       "<text x=\"196\" y=\"435\" dy=\"0.76em\" text-anchor=\"middle\" font-family=\"sans-serif\" font-size=\"9.67741935483871\" opacity=\"1\" fill=\"#FFFFFF\">\n",
       "0.8\n",
       "</text>\n",
       "<polyline fill=\"none\" opacity=\"1\" stroke=\"#FFFFFF\" stroke-width=\"1\" points=\"196,425 196,430 \"/>\n",
       "<text x=\"231\" y=\"435\" dy=\"0.76em\" text-anchor=\"middle\" font-family=\"sans-serif\" font-size=\"9.67741935483871\" opacity=\"1\" fill=\"#FFFFFF\">\n",
       "1.0\n",
       "</text>\n",
       "<polyline fill=\"none\" opacity=\"1\" stroke=\"#FFFFFF\" stroke-width=\"1\" points=\"231,425 231,430 \"/>\n",
       "<text x=\"266\" y=\"435\" dy=\"0.76em\" text-anchor=\"middle\" font-family=\"sans-serif\" font-size=\"9.67741935483871\" opacity=\"1\" fill=\"#FFFFFF\">\n",
       "1.2\n",
       "</text>\n",
       "<polyline fill=\"none\" opacity=\"1\" stroke=\"#FFFFFF\" stroke-width=\"1\" points=\"266,425 266,430 \"/>\n",
       "<text x=\"301\" y=\"435\" dy=\"0.76em\" text-anchor=\"middle\" font-family=\"sans-serif\" font-size=\"9.67741935483871\" opacity=\"1\" fill=\"#FFFFFF\">\n",
       "1.4\n",
       "</text>\n",
       "<polyline fill=\"none\" opacity=\"1\" stroke=\"#FFFFFF\" stroke-width=\"1\" points=\"301,425 301,430 \"/>\n",
       "<text x=\"337\" y=\"435\" dy=\"0.76em\" text-anchor=\"middle\" font-family=\"sans-serif\" font-size=\"9.67741935483871\" opacity=\"1\" fill=\"#FFFFFF\">\n",
       "1.6\n",
       "</text>\n",
       "<polyline fill=\"none\" opacity=\"1\" stroke=\"#FFFFFF\" stroke-width=\"1\" points=\"337,425 337,430 \"/>\n",
       "<text x=\"372\" y=\"435\" dy=\"0.76em\" text-anchor=\"middle\" font-family=\"sans-serif\" font-size=\"9.67741935483871\" opacity=\"1\" fill=\"#FFFFFF\">\n",
       "1.8\n",
       "</text>\n",
       "<polyline fill=\"none\" opacity=\"1\" stroke=\"#FFFFFF\" stroke-width=\"1\" points=\"372,425 372,430 \"/>\n",
       "<text x=\"407\" y=\"435\" dy=\"0.76em\" text-anchor=\"middle\" font-family=\"sans-serif\" font-size=\"9.67741935483871\" opacity=\"1\" fill=\"#FFFFFF\">\n",
       "2.0\n",
       "</text>\n",
       "<polyline fill=\"none\" opacity=\"1\" stroke=\"#FFFFFF\" stroke-width=\"1\" points=\"407,425 407,430 \"/>\n",
       "<text x=\"442\" y=\"435\" dy=\"0.76em\" text-anchor=\"middle\" font-family=\"sans-serif\" font-size=\"9.67741935483871\" opacity=\"1\" fill=\"#FFFFFF\">\n",
       "2.2\n",
       "</text>\n",
       "<polyline fill=\"none\" opacity=\"1\" stroke=\"#FFFFFF\" stroke-width=\"1\" points=\"442,425 442,430 \"/>\n",
       "<text x=\"478\" y=\"435\" dy=\"0.76em\" text-anchor=\"middle\" font-family=\"sans-serif\" font-size=\"9.67741935483871\" opacity=\"1\" fill=\"#FFFFFF\">\n",
       "2.4\n",
       "</text>\n",
       "<polyline fill=\"none\" opacity=\"1\" stroke=\"#FFFFFF\" stroke-width=\"1\" points=\"478,425 478,430 \"/>\n",
       "<text x=\"513\" y=\"435\" dy=\"0.76em\" text-anchor=\"middle\" font-family=\"sans-serif\" font-size=\"9.67741935483871\" opacity=\"1\" fill=\"#FFFFFF\">\n",
       "2.6\n",
       "</text>\n",
       "<polyline fill=\"none\" opacity=\"1\" stroke=\"#FFFFFF\" stroke-width=\"1\" points=\"513,425 513,430 \"/>\n",
       "<text x=\"548\" y=\"435\" dy=\"0.76em\" text-anchor=\"middle\" font-family=\"sans-serif\" font-size=\"9.67741935483871\" opacity=\"1\" fill=\"#FFFFFF\">\n",
       "2.8\n",
       "</text>\n",
       "<polyline fill=\"none\" opacity=\"1\" stroke=\"#FFFFFF\" stroke-width=\"1\" points=\"548,425 548,430 \"/>\n",
       "<polyline fill=\"none\" opacity=\"1\" stroke=\"#FFFFFF\" stroke-width=\"1\" points=\"585,75 585,424 \"/>\n",
       "<text x=\"595\" y=\"407\" dy=\"0.5ex\" text-anchor=\"start\" font-family=\"sans-serif\" font-size=\"9.67741935483871\" opacity=\"1\" fill=\"#FFFFFF\">\n",
       "-2.0\n",
       "</text>\n",
       "<polyline fill=\"none\" opacity=\"1\" stroke=\"#FFFFFF\" stroke-width=\"1\" points=\"585,407 590,407 \"/>\n",
       "<text x=\"595\" y=\"366\" dy=\"0.5ex\" text-anchor=\"start\" font-family=\"sans-serif\" font-size=\"9.67741935483871\" opacity=\"1\" fill=\"#FFFFFF\">\n",
       "-1.5\n",
       "</text>\n",
       "<polyline fill=\"none\" opacity=\"1\" stroke=\"#FFFFFF\" stroke-width=\"1\" points=\"585,366 590,366 \"/>\n",
       "<text x=\"595\" y=\"326\" dy=\"0.5ex\" text-anchor=\"start\" font-family=\"sans-serif\" font-size=\"9.67741935483871\" opacity=\"1\" fill=\"#FFFFFF\">\n",
       "-1.0\n",
       "</text>\n",
       "<polyline fill=\"none\" opacity=\"1\" stroke=\"#FFFFFF\" stroke-width=\"1\" points=\"585,326 590,326 \"/>\n",
       "<text x=\"595\" y=\"285\" dy=\"0.5ex\" text-anchor=\"start\" font-family=\"sans-serif\" font-size=\"9.67741935483871\" opacity=\"1\" fill=\"#FFFFFF\">\n",
       "-0.5\n",
       "</text>\n",
       "<polyline fill=\"none\" opacity=\"1\" stroke=\"#FFFFFF\" stroke-width=\"1\" points=\"585,285 590,285 \"/>\n",
       "<text x=\"617\" y=\"244\" dy=\"0.5ex\" text-anchor=\"end\" font-family=\"sans-serif\" font-size=\"9.67741935483871\" opacity=\"1\" fill=\"#FFFFFF\">\n",
       "0.0\n",
       "</text>\n",
       "<polyline fill=\"none\" opacity=\"1\" stroke=\"#FFFFFF\" stroke-width=\"1\" points=\"585,244 590,244 \"/>\n",
       "<text x=\"617\" y=\"203\" dy=\"0.5ex\" text-anchor=\"end\" font-family=\"sans-serif\" font-size=\"9.67741935483871\" opacity=\"1\" fill=\"#FFFFFF\">\n",
       "0.5\n",
       "</text>\n",
       "<polyline fill=\"none\" opacity=\"1\" stroke=\"#FFFFFF\" stroke-width=\"1\" points=\"585,203 590,203 \"/>\n",
       "<text x=\"617\" y=\"163\" dy=\"0.5ex\" text-anchor=\"end\" font-family=\"sans-serif\" font-size=\"9.67741935483871\" opacity=\"1\" fill=\"#FFFFFF\">\n",
       "1.0\n",
       "</text>\n",
       "<polyline fill=\"none\" opacity=\"1\" stroke=\"#FFFFFF\" stroke-width=\"1\" points=\"585,163 590,163 \"/>\n",
       "<text x=\"617\" y=\"122\" dy=\"0.5ex\" text-anchor=\"end\" font-family=\"sans-serif\" font-size=\"9.67741935483871\" opacity=\"1\" fill=\"#FFFFFF\">\n",
       "1.5\n",
       "</text>\n",
       "<polyline fill=\"none\" opacity=\"1\" stroke=\"#FFFFFF\" stroke-width=\"1\" points=\"585,122 590,122 \"/>\n",
       "<text x=\"617\" y=\"81\" dy=\"0.5ex\" text-anchor=\"end\" font-family=\"sans-serif\" font-size=\"9.67741935483871\" opacity=\"1\" fill=\"#FFFFFF\">\n",
       "2.0\n",
       "</text>\n",
       "<polyline fill=\"none\" opacity=\"1\" stroke=\"#FFFFFF\" stroke-width=\"1\" points=\"585,81 590,81 \"/>\n",
       "<polyline fill=\"none\" opacity=\"1\" stroke=\"#FF0000\" stroke-width=\"1\" points=\"55,244 56,276 58,307 60,336 62,362 63,384 65,402 67,415 69,422 70,424 72,421 74,413 76,400 77,382 79,361 81,337 83,310 84,281 86,252 88,222 90,193 92,165 93,140 95,118 97,100 99,87 100,79 102,75 104,77 106,84 107,95 109,110 111,129 113,151 114,176 116,202 118,230 120,258 122,285 123,312 125,336 127,357 129,375 130,389 132,398 134,402 136,402 137,397 139,388 141,374 143,357 144,337 146,315 148,290 150,264 151,238 153,212 155,186 157,163 159,142 160,124 162,111 164,101 166,95 167,94 169,98 171,106 173,117 174,132 176,151 178,172 180,194 181,219 183,243 185,268 187,293 189,316 190,336 192,354 194,368 196,378 197,384 199,386 201,384 203,378 204,368 206,354 208,338 210,318 211,297 213,274 215,251 217,227 218,204 220,181 222,161 224,144 226,129 227,119 229,112 231,109 233,110 234,115 236,123 238,135 240,151 241,168 243,188 245,210 247,232 248,255 250,277 252,299 254,318 256,336 257,350 259,362 261,369 263,373 264,373 266,369 268,362 270,351 271,337 273,321 275,303 277,282 278,261 280,239 282,218 284,197 285,177 287,160 289,145 291,134 293,126 294,121 296,120 298,123 300,129 301,138 303,151 305,166 307,183 308,202 310,222 312,243 314,264 315,284 317,304 319,321 321,336 323,348 324,356 326,362 328,364 330,362 331,357 333,348 335,337 337,323 338,307 340,289 342,270 344,250 345,230 347,210 349,191 351,174 353,159 354,147 356,138 358,132 360,129 361,130 363,134 365,141 367,151 368,164 370,179 372,196 374,214 375,234 377,253 379,272 381,291 382,308 384,323 386,335 388,345 390,352 391,355 393,355 395,352 397,346 398,337 400,325 402,311 404,295 405,277 407,259 409,240 411,221 412,203 414,187 416,172 418,159 420,149 421,141 423,137 425,136 427,139 428,144 430,152 432,163 434,176 435,191 437,208 439,225 441,243 442,261 444,279 446,296 448,311 449,324 451,334 453,342 455,347 457,349 458,347 460,343 462,336 464,326 465,314 467,299 469,284 471,267 472,249 474,232 476,214 478,198 479,183 481,170 483,159 485,150 487,145 488,143 490,143 492,147 494,153 495,162 497,173 499,187 501,202 502,218 504,235 506,252 508,269 509,285 511,300 513,313 515,325 516,333 518,339 520,342 522,343 524,340 525,335 527,326 529,316 531,303 532,289 534,274 536,257 538,241 539,224 541,208 543,193 545,180 546,168 548,159 550,152 552,149 554,148 555,150 557,154 559,162 561,171 562,183 564,196 566,211 568,227 569,243 571,260 573,275 575,290 576,304 578,316 580,325 582,332 584,336 \"/>\n",
       "<rect x=\"454\" y=\"235\" width=\"126\" height=\"30\" opacity=\"1\" fill=\"none\" stroke=\"#FFFFFF\"/>\n",
       "<text x=\"494\" y=\"245\" dy=\"0.76em\" text-anchor=\"start\" font-family=\"sans-serif\" font-size=\"9.67741935483871\" opacity=\"1\" fill=\"#FFFFFF\">\n",
       "velocity (m/s)\n",
       "</text>\n",
       "<polyline fill=\"none\" opacity=\"1\" stroke=\"#FF0000\" stroke-width=\"1\" points=\"464,250 484,250 \"/>\n",
       "</svg>\n"
      ]
     },
     "metadata": {},
     "output_type": "display_data"
    },
    {
     "name": "stdout",
     "output_type": "stream",
     "text": [
      "type Mut0 = {mutable l0 : int32}\n",
      "let rec method1 (v0 : Mut0) : bool =\n",
      "    let v1 : int32 = v0.l0\n",
      "    let v2 : bool = v1 < 301\n",
      "    v2\n",
      "and method2 (v0 : int32, v1 : Mut0) : bool =\n",
      "    let v2 : int32 = v1.l0\n",
      "    let v3 : bool = v2 < v0\n",
      "    v3\n",
      "and method3 (v0 : float, v1 : float, v2 : float, v3 : float) : struct (float * float * float) =\n",
      "    let v4 : bool = v3 <= 0.0\n",
      "    if v4 then\n",
      "        struct (v0, v1, v2)\n",
      "    else\n",
      "        let v5 : float =  -v2\n",
      "        let v6 : bool = v2 >= v5\n",
      "        let v7 : float =\n",
      "            if v6 then\n",
      "                v2\n",
      "            else\n",
      "                v5\n",
      "        let v8 : float = -0.0030787608005179976 * v7\n",
      "        let v9 : float = v8 * v2\n",
      "        let v10 : float = v9 / 2.0\n",
      "        let v11 : float = -0.8 * v1\n",
      "        let v12 : float = v11 + v10\n",
      "        let v13 : float = v12 + -0.026477955\n",
      "        let v14 : float = v13 / 0.0027\n",
      "        let v15 : float = v0 + 0.001\n",
      "        let v16 : float = v2 * 0.001\n",
      "        let v17 : float = v1 + v16\n",
      "        let v18 : float = v14 * 0.001\n",
      "        let v19 : float = v2 + v18\n",
      "        let v20 : float = v3 - 1.0\n",
      "        method3(v15, v17, v19, v20)\n",
      "and method0 () : struct (string * string * (float []) * string * (struct (string * (float [])) [])) =\n",
      "    let v0 : (float []) = Array.zeroCreate<float> (301)\n",
      "    let v1 : Mut0 = {l0 = 0} : Mut0\n",
      "    while method1(v1) do\n",
      "        let v3 : int32 = v1.l0\n",
      "        let v4 : float = float v3\n",
      "        let v5 : float = 0.01 * v4\n",
      "        v0.[int v3] <- v5\n",
      "        let v6 : int32 = v3 + 1\n",
      "        v1.l0 <- v6\n",
      "        ()\n",
      "    let v7 : int32 = v0.Length\n",
      "    let v8 : (float []) = Array.zeroCreate<float> (v7)\n",
      "    let v9 : Mut0 = {l0 = 0} : Mut0\n",
      "    while method2(v7, v9) do\n",
      "        let v11 : int32 = v9.l0\n",
      "        let v12 : float = v0.[int v11]\n",
      "        let v13 : float = 0.0\n",
      "        let v14 : float = 0.1\n",
      "        let v15 : float = 0.0\n",
      "        let v16 : float = 0.0\n",
      "        let struct (v17 : float, v18 : float, v19 : float) = method3(v13, v14, v15, v16)\n",
      "        let v20 : float = 0.0\n",
      "        let v21 : float = 0.1\n",
      "        let v22 : float = 0.0\n",
      "        let v23 : float = 1.0\n",
      "        let struct (v24 : float, v25 : float, v26 : float) = method3(v20, v21, v22, v23)\n",
      "        let v27 : float = v24 - v17\n",
      "        let v28 : float = v12 / v27\n",
      "        let v29 : float = round v28\n",
      "        let v30 : float =  -v29\n",
      "        let v31 : bool = v29 >= v30\n",
      "        let v32 : float =\n",
      "            if v31 then\n",
      "                v29\n",
      "            else\n",
      "                v30\n",
      "        let v33 : float = 0.0\n",
      "        let v34 : float = 0.1\n",
      "        let v35 : float = 0.0\n",
      "        let struct (v36 : float, v37 : float, v38 : float) = method3(v33, v34, v35, v32)\n",
      "        v8.[int v11] <- v38\n",
      "        let v39 : int32 = v11 + 1\n",
      "        v9.l0 <- v39\n",
      "        ()\n",
      "    let v40 : string = \"velocity (m/s)\"\n",
      "    let v41 : (struct (string * (float [])) []) = [|struct (v40, v8)|]\n",
      "    let v42 : string = \"ping pong ball on a slinky\"\n",
      "    let v43 : string = \"time (s)\"\n",
      "    let v44 : string = \"\"\n",
      "    struct (v42, v43, v0, v44, v41)\n",
      "method0()\n",
      "\r\n"
     ]
    }
   ],
   "source": [
    "// // test\n",
    "\n",
    "inl pingpong_velocity t =\n",
    "    velocity_ftxv 0.001 0.0027 (state_1d (0, 0.1, 0)) (damped_ho_forces ()) t\n",
    "\n",
    "inl x = init_series 0 3 0.01\n",
    "inl y = x |> am.map pingpong_velocity\n",
    "\"ping pong ball on a slinky\", \"time (s)\", x, \"\", ;[\"velocity (m/s)\", y]"
   ]
  },
  {
   "cell_type": "markdown",
   "metadata": {},
   "source": [
    "## shift"
   ]
  },
  {
   "cell_type": "code",
   "execution_count": null,
   "metadata": {
    "dotnet_interactive": {
     "language": "spiral"
    },
    "polyglot_notebook": {
     "kernelName": "spiral"
    }
   },
   "outputs": [
    {
     "name": "stdout",
     "output_type": "stream",
     "text": [
      "()\n",
      "\r\n"
     ]
    }
   ],
   "source": [
    "type update_function s = s -> s\n",
    "\n",
    "type differential_equation s ds = s -> ds\n",
    "\n",
    "type numerical_method s ds = differential_equation s ds -> update_function s\n",
    "\n",
    "\n",
    "inl solver method =\n",
    "    method >> iterate\n",
    "inl solver' method =\n",
    "    method >> iterate'\n",
    "inl solver_ method =\n",
    "    method >> iterate_\n",
    "\n",
    "\n",
    "inl euler_cromer_1d dt deriv (state_1d (t0, x0, v0) as t) =\n",
    "    inl (rrr (_, _, dvdt)) = deriv t\n",
    "    inl t1 = t0 + dt\n",
    "    inl v1 = v0 + dvdt * dt\n",
    "    inl x1 = x0 + v1 * dt\n",
    "    state_1d (t1, x1, v1)\n",
    "\n",
    "inl update_txv_ec dt m fs =\n",
    "    euler_cromer_1d dt (newton_second_1d m fs)\n",
    "\n",
    "prototype (+++) ds : ds -> ds -> ds\n",
    "prototype scale ds : f64 -> ds -> ds\n",
    "\n",
    "instance (+++) rrr = fun (rrr (dtdt0, dxdt0, dvdt0)) (rrr (dtdt1, dxdt1, dvdt1)) =>\n",
    "    rrr (dtdt0 + dtdt1, dxdt0 + dxdt1, dvdt0 + dvdt1)\n",
    "\n",
    "instance scale rrr = fun w (rrr (dtdt0, dxdt0, dvdt0)) =>\n",
    "    rrr (w * dtdt0, w * dxdt0, w * dvdt0)\n",
    "\n",
    "prototype shift s : forall ds. f64 -> ds -> s -> s\n",
    "\n",
    "instance shift state_1d = fun dt ds (state_1d (t, x, v)) =>\n",
    "    inl dtdt, dxdt, dvdt =\n",
    "        real\n",
    "            match ds with\n",
    "            | rrr x => x\n",
    "            | state_1d x => x\n",
    "    state_1d (t + dtdt * dt, x + dxdt * dt, v + dvdt * dt)\n",
    "\n",
    "inl euler dt deriv st0 =\n",
    "    shift dt (deriv st0) st0\n",
    "\n",
    "inl runge_kutta_4 dt deriv st0 =\n",
    "    inl m0 = deriv st0\n",
    "    inl m1 = deriv (shift (dt / 2) m0 st0)\n",
    "    inl m2 = deriv (shift (dt / 2) m1 st0)\n",
    "    inl m3 = deriv (shift dt m2 st0)\n",
    "    shift (dt / 6) (m0 +++ m1 +++ m1 +++ m2 +++ m2 +++ m3) st0\n",
    "\n",
    "inl exponential (_, x0, v0) =\n",
    "    1f64, v0, x0\n",
    "\n",
    "inl of_state_1d (state_1d (t, x, v)) =\n",
    "    t, x, v"
   ]
  },
  {
   "cell_type": "code",
   "execution_count": null,
   "metadata": {
    "dotnet_interactive": {
     "language": "spiral"
    },
    "polyglot_notebook": {
     "kernelName": "spiral"
    }
   },
   "outputs": [
    {
     "name": "stdout",
     "output_type": "stream",
     "text": [
      "let rec method0 () : unit =\n",
      "    let v0 : string = $\"_equal / actual: {struct (7.999999999999874, 2864.8311229272326, 2864.8311229272326)} / expected: {struct (7.999999999999874, 2864.8311229272326, 2864.8311229272326)}\"\n",
      "    let v1 : string = $\"_equal / actual: {struct (7.999999999999988, 3043.379244966009, 2895.0121485099035)} / expected: {struct (7.999999999999988, 3043.379244966009, 2895.0121485099035)}\"\n",
      "    let v2 : string = $\"_equal / actual: {struct (8.0, 2894.789038540849, 2894.789038540849)} / expected: {struct (8.0, 2894.789038540849, 2894.789038540849)}\"\n",
      "    ()\n",
      "method0()\n",
      "\r\n"
     ]
    }
   ],
   "source": [
    "// // test\n",
    "\n",
    "solver (euler 0.01) (of_state_1d >> exponential >> state_1d) (state_1d (0, 1, 1)) 800i32\n",
    "|> _equal (state_1d (7.999999999999874, 2864.8311229272326, 2864.8311229272326))\n",
    "\n",
    "solver (euler_cromer_1d 0.1) (of_state_1d >> exponential >> rrr) (state_1d (0, 1, 1)) 80i32\n",
    "|> _equal (state_1d (7.999999999999988, 3043.379244966009, 2895.0121485099035))\n",
    "\n",
    "solver (runge_kutta_4 1) (of_state_1d >> exponential >> rrr) (state_1d (0, 1, 1)) 8i32\n",
    "|> _equal (state_1d (8.0, 2894.789038540849, 2894.789038540849))"
   ]
  },
  {
   "cell_type": "markdown",
   "metadata": {},
   "source": [
    "## vec"
   ]
  },
  {
   "cell_type": "code",
   "execution_count": null,
   "metadata": {
    "dotnet_interactive": {
     "language": "spiral"
    },
    "polyglot_notebook": {
     "kernelName": "spiral"
    }
   },
   "outputs": [
    {
     "name": "stdout",
     "output_type": "stream",
     "text": [
      "()\n",
      "\r\n"
     ]
    }
   ],
   "source": [
    "type vec =\n",
    "    {\n",
    "        x : f64\n",
    "        y : f64\n",
    "        z : f64\n",
    "    }\n",
    "\n",
    "inl vec x y z : vec =\n",
    "    { x y z }"
   ]
  },
  {
   "cell_type": "code",
   "execution_count": null,
   "metadata": {
    "dotnet_interactive": {
     "language": "spiral"
    },
    "polyglot_notebook": {
     "kernelName": "spiral"
    }
   },
   "outputs": [
    {
     "name": "stdout",
     "output_type": "stream",
     "text": [
      "let rec method0 () : unit =\n",
      "    let v0 : string = $\"_equal / actual: {3.0} / expected: {3.0}\"\n",
      "    ()\n",
      "method0()\n",
      "\r\n"
     ]
    }
   ],
   "source": [
    "// // test\n",
    "\n",
    "vec 1 2 3 .z\n",
    "|> _equal 3"
   ]
  },
  {
   "cell_type": "markdown",
   "metadata": {},
   "source": [
    "### consts"
   ]
  },
  {
   "cell_type": "code",
   "execution_count": null,
   "metadata": {
    "dotnet_interactive": {
     "language": "spiral"
    },
    "polyglot_notebook": {
     "kernelName": "spiral"
    }
   },
   "outputs": [
    {
     "name": "stdout",
     "output_type": "stream",
     "text": [
      "()\n",
      "\r\n"
     ]
    }
   ],
   "source": [
    "inl i_hat () = vec 1 0 0\n",
    "inl j_hat () = vec 0 1 0\n",
    "inl k_hat () = vec 0 0 1\n",
    "inl zero_vec () = vec 0 0 0"
   ]
  },
  {
   "cell_type": "markdown",
   "metadata": {},
   "source": [
    "### ^+^"
   ]
  },
  {
   "cell_type": "code",
   "execution_count": null,
   "metadata": {
    "dotnet_interactive": {
     "language": "spiral"
    },
    "polyglot_notebook": {
     "kernelName": "spiral"
    }
   },
   "outputs": [
    {
     "name": "stdout",
     "output_type": "stream",
     "text": [
      "()\n",
      "\r\n"
     ]
    }
   ],
   "source": [
    "inl (^+^) (a : vec) (b : vec) =\n",
    "    vec (a.x + b.x) (a.y + b.y) (a.z + b.z)"
   ]
  },
  {
   "cell_type": "code",
   "execution_count": null,
   "metadata": {
    "dotnet_interactive": {
     "language": "spiral"
    },
    "polyglot_notebook": {
     "kernelName": "spiral"
    }
   },
   "outputs": [
    {
     "name": "stdout",
     "output_type": "stream",
     "text": [
      "let rec method0 () : unit =\n",
      "    let v0 : string = $\"_equal / actual: {struct (5.0, 7.0, 9.0)} / expected: {struct (5.0, 7.0, 9.0)}\"\n",
      "    ()\n",
      "method0()\n",
      "\r\n"
     ]
    }
   ],
   "source": [
    "// // test\n",
    "\n",
    "vec 1 2 3 ^+^ vec 4 5 6\n",
    "|> _equal (vec 5 7 9)"
   ]
  },
  {
   "cell_type": "markdown",
   "metadata": {},
   "source": [
    "### sum_vec"
   ]
  },
  {
   "cell_type": "code",
   "execution_count": null,
   "metadata": {
    "dotnet_interactive": {
     "language": "spiral"
    },
    "polyglot_notebook": {
     "kernelName": "spiral"
    }
   },
   "outputs": [
    {
     "name": "stdout",
     "output_type": "stream",
     "text": [
      "()\n",
      "\r\n"
     ]
    }
   ],
   "source": [
    "inl sum_vec vs =\n",
    "    vs |> listm.fold (^+^) (zero_vec ())"
   ]
  },
  {
   "cell_type": "code",
   "execution_count": null,
   "metadata": {
    "dotnet_interactive": {
     "language": "spiral"
    },
    "polyglot_notebook": {
     "kernelName": "spiral"
    }
   },
   "outputs": [
    {
     "name": "stdout",
     "output_type": "stream",
     "text": [
      "let rec method0 () : unit =\n",
      "    let v0 : string = $\"_equal / actual: {struct (5.0, 7.0, 9.0)} / expected: {struct (5.0, 7.0, 9.0)}\"\n",
      "    ()\n",
      "method0()\n",
      "\r\n"
     ]
    }
   ],
   "source": [
    "// // test\n",
    "\n",
    "[vec 1 2 3; vec 4 5 6]\n",
    "|> sum_vec\n",
    "|> _equal (vec 5 7 9)"
   ]
  },
  {
   "cell_type": "markdown",
   "metadata": {},
   "source": [
    "### *^"
   ]
  },
  {
   "cell_type": "code",
   "execution_count": null,
   "metadata": {
    "dotnet_interactive": {
     "language": "spiral"
    },
    "polyglot_notebook": {
     "kernelName": "spiral"
    }
   },
   "outputs": [
    {
     "name": "stdout",
     "output_type": "stream",
     "text": [
      "()\n",
      "\r\n"
     ]
    }
   ],
   "source": [
    "inl (*^) c { x y z } =\n",
    "    vec (c * x) (c * y) (c * z)"
   ]
  },
  {
   "cell_type": "code",
   "execution_count": null,
   "metadata": {
    "dotnet_interactive": {
     "language": "spiral"
    },
    "polyglot_notebook": {
     "kernelName": "spiral"
    }
   },
   "outputs": [
    {
     "name": "stdout",
     "output_type": "stream",
     "text": [
      "let rec method0 () : unit =\n",
      "    let v0 : string = $\"_equal / actual: {struct (5.0, 10.0, 15.0)} / expected: {struct (5.0, 10.0, 15.0)}\"\n",
      "    ()\n",
      "method0()\n",
      "\r\n"
     ]
    }
   ],
   "source": [
    "// // test\n",
    "\n",
    "5 *^ vec 1 2 3\n",
    "|> _equal (vec 5 10 15)"
   ]
  },
  {
   "cell_type": "code",
   "execution_count": null,
   "metadata": {
    "dotnet_interactive": {
     "language": "spiral"
    },
    "polyglot_notebook": {
     "kernelName": "spiral"
    }
   },
   "outputs": [
    {
     "name": "stdout",
     "output_type": "stream",
     "text": [
      "let rec method0 () : unit =\n",
      "    let v0 : string = $\"_equal / actual: {struct (3.0, 0.0, 4.0)} / expected: {struct (3.0, 0.0, 4.0)}\"\n",
      "    ()\n",
      "method0()\n",
      "\r\n"
     ]
    }
   ],
   "source": [
    "// // test\n",
    "\n",
    "3 *^ i_hat () ^+^ 4 *^ k_hat ()\n",
    "|> _equal (vec 3 0 4)"
   ]
  },
  {
   "cell_type": "markdown",
   "metadata": {},
   "source": [
    "### ^*"
   ]
  },
  {
   "cell_type": "code",
   "execution_count": null,
   "metadata": {
    "dotnet_interactive": {
     "language": "spiral"
    },
    "polyglot_notebook": {
     "kernelName": "spiral"
    }
   },
   "outputs": [
    {
     "name": "stdout",
     "output_type": "stream",
     "text": [
      "()\n",
      "\r\n"
     ]
    }
   ],
   "source": [
    "inl (^*) v c =\n",
    "    (*^) c v"
   ]
  },
  {
   "cell_type": "code",
   "execution_count": null,
   "metadata": {
    "dotnet_interactive": {
     "language": "spiral"
    },
    "polyglot_notebook": {
     "kernelName": "spiral"
    }
   },
   "outputs": [
    {
     "name": "stdout",
     "output_type": "stream",
     "text": [
      "let rec method0 () : unit =\n",
      "    let v0 : string = $\"_equal / actual: {struct (5.0, 10.0, 15.0)} / expected: {struct (5.0, 10.0, 15.0)}\"\n",
      "    ()\n",
      "method0()\n",
      "\r\n"
     ]
    }
   ],
   "source": [
    "// // test\n",
    "\n",
    "vec 1 2 3 ^* 5\n",
    "|> _equal (vec 5 10 15)"
   ]
  },
  {
   "cell_type": "markdown",
   "metadata": {},
   "source": [
    "### ^/"
   ]
  },
  {
   "cell_type": "code",
   "execution_count": null,
   "metadata": {
    "dotnet_interactive": {
     "language": "spiral"
    },
    "polyglot_notebook": {
     "kernelName": "spiral"
    }
   },
   "outputs": [
    {
     "name": "stdout",
     "output_type": "stream",
     "text": [
      "()\n",
      "\r\n"
     ]
    }
   ],
   "source": [
    "inl (^/) { x y z } c =\n",
    "    vec (x / c) (y / c) (z / c)"
   ]
  },
  {
   "cell_type": "code",
   "execution_count": null,
   "metadata": {
    "dotnet_interactive": {
     "language": "spiral"
    },
    "polyglot_notebook": {
     "kernelName": "spiral"
    }
   },
   "outputs": [
    {
     "name": "stdout",
     "output_type": "stream",
     "text": [
      "let rec method0 () : unit =\n",
      "    let v0 : string = $\"_equal / actual: {struct (0.2, 0.4, 0.6)} / expected: {struct (0.2, 0.4, 0.6)}\"\n",
      "    ()\n",
      "method0()\n",
      "\r\n"
     ]
    }
   ],
   "source": [
    "// // test\n",
    "\n",
    "vec 1 2 3 ^/ 5\n",
    "|> _equal (vec 0.2 0.4 0.6)"
   ]
  },
  {
   "cell_type": "markdown",
   "metadata": {},
   "source": [
    "### negate_vec"
   ]
  },
  {
   "cell_type": "code",
   "execution_count": null,
   "metadata": {
    "dotnet_interactive": {
     "language": "spiral"
    },
    "polyglot_notebook": {
     "kernelName": "spiral"
    }
   },
   "outputs": [
    {
     "name": "stdout",
     "output_type": "stream",
     "text": [
      "()\n",
      "\r\n"
     ]
    }
   ],
   "source": [
    "inl negate_vec v =\n",
    "    v ^* -1"
   ]
  },
  {
   "cell_type": "code",
   "execution_count": null,
   "metadata": {
    "dotnet_interactive": {
     "language": "spiral"
    },
    "polyglot_notebook": {
     "kernelName": "spiral"
    }
   },
   "outputs": [
    {
     "name": "stdout",
     "output_type": "stream",
     "text": [
      "let rec method0 () : unit =\n",
      "    let v0 : string = $\"_equal / actual: {struct (-1.0, -2.0, -3.0)} / expected: {struct (-1.0, -2.0, -3.0)}\"\n",
      "    ()\n",
      "method0()\n",
      "\r\n"
     ]
    }
   ],
   "source": [
    "// // test\n",
    "\n",
    "vec 1 2 3\n",
    "|> negate_vec\n",
    "|> _equal (vec -1 -2 -3)"
   ]
  },
  {
   "cell_type": "markdown",
   "metadata": {},
   "source": [
    "### ^-^"
   ]
  },
  {
   "cell_type": "code",
   "execution_count": null,
   "metadata": {
    "dotnet_interactive": {
     "language": "spiral"
    },
    "polyglot_notebook": {
     "kernelName": "spiral"
    }
   },
   "outputs": [
    {
     "name": "stdout",
     "output_type": "stream",
     "text": [
      "()\n",
      "\r\n"
     ]
    }
   ],
   "source": [
    "inl (^-^) a b =\n",
    "    a ^+^ (negate_vec b)"
   ]
  },
  {
   "cell_type": "code",
   "execution_count": null,
   "metadata": {
    "dotnet_interactive": {
     "language": "spiral"
    },
    "polyglot_notebook": {
     "kernelName": "spiral"
    }
   },
   "outputs": [
    {
     "name": "stdout",
     "output_type": "stream",
     "text": [
      "let rec method0 () : unit =\n",
      "    let v0 : string = $\"_equal / actual: {struct (-3.0, -3.0, -3.0)} / expected: {struct (-3.0, -3.0, -3.0)}\"\n",
      "    ()\n",
      "method0()\n",
      "\r\n"
     ]
    }
   ],
   "source": [
    "// // test\n",
    "\n",
    "vec 1 2 3 ^-^ vec 4 5 6\n",
    "|> _equal (vec -3 -3 -3)"
   ]
  },
  {
   "cell_type": "markdown",
   "metadata": {},
   "source": [
    "### <.>"
   ]
  },
  {
   "cell_type": "code",
   "execution_count": null,
   "metadata": {
    "dotnet_interactive": {
     "language": "spiral"
    },
    "polyglot_notebook": {
     "kernelName": "spiral"
    }
   },
   "outputs": [
    {
     "name": "stdout",
     "output_type": "stream",
     "text": [
      "()\n",
      "\r\n"
     ]
    }
   ],
   "source": [
    "inl (<.>) { x = ax y = ay z = az } { x = bx y = by z = bz } =\n",
    "    ax * bx + ay * by + az * bz"
   ]
  },
  {
   "cell_type": "code",
   "execution_count": null,
   "metadata": {
    "dotnet_interactive": {
     "language": "spiral"
    },
    "polyglot_notebook": {
     "kernelName": "spiral"
    }
   },
   "outputs": [
    {
     "name": "stdout",
     "output_type": "stream",
     "text": [
      "let rec method0 () : unit =\n",
      "    let v0 : string = $\"_equal / actual: {32.0} / expected: {32.0}\"\n",
      "    ()\n",
      "method0()\n",
      "\r\n"
     ]
    }
   ],
   "source": [
    "// // test\n",
    "\n",
    "vec 1 2 3 <.> vec 4 5 6\n",
    "|> _equal 32"
   ]
  },
  {
   "cell_type": "markdown",
   "metadata": {},
   "source": [
    "### \\>\\<"
   ]
  },
  {
   "cell_type": "code",
   "execution_count": null,
   "metadata": {
    "dotnet_interactive": {
     "language": "spiral"
    },
    "polyglot_notebook": {
     "kernelName": "spiral"
    }
   },
   "outputs": [
    {
     "name": "stdout",
     "output_type": "stream",
     "text": [
      "()\n",
      "\r\n"
     ]
    }
   ],
   "source": [
    "inl (><) (a : vec) (b : vec) =\n",
    "    vec\n",
    "        (a.y * b.z - a.z * b.y)\n",
    "        (a.z * b.x - a.x * b.z)\n",
    "        (a.x * b.y - a.y * b.x)"
   ]
  },
  {
   "cell_type": "code",
   "execution_count": null,
   "metadata": {
    "dotnet_interactive": {
     "language": "spiral"
    },
    "polyglot_notebook": {
     "kernelName": "spiral"
    }
   },
   "outputs": [
    {
     "name": "stdout",
     "output_type": "stream",
     "text": [
      "let rec method0 () : unit =\n",
      "    let v0 : string = $\"_equal / actual: {struct (-3.0, 6.0, -3.0)} / expected: {struct (-3.0, 6.0, -3.0)}\"\n",
      "    ()\n",
      "method0()\n",
      "\r\n"
     ]
    }
   ],
   "source": [
    "// // test\n",
    "\n",
    "vec 1 2 3 >< vec 4 5 6\n",
    "|> _equal (vec -3 6 -3)"
   ]
  },
  {
   "cell_type": "markdown",
   "metadata": {},
   "source": [
    "### magnitude"
   ]
  },
  {
   "cell_type": "code",
   "execution_count": null,
   "metadata": {
    "dotnet_interactive": {
     "language": "spiral"
    },
    "polyglot_notebook": {
     "kernelName": "spiral"
    }
   },
   "outputs": [
    {
     "name": "stdout",
     "output_type": "stream",
     "text": [
      "()\n",
      "\r\n"
     ]
    }
   ],
   "source": [
    "inl magnitude v =\n",
    "    v <.> v |> sqrt"
   ]
  },
  {
   "cell_type": "code",
   "execution_count": null,
   "metadata": {
    "dotnet_interactive": {
     "language": "spiral"
    },
    "polyglot_notebook": {
     "kernelName": "spiral"
    }
   },
   "outputs": [
    {
     "name": "stdout",
     "output_type": "stream",
     "text": [
      "let rec method0 () : unit =\n",
      "    let v0 : string = $\"_almost_equal / actual: {3.7416573867739413} / expected: {3.7416573867739413}\"\n",
      "    ()\n",
      "method0()\n",
      "\r\n"
     ]
    }
   ],
   "source": [
    "// // test\n",
    "\n",
    "vec 1 2 3\n",
    "|> magnitude\n",
    "|> _almost_equal 3.7416573867739413"
   ]
  },
  {
   "cell_type": "markdown",
   "metadata": {},
   "source": [
    "### v1"
   ]
  },
  {
   "cell_type": "code",
   "execution_count": null,
   "metadata": {
    "dotnet_interactive": {
     "language": "spiral"
    },
    "polyglot_notebook": {
     "kernelName": "spiral"
    }
   },
   "outputs": [
    {
     "name": "stdout",
     "output_type": "stream",
     "text": [
      "()\n",
      "\r\n"
     ]
    }
   ],
   "source": [
    "inl v1 t =\n",
    "    2 *^ (t ** 2 *^ i_hat () ^+^ 3 *^ (t ** 3 *^ j_hat () ^+^ t ** 4 *^ k_hat ()))"
   ]
  },
  {
   "cell_type": "code",
   "execution_count": null,
   "metadata": {
    "dotnet_interactive": {
     "language": "spiral"
    },
    "polyglot_notebook": {
     "kernelName": "spiral"
    }
   },
   "outputs": [
    {
     "name": "stdout",
     "output_type": "stream",
     "text": [
      "let rec method0 () : unit =\n",
      "    let v0 : string = $\"_equal / actual: {struct (2.0, 6.0, 6.0)} / expected: {struct (2.0, 6.0, 6.0)}\"\n",
      "    ()\n",
      "method0()\n",
      "\r\n"
     ]
    }
   ],
   "source": [
    "// // test\n",
    "\n",
    "v1 1\n",
    "|> _equal (vec 2 6 6)"
   ]
  },
  {
   "cell_type": "markdown",
   "metadata": {},
   "source": [
    "### vec_derivative"
   ]
  },
  {
   "cell_type": "code",
   "execution_count": null,
   "metadata": {
    "dotnet_interactive": {
     "language": "spiral"
    },
    "polyglot_notebook": {
     "kernelName": "spiral"
    }
   },
   "outputs": [
    {
     "name": "stdout",
     "output_type": "stream",
     "text": [
      "()\n",
      "\r\n"
     ]
    }
   ],
   "source": [
    "type vec_derivative = (f64 -> vec) -> f64 -> vec\n",
    "\n",
    "inl vec_derivative dt : vec_derivative =\n",
    "    fun v t =>\n",
    "        (v (t + dt / 2) ^-^ v (t - dt / 2)) ^/ dt"
   ]
  },
  {
   "cell_type": "code",
   "execution_count": null,
   "metadata": {
    "dotnet_interactive": {
     "language": "spiral"
    },
    "polyglot_notebook": {
     "kernelName": "spiral"
    }
   },
   "outputs": [
    {
     "name": "stdout",
     "output_type": "stream",
     "text": [
      "let rec method0 () : unit =\n",
      "    let v0 : string = $\"_almost_equal / actual: {11.999999999999744} / expected: {11.999999999999744}\"\n",
      "    ()\n",
      "method0()\n",
      "\r\n"
     ]
    }
   ],
   "source": [
    "// // test\n",
    "\n",
    "vec_derivative 0.01 v1 3 .x\n",
    "|> _almost_equal (derivative 0.01 (v1 >> fun v => v.x) 3)"
   ]
  },
  {
   "cell_type": "markdown",
   "metadata": {},
   "source": [
    "## states_ps"
   ]
  },
  {
   "cell_type": "code",
   "execution_count": null,
   "metadata": {
    "dotnet_interactive": {
     "language": "spiral"
    },
    "polyglot_notebook": {
     "kernelName": "spiral"
    }
   },
   "outputs": [
    {
     "name": "stdout",
     "output_type": "stream",
     "text": [
      "()\n",
      "\r\n"
     ]
    }
   ],
   "source": [
    "nominal particle_state =\n",
    "    {\n",
    "        mass : f64\n",
    "        charge : f64\n",
    "        time : f64\n",
    "        pos_vec : vec\n",
    "        velocity : vec\n",
    "    }\n",
    "\n",
    "inl default_particle_state () : particle_state =\n",
    "    particle_state {\n",
    "        mass = 1\n",
    "        charge = 0\n",
    "        time = 0\n",
    "        pos_vec = zero_vec ()\n",
    "        velocity = zero_vec ()\n",
    "    }\n",
    "\n",
    "type one_body_force = particle_state -> vec\n",
    "\n",
    "nominal d_particle_state =\n",
    "    {\n",
    "        dmdt : f64\n",
    "        dqdt : f64\n",
    "        dtdt : f64\n",
    "        drdt : vec\n",
    "        dvdt : vec\n",
    "    }\n",
    "\n",
    "inl newton_second_ps (fs : list one_body_force) (st : particle_state) : d_particle_state =\n",
    "    inl f_net = fs |> listm.map (fun f => f st) |> sum_vec\n",
    "    d_particle_state {\n",
    "        dmdt = 0\n",
    "        dqdt = 0\n",
    "        dtdt = 1\n",
    "        drdt = st.velocity\n",
    "        dvdt = f_net ^/ st.mass\n",
    "    }\n",
    "\n",
    "inl earth_surface_gravity (st : particle_state) =\n",
    "    inl g = 9.80665\n",
    "    -st.mass * g *^ k_hat ()\n",
    "\n",
    "inl air_resistance drag rho area (st : particle_state) =\n",
    "    -0.5 * drag * rho * area * magnitude st.velocity *^ st.velocity\n",
    "\n",
    "inl euler_cromer_ps dt (deriv : particle_state -> d_particle_state) (particle_state st) =\n",
    "    inl dst : d_particle_state = deriv (particle_state st)\n",
    "    inl v' = st.velocity ^+^ dst.dvdt ^* dt\n",
    "    particle_state { st with\n",
    "        time = st.time + dt\n",
    "        pos_vec = st.pos_vec ^+^ v' ^* dt\n",
    "        velocity = st.velocity ^+^ dst.dvdt ^* dt\n",
    "    }\n",
    "\n",
    "instance (+++) d_particle_state = fun (dps : d_particle_state) (dps' : d_particle_state) =>\n",
    "    d_particle_state {\n",
    "        dmdt = dps.dmdt + dps'.dmdt\n",
    "        dqdt = dps.dqdt + dps'.dqdt\n",
    "        dtdt = dps.dtdt + dps'.dtdt\n",
    "        drdt = dps.drdt ^+^ dps'.drdt\n",
    "        dvdt = dps.dvdt ^+^ dps'.dvdt\n",
    "    }\n",
    "\n",
    "instance scale d_particle_state = fun w (dps : d_particle_state) =>\n",
    "    d_particle_state {\n",
    "        dmdt = w * dps.dmdt\n",
    "        dqdt = w * dps.dqdt\n",
    "        dtdt = w * dps.dtdt\n",
    "        drdt = w *^ dps.drdt\n",
    "        dvdt = w *^ dps.dvdt\n",
    "    }\n",
    "\n",
    "instance shift particle_state = fun dt dps (particle_state st) =>\n",
    "    inl (d_particle_state dps) =\n",
    "        real\n",
    "            match dps with\n",
    "            | d_particle_state _ => dps\n",
    "    particle_state { st with\n",
    "        time = st.time + dps.dtdt * dt\n",
    "        pos_vec = st.pos_vec ^+^ dps.drdt ^* dt\n",
    "        velocity = st.velocity ^+^ dps.dvdt ^* dt\n",
    "    }\n",
    "\n",
    "inl states_ps (method : numerical_method particle_state d_particle_state) : _ -> _ -> i32 -> particle_state =\n",
    "    newton_second_ps >> method >> iterate_\n",
    "\n",
    "inl z_ge0 sts =\n",
    "    sts\n",
    "    |> list_take_while (fun (particle_state st) => st.pos_vec.z >= 0)\n",
    "\n",
    "inl trajectory sts =\n",
    "    sts |> listm.map (fun (particle_state st) => st.pos_vec.y, st.pos_vec.z)"
   ]
  },
  {
   "cell_type": "code",
   "execution_count": null,
   "metadata": {
    "dotnet_interactive": {
     "language": "spiral"
    },
    "polyglot_notebook": {
     "kernelName": "spiral"
    }
   },
   "outputs": [
    {
     "name": "stdout",
     "output_type": "stream",
     "text": [
      "()\n",
      "\r\n"
     ]
    }
   ],
   "source": [
    "// // test\n",
    "\n",
    "inl update_ps (method : numerical_method particle_state d_particle_state) =\n",
    "    newton_second_ps >> method\n",
    "\n",
    "inl position_ps (method : numerical_method particle_state d_particle_state) fs st t =\n",
    "    inl states : i32 -> particle_state = states_ps method fs st\n",
    "    inl dt = (states 1).time - (states 0).time\n",
    "    inl num_steps = t / dt |> round |> abs\n",
    "    inl st1 = solver' method (newton_second_ps fs) st num_steps\n",
    "    st1.pos_vec\n",
    "\n",
    "inl sun_gravity (st : particle_state) : vec =\n",
    "    inl big_g = 0.0000000000667408\n",
    "    inl sun_mass = 1988480000000000000000000000000\n",
    "    -big_g * sun_mass * st.mass *^ st.pos_vec ^/ magnitude st.pos_vec ** 3\n",
    "\n",
    "inl wind_force v_wind drag rho area (st : particle_state) =\n",
    "    inl v_rel = st.velocity ^-^ v_wind\n",
    "    -0.5 * drag * rho * area * magnitude v_rel *^ v_rel\n",
    "\n",
    "inl uniform_lorentz_force v_e v_b (st : particle_state) =\n",
    "    st.charge *^ (v_e ^+^ st.velocity >< v_b)\n",
    "\n",
    "inl rock_state () =\n",
    "    inl (particle_state default_particle_state') = default_particle_state ()\n",
    "    particle_state { default_particle_state' with\n",
    "        mass = 2\n",
    "        velocity = vec 3 0 4\n",
    "    }\n",
    "\n",
    "inl halley_update dt =\n",
    "    update_ps (euler_cromer_ps dt) [sun_gravity]\n",
    "\n",
    "inl halley_initial () =\n",
    "    inl (particle_state default_particle_state') = default_particle_state ()\n",
    "    particle_state { default_particle_state' with\n",
    "        mass = 220000000000000\n",
    "        pos_vec = 87660000000 *^ i_hat ()\n",
    "        velocity = 54569 *^ j_hat ()\n",
    "    }"
   ]
  },
  {
   "cell_type": "code",
   "execution_count": null,
   "metadata": {
    "dotnet_interactive": {
     "language": "spiral"
    },
    "polyglot_notebook": {
     "kernelName": "spiral"
    }
   },
   "outputs": [
    {
     "data": {
      "text/html": [
       "<svg width=\"640\" height=\"480\" viewBox=\"0 0 640 480\" xmlns=\"http://www.w3.org/2000/svg\">\n",
       "<rect x=\"0\" y=\"0\" width=\"640\" height=\"480\" opacity=\"1\" fill=\"#141414\" stroke=\"none\"/>\n",
       "<text x=\"320\" y=\"10\" dy=\"0.76em\" text-anchor=\"middle\" font-family=\"sans-serif\" font-size=\"9.67741935483871\" opacity=\"1\" fill=\"#FFFFFF\">\n",
       "range for a baseball hit at 45 m/s\n",
       "</text>\n",
       "<line opacity=\"1\" stroke=\"#323232\" stroke-width=\"1\" x1=\"55\" y1=\"424\" x2=\"55\" y2=\"75\"/>\n",
       "<line opacity=\"1\" stroke=\"#323232\" stroke-width=\"1\" x1=\"62\" y1=\"424\" x2=\"62\" y2=\"75\"/>\n",
       "<line opacity=\"1\" stroke=\"#323232\" stroke-width=\"1\" x1=\"70\" y1=\"424\" x2=\"70\" y2=\"75\"/>\n",
       "<line opacity=\"1\" stroke=\"#323232\" stroke-width=\"1\" x1=\"77\" y1=\"424\" x2=\"77\" y2=\"75\"/>\n",
       "<line opacity=\"1\" stroke=\"#323232\" stroke-width=\"1\" x1=\"85\" y1=\"424\" x2=\"85\" y2=\"75\"/>\n",
       "<line opacity=\"1\" stroke=\"#323232\" stroke-width=\"1\" x1=\"92\" y1=\"424\" x2=\"92\" y2=\"75\"/>\n",
       "<line opacity=\"1\" stroke=\"#323232\" stroke-width=\"1\" x1=\"100\" y1=\"424\" x2=\"100\" y2=\"75\"/>\n",
       "<line opacity=\"1\" stroke=\"#323232\" stroke-width=\"1\" x1=\"107\" y1=\"424\" x2=\"107\" y2=\"75\"/>\n",
       "<line opacity=\"1\" stroke=\"#323232\" stroke-width=\"1\" x1=\"115\" y1=\"424\" x2=\"115\" y2=\"75\"/>\n",
       "<line opacity=\"1\" stroke=\"#323232\" stroke-width=\"1\" x1=\"123\" y1=\"424\" x2=\"123\" y2=\"75\"/>\n",
       "<line opacity=\"1\" stroke=\"#323232\" stroke-width=\"1\" x1=\"130\" y1=\"424\" x2=\"130\" y2=\"75\"/>\n",
       "<line opacity=\"1\" stroke=\"#323232\" stroke-width=\"1\" x1=\"138\" y1=\"424\" x2=\"138\" y2=\"75\"/>\n",
       "<line opacity=\"1\" stroke=\"#323232\" stroke-width=\"1\" x1=\"145\" y1=\"424\" x2=\"145\" y2=\"75\"/>\n",
       "<line opacity=\"1\" stroke=\"#323232\" stroke-width=\"1\" x1=\"153\" y1=\"424\" x2=\"153\" y2=\"75\"/>\n",
       "<line opacity=\"1\" stroke=\"#323232\" stroke-width=\"1\" x1=\"160\" y1=\"424\" x2=\"160\" y2=\"75\"/>\n",
       "<line opacity=\"1\" stroke=\"#323232\" stroke-width=\"1\" x1=\"168\" y1=\"424\" x2=\"168\" y2=\"75\"/>\n",
       "<line opacity=\"1\" stroke=\"#323232\" stroke-width=\"1\" x1=\"175\" y1=\"424\" x2=\"175\" y2=\"75\"/>\n",
       "<line opacity=\"1\" stroke=\"#323232\" stroke-width=\"1\" x1=\"183\" y1=\"424\" x2=\"183\" y2=\"75\"/>\n",
       "<line opacity=\"1\" stroke=\"#323232\" stroke-width=\"1\" x1=\"191\" y1=\"424\" x2=\"191\" y2=\"75\"/>\n",
       "<line opacity=\"1\" stroke=\"#323232\" stroke-width=\"1\" x1=\"198\" y1=\"424\" x2=\"198\" y2=\"75\"/>\n",
       "<line opacity=\"1\" stroke=\"#323232\" stroke-width=\"1\" x1=\"206\" y1=\"424\" x2=\"206\" y2=\"75\"/>\n",
       "<line opacity=\"1\" stroke=\"#323232\" stroke-width=\"1\" x1=\"213\" y1=\"424\" x2=\"213\" y2=\"75\"/>\n",
       "<line opacity=\"1\" stroke=\"#323232\" stroke-width=\"1\" x1=\"221\" y1=\"424\" x2=\"221\" y2=\"75\"/>\n",
       "<line opacity=\"1\" stroke=\"#323232\" stroke-width=\"1\" x1=\"228\" y1=\"424\" x2=\"228\" y2=\"75\"/>\n",
       "<line opacity=\"1\" stroke=\"#323232\" stroke-width=\"1\" x1=\"236\" y1=\"424\" x2=\"236\" y2=\"75\"/>\n",
       "<line opacity=\"1\" stroke=\"#323232\" stroke-width=\"1\" x1=\"243\" y1=\"424\" x2=\"243\" y2=\"75\"/>\n",
       "<line opacity=\"1\" stroke=\"#323232\" stroke-width=\"1\" x1=\"251\" y1=\"424\" x2=\"251\" y2=\"75\"/>\n",
       "<line opacity=\"1\" stroke=\"#323232\" stroke-width=\"1\" x1=\"259\" y1=\"424\" x2=\"259\" y2=\"75\"/>\n",
       "<line opacity=\"1\" stroke=\"#323232\" stroke-width=\"1\" x1=\"266\" y1=\"424\" x2=\"266\" y2=\"75\"/>\n",
       "<line opacity=\"1\" stroke=\"#323232\" stroke-width=\"1\" x1=\"274\" y1=\"424\" x2=\"274\" y2=\"75\"/>\n",
       "<line opacity=\"1\" stroke=\"#323232\" stroke-width=\"1\" x1=\"281\" y1=\"424\" x2=\"281\" y2=\"75\"/>\n",
       "<line opacity=\"1\" stroke=\"#323232\" stroke-width=\"1\" x1=\"289\" y1=\"424\" x2=\"289\" y2=\"75\"/>\n",
       "<line opacity=\"1\" stroke=\"#323232\" stroke-width=\"1\" x1=\"296\" y1=\"424\" x2=\"296\" y2=\"75\"/>\n",
       "<line opacity=\"1\" stroke=\"#323232\" stroke-width=\"1\" x1=\"304\" y1=\"424\" x2=\"304\" y2=\"75\"/>\n",
       "<line opacity=\"1\" stroke=\"#323232\" stroke-width=\"1\" x1=\"311\" y1=\"424\" x2=\"311\" y2=\"75\"/>\n",
       "<line opacity=\"1\" stroke=\"#323232\" stroke-width=\"1\" x1=\"319\" y1=\"424\" x2=\"319\" y2=\"75\"/>\n",
       "<line opacity=\"1\" stroke=\"#323232\" stroke-width=\"1\" x1=\"327\" y1=\"424\" x2=\"327\" y2=\"75\"/>\n",
       "<line opacity=\"1\" stroke=\"#323232\" stroke-width=\"1\" x1=\"334\" y1=\"424\" x2=\"334\" y2=\"75\"/>\n",
       "<line opacity=\"1\" stroke=\"#323232\" stroke-width=\"1\" x1=\"342\" y1=\"424\" x2=\"342\" y2=\"75\"/>\n",
       "<line opacity=\"1\" stroke=\"#323232\" stroke-width=\"1\" x1=\"349\" y1=\"424\" x2=\"349\" y2=\"75\"/>\n",
       "<line opacity=\"1\" stroke=\"#323232\" stroke-width=\"1\" x1=\"357\" y1=\"424\" x2=\"357\" y2=\"75\"/>\n",
       "<line opacity=\"1\" stroke=\"#323232\" stroke-width=\"1\" x1=\"364\" y1=\"424\" x2=\"364\" y2=\"75\"/>\n",
       "<line opacity=\"1\" stroke=\"#323232\" stroke-width=\"1\" x1=\"372\" y1=\"424\" x2=\"372\" y2=\"75\"/>\n",
       "<line opacity=\"1\" stroke=\"#323232\" stroke-width=\"1\" x1=\"379\" y1=\"424\" x2=\"379\" y2=\"75\"/>\n",
       "<line opacity=\"1\" stroke=\"#323232\" stroke-width=\"1\" x1=\"387\" y1=\"424\" x2=\"387\" y2=\"75\"/>\n",
       "<line opacity=\"1\" stroke=\"#323232\" stroke-width=\"1\" x1=\"395\" y1=\"424\" x2=\"395\" y2=\"75\"/>\n",
       "<line opacity=\"1\" stroke=\"#323232\" stroke-width=\"1\" x1=\"402\" y1=\"424\" x2=\"402\" y2=\"75\"/>\n",
       "<line opacity=\"1\" stroke=\"#323232\" stroke-width=\"1\" x1=\"410\" y1=\"424\" x2=\"410\" y2=\"75\"/>\n",
       "<line opacity=\"1\" stroke=\"#323232\" stroke-width=\"1\" x1=\"417\" y1=\"424\" x2=\"417\" y2=\"75\"/>\n",
       "<line opacity=\"1\" stroke=\"#323232\" stroke-width=\"1\" x1=\"425\" y1=\"424\" x2=\"425\" y2=\"75\"/>\n",
       "<line opacity=\"1\" stroke=\"#323232\" stroke-width=\"1\" x1=\"432\" y1=\"424\" x2=\"432\" y2=\"75\"/>\n",
       "<line opacity=\"1\" stroke=\"#323232\" stroke-width=\"1\" x1=\"440\" y1=\"424\" x2=\"440\" y2=\"75\"/>\n",
       "<line opacity=\"1\" stroke=\"#323232\" stroke-width=\"1\" x1=\"447\" y1=\"424\" x2=\"447\" y2=\"75\"/>\n",
       "<line opacity=\"1\" stroke=\"#323232\" stroke-width=\"1\" x1=\"455\" y1=\"424\" x2=\"455\" y2=\"75\"/>\n",
       "<line opacity=\"1\" stroke=\"#323232\" stroke-width=\"1\" x1=\"463\" y1=\"424\" x2=\"463\" y2=\"75\"/>\n",
       "<line opacity=\"1\" stroke=\"#323232\" stroke-width=\"1\" x1=\"470\" y1=\"424\" x2=\"470\" y2=\"75\"/>\n",
       "<line opacity=\"1\" stroke=\"#323232\" stroke-width=\"1\" x1=\"478\" y1=\"424\" x2=\"478\" y2=\"75\"/>\n",
       "<line opacity=\"1\" stroke=\"#323232\" stroke-width=\"1\" x1=\"485\" y1=\"424\" x2=\"485\" y2=\"75\"/>\n",
       "<line opacity=\"1\" stroke=\"#323232\" stroke-width=\"1\" x1=\"493\" y1=\"424\" x2=\"493\" y2=\"75\"/>\n",
       "<line opacity=\"1\" stroke=\"#323232\" stroke-width=\"1\" x1=\"500\" y1=\"424\" x2=\"500\" y2=\"75\"/>\n",
       "<line opacity=\"1\" stroke=\"#323232\" stroke-width=\"1\" x1=\"508\" y1=\"424\" x2=\"508\" y2=\"75\"/>\n",
       "<line opacity=\"1\" stroke=\"#323232\" stroke-width=\"1\" x1=\"515\" y1=\"424\" x2=\"515\" y2=\"75\"/>\n",
       "<line opacity=\"1\" stroke=\"#323232\" stroke-width=\"1\" x1=\"523\" y1=\"424\" x2=\"523\" y2=\"75\"/>\n",
       "<line opacity=\"1\" stroke=\"#323232\" stroke-width=\"1\" x1=\"531\" y1=\"424\" x2=\"531\" y2=\"75\"/>\n",
       "<line opacity=\"1\" stroke=\"#323232\" stroke-width=\"1\" x1=\"538\" y1=\"424\" x2=\"538\" y2=\"75\"/>\n",
       "<line opacity=\"1\" stroke=\"#323232\" stroke-width=\"1\" x1=\"546\" y1=\"424\" x2=\"546\" y2=\"75\"/>\n",
       "<line opacity=\"1\" stroke=\"#323232\" stroke-width=\"1\" x1=\"553\" y1=\"424\" x2=\"553\" y2=\"75\"/>\n",
       "<line opacity=\"1\" stroke=\"#323232\" stroke-width=\"1\" x1=\"561\" y1=\"424\" x2=\"561\" y2=\"75\"/>\n",
       "<line opacity=\"1\" stroke=\"#323232\" stroke-width=\"1\" x1=\"568\" y1=\"424\" x2=\"568\" y2=\"75\"/>\n",
       "<line opacity=\"1\" stroke=\"#323232\" stroke-width=\"1\" x1=\"576\" y1=\"424\" x2=\"576\" y2=\"75\"/>\n",
       "<line opacity=\"1\" stroke=\"#323232\" stroke-width=\"1\" x1=\"584\" y1=\"424\" x2=\"584\" y2=\"75\"/>\n",
       "<line opacity=\"1\" stroke=\"#323232\" stroke-width=\"1\" x1=\"55\" y1=\"420\" x2=\"584\" y2=\"420\"/>\n",
       "<line opacity=\"1\" stroke=\"#323232\" stroke-width=\"1\" x1=\"55\" y1=\"411\" x2=\"584\" y2=\"411\"/>\n",
       "<line opacity=\"1\" stroke=\"#323232\" stroke-width=\"1\" x1=\"55\" y1=\"402\" x2=\"584\" y2=\"402\"/>\n",
       "<line opacity=\"1\" stroke=\"#323232\" stroke-width=\"1\" x1=\"55\" y1=\"393\" x2=\"584\" y2=\"393\"/>\n",
       "<line opacity=\"1\" stroke=\"#323232\" stroke-width=\"1\" x1=\"55\" y1=\"384\" x2=\"584\" y2=\"384\"/>\n",
       "<line opacity=\"1\" stroke=\"#323232\" stroke-width=\"1\" x1=\"55\" y1=\"375\" x2=\"584\" y2=\"375\"/>\n",
       "<line opacity=\"1\" stroke=\"#323232\" stroke-width=\"1\" x1=\"55\" y1=\"366\" x2=\"584\" y2=\"366\"/>\n",
       "<line opacity=\"1\" stroke=\"#323232\" stroke-width=\"1\" x1=\"55\" y1=\"357\" x2=\"584\" y2=\"357\"/>\n",
       "<line opacity=\"1\" stroke=\"#323232\" stroke-width=\"1\" x1=\"55\" y1=\"348\" x2=\"584\" y2=\"348\"/>\n",
       "<line opacity=\"1\" stroke=\"#323232\" stroke-width=\"1\" x1=\"55\" y1=\"339\" x2=\"584\" y2=\"339\"/>\n",
       "<line opacity=\"1\" stroke=\"#323232\" stroke-width=\"1\" x1=\"55\" y1=\"330\" x2=\"584\" y2=\"330\"/>\n",
       "<line opacity=\"1\" stroke=\"#323232\" stroke-width=\"1\" x1=\"55\" y1=\"321\" x2=\"584\" y2=\"321\"/>\n",
       "<line opacity=\"1\" stroke=\"#323232\" stroke-width=\"1\" x1=\"55\" y1=\"312\" x2=\"584\" y2=\"312\"/>\n",
       "<line opacity=\"1\" stroke=\"#323232\" stroke-width=\"1\" x1=\"55\" y1=\"303\" x2=\"584\" y2=\"303\"/>\n",
       "<line opacity=\"1\" stroke=\"#323232\" stroke-width=\"1\" x1=\"55\" y1=\"294\" x2=\"584\" y2=\"294\"/>\n",
       "<line opacity=\"1\" stroke=\"#323232\" stroke-width=\"1\" x1=\"55\" y1=\"285\" x2=\"584\" y2=\"285\"/>\n",
       "<line opacity=\"1\" stroke=\"#323232\" stroke-width=\"1\" x1=\"55\" y1=\"276\" x2=\"584\" y2=\"276\"/>\n",
       "<line opacity=\"1\" stroke=\"#323232\" stroke-width=\"1\" x1=\"55\" y1=\"267\" x2=\"584\" y2=\"267\"/>\n",
       "<line opacity=\"1\" stroke=\"#323232\" stroke-width=\"1\" x1=\"55\" y1=\"259\" x2=\"584\" y2=\"259\"/>\n",
       "<line opacity=\"1\" stroke=\"#323232\" stroke-width=\"1\" x1=\"55\" y1=\"250\" x2=\"584\" y2=\"250\"/>\n",
       "<line opacity=\"1\" stroke=\"#323232\" stroke-width=\"1\" x1=\"55\" y1=\"241\" x2=\"584\" y2=\"241\"/>\n",
       "<line opacity=\"1\" stroke=\"#323232\" stroke-width=\"1\" x1=\"55\" y1=\"232\" x2=\"584\" y2=\"232\"/>\n",
       "<line opacity=\"1\" stroke=\"#323232\" stroke-width=\"1\" x1=\"55\" y1=\"223\" x2=\"584\" y2=\"223\"/>\n",
       "<line opacity=\"1\" stroke=\"#323232\" stroke-width=\"1\" x1=\"55\" y1=\"214\" x2=\"584\" y2=\"214\"/>\n",
       "<line opacity=\"1\" stroke=\"#323232\" stroke-width=\"1\" x1=\"55\" y1=\"205\" x2=\"584\" y2=\"205\"/>\n",
       "<line opacity=\"1\" stroke=\"#323232\" stroke-width=\"1\" x1=\"55\" y1=\"196\" x2=\"584\" y2=\"196\"/>\n",
       "<line opacity=\"1\" stroke=\"#323232\" stroke-width=\"1\" x1=\"55\" y1=\"187\" x2=\"584\" y2=\"187\"/>\n",
       "<line opacity=\"1\" stroke=\"#323232\" stroke-width=\"1\" x1=\"55\" y1=\"178\" x2=\"584\" y2=\"178\"/>\n",
       "<line opacity=\"1\" stroke=\"#323232\" stroke-width=\"1\" x1=\"55\" y1=\"169\" x2=\"584\" y2=\"169\"/>\n",
       "<line opacity=\"1\" stroke=\"#323232\" stroke-width=\"1\" x1=\"55\" y1=\"160\" x2=\"584\" y2=\"160\"/>\n",
       "<line opacity=\"1\" stroke=\"#323232\" stroke-width=\"1\" x1=\"55\" y1=\"151\" x2=\"584\" y2=\"151\"/>\n",
       "<line opacity=\"1\" stroke=\"#323232\" stroke-width=\"1\" x1=\"55\" y1=\"142\" x2=\"584\" y2=\"142\"/>\n",
       "<line opacity=\"1\" stroke=\"#323232\" stroke-width=\"1\" x1=\"55\" y1=\"133\" x2=\"584\" y2=\"133\"/>\n",
       "<line opacity=\"1\" stroke=\"#323232\" stroke-width=\"1\" x1=\"55\" y1=\"124\" x2=\"584\" y2=\"124\"/>\n",
       "<line opacity=\"1\" stroke=\"#323232\" stroke-width=\"1\" x1=\"55\" y1=\"115\" x2=\"584\" y2=\"115\"/>\n",
       "<line opacity=\"1\" stroke=\"#323232\" stroke-width=\"1\" x1=\"55\" y1=\"106\" x2=\"584\" y2=\"106\"/>\n",
       "<line opacity=\"1\" stroke=\"#323232\" stroke-width=\"1\" x1=\"55\" y1=\"97\" x2=\"584\" y2=\"97\"/>\n",
       "<line opacity=\"1\" stroke=\"#323232\" stroke-width=\"1\" x1=\"55\" y1=\"88\" x2=\"584\" y2=\"88\"/>\n",
       "<line opacity=\"1\" stroke=\"#323232\" stroke-width=\"1\" x1=\"55\" y1=\"79\" x2=\"584\" y2=\"79\"/>\n",
       "<text x=\"320\" y=\"25\" dy=\"0.76em\" text-anchor=\"middle\" font-family=\"sans-serif\" font-size=\"9.67741935483871\" opacity=\"1\" fill=\"#FFFFFF\">\n",
       "angle above horizontal (degrees)\n",
       "</text>\n",
       "<text x=\"5\" y=\"250\" dy=\"0.76em\" text-anchor=\"middle\" font-family=\"sans-serif\" font-size=\"9.67741935483871\" opacity=\"1\" fill=\"#FFFFFF\" transform=\"rotate(270, 5, 250)\">\n",
       "\n",
       "</text>\n",
       "<text x=\"320\" y=\"475\" dy=\"-0.5ex\" text-anchor=\"middle\" font-family=\"sans-serif\" font-size=\"9.67741935483871\" opacity=\"1\" fill=\"#FFFFFF\">\n",
       "angle above horizontal (degrees)\n",
       "</text>\n",
       "<text x=\"635\" y=\"250\" dy=\"0.76em\" text-anchor=\"middle\" font-family=\"sans-serif\" font-size=\"9.67741935483871\" opacity=\"1\" fill=\"#FFFFFF\" transform=\"rotate(90, 635, 250)\">\n",
       "\n",
       "</text>\n",
       "<line opacity=\"1\" stroke=\"#5A5A5A\" stroke-width=\"1\" x1=\"55\" y1=\"424\" x2=\"55\" y2=\"75\"/>\n",
       "<line opacity=\"1\" stroke=\"#5A5A5A\" stroke-width=\"1\" x1=\"92\" y1=\"424\" x2=\"92\" y2=\"75\"/>\n",
       "<line opacity=\"1\" stroke=\"#5A5A5A\" stroke-width=\"1\" x1=\"130\" y1=\"424\" x2=\"130\" y2=\"75\"/>\n",
       "<line opacity=\"1\" stroke=\"#5A5A5A\" stroke-width=\"1\" x1=\"168\" y1=\"424\" x2=\"168\" y2=\"75\"/>\n",
       "<line opacity=\"1\" stroke=\"#5A5A5A\" stroke-width=\"1\" x1=\"206\" y1=\"424\" x2=\"206\" y2=\"75\"/>\n",
       "<line opacity=\"1\" stroke=\"#5A5A5A\" stroke-width=\"1\" x1=\"243\" y1=\"424\" x2=\"243\" y2=\"75\"/>\n",
       "<line opacity=\"1\" stroke=\"#5A5A5A\" stroke-width=\"1\" x1=\"281\" y1=\"424\" x2=\"281\" y2=\"75\"/>\n",
       "<line opacity=\"1\" stroke=\"#5A5A5A\" stroke-width=\"1\" x1=\"319\" y1=\"424\" x2=\"319\" y2=\"75\"/>\n",
       "<line opacity=\"1\" stroke=\"#5A5A5A\" stroke-width=\"1\" x1=\"357\" y1=\"424\" x2=\"357\" y2=\"75\"/>\n",
       "<line opacity=\"1\" stroke=\"#5A5A5A\" stroke-width=\"1\" x1=\"395\" y1=\"424\" x2=\"395\" y2=\"75\"/>\n",
       "<line opacity=\"1\" stroke=\"#5A5A5A\" stroke-width=\"1\" x1=\"432\" y1=\"424\" x2=\"432\" y2=\"75\"/>\n",
       "<line opacity=\"1\" stroke=\"#5A5A5A\" stroke-width=\"1\" x1=\"470\" y1=\"424\" x2=\"470\" y2=\"75\"/>\n",
       "<line opacity=\"1\" stroke=\"#5A5A5A\" stroke-width=\"1\" x1=\"508\" y1=\"424\" x2=\"508\" y2=\"75\"/>\n",
       "<line opacity=\"1\" stroke=\"#5A5A5A\" stroke-width=\"1\" x1=\"546\" y1=\"424\" x2=\"546\" y2=\"75\"/>\n",
       "<line opacity=\"1\" stroke=\"#5A5A5A\" stroke-width=\"1\" x1=\"584\" y1=\"424\" x2=\"584\" y2=\"75\"/>\n",
       "<line opacity=\"1\" stroke=\"#5A5A5A\" stroke-width=\"1\" x1=\"55\" y1=\"420\" x2=\"584\" y2=\"420\"/>\n",
       "<line opacity=\"1\" stroke=\"#5A5A5A\" stroke-width=\"1\" x1=\"55\" y1=\"375\" x2=\"584\" y2=\"375\"/>\n",
       "<line opacity=\"1\" stroke=\"#5A5A5A\" stroke-width=\"1\" x1=\"55\" y1=\"330\" x2=\"584\" y2=\"330\"/>\n",
       "<line opacity=\"1\" stroke=\"#5A5A5A\" stroke-width=\"1\" x1=\"55\" y1=\"285\" x2=\"584\" y2=\"285\"/>\n",
       "<line opacity=\"1\" stroke=\"#5A5A5A\" stroke-width=\"1\" x1=\"55\" y1=\"241\" x2=\"584\" y2=\"241\"/>\n",
       "<line opacity=\"1\" stroke=\"#5A5A5A\" stroke-width=\"1\" x1=\"55\" y1=\"196\" x2=\"584\" y2=\"196\"/>\n",
       "<line opacity=\"1\" stroke=\"#5A5A5A\" stroke-width=\"1\" x1=\"55\" y1=\"151\" x2=\"584\" y2=\"151\"/>\n",
       "<line opacity=\"1\" stroke=\"#5A5A5A\" stroke-width=\"1\" x1=\"55\" y1=\"106\" x2=\"584\" y2=\"106\"/>\n",
       "<polyline fill=\"none\" opacity=\"1\" stroke=\"#FFFFFF\" stroke-width=\"1\" points=\"55,74 584,74 \"/>\n",
       "<text x=\"55\" y=\"65\" dy=\"-0.5ex\" text-anchor=\"middle\" font-family=\"sans-serif\" font-size=\"9.67741935483871\" opacity=\"1\" fill=\"#FFFFFF\">\n",
       "10.0\n",
       "</text>\n",
       "<polyline fill=\"none\" opacity=\"1\" stroke=\"#FFFFFF\" stroke-width=\"1\" points=\"55,69 55,74 \"/>\n",
       "<text x=\"92\" y=\"65\" dy=\"-0.5ex\" text-anchor=\"middle\" font-family=\"sans-serif\" font-size=\"9.67741935483871\" opacity=\"1\" fill=\"#FFFFFF\">\n",
       "15.0\n",
       "</text>\n",
       "<polyline fill=\"none\" opacity=\"1\" stroke=\"#FFFFFF\" stroke-width=\"1\" points=\"92,69 92,74 \"/>\n",
       "<text x=\"130\" y=\"65\" dy=\"-0.5ex\" text-anchor=\"middle\" font-family=\"sans-serif\" font-size=\"9.67741935483871\" opacity=\"1\" fill=\"#FFFFFF\">\n",
       "20.0\n",
       "</text>\n",
       "<polyline fill=\"none\" opacity=\"1\" stroke=\"#FFFFFF\" stroke-width=\"1\" points=\"130,69 130,74 \"/>\n",
       "<text x=\"168\" y=\"65\" dy=\"-0.5ex\" text-anchor=\"middle\" font-family=\"sans-serif\" font-size=\"9.67741935483871\" opacity=\"1\" fill=\"#FFFFFF\">\n",
       "25.0\n",
       "</text>\n",
       "<polyline fill=\"none\" opacity=\"1\" stroke=\"#FFFFFF\" stroke-width=\"1\" points=\"168,69 168,74 \"/>\n",
       "<text x=\"206\" y=\"65\" dy=\"-0.5ex\" text-anchor=\"middle\" font-family=\"sans-serif\" font-size=\"9.67741935483871\" opacity=\"1\" fill=\"#FFFFFF\">\n",
       "30.0\n",
       "</text>\n",
       "<polyline fill=\"none\" opacity=\"1\" stroke=\"#FFFFFF\" stroke-width=\"1\" points=\"206,69 206,74 \"/>\n",
       "<text x=\"243\" y=\"65\" dy=\"-0.5ex\" text-anchor=\"middle\" font-family=\"sans-serif\" font-size=\"9.67741935483871\" opacity=\"1\" fill=\"#FFFFFF\">\n",
       "35.0\n",
       "</text>\n",
       "<polyline fill=\"none\" opacity=\"1\" stroke=\"#FFFFFF\" stroke-width=\"1\" points=\"243,69 243,74 \"/>\n",
       "<text x=\"281\" y=\"65\" dy=\"-0.5ex\" text-anchor=\"middle\" font-family=\"sans-serif\" font-size=\"9.67741935483871\" opacity=\"1\" fill=\"#FFFFFF\">\n",
       "40.0\n",
       "</text>\n",
       "<polyline fill=\"none\" opacity=\"1\" stroke=\"#FFFFFF\" stroke-width=\"1\" points=\"281,69 281,74 \"/>\n",
       "<text x=\"319\" y=\"65\" dy=\"-0.5ex\" text-anchor=\"middle\" font-family=\"sans-serif\" font-size=\"9.67741935483871\" opacity=\"1\" fill=\"#FFFFFF\">\n",
       "45.0\n",
       "</text>\n",
       "<polyline fill=\"none\" opacity=\"1\" stroke=\"#FFFFFF\" stroke-width=\"1\" points=\"319,69 319,74 \"/>\n",
       "<text x=\"357\" y=\"65\" dy=\"-0.5ex\" text-anchor=\"middle\" font-family=\"sans-serif\" font-size=\"9.67741935483871\" opacity=\"1\" fill=\"#FFFFFF\">\n",
       "50.0\n",
       "</text>\n",
       "<polyline fill=\"none\" opacity=\"1\" stroke=\"#FFFFFF\" stroke-width=\"1\" points=\"357,69 357,74 \"/>\n",
       "<text x=\"395\" y=\"65\" dy=\"-0.5ex\" text-anchor=\"middle\" font-family=\"sans-serif\" font-size=\"9.67741935483871\" opacity=\"1\" fill=\"#FFFFFF\">\n",
       "55.0\n",
       "</text>\n",
       "<polyline fill=\"none\" opacity=\"1\" stroke=\"#FFFFFF\" stroke-width=\"1\" points=\"395,69 395,74 \"/>\n",
       "<text x=\"432\" y=\"65\" dy=\"-0.5ex\" text-anchor=\"middle\" font-family=\"sans-serif\" font-size=\"9.67741935483871\" opacity=\"1\" fill=\"#FFFFFF\">\n",
       "60.0\n",
       "</text>\n",
       "<polyline fill=\"none\" opacity=\"1\" stroke=\"#FFFFFF\" stroke-width=\"1\" points=\"432,69 432,74 \"/>\n",
       "<text x=\"470\" y=\"65\" dy=\"-0.5ex\" text-anchor=\"middle\" font-family=\"sans-serif\" font-size=\"9.67741935483871\" opacity=\"1\" fill=\"#FFFFFF\">\n",
       "65.0\n",
       "</text>\n",
       "<polyline fill=\"none\" opacity=\"1\" stroke=\"#FFFFFF\" stroke-width=\"1\" points=\"470,69 470,74 \"/>\n",
       "<text x=\"508\" y=\"65\" dy=\"-0.5ex\" text-anchor=\"middle\" font-family=\"sans-serif\" font-size=\"9.67741935483871\" opacity=\"1\" fill=\"#FFFFFF\">\n",
       "70.0\n",
       "</text>\n",
       "<polyline fill=\"none\" opacity=\"1\" stroke=\"#FFFFFF\" stroke-width=\"1\" points=\"508,69 508,74 \"/>\n",
       "<text x=\"546\" y=\"65\" dy=\"-0.5ex\" text-anchor=\"middle\" font-family=\"sans-serif\" font-size=\"9.67741935483871\" opacity=\"1\" fill=\"#FFFFFF\">\n",
       "75.0\n",
       "</text>\n",
       "<polyline fill=\"none\" opacity=\"1\" stroke=\"#FFFFFF\" stroke-width=\"1\" points=\"546,69 546,74 \"/>\n",
       "<text x=\"584\" y=\"65\" dy=\"-0.5ex\" text-anchor=\"middle\" font-family=\"sans-serif\" font-size=\"9.67741935483871\" opacity=\"1\" fill=\"#FFFFFF\">\n",
       "80.0\n",
       "</text>\n",
       "<polyline fill=\"none\" opacity=\"1\" stroke=\"#FFFFFF\" stroke-width=\"1\" points=\"584,69 584,74 \"/>\n",
       "<polyline fill=\"none\" opacity=\"1\" stroke=\"#FFFFFF\" stroke-width=\"1\" points=\"54,75 54,424 \"/>\n",
       "<text x=\"45\" y=\"420\" dy=\"0.5ex\" text-anchor=\"end\" font-family=\"sans-serif\" font-size=\"9.67741935483871\" opacity=\"1\" fill=\"#FFFFFF\">\n",
       "40.0\n",
       "</text>\n",
       "<polyline fill=\"none\" opacity=\"1\" stroke=\"#FFFFFF\" stroke-width=\"1\" points=\"49,420 54,420 \"/>\n",
       "<text x=\"45\" y=\"375\" dy=\"0.5ex\" text-anchor=\"end\" font-family=\"sans-serif\" font-size=\"9.67741935483871\" opacity=\"1\" fill=\"#FFFFFF\">\n",
       "50.0\n",
       "</text>\n",
       "<polyline fill=\"none\" opacity=\"1\" stroke=\"#FFFFFF\" stroke-width=\"1\" points=\"49,375 54,375 \"/>\n",
       "<text x=\"45\" y=\"330\" dy=\"0.5ex\" text-anchor=\"end\" font-family=\"sans-serif\" font-size=\"9.67741935483871\" opacity=\"1\" fill=\"#FFFFFF\">\n",
       "60.0\n",
       "</text>\n",
       "<polyline fill=\"none\" opacity=\"1\" stroke=\"#FFFFFF\" stroke-width=\"1\" points=\"49,330 54,330 \"/>\n",
       "<text x=\"45\" y=\"285\" dy=\"0.5ex\" text-anchor=\"end\" font-family=\"sans-serif\" font-size=\"9.67741935483871\" opacity=\"1\" fill=\"#FFFFFF\">\n",
       "70.0\n",
       "</text>\n",
       "<polyline fill=\"none\" opacity=\"1\" stroke=\"#FFFFFF\" stroke-width=\"1\" points=\"49,285 54,285 \"/>\n",
       "<text x=\"45\" y=\"241\" dy=\"0.5ex\" text-anchor=\"end\" font-family=\"sans-serif\" font-size=\"9.67741935483871\" opacity=\"1\" fill=\"#FFFFFF\">\n",
       "80.0\n",
       "</text>\n",
       "<polyline fill=\"none\" opacity=\"1\" stroke=\"#FFFFFF\" stroke-width=\"1\" points=\"49,241 54,241 \"/>\n",
       "<text x=\"45\" y=\"196\" dy=\"0.5ex\" text-anchor=\"end\" font-family=\"sans-serif\" font-size=\"9.67741935483871\" opacity=\"1\" fill=\"#FFFFFF\">\n",
       "90.0\n",
       "</text>\n",
       "<polyline fill=\"none\" opacity=\"1\" stroke=\"#FFFFFF\" stroke-width=\"1\" points=\"49,196 54,196 \"/>\n",
       "<text x=\"45\" y=\"151\" dy=\"0.5ex\" text-anchor=\"end\" font-family=\"sans-serif\" font-size=\"9.67741935483871\" opacity=\"1\" fill=\"#FFFFFF\">\n",
       "100.0\n",
       "</text>\n",
       "<polyline fill=\"none\" opacity=\"1\" stroke=\"#FFFFFF\" stroke-width=\"1\" points=\"49,151 54,151 \"/>\n",
       "<text x=\"45\" y=\"106\" dy=\"0.5ex\" text-anchor=\"end\" font-family=\"sans-serif\" font-size=\"9.67741935483871\" opacity=\"1\" fill=\"#FFFFFF\">\n",
       "110.0\n",
       "</text>\n",
       "<polyline fill=\"none\" opacity=\"1\" stroke=\"#FFFFFF\" stroke-width=\"1\" points=\"49,106 54,106 \"/>\n",
       "<polyline fill=\"none\" opacity=\"1\" stroke=\"#FFFFFF\" stroke-width=\"1\" points=\"55,425 584,425 \"/>\n",
       "<text x=\"55\" y=\"435\" dy=\"0.76em\" text-anchor=\"middle\" font-family=\"sans-serif\" font-size=\"9.67741935483871\" opacity=\"1\" fill=\"#FFFFFF\">\n",
       "10.0\n",
       "</text>\n",
       "<polyline fill=\"none\" opacity=\"1\" stroke=\"#FFFFFF\" stroke-width=\"1\" points=\"55,425 55,430 \"/>\n",
       "<text x=\"92\" y=\"435\" dy=\"0.76em\" text-anchor=\"middle\" font-family=\"sans-serif\" font-size=\"9.67741935483871\" opacity=\"1\" fill=\"#FFFFFF\">\n",
       "15.0\n",
       "</text>\n",
       "<polyline fill=\"none\" opacity=\"1\" stroke=\"#FFFFFF\" stroke-width=\"1\" points=\"92,425 92,430 \"/>\n",
       "<text x=\"130\" y=\"435\" dy=\"0.76em\" text-anchor=\"middle\" font-family=\"sans-serif\" font-size=\"9.67741935483871\" opacity=\"1\" fill=\"#FFFFFF\">\n",
       "20.0\n",
       "</text>\n",
       "<polyline fill=\"none\" opacity=\"1\" stroke=\"#FFFFFF\" stroke-width=\"1\" points=\"130,425 130,430 \"/>\n",
       "<text x=\"168\" y=\"435\" dy=\"0.76em\" text-anchor=\"middle\" font-family=\"sans-serif\" font-size=\"9.67741935483871\" opacity=\"1\" fill=\"#FFFFFF\">\n",
       "25.0\n",
       "</text>\n",
       "<polyline fill=\"none\" opacity=\"1\" stroke=\"#FFFFFF\" stroke-width=\"1\" points=\"168,425 168,430 \"/>\n",
       "<text x=\"206\" y=\"435\" dy=\"0.76em\" text-anchor=\"middle\" font-family=\"sans-serif\" font-size=\"9.67741935483871\" opacity=\"1\" fill=\"#FFFFFF\">\n",
       "30.0\n",
       "</text>\n",
       "<polyline fill=\"none\" opacity=\"1\" stroke=\"#FFFFFF\" stroke-width=\"1\" points=\"206,425 206,430 \"/>\n",
       "<text x=\"243\" y=\"435\" dy=\"0.76em\" text-anchor=\"middle\" font-family=\"sans-serif\" font-size=\"9.67741935483871\" opacity=\"1\" fill=\"#FFFFFF\">\n",
       "35.0\n",
       "</text>\n",
       "<polyline fill=\"none\" opacity=\"1\" stroke=\"#FFFFFF\" stroke-width=\"1\" points=\"243,425 243,430 \"/>\n",
       "<text x=\"281\" y=\"435\" dy=\"0.76em\" text-anchor=\"middle\" font-family=\"sans-serif\" font-size=\"9.67741935483871\" opacity=\"1\" fill=\"#FFFFFF\">\n",
       "40.0\n",
       "</text>\n",
       "<polyline fill=\"none\" opacity=\"1\" stroke=\"#FFFFFF\" stroke-width=\"1\" points=\"281,425 281,430 \"/>\n",
       "<text x=\"319\" y=\"435\" dy=\"0.76em\" text-anchor=\"middle\" font-family=\"sans-serif\" font-size=\"9.67741935483871\" opacity=\"1\" fill=\"#FFFFFF\">\n",
       "45.0\n",
       "</text>\n",
       "<polyline fill=\"none\" opacity=\"1\" stroke=\"#FFFFFF\" stroke-width=\"1\" points=\"319,425 319,430 \"/>\n",
       "<text x=\"357\" y=\"435\" dy=\"0.76em\" text-anchor=\"middle\" font-family=\"sans-serif\" font-size=\"9.67741935483871\" opacity=\"1\" fill=\"#FFFFFF\">\n",
       "50.0\n",
       "</text>\n",
       "<polyline fill=\"none\" opacity=\"1\" stroke=\"#FFFFFF\" stroke-width=\"1\" points=\"357,425 357,430 \"/>\n",
       "<text x=\"395\" y=\"435\" dy=\"0.76em\" text-anchor=\"middle\" font-family=\"sans-serif\" font-size=\"9.67741935483871\" opacity=\"1\" fill=\"#FFFFFF\">\n",
       "55.0\n",
       "</text>\n",
       "<polyline fill=\"none\" opacity=\"1\" stroke=\"#FFFFFF\" stroke-width=\"1\" points=\"395,425 395,430 \"/>\n",
       "<text x=\"432\" y=\"435\" dy=\"0.76em\" text-anchor=\"middle\" font-family=\"sans-serif\" font-size=\"9.67741935483871\" opacity=\"1\" fill=\"#FFFFFF\">\n",
       "60.0\n",
       "</text>\n",
       "<polyline fill=\"none\" opacity=\"1\" stroke=\"#FFFFFF\" stroke-width=\"1\" points=\"432,425 432,430 \"/>\n",
       "<text x=\"470\" y=\"435\" dy=\"0.76em\" text-anchor=\"middle\" font-family=\"sans-serif\" font-size=\"9.67741935483871\" opacity=\"1\" fill=\"#FFFFFF\">\n",
       "65.0\n",
       "</text>\n",
       "<polyline fill=\"none\" opacity=\"1\" stroke=\"#FFFFFF\" stroke-width=\"1\" points=\"470,425 470,430 \"/>\n",
       "<text x=\"508\" y=\"435\" dy=\"0.76em\" text-anchor=\"middle\" font-family=\"sans-serif\" font-size=\"9.67741935483871\" opacity=\"1\" fill=\"#FFFFFF\">\n",
       "70.0\n",
       "</text>\n",
       "<polyline fill=\"none\" opacity=\"1\" stroke=\"#FFFFFF\" stroke-width=\"1\" points=\"508,425 508,430 \"/>\n",
       "<text x=\"546\" y=\"435\" dy=\"0.76em\" text-anchor=\"middle\" font-family=\"sans-serif\" font-size=\"9.67741935483871\" opacity=\"1\" fill=\"#FFFFFF\">\n",
       "75.0\n",
       "</text>\n",
       "<polyline fill=\"none\" opacity=\"1\" stroke=\"#FFFFFF\" stroke-width=\"1\" points=\"546,425 546,430 \"/>\n",
       "<text x=\"584\" y=\"435\" dy=\"0.76em\" text-anchor=\"middle\" font-family=\"sans-serif\" font-size=\"9.67741935483871\" opacity=\"1\" fill=\"#FFFFFF\">\n",
       "80.0\n",
       "</text>\n",
       "<polyline fill=\"none\" opacity=\"1\" stroke=\"#FFFFFF\" stroke-width=\"1\" points=\"584,425 584,430 \"/>\n",
       "<polyline fill=\"none\" opacity=\"1\" stroke=\"#FFFFFF\" stroke-width=\"1\" points=\"585,75 585,424 \"/>\n",
       "<text x=\"622\" y=\"420\" dy=\"0.5ex\" text-anchor=\"end\" font-family=\"sans-serif\" font-size=\"9.67741935483871\" opacity=\"1\" fill=\"#FFFFFF\">\n",
       "40.0\n",
       "</text>\n",
       "<polyline fill=\"none\" opacity=\"1\" stroke=\"#FFFFFF\" stroke-width=\"1\" points=\"585,420 590,420 \"/>\n",
       "<text x=\"622\" y=\"375\" dy=\"0.5ex\" text-anchor=\"end\" font-family=\"sans-serif\" font-size=\"9.67741935483871\" opacity=\"1\" fill=\"#FFFFFF\">\n",
       "50.0\n",
       "</text>\n",
       "<polyline fill=\"none\" opacity=\"1\" stroke=\"#FFFFFF\" stroke-width=\"1\" points=\"585,375 590,375 \"/>\n",
       "<text x=\"622\" y=\"330\" dy=\"0.5ex\" text-anchor=\"end\" font-family=\"sans-serif\" font-size=\"9.67741935483871\" opacity=\"1\" fill=\"#FFFFFF\">\n",
       "60.0\n",
       "</text>\n",
       "<polyline fill=\"none\" opacity=\"1\" stroke=\"#FFFFFF\" stroke-width=\"1\" points=\"585,330 590,330 \"/>\n",
       "<text x=\"622\" y=\"285\" dy=\"0.5ex\" text-anchor=\"end\" font-family=\"sans-serif\" font-size=\"9.67741935483871\" opacity=\"1\" fill=\"#FFFFFF\">\n",
       "70.0\n",
       "</text>\n",
       "<polyline fill=\"none\" opacity=\"1\" stroke=\"#FFFFFF\" stroke-width=\"1\" points=\"585,285 590,285 \"/>\n",
       "<text x=\"622\" y=\"241\" dy=\"0.5ex\" text-anchor=\"end\" font-family=\"sans-serif\" font-size=\"9.67741935483871\" opacity=\"1\" fill=\"#FFFFFF\">\n",
       "80.0\n",
       "</text>\n",
       "<polyline fill=\"none\" opacity=\"1\" stroke=\"#FFFFFF\" stroke-width=\"1\" points=\"585,241 590,241 \"/>\n",
       "<text x=\"622\" y=\"196\" dy=\"0.5ex\" text-anchor=\"end\" font-family=\"sans-serif\" font-size=\"9.67741935483871\" opacity=\"1\" fill=\"#FFFFFF\">\n",
       "90.0\n",
       "</text>\n",
       "<polyline fill=\"none\" opacity=\"1\" stroke=\"#FFFFFF\" stroke-width=\"1\" points=\"585,196 590,196 \"/>\n",
       "<text x=\"595\" y=\"151\" dy=\"0.5ex\" text-anchor=\"start\" font-family=\"sans-serif\" font-size=\"9.67741935483871\" opacity=\"1\" fill=\"#FFFFFF\">\n",
       "100.0\n",
       "</text>\n",
       "<polyline fill=\"none\" opacity=\"1\" stroke=\"#FFFFFF\" stroke-width=\"1\" points=\"585,151 590,151 \"/>\n",
       "<text x=\"595\" y=\"106\" dy=\"0.5ex\" text-anchor=\"start\" font-family=\"sans-serif\" font-size=\"9.67741935483871\" opacity=\"1\" fill=\"#FFFFFF\">\n",
       "110.0\n",
       "</text>\n",
       "<polyline fill=\"none\" opacity=\"1\" stroke=\"#FFFFFF\" stroke-width=\"1\" points=\"585,106 590,106 \"/>\n",
       "<polyline fill=\"none\" opacity=\"1\" stroke=\"#FF0000\" stroke-width=\"1\" points=\"55,348 62,329 70,310 77,292 85,276 92,259 100,244 107,230 115,217 123,204 130,192 138,180 145,169 153,159 160,150 168,141 175,133 183,125 191,118 198,111 206,106 213,100 221,95 228,91 236,87 243,84 251,81 259,79 266,78 274,76 281,76 289,75 296,76 304,77 311,79 319,80 327,82 334,86 342,89 349,93 357,97 364,102 372,107 379,112 387,119 395,125 402,132 410,140 417,148 425,156 432,165 440,174 447,183 455,193 463,204 470,215 478,226 485,238 493,250 500,263 508,276 515,289 523,302 531,317 538,331 546,346 553,361 561,376 568,392 576,408 584,424 \"/>\n",
       "<rect x=\"421\" y=\"235\" width=\"159\" height=\"30\" opacity=\"1\" fill=\"none\" stroke=\"#FFFFFF\"/>\n",
       "<text x=\"461\" y=\"245\" dy=\"0.76em\" text-anchor=\"start\" font-family=\"sans-serif\" font-size=\"9.67741935483871\" opacity=\"1\" fill=\"#FFFFFF\">\n",
       "horizontal range (m)\n",
       "</text>\n",
       "<polyline fill=\"none\" opacity=\"1\" stroke=\"#FF0000\" stroke-width=\"1\" points=\"431,250 451,250 \"/>\n",
       "</svg>\n"
      ]
     },
     "metadata": {},
     "output_type": "display_data"
    },
    {
     "name": "stdout",
     "output_type": "stream",
     "text": [
      "type Mut0 = {mutable l0 : int32}\n",
      "and UH0 =\n",
      "    | UH0_0 of float * float * float * float * float * float * float * float * float * UH0\n",
      "    | UH0_1\n",
      "and UH1 =\n",
      "    | UH1_0 of float * float * UH1\n",
      "    | UH1_1\n",
      "let rec method1 (v0 : Mut0) : bool =\n",
      "    let v1 : int32 = v0.l0\n",
      "    let v2 : bool = v1 < 71\n",
      "    v2\n",
      "and method2 (v0 : int32, v1 : Mut0) : bool =\n",
      "    let v2 : int32 = v1.l0\n",
      "    let v3 : bool = v2 < v0\n",
      "    v3\n",
      "and method4 (v0 : float, v1 : float, v2 : float, v3 : float, v4 : float, v5 : float, v6 : float, v7 : float, v8 : float, v9 : int32) : struct (float * float * float * float * float * float * float * float * float) =\n",
      "    let v10 : bool = v9 <= 0\n",
      "    if v10 then\n",
      "        struct (v0, v1, v2, v3, v4, v5, v6, v7, v8)\n",
      "    else\n",
      "        let v11 : float = v6 * v6\n",
      "        let v12 : float = v7 * v7\n",
      "        let v13 : float = v11 + v12\n",
      "        let v14 : float = v8 * v8\n",
      "        let v15 : float = v13 + v14\n",
      "        let v16 : float = sqrt v15\n",
      "        let v17 : float = -0.0007902794129829633 * v16\n",
      "        let v18 : float = v17 * v6\n",
      "        let v19 : float = v17 * v7\n",
      "        let v20 : float = v17 * v8\n",
      "        let v21 : float =  -v1\n",
      "        let v22 : float = v21 * 9.80665\n",
      "        let v23 : float = v22 * 0.0\n",
      "        let v24 : float = v23 + v18\n",
      "        let v25 : float = v23 + v19\n",
      "        let v26 : float = v22 + v20\n",
      "        let v27 : float = v24 / v1\n",
      "        let v28 : float = v25 / v1\n",
      "        let v29 : float = v26 / v1\n",
      "        let v30 : float = 0.01 * v27\n",
      "        let v31 : float = 0.01 * v28\n",
      "        let v32 : float = 0.01 * v29\n",
      "        let v33 : float = v6 + v30\n",
      "        let v34 : float = v7 + v31\n",
      "        let v35 : float = v8 + v32\n",
      "        let v36 : float = v5 + 0.01\n",
      "        let v37 : float = 0.01 * v33\n",
      "        let v38 : float = 0.01 * v34\n",
      "        let v39 : float = 0.01 * v35\n",
      "        let v40 : float = v2 + v37\n",
      "        let v41 : float = v3 + v38\n",
      "        let v42 : float = v4 + v39\n",
      "        let v43 : int32 = v9 - 1\n",
      "        method4(v0, v1, v40, v41, v42, v36, v33, v34, v35, v43)\n",
      "and method5 (v0 : UH0, v1 : UH0) : UH0 =\n",
      "    match v0 with\n",
      "    | UH0_0(v2, v3, v4, v5, v6, v7, v8, v9, v10, v11) -> (* Cons *)\n",
      "        let v12 : UH0 = UH0_0(v2, v3, v4, v5, v6, v7, v8, v9, v10, v1)\n",
      "        method5(v11, v12)\n",
      "    | UH0_1 -> (* Nil *)\n",
      "        v1\n",
      "and method3 (v0 : float, v1 : float, v2 : UH0, v3 : int32) : UH0 =\n",
      "    let v4 : float = 0.0\n",
      "    let v5 : float = 0.145\n",
      "    let v6 : float = 0.0\n",
      "    let v7 : float = 0.0\n",
      "    let v8 : float = 0.0\n",
      "    let v9 : float = 0.0\n",
      "    let v10 : float = 0.0\n",
      "    let struct (v11 : float, v12 : float, v13 : float, v14 : float, v15 : float, v16 : float, v17 : float, v18 : float, v19 : float) = method4(v4, v5, v6, v7, v8, v9, v10, v0, v1, v3)\n",
      "    let v20 : bool = v15 >= 0.0\n",
      "    if v20 then\n",
      "        let v21 : UH0 = UH0_0(v11, v12, v13, v14, v15, v16, v17, v18, v19, v2)\n",
      "        let v22 : int32 = v3 + 1\n",
      "        method3(v0, v1, v21, v22)\n",
      "    else\n",
      "        let v24 : UH0 = UH0_1\n",
      "        method5(v2, v24)\n",
      "and method6 (v0 : UH0, v1 : UH1) : UH1 =\n",
      "    match v0 with\n",
      "    | UH0_0(v2, v3, v4, v5, v6, v7, v8, v9, v10, v11) -> (* Cons *)\n",
      "        let v12 : UH1 = method6(v11, v1)\n",
      "        UH1_0(v5, v6, v12)\n",
      "    | UH0_1 -> (* Nil *)\n",
      "        v1\n",
      "and method7 (v0 : UH1, v1 : float) : float =\n",
      "    match v0 with\n",
      "    | UH1_0(v2, v3, v4) -> (* Cons *)\n",
      "        method7(v4, v2)\n",
      "    | UH1_1 -> (* Nil *)\n",
      "        v1\n",
      "and method0 () : struct (string * string * (float []) * string * (struct (string * (float [])) [])) =\n",
      "    let v0 : (float []) = Array.zeroCreate<float> (71)\n",
      "    let v1 : Mut0 = {l0 = 0} : Mut0\n",
      "    while method1(v1) do\n",
      "        let v3 : int32 = v1.l0\n",
      "        let v4 : float = float v3\n",
      "        let v5 : float = 10.0 + v4\n",
      "        v0.[int v3] <- v5\n",
      "        let v6 : int32 = v3 + 1\n",
      "        v1.l0 <- v6\n",
      "        ()\n",
      "    let v7 : int32 = v0.Length\n",
      "    let v8 : (float []) = Array.zeroCreate<float> (v7)\n",
      "    let v9 : Mut0 = {l0 = 0} : Mut0\n",
      "    while method2(v7, v9) do\n",
      "        let v11 : int32 = v9.l0\n",
      "        let v12 : float = v0.[int v11]\n",
      "        let v13 : float = v12 * 3.141592653589793\n",
      "        let v14 : float = v13 / 180.0\n",
      "        let v15 : float = cos v14\n",
      "        let v16 : float = 45.0 * v15\n",
      "        let v17 : float = sin v14\n",
      "        let v18 : float = 45.0 * v17\n",
      "        let v19 : UH0 = UH0_1\n",
      "        let v20 : int32 = 0\n",
      "        let v21 : UH0 = method3(v16, v18, v19, v20)\n",
      "        let v22 : UH1 = UH1_1\n",
      "        let v23 : UH1 = method6(v21, v22)\n",
      "        let v24 : float = 0.0\n",
      "        let v25 : float = method7(v23, v24)\n",
      "        v8.[int v11] <- v25\n",
      "        let v26 : int32 = v11 + 1\n",
      "        v9.l0 <- v26\n",
      "        ()\n",
      "    let v27 : string = \"horizontal range (m)\"\n",
      "    let v28 : (struct (string * (float [])) []) = [|struct (v27, v8)|]\n",
      "    let v29 : string = \"range for a baseball hit at 45 m/s\"\n",
      "    let v30 : string = \"angle above horizontal (degrees)\"\n",
      "    let v31 : string = \"\"\n",
      "    struct (v29, v30, v0, v31, v28)\n",
      "method0()\n",
      "\r\n"
     ]
    }
   ],
   "source": [
    "// // test\n",
    "\n",
    "inl baseball_forces () =\n",
    "    inl area = pi * (0.074 / 2) ** 2\n",
    "    [\n",
    "        earth_surface_gravity\n",
    "        air_resistance 0.3 1.225 area\n",
    "    ]\n",
    "\n",
    "inl baseball_trajectory dt v0 theta_deg =\n",
    "    inl theta_rad = theta_deg * pi / 180\n",
    "    inl vy0 = v0 * cos theta_rad\n",
    "    inl vz0 = v0 * sin theta_rad\n",
    "    inl initial_state =\n",
    "        particle_state {\n",
    "            mass = 0.145\n",
    "            charge = 0\n",
    "            time = 0\n",
    "            pos_vec = zero_vec ()\n",
    "            velocity = vec 0 vy0 vz0\n",
    "        }\n",
    "    states_ps (euler_cromer_ps dt) (baseball_forces ()) initial_state\n",
    "    |> z_ge0\n",
    "    |> trajectory\n",
    "\n",
    "inl baseball_range dt v0 theta_deg =\n",
    "    baseball_trajectory dt v0 theta_deg\n",
    "    |> listm.fold (fun _ (y, _) => y) 0\n",
    "\n",
    "inl x : a _ f64 = init_series 10 80 1\n",
    "inl y = x |> am.map (baseball_range 0.01 45)\n",
    "\"range for a baseball hit at 45 m/s\", \"angle above horizontal (degrees)\", x, \"\", ;[\"horizontal range (m)\", y]"
   ]
  },
  {
   "cell_type": "code",
   "execution_count": null,
   "metadata": {
    "dotnet_interactive": {
     "language": "spiral"
    },
    "polyglot_notebook": {
     "kernelName": "spiral"
    }
   },
   "outputs": [
    {
     "name": "stdout",
     "output_type": "stream",
     "text": [
      "type UH0 =\n",
      "    | UH0_0 of float * float * float * float * float * float * float * float * float * UH0\n",
      "    | UH0_1\n",
      "and UH1 =\n",
      "    | UH1_0 of float * float * UH1\n",
      "    | UH1_1\n",
      "let rec method3 (v0 : float, v1 : float, v2 : float, v3 : float, v4 : float, v5 : float, v6 : float, v7 : float, v8 : float, v9 : int32) : struct (float * float * float * float * float * float * float * float * float) =\n",
      "    let v10 : bool = v9 <= 0\n",
      "    if v10 then\n",
      "        struct (v0, v1, v2, v3, v4, v5, v6, v7, v8)\n",
      "    else\n",
      "        let v11 : float = v6 * v6\n",
      "        let v12 : float = v7 * v7\n",
      "        let v13 : float = v11 + v12\n",
      "        let v14 : float = v8 * v8\n",
      "        let v15 : float = v13 + v14\n",
      "        let v16 : float = sqrt v15\n",
      "        let v17 : float = -0.0007902794129829633 * v16\n",
      "        let v18 : float = v17 * v6\n",
      "        let v19 : float = v17 * v7\n",
      "        let v20 : float = v17 * v8\n",
      "        let v21 : float =  -v1\n",
      "        let v22 : float = v21 * 9.80665\n",
      "        let v23 : float = v22 * 0.0\n",
      "        let v24 : float = v23 + v18\n",
      "        let v25 : float = v23 + v19\n",
      "        let v26 : float = v22 + v20\n",
      "        let v27 : float = v24 / v1\n",
      "        let v28 : float = v25 / v1\n",
      "        let v29 : float = v26 / v1\n",
      "        let v30 : float = 0.01 * v27\n",
      "        let v31 : float = 0.01 * v28\n",
      "        let v32 : float = 0.01 * v29\n",
      "        let v33 : float = v6 + v30\n",
      "        let v34 : float = v7 + v31\n",
      "        let v35 : float = v8 + v32\n",
      "        let v36 : float = v5 + 0.01\n",
      "        let v37 : float = 0.01 * v33\n",
      "        let v38 : float = 0.01 * v34\n",
      "        let v39 : float = 0.01 * v35\n",
      "        let v40 : float = v2 + v37\n",
      "        let v41 : float = v3 + v38\n",
      "        let v42 : float = v4 + v39\n",
      "        let v43 : int32 = v9 - 1\n",
      "        method3(v0, v1, v40, v41, v42, v36, v33, v34, v35, v43)\n",
      "and method4 (v0 : UH0, v1 : UH0) : UH0 =\n",
      "    match v0 with\n",
      "    | UH0_0(v2, v3, v4, v5, v6, v7, v8, v9, v10, v11) -> (* Cons *)\n",
      "        let v12 : UH0 = UH0_0(v2, v3, v4, v5, v6, v7, v8, v9, v10, v1)\n",
      "        method4(v11, v12)\n",
      "    | UH0_1 -> (* Nil *)\n",
      "        v1\n",
      "and method2 (v0 : float, v1 : float, v2 : UH0, v3 : int32) : UH0 =\n",
      "    let v4 : float = 0.0\n",
      "    let v5 : float = 0.145\n",
      "    let v6 : float = 0.0\n",
      "    let v7 : float = 0.0\n",
      "    let v8 : float = 0.0\n",
      "    let v9 : float = 0.0\n",
      "    let v10 : float = 0.0\n",
      "    let struct (v11 : float, v12 : float, v13 : float, v14 : float, v15 : float, v16 : float, v17 : float, v18 : float, v19 : float) = method3(v4, v5, v6, v7, v8, v9, v10, v0, v1, v3)\n",
      "    let v20 : bool = v15 >= 0.0\n",
      "    if v20 then\n",
      "        let v21 : UH0 = UH0_0(v11, v12, v13, v14, v15, v16, v17, v18, v19, v2)\n",
      "        let v22 : int32 = v3 + 1\n",
      "        method2(v0, v1, v21, v22)\n",
      "    else\n",
      "        let v24 : UH0 = UH0_1\n",
      "        method4(v2, v24)\n",
      "and method5 (v0 : UH0, v1 : UH1) : UH1 =\n",
      "    match v0 with\n",
      "    | UH0_0(v2, v3, v4, v5, v6, v7, v8, v9, v10, v11) -> (* Cons *)\n",
      "        let v12 : UH1 = method5(v11, v1)\n",
      "        UH1_0(v5, v6, v12)\n",
      "    | UH0_1 -> (* Nil *)\n",
      "        v1\n",
      "and method6 (v0 : UH1, v1 : float) : float =\n",
      "    match v0 with\n",
      "    | UH1_0(v2, v3, v4) -> (* Cons *)\n",
      "        method6(v4, v2)\n",
      "    | UH1_1 -> (* Nil *)\n",
      "        v1\n",
      "and method1 (v0 : float, v1 : float, v2 : float) : struct (float * float) =\n",
      "    let v3 : bool = v0 > 60.0\n",
      "    if v3 then\n",
      "        struct (v2, v1)\n",
      "    else\n",
      "        let v4 : float = v0 * 3.141592653589793\n",
      "        let v5 : float = v4 / 180.0\n",
      "        let v6 : float = cos v5\n",
      "        let v7 : float = 45.0 * v6\n",
      "        let v8 : float = sin v5\n",
      "        let v9 : float = 45.0 * v8\n",
      "        let v10 : UH0 = UH0_1\n",
      "        let v11 : int32 = 0\n",
      "        let v12 : UH0 = method2(v7, v9, v10, v11)\n",
      "        let v13 : UH1 = UH1_1\n",
      "        let v14 : UH1 = method5(v12, v13)\n",
      "        let v15 : float = 0.0\n",
      "        let v16 : float = method6(v14, v15)\n",
      "        let v17 : float = v0 + 1.0\n",
      "        let v18 : bool = v16 > v2\n",
      "        let struct (v19 : float, v20 : float) =\n",
      "            if v18 then\n",
      "                struct (v16, v0)\n",
      "            else\n",
      "                struct (v2, v1)\n",
      "        method1(v17, v20, v19)\n",
      "and method0 () : unit =\n",
      "    let v0 : float = 30.0\n",
      "    let v1 : float = 0.0\n",
      "    let v2 : float = 30.0\n",
      "    let struct (v3 : float, v4 : float) = method1(v0, v2, v1)\n",
      "    let v5 : bool = v3 = 116.77499158246208\n",
      "    let v7 : bool =\n",
      "        if v5 then\n",
      "            let v6 : bool = v4 = 41.0\n",
      "            v6\n",
      "        else\n",
      "            false\n",
      "    let v8 : string = $\"_equal / actual: {struct (v3, v4)} / expected: {struct (116.77499158246208, 41.0)}\"\n",
      "    let v9 : bool = v7 = false\n",
      "    if v9 then\n",
      "        failwith<unit> v8\n",
      "method0()\n",
      "\r\n"
     ]
    }
   ],
   "source": [
    "// // test\n",
    "\n",
    "inl best_angle (min, max) =\n",
    "    let rec loop theta_deg (best_range, best_theta_deg) =\n",
    "        if theta_deg > max\n",
    "        then best_range, best_theta_deg\n",
    "        else\n",
    "            inl range = baseball_range 0.01 45 theta_deg\n",
    "            loop\n",
    "                (theta_deg + 1)\n",
    "                (if range > best_range\n",
    "                    then range, theta_deg\n",
    "                    else best_range, best_theta_deg)\n",
    "    loop min (0f64, min)\n",
    "\n",
    "best_angle (30f64, 60f64)\n",
    "|> _equal (116.77499158246208, 41)"
   ]
  },
  {
   "cell_type": "markdown",
   "metadata": {},
   "source": [
    "## end"
   ]
  }
 ],
 "metadata": {},
 "nbformat": 4,
 "nbformat_minor": 5
}