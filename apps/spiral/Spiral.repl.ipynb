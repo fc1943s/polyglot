{
 "cells": [
  {
   "cell_type": "markdown",
   "metadata": {},
   "source": [
    "## ???"
   ]
  },
  {
   "cell_type": "code",
   "execution_count": null,
   "metadata": {
    "dotnet_interactive": {
     "language": "spiral"
    },
    "polyglot_notebook": {
     "kernelName": "spiral"
    }
   },
   "outputs": [
    {
     "name": "stdout",
     "output_type": "stream",
     "text": [
      "12:35:55 #1 [Info] SpiralScriptHelpers.Eval / code:\n",
      "()\n",
      "\r\n"
     ]
    }
   ],
   "source": [
    "// // test\n",
    "\n",
    "inl _almost_equal b a =\n",
    "    assert (abs (b - a) < 0.00000001) $\"$\\\"_almost_equal / actual: {!a} / expected: {!b}\\\"\"\n",
    "\n",
    "inl _equal b a =\n",
    "    assert (a = b) $\"$\\\"_equal / actual: {!a} / expected: {!b}\\\"\"\n",
    "\n",
    "inl _is_less_than b a =\n",
    "    assert (b < a) $\"$\\\"_is_less_than / actual: {!a} / expected: {!b}\\\"\"\n",
    "\n",
    "inl _is_less_than_or_equal b a =\n",
    "    assert (b <= a) $\"$\\\"_is_less_than_or_equal / actual: {!a} / expected: {!b}\\\"\""
   ]
  },
  {
   "cell_type": "code",
   "execution_count": null,
   "metadata": {
    "dotnet_interactive": {
     "language": "spiral"
    },
    "polyglot_notebook": {
     "kernelName": "spiral"
    }
   },
   "outputs": [
    {
     "name": "stdout",
     "output_type": "stream",
     "text": [
      "12:35:58 #2 [Info] SpiralScriptHelpers.Eval / code:\n",
      "()\n",
      "\r\n"
     ]
    }
   ],
   "source": [
    "inl atan2 (y : f64) (x : f64) =\n",
    "    $\"System.Math.Atan2 (!y, !x)\" : f64\n",
    "\n",
    "inl cos (d : f64) =\n",
    "    $\"System.Math.Cos !d\" : f64\n",
    "\n",
    "inl log_base (new_base : f64) (a : f64) =\n",
    "    $\"System.Math.Log (!a, !new_base)\" : f64\n",
    "\n",
    "inl pi () =\n",
    "    $\"System.Math.PI\" : f64"
   ]
  },
  {
   "cell_type": "code",
   "execution_count": null,
   "metadata": {
    "dotnet_interactive": {
     "language": "spiral"
    },
    "polyglot_notebook": {
     "kernelName": "spiral"
    }
   },
   "outputs": [
    {
     "name": "stdout",
     "output_type": "stream",
     "text": [
      "12:35:59 #3 [Info] SpiralScriptHelpers.Eval / code:\n",
      "let v0 : string = $\"_almost_equal / actual: {3.1622776601683795} / expected: {3.1622776601683795}\"\n",
      "()\n",
      "\r\n"
     ]
    }
   ],
   "source": [
    "// // test\n",
    "\n",
    "2 * 2 / 0.4f64\n",
    "|> sqrt\n",
    "|> _almost_equal 3.1622776601683795"
   ]
  },
  {
   "cell_type": "code",
   "execution_count": null,
   "metadata": {
    "dotnet_interactive": {
     "language": "spiral"
    },
    "polyglot_notebook": {
     "kernelName": "spiral"
    }
   },
   "outputs": [
    {
     "name": "stdout",
     "output_type": "stream",
     "text": [
      "12:36:01 #4 [Info] SpiralScriptHelpers.Eval / code:\n",
      "let v0 : string = $\"_almost_equal / actual: {0.6666666666666666} / expected: {0.6666666666666666}\"\n",
      "()\n",
      "\r\n"
     ]
    }
   ],
   "source": [
    "// // test\n",
    "\n",
    "2f64 / 3\n",
    "|> _almost_equal 0.6666666666666666"
   ]
  },
  {
   "cell_type": "code",
   "execution_count": null,
   "metadata": {
    "dotnet_interactive": {
     "language": "spiral"
    },
    "polyglot_notebook": {
     "kernelName": "spiral"
    }
   },
   "outputs": [
    {
     "name": "stdout",
     "output_type": "stream",
     "text": [
      "12:36:03 #5 [Info] SpiralScriptHelpers.Eval / code:\n",
      "let v0 : string = $\"_almost_equal / actual: {0.6931471805599453} / expected: {0.6931471805599453}\"\n",
      "()\n",
      "\r\n"
     ]
    }
   ],
   "source": [
    "// // test\n",
    "\n",
    "2f64\n",
    "|> log\n",
    "|> _almost_equal 0.6931471805599453"
   ]
  },
  {
   "cell_type": "code",
   "execution_count": null,
   "metadata": {
    "dotnet_interactive": {
     "language": "spiral"
    },
    "polyglot_notebook": {
     "kernelName": "spiral"
    }
   },
   "outputs": [
    {
     "name": "stdout",
     "output_type": "stream",
     "text": [
      "12:36:04 #6 [Info] SpiralScriptHelpers.Eval / code:\n",
      "let v0 : float = System.Math.PI\n",
      "let v1 : float = 3.141592653589793 - v0\n",
      "let v2 : float =  -v1\n",
      "let v3 : bool = v1 >= v2\n",
      "let v4 : float =\n",
      "    if v3 then\n",
      "        v1\n",
      "    else\n",
      "        v2\n",
      "let v5 : bool = v4 < 1E-08\n",
      "let v6 : string = $\"_almost_equal / actual: {v0} / expected: {3.141592653589793}\"\n",
      "let v7 : bool = v5 = false\n",
      "if v7 then\n",
      "    failwith<unit> v6\n",
      "\r\n"
     ]
    }
   ],
   "source": [
    "// // test\n",
    "\n",
    "pi ()\n",
    "|> _almost_equal 3.141592653589793"
   ]
  },
  {
   "cell_type": "code",
   "execution_count": null,
   "metadata": {
    "dotnet_interactive": {
     "language": "spiral"
    },
    "polyglot_notebook": {
     "kernelName": "spiral"
    }
   },
   "outputs": [
    {
     "name": "stdout",
     "output_type": "stream",
     "text": [
      "12:36:06 #7 [Info] SpiralScriptHelpers.Eval / code:\n",
      "let v0 : float = System.Math.PI\n",
      "let v1 : float = System.Math.Cos v0\n",
      "let v2 : bool = v1 = -1.0\n",
      "let v3 : string = $\"_equal / actual: {v1} / expected: {-1.0}\"\n",
      "let v4 : bool = v2 = false\n",
      "if v4 then\n",
      "    failwith<unit> v3\n",
      "\r\n"
     ]
    }
   ],
   "source": [
    "// // test\n",
    "\n",
    "pi ()\n",
    "|> cos\n",
    "|> _equal -1"
   ]
  },
  {
   "cell_type": "code",
   "execution_count": null,
   "metadata": {
    "dotnet_interactive": {
     "language": "spiral"
    },
    "polyglot_notebook": {
     "kernelName": "spiral"
    }
   },
   "outputs": [
    {
     "name": "stdout",
     "output_type": "stream",
     "text": [
      "12:36:07 #8 [Info] SpiralScriptHelpers.Eval / code:\n",
      "let v0 : float = System.Math.PI\n",
      "let v1 : float = System.Math.Cos v0\n",
      "let v2 : float = v1 / 2.0\n",
      "let v3 : float = -0.5 - v2\n",
      "let v4 : float =  -v3\n",
      "let v5 : bool = v3 >= v4\n",
      "let v6 : float =\n",
      "    if v5 then\n",
      "        v3\n",
      "    else\n",
      "        v4\n",
      "let v7 : bool = v6 < 1E-08\n",
      "let v8 : string = $\"_almost_equal / actual: {v2} / expected: {-0.5}\"\n",
      "let v9 : bool = v7 = false\n",
      "if v9 then\n",
      "    failwith<unit> v8\n",
      "\r\n"
     ]
    }
   ],
   "source": [
    "// // test\n",
    "\n",
    "pi ()\n",
    "|> cos\n",
    "|> fun n => n / 2\n",
    "|> _almost_equal -0.5"
   ]
  },
  {
   "cell_type": "code",
   "execution_count": null,
   "metadata": {
    "dotnet_interactive": {
     "language": "spiral"
    },
    "polyglot_notebook": {
     "kernelName": "spiral"
    }
   },
   "outputs": [
    {
     "name": "stdout",
     "output_type": "stream",
     "text": [
      "12:36:09 #9 [Info] SpiralScriptHelpers.Eval / code:\n",
      "let v0 : float = System.Math.PI\n",
      "let v1 : float = v0 / 2.0\n",
      "let v2 : float = System.Math.Cos v1\n",
      "let v3 : float = 6.123233995736766E-17 - v2\n",
      "let v4 : float =  -v3\n",
      "let v5 : bool = v3 >= v4\n",
      "let v6 : float =\n",
      "    if v5 then\n",
      "        v3\n",
      "    else\n",
      "        v4\n",
      "let v7 : bool = v6 < 1E-08\n",
      "let v8 : string = $\"_almost_equal / actual: {v2} / expected: {6.123233995736766E-17}\"\n",
      "let v9 : bool = v7 = false\n",
      "if v9 then\n",
      "    failwith<unit> v8\n",
      "\r\n"
     ]
    }
   ],
   "source": [
    "// // test\n",
    "\n",
    "pi () / 2\n",
    "|> cos\n",
    "|> _almost_equal 0.00000000000000006123233995736766"
   ]
  },
  {
   "cell_type": "code",
   "execution_count": null,
   "metadata": {
    "dotnet_interactive": {
     "language": "spiral"
    },
    "polyglot_notebook": {
     "kernelName": "spiral"
    }
   },
   "outputs": [
    {
     "name": "stdout",
     "output_type": "stream",
     "text": [
      "12:36:10 #10 [Info] SpiralScriptHelpers.Eval / code:\n",
      "let v0 : float = System.Math.Log (100.0, 10.0)\n",
      "let v1 : bool = v0 = 2.0\n",
      "let v2 : string = $\"_equal / actual: {v0} / expected: {2.0}\"\n",
      "let v3 : bool = v1 = false\n",
      "if v3 then\n",
      "    failwith<unit> v2\n",
      "\r\n"
     ]
    }
   ],
   "source": [
    "// // test\n",
    "\n",
    "100 |> log_base 10\n",
    "|> _equal 2"
   ]
  },
  {
   "cell_type": "code",
   "execution_count": null,
   "metadata": {
    "dotnet_interactive": {
     "language": "spiral"
    },
    "polyglot_notebook": {
     "kernelName": "spiral"
    }
   },
   "outputs": [
    {
     "name": "stdout",
     "output_type": "stream",
     "text": [
      "12:36:12 #11 [Info] SpiralScriptHelpers.Eval / code:\n",
      "let v0 : float = System.Math.Atan2 (1.0, 0.0)\n",
      "let v1 : bool = v0 = 1.5707963267948966\n",
      "let v2 : string = $\"_equal / actual: {v0} / expected: {1.5707963267948966}\"\n",
      "let v3 : bool = v1 = false\n",
      "if v3 then\n",
      "    failwith<unit> v2\n",
      "\r\n"
     ]
    }
   ],
   "source": [
    "// // test\n",
    "\n",
    "0 |> atan2 1\n",
    "|> _equal 1.5707963267948966"
   ]
  },
  {
   "cell_type": "code",
   "execution_count": null,
   "metadata": {
    "dotnet_interactive": {
     "language": "spiral"
    },
    "polyglot_notebook": {
     "kernelName": "spiral"
    }
   },
   "outputs": [
    {
     "name": "stdout",
     "output_type": "stream",
     "text": [
      "12:36:13 #12 [Info] SpiralScriptHelpers.Eval / code:\n",
      "let v0 : string = $\"_almost_equal / actual: {5.000000000000001} / expected: {5.0}\"\n",
      "()\n",
      "\r\n"
     ]
    }
   ],
   "source": [
    "// // test\n",
    "\n",
    "5f64\n",
    "|> sqrt\n",
    "|> fun n => n ** 2\n",
    "|> _almost_equal 5"
   ]
  },
  {
   "cell_type": "code",
   "execution_count": null,
   "metadata": {
    "dotnet_interactive": {
     "language": "spiral"
    },
    "polyglot_notebook": {
     "kernelName": "spiral"
    }
   },
   "outputs": [
    {
     "name": "stdout",
     "output_type": "stream",
     "text": [
      "12:36:15 #13 [Info] SpiralScriptHelpers.Eval / code:\n",
      "()\n",
      "\r\n"
     ]
    }
   ],
   "source": [
    "// // test\n",
    "()"
   ]
  },
  {
   "cell_type": "code",
   "execution_count": null,
   "metadata": {
    "dotnet_interactive": {
     "language": "spiral"
    },
    "polyglot_notebook": {
     "kernelName": "spiral"
    }
   },
   "outputs": [
    {
     "name": "stdout",
     "output_type": "stream",
     "text": [
      "12:36:16 #14 [Info] SpiralScriptHelpers.Eval / code:\n",
      "()\n",
      "\r\n"
     ]
    }
   ],
   "source": [
    "// // test\n",
    "()"
   ]
  },
  {
   "cell_type": "code",
   "execution_count": null,
   "metadata": {
    "dotnet_interactive": {
     "language": "spiral"
    },
    "polyglot_notebook": {
     "kernelName": "spiral"
    }
   },
   "outputs": [
    {
     "name": "stdout",
     "output_type": "stream",
     "text": [
      "12:36:18 #15 [Info] SpiralScriptHelpers.Eval / code:\n",
      "()\n",
      "\r\n"
     ]
    }
   ],
   "source": [
    "// // test\n",
    "()"
   ]
  },
  {
   "cell_type": "code",
   "execution_count": null,
   "metadata": {
    "dotnet_interactive": {
     "language": "spiral"
    },
    "polyglot_notebook": {
     "kernelName": "spiral"
    }
   },
   "outputs": [
    {
     "name": "stdout",
     "output_type": "stream",
     "text": [
      "12:36:19 #16 [Info] SpiralScriptHelpers.Eval / code:\n",
      "()\n",
      "\r\n"
     ]
    }
   ],
   "source": [
    "// // test\n",
    "()"
   ]
  },
  {
   "cell_type": "code",
   "execution_count": null,
   "metadata": {
    "dotnet_interactive": {
     "language": "spiral"
    },
    "polyglot_notebook": {
     "kernelName": "spiral"
    }
   },
   "outputs": [
    {
     "name": "stdout",
     "output_type": "stream",
     "text": [
      "12:36:21 #17 [Info] SpiralScriptHelpers.Eval / code:\n",
      "()\n",
      "\r\n"
     ]
    }
   ],
   "source": [
    "// // test\n",
    "()"
   ]
  },
  {
   "cell_type": "code",
   "execution_count": null,
   "metadata": {
    "dotnet_interactive": {
     "language": "spiral"
    },
    "polyglot_notebook": {
     "kernelName": "spiral"
    }
   },
   "outputs": [
    {
     "name": "stdout",
     "output_type": "stream",
     "text": [
      "12:36:22 #18 [Info] SpiralScriptHelpers.Eval / code:\n",
      "()\n",
      "\r\n"
     ]
    }
   ],
   "source": [
    "// // test\n",
    "()"
   ]
  },
  {
   "cell_type": "code",
   "execution_count": null,
   "metadata": {
    "dotnet_interactive": {
     "language": "spiral"
    },
    "polyglot_notebook": {
     "kernelName": "spiral"
    }
   },
   "outputs": [
    {
     "name": "stdout",
     "output_type": "stream",
     "text": [
      "12:36:24 #19 [Info] SpiralScriptHelpers.Eval / code:\n",
      "()\n",
      "\r\n"
     ]
    }
   ],
   "source": [
    "// // test\n",
    "()"
   ]
  },
  {
   "cell_type": "code",
   "execution_count": null,
   "metadata": {
    "dotnet_interactive": {
     "language": "spiral"
    },
    "polyglot_notebook": {
     "kernelName": "spiral"
    }
   },
   "outputs": [
    {
     "name": "stdout",
     "output_type": "stream",
     "text": [
      "12:36:25 #20 [Info] SpiralScriptHelpers.Eval / code:\n",
      "()\n",
      "\r\n"
     ]
    }
   ],
   "source": [
    "// // test\n",
    "()"
   ]
  }
 ],
 "metadata": {
  "kernelspec": {
   "display_name": ".NET (C#)",
   "language": "C#",
   "name": ".net-csharp"
  },
  "language_info": {
   "file_extension": ".cs",
   "mimetype": "text/x-csharp",
   "name": "C#",
   "pygments_lexer": "csharp",
   "version": "10.0"
  },
  "polyglot_notebook": {
   "defaultKernelName": "csharp",
   "items": [
    {
     "name": "csharp"
    }
   ]
  },
  "dotnet_interactive": {
   "defaultKernelName": "csharp",
   "items": [
    {
     "name": "csharp"
    }
   ]
  }
 },
 "nbformat": 4,
 "nbformat_minor": 5
}