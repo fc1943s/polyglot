{
 "cells": [
  {
   "cell_type": "markdown",
   "metadata": {},
   "source": [
    "## Spiral (Polyglot)"
   ]
  },
  {
   "cell_type": "code",
   "execution_count": null,
   "metadata": {
    "dotnet_interactive": {
     "language": "fsharp"
    },
    "polyglot_notebook": {
     "kernelName": "fsharp"
    }
   },
   "outputs": [],
   "source": [
    "#!import ../nbs/Plotting.dib"
   ]
  },
  {
   "cell_type": "code",
   "execution_count": null,
   "metadata": {
    "dotnet_interactive": {
     "language": "spiral"
    },
    "polyglot_notebook": {
     "kernelName": "spiral"
    }
   },
   "outputs": [
    {
     "name": "stdout",
     "output_type": "stream",
     "text": [
      "07:51:46 #1 [Info] SpiralScriptHelpers.Eval / code:\n",
      "()\n",
      "\r\n"
     ]
    }
   ],
   "source": [
    "// // test\n",
    "\n",
    "inl _almost_equal b a =\n",
    "    assert (abs (b - a) < 0.00000001) $\"$\\\"_almost_equal / actual: {!a} / expected: {!b}\\\"\"\n",
    "\n",
    "inl _equal b a =\n",
    "    assert (a = b) $\"$\\\"_equal / actual: {!a} / expected: {!b}\\\"\"\n",
    "\n",
    "inl _is_less_than b a =\n",
    "    assert (b < a) $\"$\\\"_is_less_than / actual: {!a} / expected: {!b}\\\"\"\n",
    "\n",
    "inl _is_less_than_or_equal b a =\n",
    "    assert (b <= a) $\"$\\\"_is_less_than_or_equal / actual: {!a} / expected: {!b}\\\"\""
   ]
  },
  {
   "cell_type": "code",
   "execution_count": null,
   "metadata": {
    "dotnet_interactive": {
     "language": "spiral"
    },
    "polyglot_notebook": {
     "kernelName": "spiral"
    }
   },
   "outputs": [
    {
     "name": "stdout",
     "output_type": "stream",
     "text": [
      "07:51:47 #2 [Info] SpiralScriptHelpers.Eval / code:\n",
      "()\n",
      "\r\n"
     ]
    }
   ],
   "source": [
    "inl init_series start end inc =\n",
    "    inl total = conv ((end - start) / inc) + 1\n",
    "    am.init total (conv >> (*) inc >> (+) start) : a i32 f64"
   ]
  },
  {
   "cell_type": "code",
   "execution_count": null,
   "metadata": {
    "dotnet_interactive": {
     "language": "spiral"
    },
    "polyglot_notebook": {
     "kernelName": "spiral"
    }
   },
   "outputs": [
    {
     "name": "stdout",
     "output_type": "stream",
     "text": [
      "07:51:49 #3 [Info] SpiralScriptHelpers.Eval / code:\n",
      "()\n",
      "\r\n"
     ]
    }
   ],
   "source": [
    "inl atan2 (y : f64) (x : f64) =\n",
    "    $\"System.Math.Atan2 (!y, !x)\" : f64\n",
    "\n",
    "inl cos (d : f64) =\n",
    "    $\"System.Math.Cos !d\" : f64\n",
    "\n",
    "inl e () =\n",
    "    exp 1f64\n",
    "\n",
    "inl log_base (new_base : f64) (a : f64) =\n",
    "    $\"System.Math.Log (!a, !new_base)\" : f64\n",
    "\n",
    "inl pi () =\n",
    "    $\"System.Math.PI\" : f64\n",
    "\n",
    "inl sin (d : f64) =\n",
    "    $\"System.Math.Sin !d\" : f64\n",
    "\n",
    "inl square x =\n",
    "    x ** 2"
   ]
  },
  {
   "cell_type": "code",
   "execution_count": null,
   "metadata": {
    "dotnet_interactive": {
     "language": "spiral"
    },
    "polyglot_notebook": {
     "kernelName": "spiral"
    }
   },
   "outputs": [
    {
     "name": "stdout",
     "output_type": "stream",
     "text": [
      "07:51:51 #4 [Info] SpiralScriptHelpers.Eval / code:\n",
      "()\n",
      "\r\n"
     ]
    }
   ],
   "source": [
    "type time = f64\n",
    "type time_interval = f64\n",
    "type position = f64\n",
    "type velocity = f64\n",
    "type position_fn = time -> position\n",
    "type velocity_fn = time -> velocity\n",
    "\n",
    "type derivative = (f64 -> f64) -> f64 -> f64\n",
    "\n",
    "inl derivative dt : derivative =\n",
    "    fun x t =>\n",
    "        (x (t + dt / 2) - x (t - dt / 2)) / dt\n",
    "\n",
    "type integration = (f64 -> f64) -> f64 -> f64 -> f64\n",
    "\n",
    "inl integral dt : integration =\n",
    "    fun f a b =>\n",
    "        inl total = conv ((b - a) / dt)\n",
    "        inl items : a i32 f64 =\n",
    "            am.init total (fun i => a + dt / 2 + conv i * dt)\n",
    "            |> am.map (f >> (*) dt)\n",
    "        items\n",
    "        |> am.fold (+) 0"
   ]
  },
  {
   "cell_type": "code",
   "execution_count": null,
   "metadata": {
    "dotnet_interactive": {
     "language": "spiral"
    },
    "polyglot_notebook": {
     "kernelName": "spiral"
    }
   },
   "outputs": [
    {
     "name": "stdout",
     "output_type": "stream",
     "text": [
      "07:51:53 #5 [Info] SpiralScriptHelpers.Eval / code:\n",
      "let v0 : string = $\"_almost_equal / actual: {3.1622776601683795} / expected: {3.1622776601683795}\"\n",
      "()\n",
      "\r\n"
     ]
    }
   ],
   "source": [
    "// // test\n",
    "\n",
    "2 * 2 / 0.4f64 |> sqrt\n",
    "|> _almost_equal 3.1622776601683795"
   ]
  },
  {
   "cell_type": "code",
   "execution_count": null,
   "metadata": {
    "dotnet_interactive": {
     "language": "spiral"
    },
    "polyglot_notebook": {
     "kernelName": "spiral"
    }
   },
   "outputs": [
    {
     "name": "stdout",
     "output_type": "stream",
     "text": [
      "07:51:55 #6 [Info] SpiralScriptHelpers.Eval / code:\n",
      "let v0 : string = $\"_almost_equal / actual: {0.6666666666666666} / expected: {0.6666666666666666}\"\n",
      "()\n",
      "\r\n"
     ]
    }
   ],
   "source": [
    "// // test\n",
    "\n",
    "2f64 / 3\n",
    "|> _almost_equal 0.6666666666666666"
   ]
  },
  {
   "cell_type": "code",
   "execution_count": null,
   "metadata": {
    "dotnet_interactive": {
     "language": "spiral"
    },
    "polyglot_notebook": {
     "kernelName": "spiral"
    }
   },
   "outputs": [
    {
     "name": "stdout",
     "output_type": "stream",
     "text": [
      "07:51:56 #7 [Info] SpiralScriptHelpers.Eval / code:\n",
      "let v0 : string = $\"_almost_equal / actual: {0.6931471805599453} / expected: {0.6931471805599453}\"\n",
      "()\n",
      "\r\n"
     ]
    }
   ],
   "source": [
    "// // test\n",
    "\n",
    "2f64 |> log\n",
    "|> _almost_equal 0.6931471805599453"
   ]
  },
  {
   "cell_type": "code",
   "execution_count": null,
   "metadata": {
    "dotnet_interactive": {
     "language": "spiral"
    },
    "polyglot_notebook": {
     "kernelName": "spiral"
    }
   },
   "outputs": [
    {
     "name": "stdout",
     "output_type": "stream",
     "text": [
      "07:51:58 #8 [Info] SpiralScriptHelpers.Eval / code:\n",
      "let v0 : float = System.Math.PI\n",
      "let v1 : float = 3.141592653589793 - v0\n",
      "let v2 : float =  -v1\n",
      "let v3 : bool = v1 >= v2\n",
      "let v4 : float =\n",
      "    if v3 then\n",
      "        v1\n",
      "    else\n",
      "        v2\n",
      "let v5 : bool = v4 < 1E-08\n",
      "let v6 : string = $\"_almost_equal / actual: {v0} / expected: {3.141592653589793}\"\n",
      "let v7 : bool = v5 = false\n",
      "if v7 then\n",
      "    failwith<unit> v6\n",
      "\r\n"
     ]
    }
   ],
   "source": [
    "// // test\n",
    "\n",
    "pi ()\n",
    "|> _almost_equal 3.141592653589793"
   ]
  },
  {
   "cell_type": "code",
   "execution_count": null,
   "metadata": {
    "dotnet_interactive": {
     "language": "spiral"
    },
    "polyglot_notebook": {
     "kernelName": "spiral"
    }
   },
   "outputs": [
    {
     "name": "stdout",
     "output_type": "stream",
     "text": [
      "07:51:59 #9 [Info] SpiralScriptHelpers.Eval / code:\n",
      "let v0 : float = System.Math.PI\n",
      "let v1 : float = System.Math.Cos v0\n",
      "let v2 : bool = v1 = -1.0\n",
      "let v3 : string = $\"_equal / actual: {v1} / expected: {-1.0}\"\n",
      "let v4 : bool = v2 = false\n",
      "if v4 then\n",
      "    failwith<unit> v3\n",
      "\r\n"
     ]
    }
   ],
   "source": [
    "// // test\n",
    "\n",
    "pi () |> cos\n",
    "|> _equal -1"
   ]
  },
  {
   "cell_type": "code",
   "execution_count": null,
   "metadata": {
    "dotnet_interactive": {
     "language": "spiral"
    },
    "polyglot_notebook": {
     "kernelName": "spiral"
    }
   },
   "outputs": [
    {
     "name": "stdout",
     "output_type": "stream",
     "text": [
      "07:52:01 #10 [Info] SpiralScriptHelpers.Eval / code:\n",
      "let v0 : float = System.Math.PI\n",
      "let v1 : float = System.Math.Cos v0\n",
      "let v2 : float = v1 / 2.0\n",
      "let v3 : float = -0.5 - v2\n",
      "let v4 : float =  -v3\n",
      "let v5 : bool = v3 >= v4\n",
      "let v6 : float =\n",
      "    if v5 then\n",
      "        v3\n",
      "    else\n",
      "        v4\n",
      "let v7 : bool = v6 < 1E-08\n",
      "let v8 : string = $\"_almost_equal / actual: {v2} / expected: {-0.5}\"\n",
      "let v9 : bool = v7 = false\n",
      "if v9 then\n",
      "    failwith<unit> v8\n",
      "\r\n"
     ]
    }
   ],
   "source": [
    "// // test\n",
    "\n",
    "pi ()\n",
    "|> cos\n",
    "|> fun n => n / 2\n",
    "|> _almost_equal -0.5"
   ]
  },
  {
   "cell_type": "code",
   "execution_count": null,
   "metadata": {
    "dotnet_interactive": {
     "language": "spiral"
    },
    "polyglot_notebook": {
     "kernelName": "spiral"
    }
   },
   "outputs": [
    {
     "name": "stdout",
     "output_type": "stream",
     "text": [
      "07:52:03 #11 [Info] SpiralScriptHelpers.Eval / code:\n",
      "let v0 : float = System.Math.PI\n",
      "let v1 : float = v0 / 2.0\n",
      "let v2 : float = System.Math.Cos v1\n",
      "let v3 : float = 6.123233995736766E-17 - v2\n",
      "let v4 : float =  -v3\n",
      "let v5 : bool = v3 >= v4\n",
      "let v6 : float =\n",
      "    if v5 then\n",
      "        v3\n",
      "    else\n",
      "        v4\n",
      "let v7 : bool = v6 < 1E-08\n",
      "let v8 : string = $\"_almost_equal / actual: {v2} / expected: {6.123233995736766E-17}\"\n",
      "let v9 : bool = v7 = false\n",
      "if v9 then\n",
      "    failwith<unit> v8\n",
      "\r\n"
     ]
    }
   ],
   "source": [
    "// // test\n",
    "\n",
    "pi () / 2 |> cos\n",
    "|> _almost_equal 0.00000000000000006123233995736766"
   ]
  },
  {
   "cell_type": "code",
   "execution_count": null,
   "metadata": {
    "dotnet_interactive": {
     "language": "spiral"
    },
    "polyglot_notebook": {
     "kernelName": "spiral"
    }
   },
   "outputs": [
    {
     "name": "stdout",
     "output_type": "stream",
     "text": [
      "07:52:04 #12 [Info] SpiralScriptHelpers.Eval / code:\n",
      "let v0 : float = System.Math.Log (100.0, 10.0)\n",
      "let v1 : bool = v0 = 2.0\n",
      "let v2 : string = $\"_equal / actual: {v0} / expected: {2.0}\"\n",
      "let v3 : bool = v1 = false\n",
      "if v3 then\n",
      "    failwith<unit> v2\n",
      "\r\n"
     ]
    }
   ],
   "source": [
    "// // test\n",
    "\n",
    "100 |> log_base 10\n",
    "|> _equal 2"
   ]
  },
  {
   "cell_type": "code",
   "execution_count": null,
   "metadata": {
    "dotnet_interactive": {
     "language": "spiral"
    },
    "polyglot_notebook": {
     "kernelName": "spiral"
    }
   },
   "outputs": [
    {
     "name": "stdout",
     "output_type": "stream",
     "text": [
      "07:52:06 #13 [Info] SpiralScriptHelpers.Eval / code:\n",
      "let v0 : float = System.Math.Atan2 (1.0, 0.0)\n",
      "let v1 : bool = v0 = 1.5707963267948966\n",
      "let v2 : string = $\"_equal / actual: {v0} / expected: {1.5707963267948966}\"\n",
      "let v3 : bool = v1 = false\n",
      "if v3 then\n",
      "    failwith<unit> v2\n",
      "\r\n"
     ]
    }
   ],
   "source": [
    "// // test\n",
    "\n",
    "0 |> atan2 1\n",
    "|> _equal 1.5707963267948966"
   ]
  },
  {
   "cell_type": "code",
   "execution_count": null,
   "metadata": {
    "dotnet_interactive": {
     "language": "spiral"
    },
    "polyglot_notebook": {
     "kernelName": "spiral"
    }
   },
   "outputs": [
    {
     "name": "stdout",
     "output_type": "stream",
     "text": [
      "07:52:08 #14 [Info] SpiralScriptHelpers.Eval / code:\n",
      "let v0 : string = $\"_almost_equal / actual: {5.000000000000001} / expected: {5.0}\"\n",
      "()\n",
      "\r\n"
     ]
    }
   ],
   "source": [
    "// // test\n",
    "\n",
    "5f64\n",
    "|> sqrt\n",
    "|> fun n => n ** 2\n",
    "|> _almost_equal 5"
   ]
  },
  {
   "cell_type": "code",
   "execution_count": null,
   "metadata": {
    "dotnet_interactive": {
     "language": "spiral"
    },
    "polyglot_notebook": {
     "kernelName": "spiral"
    }
   },
   "outputs": [
    {
     "name": "stdout",
     "output_type": "stream",
     "text": [
      "07:52:09 #15 [Info] SpiralScriptHelpers.Eval / code:\n",
      "let v0 : string = $\"_almost_equal / actual: {7.3890560989306495} / expected: {7.3890560989306495}\"\n",
      "()\n",
      "\r\n"
     ]
    }
   ],
   "source": [
    "// // test\n",
    "\n",
    "e () |> square\n",
    "|> _almost_equal 7.3890560989306495"
   ]
  },
  {
   "cell_type": "code",
   "execution_count": null,
   "metadata": {
    "dotnet_interactive": {
     "language": "spiral"
    },
    "polyglot_notebook": {
     "kernelName": "spiral"
    }
   },
   "outputs": [
    {
     "data": {
      "text/html": [
       "<svg width=\"640\" height=\"480\" viewBox=\"0 0 640 480\" xmlns=\"http://www.w3.org/2000/svg\">\n",
       "<rect x=\"0\" y=\"0\" width=\"640\" height=\"480\" opacity=\"1\" fill=\"#141414\" stroke=\"none\"/>\n",
       "<line opacity=\"1\" stroke=\"#323232\" stroke-width=\"1\" x1=\"55\" y1=\"424\" x2=\"55\" y2=\"55\"/>\n",
       "<line opacity=\"1\" stroke=\"#323232\" stroke-width=\"1\" x1=\"63\" y1=\"424\" x2=\"63\" y2=\"55\"/>\n",
       "<line opacity=\"1\" stroke=\"#323232\" stroke-width=\"1\" x1=\"72\" y1=\"424\" x2=\"72\" y2=\"55\"/>\n",
       "<line opacity=\"1\" stroke=\"#323232\" stroke-width=\"1\" x1=\"81\" y1=\"424\" x2=\"81\" y2=\"55\"/>\n",
       "<line opacity=\"1\" stroke=\"#323232\" stroke-width=\"1\" x1=\"90\" y1=\"424\" x2=\"90\" y2=\"55\"/>\n",
       "<line opacity=\"1\" stroke=\"#323232\" stroke-width=\"1\" x1=\"99\" y1=\"424\" x2=\"99\" y2=\"55\"/>\n",
       "<line opacity=\"1\" stroke=\"#323232\" stroke-width=\"1\" x1=\"107\" y1=\"424\" x2=\"107\" y2=\"55\"/>\n",
       "<line opacity=\"1\" stroke=\"#323232\" stroke-width=\"1\" x1=\"116\" y1=\"424\" x2=\"116\" y2=\"55\"/>\n",
       "<line opacity=\"1\" stroke=\"#323232\" stroke-width=\"1\" x1=\"125\" y1=\"424\" x2=\"125\" y2=\"55\"/>\n",
       "<line opacity=\"1\" stroke=\"#323232\" stroke-width=\"1\" x1=\"134\" y1=\"424\" x2=\"134\" y2=\"55\"/>\n",
       "<line opacity=\"1\" stroke=\"#323232\" stroke-width=\"1\" x1=\"143\" y1=\"424\" x2=\"143\" y2=\"55\"/>\n",
       "<line opacity=\"1\" stroke=\"#323232\" stroke-width=\"1\" x1=\"151\" y1=\"424\" x2=\"151\" y2=\"55\"/>\n",
       "<line opacity=\"1\" stroke=\"#323232\" stroke-width=\"1\" x1=\"160\" y1=\"424\" x2=\"160\" y2=\"55\"/>\n",
       "<line opacity=\"1\" stroke=\"#323232\" stroke-width=\"1\" x1=\"169\" y1=\"424\" x2=\"169\" y2=\"55\"/>\n",
       "<line opacity=\"1\" stroke=\"#323232\" stroke-width=\"1\" x1=\"178\" y1=\"424\" x2=\"178\" y2=\"55\"/>\n",
       "<line opacity=\"1\" stroke=\"#323232\" stroke-width=\"1\" x1=\"187\" y1=\"424\" x2=\"187\" y2=\"55\"/>\n",
       "<line opacity=\"1\" stroke=\"#323232\" stroke-width=\"1\" x1=\"196\" y1=\"424\" x2=\"196\" y2=\"55\"/>\n",
       "<line opacity=\"1\" stroke=\"#323232\" stroke-width=\"1\" x1=\"204\" y1=\"424\" x2=\"204\" y2=\"55\"/>\n",
       "<line opacity=\"1\" stroke=\"#323232\" stroke-width=\"1\" x1=\"213\" y1=\"424\" x2=\"213\" y2=\"55\"/>\n",
       "<line opacity=\"1\" stroke=\"#323232\" stroke-width=\"1\" x1=\"222\" y1=\"424\" x2=\"222\" y2=\"55\"/>\n",
       "<line opacity=\"1\" stroke=\"#323232\" stroke-width=\"1\" x1=\"231\" y1=\"424\" x2=\"231\" y2=\"55\"/>\n",
       "<line opacity=\"1\" stroke=\"#323232\" stroke-width=\"1\" x1=\"240\" y1=\"424\" x2=\"240\" y2=\"55\"/>\n",
       "<line opacity=\"1\" stroke=\"#323232\" stroke-width=\"1\" x1=\"248\" y1=\"424\" x2=\"248\" y2=\"55\"/>\n",
       "<line opacity=\"1\" stroke=\"#323232\" stroke-width=\"1\" x1=\"257\" y1=\"424\" x2=\"257\" y2=\"55\"/>\n",
       "<line opacity=\"1\" stroke=\"#323232\" stroke-width=\"1\" x1=\"266\" y1=\"424\" x2=\"266\" y2=\"55\"/>\n",
       "<line opacity=\"1\" stroke=\"#323232\" stroke-width=\"1\" x1=\"275\" y1=\"424\" x2=\"275\" y2=\"55\"/>\n",
       "<line opacity=\"1\" stroke=\"#323232\" stroke-width=\"1\" x1=\"284\" y1=\"424\" x2=\"284\" y2=\"55\"/>\n",
       "<line opacity=\"1\" stroke=\"#323232\" stroke-width=\"1\" x1=\"293\" y1=\"424\" x2=\"293\" y2=\"55\"/>\n",
       "<line opacity=\"1\" stroke=\"#323232\" stroke-width=\"1\" x1=\"301\" y1=\"424\" x2=\"301\" y2=\"55\"/>\n",
       "<line opacity=\"1\" stroke=\"#323232\" stroke-width=\"1\" x1=\"310\" y1=\"424\" x2=\"310\" y2=\"55\"/>\n",
       "<line opacity=\"1\" stroke=\"#323232\" stroke-width=\"1\" x1=\"319\" y1=\"424\" x2=\"319\" y2=\"55\"/>\n",
       "<line opacity=\"1\" stroke=\"#323232\" stroke-width=\"1\" x1=\"328\" y1=\"424\" x2=\"328\" y2=\"55\"/>\n",
       "<line opacity=\"1\" stroke=\"#323232\" stroke-width=\"1\" x1=\"337\" y1=\"424\" x2=\"337\" y2=\"55\"/>\n",
       "<line opacity=\"1\" stroke=\"#323232\" stroke-width=\"1\" x1=\"345\" y1=\"424\" x2=\"345\" y2=\"55\"/>\n",
       "<line opacity=\"1\" stroke=\"#323232\" stroke-width=\"1\" x1=\"354\" y1=\"424\" x2=\"354\" y2=\"55\"/>\n",
       "<line opacity=\"1\" stroke=\"#323232\" stroke-width=\"1\" x1=\"363\" y1=\"424\" x2=\"363\" y2=\"55\"/>\n",
       "<line opacity=\"1\" stroke=\"#323232\" stroke-width=\"1\" x1=\"372\" y1=\"424\" x2=\"372\" y2=\"55\"/>\n",
       "<line opacity=\"1\" stroke=\"#323232\" stroke-width=\"1\" x1=\"381\" y1=\"424\" x2=\"381\" y2=\"55\"/>\n",
       "<line opacity=\"1\" stroke=\"#323232\" stroke-width=\"1\" x1=\"390\" y1=\"424\" x2=\"390\" y2=\"55\"/>\n",
       "<line opacity=\"1\" stroke=\"#323232\" stroke-width=\"1\" x1=\"398\" y1=\"424\" x2=\"398\" y2=\"55\"/>\n",
       "<line opacity=\"1\" stroke=\"#323232\" stroke-width=\"1\" x1=\"407\" y1=\"424\" x2=\"407\" y2=\"55\"/>\n",
       "<line opacity=\"1\" stroke=\"#323232\" stroke-width=\"1\" x1=\"416\" y1=\"424\" x2=\"416\" y2=\"55\"/>\n",
       "<line opacity=\"1\" stroke=\"#323232\" stroke-width=\"1\" x1=\"425\" y1=\"424\" x2=\"425\" y2=\"55\"/>\n",
       "<line opacity=\"1\" stroke=\"#323232\" stroke-width=\"1\" x1=\"434\" y1=\"424\" x2=\"434\" y2=\"55\"/>\n",
       "<line opacity=\"1\" stroke=\"#323232\" stroke-width=\"1\" x1=\"442\" y1=\"424\" x2=\"442\" y2=\"55\"/>\n",
       "<line opacity=\"1\" stroke=\"#323232\" stroke-width=\"1\" x1=\"451\" y1=\"424\" x2=\"451\" y2=\"55\"/>\n",
       "<line opacity=\"1\" stroke=\"#323232\" stroke-width=\"1\" x1=\"460\" y1=\"424\" x2=\"460\" y2=\"55\"/>\n",
       "<line opacity=\"1\" stroke=\"#323232\" stroke-width=\"1\" x1=\"469\" y1=\"424\" x2=\"469\" y2=\"55\"/>\n",
       "<line opacity=\"1\" stroke=\"#323232\" stroke-width=\"1\" x1=\"478\" y1=\"424\" x2=\"478\" y2=\"55\"/>\n",
       "<line opacity=\"1\" stroke=\"#323232\" stroke-width=\"1\" x1=\"487\" y1=\"424\" x2=\"487\" y2=\"55\"/>\n",
       "<line opacity=\"1\" stroke=\"#323232\" stroke-width=\"1\" x1=\"495\" y1=\"424\" x2=\"495\" y2=\"55\"/>\n",
       "<line opacity=\"1\" stroke=\"#323232\" stroke-width=\"1\" x1=\"504\" y1=\"424\" x2=\"504\" y2=\"55\"/>\n",
       "<line opacity=\"1\" stroke=\"#323232\" stroke-width=\"1\" x1=\"513\" y1=\"424\" x2=\"513\" y2=\"55\"/>\n",
       "<line opacity=\"1\" stroke=\"#323232\" stroke-width=\"1\" x1=\"522\" y1=\"424\" x2=\"522\" y2=\"55\"/>\n",
       "<line opacity=\"1\" stroke=\"#323232\" stroke-width=\"1\" x1=\"531\" y1=\"424\" x2=\"531\" y2=\"55\"/>\n",
       "<line opacity=\"1\" stroke=\"#323232\" stroke-width=\"1\" x1=\"539\" y1=\"424\" x2=\"539\" y2=\"55\"/>\n",
       "<line opacity=\"1\" stroke=\"#323232\" stroke-width=\"1\" x1=\"548\" y1=\"424\" x2=\"548\" y2=\"55\"/>\n",
       "<line opacity=\"1\" stroke=\"#323232\" stroke-width=\"1\" x1=\"557\" y1=\"424\" x2=\"557\" y2=\"55\"/>\n",
       "<line opacity=\"1\" stroke=\"#323232\" stroke-width=\"1\" x1=\"566\" y1=\"424\" x2=\"566\" y2=\"55\"/>\n",
       "<line opacity=\"1\" stroke=\"#323232\" stroke-width=\"1\" x1=\"575\" y1=\"424\" x2=\"575\" y2=\"55\"/>\n",
       "<line opacity=\"1\" stroke=\"#323232\" stroke-width=\"1\" x1=\"584\" y1=\"424\" x2=\"584\" y2=\"55\"/>\n",
       "<line opacity=\"1\" stroke=\"#323232\" stroke-width=\"1\" x1=\"55\" y1=\"424\" x2=\"584\" y2=\"424\"/>\n",
       "<line opacity=\"1\" stroke=\"#323232\" stroke-width=\"1\" x1=\"55\" y1=\"404\" x2=\"584\" y2=\"404\"/>\n",
       "<line opacity=\"1\" stroke=\"#323232\" stroke-width=\"1\" x1=\"55\" y1=\"383\" x2=\"584\" y2=\"383\"/>\n",
       "<line opacity=\"1\" stroke=\"#323232\" stroke-width=\"1\" x1=\"55\" y1=\"363\" x2=\"584\" y2=\"363\"/>\n",
       "<line opacity=\"1\" stroke=\"#323232\" stroke-width=\"1\" x1=\"55\" y1=\"342\" x2=\"584\" y2=\"342\"/>\n",
       "<line opacity=\"1\" stroke=\"#323232\" stroke-width=\"1\" x1=\"55\" y1=\"322\" x2=\"584\" y2=\"322\"/>\n",
       "<line opacity=\"1\" stroke=\"#323232\" stroke-width=\"1\" x1=\"55\" y1=\"301\" x2=\"584\" y2=\"301\"/>\n",
       "<line opacity=\"1\" stroke=\"#323232\" stroke-width=\"1\" x1=\"55\" y1=\"281\" x2=\"584\" y2=\"281\"/>\n",
       "<line opacity=\"1\" stroke=\"#323232\" stroke-width=\"1\" x1=\"55\" y1=\"260\" x2=\"584\" y2=\"260\"/>\n",
       "<line opacity=\"1\" stroke=\"#323232\" stroke-width=\"1\" x1=\"55\" y1=\"240\" x2=\"584\" y2=\"240\"/>\n",
       "<line opacity=\"1\" stroke=\"#323232\" stroke-width=\"1\" x1=\"55\" y1=\"219\" x2=\"584\" y2=\"219\"/>\n",
       "<line opacity=\"1\" stroke=\"#323232\" stroke-width=\"1\" x1=\"55\" y1=\"199\" x2=\"584\" y2=\"199\"/>\n",
       "<line opacity=\"1\" stroke=\"#323232\" stroke-width=\"1\" x1=\"55\" y1=\"178\" x2=\"584\" y2=\"178\"/>\n",
       "<line opacity=\"1\" stroke=\"#323232\" stroke-width=\"1\" x1=\"55\" y1=\"158\" x2=\"584\" y2=\"158\"/>\n",
       "<line opacity=\"1\" stroke=\"#323232\" stroke-width=\"1\" x1=\"55\" y1=\"137\" x2=\"584\" y2=\"137\"/>\n",
       "<line opacity=\"1\" stroke=\"#323232\" stroke-width=\"1\" x1=\"55\" y1=\"117\" x2=\"584\" y2=\"117\"/>\n",
       "<line opacity=\"1\" stroke=\"#323232\" stroke-width=\"1\" x1=\"55\" y1=\"96\" x2=\"584\" y2=\"96\"/>\n",
       "<line opacity=\"1\" stroke=\"#323232\" stroke-width=\"1\" x1=\"55\" y1=\"76\" x2=\"584\" y2=\"76\"/>\n",
       "<line opacity=\"1\" stroke=\"#323232\" stroke-width=\"1\" x1=\"55\" y1=\"55\" x2=\"584\" y2=\"55\"/>\n",
       "<line opacity=\"1\" stroke=\"#5A5A5A\" stroke-width=\"1\" x1=\"55\" y1=\"424\" x2=\"55\" y2=\"55\"/>\n",
       "<line opacity=\"1\" stroke=\"#5A5A5A\" stroke-width=\"1\" x1=\"99\" y1=\"424\" x2=\"99\" y2=\"55\"/>\n",
       "<line opacity=\"1\" stroke=\"#5A5A5A\" stroke-width=\"1\" x1=\"143\" y1=\"424\" x2=\"143\" y2=\"55\"/>\n",
       "<line opacity=\"1\" stroke=\"#5A5A5A\" stroke-width=\"1\" x1=\"187\" y1=\"424\" x2=\"187\" y2=\"55\"/>\n",
       "<line opacity=\"1\" stroke=\"#5A5A5A\" stroke-width=\"1\" x1=\"231\" y1=\"424\" x2=\"231\" y2=\"55\"/>\n",
       "<line opacity=\"1\" stroke=\"#5A5A5A\" stroke-width=\"1\" x1=\"275\" y1=\"424\" x2=\"275\" y2=\"55\"/>\n",
       "<line opacity=\"1\" stroke=\"#5A5A5A\" stroke-width=\"1\" x1=\"319\" y1=\"424\" x2=\"319\" y2=\"55\"/>\n",
       "<line opacity=\"1\" stroke=\"#5A5A5A\" stroke-width=\"1\" x1=\"363\" y1=\"424\" x2=\"363\" y2=\"55\"/>\n",
       "<line opacity=\"1\" stroke=\"#5A5A5A\" stroke-width=\"1\" x1=\"407\" y1=\"424\" x2=\"407\" y2=\"55\"/>\n",
       "<line opacity=\"1\" stroke=\"#5A5A5A\" stroke-width=\"1\" x1=\"451\" y1=\"424\" x2=\"451\" y2=\"55\"/>\n",
       "<line opacity=\"1\" stroke=\"#5A5A5A\" stroke-width=\"1\" x1=\"495\" y1=\"424\" x2=\"495\" y2=\"55\"/>\n",
       "<line opacity=\"1\" stroke=\"#5A5A5A\" stroke-width=\"1\" x1=\"539\" y1=\"424\" x2=\"539\" y2=\"55\"/>\n",
       "<line opacity=\"1\" stroke=\"#5A5A5A\" stroke-width=\"1\" x1=\"584\" y1=\"424\" x2=\"584\" y2=\"55\"/>\n",
       "<line opacity=\"1\" stroke=\"#5A5A5A\" stroke-width=\"1\" x1=\"55\" y1=\"424\" x2=\"584\" y2=\"424\"/>\n",
       "<line opacity=\"1\" stroke=\"#5A5A5A\" stroke-width=\"1\" x1=\"55\" y1=\"383\" x2=\"584\" y2=\"383\"/>\n",
       "<line opacity=\"1\" stroke=\"#5A5A5A\" stroke-width=\"1\" x1=\"55\" y1=\"342\" x2=\"584\" y2=\"342\"/>\n",
       "<line opacity=\"1\" stroke=\"#5A5A5A\" stroke-width=\"1\" x1=\"55\" y1=\"301\" x2=\"584\" y2=\"301\"/>\n",
       "<line opacity=\"1\" stroke=\"#5A5A5A\" stroke-width=\"1\" x1=\"55\" y1=\"260\" x2=\"584\" y2=\"260\"/>\n",
       "<line opacity=\"1\" stroke=\"#5A5A5A\" stroke-width=\"1\" x1=\"55\" y1=\"219\" x2=\"584\" y2=\"219\"/>\n",
       "<line opacity=\"1\" stroke=\"#5A5A5A\" stroke-width=\"1\" x1=\"55\" y1=\"178\" x2=\"584\" y2=\"178\"/>\n",
       "<line opacity=\"1\" stroke=\"#5A5A5A\" stroke-width=\"1\" x1=\"55\" y1=\"137\" x2=\"584\" y2=\"137\"/>\n",
       "<line opacity=\"1\" stroke=\"#5A5A5A\" stroke-width=\"1\" x1=\"55\" y1=\"96\" x2=\"584\" y2=\"96\"/>\n",
       "<line opacity=\"1\" stroke=\"#5A5A5A\" stroke-width=\"1\" x1=\"55\" y1=\"55\" x2=\"584\" y2=\"55\"/>\n",
       "<polyline fill=\"none\" opacity=\"1\" stroke=\"#FFFFFF\" stroke-width=\"1\" points=\"55,54 584,54 \"/>\n",
       "<text x=\"55\" y=\"45\" dy=\"-0.5ex\" text-anchor=\"middle\" font-family=\"sans-serif\" font-size=\"9.67741935483871\" opacity=\"1\" fill=\"#FFFFFF\">\n",
       "-3.0\n",
       "</text>\n",
       "<polyline fill=\"none\" opacity=\"1\" stroke=\"#FFFFFF\" stroke-width=\"1\" points=\"55,49 55,54 \"/>\n",
       "<text x=\"99\" y=\"45\" dy=\"-0.5ex\" text-anchor=\"middle\" font-family=\"sans-serif\" font-size=\"9.67741935483871\" opacity=\"1\" fill=\"#FFFFFF\">\n",
       "-2.5\n",
       "</text>\n",
       "<polyline fill=\"none\" opacity=\"1\" stroke=\"#FFFFFF\" stroke-width=\"1\" points=\"99,49 99,54 \"/>\n",
       "<text x=\"143\" y=\"45\" dy=\"-0.5ex\" text-anchor=\"middle\" font-family=\"sans-serif\" font-size=\"9.67741935483871\" opacity=\"1\" fill=\"#FFFFFF\">\n",
       "-2.0\n",
       "</text>\n",
       "<polyline fill=\"none\" opacity=\"1\" stroke=\"#FFFFFF\" stroke-width=\"1\" points=\"143,49 143,54 \"/>\n",
       "<text x=\"187\" y=\"45\" dy=\"-0.5ex\" text-anchor=\"middle\" font-family=\"sans-serif\" font-size=\"9.67741935483871\" opacity=\"1\" fill=\"#FFFFFF\">\n",
       "-1.5\n",
       "</text>\n",
       "<polyline fill=\"none\" opacity=\"1\" stroke=\"#FFFFFF\" stroke-width=\"1\" points=\"187,49 187,54 \"/>\n",
       "<text x=\"231\" y=\"45\" dy=\"-0.5ex\" text-anchor=\"middle\" font-family=\"sans-serif\" font-size=\"9.67741935483871\" opacity=\"1\" fill=\"#FFFFFF\">\n",
       "-1.0\n",
       "</text>\n",
       "<polyline fill=\"none\" opacity=\"1\" stroke=\"#FFFFFF\" stroke-width=\"1\" points=\"231,49 231,54 \"/>\n",
       "<text x=\"275\" y=\"45\" dy=\"-0.5ex\" text-anchor=\"middle\" font-family=\"sans-serif\" font-size=\"9.67741935483871\" opacity=\"1\" fill=\"#FFFFFF\">\n",
       "-0.5\n",
       "</text>\n",
       "<polyline fill=\"none\" opacity=\"1\" stroke=\"#FFFFFF\" stroke-width=\"1\" points=\"275,49 275,54 \"/>\n",
       "<text x=\"319\" y=\"45\" dy=\"-0.5ex\" text-anchor=\"middle\" font-family=\"sans-serif\" font-size=\"9.67741935483871\" opacity=\"1\" fill=\"#FFFFFF\">\n",
       "0.0\n",
       "</text>\n",
       "<polyline fill=\"none\" opacity=\"1\" stroke=\"#FFFFFF\" stroke-width=\"1\" points=\"319,49 319,54 \"/>\n",
       "<text x=\"363\" y=\"45\" dy=\"-0.5ex\" text-anchor=\"middle\" font-family=\"sans-serif\" font-size=\"9.67741935483871\" opacity=\"1\" fill=\"#FFFFFF\">\n",
       "0.5\n",
       "</text>\n",
       "<polyline fill=\"none\" opacity=\"1\" stroke=\"#FFFFFF\" stroke-width=\"1\" points=\"363,49 363,54 \"/>\n",
       "<text x=\"407\" y=\"45\" dy=\"-0.5ex\" text-anchor=\"middle\" font-family=\"sans-serif\" font-size=\"9.67741935483871\" opacity=\"1\" fill=\"#FFFFFF\">\n",
       "1.0\n",
       "</text>\n",
       "<polyline fill=\"none\" opacity=\"1\" stroke=\"#FFFFFF\" stroke-width=\"1\" points=\"407,49 407,54 \"/>\n",
       "<text x=\"451\" y=\"45\" dy=\"-0.5ex\" text-anchor=\"middle\" font-family=\"sans-serif\" font-size=\"9.67741935483871\" opacity=\"1\" fill=\"#FFFFFF\">\n",
       "1.5\n",
       "</text>\n",
       "<polyline fill=\"none\" opacity=\"1\" stroke=\"#FFFFFF\" stroke-width=\"1\" points=\"451,49 451,54 \"/>\n",
       "<text x=\"495\" y=\"45\" dy=\"-0.5ex\" text-anchor=\"middle\" font-family=\"sans-serif\" font-size=\"9.67741935483871\" opacity=\"1\" fill=\"#FFFFFF\">\n",
       "2.0\n",
       "</text>\n",
       "<polyline fill=\"none\" opacity=\"1\" stroke=\"#FFFFFF\" stroke-width=\"1\" points=\"495,49 495,54 \"/>\n",
       "<text x=\"539\" y=\"45\" dy=\"-0.5ex\" text-anchor=\"middle\" font-family=\"sans-serif\" font-size=\"9.67741935483871\" opacity=\"1\" fill=\"#FFFFFF\">\n",
       "2.5\n",
       "</text>\n",
       "<polyline fill=\"none\" opacity=\"1\" stroke=\"#FFFFFF\" stroke-width=\"1\" points=\"539,49 539,54 \"/>\n",
       "<text x=\"584\" y=\"45\" dy=\"-0.5ex\" text-anchor=\"middle\" font-family=\"sans-serif\" font-size=\"9.67741935483871\" opacity=\"1\" fill=\"#FFFFFF\">\n",
       "3.0\n",
       "</text>\n",
       "<polyline fill=\"none\" opacity=\"1\" stroke=\"#FFFFFF\" stroke-width=\"1\" points=\"584,49 584,54 \"/>\n",
       "<polyline fill=\"none\" opacity=\"1\" stroke=\"#FFFFFF\" stroke-width=\"1\" points=\"54,55 54,424 \"/>\n",
       "<text x=\"45\" y=\"424\" dy=\"0.5ex\" text-anchor=\"end\" font-family=\"sans-serif\" font-size=\"9.67741935483871\" opacity=\"1\" fill=\"#FFFFFF\">\n",
       "0.0\n",
       "</text>\n",
       "<polyline fill=\"none\" opacity=\"1\" stroke=\"#FFFFFF\" stroke-width=\"1\" points=\"49,424 54,424 \"/>\n",
       "<text x=\"45\" y=\"383\" dy=\"0.5ex\" text-anchor=\"end\" font-family=\"sans-serif\" font-size=\"9.67741935483871\" opacity=\"1\" fill=\"#FFFFFF\">\n",
       "1.0\n",
       "</text>\n",
       "<polyline fill=\"none\" opacity=\"1\" stroke=\"#FFFFFF\" stroke-width=\"1\" points=\"49,383 54,383 \"/>\n",
       "<text x=\"45\" y=\"342\" dy=\"0.5ex\" text-anchor=\"end\" font-family=\"sans-serif\" font-size=\"9.67741935483871\" opacity=\"1\" fill=\"#FFFFFF\">\n",
       "2.0\n",
       "</text>\n",
       "<polyline fill=\"none\" opacity=\"1\" stroke=\"#FFFFFF\" stroke-width=\"1\" points=\"49,342 54,342 \"/>\n",
       "<text x=\"45\" y=\"301\" dy=\"0.5ex\" text-anchor=\"end\" font-family=\"sans-serif\" font-size=\"9.67741935483871\" opacity=\"1\" fill=\"#FFFFFF\">\n",
       "3.0\n",
       "</text>\n",
       "<polyline fill=\"none\" opacity=\"1\" stroke=\"#FFFFFF\" stroke-width=\"1\" points=\"49,301 54,301 \"/>\n",
       "<text x=\"45\" y=\"260\" dy=\"0.5ex\" text-anchor=\"end\" font-family=\"sans-serif\" font-size=\"9.67741935483871\" opacity=\"1\" fill=\"#FFFFFF\">\n",
       "4.0\n",
       "</text>\n",
       "<polyline fill=\"none\" opacity=\"1\" stroke=\"#FFFFFF\" stroke-width=\"1\" points=\"49,260 54,260 \"/>\n",
       "<text x=\"45\" y=\"219\" dy=\"0.5ex\" text-anchor=\"end\" font-family=\"sans-serif\" font-size=\"9.67741935483871\" opacity=\"1\" fill=\"#FFFFFF\">\n",
       "5.0\n",
       "</text>\n",
       "<polyline fill=\"none\" opacity=\"1\" stroke=\"#FFFFFF\" stroke-width=\"1\" points=\"49,219 54,219 \"/>\n",
       "<text x=\"45\" y=\"178\" dy=\"0.5ex\" text-anchor=\"end\" font-family=\"sans-serif\" font-size=\"9.67741935483871\" opacity=\"1\" fill=\"#FFFFFF\">\n",
       "6.0\n",
       "</text>\n",
       "<polyline fill=\"none\" opacity=\"1\" stroke=\"#FFFFFF\" stroke-width=\"1\" points=\"49,178 54,178 \"/>\n",
       "<text x=\"45\" y=\"137\" dy=\"0.5ex\" text-anchor=\"end\" font-family=\"sans-serif\" font-size=\"9.67741935483871\" opacity=\"1\" fill=\"#FFFFFF\">\n",
       "7.0\n",
       "</text>\n",
       "<polyline fill=\"none\" opacity=\"1\" stroke=\"#FFFFFF\" stroke-width=\"1\" points=\"49,137 54,137 \"/>\n",
       "<text x=\"45\" y=\"96\" dy=\"0.5ex\" text-anchor=\"end\" font-family=\"sans-serif\" font-size=\"9.67741935483871\" opacity=\"1\" fill=\"#FFFFFF\">\n",
       "8.0\n",
       "</text>\n",
       "<polyline fill=\"none\" opacity=\"1\" stroke=\"#FFFFFF\" stroke-width=\"1\" points=\"49,96 54,96 \"/>\n",
       "<text x=\"45\" y=\"55\" dy=\"0.5ex\" text-anchor=\"end\" font-family=\"sans-serif\" font-size=\"9.67741935483871\" opacity=\"1\" fill=\"#FFFFFF\">\n",
       "9.0\n",
       "</text>\n",
       "<polyline fill=\"none\" opacity=\"1\" stroke=\"#FFFFFF\" stroke-width=\"1\" points=\"49,55 54,55 \"/>\n",
       "<polyline fill=\"none\" opacity=\"1\" stroke=\"#FFFFFF\" stroke-width=\"1\" points=\"55,425 584,425 \"/>\n",
       "<text x=\"55\" y=\"435\" dy=\"0.76em\" text-anchor=\"middle\" font-family=\"sans-serif\" font-size=\"9.67741935483871\" opacity=\"1\" fill=\"#FFFFFF\">\n",
       "-3.0\n",
       "</text>\n",
       "<polyline fill=\"none\" opacity=\"1\" stroke=\"#FFFFFF\" stroke-width=\"1\" points=\"55,425 55,430 \"/>\n",
       "<text x=\"99\" y=\"435\" dy=\"0.76em\" text-anchor=\"middle\" font-family=\"sans-serif\" font-size=\"9.67741935483871\" opacity=\"1\" fill=\"#FFFFFF\">\n",
       "-2.5\n",
       "</text>\n",
       "<polyline fill=\"none\" opacity=\"1\" stroke=\"#FFFFFF\" stroke-width=\"1\" points=\"99,425 99,430 \"/>\n",
       "<text x=\"143\" y=\"435\" dy=\"0.76em\" text-anchor=\"middle\" font-family=\"sans-serif\" font-size=\"9.67741935483871\" opacity=\"1\" fill=\"#FFFFFF\">\n",
       "-2.0\n",
       "</text>\n",
       "<polyline fill=\"none\" opacity=\"1\" stroke=\"#FFFFFF\" stroke-width=\"1\" points=\"143,425 143,430 \"/>\n",
       "<text x=\"187\" y=\"435\" dy=\"0.76em\" text-anchor=\"middle\" font-family=\"sans-serif\" font-size=\"9.67741935483871\" opacity=\"1\" fill=\"#FFFFFF\">\n",
       "-1.5\n",
       "</text>\n",
       "<polyline fill=\"none\" opacity=\"1\" stroke=\"#FFFFFF\" stroke-width=\"1\" points=\"187,425 187,430 \"/>\n",
       "<text x=\"231\" y=\"435\" dy=\"0.76em\" text-anchor=\"middle\" font-family=\"sans-serif\" font-size=\"9.67741935483871\" opacity=\"1\" fill=\"#FFFFFF\">\n",
       "-1.0\n",
       "</text>\n",
       "<polyline fill=\"none\" opacity=\"1\" stroke=\"#FFFFFF\" stroke-width=\"1\" points=\"231,425 231,430 \"/>\n",
       "<text x=\"275\" y=\"435\" dy=\"0.76em\" text-anchor=\"middle\" font-family=\"sans-serif\" font-size=\"9.67741935483871\" opacity=\"1\" fill=\"#FFFFFF\">\n",
       "-0.5\n",
       "</text>\n",
       "<polyline fill=\"none\" opacity=\"1\" stroke=\"#FFFFFF\" stroke-width=\"1\" points=\"275,425 275,430 \"/>\n",
       "<text x=\"319\" y=\"435\" dy=\"0.76em\" text-anchor=\"middle\" font-family=\"sans-serif\" font-size=\"9.67741935483871\" opacity=\"1\" fill=\"#FFFFFF\">\n",
       "0.0\n",
       "</text>\n",
       "<polyline fill=\"none\" opacity=\"1\" stroke=\"#FFFFFF\" stroke-width=\"1\" points=\"319,425 319,430 \"/>\n",
       "<text x=\"363\" y=\"435\" dy=\"0.76em\" text-anchor=\"middle\" font-family=\"sans-serif\" font-size=\"9.67741935483871\" opacity=\"1\" fill=\"#FFFFFF\">\n",
       "0.5\n",
       "</text>\n",
       "<polyline fill=\"none\" opacity=\"1\" stroke=\"#FFFFFF\" stroke-width=\"1\" points=\"363,425 363,430 \"/>\n",
       "<text x=\"407\" y=\"435\" dy=\"0.76em\" text-anchor=\"middle\" font-family=\"sans-serif\" font-size=\"9.67741935483871\" opacity=\"1\" fill=\"#FFFFFF\">\n",
       "1.0\n",
       "</text>\n",
       "<polyline fill=\"none\" opacity=\"1\" stroke=\"#FFFFFF\" stroke-width=\"1\" points=\"407,425 407,430 \"/>\n",
       "<text x=\"451\" y=\"435\" dy=\"0.76em\" text-anchor=\"middle\" font-family=\"sans-serif\" font-size=\"9.67741935483871\" opacity=\"1\" fill=\"#FFFFFF\">\n",
       "1.5\n",
       "</text>\n",
       "<polyline fill=\"none\" opacity=\"1\" stroke=\"#FFFFFF\" stroke-width=\"1\" points=\"451,425 451,430 \"/>\n",
       "<text x=\"495\" y=\"435\" dy=\"0.76em\" text-anchor=\"middle\" font-family=\"sans-serif\" font-size=\"9.67741935483871\" opacity=\"1\" fill=\"#FFFFFF\">\n",
       "2.0\n",
       "</text>\n",
       "<polyline fill=\"none\" opacity=\"1\" stroke=\"#FFFFFF\" stroke-width=\"1\" points=\"495,425 495,430 \"/>\n",
       "<text x=\"539\" y=\"435\" dy=\"0.76em\" text-anchor=\"middle\" font-family=\"sans-serif\" font-size=\"9.67741935483871\" opacity=\"1\" fill=\"#FFFFFF\">\n",
       "2.5\n",
       "</text>\n",
       "<polyline fill=\"none\" opacity=\"1\" stroke=\"#FFFFFF\" stroke-width=\"1\" points=\"539,425 539,430 \"/>\n",
       "<text x=\"584\" y=\"435\" dy=\"0.76em\" text-anchor=\"middle\" font-family=\"sans-serif\" font-size=\"9.67741935483871\" opacity=\"1\" fill=\"#FFFFFF\">\n",
       "3.0\n",
       "</text>\n",
       "<polyline fill=\"none\" opacity=\"1\" stroke=\"#FFFFFF\" stroke-width=\"1\" points=\"584,425 584,430 \"/>\n",
       "<polyline fill=\"none\" opacity=\"1\" stroke=\"#FFFFFF\" stroke-width=\"1\" points=\"585,55 585,424 \"/>\n",
       "<text x=\"595\" y=\"424\" dy=\"0.5ex\" text-anchor=\"start\" font-family=\"sans-serif\" font-size=\"9.67741935483871\" opacity=\"1\" fill=\"#FFFFFF\">\n",
       "0.0\n",
       "</text>\n",
       "<polyline fill=\"none\" opacity=\"1\" stroke=\"#FFFFFF\" stroke-width=\"1\" points=\"585,424 590,424 \"/>\n",
       "<text x=\"595\" y=\"383\" dy=\"0.5ex\" text-anchor=\"start\" font-family=\"sans-serif\" font-size=\"9.67741935483871\" opacity=\"1\" fill=\"#FFFFFF\">\n",
       "1.0\n",
       "</text>\n",
       "<polyline fill=\"none\" opacity=\"1\" stroke=\"#FFFFFF\" stroke-width=\"1\" points=\"585,383 590,383 \"/>\n",
       "<text x=\"595\" y=\"342\" dy=\"0.5ex\" text-anchor=\"start\" font-family=\"sans-serif\" font-size=\"9.67741935483871\" opacity=\"1\" fill=\"#FFFFFF\">\n",
       "2.0\n",
       "</text>\n",
       "<polyline fill=\"none\" opacity=\"1\" stroke=\"#FFFFFF\" stroke-width=\"1\" points=\"585,342 590,342 \"/>\n",
       "<text x=\"595\" y=\"301\" dy=\"0.5ex\" text-anchor=\"start\" font-family=\"sans-serif\" font-size=\"9.67741935483871\" opacity=\"1\" fill=\"#FFFFFF\">\n",
       "3.0\n",
       "</text>\n",
       "<polyline fill=\"none\" opacity=\"1\" stroke=\"#FFFFFF\" stroke-width=\"1\" points=\"585,301 590,301 \"/>\n",
       "<text x=\"595\" y=\"260\" dy=\"0.5ex\" text-anchor=\"start\" font-family=\"sans-serif\" font-size=\"9.67741935483871\" opacity=\"1\" fill=\"#FFFFFF\">\n",
       "4.0\n",
       "</text>\n",
       "<polyline fill=\"none\" opacity=\"1\" stroke=\"#FFFFFF\" stroke-width=\"1\" points=\"585,260 590,260 \"/>\n",
       "<text x=\"595\" y=\"219\" dy=\"0.5ex\" text-anchor=\"start\" font-family=\"sans-serif\" font-size=\"9.67741935483871\" opacity=\"1\" fill=\"#FFFFFF\">\n",
       "5.0\n",
       "</text>\n",
       "<polyline fill=\"none\" opacity=\"1\" stroke=\"#FFFFFF\" stroke-width=\"1\" points=\"585,219 590,219 \"/>\n",
       "<text x=\"595\" y=\"178\" dy=\"0.5ex\" text-anchor=\"start\" font-family=\"sans-serif\" font-size=\"9.67741935483871\" opacity=\"1\" fill=\"#FFFFFF\">\n",
       "6.0\n",
       "</text>\n",
       "<polyline fill=\"none\" opacity=\"1\" stroke=\"#FFFFFF\" stroke-width=\"1\" points=\"585,178 590,178 \"/>\n",
       "<text x=\"595\" y=\"137\" dy=\"0.5ex\" text-anchor=\"start\" font-family=\"sans-serif\" font-size=\"9.67741935483871\" opacity=\"1\" fill=\"#FFFFFF\">\n",
       "7.0\n",
       "</text>\n",
       "<polyline fill=\"none\" opacity=\"1\" stroke=\"#FFFFFF\" stroke-width=\"1\" points=\"585,137 590,137 \"/>\n",
       "<text x=\"595\" y=\"96\" dy=\"0.5ex\" text-anchor=\"start\" font-family=\"sans-serif\" font-size=\"9.67741935483871\" opacity=\"1\" fill=\"#FFFFFF\">\n",
       "8.0\n",
       "</text>\n",
       "<polyline fill=\"none\" opacity=\"1\" stroke=\"#FFFFFF\" stroke-width=\"1\" points=\"585,96 590,96 \"/>\n",
       "<text x=\"595\" y=\"55\" dy=\"0.5ex\" text-anchor=\"start\" font-family=\"sans-serif\" font-size=\"9.67741935483871\" opacity=\"1\" fill=\"#FFFFFF\">\n",
       "9.0\n",
       "</text>\n",
       "<polyline fill=\"none\" opacity=\"1\" stroke=\"#FFFFFF\" stroke-width=\"1\" points=\"585,55 590,55 \"/>\n",
       "<polyline fill=\"none\" opacity=\"1\" stroke=\"#FF0000\" stroke-width=\"1\" points=\"55,55 55,58 56,60 57,63 58,65 59,68 60,70 61,73 62,75 62,77 63,80 64,82 65,84 66,87 67,89 68,91 69,94 69,96 70,98 71,101 72,103 73,105 74,108 75,110 76,112 77,114 77,117 78,119 79,121 80,123 81,126 82,128 83,130 84,132 84,134 85,137 86,139 87,141 88,143 89,145 90,147 91,149 92,152 92,154 93,156 94,158 95,160 96,162 97,164 98,166 99,168 99,170 100,172 101,174 102,176 103,178 104,180 105,182 106,184 107,186 107,188 108,190 109,192 110,194 111,196 112,198 113,200 114,202 114,204 115,206 116,208 117,209 118,211 119,213 120,215 121,217 122,219 122,221 123,222 124,224 125,226 126,228 127,230 128,231 129,233 129,235 130,237 131,238 132,240 133,242 134,244 135,245 136,247 136,249 137,251 138,252 139,254 140,256 141,257 142,259 143,260 144,262 144,264 145,265 146,267 147,269 148,270 149,272 150,273 151,275 151,276 152,278 153,280 154,281 155,283 156,284 157,286 158,287 159,289 159,290 160,292 161,293 162,295 163,296 164,297 165,299 166,300 166,302 167,303 168,305 169,306 170,307 171,309 172,310 173,312 174,313 174,314 175,316 176,317 177,318 178,320 179,321 180,322 181,323 181,325 182,326 183,327 184,329 185,330 186,331 187,332 188,333 189,335 189,336 190,337 191,338 192,339 193,341 194,342 195,343 196,344 196,345 197,346 198,348 199,349 200,350 201,351 202,352 203,353 204,354 204,355 205,356 206,357 207,358 208,359 209,360 210,361 211,362 211,363 212,364 213,365 214,366 215,367 216,368 217,369 218,370 218,371 219,372 220,373 221,374 222,375 223,376 224,377 225,378 226,378 226,379 227,380 228,381 229,382 230,383 231,383 232,384 233,385 233,386 234,387 235,387 236,388 237,389 238,390 239,391 240,391 241,392 241,393 242,393 243,394 244,395 245,396 246,396 247,397 248,398 248,398 249,399 250,400 251,400 252,401 253,401 254,402 255,403 256,403 256,404 257,404 258,405 259,406 260,406 261,407 262,407 263,408 263,408 264,409 265,409 266,410 267,410 268,411 269,411 270,412 271,412 271,413 272,413 273,413 274,414 275,414 276,415 277,415 278,415 278,416 279,416 280,417 281,417 282,417 283,418 284,418 285,418 285,419 286,419 287,419 288,419 289,420 290,420 291,420 292,421 293,421 293,421 294,421 295,422 296,422 297,422 298,422 299,422 300,423 300,423 301,423 302,423 303,423 304,423 305,423 306,424 307,424 308,424 308,424 309,424 310,424 311,424 312,424 313,424 314,424 315,424 315,424 316,424 317,424 318,424 319,424 320,424 321,424 322,424 323,424 323,424 324,424 325,424 326,424 327,424 328,424 329,424 330,424 330,424 331,424 332,424 333,423 334,423 335,423 336,423 337,423 338,423 338,423 339,422 340,422 341,422 342,422 343,422 344,421 345,421 345,421 346,421 347,420 348,420 349,420 350,419 351,419 352,419 353,419 353,418 354,418 355,418 356,417 357,417 358,417 359,416 360,416 360,415 361,415 362,415 363,414 364,414 365,413 366,413 367,413 367,412 368,412 369,411 370,411 371,410 372,410 373,409 374,409 375,408 375,408 376,407 377,407 378,406 379,406 380,405 381,404 382,404 382,403 383,403 384,402 385,401 386,401 387,400 388,400 389,399 390,398 390,398 391,397 392,396 393,396 394,395 395,394 396,393 397,393 397,392 398,391 399,391 400,390 401,389 402,388 403,387 404,387 405,386 405,385 406,384 407,383 408,383 409,382 410,381 411,380 412,379 412,378 413,378 414,377 415,376 416,375 417,374 418,373 419,372 420,371 420,370 421,369 422,368 423,367 424,366 425,365 426,364 427,363 427,362 428,361 429,360 430,359 431,358 432,357 433,356 434,355 434,354 435,353 436,352 437,351 438,350 439,349 440,348 441,346 442,345 442,344 443,343 444,342 445,341 446,339 447,338 448,337 449,336 449,335 450,333 451,332 452,331 453,330 454,329 455,327 456,326 457,325 457,323 458,322 459,321 460,320 461,318 462,317 463,316 464,314 464,313 465,312 466,310 467,309 468,307 469,306 470,305 471,303 472,302 472,300 473,299 474,297 475,296 476,295 477,293 478,292 479,290 479,289 480,287 481,286 482,284 483,283 484,281 485,280 486,278 487,276 487,275 488,273 489,272 490,270 491,269 492,267 493,265 494,264 494,262 495,260 496,259 497,257 498,256 499,254 500,252 501,251 502,249 502,247 503,245 504,244 505,242 506,240 507,238 508,237 509,235 509,233 510,231 511,230 512,228 513,226 514,224 515,222 516,221 516,219 517,217 518,215 519,213 520,211 521,209 522,208 523,206 524,204 524,202 525,200 526,198 527,196 528,194 529,192 530,190 531,188 531,186 532,184 533,182 534,180 535,178 536,176 537,174 538,172 539,170 539,168 540,166 541,164 542,162 543,160 544,158 545,156 546,154 546,152 547,149 548,147 549,145 550,143 551,141 552,139 553,137 554,134 554,132 555,130 556,128 557,126 558,123 559,121 560,119 561,117 561,114 562,112 563,110 564,108 565,105 566,103 567,101 568,98 569,96 569,94 570,91 571,89 572,87 573,84 574,82 575,80 576,77 576,75 577,73 578,70 579,68 580,65 581,63 582,60 583,58 584,55 \"/>\n",
       "<rect x=\"497\" y=\"225\" width=\"83\" height=\"30\" opacity=\"1\" fill=\"none\" stroke=\"#FFFFFF\"/>\n",
       "<text x=\"537\" y=\"235\" dy=\"0.76em\" text-anchor=\"start\" font-family=\"sans-serif\" font-size=\"9.67741935483871\" opacity=\"1\" fill=\"#FFFFFF\">\n",
       "square\n",
       "</text>\n",
       "<polyline fill=\"none\" opacity=\"1\" stroke=\"#FF0000\" stroke-width=\"1\" points=\"507,240 527,240 \"/>\n",
       "</svg>\n"
      ]
     },
     "metadata": {},
     "output_type": "display_data"
    },
    {
     "name": "stdout",
     "output_type": "stream",
     "text": [
      "07:52:11 #16 [Info] SpiralScriptHelpers.Eval / code:\n",
      "type Mut0 = {mutable l0 : int32}\n",
      "let rec method0 (v0 : Mut0) : bool =\n",
      "    let v1 : int32 = v0.l0\n",
      "    let v2 : bool = v1 < 601\n",
      "    v2\n",
      "and method1 (v0 : int32, v1 : Mut0) : bool =\n",
      "    let v2 : int32 = v1.l0\n",
      "    let v3 : bool = v2 < v0\n",
      "    v3\n",
      "let v0 : (float []) = Array.zeroCreate<float> (601)\n",
      "let v1 : Mut0 = {l0 = 0} : Mut0\n",
      "while method0(v1) do\n",
      "    let v3 : int32 = v1.l0\n",
      "    let v4 : float = float v3\n",
      "    let v5 : float = 0.01 * v4\n",
      "    let v6 : float = -3.0 + v5\n",
      "    v0.[int v3] <- v6\n",
      "    let v7 : int32 = v3 + 1\n",
      "    v1.l0 <- v7\n",
      "    ()\n",
      "let v8 : int32 = v0.Length\n",
      "let v9 : (float []) = Array.zeroCreate<float> (v8)\n",
      "let v10 : Mut0 = {l0 = 0} : Mut0\n",
      "while method1(v8, v10) do\n",
      "    let v12 : int32 = v10.l0\n",
      "    let v13 : float = v0.[int v12]\n",
      "    let v14 : float = v13 ** 2.0\n",
      "    v9.[int v12] <- v14\n",
      "    let v15 : int32 = v12 + 1\n",
      "    v10.l0 <- v15\n",
      "    ()\n",
      "let v16 : string = \"square\"\n",
      "let v17 : (struct (string * (float [])) []) = [|struct (v16, v9)|]\n",
      "struct (v0, v17)\n",
      "\r\n"
     ]
    }
   ],
   "source": [
    "// // test\n",
    "\n",
    "inl x = init_series -3 3 0.01\n",
    "inl y = x |> am.map square\n",
    "x, ;[(\"square\", y)]"
   ]
  },
  {
   "cell_type": "code",
   "execution_count": null,
   "metadata": {
    "dotnet_interactive": {
     "language": "spiral"
    },
    "polyglot_notebook": {
     "kernelName": "spiral"
    }
   },
   "outputs": [
    {
     "data": {
      "text/html": [
       "<svg width=\"640\" height=\"480\" viewBox=\"0 0 640 480\" xmlns=\"http://www.w3.org/2000/svg\">\n",
       "<rect x=\"0\" y=\"0\" width=\"640\" height=\"480\" opacity=\"1\" fill=\"#141414\" stroke=\"none\"/>\n",
       "<line opacity=\"1\" stroke=\"#323232\" stroke-width=\"1\" x1=\"55\" y1=\"424\" x2=\"55\" y2=\"55\"/>\n",
       "<line opacity=\"1\" stroke=\"#323232\" stroke-width=\"1\" x1=\"68\" y1=\"424\" x2=\"68\" y2=\"55\"/>\n",
       "<line opacity=\"1\" stroke=\"#323232\" stroke-width=\"1\" x1=\"81\" y1=\"424\" x2=\"81\" y2=\"55\"/>\n",
       "<line opacity=\"1\" stroke=\"#323232\" stroke-width=\"1\" x1=\"94\" y1=\"424\" x2=\"94\" y2=\"55\"/>\n",
       "<line opacity=\"1\" stroke=\"#323232\" stroke-width=\"1\" x1=\"107\" y1=\"424\" x2=\"107\" y2=\"55\"/>\n",
       "<line opacity=\"1\" stroke=\"#323232\" stroke-width=\"1\" x1=\"121\" y1=\"424\" x2=\"121\" y2=\"55\"/>\n",
       "<line opacity=\"1\" stroke=\"#323232\" stroke-width=\"1\" x1=\"134\" y1=\"424\" x2=\"134\" y2=\"55\"/>\n",
       "<line opacity=\"1\" stroke=\"#323232\" stroke-width=\"1\" x1=\"147\" y1=\"424\" x2=\"147\" y2=\"55\"/>\n",
       "<line opacity=\"1\" stroke=\"#323232\" stroke-width=\"1\" x1=\"160\" y1=\"424\" x2=\"160\" y2=\"55\"/>\n",
       "<line opacity=\"1\" stroke=\"#323232\" stroke-width=\"1\" x1=\"174\" y1=\"424\" x2=\"174\" y2=\"55\"/>\n",
       "<line opacity=\"1\" stroke=\"#323232\" stroke-width=\"1\" x1=\"187\" y1=\"424\" x2=\"187\" y2=\"55\"/>\n",
       "<line opacity=\"1\" stroke=\"#323232\" stroke-width=\"1\" x1=\"200\" y1=\"424\" x2=\"200\" y2=\"55\"/>\n",
       "<line opacity=\"1\" stroke=\"#323232\" stroke-width=\"1\" x1=\"213\" y1=\"424\" x2=\"213\" y2=\"55\"/>\n",
       "<line opacity=\"1\" stroke=\"#323232\" stroke-width=\"1\" x1=\"226\" y1=\"424\" x2=\"226\" y2=\"55\"/>\n",
       "<line opacity=\"1\" stroke=\"#323232\" stroke-width=\"1\" x1=\"240\" y1=\"424\" x2=\"240\" y2=\"55\"/>\n",
       "<line opacity=\"1\" stroke=\"#323232\" stroke-width=\"1\" x1=\"253\" y1=\"424\" x2=\"253\" y2=\"55\"/>\n",
       "<line opacity=\"1\" stroke=\"#323232\" stroke-width=\"1\" x1=\"266\" y1=\"424\" x2=\"266\" y2=\"55\"/>\n",
       "<line opacity=\"1\" stroke=\"#323232\" stroke-width=\"1\" x1=\"279\" y1=\"424\" x2=\"279\" y2=\"55\"/>\n",
       "<line opacity=\"1\" stroke=\"#323232\" stroke-width=\"1\" x1=\"293\" y1=\"424\" x2=\"293\" y2=\"55\"/>\n",
       "<line opacity=\"1\" stroke=\"#323232\" stroke-width=\"1\" x1=\"306\" y1=\"424\" x2=\"306\" y2=\"55\"/>\n",
       "<line opacity=\"1\" stroke=\"#323232\" stroke-width=\"1\" x1=\"319\" y1=\"424\" x2=\"319\" y2=\"55\"/>\n",
       "<line opacity=\"1\" stroke=\"#323232\" stroke-width=\"1\" x1=\"332\" y1=\"424\" x2=\"332\" y2=\"55\"/>\n",
       "<line opacity=\"1\" stroke=\"#323232\" stroke-width=\"1\" x1=\"345\" y1=\"424\" x2=\"345\" y2=\"55\"/>\n",
       "<line opacity=\"1\" stroke=\"#323232\" stroke-width=\"1\" x1=\"359\" y1=\"424\" x2=\"359\" y2=\"55\"/>\n",
       "<line opacity=\"1\" stroke=\"#323232\" stroke-width=\"1\" x1=\"372\" y1=\"424\" x2=\"372\" y2=\"55\"/>\n",
       "<line opacity=\"1\" stroke=\"#323232\" stroke-width=\"1\" x1=\"385\" y1=\"424\" x2=\"385\" y2=\"55\"/>\n",
       "<line opacity=\"1\" stroke=\"#323232\" stroke-width=\"1\" x1=\"398\" y1=\"424\" x2=\"398\" y2=\"55\"/>\n",
       "<line opacity=\"1\" stroke=\"#323232\" stroke-width=\"1\" x1=\"412\" y1=\"424\" x2=\"412\" y2=\"55\"/>\n",
       "<line opacity=\"1\" stroke=\"#323232\" stroke-width=\"1\" x1=\"425\" y1=\"424\" x2=\"425\" y2=\"55\"/>\n",
       "<line opacity=\"1\" stroke=\"#323232\" stroke-width=\"1\" x1=\"438\" y1=\"424\" x2=\"438\" y2=\"55\"/>\n",
       "<line opacity=\"1\" stroke=\"#323232\" stroke-width=\"1\" x1=\"451\" y1=\"424\" x2=\"451\" y2=\"55\"/>\n",
       "<line opacity=\"1\" stroke=\"#323232\" stroke-width=\"1\" x1=\"464\" y1=\"424\" x2=\"464\" y2=\"55\"/>\n",
       "<line opacity=\"1\" stroke=\"#323232\" stroke-width=\"1\" x1=\"478\" y1=\"424\" x2=\"478\" y2=\"55\"/>\n",
       "<line opacity=\"1\" stroke=\"#323232\" stroke-width=\"1\" x1=\"491\" y1=\"424\" x2=\"491\" y2=\"55\"/>\n",
       "<line opacity=\"1\" stroke=\"#323232\" stroke-width=\"1\" x1=\"504\" y1=\"424\" x2=\"504\" y2=\"55\"/>\n",
       "<line opacity=\"1\" stroke=\"#323232\" stroke-width=\"1\" x1=\"517\" y1=\"424\" x2=\"517\" y2=\"55\"/>\n",
       "<line opacity=\"1\" stroke=\"#323232\" stroke-width=\"1\" x1=\"531\" y1=\"424\" x2=\"531\" y2=\"55\"/>\n",
       "<line opacity=\"1\" stroke=\"#323232\" stroke-width=\"1\" x1=\"544\" y1=\"424\" x2=\"544\" y2=\"55\"/>\n",
       "<line opacity=\"1\" stroke=\"#323232\" stroke-width=\"1\" x1=\"557\" y1=\"424\" x2=\"557\" y2=\"55\"/>\n",
       "<line opacity=\"1\" stroke=\"#323232\" stroke-width=\"1\" x1=\"570\" y1=\"424\" x2=\"570\" y2=\"55\"/>\n",
       "<line opacity=\"1\" stroke=\"#323232\" stroke-width=\"1\" x1=\"584\" y1=\"424\" x2=\"584\" y2=\"55\"/>\n",
       "<line opacity=\"1\" stroke=\"#323232\" stroke-width=\"1\" x1=\"55\" y1=\"415\" x2=\"584\" y2=\"415\"/>\n",
       "<line opacity=\"1\" stroke=\"#323232\" stroke-width=\"1\" x1=\"55\" y1=\"406\" x2=\"584\" y2=\"406\"/>\n",
       "<line opacity=\"1\" stroke=\"#323232\" stroke-width=\"1\" x1=\"55\" y1=\"397\" x2=\"584\" y2=\"397\"/>\n",
       "<line opacity=\"1\" stroke=\"#323232\" stroke-width=\"1\" x1=\"55\" y1=\"388\" x2=\"584\" y2=\"388\"/>\n",
       "<line opacity=\"1\" stroke=\"#323232\" stroke-width=\"1\" x1=\"55\" y1=\"378\" x2=\"584\" y2=\"378\"/>\n",
       "<line opacity=\"1\" stroke=\"#323232\" stroke-width=\"1\" x1=\"55\" y1=\"369\" x2=\"584\" y2=\"369\"/>\n",
       "<line opacity=\"1\" stroke=\"#323232\" stroke-width=\"1\" x1=\"55\" y1=\"360\" x2=\"584\" y2=\"360\"/>\n",
       "<line opacity=\"1\" stroke=\"#323232\" stroke-width=\"1\" x1=\"55\" y1=\"351\" x2=\"584\" y2=\"351\"/>\n",
       "<line opacity=\"1\" stroke=\"#323232\" stroke-width=\"1\" x1=\"55\" y1=\"341\" x2=\"584\" y2=\"341\"/>\n",
       "<line opacity=\"1\" stroke=\"#323232\" stroke-width=\"1\" x1=\"55\" y1=\"332\" x2=\"584\" y2=\"332\"/>\n",
       "<line opacity=\"1\" stroke=\"#323232\" stroke-width=\"1\" x1=\"55\" y1=\"323\" x2=\"584\" y2=\"323\"/>\n",
       "<line opacity=\"1\" stroke=\"#323232\" stroke-width=\"1\" x1=\"55\" y1=\"314\" x2=\"584\" y2=\"314\"/>\n",
       "<line opacity=\"1\" stroke=\"#323232\" stroke-width=\"1\" x1=\"55\" y1=\"305\" x2=\"584\" y2=\"305\"/>\n",
       "<line opacity=\"1\" stroke=\"#323232\" stroke-width=\"1\" x1=\"55\" y1=\"295\" x2=\"584\" y2=\"295\"/>\n",
       "<line opacity=\"1\" stroke=\"#323232\" stroke-width=\"1\" x1=\"55\" y1=\"286\" x2=\"584\" y2=\"286\"/>\n",
       "<line opacity=\"1\" stroke=\"#323232\" stroke-width=\"1\" x1=\"55\" y1=\"277\" x2=\"584\" y2=\"277\"/>\n",
       "<line opacity=\"1\" stroke=\"#323232\" stroke-width=\"1\" x1=\"55\" y1=\"268\" x2=\"584\" y2=\"268\"/>\n",
       "<line opacity=\"1\" stroke=\"#323232\" stroke-width=\"1\" x1=\"55\" y1=\"258\" x2=\"584\" y2=\"258\"/>\n",
       "<line opacity=\"1\" stroke=\"#323232\" stroke-width=\"1\" x1=\"55\" y1=\"249\" x2=\"584\" y2=\"249\"/>\n",
       "<line opacity=\"1\" stroke=\"#323232\" stroke-width=\"1\" x1=\"55\" y1=\"240\" x2=\"584\" y2=\"240\"/>\n",
       "<line opacity=\"1\" stroke=\"#323232\" stroke-width=\"1\" x1=\"55\" y1=\"231\" x2=\"584\" y2=\"231\"/>\n",
       "<line opacity=\"1\" stroke=\"#323232\" stroke-width=\"1\" x1=\"55\" y1=\"222\" x2=\"584\" y2=\"222\"/>\n",
       "<line opacity=\"1\" stroke=\"#323232\" stroke-width=\"1\" x1=\"55\" y1=\"212\" x2=\"584\" y2=\"212\"/>\n",
       "<line opacity=\"1\" stroke=\"#323232\" stroke-width=\"1\" x1=\"55\" y1=\"203\" x2=\"584\" y2=\"203\"/>\n",
       "<line opacity=\"1\" stroke=\"#323232\" stroke-width=\"1\" x1=\"55\" y1=\"194\" x2=\"584\" y2=\"194\"/>\n",
       "<line opacity=\"1\" stroke=\"#323232\" stroke-width=\"1\" x1=\"55\" y1=\"185\" x2=\"584\" y2=\"185\"/>\n",
       "<line opacity=\"1\" stroke=\"#323232\" stroke-width=\"1\" x1=\"55\" y1=\"175\" x2=\"584\" y2=\"175\"/>\n",
       "<line opacity=\"1\" stroke=\"#323232\" stroke-width=\"1\" x1=\"55\" y1=\"166\" x2=\"584\" y2=\"166\"/>\n",
       "<line opacity=\"1\" stroke=\"#323232\" stroke-width=\"1\" x1=\"55\" y1=\"157\" x2=\"584\" y2=\"157\"/>\n",
       "<line opacity=\"1\" stroke=\"#323232\" stroke-width=\"1\" x1=\"55\" y1=\"148\" x2=\"584\" y2=\"148\"/>\n",
       "<line opacity=\"1\" stroke=\"#323232\" stroke-width=\"1\" x1=\"55\" y1=\"139\" x2=\"584\" y2=\"139\"/>\n",
       "<line opacity=\"1\" stroke=\"#323232\" stroke-width=\"1\" x1=\"55\" y1=\"129\" x2=\"584\" y2=\"129\"/>\n",
       "<line opacity=\"1\" stroke=\"#323232\" stroke-width=\"1\" x1=\"55\" y1=\"120\" x2=\"584\" y2=\"120\"/>\n",
       "<line opacity=\"1\" stroke=\"#323232\" stroke-width=\"1\" x1=\"55\" y1=\"111\" x2=\"584\" y2=\"111\"/>\n",
       "<line opacity=\"1\" stroke=\"#323232\" stroke-width=\"1\" x1=\"55\" y1=\"102\" x2=\"584\" y2=\"102\"/>\n",
       "<line opacity=\"1\" stroke=\"#323232\" stroke-width=\"1\" x1=\"55\" y1=\"92\" x2=\"584\" y2=\"92\"/>\n",
       "<line opacity=\"1\" stroke=\"#323232\" stroke-width=\"1\" x1=\"55\" y1=\"83\" x2=\"584\" y2=\"83\"/>\n",
       "<line opacity=\"1\" stroke=\"#323232\" stroke-width=\"1\" x1=\"55\" y1=\"74\" x2=\"584\" y2=\"74\"/>\n",
       "<line opacity=\"1\" stroke=\"#323232\" stroke-width=\"1\" x1=\"55\" y1=\"65\" x2=\"584\" y2=\"65\"/>\n",
       "<line opacity=\"1\" stroke=\"#5A5A5A\" stroke-width=\"1\" x1=\"55\" y1=\"424\" x2=\"55\" y2=\"55\"/>\n",
       "<line opacity=\"1\" stroke=\"#5A5A5A\" stroke-width=\"1\" x1=\"107\" y1=\"424\" x2=\"107\" y2=\"55\"/>\n",
       "<line opacity=\"1\" stroke=\"#5A5A5A\" stroke-width=\"1\" x1=\"160\" y1=\"424\" x2=\"160\" y2=\"55\"/>\n",
       "<line opacity=\"1\" stroke=\"#5A5A5A\" stroke-width=\"1\" x1=\"213\" y1=\"424\" x2=\"213\" y2=\"55\"/>\n",
       "<line opacity=\"1\" stroke=\"#5A5A5A\" stroke-width=\"1\" x1=\"266\" y1=\"424\" x2=\"266\" y2=\"55\"/>\n",
       "<line opacity=\"1\" stroke=\"#5A5A5A\" stroke-width=\"1\" x1=\"319\" y1=\"424\" x2=\"319\" y2=\"55\"/>\n",
       "<line opacity=\"1\" stroke=\"#5A5A5A\" stroke-width=\"1\" x1=\"372\" y1=\"424\" x2=\"372\" y2=\"55\"/>\n",
       "<line opacity=\"1\" stroke=\"#5A5A5A\" stroke-width=\"1\" x1=\"425\" y1=\"424\" x2=\"425\" y2=\"55\"/>\n",
       "<line opacity=\"1\" stroke=\"#5A5A5A\" stroke-width=\"1\" x1=\"478\" y1=\"424\" x2=\"478\" y2=\"55\"/>\n",
       "<line opacity=\"1\" stroke=\"#5A5A5A\" stroke-width=\"1\" x1=\"531\" y1=\"424\" x2=\"531\" y2=\"55\"/>\n",
       "<line opacity=\"1\" stroke=\"#5A5A5A\" stroke-width=\"1\" x1=\"584\" y1=\"424\" x2=\"584\" y2=\"55\"/>\n",
       "<line opacity=\"1\" stroke=\"#5A5A5A\" stroke-width=\"1\" x1=\"55\" y1=\"388\" x2=\"584\" y2=\"388\"/>\n",
       "<line opacity=\"1\" stroke=\"#5A5A5A\" stroke-width=\"1\" x1=\"55\" y1=\"351\" x2=\"584\" y2=\"351\"/>\n",
       "<line opacity=\"1\" stroke=\"#5A5A5A\" stroke-width=\"1\" x1=\"55\" y1=\"314\" x2=\"584\" y2=\"314\"/>\n",
       "<line opacity=\"1\" stroke=\"#5A5A5A\" stroke-width=\"1\" x1=\"55\" y1=\"277\" x2=\"584\" y2=\"277\"/>\n",
       "<line opacity=\"1\" stroke=\"#5A5A5A\" stroke-width=\"1\" x1=\"55\" y1=\"240\" x2=\"584\" y2=\"240\"/>\n",
       "<line opacity=\"1\" stroke=\"#5A5A5A\" stroke-width=\"1\" x1=\"55\" y1=\"203\" x2=\"584\" y2=\"203\"/>\n",
       "<line opacity=\"1\" stroke=\"#5A5A5A\" stroke-width=\"1\" x1=\"55\" y1=\"166\" x2=\"584\" y2=\"166\"/>\n",
       "<line opacity=\"1\" stroke=\"#5A5A5A\" stroke-width=\"1\" x1=\"55\" y1=\"129\" x2=\"584\" y2=\"129\"/>\n",
       "<line opacity=\"1\" stroke=\"#5A5A5A\" stroke-width=\"1\" x1=\"55\" y1=\"92\" x2=\"584\" y2=\"92\"/>\n",
       "<line opacity=\"1\" stroke=\"#5A5A5A\" stroke-width=\"1\" x1=\"55\" y1=\"55\" x2=\"584\" y2=\"55\"/>\n",
       "<polyline fill=\"none\" opacity=\"1\" stroke=\"#FFFFFF\" stroke-width=\"1\" points=\"55,54 584,54 \"/>\n",
       "<text x=\"55\" y=\"45\" dy=\"-0.5ex\" text-anchor=\"middle\" font-family=\"sans-serif\" font-size=\"9.67741935483871\" opacity=\"1\" fill=\"#FFFFFF\">\n",
       "-10.0\n",
       "</text>\n",
       "<polyline fill=\"none\" opacity=\"1\" stroke=\"#FFFFFF\" stroke-width=\"1\" points=\"55,49 55,54 \"/>\n",
       "<text x=\"107\" y=\"45\" dy=\"-0.5ex\" text-anchor=\"middle\" font-family=\"sans-serif\" font-size=\"9.67741935483871\" opacity=\"1\" fill=\"#FFFFFF\">\n",
       "-8.0\n",
       "</text>\n",
       "<polyline fill=\"none\" opacity=\"1\" stroke=\"#FFFFFF\" stroke-width=\"1\" points=\"107,49 107,54 \"/>\n",
       "<text x=\"160\" y=\"45\" dy=\"-0.5ex\" text-anchor=\"middle\" font-family=\"sans-serif\" font-size=\"9.67741935483871\" opacity=\"1\" fill=\"#FFFFFF\">\n",
       "-6.0\n",
       "</text>\n",
       "<polyline fill=\"none\" opacity=\"1\" stroke=\"#FFFFFF\" stroke-width=\"1\" points=\"160,49 160,54 \"/>\n",
       "<text x=\"213\" y=\"45\" dy=\"-0.5ex\" text-anchor=\"middle\" font-family=\"sans-serif\" font-size=\"9.67741935483871\" opacity=\"1\" fill=\"#FFFFFF\">\n",
       "-4.0\n",
       "</text>\n",
       "<polyline fill=\"none\" opacity=\"1\" stroke=\"#FFFFFF\" stroke-width=\"1\" points=\"213,49 213,54 \"/>\n",
       "<text x=\"266\" y=\"45\" dy=\"-0.5ex\" text-anchor=\"middle\" font-family=\"sans-serif\" font-size=\"9.67741935483871\" opacity=\"1\" fill=\"#FFFFFF\">\n",
       "-2.0\n",
       "</text>\n",
       "<polyline fill=\"none\" opacity=\"1\" stroke=\"#FFFFFF\" stroke-width=\"1\" points=\"266,49 266,54 \"/>\n",
       "<text x=\"319\" y=\"45\" dy=\"-0.5ex\" text-anchor=\"middle\" font-family=\"sans-serif\" font-size=\"9.67741935483871\" opacity=\"1\" fill=\"#FFFFFF\">\n",
       "0.0\n",
       "</text>\n",
       "<polyline fill=\"none\" opacity=\"1\" stroke=\"#FFFFFF\" stroke-width=\"1\" points=\"319,49 319,54 \"/>\n",
       "<text x=\"372\" y=\"45\" dy=\"-0.5ex\" text-anchor=\"middle\" font-family=\"sans-serif\" font-size=\"9.67741935483871\" opacity=\"1\" fill=\"#FFFFFF\">\n",
       "2.0\n",
       "</text>\n",
       "<polyline fill=\"none\" opacity=\"1\" stroke=\"#FFFFFF\" stroke-width=\"1\" points=\"372,49 372,54 \"/>\n",
       "<text x=\"425\" y=\"45\" dy=\"-0.5ex\" text-anchor=\"middle\" font-family=\"sans-serif\" font-size=\"9.67741935483871\" opacity=\"1\" fill=\"#FFFFFF\">\n",
       "4.0\n",
       "</text>\n",
       "<polyline fill=\"none\" opacity=\"1\" stroke=\"#FFFFFF\" stroke-width=\"1\" points=\"425,49 425,54 \"/>\n",
       "<text x=\"478\" y=\"45\" dy=\"-0.5ex\" text-anchor=\"middle\" font-family=\"sans-serif\" font-size=\"9.67741935483871\" opacity=\"1\" fill=\"#FFFFFF\">\n",
       "6.0\n",
       "</text>\n",
       "<polyline fill=\"none\" opacity=\"1\" stroke=\"#FFFFFF\" stroke-width=\"1\" points=\"478,49 478,54 \"/>\n",
       "<text x=\"531\" y=\"45\" dy=\"-0.5ex\" text-anchor=\"middle\" font-family=\"sans-serif\" font-size=\"9.67741935483871\" opacity=\"1\" fill=\"#FFFFFF\">\n",
       "8.0\n",
       "</text>\n",
       "<polyline fill=\"none\" opacity=\"1\" stroke=\"#FFFFFF\" stroke-width=\"1\" points=\"531,49 531,54 \"/>\n",
       "<text x=\"584\" y=\"45\" dy=\"-0.5ex\" text-anchor=\"middle\" font-family=\"sans-serif\" font-size=\"9.67741935483871\" opacity=\"1\" fill=\"#FFFFFF\">\n",
       "10.0\n",
       "</text>\n",
       "<polyline fill=\"none\" opacity=\"1\" stroke=\"#FFFFFF\" stroke-width=\"1\" points=\"584,49 584,54 \"/>\n",
       "<polyline fill=\"none\" opacity=\"1\" stroke=\"#FFFFFF\" stroke-width=\"1\" points=\"54,55 54,424 \"/>\n",
       "<text x=\"45\" y=\"388\" dy=\"0.5ex\" text-anchor=\"end\" font-family=\"sans-serif\" font-size=\"9.67741935483871\" opacity=\"1\" fill=\"#FFFFFF\">\n",
       "-0.8\n",
       "</text>\n",
       "<polyline fill=\"none\" opacity=\"1\" stroke=\"#FFFFFF\" stroke-width=\"1\" points=\"49,388 54,388 \"/>\n",
       "<text x=\"45\" y=\"351\" dy=\"0.5ex\" text-anchor=\"end\" font-family=\"sans-serif\" font-size=\"9.67741935483871\" opacity=\"1\" fill=\"#FFFFFF\">\n",
       "-0.6\n",
       "</text>\n",
       "<polyline fill=\"none\" opacity=\"1\" stroke=\"#FFFFFF\" stroke-width=\"1\" points=\"49,351 54,351 \"/>\n",
       "<text x=\"45\" y=\"314\" dy=\"0.5ex\" text-anchor=\"end\" font-family=\"sans-serif\" font-size=\"9.67741935483871\" opacity=\"1\" fill=\"#FFFFFF\">\n",
       "-0.4\n",
       "</text>\n",
       "<polyline fill=\"none\" opacity=\"1\" stroke=\"#FFFFFF\" stroke-width=\"1\" points=\"49,314 54,314 \"/>\n",
       "<text x=\"45\" y=\"277\" dy=\"0.5ex\" text-anchor=\"end\" font-family=\"sans-serif\" font-size=\"9.67741935483871\" opacity=\"1\" fill=\"#FFFFFF\">\n",
       "-0.2\n",
       "</text>\n",
       "<polyline fill=\"none\" opacity=\"1\" stroke=\"#FFFFFF\" stroke-width=\"1\" points=\"49,277 54,277 \"/>\n",
       "<text x=\"45\" y=\"240\" dy=\"0.5ex\" text-anchor=\"end\" font-family=\"sans-serif\" font-size=\"9.67741935483871\" opacity=\"1\" fill=\"#FFFFFF\">\n",
       "0.0\n",
       "</text>\n",
       "<polyline fill=\"none\" opacity=\"1\" stroke=\"#FFFFFF\" stroke-width=\"1\" points=\"49,240 54,240 \"/>\n",
       "<text x=\"45\" y=\"203\" dy=\"0.5ex\" text-anchor=\"end\" font-family=\"sans-serif\" font-size=\"9.67741935483871\" opacity=\"1\" fill=\"#FFFFFF\">\n",
       "0.2\n",
       "</text>\n",
       "<polyline fill=\"none\" opacity=\"1\" stroke=\"#FFFFFF\" stroke-width=\"1\" points=\"49,203 54,203 \"/>\n",
       "<text x=\"45\" y=\"166\" dy=\"0.5ex\" text-anchor=\"end\" font-family=\"sans-serif\" font-size=\"9.67741935483871\" opacity=\"1\" fill=\"#FFFFFF\">\n",
       "0.4\n",
       "</text>\n",
       "<polyline fill=\"none\" opacity=\"1\" stroke=\"#FFFFFF\" stroke-width=\"1\" points=\"49,166 54,166 \"/>\n",
       "<text x=\"45\" y=\"129\" dy=\"0.5ex\" text-anchor=\"end\" font-family=\"sans-serif\" font-size=\"9.67741935483871\" opacity=\"1\" fill=\"#FFFFFF\">\n",
       "0.6\n",
       "</text>\n",
       "<polyline fill=\"none\" opacity=\"1\" stroke=\"#FFFFFF\" stroke-width=\"1\" points=\"49,129 54,129 \"/>\n",
       "<text x=\"45\" y=\"92\" dy=\"0.5ex\" text-anchor=\"end\" font-family=\"sans-serif\" font-size=\"9.67741935483871\" opacity=\"1\" fill=\"#FFFFFF\">\n",
       "0.8\n",
       "</text>\n",
       "<polyline fill=\"none\" opacity=\"1\" stroke=\"#FFFFFF\" stroke-width=\"1\" points=\"49,92 54,92 \"/>\n",
       "<text x=\"45\" y=\"55\" dy=\"0.5ex\" text-anchor=\"end\" font-family=\"sans-serif\" font-size=\"9.67741935483871\" opacity=\"1\" fill=\"#FFFFFF\">\n",
       "1.0\n",
       "</text>\n",
       "<polyline fill=\"none\" opacity=\"1\" stroke=\"#FFFFFF\" stroke-width=\"1\" points=\"49,55 54,55 \"/>\n",
       "<polyline fill=\"none\" opacity=\"1\" stroke=\"#FFFFFF\" stroke-width=\"1\" points=\"55,425 584,425 \"/>\n",
       "<text x=\"55\" y=\"435\" dy=\"0.76em\" text-anchor=\"middle\" font-family=\"sans-serif\" font-size=\"9.67741935483871\" opacity=\"1\" fill=\"#FFFFFF\">\n",
       "-10.0\n",
       "</text>\n",
       "<polyline fill=\"none\" opacity=\"1\" stroke=\"#FFFFFF\" stroke-width=\"1\" points=\"55,425 55,430 \"/>\n",
       "<text x=\"107\" y=\"435\" dy=\"0.76em\" text-anchor=\"middle\" font-family=\"sans-serif\" font-size=\"9.67741935483871\" opacity=\"1\" fill=\"#FFFFFF\">\n",
       "-8.0\n",
       "</text>\n",
       "<polyline fill=\"none\" opacity=\"1\" stroke=\"#FFFFFF\" stroke-width=\"1\" points=\"107,425 107,430 \"/>\n",
       "<text x=\"160\" y=\"435\" dy=\"0.76em\" text-anchor=\"middle\" font-family=\"sans-serif\" font-size=\"9.67741935483871\" opacity=\"1\" fill=\"#FFFFFF\">\n",
       "-6.0\n",
       "</text>\n",
       "<polyline fill=\"none\" opacity=\"1\" stroke=\"#FFFFFF\" stroke-width=\"1\" points=\"160,425 160,430 \"/>\n",
       "<text x=\"213\" y=\"435\" dy=\"0.76em\" text-anchor=\"middle\" font-family=\"sans-serif\" font-size=\"9.67741935483871\" opacity=\"1\" fill=\"#FFFFFF\">\n",
       "-4.0\n",
       "</text>\n",
       "<polyline fill=\"none\" opacity=\"1\" stroke=\"#FFFFFF\" stroke-width=\"1\" points=\"213,425 213,430 \"/>\n",
       "<text x=\"266\" y=\"435\" dy=\"0.76em\" text-anchor=\"middle\" font-family=\"sans-serif\" font-size=\"9.67741935483871\" opacity=\"1\" fill=\"#FFFFFF\">\n",
       "-2.0\n",
       "</text>\n",
       "<polyline fill=\"none\" opacity=\"1\" stroke=\"#FFFFFF\" stroke-width=\"1\" points=\"266,425 266,430 \"/>\n",
       "<text x=\"319\" y=\"435\" dy=\"0.76em\" text-anchor=\"middle\" font-family=\"sans-serif\" font-size=\"9.67741935483871\" opacity=\"1\" fill=\"#FFFFFF\">\n",
       "0.0\n",
       "</text>\n",
       "<polyline fill=\"none\" opacity=\"1\" stroke=\"#FFFFFF\" stroke-width=\"1\" points=\"319,425 319,430 \"/>\n",
       "<text x=\"372\" y=\"435\" dy=\"0.76em\" text-anchor=\"middle\" font-family=\"sans-serif\" font-size=\"9.67741935483871\" opacity=\"1\" fill=\"#FFFFFF\">\n",
       "2.0\n",
       "</text>\n",
       "<polyline fill=\"none\" opacity=\"1\" stroke=\"#FFFFFF\" stroke-width=\"1\" points=\"372,425 372,430 \"/>\n",
       "<text x=\"425\" y=\"435\" dy=\"0.76em\" text-anchor=\"middle\" font-family=\"sans-serif\" font-size=\"9.67741935483871\" opacity=\"1\" fill=\"#FFFFFF\">\n",
       "4.0\n",
       "</text>\n",
       "<polyline fill=\"none\" opacity=\"1\" stroke=\"#FFFFFF\" stroke-width=\"1\" points=\"425,425 425,430 \"/>\n",
       "<text x=\"478\" y=\"435\" dy=\"0.76em\" text-anchor=\"middle\" font-family=\"sans-serif\" font-size=\"9.67741935483871\" opacity=\"1\" fill=\"#FFFFFF\">\n",
       "6.0\n",
       "</text>\n",
       "<polyline fill=\"none\" opacity=\"1\" stroke=\"#FFFFFF\" stroke-width=\"1\" points=\"478,425 478,430 \"/>\n",
       "<text x=\"531\" y=\"435\" dy=\"0.76em\" text-anchor=\"middle\" font-family=\"sans-serif\" font-size=\"9.67741935483871\" opacity=\"1\" fill=\"#FFFFFF\">\n",
       "8.0\n",
       "</text>\n",
       "<polyline fill=\"none\" opacity=\"1\" stroke=\"#FFFFFF\" stroke-width=\"1\" points=\"531,425 531,430 \"/>\n",
       "<text x=\"584\" y=\"435\" dy=\"0.76em\" text-anchor=\"middle\" font-family=\"sans-serif\" font-size=\"9.67741935483871\" opacity=\"1\" fill=\"#FFFFFF\">\n",
       "10.0\n",
       "</text>\n",
       "<polyline fill=\"none\" opacity=\"1\" stroke=\"#FFFFFF\" stroke-width=\"1\" points=\"584,425 584,430 \"/>\n",
       "<polyline fill=\"none\" opacity=\"1\" stroke=\"#FFFFFF\" stroke-width=\"1\" points=\"585,55 585,424 \"/>\n",
       "<text x=\"595\" y=\"388\" dy=\"0.5ex\" text-anchor=\"start\" font-family=\"sans-serif\" font-size=\"9.67741935483871\" opacity=\"1\" fill=\"#FFFFFF\">\n",
       "-0.8\n",
       "</text>\n",
       "<polyline fill=\"none\" opacity=\"1\" stroke=\"#FFFFFF\" stroke-width=\"1\" points=\"585,388 590,388 \"/>\n",
       "<text x=\"595\" y=\"351\" dy=\"0.5ex\" text-anchor=\"start\" font-family=\"sans-serif\" font-size=\"9.67741935483871\" opacity=\"1\" fill=\"#FFFFFF\">\n",
       "-0.6\n",
       "</text>\n",
       "<polyline fill=\"none\" opacity=\"1\" stroke=\"#FFFFFF\" stroke-width=\"1\" points=\"585,351 590,351 \"/>\n",
       "<text x=\"595\" y=\"314\" dy=\"0.5ex\" text-anchor=\"start\" font-family=\"sans-serif\" font-size=\"9.67741935483871\" opacity=\"1\" fill=\"#FFFFFF\">\n",
       "-0.4\n",
       "</text>\n",
       "<polyline fill=\"none\" opacity=\"1\" stroke=\"#FFFFFF\" stroke-width=\"1\" points=\"585,314 590,314 \"/>\n",
       "<text x=\"595\" y=\"277\" dy=\"0.5ex\" text-anchor=\"start\" font-family=\"sans-serif\" font-size=\"9.67741935483871\" opacity=\"1\" fill=\"#FFFFFF\">\n",
       "-0.2\n",
       "</text>\n",
       "<polyline fill=\"none\" opacity=\"1\" stroke=\"#FFFFFF\" stroke-width=\"1\" points=\"585,277 590,277 \"/>\n",
       "<text x=\"617\" y=\"240\" dy=\"0.5ex\" text-anchor=\"end\" font-family=\"sans-serif\" font-size=\"9.67741935483871\" opacity=\"1\" fill=\"#FFFFFF\">\n",
       "0.0\n",
       "</text>\n",
       "<polyline fill=\"none\" opacity=\"1\" stroke=\"#FFFFFF\" stroke-width=\"1\" points=\"585,240 590,240 \"/>\n",
       "<text x=\"617\" y=\"203\" dy=\"0.5ex\" text-anchor=\"end\" font-family=\"sans-serif\" font-size=\"9.67741935483871\" opacity=\"1\" fill=\"#FFFFFF\">\n",
       "0.2\n",
       "</text>\n",
       "<polyline fill=\"none\" opacity=\"1\" stroke=\"#FFFFFF\" stroke-width=\"1\" points=\"585,203 590,203 \"/>\n",
       "<text x=\"617\" y=\"166\" dy=\"0.5ex\" text-anchor=\"end\" font-family=\"sans-serif\" font-size=\"9.67741935483871\" opacity=\"1\" fill=\"#FFFFFF\">\n",
       "0.4\n",
       "</text>\n",
       "<polyline fill=\"none\" opacity=\"1\" stroke=\"#FFFFFF\" stroke-width=\"1\" points=\"585,166 590,166 \"/>\n",
       "<text x=\"617\" y=\"129\" dy=\"0.5ex\" text-anchor=\"end\" font-family=\"sans-serif\" font-size=\"9.67741935483871\" opacity=\"1\" fill=\"#FFFFFF\">\n",
       "0.6\n",
       "</text>\n",
       "<polyline fill=\"none\" opacity=\"1\" stroke=\"#FFFFFF\" stroke-width=\"1\" points=\"585,129 590,129 \"/>\n",
       "<text x=\"617\" y=\"92\" dy=\"0.5ex\" text-anchor=\"end\" font-family=\"sans-serif\" font-size=\"9.67741935483871\" opacity=\"1\" fill=\"#FFFFFF\">\n",
       "0.8\n",
       "</text>\n",
       "<polyline fill=\"none\" opacity=\"1\" stroke=\"#FFFFFF\" stroke-width=\"1\" points=\"585,92 590,92 \"/>\n",
       "<text x=\"617\" y=\"55\" dy=\"0.5ex\" text-anchor=\"end\" font-family=\"sans-serif\" font-size=\"9.67741935483871\" opacity=\"1\" fill=\"#FFFFFF\">\n",
       "1.0\n",
       "</text>\n",
       "<polyline fill=\"none\" opacity=\"1\" stroke=\"#FFFFFF\" stroke-width=\"1\" points=\"585,55 590,55 \"/>\n",
       "<polyline fill=\"none\" opacity=\"1\" stroke=\"#FF0000\" stroke-width=\"1\" points=\"55,140 57,156 60,172 62,190 65,208 68,226 70,245 73,263 76,281 78,299 81,316 84,332 86,348 89,362 92,376 94,387 97,398 99,406 102,414 105,419 107,423 110,424 113,424 115,422 118,419 121,413 123,406 126,397 129,386 131,375 134,361 136,347 139,331 142,315 144,297 147,280 150,262 152,243 155,225 158,206 160,188 163,171 166,154 168,138 171,124 174,110 176,97 179,86 181,77 184,69 187,63 189,59 192,56 195,56 197,57 200,60 203,64 205,71 208,79 211,89 213,100 216,113 218,127 221,142 224,158 226,175 229,193 232,211 234,229 237,248 240,266 242,284 245,302 248,319 250,335 253,350 256,365 258,378 261,389 263,399 266,408 269,415 271,420 274,423 277,424 279,424 282,422 285,418 287,412 290,404 293,395 295,385 298,372 300,359 303,344 306,328 308,312 311,295 314,277 316,258 319,240 322,222 324,203 327,185 330,168 332,152 335,136 338,121 340,108 343,95 345,85 348,76 351,68 353,62 356,58 359,56 361,56 364,57 367,60 369,65 372,72 375,81 377,91 380,102 382,115 385,130 388,145 390,161 393,178 396,196 398,214 401,232 404,251 406,269 409,287 412,305 414,322 417,338 420,353 422,367 425,380 427,391 430,401 433,409 435,416 438,420 441,423 443,424 446,424 449,421 451,417 454,411 457,403 459,394 462,383 464,370 467,356 470,342 472,326 475,309 478,292 480,274 483,255 486,237 488,219 491,200 494,183 496,165 499,149 502,133 504,119 507,106 509,94 512,83 515,74 517,67 520,61 523,58 525,56 528,56 531,57 533,61 536,66 539,74 541,82 544,93 546,105 549,118 552,132 554,148 557,164 560,181 562,199 565,217 568,235 570,254 573,272 576,290 578,308 581,324 584,340 \"/>\n",
       "<polyline fill=\"none\" opacity=\"1\" stroke=\"#0000FF\" stroke-width=\"1\" points=\"55,395 57,404 60,412 62,418 65,422 68,424 70,424 73,423 76,420 78,415 81,408 84,400 86,390 89,378 92,365 94,351 97,336 99,320 102,303 105,285 107,267 110,248 113,230 115,212 118,194 121,176 123,159 126,143 129,128 131,114 134,101 136,89 139,80 142,71 144,65 147,60 150,57 152,56 155,56 158,59 160,63 163,69 166,77 168,86 171,97 174,109 176,123 179,138 181,154 184,170 187,188 189,206 192,224 195,242 197,261 200,279 203,297 205,314 208,330 211,346 213,361 216,374 218,386 221,396 224,405 226,413 229,418 232,422 234,424 237,424 240,423 242,419 245,414 248,407 250,398 253,388 256,376 258,363 261,349 263,333 266,317 269,300 271,282 274,264 277,245 279,227 282,209 285,191 287,173 290,156 293,140 295,125 298,111 300,99 303,88 306,78 308,70 311,64 314,59 316,56 319,55 322,56 324,59 327,64 330,70 332,78 335,88 338,99 340,111 343,125 345,140 348,156 351,173 353,191 356,209 359,227 361,245 364,264 367,282 369,300 372,317 375,333 377,349 380,363 382,376 385,388 388,398 390,407 393,414 396,419 398,423 401,424 404,424 406,422 409,418 412,413 414,405 417,396 420,386 422,374 425,361 427,346 430,330 433,314 435,297 438,279 441,261 443,242 446,224 449,206 451,188 454,170 457,154 459,138 462,123 464,109 467,97 470,86 472,77 475,69 478,63 480,59 483,56 486,56 488,57 491,60 494,65 496,71 499,80 502,89 504,101 507,114 509,128 512,143 515,159 517,176 520,194 523,212 525,230 528,248 531,267 533,285 536,303 539,320 541,336 544,351 546,365 549,378 552,390 554,400 557,408 560,415 562,420 565,423 568,424 570,424 573,422 576,418 578,412 581,404 584,395 \"/>\n",
       "<rect x=\"514\" y=\"217\" width=\"66\" height=\"45\" opacity=\"1\" fill=\"none\" stroke=\"#FFFFFF\"/>\n",
       "<text x=\"554\" y=\"227\" dy=\"0.76em\" text-anchor=\"start\" font-family=\"sans-serif\" font-size=\"9.67741935483871\" opacity=\"1\" fill=\"#FFFFFF\">\n",
       "sin\n",
       "</text>\n",
       "<text x=\"554\" y=\"242\" dy=\"0.76em\" text-anchor=\"start\" font-family=\"sans-serif\" font-size=\"9.67741935483871\" opacity=\"1\" fill=\"#FFFFFF\">\n",
       "cos\n",
       "</text>\n",
       "<polyline fill=\"none\" opacity=\"1\" stroke=\"#FF0000\" stroke-width=\"1\" points=\"524,232 544,232 \"/>\n",
       "<polyline fill=\"none\" opacity=\"1\" stroke=\"#0000FF\" stroke-width=\"1\" points=\"524,247 544,247 \"/>\n",
       "</svg>\n"
      ]
     },
     "metadata": {},
     "output_type": "display_data"
    },
    {
     "name": "stdout",
     "output_type": "stream",
     "text": [
      "07:52:13 #17 [Info] SpiralScriptHelpers.Eval / code:\n",
      "type Mut0 = {mutable l0 : int32}\n",
      "let rec method0 (v0 : Mut0) : bool =\n",
      "    let v1 : int32 = v0.l0\n",
      "    let v2 : bool = v1 < 201\n",
      "    v2\n",
      "and method1 (v0 : int32, v1 : Mut0) : bool =\n",
      "    let v2 : int32 = v1.l0\n",
      "    let v3 : bool = v2 < v0\n",
      "    v3\n",
      "let v0 : (float []) = Array.zeroCreate<float> (201)\n",
      "let v1 : Mut0 = {l0 = 0} : Mut0\n",
      "while method0(v1) do\n",
      "    let v3 : int32 = v1.l0\n",
      "    let v4 : float = float v3\n",
      "    let v5 : float = 0.1 * v4\n",
      "    let v6 : float = -10.0 + v5\n",
      "    v0.[int v3] <- v6\n",
      "    let v7 : int32 = v3 + 1\n",
      "    v1.l0 <- v7\n",
      "    ()\n",
      "let v8 : int32 = v0.Length\n",
      "let v9 : (float []) = Array.zeroCreate<float> (v8)\n",
      "let v10 : Mut0 = {l0 = 0} : Mut0\n",
      "while method1(v8, v10) do\n",
      "    let v12 : int32 = v10.l0\n",
      "    let v13 : float = v0.[int v12]\n",
      "    let v14 : float = System.Math.Sin v13\n",
      "    v9.[int v12] <- v14\n",
      "    let v15 : int32 = v12 + 1\n",
      "    v10.l0 <- v15\n",
      "    ()\n",
      "let v16 : (float []) = Array.zeroCreate<float> (v8)\n",
      "let v17 : Mut0 = {l0 = 0} : Mut0\n",
      "while method1(v8, v17) do\n",
      "    let v19 : int32 = v17.l0\n",
      "    let v20 : float = v0.[int v19]\n",
      "    let v21 : float = System.Math.Cos v20\n",
      "    v16.[int v19] <- v21\n",
      "    let v22 : int32 = v19 + 1\n",
      "    v17.l0 <- v22\n",
      "    ()\n",
      "let v23 : string = \"sin\"\n",
      "let v24 : string = \"cos\"\n",
      "let v25 : (struct (string * (float [])) []) = [|struct (v23, v9); struct (v24, v16)|]\n",
      "struct (v0, v25)\n",
      "\r\n"
     ]
    }
   ],
   "source": [
    "// // test\n",
    "\n",
    "inl x = init_series -10 10 0.1\n",
    "inl y_sin = x |> am.map sin\n",
    "inl y_cos = x |> am.map cos\n",
    "x, ;[\"sin\", y_sin; \"cos\", y_cos]"
   ]
  },
  {
   "cell_type": "code",
   "execution_count": null,
   "metadata": {
    "dotnet_interactive": {
     "language": "spiral"
    },
    "polyglot_notebook": {
     "kernelName": "spiral"
    }
   },
   "outputs": [
    {
     "name": "stdout",
     "output_type": "stream",
     "text": [
      "07:52:15 #18 [Info] SpiralScriptHelpers.Eval / code:\n",
      "let v0 : string = $\"_almost_equal / actual: {0.25} / expected: {0.25}\"\n",
      "let v1 : string = $\"_almost_equal / actual: {2.499998827953931E-07} / expected: {2.499998827953931E-07}\"\n",
      "let v2 : string = $\"_almost_equal / actual: {1.000088900582341E-12} / expected: {1.000088900582341E-12}\"\n",
      "let v3 : string = $\"_almost_equal / actual: {8.274037099909037E-08} / expected: {8.274037099909037E-08}\"\n",
      "let v4 : string = $\"_almost_equal / actual: {8.890058234101161E-05} / expected: {8.890058234101161E-05}\"\n",
      "let v5 : string = $\"_almost_equal / actual: {-0.0007992778373592246} / expected: {-0.0007992778373592246}\"\n",
      "let v6 : string = $\"_almost_equal / actual: {-1.0} / expected: {-1.0}\"\n",
      "()\n",
      "\r\n"
     ]
    }
   ],
   "source": [
    "// // test\n",
    "\n",
    "derivative 1 (fun x => x ** 4 / 4) 1 - 1\n",
    "|> _almost_equal 0.25\n",
    "\n",
    "derivative 0.001 (fun x => x ** 4 / 4) 1 - 1\n",
    "|> _almost_equal 0.0000002499998827953931\n",
    "\n",
    "derivative 0.000001 (fun x => x ** 4 / 4) 1 - 1\n",
    "|> _almost_equal 0.000000000001000088900582341\n",
    "\n",
    "derivative 0.000000001 (fun x => x ** 4 / 4) 1 - 1\n",
    "|> _almost_equal 0.00000008274037099909037\n",
    "\n",
    "derivative 0.000000000001 (fun x => x ** 4 / 4) 1 - 1\n",
    "|> _almost_equal 0.00008890058234101161\n",
    "\n",
    "derivative 0.000000000000001 (fun x => x ** 4 / 4) 1 - 1\n",
    "|> _almost_equal -0.0007992778373592246\n",
    "\n",
    "derivative 0.000000000000000001 (fun x => x ** 4 / 4) 1 - 1\n",
    "|> _almost_equal -1"
   ]
  },
  {
   "cell_type": "code",
   "execution_count": null,
   "metadata": {
    "dotnet_interactive": {
     "language": "spiral"
    },
    "polyglot_notebook": {
     "kernelName": "spiral"
    }
   },
   "outputs": [
    {
     "name": "stdout",
     "output_type": "stream",
     "text": [
      "07:52:16 #19 [Info] SpiralScriptHelpers.Eval / code:\n",
      "type Mut0 = {mutable l0 : int32}\n",
      "and Mut1 = {mutable l0 : int32; mutable l1 : float}\n",
      "let rec method0 (v0 : Mut0) : bool =\n",
      "    let v1 : int32 = v0.l0\n",
      "    let v2 : bool = v1 < 100\n",
      "    v2\n",
      "and method1 (v0 : int32, v1 : Mut0) : bool =\n",
      "    let v2 : int32 = v1.l0\n",
      "    let v3 : bool = v2 < v0\n",
      "    v3\n",
      "and method2 (v0 : int32, v1 : Mut1) : bool =\n",
      "    let v2 : int32 = v1.l0\n",
      "    let v3 : bool = v2 < v0\n",
      "    v3\n",
      "let v0 : (float []) = Array.zeroCreate<float> (100)\n",
      "let v1 : Mut0 = {l0 = 0} : Mut0\n",
      "while method0(v1) do\n",
      "    let v3 : int32 = v1.l0\n",
      "    let v4 : float = float v3\n",
      "    let v5 : float = v4 * 0.01\n",
      "    let v6 : float = 0.005 + v5\n",
      "    v0.[int v3] <- v6\n",
      "    let v7 : int32 = v3 + 1\n",
      "    v1.l0 <- v7\n",
      "    ()\n",
      "let v8 : int32 = v0.Length\n",
      "let v9 : (float []) = Array.zeroCreate<float> (v8)\n",
      "let v10 : Mut0 = {l0 = 0} : Mut0\n",
      "while method1(v8, v10) do\n",
      "    let v12 : int32 = v10.l0\n",
      "    let v13 : float = v0.[int v12]\n",
      "    let v14 : float = v13 ** 2.0\n",
      "    let v15 : float = 0.01 * v14\n",
      "    v9.[int v12] <- v15\n",
      "    let v16 : int32 = v12 + 1\n",
      "    v10.l0 <- v16\n",
      "    ()\n",
      "let v17 : int32 = v9.Length\n",
      "let v18 : Mut1 = {l0 = 0; l1 = 0.0} : Mut1\n",
      "while method2(v17, v18) do\n",
      "    let v20 : int32 = v18.l0\n",
      "    let v21 : float = v18.l1\n",
      "    let v22 : float = v9.[int v20]\n",
      "    let v23 : float = v21 + v22\n",
      "    let v24 : int32 = v20 + 1\n",
      "    v18.l0 <- v24\n",
      "    v18.l1 <- v23\n",
      "    ()\n",
      "let v25 : float = v18.l1\n",
      "let v26 : float = 0.33332500000000004 - v25\n",
      "let v27 : float =  -v26\n",
      "let v28 : bool = v26 >= v27\n",
      "let v29 : float =\n",
      "    if v28 then\n",
      "        v26\n",
      "    else\n",
      "        v27\n",
      "let v30 : bool = v29 < 1E-08\n",
      "let v31 : string = $\"_almost_equal / actual: {v25} / expected: {0.33332500000000004}\"\n",
      "let v32 : bool = v30 = false\n",
      "if v32 then\n",
      "    failwith<unit> v31\n",
      "\r\n"
     ]
    }
   ],
   "source": [
    "// // test\n",
    "\n",
    "integral 0.01 (fun x => x ** 2) 0 1\n",
    "|> _almost_equal 0.33332500000000004"
   ]
  },
  {
   "cell_type": "code",
   "execution_count": null,
   "metadata": {
    "dotnet_interactive": {
     "language": "spiral"
    },
    "polyglot_notebook": {
     "kernelName": "spiral"
    }
   },
   "outputs": [
    {
     "name": "stdout",
     "output_type": "stream",
     "text": [
      "07:52:18 #20 [Info] SpiralScriptHelpers.Eval / code:\n",
      "()\n",
      "\r\n"
     ]
    }
   ],
   "source": [
    "// // test\n",
    "()"
   ]
  },
  {
   "cell_type": "code",
   "execution_count": null,
   "metadata": {
    "dotnet_interactive": {
     "language": "spiral"
    },
    "polyglot_notebook": {
     "kernelName": "spiral"
    }
   },
   "outputs": [
    {
     "name": "stdout",
     "output_type": "stream",
     "text": [
      "07:52:20 #21 [Info] SpiralScriptHelpers.Eval / code:\n",
      "()\n",
      "\r\n"
     ]
    }
   ],
   "source": [
    "// // test\n",
    "()"
   ]
  },
  {
   "cell_type": "code",
   "execution_count": null,
   "metadata": {
    "dotnet_interactive": {
     "language": "spiral"
    },
    "polyglot_notebook": {
     "kernelName": "spiral"
    }
   },
   "outputs": [
    {
     "name": "stdout",
     "output_type": "stream",
     "text": [
      "07:52:21 #22 [Info] SpiralScriptHelpers.Eval / code:\n",
      "()\n",
      "\r\n"
     ]
    }
   ],
   "source": [
    "// // test\n",
    "()"
   ]
  },
  {
   "cell_type": "code",
   "execution_count": null,
   "metadata": {
    "dotnet_interactive": {
     "language": "spiral"
    },
    "polyglot_notebook": {
     "kernelName": "spiral"
    }
   },
   "outputs": [
    {
     "name": "stdout",
     "output_type": "stream",
     "text": [
      "07:52:23 #23 [Info] SpiralScriptHelpers.Eval / code:\n",
      "()\n",
      "\r\n"
     ]
    }
   ],
   "source": [
    "// // test\n",
    "()"
   ]
  },
  {
   "cell_type": "code",
   "execution_count": null,
   "metadata": {
    "dotnet_interactive": {
     "language": "spiral"
    },
    "polyglot_notebook": {
     "kernelName": "spiral"
    }
   },
   "outputs": [
    {
     "name": "stdout",
     "output_type": "stream",
     "text": [
      "07:52:25 #24 [Info] SpiralScriptHelpers.Eval / code:\n",
      "()\n",
      "\r\n"
     ]
    }
   ],
   "source": [
    "// // test\n",
    "()"
   ]
  }
 ],
 "metadata": {
  "kernelspec": {
   "display_name": ".NET (C#)",
   "language": "C#",
   "name": ".net-csharp"
  },
  "language_info": {
   "file_extension": ".cs",
   "mimetype": "text/x-csharp",
   "name": "C#",
   "pygments_lexer": "csharp",
   "version": "10.0"
  },
  "polyglot_notebook": {
   "defaultKernelName": "csharp",
   "items": [
    {
     "name": "csharp"
    }
   ]
  },
  "dotnet_interactive": {
   "defaultKernelName": "csharp",
   "items": [
    {
     "name": "csharp"
    }
   ]
  }
 },
 "nbformat": 4,
 "nbformat_minor": 5
}