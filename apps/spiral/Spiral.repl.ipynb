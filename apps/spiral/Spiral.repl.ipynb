{
 "cells": [
  {
   "cell_type": "markdown",
   "metadata": {},
   "source": [
    "## ???"
   ]
  },
  {
   "cell_type": "code",
   "execution_count": null,
   "metadata": {
    "dotnet_interactive": {
     "language": "spiral"
    },
    "polyglot_notebook": {
     "kernelName": "spiral"
    }
   },
   "outputs": [
    {
     "name": "stdout",
     "output_type": "stream",
     "text": [
      "05:38:42 #1 [Info] SpiralScriptHelpers.Eval / code:\n",
      "()\n",
      "\r\n"
     ]
    }
   ],
   "source": [
    "// // test\n",
    "\n",
    "inl _is_less_than_or_equal b a =\n",
    "    assert (b <= a) $\"$\\\"_is_less_than_or_equal / actual: {!a} / expected: {!b}\\\"\"\n",
    "\n",
    "inl _is_less_than b a =\n",
    "    assert (b < a) $\"$\\\"_is_less_than / actual: {!a} / expected: {!b}\\\"\"\n",
    "\n",
    "inl _almost_equal b a =\n",
    "    assert (abs (b - a) < 0.00000001) $\"$\\\"_almost_equal / actual: {!a} / expected: {!b}\\\"\""
   ]
  },
  {
   "cell_type": "code",
   "execution_count": null,
   "metadata": {
    "dotnet_interactive": {
     "language": "spiral"
    },
    "polyglot_notebook": {
     "kernelName": "spiral"
    }
   },
   "outputs": [
    {
     "name": "stdout",
     "output_type": "stream",
     "text": [
      "05:38:45 #2 [Info] SpiralScriptHelpers.Eval / code:\n",
      "()\n",
      "\r\n"
     ]
    }
   ],
   "source": [
    "inl pi () =\n",
    "    $\"System.Math.PI\" : f64"
   ]
  },
  {
   "cell_type": "code",
   "execution_count": null,
   "metadata": {
    "dotnet_interactive": {
     "language": "spiral"
    },
    "polyglot_notebook": {
     "kernelName": "spiral"
    }
   },
   "outputs": [
    {
     "name": "stdout",
     "output_type": "stream",
     "text": [
      "05:38:46 #3 [Info] SpiralScriptHelpers.Eval / code:\n",
      "let v0 : string = $\"_almost_equal / actual: {3.1622776601683795} / expected: {3.1622776601683795}\"\n",
      "()\n",
      "\r\n"
     ]
    }
   ],
   "source": [
    "// // test\n",
    "\n",
    "2 * 2 / 0.4f64\n",
    "|> sqrt\n",
    "|> _almost_equal 3.1622776601683795"
   ]
  },
  {
   "cell_type": "code",
   "execution_count": null,
   "metadata": {
    "dotnet_interactive": {
     "language": "spiral"
    },
    "polyglot_notebook": {
     "kernelName": "spiral"
    }
   },
   "outputs": [
    {
     "name": "stdout",
     "output_type": "stream",
     "text": [
      "05:38:48 #4 [Info] SpiralScriptHelpers.Eval / code:\n",
      "let v0 : string = $\"_almost_equal / actual: {0.6666666666666666} / expected: {0.6666666666666666}\"\n",
      "()\n",
      "\r\n"
     ]
    }
   ],
   "source": [
    "// // test\n",
    "\n",
    "2f64 / 3\n",
    "|> _almost_equal 0.6666666666666666"
   ]
  },
  {
   "cell_type": "code",
   "execution_count": null,
   "metadata": {
    "dotnet_interactive": {
     "language": "spiral"
    },
    "polyglot_notebook": {
     "kernelName": "spiral"
    }
   },
   "outputs": [
    {
     "name": "stdout",
     "output_type": "stream",
     "text": [
      "05:38:50 #5 [Info] SpiralScriptHelpers.Eval / code:\n",
      "let v0 : string = $\"_almost_equal / actual: {0.6931471805599453} / expected: {0.6931471805599453}\"\n",
      "()\n",
      "\r\n"
     ]
    }
   ],
   "source": [
    "// // test\n",
    "\n",
    "2f64\n",
    "|> log\n",
    "|> _almost_equal 0.6931471805599453"
   ]
  },
  {
   "cell_type": "code",
   "execution_count": null,
   "metadata": {
    "dotnet_interactive": {
     "language": "spiral"
    },
    "polyglot_notebook": {
     "kernelName": "spiral"
    }
   },
   "outputs": [
    {
     "name": "stdout",
     "output_type": "stream",
     "text": [
      "05:38:51 #6 [Info] SpiralScriptHelpers.Eval / code:\n",
      "let v0 : float = System.Math.PI\n",
      "let v1 : float = 3.141592653589793 - v0\n",
      "let v2 : float =  -v1\n",
      "let v3 : bool = v1 >= v2\n",
      "let v4 : float =\n",
      "    if v3 then\n",
      "        v1\n",
      "    else\n",
      "        v2\n",
      "let v5 : bool = v4 < 1E-08\n",
      "let v6 : string = $\"_almost_equal / actual: {v0} / expected: {3.141592653589793}\"\n",
      "let v7 : bool = v5 = false\n",
      "if v7 then\n",
      "    failwith<unit> v6\n",
      "\r\n"
     ]
    }
   ],
   "source": [
    "// // test\n",
    "\n",
    "pi ()\n",
    "|> _almost_equal 3.141592653589793"
   ]
  },
  {
   "cell_type": "code",
   "execution_count": null,
   "metadata": {
    "dotnet_interactive": {
     "language": "spiral"
    },
    "polyglot_notebook": {
     "kernelName": "spiral"
    }
   },
   "outputs": [
    {
     "name": "stdout",
     "output_type": "stream",
     "text": [
      "05:38:53 #7 [Info] SpiralScriptHelpers.Eval / code:\n",
      "()\n",
      "\r\n"
     ]
    }
   ],
   "source": [
    "// // test\n",
    "()"
   ]
  },
  {
   "cell_type": "code",
   "execution_count": null,
   "metadata": {
    "dotnet_interactive": {
     "language": "spiral"
    },
    "polyglot_notebook": {
     "kernelName": "spiral"
    }
   },
   "outputs": [
    {
     "name": "stdout",
     "output_type": "stream",
     "text": [
      "05:38:54 #8 [Info] SpiralScriptHelpers.Eval / code:\n",
      "()\n",
      "\r\n"
     ]
    }
   ],
   "source": [
    "// // test\n",
    "()"
   ]
  },
  {
   "cell_type": "code",
   "execution_count": null,
   "metadata": {
    "dotnet_interactive": {
     "language": "spiral"
    },
    "polyglot_notebook": {
     "kernelName": "spiral"
    }
   },
   "outputs": [
    {
     "name": "stdout",
     "output_type": "stream",
     "text": [
      "05:38:56 #9 [Info] SpiralScriptHelpers.Eval / code:\n",
      "()\n",
      "\r\n"
     ]
    }
   ],
   "source": [
    "// // test\n",
    "()"
   ]
  },
  {
   "cell_type": "code",
   "execution_count": null,
   "metadata": {
    "dotnet_interactive": {
     "language": "spiral"
    },
    "polyglot_notebook": {
     "kernelName": "spiral"
    }
   },
   "outputs": [
    {
     "name": "stdout",
     "output_type": "stream",
     "text": [
      "05:38:57 #10 [Info] SpiralScriptHelpers.Eval / code:\n",
      "()\n",
      "\r\n"
     ]
    }
   ],
   "source": [
    "// // test\n",
    "()"
   ]
  },
  {
   "cell_type": "code",
   "execution_count": null,
   "metadata": {
    "dotnet_interactive": {
     "language": "spiral"
    },
    "polyglot_notebook": {
     "kernelName": "spiral"
    }
   },
   "outputs": [
    {
     "name": "stdout",
     "output_type": "stream",
     "text": [
      "05:38:59 #11 [Info] SpiralScriptHelpers.Eval / code:\n",
      "()\n",
      "\r\n"
     ]
    }
   ],
   "source": [
    "// // test\n",
    "()"
   ]
  },
  {
   "cell_type": "code",
   "execution_count": null,
   "metadata": {
    "dotnet_interactive": {
     "language": "spiral"
    },
    "polyglot_notebook": {
     "kernelName": "spiral"
    }
   },
   "outputs": [
    {
     "name": "stdout",
     "output_type": "stream",
     "text": [
      "05:39:00 #12 [Info] SpiralScriptHelpers.Eval / code:\n",
      "()\n",
      "\r\n"
     ]
    }
   ],
   "source": [
    "// // test\n",
    "()"
   ]
  },
  {
   "cell_type": "code",
   "execution_count": null,
   "metadata": {
    "dotnet_interactive": {
     "language": "spiral"
    },
    "polyglot_notebook": {
     "kernelName": "spiral"
    }
   },
   "outputs": [
    {
     "name": "stdout",
     "output_type": "stream",
     "text": [
      "05:39:02 #13 [Info] SpiralScriptHelpers.Eval / code:\n",
      "()\n",
      "\r\n"
     ]
    }
   ],
   "source": [
    "// // test\n",
    "()"
   ]
  },
  {
   "cell_type": "code",
   "execution_count": null,
   "metadata": {
    "dotnet_interactive": {
     "language": "spiral"
    },
    "polyglot_notebook": {
     "kernelName": "spiral"
    }
   },
   "outputs": [
    {
     "name": "stdout",
     "output_type": "stream",
     "text": [
      "05:39:03 #14 [Info] SpiralScriptHelpers.Eval / code:\n",
      "()\n",
      "\r\n"
     ]
    }
   ],
   "source": [
    "// // test\n",
    "()"
   ]
  },
  {
   "cell_type": "code",
   "execution_count": null,
   "metadata": {
    "dotnet_interactive": {
     "language": "spiral"
    },
    "polyglot_notebook": {
     "kernelName": "spiral"
    }
   },
   "outputs": [
    {
     "name": "stdout",
     "output_type": "stream",
     "text": [
      "05:39:05 #15 [Info] SpiralScriptHelpers.Eval / code:\n",
      "()\n",
      "\r\n"
     ]
    }
   ],
   "source": [
    "// // test\n",
    "()"
   ]
  },
  {
   "cell_type": "code",
   "execution_count": null,
   "metadata": {
    "dotnet_interactive": {
     "language": "spiral"
    },
    "polyglot_notebook": {
     "kernelName": "spiral"
    }
   },
   "outputs": [
    {
     "name": "stdout",
     "output_type": "stream",
     "text": [
      "05:39:06 #16 [Info] SpiralScriptHelpers.Eval / code:\n",
      "()\n",
      "\r\n"
     ]
    }
   ],
   "source": [
    "// // test\n",
    "()"
   ]
  },
  {
   "cell_type": "code",
   "execution_count": null,
   "metadata": {
    "dotnet_interactive": {
     "language": "spiral"
    },
    "polyglot_notebook": {
     "kernelName": "spiral"
    }
   },
   "outputs": [
    {
     "name": "stdout",
     "output_type": "stream",
     "text": [
      "05:39:08 #17 [Info] SpiralScriptHelpers.Eval / code:\n",
      "()\n",
      "\r\n"
     ]
    }
   ],
   "source": [
    "// // test\n",
    "()"
   ]
  },
  {
   "cell_type": "code",
   "execution_count": null,
   "metadata": {
    "dotnet_interactive": {
     "language": "spiral"
    },
    "polyglot_notebook": {
     "kernelName": "spiral"
    }
   },
   "outputs": [
    {
     "name": "stdout",
     "output_type": "stream",
     "text": [
      "05:39:09 #18 [Info] SpiralScriptHelpers.Eval / code:\n",
      "()\n",
      "\r\n"
     ]
    }
   ],
   "source": [
    "// // test\n",
    "()"
   ]
  }
 ],
 "metadata": {
  "kernelspec": {
   "display_name": ".NET (C#)",
   "language": "C#",
   "name": ".net-csharp"
  },
  "language_info": {
   "file_extension": ".cs",
   "mimetype": "text/x-csharp",
   "name": "C#",
   "pygments_lexer": "csharp",
   "version": "10.0"
  },
  "polyglot_notebook": {
   "defaultKernelName": "csharp",
   "items": [
    {
     "name": "csharp"
    }
   ]
  },
  "dotnet_interactive": {
   "defaultKernelName": "csharp",
   "items": [
    {
     "name": "csharp"
    }
   ]
  }
 },
 "nbformat": 4,
 "nbformat_minor": 5
}