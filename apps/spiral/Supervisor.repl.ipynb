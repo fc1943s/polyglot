{
 "cells": [
  {
   "cell_type": "markdown",
   "metadata": {
    "dotnet_repl_cellExecutionStartTime": "2023-07-30T02:41:02.9107072-03:00",
    "dotnet_repl_cellExecutionEndTime": "2023-07-30T02:41:02.9639025-03:00",
    "dotnet_repl_cellExecutionTime": "53.3317ms"
   },
   "source": [
    "# Supervisor (Polyglot)"
   ]
  },
  {
   "cell_type": "code",
   "execution_count": null,
   "metadata": {
    "dotnet_repl_cellExecutionStartTime": "2023-07-30T02:41:02.9660996-03:00",
    "dotnet_repl_cellExecutionEndTime": "2023-07-30T02:41:08.964864-03:00",
    "dotnet_repl_cellExecutionTime": "5.9987682s",
    "dotnet_interactive": {
     "language": "fsharp"
    },
    "polyglot_notebook": {
     "kernelName": "fsharp"
    }
   },
   "outputs": [],
   "source": [
    "#!import ../nbs/Testing.dib"
   ]
  },
  {
   "cell_type": "code",
   "execution_count": null,
   "metadata": {
    "dotnet_repl_cellExecutionStartTime": "2023-07-30T02:41:08.96493-03:00",
    "dotnet_repl_cellExecutionEndTime": "2023-07-30T02:41:09.0120864-03:00",
    "dotnet_repl_cellExecutionTime": "47.1606ms",
    "dotnet_interactive": {
     "language": "fsharp"
    },
    "polyglot_notebook": {
     "kernelName": "fsharp"
    }
   },
   "outputs": [],
   "source": [
    "#r @\"../../../../../../../.nuget/packages/fsharp.control.asyncseq/3.2.1/lib/netstandard2.1/FSharp.Control.AsyncSeq.dll\"\n",
    "#r @\"../../../../../../../.nuget/packages/system.reactive/5.0.0/lib/net5.0/System.Reactive.dll\"\n",
    "#r @\"../../../../../../../.nuget/packages/system.reactive.linq/6.0.1-preview.1/lib/netstandard2.0/System.Reactive.Linq.dll\"\n",
    "\n",
    "#r @\"../../../../../../../.nuget/packages/asyncio/0.1.69/lib/netstandard2.0/AsyncIO.dll\"\n",
    "#r @\"../../../../../../../.nuget/packages/netmq/4.0.1.12/lib/netstandard2.1/NetMQ.dll\""
   ]
  },
  {
   "cell_type": "code",
   "execution_count": null,
   "metadata": {
    "dotnet_repl_cellExecutionStartTime": "2023-07-30T02:41:09.0121483-03:00",
    "dotnet_repl_cellExecutionEndTime": "2023-07-30T02:41:13.8822616-03:00",
    "dotnet_repl_cellExecutionTime": "4.870115s",
    "dotnet_interactive": {
     "language": "fsharp"
    },
    "polyglot_notebook": {
     "kernelName": "fsharp"
    }
   },
   "outputs": [],
   "source": [
    "#!import ../nbs/Common.fs\n",
    "#!import ../nbs/Async.fs\n",
    "#!import ../nbs/AsyncSeq.fs\n",
    "#!import ../nbs/Networking.fs\n",
    "#!import ../nbs/Runtime.fs\n",
    "#!import ../nbs/FileSystem.fs"
   ]
  },
  {
   "cell_type": "code",
   "execution_count": null,
   "metadata": {
    "dotnet_repl_cellExecutionStartTime": "2023-07-30T02:41:13.882296-03:00",
    "dotnet_repl_cellExecutionEndTime": "2023-07-30T02:41:13.892206-03:00",
    "dotnet_repl_cellExecutionTime": "9.9115ms",
    "dotnet_interactive": {
     "language": "fsharp"
    },
    "polyglot_notebook": {
     "kernelName": "fsharp"
    }
   },
   "outputs": [],
   "source": [
    "open Common\n",
    "open FileSystem"
   ]
  },
  {
   "cell_type": "code",
   "execution_count": null,
   "metadata": {
    "dotnet_repl_cellExecutionStartTime": "2023-07-30T02:41:13.8922426-03:00",
    "dotnet_repl_cellExecutionEndTime": "2023-07-30T02:41:14.0322878-03:00",
    "dotnet_repl_cellExecutionTime": "140.0471ms",
    "dotnet_interactive": {
     "language": "fsharp"
    },
    "polyglot_notebook": {
     "kernelName": "fsharp"
    }
   },
   "outputs": [],
   "source": [
    "let inline sendJson (port : int) (json : string) = async {\n",
    "    let! portOpen = Networking.testPortOpen port\n",
    "    if portOpen then\n",
    "        // use runtime = new NetMQ.NetMQRuntime ()\n",
    "        use request = new NetMQ.Sockets.RequestSocket ()\n",
    "        request.Connect $\"tcp://127.0.0.1:{port}\"\n",
    "\n",
    "        let msg = NetMQ.NetMQMessage ()\n",
    "        msg.Append json\n",
    "\n",
    "        NetMQ.OutgoingSocketExtensions.SendMultipartMessage (request, msg)\n",
    "        let result = NetMQ.ReceivingSocketExtensions.ReceiveMultipartMessage (request, 10)\n",
    "        // let! result = NetMQ.AsyncReceiveExtensions.ReceiveMultipartMessageAsync (request, 10) |> Async.AwaitTask\n",
    "        let result = result |> Seq.toList |> List.map (fun x -> x.ConvertToString ())\n",
    "        trace Debug (fun () -> $\"sendJson / port: {port} / json: {json} / result: {result}\") getLocals\n",
    "        return true\n",
    "    else\n",
    "        trace Debug (fun () -> \"sendJson / error: port not open\") getLocals\n",
    "        return false\n",
    "}"
   ]
  },
  {
   "cell_type": "code",
   "execution_count": null,
   "metadata": {
    "dotnet_repl_cellExecutionStartTime": "2023-07-30T02:41:14.032327-03:00",
    "dotnet_repl_cellExecutionEndTime": "2023-07-30T02:41:14.1532733-03:00",
    "dotnet_repl_cellExecutionTime": "120.9483ms",
    "dotnet_interactive": {
     "language": "fsharp"
    },
    "polyglot_notebook": {
     "kernelName": "fsharp"
    }
   },
   "outputs": [],
   "source": [
    "let inline sendObj port obj =\n",
    "    let json = System.Text.Json.JsonSerializer.Serialize obj\n",
    "    sendJson port json"
   ]
  },
  {
   "cell_type": "code",
   "execution_count": null,
   "metadata": {
    "dotnet_repl_cellExecutionStartTime": "2023-07-30T02:41:14.1533066-03:00",
    "dotnet_repl_cellExecutionEndTime": "2023-07-30T02:41:16.0030402-03:00",
    "dotnet_repl_cellExecutionTime": "1.8497358s",
    "dotnet_interactive": {
     "language": "fsharp"
    },
    "polyglot_notebook": {
     "kernelName": "fsharp"
    }
   },
   "outputs": [],
   "source": [
    "let inline compile code = async {\n",
    "    let tempDir = FileSystem.createTempDirectory ()\n",
    "\n",
    "    let stream, disposable = FileSystem.watchDirectory true tempDir\n",
    "\n",
    "    let mainPath = tempDir </> \"main.spi\"\n",
    "    let spiprojPath = tempDir </> \"package.spiproj\"\n",
    "\n",
    "    let inline writeCode path code =\n",
    "        System.IO.File.WriteAllTextAsync (path, code) |> Async.AwaitTask\n",
    "\n",
    "    do! code |> writeCode mainPath\n",
    "    do! \"packages:\\n    |core-\\nmodules:\\n    main\" |> writeCode spiprojPath\n",
    "\n",
    "    let port = 13805\n",
    "\n",
    "    let! ct = Async.CancellationToken\n",
    "    let compiler = MailboxProcessor.Start (fun inbox -> async {\n",
    "        let! availablePort = Networking.getAvailablePort (Some 60) port\n",
    "        if availablePort <> port\n",
    "        then inbox.Post ()\n",
    "        else\n",
    "            let compilerPath =\n",
    "                \"../../deps/The-Spiral-Language/The Spiral Language 2/artifacts/bin/The Spiral Language 2/release\"\n",
    "                |> Path.GetFullPath\n",
    "\n",
    "            let dllPath = compilerPath </> \"Spiral.dll\"\n",
    "            // let commandsPath = compilerPath </> \"compiler/supervisor/commands\"\n",
    "\n",
    "            let! exitCode, result =\n",
    "                Runtime.executeWithOptionsAsync\n",
    "                    {\n",
    "                        Command = $@\"dotnet \"\"{dllPath}\"\" port={port}\"\n",
    "                        CancellationToken = None\n",
    "                        OnLine = Some <| fun { Line = line } -> async {\n",
    "                            if line |> String.contains $\"Server bound to: tcp://*:{port}\"\n",
    "                            then inbox.Post ()\n",
    "                        }\n",
    "                    }\n",
    "            trace Debug (fun () -> $\"startSupervisor / exitCode: {exitCode} / result: {result}\") getLocals\n",
    "    }, ct)\n",
    "\n",
    "    do! compiler.Receive ()\n",
    "\n",
    "    let inline getFileUri path =\n",
    "        $\"file:///{path |> String.trimStart [| '/' |]}\"\n",
    "\n",
    "\n",
    "    let fileOpenObj = {| FileOpen = {| uri = mainPath |> getFileUri; spiText = code |} |}\n",
    "    let! fileOpenResult = fileOpenObj |> sendObj port\n",
    "\n",
    "    let buildFileObj = {| BuildFile = {| uri = mainPath |> getFileUri; backend = \"Fsharp\" |} |}\n",
    "    let! buildFileResult = buildFileObj |> sendObj port\n",
    "\n",
    "    let! fsxContent =\n",
    "        stream\n",
    "        |> FSharp.Control.AsyncSeq.choose (function\n",
    "            | _, FileSystemChange.Changed (\"main.fsx\", Some content) -> Some content\n",
    "            | _ -> None\n",
    "        )\n",
    "        |> FSharp.Control.AsyncSeq.tryFirst\n",
    "\n",
    "    disposable.Dispose ()\n",
    "\n",
    "    return fsxContent |> Option.defaultValue \"\" |> String.replace \"\\r\\n\" \"\\n\"\n",
    "}"
   ]
  },
  {
   "cell_type": "code",
   "execution_count": null,
   "metadata": {
    "dotnet_repl_cellExecutionStartTime": "2023-07-30T02:41:16.0030853-03:00",
    "dotnet_repl_cellExecutionEndTime": "2023-07-30T02:41:20.5943491-03:00",
    "dotnet_repl_cellExecutionTime": "4.5912665s",
    "dotnet_interactive": {
     "language": "fsharp"
    },
    "polyglot_notebook": {
     "kernelName": "fsharp"
    }
   },
   "outputs": [
    {
     "name": "stdout",
     "output_type": "stream",
     "text": [
      "02:41:18 #1 [Debug] createTempDirectory / tempFolder: C:\\Users\\i574n\\AppData\\Local\\Temp\\!dotnet-repl\\20230730-0241-1806-0666-0e8ad53fe4d0 / result: { CreationTime = 2023-07-30 2:41:18 AM\n",
      "  Exists = true }\r\n",
      "02:41:18 #2 [Debug] runWithTimeoutAsync / timeout: 60\r\n",
      "02:41:18 #3 [Debug] executeAsync / workingDirectory: . / fileName: dotnet / arguments: \"C:\\home\\git\\polyglot\\deps\\The-Spiral-Language\\The Spiral Language 2\\artifacts\\bin\\The Spiral Language 2\\release\\Spiral.dll\" port=13805\r\n",
      "02:41:18 #4 [Debug]  20968: Server bound to: tcp://*:13805 & tcp://*:13806\r\n",
      "02:41:18 #5 [Debug]  20968: pwd: C:\\home\\git\\polyglot\\apps\\spiral\r\n",
      "02:41:18 #6 [Debug]  20968: dll_path: C:\\home\\git\\polyglot\\deps\\The-Spiral-Language\\The Spiral Language 2\\artifacts\\bin\\The Spiral Language 2\\release\r\n",
      "02:41:19 #7 [Debug] sendJson / port: 13805 / json: {\"FileOpen\":{\"spiText\":\"inl app () =\\n    0i32\\n\\ninl main () =\\n    app\\n    |\\u003E dyn\\n    |\\u003E ignore\\n\",\"uri\":\"file:///C:\\\\Users\\\\i574n\\\\AppData\\\\Local\\\\Temp\\\\!dotnet-repl\\\\20230730-0241-1806-0666-0e8ad53fe4d0\\\\main.spi\"}} / result: []\r\n",
      "02:41:19 #8 [Debug] sendJson / port: 13805 / json: {\"BuildFile\":{\"backend\":\"Fsharp\",\"uri\":\"file:///C:\\\\Users\\\\i574n\\\\AppData\\\\Local\\\\Temp\\\\!dotnet-repl\\\\20230730-0241-1806-0666-0e8ad53fe4d0\\\\main.spi\"}} / result: []\r\n",
      "02:41:19 #9 [Debug]  20968: Building C:\\Users\\i574n\\AppData\\Local\\Temp\\!dotnet-repl\\20230730-0241-1806-0666-0e8ad53fe4d0\\main.spi\r\n",
      "02:41:20 #10 [Debug] watchWithFilter / Disposing watch stream / fullPath: C:\\Users\\i574n\\AppData\\Local\\Temp\\!dotnet-repl\\20230730-0241-1806-0666-0e8ad53fe4d0 / filter: FileName, LastWrite\r\n",
      "FSharpOption<String>\r\n",
      "      Value: let rec closure0 () () : int32 =\n",
      "    0\n",
      "let v0 : (unit -> int32) = closure0()\n",
      "()\n",
      "\r\n"
     ]
    }
   ],
   "source": [
    "//// test\n",
    "\n",
    "\n",
    "\"\"\"inl app () =\n",
    "    0i32\n",
    "\n",
    "inl main () =\n",
    "    app\n",
    "    |> dyn\n",
    "    |> ignore\n",
    "\"\"\"\n",
    "|> compile\n",
    "|> Async.runWithTimeout 8000\n",
    "|> _equal (Some \"\"\"let rec closure0 () () : int32 =\n",
    "    0\n",
    "let v0 : (unit -> int32) = closure0()\n",
    "()\n",
    "\"\"\")"
   ]
  },
  {
   "cell_type": "code",
   "execution_count": null,
   "metadata": {
    "dotnet_repl_cellExecutionStartTime": "2023-07-30T02:41:20.5943974-03:00",
    "dotnet_repl_cellExecutionEndTime": "2023-07-30T02:41:24.8633535-03:00",
    "dotnet_repl_cellExecutionTime": "4.2689588s",
    "dotnet_interactive": {
     "language": "fsharp"
    },
    "polyglot_notebook": {
     "kernelName": "fsharp"
    }
   },
   "outputs": [
    {
     "name": "stdout",
     "output_type": "stream",
     "text": [
      "02:41:22 #11 [Debug] createTempDirectory / tempFolder: C:\\Users\\i574n\\AppData\\Local\\Temp\\!dotnet-repl\\20230730-0241-2272-7254-72eef8eba718 / result: { CreationTime = 2023-07-30 2:41:22 AM\n",
      "  Exists = true }\r\n",
      "02:41:22 #12 [Debug] runWithTimeoutAsync / timeout: 60\r\n",
      "02:41:22 #13 [Debug] executeAsync / workingDirectory: . / fileName: dotnet / arguments: \"C:\\home\\git\\polyglot\\deps\\The-Spiral-Language\\The Spiral Language 2\\artifacts\\bin\\The Spiral Language 2\\release\\Spiral.dll\" port=13805\r\n",
      "02:41:23 #14 [Debug]  6156: Server bound to: tcp://*:13805 & tcp://*:13806\r\n",
      "02:41:23 #15 [Debug]  6156: pwd: C:\\home\\git\\polyglot\\apps\\spiral\r\n",
      "02:41:23 #16 [Debug]  6156: dll_path: C:\\home\\git\\polyglot\\deps\\The-Spiral-Language\\The Spiral Language 2\\artifacts\\bin\\The Spiral Language 2\\release\r\n",
      "02:41:23 #17 [Debug] sendJson / port: 13805 / json: {\"FileOpen\":{\"spiText\":\"inl write_line ~obj : () =\\n    $\\u0022System.Console.WriteLine !obj\\u0022\\n\\ninl app () =\\n    write_line \\u0022error\\u0022\\n    1i32\\n\\ninl main () =\\n    app\\n    |\\u003E dyn\\n    |\\u003E ignore\\n\",\"uri\":\"file:///C:\\\\Users\\\\i574n\\\\AppData\\\\Local\\\\Temp\\\\!dotnet-repl\\\\20230730-0241-2272-7254-72eef8eba718\\\\main.spi\"}} / result: []\r\n",
      "02:41:23 #18 [Debug] sendJson / port: 13805 / json: {\"BuildFile\":{\"backend\":\"Fsharp\",\"uri\":\"file:///C:\\\\Users\\\\i574n\\\\AppData\\\\Local\\\\Temp\\\\!dotnet-repl\\\\20230730-0241-2272-7254-72eef8eba718\\\\main.spi\"}} / result: []\r\n",
      "02:41:23 #19 [Debug]  6156: Building C:\\Users\\i574n\\AppData\\Local\\Temp\\!dotnet-repl\\20230730-0241-2272-7254-72eef8eba718\\main.spi\r\n",
      "02:41:24 #20 [Debug] watchWithFilter / Disposing watch stream / fullPath: C:\\Users\\i574n\\AppData\\Local\\Temp\\!dotnet-repl\\20230730-0241-2272-7254-72eef8eba718 / filter: FileName, LastWrite\r\n",
      "FSharpOption<String>\r\n",
      "      Value: let rec closure0 () () : int32 =\n",
      "    let v0 : string = \"error\"\n",
      "    System.Console.WriteLine v0\n",
      "    1\n",
      "let v0 : (unit -> int32) = closure0()\n",
      "()\n",
      "\r\n"
     ]
    }
   ],
   "source": [
    "//// test\n",
    "\n",
    "\n",
    "\"\"\"inl write_line ~obj : () =\n",
    "    $\"System.Console.WriteLine !obj\"\n",
    "\n",
    "inl app () =\n",
    "    write_line \"error\"\n",
    "    1i32\n",
    "\n",
    "inl main () =\n",
    "    app\n",
    "    |> dyn\n",
    "    |> ignore\n",
    "\"\"\"\n",
    "|> compile\n",
    "|> Async.runWithTimeout 8000\n",
    "|> _equal (Some \"\"\"let rec closure0 () () : int32 =\n",
    "    let v0 : string = \"error\"\n",
    "    System.Console.WriteLine v0\n",
    "    1\n",
    "let v0 : (unit -> int32) = closure0()\n",
    "()\n",
    "\"\"\")"
   ]
  }
 ],
 "metadata": {
  "kernelspec": {
   "display_name": ".NET (C#)",
   "language": "C#",
   "name": ".net-csharp"
  },
  "language_info": {
   "file_extension": ".cs",
   "mimetype": "text/x-csharp",
   "name": "C#",
   "pygments_lexer": "csharp",
   "version": "10.0"
  },
  "polyglot_notebook": {
   "defaultKernelName": "csharp",
   "items": [
    {
     "name": "csharp"
    }
   ]
  },
  "dotnet_interactive": {
   "defaultKernelName": "csharp",
   "items": [
    {
     "name": "csharp"
    }
   ]
  }
 },
 "nbformat": 4,
 "nbformat_minor": 5
}