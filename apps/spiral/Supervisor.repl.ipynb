{
 "cells": [
  {
   "cell_type": "markdown",
   "metadata": {
    "dotnet_repl_cellExecutionStartTime": "2023-07-29T04:44:10.8702228-03:00",
    "dotnet_repl_cellExecutionEndTime": "2023-07-29T04:44:10.9325057-03:00",
    "dotnet_repl_cellExecutionTime": "62.4179ms"
   },
   "source": [
    "# Supervisor (Polyglot)"
   ]
  },
  {
   "cell_type": "code",
   "execution_count": null,
   "metadata": {
    "dotnet_repl_cellExecutionStartTime": "2023-07-29T04:44:10.9346568-03:00",
    "dotnet_repl_cellExecutionEndTime": "2023-07-29T04:44:16.1520617-03:00",
    "dotnet_repl_cellExecutionTime": "5.2174087s",
    "dotnet_interactive": {
     "language": "fsharp"
    },
    "polyglot_notebook": {
     "kernelName": "fsharp"
    }
   },
   "outputs": [],
   "source": [
    "#!import ../nbs/Testing.dib"
   ]
  },
  {
   "cell_type": "code",
   "execution_count": null,
   "metadata": {
    "dotnet_repl_cellExecutionStartTime": "2023-07-29T04:44:16.1521284-03:00",
    "dotnet_repl_cellExecutionEndTime": "2023-07-29T04:44:16.1786336-03:00",
    "dotnet_repl_cellExecutionTime": "26.5077ms",
    "dotnet_interactive": {
     "language": "fsharp"
    },
    "polyglot_notebook": {
     "kernelName": "fsharp"
    }
   },
   "outputs": [],
   "source": [
    "#r @\"../../../../../../../.nuget/packages/fsharp.control.asyncseq/3.2.1/lib/netstandard2.1/FSharp.Control.AsyncSeq.dll\"\n",
    "#r @\"../../../../../../../.nuget/packages/system.reactive/5.0.0/lib/net5.0/System.Reactive.dll\"\n",
    "#r @\"../../../../../../../.nuget/packages/system.reactive.linq/6.0.1-preview.1/lib/netstandard2.0/System.Reactive.Linq.dll\"\n",
    "\n",
    "#r @\"../../../../../../../.nuget/packages/asyncio/0.1.69/lib/netstandard2.0/AsyncIO.dll\"\n",
    "#r @\"../../../../../../../.nuget/packages/netmq/4.0.1.12/lib/netstandard2.1/NetMQ.dll\""
   ]
  },
  {
   "cell_type": "code",
   "execution_count": null,
   "metadata": {
    "dotnet_repl_cellExecutionStartTime": "2023-07-29T04:44:16.1786717-03:00",
    "dotnet_repl_cellExecutionEndTime": "2023-07-29T04:44:20.6126223-03:00",
    "dotnet_repl_cellExecutionTime": "4.4339529s",
    "dotnet_interactive": {
     "language": "fsharp"
    },
    "polyglot_notebook": {
     "kernelName": "fsharp"
    }
   },
   "outputs": [],
   "source": [
    "#!import ../nbs/Common.fs\n",
    "#!import ../nbs/Async.fs\n",
    "#!import ../nbs/AsyncSeq.fs\n",
    "#!import ../nbs/Networking.fs\n",
    "#!import ../nbs/Runtime.fs\n",
    "#!import ../nbs/FileSystem.fs"
   ]
  },
  {
   "cell_type": "code",
   "execution_count": null,
   "metadata": {
    "dotnet_repl_cellExecutionStartTime": "2023-07-29T04:44:20.6126649-03:00",
    "dotnet_repl_cellExecutionEndTime": "2023-07-29T04:44:20.6217475-03:00",
    "dotnet_repl_cellExecutionTime": "9.0844ms",
    "dotnet_interactive": {
     "language": "fsharp"
    },
    "polyglot_notebook": {
     "kernelName": "fsharp"
    }
   },
   "outputs": [],
   "source": [
    "open Common\n",
    "open FileSystem"
   ]
  },
  {
   "cell_type": "code",
   "execution_count": null,
   "metadata": {
    "dotnet_repl_cellExecutionStartTime": "2023-07-29T04:44:20.621784-03:00",
    "dotnet_repl_cellExecutionEndTime": "2023-07-29T04:44:20.7579013-03:00",
    "dotnet_repl_cellExecutionTime": "136.1189ms",
    "dotnet_interactive": {
     "language": "fsharp"
    },
    "polyglot_notebook": {
     "kernelName": "fsharp"
    }
   },
   "outputs": [],
   "source": [
    "let inline sendJson (port : int) (json : string) = async {\n",
    "    let! portOpen = Networking.testPortOpen port\n",
    "    if portOpen then\n",
    "        // use runtime = new NetMQ.NetMQRuntime ()\n",
    "        use request = new NetMQ.Sockets.RequestSocket ()\n",
    "        request.Connect $\"tcp://127.0.0.1:{port}\"\n",
    "\n",
    "        let msg = NetMQ.NetMQMessage ()\n",
    "        msg.Append json\n",
    "\n",
    "        NetMQ.OutgoingSocketExtensions.SendMultipartMessage (request, msg)\n",
    "        let result = NetMQ.ReceivingSocketExtensions.ReceiveMultipartMessage (request, 10)\n",
    "        // let! result = NetMQ.AsyncReceiveExtensions.ReceiveMultipartMessageAsync (request, 10) |> Async.AwaitTask\n",
    "        let result = result |> Seq.toList |> List.map (fun x -> x.ConvertToString ())\n",
    "        trace Debug (fun () -> $\"sendJson / port: {port} / json: {json} / result: {result}\") getLocals\n",
    "        return true\n",
    "    else\n",
    "        trace Debug (fun () -> \"sendJson / error: port not open\") getLocals\n",
    "        return false\n",
    "}"
   ]
  },
  {
   "cell_type": "code",
   "execution_count": null,
   "metadata": {
    "dotnet_repl_cellExecutionStartTime": "2023-07-29T04:44:20.7579373-03:00",
    "dotnet_repl_cellExecutionEndTime": "2023-07-29T04:44:20.8610515-03:00",
    "dotnet_repl_cellExecutionTime": "103.1157ms",
    "dotnet_interactive": {
     "language": "fsharp"
    },
    "polyglot_notebook": {
     "kernelName": "fsharp"
    }
   },
   "outputs": [],
   "source": [
    "let inline sendObj port obj =\n",
    "    let json = System.Text.Json.JsonSerializer.Serialize obj\n",
    "    sendJson port json"
   ]
  },
  {
   "cell_type": "code",
   "execution_count": null,
   "metadata": {
    "dotnet_repl_cellExecutionStartTime": "2023-07-29T04:44:20.8610909-03:00",
    "dotnet_repl_cellExecutionEndTime": "2023-07-29T04:44:22.2975119-03:00",
    "dotnet_repl_cellExecutionTime": "1.4364226s",
    "dotnet_interactive": {
     "language": "fsharp"
    },
    "polyglot_notebook": {
     "kernelName": "fsharp"
    }
   },
   "outputs": [],
   "source": [
    "let inline compile code = async {\n",
    "    let tempDir = FileSystem.createTempDirectory ()\n",
    "\n",
    "    let inline writeCode fileName code =\n",
    "        let filePath = tempDir </> fileName\n",
    "        System.IO.File.WriteAllText (filePath, code)\n",
    "\n",
    "    code\n",
    "    |> writeCode \"main.spi\"\n",
    "\n",
    "    \"packages:\\n    |core-\\nmodules:\\n    main\"\n",
    "    |> writeCode \"package.spiproj\"\n",
    "\n",
    "    let stream, disposable = FileSystem.watchDirectory true tempDir\n",
    "\n",
    "    let fsxStream =\n",
    "        stream\n",
    "        |> FSharp.Control.AsyncSeq.choose (function\n",
    "            | _, FileSystemChange.Changed (\"main.fsx\", Some content) -> Some content\n",
    "            | _ -> None\n",
    "        )\n",
    "\n",
    "    let port = 13805\n",
    "\n",
    "    let! ct = Async.CancellationToken\n",
    "    let compiler = MailboxProcessor.Start (fun inbox -> async {\n",
    "        let! availablePort = Networking.getAvailablePort (Some 60) port\n",
    "        if availablePort = port then\n",
    "            let compilerPath =\n",
    "                \"../../deps/The-Spiral-Language/The Spiral Language 2/artifacts/bin/The Spiral Language 2/release\"\n",
    "                |> Path.GetFullPath\n",
    "\n",
    "            let dllPath = compilerPath </> \"Spiral.dll\"\n",
    "            // let commandsPath = compilerPath </> \"compiler/supervisor/commands\"\n",
    "\n",
    "            let! exitCode, result =\n",
    "                Runtime.executeWithOptionsAsync\n",
    "                    {\n",
    "                        Command = $@\"dotnet \"\"{dllPath}\"\" port={port}\"\n",
    "                        CancellationToken = None\n",
    "                        OnLine = Some <| fun { Line = line } -> async {\n",
    "                            if line |> String.contains $\"Server bound to: tcp://*:{port}\"\n",
    "                            then inbox.Post ()\n",
    "                        }\n",
    "                    }\n",
    "            trace Debug (fun () -> $\"startSupervisor / exitCode: {exitCode} / result: {result}\") getLocals\n",
    "    }, ct)\n",
    "\n",
    "    do! compiler.Receive ()\n",
    "\n",
    "    let inline getFileUri path =\n",
    "        $\"file:///{path}\"\n",
    "\n",
    "    let mainPath = tempDir </> \"main.spi\"\n",
    "\n",
    "    let fileOpenObj = {| FileOpen = {| uri = mainPath |> getFileUri; spiText = code |} |}\n",
    "    let! fileOpenResult = fileOpenObj |> sendObj port\n",
    "\n",
    "    let buildFileObj = {| BuildFile = {| uri = mainPath |> getFileUri; backend = \"Fsharp\" |} |}\n",
    "    let! buildFileResult = buildFileObj |> sendObj port\n",
    "\n",
    "    let! content = fsxStream |> FSharp.Control.AsyncSeq.tryFirst\n",
    "\n",
    "    disposable.Dispose ()\n",
    "\n",
    "    return content |> Option.defaultValue \"\" |> String.replace \"\\r\\n\" \"\\n\"\n",
    "}"
   ]
  },
  {
   "cell_type": "code",
   "execution_count": null,
   "metadata": {
    "dotnet_repl_cellExecutionStartTime": "2023-07-29T04:44:22.2975747-03:00",
    "dotnet_repl_cellExecutionEndTime": "2023-07-29T04:44:25.4589241-03:00",
    "dotnet_repl_cellExecutionTime": "3.1613527s",
    "dotnet_interactive": {
     "language": "fsharp"
    },
    "polyglot_notebook": {
     "kernelName": "fsharp"
    }
   },
   "outputs": [
    {
     "name": "stdout",
     "output_type": "stream",
     "text": [
      "04:44:23 #1 [Debug] createTempDirectory / tempFolder: C:\\Users\\i574n\\AppData\\Local\\Temp\\!dotnet-repl\\20230729-0444-2368-6811-65a917a4cbe9 / result: { CreationTime = 2023-07-29 4:44:23 AM\n",
      "  Exists = true }\r\n",
      "04:44:23 #2 [Debug] runWithTimeoutAsync / timeout: 60\r\n",
      "04:44:23 #3 [Debug] executeAsync / workingDirectory: . / fileName: dotnet / arguments: \"C:\\home\\git\\polyglot\\deps\\The-Spiral-Language\\The Spiral Language 2\\artifacts\\bin\\The Spiral Language 2\\release\\Spiral.dll\" port=13805\r\n",
      "04:44:24 #4 [Debug]  31888: Server bound to: tcp://*:13805 & tcp://*:13806 / workingDirectory: . / fileName: dotnet / arguments: \"C:\\home\\git\\polyglot\\deps\\The-Spiral-Language\\The Spiral Language 2\\artifacts\\bin\\The Spiral Language 2\\release\\Spiral.dll\" port=13805\r\n",
      "04:44:24 #5 [Debug]  31888: pwd: C:\\home\\git\\polyglot\\apps\\spiral / workingDirectory: . / fileName: dotnet / arguments: \"C:\\home\\git\\polyglot\\deps\\The-Spiral-Language\\The Spiral Language 2\\artifacts\\bin\\The Spiral Language 2\\release\\Spiral.dll\" port=13805\r\n",
      "04:44:24 #6 [Debug]  31888: dll_path: C:\\home\\git\\polyglot\\deps\\The-Spiral-Language\\The Spiral Language 2\\artifacts\\bin\\The Spiral Language 2\\release / workingDirectory: . / fileName: dotnet / arguments: \"C:\\home\\git\\polyglot\\deps\\The-Spiral-Language\\The Spiral Language 2\\artifacts\\bin\\The Spiral Language 2\\release\\Spiral.dll\" port=13805\r\n",
      "04:44:24 #7 [Debug] sendJson / port: 13805 / json: {\"FileOpen\":{\"spiText\":\"inl app () =\\n    0i32\\n\\ninl main () =\\n    app\\n    |\\u003E dyn\\n    |\\u003E ignore\\n\",\"uri\":\"file:///C:\\\\Users\\\\i574n\\\\AppData\\\\Local\\\\Temp\\\\!dotnet-repl\\\\20230729-0444-2368-6811-65a917a4cbe9\\\\main.spi\"}} / result: []\r\n",
      "04:44:24 #8 [Debug] sendJson / port: 13805 / json: {\"BuildFile\":{\"backend\":\"Fsharp\",\"uri\":\"file:///C:\\\\Users\\\\i574n\\\\AppData\\\\Local\\\\Temp\\\\!dotnet-repl\\\\20230729-0444-2368-6811-65a917a4cbe9\\\\main.spi\"}} / result: []\r\n",
      "04:44:24 #9 [Debug]  31888: Building C:\\Users\\i574n\\AppData\\Local\\Temp\\!dotnet-repl\\20230729-0444-2368-6811-65a917a4cbe9\\main.spi / workingDirectory: . / fileName: dotnet / arguments: \"C:\\home\\git\\polyglot\\deps\\The-Spiral-Language\\The Spiral Language 2\\artifacts\\bin\\The Spiral Language 2\\release\\Spiral.dll\" port=13805\r\n",
      "04:44:25 #10 [Debug] watchWithFilter / Disposing watch stream / fullPath: C:\\Users\\i574n\\AppData\\Local\\Temp\\!dotnet-repl\\20230729-0444-2368-6811-65a917a4cbe9 / filter: FileName, LastWrite\r\n",
      "FSharpOption<String>\r\n",
      "      Value: let rec closure0 () () : int32 =\n",
      "    0\n",
      "let v0 : (unit -> int32) = closure0()\n",
      "()\n",
      "\r\n"
     ]
    }
   ],
   "source": [
    "//// test\n",
    "\n",
    "\n",
    "\"\"\"inl app () =\n",
    "    0i32\n",
    "\n",
    "inl main () =\n",
    "    app\n",
    "    |> dyn\n",
    "    |> ignore\n",
    "\"\"\"\n",
    "|> compile\n",
    "|> Async.runWithTimeout 8000\n",
    "|> _equal (Some \"\"\"let rec closure0 () () : int32 =\n",
    "    0\n",
    "let v0 : (unit -> int32) = closure0()\n",
    "()\n",
    "\"\"\")"
   ]
  },
  {
   "cell_type": "code",
   "execution_count": null,
   "metadata": {
    "dotnet_repl_cellExecutionStartTime": "2023-07-29T04:44:25.4590395-03:00",
    "dotnet_repl_cellExecutionEndTime": "2023-07-29T04:44:28.4615982-03:00",
    "dotnet_repl_cellExecutionTime": "3.0025617s",
    "dotnet_interactive": {
     "language": "fsharp"
    },
    "polyglot_notebook": {
     "kernelName": "fsharp"
    }
   },
   "outputs": [
    {
     "name": "stdout",
     "output_type": "stream",
     "text": [
      "04:44:26 #11 [Debug] createTempDirectory / tempFolder: C:\\Users\\i574n\\AppData\\Local\\Temp\\!dotnet-repl\\20230729-0444-2699-9953-97bddcb86a8e / result: { CreationTime = 2023-07-29 4:44:26 AM\n",
      "  Exists = true }\r\n",
      "04:44:27 #12 [Debug] runWithTimeoutAsync / timeout: 60\r\n",
      "04:44:27 #13 [Debug] executeAsync / workingDirectory: . / fileName: dotnet / arguments: \"C:\\home\\git\\polyglot\\deps\\The-Spiral-Language\\The Spiral Language 2\\artifacts\\bin\\The Spiral Language 2\\release\\Spiral.dll\" port=13805\r\n",
      "04:44:27 #14 [Debug]  41516: Server bound to: tcp://*:13805 & tcp://*:13806 / workingDirectory: . / fileName: dotnet / arguments: \"C:\\home\\git\\polyglot\\deps\\The-Spiral-Language\\The Spiral Language 2\\artifacts\\bin\\The Spiral Language 2\\release\\Spiral.dll\" port=13805\r\n",
      "04:44:27 #15 [Debug]  41516: pwd: C:\\home\\git\\polyglot\\apps\\spiral / workingDirectory: . / fileName: dotnet / arguments: \"C:\\home\\git\\polyglot\\deps\\The-Spiral-Language\\The Spiral Language 2\\artifacts\\bin\\The Spiral Language 2\\release\\Spiral.dll\" port=13805\r\n",
      "04:44:27 #16 [Debug]  41516: dll_path: C:\\home\\git\\polyglot\\deps\\The-Spiral-Language\\The Spiral Language 2\\artifacts\\bin\\The Spiral Language 2\\release / workingDirectory: . / fileName: dotnet / arguments: \"C:\\home\\git\\polyglot\\deps\\The-Spiral-Language\\The Spiral Language 2\\artifacts\\bin\\The Spiral Language 2\\release\\Spiral.dll\" port=13805\r\n",
      "04:44:27 #17 [Debug] sendJson / port: 13805 / json: {\"FileOpen\":{\"spiText\":\"inl write_line ~obj : () =\\n    $\\u0022System.Console.WriteLine !obj\\u0022\\n\\ninl app () =\\n    write_line \\u0022error\\u0022\\n    1i32\\n\\ninl main () =\\n    app\\n    |\\u003E dyn\\n    |\\u003E ignore\\n\",\"uri\":\"file:///C:\\\\Users\\\\i574n\\\\AppData\\\\Local\\\\Temp\\\\!dotnet-repl\\\\20230729-0444-2699-9953-97bddcb86a8e\\\\main.spi\"}} / result: []\r\n",
      "04:44:27 #18 [Debug] sendJson / port: 13805 / json: {\"BuildFile\":{\"backend\":\"Fsharp\",\"uri\":\"file:///C:\\\\Users\\\\i574n\\\\AppData\\\\Local\\\\Temp\\\\!dotnet-repl\\\\20230729-0444-2699-9953-97bddcb86a8e\\\\main.spi\"}} / result: []\r\n",
      "04:44:27 #19 [Debug]  41516: Building C:\\Users\\i574n\\AppData\\Local\\Temp\\!dotnet-repl\\20230729-0444-2699-9953-97bddcb86a8e\\main.spi / workingDirectory: . / fileName: dotnet / arguments: \"C:\\home\\git\\polyglot\\deps\\The-Spiral-Language\\The Spiral Language 2\\artifacts\\bin\\The Spiral Language 2\\release\\Spiral.dll\" port=13805\r\n",
      "04:44:28 #20 [Debug] watchWithFilter / Disposing watch stream / fullPath: C:\\Users\\i574n\\AppData\\Local\\Temp\\!dotnet-repl\\20230729-0444-2699-9953-97bddcb86a8e / filter: FileName, LastWrite\r\n",
      "FSharpOption<String>\r\n",
      "      Value: let rec closure0 () () : int32 =\n",
      "    let v0 : string = \"error\"\n",
      "    System.Console.WriteLine v0\n",
      "    1\n",
      "let v0 : (unit -> int32) = closure0()\n",
      "()\n",
      "\r\n"
     ]
    }
   ],
   "source": [
    "//// test\n",
    "\n",
    "\n",
    "\"\"\"inl write_line ~obj : () =\n",
    "    $\"System.Console.WriteLine !obj\"\n",
    "\n",
    "inl app () =\n",
    "    write_line \"error\"\n",
    "    1i32\n",
    "\n",
    "inl main () =\n",
    "    app\n",
    "    |> dyn\n",
    "    |> ignore\n",
    "\"\"\"\n",
    "|> compile\n",
    "|> Async.runWithTimeout 8000\n",
    "|> _equal (Some \"\"\"let rec closure0 () () : int32 =\n",
    "    let v0 : string = \"error\"\n",
    "    System.Console.WriteLine v0\n",
    "    1\n",
    "let v0 : (unit -> int32) = closure0()\n",
    "()\n",
    "\"\"\")"
   ]
  }
 ],
 "metadata": {
  "kernelspec": {
   "display_name": ".NET (C#)",
   "language": "C#",
   "name": ".net-csharp"
  },
  "language_info": {
   "file_extension": ".cs",
   "mimetype": "text/x-csharp",
   "name": "C#",
   "pygments_lexer": "csharp",
   "version": "10.0"
  },
  "polyglot_notebook": {
   "defaultKernelName": "csharp",
   "items": [
    {
     "name": "csharp"
    }
   ]
  },
  "dotnet_interactive": {
   "defaultKernelName": "csharp",
   "items": [
    {
     "name": "csharp"
    }
   ]
  }
 },
 "nbformat": 4,
 "nbformat_minor": 5
}