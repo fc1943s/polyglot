{
 "cells": [
  {
   "cell_type": "markdown",
   "metadata": {},
   "source": [
    "# Supervisor (Polyglot)"
   ]
  },
  {
   "cell_type": "code",
   "execution_count": null,
   "metadata": {
    "dotnet_interactive": {
     "language": "fsharp"
    },
    "polyglot_notebook": {
     "kernelName": "fsharp"
    }
   },
   "outputs": [],
   "source": [
    "#!import ../nbs/Testing.dib"
   ]
  },
  {
   "cell_type": "code",
   "execution_count": null,
   "metadata": {
    "dotnet_interactive": {
     "language": "fsharp"
    },
    "polyglot_notebook": {
     "kernelName": "fsharp"
    }
   },
   "outputs": [],
   "source": [
    "#r @\"../../../../../../../.nuget/packages/fsharp.control.asyncseq/3.2.1/lib/netstandard2.1/FSharp.Control.AsyncSeq.dll\"\n",
    "#r @\"../../../../../../../.nuget/packages/system.reactive/6.0.1-preview.1/lib/net6.0/System.Reactive.dll\"\n",
    "#r @\"../../../../../../../.nuget/packages/system.reactive.linq/6.0.1-preview.1/lib/netstandard2.0/System.Reactive.Linq.dll\"\n",
    "#r @\"../../../../../../../.nuget/packages/argu/6.1.1/lib/netstandard2.0/Argu.dll\"\n",
    "#r @\"../../../../../../../.nuget/packages/system.commandline/2.0.0-beta4.22272.1/lib/net6.0/System.CommandLine.dll\"\n",
    "#r @\"../../../../../../../.nuget/packages/asyncio/0.1.69/lib/netstandard2.0/AsyncIO.dll\"\n",
    "#r @\"../../../../../../../.nuget/packages/netmq/4.0.1.13/lib/netstandard2.1/NetMQ.dll\"\n",
    "#r @\"../../../../../../../.nuget/packages/fsharp.json/0.4.1/lib/netstandard2.0/FSharp.Json.dll\""
   ]
  },
  {
   "cell_type": "code",
   "execution_count": null,
   "metadata": {
    "dotnet_interactive": {
     "language": "fsharp"
    },
    "polyglot_notebook": {
     "kernelName": "fsharp"
    }
   },
   "outputs": [],
   "source": [
    "#!import ../nbs/Common.fs\n",
    "#!import ../nbs/CommonFSharp.fs\n",
    "#!import ../nbs/Async.fs\n",
    "#!import ../nbs/AsyncSeq.fs\n",
    "#!import ../nbs/Networking.fs\n",
    "#!import ../nbs/Runtime.fs\n",
    "#!import ../nbs/FileSystem.fs"
   ]
  },
  {
   "cell_type": "code",
   "execution_count": null,
   "metadata": {
    "dotnet_interactive": {
     "language": "fsharp"
    },
    "polyglot_notebook": {
     "kernelName": "fsharp"
    }
   },
   "outputs": [],
   "source": [
    "open Common\n",
    "open FileSystem"
   ]
  },
  {
   "cell_type": "markdown",
   "metadata": {},
   "source": [
    "## sendJson"
   ]
  },
  {
   "cell_type": "code",
   "execution_count": null,
   "metadata": {
    "dotnet_interactive": {
     "language": "fsharp"
    },
    "polyglot_notebook": {
     "kernelName": "fsharp"
    }
   },
   "outputs": [],
   "source": [
    "let inline sendJson (port : int) (json : string) = async {\n",
    "    let! portOpen = Networking.testPortOpen port\n",
    "    if portOpen then\n",
    "        // use runtime = new NetMQ.NetMQRuntime ()\n",
    "        use request = new NetMQ.Sockets.RequestSocket ()\n",
    "        request.Connect $\"tcp://127.0.0.1:{port}\"\n",
    "\n",
    "        let msg = NetMQ.NetMQMessage ()\n",
    "        msg.Append json\n",
    "\n",
    "        NetMQ.OutgoingSocketExtensions.SendMultipartMessage (request, msg)\n",
    "        let result = NetMQ.ReceivingSocketExtensions.ReceiveMultipartMessage (request, 10)\n",
    "        // let! result = NetMQ.AsyncReceiveExtensions.ReceiveMultipartMessageAsync (request, 10) |> Async.AwaitTask\n",
    "        let resultString = result |> Seq.map (fun x -> x.ConvertToString ()) |> String.concat \"\"\n",
    "        trace Debug (fun () -> $\"sendJson / port: {port} / json: {json} / result.FrameCount: {result.FrameCount} / resultString.Length: {resultString.Length}\") getLocals\n",
    "        return Some resultString\n",
    "    else\n",
    "        trace Debug (fun () -> \"sendJson / error: port not open\") getLocals\n",
    "        return None\n",
    "}"
   ]
  },
  {
   "cell_type": "markdown",
   "metadata": {},
   "source": [
    "## sendObj"
   ]
  },
  {
   "cell_type": "code",
   "execution_count": null,
   "metadata": {
    "dotnet_interactive": {
     "language": "fsharp"
    },
    "polyglot_notebook": {
     "kernelName": "fsharp"
    }
   },
   "outputs": [],
   "source": [
    "let inline sendObj port obj =\n",
    "    obj\n",
    "    |> System.Text.Json.JsonSerializer.Serialize\n",
    "    |> sendJson port"
   ]
  },
  {
   "cell_type": "markdown",
   "metadata": {},
   "source": [
    "## awaitCompiler"
   ]
  },
  {
   "cell_type": "code",
   "execution_count": null,
   "metadata": {
    "dotnet_interactive": {
     "language": "fsharp"
    },
    "polyglot_notebook": {
     "kernelName": "fsharp"
    }
   },
   "outputs": [],
   "source": [
    "type VSCPos = {| line : int; character : int |}\n",
    "type VSCRange = VSCPos * VSCPos\n",
    "type RString = VSCRange * string\n",
    "type TracedError = {| trace : string list; message : string |}\n",
    "type ClientErrorsRes =\n",
    "    | FatalError of string\n",
    "    | TracedError of TracedError\n",
    "    | PackageErrors of {| uri : string; errors : RString list |}\n",
    "    | TokenizerErrors of {| uri : string; errors : RString list |}\n",
    "    | ParserErrors of {| uri : string; errors : RString list |}\n",
    "    | TypeErrors of {| uri : string; errors : RString list |}"
   ]
  },
  {
   "cell_type": "code",
   "execution_count": null,
   "metadata": {
    "dotnet_interactive": {
     "language": "fsharp"
    },
    "polyglot_notebook": {
     "kernelName": "fsharp"
    }
   },
   "outputs": [],
   "source": [
    "let inline awaitCompiler port cancellationToken = async {\n",
    "    let! ct =\n",
    "        cancellationToken\n",
    "        |> Option.defaultValue System.Threading.CancellationToken.None\n",
    "        |> Async.mergeCancellationTokenWithDefaultAsync\n",
    "\n",
    "    let compiler = MailboxProcessor.Start (fun inbox -> async {\n",
    "        let! availablePort = Networking.getAvailablePort (Some 60) port\n",
    "        if port = 13805 && availablePort <> port then\n",
    "            let pingObj = {| Ping = true |}\n",
    "            let! pingResult = pingObj |> sendObj port\n",
    "            inbox.Post port\n",
    "        else\n",
    "            let repositoryRoot = FileSystem.getSourceDirectory () |> FileSystem.findParent \".paket\" false\n",
    "\n",
    "            let compilerPath =\n",
    "                repositoryRoot </> \"deps/The-Spiral-Language/The Spiral Language 2/artifacts/bin/The Spiral Language 2/release\"\n",
    "                |> System.IO.Path.GetFullPath\n",
    "\n",
    "            let dllPath = compilerPath </> \"Spiral.dll\"\n",
    "            // let commandsPath = compilerPath </> \"compiler/supervisor/commands\"\n",
    "\n",
    "            let! exitCode, result =\n",
    "                Runtime.executeWithOptionsAsync\n",
    "                    {\n",
    "                        Command = $@\"dotnet \"\"{dllPath}\"\" port={availablePort}\"\n",
    "                        CancellationToken = Some ct\n",
    "                        WorkingDirectory = None\n",
    "                        OnLine = Some <| fun { Line = line } -> async {\n",
    "                            if line |> String.contains $\"Server bound to: tcp://*:{availablePort}\"\n",
    "                            then inbox.Post availablePort\n",
    "                        }\n",
    "                    }\n",
    "            trace Debug (fun () -> $\"startSupervisor / exitCode: {exitCode} / result: {result}\") getLocals\n",
    "    }, ct)\n",
    "\n",
    "    let! serverPort = compiler.Receive ()\n",
    "\n",
    "    let request = new NetMQ.Sockets.SubscriberSocket ()\n",
    "    request.SubscribeToAnyTopic ()\n",
    "    request.Connect $\"tcp://127.0.0.1:{serverPort + 1}\"\n",
    "\n",
    "    let rec loop i = async {\n",
    "        let result = NetMQ.ReceivingSocketExtensions.ReceiveMultipartMessage (request, 10)\n",
    "        // let! result = NetMQ.AsyncReceiveExtensions.ReceiveMultipartMessageAsync (request, 10) |> Async.AwaitTask\n",
    "        return\n",
    "            result\n",
    "            |> Seq.map (fun x -> x.ConvertToString ())\n",
    "            |> String.concat \"\"\n",
    "            |> FSharp.Json.Json.deserialize<ClientErrorsRes>\n",
    "    }\n",
    "\n",
    "    return serverPort, loop |> FSharp.Control.AsyncSeq.initInfiniteAsync, (request :> System.IDisposable)\n",
    "}"
   ]
  },
  {
   "cell_type": "markdown",
   "metadata": {},
   "source": [
    "## getFileUri"
   ]
  },
  {
   "cell_type": "code",
   "execution_count": null,
   "metadata": {
    "dotnet_interactive": {
     "language": "fsharp"
    },
    "polyglot_notebook": {
     "kernelName": "fsharp"
    }
   },
   "outputs": [],
   "source": [
    "let inline getFileUri path =\n",
    "    $\"file:///{path |> String.trimStart [| '/' |]}\""
   ]
  },
  {
   "cell_type": "code",
   "execution_count": null,
   "metadata": {
    "dotnet_interactive": {
     "language": "fsharp"
    },
    "polyglot_notebook": {
     "kernelName": "fsharp"
    }
   },
   "outputs": [],
   "source": [
    "let inline getFilePathFromUri uri =\n",
    "    match System.Uri.TryCreate (uri, System.UriKind.Absolute) with\n",
    "    | true, uri -> uri.AbsolutePath |> System.IO.Path.GetFullPath\n",
    "    | _ -> failwith \"invalid uri\""
   ]
  },
  {
   "cell_type": "markdown",
   "metadata": {},
   "source": [
    "## buildFile"
   ]
  },
  {
   "cell_type": "code",
   "execution_count": null,
   "metadata": {
    "dotnet_interactive": {
     "language": "fsharp"
    },
    "polyglot_notebook": {
     "kernelName": "fsharp"
    }
   },
   "outputs": [],
   "source": [
    "let inline buildFile timeout cancellationToken path = async {\n",
    "    let fullPath = path |> System.IO.Path.GetFullPath\n",
    "    let fileDir = fullPath |> System.IO.Path.GetDirectoryName\n",
    "    let fileName = fullPath |> System.IO.Path.GetFileNameWithoutExtension\n",
    "    let! code = fullPath |> FileSystem.readAllTextAsync\n",
    "\n",
    "    let stream, disposable = FileSystem.watchDirectory true fileDir\n",
    "    use _ = disposable\n",
    "\n",
    "    let port =\n",
    "        if fullPath |> String.startsWith (System.IO.Path.GetTempPath ())\n",
    "            && fullPath |> String.contains \"Microsoft.DotNet.Interactive.App\" |> not\n",
    "        then 13807\n",
    "        else 13805\n",
    "\n",
    "    let! serverPort, errors, disposable = awaitCompiler port cancellationToken\n",
    "    use _ = disposable\n",
    "\n",
    "    let fsxContentSeq =\n",
    "        stream\n",
    "        |> FSharp.Control.AsyncSeq.choose (function\n",
    "            | _, FileSystemChange.Changed (path, Some content) when path = $\"{fileName}.fsx\" -> Some content\n",
    "            | _ -> None\n",
    "        )\n",
    "        |> FSharp.Control.AsyncSeq.map (fun content ->\n",
    "            Some (content |> String.replace \"\\r\\n\" \"\\n\"), None\n",
    "        )\n",
    "\n",
    "    let inline printErrorData (data : {| uri : string; errors : RString list |}) =\n",
    "        let fileName = data.uri |> System.IO.Path.GetFileName\n",
    "        let errors =\n",
    "            data.errors\n",
    "            |> List.map snd\n",
    "            |> String.concat \"\\n\"\n",
    "        $\"{fileName}:\\n{errors}\"\n",
    "\n",
    "    let errorsSeq =\n",
    "        errors\n",
    "        |> FSharp.Control.AsyncSeq.choose (fun error ->\n",
    "            match error with\n",
    "            | FatalError message ->\n",
    "                Some (message, true, error)\n",
    "            | TracedError data ->\n",
    "                Some (data.message, true, error)\n",
    "            | PackageErrors data when data.errors |> List.isEmpty |> not ->\n",
    "                Some (data |> printErrorData, true, error)\n",
    "            | TokenizerErrors data when data.errors |> List.isEmpty |> not ->\n",
    "                Some (data |> printErrorData, true, error)\n",
    "            | ParserErrors data when data.errors |> List.isEmpty |> not ->\n",
    "                Some (data |> printErrorData, false, error)\n",
    "            | TypeErrors data when data.errors |> List.isEmpty |> not ->\n",
    "                Some (data |> printErrorData, true, error)\n",
    "            | _ -> None\n",
    "        )\n",
    "        |> FSharp.Control.AsyncSeq.map (fun (message, fatal, error) ->\n",
    "            None, Some (message, fatal, error)\n",
    "        )\n",
    "\n",
    "    let outputSeq =\n",
    "        [fsxContentSeq; errorsSeq]\n",
    "        |> FSharp.Control.AsyncSeq.mergeAll\n",
    "\n",
    "    let! outputChild =\n",
    "        ((None, [], None), outputSeq)\n",
    "        ||> FSharp.Control.AsyncSeq.scan (\n",
    "            fun (fsxContentResult, errors, firstErrorTicks) (fsxContent, error) ->\n",
    "                match fsxContent, error with\n",
    "                | Some fsxContent, None -> Some fsxContent, errors, firstErrorTicks\n",
    "                | None, Some (message, fatal, error) ->\n",
    "                    fsxContentResult,\n",
    "                    (message, error) :: errors,\n",
    "                    firstErrorTicks\n",
    "                    |> Option.defaultWith (fun () ->\n",
    "                        if fatal\n",
    "                        then System.DateTime.MinValue.Ticks\n",
    "                        else System.DateTime.Now.Ticks\n",
    "                    )\n",
    "                    |> Some\n",
    "                | _ -> fsxContentResult, errors, firstErrorTicks\n",
    "        )\n",
    "        |> FSharp.Control.AsyncSeq.takeWhileInclusive (fun (fsxContent, errors, firstErrorTicks) ->\n",
    "            let firstErrorMs =\n",
    "                firstErrorTicks\n",
    "                |> Option.map (fun t -> System.TimeSpan(System.DateTime.Now.Ticks - t).TotalMilliseconds)\n",
    "            trace Debug (fun () -> $\"buildFile / fsxContent: {fsxContent} / errors: {errors} / firstErrorMs: {firstErrorMs}\") getLocals\n",
    "            match fsxContent, errors, firstErrorMs with\n",
    "            | None, [], _ -> true\n",
    "            | None, _, Some firstErrorMs when firstErrorMs < 2000. -> true\n",
    "            | _ -> false\n",
    "        )\n",
    "        |> FSharp.Control.AsyncSeq.map (fun (fsxContent, errors, _) ->\n",
    "            fsxContent, errors |> List.distinct\n",
    "        )\n",
    "        |> FSharp.Control.AsyncSeq.tryLast\n",
    "        |> Async.runWithTimeoutAsync timeout\n",
    "        |> Async.StartChild\n",
    "\n",
    "    let fileOpenObj = {| FileOpen = {| uri = fullPath |> getFileUri; spiText = code |} |}\n",
    "    let! fileOpenResult = fileOpenObj |> sendObj serverPort\n",
    "\n",
    "    let buildFileObj = {| BuildFile = {| uri = fullPath |> getFileUri; backend = \"Fsharp\" |} |}\n",
    "    let! buildFileResult = buildFileObj |> sendObj serverPort\n",
    "\n",
    "    return!\n",
    "        outputChild\n",
    "        |> Async.map (Option.flatten >> Option.defaultValue (None, []))\n",
    "}"
   ]
  },
  {
   "cell_type": "markdown",
   "metadata": {},
   "source": [
    "## persistCode"
   ]
  },
  {
   "cell_type": "code",
   "execution_count": null,
   "metadata": {
    "dotnet_interactive": {
     "language": "fsharp"
    },
    "polyglot_notebook": {
     "kernelName": "fsharp"
    }
   },
   "outputs": [],
   "source": [
    "let inline persistCode timeout cancellationToken code = async {\n",
    "    let tempDir = FileSystem.createTempDirectory ()\n",
    "\n",
    "    let mainPath = tempDir </> \"main.spi\"\n",
    "    do! code |> FileSystem.writeAllTextAsync mainPath\n",
    "\n",
    "    let repositoryRoot = FileSystem.getSourceDirectory () |> FileSystem.findParent \".paket\" false\n",
    "\n",
    "    let spiprojPath = tempDir </> \"package.spiproj\"\n",
    "    let spiprojCode =\n",
    "        $\"\"\"packageDir: {repositoryRoot </> \"spiral\"}\n",
    "packages:\n",
    "    |core-\n",
    "    fsharp\n",
    "modules:\n",
    "    main\n",
    "\"\"\"\n",
    "    do! spiprojCode |> FileSystem.writeAllTextAsync spiprojPath\n",
    "\n",
    "    let disposable = newDisposable (fun () ->\n",
    "        tempDir |> FileSystem.deleteDirectoryAsync |> Async.Ignore |> Async.RunSynchronously\n",
    "    )\n",
    "\n",
    "    return mainPath, disposable\n",
    "}"
   ]
  },
  {
   "cell_type": "markdown",
   "metadata": {},
   "source": [
    "## buildCode"
   ]
  },
  {
   "cell_type": "code",
   "execution_count": null,
   "metadata": {
    "dotnet_interactive": {
     "language": "fsharp"
    },
    "polyglot_notebook": {
     "kernelName": "fsharp"
    }
   },
   "outputs": [],
   "source": [
    "let inline buildCode timeout cancellationToken code = async {\n",
    "    let! mainPath, disposable = persistCode timeout cancellationToken code\n",
    "    use _ = disposable\n",
    "    return! mainPath |> buildFile timeout cancellationToken\n",
    "}"
   ]
  },
  {
   "cell_type": "code",
   "execution_count": null,
   "metadata": {
    "dotnet_interactive": {
     "language": "fsharp"
    },
    "polyglot_notebook": {
     "kernelName": "fsharp"
    }
   },
   "outputs": [],
   "source": [
    "//// test\n",
    "\n",
    "let buildCode timeout cancellationToken code = buildCode timeout cancellationToken code"
   ]
  },
  {
   "cell_type": "code",
   "execution_count": null,
   "metadata": {
    "dotnet_interactive": {
     "language": "fsharp"
    },
    "polyglot_notebook": {
     "kernelName": "fsharp"
    }
   },
   "outputs": [
    {
     "name": "stdout",
     "output_type": "stream",
     "text": [
      "00:00:00 #1 [Debug] createTempDirectory / tempFolder: C:\\Users\\i574n\\AppData\\Local\\Temp\\!dotnet-repl\\20230826-2326-3360-6011-6e629631b2a5 / result: { CreationTime = 2023-08-26 11:26:33 PM\n",
      "  Exists = true }\r\n",
      "00:00:00 #2 [Debug] runWithTimeoutAsync / timeout: 60\r\n",
      "00:00:00 #3 [Debug] executeAsync / options: { Command =\n",
      "   \"dotnet \"C:\\home\\git\\polyglot\\deps\\The-Spiral-Language\\The Spiral Language 2\\artifacts\\bin\\The Spiral Language 2\\release\\Spiral.dll\" port=13807\"\n",
      "  WorkingDirectory = None\n",
      "  CancellationToken = Some System.Threading.CancellationToken\n",
      "  OnLine = Some <fun:buildCode@3-906> }\r\n",
      "00:00:00 #4 [Debug] > Server bound to: tcp://*:13807 & tcp://*:13808\r\n",
      "00:00:00 #5 [Debug] > pwd: C:\\home\\git\\polyglot\\apps\\spiral\r\n",
      "00:00:00 #6 [Debug] > dll_path: C:\\home\\git\\polyglot\\deps\\The-Spiral-Language\\The Spiral Language 2\\artifacts\\bin\\The Spiral Language 2\\release\r\n",
      "00:00:00 #7 [Debug] buildFile / fsxContent:  / errors: [] / firstErrorMs:\r\n",
      "00:00:00 #8 [Debug] sendJson / port: 13807 / json: {\"FileOpen\":{\"spiText\":\"inl app () =\\n    0i32\\n\\ninl a = 1\\n\\ninl main () =\\n    app\\n    |\\u003E dyn\\n    |\\u003E ignore\\n\",\"uri\":\"file:///C:\\\\Users\\\\i574n\\\\AppData\\\\Local\\\\Temp\\\\!dotnet-repl\\\\20230826-2326-3360-6011-6e629631b2a5\\\\main.spi\"}} / result.FrameCount: 1 / resultString.Length: 0\r\n",
      "00:00:00 #9 [Debug] sendJson / port: 13807 / json: {\"BuildFile\":{\"backend\":\"Fsharp\",\"uri\":\"file:///C:\\\\Users\\\\i574n\\\\AppData\\\\Local\\\\Temp\\\\!dotnet-repl\\\\20230826-2326-3360-6011-6e629631b2a5\\\\main.spi\"}} / result.FrameCount: 1 / resultString.Length: 0\r\n",
      "00:00:01 #10 [Debug] > Building C:\\Users\\i574n\\AppData\\Local\\Temp\\!dotnet-repl\\20230826-2326-3360-6011-6e629631b2a5\\main.spi\r\n",
      "00:00:01 #11 [Debug] buildFile / fsxContent:  / errors: [(main.spi:\n",
      "Global inl/let statements should all return functions known at parse time., ParserErrors\n",
      "  { errors =\n",
      "     [(({ character = 0\n",
      "          line = 3 }, { character = 9\n",
      "                        line = 3 }),\n",
      "       \"Global inl/let statements should all return functions known at parse time.\")]\n",
      "    uri =\n",
      "     \"file:///C:\\Users\\i574n\\AppData\\Local\\Temp\\!dotnet-repl\\20230826-2326-3360-6011-6e629631b2a5\\main.spi\" })] / firstErrorMs: Some(1.2572)\r\n",
      "00:00:01 #12 [Debug] buildFile / fsxContent:  / errors: [(main.spi:\n",
      "Global inl/let statements should all return functions known at parse time., ParserErrors\n",
      "  { errors =\n",
      "     [(({ character = 0\n",
      "          line = 3 }, { character = 9\n",
      "                        line = 3 }),\n",
      "       \"Global inl/let statements should all return functions known at parse time.\")]\n",
      "    uri =\n",
      "     \"file:///C:\\Users\\i574n\\AppData\\Local\\Temp\\!dotnet-repl\\20230826-2326-3360-6011-6e629631b2a5\\main.spi\" }); (main.spi:\n",
      "Global inl/let statements should all return functions known at parse time., ParserErrors\n",
      "  { errors =\n",
      "     [(({ character = 0\n",
      "          line = 3 }, { character = 9\n",
      "                        line = 3 }),\n",
      "       \"Global inl/let statements should all return functions known at parse time.\")]\n",
      "    uri =\n",
      "     \"file:///C:\\Users\\i574n\\AppData\\Local\\Temp\\!dotnet-repl\\20230826-2326-3360-6011-6e629631b2a5\\main.spi\" })] / firstErrorMs: Some(353.2964)\r\n",
      "00:00:02 #13 [Debug] buildFile / fsxContent: Some(let rec closure0 () () : int32 =\n",
      "    0\n",
      "let v0 : (unit -> int32) = closure0()\n",
      "()\n",
      ") / errors: [(main.spi:\n",
      "Global inl/let statements should all return functions known at parse time., ParserErrors\n",
      "  { errors =\n",
      "     [(({ character = 0\n",
      "          line = 3 }, { character = 9\n",
      "                        line = 3 }),\n",
      "       \"Global inl/let statements should all return functions known at parse time.\")]\n",
      "    uri =\n",
      "     \"file:///C:\\Users\\i574n\\AppData\\Local\\Temp\\!dotnet-repl\\20230826-2326-3360-6011-6e629631b2a5\\main.spi\" }); (main.spi:\n",
      "Global inl/let statements should all return functions known at parse time., ParserErrors\n",
      "  { errors =\n",
      "     [(({ character = 0\n",
      "          line = 3 }, { character = 9\n",
      "                        line = 3 }),\n",
      "       \"Global inl/let statements should all return functions known at parse time.\")]\n",
      "    uri =\n",
      "     \"file:///C:\\Users\\i574n\\AppData\\Local\\Temp\\!dotnet-repl\\20230826-2326-3360-6011-6e629631b2a5\\main.spi\" })] / firstErrorMs: Some(775.9135)\r\n",
      "00:00:02 #14 [Debug] watchWithFilter / Disposing watch stream / fullPath: C:\\Users\\i574n\\AppData\\Local\\Temp\\!dotnet-repl\\20230826-2326-3360-6011-6e629631b2a5 / filter: FileName, LastWrite\r\n",
      "FSharpOption<Tuple<FSharpOption<String>,FSharpList<String>>>\r\n",
      "      Value:       - FSharpOption<String>\r\n",
      "          Value: let rec closure0 () () : int32 =\n",
      "    0\n",
      "let v0 : (unit -> int32) = closure0()\n",
      "()\n",
      "\r\n",
      "      - [ main.spi:\n",
      "Global inl/let statements should all return functions known at parse time. ]\r\n"
     ]
    }
   ],
   "source": [
    "//// test\n",
    "\n",
    "\"inl app () =\n",
    "    0i32\n",
    "\n",
    "inl a = 1\n",
    "\n",
    "inl main () =\n",
    "    app\n",
    "    |> dyn\n",
    "    |> ignore\n",
    "\"\n",
    "|> buildCode 8000 None\n",
    "|> Async.runWithTimeout 8000\n",
    "|> Option.map (fun (fsxContent, errors) -> fsxContent, errors |> List.map fst)\n",
    "|> _equal (\n",
    "    Some (\n",
    "        Some \"let rec closure0 () () : int32 =\n",
    "    0\n",
    "let v0 : (unit -> int32) = closure0()\n",
    "()\n",
    "\",\n",
    "        [\"main.spi:\n",
    "Global inl/let statements should all return functions known at parse time.\"]\n",
    "    )\n",
    ")"
   ]
  },
  {
   "cell_type": "code",
   "execution_count": null,
   "metadata": {
    "dotnet_interactive": {
     "language": "fsharp"
    },
    "polyglot_notebook": {
     "kernelName": "fsharp"
    }
   },
   "outputs": [
    {
     "name": "stdout",
     "output_type": "stream",
     "text": [
      "00:00:02 #15 [Debug] createTempDirectory / tempFolder: C:\\Users\\i574n\\AppData\\Local\\Temp\\!dotnet-repl\\20230826-2326-3622-2211-238f5deac656 / result: { CreationTime = 2023-08-26 11:26:36 PM\n",
      "  Exists = true }\r\n",
      "00:00:02 #16 [Debug] runWithTimeoutAsync / timeout: 60\r\n",
      "00:00:02 #17 [Debug] executeAsync / options: { Command =\n",
      "   \"dotnet \"C:\\home\\git\\polyglot\\deps\\The-Spiral-Language\\The Spiral Language 2\\artifacts\\bin\\The Spiral Language 2\\release\\Spiral.dll\" port=13807\"\n",
      "  WorkingDirectory = None\n",
      "  CancellationToken = Some System.Threading.CancellationToken\n",
      "  OnLine = Some <fun:buildCode@3-906> }\r\n",
      "00:00:03 #18 [Debug] > Server bound to: tcp://*:13807 & tcp://*:13808\r\n",
      "00:00:03 #19 [Debug] buildFile / fsxContent:  / errors: [] / firstErrorMs:\r\n",
      "00:00:03 #20 [Debug] > pwd: C:\\home\\git\\polyglot\\apps\\spiral\r\n",
      "00:00:03 #21 [Debug] > dll_path: C:\\home\\git\\polyglot\\deps\\The-Spiral-Language\\The Spiral Language 2\\artifacts\\bin\\The Spiral Language 2\\release\r\n",
      "00:00:03 #22 [Debug] sendJson / port: 13807 / json: {\"FileOpen\":{\"spiText\":\"inl app () =\\n    fsharp.console.write_line \\u0022error\\u0022\\n    1i32\\n\\ninl main () =\\n    app\\n    |\\u003E dyn\\n    |\\u003E ignore\\n\",\"uri\":\"file:///C:\\\\Users\\\\i574n\\\\AppData\\\\Local\\\\Temp\\\\!dotnet-repl\\\\20230826-2326-3622-2211-238f5deac656\\\\main.spi\"}} / result.FrameCount: 1 / resultString.Length: 0\r\n",
      "00:00:03 #23 [Debug] sendJson / port: 13807 / json: {\"BuildFile\":{\"backend\":\"Fsharp\",\"uri\":\"file:///C:\\\\Users\\\\i574n\\\\AppData\\\\Local\\\\Temp\\\\!dotnet-repl\\\\20230826-2326-3622-2211-238f5deac656\\\\main.spi\"}} / result.FrameCount: 1 / resultString.Length: 0\r\n",
      "00:00:03 #24 [Debug] > Building C:\\Users\\i574n\\AppData\\Local\\Temp\\!dotnet-repl\\20230826-2326-3622-2211-238f5deac656\\main.spi\r\n",
      "00:00:04 #25 [Debug] buildFile / fsxContent: Some(let rec closure0 () () : int32 =\n",
      "    let v0 : string = \"error\"\n",
      "    System.Console.WriteLine v0\n",
      "    1\n",
      "let v0 : (unit -> int32) = closure0()\n",
      "()\n",
      ") / errors: [] / firstErrorMs:\r\n",
      "00:00:04 #26 [Debug] watchWithFilter / Disposing watch stream / fullPath: C:\\Users\\i574n\\AppData\\Local\\Temp\\!dotnet-repl\\20230826-2326-3622-2211-238f5deac656 / filter: FileName, LastWrite\r\n",
      "FSharpOption<Tuple<FSharpOption<String>,FSharpList<String>>>\r\n",
      "      Value:       - FSharpOption<String>\r\n",
      "          Value: let rec closure0 () () : int32 =\n",
      "    let v0 : string = \"error\"\n",
      "    System.Console.WriteLine v0\n",
      "    1\n",
      "let v0 : (unit -> int32) = closure0()\n",
      "()\n",
      "\r\n",
      "      - [  ]\r\n"
     ]
    }
   ],
   "source": [
    "//// test\n",
    "\n",
    "\"\"\"inl app () =\n",
    "    fsharp.console.write_line \"error\"\n",
    "    1i32\n",
    "\n",
    "inl main () =\n",
    "    app\n",
    "    |> dyn\n",
    "    |> ignore\n",
    "\"\"\"\n",
    "|> buildCode 8000 None\n",
    "|> Async.runWithTimeout 8000\n",
    "|> Option.map (fun (fsxContent, errors) -> fsxContent, errors |> List.map fst)\n",
    "|> _equal (\n",
    "    Some (\n",
    "        Some \"\"\"let rec closure0 () () : int32 =\n",
    "    let v0 : string = \"error\"\n",
    "    System.Console.WriteLine v0\n",
    "    1\n",
    "let v0 : (unit -> int32) = closure0()\n",
    "()\n",
    "\"\"\",\n",
    "        []\n",
    "    )\n",
    ")"
   ]
  },
  {
   "cell_type": "code",
   "execution_count": null,
   "metadata": {
    "dotnet_interactive": {
     "language": "fsharp"
    },
    "polyglot_notebook": {
     "kernelName": "fsharp"
    }
   },
   "outputs": [
    {
     "name": "stdout",
     "output_type": "stream",
     "text": [
      "00:00:04 #27 [Debug] createTempDirectory / tempFolder: C:\\Users\\i574n\\AppData\\Local\\Temp\\!dotnet-repl\\20230826-2326-3842-4278-49857b5e8a58 / result: { CreationTime = 2023-08-26 11:26:38 PM\n",
      "  Exists = true }\r\n",
      "00:00:04 #28 [Debug] runWithTimeoutAsync / timeout: 60\r\n",
      "00:00:04 #29 [Debug] executeAsync / options: { Command =\n",
      "   \"dotnet \"C:\\home\\git\\polyglot\\deps\\The-Spiral-Language\\The Spiral Language 2\\artifacts\\bin\\The Spiral Language 2\\release\\Spiral.dll\" port=13807\"\n",
      "  WorkingDirectory = None\n",
      "  CancellationToken = Some System.Threading.CancellationToken\n",
      "  OnLine = Some <fun:buildCode@3-906> }\r\n",
      "00:00:05 #30 [Debug] > Server bound to: tcp://*:13807 & tcp://*:13808\r\n",
      "00:00:05 #31 [Debug] buildFile / fsxContent:  / errors: [] / firstErrorMs:\r\n",
      "00:00:05 #32 [Debug] > pwd: C:\\home\\git\\polyglot\\apps\\spiral\r\n",
      "00:00:05 #33 [Debug] > dll_path: C:\\home\\git\\polyglot\\deps\\The-Spiral-Language\\The Spiral Language 2\\artifacts\\bin\\The Spiral Language 2\\release\r\n",
      "00:00:05 #34 [Debug] sendJson / port: 13807 / json: {\"FileOpen\":{\"spiText\":\"\",\"uri\":\"file:///C:\\\\Users\\\\i574n\\\\AppData\\\\Local\\\\Temp\\\\!dotnet-repl\\\\20230826-2326-3842-4278-49857b5e8a58\\\\main.spi\"}} / result.FrameCount: 1 / resultString.Length: 0\r\n",
      "00:00:05 #35 [Debug] sendJson / port: 13807 / json: {\"BuildFile\":{\"backend\":\"Fsharp\",\"uri\":\"file:///C:\\\\Users\\\\i574n\\\\AppData\\\\Local\\\\Temp\\\\!dotnet-repl\\\\20230826-2326-3842-4278-49857b5e8a58\\\\main.spi\"}} / result.FrameCount: 1 / resultString.Length: 0\r\n",
      "00:00:05 #36 [Debug] > Building C:\\Users\\i574n\\AppData\\Local\\Temp\\!dotnet-repl\\20230826-2326-3842-4278-49857b5e8a58\\main.spi\r\n",
      "00:00:06 #37 [Debug] > Cannot find `main` in file main.\r\n",
      "00:00:06 #38 [Debug] > Build skipped for C:\\Users\\i574n\\AppData\\Local\\Temp\\!dotnet-repl\\20230826-2326-3842-4278-49857b5e8a58\\main.spi\r\n",
      "00:00:08 #39 [Debug] runWithTimeoutAsync / timeout: 4000\r\n",
      "00:00:08 #40 [Debug] watchWithFilter / Disposing watch stream / fullPath: C:\\Users\\i574n\\AppData\\Local\\Temp\\!dotnet-repl\\20230826-2326-3842-4278-49857b5e8a58 / filter: FileName, LastWrite\r\n",
      "<null>\r\n"
     ]
    }
   ],
   "source": [
    "//// test\n",
    "\n",
    "\"\"\n",
    "|> buildCode 4000 None\n",
    "|> Async.runWithTimeout 4000\n",
    "|> _equal None"
   ]
  },
  {
   "cell_type": "code",
   "execution_count": null,
   "metadata": {
    "dotnet_interactive": {
     "language": "fsharp"
    },
    "polyglot_notebook": {
     "kernelName": "fsharp"
    }
   },
   "outputs": [
    {
     "name": "stdout",
     "output_type": "stream",
     "text": [
      "00:00:08 #41 [Error] runWithTimeoutAsync / timeout: 4000\r\n",
      "00:00:09 #42 [Debug] createTempDirectory / tempFolder: C:\\Users\\i574n\\AppData\\Local\\Temp\\!dotnet-repl\\20230826-2326-4288-8826-8ec136643969 / result: { CreationTime = 2023-08-26 11:26:42 PM\n",
      "  Exists = true }\r\n",
      "00:00:09 #43 [Debug] runWithTimeoutAsync / timeout: 60\r\n",
      "00:00:09 #44 [Debug] executeAsync / options: { Command =\n",
      "   \"dotnet \"C:\\home\\git\\polyglot\\deps\\The-Spiral-Language\\The Spiral Language 2\\artifacts\\bin\\The Spiral Language 2\\release\\Spiral.dll\" port=13807\"\n",
      "  WorkingDirectory = None\n",
      "  CancellationToken = Some System.Threading.CancellationToken\n",
      "  OnLine = Some <fun:buildCode@3-906> }\r\n",
      "00:00:09 #45 [Debug] > Server bound to: tcp://*:13807 & tcp://*:13808\r\n",
      "00:00:09 #46 [Debug] buildFile / fsxContent:  / errors: [] / firstErrorMs:\r\n",
      "00:00:09 #47 [Debug] > pwd: C:\\home\\git\\polyglot\\apps\\spiral\r\n",
      "00:00:09 #48 [Debug] > dll_path: C:\\home\\git\\polyglot\\deps\\The-Spiral-Language\\The Spiral Language 2\\artifacts\\bin\\The Spiral Language 2\\release\r\n",
      "00:00:10 #49 [Debug] sendJson / port: 13807 / json: {\"FileOpen\":{\"spiText\":\"inl main () =\\n    1i32 / 0i32\\n\",\"uri\":\"file:///C:\\\\Users\\\\i574n\\\\AppData\\\\Local\\\\Temp\\\\!dotnet-repl\\\\20230826-2326-4288-8826-8ec136643969\\\\main.spi\"}} / result.FrameCount: 1 / resultString.Length: 0\r\n",
      "00:00:10 #50 [Debug] sendJson / port: 13807 / json: {\"BuildFile\":{\"backend\":\"Fsharp\",\"uri\":\"file:///C:\\\\Users\\\\i574n\\\\AppData\\\\Local\\\\Temp\\\\!dotnet-repl\\\\20230826-2326-4288-8826-8ec136643969\\\\main.spi\"}} / result.FrameCount: 1 / resultString.Length: 0\r\n",
      "00:00:10 #51 [Debug] > Building C:\\Users\\i574n\\AppData\\Local\\Temp\\!dotnet-repl\\20230826-2326-4288-8826-8ec136643969\\main.spi\r\n",
      "00:00:11 #52 [Debug] buildFile / fsxContent:  / errors: [(An attempt to divide by zero has been detected at compile time., TracedError\n",
      "  { message = \"An attempt to divide by zero has been detected at compile time.\"\n",
      "    trace =\n",
      "     [\"Error trace on line: 1, column: 10 in module: C:\\Users\\i574n\\AppData\\Local\\Temp\\!dotnet-repl\\20230826-2326-4288-8826-8ec136643969\\main.spi.\r\n",
      "inl main () =\r\n",
      "         ^\r\n",
      "\";\n",
      "      \"Error trace on line: 2, column: 5 in module: C:\\Users\\i574n\\AppData\\Local\\Temp\\!dotnet-repl\\20230826-2326-4288-8826-8ec136643969\\main.spi.\r\n",
      "    1i32 / 0i32\r\n",
      "    ^\r\n",
      "\"] })] / firstErrorMs: Some(63828689204857.32)\r\n",
      "00:00:11 #53 [Debug] watchWithFilter / Disposing watch stream / fullPath: C:\\Users\\i574n\\AppData\\Local\\Temp\\!dotnet-repl\\20230826-2326-4288-8826-8ec136643969 / filter: FileName, LastWrite\r\n",
      "FSharpOption<Tuple<FSharpOption<String>,FSharpList<String>>>\r\n",
      "      Value:       - <null>\r\n",
      "      - [ An attempt to divide by zero has been detected at compile time. ]\r\n"
     ]
    }
   ],
   "source": [
    "//// test\n",
    "\n",
    "\"\"\"inl main () =\n",
    "    1i32 / 0i32\n",
    "\"\"\"\n",
    "|> buildCode 8000 None\n",
    "|> Async.runWithTimeout 8000\n",
    "|> Option.map (fun (fsxContent, errors) -> fsxContent, errors |> List.map fst)\n",
    "|> _equal (\n",
    "    Some (\n",
    "        None,\n",
    "        [\"An attempt to divide by zero has been detected at compile time.\"]\n",
    "    )\n",
    ")"
   ]
  },
  {
   "cell_type": "code",
   "execution_count": null,
   "metadata": {
    "dotnet_interactive": {
     "language": "fsharp"
    },
    "polyglot_notebook": {
     "kernelName": "fsharp"
    }
   },
   "outputs": [
    {
     "name": "stdout",
     "output_type": "stream",
     "text": [
      "00:00:11 #54 [Debug] createTempDirectory / tempFolder: C:\\Users\\i574n\\AppData\\Local\\Temp\\!dotnet-repl\\20230826-2326-4514-1451-138a3df44ec6 / result: { CreationTime = 2023-08-26 11:26:45 PM\n",
      "  Exists = true }\r\n",
      "00:00:11 #55 [Debug] runWithTimeoutAsync / timeout: 60\r\n",
      "00:00:11 #56 [Debug] executeAsync / options: { Command =\n",
      "   \"dotnet \"C:\\home\\git\\polyglot\\deps\\The-Spiral-Language\\The Spiral Language 2\\artifacts\\bin\\The Spiral Language 2\\release\\Spiral.dll\" port=13807\"\n",
      "  WorkingDirectory = None\n",
      "  CancellationToken = Some System.Threading.CancellationToken\n",
      "  OnLine = Some <fun:buildCode@3-906> }\r\n",
      "00:00:12 #57 [Debug] > Server bound to: tcp://*:13807 & tcp://*:13808\r\n",
      "00:00:12 #58 [Debug] buildFile / fsxContent:  / errors: [] / firstErrorMs:\r\n",
      "00:00:12 #59 [Debug] > pwd: C:\\home\\git\\polyglot\\apps\\spiral\r\n",
      "00:00:12 #60 [Debug] > dll_path: C:\\home\\git\\polyglot\\deps\\The-Spiral-Language\\The Spiral Language 2\\artifacts\\bin\\The Spiral Language 2\\release\r\n",
      "00:00:12 #61 [Debug] sendJson / port: 13807 / json: {\"FileOpen\":{\"spiText\":\"union a =\\n    | B\\n    | c\\n\\ninl main () =\\n    ()\\n\",\"uri\":\"file:///C:\\\\Users\\\\i574n\\\\AppData\\\\Local\\\\Temp\\\\!dotnet-repl\\\\20230826-2326-4514-1451-138a3df44ec6\\\\main.spi\"}} / result.FrameCount: 1 / resultString.Length: 0\r\n",
      "00:00:12 #62 [Debug] sendJson / port: 13807 / json: {\"BuildFile\":{\"backend\":\"Fsharp\",\"uri\":\"file:///C:\\\\Users\\\\i574n\\\\AppData\\\\Local\\\\Temp\\\\!dotnet-repl\\\\20230826-2326-4514-1451-138a3df44ec6\\\\main.spi\"}} / result.FrameCount: 1 / resultString.Length: 0\r\n",
      "00:00:12 #63 [Debug] > Building C:\\Users\\i574n\\AppData\\Local\\Temp\\!dotnet-repl\\20230826-2326-4514-1451-138a3df44ec6\\main.spi\r\n",
      "00:00:12 #64 [Debug] buildFile / fsxContent:  / errors: [(main.spi:\n",
      "Expected: uppercase variable, ParserErrors\n",
      "  { errors = [(({ character = 6\n",
      "                  line = 2 }, { character = 7\n",
      "                                line = 2 }), \"Expected: uppercase variable\")]\n",
      "    uri =\n",
      "     \"file:///C:\\Users\\i574n\\AppData\\Local\\Temp\\!dotnet-repl\\20230826-2326-4514-1451-138a3df44ec6\\main.spi\" })] / firstErrorMs: Some(0.0243)\r\n",
      "00:00:13 #65 [Debug] buildFile / fsxContent:  / errors: [(main.spi:\n",
      "Expected: uppercase variable, ParserErrors\n",
      "  { errors = [(({ character = 6\n",
      "                  line = 2 }, { character = 7\n",
      "                                line = 2 }), \"Expected: uppercase variable\")]\n",
      "    uri =\n",
      "     \"file:///C:\\Users\\i574n\\AppData\\Local\\Temp\\!dotnet-repl\\20230826-2326-4514-1451-138a3df44ec6\\main.spi\" }); (main.spi:\n",
      "Expected: uppercase variable, ParserErrors\n",
      "  { errors = [(({ character = 6\n",
      "                  line = 2 }, { character = 7\n",
      "                                line = 2 }), \"Expected: uppercase variable\")]\n",
      "    uri =\n",
      "     \"file:///C:\\Users\\i574n\\AppData\\Local\\Temp\\!dotnet-repl\\20230826-2326-4514-1451-138a3df44ec6\\main.spi\" })] / firstErrorMs: Some(492.8038)\r\n",
      "00:00:13 #66 [Debug] buildFile / fsxContent: Some(()\n",
      ") / errors: [(main.spi:\n",
      "Expected: uppercase variable, ParserErrors\n",
      "  { errors = [(({ character = 6\n",
      "                  line = 2 }, { character = 7\n",
      "                                line = 2 }), \"Expected: uppercase variable\")]\n",
      "    uri =\n",
      "     \"file:///C:\\Users\\i574n\\AppData\\Local\\Temp\\!dotnet-repl\\20230826-2326-4514-1451-138a3df44ec6\\main.spi\" }); (main.spi:\n",
      "Expected: uppercase variable, ParserErrors\n",
      "  { errors = [(({ character = 6\n",
      "                  line = 2 }, { character = 7\n",
      "                                line = 2 }), \"Expected: uppercase variable\")]\n",
      "    uri =\n",
      "     \"file:///C:\\Users\\i574n\\AppData\\Local\\Temp\\!dotnet-repl\\20230826-2326-4514-1451-138a3df44ec6\\main.spi\" })] / firstErrorMs: Some(831.7028)\r\n",
      "00:00:13 #67 [Debug] watchWithFilter / Disposing watch stream / fullPath: C:\\Users\\i574n\\AppData\\Local\\Temp\\!dotnet-repl\\20230826-2326-4514-1451-138a3df44ec6 / filter: FileName, LastWrite\r\n",
      "FSharpOption<Tuple<FSharpOption<String>,FSharpList<String>>>\r\n",
      "      Value:       - FSharpOption<String>\r\n",
      "          Value: ()\n",
      "\r\n",
      "      - [ main.spi:\n",
      "Expected: uppercase variable ]\r\n"
     ]
    }
   ],
   "source": [
    "//// test\n",
    "\n",
    "\"\"\"union a =\n",
    "    | B\n",
    "    | c\n",
    "\n",
    "inl main () =\n",
    "    ()\n",
    "\"\"\"\n",
    "|> buildCode 8000 None\n",
    "|> Async.runWithTimeout 8000\n",
    "|> Option.map (fun (fsxContent, errors) -> fsxContent, errors |> List.map fst)\n",
    "|> _equal (\n",
    "    Some (\n",
    "        Some \"()\n",
    "\",\n",
    "        [\"main.spi:\n",
    "Expected: uppercase variable\"]\n",
    "    )\n",
    ")"
   ]
  },
  {
   "cell_type": "code",
   "execution_count": null,
   "metadata": {
    "dotnet_interactive": {
     "language": "fsharp"
    },
    "polyglot_notebook": {
     "kernelName": "fsharp"
    }
   },
   "outputs": [
    {
     "name": "stdout",
     "output_type": "stream",
     "text": [
      "00:00:14 #68 [Debug] createTempDirectory / tempFolder: C:\\Users\\i574n\\AppData\\Local\\Temp\\!dotnet-repl\\20230826-2326-4771-7125-7ad3e300662f / result: { CreationTime = 2023-08-26 11:26:47 PM\n",
      "  Exists = true }\r\n",
      "00:00:14 #69 [Debug] runWithTimeoutAsync / timeout: 60\r\n",
      "00:00:14 #70 [Debug] executeAsync / options: { Command =\n",
      "   \"dotnet \"C:\\home\\git\\polyglot\\deps\\The-Spiral-Language\\The Spiral Language 2\\artifacts\\bin\\The Spiral Language 2\\release\\Spiral.dll\" port=13807\"\n",
      "  WorkingDirectory = None\n",
      "  CancellationToken = Some System.Threading.CancellationToken\n",
      "  OnLine = Some <fun:buildCode@3-906> }\r\n",
      "00:00:14 #71 [Debug] > Server bound to: tcp://*:13807 & tcp://*:13808\r\n",
      "00:00:14 #72 [Debug] buildFile / fsxContent:  / errors: [] / firstErrorMs:\r\n",
      "00:00:14 #73 [Debug] > pwd: C:\\home\\git\\polyglot\\apps\\spiral\r\n",
      "00:00:14 #74 [Debug] > dll_path: C:\\home\\git\\polyglot\\deps\\The-Spiral-Language\\The Spiral Language 2\\artifacts\\bin\\The Spiral Language 2\\release\r\n",
      "00:00:14 #75 [Debug] sendJson / port: 13807 / json: {\"FileOpen\":{\"spiText\":\"\\n/// abc\\ninl main () =\\n    ()\\n\",\"uri\":\"file:///C:\\\\Users\\\\i574n\\\\AppData\\\\Local\\\\Temp\\\\!dotnet-repl\\\\20230826-2326-4771-7125-7ad3e300662f\\\\main.spi\"}} / result.FrameCount: 1 / resultString.Length: 0\r\n",
      "00:00:14 #76 [Debug] sendJson / port: 13807 / json: {\"BuildFile\":{\"backend\":\"Fsharp\",\"uri\":\"file:///C:\\\\Users\\\\i574n\\\\AppData\\\\Local\\\\Temp\\\\!dotnet-repl\\\\20230826-2326-4771-7125-7ad3e300662f\\\\main.spi\"}} / result.FrameCount: 1 / resultString.Length: 0\r\n",
      "00:00:15 #77 [Debug] buildFile / fsxContent:  / errors: [(main.spi:\n",
      "Expected: whitespace, TokenizerErrors\n",
      "  { errors = [(({ character = 2\n",
      "                  line = 1 }, { character = 3\n",
      "                                line = 1 }), \"Expected: whitespace\")]\n",
      "    uri =\n",
      "     \"file:///C:\\Users\\i574n\\AppData\\Local\\Temp\\!dotnet-repl\\20230826-2326-4771-7125-7ad3e300662f\\main.spi\" })] / firstErrorMs: Some(63828689208629.76)\r\n",
      "00:00:15 #78 [Debug] watchWithFilter / Disposing watch stream / fullPath: C:\\Users\\i574n\\AppData\\Local\\Temp\\!dotnet-repl\\20230826-2326-4771-7125-7ad3e300662f / filter: FileName, LastWrite\r\n",
      "FSharpOption<Tuple<FSharpOption<String>,FSharpList<String>>>\r\n",
      "      Value:       - <null>\r\n",
      "      - [ main.spi:\n",
      "Expected: whitespace ]\r\n"
     ]
    }
   ],
   "source": [
    "//// test\n",
    "\n",
    "\"\"\"\n",
    "/// abc\n",
    "inl main () =\n",
    "    ()\n",
    "\"\"\"\n",
    "|> buildCode 8000 None\n",
    "|> Async.runWithTimeout 8000\n",
    "|> Option.map (fun (fsxContent, errors) -> fsxContent, errors |> List.map fst)\n",
    "|> _equal (\n",
    "    Some (\n",
    "        None,\n",
    "        [\"main.spi:\n",
    "Expected: whitespace\"]\n",
    "    )\n",
    ")"
   ]
  },
  {
   "cell_type": "code",
   "execution_count": null,
   "metadata": {
    "dotnet_interactive": {
     "language": "fsharp"
    },
    "polyglot_notebook": {
     "kernelName": "fsharp"
    }
   },
   "outputs": [
    {
     "name": "stdout",
     "output_type": "stream",
     "text": [
      "00:00:15 #79 [Debug] createTempDirectory / tempFolder: C:\\Users\\i574n\\AppData\\Local\\Temp\\!dotnet-repl\\20230826-2326-4890-9091-9f36f7dc0989 / result: { CreationTime = 2023-08-26 11:26:48 PM\n",
      "  Exists = true }\r\n",
      "00:00:15 #80 [Debug] runWithTimeoutAsync / timeout: 60\r\n",
      "00:00:15 #81 [Debug] executeAsync / options: { Command =\n",
      "   \"dotnet \"C:\\home\\git\\polyglot\\deps\\The-Spiral-Language\\The Spiral Language 2\\artifacts\\bin\\The Spiral Language 2\\release\\Spiral.dll\" port=13807\"\n",
      "  WorkingDirectory = None\n",
      "  CancellationToken = Some System.Threading.CancellationToken\n",
      "  OnLine = Some <fun:buildCode@3-906> }\r\n",
      "00:00:15 #82 [Debug] > Server bound to: tcp://*:13807 & tcp://*:13808\r\n",
      "00:00:15 #83 [Debug] buildFile / fsxContent:  / errors: [] / firstErrorMs:\r\n",
      "00:00:15 #84 [Debug] > pwd: C:\\home\\git\\polyglot\\apps\\spiral\r\n",
      "00:00:15 #85 [Debug] > dll_path: C:\\home\\git\\polyglot\\deps\\The-Spiral-Language\\The Spiral Language 2\\artifacts\\bin\\The Spiral Language 2\\release\r\n",
      "00:00:16 #86 [Debug] sendJson / port: 13807 / json: {\"FileOpen\":{\"spiText\":\"\\ninl main () =\\n    real\\n        inl real_unbox forall a. (obj : a) : a =\\n            typecase obj with\\n            | _ =\\u003E obj\\n        real_unbox ()\\n    ()\\n\",\"uri\":\"file:///C:\\\\Users\\\\i574n\\\\AppData\\\\Local\\\\Temp\\\\!dotnet-repl\\\\20230826-2326-4890-9091-9f36f7dc0989\\\\main.spi\"}} / result.FrameCount: 1 / resultString.Length: 0\r\n",
      "00:00:16 #87 [Debug] sendJson / port: 13807 / json: {\"BuildFile\":{\"backend\":\"Fsharp\",\"uri\":\"file:///C:\\\\Users\\\\i574n\\\\AppData\\\\Local\\\\Temp\\\\!dotnet-repl\\\\20230826-2326-4890-9091-9f36f7dc0989\\\\main.spi\"}} / result.FrameCount: 1 / resultString.Length: 0\r\n",
      "00:00:16 #88 [Debug] > Building C:\\Users\\i574n\\AppData\\Local\\Temp\\!dotnet-repl\\20230826-2326-4890-9091-9f36f7dc0989\\main.spi\r\n",
      "00:00:17 #89 [Debug] buildFile / fsxContent:  / errors: [(Cannot apply a forall with a term., TracedError\n",
      "  { message = \"Cannot apply a forall with a term.\"\n",
      "    trace =\n",
      "     [\"Error trace on line: 2, column: 10 in module: C:\\Users\\i574n\\AppData\\Local\\Temp\\!dotnet-repl\\20230826-2326-4890-9091-9f36f7dc0989\\main.spi.\r\n",
      "inl main () =\r\n",
      "         ^\r\n",
      "\";\n",
      "      \"Error trace on line: 4, column: 9 in module: C:\\Users\\i574n\\AppData\\Local\\Temp\\!dotnet-repl\\20230826-2326-4890-9091-9f36f7dc0989\\main.spi.\r\n",
      "        inl real_unbox forall a. (obj : a) : a =\r\n",
      "        ^\r\n",
      "\";\n",
      "      \"Error trace on line: 7, column: 9 in module: C:\\Users\\i574n\\AppData\\Local\\Temp\\!dotnet-repl\\20230826-2326-4890-9091-9f36f7dc0989\\main.spi.\r\n",
      "        real_unbox ()\r\n",
      "        ^\r\n",
      "\"] })] / firstErrorMs: Some(63828689210875.95)\r\n",
      "00:00:17 #90 [Debug] watchWithFilter / Disposing watch stream / fullPath: C:\\Users\\i574n\\AppData\\Local\\Temp\\!dotnet-repl\\20230826-2326-4890-9091-9f36f7dc0989 / filter: FileName, LastWrite\r\n",
      "FSharpOption<Tuple<FSharpOption<String>,FSharpList<String>>>\r\n",
      "      Value:       - <null>\r\n",
      "      - [ Cannot apply a forall with a term. ]\r\n"
     ]
    }
   ],
   "source": [
    "//// test\n",
    "\n",
    "\"\"\"\n",
    "inl main () =\n",
    "    real\n",
    "        inl real_unbox forall a. (obj : a) : a =\n",
    "            typecase obj with\n",
    "            | _ => obj\n",
    "        real_unbox ()\n",
    "    ()\n",
    "\"\"\"\n",
    "|> buildCode 8000 None\n",
    "|> Async.runWithTimeout 8000\n",
    "|> Option.map (fun (fsxContent, errors) -> fsxContent, errors |> List.map fst)\n",
    "|> _equal (\n",
    "    Some (\n",
    "        None,\n",
    "        [\"Cannot apply a forall with a term.\"]\n",
    "    )\n",
    ")"
   ]
  },
  {
   "cell_type": "code",
   "execution_count": null,
   "metadata": {
    "dotnet_interactive": {
     "language": "fsharp"
    },
    "polyglot_notebook": {
     "kernelName": "fsharp"
    }
   },
   "outputs": [
    {
     "name": "stdout",
     "output_type": "stream",
     "text": [
      "00:00:17 #91 [Debug] createTempDirectory / tempFolder: C:\\Users\\i574n\\AppData\\Local\\Temp\\!dotnet-repl\\20230826-2326-5117-1743-11f09f7a3325 / result: { CreationTime = 2023-08-26 11:26:51 PM\n",
      "  Exists = true }\r\n",
      "00:00:17 #92 [Debug] runWithTimeoutAsync / timeout: 60\r\n",
      "00:00:17 #93 [Debug] executeAsync / options: { Command =\n",
      "   \"dotnet \"C:\\home\\git\\polyglot\\deps\\The-Spiral-Language\\The Spiral Language 2\\artifacts\\bin\\The Spiral Language 2\\release\\Spiral.dll\" port=13807\"\n",
      "  WorkingDirectory = None\n",
      "  CancellationToken = Some System.Threading.CancellationToken\n",
      "  OnLine = Some <fun:buildCode@3-906> }\r\n",
      "00:00:18 #94 [Debug] > Server bound to: tcp://*:13807 & tcp://*:13808\r\n",
      "00:00:18 #95 [Debug] buildFile / fsxContent:  / errors: [] / firstErrorMs:\r\n",
      "00:00:18 #96 [Debug] > pwd: C:\\home\\git\\polyglot\\apps\\spiral\r\n",
      "00:00:18 #97 [Debug] > dll_path: C:\\home\\git\\polyglot\\deps\\The-Spiral-Language\\The Spiral Language 2\\artifacts\\bin\\The Spiral Language 2\\release\r\n",
      "00:00:18 #98 [Debug] sendJson / port: 13807 / json: {\"FileOpen\":{\"spiText\":\"\\ninl main () =\\n    real\\n        inl real_unbox forall a. (obj : a) : a =\\n            typecase obj with\\n            | _ =\\u003E obj\\n        real_unbox \\u0060i32 1\\n\",\"uri\":\"file:///C:\\\\Users\\\\i574n\\\\AppData\\\\Local\\\\Temp\\\\!dotnet-repl\\\\20230826-2326-5117-1743-11f09f7a3325\\\\main.spi\"}} / result.FrameCount: 1 / resultString.Length: 0\r\n",
      "00:00:18 #99 [Debug] sendJson / port: 13807 / json: {\"BuildFile\":{\"backend\":\"Fsharp\",\"uri\":\"file:///C:\\\\Users\\\\i574n\\\\AppData\\\\Local\\\\Temp\\\\!dotnet-repl\\\\20230826-2326-5117-1743-11f09f7a3325\\\\main.spi\"}} / result.FrameCount: 1 / resultString.Length: 0\r\n",
      "00:00:18 #100 [Debug] > Building C:\\Users\\i574n\\AppData\\Local\\Temp\\!dotnet-repl\\20230826-2326-5117-1743-11f09f7a3325\\main.spi\r\n",
      "00:00:19 #101 [Debug] buildFile / fsxContent:  / errors: [(The main function should not have a forall., TracedError { message = \"The main function should not have a forall.\"\n",
      "              trace = [] })] / firstErrorMs: Some(63828689212960.164)\r\n",
      "00:00:19 #102 [Debug] watchWithFilter / Disposing watch stream / fullPath: C:\\Users\\i574n\\AppData\\Local\\Temp\\!dotnet-repl\\20230826-2326-5117-1743-11f09f7a3325 / filter: FileName, LastWrite\r\n",
      "FSharpOption<Tuple<FSharpOption<String>,FSharpList<String>>>\r\n",
      "      Value:       - <null>\r\n",
      "      - [ The main function should not have a forall. ]\r\n"
     ]
    }
   ],
   "source": [
    "//// test\n",
    "\n",
    "\"\"\"\n",
    "inl main () =\n",
    "    real\n",
    "        inl real_unbox forall a. (obj : a) : a =\n",
    "            typecase obj with\n",
    "            | _ => obj\n",
    "        real_unbox `i32 1\n",
    "\"\"\"\n",
    "|> buildCode 8000 None\n",
    "|> Async.runWithTimeout 8000\n",
    "|> Option.map (fun (fsxContent, errors) -> fsxContent, errors |> List.map fst)\n",
    "|> _equal (\n",
    "    Some (\n",
    "        None,\n",
    "        [\"The main function should not have a forall.\"]\n",
    "    )\n",
    ")"
   ]
  },
  {
   "cell_type": "markdown",
   "metadata": {},
   "source": [
    "## getFileTokenRange"
   ]
  },
  {
   "cell_type": "code",
   "execution_count": null,
   "metadata": {
    "dotnet_interactive": {
     "language": "fsharp"
    },
    "polyglot_notebook": {
     "kernelName": "fsharp"
    }
   },
   "outputs": [],
   "source": [
    "let inline getFileTokenRange timeout cancellationToken path = async {\n",
    "    let fullPath = path |> System.IO.Path.GetFullPath\n",
    "    let! code = fullPath |> FileSystem.readAllTextAsync\n",
    "    let lines = code |> String.split [| '\\n' |]\n",
    "\n",
    "    let port =\n",
    "        if fullPath |> String.startsWith (System.IO.Path.GetTempPath ())\n",
    "            && fullPath |> String.contains \"Microsoft.DotNet.Interactive.App\" |> not\n",
    "        then 13807\n",
    "        else 13805\n",
    "\n",
    "    let! serverPort, outputs, disposable = awaitCompiler port cancellationToken\n",
    "    use _ = disposable\n",
    "\n",
    "    let fileOpenObj = {| FileOpen = {| uri = fullPath |> getFileUri; spiText = code |} |}\n",
    "    let! fileOpenResult = fileOpenObj |> sendObj serverPort\n",
    "\n",
    "    let fileTokenRangeObj =\n",
    "        {|\n",
    "            FileTokenRange =\n",
    "                {|\n",
    "                    uri = fullPath |> getFileUri\n",
    "                    range =\n",
    "                        [|\n",
    "                            {| line = 0; character = 0 |}\n",
    "                            {| line = lines.Length - 1; character = lines.[lines.Length - 1].Length |}\n",
    "                        |]\n",
    "                |}\n",
    "        |}\n",
    "    let! fileTokenRangeResult = fileTokenRangeObj |> sendObj serverPort\n",
    "\n",
    "    return fileTokenRangeResult |> Option.map FSharp.Json.Json.deserialize<int array>\n",
    "}"
   ]
  },
  {
   "cell_type": "markdown",
   "metadata": {},
   "source": [
    "## getCodeTokenRange"
   ]
  },
  {
   "cell_type": "code",
   "execution_count": null,
   "metadata": {
    "dotnet_interactive": {
     "language": "fsharp"
    },
    "polyglot_notebook": {
     "kernelName": "fsharp"
    }
   },
   "outputs": [],
   "source": [
    "let inline getCodeTokenRange timeout cancellationToken code = async {\n",
    "    let! mainPath, disposable = persistCode timeout cancellationToken code\n",
    "    use _ = disposable\n",
    "    return! mainPath |> getFileTokenRange timeout cancellationToken\n",
    "}"
   ]
  },
  {
   "cell_type": "code",
   "execution_count": null,
   "metadata": {
    "dotnet_interactive": {
     "language": "fsharp"
    },
    "polyglot_notebook": {
     "kernelName": "fsharp"
    }
   },
   "outputs": [
    {
     "name": "stdout",
     "output_type": "stream",
     "text": [
      "00:00:25 #103 [Debug] createTempDirectory / tempFolder: C:\\Users\\i574n\\AppData\\Local\\Temp\\!dotnet-repl\\20230826-2326-5953-5322-5dcc0c7a4e5c / result: { CreationTime = 2023-08-26 11:26:59 PM\n",
      "  Exists = true }\r\n",
      "00:00:26 #104 [Debug] runWithTimeoutAsync / timeout: 60\r\n",
      "00:00:26 #105 [Debug] executeAsync / options: { Command =\n",
      "   \"dotnet \"C:\\home\\git\\polyglot\\deps\\The-Spiral-Language\\The Spiral Language 2\\artifacts\\bin\\The Spiral Language 2\\release\\Spiral.dll\" port=13807\"\n",
      "  WorkingDirectory = None\n",
      "  CancellationToken = Some System.Threading.CancellationToken\n",
      "  OnLine = Some <fun:it@4-350> }\r\n",
      "00:00:26 #106 [Debug] > Server bound to: tcp://*:13807 & tcp://*:13808\r\n",
      "00:00:26 #107 [Debug] > pwd: C:\\home\\git\\polyglot\\apps\\spiral\r\n",
      "00:00:26 #108 [Debug] > dll_path: C:\\home\\git\\polyglot\\deps\\The-Spiral-Language\\The Spiral Language 2\\artifacts\\bin\\The Spiral Language 2\\release\r\n",
      "00:00:26 #109 [Debug] sendJson / port: 13807 / json: {\"FileOpen\":{\"spiText\":\"inl main () = ()\",\"uri\":\"file:///C:\\\\Users\\\\i574n\\\\AppData\\\\Local\\\\Temp\\\\!dotnet-repl\\\\20230826-2326-5953-5322-5dcc0c7a4e5c\\\\main.spi\"}} / result.FrameCount: 1 / resultString.Length: 0\r\n",
      "00:00:27 #110 [Debug] sendJson / port: 13807 / json: {\"FileTokenRange\":{\"range\":[{\"character\":0,\"line\":0},{\"character\":16,\"line\":0}],\"uri\":\"file:///C:\\\\Users\\\\i574n\\\\AppData\\\\Local\\\\Temp\\\\!dotnet-repl\\\\20230826-2326-5953-5322-5dcc0c7a4e5c\\\\main.spi\"}} / result.FrameCount: 1 / resultString.Length: 213\r\n",
      "FSharpOption<Int32[]>\r\n",
      "      Value: [ 0, 0, 3, 7, 0, 0, 4, 4, 0, 0, 0, 5, 1, 8, 0, 0, 1, 1, 8, 0, 0, 2, 1, 4, 0, 0, 2, 1, 8, 0, 0, 1, 1, 8, 0 ]\r\n"
     ]
    }
   ],
   "source": [
    "//// test\n",
    "\n",
    "\"\"\"inl main () = ()\"\"\"\n",
    "|> getCodeTokenRange 8000 None\n",
    "|> Async.runWithTimeout 8000\n",
    "|> Option.flatten\n",
    "|> _equal (Some [|0; 0; 3; 7; 0; 0; 4; 4; 0; 0; 0; 5; 1; 8; 0; 0; 1; 1; 8; 0; 0; 2; 1; 4; 0; 0;\n",
    "2; 1; 8; 0; 0; 1; 1; 8; 0|])"
   ]
  },
  {
   "cell_type": "code",
   "execution_count": null,
   "metadata": {
    "dotnet_interactive": {
     "language": "fsharp"
    },
    "polyglot_notebook": {
     "kernelName": "fsharp"
    }
   },
   "outputs": [
    {
     "name": "stdout",
     "output_type": "stream",
     "text": [
      "00:00:29 #111 [Debug] createTempDirectory / tempFolder: C:\\Users\\i574n\\AppData\\Local\\Temp\\!dotnet-repl\\20230826-2327-0340-4056-48f5a465a129 / result: { CreationTime = 2023-08-26 11:27:03 PM\n",
      "  Exists = true }\r\n",
      "00:00:29 #112 [Debug] runWithTimeoutAsync / timeout: 60\r\n",
      "00:00:29 #113 [Debug] executeAsync / options: { Command =\n",
      "   \"dotnet \"C:\\home\\git\\polyglot\\deps\\The-Spiral-Language\\The Spiral Language 2\\artifacts\\bin\\The Spiral Language 2\\release\\Spiral.dll\" port=13807\"\n",
      "  WorkingDirectory = None\n",
      "  CancellationToken = Some System.Threading.CancellationToken\n",
      "  OnLine = Some <fun:it@4-620> }\r\n",
      "00:00:30 #114 [Debug] > Server bound to: tcp://*:13807 & tcp://*:13808\r\n",
      "00:00:30 #115 [Debug] > pwd: C:\\home\\git\\polyglot\\apps\\spiral\r\n",
      "00:00:30 #116 [Debug] > dll_path: C:\\home\\git\\polyglot\\deps\\The-Spiral-Language\\The Spiral Language 2\\artifacts\\bin\\The Spiral Language 2\\release\r\n",
      "00:00:30 #117 [Debug] sendJson / port: 13807 / json: {\"FileOpen\":{\"spiText\":\"inl main () = 1i32\",\"uri\":\"file:///C:\\\\Users\\\\i574n\\\\AppData\\\\Local\\\\Temp\\\\!dotnet-repl\\\\20230826-2327-0340-4056-48f5a465a129\\\\main.spi\"}} / result.FrameCount: 1 / resultString.Length: 0\r\n",
      "00:00:30 #118 [Debug] sendJson / port: 13807 / json: {\"FileTokenRange\":{\"range\":[{\"character\":0,\"line\":0},{\"character\":18,\"line\":0}],\"uri\":\"file:///C:\\\\Users\\\\i574n\\\\AppData\\\\Local\\\\Temp\\\\!dotnet-repl\\\\20230826-2327-0340-4056-48f5a465a129\\\\main.spi\"}} / result.FrameCount: 1 / resultString.Length: 214\r\n",
      "FSharpOption<Int32[]>\r\n",
      "      Value: [ 0, 0, 3, 7, 0, 0, 4, 4, 0, 0, 0, 5, 1, 8, 0, 0, 1, 1, 8, 0, 0, 2, 1, 4, 0, 0, 2, 1, 3, 0, 0, 1, 3, 12, 0 ]\r\n"
     ]
    }
   ],
   "source": [
    "//// test\n",
    "\n",
    "\"\"\"inl main () = 1i32\"\"\"\n",
    "|> getCodeTokenRange 8000 None\n",
    "|> Async.runWithTimeout 8000\n",
    "|> Option.flatten\n",
    "|> _equal (Some [|0; 0; 3; 7; 0; 0; 4; 4; 0; 0; 0; 5; 1; 8; 0; 0; 1; 1; 8; 0; 0; 2; 1; 4; 0; 0;\n",
    "2; 1; 3; 0; 0; 1; 3; 12; 0|])"
   ]
  },
  {
   "cell_type": "markdown",
   "metadata": {},
   "source": [
    "## Arguments"
   ]
  },
  {
   "cell_type": "code",
   "execution_count": null,
   "metadata": {
    "dotnet_interactive": {
     "language": "fsharp"
    },
    "polyglot_notebook": {
     "kernelName": "fsharp"
    }
   },
   "outputs": [],
   "source": [
    "[<RequireQualifiedAccess>]\n",
    "type Arguments =\n",
    "    | [<Argu.ArguAttributes.Mandatory>] BuildFile of string * string\n",
    "    | Timeout of int\n",
    "\n",
    "    interface Argu.IArgParserTemplate with\n",
    "        member s.Usage =\n",
    "            match s with\n",
    "            | BuildFile _ -> nameof Arguments.BuildFile\n",
    "            | Timeout _ -> nameof Arguments.Timeout"
   ]
  },
  {
   "cell_type": "markdown",
   "metadata": {},
   "source": [
    "## main"
   ]
  },
  {
   "cell_type": "code",
   "execution_count": null,
   "metadata": {
    "dotnet_interactive": {
     "language": "fsharp"
    },
    "polyglot_notebook": {
     "kernelName": "fsharp"
    }
   },
   "outputs": [],
   "source": [
    "let main args =\n",
    "    let argsMap = args |> Runtime.parseArgsMap<Arguments>\n",
    "\n",
    "    let inputPath, outputPath =\n",
    "        match argsMap.[nameof Arguments.BuildFile] with\n",
    "        | [ Arguments.BuildFile (inputPath, outputPath) ] -> Some (inputPath, outputPath)\n",
    "        | _ -> None\n",
    "        |> Option.get\n",
    "\n",
    "    let timeout =\n",
    "        match argsMap |> Map.tryFind (nameof Arguments.Timeout) with\n",
    "        | Some [ Arguments.Timeout timeout ] -> timeout\n",
    "        | _ -> 30000\n",
    "\n",
    "    async {\n",
    "        let! outputCode, errors = inputPath |> buildFile timeout None\n",
    "        \n",
    "        errors\n",
    "        |> List.map snd\n",
    "        |> List.iter (fun error ->\n",
    "            trace Error (fun () -> $\"main / error: {error}\") getLocals\n",
    "        )\n",
    "\n",
    "        match outputCode with\n",
    "        | Some outputCode ->\n",
    "            do! outputCode |> FileSystem.writeAllTextAsync outputPath\n",
    "            return 0\n",
    "        | None ->\n",
    "            return 1\n",
    "    }\n",
    "    |> Async.runWithTimeout timeout\n",
    "    |> Option.defaultValue 1"
   ]
  },
  {
   "cell_type": "code",
   "execution_count": null,
   "metadata": {
    "dotnet_interactive": {
     "language": "fsharp"
    },
    "polyglot_notebook": {
     "kernelName": "fsharp"
    }
   },
   "outputs": [
    {
     "data": {
      "text/html": [
       "<div class=\"dni-plaintext\"><pre>0</pre></div><style>\r\n",
       ".dni-code-hint {\r\n",
       "    font-style: italic;\r\n",
       "    overflow: hidden;\r\n",
       "    white-space: nowrap;\r\n",
       "}\r\n",
       ".dni-treeview {\r\n",
       "    white-space: nowrap;\r\n",
       "}\r\n",
       ".dni-treeview td {\r\n",
       "    vertical-align: top;\r\n",
       "    text-align: start;\r\n",
       "}\r\n",
       "details.dni-treeview {\r\n",
       "    padding-left: 1em;\r\n",
       "}\r\n",
       "table td {\r\n",
       "    text-align: start;\r\n",
       "}\r\n",
       "table tr { \r\n",
       "    vertical-align: top; \r\n",
       "    margin: 0em 0px;\r\n",
       "}\r\n",
       "table tr td pre \r\n",
       "{ \r\n",
       "    vertical-align: top !important; \r\n",
       "    margin: 0em 0px !important;\r\n",
       "} \r\n",
       "table th {\r\n",
       "    text-align: start;\r\n",
       "}\r\n",
       "</style>"
      ]
     },
     "metadata": {},
     "output_type": "display_data"
    }
   ],
   "source": [
    "//// test\n",
    "\n",
    "let args =\n",
    "    System.Environment.GetEnvironmentVariable \"ARGS\"\n",
    "    |> Runtime.splitArgs\n",
    "    |> Seq.toArray\n",
    "\n",
    "match args with\n",
    "| [||] -> 0\n",
    "| args -> if main args = 0 then 0 else failwith \"main failed\""
   ]
  }
 ],
 "metadata": {
  "kernelspec": {
   "display_name": ".NET (C#)",
   "language": "C#",
   "name": ".net-csharp"
  },
  "language_info": {
   "file_extension": ".cs",
   "mimetype": "text/x-csharp",
   "name": "C#",
   "pygments_lexer": "csharp",
   "version": "10.0"
  },
  "polyglot_notebook": {
   "defaultKernelName": "csharp",
   "items": [
    {
     "name": "csharp"
    }
   ]
  },
  "dotnet_interactive": {
   "defaultKernelName": "csharp",
   "items": [
    {
     "name": "csharp"
    }
   ]
  }
 },
 "nbformat": 4,
 "nbformat_minor": 5
}