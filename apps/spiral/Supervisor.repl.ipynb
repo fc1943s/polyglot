{
 "cells": [
  {
   "cell_type": "markdown",
   "metadata": {},
   "source": [
    "# Supervisor (Polyglot)"
   ]
  },
  {
   "cell_type": "code",
   "execution_count": null,
   "metadata": {
    "dotnet_interactive": {
     "language": "fsharp"
    },
    "polyglot_notebook": {
     "kernelName": "fsharp"
    }
   },
   "outputs": [],
   "source": [
    "#!import ../nbs/Testing.dib"
   ]
  },
  {
   "cell_type": "code",
   "execution_count": null,
   "metadata": {
    "dotnet_interactive": {
     "language": "fsharp"
    },
    "polyglot_notebook": {
     "kernelName": "fsharp"
    }
   },
   "outputs": [],
   "source": [
    "#r @\"../../../../../../../.nuget/packages/fsharp.control.asyncseq/3.2.1/lib/netstandard2.1/FSharp.Control.AsyncSeq.dll\"\n",
    "#r @\"../../../../../../../.nuget/packages/system.reactive/5.0.0/lib/net5.0/System.Reactive.dll\"\n",
    "#r @\"../../../../../../../.nuget/packages/system.reactive.linq/6.0.1-preview.1/lib/netstandard2.0/System.Reactive.Linq.dll\"\n",
    "#r @\"../../../../../../../.nuget/packages/argu/6.1.1/lib/netstandard2.0/Argu.dll\"\n",
    "#r @\"../../../../../../../.nuget/packages/system.commandline/2.0.0-beta4.22272.1/lib/net6.0/System.CommandLine.dll\"\n",
    "#r @\"../../../../../../../.nuget/packages/asyncio/0.1.69/lib/netstandard2.0/AsyncIO.dll\"\n",
    "#r @\"../../../../../../../.nuget/packages/netmq/4.0.1.12/lib/netstandard2.1/NetMQ.dll\""
   ]
  },
  {
   "cell_type": "code",
   "execution_count": null,
   "metadata": {
    "dotnet_interactive": {
     "language": "fsharp"
    },
    "polyglot_notebook": {
     "kernelName": "fsharp"
    }
   },
   "outputs": [],
   "source": [
    "#!import ../nbs/Common.fs\n",
    "#!import ../nbs/Async.fs\n",
    "#!import ../nbs/AsyncSeq.fs\n",
    "#!import ../nbs/Networking.fs\n",
    "#!import ../nbs/Runtime.fs\n",
    "#!import ../nbs/FileSystem.fs"
   ]
  },
  {
   "cell_type": "code",
   "execution_count": null,
   "metadata": {
    "dotnet_interactive": {
     "language": "fsharp"
    },
    "polyglot_notebook": {
     "kernelName": "fsharp"
    }
   },
   "outputs": [],
   "source": [
    "open Common\n",
    "open FileSystem"
   ]
  },
  {
   "cell_type": "markdown",
   "metadata": {},
   "source": [
    "## sendJson"
   ]
  },
  {
   "cell_type": "code",
   "execution_count": null,
   "metadata": {
    "dotnet_interactive": {
     "language": "fsharp"
    },
    "polyglot_notebook": {
     "kernelName": "fsharp"
    }
   },
   "outputs": [],
   "source": [
    "let inline sendJson (port : int) (json : string) = async {\n",
    "    let! portOpen = Networking.testPortOpen port\n",
    "    if portOpen then\n",
    "        // use runtime = new NetMQ.NetMQRuntime ()\n",
    "        use request = new NetMQ.Sockets.RequestSocket ()\n",
    "        request.Connect $\"tcp://127.0.0.1:{port}\"\n",
    "\n",
    "        let msg = NetMQ.NetMQMessage ()\n",
    "        msg.Append json\n",
    "\n",
    "        NetMQ.OutgoingSocketExtensions.SendMultipartMessage (request, msg)\n",
    "        let result = NetMQ.ReceivingSocketExtensions.ReceiveMultipartMessage (request, 10)\n",
    "        // let! result = NetMQ.AsyncReceiveExtensions.ReceiveMultipartMessageAsync (request, 10) |> Async.AwaitTask\n",
    "        let result = result |> Seq.toList |> List.map (fun x -> x.ConvertToString ())\n",
    "        trace Debug (fun () -> $\"sendJson / port: {port} / json: {json} / result: {result}\") getLocals\n",
    "        return true\n",
    "    else\n",
    "        trace Debug (fun () -> \"sendJson / error: port not open\") getLocals\n",
    "        return false\n",
    "}"
   ]
  },
  {
   "cell_type": "markdown",
   "metadata": {},
   "source": [
    "## sendObj"
   ]
  },
  {
   "cell_type": "code",
   "execution_count": null,
   "metadata": {
    "dotnet_interactive": {
     "language": "fsharp"
    },
    "polyglot_notebook": {
     "kernelName": "fsharp"
    }
   },
   "outputs": [],
   "source": [
    "let inline sendObj port obj =\n",
    "    let json = System.Text.Json.JsonSerializer.Serialize obj\n",
    "    sendJson port json"
   ]
  },
  {
   "cell_type": "markdown",
   "metadata": {},
   "source": [
    "## compile"
   ]
  },
  {
   "cell_type": "code",
   "execution_count": null,
   "metadata": {
    "dotnet_interactive": {
     "language": "fsharp"
    },
    "polyglot_notebook": {
     "kernelName": "fsharp"
    }
   },
   "outputs": [],
   "source": [
    "let inline compileFile timeout filePath = async {\n",
    "    let fullPath = filePath |> System.IO.Path.GetFullPath\n",
    "    let fileDir = fullPath |> System.IO.Path.GetDirectoryName\n",
    "    let fileName = fullPath |> System.IO.Path.GetFileNameWithoutExtension\n",
    "    let! code = fullPath |> System.IO.File.ReadAllTextAsync |> Async.AwaitTask\n",
    "\n",
    "    let stream, disposable = FileSystem.watchDirectory true fileDir\n",
    "\n",
    "    let port =\n",
    "        if fileDir |> String.startsWith (System.IO.Path.GetTempPath ())\n",
    "        then 13807\n",
    "        else 13805\n",
    "\n",
    "    let! ct = Async.CancellationToken\n",
    "    let compiler = MailboxProcessor.Start (fun inbox -> async {\n",
    "        let! availablePort = Networking.getAvailablePort (Some 60) port\n",
    "        if availablePort <> port then\n",
    "            let pingObj = {| Ping = true |}\n",
    "            let! pingResult = pingObj |> sendObj port\n",
    "            inbox.Post ()\n",
    "        else\n",
    "            let compilerPath =\n",
    "                \"../../deps/The-Spiral-Language/The Spiral Language 2/artifacts/bin/The Spiral Language 2/release\"\n",
    "                |> System.IO.Path.GetFullPath\n",
    "\n",
    "            let dllPath = compilerPath </> \"Spiral.dll\"\n",
    "            // let commandsPath = compilerPath </> \"compiler/supervisor/commands\"\n",
    "\n",
    "            let! exitCode, result =\n",
    "                Runtime.executeWithOptionsAsync\n",
    "                    {\n",
    "                        Command = $@\"dotnet \"\"{dllPath}\"\" port={port}\"\n",
    "                        CancellationToken = None\n",
    "                        WorkingDirectory = None\n",
    "                        OnLine = Some <| fun { Line = line } -> async {\n",
    "                            if line |> String.contains $\"Server bound to: tcp://*:{port}\"\n",
    "                            then inbox.Post ()\n",
    "                        }\n",
    "                    }\n",
    "            trace Debug (fun () -> $\"startSupervisor / exitCode: {exitCode} / result: {result}\") getLocals\n",
    "    }, ct)\n",
    "\n",
    "    do! compiler.Receive ()\n",
    "\n",
    "    let! fsxContentChild =\n",
    "        stream\n",
    "        |> FSharp.Control.AsyncSeq.choose (function\n",
    "            | _, FileSystemChange.Changed (path, Some content) when path = $\"{fileName}.fsx\" -> Some content\n",
    "            | _ -> None\n",
    "        )\n",
    "        |> FSharp.Control.AsyncSeq.tryFirst\n",
    "        |> Async.runWithTimeoutAsync timeout\n",
    "        |> Async.StartChild\n",
    "\n",
    "    let inline getFileUri path =\n",
    "        $\"file:///{path |> String.trimStart [| '/' |]}\"\n",
    "\n",
    "\n",
    "    let fileOpenObj = {| FileOpen = {| uri = fullPath |> getFileUri; spiText = code |} |}\n",
    "    let! fileOpenResult = fileOpenObj |> sendObj port\n",
    "\n",
    "    let buildFileObj = {| BuildFile = {| uri = fullPath |> getFileUri; backend = \"Fsharp\" |} |}\n",
    "    let! buildFileResult = buildFileObj |> sendObj port\n",
    "\n",
    "    let! fsxContent = fsxContentChild\n",
    "\n",
    "    disposable.Dispose ()\n",
    "\n",
    "    return fsxContent |> Option.flatten |> Option.map (String.replace \"\\r\\n\" \"\\n\")\n",
    "}"
   ]
  },
  {
   "cell_type": "code",
   "execution_count": null,
   "metadata": {
    "dotnet_interactive": {
     "language": "fsharp"
    },
    "polyglot_notebook": {
     "kernelName": "fsharp"
    }
   },
   "outputs": [],
   "source": [
    "let inline compileCode timeout code = async {\n",
    "    let tempDir = FileSystem.createTempDirectory ()\n",
    "\n",
    "    let mainPath = tempDir </> \"main.spi\"\n",
    "    do! System.IO.File.WriteAllTextAsync (mainPath, code) |> Async.AwaitTask\n",
    "\n",
    "    let repositoryRoot = FileSystem.getSourceDirectory () |> FileSystem.findParent \".paket\" false\n",
    "\n",
    "    let spiprojPath = tempDir </> \"package.spiproj\"\n",
    "    let spiprojCode =\n",
    "        $\"\"\"packageDir: {repositoryRoot </> \"spiral\"}\n",
    "packages:\n",
    "    |core-\n",
    "    fsharp\n",
    "modules:\n",
    "    main\n",
    "\"\"\"\n",
    "    do! System.IO.File.WriteAllTextAsync (spiprojPath, spiprojCode) |> Async.AwaitTask\n",
    "\n",
    "    let! result = mainPath |> compileFile timeout\n",
    "\n",
    "    do! tempDir |> FileSystem.deleteDirectoryAsync |> Async.Ignore\n",
    "\n",
    "    return result\n",
    "}"
   ]
  },
  {
   "cell_type": "code",
   "execution_count": null,
   "metadata": {
    "dotnet_interactive": {
     "language": "fsharp"
    },
    "polyglot_notebook": {
     "kernelName": "fsharp"
    }
   },
   "outputs": [
    {
     "name": "stdout",
     "output_type": "stream",
     "text": [
      "05:20:17 #1 [Debug] createTempDirectory / tempFolder: C:\\Users\\i574n\\AppData\\Local\\Temp\\!dotnet-repl\\20230802-0520-1730-3092-3ab1c9dfa33d / result: { CreationTime = 2023-08-02 5:20:17 AM\n",
      "  Exists = true }\r\n",
      "05:20:17 #2 [Debug] runWithTimeoutAsync / timeout: 60\r\n",
      "05:20:17 #3 [Debug] executeAsync / options: { Command =\n",
      "   \"dotnet \"C:\\home\\git\\polyglot\\deps\\The-Spiral-Language\\The Spiral Language 2\\artifacts\\bin\\The Spiral Language 2\\release\\Spiral.dll\" port=13807\"\n",
      "  WorkingDirectory = None\n",
      "  CancellationToken = None\n",
      "  OnLine = Some <fun:it@11-242> }\r\n",
      "05:20:17 #4 [Debug]  4628: Server bound to: tcp://*:13807 & tcp://*:13808\r\n",
      "05:20:17 #5 [Debug]  4628: pwd: C:\\home\\git\\polyglot\\apps\\spiral\r\n",
      "05:20:17 #6 [Debug]  4628: dll_path: C:\\home\\git\\polyglot\\deps\\The-Spiral-Language\\The Spiral Language 2\\artifacts\\bin\\The Spiral Language 2\\release\r\n",
      "05:20:18 #7 [Debug] sendJson / port: 13807 / json: {\"FileOpen\":{\"spiText\":\"inl app () =\\n    0i32\\n\\ninl main () =\\n    app\\n    |\\u003E dyn\\n    |\\u003E ignore\\n\",\"uri\":\"file:///C:\\\\Users\\\\i574n\\\\AppData\\\\Local\\\\Temp\\\\!dotnet-repl\\\\20230802-0520-1730-3092-3ab1c9dfa33d\\\\main.spi\"}} / result: []\r\n",
      "05:20:18 #8 [Debug] sendJson / port: 13807 / json: {\"BuildFile\":{\"backend\":\"Fsharp\",\"uri\":\"file:///C:\\\\Users\\\\i574n\\\\AppData\\\\Local\\\\Temp\\\\!dotnet-repl\\\\20230802-0520-1730-3092-3ab1c9dfa33d\\\\main.spi\"}} / result: []\r\n",
      "05:20:18 #9 [Debug]  4628: Building C:\\Users\\i574n\\AppData\\Local\\Temp\\!dotnet-repl\\20230802-0520-1730-3092-3ab1c9dfa33d\\main.spi\r\n",
      "05:20:19 #10 [Debug] watchWithFilter / Disposing watch stream / fullPath: C:\\Users\\i574n\\AppData\\Local\\Temp\\!dotnet-repl\\20230802-0520-1730-3092-3ab1c9dfa33d / filter: FileName, LastWrite\r\n",
      "FSharpOption<String>\r\n",
      "      Value: let rec closure0 () () : int32 =\n",
      "    0\n",
      "let v0 : (unit -> int32) = closure0()\n",
      "()\n",
      "\r\n"
     ]
    }
   ],
   "source": [
    "//// test\n",
    "\n",
    "\"inl app () =\n",
    "    0i32\n",
    "\n",
    "inl main () =\n",
    "    app\n",
    "    |> dyn\n",
    "    |> ignore\n",
    "\"\n",
    "|> compileCode 8000\n",
    "|> Async.runWithTimeout 8000\n",
    "|> Option.flatten\n",
    "|> _equal (Some \"let rec closure0 () () : int32 =\n",
    "    0\n",
    "let v0 : (unit -> int32) = closure0()\n",
    "()\n",
    "\")"
   ]
  },
  {
   "cell_type": "code",
   "execution_count": null,
   "metadata": {
    "dotnet_interactive": {
     "language": "fsharp"
    },
    "polyglot_notebook": {
     "kernelName": "fsharp"
    }
   },
   "outputs": [
    {
     "name": "stdout",
     "output_type": "stream",
     "text": [
      "05:20:22 #11 [Debug] createTempDirectory / tempFolder: C:\\Users\\i574n\\AppData\\Local\\Temp\\!dotnet-repl\\20230802-0520-2263-6304-6683fe21da16 / result: { CreationTime = 2023-08-02 5:20:22 AM\n",
      "  Exists = true }\r\n",
      "05:20:22 #12 [Debug] runWithTimeoutAsync / timeout: 60\r\n",
      "05:20:22 #13 [Debug] executeAsync / options: { Command =\n",
      "   \"dotnet \"C:\\home\\git\\polyglot\\deps\\The-Spiral-Language\\The Spiral Language 2\\artifacts\\bin\\The Spiral Language 2\\release\\Spiral.dll\" port=13807\"\n",
      "  WorkingDirectory = None\n",
      "  CancellationToken = None\n",
      "  OnLine = Some <fun:it@12-635> }\r\n",
      "05:20:23 #14 [Debug]  4860: Server bound to: tcp://*:13807 & tcp://*:13808\r\n",
      "05:20:23 #15 [Debug]  4860: pwd: C:\\home\\git\\polyglot\\apps\\spiral\r\n",
      "05:20:23 #16 [Debug]  4860: dll_path: C:\\home\\git\\polyglot\\deps\\The-Spiral-Language\\The Spiral Language 2\\artifacts\\bin\\The Spiral Language 2\\release\r\n",
      "05:20:23 #17 [Debug] sendJson / port: 13807 / json: {\"FileOpen\":{\"spiText\":\"inl app () =\\n    fsharp.console.write_line \\u0022error\\u0022\\n    1i32\\n\\ninl main () =\\n    app\\n    |\\u003E dyn\\n    |\\u003E ignore\\n\",\"uri\":\"file:///C:\\\\Users\\\\i574n\\\\AppData\\\\Local\\\\Temp\\\\!dotnet-repl\\\\20230802-0520-2263-6304-6683fe21da16\\\\main.spi\"}} / result: []\r\n",
      "05:20:23 #18 [Debug] sendJson / port: 13807 / json: {\"BuildFile\":{\"backend\":\"Fsharp\",\"uri\":\"file:///C:\\\\Users\\\\i574n\\\\AppData\\\\Local\\\\Temp\\\\!dotnet-repl\\\\20230802-0520-2263-6304-6683fe21da16\\\\main.spi\"}} / result: []\r\n",
      "05:20:23 #19 [Debug]  4860: Building C:\\Users\\i574n\\AppData\\Local\\Temp\\!dotnet-repl\\20230802-0520-2263-6304-6683fe21da16\\main.spi\r\n",
      "05:20:24 #20 [Debug] watchWithFilter / Disposing watch stream / fullPath: C:\\Users\\i574n\\AppData\\Local\\Temp\\!dotnet-repl\\20230802-0520-2263-6304-6683fe21da16 / filter: FileName, LastWrite\r\n",
      "FSharpOption<String>\r\n",
      "      Value: let rec closure0 () () : int32 =\n",
      "    let v0 : string = \"error\"\n",
      "    System.Console.WriteLine v0\n",
      "    1\n",
      "let v0 : (unit -> int32) = closure0()\n",
      "()\n",
      "\r\n"
     ]
    }
   ],
   "source": [
    "//// test\n",
    "\n",
    "\"\"\"inl app () =\n",
    "    fsharp.console.write_line \"error\"\n",
    "    1i32\n",
    "\n",
    "inl main () =\n",
    "    app\n",
    "    |> dyn\n",
    "    |> ignore\n",
    "\"\"\"\n",
    "|> compileCode 8000\n",
    "|> Async.runWithTimeout 8000\n",
    "|> Option.flatten\n",
    "|> _equal (Some \"\"\"let rec closure0 () () : int32 =\n",
    "    let v0 : string = \"error\"\n",
    "    System.Console.WriteLine v0\n",
    "    1\n",
    "let v0 : (unit -> int32) = closure0()\n",
    "()\n",
    "\"\"\")"
   ]
  },
  {
   "cell_type": "markdown",
   "metadata": {},
   "source": [
    "## Arguments"
   ]
  },
  {
   "cell_type": "code",
   "execution_count": null,
   "metadata": {
    "dotnet_interactive": {
     "language": "fsharp"
    },
    "polyglot_notebook": {
     "kernelName": "fsharp"
    }
   },
   "outputs": [],
   "source": [
    "[<RequireQualifiedAccess>]\n",
    "type Arguments =\n",
    "    | [<Argu.ArguAttributes.Mandatory>] BuildFile of string * string\n",
    "    | Timeout of int\n",
    "\n",
    "    interface Argu.IArgParserTemplate with\n",
    "        member s.Usage =\n",
    "            match s with\n",
    "            | BuildFile _ -> nameof Arguments.BuildFile\n",
    "            | Timeout _ -> nameof Arguments.Timeout"
   ]
  },
  {
   "cell_type": "markdown",
   "metadata": {},
   "source": [
    "## main"
   ]
  },
  {
   "cell_type": "code",
   "execution_count": null,
   "metadata": {
    "dotnet_interactive": {
     "language": "fsharp"
    },
    "polyglot_notebook": {
     "kernelName": "fsharp"
    }
   },
   "outputs": [],
   "source": [
    "\n",
    "let main args =\n",
    "    let argsMap = args |> Runtime.parseArgsMap<Arguments>\n",
    "\n",
    "    let inputPath, outputPath =\n",
    "        match argsMap.[nameof Arguments.BuildFile] with\n",
    "        | [ Arguments.BuildFile (inputPath, outputPath) ] -> Some (inputPath, outputPath)\n",
    "        | _ -> None\n",
    "        |> Option.get\n",
    "\n",
    "    let timeout =\n",
    "        match argsMap |> Map.tryFind (nameof Arguments.Timeout) with\n",
    "        | Some [ Arguments.Timeout timeout ] -> timeout\n",
    "        | _ -> 30000\n",
    "\n",
    "    async {\n",
    "        let! outputCode = inputPath |> compileFile timeout\n",
    "        match outputCode with\n",
    "        | Some outputCode ->\n",
    "            do! System.IO.File.WriteAllTextAsync (outputPath, outputCode) |> Async.AwaitTask\n",
    "            return 0\n",
    "        | None ->\n",
    "            return 1\n",
    "    }\n",
    "    |> Async.runWithTimeout timeout\n",
    "    |> Option.defaultValue 1"
   ]
  },
  {
   "cell_type": "code",
   "execution_count": null,
   "metadata": {
    "dotnet_interactive": {
     "language": "fsharp"
    },
    "polyglot_notebook": {
     "kernelName": "fsharp"
    }
   },
   "outputs": [
    {
     "data": {
      "text/html": [
       "<div class=\"dni-plaintext\"><pre>0</pre></div><style>\r\n",
       ".dni-code-hint {\r\n",
       "    font-style: italic;\r\n",
       "    overflow: hidden;\r\n",
       "    white-space: nowrap;\r\n",
       "}\r\n",
       ".dni-treeview {\r\n",
       "    white-space: nowrap;\r\n",
       "}\r\n",
       ".dni-treeview td {\r\n",
       "    vertical-align: top;\r\n",
       "    text-align: start;\r\n",
       "}\r\n",
       "details.dni-treeview {\r\n",
       "    padding-left: 1em;\r\n",
       "}\r\n",
       "table td {\r\n",
       "    text-align: start;\r\n",
       "}\r\n",
       "table tr { \r\n",
       "    vertical-align: top; \r\n",
       "    margin: 0em 0px;\r\n",
       "}\r\n",
       "table tr td pre \r\n",
       "{ \r\n",
       "    vertical-align: top !important; \r\n",
       "    margin: 0em 0px !important;\r\n",
       "} \r\n",
       "table th {\r\n",
       "    text-align: start;\r\n",
       "}\r\n",
       "</style>"
      ]
     },
     "metadata": {},
     "output_type": "display_data"
    }
   ],
   "source": [
    "//// test\n",
    "\n",
    "let args =\n",
    "    System.Environment.GetEnvironmentVariable \"ARGS\"\n",
    "    |> Runtime.splitArgs\n",
    "    |> Seq.toArray\n",
    "\n",
    "match args with\n",
    "| [||] -> 0\n",
    "| args -> if main args = 0 then 0 else failwith \"main failed\""
   ]
  }
 ],
 "metadata": {
  "kernelspec": {
   "display_name": ".NET (C#)",
   "language": "C#",
   "name": ".net-csharp"
  },
  "language_info": {
   "file_extension": ".cs",
   "mimetype": "text/x-csharp",
   "name": "C#",
   "pygments_lexer": "csharp",
   "version": "10.0"
  },
  "polyglot_notebook": {
   "defaultKernelName": "csharp",
   "items": [
    {
     "name": "csharp"
    }
   ]
  },
  "dotnet_interactive": {
   "defaultKernelName": "csharp",
   "items": [
    {
     "name": "csharp"
    }
   ]
  }
 },
 "nbformat": 4,
 "nbformat_minor": 5
}