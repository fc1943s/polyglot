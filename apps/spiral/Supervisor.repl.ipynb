{
 "cells": [
  {
   "cell_type": "markdown",
   "metadata": {
    "dotnet_repl_cellExecutionStartTime": "2023-07-29T02:13:02.823471-03:00",
    "dotnet_repl_cellExecutionEndTime": "2023-07-29T02:13:02.8844946-03:00",
    "dotnet_repl_cellExecutionTime": "61.2557ms"
   },
   "source": [
    "# Supervisor (Polyglot)"
   ]
  },
  {
   "cell_type": "code",
   "execution_count": null,
   "metadata": {
    "dotnet_repl_cellExecutionStartTime": "2023-07-29T02:13:02.8883117-03:00",
    "dotnet_repl_cellExecutionEndTime": "2023-07-29T02:13:09.2864736-03:00",
    "dotnet_repl_cellExecutionTime": "6.3981656s",
    "dotnet_interactive": {
     "language": "fsharp"
    },
    "polyglot_notebook": {
     "kernelName": "fsharp"
    }
   },
   "outputs": [],
   "source": [
    "#!import ../nbs/Testing.dib"
   ]
  },
  {
   "cell_type": "code",
   "execution_count": null,
   "metadata": {
    "dotnet_repl_cellExecutionStartTime": "2023-07-29T02:13:09.2865364-03:00",
    "dotnet_repl_cellExecutionEndTime": "2023-07-29T02:13:09.3145208-03:00",
    "dotnet_repl_cellExecutionTime": "27.9877ms",
    "dotnet_interactive": {
     "language": "fsharp"
    },
    "polyglot_notebook": {
     "kernelName": "fsharp"
    }
   },
   "outputs": [],
   "source": [
    "#r @\"../../../../../../../.nuget/packages/fsharp.control.asyncseq/3.2.1/lib/netstandard2.1/FSharp.Control.AsyncSeq.dll\"\n",
    "#r @\"../../../../../../../.nuget/packages/system.reactive/5.0.0/lib/net5.0/System.Reactive.dll\"\n",
    "#r @\"../../../../../../../.nuget/packages/system.reactive.linq/6.0.1-preview.1/lib/netstandard2.0/System.Reactive.Linq.dll\"\n",
    "\n",
    "#r @\"../../../../../../../.nuget/packages/asyncio/0.1.69/lib/netstandard2.0/AsyncIO.dll\"\n",
    "#r @\"../../../../../../../.nuget/packages/netmq/4.0.1.12/lib/netstandard2.1/NetMQ.dll\""
   ]
  },
  {
   "cell_type": "code",
   "execution_count": null,
   "metadata": {
    "dotnet_repl_cellExecutionStartTime": "2023-07-29T02:13:09.3145518-03:00",
    "dotnet_repl_cellExecutionEndTime": "2023-07-29T02:13:13.763347-03:00",
    "dotnet_repl_cellExecutionTime": "4.4487971s",
    "dotnet_interactive": {
     "language": "fsharp"
    },
    "polyglot_notebook": {
     "kernelName": "fsharp"
    }
   },
   "outputs": [],
   "source": [
    "#!import ../nbs/Common.fs\n",
    "#!import ../nbs/Async.fs\n",
    "#!import ../nbs/AsyncSeq.fs\n",
    "#!import ../nbs/Networking.fs\n",
    "#!import ../nbs/Runtime.fs\n",
    "#!import ../nbs/FileSystem.fs"
   ]
  },
  {
   "cell_type": "code",
   "execution_count": null,
   "metadata": {
    "dotnet_repl_cellExecutionStartTime": "2023-07-29T02:13:13.7634142-03:00",
    "dotnet_repl_cellExecutionEndTime": "2023-07-29T02:13:13.7712015-03:00",
    "dotnet_repl_cellExecutionTime": "7.7891ms",
    "dotnet_interactive": {
     "language": "fsharp"
    },
    "polyglot_notebook": {
     "kernelName": "fsharp"
    }
   },
   "outputs": [],
   "source": [
    "open Common\n",
    "open FileSystem"
   ]
  },
  {
   "cell_type": "code",
   "execution_count": null,
   "metadata": {
    "dotnet_repl_cellExecutionStartTime": "2023-07-29T02:13:13.7712344-03:00",
    "dotnet_repl_cellExecutionEndTime": "2023-07-29T02:13:13.8973868-03:00",
    "dotnet_repl_cellExecutionTime": "126.1542ms",
    "dotnet_interactive": {
     "language": "fsharp"
    },
    "polyglot_notebook": {
     "kernelName": "fsharp"
    }
   },
   "outputs": [],
   "source": [
    "let inline sendJson (port : int) (json : string) = async {\n",
    "    let! portOpen = Networking.testPortOpen port\n",
    "    if portOpen then\n",
    "        // use runtime = new NetMQ.NetMQRuntime ()\n",
    "        use request = new NetMQ.Sockets.RequestSocket ()\n",
    "        request.Connect $\"tcp://127.0.0.1:{port}\"\n",
    "\n",
    "        let msg = NetMQ.NetMQMessage ()\n",
    "        msg.Append json\n",
    "        \n",
    "        NetMQ.OutgoingSocketExtensions.SendMultipartMessage (request, msg)\n",
    "        let result = NetMQ.ReceivingSocketExtensions.ReceiveMultipartMessage (request, 10)\n",
    "        // let! result = NetMQ.AsyncReceiveExtensions.ReceiveMultipartMessageAsync (request, 10) |> Async.AwaitTask\n",
    "        let result = result |> Seq.toList |> List.map (fun x -> x.ConvertToString ())\n",
    "        trace Debug (fun () -> $\"sendJson / port: {port} / json: {json} / result: {result}\") getLocals\n",
    "        return true\n",
    "    else\n",
    "        trace Debug (fun () -> \"sendJson / error: port not open\") getLocals\n",
    "        return false\n",
    "}"
   ]
  },
  {
   "cell_type": "code",
   "execution_count": null,
   "metadata": {
    "dotnet_repl_cellExecutionStartTime": "2023-07-29T02:13:13.89743-03:00",
    "dotnet_repl_cellExecutionEndTime": "2023-07-29T02:13:14.0011068-03:00",
    "dotnet_repl_cellExecutionTime": "103.6788ms",
    "dotnet_interactive": {
     "language": "fsharp"
    },
    "polyglot_notebook": {
     "kernelName": "fsharp"
    }
   },
   "outputs": [],
   "source": [
    "let inline sendObj port obj =\n",
    "    let json = System.Text.Json.JsonSerializer.Serialize obj\n",
    "    sendJson port json"
   ]
  },
  {
   "cell_type": "code",
   "execution_count": null,
   "metadata": {
    "dotnet_repl_cellExecutionStartTime": "2023-07-29T02:13:14.0011459-03:00",
    "dotnet_repl_cellExecutionEndTime": "2023-07-29T02:13:15.6098421-03:00",
    "dotnet_repl_cellExecutionTime": "1.6086991s",
    "dotnet_interactive": {
     "language": "fsharp"
    },
    "polyglot_notebook": {
     "kernelName": "fsharp"
    }
   },
   "outputs": [],
   "source": [
    "let inline compile code = async {\n",
    "    let tempDir = FileSystem.createTempDirectory ()\n",
    "\n",
    "    let inline writeCode fileName code =\n",
    "        let filePath = tempDir </> fileName\n",
    "        System.IO.File.WriteAllText (filePath, code)\n",
    "\n",
    "    code\n",
    "    |> writeCode \"main.spi\"\n",
    "\n",
    "    \"packages:\\n    |core-\\nmodules:\\n    main\"\n",
    "    |> writeCode \"package.spiproj\"\n",
    "\n",
    "    let stream, disposable = FileSystem.watchDirectory true tempDir\n",
    "\n",
    "    let e = Event<_> ()\n",
    "\n",
    "    let! _ =\n",
    "        stream\n",
    "        |> FSharp.Control.AsyncSeq.iterAsyncParallel (fun event -> async {\n",
    "            // trace Debug (fun () -> $\"event: {event}\") getLocals\n",
    "            match event with\n",
    "            | _ticks, FileSystemChange.Changed (\"main.fsx\", Some content) ->\n",
    "                e.Trigger content\n",
    "                disposable.Dispose ()\n",
    "            | _ -> ()\n",
    "        })\n",
    "        |> Async.StartChild\n",
    "\n",
    "    let port = 13805\n",
    "\n",
    "    let! _ =\n",
    "        async {\n",
    "            let! availablePort = Networking.getAvailablePort (Some 60) port\n",
    "            if availablePort = port then\n",
    "                let compilerPath =\n",
    "                    \"../../deps/The-Spiral-Language/The Spiral Language 2/artifacts/bin/The Spiral Language 2/release\"\n",
    "                    |> Path.GetFullPath\n",
    "\n",
    "                let dllPath = compilerPath </> \"Spiral.dll\"\n",
    "                // let commandsPath = compilerPath </> \"compiler/supervisor/commands\"\n",
    "\n",
    "                let! exitCode, result = Runtime.executeAsync $@\"dotnet \"\"{dllPath}\"\" port={port}\"\n",
    "                trace Debug (fun () -> $\"startSupervisor / exitCode: {exitCode} / result: {result}\") getLocals\n",
    "        }\n",
    "        |> Async.StartChild\n",
    "\n",
    "    let inline getFileUri path =\n",
    "        $\"file:///{path}\"\n",
    "\n",
    "    let mainPath = tempDir </> \"main.spi\"\n",
    "\n",
    "    let! mainText = mainPath |> System.IO.File.ReadAllTextAsync |> Async.AwaitTask\n",
    "\n",
    "    let fileOpenObj = {| FileOpen = {| uri = mainPath |> getFileUri; spiText = mainText |} |}\n",
    "    let! fileOpenResult = fileOpenObj |> sendObj port\n",
    "\n",
    "    let buildFileObj = {| BuildFile = {| uri = mainPath |> getFileUri; backend = \"Fsharp\" |} |}\n",
    "    let! buildFileResult = buildFileObj |> sendObj port\n",
    "\n",
    "    let! content = Async.AwaitEvent e.Publish\n",
    "    return content |> String.replace \"\\r\\n\" \"\\n\"\n",
    "}"
   ]
  },
  {
   "cell_type": "code",
   "execution_count": null,
   "metadata": {
    "dotnet_repl_cellExecutionStartTime": "2023-07-29T02:13:15.6099082-03:00",
    "dotnet_repl_cellExecutionEndTime": "2023-07-29T02:13:18.9638745-03:00",
    "dotnet_repl_cellExecutionTime": "3.3539687s",
    "dotnet_interactive": {
     "language": "fsharp"
    },
    "polyglot_notebook": {
     "kernelName": "fsharp"
    }
   },
   "outputs": [
    {
     "name": "stdout",
     "output_type": "stream",
     "text": [
      "02:13:17 #1 [Debug] createTempDirectory / tempFolder: C:\\Users\\i574n\\AppData\\Local\\Temp\\!dotnet-repl\\20230729-0213-1706-0600-0e1b619a3e15 / result: { CreationTime = 2023-07-29 2:13:17 AM\n",
      "  Exists = true }\r\n",
      "02:13:17 #2 [Debug] runWithTimeoutAsync / timeout: 60\r\n",
      "02:13:17 #3 [Debug] executeAsync / workingDirectory: . / fileName: dotnet / arguments: \"C:\\home\\git\\polyglot\\deps\\The-Spiral-Language\\The Spiral Language 2\\artifacts\\bin\\The Spiral Language 2\\release\\Spiral.dll\" port=13805\r\n",
      "02:13:17 #4 [Debug]  34612: Server bound to: tcp://*:13805 & tcp://*:13806 / workingDirectory: . / fileName: dotnet / arguments: \"C:\\home\\git\\polyglot\\deps\\The-Spiral-Language\\The Spiral Language 2\\artifacts\\bin\\The Spiral Language 2\\release\\Spiral.dll\" port=13805\r\n",
      "02:13:17 #5 [Debug]  34612: pwd: C:\\home\\git\\polyglot\\apps\\spiral / workingDirectory: . / fileName: dotnet / arguments: \"C:\\home\\git\\polyglot\\deps\\The-Spiral-Language\\The Spiral Language 2\\artifacts\\bin\\The Spiral Language 2\\release\\Spiral.dll\" port=13805\r\n",
      "02:13:17 #6 [Debug]  34612: dll_path: C:\\home\\git\\polyglot\\deps\\The-Spiral-Language\\The Spiral Language 2\\artifacts\\bin\\The Spiral Language 2\\release / workingDirectory: . / fileName: dotnet / arguments: \"C:\\home\\git\\polyglot\\deps\\The-Spiral-Language\\The Spiral Language 2\\artifacts\\bin\\The Spiral Language 2\\release\\Spiral.dll\" port=13805\r\n",
      "02:13:17 #7 [Debug] sendJson / port: 13805 / json: {\"FileOpen\":{\"spiText\":\"inl app () =\\n    0i32\\n\\ninl main () =\\n    app\\n    |\\u003E dyn\\n    |\\u003E ignore\\n\",\"uri\":\"file:///C:\\\\Users\\\\i574n\\\\AppData\\\\Local\\\\Temp\\\\!dotnet-repl\\\\20230729-0213-1706-0600-0e1b619a3e15\\\\main.spi\"}} / result: []\r\n",
      "02:13:17 #8 [Debug] sendJson / port: 13805 / json: {\"BuildFile\":{\"backend\":\"Fsharp\",\"uri\":\"file:///C:\\\\Users\\\\i574n\\\\AppData\\\\Local\\\\Temp\\\\!dotnet-repl\\\\20230729-0213-1706-0600-0e1b619a3e15\\\\main.spi\"}} / result: []\r\n",
      "02:13:18 #9 [Debug]  34612: Building C:\\Users\\i574n\\AppData\\Local\\Temp\\!dotnet-repl\\20230729-0213-1706-0600-0e1b619a3e15\\main.spi / workingDirectory: . / fileName: dotnet / arguments: \"C:\\home\\git\\polyglot\\deps\\The-Spiral-Language\\The Spiral Language 2\\artifacts\\bin\\The Spiral Language 2\\release\\Spiral.dll\" port=13805\r\n",
      "02:13:18 #10 [Debug] watchWithFilter / Disposing watch stream / fullPath: C:\\Users\\i574n\\AppData\\Local\\Temp\\!dotnet-repl\\20230729-0213-1706-0600-0e1b619a3e15 / filter: FileName, LastWrite\r\n",
      "02:13:18 #11 [Debug] watchWithFilter / Disposing watch stream / fullPath: C:\\Users\\i574n\\AppData\\Local\\Temp\\!dotnet-repl\\20230729-0213-1706-0600-0e1b619a3e15 / filter: FileName, LastWrite\r\n",
      "FSharpOption<String>\r\n",
      "      Value: let rec closure0 () () : int32 =\n",
      "    0\n",
      "let v0 : (unit -> int32) = closure0()\n",
      "()\n",
      "\r\n"
     ]
    }
   ],
   "source": [
    "//// test\n",
    "\n",
    "\n",
    "\"\"\"inl app () =\n",
    "    0i32\n",
    "\n",
    "inl main () =\n",
    "    app\n",
    "    |> dyn\n",
    "    |> ignore\n",
    "\"\"\"\n",
    "|> compile\n",
    "|> Async.runWithTimeout 6000\n",
    "|> _equal (Some \"\"\"let rec closure0 () () : int32 =\n",
    "    0\n",
    "let v0 : (unit -> int32) = closure0()\n",
    "()\n",
    "\"\"\")"
   ]
  },
  {
   "cell_type": "code",
   "execution_count": null,
   "metadata": {
    "dotnet_repl_cellExecutionStartTime": "2023-07-29T02:13:18.9639236-03:00",
    "dotnet_repl_cellExecutionEndTime": "2023-07-29T02:13:23.0464384-03:00",
    "dotnet_repl_cellExecutionTime": "4.0825172s",
    "dotnet_interactive": {
     "language": "fsharp"
    },
    "polyglot_notebook": {
     "kernelName": "fsharp"
    }
   },
   "outputs": [
    {
     "name": "stdout",
     "output_type": "stream",
     "text": [
      "02:13:21 #12 [Debug] createTempDirectory / tempFolder: C:\\Users\\i574n\\AppData\\Local\\Temp\\!dotnet-repl\\20230729-0213-2127-2712-2be3874f99d5 / result: { CreationTime = 2023-07-29 2:13:21 AM\n",
      "  Exists = true }\r\n",
      "02:13:21 #13 [Debug] runWithTimeoutAsync / timeout: 60\r\n",
      "02:13:21 #14 [Debug] executeAsync / workingDirectory: . / fileName: dotnet / arguments: \"C:\\home\\git\\polyglot\\deps\\The-Spiral-Language\\The Spiral Language 2\\artifacts\\bin\\The Spiral Language 2\\release\\Spiral.dll\" port=13805\r\n",
      "02:13:21 #15 [Debug]  25808: Server bound to: tcp://*:13805 & tcp://*:13806 / workingDirectory: . / fileName: dotnet / arguments: \"C:\\home\\git\\polyglot\\deps\\The-Spiral-Language\\The Spiral Language 2\\artifacts\\bin\\The Spiral Language 2\\release\\Spiral.dll\" port=13805\r\n",
      "02:13:21 #16 [Debug]  25808: pwd: C:\\home\\git\\polyglot\\apps\\spiral / workingDirectory: . / fileName: dotnet / arguments: \"C:\\home\\git\\polyglot\\deps\\The-Spiral-Language\\The Spiral Language 2\\artifacts\\bin\\The Spiral Language 2\\release\\Spiral.dll\" port=13805\r\n",
      "02:13:21 #17 [Debug]  25808: dll_path: C:\\home\\git\\polyglot\\deps\\The-Spiral-Language\\The Spiral Language 2\\artifacts\\bin\\The Spiral Language 2\\release / workingDirectory: . / fileName: dotnet / arguments: \"C:\\home\\git\\polyglot\\deps\\The-Spiral-Language\\The Spiral Language 2\\artifacts\\bin\\The Spiral Language 2\\release\\Spiral.dll\" port=13805\r\n",
      "02:13:21 #18 [Debug] sendJson / port: 13805 / json: {\"FileOpen\":{\"spiText\":\"inl write_line ~obj : () =\\n    $\\u0022System.Console.WriteLine !obj\\u0022\\n\\ninl app () =\\n    write_line \\u0022error\\u0022\\n    1i32\\n\\ninl main () =\\n    app\\n    |\\u003E dyn\\n    |\\u003E ignore\\n\",\"uri\":\"file:///C:\\\\Users\\\\i574n\\\\AppData\\\\Local\\\\Temp\\\\!dotnet-repl\\\\20230729-0213-2127-2712-2be3874f99d5\\\\main.spi\"}} / result: []\r\n",
      "02:13:21 #19 [Debug] sendJson / port: 13805 / json: {\"BuildFile\":{\"backend\":\"Fsharp\",\"uri\":\"file:///C:\\\\Users\\\\i574n\\\\AppData\\\\Local\\\\Temp\\\\!dotnet-repl\\\\20230729-0213-2127-2712-2be3874f99d5\\\\main.spi\"}} / result: []\r\n",
      "02:13:22 #20 [Debug]  25808: Building C:\\Users\\i574n\\AppData\\Local\\Temp\\!dotnet-repl\\20230729-0213-2127-2712-2be3874f99d5\\main.spi / workingDirectory: . / fileName: dotnet / arguments: \"C:\\home\\git\\polyglot\\deps\\The-Spiral-Language\\The Spiral Language 2\\artifacts\\bin\\The Spiral Language 2\\release\\Spiral.dll\" port=13805\r\n",
      "02:13:23 #21 [Debug] watchWithFilter / Disposing watch stream / fullPath: C:\\Users\\i574n\\AppData\\Local\\Temp\\!dotnet-repl\\20230729-0213-2127-2712-2be3874f99d5 / filter: FileName, LastWrite\r\n",
      "02:13:23 #22 [Debug] watchWithFilter / Disposing watch stream / fullPath: C:\\Users\\i574n\\AppData\\Local\\Temp\\!dotnet-repl\\20230729-0213-2127-2712-2be3874f99d5 / filter: FileName, LastWrite\r\n",
      "FSharpOption<String>\r\n",
      "      Value: let rec closure0 () () : int32 =\n",
      "    let v0 : string = \"error\"\n",
      "    System.Console.WriteLine v0\n",
      "    1\n",
      "let v0 : (unit -> int32) = closure0()\n",
      "()\n",
      "\r\n"
     ]
    }
   ],
   "source": [
    "//// test\n",
    "\n",
    "\n",
    "\"\"\"inl write_line ~obj : () =\n",
    "    $\"System.Console.WriteLine !obj\"\n",
    "\n",
    "inl app () =\n",
    "    write_line \"error\"\n",
    "    1i32\n",
    "\n",
    "inl main () =\n",
    "    app\n",
    "    |> dyn\n",
    "    |> ignore\n",
    "\"\"\"\n",
    "|> compile\n",
    "|> Async.runWithTimeout 6000\n",
    "|> _equal (Some \"\"\"let rec closure0 () () : int32 =\n",
    "    let v0 : string = \"error\"\n",
    "    System.Console.WriteLine v0\n",
    "    1\n",
    "let v0 : (unit -> int32) = closure0()\n",
    "()\n",
    "\"\"\")"
   ]
  }
 ],
 "metadata": {
  "kernelspec": {
   "display_name": ".NET (C#)",
   "language": "C#",
   "name": ".net-csharp"
  },
  "language_info": {
   "file_extension": ".cs",
   "mimetype": "text/x-csharp",
   "name": "C#",
   "pygments_lexer": "csharp",
   "version": "10.0"
  },
  "polyglot_notebook": {
   "defaultKernelName": "csharp",
   "items": [
    {
     "name": "csharp"
    }
   ]
  },
  "dotnet_interactive": {
   "defaultKernelName": "csharp",
   "items": [
    {
     "name": "csharp"
    }
   ]
  }
 },
 "nbformat": 4,
 "nbformat_minor": 5
}