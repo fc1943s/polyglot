{
 "cells": [
  {
   "cell_type": "markdown",
   "metadata": {},
   "source": [
    "# Supervisor (Polyglot)"
   ]
  },
  {
   "cell_type": "code",
   "execution_count": null,
   "metadata": {
    "dotnet_interactive": {
     "language": "fsharp"
    },
    "polyglot_notebook": {
     "kernelName": "fsharp"
    }
   },
   "outputs": [],
   "source": [
    "#!import ../nbs/Testing.dib"
   ]
  },
  {
   "cell_type": "code",
   "execution_count": null,
   "metadata": {
    "dotnet_interactive": {
     "language": "fsharp"
    },
    "polyglot_notebook": {
     "kernelName": "fsharp"
    }
   },
   "outputs": [],
   "source": [
    "#r @\"../../../../../../../.nuget/packages/fsharp.control.asyncseq/3.2.1/lib/netstandard2.1/FSharp.Control.AsyncSeq.dll\"\n",
    "#r @\"../../../../../../../.nuget/packages/system.reactive/6.0.1-preview.1/lib/net6.0/System.Reactive.dll\"\n",
    "#r @\"../../../../../../../.nuget/packages/system.reactive.linq/6.0.1-preview.1/lib/netstandard2.0/System.Reactive.Linq.dll\"\n",
    "#r @\"../../../../../../../.nuget/packages/argu/6.1.1/lib/netstandard2.0/Argu.dll\"\n",
    "#r @\"../../../../../../../.nuget/packages/system.commandline/2.0.0-beta4.22272.1/lib/net6.0/System.CommandLine.dll\"\n",
    "#r @\"../../../../../../../.nuget/packages/asyncio/0.1.69/lib/netstandard2.0/AsyncIO.dll\"\n",
    "#r @\"../../../../../../../.nuget/packages/netmq/4.0.1.13/lib/netstandard2.1/NetMQ.dll\"\n",
    "#r @\"../../../../../../../.nuget/packages/fsharp.json/0.4.1/lib/netstandard2.0/FSharp.Json.dll\""
   ]
  },
  {
   "cell_type": "code",
   "execution_count": null,
   "metadata": {
    "dotnet_interactive": {
     "language": "fsharp"
    },
    "polyglot_notebook": {
     "kernelName": "fsharp"
    }
   },
   "outputs": [],
   "source": [
    "#!import ../nbs/Common.fs\n",
    "#!import ../nbs/CommonFSharp.fs\n",
    "#!import ../nbs/Async.fs\n",
    "#!import ../nbs/AsyncSeq.fs\n",
    "#!import ../nbs/Networking.fs\n",
    "#!import ../nbs/Runtime.fs\n",
    "#!import ../nbs/FileSystem.fs"
   ]
  },
  {
   "cell_type": "code",
   "execution_count": null,
   "metadata": {
    "dotnet_interactive": {
     "language": "fsharp"
    },
    "polyglot_notebook": {
     "kernelName": "fsharp"
    }
   },
   "outputs": [],
   "source": [
    "open Common\n",
    "open FileSystem"
   ]
  },
  {
   "cell_type": "markdown",
   "metadata": {},
   "source": [
    "## sendJson"
   ]
  },
  {
   "cell_type": "code",
   "execution_count": null,
   "metadata": {
    "dotnet_interactive": {
     "language": "fsharp"
    },
    "polyglot_notebook": {
     "kernelName": "fsharp"
    }
   },
   "outputs": [],
   "source": [
    "let inline sendJson (port : int) (json : string) = async {\n",
    "    let! portOpen = Networking.testPortOpen port\n",
    "    if portOpen then\n",
    "        // use runtime = new NetMQ.NetMQRuntime ()\n",
    "        use request = new NetMQ.Sockets.RequestSocket ()\n",
    "        request.Connect $\"tcp://127.0.0.1:{port}\"\n",
    "\n",
    "        let msg = NetMQ.NetMQMessage ()\n",
    "        msg.Append json\n",
    "\n",
    "        NetMQ.OutgoingSocketExtensions.SendMultipartMessage (request, msg)\n",
    "        let result = NetMQ.ReceivingSocketExtensions.ReceiveMultipartMessage (request, 10)\n",
    "        // let! result = NetMQ.AsyncReceiveExtensions.ReceiveMultipartMessageAsync (request, 10) |> Async.AwaitTask\n",
    "        let resultString = result |> Seq.map (fun x -> x.ConvertToString ()) |> String.concat \"\"\n",
    "        trace Debug (fun () -> $\"sendJson / port: {port} / json: {json} / result.FrameCount: {result.FrameCount} / resultString.Length: {resultString.Length}\") getLocals\n",
    "        return Some resultString\n",
    "    else\n",
    "        trace Debug (fun () -> \"sendJson / error: port not open\") getLocals\n",
    "        return None\n",
    "}"
   ]
  },
  {
   "cell_type": "markdown",
   "metadata": {},
   "source": [
    "## sendObj"
   ]
  },
  {
   "cell_type": "code",
   "execution_count": null,
   "metadata": {
    "dotnet_interactive": {
     "language": "fsharp"
    },
    "polyglot_notebook": {
     "kernelName": "fsharp"
    }
   },
   "outputs": [],
   "source": [
    "let inline sendObj port obj =\n",
    "    obj\n",
    "    |> System.Text.Json.JsonSerializer.Serialize\n",
    "    |> sendJson port"
   ]
  },
  {
   "cell_type": "markdown",
   "metadata": {},
   "source": [
    "## awaitCompiler"
   ]
  },
  {
   "cell_type": "code",
   "execution_count": null,
   "metadata": {
    "dotnet_interactive": {
     "language": "fsharp"
    },
    "polyglot_notebook": {
     "kernelName": "fsharp"
    }
   },
   "outputs": [],
   "source": [
    "type VSCPos = {| line : int; character : int |}\n",
    "type VSCRange = VSCPos * VSCPos\n",
    "type RString = VSCRange * string\n",
    "type TracedError = {| trace : string list; message : string |}\n",
    "type ClientErrorsRes =\n",
    "    | FatalError of string\n",
    "    | TracedError of TracedError\n",
    "    | PackageErrors of {| uri : string; errors : RString list |}\n",
    "    | TokenizerErrors of {| uri : string; errors : RString list |}\n",
    "    | ParserErrors of {| uri : string; errors : RString list |}\n",
    "    | TypeErrors of {| uri : string; errors : RString list |}"
   ]
  },
  {
   "cell_type": "code",
   "execution_count": null,
   "metadata": {
    "dotnet_interactive": {
     "language": "fsharp"
    },
    "polyglot_notebook": {
     "kernelName": "fsharp"
    }
   },
   "outputs": [],
   "source": [
    "let inline awaitCompiler port cancellationToken = async {\n",
    "    let! ct =\n",
    "        cancellationToken\n",
    "        |> Option.defaultValue System.Threading.CancellationToken.None\n",
    "        |> Async.mergeCancellationTokenWithDefaultAsync\n",
    "\n",
    "    let compiler = MailboxProcessor.Start (fun inbox -> async {\n",
    "        let! availablePort = Networking.getAvailablePort (Some 60) port\n",
    "        if port = 13805 && availablePort <> port then\n",
    "            let pingObj = {| Ping = true |}\n",
    "            let! pingResult = pingObj |> sendObj port\n",
    "            inbox.Post port\n",
    "        else\n",
    "            let repositoryRoot = FileSystem.getSourceDirectory () |> FileSystem.findParent \".paket\" false\n",
    "\n",
    "            let compilerPath =\n",
    "                repositoryRoot </> \"deps/The-Spiral-Language/The Spiral Language 2/artifacts/bin/The Spiral Language 2/release\"\n",
    "                |> System.IO.Path.GetFullPath\n",
    "\n",
    "            let dllPath = compilerPath </> \"Spiral.dll\"\n",
    "            // let commandsPath = compilerPath </> \"compiler/supervisor/commands\"\n",
    "\n",
    "            let! exitCode, result =\n",
    "                Runtime.executeWithOptionsAsync\n",
    "                    {\n",
    "                        Command = $@\"dotnet \"\"{dllPath}\"\" port={availablePort}\"\n",
    "                        CancellationToken = Some ct\n",
    "                        WorkingDirectory = None\n",
    "                        OnLine = Some <| fun { Line = line } -> async {\n",
    "                            if line |> String.contains $\"Server bound to: tcp://*:{availablePort}\"\n",
    "                            then inbox.Post availablePort\n",
    "                        }\n",
    "                    }\n",
    "            trace Debug (fun () -> $\"startSupervisor / exitCode: {exitCode} / result: {result}\") getLocals\n",
    "    }, ct)\n",
    "\n",
    "    let! serverPort = compiler.Receive ()\n",
    "\n",
    "    let request = new NetMQ.Sockets.SubscriberSocket ()\n",
    "    request.SubscribeToAnyTopic ()\n",
    "    request.Connect $\"tcp://127.0.0.1:{serverPort + 1}\"\n",
    "\n",
    "    let rec loop i = async {\n",
    "        let result = NetMQ.ReceivingSocketExtensions.ReceiveMultipartMessage (request, 10)\n",
    "        // let! result = NetMQ.AsyncReceiveExtensions.ReceiveMultipartMessageAsync (request, 10) |> Async.AwaitTask\n",
    "        return\n",
    "            result\n",
    "            |> Seq.map (fun x -> x.ConvertToString ())\n",
    "            |> String.concat \"\"\n",
    "            |> FSharp.Json.Json.deserialize<ClientErrorsRes>\n",
    "    }\n",
    "\n",
    "    return serverPort, loop |> FSharp.Control.AsyncSeq.initInfiniteAsync, (request :> System.IDisposable)\n",
    "}"
   ]
  },
  {
   "cell_type": "markdown",
   "metadata": {},
   "source": [
    "## getFileUri"
   ]
  },
  {
   "cell_type": "code",
   "execution_count": null,
   "metadata": {
    "dotnet_interactive": {
     "language": "fsharp"
    },
    "polyglot_notebook": {
     "kernelName": "fsharp"
    }
   },
   "outputs": [],
   "source": [
    "let inline getFileUri path =\n",
    "    $\"file:///{path |> String.trimStart [| '/' |]}\""
   ]
  },
  {
   "cell_type": "code",
   "execution_count": null,
   "metadata": {
    "dotnet_interactive": {
     "language": "fsharp"
    },
    "polyglot_notebook": {
     "kernelName": "fsharp"
    }
   },
   "outputs": [],
   "source": [
    "let inline getFilePathFromUri uri =\n",
    "    match System.Uri.TryCreate (uri, System.UriKind.Absolute) with\n",
    "    | true, uri -> uri.AbsolutePath |> System.IO.Path.GetFullPath\n",
    "    | _ -> failwith \"invalid uri\""
   ]
  },
  {
   "cell_type": "markdown",
   "metadata": {},
   "source": [
    "## buildFile"
   ]
  },
  {
   "cell_type": "code",
   "execution_count": null,
   "metadata": {
    "dotnet_interactive": {
     "language": "fsharp"
    },
    "polyglot_notebook": {
     "kernelName": "fsharp"
    }
   },
   "outputs": [],
   "source": [
    "let inline buildFile timeout cancellationToken path = async {\n",
    "    let fullPath = path |> System.IO.Path.GetFullPath\n",
    "    let fileDir = fullPath |> System.IO.Path.GetDirectoryName\n",
    "    let fileName = fullPath |> System.IO.Path.GetFileNameWithoutExtension\n",
    "    let! code = fullPath |> FileSystem.readAllTextAsync\n",
    "\n",
    "    let stream, disposable = FileSystem.watchDirectory true fileDir\n",
    "    use _ = disposable\n",
    "\n",
    "    let port =\n",
    "        if fullPath |> String.startsWith (System.IO.Path.GetTempPath ())\n",
    "            && fullPath |> String.contains \"Microsoft.DotNet.Interactive.App\" |> not\n",
    "        then 13807\n",
    "        else 13805\n",
    "\n",
    "    let! serverPort, errors, disposable = awaitCompiler port cancellationToken\n",
    "    use _ = disposable\n",
    "\n",
    "    let fsxContentSeq =\n",
    "        stream\n",
    "        |> FSharp.Control.AsyncSeq.choose (function\n",
    "            | _, FileSystemChange.Changed (path, Some content) when path = $\"{fileName}.fsx\" -> Some content\n",
    "            | _ -> None\n",
    "        )\n",
    "        |> FSharp.Control.AsyncSeq.map (fun content ->\n",
    "            Some (content |> String.replace \"\\r\\n\" \"\\n\"), None\n",
    "        )\n",
    "\n",
    "    let inline printErrorData (data : {| uri : string; errors : RString list |}) =\n",
    "        let fileName = data.uri |> System.IO.Path.GetFileName\n",
    "        let errors =\n",
    "            data.errors\n",
    "            |> List.map snd\n",
    "            |> String.concat \"\\n\"\n",
    "        $\"{fileName}:\\n{errors}\"\n",
    "\n",
    "    let errorsSeq =\n",
    "        errors\n",
    "        |> FSharp.Control.AsyncSeq.choose (fun error ->\n",
    "            match error with\n",
    "            | FatalError message ->\n",
    "                Some (message, true, error)\n",
    "            | TracedError data ->\n",
    "                Some (data.message, true, error)\n",
    "            | PackageErrors data when data.errors |> List.isEmpty |> not ->\n",
    "                Some (data |> printErrorData, true, error)\n",
    "            | TokenizerErrors data when data.errors |> List.isEmpty |> not ->\n",
    "                Some (data |> printErrorData, true, error)\n",
    "            | ParserErrors data when data.errors |> List.isEmpty |> not ->\n",
    "                Some (data |> printErrorData, false, error)\n",
    "            | TypeErrors data when data.errors |> List.isEmpty |> not ->\n",
    "                Some (data |> printErrorData, true, error)\n",
    "            | _ -> None\n",
    "        )\n",
    "        |> FSharp.Control.AsyncSeq.map (fun (message, fatal, error) ->\n",
    "            None, Some (message, fatal, error)\n",
    "        )\n",
    "\n",
    "    let outputSeq =\n",
    "        [fsxContentSeq; errorsSeq]\n",
    "        |> FSharp.Control.AsyncSeq.mergeAll\n",
    "\n",
    "    let! outputChild =\n",
    "        ((None, [], None), outputSeq)\n",
    "        ||> FSharp.Control.AsyncSeq.scan (\n",
    "            fun (fsxContentResult, errors, firstErrorTicks) (fsxContent, error) ->\n",
    "                match fsxContent, error with\n",
    "                | Some fsxContent, None -> Some fsxContent, errors, firstErrorTicks\n",
    "                | None, Some (message, fatal, error) ->\n",
    "                    fsxContentResult,\n",
    "                    (message, error) :: errors,\n",
    "                    firstErrorTicks\n",
    "                    |> Option.defaultWith (fun () ->\n",
    "                        if fatal\n",
    "                        then System.DateTime.MinValue.Ticks\n",
    "                        else System.DateTime.Now.Ticks\n",
    "                    )\n",
    "                    |> Some\n",
    "                | _ -> fsxContentResult, errors, firstErrorTicks\n",
    "        )\n",
    "        |> FSharp.Control.AsyncSeq.takeWhileInclusive (fun (fsxContent, errors, firstErrorTicks) ->\n",
    "            let firstErrorMs =\n",
    "                firstErrorTicks\n",
    "                |> Option.map (fun t -> System.TimeSpan(System.DateTime.Now.Ticks - t).TotalMilliseconds)\n",
    "            trace Debug (fun () -> $\"buildFile / fsxContent: {fsxContent} / errors: {errors} / firstErrorMs: {firstErrorMs}\") getLocals\n",
    "            match fsxContent, errors, firstErrorMs with\n",
    "            | None, [], _ -> true\n",
    "            | None, _, Some firstErrorMs when firstErrorMs < 2000. -> true\n",
    "            | _ -> false\n",
    "        )\n",
    "        |> FSharp.Control.AsyncSeq.map (fun (fsxContent, errors, _) ->\n",
    "            fsxContent, errors |> List.distinct\n",
    "        )\n",
    "        |> FSharp.Control.AsyncSeq.tryLast\n",
    "        |> Async.runWithTimeoutAsync timeout\n",
    "        |> Async.StartChild\n",
    "\n",
    "    let fileOpenObj = {| FileOpen = {| uri = fullPath |> getFileUri; spiText = code |} |}\n",
    "    let! fileOpenResult = fileOpenObj |> sendObj serverPort\n",
    "\n",
    "    let buildFileObj = {| BuildFile = {| uri = fullPath |> getFileUri; backend = \"Fsharp\" |} |}\n",
    "    let! buildFileResult = buildFileObj |> sendObj serverPort\n",
    "\n",
    "    return!\n",
    "        outputChild\n",
    "        |> Async.map (Option.flatten >> Option.defaultValue (None, []))\n",
    "}"
   ]
  },
  {
   "cell_type": "markdown",
   "metadata": {},
   "source": [
    "## persistCode"
   ]
  },
  {
   "cell_type": "code",
   "execution_count": null,
   "metadata": {
    "dotnet_interactive": {
     "language": "fsharp"
    },
    "polyglot_notebook": {
     "kernelName": "fsharp"
    }
   },
   "outputs": [],
   "source": [
    "let inline persistCode timeout cancellationToken code = async {\n",
    "    let tempDir = FileSystem.createTempDirectory ()\n",
    "\n",
    "    let mainPath = tempDir </> \"main.spi\"\n",
    "    do! code |> FileSystem.writeAllTextAsync mainPath\n",
    "\n",
    "    let repositoryRoot = FileSystem.getSourceDirectory () |> FileSystem.findParent \".paket\" false\n",
    "\n",
    "    let spiprojPath = tempDir </> \"package.spiproj\"\n",
    "    let spiprojCode =\n",
    "        $\"\"\"packageDir: {repositoryRoot </> \"spiral\"}\n",
    "packages:\n",
    "    |core-\n",
    "    fsharp\n",
    "modules:\n",
    "    main\n",
    "\"\"\"\n",
    "    do! spiprojCode |> FileSystem.writeAllTextAsync spiprojPath\n",
    "\n",
    "    let disposable = newDisposable (fun () ->\n",
    "        ()\n",
    "        // tempDir |> FileSystem.deleteDirectoryAsync |> Async.Ignore |> Async.RunSynchronously\n",
    "    )\n",
    "\n",
    "    return mainPath, disposable\n",
    "}"
   ]
  },
  {
   "cell_type": "markdown",
   "metadata": {},
   "source": [
    "## buildCode"
   ]
  },
  {
   "cell_type": "code",
   "execution_count": null,
   "metadata": {
    "dotnet_interactive": {
     "language": "fsharp"
    },
    "polyglot_notebook": {
     "kernelName": "fsharp"
    }
   },
   "outputs": [],
   "source": [
    "let inline buildCode timeout cancellationToken code = async {\n",
    "    let! mainPath, disposable = persistCode timeout cancellationToken code\n",
    "    use _ = disposable\n",
    "    return! mainPath |> buildFile timeout cancellationToken\n",
    "}"
   ]
  },
  {
   "cell_type": "code",
   "execution_count": null,
   "metadata": {
    "dotnet_interactive": {
     "language": "fsharp"
    },
    "polyglot_notebook": {
     "kernelName": "fsharp"
    }
   },
   "outputs": [],
   "source": [
    "//// test\n",
    "\n",
    "let buildCode timeout cancellationToken code = buildCode timeout cancellationToken code"
   ]
  },
  {
   "cell_type": "code",
   "execution_count": null,
   "metadata": {
    "dotnet_interactive": {
     "language": "fsharp"
    },
    "polyglot_notebook": {
     "kernelName": "fsharp"
    }
   },
   "outputs": [
    {
     "name": "stdout",
     "output_type": "stream",
     "text": [
      "00:00:00 #1 [Debug] createTempDirectory / tempFolder: C:\\Users\\i574n\\AppData\\Local\\Temp\\!dotnet-repl\\20230829-1155-4387-8702-837d5196c1d8 / result: { CreationTime = 2023-08-29 11:55:43 AM\n",
      "  Exists = true }\r\n",
      "00:00:00 #2 [Debug] runWithTimeoutAsync / timeout: 60\r\n",
      "00:00:00 #3 [Debug] executeAsync / options: { Command =\n",
      "   \"dotnet \"C:\\home\\git\\polyglot\\deps\\The-Spiral-Language\\The Spiral Language 2\\artifacts\\bin\\The Spiral Language 2\\release\\Spiral.dll\" port=13807\"\n",
      "  WorkingDirectory = None\n",
      "  CancellationToken = Some System.Threading.CancellationToken\n",
      "  OnLine = Some <fun:buildCode@3-880> }\r\n",
      "00:00:01 #4 [Debug] > Server bound to: tcp://*:13807 & tcp://*:13808\r\n",
      "00:00:01 #5 [Debug] > pwd: C:\\home\\git\\polyglot\\apps\\spiral\r\n",
      "00:00:01 #6 [Debug] > dll_path: C:\\home\\git\\polyglot\\deps\\The-Spiral-Language\\The Spiral Language 2\\artifacts\\bin\\The Spiral Language 2\\release\r\n",
      "00:00:01 #7 [Debug] buildFile / fsxContent:  / errors: [] / firstErrorMs:\r\n",
      "00:00:01 #8 [Debug] sendJson / port: 13807 / json: {\"FileOpen\":{\"spiText\":\"inl app () =\\n    0i32\\n\\ninl a = 1\\n\\ninl main () =\\n    app\\n    |\\u003E dyn\\n    |\\u003E ignore\\n\",\"uri\":\"file:///C:\\\\Users\\\\i574n\\\\AppData\\\\Local\\\\Temp\\\\!dotnet-repl\\\\20230829-1155-4387-8702-837d5196c1d8\\\\main.spi\"}} / result.FrameCount: 1 / resultString.Length: 0\r\n",
      "00:00:01 #9 [Debug] sendJson / port: 13807 / json: {\"BuildFile\":{\"backend\":\"Fsharp\",\"uri\":\"file:///C:\\\\Users\\\\i574n\\\\AppData\\\\Local\\\\Temp\\\\!dotnet-repl\\\\20230829-1155-4387-8702-837d5196c1d8\\\\main.spi\"}} / result.FrameCount: 1 / resultString.Length: 0\r\n",
      "00:00:02 #10 [Debug] > Building C:\\Users\\i574n\\AppData\\Local\\Temp\\!dotnet-repl\\20230829-1155-4387-8702-837d5196c1d8\\main.spi\r\n",
      "00:00:02 #11 [Debug] buildFile / fsxContent:  / errors: [(main.spi:\n",
      "Global inl/let statements should all return functions known at parse time., ParserErrors\n",
      "  { errors =\n",
      "     [(({ character = 0\n",
      "          line = 3 }, { character = 9\n",
      "                        line = 3 }),\n",
      "       \"Global inl/let statements should all return functions known at parse time.\")]\n",
      "    uri =\n",
      "     \"file:///C:\\Users\\i574n\\AppData\\Local\\Temp\\!dotnet-repl\\20230829-1155-4387-8702-837d5196c1d8\\main.spi\" })] / firstErrorMs: Some(0.9056)\r\n",
      "00:00:02 #12 [Debug] buildFile / fsxContent:  / errors: [(main.spi:\n",
      "Global inl/let statements should all return functions known at parse time., ParserErrors\n",
      "  { errors =\n",
      "     [(({ character = 0\n",
      "          line = 3 }, { character = 9\n",
      "                        line = 3 }),\n",
      "       \"Global inl/let statements should all return functions known at parse time.\")]\n",
      "    uri =\n",
      "     \"file:///C:\\Users\\i574n\\AppData\\Local\\Temp\\!dotnet-repl\\20230829-1155-4387-8702-837d5196c1d8\\main.spi\" }); (main.spi:\n",
      "Global inl/let statements should all return functions known at parse time., ParserErrors\n",
      "  { errors =\n",
      "     [(({ character = 0\n",
      "          line = 3 }, { character = 9\n",
      "                        line = 3 }),\n",
      "       \"Global inl/let statements should all return functions known at parse time.\")]\n",
      "    uri =\n",
      "     \"file:///C:\\Users\\i574n\\AppData\\Local\\Temp\\!dotnet-repl\\20230829-1155-4387-8702-837d5196c1d8\\main.spi\" })] / firstErrorMs: Some(582.2451)\r\n",
      "00:00:03 #13 [Debug] buildFile / fsxContent: Some(let rec closure0 () () : int32 =\n",
      "    0\n",
      "let v0 : (unit -> int32) = closure0()\n",
      "()\n",
      ") / errors: [(main.spi:\n",
      "Global inl/let statements should all return functions known at parse time., ParserErrors\n",
      "  { errors =\n",
      "     [(({ character = 0\n",
      "          line = 3 }, { character = 9\n",
      "                        line = 3 }),\n",
      "       \"Global inl/let statements should all return functions known at parse time.\")]\n",
      "    uri =\n",
      "     \"file:///C:\\Users\\i574n\\AppData\\Local\\Temp\\!dotnet-repl\\20230829-1155-4387-8702-837d5196c1d8\\main.spi\" }); (main.spi:\n",
      "Global inl/let statements should all return functions known at parse time., ParserErrors\n",
      "  { errors =\n",
      "     [(({ character = 0\n",
      "          line = 3 }, { character = 9\n",
      "                        line = 3 }),\n",
      "       \"Global inl/let statements should all return functions known at parse time.\")]\n",
      "    uri =\n",
      "     \"file:///C:\\Users\\i574n\\AppData\\Local\\Temp\\!dotnet-repl\\20230829-1155-4387-8702-837d5196c1d8\\main.spi\" })] / firstErrorMs: Some(1120.9721)\r\n",
      "00:00:03 #14 [Debug] watchWithFilter / Disposing watch stream / fullPath: C:\\Users\\i574n\\AppData\\Local\\Temp\\!dotnet-repl\\20230829-1155-4387-8702-837d5196c1d8 / filter: FileName, LastWrite\r\n",
      "FSharpOption<Tuple<FSharpOption<String>,FSharpList<String>>>\r\n",
      "      Value:       - FSharpOption<String>\r\n",
      "          Value: let rec closure0 () () : int32 =\n",
      "    0\n",
      "let v0 : (unit -> int32) = closure0()\n",
      "()\n",
      "\r\n",
      "      - [ main.spi:\n",
      "Global inl/let statements should all return functions known at parse time. ]\r\n"
     ]
    }
   ],
   "source": [
    "//// test\n",
    "\n",
    "\"inl app () =\n",
    "    0i32\n",
    "\n",
    "inl a = 1\n",
    "\n",
    "inl main () =\n",
    "    app\n",
    "    |> dyn\n",
    "    |> ignore\n",
    "\"\n",
    "|> buildCode 8000 None\n",
    "|> Async.runWithTimeout 8000\n",
    "|> Option.map (fun (fsxContent, errors) -> fsxContent, errors |> List.map fst)\n",
    "|> _equal (\n",
    "    Some (\n",
    "        Some \"let rec closure0 () () : int32 =\n",
    "    0\n",
    "let v0 : (unit -> int32) = closure0()\n",
    "()\n",
    "\",\n",
    "        [\"main.spi:\n",
    "Global inl/let statements should all return functions known at parse time.\"]\n",
    "    )\n",
    ")"
   ]
  },
  {
   "cell_type": "code",
   "execution_count": null,
   "metadata": {
    "dotnet_interactive": {
     "language": "fsharp"
    },
    "polyglot_notebook": {
     "kernelName": "fsharp"
    }
   },
   "outputs": [
    {
     "name": "stdout",
     "output_type": "stream",
     "text": [
      "00:00:03 #15 [Debug] createTempDirectory / tempFolder: C:\\Users\\i574n\\AppData\\Local\\Temp\\!dotnet-repl\\20230829-1155-4774-7451-722602efbe59 / result: { CreationTime = 2023-08-29 11:55:47 AM\n",
      "  Exists = true }\r\n",
      "00:00:03 #16 [Debug] runWithTimeoutAsync / timeout: 60\r\n",
      "00:00:03 #17 [Debug] executeAsync / options: { Command =\n",
      "   \"dotnet \"C:\\home\\git\\polyglot\\deps\\The-Spiral-Language\\The Spiral Language 2\\artifacts\\bin\\The Spiral Language 2\\release\\Spiral.dll\" port=13807\"\n",
      "  WorkingDirectory = None\n",
      "  CancellationToken = Some System.Threading.CancellationToken\n",
      "  OnLine = Some <fun:buildCode@3-880> }\r\n",
      "00:00:04 #18 [Debug] > Server bound to: tcp://*:13807 & tcp://*:13808\r\n",
      "00:00:04 #19 [Debug] buildFile / fsxContent:  / errors: [] / firstErrorMs:\r\n",
      "00:00:04 #20 [Debug] > pwd: C:\\home\\git\\polyglot\\apps\\spiral\r\n",
      "00:00:04 #21 [Debug] > dll_path: C:\\home\\git\\polyglot\\deps\\The-Spiral-Language\\The Spiral Language 2\\artifacts\\bin\\The Spiral Language 2\\release\r\n",
      "00:00:04 #22 [Debug] sendJson / port: 13807 / json: {\"FileOpen\":{\"spiText\":\"inl app () =\\n    fsharp.console.write_line \\u0022error\\u0022\\n    1i32\\n\\ninl main () =\\n    app\\n    |\\u003E dyn\\n    |\\u003E ignore\\n\",\"uri\":\"file:///C:\\\\Users\\\\i574n\\\\AppData\\\\Local\\\\Temp\\\\!dotnet-repl\\\\20230829-1155-4774-7451-722602efbe59\\\\main.spi\"}} / result.FrameCount: 1 / resultString.Length: 0\r\n",
      "00:00:04 #23 [Debug] sendJson / port: 13807 / json: {\"BuildFile\":{\"backend\":\"Fsharp\",\"uri\":\"file:///C:\\\\Users\\\\i574n\\\\AppData\\\\Local\\\\Temp\\\\!dotnet-repl\\\\20230829-1155-4774-7451-722602efbe59\\\\main.spi\"}} / result.FrameCount: 1 / resultString.Length: 0\r\n",
      "00:00:04 #24 [Debug] > Building C:\\Users\\i574n\\AppData\\Local\\Temp\\!dotnet-repl\\20230829-1155-4774-7451-722602efbe59\\main.spi\r\n",
      "00:00:05 #25 [Debug] buildFile / fsxContent: Some(let rec closure0 () () : int32 =\n",
      "    let v0 : string = \"error\"\n",
      "    System.Console.WriteLine v0\n",
      "    1\n",
      "let v0 : (unit -> int32) = closure0()\n",
      "()\n",
      ") / errors: [] / firstErrorMs:\r\n",
      "00:00:05 #26 [Debug] watchWithFilter / Disposing watch stream / fullPath: C:\\Users\\i574n\\AppData\\Local\\Temp\\!dotnet-repl\\20230829-1155-4774-7451-722602efbe59 / filter: FileName, LastWrite\r\n",
      "FSharpOption<Tuple<FSharpOption<String>,FSharpList<String>>>\r\n",
      "      Value:       - FSharpOption<String>\r\n",
      "          Value: let rec closure0 () () : int32 =\n",
      "    let v0 : string = \"error\"\n",
      "    System.Console.WriteLine v0\n",
      "    1\n",
      "let v0 : (unit -> int32) = closure0()\n",
      "()\n",
      "\r\n",
      "      - [  ]\r\n"
     ]
    }
   ],
   "source": [
    "//// test\n",
    "\n",
    "\"\"\"inl app () =\n",
    "    fsharp.console.write_line \"error\"\n",
    "    1i32\n",
    "\n",
    "inl main () =\n",
    "    app\n",
    "    |> dyn\n",
    "    |> ignore\n",
    "\"\"\"\n",
    "|> buildCode 8000 None\n",
    "|> Async.runWithTimeout 8000\n",
    "|> Option.map (fun (fsxContent, errors) -> fsxContent, errors |> List.map fst)\n",
    "|> _equal (\n",
    "    Some (\n",
    "        Some \"\"\"let rec closure0 () () : int32 =\n",
    "    let v0 : string = \"error\"\n",
    "    System.Console.WriteLine v0\n",
    "    1\n",
    "let v0 : (unit -> int32) = closure0()\n",
    "()\n",
    "\"\"\",\n",
    "        []\n",
    "    )\n",
    ")"
   ]
  },
  {
   "cell_type": "code",
   "execution_count": null,
   "metadata": {
    "dotnet_interactive": {
     "language": "fsharp"
    },
    "polyglot_notebook": {
     "kernelName": "fsharp"
    }
   },
   "outputs": [
    {
     "name": "stdout",
     "output_type": "stream",
     "text": [
      "00:00:06 #27 [Debug] createTempDirectory / tempFolder: C:\\Users\\i574n\\AppData\\Local\\Temp\\!dotnet-repl\\20230829-1155-5010-1070-16d33ce9c021 / result: { CreationTime = 2023-08-29 11:55:50 AM\n",
      "  Exists = true }\r\n",
      "00:00:06 #28 [Debug] runWithTimeoutAsync / timeout: 60\r\n",
      "00:00:06 #29 [Debug] executeAsync / options: { Command =\n",
      "   \"dotnet \"C:\\home\\git\\polyglot\\deps\\The-Spiral-Language\\The Spiral Language 2\\artifacts\\bin\\The Spiral Language 2\\release\\Spiral.dll\" port=13807\"\n",
      "  WorkingDirectory = None\n",
      "  CancellationToken = Some System.Threading.CancellationToken\n",
      "  OnLine = Some <fun:buildCode@3-880> }\r\n",
      "00:00:06 #30 [Debug] > Server bound to: tcp://*:13807 & tcp://*:13808\r\n",
      "00:00:06 #31 [Debug] buildFile / fsxContent:  / errors: [] / firstErrorMs:\r\n",
      "00:00:06 #32 [Debug] > pwd: C:\\home\\git\\polyglot\\apps\\spiral\r\n",
      "00:00:06 #33 [Debug] > dll_path: C:\\home\\git\\polyglot\\deps\\The-Spiral-Language\\The Spiral Language 2\\artifacts\\bin\\The Spiral Language 2\\release\r\n",
      "00:00:07 #34 [Debug] sendJson / port: 13807 / json: {\"FileOpen\":{\"spiText\":\"\",\"uri\":\"file:///C:\\\\Users\\\\i574n\\\\AppData\\\\Local\\\\Temp\\\\!dotnet-repl\\\\20230829-1155-5010-1070-16d33ce9c021\\\\main.spi\"}} / result.FrameCount: 1 / resultString.Length: 0\r\n",
      "00:00:07 #35 [Debug] sendJson / port: 13807 / json: {\"BuildFile\":{\"backend\":\"Fsharp\",\"uri\":\"file:///C:\\\\Users\\\\i574n\\\\AppData\\\\Local\\\\Temp\\\\!dotnet-repl\\\\20230829-1155-5010-1070-16d33ce9c021\\\\main.spi\"}} / result.FrameCount: 1 / resultString.Length: 0\r\n",
      "00:00:07 #36 [Debug] > Building C:\\Users\\i574n\\AppData\\Local\\Temp\\!dotnet-repl\\20230829-1155-5010-1070-16d33ce9c021\\main.spi\r\n",
      "00:00:09 #37 [Debug] > Cannot find `main` in file main.\r\n",
      "00:00:09 #38 [Debug] > Build skipped for C:\\Users\\i574n\\AppData\\Local\\Temp\\!dotnet-repl\\20230829-1155-5010-1070-16d33ce9c021\\main.spi\r\n",
      "00:00:10 #39 [Debug] runWithTimeoutAsync / timeout: 4000\r\n",
      "00:00:10 #40 [Debug] watchWithFilter / Disposing watch stream / fullPath: C:\\Users\\i574n\\AppData\\Local\\Temp\\!dotnet-repl\\20230829-1155-5010-1070-16d33ce9c021 / filter: FileName, LastWrite\r\n",
      "<null>\r\n"
     ]
    }
   ],
   "source": [
    "//// test\n",
    "\n",
    "\"\"\n",
    "|> buildCode 4000 None\n",
    "|> Async.runWithTimeout 4000\n",
    "|> _equal None"
   ]
  },
  {
   "cell_type": "code",
   "execution_count": null,
   "metadata": {
    "dotnet_interactive": {
     "language": "fsharp"
    },
    "polyglot_notebook": {
     "kernelName": "fsharp"
    }
   },
   "outputs": [
    {
     "name": "stdout",
     "output_type": "stream",
     "text": [
      "00:00:10 #41 [Error] runWithTimeoutAsync / timeout: 4000\r\n",
      "00:00:10 #42 [Debug] createTempDirectory / tempFolder: C:\\Users\\i574n\\AppData\\Local\\Temp\\!dotnet-repl\\20230829-1155-5457-5707-59f65712b022 / result: { CreationTime = 2023-08-29 11:55:54 AM\n",
      "  Exists = true }\r\n",
      "00:00:10 #43 [Debug] runWithTimeoutAsync / timeout: 60\r\n",
      "00:00:10 #44 [Debug] executeAsync / options: { Command =\n",
      "   \"dotnet \"C:\\home\\git\\polyglot\\deps\\The-Spiral-Language\\The Spiral Language 2\\artifacts\\bin\\The Spiral Language 2\\release\\Spiral.dll\" port=13807\"\n",
      "  WorkingDirectory = None\n",
      "  CancellationToken = Some System.Threading.CancellationToken\n",
      "  OnLine = Some <fun:buildCode@3-880> }\r\n",
      "00:00:11 #45 [Debug] > Server bound to: tcp://*:13807 & tcp://*:13808\r\n",
      "00:00:11 #46 [Debug] buildFile / fsxContent:  / errors: [] / firstErrorMs:\r\n",
      "00:00:11 #47 [Debug] > pwd: C:\\home\\git\\polyglot\\apps\\spiral\r\n",
      "00:00:11 #48 [Debug] > dll_path: C:\\home\\git\\polyglot\\deps\\The-Spiral-Language\\The Spiral Language 2\\artifacts\\bin\\The Spiral Language 2\\release\r\n",
      "00:00:11 #49 [Debug] sendJson / port: 13807 / json: {\"FileOpen\":{\"spiText\":\"inl main () =\\n    1i32 / 0i32\\n\",\"uri\":\"file:///C:\\\\Users\\\\i574n\\\\AppData\\\\Local\\\\Temp\\\\!dotnet-repl\\\\20230829-1155-5457-5707-59f65712b022\\\\main.spi\"}} / result.FrameCount: 1 / resultString.Length: 0\r\n",
      "00:00:11 #50 [Debug] sendJson / port: 13807 / json: {\"BuildFile\":{\"backend\":\"Fsharp\",\"uri\":\"file:///C:\\\\Users\\\\i574n\\\\AppData\\\\Local\\\\Temp\\\\!dotnet-repl\\\\20230829-1155-5457-5707-59f65712b022\\\\main.spi\"}} / result.FrameCount: 1 / resultString.Length: 0\r\n",
      "00:00:11 #51 [Debug] > Building C:\\Users\\i574n\\AppData\\Local\\Temp\\!dotnet-repl\\20230829-1155-5457-5707-59f65712b022\\main.spi\r\n",
      "00:00:12 #52 [Debug] buildFile / fsxContent:  / errors: [(An attempt to divide by zero has been detected at compile time., TracedError\n",
      "  { message = \"An attempt to divide by zero has been detected at compile time.\"\n",
      "    trace =\n",
      "     [\"Error trace on line: 1, column: 10 in module: C:\\Users\\i574n\\AppData\\Local\\Temp\\!dotnet-repl\\20230829-1155-5457-5707-59f65712b022\\main.spi.\r\n",
      "inl main () =\r\n",
      "         ^\r\n",
      "\";\n",
      "      \"Error trace on line: 2, column: 5 in module: C:\\Users\\i574n\\AppData\\Local\\Temp\\!dotnet-repl\\20230829-1155-5457-5707-59f65712b022\\main.spi.\r\n",
      "    1i32 / 0i32\r\n",
      "    ^\r\n",
      "\"] })] / firstErrorMs: Some(63828906956353.23)\r\n",
      "00:00:12 #53 [Debug] watchWithFilter / Disposing watch stream / fullPath: C:\\Users\\i574n\\AppData\\Local\\Temp\\!dotnet-repl\\20230829-1155-5457-5707-59f65712b022 / filter: FileName, LastWrite\r\n",
      "FSharpOption<Tuple<FSharpOption<String>,FSharpList<String>>>\r\n",
      "      Value:       - <null>\r\n",
      "      - [ An attempt to divide by zero has been detected at compile time. ]\r\n"
     ]
    }
   ],
   "source": [
    "//// test\n",
    "\n",
    "\"\"\"inl main () =\n",
    "    1i32 / 0i32\n",
    "\"\"\"\n",
    "|> buildCode 8000 None\n",
    "|> Async.runWithTimeout 8000\n",
    "|> Option.map (fun (fsxContent, errors) -> fsxContent, errors |> List.map fst)\n",
    "|> _equal (\n",
    "    Some (\n",
    "        None,\n",
    "        [\"An attempt to divide by zero has been detected at compile time.\"]\n",
    "    )\n",
    ")"
   ]
  },
  {
   "cell_type": "code",
   "execution_count": null,
   "metadata": {
    "dotnet_interactive": {
     "language": "fsharp"
    },
    "polyglot_notebook": {
     "kernelName": "fsharp"
    }
   },
   "outputs": [
    {
     "name": "stdout",
     "output_type": "stream",
     "text": [
      "00:00:12 #54 [Debug] createTempDirectory / tempFolder: C:\\Users\\i574n\\AppData\\Local\\Temp\\!dotnet-repl\\20230829-1155-5662-6286-69486b714949 / result: { CreationTime = 2023-08-29 11:55:56 AM\n",
      "  Exists = true }\r\n",
      "00:00:12 #55 [Debug] runWithTimeoutAsync / timeout: 60\r\n",
      "00:00:12 #56 [Debug] executeAsync / options: { Command =\n",
      "   \"dotnet \"C:\\home\\git\\polyglot\\deps\\The-Spiral-Language\\The Spiral Language 2\\artifacts\\bin\\The Spiral Language 2\\release\\Spiral.dll\" port=13807\"\n",
      "  WorkingDirectory = None\n",
      "  CancellationToken = Some System.Threading.CancellationToken\n",
      "  OnLine = Some <fun:buildCode@3-880> }\r\n",
      "00:00:13 #57 [Debug] > Server bound to: tcp://*:13807 & tcp://*:13808\r\n",
      "00:00:13 #58 [Debug] buildFile / fsxContent:  / errors: [] / firstErrorMs:\r\n",
      "00:00:13 #59 [Debug] > pwd: C:\\home\\git\\polyglot\\apps\\spiral\r\n",
      "00:00:13 #60 [Debug] > dll_path: C:\\home\\git\\polyglot\\deps\\The-Spiral-Language\\The Spiral Language 2\\artifacts\\bin\\The Spiral Language 2\\release\r\n",
      "00:00:13 #61 [Debug] sendJson / port: 13807 / json: {\"FileOpen\":{\"spiText\":\"union a =\\n    | B\\n    | c\\n\\ninl main () =\\n    ()\\n\",\"uri\":\"file:///C:\\\\Users\\\\i574n\\\\AppData\\\\Local\\\\Temp\\\\!dotnet-repl\\\\20230829-1155-5662-6286-69486b714949\\\\main.spi\"}} / result.FrameCount: 1 / resultString.Length: 0\r\n",
      "00:00:13 #62 [Debug] sendJson / port: 13807 / json: {\"BuildFile\":{\"backend\":\"Fsharp\",\"uri\":\"file:///C:\\\\Users\\\\i574n\\\\AppData\\\\Local\\\\Temp\\\\!dotnet-repl\\\\20230829-1155-5662-6286-69486b714949\\\\main.spi\"}} / result.FrameCount: 1 / resultString.Length: 0\r\n",
      "00:00:13 #63 [Debug] > Building C:\\Users\\i574n\\AppData\\Local\\Temp\\!dotnet-repl\\20230829-1155-5662-6286-69486b714949\\main.spi\r\n",
      "00:00:13 #64 [Debug] buildFile / fsxContent:  / errors: [(main.spi:\n",
      "Expected: uppercase variable, ParserErrors\n",
      "  { errors = [(({ character = 6\n",
      "                  line = 2 }, { character = 7\n",
      "                                line = 2 }), \"Expected: uppercase variable\")]\n",
      "    uri =\n",
      "     \"file:///C:\\Users\\i574n\\AppData\\Local\\Temp\\!dotnet-repl\\20230829-1155-5662-6286-69486b714949\\main.spi\" })] / firstErrorMs: Some(0.0551)\r\n",
      "00:00:14 #65 [Debug] buildFile / fsxContent:  / errors: [(main.spi:\n",
      "Expected: uppercase variable, ParserErrors\n",
      "  { errors = [(({ character = 6\n",
      "                  line = 2 }, { character = 7\n",
      "                                line = 2 }), \"Expected: uppercase variable\")]\n",
      "    uri =\n",
      "     \"file:///C:\\Users\\i574n\\AppData\\Local\\Temp\\!dotnet-repl\\20230829-1155-5662-6286-69486b714949\\main.spi\" }); (main.spi:\n",
      "Expected: uppercase variable, ParserErrors\n",
      "  { errors = [(({ character = 6\n",
      "                  line = 2 }, { character = 7\n",
      "                                line = 2 }), \"Expected: uppercase variable\")]\n",
      "    uri =\n",
      "     \"file:///C:\\Users\\i574n\\AppData\\Local\\Temp\\!dotnet-repl\\20230829-1155-5662-6286-69486b714949\\main.spi\" })] / firstErrorMs: Some(352.4761)\r\n",
      "00:00:14 #66 [Debug] buildFile / fsxContent: Some(()\n",
      ") / errors: [(main.spi:\n",
      "Expected: uppercase variable, ParserErrors\n",
      "  { errors = [(({ character = 6\n",
      "                  line = 2 }, { character = 7\n",
      "                                line = 2 }), \"Expected: uppercase variable\")]\n",
      "    uri =\n",
      "     \"file:///C:\\Users\\i574n\\AppData\\Local\\Temp\\!dotnet-repl\\20230829-1155-5662-6286-69486b714949\\main.spi\" }); (main.spi:\n",
      "Expected: uppercase variable, ParserErrors\n",
      "  { errors = [(({ character = 6\n",
      "                  line = 2 }, { character = 7\n",
      "                                line = 2 }), \"Expected: uppercase variable\")]\n",
      "    uri =\n",
      "     \"file:///C:\\Users\\i574n\\AppData\\Local\\Temp\\!dotnet-repl\\20230829-1155-5662-6286-69486b714949\\main.spi\" })] / firstErrorMs: Some(670.5387)\r\n",
      "00:00:14 #67 [Debug] watchWithFilter / Disposing watch stream / fullPath: C:\\Users\\i574n\\AppData\\Local\\Temp\\!dotnet-repl\\20230829-1155-5662-6286-69486b714949 / filter: FileName, LastWrite\r\n",
      "FSharpOption<Tuple<FSharpOption<String>,FSharpList<String>>>\r\n",
      "      Value:       - FSharpOption<String>\r\n",
      "          Value: ()\n",
      "\r\n",
      "      - [ main.spi:\n",
      "Expected: uppercase variable ]\r\n"
     ]
    }
   ],
   "source": [
    "//// test\n",
    "\n",
    "\"\"\"union a =\n",
    "    | B\n",
    "    | c\n",
    "\n",
    "inl main () =\n",
    "    ()\n",
    "\"\"\"\n",
    "|> buildCode 8000 None\n",
    "|> Async.runWithTimeout 8000\n",
    "|> Option.map (fun (fsxContent, errors) -> fsxContent, errors |> List.map fst)\n",
    "|> _equal (\n",
    "    Some (\n",
    "        Some \"()\n",
    "\",\n",
    "        [\"main.spi:\n",
    "Expected: uppercase variable\"]\n",
    "    )\n",
    ")"
   ]
  },
  {
   "cell_type": "code",
   "execution_count": null,
   "metadata": {
    "dotnet_interactive": {
     "language": "fsharp"
    },
    "polyglot_notebook": {
     "kernelName": "fsharp"
    }
   },
   "outputs": [
    {
     "name": "stdout",
     "output_type": "stream",
     "text": [
      "00:00:14 #68 [Debug] createTempDirectory / tempFolder: C:\\Users\\i574n\\AppData\\Local\\Temp\\!dotnet-repl\\20230829-1155-5872-7208-7a565b91895a / result: { CreationTime = 2023-08-29 11:55:58 AM\n",
      "  Exists = true }\r\n",
      "00:00:14 #69 [Debug] runWithTimeoutAsync / timeout: 60\r\n",
      "00:00:14 #70 [Debug] executeAsync / options: { Command =\n",
      "   \"dotnet \"C:\\home\\git\\polyglot\\deps\\The-Spiral-Language\\The Spiral Language 2\\artifacts\\bin\\The Spiral Language 2\\release\\Spiral.dll\" port=13807\"\n",
      "  WorkingDirectory = None\n",
      "  CancellationToken = Some System.Threading.CancellationToken\n",
      "  OnLine = Some <fun:buildCode@3-880> }\r\n",
      "00:00:15 #71 [Debug] > Server bound to: tcp://*:13807 & tcp://*:13808\r\n",
      "00:00:15 #72 [Debug] buildFile / fsxContent:  / errors: [] / firstErrorMs:\r\n",
      "00:00:15 #73 [Debug] > pwd: C:\\home\\git\\polyglot\\apps\\spiral\r\n",
      "00:00:15 #74 [Debug] > dll_path: C:\\home\\git\\polyglot\\deps\\The-Spiral-Language\\The Spiral Language 2\\artifacts\\bin\\The Spiral Language 2\\release\r\n",
      "00:00:15 #75 [Debug] sendJson / port: 13807 / json: {\"FileOpen\":{\"spiText\":\"\\n/// abc\\ninl main () =\\n    ()\\n\",\"uri\":\"file:///C:\\\\Users\\\\i574n\\\\AppData\\\\Local\\\\Temp\\\\!dotnet-repl\\\\20230829-1155-5872-7208-7a565b91895a\\\\main.spi\"}} / result.FrameCount: 1 / resultString.Length: 0\r\n",
      "00:00:15 #76 [Debug] sendJson / port: 13807 / json: {\"BuildFile\":{\"backend\":\"Fsharp\",\"uri\":\"file:///C:\\\\Users\\\\i574n\\\\AppData\\\\Local\\\\Temp\\\\!dotnet-repl\\\\20230829-1155-5872-7208-7a565b91895a\\\\main.spi\"}} / result.FrameCount: 1 / resultString.Length: 0\r\n",
      "00:00:15 #77 [Debug] buildFile / fsxContent:  / errors: [(main.spi:\n",
      "Expected: whitespace, TokenizerErrors\n",
      "  { errors = [(({ character = 2\n",
      "                  line = 1 }, { character = 3\n",
      "                                line = 1 }), \"Expected: whitespace\")]\n",
      "    uri =\n",
      "     \"file:///C:\\Users\\i574n\\AppData\\Local\\Temp\\!dotnet-repl\\20230829-1155-5872-7208-7a565b91895a\\main.spi\" })] / firstErrorMs: Some(63828906959734.516)\r\n",
      "00:00:15 #78 [Debug] watchWithFilter / Disposing watch stream / fullPath: C:\\Users\\i574n\\AppData\\Local\\Temp\\!dotnet-repl\\20230829-1155-5872-7208-7a565b91895a / filter: FileName, LastWrite\r\n",
      "FSharpOption<Tuple<FSharpOption<String>,FSharpList<String>>>\r\n",
      "      Value:       - <null>\r\n",
      "      - [ main.spi:\n",
      "Expected: whitespace ]\r\n"
     ]
    }
   ],
   "source": [
    "//// test\n",
    "\n",
    "\"\"\"\n",
    "/// abc\n",
    "inl main () =\n",
    "    ()\n",
    "\"\"\"\n",
    "|> buildCode 8000 None\n",
    "|> Async.runWithTimeout 8000\n",
    "|> Option.map (fun (fsxContent, errors) -> fsxContent, errors |> List.map fst)\n",
    "|> _equal (\n",
    "    Some (\n",
    "        None,\n",
    "        [\"main.spi:\n",
    "Expected: whitespace\"]\n",
    "    )\n",
    ")"
   ]
  },
  {
   "cell_type": "code",
   "execution_count": null,
   "metadata": {
    "dotnet_interactive": {
     "language": "fsharp"
    },
    "polyglot_notebook": {
     "kernelName": "fsharp"
    }
   },
   "outputs": [
    {
     "name": "stdout",
     "output_type": "stream",
     "text": [
      "00:00:16 #79 [Debug] createTempDirectory / tempFolder: C:\\Users\\i574n\\AppData\\Local\\Temp\\!dotnet-repl\\20230829-1156-0001-0147-07d4fa8f1b54 / result: { CreationTime = 2023-08-29 11:56:00 AM\n",
      "  Exists = true }\r\n",
      "00:00:16 #80 [Debug] runWithTimeoutAsync / timeout: 60\r\n",
      "00:00:16 #81 [Debug] executeAsync / options: { Command =\n",
      "   \"dotnet \"C:\\home\\git\\polyglot\\deps\\The-Spiral-Language\\The Spiral Language 2\\artifacts\\bin\\The Spiral Language 2\\release\\Spiral.dll\" port=13807\"\n",
      "  WorkingDirectory = None\n",
      "  CancellationToken = Some System.Threading.CancellationToken\n",
      "  OnLine = Some <fun:buildCode@3-880> }\r\n",
      "00:00:16 #82 [Debug] > Server bound to: tcp://*:13807 & tcp://*:13808\r\n",
      "00:00:16 #83 [Debug] buildFile / fsxContent:  / errors: [] / firstErrorMs:\r\n",
      "00:00:16 #84 [Debug] > pwd: C:\\home\\git\\polyglot\\apps\\spiral\r\n",
      "00:00:16 #85 [Debug] > dll_path: C:\\home\\git\\polyglot\\deps\\The-Spiral-Language\\The Spiral Language 2\\artifacts\\bin\\The Spiral Language 2\\release\r\n",
      "00:00:16 #86 [Debug] sendJson / port: 13807 / json: {\"FileOpen\":{\"spiText\":\"\\ninl main () =\\n    real\\n        inl real_unbox forall a. (obj : a) : a =\\n            typecase obj with\\n            | _ =\\u003E obj\\n        real_unbox ()\\n    ()\\n\",\"uri\":\"file:///C:\\\\Users\\\\i574n\\\\AppData\\\\Local\\\\Temp\\\\!dotnet-repl\\\\20230829-1156-0001-0147-07d4fa8f1b54\\\\main.spi\"}} / result.FrameCount: 1 / resultString.Length: 0\r\n",
      "00:00:16 #87 [Debug] sendJson / port: 13807 / json: {\"BuildFile\":{\"backend\":\"Fsharp\",\"uri\":\"file:///C:\\\\Users\\\\i574n\\\\AppData\\\\Local\\\\Temp\\\\!dotnet-repl\\\\20230829-1156-0001-0147-07d4fa8f1b54\\\\main.spi\"}} / result.FrameCount: 1 / resultString.Length: 0\r\n",
      "00:00:17 #88 [Debug] > Building C:\\Users\\i574n\\AppData\\Local\\Temp\\!dotnet-repl\\20230829-1156-0001-0147-07d4fa8f1b54\\main.spi\r\n",
      "00:00:18 #89 [Debug] buildFile / fsxContent:  / errors: [(Cannot apply a forall with a term., TracedError\n",
      "  { message = \"Cannot apply a forall with a term.\"\n",
      "    trace =\n",
      "     [\"Error trace on line: 2, column: 10 in module: C:\\Users\\i574n\\AppData\\Local\\Temp\\!dotnet-repl\\20230829-1156-0001-0147-07d4fa8f1b54\\main.spi.\r\n",
      "inl main () =\r\n",
      "         ^\r\n",
      "\";\n",
      "      \"Error trace on line: 4, column: 9 in module: C:\\Users\\i574n\\AppData\\Local\\Temp\\!dotnet-repl\\20230829-1156-0001-0147-07d4fa8f1b54\\main.spi.\r\n",
      "        inl real_unbox forall a. (obj : a) : a =\r\n",
      "        ^\r\n",
      "\";\n",
      "      \"Error trace on line: 7, column: 9 in module: C:\\Users\\i574n\\AppData\\Local\\Temp\\!dotnet-repl\\20230829-1156-0001-0147-07d4fa8f1b54\\main.spi.\r\n",
      "        real_unbox ()\r\n",
      "        ^\r\n",
      "\"] })] / firstErrorMs: Some(63828906961892.73)\r\n",
      "00:00:18 #90 [Debug] watchWithFilter / Disposing watch stream / fullPath: C:\\Users\\i574n\\AppData\\Local\\Temp\\!dotnet-repl\\20230829-1156-0001-0147-07d4fa8f1b54 / filter: FileName, LastWrite\r\n",
      "FSharpOption<Tuple<FSharpOption<String>,FSharpList<String>>>\r\n",
      "      Value:       - <null>\r\n",
      "      - [ Cannot apply a forall with a term. ]\r\n"
     ]
    }
   ],
   "source": [
    "//// test\n",
    "\n",
    "\"\"\"\n",
    "inl main () =\n",
    "    real\n",
    "        inl real_unbox forall a. (obj : a) : a =\n",
    "            typecase obj with\n",
    "            | _ => obj\n",
    "        real_unbox ()\n",
    "    ()\n",
    "\"\"\"\n",
    "|> buildCode 8000 None\n",
    "|> Async.runWithTimeout 8000\n",
    "|> Option.map (fun (fsxContent, errors) -> fsxContent, errors |> List.map fst)\n",
    "|> _equal (\n",
    "    Some (\n",
    "        None,\n",
    "        [\"Cannot apply a forall with a term.\"]\n",
    "    )\n",
    ")"
   ]
  },
  {
   "cell_type": "code",
   "execution_count": null,
   "metadata": {
    "dotnet_interactive": {
     "language": "fsharp"
    },
    "polyglot_notebook": {
     "kernelName": "fsharp"
    }
   },
   "outputs": [
    {
     "name": "stdout",
     "output_type": "stream",
     "text": [
      "00:00:18 #91 [Debug] createTempDirectory / tempFolder: C:\\Users\\i574n\\AppData\\Local\\Temp\\!dotnet-repl\\20230829-1156-0218-1844-1d4928a4191f / result: { CreationTime = 2023-08-29 11:56:02 AM\n",
      "  Exists = true }\r\n",
      "00:00:18 #92 [Debug] runWithTimeoutAsync / timeout: 60\r\n",
      "00:00:18 #93 [Debug] executeAsync / options: { Command =\n",
      "   \"dotnet \"C:\\home\\git\\polyglot\\deps\\The-Spiral-Language\\The Spiral Language 2\\artifacts\\bin\\The Spiral Language 2\\release\\Spiral.dll\" port=13807\"\n",
      "  WorkingDirectory = None\n",
      "  CancellationToken = Some System.Threading.CancellationToken\n",
      "  OnLine = Some <fun:buildCode@3-880> }\r\n",
      "00:00:18 #94 [Debug] > Server bound to: tcp://*:13807 & tcp://*:13808\r\n",
      "00:00:18 #95 [Debug] buildFile / fsxContent:  / errors: [] / firstErrorMs:\r\n",
      "00:00:18 #96 [Debug] > pwd: C:\\home\\git\\polyglot\\apps\\spiral\r\n",
      "00:00:18 #97 [Debug] > dll_path: C:\\home\\git\\polyglot\\deps\\The-Spiral-Language\\The Spiral Language 2\\artifacts\\bin\\The Spiral Language 2\\release\r\n",
      "00:00:19 #98 [Debug] sendJson / port: 13807 / json: {\"FileOpen\":{\"spiText\":\"\\ninl main () =\\n    real\\n        inl real_unbox forall a. (obj : a) : a =\\n            typecase obj with\\n            | _ =\\u003E obj\\n        real_unbox \\u0060i32 1\\n\",\"uri\":\"file:///C:\\\\Users\\\\i574n\\\\AppData\\\\Local\\\\Temp\\\\!dotnet-repl\\\\20230829-1156-0218-1844-1d4928a4191f\\\\main.spi\"}} / result.FrameCount: 1 / resultString.Length: 0\r\n",
      "00:00:19 #99 [Debug] sendJson / port: 13807 / json: {\"BuildFile\":{\"backend\":\"Fsharp\",\"uri\":\"file:///C:\\\\Users\\\\i574n\\\\AppData\\\\Local\\\\Temp\\\\!dotnet-repl\\\\20230829-1156-0218-1844-1d4928a4191f\\\\main.spi\"}} / result.FrameCount: 1 / resultString.Length: 0\r\n",
      "00:00:19 #100 [Debug] > Building C:\\Users\\i574n\\AppData\\Local\\Temp\\!dotnet-repl\\20230829-1156-0218-1844-1d4928a4191f\\main.spi\r\n",
      "00:00:20 #101 [Debug] buildFile / fsxContent:  / errors: [(The main function should not have a forall., TracedError { message = \"The main function should not have a forall.\"\n",
      "              trace = [] })] / firstErrorMs: Some(63828906964276.23)\r\n",
      "00:00:20 #102 [Debug] watchWithFilter / Disposing watch stream / fullPath: C:\\Users\\i574n\\AppData\\Local\\Temp\\!dotnet-repl\\20230829-1156-0218-1844-1d4928a4191f / filter: FileName, LastWrite\r\n",
      "FSharpOption<Tuple<FSharpOption<String>,FSharpList<String>>>\r\n",
      "      Value:       - <null>\r\n",
      "      - [ The main function should not have a forall. ]\r\n"
     ]
    }
   ],
   "source": [
    "//// test\n",
    "\n",
    "\"\"\"\n",
    "inl main () =\n",
    "    real\n",
    "        inl real_unbox forall a. (obj : a) : a =\n",
    "            typecase obj with\n",
    "            | _ => obj\n",
    "        real_unbox `i32 1\n",
    "\"\"\"\n",
    "|> buildCode 8000 None\n",
    "|> Async.runWithTimeout 8000\n",
    "|> Option.map (fun (fsxContent, errors) -> fsxContent, errors |> List.map fst)\n",
    "|> _equal (\n",
    "    Some (\n",
    "        None,\n",
    "        [\"The main function should not have a forall.\"]\n",
    "    )\n",
    ")"
   ]
  },
  {
   "cell_type": "markdown",
   "metadata": {},
   "source": [
    "## getFileTokenRange"
   ]
  },
  {
   "cell_type": "code",
   "execution_count": null,
   "metadata": {
    "dotnet_interactive": {
     "language": "fsharp"
    },
    "polyglot_notebook": {
     "kernelName": "fsharp"
    }
   },
   "outputs": [],
   "source": [
    "let inline getFileTokenRange timeout cancellationToken path = async {\n",
    "    let fullPath = path |> System.IO.Path.GetFullPath\n",
    "    let! code = fullPath |> FileSystem.readAllTextAsync\n",
    "    let lines = code |> String.split [| '\\n' |]\n",
    "\n",
    "    let port =\n",
    "        if fullPath |> String.startsWith (System.IO.Path.GetTempPath ())\n",
    "            && fullPath |> String.contains \"Microsoft.DotNet.Interactive.App\" |> not\n",
    "        then 13807\n",
    "        else 13805\n",
    "\n",
    "    let! serverPort, outputs, disposable = awaitCompiler port cancellationToken\n",
    "    use _ = disposable\n",
    "\n",
    "    let fileOpenObj = {| FileOpen = {| uri = fullPath |> getFileUri; spiText = code |} |}\n",
    "    let! fileOpenResult = fileOpenObj |> sendObj serverPort\n",
    "\n",
    "    let fileTokenRangeObj =\n",
    "        {|\n",
    "            FileTokenRange =\n",
    "                {|\n",
    "                    uri = fullPath |> getFileUri\n",
    "                    range =\n",
    "                        [|\n",
    "                            {| line = 0; character = 0 |}\n",
    "                            {| line = lines.Length - 1; character = lines.[lines.Length - 1].Length |}\n",
    "                        |]\n",
    "                |}\n",
    "        |}\n",
    "    let! fileTokenRangeResult = fileTokenRangeObj |> sendObj serverPort\n",
    "\n",
    "    return fileTokenRangeResult |> Option.map FSharp.Json.Json.deserialize<int array>\n",
    "}"
   ]
  },
  {
   "cell_type": "markdown",
   "metadata": {},
   "source": [
    "## getCodeTokenRange"
   ]
  },
  {
   "cell_type": "code",
   "execution_count": null,
   "metadata": {
    "dotnet_interactive": {
     "language": "fsharp"
    },
    "polyglot_notebook": {
     "kernelName": "fsharp"
    }
   },
   "outputs": [],
   "source": [
    "let inline getCodeTokenRange timeout cancellationToken code = async {\n",
    "    let! mainPath, disposable = persistCode timeout cancellationToken code\n",
    "    use _ = disposable\n",
    "    return! mainPath |> getFileTokenRange timeout cancellationToken\n",
    "}"
   ]
  },
  {
   "cell_type": "code",
   "execution_count": null,
   "metadata": {
    "dotnet_interactive": {
     "language": "fsharp"
    },
    "polyglot_notebook": {
     "kernelName": "fsharp"
    }
   },
   "outputs": [
    {
     "name": "stdout",
     "output_type": "stream",
     "text": [
      "00:00:28 #103 [Debug] createTempDirectory / tempFolder: C:\\Users\\i574n\\AppData\\Local\\Temp\\!dotnet-repl\\20230829-1156-1245-4567-44b6f54c43d7 / result: { CreationTime = 2023-08-29 11:56:12 AM\n",
      "  Exists = true }\r\n",
      "00:00:28 #104 [Debug] runWithTimeoutAsync / timeout: 60\r\n",
      "00:00:28 #105 [Debug] executeAsync / options: { Command =\n",
      "   \"dotnet \"C:\\home\\git\\polyglot\\deps\\The-Spiral-Language\\The Spiral Language 2\\artifacts\\bin\\The Spiral Language 2\\release\\Spiral.dll\" port=13807\"\n",
      "  WorkingDirectory = None\n",
      "  CancellationToken = Some System.Threading.CancellationToken\n",
      "  OnLine = Some <fun:it@4-338> }\r\n",
      "00:00:29 #106 [Debug] > Server bound to: tcp://*:13807 & tcp://*:13808\r\n",
      "00:00:29 #107 [Debug] > pwd: C:\\home\\git\\polyglot\\apps\\spiral\r\n",
      "00:00:29 #108 [Debug] > dll_path: C:\\home\\git\\polyglot\\deps\\The-Spiral-Language\\The Spiral Language 2\\artifacts\\bin\\The Spiral Language 2\\release\r\n",
      "00:00:29 #109 [Debug] sendJson / port: 13807 / json: {\"FileOpen\":{\"spiText\":\"inl main () = ()\",\"uri\":\"file:///C:\\\\Users\\\\i574n\\\\AppData\\\\Local\\\\Temp\\\\!dotnet-repl\\\\20230829-1156-1245-4567-44b6f54c43d7\\\\main.spi\"}} / result.FrameCount: 1 / resultString.Length: 0\r\n",
      "00:00:30 #110 [Debug] sendJson / port: 13807 / json: {\"FileTokenRange\":{\"range\":[{\"character\":0,\"line\":0},{\"character\":16,\"line\":0}],\"uri\":\"file:///C:\\\\Users\\\\i574n\\\\AppData\\\\Local\\\\Temp\\\\!dotnet-repl\\\\20230829-1156-1245-4567-44b6f54c43d7\\\\main.spi\"}} / result.FrameCount: 1 / resultString.Length: 213\r\n",
      "FSharpOption<Int32[]>\r\n",
      "      Value: [ 0, 0, 3, 7, 0, 0, 4, 4, 0, 0, 0, 5, 1, 8, 0, 0, 1, 1, 8, 0, 0, 2, 1, 4, 0, 0, 2, 1, 8, 0, 0, 1, 1, 8, 0 ]\r\n"
     ]
    }
   ],
   "source": [
    "//// test\n",
    "\n",
    "\"\"\"inl main () = ()\"\"\"\n",
    "|> getCodeTokenRange 8000 None\n",
    "|> Async.runWithTimeout 8000\n",
    "|> Option.flatten\n",
    "|> _equal (Some [|0; 0; 3; 7; 0; 0; 4; 4; 0; 0; 0; 5; 1; 8; 0; 0; 1; 1; 8; 0; 0; 2; 1; 4; 0; 0;\n",
    "2; 1; 8; 0; 0; 1; 1; 8; 0|])"
   ]
  },
  {
   "cell_type": "code",
   "execution_count": null,
   "metadata": {
    "dotnet_interactive": {
     "language": "fsharp"
    },
    "polyglot_notebook": {
     "kernelName": "fsharp"
    }
   },
   "outputs": [
    {
     "name": "stdout",
     "output_type": "stream",
     "text": [
      "00:00:33 #111 [Debug] createTempDirectory / tempFolder: C:\\Users\\i574n\\AppData\\Local\\Temp\\!dotnet-repl\\20230829-1156-1714-1474-12603dd2b893 / result: { CreationTime = 2023-08-29 11:56:17 AM\n",
      "  Exists = true }\r\n",
      "00:00:33 #112 [Debug] runWithTimeoutAsync / timeout: 60\r\n",
      "00:00:33 #113 [Debug] executeAsync / options: { Command =\n",
      "   \"dotnet \"C:\\home\\git\\polyglot\\deps\\The-Spiral-Language\\The Spiral Language 2\\artifacts\\bin\\The Spiral Language 2\\release\\Spiral.dll\" port=13807\"\n",
      "  WorkingDirectory = None\n",
      "  CancellationToken = Some System.Threading.CancellationToken\n",
      "  OnLine = Some <fun:it@4-596> }\r\n",
      "00:00:33 #114 [Debug] > Server bound to: tcp://*:13807 & tcp://*:13808\r\n",
      "00:00:33 #115 [Debug] > pwd: C:\\home\\git\\polyglot\\apps\\spiral\r\n",
      "00:00:33 #116 [Debug] > dll_path: C:\\home\\git\\polyglot\\deps\\The-Spiral-Language\\The Spiral Language 2\\artifacts\\bin\\The Spiral Language 2\\release\r\n",
      "00:00:34 #117 [Debug] sendJson / port: 13807 / json: {\"FileOpen\":{\"spiText\":\"inl main () = 1i32\",\"uri\":\"file:///C:\\\\Users\\\\i574n\\\\AppData\\\\Local\\\\Temp\\\\!dotnet-repl\\\\20230829-1156-1714-1474-12603dd2b893\\\\main.spi\"}} / result.FrameCount: 1 / resultString.Length: 0\r\n",
      "00:00:34 #118 [Debug] sendJson / port: 13807 / json: {\"FileTokenRange\":{\"range\":[{\"character\":0,\"line\":0},{\"character\":18,\"line\":0}],\"uri\":\"file:///C:\\\\Users\\\\i574n\\\\AppData\\\\Local\\\\Temp\\\\!dotnet-repl\\\\20230829-1156-1714-1474-12603dd2b893\\\\main.spi\"}} / result.FrameCount: 1 / resultString.Length: 214\r\n",
      "FSharpOption<Int32[]>\r\n",
      "      Value: [ 0, 0, 3, 7, 0, 0, 4, 4, 0, 0, 0, 5, 1, 8, 0, 0, 1, 1, 8, 0, 0, 2, 1, 4, 0, 0, 2, 1, 3, 0, 0, 1, 3, 12, 0 ]\r\n"
     ]
    }
   ],
   "source": [
    "//// test\n",
    "\n",
    "\"\"\"inl main () = 1i32\"\"\"\n",
    "|> getCodeTokenRange 8000 None\n",
    "|> Async.runWithTimeout 8000\n",
    "|> Option.flatten\n",
    "|> _equal (Some [|0; 0; 3; 7; 0; 0; 4; 4; 0; 0; 0; 5; 1; 8; 0; 0; 1; 1; 8; 0; 0; 2; 1; 4; 0; 0;\n",
    "2; 1; 3; 0; 0; 1; 3; 12; 0|])"
   ]
  },
  {
   "cell_type": "markdown",
   "metadata": {},
   "source": [
    "## Arguments"
   ]
  },
  {
   "cell_type": "code",
   "execution_count": null,
   "metadata": {
    "dotnet_interactive": {
     "language": "fsharp"
    },
    "polyglot_notebook": {
     "kernelName": "fsharp"
    }
   },
   "outputs": [],
   "source": [
    "[<RequireQualifiedAccess>]\n",
    "type Arguments =\n",
    "    | [<Argu.ArguAttributes.Mandatory>] BuildFile of string * string\n",
    "    | Timeout of int\n",
    "\n",
    "    interface Argu.IArgParserTemplate with\n",
    "        member s.Usage =\n",
    "            match s with\n",
    "            | BuildFile _ -> nameof Arguments.BuildFile\n",
    "            | Timeout _ -> nameof Arguments.Timeout"
   ]
  },
  {
   "cell_type": "markdown",
   "metadata": {},
   "source": [
    "## main"
   ]
  },
  {
   "cell_type": "code",
   "execution_count": null,
   "metadata": {
    "dotnet_interactive": {
     "language": "fsharp"
    },
    "polyglot_notebook": {
     "kernelName": "fsharp"
    }
   },
   "outputs": [],
   "source": [
    "let main args =\n",
    "    let argsMap = args |> Runtime.parseArgsMap<Arguments>\n",
    "\n",
    "    let inputPath, outputPath =\n",
    "        match argsMap.[nameof Arguments.BuildFile] with\n",
    "        | [ Arguments.BuildFile (inputPath, outputPath) ] -> Some (inputPath, outputPath)\n",
    "        | _ -> None\n",
    "        |> Option.get\n",
    "\n",
    "    let timeout =\n",
    "        match argsMap |> Map.tryFind (nameof Arguments.Timeout) with\n",
    "        | Some [ Arguments.Timeout timeout ] -> timeout\n",
    "        | _ -> 30000\n",
    "\n",
    "    async {\n",
    "        let! outputCode, errors = inputPath |> buildFile timeout None\n",
    "        \n",
    "        errors\n",
    "        |> List.map snd\n",
    "        |> List.iter (fun error ->\n",
    "            trace Error (fun () -> $\"main / error: {error}\") getLocals\n",
    "        )\n",
    "\n",
    "        match outputCode with\n",
    "        | Some outputCode ->\n",
    "            do! outputCode |> FileSystem.writeAllTextAsync outputPath\n",
    "            return 0\n",
    "        | None ->\n",
    "            return 1\n",
    "    }\n",
    "    |> Async.runWithTimeout timeout\n",
    "    |> Option.defaultValue 1"
   ]
  },
  {
   "cell_type": "code",
   "execution_count": null,
   "metadata": {
    "dotnet_interactive": {
     "language": "fsharp"
    },
    "polyglot_notebook": {
     "kernelName": "fsharp"
    }
   },
   "outputs": [
    {
     "data": {
      "text/html": [
       "<div class=\"dni-plaintext\"><pre>0</pre></div><style>\r\n",
       ".dni-code-hint {\r\n",
       "    font-style: italic;\r\n",
       "    overflow: hidden;\r\n",
       "    white-space: nowrap;\r\n",
       "}\r\n",
       ".dni-treeview {\r\n",
       "    white-space: nowrap;\r\n",
       "}\r\n",
       ".dni-treeview td {\r\n",
       "    vertical-align: top;\r\n",
       "    text-align: start;\r\n",
       "}\r\n",
       "details.dni-treeview {\r\n",
       "    padding-left: 1em;\r\n",
       "}\r\n",
       "table td {\r\n",
       "    text-align: start;\r\n",
       "}\r\n",
       "table tr { \r\n",
       "    vertical-align: top; \r\n",
       "    margin: 0em 0px;\r\n",
       "}\r\n",
       "table tr td pre \r\n",
       "{ \r\n",
       "    vertical-align: top !important; \r\n",
       "    margin: 0em 0px !important;\r\n",
       "} \r\n",
       "table th {\r\n",
       "    text-align: start;\r\n",
       "}\r\n",
       "</style>"
      ]
     },
     "metadata": {},
     "output_type": "display_data"
    }
   ],
   "source": [
    "//// test\n",
    "\n",
    "let args =\n",
    "    System.Environment.GetEnvironmentVariable \"ARGS\"\n",
    "    |> Runtime.splitArgs\n",
    "    |> Seq.toArray\n",
    "\n",
    "match args with\n",
    "| [||] -> 0\n",
    "| args -> if main args = 0 then 0 else failwith \"main failed\""
   ]
  }
 ],
 "metadata": {
  "kernelspec": {
   "display_name": ".NET (C#)",
   "language": "C#",
   "name": ".net-csharp"
  },
  "language_info": {
   "file_extension": ".cs",
   "mimetype": "text/x-csharp",
   "name": "C#",
   "pygments_lexer": "csharp",
   "version": "10.0"
  },
  "polyglot_notebook": {
   "defaultKernelName": "csharp",
   "items": [
    {
     "name": "csharp"
    }
   ]
  },
  "dotnet_interactive": {
   "defaultKernelName": "csharp",
   "items": [
    {
     "name": "csharp"
    }
   ]
  }
 },
 "nbformat": 4,
 "nbformat_minor": 5
}