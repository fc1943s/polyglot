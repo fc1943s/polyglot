{
 "cells": [
  {
   "cell_type": "markdown",
   "metadata": {},
   "source": [
    "# Supervisor (Polyglot)"
   ]
  },
  {
   "cell_type": "code",
   "execution_count": null,
   "metadata": {
    "dotnet_interactive": {
     "language": "fsharp"
    },
    "polyglot_notebook": {
     "kernelName": "fsharp"
    }
   },
   "outputs": [],
   "source": [
    "#!import ../nbs/Testing.dib"
   ]
  },
  {
   "cell_type": "code",
   "execution_count": null,
   "metadata": {
    "dotnet_interactive": {
     "language": "fsharp"
    },
    "polyglot_notebook": {
     "kernelName": "fsharp"
    }
   },
   "outputs": [],
   "source": [
    "#r @\"../../../../../../../.nuget/packages/fsharp.control.asyncseq/3.2.1/lib/netstandard2.1/FSharp.Control.AsyncSeq.dll\"\n",
    "#r @\"../../../../../../../.nuget/packages/system.reactive/5.0.0/lib/net5.0/System.Reactive.dll\"\n",
    "#r @\"../../../../../../../.nuget/packages/system.reactive.linq/6.0.1-preview.1/lib/netstandard2.0/System.Reactive.Linq.dll\"\n",
    "#r @\"../../../../../../../.nuget/packages/argu/6.1.1/lib/netstandard2.0/Argu.dll\"\n",
    "#r @\"../../../../../../../.nuget/packages/system.commandline/2.0.0-beta4.22272.1/lib/net6.0/System.CommandLine.dll\"\n",
    "#r @\"../../../../../../../.nuget/packages/asyncio/0.1.69/lib/netstandard2.0/AsyncIO.dll\"\n",
    "#r @\"../../../../../../../.nuget/packages/netmq/4.0.1.13/lib/netstandard2.1/NetMQ.dll\"\n",
    "#r @\"../../../../../../../.nuget/packages/fsharp.json/0.4.1/lib/netstandard2.0/FSharp.Json.dll\""
   ]
  },
  {
   "cell_type": "code",
   "execution_count": null,
   "metadata": {
    "dotnet_interactive": {
     "language": "fsharp"
    },
    "polyglot_notebook": {
     "kernelName": "fsharp"
    }
   },
   "outputs": [],
   "source": [
    "#!import ../nbs/Common.fs\n",
    "#!import ../nbs/CommonFSharp.fs\n",
    "#!import ../nbs/Async.fs\n",
    "#!import ../nbs/AsyncSeq.fs\n",
    "#!import ../nbs/Networking.fs\n",
    "#!import ../nbs/Runtime.fs\n",
    "#!import ../nbs/FileSystem.fs"
   ]
  },
  {
   "cell_type": "code",
   "execution_count": null,
   "metadata": {
    "dotnet_interactive": {
     "language": "fsharp"
    },
    "polyglot_notebook": {
     "kernelName": "fsharp"
    }
   },
   "outputs": [],
   "source": [
    "open Common\n",
    "open FileSystem"
   ]
  },
  {
   "cell_type": "markdown",
   "metadata": {},
   "source": [
    "## sendJson"
   ]
  },
  {
   "cell_type": "code",
   "execution_count": null,
   "metadata": {
    "dotnet_interactive": {
     "language": "fsharp"
    },
    "polyglot_notebook": {
     "kernelName": "fsharp"
    }
   },
   "outputs": [],
   "source": [
    "let inline sendJson (port : int) (json : string) = async {\n",
    "    let! portOpen = Networking.testPortOpen port\n",
    "    if portOpen then\n",
    "        // use runtime = new NetMQ.NetMQRuntime ()\n",
    "        use request = new NetMQ.Sockets.RequestSocket ()\n",
    "        request.Connect $\"tcp://127.0.0.1:{port}\"\n",
    "\n",
    "        let msg = NetMQ.NetMQMessage ()\n",
    "        msg.Append json\n",
    "\n",
    "        NetMQ.OutgoingSocketExtensions.SendMultipartMessage (request, msg)\n",
    "        let result = NetMQ.ReceivingSocketExtensions.ReceiveMultipartMessage (request, 10)\n",
    "        // let! result = NetMQ.AsyncReceiveExtensions.ReceiveMultipartMessageAsync (request, 10) |> Async.AwaitTask\n",
    "        let resultString = result |> Seq.map (fun x -> x.ConvertToString ()) |> String.concat \"\"\n",
    "        trace Debug (fun () -> $\"sendJson / port: {port} / json: {json} / result.FrameCount: {result.FrameCount} / resultString.Length: {resultString.Length}\") getLocals\n",
    "        return Some resultString\n",
    "    else\n",
    "        trace Debug (fun () -> \"sendJson / error: port not open\") getLocals\n",
    "        return None\n",
    "}"
   ]
  },
  {
   "cell_type": "markdown",
   "metadata": {},
   "source": [
    "## sendObj"
   ]
  },
  {
   "cell_type": "code",
   "execution_count": null,
   "metadata": {
    "dotnet_interactive": {
     "language": "fsharp"
    },
    "polyglot_notebook": {
     "kernelName": "fsharp"
    }
   },
   "outputs": [],
   "source": [
    "let inline sendObj port obj =\n",
    "    obj\n",
    "    |> System.Text.Json.JsonSerializer.Serialize\n",
    "    |> sendJson port"
   ]
  },
  {
   "cell_type": "markdown",
   "metadata": {},
   "source": [
    "## awaitCompiler"
   ]
  },
  {
   "cell_type": "code",
   "execution_count": null,
   "metadata": {
    "dotnet_interactive": {
     "language": "fsharp"
    },
    "polyglot_notebook": {
     "kernelName": "fsharp"
    }
   },
   "outputs": [],
   "source": [
    "type VSCPos = {| line : int; character : int |}\n",
    "type VSCRange = VSCPos * VSCPos\n",
    "type RString = VSCRange * string\n",
    "type TracedError = {| trace : string list; message : string |}\n",
    "type ClientErrorsRes =\n",
    "    | FatalError of string\n",
    "    | TracedError of TracedError\n",
    "    | PackageErrors of {| uri : string; errors : RString list |}\n",
    "    | TokenizerErrors of {| uri : string; errors : RString list |}\n",
    "    | ParserErrors of {| uri : string; errors : RString list |}\n",
    "    | TypeErrors of {| uri : string; errors : RString list |}"
   ]
  },
  {
   "cell_type": "code",
   "execution_count": null,
   "metadata": {
    "dotnet_interactive": {
     "language": "fsharp"
    },
    "polyglot_notebook": {
     "kernelName": "fsharp"
    }
   },
   "outputs": [],
   "source": [
    "let inline awaitCompiler port cancellationToken = async {\n",
    "    let! ct =\n",
    "        cancellationToken\n",
    "        |> Option.defaultValue System.Threading.CancellationToken.None\n",
    "        |> Async.mergeCancellationTokenWithDefaultAsync\n",
    "\n",
    "    let compiler = MailboxProcessor.Start (fun inbox -> async {\n",
    "        let! availablePort = Networking.getAvailablePort (Some 60) port\n",
    "        if availablePort <> port then\n",
    "            let pingObj = {| Ping = true |}\n",
    "            let! pingResult = pingObj |> sendObj port\n",
    "            inbox.Post ()\n",
    "        else\n",
    "            let repositoryRoot = FileSystem.getSourceDirectory () |> FileSystem.findParent \".paket\" false\n",
    "\n",
    "            let compilerPath =\n",
    "                repositoryRoot </> \"deps/The-Spiral-Language/The Spiral Language 2/artifacts/bin/The Spiral Language 2/release\"\n",
    "                |> System.IO.Path.GetFullPath\n",
    "\n",
    "            let dllPath = compilerPath </> \"Spiral.dll\"\n",
    "            // let commandsPath = compilerPath </> \"compiler/supervisor/commands\"\n",
    "\n",
    "            let! exitCode, result =\n",
    "                Runtime.executeWithOptionsAsync\n",
    "                    {\n",
    "                        Command = $@\"dotnet \"\"{dllPath}\"\" port={port}\"\n",
    "                        CancellationToken = Some ct\n",
    "                        WorkingDirectory = None\n",
    "                        OnLine = Some <| fun { Line = line } -> async {\n",
    "                            if line |> String.contains $\"Server bound to: tcp://*:{port}\"\n",
    "                            then inbox.Post ()\n",
    "                        }\n",
    "                    }\n",
    "            trace Debug (fun () -> $\"startSupervisor / exitCode: {exitCode} / result: {result}\") getLocals\n",
    "    }, ct)\n",
    "\n",
    "    do! compiler.Receive ()\n",
    "\n",
    "    let request = new NetMQ.Sockets.SubscriberSocket ()\n",
    "    request.SubscribeToAnyTopic ()\n",
    "    request.Connect $\"tcp://127.0.0.1:{port + 1}\"\n",
    "\n",
    "    let rec loop i = async {\n",
    "        let result = NetMQ.ReceivingSocketExtensions.ReceiveMultipartMessage (request, 10)\n",
    "        // let! result = NetMQ.AsyncReceiveExtensions.ReceiveMultipartMessageAsync (request, 10) |> Async.AwaitTask\n",
    "        return\n",
    "            result\n",
    "            |> Seq.map (fun x -> x.ConvertToString ())\n",
    "            |> String.concat \"\"\n",
    "            |> FSharp.Json.Json.deserialize<ClientErrorsRes>\n",
    "    }\n",
    "\n",
    "    return loop |> FSharp.Control.AsyncSeq.initInfiniteAsync, (request :> System.IDisposable)\n",
    "}"
   ]
  },
  {
   "cell_type": "markdown",
   "metadata": {},
   "source": [
    "## getFileUri"
   ]
  },
  {
   "cell_type": "code",
   "execution_count": null,
   "metadata": {
    "dotnet_interactive": {
     "language": "fsharp"
    },
    "polyglot_notebook": {
     "kernelName": "fsharp"
    }
   },
   "outputs": [],
   "source": [
    "let inline getFileUri path =\n",
    "    $\"file:///{path |> String.trimStart [| '/' |]}\""
   ]
  },
  {
   "cell_type": "code",
   "execution_count": null,
   "metadata": {
    "dotnet_interactive": {
     "language": "fsharp"
    },
    "polyglot_notebook": {
     "kernelName": "fsharp"
    }
   },
   "outputs": [],
   "source": [
    "let inline getFilePathFromUri uri =\n",
    "    match System.Uri.TryCreate (uri, System.UriKind.Absolute) with\n",
    "    | true, uri -> uri.AbsolutePath |> System.IO.Path.GetFullPath\n",
    "    | _ -> failwith \"invalid uri\""
   ]
  },
  {
   "cell_type": "markdown",
   "metadata": {},
   "source": [
    "## buildFile"
   ]
  },
  {
   "cell_type": "code",
   "execution_count": null,
   "metadata": {
    "dotnet_interactive": {
     "language": "fsharp"
    },
    "polyglot_notebook": {
     "kernelName": "fsharp"
    }
   },
   "outputs": [],
   "source": [
    "let inline buildFile timeout cancellationToken path = async {\n",
    "    let fullPath = path |> System.IO.Path.GetFullPath\n",
    "    let fileDir = fullPath |> System.IO.Path.GetDirectoryName\n",
    "    let fileName = fullPath |> System.IO.Path.GetFileNameWithoutExtension\n",
    "    let! code = fullPath |> FileSystem.readAllTextAsync\n",
    "\n",
    "    let stream, disposable = FileSystem.watchDirectory true fileDir\n",
    "    use _ = disposable\n",
    "\n",
    "    let port =\n",
    "        if fullPath |> String.startsWith (System.IO.Path.GetTempPath ())\n",
    "            && fullPath |> String.contains \"Microsoft.DotNet.Interactive.App\" |> not\n",
    "        then 13807\n",
    "        else 13805\n",
    "\n",
    "    let! errors, disposable = awaitCompiler port cancellationToken\n",
    "    use _ = disposable\n",
    "\n",
    "    let fsxContentSeq =\n",
    "        stream\n",
    "        |> FSharp.Control.AsyncSeq.choose (function\n",
    "            | _, FileSystemChange.Changed (path, Some content) when path = $\"{fileName}.fsx\" -> Some content\n",
    "            | _ -> None\n",
    "        )\n",
    "        |> FSharp.Control.AsyncSeq.map (fun content ->\n",
    "            Some (content |> String.replace \"\\r\\n\" \"\\n\"), None\n",
    "        )\n",
    "\n",
    "    let inline printErrorData (data : {| uri : string; errors : RString list |}) =\n",
    "        let fileName = data.uri |> System.IO.Path.GetFileName\n",
    "        let errors =\n",
    "            data.errors\n",
    "            |> List.map snd\n",
    "            |> String.concat \"\\n\"\n",
    "        $\"{fileName}:\\n{errors}\"\n",
    "\n",
    "    let errorsSeq =\n",
    "        errors\n",
    "        |> FSharp.Control.AsyncSeq.choose (fun error ->\n",
    "            match error with\n",
    "            | FatalError message ->\n",
    "                Some (message, true, error)\n",
    "            | TracedError data ->\n",
    "                Some (data.message, true, error)\n",
    "            | PackageErrors data when data.errors |> List.isEmpty |> not ->\n",
    "                Some (data |> printErrorData, true, error)\n",
    "            | TokenizerErrors data when data.errors |> List.isEmpty |> not ->\n",
    "                Some (data |> printErrorData, true, error)\n",
    "            | ParserErrors data when data.errors |> List.isEmpty |> not ->\n",
    "                Some (data |> printErrorData, false, error)\n",
    "            | TypeErrors data when data.errors |> List.isEmpty |> not ->\n",
    "                Some (data |> printErrorData, true, error)\n",
    "            | _ -> None\n",
    "        )\n",
    "        |> FSharp.Control.AsyncSeq.map (fun (message, fatal, error) ->\n",
    "            None, Some (message, fatal, error)\n",
    "        )\n",
    "\n",
    "    let outputSeq =\n",
    "        [fsxContentSeq; errorsSeq]\n",
    "        |> FSharp.Control.AsyncSeq.mergeAll\n",
    "\n",
    "    let! outputChild =\n",
    "        ((None, [], None), outputSeq)\n",
    "        ||> FSharp.Control.AsyncSeq.scan (\n",
    "            fun (fsxContentResult, errors, firstErrorTicks) (fsxContent, error) ->\n",
    "                match fsxContent, error with\n",
    "                | Some fsxContent, None -> Some fsxContent, errors, firstErrorTicks\n",
    "                | None, Some (message, fatal, error) ->\n",
    "                    fsxContentResult,\n",
    "                    (message, error) :: errors,\n",
    "                    firstErrorTicks\n",
    "                    |> Option.defaultWith (fun () ->\n",
    "                        if fatal\n",
    "                        then System.DateTime.MinValue.Ticks\n",
    "                        else System.DateTime.Now.Ticks\n",
    "                    )\n",
    "                    |> Some\n",
    "                | _ -> fsxContentResult, errors, firstErrorTicks\n",
    "        )\n",
    "        |> FSharp.Control.AsyncSeq.takeWhileInclusive (fun (fsxContent, errors, firstErrorTicks) ->\n",
    "            let firstErrorMs =\n",
    "                firstErrorTicks\n",
    "                |> Option.map (fun t -> System.TimeSpan(System.DateTime.Now.Ticks - t).TotalMilliseconds)\n",
    "            trace Debug (fun () -> $\"buildFile / fsxContent: {fsxContent} / errors: {errors} / firstErrorMs: {firstErrorMs}\") getLocals\n",
    "            match fsxContent, errors, firstErrorMs with\n",
    "            | None, [], _ -> true\n",
    "            | None, _, Some firstErrorMs when firstErrorMs < 2000. -> true\n",
    "            | _ -> false\n",
    "        )\n",
    "        |> FSharp.Control.AsyncSeq.map (fun (fsxContent, errors, _) ->\n",
    "            fsxContent, errors |> List.distinctBy fst\n",
    "        )\n",
    "        |> FSharp.Control.AsyncSeq.tryLast\n",
    "        |> Async.runWithTimeoutAsync timeout\n",
    "        |> Async.StartChild\n",
    "\n",
    "    let fileOpenObj = {| FileOpen = {| uri = fullPath |> getFileUri; spiText = code |} |}\n",
    "    let! fileOpenResult = fileOpenObj |> sendObj port\n",
    "\n",
    "    let buildFileObj = {| BuildFile = {| uri = fullPath |> getFileUri; backend = \"Fsharp\" |} |}\n",
    "    let! buildFileResult = buildFileObj |> sendObj port\n",
    "\n",
    "    return!\n",
    "        outputChild\n",
    "        |> Async.map (Option.flatten >> Option.defaultValue (None, []))\n",
    "}"
   ]
  },
  {
   "cell_type": "markdown",
   "metadata": {},
   "source": [
    "## persistCode"
   ]
  },
  {
   "cell_type": "code",
   "execution_count": null,
   "metadata": {
    "dotnet_interactive": {
     "language": "fsharp"
    },
    "polyglot_notebook": {
     "kernelName": "fsharp"
    }
   },
   "outputs": [],
   "source": [
    "let inline persistCode timeout cancellationToken code = async {\n",
    "    let tempDir = FileSystem.createTempDirectory ()\n",
    "\n",
    "    let mainPath = tempDir </> \"main.spi\"\n",
    "    do! code |> FileSystem.writeAllTextAsync mainPath\n",
    "\n",
    "    let repositoryRoot = FileSystem.getSourceDirectory () |> FileSystem.findParent \".paket\" false\n",
    "\n",
    "    let spiprojPath = tempDir </> \"package.spiproj\"\n",
    "    let spiprojCode =\n",
    "        $\"\"\"packageDir: {repositoryRoot </> \"spiral\"}\n",
    "packages:\n",
    "    |core-\n",
    "    fsharp\n",
    "modules:\n",
    "    main\n",
    "\"\"\"\n",
    "    do! spiprojCode |> FileSystem.writeAllTextAsync spiprojPath\n",
    "\n",
    "    let disposable = newDisposable (fun () ->\n",
    "        tempDir |> FileSystem.deleteDirectoryAsync |> Async.Ignore |> Async.RunSynchronously\n",
    "    )\n",
    "\n",
    "    return mainPath, disposable\n",
    "}"
   ]
  },
  {
   "cell_type": "markdown",
   "metadata": {},
   "source": [
    "## buildCode"
   ]
  },
  {
   "cell_type": "code",
   "execution_count": null,
   "metadata": {
    "dotnet_interactive": {
     "language": "fsharp"
    },
    "polyglot_notebook": {
     "kernelName": "fsharp"
    }
   },
   "outputs": [],
   "source": [
    "let inline buildCode timeout cancellationToken code = async {\n",
    "    let! mainPath, disposable = persistCode timeout cancellationToken code\n",
    "    use _ = disposable\n",
    "    return! mainPath |> buildFile timeout cancellationToken\n",
    "}"
   ]
  },
  {
   "cell_type": "code",
   "execution_count": null,
   "metadata": {
    "dotnet_interactive": {
     "language": "fsharp"
    },
    "polyglot_notebook": {
     "kernelName": "fsharp"
    }
   },
   "outputs": [],
   "source": [
    "//// test\n",
    "\n",
    "let buildCode timeout cancellationToken code = buildCode timeout cancellationToken code"
   ]
  },
  {
   "cell_type": "code",
   "execution_count": null,
   "metadata": {
    "dotnet_interactive": {
     "language": "fsharp"
    },
    "polyglot_notebook": {
     "kernelName": "fsharp"
    }
   },
   "outputs": [
    {
     "name": "stdout",
     "output_type": "stream",
     "text": [
      "00:00:00 #1 [Debug] createTempDirectory / tempFolder: C:\\Users\\i574n\\AppData\\Local\\Temp\\!dotnet-repl\\20230819-2241-1578-7816-75d5a8a6a364 / result: { CreationTime = 2023-08-19 10:41:15 PM\n",
      "  Exists = true }\r\n",
      "00:00:00 #2 [Debug] runWithTimeoutAsync / timeout: 60\r\n",
      "00:00:00 #3 [Debug] executeAsync / options: { Command =\n",
      "   \"dotnet \"C:\\home\\git\\polyglot\\deps\\The-Spiral-Language\\The Spiral Language 2\\artifacts\\bin\\The Spiral Language 2\\release\\Spiral.dll\" port=13807\"\n",
      "  WorkingDirectory = None\n",
      "  CancellationToken = Some System.Threading.CancellationToken\n",
      "  OnLine = Some <fun:buildCode@3-900> }\r\n",
      "00:00:00 #4 [Debug] > Server bound to: tcp://*:13807 & tcp://*:13808\r\n",
      "00:00:00 #5 [Debug] > pwd: C:\\home\\git\\polyglot\\apps\\spiral\r\n",
      "00:00:00 #6 [Debug] > dll_path: C:\\home\\git\\polyglot\\deps\\The-Spiral-Language\\The Spiral Language 2\\artifacts\\bin\\The Spiral Language 2\\release\r\n",
      "00:00:00 #7 [Debug] buildFile / fsxContent:  / errors: [] / firstErrorMs:\r\n",
      "00:00:00 #8 [Debug] sendJson / port: 13807 / json: {\"FileOpen\":{\"spiText\":\"inl app () =\\n    0i32\\n\\ninl a = 1\\n\\ninl main () =\\n    app\\n    |\\u003E dyn\\n    |\\u003E ignore\\n\",\"uri\":\"file:///C:\\\\Users\\\\i574n\\\\AppData\\\\Local\\\\Temp\\\\!dotnet-repl\\\\20230819-2241-1578-7816-75d5a8a6a364\\\\main.spi\"}} / result.FrameCount: 1 / resultString.Length: 0\r\n",
      "00:00:00 #9 [Debug] sendJson / port: 13807 / json: {\"BuildFile\":{\"backend\":\"Fsharp\",\"uri\":\"file:///C:\\\\Users\\\\i574n\\\\AppData\\\\Local\\\\Temp\\\\!dotnet-repl\\\\20230819-2241-1578-7816-75d5a8a6a364\\\\main.spi\"}} / result.FrameCount: 1 / resultString.Length: 0\r\n",
      "00:00:00 #10 [Debug] > Building C:\\Users\\i574n\\AppData\\Local\\Temp\\!dotnet-repl\\20230819-2241-1578-7816-75d5a8a6a364\\main.spi\r\n",
      "00:00:00 #11 [Debug] buildFile / fsxContent:  / errors: [(main.spi:\n",
      "Global inl/let statements should all return functions known at parse time., ParserErrors\n",
      "  { errors =\n",
      "     [(({ character = 0\n",
      "          line = 3 }, { character = 9\n",
      "                        line = 3 }),\n",
      "       \"Global inl/let statements should all return functions known at parse time.\")]\n",
      "    uri =\n",
      "     \"file:///C:\\Users\\i574n\\AppData\\Local\\Temp\\!dotnet-repl\\20230819-2241-1578-7816-75d5a8a6a364\\main.spi\" })] / firstErrorMs: Some(0.8178)\r\n",
      "00:00:01 #12 [Debug] buildFile / fsxContent:  / errors: [(main.spi:\n",
      "Global inl/let statements should all return functions known at parse time., ParserErrors\n",
      "  { errors =\n",
      "     [(({ character = 0\n",
      "          line = 3 }, { character = 9\n",
      "                        line = 3 }),\n",
      "       \"Global inl/let statements should all return functions known at parse time.\")]\n",
      "    uri =\n",
      "     \"file:///C:\\Users\\i574n\\AppData\\Local\\Temp\\!dotnet-repl\\20230819-2241-1578-7816-75d5a8a6a364\\main.spi\" }); (main.spi:\n",
      "Global inl/let statements should all return functions known at parse time., ParserErrors\n",
      "  { errors =\n",
      "     [(({ character = 0\n",
      "          line = 3 }, { character = 9\n",
      "                        line = 3 }),\n",
      "       \"Global inl/let statements should all return functions known at parse time.\")]\n",
      "    uri =\n",
      "     \"file:///C:\\Users\\i574n\\AppData\\Local\\Temp\\!dotnet-repl\\20230819-2241-1578-7816-75d5a8a6a364\\main.spi\" })] / firstErrorMs: Some(379.1685)\r\n",
      "00:00:01 #13 [Debug] buildFile / fsxContent: Some(let rec closure0 () () : int32 =\n",
      "    0\n",
      "let v0 : (unit -> int32) = closure0()\n",
      "()\n",
      ") / errors: [(main.spi:\n",
      "Global inl/let statements should all return functions known at parse time., ParserErrors\n",
      "  { errors =\n",
      "     [(({ character = 0\n",
      "          line = 3 }, { character = 9\n",
      "                        line = 3 }),\n",
      "       \"Global inl/let statements should all return functions known at parse time.\")]\n",
      "    uri =\n",
      "     \"file:///C:\\Users\\i574n\\AppData\\Local\\Temp\\!dotnet-repl\\20230819-2241-1578-7816-75d5a8a6a364\\main.spi\" }); (main.spi:\n",
      "Global inl/let statements should all return functions known at parse time., ParserErrors\n",
      "  { errors =\n",
      "     [(({ character = 0\n",
      "          line = 3 }, { character = 9\n",
      "                        line = 3 }),\n",
      "       \"Global inl/let statements should all return functions known at parse time.\")]\n",
      "    uri =\n",
      "     \"file:///C:\\Users\\i574n\\AppData\\Local\\Temp\\!dotnet-repl\\20230819-2241-1578-7816-75d5a8a6a364\\main.spi\" })] / firstErrorMs: Some(700.6502)\r\n",
      "00:00:01 #14 [Debug] watchWithFilter / Disposing watch stream / fullPath: C:\\Users\\i574n\\AppData\\Local\\Temp\\!dotnet-repl\\20230819-2241-1578-7816-75d5a8a6a364 / filter: FileName, LastWrite\r\n",
      "FSharpOption<Tuple<FSharpOption<String>,FSharpList<String>>>\r\n",
      "      Value:       - FSharpOption<String>\r\n",
      "          Value: let rec closure0 () () : int32 =\n",
      "    0\n",
      "let v0 : (unit -> int32) = closure0()\n",
      "()\n",
      "\r\n",
      "      - [ main.spi:\n",
      "Global inl/let statements should all return functions known at parse time. ]\r\n"
     ]
    }
   ],
   "source": [
    "//// test\n",
    "\n",
    "\"inl app () =\n",
    "    0i32\n",
    "\n",
    "inl a = 1\n",
    "\n",
    "inl main () =\n",
    "    app\n",
    "    |> dyn\n",
    "    |> ignore\n",
    "\"\n",
    "|> buildCode 8000 None\n",
    "|> Async.runWithTimeout 8000\n",
    "|> Option.map (fun (fsxContent, errors) -> fsxContent, errors |> List.map fst)\n",
    "|> _equal (\n",
    "    Some (\n",
    "        Some \"let rec closure0 () () : int32 =\n",
    "    0\n",
    "let v0 : (unit -> int32) = closure0()\n",
    "()\n",
    "\",\n",
    "        [\"main.spi:\n",
    "Global inl/let statements should all return functions known at parse time.\"]\n",
    "    )\n",
    ")"
   ]
  },
  {
   "cell_type": "code",
   "execution_count": null,
   "metadata": {
    "dotnet_interactive": {
     "language": "fsharp"
    },
    "polyglot_notebook": {
     "kernelName": "fsharp"
    }
   },
   "outputs": [
    {
     "name": "stdout",
     "output_type": "stream",
     "text": [
      "00:00:02 #15 [Debug] createTempDirectory / tempFolder: C:\\Users\\i574n\\AppData\\Local\\Temp\\!dotnet-repl\\20230819-2241-1787-8794-82c1d5401557 / result: { CreationTime = 2023-08-19 10:41:17 PM\n",
      "  Exists = true }\r\n",
      "00:00:02 #16 [Debug] runWithTimeoutAsync / timeout: 60\r\n",
      "00:00:02 #17 [Debug] executeAsync / options: { Command =\n",
      "   \"dotnet \"C:\\home\\git\\polyglot\\deps\\The-Spiral-Language\\The Spiral Language 2\\artifacts\\bin\\The Spiral Language 2\\release\\Spiral.dll\" port=13807\"\n",
      "  WorkingDirectory = None\n",
      "  CancellationToken = Some System.Threading.CancellationToken\n",
      "  OnLine = Some <fun:buildCode@3-900> }\r\n",
      "00:00:02 #18 [Debug] > Server bound to: tcp://*:13807 & tcp://*:13808\r\n",
      "00:00:02 #19 [Debug] buildFile / fsxContent:  / errors: [] / firstErrorMs:\r\n",
      "00:00:02 #20 [Debug] > pwd: C:\\home\\git\\polyglot\\apps\\spiral\r\n",
      "00:00:02 #21 [Debug] > dll_path: C:\\home\\git\\polyglot\\deps\\The-Spiral-Language\\The Spiral Language 2\\artifacts\\bin\\The Spiral Language 2\\release\r\n",
      "00:00:02 #22 [Debug] sendJson / port: 13807 / json: {\"FileOpen\":{\"spiText\":\"inl app () =\\n    fsharp.console.write_line \\u0022error\\u0022\\n    1i32\\n\\ninl main () =\\n    app\\n    |\\u003E dyn\\n    |\\u003E ignore\\n\",\"uri\":\"file:///C:\\\\Users\\\\i574n\\\\AppData\\\\Local\\\\Temp\\\\!dotnet-repl\\\\20230819-2241-1787-8794-82c1d5401557\\\\main.spi\"}} / result.FrameCount: 1 / resultString.Length: 0\r\n",
      "00:00:02 #23 [Debug] sendJson / port: 13807 / json: {\"BuildFile\":{\"backend\":\"Fsharp\",\"uri\":\"file:///C:\\\\Users\\\\i574n\\\\AppData\\\\Local\\\\Temp\\\\!dotnet-repl\\\\20230819-2241-1787-8794-82c1d5401557\\\\main.spi\"}} / result.FrameCount: 1 / resultString.Length: 0\r\n",
      "00:00:02 #24 [Debug] > Building C:\\Users\\i574n\\AppData\\Local\\Temp\\!dotnet-repl\\20230819-2241-1787-8794-82c1d5401557\\main.spi\r\n",
      "00:00:03 #25 [Debug] watchWithFilter / readContent / retry: 0 / ex: System.AggregateException: One or more errors occurred. (The process cannot access the file 'C:\\Users\\i574n\\AppData\\Local\\Temp\\!dotnet-repl\\20230819-2241-1787-8794-82c1d5401557\\main.fsx' because it is being used by another process.) / fullPath: C:\\Users\\i574n\\AppData\\Local\\Temp\\!dotnet-repl\\20230819-2241-1787-8794-82c1d5401557 / filter: FileName, LastWrite\r\n",
      "00:00:03 #26 [Debug] watchWithFilter / readContent / retry: 0 / ex: System.AggregateException: One or more errors occurred. (The process cannot access the file 'C:\\Users\\i574n\\AppData\\Local\\Temp\\!dotnet-repl\\20230819-2241-1787-8794-82c1d5401557\\main.fsx' because it is being used by another process.) / fullPath: C:\\Users\\i574n\\AppData\\Local\\Temp\\!dotnet-repl\\20230819-2241-1787-8794-82c1d5401557 / filter: FileName, LastWrite\r\n",
      "00:00:03 #27 [Debug] buildFile / fsxContent: Some(let rec closure0 () () : int32 =\n",
      "    let v0 : string = \"error\"\n",
      "    System.Console.WriteLine v0\n",
      "    1\n",
      "let v0 : (unit -> int32) = closure0()\n",
      "()\n",
      ") / errors: [] / firstErrorMs:\r\n",
      "00:00:03 #28 [Debug] watchWithFilter / Disposing watch stream / fullPath: C:\\Users\\i574n\\AppData\\Local\\Temp\\!dotnet-repl\\20230819-2241-1787-8794-82c1d5401557 / filter: FileName, LastWrite\r\n",
      "FSharpOption<Tuple<FSharpOption<String>,FSharpList<String>>>\r\n",
      "      Value:       - FSharpOption<String>\r\n",
      "          Value: let rec closure0 () () : int32 =\n",
      "    let v0 : string = \"error\"\n",
      "    System.Console.WriteLine v0\n",
      "    1\n",
      "let v0 : (unit -> int32) = closure0()\n",
      "()\n",
      "\r\n",
      "      - [  ]\r\n"
     ]
    }
   ],
   "source": [
    "//// test\n",
    "\n",
    "\"\"\"inl app () =\n",
    "    fsharp.console.write_line \"error\"\n",
    "    1i32\n",
    "\n",
    "inl main () =\n",
    "    app\n",
    "    |> dyn\n",
    "    |> ignore\n",
    "\"\"\"\n",
    "|> buildCode 8000 None\n",
    "|> Async.runWithTimeout 8000\n",
    "|> Option.map (fun (fsxContent, errors) -> fsxContent, errors |> List.map fst)\n",
    "|> _equal (\n",
    "    Some (\n",
    "        Some \"\"\"let rec closure0 () () : int32 =\n",
    "    let v0 : string = \"error\"\n",
    "    System.Console.WriteLine v0\n",
    "    1\n",
    "let v0 : (unit -> int32) = closure0()\n",
    "()\n",
    "\"\"\",\n",
    "        []\n",
    "    )\n",
    ")"
   ]
  },
  {
   "cell_type": "code",
   "execution_count": null,
   "metadata": {
    "dotnet_interactive": {
     "language": "fsharp"
    },
    "polyglot_notebook": {
     "kernelName": "fsharp"
    }
   },
   "outputs": [
    {
     "name": "stdout",
     "output_type": "stream",
     "text": [
      "00:00:03 #29 [Debug] createTempDirectory / tempFolder: C:\\Users\\i574n\\AppData\\Local\\Temp\\!dotnet-repl\\20230819-2241-1953-5324-5b185c40d89b / result: { CreationTime = 2023-08-19 10:41:19 PM\n",
      "  Exists = true }\r\n",
      "00:00:03 #30 [Debug] runWithTimeoutAsync / timeout: 60\r\n",
      "00:00:03 #31 [Debug] executeAsync / options: { Command =\n",
      "   \"dotnet \"C:\\home\\git\\polyglot\\deps\\The-Spiral-Language\\The Spiral Language 2\\artifacts\\bin\\The Spiral Language 2\\release\\Spiral.dll\" port=13807\"\n",
      "  WorkingDirectory = None\n",
      "  CancellationToken = Some System.Threading.CancellationToken\n",
      "  OnLine = Some <fun:buildCode@3-900> }\r\n",
      "00:00:04 #32 [Debug] > Server bound to: tcp://*:13807 & tcp://*:13808\r\n",
      "00:00:04 #33 [Debug] buildFile / fsxContent:  / errors: [] / firstErrorMs:\r\n",
      "00:00:04 #34 [Debug] > pwd: C:\\home\\git\\polyglot\\apps\\spiral\r\n",
      "00:00:04 #35 [Debug] > dll_path: C:\\home\\git\\polyglot\\deps\\The-Spiral-Language\\The Spiral Language 2\\artifacts\\bin\\The Spiral Language 2\\release\r\n",
      "00:00:04 #36 [Debug] sendJson / port: 13807 / json: {\"FileOpen\":{\"spiText\":\"\",\"uri\":\"file:///C:\\\\Users\\\\i574n\\\\AppData\\\\Local\\\\Temp\\\\!dotnet-repl\\\\20230819-2241-1953-5324-5b185c40d89b\\\\main.spi\"}} / result.FrameCount: 1 / resultString.Length: 0\r\n",
      "00:00:04 #37 [Debug] sendJson / port: 13807 / json: {\"BuildFile\":{\"backend\":\"Fsharp\",\"uri\":\"file:///C:\\\\Users\\\\i574n\\\\AppData\\\\Local\\\\Temp\\\\!dotnet-repl\\\\20230819-2241-1953-5324-5b185c40d89b\\\\main.spi\"}} / result.FrameCount: 1 / resultString.Length: 0\r\n",
      "00:00:04 #38 [Debug] > Building C:\\Users\\i574n\\AppData\\Local\\Temp\\!dotnet-repl\\20230819-2241-1953-5324-5b185c40d89b\\main.spi\r\n",
      "00:00:05 #39 [Debug] > Cannot find `main` in file main.\r\n",
      "00:00:05 #40 [Debug] > Build skipped for C:\\Users\\i574n\\AppData\\Local\\Temp\\!dotnet-repl\\20230819-2241-1953-5324-5b185c40d89b\\main.spi\r\n",
      "00:00:07 #41 [Debug] runWithTimeoutAsync / timeout: 4000\r\n",
      "00:00:07 #42 [Debug] watchWithFilter / Disposing watch stream / fullPath: C:\\Users\\i574n\\AppData\\Local\\Temp\\!dotnet-repl\\20230819-2241-1953-5324-5b185c40d89b / filter: FileName, LastWrite\r\n",
      "<null>\r\n",
      "00:00:07 #43 [Error] runWithTimeoutAsync / timeout: 4000\r\n"
     ]
    }
   ],
   "source": [
    "//// test\n",
    "\n",
    "\"\"\n",
    "|> buildCode 4000 None\n",
    "|> Async.runWithTimeout 4000\n",
    "|> _equal None"
   ]
  },
  {
   "cell_type": "code",
   "execution_count": null,
   "metadata": {
    "dotnet_interactive": {
     "language": "fsharp"
    },
    "polyglot_notebook": {
     "kernelName": "fsharp"
    }
   },
   "outputs": [
    {
     "name": "stdout",
     "output_type": "stream",
     "text": [
      "00:00:07 #44 [Debug] createTempDirectory / tempFolder: C:\\Users\\i574n\\AppData\\Local\\Temp\\!dotnet-repl\\20230819-2241-2375-7581-7b6867febac0 / result: { CreationTime = 2023-08-19 10:41:23 PM\n",
      "  Exists = true }\r\n",
      "00:00:08 #45 [Debug] runWithTimeoutAsync / timeout: 60\r\n",
      "00:00:08 #46 [Debug] executeAsync / options: { Command =\n",
      "   \"dotnet \"C:\\home\\git\\polyglot\\deps\\The-Spiral-Language\\The Spiral Language 2\\artifacts\\bin\\The Spiral Language 2\\release\\Spiral.dll\" port=13807\"\n",
      "  WorkingDirectory = None\n",
      "  CancellationToken = Some System.Threading.CancellationToken\n",
      "  OnLine = Some <fun:buildCode@3-900> }\r\n",
      "00:00:08 #47 [Debug] > Server bound to: tcp://*:13807 & tcp://*:13808\r\n",
      "00:00:08 #48 [Debug] buildFile / fsxContent:  / errors: [] / firstErrorMs:\r\n",
      "00:00:08 #49 [Debug] > pwd: C:\\home\\git\\polyglot\\apps\\spiral\r\n",
      "00:00:08 #50 [Debug] > dll_path: C:\\home\\git\\polyglot\\deps\\The-Spiral-Language\\The Spiral Language 2\\artifacts\\bin\\The Spiral Language 2\\release\r\n",
      "00:00:08 #51 [Debug] sendJson / port: 13807 / json: {\"FileOpen\":{\"spiText\":\"inl main () =\\n    inl n = 1 \\u002B 1\\n    ()\\n\",\"uri\":\"file:///C:\\\\Users\\\\i574n\\\\AppData\\\\Local\\\\Temp\\\\!dotnet-repl\\\\20230819-2241-2375-7581-7b6867febac0\\\\main.spi\"}} / result.FrameCount: 1 / resultString.Length: 0\r\n",
      "00:00:08 #52 [Debug] sendJson / port: 13807 / json: {\"BuildFile\":{\"backend\":\"Fsharp\",\"uri\":\"file:///C:\\\\Users\\\\i574n\\\\AppData\\\\Local\\\\Temp\\\\!dotnet-repl\\\\20230819-2241-2375-7581-7b6867febac0\\\\main.spi\"}} / result.FrameCount: 1 / resultString.Length: 0\r\n",
      "00:00:08 #53 [Debug] > Building C:\\Users\\i574n\\AppData\\Local\\Temp\\!dotnet-repl\\20230819-2241-2375-7581-7b6867febac0\\main.spi\r\n",
      "00:00:09 #54 [Debug] buildFile / fsxContent:  / errors: [(File main has a type error somewhere in its path., FatalError \"File main has a type error somewhere in its path.\")] / firstErrorMs: Some(63828081684897.75)\r\n",
      "00:00:09 #55 [Debug] watchWithFilter / Disposing watch stream / fullPath: C:\\Users\\i574n\\AppData\\Local\\Temp\\!dotnet-repl\\20230819-2241-2375-7581-7b6867febac0 / filter: FileName, LastWrite\r\n",
      "FSharpOption<Tuple<FSharpOption<String>,FSharpList<String>>>\r\n",
      "      Value:       - <null>\r\n",
      "      - [ File main has a type error somewhere in its path. ]\r\n"
     ]
    }
   ],
   "source": [
    "//// test\n",
    "\n",
    "\"\"\"inl main () =\n",
    "    inl n = 1 + 1\n",
    "    ()\n",
    "\"\"\"\n",
    "|> buildCode 8000 None\n",
    "|> Async.runWithTimeout 8000\n",
    "|> Option.map (fun (fsxContent, errors) -> fsxContent, errors |> List.map fst)\n",
    "|> _equal (\n",
    "    Some (\n",
    "        None,\n",
    "        [\"File main has a type error somewhere in its path.\"]\n",
    "    )\n",
    ")"
   ]
  },
  {
   "cell_type": "code",
   "execution_count": null,
   "metadata": {
    "dotnet_interactive": {
     "language": "fsharp"
    },
    "polyglot_notebook": {
     "kernelName": "fsharp"
    }
   },
   "outputs": [
    {
     "name": "stdout",
     "output_type": "stream",
     "text": [
      "00:00:09 #56 [Debug] createTempDirectory / tempFolder: C:\\Users\\i574n\\AppData\\Local\\Temp\\!dotnet-repl\\20230819-2241-2513-1341-19756c42402f / result: { CreationTime = 2023-08-19 10:41:25 PM\n",
      "  Exists = true }\r\n",
      "00:00:09 #57 [Debug] runWithTimeoutAsync / timeout: 60\r\n",
      "00:00:09 #58 [Debug] executeAsync / options: { Command =\n",
      "   \"dotnet \"C:\\home\\git\\polyglot\\deps\\The-Spiral-Language\\The Spiral Language 2\\artifacts\\bin\\The Spiral Language 2\\release\\Spiral.dll\" port=13807\"\n",
      "  WorkingDirectory = None\n",
      "  CancellationToken = Some System.Threading.CancellationToken\n",
      "  OnLine = Some <fun:buildCode@3-900> }\r\n",
      "00:00:09 #59 [Debug] > Server bound to: tcp://*:13807 & tcp://*:13808\r\n",
      "00:00:09 #60 [Debug] buildFile / fsxContent:  / errors: [] / firstErrorMs:\r\n",
      "00:00:09 #61 [Debug] > pwd: C:\\home\\git\\polyglot\\apps\\spiral\r\n",
      "00:00:09 #62 [Debug] > dll_path: C:\\home\\git\\polyglot\\deps\\The-Spiral-Language\\The Spiral Language 2\\artifacts\\bin\\The Spiral Language 2\\release\r\n",
      "00:00:09 #63 [Debug] sendJson / port: 13807 / json: {\"FileOpen\":{\"spiText\":\"inl main () =\\n    1i32 / 0i32\\n\",\"uri\":\"file:///C:\\\\Users\\\\i574n\\\\AppData\\\\Local\\\\Temp\\\\!dotnet-repl\\\\20230819-2241-2513-1341-19756c42402f\\\\main.spi\"}} / result.FrameCount: 1 / resultString.Length: 0\r\n",
      "00:00:09 #64 [Debug] sendJson / port: 13807 / json: {\"BuildFile\":{\"backend\":\"Fsharp\",\"uri\":\"file:///C:\\\\Users\\\\i574n\\\\AppData\\\\Local\\\\Temp\\\\!dotnet-repl\\\\20230819-2241-2513-1341-19756c42402f\\\\main.spi\"}} / result.FrameCount: 1 / resultString.Length: 0\r\n",
      "00:00:10 #65 [Debug] > Building C:\\Users\\i574n\\AppData\\Local\\Temp\\!dotnet-repl\\20230819-2241-2513-1341-19756c42402f\\main.spi\r\n",
      "00:00:10 #66 [Debug] buildFile / fsxContent:  / errors: [(An attempt to divide by zero has been detected at compile time., TracedError\n",
      "  { message = \"An attempt to divide by zero has been detected at compile time.\"\n",
      "    trace =\n",
      "     [\"Error trace on line: 1, column: 10 in module: C:\\Users\\i574n\\AppData\\Local\\Temp\\!dotnet-repl\\20230819-2241-2513-1341-19756c42402f\\main.spi.\r\n",
      "inl main () =\r\n",
      "         ^\r\n",
      "\";\n",
      "      \"Error trace on line: 2, column: 5 in module: C:\\Users\\i574n\\AppData\\Local\\Temp\\!dotnet-repl\\20230819-2241-2513-1341-19756c42402f\\main.spi.\r\n",
      "    1i32 / 0i32\r\n",
      "    ^\r\n",
      "\"] })] / firstErrorMs: Some(63828081686509.33)\r\n",
      "00:00:10 #67 [Debug] watchWithFilter / Disposing watch stream / fullPath: C:\\Users\\i574n\\AppData\\Local\\Temp\\!dotnet-repl\\20230819-2241-2513-1341-19756c42402f / filter: FileName, LastWrite\r\n",
      "FSharpOption<Tuple<FSharpOption<String>,FSharpList<String>>>\r\n",
      "      Value:       - <null>\r\n",
      "      - [ An attempt to divide by zero has been detected at compile time. ]\r\n"
     ]
    }
   ],
   "source": [
    "//// test\n",
    "\n",
    "\"\"\"inl main () =\n",
    "    1i32 / 0i32\n",
    "\"\"\"\n",
    "|> buildCode 8000 None\n",
    "|> Async.runWithTimeout 8000\n",
    "|> Option.map (fun (fsxContent, errors) -> fsxContent, errors |> List.map fst)\n",
    "|> _equal (\n",
    "    Some (\n",
    "        None,\n",
    "        [\"An attempt to divide by zero has been detected at compile time.\"]\n",
    "    )\n",
    ")"
   ]
  },
  {
   "cell_type": "code",
   "execution_count": null,
   "metadata": {
    "dotnet_interactive": {
     "language": "fsharp"
    },
    "polyglot_notebook": {
     "kernelName": "fsharp"
    }
   },
   "outputs": [
    {
     "name": "stdout",
     "output_type": "stream",
     "text": [
      "00:00:10 #68 [Debug] createTempDirectory / tempFolder: C:\\Users\\i574n\\AppData\\Local\\Temp\\!dotnet-repl\\20230819-2241-2673-7392-7b98b20e66b9 / result: { CreationTime = 2023-08-19 10:41:26 PM\n",
      "  Exists = true }\r\n",
      "00:00:11 #69 [Debug] runWithTimeoutAsync / timeout: 60\r\n",
      "00:00:11 #70 [Debug] executeAsync / options: { Command =\n",
      "   \"dotnet \"C:\\home\\git\\polyglot\\deps\\The-Spiral-Language\\The Spiral Language 2\\artifacts\\bin\\The Spiral Language 2\\release\\Spiral.dll\" port=13807\"\n",
      "  WorkingDirectory = None\n",
      "  CancellationToken = Some System.Threading.CancellationToken\n",
      "  OnLine = Some <fun:buildCode@3-900> }\r\n",
      "00:00:11 #71 [Debug] > Server bound to: tcp://*:13807 & tcp://*:13808\r\n",
      "00:00:11 #72 [Debug] buildFile / fsxContent:  / errors: [] / firstErrorMs:\r\n",
      "00:00:11 #73 [Debug] > pwd: C:\\home\\git\\polyglot\\apps\\spiral\r\n",
      "00:00:11 #74 [Debug] > dll_path: C:\\home\\git\\polyglot\\deps\\The-Spiral-Language\\The Spiral Language 2\\artifacts\\bin\\The Spiral Language 2\\release\r\n",
      "00:00:11 #75 [Debug] sendJson / port: 13807 / json: {\"FileOpen\":{\"spiText\":\"union a =\\n    | B\\n    | c\\n\\ninl main () =\\n    ()\\n\",\"uri\":\"file:///C:\\\\Users\\\\i574n\\\\AppData\\\\Local\\\\Temp\\\\!dotnet-repl\\\\20230819-2241-2673-7392-7b98b20e66b9\\\\main.spi\"}} / result.FrameCount: 1 / resultString.Length: 0\r\n",
      "00:00:11 #76 [Debug] sendJson / port: 13807 / json: {\"BuildFile\":{\"backend\":\"Fsharp\",\"uri\":\"file:///C:\\\\Users\\\\i574n\\\\AppData\\\\Local\\\\Temp\\\\!dotnet-repl\\\\20230819-2241-2673-7392-7b98b20e66b9\\\\main.spi\"}} / result.FrameCount: 1 / resultString.Length: 0\r\n",
      "00:00:11 #77 [Debug] > Building C:\\Users\\i574n\\AppData\\Local\\Temp\\!dotnet-repl\\20230819-2241-2673-7392-7b98b20e66b9\\main.spi\r\n",
      "00:00:11 #78 [Debug] buildFile / fsxContent:  / errors: [(main.spi:\n",
      "Expected: uppercase variable, ParserErrors\n",
      "  { errors = [(({ character = 6\n",
      "                  line = 2 }, { character = 7\n",
      "                                line = 2 }), \"Expected: uppercase variable\")]\n",
      "    uri =\n",
      "     \"file:///C:\\Users\\i574n\\AppData\\Local\\Temp\\!dotnet-repl\\20230819-2241-2673-7392-7b98b20e66b9\\main.spi\" })] / firstErrorMs: Some(0.0175)\r\n",
      "00:00:12 #79 [Debug] buildFile / fsxContent:  / errors: [(main.spi:\n",
      "Expected: uppercase variable, ParserErrors\n",
      "  { errors = [(({ character = 6\n",
      "                  line = 2 }, { character = 7\n",
      "                                line = 2 }), \"Expected: uppercase variable\")]\n",
      "    uri =\n",
      "     \"file:///C:\\Users\\i574n\\AppData\\Local\\Temp\\!dotnet-repl\\20230819-2241-2673-7392-7b98b20e66b9\\main.spi\" }); (main.spi:\n",
      "Expected: uppercase variable, ParserErrors\n",
      "  { errors = [(({ character = 6\n",
      "                  line = 2 }, { character = 7\n",
      "                                line = 2 }), \"Expected: uppercase variable\")]\n",
      "    uri =\n",
      "     \"file:///C:\\Users\\i574n\\AppData\\Local\\Temp\\!dotnet-repl\\20230819-2241-2673-7392-7b98b20e66b9\\main.spi\" })] / firstErrorMs: Some(279.3098)\r\n",
      "00:00:12 #81 [Debug] watchWithFilter / readContent / retry: 0 / ex: System.AggregateException: One or more errors occurred. (The process cannot access the file 'C:\\Users\\i574n\\AppData\\Local\\Temp\\!dotnet-repl\\20230819-2241-2673-7392-7b98b20e66b9\\main.fsx' because it is being used by another process.) / fullPath: C:\\Users\\i574n\\AppData\\Local\\Temp\\!dotnet-repl\\20230819-2241-2673-7392-7b98b20e66b9 / filter: FileName, LastWrite\r\n",
      "00:00:12 #81 [Debug] watchWithFilter / readContent / retry: 0 / ex: System.AggregateException: One or more errors occurred. (The process cannot access the file 'C:\\Users\\i574n\\AppData\\Local\\Temp\\!dotnet-repl\\20230819-2241-2673-7392-7b98b20e66b9\\main.fsx' because it is being used by another process.) / fullPath: C:\\Users\\i574n\\AppData\\Local\\Temp\\!dotnet-repl\\20230819-2241-2673-7392-7b98b20e66b9 / filter: FileName, LastWrite\r\n",
      "00:00:12 #82 [Debug] waitForFileAccess / path: C:\\Users\\i574n\\AppData\\Local\\Temp\\!dotnet-repl\\20230819-2241-2673-7392-7b98b20e66b9\\main.fsx / ex: System.IO.IOException: The process cannot access the file 'C:\\Users\\i574n\\AppData\\Local\\Temp\\!dotnet-repl\\20230819-2241-2673-7392-7b98b20e66b9\\main.fsx' because it is being used by another process.\r\n",
      "00:00:12 #83 [Debug] waitForFileAccess / path: C:\\Users\\i574n\\AppData\\Local\\Temp\\!dotnet-repl\\20230819-2241-2673-7392-7b98b20e66b9\\main.fsx / ex: System.IO.IOException: The process cannot access the file 'C:\\Users\\i574n\\AppData\\Local\\Temp\\!dotnet-repl\\20230819-2241-2673-7392-7b98b20e66b9\\main.fsx' because it is being used by another process.\r\n",
      "00:00:12 #84 [Debug] buildFile / fsxContent: Some(()\n",
      ") / errors: [(main.spi:\n",
      "Expected: uppercase variable, ParserErrors\n",
      "  { errors = [(({ character = 6\n",
      "                  line = 2 }, { character = 7\n",
      "                                line = 2 }), \"Expected: uppercase variable\")]\n",
      "    uri =\n",
      "     \"file:///C:\\Users\\i574n\\AppData\\Local\\Temp\\!dotnet-repl\\20230819-2241-2673-7392-7b98b20e66b9\\main.spi\" }); (main.spi:\n",
      "Expected: uppercase variable, ParserErrors\n",
      "  { errors = [(({ character = 6\n",
      "                  line = 2 }, { character = 7\n",
      "                                line = 2 }), \"Expected: uppercase variable\")]\n",
      "    uri =\n",
      "     \"file:///C:\\Users\\i574n\\AppData\\Local\\Temp\\!dotnet-repl\\20230819-2241-2673-7392-7b98b20e66b9\\main.spi\" })] / firstErrorMs: Some(521.5268)\r\n",
      "00:00:12 #85 [Debug] watchWithFilter / Disposing watch stream / fullPath: C:\\Users\\i574n\\AppData\\Local\\Temp\\!dotnet-repl\\20230819-2241-2673-7392-7b98b20e66b9 / filter: FileName, LastWrite\r\n",
      "FSharpOption<Tuple<FSharpOption<String>,FSharpList<String>>>\r\n",
      "      Value:       - FSharpOption<String>\r\n",
      "          Value: ()\n",
      "\r\n",
      "      - [ main.spi:\n",
      "Expected: uppercase variable ]\r\n"
     ]
    }
   ],
   "source": [
    "//// test\n",
    "\n",
    "\"\"\"union a =\n",
    "    | B\n",
    "    | c\n",
    "\n",
    "inl main () =\n",
    "    ()\n",
    "\"\"\"\n",
    "|> buildCode 8000 None\n",
    "|> Async.runWithTimeout 8000\n",
    "|> Option.map (fun (fsxContent, errors) -> fsxContent, errors |> List.map fst)\n",
    "|> _equal (\n",
    "    Some (\n",
    "        Some \"()\n",
    "\",\n",
    "        [\"main.spi:\n",
    "Expected: uppercase variable\"]\n",
    "    )\n",
    ")"
   ]
  },
  {
   "cell_type": "code",
   "execution_count": null,
   "metadata": {
    "dotnet_interactive": {
     "language": "fsharp"
    },
    "polyglot_notebook": {
     "kernelName": "fsharp"
    }
   },
   "outputs": [
    {
     "name": "stdout",
     "output_type": "stream",
     "text": [
      "00:00:12 #86 [Debug] createTempDirectory / tempFolder: C:\\Users\\i574n\\AppData\\Local\\Temp\\!dotnet-repl\\20230819-2241-2849-4995-42a008b21d25 / result: { CreationTime = 2023-08-19 10:41:28 PM\n",
      "  Exists = true }\r\n",
      "00:00:12 #87 [Debug] runWithTimeoutAsync / timeout: 60\r\n",
      "00:00:12 #88 [Debug] executeAsync / options: { Command =\n",
      "   \"dotnet \"C:\\home\\git\\polyglot\\deps\\The-Spiral-Language\\The Spiral Language 2\\artifacts\\bin\\The Spiral Language 2\\release\\Spiral.dll\" port=13807\"\n",
      "  WorkingDirectory = None\n",
      "  CancellationToken = Some System.Threading.CancellationToken\n",
      "  OnLine = Some <fun:buildCode@3-900> }\r\n",
      "00:00:13 #89 [Debug] > Server bound to: tcp://*:13807 & tcp://*:13808\r\n",
      "00:00:13 #90 [Debug] buildFile / fsxContent:  / errors: [] / firstErrorMs:\r\n",
      "00:00:13 #91 [Debug] > pwd: C:\\home\\git\\polyglot\\apps\\spiral\r\n",
      "00:00:13 #92 [Debug] > dll_path: C:\\home\\git\\polyglot\\deps\\The-Spiral-Language\\The Spiral Language 2\\artifacts\\bin\\The Spiral Language 2\\release\r\n",
      "00:00:13 #93 [Debug] sendJson / port: 13807 / json: {\"FileOpen\":{\"spiText\":\"let x () = y\\ninl main () =\\n    ()\\n\",\"uri\":\"file:///C:\\\\Users\\\\i574n\\\\AppData\\\\Local\\\\Temp\\\\!dotnet-repl\\\\20230819-2241-2849-4995-42a008b21d25\\\\main.spi\"}} / result.FrameCount: 1 / resultString.Length: 0\r\n",
      "00:00:13 #94 [Debug] sendJson / port: 13807 / json: {\"BuildFile\":{\"backend\":\"Fsharp\",\"uri\":\"file:///C:\\\\Users\\\\i574n\\\\AppData\\\\Local\\\\Temp\\\\!dotnet-repl\\\\20230819-2241-2849-4995-42a008b21d25\\\\main.spi\"}} / result.FrameCount: 1 / resultString.Length: 0\r\n",
      "00:00:13 #95 [Debug] > Building C:\\Users\\i574n\\AppData\\Local\\Temp\\!dotnet-repl\\20230819-2241-2849-4995-42a008b21d25\\main.spi\r\n",
      "00:00:13 #96 [Debug] buildFile / fsxContent:  / errors: [(File main has a type error somewhere in its path., FatalError \"File main has a type error somewhere in its path.\")] / firstErrorMs: Some(63828081689720.66)\r\n",
      "00:00:13 #97 [Debug] watchWithFilter / Disposing watch stream / fullPath: C:\\Users\\i574n\\AppData\\Local\\Temp\\!dotnet-repl\\20230819-2241-2849-4995-42a008b21d25 / filter: FileName, LastWrite\r\n",
      "FSharpOption<Tuple<FSharpOption<String>,FSharpList<String>>>\r\n",
      "      Value:       - <null>\r\n",
      "      - [ File main has a type error somewhere in its path. ]\r\n"
     ]
    }
   ],
   "source": [
    "//// test\n",
    "\n",
    "\"\"\"let x () = y\n",
    "inl main () =\n",
    "    ()\n",
    "\"\"\"\n",
    "|> buildCode 8000 None\n",
    "|> Async.runWithTimeout 8000\n",
    "|> Option.map (fun (fsxContent, errors) -> fsxContent, errors |> List.map fst)\n",
    "|> _equal (\n",
    "    Some (\n",
    "        None,\n",
    "        [\"File main has a type error somewhere in its path.\"]\n",
    "    )\n",
    ")"
   ]
  },
  {
   "cell_type": "code",
   "execution_count": null,
   "metadata": {
    "dotnet_interactive": {
     "language": "fsharp"
    },
    "polyglot_notebook": {
     "kernelName": "fsharp"
    }
   },
   "outputs": [
    {
     "name": "stdout",
     "output_type": "stream",
     "text": [
      "00:00:14 #98 [Debug] createTempDirectory / tempFolder: C:\\Users\\i574n\\AppData\\Local\\Temp\\!dotnet-repl\\20230819-2241-2994-9427-931a6ee2a261 / result: { CreationTime = 2023-08-19 10:41:29 PM\n",
      "  Exists = true }\r\n",
      "00:00:14 #99 [Debug] runWithTimeoutAsync / timeout: 60\r\n",
      "00:00:14 #100 [Debug] executeAsync / options: { Command =\n",
      "   \"dotnet \"C:\\home\\git\\polyglot\\deps\\The-Spiral-Language\\The Spiral Language 2\\artifacts\\bin\\The Spiral Language 2\\release\\Spiral.dll\" port=13807\"\n",
      "  WorkingDirectory = None\n",
      "  CancellationToken = Some System.Threading.CancellationToken\n",
      "  OnLine = Some <fun:buildCode@3-900> }\r\n",
      "00:00:14 #101 [Debug] > Server bound to: tcp://*:13807 & tcp://*:13808\r\n",
      "00:00:14 #102 [Debug] buildFile / fsxContent:  / errors: [] / firstErrorMs:\r\n",
      "00:00:14 #103 [Debug] > pwd: C:\\home\\git\\polyglot\\apps\\spiral\r\n",
      "00:00:14 #104 [Debug] > dll_path: C:\\home\\git\\polyglot\\deps\\The-Spiral-Language\\The Spiral Language 2\\artifacts\\bin\\The Spiral Language 2\\release\r\n",
      "00:00:14 #105 [Debug] sendJson / port: 13807 / json: {\"FileOpen\":{\"spiText\":\"\\n/// abc\\ninl main () =\\n    ()\\n\",\"uri\":\"file:///C:\\\\Users\\\\i574n\\\\AppData\\\\Local\\\\Temp\\\\!dotnet-repl\\\\20230819-2241-2994-9427-931a6ee2a261\\\\main.spi\"}} / result.FrameCount: 1 / resultString.Length: 0\r\n",
      "00:00:14 #106 [Debug] sendJson / port: 13807 / json: {\"BuildFile\":{\"backend\":\"Fsharp\",\"uri\":\"file:///C:\\\\Users\\\\i574n\\\\AppData\\\\Local\\\\Temp\\\\!dotnet-repl\\\\20230819-2241-2994-9427-931a6ee2a261\\\\main.spi\"}} / result.FrameCount: 1 / resultString.Length: 0\r\n",
      "00:00:14 #107 [Debug] buildFile / fsxContent:  / errors: [(main.spi:\n",
      "Expected: whitespace, TokenizerErrors\n",
      "  { errors = [(({ character = 2\n",
      "                  line = 1 }, { character = 3\n",
      "                                line = 1 }), \"Expected: whitespace\")]\n",
      "    uri =\n",
      "     \"file:///C:\\Users\\i574n\\AppData\\Local\\Temp\\!dotnet-repl\\20230819-2241-2994-9427-931a6ee2a261\\main.spi\" })] / firstErrorMs: Some(63828081690652.25)\r\n",
      "00:00:14 #108 [Debug] watchWithFilter / Disposing watch stream / fullPath: C:\\Users\\i574n\\AppData\\Local\\Temp\\!dotnet-repl\\20230819-2241-2994-9427-931a6ee2a261 / filter: FileName, LastWrite\r\n",
      "FSharpOption<Tuple<FSharpOption<String>,FSharpList<String>>>\r\n",
      "      Value:       - <null>\r\n",
      "      - [ main.spi:\n",
      "Expected: whitespace ]\r\n"
     ]
    }
   ],
   "source": [
    "//// test\n",
    "\n",
    "\"\"\"\n",
    "/// abc\n",
    "inl main () =\n",
    "    ()\n",
    "\"\"\"\n",
    "|> buildCode 8000 None\n",
    "|> Async.runWithTimeout 8000\n",
    "|> Option.map (fun (fsxContent, errors) -> fsxContent, errors |> List.map fst)\n",
    "|> _equal (\n",
    "    Some (\n",
    "        None,\n",
    "        [\"main.spi:\n",
    "Expected: whitespace\"]\n",
    "    )\n",
    ")"
   ]
  },
  {
   "cell_type": "code",
   "execution_count": null,
   "metadata": {
    "dotnet_interactive": {
     "language": "fsharp"
    },
    "polyglot_notebook": {
     "kernelName": "fsharp"
    }
   },
   "outputs": [
    {
     "name": "stdout",
     "output_type": "stream",
     "text": [
      "00:00:15 #109 [Debug] createTempDirectory / tempFolder: C:\\Users\\i574n\\AppData\\Local\\Temp\\!dotnet-repl\\20230819-2241-3087-8792-8580bb8dc906 / result: { CreationTime = 2023-08-19 10:41:30 PM\n",
      "  Exists = true }\r\n",
      "00:00:15 #110 [Debug] runWithTimeoutAsync / timeout: 60\r\n",
      "00:00:15 #111 [Debug] executeAsync / options: { Command =\n",
      "   \"dotnet \"C:\\home\\git\\polyglot\\deps\\The-Spiral-Language\\The Spiral Language 2\\artifacts\\bin\\The Spiral Language 2\\release\\Spiral.dll\" port=13807\"\n",
      "  WorkingDirectory = None\n",
      "  CancellationToken = Some System.Threading.CancellationToken\n",
      "  OnLine = Some <fun:buildCode@3-900> }\r\n",
      "00:00:15 #112 [Debug] > Server bound to: tcp://*:13807 & tcp://*:13808\r\n",
      "00:00:15 #113 [Debug] buildFile / fsxContent:  / errors: [] / firstErrorMs:\r\n",
      "00:00:15 #114 [Debug] > pwd: C:\\home\\git\\polyglot\\apps\\spiral\r\n",
      "00:00:15 #115 [Debug] > dll_path: C:\\home\\git\\polyglot\\deps\\The-Spiral-Language\\The Spiral Language 2\\artifacts\\bin\\The Spiral Language 2\\release\r\n",
      "00:00:15 #116 [Debug] sendJson / port: 13807 / json: {\"FileOpen\":{\"spiText\":\"\\ninl main () =\\n    real\\n        inl real_unbox forall a. (obj : a) : a =\\n            typecase obj with\\n            | _ =\\u003E obj\\n        real_unbox ()\\n    ()\\n\",\"uri\":\"file:///C:\\\\Users\\\\i574n\\\\AppData\\\\Local\\\\Temp\\\\!dotnet-repl\\\\20230819-2241-3087-8792-8580bb8dc906\\\\main.spi\"}} / result.FrameCount: 1 / resultString.Length: 0\r\n",
      "00:00:15 #117 [Debug] sendJson / port: 13807 / json: {\"BuildFile\":{\"backend\":\"Fsharp\",\"uri\":\"file:///C:\\\\Users\\\\i574n\\\\AppData\\\\Local\\\\Temp\\\\!dotnet-repl\\\\20230819-2241-3087-8792-8580bb8dc906\\\\main.spi\"}} / result.FrameCount: 1 / resultString.Length: 0\r\n",
      "00:00:15 #118 [Debug] > Building C:\\Users\\i574n\\AppData\\Local\\Temp\\!dotnet-repl\\20230819-2241-3087-8792-8580bb8dc906\\main.spi\r\n",
      "00:00:16 #119 [Debug] buildFile / fsxContent:  / errors: [(Cannot apply a forall with a term., TracedError\n",
      "  { message = \"Cannot apply a forall with a term.\"\n",
      "    trace =\n",
      "     [\"Error trace on line: 2, column: 10 in module: C:\\Users\\i574n\\AppData\\Local\\Temp\\!dotnet-repl\\20230819-2241-3087-8792-8580bb8dc906\\main.spi.\r\n",
      "inl main () =\r\n",
      "         ^\r\n",
      "\";\n",
      "      \"Error trace on line: 4, column: 9 in module: C:\\Users\\i574n\\AppData\\Local\\Temp\\!dotnet-repl\\20230819-2241-3087-8792-8580bb8dc906\\main.spi.\r\n",
      "        inl real_unbox forall a. (obj : a) : a =\r\n",
      "        ^\r\n",
      "\";\n",
      "      \"Error trace on line: 7, column: 9 in module: C:\\Users\\i574n\\AppData\\Local\\Temp\\!dotnet-repl\\20230819-2241-3087-8792-8580bb8dc906\\main.spi.\r\n",
      "        real_unbox ()\r\n",
      "        ^\r\n",
      "\"] })] / firstErrorMs: Some(63828081692258.06)\r\n",
      "00:00:16 #120 [Debug] watchWithFilter / Disposing watch stream / fullPath: C:\\Users\\i574n\\AppData\\Local\\Temp\\!dotnet-repl\\20230819-2241-3087-8792-8580bb8dc906 / filter: FileName, LastWrite\r\n",
      "FSharpOption<Tuple<FSharpOption<String>,FSharpList<String>>>\r\n",
      "      Value:       - <null>\r\n",
      "      - [ Cannot apply a forall with a term. ]\r\n"
     ]
    }
   ],
   "source": [
    "//// test\n",
    "\n",
    "\"\"\"\n",
    "inl main () =\n",
    "    real\n",
    "        inl real_unbox forall a. (obj : a) : a =\n",
    "            typecase obj with\n",
    "            | _ => obj\n",
    "        real_unbox ()\n",
    "    ()\n",
    "\"\"\"\n",
    "|> buildCode 8000 None\n",
    "|> Async.runWithTimeout 8000\n",
    "|> Option.map (fun (fsxContent, errors) -> fsxContent, errors |> List.map fst)\n",
    "|> _equal (\n",
    "    Some (\n",
    "        None,\n",
    "        [\"Cannot apply a forall with a term.\"]\n",
    "    )\n",
    ")"
   ]
  },
  {
   "cell_type": "code",
   "execution_count": null,
   "metadata": {
    "dotnet_interactive": {
     "language": "fsharp"
    },
    "polyglot_notebook": {
     "kernelName": "fsharp"
    }
   },
   "outputs": [
    {
     "name": "stdout",
     "output_type": "stream",
     "text": [
      "00:00:16 #121 [Debug] createTempDirectory / tempFolder: C:\\Users\\i574n\\AppData\\Local\\Temp\\!dotnet-repl\\20230819-2241-3249-4949-481ace1a4820 / result: { CreationTime = 2023-08-19 10:41:32 PM\n",
      "  Exists = true }\r\n",
      "00:00:16 #122 [Debug] runWithTimeoutAsync / timeout: 60\r\n",
      "00:00:16 #123 [Debug] executeAsync / options: { Command =\n",
      "   \"dotnet \"C:\\home\\git\\polyglot\\deps\\The-Spiral-Language\\The Spiral Language 2\\artifacts\\bin\\The Spiral Language 2\\release\\Spiral.dll\" port=13807\"\n",
      "  WorkingDirectory = None\n",
      "  CancellationToken = Some System.Threading.CancellationToken\n",
      "  OnLine = Some <fun:buildCode@3-900> }\r\n",
      "00:00:17 #124 [Debug] > Server bound to: tcp://*:13807 & tcp://*:13808\r\n",
      "00:00:17 #125 [Debug] buildFile / fsxContent:  / errors: [] / firstErrorMs:\r\n",
      "00:00:17 #126 [Debug] > pwd: C:\\home\\git\\polyglot\\apps\\spiral\r\n",
      "00:00:17 #127 [Debug] > dll_path: C:\\home\\git\\polyglot\\deps\\The-Spiral-Language\\The Spiral Language 2\\artifacts\\bin\\The Spiral Language 2\\release\r\n",
      "00:00:17 #128 [Debug] sendJson / port: 13807 / json: {\"FileOpen\":{\"spiText\":\"\\ninl main () =\\n    real\\n        inl real_unbox forall a. (obj : a) : a =\\n            typecase obj with\\n            | _ =\\u003E obj\\n        real_unbox \\u0060i32 1\\n\",\"uri\":\"file:///C:\\\\Users\\\\i574n\\\\AppData\\\\Local\\\\Temp\\\\!dotnet-repl\\\\20230819-2241-3249-4949-481ace1a4820\\\\main.spi\"}} / result.FrameCount: 1 / resultString.Length: 0\r\n",
      "00:00:17 #129 [Debug] sendJson / port: 13807 / json: {\"BuildFile\":{\"backend\":\"Fsharp\",\"uri\":\"file:///C:\\\\Users\\\\i574n\\\\AppData\\\\Local\\\\Temp\\\\!dotnet-repl\\\\20230819-2241-3249-4949-481ace1a4820\\\\main.spi\"}} / result.FrameCount: 1 / resultString.Length: 0\r\n",
      "00:00:17 #130 [Debug] > Building C:\\Users\\i574n\\AppData\\Local\\Temp\\!dotnet-repl\\20230819-2241-3249-4949-481ace1a4820\\main.spi\r\n",
      "00:00:17 #131 [Debug] buildFile / fsxContent:  / errors: [(The main function should not have a forall., TracedError { message = \"The main function should not have a forall.\"\n",
      "              trace = [] })] / firstErrorMs: Some(63828081693752)\r\n",
      "00:00:17 #132 [Debug] watchWithFilter / Disposing watch stream / fullPath: C:\\Users\\i574n\\AppData\\Local\\Temp\\!dotnet-repl\\20230819-2241-3249-4949-481ace1a4820 / filter: FileName, LastWrite\r\n",
      "FSharpOption<Tuple<FSharpOption<String>,FSharpList<String>>>\r\n",
      "      Value:       - <null>\r\n",
      "      - [ The main function should not have a forall. ]\r\n"
     ]
    }
   ],
   "source": [
    "//// test\n",
    "\n",
    "\"\"\"\n",
    "inl main () =\n",
    "    real\n",
    "        inl real_unbox forall a. (obj : a) : a =\n",
    "            typecase obj with\n",
    "            | _ => obj\n",
    "        real_unbox `i32 1\n",
    "\"\"\"\n",
    "|> buildCode 8000 None\n",
    "|> Async.runWithTimeout 8000\n",
    "|> Option.map (fun (fsxContent, errors) -> fsxContent, errors |> List.map fst)\n",
    "|> _equal (\n",
    "    Some (\n",
    "        None,\n",
    "        [\"The main function should not have a forall.\"]\n",
    "    )\n",
    ")"
   ]
  },
  {
   "cell_type": "markdown",
   "metadata": {},
   "source": [
    "## getFileTokenRange"
   ]
  },
  {
   "cell_type": "code",
   "execution_count": null,
   "metadata": {
    "dotnet_interactive": {
     "language": "fsharp"
    },
    "polyglot_notebook": {
     "kernelName": "fsharp"
    }
   },
   "outputs": [],
   "source": [
    "let inline getFileTokenRange timeout cancellationToken path = async {\n",
    "    let fullPath = path |> System.IO.Path.GetFullPath\n",
    "    let! code = fullPath |> FileSystem.readAllTextAsync\n",
    "    let lines = code |> String.split [| '\\n' |]\n",
    "\n",
    "    let port =\n",
    "        if fullPath |> String.startsWith (System.IO.Path.GetTempPath ())\n",
    "            && fullPath |> String.contains \"Microsoft.DotNet.Interactive.App\" |> not\n",
    "        then 13807\n",
    "        else 13805\n",
    "\n",
    "    let! outputs = awaitCompiler port cancellationToken\n",
    "\n",
    "    let fileOpenObj = {| FileOpen = {| uri = fullPath |> getFileUri; spiText = code |} |}\n",
    "    let! fileOpenResult = fileOpenObj |> sendObj port\n",
    "\n",
    "    let fileTokenRangeObj =\n",
    "        {|\n",
    "            FileTokenRange =\n",
    "                {|\n",
    "                    uri = fullPath |> getFileUri\n",
    "                    range =\n",
    "                        [|\n",
    "                            {| line = 0; character = 0 |}\n",
    "                            {| line = lines.Length - 1; character = lines.[lines.Length - 1].Length |}\n",
    "                        |]\n",
    "                |}\n",
    "        |}\n",
    "    let! fileTokenRangeResult = fileTokenRangeObj |> sendObj port\n",
    "\n",
    "    return fileTokenRangeResult |> Option.map FSharp.Json.Json.deserialize<int array>\n",
    "}"
   ]
  },
  {
   "cell_type": "markdown",
   "metadata": {},
   "source": [
    "## getCodeTokenRange"
   ]
  },
  {
   "cell_type": "code",
   "execution_count": null,
   "metadata": {
    "dotnet_interactive": {
     "language": "fsharp"
    },
    "polyglot_notebook": {
     "kernelName": "fsharp"
    }
   },
   "outputs": [],
   "source": [
    "let inline getCodeTokenRange timeout cancellationToken code = async {\n",
    "    let! mainPath, disposable = persistCode timeout cancellationToken code\n",
    "    use _ = disposable\n",
    "    return! mainPath |> getFileTokenRange timeout cancellationToken\n",
    "}"
   ]
  },
  {
   "cell_type": "code",
   "execution_count": null,
   "metadata": {
    "dotnet_interactive": {
     "language": "fsharp"
    },
    "polyglot_notebook": {
     "kernelName": "fsharp"
    }
   },
   "outputs": [
    {
     "name": "stdout",
     "output_type": "stream",
     "text": [
      "00:00:23 #133 [Debug] createTempDirectory / tempFolder: C:\\Users\\i574n\\AppData\\Local\\Temp\\!dotnet-repl\\20230819-2241-3905-0536-09d54e49f8d2 / result: { CreationTime = 2023-08-19 10:41:39 PM\n",
      "  Exists = true }\r\n",
      "00:00:23 #134 [Debug] runWithTimeoutAsync / timeout: 60\r\n",
      "00:00:23 #135 [Debug] executeAsync / options: { Command =\n",
      "   \"dotnet \"C:\\home\\git\\polyglot\\deps\\The-Spiral-Language\\The Spiral Language 2\\artifacts\\bin\\The Spiral Language 2\\release\\Spiral.dll\" port=13807\"\n",
      "  WorkingDirectory = None\n",
      "  CancellationToken = Some System.Threading.CancellationToken\n",
      "  OnLine = Some <fun:it@4-419> }\r\n",
      "00:00:23 #136 [Debug] > Server bound to: tcp://*:13807 & tcp://*:13808\r\n",
      "00:00:23 #137 [Debug] > pwd: C:\\home\\git\\polyglot\\apps\\spiral\r\n",
      "00:00:23 #138 [Debug] > dll_path: C:\\home\\git\\polyglot\\deps\\The-Spiral-Language\\The Spiral Language 2\\artifacts\\bin\\The Spiral Language 2\\release\r\n",
      "00:00:23 #139 [Debug] sendJson / port: 13807 / json: {\"FileOpen\":{\"spiText\":\"inl main () = ()\",\"uri\":\"file:///C:\\\\Users\\\\i574n\\\\AppData\\\\Local\\\\Temp\\\\!dotnet-repl\\\\20230819-2241-3905-0536-09d54e49f8d2\\\\main.spi\"}} / result.FrameCount: 1 / resultString.Length: 0\r\n",
      "00:00:24 #140 [Debug] sendJson / port: 13807 / json: {\"FileTokenRange\":{\"range\":[{\"character\":0,\"line\":0},{\"character\":16,\"line\":0}],\"uri\":\"file:///C:\\\\Users\\\\i574n\\\\AppData\\\\Local\\\\Temp\\\\!dotnet-repl\\\\20230819-2241-3905-0536-09d54e49f8d2\\\\main.spi\"}} / result.FrameCount: 1 / resultString.Length: 213\r\n",
      "FSharpOption<Int32[]>\r\n",
      "      Value: [ 0, 0, 3, 7, 0, 0, 4, 4, 0, 0, 0, 5, 1, 8, 0, 0, 1, 1, 8, 0, 0, 2, 1, 4, 0, 0, 2, 1, 8, 0, 0, 1, 1, 8, 0 ]\r\n"
     ]
    }
   ],
   "source": [
    "//// test\n",
    "\n",
    "\"\"\"inl main () = ()\"\"\"\n",
    "|> getCodeTokenRange 8000 None\n",
    "|> Async.runWithTimeout 8000\n",
    "|> Option.flatten\n",
    "|> _equal (Some [|0; 0; 3; 7; 0; 0; 4; 4; 0; 0; 0; 5; 1; 8; 0; 0; 1; 1; 8; 0; 0; 2; 1; 4; 0; 0;\n",
    "2; 1; 8; 0; 0; 1; 1; 8; 0|])"
   ]
  },
  {
   "cell_type": "code",
   "execution_count": null,
   "metadata": {
    "dotnet_interactive": {
     "language": "fsharp"
    },
    "polyglot_notebook": {
     "kernelName": "fsharp"
    }
   },
   "outputs": [
    {
     "name": "stdout",
     "output_type": "stream",
     "text": [
      "00:00:26 #141 [Debug] createTempDirectory / tempFolder: C:\\Users\\i574n\\AppData\\Local\\Temp\\!dotnet-repl\\20230819-2241-4221-2168-24964ff5ef9a / result: { CreationTime = 2023-08-19 10:41:42 PM\n",
      "  Exists = true }\r\n",
      "00:00:26 #142 [Debug] runWithTimeoutAsync / timeout: 60\r\n",
      "00:00:26 #143 [Debug] executeAsync / options: { Command =\n",
      "   \"dotnet \"C:\\home\\git\\polyglot\\deps\\The-Spiral-Language\\The Spiral Language 2\\artifacts\\bin\\The Spiral Language 2\\release\\Spiral.dll\" port=13807\"\n",
      "  WorkingDirectory = None\n",
      "  CancellationToken = Some System.Threading.CancellationToken\n",
      "  OnLine = Some <fun:it@4-689> }\r\n",
      "00:00:26 #144 [Debug] > Server bound to: tcp://*:13807 & tcp://*:13808\r\n",
      "00:00:26 #145 [Debug] > pwd: C:\\home\\git\\polyglot\\apps\\spiral\r\n",
      "00:00:26 #146 [Debug] > dll_path: C:\\home\\git\\polyglot\\deps\\The-Spiral-Language\\The Spiral Language 2\\artifacts\\bin\\The Spiral Language 2\\release\r\n",
      "00:00:26 #147 [Debug] sendJson / port: 13807 / json: {\"FileOpen\":{\"spiText\":\"inl main () = 1i32\",\"uri\":\"file:///C:\\\\Users\\\\i574n\\\\AppData\\\\Local\\\\Temp\\\\!dotnet-repl\\\\20230819-2241-4221-2168-24964ff5ef9a\\\\main.spi\"}} / result.FrameCount: 1 / resultString.Length: 0\r\n",
      "00:00:27 #148 [Debug] sendJson / port: 13807 / json: {\"FileTokenRange\":{\"range\":[{\"character\":0,\"line\":0},{\"character\":18,\"line\":0}],\"uri\":\"file:///C:\\\\Users\\\\i574n\\\\AppData\\\\Local\\\\Temp\\\\!dotnet-repl\\\\20230819-2241-4221-2168-24964ff5ef9a\\\\main.spi\"}} / result.FrameCount: 1 / resultString.Length: 214\r\n",
      "FSharpOption<Int32[]>\r\n",
      "      Value: [ 0, 0, 3, 7, 0, 0, 4, 4, 0, 0, 0, 5, 1, 8, 0, 0, 1, 1, 8, 0, 0, 2, 1, 4, 0, 0, 2, 1, 3, 0, 0, 1, 3, 12, 0 ]\r\n"
     ]
    }
   ],
   "source": [
    "//// test\n",
    "\n",
    "\"\"\"inl main () = 1i32\"\"\"\n",
    "|> getCodeTokenRange 8000 None\n",
    "|> Async.runWithTimeout 8000\n",
    "|> Option.flatten\n",
    "|> _equal (Some [|0; 0; 3; 7; 0; 0; 4; 4; 0; 0; 0; 5; 1; 8; 0; 0; 1; 1; 8; 0; 0; 2; 1; 4; 0; 0;\n",
    "2; 1; 3; 0; 0; 1; 3; 12; 0|])"
   ]
  },
  {
   "cell_type": "markdown",
   "metadata": {},
   "source": [
    "## Arguments"
   ]
  },
  {
   "cell_type": "code",
   "execution_count": null,
   "metadata": {
    "dotnet_interactive": {
     "language": "fsharp"
    },
    "polyglot_notebook": {
     "kernelName": "fsharp"
    }
   },
   "outputs": [],
   "source": [
    "[<RequireQualifiedAccess>]\n",
    "type Arguments =\n",
    "    | [<Argu.ArguAttributes.Mandatory>] BuildFile of string * string\n",
    "    | Timeout of int\n",
    "\n",
    "    interface Argu.IArgParserTemplate with\n",
    "        member s.Usage =\n",
    "            match s with\n",
    "            | BuildFile _ -> nameof Arguments.BuildFile\n",
    "            | Timeout _ -> nameof Arguments.Timeout"
   ]
  },
  {
   "cell_type": "markdown",
   "metadata": {},
   "source": [
    "## main"
   ]
  },
  {
   "cell_type": "code",
   "execution_count": null,
   "metadata": {
    "dotnet_interactive": {
     "language": "fsharp"
    },
    "polyglot_notebook": {
     "kernelName": "fsharp"
    }
   },
   "outputs": [],
   "source": [
    "let main args =\n",
    "    let argsMap = args |> Runtime.parseArgsMap<Arguments>\n",
    "\n",
    "    let inputPath, outputPath =\n",
    "        match argsMap.[nameof Arguments.BuildFile] with\n",
    "        | [ Arguments.BuildFile (inputPath, outputPath) ] -> Some (inputPath, outputPath)\n",
    "        | _ -> None\n",
    "        |> Option.get\n",
    "\n",
    "    let timeout =\n",
    "        match argsMap |> Map.tryFind (nameof Arguments.Timeout) with\n",
    "        | Some [ Arguments.Timeout timeout ] -> timeout\n",
    "        | _ -> 30000\n",
    "\n",
    "    async {\n",
    "        let! outputCode, errors = inputPath |> buildFile timeout None\n",
    "        \n",
    "        errors\n",
    "        |> List.map snd\n",
    "        |> List.iter (fun error ->\n",
    "            trace Error (fun () -> $\"main / error: {error}\") getLocals\n",
    "        )\n",
    "\n",
    "        match outputCode with\n",
    "        | Some outputCode ->\n",
    "            do! outputCode |> FileSystem.writeAllTextAsync outputPath\n",
    "            return 0\n",
    "        | None ->\n",
    "            return 1\n",
    "    }\n",
    "    |> Async.runWithTimeout timeout\n",
    "    |> Option.defaultValue 1"
   ]
  },
  {
   "cell_type": "code",
   "execution_count": null,
   "metadata": {
    "dotnet_interactive": {
     "language": "fsharp"
    },
    "polyglot_notebook": {
     "kernelName": "fsharp"
    }
   },
   "outputs": [
    {
     "data": {
      "text/html": [
       "<div class=\"dni-plaintext\"><pre>0</pre></div><style>\r\n",
       ".dni-code-hint {\r\n",
       "    font-style: italic;\r\n",
       "    overflow: hidden;\r\n",
       "    white-space: nowrap;\r\n",
       "}\r\n",
       ".dni-treeview {\r\n",
       "    white-space: nowrap;\r\n",
       "}\r\n",
       ".dni-treeview td {\r\n",
       "    vertical-align: top;\r\n",
       "    text-align: start;\r\n",
       "}\r\n",
       "details.dni-treeview {\r\n",
       "    padding-left: 1em;\r\n",
       "}\r\n",
       "table td {\r\n",
       "    text-align: start;\r\n",
       "}\r\n",
       "table tr { \r\n",
       "    vertical-align: top; \r\n",
       "    margin: 0em 0px;\r\n",
       "}\r\n",
       "table tr td pre \r\n",
       "{ \r\n",
       "    vertical-align: top !important; \r\n",
       "    margin: 0em 0px !important;\r\n",
       "} \r\n",
       "table th {\r\n",
       "    text-align: start;\r\n",
       "}\r\n",
       "</style>"
      ]
     },
     "metadata": {},
     "output_type": "display_data"
    }
   ],
   "source": [
    "//// test\n",
    "\n",
    "let args =\n",
    "    System.Environment.GetEnvironmentVariable \"ARGS\"\n",
    "    |> Runtime.splitArgs\n",
    "    |> Seq.toArray\n",
    "\n",
    "match args with\n",
    "| [||] -> 0\n",
    "| args -> if main args = 0 then 0 else failwith \"main failed\""
   ]
  }
 ],
 "metadata": {
  "kernelspec": {
   "display_name": ".NET (C#)",
   "language": "C#",
   "name": ".net-csharp"
  },
  "language_info": {
   "file_extension": ".cs",
   "mimetype": "text/x-csharp",
   "name": "C#",
   "pygments_lexer": "csharp",
   "version": "10.0"
  },
  "polyglot_notebook": {
   "defaultKernelName": "csharp",
   "items": [
    {
     "name": "csharp"
    }
   ]
  },
  "dotnet_interactive": {
   "defaultKernelName": "csharp",
   "items": [
    {
     "name": "csharp"
    }
   ]
  }
 },
 "nbformat": 4,
 "nbformat_minor": 5
}