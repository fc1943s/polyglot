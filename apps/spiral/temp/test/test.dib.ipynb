{
 "cells": [
  {
   "cell_type": "markdown",
   "metadata": {},
   "source": [
    "# test (Polyglot)"
   ]
  },
  {
   "cell_type": "code",
   "execution_count": null,
   "metadata": {
    "dotnet_interactive": {
     "language": "spiral"
    },
    "polyglot_notebook": {
     "kernelName": "spiral"
    }
   },
   "outputs": [
    {
     "name": "stdout",
     "output_type": "stream",
     "text": [
      "()\n",
      "\r\n"
     ]
    }
   ],
   "source": [
    "// // test\n",
    "\n",
    "open testing"
   ]
  },
  {
   "cell_type": "markdown",
   "metadata": {},
   "source": [
    "## main"
   ]
  },
  {
   "cell_type": "code",
   "execution_count": null,
   "metadata": {
    "dotnet_interactive": {
     "language": "spiral"
    },
    "polyglot_notebook": {
     "kernelName": "spiral"
    }
   },
   "outputs": [
    {
     "name": "stdout",
     "output_type": "stream",
     "text": [
      "let rec closure0 () (v0 : (string [])) : int32 =\n",
      "    0\n",
      "let v0 : ((string []) -> int32) = closure0()\n",
      "let main args = v0 args\n",
      "()\n",
      "\r\n"
     ]
    }
   ],
   "source": [
    "inl main (_args : array_base string) =\n",
    "    0i32\n",
    "\n",
    "inl main () =\n",
    "    $\"let main args = !main args\" : ()"
   ]
  },
  {
   "cell_type": "code",
   "execution_count": null,
   "metadata": {
    "dotnet_interactive": {
     "language": "spiral"
    },
    "polyglot_notebook": {
     "kernelName": "spiral"
    }
   },
   "outputs": [
    {
     "name": "stdout",
     "output_type": "stream",
     "text": [
      "let rec closure0 () () : int32 =\n",
      "    let v0 : string = \"test\"\n",
      "    System.Console.WriteLine v0\n",
      "    0\n",
      "let v0 : (unit -> int32) = closure0()\n",
      "()\n",
      "\r\n"
     ]
    }
   ],
   "source": [
    "inl app () =\n",
    "    \"test\" |> console.write_line\n",
    "    0i32\n",
    "\n",
    "inl main () =\n",
    "    print_static \"<test>\"\n",
    "\n",
    "    app\n",
    "    |> dyn\n",
    "    |> ignore\n",
    "\n",
    "    print_static \"</test>\""
   ]
  }
 ],
 "metadata": {},
 "nbformat": 4,
 "nbformat_minor": 5
}