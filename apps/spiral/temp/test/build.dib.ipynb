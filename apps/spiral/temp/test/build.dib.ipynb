{
 "cells": [
  {
   "cell_type": "markdown",
   "metadata": {},
   "source": [
    "# test"
   ]
  },
  {
   "cell_type": "markdown",
   "metadata": {},
   "source": [
    "## include scripts"
   ]
  },
  {
   "cell_type": "markdown",
   "metadata": {},
   "source": [
    "### include notebook core"
   ]
  },
  {
   "cell_type": "code",
   "execution_count": null,
   "metadata": {
    "dotnet_interactive": {
     "language": "pwsh"
    },
    "polyglot_notebook": {
     "kernelName": "pwsh"
    }
   },
   "outputs": [],
   "source": [
    ". ../../../../scripts/nbs_header.ps1"
   ]
  },
  {
   "cell_type": "markdown",
   "metadata": {},
   "source": [
    "### Include core functions script"
   ]
  },
  {
   "cell_type": "code",
   "execution_count": null,
   "metadata": {
    "dotnet_interactive": {
     "language": "pwsh"
    },
    "polyglot_notebook": {
     "kernelName": "pwsh"
    }
   },
   "outputs": [],
   "source": [
    ". ../../../../scripts/core.ps1"
   ]
  },
  {
   "cell_type": "markdown",
   "metadata": {},
   "source": [
    "### Include spiral library"
   ]
  },
  {
   "cell_type": "code",
   "execution_count": null,
   "metadata": {
    "dotnet_interactive": {
     "language": "pwsh"
    },
    "polyglot_notebook": {
     "kernelName": "pwsh"
    }
   },
   "outputs": [],
   "source": [
    ". ../../../../lib/spiral/lib.ps1"
   ]
  },
  {
   "cell_type": "markdown",
   "metadata": {},
   "source": [
    "## execute project commands"
   ]
  },
  {
   "cell_type": "markdown",
   "metadata": {},
   "source": [
    "### run notebook with retries using spiral supervisor"
   ]
  },
  {
   "cell_type": "code",
   "execution_count": null,
   "metadata": {
    "dotnet_interactive": {
     "language": "pwsh"
    },
    "polyglot_notebook": {
     "kernelName": "pwsh"
    }
   },
   "outputs": [
    {
     "name": "stdout",
     "output_type": "stream",
     "text": [
      "00:00:00 \u001B[90mverbose\u001B[0m #1 async.run_with_timeout_async / { timeout = 180 }\n",
      "00:00:01 \u001B[94m  debug\u001B[0m #1 runtime.execute_with_options_async / { options = { command = ../../../../workspace/target/release/spiral_builder.exe dib --path test.dib --retries 3; cancellation_token = Some System.Threading.CancellationToken; environment_variables = [||]; on_line = None; stdin = None; trace = true; working_directory = None } }\n",
      "00:00:01 \u001B[90mverbose\u001B[0m #2 > 00:00:00 \u001B[94m  debug\u001B[39m #1 spiral_builder.main / { args = Array(MutCell([\"dib\", \"--path\", \"test.dib\", \"--retries\", \"3\"])) }\n",
      "00:00:01 \u001B[90mverbose\u001B[0m #3 > 00:00:00 \u001B[94m  debug\u001B[39m #2 runtime.execute_with_options / { file_name = dotnet; arguments = [\"repl\", \"--exit-after-run\", \"--run\", \"c:/home/git/polyglot/apps/spiral/temp/test/test.dib\", \"--output-path\", \"c:/home/git/polyglot/apps/spiral/temp/test/test.dib.ipynb\"]; options = { command = dotnet repl --exit-after-run --run \"c:/home/git/polyglot/apps/spiral/temp/test/test.dib\" --output-path \"c:/home/git/polyglot/apps/spiral/temp/test/test.dib.ipynb\"; cancellation_token = None; environment_variables = Array(MutCell([(\"TRACE_LEVEL\", \"Verbose\"), (\"AUTOMATION\", \"True\")])); on_line = None; stdin = None; trace = false; working_directory = None } }\n",
      "00:00:04 \u001B[90mverbose\u001B[0m #4 > >\n",
      "00:00:04 \u001B[90mverbose\u001B[0m #5 > > ── markdown ────────────────────────────────────────────────────────────────────\n",
      "00:00:04 \u001B[90mverbose\u001B[0m #6 > > ╭──────────────────────────────────────────────────────────────────────────────╮\n",
      "00:00:04 \u001B[90mverbose\u001B[0m #7 > > │ # test (Polyglot)                                                            │\n",
      "00:00:04 \u001B[90mverbose\u001B[0m #8 > > ╰──────────────────────────────────────────────────────────────────────────────╯\n",
      "00:00:10 \u001B[90mverbose\u001B[0m #9 > >\n",
      "00:00:10 \u001B[90mverbose\u001B[0m #10 > > ── spiral ──────────────────────────────────────────────────────────────────────\n",
      "00:00:10 \u001B[90mverbose\u001B[0m #11 > > //// test\n",
      "00:00:10 \u001B[90mverbose\u001B[0m #12 > >\n",
      "00:00:10 \u001B[90mverbose\u001B[0m #13 > > open testing\n",
      "00:00:16 \u001B[90mverbose\u001B[0m #14 > >\n",
      "00:00:16 \u001B[90mverbose\u001B[0m #15 > > ── spiral ──────────────────────────────────────────────────────────────────────\n",
      "00:00:16 \u001B[90mverbose\u001B[0m #16 > > nominal i = ()\n",
      "00:00:16 \u001B[90mverbose\u001B[0m #17 > > nominal e = ()\n",
      "00:00:16 \u001B[90mverbose\u001B[0m #18 > > nominal s = ()\n",
      "00:00:16 \u001B[90mverbose\u001B[0m #19 > > nominal n = ()\n",
      "00:00:16 \u001B[90mverbose\u001B[0m #20 > > nominal t = ()\n",
      "00:00:16 \u001B[90mverbose\u001B[0m #21 > > nominal f = ()\n",
      "00:00:16 \u001B[90mverbose\u001B[0m #22 > > nominal j = ()\n",
      "00:00:16 \u001B[90mverbose\u001B[0m #23 > > nominal p = ()\n",
      "00:00:16 \u001B[90mverbose\u001B[0m #24 > >\n",
      "00:00:16 \u001B[90mverbose\u001B[0m #25 > > union sensing =\n",
      "00:00:16 \u001B[90mverbose\u001B[0m #26 > >     | Si : s * i\n",
      "00:00:16 \u001B[90mverbose\u001B[0m #27 > >     | Se : s * e\n",
      "00:00:16 \u001B[90mverbose\u001B[0m #28 > >\n",
      "00:00:16 \u001B[90mverbose\u001B[0m #29 > > union intuition =\n",
      "00:00:16 \u001B[90mverbose\u001B[0m #30 > >     | Ni : n * i\n",
      "00:00:16 \u001B[90mverbose\u001B[0m #31 > >     | Ne : n * e\n",
      "00:00:16 \u001B[90mverbose\u001B[0m #32 > >\n",
      "00:00:16 \u001B[90mverbose\u001B[0m #33 > > union thinking =\n",
      "00:00:16 \u001B[90mverbose\u001B[0m #34 > >     | Ti : t * i\n",
      "00:00:16 \u001B[90mverbose\u001B[0m #35 > >     | Te : t * e\n",
      "00:00:16 \u001B[90mverbose\u001B[0m #36 > >\n",
      "00:00:16 \u001B[90mverbose\u001B[0m #37 > > union feeling =\n",
      "00:00:16 \u001B[90mverbose\u001B[0m #38 > >     | Fi : f * i\n",
      "00:00:16 \u001B[90mverbose\u001B[0m #39 > >     | Fe : f * e\n",
      "00:00:16 \u001B[90mverbose\u001B[0m #40 > >\n",
      "00:00:16 \u001B[90mverbose\u001B[0m #41 > > union function_stack =\n",
      "00:00:16 \u001B[90mverbose\u001B[0m #42 > >     | FS : sensing * intuition * thinking * feeling\n",
      "00:00:16 \u001B[90mverbose\u001B[0m #43 > >\n",
      "00:00:16 \u001B[90mverbose\u001B[0m #44 > > union personality_type =\n",
      "00:00:16 \u001B[90mverbose\u001B[0m #45 > >     | ISTJ : i * s * t * j * function_stack\n",
      "00:00:16 \u001B[90mverbose\u001B[0m #46 > >     | ISFJ : i * s * f * j * function_stack\n",
      "00:00:16 \u001B[90mverbose\u001B[0m #47 > >     | INFJ : i * n * f * j * function_stack\n",
      "00:00:16 \u001B[90mverbose\u001B[0m #48 > >     | INTJ : i * n * t * j * function_stack\n",
      "00:00:16 \u001B[90mverbose\u001B[0m #49 > >     | ISTP : i * s * t * p * function_stack\n",
      "00:00:16 \u001B[90mverbose\u001B[0m #50 > >     | ISFP : i * s * f * p * function_stack\n",
      "00:00:16 \u001B[90mverbose\u001B[0m #51 > >     | INFP : i * n * f * p * function_stack\n",
      "00:00:16 \u001B[90mverbose\u001B[0m #52 > >     | INTP : i * n * t * p * function_stack\n",
      "00:00:16 \u001B[90mverbose\u001B[0m #53 > >     | ESTP : e * s * t * p * function_stack\n",
      "00:00:16 \u001B[90mverbose\u001B[0m #54 > >     | ESFP : e * s * f * p * function_stack\n",
      "00:00:16 \u001B[90mverbose\u001B[0m #55 > >     | ENFP : e * n * f * p * function_stack\n",
      "00:00:16 \u001B[90mverbose\u001B[0m #56 > >     | ENTP : e * n * t * p * function_stack\n",
      "00:00:16 \u001B[90mverbose\u001B[0m #57 > >     | ESTJ : e * s * t * j * function_stack\n",
      "00:00:16 \u001B[90mverbose\u001B[0m #58 > >     | ESFJ : e * s * f * j * function_stack\n",
      "00:00:16 \u001B[90mverbose\u001B[0m #59 > >     | ENFJ : e * n * f * j * function_stack\n",
      "00:00:16 \u001B[90mverbose\u001B[0m #60 > >     | ENTJ : e * n * t * j * function_stack\n",
      "00:00:16 \u001B[90mverbose\u001B[0m #61 > >\n",
      "00:00:16 \u001B[90mverbose\u001B[0m #62 > >\n",
      "00:00:16 \u001B[90mverbose\u001B[0m #63 > > inl main () =\n",
      "00:00:16 \u001B[90mverbose\u001B[0m #64 > >     inl istj_stack = FS ((Si (s, i)), Ne (n, e), (Te (t, e)), (Fi (f, i)))\n",
      "00:00:16 \u001B[90mverbose\u001B[0m #65 > >     inl istj_personality = ISTJ (i, s, t, j, istj_stack)\n",
      "00:00:16 \u001B[90mverbose\u001B[0m #66 > >     // inl isfj_stack = FS ((Si (s, i)), Ne (n, e), (Fe (f, e)), (Ti (t, i)))\n",
      "00:00:16 \u001B[90mverbose\u001B[0m #67 > >     // inl isfj_personality = ISFJ (i, s, f, j, isfj_stack)\n",
      "00:00:16 \u001B[90mverbose\u001B[0m #68 > >\n",
      "00:00:16 \u001B[90mverbose\u001B[0m #69 > >     ;[[\n",
      "00:00:16 \u001B[90mverbose\u001B[0m #70 > >         istj_personality\n",
      "00:00:16 \u001B[90mverbose\u001B[0m #71 > >     ]]\n",
      "00:00:16 \u001B[90mverbose\u001B[0m #72 > >     |> fun x => $'$\"%A{!x}\"' : string\n",
      "00:00:16 \u001B[90mverbose\u001B[0m #73 > >     |> console.write_line\n",
      "00:00:16 \u001B[90mverbose\u001B[0m #74 > >\n",
      "00:00:16 \u001B[90mverbose\u001B[0m #75 > > inl main () =\n",
      "00:00:16 \u001B[90mverbose\u001B[0m #76 > >     $'!main ()' : ()\n",
      "00:00:18 \u001B[90mverbose\u001B[0m #77 > >\n",
      "00:00:18 \u001B[90mverbose\u001B[0m #78 > > ╭─[ 2.77s - stdout ]───────────────────────────────────────────────────────────╮\n",
      "00:00:18 \u001B[90mverbose\u001B[0m #79 > > │ [|US5_0 (US4_0 (US0_0, US1_1, US2_1, US3_0))|]                               │\n",
      "00:00:18 \u001B[90mverbose\u001B[0m #80 > > │                                                                              │\n",
      "00:00:18 \u001B[90mverbose\u001B[0m #81 > > ╰──────────────────────────────────────────────────────────────────────────────╯\n",
      "00:00:20 \u001B[90mverbose\u001B[0m #82 > >\n",
      "00:00:20 \u001B[90mverbose\u001B[0m #83 > > ── fsharp ──────────────────────────────────────────────────────────────────────\n",
      "00:00:20 \u001B[90mverbose\u001B[0m #84 > > type PhonologicalFeature =\n",
      "00:00:20 \u001B[90mverbose\u001B[0m #85 > >     | VowelFeature of\n",
      "00:00:20 \u001B[90mverbose\u001B[0m #86 > >         height: Height\n",
      "00:00:20 \u001B[90mverbose\u001B[0m #87 > >         * backness: Backness\n",
      "00:00:20 \u001B[90mverbose\u001B[0m #88 > >         * roundedness: Roundedness\n",
      "00:00:20 \u001B[90mverbose\u001B[0m #89 > >         * tone: Option<Tone>\n",
      "00:00:20 \u001B[90mverbose\u001B[0m #90 > >         * stress: Option<Stress>\n",
      "00:00:20 \u001B[90mverbose\u001B[0m #91 > >         * length: Option<Length>\n",
      "00:00:20 \u001B[90mverbose\u001B[0m #92 > >     | ConsonantFeature of\n",
      "00:00:20 \u001B[90mverbose\u001B[0m #93 > >         place: PlaceOfArticulation\n",
      "00:00:20 \u001B[90mverbose\u001B[0m #94 > >         * manner: MannerOfArticulation\n",
      "00:00:20 \u001B[90mverbose\u001B[0m #95 > >         * voicing: Voicing\n",
      "00:00:20 \u001B[90mverbose\u001B[0m #96 > >         * length: Option<Length>\n",
      "00:00:20 \u001B[90mverbose\u001B[0m #97 > >     | VowelHarmonyFeature\n",
      "00:00:20 \u001B[90mverbose\u001B[0m #98 > >     | PitchAccentFeature\n",
      "00:00:20 \u001B[90mverbose\u001B[0m #99 > >\n",
      "00:00:20 \u001B[90mverbose\u001B[0m #100 > > and Stress = Primary | Secondary\n",
      "00:00:20 \u001B[90mverbose\u001B[0m #101 > > and Length = Long | Short | HalfLong\n",
      "00:00:20 \u001B[90mverbose\u001B[0m #102 > >\n",
      "00:00:20 \u001B[90mverbose\u001B[0m #103 > > and Height =\n",
      "00:00:20 \u001B[90mverbose\u001B[0m #104 > >     | High | NearHigh | HighMid\n",
      "00:00:20 \u001B[90mverbose\u001B[0m #105 > >     | Mid | LowMid | NearLow\n",
      "00:00:20 \u001B[90mverbose\u001B[0m #106 > >     | Low\n",
      "00:00:20 \u001B[90mverbose\u001B[0m #107 > >\n",
      "00:00:20 \u001B[90mverbose\u001B[0m #108 > > and Backness = Front | Central | Back\n",
      "00:00:20 \u001B[90mverbose\u001B[0m #109 > >\n",
      "00:00:20 \u001B[90mverbose\u001B[0m #110 > > and Roundedness = Rounded | Unrounded\n",
      "00:00:20 \u001B[90mverbose\u001B[0m #111 > >\n",
      "00:00:20 \u001B[90mverbose\u001B[0m #112 > > and PlaceOfArticulation =\n",
      "00:00:20 \u001B[90mverbose\u001B[0m #113 > >     | Bilabial | Labiodental | Dental\n",
      "00:00:20 \u001B[90mverbose\u001B[0m #114 > >     | Alveolar | Postalveolar | Retroflex\n",
      "00:00:20 \u001B[90mverbose\u001B[0m #115 > >     | Palatal | Velar | Uvular\n",
      "00:00:20 \u001B[90mverbose\u001B[0m #116 > >     | Pharyngeal | Epiglottal | Glottal\n",
      "00:00:20 \u001B[90mverbose\u001B[0m #117 > >\n",
      "00:00:20 \u001B[90mverbose\u001B[0m #118 > > and MannerOfArticulation =\n",
      "00:00:20 \u001B[90mverbose\u001B[0m #119 > >     | Plosive | Nasal | Trill\n",
      "00:00:20 \u001B[90mverbose\u001B[0m #120 > >     | TapOrFlap | Fricative | LateralFricative\n",
      "00:00:20 \u001B[90mverbose\u001B[0m #121 > >     | Approximant | LateralApproximant\n",
      "00:00:20 \u001B[90mverbose\u001B[0m #122 > >\n",
      "00:00:20 \u001B[90mverbose\u001B[0m #123 > > and Voicing = Voiced | Voiceless\n",
      "00:00:20 \u001B[90mverbose\u001B[0m #124 > >\n",
      "00:00:20 \u001B[90mverbose\u001B[0m #125 > > and SecondaryArticulation =\n",
      "00:00:20 \u001B[90mverbose\u001B[0m #126 > >     | Labialization | Palatalization | Velarization\n",
      "00:00:20 \u001B[90mverbose\u001B[0m #127 > >     | Pharyngealization | Aspiration\n",
      "00:00:20 \u001B[90mverbose\u001B[0m #128 > >\n",
      "00:00:20 \u001B[90mverbose\u001B[0m #129 > > and Tone =\n",
      "00:00:20 \u001B[90mverbose\u001B[0m #130 > >     | LevelTone of int\n",
      "00:00:20 \u001B[90mverbose\u001B[0m #131 > >     | ContourTone of int list\n",
      "00:00:20 \u001B[90mverbose\u001B[0m #132 > >\n",
      "00:00:20 \u001B[90mverbose\u001B[0m #133 > > and MorphologicalFeature =\n",
      "00:00:20 \u001B[90mverbose\u001B[0m #134 > >     | RootFeature of string\n",
      "00:00:20 \u001B[90mverbose\u001B[0m #135 > >     | AffixFeature of AffixType * string\n",
      "00:00:20 \u001B[90mverbose\u001B[0m #136 > >     | IncorporationFeature of string * MorphologicalFeature\n",
      "00:00:20 \u001B[90mverbose\u001B[0m #137 > >     | NonConcatenativePattern of string * string\n",
      "00:00:20 \u001B[90mverbose\u001B[0m #138 > >     | AgglutinativeAffixFeature of AgglutinativeAffixType * string\n",
      "00:00:20 \u001B[90mverbose\u001B[0m #139 > >     | HonorificFeature of HonorificType * string\n",
      "00:00:20 \u001B[90mverbose\u001B[0m #140 > >\n",
      "00:00:20 \u001B[90mverbose\u001B[0m #141 > > and AgglutinativeAffixType = Suffix | Prefix\n",
      "00:00:20 \u001B[90mverbose\u001B[0m #142 > >\n",
      "00:00:20 \u001B[90mverbose\u001B[0m #143 > > and HonorificType = VerbHonorific | NounHonorific\n",
      "00:00:20 \u001B[90mverbose\u001B[0m #144 > >\n",
      "00:00:20 \u001B[90mverbose\u001B[0m #145 > > and AffixType =\n",
      "00:00:20 \u001B[90mverbose\u001B[0m #146 > >     | Prefix | Suffix | Infix\n",
      "00:00:20 \u001B[90mverbose\u001B[0m #147 > >     | Circumfix\n",
      "00:00:20 \u001B[90mverbose\u001B[0m #148 > >\n",
      "00:00:20 \u001B[90mverbose\u001B[0m #149 > > type SyntacticFeature =\n",
      "00:00:20 \u001B[90mverbose\u001B[0m #150 > >     | WordFeature of MorphologicalFeature list * LexicalCategory\n",
      "00:00:20 \u001B[90mverbose\u001B[0m #151 > >     | PhraseFeature of PhraseType * SyntacticFeature list\n",
      "00:00:20 \u001B[90mverbose\u001B[0m #152 > >     | GrammaticalRelation of GrammaticalRelationType * SyntacticFeature list\n",
      "00:00:20 \u001B[90mverbose\u001B[0m #153 > >     | SOVOrderFeature\n",
      "00:00:20 \u001B[90mverbose\u001B[0m #154 > >     | TopicCommentFeature\n",
      "00:00:20 \u001B[90mverbose\u001B[0m #155 > >\n",
      "00:00:20 \u001B[90mverbose\u001B[0m #156 > > and GrammaticalRelationType =\n",
      "00:00:20 \u001B[90mverbose\u001B[0m #157 > >     | Ergative | Absolutive | Nominative\n",
      "00:00:20 \u001B[90mverbose\u001B[0m #158 > >     | Accusative\n",
      "00:00:20 \u001B[90mverbose\u001B[0m #159 > >\n",
      "00:00:20 \u001B[90mverbose\u001B[0m #160 > > and LexicalCategory =\n",
      "00:00:20 \u001B[90mverbose\u001B[0m #161 > >     | Noun | Verb | Adjective\n",
      "00:00:20 \u001B[90mverbose\u001B[0m #162 > >     | Adverb | Pronoun | Preposition\n",
      "00:00:20 \u001B[90mverbose\u001B[0m #163 > >     | Conjunction | Determiner | Interjection\n",
      "00:00:20 \u001B[90mverbose\u001B[0m #164 > >\n",
      "00:00:20 \u001B[90mverbose\u001B[0m #165 > > and PhraseType =\n",
      "00:00:20 \u001B[90mverbose\u001B[0m #166 > >     | NP | VP | AP\n",
      "00:00:20 \u001B[90mverbose\u001B[0m #167 > >     | PP | CP\n",
      "00:00:20 \u001B[90mverbose\u001B[0m #168 > >\n",
      "00:00:20 \u001B[90mverbose\u001B[0m #169 > > and SemanticFeature =\n",
      "00:00:20 \u001B[90mverbose\u001B[0m #170 > >     | Meaning of string\n",
      "00:00:20 \u001B[90mverbose\u001B[0m #171 > >     | SemanticRole of SemanticRoleType * SemanticFeature\n",
      "00:00:20 \u001B[90mverbose\u001B[0m #172 > >\n",
      "00:00:20 \u001B[90mverbose\u001B[0m #173 > > and SemanticRoleType =\n",
      "00:00:20 \u001B[90mverbose\u001B[0m #174 > >     | Agent | Patient | Instrument\n",
      "00:00:20 \u001B[90mverbose\u001B[0m #175 > >     | Location | Time | Cause\n",
      "00:00:20 \u001B[90mverbose\u001B[0m #176 > >\n",
      "00:00:20 \u001B[90mverbose\u001B[0m #177 > > and PragmaticFeature =\n",
      "00:00:20 \u001B[90mverbose\u001B[0m #178 > >     | UseContext of string\n",
      "00:00:20 \u001B[90mverbose\u001B[0m #179 > >     | PolitenessLevel of Politeness\n",
      "00:00:20 \u001B[90mverbose\u001B[0m #180 > >     | SpeechAct of SpeechActType\n",
      "00:00:20 \u001B[90mverbose\u001B[0m #181 > >     | SpeechLevel of SpeechLevelType\n",
      "00:00:20 \u001B[90mverbose\u001B[0m #182 > >\n",
      "00:00:20 \u001B[90mverbose\u001B[0m #183 > > and Politeness = Formal | Informal | Neutral\n",
      "00:00:20 \u001B[90mverbose\u001B[0m #184 > >\n",
      "00:00:20 \u001B[90mverbose\u001B[0m #185 > > and SpeechActType =\n",
      "00:00:20 \u001B[90mverbose\u001B[0m #186 > >     | Assertive | Directive | Commissive\n",
      "00:00:20 \u001B[90mverbose\u001B[0m #187 > >     | Expressive | Declarative\n",
      "00:00:20 \u001B[90mverbose\u001B[0m #188 > >\n",
      "00:00:20 \u001B[90mverbose\u001B[0m #189 > > and SpeechLevelType =\n",
      "00:00:20 \u001B[90mverbose\u001B[0m #190 > >     | FormalHigh | FormalLow | InformalHigh\n",
      "00:00:20 \u001B[90mverbose\u001B[0m #191 > >     | InformalLow | Neutral\n",
      "00:00:20 \u001B[90mverbose\u001B[0m #192 > >\n",
      "00:00:20 \u001B[90mverbose\u001B[0m #193 > > type LinguisticFeature =\n",
      "00:00:20 \u001B[90mverbose\u001B[0m #194 > >     | Phonological of PhonologicalFeature\n",
      "00:00:20 \u001B[90mverbose\u001B[0m #195 > >     | Morphological of MorphologicalFeature\n",
      "00:00:20 \u001B[90mverbose\u001B[0m #196 > >     | Syntactic of SyntacticFeature\n",
      "00:00:20 \u001B[90mverbose\u001B[0m #197 > >     | Semantic of SemanticFeature\n",
      "00:00:20 \u001B[90mverbose\u001B[0m #198 > >     | Pragmatic of PragmaticFeature\n",
      "00:00:20 \u001B[90mverbose\u001B[0m #199 > >\n",
      "00:00:20 \u001B[90mverbose\u001B[0m #200 > > type LanguageConstruct =\n",
      "00:00:20 \u001B[90mverbose\u001B[0m #201 > >     | LanguageElement of LinguisticFeature\n",
      "00:00:20 \u001B[90mverbose\u001B[0m #202 > >     | LanguageStructure of LanguageConstruct list\n",
      "00:00:20 \u001B[90mverbose\u001B[0m #203 > >     | TranslationElement of TranslationFeature\n",
      "00:00:20 \u001B[90mverbose\u001B[0m #204 > >\n",
      "00:00:20 \u001B[90mverbose\u001B[0m #205 > > and TranslationFeature =\n",
      "00:00:20 \u001B[90mverbose\u001B[0m #206 > >     | LinkedPhonological of PhonologicalFeature * PhonologicalFeature\n",
      "00:00:20 \u001B[90mverbose\u001B[0m #207 > >     | LinkedMorphological of MorphologicalFeature * MorphologicalFeature\n",
      "00:00:20 \u001B[90mverbose\u001B[0m #208 > >     | LinkedSyntactic of SyntacticFeature * SyntacticFeature\n",
      "00:00:20 \u001B[90mverbose\u001B[0m #209 > >     | LinkedSemantic of SemanticFeature * SemanticFeature\n",
      "00:00:20 \u001B[90mverbose\u001B[0m #210 > >\n",
      "00:00:20 \u001B[90mverbose\u001B[0m #211 > > type Discourse = DiscourseUnit of LanguageConstruct list\n",
      "00:00:20 \u001B[90mverbose\u001B[0m #212 > >\n",
      "00:00:20 \u001B[90mverbose\u001B[0m #213 > > type LanguageModel =\n",
      "00:00:20 \u001B[90mverbose\u001B[0m #214 > >     | Model of discourse: Discourse\n",
      "00:00:21 \u001B[90mverbose\u001B[0m #215 > >\n",
      "00:00:21 \u001B[90mverbose\u001B[0m #216 > > ── fsharp ──────────────────────────────────────────────────────────────────────\n",
      "00:00:21 \u001B[90mverbose\u001B[0m #217 > > let testEnglish =\n",
      "00:00:21 \u001B[90mverbose\u001B[0m #218 > >     Model(\n",
      "00:00:21 \u001B[90mverbose\u001B[0m #219 > >         DiscourseUnit [[\n",
      "00:00:21 \u001B[90mverbose\u001B[0m #220 > >             LanguageElement (Phonological (ConsonantFeature (Alveolar, Nasal,\n",
      "00:00:21 \u001B[90mverbose\u001B[0m #221 > > Voiced, Some(HalfLong))));\n",
      "00:00:21 \u001B[90mverbose\u001B[0m #222 > >             LanguageElement (Phonological (VowelFeature (High, Front, Unrounded,\n",
      "00:00:21 \u001B[90mverbose\u001B[0m #223 > > Some(LevelTone 1), Some(Primary), Some(Short))));\n",
      "00:00:21 \u001B[90mverbose\u001B[0m #224 > >             LanguageElement (Phonological (VowelFeature (Low, Front, Unrounded,\n",
      "00:00:21 \u001B[90mverbose\u001B[0m #225 > > Some(LevelTone 2), Some(Secondary), Some(Long))));\n",
      "00:00:21 \u001B[90mverbose\u001B[0m #226 > >             LanguageElement (Phonological (ConsonantFeature (Velar, Plosive,\n",
      "00:00:21 \u001B[90mverbose\u001B[0m #227 > > Voiceless, Some(HalfLong))));\n",
      "00:00:21 \u001B[90mverbose\u001B[0m #228 > >             LanguageElement (Morphological (RootFeature \"I\"));\n",
      "00:00:21 \u001B[90mverbose\u001B[0m #229 > >             LanguageElement (Morphological (RootFeature \"see\"));\n",
      "00:00:21 \u001B[90mverbose\u001B[0m #230 > >             LanguageElement (Morphological (RootFeature \"a\"));\n",
      "00:00:21 \u001B[90mverbose\u001B[0m #231 > >             LanguageElement (Morphological (RootFeature \"cat\"));\n",
      "00:00:21 \u001B[90mverbose\u001B[0m #232 > >             LanguageElement (Syntactic (PhraseFeature (NP, [[WordFeature\n",
      "00:00:21 \u001B[90mverbose\u001B[0m #233 > > ([[RootFeature \"I\"]], Pronoun)]])));\n",
      "00:00:21 \u001B[90mverbose\u001B[0m #234 > >             LanguageElement (Syntactic (PhraseFeature (VP, [[WordFeature\n",
      "00:00:21 \u001B[90mverbose\u001B[0m #235 > > ([[RootFeature \"see\"]], Verb)]])));\n",
      "00:00:21 \u001B[90mverbose\u001B[0m #236 > >             LanguageElement (Syntactic (PhraseFeature (NP, [[WordFeature\n",
      "00:00:21 \u001B[90mverbose\u001B[0m #237 > > ([[RootFeature \"a\"; RootFeature \"cat\"]], Noun)]])));\n",
      "00:00:21 \u001B[90mverbose\u001B[0m #238 > >             LanguageElement (Semantic (Meaning \"Perception act of a feline by\n",
      "00:00:21 \u001B[90mverbose\u001B[0m #239 > > the speaker\"));\n",
      "00:00:21 \u001B[90mverbose\u001B[0m #240 > >             LanguageElement (Pragmatic (UseContext \"Statement of an action being\n",
      "00:00:21 \u001B[90mverbose\u001B[0m #241 > > observed\"))\n",
      "00:00:21 \u001B[90mverbose\u001B[0m #242 > >         ]]\n",
      "00:00:21 \u001B[90mverbose\u001B[0m #243 > >     )\n",
      "00:00:21 \u001B[90mverbose\u001B[0m #244 > >\n",
      "00:00:21 \u001B[90mverbose\u001B[0m #245 > > let testPortuguese =\n",
      "00:00:21 \u001B[90mverbose\u001B[0m #246 > >     Model(\n",
      "00:00:21 \u001B[90mverbose\u001B[0m #247 > >         DiscourseUnit [[\n",
      "00:00:21 \u001B[90mverbose\u001B[0m #248 > >             LanguageElement (Phonological (VowelFeature (High, Front, Unrounded,\n",
      "00:00:21 \u001B[90mverbose\u001B[0m #249 > > Some(LevelTone 1), Some(Primary), Some(Short))));\n",
      "00:00:21 \u001B[90mverbose\u001B[0m #250 > >             LanguageElement (Phonological (VowelFeature (Low, Front, Unrounded,\n",
      "00:00:21 \u001B[90mverbose\u001B[0m #251 > > Some(LevelTone 2), Some(Secondary), Some(Long))));\n",
      "00:00:21 \u001B[90mverbose\u001B[0m #252 > >             LanguageElement (Phonological (VowelFeature (Mid, Back, Rounded,\n",
      "00:00:21 \u001B[90mverbose\u001B[0m #253 > > Some(LevelTone 3), Some(Primary), Some(Short))));\n",
      "00:00:21 \u001B[90mverbose\u001B[0m #254 > >             LanguageElement (Phonological (ConsonantFeature (Velar, Plosive,\n",
      "00:00:21 \u001B[90mverbose\u001B[0m #255 > > Voiceless, Some(HalfLong))));\n",
      "00:00:21 \u001B[90mverbose\u001B[0m #256 > >             LanguageElement (Morphological (RootFeature \"Eu\"));\n",
      "00:00:21 \u001B[90mverbose\u001B[0m #257 > >             LanguageElement (Morphological (RootFeature \"ver\" |> ignore;\n",
      "00:00:21 \u001B[90mverbose\u001B[0m #258 > > AffixFeature (Suffix, \"o\")));\n",
      "00:00:21 \u001B[90mverbose\u001B[0m #259 > >             LanguageElement (Morphological (RootFeature \"um\"));\n",
      "00:00:21 \u001B[90mverbose\u001B[0m #260 > >             LanguageElement (Morphological (RootFeature \"gato\"));\n",
      "00:00:21 \u001B[90mverbose\u001B[0m #261 > >             LanguageElement (Syntactic (PhraseFeature (NP, [[WordFeature\n",
      "00:00:21 \u001B[90mverbose\u001B[0m #262 > > ([[RootFeature \"Eu\"]], Pronoun)]])));\n",
      "00:00:21 \u001B[90mverbose\u001B[0m #263 > >             LanguageElement (Syntactic (PhraseFeature (VP, [[WordFeature\n",
      "00:00:21 \u001B[90mverbose\u001B[0m #264 > > ([[RootFeature \"vejo\"]], Verb)]])));\n",
      "00:00:21 \u001B[90mverbose\u001B[0m #265 > >             LanguageElement (Syntactic (PhraseFeature (NP, [[WordFeature\n",
      "00:00:21 \u001B[90mverbose\u001B[0m #266 > > ([[RootFeature \"um\"; RootFeature \"gato\"]], Noun)]])));\n",
      "00:00:21 \u001B[90mverbose\u001B[0m #267 > >             LanguageElement (Semantic (Meaning \"Ação de percepção de um felino\n",
      "00:00:21 \u001B[90mverbose\u001B[0m #268 > > pelo falante\"));\n",
      "00:00:21 \u001B[90mverbose\u001B[0m #269 > >             LanguageElement (Pragmatic (UseContext \"Declaração de uma ação sendo\n",
      "00:00:21 \u001B[90mverbose\u001B[0m #270 > > observada\"))\n",
      "00:00:21 \u001B[90mverbose\u001B[0m #271 > >         ]]\n",
      "00:00:21 \u001B[90mverbose\u001B[0m #272 > >     )\n",
      "00:00:21 \u001B[90mverbose\u001B[0m #273 > >\n",
      "00:00:21 \u001B[90mverbose\u001B[0m #274 > > let testKorean =\n",
      "00:00:21 \u001B[90mverbose\u001B[0m #275 > >     Model(\n",
      "00:00:21 \u001B[90mverbose\u001B[0m #276 > >         DiscourseUnit [[\n",
      "00:00:21 \u001B[90mverbose\u001B[0m #277 > >             LanguageElement (Phonological (ConsonantFeature (Alveolar, Nasal,\n",
      "00:00:21 \u001B[90mverbose\u001B[0m #278 > > Voiced, Some(Short))));\n",
      "00:00:21 \u001B[90mverbose\u001B[0m #279 > >             LanguageElement (Phonological (VowelFeature (High, Back, Rounded,\n",
      "00:00:21 \u001B[90mverbose\u001B[0m #280 > > None, None, Some(Short))));\n",
      "00:00:21 \u001B[90mverbose\u001B[0m #281 > >             LanguageElement (Phonological (VowelFeature (Mid, Front, Unrounded,\n",
      "00:00:21 \u001B[90mverbose\u001B[0m #282 > > None, None, Some(Long))));\n",
      "00:00:21 \u001B[90mverbose\u001B[0m #283 > >             LanguageElement (Phonological (ConsonantFeature (Bilabial, Plosive,\n",
      "00:00:21 \u001B[90mverbose\u001B[0m #284 > > Voiceless, Some(Short))));\n",
      "00:00:21 \u001B[90mverbose\u001B[0m #285 > >             LanguageElement (Morphological (RootFeature \"나\"));\n",
      "00:00:21 \u001B[90mverbose\u001B[0m #286 > >             LanguageElement (Morphological (RootFeature \"보다\"));\n",
      "00:00:21 \u001B[90mverbose\u001B[0m #287 > >             LanguageElement (Morphological (AffixFeature (Suffix, \"아\")));\n",
      "00:00:21 \u001B[90mverbose\u001B[0m #288 > >             LanguageElement (Morphological (RootFeature \"고양이\"));\n",
      "00:00:21 \u001B[90mverbose\u001B[0m #289 > >             LanguageElement (Syntactic (PhraseFeature (NP, [[WordFeature\n",
      "00:00:21 \u001B[90mverbose\u001B[0m #290 > > ([[RootFeature \"나\"]], Pronoun)]])));\n",
      "00:00:21 \u001B[90mverbose\u001B[0m #291 > >             LanguageElement (Syntactic (PhraseFeature (VP, [[WordFeature\n",
      "00:00:21 \u001B[90mverbose\u001B[0m #292 > > ([[RootFeature \"보다\"; AffixFeature (Suffix, \"아\")]], Verb)]])));\n",
      "00:00:21 \u001B[90mverbose\u001B[0m #293 > >             LanguageElement (Syntactic (PhraseFeature (NP, [[WordFeature\n",
      "00:00:21 \u001B[90mverbose\u001B[0m #294 > > ([[RootFeature \"고양이\"]], Noun)]])));\n",
      "00:00:21 \u001B[90mverbose\u001B[0m #295 > >             LanguageElement (Semantic (Meaning \"화자에 의한 고양이의 관찰\n",
      "00:00:21 \u001B[90mverbose\u001B[0m #296 > > 행위\"));\n",
      "00:00:21 \u001B[90mverbose\u001B[0m #297 > >             LanguageElement (Pragmatic (UseContext \"관찰되고 있는 행동의 진술\"))\n",
      "00:00:21 \u001B[90mverbose\u001B[0m #298 > >         ]]\n",
      "00:00:21 \u001B[90mverbose\u001B[0m #299 > >     )\n",
      "00:00:21 \u001B[90mverbose\u001B[0m #300 > >\n",
      "00:00:21 \u001B[90mverbose\u001B[0m #301 > > ── markdown ────────────────────────────────────────────────────────────────────\n",
      "00:00:21 \u001B[90mverbose\u001B[0m #302 > > ╭──────────────────────────────────────────────────────────────────────────────╮\n",
      "00:00:21 \u001B[90mverbose\u001B[0m #303 > > │ ## main                                                                      │\n",
      "00:00:21 \u001B[90mverbose\u001B[0m #304 > > ╰──────────────────────────────────────────────────────────────────────────────╯\n",
      "00:00:21 \u001B[90mverbose\u001B[0m #305 > >\n",
      "00:00:21 \u001B[90mverbose\u001B[0m #306 > > ── spiral ──────────────────────────────────────────────────────────────────────\n",
      "00:00:21 \u001B[90mverbose\u001B[0m #307 > > inl main (_args : array_base string) =\n",
      "00:00:21 \u001B[90mverbose\u001B[0m #308 > >     0i32\n",
      "00:00:21 \u001B[90mverbose\u001B[0m #309 > >\n",
      "00:00:21 \u001B[90mverbose\u001B[0m #310 > > inl main () =\n",
      "00:00:21 \u001B[90mverbose\u001B[0m #311 > >     $'let main args = !main args' : ()\n",
      "00:00:22 \u001B[90mverbose\u001B[0m #312 > >\n",
      "00:00:22 \u001B[90mverbose\u001B[0m #313 > > ── spiral ──────────────────────────────────────────────────────────────────────\n",
      "00:00:22 \u001B[90mverbose\u001B[0m #314 > > inl app () =\n",
      "00:00:22 \u001B[90mverbose\u001B[0m #315 > >     \"test\" |> console.write_line\n",
      "00:00:22 \u001B[90mverbose\u001B[0m #316 > >     0i32\n",
      "00:00:22 \u001B[90mverbose\u001B[0m #317 > >\n",
      "00:00:22 \u001B[90mverbose\u001B[0m #318 > > inl main () =\n",
      "00:00:22 \u001B[90mverbose\u001B[0m #319 > >     print_static \"<test>\"\n",
      "00:00:22 \u001B[90mverbose\u001B[0m #320 > >\n",
      "00:00:22 \u001B[90mverbose\u001B[0m #321 > >     app\n",
      "00:00:22 \u001B[90mverbose\u001B[0m #322 > >     |> dyn\n",
      "00:00:22 \u001B[90mverbose\u001B[0m #323 > >     |> ignore\n",
      "00:00:22 \u001B[90mverbose\u001B[0m #324 > >\n",
      "00:00:22 \u001B[90mverbose\u001B[0m #325 > >     print_static \"</test>\"\n",
      "00:00:23 \u001B[90mverbose\u001B[0m #326 > 00:00:21 \u001B[90mverbose\u001B[39m #3 runtime.execute_with_options / result / { exit_code = 0; std_trace_length = 10945 }\n",
      "00:00:23 \u001B[90mverbose\u001B[0m #327 > 00:00:21 \u001B[94m  debug\u001B[39m #4 runtime.execute_with_options / { file_name = jupyter; arguments = [\"nbconvert\", \"c:/home/git/polyglot/apps/spiral/temp/test/test.dib.ipynb\", \"--to\", \"html\", \"--HTMLExporter.theme=dark\"]; options = { command = jupyter nbconvert \"c:/home/git/polyglot/apps/spiral/temp/test/test.dib.ipynb\" --to html --HTMLExporter.theme=dark; cancellation_token = None; environment_variables = Array(MutCell([])); on_line = None; stdin = None; trace = true; working_directory = None } }\n",
      "00:00:26 \u001B[90mverbose\u001B[0m #328 > 00:00:25 \u001B[90mverbose\u001B[39m #5 ! [NbConvertApp] Converting notebook c:/home/git/polyglot/apps/spiral/temp/test/test.dib.ipynb to html\n",
      "00:00:26 \u001B[90mverbose\u001B[0m #329 > 00:00:25 \u001B[90mverbose\u001B[39m #6 ! C:\\Users\\i574n\\scoop\\apps\\python\\current\\Lib\\site-packages\\nbformat\\__init__.py:93: MissingIDFieldWarning: Code cell is missing an id field, this will become a hard error in future nbformat versions. You may want to use `normalize()` on your notebooks before validations (available since nbformat 5.1.4). Previous versions of nbformat are fixing this issue transparently, and will stop doing so in the future.\n",
      "00:00:26 \u001B[90mverbose\u001B[0m #330 > 00:00:25 \u001B[90mverbose\u001B[39m #7 !   validate(nb)\n",
      "00:00:28 \u001B[90mverbose\u001B[0m #331 > 00:00:27 \u001B[90mverbose\u001B[39m #8 ! [NbConvertApp] Writing 318992 bytes to c:\\home\\git\\polyglot\\apps\\spiral\\temp\\test\\test.dib.html\n",
      "00:00:29 \u001B[90mverbose\u001B[0m #332 > 00:00:27 \u001B[90mverbose\u001B[39m #9 runtime.execute_with_options / result / { exit_code = 0; std_trace_length = 661 }\n",
      "00:00:29 \u001B[90mverbose\u001B[0m #333 > 00:00:27 \u001B[94m  debug\u001B[39m #10 spiral_builder.run / dib / jupyter nbconvert / { exit_code = 0; jupyter_result_length = 661 }\n",
      "00:00:29 \u001B[90mverbose\u001B[0m #334 > 00:00:27 \u001B[94m  debug\u001B[39m #11 runtime.execute_with_options / { file_name = pwsh; arguments = [\"-c\", \"$counter = 1; $path = 'c:/home/git/polyglot/apps/spiral/temp/test/test.dib.html'; (Get-Content $path -Raw) -replace '(id=\\\\\\\"cell-id=)[a-fA-F0-9]{8}', { $_.Groups[1].Value + $counter++ } | Set-Content $path\"]; options = { command = pwsh -c \"$counter = 1; $path = 'c:/home/git/polyglot/apps/spiral/temp/test/test.dib.html'; (Get-Content $path -Raw) -replace '(id=\\\"cell-id=)[a-fA-F0-9]{8}', { $_.Groups[1].Value + $counter++ } | Set-Content $path\"; cancellation_token = None; environment_variables = Array(MutCell([])); on_line = None; stdin = None; trace = true; working_directory = None } }\n",
      "00:00:30 \u001B[90mverbose\u001B[0m #335 > 00:00:28 \u001B[90mverbose\u001B[39m #12 runtime.execute_with_options / result / { exit_code = 0; std_trace_length = 0 }\n",
      "00:00:30 \u001B[90mverbose\u001B[0m #336 > 00:00:28 \u001B[94m  debug\u001B[39m #13 spiral_builder.run / dib / html cell ids / { exit_code = 0; pwsh_replace_html_result_length = 0 }\n",
      "00:00:30 \u001B[90mverbose\u001B[0m #337 > 00:00:29 \u001B[94m  debug\u001B[39m #14 spiral_builder.run / dib / { exit_code = 0; result_length = 11665 }\n",
      "00:00:30 \u001B[94m  debug\u001B[0m #338 runtime.execute_with_options_async / { exit_code = 0; output_length = 14996 }\n",
      "00:00:30 \u001B[94m  debug\u001B[0m #1 main / executeCommand / exitCode: 0 / command: ../../../../workspace/target/release/spiral_builder.exe dib --path test.dib --retries 3\n"
     ]
    }
   ],
   "source": [
    "{ . ../../../../apps/spiral/dist/Supervisor$(_exe) --execute-command \"../../../../workspace/target/release/spiral_builder$(_exe) dib --path test.dib --retries 3\" } | Invoke-Block"
   ]
  },
  {
   "cell_type": "markdown",
   "metadata": {},
   "source": [
    "### parse the .dib file into .spi format with dibparser"
   ]
  },
  {
   "cell_type": "code",
   "execution_count": null,
   "metadata": {
    "dotnet_interactive": {
     "language": "pwsh"
    },
    "polyglot_notebook": {
     "kernelName": "pwsh"
    }
   },
   "outputs": [
    {
     "name": "stdout",
     "output_type": "stream",
     "text": [
      "00:00:00 \u001B[94m  debug\u001B[0m #1 writeDibCode / output: Spi / path: test.dib\n",
      "00:00:00 \u001B[94m  debug\u001B[0m #2 parseDibCode / output: Spi / file: test.dib\n"
     ]
    }
   ],
   "source": [
    "{ . ../../../../apps/parser/dist/DibParser$(_exe) test.dib spi } | Invoke-Block"
   ]
  },
  {
   "cell_type": "markdown",
   "metadata": {},
   "source": [
    "### build .fsx file from .spi using supervisor"
   ]
  },
  {
   "cell_type": "code",
   "execution_count": null,
   "metadata": {
    "dotnet_interactive": {
     "language": "pwsh"
    },
    "polyglot_notebook": {
     "kernelName": "pwsh"
    }
   },
   "outputs": [
    {
     "name": "stdout",
     "output_type": "stream",
     "text": [
      "00:00:00 \u001B[90mverbose\u001B[0m #1 async.run_with_timeout_async / { timeout = 180 }\n",
      "00:00:01 \u001B[90mverbose\u001B[0m #2 async.run_with_timeout_async / { timeout = 180 }\n",
      "00:00:01 \u001B[94m  debug\u001B[0m #1 Supervisor.buildFile / takeWhileInclusive / outputContent:\n",
      " / errors: [] / typeErrorCount: 0 / retry: 0 / path: test.spi\n",
      "00:00:01 \u001B[94m  debug\u001B[0m #2 Supervisor.buildFile / AsyncSeq.scan / outputContent:\n",
      " / errors: [] / outputContentResult:  / typeErrorCount: 0 / retry: 0 / error:  / path: test.spi\n",
      "00:00:01 \u001B[94m  debug\u001B[0m #3 Supervisor.buildFile / takeWhileInclusive / outputContent:\n",
      " / errors: [] / typeErrorCount: 0 / retry: 0 / path: test.spi\n",
      "00:00:01 \u001B[90mverbose\u001B[0m #4 Supervisor.sendJson / port: 13805 / json: {\"FileOpen\":{\"spiText\":\"/// # test (Polyglot)\\nnominal i = ()\\nnominal e = ()\\nnominal s = ()\\nnomin...0022\\u003C/test\\u003E\\u0022\\n\",\"uri\":\"file:///c:/home/git/polyglot/apps/spiral/temp/test/test.spi\"}} / result:\n",
      "00:00:01 \u001B[90mverbose\u001B[0m #5 Supervisor.sendJson / port: 13805 / json: {\"BuildFile\":{\"backend\":\"Fsharp\",\"uri\":\"file:///c:/home/git/polyglot/apps/spiral/temp/test/test.spi\"}} / result:\n",
      "00:00:01 \u001B[94m  debug\u001B[0m #6 Supervisor.buildFile / AsyncSeq.scan / outputContent:\n",
      "let rec closure0 () () : int32 =\n",
      "    let v2 : string = \"test\"\n",
      "    v2 |> System.Console.WriteLine\n",
      "    0\n",
      "let v0 : (unit -> int32) = closure0()\n",
      "()\n",
      " / errors: [] / outputContentResult:  / typeErrorCount: 0 / retry: 0 / error:  / path: test.spi\n",
      "00:00:01 \u001B[94m  debug\u001B[0m #7 Supervisor.buildFile / takeWhileInclusive / outputContent:\n",
      "let rec closure0 () () : int32 =\n",
      "    let v2 : string = \"test\"\n",
      "    v2 |> System.Console.WriteLine\n",
      "    0\n",
      "let v0 : (unit -> int32) = closure0()\n",
      "()\n",
      " / errors: [] / typeErrorCount: 0 / retry: 0 / path: test.spi\n",
      "00:00:01 \u001B[94m  debug\u001B[0m #8 FileSystem.watchWithFilter / Disposing watch stream / filter: FileName, LastWrite\n"
     ]
    }
   ],
   "source": [
    "{ . ../../../../apps/spiral/dist/Supervisor$(_exe) --build-file test.spi test.fsx } | Invoke-Block"
   ]
  },
  {
   "cell_type": "markdown",
   "metadata": {},
   "source": [
    "## compile and format the project"
   ]
  },
  {
   "cell_type": "markdown",
   "metadata": {},
   "source": [
    "### compile project with fable targeting optimized rust"
   ]
  },
  {
   "cell_type": "code",
   "execution_count": null,
   "metadata": {
    "dotnet_interactive": {
     "language": "pwsh"
    },
    "polyglot_notebook": {
     "kernelName": "pwsh"
    }
   },
   "outputs": [
    {
     "name": "stdout",
     "output_type": "stream",
     "text": [
      "Fable 4.19.3: F# to Rust compiler (status: alpha)\n",
      "\n",
      "Thanks to the contributor! @Zaid-Ajaj\n",
      "Stand with Ukraine! https://standwithukraine.com.ua/\n",
      "\n",
      "Parsing test.fsproj...\n",
      "Retrieving project options from cache, in case of issues run `dotnet fable clean` or try `--noCache` option.\n",
      "Project and references (1 source files) parsed in 228ms\n",
      "\n",
      "Started Fable compilation...\n",
      "\n",
      "Fable compilation finished in 1634ms\n",
      "\n",
      ".\\test.fsx(6,0): (6,2) warning FABLE: For Rust, support for F# static and module do bindings is disabled by default. It can be enabled with the 'static_do_bindings' feature. Use at your own risk!\n"
     ]
    }
   ],
   "source": [
    "dotnet fable --optimize --lang rs --extension .rs"
   ]
  },
  {
   "cell_type": "markdown",
   "metadata": {},
   "source": [
    "### fix formatting issues in the .rs file using regex and set-content"
   ]
  },
  {
   "cell_type": "code",
   "execution_count": null,
   "metadata": {
    "dotnet_interactive": {
     "language": "pwsh"
    },
    "polyglot_notebook": {
     "kernelName": "pwsh"
    }
   },
   "outputs": [],
   "source": [
    "(Get-Content test.rs) `\n",
    "    -replace [regex]::Escape(\"),);\"), \"));\" `\n",
    "    | FixRust `\n",
    "| Set-Content test.rs"
   ]
  },
  {
   "cell_type": "markdown",
   "metadata": {},
   "source": [
    "### format the rust code using cargo fmt"
   ]
  },
  {
   "cell_type": "code",
   "execution_count": null,
   "metadata": {
    "dotnet_interactive": {
     "language": "pwsh"
    },
    "polyglot_notebook": {
     "kernelName": "pwsh"
    }
   },
   "outputs": [],
   "source": [
    "cargo +nightly fmt --"
   ]
  },
  {
   "cell_type": "markdown",
   "metadata": {},
   "source": [
    "## build and test the project"
   ]
  },
  {
   "cell_type": "markdown",
   "metadata": {},
   "source": [
    "### build the project in release mode using nightly rust compiler"
   ]
  },
  {
   "cell_type": "code",
   "execution_count": null,
   "metadata": {
    "dotnet_interactive": {
     "language": "pwsh"
    },
    "polyglot_notebook": {
     "kernelName": "pwsh"
    }
   },
   "outputs": [
    {
     "name": "stdout",
     "output_type": "stream",
     "text": [
      "\u001B[31;1m   Compiling fastrand v2.1.0\u001B[0m\n",
      "\u001B[31;1m   Compiling num-traits v0.2.19\u001B[0m\n",
      "\u001B[31;1m   Compiling wait-timeout v0.2.0\u001B[0m\n",
      "\u001B[31;1m   Compiling quick-error v1.2.3\u001B[0m\n",
      "\u001B[31;1m   Compiling rand_core v0.6.4\u001B[0m\n",
      "\u001B[31;1m   Compiling libm v0.2.8\u001B[0m\n",
      "\u001B[31;1m   Compiling syn v2.0.72\u001B[0m\n",
      "\u001B[31;1m   Compiling windows-sys v0.52.0\u001B[0m\n",
      "\u001B[31;1m   Compiling fnv v1.0.7\u001B[0m\n",
      "\u001B[31;1m   Compiling bit-vec v0.6.3\u001B[0m\n",
      "\u001B[31;1m   Compiling rand_xorshift v0.3.0\u001B[0m\n",
      "\u001B[31;1m   Compiling bitflags v2.6.0\u001B[0m\n",
      "\u001B[31;1m   Compiling minimal-lexical v0.2.1\u001B[0m\n",
      "\u001B[31;1m   Compiling bit-set v0.5.3\u001B[0m\n",
      "\u001B[31;1m   Compiling unarray v0.1.4\u001B[0m\n",
      "\u001B[31;1m   Compiling lazy_static v1.5.0\u001B[0m\n",
      "\u001B[31;1m   Compiling memchr v2.7.4\u001B[0m\n",
      "\u001B[31;1m   Compiling fable_library_rust v0.1.0 (C:\\home\\git\\polyglot\\lib\\rust\\fable\\fable_modules\\fable-library-rust)\u001B[0m\n",
      "\u001B[31;1m   Compiling nom v7.1.3\u001B[0m\n",
      "\u001B[31;1m   Compiling tempfile v3.10.1\u001B[0m\n",
      "\u001B[31;1m   Compiling rusty-fork v0.3.0\u001B[0m\n",
      "\u001B[31;1m   Compiling zerocopy-derive v0.6.6\u001B[0m\n",
      "\u001B[31;1m   Compiling thiserror-impl v1.0.63\u001B[0m\n",
      "\u001B[31;1m   Compiling zerocopy v0.6.6\u001B[0m\n",
      "\u001B[31;1m   Compiling thiserror v1.0.63\u001B[0m\n",
      "\u001B[31;1m   Compiling ppv-lite86 v0.2.18\u001B[0m\n",
      "\u001B[31;1m   Compiling rand_chacha v0.3.1\u001B[0m\n",
      "\u001B[31;1m   Compiling rand v0.8.5\u001B[0m\n",
      "\u001B[31;1m   Compiling proptest v1.4.0\u001B[0m\n",
      "\u001B[31;1m   Compiling spiral_temp_test v0.0.1 (C:\\home\\git\\polyglot\\apps\\spiral\\temp\\test)\u001B[0m\n",
      "\u001B[31;1mwarning: enum `Item` is never used\u001B[0m\n",
      "\u001B[31;1m  --> C:\\home\\git\\polyglot\\apps\\spiral\\temp\\test\\./main.rs:16:6\u001B[0m\n",
      "\u001B[31;1m   |\u001B[0m\n",
      "\u001B[31;1m16 | enum Item {\u001B[0m\n",
      "\u001B[31;1m   |      ^^^^\u001B[0m\n",
      "\u001B[31;1m   |\u001B[0m\n",
      "\u001B[31;1m   = note: `#[warn(dead_code)]` on by default\u001B[0m\n",
      "\u001B[31;1m\u001B[0m\n",
      "\u001B[31;1mwarning: struct `Cart` is never constructed\u001B[0m\n",
      "\u001B[31;1m  --> C:\\home\\git\\polyglot\\apps\\spiral\\temp\\test\\./main.rs:41:8\u001B[0m\n",
      "\u001B[31;1m   |\u001B[0m\n",
      "\u001B[31;1m41 | struct Cart {\u001B[0m\n",
      "\u001B[31;1m   |        ^^^^\u001B[0m\n",
      "\u001B[31;1m\u001B[0m\n",
      "\u001B[31;1mwarning: associated items `new`, `add_item`, and `remove_item` are never used\u001B[0m\n",
      "\u001B[31;1m  --> C:\\home\\git\\polyglot\\apps\\spiral\\temp\\test\\./main.rs:46:8\u001B[0m\n",
      "\u001B[31;1m   |\u001B[0m\n",
      "\u001B[31;1m45 | impl Cart {\u001B[0m\n",
      "\u001B[31;1m   | --------- associated items in this implementation\u001B[0m\n",
      "\u001B[31;1m46 |     fn new() -> Cart {\u001B[0m\n",
      "\u001B[31;1m   |        ^^^\u001B[0m\n",
      "\u001B[31;1m...\u001B[0m\n",
      "\u001B[31;1m50 |     fn add_item(&mut self, item: Item) {\u001B[0m\n",
      "\u001B[31;1m   |        ^^^^^^^^\u001B[0m\n",
      "\u001B[31;1m...\u001B[0m\n",
      "\u001B[31;1m56 |     fn remove_item(&mut self, item: &Item) {\u001B[0m\n",
      "\u001B[31;1m   |        ^^^^^^^^^^^\u001B[0m\n",
      "\u001B[31;1m\u001B[0m\n",
      "\u001B[31;1mwarning: function `parse_comment` is never used\u001B[0m\n",
      "\u001B[31;1m   --> C:\\home\\git\\polyglot\\apps\\spiral\\temp\\test\\./main.rs:124:4\u001B[0m\n",
      "\u001B[31;1m    |\u001B[0m\n",
      "\u001B[31;1m124 | fn parse_comment(input: &str) -> IResult<&str, SpiralToken> {\u001B[0m\n",
      "\u001B[31;1m    |    ^^^^^^^^^^^^^\u001B[0m\n",
      "\u001B[31;1m\u001B[0m\n",
      "\u001B[31;1mwarning: function `parse_string` is never used\u001B[0m\n",
      "\u001B[31;1m   --> C:\\home\\git\\polyglot\\apps\\spiral\\temp\\test\\./main.rs:130:4\u001B[0m\n",
      "\u001B[31;1m    |\u001B[0m\n",
      "\u001B[31;1m130 | fn parse_string(input: &str) -> IResult<&str, SpiralToken> {\u001B[0m\n",
      "\u001B[31;1m    |    ^^^^^^^^^^^^\u001B[0m\n",
      "\u001B[31;1m\u001B[0m\n",
      "\u001B[31;1mwarning: function `parse_identifier` is never used\u001B[0m\n",
      "\u001B[31;1m   --> C:\\home\\git\\polyglot\\apps\\spiral\\temp\\test\\./main.rs:145:4\u001B[0m\n",
      "\u001B[31;1m    |\u001B[0m\n",
      "\u001B[31;1m145 | fn parse_identifier(input: &str) -> IResult<&str, SpiralToken> {\u001B[0m\n",
      "\u001B[31;1m    |    ^^^^^^^^^^^^^^^^\u001B[0m\n",
      "\u001B[31;1m\u001B[0m\n",
      "\u001B[31;1mwarning: function `parse_integer` is never used\u001B[0m\n",
      "\u001B[31;1m   --> C:\\home\\git\\polyglot\\apps\\spiral\\temp\\test\\./main.rs:157:4\u001B[0m\n",
      "\u001B[31;1m    |\u001B[0m\n",
      "\u001B[31;1m157 | fn parse_integer(input: &str) -> IResult<&str, SpiralToken> {\u001B[0m\n",
      "\u001B[31;1m    |    ^^^^^^^^^^^^^\u001B[0m\n",
      "\u001B[31;1m\u001B[0m\n",
      "\u001B[31;1mwarning: function `parse_operator` is never used\u001B[0m\n",
      "\u001B[31;1m   --> C:\\home\\git\\polyglot\\apps\\spiral\\temp\\test\\./main.rs:165:4\u001B[0m\n",
      "\u001B[31;1m    |\u001B[0m\n",
      "\u001B[31;1m165 | fn parse_operator(input: &str) -> IResult<&str, SpiralToken> {\u001B[0m\n",
      "\u001B[31;1m    |    ^^^^^^^^^^^^^^\u001B[0m\n",
      "\u001B[31;1m\u001B[0m\n",
      "\u001B[31;1mwarning: function `parse_token` is never used\u001B[0m\n",
      "\u001B[31;1m   --> C:\\home\\git\\polyglot\\apps\\spiral\\temp\\test\\./main.rs:170:4\u001B[0m\n",
      "\u001B[31;1m    |\u001B[0m\n",
      "\u001B[31;1m170 | fn parse_token(input: &str) -> IResult<&str, SpiralToken> {\u001B[0m\n",
      "\u001B[31;1m    |    ^^^^^^^^^^^\u001B[0m\n",
      "\u001B[31;1m\u001B[0m\n",
      "\u001B[31;1mwarning: function `format_token` is never used\u001B[0m\n",
      "\u001B[31;1m   --> C:\\home\\git\\polyglot\\apps\\spiral\\temp\\test\\./main.rs:180:4\u001B[0m\n",
      "\u001B[31;1m    |\u001B[0m\n",
      "\u001B[31;1m180 | fn format_token(token: &SpiralToken) -> String {\u001B[0m\n",
      "\u001B[31;1m    |    ^^^^^^^^^^^^\u001B[0m\n",
      "\u001B[31;1m\u001B[0m\n",
      "\u001B[31;1mwarning: function `parse_expression` is never used\u001B[0m\n",
      "\u001B[31;1m   --> C:\\home\\git\\polyglot\\apps\\spiral\\temp\\test\\./main.rs:201:4\u001B[0m\n",
      "\u001B[31;1m    |\u001B[0m\n",
      "\u001B[31;1m201 | fn parse_expression(input: &str) -> IResult<&str, SpiralToken> {\u001B[0m\n",
      "\u001B[31;1m    |    ^^^^^^^^^^^^^^^^\u001B[0m\n",
      "\u001B[31;1m\u001B[0m\n",
      "\u001B[31;1mwarning: `spiral_temp_test` (bin \"spiral_temp_test\") generated 11 warnings\u001B[0m\n",
      "\u001B[31;1m    Finished `release` profile [optimized] target(s) in 26.52s\u001B[0m\n"
     ]
    }
   ],
   "source": [
    "cargo +nightly build --release"
   ]
  },
  {
   "cell_type": "markdown",
   "metadata": {},
   "source": [
    "### run release tests with output enabled"
   ]
  },
  {
   "cell_type": "code",
   "execution_count": null,
   "metadata": {
    "dotnet_interactive": {
     "language": "pwsh"
    },
    "polyglot_notebook": {
     "kernelName": "pwsh"
    }
   },
   "outputs": [
    {
     "name": "stdout",
     "output_type": "stream",
     "text": [
      "\u001B[31;1m   Compiling fastrand v2.1.0\u001B[0m\n",
      "\u001B[31;1m   Compiling fnv v1.0.7\u001B[0m\n",
      "\u001B[31;1m   Compiling bit-vec v0.6.3\u001B[0m\n",
      "\u001B[31;1m   Compiling quick-error v1.2.3\u001B[0m\n",
      "\u001B[31;1m   Compiling wait-timeout v0.2.0\u001B[0m\n",
      "\u001B[31;1m   Compiling num-traits v0.2.19\u001B[0m\n",
      "\u001B[31;1m   Compiling windows-sys v0.52.0\u001B[0m\n",
      "\u001B[31;1m   Compiling zerocopy v0.6.6\u001B[0m\n",
      "\u001B[31;1m   Compiling rand_xorshift v0.3.0\u001B[0m\n",
      "\u001B[31;1m   Compiling bitflags v2.6.0\u001B[0m\n",
      "\u001B[31;1m   Compiling minimal-lexical v0.2.1\u001B[0m\n",
      "\u001B[31;1m   Compiling bit-set v0.5.3\u001B[0m\n",
      "\u001B[31;1m   Compiling unarray v0.1.4\u001B[0m\n",
      "\u001B[31;1m   Compiling memchr v2.7.4\u001B[0m\n",
      "\u001B[31;1m   Compiling fable_library_rust v0.1.0 (C:\\home\\git\\polyglot\\lib\\rust\\fable\\fable_modules\\fable-library-rust)\u001B[0m\n",
      "\u001B[31;1m   Compiling ppv-lite86 v0.2.18\u001B[0m\n",
      "\u001B[31;1m   Compiling thiserror v1.0.63\u001B[0m\n",
      "\u001B[31;1m   Compiling rand_chacha v0.3.1\u001B[0m\n",
      "\u001B[31;1m   Compiling nom v7.1.3\u001B[0m\n",
      "\u001B[31;1m   Compiling tempfile v3.10.1\u001B[0m\n",
      "\u001B[31;1m   Compiling rand v0.8.5\u001B[0m\n",
      "\u001B[31;1m   Compiling rusty-fork v0.3.0\u001B[0m\n",
      "\u001B[31;1m   Compiling proptest v1.4.0\u001B[0m\n",
      "\u001B[31;1m   Compiling spiral_temp_test v0.0.1 (C:\\home\\git\\polyglot\\apps\\spiral\\temp\\test)\u001B[0m\n",
      "\u001B[31;1m    Finished `release` profile [optimized] target(s) in 37.90s\u001B[0m\n",
      "\u001B[31;1m     Running unittests main.rs (C:\\home\\git\\polyglot\\workspace\\target\\release\\deps\\spiral_temp_test-2d41d3130facfc9f.exe)\u001B[0m\n",
      "\n",
      "running 3 tests\n",
      "test test_parse_number ... ok\n",
      "test prop_parse_format_idempotent ... ok\n",
      "test adding_and_then_removing_an_item_from_the_cart_leaves_the_cart_unchanged ... ok\n",
      "\n",
      "successes:\n",
      "\n",
      "---- prop_parse_format_idempotent stdout ----\n",
      "input=Operator(\"/\")\n",
      "input=Operator(\"*\")\n",
      "input=Integer(1698877882259621556)\n",
      "input=Integer(6584657879723606137)\n",
      "input=Integer(8755918986232550203)\n",
      "input=Operator(\"/\")\n",
      "input=Integer(-2002063523927420123)\n",
      "input=Identifier(\"HvqfWp547nfAW2Jft0AfrkIz\")\n",
      "input=Integer(6446839594212777145)\n",
      "input=Integer(-4160353966377560551)\n",
      "input=Comment(\"&\")\n",
      "input=Comment(\"7:r%B&:?\\\\Obx=[{=^<kBc:/\")\n",
      "input=Identifier(\"zh7lMrYZuBP36JKZ4Cn52F\")\n",
      "input=StringLiteral(\">i?o39?t&Dt=W\")\n",
      "input=StringLiteral(\"\")\n",
      "input=Comment(\"3v}$<%FrM#e6=e{T$BU&\\\\?.;E*{iS5Lv\")\n",
      "input=Integer(2508981130772208774)\n",
      "input=Identifier(\"svOq2Xg47\")\n",
      "input=Operator(\"-\")\n",
      "input=Operator(\"-\")\n",
      "input=Integer(2485171386281774352)\n",
      "input=Operator(\")\")\n",
      "input=Integer(2560089086724665466)\n",
      "input=Comment(\"#X=Y8'?~AYA40#\\\\!1=pN7|z%\")\n",
      "input=StringLiteral(\"K'3?:`9co%/E,R[n1`|UZL8(&b.t^uJ\")\n",
      "input=Identifier(\"QOFNa7OZEkolZL8e64G9N6OSFg\")\n",
      "input=Operator(\"*\")\n",
      "input=Identifier(\"Uy62pJQ433S6YxJa2zl5\")\n",
      "input=StringLiteral(\"$@&Wh)`ZO'&Fm2:/:\")\n",
      "input=Identifier(\"bR0498QEg21F6iJXO1A22ErGz8JaX\")\n",
      "input=Identifier(\"FR\")\n",
      "input=Comment(\"L`)uv\\\"M\")\n",
      "input=Operator(\"(\")\n",
      "input=StringLiteral(\"%$\")\n",
      "input=StringLiteral(\"5:j9EgWx{&\")\n",
      "input=StringLiteral(\"{Y`,o}BN$'(!-IK*4*b\")\n",
      "input=Integer(8813149500335108224)\n",
      "input=Identifier(\"c2T7p8mxt5h5PoZnUmi\")\n",
      "input=Comment(\"1^8\")\n",
      "input=Comment(\"*;\")\n",
      "input=Operator(\"*\")\n",
      "input=Identifier(\"M5439O\")\n",
      "input=Operator(\"-\")\n",
      "input=Operator(\"=\")\n",
      "input=Identifier(\"txnAFCEwRnFbSn3XaE4Pz\")\n",
      "input=Integer(-1968792946933344061)\n",
      "input=Comment(\"$4h:^<-~+=Rp4$!:YR+A{>/od|I2\")\n",
      "input=Operator(\"+\")\n",
      "input=Comment(\":X\\\\9* U\\\"NPU:CCL==%~.l#.HQ*<\")\n",
      "input=StringLiteral(\"*n:;jp8bW{\")\n",
      "input=Comment(\"\\\"7\\\\3W'v!kh`Wz!uC?Kt$Wo\")\n",
      "input=StringLiteral(\"^}7x\")\n",
      "input=Comment(\"h?>'#bt&.*%^<BcwmF\\\"[+._*)\")\n",
      "input=Integer(846180627819790734)\n",
      "input=Operator(\"/\")\n",
      "input=StringLiteral(\"3{w{i{&_S$0/&Tpe%k=\")\n",
      "input=Comment(\"YlWv69/50'}uee<Q\\\"y_$\\\\\\\"`/\\\\4]D9~\")\n",
      "input=Comment(\"rg<$*P0^wqysQ'%\")\n",
      "input=Identifier(\"N834hpzBEx307OXN4\")\n",
      "input=Identifier(\"Uoh\")\n",
      "input=Operator(\"(\")\n",
      "input=Identifier(\"Uji0i7\")\n",
      "input=Operator(\"-\")\n",
      "input=Operator(\"+\")\n",
      "input=Operator(\"(\")\n",
      "input=StringLiteral(\"@\")\n",
      "input=Identifier(\"mvGbcEbzYh\")\n",
      "input=Identifier(\"R1L6v78S7QUyB8GPlEV42lVnM\")\n",
      "input=Comment(\"}?1#>*X\\\\8oJ\")\n",
      "input=Identifier(\"cNWb4ePWyQC5kRGiq1oEASm\")\n",
      "input=Integer(-2283706292070479252)\n",
      "input=Comment(\"=>^rC:I.i+S%sM!\")\n",
      "input=Identifier(\"UhdaQSCj755QhJ8FZ93R7V0oB7\")\n",
      "input=Integer(-4230133463471125161)\n",
      "input=Comment(\"/zB&Gnz<1')\\\"][x_%|.*\")\n",
      "input=Operator(\"=\")\n",
      "input=Operator(\"=\")\n",
      "input=Integer(-979283824968955570)\n",
      "input=Operator(\"=\")\n",
      "input=StringLiteral(\"VY'*<Vy?`cY~'U\")\n",
      "input=Comment(\"]M*`*E?^\")\n",
      "input=Operator(\")\")\n",
      "input=Identifier(\"cHS6OQ2t7x9350\")\n",
      "input=Integer(900003222857909129)\n",
      "input=Operator(\"+\")\n",
      "input=StringLiteral(\"B<=A&L\")\n",
      "input=Integer(2791259022060762858)\n",
      "input=Comment(\"YL%.{$\")\n",
      "input=StringLiteral(\"N)={<:<s$VV i6`\")\n",
      "input=Comment(\"=+\\\":p,{r;0kwor$/0`<Y]d/\\\"\")\n",
      "input=Integer(-2735756861064062355)\n",
      "input=Operator(\")\")\n",
      "input=Integer(-3240776488464201736)\n",
      "input=Operator(\")\")\n",
      "input=Operator(\"=\")\n",
      "input=Integer(1509717807190972114)\n",
      "input=Integer(6112707349164491978)\n",
      "input=StringLiteral(\"?ZS'd\")\n",
      "input=Identifier(\"UP8G7AwUs5SW92Y6\")\n",
      "input=Comment(\"a${\\\"?2T^g?'KMf.L7% \\\"Y.{GW+ON16/\")\n",
      "input=Operator(\"/\")\n",
      "input=Operator(\"/\")\n",
      "input=Operator(\"(\")\n",
      "input=Operator(\")\")\n",
      "input=Operator(\"-\")\n",
      "input=Comment(\"-%z*7m2{?JhQ{EU?fGTE5E{\\\\\")\n",
      "input=StringLiteral(\"o?>WE9+46F$h%~$Y0(*\")\n",
      "input=Integer(-871093382769968825)\n",
      "input=Integer(7037531146774030670)\n",
      "input=Comment(\"?i\\\"6CN/4't)%Hb><_{fk.1<X/>*Y\")\n",
      "input=Operator(\"/\")\n",
      "input=Comment(\"j!9>_%_:\\\"&$3Y)2?eR*{5EV\")\n",
      "input=Integer(4567695201384956910)\n",
      "input=Comment(\"\\\"?@/\\\\/<{QSM\\\"?*$.b\\\"<A(Hto*^\\\\x'\")\n",
      "input=StringLiteral(\"qRV{%'Hz/<VE9\")\n",
      "input=Identifier(\"U64p7sP12yJd55GwQbV4SGwA4\")\n",
      "input=Identifier(\"U5\")\n",
      "input=Integer(-8325974649304694170)\n",
      "input=Operator(\"=\")\n",
      "input=Comment(\"z:x]$\\\"T@mo\")\n",
      "input=Comment(\")`\\\\&<;,'|.auI.?99K'$\")\n",
      "input=Operator(\"/\")\n",
      "input=Integer(8499160913127386253)\n",
      "input=Comment(\"p6?|&*?\")\n",
      "input=Operator(\"(\")\n",
      "input=StringLiteral(\"_|&~<:$}DT5.T4'I0&{<OUorp<kt:'q\")\n",
      "input=Identifier(\"fs\")\n",
      "input=Integer(5471920180652104534)\n",
      "input=StringLiteral(\"mNk$:{w5<.-*Z\")\n",
      "input=Operator(\"+\")\n",
      "input=Operator(\"/\")\n",
      "input=Comment(\"byd`*M\\\\%'wi'>%D/&WX^=P!s\")\n",
      "input=Comment(\"\")\n",
      "input=Comment(\"N,/<.2OI:]>[W.s)Z\\\"~\")\n",
      "input=Integer(-1791922447242414070)\n",
      "input=Operator(\"-\")\n",
      "input=Comment(\"G!(/\\\\TB.\")\n",
      "input=Comment(\"h/@<H\")\n",
      "input=StringLiteral(\"wY<E, d.Db6E\")\n",
      "input=Operator(\"-\")\n",
      "input=Integer(-3910872894252721484)\n",
      "input=Operator(\"=\")\n",
      "input=Identifier(\"m\")\n",
      "input=StringLiteral(\"~*#M<{fca&v`\")\n",
      "input=Integer(426061032012698623)\n",
      "input=Comment(\"'v;YAW\\\\H\\\"0*v=d:LoYS{JJU\")\n",
      "input=Identifier(\"btMP5Zx\")\n",
      "input=Comment(\"cn#$Ix]/7igA\")\n",
      "input=Integer(-5385218520294598040)\n",
      "input=Comment(\"\")\n",
      "input=Identifier(\"NqUq47Y3hm\")\n",
      "input=Identifier(\"dAgKLp6pACftexsNHv0IdbO2L\")\n",
      "input=StringLiteral(\"`%x?F=_vTU'2\")\n",
      "input=Integer(1706018474431866954)\n",
      "input=Comment(\"M;`/?$\\\"'<l(.\\\\=!`fdK72b%$13o\")\n",
      "input=Identifier(\"IuwGj5lD7bQO8Q5YjQqYD1UmZu4i6nMei\")\n",
      "input=Identifier(\"KX0846\")\n",
      "input=Comment(\"2y$ON[BB\")\n",
      "input=Comment(\"B{s*(iZn:_kW<Yi;oEt='`@Br//q&p\")\n",
      "input=Comment(\"))SqZ!h=!YY%LAB&[AG&_dyc[\")\n",
      "input=Operator(\"=\")\n",
      "input=Operator(\"-\")\n",
      "input=Operator(\"*\")\n",
      "input=Comment(\"*tW%u&t\\\"j$&)&jQLqW<*\")\n",
      "input=StringLiteral(\"h'Z=mk=h0H.4X{../8*=8;%' I}0{*4<\")\n",
      "input=StringLiteral(\"\")\n",
      "input=Identifier(\"gY3eJOEClah15aaeOYTzLVyT5Wqy3\")\n",
      "input=Operator(\"/\")\n",
      "input=Integer(-2262254532639696902)\n",
      "input=Identifier(\"xuufUWMl3zd5c9HJwL7xTwj29Da67Zx8\")\n",
      "input=Identifier(\"VTdc2W0S8cCYaXAHIjD2bnIpuNWr\")\n",
      "input=StringLiteral(\"d|-]8*A%><?B\")\n",
      "input=StringLiteral(\":wT<%'#2J?$s=:]@u+5q5N?@;&*7m\")\n",
      "input=Integer(3826605194518294127)\n",
      "input=Identifier(\"EBovJJuB2Cfjf4AxI6ibyy3MVXQ87lEL\")\n",
      "input=Identifier(\"Zkmeu00E7hAbu4Ls76RogT4\")\n",
      "input=StringLiteral(\"\")\n",
      "input=StringLiteral(\"h$%*$p-a^:avh >+;W*m=P*\")\n",
      "input=Integer(8996234203447325749)\n",
      "input=Comment(\"y59/WB=S\")\n",
      "input=Identifier(\"HJ5ZnYa02OXC4qrJJW8d1AcoP1gdKM78i\")\n",
      "input=StringLiteral(\"Sr2+S9Q<ro\")\n",
      "input=Comment(\"a\\\"\")\n",
      "input=Comment(\"Kw*}/H/'R::.\")\n",
      "input=Integer(-2263299025929045692)\n",
      "input=Operator(\"+\")\n",
      "input=Comment(\",){?B?y>{vr\")\n",
      "input=Comment(\"}/6}6lIiw9$\")\n",
      "input=StringLiteral(\"%:97M'=$4%q\")\n",
      "input=Operator(\"+\")\n",
      "input=StringLiteral(\"o\")\n",
      "input=Integer(8891555708183590355)\n",
      "input=Operator(\"+\")\n",
      "input=StringLiteral(\"]:DYowBgC`G#PR.Z.Y?$yW\")\n",
      "input=Identifier(\"bN\")\n",
      "input=Identifier(\"MnDZMDa0qC9W\")\n",
      "input=Operator(\")\")\n",
      "input=Integer(4149601477993105865)\n",
      "input=Integer(-5031446731552420285)\n",
      "input=Comment(\"U$xi@v%B*.6Z8g`b\\\":&$G\")\n",
      "input=Integer(3233140668672991737)\n",
      "input=Operator(\"/\")\n",
      "input=Identifier(\"L81SC7YyW8ursE\")\n",
      "input=Integer(-2072087344794671527)\n",
      "input=StringLiteral(\"P`{){{Po![J7DL22{*g?\")\n",
      "input=StringLiteral(\"'9uD<y%I\")\n",
      "input=Identifier(\"aHkv9MNnT717vn0x980zzfnzL7j9E2hH\")\n",
      "input=Operator(\"(\")\n",
      "input=StringLiteral(\"Up=g2PZ`nB..D*H5u$Y=1z<O%$<U\")\n",
      "input=Operator(\"=\")\n",
      "input=Comment(\"{wfA=\")\n",
      "input=Integer(7756618018069835503)\n",
      "input=Identifier(\"jUPlTPP7tc4c8\")\n",
      "input=Identifier(\"HUf4pSRm\")\n",
      "input=Operator(\"(\")\n",
      "input=Integer(1744480219743071966)\n",
      "input=StringLiteral(\"^\")\n",
      "input=Comment(\"on*sr*V`x\\\\F'/:sDM+\")\n",
      "input=Operator(\"-\")\n",
      "input=Integer(-798651542642166394)\n",
      "input=Integer(-698426400490007286)\n",
      "input=Operator(\"-\")\n",
      "input=StringLiteral(\"<`%^l@Z.9w{Z^L@,`k&:=c&<=&&.\")\n",
      "input=Integer(-1522281863551010240)\n",
      "input=Operator(\"=\")\n",
      "input=StringLiteral(\"~$_[Z\")\n",
      "input=Comment(\"iP'&)RE|<G*/{\\\\=P6%n^\")\n",
      "input=Identifier(\"kO6l42vscxQz5eerF5q\")\n",
      "input=Comment(\"\\\\_X :C%\")\n",
      "input=Operator(\"(\")\n",
      "input=Comment(\"(]/}Hcn1<T3WQ:^zkBNRn/=\")\n",
      "input=Identifier(\"ukpcVw1hV6\")\n",
      "input=Comment(\"%C8W\")\n",
      "input=Operator(\")\")\n",
      "input=Integer(-8636631731632304977)\n",
      "input=Integer(1357164606688689120)\n",
      "input=StringLiteral(\". xV*[~Ed-EW=,Gqk=>2/gA4_~P3d\")\n",
      "input=Identifier(\"cAXtrfLc2Q\")\n",
      "input=Comment(\"&/.DyQe*\")\n",
      "input=StringLiteral(\"l?<BVtAh<|w_;j&?w]dP(>%9?$.{\")\n",
      "input=Identifier(\"Xw0xtftI49k1hNbV3f4fM6\")\n",
      "input=Operator(\"/\")\n",
      "input=Integer(4346424626026476331)\n",
      "input=StringLiteral(\"%z&eeL\")\n",
      "input=Integer(-5599984785861463226)\n",
      "input=Integer(-5924739734091531059)\n",
      "input=StringLiteral(\"(M\")\n",
      "input=Operator(\"(\")\n",
      "input=StringLiteral(\"3`plFjd`L`y$c.CRE&.\")\n",
      "input=Operator(\"*\")\n",
      "input=Integer(-2749453700175306863)\n",
      "input=StringLiteral(\"$FN\")\n",
      "input=Operator(\"=\")\n",
      "input=Operator(\"*\")\n",
      "input=StringLiteral(\"u7s{{P`2y$\")\n",
      "input=StringLiteral(\")?kn5'$S:$BX&4=bU[\")\n",
      "\n",
      "\n",
      "successes:\n",
      "    adding_and_then_removing_an_item_from_the_cart_leaves_the_cart_unchanged\n",
      "    prop_parse_format_idempotent\n",
      "    test_parse_number\n",
      "\n",
      "test result: ok. 3 passed; 0 failed; 0 ignored; 0 measured; 0 filtered out; finished in 0.14s\n",
      "\n"
     ]
    }
   ],
   "source": [
    "{ cargo +nightly test --release -- --show-output } | Invoke-Block"
   ]
  },
  {
   "cell_type": "markdown",
   "metadata": {},
   "source": [
    "### execute the binary in release mode"
   ]
  },
  {
   "cell_type": "code",
   "execution_count": null,
   "metadata": {
    "dotnet_interactive": {
     "language": "pwsh"
    },
    "polyglot_notebook": {
     "kernelName": "pwsh"
    }
   },
   "outputs": [
    {
     "name": "stdout",
     "output_type": "stream",
     "text": [
      "app=test\n"
     ]
    }
   ],
   "source": [
    "{ . $ScriptDir/../../../../workspace/target/release/spiral_temp_test$(_exe) } | Invoke-Block"
   ]
  }
 ],
 "metadata": {},
 "nbformat": 4,
 "nbformat_minor": 5
}