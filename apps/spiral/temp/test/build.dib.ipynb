{
 "cells": [
  {
   "cell_type": "markdown",
   "metadata": {},
   "source": [
    "# test"
   ]
  },
  {
   "cell_type": "markdown",
   "metadata": {},
   "source": [
    "## include scripts"
   ]
  },
  {
   "cell_type": "markdown",
   "metadata": {},
   "source": [
    "### include notebook core"
   ]
  },
  {
   "cell_type": "code",
   "execution_count": null,
   "metadata": {
    "dotnet_interactive": {
     "language": "pwsh"
    },
    "polyglot_notebook": {
     "kernelName": "pwsh"
    }
   },
   "outputs": [],
   "source": [
    ". ../../../../scripts/nbs_header.ps1"
   ]
  },
  {
   "cell_type": "markdown",
   "metadata": {},
   "source": [
    "### Include core functions script"
   ]
  },
  {
   "cell_type": "code",
   "execution_count": null,
   "metadata": {
    "dotnet_interactive": {
     "language": "pwsh"
    },
    "polyglot_notebook": {
     "kernelName": "pwsh"
    }
   },
   "outputs": [],
   "source": [
    ". ../../../../scripts/core.ps1"
   ]
  },
  {
   "cell_type": "markdown",
   "metadata": {},
   "source": [
    "### Include spiral library"
   ]
  },
  {
   "cell_type": "code",
   "execution_count": null,
   "metadata": {
    "dotnet_interactive": {
     "language": "pwsh"
    },
    "polyglot_notebook": {
     "kernelName": "pwsh"
    }
   },
   "outputs": [],
   "source": [
    ". ../../../../deps/spiral/lib/spiral/lib.ps1"
   ]
  },
  {
   "cell_type": "markdown",
   "metadata": {},
   "source": [
    "## execute project commands"
   ]
  },
  {
   "cell_type": "markdown",
   "metadata": {},
   "source": [
    "### run notebook with retries using spiral supervisor"
   ]
  },
  {
   "cell_type": "code",
   "execution_count": null,
   "metadata": {
    "dotnet_interactive": {
     "language": "pwsh"
    },
    "polyglot_notebook": {
     "kernelName": "pwsh"
    }
   },
   "outputs": [
    {
     "name": "stdout",
     "output_type": "stream",
     "text": [
      "00:00:00 \u001B[94md\u001B[0m #1 runtime.execute_with_options_async / { file_name = ../../../../deps/spiral/workspace/target/release/spiral.exe; arguments = US5_0 \"dib --path test.dib --retries 3\"; options = { command = ../../../../deps/spiral/workspace/target/release/spiral.exe dib --path test.dib --retries 3; cancellation_token = Some System.Threading.CancellationToken; environment_variables = [||]; on_line = None; stdin = None; trace = true; working_directory = None } }\n",
      "00:00:22 \u001B[94md\u001B[0m #2 runtime.execute_with_options_async / { exit_code = 0; output_length = 31826; options = { command = ../../../../deps/spiral/workspace/target/release/spiral.exe dib --path test.dib --retries 3; cancellation_token = Some System.Threading.CancellationToken; environment_variables = [||]; on_line = None; stdin = None; trace = true; working_directory = None } }\n",
      "00:00:22 \u001B[94md\u001B[0m #1 main / executeCommand / exitCode: 0 / command: ../../../../deps/spiral/workspace/target/release/spiral.exe dib --path test.dib --retries 3\n"
     ]
    }
   ],
   "source": [
    "{ . ../../../../apps/spiral/dist/Supervisor$(_exe) --execute-command \"../../../../deps/spiral/workspace/target/release/spiral$(_exe) dib --path test.dib --retries 3\" } | Invoke-Block"
   ]
  },
  {
   "cell_type": "markdown",
   "metadata": {},
   "source": [
    "### parse the .dib file into .spi format with dibparser"
   ]
  },
  {
   "cell_type": "code",
   "execution_count": null,
   "metadata": {
    "dotnet_interactive": {
     "language": "pwsh"
    },
    "polyglot_notebook": {
     "kernelName": "pwsh"
    }
   },
   "outputs": [
    {
     "name": "stdout",
     "output_type": "stream",
     "text": [
      "00:00:00 \u001B[94md\u001B[0m #1 writeDibCode / output: Spi / path: test.dib\n",
      "00:00:00 \u001B[94md\u001B[0m #2 parseDibCode / output: Spi / file: test.dib\n"
     ]
    }
   ],
   "source": [
    "{ . ../../../../apps/parser/dist/DibParser$(_exe) test.dib spi } | Invoke-Block"
   ]
  },
  {
   "cell_type": "markdown",
   "metadata": {},
   "source": [
    "### build .fsx file from .spi using supervisor"
   ]
  },
  {
   "cell_type": "code",
   "execution_count": null,
   "metadata": {
    "dotnet_interactive": {
     "language": "pwsh"
    },
    "polyglot_notebook": {
     "kernelName": "pwsh"
    }
   },
   "outputs": [
    {
     "name": "stdout",
     "output_type": "stream",
     "text": [
      "<test>\n",
      "</test>\n"
     ]
    }
   ],
   "source": [
    "{ . ../../../../apps/spiral/dist/Supervisor$(_exe) --build-file test.spi test.fsx } | Invoke-Block"
   ]
  },
  {
   "cell_type": "markdown",
   "metadata": {},
   "source": [
    "## compile and format the project"
   ]
  },
  {
   "cell_type": "markdown",
   "metadata": {},
   "source": [
    "### compile project with fable targeting optimized rust"
   ]
  },
  {
   "cell_type": "code",
   "execution_count": null,
   "metadata": {
    "dotnet_interactive": {
     "language": "pwsh"
    },
    "polyglot_notebook": {
     "kernelName": "pwsh"
    }
   },
   "outputs": [
    {
     "name": "stdout",
     "output_type": "stream",
     "text": [
      "Fable 5.0.0-alpha.9: F# to Rust compiler (status: alpha)\n",
      "\n",
      "Thanks to the contributor! @vbfox\n",
      "Stand with Ukraine! https://standwithukraine.com.ua/\n",
      "\n",
      "Parsing test.fsproj...\n",
      "Retrieving project options from cache, in case of issues run `dotnet fable clean` or try `--noCache` option.\n",
      "Project and references (1 source files) parsed in 162ms\n",
      "\n",
      "Started Fable compilation...\n",
      "\n",
      "Fable compilation finished in 2078ms\n",
      "\n",
      ".\\test.fsx(11,0): (11,2) warning FABLE: For Rust, support for F# static and module do bindings is disabled by default. It can be enabled with the 'static_do_bindings' feature. Use at your own risk!\n"
     ]
    }
   ],
   "source": [
    "dotnet fable --optimize --lang rs --extension .rs"
   ]
  },
  {
   "cell_type": "markdown",
   "metadata": {},
   "source": [
    "### fix formatting issues in the .rs file using regex and set-content"
   ]
  },
  {
   "cell_type": "code",
   "execution_count": null,
   "metadata": {
    "dotnet_interactive": {
     "language": "pwsh"
    },
    "polyglot_notebook": {
     "kernelName": "pwsh"
    }
   },
   "outputs": [],
   "source": [
    "(Get-Content test.rs) `\n",
    "    -replace [regex]::Escape(\"),);\"), \"));\" `\n",
    "    | FixRust `\n",
    "| Set-Content test.rs"
   ]
  },
  {
   "cell_type": "markdown",
   "metadata": {},
   "source": [
    "### format the rust code using cargo fmt"
   ]
  },
  {
   "cell_type": "code",
   "execution_count": null,
   "metadata": {
    "dotnet_interactive": {
     "language": "pwsh"
    },
    "polyglot_notebook": {
     "kernelName": "pwsh"
    }
   },
   "outputs": [],
   "source": [
    "cargo fmt --"
   ]
  },
  {
   "cell_type": "markdown",
   "metadata": {},
   "source": [
    "## build and test the project"
   ]
  },
  {
   "cell_type": "markdown",
   "metadata": {},
   "source": [
    "### build the project in release mode using nightly rust compiler"
   ]
  },
  {
   "cell_type": "code",
   "execution_count": null,
   "metadata": {
    "dotnet_interactive": {
     "language": "pwsh"
    },
    "polyglot_notebook": {
     "kernelName": "pwsh"
    }
   },
   "outputs": [
    {
     "name": "stdout",
     "output_type": "stream",
     "text": [
      "\u001B[31;1m   Compiling fable_library_rust v0.1.0 (C:\\home\\git\\polyglot\\lib\\rust\\fable\\fable_modules\\fable-library-rust)\u001B[0m\n",
      "\u001B[31;1m   Compiling spiral_temp_test v0.0.1 (C:\\home\\git\\polyglot\\apps\\spiral\\temp\\test)\u001B[0m\n",
      "\u001B[31;1m    Finished `release` profile [optimized] target(s) in 8.76s\u001B[0m\n"
     ]
    }
   ],
   "source": [
    "cargo build --release"
   ]
  },
  {
   "cell_type": "markdown",
   "metadata": {},
   "source": [
    "### run release tests with output enabled"
   ]
  },
  {
   "cell_type": "code",
   "execution_count": null,
   "metadata": {
    "dotnet_interactive": {
     "language": "pwsh"
    },
    "polyglot_notebook": {
     "kernelName": "pwsh"
    }
   },
   "outputs": [
    {
     "name": "stdout",
     "output_type": "stream",
     "text": [
      "\u001B[31;1m   Compiling fable_library_rust v0.1.0 (C:\\home\\git\\polyglot\\lib\\rust\\fable\\fable_modules\\fable-library-rust)\u001B[0m\n",
      "\u001B[31;1m   Compiling spiral_temp_test v0.0.1 (C:\\home\\git\\polyglot\\apps\\spiral\\temp\\test)\u001B[0m\n",
      "\u001B[31;1m    Finished `release` profile [optimized] target(s) in 31.99s\u001B[0m\n",
      "\u001B[31;1m     Running unittests main.rs (C:\\home\\git\\polyglot\\workspace\\target\\release\\deps\\spiral_temp_test-6f297c6a0c232188.exe)\u001B[0m\n",
      "\n",
      "running 3 tests\n",
      "test test_parse_number ... ok\n",
      "test prop_parse_format_idempotent ... ok\n",
      "test adding_and_then_removing_an_item_from_the_cart_leaves_the_cart_unchanged ... ok\n",
      "\n",
      "successes:\n",
      "\n",
      "---- prop_parse_format_idempotent stdout ----\n",
      "input=Comment(\"<$*)wf'/=.Y\")\n",
      "input=Identifier(\"ulfdf0\")\n",
      "input=Comment(\"&\\\"Cz/$d\\\\\")\n",
      "input=Integer(-4691956768194981509)\n",
      "input=StringLiteral(\"R<;.}=?&'(NG\")\n",
      "input=StringLiteral(\"OlY3ot.$`#\")\n",
      "input=Operator(\"-\")\n",
      "input=Operator(\")\")\n",
      "input=Comment(\"*W=xa.s|Ra\")\n",
      "input=Identifier(\"lm2Alm\")\n",
      "input=Identifier(\"VI8bKF8N528cwmp69RL3Xdo\")\n",
      "input=Integer(-6043029334280836520)\n",
      "input=Identifier(\"tDJ\")\n",
      "input=Identifier(\"dwUUjdEGrzlAGLM1Yv95YKoJ\")\n",
      "input=Integer(-2620431222116785927)\n",
      "input=Integer(-5822922878265489120)\n",
      "input=Operator(\"(\")\n",
      "input=Integer(-1894711483915549955)\n",
      "input=Integer(-938640932698268635)\n",
      "input=Integer(1061532535680863266)\n",
      "input=Operator(\")\")\n",
      "input=StringLiteral(\")q%!>~:Q@.jR%'6U~Y`\")\n",
      "input=Comment(\"`)V<\")\n",
      "input=Integer(2948940360420383617)\n",
      "input=Operator(\"=\")\n",
      "input=Comment(\"%x/hfnKMnqvM\")\n",
      "input=Operator(\"(\")\n",
      "input=StringLiteral(\"n$wqvn*t;v<qwBQJ,W=&%`\")\n",
      "input=StringLiteral(\",G=gs0'\")\n",
      "input=StringLiteral(\"u)D:=*_G/%Op@/H{`<q{3+%~%\")\n",
      "input=Integer(-4554536881533160131)\n",
      "input=Integer(4136588563464324664)\n",
      "input=Operator(\"=\")\n",
      "input=Integer(-6886767505738526042)\n",
      "input=Comment(\"]lc3h:^/\\\"%{\")\n",
      "input=Comment(\"`=9N]7*I/p2@$=?,oVn8e&=Oms\")\n",
      "input=Comment(\"&$%ThO.\\\"\\\\L*:\")\n",
      "input=StringLiteral(\"F/yhwn.aL?{;&H^!5%s*pN\")\n",
      "input=Operator(\"-\")\n",
      "input=StringLiteral(\"F_=3%\")\n",
      "input=Integer(7938524464605997835)\n",
      "input=Operator(\"=\")\n",
      "input=Integer(5133031767211311030)\n",
      "input=StringLiteral(\"TA)%I<w+o<pq\")\n",
      "input=Operator(\"=\")\n",
      "input=Identifier(\"odTf67S\")\n",
      "input=Identifier(\"fzSf1fk0SdD7N2lWKH\")\n",
      "input=Comment(\"&l\")\n",
      "input=Comment(\"`'pn4R1Xy3/*VwA.P1p\\\"/dqW{Y4xg@\")\n",
      "input=Comment(\"nWjr/i<?0J&/Fs=g{:.G*~x1q\")\n",
      "input=Identifier(\"KkMoDS0Y8WRdlJCh6dgeBg0vLmkKiDW\")\n",
      "input=Identifier(\"c8EDQHGR2UVBSAxaG\")\n",
      "input=StringLiteral(\",rzEq&/*=g?\")\n",
      "input=Identifier(\"rbGeB\")\n",
      "input=StringLiteral(\"?,3u/IgnvC,*=`/8d<x<2>*tk\")\n",
      "input=Integer(4981709999844440231)\n",
      "input=Comment(\"/\")\n",
      "input=Comment(\"q<8G%'$Gf7'pb:=rZl(g>xHIQs\")\n",
      "input=StringLiteral(\";,:cQe?\")\n",
      "input=Operator(\")\")\n",
      "input=Identifier(\"C0dSZY4LYm52f44sgq094Wv4B963H6VSj\")\n",
      "input=StringLiteral(\"~a8]a4&:u&Gw*!/N{g_qdZ7z\")\n",
      "input=Comment(\"Rb Ngs.c*&.t*r\")\n",
      "input=Identifier(\"z41Tqfls5l7z6oPOO\")\n",
      "input=Operator(\"(\")\n",
      "input=StringLiteral(\"1L<^}{]B\")\n",
      "input=Identifier(\"eU50opKnWVu1FZe075DDDgTGYx9F\")\n",
      "input=Comment(\"(.*$I:p/ul\\\\\")\n",
      "input=Integer(-325707129534508562)\n",
      "input=Identifier(\"aN\")\n",
      "input=Integer(4131666298036103586)\n",
      "input=Operator(\"+\")\n",
      "input=Integer(-2313630535031809162)\n",
      "input=Comment(\"7OO:@\")\n",
      "input=Comment(\"0`ep~\\\\\")\n",
      "input=Integer(-8695779313530853126)\n",
      "input=Identifier(\"qxi7gy220SCO5H7av\")\n",
      "input=Integer(1584619679051325331)\n",
      "input=Operator(\"/\")\n",
      "input=Identifier(\"NsXNRHxLUqpiNHLCw1SR\")\n",
      "input=Identifier(\"f1U59P5F2Iy9I\")\n",
      "input=StringLiteral(\"`{:X?L@.09:_d?$g^m3TD=#&=0<%\")\n",
      "input=Comment(\"p=/vr_KV(\")\n",
      "input=Operator(\"+\")\n",
      "input=Comment(\"&_b{KV\\\\>G>DC:XEo=/%\\\\${$9'\")\n",
      "input=Operator(\"+\")\n",
      "input=StringLiteral(\"&q{Y$'PB'y~:Q%&X.&w8@D\")\n",
      "input=StringLiteral(\"pez/+yeK'rV\")\n",
      "input=Identifier(\"hWa\")\n",
      "input=Operator(\"-\")\n",
      "input=Operator(\"(\")\n",
      "input=Identifier(\"Z9TX0o8zt4om5\")\n",
      "input=Operator(\"+\")\n",
      "input=Operator(\"(\")\n",
      "input=Comment(\"XC/4WA<6S`ky{8\\\\'R\")\n",
      "input=Integer(-4307812346879199936)\n",
      "input=StringLiteral(\"{&o.+qHu??bl.sfC\")\n",
      "input=StringLiteral(\"/)6IGlc=@)'PDDDEgiCe'f$.#?aK%|d\")\n",
      "input=Comment(\"r'^A&{\")\n",
      "input=Comment(\"\")\n",
      "input=Operator(\"=\")\n",
      "input=Integer(7426330827329554586)\n",
      "input=Operator(\"(\")\n",
      "input=Comment(\"%\\\"G*4js\")\n",
      "input=Integer(4293146709471911107)\n",
      "input=StringLiteral(\"f)ZCz'Plh0V&.&\")\n",
      "input=Identifier(\"BZvUtddqm7Et3i1dxWiAfeg9j\")\n",
      "input=StringLiteral(\"'.sv\")\n",
      "input=Identifier(\"aZy9rxDLvewO6wo3SA6KHQgQW\")\n",
      "input=Integer(-968383618041786810)\n",
      "input=StringLiteral(\"JlOK\")\n",
      "input=Operator(\"=\")\n",
      "input=Integer(8207735412404722536)\n",
      "input=Identifier(\"vk\")\n",
      "input=StringLiteral(\"K'ksi0(<sn*/O/n?:;a[V%e\")\n",
      "input=Operator(\"-\")\n",
      "input=StringLiteral(\"?=<=\")\n",
      "input=Integer(8631778492014249342)\n",
      "input=Integer(4406117893361038398)\n",
      "input=StringLiteral(\"\")\n",
      "input=Comment(\"\\\\ff&<l .MamaP8%t:<H^mg $z'&?n\")\n",
      "input=Operator(\"+\")\n",
      "input=Operator(\"-\")\n",
      "input=Operator(\")\")\n",
      "input=Integer(-7023680835325706390)\n",
      "input=Operator(\"*\")\n",
      "input=Identifier(\"dBldMN5iR9a2b92J3cNPIZpk6Y89X58\")\n",
      "input=Identifier(\"dQoW0JH\")\n",
      "input=StringLiteral(\"qT`8\")\n",
      "input=Comment(\"W2(=g{#)c\\\\Q<\")\n",
      "input=StringLiteral(\"`o#:q%{IV%\")\n",
      "input=Integer(4925816633704472006)\n",
      "input=Integer(1531865855899887704)\n",
      "input=Comment(\"/ M`8L7(\")\n",
      "input=Comment(\"L<`c<'\\\"*$o'2*\\\".&\")\n",
      "input=Comment(\")f$..\")\n",
      "input=StringLiteral(\"=3:DHY]$7Dom.&,X<\")\n",
      "input=Operator(\"=\")\n",
      "input=Integer(-5222751797855836337)\n",
      "input=Integer(-4971235317053478303)\n",
      "input=Integer(-2055382370000734644)\n",
      "input=StringLiteral(\"N6O~=xG=(f/8*#{\")\n",
      "input=Identifier(\"C52dEBv6ps9Ek1L4wFtPzEc01Nyz\")\n",
      "input=Integer(538104275917601376)\n",
      "input=Identifier(\"n5RGA2f1\")\n",
      "input=Integer(9080618291194094410)\n",
      "input=Operator(\"-\")\n",
      "input=Operator(\")\")\n",
      "input=StringLiteral(\"<'%.d2O<\")\n",
      "input=StringLiteral(\"8U@EIc.hRDU$@ w:TN``%DK//0\")\n",
      "input=Integer(-8788049925437913286)\n",
      "input=Identifier(\"xFg\")\n",
      "input=Integer(8768798502809596129)\n",
      "input=Operator(\"=\")\n",
      "input=Operator(\"/\")\n",
      "input=Identifier(\"rv86AV26OakCW\")\n",
      "input=Operator(\"-\")\n",
      "input=Operator(\"+\")\n",
      "input=Integer(-2411432845530227710)\n",
      "input=StringLiteral(\"z^BB>q\")\n",
      "input=Integer(-5376788035515449247)\n",
      "input=StringLiteral(\"`&1f.u@`Db'l1 B:&;^{*<0'\")\n",
      "input=Integer(2016781552435224938)\n",
      "input=Identifier(\"Qp73Zs17\")\n",
      "input=Comment(\"Ie'<\\\"{%:ZtsF/w\")\n",
      "input=Identifier(\"YOunAF5VHo3ix8NuW0gxxovsx02wu97\")\n",
      "input=Integer(9204764184025350563)\n",
      "input=StringLiteral(\"pPzHrvtN~Ds,$o&|n%Yc:eK\")\n",
      "input=StringLiteral(\"ldP!&D#{#<\")\n",
      "input=Integer(-6761534133498306340)\n",
      "input=Identifier(\"UH2E6LSVjPOvhbiIAjS8\")\n",
      "input=Integer(-2713298246756669955)\n",
      "input=Integer(-7747403621392227880)\n",
      "input=Identifier(\"xV3FmK7EvlCa5XET7fCb\")\n",
      "input=Comment(\"hh{wd/<(:`\\\"6\")\n",
      "input=Integer(2974848336051553161)\n",
      "input=Identifier(\"Dba9byF0Djv3YkULnB\")\n",
      "input=Identifier(\"bX\")\n",
      "input=StringLiteral(\"/v{w{&rG/o`\")\n",
      "input=StringLiteral(\"%'=5DR:p\")\n",
      "input=Comment(\"8~v(~+73B+:&pdaM\")\n",
      "input=Comment(\"C:}$ttTq?I*\\\"_0%~\")\n",
      "input=Comment(\"$ob\\\\'/*E'q8\")\n",
      "input=Operator(\"/\")\n",
      "input=Operator(\"*\")\n",
      "input=Integer(-3399396708864231496)\n",
      "input=StringLiteral(\"M*O0X%SM3hso%0V$,aR*`maHG^R*Y>\")\n",
      "input=StringLiteral(\"8z6\")\n",
      "input=Identifier(\"yjUgeCDsWZSQS2UqcEVLuN027f32\")\n",
      "input=Comment(\"_NK'm#L^d}76$g$Br\\\"O*&|wtC\")\n",
      "input=Comment(\"b'CH4\\\"Y!ba?r=H`kNDD\")\n",
      "input=Identifier(\"aciwcHztwNQAlZwGTtA7VxIT62nLlK\")\n",
      "input=Integer(-5250431776973139520)\n",
      "input=Comment(\"$\\\\9\\\"c/`$\\\\.ry&R=\\\"I\")\n",
      "input=Identifier(\"Gx9YC89o6lD\")\n",
      "input=Comment(\"{/FI%\\\\V|u6/.Wn6BApI=6 .6\")\n",
      "input=Integer(-6626224664176312258)\n",
      "input=Integer(-2735321672039604579)\n",
      "input=Operator(\"-\")\n",
      "input=StringLiteral(\"TR>Gc/&9Nx:-A.a_A=5`/0E'}S\")\n",
      "input=Integer(-4705176379270967830)\n",
      "input=Identifier(\"BLr6byW8M8\")\n",
      "input=Comment(\"T?4\\\\r0lj.86&l=p\")\n",
      "input=Integer(217822531098856681)\n",
      "input=Operator(\"-\")\n",
      "input=Comment(\"/{Ug6*+H\")\n",
      "input=Identifier(\"EhB7Oqot2f3CzzVQl\")\n",
      "input=Integer(-2036973806377080541)\n",
      "input=Identifier(\"niqIz7jqjZmTVPJq\")\n",
      "input=Identifier(\"P2Y\")\n",
      "input=StringLiteral(\"/O\")\n",
      "input=StringLiteral(\"9D9<%VlN~\")\n",
      "input=StringLiteral(\"{(Y%&[*&<uI?=J%g6:%9'%pC?6S\")\n",
      "input=Comment(\"Z\\\"H\\\\$O\\\"z\\\"}(\\\\OzUS$?c@{P\\\\m:z#LX`S\")\n",
      "input=Operator(\"/\")\n",
      "input=StringLiteral(\"L/y=6\")\n",
      "input=Operator(\"=\")\n",
      "input=StringLiteral(\"}DB`jGW</d|\")\n",
      "input=Integer(7349468667543365099)\n",
      "input=Integer(-8744087465796297818)\n",
      "input=Operator(\"*\")\n",
      "input=Integer(-3479983177949939232)\n",
      "input=Integer(-6880937617795359628)\n",
      "input=Operator(\"+\")\n",
      "input=Identifier(\"T43quiB6O2r57G3vH46SvNM12aFY5s3j\")\n",
      "input=StringLiteral(\"u#MC.{hZi+$;'$*\")\n",
      "input=StringLiteral(\",-YQ&_S=:?\")\n",
      "input=Comment(\"\\\\11&jy\\\\?'D\\\" `W@Z?}I_z\")\n",
      "input=StringLiteral(\"8^.-E$Cdm)**[H&::/`j_=K+o'X\")\n",
      "input=Integer(1617291059126250280)\n",
      "input=Identifier(\"U2N63rP9B32w19\")\n",
      "input=Comment(\")\\\"?Fh.\")\n",
      "input=StringLiteral(\"<>E:[*1W*&MWN>6$b`\")\n",
      "input=Operator(\"+\")\n",
      "input=Comment(\"g(<Qm${8%I?\\\\~1\\\\]?M.+ t\")\n",
      "input=Operator(\")\")\n",
      "input=Comment(\"kV?*0SD(U(\")\n",
      "input=Comment(\"cOI'&RAWYkF8:$P5@i&`:.\")\n",
      "input=Comment(\"*.N6O|A(-\")\n",
      "input=Identifier(\"z597mk0wAfwnYd0nAGpEzA100s6j\")\n",
      "input=StringLiteral(\"% =o`1:'6's>?5X?`&0&o\")\n",
      "input=Operator(\"=\")\n",
      "input=StringLiteral(\"A<&,4+^<,:'<kIh?(:8,- :a:L\")\n",
      "input=Integer(5322575424306334857)\n",
      "input=Operator(\")\")\n",
      "input=Operator(\"=\")\n",
      "input=Comment(\"9tpW<o]\\\\\\\"*..\")\n",
      "input=Integer(5617026675164347972)\n",
      "input=StringLiteral(\"R7PB%?{G&a*'c-/m!8\")\n",
      "input=Comment(\"Hka.I&3$>\")\n",
      "input=Identifier(\"b8uxop5eg3Nm9bV\")\n",
      "input=Comment(\"A\")\n",
      "input=Identifier(\"Jc81QquO0KMQXZ05U3u8rro4FGfPWu5b\")\n",
      "input=Integer(-5072971826186174376)\n",
      "input=Integer(489393578207094835)\n",
      "input=Operator(\"+\")\n",
      "\n",
      "\n",
      "successes:\n",
      "    adding_and_then_removing_an_item_from_the_cart_leaves_the_cart_unchanged\n",
      "    prop_parse_format_idempotent\n",
      "    test_parse_number\n",
      "\n",
      "test result: ok. 3 passed; 0 failed; 0 ignored; 0 measured; 0 filtered out; finished in 0.11s\n",
      "\n"
     ]
    }
   ],
   "source": [
    "{ cargo test --release -- --show-output } | Invoke-Block"
   ]
  },
  {
   "cell_type": "markdown",
   "metadata": {},
   "source": [
    "### execute the binary in release mode"
   ]
  },
  {
   "cell_type": "code",
   "execution_count": null,
   "metadata": {
    "dotnet_interactive": {
     "language": "pwsh"
    },
    "polyglot_notebook": {
     "kernelName": "pwsh"
    }
   },
   "outputs": [
    {
     "name": "stdout",
     "output_type": "stream",
     "text": [
      "app=test\n"
     ]
    }
   ],
   "source": [
    "{ . $ScriptDir/../../../../workspace/target/release/spiral_temp_test$(_exe) } | Invoke-Block"
   ]
  }
 ],
 "metadata": {},
 "nbformat": 4,
 "nbformat_minor": 5
}