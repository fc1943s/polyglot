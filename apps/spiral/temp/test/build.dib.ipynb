{
 "cells": [
  {
   "cell_type": "markdown",
   "metadata": {},
   "source": [
    "# test"
   ]
  },
  {
   "cell_type": "markdown",
   "metadata": {},
   "source": [
    "## include scripts"
   ]
  },
  {
   "cell_type": "markdown",
   "metadata": {},
   "source": [
    "### include notebook core"
   ]
  },
  {
   "cell_type": "code",
   "execution_count": null,
   "metadata": {
    "dotnet_interactive": {
     "language": "pwsh"
    },
    "polyglot_notebook": {
     "kernelName": "pwsh"
    }
   },
   "outputs": [],
   "source": [
    ". ../../../../scripts/nbs_header.ps1"
   ]
  },
  {
   "cell_type": "markdown",
   "metadata": {},
   "source": [
    "### Include core functions script"
   ]
  },
  {
   "cell_type": "code",
   "execution_count": null,
   "metadata": {
    "dotnet_interactive": {
     "language": "pwsh"
    },
    "polyglot_notebook": {
     "kernelName": "pwsh"
    }
   },
   "outputs": [],
   "source": [
    ". ../../../../scripts/core.ps1"
   ]
  },
  {
   "cell_type": "markdown",
   "metadata": {},
   "source": [
    "### Include spiral library"
   ]
  },
  {
   "cell_type": "code",
   "execution_count": null,
   "metadata": {
    "dotnet_interactive": {
     "language": "pwsh"
    },
    "polyglot_notebook": {
     "kernelName": "pwsh"
    }
   },
   "outputs": [],
   "source": [
    ". ../../../../lib/spiral/lib.ps1"
   ]
  },
  {
   "cell_type": "markdown",
   "metadata": {},
   "source": [
    "## execute project commands"
   ]
  },
  {
   "cell_type": "markdown",
   "metadata": {},
   "source": [
    "### run notebook with retries using spiral supervisor"
   ]
  },
  {
   "cell_type": "code",
   "execution_count": null,
   "metadata": {
    "dotnet_interactive": {
     "language": "pwsh"
    },
    "polyglot_notebook": {
     "kernelName": "pwsh"
    }
   },
   "outputs": [
    {
     "name": "stdout",
     "output_type": "stream",
     "text": [
      "00:00:00 \u001B[90mv\u001B[0m #1 async.run_with_timeout_async / { timeout = 180 }\n",
      "00:00:01 \u001B[94md\u001B[0m #1 runtime.execute_with_options_async / { file_name = ../../../../workspace/target/release/spiral_builder.exe; arguments = US1_0 \"dib --path test.dib --retries 3\"; options = { command = ../../../../workspace/target/release/spiral_builder.exe dib --path test.dib --retries 3; cancellation_token = Some System.Threading.CancellationToken; environment_variables = [||]; on_line = None; stdin = None; trace = true; working_directory = None } }\n",
      "00:00:01 \u001B[90mv\u001B[0m #2 > 00:00:00 \u001B[94md\u001B[39m #1 spiral_builder.main / { args = Array(MutCell([\"dib\", \"--path\", \"test.dib\", \"--retries\", \"3\"])) }\n",
      "00:00:01 \u001B[90mv\u001B[0m #3 > 00:00:00 \u001B[94md\u001B[39m #2 runtime.execute_with_options / { file_name = dotnet; arguments = [\"repl\", \"--exit-after-run\", \"--run\", \"c:/home/git/polyglot/apps/spiral/temp/test/test.dib\", \"--output-path\", \"c:/home/git/polyglot/apps/spiral/temp/test/test.dib.ipynb\"]; options = { command = dotnet repl --exit-after-run --run \"c:/home/git/polyglot/apps/spiral/temp/test/test.dib\" --output-path \"c:/home/git/polyglot/apps/spiral/temp/test/test.dib.ipynb\"; cancellation_token = None; environment_variables = Array(MutCell([(\"TRACE_LEVEL\", \"Verbose\"), (\"AUTOMATION\", \"True\")])); on_line = None; stdin = None; trace = false; working_directory = None } }\n",
      "00:00:03 \u001B[90mv\u001B[0m #4 > >\n",
      "00:00:03 \u001B[90mv\u001B[0m #5 > > ── markdown ────────────────────────────────────────────────────────────────────\n",
      "00:00:03 \u001B[90mv\u001B[0m #6 > > ╭──────────────────────────────────────────────────────────────────────────────╮\n",
      "00:00:03 \u001B[90mv\u001B[0m #7 > > │ # test (Polyglot)                                                            │\n",
      "00:00:03 \u001B[90mv\u001B[0m #8 > > ╰──────────────────────────────────────────────────────────────────────────────╯\n",
      "00:00:06 \u001B[90mv\u001B[0m #9 > >\n",
      "00:00:06 \u001B[90mv\u001B[0m #10 > > ── spiral ──────────────────────────────────────────────────────────────────────\n",
      "00:00:06 \u001B[90mv\u001B[0m #11 > > //// test\n",
      "00:00:06 \u001B[90mv\u001B[0m #12 > >\n",
      "00:00:06 \u001B[90mv\u001B[0m #13 > > open testing\n",
      "00:00:11 \u001B[90mv\u001B[0m #14 > >\n",
      "00:00:11 \u001B[90mv\u001B[0m #15 > > ── spiral ──────────────────────────────────────────────────────────────────────\n",
      "00:00:11 \u001B[90mv\u001B[0m #16 > > nominal i = ()\n",
      "00:00:11 \u001B[90mv\u001B[0m #17 > > nominal e = ()\n",
      "00:00:11 \u001B[90mv\u001B[0m #18 > > nominal s = ()\n",
      "00:00:11 \u001B[90mv\u001B[0m #19 > > nominal n = ()\n",
      "00:00:11 \u001B[90mv\u001B[0m #20 > > nominal t = ()\n",
      "00:00:11 \u001B[90mv\u001B[0m #21 > > nominal f = ()\n",
      "00:00:11 \u001B[90mv\u001B[0m #22 > > nominal j = ()\n",
      "00:00:11 \u001B[90mv\u001B[0m #23 > > nominal p = ()\n",
      "00:00:11 \u001B[90mv\u001B[0m #24 > >\n",
      "00:00:11 \u001B[90mv\u001B[0m #25 > > union sensing =\n",
      "00:00:11 \u001B[90mv\u001B[0m #26 > >     | Si : s * i\n",
      "00:00:11 \u001B[90mv\u001B[0m #27 > >     | Se : s * e\n",
      "00:00:11 \u001B[90mv\u001B[0m #28 > >\n",
      "00:00:11 \u001B[90mv\u001B[0m #29 > > union intuition =\n",
      "00:00:11 \u001B[90mv\u001B[0m #30 > >     | Ni : n * i\n",
      "00:00:11 \u001B[90mv\u001B[0m #31 > >     | Ne : n * e\n",
      "00:00:11 \u001B[90mv\u001B[0m #32 > >\n",
      "00:00:11 \u001B[90mv\u001B[0m #33 > > union thinking =\n",
      "00:00:11 \u001B[90mv\u001B[0m #34 > >     | Ti : t * i\n",
      "00:00:11 \u001B[90mv\u001B[0m #35 > >     | Te : t * e\n",
      "00:00:11 \u001B[90mv\u001B[0m #36 > >\n",
      "00:00:11 \u001B[90mv\u001B[0m #37 > > union feeling =\n",
      "00:00:11 \u001B[90mv\u001B[0m #38 > >     | Fi : f * i\n",
      "00:00:11 \u001B[90mv\u001B[0m #39 > >     | Fe : f * e\n",
      "00:00:11 \u001B[90mv\u001B[0m #40 > >\n",
      "00:00:11 \u001B[90mv\u001B[0m #41 > > union function_stack =\n",
      "00:00:11 \u001B[90mv\u001B[0m #42 > >     | FS : sensing * intuition * thinking * feeling\n",
      "00:00:11 \u001B[90mv\u001B[0m #43 > >\n",
      "00:00:11 \u001B[90mv\u001B[0m #44 > > union personality_type =\n",
      "00:00:11 \u001B[90mv\u001B[0m #45 > >     | ISTJ : i * s * t * j * function_stack\n",
      "00:00:11 \u001B[90mv\u001B[0m #46 > >     | ISFJ : i * s * f * j * function_stack\n",
      "00:00:11 \u001B[90mv\u001B[0m #47 > >     | INFJ : i * n * f * j * function_stack\n",
      "00:00:11 \u001B[90mv\u001B[0m #48 > >     | INTJ : i * n * t * j * function_stack\n",
      "00:00:11 \u001B[90mv\u001B[0m #49 > >     | ISTP : i * s * t * p * function_stack\n",
      "00:00:11 \u001B[90mv\u001B[0m #50 > >     | ISFP : i * s * f * p * function_stack\n",
      "00:00:11 \u001B[90mv\u001B[0m #51 > >     | INFP : i * n * f * p * function_stack\n",
      "00:00:11 \u001B[90mv\u001B[0m #52 > >     | INTP : i * n * t * p * function_stack\n",
      "00:00:11 \u001B[90mv\u001B[0m #53 > >     | ESTP : e * s * t * p * function_stack\n",
      "00:00:11 \u001B[90mv\u001B[0m #54 > >     | ESFP : e * s * f * p * function_stack\n",
      "00:00:11 \u001B[90mv\u001B[0m #55 > >     | ENFP : e * n * f * p * function_stack\n",
      "00:00:11 \u001B[90mv\u001B[0m #56 > >     | ENTP : e * n * t * p * function_stack\n",
      "00:00:11 \u001B[90mv\u001B[0m #57 > >     | ESTJ : e * s * t * j * function_stack\n",
      "00:00:11 \u001B[90mv\u001B[0m #58 > >     | ESFJ : e * s * f * j * function_stack\n",
      "00:00:11 \u001B[90mv\u001B[0m #59 > >     | ENFJ : e * n * f * j * function_stack\n",
      "00:00:11 \u001B[90mv\u001B[0m #60 > >     | ENTJ : e * n * t * j * function_stack\n",
      "00:00:11 \u001B[90mv\u001B[0m #61 > >\n",
      "00:00:11 \u001B[90mv\u001B[0m #62 > >\n",
      "00:00:11 \u001B[90mv\u001B[0m #63 > > inl main () =\n",
      "00:00:11 \u001B[90mv\u001B[0m #64 > >     inl istj_stack = FS ((Si (s, i)), Ne (n, e), (Te (t, e)), (Fi (f, i)))\n",
      "00:00:11 \u001B[90mv\u001B[0m #65 > >     inl istj_personality = ISTJ (i, s, t, j, istj_stack)\n",
      "00:00:11 \u001B[90mv\u001B[0m #66 > >     // inl isfj_stack = FS ((Si (s, i)), Ne (n, e), (Fe (f, e)), (Ti (t, i)))\n",
      "00:00:11 \u001B[90mv\u001B[0m #67 > >     // inl isfj_personality = ISFJ (i, s, f, j, isfj_stack)\n",
      "00:00:11 \u001B[90mv\u001B[0m #68 > >\n",
      "00:00:11 \u001B[90mv\u001B[0m #69 > >     ;[[\n",
      "00:00:11 \u001B[90mv\u001B[0m #70 > >         istj_personality\n",
      "00:00:11 \u001B[90mv\u001B[0m #71 > >     ]]\n",
      "00:00:11 \u001B[90mv\u001B[0m #72 > >     |> fun x => $'$\"%A{!x}\"' : string\n",
      "00:00:11 \u001B[90mv\u001B[0m #73 > >     |> console.write_line\n",
      "00:00:11 \u001B[90mv\u001B[0m #74 > >\n",
      "00:00:11 \u001B[90mv\u001B[0m #75 > > inl main () =\n",
      "00:00:11 \u001B[90mv\u001B[0m #76 > >     $'!main ()' : ()\n",
      "00:00:13 \u001B[90mv\u001B[0m #77 > >\n",
      "00:00:13 \u001B[90mv\u001B[0m #78 > > ╭─[ 2.00s - stdout ]───────────────────────────────────────────────────────────╮\n",
      "00:00:13 \u001B[90mv\u001B[0m #79 > > │ [|US5_0 (US4_0 (US0_0, US1_1, US2_1, US3_0))|]                               │\n",
      "00:00:13 \u001B[90mv\u001B[0m #80 > > │                                                                              │\n",
      "00:00:13 \u001B[90mv\u001B[0m #81 > > ╰──────────────────────────────────────────────────────────────────────────────╯\n",
      "00:00:15 \u001B[90mv\u001B[0m #82 > >\n",
      "00:00:15 \u001B[90mv\u001B[0m #83 > > ── fsharp ──────────────────────────────────────────────────────────────────────\n",
      "00:00:15 \u001B[90mv\u001B[0m #84 > > type PhonologicalFeature =\n",
      "00:00:15 \u001B[90mv\u001B[0m #85 > >     | VowelFeature of\n",
      "00:00:15 \u001B[90mv\u001B[0m #86 > >         height: Height\n",
      "00:00:15 \u001B[90mv\u001B[0m #87 > >         * backness: Backness\n",
      "00:00:15 \u001B[90mv\u001B[0m #88 > >         * roundedness: Roundedness\n",
      "00:00:15 \u001B[90mv\u001B[0m #89 > >         * tone: Option<Tone>\n",
      "00:00:15 \u001B[90mv\u001B[0m #90 > >         * stress: Option<Stress>\n",
      "00:00:15 \u001B[90mv\u001B[0m #91 > >         * length: Option<Length>\n",
      "00:00:15 \u001B[90mv\u001B[0m #92 > >     | ConsonantFeature of\n",
      "00:00:15 \u001B[90mv\u001B[0m #93 > >         place: PlaceOfArticulation\n",
      "00:00:15 \u001B[90mv\u001B[0m #94 > >         * manner: MannerOfArticulation\n",
      "00:00:15 \u001B[90mv\u001B[0m #95 > >         * voicing: Voicing\n",
      "00:00:15 \u001B[90mv\u001B[0m #96 > >         * length: Option<Length>\n",
      "00:00:15 \u001B[90mv\u001B[0m #97 > >     | VowelHarmonyFeature\n",
      "00:00:15 \u001B[90mv\u001B[0m #98 > >     | PitchAccentFeature\n",
      "00:00:15 \u001B[90mv\u001B[0m #99 > >\n",
      "00:00:15 \u001B[90mv\u001B[0m #100 > > and Stress = Primary | Secondary\n",
      "00:00:15 \u001B[90mv\u001B[0m #101 > > and Length = Long | Short | HalfLong\n",
      "00:00:15 \u001B[90mv\u001B[0m #102 > >\n",
      "00:00:15 \u001B[90mv\u001B[0m #103 > > and Height =\n",
      "00:00:15 \u001B[90mv\u001B[0m #104 > >     | High | NearHigh | HighMid\n",
      "00:00:15 \u001B[90mv\u001B[0m #105 > >     | Mid | LowMid | NearLow\n",
      "00:00:15 \u001B[90mv\u001B[0m #106 > >     | Low\n",
      "00:00:15 \u001B[90mv\u001B[0m #107 > >\n",
      "00:00:15 \u001B[90mv\u001B[0m #108 > > and Backness = Front | Central | Back\n",
      "00:00:15 \u001B[90mv\u001B[0m #109 > >\n",
      "00:00:15 \u001B[90mv\u001B[0m #110 > > and Roundedness = Rounded | Unrounded\n",
      "00:00:15 \u001B[90mv\u001B[0m #111 > >\n",
      "00:00:15 \u001B[90mv\u001B[0m #112 > > and PlaceOfArticulation =\n",
      "00:00:15 \u001B[90mv\u001B[0m #113 > >     | Bilabial | Labiodental | Dental\n",
      "00:00:15 \u001B[90mv\u001B[0m #114 > >     | Alveolar | Postalveolar | Retroflex\n",
      "00:00:15 \u001B[90mv\u001B[0m #115 > >     | Palatal | Velar | Uvular\n",
      "00:00:15 \u001B[90mv\u001B[0m #116 > >     | Pharyngeal | Epiglottal | Glottal\n",
      "00:00:15 \u001B[90mv\u001B[0m #117 > >\n",
      "00:00:15 \u001B[90mv\u001B[0m #118 > > and MannerOfArticulation =\n",
      "00:00:15 \u001B[90mv\u001B[0m #119 > >     | Plosive | Nasal | Trill\n",
      "00:00:15 \u001B[90mv\u001B[0m #120 > >     | TapOrFlap | Fricative | LateralFricative\n",
      "00:00:15 \u001B[90mv\u001B[0m #121 > >     | Approximant | LateralApproximant\n",
      "00:00:15 \u001B[90mv\u001B[0m #122 > >\n",
      "00:00:15 \u001B[90mv\u001B[0m #123 > > and Voicing = Voiced | Voiceless\n",
      "00:00:15 \u001B[90mv\u001B[0m #124 > >\n",
      "00:00:15 \u001B[90mv\u001B[0m #125 > > and SecondaryArticulation =\n",
      "00:00:15 \u001B[90mv\u001B[0m #126 > >     | Labialization | Palatalization | Velarization\n",
      "00:00:15 \u001B[90mv\u001B[0m #127 > >     | Pharyngealization | Aspiration\n",
      "00:00:15 \u001B[90mv\u001B[0m #128 > >\n",
      "00:00:15 \u001B[90mv\u001B[0m #129 > > and Tone =\n",
      "00:00:15 \u001B[90mv\u001B[0m #130 > >     | LevelTone of int\n",
      "00:00:15 \u001B[90mv\u001B[0m #131 > >     | ContourTone of int list\n",
      "00:00:15 \u001B[90mv\u001B[0m #132 > >\n",
      "00:00:15 \u001B[90mv\u001B[0m #133 > > and MorphologicalFeature =\n",
      "00:00:15 \u001B[90mv\u001B[0m #134 > >     | RootFeature of string\n",
      "00:00:15 \u001B[90mv\u001B[0m #135 > >     | AffixFeature of AffixType * string\n",
      "00:00:15 \u001B[90mv\u001B[0m #136 > >     | IncorporationFeature of string * MorphologicalFeature\n",
      "00:00:15 \u001B[90mv\u001B[0m #137 > >     | NonConcatenativePattern of string * string\n",
      "00:00:15 \u001B[90mv\u001B[0m #138 > >     | AgglutinativeAffixFeature of AgglutinativeAffixType * string\n",
      "00:00:15 \u001B[90mv\u001B[0m #139 > >     | HonorificFeature of HonorificType * string\n",
      "00:00:15 \u001B[90mv\u001B[0m #140 > >\n",
      "00:00:15 \u001B[90mv\u001B[0m #141 > > and AgglutinativeAffixType = Suffix | Prefix\n",
      "00:00:15 \u001B[90mv\u001B[0m #142 > >\n",
      "00:00:15 \u001B[90mv\u001B[0m #143 > > and HonorificType = VerbHonorific | NounHonorific\n",
      "00:00:15 \u001B[90mv\u001B[0m #144 > >\n",
      "00:00:15 \u001B[90mv\u001B[0m #145 > > and AffixType =\n",
      "00:00:15 \u001B[90mv\u001B[0m #146 > >     | Prefix | Suffix | Infix\n",
      "00:00:15 \u001B[90mv\u001B[0m #147 > >     | Circumfix\n",
      "00:00:15 \u001B[90mv\u001B[0m #148 > >\n",
      "00:00:15 \u001B[90mv\u001B[0m #149 > > type SyntacticFeature =\n",
      "00:00:15 \u001B[90mv\u001B[0m #150 > >     | WordFeature of MorphologicalFeature list * LexicalCategory\n",
      "00:00:15 \u001B[90mv\u001B[0m #151 > >     | PhraseFeature of PhraseType * SyntacticFeature list\n",
      "00:00:15 \u001B[90mv\u001B[0m #152 > >     | GrammaticalRelation of GrammaticalRelationType * SyntacticFeature list\n",
      "00:00:15 \u001B[90mv\u001B[0m #153 > >     | SOVOrderFeature\n",
      "00:00:15 \u001B[90mv\u001B[0m #154 > >     | TopicCommentFeature\n",
      "00:00:15 \u001B[90mv\u001B[0m #155 > >\n",
      "00:00:15 \u001B[90mv\u001B[0m #156 > > and GrammaticalRelationType =\n",
      "00:00:15 \u001B[90mv\u001B[0m #157 > >     | Ergative | Absolutive | Nominative\n",
      "00:00:15 \u001B[90mv\u001B[0m #158 > >     | Accusative\n",
      "00:00:15 \u001B[90mv\u001B[0m #159 > >\n",
      "00:00:15 \u001B[90mv\u001B[0m #160 > > and LexicalCategory =\n",
      "00:00:15 \u001B[90mv\u001B[0m #161 > >     | Noun | Verb | Adjective\n",
      "00:00:15 \u001B[90mv\u001B[0m #162 > >     | Adverb | Pronoun | Preposition\n",
      "00:00:15 \u001B[90mv\u001B[0m #163 > >     | Conjunction | Determiner | Interjection\n",
      "00:00:15 \u001B[90mv\u001B[0m #164 > >\n",
      "00:00:15 \u001B[90mv\u001B[0m #165 > > and PhraseType =\n",
      "00:00:15 \u001B[90mv\u001B[0m #166 > >     | NP | VP | AP\n",
      "00:00:15 \u001B[90mv\u001B[0m #167 > >     | PP | CP\n",
      "00:00:15 \u001B[90mv\u001B[0m #168 > >\n",
      "00:00:15 \u001B[90mv\u001B[0m #169 > > and SemanticFeature =\n",
      "00:00:15 \u001B[90mv\u001B[0m #170 > >     | Meaning of string\n",
      "00:00:15 \u001B[90mv\u001B[0m #171 > >     | SemanticRole of SemanticRoleType * SemanticFeature\n",
      "00:00:15 \u001B[90mv\u001B[0m #172 > >\n",
      "00:00:15 \u001B[90mv\u001B[0m #173 > > and SemanticRoleType =\n",
      "00:00:15 \u001B[90mv\u001B[0m #174 > >     | Agent | Patient | Instrument\n",
      "00:00:15 \u001B[90mv\u001B[0m #175 > >     | Location | Time | Cause\n",
      "00:00:15 \u001B[90mv\u001B[0m #176 > >\n",
      "00:00:15 \u001B[90mv\u001B[0m #177 > > and PragmaticFeature =\n",
      "00:00:15 \u001B[90mv\u001B[0m #178 > >     | UseContext of string\n",
      "00:00:15 \u001B[90mv\u001B[0m #179 > >     | PolitenessLevel of Politeness\n",
      "00:00:15 \u001B[90mv\u001B[0m #180 > >     | SpeechAct of SpeechActType\n",
      "00:00:15 \u001B[90mv\u001B[0m #181 > >     | SpeechLevel of SpeechLevelType\n",
      "00:00:15 \u001B[90mv\u001B[0m #182 > >\n",
      "00:00:15 \u001B[90mv\u001B[0m #183 > > and Politeness = Formal | Informal | Neutral\n",
      "00:00:15 \u001B[90mv\u001B[0m #184 > >\n",
      "00:00:15 \u001B[90mv\u001B[0m #185 > > and SpeechActType =\n",
      "00:00:15 \u001B[90mv\u001B[0m #186 > >     | Assertive | Directive | Commissive\n",
      "00:00:15 \u001B[90mv\u001B[0m #187 > >     | Expressive | Declarative\n",
      "00:00:15 \u001B[90mv\u001B[0m #188 > >\n",
      "00:00:15 \u001B[90mv\u001B[0m #189 > > and SpeechLevelType =\n",
      "00:00:15 \u001B[90mv\u001B[0m #190 > >     | FormalHigh | FormalLow | InformalHigh\n",
      "00:00:15 \u001B[90mv\u001B[0m #191 > >     | InformalLow | Neutral\n",
      "00:00:15 \u001B[90mv\u001B[0m #192 > >\n",
      "00:00:15 \u001B[90mv\u001B[0m #193 > > type LinguisticFeature =\n",
      "00:00:15 \u001B[90mv\u001B[0m #194 > >     | Phonological of PhonologicalFeature\n",
      "00:00:15 \u001B[90mv\u001B[0m #195 > >     | Morphological of MorphologicalFeature\n",
      "00:00:15 \u001B[90mv\u001B[0m #196 > >     | Syntactic of SyntacticFeature\n",
      "00:00:15 \u001B[90mv\u001B[0m #197 > >     | Semantic of SemanticFeature\n",
      "00:00:15 \u001B[90mv\u001B[0m #198 > >     | Pragmatic of PragmaticFeature\n",
      "00:00:15 \u001B[90mv\u001B[0m #199 > >\n",
      "00:00:15 \u001B[90mv\u001B[0m #200 > > type LanguageConstruct =\n",
      "00:00:15 \u001B[90mv\u001B[0m #201 > >     | LanguageElement of LinguisticFeature\n",
      "00:00:15 \u001B[90mv\u001B[0m #202 > >     | LanguageStructure of LanguageConstruct list\n",
      "00:00:15 \u001B[90mv\u001B[0m #203 > >     | TranslationElement of TranslationFeature\n",
      "00:00:15 \u001B[90mv\u001B[0m #204 > >\n",
      "00:00:15 \u001B[90mv\u001B[0m #205 > > and TranslationFeature =\n",
      "00:00:15 \u001B[90mv\u001B[0m #206 > >     | LinkedPhonological of PhonologicalFeature * PhonologicalFeature\n",
      "00:00:15 \u001B[90mv\u001B[0m #207 > >     | LinkedMorphological of MorphologicalFeature * MorphologicalFeature\n",
      "00:00:15 \u001B[90mv\u001B[0m #208 > >     | LinkedSyntactic of SyntacticFeature * SyntacticFeature\n",
      "00:00:15 \u001B[90mv\u001B[0m #209 > >     | LinkedSemantic of SemanticFeature * SemanticFeature\n",
      "00:00:15 \u001B[90mv\u001B[0m #210 > >\n",
      "00:00:15 \u001B[90mv\u001B[0m #211 > > type Discourse = DiscourseUnit of LanguageConstruct list\n",
      "00:00:15 \u001B[90mv\u001B[0m #212 > >\n",
      "00:00:15 \u001B[90mv\u001B[0m #213 > > type LanguageModel =\n",
      "00:00:15 \u001B[90mv\u001B[0m #214 > >     | Model of discourse: Discourse\n",
      "00:00:15 \u001B[90mv\u001B[0m #215 > >\n",
      "00:00:15 \u001B[90mv\u001B[0m #216 > > ── fsharp ──────────────────────────────────────────────────────────────────────\n",
      "00:00:15 \u001B[90mv\u001B[0m #217 > > let testEnglish =\n",
      "00:00:15 \u001B[90mv\u001B[0m #218 > >     Model(\n",
      "00:00:15 \u001B[90mv\u001B[0m #219 > >         DiscourseUnit [[\n",
      "00:00:15 \u001B[90mv\u001B[0m #220 > >             LanguageElement (Phonological (ConsonantFeature (Alveolar, Nasal,\n",
      "00:00:15 \u001B[90mv\u001B[0m #221 > > Voiced, Some(HalfLong))));\n",
      "00:00:15 \u001B[90mv\u001B[0m #222 > >             LanguageElement (Phonological (VowelFeature (High, Front, Unrounded,\n",
      "00:00:15 \u001B[90mv\u001B[0m #223 > > Some(LevelTone 1), Some(Primary), Some(Short))));\n",
      "00:00:15 \u001B[90mv\u001B[0m #224 > >             LanguageElement (Phonological (VowelFeature (Low, Front, Unrounded,\n",
      "00:00:15 \u001B[90mv\u001B[0m #225 > > Some(LevelTone 2), Some(Secondary), Some(Long))));\n",
      "00:00:15 \u001B[90mv\u001B[0m #226 > >             LanguageElement (Phonological (ConsonantFeature (Velar, Plosive,\n",
      "00:00:15 \u001B[90mv\u001B[0m #227 > > Voiceless, Some(HalfLong))));\n",
      "00:00:15 \u001B[90mv\u001B[0m #228 > >             LanguageElement (Morphological (RootFeature \"I\"));\n",
      "00:00:15 \u001B[90mv\u001B[0m #229 > >             LanguageElement (Morphological (RootFeature \"see\"));\n",
      "00:00:15 \u001B[90mv\u001B[0m #230 > >             LanguageElement (Morphological (RootFeature \"a\"));\n",
      "00:00:15 \u001B[90mv\u001B[0m #231 > >             LanguageElement (Morphological (RootFeature \"cat\"));\n",
      "00:00:15 \u001B[90mv\u001B[0m #232 > >             LanguageElement (Syntactic (PhraseFeature (NP, [[WordFeature\n",
      "00:00:15 \u001B[90mv\u001B[0m #233 > > ([[RootFeature \"I\"]], Pronoun)]])));\n",
      "00:00:15 \u001B[90mv\u001B[0m #234 > >             LanguageElement (Syntactic (PhraseFeature (VP, [[WordFeature\n",
      "00:00:15 \u001B[90mv\u001B[0m #235 > > ([[RootFeature \"see\"]], Verb)]])));\n",
      "00:00:15 \u001B[90mv\u001B[0m #236 > >             LanguageElement (Syntactic (PhraseFeature (NP, [[WordFeature\n",
      "00:00:15 \u001B[90mv\u001B[0m #237 > > ([[RootFeature \"a\"; RootFeature \"cat\"]], Noun)]])));\n",
      "00:00:15 \u001B[90mv\u001B[0m #238 > >             LanguageElement (Semantic (Meaning \"Perception act of a feline by\n",
      "00:00:15 \u001B[90mv\u001B[0m #239 > > the speaker\"));\n",
      "00:00:15 \u001B[90mv\u001B[0m #240 > >             LanguageElement (Pragmatic (UseContext \"Statement of an action being\n",
      "00:00:15 \u001B[90mv\u001B[0m #241 > > observed\"))\n",
      "00:00:15 \u001B[90mv\u001B[0m #242 > >         ]]\n",
      "00:00:15 \u001B[90mv\u001B[0m #243 > >     )\n",
      "00:00:15 \u001B[90mv\u001B[0m #244 > >\n",
      "00:00:15 \u001B[90mv\u001B[0m #245 > > let testPortuguese =\n",
      "00:00:15 \u001B[90mv\u001B[0m #246 > >     Model(\n",
      "00:00:15 \u001B[90mv\u001B[0m #247 > >         DiscourseUnit [[\n",
      "00:00:15 \u001B[90mv\u001B[0m #248 > >             LanguageElement (Phonological (VowelFeature (High, Front, Unrounded,\n",
      "00:00:15 \u001B[90mv\u001B[0m #249 > > Some(LevelTone 1), Some(Primary), Some(Short))));\n",
      "00:00:15 \u001B[90mv\u001B[0m #250 > >             LanguageElement (Phonological (VowelFeature (Low, Front, Unrounded,\n",
      "00:00:15 \u001B[90mv\u001B[0m #251 > > Some(LevelTone 2), Some(Secondary), Some(Long))));\n",
      "00:00:15 \u001B[90mv\u001B[0m #252 > >             LanguageElement (Phonological (VowelFeature (Mid, Back, Rounded,\n",
      "00:00:15 \u001B[90mv\u001B[0m #253 > > Some(LevelTone 3), Some(Primary), Some(Short))));\n",
      "00:00:15 \u001B[90mv\u001B[0m #254 > >             LanguageElement (Phonological (ConsonantFeature (Velar, Plosive,\n",
      "00:00:15 \u001B[90mv\u001B[0m #255 > > Voiceless, Some(HalfLong))));\n",
      "00:00:15 \u001B[90mv\u001B[0m #256 > >             LanguageElement (Morphological (RootFeature \"Eu\"));\n",
      "00:00:15 \u001B[90mv\u001B[0m #257 > >             LanguageElement (Morphological (RootFeature \"ver\" |> ignore;\n",
      "00:00:15 \u001B[90mv\u001B[0m #258 > > AffixFeature (Suffix, \"o\")));\n",
      "00:00:15 \u001B[90mv\u001B[0m #259 > >             LanguageElement (Morphological (RootFeature \"um\"));\n",
      "00:00:15 \u001B[90mv\u001B[0m #260 > >             LanguageElement (Morphological (RootFeature \"gato\"));\n",
      "00:00:15 \u001B[90mv\u001B[0m #261 > >             LanguageElement (Syntactic (PhraseFeature (NP, [[WordFeature\n",
      "00:00:15 \u001B[90mv\u001B[0m #262 > > ([[RootFeature \"Eu\"]], Pronoun)]])));\n",
      "00:00:15 \u001B[90mv\u001B[0m #263 > >             LanguageElement (Syntactic (PhraseFeature (VP, [[WordFeature\n",
      "00:00:15 \u001B[90mv\u001B[0m #264 > > ([[RootFeature \"vejo\"]], Verb)]])));\n",
      "00:00:15 \u001B[90mv\u001B[0m #265 > >             LanguageElement (Syntactic (PhraseFeature (NP, [[WordFeature\n",
      "00:00:15 \u001B[90mv\u001B[0m #266 > > ([[RootFeature \"um\"; RootFeature \"gato\"]], Noun)]])));\n",
      "00:00:15 \u001B[90mv\u001B[0m #267 > >             LanguageElement (Semantic (Meaning \"Ação de percepção de um felino\n",
      "00:00:15 \u001B[90mv\u001B[0m #268 > > pelo falante\"));\n",
      "00:00:15 \u001B[90mv\u001B[0m #269 > >             LanguageElement (Pragmatic (UseContext \"Declaração de uma ação sendo\n",
      "00:00:15 \u001B[90mv\u001B[0m #270 > > observada\"))\n",
      "00:00:15 \u001B[90mv\u001B[0m #271 > >         ]]\n",
      "00:00:15 \u001B[90mv\u001B[0m #272 > >     )\n",
      "00:00:15 \u001B[90mv\u001B[0m #273 > >\n",
      "00:00:15 \u001B[90mv\u001B[0m #274 > > let testKorean =\n",
      "00:00:15 \u001B[90mv\u001B[0m #275 > >     Model(\n",
      "00:00:15 \u001B[90mv\u001B[0m #276 > >         DiscourseUnit [[\n",
      "00:00:15 \u001B[90mv\u001B[0m #277 > >             LanguageElement (Phonological (ConsonantFeature (Alveolar, Nasal,\n",
      "00:00:15 \u001B[90mv\u001B[0m #278 > > Voiced, Some(Short))));\n",
      "00:00:15 \u001B[90mv\u001B[0m #279 > >             LanguageElement (Phonological (VowelFeature (High, Back, Rounded,\n",
      "00:00:15 \u001B[90mv\u001B[0m #280 > > None, None, Some(Short))));\n",
      "00:00:15 \u001B[90mv\u001B[0m #281 > >             LanguageElement (Phonological (VowelFeature (Mid, Front, Unrounded,\n",
      "00:00:15 \u001B[90mv\u001B[0m #282 > > None, None, Some(Long))));\n",
      "00:00:15 \u001B[90mv\u001B[0m #283 > >             LanguageElement (Phonological (ConsonantFeature (Bilabial, Plosive,\n",
      "00:00:15 \u001B[90mv\u001B[0m #284 > > Voiceless, Some(Short))));\n",
      "00:00:15 \u001B[90mv\u001B[0m #285 > >             LanguageElement (Morphological (RootFeature \"나\"));\n",
      "00:00:15 \u001B[90mv\u001B[0m #286 > >             LanguageElement (Morphological (RootFeature \"보다\"));\n",
      "00:00:15 \u001B[90mv\u001B[0m #287 > >             LanguageElement (Morphological (AffixFeature (Suffix, \"아\")));\n",
      "00:00:15 \u001B[90mv\u001B[0m #288 > >             LanguageElement (Morphological (RootFeature \"고양이\"));\n",
      "00:00:15 \u001B[90mv\u001B[0m #289 > >             LanguageElement (Syntactic (PhraseFeature (NP, [[WordFeature\n",
      "00:00:15 \u001B[90mv\u001B[0m #290 > > ([[RootFeature \"나\"]], Pronoun)]])));\n",
      "00:00:15 \u001B[90mv\u001B[0m #291 > >             LanguageElement (Syntactic (PhraseFeature (VP, [[WordFeature\n",
      "00:00:15 \u001B[90mv\u001B[0m #292 > > ([[RootFeature \"보다\"; AffixFeature (Suffix, \"아\")]], Verb)]])));\n",
      "00:00:15 \u001B[90mv\u001B[0m #293 > >             LanguageElement (Syntactic (PhraseFeature (NP, [[WordFeature\n",
      "00:00:15 \u001B[90mv\u001B[0m #294 > > ([[RootFeature \"고양이\"]], Noun)]])));\n",
      "00:00:15 \u001B[90mv\u001B[0m #295 > >             LanguageElement (Semantic (Meaning \"화자에 의한 고양이의 관찰\n",
      "00:00:15 \u001B[90mv\u001B[0m #296 > > 행위\"));\n",
      "00:00:15 \u001B[90mv\u001B[0m #297 > >             LanguageElement (Pragmatic (UseContext \"관찰되고 있는 행동의 진술\"))\n",
      "00:00:15 \u001B[90mv\u001B[0m #298 > >         ]]\n",
      "00:00:15 \u001B[90mv\u001B[0m #299 > >     )\n",
      "00:00:15 \u001B[90mv\u001B[0m #300 > >\n",
      "00:00:15 \u001B[90mv\u001B[0m #301 > > ── markdown ────────────────────────────────────────────────────────────────────\n",
      "00:00:15 \u001B[90mv\u001B[0m #302 > > ╭──────────────────────────────────────────────────────────────────────────────╮\n",
      "00:00:15 \u001B[90mv\u001B[0m #303 > > │ ## main                                                                      │\n",
      "00:00:15 \u001B[90mv\u001B[0m #304 > > ╰──────────────────────────────────────────────────────────────────────────────╯\n",
      "00:00:15 \u001B[90mv\u001B[0m #305 > >\n",
      "00:00:15 \u001B[90mv\u001B[0m #306 > > ── spiral ──────────────────────────────────────────────────────────────────────\n",
      "00:00:15 \u001B[90mv\u001B[0m #307 > > inl main (_args : array_base string) =\n",
      "00:00:15 \u001B[90mv\u001B[0m #308 > >     0i32\n",
      "00:00:15 \u001B[90mv\u001B[0m #309 > >\n",
      "00:00:15 \u001B[90mv\u001B[0m #310 > > inl main () =\n",
      "00:00:15 \u001B[90mv\u001B[0m #311 > >     $'let main args = !main args' : ()\n",
      "00:00:16 \u001B[90mv\u001B[0m #312 > >\n",
      "00:00:16 \u001B[90mv\u001B[0m #313 > > ── spiral ──────────────────────────────────────────────────────────────────────\n",
      "00:00:16 \u001B[90mv\u001B[0m #314 > > inl app () =\n",
      "00:00:16 \u001B[90mv\u001B[0m #315 > >     \"test\" |> console.write_line\n",
      "00:00:16 \u001B[90mv\u001B[0m #316 > >     0i32\n",
      "00:00:16 \u001B[90mv\u001B[0m #317 > >\n",
      "00:00:16 \u001B[90mv\u001B[0m #318 > > inl main () =\n",
      "00:00:16 \u001B[90mv\u001B[0m #319 > >     print_static \"<test>\"\n",
      "00:00:16 \u001B[90mv\u001B[0m #320 > >\n",
      "00:00:16 \u001B[90mv\u001B[0m #321 > >     app\n",
      "00:00:16 \u001B[90mv\u001B[0m #322 > >     |> dyn\n",
      "00:00:16 \u001B[90mv\u001B[0m #323 > >     |> ignore\n",
      "00:00:16 \u001B[90mv\u001B[0m #324 > >\n",
      "00:00:16 \u001B[90mv\u001B[0m #325 > >     print_static \"</test>\"\n",
      "00:00:17 \u001B[90mv\u001B[0m #326 > 00:00:15 \u001B[90mv\u001B[39m #3 runtime.execute_with_options / result / { exit_code = 0; std_trace_length = 10945 }\n",
      "00:00:17 \u001B[90mv\u001B[0m #327 > 00:00:15 \u001B[94md\u001B[39m #4 runtime.execute_with_options / { file_name = jupyter; arguments = [\"nbconvert\", \"c:/home/git/polyglot/apps/spiral/temp/test/test.dib.ipynb\", \"--to\", \"html\", \"--HTMLExporter.theme=dark\"]; options = { command = jupyter nbconvert \"c:/home/git/polyglot/apps/spiral/temp/test/test.dib.ipynb\" --to html --HTMLExporter.theme=dark; cancellation_token = None; environment_variables = Array(MutCell([])); on_line = None; stdin = None; trace = true; working_directory = None } }\n",
      "00:00:18 \u001B[90mv\u001B[0m #328 > 00:00:17 \u001B[90mv\u001B[39m #5 ! [NbConvertApp] Converting notebook c:/home/git/polyglot/apps/spiral/temp/test/test.dib.ipynb to html\n",
      "00:00:18 \u001B[90mv\u001B[0m #329 > 00:00:17 \u001B[90mv\u001B[39m #6 ! C:\\Users\\i574n\\scoop\\apps\\python312\\current\\Lib\\site-packages\\nbformat\\__init__.py:96: MissingIDFieldWarning: Cell is missing an id field, this will become a hard error in future nbformat versions. You may want to use `normalize()` on your notebooks before validations (available since nbformat 5.1.4). Previous versions of nbformat are fixing this issue transparently, and will stop doing so in the future.\n",
      "00:00:18 \u001B[90mv\u001B[0m #330 > 00:00:17 \u001B[90mv\u001B[39m #7 !   validate(nb)\n",
      "00:00:19 \u001B[90mv\u001B[0m #331 > 00:00:18 \u001B[90mv\u001B[39m #8 ! C:\\Users\\i574n\\scoop\\apps\\python312\\current\\Lib\\site-packages\\nbconvert\\filters\\highlight.py:71: UserWarning: IPython3 lexer unavailable, falling back on Python 3\n",
      "00:00:19 \u001B[90mv\u001B[0m #332 > 00:00:18 \u001B[90mv\u001B[39m #9 !   return _pygments_highlight(\n",
      "00:00:19 \u001B[90mv\u001B[0m #333 > 00:00:18 \u001B[90mv\u001B[39m #10 ! [NbConvertApp] Writing 318992 bytes to c:\\home\\git\\polyglot\\apps\\spiral\\temp\\test\\test.dib.html\n",
      "00:00:19 \u001B[90mv\u001B[0m #334 > 00:00:18 \u001B[90mv\u001B[39m #11 runtime.execute_with_options / result / { exit_code = 0; std_trace_length = 872 }\n",
      "00:00:19 \u001B[90mv\u001B[0m #335 > 00:00:18 \u001B[94md\u001B[39m #12 spiral_builder.run / dib / jupyter nbconvert / { exit_code = 0; jupyter_result_length = 872 }\n",
      "00:00:19 \u001B[90mv\u001B[0m #336 > 00:00:18 \u001B[94md\u001B[39m #13 runtime.execute_with_options / { file_name = pwsh; arguments = [\"-c\", \"$counter = 1; $path = 'c:/home/git/polyglot/apps/spiral/temp/test/test.dib.html'; (Get-Content $path -Raw) -replace '(id=\\\\\\\"cell-id=)[a-fA-F0-9]{8}', { $_.Groups[1].Value + $counter++ } | Set-Content $path\"]; options = { command = pwsh -c \"$counter = 1; $path = 'c:/home/git/polyglot/apps/spiral/temp/test/test.dib.html'; (Get-Content $path -Raw) -replace '(id=\\\"cell-id=)[a-fA-F0-9]{8}', { $_.Groups[1].Value + $counter++ } | Set-Content $path\"; cancellation_token = None; environment_variables = Array(MutCell([])); on_line = None; stdin = None; trace = true; working_directory = None } }\n",
      "00:00:20 \u001B[90mv\u001B[0m #337 > 00:00:19 \u001B[90mv\u001B[39m #14 runtime.execute_with_options / result / { exit_code = 0; std_trace_length = 0 }\n",
      "00:00:20 \u001B[90mv\u001B[0m #338 > 00:00:19 \u001B[94md\u001B[39m #15 spiral_builder.run / dib / html cell ids / { exit_code = 0; pwsh_replace_html_result_length = 0 }\n",
      "00:00:20 \u001B[90mv\u001B[0m #339 > 00:00:19 \u001B[94md\u001B[39m #16 spiral_builder.run / dib / { exit_code = 0; result_length = 11876 }\n",
      "00:00:20 \u001B[94md\u001B[0m #340 runtime.execute_with_options_async / { exit_code = 0; output_length = 15157 }\n",
      "00:00:20 \u001B[94md\u001B[0m #1 main / executeCommand / exitCode: 0 / command: ../../../../workspace/target/release/spiral_builder.exe dib --path test.dib --retries 3\n"
     ]
    }
   ],
   "source": [
    "{ . ../../../../apps/spiral/dist/Supervisor$(_exe) --execute-command \"../../../../workspace/target/release/spiral_builder$(_exe) dib --path test.dib --retries 3\" } | Invoke-Block"
   ]
  },
  {
   "cell_type": "markdown",
   "metadata": {},
   "source": [
    "### parse the .dib file into .spi format with dibparser"
   ]
  },
  {
   "cell_type": "code",
   "execution_count": null,
   "metadata": {
    "dotnet_interactive": {
     "language": "pwsh"
    },
    "polyglot_notebook": {
     "kernelName": "pwsh"
    }
   },
   "outputs": [
    {
     "name": "stdout",
     "output_type": "stream",
     "text": [
      "00:00:00 \u001B[94md\u001B[0m #1 writeDibCode / output: Spi / path: test.dib\n",
      "00:00:00 \u001B[94md\u001B[0m #2 parseDibCode / output: Spi / file: test.dib\n"
     ]
    }
   ],
   "source": [
    "{ . ../../../../apps/parser/dist/DibParser$(_exe) test.dib spi } | Invoke-Block"
   ]
  },
  {
   "cell_type": "markdown",
   "metadata": {},
   "source": [
    "### build .fsx file from .spi using supervisor"
   ]
  },
  {
   "cell_type": "code",
   "execution_count": null,
   "metadata": {
    "dotnet_interactive": {
     "language": "pwsh"
    },
    "polyglot_notebook": {
     "kernelName": "pwsh"
    }
   },
   "outputs": [
    {
     "name": "stdout",
     "output_type": "stream",
     "text": [
      "00:00:00 \u001B[90mv\u001B[0m #1 async.run_with_timeout_async / { timeout = 180 }\n",
      "00:00:01 \u001B[90mv\u001B[0m #2 async.run_with_timeout_async / { timeout = 180 }\n",
      "00:00:01 \u001B[94md\u001B[0m #1 Supervisor.buildFile / takeWhileInclusive / outputContent:\n",
      " / errors: [] / typeErrorCount: 0 / retry: 0 / path: test.spi\n",
      "00:00:01 \u001B[94md\u001B[0m #2 Supervisor.buildFile / AsyncSeq.scan / outputContent:\n",
      " / errors: [] / outputContentResult:  / typeErrorCount: 0 / retry: 0 / error:  / path: test.spi\n",
      "00:00:01 \u001B[94md\u001B[0m #3 Supervisor.buildFile / takeWhileInclusive / outputContent:\n",
      " / errors: [] / typeErrorCount: 0 / retry: 0 / path: test.spi\n",
      "00:00:01 \u001B[90mv\u001B[0m #4 Supervisor.sendJson / port: 13805 / json: {\"FileOpen\":{\"spiText\":\"/// # test (Polyglot)\\nnominal i = ()\\nnominal e = ()\\nnominal s = ()\\nnomin...0022\\u003C/test\\u003E\\u0022\\n\",\"uri\":\"file:///c:/home/git/polyglot/apps/spiral/temp/test/test.spi\"}} / result:\n",
      "00:00:01 \u001B[90mv\u001B[0m #5 Supervisor.sendJson / port: 13805 / json: {\"BuildFile\":{\"backend\":\"Fsharp\",\"uri\":\"file:///c:/home/git/polyglot/apps/spiral/temp/test/test.spi\"}} / result:\n",
      "00:00:01 \u001B[94md\u001B[0m #6 Supervisor.buildFile / AsyncSeq.scan / outputContent:\n",
      " / errors: [] / outputContentResult:  / typeErrorCount: 0 / retry: 0 / error:  / path: test.spi\n",
      "00:00:01 \u001B[94md\u001B[0m #7 Supervisor.buildFile / takeWhileInclusive / outputContent:\n",
      " / errors: [] / typeErrorCount: 0 / retry: 0 / path: test.spi\n",
      "00:00:01 \u001B[94md\u001B[0m #8 Supervisor.buildFile / AsyncSeq.scan / outputContent:\n",
      "let rec closure1 () () : unit =\n",
      "    let v0 : (string -> unit) = System.Console.WriteLine\n",
      "    let v1 : string = \"test\"\n",
      "    v0 v1\n",
      "and closure0 () () : i...t v0 : unit = ()\n",
      "    let v1 : (unit -> unit) = closure1()\n",
      "    let v2 : unit = (fun () -> v1 (); v0) ()\n",
      "    0\n",
      "let v0 : (unit -> int32) = closure0()\n",
      "()\n",
      " / errors: [] / outputContentResult:  / typeErrorCount: 0 / retry: 0 / error:  / path: test.spi\n",
      "00:00:01 \u001B[94md\u001B[0m #9 Supervisor.buildFile / takeWhileInclusive / outputContent:\n",
      "let rec closure1 () () : unit =\n",
      "    let v0 : (string -> unit) = System.Console.WriteLine\n",
      "    let v1 : string = \"test\"\n",
      "    v0 v1\n",
      "and closure0 () () : i...t v0 : unit = ()\n",
      "    let v1 : (unit -> unit) = closure1()\n",
      "    let v2 : unit = (fun () -> v1 (); v0) ()\n",
      "    0\n",
      "let v0 : (unit -> int32) = closure0()\n",
      "()\n",
      " / errors: [] / typeErrorCount: 0 / retry: 0 / path: test.spi\n",
      "00:00:01 \u001B[94md\u001B[0m #10 FileSystem.watchWithFilter / Disposing watch stream / filter: FileName, LastWrite\n"
     ]
    }
   ],
   "source": [
    "{ . ../../../../apps/spiral/dist/Supervisor$(_exe) --build-file test.spi test.fsx } | Invoke-Block"
   ]
  },
  {
   "cell_type": "markdown",
   "metadata": {},
   "source": [
    "## compile and format the project"
   ]
  },
  {
   "cell_type": "markdown",
   "metadata": {},
   "source": [
    "### compile project with fable targeting optimized rust"
   ]
  },
  {
   "cell_type": "code",
   "execution_count": null,
   "metadata": {
    "dotnet_interactive": {
     "language": "pwsh"
    },
    "polyglot_notebook": {
     "kernelName": "pwsh"
    }
   },
   "outputs": [
    {
     "name": "stdout",
     "output_type": "stream",
     "text": [
      "Fable 4.21.0: F# to Rust compiler (status: alpha)\n",
      "\n",
      "Thanks to the contributor! @mlaily\n",
      "Stand with Ukraine! https://standwithukraine.com.ua/\n",
      "\n",
      "Parsing test.fsproj...\n",
      "Retrieving project options from cache, in case of issues run `dotnet fable clean` or try `--noCache` option.\n",
      "Project and references (1 source files) parsed in 170ms\n",
      "\n",
      "Started Fable compilation...\n",
      "\n",
      "Fable compilation finished in 1572ms\n",
      "\n",
      ".\\test.fsx(11,0): (11,2) warning FABLE: For Rust, support for F# static and module do bindings is disabled by default. It can be enabled with the 'static_do_bindings' feature. Use at your own risk!\n"
     ]
    }
   ],
   "source": [
    "dotnet fable --optimize --lang rs --extension .rs"
   ]
  },
  {
   "cell_type": "markdown",
   "metadata": {},
   "source": [
    "### fix formatting issues in the .rs file using regex and set-content"
   ]
  },
  {
   "cell_type": "code",
   "execution_count": null,
   "metadata": {
    "dotnet_interactive": {
     "language": "pwsh"
    },
    "polyglot_notebook": {
     "kernelName": "pwsh"
    }
   },
   "outputs": [],
   "source": [
    "(Get-Content test.rs) `\n",
    "    -replace [regex]::Escape(\"),);\"), \"));\" `\n",
    "    | FixRust `\n",
    "| Set-Content test.rs"
   ]
  },
  {
   "cell_type": "markdown",
   "metadata": {},
   "source": [
    "### format the rust code using cargo fmt"
   ]
  },
  {
   "cell_type": "code",
   "execution_count": null,
   "metadata": {
    "dotnet_interactive": {
     "language": "pwsh"
    },
    "polyglot_notebook": {
     "kernelName": "pwsh"
    }
   },
   "outputs": [],
   "source": [
    "cargo fmt --"
   ]
  },
  {
   "cell_type": "markdown",
   "metadata": {},
   "source": [
    "## build and test the project"
   ]
  },
  {
   "cell_type": "markdown",
   "metadata": {},
   "source": [
    "### build the project in release mode using nightly rust compiler"
   ]
  },
  {
   "cell_type": "code",
   "execution_count": null,
   "metadata": {
    "dotnet_interactive": {
     "language": "pwsh"
    },
    "polyglot_notebook": {
     "kernelName": "pwsh"
    }
   },
   "outputs": [
    {
     "name": "stdout",
     "output_type": "stream",
     "text": [
      "\u001B[31;1m   Compiling proc-macro2 v1.0.88\u001B[0m\n",
      "\u001B[31;1m   Compiling unicode-ident v1.0.13\u001B[0m\n",
      "\u001B[31;1m   Compiling fable_library_rust v0.1.0 (C:\\home\\git\\polyglot\\lib\\rust\\fable\\fable_modules\\fable-library-rust)\u001B[0m\n",
      "\u001B[31;1m   Compiling quote v1.0.37\u001B[0m\n",
      "\u001B[31;1m   Compiling syn v2.0.79\u001B[0m\n",
      "\u001B[31;1m   Compiling zerocopy-derive v0.7.35\u001B[0m\n",
      "\u001B[31;1m   Compiling thiserror-impl v1.0.64\u001B[0m\n",
      "\u001B[31;1m   Compiling zerocopy v0.7.35\u001B[0m\n",
      "\u001B[31;1m   Compiling thiserror v1.0.64\u001B[0m\n",
      "\u001B[31;1m   Compiling ppv-lite86 v0.2.20\u001B[0m\n",
      "\u001B[31;1m   Compiling rand_chacha v0.3.1\u001B[0m\n",
      "\u001B[31;1m   Compiling rand v0.8.5\u001B[0m\n",
      "\u001B[31;1m   Compiling proptest v1.5.0\u001B[0m\n",
      "\u001B[31;1m   Compiling spiral_temp_test v0.0.1 (C:\\home\\git\\polyglot\\apps\\spiral\\temp\\test)\u001B[0m\n",
      "\u001B[31;1mwarning: struct `Cart` is never constructed\u001B[0m\n",
      "\u001B[31;1m  --> C:\\home\\git\\polyglot\\apps\\spiral\\temp\\test\\./main.rs:41:8\u001B[0m\n",
      "\u001B[31;1m   |\u001B[0m\n",
      "\u001B[31;1m41 | struct Cart {\u001B[0m\n",
      "\u001B[31;1m   |        ^^^^\u001B[0m\n",
      "\u001B[31;1m   |\u001B[0m\n",
      "\u001B[31;1m   = note: `#[warn(dead_code)]` on by default\u001B[0m\n",
      "\u001B[31;1m\u001B[0m\n",
      "\u001B[31;1mwarning: associated items `new`, `add_item`, and `remove_item` are never used\u001B[0m\n",
      "\u001B[31;1m  --> C:\\home\\git\\polyglot\\apps\\spiral\\temp\\test\\./main.rs:46:8\u001B[0m\n",
      "\u001B[31;1m   |\u001B[0m\n",
      "\u001B[31;1m45 | impl Cart {\u001B[0m\n",
      "\u001B[31;1m   | --------- associated items in this implementation\u001B[0m\n",
      "\u001B[31;1m46 |     fn new() -> Cart {\u001B[0m\n",
      "\u001B[31;1m   |        ^^^\u001B[0m\n",
      "\u001B[31;1m...\u001B[0m\n",
      "\u001B[31;1m50 |     fn add_item(&mut self, item: Item) {\u001B[0m\n",
      "\u001B[31;1m   |        ^^^^^^^^\u001B[0m\n",
      "\u001B[31;1m...\u001B[0m\n",
      "\u001B[31;1m56 |     fn remove_item(&mut self, item: &Item) {\u001B[0m\n",
      "\u001B[31;1m   |        ^^^^^^^^^^^\u001B[0m\n",
      "\u001B[31;1m\u001B[0m\n",
      "\u001B[31;1mwarning: function `parse_comment` is never used\u001B[0m\n",
      "\u001B[31;1m   --> C:\\home\\git\\polyglot\\apps\\spiral\\temp\\test\\./main.rs:124:4\u001B[0m\n",
      "\u001B[31;1m    |\u001B[0m\n",
      "\u001B[31;1m124 | fn parse_comment(input: &str) -> IResult<&str, SpiralToken> {\u001B[0m\n",
      "\u001B[31;1m    |    ^^^^^^^^^^^^^\u001B[0m\n",
      "\u001B[31;1m\u001B[0m\n",
      "\u001B[31;1mwarning: function `parse_string` is never used\u001B[0m\n",
      "\u001B[31;1m   --> C:\\home\\git\\polyglot\\apps\\spiral\\temp\\test\\./main.rs:130:4\u001B[0m\n",
      "\u001B[31;1m    |\u001B[0m\n",
      "\u001B[31;1m130 | fn parse_string(input: &str) -> IResult<&str, SpiralToken> {\u001B[0m\n",
      "\u001B[31;1m    |    ^^^^^^^^^^^^\u001B[0m\n",
      "\u001B[31;1m\u001B[0m\n",
      "\u001B[31;1mwarning: function `parse_identifier` is never used\u001B[0m\n",
      "\u001B[31;1m   --> C:\\home\\git\\polyglot\\apps\\spiral\\temp\\test\\./main.rs:145:4\u001B[0m\n",
      "\u001B[31;1m    |\u001B[0m\n",
      "\u001B[31;1m145 | fn parse_identifier(input: &str) -> IResult<&str, SpiralToken> {\u001B[0m\n",
      "\u001B[31;1m    |    ^^^^^^^^^^^^^^^^\u001B[0m\n",
      "\u001B[31;1m\u001B[0m\n",
      "\u001B[31;1mwarning: function `parse_integer` is never used\u001B[0m\n",
      "\u001B[31;1m   --> C:\\home\\git\\polyglot\\apps\\spiral\\temp\\test\\./main.rs:157:4\u001B[0m\n",
      "\u001B[31;1m    |\u001B[0m\n",
      "\u001B[31;1m157 | fn parse_integer(input: &str) -> IResult<&str, SpiralToken> {\u001B[0m\n",
      "\u001B[31;1m    |    ^^^^^^^^^^^^^\u001B[0m\n",
      "\u001B[31;1m\u001B[0m\n",
      "\u001B[31;1mwarning: function `parse_operator` is never used\u001B[0m\n",
      "\u001B[31;1m   --> C:\\home\\git\\polyglot\\apps\\spiral\\temp\\test\\./main.rs:165:4\u001B[0m\n",
      "\u001B[31;1m    |\u001B[0m\n",
      "\u001B[31;1m165 | fn parse_operator(input: &str) -> IResult<&str, SpiralToken> {\u001B[0m\n",
      "\u001B[31;1m    |    ^^^^^^^^^^^^^^\u001B[0m\n",
      "\u001B[31;1m\u001B[0m\n",
      "\u001B[31;1mwarning: function `parse_token` is never used\u001B[0m\n",
      "\u001B[31;1m   --> C:\\home\\git\\polyglot\\apps\\spiral\\temp\\test\\./main.rs:170:4\u001B[0m\n",
      "\u001B[31;1m    |\u001B[0m\n",
      "\u001B[31;1m170 | fn parse_token(input: &str) -> IResult<&str, SpiralToken> {\u001B[0m\n",
      "\u001B[31;1m    |    ^^^^^^^^^^^\u001B[0m\n",
      "\u001B[31;1m\u001B[0m\n",
      "\u001B[31;1mwarning: function `format_token` is never used\u001B[0m\n",
      "\u001B[31;1m   --> C:\\home\\git\\polyglot\\apps\\spiral\\temp\\test\\./main.rs:180:4\u001B[0m\n",
      "\u001B[31;1m    |\u001B[0m\n",
      "\u001B[31;1m180 | fn format_token(token: &SpiralToken) -> String {\u001B[0m\n",
      "\u001B[31;1m    |    ^^^^^^^^^^^^\u001B[0m\n",
      "\u001B[31;1m\u001B[0m\n",
      "\u001B[31;1mwarning: function `parse_expression` is never used\u001B[0m\n",
      "\u001B[31;1m   --> C:\\home\\git\\polyglot\\apps\\spiral\\temp\\test\\./main.rs:201:4\u001B[0m\n",
      "\u001B[31;1m    |\u001B[0m\n",
      "\u001B[31;1m201 | fn parse_expression(input: &str) -> IResult<&str, SpiralToken> {\u001B[0m\n",
      "\u001B[31;1m    |    ^^^^^^^^^^^^^^^^\u001B[0m\n",
      "\u001B[31;1m\u001B[0m\n",
      "\u001B[31;1mwarning: `spiral_temp_test` (bin \"spiral_temp_test\") generated 10 warnings\u001B[0m\n",
      "\u001B[31;1m    Finished `release` profile [optimized] target(s) in 19.99s\u001B[0m\n"
     ]
    }
   ],
   "source": [
    "cargo build --release"
   ]
  },
  {
   "cell_type": "markdown",
   "metadata": {},
   "source": [
    "### run release tests with output enabled"
   ]
  },
  {
   "cell_type": "code",
   "execution_count": null,
   "metadata": {
    "dotnet_interactive": {
     "language": "pwsh"
    },
    "polyglot_notebook": {
     "kernelName": "pwsh"
    }
   },
   "outputs": [
    {
     "name": "stdout",
     "output_type": "stream",
     "text": [
      "\u001B[31;1m   Compiling zerocopy v0.7.35\u001B[0m\n",
      "\u001B[31;1m   Compiling fable_library_rust v0.1.0 (C:\\home\\git\\polyglot\\lib\\rust\\fable\\fable_modules\\fable-library-rust)\u001B[0m\n",
      "\u001B[31;1m   Compiling thiserror v1.0.64\u001B[0m\n",
      "\u001B[31;1m   Compiling ppv-lite86 v0.2.20\u001B[0m\n",
      "\u001B[31;1m   Compiling rand_chacha v0.3.1\u001B[0m\n",
      "\u001B[31;1m   Compiling rand v0.8.5\u001B[0m\n",
      "\u001B[31;1m   Compiling proptest v1.5.0\u001B[0m\n",
      "\u001B[31;1m   Compiling spiral_temp_test v0.0.1 (C:\\home\\git\\polyglot\\apps\\spiral\\temp\\test)\u001B[0m\n",
      "\u001B[31;1m    Finished `release` profile [optimized] target(s) in 29.33s\u001B[0m\n",
      "\u001B[31;1m     Running unittests main.rs (C:\\home\\git\\polyglot\\workspace\\target\\release\\deps\\spiral_temp_test-98ee53c37a2e3040.exe)\u001B[0m\n",
      "\n",
      "running 3 tests\n",
      "test test_parse_number ... ok\n",
      "test prop_parse_format_idempotent ... ok\n",
      "test adding_and_then_removing_an_item_from_the_cart_leaves_the_cart_unchanged ... ok\n",
      "\n",
      "successes:\n",
      "\n",
      "---- prop_parse_format_idempotent stdout ----\n",
      "input=Operator(\"=\")\n",
      "input=Operator(\"*\")\n",
      "input=StringLiteral(\"H/`\")\n",
      "input=Comment(\"% K{/M{?z;\")\n",
      "input=StringLiteral(\"ljkKu}4`{`/\")\n",
      "input=Comment(\"IW`kR)w!82F\")\n",
      "input=Comment(\"TsQyee6&{.?\\\\~,.ND>ra~AD=.y\\\\7\")\n",
      "input=Integer(3542694218466696153)\n",
      "input=Integer(-7713410675451365948)\n",
      "input=Identifier(\"I3XwEnJb6C00q3ARg9I08B1M\")\n",
      "input=Integer(1246863782908574322)\n",
      "input=Integer(6645714081250417243)\n",
      "input=Integer(6726843483787099116)\n",
      "input=Operator(\"/\")\n",
      "input=StringLiteral(\"7!/|K~9\")\n",
      "input=Comment(\"f}*\\\"\\\\IX:_)R<G0\\\"|dnu/:&[=V\")\n",
      "input=Operator(\"*\")\n",
      "input=Identifier(\"UcKa57Wb9cW0Nqo\")\n",
      "input=Comment(\"<:W,+&I'y05jV?l\\\\K$W`'\")\n",
      "input=Identifier(\"B4crdH\")\n",
      "input=Operator(\"+\")\n",
      "input=Comment(\"*&'1W*?GE=D~^2n=./?:u#LLKD,\")\n",
      "input=Comment(\"W/7>=`yt7wI'=fs.+`S*\")\n",
      "input=StringLiteral(\"L$\")\n",
      "input=Operator(\"=\")\n",
      "input=StringLiteral(\"y]@\")\n",
      "input=Comment(\".%N/pWLR@=Itcuew:\\\\J\")\n",
      "input=Integer(-1668001460692514844)\n",
      "input=Identifier(\"yXD8geph\")\n",
      "input=Integer(8317094677390721118)\n",
      "input=Identifier(\"qZ\")\n",
      "input=StringLiteral(\"xA%4wo&!`M:Zf<yI&\")\n",
      "input=StringLiteral(\"PyUXo\")\n",
      "input=StringLiteral(\"zHtf%T@c<%6rMXm&,|ce&\")\n",
      "input=Identifier(\"IJwZ7rGBLI9g78cH8AGWzAUh5Aka45\")\n",
      "input=Operator(\"-\")\n",
      "input=Operator(\")\")\n",
      "input=Identifier(\"e654z2m17MqAsENpi3eErKGjGCW5JdjBx\")\n",
      "input=Identifier(\"o9bD24DWLeN2Wl1M5fszjnn\")\n",
      "input=Identifier(\"EP63t590UnqYIWkAf6uJdWc4nAYz\")\n",
      "input=Comment(\"?F\\\\\\\"C.KHFM(yy`0l%*[;~<gZ\")\n",
      "input=Comment(\"`\\\\`Y*)Rv\\\\D`-\")\n",
      "input=StringLiteral(\"56U6.Gy/H\")\n",
      "input=Comment(\";&g<6&.$(D%Q\\\" {7+\\\\}*\\\\Xm.=\")\n",
      "input=Operator(\"*\")\n",
      "input=Integer(863345759148456265)\n",
      "input=StringLiteral(\"N.&gv< Jb%{P`h?\")\n",
      "input=Identifier(\"IWNvmUhp66eMHvZQlfESXk8et9hGf20l\")\n",
      "input=Integer(247522065605763488)\n",
      "input=StringLiteral(\"<54b@{AZ~,D{{eLyk.S&b`\")\n",
      "input=Identifier(\"JuHTwJJuh5D8h2V3VpLqF\")\n",
      "input=StringLiteral(\"3=Z>mu*r$4**=\")\n",
      "input=Comment(\"}:%S5%'.$\\\"/2dEb\")\n",
      "input=Integer(-8576154768079640249)\n",
      "input=Identifier(\"db0pOPdYMfqPSa7jkh\")\n",
      "input=Identifier(\"RdE72x\")\n",
      "input=Operator(\"(\")\n",
      "input=Operator(\"+\")\n",
      "input=Identifier(\"vjEDg0BUS033rJWwGqv1X\")\n",
      "input=StringLiteral(\"1txYa<.\")\n",
      "input=Comment(\"15'VU!$QF$L**1\")\n",
      "input=Comment(\"9!o\")\n",
      "input=Identifier(\"fZMQ4t5J8BR0O\")\n",
      "input=Comment(\"<*4!w>;=t?/7EK&`fw*{Pi6:pL\")\n",
      "input=StringLiteral(\"WZQN5.O`Uae=]%oMYb{38l\")\n",
      "input=Integer(4336565137894127120)\n",
      "input=StringLiteral(\"Ej`}<l\")\n",
      "input=Comment(\")e\\\"q\")\n",
      "input=Integer(3236779558912198759)\n",
      "input=Identifier(\"ziXsIqB6I61vsu57bYxi9\")\n",
      "input=Operator(\")\")\n",
      "input=Integer(6808584032733994243)\n",
      "input=Identifier(\"Dsx8sdC048K2qjvheXHHRVa5MJatf\")\n",
      "input=Integer(8348384178967626354)\n",
      "input=StringLiteral(\"t:jmE\")\n",
      "input=Identifier(\"J\")\n",
      "input=StringLiteral(\"1 ?``8r\")\n",
      "input=Integer(-8793514740307984393)\n",
      "input=Operator(\"+\")\n",
      "input=Integer(2714231883720336785)\n",
      "input=Operator(\"*\")\n",
      "input=Comment(\"p=f2<{U{\")\n",
      "input=Integer(-3740782219633963191)\n",
      "input=StringLiteral(\"a4%y$br|/=oHwF%\")\n",
      "input=Identifier(\"P2E82rVfjAq63d8AXI\")\n",
      "input=StringLiteral(\"SJEjv0k?\")\n",
      "input=Operator(\"(\")\n",
      "input=Operator(\"/\")\n",
      "input=Integer(-2581383530186528879)\n",
      "input=Comment(\"(\")\n",
      "input=Operator(\"*\")\n",
      "input=Identifier(\"hP7j9Swn53iVC\")\n",
      "input=Comment(\".;vZW6T&S]{B_96\")\n",
      "input=Integer(-6511571962491606324)\n",
      "input=Comment(\":.B*%{\")\n",
      "input=StringLiteral(\"/'*N& 'A;Y1EL>j/\")\n",
      "input=Identifier(\"HmItEtF\")\n",
      "input=Integer(635934314030435097)\n",
      "input=Integer(-2107541367306856756)\n",
      "input=Operator(\"(\")\n",
      "input=Integer(-4367544205501136085)\n",
      "input=StringLiteral(\"U2.$ c/H7b\")\n",
      "input=Integer(9175625258929297214)\n",
      "input=StringLiteral(\"42'sd4Zg,*Q72Wu \")\n",
      "input=Comment(\"8M'w`ck&nr\\\"* ?T1.{hzID*W'\")\n",
      "input=Identifier(\"PSK929Bsyas41JQE5YQ9z\")\n",
      "input=Comment(\"Zw[pEL\\\":m/!\\\"8$\")\n",
      "input=StringLiteral(\"=WQC\")\n",
      "input=StringLiteral(\"$\")\n",
      "input=Operator(\"+\")\n",
      "input=Integer(3968212607608876009)\n",
      "input=Identifier(\"ZzYH5K0m24t0FYiwdznvA7l51Q5u\")\n",
      "input=Comment(\"T)$6`.S$<Y9x/'t2@\")\n",
      "input=StringLiteral(\"$*eyR~/=Z{Z*(3??_=u,<s\")\n",
      "input=Operator(\"=\")\n",
      "input=StringLiteral(\"m`w)<u?HO//@W#f<}.d*\")\n",
      "input=Comment(\"\\\\ciWXK$l6Vb\\\"x\\\\knTiz?#!,.>=<CDZk\")\n",
      "input=Operator(\"*\")\n",
      "input=Comment(\":!T</G%7/<PiE=dF q&=\\\"xQ`h\\\\/:\")\n",
      "input=Comment(\"\\\"@yc*`t`.v.XpQ^QoEYE=t2ZHh\\\\&zQwa\")\n",
      "input=Integer(-8248562917271422565)\n",
      "input=StringLiteral(\"4,w.<PX7/'9vA{$#,8<k;,K.x\")\n",
      "input=Comment(\"=\")\n",
      "input=Comment(\"-$Lr4t\\\\exSOn,=S&\")\n",
      "input=StringLiteral(\"k./<A*YS?\")\n",
      "input=Comment(\"*!{%jZW\")\n",
      "input=Comment(\"``\")\n",
      "input=Integer(-7460816015854478490)\n",
      "input=StringLiteral(\"?P?*/%<{&(:/z{&`:z|TOGoC\")\n",
      "input=StringLiteral(\"M{>OM:p.qN3^c*B\")\n",
      "input=Operator(\"*\")\n",
      "input=StringLiteral(\"$a\")\n",
      "input=StringLiteral(\"i:E^9JK[/&N;W%A('+tA\")\n",
      "input=Operator(\"=\")\n",
      "input=Integer(8819961846134135335)\n",
      "input=Integer(-5905875577900113199)\n",
      "input=Integer(1778971571704533290)\n",
      "input=Operator(\"/\")\n",
      "input=Comment(\"R<sT7U{N1N\")\n",
      "input=Comment(\"!=\")\n",
      "input=StringLiteral(\"?/_E/K?&r,<&h2#$=x}|W5/H_3..:?\")\n",
      "input=Identifier(\"uZasOiHi129yMcPu2Cpl\")\n",
      "input=Comment(\";.i-\")\n",
      "input=Operator(\"=\")\n",
      "input=Identifier(\"Y1CAsY9jAsa7JvMhHr6IuuiPN\")\n",
      "input=Identifier(\"M3fG5TYGPawRqcgy42a1eztL5DL2\")\n",
      "input=StringLiteral(\"|</wE=ndBX5&[nb?*=K&'q*Hiv?%lz\")\n",
      "input=Identifier(\"XXJ3ZKe6VRRexn1k08y6O0xy7FrR6\")\n",
      "input=Comment(\"bC$KL?(HV?&}\")\n",
      "input=Comment(\"'d$*@X0?.\")\n",
      "input=Comment(\":<a{+=$l1.:p4!~b\")\n",
      "input=Comment(\"\\\\\\\\N&KNP39+0\")\n",
      "input=Identifier(\"ApSJFPO4bsCIP4AtX0w95smJ59f4y\")\n",
      "input=Operator(\"=\")\n",
      "input=Operator(\"-\")\n",
      "input=Comment(\"v\\\\!)`?(\\\"'{\")\n",
      "input=Comment(\"Zd3 <!\")\n",
      "input=Operator(\"+\")\n",
      "input=StringLiteral(\"P&X_.(/ijz7H*&.$&ZY>AhG{\")\n",
      "input=Operator(\")\")\n",
      "input=Comment(\"wX\")\n",
      "input=Integer(-7099251292128499952)\n",
      "input=Comment(\"L\\\"/N\\\\/?\\\"`.<x%!}\")\n",
      "input=Identifier(\"VQLU4MhE9\")\n",
      "input=Operator(\"+\")\n",
      "input=Identifier(\"sbyhYc5hn03fmtJ183YST2cpNptGvqBC5\")\n",
      "input=StringLiteral(\"iD9@}KPXp53N%\")\n",
      "input=StringLiteral(\"gf)})\")\n",
      "input=Identifier(\"kbm3CEsADlN38\")\n",
      "input=Operator(\"*\")\n",
      "input=Comment(\"YW/tSwg&&Z2S\")\n",
      "input=Integer(-9085522972599502818)\n",
      "input=Comment(\"!C@.n*'UG ?e\")\n",
      "input=Comment(\"':j\\\"P7Y*4:'*lLj|\")\n",
      "input=Operator(\"*\")\n",
      "input=Operator(\"+\")\n",
      "input=Operator(\")\")\n",
      "input=Comment(\"%sW/_Sm:h%tbcuc\\\\_N15?^*\")\n",
      "input=StringLiteral(\"%9el:*0*+0/P}:<'hS+\")\n",
      "input=Identifier(\"tm0vvyitAsB6r3txylSO0c8BdPK9ASE\")\n",
      "input=Operator(\")\")\n",
      "input=Integer(3354218166036757399)\n",
      "input=Identifier(\"IMdSRPUo12sZ6guPy\")\n",
      "input=Operator(\"(\")\n",
      "input=Comment(\"?C/;<L:lb\")\n",
      "input=StringLiteral(\"'R~XT1Y`Iq$_:]MG'o\")\n",
      "input=Identifier(\"m398HIBV4rO\")\n",
      "input=Identifier(\"HvmHgH6dmCB6GZqLtXmna8dTwjxZB\")\n",
      "input=Identifier(\"tRn6US9pvDXUf28c\")\n",
      "input=Operator(\"(\")\n",
      "input=StringLiteral(\"cK%/$*W&3|)f\")\n",
      "input=Identifier(\"vQ6OANHLPUT12Q90u4Iy\")\n",
      "input=Identifier(\"ekg3o884B3TJuvLUM\")\n",
      "input=Integer(-94492495162993317)\n",
      "input=Comment(\"PmT:}'il :$RQ*Un\\\"\\\\(o\")\n",
      "input=Operator(\"*\")\n",
      "input=Integer(2372879551248938636)\n",
      "input=Identifier(\"huOMeDm9I\")\n",
      "input=Operator(\"/\")\n",
      "input=Operator(\")\")\n",
      "input=Operator(\"(\")\n",
      "input=Integer(-5595520504463135569)\n",
      "input=Identifier(\"RxQgHnRl59\")\n",
      "input=StringLiteral(\"%?:\")\n",
      "input=Comment(\"m{CS_^%m8':%6\")\n",
      "input=Integer(5468434646604311259)\n",
      "input=Comment(\"M\")\n",
      "input=StringLiteral(\"K&:;+1<tN4?ON\")\n",
      "input=Comment(\"`{^qt:u\\\"~WWx$\\\\HGvY5J>YV%xe$|U/<m\")\n",
      "input=Comment(\"T\\\\M%=EOw,Sp=;==fk{='T\")\n",
      "input=Integer(-6575282790427667230)\n",
      "input=Operator(\"=\")\n",
      "input=Integer(3234286515171074572)\n",
      "input=StringLiteral(\"2/(]5=`[<q{1}&~<C1sM<toxqh?!b0\")\n",
      "input=Integer(8106919470236331569)\n",
      "input=Integer(2688177269387254059)\n",
      "input=Identifier(\"R0KmB50HHj34q8Rs5KwP1AiWvK0c3J\")\n",
      "input=Integer(2443596476994192932)\n",
      "input=Operator(\")\")\n",
      "input=Integer(-8834981334456008030)\n",
      "input=StringLiteral(\"<k 32?pF{&`'CCjLhE^[r:<=<X#\")\n",
      "input=Comment(\"B9qvn=C={\")\n",
      "input=Comment(\"\")\n",
      "input=Integer(8811385063780878809)\n",
      "input=Comment(\"e\\\\:km^)GBRsg2n<\\\"`@Zs\")\n",
      "input=Integer(5769108055138770835)\n",
      "input=Comment(\"<\\\\%*G?Sj=A?f/.bC\\\\\\\"m'\\\\6OQ\")\n",
      "input=Comment(\"DgN'+{u{$6*tbg='A}6#<O\")\n",
      "input=Operator(\"/\")\n",
      "input=Identifier(\"dH5IwLz6o1TC21P0\")\n",
      "input=Operator(\"-\")\n",
      "input=StringLiteral(\".#8M]G:47V4:&+;`aq:o?D\")\n",
      "input=Operator(\"(\")\n",
      "input=Operator(\"*\")\n",
      "input=Operator(\"/\")\n",
      "input=Integer(-2264184885864532890)\n",
      "input=Comment(\"g=KJ'T|,A?\")\n",
      "input=Comment(\"?\\\"$uvx&UYD@Q.:\")\n",
      "input=Operator(\")\")\n",
      "input=Integer(1136723240840224807)\n",
      "input=StringLiteral(\"SExeedIsGZg\")\n",
      "input=Identifier(\"x0t31DT7aPisFkd6wyZ3P5tHXYnn\")\n",
      "input=Identifier(\"lU4b52oQLV2WEEPFKFwNHeSooD26x3V\")\n",
      "input=StringLiteral(\"L`Q{oW:V{&A'`\")\n",
      "input=Integer(-3442628804276178988)\n",
      "input=Comment(\"CaCX&X=Z|kr3'?RC?wrnx.Z\\\"Q*V}`*\")\n",
      "input=Operator(\"+\")\n",
      "input=Integer(7556918073403831260)\n",
      "input=Comment(\"'p>;N$3:`2J/I|\\\\<S%O>rpA=[{4{0$\")\n",
      "input=Comment(\"X(D:FZm<'p%`&i/?X*sSZ*A\\\\JwUR@;\")\n",
      "input=Comment(\"`}*\\\"oZDg/+l&}.\\\\N*\\\\m9D#n=%:;\")\n",
      "input=StringLiteral(\"g3Un/HI\")\n",
      "input=Operator(\"=\")\n",
      "input=Comment(\"EH\\\\%?gcF<>rix:#U'<ZA:?4hE@X\")\n",
      "input=StringLiteral(\"p%CDq.\")\n",
      "input=Comment(\"xSSd\")\n",
      "\n",
      "\n",
      "successes:\n",
      "    adding_and_then_removing_an_item_from_the_cart_leaves_the_cart_unchanged\n",
      "    prop_parse_format_idempotent\n",
      "    test_parse_number\n",
      "\n",
      "test result: ok. 3 passed; 0 failed; 0 ignored; 0 measured; 0 filtered out; finished in 0.19s\n",
      "\n"
     ]
    }
   ],
   "source": [
    "{ cargo test --release -- --show-output } | Invoke-Block"
   ]
  },
  {
   "cell_type": "markdown",
   "metadata": {},
   "source": [
    "### execute the binary in release mode"
   ]
  },
  {
   "cell_type": "code",
   "execution_count": null,
   "metadata": {
    "dotnet_interactive": {
     "language": "pwsh"
    },
    "polyglot_notebook": {
     "kernelName": "pwsh"
    }
   },
   "outputs": [
    {
     "name": "stdout",
     "output_type": "stream",
     "text": [
      "app=test\n"
     ]
    }
   ],
   "source": [
    "{ . $ScriptDir/../../../../workspace/target/release/spiral_temp_test$(_exe) } | Invoke-Block"
   ]
  }
 ],
 "metadata": {},
 "nbformat": 4,
 "nbformat_minor": 5
}