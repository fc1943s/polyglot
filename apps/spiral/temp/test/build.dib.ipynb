{
 "cells": [
  {
   "cell_type": "markdown",
   "metadata": {},
   "source": [
    "# test"
   ]
  },
  {
   "cell_type": "markdown",
   "metadata": {},
   "source": [
    "## include scripts"
   ]
  },
  {
   "cell_type": "markdown",
   "metadata": {},
   "source": [
    "### include notebook core"
   ]
  },
  {
   "cell_type": "code",
   "execution_count": null,
   "metadata": {
    "dotnet_interactive": {
     "language": "pwsh"
    },
    "polyglot_notebook": {
     "kernelName": "pwsh"
    }
   },
   "outputs": [],
   "source": [
    ". ../../../../scripts/nbs_header.ps1"
   ]
  },
  {
   "cell_type": "markdown",
   "metadata": {},
   "source": [
    "### Include core functions script"
   ]
  },
  {
   "cell_type": "code",
   "execution_count": null,
   "metadata": {
    "dotnet_interactive": {
     "language": "pwsh"
    },
    "polyglot_notebook": {
     "kernelName": "pwsh"
    }
   },
   "outputs": [],
   "source": [
    ". ../../../../scripts/core.ps1"
   ]
  },
  {
   "cell_type": "markdown",
   "metadata": {},
   "source": [
    "### Include spiral library"
   ]
  },
  {
   "cell_type": "code",
   "execution_count": null,
   "metadata": {
    "dotnet_interactive": {
     "language": "pwsh"
    },
    "polyglot_notebook": {
     "kernelName": "pwsh"
    }
   },
   "outputs": [],
   "source": [
    ". ../../../../lib/spiral/lib.ps1"
   ]
  },
  {
   "cell_type": "markdown",
   "metadata": {},
   "source": [
    "## execute project commands"
   ]
  },
  {
   "cell_type": "markdown",
   "metadata": {},
   "source": [
    "### run notebook with retries using spiral supervisor"
   ]
  },
  {
   "cell_type": "code",
   "execution_count": null,
   "metadata": {
    "dotnet_interactive": {
     "language": "pwsh"
    },
    "polyglot_notebook": {
     "kernelName": "pwsh"
    }
   },
   "outputs": [
    {
     "name": "stdout",
     "output_type": "stream",
     "text": [
      "00:00:00 \u001B[90mv\u001B[0m #1 async.run_with_timeout_async / { timeout = 180 }\n",
      "00:00:01 \u001B[94md\u001B[0m #1 runtime.execute_with_options_async / { file_name = ../../../../workspace/target/release/spiral_builder.exe; arguments = US1_0 \"dib --path test.dib --retries 3\"; options = { command = ../../../../workspace/target/release/spiral_builder.exe dib --path test.dib --retries 3; cancellation_token = Some System.Threading.CancellationToken; environment_variables = [||]; on_line = None; stdin = None; trace = true; working_directory = None } }\n",
      "00:00:01 \u001B[90mv\u001B[0m #2 > 00:00:00 \u001B[94md\u001B[39m #1 spiral_builder.main / { args = Array(MutCell([\"dib\", \"--path\", \"test.dib\", \"--retries\", \"3\"])) }\n",
      "00:00:01 \u001B[90mv\u001B[0m #3 > 00:00:00 \u001B[94md\u001B[39m #2 runtime.execute_with_options / { file_name = dotnet; arguments = [\"repl\", \"--exit-after-run\", \"--run\", \"c:/home/git/polyglot/apps/spiral/temp/test/test.dib\", \"--output-path\", \"c:/home/git/polyglot/apps/spiral/temp/test/test.dib.ipynb\"]; options = { command = dotnet repl --exit-after-run --run \"c:/home/git/polyglot/apps/spiral/temp/test/test.dib\" --output-path \"c:/home/git/polyglot/apps/spiral/temp/test/test.dib.ipynb\"; cancellation_token = None; environment_variables = Array(MutCell([(\"TRACE_LEVEL\", \"Verbose\"), (\"AUTOMATION\", \"True\")])); on_line = None; stdin = None; trace = false; working_directory = None } }\n",
      "00:00:03 \u001B[90mv\u001B[0m #4 > >\n",
      "00:00:03 \u001B[90mv\u001B[0m #5 > > ── markdown ────────────────────────────────────────────────────────────────────\n",
      "00:00:03 \u001B[90mv\u001B[0m #6 > > ╭──────────────────────────────────────────────────────────────────────────────╮\n",
      "00:00:03 \u001B[90mv\u001B[0m #7 > > │ # test (Polyglot)                                                            │\n",
      "00:00:03 \u001B[90mv\u001B[0m #8 > > ╰──────────────────────────────────────────────────────────────────────────────╯\n",
      "00:00:07 \u001B[90mv\u001B[0m #9 > >\n",
      "00:00:07 \u001B[90mv\u001B[0m #10 > > ── spiral ──────────────────────────────────────────────────────────────────────\n",
      "00:00:07 \u001B[90mv\u001B[0m #11 > > //// test\n",
      "00:00:07 \u001B[90mv\u001B[0m #12 > >\n",
      "00:00:07 \u001B[90mv\u001B[0m #13 > > open testing\n",
      "00:00:11 \u001B[90mv\u001B[0m #14 > >\n",
      "00:00:11 \u001B[90mv\u001B[0m #15 > > ── spiral ──────────────────────────────────────────────────────────────────────\n",
      "00:00:11 \u001B[90mv\u001B[0m #16 > > nominal i = ()\n",
      "00:00:11 \u001B[90mv\u001B[0m #17 > > nominal e = ()\n",
      "00:00:11 \u001B[90mv\u001B[0m #18 > > nominal s = ()\n",
      "00:00:11 \u001B[90mv\u001B[0m #19 > > nominal n = ()\n",
      "00:00:11 \u001B[90mv\u001B[0m #20 > > nominal t = ()\n",
      "00:00:11 \u001B[90mv\u001B[0m #21 > > nominal f = ()\n",
      "00:00:11 \u001B[90mv\u001B[0m #22 > > nominal j = ()\n",
      "00:00:11 \u001B[90mv\u001B[0m #23 > > nominal p = ()\n",
      "00:00:11 \u001B[90mv\u001B[0m #24 > >\n",
      "00:00:11 \u001B[90mv\u001B[0m #25 > > union sensing =\n",
      "00:00:11 \u001B[90mv\u001B[0m #26 > >     | Si : s * i\n",
      "00:00:11 \u001B[90mv\u001B[0m #27 > >     | Se : s * e\n",
      "00:00:11 \u001B[90mv\u001B[0m #28 > >\n",
      "00:00:11 \u001B[90mv\u001B[0m #29 > > union intuition =\n",
      "00:00:11 \u001B[90mv\u001B[0m #30 > >     | Ni : n * i\n",
      "00:00:11 \u001B[90mv\u001B[0m #31 > >     | Ne : n * e\n",
      "00:00:11 \u001B[90mv\u001B[0m #32 > >\n",
      "00:00:11 \u001B[90mv\u001B[0m #33 > > union thinking =\n",
      "00:00:11 \u001B[90mv\u001B[0m #34 > >     | Ti : t * i\n",
      "00:00:11 \u001B[90mv\u001B[0m #35 > >     | Te : t * e\n",
      "00:00:11 \u001B[90mv\u001B[0m #36 > >\n",
      "00:00:11 \u001B[90mv\u001B[0m #37 > > union feeling =\n",
      "00:00:11 \u001B[90mv\u001B[0m #38 > >     | Fi : f * i\n",
      "00:00:11 \u001B[90mv\u001B[0m #39 > >     | Fe : f * e\n",
      "00:00:11 \u001B[90mv\u001B[0m #40 > >\n",
      "00:00:11 \u001B[90mv\u001B[0m #41 > > union function_stack =\n",
      "00:00:11 \u001B[90mv\u001B[0m #42 > >     | FS : sensing * intuition * thinking * feeling\n",
      "00:00:11 \u001B[90mv\u001B[0m #43 > >\n",
      "00:00:11 \u001B[90mv\u001B[0m #44 > > union personality_type =\n",
      "00:00:11 \u001B[90mv\u001B[0m #45 > >     | ISTJ : i * s * t * j * function_stack\n",
      "00:00:11 \u001B[90mv\u001B[0m #46 > >     | ISFJ : i * s * f * j * function_stack\n",
      "00:00:11 \u001B[90mv\u001B[0m #47 > >     | INFJ : i * n * f * j * function_stack\n",
      "00:00:11 \u001B[90mv\u001B[0m #48 > >     | INTJ : i * n * t * j * function_stack\n",
      "00:00:11 \u001B[90mv\u001B[0m #49 > >     | ISTP : i * s * t * p * function_stack\n",
      "00:00:11 \u001B[90mv\u001B[0m #50 > >     | ISFP : i * s * f * p * function_stack\n",
      "00:00:11 \u001B[90mv\u001B[0m #51 > >     | INFP : i * n * f * p * function_stack\n",
      "00:00:11 \u001B[90mv\u001B[0m #52 > >     | INTP : i * n * t * p * function_stack\n",
      "00:00:11 \u001B[90mv\u001B[0m #53 > >     | ESTP : e * s * t * p * function_stack\n",
      "00:00:11 \u001B[90mv\u001B[0m #54 > >     | ESFP : e * s * f * p * function_stack\n",
      "00:00:11 \u001B[90mv\u001B[0m #55 > >     | ENFP : e * n * f * p * function_stack\n",
      "00:00:11 \u001B[90mv\u001B[0m #56 > >     | ENTP : e * n * t * p * function_stack\n",
      "00:00:11 \u001B[90mv\u001B[0m #57 > >     | ESTJ : e * s * t * j * function_stack\n",
      "00:00:11 \u001B[90mv\u001B[0m #58 > >     | ESFJ : e * s * f * j * function_stack\n",
      "00:00:11 \u001B[90mv\u001B[0m #59 > >     | ENFJ : e * n * f * j * function_stack\n",
      "00:00:11 \u001B[90mv\u001B[0m #60 > >     | ENTJ : e * n * t * j * function_stack\n",
      "00:00:11 \u001B[90mv\u001B[0m #61 > >\n",
      "00:00:11 \u001B[90mv\u001B[0m #62 > >\n",
      "00:00:11 \u001B[90mv\u001B[0m #63 > > inl main () =\n",
      "00:00:11 \u001B[90mv\u001B[0m #64 > >     inl istj_stack = FS ((Si (s, i)), Ne (n, e), (Te (t, e)), (Fi (f, i)))\n",
      "00:00:11 \u001B[90mv\u001B[0m #65 > >     inl istj_personality = ISTJ (i, s, t, j, istj_stack)\n",
      "00:00:11 \u001B[90mv\u001B[0m #66 > >     // inl isfj_stack = FS ((Si (s, i)), Ne (n, e), (Fe (f, e)), (Ti (t, i)))\n",
      "00:00:11 \u001B[90mv\u001B[0m #67 > >     // inl isfj_personality = ISFJ (i, s, f, j, isfj_stack)\n",
      "00:00:11 \u001B[90mv\u001B[0m #68 > >\n",
      "00:00:11 \u001B[90mv\u001B[0m #69 > >     ;[[\n",
      "00:00:11 \u001B[90mv\u001B[0m #70 > >         istj_personality\n",
      "00:00:11 \u001B[90mv\u001B[0m #71 > >     ]]\n",
      "00:00:11 \u001B[90mv\u001B[0m #72 > >     |> fun x => $'$\"%A{!x}\"' : string\n",
      "00:00:11 \u001B[90mv\u001B[0m #73 > >     |> console.write_line\n",
      "00:00:11 \u001B[90mv\u001B[0m #74 > >\n",
      "00:00:11 \u001B[90mv\u001B[0m #75 > > inl main () =\n",
      "00:00:11 \u001B[90mv\u001B[0m #76 > >     $'!main ()' : ()\n",
      "00:00:13 \u001B[90mv\u001B[0m #77 > >\n",
      "00:00:13 \u001B[90mv\u001B[0m #78 > > ╭─[ 1.92s - stdout ]───────────────────────────────────────────────────────────╮\n",
      "00:00:13 \u001B[90mv\u001B[0m #79 > > │ [|US5_0 (US4_0 (US0_0, US1_1, US2_1, US3_0))|]                               │\n",
      "00:00:13 \u001B[90mv\u001B[0m #80 > > │                                                                              │\n",
      "00:00:13 \u001B[90mv\u001B[0m #81 > > ╰──────────────────────────────────────────────────────────────────────────────╯\n",
      "00:00:14 \u001B[90mv\u001B[0m #82 > >\n",
      "00:00:14 \u001B[90mv\u001B[0m #83 > > ── fsharp ──────────────────────────────────────────────────────────────────────\n",
      "00:00:14 \u001B[90mv\u001B[0m #84 > > type PhonologicalFeature =\n",
      "00:00:14 \u001B[90mv\u001B[0m #85 > >     | VowelFeature of\n",
      "00:00:14 \u001B[90mv\u001B[0m #86 > >         height: Height\n",
      "00:00:14 \u001B[90mv\u001B[0m #87 > >         * backness: Backness\n",
      "00:00:14 \u001B[90mv\u001B[0m #88 > >         * roundedness: Roundedness\n",
      "00:00:14 \u001B[90mv\u001B[0m #89 > >         * tone: Option<Tone>\n",
      "00:00:14 \u001B[90mv\u001B[0m #90 > >         * stress: Option<Stress>\n",
      "00:00:14 \u001B[90mv\u001B[0m #91 > >         * length: Option<Length>\n",
      "00:00:14 \u001B[90mv\u001B[0m #92 > >     | ConsonantFeature of\n",
      "00:00:14 \u001B[90mv\u001B[0m #93 > >         place: PlaceOfArticulation\n",
      "00:00:14 \u001B[90mv\u001B[0m #94 > >         * manner: MannerOfArticulation\n",
      "00:00:14 \u001B[90mv\u001B[0m #95 > >         * voicing: Voicing\n",
      "00:00:14 \u001B[90mv\u001B[0m #96 > >         * length: Option<Length>\n",
      "00:00:14 \u001B[90mv\u001B[0m #97 > >     | VowelHarmonyFeature\n",
      "00:00:14 \u001B[90mv\u001B[0m #98 > >     | PitchAccentFeature\n",
      "00:00:14 \u001B[90mv\u001B[0m #99 > >\n",
      "00:00:14 \u001B[90mv\u001B[0m #100 > > and Stress = Primary | Secondary\n",
      "00:00:14 \u001B[90mv\u001B[0m #101 > > and Length = Long | Short | HalfLong\n",
      "00:00:14 \u001B[90mv\u001B[0m #102 > >\n",
      "00:00:14 \u001B[90mv\u001B[0m #103 > > and Height =\n",
      "00:00:14 \u001B[90mv\u001B[0m #104 > >     | High | NearHigh | HighMid\n",
      "00:00:14 \u001B[90mv\u001B[0m #105 > >     | Mid | LowMid | NearLow\n",
      "00:00:14 \u001B[90mv\u001B[0m #106 > >     | Low\n",
      "00:00:14 \u001B[90mv\u001B[0m #107 > >\n",
      "00:00:14 \u001B[90mv\u001B[0m #108 > > and Backness = Front | Central | Back\n",
      "00:00:14 \u001B[90mv\u001B[0m #109 > >\n",
      "00:00:14 \u001B[90mv\u001B[0m #110 > > and Roundedness = Rounded | Unrounded\n",
      "00:00:14 \u001B[90mv\u001B[0m #111 > >\n",
      "00:00:14 \u001B[90mv\u001B[0m #112 > > and PlaceOfArticulation =\n",
      "00:00:14 \u001B[90mv\u001B[0m #113 > >     | Bilabial | Labiodental | Dental\n",
      "00:00:14 \u001B[90mv\u001B[0m #114 > >     | Alveolar | Postalveolar | Retroflex\n",
      "00:00:14 \u001B[90mv\u001B[0m #115 > >     | Palatal | Velar | Uvular\n",
      "00:00:14 \u001B[90mv\u001B[0m #116 > >     | Pharyngeal | Epiglottal | Glottal\n",
      "00:00:14 \u001B[90mv\u001B[0m #117 > >\n",
      "00:00:14 \u001B[90mv\u001B[0m #118 > > and MannerOfArticulation =\n",
      "00:00:14 \u001B[90mv\u001B[0m #119 > >     | Plosive | Nasal | Trill\n",
      "00:00:14 \u001B[90mv\u001B[0m #120 > >     | TapOrFlap | Fricative | LateralFricative\n",
      "00:00:14 \u001B[90mv\u001B[0m #121 > >     | Approximant | LateralApproximant\n",
      "00:00:14 \u001B[90mv\u001B[0m #122 > >\n",
      "00:00:14 \u001B[90mv\u001B[0m #123 > > and Voicing = Voiced | Voiceless\n",
      "00:00:14 \u001B[90mv\u001B[0m #124 > >\n",
      "00:00:14 \u001B[90mv\u001B[0m #125 > > and SecondaryArticulation =\n",
      "00:00:14 \u001B[90mv\u001B[0m #126 > >     | Labialization | Palatalization | Velarization\n",
      "00:00:14 \u001B[90mv\u001B[0m #127 > >     | Pharyngealization | Aspiration\n",
      "00:00:14 \u001B[90mv\u001B[0m #128 > >\n",
      "00:00:14 \u001B[90mv\u001B[0m #129 > > and Tone =\n",
      "00:00:14 \u001B[90mv\u001B[0m #130 > >     | LevelTone of int\n",
      "00:00:14 \u001B[90mv\u001B[0m #131 > >     | ContourTone of int list\n",
      "00:00:14 \u001B[90mv\u001B[0m #132 > >\n",
      "00:00:14 \u001B[90mv\u001B[0m #133 > > and MorphologicalFeature =\n",
      "00:00:14 \u001B[90mv\u001B[0m #134 > >     | RootFeature of string\n",
      "00:00:14 \u001B[90mv\u001B[0m #135 > >     | AffixFeature of AffixType * string\n",
      "00:00:14 \u001B[90mv\u001B[0m #136 > >     | IncorporationFeature of string * MorphologicalFeature\n",
      "00:00:14 \u001B[90mv\u001B[0m #137 > >     | NonConcatenativePattern of string * string\n",
      "00:00:14 \u001B[90mv\u001B[0m #138 > >     | AgglutinativeAffixFeature of AgglutinativeAffixType * string\n",
      "00:00:14 \u001B[90mv\u001B[0m #139 > >     | HonorificFeature of HonorificType * string\n",
      "00:00:14 \u001B[90mv\u001B[0m #140 > >\n",
      "00:00:14 \u001B[90mv\u001B[0m #141 > > and AgglutinativeAffixType = Suffix | Prefix\n",
      "00:00:14 \u001B[90mv\u001B[0m #142 > >\n",
      "00:00:14 \u001B[90mv\u001B[0m #143 > > and HonorificType = VerbHonorific | NounHonorific\n",
      "00:00:14 \u001B[90mv\u001B[0m #144 > >\n",
      "00:00:14 \u001B[90mv\u001B[0m #145 > > and AffixType =\n",
      "00:00:14 \u001B[90mv\u001B[0m #146 > >     | Prefix | Suffix | Infix\n",
      "00:00:14 \u001B[90mv\u001B[0m #147 > >     | Circumfix\n",
      "00:00:14 \u001B[90mv\u001B[0m #148 > >\n",
      "00:00:14 \u001B[90mv\u001B[0m #149 > > type SyntacticFeature =\n",
      "00:00:14 \u001B[90mv\u001B[0m #150 > >     | WordFeature of MorphologicalFeature list * LexicalCategory\n",
      "00:00:14 \u001B[90mv\u001B[0m #151 > >     | PhraseFeature of PhraseType * SyntacticFeature list\n",
      "00:00:14 \u001B[90mv\u001B[0m #152 > >     | GrammaticalRelation of GrammaticalRelationType * SyntacticFeature list\n",
      "00:00:14 \u001B[90mv\u001B[0m #153 > >     | SOVOrderFeature\n",
      "00:00:14 \u001B[90mv\u001B[0m #154 > >     | TopicCommentFeature\n",
      "00:00:14 \u001B[90mv\u001B[0m #155 > >\n",
      "00:00:14 \u001B[90mv\u001B[0m #156 > > and GrammaticalRelationType =\n",
      "00:00:14 \u001B[90mv\u001B[0m #157 > >     | Ergative | Absolutive | Nominative\n",
      "00:00:14 \u001B[90mv\u001B[0m #158 > >     | Accusative\n",
      "00:00:14 \u001B[90mv\u001B[0m #159 > >\n",
      "00:00:14 \u001B[90mv\u001B[0m #160 > > and LexicalCategory =\n",
      "00:00:14 \u001B[90mv\u001B[0m #161 > >     | Noun | Verb | Adjective\n",
      "00:00:14 \u001B[90mv\u001B[0m #162 > >     | Adverb | Pronoun | Preposition\n",
      "00:00:14 \u001B[90mv\u001B[0m #163 > >     | Conjunction | Determiner | Interjection\n",
      "00:00:14 \u001B[90mv\u001B[0m #164 > >\n",
      "00:00:14 \u001B[90mv\u001B[0m #165 > > and PhraseType =\n",
      "00:00:14 \u001B[90mv\u001B[0m #166 > >     | NP | VP | AP\n",
      "00:00:14 \u001B[90mv\u001B[0m #167 > >     | PP | CP\n",
      "00:00:14 \u001B[90mv\u001B[0m #168 > >\n",
      "00:00:14 \u001B[90mv\u001B[0m #169 > > and SemanticFeature =\n",
      "00:00:14 \u001B[90mv\u001B[0m #170 > >     | Meaning of string\n",
      "00:00:14 \u001B[90mv\u001B[0m #171 > >     | SemanticRole of SemanticRoleType * SemanticFeature\n",
      "00:00:14 \u001B[90mv\u001B[0m #172 > >\n",
      "00:00:14 \u001B[90mv\u001B[0m #173 > > and SemanticRoleType =\n",
      "00:00:14 \u001B[90mv\u001B[0m #174 > >     | Agent | Patient | Instrument\n",
      "00:00:14 \u001B[90mv\u001B[0m #175 > >     | Location | Time | Cause\n",
      "00:00:14 \u001B[90mv\u001B[0m #176 > >\n",
      "00:00:14 \u001B[90mv\u001B[0m #177 > > and PragmaticFeature =\n",
      "00:00:14 \u001B[90mv\u001B[0m #178 > >     | UseContext of string\n",
      "00:00:14 \u001B[90mv\u001B[0m #179 > >     | PolitenessLevel of Politeness\n",
      "00:00:14 \u001B[90mv\u001B[0m #180 > >     | SpeechAct of SpeechActType\n",
      "00:00:14 \u001B[90mv\u001B[0m #181 > >     | SpeechLevel of SpeechLevelType\n",
      "00:00:14 \u001B[90mv\u001B[0m #182 > >\n",
      "00:00:14 \u001B[90mv\u001B[0m #183 > > and Politeness = Formal | Informal | Neutral\n",
      "00:00:14 \u001B[90mv\u001B[0m #184 > >\n",
      "00:00:14 \u001B[90mv\u001B[0m #185 > > and SpeechActType =\n",
      "00:00:14 \u001B[90mv\u001B[0m #186 > >     | Assertive | Directive | Commissive\n",
      "00:00:14 \u001B[90mv\u001B[0m #187 > >     | Expressive | Declarative\n",
      "00:00:14 \u001B[90mv\u001B[0m #188 > >\n",
      "00:00:14 \u001B[90mv\u001B[0m #189 > > and SpeechLevelType =\n",
      "00:00:14 \u001B[90mv\u001B[0m #190 > >     | FormalHigh | FormalLow | InformalHigh\n",
      "00:00:14 \u001B[90mv\u001B[0m #191 > >     | InformalLow | Neutral\n",
      "00:00:14 \u001B[90mv\u001B[0m #192 > >\n",
      "00:00:14 \u001B[90mv\u001B[0m #193 > > type LinguisticFeature =\n",
      "00:00:14 \u001B[90mv\u001B[0m #194 > >     | Phonological of PhonologicalFeature\n",
      "00:00:14 \u001B[90mv\u001B[0m #195 > >     | Morphological of MorphologicalFeature\n",
      "00:00:14 \u001B[90mv\u001B[0m #196 > >     | Syntactic of SyntacticFeature\n",
      "00:00:14 \u001B[90mv\u001B[0m #197 > >     | Semantic of SemanticFeature\n",
      "00:00:14 \u001B[90mv\u001B[0m #198 > >     | Pragmatic of PragmaticFeature\n",
      "00:00:14 \u001B[90mv\u001B[0m #199 > >\n",
      "00:00:14 \u001B[90mv\u001B[0m #200 > > type LanguageConstruct =\n",
      "00:00:14 \u001B[90mv\u001B[0m #201 > >     | LanguageElement of LinguisticFeature\n",
      "00:00:14 \u001B[90mv\u001B[0m #202 > >     | LanguageStructure of LanguageConstruct list\n",
      "00:00:14 \u001B[90mv\u001B[0m #203 > >     | TranslationElement of TranslationFeature\n",
      "00:00:14 \u001B[90mv\u001B[0m #204 > >\n",
      "00:00:14 \u001B[90mv\u001B[0m #205 > > and TranslationFeature =\n",
      "00:00:14 \u001B[90mv\u001B[0m #206 > >     | LinkedPhonological of PhonologicalFeature * PhonologicalFeature\n",
      "00:00:14 \u001B[90mv\u001B[0m #207 > >     | LinkedMorphological of MorphologicalFeature * MorphologicalFeature\n",
      "00:00:14 \u001B[90mv\u001B[0m #208 > >     | LinkedSyntactic of SyntacticFeature * SyntacticFeature\n",
      "00:00:14 \u001B[90mv\u001B[0m #209 > >     | LinkedSemantic of SemanticFeature * SemanticFeature\n",
      "00:00:14 \u001B[90mv\u001B[0m #210 > >\n",
      "00:00:14 \u001B[90mv\u001B[0m #211 > > type Discourse = DiscourseUnit of LanguageConstruct list\n",
      "00:00:14 \u001B[90mv\u001B[0m #212 > >\n",
      "00:00:14 \u001B[90mv\u001B[0m #213 > > type LanguageModel =\n",
      "00:00:14 \u001B[90mv\u001B[0m #214 > >     | Model of discourse: Discourse\n",
      "00:00:15 \u001B[90mv\u001B[0m #215 > >\n",
      "00:00:15 \u001B[90mv\u001B[0m #216 > > ── fsharp ──────────────────────────────────────────────────────────────────────\n",
      "00:00:15 \u001B[90mv\u001B[0m #217 > > let testEnglish =\n",
      "00:00:15 \u001B[90mv\u001B[0m #218 > >     Model(\n",
      "00:00:15 \u001B[90mv\u001B[0m #219 > >         DiscourseUnit [[\n",
      "00:00:15 \u001B[90mv\u001B[0m #220 > >             LanguageElement (Phonological (ConsonantFeature (Alveolar, Nasal,\n",
      "00:00:15 \u001B[90mv\u001B[0m #221 > > Voiced, Some(HalfLong))));\n",
      "00:00:15 \u001B[90mv\u001B[0m #222 > >             LanguageElement (Phonological (VowelFeature (High, Front, Unrounded,\n",
      "00:00:15 \u001B[90mv\u001B[0m #223 > > Some(LevelTone 1), Some(Primary), Some(Short))));\n",
      "00:00:15 \u001B[90mv\u001B[0m #224 > >             LanguageElement (Phonological (VowelFeature (Low, Front, Unrounded,\n",
      "00:00:15 \u001B[90mv\u001B[0m #225 > > Some(LevelTone 2), Some(Secondary), Some(Long))));\n",
      "00:00:15 \u001B[90mv\u001B[0m #226 > >             LanguageElement (Phonological (ConsonantFeature (Velar, Plosive,\n",
      "00:00:15 \u001B[90mv\u001B[0m #227 > > Voiceless, Some(HalfLong))));\n",
      "00:00:15 \u001B[90mv\u001B[0m #228 > >             LanguageElement (Morphological (RootFeature \"I\"));\n",
      "00:00:15 \u001B[90mv\u001B[0m #229 > >             LanguageElement (Morphological (RootFeature \"see\"));\n",
      "00:00:15 \u001B[90mv\u001B[0m #230 > >             LanguageElement (Morphological (RootFeature \"a\"));\n",
      "00:00:15 \u001B[90mv\u001B[0m #231 > >             LanguageElement (Morphological (RootFeature \"cat\"));\n",
      "00:00:15 \u001B[90mv\u001B[0m #232 > >             LanguageElement (Syntactic (PhraseFeature (NP, [[WordFeature\n",
      "00:00:15 \u001B[90mv\u001B[0m #233 > > ([[RootFeature \"I\"]], Pronoun)]])));\n",
      "00:00:15 \u001B[90mv\u001B[0m #234 > >             LanguageElement (Syntactic (PhraseFeature (VP, [[WordFeature\n",
      "00:00:15 \u001B[90mv\u001B[0m #235 > > ([[RootFeature \"see\"]], Verb)]])));\n",
      "00:00:15 \u001B[90mv\u001B[0m #236 > >             LanguageElement (Syntactic (PhraseFeature (NP, [[WordFeature\n",
      "00:00:15 \u001B[90mv\u001B[0m #237 > > ([[RootFeature \"a\"; RootFeature \"cat\"]], Noun)]])));\n",
      "00:00:15 \u001B[90mv\u001B[0m #238 > >             LanguageElement (Semantic (Meaning \"Perception act of a feline by\n",
      "00:00:15 \u001B[90mv\u001B[0m #239 > > the speaker\"));\n",
      "00:00:15 \u001B[90mv\u001B[0m #240 > >             LanguageElement (Pragmatic (UseContext \"Statement of an action being\n",
      "00:00:15 \u001B[90mv\u001B[0m #241 > > observed\"))\n",
      "00:00:15 \u001B[90mv\u001B[0m #242 > >         ]]\n",
      "00:00:15 \u001B[90mv\u001B[0m #243 > >     )\n",
      "00:00:15 \u001B[90mv\u001B[0m #244 > >\n",
      "00:00:15 \u001B[90mv\u001B[0m #245 > > let testPortuguese =\n",
      "00:00:15 \u001B[90mv\u001B[0m #246 > >     Model(\n",
      "00:00:15 \u001B[90mv\u001B[0m #247 > >         DiscourseUnit [[\n",
      "00:00:15 \u001B[90mv\u001B[0m #248 > >             LanguageElement (Phonological (VowelFeature (High, Front, Unrounded,\n",
      "00:00:15 \u001B[90mv\u001B[0m #249 > > Some(LevelTone 1), Some(Primary), Some(Short))));\n",
      "00:00:15 \u001B[90mv\u001B[0m #250 > >             LanguageElement (Phonological (VowelFeature (Low, Front, Unrounded,\n",
      "00:00:15 \u001B[90mv\u001B[0m #251 > > Some(LevelTone 2), Some(Secondary), Some(Long))));\n",
      "00:00:15 \u001B[90mv\u001B[0m #252 > >             LanguageElement (Phonological (VowelFeature (Mid, Back, Rounded,\n",
      "00:00:15 \u001B[90mv\u001B[0m #253 > > Some(LevelTone 3), Some(Primary), Some(Short))));\n",
      "00:00:15 \u001B[90mv\u001B[0m #254 > >             LanguageElement (Phonological (ConsonantFeature (Velar, Plosive,\n",
      "00:00:15 \u001B[90mv\u001B[0m #255 > > Voiceless, Some(HalfLong))));\n",
      "00:00:15 \u001B[90mv\u001B[0m #256 > >             LanguageElement (Morphological (RootFeature \"Eu\"));\n",
      "00:00:15 \u001B[90mv\u001B[0m #257 > >             LanguageElement (Morphological (RootFeature \"ver\" |> ignore;\n",
      "00:00:15 \u001B[90mv\u001B[0m #258 > > AffixFeature (Suffix, \"o\")));\n",
      "00:00:15 \u001B[90mv\u001B[0m #259 > >             LanguageElement (Morphological (RootFeature \"um\"));\n",
      "00:00:15 \u001B[90mv\u001B[0m #260 > >             LanguageElement (Morphological (RootFeature \"gato\"));\n",
      "00:00:15 \u001B[90mv\u001B[0m #261 > >             LanguageElement (Syntactic (PhraseFeature (NP, [[WordFeature\n",
      "00:00:15 \u001B[90mv\u001B[0m #262 > > ([[RootFeature \"Eu\"]], Pronoun)]])));\n",
      "00:00:15 \u001B[90mv\u001B[0m #263 > >             LanguageElement (Syntactic (PhraseFeature (VP, [[WordFeature\n",
      "00:00:15 \u001B[90mv\u001B[0m #264 > > ([[RootFeature \"vejo\"]], Verb)]])));\n",
      "00:00:15 \u001B[90mv\u001B[0m #265 > >             LanguageElement (Syntactic (PhraseFeature (NP, [[WordFeature\n",
      "00:00:15 \u001B[90mv\u001B[0m #266 > > ([[RootFeature \"um\"; RootFeature \"gato\"]], Noun)]])));\n",
      "00:00:15 \u001B[90mv\u001B[0m #267 > >             LanguageElement (Semantic (Meaning \"Ação de percepção de um felino\n",
      "00:00:15 \u001B[90mv\u001B[0m #268 > > pelo falante\"));\n",
      "00:00:15 \u001B[90mv\u001B[0m #269 > >             LanguageElement (Pragmatic (UseContext \"Declaração de uma ação sendo\n",
      "00:00:15 \u001B[90mv\u001B[0m #270 > > observada\"))\n",
      "00:00:15 \u001B[90mv\u001B[0m #271 > >         ]]\n",
      "00:00:15 \u001B[90mv\u001B[0m #272 > >     )\n",
      "00:00:15 \u001B[90mv\u001B[0m #273 > >\n",
      "00:00:15 \u001B[90mv\u001B[0m #274 > > let testKorean =\n",
      "00:00:15 \u001B[90mv\u001B[0m #275 > >     Model(\n",
      "00:00:15 \u001B[90mv\u001B[0m #276 > >         DiscourseUnit [[\n",
      "00:00:15 \u001B[90mv\u001B[0m #277 > >             LanguageElement (Phonological (ConsonantFeature (Alveolar, Nasal,\n",
      "00:00:15 \u001B[90mv\u001B[0m #278 > > Voiced, Some(Short))));\n",
      "00:00:15 \u001B[90mv\u001B[0m #279 > >             LanguageElement (Phonological (VowelFeature (High, Back, Rounded,\n",
      "00:00:15 \u001B[90mv\u001B[0m #280 > > None, None, Some(Short))));\n",
      "00:00:15 \u001B[90mv\u001B[0m #281 > >             LanguageElement (Phonological (VowelFeature (Mid, Front, Unrounded,\n",
      "00:00:15 \u001B[90mv\u001B[0m #282 > > None, None, Some(Long))));\n",
      "00:00:15 \u001B[90mv\u001B[0m #283 > >             LanguageElement (Phonological (ConsonantFeature (Bilabial, Plosive,\n",
      "00:00:15 \u001B[90mv\u001B[0m #284 > > Voiceless, Some(Short))));\n",
      "00:00:15 \u001B[90mv\u001B[0m #285 > >             LanguageElement (Morphological (RootFeature \"나\"));\n",
      "00:00:15 \u001B[90mv\u001B[0m #286 > >             LanguageElement (Morphological (RootFeature \"보다\"));\n",
      "00:00:15 \u001B[90mv\u001B[0m #287 > >             LanguageElement (Morphological (AffixFeature (Suffix, \"아\")));\n",
      "00:00:15 \u001B[90mv\u001B[0m #288 > >             LanguageElement (Morphological (RootFeature \"고양이\"));\n",
      "00:00:15 \u001B[90mv\u001B[0m #289 > >             LanguageElement (Syntactic (PhraseFeature (NP, [[WordFeature\n",
      "00:00:15 \u001B[90mv\u001B[0m #290 > > ([[RootFeature \"나\"]], Pronoun)]])));\n",
      "00:00:15 \u001B[90mv\u001B[0m #291 > >             LanguageElement (Syntactic (PhraseFeature (VP, [[WordFeature\n",
      "00:00:15 \u001B[90mv\u001B[0m #292 > > ([[RootFeature \"보다\"; AffixFeature (Suffix, \"아\")]], Verb)]])));\n",
      "00:00:15 \u001B[90mv\u001B[0m #293 > >             LanguageElement (Syntactic (PhraseFeature (NP, [[WordFeature\n",
      "00:00:15 \u001B[90mv\u001B[0m #294 > > ([[RootFeature \"고양이\"]], Noun)]])));\n",
      "00:00:15 \u001B[90mv\u001B[0m #295 > >             LanguageElement (Semantic (Meaning \"화자에 의한 고양이의 관찰\n",
      "00:00:15 \u001B[90mv\u001B[0m #296 > > 행위\"));\n",
      "00:00:15 \u001B[90mv\u001B[0m #297 > >             LanguageElement (Pragmatic (UseContext \"관찰되고 있는 행동의 진술\"))\n",
      "00:00:15 \u001B[90mv\u001B[0m #298 > >         ]]\n",
      "00:00:15 \u001B[90mv\u001B[0m #299 > >     )\n",
      "00:00:15 \u001B[90mv\u001B[0m #300 > >\n",
      "00:00:15 \u001B[90mv\u001B[0m #301 > > ── markdown ────────────────────────────────────────────────────────────────────\n",
      "00:00:15 \u001B[90mv\u001B[0m #302 > > ╭──────────────────────────────────────────────────────────────────────────────╮\n",
      "00:00:15 \u001B[90mv\u001B[0m #303 > > │ ## main                                                                      │\n",
      "00:00:15 \u001B[90mv\u001B[0m #304 > > ╰──────────────────────────────────────────────────────────────────────────────╯\n",
      "00:00:15 \u001B[90mv\u001B[0m #305 > >\n",
      "00:00:15 \u001B[90mv\u001B[0m #306 > > ── spiral ──────────────────────────────────────────────────────────────────────\n",
      "00:00:15 \u001B[90mv\u001B[0m #307 > > inl main (_args : array_base string) =\n",
      "00:00:15 \u001B[90mv\u001B[0m #308 > >     0i32\n",
      "00:00:15 \u001B[90mv\u001B[0m #309 > >\n",
      "00:00:15 \u001B[90mv\u001B[0m #310 > > inl main () =\n",
      "00:00:15 \u001B[90mv\u001B[0m #311 > >     $'let main args = !main args' : ()\n",
      "00:00:16 \u001B[90mv\u001B[0m #312 > >\n",
      "00:00:16 \u001B[90mv\u001B[0m #313 > > ── spiral ──────────────────────────────────────────────────────────────────────\n",
      "00:00:16 \u001B[90mv\u001B[0m #314 > > inl app () =\n",
      "00:00:16 \u001B[90mv\u001B[0m #315 > >     \"test\" |> console.write_line\n",
      "00:00:16 \u001B[90mv\u001B[0m #316 > >     0i32\n",
      "00:00:16 \u001B[90mv\u001B[0m #317 > >\n",
      "00:00:16 \u001B[90mv\u001B[0m #318 > > inl main () =\n",
      "00:00:16 \u001B[90mv\u001B[0m #319 > >     print_static \"<test>\"\n",
      "00:00:16 \u001B[90mv\u001B[0m #320 > >\n",
      "00:00:16 \u001B[90mv\u001B[0m #321 > >     app\n",
      "00:00:16 \u001B[90mv\u001B[0m #322 > >     |> dyn\n",
      "00:00:16 \u001B[90mv\u001B[0m #323 > >     |> ignore\n",
      "00:00:16 \u001B[90mv\u001B[0m #324 > >\n",
      "00:00:16 \u001B[90mv\u001B[0m #325 > >     print_static \"</test>\"\n",
      "00:00:17 \u001B[90mv\u001B[0m #326 > 00:00:15 \u001B[90mv\u001B[39m #3 runtime.execute_with_options / result / { exit_code = 0; std_trace_length = 10945 }\n",
      "00:00:17 \u001B[90mv\u001B[0m #327 > 00:00:15 \u001B[94md\u001B[39m #4 runtime.execute_with_options / { file_name = jupyter; arguments = [\"nbconvert\", \"c:/home/git/polyglot/apps/spiral/temp/test/test.dib.ipynb\", \"--to\", \"html\", \"--HTMLExporter.theme=dark\"]; options = { command = jupyter nbconvert \"c:/home/git/polyglot/apps/spiral/temp/test/test.dib.ipynb\" --to html --HTMLExporter.theme=dark; cancellation_token = None; environment_variables = Array(MutCell([])); on_line = None; stdin = None; trace = true; working_directory = None } }\n",
      "00:00:19 \u001B[90mv\u001B[0m #328 > 00:00:17 \u001B[90mv\u001B[39m #5 ! [NbConvertApp] Converting notebook c:/home/git/polyglot/apps/spiral/temp/test/test.dib.ipynb to html\n",
      "00:00:19 \u001B[90mv\u001B[0m #329 > 00:00:17 \u001B[90mv\u001B[39m #6 ! C:\\Users\\i574n\\scoop\\apps\\python312\\current\\Lib\\site-packages\\nbformat\\__init__.py:96: MissingIDFieldWarning: Cell is missing an id field, this will become a hard error in future nbformat versions. You may want to use `normalize()` on your notebooks before validations (available since nbformat 5.1.4). Previous versions of nbformat are fixing this issue transparently, and will stop doing so in the future.\n",
      "00:00:19 \u001B[90mv\u001B[0m #330 > 00:00:17 \u001B[90mv\u001B[39m #7 !   validate(nb)\n",
      "00:00:19 \u001B[90mv\u001B[0m #331 > 00:00:18 \u001B[90mv\u001B[39m #8 ! C:\\Users\\i574n\\scoop\\apps\\python312\\current\\Lib\\site-packages\\nbconvert\\filters\\highlight.py:71: UserWarning: IPython3 lexer unavailable, falling back on Python 3\n",
      "00:00:19 \u001B[90mv\u001B[0m #332 > 00:00:18 \u001B[90mv\u001B[39m #9 !   return _pygments_highlight(\n",
      "00:00:20 \u001B[90mv\u001B[0m #333 > 00:00:19 \u001B[90mv\u001B[39m #10 ! [NbConvertApp] Writing 318992 bytes to c:\\home\\git\\polyglot\\apps\\spiral\\temp\\test\\test.dib.html\n",
      "00:00:20 \u001B[90mv\u001B[0m #334 > 00:00:19 \u001B[90mv\u001B[39m #11 runtime.execute_with_options / result / { exit_code = 0; std_trace_length = 872 }\n",
      "00:00:20 \u001B[90mv\u001B[0m #335 > 00:00:19 \u001B[94md\u001B[39m #12 spiral_builder.run / dib / jupyter nbconvert / { exit_code = 0; jupyter_result_length = 872 }\n",
      "00:00:20 \u001B[90mv\u001B[0m #336 > 00:00:19 \u001B[94md\u001B[39m #13 runtime.execute_with_options / { file_name = pwsh; arguments = [\"-c\", \"$counter = 1; $path = 'c:/home/git/polyglot/apps/spiral/temp/test/test.dib.html'; (Get-Content $path -Raw) -replace '(id=\\\\\\\"cell-id=)[a-fA-F0-9]{8}', { $_.Groups[1].Value + $counter++ } | Set-Content $path\"]; options = { command = pwsh -c \"$counter = 1; $path = 'c:/home/git/polyglot/apps/spiral/temp/test/test.dib.html'; (Get-Content $path -Raw) -replace '(id=\\\"cell-id=)[a-fA-F0-9]{8}', { $_.Groups[1].Value + $counter++ } | Set-Content $path\"; cancellation_token = None; environment_variables = Array(MutCell([])); on_line = None; stdin = None; trace = true; working_directory = None } }\n",
      "00:00:20 \u001B[90mv\u001B[0m #337 > 00:00:19 \u001B[90mv\u001B[39m #14 runtime.execute_with_options / result / { exit_code = 0; std_trace_length = 0 }\n",
      "00:00:20 \u001B[90mv\u001B[0m #338 > 00:00:19 \u001B[94md\u001B[39m #15 spiral_builder.run / dib / html cell ids / { exit_code = 0; pwsh_replace_html_result_length = 0 }\n",
      "00:00:20 \u001B[90mv\u001B[0m #339 > 00:00:19 \u001B[94md\u001B[39m #16 spiral_builder.run / dib / { exit_code = 0; result_length = 11876 }\n",
      "00:00:20 \u001B[94md\u001B[0m #340 runtime.execute_with_options_async / { exit_code = 0; output_length = 15157 }\n",
      "00:00:20 \u001B[94md\u001B[0m #1 main / executeCommand / exitCode: 0 / command: ../../../../workspace/target/release/spiral_builder.exe dib --path test.dib --retries 3\n"
     ]
    }
   ],
   "source": [
    "{ . ../../../../apps/spiral/dist/Supervisor$(_exe) --execute-command \"../../../../workspace/target/release/spiral_builder$(_exe) dib --path test.dib --retries 3\" } | Invoke-Block"
   ]
  },
  {
   "cell_type": "markdown",
   "metadata": {},
   "source": [
    "### parse the .dib file into .spi format with dibparser"
   ]
  },
  {
   "cell_type": "code",
   "execution_count": null,
   "metadata": {
    "dotnet_interactive": {
     "language": "pwsh"
    },
    "polyglot_notebook": {
     "kernelName": "pwsh"
    }
   },
   "outputs": [
    {
     "name": "stdout",
     "output_type": "stream",
     "text": [
      "00:00:00 \u001B[94md\u001B[0m #1 writeDibCode / output: Spi / path: test.dib\n",
      "00:00:00 \u001B[94md\u001B[0m #2 parseDibCode / output: Spi / file: test.dib\n"
     ]
    }
   ],
   "source": [
    "{ . ../../../../apps/parser/dist/DibParser$(_exe) test.dib spi } | Invoke-Block"
   ]
  },
  {
   "cell_type": "markdown",
   "metadata": {},
   "source": [
    "### build .fsx file from .spi using supervisor"
   ]
  },
  {
   "cell_type": "code",
   "execution_count": null,
   "metadata": {
    "dotnet_interactive": {
     "language": "pwsh"
    },
    "polyglot_notebook": {
     "kernelName": "pwsh"
    }
   },
   "outputs": [
    {
     "name": "stdout",
     "output_type": "stream",
     "text": [
      "00:00:00 \u001B[90mv\u001B[0m #1 async.run_with_timeout_async / { timeout = 180 }\n",
      "00:00:01 \u001B[90mv\u001B[0m #2 async.run_with_timeout_async / { timeout = 180 }\n",
      "00:00:01 \u001B[94md\u001B[0m #1 Supervisor.buildFile / takeWhileInclusive / outputContent:\n",
      " / errors: [] / typeErrorCount: 0 / retry: 0 / path: test.spi\n",
      "00:00:01 \u001B[94md\u001B[0m #2 Supervisor.buildFile / AsyncSeq.scan / outputContent:\n",
      " / errors: [] / outputContentResult:  / typeErrorCount: 0 / retry: 0 / error:  / path: test.spi\n",
      "00:00:01 \u001B[94md\u001B[0m #3 Supervisor.buildFile / takeWhileInclusive / outputContent:\n",
      " / errors: [] / typeErrorCount: 0 / retry: 0 / path: test.spi\n",
      "00:00:01 \u001B[90mv\u001B[0m #4 Supervisor.sendJson / port: 13805 / json: {\"FileOpen\":{\"spiText\":\"/// # test (Polyglot)\\nnominal i = ()\\nnominal e = ()\\nnominal s = ()\\nnomin...0022\\u003C/test\\u003E\\u0022\\n\",\"uri\":\"file:///c:/home/git/polyglot/apps/spiral/temp/test/test.spi\"}} / result:\n",
      "00:00:01 \u001B[90mv\u001B[0m #5 Supervisor.sendJson / port: 13805 / json: {\"BuildFile\":{\"backend\":\"Fsharp\",\"uri\":\"file:///c:/home/git/polyglot/apps/spiral/temp/test/test.spi\"}} / result:\n",
      "00:00:01 \u001B[94md\u001B[0m #6 Supervisor.buildFile / AsyncSeq.scan / outputContent:\n",
      "let rec closure1 () () : unit =\n",
      "    let v0 : (string -> unit) = System.Console.WriteLine\n",
      "    let v1 : string = \"test\"\n",
      "    v0 v1\n",
      "and closure0 () () : i...t v0 : unit = ()\n",
      "    let v1 : (unit -> unit) = closure1()\n",
      "    let v2 : unit = (fun () -> v1 (); v0) ()\n",
      "    0\n",
      "let v0 : (unit -> int32) = closure0()\n",
      "()\n",
      " / errors: [] / outputContentResult:  / typeErrorCount: 0 / retry: 0 / error:  / path: test.spi\n",
      "00:00:01 \u001B[94md\u001B[0m #7 Supervisor.buildFile / takeWhileInclusive / outputContent:\n",
      "let rec closure1 () () : unit =\n",
      "    let v0 : (string -> unit) = System.Console.WriteLine\n",
      "    let v1 : string = \"test\"\n",
      "    v0 v1\n",
      "and closure0 () () : i...t v0 : unit = ()\n",
      "    let v1 : (unit -> unit) = closure1()\n",
      "    let v2 : unit = (fun () -> v1 (); v0) ()\n",
      "    0\n",
      "let v0 : (unit -> int32) = closure0()\n",
      "()\n",
      " / errors: [] / typeErrorCount: 0 / retry: 0 / path: test.spi\n",
      "00:00:01 \u001B[94md\u001B[0m #8 FileSystem.watchWithFilter / Disposing watch stream / filter: FileName, LastWrite\n"
     ]
    }
   ],
   "source": [
    "{ . ../../../../apps/spiral/dist/Supervisor$(_exe) --build-file test.spi test.fsx } | Invoke-Block"
   ]
  },
  {
   "cell_type": "markdown",
   "metadata": {},
   "source": [
    "## compile and format the project"
   ]
  },
  {
   "cell_type": "markdown",
   "metadata": {},
   "source": [
    "### compile project with fable targeting optimized rust"
   ]
  },
  {
   "cell_type": "code",
   "execution_count": null,
   "metadata": {
    "dotnet_interactive": {
     "language": "pwsh"
    },
    "polyglot_notebook": {
     "kernelName": "pwsh"
    }
   },
   "outputs": [
    {
     "name": "stdout",
     "output_type": "stream",
     "text": [
      "Fable 4.21.0: F# to Rust compiler (status: alpha)\n",
      "\n",
      "Thanks to the contributor! @delneg\n",
      "Stand with Ukraine! https://standwithukraine.com.ua/\n",
      "\n",
      "Parsing test.fsproj...\n",
      "Retrieving project options from cache, in case of issues run `dotnet fable clean` or try `--noCache` option.\n",
      "Project and references (1 source files) parsed in 189ms\n",
      "\n",
      "Started Fable compilation...\n",
      "\n",
      "Fable compilation finished in 1686ms\n",
      "\n",
      ".\\test.fsx(11,0): (11,2) warning FABLE: For Rust, support for F# static and module do bindings is disabled by default. It can be enabled with the 'static_do_bindings' feature. Use at your own risk!\n"
     ]
    }
   ],
   "source": [
    "dotnet fable --optimize --lang rs --extension .rs"
   ]
  },
  {
   "cell_type": "markdown",
   "metadata": {},
   "source": [
    "### fix formatting issues in the .rs file using regex and set-content"
   ]
  },
  {
   "cell_type": "code",
   "execution_count": null,
   "metadata": {
    "dotnet_interactive": {
     "language": "pwsh"
    },
    "polyglot_notebook": {
     "kernelName": "pwsh"
    }
   },
   "outputs": [],
   "source": [
    "(Get-Content test.rs) `\n",
    "    -replace [regex]::Escape(\"),);\"), \"));\" `\n",
    "    | FixRust `\n",
    "| Set-Content test.rs"
   ]
  },
  {
   "cell_type": "markdown",
   "metadata": {},
   "source": [
    "### format the rust code using cargo fmt"
   ]
  },
  {
   "cell_type": "code",
   "execution_count": null,
   "metadata": {
    "dotnet_interactive": {
     "language": "pwsh"
    },
    "polyglot_notebook": {
     "kernelName": "pwsh"
    }
   },
   "outputs": [],
   "source": [
    "cargo fmt --"
   ]
  },
  {
   "cell_type": "markdown",
   "metadata": {},
   "source": [
    "## build and test the project"
   ]
  },
  {
   "cell_type": "markdown",
   "metadata": {},
   "source": [
    "### build the project in release mode using nightly rust compiler"
   ]
  },
  {
   "cell_type": "code",
   "execution_count": null,
   "metadata": {
    "dotnet_interactive": {
     "language": "pwsh"
    },
    "polyglot_notebook": {
     "kernelName": "pwsh"
    }
   },
   "outputs": [
    {
     "name": "stdout",
     "output_type": "stream",
     "text": [
      "\u001B[31;1m   Compiling proc-macro2 v1.0.88\u001B[0m\n",
      "\u001B[31;1m   Compiling unicode-ident v1.0.13\u001B[0m\n",
      "\u001B[31;1m   Compiling once_cell v1.20.2\u001B[0m\n",
      "\u001B[31;1m   Compiling num-traits v0.2.19\u001B[0m\n",
      "\u001B[31;1m   Compiling fastrand v2.1.1\u001B[0m\n",
      "\u001B[31;1m   Compiling rand_core v0.6.4\u001B[0m\n",
      "\u001B[31;1m   Compiling libm v0.2.8\u001B[0m\n",
      "\u001B[31;1m   Compiling windows-sys v0.59.0\u001B[0m\n",
      "\u001B[31;1m   Compiling bit-vec v0.6.3\u001B[0m\n",
      "\u001B[31;1m   Compiling quick-error v1.2.3\u001B[0m\n",
      "\u001B[31;1m   Compiling fnv v1.0.7\u001B[0m\n",
      "\u001B[31;1m   Compiling wait-timeout v0.2.0\u001B[0m\n",
      "\u001B[31;1m   Compiling bit-set v0.5.3\u001B[0m\n",
      "\u001B[31;1m   Compiling rand_xorshift v0.3.0\u001B[0m\n",
      "\u001B[31;1m   Compiling lazy_static v1.5.0\u001B[0m\n",
      "\u001B[31;1m   Compiling minimal-lexical v0.2.1\u001B[0m\n",
      "\u001B[31;1m   Compiling bitflags v2.6.0\u001B[0m\n",
      "\u001B[31;1m   Compiling unarray v0.1.4\u001B[0m\n",
      "\u001B[31;1m   Compiling memchr v2.7.4\u001B[0m\n",
      "\u001B[31;1m   Compiling fable_library_rust v0.1.0 (C:\\home\\git\\polyglot\\lib\\rust\\fable\\fable_modules\\fable-library-rust)\u001B[0m\n",
      "\u001B[31;1m   Compiling quote v1.0.37\u001B[0m\n",
      "\u001B[31;1m   Compiling nom v7.1.3\u001B[0m\n",
      "\u001B[31;1m   Compiling syn v2.0.79\u001B[0m\n",
      "\u001B[31;1m   Compiling tempfile v3.13.0\u001B[0m\n",
      "\u001B[31;1m   Compiling rusty-fork v0.3.0\u001B[0m\n",
      "\u001B[31;1m   Compiling zerocopy-derive v0.7.35\u001B[0m\n",
      "\u001B[31;1m   Compiling thiserror-impl v1.0.64\u001B[0m\n",
      "\u001B[31;1m   Compiling zerocopy v0.7.35\u001B[0m\n",
      "\u001B[31;1m   Compiling thiserror v1.0.64\u001B[0m\n",
      "\u001B[31;1m   Compiling ppv-lite86 v0.2.20\u001B[0m\n",
      "\u001B[31;1m   Compiling rand_chacha v0.3.1\u001B[0m\n",
      "\u001B[31;1m   Compiling rand v0.8.5\u001B[0m\n",
      "\u001B[31;1m   Compiling proptest v1.5.0\u001B[0m\n",
      "\u001B[31;1m   Compiling spiral_temp_test v0.0.1 (C:\\home\\git\\polyglot\\apps\\spiral\\temp\\test)\u001B[0m\n",
      "\u001B[31;1mwarning: struct `Cart` is never constructed\u001B[0m\n",
      "\u001B[31;1m  --> C:\\home\\git\\polyglot\\apps\\spiral\\temp\\test\\./main.rs:41:8\u001B[0m\n",
      "\u001B[31;1m   |\u001B[0m\n",
      "\u001B[31;1m41 | struct Cart {\u001B[0m\n",
      "\u001B[31;1m   |        ^^^^\u001B[0m\n",
      "\u001B[31;1m   |\u001B[0m\n",
      "\u001B[31;1m   = note: `#[warn(dead_code)]` on by default\u001B[0m\n",
      "\u001B[31;1m\u001B[0m\n",
      "\u001B[31;1mwarning: associated items `new`, `add_item`, and `remove_item` are never used\u001B[0m\n",
      "\u001B[31;1m  --> C:\\home\\git\\polyglot\\apps\\spiral\\temp\\test\\./main.rs:46:8\u001B[0m\n",
      "\u001B[31;1m   |\u001B[0m\n",
      "\u001B[31;1m45 | impl Cart {\u001B[0m\n",
      "\u001B[31;1m   | --------- associated items in this implementation\u001B[0m\n",
      "\u001B[31;1m46 |     fn new() -> Cart {\u001B[0m\n",
      "\u001B[31;1m   |        ^^^\u001B[0m\n",
      "\u001B[31;1m...\u001B[0m\n",
      "\u001B[31;1m50 |     fn add_item(&mut self, item: Item) {\u001B[0m\n",
      "\u001B[31;1m   |        ^^^^^^^^\u001B[0m\n",
      "\u001B[31;1m...\u001B[0m\n",
      "\u001B[31;1m56 |     fn remove_item(&mut self, item: &Item) {\u001B[0m\n",
      "\u001B[31;1m   |        ^^^^^^^^^^^\u001B[0m\n",
      "\u001B[31;1m\u001B[0m\n",
      "\u001B[31;1mwarning: function `parse_comment` is never used\u001B[0m\n",
      "\u001B[31;1m   --> C:\\home\\git\\polyglot\\apps\\spiral\\temp\\test\\./main.rs:124:4\u001B[0m\n",
      "\u001B[31;1m    |\u001B[0m\n",
      "\u001B[31;1m124 | fn parse_comment(input: &str) -> IResult<&str, SpiralToken> {\u001B[0m\n",
      "\u001B[31;1m    |    ^^^^^^^^^^^^^\u001B[0m\n",
      "\u001B[31;1m\u001B[0m\n",
      "\u001B[31;1mwarning: function `parse_string` is never used\u001B[0m\n",
      "\u001B[31;1m   --> C:\\home\\git\\polyglot\\apps\\spiral\\temp\\test\\./main.rs:130:4\u001B[0m\n",
      "\u001B[31;1m    |\u001B[0m\n",
      "\u001B[31;1m130 | fn parse_string(input: &str) -> IResult<&str, SpiralToken> {\u001B[0m\n",
      "\u001B[31;1m    |    ^^^^^^^^^^^^\u001B[0m\n",
      "\u001B[31;1m\u001B[0m\n",
      "\u001B[31;1mwarning: function `parse_identifier` is never used\u001B[0m\n",
      "\u001B[31;1m   --> C:\\home\\git\\polyglot\\apps\\spiral\\temp\\test\\./main.rs:145:4\u001B[0m\n",
      "\u001B[31;1m    |\u001B[0m\n",
      "\u001B[31;1m145 | fn parse_identifier(input: &str) -> IResult<&str, SpiralToken> {\u001B[0m\n",
      "\u001B[31;1m    |    ^^^^^^^^^^^^^^^^\u001B[0m\n",
      "\u001B[31;1m\u001B[0m\n",
      "\u001B[31;1mwarning: function `parse_integer` is never used\u001B[0m\n",
      "\u001B[31;1m   --> C:\\home\\git\\polyglot\\apps\\spiral\\temp\\test\\./main.rs:157:4\u001B[0m\n",
      "\u001B[31;1m    |\u001B[0m\n",
      "\u001B[31;1m157 | fn parse_integer(input: &str) -> IResult<&str, SpiralToken> {\u001B[0m\n",
      "\u001B[31;1m    |    ^^^^^^^^^^^^^\u001B[0m\n",
      "\u001B[31;1m\u001B[0m\n",
      "\u001B[31;1mwarning: function `parse_operator` is never used\u001B[0m\n",
      "\u001B[31;1m   --> C:\\home\\git\\polyglot\\apps\\spiral\\temp\\test\\./main.rs:165:4\u001B[0m\n",
      "\u001B[31;1m    |\u001B[0m\n",
      "\u001B[31;1m165 | fn parse_operator(input: &str) -> IResult<&str, SpiralToken> {\u001B[0m\n",
      "\u001B[31;1m    |    ^^^^^^^^^^^^^^\u001B[0m\n",
      "\u001B[31;1m\u001B[0m\n",
      "\u001B[31;1mwarning: function `parse_token` is never used\u001B[0m\n",
      "\u001B[31;1m   --> C:\\home\\git\\polyglot\\apps\\spiral\\temp\\test\\./main.rs:170:4\u001B[0m\n",
      "\u001B[31;1m    |\u001B[0m\n",
      "\u001B[31;1m170 | fn parse_token(input: &str) -> IResult<&str, SpiralToken> {\u001B[0m\n",
      "\u001B[31;1m    |    ^^^^^^^^^^^\u001B[0m\n",
      "\u001B[31;1m\u001B[0m\n",
      "\u001B[31;1mwarning: function `format_token` is never used\u001B[0m\n",
      "\u001B[31;1m   --> C:\\home\\git\\polyglot\\apps\\spiral\\temp\\test\\./main.rs:180:4\u001B[0m\n",
      "\u001B[31;1m    |\u001B[0m\n",
      "\u001B[31;1m180 | fn format_token(token: &SpiralToken) -> String {\u001B[0m\n",
      "\u001B[31;1m    |    ^^^^^^^^^^^^\u001B[0m\n",
      "\u001B[31;1m\u001B[0m\n",
      "\u001B[31;1mwarning: function `parse_expression` is never used\u001B[0m\n",
      "\u001B[31;1m   --> C:\\home\\git\\polyglot\\apps\\spiral\\temp\\test\\./main.rs:201:4\u001B[0m\n",
      "\u001B[31;1m    |\u001B[0m\n",
      "\u001B[31;1m201 | fn parse_expression(input: &str) -> IResult<&str, SpiralToken> {\u001B[0m\n",
      "\u001B[31;1m    |    ^^^^^^^^^^^^^^^^\u001B[0m\n",
      "\u001B[31;1m\u001B[0m\n",
      "\u001B[31;1mwarning: `spiral_temp_test` (bin \"spiral_temp_test\") generated 10 warnings\u001B[0m\n",
      "\u001B[31;1m    Finished `release` profile [optimized] target(s) in 21.82s\u001B[0m\n"
     ]
    }
   ],
   "source": [
    "cargo build --release"
   ]
  },
  {
   "cell_type": "markdown",
   "metadata": {},
   "source": [
    "### run release tests with output enabled"
   ]
  },
  {
   "cell_type": "code",
   "execution_count": null,
   "metadata": {
    "dotnet_interactive": {
     "language": "pwsh"
    },
    "polyglot_notebook": {
     "kernelName": "pwsh"
    }
   },
   "outputs": [
    {
     "name": "stdout",
     "output_type": "stream",
     "text": [
      "\u001B[31;1m   Compiling once_cell v1.20.2\u001B[0m\n",
      "\u001B[31;1m   Compiling fastrand v2.1.1\u001B[0m\n",
      "\u001B[31;1m   Compiling bit-vec v0.6.3\u001B[0m\n",
      "\u001B[31;1m   Compiling quick-error v1.2.3\u001B[0m\n",
      "\u001B[31;1m   Compiling wait-timeout v0.2.0\u001B[0m\n",
      "\u001B[31;1m   Compiling fnv v1.0.7\u001B[0m\n",
      "\u001B[31;1m   Compiling windows-sys v0.59.0\u001B[0m\n",
      "\u001B[31;1m   Compiling zerocopy v0.7.35\u001B[0m\n",
      "\u001B[31;1m   Compiling num-traits v0.2.19\u001B[0m\n",
      "\u001B[31;1m   Compiling rand_xorshift v0.3.0\u001B[0m\n",
      "\u001B[31;1m   Compiling minimal-lexical v0.2.1\u001B[0m\n",
      "\u001B[31;1m   Compiling bit-set v0.5.3\u001B[0m\n",
      "\u001B[31;1m   Compiling lazy_static v1.5.0\u001B[0m\n",
      "\u001B[31;1m   Compiling bitflags v2.6.0\u001B[0m\n",
      "\u001B[31;1m   Compiling memchr v2.7.4\u001B[0m\n",
      "\u001B[31;1m   Compiling unarray v0.1.4\u001B[0m\n",
      "\u001B[31;1m   Compiling fable_library_rust v0.1.0 (C:\\home\\git\\polyglot\\lib\\rust\\fable\\fable_modules\\fable-library-rust)\u001B[0m\n",
      "\u001B[31;1m   Compiling thiserror v1.0.64\u001B[0m\n",
      "\u001B[31;1m   Compiling ppv-lite86 v0.2.20\u001B[0m\n",
      "\u001B[31;1m   Compiling nom v7.1.3\u001B[0m\n",
      "\u001B[31;1m   Compiling rand_chacha v0.3.1\u001B[0m\n",
      "\u001B[31;1m   Compiling tempfile v3.13.0\u001B[0m\n",
      "\u001B[31;1m   Compiling rand v0.8.5\u001B[0m\n",
      "\u001B[31;1m   Compiling rusty-fork v0.3.0\u001B[0m\n",
      "\u001B[31;1m   Compiling proptest v1.5.0\u001B[0m\n",
      "\u001B[31;1m   Compiling spiral_temp_test v0.0.1 (C:\\home\\git\\polyglot\\apps\\spiral\\temp\\test)\u001B[0m\n",
      "\u001B[31;1m    Finished `release` profile [optimized] target(s) in 33.10s\u001B[0m\n",
      "\u001B[31;1m     Running unittests main.rs (C:\\home\\git\\polyglot\\workspace\\target\\release\\deps\\spiral_temp_test-98ee53c37a2e3040.exe)\u001B[0m\n",
      "\n",
      "running 3 tests\n",
      "test test_parse_number ... ok\n",
      "test prop_parse_format_idempotent ... ok\n",
      "test adding_and_then_removing_an_item_from_the_cart_leaves_the_cart_unchanged ... ok\n",
      "\n",
      "successes:\n",
      "\n",
      "---- prop_parse_format_idempotent stdout ----\n",
      "input=StringLiteral(\"=gDl%W$D\")\n",
      "input=Comment(\"~&/14%85#1<JEf5\")\n",
      "input=Comment(\"p Q{w\")\n",
      "input=Comment(\"|?QK:+6:<\")\n",
      "input=Identifier(\"oUL37mqsukaEFbjJImR3WwpymY032DR\")\n",
      "input=Operator(\"+\")\n",
      "input=Comment(\"]#/h{[U!*:ec/*20G#&\")\n",
      "input=StringLiteral(\"T:2`/$f!=SF5BC<$^\")\n",
      "input=Identifier(\"NC9fQLS59AJ0\")\n",
      "input=Identifier(\"rlX4J13f7wZ9V93jskfpzY3YFne\")\n",
      "input=Comment(\"H\")\n",
      "input=StringLiteral(\"R$*{*%f'T :f`R&T`Fvzp.{h\")\n",
      "input=Operator(\"=\")\n",
      "input=Identifier(\"wdyEYy0\")\n",
      "input=Operator(\"=\")\n",
      "input=Comment(\"^^.\\\\\")\n",
      "input=Operator(\"=\")\n",
      "input=Integer(-39135973993010713)\n",
      "input=Operator(\"+\")\n",
      "input=StringLiteral(\"#:jgpk{<\")\n",
      "input=Comment(\"<pOi\")\n",
      "input=Operator(\"+\")\n",
      "input=StringLiteral(\"yS\")\n",
      "input=Integer(2783147676559788730)\n",
      "input=Identifier(\"qOKiwoU\")\n",
      "input=StringLiteral(\"&<$Iio/\")\n",
      "input=Operator(\"(\")\n",
      "input=Identifier(\"gJDRj6Y5R\")\n",
      "input=StringLiteral(\"WL%H~'\")\n",
      "input=StringLiteral(\"K<mL'`zX~})P6B|S&@>D%FN\")\n",
      "input=Operator(\")\")\n",
      "input=Comment(\"v/9A?\")\n",
      "input=Identifier(\"Pm51EU\")\n",
      "input=Identifier(\"gcI\")\n",
      "input=StringLiteral(\"=}Q0n.]i<?((n*:8N5v\")\n",
      "input=Integer(-7844397233699181633)\n",
      "input=Operator(\"+\")\n",
      "input=Comment(\"X?g$S-d.=T#n&\\\"t7Az,*Gt%.2^@%\")\n",
      "input=Integer(-2552168369792868529)\n",
      "input=StringLiteral(\"=}+%{y@$u$St{z{Tb%\")\n",
      "input=StringLiteral(\"m/l<`u&&`[y*}:r\")\n",
      "input=Comment(\"5&{\\\"iXF$:[/{P*:&+U&)T$=Tgmq\")\n",
      "input=Comment(\":{]W<adv=Ua*:M'r>\")\n",
      "input=Operator(\"(\")\n",
      "input=Integer(1922702837369939894)\n",
      "input=Operator(\"-\")\n",
      "input=Identifier(\"wDX4IJDT2F4\")\n",
      "input=Identifier(\"UiMELqX4dnsey\")\n",
      "input=Integer(-6432184447591526326)\n",
      "input=Integer(1618317288397818246)\n",
      "input=StringLiteral(\"%(Iti{*R{\")\n",
      "input=StringLiteral(\"8?nS\")\n",
      "input=Identifier(\"w7KPt1PY8lG4cp2H6O43B4pgh9xKPz42z\")\n",
      "input=Integer(-3871716662170222868)\n",
      "input=Comment(\"<sJ%=:.!h>A)=%NW*$uG'\")\n",
      "input=Comment(\"I>39rL3a8d>.\")\n",
      "input=Operator(\"+\")\n",
      "input=Operator(\"/\")\n",
      "input=Operator(\"*\")\n",
      "input=Integer(610500455084884329)\n",
      "input=Comment(\"\\\\$8:]\\\\J)$z-{\")\n",
      "input=Operator(\"/\")\n",
      "input=Operator(\"*\")\n",
      "input=Identifier(\"QLA4JS52Uis\")\n",
      "input=Identifier(\"tEuc\")\n",
      "input=Operator(\"+\")\n",
      "input=Integer(6908458130512796421)\n",
      "input=Integer(-7560360890883218576)\n",
      "input=StringLiteral(\"J/:'&yyY:Z&sF[cA?=PW{!g\")\n",
      "input=StringLiteral(\"X*sZU/2U&%WgG,`'x/&_\")\n",
      "input=Identifier(\"GSyMq8K7BJ4ds\")\n",
      "input=Identifier(\"Pm0Qg2GE1qGOwnORmg\")\n",
      "input=Integer(2343730488876466287)\n",
      "input=Identifier(\"Xbo7NFmQ652naA1r5qd63AeC0QYZeUqx2\")\n",
      "input=Identifier(\"AlAjTXoe9\")\n",
      "input=Comment(\".X/Pf,xxF,<0%/\\\\\")\n",
      "input=Integer(-9137445438932774809)\n",
      "input=Comment(\"\\\"\\\\{V.XLADX|\")\n",
      "input=Operator(\"=\")\n",
      "input=Operator(\"+\")\n",
      "input=StringLiteral(\"r=0|'$.=aV{/'\")\n",
      "input=Comment(\"`YFxh%\")\n",
      "input=StringLiteral(\"2!dj@;s'_?%MyO%{(KKPs;%3yKz:sp\")\n",
      "input=Integer(-3061556411537268794)\n",
      "input=StringLiteral(\"/%xJLj!4''wKy,$SKQ.{5Q\")\n",
      "input=Comment(\"<GJ{\\\"s`NK*&3:m/C\\\\&{=H= 'EdN`\\\\O?0\")\n",
      "input=Operator(\"-\")\n",
      "input=Operator(\"+\")\n",
      "input=StringLiteral(\"{qOQk{}b.*}@ORl<`a{{`\")\n",
      "input=Comment(\"m*\")\n",
      "input=Comment(\">=y/{$@`={\")\n",
      "input=Operator(\")\")\n",
      "input=Comment(\"=\\\"Ws$=,'#jk}-#\")\n",
      "input=Operator(\"*\")\n",
      "input=Identifier(\"v\")\n",
      "input=Integer(-3655759116183993583)\n",
      "input=Comment(\"=?{b/.r%PDW*r@<<*mA\\\"p'.\")\n",
      "input=StringLiteral(\"_u^RBQ%e`7<$=b:y>:%J.<py5w/.n@z\")\n",
      "input=Identifier(\"KMc470n2ae8abfolLm\")\n",
      "input=StringLiteral(\"N2?^r[&{\")\n",
      "input=StringLiteral(\"=(WEj +f%i%\")\n",
      "input=Integer(-5810351634864111828)\n",
      "input=Operator(\"=\")\n",
      "input=Integer(1617013218986244447)\n",
      "input=Identifier(\"ku\")\n",
      "input=Comment(\"R=<%W@j!`/@s:{=M,m%\")\n",
      "input=Operator(\"*\")\n",
      "input=Comment(\"Z!:uRmX1wa.t=^?0m$O?Eq/\")\n",
      "input=StringLiteral(\":t'J/[{?$#;*g%_s*hus9Om'&3g.0h:\")\n",
      "input=Integer(-5907736971942360550)\n",
      "input=Comment(\"%#U4\\\";<C<^<4,+bsu*d;>.\\\\$#Z/MY\")\n",
      "input=Comment(\"'(-= I$Y`[='=o6iE_Me={a%7mU/I=6\")\n",
      "input=StringLiteral(\"{'SMY_])x_{iUA\")\n",
      "input=StringLiteral(\"w\")\n",
      "input=Operator(\")\")\n",
      "input=Comment(\"XeS:xR^Tp\\\\\\\"\\\\iq*aE+\")\n",
      "input=Integer(-7652811115507331456)\n",
      "input=Identifier(\"Gxj4twq\")\n",
      "input=Comment(\"#}5[-o`AHa#ea`~<_%`p`LL=eF{`6I'&\")\n",
      "input=Comment(\"&]?\\\\\\\"'#H\")\n",
      "input=Comment(\"?.s=t*iY{$$3<<o*`aZ&S:(`=c%u{?\")\n",
      "input=Identifier(\"M3mD81J54lMIpF1721RNE425mK\")\n",
      "input=Comment(\".{1\")\n",
      "input=Identifier(\"w0k88TctQejlYvNz1508eKf2edgE\")\n",
      "input=Operator(\"(\")\n",
      "input=Identifier(\"q3\")\n",
      "input=Integer(9023529324714526922)\n",
      "input=StringLiteral(\"RG}XZsAmg`y*lZIC:Ohj-$q.0M\")\n",
      "input=StringLiteral(\"l4'X?$V,S?'e&*_E3tr\")\n",
      "input=Operator(\"*\")\n",
      "input=StringLiteral(\"U\")\n",
      "input=Identifier(\"cqkU0cx7xLNmQNKhC7rp21310C1Jnd\")\n",
      "input=StringLiteral(\"b6`;@</-SH^/<E=^>w/hj |7.$.=\")\n",
      "input=Operator(\"+\")\n",
      "input=StringLiteral(\"TZ&R^<Ln7J?kEk)S-)>/\")\n",
      "input=Comment(\"Xj:vM{e>/|#\")\n",
      "input=Integer(-6368670201394589013)\n",
      "input=Comment(\"=\")\n",
      "input=Identifier(\"yA0BrDl4F4m3O\")\n",
      "input=Comment(\"\")\n",
      "input=StringLiteral(\"q{E}<<?}e9j$\")\n",
      "input=StringLiteral(\"w/.YcMD9~DMu36`_b:OR.WpAYY>k?C\")\n",
      "input=Operator(\"-\")\n",
      "input=StringLiteral(\"VU.Y?VGW\")\n",
      "input=Comment(\"{\\\"etpPr`=45$\\\\\")\n",
      "input=Comment(\"+:`/\")\n",
      "input=Identifier(\"aKR7lhPR\")\n",
      "input=Identifier(\"SzR3M\")\n",
      "input=Comment(\"o/V/ZP&.q[\\\"/Ksl`$ZUuboNr`c\")\n",
      "input=StringLiteral(\"q-<:%QG^^aRpc%c/K}:G'<&e\")\n",
      "input=Identifier(\"dx0mGW5a56\")\n",
      "input=Identifier(\"C9e7oAXT86nxcf1g86n6jDj04a\")\n",
      "input=Comment(\"b\\\".PR~\\\\{ \\\\Z$'}rp~\\\\\")\n",
      "input=Identifier(\"VdW4l8ga4KhGhYyRLtD6a3f\")\n",
      "input=StringLiteral(\"K8;OnP]mo0.{%-&}r\")\n",
      "input=Operator(\"=\")\n",
      "input=Comment(\"EO=M<~*/fH,el4\")\n",
      "input=StringLiteral(\"EQ`_-#@u:iR\")\n",
      "input=Comment(\"#*'M[)Qtzc&\")\n",
      "input=StringLiteral(\"$^ql%hDe4/U',*7>Pn&>I.:?=7jNa}\")\n",
      "input=Identifier(\"i\")\n",
      "input=Operator(\"-\")\n",
      "input=Operator(\"*\")\n",
      "input=Integer(1591183249591596070)\n",
      "input=Integer(-7400473802862976640)\n",
      "input=Operator(\"-\")\n",
      "input=Integer(-6563383029713679541)\n",
      "input=Identifier(\"YJVNCCZjeYYno0nmkVuYWi94d\")\n",
      "input=Integer(-4574453652785043130)\n",
      "input=Integer(-4770697891662599905)\n",
      "input=StringLiteral(\":<WiOk:$N&A:1=opm_*!R/\")\n",
      "input=Identifier(\"KZ8I3NY0nkP08cz50dMmTCV7wlgeH\")\n",
      "input=Operator(\"*\")\n",
      "input=Comment(\"}78\\\"iqsjY\")\n",
      "input=Comment(\"2`:@\\\\<BusQ8-u\\\\srH7\\\"_8V/-:\\\\\")\n",
      "input=Integer(357750514457598346)\n",
      "input=Operator(\"(\")\n",
      "input=StringLiteral(\"hE$%*u/4zWyveKLDdNuwR?K}r_C\")\n",
      "input=StringLiteral(\"v`I5`3UE\")\n",
      "input=Operator(\")\")\n",
      "input=StringLiteral(\"`w\")\n",
      "input=Operator(\"*\")\n",
      "input=Integer(-5425257788469519075)\n",
      "input=StringLiteral(\"5.H*[A8TDA={u8a?)bBpL;'s?{7\")\n",
      "input=Integer(-3749444598382213353)\n",
      "input=Integer(2738836581164370115)\n",
      "input=Comment(\"%&br*H:S{z/?\\\"CqD%71&F\")\n",
      "input=Comment(\"EF/@/Qg2J{/{g_%'\\\"j/IT&\")\n",
      "input=StringLiteral(\"Gc`q[.L# &%%{9?!&o:=\")\n",
      "input=Identifier(\"YW\")\n",
      "input=Operator(\"-\")\n",
      "input=Operator(\"+\")\n",
      "input=Integer(130226500234403823)\n",
      "input=StringLiteral(\" FUc}{qi)8wd'/[m^S'P^xHYdRm\")\n",
      "input=Operator(\"(\")\n",
      "input=Comment(\"$R=v\")\n",
      "input=StringLiteral(\"h2`N\")\n",
      "input=Identifier(\"U7414xY4urnR2U6bbU5zOATp9er\")\n",
      "input=Operator(\"(\")\n",
      "input=Operator(\"=\")\n",
      "input=StringLiteral(\"7.{%$3c2Y;\")\n",
      "input=Integer(8452070445771095524)\n",
      "input=StringLiteral(\"s;?.=HV0?)'7?}G/!MH=sPG\")\n",
      "input=StringLiteral(\"KuH:'^V\")\n",
      "input=StringLiteral(\"[?gPa.?2[E*5F7'`X@OEwuL\")\n",
      "input=Comment(\"%E#\")\n",
      "input=Integer(-7576084165569638482)\n",
      "input=Integer(5020090820066201910)\n",
      "input=StringLiteral(\":Du??#n1\")\n",
      "input=Comment(\"=\\\\<&L~[:.{wh($?E_$\")\n",
      "input=Integer(-6993064496301679964)\n",
      "input=StringLiteral(\"<:(o&$]/^^\")\n",
      "input=Integer(4972015458876010671)\n",
      "input=Operator(\")\")\n",
      "input=Integer(-7938332718698690637)\n",
      "input=StringLiteral(\"`I<i5j1%A`B/U[67Dya.*)_R<{jY3K\")\n",
      "input=StringLiteral(\"tL'SpyWuF*O.@Z:&9eP.r*\")\n",
      "input=Comment(\"2%!?Wd/1B!\\\"mpsnt')laIy-5L(?r0\")\n",
      "input=StringLiteral(\")tj.a0osB}@D`Oi/VJ{L#xPd`R{\")\n",
      "input=Operator(\"(\")\n",
      "input=Integer(-8669184879734294987)\n",
      "input=Comment(\"K:_x&36K%\\\\pT\")\n",
      "input=Operator(\"/\")\n",
      "input=Operator(\"(\")\n",
      "input=Identifier(\"Ee41hgeXnKzR2l1\")\n",
      "input=Operator(\"*\")\n",
      "input=Identifier(\"fBiI11xvtv9O4RP1RTnr9W\")\n",
      "input=Identifier(\"k9u8cirrKurir8Z7a2QStqZ9w4L5v\")\n",
      "input=Integer(8626597973553086818)\n",
      "input=Operator(\"(\")\n",
      "input=StringLiteral(\"<!=v{\")\n",
      "input=Operator(\"(\")\n",
      "input=Integer(3325036444428992078)\n",
      "input=StringLiteral(\"`VL@`Jx\")\n",
      "input=StringLiteral(\"U/J~?2.B?*j\")\n",
      "input=Integer(-5453524217208289566)\n",
      "input=Identifier(\"R2sOF63u02C84ZL65Hjd\")\n",
      "input=Comment(\"`(\")\n",
      "input=StringLiteral(\"\")\n",
      "input=StringLiteral(\"8pp1l.\")\n",
      "input=Identifier(\"knkoBB8vapBq\")\n",
      "input=Integer(3396786360568379486)\n",
      "input=StringLiteral(\":)}/:5=C'[j$I/=K\")\n",
      "input=Integer(4498683703685745685)\n",
      "input=Integer(4593743617077076298)\n",
      "input=Operator(\"-\")\n",
      "input=Operator(\"+\")\n",
      "input=Integer(4945018329834009713)\n",
      "input=StringLiteral(\"H4/T18'/D7:.D=+%OZ`z.wXe0>D.&(\")\n",
      "input=Integer(-1977611975530147837)\n",
      "input=Comment(\"1*%Hin:gS&Oh/<t+wN\\\"\")\n",
      "input=Operator(\"*\")\n",
      "input=Integer(-9206341032086878184)\n",
      "input=Comment(\"u\\\" e4U/;/E\\\\\")\n",
      "input=Operator(\"=\")\n",
      "input=Operator(\"+\")\n",
      "\n",
      "\n",
      "successes:\n",
      "    adding_and_then_removing_an_item_from_the_cart_leaves_the_cart_unchanged\n",
      "    prop_parse_format_idempotent\n",
      "    test_parse_number\n",
      "\n",
      "test result: ok. 3 passed; 0 failed; 0 ignored; 0 measured; 0 filtered out; finished in 0.18s\n",
      "\n"
     ]
    }
   ],
   "source": [
    "{ cargo test --release -- --show-output } | Invoke-Block"
   ]
  },
  {
   "cell_type": "markdown",
   "metadata": {},
   "source": [
    "### execute the binary in release mode"
   ]
  },
  {
   "cell_type": "code",
   "execution_count": null,
   "metadata": {
    "dotnet_interactive": {
     "language": "pwsh"
    },
    "polyglot_notebook": {
     "kernelName": "pwsh"
    }
   },
   "outputs": [
    {
     "name": "stdout",
     "output_type": "stream",
     "text": [
      "app=test\n"
     ]
    }
   ],
   "source": [
    "{ . $ScriptDir/../../../../workspace/target/release/spiral_temp_test$(_exe) } | Invoke-Block"
   ]
  }
 ],
 "metadata": {},
 "nbformat": 4,
 "nbformat_minor": 5
}