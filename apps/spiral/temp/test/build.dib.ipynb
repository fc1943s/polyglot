{
 "cells": [
  {
   "cell_type": "code",
   "execution_count": null,
   "metadata": {
    "dotnet_interactive": {
     "language": "pwsh"
    },
    "polyglot_notebook": {
     "kernelName": "pwsh"
    }
   },
   "outputs": [],
   "source": [
    ". ../../../../scripts/nbs_header.ps1\n",
    ". ../../../../scripts/core.ps1"
   ]
  },
  {
   "cell_type": "code",
   "execution_count": null,
   "metadata": {
    "dotnet_interactive": {
     "language": "pwsh"
    },
    "polyglot_notebook": {
     "kernelName": "pwsh"
    }
   },
   "outputs": [
    {
     "name": "stdout",
     "output_type": "stream",
     "text": [
      "00:00:00 #1 [Debug] runWithTimeoutAsync / timeout: 60\r\n",
      "00:00:00 #2 [Debug] buildFile / takeWhileInclusive / fsxContent:  / errors: [] / typeErrorCount: 0\r\n",
      "00:00:00 #3 [Debug] buildFile / takeWhileInclusive / fsxContent:  / errors: [] / typeErrorCount: 0\r\n",
      "00:00:00 #4 [Debug] sendJson / port: 13805 / json: {\"FileOpen\":{\"spiText\":\"inl app () =\\r\\n    \\u0022test\\u0022 |\\u003E console.write_line\\r\\n    0i32\\r\\n\\r\\ninl main () =\\r\\n    print_static \\u0022\\u003Ctest\\u003E\\u0022\\r\\n\\r\\n    app\\r\\n    |\\u003E dyn\\r\\n    |\\u003E ignore\\r\\n\\r\\n    print_static \\u0022\\u003C/test\\u003E\\u0022\\r\\n\",\"uri\":\"file:///c:/home/git/polyglot/apps/spiral/temp/test/test.spi\"}} / result.Length:\r\n",
      "00:00:00 #5 [Debug] sendJson / port: 13805 / json: {\"BuildFile\":{\"backend\":\"Fsharp\",\"uri\":\"file:///c:/home/git/polyglot/apps/spiral/temp/test/test.spi\"}} / result.Length:\r\n",
      "00:00:00 #6 [Debug] buildFile / takeWhileInclusive / fsxContent: let rec closure0 () () : int32 =\r\n",
      "    let v0 : string = \"test\"\r\n",
      "    System.Console.WriteLine v0\r\n",
      "    0\r\n",
      "let v0 : (unit -> int32) = closure0()\r\n",
      "()\r\n",
      " / errors: [] / typeErrorCount: 0\r\n",
      "00:00:00 #7 [Debug] watchWithFilter / Disposing watch stream / filter: FileName, LastWrite\r\n"
     ]
    }
   ],
   "source": [
    "{ . ../../../../apps/spiral/dist/Supervisor$(GetExecutableSuffix) --build-file test.spi test.fsx --timeout 10000 } | Invoke-Block"
   ]
  },
  {
   "cell_type": "code",
   "execution_count": null,
   "metadata": {
    "dotnet_interactive": {
     "language": "pwsh"
    },
    "polyglot_notebook": {
     "kernelName": "pwsh"
    }
   },
   "outputs": [
    {
     "name": "stdout",
     "output_type": "stream",
     "text": [
      "Fable 4.14.0: F# to Rust compiler (status: alpha)\r\n",
      "\r\n",
      "Thanks to the contributor! @johannesegger\r\n",
      "Stand with Ukraine! https://standwithukraine.com.ua/\r\n",
      "\r\n",
      "Parsing test.fsproj...\r\n",
      "Retrieving project options from cache, in case of issues run `dotnet fable clean` or try `--noCache` option.\r\n",
      "Project and references (1 source files) parsed in 190ms\r\n",
      "\r\n",
      "Started Fable compilation...\r\n",
      "\r\n",
      "Fable compilation finished in 1410ms\r\n",
      "\r\n",
      ".\\test.fsx(6,0): (6,2) warning FABLE: For Rust, support for F# static and module do bindings is disabled by default. It can be enabled with the 'static_do_bindings' feature. Use at your own risk!\r\n"
     ]
    }
   ],
   "source": [
    "dotnet fable --optimize --lang rs --extension .rs"
   ]
  },
  {
   "cell_type": "code",
   "execution_count": null,
   "metadata": {
    "dotnet_interactive": {
     "language": "pwsh"
    },
    "polyglot_notebook": {
     "kernelName": "pwsh"
    }
   },
   "outputs": [],
   "source": [
    "(Get-Content test.rs) `\n",
    "    -replace [regex]::Escape(\"),);\"), \"));\" `\n",
    "| Set-Content test.rs"
   ]
  },
  {
   "cell_type": "code",
   "execution_count": null,
   "metadata": {
    "dotnet_interactive": {
     "language": "pwsh"
    },
    "polyglot_notebook": {
     "kernelName": "pwsh"
    }
   },
   "outputs": [],
   "source": [
    "cargo fmt --"
   ]
  },
  {
   "cell_type": "code",
   "execution_count": null,
   "metadata": {
    "dotnet_interactive": {
     "language": "pwsh"
    },
    "polyglot_notebook": {
     "kernelName": "pwsh"
    }
   },
   "outputs": [
    {
     "name": "stdout",
     "output_type": "stream",
     "text": [
      "\u001B[31;1m   Compiling spiral_temp_test v0.0.1 (C:\\home\\git\\polyglot\\apps\\spiral\\temp\\test)\u001B[0m\r\n",
      "\u001B[31;1mwarning: the item `any` is imported redundantly\u001B[0m\r\n",
      "\u001B[31;1m  --> apps\\spiral\\temp\\test\\./main.rs:11:27\u001B[0m\r\n",
      "\u001B[31;1m   |\u001B[0m\r\n",
      "\u001B[31;1m11 | use proptest::arbitrary::{any, Arbitrary};\u001B[0m\r\n",
      "\u001B[31;1m   |                           ^^^\u001B[0m\r\n",
      "\u001B[31;1m12 | use proptest::prelude::*;\u001B[0m\r\n",
      "\u001B[31;1m   |     -------------------- the item `any` is already imported here\u001B[0m\r\n",
      "\u001B[31;1m   |\u001B[0m\r\n",
      "\u001B[31;1m   = note: `#[warn(unused_imports)]` on by default\u001B[0m\r\n",
      "\u001B[31;1m\u001B[0m\r\n",
      "\u001B[31;1mwarning: the item `Arbitrary` is imported redundantly\u001B[0m\r\n",
      "\u001B[31;1m  --> apps\\spiral\\temp\\test\\./main.rs:11:32\u001B[0m\r\n",
      "\u001B[31;1m   |\u001B[0m\r\n",
      "\u001B[31;1m11 | use proptest::arbitrary::{any, Arbitrary};\u001B[0m\r\n",
      "\u001B[31;1m   |                                ^^^^^^^^^\u001B[0m\r\n",
      "\u001B[31;1m12 | use proptest::prelude::*;\u001B[0m\r\n",
      "\u001B[31;1m   |     -------------------- the item `Arbitrary` is already imported here\u001B[0m\r\n",
      "\u001B[31;1m\u001B[0m\r\n",
      "\u001B[31;1mwarning: unused import: `info`\u001B[0m\r\n",
      "\u001B[31;1m   --> apps\\spiral\\temp\\test\\./main.rs:190:15\u001B[0m\r\n",
      "\u001B[31;1m    |\u001B[0m\r\n",
      "\u001B[31;1m190 | use tracing::{info, Level};\u001B[0m\r\n",
      "\u001B[31;1m    |               ^^^^\u001B[0m\r\n",
      "\u001B[31;1m\u001B[0m\r\n",
      "\u001B[31;1mwarning: associated items `new`, `add_item`, and `remove_item` are never used\u001B[0m\r\n",
      "\u001B[31;1m  --> apps\\spiral\\temp\\test\\./main.rs:46:8\u001B[0m\r\n",
      "\u001B[31;1m   |\u001B[0m\r\n",
      "\u001B[31;1m45 | impl Cart {\u001B[0m\r\n",
      "\u001B[31;1m   | --------- associated items in this implementation\u001B[0m\r\n",
      "\u001B[31;1m46 |     fn new() -> Cart {\u001B[0m\r\n",
      "\u001B[31;1m   |        ^^^\u001B[0m\r\n",
      "\u001B[31;1m...\u001B[0m\r\n",
      "\u001B[31;1m50 |     fn add_item(&mut self, item: Item) {\u001B[0m\r\n",
      "\u001B[31;1m   |        ^^^^^^^^\u001B[0m\r\n",
      "\u001B[31;1m...\u001B[0m\r\n",
      "\u001B[31;1m56 |     fn remove_item(&mut self, item: &Item) {\u001B[0m\r\n",
      "\u001B[31;1m   |        ^^^^^^^^^^^\u001B[0m\r\n",
      "\u001B[31;1m   |\u001B[0m\r\n",
      "\u001B[31;1m   = note: `#[warn(dead_code)]` on by default\u001B[0m\r\n",
      "\u001B[31;1m\u001B[0m\r\n",
      "\u001B[31;1mwarning: function `parse_comment` is never used\u001B[0m\r\n",
      "\u001B[31;1m   --> apps\\spiral\\temp\\test\\./main.rs:124:4\u001B[0m\r\n",
      "\u001B[31;1m    |\u001B[0m\r\n",
      "\u001B[31;1m124 | fn parse_comment(input: &str) -> IResult<&str, SpiralToken> {\u001B[0m\r\n",
      "\u001B[31;1m    |    ^^^^^^^^^^^^^\u001B[0m\r\n",
      "\u001B[31;1m\u001B[0m\r\n",
      "\u001B[31;1mwarning: function `parse_string` is never used\u001B[0m\r\n",
      "\u001B[31;1m   --> apps\\spiral\\temp\\test\\./main.rs:130:4\u001B[0m\r\n",
      "\u001B[31;1m    |\u001B[0m\r\n",
      "\u001B[31;1m130 | fn parse_string(input: &str) -> IResult<&str, SpiralToken> {\u001B[0m\r\n",
      "\u001B[31;1m    |    ^^^^^^^^^^^^\u001B[0m\r\n",
      "\u001B[31;1m\u001B[0m\r\n",
      "\u001B[31;1mwarning: function `parse_identifier` is never used\u001B[0m\r\n",
      "\u001B[31;1m   --> apps\\spiral\\temp\\test\\./main.rs:145:4\u001B[0m\r\n",
      "\u001B[31;1m    |\u001B[0m\r\n",
      "\u001B[31;1m145 | fn parse_identifier(input: &str) -> IResult<&str, SpiralToken> {\u001B[0m\r\n",
      "\u001B[31;1m    |    ^^^^^^^^^^^^^^^^\u001B[0m\r\n",
      "\u001B[31;1m\u001B[0m\r\n",
      "\u001B[31;1mwarning: function `parse_integer` is never used\u001B[0m\r\n",
      "\u001B[31;1m   --> apps\\spiral\\temp\\test\\./main.rs:157:4\u001B[0m\r\n",
      "\u001B[31;1m    |\u001B[0m\r\n",
      "\u001B[31;1m157 | fn parse_integer(input: &str) -> IResult<&str, SpiralToken> {\u001B[0m\r\n",
      "\u001B[31;1m    |    ^^^^^^^^^^^^^\u001B[0m\r\n",
      "\u001B[31;1m\u001B[0m\r\n",
      "\u001B[31;1mwarning: function `parse_operator` is never used\u001B[0m\r\n",
      "\u001B[31;1m   --> apps\\spiral\\temp\\test\\./main.rs:165:4\u001B[0m\r\n",
      "\u001B[31;1m    |\u001B[0m\r\n",
      "\u001B[31;1m165 | fn parse_operator(input: &str) -> IResult<&str, SpiralToken> {\u001B[0m\r\n",
      "\u001B[31;1m    |    ^^^^^^^^^^^^^^\u001B[0m\r\n",
      "\u001B[31;1m\u001B[0m\r\n",
      "\u001B[31;1mwarning: function `parse_token` is never used\u001B[0m\r\n",
      "\u001B[31;1m   --> apps\\spiral\\temp\\test\\./main.rs:170:4\u001B[0m\r\n",
      "\u001B[31;1m    |\u001B[0m\r\n",
      "\u001B[31;1m170 | fn parse_token(input: &str) -> IResult<&str, SpiralToken> {\u001B[0m\r\n",
      "\u001B[31;1m    |    ^^^^^^^^^^^\u001B[0m\r\n",
      "\u001B[31;1m\u001B[0m\r\n",
      "\u001B[31;1mwarning: function `format_token` is never used\u001B[0m\r\n",
      "\u001B[31;1m   --> apps\\spiral\\temp\\test\\./main.rs:180:4\u001B[0m\r\n",
      "\u001B[31;1m    |\u001B[0m\r\n",
      "\u001B[31;1m180 | fn format_token(token: &SpiralToken) -> String {\u001B[0m\r\n",
      "\u001B[31;1m    |    ^^^^^^^^^^^^\u001B[0m\r\n",
      "\u001B[31;1m\u001B[0m\r\n",
      "\u001B[31;1mwarning: function `parse_expression` is never used\u001B[0m\r\n",
      "\u001B[31;1m   --> apps\\spiral\\temp\\test\\./main.rs:213:4\u001B[0m\r\n",
      "\u001B[31;1m    |\u001B[0m\r\n",
      "\u001B[31;1m213 | fn parse_expression(input: &str) -> IResult<&str, SpiralToken> {\u001B[0m\r\n",
      "\u001B[31;1m    |    ^^^^^^^^^^^^^^^^\u001B[0m\r\n",
      "\u001B[31;1m\u001B[0m\r\n",
      "\u001B[31;1mwarning: `spiral_temp_test` (bin \"spiral_temp_test\") generated 12 warnings (run `cargo fix --bin \"spiral_temp_test\"` to apply 1 suggestion)\u001B[0m\r\n",
      "\u001B[31;1m    Finished `release` profile [optimized] target(s) in 12.53s\u001B[0m\r\n"
     ]
    }
   ],
   "source": [
    "cargo build --release"
   ]
  },
  {
   "cell_type": "code",
   "execution_count": null,
   "metadata": {
    "dotnet_interactive": {
     "language": "pwsh"
    },
    "polyglot_notebook": {
     "kernelName": "pwsh"
    }
   },
   "outputs": [
    {
     "name": "stdout",
     "output_type": "stream",
     "text": [
      "\u001B[31;1m   Compiling spiral_temp_test v0.0.1 (C:\\home\\git\\polyglot\\apps\\spiral\\temp\\test)\u001B[0m\r\n",
      "\u001B[31;1mwarning: the item `any` is imported redundantly\u001B[0m\r\n",
      "\u001B[31;1m  --> apps\\spiral\\temp\\test\\./main.rs:11:27\u001B[0m\r\n",
      "\u001B[31;1m   |\u001B[0m\r\n",
      "\u001B[31;1m11 | use proptest::arbitrary::{any, Arbitrary};\u001B[0m\r\n",
      "\u001B[31;1m   |                           ^^^\u001B[0m\r\n",
      "\u001B[31;1m12 | use proptest::prelude::*;\u001B[0m\r\n",
      "\u001B[31;1m   |     -------------------- the item `any` is already imported here\u001B[0m\r\n",
      "\u001B[31;1m   |\u001B[0m\r\n",
      "\u001B[31;1m   = note: `#[warn(unused_imports)]` on by default\u001B[0m\r\n",
      "\u001B[31;1m\u001B[0m\r\n",
      "\u001B[31;1mwarning: the item `Arbitrary` is imported redundantly\u001B[0m\r\n",
      "\u001B[31;1m  --> apps\\spiral\\temp\\test\\./main.rs:11:32\u001B[0m\r\n",
      "\u001B[31;1m   |\u001B[0m\r\n",
      "\u001B[31;1m11 | use proptest::arbitrary::{any, Arbitrary};\u001B[0m\r\n",
      "\u001B[31;1m   |                                ^^^^^^^^^\u001B[0m\r\n",
      "\u001B[31;1m12 | use proptest::prelude::*;\u001B[0m\r\n",
      "\u001B[31;1m   |     -------------------- the item `Arbitrary` is already imported here\u001B[0m\r\n",
      "\u001B[31;1m\u001B[0m\r\n",
      "\u001B[31;1mwarning: `spiral_temp_test` (bin \"spiral_temp_test\" test) generated 2 warnings\u001B[0m\r\n",
      "\u001B[31;1m    Finished `release` profile [optimized] target(s) in 26.35s\u001B[0m\r\n",
      "\u001B[31;1m     Running unittests main.rs (C:\\home\\git\\polyglot\\target\\release\\deps\\spiral_temp_test-b035f1bd4eb25d0e.exe)\u001B[0m\r\n",
      "\r\n",
      "running 3 tests\r\n",
      "test test_parse_number ... ok\r\n",
      "\u001B[2m2024-03-18T10:56:28.828394Z\u001B[0m \u001B[32m INFO\u001B[0m \u001B[2mspiral_temp_test\u001B[0m\u001B[2m:\u001B[0m input=Integer(-3790664577244857790)\r\n",
      "\u001B[2m2024-03-18T10:56:28.828536Z\u001B[0m \u001B[32m INFO\u001B[0m \u001B[2mspiral_temp_test\u001B[0m\u001B[2m:\u001B[0m input=Comment(\".l'H.?\\\\`/inA8x=o{<\\\\3 LH*~\\\\4nX\")\r\n",
      "\u001B[2m2024-03-18T10:56:28.828649Z\u001B[0m \u001B[32m INFO\u001B[0m \u001B[2mspiral_temp_test\u001B[0m\u001B[2m:\u001B[0m input=Comment(\"{&xH*c\")\r\n",
      "\u001B[2m2024-03-18T10:56:28.828774Z\u001B[0m \u001B[32m INFO\u001B[0m \u001B[2mspiral_temp_test\u001B[0m\u001B[2m:\u001B[0m input=StringLiteral(\"bPqG@t{:&j.=\")\r\n",
      "\u001B[2m2024-03-18T10:56:28.828856Z\u001B[0m \u001B[32m INFO\u001B[0m \u001B[2mspiral_temp_test\u001B[0m\u001B[2m:\u001B[0m input=Comment(\"t<Pax<0`-b(R\")\r\n",
      "\u001B[2m2024-03-18T10:56:28.828977Z\u001B[0m \u001B[32m INFO\u001B[0m \u001B[2mspiral_temp_test\u001B[0m\u001B[2m:\u001B[0m input=Comment(\"{Jq\")\r\n",
      "\u001B[2m2024-03-18T10:56:28.829119Z\u001B[0m \u001B[32m INFO\u001B[0m \u001B[2mspiral_temp_test\u001B[0m\u001B[2m:\u001B[0m input=Comment(\"'q''B<**K{FAI*\\\"nH ?{G':Q&s\\\\7\")\r\n",
      "\u001B[2m2024-03-18T10:56:28.829205Z\u001B[0m \u001B[32m INFO\u001B[0m \u001B[2mspiral_temp_test\u001B[0m\u001B[2m:\u001B[0m input=Identifier(\"B\")\r\n",
      "\u001B[2m2024-03-18T10:56:28.829342Z\u001B[0m \u001B[32m INFO\u001B[0m \u001B[2mspiral_temp_test\u001B[0m\u001B[2m:\u001B[0m input=StringLiteral(\"b&gaWQI3\")\r\n",
      "\u001B[2m2024-03-18T10:56:28.829416Z\u001B[0m \u001B[32m INFO\u001B[0m \u001B[2mspiral_temp_test\u001B[0m\u001B[2m:\u001B[0m input=Operator(\"+\")\r\n",
      "\u001B[2m2024-03-18T10:56:28.829462Z\u001B[0m \u001B[32m INFO\u001B[0m \u001B[2mspiral_temp_test\u001B[0m\u001B[2m:\u001B[0m input=Integer(2925338840335767903)\r\n",
      "\u001B[2m2024-03-18T10:56:28.829522Z\u001B[0m \u001B[32m INFO\u001B[0m \u001B[2mspiral_temp_test\u001B[0m\u001B[2m:\u001B[0m input=Comment(\"{%Ik<X\\\"\\\\J1$&_T<`*2'Va&q'&l=.+k\")\r\n",
      "\u001B[2m2024-03-18T10:56:28.829601Z\u001B[0m \u001B[32m INFO\u001B[0m \u001B[2mspiral_temp_test\u001B[0m\u001B[2m:\u001B[0m input=StringLiteral(\"2=?,P}?'<7DWs:8n+|C%~vE'9$p6\")\r\n",
      "\u001B[2m2024-03-18T10:56:28.829658Z\u001B[0m \u001B[32m INFO\u001B[0m \u001B[2mspiral_temp_test\u001B[0m\u001B[2m:\u001B[0m input=Integer(-8030854305217450194)\r\n",
      "\u001B[2m2024-03-18T10:56:28.829719Z\u001B[0m \u001B[32m INFO\u001B[0m \u001B[2mspiral_temp_test\u001B[0m\u001B[2m:\u001B[0m input=Operator(\"+\")\r\n",
      "\u001B[2m2024-03-18T10:56:28.829785Z\u001B[0m \u001B[32m INFO\u001B[0m \u001B[2mspiral_temp_test\u001B[0m\u001B[2m:\u001B[0m input=StringLiteral(\"Z*=p'JEt=%\")\r\n",
      "\u001B[2m2024-03-18T10:56:28.829833Z\u001B[0m \u001B[32m INFO\u001B[0m \u001B[2mspiral_temp_test\u001B[0m\u001B[2m:\u001B[0m input=Integer(-5411062872841861003)\r\n",
      "\u001B[2m2024-03-18T10:56:28.829883Z\u001B[0m \u001B[32m INFO\u001B[0m \u001B[2mspiral_temp_test\u001B[0m\u001B[2m:\u001B[0m input=Identifier(\"wEEE14\")\r\n",
      "\u001B[2m2024-03-18T10:56:28.829928Z\u001B[0m \u001B[32m INFO\u001B[0m \u001B[2mspiral_temp_test\u001B[0m\u001B[2m:\u001B[0m input=Operator(\"+\")\r\n",
      "\u001B[2m2024-03-18T10:56:28.829994Z\u001B[0m \u001B[32m INFO\u001B[0m \u001B[2mspiral_temp_test\u001B[0m\u001B[2m:\u001B[0m input=Identifier(\"tNt3qV2OB14sgZip\")\r\n",
      "\u001B[2m2024-03-18T10:56:28.830043Z\u001B[0m \u001B[32m INFO\u001B[0m \u001B[2mspiral_temp_test\u001B[0m\u001B[2m:\u001B[0m input=Integer(4019044472056569416)\r\n",
      "\u001B[2m2024-03-18T10:56:28.830109Z\u001B[0m \u001B[32m INFO\u001B[0m \u001B[2mspiral_temp_test\u001B[0m\u001B[2m:\u001B[0m input=Comment(\"Xr<&f<A%hfU\")\r\n",
      "\u001B[2m2024-03-18T10:56:28.830173Z\u001B[0m \u001B[32m INFO\u001B[0m \u001B[2mspiral_temp_test\u001B[0m\u001B[2m:\u001B[0m input=Comment(\"]*@\\\"`Vk[%]^w{{}N\\\\&Nzq\")\r\n",
      "\u001B[2m2024-03-18T10:56:28.830250Z\u001B[0m \u001B[32m INFO\u001B[0m \u001B[2mspiral_temp_test\u001B[0m\u001B[2m:\u001B[0m input=Integer(3868569346407242645)\r\n",
      "\u001B[2m2024-03-18T10:56:28.830302Z\u001B[0m \u001B[32m INFO\u001B[0m \u001B[2mspiral_temp_test\u001B[0m\u001B[2m:\u001B[0m input=Integer(-4253738363015690056)\r\n",
      "\u001B[2m2024-03-18T10:56:28.830346Z\u001B[0m \u001B[32m INFO\u001B[0m \u001B[2mspiral_temp_test\u001B[0m\u001B[2m:\u001B[0m input=Integer(-7355604133694559454)\r\n",
      "\u001B[2m2024-03-18T10:56:28.830415Z\u001B[0m \u001B[32m INFO\u001B[0m \u001B[2mspiral_temp_test\u001B[0m\u001B[2m:\u001B[0m input=Comment(\"s{ah92@}1<PQ:K&,Ngn9R\")\r\n",
      "\u001B[2m2024-03-18T10:56:28.830476Z\u001B[0m \u001B[32m INFO\u001B[0m \u001B[2mspiral_temp_test\u001B[0m\u001B[2m:\u001B[0m input=Identifier(\"CSrSX2hxUe1spI\")\r\n",
      "\u001B[2m2024-03-18T10:56:28.830556Z\u001B[0m \u001B[32m INFO\u001B[0m \u001B[2mspiral_temp_test\u001B[0m\u001B[2m:\u001B[0m input=Comment(\"*{&7^wtC%h<[}{j'*>\\\\%Sfp/.t47t.GD\")\r\n",
      "\u001B[2m2024-03-18T10:56:28.830617Z\u001B[0m \u001B[32m INFO\u001B[0m \u001B[2mspiral_temp_test\u001B[0m\u001B[2m:\u001B[0m input=Integer(6633018429446184859)\r\n",
      "\u001B[2m2024-03-18T10:56:28.830739Z\u001B[0m \u001B[32m INFO\u001B[0m \u001B[2mspiral_temp_test\u001B[0m\u001B[2m:\u001B[0m input=Comment(\"1l<G=NQ*y}fY\\\\S%9_qQ=;a/W:[/u`Z$\")\r\n",
      "\u001B[2m2024-03-18T10:56:28.830826Z\u001B[0m \u001B[32m INFO\u001B[0m \u001B[2mspiral_temp_test\u001B[0m\u001B[2m:\u001B[0m input=Operator(\"/\")\r\n",
      "\u001B[2m2024-03-18T10:56:28.830889Z\u001B[0m \u001B[32m INFO\u001B[0m \u001B[2mspiral_temp_test\u001B[0m\u001B[2m:\u001B[0m input=Comment(\"h1|Pe0X*UVHB\\\"`<OkZ\\\\%@X4]<\")\r\n",
      "\u001B[2m2024-03-18T10:56:28.830930Z\u001B[0m \u001B[32m INFO\u001B[0m \u001B[2mspiral_temp_test\u001B[0m\u001B[2m:\u001B[0m input=Integer(-2472380693368061)\r\n",
      "\u001B[2m2024-03-18T10:56:28.830963Z\u001B[0m \u001B[32m INFO\u001B[0m \u001B[2mspiral_temp_test\u001B[0m\u001B[2m:\u001B[0m input=Identifier(\"yj\")\r\n",
      "\u001B[2m2024-03-18T10:56:28.831009Z\u001B[0m \u001B[32m INFO\u001B[0m \u001B[2mspiral_temp_test\u001B[0m\u001B[2m:\u001B[0m input=Identifier(\"fGYHotjT32Yd2Dif0mRfWz\")\r\n",
      "\u001B[2m2024-03-18T10:56:28.831052Z\u001B[0m \u001B[32m INFO\u001B[0m \u001B[2mspiral_temp_test\u001B[0m\u001B[2m:\u001B[0m input=Operator(\"*\")\r\n",
      "\u001B[2m2024-03-18T10:56:28.831113Z\u001B[0m \u001B[32m INFO\u001B[0m \u001B[2mspiral_temp_test\u001B[0m\u001B[2m:\u001B[0m input=StringLiteral(\"=d{={DT<6.T,hnbRqYwX`&f4_y.s>M\")\r\n",
      "\u001B[2m2024-03-18T10:56:28.831161Z\u001B[0m \u001B[32m INFO\u001B[0m \u001B[2mspiral_temp_test\u001B[0m\u001B[2m:\u001B[0m input=Operator(\")\")\r\n",
      "\u001B[2m2024-03-18T10:56:28.831191Z\u001B[0m \u001B[32m INFO\u001B[0m \u001B[2mspiral_temp_test\u001B[0m\u001B[2m:\u001B[0m input=Integer(2442497290890005231)\r\n",
      "\u001B[2m2024-03-18T10:56:28.831239Z\u001B[0m \u001B[32m INFO\u001B[0m \u001B[2mspiral_temp_test\u001B[0m\u001B[2m:\u001B[0m input=Comment(\".Pql=.N`J$Me?<&$N$\")\r\n",
      "\u001B[2m2024-03-18T10:56:28.831282Z\u001B[0m \u001B[32m INFO\u001B[0m \u001B[2mspiral_temp_test\u001B[0m\u001B[2m:\u001B[0m input=Comment(\"*YUU&dR\\\"]vf/\")\r\n",
      "\u001B[2m2024-03-18T10:56:28.831344Z\u001B[0m \u001B[32m INFO\u001B[0m \u001B[2mspiral_temp_test\u001B[0m\u001B[2m:\u001B[0m input=Integer(4459242496992134436)\r\n",
      "\u001B[2m2024-03-18T10:56:28.831387Z\u001B[0m \u001B[32m INFO\u001B[0m \u001B[2mspiral_temp_test\u001B[0m\u001B[2m:\u001B[0m input=StringLiteral(\"h/:I?]<'$##x\")\r\n",
      "\u001B[2m2024-03-18T10:56:28.831429Z\u001B[0m \u001B[32m INFO\u001B[0m \u001B[2mspiral_temp_test\u001B[0m\u001B[2m:\u001B[0m input=Operator(\"/\")\r\n",
      "\u001B[2m2024-03-18T10:56:28.831463Z\u001B[0m \u001B[32m INFO\u001B[0m \u001B[2mspiral_temp_test\u001B[0m\u001B[2m:\u001B[0m input=Operator(\"*\")\r\n",
      "\u001B[2m2024-03-18T10:56:28.831505Z\u001B[0m \u001B[32m INFO\u001B[0m \u001B[2mspiral_temp_test\u001B[0m\u001B[2m:\u001B[0m input=Operator(\"*\")\r\n",
      "\u001B[2m2024-03-18T10:56:28.831542Z\u001B[0m \u001B[32m INFO\u001B[0m \u001B[2mspiral_temp_test\u001B[0m\u001B[2m:\u001B[0m input=StringLiteral(\"*\")\r\n",
      "\u001B[2m2024-03-18T10:56:28.831582Z\u001B[0m \u001B[32m INFO\u001B[0m \u001B[2mspiral_temp_test\u001B[0m\u001B[2m:\u001B[0m input=Integer(7678766098757153204)\r\n",
      "\u001B[2m2024-03-18T10:56:28.831688Z\u001B[0m \u001B[32m INFO\u001B[0m \u001B[2mspiral_temp_test\u001B[0m\u001B[2m:\u001B[0m input=StringLiteral(\"[*6:Twc{?(r%*.K+GnagKpkR3{f\")\r\n",
      "\u001B[2m2024-03-18T10:56:28.831774Z\u001B[0m \u001B[32m INFO\u001B[0m \u001B[2mspiral_temp_test\u001B[0m\u001B[2m:\u001B[0m input=Integer(5499461026380042962)\r\n",
      "\u001B[2m2024-03-18T10:56:28.831821Z\u001B[0m \u001B[32m INFO\u001B[0m \u001B[2mspiral_temp_test\u001B[0m\u001B[2m:\u001B[0m input=Integer(1335857261094129463)\r\n",
      "\u001B[2m2024-03-18T10:56:28.831871Z\u001B[0m \u001B[32m INFO\u001B[0m \u001B[2mspiral_temp_test\u001B[0m\u001B[2m:\u001B[0m input=Identifier(\"QaH85LlRJ3\")\r\n",
      "\u001B[2m2024-03-18T10:56:28.831934Z\u001B[0m \u001B[32m INFO\u001B[0m \u001B[2mspiral_temp_test\u001B[0m\u001B[2m:\u001B[0m input=Comment(\"w$2&'=I=:W'?/\\\"%]}M7l!i\")\r\n",
      "\u001B[2m2024-03-18T10:56:28.831989Z\u001B[0m \u001B[32m INFO\u001B[0m \u001B[2mspiral_temp_test\u001B[0m\u001B[2m:\u001B[0m input=Integer(3219423384091828629)\r\n",
      "\u001B[2m2024-03-18T10:56:28.832046Z\u001B[0m \u001B[32m INFO\u001B[0m \u001B[2mspiral_temp_test\u001B[0m\u001B[2m:\u001B[0m input=Comment(\"n\\\"@1\")\r\n",
      "\u001B[2m2024-03-18T10:56:28.832095Z\u001B[0m \u001B[32m INFO\u001B[0m \u001B[2mspiral_temp_test\u001B[0m\u001B[2m:\u001B[0m input=Operator(\"*\")\r\n",
      "\u001B[2m2024-03-18T10:56:28.832129Z\u001B[0m \u001B[32m INFO\u001B[0m \u001B[2mspiral_temp_test\u001B[0m\u001B[2m:\u001B[0m input=Integer(4983473529381779517)\r\n",
      "\u001B[2m2024-03-18T10:56:28.832172Z\u001B[0m \u001B[32m INFO\u001B[0m \u001B[2mspiral_temp_test\u001B[0m\u001B[2m:\u001B[0m input=Operator(\"(\")\r\n",
      "\u001B[2m2024-03-18T10:56:28.832230Z\u001B[0m \u001B[32m INFO\u001B[0m \u001B[2mspiral_temp_test\u001B[0m\u001B[2m:\u001B[0m input=StringLiteral(\"bpWA,:x0kH=$`P$!4A'Ez$w0bZu\")\r\n",
      "\u001B[2m2024-03-18T10:56:28.832295Z\u001B[0m \u001B[32m INFO\u001B[0m \u001B[2mspiral_temp_test\u001B[0m\u001B[2m:\u001B[0m input=StringLiteral(\"e>=*UL[=l%YFz0?&G({`)AgJ+\")\r\n",
      "\u001B[2m2024-03-18T10:56:28.832346Z\u001B[0m \u001B[32m INFO\u001B[0m \u001B[2mspiral_temp_test\u001B[0m\u001B[2m:\u001B[0m input=Operator(\")\")\r\n",
      "\u001B[2m2024-03-18T10:56:28.832381Z\u001B[0m \u001B[32m INFO\u001B[0m \u001B[2mspiral_temp_test\u001B[0m\u001B[2m:\u001B[0m input=Integer(-5794026037829531116)\r\n",
      "\u001B[2m2024-03-18T10:56:28.832431Z\u001B[0m \u001B[32m INFO\u001B[0m \u001B[2mspiral_temp_test\u001B[0m\u001B[2m:\u001B[0m input=Identifier(\"b3kM9g02w5b411BM\")\r\n",
      "\u001B[2m2024-03-18T10:56:28.832481Z\u001B[0m \u001B[32m INFO\u001B[0m \u001B[2mspiral_temp_test\u001B[0m\u001B[2m:\u001B[0m input=StringLiteral(\"nx@f*/VpsU7{w*A<?|?z\")\r\n",
      "\u001B[2m2024-03-18T10:56:28.832544Z\u001B[0m \u001B[32m INFO\u001B[0m \u001B[2mspiral_temp_test\u001B[0m\u001B[2m:\u001B[0m input=Identifier(\"YmcJ1S46S8RsTQ6Whvi51Z85C21gO\")\r\n",
      "\u001B[2m2024-03-18T10:56:28.832593Z\u001B[0m \u001B[32m INFO\u001B[0m \u001B[2mspiral_temp_test\u001B[0m\u001B[2m:\u001B[0m input=StringLiteral(\"s`4v!X\")\r\n",
      "\u001B[2m2024-03-18T10:56:28.832629Z\u001B[0m \u001B[32m INFO\u001B[0m \u001B[2mspiral_temp_test\u001B[0m\u001B[2m:\u001B[0m input=Integer(-7845445804583708277)\r\n",
      "\u001B[2m2024-03-18T10:56:28.832684Z\u001B[0m \u001B[32m INFO\u001B[0m \u001B[2mspiral_temp_test\u001B[0m\u001B[2m:\u001B[0m input=Identifier(\"x8eNk\")\r\n",
      "\u001B[2m2024-03-18T10:56:28.832717Z\u001B[0m \u001B[32m INFO\u001B[0m \u001B[2mspiral_temp_test\u001B[0m\u001B[2m:\u001B[0m input=Integer(1706475965943915453)\r\n",
      "\u001B[2m2024-03-18T10:56:28.832756Z\u001B[0m \u001B[32m INFO\u001B[0m \u001B[2mspiral_temp_test\u001B[0m\u001B[2m:\u001B[0m input=Operator(\"-\")\r\n",
      "\u001B[2m2024-03-18T10:56:28.832789Z\u001B[0m \u001B[32m INFO\u001B[0m \u001B[2mspiral_temp_test\u001B[0m\u001B[2m:\u001B[0m input=Operator(\"-\")\r\n",
      "\u001B[2m2024-03-18T10:56:28.832823Z\u001B[0m \u001B[32m INFO\u001B[0m \u001B[2mspiral_temp_test\u001B[0m\u001B[2m:\u001B[0m input=Operator(\"-\")\r\n",
      "\u001B[2m2024-03-18T10:56:28.832856Z\u001B[0m \u001B[32m INFO\u001B[0m \u001B[2mspiral_temp_test\u001B[0m\u001B[2m:\u001B[0m input=StringLiteral(\"\")\r\n",
      "\u001B[2m2024-03-18T10:56:28.832901Z\u001B[0m \u001B[32m INFO\u001B[0m \u001B[2mspiral_temp_test\u001B[0m\u001B[2m:\u001B[0m input=Comment(\",\\\":>TH^b\")\r\n",
      "\u001B[2m2024-03-18T10:56:28.832944Z\u001B[0m \u001B[32m INFO\u001B[0m \u001B[2mspiral_temp_test\u001B[0m\u001B[2m:\u001B[0m input=Integer(7830668501589954489)\r\n",
      "\u001B[2m2024-03-18T10:56:28.832989Z\u001B[0m \u001B[32m INFO\u001B[0m \u001B[2mspiral_temp_test\u001B[0m\u001B[2m:\u001B[0m input=Operator(\"+\")\r\n",
      "\u001B[2m2024-03-18T10:56:28.833022Z\u001B[0m \u001B[32m INFO\u001B[0m \u001B[2mspiral_temp_test\u001B[0m\u001B[2m:\u001B[0m input=Integer(-2994158716372641864)\r\n",
      "\u001B[2m2024-03-18T10:56:28.833063Z\u001B[0m \u001B[32m INFO\u001B[0m \u001B[2mspiral_temp_test\u001B[0m\u001B[2m:\u001B[0m input=Identifier(\"wDv5V\")\r\n",
      "\u001B[2m2024-03-18T10:56:28.833095Z\u001B[0m \u001B[32m INFO\u001B[0m \u001B[2mspiral_temp_test\u001B[0m\u001B[2m:\u001B[0m input=Integer(-7602839729599156146)\r\n",
      "\u001B[2m2024-03-18T10:56:28.833146Z\u001B[0m \u001B[32m INFO\u001B[0m \u001B[2mspiral_temp_test\u001B[0m\u001B[2m:\u001B[0m input=Comment(\"Y:R'`\\\"&|_|{*\\\"9kJNDR=q2u'`&/{W\")\r\n",
      "\u001B[2m2024-03-18T10:56:28.833191Z\u001B[0m \u001B[32m INFO\u001B[0m \u001B[2mspiral_temp_test\u001B[0m\u001B[2m:\u001B[0m input=Comment(\"]Ot\")\r\n",
      "\u001B[2m2024-03-18T10:56:28.833240Z\u001B[0m \u001B[32m INFO\u001B[0m \u001B[2mspiral_temp_test\u001B[0m\u001B[2m:\u001B[0m input=Comment(\"c%=${}\\\"{\\\\Q<%:^<mz*U8F3&s\")\r\n",
      "\u001B[2m2024-03-18T10:56:28.833299Z\u001B[0m \u001B[32m INFO\u001B[0m \u001B[2mspiral_temp_test\u001B[0m\u001B[2m:\u001B[0m input=StringLiteral(\"AV~$S+.*dmYB%'kb*8\")\r\n",
      "\u001B[2m2024-03-18T10:56:28.833364Z\u001B[0m \u001B[32m INFO\u001B[0m \u001B[2mspiral_temp_test\u001B[0m\u001B[2m:\u001B[0m input=StringLiteral(\"'=wM!PSz7B)b./.${.U!]S<%_1\")\r\n",
      "\u001B[2m2024-03-18T10:56:28.833421Z\u001B[0m \u001B[32m INFO\u001B[0m \u001B[2mspiral_temp_test\u001B[0m\u001B[2m:\u001B[0m input=Comment(\"E\\\"v&=_>[&J(>(}\")\r\n",
      "\u001B[2m2024-03-18T10:56:28.833460Z\u001B[0m \u001B[32m INFO\u001B[0m \u001B[2mspiral_temp_test\u001B[0m\u001B[2m:\u001B[0m input=Identifier(\"XsFk\")\r\n",
      "\u001B[2m2024-03-18T10:56:28.833495Z\u001B[0m \u001B[32m INFO\u001B[0m \u001B[2mspiral_temp_test\u001B[0m\u001B[2m:\u001B[0m input=Integer(4650747425858279088)\r\n",
      "\u001B[2m2024-03-18T10:56:28.833588Z\u001B[0m \u001B[32m INFO\u001B[0m \u001B[2mspiral_temp_test\u001B[0m\u001B[2m:\u001B[0m input=StringLiteral(\"{20&*'?>h4r8'{+02p/7h%]zbI>vU~\")\r\n",
      "\u001B[2m2024-03-18T10:56:28.833683Z\u001B[0m \u001B[32m INFO\u001B[0m \u001B[2mspiral_temp_test\u001B[0m\u001B[2m:\u001B[0m input=Operator(\"/\")\r\n",
      "\u001B[2m2024-03-18T10:56:28.833734Z\u001B[0m \u001B[32m INFO\u001B[0m \u001B[2mspiral_temp_test\u001B[0m\u001B[2m:\u001B[0m input=Identifier(\"v1IYb7qSZ2tFrU\")\r\n",
      "\u001B[2m2024-03-18T10:56:28.833789Z\u001B[0m \u001B[32m INFO\u001B[0m \u001B[2mspiral_temp_test\u001B[0m\u001B[2m:\u001B[0m input=Comment(\"y*%fI.M<6Mu#X{uxh&:St*`UCtyb($cK\")\r\n",
      "\u001B[2m2024-03-18T10:56:28.833834Z\u001B[0m \u001B[32m INFO\u001B[0m \u001B[2mspiral_temp_test\u001B[0m\u001B[2m:\u001B[0m input=Operator(\"*\")\r\n",
      "\u001B[2m2024-03-18T10:56:28.833882Z\u001B[0m \u001B[32m INFO\u001B[0m \u001B[2mspiral_temp_test\u001B[0m\u001B[2m:\u001B[0m input=Integer(-7543771540703347578)\r\n",
      "\u001B[2m2024-03-18T10:56:28.833949Z\u001B[0m \u001B[32m INFO\u001B[0m \u001B[2mspiral_temp_test\u001B[0m\u001B[2m:\u001B[0m input=Comment(\".s|'>kB,/%&\")\r\n",
      "\u001B[2m2024-03-18T10:56:28.834027Z\u001B[0m \u001B[32m INFO\u001B[0m \u001B[2mspiral_temp_test\u001B[0m\u001B[2m:\u001B[0m input=Identifier(\"u7hMm9PKdt4v1jXtPAR0ZIS25ZC8ZPb\")\r\n",
      "\u001B[2m2024-03-18T10:56:28.834104Z\u001B[0m \u001B[32m INFO\u001B[0m \u001B[2mspiral_temp_test\u001B[0m\u001B[2m:\u001B[0m input=Identifier(\"OqidOnRK\")\r\n",
      "\u001B[2m2024-03-18T10:56:28.834150Z\u001B[0m \u001B[32m INFO\u001B[0m \u001B[2mspiral_temp_test\u001B[0m\u001B[2m:\u001B[0m input=Operator(\"(\")\r\n",
      "\u001B[2m2024-03-18T10:56:28.834213Z\u001B[0m \u001B[32m INFO\u001B[0m \u001B[2mspiral_temp_test\u001B[0m\u001B[2m:\u001B[0m input=Identifier(\"R6qDOe78UGHIL3yQN5m4qdr1\")\r\n",
      "\u001B[2m2024-03-18T10:56:28.834259Z\u001B[0m \u001B[32m INFO\u001B[0m \u001B[2mspiral_temp_test\u001B[0m\u001B[2m:\u001B[0m input=Integer(1862843887593450478)\r\n",
      "\u001B[2m2024-03-18T10:56:28.834296Z\u001B[0m \u001B[32m INFO\u001B[0m \u001B[2mspiral_temp_test\u001B[0m\u001B[2m:\u001B[0m input=Integer(-2799283812687899172)\r\n",
      "\u001B[2m2024-03-18T10:56:28.834337Z\u001B[0m \u001B[32m INFO\u001B[0m \u001B[2mspiral_temp_test\u001B[0m\u001B[2m:\u001B[0m input=Integer(-8692262242287291567)\r\n",
      "\u001B[2m2024-03-18T10:56:28.834378Z\u001B[0m \u001B[32m INFO\u001B[0m \u001B[2mspiral_temp_test\u001B[0m\u001B[2m:\u001B[0m input=Operator(\"/\")\r\n",
      "\u001B[2m2024-03-18T10:56:28.834420Z\u001B[0m \u001B[32m INFO\u001B[0m \u001B[2mspiral_temp_test\u001B[0m\u001B[2m:\u001B[0m input=Integer(3802702273988559846)\r\n",
      "\u001B[2m2024-03-18T10:56:28.834473Z\u001B[0m \u001B[32m INFO\u001B[0m \u001B[2mspiral_temp_test\u001B[0m\u001B[2m:\u001B[0m input=Comment(\">]\\\\;<,0*X)T'M:@:jkE]B\")\r\n",
      "\u001B[2m2024-03-18T10:56:28.834535Z\u001B[0m \u001B[32m INFO\u001B[0m \u001B[2mspiral_temp_test\u001B[0m\u001B[2m:\u001B[0m input=Identifier(\"XG49368uRlKd\")\r\n",
      "\u001B[2m2024-03-18T10:56:28.834593Z\u001B[0m \u001B[32m INFO\u001B[0m \u001B[2mspiral_temp_test\u001B[0m\u001B[2m:\u001B[0m input=Comment(\"A\\\"R6\\\"m.r$ty\")\r\n",
      "\u001B[2m2024-03-18T10:56:28.834634Z\u001B[0m \u001B[32m INFO\u001B[0m \u001B[2mspiral_temp_test\u001B[0m\u001B[2m:\u001B[0m input=Integer(-8777813269904503866)\r\n",
      "\u001B[2m2024-03-18T10:56:28.834680Z\u001B[0m \u001B[32m INFO\u001B[0m \u001B[2mspiral_temp_test\u001B[0m\u001B[2m:\u001B[0m input=Comment(\"*\\\\wW\")\r\n",
      "\u001B[2m2024-03-18T10:56:28.834727Z\u001B[0m \u001B[32m INFO\u001B[0m \u001B[2mspiral_temp_test\u001B[0m\u001B[2m:\u001B[0m input=Identifier(\"dehp1LRy6GC\")\r\n",
      "\u001B[2m2024-03-18T10:56:28.834784Z\u001B[0m \u001B[32m INFO\u001B[0m \u001B[2mspiral_temp_test\u001B[0m\u001B[2m:\u001B[0m input=Identifier(\"IRdeT3hnMFTRUq8xTVk2AWF\")\r\n",
      "\u001B[2m2024-03-18T10:56:28.834837Z\u001B[0m \u001B[32m INFO\u001B[0m \u001B[2mspiral_temp_test\u001B[0m\u001B[2m:\u001B[0m input=Operator(\")\")\r\n",
      "\u001B[2m2024-03-18T10:56:28.834878Z\u001B[0m \u001B[32m INFO\u001B[0m \u001B[2mspiral_temp_test\u001B[0m\u001B[2m:\u001B[0m input=Operator(\"/\")\r\n",
      "\u001B[2m2024-03-18T10:56:28.834929Z\u001B[0m \u001B[32m INFO\u001B[0m \u001B[2mspiral_temp_test\u001B[0m\u001B[2m:\u001B[0m input=Comment(\"1xas|S4%bc\\\\O^p\")\r\n",
      "\u001B[2m2024-03-18T10:56:28.834999Z\u001B[0m \u001B[32m INFO\u001B[0m \u001B[2mspiral_temp_test\u001B[0m\u001B[2m:\u001B[0m input=Identifier(\"E2iRDj3JhBfe9SgVwSazM75I3E6tDb4F\")\r\n",
      "\u001B[2m2024-03-18T10:56:28.835064Z\u001B[0m \u001B[32m INFO\u001B[0m \u001B[2mspiral_temp_test\u001B[0m\u001B[2m:\u001B[0m input=Operator(\"+\")\r\n",
      "\u001B[2m2024-03-18T10:56:28.835116Z\u001B[0m \u001B[32m INFO\u001B[0m \u001B[2mspiral_temp_test\u001B[0m\u001B[2m:\u001B[0m input=Comment(\"v@%:MSOjnx\")\r\n",
      "\u001B[2m2024-03-18T10:56:28.835166Z\u001B[0m \u001B[32m INFO\u001B[0m \u001B[2mspiral_temp_test\u001B[0m\u001B[2m:\u001B[0m input=Identifier(\"pzYKA\")\r\n",
      "\u001B[2m2024-03-18T10:56:28.835207Z\u001B[0m \u001B[32m INFO\u001B[0m \u001B[2mspiral_temp_test\u001B[0m\u001B[2m:\u001B[0m input=Operator(\"(\")\r\n",
      "\u001B[2m2024-03-18T10:56:28.835248Z\u001B[0m \u001B[32m INFO\u001B[0m \u001B[2mspiral_temp_test\u001B[0m\u001B[2m:\u001B[0m input=Integer(3498931791657830809)\r\n",
      "\u001B[2m2024-03-18T10:56:28.835284Z\u001B[0m \u001B[32m INFO\u001B[0m \u001B[2mspiral_temp_test\u001B[0m\u001B[2m:\u001B[0m input=Integer(753602514313204461)\r\n",
      "\u001B[2m2024-03-18T10:56:28.835331Z\u001B[0m \u001B[32m INFO\u001B[0m \u001B[2mspiral_temp_test\u001B[0m\u001B[2m:\u001B[0m input=Identifier(\"T2\")\r\n",
      "\u001B[2m2024-03-18T10:56:28.835397Z\u001B[0m \u001B[32m INFO\u001B[0m \u001B[2mspiral_temp_test\u001B[0m\u001B[2m:\u001B[0m input=StringLiteral(\"$(m@/&b^&]HR/`*'<Nm\")\r\n",
      "\u001B[2m2024-03-18T10:56:28.835451Z\u001B[0m \u001B[32m INFO\u001B[0m \u001B[2mspiral_temp_test\u001B[0m\u001B[2m:\u001B[0m input=Integer(-5075455143102166782)\r\n",
      "\u001B[2m2024-03-18T10:56:28.835533Z\u001B[0m \u001B[32m INFO\u001B[0m \u001B[2mspiral_temp_test\u001B[0m\u001B[2m:\u001B[0m input=Integer(-3170030296078172605)\r\n",
      "\u001B[2m2024-03-18T10:56:28.835616Z\u001B[0m \u001B[32m INFO\u001B[0m \u001B[2mspiral_temp_test\u001B[0m\u001B[2m:\u001B[0m input=Integer(8720849493119033784)\r\n",
      "\u001B[2m2024-03-18T10:56:28.835676Z\u001B[0m \u001B[32m INFO\u001B[0m \u001B[2mspiral_temp_test\u001B[0m\u001B[2m:\u001B[0m input=Comment(\">k2V:/OeKW%Xu`Ppn^X.CdD\")\r\n",
      "\u001B[2m2024-03-18T10:56:28.835740Z\u001B[0m \u001B[32m INFO\u001B[0m \u001B[2mspiral_temp_test\u001B[0m\u001B[2m:\u001B[0m input=Identifier(\"q53yrD0LJb40U7z52bL3REs\")\r\n",
      "\u001B[2m2024-03-18T10:56:28.835791Z\u001B[0m \u001B[32m INFO\u001B[0m \u001B[2mspiral_temp_test\u001B[0m\u001B[2m:\u001B[0m input=Operator(\"*\")\r\n",
      "\u001B[2m2024-03-18T10:56:28.835839Z\u001B[0m \u001B[32m INFO\u001B[0m \u001B[2mspiral_temp_test\u001B[0m\u001B[2m:\u001B[0m input=Comment(\"}(^8^$]Q1?\")\r\n",
      "\u001B[2m2024-03-18T10:56:28.835929Z\u001B[0m \u001B[32m INFO\u001B[0m \u001B[2mspiral_temp_test\u001B[0m\u001B[2m:\u001B[0m input=Identifier(\"L4YGZB8EL04he2NEvygJ91nfh519VySf\")\r\n",
      "\u001B[2m2024-03-18T10:56:28.836006Z\u001B[0m \u001B[32m INFO\u001B[0m \u001B[2mspiral_temp_test\u001B[0m\u001B[2m:\u001B[0m input=Identifier(\"dat3HIqRViwbHa41W8220kurscJllJsO0\")\r\n",
      "\u001B[2m2024-03-18T10:56:28.836075Z\u001B[0m \u001B[32m INFO\u001B[0m \u001B[2mspiral_temp_test\u001B[0m\u001B[2m:\u001B[0m input=Integer(2843194599290735125)\r\n",
      "\u001B[2m2024-03-18T10:56:28.836146Z\u001B[0m \u001B[32m INFO\u001B[0m \u001B[2mspiral_temp_test\u001B[0m\u001B[2m:\u001B[0m input=Comment(\"*{I<$`^:<$r.xy.B&gE!me{F&a\\\"D\")\r\n",
      "\u001B[2m2024-03-18T10:56:28.836219Z\u001B[0m \u001B[32m INFO\u001B[0m \u001B[2mspiral_temp_test\u001B[0m\u001B[2m:\u001B[0m input=Comment(\".:;^jEmc`?$.G\\\"<M\\\"9DXO\\\"`fOc=\")\r\n",
      "\u001B[2m2024-03-18T10:56:28.836280Z\u001B[0m \u001B[32m INFO\u001B[0m \u001B[2mspiral_temp_test\u001B[0m\u001B[2m:\u001B[0m input=Comment(\"sq\")\r\n",
      "\u001B[2m2024-03-18T10:56:28.836322Z\u001B[0m \u001B[32m INFO\u001B[0m \u001B[2mspiral_temp_test\u001B[0m\u001B[2m:\u001B[0m input=Integer(4008024028774902296)\r\n",
      "\u001B[2m2024-03-18T10:56:28.836376Z\u001B[0m \u001B[32m INFO\u001B[0m \u001B[2mspiral_temp_test\u001B[0m\u001B[2m:\u001B[0m input=StringLiteral(\"'M{:&:ru=_}W&3$Kh$'>xB\")\r\n",
      "\u001B[2m2024-03-18T10:56:28.836430Z\u001B[0m \u001B[32m INFO\u001B[0m \u001B[2mspiral_temp_test\u001B[0m\u001B[2m:\u001B[0m input=Operator(\"(\")\r\n",
      "\u001B[2m2024-03-18T10:56:28.836468Z\u001B[0m \u001B[32m INFO\u001B[0m \u001B[2mspiral_temp_test\u001B[0m\u001B[2m:\u001B[0m input=Integer(-2968158755264354907)\r\n",
      "\u001B[2m2024-03-18T10:56:28.836504Z\u001B[0m \u001B[32m INFO\u001B[0m \u001B[2mspiral_temp_test\u001B[0m\u001B[2m:\u001B[0m input=Integer(5907911411548461059)\r\n",
      "\u001B[2m2024-03-18T10:56:28.836548Z\u001B[0m \u001B[32m INFO\u001B[0m \u001B[2mspiral_temp_test\u001B[0m\u001B[2m:\u001B[0m input=Identifier(\"HkV\")\r\n",
      "\u001B[2m2024-03-18T10:56:28.836595Z\u001B[0m \u001B[32m INFO\u001B[0m \u001B[2mspiral_temp_test\u001B[0m\u001B[2m:\u001B[0m input=Identifier(\"Y9auI43\")\r\n",
      "\u001B[2m2024-03-18T10:56:28.836653Z\u001B[0m \u001B[32m INFO\u001B[0m \u001B[2mspiral_temp_test\u001B[0m\u001B[2m:\u001B[0m input=Identifier(\"l6E2vj2QlUEhemzYxs5vEjV39bWht1emj\")\r\n",
      "\u001B[2m2024-03-18T10:56:28.836718Z\u001B[0m \u001B[32m INFO\u001B[0m \u001B[2mspiral_temp_test\u001B[0m\u001B[2m:\u001B[0m input=Identifier(\"H13BLegVhs9eI1\")\r\n",
      "\u001B[2m2024-03-18T10:56:28.836763Z\u001B[0m \u001B[32m INFO\u001B[0m \u001B[2mspiral_temp_test\u001B[0m\u001B[2m:\u001B[0m input=StringLiteral(\"\")\r\n",
      "\u001B[2m2024-03-18T10:56:28.836822Z\u001B[0m \u001B[32m INFO\u001B[0m \u001B[2mspiral_temp_test\u001B[0m\u001B[2m:\u001B[0m input=StringLiteral(\"&vI<P9:hSP*.$y% eI_l.\")\r\n",
      "\u001B[2m2024-03-18T10:56:28.836922Z\u001B[0m \u001B[32m INFO\u001B[0m \u001B[2mspiral_temp_test\u001B[0m\u001B[2m:\u001B[0m input=Comment(\"\")\r\n",
      "\u001B[2m2024-03-18T10:56:28.837012Z\u001B[0m \u001B[32m INFO\u001B[0m \u001B[2mspiral_temp_test\u001B[0m\u001B[2m:\u001B[0m input=StringLiteral(\"'\")\r\n",
      "\u001B[2m2024-03-18T10:56:28.837119Z\u001B[0m \u001B[32m INFO\u001B[0m \u001B[2mspiral_temp_test\u001B[0m\u001B[2m:\u001B[0m input=Comment(\"\\\\`F&`3%.:I:mYIJO/Yw 6<gMA5\")\r\n",
      "\u001B[2m2024-03-18T10:56:28.837183Z\u001B[0m \u001B[32m INFO\u001B[0m \u001B[2mspiral_temp_test\u001B[0m\u001B[2m:\u001B[0m input=StringLiteral(\"78'cta\")\r\n",
      "\u001B[2m2024-03-18T10:56:28.837253Z\u001B[0m \u001B[32m INFO\u001B[0m \u001B[2mspiral_temp_test\u001B[0m\u001B[2m:\u001B[0m input=StringLiteral(\"M*=9@>:*.e.i8TXf*&z/KFtU',$c\")\r\n",
      "\u001B[2m2024-03-18T10:56:28.837303Z\u001B[0m \u001B[32m INFO\u001B[0m \u001B[2mspiral_temp_test\u001B[0m\u001B[2m:\u001B[0m input=Integer(2409285640058524846)\r\n",
      "\u001B[2m2024-03-18T10:56:28.837344Z\u001B[0m \u001B[32m INFO\u001B[0m \u001B[2mspiral_temp_test\u001B[0m\u001B[2m:\u001B[0m input=Operator(\"-\")\r\n",
      "\u001B[2m2024-03-18T10:56:28.837408Z\u001B[0m \u001B[32m INFO\u001B[0m \u001B[2mspiral_temp_test\u001B[0m\u001B[2m:\u001B[0m input=Comment(\"XO=`h[C]#m.Q&($:',jl{:*M/&=j\")\r\n",
      "\u001B[2m2024-03-18T10:56:28.837466Z\u001B[0m \u001B[32m INFO\u001B[0m \u001B[2mspiral_temp_test\u001B[0m\u001B[2m:\u001B[0m input=StringLiteral(\"lO>p2d${Q\")\r\n",
      "\u001B[2m2024-03-18T10:56:28.837515Z\u001B[0m \u001B[32m INFO\u001B[0m \u001B[2mspiral_temp_test\u001B[0m\u001B[2m:\u001B[0m input=Operator(\")\")\r\n",
      "\u001B[2m2024-03-18T10:56:28.837577Z\u001B[0m \u001B[32m INFO\u001B[0m \u001B[2mspiral_temp_test\u001B[0m\u001B[2m:\u001B[0m input=Identifier(\"H10dc8astCFQgdDKO03d8kb0oy\")\r\n",
      "\u001B[2m2024-03-18T10:56:28.837624Z\u001B[0m \u001B[32m INFO\u001B[0m \u001B[2mspiral_temp_test\u001B[0m\u001B[2m:\u001B[0m input=Integer(-2884065269498480428)\r\n",
      "\u001B[2m2024-03-18T10:56:28.837660Z\u001B[0m \u001B[32m INFO\u001B[0m \u001B[2mspiral_temp_test\u001B[0m\u001B[2m:\u001B[0m input=Integer(-5666201480621734080)\r\n",
      "\u001B[2m2024-03-18T10:56:28.837726Z\u001B[0m \u001B[32m INFO\u001B[0m \u001B[2mspiral_temp_test\u001B[0m\u001B[2m:\u001B[0m input=StringLiteral(\"^_~!+)Ike@=Jw!EHC`{Ut7l@L c*\")\r\n",
      "\u001B[2m2024-03-18T10:56:28.837796Z\u001B[0m \u001B[32m INFO\u001B[0m \u001B[2mspiral_temp_test\u001B[0m\u001B[2m:\u001B[0m input=StringLiteral(\"C<sXI%nN,Q:/$$`O}{?m7#h:/\")\r\n",
      "\u001B[2m2024-03-18T10:56:28.837848Z\u001B[0m \u001B[32m INFO\u001B[0m \u001B[2mspiral_temp_test\u001B[0m\u001B[2m:\u001B[0m input=Operator(\"-\")\r\n",
      "\u001B[2m2024-03-18T10:56:28.837911Z\u001B[0m \u001B[32m INFO\u001B[0m \u001B[2mspiral_temp_test\u001B[0m\u001B[2m:\u001B[0m input=Identifier(\"JOIQq3zc3SIy7575L56K7fM6mB0\")\r\n",
      "\u001B[2m2024-03-18T10:56:28.838005Z\u001B[0m \u001B[32m INFO\u001B[0m \u001B[2mspiral_temp_test\u001B[0m\u001B[2m:\u001B[0m input=Integer(1171951073174255996)\r\n",
      "\u001B[2m2024-03-18T10:56:28.838119Z\u001B[0m \u001B[32m INFO\u001B[0m \u001B[2mspiral_temp_test\u001B[0m\u001B[2m:\u001B[0m input=Identifier(\"tIdk0I9Aux8LyhEr3EB\")\r\n",
      "\u001B[2m2024-03-18T10:56:28.838172Z\u001B[0m \u001B[32m INFO\u001B[0m \u001B[2mspiral_temp_test\u001B[0m\u001B[2m:\u001B[0m input=Integer(8875362413266353191)\r\n",
      "\u001B[2m2024-03-18T10:56:28.838213Z\u001B[0m \u001B[32m INFO\u001B[0m \u001B[2mspiral_temp_test\u001B[0m\u001B[2m:\u001B[0m input=Operator(\"=\")\r\n",
      "\u001B[2m2024-03-18T10:56:28.838312Z\u001B[0m \u001B[32m INFO\u001B[0m \u001B[2mspiral_temp_test\u001B[0m\u001B[2m:\u001B[0m input=StringLiteral(\"<Y`3~MqG.-<%~P%$AV$uiAq$*>\")\r\n",
      "\u001B[2m2024-03-18T10:56:28.838394Z\u001B[0m \u001B[32m INFO\u001B[0m \u001B[2mspiral_temp_test\u001B[0m\u001B[2m:\u001B[0m input=Comment(\".5t&1b<%g:\")\r\n",
      "\u001B[2m2024-03-18T10:56:28.838455Z\u001B[0m \u001B[32m INFO\u001B[0m \u001B[2mspiral_temp_test\u001B[0m\u001B[2m:\u001B[0m input=Comment(\"$<i!'/i`[u2{%Zo;=?**`:ssV`\")\r\n",
      "\u001B[2m2024-03-18T10:56:28.838525Z\u001B[0m \u001B[32m INFO\u001B[0m \u001B[2mspiral_temp_test\u001B[0m\u001B[2m:\u001B[0m input=Identifier(\"gJe027248D6rnt9ylkdH73lLX0RlOt\")\r\n",
      "\u001B[2m2024-03-18T10:56:28.838579Z\u001B[0m \u001B[32m INFO\u001B[0m \u001B[2mspiral_temp_test\u001B[0m\u001B[2m:\u001B[0m input=StringLiteral(\"=s,+ (S!EnGF'\")\r\n",
      "\u001B[2m2024-03-18T10:56:28.838615Z\u001B[0m \u001B[32m INFO\u001B[0m \u001B[2mspiral_temp_test\u001B[0m\u001B[2m:\u001B[0m input=Integer(-7912919569377869167)\r\n",
      "\u001B[2m2024-03-18T10:56:28.838662Z\u001B[0m \u001B[32m INFO\u001B[0m \u001B[2mspiral_temp_test\u001B[0m\u001B[2m:\u001B[0m input=Identifier(\"lyssTXpi2982wRy1U\")\r\n",
      "\u001B[2m2024-03-18T10:56:28.838697Z\u001B[0m \u001B[32m INFO\u001B[0m \u001B[2mspiral_temp_test\u001B[0m\u001B[2m:\u001B[0m input=Identifier(\"N6e\")\r\n",
      "\u001B[2m2024-03-18T10:56:28.838732Z\u001B[0m \u001B[32m INFO\u001B[0m \u001B[2mspiral_temp_test\u001B[0m\u001B[2m:\u001B[0m input=Integer(-6187098440491367039)\r\n",
      "\u001B[2m2024-03-18T10:56:28.838788Z\u001B[0m \u001B[32m INFO\u001B[0m \u001B[2mspiral_temp_test\u001B[0m\u001B[2m:\u001B[0m input=StringLiteral(\"/uO'&*}\")\r\n",
      "\u001B[2m2024-03-18T10:56:28.838839Z\u001B[0m \u001B[32m INFO\u001B[0m \u001B[2mspiral_temp_test\u001B[0m\u001B[2m:\u001B[0m input=StringLiteral(\"]?TfTX;<u\")\r\n",
      "\u001B[2m2024-03-18T10:56:28.838893Z\u001B[0m \u001B[32m INFO\u001B[0m \u001B[2mspiral_temp_test\u001B[0m\u001B[2m:\u001B[0m input=StringLiteral(\" {i^BlZg<x,,:mI$'fl:zs&/\")\r\n",
      "\u001B[2m2024-03-18T10:56:28.838954Z\u001B[0m \u001B[32m INFO\u001B[0m \u001B[2mspiral_temp_test\u001B[0m\u001B[2m:\u001B[0m input=Comment(\"seI3z*L.B&&T\")\r\n",
      "\u001B[2m2024-03-18T10:56:28.839016Z\u001B[0m \u001B[32m INFO\u001B[0m \u001B[2mspiral_temp_test\u001B[0m\u001B[2m:\u001B[0m input=StringLiteral(\"11<#t%/wc?B6490b9f/Z{FI\")\r\n",
      "\u001B[2m2024-03-18T10:56:28.839065Z\u001B[0m \u001B[32m INFO\u001B[0m \u001B[2mspiral_temp_test\u001B[0m\u001B[2m:\u001B[0m input=Operator(\"-\")\r\n",
      "\u001B[2m2024-03-18T10:56:28.839099Z\u001B[0m \u001B[32m INFO\u001B[0m \u001B[2mspiral_temp_test\u001B[0m\u001B[2m:\u001B[0m input=Integer(-9192961183448264595)\r\n",
      "\u001B[2m2024-03-18T10:56:28.839146Z\u001B[0m \u001B[32m INFO\u001B[0m \u001B[2mspiral_temp_test\u001B[0m\u001B[2m:\u001B[0m input=Operator(\"/\")\r\n",
      "\u001B[2m2024-03-18T10:56:28.839179Z\u001B[0m \u001B[32m INFO\u001B[0m \u001B[2mspiral_temp_test\u001B[0m\u001B[2m:\u001B[0m input=Integer(-6712312885211328281)\r\n",
      "\u001B[2m2024-03-18T10:56:28.839221Z\u001B[0m \u001B[32m INFO\u001B[0m \u001B[2mspiral_temp_test\u001B[0m\u001B[2m:\u001B[0m input=StringLiteral(\"\")\r\n",
      "\u001B[2m2024-03-18T10:56:28.839260Z\u001B[0m \u001B[32m INFO\u001B[0m \u001B[2mspiral_temp_test\u001B[0m\u001B[2m:\u001B[0m input=Operator(\")\")\r\n",
      "\u001B[2m2024-03-18T10:56:28.839308Z\u001B[0m \u001B[32m INFO\u001B[0m \u001B[2mspiral_temp_test\u001B[0m\u001B[2m:\u001B[0m input=Identifier(\"n4UpiN\")\r\n",
      "\u001B[2m2024-03-18T10:56:28.839342Z\u001B[0m \u001B[32m INFO\u001B[0m \u001B[2mspiral_temp_test\u001B[0m\u001B[2m:\u001B[0m input=Integer(-4146113902487316173)\r\n",
      "\u001B[2m2024-03-18T10:56:28.839392Z\u001B[0m \u001B[32m INFO\u001B[0m \u001B[2mspiral_temp_test\u001B[0m\u001B[2m:\u001B[0m input=Identifier(\"GgV6d1ISlju\")\r\n",
      "\u001B[2m2024-03-18T10:56:28.839449Z\u001B[0m \u001B[32m INFO\u001B[0m \u001B[2mspiral_temp_test\u001B[0m\u001B[2m:\u001B[0m input=StringLiteral(\"lNcy%Os)b.j.Y=|q@%$< $!9~L^=\")\r\n",
      "\u001B[2m2024-03-18T10:56:28.839491Z\u001B[0m \u001B[32m INFO\u001B[0m \u001B[2mspiral_temp_test\u001B[0m\u001B[2m:\u001B[0m input=Integer(1818892464877141489)\r\n",
      "\u001B[2m2024-03-18T10:56:28.839698Z\u001B[0m \u001B[32m INFO\u001B[0m \u001B[2mspiral_temp_test\u001B[0m\u001B[2m:\u001B[0m input=Identifier(\"jTOR2\")\r\n",
      "\u001B[2m2024-03-18T10:56:28.839770Z\u001B[0m \u001B[32m INFO\u001B[0m \u001B[2mspiral_temp_test\u001B[0m\u001B[2m:\u001B[0m input=Identifier(\"aA9I\")\r\n",
      "\u001B[2m2024-03-18T10:56:28.839839Z\u001B[0m \u001B[32m INFO\u001B[0m \u001B[2mspiral_temp_test\u001B[0m\u001B[2m:\u001B[0m input=StringLiteral(\"*WoxIFlccP=&,%$|2@%?=vyp=K\")\r\n",
      "\u001B[2m2024-03-18T10:56:28.839888Z\u001B[0m \u001B[32m INFO\u001B[0m \u001B[2mspiral_temp_test\u001B[0m\u001B[2m:\u001B[0m input=Integer(-3805044305238109364)\r\n",
      "\u001B[2m2024-03-18T10:56:28.839923Z\u001B[0m \u001B[32m INFO\u001B[0m \u001B[2mspiral_temp_test\u001B[0m\u001B[2m:\u001B[0m input=Integer(6773589188528856666)\r\n",
      "\u001B[2m2024-03-18T10:56:28.840015Z\u001B[0m \u001B[32m INFO\u001B[0m \u001B[2mspiral_temp_test\u001B[0m\u001B[2m:\u001B[0m input=Identifier(\"ZsbdmltqSfPUe6HV5C\")\r\n",
      "\u001B[2m2024-03-18T10:56:28.840104Z\u001B[0m \u001B[32m INFO\u001B[0m \u001B[2mspiral_temp_test\u001B[0m\u001B[2m:\u001B[0m input=StringLiteral(\"QR<|Hb9lP[g<U7o5#\")\r\n",
      "\u001B[2m2024-03-18T10:56:28.840150Z\u001B[0m \u001B[32m INFO\u001B[0m \u001B[2mspiral_temp_test\u001B[0m\u001B[2m:\u001B[0m input=Integer(5248688400604230629)\r\n",
      "\u001B[2m2024-03-18T10:56:28.840195Z\u001B[0m \u001B[32m INFO\u001B[0m \u001B[2mspiral_temp_test\u001B[0m\u001B[2m:\u001B[0m input=Comment(\"~:$g\\\"NZ'q/-\\\"A{f3sh\")\r\n",
      "\u001B[2m2024-03-18T10:56:28.840256Z\u001B[0m \u001B[32m INFO\u001B[0m \u001B[2mspiral_temp_test\u001B[0m\u001B[2m:\u001B[0m input=Comment(\"*/a{y=Si9$3`*rrbI'&&\\\\\\\\9ru%\")\r\n",
      "\u001B[2m2024-03-18T10:56:28.840302Z\u001B[0m \u001B[32m INFO\u001B[0m \u001B[2mspiral_temp_test\u001B[0m\u001B[2m:\u001B[0m input=Operator(\"+\")\r\n",
      "\u001B[2m2024-03-18T10:56:28.840345Z\u001B[0m \u001B[32m INFO\u001B[0m \u001B[2mspiral_temp_test\u001B[0m\u001B[2m:\u001B[0m input=StringLiteral(\"1&(0N.O;$bu|:5f$\")\r\n",
      "\u001B[2m2024-03-18T10:56:28.840396Z\u001B[0m \u001B[32m INFO\u001B[0m \u001B[2mspiral_temp_test\u001B[0m\u001B[2m:\u001B[0m input=Comment(\"*MD2'pMy>`R<W\")\r\n",
      "\u001B[2m2024-03-18T10:56:28.840434Z\u001B[0m \u001B[32m INFO\u001B[0m \u001B[2mspiral_temp_test\u001B[0m\u001B[2m:\u001B[0m input=Integer(-2606369825957732747)\r\n",
      "\u001B[2m2024-03-18T10:56:28.840468Z\u001B[0m \u001B[32m INFO\u001B[0m \u001B[2mspiral_temp_test\u001B[0m\u001B[2m:\u001B[0m input=Operator(\"(\")\r\n",
      "\u001B[2m2024-03-18T10:56:28.840495Z\u001B[0m \u001B[32m INFO\u001B[0m \u001B[2mspiral_temp_test\u001B[0m\u001B[2m:\u001B[0m input=Integer(-6273633174408873747)\r\n",
      "\u001B[2m2024-03-18T10:56:28.840526Z\u001B[0m \u001B[32m INFO\u001B[0m \u001B[2mspiral_temp_test\u001B[0m\u001B[2m:\u001B[0m input=Integer(6439223201253820011)\r\n",
      "\u001B[2m2024-03-18T10:56:28.840582Z\u001B[0m \u001B[32m INFO\u001B[0m \u001B[2mspiral_temp_test\u001B[0m\u001B[2m:\u001B[0m input=StringLiteral(\"?k/3{Ic$_A\")\r\n",
      "\u001B[2m2024-03-18T10:56:28.840624Z\u001B[0m \u001B[32m INFO\u001B[0m \u001B[2mspiral_temp_test\u001B[0m\u001B[2m:\u001B[0m input=Operator(\"*\")\r\n",
      "\u001B[2m2024-03-18T10:56:28.840670Z\u001B[0m \u001B[32m INFO\u001B[0m \u001B[2mspiral_temp_test\u001B[0m\u001B[2m:\u001B[0m input=Identifier(\"M00W4sZxnmbYdw6Y\")\r\n",
      "\u001B[2m2024-03-18T10:56:28.840712Z\u001B[0m \u001B[32m INFO\u001B[0m \u001B[2mspiral_temp_test\u001B[0m\u001B[2m:\u001B[0m input=Operator(\"=\")\r\n",
      "\u001B[2m2024-03-18T10:56:28.840766Z\u001B[0m \u001B[32m INFO\u001B[0m \u001B[2mspiral_temp_test\u001B[0m\u001B[2m:\u001B[0m input=Identifier(\"h5g\")\r\n",
      "\u001B[2m2024-03-18T10:56:28.840817Z\u001B[0m \u001B[32m INFO\u001B[0m \u001B[2mspiral_temp_test\u001B[0m\u001B[2m:\u001B[0m input=StringLiteral(\"rUPGN7V/E~avP[?']C{\")\r\n",
      "\u001B[2m2024-03-18T10:56:28.840859Z\u001B[0m \u001B[32m INFO\u001B[0m \u001B[2mspiral_temp_test\u001B[0m\u001B[2m:\u001B[0m input=Integer(-2251315335914109216)\r\n",
      "\u001B[2m2024-03-18T10:56:28.840908Z\u001B[0m \u001B[32m INFO\u001B[0m \u001B[2mspiral_temp_test\u001B[0m\u001B[2m:\u001B[0m input=StringLiteral(\"m~=TdTZZV&?NM$Ne0&jvY9{'{R\")\r\n",
      "\u001B[2m2024-03-18T10:56:28.840962Z\u001B[0m \u001B[32m INFO\u001B[0m \u001B[2mspiral_temp_test\u001B[0m\u001B[2m:\u001B[0m input=Comment(\"K%v$M<\")\r\n",
      "\u001B[2m2024-03-18T10:56:28.841036Z\u001B[0m \u001B[32m INFO\u001B[0m \u001B[2mspiral_temp_test\u001B[0m\u001B[2m:\u001B[0m input=StringLiteral(\"$H<P8e{QVr*<b<v(:D<$z?'#G\")\r\n",
      "\u001B[2m2024-03-18T10:56:28.841111Z\u001B[0m \u001B[32m INFO\u001B[0m \u001B[2mspiral_temp_test\u001B[0m\u001B[2m:\u001B[0m input=Identifier(\"oaCW62tAxJ4QQ62O4kiofYL7oMM\")\r\n",
      "\u001B[2m2024-03-18T10:56:28.841151Z\u001B[0m \u001B[32m INFO\u001B[0m \u001B[2mspiral_temp_test\u001B[0m\u001B[2m:\u001B[0m input=Integer(1788050954698536935)\r\n",
      "\u001B[2m2024-03-18T10:56:28.841195Z\u001B[0m \u001B[32m INFO\u001B[0m \u001B[2mspiral_temp_test\u001B[0m\u001B[2m:\u001B[0m input=StringLiteral(\"<(:.C|{eU:%ALCYt\")\r\n",
      "\u001B[2m2024-03-18T10:56:28.841249Z\u001B[0m \u001B[32m INFO\u001B[0m \u001B[2mspiral_temp_test\u001B[0m\u001B[2m:\u001B[0m input=Comment(\"[{Z?G'%F\\\"A&<-r5'v/n\\\"(jz\\\\$\")\r\n",
      "\u001B[2m2024-03-18T10:56:28.841295Z\u001B[0m \u001B[32m INFO\u001B[0m \u001B[2mspiral_temp_test\u001B[0m\u001B[2m:\u001B[0m input=StringLiteral(\"=%6q\")\r\n",
      "\u001B[2m2024-03-18T10:56:28.841344Z\u001B[0m \u001B[32m INFO\u001B[0m \u001B[2mspiral_temp_test\u001B[0m\u001B[2m:\u001B[0m input=Comment(\"k\\\"+{$$o4[ppk?T:-/p`qj>J}Kw\")\r\n",
      "\u001B[2m2024-03-18T10:56:28.841386Z\u001B[0m \u001B[32m INFO\u001B[0m \u001B[2mspiral_temp_test\u001B[0m\u001B[2m:\u001B[0m input=Integer(263833259453250746)\r\n",
      "\u001B[2m2024-03-18T10:56:28.841438Z\u001B[0m \u001B[32m INFO\u001B[0m \u001B[2mspiral_temp_test\u001B[0m\u001B[2m:\u001B[0m input=Comment(\"G\\\"[.%`, %=&2?\\\\`F\\\"?e`H kj7iK\")\r\n",
      "\u001B[2m2024-03-18T10:56:28.841480Z\u001B[0m \u001B[32m INFO\u001B[0m \u001B[2mspiral_temp_test\u001B[0m\u001B[2m:\u001B[0m input=Integer(-8200894931359329405)\r\n",
      "\u001B[2m2024-03-18T10:56:28.841523Z\u001B[0m \u001B[32m INFO\u001B[0m \u001B[2mspiral_temp_test\u001B[0m\u001B[2m:\u001B[0m input=StringLiteral(\"=&#@C'&XOt&v&;S\")\r\n",
      "\u001B[2m2024-03-18T10:56:28.841562Z\u001B[0m \u001B[32m INFO\u001B[0m \u001B[2mspiral_temp_test\u001B[0m\u001B[2m:\u001B[0m input=Integer(-8021403473068000567)\r\n",
      "\u001B[2m2024-03-18T10:56:28.841609Z\u001B[0m \u001B[32m INFO\u001B[0m \u001B[2mspiral_temp_test\u001B[0m\u001B[2m:\u001B[0m input=StringLiteral(\"iV]:x`yPZ1z}& yt*]cl*$\")\r\n",
      "\u001B[2m2024-03-18T10:56:28.841666Z\u001B[0m \u001B[32m INFO\u001B[0m \u001B[2mspiral_temp_test\u001B[0m\u001B[2m:\u001B[0m input=Comment(\"FOElN`uwN,~7% .V9Ax`q?q\")\r\n",
      "\u001B[2m2024-03-18T10:56:28.841718Z\u001B[0m \u001B[32m INFO\u001B[0m \u001B[2mspiral_temp_test\u001B[0m\u001B[2m:\u001B[0m input=Identifier(\"B3tibF0HAR6SS39HBh\")\r\n",
      "\u001B[2m2024-03-18T10:56:28.841770Z\u001B[0m \u001B[32m INFO\u001B[0m \u001B[2mspiral_temp_test\u001B[0m\u001B[2m:\u001B[0m input=Integer(-7185982801849873297)\r\n",
      "\u001B[2m2024-03-18T10:56:28.841803Z\u001B[0m \u001B[32m INFO\u001B[0m \u001B[2mspiral_temp_test\u001B[0m\u001B[2m:\u001B[0m input=Operator(\"/\")\r\n",
      "\u001B[2m2024-03-18T10:56:28.841843Z\u001B[0m \u001B[32m INFO\u001B[0m \u001B[2mspiral_temp_test\u001B[0m\u001B[2m:\u001B[0m input=Identifier(\"i76wXyikgu\")\r\n",
      "\u001B[2m2024-03-18T10:56:28.841897Z\u001B[0m \u001B[32m INFO\u001B[0m \u001B[2mspiral_temp_test\u001B[0m\u001B[2m:\u001B[0m input=Identifier(\"zrvSh5K4dQ6U0lrxxMW8lw610o\")\r\n",
      "\u001B[2m2024-03-18T10:56:28.841946Z\u001B[0m \u001B[32m INFO\u001B[0m \u001B[2mspiral_temp_test\u001B[0m\u001B[2m:\u001B[0m input=Comment(\"&Uap%l{Gh<,:PT\")\r\n",
      "\u001B[2m2024-03-18T10:56:28.841984Z\u001B[0m \u001B[32m INFO\u001B[0m \u001B[2mspiral_temp_test\u001B[0m\u001B[2m:\u001B[0m input=Integer(2862769325075121316)\r\n",
      "\u001B[2m2024-03-18T10:56:28.842046Z\u001B[0m \u001B[32m INFO\u001B[0m \u001B[2mspiral_temp_test\u001B[0m\u001B[2m:\u001B[0m input=StringLiteral(\"o ;./s3vXYd4*W)'PX2'lb\")\r\n",
      "\u001B[2m2024-03-18T10:56:28.842090Z\u001B[0m \u001B[32m INFO\u001B[0m \u001B[2mspiral_temp_test\u001B[0m\u001B[2m:\u001B[0m input=Identifier(\"i8arl1f\")\r\n",
      "\u001B[2m2024-03-18T10:56:28.842131Z\u001B[0m \u001B[32m INFO\u001B[0m \u001B[2mspiral_temp_test\u001B[0m\u001B[2m:\u001B[0m input=StringLiteral(\"{9_\")\r\n",
      "\u001B[2m2024-03-18T10:56:28.842167Z\u001B[0m \u001B[32m INFO\u001B[0m \u001B[2mspiral_temp_test\u001B[0m\u001B[2m:\u001B[0m input=Operator(\"+\")\r\n",
      "\u001B[2m2024-03-18T10:56:28.842231Z\u001B[0m \u001B[32m INFO\u001B[0m \u001B[2mspiral_temp_test\u001B[0m\u001B[2m:\u001B[0m input=Identifier(\"Ov6nGReFn4Hc1PyncJmMuVse7oEz2cG\")\r\n",
      "\u001B[2m2024-03-18T10:56:28.842284Z\u001B[0m \u001B[32m INFO\u001B[0m \u001B[2mspiral_temp_test\u001B[0m\u001B[2m:\u001B[0m input=StringLiteral(\";!Rl'#CU\")\r\n",
      "\u001B[2m2024-03-18T10:56:28.842331Z\u001B[0m \u001B[32m INFO\u001B[0m \u001B[2mspiral_temp_test\u001B[0m\u001B[2m:\u001B[0m input=StringLiteral(\"?%W($yB:\")\r\n",
      "\u001B[2m2024-03-18T10:56:28.842379Z\u001B[0m \u001B[32m INFO\u001B[0m \u001B[2mspiral_temp_test\u001B[0m\u001B[2m:\u001B[0m input=Operator(\"/\")\r\n",
      "\u001B[2m2024-03-18T10:56:28.842437Z\u001B[0m \u001B[32m INFO\u001B[0m \u001B[2mspiral_temp_test\u001B[0m\u001B[2m:\u001B[0m input=Comment(\"'?:6<cD%pXRR=6\\\\@ePr9imd!\\\\E\")\r\n",
      "\u001B[2m2024-03-18T10:56:28.842508Z\u001B[0m \u001B[32m INFO\u001B[0m \u001B[2mspiral_temp_test\u001B[0m\u001B[2m:\u001B[0m input=Comment(\"55;.<)\\\\'FzBj\\\"*\\\"{b.AiP?$={*'\")\r\n",
      "\u001B[2m2024-03-18T10:56:28.842607Z\u001B[0m \u001B[32m INFO\u001B[0m \u001B[2mspiral_temp_test\u001B[0m\u001B[2m:\u001B[0m input=Operator(\"*\")\r\n",
      "\u001B[2m2024-03-18T10:56:28.842684Z\u001B[0m \u001B[32m INFO\u001B[0m \u001B[2mspiral_temp_test\u001B[0m\u001B[2m:\u001B[0m input=Comment(\"`!1ek~\\\\\")\r\n",
      "\u001B[2m2024-03-18T10:56:28.842765Z\u001B[0m \u001B[32m INFO\u001B[0m \u001B[2mspiral_temp_test\u001B[0m\u001B[2m:\u001B[0m input=Identifier(\"KznAN0AiF\")\r\n",
      "\u001B[2m2024-03-18T10:56:28.842840Z\u001B[0m \u001B[32m INFO\u001B[0m \u001B[2mspiral_temp_test\u001B[0m\u001B[2m:\u001B[0m input=Identifier(\"x4xXARZ58BQkxlJXJr00yXXjh6P\")\r\n",
      "\u001B[2m2024-03-18T10:56:28.842892Z\u001B[0m \u001B[32m INFO\u001B[0m \u001B[2mspiral_temp_test\u001B[0m\u001B[2m:\u001B[0m input=StringLiteral(\"Iy=:`)E~*~/:4am\")\r\n",
      "\u001B[2m2024-03-18T10:56:28.842936Z\u001B[0m \u001B[32m INFO\u001B[0m \u001B[2mspiral_temp_test\u001B[0m\u001B[2m:\u001B[0m input=Integer(3877640491728271950)\r\n",
      "test prop_parse_format_idempotent ... ok\r\n",
      "test adding_and_then_removing_an_item_from_the_cart_leaves_the_cart_unchanged ... ok\r\n",
      "\r\n",
      "test result: ok. 3 passed; 0 failed; 0 ignored; 0 measured; 0 filtered out; finished in 0.18s\r\n",
      "\r\n"
     ]
    }
   ],
   "source": [
    "$env:RUST_LOG=\"info\"\n",
    "{ cargo test --release } | Invoke-Block"
   ]
  },
  {
   "cell_type": "code",
   "execution_count": null,
   "metadata": {
    "dotnet_interactive": {
     "language": "pwsh"
    },
    "polyglot_notebook": {
     "kernelName": "pwsh"
    }
   },
   "outputs": [
    {
     "name": "stdout",
     "output_type": "stream",
     "text": [
      "app=test\r\n"
     ]
    }
   ],
   "source": [
    "{ . $ScriptDir/../../../../target/release/spiral_temp_test$(GetExecutableSuffix) } | Invoke-Block"
   ]
  }
 ],
 "metadata": {},
 "nbformat": 4,
 "nbformat_minor": 5
}