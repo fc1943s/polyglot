{
 "cells": [
  {
   "cell_type": "markdown",
   "metadata": {},
   "source": [
    "# test"
   ]
  },
  {
   "cell_type": "markdown",
   "metadata": {},
   "source": [
    "## include scripts"
   ]
  },
  {
   "cell_type": "markdown",
   "metadata": {},
   "source": [
    "### include notebook core"
   ]
  },
  {
   "cell_type": "code",
   "execution_count": null,
   "metadata": {
    "dotnet_interactive": {
     "language": "pwsh"
    },
    "polyglot_notebook": {
     "kernelName": "pwsh"
    }
   },
   "outputs": [],
   "source": [
    ". ../../../../scripts/nbs_header.ps1"
   ]
  },
  {
   "cell_type": "markdown",
   "metadata": {},
   "source": [
    "### Include core functions script"
   ]
  },
  {
   "cell_type": "code",
   "execution_count": null,
   "metadata": {
    "dotnet_interactive": {
     "language": "pwsh"
    },
    "polyglot_notebook": {
     "kernelName": "pwsh"
    }
   },
   "outputs": [],
   "source": [
    ". ../../../../scripts/core.ps1"
   ]
  },
  {
   "cell_type": "markdown",
   "metadata": {},
   "source": [
    "### Include spiral library"
   ]
  },
  {
   "cell_type": "code",
   "execution_count": null,
   "metadata": {
    "dotnet_interactive": {
     "language": "pwsh"
    },
    "polyglot_notebook": {
     "kernelName": "pwsh"
    }
   },
   "outputs": [],
   "source": [
    ". ../../../../lib/spiral/lib.ps1"
   ]
  },
  {
   "cell_type": "markdown",
   "metadata": {},
   "source": [
    "## execute project commands"
   ]
  },
  {
   "cell_type": "markdown",
   "metadata": {},
   "source": [
    "### run notebook with retries using spiral supervisor"
   ]
  },
  {
   "cell_type": "code",
   "execution_count": null,
   "metadata": {
    "dotnet_interactive": {
     "language": "pwsh"
    },
    "polyglot_notebook": {
     "kernelName": "pwsh"
    }
   },
   "outputs": [
    {
     "name": "stdout",
     "output_type": "stream",
     "text": [
      "00:00:00 \u001B[90mv\u001B[0m #1 async.run_with_timeout_async / { timeout = 180 }\n",
      "00:00:00 \u001B[94md\u001B[0m #1 runtime.execute_with_options_async / { file_name = ../../../../workspace/target/release/spiral_builder.exe; arguments = US5_0 \"dib --path test.dib --retries 3\"; options = { command = ../../../../workspace/target/release/spiral_builder.exe dib --path test.dib --retries 3; cancellation_token = Some System.Threading.CancellationToken; environment_variables = [||]; on_line = None; stdin = None; trace = true; working_directory = None } }\n",
      "00:00:00 \u001B[90mv\u001B[0m #2 > 00:00:00 \u001B[94md\u001B[39m #1 spiral_builder.main / { args = Array(MutCell([\"dib\", \"--path\", \"test.dib\", \"--retries\", \"3\"])) }\n",
      "00:00:00 \u001B[90mv\u001B[0m #3 > 00:00:00 \u001B[94md\u001B[39m #2 runtime.execute_with_options / { file_name = dotnet; arguments = [\"repl\", \"--exit-after-run\", \"--run\", \"c:/home/git/polyglot/apps/spiral/temp/test/test.dib\", \"--output-path\", \"c:/home/git/polyglot/apps/spiral/temp/test/test.dib.ipynb\"]; options = { command = dotnet repl --exit-after-run --run \"c:/home/git/polyglot/apps/spiral/temp/test/test.dib\" --output-path \"c:/home/git/polyglot/apps/spiral/temp/test/test.dib.ipynb\"; cancellation_token = None; environment_variables = Array(MutCell([(\"TRACE_LEVEL\", \"Verbose\"), (\"AUTOMATION\", \"True\")])); on_line = None; stdin = None; trace = false; working_directory = None } }\n",
      "00:00:02 \u001B[90mv\u001B[0m #4 > >\n",
      "00:00:02 \u001B[90mv\u001B[0m #5 > > ── markdown ────────────────────────────────────────────────────────────────────\n",
      "00:00:02 \u001B[90mv\u001B[0m #6 > > ╭──────────────────────────────────────────────────────────────────────────────╮\n",
      "00:00:02 \u001B[90mv\u001B[0m #7 > > │ # test (Polyglot)                                                            │\n",
      "00:00:02 \u001B[90mv\u001B[0m #8 > > ╰──────────────────────────────────────────────────────────────────────────────╯\n",
      "00:00:05 \u001B[90mv\u001B[0m #9 > >\n",
      "00:00:05 \u001B[90mv\u001B[0m #10 > > ── spiral ──────────────────────────────────────────────────────────────────────\n",
      "00:00:05 \u001B[90mv\u001B[0m #11 > > //// test\n",
      "00:00:05 \u001B[90mv\u001B[0m #12 > >\n",
      "00:00:05 \u001B[90mv\u001B[0m #13 > > open testing\n",
      "00:00:09 \u001B[90mv\u001B[0m #14 > >\n",
      "00:00:09 \u001B[90mv\u001B[0m #15 > > ── spiral ──────────────────────────────────────────────────────────────────────\n",
      "00:00:09 \u001B[90mv\u001B[0m #16 > > nominal i = ()\n",
      "00:00:09 \u001B[90mv\u001B[0m #17 > > nominal e = ()\n",
      "00:00:09 \u001B[90mv\u001B[0m #18 > > nominal s = ()\n",
      "00:00:09 \u001B[90mv\u001B[0m #19 > > nominal n = ()\n",
      "00:00:09 \u001B[90mv\u001B[0m #20 > > nominal t = ()\n",
      "00:00:09 \u001B[90mv\u001B[0m #21 > > nominal f = ()\n",
      "00:00:09 \u001B[90mv\u001B[0m #22 > > nominal j = ()\n",
      "00:00:09 \u001B[90mv\u001B[0m #23 > > nominal p = ()\n",
      "00:00:09 \u001B[90mv\u001B[0m #24 > >\n",
      "00:00:09 \u001B[90mv\u001B[0m #25 > > union sensing =\n",
      "00:00:09 \u001B[90mv\u001B[0m #26 > >     | Si : s * i\n",
      "00:00:09 \u001B[90mv\u001B[0m #27 > >     | Se : s * e\n",
      "00:00:09 \u001B[90mv\u001B[0m #28 > >\n",
      "00:00:09 \u001B[90mv\u001B[0m #29 > > union intuition =\n",
      "00:00:09 \u001B[90mv\u001B[0m #30 > >     | Ni : n * i\n",
      "00:00:09 \u001B[90mv\u001B[0m #31 > >     | Ne : n * e\n",
      "00:00:09 \u001B[90mv\u001B[0m #32 > >\n",
      "00:00:09 \u001B[90mv\u001B[0m #33 > > union thinking =\n",
      "00:00:09 \u001B[90mv\u001B[0m #34 > >     | Ti : t * i\n",
      "00:00:09 \u001B[90mv\u001B[0m #35 > >     | Te : t * e\n",
      "00:00:09 \u001B[90mv\u001B[0m #36 > >\n",
      "00:00:09 \u001B[90mv\u001B[0m #37 > > union feeling =\n",
      "00:00:09 \u001B[90mv\u001B[0m #38 > >     | Fi : f * i\n",
      "00:00:09 \u001B[90mv\u001B[0m #39 > >     | Fe : f * e\n",
      "00:00:09 \u001B[90mv\u001B[0m #40 > >\n",
      "00:00:09 \u001B[90mv\u001B[0m #41 > > union function_stack =\n",
      "00:00:09 \u001B[90mv\u001B[0m #42 > >     | FS : sensing * intuition * thinking * feeling\n",
      "00:00:09 \u001B[90mv\u001B[0m #43 > >\n",
      "00:00:09 \u001B[90mv\u001B[0m #44 > > union personality_type =\n",
      "00:00:09 \u001B[90mv\u001B[0m #45 > >     | ISTJ : i * s * t * j * function_stack\n",
      "00:00:09 \u001B[90mv\u001B[0m #46 > >     | ISFJ : i * s * f * j * function_stack\n",
      "00:00:09 \u001B[90mv\u001B[0m #47 > >     | INFJ : i * n * f * j * function_stack\n",
      "00:00:09 \u001B[90mv\u001B[0m #48 > >     | INTJ : i * n * t * j * function_stack\n",
      "00:00:09 \u001B[90mv\u001B[0m #49 > >     | ISTP : i * s * t * p * function_stack\n",
      "00:00:09 \u001B[90mv\u001B[0m #50 > >     | ISFP : i * s * f * p * function_stack\n",
      "00:00:09 \u001B[90mv\u001B[0m #51 > >     | INFP : i * n * f * p * function_stack\n",
      "00:00:09 \u001B[90mv\u001B[0m #52 > >     | INTP : i * n * t * p * function_stack\n",
      "00:00:09 \u001B[90mv\u001B[0m #53 > >     | ESTP : e * s * t * p * function_stack\n",
      "00:00:09 \u001B[90mv\u001B[0m #54 > >     | ESFP : e * s * f * p * function_stack\n",
      "00:00:09 \u001B[90mv\u001B[0m #55 > >     | ENFP : e * n * f * p * function_stack\n",
      "00:00:09 \u001B[90mv\u001B[0m #56 > >     | ENTP : e * n * t * p * function_stack\n",
      "00:00:09 \u001B[90mv\u001B[0m #57 > >     | ESTJ : e * s * t * j * function_stack\n",
      "00:00:09 \u001B[90mv\u001B[0m #58 > >     | ESFJ : e * s * f * j * function_stack\n",
      "00:00:09 \u001B[90mv\u001B[0m #59 > >     | ENFJ : e * n * f * j * function_stack\n",
      "00:00:09 \u001B[90mv\u001B[0m #60 > >     | ENTJ : e * n * t * j * function_stack\n",
      "00:00:09 \u001B[90mv\u001B[0m #61 > >\n",
      "00:00:09 \u001B[90mv\u001B[0m #62 > >\n",
      "00:00:09 \u001B[90mv\u001B[0m #63 > > inl main () =\n",
      "00:00:09 \u001B[90mv\u001B[0m #64 > >     inl istj_stack = FS ((Si (s, i)), Ne (n, e), (Te (t, e)), (Fi (f, i)))\n",
      "00:00:09 \u001B[90mv\u001B[0m #65 > >     inl istj_personality = ISTJ (i, s, t, j, istj_stack)\n",
      "00:00:09 \u001B[90mv\u001B[0m #66 > >     // inl isfj_stack = FS ((Si (s, i)), Ne (n, e), (Fe (f, e)), (Ti (t, i)))\n",
      "00:00:09 \u001B[90mv\u001B[0m #67 > >     // inl isfj_personality = ISFJ (i, s, f, j, isfj_stack)\n",
      "00:00:09 \u001B[90mv\u001B[0m #68 > >\n",
      "00:00:09 \u001B[90mv\u001B[0m #69 > >     ;[[\n",
      "00:00:09 \u001B[90mv\u001B[0m #70 > >         istj_personality\n",
      "00:00:09 \u001B[90mv\u001B[0m #71 > >     ]]\n",
      "00:00:09 \u001B[90mv\u001B[0m #72 > >     |> fun x => $'$\"%A{!x}\"' : string\n",
      "00:00:09 \u001B[90mv\u001B[0m #73 > >     |> console.write_line\n",
      "00:00:09 \u001B[90mv\u001B[0m #74 > >\n",
      "00:00:09 \u001B[90mv\u001B[0m #75 > > inl main () =\n",
      "00:00:09 \u001B[90mv\u001B[0m #76 > >     $'!main ()' : ()\n",
      "00:00:11 \u001B[90mv\u001B[0m #77 > >\n",
      "00:00:11 \u001B[90mv\u001B[0m #78 > > ╭─[ 1.82s - stdout ]───────────────────────────────────────────────────────────╮\n",
      "00:00:11 \u001B[90mv\u001B[0m #79 > > │ [|US5_0 (US4_0 (US0_0, US1_1, US2_1, US3_0))|]                               │\n",
      "00:00:11 \u001B[90mv\u001B[0m #80 > > │                                                                              │\n",
      "00:00:11 \u001B[90mv\u001B[0m #81 > > ╰──────────────────────────────────────────────────────────────────────────────╯\n",
      "00:00:12 \u001B[90mv\u001B[0m #82 > >\n",
      "00:00:12 \u001B[90mv\u001B[0m #83 > > ── fsharp ──────────────────────────────────────────────────────────────────────\n",
      "00:00:12 \u001B[90mv\u001B[0m #84 > > type PhonologicalFeature =\n",
      "00:00:12 \u001B[90mv\u001B[0m #85 > >     | VowelFeature of\n",
      "00:00:12 \u001B[90mv\u001B[0m #86 > >         height: Height\n",
      "00:00:12 \u001B[90mv\u001B[0m #87 > >         * backness: Backness\n",
      "00:00:12 \u001B[90mv\u001B[0m #88 > >         * roundedness: Roundedness\n",
      "00:00:12 \u001B[90mv\u001B[0m #89 > >         * tone: Option<Tone>\n",
      "00:00:12 \u001B[90mv\u001B[0m #90 > >         * stress: Option<Stress>\n",
      "00:00:12 \u001B[90mv\u001B[0m #91 > >         * length: Option<Length>\n",
      "00:00:12 \u001B[90mv\u001B[0m #92 > >     | ConsonantFeature of\n",
      "00:00:12 \u001B[90mv\u001B[0m #93 > >         place: PlaceOfArticulation\n",
      "00:00:12 \u001B[90mv\u001B[0m #94 > >         * manner: MannerOfArticulation\n",
      "00:00:12 \u001B[90mv\u001B[0m #95 > >         * voicing: Voicing\n",
      "00:00:12 \u001B[90mv\u001B[0m #96 > >         * length: Option<Length>\n",
      "00:00:12 \u001B[90mv\u001B[0m #97 > >     | VowelHarmonyFeature\n",
      "00:00:12 \u001B[90mv\u001B[0m #98 > >     | PitchAccentFeature\n",
      "00:00:12 \u001B[90mv\u001B[0m #99 > >\n",
      "00:00:12 \u001B[90mv\u001B[0m #100 > > and Stress = Primary | Secondary\n",
      "00:00:12 \u001B[90mv\u001B[0m #101 > > and Length = Long | Short | HalfLong\n",
      "00:00:12 \u001B[90mv\u001B[0m #102 > >\n",
      "00:00:12 \u001B[90mv\u001B[0m #103 > > and Height =\n",
      "00:00:12 \u001B[90mv\u001B[0m #104 > >     | High | NearHigh | HighMid\n",
      "00:00:12 \u001B[90mv\u001B[0m #105 > >     | Mid | LowMid | NearLow\n",
      "00:00:12 \u001B[90mv\u001B[0m #106 > >     | Low\n",
      "00:00:12 \u001B[90mv\u001B[0m #107 > >\n",
      "00:00:12 \u001B[90mv\u001B[0m #108 > > and Backness = Front | Central | Back\n",
      "00:00:12 \u001B[90mv\u001B[0m #109 > >\n",
      "00:00:12 \u001B[90mv\u001B[0m #110 > > and Roundedness = Rounded | Unrounded\n",
      "00:00:12 \u001B[90mv\u001B[0m #111 > >\n",
      "00:00:12 \u001B[90mv\u001B[0m #112 > > and PlaceOfArticulation =\n",
      "00:00:12 \u001B[90mv\u001B[0m #113 > >     | Bilabial | Labiodental | Dental\n",
      "00:00:12 \u001B[90mv\u001B[0m #114 > >     | Alveolar | Postalveolar | Retroflex\n",
      "00:00:12 \u001B[90mv\u001B[0m #115 > >     | Palatal | Velar | Uvular\n",
      "00:00:12 \u001B[90mv\u001B[0m #116 > >     | Pharyngeal | Epiglottal | Glottal\n",
      "00:00:12 \u001B[90mv\u001B[0m #117 > >\n",
      "00:00:12 \u001B[90mv\u001B[0m #118 > > and MannerOfArticulation =\n",
      "00:00:12 \u001B[90mv\u001B[0m #119 > >     | Plosive | Nasal | Trill\n",
      "00:00:12 \u001B[90mv\u001B[0m #120 > >     | TapOrFlap | Fricative | LateralFricative\n",
      "00:00:12 \u001B[90mv\u001B[0m #121 > >     | Approximant | LateralApproximant\n",
      "00:00:12 \u001B[90mv\u001B[0m #122 > >\n",
      "00:00:12 \u001B[90mv\u001B[0m #123 > > and Voicing = Voiced | Voiceless\n",
      "00:00:12 \u001B[90mv\u001B[0m #124 > >\n",
      "00:00:12 \u001B[90mv\u001B[0m #125 > > and SecondaryArticulation =\n",
      "00:00:12 \u001B[90mv\u001B[0m #126 > >     | Labialization | Palatalization | Velarization\n",
      "00:00:12 \u001B[90mv\u001B[0m #127 > >     | Pharyngealization | Aspiration\n",
      "00:00:12 \u001B[90mv\u001B[0m #128 > >\n",
      "00:00:12 \u001B[90mv\u001B[0m #129 > > and Tone =\n",
      "00:00:12 \u001B[90mv\u001B[0m #130 > >     | LevelTone of int\n",
      "00:00:12 \u001B[90mv\u001B[0m #131 > >     | ContourTone of int list\n",
      "00:00:12 \u001B[90mv\u001B[0m #132 > >\n",
      "00:00:12 \u001B[90mv\u001B[0m #133 > > and MorphologicalFeature =\n",
      "00:00:12 \u001B[90mv\u001B[0m #134 > >     | RootFeature of string\n",
      "00:00:12 \u001B[90mv\u001B[0m #135 > >     | AffixFeature of AffixType * string\n",
      "00:00:12 \u001B[90mv\u001B[0m #136 > >     | IncorporationFeature of string * MorphologicalFeature\n",
      "00:00:12 \u001B[90mv\u001B[0m #137 > >     | NonConcatenativePattern of string * string\n",
      "00:00:12 \u001B[90mv\u001B[0m #138 > >     | AgglutinativeAffixFeature of AgglutinativeAffixType * string\n",
      "00:00:12 \u001B[90mv\u001B[0m #139 > >     | HonorificFeature of HonorificType * string\n",
      "00:00:12 \u001B[90mv\u001B[0m #140 > >\n",
      "00:00:12 \u001B[90mv\u001B[0m #141 > > and AgglutinativeAffixType = Suffix | Prefix\n",
      "00:00:12 \u001B[90mv\u001B[0m #142 > >\n",
      "00:00:12 \u001B[90mv\u001B[0m #143 > > and HonorificType = VerbHonorific | NounHonorific\n",
      "00:00:12 \u001B[90mv\u001B[0m #144 > >\n",
      "00:00:12 \u001B[90mv\u001B[0m #145 > > and AffixType =\n",
      "00:00:12 \u001B[90mv\u001B[0m #146 > >     | Prefix | Suffix | Infix\n",
      "00:00:12 \u001B[90mv\u001B[0m #147 > >     | Circumfix\n",
      "00:00:12 \u001B[90mv\u001B[0m #148 > >\n",
      "00:00:12 \u001B[90mv\u001B[0m #149 > > type SyntacticFeature =\n",
      "00:00:12 \u001B[90mv\u001B[0m #150 > >     | WordFeature of MorphologicalFeature list * LexicalCategory\n",
      "00:00:12 \u001B[90mv\u001B[0m #151 > >     | PhraseFeature of PhraseType * SyntacticFeature list\n",
      "00:00:12 \u001B[90mv\u001B[0m #152 > >     | GrammaticalRelation of GrammaticalRelationType * SyntacticFeature list\n",
      "00:00:12 \u001B[90mv\u001B[0m #153 > >     | SOVOrderFeature\n",
      "00:00:12 \u001B[90mv\u001B[0m #154 > >     | TopicCommentFeature\n",
      "00:00:12 \u001B[90mv\u001B[0m #155 > >\n",
      "00:00:12 \u001B[90mv\u001B[0m #156 > > and GrammaticalRelationType =\n",
      "00:00:12 \u001B[90mv\u001B[0m #157 > >     | Ergative | Absolutive | Nominative\n",
      "00:00:12 \u001B[90mv\u001B[0m #158 > >     | Accusative\n",
      "00:00:12 \u001B[90mv\u001B[0m #159 > >\n",
      "00:00:12 \u001B[90mv\u001B[0m #160 > > and LexicalCategory =\n",
      "00:00:12 \u001B[90mv\u001B[0m #161 > >     | Noun | Verb | Adjective\n",
      "00:00:12 \u001B[90mv\u001B[0m #162 > >     | Adverb | Pronoun | Preposition\n",
      "00:00:12 \u001B[90mv\u001B[0m #163 > >     | Conjunction | Determiner | Interjection\n",
      "00:00:12 \u001B[90mv\u001B[0m #164 > >\n",
      "00:00:12 \u001B[90mv\u001B[0m #165 > > and PhraseType =\n",
      "00:00:12 \u001B[90mv\u001B[0m #166 > >     | NP | VP | AP\n",
      "00:00:12 \u001B[90mv\u001B[0m #167 > >     | PP | CP\n",
      "00:00:12 \u001B[90mv\u001B[0m #168 > >\n",
      "00:00:12 \u001B[90mv\u001B[0m #169 > > and SemanticFeature =\n",
      "00:00:12 \u001B[90mv\u001B[0m #170 > >     | Meaning of string\n",
      "00:00:12 \u001B[90mv\u001B[0m #171 > >     | SemanticRole of SemanticRoleType * SemanticFeature\n",
      "00:00:12 \u001B[90mv\u001B[0m #172 > >\n",
      "00:00:12 \u001B[90mv\u001B[0m #173 > > and SemanticRoleType =\n",
      "00:00:12 \u001B[90mv\u001B[0m #174 > >     | Agent | Patient | Instrument\n",
      "00:00:12 \u001B[90mv\u001B[0m #175 > >     | Location | Time | Cause\n",
      "00:00:12 \u001B[90mv\u001B[0m #176 > >\n",
      "00:00:12 \u001B[90mv\u001B[0m #177 > > and PragmaticFeature =\n",
      "00:00:12 \u001B[90mv\u001B[0m #178 > >     | UseContext of string\n",
      "00:00:12 \u001B[90mv\u001B[0m #179 > >     | PolitenessLevel of Politeness\n",
      "00:00:12 \u001B[90mv\u001B[0m #180 > >     | SpeechAct of SpeechActType\n",
      "00:00:12 \u001B[90mv\u001B[0m #181 > >     | SpeechLevel of SpeechLevelType\n",
      "00:00:12 \u001B[90mv\u001B[0m #182 > >\n",
      "00:00:12 \u001B[90mv\u001B[0m #183 > > and Politeness = Formal | Informal | Neutral\n",
      "00:00:12 \u001B[90mv\u001B[0m #184 > >\n",
      "00:00:12 \u001B[90mv\u001B[0m #185 > > and SpeechActType =\n",
      "00:00:12 \u001B[90mv\u001B[0m #186 > >     | Assertive | Directive | Commissive\n",
      "00:00:12 \u001B[90mv\u001B[0m #187 > >     | Expressive | Declarative\n",
      "00:00:12 \u001B[90mv\u001B[0m #188 > >\n",
      "00:00:12 \u001B[90mv\u001B[0m #189 > > and SpeechLevelType =\n",
      "00:00:12 \u001B[90mv\u001B[0m #190 > >     | FormalHigh | FormalLow | InformalHigh\n",
      "00:00:12 \u001B[90mv\u001B[0m #191 > >     | InformalLow | Neutral\n",
      "00:00:12 \u001B[90mv\u001B[0m #192 > >\n",
      "00:00:12 \u001B[90mv\u001B[0m #193 > > type LinguisticFeature =\n",
      "00:00:12 \u001B[90mv\u001B[0m #194 > >     | Phonological of PhonologicalFeature\n",
      "00:00:12 \u001B[90mv\u001B[0m #195 > >     | Morphological of MorphologicalFeature\n",
      "00:00:12 \u001B[90mv\u001B[0m #196 > >     | Syntactic of SyntacticFeature\n",
      "00:00:12 \u001B[90mv\u001B[0m #197 > >     | Semantic of SemanticFeature\n",
      "00:00:12 \u001B[90mv\u001B[0m #198 > >     | Pragmatic of PragmaticFeature\n",
      "00:00:12 \u001B[90mv\u001B[0m #199 > >\n",
      "00:00:12 \u001B[90mv\u001B[0m #200 > > type LanguageConstruct =\n",
      "00:00:12 \u001B[90mv\u001B[0m #201 > >     | LanguageElement of LinguisticFeature\n",
      "00:00:12 \u001B[90mv\u001B[0m #202 > >     | LanguageStructure of LanguageConstruct list\n",
      "00:00:12 \u001B[90mv\u001B[0m #203 > >     | TranslationElement of TranslationFeature\n",
      "00:00:12 \u001B[90mv\u001B[0m #204 > >\n",
      "00:00:12 \u001B[90mv\u001B[0m #205 > > and TranslationFeature =\n",
      "00:00:12 \u001B[90mv\u001B[0m #206 > >     | LinkedPhonological of PhonologicalFeature * PhonologicalFeature\n",
      "00:00:12 \u001B[90mv\u001B[0m #207 > >     | LinkedMorphological of MorphologicalFeature * MorphologicalFeature\n",
      "00:00:12 \u001B[90mv\u001B[0m #208 > >     | LinkedSyntactic of SyntacticFeature * SyntacticFeature\n",
      "00:00:12 \u001B[90mv\u001B[0m #209 > >     | LinkedSemantic of SemanticFeature * SemanticFeature\n",
      "00:00:12 \u001B[90mv\u001B[0m #210 > >\n",
      "00:00:12 \u001B[90mv\u001B[0m #211 > > type Discourse = DiscourseUnit of LanguageConstruct list\n",
      "00:00:12 \u001B[90mv\u001B[0m #212 > >\n",
      "00:00:12 \u001B[90mv\u001B[0m #213 > > type LanguageModel =\n",
      "00:00:12 \u001B[90mv\u001B[0m #214 > >     | Model of discourse: Discourse\n",
      "00:00:13 \u001B[90mv\u001B[0m #215 > >\n",
      "00:00:13 \u001B[90mv\u001B[0m #216 > > ── fsharp ──────────────────────────────────────────────────────────────────────\n",
      "00:00:13 \u001B[90mv\u001B[0m #217 > > let testEnglish =\n",
      "00:00:13 \u001B[90mv\u001B[0m #218 > >     Model(\n",
      "00:00:13 \u001B[90mv\u001B[0m #219 > >         DiscourseUnit [[\n",
      "00:00:13 \u001B[90mv\u001B[0m #220 > >             LanguageElement (Phonological (ConsonantFeature (Alveolar, Nasal,\n",
      "00:00:13 \u001B[90mv\u001B[0m #221 > > Voiced, Some(HalfLong))));\n",
      "00:00:13 \u001B[90mv\u001B[0m #222 > >             LanguageElement (Phonological (VowelFeature (High, Front, Unrounded,\n",
      "00:00:13 \u001B[90mv\u001B[0m #223 > > Some(LevelTone 1), Some(Primary), Some(Short))));\n",
      "00:00:13 \u001B[90mv\u001B[0m #224 > >             LanguageElement (Phonological (VowelFeature (Low, Front, Unrounded,\n",
      "00:00:13 \u001B[90mv\u001B[0m #225 > > Some(LevelTone 2), Some(Secondary), Some(Long))));\n",
      "00:00:13 \u001B[90mv\u001B[0m #226 > >             LanguageElement (Phonological (ConsonantFeature (Velar, Plosive,\n",
      "00:00:13 \u001B[90mv\u001B[0m #227 > > Voiceless, Some(HalfLong))));\n",
      "00:00:13 \u001B[90mv\u001B[0m #228 > >             LanguageElement (Morphological (RootFeature \"I\"));\n",
      "00:00:13 \u001B[90mv\u001B[0m #229 > >             LanguageElement (Morphological (RootFeature \"see\"));\n",
      "00:00:13 \u001B[90mv\u001B[0m #230 > >             LanguageElement (Morphological (RootFeature \"a\"));\n",
      "00:00:13 \u001B[90mv\u001B[0m #231 > >             LanguageElement (Morphological (RootFeature \"cat\"));\n",
      "00:00:13 \u001B[90mv\u001B[0m #232 > >             LanguageElement (Syntactic (PhraseFeature (NP, [[WordFeature\n",
      "00:00:13 \u001B[90mv\u001B[0m #233 > > ([[RootFeature \"I\"]], Pronoun)]])));\n",
      "00:00:13 \u001B[90mv\u001B[0m #234 > >             LanguageElement (Syntactic (PhraseFeature (VP, [[WordFeature\n",
      "00:00:13 \u001B[90mv\u001B[0m #235 > > ([[RootFeature \"see\"]], Verb)]])));\n",
      "00:00:13 \u001B[90mv\u001B[0m #236 > >             LanguageElement (Syntactic (PhraseFeature (NP, [[WordFeature\n",
      "00:00:13 \u001B[90mv\u001B[0m #237 > > ([[RootFeature \"a\"; RootFeature \"cat\"]], Noun)]])));\n",
      "00:00:13 \u001B[90mv\u001B[0m #238 > >             LanguageElement (Semantic (Meaning \"Perception act of a feline by\n",
      "00:00:13 \u001B[90mv\u001B[0m #239 > > the speaker\"));\n",
      "00:00:13 \u001B[90mv\u001B[0m #240 > >             LanguageElement (Pragmatic (UseContext \"Statement of an action being\n",
      "00:00:13 \u001B[90mv\u001B[0m #241 > > observed\"))\n",
      "00:00:13 \u001B[90mv\u001B[0m #242 > >         ]]\n",
      "00:00:13 \u001B[90mv\u001B[0m #243 > >     )\n",
      "00:00:13 \u001B[90mv\u001B[0m #244 > >\n",
      "00:00:13 \u001B[90mv\u001B[0m #245 > > let testPortuguese =\n",
      "00:00:13 \u001B[90mv\u001B[0m #246 > >     Model(\n",
      "00:00:13 \u001B[90mv\u001B[0m #247 > >         DiscourseUnit [[\n",
      "00:00:13 \u001B[90mv\u001B[0m #248 > >             LanguageElement (Phonological (VowelFeature (High, Front, Unrounded,\n",
      "00:00:13 \u001B[90mv\u001B[0m #249 > > Some(LevelTone 1), Some(Primary), Some(Short))));\n",
      "00:00:13 \u001B[90mv\u001B[0m #250 > >             LanguageElement (Phonological (VowelFeature (Low, Front, Unrounded,\n",
      "00:00:13 \u001B[90mv\u001B[0m #251 > > Some(LevelTone 2), Some(Secondary), Some(Long))));\n",
      "00:00:13 \u001B[90mv\u001B[0m #252 > >             LanguageElement (Phonological (VowelFeature (Mid, Back, Rounded,\n",
      "00:00:13 \u001B[90mv\u001B[0m #253 > > Some(LevelTone 3), Some(Primary), Some(Short))));\n",
      "00:00:13 \u001B[90mv\u001B[0m #254 > >             LanguageElement (Phonological (ConsonantFeature (Velar, Plosive,\n",
      "00:00:13 \u001B[90mv\u001B[0m #255 > > Voiceless, Some(HalfLong))));\n",
      "00:00:13 \u001B[90mv\u001B[0m #256 > >             LanguageElement (Morphological (RootFeature \"Eu\"));\n",
      "00:00:13 \u001B[90mv\u001B[0m #257 > >             LanguageElement (Morphological (RootFeature \"ver\" |> ignore;\n",
      "00:00:13 \u001B[90mv\u001B[0m #258 > > AffixFeature (Suffix, \"o\")));\n",
      "00:00:13 \u001B[90mv\u001B[0m #259 > >             LanguageElement (Morphological (RootFeature \"um\"));\n",
      "00:00:13 \u001B[90mv\u001B[0m #260 > >             LanguageElement (Morphological (RootFeature \"gato\"));\n",
      "00:00:13 \u001B[90mv\u001B[0m #261 > >             LanguageElement (Syntactic (PhraseFeature (NP, [[WordFeature\n",
      "00:00:13 \u001B[90mv\u001B[0m #262 > > ([[RootFeature \"Eu\"]], Pronoun)]])));\n",
      "00:00:13 \u001B[90mv\u001B[0m #263 > >             LanguageElement (Syntactic (PhraseFeature (VP, [[WordFeature\n",
      "00:00:13 \u001B[90mv\u001B[0m #264 > > ([[RootFeature \"vejo\"]], Verb)]])));\n",
      "00:00:13 \u001B[90mv\u001B[0m #265 > >             LanguageElement (Syntactic (PhraseFeature (NP, [[WordFeature\n",
      "00:00:13 \u001B[90mv\u001B[0m #266 > > ([[RootFeature \"um\"; RootFeature \"gato\"]], Noun)]])));\n",
      "00:00:13 \u001B[90mv\u001B[0m #267 > >             LanguageElement (Semantic (Meaning \"Ação de percepção de um felino\n",
      "00:00:13 \u001B[90mv\u001B[0m #268 > > pelo falante\"));\n",
      "00:00:13 \u001B[90mv\u001B[0m #269 > >             LanguageElement (Pragmatic (UseContext \"Declaração de uma ação sendo\n",
      "00:00:13 \u001B[90mv\u001B[0m #270 > > observada\"))\n",
      "00:00:13 \u001B[90mv\u001B[0m #271 > >         ]]\n",
      "00:00:13 \u001B[90mv\u001B[0m #272 > >     )\n",
      "00:00:13 \u001B[90mv\u001B[0m #273 > >\n",
      "00:00:13 \u001B[90mv\u001B[0m #274 > > let testKorean =\n",
      "00:00:13 \u001B[90mv\u001B[0m #275 > >     Model(\n",
      "00:00:13 \u001B[90mv\u001B[0m #276 > >         DiscourseUnit [[\n",
      "00:00:13 \u001B[90mv\u001B[0m #277 > >             LanguageElement (Phonological (ConsonantFeature (Alveolar, Nasal,\n",
      "00:00:13 \u001B[90mv\u001B[0m #278 > > Voiced, Some(Short))));\n",
      "00:00:13 \u001B[90mv\u001B[0m #279 > >             LanguageElement (Phonological (VowelFeature (High, Back, Rounded,\n",
      "00:00:13 \u001B[90mv\u001B[0m #280 > > None, None, Some(Short))));\n",
      "00:00:13 \u001B[90mv\u001B[0m #281 > >             LanguageElement (Phonological (VowelFeature (Mid, Front, Unrounded,\n",
      "00:00:13 \u001B[90mv\u001B[0m #282 > > None, None, Some(Long))));\n",
      "00:00:13 \u001B[90mv\u001B[0m #283 > >             LanguageElement (Phonological (ConsonantFeature (Bilabial, Plosive,\n",
      "00:00:13 \u001B[90mv\u001B[0m #284 > > Voiceless, Some(Short))));\n",
      "00:00:13 \u001B[90mv\u001B[0m #285 > >             LanguageElement (Morphological (RootFeature \"나\"));\n",
      "00:00:13 \u001B[90mv\u001B[0m #286 > >             LanguageElement (Morphological (RootFeature \"보다\"));\n",
      "00:00:13 \u001B[90mv\u001B[0m #287 > >             LanguageElement (Morphological (AffixFeature (Suffix, \"아\")));\n",
      "00:00:13 \u001B[90mv\u001B[0m #288 > >             LanguageElement (Morphological (RootFeature \"고양이\"));\n",
      "00:00:13 \u001B[90mv\u001B[0m #289 > >             LanguageElement (Syntactic (PhraseFeature (NP, [[WordFeature\n",
      "00:00:13 \u001B[90mv\u001B[0m #290 > > ([[RootFeature \"나\"]], Pronoun)]])));\n",
      "00:00:13 \u001B[90mv\u001B[0m #291 > >             LanguageElement (Syntactic (PhraseFeature (VP, [[WordFeature\n",
      "00:00:13 \u001B[90mv\u001B[0m #292 > > ([[RootFeature \"보다\"; AffixFeature (Suffix, \"아\")]], Verb)]])));\n",
      "00:00:13 \u001B[90mv\u001B[0m #293 > >             LanguageElement (Syntactic (PhraseFeature (NP, [[WordFeature\n",
      "00:00:13 \u001B[90mv\u001B[0m #294 > > ([[RootFeature \"고양이\"]], Noun)]])));\n",
      "00:00:13 \u001B[90mv\u001B[0m #295 > >             LanguageElement (Semantic (Meaning \"화자에 의한 고양이의 관찰\n",
      "00:00:13 \u001B[90mv\u001B[0m #296 > > 행위\"));\n",
      "00:00:13 \u001B[90mv\u001B[0m #297 > >             LanguageElement (Pragmatic (UseContext \"관찰되고 있는 행동의 진술\"))\n",
      "00:00:13 \u001B[90mv\u001B[0m #298 > >         ]]\n",
      "00:00:13 \u001B[90mv\u001B[0m #299 > >     )\n",
      "00:00:13 \u001B[90mv\u001B[0m #300 > >\n",
      "00:00:13 \u001B[90mv\u001B[0m #301 > > ── markdown ────────────────────────────────────────────────────────────────────\n",
      "00:00:13 \u001B[90mv\u001B[0m #302 > > ╭──────────────────────────────────────────────────────────────────────────────╮\n",
      "00:00:13 \u001B[90mv\u001B[0m #303 > > │ ## main                                                                      │\n",
      "00:00:13 \u001B[90mv\u001B[0m #304 > > ╰──────────────────────────────────────────────────────────────────────────────╯\n",
      "00:00:13 \u001B[90mv\u001B[0m #305 > >\n",
      "00:00:13 \u001B[90mv\u001B[0m #306 > > ── spiral ──────────────────────────────────────────────────────────────────────\n",
      "00:00:13 \u001B[90mv\u001B[0m #307 > > inl main (_args : array_base string) =\n",
      "00:00:13 \u001B[90mv\u001B[0m #308 > >     0i32\n",
      "00:00:13 \u001B[90mv\u001B[0m #309 > >\n",
      "00:00:13 \u001B[90mv\u001B[0m #310 > > inl main () =\n",
      "00:00:13 \u001B[90mv\u001B[0m #311 > >     $'let main args = !main args' : ()\n",
      "00:00:14 \u001B[90mv\u001B[0m #312 > >\n",
      "00:00:14 \u001B[90mv\u001B[0m #313 > > ── spiral ──────────────────────────────────────────────────────────────────────\n",
      "00:00:14 \u001B[90mv\u001B[0m #314 > > inl app () =\n",
      "00:00:14 \u001B[90mv\u001B[0m #315 > >     \"test\" |> console.write_line\n",
      "00:00:14 \u001B[90mv\u001B[0m #316 > >     0i32\n",
      "00:00:14 \u001B[90mv\u001B[0m #317 > >\n",
      "00:00:14 \u001B[90mv\u001B[0m #318 > > inl main () =\n",
      "00:00:14 \u001B[90mv\u001B[0m #319 > >     print_static \"<test>\"\n",
      "00:00:14 \u001B[90mv\u001B[0m #320 > >\n",
      "00:00:14 \u001B[90mv\u001B[0m #321 > >     app\n",
      "00:00:14 \u001B[90mv\u001B[0m #322 > >     |> dyn\n",
      "00:00:14 \u001B[90mv\u001B[0m #323 > >     |> ignore\n",
      "00:00:14 \u001B[90mv\u001B[0m #324 > >\n",
      "00:00:14 \u001B[90mv\u001B[0m #325 > >     print_static \"</test>\"\n",
      "00:00:14 \u001B[90mv\u001B[0m #326 > 00:00:13 \u001B[90mv\u001B[39m #3 runtime.execute_with_options / result / { exit_code = 0; std_trace_length = 10945 }\n",
      "00:00:14 \u001B[90mv\u001B[0m #327 > 00:00:13 \u001B[94md\u001B[39m #4 runtime.execute_with_options / { file_name = jupyter; arguments = [\"nbconvert\", \"c:/home/git/polyglot/apps/spiral/temp/test/test.dib.ipynb\", \"--to\", \"html\", \"--HTMLExporter.theme=dark\"]; options = { command = jupyter nbconvert \"c:/home/git/polyglot/apps/spiral/temp/test/test.dib.ipynb\" --to html --HTMLExporter.theme=dark; cancellation_token = None; environment_variables = Array(MutCell([])); on_line = None; stdin = None; trace = true; working_directory = None } }\n",
      "00:00:16 \u001B[90mv\u001B[0m #328 > 00:00:15 \u001B[90mv\u001B[39m #5 ! [NbConvertApp] Converting notebook c:/home/git/polyglot/apps/spiral/temp/test/test.dib.ipynb to html\n",
      "00:00:16 \u001B[90mv\u001B[0m #329 > 00:00:15 \u001B[90mv\u001B[39m #6 ! C:\\Users\\i574n\\scoop\\apps\\python312\\current\\Lib\\site-packages\\nbformat\\__init__.py:96: MissingIDFieldWarning: Cell is missing an id field, this will become a hard error in future nbformat versions. You may want to use `normalize()` on your notebooks before validations (available since nbformat 5.1.4). Previous versions of nbformat are fixing this issue transparently, and will stop doing so in the future.\n",
      "00:00:16 \u001B[90mv\u001B[0m #330 > 00:00:15 \u001B[90mv\u001B[39m #7 !   validate(nb)\n",
      "00:00:16 \u001B[90mv\u001B[0m #331 > 00:00:16 \u001B[90mv\u001B[39m #8 ! C:\\Users\\i574n\\scoop\\apps\\python312\\current\\Lib\\site-packages\\nbconvert\\filters\\highlight.py:71: UserWarning: IPython3 lexer unavailable, falling back on Python 3\n",
      "00:00:16 \u001B[90mv\u001B[0m #332 > 00:00:16 \u001B[90mv\u001B[39m #9 !   return _pygments_highlight(\n",
      "00:00:17 \u001B[90mv\u001B[0m #333 > 00:00:16 \u001B[90mv\u001B[39m #10 ! [NbConvertApp] Writing 318992 bytes to c:\\home\\git\\polyglot\\apps\\spiral\\temp\\test\\test.dib.html\n",
      "00:00:17 \u001B[90mv\u001B[0m #334 > 00:00:16 \u001B[90mv\u001B[39m #11 runtime.execute_with_options / result / { exit_code = 0; std_trace_length = 872 }\n",
      "00:00:17 \u001B[90mv\u001B[0m #335 > 00:00:16 \u001B[94md\u001B[39m #12 spiral_builder.run / dib / jupyter nbconvert / { exit_code = 0; jupyter_result_length = 872 }\n",
      "00:00:17 \u001B[90mv\u001B[0m #336 > 00:00:16 \u001B[94md\u001B[39m #13 runtime.execute_with_options / { file_name = pwsh; arguments = [\"-c\", \"$counter = 1; $path = 'c:/home/git/polyglot/apps/spiral/temp/test/test.dib.html'; (Get-Content $path -Raw) -replace '(id=\\\\\\\"cell-id=)[a-fA-F0-9]{8}', { $_.Groups[1].Value + $counter++ } | Set-Content $path\"]; options = { command = pwsh -c \"$counter = 1; $path = 'c:/home/git/polyglot/apps/spiral/temp/test/test.dib.html'; (Get-Content $path -Raw) -replace '(id=\\\"cell-id=)[a-fA-F0-9]{8}', { $_.Groups[1].Value + $counter++ } | Set-Content $path\"; cancellation_token = None; environment_variables = Array(MutCell([])); on_line = None; stdin = None; trace = true; working_directory = None } }\n",
      "00:00:17 \u001B[90mv\u001B[0m #337 > 00:00:16 \u001B[90mv\u001B[39m #14 runtime.execute_with_options / result / { exit_code = 0; std_trace_length = 0 }\n",
      "00:00:17 \u001B[90mv\u001B[0m #338 > 00:00:16 \u001B[94md\u001B[39m #15 spiral_builder.run / dib / html cell ids / { exit_code = 0; pwsh_replace_html_result_length = 0 }\n",
      "00:00:17 \u001B[90mv\u001B[0m #339 > 00:00:16 \u001B[94md\u001B[39m #16 spiral_builder.run / dib / { exit_code = 0; result_length = 11876 }\n",
      "00:00:17 \u001B[94md\u001B[0m #340 runtime.execute_with_options_async / { exit_code = 0; output_length = 15157 }\n",
      "00:00:17 \u001B[94md\u001B[0m #1 main / executeCommand / exitCode: 0 / command: ../../../../workspace/target/release/spiral_builder.exe dib --path test.dib --retries 3\n"
     ]
    }
   ],
   "source": [
    "{ . ../../../../apps/spiral/dist/Supervisor$(_exe) --execute-command \"../../../../workspace/target/release/spiral_builder$(_exe) dib --path test.dib --retries 3\" } | Invoke-Block"
   ]
  },
  {
   "cell_type": "markdown",
   "metadata": {},
   "source": [
    "### parse the .dib file into .spi format with dibparser"
   ]
  },
  {
   "cell_type": "code",
   "execution_count": null,
   "metadata": {
    "dotnet_interactive": {
     "language": "pwsh"
    },
    "polyglot_notebook": {
     "kernelName": "pwsh"
    }
   },
   "outputs": [
    {
     "name": "stdout",
     "output_type": "stream",
     "text": [
      "00:00:00 \u001B[94md\u001B[0m #1 writeDibCode / output: Spi / path: test.dib\n",
      "00:00:00 \u001B[94md\u001B[0m #2 parseDibCode / output: Spi / file: test.dib\n"
     ]
    }
   ],
   "source": [
    "{ . ../../../../apps/parser/dist/DibParser$(_exe) test.dib spi } | Invoke-Block"
   ]
  },
  {
   "cell_type": "markdown",
   "metadata": {},
   "source": [
    "### build .fsx file from .spi using supervisor"
   ]
  },
  {
   "cell_type": "code",
   "execution_count": null,
   "metadata": {
    "dotnet_interactive": {
     "language": "pwsh"
    },
    "polyglot_notebook": {
     "kernelName": "pwsh"
    }
   },
   "outputs": [
    {
     "name": "stdout",
     "output_type": "stream",
     "text": [
      "00:00:00 \u001B[90mv\u001B[0m #1 async.run_with_timeout_async / { timeout = 180 }\n",
      "00:00:01 \u001B[90mv\u001B[0m #2 async.run_with_timeout_async / { timeout = 180 }\n",
      "00:00:01 \u001B[94md\u001B[0m #1 Supervisor.buildFile / takeWhileInclusive / outputContent:\n",
      " / errors: [] / typeErrorCount: 0 / retry: 0 / path: test.spi\n",
      "00:00:01 \u001B[94md\u001B[0m #2 Supervisor.buildFile / AsyncSeq.scan / outputContent:\n",
      " / errors: [] / outputContentResult:  / typeErrorCount: 0 / retry: 0 / error:  / path: test.spi\n",
      "00:00:01 \u001B[94md\u001B[0m #3 Supervisor.buildFile / takeWhileInclusive / outputContent:\n",
      " / errors: [] / typeErrorCount: 0 / retry: 0 / path: test.spi\n",
      "00:00:01 \u001B[90mv\u001B[0m #4 Supervisor.sendJson / port: 13805 / json: {\"FileOpen\":{\"spiText\":\"/// # test (Polyglot)\\nnominal i = ()\\nnominal e = ()\\nnominal s = ()\\nnomin...0022\\u003C/test\\u003E\\u0022\\n\",\"uri\":\"file:///c:/home/git/polyglot/apps/spiral/temp/test/test.spi\"}} / result:\n",
      "00:00:01 \u001B[90mv\u001B[0m #5 Supervisor.sendJson / port: 13805 / json: {\"BuildFile\":{\"backend\":\"Fsharp\",\"uri\":\"file:///c:/home/git/polyglot/apps/spiral/temp/test/test.spi\"}} / result:\n",
      "00:00:01 \u001B[94md\u001B[0m #6 Supervisor.buildFile / AsyncSeq.scan / outputContent:\n",
      "let rec closure1 () () : unit =\n",
      "    let v0 : (string -> unit) = System.Console.WriteLine\n",
      "    let v1 : string = \"test\"\n",
      "    v0 v1\n",
      "and closure0 () () : i...t v0 : unit = ()\n",
      "    let v1 : (unit -> unit) = closure1()\n",
      "    let v2 : unit = (fun () -> v1 (); v0) ()\n",
      "    0\n",
      "let v0 : (unit -> int32) = closure0()\n",
      "()\n",
      " / errors: [] / outputContentResult:  / typeErrorCount: 0 / retry: 0 / error:  / path: test.spi\n",
      "00:00:01 \u001B[94md\u001B[0m #7 Supervisor.buildFile / takeWhileInclusive / outputContent:\n",
      "let rec closure1 () () : unit =\n",
      "    let v0 : (string -> unit) = System.Console.WriteLine\n",
      "    let v1 : string = \"test\"\n",
      "    v0 v1\n",
      "and closure0 () () : i...t v0 : unit = ()\n",
      "    let v1 : (unit -> unit) = closure1()\n",
      "    let v2 : unit = (fun () -> v1 (); v0) ()\n",
      "    0\n",
      "let v0 : (unit -> int32) = closure0()\n",
      "()\n",
      " / errors: [] / typeErrorCount: 0 / retry: 0 / path: test.spi\n",
      "00:00:01 \u001B[94md\u001B[0m #8 FileSystem.watchWithFilter / Disposing watch stream / filter: FileName, LastWrite\n"
     ]
    }
   ],
   "source": [
    "{ . ../../../../apps/spiral/dist/Supervisor$(_exe) --build-file test.spi test.fsx } | Invoke-Block"
   ]
  },
  {
   "cell_type": "markdown",
   "metadata": {},
   "source": [
    "## compile and format the project"
   ]
  },
  {
   "cell_type": "markdown",
   "metadata": {},
   "source": [
    "### compile project with fable targeting optimized rust"
   ]
  },
  {
   "cell_type": "code",
   "execution_count": null,
   "metadata": {
    "dotnet_interactive": {
     "language": "pwsh"
    },
    "polyglot_notebook": {
     "kernelName": "pwsh"
    }
   },
   "outputs": [
    {
     "name": "stdout",
     "output_type": "stream",
     "text": [
      "Fable 4.21.0: F# to Rust compiler (status: alpha)\n",
      "\n",
      "Thanks to the contributor! @bentayloruk\n",
      "Stand with Ukraine! https://standwithukraine.com.ua/\n",
      "\n",
      "Parsing test.fsproj...\n",
      "Retrieving project options from cache, in case of issues run `dotnet fable clean` or try `--noCache` option.\n",
      "Project and references (1 source files) parsed in 192ms\n",
      "\n",
      "Started Fable compilation...\n",
      "\n",
      "Fable compilation finished in 1366ms\n",
      "\n",
      ".\\test.fsx(11,0): (11,2) warning FABLE: For Rust, support for F# static and module do bindings is disabled by default. It can be enabled with the 'static_do_bindings' feature. Use at your own risk!\n"
     ]
    }
   ],
   "source": [
    "dotnet fable --optimize --lang rs --extension .rs"
   ]
  },
  {
   "cell_type": "markdown",
   "metadata": {},
   "source": [
    "### fix formatting issues in the .rs file using regex and set-content"
   ]
  },
  {
   "cell_type": "code",
   "execution_count": null,
   "metadata": {
    "dotnet_interactive": {
     "language": "pwsh"
    },
    "polyglot_notebook": {
     "kernelName": "pwsh"
    }
   },
   "outputs": [],
   "source": [
    "(Get-Content test.rs) `\n",
    "    -replace [regex]::Escape(\"),);\"), \"));\" `\n",
    "    | FixRust `\n",
    "| Set-Content test.rs"
   ]
  },
  {
   "cell_type": "markdown",
   "metadata": {},
   "source": [
    "### format the rust code using cargo fmt"
   ]
  },
  {
   "cell_type": "code",
   "execution_count": null,
   "metadata": {
    "dotnet_interactive": {
     "language": "pwsh"
    },
    "polyglot_notebook": {
     "kernelName": "pwsh"
    }
   },
   "outputs": [],
   "source": [
    "cargo fmt --"
   ]
  },
  {
   "cell_type": "markdown",
   "metadata": {},
   "source": [
    "## build and test the project"
   ]
  },
  {
   "cell_type": "markdown",
   "metadata": {},
   "source": [
    "### build the project in release mode using nightly rust compiler"
   ]
  },
  {
   "cell_type": "code",
   "execution_count": null,
   "metadata": {
    "dotnet_interactive": {
     "language": "pwsh"
    },
    "polyglot_notebook": {
     "kernelName": "pwsh"
    }
   },
   "outputs": [
    {
     "name": "stdout",
     "output_type": "stream",
     "text": [
      "\u001B[31;1m   Compiling fable_library_rust v0.1.0 (C:\\home\\git\\polyglot\\lib\\rust\\fable\\fable_modules\\fable-library-rust)\u001B[0m\n",
      "\u001B[31;1m   Compiling spiral_temp_test v0.0.1 (C:\\home\\git\\polyglot\\apps\\spiral\\temp\\test)\u001B[0m\n",
      "\u001B[31;1m    Finished `release` profile [optimized] target(s) in 7.00s\u001B[0m\n"
     ]
    }
   ],
   "source": [
    "cargo build --release"
   ]
  },
  {
   "cell_type": "markdown",
   "metadata": {},
   "source": [
    "### run release tests with output enabled"
   ]
  },
  {
   "cell_type": "code",
   "execution_count": null,
   "metadata": {
    "dotnet_interactive": {
     "language": "pwsh"
    },
    "polyglot_notebook": {
     "kernelName": "pwsh"
    }
   },
   "outputs": [
    {
     "name": "stdout",
     "output_type": "stream",
     "text": [
      "\u001B[31;1m   Compiling spiral_temp_test v0.0.1 (C:\\home\\git\\polyglot\\apps\\spiral\\temp\\test)\u001B[0m\n",
      "\u001B[31;1m    Finished `release` profile [optimized] target(s) in 17.12s\u001B[0m\n",
      "\u001B[31;1m     Running unittests main.rs (C:\\home\\git\\polyglot\\workspace\\target\\release\\deps\\spiral_temp_test-39112fa95409795e.exe)\u001B[0m\n",
      "\n",
      "running 3 tests\n",
      "test test_parse_number ... ok\n",
      "test prop_parse_format_idempotent ... ok\n",
      "test adding_and_then_removing_an_item_from_the_cart_leaves_the_cart_unchanged ... ok\n",
      "\n",
      "successes:\n",
      "\n",
      "---- prop_parse_format_idempotent stdout ----\n",
      "input=StringLiteral(\"??8&Lsc:&!=f{$*.\")\n",
      "input=StringLiteral(\"OX6fJ<=I/:u) i*.Up\")\n",
      "input=Identifier(\"Zk603eI5S375i88wKImcxMkJmabherk5\")\n",
      "input=Integer(2994168050515051867)\n",
      "input=Comment(\"b-mR$L8V'{2:'*gR\\\\\")\n",
      "input=StringLiteral(\"\")\n",
      "input=StringLiteral(\"%?/VI`;\")\n",
      "input=Integer(3003509918805704464)\n",
      "input=Integer(874011126562018004)\n",
      "input=Identifier(\"GSLLQBbx21qsKt4\")\n",
      "input=StringLiteral(\"j$nMce&Rba769,.&/f=Bzbe3p\")\n",
      "input=Integer(-4735451219857189958)\n",
      "input=Comment(\"7&$M.'1}\\\\?&B^@:P<W$z\")\n",
      "input=Integer(4974738698862486910)\n",
      "input=Identifier(\"t3gw8xop8G0\")\n",
      "input=Integer(8302393883570489)\n",
      "input=StringLiteral(\"s:fd!=#]_\")\n",
      "input=StringLiteral(\"\")\n",
      "input=Operator(\"-\")\n",
      "input=Comment(\":zS:r%FZ<\")\n",
      "input=Integer(-912589142971942081)\n",
      "input=Comment(\";%X}*5\")\n",
      "input=Integer(-1680680885101727324)\n",
      "input=Comment(\"rc bPM\\\\^A(Nl\\\"lI/gD@&H<&i{2\")\n",
      "input=Comment(\"?p<!8&=~\\\\'K:unU^.`*4\")\n",
      "input=Integer(-7093138475378767981)\n",
      "input=Comment(\"bc\\\\$9ngzv`c^/_j{D7sd7[[|\")\n",
      "input=Comment(\" O\")\n",
      "input=Comment(\"fp#u;~RTRt\")\n",
      "input=Operator(\")\")\n",
      "input=StringLiteral(\"%v\")\n",
      "input=Operator(\")\")\n",
      "input=Integer(8794292788540636020)\n",
      "input=StringLiteral(\"<{~+}+q*J$\")\n",
      "input=Operator(\"+\")\n",
      "input=Operator(\"=\")\n",
      "input=StringLiteral(\"\")\n",
      "input=Integer(5232063446962193970)\n",
      "input=StringLiteral(\"hk+\")\n",
      "input=Integer(-1057654202024880748)\n",
      "input=Operator(\"*\")\n",
      "input=Operator(\"(\")\n",
      "input=Comment(\"|y=d.$x:).:*s.V.\")\n",
      "input=Integer(604029890595694393)\n",
      "input=StringLiteral(\"e_/~n*\")\n",
      "input=Identifier(\"ae2Zoi7v2Um\")\n",
      "input=Comment(\"m`t*.DL,;No{%\")\n",
      "input=Comment(\"`7F.;Wb-/Pe%5:'&j{.?C$W!<\\\"8S&{9\")\n",
      "input=Operator(\"+\")\n",
      "input=Comment(\"'|Cy%??6AEAWw_$\\\\iVJ ><6w\\\"\\\"j\")\n",
      "input=Operator(\"/\")\n",
      "input=Identifier(\"YeoRXS7ovy7o89SM8PT4Jx1\")\n",
      "input=Identifier(\"kejq01DK3iv7OsE97jdA6y55nt\")\n",
      "input=Operator(\"+\")\n",
      "input=StringLiteral(\"q0=\")\n",
      "input=Integer(1380198399181708602)\n",
      "input=Identifier(\"gGEu47\")\n",
      "input=Identifier(\"Ez2o9o0zH8L8T9nIjt3onQiC5f\")\n",
      "input=StringLiteral(\"8k%Z_B&U=\")\n",
      "input=Comment(\"o\\\"%\\\\?JUsTW'=oe\")\n",
      "input=Integer(168636145636605731)\n",
      "input=Identifier(\"GkzmX80oqpJexFn\")\n",
      "input=Identifier(\"v8VO5282nAdK\")\n",
      "input=Comment(\"\\\\\\\\{{q):)rT\\\"m'Wr\")\n",
      "input=Identifier(\"Rj5DQ5\")\n",
      "input=Integer(-7115076901168438038)\n",
      "input=StringLiteral(\"<.@[uu3u#i:sw-pT\")\n",
      "input=Identifier(\"o8SCL968yL2i8F1tYLgf3dreIRXt078\")\n",
      "input=StringLiteral(\"%@?sUb7]\")\n",
      "input=Operator(\"=\")\n",
      "input=StringLiteral(\"0 Pz&ZR/%=*$@ \")\n",
      "input=Operator(\"(\")\n",
      "input=Comment(\"(%<n?Q*6X2%Z=5cRqoUig<=z+{P=\")\n",
      "input=Integer(8933347177208184301)\n",
      "input=Operator(\"*\")\n",
      "input=Comment(\"\\\\?=S(h6n=z$7-C&bz<mi95`!8zX=y\")\n",
      "input=Integer(-6381757940962521048)\n",
      "input=Identifier(\"xS3n1MHs8fKZ1\")\n",
      "input=StringLiteral(\"\")\n",
      "input=StringLiteral(\"N.1=Crx:+Xo*$6*4?1iEj<:<\")\n",
      "input=Comment(\"5?FU*R'`A`yE%\\\\Bc\")\n",
      "input=StringLiteral(\"@O6//%+M!\")\n",
      "input=Comment(\"dD]M+| *Q*^p'\")\n",
      "input=StringLiteral(\"{'<kanS=ek*M`=`H~p<k4|%E(d'\")\n",
      "input=Operator(\"/\")\n",
      "input=Comment(\"9%ax>'*aB')UgU% gQ\\\".<K&:|8>rjd\")\n",
      "input=Identifier(\"MX3Qp3\")\n",
      "input=Identifier(\"M4rZK969AD6c6Zmh64zJ9NJZ7WbvZA79a\")\n",
      "input=Integer(4765784893780407130)\n",
      "input=Identifier(\"Cbkhjn7cRvhMd473PkBBlBcN4XFD\")\n",
      "input=Comment(\"/\\\\& \")\n",
      "input=Identifier(\"QS9ZQ3XBr8gcWpw\")\n",
      "input=Comment(\"teX$?+x5y$%%vR\\\"A!$keo?BNn1\")\n",
      "input=Comment(\"_v`5.+e\")\n",
      "input=Identifier(\"Hq7u5B2\")\n",
      "input=Integer(-8642068921544812872)\n",
      "input=Integer(-3109029004826327701)\n",
      "input=Identifier(\"Kn\")\n",
      "input=Identifier(\"llGyi5r7MbeUEKa\")\n",
      "input=Identifier(\"xVrOhFUL0B39E8dirxljWctwL\")\n",
      "input=StringLiteral(\"X7`(\")\n",
      "input=Identifier(\"IZ0SnI8fQvlV0mzhOi0IX3j0QviisbxkO\")\n",
      "input=StringLiteral(\"(*mZ\")\n",
      "input=Comment(\"t\")\n",
      "input=Integer(4867923122676643914)\n",
      "input=Integer(-1201366206816178564)\n",
      "input=Comment(\"%&nzV`(f\\\"c{9Ky$HEJO`MO\")\n",
      "input=Operator(\"(\")\n",
      "input=Comment(\"<Y<0]3^\")\n",
      "input=Comment(\"<w\\\"]l!n&'_Jic<1*sk+>?*Z?j\\\":k\")\n",
      "input=Operator(\"+\")\n",
      "input=Identifier(\"Oay8yguXg63hgRrscIIcAH\")\n",
      "input=Identifier(\"My29\")\n",
      "input=Integer(5103277457501701376)\n",
      "input=Operator(\"-\")\n",
      "input=Integer(-9138178664589362584)\n",
      "input=Operator(\"+\")\n",
      "input=Comment(\"\\\"M0*V~i'lmoHC;`oc\")\n",
      "input=Identifier(\"Qy467VK66K05Lnryo5B\")\n",
      "input=StringLiteral(\"\")\n",
      "input=Comment(\"\\\"mFTt*&E<-/=lqX<4RIX{&<$>:\")\n",
      "input=StringLiteral(\".\")\n",
      "input=Identifier(\"Gu5fyCigwA1Q96Nz70xMBWu5h6C9N\")\n",
      "input=Comment(\"=t$\")\n",
      "input=Identifier(\"VL4N40TwoKvSBGJ3\")\n",
      "input=Integer(-4468217070270442473)\n",
      "input=Comment(\"7do.C*#\\\\X*nF<9]w`??0\")\n",
      "input=Operator(\"=\")\n",
      "input=StringLiteral(\"GfL?/$e}Y4-%k:c*5?^oq?<J<WDWg'$\")\n",
      "input=StringLiteral(\"4Pf,vJo&%^BNriYwv\")\n",
      "input=Operator(\"/\")\n",
      "input=StringLiteral(\"YwJ:&z;O/$;33/^s'/%1mW<&@e=dP\")\n",
      "input=StringLiteral(\"&Hu<xw/*Ed$VXR9%++?yZ3\")\n",
      "input=Comment(\"F*&*3&b!dv'=7)\\\\5,](%\")\n",
      "input=Operator(\")\")\n",
      "input=StringLiteral(\"j|y`]$:UMR=4cq>(oFt\")\n",
      "input=Operator(\"*\")\n",
      "input=Integer(5395846149437821955)\n",
      "input=Integer(8677732806409855910)\n",
      "input=Operator(\"/\")\n",
      "input=StringLiteral(\"XN?vjwu=MZV@n&/)_t`?2:dF\")\n",
      "input=Identifier(\"JL2p4So6FcIY7J080jjkEcuzC\")\n",
      "input=Identifier(\"NS7080rcPfo2r0Gt7H4uVVwylOCM\")\n",
      "input=Comment(\"@2j}S<&x\")\n",
      "input=Operator(\"/\")\n",
      "input=Operator(\"+\")\n",
      "input=Comment(\"{<?2&`f9%l*&{0TeuC0\\\\'*{\")\n",
      "input=Identifier(\"keNc5tp\")\n",
      "input=StringLiteral(\"$*XWgYMcGQ?'=M#8Wqo5@tFo%fH?g[\")\n",
      "input=Comment(\"IU.^<=_3%hzB\\\\pe'\")\n",
      "input=Operator(\"+\")\n",
      "input=StringLiteral(\"N?*FC,G4==0.NmNV&H`CZ/n%ZFmhj\")\n",
      "input=Operator(\"(\")\n",
      "input=Comment(\"$+E^\")\n",
      "input=Integer(-2628882055571115610)\n",
      "input=Comment(\"V@%5rFDA_4-e'/&*Wq*j|%Q&*\")\n",
      "input=StringLiteral(\"#Z@`K?62=Ch *'`w=.`\")\n",
      "input=Identifier(\"w5bsMJyJ4t2\")\n",
      "input=StringLiteral(\"='2}H.37g+8Su`U\")\n",
      "input=Integer(-6351282901921060112)\n",
      "input=StringLiteral(\"-!x\")\n",
      "input=Operator(\"*\")\n",
      "input=Operator(\"+\")\n",
      "input=Identifier(\"aSr1FQ404l0\")\n",
      "input=Operator(\"+\")\n",
      "input=StringLiteral(\"e;wIQxnq:<[:n+rA}%B\")\n",
      "input=Operator(\")\")\n",
      "input=Operator(\")\")\n",
      "input=Identifier(\"qz54RPciKO797yD8Zqe28s35mRnCu0e\")\n",
      "input=Operator(\"-\")\n",
      "input=StringLiteral(\"z:JR9m?$'X`sa-:zYt60;t@a7\")\n",
      "input=Operator(\")\")\n",
      "input=Identifier(\"tZR8rjy1hb2l28bq16fF7P6N03QmATTc\")\n",
      "input=Operator(\"(\")\n",
      "input=Integer(-806635917897652408)\n",
      "input=Comment(\"9\")\n",
      "input=Identifier(\"SS7ML6ikzSeSuc51H9orY0\")\n",
      "input=StringLiteral(\"bb\")\n",
      "input=StringLiteral(\"=?&^4?/&!O:i =^/H\")\n",
      "input=StringLiteral(\":-f'c=`-{:Q)aJYEG:%N(<<2\")\n",
      "input=StringLiteral(\"MA1$Y9+.=$9uM@T= ^9'5Fua'f#t2\")\n",
      "input=Identifier(\"Jc45TwDV\")\n",
      "input=Identifier(\"Egpbs0569R3E3yX\")\n",
      "input=Comment(\"JMUmQk.:xmQs#V$| *\")\n",
      "input=Integer(-824460190720115067)\n",
      "input=Integer(-3851381578006172351)\n",
      "input=Comment(\"fO\\\\y.%d.:S?WoP\")\n",
      "input=Operator(\"-\")\n",
      "input=Integer(-515646607085923716)\n",
      "input=Operator(\"+\")\n",
      "input=Integer(3050219697176388460)\n",
      "input=StringLiteral(\"\")\n",
      "input=Comment(\"uaJx&:\\\"R\\\"\\\"*'IO0BoO1UL.{.='N\")\n",
      "input=Identifier(\"bJ6p0Ihh88NghgiZiHlQy1G1l76iBm\")\n",
      "input=StringLiteral(\"ugMMnS&&jD<&b\")\n",
      "input=Comment(\"$aSJ<\")\n",
      "input=Operator(\")\")\n",
      "input=Integer(-212636098476319131)\n",
      "input=Identifier(\"ZhkVrwXdciE\")\n",
      "input=Identifier(\"R2zDjtI0otiiL5IxxvEkm\")\n",
      "input=Comment(\"M-iwfH,I2r\\\\{TB*```S&\")\n",
      "input=Operator(\"*\")\n",
      "input=StringLiteral(\"YWzY;u*X2l:.&=5?BU{^]`<grY'\")\n",
      "input=Comment(\";:D{<o\\\"%l]D_&-jz3=,c{d8w\\\";\")\n",
      "input=StringLiteral(\"-BQR!{`V%.gUwl?U;*/!J\")\n",
      "input=Integer(5278524967112317703)\n",
      "input=Identifier(\"ADrdk57E5\")\n",
      "input=Comment(\"b/E\\\\UT\")\n",
      "input=Integer(8236046051481936492)\n",
      "input=Operator(\"-\")\n",
      "input=Operator(\"=\")\n",
      "input=Integer(8373336933464153623)\n",
      "input=Integer(-5454938970443249004)\n",
      "input=Operator(\"-\")\n",
      "input=Comment(\"\\\\_=y::Xoyp\\\\/4$)`q?VgGP\")\n",
      "input=Identifier(\"wbG0VqDYb9UgcIXcqnrS\")\n",
      "input=Integer(7858846111834905096)\n",
      "input=Comment(\"C\")\n",
      "input=Integer(-7087828776275591801)\n",
      "input=Comment(\"*\\\"8o<*la*&=\")\n",
      "input=Identifier(\"KIGOW6\")\n",
      "input=Integer(4710233551429635772)\n",
      "input=Integer(351018525043647963)\n",
      "input=StringLiteral(\"^,q2Fw?8`b(-0*DdP\")\n",
      "input=Identifier(\"j79qKYiNVc06ApE3y3p\")\n",
      "input=Integer(5648021001308614595)\n",
      "input=Comment(\"C}p?|!?Lz#:W4\")\n",
      "input=Integer(6124926283667844074)\n",
      "input=Integer(769599455313566849)\n",
      "input=Comment(\"{D=/B u)Hx\")\n",
      "input=Operator(\"+\")\n",
      "input=StringLiteral(\">j?gG`{r_Emk|q\")\n",
      "input=Identifier(\"Al0NCfbjhxu\")\n",
      "input=Integer(-3841640653457954408)\n",
      "input=Operator(\"+\")\n",
      "input=Identifier(\"ag8\")\n",
      "input=Integer(4494484157172847912)\n",
      "input=Operator(\"/\")\n",
      "input=StringLiteral(\"`UJE7{&17Ifs?MYZ]&I^\")\n",
      "input=Identifier(\"I546JMoYvRzoz00\")\n",
      "input=Comment(\"pn\\\\9:`I0/?r=\\\"\\\"ObFh<<\\\"`Z6/\\\"l}c\")\n",
      "input=Integer(923879180935950032)\n",
      "input=Identifier(\"Pkz7S513jF1Y8Y81isQ3meDCB6imD1p\")\n",
      "input=Comment(\"\\\\&`% I'&>=\")\n",
      "input=StringLiteral(\"7No9p&R>rJa.\")\n",
      "input=Comment(\"w.\\\\`U%PD#\")\n",
      "input=Operator(\"-\")\n",
      "input=Operator(\"=\")\n",
      "input=Integer(8818084617212959705)\n",
      "input=Integer(-7008797308034087929)\n",
      "input=Operator(\"(\")\n",
      "input=Integer(7319671757977278087)\n",
      "input=Identifier(\"NxVBCN30G72\")\n",
      "input=StringLiteral(\"Bj?`2KW?r%){:)$YILy/J?:T7gh\")\n",
      "input=StringLiteral(\"`'lWHE.Bib{n*=~!\")\n",
      "input=Identifier(\"p4PGQBp\")\n",
      "\n",
      "\n",
      "successes:\n",
      "    adding_and_then_removing_an_item_from_the_cart_leaves_the_cart_unchanged\n",
      "    prop_parse_format_idempotent\n",
      "    test_parse_number\n",
      "\n",
      "test result: ok. 3 passed; 0 failed; 0 ignored; 0 measured; 0 filtered out; finished in 0.14s\n",
      "\n"
     ]
    }
   ],
   "source": [
    "{ cargo test --release -- --show-output } | Invoke-Block"
   ]
  },
  {
   "cell_type": "markdown",
   "metadata": {},
   "source": [
    "### execute the binary in release mode"
   ]
  },
  {
   "cell_type": "code",
   "execution_count": null,
   "metadata": {
    "dotnet_interactive": {
     "language": "pwsh"
    },
    "polyglot_notebook": {
     "kernelName": "pwsh"
    }
   },
   "outputs": [
    {
     "name": "stdout",
     "output_type": "stream",
     "text": [
      "app=test\n"
     ]
    }
   ],
   "source": [
    "{ . $ScriptDir/../../../../workspace/target/release/spiral_temp_test$(_exe) } | Invoke-Block"
   ]
  }
 ],
 "metadata": {},
 "nbformat": 4,
 "nbformat_minor": 5
}