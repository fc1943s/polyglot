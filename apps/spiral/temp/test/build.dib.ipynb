{
 "cells": [
  {
   "cell_type": "markdown",
   "metadata": {},
   "source": [
    "# test"
   ]
  },
  {
   "cell_type": "markdown",
   "metadata": {},
   "source": [
    "## include scripts"
   ]
  },
  {
   "cell_type": "markdown",
   "metadata": {},
   "source": [
    "### include notebook core"
   ]
  },
  {
   "cell_type": "code",
   "execution_count": null,
   "metadata": {
    "dotnet_interactive": {
     "language": "pwsh"
    },
    "polyglot_notebook": {
     "kernelName": "pwsh"
    }
   },
   "outputs": [],
   "source": [
    ". ../../../../scripts/nbs_header.ps1"
   ]
  },
  {
   "cell_type": "markdown",
   "metadata": {},
   "source": [
    "### Include core functions script"
   ]
  },
  {
   "cell_type": "code",
   "execution_count": null,
   "metadata": {
    "dotnet_interactive": {
     "language": "pwsh"
    },
    "polyglot_notebook": {
     "kernelName": "pwsh"
    }
   },
   "outputs": [],
   "source": [
    ". ../../../../scripts/core.ps1"
   ]
  },
  {
   "cell_type": "markdown",
   "metadata": {},
   "source": [
    "### Include spiral library"
   ]
  },
  {
   "cell_type": "code",
   "execution_count": null,
   "metadata": {
    "dotnet_interactive": {
     "language": "pwsh"
    },
    "polyglot_notebook": {
     "kernelName": "pwsh"
    }
   },
   "outputs": [],
   "source": [
    ". ../../../../lib/spiral/lib.ps1"
   ]
  },
  {
   "cell_type": "markdown",
   "metadata": {},
   "source": [
    "## execute project commands"
   ]
  },
  {
   "cell_type": "markdown",
   "metadata": {},
   "source": [
    "### run notebook with retries using spiral supervisor"
   ]
  },
  {
   "cell_type": "code",
   "execution_count": null,
   "metadata": {
    "dotnet_interactive": {
     "language": "pwsh"
    },
    "polyglot_notebook": {
     "kernelName": "pwsh"
    }
   },
   "outputs": [
    {
     "name": "stdout",
     "output_type": "stream",
     "text": [
      "00:00:01 \u001B[90mverbose\u001B[0m #1 async.run_with_timeout_async / { timeout = 180 }\n",
      "00:00:02 \u001B[94m  debug\u001B[0m #1 runtime.execute_with_options_async / { options = { command = ../../../../workspace/target/release/spiral_builder.exe dib --path test.dib --retries 3; cancellation_token = Some System.Threading.CancellationToken; environment_variables = [||]; on_line = None; stdin = None; trace = true; working_directory = None } }\n",
      "00:00:02 \u001B[90mverbose\u001B[0m #2 > 00:00:00 \u001B[94m  debug\u001B[39m #1 spiral_builder.main / { args = Array(MutCell([\"dib\", \"--path\", \"test.dib\", \"--retries\", \"3\"])) }\n",
      "00:00:02 \u001B[90mverbose\u001B[0m #3 > 00:00:00 \u001B[94m  debug\u001B[39m #2 runtime.execute_with_options / { file_name = dotnet; arguments = [\"repl\", \"--exit-after-run\", \"--run\", \"c:/home/git/polyglot/apps/spiral/temp/test/test.dib\", \"--output-path\", \"c:/home/git/polyglot/apps/spiral/temp/test/test.dib.ipynb\"]; options = { command = dotnet repl --exit-after-run --run \"c:/home/git/polyglot/apps/spiral/temp/test/test.dib\" --output-path \"c:/home/git/polyglot/apps/spiral/temp/test/test.dib.ipynb\"; cancellation_token = None; environment_variables = Array(MutCell([(\"TRACE_LEVEL\", \"Verbose\"), (\"AUTOMATION\", \"True\")])); on_line = None; stdin = None; trace = false; working_directory = None } }\n",
      "00:00:09 \u001B[90mverbose\u001B[0m #4 > >\n",
      "00:00:09 \u001B[90mverbose\u001B[0m #5 > > ── markdown ────────────────────────────────────────────────────────────────────\n",
      "00:00:09 \u001B[90mverbose\u001B[0m #6 > > ╭──────────────────────────────────────────────────────────────────────────────╮\n",
      "00:00:09 \u001B[90mverbose\u001B[0m #7 > > │ # test (Polyglot)                                                            │\n",
      "00:00:09 \u001B[90mverbose\u001B[0m #8 > > ╰──────────────────────────────────────────────────────────────────────────────╯\n",
      "00:00:21 \u001B[90mverbose\u001B[0m #9 > >\n",
      "00:00:21 \u001B[90mverbose\u001B[0m #10 > > ── spiral ──────────────────────────────────────────────────────────────────────\n",
      "00:00:21 \u001B[90mverbose\u001B[0m #11 > > //// test\n",
      "00:00:21 \u001B[90mverbose\u001B[0m #12 > >\n",
      "00:00:21 \u001B[90mverbose\u001B[0m #13 > > open testing\n",
      "00:00:31 \u001B[90mverbose\u001B[0m #14 > >\n",
      "00:00:31 \u001B[90mverbose\u001B[0m #15 > > ── spiral ──────────────────────────────────────────────────────────────────────\n",
      "00:00:31 \u001B[90mverbose\u001B[0m #16 > > nominal i = ()\n",
      "00:00:31 \u001B[90mverbose\u001B[0m #17 > > nominal e = ()\n",
      "00:00:31 \u001B[90mverbose\u001B[0m #18 > > nominal s = ()\n",
      "00:00:31 \u001B[90mverbose\u001B[0m #19 > > nominal n = ()\n",
      "00:00:31 \u001B[90mverbose\u001B[0m #20 > > nominal t = ()\n",
      "00:00:31 \u001B[90mverbose\u001B[0m #21 > > nominal f = ()\n",
      "00:00:31 \u001B[90mverbose\u001B[0m #22 > > nominal j = ()\n",
      "00:00:31 \u001B[90mverbose\u001B[0m #23 > > nominal p = ()\n",
      "00:00:31 \u001B[90mverbose\u001B[0m #24 > >\n",
      "00:00:31 \u001B[90mverbose\u001B[0m #25 > > union sensing =\n",
      "00:00:31 \u001B[90mverbose\u001B[0m #26 > >     | Si : s * i\n",
      "00:00:31 \u001B[90mverbose\u001B[0m #27 > >     | Se : s * e\n",
      "00:00:31 \u001B[90mverbose\u001B[0m #28 > >\n",
      "00:00:31 \u001B[90mverbose\u001B[0m #29 > > union intuition =\n",
      "00:00:31 \u001B[90mverbose\u001B[0m #30 > >     | Ni : n * i\n",
      "00:00:31 \u001B[90mverbose\u001B[0m #31 > >     | Ne : n * e\n",
      "00:00:31 \u001B[90mverbose\u001B[0m #32 > >\n",
      "00:00:31 \u001B[90mverbose\u001B[0m #33 > > union thinking =\n",
      "00:00:31 \u001B[90mverbose\u001B[0m #34 > >     | Ti : t * i\n",
      "00:00:31 \u001B[90mverbose\u001B[0m #35 > >     | Te : t * e\n",
      "00:00:31 \u001B[90mverbose\u001B[0m #36 > >\n",
      "00:00:31 \u001B[90mverbose\u001B[0m #37 > > union feeling =\n",
      "00:00:31 \u001B[90mverbose\u001B[0m #38 > >     | Fi : f * i\n",
      "00:00:31 \u001B[90mverbose\u001B[0m #39 > >     | Fe : f * e\n",
      "00:00:31 \u001B[90mverbose\u001B[0m #40 > >\n",
      "00:00:31 \u001B[90mverbose\u001B[0m #41 > > union function_stack =\n",
      "00:00:31 \u001B[90mverbose\u001B[0m #42 > >     | FS : sensing * intuition * thinking * feeling\n",
      "00:00:31 \u001B[90mverbose\u001B[0m #43 > >\n",
      "00:00:31 \u001B[90mverbose\u001B[0m #44 > > union personality_type =\n",
      "00:00:31 \u001B[90mverbose\u001B[0m #45 > >     | ISTJ : i * s * t * j * function_stack\n",
      "00:00:31 \u001B[90mverbose\u001B[0m #46 > >     | ISFJ : i * s * f * j * function_stack\n",
      "00:00:31 \u001B[90mverbose\u001B[0m #47 > >     | INFJ : i * n * f * j * function_stack\n",
      "00:00:31 \u001B[90mverbose\u001B[0m #48 > >     | INTJ : i * n * t * j * function_stack\n",
      "00:00:31 \u001B[90mverbose\u001B[0m #49 > >     | ISTP : i * s * t * p * function_stack\n",
      "00:00:31 \u001B[90mverbose\u001B[0m #50 > >     | ISFP : i * s * f * p * function_stack\n",
      "00:00:31 \u001B[90mverbose\u001B[0m #51 > >     | INFP : i * n * f * p * function_stack\n",
      "00:00:31 \u001B[90mverbose\u001B[0m #52 > >     | INTP : i * n * t * p * function_stack\n",
      "00:00:31 \u001B[90mverbose\u001B[0m #53 > >     | ESTP : e * s * t * p * function_stack\n",
      "00:00:31 \u001B[90mverbose\u001B[0m #54 > >     | ESFP : e * s * f * p * function_stack\n",
      "00:00:31 \u001B[90mverbose\u001B[0m #55 > >     | ENFP : e * n * f * p * function_stack\n",
      "00:00:31 \u001B[90mverbose\u001B[0m #56 > >     | ENTP : e * n * t * p * function_stack\n",
      "00:00:31 \u001B[90mverbose\u001B[0m #57 > >     | ESTJ : e * s * t * j * function_stack\n",
      "00:00:31 \u001B[90mverbose\u001B[0m #58 > >     | ESFJ : e * s * f * j * function_stack\n",
      "00:00:31 \u001B[90mverbose\u001B[0m #59 > >     | ENFJ : e * n * f * j * function_stack\n",
      "00:00:31 \u001B[90mverbose\u001B[0m #60 > >     | ENTJ : e * n * t * j * function_stack\n",
      "00:00:31 \u001B[90mverbose\u001B[0m #61 > >\n",
      "00:00:31 \u001B[90mverbose\u001B[0m #62 > >\n",
      "00:00:31 \u001B[90mverbose\u001B[0m #63 > > inl main () =\n",
      "00:00:31 \u001B[90mverbose\u001B[0m #64 > >     inl istj_stack = FS ((Si (s, i)), Ne (n, e), (Te (t, e)), (Fi (f, i)))\n",
      "00:00:31 \u001B[90mverbose\u001B[0m #65 > >     inl istj_personality = ISTJ (i, s, t, j, istj_stack)\n",
      "00:00:31 \u001B[90mverbose\u001B[0m #66 > >     // inl isfj_stack = FS ((Si (s, i)), Ne (n, e), (Fe (f, e)), (Ti (t, i)))\n",
      "00:00:31 \u001B[90mverbose\u001B[0m #67 > >     // inl isfj_personality = ISFJ (i, s, f, j, isfj_stack)\n",
      "00:00:31 \u001B[90mverbose\u001B[0m #68 > >\n",
      "00:00:31 \u001B[90mverbose\u001B[0m #69 > >     ;[[\n",
      "00:00:31 \u001B[90mverbose\u001B[0m #70 > >         istj_personality\n",
      "00:00:31 \u001B[90mverbose\u001B[0m #71 > >     ]]\n",
      "00:00:31 \u001B[90mverbose\u001B[0m #72 > >     |> fun x => $'$\"%A{!x}\"' : string\n",
      "00:00:31 \u001B[90mverbose\u001B[0m #73 > >     |> console.write_line\n",
      "00:00:31 \u001B[90mverbose\u001B[0m #74 > >\n",
      "00:00:31 \u001B[90mverbose\u001B[0m #75 > > inl main () =\n",
      "00:00:31 \u001B[90mverbose\u001B[0m #76 > >     $'!main ()' : ()\n",
      "00:00:36 \u001B[90mverbose\u001B[0m #77 > >\n",
      "00:00:36 \u001B[90mverbose\u001B[0m #78 > > ╭─[ 5.10s - stdout ]───────────────────────────────────────────────────────────╮\n",
      "00:00:36 \u001B[90mverbose\u001B[0m #79 > > │ [|US5_0 (US4_0 (US0_0, US1_1, US2_1, US3_0))|]                               │\n",
      "00:00:36 \u001B[90mverbose\u001B[0m #80 > > │                                                                              │\n",
      "00:00:36 \u001B[90mverbose\u001B[0m #81 > > ╰──────────────────────────────────────────────────────────────────────────────╯\n",
      "00:00:39 \u001B[90mverbose\u001B[0m #82 > >\n",
      "00:00:39 \u001B[90mverbose\u001B[0m #83 > > ── fsharp ──────────────────────────────────────────────────────────────────────\n",
      "00:00:39 \u001B[90mverbose\u001B[0m #84 > > type PhonologicalFeature =\n",
      "00:00:39 \u001B[90mverbose\u001B[0m #85 > >     | VowelFeature of\n",
      "00:00:39 \u001B[90mverbose\u001B[0m #86 > >         height: Height\n",
      "00:00:39 \u001B[90mverbose\u001B[0m #87 > >         * backness: Backness\n",
      "00:00:39 \u001B[90mverbose\u001B[0m #88 > >         * roundedness: Roundedness\n",
      "00:00:39 \u001B[90mverbose\u001B[0m #89 > >         * tone: Option<Tone>\n",
      "00:00:39 \u001B[90mverbose\u001B[0m #90 > >         * stress: Option<Stress>\n",
      "00:00:39 \u001B[90mverbose\u001B[0m #91 > >         * length: Option<Length>\n",
      "00:00:39 \u001B[90mverbose\u001B[0m #92 > >     | ConsonantFeature of\n",
      "00:00:39 \u001B[90mverbose\u001B[0m #93 > >         place: PlaceOfArticulation\n",
      "00:00:39 \u001B[90mverbose\u001B[0m #94 > >         * manner: MannerOfArticulation\n",
      "00:00:39 \u001B[90mverbose\u001B[0m #95 > >         * voicing: Voicing\n",
      "00:00:39 \u001B[90mverbose\u001B[0m #96 > >         * length: Option<Length>\n",
      "00:00:39 \u001B[90mverbose\u001B[0m #97 > >     | VowelHarmonyFeature\n",
      "00:00:39 \u001B[90mverbose\u001B[0m #98 > >     | PitchAccentFeature\n",
      "00:00:39 \u001B[90mverbose\u001B[0m #99 > >\n",
      "00:00:39 \u001B[90mverbose\u001B[0m #100 > > and Stress = Primary | Secondary\n",
      "00:00:39 \u001B[90mverbose\u001B[0m #101 > > and Length = Long | Short | HalfLong\n",
      "00:00:39 \u001B[90mverbose\u001B[0m #102 > >\n",
      "00:00:39 \u001B[90mverbose\u001B[0m #103 > > and Height =\n",
      "00:00:39 \u001B[90mverbose\u001B[0m #104 > >     | High | NearHigh | HighMid\n",
      "00:00:39 \u001B[90mverbose\u001B[0m #105 > >     | Mid | LowMid | NearLow\n",
      "00:00:39 \u001B[90mverbose\u001B[0m #106 > >     | Low\n",
      "00:00:39 \u001B[90mverbose\u001B[0m #107 > >\n",
      "00:00:39 \u001B[90mverbose\u001B[0m #108 > > and Backness = Front | Central | Back\n",
      "00:00:39 \u001B[90mverbose\u001B[0m #109 > >\n",
      "00:00:39 \u001B[90mverbose\u001B[0m #110 > > and Roundedness = Rounded | Unrounded\n",
      "00:00:39 \u001B[90mverbose\u001B[0m #111 > >\n",
      "00:00:39 \u001B[90mverbose\u001B[0m #112 > > and PlaceOfArticulation =\n",
      "00:00:39 \u001B[90mverbose\u001B[0m #113 > >     | Bilabial | Labiodental | Dental\n",
      "00:00:39 \u001B[90mverbose\u001B[0m #114 > >     | Alveolar | Postalveolar | Retroflex\n",
      "00:00:39 \u001B[90mverbose\u001B[0m #115 > >     | Palatal | Velar | Uvular\n",
      "00:00:39 \u001B[90mverbose\u001B[0m #116 > >     | Pharyngeal | Epiglottal | Glottal\n",
      "00:00:39 \u001B[90mverbose\u001B[0m #117 > >\n",
      "00:00:39 \u001B[90mverbose\u001B[0m #118 > > and MannerOfArticulation =\n",
      "00:00:39 \u001B[90mverbose\u001B[0m #119 > >     | Plosive | Nasal | Trill\n",
      "00:00:39 \u001B[90mverbose\u001B[0m #120 > >     | TapOrFlap | Fricative | LateralFricative\n",
      "00:00:39 \u001B[90mverbose\u001B[0m #121 > >     | Approximant | LateralApproximant\n",
      "00:00:39 \u001B[90mverbose\u001B[0m #122 > >\n",
      "00:00:39 \u001B[90mverbose\u001B[0m #123 > > and Voicing = Voiced | Voiceless\n",
      "00:00:39 \u001B[90mverbose\u001B[0m #124 > >\n",
      "00:00:39 \u001B[90mverbose\u001B[0m #125 > > and SecondaryArticulation =\n",
      "00:00:39 \u001B[90mverbose\u001B[0m #126 > >     | Labialization | Palatalization | Velarization\n",
      "00:00:39 \u001B[90mverbose\u001B[0m #127 > >     | Pharyngealization | Aspiration\n",
      "00:00:39 \u001B[90mverbose\u001B[0m #128 > >\n",
      "00:00:39 \u001B[90mverbose\u001B[0m #129 > > and Tone =\n",
      "00:00:39 \u001B[90mverbose\u001B[0m #130 > >     | LevelTone of int\n",
      "00:00:39 \u001B[90mverbose\u001B[0m #131 > >     | ContourTone of int list\n",
      "00:00:39 \u001B[90mverbose\u001B[0m #132 > >\n",
      "00:00:39 \u001B[90mverbose\u001B[0m #133 > > and MorphologicalFeature =\n",
      "00:00:39 \u001B[90mverbose\u001B[0m #134 > >     | RootFeature of string\n",
      "00:00:39 \u001B[90mverbose\u001B[0m #135 > >     | AffixFeature of AffixType * string\n",
      "00:00:39 \u001B[90mverbose\u001B[0m #136 > >     | IncorporationFeature of string * MorphologicalFeature\n",
      "00:00:39 \u001B[90mverbose\u001B[0m #137 > >     | NonConcatenativePattern of string * string\n",
      "00:00:39 \u001B[90mverbose\u001B[0m #138 > >     | AgglutinativeAffixFeature of AgglutinativeAffixType * string\n",
      "00:00:39 \u001B[90mverbose\u001B[0m #139 > >     | HonorificFeature of HonorificType * string\n",
      "00:00:39 \u001B[90mverbose\u001B[0m #140 > >\n",
      "00:00:39 \u001B[90mverbose\u001B[0m #141 > > and AgglutinativeAffixType = Suffix | Prefix\n",
      "00:00:39 \u001B[90mverbose\u001B[0m #142 > >\n",
      "00:00:39 \u001B[90mverbose\u001B[0m #143 > > and HonorificType = VerbHonorific | NounHonorific\n",
      "00:00:39 \u001B[90mverbose\u001B[0m #144 > >\n",
      "00:00:39 \u001B[90mverbose\u001B[0m #145 > > and AffixType =\n",
      "00:00:39 \u001B[90mverbose\u001B[0m #146 > >     | Prefix | Suffix | Infix\n",
      "00:00:39 \u001B[90mverbose\u001B[0m #147 > >     | Circumfix\n",
      "00:00:39 \u001B[90mverbose\u001B[0m #148 > >\n",
      "00:00:39 \u001B[90mverbose\u001B[0m #149 > > type SyntacticFeature =\n",
      "00:00:39 \u001B[90mverbose\u001B[0m #150 > >     | WordFeature of MorphologicalFeature list * LexicalCategory\n",
      "00:00:39 \u001B[90mverbose\u001B[0m #151 > >     | PhraseFeature of PhraseType * SyntacticFeature list\n",
      "00:00:39 \u001B[90mverbose\u001B[0m #152 > >     | GrammaticalRelation of GrammaticalRelationType * SyntacticFeature list\n",
      "00:00:39 \u001B[90mverbose\u001B[0m #153 > >     | SOVOrderFeature\n",
      "00:00:39 \u001B[90mverbose\u001B[0m #154 > >     | TopicCommentFeature\n",
      "00:00:39 \u001B[90mverbose\u001B[0m #155 > >\n",
      "00:00:39 \u001B[90mverbose\u001B[0m #156 > > and GrammaticalRelationType =\n",
      "00:00:39 \u001B[90mverbose\u001B[0m #157 > >     | Ergative | Absolutive | Nominative\n",
      "00:00:39 \u001B[90mverbose\u001B[0m #158 > >     | Accusative\n",
      "00:00:39 \u001B[90mverbose\u001B[0m #159 > >\n",
      "00:00:39 \u001B[90mverbose\u001B[0m #160 > > and LexicalCategory =\n",
      "00:00:39 \u001B[90mverbose\u001B[0m #161 > >     | Noun | Verb | Adjective\n",
      "00:00:39 \u001B[90mverbose\u001B[0m #162 > >     | Adverb | Pronoun | Preposition\n",
      "00:00:39 \u001B[90mverbose\u001B[0m #163 > >     | Conjunction | Determiner | Interjection\n",
      "00:00:39 \u001B[90mverbose\u001B[0m #164 > >\n",
      "00:00:39 \u001B[90mverbose\u001B[0m #165 > > and PhraseType =\n",
      "00:00:39 \u001B[90mverbose\u001B[0m #166 > >     | NP | VP | AP\n",
      "00:00:39 \u001B[90mverbose\u001B[0m #167 > >     | PP | CP\n",
      "00:00:39 \u001B[90mverbose\u001B[0m #168 > >\n",
      "00:00:39 \u001B[90mverbose\u001B[0m #169 > > and SemanticFeature =\n",
      "00:00:39 \u001B[90mverbose\u001B[0m #170 > >     | Meaning of string\n",
      "00:00:39 \u001B[90mverbose\u001B[0m #171 > >     | SemanticRole of SemanticRoleType * SemanticFeature\n",
      "00:00:39 \u001B[90mverbose\u001B[0m #172 > >\n",
      "00:00:39 \u001B[90mverbose\u001B[0m #173 > > and SemanticRoleType =\n",
      "00:00:39 \u001B[90mverbose\u001B[0m #174 > >     | Agent | Patient | Instrument\n",
      "00:00:39 \u001B[90mverbose\u001B[0m #175 > >     | Location | Time | Cause\n",
      "00:00:39 \u001B[90mverbose\u001B[0m #176 > >\n",
      "00:00:39 \u001B[90mverbose\u001B[0m #177 > > and PragmaticFeature =\n",
      "00:00:39 \u001B[90mverbose\u001B[0m #178 > >     | UseContext of string\n",
      "00:00:39 \u001B[90mverbose\u001B[0m #179 > >     | PolitenessLevel of Politeness\n",
      "00:00:39 \u001B[90mverbose\u001B[0m #180 > >     | SpeechAct of SpeechActType\n",
      "00:00:39 \u001B[90mverbose\u001B[0m #181 > >     | SpeechLevel of SpeechLevelType\n",
      "00:00:39 \u001B[90mverbose\u001B[0m #182 > >\n",
      "00:00:39 \u001B[90mverbose\u001B[0m #183 > > and Politeness = Formal | Informal | Neutral\n",
      "00:00:39 \u001B[90mverbose\u001B[0m #184 > >\n",
      "00:00:39 \u001B[90mverbose\u001B[0m #185 > > and SpeechActType =\n",
      "00:00:39 \u001B[90mverbose\u001B[0m #186 > >     | Assertive | Directive | Commissive\n",
      "00:00:39 \u001B[90mverbose\u001B[0m #187 > >     | Expressive | Declarative\n",
      "00:00:39 \u001B[90mverbose\u001B[0m #188 > >\n",
      "00:00:39 \u001B[90mverbose\u001B[0m #189 > > and SpeechLevelType =\n",
      "00:00:39 \u001B[90mverbose\u001B[0m #190 > >     | FormalHigh | FormalLow | InformalHigh\n",
      "00:00:39 \u001B[90mverbose\u001B[0m #191 > >     | InformalLow | Neutral\n",
      "00:00:39 \u001B[90mverbose\u001B[0m #192 > >\n",
      "00:00:39 \u001B[90mverbose\u001B[0m #193 > > type LinguisticFeature =\n",
      "00:00:39 \u001B[90mverbose\u001B[0m #194 > >     | Phonological of PhonologicalFeature\n",
      "00:00:39 \u001B[90mverbose\u001B[0m #195 > >     | Morphological of MorphologicalFeature\n",
      "00:00:39 \u001B[90mverbose\u001B[0m #196 > >     | Syntactic of SyntacticFeature\n",
      "00:00:39 \u001B[90mverbose\u001B[0m #197 > >     | Semantic of SemanticFeature\n",
      "00:00:39 \u001B[90mverbose\u001B[0m #198 > >     | Pragmatic of PragmaticFeature\n",
      "00:00:39 \u001B[90mverbose\u001B[0m #199 > >\n",
      "00:00:39 \u001B[90mverbose\u001B[0m #200 > > type LanguageConstruct =\n",
      "00:00:39 \u001B[90mverbose\u001B[0m #201 > >     | LanguageElement of LinguisticFeature\n",
      "00:00:39 \u001B[90mverbose\u001B[0m #202 > >     | LanguageStructure of LanguageConstruct list\n",
      "00:00:39 \u001B[90mverbose\u001B[0m #203 > >     | TranslationElement of TranslationFeature\n",
      "00:00:39 \u001B[90mverbose\u001B[0m #204 > >\n",
      "00:00:39 \u001B[90mverbose\u001B[0m #205 > > and TranslationFeature =\n",
      "00:00:39 \u001B[90mverbose\u001B[0m #206 > >     | LinkedPhonological of PhonologicalFeature * PhonologicalFeature\n",
      "00:00:39 \u001B[90mverbose\u001B[0m #207 > >     | LinkedMorphological of MorphologicalFeature * MorphologicalFeature\n",
      "00:00:39 \u001B[90mverbose\u001B[0m #208 > >     | LinkedSyntactic of SyntacticFeature * SyntacticFeature\n",
      "00:00:39 \u001B[90mverbose\u001B[0m #209 > >     | LinkedSemantic of SemanticFeature * SemanticFeature\n",
      "00:00:39 \u001B[90mverbose\u001B[0m #210 > >\n",
      "00:00:39 \u001B[90mverbose\u001B[0m #211 > > type Discourse = DiscourseUnit of LanguageConstruct list\n",
      "00:00:39 \u001B[90mverbose\u001B[0m #212 > >\n",
      "00:00:39 \u001B[90mverbose\u001B[0m #213 > > type LanguageModel =\n",
      "00:00:39 \u001B[90mverbose\u001B[0m #214 > >     | Model of discourse: Discourse\n",
      "00:00:42 \u001B[90mverbose\u001B[0m #215 > >\n",
      "00:00:42 \u001B[90mverbose\u001B[0m #216 > > ── fsharp ──────────────────────────────────────────────────────────────────────\n",
      "00:00:42 \u001B[90mverbose\u001B[0m #217 > > let testEnglish =\n",
      "00:00:42 \u001B[90mverbose\u001B[0m #218 > >     Model(\n",
      "00:00:42 \u001B[90mverbose\u001B[0m #219 > >         DiscourseUnit [[\n",
      "00:00:42 \u001B[90mverbose\u001B[0m #220 > >             LanguageElement (Phonological (ConsonantFeature (Alveolar, Nasal,\n",
      "00:00:42 \u001B[90mverbose\u001B[0m #221 > > Voiced, Some(HalfLong))));\n",
      "00:00:42 \u001B[90mverbose\u001B[0m #222 > >             LanguageElement (Phonological (VowelFeature (High, Front, Unrounded,\n",
      "00:00:42 \u001B[90mverbose\u001B[0m #223 > > Some(LevelTone 1), Some(Primary), Some(Short))));\n",
      "00:00:42 \u001B[90mverbose\u001B[0m #224 > >             LanguageElement (Phonological (VowelFeature (Low, Front, Unrounded,\n",
      "00:00:42 \u001B[90mverbose\u001B[0m #225 > > Some(LevelTone 2), Some(Secondary), Some(Long))));\n",
      "00:00:42 \u001B[90mverbose\u001B[0m #226 > >             LanguageElement (Phonological (ConsonantFeature (Velar, Plosive,\n",
      "00:00:42 \u001B[90mverbose\u001B[0m #227 > > Voiceless, Some(HalfLong))));\n",
      "00:00:42 \u001B[90mverbose\u001B[0m #228 > >             LanguageElement (Morphological (RootFeature \"I\"));\n",
      "00:00:42 \u001B[90mverbose\u001B[0m #229 > >             LanguageElement (Morphological (RootFeature \"see\"));\n",
      "00:00:42 \u001B[90mverbose\u001B[0m #230 > >             LanguageElement (Morphological (RootFeature \"a\"));\n",
      "00:00:42 \u001B[90mverbose\u001B[0m #231 > >             LanguageElement (Morphological (RootFeature \"cat\"));\n",
      "00:00:42 \u001B[90mverbose\u001B[0m #232 > >             LanguageElement (Syntactic (PhraseFeature (NP, [[WordFeature\n",
      "00:00:42 \u001B[90mverbose\u001B[0m #233 > > ([[RootFeature \"I\"]], Pronoun)]])));\n",
      "00:00:42 \u001B[90mverbose\u001B[0m #234 > >             LanguageElement (Syntactic (PhraseFeature (VP, [[WordFeature\n",
      "00:00:42 \u001B[90mverbose\u001B[0m #235 > > ([[RootFeature \"see\"]], Verb)]])));\n",
      "00:00:42 \u001B[90mverbose\u001B[0m #236 > >             LanguageElement (Syntactic (PhraseFeature (NP, [[WordFeature\n",
      "00:00:42 \u001B[90mverbose\u001B[0m #237 > > ([[RootFeature \"a\"; RootFeature \"cat\"]], Noun)]])));\n",
      "00:00:42 \u001B[90mverbose\u001B[0m #238 > >             LanguageElement (Semantic (Meaning \"Perception act of a feline by\n",
      "00:00:42 \u001B[90mverbose\u001B[0m #239 > > the speaker\"));\n",
      "00:00:42 \u001B[90mverbose\u001B[0m #240 > >             LanguageElement (Pragmatic (UseContext \"Statement of an action being\n",
      "00:00:42 \u001B[90mverbose\u001B[0m #241 > > observed\"))\n",
      "00:00:42 \u001B[90mverbose\u001B[0m #242 > >         ]]\n",
      "00:00:42 \u001B[90mverbose\u001B[0m #243 > >     )\n",
      "00:00:42 \u001B[90mverbose\u001B[0m #244 > >\n",
      "00:00:42 \u001B[90mverbose\u001B[0m #245 > > let testPortuguese =\n",
      "00:00:42 \u001B[90mverbose\u001B[0m #246 > >     Model(\n",
      "00:00:42 \u001B[90mverbose\u001B[0m #247 > >         DiscourseUnit [[\n",
      "00:00:42 \u001B[90mverbose\u001B[0m #248 > >             LanguageElement (Phonological (VowelFeature (High, Front, Unrounded,\n",
      "00:00:42 \u001B[90mverbose\u001B[0m #249 > > Some(LevelTone 1), Some(Primary), Some(Short))));\n",
      "00:00:42 \u001B[90mverbose\u001B[0m #250 > >             LanguageElement (Phonological (VowelFeature (Low, Front, Unrounded,\n",
      "00:00:42 \u001B[90mverbose\u001B[0m #251 > > Some(LevelTone 2), Some(Secondary), Some(Long))));\n",
      "00:00:42 \u001B[90mverbose\u001B[0m #252 > >             LanguageElement (Phonological (VowelFeature (Mid, Back, Rounded,\n",
      "00:00:42 \u001B[90mverbose\u001B[0m #253 > > Some(LevelTone 3), Some(Primary), Some(Short))));\n",
      "00:00:42 \u001B[90mverbose\u001B[0m #254 > >             LanguageElement (Phonological (ConsonantFeature (Velar, Plosive,\n",
      "00:00:42 \u001B[90mverbose\u001B[0m #255 > > Voiceless, Some(HalfLong))));\n",
      "00:00:42 \u001B[90mverbose\u001B[0m #256 > >             LanguageElement (Morphological (RootFeature \"Eu\"));\n",
      "00:00:42 \u001B[90mverbose\u001B[0m #257 > >             LanguageElement (Morphological (RootFeature \"ver\" |> ignore;\n",
      "00:00:42 \u001B[90mverbose\u001B[0m #258 > > AffixFeature (Suffix, \"o\")));\n",
      "00:00:42 \u001B[90mverbose\u001B[0m #259 > >             LanguageElement (Morphological (RootFeature \"um\"));\n",
      "00:00:42 \u001B[90mverbose\u001B[0m #260 > >             LanguageElement (Morphological (RootFeature \"gato\"));\n",
      "00:00:42 \u001B[90mverbose\u001B[0m #261 > >             LanguageElement (Syntactic (PhraseFeature (NP, [[WordFeature\n",
      "00:00:42 \u001B[90mverbose\u001B[0m #262 > > ([[RootFeature \"Eu\"]], Pronoun)]])));\n",
      "00:00:42 \u001B[90mverbose\u001B[0m #263 > >             LanguageElement (Syntactic (PhraseFeature (VP, [[WordFeature\n",
      "00:00:42 \u001B[90mverbose\u001B[0m #264 > > ([[RootFeature \"vejo\"]], Verb)]])));\n",
      "00:00:42 \u001B[90mverbose\u001B[0m #265 > >             LanguageElement (Syntactic (PhraseFeature (NP, [[WordFeature\n",
      "00:00:42 \u001B[90mverbose\u001B[0m #266 > > ([[RootFeature \"um\"; RootFeature \"gato\"]], Noun)]])));\n",
      "00:00:42 \u001B[90mverbose\u001B[0m #267 > >             LanguageElement (Semantic (Meaning \"Ação de percepção de um felino\n",
      "00:00:42 \u001B[90mverbose\u001B[0m #268 > > pelo falante\"));\n",
      "00:00:42 \u001B[90mverbose\u001B[0m #269 > >             LanguageElement (Pragmatic (UseContext \"Declaração de uma ação sendo\n",
      "00:00:42 \u001B[90mverbose\u001B[0m #270 > > observada\"))\n",
      "00:00:42 \u001B[90mverbose\u001B[0m #271 > >         ]]\n",
      "00:00:42 \u001B[90mverbose\u001B[0m #272 > >     )\n",
      "00:00:42 \u001B[90mverbose\u001B[0m #273 > >\n",
      "00:00:42 \u001B[90mverbose\u001B[0m #274 > > let testKorean =\n",
      "00:00:42 \u001B[90mverbose\u001B[0m #275 > >     Model(\n",
      "00:00:42 \u001B[90mverbose\u001B[0m #276 > >         DiscourseUnit [[\n",
      "00:00:42 \u001B[90mverbose\u001B[0m #277 > >             LanguageElement (Phonological (ConsonantFeature (Alveolar, Nasal,\n",
      "00:00:42 \u001B[90mverbose\u001B[0m #278 > > Voiced, Some(Short))));\n",
      "00:00:42 \u001B[90mverbose\u001B[0m #279 > >             LanguageElement (Phonological (VowelFeature (High, Back, Rounded,\n",
      "00:00:42 \u001B[90mverbose\u001B[0m #280 > > None, None, Some(Short))));\n",
      "00:00:42 \u001B[90mverbose\u001B[0m #281 > >             LanguageElement (Phonological (VowelFeature (Mid, Front, Unrounded,\n",
      "00:00:42 \u001B[90mverbose\u001B[0m #282 > > None, None, Some(Long))));\n",
      "00:00:42 \u001B[90mverbose\u001B[0m #283 > >             LanguageElement (Phonological (ConsonantFeature (Bilabial, Plosive,\n",
      "00:00:42 \u001B[90mverbose\u001B[0m #284 > > Voiceless, Some(Short))));\n",
      "00:00:42 \u001B[90mverbose\u001B[0m #285 > >             LanguageElement (Morphological (RootFeature \"나\"));\n",
      "00:00:42 \u001B[90mverbose\u001B[0m #286 > >             LanguageElement (Morphological (RootFeature \"보다\"));\n",
      "00:00:42 \u001B[90mverbose\u001B[0m #287 > >             LanguageElement (Morphological (AffixFeature (Suffix, \"아\")));\n",
      "00:00:42 \u001B[90mverbose\u001B[0m #288 > >             LanguageElement (Morphological (RootFeature \"고양이\"));\n",
      "00:00:42 \u001B[90mverbose\u001B[0m #289 > >             LanguageElement (Syntactic (PhraseFeature (NP, [[WordFeature\n",
      "00:00:42 \u001B[90mverbose\u001B[0m #290 > > ([[RootFeature \"나\"]], Pronoun)]])));\n",
      "00:00:42 \u001B[90mverbose\u001B[0m #291 > >             LanguageElement (Syntactic (PhraseFeature (VP, [[WordFeature\n",
      "00:00:42 \u001B[90mverbose\u001B[0m #292 > > ([[RootFeature \"보다\"; AffixFeature (Suffix, \"아\")]], Verb)]])));\n",
      "00:00:42 \u001B[90mverbose\u001B[0m #293 > >             LanguageElement (Syntactic (PhraseFeature (NP, [[WordFeature\n",
      "00:00:42 \u001B[90mverbose\u001B[0m #294 > > ([[RootFeature \"고양이\"]], Noun)]])));\n",
      "00:00:42 \u001B[90mverbose\u001B[0m #295 > >             LanguageElement (Semantic (Meaning \"화자에 의한 고양이의 관찰\n",
      "00:00:42 \u001B[90mverbose\u001B[0m #296 > > 행위\"));\n",
      "00:00:42 \u001B[90mverbose\u001B[0m #297 > >             LanguageElement (Pragmatic (UseContext \"관찰되고 있는 행동의 진술\"))\n",
      "00:00:42 \u001B[90mverbose\u001B[0m #298 > >         ]]\n",
      "00:00:42 \u001B[90mverbose\u001B[0m #299 > >     )\n",
      "00:00:42 \u001B[90mverbose\u001B[0m #300 > >\n",
      "00:00:42 \u001B[90mverbose\u001B[0m #301 > > ── markdown ────────────────────────────────────────────────────────────────────\n",
      "00:00:42 \u001B[90mverbose\u001B[0m #302 > > ╭──────────────────────────────────────────────────────────────────────────────╮\n",
      "00:00:42 \u001B[90mverbose\u001B[0m #303 > > │ ## main                                                                      │\n",
      "00:00:42 \u001B[90mverbose\u001B[0m #304 > > ╰──────────────────────────────────────────────────────────────────────────────╯\n",
      "00:00:42 \u001B[90mverbose\u001B[0m #305 > >\n",
      "00:00:42 \u001B[90mverbose\u001B[0m #306 > > ── spiral ──────────────────────────────────────────────────────────────────────\n",
      "00:00:42 \u001B[90mverbose\u001B[0m #307 > > inl main (_args : array_base string) =\n",
      "00:00:42 \u001B[90mverbose\u001B[0m #308 > >     0i32\n",
      "00:00:42 \u001B[90mverbose\u001B[0m #309 > >\n",
      "00:00:42 \u001B[90mverbose\u001B[0m #310 > > inl main () =\n",
      "00:00:42 \u001B[90mverbose\u001B[0m #311 > >     $'let main args = !main args' : ()\n",
      "00:00:43 \u001B[90mverbose\u001B[0m #312 > >\n",
      "00:00:43 \u001B[90mverbose\u001B[0m #313 > > ── spiral ──────────────────────────────────────────────────────────────────────\n",
      "00:00:43 \u001B[90mverbose\u001B[0m #314 > > inl app () =\n",
      "00:00:43 \u001B[90mverbose\u001B[0m #315 > >     \"test\" |> console.write_line\n",
      "00:00:43 \u001B[90mverbose\u001B[0m #316 > >     0i32\n",
      "00:00:43 \u001B[90mverbose\u001B[0m #317 > >\n",
      "00:00:43 \u001B[90mverbose\u001B[0m #318 > > inl main () =\n",
      "00:00:43 \u001B[90mverbose\u001B[0m #319 > >     print_static \"<test>\"\n",
      "00:00:43 \u001B[90mverbose\u001B[0m #320 > >\n",
      "00:00:43 \u001B[90mverbose\u001B[0m #321 > >     app\n",
      "00:00:43 \u001B[90mverbose\u001B[0m #322 > >     |> dyn\n",
      "00:00:43 \u001B[90mverbose\u001B[0m #323 > >     |> ignore\n",
      "00:00:43 \u001B[90mverbose\u001B[0m #324 > >\n",
      "00:00:43 \u001B[90mverbose\u001B[0m #325 > >     print_static \"</test>\"\n",
      "00:00:44 \u001B[90mverbose\u001B[0m #326 > 00:00:41 \u001B[90mverbose\u001B[39m #3 runtime.execute_with_options / result / { exit_code = 0; std_trace_length = 10945 }\n",
      "00:00:44 \u001B[90mverbose\u001B[0m #327 > 00:00:41 \u001B[94m  debug\u001B[39m #4 runtime.execute_with_options / { file_name = jupyter; arguments = [\"nbconvert\", \"c:/home/git/polyglot/apps/spiral/temp/test/test.dib.ipynb\", \"--to\", \"html\", \"--HTMLExporter.theme=dark\"]; options = { command = jupyter nbconvert \"c:/home/git/polyglot/apps/spiral/temp/test/test.dib.ipynb\" --to html --HTMLExporter.theme=dark; cancellation_token = None; environment_variables = Array(MutCell([])); on_line = None; stdin = None; trace = true; working_directory = None } }\n",
      "00:00:51 \u001B[90mverbose\u001B[0m #328 > 00:00:48 \u001B[90mverbose\u001B[39m #5 ! [NbConvertApp] Converting notebook c:/home/git/polyglot/apps/spiral/temp/test/test.dib.ipynb to html\n",
      "00:00:51 \u001B[90mverbose\u001B[0m #329 > 00:00:48 \u001B[90mverbose\u001B[39m #6 ! C:\\Users\\i574n\\scoop\\apps\\python\\current\\Lib\\site-packages\\nbformat\\__init__.py:93: MissingIDFieldWarning: Code cell is missing an id field, this will become a hard error in future nbformat versions. You may want to use `normalize()` on your notebooks before validations (available since nbformat 5.1.4). Previous versions of nbformat are fixing this issue transparently, and will stop doing so in the future.\n",
      "00:00:51 \u001B[90mverbose\u001B[0m #330 > 00:00:48 \u001B[90mverbose\u001B[39m #7 !   validate(nb)\n",
      "00:00:56 \u001B[90mverbose\u001B[0m #331 > 00:00:53 \u001B[90mverbose\u001B[39m #8 ! [NbConvertApp] Writing 318992 bytes to c:\\home\\git\\polyglot\\apps\\spiral\\temp\\test\\test.dib.html\n",
      "00:00:57 \u001B[90mverbose\u001B[0m #332 > 00:00:54 \u001B[90mverbose\u001B[39m #9 runtime.execute_with_options / result / { exit_code = 0; std_trace_length = 661 }\n",
      "00:00:57 \u001B[90mverbose\u001B[0m #333 > 00:00:54 \u001B[94m  debug\u001B[39m #10 spiral_builder.run / dib / jupyter nbconvert / { exit_code = 0; jupyter_result_length = 661 }\n",
      "00:00:57 \u001B[90mverbose\u001B[0m #334 > 00:00:54 \u001B[94m  debug\u001B[39m #11 runtime.execute_with_options / { file_name = pwsh; arguments = [\"-c\", \"$counter = 1; $path = 'c:/home/git/polyglot/apps/spiral/temp/test/test.dib.html'; (Get-Content $path -Raw) -replace '(id=\\\\\\\"cell-id=)[a-fA-F0-9]{8}', { $_.Groups[1].Value + $counter++ } | Set-Content $path\"]; options = { command = pwsh -c \"$counter = 1; $path = 'c:/home/git/polyglot/apps/spiral/temp/test/test.dib.html'; (Get-Content $path -Raw) -replace '(id=\\\"cell-id=)[a-fA-F0-9]{8}', { $_.Groups[1].Value + $counter++ } | Set-Content $path\"; cancellation_token = None; environment_variables = Array(MutCell([])); on_line = None; stdin = None; trace = true; working_directory = None } }\n",
      "00:01:00 \u001B[90mverbose\u001B[0m #335 > 00:00:57 \u001B[90mverbose\u001B[39m #12 runtime.execute_with_options / result / { exit_code = 0; std_trace_length = 0 }\n",
      "00:01:00 \u001B[90mverbose\u001B[0m #336 > 00:00:57 \u001B[94m  debug\u001B[39m #13 spiral_builder.run / dib / html cell ids / { exit_code = 0; pwsh_replace_html_result_length = 0 }\n",
      "00:01:01 \u001B[90mverbose\u001B[0m #337 > 00:00:58 \u001B[94m  debug\u001B[39m #14 spiral_builder.run / dib / { exit_code = 0; result_length = 11665 }\n",
      "00:01:01 \u001B[94m  debug\u001B[0m #338 runtime.execute_with_options_async / { exit_code = 0; output_length = 14996 }\n",
      "00:01:01 \u001B[94m  debug\u001B[0m #1 main / executeCommand / exitCode: 0 / command: ../../../../workspace/target/release/spiral_builder.exe dib --path test.dib --retries 3\n"
     ]
    }
   ],
   "source": [
    "{ . ../../../../apps/spiral/dist/Supervisor$(_exe) --execute-command \"../../../../workspace/target/release/spiral_builder$(_exe) dib --path test.dib --retries 3\" } | Invoke-Block"
   ]
  },
  {
   "cell_type": "markdown",
   "metadata": {},
   "source": [
    "### parse the .dib file into .spi format with dibparser"
   ]
  },
  {
   "cell_type": "code",
   "execution_count": null,
   "metadata": {
    "dotnet_interactive": {
     "language": "pwsh"
    },
    "polyglot_notebook": {
     "kernelName": "pwsh"
    }
   },
   "outputs": [
    {
     "name": "stdout",
     "output_type": "stream",
     "text": [
      "00:00:00 \u001B[94m  debug\u001B[0m #1 writeDibCode / output: Spi / path: test.dib\n",
      "00:00:01 \u001B[94m  debug\u001B[0m #2 parseDibCode / output: Spi / file: test.dib\n"
     ]
    }
   ],
   "source": [
    "{ . ../../../../apps/parser/dist/DibParser$(_exe) test.dib spi } | Invoke-Block"
   ]
  },
  {
   "cell_type": "markdown",
   "metadata": {},
   "source": [
    "### build .fsx file from .spi using supervisor"
   ]
  },
  {
   "cell_type": "code",
   "execution_count": null,
   "metadata": {
    "dotnet_interactive": {
     "language": "pwsh"
    },
    "polyglot_notebook": {
     "kernelName": "pwsh"
    }
   },
   "outputs": [
    {
     "name": "stdout",
     "output_type": "stream",
     "text": [
      "00:00:01 \u001B[90mverbose\u001B[0m #1 async.run_with_timeout_async / { timeout = 180 }\n",
      "00:00:02 \u001B[90mverbose\u001B[0m #2 async.run_with_timeout_async / { timeout = 180 }\n",
      "00:00:02 \u001B[94m  debug\u001B[0m #1 Supervisor.buildFile / takeWhileInclusive / outputContent:\n",
      " / errors: [] / typeErrorCount: 0 / retry: 0 / path: test.spi\n",
      "00:00:02 \u001B[94m  debug\u001B[0m #2 Supervisor.buildFile / AsyncSeq.scan / outputContent:\n",
      " / errors: [] / outputContentResult:  / typeErrorCount: 0 / retry: 0 / error:  / path: test.spi\n",
      "00:00:02 \u001B[94m  debug\u001B[0m #3 Supervisor.buildFile / takeWhileInclusive / outputContent:\n",
      " / errors: [] / typeErrorCount: 0 / retry: 0 / path: test.spi\n",
      "00:00:03 \u001B[90mverbose\u001B[0m #4 Supervisor.sendJson / port: 13805 / json: {\"FileOpen\":{\"spiText\":\"/// # test (Polyglot)\\nnominal i = ()\\nnominal e = ()\\nnominal s = ()\\nnomin...0022\\u003C/test\\u003E\\u0022\\n\",\"uri\":\"file:///c:/home/git/polyglot/apps/spiral/temp/test/test.spi\"}} / result:\n",
      "00:00:03 \u001B[90mverbose\u001B[0m #5 Supervisor.sendJson / port: 13805 / json: {\"BuildFile\":{\"backend\":\"Fsharp\",\"uri\":\"file:///c:/home/git/polyglot/apps/spiral/temp/test/test.spi\"}} / result:\n",
      "00:00:03 \u001B[94m  debug\u001B[0m #6 Supervisor.buildFile / AsyncSeq.scan / outputContent:\n",
      " / errors: [] / outputContentResult:  / typeErrorCount: 0 / retry: 0 / error:  / path: test.spi\n",
      "00:00:03 \u001B[94m  debug\u001B[0m #7 Supervisor.buildFile / takeWhileInclusive / outputContent:\n",
      " / errors: [] / typeErrorCount: 0 / retry: 0 / path: test.spi\n",
      "00:00:03 \u001B[94m  debug\u001B[0m #8 Supervisor.buildFile / AsyncSeq.scan / outputContent:\n",
      " / errors: [] / outputContentResult:  / typeErrorCount: 0 / retry: 0 / error:  / path: test.spi\n",
      "00:00:03 \u001B[94m  debug\u001B[0m #9 Supervisor.buildFile / takeWhileInclusive / outputContent:\n",
      " / errors: [] / typeErrorCount: 0 / retry: 0 / path: test.spi\n",
      "00:00:04 \u001B[94m  debug\u001B[0m #10 Supervisor.buildFile / AsyncSeq.scan / outputContent:\n",
      "let rec closure0 () () : int32 =\n",
      "    let v2 : (string -> unit) = System.Console.WriteLine\n",
      "    let v3 : string = \"test\"\n",
      "    v2 v3\n",
      "    0\n",
      "let v0 : (unit -> int32) = closure0()\n",
      "()\n",
      " / errors: [] / outputContentResult:  / typeErrorCount: 0 / retry: 0 / error:  / path: test.spi\n",
      "00:00:04 \u001B[94m  debug\u001B[0m #11 Supervisor.buildFile / takeWhileInclusive / outputContent:\n",
      "let rec closure0 () () : int32 =\n",
      "    let v2 : (string -> unit) = System.Console.WriteLine\n",
      "    let v3 : string = \"test\"\n",
      "    v2 v3\n",
      "    0\n",
      "let v0 : (unit -> int32) = closure0()\n",
      "()\n",
      " / errors: [] / typeErrorCount: 0 / retry: 0 / path: test.spi\n",
      "00:00:04 \u001B[94m  debug\u001B[0m #12 FileSystem.watchWithFilter / Disposing watch stream / filter: FileName, LastWrite\n"
     ]
    }
   ],
   "source": [
    "{ . ../../../../apps/spiral/dist/Supervisor$(_exe) --build-file test.spi test.fsx } | Invoke-Block"
   ]
  },
  {
   "cell_type": "markdown",
   "metadata": {},
   "source": [
    "## compile and format the project"
   ]
  },
  {
   "cell_type": "markdown",
   "metadata": {},
   "source": [
    "### compile project with fable targeting optimized rust"
   ]
  },
  {
   "cell_type": "code",
   "execution_count": null,
   "metadata": {
    "dotnet_interactive": {
     "language": "pwsh"
    },
    "polyglot_notebook": {
     "kernelName": "pwsh"
    }
   },
   "outputs": [
    {
     "name": "stdout",
     "output_type": "stream",
     "text": [
      "Fable 4.19.3: F# to Rust compiler (status: alpha)\n",
      "\n",
      "Thanks to the contributor! @goswinr\n",
      "Stand with Ukraine! https://standwithukraine.com.ua/\n",
      "\n",
      "Parsing test.fsproj...\n",
      "Retrieving project options from cache, in case of issues run `dotnet fable clean` or try `--noCache` option.\n",
      "Project and references (1 source files) parsed in 590ms\n",
      "\n",
      "Started Fable compilation...\n",
      "\n",
      "Fable compilation finished in 4975ms\n",
      "\n",
      ".\\test.fsx(7,0): (7,2) warning FABLE: For Rust, support for F# static and module do bindings is disabled by default. It can be enabled with the 'static_do_bindings' feature. Use at your own risk!\n"
     ]
    }
   ],
   "source": [
    "dotnet fable --optimize --lang rs --extension .rs"
   ]
  },
  {
   "cell_type": "markdown",
   "metadata": {},
   "source": [
    "### fix formatting issues in the .rs file using regex and set-content"
   ]
  },
  {
   "cell_type": "code",
   "execution_count": null,
   "metadata": {
    "dotnet_interactive": {
     "language": "pwsh"
    },
    "polyglot_notebook": {
     "kernelName": "pwsh"
    }
   },
   "outputs": [],
   "source": [
    "(Get-Content test.rs) `\n",
    "    -replace [regex]::Escape(\"),);\"), \"));\" `\n",
    "    | FixRust `\n",
    "| Set-Content test.rs"
   ]
  },
  {
   "cell_type": "markdown",
   "metadata": {},
   "source": [
    "### format the rust code using cargo fmt"
   ]
  },
  {
   "cell_type": "code",
   "execution_count": null,
   "metadata": {
    "dotnet_interactive": {
     "language": "pwsh"
    },
    "polyglot_notebook": {
     "kernelName": "pwsh"
    }
   },
   "outputs": [],
   "source": [
    "cargo fmt --"
   ]
  },
  {
   "cell_type": "markdown",
   "metadata": {},
   "source": [
    "## build and test the project"
   ]
  },
  {
   "cell_type": "markdown",
   "metadata": {},
   "source": [
    "### build the project in release mode using nightly rust compiler"
   ]
  },
  {
   "cell_type": "code",
   "execution_count": null,
   "metadata": {
    "dotnet_interactive": {
     "language": "pwsh"
    },
    "polyglot_notebook": {
     "kernelName": "pwsh"
    }
   },
   "outputs": [
    {
     "name": "stdout",
     "output_type": "stream",
     "text": [
      "\u001B[31;1m   Compiling fable_library_rust v0.1.0 (C:\\home\\git\\polyglot\\lib\\rust\\fable\\fable_modules\\fable-library-rust)\u001B[0m\n",
      "\u001B[31;1m   Compiling spiral_temp_test v0.0.1 (C:\\home\\git\\polyglot\\apps\\spiral\\temp\\test)\u001B[0m\n",
      "\u001B[31;1mwarning: enum `Item` is never used\u001B[0m\n",
      "\u001B[31;1m  --> C:\\home\\git\\polyglot\\apps\\spiral\\temp\\test\\./main.rs:16:6\u001B[0m\n",
      "\u001B[31;1m   |\u001B[0m\n",
      "\u001B[31;1m16 | enum Item {\u001B[0m\n",
      "\u001B[31;1m   |      ^^^^\u001B[0m\n",
      "\u001B[31;1m   |\u001B[0m\n",
      "\u001B[31;1m   = note: `#[warn(dead_code)]` on by default\u001B[0m\n",
      "\u001B[31;1m\u001B[0m\n",
      "\u001B[31;1mwarning: struct `Cart` is never constructed\u001B[0m\n",
      "\u001B[31;1m  --> C:\\home\\git\\polyglot\\apps\\spiral\\temp\\test\\./main.rs:41:8\u001B[0m\n",
      "\u001B[31;1m   |\u001B[0m\n",
      "\u001B[31;1m41 | struct Cart {\u001B[0m\n",
      "\u001B[31;1m   |        ^^^^\u001B[0m\n",
      "\u001B[31;1m\u001B[0m\n",
      "\u001B[31;1mwarning: associated items `new`, `add_item`, and `remove_item` are never used\u001B[0m\n",
      "\u001B[31;1m  --> C:\\home\\git\\polyglot\\apps\\spiral\\temp\\test\\./main.rs:46:8\u001B[0m\n",
      "\u001B[31;1m   |\u001B[0m\n",
      "\u001B[31;1m45 | impl Cart {\u001B[0m\n",
      "\u001B[31;1m   | --------- associated items in this implementation\u001B[0m\n",
      "\u001B[31;1m46 |     fn new() -> Cart {\u001B[0m\n",
      "\u001B[31;1m   |        ^^^\u001B[0m\n",
      "\u001B[31;1m...\u001B[0m\n",
      "\u001B[31;1m50 |     fn add_item(&mut self, item: Item) {\u001B[0m\n",
      "\u001B[31;1m   |        ^^^^^^^^\u001B[0m\n",
      "\u001B[31;1m...\u001B[0m\n",
      "\u001B[31;1m56 |     fn remove_item(&mut self, item: &Item) {\u001B[0m\n",
      "\u001B[31;1m   |        ^^^^^^^^^^^\u001B[0m\n",
      "\u001B[31;1m\u001B[0m\n",
      "\u001B[31;1mwarning: function `parse_comment` is never used\u001B[0m\n",
      "\u001B[31;1m   --> C:\\home\\git\\polyglot\\apps\\spiral\\temp\\test\\./main.rs:124:4\u001B[0m\n",
      "\u001B[31;1m    |\u001B[0m\n",
      "\u001B[31;1m124 | fn parse_comment(input: &str) -> IResult<&str, SpiralToken> {\u001B[0m\n",
      "\u001B[31;1m    |    ^^^^^^^^^^^^^\u001B[0m\n",
      "\u001B[31;1m\u001B[0m\n",
      "\u001B[31;1mwarning: function `parse_string` is never used\u001B[0m\n",
      "\u001B[31;1m   --> C:\\home\\git\\polyglot\\apps\\spiral\\temp\\test\\./main.rs:130:4\u001B[0m\n",
      "\u001B[31;1m    |\u001B[0m\n",
      "\u001B[31;1m130 | fn parse_string(input: &str) -> IResult<&str, SpiralToken> {\u001B[0m\n",
      "\u001B[31;1m    |    ^^^^^^^^^^^^\u001B[0m\n",
      "\u001B[31;1m\u001B[0m\n",
      "\u001B[31;1mwarning: function `parse_identifier` is never used\u001B[0m\n",
      "\u001B[31;1m   --> C:\\home\\git\\polyglot\\apps\\spiral\\temp\\test\\./main.rs:145:4\u001B[0m\n",
      "\u001B[31;1m    |\u001B[0m\n",
      "\u001B[31;1m145 | fn parse_identifier(input: &str) -> IResult<&str, SpiralToken> {\u001B[0m\n",
      "\u001B[31;1m    |    ^^^^^^^^^^^^^^^^\u001B[0m\n",
      "\u001B[31;1m\u001B[0m\n",
      "\u001B[31;1mwarning: function `parse_integer` is never used\u001B[0m\n",
      "\u001B[31;1m   --> C:\\home\\git\\polyglot\\apps\\spiral\\temp\\test\\./main.rs:157:4\u001B[0m\n",
      "\u001B[31;1m    |\u001B[0m\n",
      "\u001B[31;1m157 | fn parse_integer(input: &str) -> IResult<&str, SpiralToken> {\u001B[0m\n",
      "\u001B[31;1m    |    ^^^^^^^^^^^^^\u001B[0m\n",
      "\u001B[31;1m\u001B[0m\n",
      "\u001B[31;1mwarning: function `parse_operator` is never used\u001B[0m\n",
      "\u001B[31;1m   --> C:\\home\\git\\polyglot\\apps\\spiral\\temp\\test\\./main.rs:165:4\u001B[0m\n",
      "\u001B[31;1m    |\u001B[0m\n",
      "\u001B[31;1m165 | fn parse_operator(input: &str) -> IResult<&str, SpiralToken> {\u001B[0m\n",
      "\u001B[31;1m    |    ^^^^^^^^^^^^^^\u001B[0m\n",
      "\u001B[31;1m\u001B[0m\n",
      "\u001B[31;1mwarning: function `parse_token` is never used\u001B[0m\n",
      "\u001B[31;1m   --> C:\\home\\git\\polyglot\\apps\\spiral\\temp\\test\\./main.rs:170:4\u001B[0m\n",
      "\u001B[31;1m    |\u001B[0m\n",
      "\u001B[31;1m170 | fn parse_token(input: &str) -> IResult<&str, SpiralToken> {\u001B[0m\n",
      "\u001B[31;1m    |    ^^^^^^^^^^^\u001B[0m\n",
      "\u001B[31;1m\u001B[0m\n",
      "\u001B[31;1mwarning: function `format_token` is never used\u001B[0m\n",
      "\u001B[31;1m   --> C:\\home\\git\\polyglot\\apps\\spiral\\temp\\test\\./main.rs:180:4\u001B[0m\n",
      "\u001B[31;1m    |\u001B[0m\n",
      "\u001B[31;1m180 | fn format_token(token: &SpiralToken) -> String {\u001B[0m\n",
      "\u001B[31;1m    |    ^^^^^^^^^^^^\u001B[0m\n",
      "\u001B[31;1m\u001B[0m\n",
      "\u001B[31;1mwarning: function `parse_expression` is never used\u001B[0m\n",
      "\u001B[31;1m   --> C:\\home\\git\\polyglot\\apps\\spiral\\temp\\test\\./main.rs:201:4\u001B[0m\n",
      "\u001B[31;1m    |\u001B[0m\n",
      "\u001B[31;1m201 | fn parse_expression(input: &str) -> IResult<&str, SpiralToken> {\u001B[0m\n",
      "\u001B[31;1m    |    ^^^^^^^^^^^^^^^^\u001B[0m\n",
      "\u001B[31;1m\u001B[0m\n",
      "\u001B[31;1mwarning: `spiral_temp_test` (bin \"spiral_temp_test\") generated 11 warnings\u001B[0m\n",
      "\u001B[31;1m    Finished `release` profile [optimized] target(s) in 28.49s\u001B[0m\n"
     ]
    }
   ],
   "source": [
    "cargo +nightly build --release"
   ]
  },
  {
   "cell_type": "markdown",
   "metadata": {},
   "source": [
    "### run release tests with output enabled"
   ]
  },
  {
   "cell_type": "code",
   "execution_count": null,
   "metadata": {
    "dotnet_interactive": {
     "language": "pwsh"
    },
    "polyglot_notebook": {
     "kernelName": "pwsh"
    }
   },
   "outputs": [
    {
     "name": "stdout",
     "output_type": "stream",
     "text": [
      "\u001B[31;1m   Compiling fable_library_rust v0.1.0 (C:\\home\\git\\polyglot\\lib\\rust\\fable\\fable_modules\\fable-library-rust)\u001B[0m\n",
      "\u001B[31;1m   Compiling spiral_temp_test v0.0.1 (C:\\home\\git\\polyglot\\apps\\spiral\\temp\\test)\u001B[0m\n",
      "\u001B[31;1m    Finished `release` profile [optimized] target(s) in 1m 19s\u001B[0m\n",
      "\u001B[31;1m     Running unittests main.rs (C:\\home\\git\\polyglot\\workspace\\target\\release\\deps\\spiral_temp_test-5f6d226b2c944840.exe)\u001B[0m\n",
      "\n",
      "running 3 tests\n",
      "test test_parse_number ... ok\n",
      "test prop_parse_format_idempotent ... ok\n",
      "test adding_and_then_removing_an_item_from_the_cart_leaves_the_cart_unchanged ... ok\n",
      "\n",
      "successes:\n",
      "\n",
      "---- prop_parse_format_idempotent stdout ----\n",
      "input=Operator(\"=\")\n",
      "input=Integer(-3068258113890437538)\n",
      "input=Comment(\"r`{9LVtou\")\n",
      "input=StringLiteral(\"`C9w`b[Qeq=&\")\n",
      "input=Identifier(\"dH8uvFcd2RXOy678ueE\")\n",
      "input=Identifier(\"kNu84K9r42HqPn9breR51VRVq2p0\")\n",
      "input=Operator(\"/\")\n",
      "input=StringLiteral(\"j>]'J&SkW:%\")\n",
      "input=Identifier(\"K60\")\n",
      "input=Comment(\"]F4n`\\\\?:dR){'\\\"/\")\n",
      "input=Comment(\"n[=Y~/*:Z'\\\\r4/Y'PY*\")\n",
      "input=Operator(\"*\")\n",
      "input=Identifier(\"XS832WL\")\n",
      "input=Integer(-4422942027186284546)\n",
      "input=Integer(7274062319981550421)\n",
      "input=Comment(\"u\\\\'@p:%\")\n",
      "input=Identifier(\"seNFq1UGmSNLqI4\")\n",
      "input=Comment(\"W22'`%?T%Z{SBvn8=}<srDQv\")\n",
      "input=StringLiteral(\"e/K2%f\")\n",
      "input=Comment(\"@`E%F%<2cH?l/>x6q2\\\"x`g=@<#/o_2.\")\n",
      "input=Comment(\")|Ppvhd{.\")\n",
      "input=StringLiteral(\"y\")\n",
      "input=Operator(\"(\")\n",
      "input=StringLiteral(\"!!l9a.b;?.sH2:`o~{V+/wz\")\n",
      "input=Identifier(\"FNClbddfIX2vEdsW8Fh4wJVDjqs7951\")\n",
      "input=Integer(-8299174114018671968)\n",
      "input=Operator(\"-\")\n",
      "input=Integer(4566975303622617815)\n",
      "input=Integer(-3885357202307093177)\n",
      "input=Comment(\"&kH1WGR\")\n",
      "input=Comment(\"$\")\n",
      "input=StringLiteral(\"*:( 8{*Nf|RK!}/?d\")\n",
      "input=Identifier(\"ov2ooi3bw7Qwqr5\")\n",
      "input=Comment(\"i*a=a9.'`m{(;{K!$\")\n",
      "input=Integer(9071153473389761251)\n",
      "input=Identifier(\"OGzxUH2i0ni1xskpH6aLL5qh3a4pBMnu\")\n",
      "input=StringLiteral(\"<?&+&7UR[2uo'{G]&\")\n",
      "input=StringLiteral(\"/U*aa!C+!Li{cTY\")\n",
      "input=StringLiteral(\"\")\n",
      "input=Operator(\"-\")\n",
      "input=Identifier(\"xwd0sc1X42UGa\")\n",
      "input=Comment(\"P9S!\")\n",
      "input=StringLiteral(\"D`l~<O\")\n",
      "input=Operator(\"-\")\n",
      "input=Integer(1817586791000156671)\n",
      "input=Operator(\"/\")\n",
      "input=Integer(-8503628598337286899)\n",
      "input=Comment(\"jj&X*F(_I(PP9;$TqS=/::wK<z3`\")\n",
      "input=Comment(\"+q&Nu\\\"S,k9R*&?7Pe o`AAR\\\\Z,/={\")\n",
      "input=Operator(\")\")\n",
      "input=Integer(-2943747657886532668)\n",
      "input=Comment(\"?8=,[e\")\n",
      "input=Identifier(\"OBL3QzCPOhKTTO\")\n",
      "input=Operator(\")\")\n",
      "input=Integer(-7426478321759184332)\n",
      "input=Comment(\"\\\"x?&Vx*6Vn@_~?\")\n",
      "input=Identifier(\"w65wxDgr18kOvPX6LSk\")\n",
      "input=Comment(\"K'/e}V-Z*PuIH} _\\\"$v~`5dO1K\")\n",
      "input=Integer(-694593706737348749)\n",
      "input=Integer(7539005474975982945)\n",
      "input=Comment(\"=kTqF|=j{aiT=q\")\n",
      "input=Identifier(\"ZrQ1DzwNOeM13r2O2sr2UicjIt8v02\")\n",
      "input=Integer(-2041881984484700496)\n",
      "input=Operator(\"=\")\n",
      "input=Operator(\"/\")\n",
      "input=Integer(-1924175436118888005)\n",
      "input=Operator(\"=\")\n",
      "input=Integer(-1707143643014294199)\n",
      "input=Integer(1342897309562503224)\n",
      "input=Operator(\"+\")\n",
      "input=StringLiteral(\"I8<b#6?Xm=<5GtW{20O&x1R~,H={9\")\n",
      "input=Operator(\"-\")\n",
      "input=StringLiteral(\"UOq3Tg0p-`D$3.J83$.zG}YF'\")\n",
      "input=Operator(\"(\")\n",
      "input=Integer(-8873861720850054725)\n",
      "input=Comment(\"x}D^kg{m-x`K'=3@\\\"CQ&/ja%\")\n",
      "input=Operator(\"/\")\n",
      "input=StringLiteral(\"-%s*0Gz<Q]\")\n",
      "input=Operator(\"=\")\n",
      "input=StringLiteral(\"D*9r4%dkh..&%<R>FefM\")\n",
      "input=StringLiteral(\"/rv\")\n",
      "input=StringLiteral(\"L!M^+;n/%%:-7I%Zqz.^]gJ{*\")\n",
      "input=Operator(\"=\")\n",
      "input=Integer(-5347829751632122880)\n",
      "input=Integer(-796066220086526559)\n",
      "input=Integer(-270311883450538233)\n",
      "input=Comment(\"\\\\A$Y M`6B\\\"/\")\n",
      "input=Operator(\")\")\n",
      "input=Operator(\")\")\n",
      "input=StringLiteral(\"`7$<(sti%dfw_T8hEUS,7e^\")\n",
      "input=Comment(\"<W&$W/'*GM$\\\\\\\"V{*fC.F{D2\")\n",
      "input=Identifier(\"i5zQ72XZnYaoqQ4ee9A0Lwz5K9\")\n",
      "input=Integer(-3563498540266560141)\n",
      "input=StringLiteral(\"`'V&~m']L/vp&B|d>6k,`Z%%b:%x%b<3\")\n",
      "input=Comment(\"\\\\q[=dk.L6IU\")\n",
      "input=Identifier(\"WxzNRkxIQ0ZoJXOEjTPQ7CVkU\")\n",
      "input=Operator(\"-\")\n",
      "input=Comment(\"*11W.?M\")\n",
      "input=Integer(-5749148398277300346)\n",
      "input=Comment(\"$$:K'\\\\@38%z\")\n",
      "input=Integer(4900241917869232442)\n",
      "input=Operator(\"*\")\n",
      "input=Integer(-5651074883486045861)\n",
      "input=Identifier(\"I2CU2qifZum8\")\n",
      "input=StringLiteral(\"{SKh'-&pG\")\n",
      "input=Comment(\"$?Y*EvwI;?H:~`V~.t%:klc\")\n",
      "input=StringLiteral(\"zPWSNNB>BF<L7@)'e&:K\")\n",
      "input=StringLiteral(\"`Qk0A=<B:Lx|.\")\n",
      "input=Identifier(\"R36rtEpf26Y4I9BOtIi3pBS\")\n",
      "input=Identifier(\"TCkBjgR1eKrF2\")\n",
      "input=Integer(-6686453438835434614)\n",
      "input=Operator(\"+\")\n",
      "input=Identifier(\"s4Rtpd2vXSAAJktp4q73GIp\")\n",
      "input=Comment(\"r?\\\"vN'T)*[?/?$`E:%+at\\\\)R'srXUO$\")\n",
      "input=StringLiteral(\":<`NsU.{A**Z?:&fJ'9$\")\n",
      "input=Operator(\"-\")\n",
      "input=Operator(\"*\")\n",
      "input=Integer(-5458007544738684314)\n",
      "input=Comment(\"6.?5?Dn*6\")\n",
      "input=Identifier(\"F10NuduT3Zv8v\")\n",
      "input=Operator(\"-\")\n",
      "input=Comment(\"\\\\*s/<BD{\")\n",
      "input=StringLiteral(\"2ZkR#){3*\")\n",
      "input=Comment(\"GWo\\\"?M<5'%*x8#\\\"}\")\n",
      "input=StringLiteral(\"<`S`(M%QFNz.|\")\n",
      "input=StringLiteral(\"$~x?)6U#N*?`\")\n",
      "input=Operator(\"/\")\n",
      "input=StringLiteral(\"g%s(B]J|ge]'&eRh\")\n",
      "input=Integer(4667785063465878797)\n",
      "input=Integer(1664023675628131350)\n",
      "input=Comment(\"$eT$%&Pc{.&\\\"r~sEv&Vz}A`=\")\n",
      "input=Integer(4501575063987863159)\n",
      "input=Operator(\"=\")\n",
      "input=Comment(\"o,Y_QjB\\\"K<*<</SG%?\\\"{{L&F={:>h5{\")\n",
      "input=Comment(\"<IV,=h<`>n:6O9q;n/yQ%WwMvuL003W0\")\n",
      "input=Identifier(\"hHgsPdXS9N48R8cD43D6TXro0\")\n",
      "input=Integer(-5050856528088501178)\n",
      "input=Identifier(\"EDLMamqPwzlubpeX7xVl34A\")\n",
      "input=Comment(\"wp:&'o0~\\\\UM)VY*px\\\\M}F+A{<B>%j\")\n",
      "input=Operator(\"+\")\n",
      "input=StringLiteral(\":,=%E6b1:fEf4hsd.lsg.?wHp*Hl%\")\n",
      "input=Identifier(\"mlI6YF8Hqc0xVoSmbG1W5Db1e324\")\n",
      "input=StringLiteral(\"BP_/hhi`C=9*\")\n",
      "input=StringLiteral(\"+;[$<`.\")\n",
      "input=StringLiteral(\"%ws,C?$Tm\")\n",
      "input=Comment(\"\\\\@]VmG&*@9[:V%$%uYc\")\n",
      "input=Operator(\"/\")\n",
      "input=Identifier(\"xm75N9\")\n",
      "input=StringLiteral(\"@x&{\")\n",
      "input=Operator(\"/\")\n",
      "input=Identifier(\"xAw7AAs51P8Qv4nrteK4kBC\")\n",
      "input=StringLiteral(\".+U))g.g:.:~&g1 5%'>\")\n",
      "input=Comment(\"}mc3$tZGP%/k.J3*mO'v|f\")\n",
      "input=Identifier(\"vqZrSwQOfQIamViVV7\")\n",
      "input=Integer(-6670104917459553137)\n",
      "input=StringLiteral(\"Q2G'}ID<'`v`voipl-C_>\")\n",
      "input=Operator(\"(\")\n",
      "input=StringLiteral(\"Sh.#B\")\n",
      "input=Operator(\")\")\n",
      "input=Operator(\"-\")\n",
      "input=Identifier(\"yxh75Xp1\")\n",
      "input=Integer(8755949739817564617)\n",
      "input=Comment(\"S<0p|D5s-F5+G%/K[|%[\")\n",
      "input=StringLiteral(\"3c ,U{<{<\")\n",
      "input=Integer(-6359278162388384841)\n",
      "input=StringLiteral(\"DoQTtk/>)Z%*$?\")\n",
      "input=Integer(-3770361038973228900)\n",
      "input=Identifier(\"Pafb0gCrXQ\")\n",
      "input=Integer(-6309062888108618022)\n",
      "input=StringLiteral(\"I>^Q.4k?:nPob,[0<.P\")\n",
      "input=Identifier(\"sdda5Us00QdOC47i4t5xrFokC\")\n",
      "input=Identifier(\"E6p5QFc8\")\n",
      "input=Operator(\"/\")\n",
      "input=Comment(\"$_$;m4F!\\\\|G\")\n",
      "input=Identifier(\"leTAnNN7uDs0\")\n",
      "input=Operator(\")\")\n",
      "input=Integer(-6060925093497013512)\n",
      "input=Integer(-3247485589503563090)\n",
      "input=Operator(\"(\")\n",
      "input=Integer(-4530445486977312162)\n",
      "input=Comment(\"\")\n",
      "input=StringLiteral(\"c-B$><2;FA:&Q.svv?3<8-{\")\n",
      "input=Integer(-1295760168455727158)\n",
      "input=Comment(\"@#<$S\\\\1(3:q=)`\")\n",
      "input=Operator(\")\")\n",
      "input=Operator(\")\")\n",
      "input=StringLiteral(\"=$^C.qd` mbd6%|xe'RP$4*\")\n",
      "input=Integer(-488529304346795998)\n",
      "input=StringLiteral(\"qtnk2=Dk\")\n",
      "input=StringLiteral(\"/>M=f?1? e7<%<l3&\")\n",
      "input=StringLiteral(\"[RxvB=+4.5)x)<W`\")\n",
      "input=Integer(-8368873080317383467)\n",
      "input=Integer(1152834455317273687)\n",
      "input=Integer(9140646588218387717)\n",
      "input=StringLiteral(\"vW\")\n",
      "input=Operator(\")\")\n",
      "input=StringLiteral(\"FKbU^e7Z.% mel%K7nCZt&{Fm:yX<?\")\n",
      "input=Integer(-2150123772807322830)\n",
      "input=Operator(\"(\")\n",
      "input=Comment(\"a`)@^N\")\n",
      "input=Integer(-3039940856834592196)\n",
      "input=Integer(848306190384765576)\n",
      "input=Identifier(\"OM6u36N57bXJ6Tg9Kf28aO1n92K\")\n",
      "input=Comment(\"\\\\/2?PO\\\\\")\n",
      "input=Identifier(\"Wk1dpyUTD3f9QPJcO9qIOFBn1vWf\")\n",
      "input=StringLiteral(\"\")\n",
      "input=Identifier(\"n7gl8R3c5\")\n",
      "input=Integer(3981188875052506257)\n",
      "input=Comment(\"psl$=elA@?Du{\")\n",
      "input=Integer(-1923142271345381579)\n",
      "input=Identifier(\"c7E633i70P1xmEDthRCDclfUnB624fJCT\")\n",
      "input=Comment(\"=$\")\n",
      "input=Identifier(\"y\")\n",
      "input=Comment(\"}{'\")\n",
      "input=Comment(\"\")\n",
      "input=Identifier(\"fWNZS63fpQwj\")\n",
      "input=Identifier(\"cw7BXY7H3pf9LlMm3p6FBtdbPgnStZ1l\")\n",
      "input=Comment(\"g<!W:={F*V dB%u'l\\\\]H'~;zoU%)PI\")\n",
      "input=StringLiteral(\"MNgqt$n$/w$0yP/6/\")\n",
      "input=Integer(1849474169787107617)\n",
      "input=Identifier(\"R8Dpg9hKQ\")\n",
      "input=StringLiteral(\"nK%6-`dB^J)A';p/+y]%<\")\n",
      "input=Operator(\"+\")\n",
      "input=Operator(\")\")\n",
      "input=StringLiteral(\"Jaodx{m ^&*~mT9M9(k6?y/=;J?,X\")\n",
      "input=Operator(\"*\")\n",
      "input=Operator(\"=\")\n",
      "input=Identifier(\"nS6CHMQA3nYquFYsqVd2cZ0QfNoS\")\n",
      "input=StringLiteral(\"U%/=}Y_{A'$w.K$u?u`$*x0]]G@\")\n",
      "input=Integer(-7777803561919033435)\n",
      "input=Comment(\"CZ*\\\\NHQPZU^:z.v<`\")\n",
      "input=Integer(7439466321646797062)\n",
      "input=Integer(-1573084981242901394)\n",
      "input=Comment(\"'RUDj+!`8hR/8x56&+x~\")\n",
      "input=Comment(\"f$,AK<h{,\\\"'9#{k..JX]f$l%bm\\\"8{\")\n",
      "input=Integer(235533357883706524)\n",
      "input=Comment(\"\")\n",
      "input=StringLiteral(\">b,{^XN<9/&ec|O|_e&Z1$+\")\n",
      "input=StringLiteral(\"y~\")\n",
      "input=StringLiteral(\"QT@.`[&U\")\n",
      "input=Comment(\"6/=zQ\")\n",
      "input=Integer(3280713821905227928)\n",
      "input=Operator(\")\")\n",
      "input=Integer(1695718497491870450)\n",
      "input=StringLiteral(\"}z-=?`mI;\")\n",
      "input=Comment(\"]x0G/\")\n",
      "input=StringLiteral(\"'d0Fs/w%IaHU: RQ-*<|8Tq3T!!i\")\n",
      "input=Integer(-8104675414421286399)\n",
      "input=Comment(\"\\\\e\")\n",
      "input=Comment(\"]Up.U%@:'LC/c?1Xapg=L dX\")\n",
      "input=Comment(\"r>C`&>\")\n",
      "input=Identifier(\"dm2v7patmzep7vZ5yp8AZ37X2FBEj\")\n",
      "input=Comment(\"2AY{N![=%>WI*vv_G\")\n",
      "input=Integer(3837096867463591011)\n",
      "input=Operator(\")\")\n",
      "input=Comment(\"HhL/o! /6M\")\n",
      "\n",
      "\n",
      "successes:\n",
      "    adding_and_then_removing_an_item_from_the_cart_leaves_the_cart_unchanged\n",
      "    prop_parse_format_idempotent\n",
      "    test_parse_number\n",
      "\n",
      "test result: ok. 3 passed; 0 failed; 0 ignored; 0 measured; 0 filtered out; finished in 0.39s\n",
      "\n"
     ]
    }
   ],
   "source": [
    "{ cargo +nightly test --release -- --show-output } | Invoke-Block"
   ]
  },
  {
   "cell_type": "markdown",
   "metadata": {},
   "source": [
    "### execute the binary in release mode"
   ]
  },
  {
   "cell_type": "code",
   "execution_count": null,
   "metadata": {
    "dotnet_interactive": {
     "language": "pwsh"
    },
    "polyglot_notebook": {
     "kernelName": "pwsh"
    }
   },
   "outputs": [
    {
     "name": "stdout",
     "output_type": "stream",
     "text": [
      "app=test\n"
     ]
    }
   ],
   "source": [
    "{ . $ScriptDir/../../../../workspace/target/release/spiral_temp_test$(_exe) } | Invoke-Block"
   ]
  }
 ],
 "metadata": {},
 "nbformat": 4,
 "nbformat_minor": 5
}