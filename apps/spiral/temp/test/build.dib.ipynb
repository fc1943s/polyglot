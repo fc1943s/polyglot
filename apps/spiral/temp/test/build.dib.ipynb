{
 "cells": [
  {
   "cell_type": "markdown",
   "metadata": {},
   "source": [
    "# test"
   ]
  },
  {
   "cell_type": "markdown",
   "metadata": {},
   "source": [
    "## include scripts"
   ]
  },
  {
   "cell_type": "markdown",
   "metadata": {},
   "source": [
    "### include notebook core"
   ]
  },
  {
   "cell_type": "code",
   "execution_count": null,
   "metadata": {
    "dotnet_interactive": {
     "language": "pwsh"
    },
    "polyglot_notebook": {
     "kernelName": "pwsh"
    }
   },
   "outputs": [],
   "source": [
    ". ../../../../scripts/nbs_header.ps1"
   ]
  },
  {
   "cell_type": "markdown",
   "metadata": {},
   "source": [
    "### Include core functions script"
   ]
  },
  {
   "cell_type": "code",
   "execution_count": null,
   "metadata": {
    "dotnet_interactive": {
     "language": "pwsh"
    },
    "polyglot_notebook": {
     "kernelName": "pwsh"
    }
   },
   "outputs": [],
   "source": [
    ". ../../../../scripts/core.ps1"
   ]
  },
  {
   "cell_type": "markdown",
   "metadata": {},
   "source": [
    "### Include spiral library"
   ]
  },
  {
   "cell_type": "code",
   "execution_count": null,
   "metadata": {
    "dotnet_interactive": {
     "language": "pwsh"
    },
    "polyglot_notebook": {
     "kernelName": "pwsh"
    }
   },
   "outputs": [],
   "source": [
    ". ../../../../lib/spiral/lib.ps1"
   ]
  },
  {
   "cell_type": "markdown",
   "metadata": {},
   "source": [
    "## execute project commands"
   ]
  },
  {
   "cell_type": "markdown",
   "metadata": {},
   "source": [
    "### run notebook with retries using spiral supervisor"
   ]
  },
  {
   "cell_type": "code",
   "execution_count": null,
   "metadata": {
    "dotnet_interactive": {
     "language": "pwsh"
    },
    "polyglot_notebook": {
     "kernelName": "pwsh"
    }
   },
   "outputs": [
    {
     "name": "stdout",
     "output_type": "stream",
     "text": [
      "00:00:00 \u001B[90mv\u001B[0m #1 async.run_with_timeout_async / { timeout = 180 }\n",
      "00:00:00 \u001B[94md\u001B[0m #1 runtime.execute_with_options_async / { file_name = ../../../../workspace/target/release/spiral_builder.exe; arguments = US5_0 \"dib --path test.dib --retries 3\"; options = { command = ../../../../workspace/target/release/spiral_builder.exe dib --path test.dib --retries 3; cancellation_token = Some System.Threading.CancellationToken; environment_variables = [||]; on_line = None; stdin = None; trace = true; working_directory = None } }\n",
      "00:00:00 \u001B[90mv\u001B[0m #2 > 00:00:00 \u001B[94md\u001B[39m #1 spiral_builder.main / { args = Array(MutCell([\"dib\", \"--path\", \"test.dib\", \"--retries\", \"3\"])) }\n",
      "00:00:00 \u001B[90mv\u001B[0m #3 > 00:00:00 \u001B[94md\u001B[39m #2 runtime.execute_with_options / { file_name = dotnet; arguments = [\"repl\", \"--exit-after-run\", \"--run\", \"c:/home/git/polyglot/apps/spiral/temp/test/test.dib\", \"--output-path\", \"c:/home/git/polyglot/apps/spiral/temp/test/test.dib.ipynb\"]; options = { command = dotnet repl --exit-after-run --run \"c:/home/git/polyglot/apps/spiral/temp/test/test.dib\" --output-path \"c:/home/git/polyglot/apps/spiral/temp/test/test.dib.ipynb\"; cancellation_token = None; environment_variables = Array(MutCell([(\"TRACE_LEVEL\", \"Verbose\"), (\"AUTOMATION\", \"True\")])); on_line = None; stdin = None; trace = false; working_directory = None } }\n",
      "00:00:02 \u001B[90mv\u001B[0m #4 > >\n",
      "00:00:02 \u001B[90mv\u001B[0m #5 > > ── markdown ────────────────────────────────────────────────────────────────────\n",
      "00:00:02 \u001B[90mv\u001B[0m #6 > > ╭──────────────────────────────────────────────────────────────────────────────╮\n",
      "00:00:02 \u001B[90mv\u001B[0m #7 > > │ # test (Polyglot)                                                            │\n",
      "00:00:02 \u001B[90mv\u001B[0m #8 > > ╰──────────────────────────────────────────────────────────────────────────────╯\n",
      "00:00:07 \u001B[90mv\u001B[0m #9 > >\n",
      "00:00:07 \u001B[90mv\u001B[0m #10 > > ── spiral ──────────────────────────────────────────────────────────────────────\n",
      "00:00:07 \u001B[90mv\u001B[0m #11 > > //// test\n",
      "00:00:07 \u001B[90mv\u001B[0m #12 > >\n",
      "00:00:07 \u001B[90mv\u001B[0m #13 > > open testing\n",
      "00:00:08 \u001B[90mv\u001B[0m #14 > >\n",
      "00:00:08 \u001B[90mv\u001B[0m #15 > > ── spiral ──────────────────────────────────────────────────────────────────────\n",
      "00:00:08 \u001B[90mv\u001B[0m #16 > > nominal i = ()\n",
      "00:00:08 \u001B[90mv\u001B[0m #17 > > nominal e = ()\n",
      "00:00:08 \u001B[90mv\u001B[0m #18 > > nominal s = ()\n",
      "00:00:08 \u001B[90mv\u001B[0m #19 > > nominal n = ()\n",
      "00:00:08 \u001B[90mv\u001B[0m #20 > > nominal t = ()\n",
      "00:00:08 \u001B[90mv\u001B[0m #21 > > nominal f = ()\n",
      "00:00:08 \u001B[90mv\u001B[0m #22 > > nominal j = ()\n",
      "00:00:08 \u001B[90mv\u001B[0m #23 > > nominal p = ()\n",
      "00:00:08 \u001B[90mv\u001B[0m #24 > >\n",
      "00:00:08 \u001B[90mv\u001B[0m #25 > > union sensing =\n",
      "00:00:08 \u001B[90mv\u001B[0m #26 > >     | Si : s * i\n",
      "00:00:08 \u001B[90mv\u001B[0m #27 > >     | Se : s * e\n",
      "00:00:08 \u001B[90mv\u001B[0m #28 > >\n",
      "00:00:08 \u001B[90mv\u001B[0m #29 > > union intuition =\n",
      "00:00:08 \u001B[90mv\u001B[0m #30 > >     | Ni : n * i\n",
      "00:00:08 \u001B[90mv\u001B[0m #31 > >     | Ne : n * e\n",
      "00:00:08 \u001B[90mv\u001B[0m #32 > >\n",
      "00:00:08 \u001B[90mv\u001B[0m #33 > > union thinking =\n",
      "00:00:08 \u001B[90mv\u001B[0m #34 > >     | Ti : t * i\n",
      "00:00:08 \u001B[90mv\u001B[0m #35 > >     | Te : t * e\n",
      "00:00:08 \u001B[90mv\u001B[0m #36 > >\n",
      "00:00:08 \u001B[90mv\u001B[0m #37 > > union feeling =\n",
      "00:00:08 \u001B[90mv\u001B[0m #38 > >     | Fi : f * i\n",
      "00:00:08 \u001B[90mv\u001B[0m #39 > >     | Fe : f * e\n",
      "00:00:08 \u001B[90mv\u001B[0m #40 > >\n",
      "00:00:08 \u001B[90mv\u001B[0m #41 > > union function_stack =\n",
      "00:00:08 \u001B[90mv\u001B[0m #42 > >     | FS : sensing * intuition * thinking * feeling\n",
      "00:00:08 \u001B[90mv\u001B[0m #43 > >\n",
      "00:00:08 \u001B[90mv\u001B[0m #44 > > union personality_type =\n",
      "00:00:08 \u001B[90mv\u001B[0m #45 > >     | ISTJ : i * s * t * j * function_stack\n",
      "00:00:08 \u001B[90mv\u001B[0m #46 > >     | ISFJ : i * s * f * j * function_stack\n",
      "00:00:08 \u001B[90mv\u001B[0m #47 > >     | INFJ : i * n * f * j * function_stack\n",
      "00:00:08 \u001B[90mv\u001B[0m #48 > >     | INTJ : i * n * t * j * function_stack\n",
      "00:00:08 \u001B[90mv\u001B[0m #49 > >     | ISTP : i * s * t * p * function_stack\n",
      "00:00:08 \u001B[90mv\u001B[0m #50 > >     | ISFP : i * s * f * p * function_stack\n",
      "00:00:08 \u001B[90mv\u001B[0m #51 > >     | INFP : i * n * f * p * function_stack\n",
      "00:00:08 \u001B[90mv\u001B[0m #52 > >     | INTP : i * n * t * p * function_stack\n",
      "00:00:08 \u001B[90mv\u001B[0m #53 > >     | ESTP : e * s * t * p * function_stack\n",
      "00:00:08 \u001B[90mv\u001B[0m #54 > >     | ESFP : e * s * f * p * function_stack\n",
      "00:00:08 \u001B[90mv\u001B[0m #55 > >     | ENFP : e * n * f * p * function_stack\n",
      "00:00:08 \u001B[90mv\u001B[0m #56 > >     | ENTP : e * n * t * p * function_stack\n",
      "00:00:08 \u001B[90mv\u001B[0m #57 > >     | ESTJ : e * s * t * j * function_stack\n",
      "00:00:08 \u001B[90mv\u001B[0m #58 > >     | ESFJ : e * s * f * j * function_stack\n",
      "00:00:08 \u001B[90mv\u001B[0m #59 > >     | ENFJ : e * n * f * j * function_stack\n",
      "00:00:08 \u001B[90mv\u001B[0m #60 > >     | ENTJ : e * n * t * j * function_stack\n",
      "00:00:08 \u001B[90mv\u001B[0m #61 > >\n",
      "00:00:08 \u001B[90mv\u001B[0m #62 > >\n",
      "00:00:08 \u001B[90mv\u001B[0m #63 > > inl main () =\n",
      "00:00:08 \u001B[90mv\u001B[0m #64 > >     inl istj_stack = FS ((Si (s, i)), Ne (n, e), (Te (t, e)), (Fi (f, i)))\n",
      "00:00:08 \u001B[90mv\u001B[0m #65 > >     inl istj_personality = ISTJ (i, s, t, j, istj_stack)\n",
      "00:00:08 \u001B[90mv\u001B[0m #66 > >     // inl isfj_stack = FS ((Si (s, i)), Ne (n, e), (Fe (f, e)), (Ti (t, i)))\n",
      "00:00:08 \u001B[90mv\u001B[0m #67 > >     // inl isfj_personality = ISFJ (i, s, f, j, isfj_stack)\n",
      "00:00:08 \u001B[90mv\u001B[0m #68 > >\n",
      "00:00:08 \u001B[90mv\u001B[0m #69 > >     ;[[\n",
      "00:00:08 \u001B[90mv\u001B[0m #70 > >         istj_personality\n",
      "00:00:08 \u001B[90mv\u001B[0m #71 > >     ]]\n",
      "00:00:08 \u001B[90mv\u001B[0m #72 > >     |> fun x => $'$\"%A{!x}\"' : string\n",
      "00:00:08 \u001B[90mv\u001B[0m #73 > >     |> console.write_line\n",
      "00:00:08 \u001B[90mv\u001B[0m #74 > >\n",
      "00:00:08 \u001B[90mv\u001B[0m #75 > > inl main () =\n",
      "00:00:08 \u001B[90mv\u001B[0m #76 > >     $'!main ()' : ()\n",
      "00:00:10 \u001B[90mv\u001B[0m #77 > >\n",
      "00:00:10 \u001B[90mv\u001B[0m #78 > > ╭─[ 1.91s - stdout ]───────────────────────────────────────────────────────────╮\n",
      "00:00:10 \u001B[90mv\u001B[0m #79 > > │ [|US5_0 (US4_0 (US0_0, US1_1, US2_1, US3_0))|]                               │\n",
      "00:00:10 \u001B[90mv\u001B[0m #80 > > │                                                                              │\n",
      "00:00:10 \u001B[90mv\u001B[0m #81 > > ╰──────────────────────────────────────────────────────────────────────────────╯\n",
      "00:00:11 \u001B[90mv\u001B[0m #82 > >\n",
      "00:00:11 \u001B[90mv\u001B[0m #83 > > ── fsharp ──────────────────────────────────────────────────────────────────────\n",
      "00:00:11 \u001B[90mv\u001B[0m #84 > > type PhonologicalFeature =\n",
      "00:00:11 \u001B[90mv\u001B[0m #85 > >     | VowelFeature of\n",
      "00:00:11 \u001B[90mv\u001B[0m #86 > >         height: Height\n",
      "00:00:11 \u001B[90mv\u001B[0m #87 > >         * backness: Backness\n",
      "00:00:11 \u001B[90mv\u001B[0m #88 > >         * roundedness: Roundedness\n",
      "00:00:11 \u001B[90mv\u001B[0m #89 > >         * tone: Option<Tone>\n",
      "00:00:11 \u001B[90mv\u001B[0m #90 > >         * stress: Option<Stress>\n",
      "00:00:11 \u001B[90mv\u001B[0m #91 > >         * length: Option<Length>\n",
      "00:00:11 \u001B[90mv\u001B[0m #92 > >     | ConsonantFeature of\n",
      "00:00:11 \u001B[90mv\u001B[0m #93 > >         place: PlaceOfArticulation\n",
      "00:00:11 \u001B[90mv\u001B[0m #94 > >         * manner: MannerOfArticulation\n",
      "00:00:11 \u001B[90mv\u001B[0m #95 > >         * voicing: Voicing\n",
      "00:00:11 \u001B[90mv\u001B[0m #96 > >         * length: Option<Length>\n",
      "00:00:11 \u001B[90mv\u001B[0m #97 > >     | VowelHarmonyFeature\n",
      "00:00:11 \u001B[90mv\u001B[0m #98 > >     | PitchAccentFeature\n",
      "00:00:11 \u001B[90mv\u001B[0m #99 > >\n",
      "00:00:11 \u001B[90mv\u001B[0m #100 > > and Stress = Primary | Secondary\n",
      "00:00:11 \u001B[90mv\u001B[0m #101 > > and Length = Long | Short | HalfLong\n",
      "00:00:11 \u001B[90mv\u001B[0m #102 > >\n",
      "00:00:11 \u001B[90mv\u001B[0m #103 > > and Height =\n",
      "00:00:11 \u001B[90mv\u001B[0m #104 > >     | High | NearHigh | HighMid\n",
      "00:00:11 \u001B[90mv\u001B[0m #105 > >     | Mid | LowMid | NearLow\n",
      "00:00:11 \u001B[90mv\u001B[0m #106 > >     | Low\n",
      "00:00:11 \u001B[90mv\u001B[0m #107 > >\n",
      "00:00:11 \u001B[90mv\u001B[0m #108 > > and Backness = Front | Central | Back\n",
      "00:00:11 \u001B[90mv\u001B[0m #109 > >\n",
      "00:00:11 \u001B[90mv\u001B[0m #110 > > and Roundedness = Rounded | Unrounded\n",
      "00:00:11 \u001B[90mv\u001B[0m #111 > >\n",
      "00:00:11 \u001B[90mv\u001B[0m #112 > > and PlaceOfArticulation =\n",
      "00:00:11 \u001B[90mv\u001B[0m #113 > >     | Bilabial | Labiodental | Dental\n",
      "00:00:11 \u001B[90mv\u001B[0m #114 > >     | Alveolar | Postalveolar | Retroflex\n",
      "00:00:11 \u001B[90mv\u001B[0m #115 > >     | Palatal | Velar | Uvular\n",
      "00:00:11 \u001B[90mv\u001B[0m #116 > >     | Pharyngeal | Epiglottal | Glottal\n",
      "00:00:11 \u001B[90mv\u001B[0m #117 > >\n",
      "00:00:11 \u001B[90mv\u001B[0m #118 > > and MannerOfArticulation =\n",
      "00:00:11 \u001B[90mv\u001B[0m #119 > >     | Plosive | Nasal | Trill\n",
      "00:00:11 \u001B[90mv\u001B[0m #120 > >     | TapOrFlap | Fricative | LateralFricative\n",
      "00:00:11 \u001B[90mv\u001B[0m #121 > >     | Approximant | LateralApproximant\n",
      "00:00:11 \u001B[90mv\u001B[0m #122 > >\n",
      "00:00:11 \u001B[90mv\u001B[0m #123 > > and Voicing = Voiced | Voiceless\n",
      "00:00:11 \u001B[90mv\u001B[0m #124 > >\n",
      "00:00:11 \u001B[90mv\u001B[0m #125 > > and SecondaryArticulation =\n",
      "00:00:11 \u001B[90mv\u001B[0m #126 > >     | Labialization | Palatalization | Velarization\n",
      "00:00:11 \u001B[90mv\u001B[0m #127 > >     | Pharyngealization | Aspiration\n",
      "00:00:11 \u001B[90mv\u001B[0m #128 > >\n",
      "00:00:11 \u001B[90mv\u001B[0m #129 > > and Tone =\n",
      "00:00:11 \u001B[90mv\u001B[0m #130 > >     | LevelTone of int\n",
      "00:00:11 \u001B[90mv\u001B[0m #131 > >     | ContourTone of int list\n",
      "00:00:11 \u001B[90mv\u001B[0m #132 > >\n",
      "00:00:11 \u001B[90mv\u001B[0m #133 > > and MorphologicalFeature =\n",
      "00:00:11 \u001B[90mv\u001B[0m #134 > >     | RootFeature of string\n",
      "00:00:11 \u001B[90mv\u001B[0m #135 > >     | AffixFeature of AffixType * string\n",
      "00:00:11 \u001B[90mv\u001B[0m #136 > >     | IncorporationFeature of string * MorphologicalFeature\n",
      "00:00:11 \u001B[90mv\u001B[0m #137 > >     | NonConcatenativePattern of string * string\n",
      "00:00:11 \u001B[90mv\u001B[0m #138 > >     | AgglutinativeAffixFeature of AgglutinativeAffixType * string\n",
      "00:00:11 \u001B[90mv\u001B[0m #139 > >     | HonorificFeature of HonorificType * string\n",
      "00:00:11 \u001B[90mv\u001B[0m #140 > >\n",
      "00:00:11 \u001B[90mv\u001B[0m #141 > > and AgglutinativeAffixType = Suffix | Prefix\n",
      "00:00:11 \u001B[90mv\u001B[0m #142 > >\n",
      "00:00:11 \u001B[90mv\u001B[0m #143 > > and HonorificType = VerbHonorific | NounHonorific\n",
      "00:00:11 \u001B[90mv\u001B[0m #144 > >\n",
      "00:00:11 \u001B[90mv\u001B[0m #145 > > and AffixType =\n",
      "00:00:11 \u001B[90mv\u001B[0m #146 > >     | Prefix | Suffix | Infix\n",
      "00:00:11 \u001B[90mv\u001B[0m #147 > >     | Circumfix\n",
      "00:00:11 \u001B[90mv\u001B[0m #148 > >\n",
      "00:00:11 \u001B[90mv\u001B[0m #149 > > type SyntacticFeature =\n",
      "00:00:11 \u001B[90mv\u001B[0m #150 > >     | WordFeature of MorphologicalFeature list * LexicalCategory\n",
      "00:00:11 \u001B[90mv\u001B[0m #151 > >     | PhraseFeature of PhraseType * SyntacticFeature list\n",
      "00:00:11 \u001B[90mv\u001B[0m #152 > >     | GrammaticalRelation of GrammaticalRelationType * SyntacticFeature list\n",
      "00:00:11 \u001B[90mv\u001B[0m #153 > >     | SOVOrderFeature\n",
      "00:00:11 \u001B[90mv\u001B[0m #154 > >     | TopicCommentFeature\n",
      "00:00:11 \u001B[90mv\u001B[0m #155 > >\n",
      "00:00:11 \u001B[90mv\u001B[0m #156 > > and GrammaticalRelationType =\n",
      "00:00:11 \u001B[90mv\u001B[0m #157 > >     | Ergative | Absolutive | Nominative\n",
      "00:00:11 \u001B[90mv\u001B[0m #158 > >     | Accusative\n",
      "00:00:11 \u001B[90mv\u001B[0m #159 > >\n",
      "00:00:11 \u001B[90mv\u001B[0m #160 > > and LexicalCategory =\n",
      "00:00:11 \u001B[90mv\u001B[0m #161 > >     | Noun | Verb | Adjective\n",
      "00:00:11 \u001B[90mv\u001B[0m #162 > >     | Adverb | Pronoun | Preposition\n",
      "00:00:11 \u001B[90mv\u001B[0m #163 > >     | Conjunction | Determiner | Interjection\n",
      "00:00:11 \u001B[90mv\u001B[0m #164 > >\n",
      "00:00:11 \u001B[90mv\u001B[0m #165 > > and PhraseType =\n",
      "00:00:11 \u001B[90mv\u001B[0m #166 > >     | NP | VP | AP\n",
      "00:00:11 \u001B[90mv\u001B[0m #167 > >     | PP | CP\n",
      "00:00:11 \u001B[90mv\u001B[0m #168 > >\n",
      "00:00:11 \u001B[90mv\u001B[0m #169 > > and SemanticFeature =\n",
      "00:00:11 \u001B[90mv\u001B[0m #170 > >     | Meaning of string\n",
      "00:00:11 \u001B[90mv\u001B[0m #171 > >     | SemanticRole of SemanticRoleType * SemanticFeature\n",
      "00:00:11 \u001B[90mv\u001B[0m #172 > >\n",
      "00:00:11 \u001B[90mv\u001B[0m #173 > > and SemanticRoleType =\n",
      "00:00:11 \u001B[90mv\u001B[0m #174 > >     | Agent | Patient | Instrument\n",
      "00:00:11 \u001B[90mv\u001B[0m #175 > >     | Location | Time | Cause\n",
      "00:00:11 \u001B[90mv\u001B[0m #176 > >\n",
      "00:00:11 \u001B[90mv\u001B[0m #177 > > and PragmaticFeature =\n",
      "00:00:11 \u001B[90mv\u001B[0m #178 > >     | UseContext of string\n",
      "00:00:11 \u001B[90mv\u001B[0m #179 > >     | PolitenessLevel of Politeness\n",
      "00:00:11 \u001B[90mv\u001B[0m #180 > >     | SpeechAct of SpeechActType\n",
      "00:00:11 \u001B[90mv\u001B[0m #181 > >     | SpeechLevel of SpeechLevelType\n",
      "00:00:11 \u001B[90mv\u001B[0m #182 > >\n",
      "00:00:11 \u001B[90mv\u001B[0m #183 > > and Politeness = Formal | Informal | Neutral\n",
      "00:00:11 \u001B[90mv\u001B[0m #184 > >\n",
      "00:00:11 \u001B[90mv\u001B[0m #185 > > and SpeechActType =\n",
      "00:00:11 \u001B[90mv\u001B[0m #186 > >     | Assertive | Directive | Commissive\n",
      "00:00:11 \u001B[90mv\u001B[0m #187 > >     | Expressive | Declarative\n",
      "00:00:11 \u001B[90mv\u001B[0m #188 > >\n",
      "00:00:11 \u001B[90mv\u001B[0m #189 > > and SpeechLevelType =\n",
      "00:00:11 \u001B[90mv\u001B[0m #190 > >     | FormalHigh | FormalLow | InformalHigh\n",
      "00:00:11 \u001B[90mv\u001B[0m #191 > >     | InformalLow | Neutral\n",
      "00:00:11 \u001B[90mv\u001B[0m #192 > >\n",
      "00:00:11 \u001B[90mv\u001B[0m #193 > > type LinguisticFeature =\n",
      "00:00:11 \u001B[90mv\u001B[0m #194 > >     | Phonological of PhonologicalFeature\n",
      "00:00:11 \u001B[90mv\u001B[0m #195 > >     | Morphological of MorphologicalFeature\n",
      "00:00:11 \u001B[90mv\u001B[0m #196 > >     | Syntactic of SyntacticFeature\n",
      "00:00:11 \u001B[90mv\u001B[0m #197 > >     | Semantic of SemanticFeature\n",
      "00:00:11 \u001B[90mv\u001B[0m #198 > >     | Pragmatic of PragmaticFeature\n",
      "00:00:11 \u001B[90mv\u001B[0m #199 > >\n",
      "00:00:11 \u001B[90mv\u001B[0m #200 > > type LanguageConstruct =\n",
      "00:00:11 \u001B[90mv\u001B[0m #201 > >     | LanguageElement of LinguisticFeature\n",
      "00:00:11 \u001B[90mv\u001B[0m #202 > >     | LanguageStructure of LanguageConstruct list\n",
      "00:00:11 \u001B[90mv\u001B[0m #203 > >     | TranslationElement of TranslationFeature\n",
      "00:00:11 \u001B[90mv\u001B[0m #204 > >\n",
      "00:00:11 \u001B[90mv\u001B[0m #205 > > and TranslationFeature =\n",
      "00:00:11 \u001B[90mv\u001B[0m #206 > >     | LinkedPhonological of PhonologicalFeature * PhonologicalFeature\n",
      "00:00:11 \u001B[90mv\u001B[0m #207 > >     | LinkedMorphological of MorphologicalFeature * MorphologicalFeature\n",
      "00:00:11 \u001B[90mv\u001B[0m #208 > >     | LinkedSyntactic of SyntacticFeature * SyntacticFeature\n",
      "00:00:11 \u001B[90mv\u001B[0m #209 > >     | LinkedSemantic of SemanticFeature * SemanticFeature\n",
      "00:00:11 \u001B[90mv\u001B[0m #210 > >\n",
      "00:00:11 \u001B[90mv\u001B[0m #211 > > type Discourse = DiscourseUnit of LanguageConstruct list\n",
      "00:00:11 \u001B[90mv\u001B[0m #212 > >\n",
      "00:00:11 \u001B[90mv\u001B[0m #213 > > type LanguageModel =\n",
      "00:00:11 \u001B[90mv\u001B[0m #214 > >     | Model of discourse: Discourse\n",
      "00:00:12 \u001B[90mv\u001B[0m #215 > >\n",
      "00:00:12 \u001B[90mv\u001B[0m #216 > > ── fsharp ──────────────────────────────────────────────────────────────────────\n",
      "00:00:12 \u001B[90mv\u001B[0m #217 > > let testEnglish =\n",
      "00:00:12 \u001B[90mv\u001B[0m #218 > >     Model(\n",
      "00:00:12 \u001B[90mv\u001B[0m #219 > >         DiscourseUnit [[\n",
      "00:00:12 \u001B[90mv\u001B[0m #220 > >             LanguageElement (Phonological (ConsonantFeature (Alveolar, Nasal,\n",
      "00:00:12 \u001B[90mv\u001B[0m #221 > > Voiced, Some(HalfLong))));\n",
      "00:00:12 \u001B[90mv\u001B[0m #222 > >             LanguageElement (Phonological (VowelFeature (High, Front, Unrounded,\n",
      "00:00:12 \u001B[90mv\u001B[0m #223 > > Some(LevelTone 1), Some(Primary), Some(Short))));\n",
      "00:00:12 \u001B[90mv\u001B[0m #224 > >             LanguageElement (Phonological (VowelFeature (Low, Front, Unrounded,\n",
      "00:00:12 \u001B[90mv\u001B[0m #225 > > Some(LevelTone 2), Some(Secondary), Some(Long))));\n",
      "00:00:12 \u001B[90mv\u001B[0m #226 > >             LanguageElement (Phonological (ConsonantFeature (Velar, Plosive,\n",
      "00:00:12 \u001B[90mv\u001B[0m #227 > > Voiceless, Some(HalfLong))));\n",
      "00:00:12 \u001B[90mv\u001B[0m #228 > >             LanguageElement (Morphological (RootFeature \"I\"));\n",
      "00:00:12 \u001B[90mv\u001B[0m #229 > >             LanguageElement (Morphological (RootFeature \"see\"));\n",
      "00:00:12 \u001B[90mv\u001B[0m #230 > >             LanguageElement (Morphological (RootFeature \"a\"));\n",
      "00:00:12 \u001B[90mv\u001B[0m #231 > >             LanguageElement (Morphological (RootFeature \"cat\"));\n",
      "00:00:12 \u001B[90mv\u001B[0m #232 > >             LanguageElement (Syntactic (PhraseFeature (NP, [[WordFeature\n",
      "00:00:12 \u001B[90mv\u001B[0m #233 > > ([[RootFeature \"I\"]], Pronoun)]])));\n",
      "00:00:12 \u001B[90mv\u001B[0m #234 > >             LanguageElement (Syntactic (PhraseFeature (VP, [[WordFeature\n",
      "00:00:12 \u001B[90mv\u001B[0m #235 > > ([[RootFeature \"see\"]], Verb)]])));\n",
      "00:00:12 \u001B[90mv\u001B[0m #236 > >             LanguageElement (Syntactic (PhraseFeature (NP, [[WordFeature\n",
      "00:00:12 \u001B[90mv\u001B[0m #237 > > ([[RootFeature \"a\"; RootFeature \"cat\"]], Noun)]])));\n",
      "00:00:12 \u001B[90mv\u001B[0m #238 > >             LanguageElement (Semantic (Meaning \"Perception act of a feline by\n",
      "00:00:12 \u001B[90mv\u001B[0m #239 > > the speaker\"));\n",
      "00:00:12 \u001B[90mv\u001B[0m #240 > >             LanguageElement (Pragmatic (UseContext \"Statement of an action being\n",
      "00:00:12 \u001B[90mv\u001B[0m #241 > > observed\"))\n",
      "00:00:12 \u001B[90mv\u001B[0m #242 > >         ]]\n",
      "00:00:12 \u001B[90mv\u001B[0m #243 > >     )\n",
      "00:00:12 \u001B[90mv\u001B[0m #244 > >\n",
      "00:00:12 \u001B[90mv\u001B[0m #245 > > let testPortuguese =\n",
      "00:00:12 \u001B[90mv\u001B[0m #246 > >     Model(\n",
      "00:00:12 \u001B[90mv\u001B[0m #247 > >         DiscourseUnit [[\n",
      "00:00:12 \u001B[90mv\u001B[0m #248 > >             LanguageElement (Phonological (VowelFeature (High, Front, Unrounded,\n",
      "00:00:12 \u001B[90mv\u001B[0m #249 > > Some(LevelTone 1), Some(Primary), Some(Short))));\n",
      "00:00:12 \u001B[90mv\u001B[0m #250 > >             LanguageElement (Phonological (VowelFeature (Low, Front, Unrounded,\n",
      "00:00:12 \u001B[90mv\u001B[0m #251 > > Some(LevelTone 2), Some(Secondary), Some(Long))));\n",
      "00:00:12 \u001B[90mv\u001B[0m #252 > >             LanguageElement (Phonological (VowelFeature (Mid, Back, Rounded,\n",
      "00:00:12 \u001B[90mv\u001B[0m #253 > > Some(LevelTone 3), Some(Primary), Some(Short))));\n",
      "00:00:12 \u001B[90mv\u001B[0m #254 > >             LanguageElement (Phonological (ConsonantFeature (Velar, Plosive,\n",
      "00:00:12 \u001B[90mv\u001B[0m #255 > > Voiceless, Some(HalfLong))));\n",
      "00:00:12 \u001B[90mv\u001B[0m #256 > >             LanguageElement (Morphological (RootFeature \"Eu\"));\n",
      "00:00:12 \u001B[90mv\u001B[0m #257 > >             LanguageElement (Morphological (RootFeature \"ver\" |> ignore;\n",
      "00:00:12 \u001B[90mv\u001B[0m #258 > > AffixFeature (Suffix, \"o\")));\n",
      "00:00:12 \u001B[90mv\u001B[0m #259 > >             LanguageElement (Morphological (RootFeature \"um\"));\n",
      "00:00:12 \u001B[90mv\u001B[0m #260 > >             LanguageElement (Morphological (RootFeature \"gato\"));\n",
      "00:00:12 \u001B[90mv\u001B[0m #261 > >             LanguageElement (Syntactic (PhraseFeature (NP, [[WordFeature\n",
      "00:00:12 \u001B[90mv\u001B[0m #262 > > ([[RootFeature \"Eu\"]], Pronoun)]])));\n",
      "00:00:12 \u001B[90mv\u001B[0m #263 > >             LanguageElement (Syntactic (PhraseFeature (VP, [[WordFeature\n",
      "00:00:12 \u001B[90mv\u001B[0m #264 > > ([[RootFeature \"vejo\"]], Verb)]])));\n",
      "00:00:12 \u001B[90mv\u001B[0m #265 > >             LanguageElement (Syntactic (PhraseFeature (NP, [[WordFeature\n",
      "00:00:12 \u001B[90mv\u001B[0m #266 > > ([[RootFeature \"um\"; RootFeature \"gato\"]], Noun)]])));\n",
      "00:00:12 \u001B[90mv\u001B[0m #267 > >             LanguageElement (Semantic (Meaning \"Ação de percepção de um felino\n",
      "00:00:12 \u001B[90mv\u001B[0m #268 > > pelo falante\"));\n",
      "00:00:12 \u001B[90mv\u001B[0m #269 > >             LanguageElement (Pragmatic (UseContext \"Declaração de uma ação sendo\n",
      "00:00:12 \u001B[90mv\u001B[0m #270 > > observada\"))\n",
      "00:00:12 \u001B[90mv\u001B[0m #271 > >         ]]\n",
      "00:00:12 \u001B[90mv\u001B[0m #272 > >     )\n",
      "00:00:12 \u001B[90mv\u001B[0m #273 > >\n",
      "00:00:12 \u001B[90mv\u001B[0m #274 > > let testKorean =\n",
      "00:00:12 \u001B[90mv\u001B[0m #275 > >     Model(\n",
      "00:00:12 \u001B[90mv\u001B[0m #276 > >         DiscourseUnit [[\n",
      "00:00:12 \u001B[90mv\u001B[0m #277 > >             LanguageElement (Phonological (ConsonantFeature (Alveolar, Nasal,\n",
      "00:00:12 \u001B[90mv\u001B[0m #278 > > Voiced, Some(Short))));\n",
      "00:00:12 \u001B[90mv\u001B[0m #279 > >             LanguageElement (Phonological (VowelFeature (High, Back, Rounded,\n",
      "00:00:12 \u001B[90mv\u001B[0m #280 > > None, None, Some(Short))));\n",
      "00:00:12 \u001B[90mv\u001B[0m #281 > >             LanguageElement (Phonological (VowelFeature (Mid, Front, Unrounded,\n",
      "00:00:12 \u001B[90mv\u001B[0m #282 > > None, None, Some(Long))));\n",
      "00:00:12 \u001B[90mv\u001B[0m #283 > >             LanguageElement (Phonological (ConsonantFeature (Bilabial, Plosive,\n",
      "00:00:12 \u001B[90mv\u001B[0m #284 > > Voiceless, Some(Short))));\n",
      "00:00:12 \u001B[90mv\u001B[0m #285 > >             LanguageElement (Morphological (RootFeature \"나\"));\n",
      "00:00:12 \u001B[90mv\u001B[0m #286 > >             LanguageElement (Morphological (RootFeature \"보다\"));\n",
      "00:00:12 \u001B[90mv\u001B[0m #287 > >             LanguageElement (Morphological (AffixFeature (Suffix, \"아\")));\n",
      "00:00:12 \u001B[90mv\u001B[0m #288 > >             LanguageElement (Morphological (RootFeature \"고양이\"));\n",
      "00:00:12 \u001B[90mv\u001B[0m #289 > >             LanguageElement (Syntactic (PhraseFeature (NP, [[WordFeature\n",
      "00:00:12 \u001B[90mv\u001B[0m #290 > > ([[RootFeature \"나\"]], Pronoun)]])));\n",
      "00:00:12 \u001B[90mv\u001B[0m #291 > >             LanguageElement (Syntactic (PhraseFeature (VP, [[WordFeature\n",
      "00:00:12 \u001B[90mv\u001B[0m #292 > > ([[RootFeature \"보다\"; AffixFeature (Suffix, \"아\")]], Verb)]])));\n",
      "00:00:12 \u001B[90mv\u001B[0m #293 > >             LanguageElement (Syntactic (PhraseFeature (NP, [[WordFeature\n",
      "00:00:12 \u001B[90mv\u001B[0m #294 > > ([[RootFeature \"고양이\"]], Noun)]])));\n",
      "00:00:12 \u001B[90mv\u001B[0m #295 > >             LanguageElement (Semantic (Meaning \"화자에 의한 고양이의 관찰\n",
      "00:00:12 \u001B[90mv\u001B[0m #296 > > 행위\"));\n",
      "00:00:12 \u001B[90mv\u001B[0m #297 > >             LanguageElement (Pragmatic (UseContext \"관찰되고 있는 행동의 진술\"))\n",
      "00:00:12 \u001B[90mv\u001B[0m #298 > >         ]]\n",
      "00:00:12 \u001B[90mv\u001B[0m #299 > >     )\n",
      "00:00:12 \u001B[90mv\u001B[0m #300 > >\n",
      "00:00:12 \u001B[90mv\u001B[0m #301 > > ── markdown ────────────────────────────────────────────────────────────────────\n",
      "00:00:12 \u001B[90mv\u001B[0m #302 > > ╭──────────────────────────────────────────────────────────────────────────────╮\n",
      "00:00:12 \u001B[90mv\u001B[0m #303 > > │ ## main                                                                      │\n",
      "00:00:12 \u001B[90mv\u001B[0m #304 > > ╰──────────────────────────────────────────────────────────────────────────────╯\n",
      "00:00:12 \u001B[90mv\u001B[0m #305 > >\n",
      "00:00:12 \u001B[90mv\u001B[0m #306 > > ── spiral ──────────────────────────────────────────────────────────────────────\n",
      "00:00:12 \u001B[90mv\u001B[0m #307 > > inl main (_args : array_base string) =\n",
      "00:00:12 \u001B[90mv\u001B[0m #308 > >     0i32\n",
      "00:00:12 \u001B[90mv\u001B[0m #309 > >\n",
      "00:00:12 \u001B[90mv\u001B[0m #310 > > inl main () =\n",
      "00:00:12 \u001B[90mv\u001B[0m #311 > >     $'let main args = !main args' : ()\n",
      "00:00:12 \u001B[90mv\u001B[0m #312 > >\n",
      "00:00:12 \u001B[90mv\u001B[0m #313 > > ── spiral ──────────────────────────────────────────────────────────────────────\n",
      "00:00:12 \u001B[90mv\u001B[0m #314 > > inl app () =\n",
      "00:00:12 \u001B[90mv\u001B[0m #315 > >     \"test\" |> console.write_line\n",
      "00:00:12 \u001B[90mv\u001B[0m #316 > >     0i32\n",
      "00:00:12 \u001B[90mv\u001B[0m #317 > >\n",
      "00:00:12 \u001B[90mv\u001B[0m #318 > > inl main () =\n",
      "00:00:12 \u001B[90mv\u001B[0m #319 > >     print_static \"<test>\"\n",
      "00:00:12 \u001B[90mv\u001B[0m #320 > >\n",
      "00:00:12 \u001B[90mv\u001B[0m #321 > >     app\n",
      "00:00:12 \u001B[90mv\u001B[0m #322 > >     |> dyn\n",
      "00:00:12 \u001B[90mv\u001B[0m #323 > >     |> ignore\n",
      "00:00:12 \u001B[90mv\u001B[0m #324 > >\n",
      "00:00:12 \u001B[90mv\u001B[0m #325 > >     print_static \"</test>\"\n",
      "00:00:13 \u001B[90mv\u001B[0m #326 > 00:00:12 \u001B[90mv\u001B[39m #3 runtime.execute_with_options / result / { exit_code = 0; std_trace_length = 10945 }\n",
      "00:00:13 \u001B[90mv\u001B[0m #327 > 00:00:12 \u001B[94md\u001B[39m #4 runtime.execute_with_options / { file_name = jupyter; arguments = [\"nbconvert\", \"c:/home/git/polyglot/apps/spiral/temp/test/test.dib.ipynb\", \"--to\", \"html\", \"--HTMLExporter.theme=dark\"]; options = { command = jupyter nbconvert \"c:/home/git/polyglot/apps/spiral/temp/test/test.dib.ipynb\" --to html --HTMLExporter.theme=dark; cancellation_token = None; environment_variables = Array(MutCell([])); on_line = None; stdin = None; trace = true; working_directory = None } }\n",
      "00:00:15 \u001B[90mv\u001B[0m #328 > 00:00:14 \u001B[90mv\u001B[39m #5 ! [NbConvertApp] Converting notebook c:/home/git/polyglot/apps/spiral/temp/test/test.dib.ipynb to html\n",
      "00:00:15 \u001B[90mv\u001B[0m #329 > 00:00:14 \u001B[90mv\u001B[39m #6 ! C:\\Users\\i574n\\scoop\\apps\\python312\\current\\Lib\\site-packages\\nbformat\\__init__.py:96: MissingIDFieldWarning: Cell is missing an id field, this will become a hard error in future nbformat versions. You may want to use `normalize()` on your notebooks before validations (available since nbformat 5.1.4). Previous versions of nbformat are fixing this issue transparently, and will stop doing so in the future.\n",
      "00:00:15 \u001B[90mv\u001B[0m #330 > 00:00:14 \u001B[90mv\u001B[39m #7 !   validate(nb)\n",
      "00:00:15 \u001B[90mv\u001B[0m #331 > 00:00:14 \u001B[90mv\u001B[39m #8 ! C:\\Users\\i574n\\scoop\\apps\\python312\\current\\Lib\\site-packages\\nbconvert\\filters\\highlight.py:71: UserWarning: IPython3 lexer unavailable, falling back on Python 3\n",
      "00:00:15 \u001B[90mv\u001B[0m #332 > 00:00:14 \u001B[90mv\u001B[39m #9 !   return _pygments_highlight(\n",
      "00:00:16 \u001B[90mv\u001B[0m #333 > 00:00:15 \u001B[90mv\u001B[39m #10 ! [NbConvertApp] Writing 318992 bytes to c:\\home\\git\\polyglot\\apps\\spiral\\temp\\test\\test.dib.html\n",
      "00:00:16 \u001B[90mv\u001B[0m #334 > 00:00:15 \u001B[90mv\u001B[39m #11 runtime.execute_with_options / result / { exit_code = 0; std_trace_length = 872 }\n",
      "00:00:16 \u001B[90mv\u001B[0m #335 > 00:00:15 \u001B[94md\u001B[39m #12 spiral_builder.run / dib / jupyter nbconvert / { exit_code = 0; jupyter_result_length = 872 }\n",
      "00:00:16 \u001B[90mv\u001B[0m #336 > 00:00:15 \u001B[94md\u001B[39m #13 runtime.execute_with_options / { file_name = pwsh; arguments = [\"-c\", \"$counter = 1; $path = 'c:/home/git/polyglot/apps/spiral/temp/test/test.dib.html'; (Get-Content $path -Raw) -replace '(id=\\\\\\\"cell-id=)[a-fA-F0-9]{8}', { $_.Groups[1].Value + $counter++ } | Set-Content $path\"]; options = { command = pwsh -c \"$counter = 1; $path = 'c:/home/git/polyglot/apps/spiral/temp/test/test.dib.html'; (Get-Content $path -Raw) -replace '(id=\\\"cell-id=)[a-fA-F0-9]{8}', { $_.Groups[1].Value + $counter++ } | Set-Content $path\"; cancellation_token = None; environment_variables = Array(MutCell([])); on_line = None; stdin = None; trace = true; working_directory = None } }\n",
      "00:00:16 \u001B[90mv\u001B[0m #337 > 00:00:15 \u001B[90mv\u001B[39m #14 runtime.execute_with_options / result / { exit_code = 0; std_trace_length = 0 }\n",
      "00:00:16 \u001B[90mv\u001B[0m #338 > 00:00:15 \u001B[94md\u001B[39m #15 spiral_builder.run / dib / html cell ids / { exit_code = 0; pwsh_replace_html_result_length = 0 }\n",
      "00:00:16 \u001B[90mv\u001B[0m #339 > 00:00:15 \u001B[94md\u001B[39m #16 spiral_builder.run / dib / { exit_code = 0; result_length = 11876 }\n",
      "00:00:16 \u001B[94md\u001B[0m #340 runtime.execute_with_options_async / { exit_code = 0; output_length = 15157 }\n",
      "00:00:16 \u001B[94md\u001B[0m #1 main / executeCommand / exitCode: 0 / command: ../../../../workspace/target/release/spiral_builder.exe dib --path test.dib --retries 3\n"
     ]
    }
   ],
   "source": [
    "{ . ../../../../apps/spiral/dist/Supervisor$(_exe) --execute-command \"../../../../workspace/target/release/spiral_builder$(_exe) dib --path test.dib --retries 3\" } | Invoke-Block"
   ]
  },
  {
   "cell_type": "markdown",
   "metadata": {},
   "source": [
    "### parse the .dib file into .spi format with dibparser"
   ]
  },
  {
   "cell_type": "code",
   "execution_count": null,
   "metadata": {
    "dotnet_interactive": {
     "language": "pwsh"
    },
    "polyglot_notebook": {
     "kernelName": "pwsh"
    }
   },
   "outputs": [
    {
     "name": "stdout",
     "output_type": "stream",
     "text": [
      "00:00:00 \u001B[94md\u001B[0m #1 writeDibCode / output: Spi / path: test.dib\n",
      "00:00:00 \u001B[94md\u001B[0m #2 parseDibCode / output: Spi / file: test.dib\n"
     ]
    }
   ],
   "source": [
    "{ . ../../../../apps/parser/dist/DibParser$(_exe) test.dib spi } | Invoke-Block"
   ]
  },
  {
   "cell_type": "markdown",
   "metadata": {},
   "source": [
    "### build .fsx file from .spi using supervisor"
   ]
  },
  {
   "cell_type": "code",
   "execution_count": null,
   "metadata": {
    "dotnet_interactive": {
     "language": "pwsh"
    },
    "polyglot_notebook": {
     "kernelName": "pwsh"
    }
   },
   "outputs": [
    {
     "name": "stdout",
     "output_type": "stream",
     "text": [
      "00:00:00 \u001B[90mv\u001B[0m #1 async.run_with_timeout_async / { timeout = 180 }\n",
      "00:00:01 \u001B[90mv\u001B[0m #2 async.run_with_timeout_async / { timeout = 180 }\n",
      "00:00:01 \u001B[94md\u001B[0m #1 Supervisor.buildFile / takeWhileInclusive / path: test.spi / errors: [] / typeErrorCount: 0 / retry: 0 / outputContent:\n",
      "\n",
      "00:00:01 \u001B[94md\u001B[0m #2 Supervisor.buildFile / AsyncSeq.scan / path: test.spi / errors: [] / outputContentResult:  / typeErrorCount: 0 / retry: 0 / error:  / outputContent:\n",
      "\n",
      "00:00:01 \u001B[94md\u001B[0m #3 Supervisor.buildFile / takeWhileInclusive / path: test.spi / errors: [] / typeErrorCount: 0 / retry: 0 / outputContent:\n",
      "\n",
      "00:00:01 \u001B[90mv\u001B[0m #4 Supervisor.sendJson / port: 13805 / json: {\"FileOpen\":{\"spiText\":\"/// # test (Polyglot)\\nnominal i = ()\\nnominal e = ()\\nnominal s = ()\\nnomin...0022\\u003C/test\\u003E\\u0022\\n\",\"uri\":\"file:///c:/home/git/polyglot/apps/spiral/temp/test/test.spi\"}} / result:\n",
      "00:00:01 \u001B[90mv\u001B[0m #5 Supervisor.sendJson / port: 13805 / json: {\"BuildFile\":{\"backend\":\"Fsharp\",\"uri\":\"file:///c:/home/git/polyglot/apps/spiral/temp/test/test.spi\"}} / result:\n",
      "00:00:01 \u001B[94md\u001B[0m #6 Supervisor.buildFile / AsyncSeq.scan / path: test.spi / errors: [] / outputContentResult:  / typeErrorCount: 0 / retry: 0 / error:  / outputContent:\n",
      "let rec closure1 () () : unit =\n",
      "    let v0 : (string -> unit) = System.Console.WriteLine\n",
      "    let v1 : string = \"test\"\n",
      "    v0 v1\n",
      "and closure0 () () : int32 =\n",
      "    let v0 : unit = ()\n",
      "    let v1 : (unit -> unit) = closure1()\n",
      "    let v2 : unit = (fun () -> v1 (); v0) ()\n",
      "    0\n",
      "let v0 : (unit -> int32) = closure0()\n",
      "()\n",
      "\n",
      "00:00:01 \u001B[94md\u001B[0m #7 Supervisor.buildFile / takeWhileInclusive / path: test.spi / errors: [] / typeErrorCount: 0 / retry: 0 / outputContent:\n",
      "let rec closure1 () () : unit =\n",
      "    let v0 : (string -> unit) = System.Console.WriteLine\n",
      "    let v1 : string = \"test\"\n",
      "    v0 v1\n",
      "and closure0 () () : int32 =\n",
      "    let v0 : unit = ()\n",
      "    let v1 : (unit -> unit) = closure1()\n",
      "    let v2 : unit = (fun () -> v1 (); v0) ()\n",
      "    0\n",
      "let v0 : (unit -> int32) = closure0()\n",
      "()\n",
      "\n",
      "00:00:01 \u001B[94md\u001B[0m #8 FileSystem.watchWithFilter / Disposing watch stream / filter: FileName, LastWrite\n"
     ]
    }
   ],
   "source": [
    "{ . ../../../../apps/spiral/dist/Supervisor$(_exe) --build-file test.spi test.fsx } | Invoke-Block"
   ]
  },
  {
   "cell_type": "markdown",
   "metadata": {},
   "source": [
    "## compile and format the project"
   ]
  },
  {
   "cell_type": "markdown",
   "metadata": {},
   "source": [
    "### compile project with fable targeting optimized rust"
   ]
  },
  {
   "cell_type": "code",
   "execution_count": null,
   "metadata": {
    "dotnet_interactive": {
     "language": "pwsh"
    },
    "polyglot_notebook": {
     "kernelName": "pwsh"
    }
   },
   "outputs": [
    {
     "name": "stdout",
     "output_type": "stream",
     "text": [
      "Fable 5.0.0-alpha.2: F# to Rust compiler (status: alpha)\n",
      "\n",
      "Thanks to the contributor! @byte-666\n",
      "Stand with Ukraine! https://standwithukraine.com.ua/\n",
      "\n",
      "Parsing test.fsproj...\n",
      "Project and references (1 source files) parsed in 7152ms\n",
      "\n",
      "Started Fable compilation...\n",
      "\n",
      "Fable compilation finished in 1703ms\n",
      "\n",
      ".\\test.fsx(11,0): (11,2) warning FABLE: For Rust, support for F# static and module do bindings is disabled by default. It can be enabled with the 'static_do_bindings' feature. Use at your own risk!\n"
     ]
    }
   ],
   "source": [
    "dotnet fable --optimize --lang rs --extension .rs"
   ]
  },
  {
   "cell_type": "markdown",
   "metadata": {},
   "source": [
    "### fix formatting issues in the .rs file using regex and set-content"
   ]
  },
  {
   "cell_type": "code",
   "execution_count": null,
   "metadata": {
    "dotnet_interactive": {
     "language": "pwsh"
    },
    "polyglot_notebook": {
     "kernelName": "pwsh"
    }
   },
   "outputs": [],
   "source": [
    "(Get-Content test.rs) `\n",
    "    -replace [regex]::Escape(\"),);\"), \"));\" `\n",
    "    | FixRust `\n",
    "| Set-Content test.rs"
   ]
  },
  {
   "cell_type": "markdown",
   "metadata": {},
   "source": [
    "### format the rust code using cargo fmt"
   ]
  },
  {
   "cell_type": "code",
   "execution_count": null,
   "metadata": {
    "dotnet_interactive": {
     "language": "pwsh"
    },
    "polyglot_notebook": {
     "kernelName": "pwsh"
    }
   },
   "outputs": [],
   "source": [
    "cargo fmt --"
   ]
  },
  {
   "cell_type": "markdown",
   "metadata": {},
   "source": [
    "## build and test the project"
   ]
  },
  {
   "cell_type": "markdown",
   "metadata": {},
   "source": [
    "### build the project in release mode using nightly rust compiler"
   ]
  },
  {
   "cell_type": "code",
   "execution_count": null,
   "metadata": {
    "dotnet_interactive": {
     "language": "pwsh"
    },
    "polyglot_notebook": {
     "kernelName": "pwsh"
    }
   },
   "outputs": [
    {
     "name": "stdout",
     "output_type": "stream",
     "text": [
      "\u001B[31;1m   Compiling proc-macro2 v1.0.92\u001B[0m\n",
      "\u001B[31;1m   Compiling unicode-ident v1.0.14\u001B[0m\n",
      "\u001B[31;1m   Compiling fastrand v2.3.0\u001B[0m\n",
      "\u001B[31;1m   Compiling fable_library_rust v0.1.0 (C:\\home\\git\\polyglot\\lib\\rust\\fable\\fable_modules\\fable-library-rust)\u001B[0m\n",
      "\u001B[31;1m   Compiling tempfile v3.14.0\u001B[0m\n",
      "\u001B[31;1m   Compiling rusty-fork v0.3.0\u001B[0m\n",
      "\u001B[31;1m   Compiling quote v1.0.37\u001B[0m\n",
      "\u001B[31;1m   Compiling syn v2.0.90\u001B[0m\n",
      "\u001B[31;1m   Compiling zerocopy-derive v0.7.35\u001B[0m\n",
      "\u001B[31;1m   Compiling thiserror-impl v1.0.69\u001B[0m\n",
      "\u001B[31;1m   Compiling zerocopy v0.7.35\u001B[0m\n",
      "\u001B[31;1m   Compiling thiserror v1.0.69\u001B[0m\n",
      "\u001B[31;1m   Compiling ppv-lite86 v0.2.20\u001B[0m\n",
      "\u001B[31;1m   Compiling rand_chacha v0.3.1\u001B[0m\n",
      "\u001B[31;1m   Compiling rand v0.8.5\u001B[0m\n",
      "\u001B[31;1m   Compiling proptest v1.5.0\u001B[0m\n",
      "\u001B[31;1m   Compiling spiral_temp_test v0.0.1 (C:\\home\\git\\polyglot\\apps\\spiral\\temp\\test)\u001B[0m\n",
      "\u001B[31;1m    Finished `release` profile [optimized] target(s) in 19.64s\u001B[0m\n"
     ]
    }
   ],
   "source": [
    "cargo build --release"
   ]
  },
  {
   "cell_type": "markdown",
   "metadata": {},
   "source": [
    "### run release tests with output enabled"
   ]
  },
  {
   "cell_type": "code",
   "execution_count": null,
   "metadata": {
    "dotnet_interactive": {
     "language": "pwsh"
    },
    "polyglot_notebook": {
     "kernelName": "pwsh"
    }
   },
   "outputs": [
    {
     "name": "stdout",
     "output_type": "stream",
     "text": [
      "\u001B[31;1m   Compiling fastrand v2.3.0\u001B[0m\n",
      "\u001B[31;1m   Compiling zerocopy v0.7.35\u001B[0m\n",
      "\u001B[31;1m   Compiling thiserror v1.0.69\u001B[0m\n",
      "\u001B[31;1m   Compiling fable_library_rust v0.1.0 (C:\\home\\git\\polyglot\\lib\\rust\\fable\\fable_modules\\fable-library-rust)\u001B[0m\n",
      "\u001B[31;1m   Compiling tempfile v3.14.0\u001B[0m\n",
      "\u001B[31;1m   Compiling rusty-fork v0.3.0\u001B[0m\n",
      "\u001B[31;1m   Compiling ppv-lite86 v0.2.20\u001B[0m\n",
      "\u001B[31;1m   Compiling rand_chacha v0.3.1\u001B[0m\n",
      "\u001B[31;1m   Compiling rand v0.8.5\u001B[0m\n",
      "\u001B[31;1m   Compiling proptest v1.5.0\u001B[0m\n",
      "\u001B[31;1m   Compiling spiral_temp_test v0.0.1 (C:\\home\\git\\polyglot\\apps\\spiral\\temp\\test)\u001B[0m\n",
      "\u001B[31;1m    Finished `release` profile [optimized] target(s) in 31.53s\u001B[0m\n",
      "\u001B[31;1m     Running unittests main.rs (C:\\home\\git\\polyglot\\workspace\\target\\release\\deps\\spiral_temp_test-5730544e07be5619.exe)\u001B[0m\n",
      "\n",
      "running 3 tests\n",
      "test test_parse_number ... ok\n",
      "test prop_parse_format_idempotent ... ok\n",
      "test adding_and_then_removing_an_item_from_the_cart_leaves_the_cart_unchanged ... ok\n",
      "\n",
      "successes:\n",
      "\n",
      "---- prop_parse_format_idempotent stdout ----\n",
      "input=StringLiteral(\"I)u%gdwY$K^Ksvl4\")\n",
      "input=Comment(\"{4\")\n",
      "input=Identifier(\"GDaQPfLoOM3RckDcCm7x09mjHinGx\")\n",
      "input=Operator(\"-\")\n",
      "input=StringLiteral(\"lob@\")\n",
      "input=Integer(-1724977623926955115)\n",
      "input=Identifier(\"Nz3PNENvmyZzcc\")\n",
      "input=StringLiteral(\"C`}?zc`t_&($%c:\")\n",
      "input=Operator(\"/\")\n",
      "input=Identifier(\"e967aG18A7CTl6868VdRIH383Lar\")\n",
      "input=Identifier(\"mVCo\")\n",
      "input=Comment(\"|:c.d=X\")\n",
      "input=StringLiteral(\"'?d$1SA`?(2r\")\n",
      "input=Identifier(\"ZC6Od0262zUk5PfxywG7NFxDhucRDTJ\")\n",
      "input=Integer(8242805583135591814)\n",
      "input=Operator(\"+\")\n",
      "input=Comment(\"F{C|wrn/b&B(!y*p`ZK`xTvNp4`O\")\n",
      "input=Comment(\"\\\"_%Y3<eB]\\\"!/b?sq&1(nJx:@\")\n",
      "input=StringLiteral(\"V'tu{U7_gMk<:@3]p0#&\")\n",
      "input=Operator(\"(\")\n",
      "input=StringLiteral(\"V<.H'q_HLrz3^Ug!$|G<1\")\n",
      "input=Operator(\"(\")\n",
      "input=Comment(\"i*\\\"&we'QA1V`;nC?Hys==][\")\n",
      "input=StringLiteral(\"K0fRXJzAv/jtj'Xz41k5l)yYGiH'\")\n",
      "input=Identifier(\"SDmfxcCkb9Wequh1Qphm2wD69DoaWmuNo\")\n",
      "input=Operator(\"*\")\n",
      "input=Identifier(\"l33RL18\")\n",
      "input=Comment(\"?.\\\"u9e.=hcL&:mZN%<r&b4IQI=7C#\")\n",
      "input=Operator(\"(\")\n",
      "input=StringLiteral(\"Z/d]aZG`/$b,V%'&7<Z&=p!!-!{\")\n",
      "input=StringLiteral(\"wWOl=[.9SN?{Lw6/(V*ReyeRf/X3<a\")\n",
      "input=Operator(\"+\")\n",
      "input=Identifier(\"mM14\")\n",
      "input=Comment(\"_RO+|$a-eJ\")\n",
      "input=Operator(\"+\")\n",
      "input=Integer(-7431606564798934537)\n",
      "input=Comment(\"(g/zsa=s\\\"k[>:`[ptb5?\\\"L-4\\\\E\")\n",
      "input=Integer(1036326009731431461)\n",
      "input=Integer(8100053604272449477)\n",
      "input=StringLiteral(\"=$$'.uU5=&*d}l){v%X@1<TaM6$iJA\")\n",
      "input=Comment(\"(\\\"f6~{z\")\n",
      "input=StringLiteral(\"p\")\n",
      "input=StringLiteral(\"*By?NV_Mv{sf%b:0\")\n",
      "input=Integer(-7221434863711690179)\n",
      "input=Comment(\"@i.].}@@{* \\\\?${tX'\")\n",
      "input=Comment(\"\\\\U{K<+uS@?tEW{,w00$z;.jw\")\n",
      "input=StringLiteral(\"2L}$<\")\n",
      "input=Comment(\"D$0)n\\\"*6n{L$<:\\\\[ _`\\\"'3]\")\n",
      "input=Integer(6582028210351398989)\n",
      "input=Identifier(\"qaCz0U4k3B\")\n",
      "input=Operator(\"+\")\n",
      "input=StringLiteral(\")';D?`b[~z:z&5 _.&3.?1;;Hk&Um\")\n",
      "input=Integer(-6348627823599650192)\n",
      "input=Identifier(\"msfr6YI0P0Dt218Rovcgr25i32V\")\n",
      "input=Integer(3154053573613664718)\n",
      "input=Integer(1908242382862185751)\n",
      "input=Identifier(\"ebJM8qKbWAfy077\")\n",
      "input=Identifier(\"l2a48rv\")\n",
      "input=StringLiteral(\"{.:IgF*&f`<$kT`:L<\")\n",
      "input=Integer(-2591074625540755722)\n",
      "input=Operator(\"+\")\n",
      "input=StringLiteral(\"/2&T+K2I=br+T]0J\")\n",
      "input=Operator(\"/\")\n",
      "input=Identifier(\"j\")\n",
      "input=Operator(\"-\")\n",
      "input=StringLiteral(\"H[9|lb#\")\n",
      "input=Comment(\"/\\\\N&OIp]8]=%*C\\\":9h4&Z={Q;M\")\n",
      "input=Integer(-6756425246757281565)\n",
      "input=StringLiteral(\" .+{H.k?q3;*\")\n",
      "input=StringLiteral(\">?t.}$.w!?\")\n",
      "input=StringLiteral(\"<%a\")\n",
      "input=Operator(\"+\")\n",
      "input=Comment(\"Q&\")\n",
      "input=Comment(\"ZZWw7D5B=.5K%T\\\\lod.A\\\\^%;[\")\n",
      "input=Operator(\"(\")\n",
      "input=Comment(\"u: {\")\n",
      "input=Comment(\"\\\"<M{s.%`)%<p\\\":$z\\\\/&YVWf{.%WD:{8\")\n",
      "input=Integer(-8927765369596314617)\n",
      "input=Integer(-1201559907813595985)\n",
      "input=Operator(\")\")\n",
      "input=Identifier(\"jUXvZGKz\")\n",
      "input=StringLiteral(\"`~nPI\")\n",
      "input=Comment(\"Bypk&.\")\n",
      "input=Comment(\"\\\"g%5B5(w=[sNy[K.=<<P'}e/$z<a0\\\"\\\"\")\n",
      "input=Operator(\"=\")\n",
      "input=Integer(-6421312550055563782)\n",
      "input=Identifier(\"tRI92bw0e8u9qn8az\")\n",
      "input=Identifier(\"pAD3u05WZO\")\n",
      "input=Integer(-4458528790586674331)\n",
      "input=Integer(-2939771284314966729)\n",
      "input=Comment(\"T./%s:$\")\n",
      "input=StringLiteral(\"^*:r!?OJr\")\n",
      "input=Comment(\"<E\\\"X%Q=rP{_m&/\")\n",
      "input=Operator(\"-\")\n",
      "input=Integer(-2569480456522884988)\n",
      "input=Identifier(\"GMol0j2UII9uoEG0Su8856FO01c\")\n",
      "input=Operator(\"=\")\n",
      "input=Integer(3303132015062766863)\n",
      "input=Integer(9135898820937228277)\n",
      "input=Identifier(\"wHqqEbSAatxXX5j2gt9\")\n",
      "input=Operator(\"+\")\n",
      "input=Identifier(\"nrt267L6221tpet\")\n",
      "input=Integer(-292718797137500489)\n",
      "input=Comment(\"jyw?={,'e'e=U;$3-Vfs\")\n",
      "input=StringLiteral(\"W!{_Nb=?&sx7//]!y{#4.~2&&nh|N$\")\n",
      "input=StringLiteral(\"=@%Fa%CpY$Pm|?=W,)Bl2aR\")\n",
      "input=Identifier(\"gqWfFTbN1Fbvs7\")\n",
      "input=Integer(-1687628315674282929)\n",
      "input=StringLiteral(\"?d3*HW 3r:*L p\")\n",
      "input=Identifier(\"jUkq5L54H015bryV\")\n",
      "input=Operator(\"+\")\n",
      "input=Identifier(\"NoWn7k51Ik56gN6PBIPfMUITw07zO\")\n",
      "input=Comment(\"~:J$&Z0?QN=$'*&.;\")\n",
      "input=Integer(4714741975150000968)\n",
      "input=Identifier(\"v6SPzLERaLcL7K5bld9aEiZ9DlG0\")\n",
      "input=Integer(-5749194304191470837)\n",
      "input=Comment(\"L9.:]!bn')/<D=&\\\\dWD\")\n",
      "input=Operator(\"/\")\n",
      "input=StringLiteral(\"\")\n",
      "input=Operator(\"-\")\n",
      "input=StringLiteral(\"5ut8`HV0jDh)I.7?\")\n",
      "input=Identifier(\"Fd5kX90ug8P2780tr625\")\n",
      "input=Comment(\"{db[S:#@W:?..~:/,.4&\")\n",
      "input=Identifier(\"cxviZwIe3Wq1AE8UF0\")\n",
      "input=Identifier(\"l0fVp3Je4iGSA4H4jC2S9k3\")\n",
      "input=StringLiteral(\":B:\")\n",
      "input=Identifier(\"uX98AJ0g9O3R49ZMn1zrZkqaZx0BBGt\")\n",
      "input=Identifier(\"v1Faw6UUHAQStd3iCb3\")\n",
      "input=Integer(-7585100091643993354)\n",
      "input=Identifier(\"X90d0PEKWA1Ge9m4F5\")\n",
      "input=StringLiteral(\"{S=g$Kd%Owx/:)QO9`U~<`F(\")\n",
      "input=Identifier(\"LMmT6RH03MIwm5i1F1vA1fHBjQ3JS5ZLF\")\n",
      "input=Integer(1905932137617097347)\n",
      "input=Integer(-1729818214035788845)\n",
      "input=Operator(\"/\")\n",
      "input=Identifier(\"tU4585THkNrKMzXgB1bdH4Gf769\")\n",
      "input=Comment(\"*@p\\\\J{:jx&Ww&0&&<,=?/:85@$#eP\\\\^d\")\n",
      "input=Operator(\"*\")\n",
      "input=Comment(\"X8*Mc%Pc7e%:=={FA=u:.r/;?e:\")\n",
      "input=Operator(\"-\")\n",
      "input=Operator(\"(\")\n",
      "input=Integer(175907512216580254)\n",
      "input=Identifier(\"i7fI9u17mf6Uds\")\n",
      "input=StringLiteral(\"zu1&<B_Fo4k6m&M:/N;*;6uKSr Q\")\n",
      "input=StringLiteral(\"%p/%$%\")\n",
      "input=Operator(\"*\")\n",
      "input=Operator(\"=\")\n",
      "input=StringLiteral(\"XXP<y`]LT>U/l\")\n",
      "input=StringLiteral(\"@*0`bC{c)b}J.yG\")\n",
      "input=Operator(\"/\")\n",
      "input=Operator(\"(\")\n",
      "input=Operator(\"(\")\n",
      "input=Comment(\"H;H\\\\W\\\\\")\n",
      "input=Identifier(\"h879XMS2k94H48qfxU\")\n",
      "input=Identifier(\"WqUnQys4Y\")\n",
      "input=Identifier(\"SbCA77KM\")\n",
      "input=Operator(\"+\")\n",
      "input=StringLiteral(\"tAf`!9M`c4}Q4#A$h\")\n",
      "input=Operator(\"+\")\n",
      "input=Operator(\"-\")\n",
      "input=Comment(\"{.O*uu\")\n",
      "input=Integer(-3417904710198981979)\n",
      "input=StringLiteral(\"*jL<$.q;H<+i9t6nS'Om/e%S[P\")\n",
      "input=Integer(-6813760405825210474)\n",
      "input=Integer(3647563447165910842)\n",
      "input=StringLiteral(\")?/)%YF<5BJ]N+8~\")\n",
      "input=Operator(\"+\")\n",
      "input=Operator(\"=\")\n",
      "input=Operator(\"-\")\n",
      "input=Integer(-1280070057750970709)\n",
      "input=Comment(\"Ijj*&!\\\\./vu\\\"<H{UuIIq]V\")\n",
      "input=Comment(\"B:N^//T{c:R=Z<{$dWY'?\")\n",
      "input=StringLiteral(\"_*(tX:C3dX/:G5=C<Zf*E=+$I)(D\")\n",
      "input=Identifier(\"o9lZ6r363L5Io\")\n",
      "input=Identifier(\"rv0V7fOcc3SiMvgtKu5fAI9o0Bfk0Xdp\")\n",
      "input=Identifier(\"s\")\n",
      "input=Operator(\"(\")\n",
      "input=Identifier(\"H1J3Y9f2yfsk92lVR9VY0H6\")\n",
      "input=Comment(\"v6&{ROY:L$*==7$bE4#\")\n",
      "input=StringLiteral(\"P_]E>*~*\")\n",
      "input=Operator(\"*\")\n",
      "input=Integer(-2679008014482470353)\n",
      "input=Comment(\"#<<\\\"{{/g8&GZHLM<%T{W`<$A'ZQ\")\n",
      "input=StringLiteral(\"Q`*;@%4+36q9{FwM%.brq+uG>\")\n",
      "input=Operator(\"*\")\n",
      "input=Integer(-2832698489028793378)\n",
      "input=StringLiteral(\"%o?iUl=p&\")\n",
      "input=Identifier(\"z3VvoehogAWI6zWyms143\")\n",
      "input=Operator(\")\")\n",
      "input=Identifier(\"oOuPd8IVbpB3KG6aF2HmHSHrR3\")\n",
      "input=Integer(-6698170828384538772)\n",
      "input=StringLiteral(\"d\")\n",
      "input=StringLiteral(\"Ma1Y)2*$JED`?'IoW=:5\")\n",
      "input=Comment(\"u-F8:w5Hx,'C\")\n",
      "input=Integer(3816179296851981151)\n",
      "input=StringLiteral(\"l=M^t{;\")\n",
      "input=Integer(1333027735525722621)\n",
      "input=Comment(\"V'\\\\{%y$DFzFov(<\")\n",
      "input=Comment(\".8$;W?Q%}%a\\\\|0\")\n",
      "input=Integer(938747935087950838)\n",
      "input=StringLiteral(\"$&(|]] B{b,US@&HUHH@?b?b{&Y`\")\n",
      "input=Comment(\"=xeK\\\"=]?{\")\n",
      "input=Identifier(\"PCyZzc2cJ8eBhovC689\")\n",
      "input=Identifier(\"xFTJh7h7HFmFbt8Q6Wpk0BkQ\")\n",
      "input=StringLiteral(\"(`p5&-s.^_*.;)$<i'W\")\n",
      "input=StringLiteral(\"r?'{e`i~jz^*ZHs%+{')pTwwJm;sF\")\n",
      "input=StringLiteral(\"!&{L9>*Bf\")\n",
      "input=Integer(3833267962241862995)\n",
      "input=Operator(\"*\")\n",
      "input=StringLiteral(\"RfB*z]<i&c{96-53Yzdl)un<`2g\")\n",
      "input=Operator(\"(\")\n",
      "input=Comment(\"<'{{%\\\":1lVAs>uuWjn\")\n",
      "input=Identifier(\"TgTMw3hwdo2hR7E\")\n",
      "input=Integer(6730822737268852149)\n",
      "input=Integer(-7697562457036629828)\n",
      "input=Operator(\"(\")\n",
      "input=Identifier(\"rvXaHo4WW3VWnSLZ9E05qMf6y\")\n",
      "input=Operator(\"=\")\n",
      "input=Operator(\"/\")\n",
      "input=Comment(\"92!I/=fGX?{IW%~Y<wdI\")\n",
      "input=StringLiteral(\"{/OM\")\n",
      "input=Identifier(\"gG3G7g8NW\")\n",
      "input=Integer(2680201444860933191)\n",
      "input=Integer(6051799456537946493)\n",
      "input=Comment(\"M:J$~7%I\")\n",
      "input=Operator(\"-\")\n",
      "input=StringLiteral(\"h?*./<2*.\")\n",
      "input=Operator(\"-\")\n",
      "input=Integer(768496171526896739)\n",
      "input=StringLiteral(\":g'\")\n",
      "input=Comment(\"?\\\"`YMd0z&1U\")\n",
      "input=StringLiteral(\"sh=X|/Zyq&9+8{3\")\n",
      "input=Identifier(\"EA03\")\n",
      "input=Comment(\"1\\\\{M>M?/qS\")\n",
      "input=Integer(6565610089926176753)\n",
      "input=Integer(-1593446339122511055)\n",
      "input=Comment(\"@\\\\H*wjSE\")\n",
      "input=Operator(\"(\")\n",
      "input=Integer(1848614635500807875)\n",
      "input=Operator(\"-\")\n",
      "input=Integer(-7778448272391646435)\n",
      "input=Comment(\"DpPEB54&L $Ef\")\n",
      "input=Operator(\"=\")\n",
      "input=Integer(-123819073056224954)\n",
      "input=StringLiteral(\"\")\n",
      "input=Integer(-1224846354223407510)\n",
      "input=Operator(\"-\")\n",
      "input=Comment(\"Mg?S-C\\\\'&.(d8y4U!Z\\\\H97\\\\.`l?*r\")\n",
      "input=Operator(\")\")\n",
      "input=Operator(\"=\")\n",
      "input=StringLiteral(\".:A!lx&VoU\")\n",
      "input=Integer(-1464239836212959012)\n",
      "input=Identifier(\"egHCjbrDTT2LfQVkLN\")\n",
      "input=Operator(\")\")\n",
      "input=Integer(8427566640174837575)\n",
      "input=Identifier(\"AlEPAA316Y0aAMW\")\n",
      "\n",
      "\n",
      "successes:\n",
      "    adding_and_then_removing_an_item_from_the_cart_leaves_the_cart_unchanged\n",
      "    prop_parse_format_idempotent\n",
      "    test_parse_number\n",
      "\n",
      "test result: ok. 3 passed; 0 failed; 0 ignored; 0 measured; 0 filtered out; finished in 0.14s\n",
      "\n"
     ]
    }
   ],
   "source": [
    "{ cargo test --release -- --show-output } | Invoke-Block"
   ]
  },
  {
   "cell_type": "markdown",
   "metadata": {},
   "source": [
    "### execute the binary in release mode"
   ]
  },
  {
   "cell_type": "code",
   "execution_count": null,
   "metadata": {
    "dotnet_interactive": {
     "language": "pwsh"
    },
    "polyglot_notebook": {
     "kernelName": "pwsh"
    }
   },
   "outputs": [
    {
     "name": "stdout",
     "output_type": "stream",
     "text": [
      "app=test\n"
     ]
    }
   ],
   "source": [
    "{ . $ScriptDir/../../../../workspace/target/release/spiral_temp_test$(_exe) } | Invoke-Block"
   ]
  }
 ],
 "metadata": {},
 "nbformat": 4,
 "nbformat_minor": 5
}