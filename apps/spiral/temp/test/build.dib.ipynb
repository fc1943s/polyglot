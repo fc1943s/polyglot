{
 "cells": [
  {
   "cell_type": "code",
   "execution_count": null,
   "metadata": {
    "dotnet_interactive": {
     "language": "pwsh"
    },
    "polyglot_notebook": {
     "kernelName": "pwsh"
    }
   },
   "outputs": [],
   "source": [
    ". ../../../../scripts/nbs_header.ps1\n",
    ". ../../../../scripts/core.ps1"
   ]
  },
  {
   "cell_type": "code",
   "execution_count": null,
   "metadata": {
    "dotnet_interactive": {
     "language": "pwsh"
    },
    "polyglot_notebook": {
     "kernelName": "pwsh"
    }
   },
   "outputs": [
    {
     "name": "stdout",
     "output_type": "stream",
     "text": [
      "00:00:00 #1 [Debug] runWithTimeoutAsync / timeout: 60\r\n",
      "00:00:00 #2 [Debug] executeAsync / options: { Command =\r\n",
      "   \"dotnet \"C:\\home\\git\\polyglot\\deps\\The-Spiral-Language\\The Spiral Language 2\\artifacts\\bin\\The Spiral Language 2\\release\\Spiral.dll\" --port 13805 --default-int i32 --default-float f64\"\r\n",
      "  WorkingDirectory = None\r\n",
      "  CancellationToken = Some System.Threading.CancellationToken\r\n",
      "  OnLine = Some <fun:main@411-297> }\r\n",
      "00:00:00 #3 [Verbose] > pwd: C:\\home\\git\\polyglot\\apps\\spiral\\temp\\test\r\n",
      "00:00:00 #4 [Verbose] > dll_path: C:\\home\\git\\polyglot\\deps\\The-Spiral-Language\\The Spiral Language 2\\artifacts\\bin\\The Spiral Language 2\\release\r\n",
      "00:00:01 #5 [Verbose] > Starting the Spiral Server. It is bound to: http://localhost:13805\r\n",
      "00:00:01 #6 [Debug] runWithTimeoutAsync / timeout: 500\r\n",
      "00:00:01 #7 [Verbose] waitForPortAccess / port: 13805 / retry: 0\r\n",
      "00:00:01 #8 [Debug] sendJson / port: 13805 / json: {\"Ping\":true} / result.Length:\r\n",
      "00:00:01 #9 [Verbose] awaitCompiler / Ping / result: Some(null) / port: 13805 / retry: 0\r\n",
      "00:00:01 #10 [Verbose] > Server bound to: http://localhost:13805\r\n",
      "00:00:01 #11 [Debug] buildFile / takeWhileInclusive / fsxContent:  / errors: [] / typeErrorCount: 0\r\n",
      "00:00:02 #12 [Debug] buildFile / takeWhileInclusive / fsxContent:  / errors: [] / typeErrorCount: 0\r\n",
      "00:00:02 #13 [Debug] sendJson / port: 13805 / json: {\"FileOpen\":{\"spiText\":\"inl app () =\\r\\n    \\u0022test\\u0022 |\\u003E console.write_line\\r\\n    0i32\\r\\n\\r\\ninl main () =\\r\\n    print_static \\u0022\\u003Ctest\\u003E\\u0022\\r\\n\\r\\n    app\\r\\n    |\\u003E dyn\\r\\n    |\\u003E ignore\\r\\n\\r\\n    print_static \\u0022\\u003C/test\\u003E\\u0022\\r\\n\",\"uri\":\"file:///C:\\\\home\\\\git\\\\polyglot\\\\apps\\\\spiral\\\\temp\\\\test\\\\test.spi\"}} / result.Length:\r\n",
      "00:00:02 #14 [Debug] sendJson / port: 13805 / json: {\"BuildFile\":{\"backend\":\"Fsharp\",\"uri\":\"file:///C:\\\\home\\\\git\\\\polyglot\\\\apps\\\\spiral\\\\temp\\\\test\\\\test.spi\"}} / result.Length:\r\n",
      "00:00:02 #15 [Verbose] > Building C:\\home\\git\\polyglot\\apps\\spiral\\temp\\test\\test.spi\r\n",
      "00:00:03 #16 [Debug] buildFile / takeWhileInclusive / fsxContent:  / errors: [] / typeErrorCount: 0\r\n",
      "00:00:04 #17 [Debug] buildFile / takeWhileInclusive / fsxContent:  / errors: [] / typeErrorCount: 0\r\n",
      "00:00:04 #18 [Verbose] > <test>\r\n",
      "00:00:04 #19 [Verbose] > </test>\r\n",
      "00:00:04 #20 [Debug] buildFile / takeWhileInclusive / fsxContent: let rec closure0 () () : int32 =\r\n",
      "    let v0 : string = \"test\"\r\n",
      "    System.Console.WriteLine v0\r\n",
      "    0\r\n",
      "let v0 : (unit -> int32) = closure0()\r\n",
      "()\r\n",
      " / errors: [] / typeErrorCount: 0\r\n",
      "00:00:04 #21 [Debug] watchWithFilter / Disposing watch stream / filter: FileName, LastWrite\r\n"
     ]
    }
   ],
   "source": [
    "{ . ../../../../apps/spiral/dist/Supervisor$(GetExecutableSuffix) --build-file test.spi test.fsx --timeout 10000 } | Invoke-Block"
   ]
  },
  {
   "cell_type": "code",
   "execution_count": null,
   "metadata": {
    "dotnet_interactive": {
     "language": "pwsh"
    },
    "polyglot_notebook": {
     "kernelName": "pwsh"
    }
   },
   "outputs": [
    {
     "name": "stdout",
     "output_type": "stream",
     "text": [
      "Fable 4.13.0: F# to Rust compiler (status: alpha)\r\n",
      "\r\n",
      "Thanks to the contributor! @ncave\r\n",
      "Stand with Ukraine! https://standwithukraine.com.ua/\r\n",
      "\r\n",
      "Parsing test.fsproj...\r\n",
      ".> cmd /C dotnet restore test.fable-temp.csproj -p:FABLE_COMPILER=true -p:FABLE_COMPILER_4=true -p:FABLE_COMPILER_RUST=true\r\n",
      "  Determining projects to restore...\r\n",
      "  Restored C:\\home\\git\\polyglot\\apps\\spiral\\temp\\test\\test.fable-temp.csproj (in 352 ms).\r\n",
      ".> cmd /C dotnet restore C:/home/git/polyglot/apps/spiral/temp/test/test.fsproj\r\n",
      "  Determining projects to restore...\r\n",
      "  Restored C:\\home\\git\\polyglot\\apps\\spiral\\temp\\test\\test.fsproj (in 369 ms).\r\n",
      "Project and references (1 source files) parsed in 8492ms\r\n",
      "\r\n",
      "Started Fable compilation...\r\n",
      "Fable compilation finished in 2134ms\r\n",
      "\r\n",
      ".\\test.fsx(6,0): (6,2) warning FABLE: For Rust, support for F# static and module do bindings is disabled by default. It can be enabled with the 'static_do_bindings' feature. Use at your own risk!\r\n"
     ]
    }
   ],
   "source": [
    "dotnet fable --optimize --lang rs --extension .rs"
   ]
  },
  {
   "cell_type": "code",
   "execution_count": null,
   "metadata": {
    "dotnet_interactive": {
     "language": "pwsh"
    },
    "polyglot_notebook": {
     "kernelName": "pwsh"
    }
   },
   "outputs": [],
   "source": [
    "(Get-Content test.rs) `\n",
    "    -replace [regex]::Escape(\"),);\"), \"));\" `\n",
    "| Set-Content test.rs"
   ]
  },
  {
   "cell_type": "code",
   "execution_count": null,
   "metadata": {
    "dotnet_interactive": {
     "language": "pwsh"
    },
    "polyglot_notebook": {
     "kernelName": "pwsh"
    }
   },
   "outputs": [],
   "source": [
    "cargo fmt --"
   ]
  },
  {
   "cell_type": "code",
   "execution_count": null,
   "metadata": {
    "dotnet_interactive": {
     "language": "pwsh"
    },
    "polyglot_notebook": {
     "kernelName": "pwsh"
    }
   },
   "outputs": [
    {
     "name": "stdout",
     "output_type": "stream",
     "text": [
      "\u001B[31;1m   Compiling test v0.0.1 (C:\\home\\git\\polyglot\\apps\\spiral\\temp\\test)\u001B[0m\r\n",
      "\u001B[31;1mwarning: unused import: `info`\u001B[0m\r\n",
      "\u001B[31;1m   --> apps\\spiral\\temp\\test\\./main.rs:190:15\u001B[0m\r\n",
      "\u001B[31;1m    |\u001B[0m\r\n",
      "\u001B[31;1m190 | use tracing::{info, Level};\u001B[0m\r\n",
      "\u001B[31;1m    |               ^^^^\u001B[0m\r\n",
      "\u001B[31;1m    |\u001B[0m\r\n",
      "\u001B[31;1m    = note: `#[warn(unused_imports)]` on by default\u001B[0m\r\n",
      "\u001B[31;1m\u001B[0m\r\n",
      "\u001B[31;1mwarning: associated items `new`, `add_item`, and `remove_item` are never used\u001B[0m\r\n",
      "\u001B[31;1m  --> apps\\spiral\\temp\\test\\./main.rs:46:8\u001B[0m\r\n",
      "\u001B[31;1m   |\u001B[0m\r\n",
      "\u001B[31;1m45 | impl Cart {\u001B[0m\r\n",
      "\u001B[31;1m   | --------- associated items in this implementation\u001B[0m\r\n",
      "\u001B[31;1m46 |     fn new() -> Cart {\u001B[0m\r\n",
      "\u001B[31;1m   |        ^^^\u001B[0m\r\n",
      "\u001B[31;1m...\u001B[0m\r\n",
      "\u001B[31;1m50 |     fn add_item(&mut self, item: Item) {\u001B[0m\r\n",
      "\u001B[31;1m   |        ^^^^^^^^\u001B[0m\r\n",
      "\u001B[31;1m...\u001B[0m\r\n",
      "\u001B[31;1m56 |     fn remove_item(&mut self, item: &Item) {\u001B[0m\r\n",
      "\u001B[31;1m   |        ^^^^^^^^^^^\u001B[0m\r\n",
      "\u001B[31;1m   |\u001B[0m\r\n",
      "\u001B[31;1m   = note: `#[warn(dead_code)]` on by default\u001B[0m\r\n",
      "\u001B[31;1m\u001B[0m\r\n",
      "\u001B[31;1mwarning: function `parse_comment` is never used\u001B[0m\r\n",
      "\u001B[31;1m   --> apps\\spiral\\temp\\test\\./main.rs:124:4\u001B[0m\r\n",
      "\u001B[31;1m    |\u001B[0m\r\n",
      "\u001B[31;1m124 | fn parse_comment(input: &str) -> IResult<&str, SpiralToken> {\u001B[0m\r\n",
      "\u001B[31;1m    |    ^^^^^^^^^^^^^\u001B[0m\r\n",
      "\u001B[31;1m\u001B[0m\r\n",
      "\u001B[31;1mwarning: function `parse_string` is never used\u001B[0m\r\n",
      "\u001B[31;1m   --> apps\\spiral\\temp\\test\\./main.rs:130:4\u001B[0m\r\n",
      "\u001B[31;1m    |\u001B[0m\r\n",
      "\u001B[31;1m130 | fn parse_string(input: &str) -> IResult<&str, SpiralToken> {\u001B[0m\r\n",
      "\u001B[31;1m    |    ^^^^^^^^^^^^\u001B[0m\r\n",
      "\u001B[31;1m\u001B[0m\r\n",
      "\u001B[31;1mwarning: function `parse_identifier` is never used\u001B[0m\r\n",
      "\u001B[31;1m   --> apps\\spiral\\temp\\test\\./main.rs:145:4\u001B[0m\r\n",
      "\u001B[31;1m    |\u001B[0m\r\n",
      "\u001B[31;1m145 | fn parse_identifier(input: &str) -> IResult<&str, SpiralToken> {\u001B[0m\r\n",
      "\u001B[31;1m    |    ^^^^^^^^^^^^^^^^\u001B[0m\r\n",
      "\u001B[31;1m\u001B[0m\r\n",
      "\u001B[31;1mwarning: function `parse_integer` is never used\u001B[0m\r\n",
      "\u001B[31;1m   --> apps\\spiral\\temp\\test\\./main.rs:157:4\u001B[0m\r\n",
      "\u001B[31;1m    |\u001B[0m\r\n",
      "\u001B[31;1m157 | fn parse_integer(input: &str) -> IResult<&str, SpiralToken> {\u001B[0m\r\n",
      "\u001B[31;1m    |    ^^^^^^^^^^^^^\u001B[0m\r\n",
      "\u001B[31;1m\u001B[0m\r\n",
      "\u001B[31;1mwarning: function `parse_operator` is never used\u001B[0m\r\n",
      "\u001B[31;1m   --> apps\\spiral\\temp\\test\\./main.rs:165:4\u001B[0m\r\n",
      "\u001B[31;1m    |\u001B[0m\r\n",
      "\u001B[31;1m165 | fn parse_operator(input: &str) -> IResult<&str, SpiralToken> {\u001B[0m\r\n",
      "\u001B[31;1m    |    ^^^^^^^^^^^^^^\u001B[0m\r\n",
      "\u001B[31;1m\u001B[0m\r\n",
      "\u001B[31;1mwarning: function `parse_token` is never used\u001B[0m\r\n",
      "\u001B[31;1m   --> apps\\spiral\\temp\\test\\./main.rs:170:4\u001B[0m\r\n",
      "\u001B[31;1m    |\u001B[0m\r\n",
      "\u001B[31;1m170 | fn parse_token(input: &str) -> IResult<&str, SpiralToken> {\u001B[0m\r\n",
      "\u001B[31;1m    |    ^^^^^^^^^^^\u001B[0m\r\n",
      "\u001B[31;1m\u001B[0m\r\n",
      "\u001B[31;1mwarning: function `format_token` is never used\u001B[0m\r\n",
      "\u001B[31;1m   --> apps\\spiral\\temp\\test\\./main.rs:180:4\u001B[0m\r\n",
      "\u001B[31;1m    |\u001B[0m\r\n",
      "\u001B[31;1m180 | fn format_token(token: &SpiralToken) -> String {\u001B[0m\r\n",
      "\u001B[31;1m    |    ^^^^^^^^^^^^\u001B[0m\r\n",
      "\u001B[31;1m\u001B[0m\r\n",
      "\u001B[31;1mwarning: function `parse_expression` is never used\u001B[0m\r\n",
      "\u001B[31;1m   --> apps\\spiral\\temp\\test\\./main.rs:213:4\u001B[0m\r\n",
      "\u001B[31;1m    |\u001B[0m\r\n",
      "\u001B[31;1m213 | fn parse_expression(input: &str) -> IResult<&str, SpiralToken> {\u001B[0m\r\n",
      "\u001B[31;1m    |    ^^^^^^^^^^^^^^^^\u001B[0m\r\n",
      "\u001B[31;1m\u001B[0m\r\n",
      "\u001B[31;1mwarning: `test` (bin \"test\") generated 10 warnings (run `cargo fix --bin \"test\"` to apply 1 suggestion)\u001B[0m\r\n",
      "\u001B[31;1m    Finished release [optimized] target(s) in 9.08s\u001B[0m\r\n"
     ]
    }
   ],
   "source": [
    "cargo build --release"
   ]
  },
  {
   "cell_type": "code",
   "execution_count": null,
   "metadata": {
    "dotnet_interactive": {
     "language": "pwsh"
    },
    "polyglot_notebook": {
     "kernelName": "pwsh"
    }
   },
   "outputs": [
    {
     "name": "stdout",
     "output_type": "stream",
     "text": [
      "\u001B[31;1m   Compiling fable_library_rust v0.1.0 (C:\\home\\git\\polyglot\\apps\\spiral\\temp\\test\\fable_modules\\fable-library-rust)\u001B[0m\r\n",
      "\u001B[31;1m   Compiling test v0.0.1 (C:\\home\\git\\polyglot\\apps\\spiral\\temp\\test)\u001B[0m\r\n",
      "\u001B[31;1m    Finished release [optimized] target(s) in 51.05s\u001B[0m\r\n",
      "\u001B[31;1m     Running unittests main.rs (C:\\home\\git\\polyglot\\target\\release\\deps\\test-cc99bcdf5fa61b70.exe)\u001B[0m\r\n",
      "\r\n",
      "running 3 tests\r\n",
      "test test_parse_number ... ok\r\n",
      "\u001B[2m2024-02-23T22:04:17.305027Z\u001B[0m \u001B[32m INFO\u001B[0m \u001B[2mtest\u001B[0m\u001B[2m:\u001B[0m input=Operator(\"=\")\r\n",
      "\u001B[2m2024-02-23T22:04:17.305174Z\u001B[0m \u001B[32m INFO\u001B[0m \u001B[2mtest\u001B[0m\u001B[2m:\u001B[0m input=Operator(\"=\")\r\n",
      "\u001B[2m2024-02-23T22:04:17.305332Z\u001B[0m \u001B[32m INFO\u001B[0m \u001B[2mtest\u001B[0m\u001B[2m:\u001B[0m input=Operator(\")\")\r\n",
      "\u001B[2m2024-02-23T22:04:17.305533Z\u001B[0m \u001B[32m INFO\u001B[0m \u001B[2mtest\u001B[0m\u001B[2m:\u001B[0m input=Integer(-5136517121875230874)\r\n",
      "\u001B[2m2024-02-23T22:04:17.305709Z\u001B[0m \u001B[32m INFO\u001B[0m \u001B[2mtest\u001B[0m\u001B[2m:\u001B[0m input=StringLiteral(\"o4@S@:KK~g|d0/z.3R6\")\r\n",
      "\u001B[2m2024-02-23T22:04:17.305859Z\u001B[0m \u001B[32m INFO\u001B[0m \u001B[2mtest\u001B[0m\u001B[2m:\u001B[0m input=StringLiteral(\"=|3:(E$ELQQ`]~?k>{zsD{\")\r\n",
      "\u001B[2m2024-02-23T22:04:17.305976Z\u001B[0m \u001B[32m INFO\u001B[0m \u001B[2mtest\u001B[0m\u001B[2m:\u001B[0m input=Comment(\"<\")\r\n",
      "\u001B[2m2024-02-23T22:04:17.306045Z\u001B[0m \u001B[32m INFO\u001B[0m \u001B[2mtest\u001B[0m\u001B[2m:\u001B[0m input=Operator(\"/\")\r\n",
      "\u001B[2m2024-02-23T22:04:17.306123Z\u001B[0m \u001B[32m INFO\u001B[0m \u001B[2mtest\u001B[0m\u001B[2m:\u001B[0m input=StringLiteral(\"&%~Er@UX`6{\")\r\n",
      "\u001B[2m2024-02-23T22:04:17.306241Z\u001B[0m \u001B[32m INFO\u001B[0m \u001B[2mtest\u001B[0m\u001B[2m:\u001B[0m input=Comment(\"Fsg6`TT^,\\\"!$AS{Q$8$Bz[(\")\r\n",
      "\u001B[2m2024-02-23T22:04:17.306391Z\u001B[0m \u001B[32m INFO\u001B[0m \u001B[2mtest\u001B[0m\u001B[2m:\u001B[0m input=StringLiteral(\"N'+i~`f`*<{56Q@Z XKMm<1D<`ZJ&\")\r\n",
      "\u001B[2m2024-02-23T22:04:17.306539Z\u001B[0m \u001B[32m INFO\u001B[0m \u001B[2mtest\u001B[0m\u001B[2m:\u001B[0m input=Integer(-8158566686182968316)\r\n",
      "\u001B[2m2024-02-23T22:04:17.306647Z\u001B[0m \u001B[32m INFO\u001B[0m \u001B[2mtest\u001B[0m\u001B[2m:\u001B[0m input=StringLiteral(\"R\")\r\n",
      "\u001B[2m2024-02-23T22:04:17.306744Z\u001B[0m \u001B[32m INFO\u001B[0m \u001B[2mtest\u001B[0m\u001B[2m:\u001B[0m input=Comment(\"bX.:($\")\r\n",
      "\u001B[2m2024-02-23T22:04:17.306838Z\u001B[0m \u001B[32m INFO\u001B[0m \u001B[2mtest\u001B[0m\u001B[2m:\u001B[0m input=Comment(\"/\\\"n`::AM\\\"**;/%hV=26'y \\\\<z\")\r\n",
      "\u001B[2m2024-02-23T22:04:17.306925Z\u001B[0m \u001B[32m INFO\u001B[0m \u001B[2mtest\u001B[0m\u001B[2m:\u001B[0m input=Identifier(\"po2wqppK7ctqwr9BT\")\r\n",
      "\u001B[2m2024-02-23T22:04:17.307026Z\u001B[0m \u001B[32m INFO\u001B[0m \u001B[2mtest\u001B[0m\u001B[2m:\u001B[0m input=Identifier(\"xdn991o4cNL4byWKcSeB7xPbZIj22C5RF\")\r\n",
      "\u001B[2m2024-02-23T22:04:17.307117Z\u001B[0m \u001B[32m INFO\u001B[0m \u001B[2mtest\u001B[0m\u001B[2m:\u001B[0m input=StringLiteral(\"NkF{ K5B*{${+\")\r\n",
      "\u001B[2m2024-02-23T22:04:17.307215Z\u001B[0m \u001B[32m INFO\u001B[0m \u001B[2mtest\u001B[0m\u001B[2m:\u001B[0m input=Comment(\"hVU=Gh~%<!&=)r+59:p7<$E:\")\r\n",
      "\u001B[2m2024-02-23T22:04:17.307287Z\u001B[0m \u001B[32m INFO\u001B[0m \u001B[2mtest\u001B[0m\u001B[2m:\u001B[0m input=Operator(\"-\")\r\n",
      "\u001B[2m2024-02-23T22:04:17.307363Z\u001B[0m \u001B[32m INFO\u001B[0m \u001B[2mtest\u001B[0m\u001B[2m:\u001B[0m input=Comment(\"$(=mf'Jwc!:>6l FEN1a\")\r\n",
      "\u001B[2m2024-02-23T22:04:17.307426Z\u001B[0m \u001B[32m INFO\u001B[0m \u001B[2mtest\u001B[0m\u001B[2m:\u001B[0m input=Comment(\"\")\r\n",
      "\u001B[2m2024-02-23T22:04:17.307494Z\u001B[0m \u001B[32m INFO\u001B[0m \u001B[2mtest\u001B[0m\u001B[2m:\u001B[0m input=Comment(\"?*e\\\".}`%OZLw7\")\r\n",
      "\u001B[2m2024-02-23T22:04:17.307597Z\u001B[0m \u001B[32m INFO\u001B[0m \u001B[2mtest\u001B[0m\u001B[2m:\u001B[0m input=Comment(\"JZ/%@=D\\\"p\\\\n<\\\\'*\")\r\n",
      "\u001B[2m2024-02-23T22:04:17.307755Z\u001B[0m \u001B[32m INFO\u001B[0m \u001B[2mtest\u001B[0m\u001B[2m:\u001B[0m input=Identifier(\"pFQ8r48WC4x24EeLSfZ4\")\r\n",
      "\u001B[2m2024-02-23T22:04:17.307829Z\u001B[0m \u001B[32m INFO\u001B[0m \u001B[2mtest\u001B[0m\u001B[2m:\u001B[0m input=Comment(\"%?$-a&\")\r\n",
      "\u001B[2m2024-02-23T22:04:17.307942Z\u001B[0m \u001B[32m INFO\u001B[0m \u001B[2mtest\u001B[0m\u001B[2m:\u001B[0m input=Identifier(\"wLAAp04y82R7TFqAk6W0Xha99aOXd\")\r\n",
      "\u001B[2m2024-02-23T22:04:17.308038Z\u001B[0m \u001B[32m INFO\u001B[0m \u001B[2mtest\u001B[0m\u001B[2m:\u001B[0m input=Comment(\":Yh:t?/P4%y.7Vic Vy>'q\")\r\n",
      "\u001B[2m2024-02-23T22:04:17.308106Z\u001B[0m \u001B[32m INFO\u001B[0m \u001B[2mtest\u001B[0m\u001B[2m:\u001B[0m input=Integer(1943181771825962083)\r\n",
      "\u001B[2m2024-02-23T22:04:17.308170Z\u001B[0m \u001B[32m INFO\u001B[0m \u001B[2mtest\u001B[0m\u001B[2m:\u001B[0m input=Integer(6769927662850070807)\r\n",
      "\u001B[2m2024-02-23T22:04:17.308271Z\u001B[0m \u001B[32m INFO\u001B[0m \u001B[2mtest\u001B[0m\u001B[2m:\u001B[0m input=StringLiteral(\"`%'^2L?V&bZ<3'<dO.yp-~<6]\")\r\n",
      "\u001B[2m2024-02-23T22:04:17.308345Z\u001B[0m \u001B[32m INFO\u001B[0m \u001B[2mtest\u001B[0m\u001B[2m:\u001B[0m input=Integer(-5859604816387651245)\r\n",
      "\u001B[2m2024-02-23T22:04:17.308418Z\u001B[0m \u001B[32m INFO\u001B[0m \u001B[2mtest\u001B[0m\u001B[2m:\u001B[0m input=Operator(\"+\")\r\n",
      "\u001B[2m2024-02-23T22:04:17.308489Z\u001B[0m \u001B[32m INFO\u001B[0m \u001B[2mtest\u001B[0m\u001B[2m:\u001B[0m input=Integer(-7466149152746188845)\r\n",
      "\u001B[2m2024-02-23T22:04:17.308545Z\u001B[0m \u001B[32m INFO\u001B[0m \u001B[2mtest\u001B[0m\u001B[2m:\u001B[0m input=Operator(\"+\")\r\n",
      "\u001B[2m2024-02-23T22:04:17.308619Z\u001B[0m \u001B[32m INFO\u001B[0m \u001B[2mtest\u001B[0m\u001B[2m:\u001B[0m input=StringLiteral(\"Hdv,~,j:r`I#Yx/\")\r\n",
      "\u001B[2m2024-02-23T22:04:17.308693Z\u001B[0m \u001B[32m INFO\u001B[0m \u001B[2mtest\u001B[0m\u001B[2m:\u001B[0m input=Integer(5904655105617755994)\r\n",
      "\u001B[2m2024-02-23T22:04:17.308789Z\u001B[0m \u001B[32m INFO\u001B[0m \u001B[2mtest\u001B[0m\u001B[2m:\u001B[0m input=Comment(\"%%h-'\\\\-1im*?<$Dyt\\\"WK(@'X%%PyvJ\")\r\n",
      "\u001B[2m2024-02-23T22:04:17.308854Z\u001B[0m \u001B[32m INFO\u001B[0m \u001B[2mtest\u001B[0m\u001B[2m:\u001B[0m input=Integer(4139771219397917586)\r\n",
      "\u001B[2m2024-02-23T22:04:17.308905Z\u001B[0m \u001B[32m INFO\u001B[0m \u001B[2mtest\u001B[0m\u001B[2m:\u001B[0m input=Integer(-8230252751444417626)\r\n",
      "\u001B[2m2024-02-23T22:04:17.308966Z\u001B[0m \u001B[32m INFO\u001B[0m \u001B[2mtest\u001B[0m\u001B[2m:\u001B[0m input=Identifier(\"OLNhez3\")\r\n",
      "\u001B[2m2024-02-23T22:04:17.309048Z\u001B[0m \u001B[32m INFO\u001B[0m \u001B[2mtest\u001B[0m\u001B[2m:\u001B[0m input=Comment(\"!&.4<*dUH6v#YmtC,?:\")\r\n",
      "\u001B[2m2024-02-23T22:04:17.309106Z\u001B[0m \u001B[32m INFO\u001B[0m \u001B[2mtest\u001B[0m\u001B[2m:\u001B[0m input=Comment(\"><07\")\r\n",
      "\u001B[2m2024-02-23T22:04:17.309211Z\u001B[0m \u001B[32m INFO\u001B[0m \u001B[2mtest\u001B[0m\u001B[2m:\u001B[0m input=StringLiteral(\"<PU**em//8}}/d`3XI<K_2*.5-J`?*@\")\r\n",
      "\u001B[2m2024-02-23T22:04:17.309313Z\u001B[0m \u001B[32m INFO\u001B[0m \u001B[2mtest\u001B[0m\u001B[2m:\u001B[0m input=Identifier(\"n93JOr5v75dCtGgsOH59\")\r\n",
      "\u001B[2m2024-02-23T22:04:17.309463Z\u001B[0m \u001B[32m INFO\u001B[0m \u001B[2mtest\u001B[0m\u001B[2m:\u001B[0m input=StringLiteral(\"i*%oWhL$/G%N]H: RBg&?KG)k/\")\r\n",
      "\u001B[2m2024-02-23T22:04:17.309561Z\u001B[0m \u001B[32m INFO\u001B[0m \u001B[2mtest\u001B[0m\u001B[2m:\u001B[0m input=Integer(-5886017714637955763)\r\n",
      "\u001B[2m2024-02-23T22:04:17.309625Z\u001B[0m \u001B[32m INFO\u001B[0m \u001B[2mtest\u001B[0m\u001B[2m:\u001B[0m input=StringLiteral(\"g&b\")\r\n",
      "\u001B[2m2024-02-23T22:04:17.309673Z\u001B[0m \u001B[32m INFO\u001B[0m \u001B[2mtest\u001B[0m\u001B[2m:\u001B[0m input=Integer(-89096185527361681)\r\n",
      "\u001B[2m2024-02-23T22:04:17.309751Z\u001B[0m \u001B[32m INFO\u001B[0m \u001B[2mtest\u001B[0m\u001B[2m:\u001B[0m input=StringLiteral(\"$e*\")\r\n",
      "\u001B[2m2024-02-23T22:04:17.309813Z\u001B[0m \u001B[32m INFO\u001B[0m \u001B[2mtest\u001B[0m\u001B[2m:\u001B[0m input=Operator(\"/\")\r\n",
      "\u001B[2m2024-02-23T22:04:17.309883Z\u001B[0m \u001B[32m INFO\u001B[0m \u001B[2mtest\u001B[0m\u001B[2m:\u001B[0m input=Comment(\"NoZ\\\"!&+8:f1sZ<\")\r\n",
      "\u001B[2m2024-02-23T22:04:17.309948Z\u001B[0m \u001B[32m INFO\u001B[0m \u001B[2mtest\u001B[0m\u001B[2m:\u001B[0m input=Operator(\")\")\r\n",
      "\u001B[2m2024-02-23T22:04:17.310038Z\u001B[0m \u001B[32m INFO\u001B[0m \u001B[2mtest\u001B[0m\u001B[2m:\u001B[0m input=Comment(\"R?3{*Q(q.0=k]bAPy]+C={|{{~./_&r\")\r\n",
      "\u001B[2m2024-02-23T22:04:17.310103Z\u001B[0m \u001B[32m INFO\u001B[0m \u001B[2mtest\u001B[0m\u001B[2m:\u001B[0m input=Operator(\"-\")\r\n",
      "\u001B[2m2024-02-23T22:04:17.310160Z\u001B[0m \u001B[32m INFO\u001B[0m \u001B[2mtest\u001B[0m\u001B[2m:\u001B[0m input=Integer(-4149778202242263843)\r\n",
      "\u001B[2m2024-02-23T22:04:17.310239Z\u001B[0m \u001B[32m INFO\u001B[0m \u001B[2mtest\u001B[0m\u001B[2m:\u001B[0m input=StringLiteral(\"U%,p)?(^G%N?to4'7-v\")\r\n",
      "\u001B[2m2024-02-23T22:04:17.310323Z\u001B[0m \u001B[32m INFO\u001B[0m \u001B[2mtest\u001B[0m\u001B[2m:\u001B[0m input=Identifier(\"I1w0PpjSelQNwFrlf\")\r\n",
      "\u001B[2m2024-02-23T22:04:17.310419Z\u001B[0m \u001B[32m INFO\u001B[0m \u001B[2mtest\u001B[0m\u001B[2m:\u001B[0m input=StringLiteral(\"/';T@C^-<J1ap.+'5!h_Xh?Es)3~$\")\r\n",
      "\u001B[2m2024-02-23T22:04:17.310489Z\u001B[0m \u001B[32m INFO\u001B[0m \u001B[2mtest\u001B[0m\u001B[2m:\u001B[0m input=Comment(\"w'`W:*\")\r\n",
      "\u001B[2m2024-02-23T22:04:17.310568Z\u001B[0m \u001B[32m INFO\u001B[0m \u001B[2mtest\u001B[0m\u001B[2m:\u001B[0m input=Comment(\":8H&Ri+/./?={<pbw,I7\")\r\n",
      "\u001B[2m2024-02-23T22:04:17.310634Z\u001B[0m \u001B[32m INFO\u001B[0m \u001B[2mtest\u001B[0m\u001B[2m:\u001B[0m input=Operator(\"*\")\r\n",
      "\u001B[2m2024-02-23T22:04:17.310703Z\u001B[0m \u001B[32m INFO\u001B[0m \u001B[2mtest\u001B[0m\u001B[2m:\u001B[0m input=Operator(\"+\")\r\n",
      "\u001B[2m2024-02-23T22:04:17.310760Z\u001B[0m \u001B[32m INFO\u001B[0m \u001B[2mtest\u001B[0m\u001B[2m:\u001B[0m input=Comment(\"\")\r\n",
      "\u001B[2m2024-02-23T22:04:17.310812Z\u001B[0m \u001B[32m INFO\u001B[0m \u001B[2mtest\u001B[0m\u001B[2m:\u001B[0m input=Comment(\"v&X&\")\r\n",
      "\u001B[2m2024-02-23T22:04:17.310865Z\u001B[0m \u001B[32m INFO\u001B[0m \u001B[2mtest\u001B[0m\u001B[2m:\u001B[0m input=Integer(-4983249601655940133)\r\n",
      "\u001B[2m2024-02-23T22:04:17.310918Z\u001B[0m \u001B[32m INFO\u001B[0m \u001B[2mtest\u001B[0m\u001B[2m:\u001B[0m input=Comment(\"*X\\\"YPK\")\r\n",
      "\u001B[2m2024-02-23T22:04:17.311014Z\u001B[0m \u001B[32m INFO\u001B[0m \u001B[2mtest\u001B[0m\u001B[2m:\u001B[0m input=Identifier(\"iDNP0Z8frJMf9QJagD9AVWA4gagjycJ\")\r\n",
      "\u001B[2m2024-02-23T22:04:17.311074Z\u001B[0m \u001B[32m INFO\u001B[0m \u001B[2mtest\u001B[0m\u001B[2m:\u001B[0m input=Integer(-7979738850413889068)\r\n",
      "\u001B[2m2024-02-23T22:04:17.311158Z\u001B[0m \u001B[32m INFO\u001B[0m \u001B[2mtest\u001B[0m\u001B[2m:\u001B[0m input=Identifier(\"jiwi3ZzX67j3WdA68F28AiJS6ZnS2\")\r\n",
      "\u001B[2m2024-02-23T22:04:17.311228Z\u001B[0m \u001B[32m INFO\u001B[0m \u001B[2mtest\u001B[0m\u001B[2m:\u001B[0m input=Identifier(\"Eujz9\")\r\n",
      "\u001B[2m2024-02-23T22:04:17.311280Z\u001B[0m \u001B[32m INFO\u001B[0m \u001B[2mtest\u001B[0m\u001B[2m:\u001B[0m input=Integer(-5132764540983979057)\r\n",
      "\u001B[2m2024-02-23T22:04:17.311385Z\u001B[0m \u001B[32m INFO\u001B[0m \u001B[2mtest\u001B[0m\u001B[2m:\u001B[0m input=StringLiteral(\"v?!:x`E }V(4e>r%:@qqO~XA);:yFI\")\r\n",
      "\u001B[2m2024-02-23T22:04:17.311497Z\u001B[0m \u001B[32m INFO\u001B[0m \u001B[2mtest\u001B[0m\u001B[2m:\u001B[0m input=Operator(\")\")\r\n",
      "\u001B[2m2024-02-23T22:04:17.311633Z\u001B[0m \u001B[32m INFO\u001B[0m \u001B[2mtest\u001B[0m\u001B[2m:\u001B[0m input=Identifier(\"kzozrseS\")\r\n",
      "\u001B[2m2024-02-23T22:04:17.311719Z\u001B[0m \u001B[32m INFO\u001B[0m \u001B[2mtest\u001B[0m\u001B[2m:\u001B[0m input=Comment(\"\")\r\n",
      "\u001B[2m2024-02-23T22:04:17.311790Z\u001B[0m \u001B[32m INFO\u001B[0m \u001B[2mtest\u001B[0m\u001B[2m:\u001B[0m input=Operator(\"=\")\r\n",
      "\u001B[2m2024-02-23T22:04:17.311896Z\u001B[0m \u001B[32m INFO\u001B[0m \u001B[2mtest\u001B[0m\u001B[2m:\u001B[0m input=Comment(\".<+%\\\\\\\\Wi&OT%{=/<`L=5\\\\<@L\")\r\n",
      "\u001B[2m2024-02-23T22:04:17.311998Z\u001B[0m \u001B[32m INFO\u001B[0m \u001B[2mtest\u001B[0m\u001B[2m:\u001B[0m input=Comment(\"&6u+//<I\\\"</F'%2Z\")\r\n",
      "\u001B[2m2024-02-23T22:04:17.312093Z\u001B[0m \u001B[32m INFO\u001B[0m \u001B[2mtest\u001B[0m\u001B[2m:\u001B[0m input=StringLiteral(\"5VZj%*|P~,0}<*.\")\r\n",
      "\u001B[2m2024-02-23T22:04:17.312218Z\u001B[0m \u001B[32m INFO\u001B[0m \u001B[2mtest\u001B[0m\u001B[2m:\u001B[0m input=StringLiteral(\"=q:p.$7L.3$B#?!\")\r\n",
      "\u001B[2m2024-02-23T22:04:17.312299Z\u001B[0m \u001B[32m INFO\u001B[0m \u001B[2mtest\u001B[0m\u001B[2m:\u001B[0m input=Integer(-7605407593665231217)\r\n",
      "\u001B[2m2024-02-23T22:04:17.312365Z\u001B[0m \u001B[32m INFO\u001B[0m \u001B[2mtest\u001B[0m\u001B[2m:\u001B[0m input=Operator(\"-\")\r\n",
      "\u001B[2m2024-02-23T22:04:17.312437Z\u001B[0m \u001B[32m INFO\u001B[0m \u001B[2mtest\u001B[0m\u001B[2m:\u001B[0m input=Operator(\")\")\r\n",
      "\u001B[2m2024-02-23T22:04:17.312538Z\u001B[0m \u001B[32m INFO\u001B[0m \u001B[2mtest\u001B[0m\u001B[2m:\u001B[0m input=StringLiteral(\"'*h0xXyym0<o4$O0\")\r\n",
      "\u001B[2m2024-02-23T22:04:17.312633Z\u001B[0m \u001B[32m INFO\u001B[0m \u001B[2mtest\u001B[0m\u001B[2m:\u001B[0m input=StringLiteral(\"*8/3l\")\r\n",
      "\u001B[2m2024-02-23T22:04:17.312744Z\u001B[0m \u001B[32m INFO\u001B[0m \u001B[2mtest\u001B[0m\u001B[2m:\u001B[0m input=Operator(\")\")\r\n",
      "\u001B[2m2024-02-23T22:04:17.312811Z\u001B[0m \u001B[32m INFO\u001B[0m \u001B[2mtest\u001B[0m\u001B[2m:\u001B[0m input=Integer(-840000741626042443)\r\n",
      "\u001B[2m2024-02-23T22:04:17.312902Z\u001B[0m \u001B[32m INFO\u001B[0m \u001B[2mtest\u001B[0m\u001B[2m:\u001B[0m input=Identifier(\"CFd8f9XU2LKfi8U114xlTF0S2WgMiY0b\")\r\n",
      "\u001B[2m2024-02-23T22:04:17.313049Z\u001B[0m \u001B[32m INFO\u001B[0m \u001B[2mtest\u001B[0m\u001B[2m:\u001B[0m input=Integer(7572580791268672833)\r\n",
      "\u001B[2m2024-02-23T22:04:17.313110Z\u001B[0m \u001B[32m INFO\u001B[0m \u001B[2mtest\u001B[0m\u001B[2m:\u001B[0m input=StringLiteral(\"$\")\r\n",
      "\u001B[2m2024-02-23T22:04:17.313184Z\u001B[0m \u001B[32m INFO\u001B[0m \u001B[2mtest\u001B[0m\u001B[2m:\u001B[0m input=Comment(\"`\\\\\")\r\n",
      "\u001B[2m2024-02-23T22:04:17.313257Z\u001B[0m \u001B[32m INFO\u001B[0m \u001B[2mtest\u001B[0m\u001B[2m:\u001B[0m input=Identifier(\"HVCAnw1mo\")\r\n",
      "\u001B[2m2024-02-23T22:04:17.313296Z\u001B[0m \u001B[32m INFO\u001B[0m \u001B[2mtest\u001B[0m\u001B[2m:\u001B[0m input=Integer(6769944417438793889)\r\n",
      "\u001B[2m2024-02-23T22:04:17.313408Z\u001B[0m \u001B[32m INFO\u001B[0m \u001B[2mtest\u001B[0m\u001B[2m:\u001B[0m input=Identifier(\"hmdUfYxY8HWwF77JZYX9LaVeWare\")\r\n",
      "\u001B[2m2024-02-23T22:04:17.313477Z\u001B[0m \u001B[32m INFO\u001B[0m \u001B[2mtest\u001B[0m\u001B[2m:\u001B[0m input=Integer(6027152991419129419)\r\n",
      "\u001B[2m2024-02-23T22:04:17.313556Z\u001B[0m \u001B[32m INFO\u001B[0m \u001B[2mtest\u001B[0m\u001B[2m:\u001B[0m input=Comment(\" :ca$S-5{2C?%\")\r\n",
      "\u001B[2m2024-02-23T22:04:17.313628Z\u001B[0m \u001B[32m INFO\u001B[0m \u001B[2mtest\u001B[0m\u001B[2m:\u001B[0m input=Operator(\"/\")\r\n",
      "\u001B[2m2024-02-23T22:04:17.313738Z\u001B[0m \u001B[32m INFO\u001B[0m \u001B[2mtest\u001B[0m\u001B[2m:\u001B[0m input=Identifier(\"Lm3x0u63W82S5nKyK8OV8W8b5bi8r\")\r\n",
      "\u001B[2m2024-02-23T22:04:17.313812Z\u001B[0m \u001B[32m INFO\u001B[0m \u001B[2mtest\u001B[0m\u001B[2m:\u001B[0m input=Operator(\"/\")\r\n",
      "\u001B[2m2024-02-23T22:04:17.313866Z\u001B[0m \u001B[32m INFO\u001B[0m \u001B[2mtest\u001B[0m\u001B[2m:\u001B[0m input=Operator(\"+\")\r\n",
      "\u001B[2m2024-02-23T22:04:17.313920Z\u001B[0m \u001B[32m INFO\u001B[0m \u001B[2mtest\u001B[0m\u001B[2m:\u001B[0m input=StringLiteral(\"<{?R\")\r\n",
      "\u001B[2m2024-02-23T22:04:17.313991Z\u001B[0m \u001B[32m INFO\u001B[0m \u001B[2mtest\u001B[0m\u001B[2m:\u001B[0m input=Comment(\"w,t:;YR<A`3F$\")\r\n",
      "\u001B[2m2024-02-23T22:04:17.314063Z\u001B[0m \u001B[32m INFO\u001B[0m \u001B[2mtest\u001B[0m\u001B[2m:\u001B[0m input=Identifier(\"YNw5LX2oTLd4PX8tRf\")\r\n",
      "\u001B[2m2024-02-23T22:04:17.314164Z\u001B[0m \u001B[32m INFO\u001B[0m \u001B[2mtest\u001B[0m\u001B[2m:\u001B[0m input=Comment(\":@>$t/-.h==DSdnlZ`'y\")\r\n",
      "\u001B[2m2024-02-23T22:04:17.314292Z\u001B[0m \u001B[32m INFO\u001B[0m \u001B[2mtest\u001B[0m\u001B[2m:\u001B[0m input=StringLiteral(\";_JZ:$25\")\r\n",
      "\u001B[2m2024-02-23T22:04:17.314401Z\u001B[0m \u001B[32m INFO\u001B[0m \u001B[2mtest\u001B[0m\u001B[2m:\u001B[0m input=Identifier(\"zl8Rrb0Hfy764Od\")\r\n",
      "\u001B[2m2024-02-23T22:04:17.314501Z\u001B[0m \u001B[32m INFO\u001B[0m \u001B[2mtest\u001B[0m\u001B[2m:\u001B[0m input=StringLiteral(\"J`c03_A6Q4@K\")\r\n",
      "\u001B[2m2024-02-23T22:04:17.314610Z\u001B[0m \u001B[32m INFO\u001B[0m \u001B[2mtest\u001B[0m\u001B[2m:\u001B[0m input=StringLiteral(\"A/$5<e%%,I1lh}hS_'Z2Lgg&Vca)/Oj\")\r\n",
      "\u001B[2m2024-02-23T22:04:17.314762Z\u001B[0m \u001B[32m INFO\u001B[0m \u001B[2mtest\u001B[0m\u001B[2m:\u001B[0m input=Comment(\"ZG?qKyRNg\")\r\n",
      "\u001B[2m2024-02-23T22:04:17.314887Z\u001B[0m \u001B[32m INFO\u001B[0m \u001B[2mtest\u001B[0m\u001B[2m:\u001B[0m input=Identifier(\"QNMC0vzxuyfqvE7I14xXpkFbYwI\")\r\n",
      "\u001B[2m2024-02-23T22:04:17.314938Z\u001B[0m \u001B[32m INFO\u001B[0m \u001B[2mtest\u001B[0m\u001B[2m:\u001B[0m input=Integer(4585241976119824347)\r\n",
      "\u001B[2m2024-02-23T22:04:17.314990Z\u001B[0m \u001B[32m INFO\u001B[0m \u001B[2mtest\u001B[0m\u001B[2m:\u001B[0m input=Identifier(\"CZ53MYXpWoNcSs3mCiX9s\")\r\n",
      "\u001B[2m2024-02-23T22:04:17.315053Z\u001B[0m \u001B[32m INFO\u001B[0m \u001B[2mtest\u001B[0m\u001B[2m:\u001B[0m input=Identifier(\"Et6JZN48n\")\r\n",
      "\u001B[2m2024-02-23T22:04:17.315164Z\u001B[0m \u001B[32m INFO\u001B[0m \u001B[2mtest\u001B[0m\u001B[2m:\u001B[0m input=StringLiteral(\"Jm&|D'{>P_0-sPZDV!}:jeB*QQ!5*5\")\r\n",
      "\u001B[2m2024-02-23T22:04:17.315236Z\u001B[0m \u001B[32m INFO\u001B[0m \u001B[2mtest\u001B[0m\u001B[2m:\u001B[0m input=Integer(-9159852487918787084)\r\n",
      "\u001B[2m2024-02-23T22:04:17.315336Z\u001B[0m \u001B[32m INFO\u001B[0m \u001B[2mtest\u001B[0m\u001B[2m:\u001B[0m input=Identifier(\"diMntC6BqTJb7KtS3n7UuH6Dg\")\r\n",
      "\u001B[2m2024-02-23T22:04:17.315408Z\u001B[0m \u001B[32m INFO\u001B[0m \u001B[2mtest\u001B[0m\u001B[2m:\u001B[0m input=Integer(2459730675894204516)\r\n",
      "\u001B[2m2024-02-23T22:04:17.315498Z\u001B[0m \u001B[32m INFO\u001B[0m \u001B[2mtest\u001B[0m\u001B[2m:\u001B[0m input=Comment(\"5&/T9JLE\\\"^'0\\\"Fy\")\r\n",
      "\u001B[2m2024-02-23T22:04:17.315570Z\u001B[0m \u001B[32m INFO\u001B[0m \u001B[2mtest\u001B[0m\u001B[2m:\u001B[0m input=Identifier(\"v1Y03J\")\r\n",
      "\u001B[2m2024-02-23T22:04:17.315637Z\u001B[0m \u001B[32m INFO\u001B[0m \u001B[2mtest\u001B[0m\u001B[2m:\u001B[0m input=Identifier(\"nZXjsdNC0oALW01VwrYYpC9TXOm4i\")\r\n",
      "\u001B[2m2024-02-23T22:04:17.315689Z\u001B[0m \u001B[32m INFO\u001B[0m \u001B[2mtest\u001B[0m\u001B[2m:\u001B[0m input=Identifier(\"jh4Bd\")\r\n",
      "\u001B[2m2024-02-23T22:04:17.315752Z\u001B[0m \u001B[32m INFO\u001B[0m \u001B[2mtest\u001B[0m\u001B[2m:\u001B[0m input=Operator(\"(\")\r\n",
      "\u001B[2m2024-02-23T22:04:17.315831Z\u001B[0m \u001B[32m INFO\u001B[0m \u001B[2mtest\u001B[0m\u001B[2m:\u001B[0m input=StringLiteral(\"&ZN/yc6Z'Q%l=?*\")\r\n",
      "\u001B[2m2024-02-23T22:04:17.315908Z\u001B[0m \u001B[32m INFO\u001B[0m \u001B[2mtest\u001B[0m\u001B[2m:\u001B[0m input=Identifier(\"BN5oTU1G4P809L58rk\")\r\n",
      "\u001B[2m2024-02-23T22:04:17.316007Z\u001B[0m \u001B[32m INFO\u001B[0m \u001B[2mtest\u001B[0m\u001B[2m:\u001B[0m input=Comment(\"b=|&BB%%>%I:7sPTa|aj/:s$s@\")\r\n",
      "\u001B[2m2024-02-23T22:04:17.316119Z\u001B[0m \u001B[32m INFO\u001B[0m \u001B[2mtest\u001B[0m\u001B[2m:\u001B[0m input=StringLiteral(\"9<eE;%FVO{A1&*@Q'B8Hu<<zj&\")\r\n",
      "\u001B[2m2024-02-23T22:04:17.316257Z\u001B[0m \u001B[32m INFO\u001B[0m \u001B[2mtest\u001B[0m\u001B[2m:\u001B[0m input=StringLiteral(\"`s*=o@vR<q*)c&:'+*=iN/1`b&$.;lf\")\r\n",
      "\u001B[2m2024-02-23T22:04:17.316344Z\u001B[0m \u001B[32m INFO\u001B[0m \u001B[2mtest\u001B[0m\u001B[2m:\u001B[0m input=Comment(\"F4USfY?:Pr\")\r\n",
      "\u001B[2m2024-02-23T22:04:17.316435Z\u001B[0m \u001B[32m INFO\u001B[0m \u001B[2mtest\u001B[0m\u001B[2m:\u001B[0m input=Integer(-7883597172546618833)\r\n",
      "\u001B[2m2024-02-23T22:04:17.316526Z\u001B[0m \u001B[32m INFO\u001B[0m \u001B[2mtest\u001B[0m\u001B[2m:\u001B[0m input=Comment(\"/%\\\\Y1&.3`c.1k$\")\r\n",
      "\u001B[2m2024-02-23T22:04:17.316599Z\u001B[0m \u001B[32m INFO\u001B[0m \u001B[2mtest\u001B[0m\u001B[2m:\u001B[0m input=Integer(-7488629132862243397)\r\n",
      "\u001B[2m2024-02-23T22:04:17.316686Z\u001B[0m \u001B[32m INFO\u001B[0m \u001B[2mtest\u001B[0m\u001B[2m:\u001B[0m input=Identifier(\"Wis8EE54Ql056QQ4VpF2A\")\r\n",
      "\u001B[2m2024-02-23T22:04:17.316753Z\u001B[0m \u001B[32m INFO\u001B[0m \u001B[2mtest\u001B[0m\u001B[2m:\u001B[0m input=Comment(\"'j*'[G>.`u{\")\r\n",
      "\u001B[2m2024-02-23T22:04:17.316804Z\u001B[0m \u001B[32m INFO\u001B[0m \u001B[2mtest\u001B[0m\u001B[2m:\u001B[0m input=Integer(-6213098446056841507)\r\n",
      "\u001B[2m2024-02-23T22:04:17.316888Z\u001B[0m \u001B[32m INFO\u001B[0m \u001B[2mtest\u001B[0m\u001B[2m:\u001B[0m input=Integer(4454914466260584748)\r\n",
      "\u001B[2m2024-02-23T22:04:17.316950Z\u001B[0m \u001B[32m INFO\u001B[0m \u001B[2mtest\u001B[0m\u001B[2m:\u001B[0m input=StringLiteral(\"&Q'}=M}nF0\")\r\n",
      "\u001B[2m2024-02-23T22:04:17.316985Z\u001B[0m \u001B[32m INFO\u001B[0m \u001B[2mtest\u001B[0m\u001B[2m:\u001B[0m input=Integer(-75334012931377661)\r\n",
      "\u001B[2m2024-02-23T22:04:17.317041Z\u001B[0m \u001B[32m INFO\u001B[0m \u001B[2mtest\u001B[0m\u001B[2m:\u001B[0m input=Comment(\"es0E\")\r\n",
      "\u001B[2m2024-02-23T22:04:17.317108Z\u001B[0m \u001B[32m INFO\u001B[0m \u001B[2mtest\u001B[0m\u001B[2m:\u001B[0m input=Comment(\"*<wa\")\r\n",
      "\u001B[2m2024-02-23T22:04:17.317162Z\u001B[0m \u001B[32m INFO\u001B[0m \u001B[2mtest\u001B[0m\u001B[2m:\u001B[0m input=Integer(1595701857304380294)\r\n",
      "\u001B[2m2024-02-23T22:04:17.317206Z\u001B[0m \u001B[32m INFO\u001B[0m \u001B[2mtest\u001B[0m\u001B[2m:\u001B[0m input=Integer(3470097595685535085)\r\n",
      "\u001B[2m2024-02-23T22:04:17.317307Z\u001B[0m \u001B[32m INFO\u001B[0m \u001B[2mtest\u001B[0m\u001B[2m:\u001B[0m input=StringLiteral(\"!=.^q#{uW7#[,Ii.'\")\r\n",
      "\u001B[2m2024-02-23T22:04:17.317389Z\u001B[0m \u001B[32m INFO\u001B[0m \u001B[2mtest\u001B[0m\u001B[2m:\u001B[0m input=StringLiteral(\"f\")\r\n",
      "\u001B[2m2024-02-23T22:04:17.317472Z\u001B[0m \u001B[32m INFO\u001B[0m \u001B[2mtest\u001B[0m\u001B[2m:\u001B[0m input=Identifier(\"mgnbJv\")\r\n",
      "\u001B[2m2024-02-23T22:04:17.317571Z\u001B[0m \u001B[32m INFO\u001B[0m \u001B[2mtest\u001B[0m\u001B[2m:\u001B[0m input=Comment(\"$l^`=-0\\\\HSve.E{;]3\")\r\n",
      "\u001B[2m2024-02-23T22:04:17.317682Z\u001B[0m \u001B[32m INFO\u001B[0m \u001B[2mtest\u001B[0m\u001B[2m:\u001B[0m input=StringLiteral(\"{8z$A~fE64.?)//@c\")\r\n",
      "\u001B[2m2024-02-23T22:04:17.317764Z\u001B[0m \u001B[32m INFO\u001B[0m \u001B[2mtest\u001B[0m\u001B[2m:\u001B[0m input=Operator(\"-\")\r\n",
      "\u001B[2m2024-02-23T22:04:17.317889Z\u001B[0m \u001B[32m INFO\u001B[0m \u001B[2mtest\u001B[0m\u001B[2m:\u001B[0m input=Comment(\"IHH=..={'^{sm\\\\(zsEY.yR/I0uQ\")\r\n",
      "\u001B[2m2024-02-23T22:04:17.317995Z\u001B[0m \u001B[32m INFO\u001B[0m \u001B[2mtest\u001B[0m\u001B[2m:\u001B[0m input=StringLiteral(\"Q2oF*c7$KcQT7/9'&~BT@' \")\r\n",
      "\u001B[2m2024-02-23T22:04:17.318106Z\u001B[0m \u001B[32m INFO\u001B[0m \u001B[2mtest\u001B[0m\u001B[2m:\u001B[0m input=StringLiteral(\"`/?WN$`N`A83sq=qY<Htb\")\r\n",
      "\u001B[2m2024-02-23T22:04:17.318186Z\u001B[0m \u001B[32m INFO\u001B[0m \u001B[2mtest\u001B[0m\u001B[2m:\u001B[0m input=Operator(\"*\")\r\n",
      "\u001B[2m2024-02-23T22:04:17.318243Z\u001B[0m \u001B[32m INFO\u001B[0m \u001B[2mtest\u001B[0m\u001B[2m:\u001B[0m input=Integer(332076368633393914)\r\n",
      "\u001B[2m2024-02-23T22:04:17.318312Z\u001B[0m \u001B[32m INFO\u001B[0m \u001B[2mtest\u001B[0m\u001B[2m:\u001B[0m input=Identifier(\"AIM\")\r\n",
      "\u001B[2m2024-02-23T22:04:17.318366Z\u001B[0m \u001B[32m INFO\u001B[0m \u001B[2mtest\u001B[0m\u001B[2m:\u001B[0m input=Integer(-2606633493762309465)\r\n",
      "\u001B[2m2024-02-23T22:04:17.318439Z\u001B[0m \u001B[32m INFO\u001B[0m \u001B[2mtest\u001B[0m\u001B[2m:\u001B[0m input=Operator(\"+\")\r\n",
      "\u001B[2m2024-02-23T22:04:17.318521Z\u001B[0m \u001B[32m INFO\u001B[0m \u001B[2mtest\u001B[0m\u001B[2m:\u001B[0m input=Identifier(\"Ybk2e21w3zWX3xZj\")\r\n",
      "\u001B[2m2024-02-23T22:04:17.318614Z\u001B[0m \u001B[32m INFO\u001B[0m \u001B[2mtest\u001B[0m\u001B[2m:\u001B[0m input=Identifier(\"lBU5FK7gztHtlteT9T\")\r\n",
      "\u001B[2m2024-02-23T22:04:17.318699Z\u001B[0m \u001B[32m INFO\u001B[0m \u001B[2mtest\u001B[0m\u001B[2m:\u001B[0m input=Operator(\"-\")\r\n",
      "\u001B[2m2024-02-23T22:04:17.318780Z\u001B[0m \u001B[32m INFO\u001B[0m \u001B[2mtest\u001B[0m\u001B[2m:\u001B[0m input=Identifier(\"hhO0DFa\")\r\n",
      "\u001B[2m2024-02-23T22:04:17.318912Z\u001B[0m \u001B[32m INFO\u001B[0m \u001B[2mtest\u001B[0m\u001B[2m:\u001B[0m input=StringLiteral(\"4&.W<XiPC$:Lk&1O'7&%/=j?C}(w\")\r\n",
      "\u001B[2m2024-02-23T22:04:17.319013Z\u001B[0m \u001B[32m INFO\u001B[0m \u001B[2mtest\u001B[0m\u001B[2m:\u001B[0m input=Identifier(\"w2PK79vGUkn2oR565O5pFMBl6a\")\r\n",
      "\u001B[2m2024-02-23T22:04:17.319090Z\u001B[0m \u001B[32m INFO\u001B[0m \u001B[2mtest\u001B[0m\u001B[2m:\u001B[0m input=Comment(\"}B\")\r\n",
      "\u001B[2m2024-02-23T22:04:17.319164Z\u001B[0m \u001B[32m INFO\u001B[0m \u001B[2mtest\u001B[0m\u001B[2m:\u001B[0m input=Operator(\"-\")\r\n",
      "\u001B[2m2024-02-23T22:04:17.319221Z\u001B[0m \u001B[32m INFO\u001B[0m \u001B[2mtest\u001B[0m\u001B[2m:\u001B[0m input=Integer(929974705776552932)\r\n",
      "\u001B[2m2024-02-23T22:04:17.319350Z\u001B[0m \u001B[32m INFO\u001B[0m \u001B[2mtest\u001B[0m\u001B[2m:\u001B[0m input=Operator(\"/\")\r\n",
      "\u001B[2m2024-02-23T22:04:17.319447Z\u001B[0m \u001B[32m INFO\u001B[0m \u001B[2mtest\u001B[0m\u001B[2m:\u001B[0m input=Identifier(\"coN0gBQ8zKoN473OMY4wB25o\")\r\n",
      "\u001B[2m2024-02-23T22:04:17.319554Z\u001B[0m \u001B[32m INFO\u001B[0m \u001B[2mtest\u001B[0m\u001B[2m:\u001B[0m input=Comment(\"`%,:/[':!i=M.C<\\\"W6B~\")\r\n",
      "\u001B[2m2024-02-23T22:04:17.319626Z\u001B[0m \u001B[32m INFO\u001B[0m \u001B[2mtest\u001B[0m\u001B[2m:\u001B[0m input=Integer(-6332003572893017163)\r\n",
      "\u001B[2m2024-02-23T22:04:17.319711Z\u001B[0m \u001B[32m INFO\u001B[0m \u001B[2mtest\u001B[0m\u001B[2m:\u001B[0m input=StringLiteral(\"&HlD&!\")\r\n",
      "\u001B[2m2024-02-23T22:04:17.319772Z\u001B[0m \u001B[32m INFO\u001B[0m \u001B[2mtest\u001B[0m\u001B[2m:\u001B[0m input=Identifier(\"C\")\r\n",
      "\u001B[2m2024-02-23T22:04:17.319889Z\u001B[0m \u001B[32m INFO\u001B[0m \u001B[2mtest\u001B[0m\u001B[2m:\u001B[0m input=StringLiteral(\"= F:Lyn/`gyWv&Cqb\")\r\n",
      "\u001B[2m2024-02-23T22:04:17.320027Z\u001B[0m \u001B[32m INFO\u001B[0m \u001B[2mtest\u001B[0m\u001B[2m:\u001B[0m input=Identifier(\"Lm51Bo3KF0Fi3088\")\r\n",
      "\u001B[2m2024-02-23T22:04:17.320146Z\u001B[0m \u001B[32m INFO\u001B[0m \u001B[2mtest\u001B[0m\u001B[2m:\u001B[0m input=Identifier(\"C3\")\r\n",
      "\u001B[2m2024-02-23T22:04:17.320213Z\u001B[0m \u001B[32m INFO\u001B[0m \u001B[2mtest\u001B[0m\u001B[2m:\u001B[0m input=StringLiteral(\"T\")\r\n",
      "\u001B[2m2024-02-23T22:04:17.320297Z\u001B[0m \u001B[32m INFO\u001B[0m \u001B[2mtest\u001B[0m\u001B[2m:\u001B[0m input=Operator(\")\")\r\n",
      "\u001B[2m2024-02-23T22:04:17.320375Z\u001B[0m \u001B[32m INFO\u001B[0m \u001B[2mtest\u001B[0m\u001B[2m:\u001B[0m input=Operator(\"-\")\r\n",
      "\u001B[2m2024-02-23T22:04:17.320471Z\u001B[0m \u001B[32m INFO\u001B[0m \u001B[2mtest\u001B[0m\u001B[2m:\u001B[0m input=Identifier(\"y93KKNqHsPDQm4X8i23aHbOt1c061\")\r\n",
      "\u001B[2m2024-02-23T22:04:17.320547Z\u001B[0m \u001B[32m INFO\u001B[0m \u001B[2mtest\u001B[0m\u001B[2m:\u001B[0m input=Operator(\"/\")\r\n",
      "\u001B[2m2024-02-23T22:04:17.320617Z\u001B[0m \u001B[32m INFO\u001B[0m \u001B[2mtest\u001B[0m\u001B[2m:\u001B[0m input=Integer(1889067562786487620)\r\n",
      "\u001B[2m2024-02-23T22:04:17.320684Z\u001B[0m \u001B[32m INFO\u001B[0m \u001B[2mtest\u001B[0m\u001B[2m:\u001B[0m input=Identifier(\"R0mxm\")\r\n",
      "\u001B[2m2024-02-23T22:04:17.320758Z\u001B[0m \u001B[32m INFO\u001B[0m \u001B[2mtest\u001B[0m\u001B[2m:\u001B[0m input=Operator(\"=\")\r\n",
      "\u001B[2m2024-02-23T22:04:17.320834Z\u001B[0m \u001B[32m INFO\u001B[0m \u001B[2mtest\u001B[0m\u001B[2m:\u001B[0m input=Identifier(\"z1812gMfAykc\")\r\n",
      "\u001B[2m2024-02-23T22:04:17.320958Z\u001B[0m \u001B[32m INFO\u001B[0m \u001B[2mtest\u001B[0m\u001B[2m:\u001B[0m input=Comment(\"HvIK\\\"F_c]$\\\\B|R\\\".Y7A\\\"ulx&.)qn3$\")\r\n",
      "\u001B[2m2024-02-23T22:04:17.321031Z\u001B[0m \u001B[32m INFO\u001B[0m \u001B[2mtest\u001B[0m\u001B[2m:\u001B[0m input=Integer(-6580762210916491185)\r\n",
      "\u001B[2m2024-02-23T22:04:17.321108Z\u001B[0m \u001B[32m INFO\u001B[0m \u001B[2mtest\u001B[0m\u001B[2m:\u001B[0m input=Identifier(\"OrgSd\")\r\n",
      "\u001B[2m2024-02-23T22:04:17.321189Z\u001B[0m \u001B[32m INFO\u001B[0m \u001B[2mtest\u001B[0m\u001B[2m:\u001B[0m input=Operator(\")\")\r\n",
      "\u001B[2m2024-02-23T22:04:17.321304Z\u001B[0m \u001B[32m INFO\u001B[0m \u001B[2mtest\u001B[0m\u001B[2m:\u001B[0m input=Comment(\"~1i~IkIAq*c(Ak2{MZ++ =\\\"tB.k2`q\")\r\n",
      "\u001B[2m2024-02-23T22:04:17.321380Z\u001B[0m \u001B[32m INFO\u001B[0m \u001B[2mtest\u001B[0m\u001B[2m:\u001B[0m input=Operator(\"+\")\r\n",
      "\u001B[2m2024-02-23T22:04:17.321443Z\u001B[0m \u001B[32m INFO\u001B[0m \u001B[2mtest\u001B[0m\u001B[2m:\u001B[0m input=StringLiteral(\"\")\r\n",
      "\u001B[2m2024-02-23T22:04:17.321506Z\u001B[0m \u001B[32m INFO\u001B[0m \u001B[2mtest\u001B[0m\u001B[2m:\u001B[0m input=Integer(-4033946417666385562)\r\n",
      "\u001B[2m2024-02-23T22:04:17.321580Z\u001B[0m \u001B[32m INFO\u001B[0m \u001B[2mtest\u001B[0m\u001B[2m:\u001B[0m input=Comment(\"Qt>>@IP**\")\r\n",
      "\u001B[2m2024-02-23T22:04:17.321678Z\u001B[0m \u001B[32m INFO\u001B[0m \u001B[2mtest\u001B[0m\u001B[2m:\u001B[0m input=Identifier(\"tMa2S16GU3X9f2wRXoP4cpz9\")\r\n",
      "\u001B[2m2024-02-23T22:04:17.321757Z\u001B[0m \u001B[32m INFO\u001B[0m \u001B[2mtest\u001B[0m\u001B[2m:\u001B[0m input=Comment(\")v\")\r\n",
      "\u001B[2m2024-02-23T22:04:17.321875Z\u001B[0m \u001B[32m INFO\u001B[0m \u001B[2mtest\u001B[0m\u001B[2m:\u001B[0m input=StringLiteral(\"c,<.&(YXe8\")\r\n",
      "\u001B[2m2024-02-23T22:04:17.321950Z\u001B[0m \u001B[32m INFO\u001B[0m \u001B[2mtest\u001B[0m\u001B[2m:\u001B[0m input=Integer(4582231991961053223)\r\n",
      "\u001B[2m2024-02-23T22:04:17.322012Z\u001B[0m \u001B[32m INFO\u001B[0m \u001B[2mtest\u001B[0m\u001B[2m:\u001B[0m input=Operator(\"-\")\r\n",
      "\u001B[2m2024-02-23T22:04:17.322122Z\u001B[0m \u001B[32m INFO\u001B[0m \u001B[2mtest\u001B[0m\u001B[2m:\u001B[0m input=Identifier(\"tdohpJ0E2FSOhKUVqaQxx7DZCE\")\r\n",
      "\u001B[2m2024-02-23T22:04:17.322304Z\u001B[0m \u001B[32m INFO\u001B[0m \u001B[2mtest\u001B[0m\u001B[2m:\u001B[0m input=StringLiteral(\"u>&p:B3\")\r\n",
      "\u001B[2m2024-02-23T22:04:17.322376Z\u001B[0m \u001B[32m INFO\u001B[0m \u001B[2mtest\u001B[0m\u001B[2m:\u001B[0m input=Operator(\"*\")\r\n",
      "\u001B[2m2024-02-23T22:04:17.322432Z\u001B[0m \u001B[32m INFO\u001B[0m \u001B[2mtest\u001B[0m\u001B[2m:\u001B[0m input=StringLiteral(\"{`ony]\")\r\n",
      "\u001B[2m2024-02-23T22:04:17.322498Z\u001B[0m \u001B[32m INFO\u001B[0m \u001B[2mtest\u001B[0m\u001B[2m:\u001B[0m input=Comment(\"x:6D-)%lQP7R\")\r\n",
      "\u001B[2m2024-02-23T22:04:17.322547Z\u001B[0m \u001B[32m INFO\u001B[0m \u001B[2mtest\u001B[0m\u001B[2m:\u001B[0m input=Integer(3615354726691534949)\r\n",
      "\u001B[2m2024-02-23T22:04:17.322617Z\u001B[0m \u001B[32m INFO\u001B[0m \u001B[2mtest\u001B[0m\u001B[2m:\u001B[0m input=StringLiteral(\"k$@,Of.lH 2Q$a<\")\r\n",
      "\u001B[2m2024-02-23T22:04:17.322687Z\u001B[0m \u001B[32m INFO\u001B[0m \u001B[2mtest\u001B[0m\u001B[2m:\u001B[0m input=Identifier(\"ierfUXWz5v19ds8\")\r\n",
      "\u001B[2m2024-02-23T22:04:17.322739Z\u001B[0m \u001B[32m INFO\u001B[0m \u001B[2mtest\u001B[0m\u001B[2m:\u001B[0m input=Integer(-5490711232807115104)\r\n",
      "\u001B[2m2024-02-23T22:04:17.322820Z\u001B[0m \u001B[32m INFO\u001B[0m \u001B[2mtest\u001B[0m\u001B[2m:\u001B[0m input=StringLiteral(\"J?/)bKw.n9&Aia.1D%&' \")\r\n",
      "\u001B[2m2024-02-23T22:04:17.322917Z\u001B[0m \u001B[32m INFO\u001B[0m \u001B[2mtest\u001B[0m\u001B[2m:\u001B[0m input=StringLiteral(\"%Tx)$%%e<8\")\r\n",
      "\u001B[2m2024-02-23T22:04:17.322980Z\u001B[0m \u001B[32m INFO\u001B[0m \u001B[2mtest\u001B[0m\u001B[2m:\u001B[0m input=Operator(\"(\")\r\n",
      "\u001B[2m2024-02-23T22:04:17.323060Z\u001B[0m \u001B[32m INFO\u001B[0m \u001B[2mtest\u001B[0m\u001B[2m:\u001B[0m input=Identifier(\"xk1BjaU9liWcKjjCCMf2CMEHsN03\")\r\n",
      "\u001B[2m2024-02-23T22:04:17.323121Z\u001B[0m \u001B[32m INFO\u001B[0m \u001B[2mtest\u001B[0m\u001B[2m:\u001B[0m input=Operator(\"=\")\r\n",
      "\u001B[2m2024-02-23T22:04:17.323185Z\u001B[0m \u001B[32m INFO\u001B[0m \u001B[2mtest\u001B[0m\u001B[2m:\u001B[0m input=Comment(\"{'Z:i5t%mTE\")\r\n",
      "\u001B[2m2024-02-23T22:04:17.323275Z\u001B[0m \u001B[32m INFO\u001B[0m \u001B[2mtest\u001B[0m\u001B[2m:\u001B[0m input=StringLiteral(\"&~S xY>q`EO:87n?;^iQ/<9%s\")\r\n",
      "\u001B[2m2024-02-23T22:04:17.323366Z\u001B[0m \u001B[32m INFO\u001B[0m \u001B[2mtest\u001B[0m\u001B[2m:\u001B[0m input=StringLiteral(\"P#:P*GC@'~`M</w.<`<TnWw?QEF8}\")\r\n",
      "\u001B[2m2024-02-23T22:04:17.323422Z\u001B[0m \u001B[32m INFO\u001B[0m \u001B[2mtest\u001B[0m\u001B[2m:\u001B[0m input=Integer(5708504027587356557)\r\n",
      "\u001B[2m2024-02-23T22:04:17.323470Z\u001B[0m \u001B[32m INFO\u001B[0m \u001B[2mtest\u001B[0m\u001B[2m:\u001B[0m input=Operator(\"-\")\r\n",
      "\u001B[2m2024-02-23T22:04:17.323515Z\u001B[0m \u001B[32m INFO\u001B[0m \u001B[2mtest\u001B[0m\u001B[2m:\u001B[0m input=Operator(\"*\")\r\n",
      "\u001B[2m2024-02-23T22:04:17.323569Z\u001B[0m \u001B[32m INFO\u001B[0m \u001B[2mtest\u001B[0m\u001B[2m:\u001B[0m input=Operator(\"/\")\r\n",
      "\u001B[2m2024-02-23T22:04:17.323612Z\u001B[0m \u001B[32m INFO\u001B[0m \u001B[2mtest\u001B[0m\u001B[2m:\u001B[0m input=Operator(\"+\")\r\n",
      "\u001B[2m2024-02-23T22:04:17.323659Z\u001B[0m \u001B[32m INFO\u001B[0m \u001B[2mtest\u001B[0m\u001B[2m:\u001B[0m input=Integer(2885454300765820593)\r\n",
      "\u001B[2m2024-02-23T22:04:17.323739Z\u001B[0m \u001B[32m INFO\u001B[0m \u001B[2mtest\u001B[0m\u001B[2m:\u001B[0m input=Identifier(\"v97spf0Wj45I28Y9pJlvbhulJ777M6S73\")\r\n",
      "\u001B[2m2024-02-23T22:04:17.323797Z\u001B[0m \u001B[32m INFO\u001B[0m \u001B[2mtest\u001B[0m\u001B[2m:\u001B[0m input=Integer(-3141324709644964869)\r\n",
      "\u001B[2m2024-02-23T22:04:17.323884Z\u001B[0m \u001B[32m INFO\u001B[0m \u001B[2mtest\u001B[0m\u001B[2m:\u001B[0m input=Operator(\"-\")\r\n",
      "\u001B[2m2024-02-23T22:04:17.323943Z\u001B[0m \u001B[32m INFO\u001B[0m \u001B[2mtest\u001B[0m\u001B[2m:\u001B[0m input=Integer(-3797251038172937317)\r\n",
      "\u001B[2m2024-02-23T22:04:17.324000Z\u001B[0m \u001B[32m INFO\u001B[0m \u001B[2mtest\u001B[0m\u001B[2m:\u001B[0m input=Operator(\"(\")\r\n",
      "\u001B[2m2024-02-23T22:04:17.324055Z\u001B[0m \u001B[32m INFO\u001B[0m \u001B[2mtest\u001B[0m\u001B[2m:\u001B[0m input=Comment(\"[`*\")\r\n",
      "\u001B[2m2024-02-23T22:04:17.324108Z\u001B[0m \u001B[32m INFO\u001B[0m \u001B[2mtest\u001B[0m\u001B[2m:\u001B[0m input=Comment(\"yt0|8?6\")\r\n",
      "\u001B[2m2024-02-23T22:04:17.324308Z\u001B[0m \u001B[32m INFO\u001B[0m \u001B[2mtest\u001B[0m\u001B[2m:\u001B[0m input=Comment(\"$~?M$r(e%\\\"-?g\")\r\n",
      "\u001B[2m2024-02-23T22:04:17.324384Z\u001B[0m \u001B[32m INFO\u001B[0m \u001B[2mtest\u001B[0m\u001B[2m:\u001B[0m input=Operator(\"+\")\r\n",
      "\u001B[2m2024-02-23T22:04:17.324443Z\u001B[0m \u001B[32m INFO\u001B[0m \u001B[2mtest\u001B[0m\u001B[2m:\u001B[0m input=Comment(\"`PVt%<E\\\\\")\r\n",
      "\u001B[2m2024-02-23T22:04:17.324526Z\u001B[0m \u001B[32m INFO\u001B[0m \u001B[2mtest\u001B[0m\u001B[2m:\u001B[0m input=Identifier(\"ARQCXq4QGfYfbS39r9uo\")\r\n",
      "\u001B[2m2024-02-23T22:04:17.324623Z\u001B[0m \u001B[32m INFO\u001B[0m \u001B[2mtest\u001B[0m\u001B[2m:\u001B[0m input=StringLiteral(\")m#`'.b@:8B&4hbx:fbjYE&R^&\")\r\n",
      "\u001B[2m2024-02-23T22:04:17.324742Z\u001B[0m \u001B[32m INFO\u001B[0m \u001B[2mtest\u001B[0m\u001B[2m:\u001B[0m input=StringLiteral(\"_$'RSk=J:$Bo=]<@(ZAc\")\r\n",
      "\u001B[2m2024-02-23T22:04:17.324810Z\u001B[0m \u001B[32m INFO\u001B[0m \u001B[2mtest\u001B[0m\u001B[2m:\u001B[0m input=Operator(\"(\")\r\n",
      "\u001B[2m2024-02-23T22:04:17.324864Z\u001B[0m \u001B[32m INFO\u001B[0m \u001B[2mtest\u001B[0m\u001B[2m:\u001B[0m input=Operator(\"-\")\r\n",
      "\u001B[2m2024-02-23T22:04:17.324932Z\u001B[0m \u001B[32m INFO\u001B[0m \u001B[2mtest\u001B[0m\u001B[2m:\u001B[0m input=Integer(3652451280847377407)\r\n",
      "\u001B[2m2024-02-23T22:04:17.325025Z\u001B[0m \u001B[32m INFO\u001B[0m \u001B[2mtest\u001B[0m\u001B[2m:\u001B[0m input=Identifier(\"WdKzSd1P2d6G4gv3rVF0q\")\r\n",
      "\u001B[2m2024-02-23T22:04:17.325082Z\u001B[0m \u001B[32m INFO\u001B[0m \u001B[2mtest\u001B[0m\u001B[2m:\u001B[0m input=Integer(-429091812541536891)\r\n",
      "\u001B[2m2024-02-23T22:04:17.325130Z\u001B[0m \u001B[32m INFO\u001B[0m \u001B[2mtest\u001B[0m\u001B[2m:\u001B[0m input=Comment(\"\")\r\n",
      "\u001B[2m2024-02-23T22:04:17.325187Z\u001B[0m \u001B[32m INFO\u001B[0m \u001B[2mtest\u001B[0m\u001B[2m:\u001B[0m input=Operator(\"=\")\r\n",
      "\u001B[2m2024-02-23T22:04:17.325240Z\u001B[0m \u001B[32m INFO\u001B[0m \u001B[2mtest\u001B[0m\u001B[2m:\u001B[0m input=Integer(7245973932891782755)\r\n",
      "\u001B[2m2024-02-23T22:04:17.325288Z\u001B[0m \u001B[32m INFO\u001B[0m \u001B[2mtest\u001B[0m\u001B[2m:\u001B[0m input=Integer(419020077477817198)\r\n",
      "\u001B[2m2024-02-23T22:04:17.325329Z\u001B[0m \u001B[32m INFO\u001B[0m \u001B[2mtest\u001B[0m\u001B[2m:\u001B[0m input=Integer(4292370502416071339)\r\n",
      "\u001B[2m2024-02-23T22:04:17.325400Z\u001B[0m \u001B[32m INFO\u001B[0m \u001B[2mtest\u001B[0m\u001B[2m:\u001B[0m input=Identifier(\"HPq1Gxn1GA27a4722\")\r\n",
      "\u001B[2m2024-02-23T22:04:17.325484Z\u001B[0m \u001B[32m INFO\u001B[0m \u001B[2mtest\u001B[0m\u001B[2m:\u001B[0m input=StringLiteral(\"Z<5wvJ::|.b6VWMsf\")\r\n",
      "\u001B[2m2024-02-23T22:04:17.325580Z\u001B[0m \u001B[32m INFO\u001B[0m \u001B[2mtest\u001B[0m\u001B[2m:\u001B[0m input=Comment(\"vn}u=<@}<./'lP'gtbh<BGV\\\\\")\r\n",
      "\u001B[2m2024-02-23T22:04:17.325673Z\u001B[0m \u001B[32m INFO\u001B[0m \u001B[2mtest\u001B[0m\u001B[2m:\u001B[0m input=Identifier(\"s5QMi8R785DN0i3nL835F5FK6fLitUXd\")\r\n",
      "\u001B[2m2024-02-23T22:04:17.325775Z\u001B[0m \u001B[32m INFO\u001B[0m \u001B[2mtest\u001B[0m\u001B[2m:\u001B[0m input=StringLiteral(\"Z4{vn1xE%&8fuG-}<4s1Yo#.-icO{\")\r\n",
      "\u001B[2m2024-02-23T22:04:17.325848Z\u001B[0m \u001B[32m INFO\u001B[0m \u001B[2mtest\u001B[0m\u001B[2m:\u001B[0m input=Integer(-7359191297600360320)\r\n",
      "\u001B[2m2024-02-23T22:04:17.325978Z\u001B[0m \u001B[32m INFO\u001B[0m \u001B[2mtest\u001B[0m\u001B[2m:\u001B[0m input=StringLiteral(\"Z>z_*V]={,?w&<&XxW:x{J'T[g<\")\r\n",
      "\u001B[2m2024-02-23T22:04:17.326052Z\u001B[0m \u001B[32m INFO\u001B[0m \u001B[2mtest\u001B[0m\u001B[2m:\u001B[0m input=StringLiteral(\"`?(\")\r\n",
      "\u001B[2m2024-02-23T22:04:17.326097Z\u001B[0m \u001B[32m INFO\u001B[0m \u001B[2mtest\u001B[0m\u001B[2m:\u001B[0m input=Integer(-7564107295169630875)\r\n",
      "\u001B[2m2024-02-23T22:04:17.326156Z\u001B[0m \u001B[32m INFO\u001B[0m \u001B[2mtest\u001B[0m\u001B[2m:\u001B[0m input=Operator(\"(\")\r\n",
      "\u001B[2m2024-02-23T22:04:17.326213Z\u001B[0m \u001B[32m INFO\u001B[0m \u001B[2mtest\u001B[0m\u001B[2m:\u001B[0m input=Operator(\"(\")\r\n",
      "\u001B[2m2024-02-23T22:04:17.326303Z\u001B[0m \u001B[32m INFO\u001B[0m \u001B[2mtest\u001B[0m\u001B[2m:\u001B[0m input=StringLiteral(\"Ozm_%}Fbw=q'*/_`aM`;z<C*bF8\")\r\n",
      "\u001B[2m2024-02-23T22:04:17.326376Z\u001B[0m \u001B[32m INFO\u001B[0m \u001B[2mtest\u001B[0m\u001B[2m:\u001B[0m input=Comment(\"8Z?]bLv\")\r\n",
      "test prop_parse_format_idempotent ... ok\r\n",
      "test adding_and_then_removing_an_item_from_the_cart_leaves_the_cart_unchanged ... ok\r\n",
      "\r\n",
      "test result: ok. 3 passed; 0 failed; 0 ignored; 0 measured; 0 filtered out; finished in 0.25s\r\n",
      "\r\n"
     ]
    }
   ],
   "source": [
    "$env:RUST_LOG=\"info\"\n",
    "{ cargo test --release } | Invoke-Block"
   ]
  },
  {
   "cell_type": "code",
   "execution_count": null,
   "metadata": {
    "dotnet_interactive": {
     "language": "pwsh"
    },
    "polyglot_notebook": {
     "kernelName": "pwsh"
    }
   },
   "outputs": [
    {
     "name": "stdout",
     "output_type": "stream",
     "text": [
      "app=test\r\n"
     ]
    }
   ],
   "source": [
    "{ . $ScriptDir/../../../../target/release/test$(GetExecutableSuffix) } | Invoke-Block"
   ]
  }
 ],
 "metadata": {},
 "nbformat": 4,
 "nbformat_minor": 5
}