{
 "cells": [
  {
   "cell_type": "markdown",
   "metadata": {},
   "source": [
    "## Physics (Polyglot)"
   ]
  },
  {
   "cell_type": "code",
   "execution_count": null,
   "metadata": {
    "dotnet_interactive": {
     "language": "fsharp"
    },
    "polyglot_notebook": {
     "kernelName": "fsharp"
    }
   },
   "outputs": [],
   "source": [
    "#!import ../nbs/Plotting.dib"
   ]
  },
  {
   "cell_type": "code",
   "execution_count": null,
   "metadata": {
    "dotnet_interactive": {
     "language": "spiral"
    },
    "polyglot_notebook": {
     "kernelName": "spiral"
    }
   },
   "outputs": [
    {
     "name": "stdout",
     "output_type": "stream",
     "text": [
      "()\n",
      "\r\n"
     ]
    }
   ],
   "source": [
    "// // test\n",
    "\n",
    "inl _almost_equal b a =\n",
    "    assert (abs (b - a) < 0.00000001) $\"$\\\"_almost_equal / actual: {!a} / expected: {!b}\\\"\"\n",
    "\n",
    "inl _equal b a =\n",
    "    assert (a = b) $\"$\\\"_equal / actual: {!a} / expected: {!b}\\\"\"\n",
    "\n",
    "inl _is_less_than b a =\n",
    "    assert (b < a) $\"$\\\"_is_less_than / actual: {!a} / expected: {!b}\\\"\"\n",
    "\n",
    "inl _is_less_than_or_equal b a =\n",
    "    assert (b <= a) $\"$\\\"_is_less_than_or_equal / actual: {!a} / expected: {!b}\\\"\""
   ]
  },
  {
   "cell_type": "code",
   "execution_count": null,
   "metadata": {
    "dotnet_interactive": {
     "language": "spiral"
    },
    "polyglot_notebook": {
     "kernelName": "spiral"
    }
   },
   "outputs": [
    {
     "name": "stdout",
     "output_type": "stream",
     "text": [
      "()\n",
      "\r\n"
     ]
    }
   ],
   "source": [
    "inl init_series start end inc =\n",
    "    inl total = conv ((end - start) / inc) + 1\n",
    "    am.init total (conv >> (*) inc >> (+) start) : a i32 f64"
   ]
  },
  {
   "cell_type": "code",
   "execution_count": null,
   "metadata": {
    "dotnet_interactive": {
     "language": "spiral"
    },
    "polyglot_notebook": {
     "kernelName": "spiral"
    }
   },
   "outputs": [
    {
     "name": "stdout",
     "output_type": "stream",
     "text": [
      "()\n",
      "\r\n"
     ]
    }
   ],
   "source": [
    "inl atan2 (y : f64) (x : f64) =\n",
    "    $\"System.Math.Atan2 (!y, !x)\" : f64\n",
    "\n",
    "inl cos (d : f64) =\n",
    "    $\"System.Math.Cos !d\" : f64\n",
    "\n",
    "inl e () =\n",
    "    exp 1f64\n",
    "\n",
    "inl log_base (new_base : f64) (a : f64) =\n",
    "    $\"System.Math.Log (!a, !new_base)\" : f64\n",
    "\n",
    "inl pi () =\n",
    "    $\"System.Math.PI\" : f64\n",
    "\n",
    "inl sin (d : f64) =\n",
    "    $\"System.Math.Sin !d\" : f64\n",
    "\n",
    "inl square x =\n",
    "    x ** 2"
   ]
  },
  {
   "cell_type": "code",
   "execution_count": null,
   "metadata": {
    "dotnet_interactive": {
     "language": "spiral"
    },
    "polyglot_notebook": {
     "kernelName": "spiral"
    }
   },
   "outputs": [
    {
     "name": "stdout",
     "output_type": "stream",
     "text": [
      "let rec method0 () : unit =\n",
      "    let v0 : string = $\"_almost_equal / actual: {3.1622776601683795} / expected: {3.1622776601683795}\"\n",
      "    ()\n",
      "method0()\n",
      "\r\n"
     ]
    }
   ],
   "source": [
    "// // test\n",
    "\n",
    "2 * 2 / 0.4f64 |> sqrt\n",
    "|> _almost_equal 3.1622776601683795"
   ]
  },
  {
   "cell_type": "code",
   "execution_count": null,
   "metadata": {
    "dotnet_interactive": {
     "language": "spiral"
    },
    "polyglot_notebook": {
     "kernelName": "spiral"
    }
   },
   "outputs": [
    {
     "name": "stdout",
     "output_type": "stream",
     "text": [
      "let rec method0 () : unit =\n",
      "    let v0 : string = $\"_almost_equal / actual: {0.6666666666666666} / expected: {0.6666666666666666}\"\n",
      "    ()\n",
      "method0()\n",
      "\r\n"
     ]
    }
   ],
   "source": [
    "// // test\n",
    "\n",
    "2f64 / 3\n",
    "|> _almost_equal 0.6666666666666666"
   ]
  },
  {
   "cell_type": "code",
   "execution_count": null,
   "metadata": {
    "dotnet_interactive": {
     "language": "spiral"
    },
    "polyglot_notebook": {
     "kernelName": "spiral"
    }
   },
   "outputs": [
    {
     "name": "stdout",
     "output_type": "stream",
     "text": [
      "let rec method0 () : unit =\n",
      "    let v0 : string = $\"_almost_equal / actual: {0.6931471805599453} / expected: {0.6931471805599453}\"\n",
      "    ()\n",
      "method0()\n",
      "\r\n"
     ]
    }
   ],
   "source": [
    "// // test\n",
    "\n",
    "2f64 |> log\n",
    "|> _almost_equal 0.6931471805599453"
   ]
  },
  {
   "cell_type": "code",
   "execution_count": null,
   "metadata": {
    "dotnet_interactive": {
     "language": "spiral"
    },
    "polyglot_notebook": {
     "kernelName": "spiral"
    }
   },
   "outputs": [
    {
     "name": "stdout",
     "output_type": "stream",
     "text": [
      "let rec method0 () : unit =\n",
      "    let v0 : float = System.Math.PI\n",
      "    let v1 : float = 3.141592653589793 - v0\n",
      "    let v2 : float =  -v1\n",
      "    let v3 : bool = v1 >= v2\n",
      "    let v4 : float =\n",
      "        if v3 then\n",
      "            v1\n",
      "        else\n",
      "            v2\n",
      "    let v5 : bool = v4 < 1E-08\n",
      "    let v6 : string = $\"_almost_equal / actual: {v0} / expected: {3.141592653589793}\"\n",
      "    let v7 : bool = v5 = false\n",
      "    if v7 then\n",
      "        failwith<unit> v6\n",
      "method0()\n",
      "\r\n"
     ]
    }
   ],
   "source": [
    "// // test\n",
    "\n",
    "pi ()\n",
    "|> _almost_equal 3.141592653589793"
   ]
  },
  {
   "cell_type": "code",
   "execution_count": null,
   "metadata": {
    "dotnet_interactive": {
     "language": "spiral"
    },
    "polyglot_notebook": {
     "kernelName": "spiral"
    }
   },
   "outputs": [
    {
     "name": "stdout",
     "output_type": "stream",
     "text": [
      "let rec method0 () : unit =\n",
      "    let v0 : float = System.Math.PI\n",
      "    let v1 : float = System.Math.Cos v0\n",
      "    let v2 : bool = v1 = -1.0\n",
      "    let v3 : string = $\"_equal / actual: {v1} / expected: {-1.0}\"\n",
      "    let v4 : bool = v2 = false\n",
      "    if v4 then\n",
      "        failwith<unit> v3\n",
      "method0()\n",
      "\r\n"
     ]
    }
   ],
   "source": [
    "// // test\n",
    "\n",
    "pi () |> cos\n",
    "|> _equal -1"
   ]
  },
  {
   "cell_type": "code",
   "execution_count": null,
   "metadata": {
    "dotnet_interactive": {
     "language": "spiral"
    },
    "polyglot_notebook": {
     "kernelName": "spiral"
    }
   },
   "outputs": [
    {
     "name": "stdout",
     "output_type": "stream",
     "text": [
      "let rec method0 () : unit =\n",
      "    let v0 : float = System.Math.PI\n",
      "    let v1 : float = System.Math.Cos v0\n",
      "    let v2 : float = v1 / 2.0\n",
      "    let v3 : float = -0.5 - v2\n",
      "    let v4 : float =  -v3\n",
      "    let v5 : bool = v3 >= v4\n",
      "    let v6 : float =\n",
      "        if v5 then\n",
      "            v3\n",
      "        else\n",
      "            v4\n",
      "    let v7 : bool = v6 < 1E-08\n",
      "    let v8 : string = $\"_almost_equal / actual: {v2} / expected: {-0.5}\"\n",
      "    let v9 : bool = v7 = false\n",
      "    if v9 then\n",
      "        failwith<unit> v8\n",
      "method0()\n",
      "\r\n"
     ]
    }
   ],
   "source": [
    "// // test\n",
    "\n",
    "pi ()\n",
    "|> cos\n",
    "|> fun n => n / 2\n",
    "|> _almost_equal -0.5"
   ]
  },
  {
   "cell_type": "code",
   "execution_count": null,
   "metadata": {
    "dotnet_interactive": {
     "language": "spiral"
    },
    "polyglot_notebook": {
     "kernelName": "spiral"
    }
   },
   "outputs": [
    {
     "name": "stdout",
     "output_type": "stream",
     "text": [
      "let rec method0 () : unit =\n",
      "    let v0 : float = System.Math.PI\n",
      "    let v1 : float = v0 / 2.0\n",
      "    let v2 : float = System.Math.Cos v1\n",
      "    let v3 : float = 6.123233995736766E-17 - v2\n",
      "    let v4 : float =  -v3\n",
      "    let v5 : bool = v3 >= v4\n",
      "    let v6 : float =\n",
      "        if v5 then\n",
      "            v3\n",
      "        else\n",
      "            v4\n",
      "    let v7 : bool = v6 < 1E-08\n",
      "    let v8 : string = $\"_almost_equal / actual: {v2} / expected: {6.123233995736766E-17}\"\n",
      "    let v9 : bool = v7 = false\n",
      "    if v9 then\n",
      "        failwith<unit> v8\n",
      "method0()\n",
      "\r\n"
     ]
    }
   ],
   "source": [
    "// // test\n",
    "\n",
    "pi () / 2 |> cos\n",
    "|> _almost_equal 0.00000000000000006123233995736766"
   ]
  },
  {
   "cell_type": "code",
   "execution_count": null,
   "metadata": {
    "dotnet_interactive": {
     "language": "spiral"
    },
    "polyglot_notebook": {
     "kernelName": "spiral"
    }
   },
   "outputs": [
    {
     "name": "stdout",
     "output_type": "stream",
     "text": [
      "let rec method0 () : unit =\n",
      "    let v0 : float = System.Math.Log (100.0, 10.0)\n",
      "    let v1 : bool = v0 = 2.0\n",
      "    let v2 : string = $\"_equal / actual: {v0} / expected: {2.0}\"\n",
      "    let v3 : bool = v1 = false\n",
      "    if v3 then\n",
      "        failwith<unit> v2\n",
      "method0()\n",
      "\r\n"
     ]
    }
   ],
   "source": [
    "// // test\n",
    "\n",
    "100 |> log_base 10\n",
    "|> _equal 2"
   ]
  },
  {
   "cell_type": "code",
   "execution_count": null,
   "metadata": {
    "dotnet_interactive": {
     "language": "spiral"
    },
    "polyglot_notebook": {
     "kernelName": "spiral"
    }
   },
   "outputs": [
    {
     "name": "stdout",
     "output_type": "stream",
     "text": [
      "let rec method0 () : unit =\n",
      "    let v0 : float = System.Math.Atan2 (1.0, 0.0)\n",
      "    let v1 : bool = v0 = 1.5707963267948966\n",
      "    let v2 : string = $\"_equal / actual: {v0} / expected: {1.5707963267948966}\"\n",
      "    let v3 : bool = v1 = false\n",
      "    if v3 then\n",
      "        failwith<unit> v2\n",
      "method0()\n",
      "\r\n"
     ]
    }
   ],
   "source": [
    "// // test\n",
    "\n",
    "0 |> atan2 1\n",
    "|> _equal 1.5707963267948966"
   ]
  },
  {
   "cell_type": "code",
   "execution_count": null,
   "metadata": {
    "dotnet_interactive": {
     "language": "spiral"
    },
    "polyglot_notebook": {
     "kernelName": "spiral"
    }
   },
   "outputs": [
    {
     "name": "stdout",
     "output_type": "stream",
     "text": [
      "let rec method0 () : unit =\n",
      "    let v0 : string = $\"_almost_equal / actual: {5.000000000000001} / expected: {5.0}\"\n",
      "    ()\n",
      "method0()\n",
      "\r\n"
     ]
    }
   ],
   "source": [
    "// // test\n",
    "\n",
    "5f64\n",
    "|> sqrt\n",
    "|> square\n",
    "|> _almost_equal 5"
   ]
  },
  {
   "cell_type": "code",
   "execution_count": null,
   "metadata": {
    "dotnet_interactive": {
     "language": "spiral"
    },
    "polyglot_notebook": {
     "kernelName": "spiral"
    }
   },
   "outputs": [
    {
     "name": "stdout",
     "output_type": "stream",
     "text": [
      "let rec method0 () : unit =\n",
      "    let v0 : string = $\"_almost_equal / actual: {7.3890560989306495} / expected: {7.3890560989306495}\"\n",
      "    ()\n",
      "method0()\n",
      "\r\n"
     ]
    }
   ],
   "source": [
    "// // test\n",
    "\n",
    "e () |> square\n",
    "|> _almost_equal 7.3890560989306495"
   ]
  },
  {
   "cell_type": "code",
   "execution_count": null,
   "metadata": {
    "dotnet_interactive": {
     "language": "spiral"
    },
    "polyglot_notebook": {
     "kernelName": "spiral"
    }
   },
   "outputs": [
    {
     "data": {
      "text/html": [
       "<svg width=\"640\" height=\"480\" viewBox=\"0 0 640 480\" xmlns=\"http://www.w3.org/2000/svg\">\n",
       "<rect x=\"0\" y=\"0\" width=\"640\" height=\"480\" opacity=\"1\" fill=\"#141414\" stroke=\"none\"/>\n",
       "<text x=\"320\" y=\"10\" dy=\"0.76em\" text-anchor=\"middle\" font-family=\"sans-serif\" font-size=\"9.67741935483871\" opacity=\"1\" fill=\"#FFFFFF\">\n",
       "square\n",
       "</text>\n",
       "<line opacity=\"1\" stroke=\"#323232\" stroke-width=\"1\" x1=\"55\" y1=\"424\" x2=\"55\" y2=\"75\"/>\n",
       "<line opacity=\"1\" stroke=\"#323232\" stroke-width=\"1\" x1=\"63\" y1=\"424\" x2=\"63\" y2=\"75\"/>\n",
       "<line opacity=\"1\" stroke=\"#323232\" stroke-width=\"1\" x1=\"72\" y1=\"424\" x2=\"72\" y2=\"75\"/>\n",
       "<line opacity=\"1\" stroke=\"#323232\" stroke-width=\"1\" x1=\"81\" y1=\"424\" x2=\"81\" y2=\"75\"/>\n",
       "<line opacity=\"1\" stroke=\"#323232\" stroke-width=\"1\" x1=\"90\" y1=\"424\" x2=\"90\" y2=\"75\"/>\n",
       "<line opacity=\"1\" stroke=\"#323232\" stroke-width=\"1\" x1=\"99\" y1=\"424\" x2=\"99\" y2=\"75\"/>\n",
       "<line opacity=\"1\" stroke=\"#323232\" stroke-width=\"1\" x1=\"107\" y1=\"424\" x2=\"107\" y2=\"75\"/>\n",
       "<line opacity=\"1\" stroke=\"#323232\" stroke-width=\"1\" x1=\"116\" y1=\"424\" x2=\"116\" y2=\"75\"/>\n",
       "<line opacity=\"1\" stroke=\"#323232\" stroke-width=\"1\" x1=\"125\" y1=\"424\" x2=\"125\" y2=\"75\"/>\n",
       "<line opacity=\"1\" stroke=\"#323232\" stroke-width=\"1\" x1=\"134\" y1=\"424\" x2=\"134\" y2=\"75\"/>\n",
       "<line opacity=\"1\" stroke=\"#323232\" stroke-width=\"1\" x1=\"143\" y1=\"424\" x2=\"143\" y2=\"75\"/>\n",
       "<line opacity=\"1\" stroke=\"#323232\" stroke-width=\"1\" x1=\"151\" y1=\"424\" x2=\"151\" y2=\"75\"/>\n",
       "<line opacity=\"1\" stroke=\"#323232\" stroke-width=\"1\" x1=\"160\" y1=\"424\" x2=\"160\" y2=\"75\"/>\n",
       "<line opacity=\"1\" stroke=\"#323232\" stroke-width=\"1\" x1=\"169\" y1=\"424\" x2=\"169\" y2=\"75\"/>\n",
       "<line opacity=\"1\" stroke=\"#323232\" stroke-width=\"1\" x1=\"178\" y1=\"424\" x2=\"178\" y2=\"75\"/>\n",
       "<line opacity=\"1\" stroke=\"#323232\" stroke-width=\"1\" x1=\"187\" y1=\"424\" x2=\"187\" y2=\"75\"/>\n",
       "<line opacity=\"1\" stroke=\"#323232\" stroke-width=\"1\" x1=\"196\" y1=\"424\" x2=\"196\" y2=\"75\"/>\n",
       "<line opacity=\"1\" stroke=\"#323232\" stroke-width=\"1\" x1=\"204\" y1=\"424\" x2=\"204\" y2=\"75\"/>\n",
       "<line opacity=\"1\" stroke=\"#323232\" stroke-width=\"1\" x1=\"213\" y1=\"424\" x2=\"213\" y2=\"75\"/>\n",
       "<line opacity=\"1\" stroke=\"#323232\" stroke-width=\"1\" x1=\"222\" y1=\"424\" x2=\"222\" y2=\"75\"/>\n",
       "<line opacity=\"1\" stroke=\"#323232\" stroke-width=\"1\" x1=\"231\" y1=\"424\" x2=\"231\" y2=\"75\"/>\n",
       "<line opacity=\"1\" stroke=\"#323232\" stroke-width=\"1\" x1=\"240\" y1=\"424\" x2=\"240\" y2=\"75\"/>\n",
       "<line opacity=\"1\" stroke=\"#323232\" stroke-width=\"1\" x1=\"248\" y1=\"424\" x2=\"248\" y2=\"75\"/>\n",
       "<line opacity=\"1\" stroke=\"#323232\" stroke-width=\"1\" x1=\"257\" y1=\"424\" x2=\"257\" y2=\"75\"/>\n",
       "<line opacity=\"1\" stroke=\"#323232\" stroke-width=\"1\" x1=\"266\" y1=\"424\" x2=\"266\" y2=\"75\"/>\n",
       "<line opacity=\"1\" stroke=\"#323232\" stroke-width=\"1\" x1=\"275\" y1=\"424\" x2=\"275\" y2=\"75\"/>\n",
       "<line opacity=\"1\" stroke=\"#323232\" stroke-width=\"1\" x1=\"284\" y1=\"424\" x2=\"284\" y2=\"75\"/>\n",
       "<line opacity=\"1\" stroke=\"#323232\" stroke-width=\"1\" x1=\"293\" y1=\"424\" x2=\"293\" y2=\"75\"/>\n",
       "<line opacity=\"1\" stroke=\"#323232\" stroke-width=\"1\" x1=\"301\" y1=\"424\" x2=\"301\" y2=\"75\"/>\n",
       "<line opacity=\"1\" stroke=\"#323232\" stroke-width=\"1\" x1=\"310\" y1=\"424\" x2=\"310\" y2=\"75\"/>\n",
       "<line opacity=\"1\" stroke=\"#323232\" stroke-width=\"1\" x1=\"319\" y1=\"424\" x2=\"319\" y2=\"75\"/>\n",
       "<line opacity=\"1\" stroke=\"#323232\" stroke-width=\"1\" x1=\"328\" y1=\"424\" x2=\"328\" y2=\"75\"/>\n",
       "<line opacity=\"1\" stroke=\"#323232\" stroke-width=\"1\" x1=\"337\" y1=\"424\" x2=\"337\" y2=\"75\"/>\n",
       "<line opacity=\"1\" stroke=\"#323232\" stroke-width=\"1\" x1=\"345\" y1=\"424\" x2=\"345\" y2=\"75\"/>\n",
       "<line opacity=\"1\" stroke=\"#323232\" stroke-width=\"1\" x1=\"354\" y1=\"424\" x2=\"354\" y2=\"75\"/>\n",
       "<line opacity=\"1\" stroke=\"#323232\" stroke-width=\"1\" x1=\"363\" y1=\"424\" x2=\"363\" y2=\"75\"/>\n",
       "<line opacity=\"1\" stroke=\"#323232\" stroke-width=\"1\" x1=\"372\" y1=\"424\" x2=\"372\" y2=\"75\"/>\n",
       "<line opacity=\"1\" stroke=\"#323232\" stroke-width=\"1\" x1=\"381\" y1=\"424\" x2=\"381\" y2=\"75\"/>\n",
       "<line opacity=\"1\" stroke=\"#323232\" stroke-width=\"1\" x1=\"390\" y1=\"424\" x2=\"390\" y2=\"75\"/>\n",
       "<line opacity=\"1\" stroke=\"#323232\" stroke-width=\"1\" x1=\"398\" y1=\"424\" x2=\"398\" y2=\"75\"/>\n",
       "<line opacity=\"1\" stroke=\"#323232\" stroke-width=\"1\" x1=\"407\" y1=\"424\" x2=\"407\" y2=\"75\"/>\n",
       "<line opacity=\"1\" stroke=\"#323232\" stroke-width=\"1\" x1=\"416\" y1=\"424\" x2=\"416\" y2=\"75\"/>\n",
       "<line opacity=\"1\" stroke=\"#323232\" stroke-width=\"1\" x1=\"425\" y1=\"424\" x2=\"425\" y2=\"75\"/>\n",
       "<line opacity=\"1\" stroke=\"#323232\" stroke-width=\"1\" x1=\"434\" y1=\"424\" x2=\"434\" y2=\"75\"/>\n",
       "<line opacity=\"1\" stroke=\"#323232\" stroke-width=\"1\" x1=\"442\" y1=\"424\" x2=\"442\" y2=\"75\"/>\n",
       "<line opacity=\"1\" stroke=\"#323232\" stroke-width=\"1\" x1=\"451\" y1=\"424\" x2=\"451\" y2=\"75\"/>\n",
       "<line opacity=\"1\" stroke=\"#323232\" stroke-width=\"1\" x1=\"460\" y1=\"424\" x2=\"460\" y2=\"75\"/>\n",
       "<line opacity=\"1\" stroke=\"#323232\" stroke-width=\"1\" x1=\"469\" y1=\"424\" x2=\"469\" y2=\"75\"/>\n",
       "<line opacity=\"1\" stroke=\"#323232\" stroke-width=\"1\" x1=\"478\" y1=\"424\" x2=\"478\" y2=\"75\"/>\n",
       "<line opacity=\"1\" stroke=\"#323232\" stroke-width=\"1\" x1=\"487\" y1=\"424\" x2=\"487\" y2=\"75\"/>\n",
       "<line opacity=\"1\" stroke=\"#323232\" stroke-width=\"1\" x1=\"495\" y1=\"424\" x2=\"495\" y2=\"75\"/>\n",
       "<line opacity=\"1\" stroke=\"#323232\" stroke-width=\"1\" x1=\"504\" y1=\"424\" x2=\"504\" y2=\"75\"/>\n",
       "<line opacity=\"1\" stroke=\"#323232\" stroke-width=\"1\" x1=\"513\" y1=\"424\" x2=\"513\" y2=\"75\"/>\n",
       "<line opacity=\"1\" stroke=\"#323232\" stroke-width=\"1\" x1=\"522\" y1=\"424\" x2=\"522\" y2=\"75\"/>\n",
       "<line opacity=\"1\" stroke=\"#323232\" stroke-width=\"1\" x1=\"531\" y1=\"424\" x2=\"531\" y2=\"75\"/>\n",
       "<line opacity=\"1\" stroke=\"#323232\" stroke-width=\"1\" x1=\"539\" y1=\"424\" x2=\"539\" y2=\"75\"/>\n",
       "<line opacity=\"1\" stroke=\"#323232\" stroke-width=\"1\" x1=\"548\" y1=\"424\" x2=\"548\" y2=\"75\"/>\n",
       "<line opacity=\"1\" stroke=\"#323232\" stroke-width=\"1\" x1=\"557\" y1=\"424\" x2=\"557\" y2=\"75\"/>\n",
       "<line opacity=\"1\" stroke=\"#323232\" stroke-width=\"1\" x1=\"566\" y1=\"424\" x2=\"566\" y2=\"75\"/>\n",
       "<line opacity=\"1\" stroke=\"#323232\" stroke-width=\"1\" x1=\"575\" y1=\"424\" x2=\"575\" y2=\"75\"/>\n",
       "<line opacity=\"1\" stroke=\"#323232\" stroke-width=\"1\" x1=\"584\" y1=\"424\" x2=\"584\" y2=\"75\"/>\n",
       "<line opacity=\"1\" stroke=\"#323232\" stroke-width=\"1\" x1=\"55\" y1=\"424\" x2=\"584\" y2=\"424\"/>\n",
       "<line opacity=\"1\" stroke=\"#323232\" stroke-width=\"1\" x1=\"55\" y1=\"405\" x2=\"584\" y2=\"405\"/>\n",
       "<line opacity=\"1\" stroke=\"#323232\" stroke-width=\"1\" x1=\"55\" y1=\"386\" x2=\"584\" y2=\"386\"/>\n",
       "<line opacity=\"1\" stroke=\"#323232\" stroke-width=\"1\" x1=\"55\" y1=\"366\" x2=\"584\" y2=\"366\"/>\n",
       "<line opacity=\"1\" stroke=\"#323232\" stroke-width=\"1\" x1=\"55\" y1=\"347\" x2=\"584\" y2=\"347\"/>\n",
       "<line opacity=\"1\" stroke=\"#323232\" stroke-width=\"1\" x1=\"55\" y1=\"328\" x2=\"584\" y2=\"328\"/>\n",
       "<line opacity=\"1\" stroke=\"#323232\" stroke-width=\"1\" x1=\"55\" y1=\"308\" x2=\"584\" y2=\"308\"/>\n",
       "<line opacity=\"1\" stroke=\"#323232\" stroke-width=\"1\" x1=\"55\" y1=\"289\" x2=\"584\" y2=\"289\"/>\n",
       "<line opacity=\"1\" stroke=\"#323232\" stroke-width=\"1\" x1=\"55\" y1=\"269\" x2=\"584\" y2=\"269\"/>\n",
       "<line opacity=\"1\" stroke=\"#323232\" stroke-width=\"1\" x1=\"55\" y1=\"250\" x2=\"584\" y2=\"250\"/>\n",
       "<line opacity=\"1\" stroke=\"#323232\" stroke-width=\"1\" x1=\"55\" y1=\"231\" x2=\"584\" y2=\"231\"/>\n",
       "<line opacity=\"1\" stroke=\"#323232\" stroke-width=\"1\" x1=\"55\" y1=\"211\" x2=\"584\" y2=\"211\"/>\n",
       "<line opacity=\"1\" stroke=\"#323232\" stroke-width=\"1\" x1=\"55\" y1=\"192\" x2=\"584\" y2=\"192\"/>\n",
       "<line opacity=\"1\" stroke=\"#323232\" stroke-width=\"1\" x1=\"55\" y1=\"172\" x2=\"584\" y2=\"172\"/>\n",
       "<line opacity=\"1\" stroke=\"#323232\" stroke-width=\"1\" x1=\"55\" y1=\"153\" x2=\"584\" y2=\"153\"/>\n",
       "<line opacity=\"1\" stroke=\"#323232\" stroke-width=\"1\" x1=\"55\" y1=\"134\" x2=\"584\" y2=\"134\"/>\n",
       "<line opacity=\"1\" stroke=\"#323232\" stroke-width=\"1\" x1=\"55\" y1=\"114\" x2=\"584\" y2=\"114\"/>\n",
       "<line opacity=\"1\" stroke=\"#323232\" stroke-width=\"1\" x1=\"55\" y1=\"95\" x2=\"584\" y2=\"95\"/>\n",
       "<line opacity=\"1\" stroke=\"#323232\" stroke-width=\"1\" x1=\"55\" y1=\"75\" x2=\"584\" y2=\"75\"/>\n",
       "<text x=\"320\" y=\"25\" dy=\"0.76em\" text-anchor=\"middle\" font-family=\"sans-serif\" font-size=\"9.67741935483871\" opacity=\"1\" fill=\"#FFFFFF\">\n",
       "x\n",
       "</text>\n",
       "<text x=\"5\" y=\"250\" dy=\"0.76em\" text-anchor=\"middle\" font-family=\"sans-serif\" font-size=\"9.67741935483871\" opacity=\"1\" fill=\"#FFFFFF\" transform=\"rotate(270, 5, 250)\">\n",
       "y\n",
       "</text>\n",
       "<text x=\"320\" y=\"475\" dy=\"-0.5ex\" text-anchor=\"middle\" font-family=\"sans-serif\" font-size=\"9.67741935483871\" opacity=\"1\" fill=\"#FFFFFF\">\n",
       "x\n",
       "</text>\n",
       "<text x=\"635\" y=\"250\" dy=\"0.76em\" text-anchor=\"middle\" font-family=\"sans-serif\" font-size=\"9.67741935483871\" opacity=\"1\" fill=\"#FFFFFF\" transform=\"rotate(90, 635, 250)\">\n",
       "y\n",
       "</text>\n",
       "<line opacity=\"1\" stroke=\"#5A5A5A\" stroke-width=\"1\" x1=\"55\" y1=\"424\" x2=\"55\" y2=\"75\"/>\n",
       "<line opacity=\"1\" stroke=\"#5A5A5A\" stroke-width=\"1\" x1=\"99\" y1=\"424\" x2=\"99\" y2=\"75\"/>\n",
       "<line opacity=\"1\" stroke=\"#5A5A5A\" stroke-width=\"1\" x1=\"143\" y1=\"424\" x2=\"143\" y2=\"75\"/>\n",
       "<line opacity=\"1\" stroke=\"#5A5A5A\" stroke-width=\"1\" x1=\"187\" y1=\"424\" x2=\"187\" y2=\"75\"/>\n",
       "<line opacity=\"1\" stroke=\"#5A5A5A\" stroke-width=\"1\" x1=\"231\" y1=\"424\" x2=\"231\" y2=\"75\"/>\n",
       "<line opacity=\"1\" stroke=\"#5A5A5A\" stroke-width=\"1\" x1=\"275\" y1=\"424\" x2=\"275\" y2=\"75\"/>\n",
       "<line opacity=\"1\" stroke=\"#5A5A5A\" stroke-width=\"1\" x1=\"319\" y1=\"424\" x2=\"319\" y2=\"75\"/>\n",
       "<line opacity=\"1\" stroke=\"#5A5A5A\" stroke-width=\"1\" x1=\"363\" y1=\"424\" x2=\"363\" y2=\"75\"/>\n",
       "<line opacity=\"1\" stroke=\"#5A5A5A\" stroke-width=\"1\" x1=\"407\" y1=\"424\" x2=\"407\" y2=\"75\"/>\n",
       "<line opacity=\"1\" stroke=\"#5A5A5A\" stroke-width=\"1\" x1=\"451\" y1=\"424\" x2=\"451\" y2=\"75\"/>\n",
       "<line opacity=\"1\" stroke=\"#5A5A5A\" stroke-width=\"1\" x1=\"495\" y1=\"424\" x2=\"495\" y2=\"75\"/>\n",
       "<line opacity=\"1\" stroke=\"#5A5A5A\" stroke-width=\"1\" x1=\"539\" y1=\"424\" x2=\"539\" y2=\"75\"/>\n",
       "<line opacity=\"1\" stroke=\"#5A5A5A\" stroke-width=\"1\" x1=\"584\" y1=\"424\" x2=\"584\" y2=\"75\"/>\n",
       "<line opacity=\"1\" stroke=\"#5A5A5A\" stroke-width=\"1\" x1=\"55\" y1=\"424\" x2=\"584\" y2=\"424\"/>\n",
       "<line opacity=\"1\" stroke=\"#5A5A5A\" stroke-width=\"1\" x1=\"55\" y1=\"386\" x2=\"584\" y2=\"386\"/>\n",
       "<line opacity=\"1\" stroke=\"#5A5A5A\" stroke-width=\"1\" x1=\"55\" y1=\"347\" x2=\"584\" y2=\"347\"/>\n",
       "<line opacity=\"1\" stroke=\"#5A5A5A\" stroke-width=\"1\" x1=\"55\" y1=\"308\" x2=\"584\" y2=\"308\"/>\n",
       "<line opacity=\"1\" stroke=\"#5A5A5A\" stroke-width=\"1\" x1=\"55\" y1=\"269\" x2=\"584\" y2=\"269\"/>\n",
       "<line opacity=\"1\" stroke=\"#5A5A5A\" stroke-width=\"1\" x1=\"55\" y1=\"231\" x2=\"584\" y2=\"231\"/>\n",
       "<line opacity=\"1\" stroke=\"#5A5A5A\" stroke-width=\"1\" x1=\"55\" y1=\"192\" x2=\"584\" y2=\"192\"/>\n",
       "<line opacity=\"1\" stroke=\"#5A5A5A\" stroke-width=\"1\" x1=\"55\" y1=\"153\" x2=\"584\" y2=\"153\"/>\n",
       "<line opacity=\"1\" stroke=\"#5A5A5A\" stroke-width=\"1\" x1=\"55\" y1=\"114\" x2=\"584\" y2=\"114\"/>\n",
       "<line opacity=\"1\" stroke=\"#5A5A5A\" stroke-width=\"1\" x1=\"55\" y1=\"75\" x2=\"584\" y2=\"75\"/>\n",
       "<polyline fill=\"none\" opacity=\"1\" stroke=\"#FFFFFF\" stroke-width=\"1\" points=\"55,74 584,74 \"/>\n",
       "<text x=\"55\" y=\"65\" dy=\"-0.5ex\" text-anchor=\"middle\" font-family=\"sans-serif\" font-size=\"9.67741935483871\" opacity=\"1\" fill=\"#FFFFFF\">\n",
       "-3.0\n",
       "</text>\n",
       "<polyline fill=\"none\" opacity=\"1\" stroke=\"#FFFFFF\" stroke-width=\"1\" points=\"55,69 55,74 \"/>\n",
       "<text x=\"99\" y=\"65\" dy=\"-0.5ex\" text-anchor=\"middle\" font-family=\"sans-serif\" font-size=\"9.67741935483871\" opacity=\"1\" fill=\"#FFFFFF\">\n",
       "-2.5\n",
       "</text>\n",
       "<polyline fill=\"none\" opacity=\"1\" stroke=\"#FFFFFF\" stroke-width=\"1\" points=\"99,69 99,74 \"/>\n",
       "<text x=\"143\" y=\"65\" dy=\"-0.5ex\" text-anchor=\"middle\" font-family=\"sans-serif\" font-size=\"9.67741935483871\" opacity=\"1\" fill=\"#FFFFFF\">\n",
       "-2.0\n",
       "</text>\n",
       "<polyline fill=\"none\" opacity=\"1\" stroke=\"#FFFFFF\" stroke-width=\"1\" points=\"143,69 143,74 \"/>\n",
       "<text x=\"187\" y=\"65\" dy=\"-0.5ex\" text-anchor=\"middle\" font-family=\"sans-serif\" font-size=\"9.67741935483871\" opacity=\"1\" fill=\"#FFFFFF\">\n",
       "-1.5\n",
       "</text>\n",
       "<polyline fill=\"none\" opacity=\"1\" stroke=\"#FFFFFF\" stroke-width=\"1\" points=\"187,69 187,74 \"/>\n",
       "<text x=\"231\" y=\"65\" dy=\"-0.5ex\" text-anchor=\"middle\" font-family=\"sans-serif\" font-size=\"9.67741935483871\" opacity=\"1\" fill=\"#FFFFFF\">\n",
       "-1.0\n",
       "</text>\n",
       "<polyline fill=\"none\" opacity=\"1\" stroke=\"#FFFFFF\" stroke-width=\"1\" points=\"231,69 231,74 \"/>\n",
       "<text x=\"275\" y=\"65\" dy=\"-0.5ex\" text-anchor=\"middle\" font-family=\"sans-serif\" font-size=\"9.67741935483871\" opacity=\"1\" fill=\"#FFFFFF\">\n",
       "-0.5\n",
       "</text>\n",
       "<polyline fill=\"none\" opacity=\"1\" stroke=\"#FFFFFF\" stroke-width=\"1\" points=\"275,69 275,74 \"/>\n",
       "<text x=\"319\" y=\"65\" dy=\"-0.5ex\" text-anchor=\"middle\" font-family=\"sans-serif\" font-size=\"9.67741935483871\" opacity=\"1\" fill=\"#FFFFFF\">\n",
       "0.0\n",
       "</text>\n",
       "<polyline fill=\"none\" opacity=\"1\" stroke=\"#FFFFFF\" stroke-width=\"1\" points=\"319,69 319,74 \"/>\n",
       "<text x=\"363\" y=\"65\" dy=\"-0.5ex\" text-anchor=\"middle\" font-family=\"sans-serif\" font-size=\"9.67741935483871\" opacity=\"1\" fill=\"#FFFFFF\">\n",
       "0.5\n",
       "</text>\n",
       "<polyline fill=\"none\" opacity=\"1\" stroke=\"#FFFFFF\" stroke-width=\"1\" points=\"363,69 363,74 \"/>\n",
       "<text x=\"407\" y=\"65\" dy=\"-0.5ex\" text-anchor=\"middle\" font-family=\"sans-serif\" font-size=\"9.67741935483871\" opacity=\"1\" fill=\"#FFFFFF\">\n",
       "1.0\n",
       "</text>\n",
       "<polyline fill=\"none\" opacity=\"1\" stroke=\"#FFFFFF\" stroke-width=\"1\" points=\"407,69 407,74 \"/>\n",
       "<text x=\"451\" y=\"65\" dy=\"-0.5ex\" text-anchor=\"middle\" font-family=\"sans-serif\" font-size=\"9.67741935483871\" opacity=\"1\" fill=\"#FFFFFF\">\n",
       "1.5\n",
       "</text>\n",
       "<polyline fill=\"none\" opacity=\"1\" stroke=\"#FFFFFF\" stroke-width=\"1\" points=\"451,69 451,74 \"/>\n",
       "<text x=\"495\" y=\"65\" dy=\"-0.5ex\" text-anchor=\"middle\" font-family=\"sans-serif\" font-size=\"9.67741935483871\" opacity=\"1\" fill=\"#FFFFFF\">\n",
       "2.0\n",
       "</text>\n",
       "<polyline fill=\"none\" opacity=\"1\" stroke=\"#FFFFFF\" stroke-width=\"1\" points=\"495,69 495,74 \"/>\n",
       "<text x=\"539\" y=\"65\" dy=\"-0.5ex\" text-anchor=\"middle\" font-family=\"sans-serif\" font-size=\"9.67741935483871\" opacity=\"1\" fill=\"#FFFFFF\">\n",
       "2.5\n",
       "</text>\n",
       "<polyline fill=\"none\" opacity=\"1\" stroke=\"#FFFFFF\" stroke-width=\"1\" points=\"539,69 539,74 \"/>\n",
       "<text x=\"584\" y=\"65\" dy=\"-0.5ex\" text-anchor=\"middle\" font-family=\"sans-serif\" font-size=\"9.67741935483871\" opacity=\"1\" fill=\"#FFFFFF\">\n",
       "3.0\n",
       "</text>\n",
       "<polyline fill=\"none\" opacity=\"1\" stroke=\"#FFFFFF\" stroke-width=\"1\" points=\"584,69 584,74 \"/>\n",
       "<polyline fill=\"none\" opacity=\"1\" stroke=\"#FFFFFF\" stroke-width=\"1\" points=\"54,75 54,424 \"/>\n",
       "<text x=\"45\" y=\"424\" dy=\"0.5ex\" text-anchor=\"end\" font-family=\"sans-serif\" font-size=\"9.67741935483871\" opacity=\"1\" fill=\"#FFFFFF\">\n",
       "0.0\n",
       "</text>\n",
       "<polyline fill=\"none\" opacity=\"1\" stroke=\"#FFFFFF\" stroke-width=\"1\" points=\"49,424 54,424 \"/>\n",
       "<text x=\"45\" y=\"386\" dy=\"0.5ex\" text-anchor=\"end\" font-family=\"sans-serif\" font-size=\"9.67741935483871\" opacity=\"1\" fill=\"#FFFFFF\">\n",
       "1.0\n",
       "</text>\n",
       "<polyline fill=\"none\" opacity=\"1\" stroke=\"#FFFFFF\" stroke-width=\"1\" points=\"49,386 54,386 \"/>\n",
       "<text x=\"45\" y=\"347\" dy=\"0.5ex\" text-anchor=\"end\" font-family=\"sans-serif\" font-size=\"9.67741935483871\" opacity=\"1\" fill=\"#FFFFFF\">\n",
       "2.0\n",
       "</text>\n",
       "<polyline fill=\"none\" opacity=\"1\" stroke=\"#FFFFFF\" stroke-width=\"1\" points=\"49,347 54,347 \"/>\n",
       "<text x=\"45\" y=\"308\" dy=\"0.5ex\" text-anchor=\"end\" font-family=\"sans-serif\" font-size=\"9.67741935483871\" opacity=\"1\" fill=\"#FFFFFF\">\n",
       "3.0\n",
       "</text>\n",
       "<polyline fill=\"none\" opacity=\"1\" stroke=\"#FFFFFF\" stroke-width=\"1\" points=\"49,308 54,308 \"/>\n",
       "<text x=\"45\" y=\"269\" dy=\"0.5ex\" text-anchor=\"end\" font-family=\"sans-serif\" font-size=\"9.67741935483871\" opacity=\"1\" fill=\"#FFFFFF\">\n",
       "4.0\n",
       "</text>\n",
       "<polyline fill=\"none\" opacity=\"1\" stroke=\"#FFFFFF\" stroke-width=\"1\" points=\"49,269 54,269 \"/>\n",
       "<text x=\"45\" y=\"231\" dy=\"0.5ex\" text-anchor=\"end\" font-family=\"sans-serif\" font-size=\"9.67741935483871\" opacity=\"1\" fill=\"#FFFFFF\">\n",
       "5.0\n",
       "</text>\n",
       "<polyline fill=\"none\" opacity=\"1\" stroke=\"#FFFFFF\" stroke-width=\"1\" points=\"49,231 54,231 \"/>\n",
       "<text x=\"45\" y=\"192\" dy=\"0.5ex\" text-anchor=\"end\" font-family=\"sans-serif\" font-size=\"9.67741935483871\" opacity=\"1\" fill=\"#FFFFFF\">\n",
       "6.0\n",
       "</text>\n",
       "<polyline fill=\"none\" opacity=\"1\" stroke=\"#FFFFFF\" stroke-width=\"1\" points=\"49,192 54,192 \"/>\n",
       "<text x=\"45\" y=\"153\" dy=\"0.5ex\" text-anchor=\"end\" font-family=\"sans-serif\" font-size=\"9.67741935483871\" opacity=\"1\" fill=\"#FFFFFF\">\n",
       "7.0\n",
       "</text>\n",
       "<polyline fill=\"none\" opacity=\"1\" stroke=\"#FFFFFF\" stroke-width=\"1\" points=\"49,153 54,153 \"/>\n",
       "<text x=\"45\" y=\"114\" dy=\"0.5ex\" text-anchor=\"end\" font-family=\"sans-serif\" font-size=\"9.67741935483871\" opacity=\"1\" fill=\"#FFFFFF\">\n",
       "8.0\n",
       "</text>\n",
       "<polyline fill=\"none\" opacity=\"1\" stroke=\"#FFFFFF\" stroke-width=\"1\" points=\"49,114 54,114 \"/>\n",
       "<text x=\"45\" y=\"75\" dy=\"0.5ex\" text-anchor=\"end\" font-family=\"sans-serif\" font-size=\"9.67741935483871\" opacity=\"1\" fill=\"#FFFFFF\">\n",
       "9.0\n",
       "</text>\n",
       "<polyline fill=\"none\" opacity=\"1\" stroke=\"#FFFFFF\" stroke-width=\"1\" points=\"49,75 54,75 \"/>\n",
       "<polyline fill=\"none\" opacity=\"1\" stroke=\"#FFFFFF\" stroke-width=\"1\" points=\"55,425 584,425 \"/>\n",
       "<text x=\"55\" y=\"435\" dy=\"0.76em\" text-anchor=\"middle\" font-family=\"sans-serif\" font-size=\"9.67741935483871\" opacity=\"1\" fill=\"#FFFFFF\">\n",
       "-3.0\n",
       "</text>\n",
       "<polyline fill=\"none\" opacity=\"1\" stroke=\"#FFFFFF\" stroke-width=\"1\" points=\"55,425 55,430 \"/>\n",
       "<text x=\"99\" y=\"435\" dy=\"0.76em\" text-anchor=\"middle\" font-family=\"sans-serif\" font-size=\"9.67741935483871\" opacity=\"1\" fill=\"#FFFFFF\">\n",
       "-2.5\n",
       "</text>\n",
       "<polyline fill=\"none\" opacity=\"1\" stroke=\"#FFFFFF\" stroke-width=\"1\" points=\"99,425 99,430 \"/>\n",
       "<text x=\"143\" y=\"435\" dy=\"0.76em\" text-anchor=\"middle\" font-family=\"sans-serif\" font-size=\"9.67741935483871\" opacity=\"1\" fill=\"#FFFFFF\">\n",
       "-2.0\n",
       "</text>\n",
       "<polyline fill=\"none\" opacity=\"1\" stroke=\"#FFFFFF\" stroke-width=\"1\" points=\"143,425 143,430 \"/>\n",
       "<text x=\"187\" y=\"435\" dy=\"0.76em\" text-anchor=\"middle\" font-family=\"sans-serif\" font-size=\"9.67741935483871\" opacity=\"1\" fill=\"#FFFFFF\">\n",
       "-1.5\n",
       "</text>\n",
       "<polyline fill=\"none\" opacity=\"1\" stroke=\"#FFFFFF\" stroke-width=\"1\" points=\"187,425 187,430 \"/>\n",
       "<text x=\"231\" y=\"435\" dy=\"0.76em\" text-anchor=\"middle\" font-family=\"sans-serif\" font-size=\"9.67741935483871\" opacity=\"1\" fill=\"#FFFFFF\">\n",
       "-1.0\n",
       "</text>\n",
       "<polyline fill=\"none\" opacity=\"1\" stroke=\"#FFFFFF\" stroke-width=\"1\" points=\"231,425 231,430 \"/>\n",
       "<text x=\"275\" y=\"435\" dy=\"0.76em\" text-anchor=\"middle\" font-family=\"sans-serif\" font-size=\"9.67741935483871\" opacity=\"1\" fill=\"#FFFFFF\">\n",
       "-0.5\n",
       "</text>\n",
       "<polyline fill=\"none\" opacity=\"1\" stroke=\"#FFFFFF\" stroke-width=\"1\" points=\"275,425 275,430 \"/>\n",
       "<text x=\"319\" y=\"435\" dy=\"0.76em\" text-anchor=\"middle\" font-family=\"sans-serif\" font-size=\"9.67741935483871\" opacity=\"1\" fill=\"#FFFFFF\">\n",
       "0.0\n",
       "</text>\n",
       "<polyline fill=\"none\" opacity=\"1\" stroke=\"#FFFFFF\" stroke-width=\"1\" points=\"319,425 319,430 \"/>\n",
       "<text x=\"363\" y=\"435\" dy=\"0.76em\" text-anchor=\"middle\" font-family=\"sans-serif\" font-size=\"9.67741935483871\" opacity=\"1\" fill=\"#FFFFFF\">\n",
       "0.5\n",
       "</text>\n",
       "<polyline fill=\"none\" opacity=\"1\" stroke=\"#FFFFFF\" stroke-width=\"1\" points=\"363,425 363,430 \"/>\n",
       "<text x=\"407\" y=\"435\" dy=\"0.76em\" text-anchor=\"middle\" font-family=\"sans-serif\" font-size=\"9.67741935483871\" opacity=\"1\" fill=\"#FFFFFF\">\n",
       "1.0\n",
       "</text>\n",
       "<polyline fill=\"none\" opacity=\"1\" stroke=\"#FFFFFF\" stroke-width=\"1\" points=\"407,425 407,430 \"/>\n",
       "<text x=\"451\" y=\"435\" dy=\"0.76em\" text-anchor=\"middle\" font-family=\"sans-serif\" font-size=\"9.67741935483871\" opacity=\"1\" fill=\"#FFFFFF\">\n",
       "1.5\n",
       "</text>\n",
       "<polyline fill=\"none\" opacity=\"1\" stroke=\"#FFFFFF\" stroke-width=\"1\" points=\"451,425 451,430 \"/>\n",
       "<text x=\"495\" y=\"435\" dy=\"0.76em\" text-anchor=\"middle\" font-family=\"sans-serif\" font-size=\"9.67741935483871\" opacity=\"1\" fill=\"#FFFFFF\">\n",
       "2.0\n",
       "</text>\n",
       "<polyline fill=\"none\" opacity=\"1\" stroke=\"#FFFFFF\" stroke-width=\"1\" points=\"495,425 495,430 \"/>\n",
       "<text x=\"539\" y=\"435\" dy=\"0.76em\" text-anchor=\"middle\" font-family=\"sans-serif\" font-size=\"9.67741935483871\" opacity=\"1\" fill=\"#FFFFFF\">\n",
       "2.5\n",
       "</text>\n",
       "<polyline fill=\"none\" opacity=\"1\" stroke=\"#FFFFFF\" stroke-width=\"1\" points=\"539,425 539,430 \"/>\n",
       "<text x=\"584\" y=\"435\" dy=\"0.76em\" text-anchor=\"middle\" font-family=\"sans-serif\" font-size=\"9.67741935483871\" opacity=\"1\" fill=\"#FFFFFF\">\n",
       "3.0\n",
       "</text>\n",
       "<polyline fill=\"none\" opacity=\"1\" stroke=\"#FFFFFF\" stroke-width=\"1\" points=\"584,425 584,430 \"/>\n",
       "<polyline fill=\"none\" opacity=\"1\" stroke=\"#FFFFFF\" stroke-width=\"1\" points=\"585,75 585,424 \"/>\n",
       "<text x=\"595\" y=\"424\" dy=\"0.5ex\" text-anchor=\"start\" font-family=\"sans-serif\" font-size=\"9.67741935483871\" opacity=\"1\" fill=\"#FFFFFF\">\n",
       "0.0\n",
       "</text>\n",
       "<polyline fill=\"none\" opacity=\"1\" stroke=\"#FFFFFF\" stroke-width=\"1\" points=\"585,424 590,424 \"/>\n",
       "<text x=\"595\" y=\"386\" dy=\"0.5ex\" text-anchor=\"start\" font-family=\"sans-serif\" font-size=\"9.67741935483871\" opacity=\"1\" fill=\"#FFFFFF\">\n",
       "1.0\n",
       "</text>\n",
       "<polyline fill=\"none\" opacity=\"1\" stroke=\"#FFFFFF\" stroke-width=\"1\" points=\"585,386 590,386 \"/>\n",
       "<text x=\"595\" y=\"347\" dy=\"0.5ex\" text-anchor=\"start\" font-family=\"sans-serif\" font-size=\"9.67741935483871\" opacity=\"1\" fill=\"#FFFFFF\">\n",
       "2.0\n",
       "</text>\n",
       "<polyline fill=\"none\" opacity=\"1\" stroke=\"#FFFFFF\" stroke-width=\"1\" points=\"585,347 590,347 \"/>\n",
       "<text x=\"595\" y=\"308\" dy=\"0.5ex\" text-anchor=\"start\" font-family=\"sans-serif\" font-size=\"9.67741935483871\" opacity=\"1\" fill=\"#FFFFFF\">\n",
       "3.0\n",
       "</text>\n",
       "<polyline fill=\"none\" opacity=\"1\" stroke=\"#FFFFFF\" stroke-width=\"1\" points=\"585,308 590,308 \"/>\n",
       "<text x=\"595\" y=\"269\" dy=\"0.5ex\" text-anchor=\"start\" font-family=\"sans-serif\" font-size=\"9.67741935483871\" opacity=\"1\" fill=\"#FFFFFF\">\n",
       "4.0\n",
       "</text>\n",
       "<polyline fill=\"none\" opacity=\"1\" stroke=\"#FFFFFF\" stroke-width=\"1\" points=\"585,269 590,269 \"/>\n",
       "<text x=\"595\" y=\"231\" dy=\"0.5ex\" text-anchor=\"start\" font-family=\"sans-serif\" font-size=\"9.67741935483871\" opacity=\"1\" fill=\"#FFFFFF\">\n",
       "5.0\n",
       "</text>\n",
       "<polyline fill=\"none\" opacity=\"1\" stroke=\"#FFFFFF\" stroke-width=\"1\" points=\"585,231 590,231 \"/>\n",
       "<text x=\"595\" y=\"192\" dy=\"0.5ex\" text-anchor=\"start\" font-family=\"sans-serif\" font-size=\"9.67741935483871\" opacity=\"1\" fill=\"#FFFFFF\">\n",
       "6.0\n",
       "</text>\n",
       "<polyline fill=\"none\" opacity=\"1\" stroke=\"#FFFFFF\" stroke-width=\"1\" points=\"585,192 590,192 \"/>\n",
       "<text x=\"595\" y=\"153\" dy=\"0.5ex\" text-anchor=\"start\" font-family=\"sans-serif\" font-size=\"9.67741935483871\" opacity=\"1\" fill=\"#FFFFFF\">\n",
       "7.0\n",
       "</text>\n",
       "<polyline fill=\"none\" opacity=\"1\" stroke=\"#FFFFFF\" stroke-width=\"1\" points=\"585,153 590,153 \"/>\n",
       "<text x=\"595\" y=\"114\" dy=\"0.5ex\" text-anchor=\"start\" font-family=\"sans-serif\" font-size=\"9.67741935483871\" opacity=\"1\" fill=\"#FFFFFF\">\n",
       "8.0\n",
       "</text>\n",
       "<polyline fill=\"none\" opacity=\"1\" stroke=\"#FFFFFF\" stroke-width=\"1\" points=\"585,114 590,114 \"/>\n",
       "<text x=\"595\" y=\"75\" dy=\"0.5ex\" text-anchor=\"start\" font-family=\"sans-serif\" font-size=\"9.67741935483871\" opacity=\"1\" fill=\"#FFFFFF\">\n",
       "9.0\n",
       "</text>\n",
       "<polyline fill=\"none\" opacity=\"1\" stroke=\"#FFFFFF\" stroke-width=\"1\" points=\"585,75 590,75 \"/>\n",
       "<polyline fill=\"none\" opacity=\"1\" stroke=\"#FF0000\" stroke-width=\"1\" points=\"55,75 55,78 56,80 57,82 58,85 59,87 60,89 61,92 62,94 62,96 63,98 64,101 65,103 66,105 67,107 68,110 69,112 69,114 70,116 71,118 72,120 73,123 74,125 75,127 76,129 77,131 77,133 78,135 79,138 80,140 81,142 82,144 83,146 84,148 84,150 85,152 86,154 87,156 88,158 89,160 90,162 91,164 92,166 92,168 93,170 94,172 95,174 96,176 97,178 98,180 99,182 99,184 100,186 101,188 102,190 103,192 104,194 105,196 106,197 107,199 107,201 108,203 109,205 110,207 111,209 112,210 113,212 114,214 114,216 115,218 116,219 117,221 118,223 119,225 120,226 121,228 122,230 122,232 123,233 124,235 125,237 126,239 127,240 128,242 129,244 129,245 130,247 131,249 132,250 133,252 134,253 135,255 136,257 136,258 137,260 138,262 139,263 140,265 141,266 142,268 143,269 144,271 144,272 145,274 146,276 147,277 148,279 149,280 150,282 151,283 151,285 152,286 153,287 154,289 155,290 156,292 157,293 158,295 159,296 159,297 160,299 161,300 162,302 163,303 164,304 165,306 166,307 166,308 167,310 168,311 169,312 170,314 171,315 172,316 173,318 174,319 174,320 175,321 176,323 177,324 178,325 179,326 180,328 181,329 181,330 182,331 183,333 184,334 185,335 186,336 187,337 188,338 189,340 189,341 190,342 191,343 192,344 193,345 194,346 195,347 196,348 196,350 197,351 198,352 199,353 200,354 201,355 202,356 203,357 204,358 204,359 205,360 206,361 207,362 208,363 209,364 210,365 211,366 211,367 212,368 213,369 214,370 215,371 216,371 217,372 218,373 218,374 219,375 220,376 221,377 222,378 223,378 224,379 225,380 226,381 226,382 227,383 228,383 229,384 230,385 231,386 232,386 233,387 233,388 234,389 235,390 236,390 237,391 238,392 239,392 240,393 241,394 241,394 242,395 243,396 244,396 245,397 246,398 247,398 248,399 248,400 249,400 250,401 251,402 252,402 253,403 254,403 255,404 256,404 256,405 257,405 258,406 259,407 260,407 261,408 262,408 263,409 263,409 264,410 265,410 266,411 267,411 268,411 269,412 270,412 271,413 271,413 272,414 273,414 274,414 275,415 276,415 277,416 278,416 278,416 279,417 280,417 281,417 282,418 283,418 284,418 285,419 285,419 286,419 287,419 288,420 289,420 290,420 291,421 292,421 293,421 293,421 294,421 295,422 296,422 297,422 298,422 299,422 300,423 300,423 301,423 302,423 303,423 304,423 305,424 306,424 307,424 308,424 308,424 309,424 310,424 311,424 312,424 313,424 314,424 315,424 315,424 316,424 317,424 318,424 319,424 320,424 321,424 322,424 323,424 323,424 324,424 325,424 326,424 327,424 328,424 329,424 330,424 330,424 331,424 332,424 333,424 334,423 335,423 336,423 337,423 338,423 338,423 339,422 340,422 341,422 342,422 343,422 344,421 345,421 345,421 346,421 347,421 348,420 349,420 350,420 351,419 352,419 353,419 353,419 354,418 355,418 356,418 357,417 358,417 359,417 360,416 360,416 361,416 362,415 363,415 364,414 365,414 366,414 367,413 367,413 368,412 369,412 370,411 371,411 372,411 373,410 374,410 375,409 375,409 376,408 377,408 378,407 379,407 380,406 381,405 382,405 382,404 383,404 384,403 385,403 386,402 387,402 388,401 389,400 390,400 390,399 391,398 392,398 393,397 394,396 395,396 396,395 397,394 397,394 398,393 399,392 400,392 401,391 402,390 403,390 404,389 405,388 405,387 406,386 407,386 408,385 409,384 410,383 411,383 412,382 412,381 413,380 414,379 415,378 416,378 417,377 418,376 419,375 420,374 420,373 421,372 422,371 423,371 424,370 425,369 426,368 427,367 427,366 428,365 429,364 430,363 431,362 432,361 433,360 434,359 434,358 435,357 436,356 437,355 438,354 439,353 440,352 441,351 442,350 442,348 443,347 444,346 445,345 446,344 447,343 448,342 449,341 449,340 450,338 451,337 452,336 453,335 454,334 455,333 456,331 457,330 457,329 458,328 459,326 460,325 461,324 462,323 463,321 464,320 464,319 465,318 466,316 467,315 468,314 469,312 470,311 471,310 472,308 472,307 473,306 474,304 475,303 476,302 477,300 478,299 479,297 479,296 480,295 481,293 482,292 483,290 484,289 485,287 486,286 487,285 487,283 488,282 489,280 490,279 491,277 492,276 493,274 494,272 494,271 495,269 496,268 497,266 498,265 499,263 500,262 501,260 502,258 502,257 503,255 504,253 505,252 506,250 507,249 508,247 509,245 509,244 510,242 511,240 512,239 513,237 514,235 515,233 516,232 516,230 517,228 518,226 519,225 520,223 521,221 522,219 523,218 524,216 524,214 525,212 526,210 527,209 528,207 529,205 530,203 531,201 531,199 532,197 533,196 534,194 535,192 536,190 537,188 538,186 539,184 539,182 540,180 541,178 542,176 543,174 544,172 545,170 546,168 546,166 547,164 548,162 549,160 550,158 551,156 552,154 553,152 554,150 554,148 555,146 556,144 557,142 558,140 559,138 560,135 561,133 561,131 562,129 563,127 564,125 565,123 566,120 567,118 568,116 569,114 569,112 570,110 571,107 572,105 573,103 574,101 575,98 576,96 576,94 577,92 578,89 579,87 580,85 581,82 582,80 583,78 584,75 \"/>\n",
       "<rect x=\"497\" y=\"235\" width=\"83\" height=\"30\" opacity=\"1\" fill=\"none\" stroke=\"#FFFFFF\"/>\n",
       "<text x=\"537\" y=\"245\" dy=\"0.76em\" text-anchor=\"start\" font-family=\"sans-serif\" font-size=\"9.67741935483871\" opacity=\"1\" fill=\"#FFFFFF\">\n",
       "square\n",
       "</text>\n",
       "<polyline fill=\"none\" opacity=\"1\" stroke=\"#FF0000\" stroke-width=\"1\" points=\"507,250 527,250 \"/>\n",
       "</svg>\n"
      ]
     },
     "metadata": {},
     "output_type": "display_data"
    },
    {
     "name": "stdout",
     "output_type": "stream",
     "text": [
      "type Mut0 = {mutable l0 : int32}\n",
      "let rec method1 (v0 : Mut0) : bool =\n",
      "    let v1 : int32 = v0.l0\n",
      "    let v2 : bool = v1 < 601\n",
      "    v2\n",
      "and method2 (v0 : int32, v1 : Mut0) : bool =\n",
      "    let v2 : int32 = v1.l0\n",
      "    let v3 : bool = v2 < v0\n",
      "    v3\n",
      "and method0 () : struct (string * string * (float []) * string * (struct (string * (float [])) [])) =\n",
      "    let v0 : (float []) = Array.zeroCreate<float> (601)\n",
      "    let v1 : Mut0 = {l0 = 0} : Mut0\n",
      "    while method1(v1) do\n",
      "        let v3 : int32 = v1.l0\n",
      "        let v4 : float = float v3\n",
      "        let v5 : float = 0.01 * v4\n",
      "        let v6 : float = -3.0 + v5\n",
      "        v0.[int v3] <- v6\n",
      "        let v7 : int32 = v3 + 1\n",
      "        v1.l0 <- v7\n",
      "        ()\n",
      "    let v8 : int32 = v0.Length\n",
      "    let v9 : (float []) = Array.zeroCreate<float> (v8)\n",
      "    let v10 : Mut0 = {l0 = 0} : Mut0\n",
      "    while method2(v8, v10) do\n",
      "        let v12 : int32 = v10.l0\n",
      "        let v13 : float = v0.[int v12]\n",
      "        let v14 : float = v13 ** 2.0\n",
      "        v9.[int v12] <- v14\n",
      "        let v15 : int32 = v12 + 1\n",
      "        v10.l0 <- v15\n",
      "        ()\n",
      "    let v16 : string = \"square\"\n",
      "    let v17 : (struct (string * (float [])) []) = [|struct (v16, v9)|]\n",
      "    let v18 : string = \"x\"\n",
      "    let v19 : string = \"y\"\n",
      "    struct (v16, v18, v0, v19, v17)\n",
      "method0()\n",
      "\r\n"
     ]
    }
   ],
   "source": [
    "// // test\n",
    "\n",
    "inl x = init_series -3 3 0.01\n",
    "inl y = x |> am.map square\n",
    "\"square\", \"x\", x, \"y\", ;[\"square\", y]"
   ]
  },
  {
   "cell_type": "code",
   "execution_count": null,
   "metadata": {
    "dotnet_interactive": {
     "language": "spiral"
    },
    "polyglot_notebook": {
     "kernelName": "spiral"
    }
   },
   "outputs": [
    {
     "data": {
      "text/html": [
       "<svg width=\"640\" height=\"480\" viewBox=\"0 0 640 480\" xmlns=\"http://www.w3.org/2000/svg\">\n",
       "<rect x=\"0\" y=\"0\" width=\"640\" height=\"480\" opacity=\"1\" fill=\"#141414\" stroke=\"none\"/>\n",
       "<text x=\"320\" y=\"10\" dy=\"0.76em\" text-anchor=\"middle\" font-family=\"sans-serif\" font-size=\"9.67741935483871\" opacity=\"1\" fill=\"#FFFFFF\">\n",
       "sin cos\n",
       "</text>\n",
       "<line opacity=\"1\" stroke=\"#323232\" stroke-width=\"1\" x1=\"55\" y1=\"424\" x2=\"55\" y2=\"75\"/>\n",
       "<line opacity=\"1\" stroke=\"#323232\" stroke-width=\"1\" x1=\"68\" y1=\"424\" x2=\"68\" y2=\"75\"/>\n",
       "<line opacity=\"1\" stroke=\"#323232\" stroke-width=\"1\" x1=\"81\" y1=\"424\" x2=\"81\" y2=\"75\"/>\n",
       "<line opacity=\"1\" stroke=\"#323232\" stroke-width=\"1\" x1=\"94\" y1=\"424\" x2=\"94\" y2=\"75\"/>\n",
       "<line opacity=\"1\" stroke=\"#323232\" stroke-width=\"1\" x1=\"107\" y1=\"424\" x2=\"107\" y2=\"75\"/>\n",
       "<line opacity=\"1\" stroke=\"#323232\" stroke-width=\"1\" x1=\"121\" y1=\"424\" x2=\"121\" y2=\"75\"/>\n",
       "<line opacity=\"1\" stroke=\"#323232\" stroke-width=\"1\" x1=\"134\" y1=\"424\" x2=\"134\" y2=\"75\"/>\n",
       "<line opacity=\"1\" stroke=\"#323232\" stroke-width=\"1\" x1=\"147\" y1=\"424\" x2=\"147\" y2=\"75\"/>\n",
       "<line opacity=\"1\" stroke=\"#323232\" stroke-width=\"1\" x1=\"160\" y1=\"424\" x2=\"160\" y2=\"75\"/>\n",
       "<line opacity=\"1\" stroke=\"#323232\" stroke-width=\"1\" x1=\"174\" y1=\"424\" x2=\"174\" y2=\"75\"/>\n",
       "<line opacity=\"1\" stroke=\"#323232\" stroke-width=\"1\" x1=\"187\" y1=\"424\" x2=\"187\" y2=\"75\"/>\n",
       "<line opacity=\"1\" stroke=\"#323232\" stroke-width=\"1\" x1=\"200\" y1=\"424\" x2=\"200\" y2=\"75\"/>\n",
       "<line opacity=\"1\" stroke=\"#323232\" stroke-width=\"1\" x1=\"213\" y1=\"424\" x2=\"213\" y2=\"75\"/>\n",
       "<line opacity=\"1\" stroke=\"#323232\" stroke-width=\"1\" x1=\"226\" y1=\"424\" x2=\"226\" y2=\"75\"/>\n",
       "<line opacity=\"1\" stroke=\"#323232\" stroke-width=\"1\" x1=\"240\" y1=\"424\" x2=\"240\" y2=\"75\"/>\n",
       "<line opacity=\"1\" stroke=\"#323232\" stroke-width=\"1\" x1=\"253\" y1=\"424\" x2=\"253\" y2=\"75\"/>\n",
       "<line opacity=\"1\" stroke=\"#323232\" stroke-width=\"1\" x1=\"266\" y1=\"424\" x2=\"266\" y2=\"75\"/>\n",
       "<line opacity=\"1\" stroke=\"#323232\" stroke-width=\"1\" x1=\"279\" y1=\"424\" x2=\"279\" y2=\"75\"/>\n",
       "<line opacity=\"1\" stroke=\"#323232\" stroke-width=\"1\" x1=\"293\" y1=\"424\" x2=\"293\" y2=\"75\"/>\n",
       "<line opacity=\"1\" stroke=\"#323232\" stroke-width=\"1\" x1=\"306\" y1=\"424\" x2=\"306\" y2=\"75\"/>\n",
       "<line opacity=\"1\" stroke=\"#323232\" stroke-width=\"1\" x1=\"319\" y1=\"424\" x2=\"319\" y2=\"75\"/>\n",
       "<line opacity=\"1\" stroke=\"#323232\" stroke-width=\"1\" x1=\"332\" y1=\"424\" x2=\"332\" y2=\"75\"/>\n",
       "<line opacity=\"1\" stroke=\"#323232\" stroke-width=\"1\" x1=\"345\" y1=\"424\" x2=\"345\" y2=\"75\"/>\n",
       "<line opacity=\"1\" stroke=\"#323232\" stroke-width=\"1\" x1=\"359\" y1=\"424\" x2=\"359\" y2=\"75\"/>\n",
       "<line opacity=\"1\" stroke=\"#323232\" stroke-width=\"1\" x1=\"372\" y1=\"424\" x2=\"372\" y2=\"75\"/>\n",
       "<line opacity=\"1\" stroke=\"#323232\" stroke-width=\"1\" x1=\"385\" y1=\"424\" x2=\"385\" y2=\"75\"/>\n",
       "<line opacity=\"1\" stroke=\"#323232\" stroke-width=\"1\" x1=\"398\" y1=\"424\" x2=\"398\" y2=\"75\"/>\n",
       "<line opacity=\"1\" stroke=\"#323232\" stroke-width=\"1\" x1=\"412\" y1=\"424\" x2=\"412\" y2=\"75\"/>\n",
       "<line opacity=\"1\" stroke=\"#323232\" stroke-width=\"1\" x1=\"425\" y1=\"424\" x2=\"425\" y2=\"75\"/>\n",
       "<line opacity=\"1\" stroke=\"#323232\" stroke-width=\"1\" x1=\"438\" y1=\"424\" x2=\"438\" y2=\"75\"/>\n",
       "<line opacity=\"1\" stroke=\"#323232\" stroke-width=\"1\" x1=\"451\" y1=\"424\" x2=\"451\" y2=\"75\"/>\n",
       "<line opacity=\"1\" stroke=\"#323232\" stroke-width=\"1\" x1=\"464\" y1=\"424\" x2=\"464\" y2=\"75\"/>\n",
       "<line opacity=\"1\" stroke=\"#323232\" stroke-width=\"1\" x1=\"478\" y1=\"424\" x2=\"478\" y2=\"75\"/>\n",
       "<line opacity=\"1\" stroke=\"#323232\" stroke-width=\"1\" x1=\"491\" y1=\"424\" x2=\"491\" y2=\"75\"/>\n",
       "<line opacity=\"1\" stroke=\"#323232\" stroke-width=\"1\" x1=\"504\" y1=\"424\" x2=\"504\" y2=\"75\"/>\n",
       "<line opacity=\"1\" stroke=\"#323232\" stroke-width=\"1\" x1=\"517\" y1=\"424\" x2=\"517\" y2=\"75\"/>\n",
       "<line opacity=\"1\" stroke=\"#323232\" stroke-width=\"1\" x1=\"531\" y1=\"424\" x2=\"531\" y2=\"75\"/>\n",
       "<line opacity=\"1\" stroke=\"#323232\" stroke-width=\"1\" x1=\"544\" y1=\"424\" x2=\"544\" y2=\"75\"/>\n",
       "<line opacity=\"1\" stroke=\"#323232\" stroke-width=\"1\" x1=\"557\" y1=\"424\" x2=\"557\" y2=\"75\"/>\n",
       "<line opacity=\"1\" stroke=\"#323232\" stroke-width=\"1\" x1=\"570\" y1=\"424\" x2=\"570\" y2=\"75\"/>\n",
       "<line opacity=\"1\" stroke=\"#323232\" stroke-width=\"1\" x1=\"584\" y1=\"424\" x2=\"584\" y2=\"75\"/>\n",
       "<line opacity=\"1\" stroke=\"#323232\" stroke-width=\"1\" x1=\"55\" y1=\"416\" x2=\"584\" y2=\"416\"/>\n",
       "<line opacity=\"1\" stroke=\"#323232\" stroke-width=\"1\" x1=\"55\" y1=\"407\" x2=\"584\" y2=\"407\"/>\n",
       "<line opacity=\"1\" stroke=\"#323232\" stroke-width=\"1\" x1=\"55\" y1=\"398\" x2=\"584\" y2=\"398\"/>\n",
       "<line opacity=\"1\" stroke=\"#323232\" stroke-width=\"1\" x1=\"55\" y1=\"390\" x2=\"584\" y2=\"390\"/>\n",
       "<line opacity=\"1\" stroke=\"#323232\" stroke-width=\"1\" x1=\"55\" y1=\"381\" x2=\"584\" y2=\"381\"/>\n",
       "<line opacity=\"1\" stroke=\"#323232\" stroke-width=\"1\" x1=\"55\" y1=\"372\" x2=\"584\" y2=\"372\"/>\n",
       "<line opacity=\"1\" stroke=\"#323232\" stroke-width=\"1\" x1=\"55\" y1=\"363\" x2=\"584\" y2=\"363\"/>\n",
       "<line opacity=\"1\" stroke=\"#323232\" stroke-width=\"1\" x1=\"55\" y1=\"355\" x2=\"584\" y2=\"355\"/>\n",
       "<line opacity=\"1\" stroke=\"#323232\" stroke-width=\"1\" x1=\"55\" y1=\"346\" x2=\"584\" y2=\"346\"/>\n",
       "<line opacity=\"1\" stroke=\"#323232\" stroke-width=\"1\" x1=\"55\" y1=\"337\" x2=\"584\" y2=\"337\"/>\n",
       "<line opacity=\"1\" stroke=\"#323232\" stroke-width=\"1\" x1=\"55\" y1=\"329\" x2=\"584\" y2=\"329\"/>\n",
       "<line opacity=\"1\" stroke=\"#323232\" stroke-width=\"1\" x1=\"55\" y1=\"320\" x2=\"584\" y2=\"320\"/>\n",
       "<line opacity=\"1\" stroke=\"#323232\" stroke-width=\"1\" x1=\"55\" y1=\"311\" x2=\"584\" y2=\"311\"/>\n",
       "<line opacity=\"1\" stroke=\"#323232\" stroke-width=\"1\" x1=\"55\" y1=\"302\" x2=\"584\" y2=\"302\"/>\n",
       "<line opacity=\"1\" stroke=\"#323232\" stroke-width=\"1\" x1=\"55\" y1=\"294\" x2=\"584\" y2=\"294\"/>\n",
       "<line opacity=\"1\" stroke=\"#323232\" stroke-width=\"1\" x1=\"55\" y1=\"285\" x2=\"584\" y2=\"285\"/>\n",
       "<line opacity=\"1\" stroke=\"#323232\" stroke-width=\"1\" x1=\"55\" y1=\"276\" x2=\"584\" y2=\"276\"/>\n",
       "<line opacity=\"1\" stroke=\"#323232\" stroke-width=\"1\" x1=\"55\" y1=\"267\" x2=\"584\" y2=\"267\"/>\n",
       "<line opacity=\"1\" stroke=\"#323232\" stroke-width=\"1\" x1=\"55\" y1=\"259\" x2=\"584\" y2=\"259\"/>\n",
       "<line opacity=\"1\" stroke=\"#323232\" stroke-width=\"1\" x1=\"55\" y1=\"250\" x2=\"584\" y2=\"250\"/>\n",
       "<line opacity=\"1\" stroke=\"#323232\" stroke-width=\"1\" x1=\"55\" y1=\"241\" x2=\"584\" y2=\"241\"/>\n",
       "<line opacity=\"1\" stroke=\"#323232\" stroke-width=\"1\" x1=\"55\" y1=\"233\" x2=\"584\" y2=\"233\"/>\n",
       "<line opacity=\"1\" stroke=\"#323232\" stroke-width=\"1\" x1=\"55\" y1=\"224\" x2=\"584\" y2=\"224\"/>\n",
       "<line opacity=\"1\" stroke=\"#323232\" stroke-width=\"1\" x1=\"55\" y1=\"215\" x2=\"584\" y2=\"215\"/>\n",
       "<line opacity=\"1\" stroke=\"#323232\" stroke-width=\"1\" x1=\"55\" y1=\"206\" x2=\"584\" y2=\"206\"/>\n",
       "<line opacity=\"1\" stroke=\"#323232\" stroke-width=\"1\" x1=\"55\" y1=\"198\" x2=\"584\" y2=\"198\"/>\n",
       "<line opacity=\"1\" stroke=\"#323232\" stroke-width=\"1\" x1=\"55\" y1=\"189\" x2=\"584\" y2=\"189\"/>\n",
       "<line opacity=\"1\" stroke=\"#323232\" stroke-width=\"1\" x1=\"55\" y1=\"180\" x2=\"584\" y2=\"180\"/>\n",
       "<line opacity=\"1\" stroke=\"#323232\" stroke-width=\"1\" x1=\"55\" y1=\"171\" x2=\"584\" y2=\"171\"/>\n",
       "<line opacity=\"1\" stroke=\"#323232\" stroke-width=\"1\" x1=\"55\" y1=\"163\" x2=\"584\" y2=\"163\"/>\n",
       "<line opacity=\"1\" stroke=\"#323232\" stroke-width=\"1\" x1=\"55\" y1=\"154\" x2=\"584\" y2=\"154\"/>\n",
       "<line opacity=\"1\" stroke=\"#323232\" stroke-width=\"1\" x1=\"55\" y1=\"145\" x2=\"584\" y2=\"145\"/>\n",
       "<line opacity=\"1\" stroke=\"#323232\" stroke-width=\"1\" x1=\"55\" y1=\"137\" x2=\"584\" y2=\"137\"/>\n",
       "<line opacity=\"1\" stroke=\"#323232\" stroke-width=\"1\" x1=\"55\" y1=\"128\" x2=\"584\" y2=\"128\"/>\n",
       "<line opacity=\"1\" stroke=\"#323232\" stroke-width=\"1\" x1=\"55\" y1=\"119\" x2=\"584\" y2=\"119\"/>\n",
       "<line opacity=\"1\" stroke=\"#323232\" stroke-width=\"1\" x1=\"55\" y1=\"110\" x2=\"584\" y2=\"110\"/>\n",
       "<line opacity=\"1\" stroke=\"#323232\" stroke-width=\"1\" x1=\"55\" y1=\"102\" x2=\"584\" y2=\"102\"/>\n",
       "<line opacity=\"1\" stroke=\"#323232\" stroke-width=\"1\" x1=\"55\" y1=\"93\" x2=\"584\" y2=\"93\"/>\n",
       "<line opacity=\"1\" stroke=\"#323232\" stroke-width=\"1\" x1=\"55\" y1=\"84\" x2=\"584\" y2=\"84\"/>\n",
       "<text x=\"320\" y=\"25\" dy=\"0.76em\" text-anchor=\"middle\" font-family=\"sans-serif\" font-size=\"9.67741935483871\" opacity=\"1\" fill=\"#FFFFFF\">\n",
       "x\n",
       "</text>\n",
       "<text x=\"5\" y=\"250\" dy=\"0.76em\" text-anchor=\"middle\" font-family=\"sans-serif\" font-size=\"9.67741935483871\" opacity=\"1\" fill=\"#FFFFFF\" transform=\"rotate(270, 5, 250)\">\n",
       "y\n",
       "</text>\n",
       "<text x=\"320\" y=\"475\" dy=\"-0.5ex\" text-anchor=\"middle\" font-family=\"sans-serif\" font-size=\"9.67741935483871\" opacity=\"1\" fill=\"#FFFFFF\">\n",
       "x\n",
       "</text>\n",
       "<text x=\"635\" y=\"250\" dy=\"0.76em\" text-anchor=\"middle\" font-family=\"sans-serif\" font-size=\"9.67741935483871\" opacity=\"1\" fill=\"#FFFFFF\" transform=\"rotate(90, 635, 250)\">\n",
       "y\n",
       "</text>\n",
       "<line opacity=\"1\" stroke=\"#5A5A5A\" stroke-width=\"1\" x1=\"55\" y1=\"424\" x2=\"55\" y2=\"75\"/>\n",
       "<line opacity=\"1\" stroke=\"#5A5A5A\" stroke-width=\"1\" x1=\"107\" y1=\"424\" x2=\"107\" y2=\"75\"/>\n",
       "<line opacity=\"1\" stroke=\"#5A5A5A\" stroke-width=\"1\" x1=\"160\" y1=\"424\" x2=\"160\" y2=\"75\"/>\n",
       "<line opacity=\"1\" stroke=\"#5A5A5A\" stroke-width=\"1\" x1=\"213\" y1=\"424\" x2=\"213\" y2=\"75\"/>\n",
       "<line opacity=\"1\" stroke=\"#5A5A5A\" stroke-width=\"1\" x1=\"266\" y1=\"424\" x2=\"266\" y2=\"75\"/>\n",
       "<line opacity=\"1\" stroke=\"#5A5A5A\" stroke-width=\"1\" x1=\"319\" y1=\"424\" x2=\"319\" y2=\"75\"/>\n",
       "<line opacity=\"1\" stroke=\"#5A5A5A\" stroke-width=\"1\" x1=\"372\" y1=\"424\" x2=\"372\" y2=\"75\"/>\n",
       "<line opacity=\"1\" stroke=\"#5A5A5A\" stroke-width=\"1\" x1=\"425\" y1=\"424\" x2=\"425\" y2=\"75\"/>\n",
       "<line opacity=\"1\" stroke=\"#5A5A5A\" stroke-width=\"1\" x1=\"478\" y1=\"424\" x2=\"478\" y2=\"75\"/>\n",
       "<line opacity=\"1\" stroke=\"#5A5A5A\" stroke-width=\"1\" x1=\"531\" y1=\"424\" x2=\"531\" y2=\"75\"/>\n",
       "<line opacity=\"1\" stroke=\"#5A5A5A\" stroke-width=\"1\" x1=\"584\" y1=\"424\" x2=\"584\" y2=\"75\"/>\n",
       "<line opacity=\"1\" stroke=\"#5A5A5A\" stroke-width=\"1\" x1=\"55\" y1=\"390\" x2=\"584\" y2=\"390\"/>\n",
       "<line opacity=\"1\" stroke=\"#5A5A5A\" stroke-width=\"1\" x1=\"55\" y1=\"355\" x2=\"584\" y2=\"355\"/>\n",
       "<line opacity=\"1\" stroke=\"#5A5A5A\" stroke-width=\"1\" x1=\"55\" y1=\"320\" x2=\"584\" y2=\"320\"/>\n",
       "<line opacity=\"1\" stroke=\"#5A5A5A\" stroke-width=\"1\" x1=\"55\" y1=\"285\" x2=\"584\" y2=\"285\"/>\n",
       "<line opacity=\"1\" stroke=\"#5A5A5A\" stroke-width=\"1\" x1=\"55\" y1=\"250\" x2=\"584\" y2=\"250\"/>\n",
       "<line opacity=\"1\" stroke=\"#5A5A5A\" stroke-width=\"1\" x1=\"55\" y1=\"215\" x2=\"584\" y2=\"215\"/>\n",
       "<line opacity=\"1\" stroke=\"#5A5A5A\" stroke-width=\"1\" x1=\"55\" y1=\"180\" x2=\"584\" y2=\"180\"/>\n",
       "<line opacity=\"1\" stroke=\"#5A5A5A\" stroke-width=\"1\" x1=\"55\" y1=\"145\" x2=\"584\" y2=\"145\"/>\n",
       "<line opacity=\"1\" stroke=\"#5A5A5A\" stroke-width=\"1\" x1=\"55\" y1=\"110\" x2=\"584\" y2=\"110\"/>\n",
       "<line opacity=\"1\" stroke=\"#5A5A5A\" stroke-width=\"1\" x1=\"55\" y1=\"75\" x2=\"584\" y2=\"75\"/>\n",
       "<polyline fill=\"none\" opacity=\"1\" stroke=\"#FFFFFF\" stroke-width=\"1\" points=\"55,74 584,74 \"/>\n",
       "<text x=\"55\" y=\"65\" dy=\"-0.5ex\" text-anchor=\"middle\" font-family=\"sans-serif\" font-size=\"9.67741935483871\" opacity=\"1\" fill=\"#FFFFFF\">\n",
       "-10.0\n",
       "</text>\n",
       "<polyline fill=\"none\" opacity=\"1\" stroke=\"#FFFFFF\" stroke-width=\"1\" points=\"55,69 55,74 \"/>\n",
       "<text x=\"107\" y=\"65\" dy=\"-0.5ex\" text-anchor=\"middle\" font-family=\"sans-serif\" font-size=\"9.67741935483871\" opacity=\"1\" fill=\"#FFFFFF\">\n",
       "-8.0\n",
       "</text>\n",
       "<polyline fill=\"none\" opacity=\"1\" stroke=\"#FFFFFF\" stroke-width=\"1\" points=\"107,69 107,74 \"/>\n",
       "<text x=\"160\" y=\"65\" dy=\"-0.5ex\" text-anchor=\"middle\" font-family=\"sans-serif\" font-size=\"9.67741935483871\" opacity=\"1\" fill=\"#FFFFFF\">\n",
       "-6.0\n",
       "</text>\n",
       "<polyline fill=\"none\" opacity=\"1\" stroke=\"#FFFFFF\" stroke-width=\"1\" points=\"160,69 160,74 \"/>\n",
       "<text x=\"213\" y=\"65\" dy=\"-0.5ex\" text-anchor=\"middle\" font-family=\"sans-serif\" font-size=\"9.67741935483871\" opacity=\"1\" fill=\"#FFFFFF\">\n",
       "-4.0\n",
       "</text>\n",
       "<polyline fill=\"none\" opacity=\"1\" stroke=\"#FFFFFF\" stroke-width=\"1\" points=\"213,69 213,74 \"/>\n",
       "<text x=\"266\" y=\"65\" dy=\"-0.5ex\" text-anchor=\"middle\" font-family=\"sans-serif\" font-size=\"9.67741935483871\" opacity=\"1\" fill=\"#FFFFFF\">\n",
       "-2.0\n",
       "</text>\n",
       "<polyline fill=\"none\" opacity=\"1\" stroke=\"#FFFFFF\" stroke-width=\"1\" points=\"266,69 266,74 \"/>\n",
       "<text x=\"319\" y=\"65\" dy=\"-0.5ex\" text-anchor=\"middle\" font-family=\"sans-serif\" font-size=\"9.67741935483871\" opacity=\"1\" fill=\"#FFFFFF\">\n",
       "0.0\n",
       "</text>\n",
       "<polyline fill=\"none\" opacity=\"1\" stroke=\"#FFFFFF\" stroke-width=\"1\" points=\"319,69 319,74 \"/>\n",
       "<text x=\"372\" y=\"65\" dy=\"-0.5ex\" text-anchor=\"middle\" font-family=\"sans-serif\" font-size=\"9.67741935483871\" opacity=\"1\" fill=\"#FFFFFF\">\n",
       "2.0\n",
       "</text>\n",
       "<polyline fill=\"none\" opacity=\"1\" stroke=\"#FFFFFF\" stroke-width=\"1\" points=\"372,69 372,74 \"/>\n",
       "<text x=\"425\" y=\"65\" dy=\"-0.5ex\" text-anchor=\"middle\" font-family=\"sans-serif\" font-size=\"9.67741935483871\" opacity=\"1\" fill=\"#FFFFFF\">\n",
       "4.0\n",
       "</text>\n",
       "<polyline fill=\"none\" opacity=\"1\" stroke=\"#FFFFFF\" stroke-width=\"1\" points=\"425,69 425,74 \"/>\n",
       "<text x=\"478\" y=\"65\" dy=\"-0.5ex\" text-anchor=\"middle\" font-family=\"sans-serif\" font-size=\"9.67741935483871\" opacity=\"1\" fill=\"#FFFFFF\">\n",
       "6.0\n",
       "</text>\n",
       "<polyline fill=\"none\" opacity=\"1\" stroke=\"#FFFFFF\" stroke-width=\"1\" points=\"478,69 478,74 \"/>\n",
       "<text x=\"531\" y=\"65\" dy=\"-0.5ex\" text-anchor=\"middle\" font-family=\"sans-serif\" font-size=\"9.67741935483871\" opacity=\"1\" fill=\"#FFFFFF\">\n",
       "8.0\n",
       "</text>\n",
       "<polyline fill=\"none\" opacity=\"1\" stroke=\"#FFFFFF\" stroke-width=\"1\" points=\"531,69 531,74 \"/>\n",
       "<text x=\"584\" y=\"65\" dy=\"-0.5ex\" text-anchor=\"middle\" font-family=\"sans-serif\" font-size=\"9.67741935483871\" opacity=\"1\" fill=\"#FFFFFF\">\n",
       "10.0\n",
       "</text>\n",
       "<polyline fill=\"none\" opacity=\"1\" stroke=\"#FFFFFF\" stroke-width=\"1\" points=\"584,69 584,74 \"/>\n",
       "<polyline fill=\"none\" opacity=\"1\" stroke=\"#FFFFFF\" stroke-width=\"1\" points=\"54,75 54,424 \"/>\n",
       "<text x=\"45\" y=\"390\" dy=\"0.5ex\" text-anchor=\"end\" font-family=\"sans-serif\" font-size=\"9.67741935483871\" opacity=\"1\" fill=\"#FFFFFF\">\n",
       "-0.8\n",
       "</text>\n",
       "<polyline fill=\"none\" opacity=\"1\" stroke=\"#FFFFFF\" stroke-width=\"1\" points=\"49,390 54,390 \"/>\n",
       "<text x=\"45\" y=\"355\" dy=\"0.5ex\" text-anchor=\"end\" font-family=\"sans-serif\" font-size=\"9.67741935483871\" opacity=\"1\" fill=\"#FFFFFF\">\n",
       "-0.6\n",
       "</text>\n",
       "<polyline fill=\"none\" opacity=\"1\" stroke=\"#FFFFFF\" stroke-width=\"1\" points=\"49,355 54,355 \"/>\n",
       "<text x=\"45\" y=\"320\" dy=\"0.5ex\" text-anchor=\"end\" font-family=\"sans-serif\" font-size=\"9.67741935483871\" opacity=\"1\" fill=\"#FFFFFF\">\n",
       "-0.4\n",
       "</text>\n",
       "<polyline fill=\"none\" opacity=\"1\" stroke=\"#FFFFFF\" stroke-width=\"1\" points=\"49,320 54,320 \"/>\n",
       "<text x=\"45\" y=\"285\" dy=\"0.5ex\" text-anchor=\"end\" font-family=\"sans-serif\" font-size=\"9.67741935483871\" opacity=\"1\" fill=\"#FFFFFF\">\n",
       "-0.2\n",
       "</text>\n",
       "<polyline fill=\"none\" opacity=\"1\" stroke=\"#FFFFFF\" stroke-width=\"1\" points=\"49,285 54,285 \"/>\n",
       "<text x=\"45\" y=\"250\" dy=\"0.5ex\" text-anchor=\"end\" font-family=\"sans-serif\" font-size=\"9.67741935483871\" opacity=\"1\" fill=\"#FFFFFF\">\n",
       "0.0\n",
       "</text>\n",
       "<polyline fill=\"none\" opacity=\"1\" stroke=\"#FFFFFF\" stroke-width=\"1\" points=\"49,250 54,250 \"/>\n",
       "<text x=\"45\" y=\"215\" dy=\"0.5ex\" text-anchor=\"end\" font-family=\"sans-serif\" font-size=\"9.67741935483871\" opacity=\"1\" fill=\"#FFFFFF\">\n",
       "0.2\n",
       "</text>\n",
       "<polyline fill=\"none\" opacity=\"1\" stroke=\"#FFFFFF\" stroke-width=\"1\" points=\"49,215 54,215 \"/>\n",
       "<text x=\"45\" y=\"180\" dy=\"0.5ex\" text-anchor=\"end\" font-family=\"sans-serif\" font-size=\"9.67741935483871\" opacity=\"1\" fill=\"#FFFFFF\">\n",
       "0.4\n",
       "</text>\n",
       "<polyline fill=\"none\" opacity=\"1\" stroke=\"#FFFFFF\" stroke-width=\"1\" points=\"49,180 54,180 \"/>\n",
       "<text x=\"45\" y=\"145\" dy=\"0.5ex\" text-anchor=\"end\" font-family=\"sans-serif\" font-size=\"9.67741935483871\" opacity=\"1\" fill=\"#FFFFFF\">\n",
       "0.6\n",
       "</text>\n",
       "<polyline fill=\"none\" opacity=\"1\" stroke=\"#FFFFFF\" stroke-width=\"1\" points=\"49,145 54,145 \"/>\n",
       "<text x=\"45\" y=\"110\" dy=\"0.5ex\" text-anchor=\"end\" font-family=\"sans-serif\" font-size=\"9.67741935483871\" opacity=\"1\" fill=\"#FFFFFF\">\n",
       "0.8\n",
       "</text>\n",
       "<polyline fill=\"none\" opacity=\"1\" stroke=\"#FFFFFF\" stroke-width=\"1\" points=\"49,110 54,110 \"/>\n",
       "<text x=\"45\" y=\"75\" dy=\"0.5ex\" text-anchor=\"end\" font-family=\"sans-serif\" font-size=\"9.67741935483871\" opacity=\"1\" fill=\"#FFFFFF\">\n",
       "1.0\n",
       "</text>\n",
       "<polyline fill=\"none\" opacity=\"1\" stroke=\"#FFFFFF\" stroke-width=\"1\" points=\"49,75 54,75 \"/>\n",
       "<polyline fill=\"none\" opacity=\"1\" stroke=\"#FFFFFF\" stroke-width=\"1\" points=\"55,425 584,425 \"/>\n",
       "<text x=\"55\" y=\"435\" dy=\"0.76em\" text-anchor=\"middle\" font-family=\"sans-serif\" font-size=\"9.67741935483871\" opacity=\"1\" fill=\"#FFFFFF\">\n",
       "-10.0\n",
       "</text>\n",
       "<polyline fill=\"none\" opacity=\"1\" stroke=\"#FFFFFF\" stroke-width=\"1\" points=\"55,425 55,430 \"/>\n",
       "<text x=\"107\" y=\"435\" dy=\"0.76em\" text-anchor=\"middle\" font-family=\"sans-serif\" font-size=\"9.67741935483871\" opacity=\"1\" fill=\"#FFFFFF\">\n",
       "-8.0\n",
       "</text>\n",
       "<polyline fill=\"none\" opacity=\"1\" stroke=\"#FFFFFF\" stroke-width=\"1\" points=\"107,425 107,430 \"/>\n",
       "<text x=\"160\" y=\"435\" dy=\"0.76em\" text-anchor=\"middle\" font-family=\"sans-serif\" font-size=\"9.67741935483871\" opacity=\"1\" fill=\"#FFFFFF\">\n",
       "-6.0\n",
       "</text>\n",
       "<polyline fill=\"none\" opacity=\"1\" stroke=\"#FFFFFF\" stroke-width=\"1\" points=\"160,425 160,430 \"/>\n",
       "<text x=\"213\" y=\"435\" dy=\"0.76em\" text-anchor=\"middle\" font-family=\"sans-serif\" font-size=\"9.67741935483871\" opacity=\"1\" fill=\"#FFFFFF\">\n",
       "-4.0\n",
       "</text>\n",
       "<polyline fill=\"none\" opacity=\"1\" stroke=\"#FFFFFF\" stroke-width=\"1\" points=\"213,425 213,430 \"/>\n",
       "<text x=\"266\" y=\"435\" dy=\"0.76em\" text-anchor=\"middle\" font-family=\"sans-serif\" font-size=\"9.67741935483871\" opacity=\"1\" fill=\"#FFFFFF\">\n",
       "-2.0\n",
       "</text>\n",
       "<polyline fill=\"none\" opacity=\"1\" stroke=\"#FFFFFF\" stroke-width=\"1\" points=\"266,425 266,430 \"/>\n",
       "<text x=\"319\" y=\"435\" dy=\"0.76em\" text-anchor=\"middle\" font-family=\"sans-serif\" font-size=\"9.67741935483871\" opacity=\"1\" fill=\"#FFFFFF\">\n",
       "0.0\n",
       "</text>\n",
       "<polyline fill=\"none\" opacity=\"1\" stroke=\"#FFFFFF\" stroke-width=\"1\" points=\"319,425 319,430 \"/>\n",
       "<text x=\"372\" y=\"435\" dy=\"0.76em\" text-anchor=\"middle\" font-family=\"sans-serif\" font-size=\"9.67741935483871\" opacity=\"1\" fill=\"#FFFFFF\">\n",
       "2.0\n",
       "</text>\n",
       "<polyline fill=\"none\" opacity=\"1\" stroke=\"#FFFFFF\" stroke-width=\"1\" points=\"372,425 372,430 \"/>\n",
       "<text x=\"425\" y=\"435\" dy=\"0.76em\" text-anchor=\"middle\" font-family=\"sans-serif\" font-size=\"9.67741935483871\" opacity=\"1\" fill=\"#FFFFFF\">\n",
       "4.0\n",
       "</text>\n",
       "<polyline fill=\"none\" opacity=\"1\" stroke=\"#FFFFFF\" stroke-width=\"1\" points=\"425,425 425,430 \"/>\n",
       "<text x=\"478\" y=\"435\" dy=\"0.76em\" text-anchor=\"middle\" font-family=\"sans-serif\" font-size=\"9.67741935483871\" opacity=\"1\" fill=\"#FFFFFF\">\n",
       "6.0\n",
       "</text>\n",
       "<polyline fill=\"none\" opacity=\"1\" stroke=\"#FFFFFF\" stroke-width=\"1\" points=\"478,425 478,430 \"/>\n",
       "<text x=\"531\" y=\"435\" dy=\"0.76em\" text-anchor=\"middle\" font-family=\"sans-serif\" font-size=\"9.67741935483871\" opacity=\"1\" fill=\"#FFFFFF\">\n",
       "8.0\n",
       "</text>\n",
       "<polyline fill=\"none\" opacity=\"1\" stroke=\"#FFFFFF\" stroke-width=\"1\" points=\"531,425 531,430 \"/>\n",
       "<text x=\"584\" y=\"435\" dy=\"0.76em\" text-anchor=\"middle\" font-family=\"sans-serif\" font-size=\"9.67741935483871\" opacity=\"1\" fill=\"#FFFFFF\">\n",
       "10.0\n",
       "</text>\n",
       "<polyline fill=\"none\" opacity=\"1\" stroke=\"#FFFFFF\" stroke-width=\"1\" points=\"584,425 584,430 \"/>\n",
       "<polyline fill=\"none\" opacity=\"1\" stroke=\"#FFFFFF\" stroke-width=\"1\" points=\"585,75 585,424 \"/>\n",
       "<text x=\"595\" y=\"390\" dy=\"0.5ex\" text-anchor=\"start\" font-family=\"sans-serif\" font-size=\"9.67741935483871\" opacity=\"1\" fill=\"#FFFFFF\">\n",
       "-0.8\n",
       "</text>\n",
       "<polyline fill=\"none\" opacity=\"1\" stroke=\"#FFFFFF\" stroke-width=\"1\" points=\"585,390 590,390 \"/>\n",
       "<text x=\"595\" y=\"355\" dy=\"0.5ex\" text-anchor=\"start\" font-family=\"sans-serif\" font-size=\"9.67741935483871\" opacity=\"1\" fill=\"#FFFFFF\">\n",
       "-0.6\n",
       "</text>\n",
       "<polyline fill=\"none\" opacity=\"1\" stroke=\"#FFFFFF\" stroke-width=\"1\" points=\"585,355 590,355 \"/>\n",
       "<text x=\"595\" y=\"320\" dy=\"0.5ex\" text-anchor=\"start\" font-family=\"sans-serif\" font-size=\"9.67741935483871\" opacity=\"1\" fill=\"#FFFFFF\">\n",
       "-0.4\n",
       "</text>\n",
       "<polyline fill=\"none\" opacity=\"1\" stroke=\"#FFFFFF\" stroke-width=\"1\" points=\"585,320 590,320 \"/>\n",
       "<text x=\"595\" y=\"285\" dy=\"0.5ex\" text-anchor=\"start\" font-family=\"sans-serif\" font-size=\"9.67741935483871\" opacity=\"1\" fill=\"#FFFFFF\">\n",
       "-0.2\n",
       "</text>\n",
       "<polyline fill=\"none\" opacity=\"1\" stroke=\"#FFFFFF\" stroke-width=\"1\" points=\"585,285 590,285 \"/>\n",
       "<text x=\"617\" y=\"250\" dy=\"0.5ex\" text-anchor=\"end\" font-family=\"sans-serif\" font-size=\"9.67741935483871\" opacity=\"1\" fill=\"#FFFFFF\">\n",
       "0.0\n",
       "</text>\n",
       "<polyline fill=\"none\" opacity=\"1\" stroke=\"#FFFFFF\" stroke-width=\"1\" points=\"585,250 590,250 \"/>\n",
       "<text x=\"617\" y=\"215\" dy=\"0.5ex\" text-anchor=\"end\" font-family=\"sans-serif\" font-size=\"9.67741935483871\" opacity=\"1\" fill=\"#FFFFFF\">\n",
       "0.2\n",
       "</text>\n",
       "<polyline fill=\"none\" opacity=\"1\" stroke=\"#FFFFFF\" stroke-width=\"1\" points=\"585,215 590,215 \"/>\n",
       "<text x=\"617\" y=\"180\" dy=\"0.5ex\" text-anchor=\"end\" font-family=\"sans-serif\" font-size=\"9.67741935483871\" opacity=\"1\" fill=\"#FFFFFF\">\n",
       "0.4\n",
       "</text>\n",
       "<polyline fill=\"none\" opacity=\"1\" stroke=\"#FFFFFF\" stroke-width=\"1\" points=\"585,180 590,180 \"/>\n",
       "<text x=\"617\" y=\"145\" dy=\"0.5ex\" text-anchor=\"end\" font-family=\"sans-serif\" font-size=\"9.67741935483871\" opacity=\"1\" fill=\"#FFFFFF\">\n",
       "0.6\n",
       "</text>\n",
       "<polyline fill=\"none\" opacity=\"1\" stroke=\"#FFFFFF\" stroke-width=\"1\" points=\"585,145 590,145 \"/>\n",
       "<text x=\"617\" y=\"110\" dy=\"0.5ex\" text-anchor=\"end\" font-family=\"sans-serif\" font-size=\"9.67741935483871\" opacity=\"1\" fill=\"#FFFFFF\">\n",
       "0.8\n",
       "</text>\n",
       "<polyline fill=\"none\" opacity=\"1\" stroke=\"#FFFFFF\" stroke-width=\"1\" points=\"585,110 590,110 \"/>\n",
       "<text x=\"617\" y=\"75\" dy=\"0.5ex\" text-anchor=\"end\" font-family=\"sans-serif\" font-size=\"9.67741935483871\" opacity=\"1\" fill=\"#FFFFFF\">\n",
       "1.0\n",
       "</text>\n",
       "<polyline fill=\"none\" opacity=\"1\" stroke=\"#FFFFFF\" stroke-width=\"1\" points=\"585,75 590,75 \"/>\n",
       "<polyline fill=\"none\" opacity=\"1\" stroke=\"#FF0000\" stroke-width=\"1\" points=\"55,155 57,170 60,186 62,203 65,220 68,237 70,254 73,272 76,289 78,306 81,322 84,337 86,352 89,366 92,378 94,389 97,399 99,407 102,414 105,419 107,423 110,424 113,424 115,422 118,419 121,414 123,407 126,398 129,389 131,377 134,365 136,351 139,336 142,321 144,304 147,288 150,270 152,253 155,236 158,218 160,201 163,185 166,169 168,154 171,140 174,127 176,115 179,105 181,96 184,88 187,83 189,79 192,76 195,76 197,77 200,79 203,84 205,90 208,98 211,107 213,118 216,130 218,143 221,158 224,173 226,189 229,205 232,222 234,240 237,257 240,275 242,292 245,308 248,325 250,340 253,354 256,368 258,380 261,391 263,401 266,409 269,415 271,420 274,423 277,424 279,424 282,422 285,418 287,413 290,406 293,397 295,387 298,375 300,362 303,349 306,334 308,318 311,302 314,285 316,267 319,250 322,233 324,215 327,198 330,182 332,166 335,151 338,138 340,125 343,113 345,103 348,94 351,87 353,82 356,78 359,76 361,76 364,77 367,80 369,85 372,91 375,99 377,109 380,120 382,132 385,146 388,160 390,175 393,192 396,208 398,225 401,243 404,260 406,278 409,295 412,311 414,327 417,342 420,357 422,370 425,382 427,393 430,402 433,410 435,416 438,421 441,423 443,424 446,424 449,421 451,417 454,412 457,404 459,395 462,385 464,373 467,360 470,346 472,331 475,315 478,299 480,282 483,265 486,247 488,230 491,212 494,196 496,179 499,164 502,149 504,135 507,123 509,112 512,102 515,93 517,86 520,81 523,78 525,76 528,76 531,77 533,81 536,86 539,93 541,101 544,111 546,122 549,134 552,148 554,163 557,178 560,194 562,211 565,228 568,246 570,263 573,280 576,297 578,314 581,330 584,345 \"/>\n",
       "<polyline fill=\"none\" opacity=\"1\" stroke=\"#0000FF\" stroke-width=\"1\" points=\"55,396 57,405 60,412 62,418 65,422 68,424 70,424 73,423 76,420 78,415 81,409 84,401 86,392 89,381 92,368 94,355 97,341 99,325 102,309 105,293 107,275 110,258 113,241 115,223 118,206 121,190 123,173 126,158 129,144 131,131 134,118 136,108 139,98 142,90 144,84 147,80 150,77 152,76 155,76 158,78 160,82 163,88 166,95 168,104 171,115 174,126 176,139 179,153 181,168 184,184 187,201 189,217 192,235 195,252 197,270 200,287 203,304 205,320 208,336 211,350 213,364 216,377 218,388 221,398 224,406 226,413 229,419 232,422 234,424 237,424 240,423 242,419 245,414 248,408 250,400 253,390 256,379 258,366 261,353 263,338 266,323 269,306 271,290 274,272 277,255 279,238 282,220 285,203 287,187 290,171 293,156 295,142 298,128 300,117 303,106 306,97 308,89 311,83 314,79 316,76 319,75 322,76 324,79 327,83 330,89 332,97 335,106 338,117 340,128 343,142 345,156 348,171 351,187 353,203 356,220 359,238 361,255 364,272 367,290 369,306 372,323 375,338 377,353 380,366 382,379 385,390 388,400 390,408 393,414 396,419 398,423 401,424 404,424 406,422 409,419 412,413 414,406 417,398 420,388 422,377 425,364 427,350 430,336 433,320 435,304 438,287 441,270 443,252 446,235 449,217 451,201 454,184 457,168 459,153 462,139 464,126 467,115 470,104 472,95 475,88 478,82 480,78 483,76 486,76 488,77 491,80 494,84 496,90 499,98 502,108 504,118 507,131 509,144 512,158 515,173 517,190 520,206 523,223 525,241 528,258 531,275 533,293 536,309 539,325 541,341 544,355 546,368 549,381 552,392 554,401 557,409 560,415 562,420 565,423 568,424 570,424 573,422 576,418 578,412 581,405 584,396 \"/>\n",
       "<rect x=\"514\" y=\"227\" width=\"66\" height=\"45\" opacity=\"1\" fill=\"none\" stroke=\"#FFFFFF\"/>\n",
       "<text x=\"554\" y=\"237\" dy=\"0.76em\" text-anchor=\"start\" font-family=\"sans-serif\" font-size=\"9.67741935483871\" opacity=\"1\" fill=\"#FFFFFF\">\n",
       "sin\n",
       "</text>\n",
       "<text x=\"554\" y=\"252\" dy=\"0.76em\" text-anchor=\"start\" font-family=\"sans-serif\" font-size=\"9.67741935483871\" opacity=\"1\" fill=\"#FFFFFF\">\n",
       "cos\n",
       "</text>\n",
       "<polyline fill=\"none\" opacity=\"1\" stroke=\"#FF0000\" stroke-width=\"1\" points=\"524,242 544,242 \"/>\n",
       "<polyline fill=\"none\" opacity=\"1\" stroke=\"#0000FF\" stroke-width=\"1\" points=\"524,257 544,257 \"/>\n",
       "</svg>\n"
      ]
     },
     "metadata": {},
     "output_type": "display_data"
    },
    {
     "name": "stdout",
     "output_type": "stream",
     "text": [
      "type Mut0 = {mutable l0 : int32}\n",
      "let rec method1 (v0 : Mut0) : bool =\n",
      "    let v1 : int32 = v0.l0\n",
      "    let v2 : bool = v1 < 201\n",
      "    v2\n",
      "and method2 (v0 : int32, v1 : Mut0) : bool =\n",
      "    let v2 : int32 = v1.l0\n",
      "    let v3 : bool = v2 < v0\n",
      "    v3\n",
      "and method0 () : struct (string * string * (float []) * string * (struct (string * (float [])) [])) =\n",
      "    let v0 : (float []) = Array.zeroCreate<float> (201)\n",
      "    let v1 : Mut0 = {l0 = 0} : Mut0\n",
      "    while method1(v1) do\n",
      "        let v3 : int32 = v1.l0\n",
      "        let v4 : float = float v3\n",
      "        let v5 : float = 0.1 * v4\n",
      "        let v6 : float = -10.0 + v5\n",
      "        v0.[int v3] <- v6\n",
      "        let v7 : int32 = v3 + 1\n",
      "        v1.l0 <- v7\n",
      "        ()\n",
      "    let v8 : int32 = v0.Length\n",
      "    let v9 : (float []) = Array.zeroCreate<float> (v8)\n",
      "    let v10 : Mut0 = {l0 = 0} : Mut0\n",
      "    while method2(v8, v10) do\n",
      "        let v12 : int32 = v10.l0\n",
      "        let v13 : float = v0.[int v12]\n",
      "        let v14 : float = System.Math.Sin v13\n",
      "        v9.[int v12] <- v14\n",
      "        let v15 : int32 = v12 + 1\n",
      "        v10.l0 <- v15\n",
      "        ()\n",
      "    let v16 : (float []) = Array.zeroCreate<float> (v8)\n",
      "    let v17 : Mut0 = {l0 = 0} : Mut0\n",
      "    while method2(v8, v17) do\n",
      "        let v19 : int32 = v17.l0\n",
      "        let v20 : float = v0.[int v19]\n",
      "        let v21 : float = System.Math.Cos v20\n",
      "        v16.[int v19] <- v21\n",
      "        let v22 : int32 = v19 + 1\n",
      "        v17.l0 <- v22\n",
      "        ()\n",
      "    let v23 : string = \"sin\"\n",
      "    let v24 : string = \"cos\"\n",
      "    let v25 : (struct (string * (float [])) []) = [|struct (v23, v9); struct (v24, v16)|]\n",
      "    let v26 : string = \"sin cos\"\n",
      "    let v27 : string = \"x\"\n",
      "    let v28 : string = \"y\"\n",
      "    struct (v26, v27, v0, v28, v25)\n",
      "method0()\n",
      "\r\n"
     ]
    }
   ],
   "source": [
    "// // test\n",
    "\n",
    "inl x = init_series -10 10 0.1\n",
    "inl y_sin = x |> am.map sin\n",
    "inl y_cos = x |> am.map cos\n",
    "\"sin cos\", \"x\", x, \"y\", ;[\"sin\", y_sin; \"cos\", y_cos]"
   ]
  },
  {
   "cell_type": "code",
   "execution_count": null,
   "metadata": {
    "dotnet_interactive": {
     "language": "spiral"
    },
    "polyglot_notebook": {
     "kernelName": "spiral"
    }
   },
   "outputs": [
    {
     "name": "stdout",
     "output_type": "stream",
     "text": [
      "()\n",
      "\r\n"
     ]
    }
   ],
   "source": [
    "type derivative = (f64 -> f64) -> f64 -> f64\n",
    "\n",
    "inl derivative dt : derivative =\n",
    "    fun x t =>\n",
    "        (x (t + dt / 2) - x (t - dt / 2)) / dt"
   ]
  },
  {
   "cell_type": "code",
   "execution_count": null,
   "metadata": {
    "dotnet_interactive": {
     "language": "spiral"
    },
    "polyglot_notebook": {
     "kernelName": "spiral"
    }
   },
   "outputs": [
    {
     "name": "stdout",
     "output_type": "stream",
     "text": [
      "let rec method0 () : unit =\n",
      "    let v0 : string = $\"_almost_equal / actual: {0.25} / expected: {0.25}\"\n",
      "    let v1 : string = $\"_almost_equal / actual: {2.499998827953931E-07} / expected: {2.499998827953931E-07}\"\n",
      "    let v2 : string = $\"_almost_equal / actual: {1.000088900582341E-12} / expected: {1.000088900582341E-12}\"\n",
      "    let v3 : string = $\"_almost_equal / actual: {8.274037099909037E-08} / expected: {8.274037099909037E-08}\"\n",
      "    let v4 : string = $\"_almost_equal / actual: {8.890058234101161E-05} / expected: {8.890058234101161E-05}\"\n",
      "    let v5 : string = $\"_almost_equal / actual: {-0.0007992778373592246} / expected: {-0.0007992778373592246}\"\n",
      "    let v6 : string = $\"_almost_equal / actual: {-1.0} / expected: {-1.0}\"\n",
      "    ()\n",
      "method0()\n",
      "\r\n"
     ]
    }
   ],
   "source": [
    "// // test\n",
    "\n",
    "derivative 1 (fun x => x ** 4 / 4) 1 - 1\n",
    "|> _almost_equal 0.25\n",
    "\n",
    "derivative 0.001 (fun x => x ** 4 / 4) 1 - 1\n",
    "|> _almost_equal 0.0000002499998827953931\n",
    "\n",
    "derivative 0.000001 (fun x => x ** 4 / 4) 1 - 1\n",
    "|> _almost_equal 0.000000000001000088900582341\n",
    "\n",
    "derivative 0.000000001 (fun x => x ** 4 / 4) 1 - 1\n",
    "|> _almost_equal 0.00000008274037099909037\n",
    "\n",
    "derivative 0.000000000001 (fun x => x ** 4 / 4) 1 - 1\n",
    "|> _almost_equal 0.00008890058234101161\n",
    "\n",
    "derivative 0.000000000000001 (fun x => x ** 4 / 4) 1 - 1\n",
    "|> _almost_equal -0.0007992778373592246\n",
    "\n",
    "derivative 0.000000000000000001 (fun x => x ** 4 / 4) 1 - 1\n",
    "|> _almost_equal -1"
   ]
  },
  {
   "cell_type": "code",
   "execution_count": null,
   "metadata": {
    "dotnet_interactive": {
     "language": "spiral"
    },
    "polyglot_notebook": {
     "kernelName": "spiral"
    }
   },
   "outputs": [
    {
     "name": "stdout",
     "output_type": "stream",
     "text": [
      "()\n",
      "\r\n"
     ]
    }
   ],
   "source": [
    "type integration = (f64 -> f64) -> f64 -> f64 -> f64\n",
    "\n",
    "inl integral dt : integration =\n",
    "    fun f a b =>\n",
    "        inl rec loop t y =\n",
    "            if t < b\n",
    "            then loop (t + dt) (y + f t * dt)\n",
    "            else t, y\n",
    "        loop (a + dt / 2) 0\n",
    "        |> snd"
   ]
  },
  {
   "cell_type": "code",
   "execution_count": null,
   "metadata": {
    "dotnet_interactive": {
     "language": "spiral"
    },
    "polyglot_notebook": {
     "kernelName": "spiral"
    }
   },
   "outputs": [
    {
     "name": "stdout",
     "output_type": "stream",
     "text": [
      "let rec method0 () : unit =\n",
      "    let v0 : string = $\"_almost_equal / actual: {0.3333250000000004} / expected: {0.33332500000000004}\"\n",
      "    ()\n",
      "method0()\n",
      "\r\n"
     ]
    }
   ],
   "source": [
    "// // test\n",
    "\n",
    "integral 0.01 square 0 1\n",
    "|> _almost_equal 0.33332500000000004"
   ]
  },
  {
   "cell_type": "code",
   "execution_count": null,
   "metadata": {
    "dotnet_interactive": {
     "language": "spiral"
    },
    "polyglot_notebook": {
     "kernelName": "spiral"
    }
   },
   "outputs": [
    {
     "name": "stdout",
     "output_type": "stream",
     "text": [
      "()\n",
      "\r\n"
     ]
    }
   ],
   "source": [
    "inl integral' dt : integration =\n",
    "    fun f a b =>\n",
    "        init_series (a + dt / 2) (b - dt / 2) dt\n",
    "        |> am.map (f >> (*) dt)\n",
    "        |> am.fold (+) 0"
   ]
  },
  {
   "cell_type": "code",
   "execution_count": null,
   "metadata": {
    "dotnet_interactive": {
     "language": "spiral"
    },
    "polyglot_notebook": {
     "kernelName": "spiral"
    }
   },
   "outputs": [
    {
     "name": "stdout",
     "output_type": "stream",
     "text": [
      "type Mut0 = {mutable l0 : int32}\n",
      "and Mut1 = {mutable l0 : int32; mutable l1 : float}\n",
      "let rec method1 (v0 : Mut0) : bool =\n",
      "    let v1 : int32 = v0.l0\n",
      "    let v2 : bool = v1 < 100\n",
      "    v2\n",
      "and method2 (v0 : int32, v1 : Mut0) : bool =\n",
      "    let v2 : int32 = v1.l0\n",
      "    let v3 : bool = v2 < v0\n",
      "    v3\n",
      "and method3 (v0 : int32, v1 : Mut1) : bool =\n",
      "    let v2 : int32 = v1.l0\n",
      "    let v3 : bool = v2 < v0\n",
      "    v3\n",
      "and method0 () : unit =\n",
      "    let v0 : (float []) = Array.zeroCreate<float> (100)\n",
      "    let v1 : Mut0 = {l0 = 0} : Mut0\n",
      "    while method1(v1) do\n",
      "        let v3 : int32 = v1.l0\n",
      "        let v4 : float = float v3\n",
      "        let v5 : float = 0.01 * v4\n",
      "        let v6 : float = 0.005 + v5\n",
      "        v0.[int v3] <- v6\n",
      "        let v7 : int32 = v3 + 1\n",
      "        v1.l0 <- v7\n",
      "        ()\n",
      "    let v8 : int32 = v0.Length\n",
      "    let v9 : (float []) = Array.zeroCreate<float> (v8)\n",
      "    let v10 : Mut0 = {l0 = 0} : Mut0\n",
      "    while method2(v8, v10) do\n",
      "        let v12 : int32 = v10.l0\n",
      "        let v13 : float = v0.[int v12]\n",
      "        let v14 : float = v13 ** 2.0\n",
      "        let v15 : float = 0.01 * v14\n",
      "        v9.[int v12] <- v15\n",
      "        let v16 : int32 = v12 + 1\n",
      "        v10.l0 <- v16\n",
      "        ()\n",
      "    let v17 : int32 = v9.Length\n",
      "    let v18 : Mut1 = {l0 = 0; l1 = 0.0} : Mut1\n",
      "    while method3(v17, v18) do\n",
      "        let v20 : int32 = v18.l0\n",
      "        let v21 : float = v18.l1\n",
      "        let v22 : float = v9.[int v20]\n",
      "        let v23 : float = v21 + v22\n",
      "        let v24 : int32 = v20 + 1\n",
      "        v18.l0 <- v24\n",
      "        v18.l1 <- v23\n",
      "        ()\n",
      "    let v25 : float = v18.l1\n",
      "    let v26 : float = 0.33332500000000004 - v25\n",
      "    let v27 : float =  -v26\n",
      "    let v28 : bool = v26 >= v27\n",
      "    let v29 : float =\n",
      "        if v28 then\n",
      "            v26\n",
      "        else\n",
      "            v27\n",
      "    let v30 : bool = v29 < 1E-08\n",
      "    let v31 : string = $\"_almost_equal / actual: {v25} / expected: {0.33332500000000004}\"\n",
      "    let v32 : bool = v30 = false\n",
      "    if v32 then\n",
      "        failwith<unit> v31\n",
      "method0()\n",
      "\r\n"
     ]
    }
   ],
   "source": [
    "// // test\n",
    "\n",
    "integral' 0.01 square 0 1\n",
    "|> _almost_equal 0.33332500000000004"
   ]
  },
  {
   "cell_type": "code",
   "execution_count": null,
   "metadata": {
    "dotnet_interactive": {
     "language": "spiral"
    },
    "polyglot_notebook": {
     "kernelName": "spiral"
    }
   },
   "outputs": [
    {
     "name": "stdout",
     "output_type": "stream",
     "text": [
      "()\n",
      "\r\n"
     ]
    }
   ],
   "source": [
    "type vec =\n",
    "    {\n",
    "        x : f64\n",
    "        y : f64\n",
    "        z : f64\n",
    "    }\n",
    "\n",
    "inl vec x y z : vec =\n",
    "    { x y z }"
   ]
  },
  {
   "cell_type": "code",
   "execution_count": null,
   "metadata": {
    "dotnet_interactive": {
     "language": "spiral"
    },
    "polyglot_notebook": {
     "kernelName": "spiral"
    }
   },
   "outputs": [
    {
     "name": "stdout",
     "output_type": "stream",
     "text": [
      "let rec method0 () : unit =\n",
      "    let v0 : string = $\"_equal / actual: {3.0} / expected: {3.0}\"\n",
      "    ()\n",
      "method0()\n",
      "\r\n"
     ]
    }
   ],
   "source": [
    "// // test\n",
    "\n",
    "vec 1 2 3 .z\n",
    "|> _equal 3"
   ]
  },
  {
   "cell_type": "code",
   "execution_count": null,
   "metadata": {
    "dotnet_interactive": {
     "language": "spiral"
    },
    "polyglot_notebook": {
     "kernelName": "spiral"
    }
   },
   "outputs": [
    {
     "name": "stdout",
     "output_type": "stream",
     "text": [
      "()\n",
      "\r\n"
     ]
    }
   ],
   "source": [
    "inl (^+^) (a : vec) (b : vec) =\n",
    "    vec (a.x + b.x) (a.y + b.y) (a.z + b.z)"
   ]
  },
  {
   "cell_type": "code",
   "execution_count": null,
   "metadata": {
    "dotnet_interactive": {
     "language": "spiral"
    },
    "polyglot_notebook": {
     "kernelName": "spiral"
    }
   },
   "outputs": [
    {
     "name": "stdout",
     "output_type": "stream",
     "text": [
      "let rec method0 () : unit =\n",
      "    let v0 : string = $\"_equal / actual: {struct (5.0, 7.0, 9.0)} / expected: {struct (5.0, 7.0, 9.0)}\"\n",
      "    ()\n",
      "method0()\n",
      "\r\n"
     ]
    }
   ],
   "source": [
    "// // test\n",
    "\n",
    "vec 1 2 3 ^+^ vec 4 5 6\n",
    "|> _equal (vec 5 7 9)"
   ]
  },
  {
   "cell_type": "code",
   "execution_count": null,
   "metadata": {
    "dotnet_interactive": {
     "language": "spiral"
    },
    "polyglot_notebook": {
     "kernelName": "spiral"
    }
   },
   "outputs": [
    {
     "name": "stdout",
     "output_type": "stream",
     "text": [
      "()\n",
      "\r\n"
     ]
    }
   ],
   "source": [
    "inl (*^) c { x y z } =\n",
    "    vec (c * x) (c * y) (c * z)"
   ]
  },
  {
   "cell_type": "code",
   "execution_count": null,
   "metadata": {
    "dotnet_interactive": {
     "language": "spiral"
    },
    "polyglot_notebook": {
     "kernelName": "spiral"
    }
   },
   "outputs": [
    {
     "name": "stdout",
     "output_type": "stream",
     "text": [
      "let rec method0 () : unit =\n",
      "    let v0 : string = $\"_equal / actual: {struct (5.0, 10.0, 15.0)} / expected: {struct (5.0, 10.0, 15.0)}\"\n",
      "    ()\n",
      "method0()\n",
      "\r\n"
     ]
    }
   ],
   "source": [
    "// // test\n",
    "\n",
    "5 *^ vec 1 2 3\n",
    "|> _equal (vec 5 10 15)"
   ]
  },
  {
   "cell_type": "code",
   "execution_count": null,
   "metadata": {
    "dotnet_interactive": {
     "language": "spiral"
    },
    "polyglot_notebook": {
     "kernelName": "spiral"
    }
   },
   "outputs": [
    {
     "name": "stdout",
     "output_type": "stream",
     "text": [
      "()\n",
      "\r\n"
     ]
    }
   ],
   "source": [
    "inl (^*) v c =\n",
    "    (*^) c v"
   ]
  },
  {
   "cell_type": "code",
   "execution_count": null,
   "metadata": {
    "dotnet_interactive": {
     "language": "spiral"
    },
    "polyglot_notebook": {
     "kernelName": "spiral"
    }
   },
   "outputs": [
    {
     "name": "stdout",
     "output_type": "stream",
     "text": [
      "let rec method0 () : unit =\n",
      "    let v0 : string = $\"_equal / actual: {struct (5.0, 10.0, 15.0)} / expected: {struct (5.0, 10.0, 15.0)}\"\n",
      "    ()\n",
      "method0()\n",
      "\r\n"
     ]
    }
   ],
   "source": [
    "// // test\n",
    "\n",
    "vec 1 2 3 ^* 5\n",
    "|> _equal (vec 5 10 15)"
   ]
  },
  {
   "cell_type": "code",
   "execution_count": null,
   "metadata": {
    "dotnet_interactive": {
     "language": "spiral"
    },
    "polyglot_notebook": {
     "kernelName": "spiral"
    }
   },
   "outputs": [
    {
     "name": "stdout",
     "output_type": "stream",
     "text": [
      "()\n",
      "\r\n"
     ]
    }
   ],
   "source": [
    "inl (^/) { x y z } c =\n",
    "    vec (x / c) (y / c) (z / c)"
   ]
  },
  {
   "cell_type": "code",
   "execution_count": null,
   "metadata": {
    "dotnet_interactive": {
     "language": "spiral"
    },
    "polyglot_notebook": {
     "kernelName": "spiral"
    }
   },
   "outputs": [
    {
     "name": "stdout",
     "output_type": "stream",
     "text": [
      "let rec method0 () : unit =\n",
      "    let v0 : string = $\"_equal / actual: {struct (0.2, 0.4, 0.6)} / expected: {struct (0.2, 0.4, 0.6)}\"\n",
      "    ()\n",
      "method0()\n",
      "\r\n"
     ]
    }
   ],
   "source": [
    "// // test\n",
    "\n",
    "vec 1 2 3 ^/ 5\n",
    "|> _equal (vec 0.2 0.4 0.6)"
   ]
  },
  {
   "cell_type": "code",
   "execution_count": null,
   "metadata": {
    "dotnet_interactive": {
     "language": "spiral"
    },
    "polyglot_notebook": {
     "kernelName": "spiral"
    }
   },
   "outputs": [
    {
     "name": "stdout",
     "output_type": "stream",
     "text": [
      "()\n",
      "\r\n"
     ]
    }
   ],
   "source": [
    "inl negate_vec v =\n",
    "    v ^* -1"
   ]
  },
  {
   "cell_type": "code",
   "execution_count": null,
   "metadata": {
    "dotnet_interactive": {
     "language": "spiral"
    },
    "polyglot_notebook": {
     "kernelName": "spiral"
    }
   },
   "outputs": [
    {
     "name": "stdout",
     "output_type": "stream",
     "text": [
      "let rec method0 () : unit =\n",
      "    let v0 : string = $\"_equal / actual: {struct (-1.0, -2.0, -3.0)} / expected: {struct (-1.0, -2.0, -3.0)}\"\n",
      "    ()\n",
      "method0()\n",
      "\r\n"
     ]
    }
   ],
   "source": [
    "// // test\n",
    "\n",
    "vec 1 2 3\n",
    "|> negate_vec\n",
    "|> _equal (vec -1 -2 -3)"
   ]
  },
  {
   "cell_type": "code",
   "execution_count": null,
   "metadata": {
    "dotnet_interactive": {
     "language": "spiral"
    },
    "polyglot_notebook": {
     "kernelName": "spiral"
    }
   },
   "outputs": [
    {
     "name": "stdout",
     "output_type": "stream",
     "text": [
      "()\n",
      "\r\n"
     ]
    }
   ],
   "source": [
    "inl (^-^) a b =\n",
    "    a ^+^ (negate_vec b)"
   ]
  },
  {
   "cell_type": "code",
   "execution_count": null,
   "metadata": {
    "dotnet_interactive": {
     "language": "spiral"
    },
    "polyglot_notebook": {
     "kernelName": "spiral"
    }
   },
   "outputs": [
    {
     "name": "stdout",
     "output_type": "stream",
     "text": [
      "let rec method0 () : unit =\n",
      "    let v0 : string = $\"_equal / actual: {struct (-3.0, -3.0, -3.0)} / expected: {struct (-3.0, -3.0, -3.0)}\"\n",
      "    ()\n",
      "method0()\n",
      "\r\n"
     ]
    }
   ],
   "source": [
    "// // test\n",
    "\n",
    "vec 1 2 3 ^-^ vec 4 5 6\n",
    "|> _equal (vec -3 -3 -3)"
   ]
  },
  {
   "cell_type": "code",
   "execution_count": null,
   "metadata": {
    "dotnet_interactive": {
     "language": "spiral"
    },
    "polyglot_notebook": {
     "kernelName": "spiral"
    }
   },
   "outputs": [
    {
     "name": "stdout",
     "output_type": "stream",
     "text": [
      "()\n",
      "\r\n"
     ]
    }
   ],
   "source": [
    "inl (<.>) { x = ax y = ay z = az } { x = bx y = by z = bz } =\n",
    "    ax * bx + ay * by + az * bz"
   ]
  },
  {
   "cell_type": "code",
   "execution_count": null,
   "metadata": {
    "dotnet_interactive": {
     "language": "spiral"
    },
    "polyglot_notebook": {
     "kernelName": "spiral"
    }
   },
   "outputs": [
    {
     "name": "stdout",
     "output_type": "stream",
     "text": [
      "let rec method0 () : unit =\n",
      "    let v0 : string = $\"_equal / actual: {32.0} / expected: {32.0}\"\n",
      "    ()\n",
      "method0()\n",
      "\r\n"
     ]
    }
   ],
   "source": [
    "// // test\n",
    "\n",
    "vec 1 2 3 <.> vec 4 5 6\n",
    "|> _equal 32"
   ]
  },
  {
   "cell_type": "code",
   "execution_count": null,
   "metadata": {
    "dotnet_interactive": {
     "language": "spiral"
    },
    "polyglot_notebook": {
     "kernelName": "spiral"
    }
   },
   "outputs": [
    {
     "name": "stdout",
     "output_type": "stream",
     "text": [
      "()\n",
      "\r\n"
     ]
    }
   ],
   "source": [
    "inl (><) (a : vec) (b : vec) =\n",
    "    vec\n",
    "        (a.y * b.z - a.z * b.y)\n",
    "        (a.z * b.x - a.x * b.z)\n",
    "        (a.x * b.y - a.y * b.x)"
   ]
  },
  {
   "cell_type": "code",
   "execution_count": null,
   "metadata": {
    "dotnet_interactive": {
     "language": "spiral"
    },
    "polyglot_notebook": {
     "kernelName": "spiral"
    }
   },
   "outputs": [
    {
     "name": "stdout",
     "output_type": "stream",
     "text": [
      "let rec method0 () : unit =\n",
      "    let v0 : string = $\"_equal / actual: {struct (-3.0, 6.0, -3.0)} / expected: {struct (-3.0, 6.0, -3.0)}\"\n",
      "    ()\n",
      "method0()\n",
      "\r\n"
     ]
    }
   ],
   "source": [
    "// // test\n",
    "\n",
    "vec 1 2 3 >< vec 4 5 6\n",
    "|> _equal (vec -3 6 -3)"
   ]
  },
  {
   "cell_type": "code",
   "execution_count": null,
   "metadata": {
    "dotnet_interactive": {
     "language": "spiral"
    },
    "polyglot_notebook": {
     "kernelName": "spiral"
    }
   },
   "outputs": [
    {
     "name": "stdout",
     "output_type": "stream",
     "text": [
      "()\n",
      "\r\n"
     ]
    }
   ],
   "source": [
    "inl i_hat () = vec 1 0 0\n",
    "inl j_hat () = vec 0 1 0\n",
    "inl k_hat () = vec 0 0 1\n",
    "inl zero_vec () = vec 0 0 0"
   ]
  },
  {
   "cell_type": "code",
   "execution_count": null,
   "metadata": {
    "dotnet_interactive": {
     "language": "spiral"
    },
    "polyglot_notebook": {
     "kernelName": "spiral"
    }
   },
   "outputs": [
    {
     "name": "stdout",
     "output_type": "stream",
     "text": [
      "()\n",
      "\r\n"
     ]
    }
   ],
   "source": [
    "inl sum_vec vs =\n",
    "    vs |> listm.fold (^+^) (zero_vec ())"
   ]
  },
  {
   "cell_type": "code",
   "execution_count": null,
   "metadata": {
    "dotnet_interactive": {
     "language": "spiral"
    },
    "polyglot_notebook": {
     "kernelName": "spiral"
    }
   },
   "outputs": [
    {
     "name": "stdout",
     "output_type": "stream",
     "text": [
      "let rec method0 () : unit =\n",
      "    let v0 : string = $\"_equal / actual: {struct (5.0, 7.0, 9.0)} / expected: {struct (5.0, 7.0, 9.0)}\"\n",
      "    ()\n",
      "method0()\n",
      "\r\n"
     ]
    }
   ],
   "source": [
    "// // test\n",
    "\n",
    "[vec 1 2 3; vec 4 5 6]\n",
    "|> sum_vec\n",
    "|> _equal (vec 5 7 9)"
   ]
  },
  {
   "cell_type": "code",
   "execution_count": null,
   "metadata": {
    "dotnet_interactive": {
     "language": "spiral"
    },
    "polyglot_notebook": {
     "kernelName": "spiral"
    }
   },
   "outputs": [
    {
     "name": "stdout",
     "output_type": "stream",
     "text": [
      "()\n",
      "\r\n"
     ]
    }
   ],
   "source": [
    "inl magnitude v =\n",
    "    v <.> v |> sqrt"
   ]
  },
  {
   "cell_type": "code",
   "execution_count": null,
   "metadata": {
    "dotnet_interactive": {
     "language": "spiral"
    },
    "polyglot_notebook": {
     "kernelName": "spiral"
    }
   },
   "outputs": [
    {
     "name": "stdout",
     "output_type": "stream",
     "text": [
      "let rec method0 () : unit =\n",
      "    let v0 : string = $\"_almost_equal / actual: {3.7416573867739413} / expected: {3.7416573867739413}\"\n",
      "    ()\n",
      "method0()\n",
      "\r\n"
     ]
    }
   ],
   "source": [
    "// // test\n",
    "\n",
    "vec 1 2 3\n",
    "|> magnitude\n",
    "|> _almost_equal 3.7416573867739413"
   ]
  },
  {
   "cell_type": "code",
   "execution_count": null,
   "metadata": {
    "dotnet_interactive": {
     "language": "spiral"
    },
    "polyglot_notebook": {
     "kernelName": "spiral"
    }
   },
   "outputs": [
    {
     "name": "stdout",
     "output_type": "stream",
     "text": [
      "()\n",
      "\r\n"
     ]
    }
   ],
   "source": [
    "inl v1 t =\n",
    "    2 *^ (t ** 2 *^ i_hat () ^+^ 3 *^ (t ** 3 *^ j_hat () ^+^ t ** 4 *^ k_hat ()))"
   ]
  },
  {
   "cell_type": "code",
   "execution_count": null,
   "metadata": {
    "dotnet_interactive": {
     "language": "spiral"
    },
    "polyglot_notebook": {
     "kernelName": "spiral"
    }
   },
   "outputs": [
    {
     "name": "stdout",
     "output_type": "stream",
     "text": [
      "let rec method0 () : unit =\n",
      "    let v0 : string = $\"_equal / actual: {struct (2.0, 6.0, 6.0)} / expected: {struct (2.0, 6.0, 6.0)}\"\n",
      "    ()\n",
      "method0()\n",
      "\r\n"
     ]
    }
   ],
   "source": [
    "// // test\n",
    "\n",
    "v1 1\n",
    "|> _equal (vec 2 6 6)"
   ]
  },
  {
   "cell_type": "code",
   "execution_count": null,
   "metadata": {
    "dotnet_interactive": {
     "language": "spiral"
    },
    "polyglot_notebook": {
     "kernelName": "spiral"
    }
   },
   "outputs": [
    {
     "name": "stdout",
     "output_type": "stream",
     "text": [
      "()\n",
      "\r\n"
     ]
    }
   ],
   "source": [
    "type vec_derivative = (f64 -> vec) -> f64 -> vec\n",
    "\n",
    "inl vec_derivative dt : vec_derivative =\n",
    "    fun v t =>\n",
    "        (v (t + dt / 2) ^-^ v (t - dt / 2)) ^/ dt"
   ]
  },
  {
   "cell_type": "code",
   "execution_count": null,
   "metadata": {
    "dotnet_interactive": {
     "language": "spiral"
    },
    "polyglot_notebook": {
     "kernelName": "spiral"
    }
   },
   "outputs": [
    {
     "name": "stdout",
     "output_type": "stream",
     "text": [
      "let rec method0 () : unit =\n",
      "    let v0 : string = $\"_almost_equal / actual: {11.999999999999744} / expected: {11.999999999999744}\"\n",
      "    ()\n",
      "method0()\n",
      "\r\n"
     ]
    }
   ],
   "source": [
    "// // test\n",
    "\n",
    "vec_derivative 0.01 v1 3 .x\n",
    "|> _almost_equal (derivative 0.01 (v1 >> fun v => v.x) 3)"
   ]
  },
  {
   "cell_type": "code",
   "execution_count": null,
   "metadata": {
    "dotnet_interactive": {
     "language": "spiral"
    },
    "polyglot_notebook": {
     "kernelName": "spiral"
    }
   },
   "outputs": [
    {
     "name": "stdout",
     "output_type": "stream",
     "text": [
      "let rec method0 () : unit =\n",
      "    ()\n",
      "method0()\n",
      "\r\n"
     ]
    }
   ],
   "source": [
    "// // test\n",
    "\n",
    "()"
   ]
  }
 ],
 "metadata": {
  "kernelspec": {
   "display_name": ".NET (C#)",
   "language": "C#",
   "name": ".net-csharp"
  },
  "language_info": {
   "file_extension": ".cs",
   "mimetype": "text/x-csharp",
   "name": "C#",
   "pygments_lexer": "csharp",
   "version": "10.0"
  },
  "polyglot_notebook": {
   "defaultKernelName": "csharp",
   "items": [
    {
     "name": "csharp"
    }
   ]
  },
  "dotnet_interactive": {
   "defaultKernelName": "csharp",
   "items": [
    {
     "name": "csharp"
    }
   ]
  }
 },
 "nbformat": 4,
 "nbformat_minor": 5
}