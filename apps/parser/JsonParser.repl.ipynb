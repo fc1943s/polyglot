{
 "cells": [
  {
   "cell_type": "markdown",
   "metadata": {
    "dotnet_repl_cellExecutionStartTime": "2023-07-21T16:12:41.541827-03:00",
    "dotnet_repl_cellExecutionEndTime": "2023-07-21T16:12:41.6448168-03:00",
    "dotnet_repl_cellExecutionTime": "103.1996ms"
   },
   "source": [
    "# JsonParser (Polyglot)"
   ]
  },
  {
   "cell_type": "code",
   "execution_count": null,
   "metadata": {
    "dotnet_repl_cellExecutionStartTime": "2023-07-21T16:12:41.6481389-03:00",
    "dotnet_repl_cellExecutionEndTime": "2023-07-21T16:12:54.5957653-03:00",
    "dotnet_repl_cellExecutionTime": "12.9476285s",
    "dotnet_interactive": {
     "language": "fsharp"
    },
    "polyglot_notebook": {
     "kernelName": "fsharp"
    }
   },
   "outputs": [
    {
     "data": {
      "text/html": [
       "<div><div></div><div><strong>Installing Packages</strong><ul><li><span>Expecto</span></li></ul></div><div></div></div>"
      ]
     },
     "metadata": {},
     "output_type": "display_data"
    },
    {
     "data": {
      "text/html": [
       "<div><div></div><div><strong>Installing Packages</strong><ul><li><span>Expecto.</span></li></ul></div><div></div></div>"
      ]
     },
     "metadata": {},
     "output_type": "display_data"
    },
    {
     "data": {
      "text/html": [
       "<div><div></div><div><strong>Installing Packages</strong><ul><li><span>Expecto..</span></li></ul></div><div></div></div>"
      ]
     },
     "metadata": {},
     "output_type": "display_data"
    },
    {
     "data": {
      "text/html": [
       "<div><div></div><div><strong>Installing Packages</strong><ul><li><span>Expecto...</span></li></ul></div><div></div></div>"
      ]
     },
     "metadata": {},
     "output_type": "display_data"
    },
    {
     "data": {
      "text/html": [
       "<div><div></div><div><strong>Installing Packages</strong><ul><li><span>Expecto....</span></li></ul></div><div></div></div>"
      ]
     },
     "metadata": {},
     "output_type": "display_data"
    },
    {
     "data": {
      "text/html": [
       "<div><div></div><div><strong>Installing Packages</strong><ul><li><span>Expecto.....</span></li></ul></div><div></div></div>"
      ]
     },
     "metadata": {},
     "output_type": "display_data"
    },
    {
     "data": {
      "text/html": [
       "<div><div></div><div><strong>Installing Packages</strong><ul><li><span>Expecto......</span></li></ul></div><div></div></div>"
      ]
     },
     "metadata": {},
     "output_type": "display_data"
    },
    {
     "data": {
      "text/html": [
       "<div><div></div><div><strong>Installing Packages</strong><ul><li><span>Expecto.......</span></li></ul></div><div></div></div>"
      ]
     },
     "metadata": {},
     "output_type": "display_data"
    },
    {
     "data": {
      "text/html": [
       "<div><div></div><div><strong>Installing Packages</strong><ul><li><span>Expecto........</span></li></ul></div><div></div></div>"
      ]
     },
     "metadata": {},
     "output_type": "display_data"
    },
    {
     "data": {
      "text/html": [
       "<div><div></div><div><strong>Installing Packages</strong><ul><li><span>Expecto.........</span></li></ul></div><div></div></div>"
      ]
     },
     "metadata": {},
     "output_type": "display_data"
    },
    {
     "data": {
      "text/html": [
       "<div><div></div><div></div><div><strong>Installed Packages</strong><ul><li><span>Expecto, 10.1.0</span></li></ul></div></div>"
      ]
     },
     "metadata": {},
     "output_type": "display_data"
    }
   ],
   "source": [
    "#!import ../nbs/Testing.dib"
   ]
  },
  {
   "cell_type": "code",
   "execution_count": null,
   "metadata": {
    "dotnet_repl_cellExecutionStartTime": "2023-07-21T16:12:54.5958928-03:00",
    "dotnet_repl_cellExecutionEndTime": "2023-07-21T16:12:56.1727492-03:00",
    "dotnet_repl_cellExecutionTime": "1.5768582s",
    "dotnet_interactive": {
     "language": "fsharp"
    },
    "polyglot_notebook": {
     "kernelName": "fsharp"
    }
   },
   "outputs": [],
   "source": [
    "#!import ../nbs/Common.fs\n",
    "#!import Parser.fs"
   ]
  },
  {
   "cell_type": "code",
   "execution_count": null,
   "metadata": {
    "dotnet_repl_cellExecutionStartTime": "2023-07-21T16:12:56.1727793-03:00",
    "dotnet_repl_cellExecutionEndTime": "2023-07-21T16:12:56.1815854-03:00",
    "dotnet_repl_cellExecutionTime": "8.8077ms",
    "dotnet_interactive": {
     "language": "fsharp"
    },
    "polyglot_notebook": {
     "kernelName": "fsharp"
    }
   },
   "outputs": [],
   "source": [
    "open Common\n",
    "open Parser"
   ]
  },
  {
   "cell_type": "markdown",
   "metadata": {
    "dotnet_repl_cellExecutionStartTime": "2023-07-21T16:12:56.1816161-03:00",
    "dotnet_repl_cellExecutionEndTime": "2023-07-21T16:12:56.1829686-03:00",
    "dotnet_repl_cellExecutionTime": "1.3541ms"
   },
   "source": [
    "## JsonParser"
   ]
  },
  {
   "cell_type": "code",
   "execution_count": null,
   "metadata": {
    "dotnet_repl_cellExecutionStartTime": "2023-07-21T16:12:56.1829963-03:00",
    "dotnet_repl_cellExecutionEndTime": "2023-07-21T16:12:56.1895868-03:00",
    "dotnet_repl_cellExecutionTime": "6.5921ms",
    "dotnet_interactive": {
     "language": "fsharp"
    },
    "polyglot_notebook": {
     "kernelName": "fsharp"
    }
   },
   "outputs": [],
   "source": [
    "(*\n",
    "// --------------------------------\n",
    "JSON spec from http://www.json.org/\n",
    "// --------------------------------\n",
    "\n",
    "The JSON spec is available at [json.org](http://www.json.org/). I'll paraphase it here:\n",
    "\n",
    "* A `value` can be a `string` or a `number` or a `bool` or `null` or an `object` or an `array`.\n",
    "  * These structures can be nested.\n",
    "* A `string` is a sequence of zero or more Unicode characters, wrapped in double quotes, using backslash escapes.\n",
    "* A `number` is very much like a C or Java number, except that the octal and hexadecimal formats are not used.\n",
    "* A `boolean` is the literal `true` or `false`\n",
    "* A `null` is the literal `null`\n",
    "* An `object` is an unordered set of name/value pairs.\n",
    "  * An object begins with { (left brace) and ends with } (right brace).\n",
    "  * Each name is followed by : (colon) and the name/value pairs are separated by , (comma).\n",
    "* An `array` is an ordered collection of values.\n",
    "  * An array begins with [ (left bracket) and ends with ] (right bracket).\n",
    "  * Values are separated by , (comma).\n",
    "* Whitespace can be inserted between any pair of tokens.\n",
    "\n",
    "*)"
   ]
  },
  {
   "cell_type": "code",
   "execution_count": null,
   "metadata": {
    "dotnet_repl_cellExecutionStartTime": "2023-07-21T16:12:56.1896185-03:00",
    "dotnet_repl_cellExecutionEndTime": "2023-07-21T16:12:56.2147871-03:00",
    "dotnet_repl_cellExecutionTime": "25.1704ms",
    "dotnet_interactive": {
     "language": "fsharp"
    },
    "polyglot_notebook": {
     "kernelName": "fsharp"
    }
   },
   "outputs": [],
   "source": [
    "//// test\n",
    "\n",
    "let parserEqual (expected : ParseResult<'a>) (actual : ParseResult<'a * Input>) =\n",
    "    match actual, expected with\n",
    "    | Success (_actual, _), Success _expected ->\n",
    "        printResult actual\n",
    "        _actual |> _equal _expected\n",
    "    | Failure (l1, e1, p1), Failure (l2, e2, p2) when l1 = l2 && e1 = e2 && p1 = p2 ->\n",
    "        printResult actual\n",
    "    | _ ->\n",
    "        printfn $\"Actual: {actual}\"\n",
    "        printfn $\"Expected: {expected}\"\n",
    "        failwith \"Parse failed\"\n",
    "    actual"
   ]
  },
  {
   "cell_type": "markdown",
   "metadata": {
    "dotnet_repl_cellExecutionStartTime": "2023-07-21T16:12:56.2148211-03:00",
    "dotnet_repl_cellExecutionEndTime": "2023-07-21T16:12:56.216276-03:00",
    "dotnet_repl_cellExecutionTime": "1.458ms"
   },
   "source": [
    "### JValue"
   ]
  },
  {
   "cell_type": "code",
   "execution_count": null,
   "metadata": {
    "dotnet_repl_cellExecutionStartTime": "2023-07-21T16:12:56.2163134-03:00",
    "dotnet_repl_cellExecutionEndTime": "2023-07-21T16:12:56.319084-03:00",
    "dotnet_repl_cellExecutionTime": "102.7724ms",
    "dotnet_interactive": {
     "language": "fsharp"
    },
    "polyglot_notebook": {
     "kernelName": "fsharp"
    }
   },
   "outputs": [],
   "source": [
    "type JValue =\n",
    "    | JString of string\n",
    "    | JNumber of float\n",
    "    | JBool   of bool\n",
    "    | JNull\n",
    "    | JObject of Map<string, JValue>\n",
    "    | JArray  of JValue list"
   ]
  },
  {
   "cell_type": "code",
   "execution_count": null,
   "metadata": {
    "dotnet_repl_cellExecutionStartTime": "2023-07-21T16:12:56.3191175-03:00",
    "dotnet_repl_cellExecutionEndTime": "2023-07-21T16:12:56.3406941-03:00",
    "dotnet_repl_cellExecutionTime": "21.5791ms",
    "dotnet_interactive": {
     "language": "fsharp"
    },
    "polyglot_notebook": {
     "kernelName": "fsharp"
    }
   },
   "outputs": [],
   "source": [
    "let jValue, jValueRef = createParserForwardedToRef<JValue> ()"
   ]
  },
  {
   "cell_type": "markdown",
   "metadata": {
    "dotnet_repl_cellExecutionStartTime": "2023-07-21T16:12:56.3407398-03:00",
    "dotnet_repl_cellExecutionEndTime": "2023-07-21T16:12:56.3425624-03:00",
    "dotnet_repl_cellExecutionTime": "1.8242ms"
   },
   "source": [
    "### jNull"
   ]
  },
  {
   "cell_type": "code",
   "execution_count": null,
   "metadata": {
    "dotnet_repl_cellExecutionStartTime": "2023-07-21T16:12:56.3425899-03:00",
    "dotnet_repl_cellExecutionEndTime": "2023-07-21T16:12:56.3661672-03:00",
    "dotnet_repl_cellExecutionTime": "23.5804ms",
    "dotnet_interactive": {
     "language": "fsharp"
    },
    "polyglot_notebook": {
     "kernelName": "fsharp"
    }
   },
   "outputs": [],
   "source": [
    "let jNull =\n",
    "    pstring \"null\"\n",
    "    >>% JNull\n",
    "    <?> \"null\""
   ]
  },
  {
   "cell_type": "code",
   "execution_count": null,
   "metadata": {
    "dotnet_repl_cellExecutionStartTime": "2023-07-21T16:12:56.3662175-03:00",
    "dotnet_repl_cellExecutionEndTime": "2023-07-21T16:12:56.3804534-03:00",
    "dotnet_repl_cellExecutionTime": "14.2393ms",
    "dotnet_interactive": {
     "language": "fsharp"
    },
    "polyglot_notebook": {
     "kernelName": "fsharp"
    }
   },
   "outputs": [],
   "source": [
    "//// test\n",
    "\n",
    "jValueRef <|\n",
    "    choice\n",
    "        [\n",
    "            jNull\n",
    "        ]"
   ]
  },
  {
   "cell_type": "code",
   "execution_count": null,
   "metadata": {
    "dotnet_repl_cellExecutionStartTime": "2023-07-21T16:12:56.3804934-03:00",
    "dotnet_repl_cellExecutionEndTime": "2023-07-21T16:12:56.5725856-03:00",
    "dotnet_repl_cellExecutionTime": "192.0936ms",
    "dotnet_interactive": {
     "language": "fsharp"
    },
    "polyglot_notebook": {
     "kernelName": "fsharp"
    }
   },
   "outputs": [
    {
     "data": {
      "text/html": [
       "<details open=\"open\" class=\"dni-treeview\"><summary><span class=\"dni-code-hint\"><code>Success (JNull, { lines = [|\"null\"|]\\n                  position = { line = 0\\n                               column = 4 } })</code></span></summary><div><table><thead><tr></tr></thead><tbody><tr><td>Item</td><td><details class=\"dni-treeview\"><summary><span class=\"dni-code-hint\"><code>(JNull, { lines = [|\"null\"|]\\n  position = { line = 0\\n               column = 4 } })</code></span></summary><div><table><thead><tr></tr></thead><tbody><tr><td>Item1</td><td><details class=\"dni-treeview\"><summary><span class=\"dni-code-hint\"><code>JNull</code></span></summary><div><table><thead><tr></tr></thead><tbody></tbody></table></div></details></td></tr><tr><td>Item2</td><td><details class=\"dni-treeview\"><summary><span class=\"dni-code-hint\"><code>{ lines = [|\"null\"|]\\n  position = { line = 0\\n               column = 4 } }</code></span></summary><div><table><thead><tr></tr></thead><tbody><tr><td>lines</td><td><div class=\"dni-plaintext\"><pre>[ null ]</pre></div></td></tr><tr><td>position</td><td><details class=\"dni-treeview\"><summary><span class=\"dni-code-hint\"><code>{ line = 0\\n  column = 4 }</code></span></summary><div><table><thead><tr></tr></thead><tbody><tr><td>line</td><td><div class=\"dni-plaintext\"><pre>0</pre></div></td></tr><tr><td>column</td><td><div class=\"dni-plaintext\"><pre>4</pre></div></td></tr></tbody></table></div></details></td></tr></tbody></table></div></details></td></tr></tbody></table></div></details></td></tr></tbody></table></div></details><style>\r\n",
       ".dni-code-hint {\r\n",
       "    font-style: italic;\r\n",
       "    overflow: hidden;\r\n",
       "    white-space: nowrap;\r\n",
       "}\r\n",
       ".dni-treeview {\r\n",
       "    white-space: nowrap;\r\n",
       "}\r\n",
       ".dni-treeview td {\r\n",
       "    vertical-align: top;\r\n",
       "    text-align: start;\r\n",
       "}\r\n",
       "details.dni-treeview {\r\n",
       "    padding-left: 1em;\r\n",
       "}\r\n",
       "table td {\r\n",
       "    text-align: start;\r\n",
       "}\r\n",
       "table tr { \r\n",
       "    vertical-align: top; \r\n",
       "    margin: 0em 0px;\r\n",
       "}\r\n",
       "table tr td pre \r\n",
       "{ \r\n",
       "    vertical-align: top !important; \r\n",
       "    margin: 0em 0px !important;\r\n",
       "} \r\n",
       "table th {\r\n",
       "    text-align: start;\r\n",
       "}\r\n",
       "</style>"
      ]
     },
     "metadata": {},
     "output_type": "display_data"
    },
    {
     "name": "stdout",
     "output_type": "stream",
     "text": [
      "JNull\r\n",
      "JNull\r\n"
     ]
    }
   ],
   "source": [
    "//// test\n",
    "\n",
    "run jValue \"null\"\n",
    "|> parserEqual (Success JNull)"
   ]
  },
  {
   "cell_type": "code",
   "execution_count": null,
   "metadata": {
    "dotnet_repl_cellExecutionStartTime": "2023-07-21T16:12:56.5726213-03:00",
    "dotnet_repl_cellExecutionEndTime": "2023-07-21T16:12:56.6278706-03:00",
    "dotnet_repl_cellExecutionTime": "55.2505ms",
    "dotnet_interactive": {
     "language": "fsharp"
    },
    "polyglot_notebook": {
     "kernelName": "fsharp"
    }
   },
   "outputs": [
    {
     "data": {
      "text/html": [
       "<details open=\"open\" class=\"dni-treeview\"><summary><span class=\"dni-code-hint\"><code>Failure (\"null\", \"Unexpected 'p'\", { currentLine = \"nulp\"\\n                                     line = 0\\n                                     column = 3 })</code></span></summary><div><table><thead><tr></tr></thead><tbody><tr><td>Item1</td><td>null</td></tr><tr><td>Item2</td><td>Unexpected &#39;p&#39;</td></tr><tr><td>Item3</td><td><details class=\"dni-treeview\"><summary><span class=\"dni-code-hint\"><code>{ currentLine = \"nulp\"\\n  line = 0\\n  column = 3 }</code></span></summary><div><table><thead><tr></tr></thead><tbody><tr><td>currentLine</td><td>nulp</td></tr><tr><td>line</td><td><div class=\"dni-plaintext\"><pre>0</pre></div></td></tr><tr><td>column</td><td><div class=\"dni-plaintext\"><pre>3</pre></div></td></tr></tbody></table></div></details></td></tr></tbody></table></div></details><style>\r\n",
       ".dni-code-hint {\r\n",
       "    font-style: italic;\r\n",
       "    overflow: hidden;\r\n",
       "    white-space: nowrap;\r\n",
       "}\r\n",
       ".dni-treeview {\r\n",
       "    white-space: nowrap;\r\n",
       "}\r\n",
       ".dni-treeview td {\r\n",
       "    vertical-align: top;\r\n",
       "    text-align: start;\r\n",
       "}\r\n",
       "details.dni-treeview {\r\n",
       "    padding-left: 1em;\r\n",
       "}\r\n",
       "table td {\r\n",
       "    text-align: start;\r\n",
       "}\r\n",
       "table tr { \r\n",
       "    vertical-align: top; \r\n",
       "    margin: 0em 0px;\r\n",
       "}\r\n",
       "table tr td pre \r\n",
       "{ \r\n",
       "    vertical-align: top !important; \r\n",
       "    margin: 0em 0px !important;\r\n",
       "} \r\n",
       "table th {\r\n",
       "    text-align: start;\r\n",
       "}\r\n",
       "</style>"
      ]
     },
     "metadata": {},
     "output_type": "display_data"
    },
    {
     "name": "stdout",
     "output_type": "stream",
     "text": [
      "Line:0 Col:3 Error parsing null\n",
      "nulp\n",
      "   ^Unexpected 'p'\r\n"
     ]
    }
   ],
   "source": [
    "//// test\n",
    "\n",
    "run jNull \"nulp\"\n",
    "|> parserEqual (\n",
    "    Failure (\n",
    "        \"null\",\n",
    "        \"Unexpected 'p'\",\n",
    "        { currentLine = \"nulp\"; line = 0; column = 3 }\n",
    "    )\n",
    ")"
   ]
  },
  {
   "cell_type": "markdown",
   "metadata": {
    "dotnet_repl_cellExecutionStartTime": "2023-07-21T16:12:56.6279101-03:00",
    "dotnet_repl_cellExecutionEndTime": "2023-07-21T16:12:56.6292995-03:00",
    "dotnet_repl_cellExecutionTime": "1.3903ms"
   },
   "source": [
    "### jBool"
   ]
  },
  {
   "cell_type": "code",
   "execution_count": null,
   "metadata": {
    "dotnet_repl_cellExecutionStartTime": "2023-07-21T16:12:56.6293212-03:00",
    "dotnet_repl_cellExecutionEndTime": "2023-07-21T16:12:56.6441999-03:00",
    "dotnet_repl_cellExecutionTime": "14.8808ms",
    "dotnet_interactive": {
     "language": "fsharp"
    },
    "polyglot_notebook": {
     "kernelName": "fsharp"
    }
   },
   "outputs": [],
   "source": [
    "let jBool =\n",
    "    let jtrue =\n",
    "        pstring \"true\"\n",
    "        >>% JBool true\n",
    "    let jfalse =\n",
    "        pstring \"false\"\n",
    "        >>% JBool false\n",
    "\n",
    "    jtrue <|> jfalse\n",
    "    <?> \"bool\""
   ]
  },
  {
   "cell_type": "code",
   "execution_count": null,
   "metadata": {
    "dotnet_repl_cellExecutionStartTime": "2023-07-21T16:12:56.6442382-03:00",
    "dotnet_repl_cellExecutionEndTime": "2023-07-21T16:12:56.6602271-03:00",
    "dotnet_repl_cellExecutionTime": "15.991ms",
    "dotnet_interactive": {
     "language": "fsharp"
    },
    "polyglot_notebook": {
     "kernelName": "fsharp"
    }
   },
   "outputs": [],
   "source": [
    "//// test\n",
    "\n",
    "jValueRef <|\n",
    "    choice\n",
    "        [\n",
    "            jNull\n",
    "            jBool\n",
    "        ]"
   ]
  },
  {
   "cell_type": "code",
   "execution_count": null,
   "metadata": {
    "dotnet_repl_cellExecutionStartTime": "2023-07-21T16:12:56.6602651-03:00",
    "dotnet_repl_cellExecutionEndTime": "2023-07-21T16:12:56.7032396-03:00",
    "dotnet_repl_cellExecutionTime": "42.9754ms",
    "dotnet_interactive": {
     "language": "fsharp"
    },
    "polyglot_notebook": {
     "kernelName": "fsharp"
    }
   },
   "outputs": [
    {
     "data": {
      "text/html": [
       "<details open=\"open\" class=\"dni-treeview\"><summary><span class=\"dni-code-hint\"><code>Success (JBool true, { lines = [|\"true\"|]\\n                       position = { line = 0\\n                                    column = 4 } })</code></span></summary><div><table><thead><tr></tr></thead><tbody><tr><td>Item</td><td><details class=\"dni-treeview\"><summary><span class=\"dni-code-hint\"><code>(JBool true, { lines = [|\"true\"|]\\n  position = { line = 0\\n               column = 4 } })</code></span></summary><div><table><thead><tr></tr></thead><tbody><tr><td>Item1</td><td><details class=\"dni-treeview\"><summary><span class=\"dni-code-hint\"><code>JBool true</code></span></summary><div><table><thead><tr></tr></thead><tbody><tr><td>Item</td><td><div class=\"dni-plaintext\"><pre>True</pre></div></td></tr></tbody></table></div></details></td></tr><tr><td>Item2</td><td><details class=\"dni-treeview\"><summary><span class=\"dni-code-hint\"><code>{ lines = [|\"true\"|]\\n  position = { line = 0\\n               column = 4 } }</code></span></summary><div><table><thead><tr></tr></thead><tbody><tr><td>lines</td><td><div class=\"dni-plaintext\"><pre>[ true ]</pre></div></td></tr><tr><td>position</td><td><details class=\"dni-treeview\"><summary><span class=\"dni-code-hint\"><code>{ line = 0\\n  column = 4 }</code></span></summary><div><table><thead><tr></tr></thead><tbody><tr><td>line</td><td><div class=\"dni-plaintext\"><pre>0</pre></div></td></tr><tr><td>column</td><td><div class=\"dni-plaintext\"><pre>4</pre></div></td></tr></tbody></table></div></details></td></tr></tbody></table></div></details></td></tr></tbody></table></div></details></td></tr></tbody></table></div></details><style>\r\n",
       ".dni-code-hint {\r\n",
       "    font-style: italic;\r\n",
       "    overflow: hidden;\r\n",
       "    white-space: nowrap;\r\n",
       "}\r\n",
       ".dni-treeview {\r\n",
       "    white-space: nowrap;\r\n",
       "}\r\n",
       ".dni-treeview td {\r\n",
       "    vertical-align: top;\r\n",
       "    text-align: start;\r\n",
       "}\r\n",
       "details.dni-treeview {\r\n",
       "    padding-left: 1em;\r\n",
       "}\r\n",
       "table td {\r\n",
       "    text-align: start;\r\n",
       "}\r\n",
       "table tr { \r\n",
       "    vertical-align: top; \r\n",
       "    margin: 0em 0px;\r\n",
       "}\r\n",
       "table tr td pre \r\n",
       "{ \r\n",
       "    vertical-align: top !important; \r\n",
       "    margin: 0em 0px !important;\r\n",
       "} \r\n",
       "table th {\r\n",
       "    text-align: start;\r\n",
       "}\r\n",
       "</style>"
      ]
     },
     "metadata": {},
     "output_type": "display_data"
    },
    {
     "name": "stdout",
     "output_type": "stream",
     "text": [
      "JBool true\r\n",
      "JBool\r\n",
      "      Item: True\r\n"
     ]
    }
   ],
   "source": [
    "//// test\n",
    "\n",
    "run jBool \"true\"\n",
    "|> parserEqual (Success (JBool true))"
   ]
  },
  {
   "cell_type": "code",
   "execution_count": null,
   "metadata": {
    "dotnet_repl_cellExecutionStartTime": "2023-07-21T16:12:56.703269-03:00",
    "dotnet_repl_cellExecutionEndTime": "2023-07-21T16:12:56.7229961-03:00",
    "dotnet_repl_cellExecutionTime": "19.7279ms",
    "dotnet_interactive": {
     "language": "fsharp"
    },
    "polyglot_notebook": {
     "kernelName": "fsharp"
    }
   },
   "outputs": [
    {
     "data": {
      "text/html": [
       "<details open=\"open\" class=\"dni-treeview\"><summary><span class=\"dni-code-hint\"><code>Success (JBool false, { lines = [|\"false\"|]\\n                        position = { line = 0\\n                                     column = 5 } })</code></span></summary><div><table><thead><tr></tr></thead><tbody><tr><td>Item</td><td><details class=\"dni-treeview\"><summary><span class=\"dni-code-hint\"><code>(JBool false, { lines = [|\"false\"|]\\n  position = { line = 0\\n               column = 5 } })</code></span></summary><div><table><thead><tr></tr></thead><tbody><tr><td>Item1</td><td><details class=\"dni-treeview\"><summary><span class=\"dni-code-hint\"><code>JBool false</code></span></summary><div><table><thead><tr></tr></thead><tbody><tr><td>Item</td><td><div class=\"dni-plaintext\"><pre>False</pre></div></td></tr></tbody></table></div></details></td></tr><tr><td>Item2</td><td><details class=\"dni-treeview\"><summary><span class=\"dni-code-hint\"><code>{ lines = [|\"false\"|]\\n  position = { line = 0\\n               column = 5 } }</code></span></summary><div><table><thead><tr></tr></thead><tbody><tr><td>lines</td><td><div class=\"dni-plaintext\"><pre>[ false ]</pre></div></td></tr><tr><td>position</td><td><details class=\"dni-treeview\"><summary><span class=\"dni-code-hint\"><code>{ line = 0\\n  column = 5 }</code></span></summary><div><table><thead><tr></tr></thead><tbody><tr><td>line</td><td><div class=\"dni-plaintext\"><pre>0</pre></div></td></tr><tr><td>column</td><td><div class=\"dni-plaintext\"><pre>5</pre></div></td></tr></tbody></table></div></details></td></tr></tbody></table></div></details></td></tr></tbody></table></div></details></td></tr></tbody></table></div></details><style>\r\n",
       ".dni-code-hint {\r\n",
       "    font-style: italic;\r\n",
       "    overflow: hidden;\r\n",
       "    white-space: nowrap;\r\n",
       "}\r\n",
       ".dni-treeview {\r\n",
       "    white-space: nowrap;\r\n",
       "}\r\n",
       ".dni-treeview td {\r\n",
       "    vertical-align: top;\r\n",
       "    text-align: start;\r\n",
       "}\r\n",
       "details.dni-treeview {\r\n",
       "    padding-left: 1em;\r\n",
       "}\r\n",
       "table td {\r\n",
       "    text-align: start;\r\n",
       "}\r\n",
       "table tr { \r\n",
       "    vertical-align: top; \r\n",
       "    margin: 0em 0px;\r\n",
       "}\r\n",
       "table tr td pre \r\n",
       "{ \r\n",
       "    vertical-align: top !important; \r\n",
       "    margin: 0em 0px !important;\r\n",
       "} \r\n",
       "table th {\r\n",
       "    text-align: start;\r\n",
       "}\r\n",
       "</style>"
      ]
     },
     "metadata": {},
     "output_type": "display_data"
    },
    {
     "name": "stdout",
     "output_type": "stream",
     "text": [
      "JBool false\r\n",
      "JBool\r\n",
      "      Item: False\r\n"
     ]
    }
   ],
   "source": [
    "//// test\n",
    "\n",
    "run jBool \"false\"\n",
    "|> parserEqual (Success (JBool false))"
   ]
  },
  {
   "cell_type": "code",
   "execution_count": null,
   "metadata": {
    "dotnet_repl_cellExecutionStartTime": "2023-07-21T16:12:56.7230255-03:00",
    "dotnet_repl_cellExecutionEndTime": "2023-07-21T16:12:56.7389233-03:00",
    "dotnet_repl_cellExecutionTime": "15.9008ms",
    "dotnet_interactive": {
     "language": "fsharp"
    },
    "polyglot_notebook": {
     "kernelName": "fsharp"
    }
   },
   "outputs": [
    {
     "data": {
      "text/html": [
       "<details open=\"open\" class=\"dni-treeview\"><summary><span class=\"dni-code-hint\"><code>Failure (\"bool\", \"Unexpected 't'\", { currentLine = \"truX\"\\n                                     line = 0\\n                                     column = 0 })</code></span></summary><div><table><thead><tr></tr></thead><tbody><tr><td>Item1</td><td>bool</td></tr><tr><td>Item2</td><td>Unexpected &#39;t&#39;</td></tr><tr><td>Item3</td><td><details class=\"dni-treeview\"><summary><span class=\"dni-code-hint\"><code>{ currentLine = \"truX\"\\n  line = 0\\n  column = 0 }</code></span></summary><div><table><thead><tr></tr></thead><tbody><tr><td>currentLine</td><td>truX</td></tr><tr><td>line</td><td><div class=\"dni-plaintext\"><pre>0</pre></div></td></tr><tr><td>column</td><td><div class=\"dni-plaintext\"><pre>0</pre></div></td></tr></tbody></table></div></details></td></tr></tbody></table></div></details><style>\r\n",
       ".dni-code-hint {\r\n",
       "    font-style: italic;\r\n",
       "    overflow: hidden;\r\n",
       "    white-space: nowrap;\r\n",
       "}\r\n",
       ".dni-treeview {\r\n",
       "    white-space: nowrap;\r\n",
       "}\r\n",
       ".dni-treeview td {\r\n",
       "    vertical-align: top;\r\n",
       "    text-align: start;\r\n",
       "}\r\n",
       "details.dni-treeview {\r\n",
       "    padding-left: 1em;\r\n",
       "}\r\n",
       "table td {\r\n",
       "    text-align: start;\r\n",
       "}\r\n",
       "table tr { \r\n",
       "    vertical-align: top; \r\n",
       "    margin: 0em 0px;\r\n",
       "}\r\n",
       "table tr td pre \r\n",
       "{ \r\n",
       "    vertical-align: top !important; \r\n",
       "    margin: 0em 0px !important;\r\n",
       "} \r\n",
       "table th {\r\n",
       "    text-align: start;\r\n",
       "}\r\n",
       "</style>"
      ]
     },
     "metadata": {},
     "output_type": "display_data"
    },
    {
     "name": "stdout",
     "output_type": "stream",
     "text": [
      "Line:0 Col:0 Error parsing bool\n",
      "truX\n",
      " ^Unexpected 't'\r\n"
     ]
    }
   ],
   "source": [
    "//// test\n",
    "\n",
    "run jBool \"truX\"\n",
    "|> parserEqual (\n",
    "    Failure (\n",
    "        \"bool\",\n",
    "        \"Unexpected 't'\",\n",
    "        { currentLine = \"truX\"; line = 0; column = 0 }\n",
    "    )\n",
    ")"
   ]
  },
  {
   "cell_type": "markdown",
   "metadata": {
    "dotnet_repl_cellExecutionStartTime": "2023-07-21T16:12:56.7389609-03:00",
    "dotnet_repl_cellExecutionEndTime": "2023-07-21T16:12:56.7402064-03:00",
    "dotnet_repl_cellExecutionTime": "1.2464ms"
   },
   "source": [
    "### jUnescapedChar"
   ]
  },
  {
   "cell_type": "code",
   "execution_count": null,
   "metadata": {
    "dotnet_repl_cellExecutionStartTime": "2023-07-21T16:12:56.7402217-03:00",
    "dotnet_repl_cellExecutionEndTime": "2023-07-21T16:12:56.7501404-03:00",
    "dotnet_repl_cellExecutionTime": "9.9214ms",
    "dotnet_interactive": {
     "language": "fsharp"
    },
    "polyglot_notebook": {
     "kernelName": "fsharp"
    }
   },
   "outputs": [],
   "source": [
    "let jUnescapedChar =\n",
    "    satisfy (fun ch -> ch <> '\\\\' && ch <> '\\\"') \"char\""
   ]
  },
  {
   "cell_type": "code",
   "execution_count": null,
   "metadata": {
    "dotnet_repl_cellExecutionStartTime": "2023-07-21T16:12:56.7501867-03:00",
    "dotnet_repl_cellExecutionEndTime": "2023-07-21T16:12:56.8048135-03:00",
    "dotnet_repl_cellExecutionTime": "54.6278ms",
    "dotnet_interactive": {
     "language": "fsharp"
    },
    "polyglot_notebook": {
     "kernelName": "fsharp"
    }
   },
   "outputs": [
    {
     "data": {
      "text/html": [
       "<details open=\"open\" class=\"dni-treeview\"><summary><span class=\"dni-code-hint\"><code>Success ('a', { lines = [|\"a\"|]\\n                position = { line = 0\\n                             column = 1 } })</code></span></summary><div><table><thead><tr></tr></thead><tbody><tr><td>Item</td><td><details class=\"dni-treeview\"><summary><span class=\"dni-code-hint\"><code>(a, { lines = [|\"a\"|]\\n  position = { line = 0\\n               column = 1 } })</code></span></summary><div><table><thead><tr></tr></thead><tbody><tr><td>Item1</td><td><div class=\"dni-plaintext\"><pre>a</pre></div></td></tr><tr><td>Item2</td><td><details class=\"dni-treeview\"><summary><span class=\"dni-code-hint\"><code>{ lines = [|\"a\"|]\\n  position = { line = 0\\n               column = 1 } }</code></span></summary><div><table><thead><tr></tr></thead><tbody><tr><td>lines</td><td><div class=\"dni-plaintext\"><pre>[ a ]</pre></div></td></tr><tr><td>position</td><td><details class=\"dni-treeview\"><summary><span class=\"dni-code-hint\"><code>{ line = 0\\n  column = 1 }</code></span></summary><div><table><thead><tr></tr></thead><tbody><tr><td>line</td><td><div class=\"dni-plaintext\"><pre>0</pre></div></td></tr><tr><td>column</td><td><div class=\"dni-plaintext\"><pre>1</pre></div></td></tr></tbody></table></div></details></td></tr></tbody></table></div></details></td></tr></tbody></table></div></details></td></tr></tbody></table></div></details><style>\r\n",
       ".dni-code-hint {\r\n",
       "    font-style: italic;\r\n",
       "    overflow: hidden;\r\n",
       "    white-space: nowrap;\r\n",
       "}\r\n",
       ".dni-treeview {\r\n",
       "    white-space: nowrap;\r\n",
       "}\r\n",
       ".dni-treeview td {\r\n",
       "    vertical-align: top;\r\n",
       "    text-align: start;\r\n",
       "}\r\n",
       "details.dni-treeview {\r\n",
       "    padding-left: 1em;\r\n",
       "}\r\n",
       "table td {\r\n",
       "    text-align: start;\r\n",
       "}\r\n",
       "table tr { \r\n",
       "    vertical-align: top; \r\n",
       "    margin: 0em 0px;\r\n",
       "}\r\n",
       "table tr td pre \r\n",
       "{ \r\n",
       "    vertical-align: top !important; \r\n",
       "    margin: 0em 0px !important;\r\n",
       "} \r\n",
       "table th {\r\n",
       "    text-align: start;\r\n",
       "}\r\n",
       "</style>"
      ]
     },
     "metadata": {},
     "output_type": "display_data"
    },
    {
     "name": "stdout",
     "output_type": "stream",
     "text": [
      "'a'\r\n",
      "a\r\n"
     ]
    }
   ],
   "source": [
    "//// test\n",
    "\n",
    "run jUnescapedChar \"a\"\n",
    "|> parserEqual (Success 'a')"
   ]
  },
  {
   "cell_type": "code",
   "execution_count": null,
   "metadata": {
    "dotnet_repl_cellExecutionStartTime": "2023-07-21T16:12:56.804841-03:00",
    "dotnet_repl_cellExecutionEndTime": "2023-07-21T16:12:56.8368119-03:00",
    "dotnet_repl_cellExecutionTime": "31.9726ms",
    "dotnet_interactive": {
     "language": "fsharp"
    },
    "polyglot_notebook": {
     "kernelName": "fsharp"
    }
   },
   "outputs": [
    {
     "data": {
      "text/html": [
       "<details open=\"open\" class=\"dni-treeview\"><summary><span class=\"dni-code-hint\"><code>Failure (\"char\", \"Unexpected '\\'\", { currentLine = \"\\\"\\n                                     line = 0\\n                                     column = 0 })</code></span></summary><div><table><thead><tr></tr></thead><tbody><tr><td>Item1</td><td>char</td></tr><tr><td>Item2</td><td>Unexpected &#39;\\&#39;</td></tr><tr><td>Item3</td><td><details class=\"dni-treeview\"><summary><span class=\"dni-code-hint\"><code>{ currentLine = \"\\\"\\n  line = 0\\n  column = 0 }</code></span></summary><div><table><thead><tr></tr></thead><tbody><tr><td>currentLine</td><td>\\</td></tr><tr><td>line</td><td><div class=\"dni-plaintext\"><pre>0</pre></div></td></tr><tr><td>column</td><td><div class=\"dni-plaintext\"><pre>0</pre></div></td></tr></tbody></table></div></details></td></tr></tbody></table></div></details><style>\r\n",
       ".dni-code-hint {\r\n",
       "    font-style: italic;\r\n",
       "    overflow: hidden;\r\n",
       "    white-space: nowrap;\r\n",
       "}\r\n",
       ".dni-treeview {\r\n",
       "    white-space: nowrap;\r\n",
       "}\r\n",
       ".dni-treeview td {\r\n",
       "    vertical-align: top;\r\n",
       "    text-align: start;\r\n",
       "}\r\n",
       "details.dni-treeview {\r\n",
       "    padding-left: 1em;\r\n",
       "}\r\n",
       "table td {\r\n",
       "    text-align: start;\r\n",
       "}\r\n",
       "table tr { \r\n",
       "    vertical-align: top; \r\n",
       "    margin: 0em 0px;\r\n",
       "}\r\n",
       "table tr td pre \r\n",
       "{ \r\n",
       "    vertical-align: top !important; \r\n",
       "    margin: 0em 0px !important;\r\n",
       "} \r\n",
       "table th {\r\n",
       "    text-align: start;\r\n",
       "}\r\n",
       "</style>"
      ]
     },
     "metadata": {},
     "output_type": "display_data"
    },
    {
     "name": "stdout",
     "output_type": "stream",
     "text": [
      "Line:0 Col:0 Error parsing char\n",
      "\\\n",
      " ^Unexpected '\\'\r\n"
     ]
    }
   ],
   "source": [
    "//// test\n",
    "\n",
    "run jUnescapedChar \"\\\\\"\n",
    "|> parserEqual (\n",
    "    Failure (\n",
    "        \"char\",\n",
    "        \"Unexpected '\\\\'\",\n",
    "        { currentLine = \"\\\\\"; line = 0; column = 0 }\n",
    "    )\n",
    ")"
   ]
  },
  {
   "cell_type": "markdown",
   "metadata": {
    "dotnet_repl_cellExecutionStartTime": "2023-07-21T16:12:56.8368519-03:00",
    "dotnet_repl_cellExecutionEndTime": "2023-07-21T16:12:56.8383762-03:00",
    "dotnet_repl_cellExecutionTime": "1.527ms"
   },
   "source": [
    "### jEscapedChar"
   ]
  },
  {
   "cell_type": "code",
   "execution_count": null,
   "metadata": {
    "dotnet_repl_cellExecutionStartTime": "2023-07-21T16:12:56.8384132-03:00",
    "dotnet_repl_cellExecutionEndTime": "2023-07-21T16:12:56.8732703-03:00",
    "dotnet_repl_cellExecutionTime": "34.8591ms",
    "dotnet_interactive": {
     "language": "fsharp"
    },
    "polyglot_notebook": {
     "kernelName": "fsharp"
    }
   },
   "outputs": [],
   "source": [
    "let jEscapedChar =\n",
    "    [\n",
    "        (\"\\\\\\\"\",'\\\"')\n",
    "        (\"\\\\\\\\\",'\\\\')\n",
    "        (\"\\\\/\",'/')\n",
    "        (\"\\\\b\",'\\b')\n",
    "        (\"\\\\f\",'\\f')\n",
    "        (\"\\\\n\",'\\n')\n",
    "        (\"\\\\r\",'\\r')\n",
    "        (\"\\\\t\",'\\t')\n",
    "    ]\n",
    "    |> List.map (fun (toMatch, result) ->\n",
    "        pstring toMatch >>% result\n",
    "    )\n",
    "    |> choice\n",
    "    <?> \"escaped char\""
   ]
  },
  {
   "cell_type": "code",
   "execution_count": null,
   "metadata": {
    "dotnet_repl_cellExecutionStartTime": "2023-07-21T16:12:56.8733064-03:00",
    "dotnet_repl_cellExecutionEndTime": "2023-07-21T16:12:56.904357-03:00",
    "dotnet_repl_cellExecutionTime": "31.0518ms",
    "dotnet_interactive": {
     "language": "fsharp"
    },
    "polyglot_notebook": {
     "kernelName": "fsharp"
    }
   },
   "outputs": [
    {
     "data": {
      "text/html": [
       "<details open=\"open\" class=\"dni-treeview\"><summary><span class=\"dni-code-hint\"><code>Success ('\\\\', { lines = [|\"\\\\\"|]\\n                 position = { line = 0\\n                              column = 2 } })</code></span></summary><div><table><thead><tr></tr></thead><tbody><tr><td>Item</td><td><details class=\"dni-treeview\"><summary><span class=\"dni-code-hint\"><code>(\\, { lines = [|\"\\\\\"|]\\n  position = { line = 0\\n               column = 2 } })</code></span></summary><div><table><thead><tr></tr></thead><tbody><tr><td>Item1</td><td><div class=\"dni-plaintext\"><pre>\\</pre></div></td></tr><tr><td>Item2</td><td><details class=\"dni-treeview\"><summary><span class=\"dni-code-hint\"><code>{ lines = [|\"\\\\\"|]\\n  position = { line = 0\\n               column = 2 } }</code></span></summary><div><table><thead><tr></tr></thead><tbody><tr><td>lines</td><td><div class=\"dni-plaintext\"><pre>[ \\\\ ]</pre></div></td></tr><tr><td>position</td><td><details class=\"dni-treeview\"><summary><span class=\"dni-code-hint\"><code>{ line = 0\\n  column = 2 }</code></span></summary><div><table><thead><tr></tr></thead><tbody><tr><td>line</td><td><div class=\"dni-plaintext\"><pre>0</pre></div></td></tr><tr><td>column</td><td><div class=\"dni-plaintext\"><pre>2</pre></div></td></tr></tbody></table></div></details></td></tr></tbody></table></div></details></td></tr></tbody></table></div></details></td></tr></tbody></table></div></details><style>\r\n",
       ".dni-code-hint {\r\n",
       "    font-style: italic;\r\n",
       "    overflow: hidden;\r\n",
       "    white-space: nowrap;\r\n",
       "}\r\n",
       ".dni-treeview {\r\n",
       "    white-space: nowrap;\r\n",
       "}\r\n",
       ".dni-treeview td {\r\n",
       "    vertical-align: top;\r\n",
       "    text-align: start;\r\n",
       "}\r\n",
       "details.dni-treeview {\r\n",
       "    padding-left: 1em;\r\n",
       "}\r\n",
       "table td {\r\n",
       "    text-align: start;\r\n",
       "}\r\n",
       "table tr { \r\n",
       "    vertical-align: top; \r\n",
       "    margin: 0em 0px;\r\n",
       "}\r\n",
       "table tr td pre \r\n",
       "{ \r\n",
       "    vertical-align: top !important; \r\n",
       "    margin: 0em 0px !important;\r\n",
       "} \r\n",
       "table th {\r\n",
       "    text-align: start;\r\n",
       "}\r\n",
       "</style>"
      ]
     },
     "metadata": {},
     "output_type": "display_data"
    },
    {
     "name": "stdout",
     "output_type": "stream",
     "text": [
      "'\\\\'\r\n",
      "\\\r\n"
     ]
    }
   ],
   "source": [
    "//// test\n",
    "\n",
    "run jEscapedChar \"\\\\\\\\\"\n",
    "|> parserEqual (Success '\\\\')"
   ]
  },
  {
   "cell_type": "code",
   "execution_count": null,
   "metadata": {
    "dotnet_repl_cellExecutionStartTime": "2023-07-21T16:12:56.9044211-03:00",
    "dotnet_repl_cellExecutionEndTime": "2023-07-21T16:12:56.923708-03:00",
    "dotnet_repl_cellExecutionTime": "19.2879ms",
    "dotnet_interactive": {
     "language": "fsharp"
    },
    "polyglot_notebook": {
     "kernelName": "fsharp"
    }
   },
   "outputs": [
    {
     "data": {
      "text/html": [
       "<details open=\"open\" class=\"dni-treeview\"><summary><span class=\"dni-code-hint\"><code>Success ('\\009', { lines = [|\"\\t\"|]\\n                   position = { line = 0\\n                                column = 2 } })</code></span></summary><div><table><thead><tr></tr></thead><tbody><tr><td>Item</td><td><details class=\"dni-treeview\"><summary><span class=\"dni-code-hint\"><code>(\t, { lines = [|\"\\t\"|]\\n  position = { line = 0\\n               column = 2 } })</code></span></summary><div><table><thead><tr></tr></thead><tbody><tr><td>Item1</td><td><div class=\"dni-plaintext\"><pre>\t</pre></div></td></tr><tr><td>Item2</td><td><details class=\"dni-treeview\"><summary><span class=\"dni-code-hint\"><code>{ lines = [|\"\\t\"|]\\n  position = { line = 0\\n               column = 2 } }</code></span></summary><div><table><thead><tr></tr></thead><tbody><tr><td>lines</td><td><div class=\"dni-plaintext\"><pre>[ \\t ]</pre></div></td></tr><tr><td>position</td><td><details class=\"dni-treeview\"><summary><span class=\"dni-code-hint\"><code>{ line = 0\\n  column = 2 }</code></span></summary><div><table><thead><tr></tr></thead><tbody><tr><td>line</td><td><div class=\"dni-plaintext\"><pre>0</pre></div></td></tr><tr><td>column</td><td><div class=\"dni-plaintext\"><pre>2</pre></div></td></tr></tbody></table></div></details></td></tr></tbody></table></div></details></td></tr></tbody></table></div></details></td></tr></tbody></table></div></details><style>\r\n",
       ".dni-code-hint {\r\n",
       "    font-style: italic;\r\n",
       "    overflow: hidden;\r\n",
       "    white-space: nowrap;\r\n",
       "}\r\n",
       ".dni-treeview {\r\n",
       "    white-space: nowrap;\r\n",
       "}\r\n",
       ".dni-treeview td {\r\n",
       "    vertical-align: top;\r\n",
       "    text-align: start;\r\n",
       "}\r\n",
       "details.dni-treeview {\r\n",
       "    padding-left: 1em;\r\n",
       "}\r\n",
       "table td {\r\n",
       "    text-align: start;\r\n",
       "}\r\n",
       "table tr { \r\n",
       "    vertical-align: top; \r\n",
       "    margin: 0em 0px;\r\n",
       "}\r\n",
       "table tr td pre \r\n",
       "{ \r\n",
       "    vertical-align: top !important; \r\n",
       "    margin: 0em 0px !important;\r\n",
       "} \r\n",
       "table th {\r\n",
       "    text-align: start;\r\n",
       "}\r\n",
       "</style>"
      ]
     },
     "metadata": {},
     "output_type": "display_data"
    },
    {
     "name": "stdout",
     "output_type": "stream",
     "text": [
      "'\\009'\r\n",
      "\t\r\n"
     ]
    }
   ],
   "source": [
    "//// test\n",
    "\n",
    "run jEscapedChar \"\\\\t\"\n",
    "|> parserEqual (Success '\\t')"
   ]
  },
  {
   "cell_type": "code",
   "execution_count": null,
   "metadata": {
    "dotnet_repl_cellExecutionStartTime": "2023-07-21T16:12:56.923738-03:00",
    "dotnet_repl_cellExecutionEndTime": "2023-07-21T16:12:56.9447444-03:00",
    "dotnet_repl_cellExecutionTime": "21.0078ms",
    "dotnet_interactive": {
     "language": "fsharp"
    },
    "polyglot_notebook": {
     "kernelName": "fsharp"
    }
   },
   "outputs": [
    {
     "data": {
      "text/html": [
       "<details open=\"open\" class=\"dni-treeview\"><summary><span class=\"dni-code-hint\"><code>Success ('\\\\', { lines = [|\"\\\\\"|]\\n                 position = { line = 0\\n                              column = 2 } })</code></span></summary><div><table><thead><tr></tr></thead><tbody><tr><td>Item</td><td><details class=\"dni-treeview\"><summary><span class=\"dni-code-hint\"><code>(\\, { lines = [|\"\\\\\"|]\\n  position = { line = 0\\n               column = 2 } })</code></span></summary><div><table><thead><tr></tr></thead><tbody><tr><td>Item1</td><td><div class=\"dni-plaintext\"><pre>\\</pre></div></td></tr><tr><td>Item2</td><td><details class=\"dni-treeview\"><summary><span class=\"dni-code-hint\"><code>{ lines = [|\"\\\\\"|]\\n  position = { line = 0\\n               column = 2 } }</code></span></summary><div><table><thead><tr></tr></thead><tbody><tr><td>lines</td><td><div class=\"dni-plaintext\"><pre>[ \\\\ ]</pre></div></td></tr><tr><td>position</td><td><details class=\"dni-treeview\"><summary><span class=\"dni-code-hint\"><code>{ line = 0\\n  column = 2 }</code></span></summary><div><table><thead><tr></tr></thead><tbody><tr><td>line</td><td><div class=\"dni-plaintext\"><pre>0</pre></div></td></tr><tr><td>column</td><td><div class=\"dni-plaintext\"><pre>2</pre></div></td></tr></tbody></table></div></details></td></tr></tbody></table></div></details></td></tr></tbody></table></div></details></td></tr></tbody></table></div></details><style>\r\n",
       ".dni-code-hint {\r\n",
       "    font-style: italic;\r\n",
       "    overflow: hidden;\r\n",
       "    white-space: nowrap;\r\n",
       "}\r\n",
       ".dni-treeview {\r\n",
       "    white-space: nowrap;\r\n",
       "}\r\n",
       ".dni-treeview td {\r\n",
       "    vertical-align: top;\r\n",
       "    text-align: start;\r\n",
       "}\r\n",
       "details.dni-treeview {\r\n",
       "    padding-left: 1em;\r\n",
       "}\r\n",
       "table td {\r\n",
       "    text-align: start;\r\n",
       "}\r\n",
       "table tr { \r\n",
       "    vertical-align: top; \r\n",
       "    margin: 0em 0px;\r\n",
       "}\r\n",
       "table tr td pre \r\n",
       "{ \r\n",
       "    vertical-align: top !important; \r\n",
       "    margin: 0em 0px !important;\r\n",
       "} \r\n",
       "table th {\r\n",
       "    text-align: start;\r\n",
       "}\r\n",
       "</style>"
      ]
     },
     "metadata": {},
     "output_type": "display_data"
    },
    {
     "name": "stdout",
     "output_type": "stream",
     "text": [
      "'\\\\'\r\n",
      "\\\r\n"
     ]
    }
   ],
   "source": [
    "//// test\n",
    "\n",
    "run jEscapedChar @\"\\\\\"\n",
    "|> parserEqual (Success '\\\\')"
   ]
  },
  {
   "cell_type": "code",
   "execution_count": null,
   "metadata": {
    "dotnet_repl_cellExecutionStartTime": "2023-07-21T16:12:56.9447779-03:00",
    "dotnet_repl_cellExecutionEndTime": "2023-07-21T16:12:56.9667835-03:00",
    "dotnet_repl_cellExecutionTime": "22.0074ms",
    "dotnet_interactive": {
     "language": "fsharp"
    },
    "polyglot_notebook": {
     "kernelName": "fsharp"
    }
   },
   "outputs": [
    {
     "data": {
      "text/html": [
       "<details open=\"open\" class=\"dni-treeview\"><summary><span class=\"dni-code-hint\"><code>Success ('\\010', { lines = [|\"\\n\"|]\\n                   position = { line = 0\\n                                column = 2 } })</code></span></summary><div><table><thead><tr></tr></thead><tbody><tr><td>Item</td><td><details class=\"dni-treeview\"><summary><span class=\"dni-code-hint\"><code>(\\n, { lines = [|\"\\n\"|]\\n  position = { line = 0\\n               column = 2 } })</code></span></summary><div><table><thead><tr></tr></thead><tbody><tr><td>Item1</td><td><div class=\"dni-plaintext\"><pre>\n",
       "</pre></div></td></tr><tr><td>Item2</td><td><details class=\"dni-treeview\"><summary><span class=\"dni-code-hint\"><code>{ lines = [|\"\\n\"|]\\n  position = { line = 0\\n               column = 2 } }</code></span></summary><div><table><thead><tr></tr></thead><tbody><tr><td>lines</td><td><div class=\"dni-plaintext\"><pre>[ \\n ]</pre></div></td></tr><tr><td>position</td><td><details class=\"dni-treeview\"><summary><span class=\"dni-code-hint\"><code>{ line = 0\\n  column = 2 }</code></span></summary><div><table><thead><tr></tr></thead><tbody><tr><td>line</td><td><div class=\"dni-plaintext\"><pre>0</pre></div></td></tr><tr><td>column</td><td><div class=\"dni-plaintext\"><pre>2</pre></div></td></tr></tbody></table></div></details></td></tr></tbody></table></div></details></td></tr></tbody></table></div></details></td></tr></tbody></table></div></details><style>\r\n",
       ".dni-code-hint {\r\n",
       "    font-style: italic;\r\n",
       "    overflow: hidden;\r\n",
       "    white-space: nowrap;\r\n",
       "}\r\n",
       ".dni-treeview {\r\n",
       "    white-space: nowrap;\r\n",
       "}\r\n",
       ".dni-treeview td {\r\n",
       "    vertical-align: top;\r\n",
       "    text-align: start;\r\n",
       "}\r\n",
       "details.dni-treeview {\r\n",
       "    padding-left: 1em;\r\n",
       "}\r\n",
       "table td {\r\n",
       "    text-align: start;\r\n",
       "}\r\n",
       "table tr { \r\n",
       "    vertical-align: top; \r\n",
       "    margin: 0em 0px;\r\n",
       "}\r\n",
       "table tr td pre \r\n",
       "{ \r\n",
       "    vertical-align: top !important; \r\n",
       "    margin: 0em 0px !important;\r\n",
       "} \r\n",
       "table th {\r\n",
       "    text-align: start;\r\n",
       "}\r\n",
       "</style>"
      ]
     },
     "metadata": {},
     "output_type": "display_data"
    },
    {
     "name": "stdout",
     "output_type": "stream",
     "text": [
      "'\\010'\r\n",
      "\n",
      "\r\n"
     ]
    }
   ],
   "source": [
    "//// test\n",
    "\n",
    "run jEscapedChar @\"\\n\"\n",
    "|> parserEqual (Success '\\n')"
   ]
  },
  {
   "cell_type": "code",
   "execution_count": null,
   "metadata": {
    "dotnet_repl_cellExecutionStartTime": "2023-07-21T16:12:56.966828-03:00",
    "dotnet_repl_cellExecutionEndTime": "2023-07-21T16:12:56.9846534-03:00",
    "dotnet_repl_cellExecutionTime": "17.8271ms",
    "dotnet_interactive": {
     "language": "fsharp"
    },
    "polyglot_notebook": {
     "kernelName": "fsharp"
    }
   },
   "outputs": [
    {
     "data": {
      "text/html": [
       "<details open=\"open\" class=\"dni-treeview\"><summary><span class=\"dni-code-hint\"><code>Failure (\"escaped char\", \"Unexpected 'a'\", { currentLine = \"a\"\\n                                             line = 0\\n                                             column = 0 })</code></span></summary><div><table><thead><tr></tr></thead><tbody><tr><td>Item1</td><td>escaped char</td></tr><tr><td>Item2</td><td>Unexpected &#39;a&#39;</td></tr><tr><td>Item3</td><td><details class=\"dni-treeview\"><summary><span class=\"dni-code-hint\"><code>{ currentLine = \"a\"\\n  line = 0\\n  column = 0 }</code></span></summary><div><table><thead><tr></tr></thead><tbody><tr><td>currentLine</td><td>a</td></tr><tr><td>line</td><td><div class=\"dni-plaintext\"><pre>0</pre></div></td></tr><tr><td>column</td><td><div class=\"dni-plaintext\"><pre>0</pre></div></td></tr></tbody></table></div></details></td></tr></tbody></table></div></details><style>\r\n",
       ".dni-code-hint {\r\n",
       "    font-style: italic;\r\n",
       "    overflow: hidden;\r\n",
       "    white-space: nowrap;\r\n",
       "}\r\n",
       ".dni-treeview {\r\n",
       "    white-space: nowrap;\r\n",
       "}\r\n",
       ".dni-treeview td {\r\n",
       "    vertical-align: top;\r\n",
       "    text-align: start;\r\n",
       "}\r\n",
       "details.dni-treeview {\r\n",
       "    padding-left: 1em;\r\n",
       "}\r\n",
       "table td {\r\n",
       "    text-align: start;\r\n",
       "}\r\n",
       "table tr { \r\n",
       "    vertical-align: top; \r\n",
       "    margin: 0em 0px;\r\n",
       "}\r\n",
       "table tr td pre \r\n",
       "{ \r\n",
       "    vertical-align: top !important; \r\n",
       "    margin: 0em 0px !important;\r\n",
       "} \r\n",
       "table th {\r\n",
       "    text-align: start;\r\n",
       "}\r\n",
       "</style>"
      ]
     },
     "metadata": {},
     "output_type": "display_data"
    },
    {
     "name": "stdout",
     "output_type": "stream",
     "text": [
      "Line:0 Col:0 Error parsing escaped char\n",
      "a\n",
      " ^Unexpected 'a'\r\n"
     ]
    }
   ],
   "source": [
    "//// test\n",
    "\n",
    "run jEscapedChar \"a\"\n",
    "|> parserEqual (\n",
    "    Failure (\n",
    "        \"escaped char\",\n",
    "        \"Unexpected 'a'\",\n",
    "        { currentLine = \"a\"; line = 0; column = 0 }\n",
    "    )\n",
    ")"
   ]
  },
  {
   "cell_type": "markdown",
   "metadata": {
    "dotnet_repl_cellExecutionStartTime": "2023-07-21T16:12:56.9846931-03:00",
    "dotnet_repl_cellExecutionEndTime": "2023-07-21T16:12:56.9859846-03:00",
    "dotnet_repl_cellExecutionTime": "1.2929ms"
   },
   "source": [
    "### jUnicodeChar"
   ]
  },
  {
   "cell_type": "code",
   "execution_count": null,
   "metadata": {
    "dotnet_repl_cellExecutionStartTime": "2023-07-21T16:12:56.9860097-03:00",
    "dotnet_repl_cellExecutionEndTime": "2023-07-21T16:12:57.042468-03:00",
    "dotnet_repl_cellExecutionTime": "56.4604ms",
    "dotnet_interactive": {
     "language": "fsharp"
    },
    "polyglot_notebook": {
     "kernelName": "fsharp"
    }
   },
   "outputs": [],
   "source": [
    "let jUnicodeChar =\n",
    "    let backslash = pchar '\\\\'\n",
    "    let uChar = pchar 'u'\n",
    "    let hexdigit = anyOf (['0'..'9'] @ ['A'..'F'] @ ['a'..'f'])\n",
    "    let fourHexDigits = hexdigit .>>. hexdigit .>>. hexdigit .>>. hexdigit\n",
    "\n",
    "    let convertToChar (((h1, h2), h3), h4) =\n",
    "        let str = $\"%c{h1}%c{h2}%c{h3}%c{h4}\"\n",
    "        Int32.Parse (str, Globalization.NumberStyles.HexNumber) |> char\n",
    "\n",
    "    backslash >>. uChar >>. fourHexDigits\n",
    "    |>> convertToChar"
   ]
  },
  {
   "cell_type": "code",
   "execution_count": null,
   "metadata": {
    "dotnet_repl_cellExecutionStartTime": "2023-07-21T16:12:57.0425139-03:00",
    "dotnet_repl_cellExecutionEndTime": "2023-07-21T16:12:57.0635328-03:00",
    "dotnet_repl_cellExecutionTime": "21.0197ms",
    "dotnet_interactive": {
     "language": "fsharp"
    },
    "polyglot_notebook": {
     "kernelName": "fsharp"
    }
   },
   "outputs": [
    {
     "data": {
      "text/html": [
       "<details open=\"open\" class=\"dni-treeview\"><summary><span class=\"dni-code-hint\"><code>Success ('☺', { lines = [|\"\\u263A\"|]\\n                position = { line = 0\\n                             column = 6 } })</code></span></summary><div><table><thead><tr></tr></thead><tbody><tr><td>Item</td><td><details class=\"dni-treeview\"><summary><span class=\"dni-code-hint\"><code>(☺, { lines = [|\"\\u263A\"|]\\n  position = { line = 0\\n               column = 6 } })</code></span></summary><div><table><thead><tr></tr></thead><tbody><tr><td>Item1</td><td><div class=\"dni-plaintext\"><pre>☺</pre></div></td></tr><tr><td>Item2</td><td><details class=\"dni-treeview\"><summary><span class=\"dni-code-hint\"><code>{ lines = [|\"\\u263A\"|]\\n  position = { line = 0\\n               column = 6 } }</code></span></summary><div><table><thead><tr></tr></thead><tbody><tr><td>lines</td><td><div class=\"dni-plaintext\"><pre>[ \\u263A ]</pre></div></td></tr><tr><td>position</td><td><details class=\"dni-treeview\"><summary><span class=\"dni-code-hint\"><code>{ line = 0\\n  column = 6 }</code></span></summary><div><table><thead><tr></tr></thead><tbody><tr><td>line</td><td><div class=\"dni-plaintext\"><pre>0</pre></div></td></tr><tr><td>column</td><td><div class=\"dni-plaintext\"><pre>6</pre></div></td></tr></tbody></table></div></details></td></tr></tbody></table></div></details></td></tr></tbody></table></div></details></td></tr></tbody></table></div></details><style>\r\n",
       ".dni-code-hint {\r\n",
       "    font-style: italic;\r\n",
       "    overflow: hidden;\r\n",
       "    white-space: nowrap;\r\n",
       "}\r\n",
       ".dni-treeview {\r\n",
       "    white-space: nowrap;\r\n",
       "}\r\n",
       ".dni-treeview td {\r\n",
       "    vertical-align: top;\r\n",
       "    text-align: start;\r\n",
       "}\r\n",
       "details.dni-treeview {\r\n",
       "    padding-left: 1em;\r\n",
       "}\r\n",
       "table td {\r\n",
       "    text-align: start;\r\n",
       "}\r\n",
       "table tr { \r\n",
       "    vertical-align: top; \r\n",
       "    margin: 0em 0px;\r\n",
       "}\r\n",
       "table tr td pre \r\n",
       "{ \r\n",
       "    vertical-align: top !important; \r\n",
       "    margin: 0em 0px !important;\r\n",
       "} \r\n",
       "table th {\r\n",
       "    text-align: start;\r\n",
       "}\r\n",
       "</style>"
      ]
     },
     "metadata": {},
     "output_type": "display_data"
    },
    {
     "name": "stdout",
     "output_type": "stream",
     "text": [
      "'☺'\r\n",
      "☺\r\n"
     ]
    }
   ],
   "source": [
    "//// test\n",
    "\n",
    "run jUnicodeChar \"\\\\u263A\"\n",
    "|> parserEqual (Success '☺')"
   ]
  },
  {
   "cell_type": "markdown",
   "metadata": {
    "dotnet_repl_cellExecutionStartTime": "2023-07-21T16:12:57.0635597-03:00",
    "dotnet_repl_cellExecutionEndTime": "2023-07-21T16:12:57.0651803-03:00",
    "dotnet_repl_cellExecutionTime": "1.6231ms"
   },
   "source": [
    "### jString"
   ]
  },
  {
   "cell_type": "code",
   "execution_count": null,
   "metadata": {
    "dotnet_repl_cellExecutionStartTime": "2023-07-21T16:12:57.0652215-03:00",
    "dotnet_repl_cellExecutionEndTime": "2023-07-21T16:12:57.0852513-03:00",
    "dotnet_repl_cellExecutionTime": "20.0318ms",
    "dotnet_interactive": {
     "language": "fsharp"
    },
    "polyglot_notebook": {
     "kernelName": "fsharp"
    }
   },
   "outputs": [],
   "source": [
    "let quotedString =\n",
    "    let quote = pchar '\\\"' <?> \"quote\"\n",
    "    let jchar = jUnescapedChar <|> jEscapedChar <|> jUnicodeChar\n",
    "\n",
    "    quote >>. manyChars jchar .>> quote"
   ]
  },
  {
   "cell_type": "code",
   "execution_count": null,
   "metadata": {
    "dotnet_repl_cellExecutionStartTime": "2023-07-21T16:12:57.0852862-03:00",
    "dotnet_repl_cellExecutionEndTime": "2023-07-21T16:12:57.1022673-03:00",
    "dotnet_repl_cellExecutionTime": "16.9837ms",
    "dotnet_interactive": {
     "language": "fsharp"
    },
    "polyglot_notebook": {
     "kernelName": "fsharp"
    }
   },
   "outputs": [],
   "source": [
    "let jString =\n",
    "    quotedString\n",
    "    |>> JString\n",
    "    <?> \"quoted string\""
   ]
  },
  {
   "cell_type": "code",
   "execution_count": null,
   "metadata": {
    "dotnet_repl_cellExecutionStartTime": "2023-07-21T16:12:57.1023081-03:00",
    "dotnet_repl_cellExecutionEndTime": "2023-07-21T16:12:57.120652-03:00",
    "dotnet_repl_cellExecutionTime": "18.3457ms",
    "dotnet_interactive": {
     "language": "fsharp"
    },
    "polyglot_notebook": {
     "kernelName": "fsharp"
    }
   },
   "outputs": [],
   "source": [
    "//// test\n",
    "\n",
    "jValueRef <|\n",
    "    choice\n",
    "        [\n",
    "            jNull\n",
    "            jBool\n",
    "            jString\n",
    "        ]"
   ]
  },
  {
   "cell_type": "code",
   "execution_count": null,
   "metadata": {
    "dotnet_repl_cellExecutionStartTime": "2023-07-21T16:12:57.1206861-03:00",
    "dotnet_repl_cellExecutionEndTime": "2023-07-21T16:12:57.1550472-03:00",
    "dotnet_repl_cellExecutionTime": "34.362ms",
    "dotnet_interactive": {
     "language": "fsharp"
    },
    "polyglot_notebook": {
     "kernelName": "fsharp"
    }
   },
   "outputs": [
    {
     "data": {
      "text/html": [
       "<details open=\"open\" class=\"dni-treeview\"><summary><span class=\"dni-code-hint\"><code>Success (JString \"\", { lines = [|\"\"\"\"|]\\n                       position = { line = 0\\n                                    column = 2 } })</code></span></summary><div><table><thead><tr></tr></thead><tbody><tr><td>Item</td><td><details class=\"dni-treeview\"><summary><span class=\"dni-code-hint\"><code>(JString \"\", { lines = [|\"\"\"\"|]\\n  position = { line = 0\\n               column = 2 } })</code></span></summary><div><table><thead><tr></tr></thead><tbody><tr><td>Item1</td><td><details class=\"dni-treeview\"><summary><span class=\"dni-code-hint\"><code>JString \"\"</code></span></summary><div><table><thead><tr></tr></thead><tbody><tr><td>Item</td><td></td></tr></tbody></table></div></details></td></tr><tr><td>Item2</td><td><details class=\"dni-treeview\"><summary><span class=\"dni-code-hint\"><code>{ lines = [|\"\"\"\"|]\\n  position = { line = 0\\n               column = 2 } }</code></span></summary><div><table><thead><tr></tr></thead><tbody><tr><td>lines</td><td><div class=\"dni-plaintext\"><pre>[ &quot;&quot; ]</pre></div></td></tr><tr><td>position</td><td><details class=\"dni-treeview\"><summary><span class=\"dni-code-hint\"><code>{ line = 0\\n  column = 2 }</code></span></summary><div><table><thead><tr></tr></thead><tbody><tr><td>line</td><td><div class=\"dni-plaintext\"><pre>0</pre></div></td></tr><tr><td>column</td><td><div class=\"dni-plaintext\"><pre>2</pre></div></td></tr></tbody></table></div></details></td></tr></tbody></table></div></details></td></tr></tbody></table></div></details></td></tr></tbody></table></div></details><style>\r\n",
       ".dni-code-hint {\r\n",
       "    font-style: italic;\r\n",
       "    overflow: hidden;\r\n",
       "    white-space: nowrap;\r\n",
       "}\r\n",
       ".dni-treeview {\r\n",
       "    white-space: nowrap;\r\n",
       "}\r\n",
       ".dni-treeview td {\r\n",
       "    vertical-align: top;\r\n",
       "    text-align: start;\r\n",
       "}\r\n",
       "details.dni-treeview {\r\n",
       "    padding-left: 1em;\r\n",
       "}\r\n",
       "table td {\r\n",
       "    text-align: start;\r\n",
       "}\r\n",
       "table tr { \r\n",
       "    vertical-align: top; \r\n",
       "    margin: 0em 0px;\r\n",
       "}\r\n",
       "table tr td pre \r\n",
       "{ \r\n",
       "    vertical-align: top !important; \r\n",
       "    margin: 0em 0px !important;\r\n",
       "} \r\n",
       "table th {\r\n",
       "    text-align: start;\r\n",
       "}\r\n",
       "</style>"
      ]
     },
     "metadata": {},
     "output_type": "display_data"
    },
    {
     "name": "stdout",
     "output_type": "stream",
     "text": [
      "JString \"\"\r\n",
      "JString\r\n",
      "      Item: \r\n"
     ]
    }
   ],
   "source": [
    "//// test\n",
    "\n",
    "run jString \"\\\"\\\"\"\n",
    "|> parserEqual (Success (JString \"\"))"
   ]
  },
  {
   "cell_type": "code",
   "execution_count": null,
   "metadata": {
    "dotnet_repl_cellExecutionStartTime": "2023-07-21T16:12:57.1550744-03:00",
    "dotnet_repl_cellExecutionEndTime": "2023-07-21T16:12:57.185082-03:00",
    "dotnet_repl_cellExecutionTime": "30.0091ms",
    "dotnet_interactive": {
     "language": "fsharp"
    },
    "polyglot_notebook": {
     "kernelName": "fsharp"
    }
   },
   "outputs": [
    {
     "data": {
      "text/html": [
       "<details open=\"open\" class=\"dni-treeview\"><summary><span class=\"dni-code-hint\"><code>Success (JString \"a\", { lines = [|\"\"a\"\"|]\\n                        position = { line = 0\\n                                     column = 3 } })</code></span></summary><div><table><thead><tr></tr></thead><tbody><tr><td>Item</td><td><details class=\"dni-treeview\"><summary><span class=\"dni-code-hint\"><code>(JString \"a\", { lines = [|\"\"a\"\"|]\\n  position = { line = 0\\n               column = 3 } })</code></span></summary><div><table><thead><tr></tr></thead><tbody><tr><td>Item1</td><td><details class=\"dni-treeview\"><summary><span class=\"dni-code-hint\"><code>JString \"a\"</code></span></summary><div><table><thead><tr></tr></thead><tbody><tr><td>Item</td><td>a</td></tr></tbody></table></div></details></td></tr><tr><td>Item2</td><td><details class=\"dni-treeview\"><summary><span class=\"dni-code-hint\"><code>{ lines = [|\"\"a\"\"|]\\n  position = { line = 0\\n               column = 3 } }</code></span></summary><div><table><thead><tr></tr></thead><tbody><tr><td>lines</td><td><div class=\"dni-plaintext\"><pre>[ &quot;a&quot; ]</pre></div></td></tr><tr><td>position</td><td><details class=\"dni-treeview\"><summary><span class=\"dni-code-hint\"><code>{ line = 0\\n  column = 3 }</code></span></summary><div><table><thead><tr></tr></thead><tbody><tr><td>line</td><td><div class=\"dni-plaintext\"><pre>0</pre></div></td></tr><tr><td>column</td><td><div class=\"dni-plaintext\"><pre>3</pre></div></td></tr></tbody></table></div></details></td></tr></tbody></table></div></details></td></tr></tbody></table></div></details></td></tr></tbody></table></div></details><style>\r\n",
       ".dni-code-hint {\r\n",
       "    font-style: italic;\r\n",
       "    overflow: hidden;\r\n",
       "    white-space: nowrap;\r\n",
       "}\r\n",
       ".dni-treeview {\r\n",
       "    white-space: nowrap;\r\n",
       "}\r\n",
       ".dni-treeview td {\r\n",
       "    vertical-align: top;\r\n",
       "    text-align: start;\r\n",
       "}\r\n",
       "details.dni-treeview {\r\n",
       "    padding-left: 1em;\r\n",
       "}\r\n",
       "table td {\r\n",
       "    text-align: start;\r\n",
       "}\r\n",
       "table tr { \r\n",
       "    vertical-align: top; \r\n",
       "    margin: 0em 0px;\r\n",
       "}\r\n",
       "table tr td pre \r\n",
       "{ \r\n",
       "    vertical-align: top !important; \r\n",
       "    margin: 0em 0px !important;\r\n",
       "} \r\n",
       "table th {\r\n",
       "    text-align: start;\r\n",
       "}\r\n",
       "</style>"
      ]
     },
     "metadata": {},
     "output_type": "display_data"
    },
    {
     "name": "stdout",
     "output_type": "stream",
     "text": [
      "JString \"a\"\r\n",
      "JString\r\n",
      "      Item: a\r\n"
     ]
    }
   ],
   "source": [
    "//// test\n",
    "\n",
    "run jString \"\\\"a\\\"\"\n",
    "|> parserEqual (Success (JString \"a\"))"
   ]
  },
  {
   "cell_type": "code",
   "execution_count": null,
   "metadata": {
    "dotnet_repl_cellExecutionStartTime": "2023-07-21T16:12:57.1851201-03:00",
    "dotnet_repl_cellExecutionEndTime": "2023-07-21T16:12:57.2063818-03:00",
    "dotnet_repl_cellExecutionTime": "21.263ms",
    "dotnet_interactive": {
     "language": "fsharp"
    },
    "polyglot_notebook": {
     "kernelName": "fsharp"
    }
   },
   "outputs": [
    {
     "data": {
      "text/html": [
       "<details open=\"open\" class=\"dni-treeview\"><summary><span class=\"dni-code-hint\"><code>Success (JString \"ab\", { lines = [|\"\"ab\"\"|]\\n                         position = { line = 0\\n                                      column = 4 } })</code></span></summary><div><table><thead><tr></tr></thead><tbody><tr><td>Item</td><td><details class=\"dni-treeview\"><summary><span class=\"dni-code-hint\"><code>(JString \"ab\", { lines = [|\"\"ab\"\"|]\\n  position = { line = 0\\n               column = 4 } })</code></span></summary><div><table><thead><tr></tr></thead><tbody><tr><td>Item1</td><td><details class=\"dni-treeview\"><summary><span class=\"dni-code-hint\"><code>JString \"ab\"</code></span></summary><div><table><thead><tr></tr></thead><tbody><tr><td>Item</td><td>ab</td></tr></tbody></table></div></details></td></tr><tr><td>Item2</td><td><details class=\"dni-treeview\"><summary><span class=\"dni-code-hint\"><code>{ lines = [|\"\"ab\"\"|]\\n  position = { line = 0\\n               column = 4 } }</code></span></summary><div><table><thead><tr></tr></thead><tbody><tr><td>lines</td><td><div class=\"dni-plaintext\"><pre>[ &quot;ab&quot; ]</pre></div></td></tr><tr><td>position</td><td><details class=\"dni-treeview\"><summary><span class=\"dni-code-hint\"><code>{ line = 0\\n  column = 4 }</code></span></summary><div><table><thead><tr></tr></thead><tbody><tr><td>line</td><td><div class=\"dni-plaintext\"><pre>0</pre></div></td></tr><tr><td>column</td><td><div class=\"dni-plaintext\"><pre>4</pre></div></td></tr></tbody></table></div></details></td></tr></tbody></table></div></details></td></tr></tbody></table></div></details></td></tr></tbody></table></div></details><style>\r\n",
       ".dni-code-hint {\r\n",
       "    font-style: italic;\r\n",
       "    overflow: hidden;\r\n",
       "    white-space: nowrap;\r\n",
       "}\r\n",
       ".dni-treeview {\r\n",
       "    white-space: nowrap;\r\n",
       "}\r\n",
       ".dni-treeview td {\r\n",
       "    vertical-align: top;\r\n",
       "    text-align: start;\r\n",
       "}\r\n",
       "details.dni-treeview {\r\n",
       "    padding-left: 1em;\r\n",
       "}\r\n",
       "table td {\r\n",
       "    text-align: start;\r\n",
       "}\r\n",
       "table tr { \r\n",
       "    vertical-align: top; \r\n",
       "    margin: 0em 0px;\r\n",
       "}\r\n",
       "table tr td pre \r\n",
       "{ \r\n",
       "    vertical-align: top !important; \r\n",
       "    margin: 0em 0px !important;\r\n",
       "} \r\n",
       "table th {\r\n",
       "    text-align: start;\r\n",
       "}\r\n",
       "</style>"
      ]
     },
     "metadata": {},
     "output_type": "display_data"
    },
    {
     "name": "stdout",
     "output_type": "stream",
     "text": [
      "JString \"ab\"\r\n",
      "JString\r\n",
      "      Item: ab\r\n"
     ]
    }
   ],
   "source": [
    "//// test\n",
    "\n",
    "run jString \"\\\"ab\\\"\"\n",
    "|> parserEqual (Success (JString \"ab\"))"
   ]
  },
  {
   "cell_type": "code",
   "execution_count": null,
   "metadata": {
    "dotnet_repl_cellExecutionStartTime": "2023-07-21T16:12:57.2064124-03:00",
    "dotnet_repl_cellExecutionEndTime": "2023-07-21T16:12:57.2275805-03:00",
    "dotnet_repl_cellExecutionTime": "21.1692ms",
    "dotnet_interactive": {
     "language": "fsharp"
    },
    "polyglot_notebook": {
     "kernelName": "fsharp"
    }
   },
   "outputs": [
    {
     "data": {
      "text/html": [
       "<details open=\"open\" class=\"dni-treeview\"><summary><span class=\"dni-code-hint\"><code>Success (JString \"ab\tde\", { lines = [|\"\"ab\\tde\"\"|]\\n                            position = { line = 0\\n                                         column = 8 } })</code></span></summary><div><table><thead><tr></tr></thead><tbody><tr><td>Item</td><td><details class=\"dni-treeview\"><summary><span class=\"dni-code-hint\"><code>(JString \"ab\tde\", { lines = [|\"\"ab\\tde\"\"|]\\n  position = { line = 0\\n               column = 8 } })</code></span></summary><div><table><thead><tr></tr></thead><tbody><tr><td>Item1</td><td><details class=\"dni-treeview\"><summary><span class=\"dni-code-hint\"><code>JString \"ab\tde\"</code></span></summary><div><table><thead><tr></tr></thead><tbody><tr><td>Item</td><td>ab\tde</td></tr></tbody></table></div></details></td></tr><tr><td>Item2</td><td><details class=\"dni-treeview\"><summary><span class=\"dni-code-hint\"><code>{ lines = [|\"\"ab\\tde\"\"|]\\n  position = { line = 0\\n               column = 8 } }</code></span></summary><div><table><thead><tr></tr></thead><tbody><tr><td>lines</td><td><div class=\"dni-plaintext\"><pre>[ &quot;ab\\tde&quot; ]</pre></div></td></tr><tr><td>position</td><td><details class=\"dni-treeview\"><summary><span class=\"dni-code-hint\"><code>{ line = 0\\n  column = 8 }</code></span></summary><div><table><thead><tr></tr></thead><tbody><tr><td>line</td><td><div class=\"dni-plaintext\"><pre>0</pre></div></td></tr><tr><td>column</td><td><div class=\"dni-plaintext\"><pre>8</pre></div></td></tr></tbody></table></div></details></td></tr></tbody></table></div></details></td></tr></tbody></table></div></details></td></tr></tbody></table></div></details><style>\r\n",
       ".dni-code-hint {\r\n",
       "    font-style: italic;\r\n",
       "    overflow: hidden;\r\n",
       "    white-space: nowrap;\r\n",
       "}\r\n",
       ".dni-treeview {\r\n",
       "    white-space: nowrap;\r\n",
       "}\r\n",
       ".dni-treeview td {\r\n",
       "    vertical-align: top;\r\n",
       "    text-align: start;\r\n",
       "}\r\n",
       "details.dni-treeview {\r\n",
       "    padding-left: 1em;\r\n",
       "}\r\n",
       "table td {\r\n",
       "    text-align: start;\r\n",
       "}\r\n",
       "table tr { \r\n",
       "    vertical-align: top; \r\n",
       "    margin: 0em 0px;\r\n",
       "}\r\n",
       "table tr td pre \r\n",
       "{ \r\n",
       "    vertical-align: top !important; \r\n",
       "    margin: 0em 0px !important;\r\n",
       "} \r\n",
       "table th {\r\n",
       "    text-align: start;\r\n",
       "}\r\n",
       "</style>"
      ]
     },
     "metadata": {},
     "output_type": "display_data"
    },
    {
     "name": "stdout",
     "output_type": "stream",
     "text": [
      "JString \"ab\tde\"\r\n",
      "JString\r\n",
      "      Item: ab\tde\r\n"
     ]
    }
   ],
   "source": [
    "//// test\n",
    "\n",
    "run jString \"\\\"ab\\\\tde\\\"\"\n",
    "|> parserEqual (Success (JString \"ab\\tde\"))"
   ]
  },
  {
   "cell_type": "code",
   "execution_count": null,
   "metadata": {
    "dotnet_repl_cellExecutionStartTime": "2023-07-21T16:12:57.2276106-03:00",
    "dotnet_repl_cellExecutionEndTime": "2023-07-21T16:12:57.2509361-03:00",
    "dotnet_repl_cellExecutionTime": "23.3266ms",
    "dotnet_interactive": {
     "language": "fsharp"
    },
    "polyglot_notebook": {
     "kernelName": "fsharp"
    }
   },
   "outputs": [
    {
     "data": {
      "text/html": [
       "<details open=\"open\" class=\"dni-treeview\"><summary><span class=\"dni-code-hint\"><code>Success (JString \"ab☺de\", { lines = [|\"\"ab\\u263Ade\"\"|]\\n                            position = { line = 0\\n                                         column = 12 } })</code></span></summary><div><table><thead><tr></tr></thead><tbody><tr><td>Item</td><td><details class=\"dni-treeview\"><summary><span class=\"dni-code-hint\"><code>(JString \"ab☺de\", { lines = [|\"\"ab\\u263Ade\"\"|]\\n  position = { line = 0\\n               column = 12 } })</code></span></summary><div><table><thead><tr></tr></thead><tbody><tr><td>Item1</td><td><details class=\"dni-treeview\"><summary><span class=\"dni-code-hint\"><code>JString \"ab☺de\"</code></span></summary><div><table><thead><tr></tr></thead><tbody><tr><td>Item</td><td>ab☺de</td></tr></tbody></table></div></details></td></tr><tr><td>Item2</td><td><details class=\"dni-treeview\"><summary><span class=\"dni-code-hint\"><code>{ lines = [|\"\"ab\\u263Ade\"\"|]\\n  position = { line = 0\\n               column = 12 } }</code></span></summary><div><table><thead><tr></tr></thead><tbody><tr><td>lines</td><td><div class=\"dni-plaintext\"><pre>[ &quot;ab\\u263Ade&quot; ]</pre></div></td></tr><tr><td>position</td><td><details class=\"dni-treeview\"><summary><span class=\"dni-code-hint\"><code>{ line = 0\\n  column = 12 }</code></span></summary><div><table><thead><tr></tr></thead><tbody><tr><td>line</td><td><div class=\"dni-plaintext\"><pre>0</pre></div></td></tr><tr><td>column</td><td><div class=\"dni-plaintext\"><pre>12</pre></div></td></tr></tbody></table></div></details></td></tr></tbody></table></div></details></td></tr></tbody></table></div></details></td></tr></tbody></table></div></details><style>\r\n",
       ".dni-code-hint {\r\n",
       "    font-style: italic;\r\n",
       "    overflow: hidden;\r\n",
       "    white-space: nowrap;\r\n",
       "}\r\n",
       ".dni-treeview {\r\n",
       "    white-space: nowrap;\r\n",
       "}\r\n",
       ".dni-treeview td {\r\n",
       "    vertical-align: top;\r\n",
       "    text-align: start;\r\n",
       "}\r\n",
       "details.dni-treeview {\r\n",
       "    padding-left: 1em;\r\n",
       "}\r\n",
       "table td {\r\n",
       "    text-align: start;\r\n",
       "}\r\n",
       "table tr { \r\n",
       "    vertical-align: top; \r\n",
       "    margin: 0em 0px;\r\n",
       "}\r\n",
       "table tr td pre \r\n",
       "{ \r\n",
       "    vertical-align: top !important; \r\n",
       "    margin: 0em 0px !important;\r\n",
       "} \r\n",
       "table th {\r\n",
       "    text-align: start;\r\n",
       "}\r\n",
       "</style>"
      ]
     },
     "metadata": {},
     "output_type": "display_data"
    },
    {
     "name": "stdout",
     "output_type": "stream",
     "text": [
      "JString \"ab☺de\"\r\n",
      "JString\r\n",
      "      Item: ab☺de\r\n"
     ]
    }
   ],
   "source": [
    "//// test\n",
    "\n",
    "run jString \"\\\"ab\\\\u263Ade\\\"\"\n",
    "|> parserEqual (Success (JString \"ab☺de\"))"
   ]
  },
  {
   "cell_type": "markdown",
   "metadata": {
    "dotnet_repl_cellExecutionStartTime": "2023-07-21T16:12:57.2509668-03:00",
    "dotnet_repl_cellExecutionEndTime": "2023-07-21T16:12:57.2520987-03:00",
    "dotnet_repl_cellExecutionTime": "1.1331ms"
   },
   "source": [
    "### jNumber"
   ]
  },
  {
   "cell_type": "code",
   "execution_count": null,
   "metadata": {
    "dotnet_repl_cellExecutionStartTime": "2023-07-21T16:12:57.2521203-03:00",
    "dotnet_repl_cellExecutionEndTime": "2023-07-21T16:12:57.4390217-03:00",
    "dotnet_repl_cellExecutionTime": "186.9031ms",
    "dotnet_interactive": {
     "language": "fsharp"
    },
    "polyglot_notebook": {
     "kernelName": "fsharp"
    }
   },
   "outputs": [],
   "source": [
    "let jNumber =\n",
    "    let optSign = opt (pchar '-')\n",
    "\n",
    "    let zero = pstring \"0\"\n",
    "\n",
    "    let digitOneNine =\n",
    "        satisfy (fun ch -> Char.IsDigit ch && ch <> '0') \"1-9\"\n",
    "\n",
    "    let digit =\n",
    "        satisfy Char.IsDigit \"digit\"\n",
    "\n",
    "    let point = pchar '.'\n",
    "\n",
    "    let e = pchar 'e' <|> pchar 'E'\n",
    "\n",
    "    let optPlusMinus = opt (pchar '-' <|> pchar '+')\n",
    "\n",
    "    let nonZeroInt =\n",
    "        digitOneNine .>>. manyChars digit\n",
    "        |>> fun (first, rest) -> string first + rest\n",
    "\n",
    "    let intPart = zero <|> nonZeroInt\n",
    "\n",
    "    let fractionPart = point >>. manyChars1 digit\n",
    "\n",
    "    let exponentPart = e >>. optPlusMinus .>>. manyChars1 digit\n",
    "\n",
    "    let (|>?) opt f =\n",
    "        match opt with\n",
    "        | None -> \"\"\n",
    "        | Some x -> f x\n",
    "\n",
    "    let convertToJNumber (((optSign, intPart), fractionPart), expPart) =\n",
    "        let signStr =\n",
    "            optSign\n",
    "            |>? string\n",
    "\n",
    "        let fractionPartStr =\n",
    "            fractionPart\n",
    "            |>? (fun digits -> \".\" + digits)\n",
    "\n",
    "        let expPartStr =\n",
    "            expPart\n",
    "            |>? fun (optSign, digits) ->\n",
    "                let sign = optSign |>? string\n",
    "                \"e\" + sign + digits\n",
    "\n",
    "        (signStr + intPart + fractionPartStr + expPartStr)\n",
    "        |> float\n",
    "        |> JNumber\n",
    "\n",
    "    optSign .>>. intPart .>>. opt fractionPart .>>. opt exponentPart\n",
    "    |>> convertToJNumber\n",
    "    <?> \"number\""
   ]
  },
  {
   "cell_type": "code",
   "execution_count": null,
   "metadata": {
    "dotnet_repl_cellExecutionStartTime": "2023-07-21T16:12:57.4390535-03:00",
    "dotnet_repl_cellExecutionEndTime": "2023-07-21T16:12:57.4534203-03:00",
    "dotnet_repl_cellExecutionTime": "14.3685ms",
    "dotnet_interactive": {
     "language": "fsharp"
    },
    "polyglot_notebook": {
     "kernelName": "fsharp"
    }
   },
   "outputs": [],
   "source": [
    "//// test\n",
    "\n",
    "jValueRef <|\n",
    "    choice\n",
    "        [\n",
    "            jNull\n",
    "            jBool\n",
    "            jString\n",
    "            jNumber\n",
    "        ]"
   ]
  },
  {
   "cell_type": "code",
   "execution_count": null,
   "metadata": {
    "dotnet_repl_cellExecutionStartTime": "2023-07-21T16:12:57.4534517-03:00",
    "dotnet_repl_cellExecutionEndTime": "2023-07-21T16:12:57.4939066-03:00",
    "dotnet_repl_cellExecutionTime": "40.4561ms",
    "dotnet_interactive": {
     "language": "fsharp"
    },
    "polyglot_notebook": {
     "kernelName": "fsharp"
    }
   },
   "outputs": [
    {
     "data": {
      "text/html": [
       "<details open=\"open\" class=\"dni-treeview\"><summary><span class=\"dni-code-hint\"><code>Success (JNumber 123.0, { lines = [|\"123\"|]\\n                          position = { line = 0\\n                                       column = 3 } })</code></span></summary><div><table><thead><tr></tr></thead><tbody><tr><td>Item</td><td><details class=\"dni-treeview\"><summary><span class=\"dni-code-hint\"><code>(JNumber 123.0, { lines = [|\"123\"|]\\n  position = { line = 0\\n               column = 3 } })</code></span></summary><div><table><thead><tr></tr></thead><tbody><tr><td>Item1</td><td><details class=\"dni-treeview\"><summary><span class=\"dni-code-hint\"><code>JNumber 123.0</code></span></summary><div><table><thead><tr></tr></thead><tbody><tr><td>Item</td><td><div class=\"dni-plaintext\"><pre>123</pre></div></td></tr></tbody></table></div></details></td></tr><tr><td>Item2</td><td><details class=\"dni-treeview\"><summary><span class=\"dni-code-hint\"><code>{ lines = [|\"123\"|]\\n  position = { line = 0\\n               column = 3 } }</code></span></summary><div><table><thead><tr></tr></thead><tbody><tr><td>lines</td><td><div class=\"dni-plaintext\"><pre>[ 123 ]</pre></div></td></tr><tr><td>position</td><td><details class=\"dni-treeview\"><summary><span class=\"dni-code-hint\"><code>{ line = 0\\n  column = 3 }</code></span></summary><div><table><thead><tr></tr></thead><tbody><tr><td>line</td><td><div class=\"dni-plaintext\"><pre>0</pre></div></td></tr><tr><td>column</td><td><div class=\"dni-plaintext\"><pre>3</pre></div></td></tr></tbody></table></div></details></td></tr></tbody></table></div></details></td></tr></tbody></table></div></details></td></tr></tbody></table></div></details><style>\r\n",
       ".dni-code-hint {\r\n",
       "    font-style: italic;\r\n",
       "    overflow: hidden;\r\n",
       "    white-space: nowrap;\r\n",
       "}\r\n",
       ".dni-treeview {\r\n",
       "    white-space: nowrap;\r\n",
       "}\r\n",
       ".dni-treeview td {\r\n",
       "    vertical-align: top;\r\n",
       "    text-align: start;\r\n",
       "}\r\n",
       "details.dni-treeview {\r\n",
       "    padding-left: 1em;\r\n",
       "}\r\n",
       "table td {\r\n",
       "    text-align: start;\r\n",
       "}\r\n",
       "table tr { \r\n",
       "    vertical-align: top; \r\n",
       "    margin: 0em 0px;\r\n",
       "}\r\n",
       "table tr td pre \r\n",
       "{ \r\n",
       "    vertical-align: top !important; \r\n",
       "    margin: 0em 0px !important;\r\n",
       "} \r\n",
       "table th {\r\n",
       "    text-align: start;\r\n",
       "}\r\n",
       "</style>"
      ]
     },
     "metadata": {},
     "output_type": "display_data"
    },
    {
     "name": "stdout",
     "output_type": "stream",
     "text": [
      "JNumber 123.0\r\n",
      "JNumber\r\n",
      "      Item: 123\r\n"
     ]
    }
   ],
   "source": [
    "//// test\n",
    "\n",
    "run jNumber \"123\"\n",
    "|> parserEqual (Success (JNumber 123.0))"
   ]
  },
  {
   "cell_type": "code",
   "execution_count": null,
   "metadata": {
    "dotnet_repl_cellExecutionStartTime": "2023-07-21T16:12:57.4939384-03:00",
    "dotnet_repl_cellExecutionEndTime": "2023-07-21T16:12:57.5160707-03:00",
    "dotnet_repl_cellExecutionTime": "22.1338ms",
    "dotnet_interactive": {
     "language": "fsharp"
    },
    "polyglot_notebook": {
     "kernelName": "fsharp"
    }
   },
   "outputs": [
    {
     "data": {
      "text/html": [
       "<details open=\"open\" class=\"dni-treeview\"><summary><span class=\"dni-code-hint\"><code>Success (JNumber -123.0, { lines = [|\"-123\"|]\\n                           position = { line = 0\\n                                        column = 4 } })</code></span></summary><div><table><thead><tr></tr></thead><tbody><tr><td>Item</td><td><details class=\"dni-treeview\"><summary><span class=\"dni-code-hint\"><code>(JNumber -123.0, { lines = [|\"-123\"|]\\n  position = { line = 0\\n               column = 4 } })</code></span></summary><div><table><thead><tr></tr></thead><tbody><tr><td>Item1</td><td><details class=\"dni-treeview\"><summary><span class=\"dni-code-hint\"><code>JNumber -123.0</code></span></summary><div><table><thead><tr></tr></thead><tbody><tr><td>Item</td><td><div class=\"dni-plaintext\"><pre>-123</pre></div></td></tr></tbody></table></div></details></td></tr><tr><td>Item2</td><td><details class=\"dni-treeview\"><summary><span class=\"dni-code-hint\"><code>{ lines = [|\"-123\"|]\\n  position = { line = 0\\n               column = 4 } }</code></span></summary><div><table><thead><tr></tr></thead><tbody><tr><td>lines</td><td><div class=\"dni-plaintext\"><pre>[ -123 ]</pre></div></td></tr><tr><td>position</td><td><details class=\"dni-treeview\"><summary><span class=\"dni-code-hint\"><code>{ line = 0\\n  column = 4 }</code></span></summary><div><table><thead><tr></tr></thead><tbody><tr><td>line</td><td><div class=\"dni-plaintext\"><pre>0</pre></div></td></tr><tr><td>column</td><td><div class=\"dni-plaintext\"><pre>4</pre></div></td></tr></tbody></table></div></details></td></tr></tbody></table></div></details></td></tr></tbody></table></div></details></td></tr></tbody></table></div></details><style>\r\n",
       ".dni-code-hint {\r\n",
       "    font-style: italic;\r\n",
       "    overflow: hidden;\r\n",
       "    white-space: nowrap;\r\n",
       "}\r\n",
       ".dni-treeview {\r\n",
       "    white-space: nowrap;\r\n",
       "}\r\n",
       ".dni-treeview td {\r\n",
       "    vertical-align: top;\r\n",
       "    text-align: start;\r\n",
       "}\r\n",
       "details.dni-treeview {\r\n",
       "    padding-left: 1em;\r\n",
       "}\r\n",
       "table td {\r\n",
       "    text-align: start;\r\n",
       "}\r\n",
       "table tr { \r\n",
       "    vertical-align: top; \r\n",
       "    margin: 0em 0px;\r\n",
       "}\r\n",
       "table tr td pre \r\n",
       "{ \r\n",
       "    vertical-align: top !important; \r\n",
       "    margin: 0em 0px !important;\r\n",
       "} \r\n",
       "table th {\r\n",
       "    text-align: start;\r\n",
       "}\r\n",
       "</style>"
      ]
     },
     "metadata": {},
     "output_type": "display_data"
    },
    {
     "name": "stdout",
     "output_type": "stream",
     "text": [
      "JNumber -123.0\r\n",
      "JNumber\r\n",
      "      Item: -123\r\n"
     ]
    }
   ],
   "source": [
    "//// test\n",
    "\n",
    "run jNumber \"-123\"\n",
    "|> parserEqual (Success (JNumber -123.0))"
   ]
  },
  {
   "cell_type": "code",
   "execution_count": null,
   "metadata": {
    "dotnet_repl_cellExecutionStartTime": "2023-07-21T16:12:57.5161046-03:00",
    "dotnet_repl_cellExecutionEndTime": "2023-07-21T16:12:57.5406386-03:00",
    "dotnet_repl_cellExecutionTime": "24.5347ms",
    "dotnet_interactive": {
     "language": "fsharp"
    },
    "polyglot_notebook": {
     "kernelName": "fsharp"
    }
   },
   "outputs": [
    {
     "data": {
      "text/html": [
       "<details open=\"open\" class=\"dni-treeview\"><summary><span class=\"dni-code-hint\"><code>Success (JNumber 123.4, { lines = [|\"123.4\"|]\\n                          position = { line = 0\\n                                       column = 5 } })</code></span></summary><div><table><thead><tr></tr></thead><tbody><tr><td>Item</td><td><details class=\"dni-treeview\"><summary><span class=\"dni-code-hint\"><code>(JNumber 123.4, { lines = [|\"123.4\"|]\\n  position = { line = 0\\n               column = 5 } })</code></span></summary><div><table><thead><tr></tr></thead><tbody><tr><td>Item1</td><td><details class=\"dni-treeview\"><summary><span class=\"dni-code-hint\"><code>JNumber 123.4</code></span></summary><div><table><thead><tr></tr></thead><tbody><tr><td>Item</td><td><div class=\"dni-plaintext\"><pre>123.4</pre></div></td></tr></tbody></table></div></details></td></tr><tr><td>Item2</td><td><details class=\"dni-treeview\"><summary><span class=\"dni-code-hint\"><code>{ lines = [|\"123.4\"|]\\n  position = { line = 0\\n               column = 5 } }</code></span></summary><div><table><thead><tr></tr></thead><tbody><tr><td>lines</td><td><div class=\"dni-plaintext\"><pre>[ 123.4 ]</pre></div></td></tr><tr><td>position</td><td><details class=\"dni-treeview\"><summary><span class=\"dni-code-hint\"><code>{ line = 0\\n  column = 5 }</code></span></summary><div><table><thead><tr></tr></thead><tbody><tr><td>line</td><td><div class=\"dni-plaintext\"><pre>0</pre></div></td></tr><tr><td>column</td><td><div class=\"dni-plaintext\"><pre>5</pre></div></td></tr></tbody></table></div></details></td></tr></tbody></table></div></details></td></tr></tbody></table></div></details></td></tr></tbody></table></div></details><style>\r\n",
       ".dni-code-hint {\r\n",
       "    font-style: italic;\r\n",
       "    overflow: hidden;\r\n",
       "    white-space: nowrap;\r\n",
       "}\r\n",
       ".dni-treeview {\r\n",
       "    white-space: nowrap;\r\n",
       "}\r\n",
       ".dni-treeview td {\r\n",
       "    vertical-align: top;\r\n",
       "    text-align: start;\r\n",
       "}\r\n",
       "details.dni-treeview {\r\n",
       "    padding-left: 1em;\r\n",
       "}\r\n",
       "table td {\r\n",
       "    text-align: start;\r\n",
       "}\r\n",
       "table tr { \r\n",
       "    vertical-align: top; \r\n",
       "    margin: 0em 0px;\r\n",
       "}\r\n",
       "table tr td pre \r\n",
       "{ \r\n",
       "    vertical-align: top !important; \r\n",
       "    margin: 0em 0px !important;\r\n",
       "} \r\n",
       "table th {\r\n",
       "    text-align: start;\r\n",
       "}\r\n",
       "</style>"
      ]
     },
     "metadata": {},
     "output_type": "display_data"
    },
    {
     "name": "stdout",
     "output_type": "stream",
     "text": [
      "JNumber 123.4\r\n",
      "JNumber\r\n",
      "      Item: 123.4\r\n"
     ]
    }
   ],
   "source": [
    "//// test\n",
    "\n",
    "run jNumber \"123.4\"\n",
    "|> parserEqual (Success (JNumber 123.4))"
   ]
  },
  {
   "cell_type": "code",
   "execution_count": null,
   "metadata": {
    "dotnet_repl_cellExecutionStartTime": "2023-07-21T16:12:57.5406645-03:00",
    "dotnet_repl_cellExecutionEndTime": "2023-07-21T16:12:57.5625511-03:00",
    "dotnet_repl_cellExecutionTime": "21.889ms",
    "dotnet_interactive": {
     "language": "fsharp"
    },
    "polyglot_notebook": {
     "kernelName": "fsharp"
    }
   },
   "outputs": [
    {
     "data": {
      "text/html": [
       "<details open=\"open\" class=\"dni-treeview\"><summary><span class=\"dni-code-hint\"><code>Success (JNumber -123.0, { lines = [|\"-123.\"|]\\n                           position = { line = 0\\n                                        column = 4 } })</code></span></summary><div><table><thead><tr></tr></thead><tbody><tr><td>Item</td><td><details class=\"dni-treeview\"><summary><span class=\"dni-code-hint\"><code>(JNumber -123.0, { lines = [|\"-123.\"|]\\n  position = { line = 0\\n               column = 4 } })</code></span></summary><div><table><thead><tr></tr></thead><tbody><tr><td>Item1</td><td><details class=\"dni-treeview\"><summary><span class=\"dni-code-hint\"><code>JNumber -123.0</code></span></summary><div><table><thead><tr></tr></thead><tbody><tr><td>Item</td><td><div class=\"dni-plaintext\"><pre>-123</pre></div></td></tr></tbody></table></div></details></td></tr><tr><td>Item2</td><td><details class=\"dni-treeview\"><summary><span class=\"dni-code-hint\"><code>{ lines = [|\"-123.\"|]\\n  position = { line = 0\\n               column = 4 } }</code></span></summary><div><table><thead><tr></tr></thead><tbody><tr><td>lines</td><td><div class=\"dni-plaintext\"><pre>[ -123. ]</pre></div></td></tr><tr><td>position</td><td><details class=\"dni-treeview\"><summary><span class=\"dni-code-hint\"><code>{ line = 0\\n  column = 4 }</code></span></summary><div><table><thead><tr></tr></thead><tbody><tr><td>line</td><td><div class=\"dni-plaintext\"><pre>0</pre></div></td></tr><tr><td>column</td><td><div class=\"dni-plaintext\"><pre>4</pre></div></td></tr></tbody></table></div></details></td></tr></tbody></table></div></details></td></tr></tbody></table></div></details></td></tr></tbody></table></div></details><style>\r\n",
       ".dni-code-hint {\r\n",
       "    font-style: italic;\r\n",
       "    overflow: hidden;\r\n",
       "    white-space: nowrap;\r\n",
       "}\r\n",
       ".dni-treeview {\r\n",
       "    white-space: nowrap;\r\n",
       "}\r\n",
       ".dni-treeview td {\r\n",
       "    vertical-align: top;\r\n",
       "    text-align: start;\r\n",
       "}\r\n",
       "details.dni-treeview {\r\n",
       "    padding-left: 1em;\r\n",
       "}\r\n",
       "table td {\r\n",
       "    text-align: start;\r\n",
       "}\r\n",
       "table tr { \r\n",
       "    vertical-align: top; \r\n",
       "    margin: 0em 0px;\r\n",
       "}\r\n",
       "table tr td pre \r\n",
       "{ \r\n",
       "    vertical-align: top !important; \r\n",
       "    margin: 0em 0px !important;\r\n",
       "} \r\n",
       "table th {\r\n",
       "    text-align: start;\r\n",
       "}\r\n",
       "</style>"
      ]
     },
     "metadata": {},
     "output_type": "display_data"
    },
    {
     "name": "stdout",
     "output_type": "stream",
     "text": [
      "JNumber -123.0\r\n",
      "JNumber\r\n",
      "      Item: -123\r\n"
     ]
    }
   ],
   "source": [
    "//// test\n",
    "\n",
    "run jNumber \"-123.\"\n",
    "|> parserEqual (Success (JNumber -123.0))"
   ]
  },
  {
   "cell_type": "code",
   "execution_count": null,
   "metadata": {
    "dotnet_repl_cellExecutionStartTime": "2023-07-21T16:12:57.5625983-03:00",
    "dotnet_repl_cellExecutionEndTime": "2023-07-21T16:12:57.5860857-03:00",
    "dotnet_repl_cellExecutionTime": "23.4898ms",
    "dotnet_interactive": {
     "language": "fsharp"
    },
    "polyglot_notebook": {
     "kernelName": "fsharp"
    }
   },
   "outputs": [
    {
     "data": {
      "text/html": [
       "<details open=\"open\" class=\"dni-treeview\"><summary><span class=\"dni-code-hint\"><code>Success (JNumber 0.0, { lines = [|\"00.1\"|]\\n                        position = { line = 0\\n                                     column = 1 } })</code></span></summary><div><table><thead><tr></tr></thead><tbody><tr><td>Item</td><td><details class=\"dni-treeview\"><summary><span class=\"dni-code-hint\"><code>(JNumber 0.0, { lines = [|\"00.1\"|]\\n  position = { line = 0\\n               column = 1 } })</code></span></summary><div><table><thead><tr></tr></thead><tbody><tr><td>Item1</td><td><details class=\"dni-treeview\"><summary><span class=\"dni-code-hint\"><code>JNumber 0.0</code></span></summary><div><table><thead><tr></tr></thead><tbody><tr><td>Item</td><td><div class=\"dni-plaintext\"><pre>0</pre></div></td></tr></tbody></table></div></details></td></tr><tr><td>Item2</td><td><details class=\"dni-treeview\"><summary><span class=\"dni-code-hint\"><code>{ lines = [|\"00.1\"|]\\n  position = { line = 0\\n               column = 1 } }</code></span></summary><div><table><thead><tr></tr></thead><tbody><tr><td>lines</td><td><div class=\"dni-plaintext\"><pre>[ 00.1 ]</pre></div></td></tr><tr><td>position</td><td><details class=\"dni-treeview\"><summary><span class=\"dni-code-hint\"><code>{ line = 0\\n  column = 1 }</code></span></summary><div><table><thead><tr></tr></thead><tbody><tr><td>line</td><td><div class=\"dni-plaintext\"><pre>0</pre></div></td></tr><tr><td>column</td><td><div class=\"dni-plaintext\"><pre>1</pre></div></td></tr></tbody></table></div></details></td></tr></tbody></table></div></details></td></tr></tbody></table></div></details></td></tr></tbody></table></div></details><style>\r\n",
       ".dni-code-hint {\r\n",
       "    font-style: italic;\r\n",
       "    overflow: hidden;\r\n",
       "    white-space: nowrap;\r\n",
       "}\r\n",
       ".dni-treeview {\r\n",
       "    white-space: nowrap;\r\n",
       "}\r\n",
       ".dni-treeview td {\r\n",
       "    vertical-align: top;\r\n",
       "    text-align: start;\r\n",
       "}\r\n",
       "details.dni-treeview {\r\n",
       "    padding-left: 1em;\r\n",
       "}\r\n",
       "table td {\r\n",
       "    text-align: start;\r\n",
       "}\r\n",
       "table tr { \r\n",
       "    vertical-align: top; \r\n",
       "    margin: 0em 0px;\r\n",
       "}\r\n",
       "table tr td pre \r\n",
       "{ \r\n",
       "    vertical-align: top !important; \r\n",
       "    margin: 0em 0px !important;\r\n",
       "} \r\n",
       "table th {\r\n",
       "    text-align: start;\r\n",
       "}\r\n",
       "</style>"
      ]
     },
     "metadata": {},
     "output_type": "display_data"
    },
    {
     "name": "stdout",
     "output_type": "stream",
     "text": [
      "JNumber 0.0\r\n",
      "JNumber\r\n",
      "      Item: 0\r\n"
     ]
    }
   ],
   "source": [
    "//// test\n",
    "\n",
    "run jNumber \"00.1\"\n",
    "|> parserEqual (Success (JNumber 0.0))"
   ]
  },
  {
   "cell_type": "code",
   "execution_count": null,
   "metadata": {
    "dotnet_repl_cellExecutionStartTime": "2023-07-21T16:12:57.5861386-03:00",
    "dotnet_repl_cellExecutionEndTime": "2023-07-21T16:12:57.5964878-03:00",
    "dotnet_repl_cellExecutionTime": "10.3525ms",
    "dotnet_interactive": {
     "language": "fsharp"
    },
    "polyglot_notebook": {
     "kernelName": "fsharp"
    }
   },
   "outputs": [],
   "source": [
    "//// test\n",
    "\n",
    "let jNumber_ = jNumber .>> spaces1"
   ]
  },
  {
   "cell_type": "code",
   "execution_count": null,
   "metadata": {
    "dotnet_repl_cellExecutionStartTime": "2023-07-21T16:12:57.5965359-03:00",
    "dotnet_repl_cellExecutionEndTime": "2023-07-21T16:12:57.6206017-03:00",
    "dotnet_repl_cellExecutionTime": "24.0678ms",
    "dotnet_interactive": {
     "language": "fsharp"
    },
    "polyglot_notebook": {
     "kernelName": "fsharp"
    }
   },
   "outputs": [
    {
     "data": {
      "text/html": [
       "<details open=\"open\" class=\"dni-treeview\"><summary><span class=\"dni-code-hint\"><code>Success (JNumber 123.0, { lines = [|\"123\"|]\\n                          position = { line = 1\\n                                       column = 0 } })</code></span></summary><div><table><thead><tr></tr></thead><tbody><tr><td>Item</td><td><details class=\"dni-treeview\"><summary><span class=\"dni-code-hint\"><code>(JNumber 123.0, { lines = [|\"123\"|]\\n  position = { line = 1\\n               column = 0 } })</code></span></summary><div><table><thead><tr></tr></thead><tbody><tr><td>Item1</td><td><details class=\"dni-treeview\"><summary><span class=\"dni-code-hint\"><code>JNumber 123.0</code></span></summary><div><table><thead><tr></tr></thead><tbody><tr><td>Item</td><td><div class=\"dni-plaintext\"><pre>123</pre></div></td></tr></tbody></table></div></details></td></tr><tr><td>Item2</td><td><details class=\"dni-treeview\"><summary><span class=\"dni-code-hint\"><code>{ lines = [|\"123\"|]\\n  position = { line = 1\\n               column = 0 } }</code></span></summary><div><table><thead><tr></tr></thead><tbody><tr><td>lines</td><td><div class=\"dni-plaintext\"><pre>[ 123 ]</pre></div></td></tr><tr><td>position</td><td><details class=\"dni-treeview\"><summary><span class=\"dni-code-hint\"><code>{ line = 1\\n  column = 0 }</code></span></summary><div><table><thead><tr></tr></thead><tbody><tr><td>line</td><td><div class=\"dni-plaintext\"><pre>1</pre></div></td></tr><tr><td>column</td><td><div class=\"dni-plaintext\"><pre>0</pre></div></td></tr></tbody></table></div></details></td></tr></tbody></table></div></details></td></tr></tbody></table></div></details></td></tr></tbody></table></div></details><style>\r\n",
       ".dni-code-hint {\r\n",
       "    font-style: italic;\r\n",
       "    overflow: hidden;\r\n",
       "    white-space: nowrap;\r\n",
       "}\r\n",
       ".dni-treeview {\r\n",
       "    white-space: nowrap;\r\n",
       "}\r\n",
       ".dni-treeview td {\r\n",
       "    vertical-align: top;\r\n",
       "    text-align: start;\r\n",
       "}\r\n",
       "details.dni-treeview {\r\n",
       "    padding-left: 1em;\r\n",
       "}\r\n",
       "table td {\r\n",
       "    text-align: start;\r\n",
       "}\r\n",
       "table tr { \r\n",
       "    vertical-align: top; \r\n",
       "    margin: 0em 0px;\r\n",
       "}\r\n",
       "table tr td pre \r\n",
       "{ \r\n",
       "    vertical-align: top !important; \r\n",
       "    margin: 0em 0px !important;\r\n",
       "} \r\n",
       "table th {\r\n",
       "    text-align: start;\r\n",
       "}\r\n",
       "</style>"
      ]
     },
     "metadata": {},
     "output_type": "display_data"
    },
    {
     "name": "stdout",
     "output_type": "stream",
     "text": [
      "JNumber 123.0\r\n",
      "JNumber\r\n",
      "      Item: 123\r\n"
     ]
    }
   ],
   "source": [
    "//// test\n",
    "\n",
    "run jNumber_ \"123\"\n",
    "|> parserEqual (Success (JNumber 123.0))"
   ]
  },
  {
   "cell_type": "code",
   "execution_count": null,
   "metadata": {
    "dotnet_repl_cellExecutionStartTime": "2023-07-21T16:12:57.6206444-03:00",
    "dotnet_repl_cellExecutionEndTime": "2023-07-21T16:12:57.6524016-03:00",
    "dotnet_repl_cellExecutionTime": "31.7592ms",
    "dotnet_interactive": {
     "language": "fsharp"
    },
    "polyglot_notebook": {
     "kernelName": "fsharp"
    }
   },
   "outputs": [
    {
     "data": {
      "text/html": [
       "<details open=\"open\" class=\"dni-treeview\"><summary><span class=\"dni-code-hint\"><code>Success (JNumber -123.0, { lines = [|\"-123\"|]\\n                           position = { line = 1\\n                                        column = 0 } })</code></span></summary><div><table><thead><tr></tr></thead><tbody><tr><td>Item</td><td><details class=\"dni-treeview\"><summary><span class=\"dni-code-hint\"><code>(JNumber -123.0, { lines = [|\"-123\"|]\\n  position = { line = 1\\n               column = 0 } })</code></span></summary><div><table><thead><tr></tr></thead><tbody><tr><td>Item1</td><td><details class=\"dni-treeview\"><summary><span class=\"dni-code-hint\"><code>JNumber -123.0</code></span></summary><div><table><thead><tr></tr></thead><tbody><tr><td>Item</td><td><div class=\"dni-plaintext\"><pre>-123</pre></div></td></tr></tbody></table></div></details></td></tr><tr><td>Item2</td><td><details class=\"dni-treeview\"><summary><span class=\"dni-code-hint\"><code>{ lines = [|\"-123\"|]\\n  position = { line = 1\\n               column = 0 } }</code></span></summary><div><table><thead><tr></tr></thead><tbody><tr><td>lines</td><td><div class=\"dni-plaintext\"><pre>[ -123 ]</pre></div></td></tr><tr><td>position</td><td><details class=\"dni-treeview\"><summary><span class=\"dni-code-hint\"><code>{ line = 1\\n  column = 0 }</code></span></summary><div><table><thead><tr></tr></thead><tbody><tr><td>line</td><td><div class=\"dni-plaintext\"><pre>1</pre></div></td></tr><tr><td>column</td><td><div class=\"dni-plaintext\"><pre>0</pre></div></td></tr></tbody></table></div></details></td></tr></tbody></table></div></details></td></tr></tbody></table></div></details></td></tr></tbody></table></div></details><style>\r\n",
       ".dni-code-hint {\r\n",
       "    font-style: italic;\r\n",
       "    overflow: hidden;\r\n",
       "    white-space: nowrap;\r\n",
       "}\r\n",
       ".dni-treeview {\r\n",
       "    white-space: nowrap;\r\n",
       "}\r\n",
       ".dni-treeview td {\r\n",
       "    vertical-align: top;\r\n",
       "    text-align: start;\r\n",
       "}\r\n",
       "details.dni-treeview {\r\n",
       "    padding-left: 1em;\r\n",
       "}\r\n",
       "table td {\r\n",
       "    text-align: start;\r\n",
       "}\r\n",
       "table tr { \r\n",
       "    vertical-align: top; \r\n",
       "    margin: 0em 0px;\r\n",
       "}\r\n",
       "table tr td pre \r\n",
       "{ \r\n",
       "    vertical-align: top !important; \r\n",
       "    margin: 0em 0px !important;\r\n",
       "} \r\n",
       "table th {\r\n",
       "    text-align: start;\r\n",
       "}\r\n",
       "</style>"
      ]
     },
     "metadata": {},
     "output_type": "display_data"
    },
    {
     "name": "stdout",
     "output_type": "stream",
     "text": [
      "JNumber -123.0\r\n",
      "JNumber\r\n",
      "      Item: -123\r\n"
     ]
    }
   ],
   "source": [
    "//// test\n",
    "\n",
    "run jNumber_ \"-123\"\n",
    "|> parserEqual (Success (JNumber -123.0))"
   ]
  },
  {
   "cell_type": "code",
   "execution_count": null,
   "metadata": {
    "dotnet_repl_cellExecutionStartTime": "2023-07-21T16:12:57.6524439-03:00",
    "dotnet_repl_cellExecutionEndTime": "2023-07-21T16:12:57.6866472-03:00",
    "dotnet_repl_cellExecutionTime": "34.2049ms",
    "dotnet_interactive": {
     "language": "fsharp"
    },
    "polyglot_notebook": {
     "kernelName": "fsharp"
    }
   },
   "outputs": [
    {
     "data": {
      "text/html": [
       "<details open=\"open\" class=\"dni-treeview\"><summary><span class=\"dni-code-hint\"><code>Failure\\n  (\"number andThen many1 whitespace\", \"Unexpected '.'\", { currentLine = \"-123.\"\\n                                                          line = 0\\n                                                          column = 4 })</code></span></summary><div><table><thead><tr></tr></thead><tbody><tr><td>Item1</td><td>number andThen many1 whitespace</td></tr><tr><td>Item2</td><td>Unexpected &#39;.&#39;</td></tr><tr><td>Item3</td><td><details class=\"dni-treeview\"><summary><span class=\"dni-code-hint\"><code>{ currentLine = \"-123.\"\\n  line = 0\\n  column = 4 }</code></span></summary><div><table><thead><tr></tr></thead><tbody><tr><td>currentLine</td><td>-123.</td></tr><tr><td>line</td><td><div class=\"dni-plaintext\"><pre>0</pre></div></td></tr><tr><td>column</td><td><div class=\"dni-plaintext\"><pre>4</pre></div></td></tr></tbody></table></div></details></td></tr></tbody></table></div></details><style>\r\n",
       ".dni-code-hint {\r\n",
       "    font-style: italic;\r\n",
       "    overflow: hidden;\r\n",
       "    white-space: nowrap;\r\n",
       "}\r\n",
       ".dni-treeview {\r\n",
       "    white-space: nowrap;\r\n",
       "}\r\n",
       ".dni-treeview td {\r\n",
       "    vertical-align: top;\r\n",
       "    text-align: start;\r\n",
       "}\r\n",
       "details.dni-treeview {\r\n",
       "    padding-left: 1em;\r\n",
       "}\r\n",
       "table td {\r\n",
       "    text-align: start;\r\n",
       "}\r\n",
       "table tr { \r\n",
       "    vertical-align: top; \r\n",
       "    margin: 0em 0px;\r\n",
       "}\r\n",
       "table tr td pre \r\n",
       "{ \r\n",
       "    vertical-align: top !important; \r\n",
       "    margin: 0em 0px !important;\r\n",
       "} \r\n",
       "table th {\r\n",
       "    text-align: start;\r\n",
       "}\r\n",
       "</style>"
      ]
     },
     "metadata": {},
     "output_type": "display_data"
    },
    {
     "name": "stdout",
     "output_type": "stream",
     "text": [
      "Line:0 Col:4 Error parsing number andThen many1 whitespace\n",
      "-123.\n",
      "    ^Unexpected '.'\r\n"
     ]
    }
   ],
   "source": [
    "//// test\n",
    "\n",
    "run jNumber_ \"-123.\"\n",
    "|> parserEqual (\n",
    "    Failure (\n",
    "        \"number andThen many1 whitespace\",\n",
    "        \"Unexpected '.'\",\n",
    "        { currentLine = \"-123.\"; line = 0; column = 4 }\n",
    "    )\n",
    ")"
   ]
  },
  {
   "cell_type": "code",
   "execution_count": null,
   "metadata": {
    "dotnet_repl_cellExecutionStartTime": "2023-07-21T16:12:57.6866842-03:00",
    "dotnet_repl_cellExecutionEndTime": "2023-07-21T16:12:57.7165641-03:00",
    "dotnet_repl_cellExecutionTime": "29.8821ms",
    "dotnet_interactive": {
     "language": "fsharp"
    },
    "polyglot_notebook": {
     "kernelName": "fsharp"
    }
   },
   "outputs": [
    {
     "data": {
      "text/html": [
       "<details open=\"open\" class=\"dni-treeview\"><summary><span class=\"dni-code-hint\"><code>Success (JNumber 123.4, { lines = [|\"123.4\"|]\\n                          position = { line = 1\\n                                       column = 0 } })</code></span></summary><div><table><thead><tr></tr></thead><tbody><tr><td>Item</td><td><details class=\"dni-treeview\"><summary><span class=\"dni-code-hint\"><code>(JNumber 123.4, { lines = [|\"123.4\"|]\\n  position = { line = 1\\n               column = 0 } })</code></span></summary><div><table><thead><tr></tr></thead><tbody><tr><td>Item1</td><td><details class=\"dni-treeview\"><summary><span class=\"dni-code-hint\"><code>JNumber 123.4</code></span></summary><div><table><thead><tr></tr></thead><tbody><tr><td>Item</td><td><div class=\"dni-plaintext\"><pre>123.4</pre></div></td></tr></tbody></table></div></details></td></tr><tr><td>Item2</td><td><details class=\"dni-treeview\"><summary><span class=\"dni-code-hint\"><code>{ lines = [|\"123.4\"|]\\n  position = { line = 1\\n               column = 0 } }</code></span></summary><div><table><thead><tr></tr></thead><tbody><tr><td>lines</td><td><div class=\"dni-plaintext\"><pre>[ 123.4 ]</pre></div></td></tr><tr><td>position</td><td><details class=\"dni-treeview\"><summary><span class=\"dni-code-hint\"><code>{ line = 1\\n  column = 0 }</code></span></summary><div><table><thead><tr></tr></thead><tbody><tr><td>line</td><td><div class=\"dni-plaintext\"><pre>1</pre></div></td></tr><tr><td>column</td><td><div class=\"dni-plaintext\"><pre>0</pre></div></td></tr></tbody></table></div></details></td></tr></tbody></table></div></details></td></tr></tbody></table></div></details></td></tr></tbody></table></div></details><style>\r\n",
       ".dni-code-hint {\r\n",
       "    font-style: italic;\r\n",
       "    overflow: hidden;\r\n",
       "    white-space: nowrap;\r\n",
       "}\r\n",
       ".dni-treeview {\r\n",
       "    white-space: nowrap;\r\n",
       "}\r\n",
       ".dni-treeview td {\r\n",
       "    vertical-align: top;\r\n",
       "    text-align: start;\r\n",
       "}\r\n",
       "details.dni-treeview {\r\n",
       "    padding-left: 1em;\r\n",
       "}\r\n",
       "table td {\r\n",
       "    text-align: start;\r\n",
       "}\r\n",
       "table tr { \r\n",
       "    vertical-align: top; \r\n",
       "    margin: 0em 0px;\r\n",
       "}\r\n",
       "table tr td pre \r\n",
       "{ \r\n",
       "    vertical-align: top !important; \r\n",
       "    margin: 0em 0px !important;\r\n",
       "} \r\n",
       "table th {\r\n",
       "    text-align: start;\r\n",
       "}\r\n",
       "</style>"
      ]
     },
     "metadata": {},
     "output_type": "display_data"
    },
    {
     "name": "stdout",
     "output_type": "stream",
     "text": [
      "JNumber 123.4\r\n",
      "JNumber\r\n",
      "      Item: 123.4\r\n"
     ]
    }
   ],
   "source": [
    "//// test\n",
    "\n",
    "run jNumber_ \"123.4\"\n",
    "|> parserEqual (Success (JNumber 123.4))"
   ]
  },
  {
   "cell_type": "code",
   "execution_count": null,
   "metadata": {
    "dotnet_repl_cellExecutionStartTime": "2023-07-21T16:12:57.7166074-03:00",
    "dotnet_repl_cellExecutionEndTime": "2023-07-21T16:12:57.7407583-03:00",
    "dotnet_repl_cellExecutionTime": "24.1521ms",
    "dotnet_interactive": {
     "language": "fsharp"
    },
    "polyglot_notebook": {
     "kernelName": "fsharp"
    }
   },
   "outputs": [
    {
     "data": {
      "text/html": [
       "<details open=\"open\" class=\"dni-treeview\"><summary><span class=\"dni-code-hint\"><code>Failure\\n  (\"number andThen many1 whitespace\", \"Unexpected '0'\", { currentLine = \"00.4\"\\n                                                          line = 0\\n                                                          column = 1 })</code></span></summary><div><table><thead><tr></tr></thead><tbody><tr><td>Item1</td><td>number andThen many1 whitespace</td></tr><tr><td>Item2</td><td>Unexpected &#39;0&#39;</td></tr><tr><td>Item3</td><td><details class=\"dni-treeview\"><summary><span class=\"dni-code-hint\"><code>{ currentLine = \"00.4\"\\n  line = 0\\n  column = 1 }</code></span></summary><div><table><thead><tr></tr></thead><tbody><tr><td>currentLine</td><td>00.4</td></tr><tr><td>line</td><td><div class=\"dni-plaintext\"><pre>0</pre></div></td></tr><tr><td>column</td><td><div class=\"dni-plaintext\"><pre>1</pre></div></td></tr></tbody></table></div></details></td></tr></tbody></table></div></details><style>\r\n",
       ".dni-code-hint {\r\n",
       "    font-style: italic;\r\n",
       "    overflow: hidden;\r\n",
       "    white-space: nowrap;\r\n",
       "}\r\n",
       ".dni-treeview {\r\n",
       "    white-space: nowrap;\r\n",
       "}\r\n",
       ".dni-treeview td {\r\n",
       "    vertical-align: top;\r\n",
       "    text-align: start;\r\n",
       "}\r\n",
       "details.dni-treeview {\r\n",
       "    padding-left: 1em;\r\n",
       "}\r\n",
       "table td {\r\n",
       "    text-align: start;\r\n",
       "}\r\n",
       "table tr { \r\n",
       "    vertical-align: top; \r\n",
       "    margin: 0em 0px;\r\n",
       "}\r\n",
       "table tr td pre \r\n",
       "{ \r\n",
       "    vertical-align: top !important; \r\n",
       "    margin: 0em 0px !important;\r\n",
       "} \r\n",
       "table th {\r\n",
       "    text-align: start;\r\n",
       "}\r\n",
       "</style>"
      ]
     },
     "metadata": {},
     "output_type": "display_data"
    },
    {
     "name": "stdout",
     "output_type": "stream",
     "text": [
      "Line:0 Col:1 Error parsing number andThen many1 whitespace\n",
      "00.4\n",
      " ^Unexpected '0'\r\n"
     ]
    }
   ],
   "source": [
    "//// test\n",
    "\n",
    "run jNumber_ \"00.4\"\n",
    "|> parserEqual (\n",
    "    Failure (\n",
    "        \"number andThen many1 whitespace\",\n",
    "        \"Unexpected '0'\",\n",
    "        { currentLine = \"00.4\"; line = 0; column = 1 }\n",
    "    )\n",
    ")"
   ]
  },
  {
   "cell_type": "code",
   "execution_count": null,
   "metadata": {
    "dotnet_repl_cellExecutionStartTime": "2023-07-21T16:12:57.7407899-03:00",
    "dotnet_repl_cellExecutionEndTime": "2023-07-21T16:12:57.7756688-03:00",
    "dotnet_repl_cellExecutionTime": "34.8812ms",
    "dotnet_interactive": {
     "language": "fsharp"
    },
    "polyglot_notebook": {
     "kernelName": "fsharp"
    }
   },
   "outputs": [
    {
     "data": {
      "text/html": [
       "<details open=\"open\" class=\"dni-treeview\"><summary><span class=\"dni-code-hint\"><code>Success (JNumber 1230000.0, { lines = [|\"123e4\"|]\\n                              position = { line = 1\\n                                           column = 0 } })</code></span></summary><div><table><thead><tr></tr></thead><tbody><tr><td>Item</td><td><details class=\"dni-treeview\"><summary><span class=\"dni-code-hint\"><code>(JNumber 1230000.0, { lines = [|\"123e4\"|]\\n  position = { line = 1\\n               column = 0 } })</code></span></summary><div><table><thead><tr></tr></thead><tbody><tr><td>Item1</td><td><details class=\"dni-treeview\"><summary><span class=\"dni-code-hint\"><code>JNumber 1230000.0</code></span></summary><div><table><thead><tr></tr></thead><tbody><tr><td>Item</td><td><div class=\"dni-plaintext\"><pre>1230000</pre></div></td></tr></tbody></table></div></details></td></tr><tr><td>Item2</td><td><details class=\"dni-treeview\"><summary><span class=\"dni-code-hint\"><code>{ lines = [|\"123e4\"|]\\n  position = { line = 1\\n               column = 0 } }</code></span></summary><div><table><thead><tr></tr></thead><tbody><tr><td>lines</td><td><div class=\"dni-plaintext\"><pre>[ 123e4 ]</pre></div></td></tr><tr><td>position</td><td><details class=\"dni-treeview\"><summary><span class=\"dni-code-hint\"><code>{ line = 1\\n  column = 0 }</code></span></summary><div><table><thead><tr></tr></thead><tbody><tr><td>line</td><td><div class=\"dni-plaintext\"><pre>1</pre></div></td></tr><tr><td>column</td><td><div class=\"dni-plaintext\"><pre>0</pre></div></td></tr></tbody></table></div></details></td></tr></tbody></table></div></details></td></tr></tbody></table></div></details></td></tr></tbody></table></div></details><style>\r\n",
       ".dni-code-hint {\r\n",
       "    font-style: italic;\r\n",
       "    overflow: hidden;\r\n",
       "    white-space: nowrap;\r\n",
       "}\r\n",
       ".dni-treeview {\r\n",
       "    white-space: nowrap;\r\n",
       "}\r\n",
       ".dni-treeview td {\r\n",
       "    vertical-align: top;\r\n",
       "    text-align: start;\r\n",
       "}\r\n",
       "details.dni-treeview {\r\n",
       "    padding-left: 1em;\r\n",
       "}\r\n",
       "table td {\r\n",
       "    text-align: start;\r\n",
       "}\r\n",
       "table tr { \r\n",
       "    vertical-align: top; \r\n",
       "    margin: 0em 0px;\r\n",
       "}\r\n",
       "table tr td pre \r\n",
       "{ \r\n",
       "    vertical-align: top !important; \r\n",
       "    margin: 0em 0px !important;\r\n",
       "} \r\n",
       "table th {\r\n",
       "    text-align: start;\r\n",
       "}\r\n",
       "</style>"
      ]
     },
     "metadata": {},
     "output_type": "display_data"
    },
    {
     "name": "stdout",
     "output_type": "stream",
     "text": [
      "JNumber 1230000.0\r\n",
      "JNumber\r\n",
      "      Item: 1230000\r\n"
     ]
    }
   ],
   "source": [
    "//// test\n",
    "\n",
    "run jNumber_ \"123e4\"\n",
    "|> parserEqual (Success (JNumber 1230000.0))"
   ]
  },
  {
   "cell_type": "code",
   "execution_count": null,
   "metadata": {
    "dotnet_repl_cellExecutionStartTime": "2023-07-21T16:12:57.7757137-03:00",
    "dotnet_repl_cellExecutionEndTime": "2023-07-21T16:12:57.805551-03:00",
    "dotnet_repl_cellExecutionTime": "29.8392ms",
    "dotnet_interactive": {
     "language": "fsharp"
    },
    "polyglot_notebook": {
     "kernelName": "fsharp"
    }
   },
   "outputs": [
    {
     "data": {
      "text/html": [
       "<details open=\"open\" class=\"dni-treeview\"><summary><span class=\"dni-code-hint\"><code>Success (JNumber 12340000.0, { lines = [|\"123.4e5\"|]\\n                               position = { line = 1\\n                                            column = 0 } })</code></span></summary><div><table><thead><tr></tr></thead><tbody><tr><td>Item</td><td><details class=\"dni-treeview\"><summary><span class=\"dni-code-hint\"><code>(JNumber 12340000.0, { lines = [|\"123.4e5\"|]\\n  position = { line = 1\\n               column = 0 } })</code></span></summary><div><table><thead><tr></tr></thead><tbody><tr><td>Item1</td><td><details class=\"dni-treeview\"><summary><span class=\"dni-code-hint\"><code>JNumber 12340000.0</code></span></summary><div><table><thead><tr></tr></thead><tbody><tr><td>Item</td><td><div class=\"dni-plaintext\"><pre>12340000</pre></div></td></tr></tbody></table></div></details></td></tr><tr><td>Item2</td><td><details class=\"dni-treeview\"><summary><span class=\"dni-code-hint\"><code>{ lines = [|\"123.4e5\"|]\\n  position = { line = 1\\n               column = 0 } }</code></span></summary><div><table><thead><tr></tr></thead><tbody><tr><td>lines</td><td><div class=\"dni-plaintext\"><pre>[ 123.4e5 ]</pre></div></td></tr><tr><td>position</td><td><details class=\"dni-treeview\"><summary><span class=\"dni-code-hint\"><code>{ line = 1\\n  column = 0 }</code></span></summary><div><table><thead><tr></tr></thead><tbody><tr><td>line</td><td><div class=\"dni-plaintext\"><pre>1</pre></div></td></tr><tr><td>column</td><td><div class=\"dni-plaintext\"><pre>0</pre></div></td></tr></tbody></table></div></details></td></tr></tbody></table></div></details></td></tr></tbody></table></div></details></td></tr></tbody></table></div></details><style>\r\n",
       ".dni-code-hint {\r\n",
       "    font-style: italic;\r\n",
       "    overflow: hidden;\r\n",
       "    white-space: nowrap;\r\n",
       "}\r\n",
       ".dni-treeview {\r\n",
       "    white-space: nowrap;\r\n",
       "}\r\n",
       ".dni-treeview td {\r\n",
       "    vertical-align: top;\r\n",
       "    text-align: start;\r\n",
       "}\r\n",
       "details.dni-treeview {\r\n",
       "    padding-left: 1em;\r\n",
       "}\r\n",
       "table td {\r\n",
       "    text-align: start;\r\n",
       "}\r\n",
       "table tr { \r\n",
       "    vertical-align: top; \r\n",
       "    margin: 0em 0px;\r\n",
       "}\r\n",
       "table tr td pre \r\n",
       "{ \r\n",
       "    vertical-align: top !important; \r\n",
       "    margin: 0em 0px !important;\r\n",
       "} \r\n",
       "table th {\r\n",
       "    text-align: start;\r\n",
       "}\r\n",
       "</style>"
      ]
     },
     "metadata": {},
     "output_type": "display_data"
    },
    {
     "name": "stdout",
     "output_type": "stream",
     "text": [
      "JNumber 12340000.0\r\n",
      "JNumber\r\n",
      "      Item: 12340000\r\n"
     ]
    }
   ],
   "source": [
    "//// test\n",
    "\n",
    "run jNumber_ \"123.4e5\"\n",
    "|> parserEqual (Success (JNumber 12340000.0))"
   ]
  },
  {
   "cell_type": "code",
   "execution_count": null,
   "metadata": {
    "dotnet_repl_cellExecutionStartTime": "2023-07-21T16:12:57.8055886-03:00",
    "dotnet_repl_cellExecutionEndTime": "2023-07-21T16:12:57.8370863-03:00",
    "dotnet_repl_cellExecutionTime": "31.4995ms",
    "dotnet_interactive": {
     "language": "fsharp"
    },
    "polyglot_notebook": {
     "kernelName": "fsharp"
    }
   },
   "outputs": [
    {
     "data": {
      "text/html": [
       "<details open=\"open\" class=\"dni-treeview\"><summary><span class=\"dni-code-hint\"><code>Success (JNumber 0.001234, { lines = [|\"123.4e-5\"|]\\n                             position = { line = 1\\n                                          column = 0 } })</code></span></summary><div><table><thead><tr></tr></thead><tbody><tr><td>Item</td><td><details class=\"dni-treeview\"><summary><span class=\"dni-code-hint\"><code>(JNumber 0.001234, { lines = [|\"123.4e-5\"|]\\n  position = { line = 1\\n               column = 0 } })</code></span></summary><div><table><thead><tr></tr></thead><tbody><tr><td>Item1</td><td><details class=\"dni-treeview\"><summary><span class=\"dni-code-hint\"><code>JNumber 0.001234</code></span></summary><div><table><thead><tr></tr></thead><tbody><tr><td>Item</td><td><div class=\"dni-plaintext\"><pre>0.001234</pre></div></td></tr></tbody></table></div></details></td></tr><tr><td>Item2</td><td><details class=\"dni-treeview\"><summary><span class=\"dni-code-hint\"><code>{ lines = [|\"123.4e-5\"|]\\n  position = { line = 1\\n               column = 0 } }</code></span></summary><div><table><thead><tr></tr></thead><tbody><tr><td>lines</td><td><div class=\"dni-plaintext\"><pre>[ 123.4e-5 ]</pre></div></td></tr><tr><td>position</td><td><details class=\"dni-treeview\"><summary><span class=\"dni-code-hint\"><code>{ line = 1\\n  column = 0 }</code></span></summary><div><table><thead><tr></tr></thead><tbody><tr><td>line</td><td><div class=\"dni-plaintext\"><pre>1</pre></div></td></tr><tr><td>column</td><td><div class=\"dni-plaintext\"><pre>0</pre></div></td></tr></tbody></table></div></details></td></tr></tbody></table></div></details></td></tr></tbody></table></div></details></td></tr></tbody></table></div></details><style>\r\n",
       ".dni-code-hint {\r\n",
       "    font-style: italic;\r\n",
       "    overflow: hidden;\r\n",
       "    white-space: nowrap;\r\n",
       "}\r\n",
       ".dni-treeview {\r\n",
       "    white-space: nowrap;\r\n",
       "}\r\n",
       ".dni-treeview td {\r\n",
       "    vertical-align: top;\r\n",
       "    text-align: start;\r\n",
       "}\r\n",
       "details.dni-treeview {\r\n",
       "    padding-left: 1em;\r\n",
       "}\r\n",
       "table td {\r\n",
       "    text-align: start;\r\n",
       "}\r\n",
       "table tr { \r\n",
       "    vertical-align: top; \r\n",
       "    margin: 0em 0px;\r\n",
       "}\r\n",
       "table tr td pre \r\n",
       "{ \r\n",
       "    vertical-align: top !important; \r\n",
       "    margin: 0em 0px !important;\r\n",
       "} \r\n",
       "table th {\r\n",
       "    text-align: start;\r\n",
       "}\r\n",
       "</style>"
      ]
     },
     "metadata": {},
     "output_type": "display_data"
    },
    {
     "name": "stdout",
     "output_type": "stream",
     "text": [
      "JNumber 0.001234\r\n",
      "JNumber\r\n",
      "      Item: 0.001234\r\n"
     ]
    }
   ],
   "source": [
    "//// test\n",
    "\n",
    "run jNumber_ \"123.4e-5\"\n",
    "|> parserEqual (Success (JNumber 0.001234))"
   ]
  },
  {
   "cell_type": "markdown",
   "metadata": {
    "dotnet_repl_cellExecutionStartTime": "2023-07-21T16:12:57.8371248-03:00",
    "dotnet_repl_cellExecutionEndTime": "2023-07-21T16:12:57.8385372-03:00",
    "dotnet_repl_cellExecutionTime": "1.4136ms"
   },
   "source": [
    "### jArray"
   ]
  },
  {
   "cell_type": "code",
   "execution_count": null,
   "metadata": {
    "dotnet_repl_cellExecutionStartTime": "2023-07-21T16:12:57.8385642-03:00",
    "dotnet_repl_cellExecutionEndTime": "2023-07-21T16:12:57.8728849-03:00",
    "dotnet_repl_cellExecutionTime": "34.3229ms",
    "dotnet_interactive": {
     "language": "fsharp"
    },
    "polyglot_notebook": {
     "kernelName": "fsharp"
    }
   },
   "outputs": [],
   "source": [
    "let jArray =\n",
    "    let left = pchar '[' .>> spaces\n",
    "    let right = pchar ']' .>> spaces\n",
    "    let comma = pchar ',' .>> spaces\n",
    "    let value = jValue .>> spaces\n",
    "\n",
    "    let values = sepBy value comma\n",
    "\n",
    "    between left values right\n",
    "    |>> JArray\n",
    "    <?> \"array\""
   ]
  },
  {
   "cell_type": "code",
   "execution_count": null,
   "metadata": {
    "dotnet_repl_cellExecutionStartTime": "2023-07-21T16:12:57.8729189-03:00",
    "dotnet_repl_cellExecutionEndTime": "2023-07-21T16:12:57.8931565-03:00",
    "dotnet_repl_cellExecutionTime": "20.2396ms",
    "dotnet_interactive": {
     "language": "fsharp"
    },
    "polyglot_notebook": {
     "kernelName": "fsharp"
    }
   },
   "outputs": [],
   "source": [
    "//// test\n",
    "\n",
    "jValueRef <|\n",
    "    choice\n",
    "        [\n",
    "            jNull\n",
    "            jBool\n",
    "            jString\n",
    "            jNumber\n",
    "            jArray\n",
    "        ]"
   ]
  },
  {
   "cell_type": "code",
   "execution_count": null,
   "metadata": {
    "dotnet_repl_cellExecutionStartTime": "2023-07-21T16:12:57.893191-03:00",
    "dotnet_repl_cellExecutionEndTime": "2023-07-21T16:12:57.9832934-03:00",
    "dotnet_repl_cellExecutionTime": "90.1034ms",
    "dotnet_interactive": {
     "language": "fsharp"
    },
    "polyglot_notebook": {
     "kernelName": "fsharp"
    }
   },
   "outputs": [
    {
     "data": {
      "text/html": [
       "<details open=\"open\" class=\"dni-treeview\"><summary><span class=\"dni-code-hint\"><code>Success (JArray [JNumber 1.0; JNumber 2.0], { lines = [|\"[ 1, 2 ]\"|]\\n                                              position = { line = 1\\n                                                           column = 0 } })</code></span></summary><div><table><thead><tr></tr></thead><tbody><tr><td>Item</td><td><details class=\"dni-treeview\"><summary><span class=\"dni-code-hint\"><code>(JArray [JNumber 1.0; JNumber 2.0], { lines = [|\"[ 1, 2 ]\"|]\\n  position = { line = 1\\n               column = 0 } })</code></span></summary><div><table><thead><tr></tr></thead><tbody><tr><td>Item1</td><td><details class=\"dni-treeview\"><summary><span class=\"dni-code-hint\"><code>JArray [JNumber 1.0; JNumber 2.0]</code></span></summary><div><table><thead><tr></tr></thead><tbody><tr><td>Item</td><td><table><thead><tr><th><i>index</i></th><th>value</th></tr></thead><tbody><tr><td>0</td><td><details class=\"dni-treeview\"><summary><span class=\"dni-code-hint\"><code>JNumber 1.0</code></span></summary><div><table><thead><tr></tr></thead><tbody><tr><td>Item</td><td><div class=\"dni-plaintext\"><pre>1</pre></div></td></tr></tbody></table></div></details></td></tr><tr><td>1</td><td><details class=\"dni-treeview\"><summary><span class=\"dni-code-hint\"><code>JNumber 2.0</code></span></summary><div><table><thead><tr></tr></thead><tbody><tr><td>Item</td><td><div class=\"dni-plaintext\"><pre>2</pre></div></td></tr></tbody></table></div></details></td></tr></tbody></table></td></tr></tbody></table></div></details></td></tr><tr><td>Item2</td><td><details class=\"dni-treeview\"><summary><span class=\"dni-code-hint\"><code>{ lines = [|\"[ 1, 2 ]\"|]\\n  position = { line = 1\\n               column = 0 } }</code></span></summary><div><table><thead><tr></tr></thead><tbody><tr><td>lines</td><td><div class=\"dni-plaintext\"><pre>[ [ 1, 2 ] ]</pre></div></td></tr><tr><td>position</td><td><details class=\"dni-treeview\"><summary><span class=\"dni-code-hint\"><code>{ line = 1\\n  column = 0 }</code></span></summary><div><table><thead><tr></tr></thead><tbody><tr><td>line</td><td><div class=\"dni-plaintext\"><pre>1</pre></div></td></tr><tr><td>column</td><td><div class=\"dni-plaintext\"><pre>0</pre></div></td></tr></tbody></table></div></details></td></tr></tbody></table></div></details></td></tr></tbody></table></div></details></td></tr></tbody></table></div></details><style>\r\n",
       ".dni-code-hint {\r\n",
       "    font-style: italic;\r\n",
       "    overflow: hidden;\r\n",
       "    white-space: nowrap;\r\n",
       "}\r\n",
       ".dni-treeview {\r\n",
       "    white-space: nowrap;\r\n",
       "}\r\n",
       ".dni-treeview td {\r\n",
       "    vertical-align: top;\r\n",
       "    text-align: start;\r\n",
       "}\r\n",
       "details.dni-treeview {\r\n",
       "    padding-left: 1em;\r\n",
       "}\r\n",
       "table td {\r\n",
       "    text-align: start;\r\n",
       "}\r\n",
       "table tr { \r\n",
       "    vertical-align: top; \r\n",
       "    margin: 0em 0px;\r\n",
       "}\r\n",
       "table tr td pre \r\n",
       "{ \r\n",
       "    vertical-align: top !important; \r\n",
       "    margin: 0em 0px !important;\r\n",
       "} \r\n",
       "table th {\r\n",
       "    text-align: start;\r\n",
       "}\r\n",
       "</style>"
      ]
     },
     "metadata": {},
     "output_type": "display_data"
    },
    {
     "name": "stdout",
     "output_type": "stream",
     "text": [
      "JArray [JNumber 1.0; JNumber 2.0]\r\n",
      "JArray\r\n",
      "      Item: FSharpList<JValue>\r\n",
      "        - Item: 1\r\n",
      "        - Item: 2\r\n"
     ]
    }
   ],
   "source": [
    "//// test\n",
    "\n",
    "run jArray \"[ 1, 2 ]\"\n",
    "|> parserEqual (Success (JArray [ JNumber 1.0; JNumber 2.0 ]))"
   ]
  },
  {
   "cell_type": "code",
   "execution_count": null,
   "metadata": {
    "dotnet_repl_cellExecutionStartTime": "2023-07-21T16:12:57.9833235-03:00",
    "dotnet_repl_cellExecutionEndTime": "2023-07-21T16:12:58.0109861-03:00",
    "dotnet_repl_cellExecutionTime": "27.6641ms",
    "dotnet_interactive": {
     "language": "fsharp"
    },
    "polyglot_notebook": {
     "kernelName": "fsharp"
    }
   },
   "outputs": [
    {
     "data": {
      "text/html": [
       "<details open=\"open\" class=\"dni-treeview\"><summary><span class=\"dni-code-hint\"><code>Failure (\"array\", \"Unexpected ','\", { currentLine = \"[ 1, 2, ]\"\\n                                      line = 0\\n                                      column = 6 })</code></span></summary><div><table><thead><tr></tr></thead><tbody><tr><td>Item1</td><td>array</td></tr><tr><td>Item2</td><td>Unexpected &#39;,&#39;</td></tr><tr><td>Item3</td><td><details class=\"dni-treeview\"><summary><span class=\"dni-code-hint\"><code>{ currentLine = \"[ 1, 2, ]\"\\n  line = 0\\n  column = 6 }</code></span></summary><div><table><thead><tr></tr></thead><tbody><tr><td>currentLine</td><td>[ 1, 2, ]</td></tr><tr><td>line</td><td><div class=\"dni-plaintext\"><pre>0</pre></div></td></tr><tr><td>column</td><td><div class=\"dni-plaintext\"><pre>6</pre></div></td></tr></tbody></table></div></details></td></tr></tbody></table></div></details><style>\r\n",
       ".dni-code-hint {\r\n",
       "    font-style: italic;\r\n",
       "    overflow: hidden;\r\n",
       "    white-space: nowrap;\r\n",
       "}\r\n",
       ".dni-treeview {\r\n",
       "    white-space: nowrap;\r\n",
       "}\r\n",
       ".dni-treeview td {\r\n",
       "    vertical-align: top;\r\n",
       "    text-align: start;\r\n",
       "}\r\n",
       "details.dni-treeview {\r\n",
       "    padding-left: 1em;\r\n",
       "}\r\n",
       "table td {\r\n",
       "    text-align: start;\r\n",
       "}\r\n",
       "table tr { \r\n",
       "    vertical-align: top; \r\n",
       "    margin: 0em 0px;\r\n",
       "}\r\n",
       "table tr td pre \r\n",
       "{ \r\n",
       "    vertical-align: top !important; \r\n",
       "    margin: 0em 0px !important;\r\n",
       "} \r\n",
       "table th {\r\n",
       "    text-align: start;\r\n",
       "}\r\n",
       "</style>"
      ]
     },
     "metadata": {},
     "output_type": "display_data"
    },
    {
     "name": "stdout",
     "output_type": "stream",
     "text": [
      "Line:0 Col:6 Error parsing array\n",
      "[ 1, 2, ]\n",
      "      ^Unexpected ','\r\n"
     ]
    }
   ],
   "source": [
    "//// test\n",
    "\n",
    "run jArray \"[ 1, 2, ]\"\n",
    "|> parserEqual (\n",
    "    Failure (\n",
    "        \"array\",\n",
    "        \"Unexpected ','\",\n",
    "        { currentLine = \"[ 1, 2, ]\"; line = 0; column = 6 }\n",
    "    )\n",
    ")"
   ]
  },
  {
   "cell_type": "markdown",
   "metadata": {
    "dotnet_repl_cellExecutionStartTime": "2023-07-21T16:12:58.0110187-03:00",
    "dotnet_repl_cellExecutionEndTime": "2023-07-21T16:12:58.0125768-03:00",
    "dotnet_repl_cellExecutionTime": "1.5601ms"
   },
   "source": [
    "### jObject"
   ]
  },
  {
   "cell_type": "code",
   "execution_count": null,
   "metadata": {
    "dotnet_repl_cellExecutionStartTime": "2023-07-21T16:12:58.0126079-03:00",
    "dotnet_repl_cellExecutionEndTime": "2023-07-21T16:12:58.0669074-03:00",
    "dotnet_repl_cellExecutionTime": "54.3017ms",
    "dotnet_interactive": {
     "language": "fsharp"
    },
    "polyglot_notebook": {
     "kernelName": "fsharp"
    }
   },
   "outputs": [],
   "source": [
    "let jObject =\n",
    "    let left = spaces >>. pchar '{' .>> spaces\n",
    "    let right = pchar '}' .>> spaces\n",
    "    let colon = pchar ':' .>> spaces\n",
    "    let comma = pchar ',' .>> spaces\n",
    "    let key = quotedString .>> spaces\n",
    "    let value = jValue .>> spaces\n",
    "\n",
    "    let keyValue = (key .>> colon) .>>. value\n",
    "    let keyValues = sepBy keyValue comma\n",
    "\n",
    "    between left keyValues right\n",
    "    |>> Map.ofList\n",
    "    |>> JObject\n",
    "    <?> \"object\""
   ]
  },
  {
   "cell_type": "code",
   "execution_count": null,
   "metadata": {
    "dotnet_repl_cellExecutionStartTime": "2023-07-21T16:12:58.0669408-03:00",
    "dotnet_repl_cellExecutionEndTime": "2023-07-21T16:12:58.0861371-03:00",
    "dotnet_repl_cellExecutionTime": "19.1981ms",
    "dotnet_interactive": {
     "language": "fsharp"
    },
    "polyglot_notebook": {
     "kernelName": "fsharp"
    }
   },
   "outputs": [],
   "source": [
    "jValueRef <|\n",
    "    choice\n",
    "        [\n",
    "            jNull\n",
    "            jBool\n",
    "            jString\n",
    "            jNumber\n",
    "            jArray\n",
    "            jObject\n",
    "        ]"
   ]
  },
  {
   "cell_type": "code",
   "execution_count": null,
   "metadata": {
    "dotnet_repl_cellExecutionStartTime": "2023-07-21T16:12:58.0861722-03:00",
    "dotnet_repl_cellExecutionEndTime": "2023-07-21T16:12:58.1885519-03:00",
    "dotnet_repl_cellExecutionTime": "102.3809ms",
    "dotnet_interactive": {
     "language": "fsharp"
    },
    "polyglot_notebook": {
     "kernelName": "fsharp"
    }
   },
   "outputs": [
    {
     "data": {
      "text/html": [
       "<details open=\"open\" class=\"dni-treeview\"><summary><span class=\"dni-code-hint\"><code>Success\\n  (JObject (map [(\"a\", JNumber 1.0); (\"b\", JNumber 2.0)]),\\n   { lines = [|\"{ \"a\":1, \"b\"  :  2 }\"|]\\n     position = { line = 1\\n                  column = 0 } })</code></span></summary><div><table><thead><tr></tr></thead><tbody><tr><td>Item</td><td><details class=\"dni-treeview\"><summary><span class=\"dni-code-hint\"><code>(JObject (map [(\"a\", JNumber 1.0); (\"b\", JNumber 2.0)]), { lines = [|\"{ \"a\":1, \"b\"  :  2 }\"|]\\n  position = { line = 1\\n               column = 0 } })</code></span></summary><div><table><thead><tr></tr></thead><tbody><tr><td>Item1</td><td><details class=\"dni-treeview\"><summary><span class=\"dni-code-hint\"><code>JObject (map [(\"a\", JNumber 1.0); (\"b\", JNumber 2.0)])</code></span></summary><div><table><thead><tr></tr></thead><tbody><tr><td>Item</td><td><table><thead><tr><th><i>key</i></th><th>value</th></tr></thead><tbody><tr><td>a</td><td><details class=\"dni-treeview\"><summary><span class=\"dni-code-hint\"><code>JNumber 1.0</code></span></summary><div><table><thead><tr></tr></thead><tbody><tr><td>Item</td><td><div class=\"dni-plaintext\"><pre>1</pre></div></td></tr></tbody></table></div></details></td></tr><tr><td>b</td><td><details class=\"dni-treeview\"><summary><span class=\"dni-code-hint\"><code>JNumber 2.0</code></span></summary><div><table><thead><tr></tr></thead><tbody><tr><td>Item</td><td><div class=\"dni-plaintext\"><pre>2</pre></div></td></tr></tbody></table></div></details></td></tr></tbody></table></td></tr></tbody></table></div></details></td></tr><tr><td>Item2</td><td><details class=\"dni-treeview\"><summary><span class=\"dni-code-hint\"><code>{ lines = [|\"{ \"a\":1, \"b\"  :  2 }\"|]\\n  position = { line = 1\\n               column = 0 } }</code></span></summary><div><table><thead><tr></tr></thead><tbody><tr><td>lines</td><td><div class=\"dni-plaintext\"><pre>[ { &quot;a&quot;:1, &quot;b&quot;  :  2 } ]</pre></div></td></tr><tr><td>position</td><td><details class=\"dni-treeview\"><summary><span class=\"dni-code-hint\"><code>{ line = 1\\n  column = 0 }</code></span></summary><div><table><thead><tr></tr></thead><tbody><tr><td>line</td><td><div class=\"dni-plaintext\"><pre>1</pre></div></td></tr><tr><td>column</td><td><div class=\"dni-plaintext\"><pre>0</pre></div></td></tr></tbody></table></div></details></td></tr></tbody></table></div></details></td></tr></tbody></table></div></details></td></tr></tbody></table></div></details><style>\r\n",
       ".dni-code-hint {\r\n",
       "    font-style: italic;\r\n",
       "    overflow: hidden;\r\n",
       "    white-space: nowrap;\r\n",
       "}\r\n",
       ".dni-treeview {\r\n",
       "    white-space: nowrap;\r\n",
       "}\r\n",
       ".dni-treeview td {\r\n",
       "    vertical-align: top;\r\n",
       "    text-align: start;\r\n",
       "}\r\n",
       "details.dni-treeview {\r\n",
       "    padding-left: 1em;\r\n",
       "}\r\n",
       "table td {\r\n",
       "    text-align: start;\r\n",
       "}\r\n",
       "table tr { \r\n",
       "    vertical-align: top; \r\n",
       "    margin: 0em 0px;\r\n",
       "}\r\n",
       "table tr td pre \r\n",
       "{ \r\n",
       "    vertical-align: top !important; \r\n",
       "    margin: 0em 0px !important;\r\n",
       "} \r\n",
       "table th {\r\n",
       "    text-align: start;\r\n",
       "}\r\n",
       "</style>"
      ]
     },
     "metadata": {},
     "output_type": "display_data"
    },
    {
     "name": "stdout",
     "output_type": "stream",
     "text": [
      "JObject (map [(\"a\", JNumber 1.0); (\"b\", JNumber 2.0)])\r\n",
      "JObject\r\n",
      "      Item: FSharpMap<String,JValue>\r\n",
      "        - Key: a\r\n",
      "          Value: JNumber\r\n",
      "            Item: 1\r\n",
      "        - Key: b\r\n",
      "          Value: JNumber\r\n",
      "            Item: 2\r\n"
     ]
    }
   ],
   "source": [
    "//// test\n",
    "\n",
    "run jObject \"\"\"{ \"a\":1, \"b\"  :  2 }\"\"\"\n",
    "|> parserEqual (\n",
    "    Success (\n",
    "        JObject (\n",
    "            Map.ofList [\n",
    "                \"a\", JNumber 1.0\n",
    "                \"b\", JNumber 2.0\n",
    "            ]\n",
    "        )\n",
    "    )\n",
    ")"
   ]
  },
  {
   "cell_type": "code",
   "execution_count": null,
   "metadata": {
    "dotnet_repl_cellExecutionStartTime": "2023-07-21T16:12:58.1885792-03:00",
    "dotnet_repl_cellExecutionEndTime": "2023-07-21T16:12:58.2213339-03:00",
    "dotnet_repl_cellExecutionTime": "32.7557ms",
    "dotnet_interactive": {
     "language": "fsharp"
    },
    "polyglot_notebook": {
     "kernelName": "fsharp"
    }
   },
   "outputs": [
    {
     "data": {
      "text/html": [
       "<details open=\"open\" class=\"dni-treeview\"><summary><span class=\"dni-code-hint\"><code>Failure (\"object\", \"Unexpected ','\", { currentLine = \"{ \"a\":1, \"b\"  :  2, }\"\\n                                       line = 0\\n                                       column = 18 })</code></span></summary><div><table><thead><tr></tr></thead><tbody><tr><td>Item1</td><td>object</td></tr><tr><td>Item2</td><td>Unexpected &#39;,&#39;</td></tr><tr><td>Item3</td><td><details class=\"dni-treeview\"><summary><span class=\"dni-code-hint\"><code>{ currentLine = \"{ \"a\":1, \"b\"  :  2, }\"\\n  line = 0\\n  column = 18 }</code></span></summary><div><table><thead><tr></tr></thead><tbody><tr><td>currentLine</td><td>{ &quot;a&quot;:1, &quot;b&quot;  :  2, }</td></tr><tr><td>line</td><td><div class=\"dni-plaintext\"><pre>0</pre></div></td></tr><tr><td>column</td><td><div class=\"dni-plaintext\"><pre>18</pre></div></td></tr></tbody></table></div></details></td></tr></tbody></table></div></details><style>\r\n",
       ".dni-code-hint {\r\n",
       "    font-style: italic;\r\n",
       "    overflow: hidden;\r\n",
       "    white-space: nowrap;\r\n",
       "}\r\n",
       ".dni-treeview {\r\n",
       "    white-space: nowrap;\r\n",
       "}\r\n",
       ".dni-treeview td {\r\n",
       "    vertical-align: top;\r\n",
       "    text-align: start;\r\n",
       "}\r\n",
       "details.dni-treeview {\r\n",
       "    padding-left: 1em;\r\n",
       "}\r\n",
       "table td {\r\n",
       "    text-align: start;\r\n",
       "}\r\n",
       "table tr { \r\n",
       "    vertical-align: top; \r\n",
       "    margin: 0em 0px;\r\n",
       "}\r\n",
       "table tr td pre \r\n",
       "{ \r\n",
       "    vertical-align: top !important; \r\n",
       "    margin: 0em 0px !important;\r\n",
       "} \r\n",
       "table th {\r\n",
       "    text-align: start;\r\n",
       "}\r\n",
       "</style>"
      ]
     },
     "metadata": {},
     "output_type": "display_data"
    },
    {
     "name": "stdout",
     "output_type": "stream",
     "text": [
      "Line:0 Col:18 Error parsing object\n",
      "{ \"a\":1, \"b\"  :  2, }\n",
      "                  ^Unexpected ','\r\n"
     ]
    }
   ],
   "source": [
    "//// test\n",
    "\n",
    "run jObject \"\"\"{ \"a\":1, \"b\"  :  2, }\"\"\"\n",
    "|> parserEqual (\n",
    "    Failure (\n",
    "        \"object\",\n",
    "        \"Unexpected ','\",\n",
    "        { currentLine = \"{ \\\"a\\\":1, \\\"b\\\"  :  2, }\"; line = 0; column = 18 }\n",
    "    )\n",
    ")"
   ]
  },
  {
   "cell_type": "markdown",
   "metadata": {
    "dotnet_repl_cellExecutionStartTime": "2023-07-21T16:12:58.2213638-03:00",
    "dotnet_repl_cellExecutionEndTime": "2023-07-21T16:12:58.2225813-03:00",
    "dotnet_repl_cellExecutionTime": "1.2184ms"
   },
   "source": [
    "### jValue"
   ]
  },
  {
   "cell_type": "code",
   "execution_count": null,
   "metadata": {
    "dotnet_repl_cellExecutionStartTime": "2023-07-21T16:12:58.2226007-03:00",
    "dotnet_repl_cellExecutionEndTime": "2023-07-21T16:12:58.4333903-03:00",
    "dotnet_repl_cellExecutionTime": "210.791ms",
    "dotnet_interactive": {
     "language": "fsharp"
    },
    "polyglot_notebook": {
     "kernelName": "fsharp"
    }
   },
   "outputs": [
    {
     "data": {
      "text/html": [
       "<details open=\"open\" class=\"dni-treeview\"><summary><span class=\"dni-code-hint\"><code>Success\\n  (JObject\\n     (map\\n        [(\"bday\",\\n          JObject\\n            (map\\n               [(\"day\", JNumber 25.0); (\"month\", JNumber 12.0);\\n                (\"year\", JNumber 2001.0)])); (\"emptyArray\", JArray []);\\n         (\"emptyObject\", JObject (map []));\\n         (\"favouriteColors\", ...</code></span></summary><div><table><thead><tr></tr></thead><tbody><tr><td>Item</td><td><details class=\"dni-treeview\"><summary><span class=\"dni-code-hint\"><code>(JObject\\n  (map\\n     [(\"bday\",\\n       JObject\\n         (map\\n            [(\"day\", JNumber 25.0); (\"month\", JNumber 12.0);\\n             (\"year\", JNumber 2001.0)])); (\"emptyArray\", JArray []);\\n      (\"emptyObject\", JObject (map []));\\n      (\"favouriteColors\", JArray [JString \"blue\"; JString \"gr...</code></span></summary><div><table><thead><tr></tr></thead><tbody><tr><td>Item1</td><td><details class=\"dni-treeview\"><summary><span class=\"dni-code-hint\"><code>JObject\\n  (map\\n     [(\"bday\",\\n       JObject\\n         (map\\n            [(\"day\", JNumber 25.0); (\"month\", JNumber 12.0);\\n             (\"year\", JNumber 2001.0)])); (\"emptyArray\", JArray []);\\n      (\"emptyObject\", JObject (map []));\\n      (\"favouriteColors\", JArray [JString \"blue\"; JString \"gre...</code></span></summary><div><table><thead><tr></tr></thead><tbody><tr><td>Item</td><td><table><thead><tr><th><i>key</i></th><th><i>type</i></th><th>value</th></tr></thead><tbody><tr><td>bday</td><td>FSI_0011+JValue+JObject</td><td><details class=\"dni-treeview\"><summary><span class=\"dni-code-hint\"><code>JObject\\n  (map\\n     [(\"day\", JNumber 25.0); (\"month\", JNumber 12.0); (\"year\", JNumber 2001.0)])</code></span></summary><div><table><thead><tr></tr></thead><tbody><tr><td>Item</td><td><table><thead><tr><th><i>key</i></th><th>value</th></tr></thead><tbody><tr><td>day</td><td>JNumber 25.0</td></tr><tr><td>month</td><td>JNumber 12.0</td></tr><tr><td>year</td><td>JNumber 2001.0</td></tr></tbody></table></td></tr></tbody></table></div></details></td></tr><tr><td>emptyArray</td><td>FSI_0011+JValue+JArray</td><td><details class=\"dni-treeview\"><summary><span class=\"dni-code-hint\"><code>JArray []</code></span></summary><div><table><thead><tr></tr></thead><tbody><tr><td>Item</td><td></td></tr></tbody></table></div></details></td></tr><tr><td>emptyObject</td><td>FSI_0011+JValue+JObject</td><td><details class=\"dni-treeview\"><summary><span class=\"dni-code-hint\"><code>JObject (map [])</code></span></summary><div><table><thead><tr></tr></thead><tbody><tr><td>Item</td><td><i>(empty)</i></td></tr></tbody></table></div></details></td></tr><tr><td>favouriteColors</td><td>FSI_0011+JValue+JArray</td><td><details class=\"dni-treeview\"><summary><span class=\"dni-code-hint\"><code>JArray [JString \"blue\"; JString \"green\"]</code></span></summary><div><table><thead><tr></tr></thead><tbody><tr><td>Item</td><td><table><thead><tr><th><i>index</i></th><th>value</th></tr></thead><tbody><tr><td>0</td><td>JString \"blue\"</td></tr><tr><td>1</td><td>JString \"green\"</td></tr></tbody></table></td></tr></tbody></table></div></details></td></tr><tr><td>isMale</td><td>FSI_0011+JValue+JBool</td><td><details class=\"dni-treeview\"><summary><span class=\"dni-code-hint\"><code>JBool true</code></span></summary><div><table><thead><tr></tr></thead><tbody><tr><td>Item</td><td><div class=\"dni-plaintext\"><pre>True</pre></div></td></tr></tbody></table></div></details></td></tr><tr><td>name</td><td>FSI_0011+JValue+JString</td><td><details class=\"dni-treeview\"><summary><span class=\"dni-code-hint\"><code>JString \"Scott\"</code></span></summary><div><table><thead><tr></tr></thead><tbody><tr><td>Item</td><td>Scott</td></tr></tbody></table></div></details></td></tr></tbody></table></td></tr></tbody></table></div></details></td></tr><tr><td>Item2</td><td><details class=\"dni-treeview\"><summary><span class=\"dni-code-hint\"><code>{ lines =\\n   [|\"{\"; \"    \"name\" : \"Scott\",\"; \"    \"isMale\" : true,\";\\n     \"    \"bday\" : {\"year\":2001, \"month\":12, \"day\":25 },\";\\n     \"    \"favouriteColors\" : [\"blue\", \"green\"],\"; \"    \"emptyArray\" : [],\";\\n     \"    \"emptyObject\" : {}\"; \"}\"|]\\n  position = { line = 8\\n               column = 0 } ...</code></span></summary><div><table><thead><tr></tr></thead><tbody><tr><td>lines</td><td><div class=\"dni-plaintext\"><pre>[ {,     &quot;name&quot; : &quot;Scott&quot;,,     &quot;isMale&quot; : true,,     &quot;bday&quot; : {&quot;year&quot;:2001, &quot;month&quot;:12, &quot;day&quot;:25 },,     &quot;favouriteColors&quot; : [&quot;blue&quot;, &quot;green&quot;],,     &quot;emptyArray&quot; : [],,     &quot;emptyObject&quot; : {}, } ]</pre></div></td></tr><tr><td>position</td><td><details class=\"dni-treeview\"><summary><span class=\"dni-code-hint\"><code>{ line = 8\\n  column = 0 }</code></span></summary><div><table><thead><tr></tr></thead><tbody><tr><td>line</td><td><div class=\"dni-plaintext\"><pre>8</pre></div></td></tr><tr><td>column</td><td><div class=\"dni-plaintext\"><pre>0</pre></div></td></tr></tbody></table></div></details></td></tr></tbody></table></div></details></td></tr></tbody></table></div></details></td></tr></tbody></table></div></details><style>\r\n",
       ".dni-code-hint {\r\n",
       "    font-style: italic;\r\n",
       "    overflow: hidden;\r\n",
       "    white-space: nowrap;\r\n",
       "}\r\n",
       ".dni-treeview {\r\n",
       "    white-space: nowrap;\r\n",
       "}\r\n",
       ".dni-treeview td {\r\n",
       "    vertical-align: top;\r\n",
       "    text-align: start;\r\n",
       "}\r\n",
       "details.dni-treeview {\r\n",
       "    padding-left: 1em;\r\n",
       "}\r\n",
       "table td {\r\n",
       "    text-align: start;\r\n",
       "}\r\n",
       "table tr { \r\n",
       "    vertical-align: top; \r\n",
       "    margin: 0em 0px;\r\n",
       "}\r\n",
       "table tr td pre \r\n",
       "{ \r\n",
       "    vertical-align: top !important; \r\n",
       "    margin: 0em 0px !important;\r\n",
       "} \r\n",
       "table th {\r\n",
       "    text-align: start;\r\n",
       "}\r\n",
       "</style>"
      ]
     },
     "metadata": {},
     "output_type": "display_data"
    },
    {
     "name": "stdout",
     "output_type": "stream",
     "text": [
      "JObject\n",
      "  (map\n",
      "     [(\"bday\",\n",
      "       JObject\n",
      "         (map\n",
      "            [(\"day\", JNumber 25.0); (\"month\", JNumber 12.0);\n",
      "             (\"year\", JNumber 2001.0)])); (\"emptyArray\", JArray []);\n",
      "      (\"emptyObject\", JObject (map []));\n",
      "      (\"favouriteColors\", JArray [JString \"blue\"; JString \"green\"]);\n",
      "      (\"isMale\", JBool true); (\"name\", JString \"Scott\")])\r\n",
      "JObject\r\n",
      "      Item: FSharpMap<String,JValue>\r\n",
      "        - Key: bday\r\n",
      "          Value: JObject\r\n",
      "            Item: FSharpMap<String,JValue>\r\n",
      "              - Key: day\r\n",
      "                Value: JNumber 25.0\r\n",
      "              - Key: month\r\n",
      "                Value: JNumber 12.0\r\n",
      "              - Key: year\r\n",
      "                Value: JNumber 2001.0\r\n",
      "        - Key: emptyArray\r\n",
      "          Value: JArray\r\n",
      "            Item: FSharpList<JValue>\r\n",
      "\r\n",
      "        - Key: emptyObject\r\n",
      "          Value: JObject\r\n",
      "            Item: FSharpMap<String,JValue>\r\n",
      "\r\n",
      "        - Key: favouriteColors\r\n",
      "          Value: JArray\r\n",
      "            Item: FSharpList<JValue>\r\n",
      "              - Item: blue\r\n",
      "              - Item: green\r\n",
      "        - Key: isMale\r\n",
      "          Value: JBool\r\n",
      "            Item: True\r\n",
      "        - Key: name\r\n",
      "          Value: JString\r\n",
      "            Item: Scott\r\n"
     ]
    }
   ],
   "source": [
    "//// test\n",
    "\n",
    "let example1 = \"\"\"{\n",
    "    \"name\" : \"Scott\",\n",
    "    \"isMale\" : true,\n",
    "    \"bday\" : {\"year\":2001, \"month\":12, \"day\":25 },\n",
    "    \"favouriteColors\" : [\"blue\", \"green\"],\n",
    "    \"emptyArray\" : [],\n",
    "    \"emptyObject\" : {}\n",
    "}\"\"\"\n",
    "run jValue example1\n",
    "|> parserEqual (\n",
    "    Success (\n",
    "        JObject (\n",
    "            Map.ofList [\n",
    "                \"name\", JString \"Scott\"\n",
    "                \"isMale\", JBool true\n",
    "                \"bday\", JObject (\n",
    "                    Map.ofList [\n",
    "                        \"year\", JNumber 2001.0\n",
    "                        \"month\", JNumber 12.0\n",
    "                        \"day\", JNumber 25.0\n",
    "                    ]\n",
    "                )\n",
    "                \"favouriteColors\", JArray [ JString \"blue\"; JString \"green\" ]\n",
    "                \"emptyArray\", JArray []\n",
    "                \"emptyObject\", JObject Map.empty\n",
    "            ]\n",
    "        )\n",
    "    )\n",
    ")"
   ]
  },
  {
   "cell_type": "code",
   "execution_count": null,
   "metadata": {
    "dotnet_repl_cellExecutionStartTime": "2023-07-21T16:12:58.4334229-03:00",
    "dotnet_repl_cellExecutionEndTime": "2023-07-21T16:12:59.0482721-03:00",
    "dotnet_repl_cellExecutionTime": "614.8512ms",
    "dotnet_interactive": {
     "language": "fsharp"
    },
    "polyglot_notebook": {
     "kernelName": "fsharp"
    }
   },
   "outputs": [
    {
     "data": {
      "text/html": [
       "<details open=\"open\" class=\"dni-treeview\"><summary><span class=\"dni-code-hint\"><code>Success\\n  (JObject\\n     (map\\n        [(\"widget\",\\n          JObject\\n            (map\\n               [(\"debug\", JString \"on\");\\n                (\"image\",\\n                 JObject\\n                   (map\\n                      [(\"alignment\", JString \"center\");\\n                       (\"hOffset\"...</code></span></summary><div><table><thead><tr></tr></thead><tbody><tr><td>Item</td><td><details class=\"dni-treeview\"><summary><span class=\"dni-code-hint\"><code>(JObject\\n  (map\\n     [(\"widget\",\\n       JObject\\n         (map\\n            [(\"debug\", JString \"on\");\\n             (\"image\",\\n              JObject\\n                (map\\n                   [(\"alignment\", JString \"center\"); (\"hOffset\", JNumber 250.0);\\n                    (\"name\", JString \"sun1\"...</code></span></summary><div><table><thead><tr></tr></thead><tbody><tr><td>Item1</td><td><details class=\"dni-treeview\"><summary><span class=\"dni-code-hint\"><code>JObject\\n  (map\\n     [(\"widget\",\\n       JObject\\n         (map\\n            [(\"debug\", JString \"on\");\\n             (\"image\",\\n              JObject\\n                (map\\n                   [(\"alignment\", JString \"center\"); (\"hOffset\", JNumber 250.0);\\n                    (\"name\", JString \"sun1\")...</code></span></summary><div><table><thead><tr></tr></thead><tbody><tr><td>Item</td><td><table><thead><tr><th><i>key</i></th><th>value</th></tr></thead><tbody><tr><td>widget</td><td><details class=\"dni-treeview\"><summary><span class=\"dni-code-hint\"><code>JObject\\n  (map\\n     [(\"debug\", JString \"on\");\\n      (\"image\",\\n       JObject\\n         (map\\n            [(\"alignment\", JString \"center\"); (\"hOffset\", JNumber 250.0);\\n             (\"name\", JString \"sun1\"); (\"src\", JString \"Images/Sun.png\");\\n             (\"vOffset\", JNumber 250.0)]));\\n      (\"...</code></span></summary><div><table><thead><tr></tr></thead><tbody><tr><td>Item</td><td><table><thead><tr><th><i>key</i></th><th><i>type</i></th><th>value</th></tr></thead><tbody><tr><td>debug</td><td>FSI_0011+JValue+JString</td><td>JString \"on\"</td></tr><tr><td>image</td><td>FSI_0011+JValue+JObject</td><td>JObject\n",
       "  (map\n",
       "     [(\"alignment\", JString \"center\"); (\"hOffset\", JNumber 250.0);\n",
       "      (\"name\", JString \"sun1\"); (\"src\", JString \"Images/Sun.png\");\n",
       "      (\"vOffset\", JNumber 250.0)])</td></tr><tr><td>text</td><td>FSI_0011+JValue+JObject</td><td>JObject\n",
       "  (map\n",
       "     [(\"alignment\", JString \"center\"); (\"data\", JString \"Click Here\");\n",
       "      (\"hOffset\", JNumber 250.0); (\"name\", JString \"text1\");\n",
       "      (\"onMouseUp\", JString \"sun1.opacity = (sun1.opacity / 100) * 90;\");\n",
       "      (\"size\", JNumber 36.0); (\"style\", JString \"bold\");\n",
       "      (\"vOffset\", JNumber 100.0)])</td></tr><tr><td>window</td><td>FSI_0011+JValue+JObject</td><td>JObject\n",
       "  (map\n",
       "     [(\"height\", JNumber 500.0); (\"name\", JString \"main_window\");\n",
       "      (\"title\", JString \"Sample Konfabulator Widget\"); (\"width\", JNumber 500.0)])</td></tr></tbody></table></td></tr></tbody></table></div></details></td></tr></tbody></table></td></tr></tbody></table></div></details></td></tr><tr><td>Item2</td><td><details class=\"dni-treeview\"><summary><span class=\"dni-code-hint\"><code>{ lines =\\n   [|\"{\"widget\": {\"; \"    \"debug\": \"on\",\"; \"    \"window\": {\";\\n     \"        \"title\": \"Sample Konfabulator Widget\",\";\\n     \"        \"name\": \"main_window\",\"; \"        \"width\": 500,\";\\n     \"        \"height\": 500\"; \"    },\"; \"    \"image\": {\";\\n     \"        \"src\": \"Images/Sun.png\",\"; \"    ...</code></span></summary><div><table><thead><tr></tr></thead><tbody><tr><td>lines</td><td><div class=\"dni-plaintext\"><pre>[ {&quot;widget&quot;: {,     &quot;debug&quot;: &quot;on&quot;,,     &quot;window&quot;: {,         &quot;title&quot;: &quot;Sample Konfabulator Widget&quot;,,         &quot;name&quot;: &quot;main_window&quot;,,         &quot;width&quot;: 500,,         &quot;height&quot;: 500,     },,     &quot;image&quot;: {,         &quot;src&quot;: &quot;Images/Sun.png&quot;,,         &quot;name&quot;: &quot;sun1&quot;,,         &quot;hOffset&quot;: 250,,         &quot;vOffset&quot;: 250,,         &quot;alignment&quot;: &quot;center&quot;,     },,     &quot;text&quot;: {,         &quot;data&quot;: &quot;Click Here&quot;,,         &quot;size&quot;: 36,,         &quot;style&quot;: &quot;bold&quot;,,         &quot;name&quot;: &quot;text1&quot;,,         &quot;hOffset&quot;: 250,,         &quot;vOffset&quot;: 100,,         &quot;alignment&quot;: &quot;center&quot;,,         &quot;onMouseUp&quot;: &quot;sun1.opacity = (sun1.opacity / 100) * 90;&quot;,     }, }} ]</pre></div></td></tr><tr><td>position</td><td><details class=\"dni-treeview\"><summary><span class=\"dni-code-hint\"><code>{ line = 26\\n  column = 0 }</code></span></summary><div><table><thead><tr></tr></thead><tbody><tr><td>line</td><td><div class=\"dni-plaintext\"><pre>26</pre></div></td></tr><tr><td>column</td><td><div class=\"dni-plaintext\"><pre>0</pre></div></td></tr></tbody></table></div></details></td></tr></tbody></table></div></details></td></tr></tbody></table></div></details></td></tr></tbody></table></div></details><style>\r\n",
       ".dni-code-hint {\r\n",
       "    font-style: italic;\r\n",
       "    overflow: hidden;\r\n",
       "    white-space: nowrap;\r\n",
       "}\r\n",
       ".dni-treeview {\r\n",
       "    white-space: nowrap;\r\n",
       "}\r\n",
       ".dni-treeview td {\r\n",
       "    vertical-align: top;\r\n",
       "    text-align: start;\r\n",
       "}\r\n",
       "details.dni-treeview {\r\n",
       "    padding-left: 1em;\r\n",
       "}\r\n",
       "table td {\r\n",
       "    text-align: start;\r\n",
       "}\r\n",
       "table tr { \r\n",
       "    vertical-align: top; \r\n",
       "    margin: 0em 0px;\r\n",
       "}\r\n",
       "table tr td pre \r\n",
       "{ \r\n",
       "    vertical-align: top !important; \r\n",
       "    margin: 0em 0px !important;\r\n",
       "} \r\n",
       "table th {\r\n",
       "    text-align: start;\r\n",
       "}\r\n",
       "</style>"
      ]
     },
     "metadata": {},
     "output_type": "display_data"
    },
    {
     "name": "stdout",
     "output_type": "stream",
     "text": [
      "JObject\n",
      "  (map\n",
      "     [(\"widget\",\n",
      "       JObject\n",
      "         (map\n",
      "            [(\"debug\", JString \"on\");\n",
      "             (\"image\",\n",
      "              JObject\n",
      "                (map\n",
      "                   [(\"alignment\", JString \"center\"); (\"hOffset\", JNumber 250.0);\n",
      "                    (\"name\", JString \"sun1\"); (\"src\", JString \"Images/Sun.png\");\n",
      "                    (\"vOffset\", JNumber 250.0)]));\n",
      "             (\"text\",\n",
      "              JObject\n",
      "                (map\n",
      "                   [(\"alignment\", JString \"center\");\n",
      "                    (\"data\", JString \"Click Here\"); (\"hOffset\", JNumber 250.0);\n",
      "                    (\"name\", JString \"text1\");\n",
      "                    (\"onMouseUp\",\n",
      "                     JString \"sun1.opacity = (sun1.opacity / 100) * 90;\");\n",
      "                    (\"size\", JNumber 36.0); (\"style\", JString \"bold\");\n",
      "                    (\"vOffset\", JNumber 100.0)]));\n",
      "             (\"window\",\n",
      "              JObject\n",
      "                (map\n",
      "                   [(\"height\", JNumber 500.0); (\"name\", JString \"main_window\");\n",
      "                    (\"title\", JString \"Sample Konfabulator Widget\");\n",
      "                    (\"width\", JNumber 500.0)]))]))])\r\n",
      "JObject\r\n",
      "      Item: FSharpMap<String,JValue>\r\n",
      "        - Key: widget\r\n",
      "          Value: JObject\r\n",
      "            Item: FSharpMap<String,JValue>\r\n",
      "              - Key: debug\r\n",
      "                Value: JString \"on\"\r\n",
      "              - Key: image\r\n",
      "                Value: JObject\n",
      "  (map\n",
      "     [(\"alignment\", JString \"center\"); (\"hOffset\", JNumber 250.0);\n",
      "      (\"name\", JString \"sun1\"); (\"src\", JString \"Images/Sun.png\");\n",
      "      (\"vOffset\", JNumber 250.0)])\r\n",
      "              - Key: text\r\n",
      "                Value: JObject\n",
      "  (map\n",
      "     [(\"alignment\", JString \"center\"); (\"data\", JString \"Click Here\");\n",
      "      (\"hOffset\", JNumber 250.0); (\"name\", JString \"text1\");\n",
      "      (\"onMouseUp\", JString \"sun1.opacity = (sun1.opacity / 100) * 90;\");\n",
      "      (\"size\", JNumber 36.0); (\"style\", JString \"bold\");\n",
      "      (\"vOffset\", JNumber 100.0)])\r\n",
      "              - Key: window\r\n",
      "                Value: JObject\n",
      "  (map\n",
      "     [(\"height\", JNumber 500.0); (\"name\", JString \"main_window\");\n",
      "      (\"title\", JString \"Sample Konfabulator Widget\"); (\"width\", JNumber 500.0)])\r\n"
     ]
    }
   ],
   "source": [
    "//// test\n",
    "\n",
    "let example2 = \"\"\"{\"widget\": {\n",
    "    \"debug\": \"on\",\n",
    "    \"window\": {\n",
    "        \"title\": \"Sample Konfabulator Widget\",\n",
    "        \"name\": \"main_window\",\n",
    "        \"width\": 500,\n",
    "        \"height\": 500\n",
    "    },\n",
    "    \"image\": {\n",
    "        \"src\": \"Images/Sun.png\",\n",
    "        \"name\": \"sun1\",\n",
    "        \"hOffset\": 250,\n",
    "        \"vOffset\": 250,\n",
    "        \"alignment\": \"center\"\n",
    "    },\n",
    "    \"text\": {\n",
    "        \"data\": \"Click Here\",\n",
    "        \"size\": 36,\n",
    "        \"style\": \"bold\",\n",
    "        \"name\": \"text1\",\n",
    "        \"hOffset\": 250,\n",
    "        \"vOffset\": 100,\n",
    "        \"alignment\": \"center\",\n",
    "        \"onMouseUp\": \"sun1.opacity = (sun1.opacity / 100) * 90;\"\n",
    "    }\n",
    "}}\"\"\"\n",
    "\n",
    "run jValue example2\n",
    "|> parserEqual (\n",
    "    Success (\n",
    "        JObject (\n",
    "            Map.ofList [\n",
    "                \"widget\", JObject (\n",
    "                    Map.ofList [\n",
    "                        \"debug\", JString \"on\"\n",
    "                        \"window\", JObject (\n",
    "                            Map.ofList [\n",
    "                                \"title\", JString \"Sample Konfabulator Widget\"\n",
    "                                \"name\", JString \"main_window\"\n",
    "                                \"width\", JNumber 500.0\n",
    "                                \"height\", JNumber 500.0\n",
    "                            ]\n",
    "                        )\n",
    "                        \"image\", JObject (\n",
    "                            Map.ofList [\n",
    "                                \"src\", JString \"Images/Sun.png\"\n",
    "                                \"name\", JString \"sun1\"\n",
    "                                \"hOffset\", JNumber 250.0\n",
    "                                \"vOffset\", JNumber 250.0\n",
    "                                \"alignment\", JString \"center\"\n",
    "                            ]\n",
    "                        )\n",
    "                        \"text\", JObject (\n",
    "                            Map.ofList [\n",
    "                                \"data\", JString \"Click Here\"\n",
    "                                \"size\", JNumber 36.0\n",
    "                                \"style\", JString \"bold\"\n",
    "                                \"name\", JString \"text1\"\n",
    "                                \"hOffset\", JNumber 250.0\n",
    "                                \"vOffset\", JNumber 100.0\n",
    "                                \"alignment\", JString \"center\"\n",
    "                                \"onMouseUp\", JString \"sun1.opacity = (sun1.opacity / 100) * 90;\"\n",
    "                            ]\n",
    "                        )\n",
    "                    ]\n",
    "                )\n",
    "            ]\n",
    "        )\n",
    "    )\n",
    ")"
   ]
  },
  {
   "cell_type": "code",
   "execution_count": null,
   "metadata": {
    "dotnet_repl_cellExecutionStartTime": "2023-07-21T16:12:59.0483072-03:00",
    "dotnet_repl_cellExecutionEndTime": "2023-07-21T16:12:59.7704063-03:00",
    "dotnet_repl_cellExecutionTime": "722.1014ms",
    "dotnet_interactive": {
     "language": "fsharp"
    },
    "polyglot_notebook": {
     "kernelName": "fsharp"
    }
   },
   "outputs": [
    {
     "data": {
      "text/html": [
       "<details open=\"open\" class=\"dni-treeview\"><summary><span class=\"dni-code-hint\"><code>Success\\n  (JObject\\n     (map\\n        [(\"array\",\\n          JArray\\n            [JNumber 1.0; JNumber 2.0; JNumber 3.0; JNumber 4.0; JNumber 5.0]);\\n         (\"boolean\", JBool true); (\"emptyArray\", JArray []);\\n         (\"emptyObject\", JObject (map []));\\n         (\"escapedString\", JString \"This s...</code></span></summary><div><table><thead><tr></tr></thead><tbody><tr><td>Item</td><td><details class=\"dni-treeview\"><summary><span class=\"dni-code-hint\"><code>(JObject\\n  (map\\n     [(\"array\",\\n       JArray [JNumber 1.0; JNumber 2.0; JNumber 3.0; JNumber 4.0; JNumber 5.0]);\\n      (\"boolean\", JBool true); (\"emptyArray\", JArray []);\\n      (\"emptyObject\", JObject (map []));\\n      (\"escapedString\", JString \"This string contains \\/\\\\\\b\\f\\n\\r\\t\\\"\\'\");\\n    ...</code></span></summary><div><table><thead><tr></tr></thead><tbody><tr><td>Item1</td><td><details class=\"dni-treeview\"><summary><span class=\"dni-code-hint\"><code>JObject\\n  (map\\n     [(\"array\",\\n       JArray [JNumber 1.0; JNumber 2.0; JNumber 3.0; JNumber 4.0; JNumber 5.0]);\\n      (\"boolean\", JBool true); (\"emptyArray\", JArray []);\\n      (\"emptyObject\", JObject (map []));\\n      (\"escapedString\", JString \"This string contains \\/\\\\\\b\\f\\n\\r\\t\\\"\\'\");\\n     ...</code></span></summary><div><table><thead><tr></tr></thead><tbody><tr><td>Item</td><td><table><thead><tr><th><i>key</i></th><th><i>type</i></th><th>value</th></tr></thead><tbody><tr><td>array</td><td>FSI_0011+JValue+JArray</td><td><details class=\"dni-treeview\"><summary><span class=\"dni-code-hint\"><code>JArray [JNumber 1.0; JNumber 2.0; JNumber 3.0; JNumber 4.0; JNumber 5.0]</code></span></summary><div><table><thead><tr></tr></thead><tbody><tr><td>Item</td><td><table><thead><tr><th><i>index</i></th><th>value</th></tr></thead><tbody><tr><td>0</td><td>JNumber 1.0</td></tr><tr><td>1</td><td>JNumber 2.0</td></tr><tr><td>2</td><td>JNumber 3.0</td></tr><tr><td>3</td><td>JNumber 4.0</td></tr><tr><td>4</td><td>JNumber 5.0</td></tr></tbody></table></td></tr></tbody></table></div></details></td></tr><tr><td>boolean</td><td>FSI_0011+JValue+JBool</td><td><details class=\"dni-treeview\"><summary><span class=\"dni-code-hint\"><code>JBool true</code></span></summary><div><table><thead><tr></tr></thead><tbody><tr><td>Item</td><td><div class=\"dni-plaintext\"><pre>True</pre></div></td></tr></tbody></table></div></details></td></tr><tr><td>emptyArray</td><td>FSI_0011+JValue+JArray</td><td><details class=\"dni-treeview\"><summary><span class=\"dni-code-hint\"><code>JArray []</code></span></summary><div><table><thead><tr></tr></thead><tbody><tr><td>Item</td><td></td></tr></tbody></table></div></details></td></tr><tr><td>emptyObject</td><td>FSI_0011+JValue+JObject</td><td><details class=\"dni-treeview\"><summary><span class=\"dni-code-hint\"><code>JObject (map [])</code></span></summary><div><table><thead><tr></tr></thead><tbody><tr><td>Item</td><td><i>(empty)</i></td></tr></tbody></table></div></details></td></tr><tr><td>escapedString</td><td>FSI_0011+JValue+JString</td><td><details class=\"dni-treeview\"><summary><span class=\"dni-code-hint\"><code>JString \"This string contains \\/\\\\\\b\\f\\n\\r\\t\\\"\\'\"</code></span></summary><div><table><thead><tr></tr></thead><tbody><tr><td>Item</td><td>This string contains \\/\\\\\\b\\f\\n\\r\\t\\&quot;\\&#39;</td></tr></tbody></table></div></details></td></tr><tr><td>nestedArrays</td><td>FSI_0011+JValue+JArray</td><td><details class=\"dni-treeview\"><summary><span class=\"dni-code-hint\"><code>JArray\\n  [JArray [JNumber 1.0; JNumber 2.0; JNumber 3.0];\\n   JArray [JNumber 4.0; JNumber 5.0; JNumber 6.0]]</code></span></summary><div><table><thead><tr></tr></thead><tbody><tr><td>Item</td><td><table><thead><tr><th><i>index</i></th><th>value</th></tr></thead><tbody><tr><td>0</td><td>JArray [JNumber 1.0; JNumber 2.0; JNumber 3.0]</td></tr><tr><td>1</td><td>JArray [JNumber 4.0; JNumber 5.0; JNumber 6.0]</td></tr></tbody></table></td></tr></tbody></table></div></details></td></tr><tr><td>nestedObjects</td><td>FSI_0011+JValue+JArray</td><td><details class=\"dni-treeview\"><summary><span class=\"dni-code-hint\"><code>JArray\\n  [JObject (map [(\"age\", JNumber 25.0); (\"name\", JString \"Alice\")]);\\n   JObject (map [(\"age\", JNumber 30.0); (\"name\", JString \"Bob\")])]</code></span></summary><div><table><thead><tr></tr></thead><tbody><tr><td>Item</td><td><table><thead><tr><th><i>index</i></th><th>value</th></tr></thead><tbody><tr><td>0</td><td>JObject (map [(\"age\", JNumber 25.0); (\"name\", JString \"Alice\")])</td></tr><tr><td>1</td><td>JObject (map [(\"age\", JNumber 30.0); (\"name\", JString \"Bob\")])</td></tr></tbody></table></td></tr></tbody></table></div></details></td></tr><tr><td>nullValue</td><td>FSI_0011+JValue</td><td><details class=\"dni-treeview\"><summary><span class=\"dni-code-hint\"><code>JNull</code></span></summary><div><table><thead><tr></tr></thead><tbody></tbody></table></div></details></td></tr><tr><td>number</td><td>FSI_0011+JValue+JNumber</td><td><details class=\"dni-treeview\"><summary><span class=\"dni-code-hint\"><code>JNumber 42.0</code></span></summary><div><table><thead><tr></tr></thead><tbody><tr><td>Item</td><td><div class=\"dni-plaintext\"><pre>42</pre></div></td></tr></tbody></table></div></details></td></tr><tr><td>object</td><td>FSI_0011+JValue+JObject</td><td><details class=\"dni-treeview\"><summary><span class=\"dni-code-hint\"><code>JObject\\n  (map\\n     [(\"nestedArray\", JArray [JString \"a\"; JString \"b\"; JString \"c\"]);\\n      (\"nestedBoolean\", JBool false); (\"nestedNull\", JNull);\\n      (\"nestedNumber\", JNumber 3.14);\\n      (\"nestedObject\",\\n       JObject (map [(\"nestedProperty\", JString \"Nested Object Value\")]));\\n      (\"ne...</code></span></summary><div><table><thead><tr></tr></thead><tbody><tr><td>Item</td><td><table><thead><tr><th><i>key</i></th><th><i>type</i></th><th>value</th></tr></thead><tbody><tr><td>nestedArray</td><td>FSI_0011+JValue+JArray</td><td>JArray [JString \"a\"; JString \"b\"; JString \"c\"]</td></tr><tr><td>nestedBoolean</td><td>FSI_0011+JValue+JBool</td><td>JBool false</td></tr><tr><td>nestedNull</td><td>FSI_0011+JValue</td><td>JNull</td></tr><tr><td>nestedNumber</td><td>FSI_0011+JValue+JNumber</td><td>JNumber 3.14</td></tr><tr><td>nestedObject</td><td>FSI_0011+JValue+JObject</td><td>JObject (map [(\"nestedProperty\", JString \"Nested Object Value\")])</td></tr><tr><td>nestedString</td><td>FSI_0011+JValue+JString</td><td>JString \"Nested Value\"</td></tr></tbody></table></td></tr></tbody></table></div></details></td></tr><tr><td>scientificNumber</td><td>FSI_0011+JValue+JNumber</td><td><details class=\"dni-treeview\"><summary><span class=\"dni-code-hint\"><code>JNumber 3.14e-10</code></span></summary><div><table><thead><tr></tr></thead><tbody><tr><td>Item</td><td><div class=\"dni-plaintext\"><pre>3.14E-10</pre></div></td></tr></tbody></table></div></details></td></tr><tr><td>specialCharacters</td><td>FSI_0011+JValue+JString</td><td><details class=\"dni-treeview\"><summary><span class=\"dni-code-hint\"><code>JString \"!@#$%^&*()\"</code></span></summary><div><table><thead><tr></tr></thead><tbody><tr><td>Item</td><td>!@#$%^&amp;*()</td></tr></tbody></table></div></details></td></tr><tr><td>string</td><td>FSI_0011+JValue+JString</td><td><details class=\"dni-treeview\"><summary><span class=\"dni-code-hint\"><code>JString \"Hello, \"World\"!\"</code></span></summary><div><table><thead><tr></tr></thead><tbody><tr><td>Item</td><td>Hello, &quot;World&quot;!</td></tr></tbody></table></div></details></td></tr><tr><td>unicodeString1</td><td>FSI_0011+JValue+JString</td><td><details class=\"dni-treeview\"><summary><span class=\"dni-code-hint\"><code>JString \"프리마\"</code></span></summary><div><table><thead><tr></tr></thead><tbody><tr><td>Item</td><td>프리마</td></tr></tbody></table></div></details></td></tr><tr><td>unicodeString2</td><td>FSI_0011+JValue+JString</td><td><details class=\"dni-treeview\"><summary><span class=\"dni-code-hint\"><code>JString \"Hello, \"World\"!\"</code></span></summary><div><table><thead><tr></tr></thead><tbody><tr><td>Item</td><td>Hello, &quot;World&quot;!</td></tr></tbody></table></div></details></td></tr></tbody></table></td></tr></tbody></table></div></details></td></tr><tr><td>Item2</td><td><details class=\"dni-treeview\"><summary><span class=\"dni-code-hint\"><code>{ lines =\\n   [|\"{\"; \"  \"string\": \"Hello, \\\"World\\\"!\",\";\\n     \"  \"escapedString\": \"This string contains \\\\/\\\\\\\\\\\\b\\\\f\\\\n\\\\r\\\\t\\\\\\\"\\\\'\",\";\\n     \"  \"number\": 42,\"; \"  \"scientificNumber\": 3.14e-10,\"; \"  \"boolean\": true,\";\\n     \"  \"nullValue\": null,\"; \"  \"array\": [1, 2, 3, 4, 5],\";\\n     \"  \"unicodeS...</code></span></summary><div><table><thead><tr></tr></thead><tbody><tr><td>lines</td><td><div class=\"dni-plaintext\"><pre>[ {,   &quot;string&quot;: &quot;Hello, \\&quot;World\\&quot;!&quot;,,   &quot;escapedString&quot;: &quot;This string contains \\\\/\\\\\\\\\\\\b\\\\f\\\\n\\\\r\\\\t\\\\\\&quot;\\\\&#39;&quot;,,   &quot;number&quot;: 42,,   &quot;scientificNumber&quot;: 3.14e-10,,   &quot;boolean&quot;: true,,   &quot;nullValue&quot;: null,,   &quot;array&quot;: [1, 2, 3, 4, 5],,   &quot;unicodeString1&quot;: &quot;프리마&quot;,,   &quot;unicodeString2&quot;: &quot;\\u0048\\u0065\\u006C\\u006C\\u006F, \\u0022\\u0057\\u006F\\u0072\\u006C\\u0064\\u0022!&quot;,,   &quot;specialCharacters&quot;: &quot;!@#$%^&amp;*()&quot;,,   &quot;emptyArray&quot;: [],,   &quot;emptyObject&quot;: {},,   &quot;nestedArrays&quot;: [[1, 2, 3], [4, 5, 6]],,   &quot;object&quot;: {,     &quot;nestedString&quot;: &quot;Nested Value&quot;,,     &quot;nestedNumber&quot;: 3.14,,     &quot;nestedBoolean&quot;: false,,     &quot;nestedNull&quot;: null,,     &quot;nestedArray&quot;: [&quot;a&quot;, &quot;b&quot;, &quot;c&quot;],,     &quot;nestedObject&quot;: {,       &quot;nestedProperty&quot;: &quot;Nested Object Value&quot;,     },   },,   &quot;nestedObjects&quot;: [,     {&quot;name&quot;: &quot;Alice&quot;, &quot;age&quot;: 25},,     {&quot;name&quot;: &quot;Bob&quot;, &quot;age&quot;: 30},   ], } ]</pre></div></td></tr><tr><td>position</td><td><details class=\"dni-treeview\"><summary><span class=\"dni-code-hint\"><code>{ line = 29\\n  column = 0 }</code></span></summary><div><table><thead><tr></tr></thead><tbody><tr><td>line</td><td><div class=\"dni-plaintext\"><pre>29</pre></div></td></tr><tr><td>column</td><td><div class=\"dni-plaintext\"><pre>0</pre></div></td></tr></tbody></table></div></details></td></tr></tbody></table></div></details></td></tr></tbody></table></div></details></td></tr></tbody></table></div></details><style>\r\n",
       ".dni-code-hint {\r\n",
       "    font-style: italic;\r\n",
       "    overflow: hidden;\r\n",
       "    white-space: nowrap;\r\n",
       "}\r\n",
       ".dni-treeview {\r\n",
       "    white-space: nowrap;\r\n",
       "}\r\n",
       ".dni-treeview td {\r\n",
       "    vertical-align: top;\r\n",
       "    text-align: start;\r\n",
       "}\r\n",
       "details.dni-treeview {\r\n",
       "    padding-left: 1em;\r\n",
       "}\r\n",
       "table td {\r\n",
       "    text-align: start;\r\n",
       "}\r\n",
       "table tr { \r\n",
       "    vertical-align: top; \r\n",
       "    margin: 0em 0px;\r\n",
       "}\r\n",
       "table tr td pre \r\n",
       "{ \r\n",
       "    vertical-align: top !important; \r\n",
       "    margin: 0em 0px !important;\r\n",
       "} \r\n",
       "table th {\r\n",
       "    text-align: start;\r\n",
       "}\r\n",
       "</style>"
      ]
     },
     "metadata": {},
     "output_type": "display_data"
    },
    {
     "name": "stdout",
     "output_type": "stream",
     "text": [
      "JObject\n",
      "  (map\n",
      "     [(\"array\",\n",
      "       JArray [JNumber 1.0; JNumber 2.0; JNumber 3.0; JNumber 4.0; JNumber 5.0]);\n",
      "      (\"boolean\", JBool true); (\"emptyArray\", JArray []);\n",
      "      (\"emptyObject\", JObject (map []));\n",
      "      (\"escapedString\", JString \"This string contains \\/\\\\\\b\\f\\n\\r\\t\\\"\\'\");\n",
      "      (\"nestedArrays\",\n",
      "       JArray\n",
      "         [JArray [JNumber 1.0; JNumber 2.0; JNumber 3.0];\n",
      "          JArray [JNumber 4.0; JNumber 5.0; JNumber 6.0]]);\n",
      "      (\"nestedObjects\",\n",
      "       JArray\n",
      "         [JObject (map [(\"age\", JNumber 25.0); (\"name\", JString \"Alice\")]);\n",
      "          JObject (map [(\"age\", JNumber 30.0); (\"name\", JString \"Bob\")])]);\n",
      "      (\"nullValue\", JNull); (\"number\", JNumber 42.0); ...])\r\n",
      "JObject\r\n",
      "      Item: FSharpMap<String,JValue>\r\n",
      "        - Key: array\r\n",
      "          Value: JArray\r\n",
      "            Item: FSharpList<JValue>\r\n",
      "              - Item: 1\r\n",
      "              - Item: 2\r\n",
      "              - Item: 3\r\n",
      "              - Item: 4\r\n",
      "              - Item: 5\r\n",
      "        - Key: boolean\r\n",
      "          Value: JBool\r\n",
      "            Item: True\r\n",
      "        - Key: emptyArray\r\n",
      "          Value: JArray\r\n",
      "            Item: FSharpList<JValue>\r\n",
      "\r\n",
      "        - Key: emptyObject\r\n",
      "          Value: JObject\r\n",
      "            Item: FSharpMap<String,JValue>\r\n",
      "\r\n",
      "        - Key: escapedString\r\n",
      "          Value: JString\r\n",
      "            Item: This string contains \\/\\\\\\b\\f\\n\\r\\t\\\"\\'\r\n",
      "        - Key: nestedArrays\r\n",
      "          Value: JArray\r\n",
      "            Item: FSharpList<JValue>\r\n",
      "              - Item: [ JNumber 1.0, JNumber 2.0, JNumber 3.0 ]\r\n",
      "              - Item: [ JNumber 4.0, JNumber 5.0, JNumber 6.0 ]\r\n",
      "        - Key: nestedObjects\r\n",
      "          Value: JArray\r\n",
      "            Item: FSharpList<JValue>\r\n",
      "              - Item: [ [age, JNumber 25.0], [name, JString \"Alice\"] ]\r\n",
      "              - Item: [ [age, JNumber 30.0], [name, JString \"Bob\"] ]\r\n",
      "        - Key: nullValue\r\n",
      "          Value: JNull\r\n",
      "        - Key: number\r\n",
      "          Value: JNumber\r\n",
      "            Item: 42\r\n",
      "        - Key: object\r\n",
      "          Value: JObject\r\n",
      "            Item: FSharpMap<String,JValue>\r\n",
      "              - Key: nestedArray\r\n",
      "                Value: JArray [JString \"a\"; JString \"b\"; JString \"c\"]\r\n",
      "              - Key: nestedBoolean\r\n",
      "                Value: JBool false\r\n",
      "              - Key: nestedNull\r\n",
      "                Value: JNull\r\n",
      "              - Key: nestedNumber\r\n",
      "                Value: JNumber 3.14\r\n",
      "              - Key: nestedObject\r\n",
      "                Value: JObject (map [(\"nestedProperty\", JString \"Nested Object Value\")])\r\n",
      "              - Key: nestedString\r\n",
      "                Value: JString \"Nested Value\"\r\n",
      "        - Key: scientificNumber\r\n",
      "          Value: JNumber\r\n",
      "            Item: 3.14E-10\r\n",
      "        - Key: specialCharacters\r\n",
      "          Value: JString\r\n",
      "            Item: !@#$%^&*()\r\n",
      "        - Key: string\r\n",
      "          Value: JString\r\n",
      "            Item: Hello, \"World\"!\r\n",
      "        - Key: unicodeString1\r\n",
      "          Value: JString\r\n",
      "            Item: 프리마\r\n",
      "        - Key: unicodeString2\r\n",
      "          Value: JString\r\n",
      "            Item: Hello, \"World\"!\r\n"
     ]
    }
   ],
   "source": [
    "//// test\n",
    "\n",
    "let example3 = \"\"\"{\n",
    "  \"string\": \"Hello, \\\"World\\\"!\",\n",
    "  \"escapedString\": \"This string contains \\\\/\\\\\\\\\\\\b\\\\f\\\\n\\\\r\\\\t\\\\\\\"\\\\'\",\n",
    "  \"number\": 42,\n",
    "  \"scientificNumber\": 3.14e-10,\n",
    "  \"boolean\": true,\n",
    "  \"nullValue\": null,\n",
    "  \"array\": [1, 2, 3, 4, 5],\n",
    "  \"unicodeString1\": \"프리마\",\n",
    "  \"unicodeString2\": \"\\u0048\\u0065\\u006C\\u006C\\u006F, \\u0022\\u0057\\u006F\\u0072\\u006C\\u0064\\u0022!\",\n",
    "  \"specialCharacters\": \"!@#$%^&*()\",\n",
    "  \"emptyArray\": [],\n",
    "  \"emptyObject\": {},\n",
    "  \"nestedArrays\": [[1, 2, 3], [4, 5, 6]],\n",
    "  \"object\": {\n",
    "    \"nestedString\": \"Nested Value\",\n",
    "    \"nestedNumber\": 3.14,\n",
    "    \"nestedBoolean\": false,\n",
    "    \"nestedNull\": null,\n",
    "    \"nestedArray\": [\"a\", \"b\", \"c\"],\n",
    "    \"nestedObject\": {\n",
    "      \"nestedProperty\": \"Nested Object Value\"\n",
    "    }\n",
    "  },\n",
    "  \"nestedObjects\": [\n",
    "    {\"name\": \"Alice\", \"age\": 25},\n",
    "    {\"name\": \"Bob\", \"age\": 30}\n",
    "  ]\n",
    "}\"\"\"\n",
    "run jValue example3\n",
    "|> parserEqual (\n",
    "    Success (\n",
    "        JObject (\n",
    "            Map.ofList [\n",
    "                \"string\", JString @\"Hello, \"\"World\"\"!\"\n",
    "                \"escapedString\", JString @\"This string contains \\/\\\\\\b\\f\\n\\r\\t\\\"\"\\'\"\n",
    "                \"number\", JNumber 42.0\n",
    "                \"scientificNumber\", JNumber 3.14e-10\n",
    "                \"boolean\", JBool true\n",
    "                \"nullValue\", JNull\n",
    "                \"array\", JArray [\n",
    "                    JNumber 1.0; JNumber 2.0; JNumber 3.0; JNumber 4.0; JNumber 5.0\n",
    "                ]\n",
    "                \"unicodeString1\", JString \"프리마\"\n",
    "                \"unicodeString2\", JString @\"Hello, \"\"World\"\"!\"\n",
    "                \"specialCharacters\", JString \"!@#$%^&*()\"\n",
    "                \"emptyArray\", JArray []\n",
    "                \"emptyObject\", JObject Map.empty\n",
    "                \"nestedArrays\", JArray [\n",
    "                    JArray [ JNumber 1.0; JNumber 2.0; JNumber 3.0 ]\n",
    "                    JArray [ JNumber 4.0; JNumber 5.0; JNumber 6.0 ]\n",
    "                ]\n",
    "                \"object\", JObject (\n",
    "                    Map.ofList [\n",
    "                        \"nestedString\", JString \"Nested Value\"\n",
    "                        \"nestedNumber\", JNumber 3.14\n",
    "                        \"nestedBoolean\", JBool false\n",
    "                        \"nestedNull\", JNull\n",
    "                        \"nestedArray\", JArray [JString \"a\"; JString \"b\"; JString \"c\"]\n",
    "                        \"nestedObject\", JObject (\n",
    "                            Map.ofList [\n",
    "                                \"nestedProperty\", JString \"Nested Object Value\"\n",
    "                            ]\n",
    "                        )\n",
    "                    ]\n",
    "                )\n",
    "                \"nestedObjects\", JArray [\n",
    "                  JObject (Map.ofList [ \"name\", JString \"Alice\"; \"age\", JNumber 25.0 ])\n",
    "                  JObject (Map.ofList [ \"name\", JString \"Bob\"; \"age\", JNumber 30.0 ])\n",
    "                ]\n",
    "            ]\n",
    "        )\n",
    "    )\n",
    ")"
   ]
  }
 ],
 "metadata": {
  "kernelspec": {
   "display_name": ".NET (C#)",
   "language": "C#",
   "name": ".net-csharp"
  },
  "language_info": {
   "file_extension": ".cs",
   "mimetype": "text/x-csharp",
   "name": "C#",
   "pygments_lexer": "csharp",
   "version": "10.0"
  },
  "polyglot_notebook": {
   "defaultKernelName": "csharp",
   "items": [
    {
     "name": "csharp"
    }
   ]
  },
  "dotnet_interactive": {
   "defaultKernelName": "csharp",
   "items": [
    {
     "name": "csharp"
    }
   ]
  }
 },
 "nbformat": 4,
 "nbformat_minor": 5
}