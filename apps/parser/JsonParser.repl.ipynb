{
 "cells": [
  {
   "cell_type": "markdown",
   "metadata": {
    "dotnet_repl_cellExecutionStartTime": "2023-07-25T21:35:18.5244946-03:00",
    "dotnet_repl_cellExecutionEndTime": "2023-07-25T21:35:18.5962021-03:00",
    "dotnet_repl_cellExecutionTime": "71.8585ms"
   },
   "source": [
    "# JsonParser (Polyglot)"
   ]
  },
  {
   "cell_type": "code",
   "execution_count": null,
   "metadata": {
    "dotnet_repl_cellExecutionStartTime": "2023-07-25T21:35:18.5983747-03:00",
    "dotnet_repl_cellExecutionEndTime": "2023-07-25T21:35:24.0197588-03:00",
    "dotnet_repl_cellExecutionTime": "5.4213881s",
    "dotnet_interactive": {
     "language": "fsharp"
    },
    "polyglot_notebook": {
     "kernelName": "fsharp"
    }
   },
   "outputs": [],
   "source": [
    "#!import ../nbs/Testing.dib"
   ]
  },
  {
   "cell_type": "code",
   "execution_count": null,
   "metadata": {
    "dotnet_repl_cellExecutionStartTime": "2023-07-25T21:35:24.0198293-03:00",
    "dotnet_repl_cellExecutionEndTime": "2023-07-25T21:35:25.789284-03:00",
    "dotnet_repl_cellExecutionTime": "1.7694586s",
    "dotnet_interactive": {
     "language": "fsharp"
    },
    "polyglot_notebook": {
     "kernelName": "fsharp"
    }
   },
   "outputs": [],
   "source": [
    "#!import ../nbs/Common.fs\n",
    "#!import Parser.fs"
   ]
  },
  {
   "cell_type": "code",
   "execution_count": null,
   "metadata": {
    "dotnet_repl_cellExecutionStartTime": "2023-07-25T21:35:25.7893155-03:00",
    "dotnet_repl_cellExecutionEndTime": "2023-07-25T21:35:25.7998706-03:00",
    "dotnet_repl_cellExecutionTime": "10.5678ms",
    "dotnet_interactive": {
     "language": "fsharp"
    },
    "polyglot_notebook": {
     "kernelName": "fsharp"
    }
   },
   "outputs": [],
   "source": [
    "open Common\n",
    "open Parser"
   ]
  },
  {
   "cell_type": "markdown",
   "metadata": {
    "dotnet_repl_cellExecutionStartTime": "2023-07-25T21:35:25.7999133-03:00",
    "dotnet_repl_cellExecutionEndTime": "2023-07-25T21:35:25.8037967-03:00",
    "dotnet_repl_cellExecutionTime": "3.8882ms"
   },
   "source": [
    "## JsonParser"
   ]
  },
  {
   "cell_type": "code",
   "execution_count": null,
   "metadata": {
    "dotnet_repl_cellExecutionStartTime": "2023-07-25T21:35:25.8038563-03:00",
    "dotnet_repl_cellExecutionEndTime": "2023-07-25T21:35:25.8180777-03:00",
    "dotnet_repl_cellExecutionTime": "14.2247ms",
    "dotnet_interactive": {
     "language": "fsharp"
    },
    "polyglot_notebook": {
     "kernelName": "fsharp"
    }
   },
   "outputs": [],
   "source": [
    "(*\n",
    "// --------------------------------\n",
    "JSON spec from http://www.json.org/\n",
    "// --------------------------------\n",
    "\n",
    "The JSON spec is available at [json.org](http://www.json.org/). I'll paraphase it here:\n",
    "\n",
    "* A `value` can be a `string` or a `number` or a `bool` or `null` or an `object` or an `array`.\n",
    "  * These structures can be nested.\n",
    "* A `string` is a sequence of zero or more Unicode characters, wrapped in double quotes, using backslash escapes.\n",
    "* A `number` is very much like a C or Java number, except that the octal and hexadecimal formats are not used.\n",
    "* A `boolean` is the literal `true` or `false`\n",
    "* A `null` is the literal `null`\n",
    "* An `object` is an unordered set of name/value pairs.\n",
    "  * An object begins with { (left brace) and ends with } (right brace).\n",
    "  * Each name is followed by : (colon) and the name/value pairs are separated by , (comma).\n",
    "* An `array` is an ordered collection of values.\n",
    "  * An array begins with [ (left bracket) and ends with ] (right bracket).\n",
    "  * Values are separated by , (comma).\n",
    "* Whitespace can be inserted between any pair of tokens.\n",
    "\n",
    "*)"
   ]
  },
  {
   "cell_type": "code",
   "execution_count": null,
   "metadata": {
    "dotnet_repl_cellExecutionStartTime": "2023-07-25T21:35:25.81811-03:00",
    "dotnet_repl_cellExecutionEndTime": "2023-07-25T21:35:25.8640554-03:00",
    "dotnet_repl_cellExecutionTime": "45.9491ms",
    "dotnet_interactive": {
     "language": "fsharp"
    },
    "polyglot_notebook": {
     "kernelName": "fsharp"
    }
   },
   "outputs": [],
   "source": [
    "//// test\n",
    "\n",
    "let inline parserEqual (expected : ParseResult<'a>) (actual : ParseResult<'a * Input>) =\n",
    "    match actual, expected with\n",
    "    | Success (_actual, _), Success _expected ->\n",
    "        printResult actual\n",
    "        _actual |> _equal _expected\n",
    "    | Failure (l1, e1, p1), Failure (l2, e2, p2) when l1 = l2 && e1 = e2 && p1 = p2 ->\n",
    "        printResult actual\n",
    "    | _ ->\n",
    "        printfn $\"Actual: {actual}\"\n",
    "        printfn $\"Expected: {expected}\"\n",
    "        failwith \"Parse failed\"\n",
    "    actual"
   ]
  },
  {
   "cell_type": "markdown",
   "metadata": {
    "dotnet_repl_cellExecutionStartTime": "2023-07-25T21:35:25.8640895-03:00",
    "dotnet_repl_cellExecutionEndTime": "2023-07-25T21:35:25.8676588-03:00",
    "dotnet_repl_cellExecutionTime": "3.5742ms"
   },
   "source": [
    "### JValue"
   ]
  },
  {
   "cell_type": "code",
   "execution_count": null,
   "metadata": {
    "dotnet_repl_cellExecutionStartTime": "2023-07-25T21:35:25.8677279-03:00",
    "dotnet_repl_cellExecutionEndTime": "2023-07-25T21:35:25.984629-03:00",
    "dotnet_repl_cellExecutionTime": "116.9053ms",
    "dotnet_interactive": {
     "language": "fsharp"
    },
    "polyglot_notebook": {
     "kernelName": "fsharp"
    }
   },
   "outputs": [],
   "source": [
    "type JValue =\n",
    "    | JString of string\n",
    "    | JNumber of float\n",
    "    | JBool   of bool\n",
    "    | JNull\n",
    "    | JObject of Map<string, JValue>\n",
    "    | JArray  of JValue list"
   ]
  },
  {
   "cell_type": "code",
   "execution_count": null,
   "metadata": {
    "dotnet_repl_cellExecutionStartTime": "2023-07-25T21:35:25.9846673-03:00",
    "dotnet_repl_cellExecutionEndTime": "2023-07-25T21:35:26.0011242-03:00",
    "dotnet_repl_cellExecutionTime": "16.4608ms",
    "dotnet_interactive": {
     "language": "fsharp"
    },
    "polyglot_notebook": {
     "kernelName": "fsharp"
    }
   },
   "outputs": [],
   "source": [
    "let jValue, jValueRef = createParserForwardedToRef<JValue> ()"
   ]
  },
  {
   "cell_type": "markdown",
   "metadata": {
    "dotnet_repl_cellExecutionStartTime": "2023-07-25T21:35:26.0011615-03:00",
    "dotnet_repl_cellExecutionEndTime": "2023-07-25T21:35:26.0038965-03:00",
    "dotnet_repl_cellExecutionTime": "2.7385ms"
   },
   "source": [
    "### jNull"
   ]
  },
  {
   "cell_type": "code",
   "execution_count": null,
   "metadata": {
    "dotnet_repl_cellExecutionStartTime": "2023-07-25T21:35:26.0039311-03:00",
    "dotnet_repl_cellExecutionEndTime": "2023-07-25T21:35:26.0640875-03:00",
    "dotnet_repl_cellExecutionTime": "60.1615ms",
    "dotnet_interactive": {
     "language": "fsharp"
    },
    "polyglot_notebook": {
     "kernelName": "fsharp"
    }
   },
   "outputs": [],
   "source": [
    "let jNull =\n",
    "    pstring \"null\"\n",
    "    >>% JNull\n",
    "    <?> \"null\""
   ]
  },
  {
   "cell_type": "code",
   "execution_count": null,
   "metadata": {
    "dotnet_repl_cellExecutionStartTime": "2023-07-25T21:35:26.0641342-03:00",
    "dotnet_repl_cellExecutionEndTime": "2023-07-25T21:35:26.0796004-03:00",
    "dotnet_repl_cellExecutionTime": "15.4707ms",
    "dotnet_interactive": {
     "language": "fsharp"
    },
    "polyglot_notebook": {
     "kernelName": "fsharp"
    }
   },
   "outputs": [],
   "source": [
    "//// test\n",
    "\n",
    "jValueRef <|\n",
    "    choice\n",
    "        [\n",
    "            jNull\n",
    "        ]"
   ]
  },
  {
   "cell_type": "code",
   "execution_count": null,
   "metadata": {
    "dotnet_repl_cellExecutionStartTime": "2023-07-25T21:35:26.0796494-03:00",
    "dotnet_repl_cellExecutionEndTime": "2023-07-25T21:35:26.389186-03:00",
    "dotnet_repl_cellExecutionTime": "309.5427ms",
    "dotnet_interactive": {
     "language": "fsharp"
    },
    "polyglot_notebook": {
     "kernelName": "fsharp"
    }
   },
   "outputs": [
    {
     "data": {
      "text/html": [
       "<details open=\"open\" class=\"dni-treeview\"><summary><span class=\"dni-code-hint\"><code>Success (JNull, { lines = [|\"null\"|]\\n                  position = { line = 0\\n                               column = 4 } })</code></span></summary><div><table><thead><tr></tr></thead><tbody><tr><td>Item</td><td><details class=\"dni-treeview\"><summary><span class=\"dni-code-hint\"><code>(JNull, { lines = [|\"null\"|]\\n  position = { line = 0\\n               column = 4 } })</code></span></summary><div><table><thead><tr></tr></thead><tbody><tr><td>Item1</td><td><details class=\"dni-treeview\"><summary><span class=\"dni-code-hint\"><code>JNull</code></span></summary><div><table><thead><tr></tr></thead><tbody></tbody></table></div></details></td></tr><tr><td>Item2</td><td><details class=\"dni-treeview\"><summary><span class=\"dni-code-hint\"><code>{ lines = [|\"null\"|]\\n  position = { line = 0\\n               column = 4 } }</code></span></summary><div><table><thead><tr></tr></thead><tbody><tr><td>lines</td><td><div class=\"dni-plaintext\"><pre>[ null ]</pre></div></td></tr><tr><td>position</td><td><details class=\"dni-treeview\"><summary><span class=\"dni-code-hint\"><code>{ line = 0\\n  column = 4 }</code></span></summary><div><table><thead><tr></tr></thead><tbody><tr><td>line</td><td><div class=\"dni-plaintext\"><pre>0</pre></div></td></tr><tr><td>column</td><td><div class=\"dni-plaintext\"><pre>4</pre></div></td></tr></tbody></table></div></details></td></tr></tbody></table></div></details></td></tr></tbody></table></div></details></td></tr></tbody></table></div></details><style>\r\n",
       ".dni-code-hint {\r\n",
       "    font-style: italic;\r\n",
       "    overflow: hidden;\r\n",
       "    white-space: nowrap;\r\n",
       "}\r\n",
       ".dni-treeview {\r\n",
       "    white-space: nowrap;\r\n",
       "}\r\n",
       ".dni-treeview td {\r\n",
       "    vertical-align: top;\r\n",
       "    text-align: start;\r\n",
       "}\r\n",
       "details.dni-treeview {\r\n",
       "    padding-left: 1em;\r\n",
       "}\r\n",
       "table td {\r\n",
       "    text-align: start;\r\n",
       "}\r\n",
       "table tr { \r\n",
       "    vertical-align: top; \r\n",
       "    margin: 0em 0px;\r\n",
       "}\r\n",
       "table tr td pre \r\n",
       "{ \r\n",
       "    vertical-align: top !important; \r\n",
       "    margin: 0em 0px !important;\r\n",
       "} \r\n",
       "table th {\r\n",
       "    text-align: start;\r\n",
       "}\r\n",
       "</style>"
      ]
     },
     "metadata": {},
     "output_type": "display_data"
    },
    {
     "name": "stdout",
     "output_type": "stream",
     "text": [
      "JNull\r\n",
      "JNull\r\n"
     ]
    }
   ],
   "source": [
    "//// test\n",
    "\n",
    "run jValue \"null\"\n",
    "|> parserEqual (Success JNull)"
   ]
  },
  {
   "cell_type": "code",
   "execution_count": null,
   "metadata": {
    "dotnet_repl_cellExecutionStartTime": "2023-07-25T21:35:26.3892744-03:00",
    "dotnet_repl_cellExecutionEndTime": "2023-07-25T21:35:26.494169-03:00",
    "dotnet_repl_cellExecutionTime": "104.9004ms",
    "dotnet_interactive": {
     "language": "fsharp"
    },
    "polyglot_notebook": {
     "kernelName": "fsharp"
    }
   },
   "outputs": [
    {
     "data": {
      "text/html": [
       "<details open=\"open\" class=\"dni-treeview\"><summary><span class=\"dni-code-hint\"><code>Failure (\"null\", \"Unexpected 'p'\", { currentLine = \"nulp\"\\n                                     line = 0\\n                                     column = 3 })</code></span></summary><div><table><thead><tr></tr></thead><tbody><tr><td>Item1</td><td>null</td></tr><tr><td>Item2</td><td>Unexpected &#39;p&#39;</td></tr><tr><td>Item3</td><td><details class=\"dni-treeview\"><summary><span class=\"dni-code-hint\"><code>{ currentLine = \"nulp\"\\n  line = 0\\n  column = 3 }</code></span></summary><div><table><thead><tr></tr></thead><tbody><tr><td>currentLine</td><td>nulp</td></tr><tr><td>line</td><td><div class=\"dni-plaintext\"><pre>0</pre></div></td></tr><tr><td>column</td><td><div class=\"dni-plaintext\"><pre>3</pre></div></td></tr></tbody></table></div></details></td></tr></tbody></table></div></details><style>\r\n",
       ".dni-code-hint {\r\n",
       "    font-style: italic;\r\n",
       "    overflow: hidden;\r\n",
       "    white-space: nowrap;\r\n",
       "}\r\n",
       ".dni-treeview {\r\n",
       "    white-space: nowrap;\r\n",
       "}\r\n",
       ".dni-treeview td {\r\n",
       "    vertical-align: top;\r\n",
       "    text-align: start;\r\n",
       "}\r\n",
       "details.dni-treeview {\r\n",
       "    padding-left: 1em;\r\n",
       "}\r\n",
       "table td {\r\n",
       "    text-align: start;\r\n",
       "}\r\n",
       "table tr { \r\n",
       "    vertical-align: top; \r\n",
       "    margin: 0em 0px;\r\n",
       "}\r\n",
       "table tr td pre \r\n",
       "{ \r\n",
       "    vertical-align: top !important; \r\n",
       "    margin: 0em 0px !important;\r\n",
       "} \r\n",
       "table th {\r\n",
       "    text-align: start;\r\n",
       "}\r\n",
       "</style>"
      ]
     },
     "metadata": {},
     "output_type": "display_data"
    },
    {
     "name": "stdout",
     "output_type": "stream",
     "text": [
      "Line:0 Col:3 Error parsing null\n",
      "nulp\n",
      "   ^Unexpected 'p'\r\n"
     ]
    }
   ],
   "source": [
    "//// test\n",
    "\n",
    "run jNull \"nulp\"\n",
    "|> parserEqual (\n",
    "    Failure (\n",
    "        \"null\",\n",
    "        \"Unexpected 'p'\",\n",
    "        { currentLine = \"nulp\"; line = 0; column = 3 }\n",
    "    )\n",
    ")"
   ]
  },
  {
   "cell_type": "markdown",
   "metadata": {
    "dotnet_repl_cellExecutionStartTime": "2023-07-25T21:35:26.4942281-03:00",
    "dotnet_repl_cellExecutionEndTime": "2023-07-25T21:35:26.4999745-03:00",
    "dotnet_repl_cellExecutionTime": "5.7543ms"
   },
   "source": [
    "### jBool"
   ]
  },
  {
   "cell_type": "code",
   "execution_count": null,
   "metadata": {
    "dotnet_repl_cellExecutionStartTime": "2023-07-25T21:35:26.5000311-03:00",
    "dotnet_repl_cellExecutionEndTime": "2023-07-25T21:35:26.5680714-03:00",
    "dotnet_repl_cellExecutionTime": "68.0439ms",
    "dotnet_interactive": {
     "language": "fsharp"
    },
    "polyglot_notebook": {
     "kernelName": "fsharp"
    }
   },
   "outputs": [],
   "source": [
    "let jBool =\n",
    "    let jtrue =\n",
    "        pstring \"true\"\n",
    "        >>% JBool true\n",
    "    let jfalse =\n",
    "        pstring \"false\"\n",
    "        >>% JBool false\n",
    "\n",
    "    jtrue <|> jfalse\n",
    "    <?> \"bool\""
   ]
  },
  {
   "cell_type": "code",
   "execution_count": null,
   "metadata": {
    "dotnet_repl_cellExecutionStartTime": "2023-07-25T21:35:26.56811-03:00",
    "dotnet_repl_cellExecutionEndTime": "2023-07-25T21:35:26.5900476-03:00",
    "dotnet_repl_cellExecutionTime": "21.9415ms",
    "dotnet_interactive": {
     "language": "fsharp"
    },
    "polyglot_notebook": {
     "kernelName": "fsharp"
    }
   },
   "outputs": [],
   "source": [
    "//// test\n",
    "\n",
    "jValueRef <|\n",
    "    choice\n",
    "        [\n",
    "            jNull\n",
    "            jBool\n",
    "        ]"
   ]
  },
  {
   "cell_type": "code",
   "execution_count": null,
   "metadata": {
    "dotnet_repl_cellExecutionStartTime": "2023-07-25T21:35:26.5900892-03:00",
    "dotnet_repl_cellExecutionEndTime": "2023-07-25T21:35:26.6726882-03:00",
    "dotnet_repl_cellExecutionTime": "82.6054ms",
    "dotnet_interactive": {
     "language": "fsharp"
    },
    "polyglot_notebook": {
     "kernelName": "fsharp"
    }
   },
   "outputs": [
    {
     "data": {
      "text/html": [
       "<details open=\"open\" class=\"dni-treeview\"><summary><span class=\"dni-code-hint\"><code>Success (JBool true, { lines = [|\"true\"|]\\n                       position = { line = 0\\n                                    column = 4 } })</code></span></summary><div><table><thead><tr></tr></thead><tbody><tr><td>Item</td><td><details class=\"dni-treeview\"><summary><span class=\"dni-code-hint\"><code>(JBool true, { lines = [|\"true\"|]\\n  position = { line = 0\\n               column = 4 } })</code></span></summary><div><table><thead><tr></tr></thead><tbody><tr><td>Item1</td><td><details class=\"dni-treeview\"><summary><span class=\"dni-code-hint\"><code>JBool true</code></span></summary><div><table><thead><tr></tr></thead><tbody><tr><td>Item</td><td><div class=\"dni-plaintext\"><pre>True</pre></div></td></tr></tbody></table></div></details></td></tr><tr><td>Item2</td><td><details class=\"dni-treeview\"><summary><span class=\"dni-code-hint\"><code>{ lines = [|\"true\"|]\\n  position = { line = 0\\n               column = 4 } }</code></span></summary><div><table><thead><tr></tr></thead><tbody><tr><td>lines</td><td><div class=\"dni-plaintext\"><pre>[ true ]</pre></div></td></tr><tr><td>position</td><td><details class=\"dni-treeview\"><summary><span class=\"dni-code-hint\"><code>{ line = 0\\n  column = 4 }</code></span></summary><div><table><thead><tr></tr></thead><tbody><tr><td>line</td><td><div class=\"dni-plaintext\"><pre>0</pre></div></td></tr><tr><td>column</td><td><div class=\"dni-plaintext\"><pre>4</pre></div></td></tr></tbody></table></div></details></td></tr></tbody></table></div></details></td></tr></tbody></table></div></details></td></tr></tbody></table></div></details><style>\r\n",
       ".dni-code-hint {\r\n",
       "    font-style: italic;\r\n",
       "    overflow: hidden;\r\n",
       "    white-space: nowrap;\r\n",
       "}\r\n",
       ".dni-treeview {\r\n",
       "    white-space: nowrap;\r\n",
       "}\r\n",
       ".dni-treeview td {\r\n",
       "    vertical-align: top;\r\n",
       "    text-align: start;\r\n",
       "}\r\n",
       "details.dni-treeview {\r\n",
       "    padding-left: 1em;\r\n",
       "}\r\n",
       "table td {\r\n",
       "    text-align: start;\r\n",
       "}\r\n",
       "table tr { \r\n",
       "    vertical-align: top; \r\n",
       "    margin: 0em 0px;\r\n",
       "}\r\n",
       "table tr td pre \r\n",
       "{ \r\n",
       "    vertical-align: top !important; \r\n",
       "    margin: 0em 0px !important;\r\n",
       "} \r\n",
       "table th {\r\n",
       "    text-align: start;\r\n",
       "}\r\n",
       "</style>"
      ]
     },
     "metadata": {},
     "output_type": "display_data"
    },
    {
     "name": "stdout",
     "output_type": "stream",
     "text": [
      "JBool true\r\n",
      "JBool\r\n",
      "      Item: True\r\n"
     ]
    }
   ],
   "source": [
    "//// test\n",
    "\n",
    "run jBool \"true\"\n",
    "|> parserEqual (Success (JBool true))"
   ]
  },
  {
   "cell_type": "code",
   "execution_count": null,
   "metadata": {
    "dotnet_repl_cellExecutionStartTime": "2023-07-25T21:35:26.6727523-03:00",
    "dotnet_repl_cellExecutionEndTime": "2023-07-25T21:35:26.7436978-03:00",
    "dotnet_repl_cellExecutionTime": "70.9525ms",
    "dotnet_interactive": {
     "language": "fsharp"
    },
    "polyglot_notebook": {
     "kernelName": "fsharp"
    }
   },
   "outputs": [
    {
     "data": {
      "text/html": [
       "<details open=\"open\" class=\"dni-treeview\"><summary><span class=\"dni-code-hint\"><code>Success (JBool false, { lines = [|\"false\"|]\\n                        position = { line = 0\\n                                     column = 5 } })</code></span></summary><div><table><thead><tr></tr></thead><tbody><tr><td>Item</td><td><details class=\"dni-treeview\"><summary><span class=\"dni-code-hint\"><code>(JBool false, { lines = [|\"false\"|]\\n  position = { line = 0\\n               column = 5 } })</code></span></summary><div><table><thead><tr></tr></thead><tbody><tr><td>Item1</td><td><details class=\"dni-treeview\"><summary><span class=\"dni-code-hint\"><code>JBool false</code></span></summary><div><table><thead><tr></tr></thead><tbody><tr><td>Item</td><td><div class=\"dni-plaintext\"><pre>False</pre></div></td></tr></tbody></table></div></details></td></tr><tr><td>Item2</td><td><details class=\"dni-treeview\"><summary><span class=\"dni-code-hint\"><code>{ lines = [|\"false\"|]\\n  position = { line = 0\\n               column = 5 } }</code></span></summary><div><table><thead><tr></tr></thead><tbody><tr><td>lines</td><td><div class=\"dni-plaintext\"><pre>[ false ]</pre></div></td></tr><tr><td>position</td><td><details class=\"dni-treeview\"><summary><span class=\"dni-code-hint\"><code>{ line = 0\\n  column = 5 }</code></span></summary><div><table><thead><tr></tr></thead><tbody><tr><td>line</td><td><div class=\"dni-plaintext\"><pre>0</pre></div></td></tr><tr><td>column</td><td><div class=\"dni-plaintext\"><pre>5</pre></div></td></tr></tbody></table></div></details></td></tr></tbody></table></div></details></td></tr></tbody></table></div></details></td></tr></tbody></table></div></details><style>\r\n",
       ".dni-code-hint {\r\n",
       "    font-style: italic;\r\n",
       "    overflow: hidden;\r\n",
       "    white-space: nowrap;\r\n",
       "}\r\n",
       ".dni-treeview {\r\n",
       "    white-space: nowrap;\r\n",
       "}\r\n",
       ".dni-treeview td {\r\n",
       "    vertical-align: top;\r\n",
       "    text-align: start;\r\n",
       "}\r\n",
       "details.dni-treeview {\r\n",
       "    padding-left: 1em;\r\n",
       "}\r\n",
       "table td {\r\n",
       "    text-align: start;\r\n",
       "}\r\n",
       "table tr { \r\n",
       "    vertical-align: top; \r\n",
       "    margin: 0em 0px;\r\n",
       "}\r\n",
       "table tr td pre \r\n",
       "{ \r\n",
       "    vertical-align: top !important; \r\n",
       "    margin: 0em 0px !important;\r\n",
       "} \r\n",
       "table th {\r\n",
       "    text-align: start;\r\n",
       "}\r\n",
       "</style>"
      ]
     },
     "metadata": {},
     "output_type": "display_data"
    },
    {
     "name": "stdout",
     "output_type": "stream",
     "text": [
      "JBool false\r\n",
      "JBool\r\n",
      "      Item: False\r\n"
     ]
    }
   ],
   "source": [
    "//// test\n",
    "\n",
    "run jBool \"false\"\n",
    "|> parserEqual (Success (JBool false))"
   ]
  },
  {
   "cell_type": "code",
   "execution_count": null,
   "metadata": {
    "dotnet_repl_cellExecutionStartTime": "2023-07-25T21:35:26.7437616-03:00",
    "dotnet_repl_cellExecutionEndTime": "2023-07-25T21:35:26.7982619-03:00",
    "dotnet_repl_cellExecutionTime": "54.5105ms",
    "dotnet_interactive": {
     "language": "fsharp"
    },
    "polyglot_notebook": {
     "kernelName": "fsharp"
    }
   },
   "outputs": [
    {
     "data": {
      "text/html": [
       "<details open=\"open\" class=\"dni-treeview\"><summary><span class=\"dni-code-hint\"><code>Failure (\"bool\", \"Unexpected 't'\", { currentLine = \"truX\"\\n                                     line = 0\\n                                     column = 0 })</code></span></summary><div><table><thead><tr></tr></thead><tbody><tr><td>Item1</td><td>bool</td></tr><tr><td>Item2</td><td>Unexpected &#39;t&#39;</td></tr><tr><td>Item3</td><td><details class=\"dni-treeview\"><summary><span class=\"dni-code-hint\"><code>{ currentLine = \"truX\"\\n  line = 0\\n  column = 0 }</code></span></summary><div><table><thead><tr></tr></thead><tbody><tr><td>currentLine</td><td>truX</td></tr><tr><td>line</td><td><div class=\"dni-plaintext\"><pre>0</pre></div></td></tr><tr><td>column</td><td><div class=\"dni-plaintext\"><pre>0</pre></div></td></tr></tbody></table></div></details></td></tr></tbody></table></div></details><style>\r\n",
       ".dni-code-hint {\r\n",
       "    font-style: italic;\r\n",
       "    overflow: hidden;\r\n",
       "    white-space: nowrap;\r\n",
       "}\r\n",
       ".dni-treeview {\r\n",
       "    white-space: nowrap;\r\n",
       "}\r\n",
       ".dni-treeview td {\r\n",
       "    vertical-align: top;\r\n",
       "    text-align: start;\r\n",
       "}\r\n",
       "details.dni-treeview {\r\n",
       "    padding-left: 1em;\r\n",
       "}\r\n",
       "table td {\r\n",
       "    text-align: start;\r\n",
       "}\r\n",
       "table tr { \r\n",
       "    vertical-align: top; \r\n",
       "    margin: 0em 0px;\r\n",
       "}\r\n",
       "table tr td pre \r\n",
       "{ \r\n",
       "    vertical-align: top !important; \r\n",
       "    margin: 0em 0px !important;\r\n",
       "} \r\n",
       "table th {\r\n",
       "    text-align: start;\r\n",
       "}\r\n",
       "</style>"
      ]
     },
     "metadata": {},
     "output_type": "display_data"
    },
    {
     "name": "stdout",
     "output_type": "stream",
     "text": [
      "Line:0 Col:0 Error parsing bool\n",
      "truX\n",
      "^Unexpected 't'\r\n"
     ]
    }
   ],
   "source": [
    "//// test\n",
    "\n",
    "run jBool \"truX\"\n",
    "|> parserEqual (\n",
    "    Failure (\n",
    "        \"bool\",\n",
    "        \"Unexpected 't'\",\n",
    "        { currentLine = \"truX\"; line = 0; column = 0 }\n",
    "    )\n",
    ")"
   ]
  },
  {
   "cell_type": "markdown",
   "metadata": {
    "dotnet_repl_cellExecutionStartTime": "2023-07-25T21:35:26.7983533-03:00",
    "dotnet_repl_cellExecutionEndTime": "2023-07-25T21:35:26.8020304-03:00",
    "dotnet_repl_cellExecutionTime": "3.6809ms"
   },
   "source": [
    "### jUnescapedChar"
   ]
  },
  {
   "cell_type": "code",
   "execution_count": null,
   "metadata": {
    "dotnet_repl_cellExecutionStartTime": "2023-07-25T21:35:26.8020662-03:00",
    "dotnet_repl_cellExecutionEndTime": "2023-07-25T21:35:26.8202324-03:00",
    "dotnet_repl_cellExecutionTime": "18.1697ms",
    "dotnet_interactive": {
     "language": "fsharp"
    },
    "polyglot_notebook": {
     "kernelName": "fsharp"
    }
   },
   "outputs": [],
   "source": [
    "let jUnescapedChar =\n",
    "    satisfy (fun ch -> ch <> '\\\\' && ch <> '\\\"') \"char\""
   ]
  },
  {
   "cell_type": "code",
   "execution_count": null,
   "metadata": {
    "dotnet_repl_cellExecutionStartTime": "2023-07-25T21:35:26.8202762-03:00",
    "dotnet_repl_cellExecutionEndTime": "2023-07-25T21:35:26.9146731-03:00",
    "dotnet_repl_cellExecutionTime": "94.4008ms",
    "dotnet_interactive": {
     "language": "fsharp"
    },
    "polyglot_notebook": {
     "kernelName": "fsharp"
    }
   },
   "outputs": [
    {
     "data": {
      "text/html": [
       "<details open=\"open\" class=\"dni-treeview\"><summary><span class=\"dni-code-hint\"><code>Success ('a', { lines = [|\"a\"|]\\n                position = { line = 0\\n                             column = 1 } })</code></span></summary><div><table><thead><tr></tr></thead><tbody><tr><td>Item</td><td><details class=\"dni-treeview\"><summary><span class=\"dni-code-hint\"><code>(a, { lines = [|\"a\"|]\\n  position = { line = 0\\n               column = 1 } })</code></span></summary><div><table><thead><tr></tr></thead><tbody><tr><td>Item1</td><td><div class=\"dni-plaintext\"><pre>a</pre></div></td></tr><tr><td>Item2</td><td><details class=\"dni-treeview\"><summary><span class=\"dni-code-hint\"><code>{ lines = [|\"a\"|]\\n  position = { line = 0\\n               column = 1 } }</code></span></summary><div><table><thead><tr></tr></thead><tbody><tr><td>lines</td><td><div class=\"dni-plaintext\"><pre>[ a ]</pre></div></td></tr><tr><td>position</td><td><details class=\"dni-treeview\"><summary><span class=\"dni-code-hint\"><code>{ line = 0\\n  column = 1 }</code></span></summary><div><table><thead><tr></tr></thead><tbody><tr><td>line</td><td><div class=\"dni-plaintext\"><pre>0</pre></div></td></tr><tr><td>column</td><td><div class=\"dni-plaintext\"><pre>1</pre></div></td></tr></tbody></table></div></details></td></tr></tbody></table></div></details></td></tr></tbody></table></div></details></td></tr></tbody></table></div></details><style>\r\n",
       ".dni-code-hint {\r\n",
       "    font-style: italic;\r\n",
       "    overflow: hidden;\r\n",
       "    white-space: nowrap;\r\n",
       "}\r\n",
       ".dni-treeview {\r\n",
       "    white-space: nowrap;\r\n",
       "}\r\n",
       ".dni-treeview td {\r\n",
       "    vertical-align: top;\r\n",
       "    text-align: start;\r\n",
       "}\r\n",
       "details.dni-treeview {\r\n",
       "    padding-left: 1em;\r\n",
       "}\r\n",
       "table td {\r\n",
       "    text-align: start;\r\n",
       "}\r\n",
       "table tr { \r\n",
       "    vertical-align: top; \r\n",
       "    margin: 0em 0px;\r\n",
       "}\r\n",
       "table tr td pre \r\n",
       "{ \r\n",
       "    vertical-align: top !important; \r\n",
       "    margin: 0em 0px !important;\r\n",
       "} \r\n",
       "table th {\r\n",
       "    text-align: start;\r\n",
       "}\r\n",
       "</style>"
      ]
     },
     "metadata": {},
     "output_type": "display_data"
    },
    {
     "name": "stdout",
     "output_type": "stream",
     "text": [
      "'a'\r\n",
      "a\r\n"
     ]
    }
   ],
   "source": [
    "//// test\n",
    "\n",
    "run jUnescapedChar \"a\"\n",
    "|> parserEqual (Success 'a')"
   ]
  },
  {
   "cell_type": "code",
   "execution_count": null,
   "metadata": {
    "dotnet_repl_cellExecutionStartTime": "2023-07-25T21:35:26.9147151-03:00",
    "dotnet_repl_cellExecutionEndTime": "2023-07-25T21:35:26.9817342-03:00",
    "dotnet_repl_cellExecutionTime": "67.0266ms",
    "dotnet_interactive": {
     "language": "fsharp"
    },
    "polyglot_notebook": {
     "kernelName": "fsharp"
    }
   },
   "outputs": [
    {
     "data": {
      "text/html": [
       "<details open=\"open\" class=\"dni-treeview\"><summary><span class=\"dni-code-hint\"><code>Failure (\"char\", \"Unexpected '\\'\", { currentLine = \"\\\"\\n                                     line = 0\\n                                     column = 0 })</code></span></summary><div><table><thead><tr></tr></thead><tbody><tr><td>Item1</td><td>char</td></tr><tr><td>Item2</td><td>Unexpected &#39;\\&#39;</td></tr><tr><td>Item3</td><td><details class=\"dni-treeview\"><summary><span class=\"dni-code-hint\"><code>{ currentLine = \"\\\"\\n  line = 0\\n  column = 0 }</code></span></summary><div><table><thead><tr></tr></thead><tbody><tr><td>currentLine</td><td>\\</td></tr><tr><td>line</td><td><div class=\"dni-plaintext\"><pre>0</pre></div></td></tr><tr><td>column</td><td><div class=\"dni-plaintext\"><pre>0</pre></div></td></tr></tbody></table></div></details></td></tr></tbody></table></div></details><style>\r\n",
       ".dni-code-hint {\r\n",
       "    font-style: italic;\r\n",
       "    overflow: hidden;\r\n",
       "    white-space: nowrap;\r\n",
       "}\r\n",
       ".dni-treeview {\r\n",
       "    white-space: nowrap;\r\n",
       "}\r\n",
       ".dni-treeview td {\r\n",
       "    vertical-align: top;\r\n",
       "    text-align: start;\r\n",
       "}\r\n",
       "details.dni-treeview {\r\n",
       "    padding-left: 1em;\r\n",
       "}\r\n",
       "table td {\r\n",
       "    text-align: start;\r\n",
       "}\r\n",
       "table tr { \r\n",
       "    vertical-align: top; \r\n",
       "    margin: 0em 0px;\r\n",
       "}\r\n",
       "table tr td pre \r\n",
       "{ \r\n",
       "    vertical-align: top !important; \r\n",
       "    margin: 0em 0px !important;\r\n",
       "} \r\n",
       "table th {\r\n",
       "    text-align: start;\r\n",
       "}\r\n",
       "</style>"
      ]
     },
     "metadata": {},
     "output_type": "display_data"
    },
    {
     "name": "stdout",
     "output_type": "stream",
     "text": [
      "Line:0 Col:0 Error parsing char\n",
      "\\\n",
      "^Unexpected '\\'\r\n"
     ]
    }
   ],
   "source": [
    "//// test\n",
    "\n",
    "run jUnescapedChar \"\\\\\"\n",
    "|> parserEqual (\n",
    "    Failure (\n",
    "        \"char\",\n",
    "        \"Unexpected '\\\\'\",\n",
    "        { currentLine = \"\\\\\"; line = 0; column = 0 }\n",
    "    )\n",
    ")"
   ]
  },
  {
   "cell_type": "markdown",
   "metadata": {
    "dotnet_repl_cellExecutionStartTime": "2023-07-25T21:35:26.9817952-03:00",
    "dotnet_repl_cellExecutionEndTime": "2023-07-25T21:35:26.9869835-03:00",
    "dotnet_repl_cellExecutionTime": "5.2094ms"
   },
   "source": [
    "### jEscapedChar"
   ]
  },
  {
   "cell_type": "code",
   "execution_count": null,
   "metadata": {
    "dotnet_repl_cellExecutionStartTime": "2023-07-25T21:35:26.9870429-03:00",
    "dotnet_repl_cellExecutionEndTime": "2023-07-25T21:35:27.0393158-03:00",
    "dotnet_repl_cellExecutionTime": "52.2766ms",
    "dotnet_interactive": {
     "language": "fsharp"
    },
    "polyglot_notebook": {
     "kernelName": "fsharp"
    }
   },
   "outputs": [],
   "source": [
    "let jEscapedChar =\n",
    "    [\n",
    "        (\"\\\\\\\"\",'\\\"')\n",
    "        (\"\\\\\\\\\",'\\\\')\n",
    "        (\"\\\\/\",'/')\n",
    "        (\"\\\\b\",'\\b')\n",
    "        (\"\\\\f\",'\\f')\n",
    "        (\"\\\\n\",'\\n')\n",
    "        (\"\\\\r\",'\\r')\n",
    "        (\"\\\\t\",'\\t')\n",
    "    ]\n",
    "    |> List.map (fun (toMatch, result) ->\n",
    "        pstring toMatch >>% result\n",
    "    )\n",
    "    |> choice\n",
    "    <?> \"escaped char\""
   ]
  },
  {
   "cell_type": "code",
   "execution_count": null,
   "metadata": {
    "dotnet_repl_cellExecutionStartTime": "2023-07-25T21:35:27.0393572-03:00",
    "dotnet_repl_cellExecutionEndTime": "2023-07-25T21:35:27.1032453-03:00",
    "dotnet_repl_cellExecutionTime": "63.8924ms",
    "dotnet_interactive": {
     "language": "fsharp"
    },
    "polyglot_notebook": {
     "kernelName": "fsharp"
    }
   },
   "outputs": [
    {
     "data": {
      "text/html": [
       "<details open=\"open\" class=\"dni-treeview\"><summary><span class=\"dni-code-hint\"><code>Success ('\\\\', { lines = [|\"\\\\\"|]\\n                 position = { line = 0\\n                              column = 2 } })</code></span></summary><div><table><thead><tr></tr></thead><tbody><tr><td>Item</td><td><details class=\"dni-treeview\"><summary><span class=\"dni-code-hint\"><code>(\\, { lines = [|\"\\\\\"|]\\n  position = { line = 0\\n               column = 2 } })</code></span></summary><div><table><thead><tr></tr></thead><tbody><tr><td>Item1</td><td><div class=\"dni-plaintext\"><pre>\\</pre></div></td></tr><tr><td>Item2</td><td><details class=\"dni-treeview\"><summary><span class=\"dni-code-hint\"><code>{ lines = [|\"\\\\\"|]\\n  position = { line = 0\\n               column = 2 } }</code></span></summary><div><table><thead><tr></tr></thead><tbody><tr><td>lines</td><td><div class=\"dni-plaintext\"><pre>[ \\\\ ]</pre></div></td></tr><tr><td>position</td><td><details class=\"dni-treeview\"><summary><span class=\"dni-code-hint\"><code>{ line = 0\\n  column = 2 }</code></span></summary><div><table><thead><tr></tr></thead><tbody><tr><td>line</td><td><div class=\"dni-plaintext\"><pre>0</pre></div></td></tr><tr><td>column</td><td><div class=\"dni-plaintext\"><pre>2</pre></div></td></tr></tbody></table></div></details></td></tr></tbody></table></div></details></td></tr></tbody></table></div></details></td></tr></tbody></table></div></details><style>\r\n",
       ".dni-code-hint {\r\n",
       "    font-style: italic;\r\n",
       "    overflow: hidden;\r\n",
       "    white-space: nowrap;\r\n",
       "}\r\n",
       ".dni-treeview {\r\n",
       "    white-space: nowrap;\r\n",
       "}\r\n",
       ".dni-treeview td {\r\n",
       "    vertical-align: top;\r\n",
       "    text-align: start;\r\n",
       "}\r\n",
       "details.dni-treeview {\r\n",
       "    padding-left: 1em;\r\n",
       "}\r\n",
       "table td {\r\n",
       "    text-align: start;\r\n",
       "}\r\n",
       "table tr { \r\n",
       "    vertical-align: top; \r\n",
       "    margin: 0em 0px;\r\n",
       "}\r\n",
       "table tr td pre \r\n",
       "{ \r\n",
       "    vertical-align: top !important; \r\n",
       "    margin: 0em 0px !important;\r\n",
       "} \r\n",
       "table th {\r\n",
       "    text-align: start;\r\n",
       "}\r\n",
       "</style>"
      ]
     },
     "metadata": {},
     "output_type": "display_data"
    },
    {
     "name": "stdout",
     "output_type": "stream",
     "text": [
      "'\\\\'\r\n",
      "\\\r\n"
     ]
    }
   ],
   "source": [
    "//// test\n",
    "\n",
    "run jEscapedChar \"\\\\\\\\\"\n",
    "|> parserEqual (Success '\\\\')"
   ]
  },
  {
   "cell_type": "code",
   "execution_count": null,
   "metadata": {
    "dotnet_repl_cellExecutionStartTime": "2023-07-25T21:35:27.1032849-03:00",
    "dotnet_repl_cellExecutionEndTime": "2023-07-25T21:35:27.1712109-03:00",
    "dotnet_repl_cellExecutionTime": "67.931ms",
    "dotnet_interactive": {
     "language": "fsharp"
    },
    "polyglot_notebook": {
     "kernelName": "fsharp"
    }
   },
   "outputs": [
    {
     "data": {
      "text/html": [
       "<details open=\"open\" class=\"dni-treeview\"><summary><span class=\"dni-code-hint\"><code>Success ('\\009', { lines = [|\"\\t\"|]\\n                   position = { line = 0\\n                                column = 2 } })</code></span></summary><div><table><thead><tr></tr></thead><tbody><tr><td>Item</td><td><details class=\"dni-treeview\"><summary><span class=\"dni-code-hint\"><code>(\t, { lines = [|\"\\t\"|]\\n  position = { line = 0\\n               column = 2 } })</code></span></summary><div><table><thead><tr></tr></thead><tbody><tr><td>Item1</td><td><div class=\"dni-plaintext\"><pre>\t</pre></div></td></tr><tr><td>Item2</td><td><details class=\"dni-treeview\"><summary><span class=\"dni-code-hint\"><code>{ lines = [|\"\\t\"|]\\n  position = { line = 0\\n               column = 2 } }</code></span></summary><div><table><thead><tr></tr></thead><tbody><tr><td>lines</td><td><div class=\"dni-plaintext\"><pre>[ \\t ]</pre></div></td></tr><tr><td>position</td><td><details class=\"dni-treeview\"><summary><span class=\"dni-code-hint\"><code>{ line = 0\\n  column = 2 }</code></span></summary><div><table><thead><tr></tr></thead><tbody><tr><td>line</td><td><div class=\"dni-plaintext\"><pre>0</pre></div></td></tr><tr><td>column</td><td><div class=\"dni-plaintext\"><pre>2</pre></div></td></tr></tbody></table></div></details></td></tr></tbody></table></div></details></td></tr></tbody></table></div></details></td></tr></tbody></table></div></details><style>\r\n",
       ".dni-code-hint {\r\n",
       "    font-style: italic;\r\n",
       "    overflow: hidden;\r\n",
       "    white-space: nowrap;\r\n",
       "}\r\n",
       ".dni-treeview {\r\n",
       "    white-space: nowrap;\r\n",
       "}\r\n",
       ".dni-treeview td {\r\n",
       "    vertical-align: top;\r\n",
       "    text-align: start;\r\n",
       "}\r\n",
       "details.dni-treeview {\r\n",
       "    padding-left: 1em;\r\n",
       "}\r\n",
       "table td {\r\n",
       "    text-align: start;\r\n",
       "}\r\n",
       "table tr { \r\n",
       "    vertical-align: top; \r\n",
       "    margin: 0em 0px;\r\n",
       "}\r\n",
       "table tr td pre \r\n",
       "{ \r\n",
       "    vertical-align: top !important; \r\n",
       "    margin: 0em 0px !important;\r\n",
       "} \r\n",
       "table th {\r\n",
       "    text-align: start;\r\n",
       "}\r\n",
       "</style>"
      ]
     },
     "metadata": {},
     "output_type": "display_data"
    },
    {
     "name": "stdout",
     "output_type": "stream",
     "text": [
      "'\\009'\r\n",
      "\t\r\n"
     ]
    }
   ],
   "source": [
    "//// test\n",
    "\n",
    "run jEscapedChar \"\\\\t\"\n",
    "|> parserEqual (Success '\\t')"
   ]
  },
  {
   "cell_type": "code",
   "execution_count": null,
   "metadata": {
    "dotnet_repl_cellExecutionStartTime": "2023-07-25T21:35:27.1712585-03:00",
    "dotnet_repl_cellExecutionEndTime": "2023-07-25T21:35:27.2328719-03:00",
    "dotnet_repl_cellExecutionTime": "61.6185ms",
    "dotnet_interactive": {
     "language": "fsharp"
    },
    "polyglot_notebook": {
     "kernelName": "fsharp"
    }
   },
   "outputs": [
    {
     "data": {
      "text/html": [
       "<details open=\"open\" class=\"dni-treeview\"><summary><span class=\"dni-code-hint\"><code>Success ('\\\\', { lines = [|\"\\\\\"|]\\n                 position = { line = 0\\n                              column = 2 } })</code></span></summary><div><table><thead><tr></tr></thead><tbody><tr><td>Item</td><td><details class=\"dni-treeview\"><summary><span class=\"dni-code-hint\"><code>(\\, { lines = [|\"\\\\\"|]\\n  position = { line = 0\\n               column = 2 } })</code></span></summary><div><table><thead><tr></tr></thead><tbody><tr><td>Item1</td><td><div class=\"dni-plaintext\"><pre>\\</pre></div></td></tr><tr><td>Item2</td><td><details class=\"dni-treeview\"><summary><span class=\"dni-code-hint\"><code>{ lines = [|\"\\\\\"|]\\n  position = { line = 0\\n               column = 2 } }</code></span></summary><div><table><thead><tr></tr></thead><tbody><tr><td>lines</td><td><div class=\"dni-plaintext\"><pre>[ \\\\ ]</pre></div></td></tr><tr><td>position</td><td><details class=\"dni-treeview\"><summary><span class=\"dni-code-hint\"><code>{ line = 0\\n  column = 2 }</code></span></summary><div><table><thead><tr></tr></thead><tbody><tr><td>line</td><td><div class=\"dni-plaintext\"><pre>0</pre></div></td></tr><tr><td>column</td><td><div class=\"dni-plaintext\"><pre>2</pre></div></td></tr></tbody></table></div></details></td></tr></tbody></table></div></details></td></tr></tbody></table></div></details></td></tr></tbody></table></div></details><style>\r\n",
       ".dni-code-hint {\r\n",
       "    font-style: italic;\r\n",
       "    overflow: hidden;\r\n",
       "    white-space: nowrap;\r\n",
       "}\r\n",
       ".dni-treeview {\r\n",
       "    white-space: nowrap;\r\n",
       "}\r\n",
       ".dni-treeview td {\r\n",
       "    vertical-align: top;\r\n",
       "    text-align: start;\r\n",
       "}\r\n",
       "details.dni-treeview {\r\n",
       "    padding-left: 1em;\r\n",
       "}\r\n",
       "table td {\r\n",
       "    text-align: start;\r\n",
       "}\r\n",
       "table tr { \r\n",
       "    vertical-align: top; \r\n",
       "    margin: 0em 0px;\r\n",
       "}\r\n",
       "table tr td pre \r\n",
       "{ \r\n",
       "    vertical-align: top !important; \r\n",
       "    margin: 0em 0px !important;\r\n",
       "} \r\n",
       "table th {\r\n",
       "    text-align: start;\r\n",
       "}\r\n",
       "</style>"
      ]
     },
     "metadata": {},
     "output_type": "display_data"
    },
    {
     "name": "stdout",
     "output_type": "stream",
     "text": [
      "'\\\\'\r\n",
      "\\\r\n"
     ]
    }
   ],
   "source": [
    "//// test\n",
    "\n",
    "run jEscapedChar @\"\\\\\"\n",
    "|> parserEqual (Success '\\\\')"
   ]
  },
  {
   "cell_type": "code",
   "execution_count": null,
   "metadata": {
    "dotnet_repl_cellExecutionStartTime": "2023-07-25T21:35:27.2329228-03:00",
    "dotnet_repl_cellExecutionEndTime": "2023-07-25T21:35:27.3985124-03:00",
    "dotnet_repl_cellExecutionTime": "165.5937ms",
    "dotnet_interactive": {
     "language": "fsharp"
    },
    "polyglot_notebook": {
     "kernelName": "fsharp"
    }
   },
   "outputs": [
    {
     "data": {
      "text/html": [
       "<details open=\"open\" class=\"dni-treeview\"><summary><span class=\"dni-code-hint\"><code>Success ('\\010', { lines = [|\"\\n\"|]\\n                   position = { line = 0\\n                                column = 2 } })</code></span></summary><div><table><thead><tr></tr></thead><tbody><tr><td>Item</td><td><details class=\"dni-treeview\"><summary><span class=\"dni-code-hint\"><code>(\\n, { lines = [|\"\\n\"|]\\n  position = { line = 0\\n               column = 2 } })</code></span></summary><div><table><thead><tr></tr></thead><tbody><tr><td>Item1</td><td><div class=\"dni-plaintext\"><pre>\n",
       "</pre></div></td></tr><tr><td>Item2</td><td><details class=\"dni-treeview\"><summary><span class=\"dni-code-hint\"><code>{ lines = [|\"\\n\"|]\\n  position = { line = 0\\n               column = 2 } }</code></span></summary><div><table><thead><tr></tr></thead><tbody><tr><td>lines</td><td><div class=\"dni-plaintext\"><pre>[ \\n ]</pre></div></td></tr><tr><td>position</td><td><details class=\"dni-treeview\"><summary><span class=\"dni-code-hint\"><code>{ line = 0\\n  column = 2 }</code></span></summary><div><table><thead><tr></tr></thead><tbody><tr><td>line</td><td><div class=\"dni-plaintext\"><pre>0</pre></div></td></tr><tr><td>column</td><td><div class=\"dni-plaintext\"><pre>2</pre></div></td></tr></tbody></table></div></details></td></tr></tbody></table></div></details></td></tr></tbody></table></div></details></td></tr></tbody></table></div></details><style>\r\n",
       ".dni-code-hint {\r\n",
       "    font-style: italic;\r\n",
       "    overflow: hidden;\r\n",
       "    white-space: nowrap;\r\n",
       "}\r\n",
       ".dni-treeview {\r\n",
       "    white-space: nowrap;\r\n",
       "}\r\n",
       ".dni-treeview td {\r\n",
       "    vertical-align: top;\r\n",
       "    text-align: start;\r\n",
       "}\r\n",
       "details.dni-treeview {\r\n",
       "    padding-left: 1em;\r\n",
       "}\r\n",
       "table td {\r\n",
       "    text-align: start;\r\n",
       "}\r\n",
       "table tr { \r\n",
       "    vertical-align: top; \r\n",
       "    margin: 0em 0px;\r\n",
       "}\r\n",
       "table tr td pre \r\n",
       "{ \r\n",
       "    vertical-align: top !important; \r\n",
       "    margin: 0em 0px !important;\r\n",
       "} \r\n",
       "table th {\r\n",
       "    text-align: start;\r\n",
       "}\r\n",
       "</style>"
      ]
     },
     "metadata": {},
     "output_type": "display_data"
    },
    {
     "name": "stdout",
     "output_type": "stream",
     "text": [
      "'\\010'\r\n",
      "\n",
      "\r\n"
     ]
    }
   ],
   "source": [
    "//// test\n",
    "\n",
    "run jEscapedChar @\"\\n\"\n",
    "|> parserEqual (Success '\\n')"
   ]
  },
  {
   "cell_type": "code",
   "execution_count": null,
   "metadata": {
    "dotnet_repl_cellExecutionStartTime": "2023-07-25T21:35:27.3985675-03:00",
    "dotnet_repl_cellExecutionEndTime": "2023-07-25T21:35:27.4477441-03:00",
    "dotnet_repl_cellExecutionTime": "49.1807ms",
    "dotnet_interactive": {
     "language": "fsharp"
    },
    "polyglot_notebook": {
     "kernelName": "fsharp"
    }
   },
   "outputs": [
    {
     "data": {
      "text/html": [
       "<details open=\"open\" class=\"dni-treeview\"><summary><span class=\"dni-code-hint\"><code>Failure (\"escaped char\", \"Unexpected 'a'\", { currentLine = \"a\"\\n                                             line = 0\\n                                             column = 0 })</code></span></summary><div><table><thead><tr></tr></thead><tbody><tr><td>Item1</td><td>escaped char</td></tr><tr><td>Item2</td><td>Unexpected &#39;a&#39;</td></tr><tr><td>Item3</td><td><details class=\"dni-treeview\"><summary><span class=\"dni-code-hint\"><code>{ currentLine = \"a\"\\n  line = 0\\n  column = 0 }</code></span></summary><div><table><thead><tr></tr></thead><tbody><tr><td>currentLine</td><td>a</td></tr><tr><td>line</td><td><div class=\"dni-plaintext\"><pre>0</pre></div></td></tr><tr><td>column</td><td><div class=\"dni-plaintext\"><pre>0</pre></div></td></tr></tbody></table></div></details></td></tr></tbody></table></div></details><style>\r\n",
       ".dni-code-hint {\r\n",
       "    font-style: italic;\r\n",
       "    overflow: hidden;\r\n",
       "    white-space: nowrap;\r\n",
       "}\r\n",
       ".dni-treeview {\r\n",
       "    white-space: nowrap;\r\n",
       "}\r\n",
       ".dni-treeview td {\r\n",
       "    vertical-align: top;\r\n",
       "    text-align: start;\r\n",
       "}\r\n",
       "details.dni-treeview {\r\n",
       "    padding-left: 1em;\r\n",
       "}\r\n",
       "table td {\r\n",
       "    text-align: start;\r\n",
       "}\r\n",
       "table tr { \r\n",
       "    vertical-align: top; \r\n",
       "    margin: 0em 0px;\r\n",
       "}\r\n",
       "table tr td pre \r\n",
       "{ \r\n",
       "    vertical-align: top !important; \r\n",
       "    margin: 0em 0px !important;\r\n",
       "} \r\n",
       "table th {\r\n",
       "    text-align: start;\r\n",
       "}\r\n",
       "</style>"
      ]
     },
     "metadata": {},
     "output_type": "display_data"
    },
    {
     "name": "stdout",
     "output_type": "stream",
     "text": [
      "Line:0 Col:0 Error parsing escaped char\n",
      "a\n",
      "^Unexpected 'a'\r\n"
     ]
    }
   ],
   "source": [
    "//// test\n",
    "\n",
    "run jEscapedChar \"a\"\n",
    "|> parserEqual (\n",
    "    Failure (\n",
    "        \"escaped char\",\n",
    "        \"Unexpected 'a'\",\n",
    "        { currentLine = \"a\"; line = 0; column = 0 }\n",
    "    )\n",
    ")"
   ]
  },
  {
   "cell_type": "markdown",
   "metadata": {
    "dotnet_repl_cellExecutionStartTime": "2023-07-25T21:35:27.4477887-03:00",
    "dotnet_repl_cellExecutionEndTime": "2023-07-25T21:35:27.4507778-03:00",
    "dotnet_repl_cellExecutionTime": "2.9937ms"
   },
   "source": [
    "### jUnicodeChar"
   ]
  },
  {
   "cell_type": "code",
   "execution_count": null,
   "metadata": {
    "dotnet_repl_cellExecutionStartTime": "2023-07-25T21:35:27.4508158-03:00",
    "dotnet_repl_cellExecutionEndTime": "2023-07-25T21:35:27.5576746-03:00",
    "dotnet_repl_cellExecutionTime": "106.8625ms",
    "dotnet_interactive": {
     "language": "fsharp"
    },
    "polyglot_notebook": {
     "kernelName": "fsharp"
    }
   },
   "outputs": [],
   "source": [
    "let jUnicodeChar =\n",
    "    let backslash = pchar '\\\\'\n",
    "    let uChar = pchar 'u'\n",
    "    let hexdigit = anyOf (['0'..'9'] @ ['A'..'F'] @ ['a'..'f'])\n",
    "    let fourHexDigits = hexdigit .>>. hexdigit .>>. hexdigit .>>. hexdigit\n",
    "\n",
    "    let inline convertToChar (((h1, h2), h3), h4) =\n",
    "        let str = $\"%c{h1}%c{h2}%c{h3}%c{h4}\"\n",
    "        Int32.Parse (str, Globalization.NumberStyles.HexNumber) |> char\n",
    "\n",
    "    backslash >>. uChar >>. fourHexDigits\n",
    "    |>> convertToChar"
   ]
  },
  {
   "cell_type": "code",
   "execution_count": null,
   "metadata": {
    "dotnet_repl_cellExecutionStartTime": "2023-07-25T21:35:27.557707-03:00",
    "dotnet_repl_cellExecutionEndTime": "2023-07-25T21:35:27.6387177-03:00",
    "dotnet_repl_cellExecutionTime": "81.0164ms",
    "dotnet_interactive": {
     "language": "fsharp"
    },
    "polyglot_notebook": {
     "kernelName": "fsharp"
    }
   },
   "outputs": [
    {
     "data": {
      "text/html": [
       "<details open=\"open\" class=\"dni-treeview\"><summary><span class=\"dni-code-hint\"><code>Success ('☺', { lines = [|\"\\u263A\"|]\\n                position = { line = 0\\n                             column = 6 } })</code></span></summary><div><table><thead><tr></tr></thead><tbody><tr><td>Item</td><td><details class=\"dni-treeview\"><summary><span class=\"dni-code-hint\"><code>(☺, { lines = [|\"\\u263A\"|]\\n  position = { line = 0\\n               column = 6 } })</code></span></summary><div><table><thead><tr></tr></thead><tbody><tr><td>Item1</td><td><div class=\"dni-plaintext\"><pre>☺</pre></div></td></tr><tr><td>Item2</td><td><details class=\"dni-treeview\"><summary><span class=\"dni-code-hint\"><code>{ lines = [|\"\\u263A\"|]\\n  position = { line = 0\\n               column = 6 } }</code></span></summary><div><table><thead><tr></tr></thead><tbody><tr><td>lines</td><td><div class=\"dni-plaintext\"><pre>[ \\u263A ]</pre></div></td></tr><tr><td>position</td><td><details class=\"dni-treeview\"><summary><span class=\"dni-code-hint\"><code>{ line = 0\\n  column = 6 }</code></span></summary><div><table><thead><tr></tr></thead><tbody><tr><td>line</td><td><div class=\"dni-plaintext\"><pre>0</pre></div></td></tr><tr><td>column</td><td><div class=\"dni-plaintext\"><pre>6</pre></div></td></tr></tbody></table></div></details></td></tr></tbody></table></div></details></td></tr></tbody></table></div></details></td></tr></tbody></table></div></details><style>\r\n",
       ".dni-code-hint {\r\n",
       "    font-style: italic;\r\n",
       "    overflow: hidden;\r\n",
       "    white-space: nowrap;\r\n",
       "}\r\n",
       ".dni-treeview {\r\n",
       "    white-space: nowrap;\r\n",
       "}\r\n",
       ".dni-treeview td {\r\n",
       "    vertical-align: top;\r\n",
       "    text-align: start;\r\n",
       "}\r\n",
       "details.dni-treeview {\r\n",
       "    padding-left: 1em;\r\n",
       "}\r\n",
       "table td {\r\n",
       "    text-align: start;\r\n",
       "}\r\n",
       "table tr { \r\n",
       "    vertical-align: top; \r\n",
       "    margin: 0em 0px;\r\n",
       "}\r\n",
       "table tr td pre \r\n",
       "{ \r\n",
       "    vertical-align: top !important; \r\n",
       "    margin: 0em 0px !important;\r\n",
       "} \r\n",
       "table th {\r\n",
       "    text-align: start;\r\n",
       "}\r\n",
       "</style>"
      ]
     },
     "metadata": {},
     "output_type": "display_data"
    },
    {
     "name": "stdout",
     "output_type": "stream",
     "text": [
      "'☺'\r\n",
      "☺\r\n"
     ]
    }
   ],
   "source": [
    "//// test\n",
    "\n",
    "run jUnicodeChar \"\\\\u263A\"\n",
    "|> parserEqual (Success '☺')"
   ]
  },
  {
   "cell_type": "markdown",
   "metadata": {
    "dotnet_repl_cellExecutionStartTime": "2023-07-25T21:35:27.6387803-03:00",
    "dotnet_repl_cellExecutionEndTime": "2023-07-25T21:35:27.6442833-03:00",
    "dotnet_repl_cellExecutionTime": "5.5109ms"
   },
   "source": [
    "### jString"
   ]
  },
  {
   "cell_type": "code",
   "execution_count": null,
   "metadata": {
    "dotnet_repl_cellExecutionStartTime": "2023-07-25T21:35:27.6443467-03:00",
    "dotnet_repl_cellExecutionEndTime": "2023-07-25T21:35:27.7155379-03:00",
    "dotnet_repl_cellExecutionTime": "71.1949ms",
    "dotnet_interactive": {
     "language": "fsharp"
    },
    "polyglot_notebook": {
     "kernelName": "fsharp"
    }
   },
   "outputs": [],
   "source": [
    "let quotedString =\n",
    "    let quote = pchar '\\\"' <?> \"quote\"\n",
    "    let jchar = jUnescapedChar <|> jEscapedChar <|> jUnicodeChar\n",
    "\n",
    "    quote >>. manyChars jchar .>> quote"
   ]
  },
  {
   "cell_type": "code",
   "execution_count": null,
   "metadata": {
    "dotnet_repl_cellExecutionStartTime": "2023-07-25T21:35:27.7155715-03:00",
    "dotnet_repl_cellExecutionEndTime": "2023-07-25T21:35:27.7264715-03:00",
    "dotnet_repl_cellExecutionTime": "10.9043ms",
    "dotnet_interactive": {
     "language": "fsharp"
    },
    "polyglot_notebook": {
     "kernelName": "fsharp"
    }
   },
   "outputs": [],
   "source": [
    "let jString =\n",
    "    quotedString\n",
    "    |>> JString\n",
    "    <?> \"quoted string\""
   ]
  },
  {
   "cell_type": "code",
   "execution_count": null,
   "metadata": {
    "dotnet_repl_cellExecutionStartTime": "2023-07-25T21:35:27.7265128-03:00",
    "dotnet_repl_cellExecutionEndTime": "2023-07-25T21:35:27.7412911-03:00",
    "dotnet_repl_cellExecutionTime": "14.7819ms",
    "dotnet_interactive": {
     "language": "fsharp"
    },
    "polyglot_notebook": {
     "kernelName": "fsharp"
    }
   },
   "outputs": [],
   "source": [
    "//// test\n",
    "\n",
    "jValueRef <|\n",
    "    choice\n",
    "        [\n",
    "            jNull\n",
    "            jBool\n",
    "            jString\n",
    "        ]"
   ]
  },
  {
   "cell_type": "code",
   "execution_count": null,
   "metadata": {
    "dotnet_repl_cellExecutionStartTime": "2023-07-25T21:35:27.7413253-03:00",
    "dotnet_repl_cellExecutionEndTime": "2023-07-25T21:35:27.8477372-03:00",
    "dotnet_repl_cellExecutionTime": "106.4188ms",
    "dotnet_interactive": {
     "language": "fsharp"
    },
    "polyglot_notebook": {
     "kernelName": "fsharp"
    }
   },
   "outputs": [
    {
     "data": {
      "text/html": [
       "<details open=\"open\" class=\"dni-treeview\"><summary><span class=\"dni-code-hint\"><code>Success (JString \"\", { lines = [|\"\"\"\"|]\\n                       position = { line = 0\\n                                    column = 2 } })</code></span></summary><div><table><thead><tr></tr></thead><tbody><tr><td>Item</td><td><details class=\"dni-treeview\"><summary><span class=\"dni-code-hint\"><code>(JString \"\", { lines = [|\"\"\"\"|]\\n  position = { line = 0\\n               column = 2 } })</code></span></summary><div><table><thead><tr></tr></thead><tbody><tr><td>Item1</td><td><details class=\"dni-treeview\"><summary><span class=\"dni-code-hint\"><code>JString \"\"</code></span></summary><div><table><thead><tr></tr></thead><tbody><tr><td>Item</td><td></td></tr></tbody></table></div></details></td></tr><tr><td>Item2</td><td><details class=\"dni-treeview\"><summary><span class=\"dni-code-hint\"><code>{ lines = [|\"\"\"\"|]\\n  position = { line = 0\\n               column = 2 } }</code></span></summary><div><table><thead><tr></tr></thead><tbody><tr><td>lines</td><td><div class=\"dni-plaintext\"><pre>[ &quot;&quot; ]</pre></div></td></tr><tr><td>position</td><td><details class=\"dni-treeview\"><summary><span class=\"dni-code-hint\"><code>{ line = 0\\n  column = 2 }</code></span></summary><div><table><thead><tr></tr></thead><tbody><tr><td>line</td><td><div class=\"dni-plaintext\"><pre>0</pre></div></td></tr><tr><td>column</td><td><div class=\"dni-plaintext\"><pre>2</pre></div></td></tr></tbody></table></div></details></td></tr></tbody></table></div></details></td></tr></tbody></table></div></details></td></tr></tbody></table></div></details><style>\r\n",
       ".dni-code-hint {\r\n",
       "    font-style: italic;\r\n",
       "    overflow: hidden;\r\n",
       "    white-space: nowrap;\r\n",
       "}\r\n",
       ".dni-treeview {\r\n",
       "    white-space: nowrap;\r\n",
       "}\r\n",
       ".dni-treeview td {\r\n",
       "    vertical-align: top;\r\n",
       "    text-align: start;\r\n",
       "}\r\n",
       "details.dni-treeview {\r\n",
       "    padding-left: 1em;\r\n",
       "}\r\n",
       "table td {\r\n",
       "    text-align: start;\r\n",
       "}\r\n",
       "table tr { \r\n",
       "    vertical-align: top; \r\n",
       "    margin: 0em 0px;\r\n",
       "}\r\n",
       "table tr td pre \r\n",
       "{ \r\n",
       "    vertical-align: top !important; \r\n",
       "    margin: 0em 0px !important;\r\n",
       "} \r\n",
       "table th {\r\n",
       "    text-align: start;\r\n",
       "}\r\n",
       "</style>"
      ]
     },
     "metadata": {},
     "output_type": "display_data"
    },
    {
     "name": "stdout",
     "output_type": "stream",
     "text": [
      "JString \"\"\r\n",
      "JString\r\n",
      "      Item: \r\n"
     ]
    }
   ],
   "source": [
    "//// test\n",
    "\n",
    "run jString \"\\\"\\\"\"\n",
    "|> parserEqual (Success (JString \"\"))"
   ]
  },
  {
   "cell_type": "code",
   "execution_count": null,
   "metadata": {
    "dotnet_repl_cellExecutionStartTime": "2023-07-25T21:35:27.8477936-03:00",
    "dotnet_repl_cellExecutionEndTime": "2023-07-25T21:35:27.931922-03:00",
    "dotnet_repl_cellExecutionTime": "84.135ms",
    "dotnet_interactive": {
     "language": "fsharp"
    },
    "polyglot_notebook": {
     "kernelName": "fsharp"
    }
   },
   "outputs": [
    {
     "data": {
      "text/html": [
       "<details open=\"open\" class=\"dni-treeview\"><summary><span class=\"dni-code-hint\"><code>Success (JString \"a\", { lines = [|\"\"a\"\"|]\\n                        position = { line = 0\\n                                     column = 3 } })</code></span></summary><div><table><thead><tr></tr></thead><tbody><tr><td>Item</td><td><details class=\"dni-treeview\"><summary><span class=\"dni-code-hint\"><code>(JString \"a\", { lines = [|\"\"a\"\"|]\\n  position = { line = 0\\n               column = 3 } })</code></span></summary><div><table><thead><tr></tr></thead><tbody><tr><td>Item1</td><td><details class=\"dni-treeview\"><summary><span class=\"dni-code-hint\"><code>JString \"a\"</code></span></summary><div><table><thead><tr></tr></thead><tbody><tr><td>Item</td><td>a</td></tr></tbody></table></div></details></td></tr><tr><td>Item2</td><td><details class=\"dni-treeview\"><summary><span class=\"dni-code-hint\"><code>{ lines = [|\"\"a\"\"|]\\n  position = { line = 0\\n               column = 3 } }</code></span></summary><div><table><thead><tr></tr></thead><tbody><tr><td>lines</td><td><div class=\"dni-plaintext\"><pre>[ &quot;a&quot; ]</pre></div></td></tr><tr><td>position</td><td><details class=\"dni-treeview\"><summary><span class=\"dni-code-hint\"><code>{ line = 0\\n  column = 3 }</code></span></summary><div><table><thead><tr></tr></thead><tbody><tr><td>line</td><td><div class=\"dni-plaintext\"><pre>0</pre></div></td></tr><tr><td>column</td><td><div class=\"dni-plaintext\"><pre>3</pre></div></td></tr></tbody></table></div></details></td></tr></tbody></table></div></details></td></tr></tbody></table></div></details></td></tr></tbody></table></div></details><style>\r\n",
       ".dni-code-hint {\r\n",
       "    font-style: italic;\r\n",
       "    overflow: hidden;\r\n",
       "    white-space: nowrap;\r\n",
       "}\r\n",
       ".dni-treeview {\r\n",
       "    white-space: nowrap;\r\n",
       "}\r\n",
       ".dni-treeview td {\r\n",
       "    vertical-align: top;\r\n",
       "    text-align: start;\r\n",
       "}\r\n",
       "details.dni-treeview {\r\n",
       "    padding-left: 1em;\r\n",
       "}\r\n",
       "table td {\r\n",
       "    text-align: start;\r\n",
       "}\r\n",
       "table tr { \r\n",
       "    vertical-align: top; \r\n",
       "    margin: 0em 0px;\r\n",
       "}\r\n",
       "table tr td pre \r\n",
       "{ \r\n",
       "    vertical-align: top !important; \r\n",
       "    margin: 0em 0px !important;\r\n",
       "} \r\n",
       "table th {\r\n",
       "    text-align: start;\r\n",
       "}\r\n",
       "</style>"
      ]
     },
     "metadata": {},
     "output_type": "display_data"
    },
    {
     "name": "stdout",
     "output_type": "stream",
     "text": [
      "JString \"a\"\r\n",
      "JString\r\n",
      "      Item: a\r\n"
     ]
    }
   ],
   "source": [
    "//// test\n",
    "\n",
    "run jString \"\\\"a\\\"\"\n",
    "|> parserEqual (Success (JString \"a\"))"
   ]
  },
  {
   "cell_type": "code",
   "execution_count": null,
   "metadata": {
    "dotnet_repl_cellExecutionStartTime": "2023-07-25T21:35:27.9319908-03:00",
    "dotnet_repl_cellExecutionEndTime": "2023-07-25T21:35:27.997826-03:00",
    "dotnet_repl_cellExecutionTime": "65.8405ms",
    "dotnet_interactive": {
     "language": "fsharp"
    },
    "polyglot_notebook": {
     "kernelName": "fsharp"
    }
   },
   "outputs": [
    {
     "data": {
      "text/html": [
       "<details open=\"open\" class=\"dni-treeview\"><summary><span class=\"dni-code-hint\"><code>Success (JString \"ab\", { lines = [|\"\"ab\"\"|]\\n                         position = { line = 0\\n                                      column = 4 } })</code></span></summary><div><table><thead><tr></tr></thead><tbody><tr><td>Item</td><td><details class=\"dni-treeview\"><summary><span class=\"dni-code-hint\"><code>(JString \"ab\", { lines = [|\"\"ab\"\"|]\\n  position = { line = 0\\n               column = 4 } })</code></span></summary><div><table><thead><tr></tr></thead><tbody><tr><td>Item1</td><td><details class=\"dni-treeview\"><summary><span class=\"dni-code-hint\"><code>JString \"ab\"</code></span></summary><div><table><thead><tr></tr></thead><tbody><tr><td>Item</td><td>ab</td></tr></tbody></table></div></details></td></tr><tr><td>Item2</td><td><details class=\"dni-treeview\"><summary><span class=\"dni-code-hint\"><code>{ lines = [|\"\"ab\"\"|]\\n  position = { line = 0\\n               column = 4 } }</code></span></summary><div><table><thead><tr></tr></thead><tbody><tr><td>lines</td><td><div class=\"dni-plaintext\"><pre>[ &quot;ab&quot; ]</pre></div></td></tr><tr><td>position</td><td><details class=\"dni-treeview\"><summary><span class=\"dni-code-hint\"><code>{ line = 0\\n  column = 4 }</code></span></summary><div><table><thead><tr></tr></thead><tbody><tr><td>line</td><td><div class=\"dni-plaintext\"><pre>0</pre></div></td></tr><tr><td>column</td><td><div class=\"dni-plaintext\"><pre>4</pre></div></td></tr></tbody></table></div></details></td></tr></tbody></table></div></details></td></tr></tbody></table></div></details></td></tr></tbody></table></div></details><style>\r\n",
       ".dni-code-hint {\r\n",
       "    font-style: italic;\r\n",
       "    overflow: hidden;\r\n",
       "    white-space: nowrap;\r\n",
       "}\r\n",
       ".dni-treeview {\r\n",
       "    white-space: nowrap;\r\n",
       "}\r\n",
       ".dni-treeview td {\r\n",
       "    vertical-align: top;\r\n",
       "    text-align: start;\r\n",
       "}\r\n",
       "details.dni-treeview {\r\n",
       "    padding-left: 1em;\r\n",
       "}\r\n",
       "table td {\r\n",
       "    text-align: start;\r\n",
       "}\r\n",
       "table tr { \r\n",
       "    vertical-align: top; \r\n",
       "    margin: 0em 0px;\r\n",
       "}\r\n",
       "table tr td pre \r\n",
       "{ \r\n",
       "    vertical-align: top !important; \r\n",
       "    margin: 0em 0px !important;\r\n",
       "} \r\n",
       "table th {\r\n",
       "    text-align: start;\r\n",
       "}\r\n",
       "</style>"
      ]
     },
     "metadata": {},
     "output_type": "display_data"
    },
    {
     "name": "stdout",
     "output_type": "stream",
     "text": [
      "JString \"ab\"\r\n",
      "JString\r\n",
      "      Item: ab\r\n"
     ]
    }
   ],
   "source": [
    "//// test\n",
    "\n",
    "run jString \"\\\"ab\\\"\"\n",
    "|> parserEqual (Success (JString \"ab\"))"
   ]
  },
  {
   "cell_type": "code",
   "execution_count": null,
   "metadata": {
    "dotnet_repl_cellExecutionStartTime": "2023-07-25T21:35:27.9978795-03:00",
    "dotnet_repl_cellExecutionEndTime": "2023-07-25T21:35:28.0709589-03:00",
    "dotnet_repl_cellExecutionTime": "73.0838ms",
    "dotnet_interactive": {
     "language": "fsharp"
    },
    "polyglot_notebook": {
     "kernelName": "fsharp"
    }
   },
   "outputs": [
    {
     "data": {
      "text/html": [
       "<details open=\"open\" class=\"dni-treeview\"><summary><span class=\"dni-code-hint\"><code>Success (JString \"ab\tde\", { lines = [|\"\"ab\\tde\"\"|]\\n                            position = { line = 0\\n                                         column = 8 } })</code></span></summary><div><table><thead><tr></tr></thead><tbody><tr><td>Item</td><td><details class=\"dni-treeview\"><summary><span class=\"dni-code-hint\"><code>(JString \"ab\tde\", { lines = [|\"\"ab\\tde\"\"|]\\n  position = { line = 0\\n               column = 8 } })</code></span></summary><div><table><thead><tr></tr></thead><tbody><tr><td>Item1</td><td><details class=\"dni-treeview\"><summary><span class=\"dni-code-hint\"><code>JString \"ab\tde\"</code></span></summary><div><table><thead><tr></tr></thead><tbody><tr><td>Item</td><td>ab\tde</td></tr></tbody></table></div></details></td></tr><tr><td>Item2</td><td><details class=\"dni-treeview\"><summary><span class=\"dni-code-hint\"><code>{ lines = [|\"\"ab\\tde\"\"|]\\n  position = { line = 0\\n               column = 8 } }</code></span></summary><div><table><thead><tr></tr></thead><tbody><tr><td>lines</td><td><div class=\"dni-plaintext\"><pre>[ &quot;ab\\tde&quot; ]</pre></div></td></tr><tr><td>position</td><td><details class=\"dni-treeview\"><summary><span class=\"dni-code-hint\"><code>{ line = 0\\n  column = 8 }</code></span></summary><div><table><thead><tr></tr></thead><tbody><tr><td>line</td><td><div class=\"dni-plaintext\"><pre>0</pre></div></td></tr><tr><td>column</td><td><div class=\"dni-plaintext\"><pre>8</pre></div></td></tr></tbody></table></div></details></td></tr></tbody></table></div></details></td></tr></tbody></table></div></details></td></tr></tbody></table></div></details><style>\r\n",
       ".dni-code-hint {\r\n",
       "    font-style: italic;\r\n",
       "    overflow: hidden;\r\n",
       "    white-space: nowrap;\r\n",
       "}\r\n",
       ".dni-treeview {\r\n",
       "    white-space: nowrap;\r\n",
       "}\r\n",
       ".dni-treeview td {\r\n",
       "    vertical-align: top;\r\n",
       "    text-align: start;\r\n",
       "}\r\n",
       "details.dni-treeview {\r\n",
       "    padding-left: 1em;\r\n",
       "}\r\n",
       "table td {\r\n",
       "    text-align: start;\r\n",
       "}\r\n",
       "table tr { \r\n",
       "    vertical-align: top; \r\n",
       "    margin: 0em 0px;\r\n",
       "}\r\n",
       "table tr td pre \r\n",
       "{ \r\n",
       "    vertical-align: top !important; \r\n",
       "    margin: 0em 0px !important;\r\n",
       "} \r\n",
       "table th {\r\n",
       "    text-align: start;\r\n",
       "}\r\n",
       "</style>"
      ]
     },
     "metadata": {},
     "output_type": "display_data"
    },
    {
     "name": "stdout",
     "output_type": "stream",
     "text": [
      "JString \"ab\tde\"\r\n",
      "JString\r\n",
      "      Item: ab\tde\r\n"
     ]
    }
   ],
   "source": [
    "//// test\n",
    "\n",
    "run jString \"\\\"ab\\\\tde\\\"\"\n",
    "|> parserEqual (Success (JString \"ab\\tde\"))"
   ]
  },
  {
   "cell_type": "code",
   "execution_count": null,
   "metadata": {
    "dotnet_repl_cellExecutionStartTime": "2023-07-25T21:35:28.0710028-03:00",
    "dotnet_repl_cellExecutionEndTime": "2023-07-25T21:35:28.1370931-03:00",
    "dotnet_repl_cellExecutionTime": "66.0952ms",
    "dotnet_interactive": {
     "language": "fsharp"
    },
    "polyglot_notebook": {
     "kernelName": "fsharp"
    }
   },
   "outputs": [
    {
     "data": {
      "text/html": [
       "<details open=\"open\" class=\"dni-treeview\"><summary><span class=\"dni-code-hint\"><code>Success (JString \"ab☺de\", { lines = [|\"\"ab\\u263Ade\"\"|]\\n                            position = { line = 0\\n                                         column = 12 } })</code></span></summary><div><table><thead><tr></tr></thead><tbody><tr><td>Item</td><td><details class=\"dni-treeview\"><summary><span class=\"dni-code-hint\"><code>(JString \"ab☺de\", { lines = [|\"\"ab\\u263Ade\"\"|]\\n  position = { line = 0\\n               column = 12 } })</code></span></summary><div><table><thead><tr></tr></thead><tbody><tr><td>Item1</td><td><details class=\"dni-treeview\"><summary><span class=\"dni-code-hint\"><code>JString \"ab☺de\"</code></span></summary><div><table><thead><tr></tr></thead><tbody><tr><td>Item</td><td>ab☺de</td></tr></tbody></table></div></details></td></tr><tr><td>Item2</td><td><details class=\"dni-treeview\"><summary><span class=\"dni-code-hint\"><code>{ lines = [|\"\"ab\\u263Ade\"\"|]\\n  position = { line = 0\\n               column = 12 } }</code></span></summary><div><table><thead><tr></tr></thead><tbody><tr><td>lines</td><td><div class=\"dni-plaintext\"><pre>[ &quot;ab\\u263Ade&quot; ]</pre></div></td></tr><tr><td>position</td><td><details class=\"dni-treeview\"><summary><span class=\"dni-code-hint\"><code>{ line = 0\\n  column = 12 }</code></span></summary><div><table><thead><tr></tr></thead><tbody><tr><td>line</td><td><div class=\"dni-plaintext\"><pre>0</pre></div></td></tr><tr><td>column</td><td><div class=\"dni-plaintext\"><pre>12</pre></div></td></tr></tbody></table></div></details></td></tr></tbody></table></div></details></td></tr></tbody></table></div></details></td></tr></tbody></table></div></details><style>\r\n",
       ".dni-code-hint {\r\n",
       "    font-style: italic;\r\n",
       "    overflow: hidden;\r\n",
       "    white-space: nowrap;\r\n",
       "}\r\n",
       ".dni-treeview {\r\n",
       "    white-space: nowrap;\r\n",
       "}\r\n",
       ".dni-treeview td {\r\n",
       "    vertical-align: top;\r\n",
       "    text-align: start;\r\n",
       "}\r\n",
       "details.dni-treeview {\r\n",
       "    padding-left: 1em;\r\n",
       "}\r\n",
       "table td {\r\n",
       "    text-align: start;\r\n",
       "}\r\n",
       "table tr { \r\n",
       "    vertical-align: top; \r\n",
       "    margin: 0em 0px;\r\n",
       "}\r\n",
       "table tr td pre \r\n",
       "{ \r\n",
       "    vertical-align: top !important; \r\n",
       "    margin: 0em 0px !important;\r\n",
       "} \r\n",
       "table th {\r\n",
       "    text-align: start;\r\n",
       "}\r\n",
       "</style>"
      ]
     },
     "metadata": {},
     "output_type": "display_data"
    },
    {
     "name": "stdout",
     "output_type": "stream",
     "text": [
      "JString \"ab☺de\"\r\n",
      "JString\r\n",
      "      Item: ab☺de\r\n"
     ]
    }
   ],
   "source": [
    "//// test\n",
    "\n",
    "run jString \"\\\"ab\\\\u263Ade\\\"\"\n",
    "|> parserEqual (Success (JString \"ab☺de\"))"
   ]
  },
  {
   "cell_type": "markdown",
   "metadata": {
    "dotnet_repl_cellExecutionStartTime": "2023-07-25T21:35:28.1371455-03:00",
    "dotnet_repl_cellExecutionEndTime": "2023-07-25T21:35:28.1403138-03:00",
    "dotnet_repl_cellExecutionTime": "3.1721ms"
   },
   "source": [
    "### jNumber"
   ]
  },
  {
   "cell_type": "code",
   "execution_count": null,
   "metadata": {
    "dotnet_repl_cellExecutionStartTime": "2023-07-25T21:35:28.1403496-03:00",
    "dotnet_repl_cellExecutionEndTime": "2023-07-25T21:35:28.4120279-03:00",
    "dotnet_repl_cellExecutionTime": "271.6817ms",
    "dotnet_interactive": {
     "language": "fsharp"
    },
    "polyglot_notebook": {
     "kernelName": "fsharp"
    }
   },
   "outputs": [],
   "source": [
    "let jNumber =\n",
    "    let optSign = opt (pchar '-')\n",
    "\n",
    "    let zero = pstring \"0\"\n",
    "\n",
    "    let digitOneNine =\n",
    "        satisfy (fun ch -> Char.IsDigit ch && ch <> '0') \"1-9\"\n",
    "\n",
    "    let digit =\n",
    "        satisfy Char.IsDigit \"digit\"\n",
    "\n",
    "    let point = pchar '.'\n",
    "\n",
    "    let e = pchar 'e' <|> pchar 'E'\n",
    "\n",
    "    let optPlusMinus = opt (pchar '-' <|> pchar '+')\n",
    "\n",
    "    let nonZeroInt =\n",
    "        digitOneNine .>>. manyChars digit\n",
    "        |>> fun (first, rest) -> string first + rest\n",
    "\n",
    "    let intPart = zero <|> nonZeroInt\n",
    "\n",
    "    let fractionPart = point >>. manyChars1 digit\n",
    "\n",
    "    let exponentPart = e >>. optPlusMinus .>>. manyChars1 digit\n",
    "\n",
    "    let inline (|>?) opt f =\n",
    "        match opt with\n",
    "        | None -> \"\"\n",
    "        | Some x -> f x\n",
    "\n",
    "    let inline convertToJNumber (((optSign, intPart), fractionPart), expPart) =\n",
    "        let signStr =\n",
    "            optSign\n",
    "            |>? string\n",
    "\n",
    "        let fractionPartStr =\n",
    "            fractionPart\n",
    "            |>? (fun digits -> \".\" + digits)\n",
    "\n",
    "        let expPartStr =\n",
    "            expPart\n",
    "            |>? fun (optSign, digits) ->\n",
    "                let sign = optSign |>? string\n",
    "                \"e\" + sign + digits\n",
    "\n",
    "        (signStr + intPart + fractionPartStr + expPartStr)\n",
    "        |> float\n",
    "        |> JNumber\n",
    "\n",
    "    optSign .>>. intPart .>>. opt fractionPart .>>. opt exponentPart\n",
    "    |>> convertToJNumber\n",
    "    <?> \"number\""
   ]
  },
  {
   "cell_type": "code",
   "execution_count": null,
   "metadata": {
    "dotnet_repl_cellExecutionStartTime": "2023-07-25T21:35:28.4120556-03:00",
    "dotnet_repl_cellExecutionEndTime": "2023-07-25T21:35:28.4287558-03:00",
    "dotnet_repl_cellExecutionTime": "16.7038ms",
    "dotnet_interactive": {
     "language": "fsharp"
    },
    "polyglot_notebook": {
     "kernelName": "fsharp"
    }
   },
   "outputs": [],
   "source": [
    "//// test\n",
    "\n",
    "jValueRef <|\n",
    "    choice\n",
    "        [\n",
    "            jNull\n",
    "            jBool\n",
    "            jString\n",
    "            jNumber\n",
    "        ]"
   ]
  },
  {
   "cell_type": "code",
   "execution_count": null,
   "metadata": {
    "dotnet_repl_cellExecutionStartTime": "2023-07-25T21:35:28.4287844-03:00",
    "dotnet_repl_cellExecutionEndTime": "2023-07-25T21:35:28.5257671-03:00",
    "dotnet_repl_cellExecutionTime": "96.9875ms",
    "dotnet_interactive": {
     "language": "fsharp"
    },
    "polyglot_notebook": {
     "kernelName": "fsharp"
    }
   },
   "outputs": [
    {
     "data": {
      "text/html": [
       "<details open=\"open\" class=\"dni-treeview\"><summary><span class=\"dni-code-hint\"><code>Success (JNumber 123.0, { lines = [|\"123\"|]\\n                          position = { line = 0\\n                                       column = 3 } })</code></span></summary><div><table><thead><tr></tr></thead><tbody><tr><td>Item</td><td><details class=\"dni-treeview\"><summary><span class=\"dni-code-hint\"><code>(JNumber 123.0, { lines = [|\"123\"|]\\n  position = { line = 0\\n               column = 3 } })</code></span></summary><div><table><thead><tr></tr></thead><tbody><tr><td>Item1</td><td><details class=\"dni-treeview\"><summary><span class=\"dni-code-hint\"><code>JNumber 123.0</code></span></summary><div><table><thead><tr></tr></thead><tbody><tr><td>Item</td><td><div class=\"dni-plaintext\"><pre>123</pre></div></td></tr></tbody></table></div></details></td></tr><tr><td>Item2</td><td><details class=\"dni-treeview\"><summary><span class=\"dni-code-hint\"><code>{ lines = [|\"123\"|]\\n  position = { line = 0\\n               column = 3 } }</code></span></summary><div><table><thead><tr></tr></thead><tbody><tr><td>lines</td><td><div class=\"dni-plaintext\"><pre>[ 123 ]</pre></div></td></tr><tr><td>position</td><td><details class=\"dni-treeview\"><summary><span class=\"dni-code-hint\"><code>{ line = 0\\n  column = 3 }</code></span></summary><div><table><thead><tr></tr></thead><tbody><tr><td>line</td><td><div class=\"dni-plaintext\"><pre>0</pre></div></td></tr><tr><td>column</td><td><div class=\"dni-plaintext\"><pre>3</pre></div></td></tr></tbody></table></div></details></td></tr></tbody></table></div></details></td></tr></tbody></table></div></details></td></tr></tbody></table></div></details><style>\r\n",
       ".dni-code-hint {\r\n",
       "    font-style: italic;\r\n",
       "    overflow: hidden;\r\n",
       "    white-space: nowrap;\r\n",
       "}\r\n",
       ".dni-treeview {\r\n",
       "    white-space: nowrap;\r\n",
       "}\r\n",
       ".dni-treeview td {\r\n",
       "    vertical-align: top;\r\n",
       "    text-align: start;\r\n",
       "}\r\n",
       "details.dni-treeview {\r\n",
       "    padding-left: 1em;\r\n",
       "}\r\n",
       "table td {\r\n",
       "    text-align: start;\r\n",
       "}\r\n",
       "table tr { \r\n",
       "    vertical-align: top; \r\n",
       "    margin: 0em 0px;\r\n",
       "}\r\n",
       "table tr td pre \r\n",
       "{ \r\n",
       "    vertical-align: top !important; \r\n",
       "    margin: 0em 0px !important;\r\n",
       "} \r\n",
       "table th {\r\n",
       "    text-align: start;\r\n",
       "}\r\n",
       "</style>"
      ]
     },
     "metadata": {},
     "output_type": "display_data"
    },
    {
     "name": "stdout",
     "output_type": "stream",
     "text": [
      "JNumber 123.0\r\n",
      "JNumber\r\n",
      "      Item: 123\r\n"
     ]
    }
   ],
   "source": [
    "//// test\n",
    "\n",
    "run jNumber \"123\"\n",
    "|> parserEqual (Success (JNumber 123.0))"
   ]
  },
  {
   "cell_type": "code",
   "execution_count": null,
   "metadata": {
    "dotnet_repl_cellExecutionStartTime": "2023-07-25T21:35:28.5258213-03:00",
    "dotnet_repl_cellExecutionEndTime": "2023-07-25T21:35:28.5990667-03:00",
    "dotnet_repl_cellExecutionTime": "73.2492ms",
    "dotnet_interactive": {
     "language": "fsharp"
    },
    "polyglot_notebook": {
     "kernelName": "fsharp"
    }
   },
   "outputs": [
    {
     "data": {
      "text/html": [
       "<details open=\"open\" class=\"dni-treeview\"><summary><span class=\"dni-code-hint\"><code>Success (JNumber -123.0, { lines = [|\"-123\"|]\\n                           position = { line = 0\\n                                        column = 4 } })</code></span></summary><div><table><thead><tr></tr></thead><tbody><tr><td>Item</td><td><details class=\"dni-treeview\"><summary><span class=\"dni-code-hint\"><code>(JNumber -123.0, { lines = [|\"-123\"|]\\n  position = { line = 0\\n               column = 4 } })</code></span></summary><div><table><thead><tr></tr></thead><tbody><tr><td>Item1</td><td><details class=\"dni-treeview\"><summary><span class=\"dni-code-hint\"><code>JNumber -123.0</code></span></summary><div><table><thead><tr></tr></thead><tbody><tr><td>Item</td><td><div class=\"dni-plaintext\"><pre>-123</pre></div></td></tr></tbody></table></div></details></td></tr><tr><td>Item2</td><td><details class=\"dni-treeview\"><summary><span class=\"dni-code-hint\"><code>{ lines = [|\"-123\"|]\\n  position = { line = 0\\n               column = 4 } }</code></span></summary><div><table><thead><tr></tr></thead><tbody><tr><td>lines</td><td><div class=\"dni-plaintext\"><pre>[ -123 ]</pre></div></td></tr><tr><td>position</td><td><details class=\"dni-treeview\"><summary><span class=\"dni-code-hint\"><code>{ line = 0\\n  column = 4 }</code></span></summary><div><table><thead><tr></tr></thead><tbody><tr><td>line</td><td><div class=\"dni-plaintext\"><pre>0</pre></div></td></tr><tr><td>column</td><td><div class=\"dni-plaintext\"><pre>4</pre></div></td></tr></tbody></table></div></details></td></tr></tbody></table></div></details></td></tr></tbody></table></div></details></td></tr></tbody></table></div></details><style>\r\n",
       ".dni-code-hint {\r\n",
       "    font-style: italic;\r\n",
       "    overflow: hidden;\r\n",
       "    white-space: nowrap;\r\n",
       "}\r\n",
       ".dni-treeview {\r\n",
       "    white-space: nowrap;\r\n",
       "}\r\n",
       ".dni-treeview td {\r\n",
       "    vertical-align: top;\r\n",
       "    text-align: start;\r\n",
       "}\r\n",
       "details.dni-treeview {\r\n",
       "    padding-left: 1em;\r\n",
       "}\r\n",
       "table td {\r\n",
       "    text-align: start;\r\n",
       "}\r\n",
       "table tr { \r\n",
       "    vertical-align: top; \r\n",
       "    margin: 0em 0px;\r\n",
       "}\r\n",
       "table tr td pre \r\n",
       "{ \r\n",
       "    vertical-align: top !important; \r\n",
       "    margin: 0em 0px !important;\r\n",
       "} \r\n",
       "table th {\r\n",
       "    text-align: start;\r\n",
       "}\r\n",
       "</style>"
      ]
     },
     "metadata": {},
     "output_type": "display_data"
    },
    {
     "name": "stdout",
     "output_type": "stream",
     "text": [
      "JNumber -123.0\r\n",
      "JNumber\r\n",
      "      Item: -123\r\n"
     ]
    }
   ],
   "source": [
    "//// test\n",
    "\n",
    "run jNumber \"-123\"\n",
    "|> parserEqual (Success (JNumber -123.0))"
   ]
  },
  {
   "cell_type": "code",
   "execution_count": null,
   "metadata": {
    "dotnet_repl_cellExecutionStartTime": "2023-07-25T21:35:28.5991031-03:00",
    "dotnet_repl_cellExecutionEndTime": "2023-07-25T21:35:28.6701398-03:00",
    "dotnet_repl_cellExecutionTime": "71.0405ms",
    "dotnet_interactive": {
     "language": "fsharp"
    },
    "polyglot_notebook": {
     "kernelName": "fsharp"
    }
   },
   "outputs": [
    {
     "data": {
      "text/html": [
       "<details open=\"open\" class=\"dni-treeview\"><summary><span class=\"dni-code-hint\"><code>Success (JNumber 123.4, { lines = [|\"123.4\"|]\\n                          position = { line = 0\\n                                       column = 5 } })</code></span></summary><div><table><thead><tr></tr></thead><tbody><tr><td>Item</td><td><details class=\"dni-treeview\"><summary><span class=\"dni-code-hint\"><code>(JNumber 123.4, { lines = [|\"123.4\"|]\\n  position = { line = 0\\n               column = 5 } })</code></span></summary><div><table><thead><tr></tr></thead><tbody><tr><td>Item1</td><td><details class=\"dni-treeview\"><summary><span class=\"dni-code-hint\"><code>JNumber 123.4</code></span></summary><div><table><thead><tr></tr></thead><tbody><tr><td>Item</td><td><div class=\"dni-plaintext\"><pre>123.4</pre></div></td></tr></tbody></table></div></details></td></tr><tr><td>Item2</td><td><details class=\"dni-treeview\"><summary><span class=\"dni-code-hint\"><code>{ lines = [|\"123.4\"|]\\n  position = { line = 0\\n               column = 5 } }</code></span></summary><div><table><thead><tr></tr></thead><tbody><tr><td>lines</td><td><div class=\"dni-plaintext\"><pre>[ 123.4 ]</pre></div></td></tr><tr><td>position</td><td><details class=\"dni-treeview\"><summary><span class=\"dni-code-hint\"><code>{ line = 0\\n  column = 5 }</code></span></summary><div><table><thead><tr></tr></thead><tbody><tr><td>line</td><td><div class=\"dni-plaintext\"><pre>0</pre></div></td></tr><tr><td>column</td><td><div class=\"dni-plaintext\"><pre>5</pre></div></td></tr></tbody></table></div></details></td></tr></tbody></table></div></details></td></tr></tbody></table></div></details></td></tr></tbody></table></div></details><style>\r\n",
       ".dni-code-hint {\r\n",
       "    font-style: italic;\r\n",
       "    overflow: hidden;\r\n",
       "    white-space: nowrap;\r\n",
       "}\r\n",
       ".dni-treeview {\r\n",
       "    white-space: nowrap;\r\n",
       "}\r\n",
       ".dni-treeview td {\r\n",
       "    vertical-align: top;\r\n",
       "    text-align: start;\r\n",
       "}\r\n",
       "details.dni-treeview {\r\n",
       "    padding-left: 1em;\r\n",
       "}\r\n",
       "table td {\r\n",
       "    text-align: start;\r\n",
       "}\r\n",
       "table tr { \r\n",
       "    vertical-align: top; \r\n",
       "    margin: 0em 0px;\r\n",
       "}\r\n",
       "table tr td pre \r\n",
       "{ \r\n",
       "    vertical-align: top !important; \r\n",
       "    margin: 0em 0px !important;\r\n",
       "} \r\n",
       "table th {\r\n",
       "    text-align: start;\r\n",
       "}\r\n",
       "</style>"
      ]
     },
     "metadata": {},
     "output_type": "display_data"
    },
    {
     "name": "stdout",
     "output_type": "stream",
     "text": [
      "JNumber 123.4\r\n",
      "JNumber\r\n",
      "      Item: 123.4\r\n"
     ]
    }
   ],
   "source": [
    "//// test\n",
    "\n",
    "run jNumber \"123.4\"\n",
    "|> parserEqual (Success (JNumber 123.4))"
   ]
  },
  {
   "cell_type": "code",
   "execution_count": null,
   "metadata": {
    "dotnet_repl_cellExecutionStartTime": "2023-07-25T21:35:28.6701748-03:00",
    "dotnet_repl_cellExecutionEndTime": "2023-07-25T21:35:28.7298046-03:00",
    "dotnet_repl_cellExecutionTime": "59.6343ms",
    "dotnet_interactive": {
     "language": "fsharp"
    },
    "polyglot_notebook": {
     "kernelName": "fsharp"
    }
   },
   "outputs": [
    {
     "data": {
      "text/html": [
       "<details open=\"open\" class=\"dni-treeview\"><summary><span class=\"dni-code-hint\"><code>Success (JNumber -123.0, { lines = [|\"-123.\"|]\\n                           position = { line = 0\\n                                        column = 4 } })</code></span></summary><div><table><thead><tr></tr></thead><tbody><tr><td>Item</td><td><details class=\"dni-treeview\"><summary><span class=\"dni-code-hint\"><code>(JNumber -123.0, { lines = [|\"-123.\"|]\\n  position = { line = 0\\n               column = 4 } })</code></span></summary><div><table><thead><tr></tr></thead><tbody><tr><td>Item1</td><td><details class=\"dni-treeview\"><summary><span class=\"dni-code-hint\"><code>JNumber -123.0</code></span></summary><div><table><thead><tr></tr></thead><tbody><tr><td>Item</td><td><div class=\"dni-plaintext\"><pre>-123</pre></div></td></tr></tbody></table></div></details></td></tr><tr><td>Item2</td><td><details class=\"dni-treeview\"><summary><span class=\"dni-code-hint\"><code>{ lines = [|\"-123.\"|]\\n  position = { line = 0\\n               column = 4 } }</code></span></summary><div><table><thead><tr></tr></thead><tbody><tr><td>lines</td><td><div class=\"dni-plaintext\"><pre>[ -123. ]</pre></div></td></tr><tr><td>position</td><td><details class=\"dni-treeview\"><summary><span class=\"dni-code-hint\"><code>{ line = 0\\n  column = 4 }</code></span></summary><div><table><thead><tr></tr></thead><tbody><tr><td>line</td><td><div class=\"dni-plaintext\"><pre>0</pre></div></td></tr><tr><td>column</td><td><div class=\"dni-plaintext\"><pre>4</pre></div></td></tr></tbody></table></div></details></td></tr></tbody></table></div></details></td></tr></tbody></table></div></details></td></tr></tbody></table></div></details><style>\r\n",
       ".dni-code-hint {\r\n",
       "    font-style: italic;\r\n",
       "    overflow: hidden;\r\n",
       "    white-space: nowrap;\r\n",
       "}\r\n",
       ".dni-treeview {\r\n",
       "    white-space: nowrap;\r\n",
       "}\r\n",
       ".dni-treeview td {\r\n",
       "    vertical-align: top;\r\n",
       "    text-align: start;\r\n",
       "}\r\n",
       "details.dni-treeview {\r\n",
       "    padding-left: 1em;\r\n",
       "}\r\n",
       "table td {\r\n",
       "    text-align: start;\r\n",
       "}\r\n",
       "table tr { \r\n",
       "    vertical-align: top; \r\n",
       "    margin: 0em 0px;\r\n",
       "}\r\n",
       "table tr td pre \r\n",
       "{ \r\n",
       "    vertical-align: top !important; \r\n",
       "    margin: 0em 0px !important;\r\n",
       "} \r\n",
       "table th {\r\n",
       "    text-align: start;\r\n",
       "}\r\n",
       "</style>"
      ]
     },
     "metadata": {},
     "output_type": "display_data"
    },
    {
     "name": "stdout",
     "output_type": "stream",
     "text": [
      "JNumber -123.0\r\n",
      "JNumber\r\n",
      "      Item: -123\r\n"
     ]
    }
   ],
   "source": [
    "//// test\n",
    "\n",
    "run jNumber \"-123.\"\n",
    "|> parserEqual (Success (JNumber -123.0))"
   ]
  },
  {
   "cell_type": "code",
   "execution_count": null,
   "metadata": {
    "dotnet_repl_cellExecutionStartTime": "2023-07-25T21:35:28.7298513-03:00",
    "dotnet_repl_cellExecutionEndTime": "2023-07-25T21:35:28.7895926-03:00",
    "dotnet_repl_cellExecutionTime": "59.7449ms",
    "dotnet_interactive": {
     "language": "fsharp"
    },
    "polyglot_notebook": {
     "kernelName": "fsharp"
    }
   },
   "outputs": [
    {
     "data": {
      "text/html": [
       "<details open=\"open\" class=\"dni-treeview\"><summary><span class=\"dni-code-hint\"><code>Success (JNumber 0.0, { lines = [|\"00.1\"|]\\n                        position = { line = 0\\n                                     column = 1 } })</code></span></summary><div><table><thead><tr></tr></thead><tbody><tr><td>Item</td><td><details class=\"dni-treeview\"><summary><span class=\"dni-code-hint\"><code>(JNumber 0.0, { lines = [|\"00.1\"|]\\n  position = { line = 0\\n               column = 1 } })</code></span></summary><div><table><thead><tr></tr></thead><tbody><tr><td>Item1</td><td><details class=\"dni-treeview\"><summary><span class=\"dni-code-hint\"><code>JNumber 0.0</code></span></summary><div><table><thead><tr></tr></thead><tbody><tr><td>Item</td><td><div class=\"dni-plaintext\"><pre>0</pre></div></td></tr></tbody></table></div></details></td></tr><tr><td>Item2</td><td><details class=\"dni-treeview\"><summary><span class=\"dni-code-hint\"><code>{ lines = [|\"00.1\"|]\\n  position = { line = 0\\n               column = 1 } }</code></span></summary><div><table><thead><tr></tr></thead><tbody><tr><td>lines</td><td><div class=\"dni-plaintext\"><pre>[ 00.1 ]</pre></div></td></tr><tr><td>position</td><td><details class=\"dni-treeview\"><summary><span class=\"dni-code-hint\"><code>{ line = 0\\n  column = 1 }</code></span></summary><div><table><thead><tr></tr></thead><tbody><tr><td>line</td><td><div class=\"dni-plaintext\"><pre>0</pre></div></td></tr><tr><td>column</td><td><div class=\"dni-plaintext\"><pre>1</pre></div></td></tr></tbody></table></div></details></td></tr></tbody></table></div></details></td></tr></tbody></table></div></details></td></tr></tbody></table></div></details><style>\r\n",
       ".dni-code-hint {\r\n",
       "    font-style: italic;\r\n",
       "    overflow: hidden;\r\n",
       "    white-space: nowrap;\r\n",
       "}\r\n",
       ".dni-treeview {\r\n",
       "    white-space: nowrap;\r\n",
       "}\r\n",
       ".dni-treeview td {\r\n",
       "    vertical-align: top;\r\n",
       "    text-align: start;\r\n",
       "}\r\n",
       "details.dni-treeview {\r\n",
       "    padding-left: 1em;\r\n",
       "}\r\n",
       "table td {\r\n",
       "    text-align: start;\r\n",
       "}\r\n",
       "table tr { \r\n",
       "    vertical-align: top; \r\n",
       "    margin: 0em 0px;\r\n",
       "}\r\n",
       "table tr td pre \r\n",
       "{ \r\n",
       "    vertical-align: top !important; \r\n",
       "    margin: 0em 0px !important;\r\n",
       "} \r\n",
       "table th {\r\n",
       "    text-align: start;\r\n",
       "}\r\n",
       "</style>"
      ]
     },
     "metadata": {},
     "output_type": "display_data"
    },
    {
     "name": "stdout",
     "output_type": "stream",
     "text": [
      "JNumber 0.0\r\n",
      "JNumber\r\n",
      "      Item: 0\r\n"
     ]
    }
   ],
   "source": [
    "//// test\n",
    "\n",
    "run jNumber \"00.1\"\n",
    "|> parserEqual (Success (JNumber 0.0))"
   ]
  },
  {
   "cell_type": "code",
   "execution_count": null,
   "metadata": {
    "dotnet_repl_cellExecutionStartTime": "2023-07-25T21:35:28.7896372-03:00",
    "dotnet_repl_cellExecutionEndTime": "2023-07-25T21:35:28.8103307-03:00",
    "dotnet_repl_cellExecutionTime": "20.6973ms",
    "dotnet_interactive": {
     "language": "fsharp"
    },
    "polyglot_notebook": {
     "kernelName": "fsharp"
    }
   },
   "outputs": [],
   "source": [
    "//// test\n",
    "\n",
    "let jNumber_ = jNumber .>> spaces1"
   ]
  },
  {
   "cell_type": "code",
   "execution_count": null,
   "metadata": {
    "dotnet_repl_cellExecutionStartTime": "2023-07-25T21:35:28.8103872-03:00",
    "dotnet_repl_cellExecutionEndTime": "2023-07-25T21:35:28.8729666-03:00",
    "dotnet_repl_cellExecutionTime": "62.5839ms",
    "dotnet_interactive": {
     "language": "fsharp"
    },
    "polyglot_notebook": {
     "kernelName": "fsharp"
    }
   },
   "outputs": [
    {
     "data": {
      "text/html": [
       "<details open=\"open\" class=\"dni-treeview\"><summary><span class=\"dni-code-hint\"><code>Success (JNumber 123.0, { lines = [|\"123\"|]\\n                          position = { line = 1\\n                                       column = 0 } })</code></span></summary><div><table><thead><tr></tr></thead><tbody><tr><td>Item</td><td><details class=\"dni-treeview\"><summary><span class=\"dni-code-hint\"><code>(JNumber 123.0, { lines = [|\"123\"|]\\n  position = { line = 1\\n               column = 0 } })</code></span></summary><div><table><thead><tr></tr></thead><tbody><tr><td>Item1</td><td><details class=\"dni-treeview\"><summary><span class=\"dni-code-hint\"><code>JNumber 123.0</code></span></summary><div><table><thead><tr></tr></thead><tbody><tr><td>Item</td><td><div class=\"dni-plaintext\"><pre>123</pre></div></td></tr></tbody></table></div></details></td></tr><tr><td>Item2</td><td><details class=\"dni-treeview\"><summary><span class=\"dni-code-hint\"><code>{ lines = [|\"123\"|]\\n  position = { line = 1\\n               column = 0 } }</code></span></summary><div><table><thead><tr></tr></thead><tbody><tr><td>lines</td><td><div class=\"dni-plaintext\"><pre>[ 123 ]</pre></div></td></tr><tr><td>position</td><td><details class=\"dni-treeview\"><summary><span class=\"dni-code-hint\"><code>{ line = 1\\n  column = 0 }</code></span></summary><div><table><thead><tr></tr></thead><tbody><tr><td>line</td><td><div class=\"dni-plaintext\"><pre>1</pre></div></td></tr><tr><td>column</td><td><div class=\"dni-plaintext\"><pre>0</pre></div></td></tr></tbody></table></div></details></td></tr></tbody></table></div></details></td></tr></tbody></table></div></details></td></tr></tbody></table></div></details><style>\r\n",
       ".dni-code-hint {\r\n",
       "    font-style: italic;\r\n",
       "    overflow: hidden;\r\n",
       "    white-space: nowrap;\r\n",
       "}\r\n",
       ".dni-treeview {\r\n",
       "    white-space: nowrap;\r\n",
       "}\r\n",
       ".dni-treeview td {\r\n",
       "    vertical-align: top;\r\n",
       "    text-align: start;\r\n",
       "}\r\n",
       "details.dni-treeview {\r\n",
       "    padding-left: 1em;\r\n",
       "}\r\n",
       "table td {\r\n",
       "    text-align: start;\r\n",
       "}\r\n",
       "table tr { \r\n",
       "    vertical-align: top; \r\n",
       "    margin: 0em 0px;\r\n",
       "}\r\n",
       "table tr td pre \r\n",
       "{ \r\n",
       "    vertical-align: top !important; \r\n",
       "    margin: 0em 0px !important;\r\n",
       "} \r\n",
       "table th {\r\n",
       "    text-align: start;\r\n",
       "}\r\n",
       "</style>"
      ]
     },
     "metadata": {},
     "output_type": "display_data"
    },
    {
     "name": "stdout",
     "output_type": "stream",
     "text": [
      "JNumber 123.0\r\n",
      "JNumber\r\n",
      "      Item: 123\r\n"
     ]
    }
   ],
   "source": [
    "//// test\n",
    "\n",
    "run jNumber_ \"123\"\n",
    "|> parserEqual (Success (JNumber 123.0))"
   ]
  },
  {
   "cell_type": "code",
   "execution_count": null,
   "metadata": {
    "dotnet_repl_cellExecutionStartTime": "2023-07-25T21:35:28.8731317-03:00",
    "dotnet_repl_cellExecutionEndTime": "2023-07-25T21:35:28.9354759-03:00",
    "dotnet_repl_cellExecutionTime": "62.3466ms",
    "dotnet_interactive": {
     "language": "fsharp"
    },
    "polyglot_notebook": {
     "kernelName": "fsharp"
    }
   },
   "outputs": [
    {
     "data": {
      "text/html": [
       "<details open=\"open\" class=\"dni-treeview\"><summary><span class=\"dni-code-hint\"><code>Success (JNumber -123.0, { lines = [|\"-123\"|]\\n                           position = { line = 1\\n                                        column = 0 } })</code></span></summary><div><table><thead><tr></tr></thead><tbody><tr><td>Item</td><td><details class=\"dni-treeview\"><summary><span class=\"dni-code-hint\"><code>(JNumber -123.0, { lines = [|\"-123\"|]\\n  position = { line = 1\\n               column = 0 } })</code></span></summary><div><table><thead><tr></tr></thead><tbody><tr><td>Item1</td><td><details class=\"dni-treeview\"><summary><span class=\"dni-code-hint\"><code>JNumber -123.0</code></span></summary><div><table><thead><tr></tr></thead><tbody><tr><td>Item</td><td><div class=\"dni-plaintext\"><pre>-123</pre></div></td></tr></tbody></table></div></details></td></tr><tr><td>Item2</td><td><details class=\"dni-treeview\"><summary><span class=\"dni-code-hint\"><code>{ lines = [|\"-123\"|]\\n  position = { line = 1\\n               column = 0 } }</code></span></summary><div><table><thead><tr></tr></thead><tbody><tr><td>lines</td><td><div class=\"dni-plaintext\"><pre>[ -123 ]</pre></div></td></tr><tr><td>position</td><td><details class=\"dni-treeview\"><summary><span class=\"dni-code-hint\"><code>{ line = 1\\n  column = 0 }</code></span></summary><div><table><thead><tr></tr></thead><tbody><tr><td>line</td><td><div class=\"dni-plaintext\"><pre>1</pre></div></td></tr><tr><td>column</td><td><div class=\"dni-plaintext\"><pre>0</pre></div></td></tr></tbody></table></div></details></td></tr></tbody></table></div></details></td></tr></tbody></table></div></details></td></tr></tbody></table></div></details><style>\r\n",
       ".dni-code-hint {\r\n",
       "    font-style: italic;\r\n",
       "    overflow: hidden;\r\n",
       "    white-space: nowrap;\r\n",
       "}\r\n",
       ".dni-treeview {\r\n",
       "    white-space: nowrap;\r\n",
       "}\r\n",
       ".dni-treeview td {\r\n",
       "    vertical-align: top;\r\n",
       "    text-align: start;\r\n",
       "}\r\n",
       "details.dni-treeview {\r\n",
       "    padding-left: 1em;\r\n",
       "}\r\n",
       "table td {\r\n",
       "    text-align: start;\r\n",
       "}\r\n",
       "table tr { \r\n",
       "    vertical-align: top; \r\n",
       "    margin: 0em 0px;\r\n",
       "}\r\n",
       "table tr td pre \r\n",
       "{ \r\n",
       "    vertical-align: top !important; \r\n",
       "    margin: 0em 0px !important;\r\n",
       "} \r\n",
       "table th {\r\n",
       "    text-align: start;\r\n",
       "}\r\n",
       "</style>"
      ]
     },
     "metadata": {},
     "output_type": "display_data"
    },
    {
     "name": "stdout",
     "output_type": "stream",
     "text": [
      "JNumber -123.0\r\n",
      "JNumber\r\n",
      "      Item: -123\r\n"
     ]
    }
   ],
   "source": [
    "//// test\n",
    "\n",
    "run jNumber_ \"-123\"\n",
    "|> parserEqual (Success (JNumber -123.0))"
   ]
  },
  {
   "cell_type": "code",
   "execution_count": null,
   "metadata": {
    "dotnet_repl_cellExecutionStartTime": "2023-07-25T21:35:28.9355124-03:00",
    "dotnet_repl_cellExecutionEndTime": "2023-07-25T21:35:28.9875788-03:00",
    "dotnet_repl_cellExecutionTime": "52.0708ms",
    "dotnet_interactive": {
     "language": "fsharp"
    },
    "polyglot_notebook": {
     "kernelName": "fsharp"
    }
   },
   "outputs": [
    {
     "data": {
      "text/html": [
       "<details open=\"open\" class=\"dni-treeview\"><summary><span class=\"dni-code-hint\"><code>Failure\\n  (\"number andThen many1 whitespace\", \"Unexpected '.'\", { currentLine = \"-123.\"\\n                                                          line = 0\\n                                                          column = 4 })</code></span></summary><div><table><thead><tr></tr></thead><tbody><tr><td>Item1</td><td>number andThen many1 whitespace</td></tr><tr><td>Item2</td><td>Unexpected &#39;.&#39;</td></tr><tr><td>Item3</td><td><details class=\"dni-treeview\"><summary><span class=\"dni-code-hint\"><code>{ currentLine = \"-123.\"\\n  line = 0\\n  column = 4 }</code></span></summary><div><table><thead><tr></tr></thead><tbody><tr><td>currentLine</td><td>-123.</td></tr><tr><td>line</td><td><div class=\"dni-plaintext\"><pre>0</pre></div></td></tr><tr><td>column</td><td><div class=\"dni-plaintext\"><pre>4</pre></div></td></tr></tbody></table></div></details></td></tr></tbody></table></div></details><style>\r\n",
       ".dni-code-hint {\r\n",
       "    font-style: italic;\r\n",
       "    overflow: hidden;\r\n",
       "    white-space: nowrap;\r\n",
       "}\r\n",
       ".dni-treeview {\r\n",
       "    white-space: nowrap;\r\n",
       "}\r\n",
       ".dni-treeview td {\r\n",
       "    vertical-align: top;\r\n",
       "    text-align: start;\r\n",
       "}\r\n",
       "details.dni-treeview {\r\n",
       "    padding-left: 1em;\r\n",
       "}\r\n",
       "table td {\r\n",
       "    text-align: start;\r\n",
       "}\r\n",
       "table tr { \r\n",
       "    vertical-align: top; \r\n",
       "    margin: 0em 0px;\r\n",
       "}\r\n",
       "table tr td pre \r\n",
       "{ \r\n",
       "    vertical-align: top !important; \r\n",
       "    margin: 0em 0px !important;\r\n",
       "} \r\n",
       "table th {\r\n",
       "    text-align: start;\r\n",
       "}\r\n",
       "</style>"
      ]
     },
     "metadata": {},
     "output_type": "display_data"
    },
    {
     "name": "stdout",
     "output_type": "stream",
     "text": [
      "Line:0 Col:4 Error parsing number andThen many1 whitespace\n",
      "-123.\n",
      "    ^Unexpected '.'\r\n"
     ]
    }
   ],
   "source": [
    "//// test\n",
    "\n",
    "run jNumber_ \"-123.\"\n",
    "|> parserEqual (\n",
    "    Failure (\n",
    "        \"number andThen many1 whitespace\",\n",
    "        \"Unexpected '.'\",\n",
    "        { currentLine = \"-123.\"; line = 0; column = 4 }\n",
    "    )\n",
    ")"
   ]
  },
  {
   "cell_type": "code",
   "execution_count": null,
   "metadata": {
    "dotnet_repl_cellExecutionStartTime": "2023-07-25T21:35:28.9876218-03:00",
    "dotnet_repl_cellExecutionEndTime": "2023-07-25T21:35:29.051424-03:00",
    "dotnet_repl_cellExecutionTime": "63.8065ms",
    "dotnet_interactive": {
     "language": "fsharp"
    },
    "polyglot_notebook": {
     "kernelName": "fsharp"
    }
   },
   "outputs": [
    {
     "data": {
      "text/html": [
       "<details open=\"open\" class=\"dni-treeview\"><summary><span class=\"dni-code-hint\"><code>Success (JNumber 123.4, { lines = [|\"123.4\"|]\\n                          position = { line = 1\\n                                       column = 0 } })</code></span></summary><div><table><thead><tr></tr></thead><tbody><tr><td>Item</td><td><details class=\"dni-treeview\"><summary><span class=\"dni-code-hint\"><code>(JNumber 123.4, { lines = [|\"123.4\"|]\\n  position = { line = 1\\n               column = 0 } })</code></span></summary><div><table><thead><tr></tr></thead><tbody><tr><td>Item1</td><td><details class=\"dni-treeview\"><summary><span class=\"dni-code-hint\"><code>JNumber 123.4</code></span></summary><div><table><thead><tr></tr></thead><tbody><tr><td>Item</td><td><div class=\"dni-plaintext\"><pre>123.4</pre></div></td></tr></tbody></table></div></details></td></tr><tr><td>Item2</td><td><details class=\"dni-treeview\"><summary><span class=\"dni-code-hint\"><code>{ lines = [|\"123.4\"|]\\n  position = { line = 1\\n               column = 0 } }</code></span></summary><div><table><thead><tr></tr></thead><tbody><tr><td>lines</td><td><div class=\"dni-plaintext\"><pre>[ 123.4 ]</pre></div></td></tr><tr><td>position</td><td><details class=\"dni-treeview\"><summary><span class=\"dni-code-hint\"><code>{ line = 1\\n  column = 0 }</code></span></summary><div><table><thead><tr></tr></thead><tbody><tr><td>line</td><td><div class=\"dni-plaintext\"><pre>1</pre></div></td></tr><tr><td>column</td><td><div class=\"dni-plaintext\"><pre>0</pre></div></td></tr></tbody></table></div></details></td></tr></tbody></table></div></details></td></tr></tbody></table></div></details></td></tr></tbody></table></div></details><style>\r\n",
       ".dni-code-hint {\r\n",
       "    font-style: italic;\r\n",
       "    overflow: hidden;\r\n",
       "    white-space: nowrap;\r\n",
       "}\r\n",
       ".dni-treeview {\r\n",
       "    white-space: nowrap;\r\n",
       "}\r\n",
       ".dni-treeview td {\r\n",
       "    vertical-align: top;\r\n",
       "    text-align: start;\r\n",
       "}\r\n",
       "details.dni-treeview {\r\n",
       "    padding-left: 1em;\r\n",
       "}\r\n",
       "table td {\r\n",
       "    text-align: start;\r\n",
       "}\r\n",
       "table tr { \r\n",
       "    vertical-align: top; \r\n",
       "    margin: 0em 0px;\r\n",
       "}\r\n",
       "table tr td pre \r\n",
       "{ \r\n",
       "    vertical-align: top !important; \r\n",
       "    margin: 0em 0px !important;\r\n",
       "} \r\n",
       "table th {\r\n",
       "    text-align: start;\r\n",
       "}\r\n",
       "</style>"
      ]
     },
     "metadata": {},
     "output_type": "display_data"
    },
    {
     "name": "stdout",
     "output_type": "stream",
     "text": [
      "JNumber 123.4\r\n",
      "JNumber\r\n",
      "      Item: 123.4\r\n"
     ]
    }
   ],
   "source": [
    "//// test\n",
    "\n",
    "run jNumber_ \"123.4\"\n",
    "|> parserEqual (Success (JNumber 123.4))"
   ]
  },
  {
   "cell_type": "code",
   "execution_count": null,
   "metadata": {
    "dotnet_repl_cellExecutionStartTime": "2023-07-25T21:35:29.0514639-03:00",
    "dotnet_repl_cellExecutionEndTime": "2023-07-25T21:35:29.1129778-03:00",
    "dotnet_repl_cellExecutionTime": "61.5186ms",
    "dotnet_interactive": {
     "language": "fsharp"
    },
    "polyglot_notebook": {
     "kernelName": "fsharp"
    }
   },
   "outputs": [
    {
     "data": {
      "text/html": [
       "<details open=\"open\" class=\"dni-treeview\"><summary><span class=\"dni-code-hint\"><code>Failure\\n  (\"number andThen many1 whitespace\", \"Unexpected '0'\", { currentLine = \"00.4\"\\n                                                          line = 0\\n                                                          column = 1 })</code></span></summary><div><table><thead><tr></tr></thead><tbody><tr><td>Item1</td><td>number andThen many1 whitespace</td></tr><tr><td>Item2</td><td>Unexpected &#39;0&#39;</td></tr><tr><td>Item3</td><td><details class=\"dni-treeview\"><summary><span class=\"dni-code-hint\"><code>{ currentLine = \"00.4\"\\n  line = 0\\n  column = 1 }</code></span></summary><div><table><thead><tr></tr></thead><tbody><tr><td>currentLine</td><td>00.4</td></tr><tr><td>line</td><td><div class=\"dni-plaintext\"><pre>0</pre></div></td></tr><tr><td>column</td><td><div class=\"dni-plaintext\"><pre>1</pre></div></td></tr></tbody></table></div></details></td></tr></tbody></table></div></details><style>\r\n",
       ".dni-code-hint {\r\n",
       "    font-style: italic;\r\n",
       "    overflow: hidden;\r\n",
       "    white-space: nowrap;\r\n",
       "}\r\n",
       ".dni-treeview {\r\n",
       "    white-space: nowrap;\r\n",
       "}\r\n",
       ".dni-treeview td {\r\n",
       "    vertical-align: top;\r\n",
       "    text-align: start;\r\n",
       "}\r\n",
       "details.dni-treeview {\r\n",
       "    padding-left: 1em;\r\n",
       "}\r\n",
       "table td {\r\n",
       "    text-align: start;\r\n",
       "}\r\n",
       "table tr { \r\n",
       "    vertical-align: top; \r\n",
       "    margin: 0em 0px;\r\n",
       "}\r\n",
       "table tr td pre \r\n",
       "{ \r\n",
       "    vertical-align: top !important; \r\n",
       "    margin: 0em 0px !important;\r\n",
       "} \r\n",
       "table th {\r\n",
       "    text-align: start;\r\n",
       "}\r\n",
       "</style>"
      ]
     },
     "metadata": {},
     "output_type": "display_data"
    },
    {
     "name": "stdout",
     "output_type": "stream",
     "text": [
      "Line:0 Col:1 Error parsing number andThen many1 whitespace\n",
      "00.4\n",
      " ^Unexpected '0'\r\n"
     ]
    }
   ],
   "source": [
    "//// test\n",
    "\n",
    "run jNumber_ \"00.4\"\n",
    "|> parserEqual (\n",
    "    Failure (\n",
    "        \"number andThen many1 whitespace\",\n",
    "        \"Unexpected '0'\",\n",
    "        { currentLine = \"00.4\"; line = 0; column = 1 }\n",
    "    )\n",
    ")"
   ]
  },
  {
   "cell_type": "code",
   "execution_count": null,
   "metadata": {
    "dotnet_repl_cellExecutionStartTime": "2023-07-25T21:35:29.1130168-03:00",
    "dotnet_repl_cellExecutionEndTime": "2023-07-25T21:35:29.1901565-03:00",
    "dotnet_repl_cellExecutionTime": "77.1441ms",
    "dotnet_interactive": {
     "language": "fsharp"
    },
    "polyglot_notebook": {
     "kernelName": "fsharp"
    }
   },
   "outputs": [
    {
     "data": {
      "text/html": [
       "<details open=\"open\" class=\"dni-treeview\"><summary><span class=\"dni-code-hint\"><code>Success (JNumber 1230000.0, { lines = [|\"123e4\"|]\\n                              position = { line = 1\\n                                           column = 0 } })</code></span></summary><div><table><thead><tr></tr></thead><tbody><tr><td>Item</td><td><details class=\"dni-treeview\"><summary><span class=\"dni-code-hint\"><code>(JNumber 1230000.0, { lines = [|\"123e4\"|]\\n  position = { line = 1\\n               column = 0 } })</code></span></summary><div><table><thead><tr></tr></thead><tbody><tr><td>Item1</td><td><details class=\"dni-treeview\"><summary><span class=\"dni-code-hint\"><code>JNumber 1230000.0</code></span></summary><div><table><thead><tr></tr></thead><tbody><tr><td>Item</td><td><div class=\"dni-plaintext\"><pre>1230000</pre></div></td></tr></tbody></table></div></details></td></tr><tr><td>Item2</td><td><details class=\"dni-treeview\"><summary><span class=\"dni-code-hint\"><code>{ lines = [|\"123e4\"|]\\n  position = { line = 1\\n               column = 0 } }</code></span></summary><div><table><thead><tr></tr></thead><tbody><tr><td>lines</td><td><div class=\"dni-plaintext\"><pre>[ 123e4 ]</pre></div></td></tr><tr><td>position</td><td><details class=\"dni-treeview\"><summary><span class=\"dni-code-hint\"><code>{ line = 1\\n  column = 0 }</code></span></summary><div><table><thead><tr></tr></thead><tbody><tr><td>line</td><td><div class=\"dni-plaintext\"><pre>1</pre></div></td></tr><tr><td>column</td><td><div class=\"dni-plaintext\"><pre>0</pre></div></td></tr></tbody></table></div></details></td></tr></tbody></table></div></details></td></tr></tbody></table></div></details></td></tr></tbody></table></div></details><style>\r\n",
       ".dni-code-hint {\r\n",
       "    font-style: italic;\r\n",
       "    overflow: hidden;\r\n",
       "    white-space: nowrap;\r\n",
       "}\r\n",
       ".dni-treeview {\r\n",
       "    white-space: nowrap;\r\n",
       "}\r\n",
       ".dni-treeview td {\r\n",
       "    vertical-align: top;\r\n",
       "    text-align: start;\r\n",
       "}\r\n",
       "details.dni-treeview {\r\n",
       "    padding-left: 1em;\r\n",
       "}\r\n",
       "table td {\r\n",
       "    text-align: start;\r\n",
       "}\r\n",
       "table tr { \r\n",
       "    vertical-align: top; \r\n",
       "    margin: 0em 0px;\r\n",
       "}\r\n",
       "table tr td pre \r\n",
       "{ \r\n",
       "    vertical-align: top !important; \r\n",
       "    margin: 0em 0px !important;\r\n",
       "} \r\n",
       "table th {\r\n",
       "    text-align: start;\r\n",
       "}\r\n",
       "</style>"
      ]
     },
     "metadata": {},
     "output_type": "display_data"
    },
    {
     "name": "stdout",
     "output_type": "stream",
     "text": [
      "JNumber 1230000.0\r\n",
      "JNumber\r\n",
      "      Item: 1230000\r\n"
     ]
    }
   ],
   "source": [
    "//// test\n",
    "\n",
    "run jNumber_ \"123e4\"\n",
    "|> parserEqual (Success (JNumber 1230000.0))"
   ]
  },
  {
   "cell_type": "code",
   "execution_count": null,
   "metadata": {
    "dotnet_repl_cellExecutionStartTime": "2023-07-25T21:35:29.1901981-03:00",
    "dotnet_repl_cellExecutionEndTime": "2023-07-25T21:35:29.2686994-03:00",
    "dotnet_repl_cellExecutionTime": "78.5072ms",
    "dotnet_interactive": {
     "language": "fsharp"
    },
    "polyglot_notebook": {
     "kernelName": "fsharp"
    }
   },
   "outputs": [
    {
     "data": {
      "text/html": [
       "<details open=\"open\" class=\"dni-treeview\"><summary><span class=\"dni-code-hint\"><code>Success (JNumber 12340000.0, { lines = [|\"123.4e5\"|]\\n                               position = { line = 1\\n                                            column = 0 } })</code></span></summary><div><table><thead><tr></tr></thead><tbody><tr><td>Item</td><td><details class=\"dni-treeview\"><summary><span class=\"dni-code-hint\"><code>(JNumber 12340000.0, { lines = [|\"123.4e5\"|]\\n  position = { line = 1\\n               column = 0 } })</code></span></summary><div><table><thead><tr></tr></thead><tbody><tr><td>Item1</td><td><details class=\"dni-treeview\"><summary><span class=\"dni-code-hint\"><code>JNumber 12340000.0</code></span></summary><div><table><thead><tr></tr></thead><tbody><tr><td>Item</td><td><div class=\"dni-plaintext\"><pre>12340000</pre></div></td></tr></tbody></table></div></details></td></tr><tr><td>Item2</td><td><details class=\"dni-treeview\"><summary><span class=\"dni-code-hint\"><code>{ lines = [|\"123.4e5\"|]\\n  position = { line = 1\\n               column = 0 } }</code></span></summary><div><table><thead><tr></tr></thead><tbody><tr><td>lines</td><td><div class=\"dni-plaintext\"><pre>[ 123.4e5 ]</pre></div></td></tr><tr><td>position</td><td><details class=\"dni-treeview\"><summary><span class=\"dni-code-hint\"><code>{ line = 1\\n  column = 0 }</code></span></summary><div><table><thead><tr></tr></thead><tbody><tr><td>line</td><td><div class=\"dni-plaintext\"><pre>1</pre></div></td></tr><tr><td>column</td><td><div class=\"dni-plaintext\"><pre>0</pre></div></td></tr></tbody></table></div></details></td></tr></tbody></table></div></details></td></tr></tbody></table></div></details></td></tr></tbody></table></div></details><style>\r\n",
       ".dni-code-hint {\r\n",
       "    font-style: italic;\r\n",
       "    overflow: hidden;\r\n",
       "    white-space: nowrap;\r\n",
       "}\r\n",
       ".dni-treeview {\r\n",
       "    white-space: nowrap;\r\n",
       "}\r\n",
       ".dni-treeview td {\r\n",
       "    vertical-align: top;\r\n",
       "    text-align: start;\r\n",
       "}\r\n",
       "details.dni-treeview {\r\n",
       "    padding-left: 1em;\r\n",
       "}\r\n",
       "table td {\r\n",
       "    text-align: start;\r\n",
       "}\r\n",
       "table tr { \r\n",
       "    vertical-align: top; \r\n",
       "    margin: 0em 0px;\r\n",
       "}\r\n",
       "table tr td pre \r\n",
       "{ \r\n",
       "    vertical-align: top !important; \r\n",
       "    margin: 0em 0px !important;\r\n",
       "} \r\n",
       "table th {\r\n",
       "    text-align: start;\r\n",
       "}\r\n",
       "</style>"
      ]
     },
     "metadata": {},
     "output_type": "display_data"
    },
    {
     "name": "stdout",
     "output_type": "stream",
     "text": [
      "JNumber 12340000.0\r\n",
      "JNumber\r\n",
      "      Item: 12340000\r\n"
     ]
    }
   ],
   "source": [
    "//// test\n",
    "\n",
    "run jNumber_ \"123.4e5\"\n",
    "|> parserEqual (Success (JNumber 12340000.0))"
   ]
  },
  {
   "cell_type": "code",
   "execution_count": null,
   "metadata": {
    "dotnet_repl_cellExecutionStartTime": "2023-07-25T21:35:29.26875-03:00",
    "dotnet_repl_cellExecutionEndTime": "2023-07-25T21:35:29.3519637-03:00",
    "dotnet_repl_cellExecutionTime": "83.2172ms",
    "dotnet_interactive": {
     "language": "fsharp"
    },
    "polyglot_notebook": {
     "kernelName": "fsharp"
    }
   },
   "outputs": [
    {
     "data": {
      "text/html": [
       "<details open=\"open\" class=\"dni-treeview\"><summary><span class=\"dni-code-hint\"><code>Success (JNumber 0.001234, { lines = [|\"123.4e-5\"|]\\n                             position = { line = 1\\n                                          column = 0 } })</code></span></summary><div><table><thead><tr></tr></thead><tbody><tr><td>Item</td><td><details class=\"dni-treeview\"><summary><span class=\"dni-code-hint\"><code>(JNumber 0.001234, { lines = [|\"123.4e-5\"|]\\n  position = { line = 1\\n               column = 0 } })</code></span></summary><div><table><thead><tr></tr></thead><tbody><tr><td>Item1</td><td><details class=\"dni-treeview\"><summary><span class=\"dni-code-hint\"><code>JNumber 0.001234</code></span></summary><div><table><thead><tr></tr></thead><tbody><tr><td>Item</td><td><div class=\"dni-plaintext\"><pre>0.001234</pre></div></td></tr></tbody></table></div></details></td></tr><tr><td>Item2</td><td><details class=\"dni-treeview\"><summary><span class=\"dni-code-hint\"><code>{ lines = [|\"123.4e-5\"|]\\n  position = { line = 1\\n               column = 0 } }</code></span></summary><div><table><thead><tr></tr></thead><tbody><tr><td>lines</td><td><div class=\"dni-plaintext\"><pre>[ 123.4e-5 ]</pre></div></td></tr><tr><td>position</td><td><details class=\"dni-treeview\"><summary><span class=\"dni-code-hint\"><code>{ line = 1\\n  column = 0 }</code></span></summary><div><table><thead><tr></tr></thead><tbody><tr><td>line</td><td><div class=\"dni-plaintext\"><pre>1</pre></div></td></tr><tr><td>column</td><td><div class=\"dni-plaintext\"><pre>0</pre></div></td></tr></tbody></table></div></details></td></tr></tbody></table></div></details></td></tr></tbody></table></div></details></td></tr></tbody></table></div></details><style>\r\n",
       ".dni-code-hint {\r\n",
       "    font-style: italic;\r\n",
       "    overflow: hidden;\r\n",
       "    white-space: nowrap;\r\n",
       "}\r\n",
       ".dni-treeview {\r\n",
       "    white-space: nowrap;\r\n",
       "}\r\n",
       ".dni-treeview td {\r\n",
       "    vertical-align: top;\r\n",
       "    text-align: start;\r\n",
       "}\r\n",
       "details.dni-treeview {\r\n",
       "    padding-left: 1em;\r\n",
       "}\r\n",
       "table td {\r\n",
       "    text-align: start;\r\n",
       "}\r\n",
       "table tr { \r\n",
       "    vertical-align: top; \r\n",
       "    margin: 0em 0px;\r\n",
       "}\r\n",
       "table tr td pre \r\n",
       "{ \r\n",
       "    vertical-align: top !important; \r\n",
       "    margin: 0em 0px !important;\r\n",
       "} \r\n",
       "table th {\r\n",
       "    text-align: start;\r\n",
       "}\r\n",
       "</style>"
      ]
     },
     "metadata": {},
     "output_type": "display_data"
    },
    {
     "name": "stdout",
     "output_type": "stream",
     "text": [
      "JNumber 0.001234\r\n",
      "JNumber\r\n",
      "      Item: 0.001234\r\n"
     ]
    }
   ],
   "source": [
    "//// test\n",
    "\n",
    "run jNumber_ \"123.4e-5\"\n",
    "|> parserEqual (Success (JNumber 0.001234))"
   ]
  },
  {
   "cell_type": "markdown",
   "metadata": {
    "dotnet_repl_cellExecutionStartTime": "2023-07-25T21:35:29.351999-03:00",
    "dotnet_repl_cellExecutionEndTime": "2023-07-25T21:35:29.3551097-03:00",
    "dotnet_repl_cellExecutionTime": "3.1155ms"
   },
   "source": [
    "### jArray"
   ]
  },
  {
   "cell_type": "code",
   "execution_count": null,
   "metadata": {
    "dotnet_repl_cellExecutionStartTime": "2023-07-25T21:35:29.355196-03:00",
    "dotnet_repl_cellExecutionEndTime": "2023-07-25T21:35:29.4958316-03:00",
    "dotnet_repl_cellExecutionTime": "140.6404ms",
    "dotnet_interactive": {
     "language": "fsharp"
    },
    "polyglot_notebook": {
     "kernelName": "fsharp"
    }
   },
   "outputs": [],
   "source": [
    "let jArray =\n",
    "    let left = pchar '[' .>> spaces\n",
    "    let right = pchar ']' .>> spaces\n",
    "    let comma = pchar ',' .>> spaces\n",
    "    let value = jValue .>> spaces\n",
    "\n",
    "    let values = sepBy value comma\n",
    "\n",
    "    between left values right\n",
    "    |>> JArray\n",
    "    <?> \"array\""
   ]
  },
  {
   "cell_type": "code",
   "execution_count": null,
   "metadata": {
    "dotnet_repl_cellExecutionStartTime": "2023-07-25T21:35:29.4958746-03:00",
    "dotnet_repl_cellExecutionEndTime": "2023-07-25T21:35:29.5121145-03:00",
    "dotnet_repl_cellExecutionTime": "16.2452ms",
    "dotnet_interactive": {
     "language": "fsharp"
    },
    "polyglot_notebook": {
     "kernelName": "fsharp"
    }
   },
   "outputs": [],
   "source": [
    "//// test\n",
    "\n",
    "jValueRef <|\n",
    "    choice\n",
    "        [\n",
    "            jNull\n",
    "            jBool\n",
    "            jString\n",
    "            jNumber\n",
    "            jArray\n",
    "        ]"
   ]
  },
  {
   "cell_type": "code",
   "execution_count": null,
   "metadata": {
    "dotnet_repl_cellExecutionStartTime": "2023-07-25T21:35:29.5121549-03:00",
    "dotnet_repl_cellExecutionEndTime": "2023-07-25T21:35:29.6358862-03:00",
    "dotnet_repl_cellExecutionTime": "123.7345ms",
    "dotnet_interactive": {
     "language": "fsharp"
    },
    "polyglot_notebook": {
     "kernelName": "fsharp"
    }
   },
   "outputs": [
    {
     "data": {
      "text/html": [
       "<details open=\"open\" class=\"dni-treeview\"><summary><span class=\"dni-code-hint\"><code>Success (JArray [JNumber 1.0; JNumber 2.0], { lines = [|\"[ 1, 2 ]\"|]\\n                                              position = { line = 1\\n                                                           column = 0 } })</code></span></summary><div><table><thead><tr></tr></thead><tbody><tr><td>Item</td><td><details class=\"dni-treeview\"><summary><span class=\"dni-code-hint\"><code>(JArray [JNumber 1.0; JNumber 2.0], { lines = [|\"[ 1, 2 ]\"|]\\n  position = { line = 1\\n               column = 0 } })</code></span></summary><div><table><thead><tr></tr></thead><tbody><tr><td>Item1</td><td><details class=\"dni-treeview\"><summary><span class=\"dni-code-hint\"><code>JArray [JNumber 1.0; JNumber 2.0]</code></span></summary><div><table><thead><tr></tr></thead><tbody><tr><td>Item</td><td><table><thead><tr><th><i>index</i></th><th>value</th></tr></thead><tbody><tr><td>0</td><td><details class=\"dni-treeview\"><summary><span class=\"dni-code-hint\"><code>JNumber 1.0</code></span></summary><div><table><thead><tr></tr></thead><tbody><tr><td>Item</td><td><div class=\"dni-plaintext\"><pre>1</pre></div></td></tr></tbody></table></div></details></td></tr><tr><td>1</td><td><details class=\"dni-treeview\"><summary><span class=\"dni-code-hint\"><code>JNumber 2.0</code></span></summary><div><table><thead><tr></tr></thead><tbody><tr><td>Item</td><td><div class=\"dni-plaintext\"><pre>2</pre></div></td></tr></tbody></table></div></details></td></tr></tbody></table></td></tr></tbody></table></div></details></td></tr><tr><td>Item2</td><td><details class=\"dni-treeview\"><summary><span class=\"dni-code-hint\"><code>{ lines = [|\"[ 1, 2 ]\"|]\\n  position = { line = 1\\n               column = 0 } }</code></span></summary><div><table><thead><tr></tr></thead><tbody><tr><td>lines</td><td><div class=\"dni-plaintext\"><pre>[ [ 1, 2 ] ]</pre></div></td></tr><tr><td>position</td><td><details class=\"dni-treeview\"><summary><span class=\"dni-code-hint\"><code>{ line = 1\\n  column = 0 }</code></span></summary><div><table><thead><tr></tr></thead><tbody><tr><td>line</td><td><div class=\"dni-plaintext\"><pre>1</pre></div></td></tr><tr><td>column</td><td><div class=\"dni-plaintext\"><pre>0</pre></div></td></tr></tbody></table></div></details></td></tr></tbody></table></div></details></td></tr></tbody></table></div></details></td></tr></tbody></table></div></details><style>\r\n",
       ".dni-code-hint {\r\n",
       "    font-style: italic;\r\n",
       "    overflow: hidden;\r\n",
       "    white-space: nowrap;\r\n",
       "}\r\n",
       ".dni-treeview {\r\n",
       "    white-space: nowrap;\r\n",
       "}\r\n",
       ".dni-treeview td {\r\n",
       "    vertical-align: top;\r\n",
       "    text-align: start;\r\n",
       "}\r\n",
       "details.dni-treeview {\r\n",
       "    padding-left: 1em;\r\n",
       "}\r\n",
       "table td {\r\n",
       "    text-align: start;\r\n",
       "}\r\n",
       "table tr { \r\n",
       "    vertical-align: top; \r\n",
       "    margin: 0em 0px;\r\n",
       "}\r\n",
       "table tr td pre \r\n",
       "{ \r\n",
       "    vertical-align: top !important; \r\n",
       "    margin: 0em 0px !important;\r\n",
       "} \r\n",
       "table th {\r\n",
       "    text-align: start;\r\n",
       "}\r\n",
       "</style>"
      ]
     },
     "metadata": {},
     "output_type": "display_data"
    },
    {
     "name": "stdout",
     "output_type": "stream",
     "text": [
      "JArray [JNumber 1.0; JNumber 2.0]\r\n",
      "JArray\r\n",
      "      Item: FSharpList<JValue>\r\n",
      "        - Item: 1\r\n",
      "        - Item: 2\r\n"
     ]
    }
   ],
   "source": [
    "//// test\n",
    "\n",
    "run jArray \"[ 1, 2 ]\"\n",
    "|> parserEqual (Success (JArray [ JNumber 1.0; JNumber 2.0 ]))"
   ]
  },
  {
   "cell_type": "code",
   "execution_count": null,
   "metadata": {
    "dotnet_repl_cellExecutionStartTime": "2023-07-25T21:35:29.6359197-03:00",
    "dotnet_repl_cellExecutionEndTime": "2023-07-25T21:35:29.6953146-03:00",
    "dotnet_repl_cellExecutionTime": "59.4014ms",
    "dotnet_interactive": {
     "language": "fsharp"
    },
    "polyglot_notebook": {
     "kernelName": "fsharp"
    }
   },
   "outputs": [
    {
     "data": {
      "text/html": [
       "<details open=\"open\" class=\"dni-treeview\"><summary><span class=\"dni-code-hint\"><code>Failure (\"array\", \"Unexpected ','\", { currentLine = \"[ 1, 2, ]\"\\n                                      line = 0\\n                                      column = 6 })</code></span></summary><div><table><thead><tr></tr></thead><tbody><tr><td>Item1</td><td>array</td></tr><tr><td>Item2</td><td>Unexpected &#39;,&#39;</td></tr><tr><td>Item3</td><td><details class=\"dni-treeview\"><summary><span class=\"dni-code-hint\"><code>{ currentLine = \"[ 1, 2, ]\"\\n  line = 0\\n  column = 6 }</code></span></summary><div><table><thead><tr></tr></thead><tbody><tr><td>currentLine</td><td>[ 1, 2, ]</td></tr><tr><td>line</td><td><div class=\"dni-plaintext\"><pre>0</pre></div></td></tr><tr><td>column</td><td><div class=\"dni-plaintext\"><pre>6</pre></div></td></tr></tbody></table></div></details></td></tr></tbody></table></div></details><style>\r\n",
       ".dni-code-hint {\r\n",
       "    font-style: italic;\r\n",
       "    overflow: hidden;\r\n",
       "    white-space: nowrap;\r\n",
       "}\r\n",
       ".dni-treeview {\r\n",
       "    white-space: nowrap;\r\n",
       "}\r\n",
       ".dni-treeview td {\r\n",
       "    vertical-align: top;\r\n",
       "    text-align: start;\r\n",
       "}\r\n",
       "details.dni-treeview {\r\n",
       "    padding-left: 1em;\r\n",
       "}\r\n",
       "table td {\r\n",
       "    text-align: start;\r\n",
       "}\r\n",
       "table tr { \r\n",
       "    vertical-align: top; \r\n",
       "    margin: 0em 0px;\r\n",
       "}\r\n",
       "table tr td pre \r\n",
       "{ \r\n",
       "    vertical-align: top !important; \r\n",
       "    margin: 0em 0px !important;\r\n",
       "} \r\n",
       "table th {\r\n",
       "    text-align: start;\r\n",
       "}\r\n",
       "</style>"
      ]
     },
     "metadata": {},
     "output_type": "display_data"
    },
    {
     "name": "stdout",
     "output_type": "stream",
     "text": [
      "Line:0 Col:6 Error parsing array\n",
      "[ 1, 2, ]\n",
      "      ^Unexpected ','\r\n"
     ]
    }
   ],
   "source": [
    "//// test\n",
    "\n",
    "run jArray \"[ 1, 2, ]\"\n",
    "|> parserEqual (\n",
    "    Failure (\n",
    "        \"array\",\n",
    "        \"Unexpected ','\",\n",
    "        { currentLine = \"[ 1, 2, ]\"; line = 0; column = 6 }\n",
    "    )\n",
    ")"
   ]
  },
  {
   "cell_type": "markdown",
   "metadata": {
    "dotnet_repl_cellExecutionStartTime": "2023-07-25T21:35:29.6954621-03:00",
    "dotnet_repl_cellExecutionEndTime": "2023-07-25T21:35:29.6992691-03:00",
    "dotnet_repl_cellExecutionTime": "3.8122ms"
   },
   "source": [
    "### jObject"
   ]
  },
  {
   "cell_type": "code",
   "execution_count": null,
   "metadata": {
    "dotnet_repl_cellExecutionStartTime": "2023-07-25T21:35:29.6993073-03:00",
    "dotnet_repl_cellExecutionEndTime": "2023-07-25T21:35:29.8762882-03:00",
    "dotnet_repl_cellExecutionTime": "176.9844ms",
    "dotnet_interactive": {
     "language": "fsharp"
    },
    "polyglot_notebook": {
     "kernelName": "fsharp"
    }
   },
   "outputs": [],
   "source": [
    "let jObject =\n",
    "    let left = spaces >>. pchar '{' .>> spaces\n",
    "    let right = pchar '}' .>> spaces\n",
    "    let colon = pchar ':' .>> spaces\n",
    "    let comma = pchar ',' .>> spaces\n",
    "    let key = quotedString .>> spaces\n",
    "    let value = jValue .>> spaces\n",
    "\n",
    "    let keyValue = (key .>> colon) .>>. value\n",
    "    let keyValues = sepBy keyValue comma\n",
    "\n",
    "    between left keyValues right\n",
    "    |>> Map.ofList\n",
    "    |>> JObject\n",
    "    <?> \"object\""
   ]
  },
  {
   "cell_type": "code",
   "execution_count": null,
   "metadata": {
    "dotnet_repl_cellExecutionStartTime": "2023-07-25T21:35:29.8763149-03:00",
    "dotnet_repl_cellExecutionEndTime": "2023-07-25T21:35:29.8888612-03:00",
    "dotnet_repl_cellExecutionTime": "12.5496ms",
    "dotnet_interactive": {
     "language": "fsharp"
    },
    "polyglot_notebook": {
     "kernelName": "fsharp"
    }
   },
   "outputs": [],
   "source": [
    "jValueRef <|\n",
    "    choice\n",
    "        [\n",
    "            jNull\n",
    "            jBool\n",
    "            jString\n",
    "            jNumber\n",
    "            jArray\n",
    "            jObject\n",
    "        ]"
   ]
  },
  {
   "cell_type": "code",
   "execution_count": null,
   "metadata": {
    "dotnet_repl_cellExecutionStartTime": "2023-07-25T21:35:29.8888988-03:00",
    "dotnet_repl_cellExecutionEndTime": "2023-07-25T21:35:30.031427-03:00",
    "dotnet_repl_cellExecutionTime": "142.5324ms",
    "dotnet_interactive": {
     "language": "fsharp"
    },
    "polyglot_notebook": {
     "kernelName": "fsharp"
    }
   },
   "outputs": [
    {
     "data": {
      "text/html": [
       "<details open=\"open\" class=\"dni-treeview\"><summary><span class=\"dni-code-hint\"><code>Success\\n  (JObject (map [(\"a\", JNumber 1.0); (\"b\", JNumber 2.0)]),\\n   { lines = [|\"{ \"a\":1, \"b\"  :  2 }\"|]\\n     position = { line = 1\\n                  column = 0 } })</code></span></summary><div><table><thead><tr></tr></thead><tbody><tr><td>Item</td><td><details class=\"dni-treeview\"><summary><span class=\"dni-code-hint\"><code>(JObject (map [(\"a\", JNumber 1.0); (\"b\", JNumber 2.0)]), { lines = [|\"{ \"a\":1, \"b\"  :  2 }\"|]\\n  position = { line = 1\\n               column = 0 } })</code></span></summary><div><table><thead><tr></tr></thead><tbody><tr><td>Item1</td><td><details class=\"dni-treeview\"><summary><span class=\"dni-code-hint\"><code>JObject (map [(\"a\", JNumber 1.0); (\"b\", JNumber 2.0)])</code></span></summary><div><table><thead><tr></tr></thead><tbody><tr><td>Item</td><td><table><thead><tr><th><i>key</i></th><th>value</th></tr></thead><tbody><tr><td>a</td><td><details class=\"dni-treeview\"><summary><span class=\"dni-code-hint\"><code>JNumber 1.0</code></span></summary><div><table><thead><tr></tr></thead><tbody><tr><td>Item</td><td><div class=\"dni-plaintext\"><pre>1</pre></div></td></tr></tbody></table></div></details></td></tr><tr><td>b</td><td><details class=\"dni-treeview\"><summary><span class=\"dni-code-hint\"><code>JNumber 2.0</code></span></summary><div><table><thead><tr></tr></thead><tbody><tr><td>Item</td><td><div class=\"dni-plaintext\"><pre>2</pre></div></td></tr></tbody></table></div></details></td></tr></tbody></table></td></tr></tbody></table></div></details></td></tr><tr><td>Item2</td><td><details class=\"dni-treeview\"><summary><span class=\"dni-code-hint\"><code>{ lines = [|\"{ \"a\":1, \"b\"  :  2 }\"|]\\n  position = { line = 1\\n               column = 0 } }</code></span></summary><div><table><thead><tr></tr></thead><tbody><tr><td>lines</td><td><div class=\"dni-plaintext\"><pre>[ { &quot;a&quot;:1, &quot;b&quot;  :  2 } ]</pre></div></td></tr><tr><td>position</td><td><details class=\"dni-treeview\"><summary><span class=\"dni-code-hint\"><code>{ line = 1\\n  column = 0 }</code></span></summary><div><table><thead><tr></tr></thead><tbody><tr><td>line</td><td><div class=\"dni-plaintext\"><pre>1</pre></div></td></tr><tr><td>column</td><td><div class=\"dni-plaintext\"><pre>0</pre></div></td></tr></tbody></table></div></details></td></tr></tbody></table></div></details></td></tr></tbody></table></div></details></td></tr></tbody></table></div></details><style>\r\n",
       ".dni-code-hint {\r\n",
       "    font-style: italic;\r\n",
       "    overflow: hidden;\r\n",
       "    white-space: nowrap;\r\n",
       "}\r\n",
       ".dni-treeview {\r\n",
       "    white-space: nowrap;\r\n",
       "}\r\n",
       ".dni-treeview td {\r\n",
       "    vertical-align: top;\r\n",
       "    text-align: start;\r\n",
       "}\r\n",
       "details.dni-treeview {\r\n",
       "    padding-left: 1em;\r\n",
       "}\r\n",
       "table td {\r\n",
       "    text-align: start;\r\n",
       "}\r\n",
       "table tr { \r\n",
       "    vertical-align: top; \r\n",
       "    margin: 0em 0px;\r\n",
       "}\r\n",
       "table tr td pre \r\n",
       "{ \r\n",
       "    vertical-align: top !important; \r\n",
       "    margin: 0em 0px !important;\r\n",
       "} \r\n",
       "table th {\r\n",
       "    text-align: start;\r\n",
       "}\r\n",
       "</style>"
      ]
     },
     "metadata": {},
     "output_type": "display_data"
    },
    {
     "name": "stdout",
     "output_type": "stream",
     "text": [
      "JObject (map [(\"a\", JNumber 1.0); (\"b\", JNumber 2.0)])\r\n",
      "JObject\r\n",
      "      Item: FSharpMap<String,JValue>\r\n",
      "        - Key: a\r\n",
      "          Value: JNumber\r\n",
      "            Item: 1\r\n",
      "        - Key: b\r\n",
      "          Value: JNumber\r\n",
      "            Item: 2\r\n"
     ]
    }
   ],
   "source": [
    "//// test\n",
    "\n",
    "run jObject \"\"\"{ \"a\":1, \"b\"  :  2 }\"\"\"\n",
    "|> parserEqual (\n",
    "    Success (\n",
    "        JObject (\n",
    "            Map.ofList [\n",
    "                \"a\", JNumber 1.0\n",
    "                \"b\", JNumber 2.0\n",
    "            ]\n",
    "        )\n",
    "    )\n",
    ")"
   ]
  },
  {
   "cell_type": "code",
   "execution_count": null,
   "metadata": {
    "dotnet_repl_cellExecutionStartTime": "2023-07-25T21:35:30.0314684-03:00",
    "dotnet_repl_cellExecutionEndTime": "2023-07-25T21:35:30.0930423-03:00",
    "dotnet_repl_cellExecutionTime": "61.5787ms",
    "dotnet_interactive": {
     "language": "fsharp"
    },
    "polyglot_notebook": {
     "kernelName": "fsharp"
    }
   },
   "outputs": [
    {
     "data": {
      "text/html": [
       "<details open=\"open\" class=\"dni-treeview\"><summary><span class=\"dni-code-hint\"><code>Failure (\"object\", \"Unexpected ','\", { currentLine = \"{ \"a\":1, \"b\"  :  2, }\"\\n                                       line = 0\\n                                       column = 18 })</code></span></summary><div><table><thead><tr></tr></thead><tbody><tr><td>Item1</td><td>object</td></tr><tr><td>Item2</td><td>Unexpected &#39;,&#39;</td></tr><tr><td>Item3</td><td><details class=\"dni-treeview\"><summary><span class=\"dni-code-hint\"><code>{ currentLine = \"{ \"a\":1, \"b\"  :  2, }\"\\n  line = 0\\n  column = 18 }</code></span></summary><div><table><thead><tr></tr></thead><tbody><tr><td>currentLine</td><td>{ &quot;a&quot;:1, &quot;b&quot;  :  2, }</td></tr><tr><td>line</td><td><div class=\"dni-plaintext\"><pre>0</pre></div></td></tr><tr><td>column</td><td><div class=\"dni-plaintext\"><pre>18</pre></div></td></tr></tbody></table></div></details></td></tr></tbody></table></div></details><style>\r\n",
       ".dni-code-hint {\r\n",
       "    font-style: italic;\r\n",
       "    overflow: hidden;\r\n",
       "    white-space: nowrap;\r\n",
       "}\r\n",
       ".dni-treeview {\r\n",
       "    white-space: nowrap;\r\n",
       "}\r\n",
       ".dni-treeview td {\r\n",
       "    vertical-align: top;\r\n",
       "    text-align: start;\r\n",
       "}\r\n",
       "details.dni-treeview {\r\n",
       "    padding-left: 1em;\r\n",
       "}\r\n",
       "table td {\r\n",
       "    text-align: start;\r\n",
       "}\r\n",
       "table tr { \r\n",
       "    vertical-align: top; \r\n",
       "    margin: 0em 0px;\r\n",
       "}\r\n",
       "table tr td pre \r\n",
       "{ \r\n",
       "    vertical-align: top !important; \r\n",
       "    margin: 0em 0px !important;\r\n",
       "} \r\n",
       "table th {\r\n",
       "    text-align: start;\r\n",
       "}\r\n",
       "</style>"
      ]
     },
     "metadata": {},
     "output_type": "display_data"
    },
    {
     "name": "stdout",
     "output_type": "stream",
     "text": [
      "Line:0 Col:18 Error parsing object\n",
      "{ \"a\":1, \"b\"  :  2, }\n",
      "                  ^Unexpected ','\r\n"
     ]
    }
   ],
   "source": [
    "//// test\n",
    "\n",
    "run jObject \"\"\"{ \"a\":1, \"b\"  :  2, }\"\"\"\n",
    "|> parserEqual (\n",
    "    Failure (\n",
    "        \"object\",\n",
    "        \"Unexpected ','\",\n",
    "        { currentLine = \"{ \\\"a\\\":1, \\\"b\\\"  :  2, }\"; line = 0; column = 18 }\n",
    "    )\n",
    ")"
   ]
  },
  {
   "cell_type": "markdown",
   "metadata": {
    "dotnet_repl_cellExecutionStartTime": "2023-07-25T21:35:30.0930897-03:00",
    "dotnet_repl_cellExecutionEndTime": "2023-07-25T21:35:30.0965832-03:00",
    "dotnet_repl_cellExecutionTime": "3.4982ms"
   },
   "source": [
    "### jValue"
   ]
  },
  {
   "cell_type": "code",
   "execution_count": null,
   "metadata": {
    "dotnet_repl_cellExecutionStartTime": "2023-07-25T21:35:30.096641-03:00",
    "dotnet_repl_cellExecutionEndTime": "2023-07-25T21:35:30.2963737-03:00",
    "dotnet_repl_cellExecutionTime": "199.7367ms",
    "dotnet_interactive": {
     "language": "fsharp"
    },
    "polyglot_notebook": {
     "kernelName": "fsharp"
    }
   },
   "outputs": [
    {
     "data": {
      "text/html": [
       "<details open=\"open\" class=\"dni-treeview\"><summary><span class=\"dni-code-hint\"><code>Success\\n  (JObject\\n     (map\\n        [(\"bday\",\\n          JObject\\n            (map\\n               [(\"day\", JNumber 25.0); (\"month\", JNumber 12.0);\\n                (\"year\", JNumber 2001.0)])); (\"emptyArray\", JArray []);\\n         (\"emptyObject\", JObject (map []));\\n         (\"favouriteColors\", ...</code></span></summary><div><table><thead><tr></tr></thead><tbody><tr><td>Item</td><td><details class=\"dni-treeview\"><summary><span class=\"dni-code-hint\"><code>(JObject\\n  (map\\n     [(\"bday\",\\n       JObject\\n         (map\\n            [(\"day\", JNumber 25.0); (\"month\", JNumber 12.0);\\n             (\"year\", JNumber 2001.0)])); (\"emptyArray\", JArray []);\\n      (\"emptyObject\", JObject (map []));\\n      (\"favouriteColors\", JArray [JString \"blue\"; JString \"gr...</code></span></summary><div><table><thead><tr></tr></thead><tbody><tr><td>Item1</td><td><details class=\"dni-treeview\"><summary><span class=\"dni-code-hint\"><code>JObject\\n  (map\\n     [(\"bday\",\\n       JObject\\n         (map\\n            [(\"day\", JNumber 25.0); (\"month\", JNumber 12.0);\\n             (\"year\", JNumber 2001.0)])); (\"emptyArray\", JArray []);\\n      (\"emptyObject\", JObject (map []));\\n      (\"favouriteColors\", JArray [JString \"blue\"; JString \"gre...</code></span></summary><div><table><thead><tr></tr></thead><tbody><tr><td>Item</td><td><table><thead><tr><th><i>key</i></th><th><i>type</i></th><th>value</th></tr></thead><tbody><tr><td>bday</td><td>FSI_0012+JValue+JObject</td><td><details class=\"dni-treeview\"><summary><span class=\"dni-code-hint\"><code>JObject\\n  (map\\n     [(\"day\", JNumber 25.0); (\"month\", JNumber 12.0); (\"year\", JNumber 2001.0)])</code></span></summary><div><table><thead><tr></tr></thead><tbody><tr><td>Item</td><td><table><thead><tr><th><i>key</i></th><th>value</th></tr></thead><tbody><tr><td>day</td><td>JNumber 25.0</td></tr><tr><td>month</td><td>JNumber 12.0</td></tr><tr><td>year</td><td>JNumber 2001.0</td></tr></tbody></table></td></tr></tbody></table></div></details></td></tr><tr><td>emptyArray</td><td>FSI_0012+JValue+JArray</td><td><details class=\"dni-treeview\"><summary><span class=\"dni-code-hint\"><code>JArray []</code></span></summary><div><table><thead><tr></tr></thead><tbody><tr><td>Item</td><td></td></tr></tbody></table></div></details></td></tr><tr><td>emptyObject</td><td>FSI_0012+JValue+JObject</td><td><details class=\"dni-treeview\"><summary><span class=\"dni-code-hint\"><code>JObject (map [])</code></span></summary><div><table><thead><tr></tr></thead><tbody><tr><td>Item</td><td><i>(empty)</i></td></tr></tbody></table></div></details></td></tr><tr><td>favouriteColors</td><td>FSI_0012+JValue+JArray</td><td><details class=\"dni-treeview\"><summary><span class=\"dni-code-hint\"><code>JArray [JString \"blue\"; JString \"green\"]</code></span></summary><div><table><thead><tr></tr></thead><tbody><tr><td>Item</td><td><table><thead><tr><th><i>index</i></th><th>value</th></tr></thead><tbody><tr><td>0</td><td>JString \"blue\"</td></tr><tr><td>1</td><td>JString \"green\"</td></tr></tbody></table></td></tr></tbody></table></div></details></td></tr><tr><td>isMale</td><td>FSI_0012+JValue+JBool</td><td><details class=\"dni-treeview\"><summary><span class=\"dni-code-hint\"><code>JBool true</code></span></summary><div><table><thead><tr></tr></thead><tbody><tr><td>Item</td><td><div class=\"dni-plaintext\"><pre>True</pre></div></td></tr></tbody></table></div></details></td></tr><tr><td>name</td><td>FSI_0012+JValue+JString</td><td><details class=\"dni-treeview\"><summary><span class=\"dni-code-hint\"><code>JString \"Scott\"</code></span></summary><div><table><thead><tr></tr></thead><tbody><tr><td>Item</td><td>Scott</td></tr></tbody></table></div></details></td></tr></tbody></table></td></tr></tbody></table></div></details></td></tr><tr><td>Item2</td><td><details class=\"dni-treeview\"><summary><span class=\"dni-code-hint\"><code>{ lines =\\n   [|\"{\"; \"    \"name\" : \"Scott\",\"; \"    \"isMale\" : true,\";\\n     \"    \"bday\" : {\"year\":2001, \"month\":12, \"day\":25 },\";\\n     \"    \"favouriteColors\" : [\"blue\", \"green\"],\"; \"    \"emptyArray\" : [],\";\\n     \"    \"emptyObject\" : {}\"; \"}\"|]\\n  position = { line = 8\\n               column = 0 } ...</code></span></summary><div><table><thead><tr></tr></thead><tbody><tr><td>lines</td><td><div class=\"dni-plaintext\"><pre>[ {,     &quot;name&quot; : &quot;Scott&quot;,,     &quot;isMale&quot; : true,,     &quot;bday&quot; : {&quot;year&quot;:2001, &quot;month&quot;:12, &quot;day&quot;:25 },,     &quot;favouriteColors&quot; : [&quot;blue&quot;, &quot;green&quot;],,     &quot;emptyArray&quot; : [],,     &quot;emptyObject&quot; : {}, } ]</pre></div></td></tr><tr><td>position</td><td><details class=\"dni-treeview\"><summary><span class=\"dni-code-hint\"><code>{ line = 8\\n  column = 0 }</code></span></summary><div><table><thead><tr></tr></thead><tbody><tr><td>line</td><td><div class=\"dni-plaintext\"><pre>8</pre></div></td></tr><tr><td>column</td><td><div class=\"dni-plaintext\"><pre>0</pre></div></td></tr></tbody></table></div></details></td></tr></tbody></table></div></details></td></tr></tbody></table></div></details></td></tr></tbody></table></div></details><style>\r\n",
       ".dni-code-hint {\r\n",
       "    font-style: italic;\r\n",
       "    overflow: hidden;\r\n",
       "    white-space: nowrap;\r\n",
       "}\r\n",
       ".dni-treeview {\r\n",
       "    white-space: nowrap;\r\n",
       "}\r\n",
       ".dni-treeview td {\r\n",
       "    vertical-align: top;\r\n",
       "    text-align: start;\r\n",
       "}\r\n",
       "details.dni-treeview {\r\n",
       "    padding-left: 1em;\r\n",
       "}\r\n",
       "table td {\r\n",
       "    text-align: start;\r\n",
       "}\r\n",
       "table tr { \r\n",
       "    vertical-align: top; \r\n",
       "    margin: 0em 0px;\r\n",
       "}\r\n",
       "table tr td pre \r\n",
       "{ \r\n",
       "    vertical-align: top !important; \r\n",
       "    margin: 0em 0px !important;\r\n",
       "} \r\n",
       "table th {\r\n",
       "    text-align: start;\r\n",
       "}\r\n",
       "</style>"
      ]
     },
     "metadata": {},
     "output_type": "display_data"
    },
    {
     "name": "stdout",
     "output_type": "stream",
     "text": [
      "JObject\n",
      "  (map\n",
      "     [(\"bday\",\n",
      "       JObject\n",
      "         (map\n",
      "            [(\"day\", JNumber 25.0); (\"month\", JNumber 12.0);\n",
      "             (\"year\", JNumber 2001.0)])); (\"emptyArray\", JArray []);\n",
      "      (\"emptyObject\", JObject (map []));\n",
      "      (\"favouriteColors\", JArray [JString \"blue\"; JString \"green\"]);\n",
      "      (\"isMale\", JBool true); (\"name\", JString \"Scott\")])\r\n",
      "JObject\r\n",
      "      Item: FSharpMap<String,JValue>\r\n",
      "        - Key: bday\r\n",
      "          Value: JObject\r\n",
      "            Item: FSharpMap<String,JValue>\r\n",
      "              - Key: day\r\n",
      "                Value: JNumber 25.0\r\n",
      "              - Key: month\r\n",
      "                Value: JNumber 12.0\r\n",
      "              - Key: year\r\n",
      "                Value: JNumber 2001.0\r\n",
      "        - Key: emptyArray\r\n",
      "          Value: JArray\r\n",
      "            Item: FSharpList<JValue>\r\n",
      "\r\n",
      "        - Key: emptyObject\r\n",
      "          Value: JObject\r\n",
      "            Item: FSharpMap<String,JValue>\r\n",
      "\r\n",
      "        - Key: favouriteColors\r\n",
      "          Value: JArray\r\n",
      "            Item: FSharpList<JValue>\r\n",
      "              - Item: blue\r\n",
      "              - Item: green\r\n",
      "        - Key: isMale\r\n",
      "          Value: JBool\r\n",
      "            Item: True\r\n",
      "        - Key: name\r\n",
      "          Value: JString\r\n",
      "            Item: Scott\r\n"
     ]
    }
   ],
   "source": [
    "//// test\n",
    "\n",
    "let example1 = \"\"\"{\n",
    "    \"name\" : \"Scott\",\n",
    "    \"isMale\" : true,\n",
    "    \"bday\" : {\"year\":2001, \"month\":12, \"day\":25 },\n",
    "    \"favouriteColors\" : [\"blue\", \"green\"],\n",
    "    \"emptyArray\" : [],\n",
    "    \"emptyObject\" : {}\n",
    "}\"\"\"\n",
    "run jValue example1\n",
    "|> parserEqual (\n",
    "    Success (\n",
    "        JObject (\n",
    "            Map.ofList [\n",
    "                \"name\", JString \"Scott\"\n",
    "                \"isMale\", JBool true\n",
    "                \"bday\", JObject (\n",
    "                    Map.ofList [\n",
    "                        \"year\", JNumber 2001.0\n",
    "                        \"month\", JNumber 12.0\n",
    "                        \"day\", JNumber 25.0\n",
    "                    ]\n",
    "                )\n",
    "                \"favouriteColors\", JArray [ JString \"blue\"; JString \"green\" ]\n",
    "                \"emptyArray\", JArray []\n",
    "                \"emptyObject\", JObject Map.empty\n",
    "            ]\n",
    "        )\n",
    "    )\n",
    ")"
   ]
  },
  {
   "cell_type": "code",
   "execution_count": null,
   "metadata": {
    "dotnet_repl_cellExecutionStartTime": "2023-07-25T21:35:30.2964105-03:00",
    "dotnet_repl_cellExecutionEndTime": "2023-07-25T21:35:30.6326606-03:00",
    "dotnet_repl_cellExecutionTime": "336.2541ms",
    "dotnet_interactive": {
     "language": "fsharp"
    },
    "polyglot_notebook": {
     "kernelName": "fsharp"
    }
   },
   "outputs": [
    {
     "data": {
      "text/html": [
       "<details open=\"open\" class=\"dni-treeview\"><summary><span class=\"dni-code-hint\"><code>Success\\n  (JObject\\n     (map\\n        [(\"widget\",\\n          JObject\\n            (map\\n               [(\"debug\", JString \"on\");\\n                (\"image\",\\n                 JObject\\n                   (map\\n                      [(\"alignment\", JString \"center\");\\n                       (\"hOffset\"...</code></span></summary><div><table><thead><tr></tr></thead><tbody><tr><td>Item</td><td><details class=\"dni-treeview\"><summary><span class=\"dni-code-hint\"><code>(JObject\\n  (map\\n     [(\"widget\",\\n       JObject\\n         (map\\n            [(\"debug\", JString \"on\");\\n             (\"image\",\\n              JObject\\n                (map\\n                   [(\"alignment\", JString \"center\"); (\"hOffset\", JNumber 250.0);\\n                    (\"name\", JString \"sun1\"...</code></span></summary><div><table><thead><tr></tr></thead><tbody><tr><td>Item1</td><td><details class=\"dni-treeview\"><summary><span class=\"dni-code-hint\"><code>JObject\\n  (map\\n     [(\"widget\",\\n       JObject\\n         (map\\n            [(\"debug\", JString \"on\");\\n             (\"image\",\\n              JObject\\n                (map\\n                   [(\"alignment\", JString \"center\"); (\"hOffset\", JNumber 250.0);\\n                    (\"name\", JString \"sun1\")...</code></span></summary><div><table><thead><tr></tr></thead><tbody><tr><td>Item</td><td><table><thead><tr><th><i>key</i></th><th>value</th></tr></thead><tbody><tr><td>widget</td><td><details class=\"dni-treeview\"><summary><span class=\"dni-code-hint\"><code>JObject\\n  (map\\n     [(\"debug\", JString \"on\");\\n      (\"image\",\\n       JObject\\n         (map\\n            [(\"alignment\", JString \"center\"); (\"hOffset\", JNumber 250.0);\\n             (\"name\", JString \"sun1\"); (\"src\", JString \"Images/Sun.png\");\\n             (\"vOffset\", JNumber 250.0)]));\\n      (\"...</code></span></summary><div><table><thead><tr></tr></thead><tbody><tr><td>Item</td><td><table><thead><tr><th><i>key</i></th><th><i>type</i></th><th>value</th></tr></thead><tbody><tr><td>debug</td><td>FSI_0012+JValue+JString</td><td>JString \"on\"</td></tr><tr><td>image</td><td>FSI_0012+JValue+JObject</td><td>JObject\n",
       "  (map\n",
       "     [(\"alignment\", JString \"center\"); (\"hOffset\", JNumber 250.0);\n",
       "      (\"name\", JString \"sun1\"); (\"src\", JString \"Images/Sun.png\");\n",
       "      (\"vOffset\", JNumber 250.0)])</td></tr><tr><td>text</td><td>FSI_0012+JValue+JObject</td><td>JObject\n",
       "  (map\n",
       "     [(\"alignment\", JString \"center\"); (\"data\", JString \"Click Here\");\n",
       "      (\"hOffset\", JNumber 250.0); (\"name\", JString \"text1\");\n",
       "      (\"onMouseUp\", JString \"sun1.opacity = (sun1.opacity / 100) * 90;\");\n",
       "      (\"size\", JNumber 36.0); (\"style\", JString \"bold\");\n",
       "      (\"vOffset\", JNumber 100.0)])</td></tr><tr><td>window</td><td>FSI_0012+JValue+JObject</td><td>JObject\n",
       "  (map\n",
       "     [(\"height\", JNumber 500.0); (\"name\", JString \"main_window\");\n",
       "      (\"title\", JString \"Sample Konfabulator Widget\"); (\"width\", JNumber 500.0)])</td></tr></tbody></table></td></tr></tbody></table></div></details></td></tr></tbody></table></td></tr></tbody></table></div></details></td></tr><tr><td>Item2</td><td><details class=\"dni-treeview\"><summary><span class=\"dni-code-hint\"><code>{ lines =\\n   [|\"{\"widget\": {\"; \"    \"debug\": \"on\",\"; \"    \"window\": {\";\\n     \"        \"title\": \"Sample Konfabulator Widget\",\";\\n     \"        \"name\": \"main_window\",\"; \"        \"width\": 500,\";\\n     \"        \"height\": 500\"; \"    },\"; \"    \"image\": {\";\\n     \"        \"src\": \"Images/Sun.png\",\"; \"    ...</code></span></summary><div><table><thead><tr></tr></thead><tbody><tr><td>lines</td><td><div class=\"dni-plaintext\"><pre>[ {&quot;widget&quot;: {,     &quot;debug&quot;: &quot;on&quot;,,     &quot;window&quot;: {,         &quot;title&quot;: &quot;Sample Konfabulator Widget&quot;,,         &quot;name&quot;: &quot;main_window&quot;,,         &quot;width&quot;: 500,,         &quot;height&quot;: 500,     },,     &quot;image&quot;: {,         &quot;src&quot;: &quot;Images/Sun.png&quot;,,         &quot;name&quot;: &quot;sun1&quot;,,         &quot;hOffset&quot;: 250,,         &quot;vOffset&quot;: 250,,         &quot;alignment&quot;: &quot;center&quot;,     },,     &quot;text&quot;: {,         &quot;data&quot;: &quot;Click Here&quot;,,         &quot;size&quot;: 36,,         &quot;style&quot;: &quot;bold&quot;,,         &quot;name&quot;: &quot;text1&quot;,,         &quot;hOffset&quot;: 250,,         &quot;vOffset&quot;: 100,,         &quot;alignment&quot;: &quot;center&quot;,,         &quot;onMouseUp&quot;: &quot;sun1.opacity = (sun1.opacity / 100) * 90;&quot;,     }, }} ]</pre></div></td></tr><tr><td>position</td><td><details class=\"dni-treeview\"><summary><span class=\"dni-code-hint\"><code>{ line = 26\\n  column = 0 }</code></span></summary><div><table><thead><tr></tr></thead><tbody><tr><td>line</td><td><div class=\"dni-plaintext\"><pre>26</pre></div></td></tr><tr><td>column</td><td><div class=\"dni-plaintext\"><pre>0</pre></div></td></tr></tbody></table></div></details></td></tr></tbody></table></div></details></td></tr></tbody></table></div></details></td></tr></tbody></table></div></details><style>\r\n",
       ".dni-code-hint {\r\n",
       "    font-style: italic;\r\n",
       "    overflow: hidden;\r\n",
       "    white-space: nowrap;\r\n",
       "}\r\n",
       ".dni-treeview {\r\n",
       "    white-space: nowrap;\r\n",
       "}\r\n",
       ".dni-treeview td {\r\n",
       "    vertical-align: top;\r\n",
       "    text-align: start;\r\n",
       "}\r\n",
       "details.dni-treeview {\r\n",
       "    padding-left: 1em;\r\n",
       "}\r\n",
       "table td {\r\n",
       "    text-align: start;\r\n",
       "}\r\n",
       "table tr { \r\n",
       "    vertical-align: top; \r\n",
       "    margin: 0em 0px;\r\n",
       "}\r\n",
       "table tr td pre \r\n",
       "{ \r\n",
       "    vertical-align: top !important; \r\n",
       "    margin: 0em 0px !important;\r\n",
       "} \r\n",
       "table th {\r\n",
       "    text-align: start;\r\n",
       "}\r\n",
       "</style>"
      ]
     },
     "metadata": {},
     "output_type": "display_data"
    },
    {
     "name": "stdout",
     "output_type": "stream",
     "text": [
      "JObject\n",
      "  (map\n",
      "     [(\"widget\",\n",
      "       JObject\n",
      "         (map\n",
      "            [(\"debug\", JString \"on\");\n",
      "             (\"image\",\n",
      "              JObject\n",
      "                (map\n",
      "                   [(\"alignment\", JString \"center\"); (\"hOffset\", JNumber 250.0);\n",
      "                    (\"name\", JString \"sun1\"); (\"src\", JString \"Images/Sun.png\");\n",
      "                    (\"vOffset\", JNumber 250.0)]));\n",
      "             (\"text\",\n",
      "              JObject\n",
      "                (map\n",
      "                   [(\"alignment\", JString \"center\");\n",
      "                    (\"data\", JString \"Click Here\"); (\"hOffset\", JNumber 250.0);\n",
      "                    (\"name\", JString \"text1\");\n",
      "                    (\"onMouseUp\",\n",
      "                     JString \"sun1.opacity = (sun1.opacity / 100) * 90;\");\n",
      "                    (\"size\", JNumber 36.0); (\"style\", JString \"bold\");\n",
      "                    (\"vOffset\", JNumber 100.0)]));\n",
      "             (\"window\",\n",
      "              JObject\n",
      "                (map\n",
      "                   [(\"height\", JNumber 500.0); (\"name\", JString \"main_window\");\n",
      "                    (\"title\", JString \"Sample Konfabulator Widget\");\n",
      "                    (\"width\", JNumber 500.0)]))]))])\r\n",
      "JObject\r\n",
      "      Item: FSharpMap<String,JValue>\r\n",
      "        - Key: widget\r\n",
      "          Value: JObject\r\n",
      "            Item: FSharpMap<String,JValue>\r\n",
      "              - Key: debug\r\n",
      "                Value: JString \"on\"\r\n",
      "              - Key: image\r\n",
      "                Value: JObject\n",
      "  (map\n",
      "     [(\"alignment\", JString \"center\"); (\"hOffset\", JNumber 250.0);\n",
      "      (\"name\", JString \"sun1\"); (\"src\", JString \"Images/Sun.png\");\n",
      "      (\"vOffset\", JNumber 250.0)])\r\n",
      "              - Key: text\r\n",
      "                Value: JObject\n",
      "  (map\n",
      "     [(\"alignment\", JString \"center\"); (\"data\", JString \"Click Here\");\n",
      "      (\"hOffset\", JNumber 250.0); (\"name\", JString \"text1\");\n",
      "      (\"onMouseUp\", JString \"sun1.opacity = (sun1.opacity / 100) * 90;\");\n",
      "      (\"size\", JNumber 36.0); (\"style\", JString \"bold\");\n",
      "      (\"vOffset\", JNumber 100.0)])\r\n",
      "              - Key: window\r\n",
      "                Value: JObject\n",
      "  (map\n",
      "     [(\"height\", JNumber 500.0); (\"name\", JString \"main_window\");\n",
      "      (\"title\", JString \"Sample Konfabulator Widget\"); (\"width\", JNumber 500.0)])\r\n"
     ]
    }
   ],
   "source": [
    "//// test\n",
    "\n",
    "let example2 = \"\"\"{\"widget\": {\n",
    "    \"debug\": \"on\",\n",
    "    \"window\": {\n",
    "        \"title\": \"Sample Konfabulator Widget\",\n",
    "        \"name\": \"main_window\",\n",
    "        \"width\": 500,\n",
    "        \"height\": 500\n",
    "    },\n",
    "    \"image\": {\n",
    "        \"src\": \"Images/Sun.png\",\n",
    "        \"name\": \"sun1\",\n",
    "        \"hOffset\": 250,\n",
    "        \"vOffset\": 250,\n",
    "        \"alignment\": \"center\"\n",
    "    },\n",
    "    \"text\": {\n",
    "        \"data\": \"Click Here\",\n",
    "        \"size\": 36,\n",
    "        \"style\": \"bold\",\n",
    "        \"name\": \"text1\",\n",
    "        \"hOffset\": 250,\n",
    "        \"vOffset\": 100,\n",
    "        \"alignment\": \"center\",\n",
    "        \"onMouseUp\": \"sun1.opacity = (sun1.opacity / 100) * 90;\"\n",
    "    }\n",
    "}}\"\"\"\n",
    "\n",
    "run jValue example2\n",
    "|> parserEqual (\n",
    "    Success (\n",
    "        JObject (\n",
    "            Map.ofList [\n",
    "                \"widget\", JObject (\n",
    "                    Map.ofList [\n",
    "                        \"debug\", JString \"on\"\n",
    "                        \"window\", JObject (\n",
    "                            Map.ofList [\n",
    "                                \"title\", JString \"Sample Konfabulator Widget\"\n",
    "                                \"name\", JString \"main_window\"\n",
    "                                \"width\", JNumber 500.0\n",
    "                                \"height\", JNumber 500.0\n",
    "                            ]\n",
    "                        )\n",
    "                        \"image\", JObject (\n",
    "                            Map.ofList [\n",
    "                                \"src\", JString \"Images/Sun.png\"\n",
    "                                \"name\", JString \"sun1\"\n",
    "                                \"hOffset\", JNumber 250.0\n",
    "                                \"vOffset\", JNumber 250.0\n",
    "                                \"alignment\", JString \"center\"\n",
    "                            ]\n",
    "                        )\n",
    "                        \"text\", JObject (\n",
    "                            Map.ofList [\n",
    "                                \"data\", JString \"Click Here\"\n",
    "                                \"size\", JNumber 36.0\n",
    "                                \"style\", JString \"bold\"\n",
    "                                \"name\", JString \"text1\"\n",
    "                                \"hOffset\", JNumber 250.0\n",
    "                                \"vOffset\", JNumber 100.0\n",
    "                                \"alignment\", JString \"center\"\n",
    "                                \"onMouseUp\", JString \"sun1.opacity = (sun1.opacity / 100) * 90;\"\n",
    "                            ]\n",
    "                        )\n",
    "                    ]\n",
    "                )\n",
    "            ]\n",
    "        )\n",
    "    )\n",
    ")"
   ]
  },
  {
   "cell_type": "code",
   "execution_count": null,
   "metadata": {
    "dotnet_repl_cellExecutionStartTime": "2023-07-25T21:35:30.6326983-03:00",
    "dotnet_repl_cellExecutionEndTime": "2023-07-25T21:35:31.2294085-03:00",
    "dotnet_repl_cellExecutionTime": "596.714ms",
    "dotnet_interactive": {
     "language": "fsharp"
    },
    "polyglot_notebook": {
     "kernelName": "fsharp"
    }
   },
   "outputs": [
    {
     "data": {
      "text/html": [
       "<details open=\"open\" class=\"dni-treeview\"><summary><span class=\"dni-code-hint\"><code>Success\\n  (JObject\\n     (map\\n        [(\"array\",\\n          JArray\\n            [JNumber 1.0; JNumber 2.0; JNumber 3.0; JNumber 4.0; JNumber 5.0]);\\n         (\"boolean\", JBool true); (\"emptyArray\", JArray []);\\n         (\"emptyObject\", JObject (map []));\\n         (\"escapedString\", JString \"This s...</code></span></summary><div><table><thead><tr></tr></thead><tbody><tr><td>Item</td><td><details class=\"dni-treeview\"><summary><span class=\"dni-code-hint\"><code>(JObject\\n  (map\\n     [(\"array\",\\n       JArray [JNumber 1.0; JNumber 2.0; JNumber 3.0; JNumber 4.0; JNumber 5.0]);\\n      (\"boolean\", JBool true); (\"emptyArray\", JArray []);\\n      (\"emptyObject\", JObject (map []));\\n      (\"escapedString\", JString \"This string contains \\/\\\\\\b\\f\\n\\r\\t\\\"\\'\");\\n    ...</code></span></summary><div><table><thead><tr></tr></thead><tbody><tr><td>Item1</td><td><details class=\"dni-treeview\"><summary><span class=\"dni-code-hint\"><code>JObject\\n  (map\\n     [(\"array\",\\n       JArray [JNumber 1.0; JNumber 2.0; JNumber 3.0; JNumber 4.0; JNumber 5.0]);\\n      (\"boolean\", JBool true); (\"emptyArray\", JArray []);\\n      (\"emptyObject\", JObject (map []));\\n      (\"escapedString\", JString \"This string contains \\/\\\\\\b\\f\\n\\r\\t\\\"\\'\");\\n     ...</code></span></summary><div><table><thead><tr></tr></thead><tbody><tr><td>Item</td><td><table><thead><tr><th><i>key</i></th><th><i>type</i></th><th>value</th></tr></thead><tbody><tr><td>array</td><td>FSI_0012+JValue+JArray</td><td><details class=\"dni-treeview\"><summary><span class=\"dni-code-hint\"><code>JArray [JNumber 1.0; JNumber 2.0; JNumber 3.0; JNumber 4.0; JNumber 5.0]</code></span></summary><div><table><thead><tr></tr></thead><tbody><tr><td>Item</td><td><table><thead><tr><th><i>index</i></th><th>value</th></tr></thead><tbody><tr><td>0</td><td>JNumber 1.0</td></tr><tr><td>1</td><td>JNumber 2.0</td></tr><tr><td>2</td><td>JNumber 3.0</td></tr><tr><td>3</td><td>JNumber 4.0</td></tr><tr><td>4</td><td>JNumber 5.0</td></tr></tbody></table></td></tr></tbody></table></div></details></td></tr><tr><td>boolean</td><td>FSI_0012+JValue+JBool</td><td><details class=\"dni-treeview\"><summary><span class=\"dni-code-hint\"><code>JBool true</code></span></summary><div><table><thead><tr></tr></thead><tbody><tr><td>Item</td><td><div class=\"dni-plaintext\"><pre>True</pre></div></td></tr></tbody></table></div></details></td></tr><tr><td>emptyArray</td><td>FSI_0012+JValue+JArray</td><td><details class=\"dni-treeview\"><summary><span class=\"dni-code-hint\"><code>JArray []</code></span></summary><div><table><thead><tr></tr></thead><tbody><tr><td>Item</td><td></td></tr></tbody></table></div></details></td></tr><tr><td>emptyObject</td><td>FSI_0012+JValue+JObject</td><td><details class=\"dni-treeview\"><summary><span class=\"dni-code-hint\"><code>JObject (map [])</code></span></summary><div><table><thead><tr></tr></thead><tbody><tr><td>Item</td><td><i>(empty)</i></td></tr></tbody></table></div></details></td></tr><tr><td>escapedString</td><td>FSI_0012+JValue+JString</td><td><details class=\"dni-treeview\"><summary><span class=\"dni-code-hint\"><code>JString \"This string contains \\/\\\\\\b\\f\\n\\r\\t\\\"\\'\"</code></span></summary><div><table><thead><tr></tr></thead><tbody><tr><td>Item</td><td>This string contains \\/\\\\\\b\\f\\n\\r\\t\\&quot;\\&#39;</td></tr></tbody></table></div></details></td></tr><tr><td>nestedArrays</td><td>FSI_0012+JValue+JArray</td><td><details class=\"dni-treeview\"><summary><span class=\"dni-code-hint\"><code>JArray\\n  [JArray [JNumber 1.0; JNumber 2.0; JNumber 3.0];\\n   JArray [JNumber 4.0; JNumber 5.0; JNumber 6.0]]</code></span></summary><div><table><thead><tr></tr></thead><tbody><tr><td>Item</td><td><table><thead><tr><th><i>index</i></th><th>value</th></tr></thead><tbody><tr><td>0</td><td>JArray [JNumber 1.0; JNumber 2.0; JNumber 3.0]</td></tr><tr><td>1</td><td>JArray [JNumber 4.0; JNumber 5.0; JNumber 6.0]</td></tr></tbody></table></td></tr></tbody></table></div></details></td></tr><tr><td>nestedObjects</td><td>FSI_0012+JValue+JArray</td><td><details class=\"dni-treeview\"><summary><span class=\"dni-code-hint\"><code>JArray\\n  [JObject (map [(\"age\", JNumber 25.0); (\"name\", JString \"Alice\")]);\\n   JObject (map [(\"age\", JNumber 30.0); (\"name\", JString \"Bob\")])]</code></span></summary><div><table><thead><tr></tr></thead><tbody><tr><td>Item</td><td><table><thead><tr><th><i>index</i></th><th>value</th></tr></thead><tbody><tr><td>0</td><td>JObject (map [(\"age\", JNumber 25.0); (\"name\", JString \"Alice\")])</td></tr><tr><td>1</td><td>JObject (map [(\"age\", JNumber 30.0); (\"name\", JString \"Bob\")])</td></tr></tbody></table></td></tr></tbody></table></div></details></td></tr><tr><td>nullValue</td><td>FSI_0012+JValue</td><td><details class=\"dni-treeview\"><summary><span class=\"dni-code-hint\"><code>JNull</code></span></summary><div><table><thead><tr></tr></thead><tbody></tbody></table></div></details></td></tr><tr><td>number</td><td>FSI_0012+JValue+JNumber</td><td><details class=\"dni-treeview\"><summary><span class=\"dni-code-hint\"><code>JNumber 42.0</code></span></summary><div><table><thead><tr></tr></thead><tbody><tr><td>Item</td><td><div class=\"dni-plaintext\"><pre>42</pre></div></td></tr></tbody></table></div></details></td></tr><tr><td>object</td><td>FSI_0012+JValue+JObject</td><td><details class=\"dni-treeview\"><summary><span class=\"dni-code-hint\"><code>JObject\\n  (map\\n     [(\"nestedArray\", JArray [JString \"a\"; JString \"b\"; JString \"c\"]);\\n      (\"nestedBoolean\", JBool false); (\"nestedNull\", JNull);\\n      (\"nestedNumber\", JNumber 3.14);\\n      (\"nestedObject\",\\n       JObject (map [(\"nestedProperty\", JString \"Nested Object Value\")]));\\n      (\"ne...</code></span></summary><div><table><thead><tr></tr></thead><tbody><tr><td>Item</td><td><table><thead><tr><th><i>key</i></th><th><i>type</i></th><th>value</th></tr></thead><tbody><tr><td>nestedArray</td><td>FSI_0012+JValue+JArray</td><td>JArray [JString \"a\"; JString \"b\"; JString \"c\"]</td></tr><tr><td>nestedBoolean</td><td>FSI_0012+JValue+JBool</td><td>JBool false</td></tr><tr><td>nestedNull</td><td>FSI_0012+JValue</td><td>JNull</td></tr><tr><td>nestedNumber</td><td>FSI_0012+JValue+JNumber</td><td>JNumber 3.14</td></tr><tr><td>nestedObject</td><td>FSI_0012+JValue+JObject</td><td>JObject (map [(\"nestedProperty\", JString \"Nested Object Value\")])</td></tr><tr><td>nestedString</td><td>FSI_0012+JValue+JString</td><td>JString \"Nested Value\"</td></tr></tbody></table></td></tr></tbody></table></div></details></td></tr><tr><td>scientificNumber</td><td>FSI_0012+JValue+JNumber</td><td><details class=\"dni-treeview\"><summary><span class=\"dni-code-hint\"><code>JNumber 3.14e-10</code></span></summary><div><table><thead><tr></tr></thead><tbody><tr><td>Item</td><td><div class=\"dni-plaintext\"><pre>3.14E-10</pre></div></td></tr></tbody></table></div></details></td></tr><tr><td>specialCharacters</td><td>FSI_0012+JValue+JString</td><td><details class=\"dni-treeview\"><summary><span class=\"dni-code-hint\"><code>JString \"!@#$%^&*()\"</code></span></summary><div><table><thead><tr></tr></thead><tbody><tr><td>Item</td><td>!@#$%^&amp;*()</td></tr></tbody></table></div></details></td></tr><tr><td>string</td><td>FSI_0012+JValue+JString</td><td><details class=\"dni-treeview\"><summary><span class=\"dni-code-hint\"><code>JString \"Hello, \"World\"!\"</code></span></summary><div><table><thead><tr></tr></thead><tbody><tr><td>Item</td><td>Hello, &quot;World&quot;!</td></tr></tbody></table></div></details></td></tr><tr><td>unicodeString1</td><td>FSI_0012+JValue+JString</td><td><details class=\"dni-treeview\"><summary><span class=\"dni-code-hint\"><code>JString \"프리마\"</code></span></summary><div><table><thead><tr></tr></thead><tbody><tr><td>Item</td><td>프리마</td></tr></tbody></table></div></details></td></tr><tr><td>unicodeString2</td><td>FSI_0012+JValue+JString</td><td><details class=\"dni-treeview\"><summary><span class=\"dni-code-hint\"><code>JString \"Hello, \"World\"!\"</code></span></summary><div><table><thead><tr></tr></thead><tbody><tr><td>Item</td><td>Hello, &quot;World&quot;!</td></tr></tbody></table></div></details></td></tr></tbody></table></td></tr></tbody></table></div></details></td></tr><tr><td>Item2</td><td><details class=\"dni-treeview\"><summary><span class=\"dni-code-hint\"><code>{ lines =\\n   [|\"{\"; \"  \"string\": \"Hello, \\\"World\\\"!\",\";\\n     \"  \"escapedString\": \"This string contains \\\\/\\\\\\\\\\\\b\\\\f\\\\n\\\\r\\\\t\\\\\\\"\\\\'\",\";\\n     \"  \"number\": 42,\"; \"  \"scientificNumber\": 3.14e-10,\"; \"  \"boolean\": true,\";\\n     \"  \"nullValue\": null,\"; \"  \"array\": [1, 2, 3, 4, 5],\";\\n     \"  \"unicodeS...</code></span></summary><div><table><thead><tr></tr></thead><tbody><tr><td>lines</td><td><div class=\"dni-plaintext\"><pre>[ {,   &quot;string&quot;: &quot;Hello, \\&quot;World\\&quot;!&quot;,,   &quot;escapedString&quot;: &quot;This string contains \\\\/\\\\\\\\\\\\b\\\\f\\\\n\\\\r\\\\t\\\\\\&quot;\\\\&#39;&quot;,,   &quot;number&quot;: 42,,   &quot;scientificNumber&quot;: 3.14e-10,,   &quot;boolean&quot;: true,,   &quot;nullValue&quot;: null,,   &quot;array&quot;: [1, 2, 3, 4, 5],,   &quot;unicodeString1&quot;: &quot;프리마&quot;,,   &quot;unicodeString2&quot;: &quot;\\u0048\\u0065\\u006C\\u006C\\u006F, \\u0022\\u0057\\u006F\\u0072\\u006C\\u0064\\u0022!&quot;,,   &quot;specialCharacters&quot;: &quot;!@#$%^&amp;*()&quot;,,   &quot;emptyArray&quot;: [],,   &quot;emptyObject&quot;: {},,   &quot;nestedArrays&quot;: [[1, 2, 3], [4, 5, 6]],,   &quot;object&quot;: {,     &quot;nestedString&quot;: &quot;Nested Value&quot;,,     &quot;nestedNumber&quot;: 3.14,,     &quot;nestedBoolean&quot;: false,,     &quot;nestedNull&quot;: null,,     &quot;nestedArray&quot;: [&quot;a&quot;, &quot;b&quot;, &quot;c&quot;],,     &quot;nestedObject&quot;: {,       &quot;nestedProperty&quot;: &quot;Nested Object Value&quot;,     },   },,   &quot;nestedObjects&quot;: [,     {&quot;name&quot;: &quot;Alice&quot;, &quot;age&quot;: 25},,     {&quot;name&quot;: &quot;Bob&quot;, &quot;age&quot;: 30},   ], } ]</pre></div></td></tr><tr><td>position</td><td><details class=\"dni-treeview\"><summary><span class=\"dni-code-hint\"><code>{ line = 29\\n  column = 0 }</code></span></summary><div><table><thead><tr></tr></thead><tbody><tr><td>line</td><td><div class=\"dni-plaintext\"><pre>29</pre></div></td></tr><tr><td>column</td><td><div class=\"dni-plaintext\"><pre>0</pre></div></td></tr></tbody></table></div></details></td></tr></tbody></table></div></details></td></tr></tbody></table></div></details></td></tr></tbody></table></div></details><style>\r\n",
       ".dni-code-hint {\r\n",
       "    font-style: italic;\r\n",
       "    overflow: hidden;\r\n",
       "    white-space: nowrap;\r\n",
       "}\r\n",
       ".dni-treeview {\r\n",
       "    white-space: nowrap;\r\n",
       "}\r\n",
       ".dni-treeview td {\r\n",
       "    vertical-align: top;\r\n",
       "    text-align: start;\r\n",
       "}\r\n",
       "details.dni-treeview {\r\n",
       "    padding-left: 1em;\r\n",
       "}\r\n",
       "table td {\r\n",
       "    text-align: start;\r\n",
       "}\r\n",
       "table tr { \r\n",
       "    vertical-align: top; \r\n",
       "    margin: 0em 0px;\r\n",
       "}\r\n",
       "table tr td pre \r\n",
       "{ \r\n",
       "    vertical-align: top !important; \r\n",
       "    margin: 0em 0px !important;\r\n",
       "} \r\n",
       "table th {\r\n",
       "    text-align: start;\r\n",
       "}\r\n",
       "</style>"
      ]
     },
     "metadata": {},
     "output_type": "display_data"
    },
    {
     "name": "stdout",
     "output_type": "stream",
     "text": [
      "JObject\n",
      "  (map\n",
      "     [(\"array\",\n",
      "       JArray [JNumber 1.0; JNumber 2.0; JNumber 3.0; JNumber 4.0; JNumber 5.0]);\n",
      "      (\"boolean\", JBool true); (\"emptyArray\", JArray []);\n",
      "      (\"emptyObject\", JObject (map []));\n",
      "      (\"escapedString\", JString \"This string contains \\/\\\\\\b\\f\\n\\r\\t\\\"\\'\");\n",
      "      (\"nestedArrays\",\n",
      "       JArray\n",
      "         [JArray [JNumber 1.0; JNumber 2.0; JNumber 3.0];\n",
      "          JArray [JNumber 4.0; JNumber 5.0; JNumber 6.0]]);\n",
      "      (\"nestedObjects\",\n",
      "       JArray\n",
      "         [JObject (map [(\"age\", JNumber 25.0); (\"name\", JString \"Alice\")]);\n",
      "          JObject (map [(\"age\", JNumber 30.0); (\"name\", JString \"Bob\")])]);\n",
      "      (\"nullValue\", JNull); (\"number\", JNumber 42.0); ...])\r\n",
      "JObject\r\n",
      "      Item: FSharpMap<String,JValue>\r\n",
      "        - Key: array\r\n",
      "          Value: JArray\r\n",
      "            Item: FSharpList<JValue>\r\n",
      "              - Item: 1\r\n",
      "              - Item: 2\r\n",
      "              - Item: 3\r\n",
      "              - Item: 4\r\n",
      "              - Item: 5\r\n",
      "        - Key: boolean\r\n",
      "          Value: JBool\r\n",
      "            Item: True\r\n",
      "        - Key: emptyArray\r\n",
      "          Value: JArray\r\n",
      "            Item: FSharpList<JValue>\r\n",
      "\r\n",
      "        - Key: emptyObject\r\n",
      "          Value: JObject\r\n",
      "            Item: FSharpMap<String,JValue>\r\n",
      "\r\n",
      "        - Key: escapedString\r\n",
      "          Value: JString\r\n",
      "            Item: This string contains \\/\\\\\\b\\f\\n\\r\\t\\\"\\'\r\n",
      "        - Key: nestedArrays\r\n",
      "          Value: JArray\r\n",
      "            Item: FSharpList<JValue>\r\n",
      "              - Item: [ JNumber 1.0, JNumber 2.0, JNumber 3.0 ]\r\n",
      "              - Item: [ JNumber 4.0, JNumber 5.0, JNumber 6.0 ]\r\n",
      "        - Key: nestedObjects\r\n",
      "          Value: JArray\r\n",
      "            Item: FSharpList<JValue>\r\n",
      "              - Item: [ [age, JNumber 25.0], [name, JString \"Alice\"] ]\r\n",
      "              - Item: [ [age, JNumber 30.0], [name, JString \"Bob\"] ]\r\n",
      "        - Key: nullValue\r\n",
      "          Value: JNull\r\n",
      "        - Key: number\r\n",
      "          Value: JNumber\r\n",
      "            Item: 42\r\n",
      "        - Key: object\r\n",
      "          Value: JObject\r\n",
      "            Item: FSharpMap<String,JValue>\r\n",
      "              - Key: nestedArray\r\n",
      "                Value: JArray [JString \"a\"; JString \"b\"; JString \"c\"]\r\n",
      "              - Key: nestedBoolean\r\n",
      "                Value: JBool false\r\n",
      "              - Key: nestedNull\r\n",
      "                Value: JNull\r\n",
      "              - Key: nestedNumber\r\n",
      "                Value: JNumber 3.14\r\n",
      "              - Key: nestedObject\r\n",
      "                Value: JObject (map [(\"nestedProperty\", JString \"Nested Object Value\")])\r\n",
      "              - Key: nestedString\r\n",
      "                Value: JString \"Nested Value\"\r\n",
      "        - Key: scientificNumber\r\n",
      "          Value: JNumber\r\n",
      "            Item: 3.14E-10\r\n",
      "        - Key: specialCharacters\r\n",
      "          Value: JString\r\n",
      "            Item: !@#$%^&*()\r\n",
      "        - Key: string\r\n",
      "          Value: JString\r\n",
      "            Item: Hello, \"World\"!\r\n",
      "        - Key: unicodeString1\r\n",
      "          Value: JString\r\n",
      "            Item: 프리마\r\n",
      "        - Key: unicodeString2\r\n",
      "          Value: JString\r\n",
      "            Item: Hello, \"World\"!\r\n"
     ]
    }
   ],
   "source": [
    "//// test\n",
    "\n",
    "let example3 = \"\"\"{\n",
    "  \"string\": \"Hello, \\\"World\\\"!\",\n",
    "  \"escapedString\": \"This string contains \\\\/\\\\\\\\\\\\b\\\\f\\\\n\\\\r\\\\t\\\\\\\"\\\\'\",\n",
    "  \"number\": 42,\n",
    "  \"scientificNumber\": 3.14e-10,\n",
    "  \"boolean\": true,\n",
    "  \"nullValue\": null,\n",
    "  \"array\": [1, 2, 3, 4, 5],\n",
    "  \"unicodeString1\": \"프리마\",\n",
    "  \"unicodeString2\": \"\\u0048\\u0065\\u006C\\u006C\\u006F, \\u0022\\u0057\\u006F\\u0072\\u006C\\u0064\\u0022!\",\n",
    "  \"specialCharacters\": \"!@#$%^&*()\",\n",
    "  \"emptyArray\": [],\n",
    "  \"emptyObject\": {},\n",
    "  \"nestedArrays\": [[1, 2, 3], [4, 5, 6]],\n",
    "  \"object\": {\n",
    "    \"nestedString\": \"Nested Value\",\n",
    "    \"nestedNumber\": 3.14,\n",
    "    \"nestedBoolean\": false,\n",
    "    \"nestedNull\": null,\n",
    "    \"nestedArray\": [\"a\", \"b\", \"c\"],\n",
    "    \"nestedObject\": {\n",
    "      \"nestedProperty\": \"Nested Object Value\"\n",
    "    }\n",
    "  },\n",
    "  \"nestedObjects\": [\n",
    "    {\"name\": \"Alice\", \"age\": 25},\n",
    "    {\"name\": \"Bob\", \"age\": 30}\n",
    "  ]\n",
    "}\"\"\"\n",
    "run jValue example3\n",
    "|> parserEqual (\n",
    "    Success (\n",
    "        JObject (\n",
    "            Map.ofList [\n",
    "                \"string\", JString @\"Hello, \"\"World\"\"!\"\n",
    "                \"escapedString\", JString @\"This string contains \\/\\\\\\b\\f\\n\\r\\t\\\"\"\\'\"\n",
    "                \"number\", JNumber 42.0\n",
    "                \"scientificNumber\", JNumber 3.14e-10\n",
    "                \"boolean\", JBool true\n",
    "                \"nullValue\", JNull\n",
    "                \"array\", JArray [\n",
    "                    JNumber 1.0; JNumber 2.0; JNumber 3.0; JNumber 4.0; JNumber 5.0\n",
    "                ]\n",
    "                \"unicodeString1\", JString \"프리마\"\n",
    "                \"unicodeString2\", JString @\"Hello, \"\"World\"\"!\"\n",
    "                \"specialCharacters\", JString \"!@#$%^&*()\"\n",
    "                \"emptyArray\", JArray []\n",
    "                \"emptyObject\", JObject Map.empty\n",
    "                \"nestedArrays\", JArray [\n",
    "                    JArray [ JNumber 1.0; JNumber 2.0; JNumber 3.0 ]\n",
    "                    JArray [ JNumber 4.0; JNumber 5.0; JNumber 6.0 ]\n",
    "                ]\n",
    "                \"object\", JObject (\n",
    "                    Map.ofList [\n",
    "                        \"nestedString\", JString \"Nested Value\"\n",
    "                        \"nestedNumber\", JNumber 3.14\n",
    "                        \"nestedBoolean\", JBool false\n",
    "                        \"nestedNull\", JNull\n",
    "                        \"nestedArray\", JArray [JString \"a\"; JString \"b\"; JString \"c\"]\n",
    "                        \"nestedObject\", JObject (\n",
    "                            Map.ofList [\n",
    "                                \"nestedProperty\", JString \"Nested Object Value\"\n",
    "                            ]\n",
    "                        )\n",
    "                    ]\n",
    "                )\n",
    "                \"nestedObjects\", JArray [\n",
    "                  JObject (Map.ofList [ \"name\", JString \"Alice\"; \"age\", JNumber 25.0 ])\n",
    "                  JObject (Map.ofList [ \"name\", JString \"Bob\"; \"age\", JNumber 30.0 ])\n",
    "                ]\n",
    "            ]\n",
    "        )\n",
    "    )\n",
    ")"
   ]
  }
 ],
 "metadata": {
  "kernelspec": {
   "display_name": ".NET (C#)",
   "language": "C#",
   "name": ".net-csharp"
  },
  "language_info": {
   "file_extension": ".cs",
   "mimetype": "text/x-csharp",
   "name": "C#",
   "pygments_lexer": "csharp",
   "version": "10.0"
  },
  "polyglot_notebook": {
   "defaultKernelName": "csharp",
   "items": [
    {
     "name": "csharp"
    }
   ]
  },
  "dotnet_interactive": {
   "defaultKernelName": "csharp",
   "items": [
    {
     "name": "csharp"
    }
   ]
  }
 },
 "nbformat": 4,
 "nbformat_minor": 5
}