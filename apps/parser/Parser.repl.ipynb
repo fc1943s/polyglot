{
 "cells": [
  {
   "cell_type": "markdown",
   "metadata": {
    "dotnet_repl_cellExecutionStartTime": "2023-07-25T21:35:33.1890224-03:00",
    "dotnet_repl_cellExecutionEndTime": "2023-07-25T21:35:33.2558799-03:00",
    "dotnet_repl_cellExecutionTime": "67.1628ms"
   },
   "source": [
    "# Parser (Polyglot)"
   ]
  },
  {
   "cell_type": "code",
   "execution_count": null,
   "metadata": {
    "dotnet_repl_cellExecutionStartTime": "2023-07-25T21:35:33.2583537-03:00",
    "dotnet_repl_cellExecutionEndTime": "2023-07-25T21:35:38.692008-03:00",
    "dotnet_repl_cellExecutionTime": "5.4336594s",
    "dotnet_interactive": {
     "language": "fsharp"
    },
    "polyglot_notebook": {
     "kernelName": "fsharp"
    }
   },
   "outputs": [],
   "source": [
    "#!import ../nbs/Testing.dib"
   ]
  },
  {
   "cell_type": "code",
   "execution_count": null,
   "metadata": {
    "dotnet_repl_cellExecutionStartTime": "2023-07-25T21:35:38.6920844-03:00",
    "dotnet_repl_cellExecutionEndTime": "2023-07-25T21:35:39.2508479-03:00",
    "dotnet_repl_cellExecutionTime": "558.7678ms",
    "dotnet_interactive": {
     "language": "fsharp"
    },
    "polyglot_notebook": {
     "kernelName": "fsharp"
    }
   },
   "outputs": [],
   "source": [
    "#!import ../nbs/Common.fs"
   ]
  },
  {
   "cell_type": "code",
   "execution_count": null,
   "metadata": {
    "dotnet_repl_cellExecutionStartTime": "2023-07-25T21:35:39.2508791-03:00",
    "dotnet_repl_cellExecutionEndTime": "2023-07-25T21:35:39.2573904-03:00",
    "dotnet_repl_cellExecutionTime": "6.5158ms",
    "dotnet_interactive": {
     "language": "fsharp"
    },
    "polyglot_notebook": {
     "kernelName": "fsharp"
    }
   },
   "outputs": [],
   "source": [
    "open Common"
   ]
  },
  {
   "cell_type": "markdown",
   "metadata": {
    "dotnet_repl_cellExecutionStartTime": "2023-07-25T21:35:39.2574538-03:00",
    "dotnet_repl_cellExecutionEndTime": "2023-07-25T21:35:39.2611878-03:00",
    "dotnet_repl_cellExecutionTime": "3.739ms"
   },
   "source": [
    "### TextInput"
   ]
  },
  {
   "cell_type": "code",
   "execution_count": null,
   "metadata": {
    "dotnet_repl_cellExecutionStartTime": "2023-07-25T21:35:39.261243-03:00",
    "dotnet_repl_cellExecutionEndTime": "2023-07-25T21:35:39.3123655-03:00",
    "dotnet_repl_cellExecutionTime": "51.1268ms",
    "dotnet_interactive": {
     "language": "fsharp"
    },
    "polyglot_notebook": {
     "kernelName": "fsharp"
    }
   },
   "outputs": [],
   "source": [
    "type Position =\n",
    "    {\n",
    "        line : int\n",
    "        column : int\n",
    "    }"
   ]
  },
  {
   "cell_type": "code",
   "execution_count": null,
   "metadata": {
    "dotnet_repl_cellExecutionStartTime": "2023-07-25T21:35:39.3123978-03:00",
    "dotnet_repl_cellExecutionEndTime": "2023-07-25T21:35:39.3506233-03:00",
    "dotnet_repl_cellExecutionTime": "38.2296ms",
    "dotnet_interactive": {
     "language": "fsharp"
    },
    "polyglot_notebook": {
     "kernelName": "fsharp"
    }
   },
   "outputs": [],
   "source": [
    "let initialPos = { line = 0; column = 0 }"
   ]
  },
  {
   "cell_type": "code",
   "execution_count": null,
   "metadata": {
    "dotnet_repl_cellExecutionStartTime": "2023-07-25T21:35:39.3506547-03:00",
    "dotnet_repl_cellExecutionEndTime": "2023-07-25T21:35:39.3615119-03:00",
    "dotnet_repl_cellExecutionTime": "10.8613ms",
    "dotnet_interactive": {
     "language": "fsharp"
    },
    "polyglot_notebook": {
     "kernelName": "fsharp"
    }
   },
   "outputs": [],
   "source": [
    "let inline incrCol (pos : Position) =\n",
    "    { pos with column = pos.column + 1 }"
   ]
  },
  {
   "cell_type": "code",
   "execution_count": null,
   "metadata": {
    "dotnet_repl_cellExecutionStartTime": "2023-07-25T21:35:39.3615448-03:00",
    "dotnet_repl_cellExecutionEndTime": "2023-07-25T21:35:39.3697679-03:00",
    "dotnet_repl_cellExecutionTime": "8.2274ms",
    "dotnet_interactive": {
     "language": "fsharp"
    },
    "polyglot_notebook": {
     "kernelName": "fsharp"
    }
   },
   "outputs": [],
   "source": [
    "let inline incrLine pos =\n",
    "    { line = pos.line + 1; column = 0 }"
   ]
  },
  {
   "cell_type": "code",
   "execution_count": null,
   "metadata": {
    "dotnet_repl_cellExecutionStartTime": "2023-07-25T21:35:39.3698088-03:00",
    "dotnet_repl_cellExecutionEndTime": "2023-07-25T21:35:39.3973165-03:00",
    "dotnet_repl_cellExecutionTime": "27.5151ms",
    "dotnet_interactive": {
     "language": "fsharp"
    },
    "polyglot_notebook": {
     "kernelName": "fsharp"
    }
   },
   "outputs": [],
   "source": [
    "type InputState =\n",
    "    {\n",
    "        lines : string[]\n",
    "        position : Position\n",
    "    }"
   ]
  },
  {
   "cell_type": "code",
   "execution_count": null,
   "metadata": {
    "dotnet_repl_cellExecutionStartTime": "2023-07-25T21:35:39.3973633-03:00",
    "dotnet_repl_cellExecutionEndTime": "2023-07-25T21:35:39.4100224-03:00",
    "dotnet_repl_cellExecutionTime": "12.6636ms",
    "dotnet_interactive": {
     "language": "fsharp"
    },
    "polyglot_notebook": {
     "kernelName": "fsharp"
    }
   },
   "outputs": [],
   "source": [
    "let inline fromStr str =\n",
    "    {\n",
    "        lines =\n",
    "            if str |> String.IsNullOrEmpty\n",
    "            then [||]\n",
    "            else str |> String.splitString [| \"\\r\\n\"; \"\\n\" |]\n",
    "        position = initialPos\n",
    "    }"
   ]
  },
  {
   "cell_type": "code",
   "execution_count": null,
   "metadata": {
    "dotnet_repl_cellExecutionStartTime": "2023-07-25T21:35:39.4100578-03:00",
    "dotnet_repl_cellExecutionEndTime": "2023-07-25T21:35:39.4772421-03:00",
    "dotnet_repl_cellExecutionTime": "67.1888ms",
    "dotnet_interactive": {
     "language": "fsharp"
    },
    "polyglot_notebook": {
     "kernelName": "fsharp"
    }
   },
   "outputs": [
    {
     "name": "stdout",
     "output_type": "stream",
     "text": [
      "InputState\r\n",
      "      lines: [  ]\r\n",
      "      position: Position\r\n",
      "        line: 0\r\n",
      "        column: 0\r\n"
     ]
    }
   ],
   "source": [
    "//// test\n",
    "\n",
    "fromStr \"\" |> _equal {\n",
    "    lines = [||]\n",
    "    position = { line = 0; column = 0 }\n",
    "}"
   ]
  },
  {
   "cell_type": "code",
   "execution_count": null,
   "metadata": {
    "dotnet_repl_cellExecutionStartTime": "2023-07-25T21:35:39.4772895-03:00",
    "dotnet_repl_cellExecutionEndTime": "2023-07-25T21:35:39.5026248-03:00",
    "dotnet_repl_cellExecutionTime": "25.3398ms",
    "dotnet_interactive": {
     "language": "fsharp"
    },
    "polyglot_notebook": {
     "kernelName": "fsharp"
    }
   },
   "outputs": [
    {
     "name": "stdout",
     "output_type": "stream",
     "text": [
      "InputState\r\n",
      "      lines: [ Hello ,  World ]\r\n",
      "      position: Position\r\n",
      "        line: 0\r\n",
      "        column: 0\r\n"
     ]
    }
   ],
   "source": [
    "//// test\n",
    "\n",
    "fromStr \"Hello \\n World\" |> _equal {\n",
    "    lines = [| \"Hello \"; \" World\" |]\n",
    "    position = { line = 0; column = 0 }\n",
    "}"
   ]
  },
  {
   "cell_type": "code",
   "execution_count": null,
   "metadata": {
    "dotnet_repl_cellExecutionStartTime": "2023-07-25T21:35:39.5026679-03:00",
    "dotnet_repl_cellExecutionEndTime": "2023-07-25T21:35:39.521569-03:00",
    "dotnet_repl_cellExecutionTime": "18.906ms",
    "dotnet_interactive": {
     "language": "fsharp"
    },
    "polyglot_notebook": {
     "kernelName": "fsharp"
    }
   },
   "outputs": [],
   "source": [
    "let inline currentLine inputState =\n",
    "    let linePos = inputState.position.line\n",
    "    if linePos < inputState.lines.Length\n",
    "    then inputState.lines.[linePos]\n",
    "    else \"end of file\""
   ]
  },
  {
   "cell_type": "code",
   "execution_count": null,
   "metadata": {
    "dotnet_repl_cellExecutionStartTime": "2023-07-25T21:35:39.5216036-03:00",
    "dotnet_repl_cellExecutionEndTime": "2023-07-25T21:35:39.5454785-03:00",
    "dotnet_repl_cellExecutionTime": "23.8808ms",
    "dotnet_interactive": {
     "language": "fsharp"
    },
    "polyglot_notebook": {
     "kernelName": "fsharp"
    }
   },
   "outputs": [],
   "source": [
    "let inline nextChar input =\n",
    "    let linePos = input.position.line\n",
    "    let colPos = input.position.column\n",
    "\n",
    "    if linePos >= input.lines.Length\n",
    "    then input, None\n",
    "    else\n",
    "        let currentLine = currentLine input\n",
    "        if colPos < currentLine.Length then\n",
    "            let char = currentLine.[colPos]\n",
    "            let newPos = incrCol input.position\n",
    "            let newState = { input with position = newPos }\n",
    "            newState, Some char\n",
    "        else\n",
    "            let char = '\\n'\n",
    "            let newPos = incrLine input.position\n",
    "            let newState = { input with position = newPos }\n",
    "            newState, Some char"
   ]
  },
  {
   "cell_type": "code",
   "execution_count": null,
   "metadata": {
    "dotnet_repl_cellExecutionStartTime": "2023-07-25T21:35:39.5455249-03:00",
    "dotnet_repl_cellExecutionEndTime": "2023-07-25T21:35:39.6035202-03:00",
    "dotnet_repl_cellExecutionTime": "58.0004ms",
    "dotnet_interactive": {
     "language": "fsharp"
    },
    "polyglot_notebook": {
     "kernelName": "fsharp"
    }
   },
   "outputs": [
    {
     "name": "stdout",
     "output_type": "stream",
     "text": [
      "InputState\r\n",
      "      lines: [ Hello World ]\r\n",
      "      position: Position\r\n",
      "        line: 0\r\n",
      "        column: 1\r\n",
      "FSharpOption<Char>\r\n",
      "      Value: H\r\n"
     ]
    }
   ],
   "source": [
    "//// test\n",
    "\n",
    "let newInput, charOpt = fromStr \"Hello World\" |> nextChar\n",
    "\n",
    "newInput |> _equal {\n",
    "    lines = [| \"Hello World\" |]\n",
    "    position = { line = 0; column = 1 }\n",
    "}\n",
    "charOpt |> _equal (Some 'H')"
   ]
  },
  {
   "cell_type": "code",
   "execution_count": null,
   "metadata": {
    "dotnet_repl_cellExecutionStartTime": "2023-07-25T21:35:39.6035606-03:00",
    "dotnet_repl_cellExecutionEndTime": "2023-07-25T21:35:39.6411237-03:00",
    "dotnet_repl_cellExecutionTime": "37.5676ms",
    "dotnet_interactive": {
     "language": "fsharp"
    },
    "polyglot_notebook": {
     "kernelName": "fsharp"
    }
   },
   "outputs": [
    {
     "name": "stdout",
     "output_type": "stream",
     "text": [
      "InputState\r\n",
      "      lines: [ Hello, , World ]\r\n",
      "      position: Position\r\n",
      "        line: 0\r\n",
      "        column: 1\r\n",
      "FSharpOption<Char>\r\n",
      "      Value: H\r\n"
     ]
    }
   ],
   "source": [
    "//// test\n",
    "\n",
    "let newInput, charOpt = fromStr \"Hello\\n\\nWorld\" |> nextChar\n",
    "\n",
    "newInput |> _equal {\n",
    "    lines = [| \"Hello\"; \"\"; \"World\" |]\n",
    "    position = { line = 0; column = 1 }\n",
    "}\n",
    "charOpt |> _equal (Some 'H')"
   ]
  },
  {
   "cell_type": "markdown",
   "metadata": {
    "dotnet_repl_cellExecutionStartTime": "2023-07-25T21:35:39.6411745-03:00",
    "dotnet_repl_cellExecutionEndTime": "2023-07-25T21:35:39.6439267-03:00",
    "dotnet_repl_cellExecutionTime": "2.757ms"
   },
   "source": [
    "### Parser"
   ]
  },
  {
   "cell_type": "code",
   "execution_count": null,
   "metadata": {
    "dotnet_repl_cellExecutionStartTime": "2023-07-25T21:35:39.643961-03:00",
    "dotnet_repl_cellExecutionEndTime": "2023-07-25T21:35:39.8017852-03:00",
    "dotnet_repl_cellExecutionTime": "157.8286ms",
    "dotnet_interactive": {
     "language": "fsharp"
    },
    "polyglot_notebook": {
     "kernelName": "fsharp"
    }
   },
   "outputs": [],
   "source": [
    "type Input = InputState\n",
    "type ParserLabel = string\n",
    "type ParserError = string\n",
    "\n",
    "type ParserPosition =\n",
    "    {\n",
    "        currentLine : string\n",
    "        line : int\n",
    "        column : int\n",
    "    }\n",
    "\n",
    "type ParseResult<'a> =\n",
    "    | Success of 'a\n",
    "    | Failure of ParserLabel * ParserError * ParserPosition\n",
    "\n",
    "type Parser<'a> =\n",
    "    {\n",
    "        label : ParserLabel\n",
    "        parseFn : Input -> ParseResult<'a * Input>\n",
    "    }"
   ]
  },
  {
   "cell_type": "code",
   "execution_count": null,
   "metadata": {
    "dotnet_repl_cellExecutionStartTime": "2023-07-25T21:35:39.8018201-03:00",
    "dotnet_repl_cellExecutionEndTime": "2023-07-25T21:35:39.8440446-03:00",
    "dotnet_repl_cellExecutionTime": "42.2307ms",
    "dotnet_interactive": {
     "language": "fsharp"
    },
    "polyglot_notebook": {
     "kernelName": "fsharp"
    }
   },
   "outputs": [],
   "source": [
    "let inline printResult result =\n",
    "    match result with\n",
    "    | Success (value, input) ->\n",
    "        printfn $\"%A{value}\"\n",
    "    | Failure (label, error, parserPos) ->\n",
    "        let errorLine = parserPos.currentLine\n",
    "        let colPos = parserPos.column\n",
    "        let linePos = parserPos.line\n",
    "        let failureCaret = $\"{' ' |> string |> String.replicate colPos}^{error}\"\n",
    "        printfn $\"Line:%i{linePos} Col:%i{colPos} Error parsing %s{label}\\n%s{errorLine}\\n%s{failureCaret}\""
   ]
  },
  {
   "cell_type": "code",
   "execution_count": null,
   "metadata": {
    "dotnet_repl_cellExecutionStartTime": "2023-07-25T21:35:39.8441135-03:00",
    "dotnet_repl_cellExecutionEndTime": "2023-07-25T21:35:39.8517095-03:00",
    "dotnet_repl_cellExecutionTime": "7.6006ms",
    "dotnet_interactive": {
     "language": "fsharp"
    },
    "polyglot_notebook": {
     "kernelName": "fsharp"
    }
   },
   "outputs": [],
   "source": [
    "let inline runOnInput parser input =\n",
    "    parser.parseFn input"
   ]
  },
  {
   "cell_type": "code",
   "execution_count": null,
   "metadata": {
    "dotnet_repl_cellExecutionStartTime": "2023-07-25T21:35:39.8517501-03:00",
    "dotnet_repl_cellExecutionEndTime": "2023-07-25T21:35:39.8608123-03:00",
    "dotnet_repl_cellExecutionTime": "9.068ms",
    "dotnet_interactive": {
     "language": "fsharp"
    },
    "polyglot_notebook": {
     "kernelName": "fsharp"
    }
   },
   "outputs": [],
   "source": [
    "let inline run parser inputStr =\n",
    "    runOnInput parser (fromStr inputStr)"
   ]
  },
  {
   "cell_type": "code",
   "execution_count": null,
   "metadata": {
    "dotnet_repl_cellExecutionStartTime": "2023-07-25T21:35:39.8608564-03:00",
    "dotnet_repl_cellExecutionEndTime": "2023-07-25T21:35:39.8723519-03:00",
    "dotnet_repl_cellExecutionTime": "11.5001ms",
    "dotnet_interactive": {
     "language": "fsharp"
    },
    "polyglot_notebook": {
     "kernelName": "fsharp"
    }
   },
   "outputs": [],
   "source": [
    "let inline parserPositionFromInputState (inputState : Input) =\n",
    "    {\n",
    "        currentLine = currentLine inputState\n",
    "        line = inputState.position.line\n",
    "        column = inputState.position.column\n",
    "    }"
   ]
  },
  {
   "cell_type": "code",
   "execution_count": null,
   "metadata": {
    "dotnet_repl_cellExecutionStartTime": "2023-07-25T21:35:39.8723865-03:00",
    "dotnet_repl_cellExecutionEndTime": "2023-07-25T21:35:39.8808822-03:00",
    "dotnet_repl_cellExecutionTime": "8.5004ms",
    "dotnet_interactive": {
     "language": "fsharp"
    },
    "polyglot_notebook": {
     "kernelName": "fsharp"
    }
   },
   "outputs": [],
   "source": [
    "let inline getLabel parser =\n",
    "    parser.label"
   ]
  },
  {
   "cell_type": "code",
   "execution_count": null,
   "metadata": {
    "dotnet_repl_cellExecutionStartTime": "2023-07-25T21:35:39.880932-03:00",
    "dotnet_repl_cellExecutionEndTime": "2023-07-25T21:35:39.894627-03:00",
    "dotnet_repl_cellExecutionTime": "13.6998ms",
    "dotnet_interactive": {
     "language": "fsharp"
    },
    "polyglot_notebook": {
     "kernelName": "fsharp"
    }
   },
   "outputs": [],
   "source": [
    "let inline setLabel parser newLabel =\n",
    "    {\n",
    "        label = newLabel\n",
    "        parseFn = fun input ->\n",
    "            match parser.parseFn input with\n",
    "            | Success s -> Success s\n",
    "            | Failure (oldLabel, err, pos) -> Failure (newLabel, err, pos)\n",
    "    }"
   ]
  },
  {
   "cell_type": "code",
   "execution_count": null,
   "metadata": {
    "dotnet_repl_cellExecutionStartTime": "2023-07-25T21:35:39.8946695-03:00",
    "dotnet_repl_cellExecutionEndTime": "2023-07-25T21:35:39.905914-03:00",
    "dotnet_repl_cellExecutionTime": "11.249ms",
    "dotnet_interactive": {
     "language": "fsharp"
    },
    "polyglot_notebook": {
     "kernelName": "fsharp"
    }
   },
   "outputs": [],
   "source": [
    "let (<?>) = setLabel"
   ]
  },
  {
   "cell_type": "code",
   "execution_count": null,
   "metadata": {
    "dotnet_repl_cellExecutionStartTime": "2023-07-25T21:35:39.9059458-03:00",
    "dotnet_repl_cellExecutionEndTime": "2023-07-25T21:35:39.9326425-03:00",
    "dotnet_repl_cellExecutionTime": "26.702ms",
    "dotnet_interactive": {
     "language": "fsharp"
    },
    "polyglot_notebook": {
     "kernelName": "fsharp"
    }
   },
   "outputs": [],
   "source": [
    "let inline satisfy predicate label =\n",
    "    {\n",
    "        label = label\n",
    "        parseFn = fun input ->\n",
    "            let remainingInput, charOpt = nextChar input\n",
    "            match charOpt with\n",
    "            | None ->\n",
    "                let err = \"No more input\"\n",
    "                let pos = parserPositionFromInputState input\n",
    "                Failure (label, err, pos)\n",
    "            | Some first ->\n",
    "                if predicate first\n",
    "                then Success (first, remainingInput)\n",
    "                else\n",
    "                    let err = $\"Unexpected '%c{first}'\"\n",
    "                    let pos = parserPositionFromInputState input\n",
    "                    Failure (label, err, pos)\n",
    "    }"
   ]
  },
  {
   "cell_type": "code",
   "execution_count": null,
   "metadata": {
    "dotnet_repl_cellExecutionStartTime": "2023-07-25T21:35:39.9326821-03:00",
    "dotnet_repl_cellExecutionEndTime": "2023-07-25T21:35:39.9741053-03:00",
    "dotnet_repl_cellExecutionTime": "41.4281ms",
    "dotnet_interactive": {
     "language": "fsharp"
    },
    "polyglot_notebook": {
     "kernelName": "fsharp"
    }
   },
   "outputs": [
    {
     "name": "stdout",
     "output_type": "stream",
     "text": [
      "Success\r\n",
      "      Item:       - H\r\n",
      "      - InputState\r\n",
      "          lines: [ Hello ]\r\n",
      "          position: Position\r\n",
      "            line: 0\r\n",
      "            column: 1\r\n"
     ]
    }
   ],
   "source": [
    "//// test\n",
    "\n",
    "let input = fromStr \"Hello\"\n",
    "let parser = satisfy (fun c -> c = 'H') \"H\"\n",
    "runOnInput parser input |> _equal (\n",
    "    Success (\n",
    "        'H',\n",
    "        {\n",
    "            lines = [| \"Hello\" |]\n",
    "            position = { line = 0; column = 1 }\n",
    "        }\n",
    "    )\n",
    ")"
   ]
  },
  {
   "cell_type": "code",
   "execution_count": null,
   "metadata": {
    "dotnet_repl_cellExecutionStartTime": "2023-07-25T21:35:39.9741447-03:00",
    "dotnet_repl_cellExecutionEndTime": "2023-07-25T21:35:40.0166753-03:00",
    "dotnet_repl_cellExecutionTime": "42.5358ms",
    "dotnet_interactive": {
     "language": "fsharp"
    },
    "polyglot_notebook": {
     "kernelName": "fsharp"
    }
   },
   "outputs": [
    {
     "name": "stdout",
     "output_type": "stream",
     "text": [
      "Failure\r\n",
      "      Item1: H\r\n",
      "      Item2: Unexpected 'W'\r\n",
      "      Item3: ParserPosition\r\n",
      "        currentLine: World\r\n",
      "        line: 0\r\n",
      "        column: 0\r\n"
     ]
    }
   ],
   "source": [
    "//// test\n",
    "\n",
    "let input = fromStr \"World\"\n",
    "let parser = satisfy (fun c -> c = 'H') \"H\"\n",
    "runOnInput parser input |> _equal (\n",
    "    Failure (\n",
    "        \"H\",\n",
    "        \"Unexpected 'W'\",\n",
    "        {\n",
    "            currentLine = \"World\"\n",
    "            line = 0\n",
    "            column = 0\n",
    "        }\n",
    "    )\n",
    ")"
   ]
  },
  {
   "cell_type": "code",
   "execution_count": null,
   "metadata": {
    "dotnet_repl_cellExecutionStartTime": "2023-07-25T21:35:40.0167178-03:00",
    "dotnet_repl_cellExecutionEndTime": "2023-07-25T21:35:40.0308698-03:00",
    "dotnet_repl_cellExecutionTime": "14.157ms",
    "dotnet_interactive": {
     "language": "fsharp"
    },
    "polyglot_notebook": {
     "kernelName": "fsharp"
    }
   },
   "outputs": [],
   "source": [
    "let inline bindP f p =\n",
    "    {\n",
    "        label = \"unknown\"\n",
    "        parseFn = fun input ->\n",
    "            match runOnInput p input with\n",
    "            | Failure (label, err, pos) -> Failure (label, err, pos)\n",
    "            | Success (value1, remainingInput) -> runOnInput (f value1) remainingInput\n",
    "    }"
   ]
  },
  {
   "cell_type": "code",
   "execution_count": null,
   "metadata": {
    "dotnet_repl_cellExecutionStartTime": "2023-07-25T21:35:40.03091-03:00",
    "dotnet_repl_cellExecutionEndTime": "2023-07-25T21:35:40.0402608-03:00",
    "dotnet_repl_cellExecutionTime": "9.3552ms",
    "dotnet_interactive": {
     "language": "fsharp"
    },
    "polyglot_notebook": {
     "kernelName": "fsharp"
    }
   },
   "outputs": [],
   "source": [
    "let inline (>>=) p f = bindP f p"
   ]
  },
  {
   "cell_type": "code",
   "execution_count": null,
   "metadata": {
    "dotnet_repl_cellExecutionStartTime": "2023-07-25T21:35:40.0403002-03:00",
    "dotnet_repl_cellExecutionEndTime": "2023-07-25T21:35:40.0904858-03:00",
    "dotnet_repl_cellExecutionTime": "50.1898ms",
    "dotnet_interactive": {
     "language": "fsharp"
    },
    "polyglot_notebook": {
     "kernelName": "fsharp"
    }
   },
   "outputs": [
    {
     "name": "stdout",
     "output_type": "stream",
     "text": [
      "Success\r\n",
      "      Item:       - e\r\n",
      "      - InputState\r\n",
      "          lines: [ Hello ]\r\n",
      "          position: Position\r\n",
      "            line: 0\r\n",
      "            column: 2\r\n"
     ]
    }
   ],
   "source": [
    "//// test\n",
    "\n",
    "let input = fromStr \"Hello\"\n",
    "let parser = satisfy (fun c -> c = 'H') \"H\"\n",
    "let parser2 = parser >>= fun c -> satisfy (fun c -> c = 'e') \"e\"\n",
    "runOnInput parser2 input |> _equal (\n",
    "    Success (\n",
    "        'e',\n",
    "        {\n",
    "            lines = [| \"Hello\" |]\n",
    "            position = { line = 0; column = 2 }\n",
    "        }\n",
    "    )\n",
    ")"
   ]
  },
  {
   "cell_type": "code",
   "execution_count": null,
   "metadata": {
    "dotnet_repl_cellExecutionStartTime": "2023-07-25T21:35:40.0905222-03:00",
    "dotnet_repl_cellExecutionEndTime": "2023-07-25T21:35:40.1431807-03:00",
    "dotnet_repl_cellExecutionTime": "52.6643ms",
    "dotnet_interactive": {
     "language": "fsharp"
    },
    "polyglot_notebook": {
     "kernelName": "fsharp"
    }
   },
   "outputs": [
    {
     "name": "stdout",
     "output_type": "stream",
     "text": [
      "Failure\r\n",
      "      Item1: e\r\n",
      "      Item2: Unexpected 'o'\r\n",
      "      Item3: ParserPosition\r\n",
      "        currentLine: World\r\n",
      "        line: 0\r\n",
      "        column: 1\r\n"
     ]
    }
   ],
   "source": [
    "//// test\n",
    "\n",
    "let input = fromStr \"World\"\n",
    "let parser = satisfy (fun c -> c = 'W') \"W\"\n",
    "let parser2 = parser >>= fun c -> satisfy (fun c -> c = 'e') \"e\"\n",
    "runOnInput parser2 input |> _equal (\n",
    "    Failure (\n",
    "        \"e\",\n",
    "        \"Unexpected 'o'\",\n",
    "        {\n",
    "            currentLine = \"World\"\n",
    "            line = 0\n",
    "            column = 1\n",
    "        }\n",
    "    )\n",
    ")"
   ]
  },
  {
   "cell_type": "code",
   "execution_count": null,
   "metadata": {
    "dotnet_repl_cellExecutionStartTime": "2023-07-25T21:35:40.1432373-03:00",
    "dotnet_repl_cellExecutionEndTime": "2023-07-25T21:35:40.1546563-03:00",
    "dotnet_repl_cellExecutionTime": "11.4238ms",
    "dotnet_interactive": {
     "language": "fsharp"
    },
    "polyglot_notebook": {
     "kernelName": "fsharp"
    }
   },
   "outputs": [],
   "source": [
    "let inline returnP x =\n",
    "    {\n",
    "        label = $\"%A{x}\"\n",
    "        parseFn = fun input -> Success (x, input)\n",
    "    }"
   ]
  },
  {
   "cell_type": "code",
   "execution_count": null,
   "metadata": {
    "dotnet_repl_cellExecutionStartTime": "2023-07-25T21:35:40.1546919-03:00",
    "dotnet_repl_cellExecutionEndTime": "2023-07-25T21:35:40.1987773-03:00",
    "dotnet_repl_cellExecutionTime": "44.0906ms",
    "dotnet_interactive": {
     "language": "fsharp"
    },
    "polyglot_notebook": {
     "kernelName": "fsharp"
    }
   },
   "outputs": [
    {
     "name": "stdout",
     "output_type": "stream",
     "text": [
      "Success\r\n",
      "      Item:       - Hello\r\n",
      "      - InputState\r\n",
      "          lines: [ Hello ]\r\n",
      "          position: Position\r\n",
      "            line: 0\r\n",
      "            column: 0\r\n"
     ]
    }
   ],
   "source": [
    "//// test\n",
    "\n",
    "let input = fromStr \"Hello\"\n",
    "let parser = returnP \"Hello\"\n",
    "runOnInput parser input |> _equal (\n",
    "    Success (\n",
    "        \"Hello\",\n",
    "        {\n",
    "            lines = [| \"Hello\" |]\n",
    "            position = { line = 0; column = 0 }\n",
    "        }\n",
    "    )\n",
    ")"
   ]
  },
  {
   "cell_type": "code",
   "execution_count": null,
   "metadata": {
    "dotnet_repl_cellExecutionStartTime": "2023-07-25T21:35:40.198822-03:00",
    "dotnet_repl_cellExecutionEndTime": "2023-07-25T21:35:40.2240989-03:00",
    "dotnet_repl_cellExecutionTime": "25.2814ms",
    "dotnet_interactive": {
     "language": "fsharp"
    },
    "polyglot_notebook": {
     "kernelName": "fsharp"
    }
   },
   "outputs": [],
   "source": [
    "let inline mapP f =\n",
    "    bindP (f >> returnP)"
   ]
  },
  {
   "cell_type": "code",
   "execution_count": null,
   "metadata": {
    "dotnet_repl_cellExecutionStartTime": "2023-07-25T21:35:40.2241317-03:00",
    "dotnet_repl_cellExecutionEndTime": "2023-07-25T21:35:40.2380408-03:00",
    "dotnet_repl_cellExecutionTime": "13.9137ms",
    "dotnet_interactive": {
     "language": "fsharp"
    },
    "polyglot_notebook": {
     "kernelName": "fsharp"
    }
   },
   "outputs": [],
   "source": [
    "let (<!>) = mapP"
   ]
  },
  {
   "cell_type": "code",
   "execution_count": null,
   "metadata": {
    "dotnet_repl_cellExecutionStartTime": "2023-07-25T21:35:40.2380737-03:00",
    "dotnet_repl_cellExecutionEndTime": "2023-07-25T21:35:40.2470188-03:00",
    "dotnet_repl_cellExecutionTime": "8.9497ms",
    "dotnet_interactive": {
     "language": "fsharp"
    },
    "polyglot_notebook": {
     "kernelName": "fsharp"
    }
   },
   "outputs": [],
   "source": [
    "let inline (|>>) x f = f <!> x"
   ]
  },
  {
   "cell_type": "code",
   "execution_count": null,
   "metadata": {
    "dotnet_repl_cellExecutionStartTime": "2023-07-25T21:35:40.2470522-03:00",
    "dotnet_repl_cellExecutionEndTime": "2023-07-25T21:35:40.2880481-03:00",
    "dotnet_repl_cellExecutionTime": "40.9996ms",
    "dotnet_interactive": {
     "language": "fsharp"
    },
    "polyglot_notebook": {
     "kernelName": "fsharp"
    }
   },
   "outputs": [
    {
     "name": "stdout",
     "output_type": "stream",
     "text": [
      "Success\r\n",
      "      Item:       - H\r\n",
      "      - InputState\r\n",
      "          lines: [ Hello ]\r\n",
      "          position: Position\r\n",
      "            line: 0\r\n",
      "            column: 1\r\n"
     ]
    }
   ],
   "source": [
    "//// test\n",
    "\n",
    "let input = fromStr \"Hello\"\n",
    "let parser = satisfy (fun c -> c = 'H') \"H\"\n",
    "let parser2 = parser |>> string\n",
    "runOnInput parser2 input |> _equal (\n",
    "    Success (\n",
    "        \"H\",\n",
    "        {\n",
    "            lines = [| \"Hello\" |]\n",
    "            position = { line = 0; column = 1 }\n",
    "        }\n",
    "    )\n",
    ")"
   ]
  },
  {
   "cell_type": "code",
   "execution_count": null,
   "metadata": {
    "dotnet_repl_cellExecutionStartTime": "2023-07-25T21:35:40.2880838-03:00",
    "dotnet_repl_cellExecutionEndTime": "2023-07-25T21:35:40.3095263-03:00",
    "dotnet_repl_cellExecutionTime": "21.4484ms",
    "dotnet_interactive": {
     "language": "fsharp"
    },
    "polyglot_notebook": {
     "kernelName": "fsharp"
    }
   },
   "outputs": [],
   "source": [
    "let inline applyP fP xP =\n",
    "    fP >>=\n",
    "        fun f ->\n",
    "            xP >>=\n",
    "                fun x ->\n",
    "                    returnP (f x)"
   ]
  },
  {
   "cell_type": "code",
   "execution_count": null,
   "metadata": {
    "dotnet_repl_cellExecutionStartTime": "2023-07-25T21:35:40.3095877-03:00",
    "dotnet_repl_cellExecutionEndTime": "2023-07-25T21:35:40.3288215-03:00",
    "dotnet_repl_cellExecutionTime": "19.2553ms",
    "dotnet_interactive": {
     "language": "fsharp"
    },
    "polyglot_notebook": {
     "kernelName": "fsharp"
    }
   },
   "outputs": [],
   "source": [
    "let (<*>) = applyP"
   ]
  },
  {
   "cell_type": "code",
   "execution_count": null,
   "metadata": {
    "dotnet_repl_cellExecutionStartTime": "2023-07-25T21:35:40.3288807-03:00",
    "dotnet_repl_cellExecutionEndTime": "2023-07-25T21:35:40.3397282-03:00",
    "dotnet_repl_cellExecutionTime": "10.861ms",
    "dotnet_interactive": {
     "language": "fsharp"
    },
    "polyglot_notebook": {
     "kernelName": "fsharp"
    }
   },
   "outputs": [],
   "source": [
    "let inline lift2 f xP yP =\n",
    "    returnP f <*> xP <*> yP"
   ]
  },
  {
   "cell_type": "code",
   "execution_count": null,
   "metadata": {
    "dotnet_repl_cellExecutionStartTime": "2023-07-25T21:35:40.3397704-03:00",
    "dotnet_repl_cellExecutionEndTime": "2023-07-25T21:35:40.4062453-03:00",
    "dotnet_repl_cellExecutionTime": "66.4791ms",
    "dotnet_interactive": {
     "language": "fsharp"
    },
    "polyglot_notebook": {
     "kernelName": "fsharp"
    }
   },
   "outputs": [
    {
     "name": "stdout",
     "output_type": "stream",
     "text": [
      "Success\r\n",
      "      Item:       - He\r\n",
      "      - InputState\r\n",
      "          lines: [ Hello ]\r\n",
      "          position: Position\r\n",
      "            line: 0\r\n",
      "            column: 2\r\n"
     ]
    }
   ],
   "source": [
    "//// test\n",
    "\n",
    "let input = fromStr \"Hello\"\n",
    "let parser = satisfy (fun c -> c = 'H') \"H\"\n",
    "let parser2 = satisfy (fun c -> c = 'e') \"e\"\n",
    "let parser3 = lift2 (fun c1 c2 -> string c1 + string c2) parser parser2\n",
    "runOnInput parser3 input |> _equal (\n",
    "    Success (\n",
    "        \"He\",\n",
    "        {\n",
    "            lines = [| \"Hello\" |]\n",
    "            position = { line = 0; column = 2 }\n",
    "        }\n",
    "    )\n",
    ")"
   ]
  },
  {
   "cell_type": "code",
   "execution_count": null,
   "metadata": {
    "dotnet_repl_cellExecutionStartTime": "2023-07-25T21:35:40.4062795-03:00",
    "dotnet_repl_cellExecutionEndTime": "2023-07-25T21:35:40.4308564-03:00",
    "dotnet_repl_cellExecutionTime": "24.5817ms",
    "dotnet_interactive": {
     "language": "fsharp"
    },
    "polyglot_notebook": {
     "kernelName": "fsharp"
    }
   },
   "outputs": [],
   "source": [
    "let inline andThen p1 p2 =\n",
    "    p1 >>=\n",
    "        fun p1Result ->\n",
    "            p2 >>=\n",
    "                fun p2Result ->\n",
    "                    returnP (p1Result, p2Result)\n",
    "    <?> $\"{getLabel p1} andThen {getLabel p2}\""
   ]
  },
  {
   "cell_type": "code",
   "execution_count": null,
   "metadata": {
    "dotnet_repl_cellExecutionStartTime": "2023-07-25T21:35:40.4309201-03:00",
    "dotnet_repl_cellExecutionEndTime": "2023-07-25T21:35:40.4489633-03:00",
    "dotnet_repl_cellExecutionTime": "18.0479ms",
    "dotnet_interactive": {
     "language": "fsharp"
    },
    "polyglot_notebook": {
     "kernelName": "fsharp"
    }
   },
   "outputs": [],
   "source": [
    "let (.>>.) = andThen"
   ]
  },
  {
   "cell_type": "code",
   "execution_count": null,
   "metadata": {
    "dotnet_repl_cellExecutionStartTime": "2023-07-25T21:35:40.4490045-03:00",
    "dotnet_repl_cellExecutionEndTime": "2023-07-25T21:35:40.5189683-03:00",
    "dotnet_repl_cellExecutionTime": "69.9678ms",
    "dotnet_interactive": {
     "language": "fsharp"
    },
    "polyglot_notebook": {
     "kernelName": "fsharp"
    }
   },
   "outputs": [
    {
     "name": "stdout",
     "output_type": "stream",
     "text": [
      "Success\r\n",
      "      Item:       - ( H, e )\r\n",
      "      - InputState\r\n",
      "          lines: [ Hello ]\r\n",
      "          position: Position\r\n",
      "            line: 0\r\n",
      "            column: 2\r\n"
     ]
    }
   ],
   "source": [
    "//// test\n",
    "\n",
    "let input = fromStr \"Hello\"\n",
    "let parser = satisfy (fun c -> c = 'H') \"H\"\n",
    "let parser2 = satisfy (fun c -> c = 'e') \"e\"\n",
    "let parser3 = parser .>>. parser2\n",
    "runOnInput parser3 input |> _equal (\n",
    "    Success (\n",
    "        ('H', 'e'),\n",
    "        {\n",
    "            lines = [| \"Hello\" |]\n",
    "            position = { line = 0; column = 2 }\n",
    "        }\n",
    "    )\n",
    ")"
   ]
  },
  {
   "cell_type": "code",
   "execution_count": null,
   "metadata": {
    "dotnet_repl_cellExecutionStartTime": "2023-07-25T21:35:40.5190038-03:00",
    "dotnet_repl_cellExecutionEndTime": "2023-07-25T21:35:40.5333844-03:00",
    "dotnet_repl_cellExecutionTime": "14.3849ms",
    "dotnet_interactive": {
     "language": "fsharp"
    },
    "polyglot_notebook": {
     "kernelName": "fsharp"
    }
   },
   "outputs": [],
   "source": [
    "let inline orElse p1 p2 =\n",
    "    {\n",
    "        label = $\"{getLabel p1} orElse {getLabel p2}\"\n",
    "        parseFn = fun input ->\n",
    "            match runOnInput p1 input with\n",
    "            | Success _ as result -> result\n",
    "            | Failure _ -> runOnInput p2 input\n",
    "    }"
   ]
  },
  {
   "cell_type": "code",
   "execution_count": null,
   "metadata": {
    "dotnet_repl_cellExecutionStartTime": "2023-07-25T21:35:40.5334167-03:00",
    "dotnet_repl_cellExecutionEndTime": "2023-07-25T21:35:40.5441087-03:00",
    "dotnet_repl_cellExecutionTime": "10.6966ms",
    "dotnet_interactive": {
     "language": "fsharp"
    },
    "polyglot_notebook": {
     "kernelName": "fsharp"
    }
   },
   "outputs": [],
   "source": [
    "let (<|>) = orElse"
   ]
  },
  {
   "cell_type": "code",
   "execution_count": null,
   "metadata": {
    "dotnet_repl_cellExecutionStartTime": "2023-07-25T21:35:40.5441515-03:00",
    "dotnet_repl_cellExecutionEndTime": "2023-07-25T21:35:40.5912513-03:00",
    "dotnet_repl_cellExecutionTime": "47.1041ms",
    "dotnet_interactive": {
     "language": "fsharp"
    },
    "polyglot_notebook": {
     "kernelName": "fsharp"
    }
   },
   "outputs": [
    {
     "name": "stdout",
     "output_type": "stream",
     "text": [
      "Success\r\n",
      "      Item:       - h\r\n",
      "      - InputState\r\n",
      "          lines: [ hello ]\r\n",
      "          position: Position\r\n",
      "            line: 0\r\n",
      "            column: 1\r\n"
     ]
    }
   ],
   "source": [
    "//// test\n",
    "\n",
    "let input = fromStr \"hello\"\n",
    "let parser = satisfy (fun c -> c = 'H') \"H\"\n",
    "let parser2 = satisfy (fun c -> c = 'h') \"h\"\n",
    "let parser3 = parser <|> parser2\n",
    "runOnInput parser3 input |> _equal (\n",
    "    Success (\n",
    "        'h',\n",
    "        {\n",
    "            lines = [| \"hello\" |]\n",
    "            position = { line = 0; column = 1 }\n",
    "        }\n",
    "    )\n",
    ")"
   ]
  },
  {
   "cell_type": "code",
   "execution_count": null,
   "metadata": {
    "dotnet_repl_cellExecutionStartTime": "2023-07-25T21:35:40.5912876-03:00",
    "dotnet_repl_cellExecutionEndTime": "2023-07-25T21:35:40.6002549-03:00",
    "dotnet_repl_cellExecutionTime": "9.0053ms",
    "dotnet_interactive": {
     "language": "fsharp"
    },
    "polyglot_notebook": {
     "kernelName": "fsharp"
    }
   },
   "outputs": [],
   "source": [
    "let inline choice listOfParsers =\n",
    "    listOfParsers |> List.reduce (<|>)"
   ]
  },
  {
   "cell_type": "code",
   "execution_count": null,
   "metadata": {
    "dotnet_repl_cellExecutionStartTime": "2023-07-25T21:35:40.6003239-03:00",
    "dotnet_repl_cellExecutionEndTime": "2023-07-25T21:35:40.6483001-03:00",
    "dotnet_repl_cellExecutionTime": "47.9826ms",
    "dotnet_interactive": {
     "language": "fsharp"
    },
    "polyglot_notebook": {
     "kernelName": "fsharp"
    }
   },
   "outputs": [
    {
     "name": "stdout",
     "output_type": "stream",
     "text": [
      "Success\r\n",
      "      Item:       - h\r\n",
      "      - InputState\r\n",
      "          lines: [ hello ]\r\n",
      "          position: Position\r\n",
      "            line: 0\r\n",
      "            column: 1\r\n"
     ]
    }
   ],
   "source": [
    "//// test\n",
    "\n",
    "let input = fromStr \"hello\"\n",
    "let parser = satisfy (fun c -> c = 'H') \"H\"\n",
    "let parser2 = satisfy (fun c -> c = 'h') \"h\"\n",
    "let parser3 = choice [ parser; parser2 ]\n",
    "runOnInput parser3 input |> _equal (\n",
    "    Success (\n",
    "        'h',\n",
    "        {\n",
    "            lines = [| \"hello\" |]\n",
    "            position = { line = 0; column = 1 }\n",
    "        }\n",
    "    )\n",
    ")"
   ]
  },
  {
   "cell_type": "code",
   "execution_count": null,
   "metadata": {
    "dotnet_repl_cellExecutionStartTime": "2023-07-25T21:35:40.6483474-03:00",
    "dotnet_repl_cellExecutionEndTime": "2023-07-25T21:35:40.6741009-03:00",
    "dotnet_repl_cellExecutionTime": "25.758ms",
    "dotnet_interactive": {
     "language": "fsharp"
    },
    "polyglot_notebook": {
     "kernelName": "fsharp"
    }
   },
   "outputs": [],
   "source": [
    "let rec sequence parserList =\n",
    "    match parserList with\n",
    "    | [] -> returnP []\n",
    "    | head :: tail -> (lift2 cons) head (sequence tail)"
   ]
  },
  {
   "cell_type": "code",
   "execution_count": null,
   "metadata": {
    "dotnet_repl_cellExecutionStartTime": "2023-07-25T21:35:40.6741347-03:00",
    "dotnet_repl_cellExecutionEndTime": "2023-07-25T21:35:40.7443534-03:00",
    "dotnet_repl_cellExecutionTime": "70.2244ms",
    "dotnet_interactive": {
     "language": "fsharp"
    },
    "polyglot_notebook": {
     "kernelName": "fsharp"
    }
   },
   "outputs": [
    {
     "name": "stdout",
     "output_type": "stream",
     "text": [
      "Success\r\n",
      "      Item:       - [ H, e ]\r\n",
      "      - InputState\r\n",
      "          lines: [ Hello ]\r\n",
      "          position: Position\r\n",
      "            line: 0\r\n",
      "            column: 2\r\n"
     ]
    }
   ],
   "source": [
    "//// test\n",
    "\n",
    "let input = fromStr \"Hello\"\n",
    "let parser = satisfy (fun c -> c = 'H') \"H\"\n",
    "let parser2 = satisfy (fun c -> c = 'e') \"e\"\n",
    "let parser3 = sequence [ parser; parser2 ]\n",
    "runOnInput parser3 input |> _equal (\n",
    "    Success (\n",
    "        [ 'H'; 'e' ],\n",
    "        {\n",
    "            lines = [| \"Hello\" |]\n",
    "            position = { line = 0; column = 2 }\n",
    "        }\n",
    "    )\n",
    ")"
   ]
  },
  {
   "cell_type": "code",
   "execution_count": null,
   "metadata": {
    "dotnet_repl_cellExecutionStartTime": "2023-07-25T21:35:40.7444069-03:00",
    "dotnet_repl_cellExecutionEndTime": "2023-07-25T21:35:40.7562214-03:00",
    "dotnet_repl_cellExecutionTime": "11.819ms",
    "dotnet_interactive": {
     "language": "fsharp"
    },
    "polyglot_notebook": {
     "kernelName": "fsharp"
    }
   },
   "outputs": [],
   "source": [
    "let rec parseZeroOrMore parser input =\n",
    "    match runOnInput parser input with\n",
    "    | Failure (_, _, _) ->\n",
    "        [], input\n",
    "    | Success (firstValue, inputAfterFirstParse) ->\n",
    "        let subsequentValues, remainingInput = parseZeroOrMore parser inputAfterFirstParse\n",
    "        firstValue :: subsequentValues, remainingInput"
   ]
  },
  {
   "cell_type": "code",
   "execution_count": null,
   "metadata": {
    "dotnet_repl_cellExecutionStartTime": "2023-07-25T21:35:40.7562568-03:00",
    "dotnet_repl_cellExecutionEndTime": "2023-07-25T21:35:40.7691053-03:00",
    "dotnet_repl_cellExecutionTime": "12.8529ms",
    "dotnet_interactive": {
     "language": "fsharp"
    },
    "polyglot_notebook": {
     "kernelName": "fsharp"
    }
   },
   "outputs": [],
   "source": [
    "let inline many parser =\n",
    "    {\n",
    "        label = $\"many {getLabel parser}\"\n",
    "        parseFn = fun input -> Success (parseZeroOrMore parser input)\n",
    "    }"
   ]
  },
  {
   "cell_type": "code",
   "execution_count": null,
   "metadata": {
    "dotnet_repl_cellExecutionStartTime": "2023-07-25T21:35:40.7691391-03:00",
    "dotnet_repl_cellExecutionEndTime": "2023-07-25T21:35:40.8125468-03:00",
    "dotnet_repl_cellExecutionTime": "43.4139ms",
    "dotnet_interactive": {
     "language": "fsharp"
    },
    "polyglot_notebook": {
     "kernelName": "fsharp"
    }
   },
   "outputs": [
    {
     "name": "stdout",
     "output_type": "stream",
     "text": [
      "Success\r\n",
      "      Item:       - [  ]\r\n",
      "      - InputState\r\n",
      "          lines: [ hello ]\r\n",
      "          position: Position\r\n",
      "            line: 0\r\n",
      "            column: 0\r\n"
     ]
    }
   ],
   "source": [
    "//// test\n",
    "\n",
    "let input = fromStr \"hello\"\n",
    "let parser = satisfy (fun c -> c = 'H') \"H\"\n",
    "let parser2 = many parser\n",
    "runOnInput parser2 input |> _equal (\n",
    "    Success (\n",
    "        [],\n",
    "        {\n",
    "            lines = [| \"hello\" |]\n",
    "            position = { line = 0; column = 0 }\n",
    "        }\n",
    "    )\n",
    ")"
   ]
  },
  {
   "cell_type": "code",
   "execution_count": null,
   "metadata": {
    "dotnet_repl_cellExecutionStartTime": "2023-07-25T21:35:40.8126008-03:00",
    "dotnet_repl_cellExecutionEndTime": "2023-07-25T21:35:40.8431525-03:00",
    "dotnet_repl_cellExecutionTime": "30.5565ms",
    "dotnet_interactive": {
     "language": "fsharp"
    },
    "polyglot_notebook": {
     "kernelName": "fsharp"
    }
   },
   "outputs": [],
   "source": [
    "let inline many1 p =\n",
    "    p >>=\n",
    "        fun head ->\n",
    "            many p >>=\n",
    "                fun tail ->\n",
    "                    returnP (head :: tail)\n",
    "    <?> $\"many1 {getLabel p}\""
   ]
  },
  {
   "cell_type": "code",
   "execution_count": null,
   "metadata": {
    "dotnet_repl_cellExecutionStartTime": "2023-07-25T21:35:40.8431884-03:00",
    "dotnet_repl_cellExecutionEndTime": "2023-07-25T21:35:40.9006801-03:00",
    "dotnet_repl_cellExecutionTime": "57.4964ms",
    "dotnet_interactive": {
     "language": "fsharp"
    },
    "polyglot_notebook": {
     "kernelName": "fsharp"
    }
   },
   "outputs": [
    {
     "name": "stdout",
     "output_type": "stream",
     "text": [
      "Failure\r\n",
      "      Item1: many1 H\r\n",
      "      Item2: Unexpected 'h'\r\n",
      "      Item3: ParserPosition\r\n",
      "        currentLine: hello\r\n",
      "        line: 0\r\n",
      "        column: 0\r\n"
     ]
    }
   ],
   "source": [
    "//// test\n",
    "\n",
    "let input = fromStr \"hello\"\n",
    "let parser = satisfy (fun c -> c = 'H') \"H\"\n",
    "let parser2 = many1 parser\n",
    "runOnInput parser2 input |> _equal (\n",
    "    Failure (\n",
    "        \"many1 H\",\n",
    "        \"Unexpected 'h'\",\n",
    "        {\n",
    "            currentLine = \"hello\"\n",
    "            line = 0\n",
    "            column = 0\n",
    "        }\n",
    "    )\n",
    ")"
   ]
  },
  {
   "cell_type": "code",
   "execution_count": null,
   "metadata": {
    "dotnet_repl_cellExecutionStartTime": "2023-07-25T21:35:40.9007396-03:00",
    "dotnet_repl_cellExecutionEndTime": "2023-07-25T21:35:40.9167266-03:00",
    "dotnet_repl_cellExecutionTime": "15.9916ms",
    "dotnet_interactive": {
     "language": "fsharp"
    },
    "polyglot_notebook": {
     "kernelName": "fsharp"
    }
   },
   "outputs": [],
   "source": [
    "let inline opt p =\n",
    "    let some = p |>> Some\n",
    "    let none = returnP None\n",
    "    (some <|> none)\n",
    "    <?> $\"opt {getLabel p}\""
   ]
  },
  {
   "cell_type": "code",
   "execution_count": null,
   "metadata": {
    "dotnet_repl_cellExecutionStartTime": "2023-07-25T21:35:40.9167607-03:00",
    "dotnet_repl_cellExecutionEndTime": "2023-07-25T21:35:40.9781249-03:00",
    "dotnet_repl_cellExecutionTime": "61.3694ms",
    "dotnet_interactive": {
     "language": "fsharp"
    },
    "polyglot_notebook": {
     "kernelName": "fsharp"
    }
   },
   "outputs": [
    {
     "name": "stdout",
     "output_type": "stream",
     "text": [
      "Success\r\n",
      "      Item:       - <null>\r\n",
      "      - InputState\r\n",
      "          lines: [ hello ]\r\n",
      "          position: Position\r\n",
      "            line: 0\r\n",
      "            column: 0\r\n"
     ]
    }
   ],
   "source": [
    "//// test\n",
    "\n",
    "let input = fromStr \"hello\"\n",
    "let parser = satisfy (fun c -> c = 'H') \"H\"\n",
    "let parser2 = opt parser\n",
    "runOnInput parser2 input |> _equal (\n",
    "    Success (\n",
    "        None,\n",
    "        {\n",
    "            lines = [| \"hello\" |]\n",
    "            position = { line = 0; column = 0 }\n",
    "        }\n",
    "    )\n",
    ")"
   ]
  },
  {
   "cell_type": "code",
   "execution_count": null,
   "metadata": {
    "dotnet_repl_cellExecutionStartTime": "2023-07-25T21:35:40.9781676-03:00",
    "dotnet_repl_cellExecutionEndTime": "2023-07-25T21:35:40.997539-03:00",
    "dotnet_repl_cellExecutionTime": "19.3864ms",
    "dotnet_interactive": {
     "language": "fsharp"
    },
    "polyglot_notebook": {
     "kernelName": "fsharp"
    }
   },
   "outputs": [],
   "source": [
    "let inline (.>>) p1 p2 =\n",
    "    p1 .>>. p2\n",
    "    |> mapP fst"
   ]
  },
  {
   "cell_type": "code",
   "execution_count": null,
   "metadata": {
    "dotnet_repl_cellExecutionStartTime": "2023-07-25T21:35:40.997589-03:00",
    "dotnet_repl_cellExecutionEndTime": "2023-07-25T21:35:41.0202074-03:00",
    "dotnet_repl_cellExecutionTime": "22.623ms",
    "dotnet_interactive": {
     "language": "fsharp"
    },
    "polyglot_notebook": {
     "kernelName": "fsharp"
    }
   },
   "outputs": [],
   "source": [
    "let inline (>>.) p1 p2 =\n",
    "    p1 .>>. p2\n",
    "    |> mapP snd"
   ]
  },
  {
   "cell_type": "code",
   "execution_count": null,
   "metadata": {
    "dotnet_repl_cellExecutionStartTime": "2023-07-25T21:35:41.0202412-03:00",
    "dotnet_repl_cellExecutionEndTime": "2023-07-25T21:35:41.0460801-03:00",
    "dotnet_repl_cellExecutionTime": "25.8433ms",
    "dotnet_interactive": {
     "language": "fsharp"
    },
    "polyglot_notebook": {
     "kernelName": "fsharp"
    }
   },
   "outputs": [],
   "source": [
    "let inline between p1 p2 p3 =\n",
    "    p1 >>. p2 .>> p3"
   ]
  },
  {
   "cell_type": "code",
   "execution_count": null,
   "metadata": {
    "dotnet_repl_cellExecutionStartTime": "2023-07-25T21:35:41.0461136-03:00",
    "dotnet_repl_cellExecutionEndTime": "2023-07-25T21:35:41.1651844-03:00",
    "dotnet_repl_cellExecutionTime": "119.0752ms",
    "dotnet_interactive": {
     "language": "fsharp"
    },
    "polyglot_notebook": {
     "kernelName": "fsharp"
    }
   },
   "outputs": [
    {
     "name": "stdout",
     "output_type": "stream",
     "text": [
      "Success\r\n",
      "      Item:       - [ H, e, l, l, o ]\r\n",
      "      - InputState\r\n",
      "          lines: [ [Hello] ]\r\n",
      "          position: Position\r\n",
      "            line: 0\r\n",
      "            column: 7\r\n"
     ]
    }
   ],
   "source": [
    "//// test\n",
    "\n",
    "let input = fromStr \"[Hello]\"\n",
    "let parser =\n",
    "    between\n",
    "        (satisfy (fun c -> c = '[') \"[\")\n",
    "        (many (satisfy (fun c -> [ 'a' .. 'z' ] @ [ 'A' .. 'Z' ] |> List.contains c) \"letter\"))\n",
    "        (satisfy (fun c -> c = ']') \"]\")\n",
    "runOnInput parser input |> _equal (\n",
    "    Success (\n",
    "        [ 'H'; 'e'; 'l'; 'l'; 'o' ],\n",
    "        {\n",
    "            lines = [| \"[Hello]\" |]\n",
    "            position = { line = 0; column = 7 }\n",
    "        }\n",
    "    )\n",
    ")"
   ]
  },
  {
   "cell_type": "code",
   "execution_count": null,
   "metadata": {
    "dotnet_repl_cellExecutionStartTime": "2023-07-25T21:35:41.1652247-03:00",
    "dotnet_repl_cellExecutionEndTime": "2023-07-25T21:35:41.1902121-03:00",
    "dotnet_repl_cellExecutionTime": "24.9925ms",
    "dotnet_interactive": {
     "language": "fsharp"
    },
    "polyglot_notebook": {
     "kernelName": "fsharp"
    }
   },
   "outputs": [],
   "source": [
    "let inline sepBy1 p sep =\n",
    "    let sepThenP = sep >>. p\n",
    "    p .>>. many sepThenP\n",
    "    |>> fun (p, pList) -> p :: pList"
   ]
  },
  {
   "cell_type": "code",
   "execution_count": null,
   "metadata": {
    "dotnet_repl_cellExecutionStartTime": "2023-07-25T21:35:41.1902573-03:00",
    "dotnet_repl_cellExecutionEndTime": "2023-07-25T21:35:41.2314473-03:00",
    "dotnet_repl_cellExecutionTime": "41.1948ms",
    "dotnet_interactive": {
     "language": "fsharp"
    },
    "polyglot_notebook": {
     "kernelName": "fsharp"
    }
   },
   "outputs": [],
   "source": [
    "let inline sepBy p sep =\n",
    "    sepBy1 p sep <|> returnP []"
   ]
  },
  {
   "cell_type": "code",
   "execution_count": null,
   "metadata": {
    "dotnet_repl_cellExecutionStartTime": "2023-07-25T21:35:41.2314822-03:00",
    "dotnet_repl_cellExecutionEndTime": "2023-07-25T21:35:41.3190341-03:00",
    "dotnet_repl_cellExecutionTime": "87.5562ms",
    "dotnet_interactive": {
     "language": "fsharp"
    },
    "polyglot_notebook": {
     "kernelName": "fsharp"
    }
   },
   "outputs": [
    {
     "name": "stdout",
     "output_type": "stream",
     "text": [
      "Success\r\n",
      "      Item:       - FSharpList<FSharpList<Char>>\r\n",
      "[ H, e, l, l, o ]\r\n",
      "[ W, o, r, l, d, \n",
      " ]\r\n",
      "      - InputState\r\n",
      "          lines: [ Hello,World ]\r\n",
      "          position: Position\r\n",
      "            line: 1\r\n",
      "            column: 0\r\n"
     ]
    }
   ],
   "source": [
    "//// test\n",
    "\n",
    "let input = fromStr \"Hello,World\"\n",
    "let parser = sepBy (many (satisfy (fun c -> c <> ',') \"not comma\")) (satisfy (fun c -> c = ',') \"comma\")\n",
    "runOnInput parser input |> _equal (\n",
    "    Success (\n",
    "        [ [ 'H'; 'e'; 'l'; 'l'; 'o' ]; [ 'W'; 'o'; 'r'; 'l'; 'd'; '\\n' ] ],\n",
    "        {\n",
    "            lines = [| \"Hello,World\" |]\n",
    "            position = { line = 1; column = 0 }\n",
    "        }\n",
    "    )\n",
    ")"
   ]
  },
  {
   "cell_type": "code",
   "execution_count": null,
   "metadata": {
    "dotnet_repl_cellExecutionStartTime": "2023-07-25T21:35:41.3190728-03:00",
    "dotnet_repl_cellExecutionEndTime": "2023-07-25T21:35:41.3367955-03:00",
    "dotnet_repl_cellExecutionTime": "17.7274ms",
    "dotnet_interactive": {
     "language": "fsharp"
    },
    "polyglot_notebook": {
     "kernelName": "fsharp"
    }
   },
   "outputs": [],
   "source": [
    "let inline pchar charToMatch =\n",
    "    satisfy ((=) charToMatch) $\"%c{charToMatch}\""
   ]
  },
  {
   "cell_type": "code",
   "execution_count": null,
   "metadata": {
    "dotnet_repl_cellExecutionStartTime": "2023-07-25T21:35:41.3368408-03:00",
    "dotnet_repl_cellExecutionEndTime": "2023-07-25T21:35:41.3657711-03:00",
    "dotnet_repl_cellExecutionTime": "28.9351ms",
    "dotnet_interactive": {
     "language": "fsharp"
    },
    "polyglot_notebook": {
     "kernelName": "fsharp"
    }
   },
   "outputs": [],
   "source": [
    "let inline anyOf listOfChars =\n",
    "    listOfChars\n",
    "    |> List.map pchar\n",
    "    |> choice\n",
    "    <?> $\"anyOf %A{listOfChars}\""
   ]
  },
  {
   "cell_type": "code",
   "execution_count": null,
   "metadata": {
    "dotnet_repl_cellExecutionStartTime": "2023-07-25T21:35:41.3658071-03:00",
    "dotnet_repl_cellExecutionEndTime": "2023-07-25T21:35:41.4169738-03:00",
    "dotnet_repl_cellExecutionTime": "51.1719ms",
    "dotnet_interactive": {
     "language": "fsharp"
    },
    "polyglot_notebook": {
     "kernelName": "fsharp"
    }
   },
   "outputs": [
    {
     "name": "stdout",
     "output_type": "stream",
     "text": [
      "Success\r\n",
      "      Item:       - [ H, e, l, l, o ]\r\n",
      "      - InputState\r\n",
      "          lines: [ Hello ]\r\n",
      "          position: Position\r\n",
      "            line: 0\r\n",
      "            column: 5\r\n"
     ]
    }
   ],
   "source": [
    "//// test\n",
    "\n",
    "let input = fromStr \"Hello\"\n",
    "let parser = anyOf [ 'H'; 'e'; 'l'; 'o' ] |> many\n",
    "runOnInput parser input |> _equal (\n",
    "    Success (\n",
    "        [ 'H'; 'e'; 'l'; 'l'; 'o' ],\n",
    "        {\n",
    "            lines = [| \"Hello\" |]\n",
    "            position = { line = 0; column = 5 }\n",
    "        }\n",
    "    )\n",
    ")"
   ]
  },
  {
   "cell_type": "code",
   "execution_count": null,
   "metadata": {
    "dotnet_repl_cellExecutionStartTime": "2023-07-25T21:35:41.4170174-03:00",
    "dotnet_repl_cellExecutionEndTime": "2023-07-25T21:35:41.4308382-03:00",
    "dotnet_repl_cellExecutionTime": "13.8257ms",
    "dotnet_interactive": {
     "language": "fsharp"
    },
    "polyglot_notebook": {
     "kernelName": "fsharp"
    }
   },
   "outputs": [],
   "source": [
    "let inline charListToStr charList =\n",
    "    charList |> List.toArray |> String"
   ]
  },
  {
   "cell_type": "code",
   "execution_count": null,
   "metadata": {
    "dotnet_repl_cellExecutionStartTime": "2023-07-25T21:35:41.4308739-03:00",
    "dotnet_repl_cellExecutionEndTime": "2023-07-25T21:35:41.4458318-03:00",
    "dotnet_repl_cellExecutionTime": "14.9621ms",
    "dotnet_interactive": {
     "language": "fsharp"
    },
    "polyglot_notebook": {
     "kernelName": "fsharp"
    }
   },
   "outputs": [],
   "source": [
    "let inline manyChars cp =\n",
    "    many cp\n",
    "    |>> charListToStr"
   ]
  },
  {
   "cell_type": "code",
   "execution_count": null,
   "metadata": {
    "dotnet_repl_cellExecutionStartTime": "2023-07-25T21:35:41.4458923-03:00",
    "dotnet_repl_cellExecutionEndTime": "2023-07-25T21:35:41.5043271-03:00",
    "dotnet_repl_cellExecutionTime": "58.4406ms",
    "dotnet_interactive": {
     "language": "fsharp"
    },
    "polyglot_notebook": {
     "kernelName": "fsharp"
    }
   },
   "outputs": [],
   "source": [
    "let inline manyChars1 cp =\n",
    "    many1 cp\n",
    "    |>> charListToStr"
   ]
  },
  {
   "cell_type": "code",
   "execution_count": null,
   "metadata": {
    "dotnet_repl_cellExecutionStartTime": "2023-07-25T21:35:41.5043663-03:00",
    "dotnet_repl_cellExecutionEndTime": "2023-07-25T21:35:41.5930436-03:00",
    "dotnet_repl_cellExecutionTime": "88.6817ms",
    "dotnet_interactive": {
     "language": "fsharp"
    },
    "polyglot_notebook": {
     "kernelName": "fsharp"
    }
   },
   "outputs": [
    {
     "name": "stdout",
     "output_type": "stream",
     "text": [
      "Success\r\n",
      "      Item:       - Hello\r\n",
      "      - InputState\r\n",
      "          lines: [ Hello ]\r\n",
      "          position: Position\r\n",
      "            line: 0\r\n",
      "            column: 5\r\n"
     ]
    }
   ],
   "source": [
    "//// test\n",
    "\n",
    "let input = fromStr \"Hello\"\n",
    "let parser = manyChars1 (anyOf [ 'H'; 'e'; 'l'; 'o' ])\n",
    "runOnInput parser input |> _equal (\n",
    "    Success (\n",
    "        \"Hello\",\n",
    "        {\n",
    "            lines = [| \"Hello\" |]\n",
    "            position = { line = 0; column = 5 }\n",
    "        }\n",
    "    )\n",
    ")"
   ]
  },
  {
   "cell_type": "code",
   "execution_count": null,
   "metadata": {
    "dotnet_repl_cellExecutionStartTime": "2023-07-25T21:35:41.5931034-03:00",
    "dotnet_repl_cellExecutionEndTime": "2023-07-25T21:35:41.6289567-03:00",
    "dotnet_repl_cellExecutionTime": "35.8583ms",
    "dotnet_interactive": {
     "language": "fsharp"
    },
    "polyglot_notebook": {
     "kernelName": "fsharp"
    }
   },
   "outputs": [],
   "source": [
    "let inline pstring str =\n",
    "    str\n",
    "    |> List.ofSeq\n",
    "    |> List.map pchar\n",
    "    |> sequence\n",
    "    |> mapP charListToStr\n",
    "    <?> str"
   ]
  },
  {
   "cell_type": "code",
   "execution_count": null,
   "metadata": {
    "dotnet_repl_cellExecutionStartTime": "2023-07-25T21:35:41.6289919-03:00",
    "dotnet_repl_cellExecutionEndTime": "2023-07-25T21:35:41.6822971-03:00",
    "dotnet_repl_cellExecutionTime": "53.3098ms",
    "dotnet_interactive": {
     "language": "fsharp"
    },
    "polyglot_notebook": {
     "kernelName": "fsharp"
    }
   },
   "outputs": [
    {
     "name": "stdout",
     "output_type": "stream",
     "text": [
      "Success\r\n",
      "      Item:       - Hello\r\n",
      "      - InputState\r\n",
      "          lines: [ Hello ]\r\n",
      "          position: Position\r\n",
      "            line: 0\r\n",
      "            column: 5\r\n"
     ]
    }
   ],
   "source": [
    "//// test\n",
    "\n",
    "let input = fromStr \"Hello\"\n",
    "let parser = pstring \"Hello\"\n",
    "runOnInput parser input |> _equal (\n",
    "    Success (\n",
    "        \"Hello\",\n",
    "        {\n",
    "            lines = [| \"Hello\" |]\n",
    "            position = { line = 0; column = 5 }\n",
    "        }\n",
    "    )\n",
    ")"
   ]
  },
  {
   "cell_type": "code",
   "execution_count": null,
   "metadata": {
    "dotnet_repl_cellExecutionStartTime": "2023-07-25T21:35:41.6823517-03:00",
    "dotnet_repl_cellExecutionEndTime": "2023-07-25T21:35:41.69789-03:00",
    "dotnet_repl_cellExecutionTime": "15.5427ms",
    "dotnet_interactive": {
     "language": "fsharp"
    },
    "polyglot_notebook": {
     "kernelName": "fsharp"
    }
   },
   "outputs": [],
   "source": [
    "let whitespaceChar =\n",
    "    satisfy Char.IsWhiteSpace \"whitespace\""
   ]
  },
  {
   "cell_type": "code",
   "execution_count": null,
   "metadata": {
    "dotnet_repl_cellExecutionStartTime": "2023-07-25T21:35:41.6979257-03:00",
    "dotnet_repl_cellExecutionEndTime": "2023-07-25T21:35:41.7096178-03:00",
    "dotnet_repl_cellExecutionTime": "11.6973ms",
    "dotnet_interactive": {
     "language": "fsharp"
    },
    "polyglot_notebook": {
     "kernelName": "fsharp"
    }
   },
   "outputs": [],
   "source": [
    "let spaces = many whitespaceChar"
   ]
  },
  {
   "cell_type": "code",
   "execution_count": null,
   "metadata": {
    "dotnet_repl_cellExecutionStartTime": "2023-07-25T21:35:41.7096696-03:00",
    "dotnet_repl_cellExecutionEndTime": "2023-07-25T21:35:41.7301416-03:00",
    "dotnet_repl_cellExecutionTime": "20.4764ms",
    "dotnet_interactive": {
     "language": "fsharp"
    },
    "polyglot_notebook": {
     "kernelName": "fsharp"
    }
   },
   "outputs": [],
   "source": [
    "let spaces1 = many1 whitespaceChar"
   ]
  },
  {
   "cell_type": "code",
   "execution_count": null,
   "metadata": {
    "dotnet_repl_cellExecutionStartTime": "2023-07-25T21:35:41.7301874-03:00",
    "dotnet_repl_cellExecutionEndTime": "2023-07-25T21:35:41.7941898-03:00",
    "dotnet_repl_cellExecutionTime": "64.0087ms",
    "dotnet_interactive": {
     "language": "fsharp"
    },
    "polyglot_notebook": {
     "kernelName": "fsharp"
    }
   },
   "outputs": [
    {
     "name": "stdout",
     "output_type": "stream",
     "text": [
      "Success\r\n",
      "      Item:       -         - [  ,   ]\r\n",
      "        - Hello\r\n",
      "      - InputState\r\n",
      "          lines: [   Hello ]\r\n",
      "          position: Position\r\n",
      "            line: 0\r\n",
      "            column: 7\r\n"
     ]
    }
   ],
   "source": [
    "//// test\n",
    "\n",
    "let input = fromStr \"  Hello\"\n",
    "let parser = spaces1 .>>. pstring \"Hello\"\n",
    "runOnInput parser input |> _equal (\n",
    "    Success (\n",
    "        ([ ' '; ' ' ], \"Hello\"),\n",
    "        {\n",
    "            lines = [| \"  Hello\" |]\n",
    "            position = { line = 0; column = 7 }\n",
    "        }\n",
    "    )\n",
    ")"
   ]
  },
  {
   "cell_type": "code",
   "execution_count": null,
   "metadata": {
    "dotnet_repl_cellExecutionStartTime": "2023-07-25T21:35:41.7942407-03:00",
    "dotnet_repl_cellExecutionEndTime": "2023-07-25T21:35:41.815031-03:00",
    "dotnet_repl_cellExecutionTime": "20.7969ms",
    "dotnet_interactive": {
     "language": "fsharp"
    },
    "polyglot_notebook": {
     "kernelName": "fsharp"
    }
   },
   "outputs": [],
   "source": [
    "let digitChar =\n",
    "    satisfy Char.IsDigit \"digit\""
   ]
  },
  {
   "cell_type": "code",
   "execution_count": null,
   "metadata": {
    "dotnet_repl_cellExecutionStartTime": "2023-07-25T21:35:41.8151068-03:00",
    "dotnet_repl_cellExecutionEndTime": "2023-07-25T21:35:41.8518154-03:00",
    "dotnet_repl_cellExecutionTime": "36.7141ms",
    "dotnet_interactive": {
     "language": "fsharp"
    },
    "polyglot_notebook": {
     "kernelName": "fsharp"
    }
   },
   "outputs": [
    {
     "name": "stdout",
     "output_type": "stream",
     "text": [
      "Failure\r\n",
      "      Item1: digit\r\n",
      "      Item2: Unexpected 'H'\r\n",
      "      Item3: ParserPosition\r\n",
      "        currentLine: Hello\r\n",
      "        line: 0\r\n",
      "        column: 0\r\n"
     ]
    }
   ],
   "source": [
    "//// test\n",
    "\n",
    "let input = fromStr \"Hello\"\n",
    "let parser = digitChar\n",
    "runOnInput parser input |> _equal (\n",
    "    Failure (\n",
    "        \"digit\",\n",
    "        \"Unexpected 'H'\",\n",
    "        {\n",
    "            currentLine = \"Hello\"\n",
    "            line = 0\n",
    "            column = 0\n",
    "        }\n",
    "    )\n",
    ")"
   ]
  },
  {
   "cell_type": "code",
   "execution_count": null,
   "metadata": {
    "dotnet_repl_cellExecutionStartTime": "2023-07-25T21:35:41.8518594-03:00",
    "dotnet_repl_cellExecutionEndTime": "2023-07-25T21:35:41.9968929-03:00",
    "dotnet_repl_cellExecutionTime": "145.0396ms",
    "dotnet_interactive": {
     "language": "fsharp"
    },
    "polyglot_notebook": {
     "kernelName": "fsharp"
    }
   },
   "outputs": [],
   "source": [
    "let pint =\n",
    "    let inline resultToInt (sign, digits) =\n",
    "        let i = int digits\n",
    "        match sign with\n",
    "        | Some ch -> -i\n",
    "        | None -> i\n",
    "\n",
    "    let digits = manyChars1 digitChar\n",
    "\n",
    "    opt (pchar '-') .>>. digits\n",
    "    |> mapP resultToInt\n",
    "    <?> \"integer\""
   ]
  },
  {
   "cell_type": "code",
   "execution_count": null,
   "metadata": {
    "dotnet_repl_cellExecutionStartTime": "2023-07-25T21:35:41.9969386-03:00",
    "dotnet_repl_cellExecutionEndTime": "2023-07-25T21:35:42.0585648-03:00",
    "dotnet_repl_cellExecutionTime": "61.6325ms",
    "dotnet_interactive": {
     "language": "fsharp"
    },
    "polyglot_notebook": {
     "kernelName": "fsharp"
    }
   },
   "outputs": [
    {
     "name": "stdout",
     "output_type": "stream",
     "text": [
      "Success\r\n",
      "      Item:       - -123\r\n",
      "      - InputState\r\n",
      "          lines: [ -123 ]\r\n",
      "          position: Position\r\n",
      "            line: 0\r\n",
      "            column: 4\r\n"
     ]
    }
   ],
   "source": [
    "//// test\n",
    "\n",
    "run pint \"-123\"\n",
    "|> _equal (\n",
    "    Success (\n",
    "        -123,\n",
    "        {\n",
    "            lines = [| \"-123\" |]\n",
    "            position = { line = 0; column = 4 }\n",
    "        }\n",
    "    )\n",
    ")"
   ]
  },
  {
   "cell_type": "code",
   "execution_count": null,
   "metadata": {
    "dotnet_repl_cellExecutionStartTime": "2023-07-25T21:35:42.0586193-03:00",
    "dotnet_repl_cellExecutionEndTime": "2023-07-25T21:35:42.1335487-03:00",
    "dotnet_repl_cellExecutionTime": "74.9343ms",
    "dotnet_interactive": {
     "language": "fsharp"
    },
    "polyglot_notebook": {
     "kernelName": "fsharp"
    }
   },
   "outputs": [],
   "source": [
    "let pfloat =\n",
    "    let inline resultToFloat (((sign, digits1), point), digits2) =\n",
    "        let fl = float $\"{digits1}.{digits2}\"\n",
    "        match sign with\n",
    "        | Some ch -> -fl\n",
    "        | None -> fl\n",
    "\n",
    "    let digits = manyChars1 digitChar\n",
    "\n",
    "    opt (pchar '-') .>>. digits .>>. pchar '.' .>>. digits\n",
    "    |> mapP resultToFloat\n",
    "    <?> \"float\""
   ]
  },
  {
   "cell_type": "code",
   "execution_count": null,
   "metadata": {
    "dotnet_repl_cellExecutionStartTime": "2023-07-25T21:35:42.1335819-03:00",
    "dotnet_repl_cellExecutionEndTime": "2023-07-25T21:35:42.1878986-03:00",
    "dotnet_repl_cellExecutionTime": "54.3246ms",
    "dotnet_interactive": {
     "language": "fsharp"
    },
    "polyglot_notebook": {
     "kernelName": "fsharp"
    }
   },
   "outputs": [
    {
     "name": "stdout",
     "output_type": "stream",
     "text": [
      "Success\r\n",
      "      Item:       - -123.45\r\n",
      "      - InputState\r\n",
      "          lines: [ -123.45 ]\r\n",
      "          position: Position\r\n",
      "            line: 0\r\n",
      "            column: 7\r\n"
     ]
    }
   ],
   "source": [
    "//// test\n",
    "\n",
    "run pfloat \"-123.45\"\n",
    "|> _equal (\n",
    "    Success (\n",
    "        -123.45,\n",
    "        {\n",
    "            lines = [| \"-123.45\" |]\n",
    "            position = { line = 0; column = 7 }\n",
    "        }\n",
    "    )\n",
    ")"
   ]
  },
  {
   "cell_type": "code",
   "execution_count": null,
   "metadata": {
    "dotnet_repl_cellExecutionStartTime": "2023-07-25T21:35:42.1879707-03:00",
    "dotnet_repl_cellExecutionEndTime": "2023-07-25T21:35:42.276385-03:00",
    "dotnet_repl_cellExecutionTime": "88.4275ms",
    "dotnet_interactive": {
     "language": "fsharp"
    },
    "polyglot_notebook": {
     "kernelName": "fsharp"
    }
   },
   "outputs": [],
   "source": [
    "let inline createParserForwardedToRef<'a> () =\n",
    "    let mutable parserRef : Parser<'a> =\n",
    "        {\n",
    "            label = \"unknown\"\n",
    "            parseFn = fun _ -> failwith \"unfixed forwarded parser\"\n",
    "        }\n",
    "\n",
    "    let wrapperParser =\n",
    "        { parserRef with\n",
    "            parseFn = fun input -> runOnInput parserRef input\n",
    "        }\n",
    "\n",
    "    wrapperParser, (fun v -> parserRef <- v)"
   ]
  },
  {
   "cell_type": "code",
   "execution_count": null,
   "metadata": {
    "dotnet_repl_cellExecutionStartTime": "2023-07-25T21:35:42.2764277-03:00",
    "dotnet_repl_cellExecutionEndTime": "2023-07-25T21:35:42.2923638-03:00",
    "dotnet_repl_cellExecutionTime": "15.9408ms",
    "dotnet_interactive": {
     "language": "fsharp"
    },
    "polyglot_notebook": {
     "kernelName": "fsharp"
    }
   },
   "outputs": [],
   "source": [
    "let inline (>>%) p x =\n",
    "    p\n",
    "    |>> fun _ -> x"
   ]
  }
 ],
 "metadata": {
  "kernelspec": {
   "display_name": ".NET (C#)",
   "language": "C#",
   "name": ".net-csharp"
  },
  "language_info": {
   "file_extension": ".cs",
   "mimetype": "text/x-csharp",
   "name": "C#",
   "pygments_lexer": "csharp",
   "version": "10.0"
  },
  "polyglot_notebook": {
   "defaultKernelName": "csharp",
   "items": [
    {
     "name": "csharp"
    }
   ]
  },
  "dotnet_interactive": {
   "defaultKernelName": "csharp",
   "items": [
    {
     "name": "csharp"
    }
   ]
  }
 },
 "nbformat": 4,
 "nbformat_minor": 5
}