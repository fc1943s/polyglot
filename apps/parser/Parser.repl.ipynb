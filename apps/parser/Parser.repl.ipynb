{
 "cells": [
  {
   "cell_type": "code",
   "execution_count": null,
   "metadata": {
    "dotnet_repl_cellExecutionStartTime": "2023-07-11T01:00:12.8624616-03:00",
    "dotnet_repl_cellExecutionEndTime": "2023-07-11T01:00:22.4060167-03:00",
    "dotnet_repl_cellExecutionTime": "9.5436872s",
    "dotnet_interactive": {
     "language": "fsharp"
    },
    "polyglot_notebook": {
     "kernelName": "fsharp"
    }
   },
   "outputs": [
    {
     "data": {
      "text/html": [
       "<div><div></div><div><strong>Installing Packages</strong><ul><li><span>Expecto</span></li></ul></div><div></div></div>"
      ]
     },
     "metadata": {},
     "output_type": "display_data"
    },
    {
     "data": {
      "text/html": [
       "<div><div></div><div><strong>Installing Packages</strong><ul><li><span>Expecto.</span></li></ul></div><div></div></div>"
      ]
     },
     "metadata": {},
     "output_type": "display_data"
    },
    {
     "data": {
      "text/html": [
       "<div><div></div><div><strong>Installing Packages</strong><ul><li><span>Expecto..</span></li></ul></div><div></div></div>"
      ]
     },
     "metadata": {},
     "output_type": "display_data"
    },
    {
     "data": {
      "text/html": [
       "<div><div></div><div><strong>Installing Packages</strong><ul><li><span>Expecto...</span></li></ul></div><div></div></div>"
      ]
     },
     "metadata": {},
     "output_type": "display_data"
    },
    {
     "data": {
      "text/html": [
       "<div><div></div><div><strong>Installing Packages</strong><ul><li><span>Expecto....</span></li></ul></div><div></div></div>"
      ]
     },
     "metadata": {},
     "output_type": "display_data"
    },
    {
     "data": {
      "text/html": [
       "<div><div></div><div><strong>Installing Packages</strong><ul><li><span>Expecto.....</span></li></ul></div><div></div></div>"
      ]
     },
     "metadata": {},
     "output_type": "display_data"
    },
    {
     "data": {
      "text/html": [
       "<div><div></div><div><strong>Installing Packages</strong><ul><li><span>Expecto......</span></li></ul></div><div></div></div>"
      ]
     },
     "metadata": {},
     "output_type": "display_data"
    },
    {
     "data": {
      "text/html": [
       "<div><div></div><div><strong>Installing Packages</strong><ul><li><span>Expecto.......</span></li></ul></div><div></div></div>"
      ]
     },
     "metadata": {},
     "output_type": "display_data"
    },
    {
     "data": {
      "text/html": [
       "<div><div></div><div></div><div><strong>Installed Packages</strong><ul><li><span>Expecto, 10.1.0</span></li></ul></div></div>"
      ]
     },
     "metadata": {},
     "output_type": "display_data"
    }
   ],
   "source": [
    "#!import ../../nbs/Testing.dib"
   ]
  },
  {
   "cell_type": "markdown",
   "metadata": {
    "dotnet_repl_cellExecutionStartTime": "2023-07-11T01:00:22.4071256-03:00",
    "dotnet_repl_cellExecutionEndTime": "2023-07-11T01:00:22.4115109-03:00",
    "dotnet_repl_cellExecutionTime": "4.3869ms"
   },
   "source": [
    "## Parser"
   ]
  },
  {
   "cell_type": "code",
   "execution_count": null,
   "metadata": {
    "dotnet_repl_cellExecutionStartTime": "2023-07-11T01:00:22.4116981-03:00",
    "dotnet_repl_cellExecutionEndTime": "2023-07-11T01:00:22.4919138-03:00",
    "dotnet_repl_cellExecutionTime": "80.2177ms",
    "dotnet_interactive": {
     "language": "fsharp"
    },
    "polyglot_notebook": {
     "kernelName": "fsharp"
    }
   },
   "outputs": [],
   "source": [
    "open System"
   ]
  },
  {
   "cell_type": "markdown",
   "metadata": {
    "dotnet_repl_cellExecutionStartTime": "2023-07-11T01:00:22.4919538-03:00",
    "dotnet_repl_cellExecutionEndTime": "2023-07-11T01:00:22.4959384-03:00",
    "dotnet_repl_cellExecutionTime": "3.9859ms"
   },
   "source": [
    "### TextInput"
   ]
  },
  {
   "cell_type": "code",
   "execution_count": null,
   "metadata": {
    "dotnet_repl_cellExecutionStartTime": "2023-07-11T01:00:22.4959671-03:00",
    "dotnet_repl_cellExecutionEndTime": "2023-07-11T01:00:22.6000401-03:00",
    "dotnet_repl_cellExecutionTime": "104.0745ms",
    "dotnet_interactive": {
     "language": "fsharp"
    },
    "polyglot_notebook": {
     "kernelName": "fsharp"
    }
   },
   "outputs": [],
   "source": [
    "type Position =\n",
    "    {\n",
    "        line : int\n",
    "        column : int\n",
    "    }"
   ]
  },
  {
   "cell_type": "code",
   "execution_count": null,
   "metadata": {
    "dotnet_repl_cellExecutionStartTime": "2023-07-11T01:00:22.6000795-03:00",
    "dotnet_repl_cellExecutionEndTime": "2023-07-11T01:00:22.6435875-03:00",
    "dotnet_repl_cellExecutionTime": "43.5099ms",
    "dotnet_interactive": {
     "language": "fsharp"
    },
    "polyglot_notebook": {
     "kernelName": "fsharp"
    }
   },
   "outputs": [],
   "source": [
    "let initialPos = { line = 0; column = 0 }"
   ]
  },
  {
   "cell_type": "code",
   "execution_count": null,
   "metadata": {
    "dotnet_repl_cellExecutionStartTime": "2023-07-11T01:00:22.6436264-03:00",
    "dotnet_repl_cellExecutionEndTime": "2023-07-11T01:00:22.7279758-03:00",
    "dotnet_repl_cellExecutionTime": "84.3511ms",
    "dotnet_interactive": {
     "language": "fsharp"
    },
    "polyglot_notebook": {
     "kernelName": "fsharp"
    }
   },
   "outputs": [],
   "source": [
    "let incrCol (pos : Position) =\n",
    "    { pos with column = pos.column + 1 }"
   ]
  },
  {
   "cell_type": "code",
   "execution_count": null,
   "metadata": {
    "dotnet_repl_cellExecutionStartTime": "2023-07-11T01:00:22.7280088-03:00",
    "dotnet_repl_cellExecutionEndTime": "2023-07-11T01:00:22.7391645-03:00",
    "dotnet_repl_cellExecutionTime": "11.1575ms",
    "dotnet_interactive": {
     "language": "fsharp"
    },
    "polyglot_notebook": {
     "kernelName": "fsharp"
    }
   },
   "outputs": [],
   "source": [
    "let incrLine pos =\n",
    "    { line = pos.line + 1; column = 0 }"
   ]
  },
  {
   "cell_type": "code",
   "execution_count": null,
   "metadata": {
    "dotnet_repl_cellExecutionStartTime": "2023-07-11T01:00:22.7392049-03:00",
    "dotnet_repl_cellExecutionEndTime": "2023-07-11T01:00:22.7730638-03:00",
    "dotnet_repl_cellExecutionTime": "33.8608ms",
    "dotnet_interactive": {
     "language": "fsharp"
    },
    "polyglot_notebook": {
     "kernelName": "fsharp"
    }
   },
   "outputs": [],
   "source": [
    "type InputState =\n",
    "    {\n",
    "        lines : string[]\n",
    "        position : Position\n",
    "    }"
   ]
  },
  {
   "cell_type": "code",
   "execution_count": null,
   "metadata": {
    "dotnet_repl_cellExecutionStartTime": "2023-07-11T01:00:22.7731072-03:00",
    "dotnet_repl_cellExecutionEndTime": "2023-07-11T01:00:22.8249073-03:00",
    "dotnet_repl_cellExecutionTime": "51.8021ms",
    "dotnet_interactive": {
     "language": "fsharp"
    },
    "polyglot_notebook": {
     "kernelName": "fsharp"
    }
   },
   "outputs": [],
   "source": [
    "let fromStr str =\n",
    "    if String.IsNullOrEmpty str then\n",
    "        { lines = [||]; position = initialPos }\n",
    "    else\n",
    "        let separators = [| \"\\r\\n\"; \"\\n\" |]\n",
    "        let lines = str.Split (separators, StringSplitOptions.None)\n",
    "        { lines = lines; position = initialPos }"
   ]
  },
  {
   "cell_type": "code",
   "execution_count": null,
   "metadata": {
    "dotnet_repl_cellExecutionStartTime": "2023-07-11T01:00:22.8249548-03:00",
    "dotnet_repl_cellExecutionEndTime": "2023-07-11T01:00:22.88372-03:00",
    "dotnet_repl_cellExecutionTime": "58.7666ms",
    "dotnet_interactive": {
     "language": "fsharp"
    },
    "polyglot_notebook": {
     "kernelName": "fsharp"
    }
   },
   "outputs": [
    {
     "name": "stdout",
     "output_type": "stream",
     "text": [
      "InputState\r\n",
      "      lines: [  ]\r\n",
      "      position: Position\r\n",
      "        line: 0\r\n",
      "        column: 0\r\n"
     ]
    }
   ],
   "source": [
    "//// test\n",
    "\n",
    "fromStr \"\" |> _equal {\n",
    "    lines = [||]\n",
    "    position = { line = 0; column = 0 }\n",
    "}"
   ]
  },
  {
   "cell_type": "code",
   "execution_count": null,
   "metadata": {
    "dotnet_repl_cellExecutionStartTime": "2023-07-11T01:00:22.8837624-03:00",
    "dotnet_repl_cellExecutionEndTime": "2023-07-11T01:00:22.9041797-03:00",
    "dotnet_repl_cellExecutionTime": "20.4196ms",
    "dotnet_interactive": {
     "language": "fsharp"
    },
    "polyglot_notebook": {
     "kernelName": "fsharp"
    }
   },
   "outputs": [
    {
     "name": "stdout",
     "output_type": "stream",
     "text": [
      "InputState\r\n",
      "      lines: [ Hello ,  World ]\r\n",
      "      position: Position\r\n",
      "        line: 0\r\n",
      "        column: 0\r\n"
     ]
    }
   ],
   "source": [
    "//// test\n",
    "\n",
    "fromStr \"Hello \\n World\" |> _equal {\n",
    "    lines = [| \"Hello \"; \" World\" |]\n",
    "    position = { line = 0; column = 0 }\n",
    "}"
   ]
  },
  {
   "cell_type": "code",
   "execution_count": null,
   "metadata": {
    "dotnet_repl_cellExecutionStartTime": "2023-07-11T01:00:22.9042456-03:00",
    "dotnet_repl_cellExecutionEndTime": "2023-07-11T01:00:22.9589152-03:00",
    "dotnet_repl_cellExecutionTime": "54.671ms",
    "dotnet_interactive": {
     "language": "fsharp"
    },
    "polyglot_notebook": {
     "kernelName": "fsharp"
    }
   },
   "outputs": [],
   "source": [
    "let currentLine inputState =\n",
    "    let linePos = inputState.position.line\n",
    "    if linePos < inputState.lines.Length then\n",
    "        inputState.lines.[linePos]\n",
    "    else\n",
    "        \"end of file\""
   ]
  },
  {
   "cell_type": "code",
   "execution_count": null,
   "metadata": {
    "dotnet_repl_cellExecutionStartTime": "2023-07-11T01:00:22.9589431-03:00",
    "dotnet_repl_cellExecutionEndTime": "2023-07-11T01:00:23.0185436-03:00",
    "dotnet_repl_cellExecutionTime": "59.6042ms",
    "dotnet_interactive": {
     "language": "fsharp"
    },
    "polyglot_notebook": {
     "kernelName": "fsharp"
    }
   },
   "outputs": [],
   "source": [
    "let nextChar input =\n",
    "    let linePos = input.position.line\n",
    "    let colPos = input.position.column\n",
    "\n",
    "    if linePos >= input.lines.Length then\n",
    "        input, None\n",
    "    else\n",
    "        let currentLine = currentLine input\n",
    "        if colPos < currentLine.Length then\n",
    "            let char = currentLine.[colPos]\n",
    "            let newPos = incrCol input.position\n",
    "            let newState = { input with position = newPos }\n",
    "            newState, Some char\n",
    "        else\n",
    "            let char = '\\n'\n",
    "            let newPos = incrLine input.position\n",
    "            let newState = { input with position = newPos }\n",
    "            newState, Some char"
   ]
  },
  {
   "cell_type": "code",
   "execution_count": null,
   "metadata": {
    "dotnet_repl_cellExecutionStartTime": "2023-07-11T01:00:23.0185803-03:00",
    "dotnet_repl_cellExecutionEndTime": "2023-07-11T01:00:23.064716-03:00",
    "dotnet_repl_cellExecutionTime": "46.1372ms",
    "dotnet_interactive": {
     "language": "fsharp"
    },
    "polyglot_notebook": {
     "kernelName": "fsharp"
    }
   },
   "outputs": [
    {
     "name": "stdout",
     "output_type": "stream",
     "text": [
      "InputState\r\n",
      "      lines: [ Hello World ]\r\n",
      "      position: Position\r\n",
      "        line: 0\r\n",
      "        column: 1\r\n",
      "FSharpOption<Char>\r\n",
      "      Value: H\r\n"
     ]
    }
   ],
   "source": [
    "//// test\n",
    "\n",
    "let newInput, charOpt = fromStr \"Hello World\" |> nextChar\n",
    "\n",
    "newInput |> _equal {\n",
    "    lines = [| \"Hello World\" |]\n",
    "    position = { line = 0; column = 1 }\n",
    "}\n",
    "charOpt |> _equal (Some 'H')"
   ]
  },
  {
   "cell_type": "code",
   "execution_count": null,
   "metadata": {
    "dotnet_repl_cellExecutionStartTime": "2023-07-11T01:00:23.0647732-03:00",
    "dotnet_repl_cellExecutionEndTime": "2023-07-11T01:00:23.0953317-03:00",
    "dotnet_repl_cellExecutionTime": "30.5604ms",
    "dotnet_interactive": {
     "language": "fsharp"
    },
    "polyglot_notebook": {
     "kernelName": "fsharp"
    }
   },
   "outputs": [
    {
     "name": "stdout",
     "output_type": "stream",
     "text": [
      "InputState\r\n",
      "      lines: [ Hello, , World ]\r\n",
      "      position: Position\r\n",
      "        line: 0\r\n",
      "        column: 1\r\n",
      "FSharpOption<Char>\r\n",
      "      Value: H\r\n"
     ]
    }
   ],
   "source": [
    "//// test\n",
    "\n",
    "let newInput, charOpt = fromStr \"Hello\\n\\nWorld\" |> nextChar\n",
    "\n",
    "newInput |> _equal {\n",
    "    lines = [| \"Hello\"; \"\"; \"World\" |]\n",
    "    position = { line = 0; column = 1 }\n",
    "}\n",
    "charOpt |> _equal (Some 'H')"
   ]
  },
  {
   "cell_type": "markdown",
   "metadata": {
    "dotnet_repl_cellExecutionStartTime": "2023-07-11T01:00:23.0953799-03:00",
    "dotnet_repl_cellExecutionEndTime": "2023-07-11T01:00:23.0990765-03:00",
    "dotnet_repl_cellExecutionTime": "3.698ms"
   },
   "source": [
    "### Parser"
   ]
  },
  {
   "cell_type": "code",
   "execution_count": null,
   "metadata": {
    "dotnet_repl_cellExecutionStartTime": "2023-07-11T01:00:23.0991103-03:00",
    "dotnet_repl_cellExecutionEndTime": "2023-07-11T01:00:23.3267284-03:00",
    "dotnet_repl_cellExecutionTime": "227.6196ms",
    "dotnet_interactive": {
     "language": "fsharp"
    },
    "polyglot_notebook": {
     "kernelName": "fsharp"
    }
   },
   "outputs": [],
   "source": [
    "type Input = InputState\n",
    "type ParserLabel = string\n",
    "type ParserError = string\n",
    "\n",
    "type ParserPosition =\n",
    "    {\n",
    "        currentLine : string\n",
    "        line : int\n",
    "        column : int\n",
    "    }\n",
    "\n",
    "type ParseResult<'a> =\n",
    "    | Success of 'a\n",
    "    | Failure of ParserLabel * ParserError * ParserPosition\n",
    "\n",
    "type Parser<'a> =\n",
    "    {\n",
    "        parseFn : Input -> ParseResult<'a * Input>\n",
    "        label : ParserLabel\n",
    "    }"
   ]
  },
  {
   "cell_type": "code",
   "execution_count": null,
   "metadata": {
    "dotnet_repl_cellExecutionStartTime": "2023-07-11T01:00:23.3267676-03:00",
    "dotnet_repl_cellExecutionEndTime": "2023-07-11T01:00:23.3878408-03:00",
    "dotnet_repl_cellExecutionTime": "61.0749ms",
    "dotnet_interactive": {
     "language": "fsharp"
    },
    "polyglot_notebook": {
     "kernelName": "fsharp"
    }
   },
   "outputs": [],
   "source": [
    "let printResult result =\n",
    "    match result with\n",
    "    | Success (value, input) ->\n",
    "        printfn $\"%A{value}\"\n",
    "    | Failure (label, error, parserPos) ->\n",
    "        let errorLine = parserPos.currentLine\n",
    "        let colPos = parserPos.column\n",
    "        let linePos = parserPos.line\n",
    "        let failureCaret = $\"{' '.ToString().PadLeft colPos}^{error}\"\n",
    "        printfn $\"Line:%i{linePos} Col:%i{colPos} Error parsing %s{label}\\n%s{errorLine}\\n%s{failureCaret}\""
   ]
  },
  {
   "cell_type": "code",
   "execution_count": null,
   "metadata": {
    "dotnet_repl_cellExecutionStartTime": "2023-07-11T01:00:23.3878769-03:00",
    "dotnet_repl_cellExecutionEndTime": "2023-07-11T01:00:23.4208707-03:00",
    "dotnet_repl_cellExecutionTime": "32.9956ms",
    "dotnet_interactive": {
     "language": "fsharp"
    },
    "polyglot_notebook": {
     "kernelName": "fsharp"
    }
   },
   "outputs": [],
   "source": [
    "//// test\n",
    "\n",
    "let parserEqual (expected : ParseResult<'a>) (actual : ParseResult<'a * Input>) =\n",
    "    match actual, expected with\n",
    "    | Success (_actual, _), Success _expected ->\n",
    "        printResult actual\n",
    "        _actual |> _equal _expected\n",
    "    | Failure (l1, e1, p1), Failure (l2, e2, p2) when l1 = l2 && e1 = e2 && p1 = p2 ->\n",
    "        printResult actual\n",
    "    | _ ->\n",
    "        printfn $\"Actual: {actual}\"\n",
    "        printfn $\"Expected: {expected}\"\n",
    "        failwith \"Parse failed\"\n",
    "    actual"
   ]
  },
  {
   "cell_type": "code",
   "execution_count": null,
   "metadata": {
    "dotnet_repl_cellExecutionStartTime": "2023-07-11T01:00:23.420905-03:00",
    "dotnet_repl_cellExecutionEndTime": "2023-07-11T01:00:23.4328211-03:00",
    "dotnet_repl_cellExecutionTime": "11.9185ms",
    "dotnet_interactive": {
     "language": "fsharp"
    },
    "polyglot_notebook": {
     "kernelName": "fsharp"
    }
   },
   "outputs": [],
   "source": [
    "let runOnInput parser input =\n",
    "    parser.parseFn input"
   ]
  },
  {
   "cell_type": "code",
   "execution_count": null,
   "metadata": {
    "dotnet_repl_cellExecutionStartTime": "2023-07-11T01:00:23.4329077-03:00",
    "dotnet_repl_cellExecutionEndTime": "2023-07-11T01:00:23.4447273-03:00",
    "dotnet_repl_cellExecutionTime": "11.8301ms",
    "dotnet_interactive": {
     "language": "fsharp"
    },
    "polyglot_notebook": {
     "kernelName": "fsharp"
    }
   },
   "outputs": [],
   "source": [
    "let run parser inputStr =\n",
    "    runOnInput parser (fromStr inputStr)"
   ]
  },
  {
   "cell_type": "code",
   "execution_count": null,
   "metadata": {
    "dotnet_repl_cellExecutionStartTime": "2023-07-11T01:00:23.4447669-03:00",
    "dotnet_repl_cellExecutionEndTime": "2023-07-11T01:00:23.4599447-03:00",
    "dotnet_repl_cellExecutionTime": "15.1794ms",
    "dotnet_interactive": {
     "language": "fsharp"
    },
    "polyglot_notebook": {
     "kernelName": "fsharp"
    }
   },
   "outputs": [],
   "source": [
    "let parserPositionFromInputState (inputState : Input) =\n",
    "    {\n",
    "        currentLine = currentLine inputState\n",
    "        line = inputState.position.line\n",
    "        column = inputState.position.column\n",
    "    }"
   ]
  },
  {
   "cell_type": "code",
   "execution_count": null,
   "metadata": {
    "dotnet_repl_cellExecutionStartTime": "2023-07-11T01:00:23.4599763-03:00",
    "dotnet_repl_cellExecutionEndTime": "2023-07-11T01:00:23.4696113-03:00",
    "dotnet_repl_cellExecutionTime": "9.6367ms",
    "dotnet_interactive": {
     "language": "fsharp"
    },
    "polyglot_notebook": {
     "kernelName": "fsharp"
    }
   },
   "outputs": [],
   "source": [
    "let getLabel parser =\n",
    "    parser.label"
   ]
  },
  {
   "cell_type": "code",
   "execution_count": null,
   "metadata": {
    "dotnet_repl_cellExecutionStartTime": "2023-07-11T01:00:23.4696469-03:00",
    "dotnet_repl_cellExecutionEndTime": "2023-07-11T01:00:23.4970407-03:00",
    "dotnet_repl_cellExecutionTime": "27.3953ms",
    "dotnet_interactive": {
     "language": "fsharp"
    },
    "polyglot_notebook": {
     "kernelName": "fsharp"
    }
   },
   "outputs": [],
   "source": [
    "let setLabel parser newLabel =\n",
    "    let newInnerFn input =\n",
    "        match parser.parseFn input with\n",
    "        | Success s -> Success s\n",
    "        | Failure (oldLabel, err, pos) -> Failure (newLabel, err, pos)\n",
    "\n",
    "    { parseFn = newInnerFn; label = newLabel }"
   ]
  },
  {
   "cell_type": "code",
   "execution_count": null,
   "metadata": {
    "dotnet_repl_cellExecutionStartTime": "2023-07-11T01:00:23.4970809-03:00",
    "dotnet_repl_cellExecutionEndTime": "2023-07-11T01:00:23.5114228-03:00",
    "dotnet_repl_cellExecutionTime": "14.3436ms",
    "dotnet_interactive": {
     "language": "fsharp"
    },
    "polyglot_notebook": {
     "kernelName": "fsharp"
    }
   },
   "outputs": [],
   "source": [
    "let (<?>) = setLabel"
   ]
  },
  {
   "cell_type": "code",
   "execution_count": null,
   "metadata": {
    "dotnet_repl_cellExecutionStartTime": "2023-07-11T01:00:23.511463-03:00",
    "dotnet_repl_cellExecutionEndTime": "2023-07-11T01:00:23.5461498-03:00",
    "dotnet_repl_cellExecutionTime": "34.6883ms",
    "dotnet_interactive": {
     "language": "fsharp"
    },
    "polyglot_notebook": {
     "kernelName": "fsharp"
    }
   },
   "outputs": [],
   "source": [
    "let satisfy predicate label =\n",
    "    let innerFn input =\n",
    "        let remainingInput, charOpt = nextChar input\n",
    "        match charOpt with\n",
    "        | None ->\n",
    "            let err = \"No more input\"\n",
    "            let pos = parserPositionFromInputState input\n",
    "            Failure (label, err, pos)\n",
    "        | Some first ->\n",
    "            if predicate first then\n",
    "                Success (first, remainingInput)\n",
    "            else\n",
    "                let err = $\"Unexpected '%c{first}'\"\n",
    "                let pos = parserPositionFromInputState input\n",
    "                Failure (label, err, pos)\n",
    "\n",
    "    { parseFn = innerFn; label = label }"
   ]
  },
  {
   "cell_type": "code",
   "execution_count": null,
   "metadata": {
    "dotnet_repl_cellExecutionStartTime": "2023-07-11T01:00:23.5461906-03:00",
    "dotnet_repl_cellExecutionEndTime": "2023-07-11T01:00:23.5833093-03:00",
    "dotnet_repl_cellExecutionTime": "37.1216ms",
    "dotnet_interactive": {
     "language": "fsharp"
    },
    "polyglot_notebook": {
     "kernelName": "fsharp"
    }
   },
   "outputs": [
    {
     "name": "stdout",
     "output_type": "stream",
     "text": [
      "Success\r\n",
      "      Item:       - H\r\n",
      "      - InputState\r\n",
      "          lines: [ Hello ]\r\n",
      "          position: Position\r\n",
      "            line: 0\r\n",
      "            column: 1\r\n"
     ]
    }
   ],
   "source": [
    "//// test\n",
    "\n",
    "let input = fromStr \"Hello\"\n",
    "let parser = satisfy (fun c -> c = 'H') \"H\"\n",
    "runOnInput parser input |> _equal (\n",
    "    Success (\n",
    "        'H',\n",
    "        {\n",
    "            lines = [| \"Hello\" |]\n",
    "            position = { line = 0; column = 1 }\n",
    "        }\n",
    "    )\n",
    ")"
   ]
  },
  {
   "cell_type": "code",
   "execution_count": null,
   "metadata": {
    "dotnet_repl_cellExecutionStartTime": "2023-07-11T01:00:23.5833772-03:00",
    "dotnet_repl_cellExecutionEndTime": "2023-07-11T01:00:23.6160555-03:00",
    "dotnet_repl_cellExecutionTime": "32.6822ms",
    "dotnet_interactive": {
     "language": "fsharp"
    },
    "polyglot_notebook": {
     "kernelName": "fsharp"
    }
   },
   "outputs": [
    {
     "name": "stdout",
     "output_type": "stream",
     "text": [
      "Failure\r\n",
      "      Item1: H\r\n",
      "      Item2: Unexpected 'W'\r\n",
      "      Item3: ParserPosition\r\n",
      "        currentLine: World\r\n",
      "        line: 0\r\n",
      "        column: 0\r\n"
     ]
    }
   ],
   "source": [
    "//// test\n",
    "\n",
    "let input = fromStr \"World\"\n",
    "let parser = satisfy (fun c -> c = 'H') \"H\"\n",
    "runOnInput parser input |> _equal (\n",
    "    Failure (\n",
    "        \"H\",\n",
    "        \"Unexpected 'W'\",\n",
    "        {\n",
    "            currentLine = \"World\"\n",
    "            line = 0\n",
    "            column = 0\n",
    "        }\n",
    "    )\n",
    ")"
   ]
  },
  {
   "cell_type": "code",
   "execution_count": null,
   "metadata": {
    "dotnet_repl_cellExecutionStartTime": "2023-07-11T01:00:23.6161372-03:00",
    "dotnet_repl_cellExecutionEndTime": "2023-07-11T01:00:23.636257-03:00",
    "dotnet_repl_cellExecutionTime": "20.1214ms",
    "dotnet_interactive": {
     "language": "fsharp"
    },
    "polyglot_notebook": {
     "kernelName": "fsharp"
    }
   },
   "outputs": [],
   "source": [
    "let bindP f p =\n",
    "    let label = \"unknown\"\n",
    "    let innerFn input =\n",
    "        let result1 = runOnInput p input\n",
    "        match result1 with\n",
    "        | Failure (label, err, pos) ->\n",
    "            Failure (label, err, pos)\n",
    "        | Success (value1, remainingInput) ->\n",
    "            let p2 = f value1\n",
    "            runOnInput p2 remainingInput\n",
    "\n",
    "    { parseFn = innerFn; label = label }"
   ]
  },
  {
   "cell_type": "code",
   "execution_count": null,
   "metadata": {
    "dotnet_repl_cellExecutionStartTime": "2023-07-11T01:00:23.6362928-03:00",
    "dotnet_repl_cellExecutionEndTime": "2023-07-11T01:00:23.6480842-03:00",
    "dotnet_repl_cellExecutionTime": "11.7929ms",
    "dotnet_interactive": {
     "language": "fsharp"
    },
    "polyglot_notebook": {
     "kernelName": "fsharp"
    }
   },
   "outputs": [],
   "source": [
    "let (>>=) p f = bindP f p"
   ]
  },
  {
   "cell_type": "code",
   "execution_count": null,
   "metadata": {
    "dotnet_repl_cellExecutionStartTime": "2023-07-11T01:00:23.648115-03:00",
    "dotnet_repl_cellExecutionEndTime": "2023-07-11T01:00:23.6805111-03:00",
    "dotnet_repl_cellExecutionTime": "32.3975ms",
    "dotnet_interactive": {
     "language": "fsharp"
    },
    "polyglot_notebook": {
     "kernelName": "fsharp"
    }
   },
   "outputs": [
    {
     "name": "stdout",
     "output_type": "stream",
     "text": [
      "Success\r\n",
      "      Item:       - e\r\n",
      "      - InputState\r\n",
      "          lines: [ Hello ]\r\n",
      "          position: Position\r\n",
      "            line: 0\r\n",
      "            column: 2\r\n"
     ]
    }
   ],
   "source": [
    "//// test\n",
    "\n",
    "let input = fromStr \"Hello\"\n",
    "let parser = satisfy (fun c -> c = 'H') \"H\"\n",
    "let parser2 = parser >>= fun c -> satisfy (fun c -> c = 'e') \"e\"\n",
    "runOnInput parser2 input |> _equal (\n",
    "    Success (\n",
    "        'e',\n",
    "        {\n",
    "            lines = [| \"Hello\" |]\n",
    "            position = { line = 0; column = 2 }\n",
    "        }\n",
    "    )\n",
    ")"
   ]
  },
  {
   "cell_type": "code",
   "execution_count": null,
   "metadata": {
    "dotnet_repl_cellExecutionStartTime": "2023-07-11T01:00:23.6805681-03:00",
    "dotnet_repl_cellExecutionEndTime": "2023-07-11T01:00:23.7125455-03:00",
    "dotnet_repl_cellExecutionTime": "31.9788ms",
    "dotnet_interactive": {
     "language": "fsharp"
    },
    "polyglot_notebook": {
     "kernelName": "fsharp"
    }
   },
   "outputs": [
    {
     "name": "stdout",
     "output_type": "stream",
     "text": [
      "Failure\r\n",
      "      Item1: e\r\n",
      "      Item2: Unexpected 'o'\r\n",
      "      Item3: ParserPosition\r\n",
      "        currentLine: World\r\n",
      "        line: 0\r\n",
      "        column: 1\r\n"
     ]
    }
   ],
   "source": [
    "//// test\n",
    "\n",
    "let input = fromStr \"World\"\n",
    "let parser = satisfy (fun c -> c = 'W') \"W\"\n",
    "let parser2 = parser >>= fun c -> satisfy (fun c -> c = 'e') \"e\"\n",
    "runOnInput parser2 input |> _equal (\n",
    "    Failure (\n",
    "        \"e\",\n",
    "        \"Unexpected 'o'\",\n",
    "        {\n",
    "            currentLine = \"World\"\n",
    "            line = 0\n",
    "            column = 1\n",
    "        }\n",
    "    )\n",
    ")"
   ]
  },
  {
   "cell_type": "code",
   "execution_count": null,
   "metadata": {
    "dotnet_repl_cellExecutionStartTime": "2023-07-11T01:00:23.7125831-03:00",
    "dotnet_repl_cellExecutionEndTime": "2023-07-11T01:00:23.7409308-03:00",
    "dotnet_repl_cellExecutionTime": "28.3492ms",
    "dotnet_interactive": {
     "language": "fsharp"
    },
    "polyglot_notebook": {
     "kernelName": "fsharp"
    }
   },
   "outputs": [],
   "source": [
    "let returnP x =\n",
    "    let label = $\"%A{x}\"\n",
    "    let innerFn input =\n",
    "        Success (x, input)\n",
    "    \n",
    "    { parseFn = innerFn; label = label }"
   ]
  },
  {
   "cell_type": "code",
   "execution_count": null,
   "metadata": {
    "dotnet_repl_cellExecutionStartTime": "2023-07-11T01:00:23.7409739-03:00",
    "dotnet_repl_cellExecutionEndTime": "2023-07-11T01:00:23.7809-03:00",
    "dotnet_repl_cellExecutionTime": "39.9277ms",
    "dotnet_interactive": {
     "language": "fsharp"
    },
    "polyglot_notebook": {
     "kernelName": "fsharp"
    }
   },
   "outputs": [
    {
     "name": "stdout",
     "output_type": "stream",
     "text": [
      "Success\r\n",
      "      Item:       - Hello\r\n",
      "      - InputState\r\n",
      "          lines: [ Hello ]\r\n",
      "          position: Position\r\n",
      "            line: 0\r\n",
      "            column: 0\r\n"
     ]
    }
   ],
   "source": [
    "//// test\n",
    "\n",
    "let input = fromStr \"Hello\"\n",
    "let parser = returnP \"Hello\"\n",
    "runOnInput parser input |> _equal (\n",
    "    Success (\n",
    "        \"Hello\",\n",
    "        {\n",
    "            lines = [| \"Hello\" |]\n",
    "            position = { line = 0; column = 0 }\n",
    "        }\n",
    "    )\n",
    ")"
   ]
  },
  {
   "cell_type": "code",
   "execution_count": null,
   "metadata": {
    "dotnet_repl_cellExecutionStartTime": "2023-07-11T01:00:23.7809356-03:00",
    "dotnet_repl_cellExecutionEndTime": "2023-07-11T01:00:23.7987152-03:00",
    "dotnet_repl_cellExecutionTime": "17.7835ms",
    "dotnet_interactive": {
     "language": "fsharp"
    },
    "polyglot_notebook": {
     "kernelName": "fsharp"
    }
   },
   "outputs": [],
   "source": [
    "let mapP f =\n",
    "    bindP (f >> returnP)"
   ]
  },
  {
   "cell_type": "code",
   "execution_count": null,
   "metadata": {
    "dotnet_repl_cellExecutionStartTime": "2023-07-11T01:00:23.7987765-03:00",
    "dotnet_repl_cellExecutionEndTime": "2023-07-11T01:00:23.8114303-03:00",
    "dotnet_repl_cellExecutionTime": "12.6555ms",
    "dotnet_interactive": {
     "language": "fsharp"
    },
    "polyglot_notebook": {
     "kernelName": "fsharp"
    }
   },
   "outputs": [],
   "source": [
    "let (<!>) = mapP"
   ]
  },
  {
   "cell_type": "code",
   "execution_count": null,
   "metadata": {
    "dotnet_repl_cellExecutionStartTime": "2023-07-11T01:00:23.8114603-03:00",
    "dotnet_repl_cellExecutionEndTime": "2023-07-11T01:00:23.8248905-03:00",
    "dotnet_repl_cellExecutionTime": "13.4317ms",
    "dotnet_interactive": {
     "language": "fsharp"
    },
    "polyglot_notebook": {
     "kernelName": "fsharp"
    }
   },
   "outputs": [],
   "source": [
    "let (|>>) x f = f <!> x"
   ]
  },
  {
   "cell_type": "code",
   "execution_count": null,
   "metadata": {
    "dotnet_repl_cellExecutionStartTime": "2023-07-11T01:00:23.8249218-03:00",
    "dotnet_repl_cellExecutionEndTime": "2023-07-11T01:00:23.8607974-03:00",
    "dotnet_repl_cellExecutionTime": "35.877ms",
    "dotnet_interactive": {
     "language": "fsharp"
    },
    "polyglot_notebook": {
     "kernelName": "fsharp"
    }
   },
   "outputs": [
    {
     "name": "stdout",
     "output_type": "stream",
     "text": [
      "Success\r\n",
      "      Item:       - H\r\n",
      "      - InputState\r\n",
      "          lines: [ Hello ]\r\n",
      "          position: Position\r\n",
      "            line: 0\r\n",
      "            column: 1\r\n"
     ]
    }
   ],
   "source": [
    "//// test\n",
    "\n",
    "let input = fromStr \"Hello\"\n",
    "let parser = satisfy (fun c -> c = 'H') \"H\"\n",
    "let parser2 = parser |>> fun c -> c.ToString()\n",
    "runOnInput parser2 input |> _equal (\n",
    "    Success (\n",
    "        \"H\",\n",
    "        {\n",
    "            lines = [| \"Hello\" |]\n",
    "            position = { line = 0; column = 1 }\n",
    "        }\n",
    "    )\n",
    ")"
   ]
  },
  {
   "cell_type": "code",
   "execution_count": null,
   "metadata": {
    "dotnet_repl_cellExecutionStartTime": "2023-07-11T01:00:23.8608533-03:00",
    "dotnet_repl_cellExecutionEndTime": "2023-07-11T01:00:23.8780363-03:00",
    "dotnet_repl_cellExecutionTime": "17.185ms",
    "dotnet_interactive": {
     "language": "fsharp"
    },
    "polyglot_notebook": {
     "kernelName": "fsharp"
    }
   },
   "outputs": [],
   "source": [
    "let applyP fP xP =\n",
    "    fP >>=\n",
    "        fun f ->\n",
    "            xP >>=\n",
    "                fun x ->\n",
    "                    returnP (f x)"
   ]
  },
  {
   "cell_type": "code",
   "execution_count": null,
   "metadata": {
    "dotnet_repl_cellExecutionStartTime": "2023-07-11T01:00:23.8780783-03:00",
    "dotnet_repl_cellExecutionEndTime": "2023-07-11T01:00:23.8947342-03:00",
    "dotnet_repl_cellExecutionTime": "16.6582ms",
    "dotnet_interactive": {
     "language": "fsharp"
    },
    "polyglot_notebook": {
     "kernelName": "fsharp"
    }
   },
   "outputs": [],
   "source": [
    "let (<*>) = applyP"
   ]
  },
  {
   "cell_type": "code",
   "execution_count": null,
   "metadata": {
    "dotnet_repl_cellExecutionStartTime": "2023-07-11T01:00:23.8947788-03:00",
    "dotnet_repl_cellExecutionEndTime": "2023-07-11T01:00:23.9112339-03:00",
    "dotnet_repl_cellExecutionTime": "16.4581ms",
    "dotnet_interactive": {
     "language": "fsharp"
    },
    "polyglot_notebook": {
     "kernelName": "fsharp"
    }
   },
   "outputs": [],
   "source": [
    "let lift2 f xP yP =\n",
    "    returnP f <*> xP <*> yP"
   ]
  },
  {
   "cell_type": "code",
   "execution_count": null,
   "metadata": {
    "dotnet_repl_cellExecutionStartTime": "2023-07-11T01:00:23.9112765-03:00",
    "dotnet_repl_cellExecutionEndTime": "2023-07-11T01:00:23.9718947-03:00",
    "dotnet_repl_cellExecutionTime": "60.6199ms",
    "dotnet_interactive": {
     "language": "fsharp"
    },
    "polyglot_notebook": {
     "kernelName": "fsharp"
    }
   },
   "outputs": [
    {
     "name": "stdout",
     "output_type": "stream",
     "text": [
      "Success\r\n",
      "      Item:       - He\r\n",
      "      - InputState\r\n",
      "          lines: [ Hello ]\r\n",
      "          position: Position\r\n",
      "            line: 0\r\n",
      "            column: 2\r\n"
     ]
    }
   ],
   "source": [
    "//// test\n",
    "\n",
    "let input = fromStr \"Hello\"\n",
    "let parser = satisfy (fun c -> c = 'H') \"H\"\n",
    "let parser2 = satisfy (fun c -> c = 'e') \"e\"\n",
    "let parser3 = lift2 (fun c1 c2 -> c1.ToString () + c2.ToString ()) parser parser2\n",
    "runOnInput parser3 input |> _equal (\n",
    "    Success (\n",
    "        \"He\",\n",
    "        {\n",
    "            lines = [| \"Hello\" |]\n",
    "            position = { line = 0; column = 2 }\n",
    "        }\n",
    "    )\n",
    ")"
   ]
  },
  {
   "cell_type": "code",
   "execution_count": null,
   "metadata": {
    "dotnet_repl_cellExecutionStartTime": "2023-07-11T01:00:23.9719358-03:00",
    "dotnet_repl_cellExecutionEndTime": "2023-07-11T01:00:23.9911257-03:00",
    "dotnet_repl_cellExecutionTime": "19.192ms",
    "dotnet_interactive": {
     "language": "fsharp"
    },
    "polyglot_notebook": {
     "kernelName": "fsharp"
    }
   },
   "outputs": [],
   "source": [
    "let andThen p1 p2 =\n",
    "    p1 >>=\n",
    "        fun p1Result ->\n",
    "            p2 >>=\n",
    "                fun p2Result ->\n",
    "                    returnP (p1Result, p2Result)\n",
    "    <?> $\"{getLabel p1} andThen {getLabel p2}\""
   ]
  },
  {
   "cell_type": "code",
   "execution_count": null,
   "metadata": {
    "dotnet_repl_cellExecutionStartTime": "2023-07-11T01:00:23.9911678-03:00",
    "dotnet_repl_cellExecutionEndTime": "2023-07-11T01:00:24.007696-03:00",
    "dotnet_repl_cellExecutionTime": "16.5391ms",
    "dotnet_interactive": {
     "language": "fsharp"
    },
    "polyglot_notebook": {
     "kernelName": "fsharp"
    }
   },
   "outputs": [],
   "source": [
    "let (.>>.) = andThen"
   ]
  },
  {
   "cell_type": "code",
   "execution_count": null,
   "metadata": {
    "dotnet_repl_cellExecutionStartTime": "2023-07-11T01:00:24.0077357-03:00",
    "dotnet_repl_cellExecutionEndTime": "2023-07-11T01:00:24.083619-03:00",
    "dotnet_repl_cellExecutionTime": "75.8864ms",
    "dotnet_interactive": {
     "language": "fsharp"
    },
    "polyglot_notebook": {
     "kernelName": "fsharp"
    }
   },
   "outputs": [
    {
     "name": "stdout",
     "output_type": "stream",
     "text": [
      "Success\r\n",
      "      Item:       - ( H, e )\r\n",
      "      - InputState\r\n",
      "          lines: [ Hello ]\r\n",
      "          position: Position\r\n",
      "            line: 0\r\n",
      "            column: 2\r\n"
     ]
    }
   ],
   "source": [
    "//// test\n",
    "\n",
    "let input = fromStr \"Hello\"\n",
    "let parser = satisfy (fun c -> c = 'H') \"H\"\n",
    "let parser2 = satisfy (fun c -> c = 'e') \"e\"\n",
    "let parser3 = parser .>>. parser2\n",
    "runOnInput parser3 input |> _equal (\n",
    "    Success (\n",
    "        ('H', 'e'),\n",
    "        {\n",
    "            lines = [| \"Hello\" |]\n",
    "            position = { line = 0; column = 2 }\n",
    "        }\n",
    "    )\n",
    ")"
   ]
  },
  {
   "cell_type": "code",
   "execution_count": null,
   "metadata": {
    "dotnet_repl_cellExecutionStartTime": "2023-07-11T01:00:24.0837174-03:00",
    "dotnet_repl_cellExecutionEndTime": "2023-07-11T01:00:24.1067894-03:00",
    "dotnet_repl_cellExecutionTime": "23.0737ms",
    "dotnet_interactive": {
     "language": "fsharp"
    },
    "polyglot_notebook": {
     "kernelName": "fsharp"
    }
   },
   "outputs": [],
   "source": [
    "let orElse p1 p2 =\n",
    "    let label = $\"{getLabel p1} orElse {getLabel p2}\"\n",
    "    let innerFn input =\n",
    "        let result1 = runOnInput p1 input\n",
    "\n",
    "        match result1 with\n",
    "        | Success result -> result1\n",
    "        | Failure _ -> runOnInput p2 input\n",
    "\n",
    "    { parseFn = innerFn; label = label }"
   ]
  },
  {
   "cell_type": "code",
   "execution_count": null,
   "metadata": {
    "dotnet_repl_cellExecutionStartTime": "2023-07-11T01:00:24.106824-03:00",
    "dotnet_repl_cellExecutionEndTime": "2023-07-11T01:00:24.116998-03:00",
    "dotnet_repl_cellExecutionTime": "10.176ms",
    "dotnet_interactive": {
     "language": "fsharp"
    },
    "polyglot_notebook": {
     "kernelName": "fsharp"
    }
   },
   "outputs": [],
   "source": [
    "let (<|>) = orElse"
   ]
  },
  {
   "cell_type": "code",
   "execution_count": null,
   "metadata": {
    "dotnet_repl_cellExecutionStartTime": "2023-07-11T01:00:24.1170337-03:00",
    "dotnet_repl_cellExecutionEndTime": "2023-07-11T01:00:24.1584249-03:00",
    "dotnet_repl_cellExecutionTime": "41.3937ms",
    "dotnet_interactive": {
     "language": "fsharp"
    },
    "polyglot_notebook": {
     "kernelName": "fsharp"
    }
   },
   "outputs": [
    {
     "name": "stdout",
     "output_type": "stream",
     "text": [
      "Success\r\n",
      "      Item:       - h\r\n",
      "      - InputState\r\n",
      "          lines: [ hello ]\r\n",
      "          position: Position\r\n",
      "            line: 0\r\n",
      "            column: 1\r\n"
     ]
    }
   ],
   "source": [
    "//// test\n",
    "\n",
    "let input = fromStr \"hello\"\n",
    "let parser = satisfy (fun c -> c = 'H') \"H\"\n",
    "let parser2 = satisfy (fun c -> c = 'h') \"h\"\n",
    "let parser3 = parser <|> parser2\n",
    "runOnInput parser3 input |> _equal (\n",
    "    Success (\n",
    "        'h',\n",
    "        {\n",
    "            lines = [| \"hello\" |]\n",
    "            position = { line = 0; column = 1 }\n",
    "        }\n",
    "    )\n",
    ")"
   ]
  },
  {
   "cell_type": "code",
   "execution_count": null,
   "metadata": {
    "dotnet_repl_cellExecutionStartTime": "2023-07-11T01:00:24.1584726-03:00",
    "dotnet_repl_cellExecutionEndTime": "2023-07-11T01:00:24.1778014-03:00",
    "dotnet_repl_cellExecutionTime": "19.3304ms",
    "dotnet_interactive": {
     "language": "fsharp"
    },
    "polyglot_notebook": {
     "kernelName": "fsharp"
    }
   },
   "outputs": [],
   "source": [
    "let choice listOfParsers =\n",
    "    listOfParsers |> List.reduce (<|>)"
   ]
  },
  {
   "cell_type": "code",
   "execution_count": null,
   "metadata": {
    "dotnet_repl_cellExecutionStartTime": "2023-07-11T01:00:24.1778336-03:00",
    "dotnet_repl_cellExecutionEndTime": "2023-07-11T01:00:24.2572443-03:00",
    "dotnet_repl_cellExecutionTime": "79.4128ms",
    "dotnet_interactive": {
     "language": "fsharp"
    },
    "polyglot_notebook": {
     "kernelName": "fsharp"
    }
   },
   "outputs": [
    {
     "name": "stdout",
     "output_type": "stream",
     "text": [
      "Success\r\n",
      "      Item:       - h\r\n",
      "      - InputState\r\n",
      "          lines: [ hello ]\r\n",
      "          position: Position\r\n",
      "            line: 0\r\n",
      "            column: 1\r\n"
     ]
    }
   ],
   "source": [
    "//// test\n",
    "\n",
    "let input = fromStr \"hello\"\n",
    "let parser = satisfy (fun c -> c = 'H') \"H\"\n",
    "let parser2 = satisfy (fun c -> c = 'h') \"h\"\n",
    "let parser3 = choice [parser; parser2]\n",
    "runOnInput parser3 input |> _equal (\n",
    "    Success (\n",
    "        'h',\n",
    "        {\n",
    "            lines = [| \"hello\" |]\n",
    "            position = { line = 0; column = 1 }\n",
    "        }\n",
    "    )\n",
    ")"
   ]
  },
  {
   "cell_type": "code",
   "execution_count": null,
   "metadata": {
    "dotnet_repl_cellExecutionStartTime": "2023-07-11T01:00:24.2572946-03:00",
    "dotnet_repl_cellExecutionEndTime": "2023-07-11T01:00:24.3884983-03:00",
    "dotnet_repl_cellExecutionTime": "131.2071ms",
    "dotnet_interactive": {
     "language": "fsharp"
    },
    "polyglot_notebook": {
     "kernelName": "fsharp"
    }
   },
   "outputs": [],
   "source": [
    "let rec sequence parserList =\n",
    "    let cons head tail = head :: tail\n",
    "\n",
    "    let consP = lift2 cons\n",
    "\n",
    "    match parserList with\n",
    "    | [] -> returnP []\n",
    "    | head :: tail -> consP head (sequence tail)"
   ]
  },
  {
   "cell_type": "code",
   "execution_count": null,
   "metadata": {
    "dotnet_repl_cellExecutionStartTime": "2023-07-11T01:00:24.388559-03:00",
    "dotnet_repl_cellExecutionEndTime": "2023-07-11T01:00:24.6285693-03:00",
    "dotnet_repl_cellExecutionTime": "240.013ms",
    "dotnet_interactive": {
     "language": "fsharp"
    },
    "polyglot_notebook": {
     "kernelName": "fsharp"
    }
   },
   "outputs": [
    {
     "name": "stdout",
     "output_type": "stream",
     "text": [
      "Success\r\n",
      "      Item:       - [ H, e ]\r\n",
      "      - InputState\r\n",
      "          lines: [ Hello ]\r\n",
      "          position: Position\r\n",
      "            line: 0\r\n",
      "            column: 2\r\n"
     ]
    }
   ],
   "source": [
    "//// test\n",
    "\n",
    "let input = fromStr \"Hello\"\n",
    "let parser = satisfy (fun c -> c = 'H') \"H\"\n",
    "let parser2 = satisfy (fun c -> c = 'e') \"e\"\n",
    "let parser3 = sequence [parser; parser2]\n",
    "runOnInput parser3 input |> _equal (\n",
    "    Success (\n",
    "        ['H'; 'e'],\n",
    "        {\n",
    "            lines = [| \"Hello\" |]\n",
    "            position = { line = 0; column = 2 }\n",
    "        }\n",
    "    )\n",
    ")"
   ]
  },
  {
   "cell_type": "code",
   "execution_count": null,
   "metadata": {
    "dotnet_repl_cellExecutionStartTime": "2023-07-11T01:00:24.6287526-03:00",
    "dotnet_repl_cellExecutionEndTime": "2023-07-11T01:00:24.6881159-03:00",
    "dotnet_repl_cellExecutionTime": "59.3656ms",
    "dotnet_interactive": {
     "language": "fsharp"
    },
    "polyglot_notebook": {
     "kernelName": "fsharp"
    }
   },
   "outputs": [],
   "source": [
    "let rec parseZeroOrMore parser input =\n",
    "    let firstResult = runOnInput parser input\n",
    "    match firstResult with\n",
    "    | Failure (_, _, _) ->\n",
    "        [], input\n",
    "    | Success (firstValue, inputAfterFirstParse) ->\n",
    "        let (subsequentValues, remainingInput) =\n",
    "            parseZeroOrMore parser inputAfterFirstParse\n",
    "        let values = firstValue :: subsequentValues\n",
    "        values, remainingInput"
   ]
  },
  {
   "cell_type": "code",
   "execution_count": null,
   "metadata": {
    "dotnet_repl_cellExecutionStartTime": "2023-07-11T01:00:24.688157-03:00",
    "dotnet_repl_cellExecutionEndTime": "2023-07-11T01:00:24.7121438-03:00",
    "dotnet_repl_cellExecutionTime": "23.9895ms",
    "dotnet_interactive": {
     "language": "fsharp"
    },
    "polyglot_notebook": {
     "kernelName": "fsharp"
    }
   },
   "outputs": [],
   "source": [
    "let many parser =\n",
    "    let label = $\"many {getLabel parser}\"\n",
    "    let innerFn input =\n",
    "        Success (parseZeroOrMore parser input)\n",
    "    { parseFn = innerFn; label = label }"
   ]
  },
  {
   "cell_type": "code",
   "execution_count": null,
   "metadata": {
    "dotnet_repl_cellExecutionStartTime": "2023-07-11T01:00:24.714536-03:00",
    "dotnet_repl_cellExecutionEndTime": "2023-07-11T01:00:24.7898391-03:00",
    "dotnet_repl_cellExecutionTime": "75.3061ms",
    "dotnet_interactive": {
     "language": "fsharp"
    },
    "polyglot_notebook": {
     "kernelName": "fsharp"
    }
   },
   "outputs": [
    {
     "name": "stdout",
     "output_type": "stream",
     "text": [
      "Success\r\n",
      "      Item:       - [  ]\r\n",
      "      - InputState\r\n",
      "          lines: [ hello ]\r\n",
      "          position: Position\r\n",
      "            line: 0\r\n",
      "            column: 0\r\n"
     ]
    }
   ],
   "source": [
    "//// test\n",
    "\n",
    "let input = fromStr \"hello\"\n",
    "let parser = satisfy (fun c -> c = 'H') \"H\"\n",
    "let parser2 = many parser\n",
    "runOnInput parser2 input |> _equal (\n",
    "    Success (\n",
    "        [],\n",
    "        {\n",
    "            lines = [| \"hello\" |]\n",
    "            position = { line = 0; column = 0 }\n",
    "        }\n",
    "    )\n",
    ")"
   ]
  },
  {
   "cell_type": "code",
   "execution_count": null,
   "metadata": {
    "dotnet_repl_cellExecutionStartTime": "2023-07-11T01:00:24.7898877-03:00",
    "dotnet_repl_cellExecutionEndTime": "2023-07-11T01:00:24.8341005-03:00",
    "dotnet_repl_cellExecutionTime": "44.2165ms",
    "dotnet_interactive": {
     "language": "fsharp"
    },
    "polyglot_notebook": {
     "kernelName": "fsharp"
    }
   },
   "outputs": [],
   "source": [
    "let many1 p =\n",
    "    p >>=\n",
    "        fun head ->\n",
    "            many p >>=\n",
    "                fun tail ->\n",
    "                    returnP (head :: tail)\n",
    "    <?> $\"many1 {getLabel p}\""
   ]
  },
  {
   "cell_type": "code",
   "execution_count": null,
   "metadata": {
    "dotnet_repl_cellExecutionStartTime": "2023-07-11T01:00:24.8341582-03:00",
    "dotnet_repl_cellExecutionEndTime": "2023-07-11T01:00:24.9149712-03:00",
    "dotnet_repl_cellExecutionTime": "80.8177ms",
    "dotnet_interactive": {
     "language": "fsharp"
    },
    "polyglot_notebook": {
     "kernelName": "fsharp"
    }
   },
   "outputs": [
    {
     "name": "stdout",
     "output_type": "stream",
     "text": [
      "Failure\r\n",
      "      Item1: many1 H\r\n",
      "      Item2: Unexpected 'h'\r\n",
      "      Item3: ParserPosition\r\n",
      "        currentLine: hello\r\n",
      "        line: 0\r\n",
      "        column: 0\r\n"
     ]
    }
   ],
   "source": [
    "//// test\n",
    "\n",
    "let input = fromStr \"hello\"\n",
    "let parser = satisfy (fun c -> c = 'H') \"H\"\n",
    "let parser2 = many1 parser\n",
    "runOnInput parser2 input |> _equal (\n",
    "    Failure (\n",
    "        \"many1 H\",\n",
    "        \"Unexpected 'h'\",\n",
    "        {\n",
    "            currentLine = \"hello\"\n",
    "            line = 0\n",
    "            column = 0\n",
    "        }\n",
    "    )\n",
    ")"
   ]
  },
  {
   "cell_type": "code",
   "execution_count": null,
   "metadata": {
    "dotnet_repl_cellExecutionStartTime": "2023-07-11T01:00:24.9150587-03:00",
    "dotnet_repl_cellExecutionEndTime": "2023-07-11T01:00:24.9516519-03:00",
    "dotnet_repl_cellExecutionTime": "36.5958ms",
    "dotnet_interactive": {
     "language": "fsharp"
    },
    "polyglot_notebook": {
     "kernelName": "fsharp"
    }
   },
   "outputs": [],
   "source": [
    "let opt p =\n",
    "    let some = p |>> Some\n",
    "    let none = returnP None\n",
    "    (some <|> none)\n",
    "    <?> $\"opt {getLabel p}\""
   ]
  },
  {
   "cell_type": "code",
   "execution_count": null,
   "metadata": {
    "dotnet_repl_cellExecutionStartTime": "2023-07-11T01:00:24.9516919-03:00",
    "dotnet_repl_cellExecutionEndTime": "2023-07-11T01:00:25.0498645-03:00",
    "dotnet_repl_cellExecutionTime": "98.1756ms",
    "dotnet_interactive": {
     "language": "fsharp"
    },
    "polyglot_notebook": {
     "kernelName": "fsharp"
    }
   },
   "outputs": [
    {
     "name": "stdout",
     "output_type": "stream",
     "text": [
      "Success\r\n",
      "      Item:       - <null>\r\n",
      "      - InputState\r\n",
      "          lines: [ hello ]\r\n",
      "          position: Position\r\n",
      "            line: 0\r\n",
      "            column: 0\r\n"
     ]
    }
   ],
   "source": [
    "//// test\n",
    "\n",
    "let input = fromStr \"hello\"\n",
    "let parser = satisfy (fun c -> c = 'H') \"H\"\n",
    "let parser2 = opt parser\n",
    "runOnInput parser2 input |> _equal (\n",
    "    Success (\n",
    "        None,\n",
    "        {\n",
    "            lines = [| \"hello\" |]\n",
    "            position = { line = 0; column = 0 }\n",
    "        }\n",
    "    )\n",
    ")"
   ]
  },
  {
   "cell_type": "code",
   "execution_count": null,
   "metadata": {
    "dotnet_repl_cellExecutionStartTime": "2023-07-11T01:00:25.0499199-03:00",
    "dotnet_repl_cellExecutionEndTime": "2023-07-11T01:00:25.0692657-03:00",
    "dotnet_repl_cellExecutionTime": "19.3483ms",
    "dotnet_interactive": {
     "language": "fsharp"
    },
    "polyglot_notebook": {
     "kernelName": "fsharp"
    }
   },
   "outputs": [],
   "source": [
    "let (.>>) p1 p2 =\n",
    "    p1 .>>. p2\n",
    "    |> mapP fst"
   ]
  },
  {
   "cell_type": "code",
   "execution_count": null,
   "metadata": {
    "dotnet_repl_cellExecutionStartTime": "2023-07-11T01:00:25.0693033-03:00",
    "dotnet_repl_cellExecutionEndTime": "2023-07-11T01:00:25.098579-03:00",
    "dotnet_repl_cellExecutionTime": "29.2786ms",
    "dotnet_interactive": {
     "language": "fsharp"
    },
    "polyglot_notebook": {
     "kernelName": "fsharp"
    }
   },
   "outputs": [],
   "source": [
    "let (>>.) p1 p2 =\n",
    "    p1 .>>. p2\n",
    "    |> mapP snd"
   ]
  },
  {
   "cell_type": "code",
   "execution_count": null,
   "metadata": {
    "dotnet_repl_cellExecutionStartTime": "2023-07-11T01:00:25.0986231-03:00",
    "dotnet_repl_cellExecutionEndTime": "2023-07-11T01:00:25.1120635-03:00",
    "dotnet_repl_cellExecutionTime": "13.4443ms",
    "dotnet_interactive": {
     "language": "fsharp"
    },
    "polyglot_notebook": {
     "kernelName": "fsharp"
    }
   },
   "outputs": [],
   "source": [
    "let between p1 p2 p3 =\n",
    "    p1 >>. p2 .>> p3"
   ]
  },
  {
   "cell_type": "code",
   "execution_count": null,
   "metadata": {
    "dotnet_repl_cellExecutionStartTime": "2023-07-11T01:00:25.1121333-03:00",
    "dotnet_repl_cellExecutionEndTime": "2023-07-11T01:00:25.3058001-03:00",
    "dotnet_repl_cellExecutionTime": "193.6698ms",
    "dotnet_interactive": {
     "language": "fsharp"
    },
    "polyglot_notebook": {
     "kernelName": "fsharp"
    }
   },
   "outputs": [
    {
     "name": "stdout",
     "output_type": "stream",
     "text": [
      "Success\r\n",
      "      Item:       - [ H, e, l, l, o ]\r\n",
      "      - InputState\r\n",
      "          lines: [ [Hello] ]\r\n",
      "          position: Position\r\n",
      "            line: 0\r\n",
      "            column: 7\r\n"
     ]
    }
   ],
   "source": [
    "//// test\n",
    "\n",
    "let input = fromStr \"[Hello]\"\n",
    "let parser =\n",
    "    between\n",
    "        (satisfy (fun c -> c = '[') \"[\")\n",
    "        (many (satisfy (fun c -> ['a'..'z'] @ ['A'..'Z'] |> List.contains c) \"letter\"))\n",
    "        (satisfy (fun c -> c = ']') \"]\")\n",
    "runOnInput parser input |> _equal (\n",
    "    Success (\n",
    "        ['H'; 'e'; 'l'; 'l'; 'o'],\n",
    "        {\n",
    "            lines = [| \"[Hello]\" |]\n",
    "            position = { line = 0; column = 7 }\n",
    "        }\n",
    "    )\n",
    ")"
   ]
  },
  {
   "cell_type": "code",
   "execution_count": null,
   "metadata": {
    "dotnet_repl_cellExecutionStartTime": "2023-07-11T01:00:25.3058494-03:00",
    "dotnet_repl_cellExecutionEndTime": "2023-07-11T01:00:25.3389607-03:00",
    "dotnet_repl_cellExecutionTime": "33.113ms",
    "dotnet_interactive": {
     "language": "fsharp"
    },
    "polyglot_notebook": {
     "kernelName": "fsharp"
    }
   },
   "outputs": [],
   "source": [
    "let sepBy1 p sep =\n",
    "    let sepThenP = sep >>. p\n",
    "    p .>>. many sepThenP\n",
    "    |>> fun (p, pList) -> p :: pList"
   ]
  },
  {
   "cell_type": "code",
   "execution_count": null,
   "metadata": {
    "dotnet_repl_cellExecutionStartTime": "2023-07-11T01:00:25.3389896-03:00",
    "dotnet_repl_cellExecutionEndTime": "2023-07-11T01:00:25.3619446-03:00",
    "dotnet_repl_cellExecutionTime": "22.9594ms",
    "dotnet_interactive": {
     "language": "fsharp"
    },
    "polyglot_notebook": {
     "kernelName": "fsharp"
    }
   },
   "outputs": [],
   "source": [
    "let sepBy p sep =\n",
    "    sepBy1 p sep <|> returnP []"
   ]
  },
  {
   "cell_type": "code",
   "execution_count": null,
   "metadata": {
    "dotnet_repl_cellExecutionStartTime": "2023-07-11T01:00:25.3620013-03:00",
    "dotnet_repl_cellExecutionEndTime": "2023-07-11T01:00:25.4389547-03:00",
    "dotnet_repl_cellExecutionTime": "76.9547ms",
    "dotnet_interactive": {
     "language": "fsharp"
    },
    "polyglot_notebook": {
     "kernelName": "fsharp"
    }
   },
   "outputs": [
    {
     "name": "stdout",
     "output_type": "stream",
     "text": [
      "Success\r\n",
      "      Item:       - FSharpList<FSharpList<Char>>\r\n",
      "[ H, e, l, l, o ]\r\n",
      "[ W, o, r, l, d, \n",
      " ]\r\n",
      "      - InputState\r\n",
      "          lines: [ Hello,World ]\r\n",
      "          position: Position\r\n",
      "            line: 1\r\n",
      "            column: 0\r\n"
     ]
    }
   ],
   "source": [
    "//// test\n",
    "\n",
    "let input = fromStr \"Hello,World\"\n",
    "let parser = sepBy (many (satisfy (fun c -> c <> ',') \"not comma\")) (satisfy (fun c -> c = ',') \"comma\")\n",
    "runOnInput parser input |> _equal (\n",
    "    Success (\n",
    "        [['H'; 'e'; 'l'; 'l'; 'o']; ['W'; 'o'; 'r'; 'l'; 'd'; '\\n']],\n",
    "        {\n",
    "            lines = [| \"Hello,World\" |]\n",
    "            position = { line = 1; column = 0 }\n",
    "        }\n",
    "    )\n",
    ")"
   ]
  },
  {
   "cell_type": "code",
   "execution_count": null,
   "metadata": {
    "dotnet_repl_cellExecutionStartTime": "2023-07-11T01:00:25.4389857-03:00",
    "dotnet_repl_cellExecutionEndTime": "2023-07-11T01:00:25.4537439-03:00",
    "dotnet_repl_cellExecutionTime": "14.7601ms",
    "dotnet_interactive": {
     "language": "fsharp"
    },
    "polyglot_notebook": {
     "kernelName": "fsharp"
    }
   },
   "outputs": [],
   "source": [
    "let pchar charToMatch =\n",
    "    let predicate ch = ch = charToMatch\n",
    "    satisfy predicate $\"%c{charToMatch}\""
   ]
  },
  {
   "cell_type": "code",
   "execution_count": null,
   "metadata": {
    "dotnet_repl_cellExecutionStartTime": "2023-07-11T01:00:25.4537861-03:00",
    "dotnet_repl_cellExecutionEndTime": "2023-07-11T01:00:25.4733355-03:00",
    "dotnet_repl_cellExecutionTime": "19.5509ms",
    "dotnet_interactive": {
     "language": "fsharp"
    },
    "polyglot_notebook": {
     "kernelName": "fsharp"
    }
   },
   "outputs": [],
   "source": [
    "let anyOf listOfChars =\n",
    "    listOfChars\n",
    "    |> List.map pchar\n",
    "    |> choice\n",
    "    <?> $\"anyOf %A{listOfChars}\""
   ]
  },
  {
   "cell_type": "code",
   "execution_count": null,
   "metadata": {
    "dotnet_repl_cellExecutionStartTime": "2023-07-11T01:00:25.473362-03:00",
    "dotnet_repl_cellExecutionEndTime": "2023-07-11T01:00:25.5243799-03:00",
    "dotnet_repl_cellExecutionTime": "51.0195ms",
    "dotnet_interactive": {
     "language": "fsharp"
    },
    "polyglot_notebook": {
     "kernelName": "fsharp"
    }
   },
   "outputs": [
    {
     "name": "stdout",
     "output_type": "stream",
     "text": [
      "Success\r\n",
      "      Item:       - [ H, e, l, l, o ]\r\n",
      "      - InputState\r\n",
      "          lines: [ Hello ]\r\n",
      "          position: Position\r\n",
      "            line: 0\r\n",
      "            column: 5\r\n"
     ]
    }
   ],
   "source": [
    "//// test\n",
    "\n",
    "let input = fromStr \"Hello\"\n",
    "let parser = anyOf ['H'; 'e'; 'l'; 'o'] |> many\n",
    "runOnInput parser input |> _equal (\n",
    "    Success (\n",
    "        ['H'; 'e'; 'l'; 'l'; 'o'],\n",
    "        {\n",
    "            lines = [| \"Hello\" |]\n",
    "            position = { line = 0; column = 5 }\n",
    "        }\n",
    "    )\n",
    ")"
   ]
  },
  {
   "cell_type": "code",
   "execution_count": null,
   "metadata": {
    "dotnet_repl_cellExecutionStartTime": "2023-07-11T01:00:25.5244147-03:00",
    "dotnet_repl_cellExecutionEndTime": "2023-07-11T01:00:25.5486825-03:00",
    "dotnet_repl_cellExecutionTime": "24.2702ms",
    "dotnet_interactive": {
     "language": "fsharp"
    },
    "polyglot_notebook": {
     "kernelName": "fsharp"
    }
   },
   "outputs": [],
   "source": [
    "let charListToStr charList =\n",
    "    charList |> List.toArray |> String"
   ]
  },
  {
   "cell_type": "code",
   "execution_count": null,
   "metadata": {
    "dotnet_repl_cellExecutionStartTime": "2023-07-11T01:00:25.5487253-03:00",
    "dotnet_repl_cellExecutionEndTime": "2023-07-11T01:00:25.5638561-03:00",
    "dotnet_repl_cellExecutionTime": "15.1329ms",
    "dotnet_interactive": {
     "language": "fsharp"
    },
    "polyglot_notebook": {
     "kernelName": "fsharp"
    }
   },
   "outputs": [],
   "source": [
    "let manyChars cp =\n",
    "    many cp\n",
    "    |>> charListToStr"
   ]
  },
  {
   "cell_type": "code",
   "execution_count": null,
   "metadata": {
    "dotnet_repl_cellExecutionStartTime": "2023-07-11T01:00:25.5638878-03:00",
    "dotnet_repl_cellExecutionEndTime": "2023-07-11T01:00:25.579218-03:00",
    "dotnet_repl_cellExecutionTime": "15.3321ms",
    "dotnet_interactive": {
     "language": "fsharp"
    },
    "polyglot_notebook": {
     "kernelName": "fsharp"
    }
   },
   "outputs": [],
   "source": [
    "let manyChars1 cp =\n",
    "    many1 cp\n",
    "    |>> charListToStr"
   ]
  },
  {
   "cell_type": "code",
   "execution_count": null,
   "metadata": {
    "dotnet_repl_cellExecutionStartTime": "2023-07-11T01:00:25.5792461-03:00",
    "dotnet_repl_cellExecutionEndTime": "2023-07-11T01:00:25.6200146-03:00",
    "dotnet_repl_cellExecutionTime": "40.7716ms",
    "dotnet_interactive": {
     "language": "fsharp"
    },
    "polyglot_notebook": {
     "kernelName": "fsharp"
    }
   },
   "outputs": [
    {
     "name": "stdout",
     "output_type": "stream",
     "text": [
      "Success\r\n",
      "      Item:       - Hello\r\n",
      "      - InputState\r\n",
      "          lines: [ Hello ]\r\n",
      "          position: Position\r\n",
      "            line: 0\r\n",
      "            column: 5\r\n"
     ]
    }
   ],
   "source": [
    "//// test\n",
    "\n",
    "let input = fromStr \"Hello\"\n",
    "let parser = manyChars1 (anyOf ['H'; 'e'; 'l'; 'o'])\n",
    "runOnInput parser input |> _equal (\n",
    "    Success (\n",
    "        \"Hello\",\n",
    "        {\n",
    "            lines = [| \"Hello\" |]\n",
    "            position = { line = 0; column = 5 }\n",
    "        }\n",
    "    )\n",
    ")"
   ]
  },
  {
   "cell_type": "code",
   "execution_count": null,
   "metadata": {
    "dotnet_repl_cellExecutionStartTime": "2023-07-11T01:00:25.6200617-03:00",
    "dotnet_repl_cellExecutionEndTime": "2023-07-11T01:00:25.6415382-03:00",
    "dotnet_repl_cellExecutionTime": "21.4778ms",
    "dotnet_interactive": {
     "language": "fsharp"
    },
    "polyglot_notebook": {
     "kernelName": "fsharp"
    }
   },
   "outputs": [],
   "source": [
    "let pstring str =\n",
    "    str\n",
    "    |> List.ofSeq\n",
    "    |> List.map pchar\n",
    "    |> sequence\n",
    "    |> mapP charListToStr\n",
    "    <?> str"
   ]
  },
  {
   "cell_type": "code",
   "execution_count": null,
   "metadata": {
    "dotnet_repl_cellExecutionStartTime": "2023-07-11T01:00:25.641575-03:00",
    "dotnet_repl_cellExecutionEndTime": "2023-07-11T01:00:25.682999-03:00",
    "dotnet_repl_cellExecutionTime": "41.426ms",
    "dotnet_interactive": {
     "language": "fsharp"
    },
    "polyglot_notebook": {
     "kernelName": "fsharp"
    }
   },
   "outputs": [
    {
     "name": "stdout",
     "output_type": "stream",
     "text": [
      "Success\r\n",
      "      Item:       - Hello\r\n",
      "      - InputState\r\n",
      "          lines: [ Hello ]\r\n",
      "          position: Position\r\n",
      "            line: 0\r\n",
      "            column: 5\r\n"
     ]
    }
   ],
   "source": [
    "//// test\n",
    "\n",
    "let input = fromStr \"Hello\"\n",
    "let parser = pstring \"Hello\"\n",
    "runOnInput parser input |> _equal (\n",
    "    Success (\n",
    "        \"Hello\",\n",
    "        {\n",
    "            lines = [| \"Hello\" |]\n",
    "            position = { line = 0; column = 5 }\n",
    "        }\n",
    "    )\n",
    ")"
   ]
  },
  {
   "cell_type": "code",
   "execution_count": null,
   "metadata": {
    "dotnet_repl_cellExecutionStartTime": "2023-07-11T01:00:25.6830383-03:00",
    "dotnet_repl_cellExecutionEndTime": "2023-07-11T01:00:25.7031723-03:00",
    "dotnet_repl_cellExecutionTime": "20.136ms",
    "dotnet_interactive": {
     "language": "fsharp"
    },
    "polyglot_notebook": {
     "kernelName": "fsharp"
    }
   },
   "outputs": [],
   "source": [
    "let whitespaceChar =\n",
    "    satisfy Char.IsWhiteSpace \"whitespace\""
   ]
  },
  {
   "cell_type": "code",
   "execution_count": null,
   "metadata": {
    "dotnet_repl_cellExecutionStartTime": "2023-07-11T01:00:25.7032056-03:00",
    "dotnet_repl_cellExecutionEndTime": "2023-07-11T01:00:25.7145815-03:00",
    "dotnet_repl_cellExecutionTime": "11.378ms",
    "dotnet_interactive": {
     "language": "fsharp"
    },
    "polyglot_notebook": {
     "kernelName": "fsharp"
    }
   },
   "outputs": [],
   "source": [
    "let spaces = many whitespaceChar"
   ]
  },
  {
   "cell_type": "code",
   "execution_count": null,
   "metadata": {
    "dotnet_repl_cellExecutionStartTime": "2023-07-11T01:00:25.7146162-03:00",
    "dotnet_repl_cellExecutionEndTime": "2023-07-11T01:00:25.7251841-03:00",
    "dotnet_repl_cellExecutionTime": "10.5696ms",
    "dotnet_interactive": {
     "language": "fsharp"
    },
    "polyglot_notebook": {
     "kernelName": "fsharp"
    }
   },
   "outputs": [],
   "source": [
    "let spaces1 = many1 whitespaceChar"
   ]
  },
  {
   "cell_type": "code",
   "execution_count": null,
   "metadata": {
    "dotnet_repl_cellExecutionStartTime": "2023-07-11T01:00:25.7252384-03:00",
    "dotnet_repl_cellExecutionEndTime": "2023-07-11T01:00:25.7729519-03:00",
    "dotnet_repl_cellExecutionTime": "47.7148ms",
    "dotnet_interactive": {
     "language": "fsharp"
    },
    "polyglot_notebook": {
     "kernelName": "fsharp"
    }
   },
   "outputs": [
    {
     "name": "stdout",
     "output_type": "stream",
     "text": [
      "Success\r\n",
      "      Item:       -         - [  ,   ]\r\n",
      "        - Hello\r\n",
      "      - InputState\r\n",
      "          lines: [   Hello ]\r\n",
      "          position: Position\r\n",
      "            line: 0\r\n",
      "            column: 7\r\n"
     ]
    }
   ],
   "source": [
    "//// test\n",
    "\n",
    "let input = fromStr \"  Hello\"\n",
    "let parser = spaces1 .>>. pstring \"Hello\"\n",
    "runOnInput parser input |> _equal (\n",
    "    Success (\n",
    "        ([' '; ' '], \"Hello\"),\n",
    "        {\n",
    "            lines = [| \"  Hello\" |]\n",
    "            position = { line = 0; column = 7 }\n",
    "        }\n",
    "    )\n",
    ")"
   ]
  },
  {
   "cell_type": "code",
   "execution_count": null,
   "metadata": {
    "dotnet_repl_cellExecutionStartTime": "2023-07-11T01:00:25.7729827-03:00",
    "dotnet_repl_cellExecutionEndTime": "2023-07-11T01:00:25.7904011-03:00",
    "dotnet_repl_cellExecutionTime": "17.4202ms",
    "dotnet_interactive": {
     "language": "fsharp"
    },
    "polyglot_notebook": {
     "kernelName": "fsharp"
    }
   },
   "outputs": [],
   "source": [
    "let digitChar =\n",
    "    satisfy Char.IsDigit \"digit\""
   ]
  },
  {
   "cell_type": "code",
   "execution_count": null,
   "metadata": {
    "dotnet_repl_cellExecutionStartTime": "2023-07-11T01:00:25.7904361-03:00",
    "dotnet_repl_cellExecutionEndTime": "2023-07-11T01:00:25.8173388-03:00",
    "dotnet_repl_cellExecutionTime": "26.906ms",
    "dotnet_interactive": {
     "language": "fsharp"
    },
    "polyglot_notebook": {
     "kernelName": "fsharp"
    }
   },
   "outputs": [
    {
     "name": "stdout",
     "output_type": "stream",
     "text": [
      "Failure\r\n",
      "      Item1: digit\r\n",
      "      Item2: Unexpected 'H'\r\n",
      "      Item3: ParserPosition\r\n",
      "        currentLine: Hello\r\n",
      "        line: 0\r\n",
      "        column: 0\r\n"
     ]
    }
   ],
   "source": [
    "//// test\n",
    "\n",
    "let input = fromStr \"Hello\"\n",
    "let parser = digitChar\n",
    "runOnInput parser input |> _equal (\n",
    "    Failure (\n",
    "        \"digit\",\n",
    "        \"Unexpected 'H'\",\n",
    "        {\n",
    "            currentLine = \"Hello\"\n",
    "            line = 0\n",
    "            column = 0\n",
    "        }\n",
    "    )\n",
    ")"
   ]
  },
  {
   "cell_type": "code",
   "execution_count": null,
   "metadata": {
    "dotnet_repl_cellExecutionStartTime": "2023-07-11T01:00:25.8174028-03:00",
    "dotnet_repl_cellExecutionEndTime": "2023-07-11T01:00:25.8677685-03:00",
    "dotnet_repl_cellExecutionTime": "50.3673ms",
    "dotnet_interactive": {
     "language": "fsharp"
    },
    "polyglot_notebook": {
     "kernelName": "fsharp"
    }
   },
   "outputs": [],
   "source": [
    "let pint =\n",
    "    let resultToInt (sign, digits) =\n",
    "        let i = int digits\n",
    "        match sign with\n",
    "        | Some ch -> -i\n",
    "        | None -> i\n",
    "\n",
    "    let digits = manyChars1 digitChar\n",
    "\n",
    "    opt (pchar '-') .>>. digits\n",
    "    |> mapP resultToInt\n",
    "    <?> \"integer\""
   ]
  },
  {
   "cell_type": "code",
   "execution_count": null,
   "metadata": {
    "dotnet_repl_cellExecutionStartTime": "2023-07-11T01:00:25.8677987-03:00",
    "dotnet_repl_cellExecutionEndTime": "2023-07-11T01:00:25.9070925-03:00",
    "dotnet_repl_cellExecutionTime": "39.2956ms",
    "dotnet_interactive": {
     "language": "fsharp"
    },
    "polyglot_notebook": {
     "kernelName": "fsharp"
    }
   },
   "outputs": [
    {
     "name": "stdout",
     "output_type": "stream",
     "text": [
      "Success\r\n",
      "      Item:       - -123\r\n",
      "      - InputState\r\n",
      "          lines: [ -123 ]\r\n",
      "          position: Position\r\n",
      "            line: 0\r\n",
      "            column: 4\r\n"
     ]
    }
   ],
   "source": [
    "//// test\n",
    "\n",
    "run pint \"-123\"\n",
    "|> _equal (\n",
    "    Success (\n",
    "        -123,\n",
    "        {\n",
    "            lines = [| \"-123\" |]\n",
    "            position = { line = 0; column = 4 }\n",
    "        }\n",
    "    )\n",
    ")"
   ]
  },
  {
   "cell_type": "code",
   "execution_count": null,
   "metadata": {
    "dotnet_repl_cellExecutionStartTime": "2023-07-11T01:00:25.9071284-03:00",
    "dotnet_repl_cellExecutionEndTime": "2023-07-11T01:00:25.9514413-03:00",
    "dotnet_repl_cellExecutionTime": "44.3144ms",
    "dotnet_interactive": {
     "language": "fsharp"
    },
    "polyglot_notebook": {
     "kernelName": "fsharp"
    }
   },
   "outputs": [],
   "source": [
    "let pfloat =\n",
    "    let resultToFloat (((sign, digits1), point), digits2) =\n",
    "        let fl = float $\"{digits1}.{digits2}\"\n",
    "        match sign with\n",
    "        | Some ch -> -fl\n",
    "        | None -> fl\n",
    "\n",
    "    let digits = manyChars1 digitChar\n",
    "\n",
    "    opt (pchar '-') .>>. digits .>>. pchar '.' .>>. digits\n",
    "    |> mapP resultToFloat\n",
    "    <?> \"float\""
   ]
  },
  {
   "cell_type": "code",
   "execution_count": null,
   "metadata": {
    "dotnet_repl_cellExecutionStartTime": "2023-07-11T01:00:25.9514724-03:00",
    "dotnet_repl_cellExecutionEndTime": "2023-07-11T01:00:25.9903512-03:00",
    "dotnet_repl_cellExecutionTime": "38.8807ms",
    "dotnet_interactive": {
     "language": "fsharp"
    },
    "polyglot_notebook": {
     "kernelName": "fsharp"
    }
   },
   "outputs": [
    {
     "name": "stdout",
     "output_type": "stream",
     "text": [
      "Success\r\n",
      "      Item:       - -123.45\r\n",
      "      - InputState\r\n",
      "          lines: [ -123.45 ]\r\n",
      "          position: Position\r\n",
      "            line: 0\r\n",
      "            column: 7\r\n"
     ]
    }
   ],
   "source": [
    "//// test\n",
    "\n",
    "run pfloat \"-123.45\"\n",
    "|> _equal (\n",
    "    Success (\n",
    "        -123.45,\n",
    "        {\n",
    "            lines = [| \"-123.45\" |]\n",
    "            position = { line = 0; column = 7 }\n",
    "        }\n",
    "    )\n",
    ")"
   ]
  },
  {
   "cell_type": "code",
   "execution_count": null,
   "metadata": {
    "dotnet_repl_cellExecutionStartTime": "2023-07-11T01:00:25.9903868-03:00",
    "dotnet_repl_cellExecutionEndTime": "2023-07-11T01:00:26.0954465-03:00",
    "dotnet_repl_cellExecutionTime": "105.0611ms",
    "dotnet_interactive": {
     "language": "fsharp"
    },
    "polyglot_notebook": {
     "kernelName": "fsharp"
    }
   },
   "outputs": [],
   "source": [
    "let createParserForwardedToRef<'a> () =\n",
    "    let dummyParser : Parser<'a> =\n",
    "        let innerFn _ = failwith \"unfixed forwarded parser\"\n",
    "        { parseFn = innerFn; label = \"unknown\" }\n",
    "\n",
    "    let mutable parserRef = dummyParser\n",
    "\n",
    "    let innerFn input =\n",
    "        runOnInput parserRef input\n",
    "\n",
    "    let wrapperParser = { parseFn = innerFn; label = \"unknown\" }\n",
    "    \n",
    "    wrapperParser, (fun v -> parserRef <- v)"
   ]
  },
  {
   "cell_type": "code",
   "execution_count": null,
   "metadata": {
    "dotnet_repl_cellExecutionStartTime": "2023-07-11T01:00:26.095483-03:00",
    "dotnet_repl_cellExecutionEndTime": "2023-07-11T01:00:26.1065548-03:00",
    "dotnet_repl_cellExecutionTime": "11.0737ms",
    "dotnet_interactive": {
     "language": "fsharp"
    },
    "polyglot_notebook": {
     "kernelName": "fsharp"
    }
   },
   "outputs": [],
   "source": [
    "let (>>%) p x =\n",
    "    p\n",
    "    |>> fun _ -> x"
   ]
  }
 ],
 "metadata": {
  "kernelspec": {
   "display_name": ".NET (C#)",
   "language": "C#",
   "name": ".net-csharp"
  },
  "language_info": {
   "file_extension": ".cs",
   "mimetype": "text/x-csharp",
   "name": "C#",
   "pygments_lexer": "csharp",
   "version": "10.0"
  },
  "polyglot_notebook": {
   "defaultKernelName": "csharp",
   "items": [
    {
     "name": "csharp"
    }
   ]
  },
  "dotnet_interactive": {
   "defaultKernelName": "csharp",
   "items": [
    {
     "name": "csharp"
    }
   ]
  }
 },
 "nbformat": 4,
 "nbformat_minor": 5
}