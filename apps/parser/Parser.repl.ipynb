{
 "cells": [
  {
   "cell_type": "code",
   "execution_count": null,
   "metadata": {
    "dotnet_repl_cellExecutionStartTime": "2023-07-11T01:13:15.4006823-03:00",
    "dotnet_repl_cellExecutionEndTime": "2023-07-11T01:13:26.1465874-03:00",
    "dotnet_repl_cellExecutionTime": "10.7460631s",
    "dotnet_interactive": {
     "language": "fsharp"
    },
    "polyglot_notebook": {
     "kernelName": "fsharp"
    }
   },
   "outputs": [
    {
     "data": {
      "text/html": [
       "<div><div></div><div><strong>Installing Packages</strong><ul><li><span>Expecto</span></li></ul></div><div></div></div>"
      ]
     },
     "metadata": {},
     "output_type": "display_data"
    },
    {
     "data": {
      "text/html": [
       "<div><div></div><div><strong>Installing Packages</strong><ul><li><span>Expecto.</span></li></ul></div><div></div></div>"
      ]
     },
     "metadata": {},
     "output_type": "display_data"
    },
    {
     "data": {
      "text/html": [
       "<div><div></div><div><strong>Installing Packages</strong><ul><li><span>Expecto..</span></li></ul></div><div></div></div>"
      ]
     },
     "metadata": {},
     "output_type": "display_data"
    },
    {
     "data": {
      "text/html": [
       "<div><div></div><div><strong>Installing Packages</strong><ul><li><span>Expecto...</span></li></ul></div><div></div></div>"
      ]
     },
     "metadata": {},
     "output_type": "display_data"
    },
    {
     "data": {
      "text/html": [
       "<div><div></div><div><strong>Installing Packages</strong><ul><li><span>Expecto....</span></li></ul></div><div></div></div>"
      ]
     },
     "metadata": {},
     "output_type": "display_data"
    },
    {
     "data": {
      "text/html": [
       "<div><div></div><div><strong>Installing Packages</strong><ul><li><span>Expecto.....</span></li></ul></div><div></div></div>"
      ]
     },
     "metadata": {},
     "output_type": "display_data"
    },
    {
     "data": {
      "text/html": [
       "<div><div></div><div><strong>Installing Packages</strong><ul><li><span>Expecto......</span></li></ul></div><div></div></div>"
      ]
     },
     "metadata": {},
     "output_type": "display_data"
    },
    {
     "data": {
      "text/html": [
       "<div><div></div><div><strong>Installing Packages</strong><ul><li><span>Expecto.......</span></li></ul></div><div></div></div>"
      ]
     },
     "metadata": {},
     "output_type": "display_data"
    },
    {
     "data": {
      "text/html": [
       "<div><div></div><div><strong>Installing Packages</strong><ul><li><span>Expecto........</span></li></ul></div><div></div></div>"
      ]
     },
     "metadata": {},
     "output_type": "display_data"
    },
    {
     "data": {
      "text/html": [
       "<div><div></div><div></div><div><strong>Installed Packages</strong><ul><li><span>Expecto, 10.1.0</span></li></ul></div></div>"
      ]
     },
     "metadata": {},
     "output_type": "display_data"
    }
   ],
   "source": [
    "#!import ../../nbs/Testing.dib"
   ]
  },
  {
   "cell_type": "markdown",
   "metadata": {
    "dotnet_repl_cellExecutionStartTime": "2023-07-11T01:13:26.147837-03:00",
    "dotnet_repl_cellExecutionEndTime": "2023-07-11T01:13:26.1585512-03:00",
    "dotnet_repl_cellExecutionTime": "10.716ms"
   },
   "source": [
    "## Parser"
   ]
  },
  {
   "cell_type": "code",
   "execution_count": null,
   "metadata": {
    "dotnet_repl_cellExecutionStartTime": "2023-07-11T01:13:26.1587182-03:00",
    "dotnet_repl_cellExecutionEndTime": "2023-07-11T01:13:26.2223481-03:00",
    "dotnet_repl_cellExecutionTime": "63.6314ms",
    "dotnet_interactive": {
     "language": "fsharp"
    },
    "polyglot_notebook": {
     "kernelName": "fsharp"
    }
   },
   "outputs": [],
   "source": [
    "open System"
   ]
  },
  {
   "cell_type": "markdown",
   "metadata": {
    "dotnet_repl_cellExecutionStartTime": "2023-07-11T01:13:26.2223877-03:00",
    "dotnet_repl_cellExecutionEndTime": "2023-07-11T01:13:26.2263359-03:00",
    "dotnet_repl_cellExecutionTime": "3.9497ms"
   },
   "source": [
    "### TextInput"
   ]
  },
  {
   "cell_type": "code",
   "execution_count": null,
   "metadata": {
    "dotnet_repl_cellExecutionStartTime": "2023-07-11T01:13:26.2263706-03:00",
    "dotnet_repl_cellExecutionEndTime": "2023-07-11T01:13:26.3560208-03:00",
    "dotnet_repl_cellExecutionTime": "129.6527ms",
    "dotnet_interactive": {
     "language": "fsharp"
    },
    "polyglot_notebook": {
     "kernelName": "fsharp"
    }
   },
   "outputs": [],
   "source": [
    "type Position =\n",
    "    {\n",
    "        line : int\n",
    "        column : int\n",
    "    }"
   ]
  },
  {
   "cell_type": "code",
   "execution_count": null,
   "metadata": {
    "dotnet_repl_cellExecutionStartTime": "2023-07-11T01:13:26.3561712-03:00",
    "dotnet_repl_cellExecutionEndTime": "2023-07-11T01:13:26.3985015-03:00",
    "dotnet_repl_cellExecutionTime": "42.3321ms",
    "dotnet_interactive": {
     "language": "fsharp"
    },
    "polyglot_notebook": {
     "kernelName": "fsharp"
    }
   },
   "outputs": [],
   "source": [
    "let initialPos = { line = 0; column = 0 }"
   ]
  },
  {
   "cell_type": "code",
   "execution_count": null,
   "metadata": {
    "dotnet_repl_cellExecutionStartTime": "2023-07-11T01:13:26.3985343-03:00",
    "dotnet_repl_cellExecutionEndTime": "2023-07-11T01:13:26.4795439-03:00",
    "dotnet_repl_cellExecutionTime": "81.0111ms",
    "dotnet_interactive": {
     "language": "fsharp"
    },
    "polyglot_notebook": {
     "kernelName": "fsharp"
    }
   },
   "outputs": [],
   "source": [
    "let incrCol (pos : Position) =\n",
    "    { pos with column = pos.column + 1 }"
   ]
  },
  {
   "cell_type": "code",
   "execution_count": null,
   "metadata": {
    "dotnet_repl_cellExecutionStartTime": "2023-07-11T01:13:26.4795743-03:00",
    "dotnet_repl_cellExecutionEndTime": "2023-07-11T01:13:26.4896144-03:00",
    "dotnet_repl_cellExecutionTime": "10.0418ms",
    "dotnet_interactive": {
     "language": "fsharp"
    },
    "polyglot_notebook": {
     "kernelName": "fsharp"
    }
   },
   "outputs": [],
   "source": [
    "let incrLine pos =\n",
    "    { line = pos.line + 1; column = 0 }"
   ]
  },
  {
   "cell_type": "code",
   "execution_count": null,
   "metadata": {
    "dotnet_repl_cellExecutionStartTime": "2023-07-11T01:13:26.4896502-03:00",
    "dotnet_repl_cellExecutionEndTime": "2023-07-11T01:13:26.5207763-03:00",
    "dotnet_repl_cellExecutionTime": "31.128ms",
    "dotnet_interactive": {
     "language": "fsharp"
    },
    "polyglot_notebook": {
     "kernelName": "fsharp"
    }
   },
   "outputs": [],
   "source": [
    "type InputState =\n",
    "    {\n",
    "        lines : string[]\n",
    "        position : Position\n",
    "    }"
   ]
  },
  {
   "cell_type": "code",
   "execution_count": null,
   "metadata": {
    "dotnet_repl_cellExecutionStartTime": "2023-07-11T01:13:26.5208086-03:00",
    "dotnet_repl_cellExecutionEndTime": "2023-07-11T01:13:26.5598253-03:00",
    "dotnet_repl_cellExecutionTime": "39.0182ms",
    "dotnet_interactive": {
     "language": "fsharp"
    },
    "polyglot_notebook": {
     "kernelName": "fsharp"
    }
   },
   "outputs": [],
   "source": [
    "let fromStr str =\n",
    "    if String.IsNullOrEmpty str then\n",
    "        { lines = [||]; position = initialPos }\n",
    "    else\n",
    "        let separators = [| \"\\r\\n\"; \"\\n\" |]\n",
    "        let lines = str.Split (separators, StringSplitOptions.None)\n",
    "        { lines = lines; position = initialPos }"
   ]
  },
  {
   "cell_type": "code",
   "execution_count": null,
   "metadata": {
    "dotnet_repl_cellExecutionStartTime": "2023-07-11T01:13:26.5598552-03:00",
    "dotnet_repl_cellExecutionEndTime": "2023-07-11T01:13:26.6155543-03:00",
    "dotnet_repl_cellExecutionTime": "55.7003ms",
    "dotnet_interactive": {
     "language": "fsharp"
    },
    "polyglot_notebook": {
     "kernelName": "fsharp"
    }
   },
   "outputs": [
    {
     "name": "stdout",
     "output_type": "stream",
     "text": [
      "InputState\r\n",
      "      lines: [  ]\r\n",
      "      position: Position\r\n",
      "        line: 0\r\n",
      "        column: 0\r\n"
     ]
    }
   ],
   "source": [
    "//// test\n",
    "\n",
    "fromStr \"\" |> _equal {\n",
    "    lines = [||]\n",
    "    position = { line = 0; column = 0 }\n",
    "}"
   ]
  },
  {
   "cell_type": "code",
   "execution_count": null,
   "metadata": {
    "dotnet_repl_cellExecutionStartTime": "2023-07-11T01:13:26.6155929-03:00",
    "dotnet_repl_cellExecutionEndTime": "2023-07-11T01:13:26.6375981-03:00",
    "dotnet_repl_cellExecutionTime": "22.0073ms",
    "dotnet_interactive": {
     "language": "fsharp"
    },
    "polyglot_notebook": {
     "kernelName": "fsharp"
    }
   },
   "outputs": [
    {
     "name": "stdout",
     "output_type": "stream",
     "text": [
      "InputState\r\n",
      "      lines: [ Hello ,  World ]\r\n",
      "      position: Position\r\n",
      "        line: 0\r\n",
      "        column: 0\r\n"
     ]
    }
   ],
   "source": [
    "//// test\n",
    "\n",
    "fromStr \"Hello \\n World\" |> _equal {\n",
    "    lines = [| \"Hello \"; \" World\" |]\n",
    "    position = { line = 0; column = 0 }\n",
    "}"
   ]
  },
  {
   "cell_type": "code",
   "execution_count": null,
   "metadata": {
    "dotnet_repl_cellExecutionStartTime": "2023-07-11T01:13:26.6376511-03:00",
    "dotnet_repl_cellExecutionEndTime": "2023-07-11T01:13:26.6787315-03:00",
    "dotnet_repl_cellExecutionTime": "41.0818ms",
    "dotnet_interactive": {
     "language": "fsharp"
    },
    "polyglot_notebook": {
     "kernelName": "fsharp"
    }
   },
   "outputs": [],
   "source": [
    "let currentLine inputState =\n",
    "    let linePos = inputState.position.line\n",
    "    if linePos < inputState.lines.Length then\n",
    "        inputState.lines.[linePos]\n",
    "    else\n",
    "        \"end of file\""
   ]
  },
  {
   "cell_type": "code",
   "execution_count": null,
   "metadata": {
    "dotnet_repl_cellExecutionStartTime": "2023-07-11T01:13:26.6787695-03:00",
    "dotnet_repl_cellExecutionEndTime": "2023-07-11T01:13:26.728507-03:00",
    "dotnet_repl_cellExecutionTime": "49.7392ms",
    "dotnet_interactive": {
     "language": "fsharp"
    },
    "polyglot_notebook": {
     "kernelName": "fsharp"
    }
   },
   "outputs": [],
   "source": [
    "let nextChar input =\n",
    "    let linePos = input.position.line\n",
    "    let colPos = input.position.column\n",
    "\n",
    "    if linePos >= input.lines.Length then\n",
    "        input, None\n",
    "    else\n",
    "        let currentLine = currentLine input\n",
    "        if colPos < currentLine.Length then\n",
    "            let char = currentLine.[colPos]\n",
    "            let newPos = incrCol input.position\n",
    "            let newState = { input with position = newPos }\n",
    "            newState, Some char\n",
    "        else\n",
    "            let char = '\\n'\n",
    "            let newPos = incrLine input.position\n",
    "            let newState = { input with position = newPos }\n",
    "            newState, Some char"
   ]
  },
  {
   "cell_type": "code",
   "execution_count": null,
   "metadata": {
    "dotnet_repl_cellExecutionStartTime": "2023-07-11T01:13:26.7285375-03:00",
    "dotnet_repl_cellExecutionEndTime": "2023-07-11T01:13:26.7757656-03:00",
    "dotnet_repl_cellExecutionTime": "47.2297ms",
    "dotnet_interactive": {
     "language": "fsharp"
    },
    "polyglot_notebook": {
     "kernelName": "fsharp"
    }
   },
   "outputs": [
    {
     "name": "stdout",
     "output_type": "stream",
     "text": [
      "InputState\r\n",
      "      lines: [ Hello World ]\r\n",
      "      position: Position\r\n",
      "        line: 0\r\n",
      "        column: 1\r\n",
      "FSharpOption<Char>\r\n",
      "      Value: H\r\n"
     ]
    }
   ],
   "source": [
    "//// test\n",
    "\n",
    "let newInput, charOpt = fromStr \"Hello World\" |> nextChar\n",
    "\n",
    "newInput |> _equal {\n",
    "    lines = [| \"Hello World\" |]\n",
    "    position = { line = 0; column = 1 }\n",
    "}\n",
    "charOpt |> _equal (Some 'H')"
   ]
  },
  {
   "cell_type": "code",
   "execution_count": null,
   "metadata": {
    "dotnet_repl_cellExecutionStartTime": "2023-07-11T01:13:26.7758063-03:00",
    "dotnet_repl_cellExecutionEndTime": "2023-07-11T01:13:26.802867-03:00",
    "dotnet_repl_cellExecutionTime": "27.0626ms",
    "dotnet_interactive": {
     "language": "fsharp"
    },
    "polyglot_notebook": {
     "kernelName": "fsharp"
    }
   },
   "outputs": [
    {
     "name": "stdout",
     "output_type": "stream",
     "text": [
      "InputState\r\n",
      "      lines: [ Hello, , World ]\r\n",
      "      position: Position\r\n",
      "        line: 0\r\n",
      "        column: 1\r\n",
      "FSharpOption<Char>\r\n",
      "      Value: H\r\n"
     ]
    }
   ],
   "source": [
    "//// test\n",
    "\n",
    "let newInput, charOpt = fromStr \"Hello\\n\\nWorld\" |> nextChar\n",
    "\n",
    "newInput |> _equal {\n",
    "    lines = [| \"Hello\"; \"\"; \"World\" |]\n",
    "    position = { line = 0; column = 1 }\n",
    "}\n",
    "charOpt |> _equal (Some 'H')"
   ]
  },
  {
   "cell_type": "markdown",
   "metadata": {
    "dotnet_repl_cellExecutionStartTime": "2023-07-11T01:13:26.8029188-03:00",
    "dotnet_repl_cellExecutionEndTime": "2023-07-11T01:13:26.8064937-03:00",
    "dotnet_repl_cellExecutionTime": "3.5762ms"
   },
   "source": [
    "### Parser"
   ]
  },
  {
   "cell_type": "code",
   "execution_count": null,
   "metadata": {
    "dotnet_repl_cellExecutionStartTime": "2023-07-11T01:13:26.8065256-03:00",
    "dotnet_repl_cellExecutionEndTime": "2023-07-11T01:13:27.0391009-03:00",
    "dotnet_repl_cellExecutionTime": "232.5769ms",
    "dotnet_interactive": {
     "language": "fsharp"
    },
    "polyglot_notebook": {
     "kernelName": "fsharp"
    }
   },
   "outputs": [],
   "source": [
    "type Input = InputState\n",
    "type ParserLabel = string\n",
    "type ParserError = string\n",
    "\n",
    "type ParserPosition =\n",
    "    {\n",
    "        currentLine : string\n",
    "        line : int\n",
    "        column : int\n",
    "    }\n",
    "\n",
    "type ParseResult<'a> =\n",
    "    | Success of 'a\n",
    "    | Failure of ParserLabel * ParserError * ParserPosition\n",
    "\n",
    "type Parser<'a> =\n",
    "    {\n",
    "        parseFn : Input -> ParseResult<'a * Input>\n",
    "        label : ParserLabel\n",
    "    }"
   ]
  },
  {
   "cell_type": "code",
   "execution_count": null,
   "metadata": {
    "dotnet_repl_cellExecutionStartTime": "2023-07-11T01:13:27.0391328-03:00",
    "dotnet_repl_cellExecutionEndTime": "2023-07-11T01:13:27.090659-03:00",
    "dotnet_repl_cellExecutionTime": "51.5277ms",
    "dotnet_interactive": {
     "language": "fsharp"
    },
    "polyglot_notebook": {
     "kernelName": "fsharp"
    }
   },
   "outputs": [],
   "source": [
    "let printResult result =\n",
    "    match result with\n",
    "    | Success (value, input) ->\n",
    "        printfn $\"%A{value}\"\n",
    "    | Failure (label, error, parserPos) ->\n",
    "        let errorLine = parserPos.currentLine\n",
    "        let colPos = parserPos.column\n",
    "        let linePos = parserPos.line\n",
    "        let failureCaret = $\"{' '.ToString().PadLeft colPos}^{error}\"\n",
    "        printfn $\"Line:%i{linePos} Col:%i{colPos} Error parsing %s{label}\\n%s{errorLine}\\n%s{failureCaret}\""
   ]
  },
  {
   "cell_type": "code",
   "execution_count": null,
   "metadata": {
    "dotnet_repl_cellExecutionStartTime": "2023-07-11T01:13:27.0906967-03:00",
    "dotnet_repl_cellExecutionEndTime": "2023-07-11T01:13:27.1223484-03:00",
    "dotnet_repl_cellExecutionTime": "31.6532ms",
    "dotnet_interactive": {
     "language": "fsharp"
    },
    "polyglot_notebook": {
     "kernelName": "fsharp"
    }
   },
   "outputs": [],
   "source": [
    "//// test\n",
    "\n",
    "let parserEqual (expected : ParseResult<'a>) (actual : ParseResult<'a * Input>) =\n",
    "    match actual, expected with\n",
    "    | Success (_actual, _), Success _expected ->\n",
    "        printResult actual\n",
    "        _actual |> _equal _expected\n",
    "    | Failure (l1, e1, p1), Failure (l2, e2, p2) when l1 = l2 && e1 = e2 && p1 = p2 ->\n",
    "        printResult actual\n",
    "    | _ ->\n",
    "        printfn $\"Actual: {actual}\"\n",
    "        printfn $\"Expected: {expected}\"\n",
    "        failwith \"Parse failed\"\n",
    "    actual"
   ]
  },
  {
   "cell_type": "code",
   "execution_count": null,
   "metadata": {
    "dotnet_repl_cellExecutionStartTime": "2023-07-11T01:13:27.1223874-03:00",
    "dotnet_repl_cellExecutionEndTime": "2023-07-11T01:13:27.1336371-03:00",
    "dotnet_repl_cellExecutionTime": "11.2518ms",
    "dotnet_interactive": {
     "language": "fsharp"
    },
    "polyglot_notebook": {
     "kernelName": "fsharp"
    }
   },
   "outputs": [],
   "source": [
    "let runOnInput parser input =\n",
    "    parser.parseFn input"
   ]
  },
  {
   "cell_type": "code",
   "execution_count": null,
   "metadata": {
    "dotnet_repl_cellExecutionStartTime": "2023-07-11T01:13:27.1336895-03:00",
    "dotnet_repl_cellExecutionEndTime": "2023-07-11T01:13:27.1423416-03:00",
    "dotnet_repl_cellExecutionTime": "8.6535ms",
    "dotnet_interactive": {
     "language": "fsharp"
    },
    "polyglot_notebook": {
     "kernelName": "fsharp"
    }
   },
   "outputs": [],
   "source": [
    "let run parser inputStr =\n",
    "    runOnInput parser (fromStr inputStr)"
   ]
  },
  {
   "cell_type": "code",
   "execution_count": null,
   "metadata": {
    "dotnet_repl_cellExecutionStartTime": "2023-07-11T01:13:27.1423743-03:00",
    "dotnet_repl_cellExecutionEndTime": "2023-07-11T01:13:27.1512023-03:00",
    "dotnet_repl_cellExecutionTime": "8.8295ms",
    "dotnet_interactive": {
     "language": "fsharp"
    },
    "polyglot_notebook": {
     "kernelName": "fsharp"
    }
   },
   "outputs": [],
   "source": [
    "let parserPositionFromInputState (inputState : Input) =\n",
    "    {\n",
    "        currentLine = currentLine inputState\n",
    "        line = inputState.position.line\n",
    "        column = inputState.position.column\n",
    "    }"
   ]
  },
  {
   "cell_type": "code",
   "execution_count": null,
   "metadata": {
    "dotnet_repl_cellExecutionStartTime": "2023-07-11T01:13:27.1512359-03:00",
    "dotnet_repl_cellExecutionEndTime": "2023-07-11T01:13:27.1592332-03:00",
    "dotnet_repl_cellExecutionTime": "7.9988ms",
    "dotnet_interactive": {
     "language": "fsharp"
    },
    "polyglot_notebook": {
     "kernelName": "fsharp"
    }
   },
   "outputs": [],
   "source": [
    "let getLabel parser =\n",
    "    parser.label"
   ]
  },
  {
   "cell_type": "code",
   "execution_count": null,
   "metadata": {
    "dotnet_repl_cellExecutionStartTime": "2023-07-11T01:13:27.1592747-03:00",
    "dotnet_repl_cellExecutionEndTime": "2023-07-11T01:13:27.1909115-03:00",
    "dotnet_repl_cellExecutionTime": "31.6387ms",
    "dotnet_interactive": {
     "language": "fsharp"
    },
    "polyglot_notebook": {
     "kernelName": "fsharp"
    }
   },
   "outputs": [],
   "source": [
    "let setLabel parser newLabel =\n",
    "    let newInnerFn input =\n",
    "        match parser.parseFn input with\n",
    "        | Success s -> Success s\n",
    "        | Failure (oldLabel, err, pos) -> Failure (newLabel, err, pos)\n",
    "\n",
    "    { parseFn = newInnerFn; label = newLabel }"
   ]
  },
  {
   "cell_type": "code",
   "execution_count": null,
   "metadata": {
    "dotnet_repl_cellExecutionStartTime": "2023-07-11T01:13:27.1909562-03:00",
    "dotnet_repl_cellExecutionEndTime": "2023-07-11T01:13:27.2083003-03:00",
    "dotnet_repl_cellExecutionTime": "17.3456ms",
    "dotnet_interactive": {
     "language": "fsharp"
    },
    "polyglot_notebook": {
     "kernelName": "fsharp"
    }
   },
   "outputs": [],
   "source": [
    "let (<?>) = setLabel"
   ]
  },
  {
   "cell_type": "code",
   "execution_count": null,
   "metadata": {
    "dotnet_repl_cellExecutionStartTime": "2023-07-11T01:13:27.2083338-03:00",
    "dotnet_repl_cellExecutionEndTime": "2023-07-11T01:13:27.2261434-03:00",
    "dotnet_repl_cellExecutionTime": "17.811ms",
    "dotnet_interactive": {
     "language": "fsharp"
    },
    "polyglot_notebook": {
     "kernelName": "fsharp"
    }
   },
   "outputs": [],
   "source": [
    "let satisfy predicate label =\n",
    "    let innerFn input =\n",
    "        let remainingInput, charOpt = nextChar input\n",
    "        match charOpt with\n",
    "        | None ->\n",
    "            let err = \"No more input\"\n",
    "            let pos = parserPositionFromInputState input\n",
    "            Failure (label, err, pos)\n",
    "        | Some first ->\n",
    "            if predicate first then\n",
    "                Success (first, remainingInput)\n",
    "            else\n",
    "                let err = $\"Unexpected '%c{first}'\"\n",
    "                let pos = parserPositionFromInputState input\n",
    "                Failure (label, err, pos)\n",
    "\n",
    "    { parseFn = innerFn; label = label }"
   ]
  },
  {
   "cell_type": "code",
   "execution_count": null,
   "metadata": {
    "dotnet_repl_cellExecutionStartTime": "2023-07-11T01:13:27.2261741-03:00",
    "dotnet_repl_cellExecutionEndTime": "2023-07-11T01:13:27.2577065-03:00",
    "dotnet_repl_cellExecutionTime": "31.5346ms",
    "dotnet_interactive": {
     "language": "fsharp"
    },
    "polyglot_notebook": {
     "kernelName": "fsharp"
    }
   },
   "outputs": [
    {
     "name": "stdout",
     "output_type": "stream",
     "text": [
      "Success\r\n",
      "      Item:       - H\r\n",
      "      - InputState\r\n",
      "          lines: [ Hello ]\r\n",
      "          position: Position\r\n",
      "            line: 0\r\n",
      "            column: 1\r\n"
     ]
    }
   ],
   "source": [
    "//// test\n",
    "\n",
    "let input = fromStr \"Hello\"\n",
    "let parser = satisfy (fun c -> c = 'H') \"H\"\n",
    "runOnInput parser input |> _equal (\n",
    "    Success (\n",
    "        'H',\n",
    "        {\n",
    "            lines = [| \"Hello\" |]\n",
    "            position = { line = 0; column = 1 }\n",
    "        }\n",
    "    )\n",
    ")"
   ]
  },
  {
   "cell_type": "code",
   "execution_count": null,
   "metadata": {
    "dotnet_repl_cellExecutionStartTime": "2023-07-11T01:13:27.2577502-03:00",
    "dotnet_repl_cellExecutionEndTime": "2023-07-11T01:13:27.2956128-03:00",
    "dotnet_repl_cellExecutionTime": "37.8645ms",
    "dotnet_interactive": {
     "language": "fsharp"
    },
    "polyglot_notebook": {
     "kernelName": "fsharp"
    }
   },
   "outputs": [
    {
     "name": "stdout",
     "output_type": "stream",
     "text": [
      "Failure\r\n",
      "      Item1: H\r\n",
      "      Item2: Unexpected 'W'\r\n",
      "      Item3: ParserPosition\r\n",
      "        currentLine: World\r\n",
      "        line: 0\r\n",
      "        column: 0\r\n"
     ]
    }
   ],
   "source": [
    "//// test\n",
    "\n",
    "let input = fromStr \"World\"\n",
    "let parser = satisfy (fun c -> c = 'H') \"H\"\n",
    "runOnInput parser input |> _equal (\n",
    "    Failure (\n",
    "        \"H\",\n",
    "        \"Unexpected 'W'\",\n",
    "        {\n",
    "            currentLine = \"World\"\n",
    "            line = 0\n",
    "            column = 0\n",
    "        }\n",
    "    )\n",
    ")"
   ]
  },
  {
   "cell_type": "code",
   "execution_count": null,
   "metadata": {
    "dotnet_repl_cellExecutionStartTime": "2023-07-11T01:13:27.2956545-03:00",
    "dotnet_repl_cellExecutionEndTime": "2023-07-11T01:13:27.3093279-03:00",
    "dotnet_repl_cellExecutionTime": "13.675ms",
    "dotnet_interactive": {
     "language": "fsharp"
    },
    "polyglot_notebook": {
     "kernelName": "fsharp"
    }
   },
   "outputs": [],
   "source": [
    "let bindP f p =\n",
    "    let label = \"unknown\"\n",
    "    let innerFn input =\n",
    "        let result1 = runOnInput p input\n",
    "        match result1 with\n",
    "        | Failure (label, err, pos) ->\n",
    "            Failure (label, err, pos)\n",
    "        | Success (value1, remainingInput) ->\n",
    "            let p2 = f value1\n",
    "            runOnInput p2 remainingInput\n",
    "\n",
    "    { parseFn = innerFn; label = label }"
   ]
  },
  {
   "cell_type": "code",
   "execution_count": null,
   "metadata": {
    "dotnet_repl_cellExecutionStartTime": "2023-07-11T01:13:27.3093761-03:00",
    "dotnet_repl_cellExecutionEndTime": "2023-07-11T01:13:27.3185303-03:00",
    "dotnet_repl_cellExecutionTime": "9.1558ms",
    "dotnet_interactive": {
     "language": "fsharp"
    },
    "polyglot_notebook": {
     "kernelName": "fsharp"
    }
   },
   "outputs": [],
   "source": [
    "let (>>=) p f = bindP f p"
   ]
  },
  {
   "cell_type": "code",
   "execution_count": null,
   "metadata": {
    "dotnet_repl_cellExecutionStartTime": "2023-07-11T01:13:27.3185644-03:00",
    "dotnet_repl_cellExecutionEndTime": "2023-07-11T01:13:27.3497555-03:00",
    "dotnet_repl_cellExecutionTime": "31.193ms",
    "dotnet_interactive": {
     "language": "fsharp"
    },
    "polyglot_notebook": {
     "kernelName": "fsharp"
    }
   },
   "outputs": [
    {
     "name": "stdout",
     "output_type": "stream",
     "text": [
      "Success\r\n",
      "      Item:       - e\r\n",
      "      - InputState\r\n",
      "          lines: [ Hello ]\r\n",
      "          position: Position\r\n",
      "            line: 0\r\n",
      "            column: 2\r\n"
     ]
    }
   ],
   "source": [
    "//// test\n",
    "\n",
    "let input = fromStr \"Hello\"\n",
    "let parser = satisfy (fun c -> c = 'H') \"H\"\n",
    "let parser2 = parser >>= fun c -> satisfy (fun c -> c = 'e') \"e\"\n",
    "runOnInput parser2 input |> _equal (\n",
    "    Success (\n",
    "        'e',\n",
    "        {\n",
    "            lines = [| \"Hello\" |]\n",
    "            position = { line = 0; column = 2 }\n",
    "        }\n",
    "    )\n",
    ")"
   ]
  },
  {
   "cell_type": "code",
   "execution_count": null,
   "metadata": {
    "dotnet_repl_cellExecutionStartTime": "2023-07-11T01:13:27.349814-03:00",
    "dotnet_repl_cellExecutionEndTime": "2023-07-11T01:13:27.379204-03:00",
    "dotnet_repl_cellExecutionTime": "29.3924ms",
    "dotnet_interactive": {
     "language": "fsharp"
    },
    "polyglot_notebook": {
     "kernelName": "fsharp"
    }
   },
   "outputs": [
    {
     "name": "stdout",
     "output_type": "stream",
     "text": [
      "Failure\r\n",
      "      Item1: e\r\n",
      "      Item2: Unexpected 'o'\r\n",
      "      Item3: ParserPosition\r\n",
      "        currentLine: World\r\n",
      "        line: 0\r\n",
      "        column: 1\r\n"
     ]
    }
   ],
   "source": [
    "//// test\n",
    "\n",
    "let input = fromStr \"World\"\n",
    "let parser = satisfy (fun c -> c = 'W') \"W\"\n",
    "let parser2 = parser >>= fun c -> satisfy (fun c -> c = 'e') \"e\"\n",
    "runOnInput parser2 input |> _equal (\n",
    "    Failure (\n",
    "        \"e\",\n",
    "        \"Unexpected 'o'\",\n",
    "        {\n",
    "            currentLine = \"World\"\n",
    "            line = 0\n",
    "            column = 1\n",
    "        }\n",
    "    )\n",
    ")"
   ]
  },
  {
   "cell_type": "code",
   "execution_count": null,
   "metadata": {
    "dotnet_repl_cellExecutionStartTime": "2023-07-11T01:13:27.379243-03:00",
    "dotnet_repl_cellExecutionEndTime": "2023-07-11T01:13:27.4031067-03:00",
    "dotnet_repl_cellExecutionTime": "23.8654ms",
    "dotnet_interactive": {
     "language": "fsharp"
    },
    "polyglot_notebook": {
     "kernelName": "fsharp"
    }
   },
   "outputs": [],
   "source": [
    "let returnP x =\n",
    "    let label = $\"%A{x}\"\n",
    "    let innerFn input =\n",
    "        Success (x, input)\n",
    "    \n",
    "    { parseFn = innerFn; label = label }"
   ]
  },
  {
   "cell_type": "code",
   "execution_count": null,
   "metadata": {
    "dotnet_repl_cellExecutionStartTime": "2023-07-11T01:13:27.4031423-03:00",
    "dotnet_repl_cellExecutionEndTime": "2023-07-11T01:13:27.4408723-03:00",
    "dotnet_repl_cellExecutionTime": "37.7322ms",
    "dotnet_interactive": {
     "language": "fsharp"
    },
    "polyglot_notebook": {
     "kernelName": "fsharp"
    }
   },
   "outputs": [
    {
     "name": "stdout",
     "output_type": "stream",
     "text": [
      "Success\r\n",
      "      Item:       - Hello\r\n",
      "      - InputState\r\n",
      "          lines: [ Hello ]\r\n",
      "          position: Position\r\n",
      "            line: 0\r\n",
      "            column: 0\r\n"
     ]
    }
   ],
   "source": [
    "//// test\n",
    "\n",
    "let input = fromStr \"Hello\"\n",
    "let parser = returnP \"Hello\"\n",
    "runOnInput parser input |> _equal (\n",
    "    Success (\n",
    "        \"Hello\",\n",
    "        {\n",
    "            lines = [| \"Hello\" |]\n",
    "            position = { line = 0; column = 0 }\n",
    "        }\n",
    "    )\n",
    ")"
   ]
  },
  {
   "cell_type": "code",
   "execution_count": null,
   "metadata": {
    "dotnet_repl_cellExecutionStartTime": "2023-07-11T01:13:27.4409128-03:00",
    "dotnet_repl_cellExecutionEndTime": "2023-07-11T01:13:27.4548383-03:00",
    "dotnet_repl_cellExecutionTime": "13.927ms",
    "dotnet_interactive": {
     "language": "fsharp"
    },
    "polyglot_notebook": {
     "kernelName": "fsharp"
    }
   },
   "outputs": [],
   "source": [
    "let mapP f =\n",
    "    bindP (f >> returnP)"
   ]
  },
  {
   "cell_type": "code",
   "execution_count": null,
   "metadata": {
    "dotnet_repl_cellExecutionStartTime": "2023-07-11T01:13:27.4548845-03:00",
    "dotnet_repl_cellExecutionEndTime": "2023-07-11T01:13:27.4698674-03:00",
    "dotnet_repl_cellExecutionTime": "14.9845ms",
    "dotnet_interactive": {
     "language": "fsharp"
    },
    "polyglot_notebook": {
     "kernelName": "fsharp"
    }
   },
   "outputs": [],
   "source": [
    "let (<!>) = mapP"
   ]
  },
  {
   "cell_type": "code",
   "execution_count": null,
   "metadata": {
    "dotnet_repl_cellExecutionStartTime": "2023-07-11T01:13:27.4699015-03:00",
    "dotnet_repl_cellExecutionEndTime": "2023-07-11T01:13:27.4796819-03:00",
    "dotnet_repl_cellExecutionTime": "9.7818ms",
    "dotnet_interactive": {
     "language": "fsharp"
    },
    "polyglot_notebook": {
     "kernelName": "fsharp"
    }
   },
   "outputs": [],
   "source": [
    "let (|>>) x f = f <!> x"
   ]
  },
  {
   "cell_type": "code",
   "execution_count": null,
   "metadata": {
    "dotnet_repl_cellExecutionStartTime": "2023-07-11T01:13:27.4797204-03:00",
    "dotnet_repl_cellExecutionEndTime": "2023-07-11T01:13:27.5109253-03:00",
    "dotnet_repl_cellExecutionTime": "31.2061ms",
    "dotnet_interactive": {
     "language": "fsharp"
    },
    "polyglot_notebook": {
     "kernelName": "fsharp"
    }
   },
   "outputs": [
    {
     "name": "stdout",
     "output_type": "stream",
     "text": [
      "Success\r\n",
      "      Item:       - H\r\n",
      "      - InputState\r\n",
      "          lines: [ Hello ]\r\n",
      "          position: Position\r\n",
      "            line: 0\r\n",
      "            column: 1\r\n"
     ]
    }
   ],
   "source": [
    "//// test\n",
    "\n",
    "let input = fromStr \"Hello\"\n",
    "let parser = satisfy (fun c -> c = 'H') \"H\"\n",
    "let parser2 = parser |>> fun c -> c.ToString()\n",
    "runOnInput parser2 input |> _equal (\n",
    "    Success (\n",
    "        \"H\",\n",
    "        {\n",
    "            lines = [| \"Hello\" |]\n",
    "            position = { line = 0; column = 1 }\n",
    "        }\n",
    "    )\n",
    ")"
   ]
  },
  {
   "cell_type": "code",
   "execution_count": null,
   "metadata": {
    "dotnet_repl_cellExecutionStartTime": "2023-07-11T01:13:27.51096-03:00",
    "dotnet_repl_cellExecutionEndTime": "2023-07-11T01:13:27.5241086-03:00",
    "dotnet_repl_cellExecutionTime": "13.15ms",
    "dotnet_interactive": {
     "language": "fsharp"
    },
    "polyglot_notebook": {
     "kernelName": "fsharp"
    }
   },
   "outputs": [],
   "source": [
    "let applyP fP xP =\n",
    "    fP >>=\n",
    "        fun f ->\n",
    "            xP >>=\n",
    "                fun x ->\n",
    "                    returnP (f x)"
   ]
  },
  {
   "cell_type": "code",
   "execution_count": null,
   "metadata": {
    "dotnet_repl_cellExecutionStartTime": "2023-07-11T01:13:27.524147-03:00",
    "dotnet_repl_cellExecutionEndTime": "2023-07-11T01:13:27.5347431-03:00",
    "dotnet_repl_cellExecutionTime": "10.5977ms",
    "dotnet_interactive": {
     "language": "fsharp"
    },
    "polyglot_notebook": {
     "kernelName": "fsharp"
    }
   },
   "outputs": [],
   "source": [
    "let (<*>) = applyP"
   ]
  },
  {
   "cell_type": "code",
   "execution_count": null,
   "metadata": {
    "dotnet_repl_cellExecutionStartTime": "2023-07-11T01:13:27.5347788-03:00",
    "dotnet_repl_cellExecutionEndTime": "2023-07-11T01:13:27.5474106-03:00",
    "dotnet_repl_cellExecutionTime": "12.6332ms",
    "dotnet_interactive": {
     "language": "fsharp"
    },
    "polyglot_notebook": {
     "kernelName": "fsharp"
    }
   },
   "outputs": [],
   "source": [
    "let lift2 f xP yP =\n",
    "    returnP f <*> xP <*> yP"
   ]
  },
  {
   "cell_type": "code",
   "execution_count": null,
   "metadata": {
    "dotnet_repl_cellExecutionStartTime": "2023-07-11T01:13:27.5474537-03:00",
    "dotnet_repl_cellExecutionEndTime": "2023-07-11T01:13:27.5948856-03:00",
    "dotnet_repl_cellExecutionTime": "47.4334ms",
    "dotnet_interactive": {
     "language": "fsharp"
    },
    "polyglot_notebook": {
     "kernelName": "fsharp"
    }
   },
   "outputs": [
    {
     "name": "stdout",
     "output_type": "stream",
     "text": [
      "Success\r\n",
      "      Item:       - He\r\n",
      "      - InputState\r\n",
      "          lines: [ Hello ]\r\n",
      "          position: Position\r\n",
      "            line: 0\r\n",
      "            column: 2\r\n"
     ]
    }
   ],
   "source": [
    "//// test\n",
    "\n",
    "let input = fromStr \"Hello\"\n",
    "let parser = satisfy (fun c -> c = 'H') \"H\"\n",
    "let parser2 = satisfy (fun c -> c = 'e') \"e\"\n",
    "let parser3 = lift2 (fun c1 c2 -> c1.ToString () + c2.ToString ()) parser parser2\n",
    "runOnInput parser3 input |> _equal (\n",
    "    Success (\n",
    "        \"He\",\n",
    "        {\n",
    "            lines = [| \"Hello\" |]\n",
    "            position = { line = 0; column = 2 }\n",
    "        }\n",
    "    )\n",
    ")"
   ]
  },
  {
   "cell_type": "code",
   "execution_count": null,
   "metadata": {
    "dotnet_repl_cellExecutionStartTime": "2023-07-11T01:13:27.5949191-03:00",
    "dotnet_repl_cellExecutionEndTime": "2023-07-11T01:13:27.6109506-03:00",
    "dotnet_repl_cellExecutionTime": "16.033ms",
    "dotnet_interactive": {
     "language": "fsharp"
    },
    "polyglot_notebook": {
     "kernelName": "fsharp"
    }
   },
   "outputs": [],
   "source": [
    "let andThen p1 p2 =\n",
    "    p1 >>=\n",
    "        fun p1Result ->\n",
    "            p2 >>=\n",
    "                fun p2Result ->\n",
    "                    returnP (p1Result, p2Result)\n",
    "    <?> $\"{getLabel p1} andThen {getLabel p2}\""
   ]
  },
  {
   "cell_type": "code",
   "execution_count": null,
   "metadata": {
    "dotnet_repl_cellExecutionStartTime": "2023-07-11T01:13:27.6109805-03:00",
    "dotnet_repl_cellExecutionEndTime": "2023-07-11T01:13:27.6212155-03:00",
    "dotnet_repl_cellExecutionTime": "10.2363ms",
    "dotnet_interactive": {
     "language": "fsharp"
    },
    "polyglot_notebook": {
     "kernelName": "fsharp"
    }
   },
   "outputs": [],
   "source": [
    "let (.>>.) = andThen"
   ]
  },
  {
   "cell_type": "code",
   "execution_count": null,
   "metadata": {
    "dotnet_repl_cellExecutionStartTime": "2023-07-11T01:13:27.6212457-03:00",
    "dotnet_repl_cellExecutionEndTime": "2023-07-11T01:13:27.672573-03:00",
    "dotnet_repl_cellExecutionTime": "51.3293ms",
    "dotnet_interactive": {
     "language": "fsharp"
    },
    "polyglot_notebook": {
     "kernelName": "fsharp"
    }
   },
   "outputs": [
    {
     "name": "stdout",
     "output_type": "stream",
     "text": [
      "Success\r\n",
      "      Item:       - ( H, e )\r\n",
      "      - InputState\r\n",
      "          lines: [ Hello ]\r\n",
      "          position: Position\r\n",
      "            line: 0\r\n",
      "            column: 2\r\n"
     ]
    }
   ],
   "source": [
    "//// test\n",
    "\n",
    "let input = fromStr \"Hello\"\n",
    "let parser = satisfy (fun c -> c = 'H') \"H\"\n",
    "let parser2 = satisfy (fun c -> c = 'e') \"e\"\n",
    "let parser3 = parser .>>. parser2\n",
    "runOnInput parser3 input |> _equal (\n",
    "    Success (\n",
    "        ('H', 'e'),\n",
    "        {\n",
    "            lines = [| \"Hello\" |]\n",
    "            position = { line = 0; column = 2 }\n",
    "        }\n",
    "    )\n",
    ")"
   ]
  },
  {
   "cell_type": "code",
   "execution_count": null,
   "metadata": {
    "dotnet_repl_cellExecutionStartTime": "2023-07-11T01:13:27.6726342-03:00",
    "dotnet_repl_cellExecutionEndTime": "2023-07-11T01:13:27.690746-03:00",
    "dotnet_repl_cellExecutionTime": "18.1138ms",
    "dotnet_interactive": {
     "language": "fsharp"
    },
    "polyglot_notebook": {
     "kernelName": "fsharp"
    }
   },
   "outputs": [],
   "source": [
    "let orElse p1 p2 =\n",
    "    let label = $\"{getLabel p1} orElse {getLabel p2}\"\n",
    "    let innerFn input =\n",
    "        let result1 = runOnInput p1 input\n",
    "\n",
    "        match result1 with\n",
    "        | Success result -> result1\n",
    "        | Failure _ -> runOnInput p2 input\n",
    "\n",
    "    { parseFn = innerFn; label = label }"
   ]
  },
  {
   "cell_type": "code",
   "execution_count": null,
   "metadata": {
    "dotnet_repl_cellExecutionStartTime": "2023-07-11T01:13:27.6907977-03:00",
    "dotnet_repl_cellExecutionEndTime": "2023-07-11T01:13:27.7046725-03:00",
    "dotnet_repl_cellExecutionTime": "13.8765ms",
    "dotnet_interactive": {
     "language": "fsharp"
    },
    "polyglot_notebook": {
     "kernelName": "fsharp"
    }
   },
   "outputs": [],
   "source": [
    "let (<|>) = orElse"
   ]
  },
  {
   "cell_type": "code",
   "execution_count": null,
   "metadata": {
    "dotnet_repl_cellExecutionStartTime": "2023-07-11T01:13:27.7047096-03:00",
    "dotnet_repl_cellExecutionEndTime": "2023-07-11T01:13:27.7370375-03:00",
    "dotnet_repl_cellExecutionTime": "32.3303ms",
    "dotnet_interactive": {
     "language": "fsharp"
    },
    "polyglot_notebook": {
     "kernelName": "fsharp"
    }
   },
   "outputs": [
    {
     "name": "stdout",
     "output_type": "stream",
     "text": [
      "Success\r\n",
      "      Item:       - h\r\n",
      "      - InputState\r\n",
      "          lines: [ hello ]\r\n",
      "          position: Position\r\n",
      "            line: 0\r\n",
      "            column: 1\r\n"
     ]
    }
   ],
   "source": [
    "//// test\n",
    "\n",
    "let input = fromStr \"hello\"\n",
    "let parser = satisfy (fun c -> c = 'H') \"H\"\n",
    "let parser2 = satisfy (fun c -> c = 'h') \"h\"\n",
    "let parser3 = parser <|> parser2\n",
    "runOnInput parser3 input |> _equal (\n",
    "    Success (\n",
    "        'h',\n",
    "        {\n",
    "            lines = [| \"hello\" |]\n",
    "            position = { line = 0; column = 1 }\n",
    "        }\n",
    "    )\n",
    ")"
   ]
  },
  {
   "cell_type": "code",
   "execution_count": null,
   "metadata": {
    "dotnet_repl_cellExecutionStartTime": "2023-07-11T01:13:27.7370957-03:00",
    "dotnet_repl_cellExecutionEndTime": "2023-07-11T01:13:27.7475737-03:00",
    "dotnet_repl_cellExecutionTime": "10.4804ms",
    "dotnet_interactive": {
     "language": "fsharp"
    },
    "polyglot_notebook": {
     "kernelName": "fsharp"
    }
   },
   "outputs": [],
   "source": [
    "let choice listOfParsers =\n",
    "    listOfParsers |> List.reduce (<|>)"
   ]
  },
  {
   "cell_type": "code",
   "execution_count": null,
   "metadata": {
    "dotnet_repl_cellExecutionStartTime": "2023-07-11T01:13:27.7476276-03:00",
    "dotnet_repl_cellExecutionEndTime": "2023-07-11T01:13:27.7859887-03:00",
    "dotnet_repl_cellExecutionTime": "38.3629ms",
    "dotnet_interactive": {
     "language": "fsharp"
    },
    "polyglot_notebook": {
     "kernelName": "fsharp"
    }
   },
   "outputs": [
    {
     "name": "stdout",
     "output_type": "stream",
     "text": [
      "Success\r\n",
      "      Item:       - h\r\n",
      "      - InputState\r\n",
      "          lines: [ hello ]\r\n",
      "          position: Position\r\n",
      "            line: 0\r\n",
      "            column: 1\r\n"
     ]
    }
   ],
   "source": [
    "//// test\n",
    "\n",
    "let input = fromStr \"hello\"\n",
    "let parser = satisfy (fun c -> c = 'H') \"H\"\n",
    "let parser2 = satisfy (fun c -> c = 'h') \"h\"\n",
    "let parser3 = choice [parser; parser2]\n",
    "runOnInput parser3 input |> _equal (\n",
    "    Success (\n",
    "        'h',\n",
    "        {\n",
    "            lines = [| \"hello\" |]\n",
    "            position = { line = 0; column = 1 }\n",
    "        }\n",
    "    )\n",
    ")"
   ]
  },
  {
   "cell_type": "code",
   "execution_count": null,
   "metadata": {
    "dotnet_repl_cellExecutionStartTime": "2023-07-11T01:13:27.7860411-03:00",
    "dotnet_repl_cellExecutionEndTime": "2023-07-11T01:13:27.8281602-03:00",
    "dotnet_repl_cellExecutionTime": "42.1205ms",
    "dotnet_interactive": {
     "language": "fsharp"
    },
    "polyglot_notebook": {
     "kernelName": "fsharp"
    }
   },
   "outputs": [],
   "source": [
    "let rec sequence parserList =\n",
    "    let cons head tail = head :: tail\n",
    "\n",
    "    let consP = lift2 cons\n",
    "\n",
    "    match parserList with\n",
    "    | [] -> returnP []\n",
    "    | head :: tail -> consP head (sequence tail)"
   ]
  },
  {
   "cell_type": "code",
   "execution_count": null,
   "metadata": {
    "dotnet_repl_cellExecutionStartTime": "2023-07-11T01:13:27.8281905-03:00",
    "dotnet_repl_cellExecutionEndTime": "2023-07-11T01:13:27.8821673-03:00",
    "dotnet_repl_cellExecutionTime": "53.9792ms",
    "dotnet_interactive": {
     "language": "fsharp"
    },
    "polyglot_notebook": {
     "kernelName": "fsharp"
    }
   },
   "outputs": [
    {
     "name": "stdout",
     "output_type": "stream",
     "text": [
      "Success\r\n",
      "      Item:       - [ H, e ]\r\n",
      "      - InputState\r\n",
      "          lines: [ Hello ]\r\n",
      "          position: Position\r\n",
      "            line: 0\r\n",
      "            column: 2\r\n"
     ]
    }
   ],
   "source": [
    "//// test\n",
    "\n",
    "let input = fromStr \"Hello\"\n",
    "let parser = satisfy (fun c -> c = 'H') \"H\"\n",
    "let parser2 = satisfy (fun c -> c = 'e') \"e\"\n",
    "let parser3 = sequence [parser; parser2]\n",
    "runOnInput parser3 input |> _equal (\n",
    "    Success (\n",
    "        ['H'; 'e'],\n",
    "        {\n",
    "            lines = [| \"Hello\" |]\n",
    "            position = { line = 0; column = 2 }\n",
    "        }\n",
    "    )\n",
    ")"
   ]
  },
  {
   "cell_type": "code",
   "execution_count": null,
   "metadata": {
    "dotnet_repl_cellExecutionStartTime": "2023-07-11T01:13:27.8822239-03:00",
    "dotnet_repl_cellExecutionEndTime": "2023-07-11T01:13:27.9003226-03:00",
    "dotnet_repl_cellExecutionTime": "18.1007ms",
    "dotnet_interactive": {
     "language": "fsharp"
    },
    "polyglot_notebook": {
     "kernelName": "fsharp"
    }
   },
   "outputs": [],
   "source": [
    "let rec parseZeroOrMore parser input =\n",
    "    let firstResult = runOnInput parser input\n",
    "    match firstResult with\n",
    "    | Failure (_, _, _) ->\n",
    "        [], input\n",
    "    | Success (firstValue, inputAfterFirstParse) ->\n",
    "        let (subsequentValues, remainingInput) =\n",
    "            parseZeroOrMore parser inputAfterFirstParse\n",
    "        let values = firstValue :: subsequentValues\n",
    "        values, remainingInput"
   ]
  },
  {
   "cell_type": "code",
   "execution_count": null,
   "metadata": {
    "dotnet_repl_cellExecutionStartTime": "2023-07-11T01:13:27.900368-03:00",
    "dotnet_repl_cellExecutionEndTime": "2023-07-11T01:13:27.9139053-03:00",
    "dotnet_repl_cellExecutionTime": "13.539ms",
    "dotnet_interactive": {
     "language": "fsharp"
    },
    "polyglot_notebook": {
     "kernelName": "fsharp"
    }
   },
   "outputs": [],
   "source": [
    "let many parser =\n",
    "    let label = $\"many {getLabel parser}\"\n",
    "    let innerFn input =\n",
    "        Success (parseZeroOrMore parser input)\n",
    "    { parseFn = innerFn; label = label }"
   ]
  },
  {
   "cell_type": "code",
   "execution_count": null,
   "metadata": {
    "dotnet_repl_cellExecutionStartTime": "2023-07-11T01:13:27.9139405-03:00",
    "dotnet_repl_cellExecutionEndTime": "2023-07-11T01:13:27.9436709-03:00",
    "dotnet_repl_cellExecutionTime": "29.7318ms",
    "dotnet_interactive": {
     "language": "fsharp"
    },
    "polyglot_notebook": {
     "kernelName": "fsharp"
    }
   },
   "outputs": [
    {
     "name": "stdout",
     "output_type": "stream",
     "text": [
      "Success\r\n",
      "      Item:       - [  ]\r\n",
      "      - InputState\r\n",
      "          lines: [ hello ]\r\n",
      "          position: Position\r\n",
      "            line: 0\r\n",
      "            column: 0\r\n"
     ]
    }
   ],
   "source": [
    "//// test\n",
    "\n",
    "let input = fromStr \"hello\"\n",
    "let parser = satisfy (fun c -> c = 'H') \"H\"\n",
    "let parser2 = many parser\n",
    "runOnInput parser2 input |> _equal (\n",
    "    Success (\n",
    "        [],\n",
    "        {\n",
    "            lines = [| \"hello\" |]\n",
    "            position = { line = 0; column = 0 }\n",
    "        }\n",
    "    )\n",
    ")"
   ]
  },
  {
   "cell_type": "code",
   "execution_count": null,
   "metadata": {
    "dotnet_repl_cellExecutionStartTime": "2023-07-11T01:13:27.9437057-03:00",
    "dotnet_repl_cellExecutionEndTime": "2023-07-11T01:13:27.9623488-03:00",
    "dotnet_repl_cellExecutionTime": "18.6445ms",
    "dotnet_interactive": {
     "language": "fsharp"
    },
    "polyglot_notebook": {
     "kernelName": "fsharp"
    }
   },
   "outputs": [],
   "source": [
    "let many1 p =\n",
    "    p >>=\n",
    "        fun head ->\n",
    "            many p >>=\n",
    "                fun tail ->\n",
    "                    returnP (head :: tail)\n",
    "    <?> $\"many1 {getLabel p}\""
   ]
  },
  {
   "cell_type": "code",
   "execution_count": null,
   "metadata": {
    "dotnet_repl_cellExecutionStartTime": "2023-07-11T01:13:27.9623793-03:00",
    "dotnet_repl_cellExecutionEndTime": "2023-07-11T01:13:27.991008-03:00",
    "dotnet_repl_cellExecutionTime": "28.6307ms",
    "dotnet_interactive": {
     "language": "fsharp"
    },
    "polyglot_notebook": {
     "kernelName": "fsharp"
    }
   },
   "outputs": [
    {
     "name": "stdout",
     "output_type": "stream",
     "text": [
      "Failure\r\n",
      "      Item1: many1 H\r\n",
      "      Item2: Unexpected 'h'\r\n",
      "      Item3: ParserPosition\r\n",
      "        currentLine: hello\r\n",
      "        line: 0\r\n",
      "        column: 0\r\n"
     ]
    }
   ],
   "source": [
    "//// test\n",
    "\n",
    "let input = fromStr \"hello\"\n",
    "let parser = satisfy (fun c -> c = 'H') \"H\"\n",
    "let parser2 = many1 parser\n",
    "runOnInput parser2 input |> _equal (\n",
    "    Failure (\n",
    "        \"many1 H\",\n",
    "        \"Unexpected 'h'\",\n",
    "        {\n",
    "            currentLine = \"hello\"\n",
    "            line = 0\n",
    "            column = 0\n",
    "        }\n",
    "    )\n",
    ")"
   ]
  },
  {
   "cell_type": "code",
   "execution_count": null,
   "metadata": {
    "dotnet_repl_cellExecutionStartTime": "2023-07-11T01:13:27.9910453-03:00",
    "dotnet_repl_cellExecutionEndTime": "2023-07-11T01:13:28.0126625-03:00",
    "dotnet_repl_cellExecutionTime": "21.6186ms",
    "dotnet_interactive": {
     "language": "fsharp"
    },
    "polyglot_notebook": {
     "kernelName": "fsharp"
    }
   },
   "outputs": [],
   "source": [
    "let opt p =\n",
    "    let some = p |>> Some\n",
    "    let none = returnP None\n",
    "    (some <|> none)\n",
    "    <?> $\"opt {getLabel p}\""
   ]
  },
  {
   "cell_type": "code",
   "execution_count": null,
   "metadata": {
    "dotnet_repl_cellExecutionStartTime": "2023-07-11T01:13:28.0126933-03:00",
    "dotnet_repl_cellExecutionEndTime": "2023-07-11T01:13:28.0443343-03:00",
    "dotnet_repl_cellExecutionTime": "31.6427ms",
    "dotnet_interactive": {
     "language": "fsharp"
    },
    "polyglot_notebook": {
     "kernelName": "fsharp"
    }
   },
   "outputs": [
    {
     "name": "stdout",
     "output_type": "stream",
     "text": [
      "Success\r\n",
      "      Item:       - <null>\r\n",
      "      - InputState\r\n",
      "          lines: [ hello ]\r\n",
      "          position: Position\r\n",
      "            line: 0\r\n",
      "            column: 0\r\n"
     ]
    }
   ],
   "source": [
    "//// test\n",
    "\n",
    "let input = fromStr \"hello\"\n",
    "let parser = satisfy (fun c -> c = 'H') \"H\"\n",
    "let parser2 = opt parser\n",
    "runOnInput parser2 input |> _equal (\n",
    "    Success (\n",
    "        None,\n",
    "        {\n",
    "            lines = [| \"hello\" |]\n",
    "            position = { line = 0; column = 0 }\n",
    "        }\n",
    "    )\n",
    ")"
   ]
  },
  {
   "cell_type": "code",
   "execution_count": null,
   "metadata": {
    "dotnet_repl_cellExecutionStartTime": "2023-07-11T01:13:28.04437-03:00",
    "dotnet_repl_cellExecutionEndTime": "2023-07-11T01:13:28.0550265-03:00",
    "dotnet_repl_cellExecutionTime": "10.6581ms",
    "dotnet_interactive": {
     "language": "fsharp"
    },
    "polyglot_notebook": {
     "kernelName": "fsharp"
    }
   },
   "outputs": [],
   "source": [
    "let (.>>) p1 p2 =\n",
    "    p1 .>>. p2\n",
    "    |> mapP fst"
   ]
  },
  {
   "cell_type": "code",
   "execution_count": null,
   "metadata": {
    "dotnet_repl_cellExecutionStartTime": "2023-07-11T01:13:28.0550599-03:00",
    "dotnet_repl_cellExecutionEndTime": "2023-07-11T01:13:28.0664091-03:00",
    "dotnet_repl_cellExecutionTime": "11.3508ms",
    "dotnet_interactive": {
     "language": "fsharp"
    },
    "polyglot_notebook": {
     "kernelName": "fsharp"
    }
   },
   "outputs": [],
   "source": [
    "let (>>.) p1 p2 =\n",
    "    p1 .>>. p2\n",
    "    |> mapP snd"
   ]
  },
  {
   "cell_type": "code",
   "execution_count": null,
   "metadata": {
    "dotnet_repl_cellExecutionStartTime": "2023-07-11T01:13:28.0664507-03:00",
    "dotnet_repl_cellExecutionEndTime": "2023-07-11T01:13:28.0875556-03:00",
    "dotnet_repl_cellExecutionTime": "21.1065ms",
    "dotnet_interactive": {
     "language": "fsharp"
    },
    "polyglot_notebook": {
     "kernelName": "fsharp"
    }
   },
   "outputs": [],
   "source": [
    "let between p1 p2 p3 =\n",
    "    p1 >>. p2 .>> p3"
   ]
  },
  {
   "cell_type": "code",
   "execution_count": null,
   "metadata": {
    "dotnet_repl_cellExecutionStartTime": "2023-07-11T01:13:28.0875873-03:00",
    "dotnet_repl_cellExecutionEndTime": "2023-07-11T01:13:28.2097-03:00",
    "dotnet_repl_cellExecutionTime": "122.1142ms",
    "dotnet_interactive": {
     "language": "fsharp"
    },
    "polyglot_notebook": {
     "kernelName": "fsharp"
    }
   },
   "outputs": [
    {
     "name": "stdout",
     "output_type": "stream",
     "text": [
      "Success\r\n",
      "      Item:       - [ H, e, l, l, o ]\r\n",
      "      - InputState\r\n",
      "          lines: [ [Hello] ]\r\n",
      "          position: Position\r\n",
      "            line: 0\r\n",
      "            column: 7\r\n"
     ]
    }
   ],
   "source": [
    "//// test\n",
    "\n",
    "let input = fromStr \"[Hello]\"\n",
    "let parser =\n",
    "    between\n",
    "        (satisfy (fun c -> c = '[') \"[\")\n",
    "        (many (satisfy (fun c -> ['a'..'z'] @ ['A'..'Z'] |> List.contains c) \"letter\"))\n",
    "        (satisfy (fun c -> c = ']') \"]\")\n",
    "runOnInput parser input |> _equal (\n",
    "    Success (\n",
    "        ['H'; 'e'; 'l'; 'l'; 'o'],\n",
    "        {\n",
    "            lines = [| \"[Hello]\" |]\n",
    "            position = { line = 0; column = 7 }\n",
    "        }\n",
    "    )\n",
    ")"
   ]
  },
  {
   "cell_type": "code",
   "execution_count": null,
   "metadata": {
    "dotnet_repl_cellExecutionStartTime": "2023-07-11T01:13:28.209751-03:00",
    "dotnet_repl_cellExecutionEndTime": "2023-07-11T01:13:28.2284243-03:00",
    "dotnet_repl_cellExecutionTime": "18.6748ms",
    "dotnet_interactive": {
     "language": "fsharp"
    },
    "polyglot_notebook": {
     "kernelName": "fsharp"
    }
   },
   "outputs": [],
   "source": [
    "let sepBy1 p sep =\n",
    "    let sepThenP = sep >>. p\n",
    "    p .>>. many sepThenP\n",
    "    |>> fun (p, pList) -> p :: pList"
   ]
  },
  {
   "cell_type": "code",
   "execution_count": null,
   "metadata": {
    "dotnet_repl_cellExecutionStartTime": "2023-07-11T01:13:28.228465-03:00",
    "dotnet_repl_cellExecutionEndTime": "2023-07-11T01:13:28.2491101-03:00",
    "dotnet_repl_cellExecutionTime": "20.647ms",
    "dotnet_interactive": {
     "language": "fsharp"
    },
    "polyglot_notebook": {
     "kernelName": "fsharp"
    }
   },
   "outputs": [],
   "source": [
    "let sepBy p sep =\n",
    "    sepBy1 p sep <|> returnP []"
   ]
  },
  {
   "cell_type": "code",
   "execution_count": null,
   "metadata": {
    "dotnet_repl_cellExecutionStartTime": "2023-07-11T01:13:28.2491421-03:00",
    "dotnet_repl_cellExecutionEndTime": "2023-07-11T01:13:28.3118304-03:00",
    "dotnet_repl_cellExecutionTime": "62.69ms",
    "dotnet_interactive": {
     "language": "fsharp"
    },
    "polyglot_notebook": {
     "kernelName": "fsharp"
    }
   },
   "outputs": [
    {
     "name": "stdout",
     "output_type": "stream",
     "text": [
      "Success\r\n",
      "      Item:       - FSharpList<FSharpList<Char>>\r\n",
      "[ H, e, l, l, o ]\r\n",
      "[ W, o, r, l, d, \n",
      " ]\r\n",
      "      - InputState\r\n",
      "          lines: [ Hello,World ]\r\n",
      "          position: Position\r\n",
      "            line: 1\r\n",
      "            column: 0\r\n"
     ]
    }
   ],
   "source": [
    "//// test\n",
    "\n",
    "let input = fromStr \"Hello,World\"\n",
    "let parser = sepBy (many (satisfy (fun c -> c <> ',') \"not comma\")) (satisfy (fun c -> c = ',') \"comma\")\n",
    "runOnInput parser input |> _equal (\n",
    "    Success (\n",
    "        [['H'; 'e'; 'l'; 'l'; 'o']; ['W'; 'o'; 'r'; 'l'; 'd'; '\\n']],\n",
    "        {\n",
    "            lines = [| \"Hello,World\" |]\n",
    "            position = { line = 1; column = 0 }\n",
    "        }\n",
    "    )\n",
    ")"
   ]
  },
  {
   "cell_type": "code",
   "execution_count": null,
   "metadata": {
    "dotnet_repl_cellExecutionStartTime": "2023-07-11T01:13:28.3118633-03:00",
    "dotnet_repl_cellExecutionEndTime": "2023-07-11T01:13:28.3223025-03:00",
    "dotnet_repl_cellExecutionTime": "10.4408ms",
    "dotnet_interactive": {
     "language": "fsharp"
    },
    "polyglot_notebook": {
     "kernelName": "fsharp"
    }
   },
   "outputs": [],
   "source": [
    "let pchar charToMatch =\n",
    "    let predicate ch = ch = charToMatch\n",
    "    satisfy predicate $\"%c{charToMatch}\""
   ]
  },
  {
   "cell_type": "code",
   "execution_count": null,
   "metadata": {
    "dotnet_repl_cellExecutionStartTime": "2023-07-11T01:13:28.3223518-03:00",
    "dotnet_repl_cellExecutionEndTime": "2023-07-11T01:13:28.3370138-03:00",
    "dotnet_repl_cellExecutionTime": "14.6634ms",
    "dotnet_interactive": {
     "language": "fsharp"
    },
    "polyglot_notebook": {
     "kernelName": "fsharp"
    }
   },
   "outputs": [],
   "source": [
    "let anyOf listOfChars =\n",
    "    listOfChars\n",
    "    |> List.map pchar\n",
    "    |> choice\n",
    "    <?> $\"anyOf %A{listOfChars}\""
   ]
  },
  {
   "cell_type": "code",
   "execution_count": null,
   "metadata": {
    "dotnet_repl_cellExecutionStartTime": "2023-07-11T01:13:28.3370517-03:00",
    "dotnet_repl_cellExecutionEndTime": "2023-07-11T01:13:28.3716744-03:00",
    "dotnet_repl_cellExecutionTime": "34.6243ms",
    "dotnet_interactive": {
     "language": "fsharp"
    },
    "polyglot_notebook": {
     "kernelName": "fsharp"
    }
   },
   "outputs": [
    {
     "name": "stdout",
     "output_type": "stream",
     "text": [
      "Success\r\n",
      "      Item:       - [ H, e, l, l, o ]\r\n",
      "      - InputState\r\n",
      "          lines: [ Hello ]\r\n",
      "          position: Position\r\n",
      "            line: 0\r\n",
      "            column: 5\r\n"
     ]
    }
   ],
   "source": [
    "//// test\n",
    "\n",
    "let input = fromStr \"Hello\"\n",
    "let parser = anyOf ['H'; 'e'; 'l'; 'o'] |> many\n",
    "runOnInput parser input |> _equal (\n",
    "    Success (\n",
    "        ['H'; 'e'; 'l'; 'l'; 'o'],\n",
    "        {\n",
    "            lines = [| \"Hello\" |]\n",
    "            position = { line = 0; column = 5 }\n",
    "        }\n",
    "    )\n",
    ")"
   ]
  },
  {
   "cell_type": "code",
   "execution_count": null,
   "metadata": {
    "dotnet_repl_cellExecutionStartTime": "2023-07-11T01:13:28.3717088-03:00",
    "dotnet_repl_cellExecutionEndTime": "2023-07-11T01:13:28.3897506-03:00",
    "dotnet_repl_cellExecutionTime": "18.0435ms",
    "dotnet_interactive": {
     "language": "fsharp"
    },
    "polyglot_notebook": {
     "kernelName": "fsharp"
    }
   },
   "outputs": [],
   "source": [
    "let charListToStr charList =\n",
    "    charList |> List.toArray |> String"
   ]
  },
  {
   "cell_type": "code",
   "execution_count": null,
   "metadata": {
    "dotnet_repl_cellExecutionStartTime": "2023-07-11T01:13:28.3897825-03:00",
    "dotnet_repl_cellExecutionEndTime": "2023-07-11T01:13:28.400733-03:00",
    "dotnet_repl_cellExecutionTime": "10.9521ms",
    "dotnet_interactive": {
     "language": "fsharp"
    },
    "polyglot_notebook": {
     "kernelName": "fsharp"
    }
   },
   "outputs": [],
   "source": [
    "let manyChars cp =\n",
    "    many cp\n",
    "    |>> charListToStr"
   ]
  },
  {
   "cell_type": "code",
   "execution_count": null,
   "metadata": {
    "dotnet_repl_cellExecutionStartTime": "2023-07-11T01:13:28.400766-03:00",
    "dotnet_repl_cellExecutionEndTime": "2023-07-11T01:13:28.4136543-03:00",
    "dotnet_repl_cellExecutionTime": "12.8897ms",
    "dotnet_interactive": {
     "language": "fsharp"
    },
    "polyglot_notebook": {
     "kernelName": "fsharp"
    }
   },
   "outputs": [],
   "source": [
    "let manyChars1 cp =\n",
    "    many1 cp\n",
    "    |>> charListToStr"
   ]
  },
  {
   "cell_type": "code",
   "execution_count": null,
   "metadata": {
    "dotnet_repl_cellExecutionStartTime": "2023-07-11T01:13:28.4136843-03:00",
    "dotnet_repl_cellExecutionEndTime": "2023-07-11T01:13:28.4428545-03:00",
    "dotnet_repl_cellExecutionTime": "29.172ms",
    "dotnet_interactive": {
     "language": "fsharp"
    },
    "polyglot_notebook": {
     "kernelName": "fsharp"
    }
   },
   "outputs": [
    {
     "name": "stdout",
     "output_type": "stream",
     "text": [
      "Success\r\n",
      "      Item:       - Hello\r\n",
      "      - InputState\r\n",
      "          lines: [ Hello ]\r\n",
      "          position: Position\r\n",
      "            line: 0\r\n",
      "            column: 5\r\n"
     ]
    }
   ],
   "source": [
    "//// test\n",
    "\n",
    "let input = fromStr \"Hello\"\n",
    "let parser = manyChars1 (anyOf ['H'; 'e'; 'l'; 'o'])\n",
    "runOnInput parser input |> _equal (\n",
    "    Success (\n",
    "        \"Hello\",\n",
    "        {\n",
    "            lines = [| \"Hello\" |]\n",
    "            position = { line = 0; column = 5 }\n",
    "        }\n",
    "    )\n",
    ")"
   ]
  },
  {
   "cell_type": "code",
   "execution_count": null,
   "metadata": {
    "dotnet_repl_cellExecutionStartTime": "2023-07-11T01:13:28.4428944-03:00",
    "dotnet_repl_cellExecutionEndTime": "2023-07-11T01:13:28.4582044-03:00",
    "dotnet_repl_cellExecutionTime": "15.3114ms",
    "dotnet_interactive": {
     "language": "fsharp"
    },
    "polyglot_notebook": {
     "kernelName": "fsharp"
    }
   },
   "outputs": [],
   "source": [
    "let pstring str =\n",
    "    str\n",
    "    |> List.ofSeq\n",
    "    |> List.map pchar\n",
    "    |> sequence\n",
    "    |> mapP charListToStr\n",
    "    <?> str"
   ]
  },
  {
   "cell_type": "code",
   "execution_count": null,
   "metadata": {
    "dotnet_repl_cellExecutionStartTime": "2023-07-11T01:13:28.4582464-03:00",
    "dotnet_repl_cellExecutionEndTime": "2023-07-11T01:13:28.4811304-03:00",
    "dotnet_repl_cellExecutionTime": "22.8862ms",
    "dotnet_interactive": {
     "language": "fsharp"
    },
    "polyglot_notebook": {
     "kernelName": "fsharp"
    }
   },
   "outputs": [
    {
     "name": "stdout",
     "output_type": "stream",
     "text": [
      "Success\r\n",
      "      Item:       - Hello\r\n",
      "      - InputState\r\n",
      "          lines: [ Hello ]\r\n",
      "          position: Position\r\n",
      "            line: 0\r\n",
      "            column: 5\r\n"
     ]
    }
   ],
   "source": [
    "//// test\n",
    "\n",
    "let input = fromStr \"Hello\"\n",
    "let parser = pstring \"Hello\"\n",
    "runOnInput parser input |> _equal (\n",
    "    Success (\n",
    "        \"Hello\",\n",
    "        {\n",
    "            lines = [| \"Hello\" |]\n",
    "            position = { line = 0; column = 5 }\n",
    "        }\n",
    "    )\n",
    ")"
   ]
  },
  {
   "cell_type": "code",
   "execution_count": null,
   "metadata": {
    "dotnet_repl_cellExecutionStartTime": "2023-07-11T01:13:28.4811771-03:00",
    "dotnet_repl_cellExecutionEndTime": "2023-07-11T01:13:28.4933776-03:00",
    "dotnet_repl_cellExecutionTime": "12.202ms",
    "dotnet_interactive": {
     "language": "fsharp"
    },
    "polyglot_notebook": {
     "kernelName": "fsharp"
    }
   },
   "outputs": [],
   "source": [
    "let whitespaceChar =\n",
    "    satisfy Char.IsWhiteSpace \"whitespace\""
   ]
  },
  {
   "cell_type": "code",
   "execution_count": null,
   "metadata": {
    "dotnet_repl_cellExecutionStartTime": "2023-07-11T01:13:28.4934159-03:00",
    "dotnet_repl_cellExecutionEndTime": "2023-07-11T01:13:28.5024148-03:00",
    "dotnet_repl_cellExecutionTime": "9.0006ms",
    "dotnet_interactive": {
     "language": "fsharp"
    },
    "polyglot_notebook": {
     "kernelName": "fsharp"
    }
   },
   "outputs": [],
   "source": [
    "let spaces = many whitespaceChar"
   ]
  },
  {
   "cell_type": "code",
   "execution_count": null,
   "metadata": {
    "dotnet_repl_cellExecutionStartTime": "2023-07-11T01:13:28.5024527-03:00",
    "dotnet_repl_cellExecutionEndTime": "2023-07-11T01:13:28.5111852-03:00",
    "dotnet_repl_cellExecutionTime": "8.7341ms",
    "dotnet_interactive": {
     "language": "fsharp"
    },
    "polyglot_notebook": {
     "kernelName": "fsharp"
    }
   },
   "outputs": [],
   "source": [
    "let spaces1 = many1 whitespaceChar"
   ]
  },
  {
   "cell_type": "code",
   "execution_count": null,
   "metadata": {
    "dotnet_repl_cellExecutionStartTime": "2023-07-11T01:13:28.5112232-03:00",
    "dotnet_repl_cellExecutionEndTime": "2023-07-11T01:13:28.5440915-03:00",
    "dotnet_repl_cellExecutionTime": "32.8695ms",
    "dotnet_interactive": {
     "language": "fsharp"
    },
    "polyglot_notebook": {
     "kernelName": "fsharp"
    }
   },
   "outputs": [
    {
     "name": "stdout",
     "output_type": "stream",
     "text": [
      "Success\r\n",
      "      Item:       -         - [  ,   ]\r\n",
      "        - Hello\r\n",
      "      - InputState\r\n",
      "          lines: [   Hello ]\r\n",
      "          position: Position\r\n",
      "            line: 0\r\n",
      "            column: 7\r\n"
     ]
    }
   ],
   "source": [
    "//// test\n",
    "\n",
    "let input = fromStr \"  Hello\"\n",
    "let parser = spaces1 .>>. pstring \"Hello\"\n",
    "runOnInput parser input |> _equal (\n",
    "    Success (\n",
    "        ([' '; ' '], \"Hello\"),\n",
    "        {\n",
    "            lines = [| \"  Hello\" |]\n",
    "            position = { line = 0; column = 7 }\n",
    "        }\n",
    "    )\n",
    ")"
   ]
  },
  {
   "cell_type": "code",
   "execution_count": null,
   "metadata": {
    "dotnet_repl_cellExecutionStartTime": "2023-07-11T01:13:28.5441259-03:00",
    "dotnet_repl_cellExecutionEndTime": "2023-07-11T01:13:28.5535534-03:00",
    "dotnet_repl_cellExecutionTime": "9.4291ms",
    "dotnet_interactive": {
     "language": "fsharp"
    },
    "polyglot_notebook": {
     "kernelName": "fsharp"
    }
   },
   "outputs": [],
   "source": [
    "let digitChar =\n",
    "    satisfy Char.IsDigit \"digit\""
   ]
  },
  {
   "cell_type": "code",
   "execution_count": null,
   "metadata": {
    "dotnet_repl_cellExecutionStartTime": "2023-07-11T01:13:28.553593-03:00",
    "dotnet_repl_cellExecutionEndTime": "2023-07-11T01:13:28.5759019-03:00",
    "dotnet_repl_cellExecutionTime": "22.31ms",
    "dotnet_interactive": {
     "language": "fsharp"
    },
    "polyglot_notebook": {
     "kernelName": "fsharp"
    }
   },
   "outputs": [
    {
     "name": "stdout",
     "output_type": "stream",
     "text": [
      "Failure\r\n",
      "      Item1: digit\r\n",
      "      Item2: Unexpected 'H'\r\n",
      "      Item3: ParserPosition\r\n",
      "        currentLine: Hello\r\n",
      "        line: 0\r\n",
      "        column: 0\r\n"
     ]
    }
   ],
   "source": [
    "//// test\n",
    "\n",
    "let input = fromStr \"Hello\"\n",
    "let parser = digitChar\n",
    "runOnInput parser input |> _equal (\n",
    "    Failure (\n",
    "        \"digit\",\n",
    "        \"Unexpected 'H'\",\n",
    "        {\n",
    "            currentLine = \"Hello\"\n",
    "            line = 0\n",
    "            column = 0\n",
    "        }\n",
    "    )\n",
    ")"
   ]
  },
  {
   "cell_type": "code",
   "execution_count": null,
   "metadata": {
    "dotnet_repl_cellExecutionStartTime": "2023-07-11T01:13:28.575936-03:00",
    "dotnet_repl_cellExecutionEndTime": "2023-07-11T01:13:28.6098011-03:00",
    "dotnet_repl_cellExecutionTime": "33.8678ms",
    "dotnet_interactive": {
     "language": "fsharp"
    },
    "polyglot_notebook": {
     "kernelName": "fsharp"
    }
   },
   "outputs": [],
   "source": [
    "let pint =\n",
    "    let resultToInt (sign, digits) =\n",
    "        let i = int digits\n",
    "        match sign with\n",
    "        | Some ch -> -i\n",
    "        | None -> i\n",
    "\n",
    "    let digits = manyChars1 digitChar\n",
    "\n",
    "    opt (pchar '-') .>>. digits\n",
    "    |> mapP resultToInt\n",
    "    <?> \"integer\""
   ]
  },
  {
   "cell_type": "code",
   "execution_count": null,
   "metadata": {
    "dotnet_repl_cellExecutionStartTime": "2023-07-11T01:13:28.609841-03:00",
    "dotnet_repl_cellExecutionEndTime": "2023-07-11T01:13:28.6406224-03:00",
    "dotnet_repl_cellExecutionTime": "30.7839ms",
    "dotnet_interactive": {
     "language": "fsharp"
    },
    "polyglot_notebook": {
     "kernelName": "fsharp"
    }
   },
   "outputs": [
    {
     "name": "stdout",
     "output_type": "stream",
     "text": [
      "Success\r\n",
      "      Item:       - -123\r\n",
      "      - InputState\r\n",
      "          lines: [ -123 ]\r\n",
      "          position: Position\r\n",
      "            line: 0\r\n",
      "            column: 4\r\n"
     ]
    }
   ],
   "source": [
    "//// test\n",
    "\n",
    "run pint \"-123\"\n",
    "|> _equal (\n",
    "    Success (\n",
    "        -123,\n",
    "        {\n",
    "            lines = [| \"-123\" |]\n",
    "            position = { line = 0; column = 4 }\n",
    "        }\n",
    "    )\n",
    ")"
   ]
  },
  {
   "cell_type": "code",
   "execution_count": null,
   "metadata": {
    "dotnet_repl_cellExecutionStartTime": "2023-07-11T01:13:28.6406712-03:00",
    "dotnet_repl_cellExecutionEndTime": "2023-07-11T01:13:28.675748-03:00",
    "dotnet_repl_cellExecutionTime": "35.0783ms",
    "dotnet_interactive": {
     "language": "fsharp"
    },
    "polyglot_notebook": {
     "kernelName": "fsharp"
    }
   },
   "outputs": [],
   "source": [
    "let pfloat =\n",
    "    let resultToFloat (((sign, digits1), point), digits2) =\n",
    "        let fl = float $\"{digits1}.{digits2}\"\n",
    "        match sign with\n",
    "        | Some ch -> -fl\n",
    "        | None -> fl\n",
    "\n",
    "    let digits = manyChars1 digitChar\n",
    "\n",
    "    opt (pchar '-') .>>. digits .>>. pchar '.' .>>. digits\n",
    "    |> mapP resultToFloat\n",
    "    <?> \"float\""
   ]
  },
  {
   "cell_type": "code",
   "execution_count": null,
   "metadata": {
    "dotnet_repl_cellExecutionStartTime": "2023-07-11T01:13:28.6757868-03:00",
    "dotnet_repl_cellExecutionEndTime": "2023-07-11T01:13:28.7066422-03:00",
    "dotnet_repl_cellExecutionTime": "30.8569ms",
    "dotnet_interactive": {
     "language": "fsharp"
    },
    "polyglot_notebook": {
     "kernelName": "fsharp"
    }
   },
   "outputs": [
    {
     "name": "stdout",
     "output_type": "stream",
     "text": [
      "Success\r\n",
      "      Item:       - -123.45\r\n",
      "      - InputState\r\n",
      "          lines: [ -123.45 ]\r\n",
      "          position: Position\r\n",
      "            line: 0\r\n",
      "            column: 7\r\n"
     ]
    }
   ],
   "source": [
    "//// test\n",
    "\n",
    "run pfloat \"-123.45\"\n",
    "|> _equal (\n",
    "    Success (\n",
    "        -123.45,\n",
    "        {\n",
    "            lines = [| \"-123.45\" |]\n",
    "            position = { line = 0; column = 7 }\n",
    "        }\n",
    "    )\n",
    ")"
   ]
  },
  {
   "cell_type": "code",
   "execution_count": null,
   "metadata": {
    "dotnet_repl_cellExecutionStartTime": "2023-07-11T01:13:28.7066785-03:00",
    "dotnet_repl_cellExecutionEndTime": "2023-07-11T01:13:28.7837123-03:00",
    "dotnet_repl_cellExecutionTime": "77.036ms",
    "dotnet_interactive": {
     "language": "fsharp"
    },
    "polyglot_notebook": {
     "kernelName": "fsharp"
    }
   },
   "outputs": [],
   "source": [
    "let createParserForwardedToRef<'a> () =\n",
    "    let dummyParser : Parser<'a> =\n",
    "        let innerFn _ = failwith \"unfixed forwarded parser\"\n",
    "        { parseFn = innerFn; label = \"unknown\" }\n",
    "\n",
    "    let mutable parserRef = dummyParser\n",
    "\n",
    "    let innerFn input =\n",
    "        runOnInput parserRef input\n",
    "\n",
    "    let wrapperParser = { parseFn = innerFn; label = \"unknown\" }\n",
    "    \n",
    "    wrapperParser, (fun v -> parserRef <- v)"
   ]
  },
  {
   "cell_type": "code",
   "execution_count": null,
   "metadata": {
    "dotnet_repl_cellExecutionStartTime": "2023-07-11T01:13:28.7837655-03:00",
    "dotnet_repl_cellExecutionEndTime": "2023-07-11T01:13:28.794221-03:00",
    "dotnet_repl_cellExecutionTime": "10.4574ms",
    "dotnet_interactive": {
     "language": "fsharp"
    },
    "polyglot_notebook": {
     "kernelName": "fsharp"
    }
   },
   "outputs": [],
   "source": [
    "let (>>%) p x =\n",
    "    p\n",
    "    |>> fun _ -> x"
   ]
  }
 ],
 "metadata": {
  "kernelspec": {
   "display_name": ".NET (C#)",
   "language": "C#",
   "name": ".net-csharp"
  },
  "language_info": {
   "file_extension": ".cs",
   "mimetype": "text/x-csharp",
   "name": "C#",
   "pygments_lexer": "csharp",
   "version": "10.0"
  },
  "polyglot_notebook": {
   "defaultKernelName": "csharp",
   "items": [
    {
     "name": "csharp"
    }
   ]
  },
  "dotnet_interactive": {
   "defaultKernelName": "csharp",
   "items": [
    {
     "name": "csharp"
    }
   ]
  }
 },
 "nbformat": 4,
 "nbformat_minor": 5
}