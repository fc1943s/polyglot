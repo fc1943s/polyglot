{
 "cells": [
  {
   "cell_type": "code",
   "execution_count": null,
   "metadata": {
    "dotnet_repl_cellExecutionStartTime": "2023-07-18T02:59:55.1191089-03:00",
    "dotnet_repl_cellExecutionEndTime": "2023-07-18T03:00:07.4425089-03:00",
    "dotnet_repl_cellExecutionTime": "12.323402s",
    "dotnet_interactive": {
     "language": "fsharp"
    },
    "polyglot_notebook": {
     "kernelName": "fsharp"
    }
   },
   "outputs": [
    {
     "data": {
      "text/markdown": [
       "# Common (Polyglot)"
      ]
     },
     "metadata": {},
     "output_type": "display_data"
    },
    {
     "data": {
      "text/html": [
       "<div><div></div><div><strong>Installing Packages</strong><ul><li><span>Expecto</span></li></ul></div><div></div></div>"
      ]
     },
     "metadata": {},
     "output_type": "display_data"
    },
    {
     "data": {
      "text/html": [
       "<div><div></div><div><strong>Installing Packages</strong><ul><li><span>Expecto.</span></li></ul></div><div></div></div>"
      ]
     },
     "metadata": {},
     "output_type": "display_data"
    },
    {
     "data": {
      "text/html": [
       "<div><div></div><div><strong>Installing Packages</strong><ul><li><span>Expecto..</span></li></ul></div><div></div></div>"
      ]
     },
     "metadata": {},
     "output_type": "display_data"
    },
    {
     "data": {
      "text/html": [
       "<div><div></div><div><strong>Installing Packages</strong><ul><li><span>Expecto...</span></li></ul></div><div></div></div>"
      ]
     },
     "metadata": {},
     "output_type": "display_data"
    },
    {
     "data": {
      "text/html": [
       "<div><div></div><div><strong>Installing Packages</strong><ul><li><span>Expecto....</span></li></ul></div><div></div></div>"
      ]
     },
     "metadata": {},
     "output_type": "display_data"
    },
    {
     "data": {
      "text/html": [
       "<div><div></div><div><strong>Installing Packages</strong><ul><li><span>Expecto.....</span></li></ul></div><div></div></div>"
      ]
     },
     "metadata": {},
     "output_type": "display_data"
    },
    {
     "data": {
      "text/html": [
       "<div><div></div><div><strong>Installing Packages</strong><ul><li><span>Expecto......</span></li></ul></div><div></div></div>"
      ]
     },
     "metadata": {},
     "output_type": "display_data"
    },
    {
     "data": {
      "text/html": [
       "<div><div></div><div><strong>Installing Packages</strong><ul><li><span>Expecto.......</span></li></ul></div><div></div></div>"
      ]
     },
     "metadata": {},
     "output_type": "display_data"
    },
    {
     "data": {
      "text/html": [
       "<div><div></div><div></div><div><strong>Installed Packages</strong><ul><li><span>Expecto, 10.1.0</span></li></ul></div></div>"
      ]
     },
     "metadata": {},
     "output_type": "display_data"
    },
    {
     "data": {
      "text/html": [
       "<div class=\"dni-plaintext\"><pre>True</pre></div><style>\r\n",
       ".dni-code-hint {\r\n",
       "    font-style: italic;\r\n",
       "    overflow: hidden;\r\n",
       "    white-space: nowrap;\r\n",
       "}\r\n",
       ".dni-treeview {\r\n",
       "    white-space: nowrap;\r\n",
       "}\r\n",
       ".dni-treeview td {\r\n",
       "    vertical-align: top;\r\n",
       "    text-align: start;\r\n",
       "}\r\n",
       "details.dni-treeview {\r\n",
       "    padding-left: 1em;\r\n",
       "}\r\n",
       "table td {\r\n",
       "    text-align: start;\r\n",
       "}\r\n",
       "table tr { \r\n",
       "    vertical-align: top; \r\n",
       "    margin: 0em 0px;\r\n",
       "}\r\n",
       "table tr td pre \r\n",
       "{ \r\n",
       "    vertical-align: top !important; \r\n",
       "    margin: 0em 0px !important;\r\n",
       "} \r\n",
       "table th {\r\n",
       "    text-align: start;\r\n",
       "}\r\n",
       "</style>"
      ]
     },
     "metadata": {},
     "output_type": "display_data"
    },
    {
     "name": "stdout",
     "output_type": "stream",
     "text": [
      "00010101-0000-0000-0000-0a9876543210\r\n",
      "99991231-2359-5999-9999-9a9876543210\r\n",
      "19700101-0000-0000-0000-0a9876543210\r\n",
      "0001-01-01 00:00:00Z\r\n",
      "9999-12-31 23:59:59Z\r\n",
      "1970-01-01 00:00:00Z\r\n",
      "00000000-0000-0000-00dc-ba9876543210\r\n",
      "99999999-9999-9999-99dc-ba9876543210\r\n",
      "0\r\n",
      "999999999999999999\r\n",
      "0\r\n",
      "0\r\n",
      "03:00:07 #1 [Debug] test\r\n",
      "1\r\n",
      "1\r\n",
      "1\r\n",
      "0\r\n"
     ]
    }
   ],
   "source": [
    "#!import ../nbs/Common.dib"
   ]
  },
  {
   "cell_type": "markdown",
   "metadata": {
    "dotnet_repl_cellExecutionStartTime": "2023-07-18T03:00:07.4436368-03:00",
    "dotnet_repl_cellExecutionEndTime": "2023-07-18T03:00:07.4477799-03:00",
    "dotnet_repl_cellExecutionTime": "4.1444ms"
   },
   "source": [
    "## Parser"
   ]
  },
  {
   "cell_type": "code",
   "execution_count": null,
   "metadata": {
    "dotnet_repl_cellExecutionStartTime": "2023-07-18T03:00:07.4478815-03:00",
    "dotnet_repl_cellExecutionEndTime": "2023-07-18T03:00:07.4518828-03:00",
    "dotnet_repl_cellExecutionTime": "4.0023ms",
    "dotnet_interactive": {
     "language": "fsharp"
    },
    "polyglot_notebook": {
     "kernelName": "fsharp"
    }
   },
   "outputs": [],
   "source": [
    "// open System"
   ]
  },
  {
   "cell_type": "markdown",
   "metadata": {
    "dotnet_repl_cellExecutionStartTime": "2023-07-18T03:00:07.4519058-03:00",
    "dotnet_repl_cellExecutionEndTime": "2023-07-18T03:00:07.4553793-03:00",
    "dotnet_repl_cellExecutionTime": "3.476ms"
   },
   "source": [
    "### TextInput"
   ]
  },
  {
   "cell_type": "code",
   "execution_count": null,
   "metadata": {
    "dotnet_repl_cellExecutionStartTime": "2023-07-18T03:00:07.455415-03:00",
    "dotnet_repl_cellExecutionEndTime": "2023-07-18T03:00:07.5060874-03:00",
    "dotnet_repl_cellExecutionTime": "50.6743ms",
    "dotnet_interactive": {
     "language": "fsharp"
    },
    "polyglot_notebook": {
     "kernelName": "fsharp"
    }
   },
   "outputs": [],
   "source": [
    "type Position =\n",
    "    {\n",
    "        line : int\n",
    "        column : int\n",
    "    }"
   ]
  },
  {
   "cell_type": "code",
   "execution_count": null,
   "metadata": {
    "dotnet_repl_cellExecutionStartTime": "2023-07-18T03:00:07.5061208-03:00",
    "dotnet_repl_cellExecutionEndTime": "2023-07-18T03:00:07.5493243-03:00",
    "dotnet_repl_cellExecutionTime": "43.2054ms",
    "dotnet_interactive": {
     "language": "fsharp"
    },
    "polyglot_notebook": {
     "kernelName": "fsharp"
    }
   },
   "outputs": [],
   "source": [
    "let initialPos = { line = 0; column = 0 }"
   ]
  },
  {
   "cell_type": "code",
   "execution_count": null,
   "metadata": {
    "dotnet_repl_cellExecutionStartTime": "2023-07-18T03:00:07.5493662-03:00",
    "dotnet_repl_cellExecutionEndTime": "2023-07-18T03:00:07.5630817-03:00",
    "dotnet_repl_cellExecutionTime": "13.7179ms",
    "dotnet_interactive": {
     "language": "fsharp"
    },
    "polyglot_notebook": {
     "kernelName": "fsharp"
    }
   },
   "outputs": [],
   "source": [
    "let incrCol (pos : Position) =\n",
    "    { pos with column = pos.column + 1 }"
   ]
  },
  {
   "cell_type": "code",
   "execution_count": null,
   "metadata": {
    "dotnet_repl_cellExecutionStartTime": "2023-07-18T03:00:07.5631253-03:00",
    "dotnet_repl_cellExecutionEndTime": "2023-07-18T03:00:07.5726325-03:00",
    "dotnet_repl_cellExecutionTime": "9.5091ms",
    "dotnet_interactive": {
     "language": "fsharp"
    },
    "polyglot_notebook": {
     "kernelName": "fsharp"
    }
   },
   "outputs": [],
   "source": [
    "let incrLine pos =\n",
    "    { line = pos.line + 1; column = 0 }"
   ]
  },
  {
   "cell_type": "code",
   "execution_count": null,
   "metadata": {
    "dotnet_repl_cellExecutionStartTime": "2023-07-18T03:00:07.572666-03:00",
    "dotnet_repl_cellExecutionEndTime": "2023-07-18T03:00:07.6086552-03:00",
    "dotnet_repl_cellExecutionTime": "35.9915ms",
    "dotnet_interactive": {
     "language": "fsharp"
    },
    "polyglot_notebook": {
     "kernelName": "fsharp"
    }
   },
   "outputs": [],
   "source": [
    "type InputState =\n",
    "    {\n",
    "        lines : string[]\n",
    "        position : Position\n",
    "    }"
   ]
  },
  {
   "cell_type": "code",
   "execution_count": null,
   "metadata": {
    "dotnet_repl_cellExecutionStartTime": "2023-07-18T03:00:07.6086927-03:00",
    "dotnet_repl_cellExecutionEndTime": "2023-07-18T03:00:07.6281255-03:00",
    "dotnet_repl_cellExecutionTime": "19.4355ms",
    "dotnet_interactive": {
     "language": "fsharp"
    },
    "polyglot_notebook": {
     "kernelName": "fsharp"
    }
   },
   "outputs": [],
   "source": [
    "let fromStr str =\n",
    "    if String.IsNullOrEmpty str then\n",
    "        { lines = [||]; position = initialPos }\n",
    "    else\n",
    "        let separators = [| \"\\r\\n\"; \"\\n\" |]\n",
    "        let lines = str.Split (separators, StringSplitOptions.None)\n",
    "        { lines = lines; position = initialPos }"
   ]
  },
  {
   "cell_type": "code",
   "execution_count": null,
   "metadata": {
    "dotnet_repl_cellExecutionStartTime": "2023-07-18T03:00:07.6281713-03:00",
    "dotnet_repl_cellExecutionEndTime": "2023-07-18T03:00:07.6677583-03:00",
    "dotnet_repl_cellExecutionTime": "39.589ms",
    "dotnet_interactive": {
     "language": "fsharp"
    },
    "polyglot_notebook": {
     "kernelName": "fsharp"
    }
   },
   "outputs": [
    {
     "name": "stdout",
     "output_type": "stream",
     "text": [
      "InputState\r\n",
      "      lines: [  ]\r\n",
      "      position: Position\r\n",
      "        line: 0\r\n",
      "        column: 0\r\n"
     ]
    }
   ],
   "source": [
    "//// test\n",
    "\n",
    "fromStr \"\" |> _equal {\n",
    "    lines = [||]\n",
    "    position = { line = 0; column = 0 }\n",
    "}"
   ]
  },
  {
   "cell_type": "code",
   "execution_count": null,
   "metadata": {
    "dotnet_repl_cellExecutionStartTime": "2023-07-18T03:00:07.6678-03:00",
    "dotnet_repl_cellExecutionEndTime": "2023-07-18T03:00:07.6944725-03:00",
    "dotnet_repl_cellExecutionTime": "26.6749ms",
    "dotnet_interactive": {
     "language": "fsharp"
    },
    "polyglot_notebook": {
     "kernelName": "fsharp"
    }
   },
   "outputs": [
    {
     "name": "stdout",
     "output_type": "stream",
     "text": [
      "InputState\r\n",
      "      lines: [ Hello ,  World ]\r\n",
      "      position: Position\r\n",
      "        line: 0\r\n",
      "        column: 0\r\n"
     ]
    }
   ],
   "source": [
    "//// test\n",
    "\n",
    "fromStr \"Hello \\n World\" |> _equal {\n",
    "    lines = [| \"Hello \"; \" World\" |]\n",
    "    position = { line = 0; column = 0 }\n",
    "}"
   ]
  },
  {
   "cell_type": "code",
   "execution_count": null,
   "metadata": {
    "dotnet_repl_cellExecutionStartTime": "2023-07-18T03:00:07.6945166-03:00",
    "dotnet_repl_cellExecutionEndTime": "2023-07-18T03:00:07.7098744-03:00",
    "dotnet_repl_cellExecutionTime": "15.3599ms",
    "dotnet_interactive": {
     "language": "fsharp"
    },
    "polyglot_notebook": {
     "kernelName": "fsharp"
    }
   },
   "outputs": [],
   "source": [
    "let currentLine inputState =\n",
    "    let linePos = inputState.position.line\n",
    "    if linePos < inputState.lines.Length then\n",
    "        inputState.lines.[linePos]\n",
    "    else\n",
    "        \"end of file\""
   ]
  },
  {
   "cell_type": "code",
   "execution_count": null,
   "metadata": {
    "dotnet_repl_cellExecutionStartTime": "2023-07-18T03:00:07.7099095-03:00",
    "dotnet_repl_cellExecutionEndTime": "2023-07-18T03:00:07.7371205-03:00",
    "dotnet_repl_cellExecutionTime": "27.2128ms",
    "dotnet_interactive": {
     "language": "fsharp"
    },
    "polyglot_notebook": {
     "kernelName": "fsharp"
    }
   },
   "outputs": [],
   "source": [
    "let nextChar input =\n",
    "    let linePos = input.position.line\n",
    "    let colPos = input.position.column\n",
    "\n",
    "    if linePos >= input.lines.Length then\n",
    "        input, None\n",
    "    else\n",
    "        let currentLine = currentLine input\n",
    "        if colPos < currentLine.Length then\n",
    "            let char = currentLine.[colPos]\n",
    "            let newPos = incrCol input.position\n",
    "            let newState = { input with position = newPos }\n",
    "            newState, Some char\n",
    "        else\n",
    "            let char = '\\n'\n",
    "            let newPos = incrLine input.position\n",
    "            let newState = { input with position = newPos }\n",
    "            newState, Some char"
   ]
  },
  {
   "cell_type": "code",
   "execution_count": null,
   "metadata": {
    "dotnet_repl_cellExecutionStartTime": "2023-07-18T03:00:07.7371557-03:00",
    "dotnet_repl_cellExecutionEndTime": "2023-07-18T03:00:07.7898864-03:00",
    "dotnet_repl_cellExecutionTime": "52.7364ms",
    "dotnet_interactive": {
     "language": "fsharp"
    },
    "polyglot_notebook": {
     "kernelName": "fsharp"
    }
   },
   "outputs": [
    {
     "name": "stdout",
     "output_type": "stream",
     "text": [
      "InputState\r\n",
      "      lines: [ Hello World ]\r\n",
      "      position: Position\r\n",
      "        line: 0\r\n",
      "        column: 1\r\n",
      "FSharpOption<Char>\r\n",
      "      Value: H\r\n"
     ]
    }
   ],
   "source": [
    "//// test\n",
    "\n",
    "let newInput, charOpt = fromStr \"Hello World\" |> nextChar\n",
    "\n",
    "newInput |> _equal {\n",
    "    lines = [| \"Hello World\" |]\n",
    "    position = { line = 0; column = 1 }\n",
    "}\n",
    "charOpt |> _equal (Some 'H')"
   ]
  },
  {
   "cell_type": "code",
   "execution_count": null,
   "metadata": {
    "dotnet_repl_cellExecutionStartTime": "2023-07-18T03:00:07.789951-03:00",
    "dotnet_repl_cellExecutionEndTime": "2023-07-18T03:00:07.8200548-03:00",
    "dotnet_repl_cellExecutionTime": "30.1064ms",
    "dotnet_interactive": {
     "language": "fsharp"
    },
    "polyglot_notebook": {
     "kernelName": "fsharp"
    }
   },
   "outputs": [
    {
     "name": "stdout",
     "output_type": "stream",
     "text": [
      "InputState\r\n",
      "      lines: [ Hello, , World ]\r\n",
      "      position: Position\r\n",
      "        line: 0\r\n",
      "        column: 1\r\n",
      "FSharpOption<Char>\r\n",
      "      Value: H\r\n"
     ]
    }
   ],
   "source": [
    "//// test\n",
    "\n",
    "let newInput, charOpt = fromStr \"Hello\\n\\nWorld\" |> nextChar\n",
    "\n",
    "newInput |> _equal {\n",
    "    lines = [| \"Hello\"; \"\"; \"World\" |]\n",
    "    position = { line = 0; column = 1 }\n",
    "}\n",
    "charOpt |> _equal (Some 'H')"
   ]
  },
  {
   "cell_type": "markdown",
   "metadata": {
    "dotnet_repl_cellExecutionStartTime": "2023-07-18T03:00:07.8201052-03:00",
    "dotnet_repl_cellExecutionEndTime": "2023-07-18T03:00:07.8240814-03:00",
    "dotnet_repl_cellExecutionTime": "3.9785ms"
   },
   "source": [
    "### Parser"
   ]
  },
  {
   "cell_type": "code",
   "execution_count": null,
   "metadata": {
    "dotnet_repl_cellExecutionStartTime": "2023-07-18T03:00:07.8241178-03:00",
    "dotnet_repl_cellExecutionEndTime": "2023-07-18T03:00:08.0088046-03:00",
    "dotnet_repl_cellExecutionTime": "184.6888ms",
    "dotnet_interactive": {
     "language": "fsharp"
    },
    "polyglot_notebook": {
     "kernelName": "fsharp"
    }
   },
   "outputs": [],
   "source": [
    "type Input = InputState\n",
    "type ParserLabel = string\n",
    "type ParserError = string\n",
    "\n",
    "type ParserPosition =\n",
    "    {\n",
    "        currentLine : string\n",
    "        line : int\n",
    "        column : int\n",
    "    }\n",
    "\n",
    "type ParseResult<'a> =\n",
    "    | Success of 'a\n",
    "    | Failure of ParserLabel * ParserError * ParserPosition\n",
    "\n",
    "type Parser<'a> =\n",
    "    {\n",
    "        parseFn : Input -> ParseResult<'a * Input>\n",
    "        label : ParserLabel\n",
    "    }"
   ]
  },
  {
   "cell_type": "code",
   "execution_count": null,
   "metadata": {
    "dotnet_repl_cellExecutionStartTime": "2023-07-18T03:00:08.0088394-03:00",
    "dotnet_repl_cellExecutionEndTime": "2023-07-18T03:00:08.0655834-03:00",
    "dotnet_repl_cellExecutionTime": "56.7462ms",
    "dotnet_interactive": {
     "language": "fsharp"
    },
    "polyglot_notebook": {
     "kernelName": "fsharp"
    }
   },
   "outputs": [],
   "source": [
    "let printResult result =\n",
    "    match result with\n",
    "    | Success (value, input) ->\n",
    "        printfn $\"%A{value}\"\n",
    "    | Failure (label, error, parserPos) ->\n",
    "        let errorLine = parserPos.currentLine\n",
    "        let colPos = parserPos.column\n",
    "        let linePos = parserPos.line\n",
    "        let failureCaret = $\"{' '.ToString().PadLeft colPos}^{error}\"\n",
    "        printfn $\"Line:%i{linePos} Col:%i{colPos} Error parsing %s{label}\\n%s{errorLine}\\n%s{failureCaret}\""
   ]
  },
  {
   "cell_type": "code",
   "execution_count": null,
   "metadata": {
    "dotnet_repl_cellExecutionStartTime": "2023-07-18T03:00:08.0656246-03:00",
    "dotnet_repl_cellExecutionEndTime": "2023-07-18T03:00:08.088331-03:00",
    "dotnet_repl_cellExecutionTime": "22.7088ms",
    "dotnet_interactive": {
     "language": "fsharp"
    },
    "polyglot_notebook": {
     "kernelName": "fsharp"
    }
   },
   "outputs": [],
   "source": [
    "//// test\n",
    "\n",
    "let parserEqual (expected : ParseResult<'a>) (actual : ParseResult<'a * Input>) =\n",
    "    match actual, expected with\n",
    "    | Success (_actual, _), Success _expected ->\n",
    "        printResult actual\n",
    "        _actual |> _equal _expected\n",
    "    | Failure (l1, e1, p1), Failure (l2, e2, p2) when l1 = l2 && e1 = e2 && p1 = p2 ->\n",
    "        printResult actual\n",
    "    | _ ->\n",
    "        printfn $\"Actual: {actual}\"\n",
    "        printfn $\"Expected: {expected}\"\n",
    "        failwith \"Parse failed\"\n",
    "    actual"
   ]
  },
  {
   "cell_type": "code",
   "execution_count": null,
   "metadata": {
    "dotnet_repl_cellExecutionStartTime": "2023-07-18T03:00:08.0883659-03:00",
    "dotnet_repl_cellExecutionEndTime": "2023-07-18T03:00:08.0978859-03:00",
    "dotnet_repl_cellExecutionTime": "9.522ms",
    "dotnet_interactive": {
     "language": "fsharp"
    },
    "polyglot_notebook": {
     "kernelName": "fsharp"
    }
   },
   "outputs": [],
   "source": [
    "let runOnInput parser input =\n",
    "    parser.parseFn input"
   ]
  },
  {
   "cell_type": "code",
   "execution_count": null,
   "metadata": {
    "dotnet_repl_cellExecutionStartTime": "2023-07-18T03:00:08.0979197-03:00",
    "dotnet_repl_cellExecutionEndTime": "2023-07-18T03:00:08.1073347-03:00",
    "dotnet_repl_cellExecutionTime": "9.4167ms",
    "dotnet_interactive": {
     "language": "fsharp"
    },
    "polyglot_notebook": {
     "kernelName": "fsharp"
    }
   },
   "outputs": [],
   "source": [
    "let run parser inputStr =\n",
    "    runOnInput parser (fromStr inputStr)"
   ]
  },
  {
   "cell_type": "code",
   "execution_count": null,
   "metadata": {
    "dotnet_repl_cellExecutionStartTime": "2023-07-18T03:00:08.1073682-03:00",
    "dotnet_repl_cellExecutionEndTime": "2023-07-18T03:00:08.1181205-03:00",
    "dotnet_repl_cellExecutionTime": "10.7545ms",
    "dotnet_interactive": {
     "language": "fsharp"
    },
    "polyglot_notebook": {
     "kernelName": "fsharp"
    }
   },
   "outputs": [],
   "source": [
    "let parserPositionFromInputState (inputState : Input) =\n",
    "    {\n",
    "        currentLine = currentLine inputState\n",
    "        line = inputState.position.line\n",
    "        column = inputState.position.column\n",
    "    }"
   ]
  },
  {
   "cell_type": "code",
   "execution_count": null,
   "metadata": {
    "dotnet_repl_cellExecutionStartTime": "2023-07-18T03:00:08.1181586-03:00",
    "dotnet_repl_cellExecutionEndTime": "2023-07-18T03:00:08.1272696-03:00",
    "dotnet_repl_cellExecutionTime": "9.1352ms",
    "dotnet_interactive": {
     "language": "fsharp"
    },
    "polyglot_notebook": {
     "kernelName": "fsharp"
    }
   },
   "outputs": [],
   "source": [
    "let getLabel parser =\n",
    "    parser.label"
   ]
  },
  {
   "cell_type": "code",
   "execution_count": null,
   "metadata": {
    "dotnet_repl_cellExecutionStartTime": "2023-07-18T03:00:08.1273298-03:00",
    "dotnet_repl_cellExecutionEndTime": "2023-07-18T03:00:08.1467572-03:00",
    "dotnet_repl_cellExecutionTime": "19.4294ms",
    "dotnet_interactive": {
     "language": "fsharp"
    },
    "polyglot_notebook": {
     "kernelName": "fsharp"
    }
   },
   "outputs": [],
   "source": [
    "let setLabel parser newLabel =\n",
    "    let newInnerFn input =\n",
    "        match parser.parseFn input with\n",
    "        | Success s -> Success s\n",
    "        | Failure (oldLabel, err, pos) -> Failure (newLabel, err, pos)\n",
    "\n",
    "    { parseFn = newInnerFn; label = newLabel }"
   ]
  },
  {
   "cell_type": "code",
   "execution_count": null,
   "metadata": {
    "dotnet_repl_cellExecutionStartTime": "2023-07-18T03:00:08.1467912-03:00",
    "dotnet_repl_cellExecutionEndTime": "2023-07-18T03:00:08.1574467-03:00",
    "dotnet_repl_cellExecutionTime": "10.6574ms",
    "dotnet_interactive": {
     "language": "fsharp"
    },
    "polyglot_notebook": {
     "kernelName": "fsharp"
    }
   },
   "outputs": [],
   "source": [
    "let (<?>) = setLabel"
   ]
  },
  {
   "cell_type": "code",
   "execution_count": null,
   "metadata": {
    "dotnet_repl_cellExecutionStartTime": "2023-07-18T03:00:08.1574795-03:00",
    "dotnet_repl_cellExecutionEndTime": "2023-07-18T03:00:08.1766954-03:00",
    "dotnet_repl_cellExecutionTime": "19.2177ms",
    "dotnet_interactive": {
     "language": "fsharp"
    },
    "polyglot_notebook": {
     "kernelName": "fsharp"
    }
   },
   "outputs": [],
   "source": [
    "let satisfy predicate label =\n",
    "    let innerFn input =\n",
    "        let remainingInput, charOpt = nextChar input\n",
    "        match charOpt with\n",
    "        | None ->\n",
    "            let err = \"No more input\"\n",
    "            let pos = parserPositionFromInputState input\n",
    "            Failure (label, err, pos)\n",
    "        | Some first ->\n",
    "            if predicate first then\n",
    "                Success (first, remainingInput)\n",
    "            else\n",
    "                let err = $\"Unexpected '%c{first}'\"\n",
    "                let pos = parserPositionFromInputState input\n",
    "                Failure (label, err, pos)\n",
    "\n",
    "    { parseFn = innerFn; label = label }"
   ]
  },
  {
   "cell_type": "code",
   "execution_count": null,
   "metadata": {
    "dotnet_repl_cellExecutionStartTime": "2023-07-18T03:00:08.1767289-03:00",
    "dotnet_repl_cellExecutionEndTime": "2023-07-18T03:00:08.2177561-03:00",
    "dotnet_repl_cellExecutionTime": "41.0293ms",
    "dotnet_interactive": {
     "language": "fsharp"
    },
    "polyglot_notebook": {
     "kernelName": "fsharp"
    }
   },
   "outputs": [
    {
     "name": "stdout",
     "output_type": "stream",
     "text": [
      "Success\r\n",
      "      Item:       - H\r\n",
      "      - InputState\r\n",
      "          lines: [ Hello ]\r\n",
      "          position: Position\r\n",
      "            line: 0\r\n",
      "            column: 1\r\n"
     ]
    }
   ],
   "source": [
    "//// test\n",
    "\n",
    "let input = fromStr \"Hello\"\n",
    "let parser = satisfy (fun c -> c = 'H') \"H\"\n",
    "runOnInput parser input |> _equal (\n",
    "    Success (\n",
    "        'H',\n",
    "        {\n",
    "            lines = [| \"Hello\" |]\n",
    "            position = { line = 0; column = 1 }\n",
    "        }\n",
    "    )\n",
    ")"
   ]
  },
  {
   "cell_type": "code",
   "execution_count": null,
   "metadata": {
    "dotnet_repl_cellExecutionStartTime": "2023-07-18T03:00:08.2177999-03:00",
    "dotnet_repl_cellExecutionEndTime": "2023-07-18T03:00:08.2517842-03:00",
    "dotnet_repl_cellExecutionTime": "33.9871ms",
    "dotnet_interactive": {
     "language": "fsharp"
    },
    "polyglot_notebook": {
     "kernelName": "fsharp"
    }
   },
   "outputs": [
    {
     "name": "stdout",
     "output_type": "stream",
     "text": [
      "Failure\r\n",
      "      Item1: H\r\n",
      "      Item2: Unexpected 'W'\r\n",
      "      Item3: ParserPosition\r\n",
      "        currentLine: World\r\n",
      "        line: 0\r\n",
      "        column: 0\r\n"
     ]
    }
   ],
   "source": [
    "//// test\n",
    "\n",
    "let input = fromStr \"World\"\n",
    "let parser = satisfy (fun c -> c = 'H') \"H\"\n",
    "runOnInput parser input |> _equal (\n",
    "    Failure (\n",
    "        \"H\",\n",
    "        \"Unexpected 'W'\",\n",
    "        {\n",
    "            currentLine = \"World\"\n",
    "            line = 0\n",
    "            column = 0\n",
    "        }\n",
    "    )\n",
    ")"
   ]
  },
  {
   "cell_type": "code",
   "execution_count": null,
   "metadata": {
    "dotnet_repl_cellExecutionStartTime": "2023-07-18T03:00:08.2519298-03:00",
    "dotnet_repl_cellExecutionEndTime": "2023-07-18T03:00:08.2761402-03:00",
    "dotnet_repl_cellExecutionTime": "24.2126ms",
    "dotnet_interactive": {
     "language": "fsharp"
    },
    "polyglot_notebook": {
     "kernelName": "fsharp"
    }
   },
   "outputs": [],
   "source": [
    "let bindP f p =\n",
    "    let label = \"unknown\"\n",
    "    let innerFn input =\n",
    "        let result1 = runOnInput p input\n",
    "        match result1 with\n",
    "        | Failure (label, err, pos) ->\n",
    "            Failure (label, err, pos)\n",
    "        | Success (value1, remainingInput) ->\n",
    "            let p2 = f value1\n",
    "            runOnInput p2 remainingInput\n",
    "\n",
    "    { parseFn = innerFn; label = label }"
   ]
  },
  {
   "cell_type": "code",
   "execution_count": null,
   "metadata": {
    "dotnet_repl_cellExecutionStartTime": "2023-07-18T03:00:08.2761862-03:00",
    "dotnet_repl_cellExecutionEndTime": "2023-07-18T03:00:08.2871611-03:00",
    "dotnet_repl_cellExecutionTime": "10.9778ms",
    "dotnet_interactive": {
     "language": "fsharp"
    },
    "polyglot_notebook": {
     "kernelName": "fsharp"
    }
   },
   "outputs": [],
   "source": [
    "let (>>=) p f = bindP f p"
   ]
  },
  {
   "cell_type": "code",
   "execution_count": null,
   "metadata": {
    "dotnet_repl_cellExecutionStartTime": "2023-07-18T03:00:08.2872075-03:00",
    "dotnet_repl_cellExecutionEndTime": "2023-07-18T03:00:08.322801-03:00",
    "dotnet_repl_cellExecutionTime": "35.5956ms",
    "dotnet_interactive": {
     "language": "fsharp"
    },
    "polyglot_notebook": {
     "kernelName": "fsharp"
    }
   },
   "outputs": [
    {
     "name": "stdout",
     "output_type": "stream",
     "text": [
      "Success\r\n",
      "      Item:       - e\r\n",
      "      - InputState\r\n",
      "          lines: [ Hello ]\r\n",
      "          position: Position\r\n",
      "            line: 0\r\n",
      "            column: 2\r\n"
     ]
    }
   ],
   "source": [
    "//// test\n",
    "\n",
    "let input = fromStr \"Hello\"\n",
    "let parser = satisfy (fun c -> c = 'H') \"H\"\n",
    "let parser2 = parser >>= fun c -> satisfy (fun c -> c = 'e') \"e\"\n",
    "runOnInput parser2 input |> _equal (\n",
    "    Success (\n",
    "        'e',\n",
    "        {\n",
    "            lines = [| \"Hello\" |]\n",
    "            position = { line = 0; column = 2 }\n",
    "        }\n",
    "    )\n",
    ")"
   ]
  },
  {
   "cell_type": "code",
   "execution_count": null,
   "metadata": {
    "dotnet_repl_cellExecutionStartTime": "2023-07-18T03:00:08.3228437-03:00",
    "dotnet_repl_cellExecutionEndTime": "2023-07-18T03:00:08.3486421-03:00",
    "dotnet_repl_cellExecutionTime": "25.8001ms",
    "dotnet_interactive": {
     "language": "fsharp"
    },
    "polyglot_notebook": {
     "kernelName": "fsharp"
    }
   },
   "outputs": [
    {
     "name": "stdout",
     "output_type": "stream",
     "text": [
      "Failure\r\n",
      "      Item1: e\r\n",
      "      Item2: Unexpected 'o'\r\n",
      "      Item3: ParserPosition\r\n",
      "        currentLine: World\r\n",
      "        line: 0\r\n",
      "        column: 1\r\n"
     ]
    }
   ],
   "source": [
    "//// test\n",
    "\n",
    "let input = fromStr \"World\"\n",
    "let parser = satisfy (fun c -> c = 'W') \"W\"\n",
    "let parser2 = parser >>= fun c -> satisfy (fun c -> c = 'e') \"e\"\n",
    "runOnInput parser2 input |> _equal (\n",
    "    Failure (\n",
    "        \"e\",\n",
    "        \"Unexpected 'o'\",\n",
    "        {\n",
    "            currentLine = \"World\"\n",
    "            line = 0\n",
    "            column = 1\n",
    "        }\n",
    "    )\n",
    ")"
   ]
  },
  {
   "cell_type": "code",
   "execution_count": null,
   "metadata": {
    "dotnet_repl_cellExecutionStartTime": "2023-07-18T03:00:08.3486773-03:00",
    "dotnet_repl_cellExecutionEndTime": "2023-07-18T03:00:08.3685701-03:00",
    "dotnet_repl_cellExecutionTime": "19.8962ms",
    "dotnet_interactive": {
     "language": "fsharp"
    },
    "polyglot_notebook": {
     "kernelName": "fsharp"
    }
   },
   "outputs": [],
   "source": [
    "let returnP x =\n",
    "    let label = $\"%A{x}\"\n",
    "    let innerFn input =\n",
    "        Success (x, input)\n",
    "    \n",
    "    { parseFn = innerFn; label = label }"
   ]
  },
  {
   "cell_type": "code",
   "execution_count": null,
   "metadata": {
    "dotnet_repl_cellExecutionStartTime": "2023-07-18T03:00:08.3686158-03:00",
    "dotnet_repl_cellExecutionEndTime": "2023-07-18T03:00:08.4222999-03:00",
    "dotnet_repl_cellExecutionTime": "53.6878ms",
    "dotnet_interactive": {
     "language": "fsharp"
    },
    "polyglot_notebook": {
     "kernelName": "fsharp"
    }
   },
   "outputs": [
    {
     "name": "stdout",
     "output_type": "stream",
     "text": [
      "Success\r\n",
      "      Item:       - Hello\r\n",
      "      - InputState\r\n",
      "          lines: [ Hello ]\r\n",
      "          position: Position\r\n",
      "            line: 0\r\n",
      "            column: 0\r\n"
     ]
    }
   ],
   "source": [
    "//// test\n",
    "\n",
    "let input = fromStr \"Hello\"\n",
    "let parser = returnP \"Hello\"\n",
    "runOnInput parser input |> _equal (\n",
    "    Success (\n",
    "        \"Hello\",\n",
    "        {\n",
    "            lines = [| \"Hello\" |]\n",
    "            position = { line = 0; column = 0 }\n",
    "        }\n",
    "    )\n",
    ")"
   ]
  },
  {
   "cell_type": "code",
   "execution_count": null,
   "metadata": {
    "dotnet_repl_cellExecutionStartTime": "2023-07-18T03:00:08.4224147-03:00",
    "dotnet_repl_cellExecutionEndTime": "2023-07-18T03:00:08.4448136-03:00",
    "dotnet_repl_cellExecutionTime": "22.4014ms",
    "dotnet_interactive": {
     "language": "fsharp"
    },
    "polyglot_notebook": {
     "kernelName": "fsharp"
    }
   },
   "outputs": [],
   "source": [
    "let mapP f =\n",
    "    bindP (f >> returnP)"
   ]
  },
  {
   "cell_type": "code",
   "execution_count": null,
   "metadata": {
    "dotnet_repl_cellExecutionStartTime": "2023-07-18T03:00:08.4448536-03:00",
    "dotnet_repl_cellExecutionEndTime": "2023-07-18T03:00:08.4602853-03:00",
    "dotnet_repl_cellExecutionTime": "15.4341ms",
    "dotnet_interactive": {
     "language": "fsharp"
    },
    "polyglot_notebook": {
     "kernelName": "fsharp"
    }
   },
   "outputs": [],
   "source": [
    "let (<!>) = mapP"
   ]
  },
  {
   "cell_type": "code",
   "execution_count": null,
   "metadata": {
    "dotnet_repl_cellExecutionStartTime": "2023-07-18T03:00:08.4603253-03:00",
    "dotnet_repl_cellExecutionEndTime": "2023-07-18T03:00:08.4754473-03:00",
    "dotnet_repl_cellExecutionTime": "15.1239ms",
    "dotnet_interactive": {
     "language": "fsharp"
    },
    "polyglot_notebook": {
     "kernelName": "fsharp"
    }
   },
   "outputs": [],
   "source": [
    "let (|>>) x f = f <!> x"
   ]
  },
  {
   "cell_type": "code",
   "execution_count": null,
   "metadata": {
    "dotnet_repl_cellExecutionStartTime": "2023-07-18T03:00:08.4754839-03:00",
    "dotnet_repl_cellExecutionEndTime": "2023-07-18T03:00:08.5132265-03:00",
    "dotnet_repl_cellExecutionTime": "37.7459ms",
    "dotnet_interactive": {
     "language": "fsharp"
    },
    "polyglot_notebook": {
     "kernelName": "fsharp"
    }
   },
   "outputs": [
    {
     "name": "stdout",
     "output_type": "stream",
     "text": [
      "Success\r\n",
      "      Item:       - H\r\n",
      "      - InputState\r\n",
      "          lines: [ Hello ]\r\n",
      "          position: Position\r\n",
      "            line: 0\r\n",
      "            column: 1\r\n"
     ]
    }
   ],
   "source": [
    "//// test\n",
    "\n",
    "let input = fromStr \"Hello\"\n",
    "let parser = satisfy (fun c -> c = 'H') \"H\"\n",
    "let parser2 = parser |>> fun c -> c.ToString()\n",
    "runOnInput parser2 input |> _equal (\n",
    "    Success (\n",
    "        \"H\",\n",
    "        {\n",
    "            lines = [| \"Hello\" |]\n",
    "            position = { line = 0; column = 1 }\n",
    "        }\n",
    "    )\n",
    ")"
   ]
  },
  {
   "cell_type": "code",
   "execution_count": null,
   "metadata": {
    "dotnet_repl_cellExecutionStartTime": "2023-07-18T03:00:08.5132842-03:00",
    "dotnet_repl_cellExecutionEndTime": "2023-07-18T03:00:08.5433862-03:00",
    "dotnet_repl_cellExecutionTime": "30.1042ms",
    "dotnet_interactive": {
     "language": "fsharp"
    },
    "polyglot_notebook": {
     "kernelName": "fsharp"
    }
   },
   "outputs": [],
   "source": [
    "let applyP fP xP =\n",
    "    fP >>=\n",
    "        fun f ->\n",
    "            xP >>=\n",
    "                fun x ->\n",
    "                    returnP (f x)"
   ]
  },
  {
   "cell_type": "code",
   "execution_count": null,
   "metadata": {
    "dotnet_repl_cellExecutionStartTime": "2023-07-18T03:00:08.5434249-03:00",
    "dotnet_repl_cellExecutionEndTime": "2023-07-18T03:00:08.555315-03:00",
    "dotnet_repl_cellExecutionTime": "11.8933ms",
    "dotnet_interactive": {
     "language": "fsharp"
    },
    "polyglot_notebook": {
     "kernelName": "fsharp"
    }
   },
   "outputs": [],
   "source": [
    "let (<*>) = applyP"
   ]
  },
  {
   "cell_type": "code",
   "execution_count": null,
   "metadata": {
    "dotnet_repl_cellExecutionStartTime": "2023-07-18T03:00:08.5553606-03:00",
    "dotnet_repl_cellExecutionEndTime": "2023-07-18T03:00:08.5699873-03:00",
    "dotnet_repl_cellExecutionTime": "14.6286ms",
    "dotnet_interactive": {
     "language": "fsharp"
    },
    "polyglot_notebook": {
     "kernelName": "fsharp"
    }
   },
   "outputs": [],
   "source": [
    "let lift2 f xP yP =\n",
    "    returnP f <*> xP <*> yP"
   ]
  },
  {
   "cell_type": "code",
   "execution_count": null,
   "metadata": {
    "dotnet_repl_cellExecutionStartTime": "2023-07-18T03:00:08.5700229-03:00",
    "dotnet_repl_cellExecutionEndTime": "2023-07-18T03:00:08.6595685-03:00",
    "dotnet_repl_cellExecutionTime": "89.5511ms",
    "dotnet_interactive": {
     "language": "fsharp"
    },
    "polyglot_notebook": {
     "kernelName": "fsharp"
    }
   },
   "outputs": [
    {
     "name": "stdout",
     "output_type": "stream",
     "text": [
      "Success\r\n",
      "      Item:       - He\r\n",
      "      - InputState\r\n",
      "          lines: [ Hello ]\r\n",
      "          position: Position\r\n",
      "            line: 0\r\n",
      "            column: 2\r\n"
     ]
    }
   ],
   "source": [
    "//// test\n",
    "\n",
    "let input = fromStr \"Hello\"\n",
    "let parser = satisfy (fun c -> c = 'H') \"H\"\n",
    "let parser2 = satisfy (fun c -> c = 'e') \"e\"\n",
    "let parser3 = lift2 (fun c1 c2 -> c1.ToString () + c2.ToString ()) parser parser2\n",
    "runOnInput parser3 input |> _equal (\n",
    "    Success (\n",
    "        \"He\",\n",
    "        {\n",
    "            lines = [| \"Hello\" |]\n",
    "            position = { line = 0; column = 2 }\n",
    "        }\n",
    "    )\n",
    ")"
   ]
  },
  {
   "cell_type": "code",
   "execution_count": null,
   "metadata": {
    "dotnet_repl_cellExecutionStartTime": "2023-07-18T03:00:08.6596269-03:00",
    "dotnet_repl_cellExecutionEndTime": "2023-07-18T03:00:08.6940069-03:00",
    "dotnet_repl_cellExecutionTime": "34.3817ms",
    "dotnet_interactive": {
     "language": "fsharp"
    },
    "polyglot_notebook": {
     "kernelName": "fsharp"
    }
   },
   "outputs": [],
   "source": [
    "let andThen p1 p2 =\n",
    "    p1 >>=\n",
    "        fun p1Result ->\n",
    "            p2 >>=\n",
    "                fun p2Result ->\n",
    "                    returnP (p1Result, p2Result)\n",
    "    <?> $\"{getLabel p1} andThen {getLabel p2}\""
   ]
  },
  {
   "cell_type": "code",
   "execution_count": null,
   "metadata": {
    "dotnet_repl_cellExecutionStartTime": "2023-07-18T03:00:08.6940471-03:00",
    "dotnet_repl_cellExecutionEndTime": "2023-07-18T03:00:08.7173086-03:00",
    "dotnet_repl_cellExecutionTime": "23.2636ms",
    "dotnet_interactive": {
     "language": "fsharp"
    },
    "polyglot_notebook": {
     "kernelName": "fsharp"
    }
   },
   "outputs": [],
   "source": [
    "let (.>>.) = andThen"
   ]
  },
  {
   "cell_type": "code",
   "execution_count": null,
   "metadata": {
    "dotnet_repl_cellExecutionStartTime": "2023-07-18T03:00:08.7173438-03:00",
    "dotnet_repl_cellExecutionEndTime": "2023-07-18T03:00:08.7634765-03:00",
    "dotnet_repl_cellExecutionTime": "46.1343ms",
    "dotnet_interactive": {
     "language": "fsharp"
    },
    "polyglot_notebook": {
     "kernelName": "fsharp"
    }
   },
   "outputs": [
    {
     "name": "stdout",
     "output_type": "stream",
     "text": [
      "Success\r\n",
      "      Item:       - ( H, e )\r\n",
      "      - InputState\r\n",
      "          lines: [ Hello ]\r\n",
      "          position: Position\r\n",
      "            line: 0\r\n",
      "            column: 2\r\n"
     ]
    }
   ],
   "source": [
    "//// test\n",
    "\n",
    "let input = fromStr \"Hello\"\n",
    "let parser = satisfy (fun c -> c = 'H') \"H\"\n",
    "let parser2 = satisfy (fun c -> c = 'e') \"e\"\n",
    "let parser3 = parser .>>. parser2\n",
    "runOnInput parser3 input |> _equal (\n",
    "    Success (\n",
    "        ('H', 'e'),\n",
    "        {\n",
    "            lines = [| \"Hello\" |]\n",
    "            position = { line = 0; column = 2 }\n",
    "        }\n",
    "    )\n",
    ")"
   ]
  },
  {
   "cell_type": "code",
   "execution_count": null,
   "metadata": {
    "dotnet_repl_cellExecutionStartTime": "2023-07-18T03:00:08.7635103-03:00",
    "dotnet_repl_cellExecutionEndTime": "2023-07-18T03:00:08.7767704-03:00",
    "dotnet_repl_cellExecutionTime": "13.2621ms",
    "dotnet_interactive": {
     "language": "fsharp"
    },
    "polyglot_notebook": {
     "kernelName": "fsharp"
    }
   },
   "outputs": [],
   "source": [
    "let orElse p1 p2 =\n",
    "    let label = $\"{getLabel p1} orElse {getLabel p2}\"\n",
    "    let innerFn input =\n",
    "        let result1 = runOnInput p1 input\n",
    "\n",
    "        match result1 with\n",
    "        | Success result -> result1\n",
    "        | Failure _ -> runOnInput p2 input\n",
    "\n",
    "    { parseFn = innerFn; label = label }"
   ]
  },
  {
   "cell_type": "code",
   "execution_count": null,
   "metadata": {
    "dotnet_repl_cellExecutionStartTime": "2023-07-18T03:00:08.7768049-03:00",
    "dotnet_repl_cellExecutionEndTime": "2023-07-18T03:00:08.7864335-03:00",
    "dotnet_repl_cellExecutionTime": "9.6306ms",
    "dotnet_interactive": {
     "language": "fsharp"
    },
    "polyglot_notebook": {
     "kernelName": "fsharp"
    }
   },
   "outputs": [],
   "source": [
    "let (<|>) = orElse"
   ]
  },
  {
   "cell_type": "code",
   "execution_count": null,
   "metadata": {
    "dotnet_repl_cellExecutionStartTime": "2023-07-18T03:00:08.7864662-03:00",
    "dotnet_repl_cellExecutionEndTime": "2023-07-18T03:00:08.8245488-03:00",
    "dotnet_repl_cellExecutionTime": "38.0846ms",
    "dotnet_interactive": {
     "language": "fsharp"
    },
    "polyglot_notebook": {
     "kernelName": "fsharp"
    }
   },
   "outputs": [
    {
     "name": "stdout",
     "output_type": "stream",
     "text": [
      "Success\r\n",
      "      Item:       - h\r\n",
      "      - InputState\r\n",
      "          lines: [ hello ]\r\n",
      "          position: Position\r\n",
      "            line: 0\r\n",
      "            column: 1\r\n"
     ]
    }
   ],
   "source": [
    "//// test\n",
    "\n",
    "let input = fromStr \"hello\"\n",
    "let parser = satisfy (fun c -> c = 'H') \"H\"\n",
    "let parser2 = satisfy (fun c -> c = 'h') \"h\"\n",
    "let parser3 = parser <|> parser2\n",
    "runOnInput parser3 input |> _equal (\n",
    "    Success (\n",
    "        'h',\n",
    "        {\n",
    "            lines = [| \"hello\" |]\n",
    "            position = { line = 0; column = 1 }\n",
    "        }\n",
    "    )\n",
    ")"
   ]
  },
  {
   "cell_type": "code",
   "execution_count": null,
   "metadata": {
    "dotnet_repl_cellExecutionStartTime": "2023-07-18T03:00:08.8245917-03:00",
    "dotnet_repl_cellExecutionEndTime": "2023-07-18T03:00:08.8357175-03:00",
    "dotnet_repl_cellExecutionTime": "11.1276ms",
    "dotnet_interactive": {
     "language": "fsharp"
    },
    "polyglot_notebook": {
     "kernelName": "fsharp"
    }
   },
   "outputs": [],
   "source": [
    "let choice listOfParsers =\n",
    "    listOfParsers |> List.reduce (<|>)"
   ]
  },
  {
   "cell_type": "code",
   "execution_count": null,
   "metadata": {
    "dotnet_repl_cellExecutionStartTime": "2023-07-18T03:00:08.8357499-03:00",
    "dotnet_repl_cellExecutionEndTime": "2023-07-18T03:00:08.8663164-03:00",
    "dotnet_repl_cellExecutionTime": "30.5681ms",
    "dotnet_interactive": {
     "language": "fsharp"
    },
    "polyglot_notebook": {
     "kernelName": "fsharp"
    }
   },
   "outputs": [
    {
     "name": "stdout",
     "output_type": "stream",
     "text": [
      "Success\r\n",
      "      Item:       - h\r\n",
      "      - InputState\r\n",
      "          lines: [ hello ]\r\n",
      "          position: Position\r\n",
      "            line: 0\r\n",
      "            column: 1\r\n"
     ]
    }
   ],
   "source": [
    "//// test\n",
    "\n",
    "let input = fromStr \"hello\"\n",
    "let parser = satisfy (fun c -> c = 'H') \"H\"\n",
    "let parser2 = satisfy (fun c -> c = 'h') \"h\"\n",
    "let parser3 = choice [parser; parser2]\n",
    "runOnInput parser3 input |> _equal (\n",
    "    Success (\n",
    "        'h',\n",
    "        {\n",
    "            lines = [| \"hello\" |]\n",
    "            position = { line = 0; column = 1 }\n",
    "        }\n",
    "    )\n",
    ")"
   ]
  },
  {
   "cell_type": "code",
   "execution_count": null,
   "metadata": {
    "dotnet_repl_cellExecutionStartTime": "2023-07-18T03:00:08.8663491-03:00",
    "dotnet_repl_cellExecutionEndTime": "2023-07-18T03:00:08.9071182-03:00",
    "dotnet_repl_cellExecutionTime": "40.7709ms",
    "dotnet_interactive": {
     "language": "fsharp"
    },
    "polyglot_notebook": {
     "kernelName": "fsharp"
    }
   },
   "outputs": [],
   "source": [
    "let rec sequence parserList =\n",
    "    let cons head tail = head :: tail\n",
    "\n",
    "    let consP = lift2 cons\n",
    "\n",
    "    match parserList with\n",
    "    | [] -> returnP []\n",
    "    | head :: tail -> consP head (sequence tail)"
   ]
  },
  {
   "cell_type": "code",
   "execution_count": null,
   "metadata": {
    "dotnet_repl_cellExecutionStartTime": "2023-07-18T03:00:08.9071506-03:00",
    "dotnet_repl_cellExecutionEndTime": "2023-07-18T03:00:08.961658-03:00",
    "dotnet_repl_cellExecutionTime": "54.5088ms",
    "dotnet_interactive": {
     "language": "fsharp"
    },
    "polyglot_notebook": {
     "kernelName": "fsharp"
    }
   },
   "outputs": [
    {
     "name": "stdout",
     "output_type": "stream",
     "text": [
      "Success\r\n",
      "      Item:       - [ H, e ]\r\n",
      "      - InputState\r\n",
      "          lines: [ Hello ]\r\n",
      "          position: Position\r\n",
      "            line: 0\r\n",
      "            column: 2\r\n"
     ]
    }
   ],
   "source": [
    "//// test\n",
    "\n",
    "let input = fromStr \"Hello\"\n",
    "let parser = satisfy (fun c -> c = 'H') \"H\"\n",
    "let parser2 = satisfy (fun c -> c = 'e') \"e\"\n",
    "let parser3 = sequence [parser; parser2]\n",
    "runOnInput parser3 input |> _equal (\n",
    "    Success (\n",
    "        ['H'; 'e'],\n",
    "        {\n",
    "            lines = [| \"Hello\" |]\n",
    "            position = { line = 0; column = 2 }\n",
    "        }\n",
    "    )\n",
    ")"
   ]
  },
  {
   "cell_type": "code",
   "execution_count": null,
   "metadata": {
    "dotnet_repl_cellExecutionStartTime": "2023-07-18T03:00:08.961691-03:00",
    "dotnet_repl_cellExecutionEndTime": "2023-07-18T03:00:08.9751848-03:00",
    "dotnet_repl_cellExecutionTime": "13.4957ms",
    "dotnet_interactive": {
     "language": "fsharp"
    },
    "polyglot_notebook": {
     "kernelName": "fsharp"
    }
   },
   "outputs": [],
   "source": [
    "let rec parseZeroOrMore parser input =\n",
    "    let firstResult = runOnInput parser input\n",
    "    match firstResult with\n",
    "    | Failure (_, _, _) ->\n",
    "        [], input\n",
    "    | Success (firstValue, inputAfterFirstParse) ->\n",
    "        let (subsequentValues, remainingInput) =\n",
    "            parseZeroOrMore parser inputAfterFirstParse\n",
    "        let values = firstValue :: subsequentValues\n",
    "        values, remainingInput"
   ]
  },
  {
   "cell_type": "code",
   "execution_count": null,
   "metadata": {
    "dotnet_repl_cellExecutionStartTime": "2023-07-18T03:00:08.9752279-03:00",
    "dotnet_repl_cellExecutionEndTime": "2023-07-18T03:00:08.9890833-03:00",
    "dotnet_repl_cellExecutionTime": "13.8572ms",
    "dotnet_interactive": {
     "language": "fsharp"
    },
    "polyglot_notebook": {
     "kernelName": "fsharp"
    }
   },
   "outputs": [],
   "source": [
    "let many parser =\n",
    "    let label = $\"many {getLabel parser}\"\n",
    "    let innerFn input =\n",
    "        Success (parseZeroOrMore parser input)\n",
    "    { parseFn = innerFn; label = label }"
   ]
  },
  {
   "cell_type": "code",
   "execution_count": null,
   "metadata": {
    "dotnet_repl_cellExecutionStartTime": "2023-07-18T03:00:08.9891153-03:00",
    "dotnet_repl_cellExecutionEndTime": "2023-07-18T03:00:09.0195585-03:00",
    "dotnet_repl_cellExecutionTime": "30.4445ms",
    "dotnet_interactive": {
     "language": "fsharp"
    },
    "polyglot_notebook": {
     "kernelName": "fsharp"
    }
   },
   "outputs": [
    {
     "name": "stdout",
     "output_type": "stream",
     "text": [
      "Success\r\n",
      "      Item:       - [  ]\r\n",
      "      - InputState\r\n",
      "          lines: [ hello ]\r\n",
      "          position: Position\r\n",
      "            line: 0\r\n",
      "            column: 0\r\n"
     ]
    }
   ],
   "source": [
    "//// test\n",
    "\n",
    "let input = fromStr \"hello\"\n",
    "let parser = satisfy (fun c -> c = 'H') \"H\"\n",
    "let parser2 = many parser\n",
    "runOnInput parser2 input |> _equal (\n",
    "    Success (\n",
    "        [],\n",
    "        {\n",
    "            lines = [| \"hello\" |]\n",
    "            position = { line = 0; column = 0 }\n",
    "        }\n",
    "    )\n",
    ")"
   ]
  },
  {
   "cell_type": "code",
   "execution_count": null,
   "metadata": {
    "dotnet_repl_cellExecutionStartTime": "2023-07-18T03:00:09.0196059-03:00",
    "dotnet_repl_cellExecutionEndTime": "2023-07-18T03:00:09.0445563-03:00",
    "dotnet_repl_cellExecutionTime": "24.9523ms",
    "dotnet_interactive": {
     "language": "fsharp"
    },
    "polyglot_notebook": {
     "kernelName": "fsharp"
    }
   },
   "outputs": [],
   "source": [
    "let many1 p =\n",
    "    p >>=\n",
    "        fun head ->\n",
    "            many p >>=\n",
    "                fun tail ->\n",
    "                    returnP (head :: tail)\n",
    "    <?> $\"many1 {getLabel p}\""
   ]
  },
  {
   "cell_type": "code",
   "execution_count": null,
   "metadata": {
    "dotnet_repl_cellExecutionStartTime": "2023-07-18T03:00:09.044591-03:00",
    "dotnet_repl_cellExecutionEndTime": "2023-07-18T03:00:09.0749301-03:00",
    "dotnet_repl_cellExecutionTime": "30.3404ms",
    "dotnet_interactive": {
     "language": "fsharp"
    },
    "polyglot_notebook": {
     "kernelName": "fsharp"
    }
   },
   "outputs": [
    {
     "name": "stdout",
     "output_type": "stream",
     "text": [
      "Failure\r\n",
      "      Item1: many1 H\r\n",
      "      Item2: Unexpected 'h'\r\n",
      "      Item3: ParserPosition\r\n",
      "        currentLine: hello\r\n",
      "        line: 0\r\n",
      "        column: 0\r\n"
     ]
    }
   ],
   "source": [
    "//// test\n",
    "\n",
    "let input = fromStr \"hello\"\n",
    "let parser = satisfy (fun c -> c = 'H') \"H\"\n",
    "let parser2 = many1 parser\n",
    "runOnInput parser2 input |> _equal (\n",
    "    Failure (\n",
    "        \"many1 H\",\n",
    "        \"Unexpected 'h'\",\n",
    "        {\n",
    "            currentLine = \"hello\"\n",
    "            line = 0\n",
    "            column = 0\n",
    "        }\n",
    "    )\n",
    ")"
   ]
  },
  {
   "cell_type": "code",
   "execution_count": null,
   "metadata": {
    "dotnet_repl_cellExecutionStartTime": "2023-07-18T03:00:09.0749597-03:00",
    "dotnet_repl_cellExecutionEndTime": "2023-07-18T03:00:09.0974028-03:00",
    "dotnet_repl_cellExecutionTime": "22.4455ms",
    "dotnet_interactive": {
     "language": "fsharp"
    },
    "polyglot_notebook": {
     "kernelName": "fsharp"
    }
   },
   "outputs": [],
   "source": [
    "let opt p =\n",
    "    let some = p |>> Some\n",
    "    let none = returnP None\n",
    "    (some <|> none)\n",
    "    <?> $\"opt {getLabel p}\""
   ]
  },
  {
   "cell_type": "code",
   "execution_count": null,
   "metadata": {
    "dotnet_repl_cellExecutionStartTime": "2023-07-18T03:00:09.0974422-03:00",
    "dotnet_repl_cellExecutionEndTime": "2023-07-18T03:00:09.1453242-03:00",
    "dotnet_repl_cellExecutionTime": "47.8866ms",
    "dotnet_interactive": {
     "language": "fsharp"
    },
    "polyglot_notebook": {
     "kernelName": "fsharp"
    }
   },
   "outputs": [
    {
     "name": "stdout",
     "output_type": "stream",
     "text": [
      "Success\r\n",
      "      Item:       - <null>\r\n",
      "      - InputState\r\n",
      "          lines: [ hello ]\r\n",
      "          position: Position\r\n",
      "            line: 0\r\n",
      "            column: 0\r\n"
     ]
    }
   ],
   "source": [
    "//// test\n",
    "\n",
    "let input = fromStr \"hello\"\n",
    "let parser = satisfy (fun c -> c = 'H') \"H\"\n",
    "let parser2 = opt parser\n",
    "runOnInput parser2 input |> _equal (\n",
    "    Success (\n",
    "        None,\n",
    "        {\n",
    "            lines = [| \"hello\" |]\n",
    "            position = { line = 0; column = 0 }\n",
    "        }\n",
    "    )\n",
    ")"
   ]
  },
  {
   "cell_type": "code",
   "execution_count": null,
   "metadata": {
    "dotnet_repl_cellExecutionStartTime": "2023-07-18T03:00:09.145377-03:00",
    "dotnet_repl_cellExecutionEndTime": "2023-07-18T03:00:09.1582565-03:00",
    "dotnet_repl_cellExecutionTime": "12.8816ms",
    "dotnet_interactive": {
     "language": "fsharp"
    },
    "polyglot_notebook": {
     "kernelName": "fsharp"
    }
   },
   "outputs": [],
   "source": [
    "let (.>>) p1 p2 =\n",
    "    p1 .>>. p2\n",
    "    |> mapP fst"
   ]
  },
  {
   "cell_type": "code",
   "execution_count": null,
   "metadata": {
    "dotnet_repl_cellExecutionStartTime": "2023-07-18T03:00:09.1582911-03:00",
    "dotnet_repl_cellExecutionEndTime": "2023-07-18T03:00:09.1731497-03:00",
    "dotnet_repl_cellExecutionTime": "14.8607ms",
    "dotnet_interactive": {
     "language": "fsharp"
    },
    "polyglot_notebook": {
     "kernelName": "fsharp"
    }
   },
   "outputs": [],
   "source": [
    "let (>>.) p1 p2 =\n",
    "    p1 .>>. p2\n",
    "    |> mapP snd"
   ]
  },
  {
   "cell_type": "code",
   "execution_count": null,
   "metadata": {
    "dotnet_repl_cellExecutionStartTime": "2023-07-18T03:00:09.1731869-03:00",
    "dotnet_repl_cellExecutionEndTime": "2023-07-18T03:00:09.1839635-03:00",
    "dotnet_repl_cellExecutionTime": "10.7789ms",
    "dotnet_interactive": {
     "language": "fsharp"
    },
    "polyglot_notebook": {
     "kernelName": "fsharp"
    }
   },
   "outputs": [],
   "source": [
    "let between p1 p2 p3 =\n",
    "    p1 >>. p2 .>> p3"
   ]
  },
  {
   "cell_type": "code",
   "execution_count": null,
   "metadata": {
    "dotnet_repl_cellExecutionStartTime": "2023-07-18T03:00:09.1840011-03:00",
    "dotnet_repl_cellExecutionEndTime": "2023-07-18T03:00:09.3226703-03:00",
    "dotnet_repl_cellExecutionTime": "138.6719ms",
    "dotnet_interactive": {
     "language": "fsharp"
    },
    "polyglot_notebook": {
     "kernelName": "fsharp"
    }
   },
   "outputs": [
    {
     "name": "stdout",
     "output_type": "stream",
     "text": [
      "Success\r\n",
      "      Item:       - [ H, e, l, l, o ]\r\n",
      "      - InputState\r\n",
      "          lines: [ [Hello] ]\r\n",
      "          position: Position\r\n",
      "            line: 0\r\n",
      "            column: 7\r\n"
     ]
    }
   ],
   "source": [
    "//// test\n",
    "\n",
    "let input = fromStr \"[Hello]\"\n",
    "let parser =\n",
    "    between\n",
    "        (satisfy (fun c -> c = '[') \"[\")\n",
    "        (many (satisfy (fun c -> ['a'..'z'] @ ['A'..'Z'] |> List.contains c) \"letter\"))\n",
    "        (satisfy (fun c -> c = ']') \"]\")\n",
    "runOnInput parser input |> _equal (\n",
    "    Success (\n",
    "        ['H'; 'e'; 'l'; 'l'; 'o'],\n",
    "        {\n",
    "            lines = [| \"[Hello]\" |]\n",
    "            position = { line = 0; column = 7 }\n",
    "        }\n",
    "    )\n",
    ")"
   ]
  },
  {
   "cell_type": "code",
   "execution_count": null,
   "metadata": {
    "dotnet_repl_cellExecutionStartTime": "2023-07-18T03:00:09.322725-03:00",
    "dotnet_repl_cellExecutionEndTime": "2023-07-18T03:00:09.3478775-03:00",
    "dotnet_repl_cellExecutionTime": "25.1552ms",
    "dotnet_interactive": {
     "language": "fsharp"
    },
    "polyglot_notebook": {
     "kernelName": "fsharp"
    }
   },
   "outputs": [],
   "source": [
    "let sepBy1 p sep =\n",
    "    let sepThenP = sep >>. p\n",
    "    p .>>. many sepThenP\n",
    "    |>> fun (p, pList) -> p :: pList"
   ]
  },
  {
   "cell_type": "code",
   "execution_count": null,
   "metadata": {
    "dotnet_repl_cellExecutionStartTime": "2023-07-18T03:00:09.3479185-03:00",
    "dotnet_repl_cellExecutionEndTime": "2023-07-18T03:00:09.361723-03:00",
    "dotnet_repl_cellExecutionTime": "13.8063ms",
    "dotnet_interactive": {
     "language": "fsharp"
    },
    "polyglot_notebook": {
     "kernelName": "fsharp"
    }
   },
   "outputs": [],
   "source": [
    "let sepBy p sep =\n",
    "    sepBy1 p sep <|> returnP []"
   ]
  },
  {
   "cell_type": "code",
   "execution_count": null,
   "metadata": {
    "dotnet_repl_cellExecutionStartTime": "2023-07-18T03:00:09.3617811-03:00",
    "dotnet_repl_cellExecutionEndTime": "2023-07-18T03:00:09.4721258-03:00",
    "dotnet_repl_cellExecutionTime": "110.3469ms",
    "dotnet_interactive": {
     "language": "fsharp"
    },
    "polyglot_notebook": {
     "kernelName": "fsharp"
    }
   },
   "outputs": [
    {
     "name": "stdout",
     "output_type": "stream",
     "text": [
      "Success\r\n",
      "      Item:       - FSharpList<FSharpList<Char>>\r\n",
      "[ H, e, l, l, o ]\r\n",
      "[ W, o, r, l, d, \n",
      " ]\r\n",
      "      - InputState\r\n",
      "          lines: [ Hello,World ]\r\n",
      "          position: Position\r\n",
      "            line: 1\r\n",
      "            column: 0\r\n"
     ]
    }
   ],
   "source": [
    "//// test\n",
    "\n",
    "let input = fromStr \"Hello,World\"\n",
    "let parser = sepBy (many (satisfy (fun c -> c <> ',') \"not comma\")) (satisfy (fun c -> c = ',') \"comma\")\n",
    "runOnInput parser input |> _equal (\n",
    "    Success (\n",
    "        [['H'; 'e'; 'l'; 'l'; 'o']; ['W'; 'o'; 'r'; 'l'; 'd'; '\\n']],\n",
    "        {\n",
    "            lines = [| \"Hello,World\" |]\n",
    "            position = { line = 1; column = 0 }\n",
    "        }\n",
    "    )\n",
    ")"
   ]
  },
  {
   "cell_type": "code",
   "execution_count": null,
   "metadata": {
    "dotnet_repl_cellExecutionStartTime": "2023-07-18T03:00:09.4721717-03:00",
    "dotnet_repl_cellExecutionEndTime": "2023-07-18T03:00:09.4854681-03:00",
    "dotnet_repl_cellExecutionTime": "13.2983ms",
    "dotnet_interactive": {
     "language": "fsharp"
    },
    "polyglot_notebook": {
     "kernelName": "fsharp"
    }
   },
   "outputs": [],
   "source": [
    "let pchar charToMatch =\n",
    "    let predicate ch = ch = charToMatch\n",
    "    satisfy predicate $\"%c{charToMatch}\""
   ]
  },
  {
   "cell_type": "code",
   "execution_count": null,
   "metadata": {
    "dotnet_repl_cellExecutionStartTime": "2023-07-18T03:00:09.4855028-03:00",
    "dotnet_repl_cellExecutionEndTime": "2023-07-18T03:00:09.5094064-03:00",
    "dotnet_repl_cellExecutionTime": "23.906ms",
    "dotnet_interactive": {
     "language": "fsharp"
    },
    "polyglot_notebook": {
     "kernelName": "fsharp"
    }
   },
   "outputs": [],
   "source": [
    "let anyOf listOfChars =\n",
    "    listOfChars\n",
    "    |> List.map pchar\n",
    "    |> choice\n",
    "    <?> $\"anyOf %A{listOfChars}\""
   ]
  },
  {
   "cell_type": "code",
   "execution_count": null,
   "metadata": {
    "dotnet_repl_cellExecutionStartTime": "2023-07-18T03:00:09.5094518-03:00",
    "dotnet_repl_cellExecutionEndTime": "2023-07-18T03:00:09.555333-03:00",
    "dotnet_repl_cellExecutionTime": "45.8837ms",
    "dotnet_interactive": {
     "language": "fsharp"
    },
    "polyglot_notebook": {
     "kernelName": "fsharp"
    }
   },
   "outputs": [
    {
     "name": "stdout",
     "output_type": "stream",
     "text": [
      "Success\r\n",
      "      Item:       - [ H, e, l, l, o ]\r\n",
      "      - InputState\r\n",
      "          lines: [ Hello ]\r\n",
      "          position: Position\r\n",
      "            line: 0\r\n",
      "            column: 5\r\n"
     ]
    }
   ],
   "source": [
    "//// test\n",
    "\n",
    "let input = fromStr \"Hello\"\n",
    "let parser = anyOf ['H'; 'e'; 'l'; 'o'] |> many\n",
    "runOnInput parser input |> _equal (\n",
    "    Success (\n",
    "        ['H'; 'e'; 'l'; 'l'; 'o'],\n",
    "        {\n",
    "            lines = [| \"Hello\" |]\n",
    "            position = { line = 0; column = 5 }\n",
    "        }\n",
    "    )\n",
    ")"
   ]
  },
  {
   "cell_type": "code",
   "execution_count": null,
   "metadata": {
    "dotnet_repl_cellExecutionStartTime": "2023-07-18T03:00:09.5553782-03:00",
    "dotnet_repl_cellExecutionEndTime": "2023-07-18T03:00:09.5715191-03:00",
    "dotnet_repl_cellExecutionTime": "16.1432ms",
    "dotnet_interactive": {
     "language": "fsharp"
    },
    "polyglot_notebook": {
     "kernelName": "fsharp"
    }
   },
   "outputs": [],
   "source": [
    "let charListToStr charList =\n",
    "    charList |> List.toArray |> String"
   ]
  },
  {
   "cell_type": "code",
   "execution_count": null,
   "metadata": {
    "dotnet_repl_cellExecutionStartTime": "2023-07-18T03:00:09.5715533-03:00",
    "dotnet_repl_cellExecutionEndTime": "2023-07-18T03:00:09.5838602-03:00",
    "dotnet_repl_cellExecutionTime": "12.3087ms",
    "dotnet_interactive": {
     "language": "fsharp"
    },
    "polyglot_notebook": {
     "kernelName": "fsharp"
    }
   },
   "outputs": [],
   "source": [
    "let manyChars cp =\n",
    "    many cp\n",
    "    |>> charListToStr"
   ]
  },
  {
   "cell_type": "code",
   "execution_count": null,
   "metadata": {
    "dotnet_repl_cellExecutionStartTime": "2023-07-18T03:00:09.5838952-03:00",
    "dotnet_repl_cellExecutionEndTime": "2023-07-18T03:00:09.5962011-03:00",
    "dotnet_repl_cellExecutionTime": "12.308ms",
    "dotnet_interactive": {
     "language": "fsharp"
    },
    "polyglot_notebook": {
     "kernelName": "fsharp"
    }
   },
   "outputs": [],
   "source": [
    "let manyChars1 cp =\n",
    "    many1 cp\n",
    "    |>> charListToStr"
   ]
  },
  {
   "cell_type": "code",
   "execution_count": null,
   "metadata": {
    "dotnet_repl_cellExecutionStartTime": "2023-07-18T03:00:09.5962343-03:00",
    "dotnet_repl_cellExecutionEndTime": "2023-07-18T03:00:09.6270407-03:00",
    "dotnet_repl_cellExecutionTime": "30.8085ms",
    "dotnet_interactive": {
     "language": "fsharp"
    },
    "polyglot_notebook": {
     "kernelName": "fsharp"
    }
   },
   "outputs": [
    {
     "name": "stdout",
     "output_type": "stream",
     "text": [
      "Success\r\n",
      "      Item:       - Hello\r\n",
      "      - InputState\r\n",
      "          lines: [ Hello ]\r\n",
      "          position: Position\r\n",
      "            line: 0\r\n",
      "            column: 5\r\n"
     ]
    }
   ],
   "source": [
    "//// test\n",
    "\n",
    "let input = fromStr \"Hello\"\n",
    "let parser = manyChars1 (anyOf ['H'; 'e'; 'l'; 'o'])\n",
    "runOnInput parser input |> _equal (\n",
    "    Success (\n",
    "        \"Hello\",\n",
    "        {\n",
    "            lines = [| \"Hello\" |]\n",
    "            position = { line = 0; column = 5 }\n",
    "        }\n",
    "    )\n",
    ")"
   ]
  },
  {
   "cell_type": "code",
   "execution_count": null,
   "metadata": {
    "dotnet_repl_cellExecutionStartTime": "2023-07-18T03:00:09.6270814-03:00",
    "dotnet_repl_cellExecutionEndTime": "2023-07-18T03:00:09.643987-03:00",
    "dotnet_repl_cellExecutionTime": "16.9075ms",
    "dotnet_interactive": {
     "language": "fsharp"
    },
    "polyglot_notebook": {
     "kernelName": "fsharp"
    }
   },
   "outputs": [],
   "source": [
    "let pstring str =\n",
    "    str\n",
    "    |> List.ofSeq\n",
    "    |> List.map pchar\n",
    "    |> sequence\n",
    "    |> mapP charListToStr\n",
    "    <?> str"
   ]
  },
  {
   "cell_type": "code",
   "execution_count": null,
   "metadata": {
    "dotnet_repl_cellExecutionStartTime": "2023-07-18T03:00:09.6440229-03:00",
    "dotnet_repl_cellExecutionEndTime": "2023-07-18T03:00:09.6752081-03:00",
    "dotnet_repl_cellExecutionTime": "31.1867ms",
    "dotnet_interactive": {
     "language": "fsharp"
    },
    "polyglot_notebook": {
     "kernelName": "fsharp"
    }
   },
   "outputs": [
    {
     "name": "stdout",
     "output_type": "stream",
     "text": [
      "Success\r\n",
      "      Item:       - Hello\r\n",
      "      - InputState\r\n",
      "          lines: [ Hello ]\r\n",
      "          position: Position\r\n",
      "            line: 0\r\n",
      "            column: 5\r\n"
     ]
    }
   ],
   "source": [
    "//// test\n",
    "\n",
    "let input = fromStr \"Hello\"\n",
    "let parser = pstring \"Hello\"\n",
    "runOnInput parser input |> _equal (\n",
    "    Success (\n",
    "        \"Hello\",\n",
    "        {\n",
    "            lines = [| \"Hello\" |]\n",
    "            position = { line = 0; column = 5 }\n",
    "        }\n",
    "    )\n",
    ")"
   ]
  },
  {
   "cell_type": "code",
   "execution_count": null,
   "metadata": {
    "dotnet_repl_cellExecutionStartTime": "2023-07-18T03:00:09.6752421-03:00",
    "dotnet_repl_cellExecutionEndTime": "2023-07-18T03:00:09.6860759-03:00",
    "dotnet_repl_cellExecutionTime": "10.8356ms",
    "dotnet_interactive": {
     "language": "fsharp"
    },
    "polyglot_notebook": {
     "kernelName": "fsharp"
    }
   },
   "outputs": [],
   "source": [
    "let whitespaceChar =\n",
    "    satisfy Char.IsWhiteSpace \"whitespace\""
   ]
  },
  {
   "cell_type": "code",
   "execution_count": null,
   "metadata": {
    "dotnet_repl_cellExecutionStartTime": "2023-07-18T03:00:09.6861089-03:00",
    "dotnet_repl_cellExecutionEndTime": "2023-07-18T03:00:09.6955147-03:00",
    "dotnet_repl_cellExecutionTime": "9.4073ms",
    "dotnet_interactive": {
     "language": "fsharp"
    },
    "polyglot_notebook": {
     "kernelName": "fsharp"
    }
   },
   "outputs": [],
   "source": [
    "let spaces = many whitespaceChar"
   ]
  },
  {
   "cell_type": "code",
   "execution_count": null,
   "metadata": {
    "dotnet_repl_cellExecutionStartTime": "2023-07-18T03:00:09.6955453-03:00",
    "dotnet_repl_cellExecutionEndTime": "2023-07-18T03:00:09.7050191-03:00",
    "dotnet_repl_cellExecutionTime": "9.4755ms",
    "dotnet_interactive": {
     "language": "fsharp"
    },
    "polyglot_notebook": {
     "kernelName": "fsharp"
    }
   },
   "outputs": [],
   "source": [
    "let spaces1 = many1 whitespaceChar"
   ]
  },
  {
   "cell_type": "code",
   "execution_count": null,
   "metadata": {
    "dotnet_repl_cellExecutionStartTime": "2023-07-18T03:00:09.7050508-03:00",
    "dotnet_repl_cellExecutionEndTime": "2023-07-18T03:00:09.7385172-03:00",
    "dotnet_repl_cellExecutionTime": "33.4679ms",
    "dotnet_interactive": {
     "language": "fsharp"
    },
    "polyglot_notebook": {
     "kernelName": "fsharp"
    }
   },
   "outputs": [
    {
     "name": "stdout",
     "output_type": "stream",
     "text": [
      "Success\r\n",
      "      Item:       -         - [  ,   ]\r\n",
      "        - Hello\r\n",
      "      - InputState\r\n",
      "          lines: [   Hello ]\r\n",
      "          position: Position\r\n",
      "            line: 0\r\n",
      "            column: 7\r\n"
     ]
    }
   ],
   "source": [
    "//// test\n",
    "\n",
    "let input = fromStr \"  Hello\"\n",
    "let parser = spaces1 .>>. pstring \"Hello\"\n",
    "runOnInput parser input |> _equal (\n",
    "    Success (\n",
    "        ([' '; ' '], \"Hello\"),\n",
    "        {\n",
    "            lines = [| \"  Hello\" |]\n",
    "            position = { line = 0; column = 7 }\n",
    "        }\n",
    "    )\n",
    ")"
   ]
  },
  {
   "cell_type": "code",
   "execution_count": null,
   "metadata": {
    "dotnet_repl_cellExecutionStartTime": "2023-07-18T03:00:09.7385491-03:00",
    "dotnet_repl_cellExecutionEndTime": "2023-07-18T03:00:09.7491932-03:00",
    "dotnet_repl_cellExecutionTime": "10.6462ms",
    "dotnet_interactive": {
     "language": "fsharp"
    },
    "polyglot_notebook": {
     "kernelName": "fsharp"
    }
   },
   "outputs": [],
   "source": [
    "let digitChar =\n",
    "    satisfy Char.IsDigit \"digit\""
   ]
  },
  {
   "cell_type": "code",
   "execution_count": null,
   "metadata": {
    "dotnet_repl_cellExecutionStartTime": "2023-07-18T03:00:09.7492494-03:00",
    "dotnet_repl_cellExecutionEndTime": "2023-07-18T03:00:09.7725579-03:00",
    "dotnet_repl_cellExecutionTime": "23.3099ms",
    "dotnet_interactive": {
     "language": "fsharp"
    },
    "polyglot_notebook": {
     "kernelName": "fsharp"
    }
   },
   "outputs": [
    {
     "name": "stdout",
     "output_type": "stream",
     "text": [
      "Failure\r\n",
      "      Item1: digit\r\n",
      "      Item2: Unexpected 'H'\r\n",
      "      Item3: ParserPosition\r\n",
      "        currentLine: Hello\r\n",
      "        line: 0\r\n",
      "        column: 0\r\n"
     ]
    }
   ],
   "source": [
    "//// test\n",
    "\n",
    "let input = fromStr \"Hello\"\n",
    "let parser = digitChar\n",
    "runOnInput parser input |> _equal (\n",
    "    Failure (\n",
    "        \"digit\",\n",
    "        \"Unexpected 'H'\",\n",
    "        {\n",
    "            currentLine = \"Hello\"\n",
    "            line = 0\n",
    "            column = 0\n",
    "        }\n",
    "    )\n",
    ")"
   ]
  },
  {
   "cell_type": "code",
   "execution_count": null,
   "metadata": {
    "dotnet_repl_cellExecutionStartTime": "2023-07-18T03:00:09.7726002-03:00",
    "dotnet_repl_cellExecutionEndTime": "2023-07-18T03:00:09.8050161-03:00",
    "dotnet_repl_cellExecutionTime": "32.4179ms",
    "dotnet_interactive": {
     "language": "fsharp"
    },
    "polyglot_notebook": {
     "kernelName": "fsharp"
    }
   },
   "outputs": [],
   "source": [
    "let pint =\n",
    "    let resultToInt (sign, digits) =\n",
    "        let i = int digits\n",
    "        match sign with\n",
    "        | Some ch -> -i\n",
    "        | None -> i\n",
    "\n",
    "    let digits = manyChars1 digitChar\n",
    "\n",
    "    opt (pchar '-') .>>. digits\n",
    "    |> mapP resultToInt\n",
    "    <?> \"integer\""
   ]
  },
  {
   "cell_type": "code",
   "execution_count": null,
   "metadata": {
    "dotnet_repl_cellExecutionStartTime": "2023-07-18T03:00:09.8050523-03:00",
    "dotnet_repl_cellExecutionEndTime": "2023-07-18T03:00:09.8435357-03:00",
    "dotnet_repl_cellExecutionTime": "38.4852ms",
    "dotnet_interactive": {
     "language": "fsharp"
    },
    "polyglot_notebook": {
     "kernelName": "fsharp"
    }
   },
   "outputs": [
    {
     "name": "stdout",
     "output_type": "stream",
     "text": [
      "Success\r\n",
      "      Item:       - -123\r\n",
      "      - InputState\r\n",
      "          lines: [ -123 ]\r\n",
      "          position: Position\r\n",
      "            line: 0\r\n",
      "            column: 4\r\n"
     ]
    }
   ],
   "source": [
    "//// test\n",
    "\n",
    "run pint \"-123\"\n",
    "|> _equal (\n",
    "    Success (\n",
    "        -123,\n",
    "        {\n",
    "            lines = [| \"-123\" |]\n",
    "            position = { line = 0; column = 4 }\n",
    "        }\n",
    "    )\n",
    ")"
   ]
  },
  {
   "cell_type": "code",
   "execution_count": null,
   "metadata": {
    "dotnet_repl_cellExecutionStartTime": "2023-07-18T03:00:09.8435745-03:00",
    "dotnet_repl_cellExecutionEndTime": "2023-07-18T03:00:09.8909862-03:00",
    "dotnet_repl_cellExecutionTime": "47.4138ms",
    "dotnet_interactive": {
     "language": "fsharp"
    },
    "polyglot_notebook": {
     "kernelName": "fsharp"
    }
   },
   "outputs": [],
   "source": [
    "let pfloat =\n",
    "    let resultToFloat (((sign, digits1), point), digits2) =\n",
    "        let fl = float $\"{digits1}.{digits2}\"\n",
    "        match sign with\n",
    "        | Some ch -> -fl\n",
    "        | None -> fl\n",
    "\n",
    "    let digits = manyChars1 digitChar\n",
    "\n",
    "    opt (pchar '-') .>>. digits .>>. pchar '.' .>>. digits\n",
    "    |> mapP resultToFloat\n",
    "    <?> \"float\""
   ]
  },
  {
   "cell_type": "code",
   "execution_count": null,
   "metadata": {
    "dotnet_repl_cellExecutionStartTime": "2023-07-18T03:00:09.8910211-03:00",
    "dotnet_repl_cellExecutionEndTime": "2023-07-18T03:00:09.9338014-03:00",
    "dotnet_repl_cellExecutionTime": "42.7831ms",
    "dotnet_interactive": {
     "language": "fsharp"
    },
    "polyglot_notebook": {
     "kernelName": "fsharp"
    }
   },
   "outputs": [
    {
     "name": "stdout",
     "output_type": "stream",
     "text": [
      "Success\r\n",
      "      Item:       - -123.45\r\n",
      "      - InputState\r\n",
      "          lines: [ -123.45 ]\r\n",
      "          position: Position\r\n",
      "            line: 0\r\n",
      "            column: 7\r\n"
     ]
    }
   ],
   "source": [
    "//// test\n",
    "\n",
    "run pfloat \"-123.45\"\n",
    "|> _equal (\n",
    "    Success (\n",
    "        -123.45,\n",
    "        {\n",
    "            lines = [| \"-123.45\" |]\n",
    "            position = { line = 0; column = 7 }\n",
    "        }\n",
    "    )\n",
    ")"
   ]
  },
  {
   "cell_type": "code",
   "execution_count": null,
   "metadata": {
    "dotnet_repl_cellExecutionStartTime": "2023-07-18T03:00:09.9338553-03:00",
    "dotnet_repl_cellExecutionEndTime": "2023-07-18T03:00:10.05102-03:00",
    "dotnet_repl_cellExecutionTime": "117.1663ms",
    "dotnet_interactive": {
     "language": "fsharp"
    },
    "polyglot_notebook": {
     "kernelName": "fsharp"
    }
   },
   "outputs": [],
   "source": [
    "let createParserForwardedToRef<'a> () =\n",
    "    let dummyParser : Parser<'a> =\n",
    "        let innerFn _ = failwith \"unfixed forwarded parser\"\n",
    "        { parseFn = innerFn; label = \"unknown\" }\n",
    "\n",
    "    let mutable parserRef = dummyParser\n",
    "\n",
    "    let innerFn input =\n",
    "        runOnInput parserRef input\n",
    "\n",
    "    let wrapperParser = { parseFn = innerFn; label = \"unknown\" }\n",
    "    \n",
    "    wrapperParser, (fun v -> parserRef <- v)"
   ]
  },
  {
   "cell_type": "code",
   "execution_count": null,
   "metadata": {
    "dotnet_repl_cellExecutionStartTime": "2023-07-18T03:00:10.0510551-03:00",
    "dotnet_repl_cellExecutionEndTime": "2023-07-18T03:00:10.0661451-03:00",
    "dotnet_repl_cellExecutionTime": "15.0929ms",
    "dotnet_interactive": {
     "language": "fsharp"
    },
    "polyglot_notebook": {
     "kernelName": "fsharp"
    }
   },
   "outputs": [],
   "source": [
    "let (>>%) p x =\n",
    "    p\n",
    "    |>> fun _ -> x"
   ]
  }
 ],
 "metadata": {
  "kernelspec": {
   "display_name": ".NET (C#)",
   "language": "C#",
   "name": ".net-csharp"
  },
  "language_info": {
   "file_extension": ".cs",
   "mimetype": "text/x-csharp",
   "name": "C#",
   "pygments_lexer": "csharp",
   "version": "10.0"
  },
  "polyglot_notebook": {
   "defaultKernelName": "csharp",
   "items": [
    {
     "name": "csharp"
    }
   ]
  },
  "dotnet_interactive": {
   "defaultKernelName": "csharp",
   "items": [
    {
     "name": "csharp"
    }
   ]
  }
 },
 "nbformat": 4,
 "nbformat_minor": 5
}