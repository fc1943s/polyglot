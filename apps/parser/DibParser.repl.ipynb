{
 "cells": [
  {
   "cell_type": "markdown",
   "metadata": {
    "dotnet_repl_cellExecutionStartTime": "2023-07-25T15:53:29.5427955-03:00",
    "dotnet_repl_cellExecutionEndTime": "2023-07-25T15:53:29.6046731-03:00",
    "dotnet_repl_cellExecutionTime": "62.0657ms"
   },
   "source": [
    "# DibParser (Polyglot)"
   ]
  },
  {
   "cell_type": "code",
   "execution_count": null,
   "metadata": {
    "dotnet_repl_cellExecutionStartTime": "2023-07-25T15:53:29.6072855-03:00",
    "dotnet_repl_cellExecutionEndTime": "2023-07-25T15:53:34.2794295-03:00",
    "dotnet_repl_cellExecutionTime": "4.6721487s",
    "dotnet_interactive": {
     "language": "fsharp"
    },
    "polyglot_notebook": {
     "kernelName": "fsharp"
    }
   },
   "outputs": [],
   "source": [
    "#!import ../nbs/Testing.dib"
   ]
  },
  {
   "cell_type": "code",
   "execution_count": null,
   "metadata": {
    "dotnet_repl_cellExecutionStartTime": "2023-07-25T15:53:34.2794973-03:00",
    "dotnet_repl_cellExecutionEndTime": "2023-07-25T15:53:34.2977562-03:00",
    "dotnet_repl_cellExecutionTime": "18.2631ms",
    "dotnet_interactive": {
     "language": "fsharp"
    },
    "polyglot_notebook": {
     "kernelName": "fsharp"
    }
   },
   "outputs": [],
   "source": [
    "//#r \"nuget:FParsec,2.0.0-beta2\"\n",
    "#r @\"../../../../../../../.nuget/packages/fparsec/2.0.0-beta2/lib/netstandard2.1/FParsec.dll\"\n",
    "#r @\"../../../../../../../.nuget/packages/fparsec/2.0.0-beta2/lib/netstandard2.1/FParsecCS.dll\""
   ]
  },
  {
   "cell_type": "code",
   "execution_count": null,
   "metadata": {
    "dotnet_repl_cellExecutionStartTime": "2023-07-25T15:53:34.2977967-03:00",
    "dotnet_repl_cellExecutionEndTime": "2023-07-25T15:53:34.8403943-03:00",
    "dotnet_repl_cellExecutionTime": "542.6025ms",
    "dotnet_interactive": {
     "language": "fsharp"
    },
    "polyglot_notebook": {
     "kernelName": "fsharp"
    }
   },
   "outputs": [],
   "source": [
    "#!import ../nbs/Common.fs"
   ]
  },
  {
   "cell_type": "code",
   "execution_count": null,
   "metadata": {
    "dotnet_repl_cellExecutionStartTime": "2023-07-25T15:53:34.8404396-03:00",
    "dotnet_repl_cellExecutionEndTime": "2023-07-25T15:53:34.8534734-03:00",
    "dotnet_repl_cellExecutionTime": "13.0388ms",
    "dotnet_interactive": {
     "language": "fsharp"
    },
    "polyglot_notebook": {
     "kernelName": "fsharp"
    }
   },
   "outputs": [],
   "source": [
    "open Common\n",
    "open FParsec"
   ]
  },
  {
   "cell_type": "markdown",
   "metadata": {
    "dotnet_repl_cellExecutionStartTime": "2023-07-25T15:53:34.8535198-03:00",
    "dotnet_repl_cellExecutionEndTime": "2023-07-25T15:53:34.8563294-03:00",
    "dotnet_repl_cellExecutionTime": "2.814ms"
   },
   "source": [
    "## escapeCell (test)"
   ]
  },
  {
   "cell_type": "code",
   "execution_count": null,
   "metadata": {
    "dotnet_repl_cellExecutionStartTime": "2023-07-25T15:53:34.8563851-03:00",
    "dotnet_repl_cellExecutionEndTime": "2023-07-25T15:53:34.8896869-03:00",
    "dotnet_repl_cellExecutionTime": "33.3062ms",
    "dotnet_interactive": {
     "language": "fsharp"
    },
    "polyglot_notebook": {
     "kernelName": "fsharp"
    }
   },
   "outputs": [],
   "source": [
    "//// test\n",
    "\n",
    "let escapeCell input =\n",
    "    input\n",
    "    |> String.split [| '\\n' |]\n",
    "    |> Array.map (function\n",
    "        | line when line |> String.startsWith \"\\\\#!\" || line |> String.startsWith \"\\\\#r\" ->\n",
    "            System.Text.RegularExpressions.Regex.Replace (line, \"^\\\\\\\\#\", \"#\")\n",
    "        | line -> line\n",
    "    )\n",
    "    |> String.concat \"\\n\""
   ]
  },
  {
   "cell_type": "code",
   "execution_count": null,
   "metadata": {
    "dotnet_repl_cellExecutionStartTime": "2023-07-25T15:53:34.8897222-03:00",
    "dotnet_repl_cellExecutionEndTime": "2023-07-25T15:53:34.9485984-03:00",
    "dotnet_repl_cellExecutionTime": "58.8796ms",
    "dotnet_interactive": {
     "language": "fsharp"
    },
    "polyglot_notebook": {
     "kernelName": "fsharp"
    }
   },
   "outputs": [
    {
     "name": "stdout",
     "output_type": "stream",
     "text": [
      "a\r\n",
      "#!magic\r\n",
      "b\r\n",
      "\r\n"
     ]
    }
   ],
   "source": [
    "//// test\n",
    "\n",
    "$\"a{nl}\\\\#!magic{nl}b{nl}\"\n",
    "|> escapeCell\n",
    "|> _equal (\n",
    "    $\"a{nl}#!magic{nl}b{nl}\"\n",
    ")"
   ]
  },
  {
   "cell_type": "code",
   "execution_count": null,
   "metadata": {
    "dotnet_repl_cellExecutionStartTime": "2023-07-25T15:53:34.9486347-03:00",
    "dotnet_repl_cellExecutionEndTime": "2023-07-25T15:53:34.9955588-03:00",
    "dotnet_repl_cellExecutionTime": "46.9286ms",
    "dotnet_interactive": {
     "language": "fsharp"
    },
    "polyglot_notebook": {
     "kernelName": "fsharp"
    }
   },
   "outputs": [],
   "source": [
    "type Block =\n",
    "    {\n",
    "        magic : string\n",
    "        content : string\n",
    "    }"
   ]
  },
  {
   "cell_type": "markdown",
   "metadata": {
    "dotnet_repl_cellExecutionStartTime": "2023-07-25T15:53:34.9955935-03:00",
    "dotnet_repl_cellExecutionEndTime": "2023-07-25T15:53:34.9984654-03:00",
    "dotnet_repl_cellExecutionTime": "2.8763ms"
   },
   "source": [
    "## magicMarker"
   ]
  },
  {
   "cell_type": "code",
   "execution_count": null,
   "metadata": {
    "dotnet_repl_cellExecutionStartTime": "2023-07-25T15:53:34.9985086-03:00",
    "dotnet_repl_cellExecutionEndTime": "2023-07-25T15:53:35.0209612-03:00",
    "dotnet_repl_cellExecutionTime": "22.4624ms",
    "dotnet_interactive": {
     "language": "fsharp"
    },
    "polyglot_notebook": {
     "kernelName": "fsharp"
    }
   },
   "outputs": [],
   "source": [
    "let magicMarker : Parser<string, unit> = pstring \"#!\""
   ]
  },
  {
   "cell_type": "code",
   "execution_count": null,
   "metadata": {
    "dotnet_repl_cellExecutionStartTime": "2023-07-25T15:53:35.0210244-03:00",
    "dotnet_repl_cellExecutionEndTime": "2023-07-25T15:53:35.064785-03:00",
    "dotnet_repl_cellExecutionTime": "43.766ms",
    "dotnet_interactive": {
     "language": "fsharp"
    },
    "polyglot_notebook": {
     "kernelName": "fsharp"
    }
   },
   "outputs": [
    {
     "name": "stdout",
     "output_type": "stream",
     "text": [
      "Success\r\n",
      "      Item1: #!\r\n",
      "      Item2: <null>\r\n",
      "      Item3: Position\r\n",
      "        Index: 2\r\n",
      "        Line: 1\r\n",
      "        Column: 3\r\n",
      "        StreamName: \r\n"
     ]
    }
   ],
   "source": [
    "//// test\n",
    "\n",
    "\"#!magic\"\n",
    "|> run magicMarker\n",
    "|> _equal (\n",
    "    Success (\"#!\", (), Position (\"\", 2, 1, 3))\n",
    ")"
   ]
  },
  {
   "cell_type": "code",
   "execution_count": null,
   "metadata": {
    "dotnet_repl_cellExecutionStartTime": "2023-07-25T15:53:35.0648302-03:00",
    "dotnet_repl_cellExecutionEndTime": "2023-07-25T15:53:35.1207082-03:00",
    "dotnet_repl_cellExecutionTime": "55.8828ms",
    "dotnet_interactive": {
     "language": "fsharp"
    },
    "polyglot_notebook": {
     "kernelName": "fsharp"
    }
   },
   "outputs": [
    {
     "name": "stdout",
     "output_type": "stream",
     "text": [
      "Failure\r\n",
      "      Item1: Error in Ln: 1 Col: 1\r\n",
      "##!magic\r\n",
      "^\r\n",
      "Expecting: '#!'\r\n",
      "\r\n",
      "      Item2: ParserError\r\n",
      "        Position: Position\r\n",
      "          Index: 0\r\n",
      "          Line: 1\r\n",
      "          Column: 1\r\n",
      "          StreamName: \r\n",
      "        UserState: <null>\r\n",
      "        Messages: ErrorMessageList\r\n",
      "          Head: ExpectedString\r\n",
      "            String: #!\r\n",
      "            Type: ExpectedString\r\n",
      "          Tail: <null>\r\n",
      "      Item3: <null>\r\n"
     ]
    }
   ],
   "source": [
    "//// test\n",
    "\n",
    "\"##!magic\"\n",
    "|> run magicMarker\n",
    "|> _equal (\n",
    "    Failure (\n",
    "        $\"Error in Ln: 1 Col: 1{nl}##!magic{nl}^{nl}Expecting: '#!'{nl}\",\n",
    "        ParserError (\n",
    "            Position (\"\", 0, 1, 1),\n",
    "            (),\n",
    "            ErrorMessageList (ExpectedString \"#!\")\n",
    "        ),\n",
    "        ()\n",
    "    )\n",
    ")"
   ]
  },
  {
   "cell_type": "markdown",
   "metadata": {
    "dotnet_repl_cellExecutionStartTime": "2023-07-25T15:53:35.1207525-03:00",
    "dotnet_repl_cellExecutionEndTime": "2023-07-25T15:53:35.1243977-03:00",
    "dotnet_repl_cellExecutionTime": "3.6513ms"
   },
   "source": [
    "## magicCommand"
   ]
  },
  {
   "cell_type": "code",
   "execution_count": null,
   "metadata": {
    "dotnet_repl_cellExecutionStartTime": "2023-07-25T15:53:35.124452-03:00",
    "dotnet_repl_cellExecutionEndTime": "2023-07-25T15:53:35.1588894-03:00",
    "dotnet_repl_cellExecutionTime": "34.4419ms",
    "dotnet_interactive": {
     "language": "fsharp"
    },
    "polyglot_notebook": {
     "kernelName": "fsharp"
    }
   },
   "outputs": [],
   "source": [
    "let magicCommand =\n",
    "    magicMarker\n",
    "    >>. manyTill anyChar newline\n",
    "    |>> (String.Concat >> String.trim)"
   ]
  },
  {
   "cell_type": "code",
   "execution_count": null,
   "metadata": {
    "dotnet_repl_cellExecutionStartTime": "2023-07-25T15:53:35.1589401-03:00",
    "dotnet_repl_cellExecutionEndTime": "2023-07-25T15:53:35.1916156-03:00",
    "dotnet_repl_cellExecutionTime": "32.6807ms",
    "dotnet_interactive": {
     "language": "fsharp"
    },
    "polyglot_notebook": {
     "kernelName": "fsharp"
    }
   },
   "outputs": [
    {
     "name": "stdout",
     "output_type": "stream",
     "text": [
      "Success\r\n",
      "      Item1: magic\r\n",
      "      Item2: <null>\r\n",
      "      Item3: Position\r\n",
      "        Index: 8\r\n",
      "        Line: 2\r\n",
      "        Column: 1\r\n",
      "        StreamName: \r\n"
     ]
    }
   ],
   "source": [
    "//// test\n",
    "\n",
    "\"\"\"#!magic\n",
    "\n",
    "a\"\"\"\n",
    "|> run magicCommand\n",
    "|> _equal (\n",
    "    Success (\"magic\", (), Position (\"\", 8, 2, 1))\n",
    ")"
   ]
  },
  {
   "cell_type": "code",
   "execution_count": null,
   "metadata": {
    "dotnet_repl_cellExecutionStartTime": "2023-07-25T15:53:35.1916644-03:00",
    "dotnet_repl_cellExecutionEndTime": "2023-07-25T15:53:35.2218568-03:00",
    "dotnet_repl_cellExecutionTime": "30.199ms",
    "dotnet_interactive": {
     "language": "fsharp"
    },
    "polyglot_notebook": {
     "kernelName": "fsharp"
    }
   },
   "outputs": [
    {
     "name": "stdout",
     "output_type": "stream",
     "text": [
      "Failure\r\n",
      "      Item1: Error in Ln: 1 Col: 1\r\n",
      " #!magic\r\n",
      "^\r\n",
      "Expecting: '#!'\r\n",
      "\r\n",
      "      Item2: ParserError\r\n",
      "        Position: Position\r\n",
      "          Index: 0\r\n",
      "          Line: 1\r\n",
      "          Column: 1\r\n",
      "          StreamName: \r\n",
      "        UserState: <null>\r\n",
      "        Messages: ErrorMessageList\r\n",
      "          Head: ExpectedString\r\n",
      "            String: #!\r\n",
      "            Type: ExpectedString\r\n",
      "          Tail: <null>\r\n",
      "      Item3: <null>\r\n"
     ]
    }
   ],
   "source": [
    "//// test\n",
    "\n",
    "\"\"\" #!magic\n",
    "\n",
    "a\"\"\"\n",
    "|> run magicCommand\n",
    "|> _equal (\n",
    "    Failure (\n",
    "        $\"Error in Ln: 1 Col: 1{nl} #!magic{nl}^{nl}Expecting: '#!'{nl}\",\n",
    "        ParserError (\n",
    "            Position (\"\", 0, 1, 1),\n",
    "            (),\n",
    "            ErrorMessageList (ExpectedString \"#!\")\n",
    "        ),\n",
    "        ()\n",
    "    )\n",
    ")"
   ]
  },
  {
   "cell_type": "code",
   "execution_count": null,
   "metadata": {
    "dotnet_repl_cellExecutionStartTime": "2023-07-25T15:53:35.2219584-03:00",
    "dotnet_repl_cellExecutionEndTime": "2023-07-25T15:53:35.2541871-03:00",
    "dotnet_repl_cellExecutionTime": "32.2364ms",
    "dotnet_interactive": {
     "language": "fsharp"
    },
    "polyglot_notebook": {
     "kernelName": "fsharp"
    }
   },
   "outputs": [],
   "source": [
    "let content =\n",
    "    (newline >>. magicMarker) <|> (eof >>. preturn \"\")\n",
    "    |> attempt\n",
    "    |> lookAhead\n",
    "    |> manyTill anyChar\n",
    "    |>> (String.Concat >> String.trim)"
   ]
  },
  {
   "cell_type": "code",
   "execution_count": null,
   "metadata": {
    "dotnet_repl_cellExecutionStartTime": "2023-07-25T15:53:35.2542452-03:00",
    "dotnet_repl_cellExecutionEndTime": "2023-07-25T15:53:35.2796761-03:00",
    "dotnet_repl_cellExecutionTime": "25.4448ms",
    "dotnet_interactive": {
     "language": "fsharp"
    },
    "polyglot_notebook": {
     "kernelName": "fsharp"
    }
   },
   "outputs": [
    {
     "name": "stdout",
     "output_type": "stream",
     "text": [
      "Success\r\n",
      "      Item1: #!magic\n",
      "\n",
      "\n",
      "a\r\n",
      "      Item2: <null>\r\n",
      "      Item3: Position\r\n",
      "        Index: 14\r\n",
      "        Line: 7\r\n",
      "        Column: 1\r\n",
      "        StreamName: \r\n"
     ]
    }
   ],
   "source": [
    "//// test\n",
    "\n",
    "\"\"\"#!magic\n",
    "\n",
    "\n",
    "a\n",
    "\n",
    "\n",
    "\"\"\"\n",
    "|> run content\n",
    "|> _equal (\n",
    "    Success (\"\"\"#!magic\n",
    "\n",
    "\n",
    "a\"\"\", (), Position (\"\", 14, 7, 1))\n",
    ")"
   ]
  },
  {
   "cell_type": "code",
   "execution_count": null,
   "metadata": {
    "dotnet_repl_cellExecutionStartTime": "2023-07-25T15:53:35.2797279-03:00",
    "dotnet_repl_cellExecutionEndTime": "2023-07-25T15:53:35.3302344-03:00",
    "dotnet_repl_cellExecutionTime": "50.5115ms",
    "dotnet_interactive": {
     "language": "fsharp"
    },
    "polyglot_notebook": {
     "kernelName": "fsharp"
    }
   },
   "outputs": [],
   "source": [
    "let block =\n",
    "    pipe2\n",
    "        magicCommand\n",
    "        content\n",
    "        (fun magic content ->\n",
    "            {\n",
    "                magic = magic\n",
    "                content = content\n",
    "            })"
   ]
  },
  {
   "cell_type": "code",
   "execution_count": null,
   "metadata": {
    "dotnet_repl_cellExecutionStartTime": "2023-07-25T15:53:35.3302774-03:00",
    "dotnet_repl_cellExecutionEndTime": "2023-07-25T15:53:35.3575795-03:00",
    "dotnet_repl_cellExecutionTime": "27.3079ms",
    "dotnet_interactive": {
     "language": "fsharp"
    },
    "polyglot_notebook": {
     "kernelName": "fsharp"
    }
   },
   "outputs": [
    {
     "name": "stdout",
     "output_type": "stream",
     "text": [
      "Success\r\n",
      "      Item1: Block\r\n",
      "        magic: magic\r\n",
      "        content: a\r\n",
      "      Item2: <null>\r\n",
      "      Item3: Position\r\n",
      "        Index: 14\r\n",
      "        Line: 7\r\n",
      "        Column: 1\r\n",
      "        StreamName: \r\n"
     ]
    }
   ],
   "source": [
    "//// test\n",
    "\n",
    "\"\"\"#!magic\n",
    "\n",
    "\n",
    "a\n",
    "\n",
    "\n",
    "\"\"\"\n",
    "|> run block\n",
    "|> _equal (\n",
    "    Success (\n",
    "        { magic = \"magic\"; content = \"a\" },\n",
    "        (),\n",
    "        Position (\"\", 14, 7, 1)\n",
    "    )\n",
    ")"
   ]
  },
  {
   "cell_type": "code",
   "execution_count": null,
   "metadata": {
    "dotnet_repl_cellExecutionStartTime": "2023-07-25T15:53:35.3576267-03:00",
    "dotnet_repl_cellExecutionEndTime": "2023-07-25T15:53:35.3790939-03:00",
    "dotnet_repl_cellExecutionTime": "21.4718ms",
    "dotnet_interactive": {
     "language": "fsharp"
    },
    "polyglot_notebook": {
     "kernelName": "fsharp"
    }
   },
   "outputs": [],
   "source": [
    "let blocks =\n",
    "    skipMany newline\n",
    "    >>. sepEndBy block (skipMany1 newline)"
   ]
  },
  {
   "cell_type": "code",
   "execution_count": null,
   "metadata": {
    "dotnet_repl_cellExecutionStartTime": "2023-07-25T15:53:35.379276-03:00",
    "dotnet_repl_cellExecutionEndTime": "2023-07-25T15:53:35.417743-03:00",
    "dotnet_repl_cellExecutionTime": "38.4738ms",
    "dotnet_interactive": {
     "language": "fsharp"
    },
    "polyglot_notebook": {
     "kernelName": "fsharp"
    }
   },
   "outputs": [
    {
     "name": "stdout",
     "output_type": "stream",
     "text": [
      "Success\r\n",
      "      Item1: FSharpList<Block>\r\n",
      "        - magic: magic1\r\n",
      "          content: a\r\n",
      "        - magic: magic2\r\n",
      "          content: b\r\n",
      "      Item2: <null>\r\n",
      "      Item3: Position\r\n",
      "        Index: 26\r\n",
      "        Line: 9\r\n",
      "        Column: 1\r\n",
      "        StreamName: \r\n"
     ]
    }
   ],
   "source": [
    "//// test\n",
    "\n",
    "\n",
    "\"\"\"#!magic1\n",
    "\n",
    "a\n",
    "\n",
    "\\#!magic2\n",
    "\n",
    "b\n",
    "\n",
    "\"\"\"\n",
    "|> escapeCell\n",
    "|> run blocks\n",
    "|> _equal (\n",
    "    Success (\n",
    "        [\n",
    "            { magic = \"magic1\"; content = \"a\" }\n",
    "            { magic = \"magic2\"; content = \"b\" }\n",
    "        ],\n",
    "        (),\n",
    "        Position (\"\", 26, 9, 1)\n",
    "    )\n",
    ")"
   ]
  },
  {
   "cell_type": "code",
   "execution_count": null,
   "metadata": {
    "dotnet_repl_cellExecutionStartTime": "2023-07-25T15:53:35.417821-03:00",
    "dotnet_repl_cellExecutionEndTime": "2023-07-25T15:53:35.5343666-03:00",
    "dotnet_repl_cellExecutionTime": "116.55ms",
    "dotnet_interactive": {
     "language": "fsharp"
    },
    "polyglot_notebook": {
     "kernelName": "fsharp"
    }
   },
   "outputs": [],
   "source": [
    "let formatBlock kernel (block : Block) =\n",
    "    match kernel, block with\n",
    "    | _, { magic = \"markdown\"; content = content } ->\n",
    "        content\n",
    "        |> String.split [| '\\n' |]\n",
    "        |> Array.map (String.trimEnd [||])\n",
    "        |> Array.filter (String.endsWith \" (test)\" >> not)\n",
    "        |> Array.map (function\n",
    "            | \"\" -> \"///\"\n",
    "            | line -> System.Text.RegularExpressions.Regex.Replace (line, \"^\\\\s*\", \"$&/// \")\n",
    "        )\n",
    "        |> String.concat \"\\n\"\n",
    "    | \"fsharp\", { magic = \"fsharp\"; content = content } ->\n",
    "        let trimmedContent = content |> String.trim\n",
    "        if trimmedContent |> String.startsWith \"//// test\" || trimmedContent |> String.startsWith \"//// ignore\"\n",
    "        then \"\"\n",
    "        else\n",
    "            content\n",
    "            |> String.split [| '\\n' |]\n",
    "            |> Array.filter (String.trimStart [||] >> String.startsWith \"#r\" >> not)\n",
    "            |> String.concat \"\\n\"\n",
    "    | _ -> \"\""
   ]
  },
  {
   "cell_type": "code",
   "execution_count": null,
   "metadata": {
    "dotnet_repl_cellExecutionStartTime": "2023-07-25T15:53:35.5344011-03:00",
    "dotnet_repl_cellExecutionEndTime": "2023-07-25T15:53:35.5780597-03:00",
    "dotnet_repl_cellExecutionTime": "43.6612ms",
    "dotnet_interactive": {
     "language": "fsharp"
    },
    "polyglot_notebook": {
     "kernelName": "fsharp"
    }
   },
   "outputs": [
    {
     "name": "stdout",
     "output_type": "stream",
     "text": [
      "/// a\n",
      "///\n",
      "    /// b\n",
      "///\n",
      "/// c\r\n"
     ]
    }
   ],
   "source": [
    "//// test\n",
    "\n",
    "\"\"\"#!markdown\n",
    "\n",
    "\n",
    "a\n",
    "\n",
    "    b\n",
    "\n",
    "c\n",
    "\n",
    "\n",
    "\\#!markdown\n",
    "\n",
    "\n",
    "c\n",
    "\n",
    "\n",
    "\\#!fsharp\n",
    "\n",
    "\n",
    "let a = 1\"\"\"\n",
    "|> escapeCell\n",
    "|> run block\n",
    "|> function\n",
    "    | Success (block, _, _) -> formatBlock \"fsharp\" block\n",
    "    | Failure (msg, _, _) -> failwith msg\n",
    "|> _equal \"\"\"/// a\n",
    "///\n",
    "    /// b\n",
    "///\n",
    "/// c\"\"\""
   ]
  },
  {
   "cell_type": "code",
   "execution_count": null,
   "metadata": {
    "dotnet_repl_cellExecutionStartTime": "2023-07-25T15:53:35.5780926-03:00",
    "dotnet_repl_cellExecutionEndTime": "2023-07-25T15:53:35.5959313-03:00",
    "dotnet_repl_cellExecutionTime": "17.8436ms",
    "dotnet_interactive": {
     "language": "fsharp"
    },
    "polyglot_notebook": {
     "kernelName": "fsharp"
    }
   },
   "outputs": [],
   "source": [
    "let formatBlocks kernel blocks =\n",
    "    blocks\n",
    "    |> List.map (formatBlock kernel)\n",
    "    |> List.filter ((<>) \"\")\n",
    "    |> String.concat \"\\n\\n\"\n",
    "    |> fun s -> s + \"\\n\""
   ]
  },
  {
   "cell_type": "code",
   "execution_count": null,
   "metadata": {
    "dotnet_repl_cellExecutionStartTime": "2023-07-25T15:53:35.5959673-03:00",
    "dotnet_repl_cellExecutionEndTime": "2023-07-25T15:53:35.6308708-03:00",
    "dotnet_repl_cellExecutionTime": "34.9093ms",
    "dotnet_interactive": {
     "language": "fsharp"
    },
    "polyglot_notebook": {
     "kernelName": "fsharp"
    }
   },
   "outputs": [
    {
     "name": "stdout",
     "output_type": "stream",
     "text": [
      "/// a\n",
      "///\n",
      "/// b\n",
      "\n",
      "/// c\n",
      "\n",
      "let a = 1\n",
      "\n",
      "/// e\n",
      "\n",
      "let a = 3\n",
      "\r\n"
     ]
    }
   ],
   "source": [
    "//// test\n",
    "\n",
    "\"\"\"#!markdown\n",
    "\n",
    "\n",
    "a\n",
    "\n",
    "b\n",
    "\n",
    "\n",
    "\\#!markdown\n",
    "\n",
    "\n",
    "c\n",
    "\n",
    "\n",
    "\\#!fsharp\n",
    "\n",
    "\n",
    "let a = 1\n",
    "\n",
    "\\#!markdown\n",
    "\n",
    "d (test)\n",
    "\n",
    "\\#!fsharp\n",
    "\n",
    "//// test\n",
    "\n",
    "let a = 2\n",
    "\n",
    "\\#!markdown\n",
    "\n",
    "e\n",
    "\n",
    "\\#!fsharp\n",
    "\n",
    "let a = 3\"\"\"\n",
    "|> escapeCell\n",
    "|> run blocks\n",
    "|> function\n",
    "    | Success (blocks, _, _) -> formatBlocks \"fsharp\" blocks\n",
    "    | Failure (msg, _, _) -> failwith msg\n",
    "|> _equal \"\"\"/// a\n",
    "///\n",
    "/// b\n",
    "\n",
    "/// c\n",
    "\n",
    "let a = 1\n",
    "\n",
    "/// e\n",
    "\n",
    "let a = 3\n",
    "\"\"\""
   ]
  },
  {
   "cell_type": "code",
   "execution_count": null,
   "metadata": {
    "dotnet_repl_cellExecutionStartTime": "2023-07-25T15:53:35.6309183-03:00",
    "dotnet_repl_cellExecutionEndTime": "2023-07-25T15:53:35.7053185-03:00",
    "dotnet_repl_cellExecutionTime": "74.4042ms",
    "dotnet_interactive": {
     "language": "fsharp"
    },
    "polyglot_notebook": {
     "kernelName": "fsharp"
    }
   },
   "outputs": [],
   "source": [
    "let parse kernel input =\n",
    "    match run blocks input with\n",
    "    | Success (blocks, _, _) ->\n",
    "        let indentBlock (block : Block) =\n",
    "            { block with\n",
    "                content =\n",
    "                    block.content\n",
    "                    |> String.split [| '\\n' |]\n",
    "                    |> Array.map (fun line ->\n",
    "                        if line |> String.trimEnd [||] = \"\"\n",
    "                        then \"\"\n",
    "                        else $\"    {line}\"\n",
    "                    )\n",
    "                    |> String.concat \"\\n\"\n",
    "            }\n",
    "\n",
    "        let blocks = blocks |> List.filter (fun block -> block.magic = kernel || block.magic = \"markdown\")\n",
    "        \n",
    "        match blocks with\n",
    "        | { magic = \"markdown\"; content = content } :: _\n",
    "            when kernel = \"fsharp\"\n",
    "            && content |> String.startsWith \"# \"\n",
    "            && content |> String.endsWith \")\"\n",
    "            ->\n",
    "            let moduleName, namespaceName =\n",
    "                System.Text.RegularExpressions.Regex.Match (content, @\"# (.*) \\((.*)\\)$\")\n",
    "                |> fun m -> m.Groups.[1].Value, m.Groups.[2].Value\n",
    "\n",
    "            let moduleBlock =\n",
    "                {\n",
    "                    magic = \"fsharp\"\n",
    "                    content =\n",
    "                        $\"\"\"#if !INTERACTIVE\n",
    "namespace {namespaceName}\n",
    "#endif\n",
    "\n",
    "module {moduleName} =\"\"\"\n",
    "                }\n",
    "\n",
    "            blocks\n",
    "            |> List.indexed\n",
    "            |> List.fold\n",
    "                (fun blocks (index, block) ->\n",
    "                    match index with\n",
    "                    | 0 -> blocks\n",
    "                    | 1 -> indentBlock block :: moduleBlock :: blocks\n",
    "                    | _ -> indentBlock block :: blocks\n",
    "                )\n",
    "                []\n",
    "            |> List.rev\n",
    "        | _ -> blocks\n",
    "        |> Result.Ok\n",
    "    | Failure (errorMsg, _, _) -> Result.Error errorMsg"
   ]
  },
  {
   "cell_type": "code",
   "execution_count": null,
   "metadata": {
    "dotnet_repl_cellExecutionStartTime": "2023-07-25T15:53:35.7053521-03:00",
    "dotnet_repl_cellExecutionEndTime": "2023-07-25T15:53:35.7177082-03:00",
    "dotnet_repl_cellExecutionTime": "12.3607ms",
    "dotnet_interactive": {
     "language": "fsharp"
    },
    "polyglot_notebook": {
     "kernelName": "fsharp"
    }
   },
   "outputs": [],
   "source": [
    "//// test\n",
    "\n",
    "let example1 =\n",
    "    \"\"\"#!meta\n",
    "\n",
    "{\"kernelInfo\":{\"defaultKernelName\":\"fsharp\",\"items\":[{\"aliases\":[],\"name\":\"fsharp\"},{\"aliases\":[],\"name\":\"fsharp\"}]}}\n",
    "\n",
    "\\#!markdown\n",
    "\n",
    "# TestModule (TestNamespace)\n",
    "\n",
    "\\#!fsharp\n",
    "\n",
    "\\#!import file.dib\n",
    "\n",
    "\\#!fsharp\n",
    "\n",
    "\\#r \"nuget:Expecto\"\n",
    "\n",
    "\\#!markdown\n",
    "\n",
    "## ParserLibrary\n",
    "\n",
    "\\#!fsharp\n",
    "\n",
    "open System\n",
    "\n",
    "\\#!markdown\n",
    "\n",
    "## x (test)\n",
    "\n",
    "\\#!fsharp\n",
    "\n",
    "//// ignore\n",
    "\n",
    "let x = 1\n",
    "\n",
    "\\#!markdown\n",
    "\n",
    "### TextInput\n",
    "\n",
    "\\#!fsharp\n",
    "\n",
    "type Position =\n",
    "    {\n",
    "        line : int\n",
    "        column : int\n",
    "    }\"\"\"\n",
    "    |> escapeCell"
   ]
  },
  {
   "cell_type": "code",
   "execution_count": null,
   "metadata": {
    "dotnet_repl_cellExecutionStartTime": "2023-07-25T15:53:35.7177692-03:00",
    "dotnet_repl_cellExecutionEndTime": "2023-07-25T15:53:35.7380628-03:00",
    "dotnet_repl_cellExecutionTime": "20.2995ms",
    "dotnet_interactive": {
     "language": "fsharp"
    },
    "polyglot_notebook": {
     "kernelName": "fsharp"
    }
   },
   "outputs": [
    {
     "name": "stdout",
     "output_type": "stream",
     "text": [
      "#if !INTERACTIVE\n",
      "namespace TestNamespace\n",
      "#endif\n",
      "\n",
      "module TestModule =\n",
      "\n",
      "    /// ## ParserLibrary\n",
      "\n",
      "    open System\n",
      "\n",
      "    /// ### TextInput\n",
      "\n",
      "    type Position =\n",
      "        {\n",
      "            line : int\n",
      "            column : int\n",
      "        }\n",
      "\r\n"
     ]
    }
   ],
   "source": [
    "//// test\n",
    "\n",
    "example1\n",
    "|> parse \"fsharp\"\n",
    "|> Result.toOption\n",
    "|> Option.get\n",
    "|> (formatBlocks \"fsharp\")\n",
    "|> _equal \"\"\"#if !INTERACTIVE\n",
    "namespace TestNamespace\n",
    "#endif\n",
    "\n",
    "module TestModule =\n",
    "\n",
    "    /// ## ParserLibrary\n",
    "\n",
    "    open System\n",
    "\n",
    "    /// ### TextInput\n",
    "\n",
    "    type Position =\n",
    "        {\n",
    "            line : int\n",
    "            column : int\n",
    "        }\n",
    "\"\"\""
   ]
  },
  {
   "cell_type": "code",
   "execution_count": null,
   "metadata": {
    "dotnet_repl_cellExecutionStartTime": "2023-07-25T15:53:35.7381282-03:00",
    "dotnet_repl_cellExecutionEndTime": "2023-07-25T15:53:35.7536309-03:00",
    "dotnet_repl_cellExecutionTime": "15.5073ms",
    "dotnet_interactive": {
     "language": "fsharp"
    },
    "polyglot_notebook": {
     "kernelName": "fsharp"
    }
   },
   "outputs": [
    {
     "name": "stdout",
     "output_type": "stream",
     "text": [
      "/// # TestModule (TestNamespace)\n",
      "\n",
      "/// ## ParserLibrary\n",
      "\n",
      "/// ### TextInput\n",
      "\r\n"
     ]
    }
   ],
   "source": [
    "//// test\n",
    "\n",
    "example1\n",
    "|> parse \"markdown\"\n",
    "|> Result.toOption\n",
    "|> Option.get\n",
    "|> (formatBlocks \"markdown\")\n",
    "|> _equal \"\"\"/// # TestModule (TestNamespace)\n",
    "\n",
    "/// ## ParserLibrary\n",
    "\n",
    "/// ### TextInput\n",
    "\"\"\""
   ]
  },
  {
   "cell_type": "code",
   "execution_count": null,
   "metadata": {
    "dotnet_repl_cellExecutionStartTime": "2023-07-25T15:53:35.7536871-03:00",
    "dotnet_repl_cellExecutionEndTime": "2023-07-25T15:53:35.8199431-03:00",
    "dotnet_repl_cellExecutionTime": "66.2602ms",
    "dotnet_interactive": {
     "language": "fsharp"
    },
    "polyglot_notebook": {
     "kernelName": "fsharp"
    }
   },
   "outputs": [],
   "source": [
    "let parseDibCode kernel file = async {\n",
    "    let! input = File.ReadAllTextAsync file |> Async.AwaitTask\n",
    "    match parse kernel input with\n",
    "    | Result.Ok blocks -> return blocks |> formatBlocks kernel\n",
    "    | Result.Error msg -> return failwith msg\n",
    "}"
   ]
  },
  {
   "cell_type": "code",
   "execution_count": null,
   "metadata": {
    "dotnet_repl_cellExecutionStartTime": "2023-07-25T15:53:35.819975-03:00",
    "dotnet_repl_cellExecutionEndTime": "2023-07-25T15:53:35.8551346-03:00",
    "dotnet_repl_cellExecutionTime": "35.1642ms",
    "dotnet_interactive": {
     "language": "fsharp"
    },
    "polyglot_notebook": {
     "kernelName": "fsharp"
    }
   },
   "outputs": [],
   "source": [
    "let writeDibCode kernel file = async {\n",
    "    printfn $\"Parsing {file}\"\n",
    "    let! output = parseDibCode kernel file\n",
    "    let outputFileName =\n",
    "        match kernel with\n",
    "        | \"fsharp\" -> file |> String.replace \".dib\" \".fs\"\n",
    "        | _ -> failwith \"Unknown kernel\"\n",
    "    do! File.WriteAllTextAsync (outputFileName, output) |> Async.AwaitTask\n",
    "}"
   ]
  },
  {
   "cell_type": "code",
   "execution_count": null,
   "metadata": {
    "dotnet_repl_cellExecutionStartTime": "2023-07-25T15:53:35.8551699-03:00",
    "dotnet_repl_cellExecutionEndTime": "2023-07-25T15:53:35.8998712-03:00",
    "dotnet_repl_cellExecutionTime": "44.7061ms",
    "dotnet_interactive": {
     "language": "fsharp"
    },
    "polyglot_notebook": {
     "kernelName": "fsharp"
    }
   },
   "outputs": [],
   "source": [
    "//// test\n",
    "\n",
    "let paths =\n",
    "    match Environment.GetEnvironmentVariable \"INPUT\" with\n",
    "    | \"\" | null -> [||]\n",
    "    | path when System.IO.File.Exists path -> [| path |]\n",
    "    | path when path.Contains \";\" -> path |> String.split [| ';' |]\n",
    "    | _ -> [| System.IO.Path.Combine (System.IO.Directory.GetCurrentDirectory (), \"DibParser.dib\") |]\n",
    "\n",
    "paths\n",
    "|> Array.map (writeDibCode \"fsharp\")\n",
    "|> Async.Parallel\n",
    "|> Async.Ignore\n",
    "|> Async.RunSynchronously"
   ]
  }
 ],
 "metadata": {
  "kernelspec": {
   "display_name": ".NET (C#)",
   "language": "C#",
   "name": ".net-csharp"
  },
  "language_info": {
   "file_extension": ".cs",
   "mimetype": "text/x-csharp",
   "name": "C#",
   "pygments_lexer": "csharp",
   "version": "10.0"
  },
  "polyglot_notebook": {
   "defaultKernelName": "csharp",
   "items": [
    {
     "name": "csharp"
    }
   ]
  },
  "dotnet_interactive": {
   "defaultKernelName": "csharp",
   "items": [
    {
     "name": "csharp"
    }
   ]
  }
 },
 "nbformat": 4,
 "nbformat_minor": 5
}