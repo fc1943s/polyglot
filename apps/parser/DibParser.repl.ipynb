{
 "cells": [
  {
   "cell_type": "markdown",
   "metadata": {
    "dotnet_repl_cellExecutionStartTime": "2023-07-25T21:35:08.0039939-03:00",
    "dotnet_repl_cellExecutionEndTime": "2023-07-25T21:35:08.4809867-03:00",
    "dotnet_repl_cellExecutionTime": "477.3999ms"
   },
   "source": [
    "# DibParser (Polyglot)"
   ]
  },
  {
   "cell_type": "code",
   "execution_count": null,
   "metadata": {
    "dotnet_repl_cellExecutionStartTime": "2023-07-25T21:35:08.4853611-03:00",
    "dotnet_repl_cellExecutionEndTime": "2023-07-25T21:35:13.9608574-03:00",
    "dotnet_repl_cellExecutionTime": "5.4755s",
    "dotnet_interactive": {
     "language": "fsharp"
    },
    "polyglot_notebook": {
     "kernelName": "fsharp"
    }
   },
   "outputs": [],
   "source": [
    "#!import ../nbs/Testing.dib"
   ]
  },
  {
   "cell_type": "code",
   "execution_count": null,
   "metadata": {
    "dotnet_repl_cellExecutionStartTime": "2023-07-25T21:35:13.9609318-03:00",
    "dotnet_repl_cellExecutionEndTime": "2023-07-25T21:35:13.9818964-03:00",
    "dotnet_repl_cellExecutionTime": "20.9682ms",
    "dotnet_interactive": {
     "language": "fsharp"
    },
    "polyglot_notebook": {
     "kernelName": "fsharp"
    }
   },
   "outputs": [],
   "source": [
    "#r @\"../../../../../../../.nuget/packages/fparsec/2.0.0-beta2/lib/netstandard2.1/FParsec.dll\"\n",
    "#r @\"../../../../../../../.nuget/packages/fparsec/2.0.0-beta2/lib/netstandard2.1/FParsecCS.dll\""
   ]
  },
  {
   "cell_type": "code",
   "execution_count": null,
   "metadata": {
    "dotnet_repl_cellExecutionStartTime": "2023-07-25T21:35:13.9819293-03:00",
    "dotnet_repl_cellExecutionEndTime": "2023-07-25T21:35:14.5131167-03:00",
    "dotnet_repl_cellExecutionTime": "531.1907ms",
    "dotnet_interactive": {
     "language": "fsharp"
    },
    "polyglot_notebook": {
     "kernelName": "fsharp"
    }
   },
   "outputs": [],
   "source": [
    "#!import ../nbs/Common.fs"
   ]
  },
  {
   "cell_type": "code",
   "execution_count": null,
   "metadata": {
    "dotnet_repl_cellExecutionStartTime": "2023-07-25T21:35:14.5131492-03:00",
    "dotnet_repl_cellExecutionEndTime": "2023-07-25T21:35:14.5303278-03:00",
    "dotnet_repl_cellExecutionTime": "17.1823ms",
    "dotnet_interactive": {
     "language": "fsharp"
    },
    "polyglot_notebook": {
     "kernelName": "fsharp"
    }
   },
   "outputs": [],
   "source": [
    "open Common\n",
    "open FParsec"
   ]
  },
  {
   "cell_type": "markdown",
   "metadata": {
    "dotnet_repl_cellExecutionStartTime": "2023-07-25T21:35:14.5303626-03:00",
    "dotnet_repl_cellExecutionEndTime": "2023-07-25T21:35:14.5336807-03:00",
    "dotnet_repl_cellExecutionTime": "3.3308ms"
   },
   "source": [
    "## escapeCell (test)"
   ]
  },
  {
   "cell_type": "code",
   "execution_count": null,
   "metadata": {
    "dotnet_repl_cellExecutionStartTime": "2023-07-25T21:35:14.5337215-03:00",
    "dotnet_repl_cellExecutionEndTime": "2023-07-25T21:35:14.562433-03:00",
    "dotnet_repl_cellExecutionTime": "28.7254ms",
    "dotnet_interactive": {
     "language": "fsharp"
    },
    "polyglot_notebook": {
     "kernelName": "fsharp"
    }
   },
   "outputs": [],
   "source": [
    "//// test\n",
    "\n",
    "let inline escapeCell input =\n",
    "    input\n",
    "    |> String.split [| '\\n' |]\n",
    "    |> Array.map (function\n",
    "        | line when line |> String.startsWith \"\\\\#!\" || line |> String.startsWith \"\\\\#r\" ->\n",
    "            System.Text.RegularExpressions.Regex.Replace (line, \"^\\\\\\\\#\", \"#\")\n",
    "        | line -> line\n",
    "    )\n",
    "    |> String.concat \"\\n\""
   ]
  },
  {
   "cell_type": "code",
   "execution_count": null,
   "metadata": {
    "dotnet_repl_cellExecutionStartTime": "2023-07-25T21:35:14.5625105-03:00",
    "dotnet_repl_cellExecutionEndTime": "2023-07-25T21:35:14.6447803-03:00",
    "dotnet_repl_cellExecutionTime": "82.2739ms",
    "dotnet_interactive": {
     "language": "fsharp"
    },
    "polyglot_notebook": {
     "kernelName": "fsharp"
    }
   },
   "outputs": [
    {
     "name": "stdout",
     "output_type": "stream",
     "text": [
      "a\r\n",
      "#!magic\r\n",
      "b\r\n",
      "\r\n"
     ]
    }
   ],
   "source": [
    "//// test\n",
    "\n",
    "$\"a{nl}\\\\#!magic{nl}b{nl}\"\n",
    "|> escapeCell\n",
    "|> _equal (\n",
    "    $\"a{nl}#!magic{nl}b{nl}\"\n",
    ")"
   ]
  },
  {
   "cell_type": "code",
   "execution_count": null,
   "metadata": {
    "dotnet_repl_cellExecutionStartTime": "2023-07-25T21:35:14.6448296-03:00",
    "dotnet_repl_cellExecutionEndTime": "2023-07-25T21:35:14.6973023-03:00",
    "dotnet_repl_cellExecutionTime": "52.4764ms",
    "dotnet_interactive": {
     "language": "fsharp"
    },
    "polyglot_notebook": {
     "kernelName": "fsharp"
    }
   },
   "outputs": [],
   "source": [
    "type Block =\n",
    "    {\n",
    "        magic : string\n",
    "        content : string\n",
    "    }"
   ]
  },
  {
   "cell_type": "markdown",
   "metadata": {
    "dotnet_repl_cellExecutionStartTime": "2023-07-25T21:35:14.6973401-03:00",
    "dotnet_repl_cellExecutionEndTime": "2023-07-25T21:35:14.7012503-03:00",
    "dotnet_repl_cellExecutionTime": "3.9146ms"
   },
   "source": [
    "## magicMarker"
   ]
  },
  {
   "cell_type": "code",
   "execution_count": null,
   "metadata": {
    "dotnet_repl_cellExecutionStartTime": "2023-07-25T21:35:14.7012916-03:00",
    "dotnet_repl_cellExecutionEndTime": "2023-07-25T21:35:14.7308417-03:00",
    "dotnet_repl_cellExecutionTime": "29.5554ms",
    "dotnet_interactive": {
     "language": "fsharp"
    },
    "polyglot_notebook": {
     "kernelName": "fsharp"
    }
   },
   "outputs": [],
   "source": [
    "let magicMarker : Parser<string, unit> = pstring \"#!\""
   ]
  },
  {
   "cell_type": "code",
   "execution_count": null,
   "metadata": {
    "dotnet_repl_cellExecutionStartTime": "2023-07-25T21:35:14.7308881-03:00",
    "dotnet_repl_cellExecutionEndTime": "2023-07-25T21:35:14.7923659-03:00",
    "dotnet_repl_cellExecutionTime": "61.481ms",
    "dotnet_interactive": {
     "language": "fsharp"
    },
    "polyglot_notebook": {
     "kernelName": "fsharp"
    }
   },
   "outputs": [
    {
     "name": "stdout",
     "output_type": "stream",
     "text": [
      "Success\r\n",
      "      Item1: #!\r\n",
      "      Item2: <null>\r\n",
      "      Item3: Position\r\n",
      "        Index: 2\r\n",
      "        Line: 1\r\n",
      "        Column: 3\r\n",
      "        StreamName: \r\n"
     ]
    }
   ],
   "source": [
    "//// test\n",
    "\n",
    "\"#!magic\"\n",
    "|> run magicMarker\n",
    "|> _equal (\n",
    "    Success (\"#!\", (), Position (\"\", 2, 1, 3))\n",
    ")"
   ]
  },
  {
   "cell_type": "code",
   "execution_count": null,
   "metadata": {
    "dotnet_repl_cellExecutionStartTime": "2023-07-25T21:35:14.7924048-03:00",
    "dotnet_repl_cellExecutionEndTime": "2023-07-25T21:35:14.8667599-03:00",
    "dotnet_repl_cellExecutionTime": "74.3591ms",
    "dotnet_interactive": {
     "language": "fsharp"
    },
    "polyglot_notebook": {
     "kernelName": "fsharp"
    }
   },
   "outputs": [
    {
     "name": "stdout",
     "output_type": "stream",
     "text": [
      "Failure\r\n",
      "      Item1: Error in Ln: 1 Col: 1\r\n",
      "##!magic\r\n",
      "^\r\n",
      "Expecting: '#!'\r\n",
      "\r\n",
      "      Item2: ParserError\r\n",
      "        Position: Position\r\n",
      "          Index: 0\r\n",
      "          Line: 1\r\n",
      "          Column: 1\r\n",
      "          StreamName: \r\n",
      "        UserState: <null>\r\n",
      "        Messages: ErrorMessageList\r\n",
      "          Head: ExpectedString\r\n",
      "            String: #!\r\n",
      "            Type: ExpectedString\r\n",
      "          Tail: <null>\r\n",
      "      Item3: <null>\r\n"
     ]
    }
   ],
   "source": [
    "//// test\n",
    "\n",
    "\"##!magic\"\n",
    "|> run magicMarker\n",
    "|> _equal (\n",
    "    Failure (\n",
    "        $\"Error in Ln: 1 Col: 1{nl}##!magic{nl}^{nl}Expecting: '#!'{nl}\",\n",
    "        ParserError (\n",
    "            Position (\"\", 0, 1, 1),\n",
    "            (),\n",
    "            ErrorMessageList (ExpectedString \"#!\")\n",
    "        ),\n",
    "        ()\n",
    "    )\n",
    ")"
   ]
  },
  {
   "cell_type": "markdown",
   "metadata": {
    "dotnet_repl_cellExecutionStartTime": "2023-07-25T21:35:14.8668147-03:00",
    "dotnet_repl_cellExecutionEndTime": "2023-07-25T21:35:14.8701977-03:00",
    "dotnet_repl_cellExecutionTime": "3.3872ms"
   },
   "source": [
    "## magicCommand"
   ]
  },
  {
   "cell_type": "code",
   "execution_count": null,
   "metadata": {
    "dotnet_repl_cellExecutionStartTime": "2023-07-25T21:35:14.8702429-03:00",
    "dotnet_repl_cellExecutionEndTime": "2023-07-25T21:35:14.9095818-03:00",
    "dotnet_repl_cellExecutionTime": "39.3424ms",
    "dotnet_interactive": {
     "language": "fsharp"
    },
    "polyglot_notebook": {
     "kernelName": "fsharp"
    }
   },
   "outputs": [],
   "source": [
    "let magicCommand =\n",
    "    magicMarker\n",
    "    >>. manyTill anyChar newline\n",
    "    |>> (String.Concat >> String.trim)"
   ]
  },
  {
   "cell_type": "code",
   "execution_count": null,
   "metadata": {
    "dotnet_repl_cellExecutionStartTime": "2023-07-25T21:35:14.9096252-03:00",
    "dotnet_repl_cellExecutionEndTime": "2023-07-25T21:35:14.9544888-03:00",
    "dotnet_repl_cellExecutionTime": "44.8676ms",
    "dotnet_interactive": {
     "language": "fsharp"
    },
    "polyglot_notebook": {
     "kernelName": "fsharp"
    }
   },
   "outputs": [
    {
     "name": "stdout",
     "output_type": "stream",
     "text": [
      "Success\r\n",
      "      Item1: magic\r\n",
      "      Item2: <null>\r\n",
      "      Item3: Position\r\n",
      "        Index: 8\r\n",
      "        Line: 2\r\n",
      "        Column: 1\r\n",
      "        StreamName: \r\n"
     ]
    }
   ],
   "source": [
    "//// test\n",
    "\n",
    "\"\"\"#!magic\n",
    "\n",
    "a\"\"\"\n",
    "|> run magicCommand\n",
    "|> _equal (\n",
    "    Success (\"magic\", (), Position (\"\", 8, 2, 1))\n",
    ")"
   ]
  },
  {
   "cell_type": "code",
   "execution_count": null,
   "metadata": {
    "dotnet_repl_cellExecutionStartTime": "2023-07-25T21:35:14.9545321-03:00",
    "dotnet_repl_cellExecutionEndTime": "2023-07-25T21:35:15.0063541-03:00",
    "dotnet_repl_cellExecutionTime": "51.8262ms",
    "dotnet_interactive": {
     "language": "fsharp"
    },
    "polyglot_notebook": {
     "kernelName": "fsharp"
    }
   },
   "outputs": [
    {
     "name": "stdout",
     "output_type": "stream",
     "text": [
      "Failure\r\n",
      "      Item1: Error in Ln: 1 Col: 1\r\n",
      " #!magic\r\n",
      "^\r\n",
      "Expecting: '#!'\r\n",
      "\r\n",
      "      Item2: ParserError\r\n",
      "        Position: Position\r\n",
      "          Index: 0\r\n",
      "          Line: 1\r\n",
      "          Column: 1\r\n",
      "          StreamName: \r\n",
      "        UserState: <null>\r\n",
      "        Messages: ErrorMessageList\r\n",
      "          Head: ExpectedString\r\n",
      "            String: #!\r\n",
      "            Type: ExpectedString\r\n",
      "          Tail: <null>\r\n",
      "      Item3: <null>\r\n"
     ]
    }
   ],
   "source": [
    "//// test\n",
    "\n",
    "\"\"\" #!magic\n",
    "\n",
    "a\"\"\"\n",
    "|> run magicCommand\n",
    "|> _equal (\n",
    "    Failure (\n",
    "        $\"Error in Ln: 1 Col: 1{nl} #!magic{nl}^{nl}Expecting: '#!'{nl}\",\n",
    "        ParserError (\n",
    "            Position (\"\", 0, 1, 1),\n",
    "            (),\n",
    "            ErrorMessageList (ExpectedString \"#!\")\n",
    "        ),\n",
    "        ()\n",
    "    )\n",
    ")"
   ]
  },
  {
   "cell_type": "code",
   "execution_count": null,
   "metadata": {
    "dotnet_repl_cellExecutionStartTime": "2023-07-25T21:35:15.0063975-03:00",
    "dotnet_repl_cellExecutionEndTime": "2023-07-25T21:35:15.0361216-03:00",
    "dotnet_repl_cellExecutionTime": "29.7278ms",
    "dotnet_interactive": {
     "language": "fsharp"
    },
    "polyglot_notebook": {
     "kernelName": "fsharp"
    }
   },
   "outputs": [],
   "source": [
    "let content =\n",
    "    (newline >>. magicMarker) <|> (eof >>. preturn \"\")\n",
    "    |> attempt\n",
    "    |> lookAhead\n",
    "    |> manyTill anyChar\n",
    "    |>> (String.Concat >> String.trim)"
   ]
  },
  {
   "cell_type": "code",
   "execution_count": null,
   "metadata": {
    "dotnet_repl_cellExecutionStartTime": "2023-07-25T21:35:15.0361889-03:00",
    "dotnet_repl_cellExecutionEndTime": "2023-07-25T21:35:15.0837523-03:00",
    "dotnet_repl_cellExecutionTime": "47.5712ms",
    "dotnet_interactive": {
     "language": "fsharp"
    },
    "polyglot_notebook": {
     "kernelName": "fsharp"
    }
   },
   "outputs": [
    {
     "name": "stdout",
     "output_type": "stream",
     "text": [
      "Success\r\n",
      "      Item1: #!magic\n",
      "\n",
      "\n",
      "a\r\n",
      "      Item2: <null>\r\n",
      "      Item3: Position\r\n",
      "        Index: 14\r\n",
      "        Line: 7\r\n",
      "        Column: 1\r\n",
      "        StreamName: \r\n"
     ]
    }
   ],
   "source": [
    "//// test\n",
    "\n",
    "\"\"\"#!magic\n",
    "\n",
    "\n",
    "a\n",
    "\n",
    "\n",
    "\"\"\"\n",
    "|> run content\n",
    "|> _equal (\n",
    "    Success (\"\"\"#!magic\n",
    "\n",
    "\n",
    "a\"\"\", (), Position (\"\", 14, 7, 1))\n",
    ")"
   ]
  },
  {
   "cell_type": "code",
   "execution_count": null,
   "metadata": {
    "dotnet_repl_cellExecutionStartTime": "2023-07-25T21:35:15.0838881-03:00",
    "dotnet_repl_cellExecutionEndTime": "2023-07-25T21:35:15.1624528-03:00",
    "dotnet_repl_cellExecutionTime": "78.5691ms",
    "dotnet_interactive": {
     "language": "fsharp"
    },
    "polyglot_notebook": {
     "kernelName": "fsharp"
    }
   },
   "outputs": [],
   "source": [
    "let block =\n",
    "    pipe2\n",
    "        magicCommand\n",
    "        content\n",
    "        (fun magic content ->\n",
    "            {\n",
    "                magic = magic\n",
    "                content = content\n",
    "            })"
   ]
  },
  {
   "cell_type": "code",
   "execution_count": null,
   "metadata": {
    "dotnet_repl_cellExecutionStartTime": "2023-07-25T21:35:15.1625064-03:00",
    "dotnet_repl_cellExecutionEndTime": "2023-07-25T21:35:15.2814047-03:00",
    "dotnet_repl_cellExecutionTime": "118.9024ms",
    "dotnet_interactive": {
     "language": "fsharp"
    },
    "polyglot_notebook": {
     "kernelName": "fsharp"
    }
   },
   "outputs": [
    {
     "name": "stdout",
     "output_type": "stream",
     "text": [
      "Success\r\n",
      "      Item1: Block\r\n",
      "        magic: magic\r\n",
      "        content: a\r\n",
      "      Item2: <null>\r\n",
      "      Item3: Position\r\n",
      "        Index: 14\r\n",
      "        Line: 7\r\n",
      "        Column: 1\r\n",
      "        StreamName: \r\n"
     ]
    }
   ],
   "source": [
    "//// test\n",
    "\n",
    "\"\"\"#!magic\n",
    "\n",
    "\n",
    "a\n",
    "\n",
    "\n",
    "\"\"\"\n",
    "|> run block\n",
    "|> _equal (\n",
    "    Success (\n",
    "        { magic = \"magic\"; content = \"a\" },\n",
    "        (),\n",
    "        Position (\"\", 14, 7, 1)\n",
    "    )\n",
    ")"
   ]
  },
  {
   "cell_type": "code",
   "execution_count": null,
   "metadata": {
    "dotnet_repl_cellExecutionStartTime": "2023-07-25T21:35:15.2814504-03:00",
    "dotnet_repl_cellExecutionEndTime": "2023-07-25T21:35:15.3011999-03:00",
    "dotnet_repl_cellExecutionTime": "19.7535ms",
    "dotnet_interactive": {
     "language": "fsharp"
    },
    "polyglot_notebook": {
     "kernelName": "fsharp"
    }
   },
   "outputs": [],
   "source": [
    "let blocks =\n",
    "    skipMany newline\n",
    "    >>. sepEndBy block (skipMany1 newline)"
   ]
  },
  {
   "cell_type": "code",
   "execution_count": null,
   "metadata": {
    "dotnet_repl_cellExecutionStartTime": "2023-07-25T21:35:15.3012358-03:00",
    "dotnet_repl_cellExecutionEndTime": "2023-07-25T21:35:15.3655159-03:00",
    "dotnet_repl_cellExecutionTime": "64.2867ms",
    "dotnet_interactive": {
     "language": "fsharp"
    },
    "polyglot_notebook": {
     "kernelName": "fsharp"
    }
   },
   "outputs": [
    {
     "name": "stdout",
     "output_type": "stream",
     "text": [
      "Success\r\n",
      "      Item1: FSharpList<Block>\r\n",
      "        - magic: magic1\r\n",
      "          content: a\r\n",
      "        - magic: magic2\r\n",
      "          content: b\r\n",
      "      Item2: <null>\r\n",
      "      Item3: Position\r\n",
      "        Index: 26\r\n",
      "        Line: 9\r\n",
      "        Column: 1\r\n",
      "        StreamName: \r\n"
     ]
    }
   ],
   "source": [
    "//// test\n",
    "\n",
    "\n",
    "\"\"\"#!magic1\n",
    "\n",
    "a\n",
    "\n",
    "\\#!magic2\n",
    "\n",
    "b\n",
    "\n",
    "\"\"\"\n",
    "|> escapeCell\n",
    "|> run blocks\n",
    "|> _equal (\n",
    "    Success (\n",
    "        [\n",
    "            { magic = \"magic1\"; content = \"a\" }\n",
    "            { magic = \"magic2\"; content = \"b\" }\n",
    "        ],\n",
    "        (),\n",
    "        Position (\"\", 26, 9, 1)\n",
    "    )\n",
    ")"
   ]
  },
  {
   "cell_type": "code",
   "execution_count": null,
   "metadata": {
    "dotnet_repl_cellExecutionStartTime": "2023-07-25T21:35:15.3655719-03:00",
    "dotnet_repl_cellExecutionEndTime": "2023-07-25T21:35:15.4875967-03:00",
    "dotnet_repl_cellExecutionTime": "122.0285ms",
    "dotnet_interactive": {
     "language": "fsharp"
    },
    "polyglot_notebook": {
     "kernelName": "fsharp"
    }
   },
   "outputs": [],
   "source": [
    "let inline formatBlock kernel (block : Block) =\n",
    "    match kernel, block with\n",
    "    | _, { magic = \"markdown\"; content = content } ->\n",
    "        content\n",
    "        |> String.split [| '\\n' |]\n",
    "        |> Array.map (String.trimEnd [||])\n",
    "        |> Array.filter (String.endsWith \" (test)\" >> not)\n",
    "        |> Array.map (function\n",
    "            | \"\" -> \"///\"\n",
    "            | line -> System.Text.RegularExpressions.Regex.Replace (line, \"^\\\\s*\", \"$&/// \")\n",
    "        )\n",
    "        |> String.concat \"\\n\"\n",
    "    | \"fsharp\", { magic = \"fsharp\"; content = content } ->\n",
    "        let trimmedContent = content |> String.trim\n",
    "        if trimmedContent |> String.startsWith \"//// test\" || trimmedContent |> String.startsWith \"//// ignore\"\n",
    "        then \"\"\n",
    "        else\n",
    "            content\n",
    "            |> String.split [| '\\n' |]\n",
    "            |> Array.filter (String.trimStart [||] >> String.startsWith \"#r\" >> not)\n",
    "            |> String.concat \"\\n\"\n",
    "    | _ -> \"\""
   ]
  },
  {
   "cell_type": "code",
   "execution_count": null,
   "metadata": {
    "dotnet_repl_cellExecutionStartTime": "2023-07-25T21:35:15.4876304-03:00",
    "dotnet_repl_cellExecutionEndTime": "2023-07-25T21:35:15.5678321-03:00",
    "dotnet_repl_cellExecutionTime": "80.2054ms",
    "dotnet_interactive": {
     "language": "fsharp"
    },
    "polyglot_notebook": {
     "kernelName": "fsharp"
    }
   },
   "outputs": [
    {
     "name": "stdout",
     "output_type": "stream",
     "text": [
      "/// a\n",
      "///\n",
      "    /// b\n",
      "///\n",
      "/// c\r\n"
     ]
    }
   ],
   "source": [
    "//// test\n",
    "\n",
    "\"\"\"#!markdown\n",
    "\n",
    "\n",
    "a\n",
    "\n",
    "    b\n",
    "\n",
    "c\n",
    "\n",
    "\n",
    "\\#!markdown\n",
    "\n",
    "\n",
    "c\n",
    "\n",
    "\n",
    "\\#!fsharp\n",
    "\n",
    "\n",
    "let a = 1\"\"\"\n",
    "|> escapeCell\n",
    "|> run block\n",
    "|> function\n",
    "    | Success (block, _, _) -> formatBlock \"fsharp\" block\n",
    "    | Failure (msg, _, _) -> failwith msg\n",
    "|> _equal \"\"\"/// a\n",
    "///\n",
    "    /// b\n",
    "///\n",
    "/// c\"\"\""
   ]
  },
  {
   "cell_type": "code",
   "execution_count": null,
   "metadata": {
    "dotnet_repl_cellExecutionStartTime": "2023-07-25T21:35:15.5678905-03:00",
    "dotnet_repl_cellExecutionEndTime": "2023-07-25T21:35:15.6071396-03:00",
    "dotnet_repl_cellExecutionTime": "39.2617ms",
    "dotnet_interactive": {
     "language": "fsharp"
    },
    "polyglot_notebook": {
     "kernelName": "fsharp"
    }
   },
   "outputs": [],
   "source": [
    "let inline formatBlocks kernel blocks =\n",
    "    blocks\n",
    "    |> List.map (formatBlock kernel)\n",
    "    |> List.filter ((<>) \"\")\n",
    "    |> String.concat \"\\n\\n\"\n",
    "    |> fun s -> s + \"\\n\""
   ]
  },
  {
   "cell_type": "code",
   "execution_count": null,
   "metadata": {
    "dotnet_repl_cellExecutionStartTime": "2023-07-25T21:35:15.6071806-03:00",
    "dotnet_repl_cellExecutionEndTime": "2023-07-25T21:35:15.6918056-03:00",
    "dotnet_repl_cellExecutionTime": "84.6299ms",
    "dotnet_interactive": {
     "language": "fsharp"
    },
    "polyglot_notebook": {
     "kernelName": "fsharp"
    }
   },
   "outputs": [
    {
     "name": "stdout",
     "output_type": "stream",
     "text": [
      "/// a\n",
      "///\n",
      "/// b\n",
      "\n",
      "/// c\n",
      "\n",
      "let a = 1\n",
      "\n",
      "/// e\n",
      "\n",
      "let a = 3\n",
      "\r\n"
     ]
    }
   ],
   "source": [
    "//// test\n",
    "\n",
    "\"\"\"#!markdown\n",
    "\n",
    "\n",
    "a\n",
    "\n",
    "b\n",
    "\n",
    "\n",
    "\\#!markdown\n",
    "\n",
    "\n",
    "c\n",
    "\n",
    "\n",
    "\\#!fsharp\n",
    "\n",
    "\n",
    "let a = 1\n",
    "\n",
    "\\#!markdown\n",
    "\n",
    "d (test)\n",
    "\n",
    "\\#!fsharp\n",
    "\n",
    "//// test\n",
    "\n",
    "let a = 2\n",
    "\n",
    "\\#!markdown\n",
    "\n",
    "e\n",
    "\n",
    "\\#!fsharp\n",
    "\n",
    "let a = 3\"\"\"\n",
    "|> escapeCell\n",
    "|> run blocks\n",
    "|> function\n",
    "    | Success (blocks, _, _) -> formatBlocks \"fsharp\" blocks\n",
    "    | Failure (msg, _, _) -> failwith msg\n",
    "|> _equal \"\"\"/// a\n",
    "///\n",
    "/// b\n",
    "\n",
    "/// c\n",
    "\n",
    "let a = 1\n",
    "\n",
    "/// e\n",
    "\n",
    "let a = 3\n",
    "\"\"\""
   ]
  },
  {
   "cell_type": "code",
   "execution_count": null,
   "metadata": {
    "dotnet_repl_cellExecutionStartTime": "2023-07-25T21:35:15.6918588-03:00",
    "dotnet_repl_cellExecutionEndTime": "2023-07-25T21:35:15.7736208-03:00",
    "dotnet_repl_cellExecutionTime": "81.7746ms",
    "dotnet_interactive": {
     "language": "fsharp"
    },
    "polyglot_notebook": {
     "kernelName": "fsharp"
    }
   },
   "outputs": [],
   "source": [
    "let inline parse kernel input =\n",
    "    match run blocks input with\n",
    "    | Success (blocks, _, _) ->\n",
    "        let inline indentBlock (block : Block) =\n",
    "            { block with\n",
    "                content =\n",
    "                    block.content\n",
    "                    |> String.split [| '\\n' |]\n",
    "                    |> Array.map (fun line ->\n",
    "                        if line |> String.trimEnd [||] = \"\"\n",
    "                        then \"\"\n",
    "                        else $\"    {line}\"\n",
    "                    )\n",
    "                    |> String.concat \"\\n\"\n",
    "            }\n",
    "\n",
    "        let blocks = blocks |> List.filter (fun block -> block.magic = kernel || block.magic = \"markdown\")\n",
    "        \n",
    "        match blocks with\n",
    "        | { magic = \"markdown\"; content = content } :: _\n",
    "            when kernel = \"fsharp\"\n",
    "            && content |> String.startsWith \"# \"\n",
    "            && content |> String.endsWith \")\"\n",
    "            ->\n",
    "            let moduleName, namespaceName =\n",
    "                System.Text.RegularExpressions.Regex.Match (content, @\"# (.*) \\((.*)\\)$\")\n",
    "                |> fun m -> m.Groups.[1].Value, m.Groups.[2].Value\n",
    "\n",
    "            let moduleBlock =\n",
    "                {\n",
    "                    magic = \"fsharp\"\n",
    "                    content =\n",
    "                        $\"\"\"#if !INTERACTIVE\n",
    "namespace {namespaceName}\n",
    "#endif\n",
    "\n",
    "module {moduleName} =\"\"\"\n",
    "                }\n",
    "\n",
    "            blocks\n",
    "            |> List.indexed\n",
    "            |> List.fold\n",
    "                (fun blocks (index, block) ->\n",
    "                    match index with\n",
    "                    | 0 -> blocks\n",
    "                    | 1 -> indentBlock block :: moduleBlock :: blocks\n",
    "                    | _ -> indentBlock block :: blocks\n",
    "                )\n",
    "                []\n",
    "            |> List.rev\n",
    "        | _ -> blocks\n",
    "        |> Result.Ok\n",
    "    | Failure (errorMsg, _, _) -> Result.Error errorMsg"
   ]
  },
  {
   "cell_type": "code",
   "execution_count": null,
   "metadata": {
    "dotnet_repl_cellExecutionStartTime": "2023-07-25T21:35:15.7736622-03:00",
    "dotnet_repl_cellExecutionEndTime": "2023-07-25T21:35:15.8009287-03:00",
    "dotnet_repl_cellExecutionTime": "27.2703ms",
    "dotnet_interactive": {
     "language": "fsharp"
    },
    "polyglot_notebook": {
     "kernelName": "fsharp"
    }
   },
   "outputs": [],
   "source": [
    "//// test\n",
    "\n",
    "let example1 =\n",
    "    \"\"\"#!meta\n",
    "\n",
    "{\"kernelInfo\":{\"defaultKernelName\":\"fsharp\",\"items\":[{\"aliases\":[],\"name\":\"fsharp\"},{\"aliases\":[],\"name\":\"fsharp\"}]}}\n",
    "\n",
    "\\#!markdown\n",
    "\n",
    "# TestModule (TestNamespace)\n",
    "\n",
    "\\#!fsharp\n",
    "\n",
    "\\#!import file.dib\n",
    "\n",
    "\\#!fsharp\n",
    "\n",
    "\\#r \"nuget:Expecto\"\n",
    "\n",
    "\\#!markdown\n",
    "\n",
    "## ParserLibrary\n",
    "\n",
    "\\#!fsharp\n",
    "\n",
    "open System\n",
    "\n",
    "\\#!markdown\n",
    "\n",
    "## x (test)\n",
    "\n",
    "\\#!fsharp\n",
    "\n",
    "//// ignore\n",
    "\n",
    "let x = 1\n",
    "\n",
    "\\#!markdown\n",
    "\n",
    "### TextInput\n",
    "\n",
    "\\#!fsharp\n",
    "\n",
    "type Position =\n",
    "    {\n",
    "        line : int\n",
    "        column : int\n",
    "    }\"\"\"\n",
    "    |> escapeCell"
   ]
  },
  {
   "cell_type": "code",
   "execution_count": null,
   "metadata": {
    "dotnet_repl_cellExecutionStartTime": "2023-07-25T21:35:15.8009721-03:00",
    "dotnet_repl_cellExecutionEndTime": "2023-07-25T21:35:15.8818584-03:00",
    "dotnet_repl_cellExecutionTime": "80.8909ms",
    "dotnet_interactive": {
     "language": "fsharp"
    },
    "polyglot_notebook": {
     "kernelName": "fsharp"
    }
   },
   "outputs": [
    {
     "name": "stdout",
     "output_type": "stream",
     "text": [
      "#if !INTERACTIVE\n",
      "namespace TestNamespace\n",
      "#endif\n",
      "\n",
      "module TestModule =\n",
      "\n",
      "    /// ## ParserLibrary\n",
      "\n",
      "    open System\n",
      "\n",
      "    /// ### TextInput\n",
      "\n",
      "    type Position =\n",
      "        {\n",
      "            line : int\n",
      "            column : int\n",
      "        }\n",
      "\r\n"
     ]
    }
   ],
   "source": [
    "//// test\n",
    "\n",
    "example1\n",
    "|> parse \"fsharp\"\n",
    "|> Result.toOption\n",
    "|> Option.get\n",
    "|> (formatBlocks \"fsharp\")\n",
    "|> _equal \"\"\"#if !INTERACTIVE\n",
    "namespace TestNamespace\n",
    "#endif\n",
    "\n",
    "module TestModule =\n",
    "\n",
    "    /// ## ParserLibrary\n",
    "\n",
    "    open System\n",
    "\n",
    "    /// ### TextInput\n",
    "\n",
    "    type Position =\n",
    "        {\n",
    "            line : int\n",
    "            column : int\n",
    "        }\n",
    "\"\"\""
   ]
  },
  {
   "cell_type": "code",
   "execution_count": null,
   "metadata": {
    "dotnet_repl_cellExecutionStartTime": "2023-07-25T21:35:15.8819146-03:00",
    "dotnet_repl_cellExecutionEndTime": "2023-07-25T21:35:15.9638562-03:00",
    "dotnet_repl_cellExecutionTime": "81.9455ms",
    "dotnet_interactive": {
     "language": "fsharp"
    },
    "polyglot_notebook": {
     "kernelName": "fsharp"
    }
   },
   "outputs": [
    {
     "name": "stdout",
     "output_type": "stream",
     "text": [
      "/// # TestModule (TestNamespace)\n",
      "\n",
      "/// ## ParserLibrary\n",
      "\n",
      "/// ### TextInput\n",
      "\r\n"
     ]
    }
   ],
   "source": [
    "//// test\n",
    "\n",
    "example1\n",
    "|> parse \"markdown\"\n",
    "|> Result.toOption\n",
    "|> Option.get\n",
    "|> (formatBlocks \"markdown\")\n",
    "|> _equal \"\"\"/// # TestModule (TestNamespace)\n",
    "\n",
    "/// ## ParserLibrary\n",
    "\n",
    "/// ### TextInput\n",
    "\"\"\""
   ]
  },
  {
   "cell_type": "code",
   "execution_count": null,
   "metadata": {
    "dotnet_repl_cellExecutionStartTime": "2023-07-25T21:35:15.9639058-03:00",
    "dotnet_repl_cellExecutionEndTime": "2023-07-25T21:35:16.0638866-03:00",
    "dotnet_repl_cellExecutionTime": "99.9839ms",
    "dotnet_interactive": {
     "language": "fsharp"
    },
    "polyglot_notebook": {
     "kernelName": "fsharp"
    }
   },
   "outputs": [],
   "source": [
    "let inline parseDibCode kernel file = async {\n",
    "    let getLocals () = $\"kernel: {kernel} / file: {file} / {getLocals ()}\"\n",
    "    trace Debug (fun () -> \"parseDibCode\") getLocals\n",
    "    let! input = File.ReadAllTextAsync file |> Async.AwaitTask\n",
    "    match parse kernel input with\n",
    "    | Result.Ok blocks -> return blocks |> formatBlocks kernel\n",
    "    | Result.Error msg -> return failwith msg\n",
    "}"
   ]
  },
  {
   "cell_type": "code",
   "execution_count": null,
   "metadata": {
    "dotnet_repl_cellExecutionStartTime": "2023-07-25T21:35:16.0639181-03:00",
    "dotnet_repl_cellExecutionEndTime": "2023-07-25T21:35:16.1635937-03:00",
    "dotnet_repl_cellExecutionTime": "99.6793ms",
    "dotnet_interactive": {
     "language": "fsharp"
    },
    "polyglot_notebook": {
     "kernelName": "fsharp"
    }
   },
   "outputs": [],
   "source": [
    "let inline writeDibCode kernel file = async {\n",
    "    let getLocals () = $\"kernel: {kernel} / file: {file} / {getLocals ()}\"\n",
    "    trace Debug (fun () -> \"writeDibCode\") getLocals\n",
    "    let! output = parseDibCode kernel file\n",
    "    let outputFileName =\n",
    "        match kernel with\n",
    "        | \"fsharp\" -> file |> String.replace \".dib\" \".fs\"\n",
    "        | _ -> failwith \"Unknown kernel\"\n",
    "    do! File.WriteAllTextAsync (outputFileName, output) |> Async.AwaitTask\n",
    "}"
   ]
  },
  {
   "cell_type": "code",
   "execution_count": null,
   "metadata": {
    "dotnet_repl_cellExecutionStartTime": "2023-07-25T21:35:16.1636268-03:00",
    "dotnet_repl_cellExecutionEndTime": "2023-07-25T21:35:16.3380254-03:00",
    "dotnet_repl_cellExecutionTime": "174.4036ms",
    "dotnet_interactive": {
     "language": "fsharp"
    },
    "polyglot_notebook": {
     "kernelName": "fsharp"
    }
   },
   "outputs": [
    {
     "name": "stdout",
     "output_type": "stream",
     "text": [
      "21:35:16 #1 [Debug] writeDibCode / kernel: fsharp / file: JsonParser.dib\r\n",
      "21:35:16 #1 [Debug] writeDibCode / kernel: fsharp / file: Parser.dib\r\n",
      "21:35:16 #1 [Debug] writeDibCode / kernel: fsharp / file: DibParser.dib\r\n",
      "21:35:16 #4 [Debug] parseDibCode / kernel: fsharp / file: DibParser.dib\r\n",
      "21:35:16 #4 [Debug] parseDibCode / kernel: fsharp / file: JsonParser.dib\r\n",
      "21:35:16 #4 [Debug] parseDibCode / kernel: fsharp / file: Parser.dib\r\n"
     ]
    }
   ],
   "source": [
    "//// test\n",
    "\n",
    "let paths =\n",
    "    match Environment.GetEnvironmentVariable \"OUTPUT\" with\n",
    "    | \"\" | null -> [||]\n",
    "    | path when System.IO.File.Exists path -> [| path |]\n",
    "    | path when path.Contains \";\" -> path |> String.split [| ';' |]\n",
    "    | _ -> [| System.IO.Path.Combine (System.IO.Directory.GetCurrentDirectory (), \"DibParser.dib\") |]\n",
    "\n",
    "paths\n",
    "|> Array.map (writeDibCode \"fsharp\")\n",
    "|> Async.Parallel\n",
    "|> Async.Ignore\n",
    "|> Async.RunSynchronously"
   ]
  }
 ],
 "metadata": {
  "kernelspec": {
   "display_name": ".NET (C#)",
   "language": "C#",
   "name": ".net-csharp"
  },
  "language_info": {
   "file_extension": ".cs",
   "mimetype": "text/x-csharp",
   "name": "C#",
   "pygments_lexer": "csharp",
   "version": "10.0"
  },
  "polyglot_notebook": {
   "defaultKernelName": "csharp",
   "items": [
    {
     "name": "csharp"
    }
   ]
  },
  "dotnet_interactive": {
   "defaultKernelName": "csharp",
   "items": [
    {
     "name": "csharp"
    }
   ]
  }
 },
 "nbformat": 4,
 "nbformat_minor": 5
}