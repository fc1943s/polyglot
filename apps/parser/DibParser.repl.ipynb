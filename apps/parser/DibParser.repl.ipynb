{
 "cells": [
  {
   "cell_type": "markdown",
   "metadata": {
    "dotnet_repl_cellExecutionStartTime": "2023-07-21T16:13:02.7578891-03:00",
    "dotnet_repl_cellExecutionEndTime": "2023-07-21T16:13:02.8186699-03:00",
    "dotnet_repl_cellExecutionTime": "61.0785ms"
   },
   "source": [
    "# DibParser (Polyglot)"
   ]
  },
  {
   "cell_type": "code",
   "execution_count": null,
   "metadata": {
    "dotnet_repl_cellExecutionStartTime": "2023-07-21T16:13:02.8232887-03:00",
    "dotnet_repl_cellExecutionEndTime": "2023-07-21T16:13:16.1033017-03:00",
    "dotnet_repl_cellExecutionTime": "13.280015s",
    "dotnet_interactive": {
     "language": "fsharp"
    },
    "polyglot_notebook": {
     "kernelName": "fsharp"
    }
   },
   "outputs": [
    {
     "data": {
      "text/html": [
       "<div><div></div><div><strong>Installing Packages</strong><ul><li><span>Expecto</span></li></ul></div><div></div></div>"
      ]
     },
     "metadata": {},
     "output_type": "display_data"
    },
    {
     "data": {
      "text/html": [
       "<div><div></div><div><strong>Installing Packages</strong><ul><li><span>Expecto.</span></li></ul></div><div></div></div>"
      ]
     },
     "metadata": {},
     "output_type": "display_data"
    },
    {
     "data": {
      "text/html": [
       "<div><div></div><div><strong>Installing Packages</strong><ul><li><span>Expecto..</span></li></ul></div><div></div></div>"
      ]
     },
     "metadata": {},
     "output_type": "display_data"
    },
    {
     "data": {
      "text/html": [
       "<div><div></div><div><strong>Installing Packages</strong><ul><li><span>Expecto...</span></li></ul></div><div></div></div>"
      ]
     },
     "metadata": {},
     "output_type": "display_data"
    },
    {
     "data": {
      "text/html": [
       "<div><div></div><div><strong>Installing Packages</strong><ul><li><span>Expecto....</span></li></ul></div><div></div></div>"
      ]
     },
     "metadata": {},
     "output_type": "display_data"
    },
    {
     "data": {
      "text/html": [
       "<div><div></div><div><strong>Installing Packages</strong><ul><li><span>Expecto.....</span></li></ul></div><div></div></div>"
      ]
     },
     "metadata": {},
     "output_type": "display_data"
    },
    {
     "data": {
      "text/html": [
       "<div><div></div><div><strong>Installing Packages</strong><ul><li><span>Expecto......</span></li></ul></div><div></div></div>"
      ]
     },
     "metadata": {},
     "output_type": "display_data"
    },
    {
     "data": {
      "text/html": [
       "<div><div></div><div><strong>Installing Packages</strong><ul><li><span>Expecto.......</span></li></ul></div><div></div></div>"
      ]
     },
     "metadata": {},
     "output_type": "display_data"
    },
    {
     "data": {
      "text/html": [
       "<div><div></div><div><strong>Installing Packages</strong><ul><li><span>Expecto........</span></li></ul></div><div></div></div>"
      ]
     },
     "metadata": {},
     "output_type": "display_data"
    },
    {
     "data": {
      "text/html": [
       "<div><div></div><div><strong>Installing Packages</strong><ul><li><span>Expecto.........</span></li></ul></div><div></div></div>"
      ]
     },
     "metadata": {},
     "output_type": "display_data"
    },
    {
     "data": {
      "text/html": [
       "<div><div></div><div></div><div><strong>Installed Packages</strong><ul><li><span>Expecto, 10.1.0</span></li></ul></div></div>"
      ]
     },
     "metadata": {},
     "output_type": "display_data"
    }
   ],
   "source": [
    "#!import ../nbs/Testing.dib"
   ]
  },
  {
   "cell_type": "code",
   "execution_count": null,
   "metadata": {
    "dotnet_repl_cellExecutionStartTime": "2023-07-21T16:13:16.1034022-03:00",
    "dotnet_repl_cellExecutionEndTime": "2023-07-21T16:13:20.339719-03:00",
    "dotnet_repl_cellExecutionTime": "4.2363189s",
    "dotnet_interactive": {
     "language": "fsharp"
    },
    "polyglot_notebook": {
     "kernelName": "fsharp"
    }
   },
   "outputs": [
    {
     "data": {
      "text/html": [
       "<div><div></div><div><strong>Installing Packages</strong><ul><li><span>FParsec</span></li></ul></div><div></div></div>"
      ]
     },
     "metadata": {},
     "output_type": "display_data"
    },
    {
     "data": {
      "text/html": [
       "<div><div></div><div><strong>Installing Packages</strong><ul><li><span>FParsec.</span></li></ul></div><div></div></div>"
      ]
     },
     "metadata": {},
     "output_type": "display_data"
    },
    {
     "data": {
      "text/html": [
       "<div><div></div><div><strong>Installing Packages</strong><ul><li><span>FParsec..</span></li></ul></div><div></div></div>"
      ]
     },
     "metadata": {},
     "output_type": "display_data"
    },
    {
     "data": {
      "text/html": [
       "<div><div></div><div><strong>Installing Packages</strong><ul><li><span>FParsec...</span></li></ul></div><div></div></div>"
      ]
     },
     "metadata": {},
     "output_type": "display_data"
    },
    {
     "data": {
      "text/html": [
       "<div><div></div><div><strong>Installing Packages</strong><ul><li><span>FParsec....</span></li></ul></div><div></div></div>"
      ]
     },
     "metadata": {},
     "output_type": "display_data"
    },
    {
     "data": {
      "text/html": [
       "<div><div></div><div><strong>Installing Packages</strong><ul><li><span>FParsec.....</span></li></ul></div><div></div></div>"
      ]
     },
     "metadata": {},
     "output_type": "display_data"
    },
    {
     "data": {
      "text/html": [
       "<div><div></div><div><strong>Installing Packages</strong><ul><li><span>FParsec......</span></li></ul></div><div></div></div>"
      ]
     },
     "metadata": {},
     "output_type": "display_data"
    },
    {
     "data": {
      "text/html": [
       "<div><div></div><div><strong>Installing Packages</strong><ul><li><span>FParsec.......</span></li></ul></div><div></div></div>"
      ]
     },
     "metadata": {},
     "output_type": "display_data"
    },
    {
     "data": {
      "text/html": [
       "<div><div></div><div><strong>Installing Packages</strong><ul><li><span>FParsec........</span></li></ul></div><div></div></div>"
      ]
     },
     "metadata": {},
     "output_type": "display_data"
    },
    {
     "data": {
      "text/html": [
       "<div><div></div><div></div><div><strong>Installed Packages</strong><ul><li><span>FParsec, 1.1.1</span></li></ul></div></div>"
      ]
     },
     "metadata": {},
     "output_type": "display_data"
    }
   ],
   "source": [
    "#r \"nuget:FParsec\""
   ]
  },
  {
   "cell_type": "code",
   "execution_count": null,
   "metadata": {
    "dotnet_repl_cellExecutionStartTime": "2023-07-21T16:13:20.3397505-03:00",
    "dotnet_repl_cellExecutionEndTime": "2023-07-21T16:13:21.0400536-03:00",
    "dotnet_repl_cellExecutionTime": "700.3052ms",
    "dotnet_interactive": {
     "language": "fsharp"
    },
    "polyglot_notebook": {
     "kernelName": "fsharp"
    }
   },
   "outputs": [],
   "source": [
    "#!import ../nbs/Common.fs"
   ]
  },
  {
   "cell_type": "code",
   "execution_count": null,
   "metadata": {
    "dotnet_repl_cellExecutionStartTime": "2023-07-21T16:13:21.0400902-03:00",
    "dotnet_repl_cellExecutionEndTime": "2023-07-21T16:13:21.0529199-03:00",
    "dotnet_repl_cellExecutionTime": "12.8318ms",
    "dotnet_interactive": {
     "language": "fsharp"
    },
    "polyglot_notebook": {
     "kernelName": "fsharp"
    }
   },
   "outputs": [],
   "source": [
    "open Common\n",
    "open FParsec"
   ]
  },
  {
   "cell_type": "markdown",
   "metadata": {
    "dotnet_repl_cellExecutionStartTime": "2023-07-21T16:13:21.0529671-03:00",
    "dotnet_repl_cellExecutionEndTime": "2023-07-21T16:13:21.0547076-03:00",
    "dotnet_repl_cellExecutionTime": "1.742ms"
   },
   "source": [
    "## escapeCell (test)"
   ]
  },
  {
   "cell_type": "code",
   "execution_count": null,
   "metadata": {
    "dotnet_repl_cellExecutionStartTime": "2023-07-21T16:13:21.0547315-03:00",
    "dotnet_repl_cellExecutionEndTime": "2023-07-21T16:13:21.0762733-03:00",
    "dotnet_repl_cellExecutionTime": "21.5436ms",
    "dotnet_interactive": {
     "language": "fsharp"
    },
    "polyglot_notebook": {
     "kernelName": "fsharp"
    }
   },
   "outputs": [],
   "source": [
    "//// test\n",
    "\n",
    "let escapeCell input =\n",
    "    input\n",
    "    |> String.split [| '\\n' |]\n",
    "    |> Array.map (function\n",
    "        | line when line |> String.startsWith \"\\\\#!\" || line |> String.startsWith \"\\\\#r\" ->\n",
    "            System.Text.RegularExpressions.Regex.Replace (line, \"^\\\\\\\\#\", \"#\")\n",
    "        | line -> line\n",
    "    )\n",
    "    |> String.concat \"\\n\""
   ]
  },
  {
   "cell_type": "code",
   "execution_count": null,
   "metadata": {
    "dotnet_repl_cellExecutionStartTime": "2023-07-21T16:13:21.0763288-03:00",
    "dotnet_repl_cellExecutionEndTime": "2023-07-21T16:13:21.1480903-03:00",
    "dotnet_repl_cellExecutionTime": "71.7632ms",
    "dotnet_interactive": {
     "language": "fsharp"
    },
    "polyglot_notebook": {
     "kernelName": "fsharp"
    }
   },
   "outputs": [
    {
     "name": "stdout",
     "output_type": "stream",
     "text": [
      "a\r\n",
      "#!magic\r\n",
      "b\r\n",
      "\r\n"
     ]
    }
   ],
   "source": [
    "//// test\n",
    "\n",
    "$\"a{nl}\\\\#!magic{nl}b{nl}\"\n",
    "|> escapeCell\n",
    "|> _equal (\n",
    "    $\"a{nl}#!magic{nl}b{nl}\"\n",
    ")"
   ]
  },
  {
   "cell_type": "code",
   "execution_count": null,
   "metadata": {
    "dotnet_repl_cellExecutionStartTime": "2023-07-21T16:13:21.1481272-03:00",
    "dotnet_repl_cellExecutionEndTime": "2023-07-21T16:13:21.2046844-03:00",
    "dotnet_repl_cellExecutionTime": "56.559ms",
    "dotnet_interactive": {
     "language": "fsharp"
    },
    "polyglot_notebook": {
     "kernelName": "fsharp"
    }
   },
   "outputs": [],
   "source": [
    "type Block =\n",
    "    {\n",
    "        magic : string\n",
    "        content : string\n",
    "    }"
   ]
  },
  {
   "cell_type": "markdown",
   "metadata": {
    "dotnet_repl_cellExecutionStartTime": "2023-07-21T16:13:21.2047192-03:00",
    "dotnet_repl_cellExecutionEndTime": "2023-07-21T16:13:21.2059633-03:00",
    "dotnet_repl_cellExecutionTime": "1.2451ms"
   },
   "source": [
    "## magicMarker"
   ]
  },
  {
   "cell_type": "code",
   "execution_count": null,
   "metadata": {
    "dotnet_repl_cellExecutionStartTime": "2023-07-21T16:13:21.205988-03:00",
    "dotnet_repl_cellExecutionEndTime": "2023-07-21T16:13:21.2264208-03:00",
    "dotnet_repl_cellExecutionTime": "20.4353ms",
    "dotnet_interactive": {
     "language": "fsharp"
    },
    "polyglot_notebook": {
     "kernelName": "fsharp"
    }
   },
   "outputs": [],
   "source": [
    "let magicMarker : Parser<string, unit> = pstring \"#!\""
   ]
  },
  {
   "cell_type": "code",
   "execution_count": null,
   "metadata": {
    "dotnet_repl_cellExecutionStartTime": "2023-07-21T16:13:21.226453-03:00",
    "dotnet_repl_cellExecutionEndTime": "2023-07-21T16:13:21.2724521-03:00",
    "dotnet_repl_cellExecutionTime": "46.0003ms",
    "dotnet_interactive": {
     "language": "fsharp"
    },
    "polyglot_notebook": {
     "kernelName": "fsharp"
    }
   },
   "outputs": [
    {
     "name": "stdout",
     "output_type": "stream",
     "text": [
      "Success\r\n",
      "      Item1: #!\r\n",
      "      Item2: <null>\r\n",
      "      Item3: Position\r\n",
      "        Index: 2\r\n",
      "        Line: 1\r\n",
      "        Column: 3\r\n",
      "        StreamName: \r\n"
     ]
    }
   ],
   "source": [
    "//// test\n",
    "\n",
    "\"#!magic\"\n",
    "|> run magicMarker\n",
    "|> _equal (\n",
    "    Success (\"#!\", (), Position (\"\", 2, 1, 3))\n",
    ")"
   ]
  },
  {
   "cell_type": "code",
   "execution_count": null,
   "metadata": {
    "dotnet_repl_cellExecutionStartTime": "2023-07-21T16:13:21.2724829-03:00",
    "dotnet_repl_cellExecutionEndTime": "2023-07-21T16:13:21.3276858-03:00",
    "dotnet_repl_cellExecutionTime": "55.2046ms",
    "dotnet_interactive": {
     "language": "fsharp"
    },
    "polyglot_notebook": {
     "kernelName": "fsharp"
    }
   },
   "outputs": [
    {
     "name": "stdout",
     "output_type": "stream",
     "text": [
      "Failure\r\n",
      "      Item1: Error in Ln: 1 Col: 1\r\n",
      "##!magic\r\n",
      "^\r\n",
      "Expecting: '#!'\r\n",
      "\r\n",
      "      Item2: ParserError\r\n",
      "        Position: Position\r\n",
      "          Index: 0\r\n",
      "          Line: 1\r\n",
      "          Column: 1\r\n",
      "          StreamName: \r\n",
      "        UserState: <null>\r\n",
      "        Messages: ErrorMessageList\r\n",
      "          Head: ExpectedString\r\n",
      "            String: #!\r\n",
      "            Type: ExpectedString\r\n",
      "          Tail: <null>\r\n",
      "      Item3: <null>\r\n"
     ]
    }
   ],
   "source": [
    "//// test\n",
    "\n",
    "\"##!magic\"\n",
    "|> run magicMarker\n",
    "|> _equal (\n",
    "    Failure (\n",
    "        $\"Error in Ln: 1 Col: 1{nl}##!magic{nl}^{nl}Expecting: '#!'{nl}\",\n",
    "        ParserError (\n",
    "            Position (\"\", 0, 1, 1),\n",
    "            (),\n",
    "            ErrorMessageList (ExpectedString \"#!\")\n",
    "        ),\n",
    "        ()\n",
    "    )\n",
    ")"
   ]
  },
  {
   "cell_type": "markdown",
   "metadata": {
    "dotnet_repl_cellExecutionStartTime": "2023-07-21T16:13:21.3277274-03:00",
    "dotnet_repl_cellExecutionEndTime": "2023-07-21T16:13:21.3292798-03:00",
    "dotnet_repl_cellExecutionTime": "1.5533ms"
   },
   "source": [
    "## magicCommand"
   ]
  },
  {
   "cell_type": "code",
   "execution_count": null,
   "metadata": {
    "dotnet_repl_cellExecutionStartTime": "2023-07-21T16:13:21.3292964-03:00",
    "dotnet_repl_cellExecutionEndTime": "2023-07-21T16:13:21.3758586-03:00",
    "dotnet_repl_cellExecutionTime": "46.5654ms",
    "dotnet_interactive": {
     "language": "fsharp"
    },
    "polyglot_notebook": {
     "kernelName": "fsharp"
    }
   },
   "outputs": [],
   "source": [
    "let magicCommand =\n",
    "    magicMarker\n",
    "    >>. manyTill anyChar newline\n",
    "    |>> (String.Concat >> String.trim)"
   ]
  },
  {
   "cell_type": "code",
   "execution_count": null,
   "metadata": {
    "dotnet_repl_cellExecutionStartTime": "2023-07-21T16:13:21.3759062-03:00",
    "dotnet_repl_cellExecutionEndTime": "2023-07-21T16:13:21.4135813-03:00",
    "dotnet_repl_cellExecutionTime": "37.6777ms",
    "dotnet_interactive": {
     "language": "fsharp"
    },
    "polyglot_notebook": {
     "kernelName": "fsharp"
    }
   },
   "outputs": [
    {
     "name": "stdout",
     "output_type": "stream",
     "text": [
      "Success\r\n",
      "      Item1: magic\r\n",
      "      Item2: <null>\r\n",
      "      Item3: Position\r\n",
      "        Index: 8\r\n",
      "        Line: 2\r\n",
      "        Column: 1\r\n",
      "        StreamName: \r\n"
     ]
    }
   ],
   "source": [
    "//// test\n",
    "\n",
    "\"\"\"#!magic\n",
    "\n",
    "a\"\"\"\n",
    "|> run magicCommand\n",
    "|> _equal (\n",
    "    Success (\"magic\", (), Position (\"\", 8, 2, 1))\n",
    ")"
   ]
  },
  {
   "cell_type": "code",
   "execution_count": null,
   "metadata": {
    "dotnet_repl_cellExecutionStartTime": "2023-07-21T16:13:21.413636-03:00",
    "dotnet_repl_cellExecutionEndTime": "2023-07-21T16:13:21.4488235-03:00",
    "dotnet_repl_cellExecutionTime": "35.1889ms",
    "dotnet_interactive": {
     "language": "fsharp"
    },
    "polyglot_notebook": {
     "kernelName": "fsharp"
    }
   },
   "outputs": [
    {
     "name": "stdout",
     "output_type": "stream",
     "text": [
      "Failure\r\n",
      "      Item1: Error in Ln: 1 Col: 1\r\n",
      " #!magic\r\n",
      "^\r\n",
      "Expecting: '#!'\r\n",
      "\r\n",
      "      Item2: ParserError\r\n",
      "        Position: Position\r\n",
      "          Index: 0\r\n",
      "          Line: 1\r\n",
      "          Column: 1\r\n",
      "          StreamName: \r\n",
      "        UserState: <null>\r\n",
      "        Messages: ErrorMessageList\r\n",
      "          Head: ExpectedString\r\n",
      "            String: #!\r\n",
      "            Type: ExpectedString\r\n",
      "          Tail: <null>\r\n",
      "      Item3: <null>\r\n"
     ]
    }
   ],
   "source": [
    "//// test\n",
    "\n",
    "\"\"\" #!magic\n",
    "\n",
    "a\"\"\"\n",
    "|> run magicCommand\n",
    "|> _equal (\n",
    "    Failure (\n",
    "        $\"Error in Ln: 1 Col: 1{nl} #!magic{nl}^{nl}Expecting: '#!'{nl}\",\n",
    "        ParserError (\n",
    "            Position (\"\", 0, 1, 1),\n",
    "            (),\n",
    "            ErrorMessageList (ExpectedString \"#!\")\n",
    "        ),\n",
    "        ()\n",
    "    )\n",
    ")"
   ]
  },
  {
   "cell_type": "code",
   "execution_count": null,
   "metadata": {
    "dotnet_repl_cellExecutionStartTime": "2023-07-21T16:13:21.4488552-03:00",
    "dotnet_repl_cellExecutionEndTime": "2023-07-21T16:13:21.4997014-03:00",
    "dotnet_repl_cellExecutionTime": "50.8482ms",
    "dotnet_interactive": {
     "language": "fsharp"
    },
    "polyglot_notebook": {
     "kernelName": "fsharp"
    }
   },
   "outputs": [],
   "source": [
    "let content =\n",
    "    (newline >>. magicMarker) <|> (eof >>. preturn \"\")\n",
    "    |> attempt\n",
    "    |> lookAhead\n",
    "    |> manyTill anyChar\n",
    "    |>> (String.Concat >> String.trim)"
   ]
  },
  {
   "cell_type": "code",
   "execution_count": null,
   "metadata": {
    "dotnet_repl_cellExecutionStartTime": "2023-07-21T16:13:21.4997353-03:00",
    "dotnet_repl_cellExecutionEndTime": "2023-07-21T16:13:21.5265866-03:00",
    "dotnet_repl_cellExecutionTime": "26.8532ms",
    "dotnet_interactive": {
     "language": "fsharp"
    },
    "polyglot_notebook": {
     "kernelName": "fsharp"
    }
   },
   "outputs": [
    {
     "name": "stdout",
     "output_type": "stream",
     "text": [
      "Success\r\n",
      "      Item1: #!magic\n",
      "\n",
      "\n",
      "a\r\n",
      "      Item2: <null>\r\n",
      "      Item3: Position\r\n",
      "        Index: 14\r\n",
      "        Line: 7\r\n",
      "        Column: 1\r\n",
      "        StreamName: \r\n"
     ]
    }
   ],
   "source": [
    "//// test\n",
    "\n",
    "\"\"\"#!magic\n",
    "\n",
    "\n",
    "a\n",
    "\n",
    "\n",
    "\"\"\"\n",
    "|> run content\n",
    "|> _equal (\n",
    "    Success (\"\"\"#!magic\n",
    "\n",
    "\n",
    "a\"\"\", (), Position (\"\", 14, 7, 1))\n",
    ")"
   ]
  },
  {
   "cell_type": "code",
   "execution_count": null,
   "metadata": {
    "dotnet_repl_cellExecutionStartTime": "2023-07-21T16:13:21.5266231-03:00",
    "dotnet_repl_cellExecutionEndTime": "2023-07-21T16:13:21.5923207-03:00",
    "dotnet_repl_cellExecutionTime": "65.6997ms",
    "dotnet_interactive": {
     "language": "fsharp"
    },
    "polyglot_notebook": {
     "kernelName": "fsharp"
    }
   },
   "outputs": [],
   "source": [
    "let block =\n",
    "    pipe2\n",
    "        magicCommand\n",
    "        content\n",
    "        (fun magic content ->\n",
    "            {\n",
    "                magic = magic\n",
    "                content = content\n",
    "            })"
   ]
  },
  {
   "cell_type": "code",
   "execution_count": null,
   "metadata": {
    "dotnet_repl_cellExecutionStartTime": "2023-07-21T16:13:21.5924919-03:00",
    "dotnet_repl_cellExecutionEndTime": "2023-07-21T16:13:21.6266356-03:00",
    "dotnet_repl_cellExecutionTime": "34.147ms",
    "dotnet_interactive": {
     "language": "fsharp"
    },
    "polyglot_notebook": {
     "kernelName": "fsharp"
    }
   },
   "outputs": [
    {
     "name": "stdout",
     "output_type": "stream",
     "text": [
      "Success\r\n",
      "      Item1: Block\r\n",
      "        magic: magic\r\n",
      "        content: a\r\n",
      "      Item2: <null>\r\n",
      "      Item3: Position\r\n",
      "        Index: 14\r\n",
      "        Line: 7\r\n",
      "        Column: 1\r\n",
      "        StreamName: \r\n"
     ]
    }
   ],
   "source": [
    "//// test\n",
    "\n",
    "\"\"\"#!magic\n",
    "\n",
    "\n",
    "a\n",
    "\n",
    "\n",
    "\"\"\"\n",
    "|> run block\n",
    "|> _equal (\n",
    "    Success (\n",
    "        { magic = \"magic\"; content = \"a\" },\n",
    "        (),\n",
    "        Position (\"\", 14, 7, 1)\n",
    "    )\n",
    ")"
   ]
  },
  {
   "cell_type": "code",
   "execution_count": null,
   "metadata": {
    "dotnet_repl_cellExecutionStartTime": "2023-07-21T16:13:21.6266886-03:00",
    "dotnet_repl_cellExecutionEndTime": "2023-07-21T16:13:21.6470656-03:00",
    "dotnet_repl_cellExecutionTime": "20.3788ms",
    "dotnet_interactive": {
     "language": "fsharp"
    },
    "polyglot_notebook": {
     "kernelName": "fsharp"
    }
   },
   "outputs": [],
   "source": [
    "let blocks =\n",
    "    skipMany newline\n",
    "    >>. sepEndBy block (skipMany1 newline)"
   ]
  },
  {
   "cell_type": "code",
   "execution_count": null,
   "metadata": {
    "dotnet_repl_cellExecutionStartTime": "2023-07-21T16:13:21.6471009-03:00",
    "dotnet_repl_cellExecutionEndTime": "2023-07-21T16:13:21.6843099-03:00",
    "dotnet_repl_cellExecutionTime": "37.2126ms",
    "dotnet_interactive": {
     "language": "fsharp"
    },
    "polyglot_notebook": {
     "kernelName": "fsharp"
    }
   },
   "outputs": [
    {
     "name": "stdout",
     "output_type": "stream",
     "text": [
      "Success\r\n",
      "      Item1: FSharpList<Block>\r\n",
      "        - magic: magic1\r\n",
      "          content: a\r\n",
      "        - magic: magic2\r\n",
      "          content: b\r\n",
      "      Item2: <null>\r\n",
      "      Item3: Position\r\n",
      "        Index: 26\r\n",
      "        Line: 9\r\n",
      "        Column: 1\r\n",
      "        StreamName: \r\n"
     ]
    }
   ],
   "source": [
    "//// test\n",
    "\n",
    "\n",
    "\"\"\"#!magic1\n",
    "\n",
    "a\n",
    "\n",
    "\\#!magic2\n",
    "\n",
    "b\n",
    "\n",
    "\"\"\"\n",
    "|> escapeCell\n",
    "|> run blocks\n",
    "|> _equal (\n",
    "    Success (\n",
    "        [\n",
    "            { magic = \"magic1\"; content = \"a\" }\n",
    "            { magic = \"magic2\"; content = \"b\" }\n",
    "        ],\n",
    "        (),\n",
    "        Position (\"\", 26, 9, 1)\n",
    "    )\n",
    ")"
   ]
  },
  {
   "cell_type": "code",
   "execution_count": null,
   "metadata": {
    "dotnet_repl_cellExecutionStartTime": "2023-07-21T16:13:21.6843638-03:00",
    "dotnet_repl_cellExecutionEndTime": "2023-07-21T16:13:21.8397836-03:00",
    "dotnet_repl_cellExecutionTime": "155.4219ms",
    "dotnet_interactive": {
     "language": "fsharp"
    },
    "polyglot_notebook": {
     "kernelName": "fsharp"
    }
   },
   "outputs": [],
   "source": [
    "let formatBlock kernel (block : Block) =\n",
    "    match kernel, block with\n",
    "    | _, { magic = \"markdown\"; content = content } ->\n",
    "        content\n",
    "        |> String.split [| '\\n' |]\n",
    "        |> Array.map (String.trimEnd [||])\n",
    "        |> Array.filter (String.endsWith \" (test)\" >> not)\n",
    "        |> Array.map (function\n",
    "            | \"\" -> \"///\"\n",
    "            | line -> System.Text.RegularExpressions.Regex.Replace (line, \"^\\\\s*\", \"$&/// \")\n",
    "        )\n",
    "        |> String.concat \"\\n\"\n",
    "    | \"fsharp\", { magic = \"fsharp\"; content = content } ->\n",
    "        let trimmedContent = content |> String.trim\n",
    "        if trimmedContent |> String.startsWith \"//// test\" || trimmedContent |> String.startsWith \"//// ignore\"\n",
    "        then \"\"\n",
    "        else\n",
    "            content\n",
    "            |> String.split [| '\\n' |]\n",
    "            |> Array.filter (String.trimStart [||] >> String.startsWith \"#r\" >> not)\n",
    "            |> String.concat \"\\n\"\n",
    "    | _ -> \"\""
   ]
  },
  {
   "cell_type": "code",
   "execution_count": null,
   "metadata": {
    "dotnet_repl_cellExecutionStartTime": "2023-07-21T16:13:21.8398171-03:00",
    "dotnet_repl_cellExecutionEndTime": "2023-07-21T16:13:21.9008242-03:00",
    "dotnet_repl_cellExecutionTime": "61.009ms",
    "dotnet_interactive": {
     "language": "fsharp"
    },
    "polyglot_notebook": {
     "kernelName": "fsharp"
    }
   },
   "outputs": [
    {
     "name": "stdout",
     "output_type": "stream",
     "text": [
      "/// a\n",
      "///\n",
      "    /// b\n",
      "///\n",
      "/// c\r\n"
     ]
    }
   ],
   "source": [
    "//// test\n",
    "\n",
    "\"\"\"#!markdown\n",
    "\n",
    "\n",
    "a\n",
    "\n",
    "    b\n",
    "\n",
    "c\n",
    "\n",
    "\n",
    "\\#!markdown\n",
    "\n",
    "\n",
    "c\n",
    "\n",
    "\n",
    "\\#!fsharp\n",
    "\n",
    "\n",
    "let a = 1\"\"\"\n",
    "|> escapeCell\n",
    "|> run block\n",
    "|> function\n",
    "    | Success (block, _, _) -> formatBlock \"fsharp\" block\n",
    "    | Failure (msg, _, _) -> failwith msg\n",
    "|> _equal \"\"\"/// a\n",
    "///\n",
    "    /// b\n",
    "///\n",
    "/// c\"\"\""
   ]
  },
  {
   "cell_type": "code",
   "execution_count": null,
   "metadata": {
    "dotnet_repl_cellExecutionStartTime": "2023-07-21T16:13:21.9008665-03:00",
    "dotnet_repl_cellExecutionEndTime": "2023-07-21T16:13:21.9307596-03:00",
    "dotnet_repl_cellExecutionTime": "29.8955ms",
    "dotnet_interactive": {
     "language": "fsharp"
    },
    "polyglot_notebook": {
     "kernelName": "fsharp"
    }
   },
   "outputs": [],
   "source": [
    "let formatBlocks kernel blocks =\n",
    "    blocks\n",
    "    |> List.map (formatBlock kernel)\n",
    "    |> List.filter ((<>) \"\")\n",
    "    |> String.concat \"\\n\\n\"\n",
    "    |> fun s -> s + \"\\n\""
   ]
  },
  {
   "cell_type": "code",
   "execution_count": null,
   "metadata": {
    "dotnet_repl_cellExecutionStartTime": "2023-07-21T16:13:21.930795-03:00",
    "dotnet_repl_cellExecutionEndTime": "2023-07-21T16:13:21.9616315-03:00",
    "dotnet_repl_cellExecutionTime": "30.8374ms",
    "dotnet_interactive": {
     "language": "fsharp"
    },
    "polyglot_notebook": {
     "kernelName": "fsharp"
    }
   },
   "outputs": [
    {
     "name": "stdout",
     "output_type": "stream",
     "text": [
      "/// a\n",
      "///\n",
      "/// b\n",
      "\n",
      "/// c\n",
      "\n",
      "let a = 1\n",
      "\n",
      "/// e\n",
      "\n",
      "let a = 3\n",
      "\r\n"
     ]
    }
   ],
   "source": [
    "//// test\n",
    "\n",
    "\"\"\"#!markdown\n",
    "\n",
    "\n",
    "a\n",
    "\n",
    "b\n",
    "\n",
    "\n",
    "\\#!markdown\n",
    "\n",
    "\n",
    "c\n",
    "\n",
    "\n",
    "\\#!fsharp\n",
    "\n",
    "\n",
    "let a = 1\n",
    "\n",
    "\\#!markdown\n",
    "\n",
    "d (test)\n",
    "\n",
    "\\#!fsharp\n",
    "\n",
    "//// test\n",
    "\n",
    "let a = 2\n",
    "\n",
    "\\#!markdown\n",
    "\n",
    "e\n",
    "\n",
    "\\#!fsharp\n",
    "\n",
    "let a = 3\"\"\"\n",
    "|> escapeCell\n",
    "|> run blocks\n",
    "|> function\n",
    "    | Success (blocks, _, _) -> formatBlocks \"fsharp\" blocks\n",
    "    | Failure (msg, _, _) -> failwith msg\n",
    "|> _equal \"\"\"/// a\n",
    "///\n",
    "/// b\n",
    "\n",
    "/// c\n",
    "\n",
    "let a = 1\n",
    "\n",
    "/// e\n",
    "\n",
    "let a = 3\n",
    "\"\"\""
   ]
  },
  {
   "cell_type": "code",
   "execution_count": null,
   "metadata": {
    "dotnet_repl_cellExecutionStartTime": "2023-07-21T16:13:21.9616596-03:00",
    "dotnet_repl_cellExecutionEndTime": "2023-07-21T16:13:22.075916-03:00",
    "dotnet_repl_cellExecutionTime": "114.2587ms",
    "dotnet_interactive": {
     "language": "fsharp"
    },
    "polyglot_notebook": {
     "kernelName": "fsharp"
    }
   },
   "outputs": [],
   "source": [
    "let parse kernel input =\n",
    "    match run blocks input with\n",
    "    | Success (blocks, _, _) ->\n",
    "        let indentBlock (block : Block) =\n",
    "            { block with\n",
    "                content =\n",
    "                    block.content\n",
    "                    |> String.split [| '\\n' |]\n",
    "                    |> Array.map (fun line ->\n",
    "                        if line |> String.trimEnd [||] = \"\"\n",
    "                        then \"\"\n",
    "                        else $\"    {line}\"\n",
    "                    )\n",
    "                    |> String.concat \"\\n\"\n",
    "            }\n",
    "\n",
    "        let blocks = blocks |> List.filter (fun block -> block.magic = kernel || block.magic = \"markdown\")\n",
    "        \n",
    "        match blocks with\n",
    "        | { magic = \"markdown\"; content = content } :: _\n",
    "            when kernel = \"fsharp\"\n",
    "            && content |> String.startsWith \"# \"\n",
    "            && content |> String.endsWith \")\"\n",
    "            ->\n",
    "            let moduleName, namespaceName =\n",
    "                System.Text.RegularExpressions.Regex.Match (content, @\"# (.*) \\((.*)\\)$\")\n",
    "                |> fun m -> m.Groups.[1].Value, m.Groups.[2].Value\n",
    "\n",
    "            let moduleBlock =\n",
    "                {\n",
    "                    magic = \"fsharp\"\n",
    "                    content =\n",
    "                        $\"\"\"#if !INTERACTIVE\n",
    "namespace {namespaceName}\n",
    "#endif\n",
    "\n",
    "module {moduleName} =\"\"\"\n",
    "                }\n",
    "\n",
    "            blocks\n",
    "            |> List.indexed\n",
    "            |> List.fold\n",
    "                (fun blocks (index, block) ->\n",
    "                    match index with\n",
    "                    | 0 -> block :: blocks\n",
    "                    | 1 -> indentBlock block :: moduleBlock :: blocks\n",
    "                    | _ -> indentBlock block :: blocks\n",
    "                )\n",
    "                []\n",
    "            |> List.rev\n",
    "        | _ -> blocks\n",
    "        |> Result.Ok\n",
    "    | Failure (errorMsg, _, _) -> Result.Error errorMsg"
   ]
  },
  {
   "cell_type": "code",
   "execution_count": null,
   "metadata": {
    "dotnet_repl_cellExecutionStartTime": "2023-07-21T16:13:22.0759516-03:00",
    "dotnet_repl_cellExecutionEndTime": "2023-07-21T16:13:22.0982571-03:00",
    "dotnet_repl_cellExecutionTime": "22.3076ms",
    "dotnet_interactive": {
     "language": "fsharp"
    },
    "polyglot_notebook": {
     "kernelName": "fsharp"
    }
   },
   "outputs": [],
   "source": [
    "let parseDibCode kernel file =\n",
    "    let input = File.ReadAllText file\n",
    "    match parse kernel input with\n",
    "    | Result.Ok blocks -> blocks |> formatBlocks kernel\n",
    "    | Result.Error msg -> failwith msg"
   ]
  },
  {
   "cell_type": "code",
   "execution_count": null,
   "metadata": {
    "dotnet_repl_cellExecutionStartTime": "2023-07-21T16:13:22.0982953-03:00",
    "dotnet_repl_cellExecutionEndTime": "2023-07-21T16:13:22.1124336-03:00",
    "dotnet_repl_cellExecutionTime": "14.1419ms",
    "dotnet_interactive": {
     "language": "fsharp"
    },
    "polyglot_notebook": {
     "kernelName": "fsharp"
    }
   },
   "outputs": [],
   "source": [
    "let writeDibCode kernel file =\n",
    "    printfn $\"Parsing {file}\"\n",
    "    let output = parseDibCode kernel file\n",
    "    let outputFileName =\n",
    "        match kernel with\n",
    "        | \"fsharp\" -> file |> String.replace \".dib\" \".fs\"\n",
    "        | _ -> failwith \"Unknown kernel\"\n",
    "    File.WriteAllText (outputFileName, output)"
   ]
  },
  {
   "cell_type": "code",
   "execution_count": null,
   "metadata": {
    "dotnet_repl_cellExecutionStartTime": "2023-07-21T16:13:22.1124883-03:00",
    "dotnet_repl_cellExecutionEndTime": "2023-07-21T16:13:22.2776177-03:00",
    "dotnet_repl_cellExecutionTime": "165.1323ms",
    "dotnet_interactive": {
     "language": "fsharp"
    },
    "polyglot_notebook": {
     "kernelName": "fsharp"
    }
   },
   "outputs": [
    {
     "data": {
      "text/html": [
       "<table><thead><tr><th><i>index</i></th><th>value</th></tr></thead><tbody><tr><td>0</td><td><details class=\"dni-treeview\"><summary><span class=\"dni-code-hint\"><code>{ magic = \"markdown\"\\n  content = \"# TestModule (TestNamespace)\" }</code></span></summary><div><table><thead><tr></tr></thead><tbody><tr><td>magic</td><td>markdown</td></tr><tr><td>content</td><td># TestModule (TestNamespace)</td></tr></tbody></table></div></details></td></tr><tr><td>1</td><td><details class=\"dni-treeview\"><summary><span class=\"dni-code-hint\"><code>{ magic = \"fsharp\"\\n  content =\\n   \"#if !INTERACTIVE\\nnamespace TestNamespace\\n#endif\\n\\nmodule TestModule =\" }</code></span></summary><div><table><thead><tr></tr></thead><tbody><tr><td>magic</td><td>fsharp</td></tr><tr><td>content</td><td>#if !INTERACTIVE\n",
       "namespace TestNamespace\n",
       "#endif\n",
       "\n",
       "module TestModule =</td></tr></tbody></table></div></details></td></tr><tr><td>2</td><td><details class=\"dni-treeview\"><summary><span class=\"dni-code-hint\"><code>{ magic = \"fsharp\"\\n  content = \"\" }</code></span></summary><div><table><thead><tr></tr></thead><tbody><tr><td>magic</td><td>fsharp</td></tr><tr><td>content</td><td></td></tr></tbody></table></div></details></td></tr><tr><td>3</td><td><details class=\"dni-treeview\"><summary><span class=\"dni-code-hint\"><code>{ magic = \"fsharp\"\\n  content = \"    #r \"nuget:Expecto\"\" }</code></span></summary><div><table><thead><tr></tr></thead><tbody><tr><td>magic</td><td>fsharp</td></tr><tr><td>content</td><td>    #r &quot;nuget:Expecto&quot;</td></tr></tbody></table></div></details></td></tr><tr><td>4</td><td><details class=\"dni-treeview\"><summary><span class=\"dni-code-hint\"><code>{ magic = \"markdown\"\\n  content = \"    ## ParserLibrary\" }</code></span></summary><div><table><thead><tr></tr></thead><tbody><tr><td>magic</td><td>markdown</td></tr><tr><td>content</td><td>    ## ParserLibrary</td></tr></tbody></table></div></details></td></tr><tr><td>5</td><td><details class=\"dni-treeview\"><summary><span class=\"dni-code-hint\"><code>{ magic = \"fsharp\"\\n  content = \"    open System\" }</code></span></summary><div><table><thead><tr></tr></thead><tbody><tr><td>magic</td><td>fsharp</td></tr><tr><td>content</td><td>    open System</td></tr></tbody></table></div></details></td></tr><tr><td>6</td><td><details class=\"dni-treeview\"><summary><span class=\"dni-code-hint\"><code>{ magic = \"markdown\"\\n  content = \"    ## x (test)\" }</code></span></summary><div><table><thead><tr></tr></thead><tbody><tr><td>magic</td><td>markdown</td></tr><tr><td>content</td><td>    ## x (test)</td></tr></tbody></table></div></details></td></tr><tr><td>7</td><td><details class=\"dni-treeview\"><summary><span class=\"dni-code-hint\"><code>{ magic = \"fsharp\"\\n  content = \"    //// ignore\\n\\n    let x = 1\" }</code></span></summary><div><table><thead><tr></tr></thead><tbody><tr><td>magic</td><td>fsharp</td></tr><tr><td>content</td><td>    //// ignore\n",
       "\n",
       "    let x = 1</td></tr></tbody></table></div></details></td></tr><tr><td>8</td><td><details class=\"dni-treeview\"><summary><span class=\"dni-code-hint\"><code>{ magic = \"markdown\"\\n  content = \"    ### TextInput\" }</code></span></summary><div><table><thead><tr></tr></thead><tbody><tr><td>magic</td><td>markdown</td></tr><tr><td>content</td><td>    ### TextInput</td></tr></tbody></table></div></details></td></tr><tr><td>9</td><td><details class=\"dni-treeview\"><summary><span class=\"dni-code-hint\"><code>{ magic = \"fsharp\"\\n  content =\\n   \"    type Position =\\n        {\\n            line : int\\n            column : int\\n        }\" }</code></span></summary><div><table><thead><tr></tr></thead><tbody><tr><td>magic</td><td>fsharp</td></tr><tr><td>content</td><td>    type Position =\n",
       "        {\n",
       "            line : int\n",
       "            column : int\n",
       "        }</td></tr></tbody></table></div></details></td></tr></tbody></table><style>\r\n",
       ".dni-code-hint {\r\n",
       "    font-style: italic;\r\n",
       "    overflow: hidden;\r\n",
       "    white-space: nowrap;\r\n",
       "}\r\n",
       ".dni-treeview {\r\n",
       "    white-space: nowrap;\r\n",
       "}\r\n",
       ".dni-treeview td {\r\n",
       "    vertical-align: top;\r\n",
       "    text-align: start;\r\n",
       "}\r\n",
       "details.dni-treeview {\r\n",
       "    padding-left: 1em;\r\n",
       "}\r\n",
       "table td {\r\n",
       "    text-align: start;\r\n",
       "}\r\n",
       "table tr { \r\n",
       "    vertical-align: top; \r\n",
       "    margin: 0em 0px;\r\n",
       "}\r\n",
       "table tr td pre \r\n",
       "{ \r\n",
       "    vertical-align: top !important; \r\n",
       "    margin: 0em 0px !important;\r\n",
       "} \r\n",
       "table th {\r\n",
       "    text-align: start;\r\n",
       "}\r\n",
       "</style>"
      ]
     },
     "metadata": {},
     "output_type": "display_data"
    }
   ],
   "source": [
    "//// test\n",
    "\n",
    "let example1 =\n",
    "    \"\"\"#!meta\n",
    "\n",
    "{\"kernelInfo\":{\"defaultKernelName\":\"fsharp\",\"items\":[{\"aliases\":[],\"name\":\"fsharp\"},{\"aliases\":[],\"name\":\"fsharp\"}]}}\n",
    "\n",
    "\\#!markdown\n",
    "\n",
    "# TestModule (TestNamespace)\n",
    "\n",
    "\\#!fsharp\n",
    "\n",
    "\\#!import file.dib\n",
    "\n",
    "\\#!fsharp\n",
    "\n",
    "\\#r \"nuget:Expecto\"\n",
    "\n",
    "\\#!markdown\n",
    "\n",
    "## ParserLibrary\n",
    "\n",
    "\\#!fsharp\n",
    "\n",
    "open System\n",
    "\n",
    "\\#!markdown\n",
    "\n",
    "## x (test)\n",
    "\n",
    "\\#!fsharp\n",
    "\n",
    "//// ignore\n",
    "\n",
    "let x = 1\n",
    "\n",
    "\\#!markdown\n",
    "\n",
    "### TextInput\n",
    "\n",
    "\\#!fsharp\n",
    "\n",
    "type Position =\n",
    "    {\n",
    "        line : int\n",
    "        column : int\n",
    "    }\"\"\"\n",
    "    |> escapeCell\n",
    "\n",
    "let blocks1 =\n",
    "    example1\n",
    "    |> parse \"fsharp\"\n",
    "    |> Result.toOption\n",
    "    |> Option.get\n",
    "\n",
    "blocks1"
   ]
  },
  {
   "cell_type": "code",
   "execution_count": null,
   "metadata": {
    "dotnet_repl_cellExecutionStartTime": "2023-07-21T16:13:22.2776738-03:00",
    "dotnet_repl_cellExecutionEndTime": "2023-07-21T16:13:22.2965927-03:00",
    "dotnet_repl_cellExecutionTime": "18.9208ms",
    "dotnet_interactive": {
     "language": "fsharp"
    },
    "polyglot_notebook": {
     "kernelName": "fsharp"
    }
   },
   "outputs": [
    {
     "name": "stdout",
     "output_type": "stream",
     "text": [
      "/// # TestModule (TestNamespace)\n",
      "\n",
      "#if !INTERACTIVE\n",
      "namespace TestNamespace\n",
      "#endif\n",
      "\n",
      "module TestModule =\n",
      "\n",
      "    /// ## ParserLibrary\n",
      "\n",
      "    open System\n",
      "\n",
      "    /// ### TextInput\n",
      "\n",
      "    type Position =\n",
      "        {\n",
      "            line : int\n",
      "            column : int\n",
      "        }\n",
      "\r\n"
     ]
    }
   ],
   "source": [
    "//// test\n",
    "\n",
    "blocks1\n",
    "|> (formatBlocks \"fsharp\")\n",
    "|> _equal \"\"\"/// # TestModule (TestNamespace)\n",
    "\n",
    "#if !INTERACTIVE\n",
    "namespace TestNamespace\n",
    "#endif\n",
    "\n",
    "module TestModule =\n",
    "\n",
    "    /// ## ParserLibrary\n",
    "\n",
    "    open System\n",
    "\n",
    "    /// ### TextInput\n",
    "\n",
    "    type Position =\n",
    "        {\n",
    "            line : int\n",
    "            column : int\n",
    "        }\n",
    "\"\"\""
   ]
  },
  {
   "cell_type": "code",
   "execution_count": null,
   "metadata": {
    "dotnet_repl_cellExecutionStartTime": "2023-07-21T16:13:22.2966263-03:00",
    "dotnet_repl_cellExecutionEndTime": "2023-07-21T16:13:22.3097446-03:00",
    "dotnet_repl_cellExecutionTime": "13.1201ms",
    "dotnet_interactive": {
     "language": "fsharp"
    },
    "polyglot_notebook": {
     "kernelName": "fsharp"
    }
   },
   "outputs": [
    {
     "name": "stdout",
     "output_type": "stream",
     "text": [
      "/// # TestModule (TestNamespace)\n",
      "\n",
      "    /// ## ParserLibrary\n",
      "\n",
      "    /// ### TextInput\n",
      "\r\n"
     ]
    }
   ],
   "source": [
    "//// test\n",
    "\n",
    "blocks1\n",
    "|> (formatBlocks \"markdown\")\n",
    "|> _equal \"\"\"/// # TestModule (TestNamespace)\n",
    "\n",
    "    /// ## ParserLibrary\n",
    "\n",
    "    /// ### TextInput\n",
    "\"\"\""
   ]
  },
  {
   "cell_type": "code",
   "execution_count": null,
   "metadata": {
    "dotnet_repl_cellExecutionStartTime": "2023-07-21T16:13:22.3097911-03:00",
    "dotnet_repl_cellExecutionEndTime": "2023-07-21T16:13:22.3753779-03:00",
    "dotnet_repl_cellExecutionTime": "65.5889ms",
    "dotnet_interactive": {
     "language": "fsharp"
    },
    "polyglot_notebook": {
     "kernelName": "fsharp"
    }
   },
   "outputs": [
    {
     "name": "stdout",
     "output_type": "stream",
     "text": [
      "Parsing Parser.dib\r\n",
      "Parsing JsonParser.dib\r\n",
      "Parsing DibParser.dib\r\n"
     ]
    }
   ],
   "source": [
    "//// test\n",
    "\n",
    "match Environment.GetEnvironmentVariable \"OUTPUT\" with\n",
    "| \"\" | null -> ()\n",
    "| path when System.IO.File.Exists path -> path |> writeDibCode \"fsharp\"\n",
    "| path when path.Contains \";\" -> path |> String.split [| ';' |] |> Array.iter (writeDibCode \"fsharp\")\n",
    "| _ -> System.IO.Path.Combine (System.IO.Directory.GetCurrentDirectory (), \"DibParser.dib\") |> writeDibCode \"fsharp\""
   ]
  }
 ],
 "metadata": {
  "kernelspec": {
   "display_name": ".NET (C#)",
   "language": "C#",
   "name": ".net-csharp"
  },
  "language_info": {
   "file_extension": ".cs",
   "mimetype": "text/x-csharp",
   "name": "C#",
   "pygments_lexer": "csharp",
   "version": "10.0"
  },
  "polyglot_notebook": {
   "defaultKernelName": "csharp",
   "items": [
    {
     "name": "csharp"
    }
   ]
  },
  "dotnet_interactive": {
   "defaultKernelName": "csharp",
   "items": [
    {
     "name": "csharp"
    }
   ]
  }
 },
 "nbformat": 4,
 "nbformat_minor": 5
}