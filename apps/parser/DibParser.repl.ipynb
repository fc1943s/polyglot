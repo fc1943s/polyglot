{
 "cells": [
  {
   "cell_type": "code",
   "execution_count": null,
   "metadata": {
    "dotnet_repl_cellExecutionStartTime": "2023-07-18T03:00:35.6479608-03:00",
    "dotnet_repl_cellExecutionEndTime": "2023-07-18T03:00:48.8427913-03:00",
    "dotnet_repl_cellExecutionTime": "13.1948331s",
    "dotnet_interactive": {
     "language": "fsharp"
    },
    "polyglot_notebook": {
     "kernelName": "fsharp"
    }
   },
   "outputs": [
    {
     "data": {
      "text/markdown": [
       "# Common (Polyglot)"
      ]
     },
     "metadata": {},
     "output_type": "display_data"
    },
    {
     "data": {
      "text/html": [
       "<div><div></div><div><strong>Installing Packages</strong><ul><li><span>Expecto</span></li></ul></div><div></div></div>"
      ]
     },
     "metadata": {},
     "output_type": "display_data"
    },
    {
     "data": {
      "text/html": [
       "<div><div></div><div><strong>Installing Packages</strong><ul><li><span>Expecto.</span></li></ul></div><div></div></div>"
      ]
     },
     "metadata": {},
     "output_type": "display_data"
    },
    {
     "data": {
      "text/html": [
       "<div><div></div><div><strong>Installing Packages</strong><ul><li><span>Expecto..</span></li></ul></div><div></div></div>"
      ]
     },
     "metadata": {},
     "output_type": "display_data"
    },
    {
     "data": {
      "text/html": [
       "<div><div></div><div><strong>Installing Packages</strong><ul><li><span>Expecto...</span></li></ul></div><div></div></div>"
      ]
     },
     "metadata": {},
     "output_type": "display_data"
    },
    {
     "data": {
      "text/html": [
       "<div><div></div><div><strong>Installing Packages</strong><ul><li><span>Expecto....</span></li></ul></div><div></div></div>"
      ]
     },
     "metadata": {},
     "output_type": "display_data"
    },
    {
     "data": {
      "text/html": [
       "<div><div></div><div><strong>Installing Packages</strong><ul><li><span>Expecto.....</span></li></ul></div><div></div></div>"
      ]
     },
     "metadata": {},
     "output_type": "display_data"
    },
    {
     "data": {
      "text/html": [
       "<div><div></div><div><strong>Installing Packages</strong><ul><li><span>Expecto......</span></li></ul></div><div></div></div>"
      ]
     },
     "metadata": {},
     "output_type": "display_data"
    },
    {
     "data": {
      "text/html": [
       "<div><div></div><div><strong>Installing Packages</strong><ul><li><span>Expecto.......</span></li></ul></div><div></div></div>"
      ]
     },
     "metadata": {},
     "output_type": "display_data"
    },
    {
     "data": {
      "text/html": [
       "<div><div></div><div><strong>Installing Packages</strong><ul><li><span>Expecto........</span></li></ul></div><div></div></div>"
      ]
     },
     "metadata": {},
     "output_type": "display_data"
    },
    {
     "data": {
      "text/html": [
       "<div><div></div><div></div><div><strong>Installed Packages</strong><ul><li><span>Expecto, 10.1.0</span></li></ul></div></div>"
      ]
     },
     "metadata": {},
     "output_type": "display_data"
    },
    {
     "data": {
      "text/html": [
       "<div class=\"dni-plaintext\"><pre>True</pre></div><style>\r\n",
       ".dni-code-hint {\r\n",
       "    font-style: italic;\r\n",
       "    overflow: hidden;\r\n",
       "    white-space: nowrap;\r\n",
       "}\r\n",
       ".dni-treeview {\r\n",
       "    white-space: nowrap;\r\n",
       "}\r\n",
       ".dni-treeview td {\r\n",
       "    vertical-align: top;\r\n",
       "    text-align: start;\r\n",
       "}\r\n",
       "details.dni-treeview {\r\n",
       "    padding-left: 1em;\r\n",
       "}\r\n",
       "table td {\r\n",
       "    text-align: start;\r\n",
       "}\r\n",
       "table tr { \r\n",
       "    vertical-align: top; \r\n",
       "    margin: 0em 0px;\r\n",
       "}\r\n",
       "table tr td pre \r\n",
       "{ \r\n",
       "    vertical-align: top !important; \r\n",
       "    margin: 0em 0px !important;\r\n",
       "} \r\n",
       "table th {\r\n",
       "    text-align: start;\r\n",
       "}\r\n",
       "</style>"
      ]
     },
     "metadata": {},
     "output_type": "display_data"
    },
    {
     "name": "stdout",
     "output_type": "stream",
     "text": [
      "00010101-0000-0000-0000-0a9876543210\r\n",
      "99991231-2359-5999-9999-9a9876543210\r\n",
      "19700101-0000-0000-0000-0a9876543210\r\n",
      "0001-01-01 00:00:00Z\r\n",
      "9999-12-31 23:59:59Z\r\n",
      "1970-01-01 00:00:00Z\r\n",
      "00000000-0000-0000-00dc-ba9876543210\r\n",
      "99999999-9999-9999-99dc-ba9876543210\r\n",
      "0\r\n",
      "999999999999999999\r\n",
      "0\r\n",
      "0\r\n",
      "03:00:48 #1 [Debug] test\r\n",
      "1\r\n",
      "1\r\n",
      "1\r\n",
      "0\r\n"
     ]
    }
   ],
   "source": [
    "#!import ../nbs/Common.dib"
   ]
  },
  {
   "cell_type": "code",
   "execution_count": null,
   "metadata": {
    "dotnet_repl_cellExecutionStartTime": "2023-07-18T03:00:48.8443163-03:00",
    "dotnet_repl_cellExecutionEndTime": "2023-07-18T03:00:48.8689209-03:00",
    "dotnet_repl_cellExecutionTime": "24.6066ms",
    "dotnet_interactive": {
     "language": "fsharp"
    },
    "polyglot_notebook": {
     "kernelName": "fsharp"
    }
   },
   "outputs": [],
   "source": [
    "//// test\n",
    "\n",
    "let escapeCell (input : string) =\n",
    "    input.Split [| '\\n' |]\n",
    "    |> Array.map (function\n",
    "        | line when line.StartsWith \"\\\\#!\" || line.StartsWith \"\\\\#r\" ->\n",
    "            System.Text.RegularExpressions.Regex.Replace (line, \"^\\\\\\\\#\", \"#\")\n",
    "        | line -> line\n",
    "    )\n",
    "    |> String.concat \"\\n\""
   ]
  },
  {
   "cell_type": "code",
   "execution_count": null,
   "metadata": {
    "dotnet_repl_cellExecutionStartTime": "2023-07-18T03:00:48.8690931-03:00",
    "dotnet_repl_cellExecutionEndTime": "2023-07-18T03:00:48.9154983-03:00",
    "dotnet_repl_cellExecutionTime": "46.4072ms",
    "dotnet_interactive": {
     "language": "fsharp"
    },
    "polyglot_notebook": {
     "kernelName": "fsharp"
    }
   },
   "outputs": [
    {
     "name": "stdout",
     "output_type": "stream",
     "text": [
      "a\r\n",
      "#!magic\r\n",
      "b\r\n",
      "\r\n"
     ]
    }
   ],
   "source": [
    "//// test\n",
    "\n",
    "$\"a{nl}\\\\#!magic{nl}b{nl}\"\n",
    "|> escapeCell\n",
    "|> _equal (\n",
    "    $\"a{nl}#!magic{nl}b{nl}\"\n",
    ")"
   ]
  },
  {
   "cell_type": "code",
   "execution_count": null,
   "metadata": {
    "dotnet_repl_cellExecutionStartTime": "2023-07-18T03:00:48.9155429-03:00",
    "dotnet_repl_cellExecutionEndTime": "2023-07-18T03:00:53.5060032-03:00",
    "dotnet_repl_cellExecutionTime": "4.5904681s",
    "dotnet_interactive": {
     "language": "fsharp"
    },
    "polyglot_notebook": {
     "kernelName": "fsharp"
    }
   },
   "outputs": [
    {
     "data": {
      "text/html": [
       "<div><div></div><div><strong>Installing Packages</strong><ul><li><span>FParsec</span></li></ul></div><div></div></div>"
      ]
     },
     "metadata": {},
     "output_type": "display_data"
    },
    {
     "data": {
      "text/html": [
       "<div><div></div><div><strong>Installing Packages</strong><ul><li><span>FParsec.</span></li></ul></div><div></div></div>"
      ]
     },
     "metadata": {},
     "output_type": "display_data"
    },
    {
     "data": {
      "text/html": [
       "<div><div></div><div><strong>Installing Packages</strong><ul><li><span>FParsec..</span></li></ul></div><div></div></div>"
      ]
     },
     "metadata": {},
     "output_type": "display_data"
    },
    {
     "data": {
      "text/html": [
       "<div><div></div><div><strong>Installing Packages</strong><ul><li><span>FParsec...</span></li></ul></div><div></div></div>"
      ]
     },
     "metadata": {},
     "output_type": "display_data"
    },
    {
     "data": {
      "text/html": [
       "<div><div></div><div><strong>Installing Packages</strong><ul><li><span>FParsec....</span></li></ul></div><div></div></div>"
      ]
     },
     "metadata": {},
     "output_type": "display_data"
    },
    {
     "data": {
      "text/html": [
       "<div><div></div><div><strong>Installing Packages</strong><ul><li><span>FParsec.....</span></li></ul></div><div></div></div>"
      ]
     },
     "metadata": {},
     "output_type": "display_data"
    },
    {
     "data": {
      "text/html": [
       "<div><div></div><div><strong>Installing Packages</strong><ul><li><span>FParsec......</span></li></ul></div><div></div></div>"
      ]
     },
     "metadata": {},
     "output_type": "display_data"
    },
    {
     "data": {
      "text/html": [
       "<div><div></div><div><strong>Installing Packages</strong><ul><li><span>FParsec.......</span></li></ul></div><div></div></div>"
      ]
     },
     "metadata": {},
     "output_type": "display_data"
    },
    {
     "data": {
      "text/html": [
       "<div><div></div><div><strong>Installing Packages</strong><ul><li><span>FParsec........</span></li></ul></div><div></div></div>"
      ]
     },
     "metadata": {},
     "output_type": "display_data"
    },
    {
     "data": {
      "text/html": [
       "<div><div></div><div></div><div><strong>Installed Packages</strong><ul><li><span>FParsec, 1.1.1</span></li></ul></div></div>"
      ]
     },
     "metadata": {},
     "output_type": "display_data"
    }
   ],
   "source": [
    "#r \"nuget:FParsec\""
   ]
  },
  {
   "cell_type": "code",
   "execution_count": null,
   "metadata": {
    "dotnet_repl_cellExecutionStartTime": "2023-07-18T03:00:53.5060487-03:00",
    "dotnet_repl_cellExecutionEndTime": "2023-07-18T03:00:53.5375239-03:00",
    "dotnet_repl_cellExecutionTime": "31.477ms",
    "dotnet_interactive": {
     "language": "fsharp"
    },
    "polyglot_notebook": {
     "kernelName": "fsharp"
    }
   },
   "outputs": [],
   "source": [
    "open FParsec"
   ]
  },
  {
   "cell_type": "code",
   "execution_count": null,
   "metadata": {
    "dotnet_repl_cellExecutionStartTime": "2023-07-18T03:00:53.5375548-03:00",
    "dotnet_repl_cellExecutionEndTime": "2023-07-18T03:00:53.600796-03:00",
    "dotnet_repl_cellExecutionTime": "63.2437ms",
    "dotnet_interactive": {
     "language": "fsharp"
    },
    "polyglot_notebook": {
     "kernelName": "fsharp"
    }
   },
   "outputs": [],
   "source": [
    "type Block =\n",
    "    {\n",
    "        magic : string\n",
    "        content : string\n",
    "    }"
   ]
  },
  {
   "cell_type": "code",
   "execution_count": null,
   "metadata": {
    "dotnet_repl_cellExecutionStartTime": "2023-07-18T03:00:53.6008295-03:00",
    "dotnet_repl_cellExecutionEndTime": "2023-07-18T03:00:53.6324516-03:00",
    "dotnet_repl_cellExecutionTime": "31.6246ms",
    "dotnet_interactive": {
     "language": "fsharp"
    },
    "polyglot_notebook": {
     "kernelName": "fsharp"
    }
   },
   "outputs": [],
   "source": [
    "let magicMarker : Parser<string, unit> = pstring \"#!\""
   ]
  },
  {
   "cell_type": "code",
   "execution_count": null,
   "metadata": {
    "dotnet_repl_cellExecutionStartTime": "2023-07-18T03:00:53.6324851-03:00",
    "dotnet_repl_cellExecutionEndTime": "2023-07-18T03:00:53.6925911-03:00",
    "dotnet_repl_cellExecutionTime": "60.1097ms",
    "dotnet_interactive": {
     "language": "fsharp"
    },
    "polyglot_notebook": {
     "kernelName": "fsharp"
    }
   },
   "outputs": [
    {
     "name": "stdout",
     "output_type": "stream",
     "text": [
      "Success\r\n",
      "      Item1: #!\r\n",
      "      Item2: <null>\r\n",
      "      Item3: Position\r\n",
      "        Index: 2\r\n",
      "        Line: 1\r\n",
      "        Column: 3\r\n",
      "        StreamName: \r\n"
     ]
    }
   ],
   "source": [
    "//// test\n",
    "\n",
    "let input = \"#!magic\"\n",
    "let result = run magicMarker input\n",
    "result |> _equal (\n",
    "    Success (\"#!\", (), Position (\"\", 2, 1, 3))\n",
    ")"
   ]
  },
  {
   "cell_type": "code",
   "execution_count": null,
   "metadata": {
    "dotnet_repl_cellExecutionStartTime": "2023-07-18T03:00:53.6926364-03:00",
    "dotnet_repl_cellExecutionEndTime": "2023-07-18T03:00:53.767391-03:00",
    "dotnet_repl_cellExecutionTime": "74.757ms",
    "dotnet_interactive": {
     "language": "fsharp"
    },
    "polyglot_notebook": {
     "kernelName": "fsharp"
    }
   },
   "outputs": [
    {
     "name": "stdout",
     "output_type": "stream",
     "text": [
      "Failure\r\n",
      "      Item1: Error in Ln: 1 Col: 1\r\n",
      "##!magic\r\n",
      "^\r\n",
      "Expecting: '#!'\r\n",
      "\r\n",
      "      Item2: ParserError\r\n",
      "        Position: Position\r\n",
      "          Index: 0\r\n",
      "          Line: 1\r\n",
      "          Column: 1\r\n",
      "          StreamName: \r\n",
      "        UserState: <null>\r\n",
      "        Messages: ErrorMessageList\r\n",
      "          Head: ExpectedString\r\n",
      "            String: #!\r\n",
      "            Type: ExpectedString\r\n",
      "          Tail: <null>\r\n",
      "      Item3: <null>\r\n"
     ]
    }
   ],
   "source": [
    "//// test\n",
    "\n",
    "let input = \"##!magic\"\n",
    "let result = run magicMarker input\n",
    "result |> _equal (\n",
    "    Failure (\n",
    "        $\"Error in Ln: 1 Col: 1{nl}##!magic{nl}^{nl}Expecting: '#!'{nl}\",\n",
    "        ParserError (\n",
    "            Position (\"\", 0, 1, 1),\n",
    "            (),\n",
    "            ErrorMessageList (ExpectedString \"#!\")\n",
    "        ),\n",
    "        ()\n",
    "    )\n",
    ")"
   ]
  },
  {
   "cell_type": "code",
   "execution_count": null,
   "metadata": {
    "dotnet_repl_cellExecutionStartTime": "2023-07-18T03:00:53.7674348-03:00",
    "dotnet_repl_cellExecutionEndTime": "2023-07-18T03:00:53.7985107-03:00",
    "dotnet_repl_cellExecutionTime": "31.0786ms",
    "dotnet_interactive": {
     "language": "fsharp"
    },
    "polyglot_notebook": {
     "kernelName": "fsharp"
    }
   },
   "outputs": [],
   "source": [
    "let magicCommand =\n",
    "    magicMarker\n",
    "    >>. manyTill anyChar newline\n",
    "    |>> (String.Concat >> String.trim)"
   ]
  },
  {
   "cell_type": "code",
   "execution_count": null,
   "metadata": {
    "dotnet_repl_cellExecutionStartTime": "2023-07-18T03:00:53.7985421-03:00",
    "dotnet_repl_cellExecutionEndTime": "2023-07-18T03:00:53.8375701-03:00",
    "dotnet_repl_cellExecutionTime": "39.03ms",
    "dotnet_interactive": {
     "language": "fsharp"
    },
    "polyglot_notebook": {
     "kernelName": "fsharp"
    }
   },
   "outputs": [
    {
     "name": "stdout",
     "output_type": "stream",
     "text": [
      "Success\r\n",
      "      Item1: magic\r\n",
      "      Item2: <null>\r\n",
      "      Item3: Position\r\n",
      "        Index: 8\r\n",
      "        Line: 2\r\n",
      "        Column: 1\r\n",
      "        StreamName: \r\n"
     ]
    }
   ],
   "source": [
    "//// test\n",
    "\n",
    "let input = \"\"\"#!magic\n",
    "\n",
    "a\"\"\"\n",
    "let result = run magicCommand input\n",
    "result |> _equal (\n",
    "    Success (\"magic\", (), Position (\"\", 8, 2, 1))\n",
    ")"
   ]
  },
  {
   "cell_type": "code",
   "execution_count": null,
   "metadata": {
    "dotnet_repl_cellExecutionStartTime": "2023-07-18T03:00:53.8376012-03:00",
    "dotnet_repl_cellExecutionEndTime": "2023-07-18T03:00:53.8864259-03:00",
    "dotnet_repl_cellExecutionTime": "48.8266ms",
    "dotnet_interactive": {
     "language": "fsharp"
    },
    "polyglot_notebook": {
     "kernelName": "fsharp"
    }
   },
   "outputs": [
    {
     "name": "stdout",
     "output_type": "stream",
     "text": [
      "Failure\r\n",
      "      Item1: Error in Ln: 1 Col: 1\r\n",
      " #!magic\r\n",
      "^\r\n",
      "Expecting: '#!'\r\n",
      "\r\n",
      "      Item2: ParserError\r\n",
      "        Position: Position\r\n",
      "          Index: 0\r\n",
      "          Line: 1\r\n",
      "          Column: 1\r\n",
      "          StreamName: \r\n",
      "        UserState: <null>\r\n",
      "        Messages: ErrorMessageList\r\n",
      "          Head: ExpectedString\r\n",
      "            String: #!\r\n",
      "            Type: ExpectedString\r\n",
      "          Tail: <null>\r\n",
      "      Item3: <null>\r\n"
     ]
    }
   ],
   "source": [
    "//// test\n",
    "\n",
    "let input = \"\"\" #!magic\n",
    "\n",
    "a\"\"\"\n",
    "let result = run magicCommand input\n",
    "result |> _equal (\n",
    "    Failure (\n",
    "        $\"Error in Ln: 1 Col: 1{nl} #!magic{nl}^{nl}Expecting: '#!'{nl}\",\n",
    "        ParserError (\n",
    "            Position (\"\", 0, 1, 1),\n",
    "            (),\n",
    "            ErrorMessageList (ExpectedString \"#!\")\n",
    "        ),\n",
    "        ()\n",
    "    )\n",
    ")"
   ]
  },
  {
   "cell_type": "code",
   "execution_count": null,
   "metadata": {
    "dotnet_repl_cellExecutionStartTime": "2023-07-18T03:00:53.8864597-03:00",
    "dotnet_repl_cellExecutionEndTime": "2023-07-18T03:00:53.9224452-03:00",
    "dotnet_repl_cellExecutionTime": "35.9875ms",
    "dotnet_interactive": {
     "language": "fsharp"
    },
    "polyglot_notebook": {
     "kernelName": "fsharp"
    }
   },
   "outputs": [],
   "source": [
    "let content =\n",
    "    (newline >>. magicMarker) <|> (eof >>. preturn \"\")\n",
    "    |> attempt\n",
    "    |> lookAhead\n",
    "    |> manyTill anyChar\n",
    "    |>> (String.Concat >> String.trim)"
   ]
  },
  {
   "cell_type": "code",
   "execution_count": null,
   "metadata": {
    "dotnet_repl_cellExecutionStartTime": "2023-07-18T03:00:53.9224777-03:00",
    "dotnet_repl_cellExecutionEndTime": "2023-07-18T03:00:53.9564715-03:00",
    "dotnet_repl_cellExecutionTime": "33.9958ms",
    "dotnet_interactive": {
     "language": "fsharp"
    },
    "polyglot_notebook": {
     "kernelName": "fsharp"
    }
   },
   "outputs": [
    {
     "name": "stdout",
     "output_type": "stream",
     "text": [
      "Success\r\n",
      "      Item1: #!magic\n",
      "\n",
      "\n",
      "a\r\n",
      "      Item2: <null>\r\n",
      "      Item3: Position\r\n",
      "        Index: 14\r\n",
      "        Line: 7\r\n",
      "        Column: 1\r\n",
      "        StreamName: \r\n"
     ]
    }
   ],
   "source": [
    "//// test\n",
    "\n",
    "let input = \"\"\"#!magic\n",
    "\n",
    "\n",
    "a\n",
    "\n",
    "\n",
    "\"\"\"\n",
    "let result = run content input\n",
    "result |> _equal (\n",
    "    Success (\"\"\"#!magic\n",
    "\n",
    "\n",
    "a\"\"\", (), Position (\"\", 14, 7, 1))\n",
    ")"
   ]
  },
  {
   "cell_type": "code",
   "execution_count": null,
   "metadata": {
    "dotnet_repl_cellExecutionStartTime": "2023-07-18T03:00:53.9565034-03:00",
    "dotnet_repl_cellExecutionEndTime": "2023-07-18T03:00:54.01497-03:00",
    "dotnet_repl_cellExecutionTime": "58.4691ms",
    "dotnet_interactive": {
     "language": "fsharp"
    },
    "polyglot_notebook": {
     "kernelName": "fsharp"
    }
   },
   "outputs": [],
   "source": [
    "let block =\n",
    "    pipe2\n",
    "        magicCommand\n",
    "        content\n",
    "        (fun magic content ->\n",
    "            {\n",
    "                magic = magic\n",
    "                content = content\n",
    "            })"
   ]
  },
  {
   "cell_type": "code",
   "execution_count": null,
   "metadata": {
    "dotnet_repl_cellExecutionStartTime": "2023-07-18T03:00:54.0150022-03:00",
    "dotnet_repl_cellExecutionEndTime": "2023-07-18T03:00:54.0545821-03:00",
    "dotnet_repl_cellExecutionTime": "39.5814ms",
    "dotnet_interactive": {
     "language": "fsharp"
    },
    "polyglot_notebook": {
     "kernelName": "fsharp"
    }
   },
   "outputs": [
    {
     "name": "stdout",
     "output_type": "stream",
     "text": [
      "Success\r\n",
      "      Item1: Block\r\n",
      "        magic: magic\r\n",
      "        content: a\r\n",
      "      Item2: <null>\r\n",
      "      Item3: Position\r\n",
      "        Index: 14\r\n",
      "        Line: 7\r\n",
      "        Column: 1\r\n",
      "        StreamName: \r\n"
     ]
    }
   ],
   "source": [
    "//// test\n",
    "\n",
    "let input = \"\"\"#!magic\n",
    "\n",
    "\n",
    "a\n",
    "\n",
    "\n",
    "\"\"\"\n",
    "let result = run block input\n",
    "result |> _equal (\n",
    "    Success (\n",
    "        { magic = \"magic\"; content = \"a\" },\n",
    "        (),\n",
    "        Position (\"\", 14, 7, 1)\n",
    "    )\n",
    ")"
   ]
  },
  {
   "cell_type": "code",
   "execution_count": null,
   "metadata": {
    "dotnet_repl_cellExecutionStartTime": "2023-07-18T03:00:54.0546111-03:00",
    "dotnet_repl_cellExecutionEndTime": "2023-07-18T03:00:54.0764615-03:00",
    "dotnet_repl_cellExecutionTime": "21.8523ms",
    "dotnet_interactive": {
     "language": "fsharp"
    },
    "polyglot_notebook": {
     "kernelName": "fsharp"
    }
   },
   "outputs": [],
   "source": [
    "let blocks =\n",
    "    skipMany newline\n",
    "    >>. sepEndBy block (skipMany1 newline)"
   ]
  },
  {
   "cell_type": "code",
   "execution_count": null,
   "metadata": {
    "dotnet_repl_cellExecutionStartTime": "2023-07-18T03:00:54.0764917-03:00",
    "dotnet_repl_cellExecutionEndTime": "2023-07-18T03:00:54.1236757-03:00",
    "dotnet_repl_cellExecutionTime": "47.1859ms",
    "dotnet_interactive": {
     "language": "fsharp"
    },
    "polyglot_notebook": {
     "kernelName": "fsharp"
    }
   },
   "outputs": [
    {
     "name": "stdout",
     "output_type": "stream",
     "text": [
      "Success\r\n",
      "      Item1: FSharpList<Block>\r\n",
      "        - magic: magic1\r\n",
      "          content: a\r\n",
      "        - magic: magic2\r\n",
      "          content: b\r\n",
      "      Item2: <null>\r\n",
      "      Item3: Position\r\n",
      "        Index: 26\r\n",
      "        Line: 9\r\n",
      "        Column: 1\r\n",
      "        StreamName: \r\n"
     ]
    }
   ],
   "source": [
    "//// test\n",
    "\n",
    "let input =\n",
    "    \"\"\"#!magic1\n",
    "\n",
    "a\n",
    "\n",
    "\\#!magic2\n",
    "\n",
    "b\n",
    "\n",
    "\"\"\" |> escapeCell\n",
    "let result = run blocks input\n",
    "result |> _equal (\n",
    "    Success (\n",
    "        [\n",
    "            { magic = \"magic1\"; content = \"a\" }\n",
    "            { magic = \"magic2\"; content = \"b\" }\n",
    "        ],\n",
    "        (),\n",
    "        Position (\"\", 26, 9, 1)\n",
    "    )\n",
    ")"
   ]
  },
  {
   "cell_type": "code",
   "execution_count": null,
   "metadata": {
    "dotnet_repl_cellExecutionStartTime": "2023-07-18T03:00:54.1237047-03:00",
    "dotnet_repl_cellExecutionEndTime": "2023-07-18T03:00:54.1930898-03:00",
    "dotnet_repl_cellExecutionTime": "69.3874ms",
    "dotnet_interactive": {
     "language": "fsharp"
    },
    "polyglot_notebook": {
     "kernelName": "fsharp"
    }
   },
   "outputs": [],
   "source": [
    "let formatBlock kernel (block : Block) =\n",
    "    match kernel, block with\n",
    "    | _, { magic = \"markdown\"; content = content } ->\n",
    "        content.Split [| '\\n' |]\n",
    "        |> Array.map (fun line -> line.TrimEnd ())\n",
    "        |> Array.filter (fun line -> line.EndsWith \" (test)\" |> not)\n",
    "        |> Array.map (function\n",
    "            | \"\" -> \"//\"\n",
    "            | line -> System.Text.RegularExpressions.Regex.Replace (line, \"^\\\\s*\", \"$&// \")\n",
    "        )\n",
    "        |> String.concat \"\\n\"\n",
    "    | \"fsharp\", { magic = \"fsharp\"; content = content } ->\n",
    "        let trimmedContent = content.Trim ()\n",
    "        if trimmedContent.StartsWith \"//// test\" || trimmedContent.StartsWith \"//// ignore\"\n",
    "        then \"\"\n",
    "        else\n",
    "            content.Split [| '\\n' |]\n",
    "            |> Array.filter (fun line -> line.TrimStart().StartsWith \"#r\" |> not)\n",
    "            |> String.concat \"\\n\"\n",
    "    | _ -> \"\""
   ]
  },
  {
   "cell_type": "code",
   "execution_count": null,
   "metadata": {
    "dotnet_repl_cellExecutionStartTime": "2023-07-18T03:00:54.1931215-03:00",
    "dotnet_repl_cellExecutionEndTime": "2023-07-18T03:00:54.2517338-03:00",
    "dotnet_repl_cellExecutionTime": "58.6152ms",
    "dotnet_interactive": {
     "language": "fsharp"
    },
    "polyglot_notebook": {
     "kernelName": "fsharp"
    }
   },
   "outputs": [
    {
     "name": "stdout",
     "output_type": "stream",
     "text": [
      "// a\n",
      "//\n",
      "    // b\n",
      "//\n",
      "// c\r\n"
     ]
    }
   ],
   "source": [
    "//// test\n",
    "\n",
    "let input =\n",
    "    \"\"\"#!markdown\n",
    "\n",
    "\n",
    "a\n",
    "\n",
    "    b\n",
    "\n",
    "c\n",
    "\n",
    "\n",
    "\\#!markdown\n",
    "\n",
    "\n",
    "c\n",
    "\n",
    "\n",
    "\\#!fsharp\n",
    "\n",
    "\n",
    "let a = 1\"\"\" |> escapeCell\n",
    "let result =\n",
    "    match run block input with\n",
    "    | Success (block, _, _) ->\n",
    "        formatBlock \"fsharp\" block\n",
    "    | Failure (msg, _, _) ->\n",
    "        failwith msg\n",
    "result |> _equal \"\"\"// a\n",
    "//\n",
    "    // b\n",
    "//\n",
    "// c\"\"\""
   ]
  },
  {
   "cell_type": "code",
   "execution_count": null,
   "metadata": {
    "dotnet_repl_cellExecutionStartTime": "2023-07-18T03:00:54.251774-03:00",
    "dotnet_repl_cellExecutionEndTime": "2023-07-18T03:00:54.2724515-03:00",
    "dotnet_repl_cellExecutionTime": "20.6799ms",
    "dotnet_interactive": {
     "language": "fsharp"
    },
    "polyglot_notebook": {
     "kernelName": "fsharp"
    }
   },
   "outputs": [],
   "source": [
    "let formatBlocks kernel blocks =\n",
    "    blocks\n",
    "    |> List.map (formatBlock kernel)\n",
    "    |> List.filter (fun s -> s <> \"\")\n",
    "    |> String.concat \"\\n\\n\"\n",
    "    |> fun s -> s + \"\\n\""
   ]
  },
  {
   "cell_type": "code",
   "execution_count": null,
   "metadata": {
    "dotnet_repl_cellExecutionStartTime": "2023-07-18T03:00:54.272486-03:00",
    "dotnet_repl_cellExecutionEndTime": "2023-07-18T03:00:54.3183608-03:00",
    "dotnet_repl_cellExecutionTime": "45.877ms",
    "dotnet_interactive": {
     "language": "fsharp"
    },
    "polyglot_notebook": {
     "kernelName": "fsharp"
    }
   },
   "outputs": [
    {
     "name": "stdout",
     "output_type": "stream",
     "text": [
      "// a\n",
      "//\n",
      "// b\n",
      "\n",
      "// c\n",
      "\n",
      "let a = 1\n",
      "\n",
      "// e\n",
      "\n",
      "let a = 3\n",
      "\r\n"
     ]
    }
   ],
   "source": [
    "//// test\n",
    "\n",
    "let input =\n",
    "    \"\"\"#!markdown\n",
    "\n",
    "\n",
    "a\n",
    "\n",
    "b\n",
    "\n",
    "\n",
    "\\#!markdown\n",
    "\n",
    "\n",
    "c\n",
    "\n",
    "\n",
    "\\#!fsharp\n",
    "\n",
    "\n",
    "let a = 1\n",
    "\n",
    "\\#!markdown\n",
    "\n",
    "d (test)\n",
    "\n",
    "\\#!fsharp\n",
    "\n",
    "//// test\n",
    "\n",
    "let a = 2\n",
    "\n",
    "\\#!markdown\n",
    "\n",
    "e\n",
    "\n",
    "\\#!fsharp\n",
    "\n",
    "let a = 3\"\"\"\n",
    "    |> escapeCell\n",
    "let result =\n",
    "    match run blocks input with\n",
    "    | Success (blocks, _, _) ->\n",
    "        formatBlocks \"fsharp\" blocks\n",
    "    | Failure (msg, _, _) ->\n",
    "        failwith msg\n",
    "result |> _equal \"\"\"// a\n",
    "//\n",
    "// b\n",
    "\n",
    "// c\n",
    "\n",
    "let a = 1\n",
    "\n",
    "// e\n",
    "\n",
    "let a = 3\n",
    "\"\"\""
   ]
  },
  {
   "cell_type": "code",
   "execution_count": null,
   "metadata": {
    "dotnet_repl_cellExecutionStartTime": "2023-07-18T03:00:54.3183975-03:00",
    "dotnet_repl_cellExecutionEndTime": "2023-07-18T03:00:54.4285635-03:00",
    "dotnet_repl_cellExecutionTime": "110.169ms",
    "dotnet_interactive": {
     "language": "fsharp"
    },
    "polyglot_notebook": {
     "kernelName": "fsharp"
    }
   },
   "outputs": [],
   "source": [
    "let parse kernel input =\n",
    "    match run blocks input with\n",
    "    | Success (blocks, _, _) ->\n",
    "        let indentBlock (block : Block) =\n",
    "            { block with\n",
    "                content =\n",
    "                    block.content.Split [| '\\n' |]\n",
    "                    |> Array.map (fun line ->\n",
    "                        if line.TrimEnd () = \"\"\n",
    "                        then \"\"\n",
    "                        else $\"    {line}\"\n",
    "                    )\n",
    "                    |> String.concat \"\\n\"\n",
    "            }\n",
    "\n",
    "        let blocks = blocks |> List.filter (fun block -> block.magic = kernel || block.magic = \"markdown\")\n",
    "        \n",
    "        match blocks with\n",
    "        | { magic = \"markdown\"; content = content } :: _\n",
    "            when kernel = \"fsharp\"\n",
    "            && content.StartsWith \"# \"\n",
    "            && content.EndsWith \")\"\n",
    "            ->\n",
    "            let moduleName, namespaceName =\n",
    "                System.Text.RegularExpressions.Regex.Match (content, @\"# (.*) \\((.*)\\)$\")\n",
    "                |> fun m -> m.Groups.[1].Value, m.Groups.[2].Value\n",
    "\n",
    "            let moduleBlock =\n",
    "                { \n",
    "                    magic = \"fsharp\"\n",
    "                    content =\n",
    "                        $\"\"\"#if !INTERACTIVE\n",
    "namespace {namespaceName}\n",
    "#endif\n",
    "\n",
    "module {moduleName} =\"\"\"\n",
    "                }\n",
    "            blocks\n",
    "            |> List.indexed\n",
    "            |> List.fold\n",
    "                (fun blocks (index, block) ->\n",
    "                    match index with\n",
    "                    | 0 -> block :: blocks\n",
    "                    | 1 -> indentBlock block :: moduleBlock :: blocks\n",
    "                    | _ -> indentBlock block :: blocks\n",
    "                )\n",
    "                []\n",
    "            |> List.rev\n",
    "        | _ -> blocks\n",
    "        |> Result.Ok\n",
    "    | Failure (errorMsg, _, _) -> Result.Error errorMsg"
   ]
  },
  {
   "cell_type": "code",
   "execution_count": null,
   "metadata": {
    "dotnet_repl_cellExecutionStartTime": "2023-07-18T03:00:54.4287531-03:00",
    "dotnet_repl_cellExecutionEndTime": "2023-07-18T03:00:54.4481803-03:00",
    "dotnet_repl_cellExecutionTime": "19.4311ms",
    "dotnet_interactive": {
     "language": "fsharp"
    },
    "polyglot_notebook": {
     "kernelName": "fsharp"
    }
   },
   "outputs": [],
   "source": [
    "let parseDibCode kernel file =\n",
    "    let input = File.ReadAllText file\n",
    "    match parse kernel input with\n",
    "    | Result.Ok blocks -> blocks |> formatBlocks kernel\n",
    "    | Result.Error msg -> failwith msg"
   ]
  },
  {
   "cell_type": "code",
   "execution_count": null,
   "metadata": {
    "dotnet_repl_cellExecutionStartTime": "2023-07-18T03:00:54.4482211-03:00",
    "dotnet_repl_cellExecutionEndTime": "2023-07-18T03:00:54.4694802-03:00",
    "dotnet_repl_cellExecutionTime": "21.2613ms",
    "dotnet_interactive": {
     "language": "fsharp"
    },
    "polyglot_notebook": {
     "kernelName": "fsharp"
    }
   },
   "outputs": [],
   "source": [
    "let writeDibCode kernel file =\n",
    "    printfn $\"Parsing {file}\"\n",
    "    let output = parseDibCode kernel file\n",
    "    let outputFileName =\n",
    "        match kernel with\n",
    "        | \"fsharp\" -> file.Replace (\".dib\", \".fs\")\n",
    "        | _ -> failwith \"Unknown kernel\"\n",
    "    File.WriteAllText (outputFileName, output)"
   ]
  },
  {
   "cell_type": "code",
   "execution_count": null,
   "metadata": {
    "dotnet_repl_cellExecutionStartTime": "2023-07-18T03:00:54.4695109-03:00",
    "dotnet_repl_cellExecutionEndTime": "2023-07-18T03:00:54.6665949-03:00",
    "dotnet_repl_cellExecutionTime": "197.0872ms",
    "dotnet_interactive": {
     "language": "fsharp"
    },
    "polyglot_notebook": {
     "kernelName": "fsharp"
    }
   },
   "outputs": [
    {
     "data": {
      "text/html": [
       "<table><thead><tr><th><i>index</i></th><th>value</th></tr></thead><tbody><tr><td>0</td><td><details class=\"dni-treeview\"><summary><span class=\"dni-code-hint\"><code>{ magic = \"markdown\"\\n  content = \"# TestModule (TestNamespace)\" }</code></span></summary><div><table><thead><tr></tr></thead><tbody><tr><td>magic</td><td>markdown</td></tr><tr><td>content</td><td># TestModule (TestNamespace)</td></tr></tbody></table></div></details></td></tr><tr><td>1</td><td><details class=\"dni-treeview\"><summary><span class=\"dni-code-hint\"><code>{ magic = \"fsharp\"\\n  content =\\n   \"#if !INTERACTIVE\\nnamespace TestNamespace\\n#endif\\n\\nmodule TestModule =\" }</code></span></summary><div><table><thead><tr></tr></thead><tbody><tr><td>magic</td><td>fsharp</td></tr><tr><td>content</td><td>#if !INTERACTIVE\n",
       "namespace TestNamespace\n",
       "#endif\n",
       "\n",
       "module TestModule =</td></tr></tbody></table></div></details></td></tr><tr><td>2</td><td><details class=\"dni-treeview\"><summary><span class=\"dni-code-hint\"><code>{ magic = \"fsharp\"\\n  content = \"\" }</code></span></summary><div><table><thead><tr></tr></thead><tbody><tr><td>magic</td><td>fsharp</td></tr><tr><td>content</td><td></td></tr></tbody></table></div></details></td></tr><tr><td>3</td><td><details class=\"dni-treeview\"><summary><span class=\"dni-code-hint\"><code>{ magic = \"fsharp\"\\n  content = \"    #r \"nuget:Expecto\"\" }</code></span></summary><div><table><thead><tr></tr></thead><tbody><tr><td>magic</td><td>fsharp</td></tr><tr><td>content</td><td>    #r &quot;nuget:Expecto&quot;</td></tr></tbody></table></div></details></td></tr><tr><td>4</td><td><details class=\"dni-treeview\"><summary><span class=\"dni-code-hint\"><code>{ magic = \"markdown\"\\n  content = \"    ## ParserLibrary\" }</code></span></summary><div><table><thead><tr></tr></thead><tbody><tr><td>magic</td><td>markdown</td></tr><tr><td>content</td><td>    ## ParserLibrary</td></tr></tbody></table></div></details></td></tr><tr><td>5</td><td><details class=\"dni-treeview\"><summary><span class=\"dni-code-hint\"><code>{ magic = \"fsharp\"\\n  content = \"    open System\" }</code></span></summary><div><table><thead><tr></tr></thead><tbody><tr><td>magic</td><td>fsharp</td></tr><tr><td>content</td><td>    open System</td></tr></tbody></table></div></details></td></tr><tr><td>6</td><td><details class=\"dni-treeview\"><summary><span class=\"dni-code-hint\"><code>{ magic = \"markdown\"\\n  content = \"    ## x (test)\" }</code></span></summary><div><table><thead><tr></tr></thead><tbody><tr><td>magic</td><td>markdown</td></tr><tr><td>content</td><td>    ## x (test)</td></tr></tbody></table></div></details></td></tr><tr><td>7</td><td><details class=\"dni-treeview\"><summary><span class=\"dni-code-hint\"><code>{ magic = \"fsharp\"\\n  content = \"    //// ignore\\n\\n    let x = 1\" }</code></span></summary><div><table><thead><tr></tr></thead><tbody><tr><td>magic</td><td>fsharp</td></tr><tr><td>content</td><td>    //// ignore\n",
       "\n",
       "    let x = 1</td></tr></tbody></table></div></details></td></tr><tr><td>8</td><td><details class=\"dni-treeview\"><summary><span class=\"dni-code-hint\"><code>{ magic = \"markdown\"\\n  content = \"    ### TextInput\" }</code></span></summary><div><table><thead><tr></tr></thead><tbody><tr><td>magic</td><td>markdown</td></tr><tr><td>content</td><td>    ### TextInput</td></tr></tbody></table></div></details></td></tr><tr><td>9</td><td><details class=\"dni-treeview\"><summary><span class=\"dni-code-hint\"><code>{ magic = \"fsharp\"\\n  content =\\n   \"    type Position =\\n        {\\n            line : int\\n            column : int\\n        }\" }</code></span></summary><div><table><thead><tr></tr></thead><tbody><tr><td>magic</td><td>fsharp</td></tr><tr><td>content</td><td>    type Position =\n",
       "        {\n",
       "            line : int\n",
       "            column : int\n",
       "        }</td></tr></tbody></table></div></details></td></tr></tbody></table><style>\r\n",
       ".dni-code-hint {\r\n",
       "    font-style: italic;\r\n",
       "    overflow: hidden;\r\n",
       "    white-space: nowrap;\r\n",
       "}\r\n",
       ".dni-treeview {\r\n",
       "    white-space: nowrap;\r\n",
       "}\r\n",
       ".dni-treeview td {\r\n",
       "    vertical-align: top;\r\n",
       "    text-align: start;\r\n",
       "}\r\n",
       "details.dni-treeview {\r\n",
       "    padding-left: 1em;\r\n",
       "}\r\n",
       "table td {\r\n",
       "    text-align: start;\r\n",
       "}\r\n",
       "table tr { \r\n",
       "    vertical-align: top; \r\n",
       "    margin: 0em 0px;\r\n",
       "}\r\n",
       "table tr td pre \r\n",
       "{ \r\n",
       "    vertical-align: top !important; \r\n",
       "    margin: 0em 0px !important;\r\n",
       "} \r\n",
       "table th {\r\n",
       "    text-align: start;\r\n",
       "}\r\n",
       "</style>"
      ]
     },
     "metadata": {},
     "output_type": "display_data"
    }
   ],
   "source": [
    "//// test\n",
    "\n",
    "let example1 =\n",
    "    \"\"\"#!meta\n",
    "\n",
    "{\"kernelInfo\":{\"defaultKernelName\":\"fsharp\",\"items\":[{\"aliases\":[],\"name\":\"fsharp\"},{\"aliases\":[],\"name\":\"fsharp\"}]}}\n",
    "\n",
    "\\#!markdown\n",
    "\n",
    "# TestModule (TestNamespace)\n",
    "\n",
    "\\#!fsharp\n",
    "\n",
    "\\#!import file.dib\n",
    "\n",
    "\\#!fsharp\n",
    "\n",
    "\\#r \"nuget:Expecto\"\n",
    "\n",
    "\\#!markdown\n",
    "\n",
    "## ParserLibrary\n",
    "\n",
    "\\#!fsharp\n",
    "\n",
    "open System\n",
    "\n",
    "\\#!markdown\n",
    "\n",
    "## x (test)\n",
    "\n",
    "\\#!fsharp\n",
    "\n",
    "//// ignore\n",
    "\n",
    "let x = 1\n",
    "\n",
    "\\#!markdown\n",
    "\n",
    "### TextInput\n",
    "\n",
    "\\#!fsharp\n",
    "\n",
    "type Position =\n",
    "    {\n",
    "        line : int\n",
    "        column : int\n",
    "    }\"\"\"\n",
    "    |> escapeCell\n",
    "\n",
    "let blocks1 =\n",
    "    parse \"fsharp\" example1\n",
    "    |> Result.toOption\n",
    "    |> Option.get\n",
    "blocks1"
   ]
  },
  {
   "cell_type": "code",
   "execution_count": null,
   "metadata": {
    "dotnet_repl_cellExecutionStartTime": "2023-07-18T03:00:54.6666358-03:00",
    "dotnet_repl_cellExecutionEndTime": "2023-07-18T03:00:54.7075417-03:00",
    "dotnet_repl_cellExecutionTime": "40.9103ms",
    "dotnet_interactive": {
     "language": "fsharp"
    },
    "polyglot_notebook": {
     "kernelName": "fsharp"
    }
   },
   "outputs": [
    {
     "name": "stdout",
     "output_type": "stream",
     "text": [
      "// # TestModule (TestNamespace)\n",
      "\n",
      "#if !INTERACTIVE\n",
      "namespace TestNamespace\n",
      "#endif\n",
      "\n",
      "module TestModule =\n",
      "\n",
      "    // ## ParserLibrary\n",
      "\n",
      "    open System\n",
      "\n",
      "    // ### TextInput\n",
      "\n",
      "    type Position =\n",
      "        {\n",
      "            line : int\n",
      "            column : int\n",
      "        }\n",
      "\r\n"
     ]
    }
   ],
   "source": [
    "//// test\n",
    "\n",
    "blocks1\n",
    "|> (formatBlocks \"fsharp\")\n",
    "|> _equal \"\"\"// # TestModule (TestNamespace)\n",
    "\n",
    "#if !INTERACTIVE\n",
    "namespace TestNamespace\n",
    "#endif\n",
    "\n",
    "module TestModule =\n",
    "\n",
    "    // ## ParserLibrary\n",
    "\n",
    "    open System\n",
    "\n",
    "    // ### TextInput\n",
    "\n",
    "    type Position =\n",
    "        {\n",
    "            line : int\n",
    "            column : int\n",
    "        }\n",
    "\"\"\""
   ]
  },
  {
   "cell_type": "code",
   "execution_count": null,
   "metadata": {
    "dotnet_repl_cellExecutionStartTime": "2023-07-18T03:00:54.7076011-03:00",
    "dotnet_repl_cellExecutionEndTime": "2023-07-18T03:00:54.739489-03:00",
    "dotnet_repl_cellExecutionTime": "31.8916ms",
    "dotnet_interactive": {
     "language": "fsharp"
    },
    "polyglot_notebook": {
     "kernelName": "fsharp"
    }
   },
   "outputs": [
    {
     "name": "stdout",
     "output_type": "stream",
     "text": [
      "// # TestModule (TestNamespace)\n",
      "\n",
      "    // ## ParserLibrary\n",
      "\n",
      "    // ### TextInput\n",
      "\r\n"
     ]
    }
   ],
   "source": [
    "//// test\n",
    "\n",
    "blocks1\n",
    "|> (formatBlocks \"markdown\")\n",
    "|> _equal \"\"\"// # TestModule (TestNamespace)\n",
    "\n",
    "    // ## ParserLibrary\n",
    "\n",
    "    // ### TextInput\n",
    "\"\"\""
   ]
  },
  {
   "cell_type": "code",
   "execution_count": null,
   "metadata": {
    "dotnet_repl_cellExecutionStartTime": "2023-07-18T03:00:54.7395367-03:00",
    "dotnet_repl_cellExecutionEndTime": "2023-07-18T03:00:54.8844149-03:00",
    "dotnet_repl_cellExecutionTime": "144.8823ms",
    "dotnet_interactive": {
     "language": "fsharp"
    },
    "polyglot_notebook": {
     "kernelName": "fsharp"
    }
   },
   "outputs": [
    {
     "name": "stdout",
     "output_type": "stream",
     "text": [
      "Parsing Parser.dib\r\n",
      "Parsing JsonParser.dib\r\n",
      "Parsing DibParser.dib\r\n"
     ]
    }
   ],
   "source": [
    "//// test\n",
    "\n",
    "match Environment.GetEnvironmentVariable \"OUTPUT\" with\n",
    "| \"\" | null -> ()\n",
    "| path when System.IO.File.Exists path -> path |> writeDibCode \"fsharp\"\n",
    "| path when path.Contains \";\" -> path.Split [| ';' |] |> Array.iter (writeDibCode \"fsharp\")\n",
    "| _ -> System.IO.Path.Combine (System.IO.Directory.GetCurrentDirectory (), \"DibParser.dib\") |> writeDibCode \"fsharp\""
   ]
  }
 ],
 "metadata": {
  "kernelspec": {
   "display_name": ".NET (C#)",
   "language": "C#",
   "name": ".net-csharp"
  },
  "language_info": {
   "file_extension": ".cs",
   "mimetype": "text/x-csharp",
   "name": "C#",
   "pygments_lexer": "csharp",
   "version": "10.0"
  },
  "polyglot_notebook": {
   "defaultKernelName": "csharp",
   "items": [
    {
     "name": "csharp"
    }
   ]
  },
  "dotnet_interactive": {
   "defaultKernelName": "csharp",
   "items": [
    {
     "name": "csharp"
    }
   ]
  }
 },
 "nbformat": 4,
 "nbformat_minor": 5
}