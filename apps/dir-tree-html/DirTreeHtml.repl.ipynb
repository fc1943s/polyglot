{
 "cells": [
  {
   "cell_type": "markdown",
   "metadata": {},
   "source": [
    "# DirTreeHtml (Polyglot)"
   ]
  },
  {
   "cell_type": "code",
   "execution_count": null,
   "metadata": {
    "dotnet_interactive": {
     "language": "fsharp"
    },
    "polyglot_notebook": {
     "kernelName": "fsharp"
    }
   },
   "outputs": [],
   "source": [
    "#!import ../nbs/Testing.dib"
   ]
  },
  {
   "cell_type": "code",
   "execution_count": null,
   "metadata": {
    "dotnet_interactive": {
     "language": "fsharp"
    },
    "polyglot_notebook": {
     "kernelName": "fsharp"
    }
   },
   "outputs": [],
   "source": [
    "#r @\"../../../../../../../.nuget/packages/fsharp.control.asyncseq/3.2.1/lib/netstandard2.1/FSharp.Control.AsyncSeq.dll\"\n",
    "#r @\"../../../../../../../.nuget/packages/system.reactive/6.0.1-preview.1/lib/net6.0/System.Reactive.dll\"\n",
    "#r @\"../../../../../../../.nuget/packages/system.reactive.linq/6.0.1-preview.1/lib/netstandard2.0/System.Reactive.Linq.dll\"\n",
    "#r @\"../../../../../../../.nuget/packages/argu/6.1.1/lib/netstandard2.0/Argu.dll\"\n",
    "#r @\"../../../../../../../.nuget/packages/system.commandline/2.0.0-beta4.22272.1/lib/net6.0/System.CommandLine.dll\""
   ]
  },
  {
   "cell_type": "code",
   "execution_count": null,
   "metadata": {
    "dotnet_interactive": {
     "language": "fsharp"
    },
    "polyglot_notebook": {
     "kernelName": "fsharp"
    }
   },
   "outputs": [],
   "source": [
    "#!import ../nbs/Common.fs\n",
    "#!import ../nbs/CommonFSharp.fs\n",
    "#!import ../nbs/Async.fs\n",
    "#!import ../nbs/AsyncSeq.fs\n",
    "#!import ../nbs/Networking.fs\n",
    "#!import ../nbs/Runtime.fs\n",
    "#!import ../nbs/FileSystem.fs"
   ]
  },
  {
   "cell_type": "code",
   "execution_count": null,
   "metadata": {
    "dotnet_interactive": {
     "language": "fsharp"
    },
    "polyglot_notebook": {
     "kernelName": "fsharp"
    }
   },
   "outputs": [],
   "source": [
    "type FileSystemNode =\n",
    "    | File of string * string\n",
    "    | Folder of string * string * FileSystemNode list\n",
    "    | Root of FileSystemNode list\n",
    "\n",
    "let rec scanDirectory isRoot (basePath : string) (path : string) =\n",
    "    let relativePath = path.Replace(basePath, \"\").Replace(\"\\\\\", \"/\").TrimStart '/'\n",
    "    let folderName = System.IO.Path.GetFileName path\n",
    "    let subDirectories = System.IO.Directory.GetDirectories path |> Array.toList\n",
    "    let files = System.IO.Directory.GetFiles path |> Array.toList\n",
    "\n",
    "    let subDirectoryNodes = subDirectories |> List.map (scanDirectory false basePath)\n",
    "    let fileNodes = files |> List.map (fun f -> File (System.IO.Path.GetFileName f, relativePath))\n",
    "\n",
    "    let children = subDirectoryNodes @ fileNodes\n",
    "    if isRoot\n",
    "    then Root children\n",
    "    else Folder (folderName, relativePath, children)\n",
    "\n",
    "let rec generateHtml fsNode =\n",
    "    match fsNode with\n",
    "    | File (fileName, relativePath) ->\n",
    "        $\"\"\"<li><span>&#128196; <a href=\"{relativePath}{if relativePath.Length = 0 then \"\" else \"/\"}{fileName}\">{fileName}</a></span></li>\"\"\"\n",
    "    | Folder (folderName, relativePath, children) ->\n",
    "        let childrenHtml = children |> List.map generateHtml |> String.concat \"\\n\"\n",
    "        $\"\"\"<li><span>\uD83D\uDCC1 <a href=\"{relativePath}\">{folderName}</a></span><ul>{childrenHtml}</ul></li>\"\"\"\n",
    "    | Root children ->\n",
    "        children |> List.map generateHtml |> String.concat \"\\n\"\n",
    "\n",
    "let generateHtmlForFileSystem root =\n",
    "    let rootHtml = root |> generateHtml\n",
    "    $\"\"\"<!DOCTYPE html>\n",
    "<html lang=\"en\">\n",
    "<head>\n",
    "  <meta charset=\"UTF-8\">\n",
    "</head>\n",
    "<body>\n",
    "  <ul>{rootHtml}</ul>\n",
    "</body>\n",
    "</html>\n",
    "\"\"\""
   ]
  },
  {
   "cell_type": "code",
   "execution_count": null,
   "metadata": {
    "dotnet_interactive": {
     "language": "fsharp"
    },
    "polyglot_notebook": {
     "kernelName": "fsharp"
    }
   },
   "outputs": [
    {
     "data": {
      "text/html": [
       "<!DOCTYPE html>\n",
       "<html lang=\"en\">\n",
       "<head>\n",
       "  <meta charset=\"UTF-8\">\n",
       "</head>\n",
       "<body>\n",
       "  <ul><li><span>\uD83D\uDCC1 <a href=\"workflows\">workflows</a></span><ul><li><span>&#128196; <a href=\"workflows/gh-pages.yaml\">gh-pages.yaml</a></span></li></ul></li></ul>\n",
       "</body>\n",
       "</html>\n"
      ]
     },
     "metadata": {},
     "output_type": "display_data"
    },
    {
     "name": "stdout",
     "output_type": "stream",
     "text": [
      "<!DOCTYPE html>\n",
      "<html lang=\"en\">\n",
      "<head>\n",
      "  <meta charset=\"UTF-8\">\n",
      "</head>\n",
      "<body>\n",
      "  <ul><li><span>\uD83D\uDCC1 <a href=\"workflows\">workflows</a></span><ul><li><span>&#128196; <a href=\"workflows/gh-pages.yaml\">gh-pages.yaml</a></span></li></ul></li></ul>\n",
      "</body>\n",
      "</html>\n",
      "\r\n"
     ]
    }
   ],
   "source": [
    "//// test\n",
    "\n",
    "let path = \"../../.github\"\n",
    "let html =\n",
    "    scanDirectory true path path\n",
    "    |> generateHtmlForFileSystem\n",
    "\n",
    "html\n",
    "|> _equal \"\"\"<!DOCTYPE html>\n",
    "<html lang=\"en\">\n",
    "<head>\n",
    "  <meta charset=\"UTF-8\">\n",
    "</head>\n",
    "<body>\n",
    "  <ul><li><span>\uD83D\uDCC1 <a href=\"workflows\">workflows</a></span><ul><li><span>&#128196; <a href=\"workflows/gh-pages.yaml\">gh-pages.yaml</a></span></li></ul></li></ul>\n",
    "</body>\n",
    "</html>\n",
    "\"\"\"\n",
    "\n",
    "html |> Microsoft.DotNet.Interactive.Formatting.Html.ToHtmlContent"
   ]
  },
  {
   "cell_type": "markdown",
   "metadata": {},
   "source": [
    "## Arguments"
   ]
  },
  {
   "cell_type": "code",
   "execution_count": null,
   "metadata": {
    "dotnet_interactive": {
     "language": "fsharp"
    },
    "polyglot_notebook": {
     "kernelName": "fsharp"
    }
   },
   "outputs": [],
   "source": [
    "[<RequireQualifiedAccess>]\n",
    "type Arguments =\n",
    "    | [<Argu.ArguAttributes.ExactlyOnce>] Dir of string\n",
    "    | [<Argu.ArguAttributes.ExactlyOnce>] Html of string\n",
    "\n",
    "    interface Argu.IArgParserTemplate with\n",
    "        member s.Usage =\n",
    "            match s with\n",
    "            | Dir _ -> nameof Arguments.Dir\n",
    "            | Html _ -> nameof Arguments.Html"
   ]
  },
  {
   "cell_type": "markdown",
   "metadata": {},
   "source": [
    "## main"
   ]
  },
  {
   "cell_type": "code",
   "execution_count": null,
   "metadata": {
    "dotnet_interactive": {
     "language": "fsharp"
    },
    "polyglot_notebook": {
     "kernelName": "fsharp"
    }
   },
   "outputs": [],
   "source": [
    "let main args =\n",
    "    let argsMap = args |> Runtime.parseArgsMap<Arguments>\n",
    "\n",
    "    let dir =\n",
    "        match argsMap.[nameof Arguments.Dir] with\n",
    "        | [ Arguments.Dir dir ] -> Some dir\n",
    "        | _ -> None\n",
    "        |> Option.get\n",
    "\n",
    "    let htmlPath =\n",
    "        match argsMap.[nameof Arguments.Html] with\n",
    "        | [ Arguments.Html html ] -> Some html\n",
    "        | _ -> None\n",
    "        |> Option.get\n",
    "\n",
    "    let fileSystem = scanDirectory true dir dir\n",
    "    let html = generateHtmlForFileSystem fileSystem\n",
    "\n",
    "    html |> FileSystem.writeAllTextAsync htmlPath\n",
    "    |> Async.runWithTimeout 30000\n",
    "    |> function\n",
    "        | Some () -> 0\n",
    "        | None -> 1"
   ]
  },
  {
   "cell_type": "code",
   "execution_count": null,
   "metadata": {
    "dotnet_interactive": {
     "language": "fsharp"
    },
    "polyglot_notebook": {
     "kernelName": "fsharp"
    }
   },
   "outputs": [
    {
     "data": {
      "text/html": [
       "<div class=\"dni-plaintext\"><pre>0</pre></div><style>\r\n",
       ".dni-code-hint {\r\n",
       "    font-style: italic;\r\n",
       "    overflow: hidden;\r\n",
       "    white-space: nowrap;\r\n",
       "}\r\n",
       ".dni-treeview {\r\n",
       "    white-space: nowrap;\r\n",
       "}\r\n",
       ".dni-treeview td {\r\n",
       "    vertical-align: top;\r\n",
       "    text-align: start;\r\n",
       "}\r\n",
       "details.dni-treeview {\r\n",
       "    padding-left: 1em;\r\n",
       "}\r\n",
       "table td {\r\n",
       "    text-align: start;\r\n",
       "}\r\n",
       "table tr { \r\n",
       "    vertical-align: top; \r\n",
       "    margin: 0em 0px;\r\n",
       "}\r\n",
       "table tr td pre \r\n",
       "{ \r\n",
       "    vertical-align: top !important; \r\n",
       "    margin: 0em 0px !important;\r\n",
       "} \r\n",
       "table th {\r\n",
       "    text-align: start;\r\n",
       "}\r\n",
       "</style>"
      ]
     },
     "metadata": {},
     "output_type": "display_data"
    }
   ],
   "source": [
    "//// test\n",
    "\n",
    "let args =\n",
    "    System.Environment.GetEnvironmentVariable \"ARGS\"\n",
    "    |> Runtime.splitArgs\n",
    "    |> Seq.toArray\n",
    "\n",
    "match args with\n",
    "| [||] -> 0\n",
    "| args -> if main args = 0 then 0 else failwith \"main failed\""
   ]
  }
 ],
 "metadata": {
  "kernelspec": {
   "display_name": ".NET (C#)",
   "language": "C#",
   "name": ".net-csharp"
  },
  "language_info": {
   "file_extension": ".cs",
   "mimetype": "text/x-csharp",
   "name": "C#",
   "pygments_lexer": "csharp",
   "version": "10.0"
  },
  "polyglot_notebook": {
   "defaultKernelName": "csharp",
   "items": [
    {
     "name": "csharp"
    }
   ]
  },
  "dotnet_interactive": {
   "defaultKernelName": "csharp",
   "items": [
    {
     "name": "csharp"
    }
   ]
  }
 },
 "nbformat": 4,
 "nbformat_minor": 5
}