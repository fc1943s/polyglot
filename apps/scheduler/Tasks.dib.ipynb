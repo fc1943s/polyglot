{
 "cells": [
  {
   "cell_type": "markdown",
   "metadata": {},
   "source": [
    "## Tasks (Polyglot)"
   ]
  },
  {
   "cell_type": "code",
   "execution_count": null,
   "metadata": {
    "dotnet_interactive": {
     "language": "spiral"
    },
    "polyglot_notebook": {
     "kernelName": "spiral"
    }
   },
   "outputs": [
    {
     "name": "stdout",
     "output_type": "stream",
     "text": [
      "()\n",
      "\r\n"
     ]
    }
   ],
   "source": [
    "//// test\n",
    "\n",
    "open testing"
   ]
  },
  {
   "cell_type": "markdown",
   "metadata": {},
   "source": [
    "## types"
   ]
  },
  {
   "cell_type": "code",
   "execution_count": null,
   "metadata": {
    "dotnet_interactive": {
     "language": "spiral"
    },
    "polyglot_notebook": {
     "kernelName": "spiral"
    }
   },
   "outputs": [
    {
     "name": "stdout",
     "output_type": "stream",
     "text": [
      "()\n",
      "\r\n"
     ]
    }
   ],
   "source": [
    "inl types () =\n",
    "    rust.types ()\n",
    "    sm'.types ()"
   ]
  },
  {
   "cell_type": "markdown",
   "metadata": {},
   "source": [
    "## task_name"
   ]
  },
  {
   "cell_type": "code",
   "execution_count": null,
   "metadata": {
    "dotnet_interactive": {
     "language": "spiral"
    },
    "polyglot_notebook": {
     "kernelName": "spiral"
    }
   },
   "outputs": [
    {
     "name": "stdout",
     "output_type": "stream",
     "text": [
      "()\n",
      "\r\n"
     ]
    }
   ],
   "source": [
    "nominal task_name = string"
   ]
  },
  {
   "cell_type": "markdown",
   "metadata": {},
   "source": [
    "## manual_scheduling"
   ]
  },
  {
   "cell_type": "code",
   "execution_count": null,
   "metadata": {
    "dotnet_interactive": {
     "language": "spiral"
    },
    "polyglot_notebook": {
     "kernelName": "spiral"
    }
   },
   "outputs": [
    {
     "name": "stdout",
     "output_type": "stream",
     "text": [
      "()\n",
      "\r\n"
     ]
    }
   ],
   "source": [
    "union manual_scheduling =\n",
    "    | WithSuggestion\n",
    "    | WithoutSuggestion"
   ]
  },
  {
   "cell_type": "markdown",
   "metadata": {},
   "source": [
    "## recurrency_offset"
   ]
  },
  {
   "cell_type": "code",
   "execution_count": null,
   "metadata": {
    "dotnet_interactive": {
     "language": "spiral"
    },
    "polyglot_notebook": {
     "kernelName": "spiral"
    }
   },
   "outputs": [
    {
     "name": "stdout",
     "output_type": "stream",
     "text": [
      "()\n",
      "\r\n"
     ]
    }
   ],
   "source": [
    "union recurrency_offset =\n",
    "    | Days : i32\n",
    "    | Weeks : i32\n",
    "    | Months : i32"
   ]
  },
  {
   "cell_type": "markdown",
   "metadata": {},
   "source": [
    "## day_of_week"
   ]
  },
  {
   "cell_type": "code",
   "execution_count": null,
   "metadata": {
    "dotnet_interactive": {
     "language": "spiral"
    },
    "polyglot_notebook": {
     "kernelName": "spiral"
    }
   },
   "outputs": [
    {
     "name": "stdout",
     "output_type": "stream",
     "text": [
      "()\n",
      "\r\n"
     ]
    }
   ],
   "source": [
    "union day_of_week =\n",
    "    | Sunday\n",
    "    | Monday\n",
    "    | Tuesday\n",
    "    | Wednesday\n",
    "    | Thursday\n",
    "    | Friday\n",
    "    | Saturday"
   ]
  },
  {
   "cell_type": "markdown",
   "metadata": {},
   "source": [
    "## month"
   ]
  },
  {
   "cell_type": "code",
   "execution_count": null,
   "metadata": {
    "dotnet_interactive": {
     "language": "spiral"
    },
    "polyglot_notebook": {
     "kernelName": "spiral"
    }
   },
   "outputs": [
    {
     "name": "stdout",
     "output_type": "stream",
     "text": [
      "()\n",
      "\r\n"
     ]
    }
   ],
   "source": [
    "union month =\n",
    "    | January\n",
    "    | February\n",
    "    | March\n",
    "    | April\n",
    "    | May\n",
    "    | June\n",
    "    | July\n",
    "    | August\n",
    "    | September\n",
    "    | October\n",
    "    | November\n",
    "    | December"
   ]
  },
  {
   "cell_type": "markdown",
   "metadata": {},
   "source": [
    "## day"
   ]
  },
  {
   "cell_type": "code",
   "execution_count": null,
   "metadata": {
    "dotnet_interactive": {
     "language": "spiral"
    },
    "polyglot_notebook": {
     "kernelName": "spiral"
    }
   },
   "outputs": [
    {
     "name": "stdout",
     "output_type": "stream",
     "text": [
      "()\n",
      "\r\n"
     ]
    }
   ],
   "source": [
    "nominal day = i32"
   ]
  },
  {
   "cell_type": "markdown",
   "metadata": {},
   "source": [
    "## year"
   ]
  },
  {
   "cell_type": "code",
   "execution_count": null,
   "metadata": {
    "dotnet_interactive": {
     "language": "spiral"
    },
    "polyglot_notebook": {
     "kernelName": "spiral"
    }
   },
   "outputs": [
    {
     "name": "stdout",
     "output_type": "stream",
     "text": [
      "()\n",
      "\r\n"
     ]
    }
   ],
   "source": [
    "nominal year = i32"
   ]
  },
  {
   "cell_type": "markdown",
   "metadata": {},
   "source": [
    "## fixed_recurrency"
   ]
  },
  {
   "cell_type": "code",
   "execution_count": null,
   "metadata": {
    "dotnet_interactive": {
     "language": "spiral"
    },
    "polyglot_notebook": {
     "kernelName": "spiral"
    }
   },
   "outputs": [
    {
     "name": "stdout",
     "output_type": "stream",
     "text": [
      "()\n",
      "\r\n"
     ]
    }
   ],
   "source": [
    "union fixed_recurrency =\n",
    "    | Weekly : day_of_week\n",
    "    | Monthly : day\n",
    "    | Yearly : day * month"
   ]
  },
  {
   "cell_type": "markdown",
   "metadata": {},
   "source": [
    "## recurrency"
   ]
  },
  {
   "cell_type": "code",
   "execution_count": null,
   "metadata": {
    "dotnet_interactive": {
     "language": "spiral"
    },
    "polyglot_notebook": {
     "kernelName": "spiral"
    }
   },
   "outputs": [
    {
     "name": "stdout",
     "output_type": "stream",
     "text": [
      "()\n",
      "\r\n"
     ]
    }
   ],
   "source": [
    "union recurrency =\n",
    "    | Offset : recurrency_offset\n",
    "    | Fixed : list fixed_recurrency"
   ]
  },
  {
   "cell_type": "markdown",
   "metadata": {},
   "source": [
    "## scheduling"
   ]
  },
  {
   "cell_type": "code",
   "execution_count": null,
   "metadata": {
    "dotnet_interactive": {
     "language": "spiral"
    },
    "polyglot_notebook": {
     "kernelName": "spiral"
    }
   },
   "outputs": [
    {
     "name": "stdout",
     "output_type": "stream",
     "text": [
      "()\n",
      "\r\n"
     ]
    }
   ],
   "source": [
    "union scheduling =\n",
    "    | Manual : manual_scheduling\n",
    "    | Recurrent : recurrency"
   ]
  },
  {
   "cell_type": "markdown",
   "metadata": {},
   "source": [
    "## task"
   ]
  },
  {
   "cell_type": "code",
   "execution_count": null,
   "metadata": {
    "dotnet_interactive": {
     "language": "spiral"
    },
    "polyglot_notebook": {
     "kernelName": "spiral"
    }
   },
   "outputs": [
    {
     "name": "stdout",
     "output_type": "stream",
     "text": [
      "()\n",
      "\r\n"
     ]
    }
   ],
   "source": [
    "type task =\n",
    "    {\n",
    "        name : task_name\n",
    "        scheduling : scheduling\n",
    "    }"
   ]
  },
  {
   "cell_type": "markdown",
   "metadata": {},
   "source": [
    "## date"
   ]
  },
  {
   "cell_type": "code",
   "execution_count": null,
   "metadata": {
    "dotnet_interactive": {
     "language": "spiral"
    },
    "polyglot_notebook": {
     "kernelName": "spiral"
    }
   },
   "outputs": [
    {
     "name": "stdout",
     "output_type": "stream",
     "text": [
      "()\n",
      "\r\n"
     ]
    }
   ],
   "source": [
    "type date =\n",
    "    {\n",
    "        year : year\n",
    "        month : month\n",
    "        day : day\n",
    "    }"
   ]
  },
  {
   "cell_type": "markdown",
   "metadata": {},
   "source": [
    "## status"
   ]
  },
  {
   "cell_type": "code",
   "execution_count": null,
   "metadata": {
    "dotnet_interactive": {
     "language": "spiral"
    },
    "polyglot_notebook": {
     "kernelName": "spiral"
    }
   },
   "outputs": [
    {
     "name": "stdout",
     "output_type": "stream",
     "text": [
      "()\n",
      "\r\n"
     ]
    }
   ],
   "source": [
    "union status =\n",
    "    | Postponed : option ()"
   ]
  },
  {
   "cell_type": "markdown",
   "metadata": {},
   "source": [
    "## event"
   ]
  },
  {
   "cell_type": "code",
   "execution_count": null,
   "metadata": {
    "dotnet_interactive": {
     "language": "spiral"
    },
    "polyglot_notebook": {
     "kernelName": "spiral"
    }
   },
   "outputs": [
    {
     "name": "stdout",
     "output_type": "stream",
     "text": [
      "()\n",
      "\r\n"
     ]
    }
   ],
   "source": [
    "type event =\n",
    "    {\n",
    "        date : date\n",
    "        status : status\n",
    "    }"
   ]
  },
  {
   "cell_type": "markdown",
   "metadata": {},
   "source": [
    "## task_template"
   ]
  },
  {
   "cell_type": "code",
   "execution_count": null,
   "metadata": {
    "dotnet_interactive": {
     "language": "spiral"
    },
    "polyglot_notebook": {
     "kernelName": "spiral"
    }
   },
   "outputs": [
    {
     "name": "stdout",
     "output_type": "stream",
     "text": [
      "()\n",
      "\r\n"
     ]
    }
   ],
   "source": [
    "type task_template =\n",
    "    {\n",
    "        task : task\n",
    "        events : list event\n",
    "    }"
   ]
  },
  {
   "cell_type": "markdown",
   "metadata": {},
   "source": [
    "## get_tasks (test)"
   ]
  },
  {
   "cell_type": "code",
   "execution_count": null,
   "metadata": {
    "dotnet_interactive": {
     "language": "spiral"
    },
    "polyglot_notebook": {
     "kernelName": "spiral"
    }
   },
   "outputs": [
    {
     "name": "stdout",
     "output_type": "stream",
     "text": [
      "()\n",
      "\r\n"
     ]
    }
   ],
   "source": [
    "//// test\n",
    "\n",
    "inl get_tasks () : list task_template =\n",
    "    [\n",
    "        {\n",
    "            task =\n",
    "                {\n",
    "                    name = task_name \"01\"\n",
    "                    scheduling = Manual WithSuggestion\n",
    "                }\n",
    "            events = []\n",
    "        }\n",
    "        {\n",
    "            task =\n",
    "                {\n",
    "                    name = task_name \"02\"\n",
    "                    scheduling = Manual WithSuggestion\n",
    "                }\n",
    "            events = []\n",
    "        }\n",
    "        {\n",
    "            task =\n",
    "                {\n",
    "                    name = task_name \"03\"\n",
    "                    scheduling = Manual WithSuggestion\n",
    "                }\n",
    "            events = []\n",
    "        }\n",
    "    ]"
   ]
  },
  {
   "cell_type": "code",
   "execution_count": null,
   "metadata": {
    "dotnet_interactive": {
     "language": "spiral"
    },
    "polyglot_notebook": {
     "kernelName": "spiral"
    }
   },
   "outputs": [
    {
     "data": {
      "text/plain": [
       "output:\n",
       "assert_string_contains / actual: \"01\" / expected: \"UH2_1(\n",
       "    UH0_0,\n",
       "    \"01\",\n",
       "    US4_0(\n",
       "        US3_0,\n",
       "    ),\n",
       "    UH2_1(\n",
       "        UH0_0,\n",
       "        \"02\",\n",
       "        US4_0(\n",
       "            US3_0,\n",
       "        ),\n",
       "        UH2_1(\n",
       "            UH0_0,\n",
       "            \"03\",\n",
       "            US4_0(\n",
       "                US3_0,\n",
       "            ),\n",
       "            UH2_0,\n",
       "        ),\n",
       "    ),\n",
       ")\"\n",
       "\n",
       "\n"
      ]
     },
     "metadata": {},
     "output_type": "display_data"
    },
    {
     "name": "stdout",
     "output_type": "stream",
     "text": [
      ".fsx:\n",
      "#if FABLE_COMPILER\n",
      "[<Fable.Core.Erase; Fable.Core.Emit(\"Func0<$0>\")>]\n",
      "#endif\n",
      "type Func0<'T> = class end\n",
      "#if FABLE_COMPILER\n",
      "[<Fable.Core.Erase; Fable.Core.Emit(\"Func1<$0, $1>\")>]\n",
      "#endif\n",
      "type Func0<'T, 'U> = class end\n",
      "#if FABLE_COMPILER\n",
      "[<Fable.Core.Erase; Fable.Core.Emit(\"Box<$0>\")>]\n",
      "#endif\n",
      "type Box<'T> = class end\n",
      "#if FABLE_COMPILER\n",
      "[<Fable.Core.Erase; Fable.Core.Emit(\"dyn $0\")>]\n",
      "#endif\n",
      "type Dyn<'T> = class end\n",
      "#if FABLE_COMPILER\n",
      "[<Fable.Core.Erase; Fable.Core.Emit(\"$0 + Send\")>]\n",
      "#endif\n",
      "type Send<'T> = class end\n",
      "#if FABLE_COMPILER\n",
      "[<Fable.Core.Erase; Fable.Core.Emit(\"Fn() -> $0\")>]\n",
      "#endif\n",
      "type Fn<'T> = class end\n",
      "#if FABLE_COMPILER\n",
      "[<Fable.Core.Erase; Fable.Core.Emit(\"Fn()\")>]\n",
      "#endif\n",
      "type FnUnit = class end\n",
      "#if FABLE_COMPILER\n",
      "[<Fable.Core.Erase; Fable.Core.Emit(\"FnOnce() -> $0\")>]\n",
      "#endif\n",
      "type FnOnce<'T> = class end\n",
      "#if FABLE_COMPILER\n",
      "[<Fable.Core.Erase; Fable.Core.Emit(\"Fn($0)\")>]\n",
      "#endif\n",
      "type ActionFn<'T> = class end\n",
      "#if FABLE_COMPILER\n",
      "[<Fable.Core.Erase; Fable.Core.Emit(\"Fn($0, $1)\")>]\n",
      "#endif\n",
      "type ActionFn2<'T, 'U> = class end\n",
      "#if FABLE_COMPILER\n",
      "[<Fable.Core.Erase; Fable.Core.Emit(\"impl $0\")>]\n",
      "#endif\n",
      "type Impl<'T> = class end\n",
      "#if FABLE_COMPILER\n",
      "[<Fable.Core.Erase; Fable.Core.Emit(\"mut $0\")>]\n",
      "#endif\n",
      "type Mut<'T> = class end\n",
      "#if FABLE_COMPILER\n",
      "[<Fable.Core.Erase; Fable.Core.Emit(\"&$0\")>]\n",
      "#endif\n",
      "type Ref<'T> = class end\n",
      "#if FABLE_COMPILER\n",
      "[<Fable.Core.Erase; Fable.Core.Emit(\"&'static $0\")>]\n",
      "#endif\n",
      "type StaticRef<'T> = class end\n",
      "#if FABLE_COMPILER\n",
      "[<Fable.Core.Erase; Fable.Core.Emit(\"MutCell<$0>\")>]\n",
      "#endif\n",
      "type MutCell<'T> = class end\n",
      "#if FABLE_COMPILER\n",
      "[<Fable.Core.Erase; Fable.Core.Emit(\"std::any::Any\")>]\n",
      "#endif\n",
      "type std_any_Any = class end\n",
      "#if FABLE_COMPILER\n",
      "[<Fable.Core.Erase; Fable.Core.Emit(\"std::borrow::Cow<$0>\")>]\n",
      "#endif\n",
      "type std_borrow_Cow<'T> = class end\n",
      "#if FABLE_COMPILER\n",
      "[<Fable.Core.Erase; Fable.Core.Emit(\"std::cell::RefCell<$0>\")>]\n",
      "#endif\n",
      "type std_cell_RefCell<'T> = class end\n",
      "#if FABLE_COMPILER\n",
      "[<Fable.Core.Erase; Fable.Core.Emit(\"std::pin::Pin<$0>\")>]\n",
      "#endif\n",
      "type std_pin_Pin<'T> = class end\n",
      "#if FABLE_COMPILER\n",
      "[<Fable.Core.Erase; Fable.Core.Emit(\"std::rc::Rc<$0>\")>]\n",
      "#endif\n",
      "type std_rc_Rc<'T> = class end\n",
      "#if FABLE_COMPILER\n",
      "[<Fable.Core.Erase; Fable.Core.Emit(\"std::rc::Weak<$0>\")>]\n",
      "#endif\n",
      "type std_rc_Weak<'T> = class end\n",
      "#if FABLE_COMPILER\n",
      "[<Fable.Core.Erase; Fable.Core.Emit(\"str\")>]\n",
      "#endif\n",
      "type Str = class end\n",
      "#if FABLE_COMPILER\n",
      "[<Fable.Core.Erase; Fable.Core.Emit(\"base64::DecodeError\")>]\n",
      "#endif\n",
      "type base64_DecodeError = class end\n",
      "#if FABLE_COMPILER\n",
      "[<Fable.Core.Erase; Fable.Core.Emit(\"borsh::io::Error\")>]\n",
      "#endif\n",
      "type borsh_io_Error = class end\n",
      "#if FABLE_COMPILER\n",
      "[<Fable.Core.Erase; Fable.Core.Emit(\"js_sys::JsString\")>]\n",
      "#endif\n",
      "type js_sys_JsString = class end\n",
      "#if FABLE_COMPILER\n",
      "[<Fable.Core.Erase; Fable.Core.Emit(\"serde_json::Error\")>]\n",
      "#endif\n",
      "type serde_json_Error = class end\n",
      "#if FABLE_COMPILER\n",
      "[<Fable.Core.Erase; Fable.Core.Emit(\"serde_json::Value\")>]\n",
      "#endif\n",
      "type serde_json_Value = class end\n",
      "#if FABLE_COMPILER\n",
      "[<Fable.Core.Erase; Fable.Core.Emit(\"serde_wasm_bindgen::Error\")>]\n",
      "#endif\n",
      "type serde_wasm_bindgen_Error = class end\n",
      "#if FABLE_COMPILER\n",
      "[<Fable.Core.Erase; Fable.Core.Emit(\"std::ffi::OsStr\")>]\n",
      "#endif\n",
      "type std_ffi_OsStr = class end\n",
      "#if FABLE_COMPILER\n",
      "[<Fable.Core.Erase; Fable.Core.Emit(\"std::ffi::OsString\")>]\n",
      "#endif\n",
      "type std_ffi_OsString = class end\n",
      "#if FABLE_COMPILER\n",
      "[<Fable.Core.Erase; Fable.Core.Emit(\"std::fmt::Display<$0>\")>]\n",
      "#endif\n",
      "type std_fmt_Display<'T> = class end\n",
      "#if FABLE_COMPILER\n",
      "[<Fable.Core.Erase; Fable.Core.Emit(\"std::str::Utf8Error\")>]\n",
      "#endif\n",
      "type std_str_Utf8Error = class end\n",
      "#if FABLE_COMPILER\n",
      "[<Fable.Core.Erase; Fable.Core.Emit(\"std::string::FromUtf8Error\")>]\n",
      "#endif\n",
      "type std_string_FromUtf8Error = class end\n",
      "#if FABLE_COMPILER\n",
      "[<Fable.Core.Erase; Fable.Core.Emit(\"std::string::String\")>]\n",
      "#endif\n",
      "type std_string_String = class end\n",
      "#if FABLE_COMPILER\n",
      "[<Fable.Core.Erase; Fable.Core.Emit(\"std::slice::Windows<$0>\")>]\n",
      "#endif\n",
      "type std_slice_Windows<'T> = class end\n",
      "type [<Struct>] US0 =\n",
      "    | US0_0\n",
      "    | US0_1\n",
      "    | US0_2\n",
      "    | US0_3\n",
      "    | US0_4\n",
      "    | US0_5\n",
      "    | US0_6\n",
      "    | US0_7\n",
      "    | US0_8\n",
      "    | US0_9\n",
      "    | US0_10\n",
      "    | US0_11\n",
      "and [<Struct>] US2 =\n",
      "    | US2_0\n",
      "    | US2_1\n",
      "and [<Struct>] US1 =\n",
      "    | US1_0 of f0_0 : US2\n",
      "and UH0 =\n",
      "    | UH0_0\n",
      "    | UH0_1 of int32 * US0 * int32 * US1 * UH0\n",
      "and [<Struct>] US3 =\n",
      "    | US3_0\n",
      "    | US3_1\n",
      "and [<Struct>] US6 =\n",
      "    | US6_0 of f0_0 : int32\n",
      "    | US6_1 of f1_0 : int32\n",
      "    | US6_2 of f2_0 : int32\n",
      "and [<Struct>] US8 =\n",
      "    | US8_0\n",
      "    | US8_1\n",
      "    | US8_2\n",
      "    | US8_3\n",
      "    | US8_4\n",
      "    | US8_5\n",
      "    | US8_6\n",
      "and [<Struct>] US7 =\n",
      "    | US7_0 of f0_0 : US8\n",
      "    | US7_1 of f1_0 : int32\n",
      "    | US7_2 of f2_0 : int32 * f2_1 : US0\n",
      "and UH1 =\n",
      "    | UH1_0\n",
      "    | UH1_1 of US7 * UH1\n",
      "and [<Struct>] US5 =\n",
      "    | US5_0 of f0_0 : US6\n",
      "    | US5_1 of f1_0 : UH1\n",
      "and [<Struct>] US4 =\n",
      "    | US4_0 of f0_0 : US3\n",
      "    | US4_1 of f1_0 : US5\n",
      "and UH2 =\n",
      "    | UH2_0\n",
      "    | UH2_1 of UH0 * string * US4 * UH2\n",
      "let rec method1 (v0 : bool) : bool =\n",
      "    v0\n",
      "and method0 () : unit =\n",
      "    let v0 : string = @$\"format!(\"\"{{:#?}}\"\", $0)\"\n",
      "    let v1 : UH0 = UH0_0\n",
      "    let v2 : string = \"01\"\n",
      "    let v3 : US3 = US3_0\n",
      "    let v4 : US4 = US4_0(v3)\n",
      "    let v5 : UH0 = UH0_0\n",
      "    let v6 : string = \"02\"\n",
      "    let v7 : US3 = US3_0\n",
      "    let v8 : US4 = US4_0(v7)\n",
      "    let v9 : UH0 = UH0_0\n",
      "    let v10 : string = \"03\"\n",
      "    let v11 : US3 = US3_0\n",
      "    let v12 : US4 = US4_0(v11)\n",
      "    let v13 : UH2 = UH2_0\n",
      "    let v14 : UH2 = UH2_1(v9, v10, v12, v13)\n",
      "    let v15 : UH2 = UH2_1(v5, v6, v8, v14)\n",
      "    let v16 : UH2 = UH2_1(v1, v2, v4, v15)\n",
      "    let v17 : std_string_String = Fable.Core.RustInterop.emitRustExpr v16 v0\n",
      "    let v18 : string = \"fable_library_rust::String_::fromString($0)\"\n",
      "    let v19 : string = Fable.Core.RustInterop.emitRustExpr v17 v18\n",
      "    let v20 : bool = v19.Contains v2\n",
      "    let v22 : bool =\n",
      "        if v20 then\n",
      "            true\n",
      "        else\n",
      "            method1(v20)\n",
      "    let v23 : string = \"assert_string_contains\"\n",
      "    let v24 : string = $\"{v23} / actual: %A{v2} / expected: %A{v19}\"\n",
      "    System.Console.WriteLine v24\n",
      "    let v25 : bool = v22 = false\n",
      "    if v25 then\n",
      "        failwith<unit> v24\n",
      "method0()\n",
      "\n",
      "\r\n"
     ]
    }
   ],
   "source": [
    "//// test\n",
    "///! rust\n",
    "\n",
    "types ()\n",
    "get_tasks ()\n",
    "|> sm'.format_pretty'\n",
    "|> sm'.from_std_string\n",
    "|> _assert_string_contains \"01\""
   ]
  },
  {
   "cell_type": "code",
   "execution_count": null,
   "metadata": {
    "dotnet_interactive": {
     "language": "spiral"
    },
    "polyglot_notebook": {
     "kernelName": "spiral"
    }
   },
   "outputs": [
    {
     "data": {
      "text/plain": [
       "output:\n",
       "assert_eq / actual: \"01\" / expected: \"01\"\n",
       "\n",
       "\n"
      ]
     },
     "metadata": {},
     "output_type": "display_data"
    },
    {
     "name": "stdout",
     "output_type": "stream",
     "text": [
      ".fsx:\n",
      "let rec method0 () : unit =\n",
      "    let v3 : string = \"assert_eq\"\n",
      "    let v4 : string = \"01\"\n",
      "    let v5 : string = $\"{v3} / actual: %A{v4} / expected: %A{v4}\"\n",
      "    System.Console.WriteLine v5\n",
      "    ()\n",
      "method0()\n",
      "\n",
      "\r\n"
     ]
    }
   ],
   "source": [
    "//// test\n",
    "///! rust\n",
    "\n",
    "get_tasks ()\n",
    "|> listm'.try_item 0i32\n",
    "|> fun (Some task) => task.task.name\n",
    "|> _assert_eq (task_name \"01\")"
   ]
  }
 ],
 "metadata": {},
 "nbformat": 4,
 "nbformat_minor": 5
}