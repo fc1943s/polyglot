{
 "cells": [
  {
   "cell_type": "markdown",
   "metadata": {},
   "source": [
    "# Builder (Polyglot)"
   ]
  },
  {
   "cell_type": "code",
   "execution_count": null,
   "metadata": {
    "dotnet_interactive": {
     "language": "fsharp"
    },
    "polyglot_notebook": {
     "kernelName": "fsharp"
    }
   },
   "outputs": [],
   "source": [
    "#!import ../nbs/Testing.dib"
   ]
  },
  {
   "cell_type": "code",
   "execution_count": null,
   "metadata": {
    "dotnet_interactive": {
     "language": "fsharp"
    },
    "polyglot_notebook": {
     "kernelName": "fsharp"
    }
   },
   "outputs": [],
   "source": [
    "#r @\"../../../../../../../.nuget/packages/fsharp.control.asyncseq/3.2.1/lib/netstandard2.1/FSharp.Control.AsyncSeq.dll\"\n",
    "#r @\"../../../../../../../.nuget/packages/system.reactive/5.0.0/lib/net5.0/System.Reactive.dll\"\n",
    "#r @\"../../../../../../../.nuget/packages/system.reactive.linq/6.0.1-preview.1/lib/netstandard2.0/System.Reactive.Linq.dll\"\n",
    "#r @\"../../../../../../../.nuget/packages/argu/6.1.1/lib/netstandard2.0/Argu.dll\"\n",
    "#r @\"../../../../../../../.nuget/packages/system.commandline/2.0.0-beta4.22272.1/lib/net6.0/System.CommandLine.dll\"\n",
    "#r @\"../../../../../../../.nuget/packages/asyncio/0.1.69/lib/netstandard2.0/AsyncIO.dll\"\n",
    "#r @\"../../../../../../../.nuget/packages/netmq/4.0.1.12/lib/netstandard2.1/NetMQ.dll\""
   ]
  },
  {
   "cell_type": "code",
   "execution_count": null,
   "metadata": {
    "dotnet_interactive": {
     "language": "fsharp"
    },
    "polyglot_notebook": {
     "kernelName": "fsharp"
    }
   },
   "outputs": [],
   "source": [
    "#!import ../nbs/Common.fs\n",
    "#!import ../nbs/CommonFSharp.fs\n",
    "#!import ../nbs/Async.fs\n",
    "#!import ../nbs/AsyncSeq.fs\n",
    "#!import ../nbs/Networking.fs\n",
    "#!import ../nbs/Runtime.fs\n",
    "#!import ../nbs/FileSystem.fs"
   ]
  },
  {
   "cell_type": "code",
   "execution_count": null,
   "metadata": {
    "dotnet_interactive": {
     "language": "fsharp"
    },
    "polyglot_notebook": {
     "kernelName": "fsharp"
    }
   },
   "outputs": [],
   "source": [
    "open Common\n",
    "open FileSystem"
   ]
  },
  {
   "cell_type": "markdown",
   "metadata": {},
   "source": [
    "## buildProject"
   ]
  },
  {
   "cell_type": "code",
   "execution_count": null,
   "metadata": {
    "dotnet_interactive": {
     "language": "fsharp"
    },
    "polyglot_notebook": {
     "kernelName": "fsharp"
    }
   },
   "outputs": [],
   "source": [
    "let buildProject path = async {\n",
    "    let fullPath = path |> System.IO.Path.GetFullPath\n",
    "    let fileDir = fullPath |> System.IO.Path.GetDirectoryName\n",
    "    let extension = fullPath |> System.IO.Path.GetExtension\n",
    "\n",
    "    let getLocals () = $\"fullPath: {fullPath} / {getLocals ()}\"\n",
    "    trace Debug (fun () -> \"buildProject\") getLocals\n",
    "\n",
    "    match extension with\n",
    "    | \".fsproj\" -> ()\n",
    "    | _ -> failwith \"Invalid project file\"\n",
    "\n",
    "    let! exitCode, _result =\n",
    "        Runtime.executeWithOptionsAsync\n",
    "            {\n",
    "                Command = \"dotnet build -c Release\"\n",
    "                CancellationToken = None\n",
    "                OnLine = None\n",
    "                WorkingDirectory = Some fileDir\n",
    "            }\n",
    "\n",
    "    return exitCode\n",
    "}"
   ]
  },
  {
   "cell_type": "markdown",
   "metadata": {},
   "source": [
    "## buildCode"
   ]
  },
  {
   "cell_type": "code",
   "execution_count": null,
   "metadata": {
    "dotnet_interactive": {
     "language": "fsharp"
    },
    "polyglot_notebook": {
     "kernelName": "fsharp"
    }
   },
   "outputs": [],
   "source": [
    "let buildCode packages modules path name code = async {\n",
    "    let getLocals () = $\"packages: {packages} / modules: {modules} / path: {path} / name: {name} / code.Length: {code |> String.length} / {getLocals ()}\"\n",
    "    trace Debug (fun () -> \"buildCode\") getLocals\n",
    "\n",
    "    let targetPath = path </> \"target\"\n",
    "    System.IO.Directory.CreateDirectory targetPath |> ignore\n",
    "\n",
    "    let filePath = targetPath </> $\"{name}.fs\" |> System.IO.Path.GetFullPath\n",
    "    do! code |> FileSystem.writeAllTextAsync filePath\n",
    "\n",
    "    let repositoryRoot = path |> FileSystem.findParent \".paket\" false\n",
    "\n",
    "    let modulesCode =\n",
    "        modules\n",
    "        |> List.map (fun path -> $\"\"\"<Compile Include=\"{repositoryRoot </> path}\" />\"\"\")\n",
    "        |> String.concat \"\\n        \"\n",
    "\n",
    "    let fsprojPath = targetPath </> $\"{name}.fsproj\"\n",
    "    let fsprojCode = $\"\"\"<Project Sdk=\"Microsoft.NET.Sdk\">\n",
    "    <PropertyGroup>\n",
    "        <TargetFramework>net8.0</TargetFramework>\n",
    "        <LangVersion>preview</LangVersion>\n",
    "        <RollForward>Major</RollForward>\n",
    "        <TargetLatestRuntimePatch>true</TargetLatestRuntimePatch>\n",
    "        <Version>0.0.1-alpha.1</Version>\n",
    "        <OutputType>Exe</OutputType>\n",
    "    </PropertyGroup>\n",
    "\n",
    "    <ItemGroup>\n",
    "        {modulesCode}\n",
    "        <Compile Include=\"{filePath}\" />\n",
    "    </ItemGroup>\n",
    "\n",
    "    <Import Project=\"{repositoryRoot}/.paket/Paket.Restore.targets\" />\n",
    "</Project>\n",
    "\"\"\"\n",
    "    do! fsprojCode |> FileSystem.writeAllTextAsync fsprojPath\n",
    "\n",
    "    let paketReferencesCode =\n",
    "        \"FSharp.Core\" :: packages\n",
    "        |> String.concat \"\\n\"\n",
    "\n",
    "    do! paketReferencesCode |> FileSystem.writeAllTextAsync (targetPath </> \"paket.references\")\n",
    "\n",
    "    return! fsprojPath |> buildProject\n",
    "}"
   ]
  },
  {
   "cell_type": "code",
   "execution_count": null,
   "metadata": {
    "dotnet_interactive": {
     "language": "fsharp"
    },
    "polyglot_notebook": {
     "kernelName": "fsharp"
    }
   },
   "outputs": [
    {
     "name": "stdout",
     "output_type": "stream",
     "text": [
      "00:00:00 #1 [Debug] buildCode / packages: [] / modules: [] / path: C:\\home\\git\\polyglot\\apps\\builder\\target/test / name: test / code.Length: 5\r\n",
      "00:00:00 #2 [Debug] buildProject / fullPath: C:\\home\\git\\polyglot\\apps\\builder\\target\\test\\target\\test.fsproj\r\n",
      "00:00:00 #3 [Debug] executeAsync / options: { Command = \"dotnet build -c Release\"\n",
      "  WorkingDirectory = Some \"C:\\home\\git\\polyglot\\apps\\builder\\target\\test\\target\"\n",
      "  CancellationToken = None\n",
      "  OnLine = None }\r\n",
      "00:00:00 #4 [Debug] > MSBuild version 17.7.0+5785ed5c2 for .NET\r\n",
      "00:00:01 #5 [Debug] >   Determining projects to restore...\r\n",
      "00:00:01 #6 [Debug] >   All projects are up-to-date for restore.\r\n",
      "00:00:01 #7 [Debug] > C:\\Users\\i574n\\scoop\\apps\\dotnet-sdk-preview\\current\\sdk\\8.0.100-preview.6.23330.14\\Sdks\\Microsoft.NET.Sdk\\targets\\Microsoft.NET.RuntimeIdentifierInference.targets(314,5): message NETSDK1057: You are using a preview version of .NET. See: https://aka.ms/dotnet-support-policy [C:\\home\\git\\polyglot\\apps\\builder\\target\\test\\target\\test.fsproj]\r\n",
      "00:00:04 #8 [Debug] > C:\\home\\git\\polyglot\\apps\\builder\\target\\test\\target\\test.fs(1,1): warning FS0020: The result of this expression has type 'int' and is implicitly ignored. Consider using 'ignore' to discard this value explicitly, e.g. 'expr |> ignore', or 'let' to bind the result to a name, e.g. 'let result = expr'. [C:\\home\\git\\polyglot\\apps\\builder\\target\\test\\target\\test.fsproj]\r\n",
      "00:00:04 #9 [Debug] > C:\\home\\git\\polyglot\\apps\\builder\\target\\test\\target\\test.fs(1,6): warning FS0988: Main module of program is empty: nothing will happen when it is run [C:\\home\\git\\polyglot\\apps\\builder\\target\\test\\target\\test.fsproj]\r\n",
      "00:00:04 #10 [Debug] >   test -> C:\\home\\git\\polyglot\\apps\\builder\\target\\test\\target\\bin\\Release\\net8.0\\test.dll\r\n",
      "00:00:05 #11 [Debug] >\r\n",
      "00:00:05 #12 [Debug] > Build succeeded.\r\n",
      "00:00:05 #13 [Debug] >\r\n",
      "00:00:05 #14 [Debug] > C:\\home\\git\\polyglot\\apps\\builder\\target\\test\\target\\test.fs(1,1): warning FS0020: The result of this expression has type 'int' and is implicitly ignored. Consider using 'ignore' to discard this value explicitly, e.g. 'expr |> ignore', or 'let' to bind the result to a name, e.g. 'let result = expr'. [C:\\home\\git\\polyglot\\apps\\builder\\target\\test\\target\\test.fsproj]\r\n",
      "00:00:05 #15 [Debug] > C:\\home\\git\\polyglot\\apps\\builder\\target\\test\\target\\test.fs(1,6): warning FS0988: Main module of program is empty: nothing will happen when it is run [C:\\home\\git\\polyglot\\apps\\builder\\target\\test\\target\\test.fsproj]\r\n",
      "00:00:05 #16 [Debug] >     2 Warning(s)\r\n",
      "00:00:05 #17 [Debug] >     0 Error(s)\r\n",
      "00:00:05 #18 [Debug] >\r\n",
      "00:00:05 #19 [Debug] > Time Elapsed 00:00:04.58\r\n",
      "00:00:05 #20 [Debug] executeAsync / exitCode: 0 / proc.Id: 9448 / output.Length: 1818\r\n",
      "FSharpOption<Int32>\r\n",
      "      Value: 0\r\n"
     ]
    }
   ],
   "source": [
    "//// test\n",
    "\n",
    "let tempFolder = FileSystem.getSourceDirectory () </> \"target/test\"\n",
    "\n",
    "\"1 + 1\"\n",
    "|> buildCode [] [] tempFolder \"test\"\n",
    "|> Async.runWithTimeoutStrict 20000\n",
    "|> _equal (Some 0)"
   ]
  },
  {
   "cell_type": "code",
   "execution_count": null,
   "metadata": {
    "dotnet_interactive": {
     "language": "fsharp"
    },
    "polyglot_notebook": {
     "kernelName": "fsharp"
    }
   },
   "outputs": [
    {
     "name": "stdout",
     "output_type": "stream",
     "text": [
      "00:00:05 #21 [Debug] buildCode / packages: [] / modules: [] / path: C:\\home\\git\\polyglot\\apps\\builder\\target/test / name: test / code.Length: 5\r\n",
      "00:00:05 #22 [Debug] buildProject / fullPath: C:\\home\\git\\polyglot\\apps\\builder\\target\\test\\target\\test.fsproj\r\n",
      "00:00:05 #23 [Debug] executeAsync / options: { Command = \"dotnet build -c Release\"\n",
      "  WorkingDirectory = Some \"C:\\home\\git\\polyglot\\apps\\builder\\target\\test\\target\"\n",
      "  CancellationToken = None\n",
      "  OnLine = None }\r\n",
      "00:00:05 #24 [Debug] > MSBuild version 17.7.0+5785ed5c2 for .NET\r\n",
      "00:00:06 #25 [Debug] >   Determining projects to restore...\r\n",
      "00:00:06 #26 [Debug] >   All projects are up-to-date for restore.\r\n",
      "00:00:06 #27 [Debug] > C:\\Users\\i574n\\scoop\\apps\\dotnet-sdk-preview\\current\\sdk\\8.0.100-preview.6.23330.14\\Sdks\\Microsoft.NET.Sdk\\targets\\Microsoft.NET.RuntimeIdentifierInference.targets(314,5): message NETSDK1057: You are using a preview version of .NET. See: https://aka.ms/dotnet-support-policy [C:\\home\\git\\polyglot\\apps\\builder\\target\\test\\target\\test.fsproj]\r\n",
      "00:00:08 #28 [Debug] > C:\\home\\git\\polyglot\\apps\\builder\\target\\test\\target\\test.fs(1,5): error FS0039: The value or constructor 'a' is not defined. [C:\\home\\git\\polyglot\\apps\\builder\\target\\test\\target\\test.fsproj]\r\n",
      "00:00:08 #29 [Debug] >\r\n",
      "00:00:08 #30 [Debug] > Build FAILED.\r\n",
      "00:00:08 #31 [Debug] >\r\n",
      "00:00:08 #32 [Debug] > C:\\home\\git\\polyglot\\apps\\builder\\target\\test\\target\\test.fs(1,5): error FS0039: The value or constructor 'a' is not defined. [C:\\home\\git\\polyglot\\apps\\builder\\target\\test\\target\\test.fsproj]\r\n",
      "00:00:08 #33 [Debug] >     0 Warning(s)\r\n",
      "00:00:08 #34 [Debug] >     1 Error(s)\r\n",
      "00:00:08 #35 [Debug] >\r\n",
      "00:00:08 #36 [Debug] > Time Elapsed 00:00:03.25\r\n",
      "00:00:09 #37 [Debug] executeAsync / exitCode: 1 / proc.Id: 7020 / output.Length: 935\r\n",
      "FSharpOption<Int32>\r\n",
      "      Value: 1\r\n"
     ]
    }
   ],
   "source": [
    "//// test\n",
    "\n",
    "let tempFolder = FileSystem.getSourceDirectory () </> \"target/test\"\n",
    "\n",
    "\"1 + a\"\n",
    "|> buildCode [] [] tempFolder \"test\"\n",
    "|> Async.runWithTimeoutStrict 20000\n",
    "|> _equal (Some 1)"
   ]
  },
  {
   "cell_type": "markdown",
   "metadata": {},
   "source": [
    "## buildFile"
   ]
  },
  {
   "cell_type": "code",
   "execution_count": null,
   "metadata": {
    "dotnet_interactive": {
     "language": "fsharp"
    },
    "polyglot_notebook": {
     "kernelName": "fsharp"
    }
   },
   "outputs": [],
   "source": [
    "let buildFile packages modules path = async {\n",
    "    let fullPath = path |> System.IO.Path.GetFullPath\n",
    "    let dir = fullPath |> System.IO.Path.GetDirectoryName\n",
    "    let fileName = fullPath |> System.IO.Path.GetFileNameWithoutExtension\n",
    "    let! code = fullPath |> FileSystem.readAllTextAsync\n",
    "\n",
    "    return! code |> buildCode packages modules dir fileName\n",
    "}"
   ]
  },
  {
   "cell_type": "markdown",
   "metadata": {},
   "source": [
    "## Arguments"
   ]
  },
  {
   "cell_type": "code",
   "execution_count": null,
   "metadata": {
    "dotnet_interactive": {
     "language": "fsharp"
    },
    "polyglot_notebook": {
     "kernelName": "fsharp"
    }
   },
   "outputs": [],
   "source": [
    "[<RequireQualifiedAccess>]\n",
    "type Arguments =\n",
    "    | [<Argu.ArguAttributes.MainCommand; Argu.ArguAttributes.ExactlyOnce>] Path of path : string\n",
    "    | [<Argu.ArguAttributes.Unique>] Packages of packages : string list\n",
    "    | [<Argu.ArguAttributes.Unique>] Modules of modules : string list\n",
    "\n",
    "    interface Argu.IArgParserTemplate with\n",
    "        member s.Usage =\n",
    "            match s with\n",
    "            | Path _ -> nameof Arguments.Path\n",
    "            | Packages _ -> nameof Arguments.Packages\n",
    "            | Modules _ -> nameof Arguments.Modules"
   ]
  },
  {
   "cell_type": "markdown",
   "metadata": {},
   "source": [
    "## main"
   ]
  },
  {
   "cell_type": "code",
   "execution_count": null,
   "metadata": {
    "dotnet_interactive": {
     "language": "fsharp"
    },
    "polyglot_notebook": {
     "kernelName": "fsharp"
    }
   },
   "outputs": [],
   "source": [
    "\n",
    "let main args =\n",
    "    let argsMap = args |> Runtime.parseArgsMap<Arguments>\n",
    "\n",
    "    let path =\n",
    "        match argsMap.[nameof Arguments.Path] with\n",
    "        | [ Arguments.Path path ] -> Some path\n",
    "        | _ -> None\n",
    "        |> Option.get\n",
    "\n",
    "    let packages =\n",
    "        match argsMap |> Map.tryFind (nameof Arguments.Packages) with\n",
    "        | Some [ Arguments.Packages packages ] -> packages\n",
    "        | _ -> []\n",
    "\n",
    "    let modules =\n",
    "        match argsMap |> Map.tryFind (nameof Arguments.Modules) with\n",
    "        | Some [ Arguments.Modules modules ] -> modules\n",
    "        | _ -> []\n",
    "\n",
    "    path\n",
    "    |> buildFile packages modules\n",
    "    |> Async.runWithTimeout 30000\n",
    "    |> function\n",
    "        | Some exitCode -> exitCode\n",
    "        | None -> 1"
   ]
  },
  {
   "cell_type": "code",
   "execution_count": null,
   "metadata": {
    "dotnet_interactive": {
     "language": "fsharp"
    },
    "polyglot_notebook": {
     "kernelName": "fsharp"
    }
   },
   "outputs": [
    {
     "data": {
      "text/html": [
       "<div class=\"dni-plaintext\"><pre>0</pre></div><style>\r\n",
       ".dni-code-hint {\r\n",
       "    font-style: italic;\r\n",
       "    overflow: hidden;\r\n",
       "    white-space: nowrap;\r\n",
       "}\r\n",
       ".dni-treeview {\r\n",
       "    white-space: nowrap;\r\n",
       "}\r\n",
       ".dni-treeview td {\r\n",
       "    vertical-align: top;\r\n",
       "    text-align: start;\r\n",
       "}\r\n",
       "details.dni-treeview {\r\n",
       "    padding-left: 1em;\r\n",
       "}\r\n",
       "table td {\r\n",
       "    text-align: start;\r\n",
       "}\r\n",
       "table tr { \r\n",
       "    vertical-align: top; \r\n",
       "    margin: 0em 0px;\r\n",
       "}\r\n",
       "table tr td pre \r\n",
       "{ \r\n",
       "    vertical-align: top !important; \r\n",
       "    margin: 0em 0px !important;\r\n",
       "} \r\n",
       "table th {\r\n",
       "    text-align: start;\r\n",
       "}\r\n",
       "</style>"
      ]
     },
     "metadata": {},
     "output_type": "display_data"
    },
    {
     "name": "stdout",
     "output_type": "stream",
     "text": [
      "00:00:09 #38 [Debug] buildCode / packages: [Argu; FSharp.Control.AsyncSeq; System.CommandLine; ... ] / modules: [nbs/Common.fs; nbs/CommonFSharp.fs; nbs/Async.fs; ... ] / path: C:\\home\\git\\polyglot\\apps\\builder / name: Builder / code.Length: 4486\r\n",
      "00:00:09 #39 [Debug] buildProject / fullPath: C:\\home\\git\\polyglot\\apps\\builder\\target\\Builder.fsproj\r\n",
      "00:00:09 #40 [Debug] executeAsync / options: { Command = \"dotnet build -c Release\"\n",
      "  WorkingDirectory = Some \"C:\\home\\git\\polyglot\\apps\\builder\\target\"\n",
      "  CancellationToken = None\n",
      "  OnLine = None }\r\n",
      "00:00:10 #41 [Debug] > MSBuild version 17.7.0+5785ed5c2 for .NET\r\n",
      "00:00:11 #42 [Debug] >   Determining projects to restore...\r\n",
      "00:00:11 #43 [Debug] >   All projects are up-to-date for restore.\r\n",
      "00:00:11 #44 [Debug] > C:\\Users\\i574n\\scoop\\apps\\dotnet-sdk-preview\\current\\sdk\\8.0.100-preview.6.23330.14\\Sdks\\Microsoft.NET.Sdk\\targets\\Microsoft.NET.RuntimeIdentifierInference.targets(314,5): message NETSDK1057: You are using a preview version of .NET. See: https://aka.ms/dotnet-support-policy [C:\\home\\git\\polyglot\\apps\\builder\\target\\Builder.fsproj]\r\n",
      "00:00:16 #45 [Debug] >   Builder -> C:\\home\\git\\polyglot\\apps\\builder\\target\\bin\\Release\\net8.0\\Builder.dll\r\n",
      "00:00:16 #46 [Debug] >\r\n",
      "00:00:16 #47 [Debug] > Build succeeded.\r\n",
      "00:00:16 #48 [Debug] >     0 Warning(s)\r\n",
      "00:00:16 #49 [Debug] >     0 Error(s)\r\n",
      "00:00:16 #50 [Debug] >\r\n",
      "00:00:16 #51 [Debug] > Time Elapsed 00:00:06.20\r\n",
      "00:00:16 #52 [Debug] executeAsync / exitCode: 0 / proc.Id: 24960 / output.Length: 625\r\n"
     ]
    }
   ],
   "source": [
    "//// test\n",
    "\n",
    "let args =\n",
    "    System.Environment.GetEnvironmentVariable \"ARGS\"\n",
    "    |> Runtime.splitArgs\n",
    "    |> Seq.toArray\n",
    "\n",
    "match args with\n",
    "| [||] -> 0\n",
    "| args -> if main args = 0 then 0 else failwith \"main failed\""
   ]
  }
 ],
 "metadata": {
  "kernelspec": {
   "display_name": ".NET (C#)",
   "language": "C#",
   "name": ".net-csharp"
  },
  "language_info": {
   "file_extension": ".cs",
   "mimetype": "text/x-csharp",
   "name": "C#",
   "pygments_lexer": "csharp",
   "version": "10.0"
  },
  "polyglot_notebook": {
   "defaultKernelName": "csharp",
   "items": [
    {
     "name": "csharp"
    }
   ]
  },
  "dotnet_interactive": {
   "defaultKernelName": "csharp",
   "items": [
    {
     "name": "csharp"
    }
   ]
  }
 },
 "nbformat": 4,
 "nbformat_minor": 5
}