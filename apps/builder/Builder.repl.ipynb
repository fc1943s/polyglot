{
 "cells": [
  {
   "cell_type": "markdown",
   "metadata": {},
   "source": [
    "# Builder (Polyglot)"
   ]
  },
  {
   "cell_type": "code",
   "execution_count": null,
   "metadata": {
    "dotnet_interactive": {
     "language": "fsharp"
    },
    "polyglot_notebook": {
     "kernelName": "fsharp"
    }
   },
   "outputs": [],
   "source": [
    "#!import ../nbs/Testing.dib"
   ]
  },
  {
   "cell_type": "code",
   "execution_count": null,
   "metadata": {
    "dotnet_interactive": {
     "language": "fsharp"
    },
    "polyglot_notebook": {
     "kernelName": "fsharp"
    }
   },
   "outputs": [],
   "source": [
    "#r @\"../../../../../../../.nuget/packages/fsharp.control.asyncseq/3.2.1/lib/netstandard2.1/FSharp.Control.AsyncSeq.dll\"\n",
    "#r @\"../../../../../../../.nuget/packages/system.reactive/5.0.0/lib/net5.0/System.Reactive.dll\"\n",
    "#r @\"../../../../../../../.nuget/packages/system.reactive.linq/6.0.1-preview.1/lib/netstandard2.0/System.Reactive.Linq.dll\"\n",
    "\n",
    "#r @\"../../../../../../../.nuget/packages/asyncio/0.1.69/lib/netstandard2.0/AsyncIO.dll\"\n",
    "#r @\"../../../../../../../.nuget/packages/netmq/4.0.1.12/lib/netstandard2.1/NetMQ.dll\""
   ]
  },
  {
   "cell_type": "code",
   "execution_count": null,
   "metadata": {
    "dotnet_interactive": {
     "language": "fsharp"
    },
    "polyglot_notebook": {
     "kernelName": "fsharp"
    }
   },
   "outputs": [],
   "source": [
    "#!import ../nbs/Common.fs\n",
    "#!import ../nbs/Async.fs\n",
    "#!import ../nbs/AsyncSeq.fs\n",
    "#!import ../nbs/Networking.fs\n",
    "#!import ../nbs/Runtime.fs\n",
    "#!import ../nbs/FileSystem.fs"
   ]
  },
  {
   "cell_type": "code",
   "execution_count": null,
   "metadata": {
    "dotnet_interactive": {
     "language": "fsharp"
    },
    "polyglot_notebook": {
     "kernelName": "fsharp"
    }
   },
   "outputs": [],
   "source": [
    "open Common\n",
    "open FileSystem"
   ]
  },
  {
   "cell_type": "code",
   "execution_count": null,
   "metadata": {
    "dotnet_interactive": {
     "language": "fsharp"
    },
    "polyglot_notebook": {
     "kernelName": "fsharp"
    }
   },
   "outputs": [],
   "source": [
    "let build path = async {\n",
    "    let fullPath = path |> System.IO.Path.GetFullPath\n",
    "    let dir = fullPath |> System.IO.Path.GetDirectoryName\n",
    "    let fileName = fullPath |> System.IO.Path.GetFileNameWithoutExtension\n",
    "    let extension = fullPath |> System.IO.Path.GetExtension\n",
    "\n",
    "    let getLocals () = $\"dir: {dir} / fileName: {fileName} / extension: {extension} / {getLocals ()}\"\n",
    "    trace Debug (fun () -> \"build\") getLocals\n",
    "\n",
    "    let targetPath =\n",
    "        dir </> \"target\"\n",
    "\n",
    "    let fsprojPath =\n",
    "        targetPath </> $\"{fileName}.fsproj\"\n",
    "\n",
    "    let repoRoot =\n",
    "        let rec loop dir =\n",
    "            if dir </> \".paket\" |> System.IO.Directory.Exists\n",
    "            then dir\n",
    "            else dir |> System.IO.Directory.GetParent |> fun x -> x.FullName |> loop\n",
    "        loop dir\n",
    "\n",
    "    let fsprojCode = $\"\"\"<Project Sdk=\"Microsoft.NET.Sdk\">\n",
    "    <PropertyGroup>\n",
    "        <TargetFramework>net8.0</TargetFramework>\n",
    "        <LangVersion>preview</LangVersion>\n",
    "        <RollForward>Major</RollForward>\n",
    "        <TargetLatestRuntimePatch>true</TargetLatestRuntimePatch>\n",
    "        <Version>0.0.1-alpha.1</Version>\n",
    "        <OutputType>Exe</OutputType>\n",
    "    </PropertyGroup>\n",
    "\n",
    "    <ItemGroup>\n",
    "        <Compile Include=\"{repoRoot}/nbs/Common.fs\" />\n",
    "        <Compile Include=\"{repoRoot}/nbs/Async.fs\" />\n",
    "        <Compile Include=\"{repoRoot}/nbs/AsyncSeq.fs\" />\n",
    "        <Compile Include=\"{repoRoot}/nbs/Runtime.fs\" />\n",
    "        <Compile Include=\"{repoRoot}/nbs/FileSystem.fs\" />\n",
    "        <Compile Include=\"{fullPath}\" />\n",
    "    </ItemGroup>\n",
    "\n",
    "    <Import Project=\"{repoRoot}/.paket/Paket.Restore.targets\" />\n",
    "</Project>\n",
    "\"\"\"\n",
    "    System.IO.Directory.CreateDirectory targetPath |> ignore\n",
    "\n",
    "    let paketReferencesCode = $\"FSharp.Core\n",
    "\n",
    "System.Reactive.Linq\n",
    "FSharp.Control.AsyncSeq\n",
    "FParsec\n",
    "\"\n",
    "\n",
    "    do! System.IO.File.WriteAllTextAsync (targetPath </> \"paket.references\", paketReferencesCode) |> Async.AwaitTask\n",
    "\n",
    "    do! System.IO.File.WriteAllTextAsync (fsprojPath, fsprojCode) |> Async.AwaitTask\n",
    "\n",
    "    let! exitCode, _result =\n",
    "        Runtime.executeWithOptionsAsync\n",
    "            {\n",
    "                Command = \"dotnet build -c Release\"\n",
    "                CancellationToken = None\n",
    "                OnLine = None\n",
    "                WorkingDirectory = Some targetPath\n",
    "            }\n",
    "\n",
    "    return exitCode\n",
    "}"
   ]
  },
  {
   "cell_type": "code",
   "execution_count": null,
   "metadata": {
    "dotnet_interactive": {
     "language": "fsharp"
    },
    "polyglot_notebook": {
     "kernelName": "fsharp"
    }
   },
   "outputs": [],
   "source": [
    "\n",
    "let main args =\n",
    "    let paths =\n",
    "        match args |> Array.tryHead |> Option.defaultValue \"\" with\n",
    "        | \"\" | null -> [||]\n",
    "        | path when System.IO.File.Exists path -> [| path |]\n",
    "        | path when path |> String.contains \";\" -> path |> String.split [| ';' |]\n",
    "        | _ -> [||]\n",
    "\n",
    "    paths\n",
    "    |> Array.map build\n",
    "    |> Async.Parallel\n",
    "    |> Async.RunSynchronously\n",
    "    |> Array.sum"
   ]
  },
  {
   "cell_type": "code",
   "execution_count": null,
   "metadata": {
    "dotnet_interactive": {
     "language": "fsharp"
    },
    "polyglot_notebook": {
     "kernelName": "fsharp"
    }
   },
   "outputs": [
    {
     "data": {
      "text/html": [
       "<div class=\"dni-plaintext\"><pre>0</pre></div><style>\r\n",
       ".dni-code-hint {\r\n",
       "    font-style: italic;\r\n",
       "    overflow: hidden;\r\n",
       "    white-space: nowrap;\r\n",
       "}\r\n",
       ".dni-treeview {\r\n",
       "    white-space: nowrap;\r\n",
       "}\r\n",
       ".dni-treeview td {\r\n",
       "    vertical-align: top;\r\n",
       "    text-align: start;\r\n",
       "}\r\n",
       "details.dni-treeview {\r\n",
       "    padding-left: 1em;\r\n",
       "}\r\n",
       "table td {\r\n",
       "    text-align: start;\r\n",
       "}\r\n",
       "table tr { \r\n",
       "    vertical-align: top; \r\n",
       "    margin: 0em 0px;\r\n",
       "}\r\n",
       "table tr td pre \r\n",
       "{ \r\n",
       "    vertical-align: top !important; \r\n",
       "    margin: 0em 0px !important;\r\n",
       "} \r\n",
       "table th {\r\n",
       "    text-align: start;\r\n",
       "}\r\n",
       "</style>"
      ]
     },
     "metadata": {},
     "output_type": "display_data"
    },
    {
     "name": "stdout",
     "output_type": "stream",
     "text": [
      "00:27:52 #1 [Debug] build / dir: C:\\home\\git\\polyglot\\apps\\builder / fileName: Builder / extension: .fs\r\n",
      "00:27:52 #2 [Debug] executeAsync / options: { Command = \"dotnet build -c Release\"\n",
      "  WorkingDirectory = Some \"C:\\home\\git\\polyglot\\apps\\builder\\target\"\n",
      "  CancellationToken = None\n",
      "  OnLine = None }\r\n",
      "00:27:53 #3 [Debug]  29508: MSBuild version 17.7.0+5785ed5c2 for .NET\r\n",
      "00:27:54 #4 [Debug]  29508:   Determining projects to restore...\r\n",
      "00:27:55 #5 [Debug]  29508:   All projects are up-to-date for restore.\r\n",
      "00:27:55 #6 [Debug]  29508: C:\\Users\\i574n\\scoop\\apps\\dotnet-sdk-preview\\current\\sdk\\8.0.100-preview.6.23330.14\\Sdks\\Microsoft.NET.Sdk\\targets\\Microsoft.NET.RuntimeIdentifierInference.targets(314,5): message NETSDK1057: You are using a preview version of .NET. See: https://aka.ms/dotnet-support-policy [C:\\home\\git\\polyglot\\apps\\builder\\target\\Builder.fsproj]\r\n",
      "00:28:02 #7 [Debug]  29508:   Builder -> C:\\home\\git\\polyglot\\apps\\builder\\target\\bin\\Release\\net8.0\\Builder.dll\r\n",
      "00:28:02 #8 [Debug]  29508:\r\n",
      "00:28:02 #9 [Debug]  29508: Build succeeded.\r\n",
      "00:28:02 #10 [Debug]  29508:     0 Warning(s)\r\n",
      "00:28:02 #11 [Debug]  29508:     0 Error(s)\r\n",
      "00:28:02 #12 [Debug]  29508:\r\n",
      "00:28:02 #13 [Debug]  29508: Time Elapsed 00:00:08.76\r\n",
      "00:28:02 #14 [Debug] executeAsync / exitCode: 0 / output.Length: 625 / options: { Command = \"dotnet build -c Release\"\n",
      "  WorkingDirectory = Some \"C:\\home\\git\\polyglot\\apps\\builder\\target\"\n",
      "  CancellationToken = None\n",
      "  OnLine = None }\r\n"
     ]
    }
   ],
   "source": [
    "//// test\n",
    "\n",
    "main [| System.Environment.GetEnvironmentVariable \"OUTPUT\" |]"
   ]
  }
 ],
 "metadata": {
  "kernelspec": {
   "display_name": ".NET (C#)",
   "language": "C#",
   "name": ".net-csharp"
  },
  "language_info": {
   "file_extension": ".cs",
   "mimetype": "text/x-csharp",
   "name": "C#",
   "pygments_lexer": "csharp",
   "version": "10.0"
  },
  "polyglot_notebook": {
   "defaultKernelName": "csharp",
   "items": [
    {
     "name": "csharp"
    }
   ]
  },
  "dotnet_interactive": {
   "defaultKernelName": "csharp",
   "items": [
    {
     "name": "csharp"
    }
   ]
  }
 },
 "nbformat": 4,
 "nbformat_minor": 5
}