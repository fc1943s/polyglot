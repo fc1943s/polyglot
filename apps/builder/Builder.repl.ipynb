{
 "cells": [
  {
   "cell_type": "markdown",
   "metadata": {},
   "source": [
    "# Builder (Polyglot)"
   ]
  },
  {
   "cell_type": "code",
   "execution_count": null,
   "metadata": {
    "dotnet_interactive": {
     "language": "fsharp"
    },
    "polyglot_notebook": {
     "kernelName": "fsharp"
    }
   },
   "outputs": [],
   "source": [
    "#!import ../nbs/Testing.dib"
   ]
  },
  {
   "cell_type": "code",
   "execution_count": null,
   "metadata": {
    "dotnet_interactive": {
     "language": "fsharp"
    },
    "polyglot_notebook": {
     "kernelName": "fsharp"
    }
   },
   "outputs": [],
   "source": [
    "#r @\"../../../../../../../.nuget/packages/fsharp.control.asyncseq/3.2.1/lib/netstandard2.1/FSharp.Control.AsyncSeq.dll\"\n",
    "#r @\"../../../../../../../.nuget/packages/system.reactive/5.0.0/lib/net5.0/System.Reactive.dll\"\n",
    "#r @\"../../../../../../../.nuget/packages/system.reactive.linq/6.0.1-preview.1/lib/netstandard2.0/System.Reactive.Linq.dll\"\n",
    "#r @\"../../../../../../../.nuget/packages/argu/6.1.1/lib/netstandard2.0/Argu.dll\"\n",
    "#r @\"../../../../../../../.nuget/packages/system.commandline/2.0.0-beta4.22272.1/lib/net6.0/System.CommandLine.dll\"\n",
    "#r @\"../../../../../../../.nuget/packages/asyncio/0.1.69/lib/netstandard2.0/AsyncIO.dll\"\n",
    "#r @\"../../../../../../../.nuget/packages/netmq/4.0.1.12/lib/netstandard2.1/NetMQ.dll\""
   ]
  },
  {
   "cell_type": "code",
   "execution_count": null,
   "metadata": {
    "dotnet_interactive": {
     "language": "fsharp"
    },
    "polyglot_notebook": {
     "kernelName": "fsharp"
    }
   },
   "outputs": [],
   "source": [
    "#!import ../nbs/Common.fs\n",
    "#!import ../nbs/Async.fs\n",
    "#!import ../nbs/AsyncSeq.fs\n",
    "#!import ../nbs/Networking.fs\n",
    "#!import ../nbs/Runtime.fs\n",
    "#!import ../nbs/FileSystem.fs"
   ]
  },
  {
   "cell_type": "code",
   "execution_count": null,
   "metadata": {
    "dotnet_interactive": {
     "language": "fsharp"
    },
    "polyglot_notebook": {
     "kernelName": "fsharp"
    }
   },
   "outputs": [],
   "source": [
    "open Common\n",
    "open FileSystem"
   ]
  },
  {
   "cell_type": "markdown",
   "metadata": {},
   "source": [
    "## buildProject"
   ]
  },
  {
   "cell_type": "code",
   "execution_count": null,
   "metadata": {
    "dotnet_interactive": {
     "language": "fsharp"
    },
    "polyglot_notebook": {
     "kernelName": "fsharp"
    }
   },
   "outputs": [],
   "source": [
    "let buildProject path = async {\n",
    "    let fullPath = path |> System.IO.Path.GetFullPath\n",
    "    let fileDir = fullPath |> System.IO.Path.GetDirectoryName\n",
    "    let extension = fullPath |> System.IO.Path.GetExtension\n",
    "\n",
    "    let getLocals () = $\"fullPath: {fullPath} / {getLocals ()}\"\n",
    "    trace Debug (fun () -> \"buildProject\") getLocals\n",
    "\n",
    "    match extension with\n",
    "    | \".fsproj\" -> ()\n",
    "    | _ -> failwith \"Invalid project file\"\n",
    "\n",
    "    let! exitCode, _result =\n",
    "        Runtime.executeWithOptionsAsync\n",
    "            {\n",
    "                Command = \"dotnet build -c Release\"\n",
    "                CancellationToken = None\n",
    "                OnLine = None\n",
    "                WorkingDirectory = Some fileDir\n",
    "            }\n",
    "\n",
    "    return exitCode\n",
    "}"
   ]
  },
  {
   "cell_type": "markdown",
   "metadata": {},
   "source": [
    "## buildCode"
   ]
  },
  {
   "cell_type": "code",
   "execution_count": null,
   "metadata": {
    "dotnet_interactive": {
     "language": "fsharp"
    },
    "polyglot_notebook": {
     "kernelName": "fsharp"
    }
   },
   "outputs": [],
   "source": [
    "let buildCode path name code = async {\n",
    "    let getLocals () = $\"path: {path} / name: {name} / code.Length: {code |> String.length} / {getLocals ()}\"\n",
    "    trace Debug (fun () -> \"buildCode\") getLocals\n",
    "\n",
    "    let targetPath = path </> \"target\"\n",
    "    System.IO.Directory.CreateDirectory targetPath |> ignore\n",
    "\n",
    "    let filePath = targetPath </> $\"{name}.fs\" |> System.IO.Path.GetFullPath\n",
    "    do! code |> FileSystem.writeAllTextAsync filePath\n",
    "\n",
    "    let repositoryRoot = path |> FileSystem.findParent \".paket\" false\n",
    "\n",
    "    let fsprojPath = targetPath </> $\"{name}.fsproj\"\n",
    "    let fsprojCode = $\"\"\"<Project Sdk=\"Microsoft.NET.Sdk\">\n",
    "    <PropertyGroup>\n",
    "        <TargetFramework>net8.0</TargetFramework>\n",
    "        <LangVersion>preview</LangVersion>\n",
    "        <RollForward>Major</RollForward>\n",
    "        <TargetLatestRuntimePatch>true</TargetLatestRuntimePatch>\n",
    "        <Version>0.0.1-alpha.1</Version>\n",
    "        <OutputType>Exe</OutputType>\n",
    "    </PropertyGroup>\n",
    "\n",
    "    <ItemGroup>\n",
    "        <Compile Include=\"{repositoryRoot}/nbs/Common.fs\" />\n",
    "        <Compile Include=\"{repositoryRoot}/nbs/Async.fs\" />\n",
    "        <Compile Include=\"{repositoryRoot}/nbs/AsyncSeq.fs\" />\n",
    "        <Compile Include=\"{repositoryRoot}/nbs/Networking.fs\" />\n",
    "        <Compile Include=\"{repositoryRoot}/nbs/Runtime.fs\" />\n",
    "        <Compile Include=\"{repositoryRoot}/nbs/FileSystem.fs\" />\n",
    "        <Compile Include=\"{filePath}\" />\n",
    "    </ItemGroup>\n",
    "\n",
    "    <Import Project=\"{repositoryRoot}/.paket/Paket.Restore.targets\" />\n",
    "</Project>\n",
    "\"\"\"\n",
    "    do! fsprojCode |> FileSystem.writeAllTextAsync fsprojPath\n",
    "\n",
    "    let paketReferencesCode = $\"FSharp.Core\n",
    "\n",
    "Argu\n",
    "FParsec\n",
    "FSharp.Control.AsyncSeq\n",
    "NetMQ\n",
    "System.CommandLine\n",
    "System.Reactive.Linq\n",
    "\"\n",
    "    do! paketReferencesCode |> FileSystem.writeAllTextAsync (targetPath </> \"paket.references\")\n",
    "\n",
    "    return! fsprojPath |> buildProject\n",
    "}"
   ]
  },
  {
   "cell_type": "code",
   "execution_count": null,
   "metadata": {
    "dotnet_interactive": {
     "language": "fsharp"
    },
    "polyglot_notebook": {
     "kernelName": "fsharp"
    }
   },
   "outputs": [
    {
     "name": "stdout",
     "output_type": "stream",
     "text": [
      "00:00:00 #1 [Debug] buildCode / path: C:\\home\\git\\polyglot\\apps\\builder\\target/test / name: test / code.Length: 5\r\n",
      "00:00:00 #2 [Debug] buildProject / fullPath: C:\\home\\git\\polyglot\\apps\\builder\\target\\test\\target\\test.fsproj\r\n",
      "00:00:00 #3 [Debug] executeAsync / options: { Command = \"dotnet build -c Release\"\n",
      "  WorkingDirectory = Some \"C:\\home\\git\\polyglot\\apps\\builder\\target\\test\\target\"\n",
      "  CancellationToken = None\n",
      "  OnLine = None }\r\n",
      "00:00:00 #4 [Debug] > MSBuild version 17.7.0+5785ed5c2 for .NET\r\n",
      "00:00:01 #5 [Debug] >   Determining projects to restore...\r\n",
      "00:00:02 #6 [Debug] >   All projects are up-to-date for restore.\r\n",
      "00:00:02 #7 [Debug] > C:\\Users\\i574n\\scoop\\apps\\dotnet-sdk-preview\\current\\sdk\\8.0.100-preview.6.23330.14\\Sdks\\Microsoft.NET.Sdk\\targets\\Microsoft.NET.RuntimeIdentifierInference.targets(314,5): message NETSDK1057: You are using a preview version of .NET. See: https://aka.ms/dotnet-support-policy [C:\\home\\git\\polyglot\\apps\\builder\\target\\test\\target\\test.fsproj]\r\n",
      "00:00:06 #8 [Debug] > C:\\home\\git\\polyglot\\apps\\builder\\target\\test\\target\\test.fs(1,1): warning FS0020: The result of this expression has type 'int' and is implicitly ignored. Consider using 'ignore' to discard this value explicitly, e.g. 'expr |> ignore', or 'let' to bind the result to a name, e.g. 'let result = expr'. [C:\\home\\git\\polyglot\\apps\\builder\\target\\test\\target\\test.fsproj]\r\n",
      "00:00:08 #9 [Debug] > C:\\home\\git\\polyglot\\apps\\builder\\target\\test\\target\\test.fs(1,6): warning FS0988: Main module of program is empty: nothing will happen when it is run [C:\\home\\git\\polyglot\\apps\\builder\\target\\test\\target\\test.fsproj]\r\n",
      "00:00:09 #10 [Debug] >   test -> C:\\home\\git\\polyglot\\apps\\builder\\target\\test\\target\\bin\\Release\\net8.0\\test.dll\r\n",
      "00:00:09 #11 [Debug] >\r\n",
      "00:00:09 #12 [Debug] > Build succeeded.\r\n",
      "00:00:09 #13 [Debug] >\r\n",
      "00:00:09 #14 [Debug] > C:\\home\\git\\polyglot\\apps\\builder\\target\\test\\target\\test.fs(1,1): warning FS0020: The result of this expression has type 'int' and is implicitly ignored. Consider using 'ignore' to discard this value explicitly, e.g. 'expr |> ignore', or 'let' to bind the result to a name, e.g. 'let result = expr'. [C:\\home\\git\\polyglot\\apps\\builder\\target\\test\\target\\test.fsproj]\r\n",
      "00:00:09 #15 [Debug] > C:\\home\\git\\polyglot\\apps\\builder\\target\\test\\target\\test.fs(1,6): warning FS0988: Main module of program is empty: nothing will happen when it is run [C:\\home\\git\\polyglot\\apps\\builder\\target\\test\\target\\test.fsproj]\r\n",
      "00:00:09 #16 [Debug] >     2 Warning(s)\r\n",
      "00:00:09 #17 [Debug] >     0 Error(s)\r\n",
      "00:00:09 #18 [Debug] >\r\n",
      "00:00:09 #19 [Debug] > Time Elapsed 00:00:08.63\r\n",
      "00:00:09 #20 [Debug] executeAsync / exitCode: 0 / proc.Id: 15124 / output.Length: 1818\r\n",
      "FSharpOption<Int32>\r\n",
      "      Value: 0\r\n"
     ]
    }
   ],
   "source": [
    "//// test\n",
    "\n",
    "let tempFolder = FileSystem.getSourceDirectory () </> \"target/test\"\n",
    "buildCode tempFolder \"test\" \"1 + 1\"\n",
    "|> Async.runWithTimeoutStrict 20000\n",
    "|> _equal (Some 0)"
   ]
  },
  {
   "cell_type": "code",
   "execution_count": null,
   "metadata": {
    "dotnet_interactive": {
     "language": "fsharp"
    },
    "polyglot_notebook": {
     "kernelName": "fsharp"
    }
   },
   "outputs": [
    {
     "name": "stdout",
     "output_type": "stream",
     "text": [
      "00:00:09 #21 [Debug] buildCode / path: C:\\home\\git\\polyglot\\apps\\builder\\target/test / name: test / code.Length: 5\r\n",
      "00:00:09 #22 [Debug] buildProject / fullPath: C:\\home\\git\\polyglot\\apps\\builder\\target\\test\\target\\test.fsproj\r\n",
      "00:00:09 #23 [Debug] executeAsync / options: { Command = \"dotnet build -c Release\"\n",
      "  WorkingDirectory = Some \"C:\\home\\git\\polyglot\\apps\\builder\\target\\test\\target\"\n",
      "  CancellationToken = None\n",
      "  OnLine = None }\r\n",
      "00:00:09 #24 [Debug] > MSBuild version 17.7.0+5785ed5c2 for .NET\r\n",
      "00:00:10 #25 [Debug] >   Determining projects to restore...\r\n",
      "00:00:10 #26 [Debug] >   All projects are up-to-date for restore.\r\n",
      "00:00:10 #27 [Debug] > C:\\Users\\i574n\\scoop\\apps\\dotnet-sdk-preview\\current\\sdk\\8.0.100-preview.6.23330.14\\Sdks\\Microsoft.NET.Sdk\\targets\\Microsoft.NET.RuntimeIdentifierInference.targets(314,5): message NETSDK1057: You are using a preview version of .NET. See: https://aka.ms/dotnet-support-policy [C:\\home\\git\\polyglot\\apps\\builder\\target\\test\\target\\test.fsproj]\r\n",
      "00:00:13 #28 [Debug] > C:\\home\\git\\polyglot\\apps\\builder\\target\\test\\target\\test.fs(1,5): error FS0039: The value or constructor 'a' is not defined. [C:\\home\\git\\polyglot\\apps\\builder\\target\\test\\target\\test.fsproj]\r\n",
      "00:00:13 #29 [Debug] >\r\n",
      "00:00:13 #30 [Debug] > Build FAILED.\r\n",
      "00:00:13 #31 [Debug] >\r\n",
      "00:00:13 #32 [Debug] > C:\\home\\git\\polyglot\\apps\\builder\\target\\test\\target\\test.fs(1,5): error FS0039: The value or constructor 'a' is not defined. [C:\\home\\git\\polyglot\\apps\\builder\\target\\test\\target\\test.fsproj]\r\n",
      "00:00:13 #33 [Debug] >     0 Warning(s)\r\n",
      "00:00:13 #34 [Debug] >     1 Error(s)\r\n",
      "00:00:13 #35 [Debug] >\r\n",
      "00:00:13 #36 [Debug] > Time Elapsed 00:00:03.58\r\n",
      "00:00:13 #37 [Debug] executeAsync / exitCode: 1 / proc.Id: 24836 / output.Length: 935\r\n",
      "FSharpOption<Int32>\r\n",
      "      Value: 1\r\n"
     ]
    }
   ],
   "source": [
    "//// test\n",
    "\n",
    "let tempFolder = FileSystem.getSourceDirectory () </> \"target/test\"\n",
    "buildCode tempFolder \"test\" \"1 + a\"\n",
    "|> Async.runWithTimeoutStrict 20000\n",
    "|> _equal (Some 1)"
   ]
  },
  {
   "cell_type": "markdown",
   "metadata": {},
   "source": [
    "## buildFile"
   ]
  },
  {
   "cell_type": "code",
   "execution_count": null,
   "metadata": {
    "dotnet_interactive": {
     "language": "fsharp"
    },
    "polyglot_notebook": {
     "kernelName": "fsharp"
    }
   },
   "outputs": [],
   "source": [
    "let buildFile path = async {\n",
    "    let fullPath = path |> System.IO.Path.GetFullPath\n",
    "    let dir = fullPath |> System.IO.Path.GetDirectoryName\n",
    "    let fileName = fullPath |> System.IO.Path.GetFileNameWithoutExtension\n",
    "    let! code = fullPath |> FileSystem.readAllTextAsync\n",
    "\n",
    "    return! code |> buildCode dir fileName\n",
    "}"
   ]
  },
  {
   "cell_type": "markdown",
   "metadata": {},
   "source": [
    "## Arguments"
   ]
  },
  {
   "cell_type": "code",
   "execution_count": null,
   "metadata": {
    "dotnet_interactive": {
     "language": "fsharp"
    },
    "polyglot_notebook": {
     "kernelName": "fsharp"
    }
   },
   "outputs": [],
   "source": [
    "[<RequireQualifiedAccess>]\n",
    "type Arguments =\n",
    "    | [<Argu.ArguAttributes.MainCommand; Argu.ArguAttributes.ExactlyOnce; Argu.ArguAttributes.Last>]\n",
    "        Paths of paths : string list\n",
    "\n",
    "    interface Argu.IArgParserTemplate with\n",
    "        member s.Usage =\n",
    "            match s with\n",
    "            | Paths _ -> nameof Arguments.Paths"
   ]
  },
  {
   "cell_type": "markdown",
   "metadata": {},
   "source": [
    "## main"
   ]
  },
  {
   "cell_type": "code",
   "execution_count": null,
   "metadata": {
    "dotnet_interactive": {
     "language": "fsharp"
    },
    "polyglot_notebook": {
     "kernelName": "fsharp"
    }
   },
   "outputs": [],
   "source": [
    "\n",
    "let main args =\n",
    "    let argsMap = args |> Runtime.parseArgsMap<Arguments>\n",
    "\n",
    "    let paths =\n",
    "        match argsMap.[nameof Arguments.Paths] with\n",
    "        | [ Arguments.Paths paths ] -> paths\n",
    "        | _ -> []\n",
    "\n",
    "    paths\n",
    "    |> List.map buildFile\n",
    "    |> Async.Parallel\n",
    "    |> Async.runWithTimeout 30000\n",
    "    |> function\n",
    "        | Some results -> results |> Array.sum\n",
    "        | None -> 1"
   ]
  },
  {
   "cell_type": "code",
   "execution_count": null,
   "metadata": {
    "dotnet_interactive": {
     "language": "fsharp"
    },
    "polyglot_notebook": {
     "kernelName": "fsharp"
    }
   },
   "outputs": [
    {
     "data": {
      "text/html": [
       "<div class=\"dni-plaintext\"><pre>0</pre></div><style>\r\n",
       ".dni-code-hint {\r\n",
       "    font-style: italic;\r\n",
       "    overflow: hidden;\r\n",
       "    white-space: nowrap;\r\n",
       "}\r\n",
       ".dni-treeview {\r\n",
       "    white-space: nowrap;\r\n",
       "}\r\n",
       ".dni-treeview td {\r\n",
       "    vertical-align: top;\r\n",
       "    text-align: start;\r\n",
       "}\r\n",
       "details.dni-treeview {\r\n",
       "    padding-left: 1em;\r\n",
       "}\r\n",
       "table td {\r\n",
       "    text-align: start;\r\n",
       "}\r\n",
       "table tr { \r\n",
       "    vertical-align: top; \r\n",
       "    margin: 0em 0px;\r\n",
       "}\r\n",
       "table tr td pre \r\n",
       "{ \r\n",
       "    vertical-align: top !important; \r\n",
       "    margin: 0em 0px !important;\r\n",
       "} \r\n",
       "table th {\r\n",
       "    text-align: start;\r\n",
       "}\r\n",
       "</style>"
      ]
     },
     "metadata": {},
     "output_type": "display_data"
    },
    {
     "name": "stdout",
     "output_type": "stream",
     "text": [
      "00:00:13 #38 [Debug] buildCode / path: C:\\home\\git\\polyglot\\apps\\builder / name: Builder / code.Length: 4014\r\n",
      "00:00:13 #39 [Debug] buildProject / fullPath: C:\\home\\git\\polyglot\\apps\\builder\\target\\Builder.fsproj\r\n",
      "00:00:13 #40 [Debug] executeAsync / options: { Command = \"dotnet build -c Release\"\n",
      "  WorkingDirectory = Some \"C:\\home\\git\\polyglot\\apps\\builder\\target\"\n",
      "  CancellationToken = None\n",
      "  OnLine = None }\r\n",
      "00:00:13 #41 [Debug] > MSBuild version 17.7.0+5785ed5c2 for .NET\r\n",
      "00:00:14 #42 [Debug] >   Determining projects to restore...\r\n",
      "00:00:15 #43 [Debug] >   All projects are up-to-date for restore.\r\n",
      "00:00:15 #44 [Debug] > C:\\Users\\i574n\\scoop\\apps\\dotnet-sdk-preview\\current\\sdk\\8.0.100-preview.6.23330.14\\Sdks\\Microsoft.NET.Sdk\\targets\\Microsoft.NET.RuntimeIdentifierInference.targets(314,5): message NETSDK1057: You are using a preview version of .NET. See: https://aka.ms/dotnet-support-policy [C:\\home\\git\\polyglot\\apps\\builder\\target\\Builder.fsproj]\r\n",
      "00:00:20 #45 [Debug] >   Builder -> C:\\home\\git\\polyglot\\apps\\builder\\target\\bin\\Release\\net8.0\\Builder.dll\r\n",
      "00:00:20 #46 [Debug] >\r\n",
      "00:00:20 #47 [Debug] > Build succeeded.\r\n",
      "00:00:20 #48 [Debug] >     0 Warning(s)\r\n",
      "00:00:20 #49 [Debug] >     0 Error(s)\r\n",
      "00:00:20 #50 [Debug] >\r\n",
      "00:00:20 #51 [Debug] > Time Elapsed 00:00:06.27\r\n",
      "00:00:20 #52 [Debug] executeAsync / exitCode: 0 / proc.Id: 25332 / output.Length: 625\r\n"
     ]
    }
   ],
   "source": [
    "//// test\n",
    "\n",
    "let args =\n",
    "    System.Environment.GetEnvironmentVariable \"ARGS\"\n",
    "    |> Runtime.splitArgs\n",
    "    |> Seq.toArray\n",
    "\n",
    "match args with\n",
    "| [||] -> 0\n",
    "| args -> if main args = 0 then 0 else failwith \"main failed\""
   ]
  }
 ],
 "metadata": {
  "kernelspec": {
   "display_name": ".NET (C#)",
   "language": "C#",
   "name": ".net-csharp"
  },
  "language_info": {
   "file_extension": ".cs",
   "mimetype": "text/x-csharp",
   "name": "C#",
   "pygments_lexer": "csharp",
   "version": "10.0"
  },
  "polyglot_notebook": {
   "defaultKernelName": "csharp",
   "items": [
    {
     "name": "csharp"
    }
   ]
  },
  "dotnet_interactive": {
   "defaultKernelName": "csharp",
   "items": [
    {
     "name": "csharp"
    }
   ]
  }
 },
 "nbformat": 4,
 "nbformat_minor": 5
}