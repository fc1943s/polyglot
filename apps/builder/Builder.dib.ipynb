{
 "cells": [
  {
   "cell_type": "markdown",
   "metadata": {},
   "source": [
    "# Builder (Polyglot)"
   ]
  },
  {
   "cell_type": "code",
   "execution_count": null,
   "metadata": {
    "dotnet_interactive": {
     "language": "fsharp"
    },
    "polyglot_notebook": {
     "kernelName": "fsharp"
    }
   },
   "outputs": [],
   "source": [
    "#!import ../nbs/Testing.dib"
   ]
  },
  {
   "cell_type": "code",
   "execution_count": null,
   "metadata": {
    "dotnet_interactive": {
     "language": "fsharp"
    },
    "polyglot_notebook": {
     "kernelName": "fsharp"
    }
   },
   "outputs": [],
   "source": [
    "#r @\"../../../../../../../.nuget/packages/fsharp.control.asyncseq/3.2.1/lib/netstandard2.1/FSharp.Control.AsyncSeq.dll\"\n",
    "#r @\"../../../../../../../.nuget/packages/system.reactive/6.0.1-preview.1/lib/net6.0/System.Reactive.dll\"\n",
    "#r @\"../../../../../../../.nuget/packages/system.reactive.linq/6.0.1-preview.1/lib/netstandard2.0/System.Reactive.Linq.dll\"\n",
    "#r @\"../../../../../../../.nuget/packages/argu/6.1.1/lib/netstandard2.0/Argu.dll\"\n",
    "#r @\"../../../../../../../.nuget/packages/system.commandline/2.0.0-beta4.22272.1/lib/net6.0/System.CommandLine.dll\""
   ]
  },
  {
   "cell_type": "code",
   "execution_count": null,
   "metadata": {
    "dotnet_interactive": {
     "language": "fsharp"
    },
    "polyglot_notebook": {
     "kernelName": "fsharp"
    }
   },
   "outputs": [],
   "source": [
    "#!import ../nbs/Common.fs\n",
    "#!import ../nbs/CommonFSharp.fs\n",
    "#!import ../nbs/Async.fs\n",
    "#!import ../nbs/AsyncSeq.fs\n",
    "#!import ../nbs/Networking.fs\n",
    "#!import ../nbs/Runtime.fs\n",
    "#!import ../nbs/FileSystem.fs"
   ]
  },
  {
   "cell_type": "code",
   "execution_count": null,
   "metadata": {
    "dotnet_interactive": {
     "language": "fsharp"
    },
    "polyglot_notebook": {
     "kernelName": "fsharp"
    }
   },
   "outputs": [],
   "source": [
    "open Common\n",
    "open FileSystem.Operators"
   ]
  },
  {
   "cell_type": "markdown",
   "metadata": {},
   "source": [
    "## buildProject"
   ]
  },
  {
   "cell_type": "code",
   "execution_count": null,
   "metadata": {
    "dotnet_interactive": {
     "language": "fsharp"
    },
    "polyglot_notebook": {
     "kernelName": "fsharp"
    }
   },
   "outputs": [],
   "source": [
    "let inline buildProject runtime path = async {\n",
    "    let fullPath = path |> System.IO.Path.GetFullPath\n",
    "    let fileDir = fullPath |> System.IO.Path.GetDirectoryName\n",
    "    let extension = fullPath |> System.IO.Path.GetExtension\n",
    "\n",
    "    let getLocals () = $\"fullPath: {fullPath} / {getLocals ()}\"\n",
    "    trace Debug (fun () -> \"buildProject\") getLocals\n",
    "\n",
    "    match extension with\n",
    "    | \".fsproj\" -> ()\n",
    "    | _ -> failwith \"Invalid project file\"\n",
    "\n",
    "    let runtimes =\n",
    "        runtime\n",
    "        |> Option.map List.singleton\n",
    "        |> Option.defaultValue [ \"linux-x64\"; \"win-x64\" ]\n",
    "\n",
    "    return!\n",
    "        runtimes\n",
    "        |> List.map (fun runtime -> async {\n",
    "            let! exitCode, _result =\n",
    "                Runtime.executeWithOptionsAsync\n",
    "                    {\n",
    "                        Command = $\"dotnet publish -c release -o ../dist -r {runtime}\"\n",
    "                        CancellationToken = None\n",
    "                        OnLine = None\n",
    "                        WorkingDirectory = Some fileDir\n",
    "                    }\n",
    "\n",
    "            return exitCode\n",
    "        })\n",
    "        |> Async.Sequential\n",
    "        |> Async.map Array.sum\n",
    "}"
   ]
  },
  {
   "cell_type": "markdown",
   "metadata": {},
   "source": [
    "## persistCodeProject"
   ]
  },
  {
   "cell_type": "code",
   "execution_count": null,
   "metadata": {
    "dotnet_interactive": {
     "language": "fsharp"
    },
    "polyglot_notebook": {
     "kernelName": "fsharp"
    }
   },
   "outputs": [],
   "source": [
    "let inline persistCodeProject packages modules path name code = async {\n",
    "    let getLocals () = $\"packages: {packages} / modules: {modules} / path: {path} / name: {name} / code.Length: {code |> String.length} / {getLocals ()}\"\n",
    "    trace Debug (fun () -> \"persistCodeProject\") getLocals\n",
    "\n",
    "    let targetPath = path </> \"target\"\n",
    "    System.IO.Directory.CreateDirectory targetPath |> ignore\n",
    "\n",
    "    let filePath = targetPath </> $\"{name}.fs\" |> System.IO.Path.GetFullPath\n",
    "    do! code |> FileSystem.writeAllTextExists filePath\n",
    "\n",
    "    let repositoryRoot = FileSystem.getSourceDirectory () |> FileSystem.findParent \".paket\" false\n",
    "\n",
    "    let modulesCode =\n",
    "        modules\n",
    "        |> List.map (fun path -> $\"\"\"<Compile Include=\"{repositoryRoot </> path}\" />\"\"\")\n",
    "        |> String.concat \"\\n        \"\n",
    "\n",
    "    let fsprojPath = targetPath </> $\"{name}.fsproj\"\n",
    "    let fsprojCode = $\"\"\"<Project Sdk=\"Microsoft.NET.Sdk\">\n",
    "    <PropertyGroup>\n",
    "        <TargetFramework>net8.0</TargetFramework>\n",
    "        <LangVersion>preview</LangVersion>\n",
    "        <RollForward>Major</RollForward>\n",
    "        <TargetLatestRuntimePatch>true</TargetLatestRuntimePatch>\n",
    "        <PublishAot>false</PublishAot>\n",
    "        <PublishTrimmed>false</PublishTrimmed>\n",
    "        <PublishSingleFile>true</PublishSingleFile>\n",
    "        <SelfContained>true</SelfContained>\n",
    "        <Version>0.0.1-alpha.1</Version>\n",
    "        <OutputType>Exe</OutputType>\n",
    "    </PropertyGroup>\n",
    "\n",
    "    <ItemGroup>\n",
    "        {modulesCode}\n",
    "        <Compile Include=\"{filePath}\" />\n",
    "    </ItemGroup>\n",
    "\n",
    "    <Import Project=\"{repositoryRoot}/.paket/Paket.Restore.targets\" />\n",
    "</Project>\n",
    "\"\"\"\n",
    "    do! fsprojCode |> FileSystem.writeAllTextExists fsprojPath\n",
    "\n",
    "    let paketReferencesPath = targetPath </> \"paket.references\"\n",
    "    let paketReferencesCode =\n",
    "        \"FSharp.Core\" :: packages\n",
    "        |> String.concat \"\\n\"\n",
    "    do! paketReferencesCode |> FileSystem.writeAllTextExists paketReferencesPath\n",
    "\n",
    "    return fsprojPath\n",
    "}"
   ]
  },
  {
   "cell_type": "markdown",
   "metadata": {},
   "source": [
    "## buildCode"
   ]
  },
  {
   "cell_type": "code",
   "execution_count": null,
   "metadata": {
    "dotnet_interactive": {
     "language": "fsharp"
    },
    "polyglot_notebook": {
     "kernelName": "fsharp"
    }
   },
   "outputs": [],
   "source": [
    "let inline buildCode runtime packages modules path name code = async {\n",
    "    let! fsprojPath = persistCodeProject packages modules path name code\n",
    "    return! fsprojPath |> buildProject runtime\n",
    "}"
   ]
  },
  {
   "cell_type": "code",
   "execution_count": null,
   "metadata": {
    "dotnet_interactive": {
     "language": "fsharp"
    },
    "polyglot_notebook": {
     "kernelName": "fsharp"
    }
   },
   "outputs": [
    {
     "name": "stdout",
     "output_type": "stream",
     "text": [
      "00:00:00 #1 [Debug] persistCodeProject / packages: [] / modules: [] / path: C:\\home\\git\\polyglot\\apps\\builder\\target/test / name: test / code.Length: 5\r\n",
      "00:00:00 #2 [Debug] buildProject / fullPath: C:\\home\\git\\polyglot\\apps\\builder\\target\\test\\target\\test.fsproj\r\n",
      "00:00:00 #3 [Debug] executeAsync / options: { Command = \"dotnet publish -c release -o ../dist -r linux-x64\"\n",
      "  WorkingDirectory = Some \"C:\\home\\git\\polyglot\\apps\\builder\\target\\test\\target\"\n",
      "  CancellationToken = None\n",
      "  OnLine = None }\r\n",
      "00:00:00 #4 [Debug] > MSBuild version 17.8.0-preview-23418-03+0125fc9fb for .NET\r\n",
      "00:00:00 #5 [Debug] >   Determining projects to restore...\r\n",
      "00:00:03 #6 [Debug] >   Restored C:\\home\\git\\polyglot\\apps\\builder\\target\\test\\target\\test.fsproj (in 1.81 sec).\r\n",
      "00:00:03 #7 [Debug] > C:\\Users\\i574n\\scoop\\apps\\dotnet-sdk-preview\\current\\sdk\\8.0.100-preview.7.23376.3\\Sdks\\Microsoft.NET.Sdk\\targets\\Microsoft.NET.RuntimeIdentifierInference.targets(314,5): message NETSDK1057: You are using a preview version of .NET. See: https://aka.ms/dotnet-support-policy [C:\\home\\git\\polyglot\\apps\\builder\\target\\test\\target\\test.fsproj]\r\n",
      "00:00:04 #8 [Debug] > C:\\home\\git\\polyglot\\apps\\builder\\target\\test\\target\\test.fs(1,1): warning FS0020: The result of this expression has type 'int' and is implicitly ignored. Consider using 'ignore' to discard this value explicitly, e.g. 'expr |> ignore', or 'let' to bind the result to a name, e.g. 'let result = expr'. [C:\\home\\git\\polyglot\\apps\\builder\\target\\test\\target\\test.fsproj]\r\n",
      "00:00:04 #9 [Debug] > C:\\home\\git\\polyglot\\apps\\builder\\target\\test\\target\\test.fs(1,6): warning FS0988: Main module of program is empty: nothing will happen when it is run [C:\\home\\git\\polyglot\\apps\\builder\\target\\test\\target\\test.fsproj]\r\n",
      "00:00:05 #10 [Debug] >   test -> C:\\home\\git\\polyglot\\apps\\builder\\target\\test\\target\\bin\\release\\net8.0\\linux-x64\\test.dll\r\n",
      "00:00:06 #11 [Debug] >   test -> C:\\home\\git\\polyglot\\apps\\builder\\target\\test\\dist\\\r\n",
      "00:00:06 #12 [Debug] executeAsync / exitCode: 0 / proc.Id: 38864 / output.Length: 1276\r\n",
      "00:00:06 #13 [Debug] executeAsync / options: { Command = \"dotnet publish -c release -o ../dist -r win-x64\"\n",
      "  WorkingDirectory = Some \"C:\\home\\git\\polyglot\\apps\\builder\\target\\test\\target\"\n",
      "  CancellationToken = None\n",
      "  OnLine = None }\r\n",
      "00:00:06 #14 [Debug] > MSBuild version 17.8.0-preview-23418-03+0125fc9fb for .NET\r\n",
      "00:00:07 #15 [Debug] >   Determining projects to restore...\r\n",
      "00:00:07 #16 [Debug] >   Restored C:\\home\\git\\polyglot\\apps\\builder\\target\\test\\target\\test.fsproj (in 318 ms).\r\n",
      "00:00:08 #17 [Debug] > C:\\Users\\i574n\\scoop\\apps\\dotnet-sdk-preview\\current\\sdk\\8.0.100-preview.7.23376.3\\Sdks\\Microsoft.NET.Sdk\\targets\\Microsoft.NET.RuntimeIdentifierInference.targets(314,5): message NETSDK1057: You are using a preview version of .NET. See: https://aka.ms/dotnet-support-policy [C:\\home\\git\\polyglot\\apps\\builder\\target\\test\\target\\test.fsproj]\r\n",
      "00:00:09 #18 [Debug] > C:\\home\\git\\polyglot\\apps\\builder\\target\\test\\target\\test.fs(1,1): warning FS0020: The result of this expression has type 'int' and is implicitly ignored. Consider using 'ignore' to discard this value explicitly, e.g. 'expr |> ignore', or 'let' to bind the result to a name, e.g. 'let result = expr'. [C:\\home\\git\\polyglot\\apps\\builder\\target\\test\\target\\test.fsproj]\r\n",
      "00:00:09 #19 [Debug] > C:\\home\\git\\polyglot\\apps\\builder\\target\\test\\target\\test.fs(1,6): warning FS0988: Main module of program is empty: nothing will happen when it is run [C:\\home\\git\\polyglot\\apps\\builder\\target\\test\\target\\test.fsproj]\r\n",
      "00:00:10 #20 [Debug] >   test -> C:\\home\\git\\polyglot\\apps\\builder\\target\\test\\target\\bin\\release\\net8.0\\win-x64\\test.dll\r\n",
      "00:00:12 #21 [Debug] >   test -> C:\\home\\git\\polyglot\\apps\\builder\\target\\test\\dist\\\r\n",
      "00:00:12 #22 [Debug] executeAsync / exitCode: 0 / proc.Id: 15632 / output.Length: 1272\r\n",
      "FSharpOption<Int32>\r\n",
      "      Value: 0\r\n"
     ]
    }
   ],
   "source": [
    "//// test\n",
    "\n",
    "let tempFolder = FileSystem.getSourceDirectory () </> \"target/test\"\n",
    "\n",
    "\"1 + 1\"\n",
    "|> buildCode None [] [] tempFolder \"test\"\n",
    "|> Async.runWithTimeout 60000\n",
    "|> _equal (Some 0)"
   ]
  },
  {
   "cell_type": "code",
   "execution_count": null,
   "metadata": {
    "dotnet_interactive": {
     "language": "fsharp"
    },
    "polyglot_notebook": {
     "kernelName": "fsharp"
    }
   },
   "outputs": [
    {
     "name": "stdout",
     "output_type": "stream",
     "text": [
      "00:00:13 #23 [Debug] persistCodeProject / packages: [] / modules: [] / path: C:\\home\\git\\polyglot\\apps\\builder\\target/test / name: test / code.Length: 5\r\n",
      "00:00:13 #24 [Debug] buildProject / fullPath: C:\\home\\git\\polyglot\\apps\\builder\\target\\test\\target\\test.fsproj\r\n",
      "00:00:13 #25 [Debug] executeAsync / options: { Command = \"dotnet publish -c release -o ../dist -r linux-x64\"\n",
      "  WorkingDirectory = Some \"C:\\home\\git\\polyglot\\apps\\builder\\target\\test\\target\"\n",
      "  CancellationToken = None\n",
      "  OnLine = None }\r\n",
      "00:00:13 #26 [Debug] > MSBuild version 17.8.0-preview-23418-03+0125fc9fb for .NET\r\n",
      "00:00:14 #27 [Debug] >   Determining projects to restore...\r\n",
      "00:00:14 #28 [Debug] >   Restored C:\\home\\git\\polyglot\\apps\\builder\\target\\test\\target\\test.fsproj (in 324 ms).\r\n",
      "00:00:15 #29 [Debug] > C:\\Users\\i574n\\scoop\\apps\\dotnet-sdk-preview\\current\\sdk\\8.0.100-preview.7.23376.3\\Sdks\\Microsoft.NET.Sdk\\targets\\Microsoft.NET.RuntimeIdentifierInference.targets(314,5): message NETSDK1057: You are using a preview version of .NET. See: https://aka.ms/dotnet-support-policy [C:\\home\\git\\polyglot\\apps\\builder\\target\\test\\target\\test.fsproj]\r\n",
      "00:00:16 #30 [Debug] > C:\\home\\git\\polyglot\\apps\\builder\\target\\test\\target\\test.fs(1,5): error FS0039: The value or constructor 'a' is not defined. [C:\\home\\git\\polyglot\\apps\\builder\\target\\test\\target\\test.fsproj]\r\n",
      "00:00:16 #31 [Debug] executeAsync / exitCode: 1 / proc.Id: 27236 / output.Length: 718\r\n",
      "00:00:16 #32 [Debug] executeAsync / options: { Command = \"dotnet publish -c release -o ../dist -r win-x64\"\n",
      "  WorkingDirectory = Some \"C:\\home\\git\\polyglot\\apps\\builder\\target\\test\\target\"\n",
      "  CancellationToken = None\n",
      "  OnLine = None }\r\n",
      "00:00:16 #33 [Debug] > MSBuild version 17.8.0-preview-23418-03+0125fc9fb for .NET\r\n",
      "00:00:17 #34 [Debug] >   Determining projects to restore...\r\n",
      "00:00:17 #35 [Debug] >   Restored C:\\home\\git\\polyglot\\apps\\builder\\target\\test\\target\\test.fsproj (in 319 ms).\r\n",
      "00:00:18 #36 [Debug] > C:\\Users\\i574n\\scoop\\apps\\dotnet-sdk-preview\\current\\sdk\\8.0.100-preview.7.23376.3\\Sdks\\Microsoft.NET.Sdk\\targets\\Microsoft.NET.RuntimeIdentifierInference.targets(314,5): message NETSDK1057: You are using a preview version of .NET. See: https://aka.ms/dotnet-support-policy [C:\\home\\git\\polyglot\\apps\\builder\\target\\test\\target\\test.fsproj]\r\n",
      "00:00:19 #37 [Debug] > C:\\home\\git\\polyglot\\apps\\builder\\target\\test\\target\\test.fs(1,5): error FS0039: The value or constructor 'a' is not defined. [C:\\home\\git\\polyglot\\apps\\builder\\target\\test\\target\\test.fsproj]\r\n",
      "00:00:19 #38 [Debug] executeAsync / exitCode: 1 / proc.Id: 45160 / output.Length: 718\r\n",
      "FSharpOption<Int32>\r\n",
      "      Value: 2\r\n"
     ]
    }
   ],
   "source": [
    "//// test\n",
    "\n",
    "let tempFolder = FileSystem.getSourceDirectory () </> \"target/test\"\n",
    "\n",
    "\"1 + a\"\n",
    "|> buildCode None [] [] tempFolder \"test\"\n",
    "|> Async.runWithTimeout 60000\n",
    "|> _equal (Some 2)"
   ]
  },
  {
   "cell_type": "markdown",
   "metadata": {},
   "source": [
    "## buildFile"
   ]
  },
  {
   "cell_type": "code",
   "execution_count": null,
   "metadata": {
    "dotnet_interactive": {
     "language": "fsharp"
    },
    "polyglot_notebook": {
     "kernelName": "fsharp"
    }
   },
   "outputs": [],
   "source": [
    "let inline buildFile runtime packages modules path = async {\n",
    "    let fullPath = path |> System.IO.Path.GetFullPath\n",
    "    let dir = fullPath |> System.IO.Path.GetDirectoryName\n",
    "    let fileName = fullPath |> System.IO.Path.GetFileNameWithoutExtension\n",
    "    let! code = fullPath |> FileSystem.readAllTextAsync\n",
    "\n",
    "    let code = System.Text.RegularExpressions.Regex.Replace (\n",
    "        code,\n",
    "        @\"( *)(let\\s+main\\s+.*?\\s*=)\",\n",
    "        fun m -> m.Groups.[1].Value + \"[<EntryPoint>]\\n\" + m.Groups.[1].Value + m.Groups.[2].Value\n",
    "    )\n",
    "\n",
    "    return! code |> buildCode runtime packages modules dir fileName\n",
    "}"
   ]
  },
  {
   "cell_type": "markdown",
   "metadata": {},
   "source": [
    "## Arguments"
   ]
  },
  {
   "cell_type": "code",
   "execution_count": null,
   "metadata": {
    "dotnet_interactive": {
     "language": "fsharp"
    },
    "polyglot_notebook": {
     "kernelName": "fsharp"
    }
   },
   "outputs": [],
   "source": [
    "[<RequireQualifiedAccess>]\n",
    "type Arguments =\n",
    "    | [<Argu.ArguAttributes.MainCommand; Argu.ArguAttributes.ExactlyOnce>] Path of path : string\n",
    "    | [<Argu.ArguAttributes.Unique>] Packages of packages : string list\n",
    "    | [<Argu.ArguAttributes.Unique>] Modules of modules : string list\n",
    "    | [<Argu.ArguAttributes.Unique>] Runtime of runtime : string\n",
    "\n",
    "    interface Argu.IArgParserTemplate with\n",
    "        member s.Usage =\n",
    "            match s with\n",
    "            | Path _ -> nameof Arguments.Path\n",
    "            | Packages _ -> nameof Arguments.Packages\n",
    "            | Modules _ -> nameof Arguments.Modules\n",
    "            | Runtime _ -> nameof Arguments.Runtime"
   ]
  },
  {
   "cell_type": "markdown",
   "metadata": {},
   "source": [
    "## main"
   ]
  },
  {
   "cell_type": "code",
   "execution_count": null,
   "metadata": {
    "dotnet_interactive": {
     "language": "fsharp"
    },
    "polyglot_notebook": {
     "kernelName": "fsharp"
    }
   },
   "outputs": [],
   "source": [
    "let main args =\n",
    "    let argsMap = args |> Runtime.parseArgsMap<Arguments>\n",
    "\n",
    "    let path =\n",
    "        match argsMap.[nameof Arguments.Path] with\n",
    "        | [ Arguments.Path path ] -> Some path\n",
    "        | _ -> None\n",
    "        |> Option.get\n",
    "\n",
    "    let packages =\n",
    "        match argsMap |> Map.tryFind (nameof Arguments.Packages) with\n",
    "        | Some [ Arguments.Packages packages ] -> packages\n",
    "        | _ -> []\n",
    "\n",
    "    let modules =\n",
    "        match argsMap |> Map.tryFind (nameof Arguments.Modules) with\n",
    "        | Some [ Arguments.Modules modules ] -> modules\n",
    "        | _ -> []\n",
    "\n",
    "    let runtime =\n",
    "        match argsMap |> Map.tryFind (nameof Arguments.Runtime) with\n",
    "        | Some [ Arguments.Runtime runtime ] -> Some runtime\n",
    "        | _ -> None\n",
    "\n",
    "    path\n",
    "    |> buildFile runtime packages modules\n",
    "    |> Async.runWithTimeout 60000\n",
    "    |> function\n",
    "        | Some exitCode -> exitCode\n",
    "        | None -> 1"
   ]
  },
  {
   "cell_type": "code",
   "execution_count": null,
   "metadata": {
    "dotnet_interactive": {
     "language": "fsharp"
    },
    "polyglot_notebook": {
     "kernelName": "fsharp"
    }
   },
   "outputs": [
    {
     "data": {
      "text/html": [
       "<div class=\"dni-plaintext\"><pre>0</pre></div><style>\r\n",
       ".dni-code-hint {\r\n",
       "    font-style: italic;\r\n",
       "    overflow: hidden;\r\n",
       "    white-space: nowrap;\r\n",
       "}\r\n",
       ".dni-treeview {\r\n",
       "    white-space: nowrap;\r\n",
       "}\r\n",
       ".dni-treeview td {\r\n",
       "    vertical-align: top;\r\n",
       "    text-align: start;\r\n",
       "}\r\n",
       "details.dni-treeview {\r\n",
       "    padding-left: 1em;\r\n",
       "}\r\n",
       "table td {\r\n",
       "    text-align: start;\r\n",
       "}\r\n",
       "table tr { \r\n",
       "    vertical-align: top; \r\n",
       "    margin: 0em 0px;\r\n",
       "}\r\n",
       "table tr td pre \r\n",
       "{ \r\n",
       "    vertical-align: top !important; \r\n",
       "    margin: 0em 0px !important;\r\n",
       "} \r\n",
       "table th {\r\n",
       "    text-align: start;\r\n",
       "}\r\n",
       "</style>"
      ]
     },
     "metadata": {},
     "output_type": "display_data"
    },
    {
     "name": "stdout",
     "output_type": "stream",
     "text": [
      "00:00:20 #39 [Debug] persistCodeProject / packages: [Argu; FSharp.Control.AsyncSeq; System.CommandLine; ... ] / modules: [nbs/Common.fs; nbs/CommonFSharp.fs; nbs/Async.fs; ... ] / path: C:\\home\\git\\polyglot\\apps\\builder / name: Builder / code.Length: 6019\r\n",
      "00:00:20 #40 [Debug] buildProject / fullPath: C:\\home\\git\\polyglot\\apps\\builder\\target\\Builder.fsproj\r\n",
      "00:00:20 #41 [Debug] executeAsync / options: { Command = \"dotnet publish -c release -o ../dist -r linux-x64\"\n",
      "  WorkingDirectory = Some \"C:\\home\\git\\polyglot\\apps\\builder\\target\"\n",
      "  CancellationToken = None\n",
      "  OnLine = None }\r\n",
      "00:00:21 #42 [Debug] > MSBuild version 17.8.0-preview-23418-03+0125fc9fb for .NET\r\n",
      "00:00:21 #43 [Debug] >   Determining projects to restore...\r\n",
      "00:00:22 #44 [Debug] >   Restored C:\\home\\git\\polyglot\\apps\\builder\\target\\Builder.fsproj (in 442 ms).\r\n",
      "00:00:22 #45 [Debug] > C:\\Users\\i574n\\scoop\\apps\\dotnet-sdk-preview\\current\\sdk\\8.0.100-preview.7.23376.3\\Sdks\\Microsoft.NET.Sdk\\targets\\Microsoft.NET.RuntimeIdentifierInference.targets(314,5): message NETSDK1057: You are using a preview version of .NET. See: https://aka.ms/dotnet-support-policy [C:\\home\\git\\polyglot\\apps\\builder\\target\\Builder.fsproj]\r\n",
      "00:00:28 #46 [Debug] >   Builder -> C:\\home\\git\\polyglot\\apps\\builder\\target\\bin\\release\\net8.0\\linux-x64\\Builder.dll\r\n",
      "00:00:30 #47 [Debug] >   Builder -> C:\\home\\git\\polyglot\\apps\\builder\\dist\\\r\n",
      "00:00:30 #48 [Debug] executeAsync / exitCode: 0 / proc.Id: 37196 / output.Length: 655\r\n",
      "00:00:30 #49 [Debug] executeAsync / options: { Command = \"dotnet publish -c release -o ../dist -r win-x64\"\n",
      "  WorkingDirectory = Some \"C:\\home\\git\\polyglot\\apps\\builder\\target\"\n",
      "  CancellationToken = None\n",
      "  OnLine = None }\r\n",
      "00:00:30 #50 [Debug] > MSBuild version 17.8.0-preview-23418-03+0125fc9fb for .NET\r\n",
      "00:00:31 #51 [Debug] >   Determining projects to restore...\r\n",
      "00:00:31 #52 [Debug] >   Restored C:\\home\\git\\polyglot\\apps\\builder\\target\\Builder.fsproj (in 407 ms).\r\n",
      "00:00:32 #53 [Debug] > C:\\Users\\i574n\\scoop\\apps\\dotnet-sdk-preview\\current\\sdk\\8.0.100-preview.7.23376.3\\Sdks\\Microsoft.NET.Sdk\\targets\\Microsoft.NET.RuntimeIdentifierInference.targets(314,5): message NETSDK1057: You are using a preview version of .NET. See: https://aka.ms/dotnet-support-policy [C:\\home\\git\\polyglot\\apps\\builder\\target\\Builder.fsproj]\r\n",
      "00:00:37 #54 [Debug] >   Builder -> C:\\home\\git\\polyglot\\apps\\builder\\target\\bin\\release\\net8.0\\win-x64\\Builder.dll\r\n",
      "00:00:41 #55 [Debug] >   Builder -> C:\\home\\git\\polyglot\\apps\\builder\\dist\\\r\n",
      "00:00:41 #56 [Debug] executeAsync / exitCode: 0 / proc.Id: 42868 / output.Length: 653\r\n"
     ]
    }
   ],
   "source": [
    "//// test\n",
    "\n",
    "let args =\n",
    "    System.Environment.GetEnvironmentVariable \"ARGS\"\n",
    "    |> Runtime.splitArgs\n",
    "    |> Seq.toArray\n",
    "\n",
    "match args with\n",
    "| [||] -> 0\n",
    "| args -> if main args = 0 then 0 else failwith \"main failed\""
   ]
  }
 ],
 "metadata": {},
 "nbformat": 4,
 "nbformat_minor": 5
}