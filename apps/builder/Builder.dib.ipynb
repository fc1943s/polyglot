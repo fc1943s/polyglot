{
 "cells": [
  {
   "cell_type": "markdown",
   "metadata": {},
   "source": [
    "# Builder (Polyglot)"
   ]
  },
  {
   "cell_type": "code",
   "execution_count": null,
   "metadata": {
    "dotnet_interactive": {
     "language": "fsharp"
    },
    "polyglot_notebook": {
     "kernelName": "fsharp"
    }
   },
   "outputs": [],
   "source": [
    "#!import ../../lib/fsharp/Testing.dib"
   ]
  },
  {
   "cell_type": "code",
   "execution_count": null,
   "metadata": {
    "dotnet_interactive": {
     "language": "fsharp"
    },
    "polyglot_notebook": {
     "kernelName": "fsharp"
    }
   },
   "outputs": [],
   "source": [
    "#r @\"../../../../../../../.nuget/packages/fsharp.control.asyncseq/3.2.1/lib/netstandard2.1/FSharp.Control.AsyncSeq.dll\"\n",
    "#r @\"../../../../../../../.nuget/packages/system.reactive/6.0.1-preview.1/lib/net6.0/System.Reactive.dll\"\n",
    "#r @\"../../../../../../../.nuget/packages/system.reactive.linq/6.0.1-preview.1/lib/netstandard2.0/System.Reactive.Linq.dll\"\n",
    "#r @\"../../../../../../../.nuget/packages/argu/6.1.1/lib/netstandard2.0/Argu.dll\"\n",
    "#r @\"../../../../../../../.nuget/packages/system.commandline/2.0.0-beta4.22272.1/lib/net6.0/System.CommandLine.dll\""
   ]
  },
  {
   "cell_type": "code",
   "execution_count": null,
   "metadata": {
    "dotnet_interactive": {
     "language": "fsharp"
    },
    "polyglot_notebook": {
     "kernelName": "fsharp"
    }
   },
   "outputs": [],
   "source": [
    "#!import ../../lib/fsharp/Common.fs\n",
    "#!import ../../lib/fsharp/CommonFSharp.fs\n",
    "#!import ../../lib/fsharp/Async.fs\n",
    "#!import ../../lib/fsharp/AsyncSeq.fs\n",
    "#!import ../../lib/fsharp/Networking.fs\n",
    "#!import ../../lib/fsharp/Runtime.fs\n",
    "#!import ../../lib/fsharp/FileSystem.fs"
   ]
  },
  {
   "cell_type": "code",
   "execution_count": null,
   "metadata": {
    "dotnet_interactive": {
     "language": "fsharp"
    },
    "polyglot_notebook": {
     "kernelName": "fsharp"
    }
   },
   "outputs": [],
   "source": [
    "open Common\n",
    "open FileSystem.Operators"
   ]
  },
  {
   "cell_type": "markdown",
   "metadata": {},
   "source": [
    "## buildProject"
   ]
  },
  {
   "cell_type": "code",
   "execution_count": null,
   "metadata": {
    "dotnet_interactive": {
     "language": "fsharp"
    },
    "polyglot_notebook": {
     "kernelName": "fsharp"
    }
   },
   "outputs": [],
   "source": [
    "let inline buildProject runtime outputDir path = async {\n",
    "    let fullPath = path |> System.IO.Path.GetFullPath\n",
    "    let fileDir = fullPath |> System.IO.Path.GetDirectoryName\n",
    "    let extension = fullPath |> System.IO.Path.GetExtension\n",
    "\n",
    "    let getLocals () = $\"fullPath: {fullPath} / {getLocals ()}\"\n",
    "    trace Debug (fun () -> \"buildProject\") getLocals\n",
    "\n",
    "    match extension with\n",
    "    | \".fsproj\" -> ()\n",
    "    | _ -> failwith \"Invalid project file\"\n",
    "\n",
    "    let runtimes =\n",
    "        runtime\n",
    "        |> Option.map List.singleton\n",
    "        |> Option.defaultValue [ \"linux-x64\"; \"win-x64\" ]\n",
    "    \n",
    "    let outputDir = outputDir |> Option.defaultValue \"dist\"\n",
    "\n",
    "    return!\n",
    "        runtimes\n",
    "        |> List.map (fun runtime -> async {\n",
    "            let! exitCode, _result =\n",
    "                Runtime.executeWithOptionsAsync\n",
    "                    {\n",
    "                        Command = $@\"dotnet publish \"\"{path}\"\" --configuration Release --output \"\"{outputDir}\"\" --runtime {runtime}\"\n",
    "                        CancellationToken = None\n",
    "                        OnLine = None\n",
    "                        WorkingDirectory = Some fileDir\n",
    "                    }\n",
    "\n",
    "            return exitCode\n",
    "        })\n",
    "        |> Async.Sequential\n",
    "        |> Async.map Array.sum\n",
    "}"
   ]
  },
  {
   "cell_type": "markdown",
   "metadata": {},
   "source": [
    "## persistCodeProject"
   ]
  },
  {
   "cell_type": "code",
   "execution_count": null,
   "metadata": {
    "dotnet_interactive": {
     "language": "fsharp"
    },
    "polyglot_notebook": {
     "kernelName": "fsharp"
    }
   },
   "outputs": [],
   "source": [
    "let inline persistCodeProject packages modules name code = async {\n",
    "    let getLocals () = $\"packages: {packages} / modules: {modules} / name: {name} / code.Length: {code |> String.length} / {getLocals ()}\"\n",
    "    trace Debug (fun () -> \"persistCodeProject\") getLocals\n",
    "\n",
    "    let repositoryRoot = FileSystem.getSourceDirectory () |> FileSystem.findParent \".paket\" false\n",
    "\n",
    "    let targetDir = repositoryRoot </> \"target/polyglot/builder\" </> name\n",
    "    System.IO.Directory.CreateDirectory targetDir |> ignore\n",
    "\n",
    "    let filePath = targetDir </> $\"{name}.fs\" |> System.IO.Path.GetFullPath\n",
    "    do! code |> FileSystem.writeAllTextExists filePath\n",
    "\n",
    "    let modulesCode =\n",
    "        modules\n",
    "        |> List.map (fun path -> $\"\"\"<Compile Include=\"{repositoryRoot </> path}\" />\"\"\")\n",
    "        |> String.concat \"\\n        \"\n",
    "\n",
    "    let fsprojPath = targetDir </> $\"{name}.fsproj\"\n",
    "    let fsprojCode = $\"\"\"<Project Sdk=\"Microsoft.NET.Sdk\">\n",
    "    <PropertyGroup>\n",
    "        <TargetFramework>net8.0</TargetFramework>\n",
    "        <LangVersion>preview</LangVersion>\n",
    "        <RollForward>Major</RollForward>\n",
    "        <TargetLatestRuntimePatch>true</TargetLatestRuntimePatch>\n",
    "        <PublishAot>false</PublishAot>\n",
    "        <PublishTrimmed>false</PublishTrimmed>\n",
    "        <PublishSingleFile>true</PublishSingleFile>\n",
    "        <SelfContained>true</SelfContained>\n",
    "        <Version>0.0.1-alpha.1</Version>\n",
    "        <OutputType>Exe</OutputType>\n",
    "    </PropertyGroup>\n",
    "\n",
    "    <ItemGroup>\n",
    "        {modulesCode}\n",
    "        <Compile Include=\"{filePath}\" />\n",
    "    </ItemGroup>\n",
    "\n",
    "    <Import Project=\"{repositoryRoot}/.paket/Paket.Restore.targets\" />\n",
    "</Project>\n",
    "\"\"\"\n",
    "    do! fsprojCode |> FileSystem.writeAllTextExists fsprojPath\n",
    "\n",
    "    let paketReferencesPath = targetDir </> \"paket.references\"\n",
    "    let paketReferencesCode =\n",
    "        \"FSharp.Core\" :: packages\n",
    "        |> String.concat \"\\n\"\n",
    "    do! paketReferencesCode |> FileSystem.writeAllTextExists paketReferencesPath\n",
    "\n",
    "    return fsprojPath\n",
    "}"
   ]
  },
  {
   "cell_type": "markdown",
   "metadata": {},
   "source": [
    "## buildCode"
   ]
  },
  {
   "cell_type": "code",
   "execution_count": null,
   "metadata": {
    "dotnet_interactive": {
     "language": "fsharp"
    },
    "polyglot_notebook": {
     "kernelName": "fsharp"
    }
   },
   "outputs": [],
   "source": [
    "let inline buildCode runtime packages modules outputDir name code = async {\n",
    "    let! fsprojPath = code |> persistCodeProject packages modules name\n",
    "    return! fsprojPath |> buildProject runtime outputDir\n",
    "}"
   ]
  },
  {
   "cell_type": "code",
   "execution_count": null,
   "metadata": {
    "dotnet_interactive": {
     "language": "fsharp"
    },
    "polyglot_notebook": {
     "kernelName": "fsharp"
    }
   },
   "outputs": [
    {
     "name": "stdout",
     "output_type": "stream",
     "text": [
      "00:00:00 #1 [Debug] persistCodeProject / packages: [] / modules: [] / name: test1 / code.Length: 5\r\n",
      "00:00:00 #2 [Debug] buildProject / fullPath: C:\\home\\git\\polyglot\\target\\polyglot\\builder\\test1\\test1.fsproj\r\n",
      "00:00:00 #3 [Debug] executeAsync / options: { Command =\n",
      "   \"dotnet publish \"C:\\home\\git\\polyglot\\target/polyglot/builder\\test1\\test1.fsproj\" --configuration Release --output \"dist\" --runtime linux-x64\"\n",
      "  WorkingDirectory = Some \"C:\\home\\git\\polyglot\\target\\polyglot\\builder\\test1\"\n",
      "  CancellationToken = None\n",
      "  OnLine = None }\r\n",
      "00:00:00 #4 [Verbose] > MSBuild version 17.8.3+195e7f5a3 for .NET\r\n",
      "00:00:00 #5 [Verbose] >   Determining projects to restore...\r\n",
      "00:00:01 #6 [Verbose] >   Restored C:\\home\\git\\polyglot\\target\\polyglot\\builder\\test1\\test1.fsproj (in 395 ms).\r\n",
      "00:00:02 #7 [Verbose] >   test1 -> C:\\home\\git\\polyglot\\target\\polyglot\\builder\\test1\\bin\\Release\\net8.0\\linux-x64\\test1.dll\r\n",
      "00:00:03 #8 [Verbose] >   test1 -> C:\\home\\git\\polyglot\\target\\polyglot\\builder\\test1\\dist\\\r\n",
      "00:00:03 #9 [Debug] executeAsync / exitCode: 0 / output.Length: 335\r\n",
      "00:00:03 #10 [Debug] executeAsync / options: { Command =\n",
      "   \"dotnet publish \"C:\\home\\git\\polyglot\\target/polyglot/builder\\test1\\test1.fsproj\" --configuration Release --output \"dist\" --runtime win-x64\"\n",
      "  WorkingDirectory = Some \"C:\\home\\git\\polyglot\\target\\polyglot\\builder\\test1\"\n",
      "  CancellationToken = None\n",
      "  OnLine = None }\r\n",
      "00:00:03 #11 [Verbose] > MSBuild version 17.8.3+195e7f5a3 for .NET\r\n",
      "00:00:04 #12 [Verbose] >   Determining projects to restore...\r\n",
      "00:00:05 #13 [Verbose] >   Restored C:\\home\\git\\polyglot\\target\\polyglot\\builder\\test1\\test1.fsproj (in 295 ms).\r\n",
      "00:00:05 #14 [Verbose] >   test1 -> C:\\home\\git\\polyglot\\target\\polyglot\\builder\\test1\\bin\\Release\\net8.0\\win-x64\\test1.dll\r\n",
      "00:00:08 #15 [Verbose] >   test1 -> C:\\home\\git\\polyglot\\target\\polyglot\\builder\\test1\\dist\\\r\n",
      "00:00:08 #16 [Debug] executeAsync / exitCode: 0 / output.Length: 333\r\n",
      "FSharpOption<Int32>\r\n",
      "      Value: 0\r\n"
     ]
    }
   ],
   "source": [
    "//// test\n",
    "\n",
    "\"1 + 1\"\n",
    "|> buildCode None [] [] None \"test1\"\n",
    "|> Async.runWithTimeout 60000\n",
    "|> _equal (Some 0)"
   ]
  },
  {
   "cell_type": "code",
   "execution_count": null,
   "metadata": {
    "dotnet_interactive": {
     "language": "fsharp"
    },
    "polyglot_notebook": {
     "kernelName": "fsharp"
    }
   },
   "outputs": [
    {
     "name": "stdout",
     "output_type": "stream",
     "text": [
      "00:00:09 #17 [Debug] persistCodeProject / packages: [] / modules: [] / name: test2 / code.Length: 5\r\n",
      "00:00:09 #18 [Debug] buildProject / fullPath: C:\\home\\git\\polyglot\\target\\polyglot\\builder\\test2\\test2.fsproj\r\n",
      "00:00:09 #19 [Debug] executeAsync / options: { Command =\n",
      "   \"dotnet publish \"C:\\home\\git\\polyglot\\target/polyglot/builder\\test2\\test2.fsproj\" --configuration Release --output \"dist\" --runtime linux-x64\"\n",
      "  WorkingDirectory = Some \"C:\\home\\git\\polyglot\\target\\polyglot\\builder\\test2\"\n",
      "  CancellationToken = None\n",
      "  OnLine = None }\r\n",
      "00:00:09 #20 [Verbose] > MSBuild version 17.8.3+195e7f5a3 for .NET\r\n",
      "00:00:09 #21 [Verbose] >   Determining projects to restore...\r\n",
      "00:00:10 #22 [Verbose] >   Restored C:\\home\\git\\polyglot\\target\\polyglot\\builder\\test2\\test2.fsproj (in 313 ms).\r\n",
      "00:00:12 #23 [Verbose] > C:\\home\\git\\polyglot\\target\\polyglot\\builder\\test2\\test2.fs(1,5): error FS0039: The value or constructor 'a' is not defined. [C:\\home\\git\\polyglot\\target\\polyglot\\builder\\test2\\test2.fsproj]\r\n",
      "00:00:12 #24 [Debug] executeAsync / exitCode: 1 / output.Length: 357\r\n",
      "00:00:12 #25 [Debug] executeAsync / options: { Command =\n",
      "   \"dotnet publish \"C:\\home\\git\\polyglot\\target/polyglot/builder\\test2\\test2.fsproj\" --configuration Release --output \"dist\" --runtime win-x64\"\n",
      "  WorkingDirectory = Some \"C:\\home\\git\\polyglot\\target\\polyglot\\builder\\test2\"\n",
      "  CancellationToken = None\n",
      "  OnLine = None }\r\n",
      "00:00:12 #26 [Verbose] > MSBuild version 17.8.3+195e7f5a3 for .NET\r\n",
      "00:00:13 #27 [Verbose] >   Determining projects to restore...\r\n",
      "00:00:13 #28 [Verbose] >   Restored C:\\home\\git\\polyglot\\target\\polyglot\\builder\\test2\\test2.fsproj (in 278 ms).\r\n",
      "00:00:15 #29 [Verbose] > C:\\home\\git\\polyglot\\target\\polyglot\\builder\\test2\\test2.fs(1,5): error FS0039: The value or constructor 'a' is not defined. [C:\\home\\git\\polyglot\\target\\polyglot\\builder\\test2\\test2.fsproj]\r\n",
      "00:00:15 #30 [Debug] executeAsync / exitCode: 1 / output.Length: 357\r\n",
      "FSharpOption<Int32>\r\n",
      "      Value: 2\r\n"
     ]
    }
   ],
   "source": [
    "//// test\n",
    "\n",
    "\"1 + a\"\n",
    "|> buildCode None [] [] None \"test2\"\n",
    "|> Async.runWithTimeout 60000\n",
    "|> _equal (Some 2)"
   ]
  },
  {
   "cell_type": "markdown",
   "metadata": {},
   "source": [
    "## readFile"
   ]
  },
  {
   "cell_type": "code",
   "execution_count": null,
   "metadata": {
    "dotnet_interactive": {
     "language": "fsharp"
    },
    "polyglot_notebook": {
     "kernelName": "fsharp"
    }
   },
   "outputs": [],
   "source": [
    "let inline readFile path = async {\n",
    "    let! code = path |> FileSystem.readAllTextAsync\n",
    "\n",
    "    let code = System.Text.RegularExpressions.Regex.Replace (\n",
    "        code,\n",
    "        @\"( *)(let\\s+main\\s+.*?\\s*=)\",\n",
    "        fun m -> m.Groups.[1].Value + \"[<EntryPoint>]\\n\" + m.Groups.[1].Value + m.Groups.[2].Value\n",
    "    )\n",
    "\n",
    "    let codeTrim = code |> String.trimEnd [||]\n",
    "    return\n",
    "        if codeTrim |> String.endsWith \"\\n()\"\n",
    "        then codeTrim |> String.substring 0 ((codeTrim |> String.length) - 2)\n",
    "        else code\n",
    "}"
   ]
  },
  {
   "cell_type": "markdown",
   "metadata": {},
   "source": [
    "## buildFile"
   ]
  },
  {
   "cell_type": "code",
   "execution_count": null,
   "metadata": {
    "dotnet_interactive": {
     "language": "fsharp"
    },
    "polyglot_notebook": {
     "kernelName": "fsharp"
    }
   },
   "outputs": [],
   "source": [
    "let inline buildFile runtime packages modules path = async {\n",
    "    let fullPath = path |> System.IO.Path.GetFullPath\n",
    "    let dir = fullPath |> System.IO.Path.GetDirectoryName\n",
    "    let name = fullPath |> System.IO.Path.GetFileNameWithoutExtension\n",
    "    let! code = fullPath |> readFile\n",
    "    return! code |> buildCode runtime packages modules (dir </> \"dist\" |> Some) name\n",
    "}"
   ]
  },
  {
   "cell_type": "markdown",
   "metadata": {},
   "source": [
    "## persistFile"
   ]
  },
  {
   "cell_type": "code",
   "execution_count": null,
   "metadata": {
    "dotnet_interactive": {
     "language": "fsharp"
    },
    "polyglot_notebook": {
     "kernelName": "fsharp"
    }
   },
   "outputs": [],
   "source": [
    "let inline persistFile packages modules path = async {\n",
    "    let fullPath = path |> System.IO.Path.GetFullPath\n",
    "    let name = fullPath |> System.IO.Path.GetFileNameWithoutExtension\n",
    "    let! code = fullPath |> readFile\n",
    "    return! code |> persistCodeProject packages modules name\n",
    "}"
   ]
  },
  {
   "cell_type": "markdown",
   "metadata": {},
   "source": [
    "## Arguments"
   ]
  },
  {
   "cell_type": "code",
   "execution_count": null,
   "metadata": {
    "dotnet_interactive": {
     "language": "fsharp"
    },
    "polyglot_notebook": {
     "kernelName": "fsharp"
    }
   },
   "outputs": [],
   "source": [
    "[<RequireQualifiedAccess>]\n",
    "type Arguments =\n",
    "    | [<Argu.ArguAttributes.MainCommand; Argu.ArguAttributes.ExactlyOnce>] Path of path : string\n",
    "    | [<Argu.ArguAttributes.Unique>] Packages of packages : string list\n",
    "    | [<Argu.ArguAttributes.Unique>] Modules of modules : string list\n",
    "    | [<Argu.ArguAttributes.Unique>] Runtime of runtime : string\n",
    "    | [<Argu.ArguAttributes.Unique>] Persist_Only\n",
    "\n",
    "    interface Argu.IArgParserTemplate with\n",
    "        member s.Usage =\n",
    "            match s with\n",
    "            | Path _ -> nameof Path\n",
    "            | Packages _ -> nameof Packages\n",
    "            | Modules _ -> nameof Modules\n",
    "            | Runtime _ -> nameof Runtime\n",
    "            | Persist_Only -> nameof Persist_Only"
   ]
  },
  {
   "cell_type": "code",
   "execution_count": null,
   "metadata": {
    "dotnet_interactive": {
     "language": "fsharp"
    },
    "polyglot_notebook": {
     "kernelName": "fsharp"
    }
   },
   "outputs": [
    {
     "data": {
      "text/plain": [
       "USAGE: dotnet.exe [--help] [--packages [<packages>...]] [--modules [<modules>...]]\r\n",
       "                  [--runtime <runtime>] [--persist-only] <path>\r\n",
       "\r\n",
       "PATH:\r\n",
       "\r\n",
       "    <path>                Path\r\n",
       "\r\n",
       "OPTIONS:\r\n",
       "\r\n",
       "    --packages [<packages>...]\r\n",
       "                          Packages\r\n",
       "    --modules [<modules>...]\r\n",
       "                          Modules\r\n",
       "    --runtime <runtime>   Runtime\r\n",
       "    --persist-only        Persist_Only\r\n",
       "    --help                display this list of options.\r\n"
      ]
     },
     "metadata": {},
     "output_type": "display_data"
    }
   ],
   "source": [
    "//// test\n",
    "\n",
    "Argu.ArgumentParser.Create<Arguments>().PrintUsage ()"
   ]
  },
  {
   "cell_type": "markdown",
   "metadata": {},
   "source": [
    "## main"
   ]
  },
  {
   "cell_type": "code",
   "execution_count": null,
   "metadata": {
    "dotnet_interactive": {
     "language": "fsharp"
    },
    "polyglot_notebook": {
     "kernelName": "fsharp"
    }
   },
   "outputs": [],
   "source": [
    "let main args =\n",
    "    let argsMap = args |> Runtime.parseArgsMap<Arguments>\n",
    "\n",
    "    let path =\n",
    "        match argsMap.[nameof Arguments.Path] with\n",
    "        | [ Arguments.Path path ] -> Some path\n",
    "        | _ -> None\n",
    "        |> Option.get\n",
    "\n",
    "    let packages =\n",
    "        match argsMap |> Map.tryFind (nameof Arguments.Packages) with\n",
    "        | Some [ Arguments.Packages packages ] -> packages\n",
    "        | _ -> []\n",
    "\n",
    "    let modules =\n",
    "        match argsMap |> Map.tryFind (nameof Arguments.Modules) with\n",
    "        | Some [ Arguments.Modules modules ] -> modules\n",
    "        | _ -> []\n",
    "\n",
    "    let runtime =\n",
    "        match argsMap |> Map.tryFind (nameof Arguments.Runtime) with\n",
    "        | Some [ Arguments.Runtime runtime ] -> Some runtime\n",
    "        | _ -> None\n",
    "\n",
    "    let persistOnly = argsMap |> Map.containsKey (nameof Arguments.Persist_Only)\n",
    "\n",
    "    if persistOnly\n",
    "    then path |> persistFile packages modules |> Async.map (fun _ -> 0)\n",
    "    else path |> buildFile runtime packages modules\n",
    "    |> Async.runWithTimeout 60000\n",
    "    |> function\n",
    "        | Some exitCode -> exitCode\n",
    "        | None -> 1"
   ]
  },
  {
   "cell_type": "code",
   "execution_count": null,
   "metadata": {
    "dotnet_interactive": {
     "language": "fsharp"
    },
    "polyglot_notebook": {
     "kernelName": "fsharp"
    }
   },
   "outputs": [
    {
     "data": {
      "text/html": [
       "<div class=\"dni-plaintext\"><pre>0</pre></div><style>\r\n",
       ".dni-code-hint {\r\n",
       "    font-style: italic;\r\n",
       "    overflow: hidden;\r\n",
       "    white-space: nowrap;\r\n",
       "}\r\n",
       ".dni-treeview {\r\n",
       "    white-space: nowrap;\r\n",
       "}\r\n",
       ".dni-treeview td {\r\n",
       "    vertical-align: top;\r\n",
       "    text-align: start;\r\n",
       "}\r\n",
       "details.dni-treeview {\r\n",
       "    padding-left: 1em;\r\n",
       "}\r\n",
       "table td {\r\n",
       "    text-align: start;\r\n",
       "}\r\n",
       "table tr { \r\n",
       "    vertical-align: top; \r\n",
       "    margin: 0em 0px;\r\n",
       "}\r\n",
       "table tr td pre \r\n",
       "{ \r\n",
       "    vertical-align: top !important; \r\n",
       "    margin: 0em 0px !important;\r\n",
       "} \r\n",
       "table th {\r\n",
       "    text-align: start;\r\n",
       "}\r\n",
       "</style>"
      ]
     },
     "metadata": {},
     "output_type": "display_data"
    },
    {
     "name": "stdout",
     "output_type": "stream",
     "text": [
      "00:00:18 #31 [Debug] persistCodeProject / packages: [Argu; FSharp.Control.AsyncSeq; System.CommandLine; ... ] / modules: [lib/fsharp/Common.fs; lib/fsharp/CommonFSharp.fs; lib/fsharp/Async.fs; ... ] / name: Builder / code.Length: 7079\r\n",
      "00:00:18 #32 [Debug] buildProject / fullPath: C:\\home\\git\\polyglot\\target\\polyglot\\builder\\Builder\\Builder.fsproj\r\n",
      "00:00:18 #33 [Debug] executeAsync / options: { Command =\n",
      "   \"dotnet publish \"C:\\home\\git\\polyglot\\target/polyglot/builder\\Builder\\Builder.fsproj\" --configuration Release --output \"C:\\home\\git\\polyglot\\apps\\builder\\dist\" --runtime linux-x64\"\n",
      "  WorkingDirectory = Some \"C:\\home\\git\\polyglot\\target\\polyglot\\builder\\Builder\"\n",
      "  CancellationToken = None\n",
      "  OnLine = None }\r\n",
      "00:00:18 #34 [Verbose] > MSBuild version 17.8.3+195e7f5a3 for .NET\r\n",
      "00:00:19 #35 [Verbose] >   Determining projects to restore...\r\n",
      "00:00:19 #36 [Verbose] >   Restored C:\\home\\git\\polyglot\\target\\polyglot\\builder\\Builder\\Builder.fsproj (in 342 ms).\r\n",
      "00:00:25 #37 [Verbose] >   Builder -> C:\\home\\git\\polyglot\\target\\polyglot\\builder\\Builder\\bin\\Release\\net8.0\\linux-x64\\Builder.dll\r\n",
      "00:00:26 #38 [Verbose] >   Builder -> C:\\home\\git\\polyglot\\apps\\builder\\dist\\\r\n",
      "00:00:26 #39 [Debug] executeAsync / exitCode: 0 / output.Length: 330\r\n",
      "00:00:26 #40 [Debug] executeAsync / options: { Command =\n",
      "   \"dotnet publish \"C:\\home\\git\\polyglot\\target/polyglot/builder\\Builder\\Builder.fsproj\" --configuration Release --output \"C:\\home\\git\\polyglot\\apps\\builder\\dist\" --runtime win-x64\"\n",
      "  WorkingDirectory = Some \"C:\\home\\git\\polyglot\\target\\polyglot\\builder\\Builder\"\n",
      "  CancellationToken = None\n",
      "  OnLine = None }\r\n",
      "00:00:26 #41 [Verbose] > MSBuild version 17.8.3+195e7f5a3 for .NET\r\n",
      "00:00:27 #42 [Verbose] >   Determining projects to restore...\r\n",
      "00:00:28 #43 [Verbose] >   Restored C:\\home\\git\\polyglot\\target\\polyglot\\builder\\Builder\\Builder.fsproj (in 320 ms).\r\n",
      "00:00:34 #44 [Verbose] >   Builder -> C:\\home\\git\\polyglot\\target\\polyglot\\builder\\Builder\\bin\\Release\\net8.0\\win-x64\\Builder.dll\r\n",
      "00:00:36 #45 [Verbose] >   Builder -> C:\\home\\git\\polyglot\\apps\\builder\\dist\\\r\n",
      "00:00:36 #46 [Debug] executeAsync / exitCode: 0 / output.Length: 328\r\n"
     ]
    }
   ],
   "source": [
    "//// test\n",
    "\n",
    "let args =\n",
    "    System.Environment.GetEnvironmentVariable \"ARGS\"\n",
    "    |> Runtime.splitArgs\n",
    "    |> Seq.toArray\n",
    "\n",
    "match args with\n",
    "| [||] -> 0\n",
    "| args -> if main args = 0 then 0 else failwith \"main failed\""
   ]
  }
 ],
 "metadata": {},
 "nbformat": 4,
 "nbformat_minor": 5
}