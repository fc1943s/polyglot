{
 "cells": [
  {
   "cell_type": "markdown",
   "metadata": {},
   "source": [
    "# Builder (Polyglot)"
   ]
  },
  {
   "cell_type": "code",
   "execution_count": null,
   "metadata": {
    "dotnet_interactive": {
     "language": "fsharp"
    },
    "polyglot_notebook": {
     "kernelName": "fsharp"
    }
   },
   "outputs": [],
   "source": [
    "#!import ../../lib/fsharp/Notebooks.dib\n",
    "#!import ../../lib/fsharp/Testing.dib"
   ]
  },
  {
   "cell_type": "code",
   "execution_count": null,
   "metadata": {
    "dotnet_interactive": {
     "language": "fsharp"
    },
    "polyglot_notebook": {
     "kernelName": "fsharp"
    }
   },
   "outputs": [],
   "source": [
    "#r @\"../../../../../../../.nuget/packages/fsharp.control.asyncseq/3.2.1/lib/netstandard2.1/FSharp.Control.AsyncSeq.dll\"\n",
    "#r @\"../../../../../../../.nuget/packages/system.reactive/6.0.1-preview.1/lib/net6.0/System.Reactive.dll\"\n",
    "#r @\"../../../../../../../.nuget/packages/system.reactive.linq/6.0.1-preview.1/lib/netstandard2.0/System.Reactive.Linq.dll\"\n",
    "#r @\"../../../../../../../.nuget/packages/argu/6.2.2/lib/netstandard2.0/Argu.dll\"\n",
    "#r @\"../../../../../../../.nuget/packages/system.commandline/2.0.0-beta4.22272.1/lib/net6.0/System.CommandLine.dll\""
   ]
  },
  {
   "cell_type": "code",
   "execution_count": null,
   "metadata": {
    "dotnet_interactive": {
     "language": "fsharp"
    },
    "polyglot_notebook": {
     "kernelName": "fsharp"
    }
   },
   "outputs": [],
   "source": [
    "#!import ../../lib/fsharp/Common.fs\n",
    "#!import ../../lib/fsharp/CommonFSharp.fs\n",
    "#!import ../../lib/fsharp/Async.fs\n",
    "#!import ../../lib/fsharp/AsyncSeq.fs\n",
    "#!import ../../lib/fsharp/Networking.fs\n",
    "#!import ../../lib/fsharp/Runtime.fs\n",
    "#!import ../../lib/fsharp/FileSystem.fs"
   ]
  },
  {
   "cell_type": "code",
   "execution_count": null,
   "metadata": {
    "dotnet_interactive": {
     "language": "fsharp"
    },
    "polyglot_notebook": {
     "kernelName": "fsharp"
    }
   },
   "outputs": [],
   "source": [
    "open Common\n",
    "open FileSystem.Operators"
   ]
  },
  {
   "cell_type": "markdown",
   "metadata": {},
   "source": [
    "## buildProject"
   ]
  },
  {
   "cell_type": "code",
   "execution_count": null,
   "metadata": {
    "dotnet_interactive": {
     "language": "fsharp"
    },
    "polyglot_notebook": {
     "kernelName": "fsharp"
    }
   },
   "outputs": [],
   "source": [
    "let inline buildProject runtime outputDir path = async {\n",
    "    let fullPath = path |> System.IO.Path.GetFullPath\n",
    "    let fileDir = fullPath |> System.IO.Path.GetDirectoryName\n",
    "    let extension = fullPath |> System.IO.Path.GetExtension\n",
    "\n",
    "    let getLocals () = $\"fullPath: {fullPath} / {getLocals ()}\"\n",
    "    trace Debug (fun () -> \"buildProject\") getLocals\n",
    "\n",
    "    match extension with\n",
    "    | \".fsproj\" -> ()\n",
    "    | _ -> failwith \"Invalid project file\"\n",
    "\n",
    "    let runtimes =\n",
    "        runtime\n",
    "        |> Option.map List.singleton\n",
    "        |> Option.defaultValue [ \"linux-x64\"; \"win-x64\" ]\n",
    "\n",
    "    let outputDir = outputDir |> Option.defaultValue \"dist\"\n",
    "\n",
    "    return!\n",
    "        runtimes\n",
    "        |> List.map (fun runtime -> async {\n",
    "            let! exitCode, _result =\n",
    "                Runtime.executeWithOptionsAsync\n",
    "                    {\n",
    "                        Command = $@\"dotnet publish \"\"{path}\"\" --configuration Release --output \"\"{outputDir}\"\" --runtime {runtime}\"\n",
    "                        CancellationToken = None\n",
    "                        OnLine = None\n",
    "                        WorkingDirectory = Some fileDir\n",
    "                    }\n",
    "\n",
    "            return exitCode\n",
    "        })\n",
    "        |> Async.Sequential\n",
    "        |> Async.map Array.sum\n",
    "}"
   ]
  },
  {
   "cell_type": "markdown",
   "metadata": {},
   "source": [
    "## persistCodeProject"
   ]
  },
  {
   "cell_type": "code",
   "execution_count": null,
   "metadata": {
    "dotnet_interactive": {
     "language": "fsharp"
    },
    "polyglot_notebook": {
     "kernelName": "fsharp"
    }
   },
   "outputs": [],
   "source": [
    "let inline persistCodeProject packages modules name code = async {\n",
    "    let getLocals () = $\"packages: {packages} / modules: {modules} / name: {name} / code.Length: {code |> String.length} / {getLocals ()}\"\n",
    "    trace Debug (fun () -> \"persistCodeProject\") getLocals\n",
    "\n",
    "    let repositoryRoot = FileSystem.getSourceDirectory () |> FileSystem.findParent \".paket\" false\n",
    "\n",
    "    let targetDir = repositoryRoot </> \"target/polyglot/builder\" </> name\n",
    "    System.IO.Directory.CreateDirectory targetDir |> ignore\n",
    "\n",
    "    let filePath = targetDir </> $\"{name}.fs\" |> System.IO.Path.GetFullPath\n",
    "    do! code |> FileSystem.writeAllTextExists filePath\n",
    "\n",
    "    let modulesCode =\n",
    "        modules\n",
    "        |> List.map (fun path -> $\"\"\"<Compile Include=\"{repositoryRoot </> path}\" />\"\"\")\n",
    "        |> String.concat \"\\n        \"\n",
    "\n",
    "    let fsprojPath = targetDir </> $\"{name}.fsproj\"\n",
    "    let fsprojCode = $\"\"\"<Project Sdk=\"Microsoft.NET.Sdk\">\n",
    "    <PropertyGroup>\n",
    "        <TargetFramework>net9.0</TargetFramework>\n",
    "        <LangVersion>preview</LangVersion>\n",
    "        <RollForward>Major</RollForward>\n",
    "        <TargetLatestRuntimePatch>true</TargetLatestRuntimePatch>\n",
    "        <PublishAot>false</PublishAot>\n",
    "        <PublishTrimmed>false</PublishTrimmed>\n",
    "        <PublishSingleFile>true</PublishSingleFile>\n",
    "        <SelfContained>true</SelfContained>\n",
    "        <Version>0.0.1-alpha.1</Version>\n",
    "        <OutputType>Exe</OutputType>\n",
    "    </PropertyGroup>\n",
    "\n",
    "    <ItemGroup>\n",
    "        {modulesCode}\n",
    "        <Compile Include=\"{filePath}\" />\n",
    "    </ItemGroup>\n",
    "\n",
    "    <Import Project=\"{repositoryRoot}/.paket/Paket.Restore.targets\" />\n",
    "</Project>\n",
    "\"\"\"\n",
    "    do! fsprojCode |> FileSystem.writeAllTextExists fsprojPath\n",
    "\n",
    "    let paketReferencesPath = targetDir </> \"paket.references\"\n",
    "    let paketReferencesCode =\n",
    "        \"FSharp.Core\" :: packages\n",
    "        |> String.concat \"\\n\"\n",
    "    do! paketReferencesCode |> FileSystem.writeAllTextExists paketReferencesPath\n",
    "\n",
    "    return fsprojPath\n",
    "}"
   ]
  },
  {
   "cell_type": "markdown",
   "metadata": {},
   "source": [
    "## buildCode"
   ]
  },
  {
   "cell_type": "code",
   "execution_count": null,
   "metadata": {
    "dotnet_interactive": {
     "language": "fsharp"
    },
    "polyglot_notebook": {
     "kernelName": "fsharp"
    }
   },
   "outputs": [],
   "source": [
    "let inline buildCode runtime packages modules outputDir name code = async {\n",
    "    let! fsprojPath = code |> persistCodeProject packages modules name\n",
    "    return! fsprojPath |> buildProject runtime outputDir\n",
    "}"
   ]
  },
  {
   "cell_type": "code",
   "execution_count": null,
   "metadata": {
    "dotnet_interactive": {
     "language": "fsharp"
    },
    "polyglot_notebook": {
     "kernelName": "fsharp"
    }
   },
   "outputs": [
    {
     "name": "stdout",
     "output_type": "stream",
     "text": [
      "00:00:00 #1 [Debug] persistCodeProject / packages: [] / modules: [] / name: test1 / code.Length: 15\r\n",
      "00:00:00 #2 [Debug] buildProject / fullPath: C:\\home\\git\\polyglot\\target\\polyglot\\builder\\test1\\test1.fsproj\r\n",
      "00:00:00 #3 [Debug] executeAsync / options: { Command =\n",
      "   \"dotnet publish \"C:\\home\\git\\polyglot\\target/polyglot/builder\\test1\\test1.fsproj\" --configuration Release --output \"dist\" --runtime linux-x64\"\n",
      "  WorkingDirectory = Some \"C:\\home\\git\\polyglot\\target\\polyglot\\builder\\test1\"\n",
      "  CancellationToken = None\n",
      "  OnLine = None }\r\n",
      "00:00:00 #4 [Verbose] > MSBuild version 17.10.0-preview-24101-01+07fd5d51f for .NET\r\n",
      "00:00:01 #5 [Verbose] >   Determining projects to restore...\r\n",
      "00:00:02 #6 [Verbose] >   Paket version 8.1.0-alpha001+ce4f2f15c42d2baa2414f79df344dd390c3621dc\r\n",
      "00:00:19 #7 [Verbose] >   Restoring C:\\home\\git\\polyglot\\apps\\builder\\target\\Builder.fsproj\r\n",
      "00:00:19 #8 [Verbose] >   Restoring C:\\home\\git\\polyglot\\apps\\builder\\target\\test\\target\\test.fsproj\r\n",
      "00:00:19 #9 [Verbose] >   Restoring C:\\home\\git\\polyglot\\apps\\dir-tree-html\\target\\DirTreeHtml.fsproj\r\n",
      "00:00:19 #10 [Verbose] >   Restoring C:\\home\\git\\polyglot\\apps\\lib\\rust\\fable\\fable-library-rust.fsproj\r\n",
      "00:00:19 #11 [Verbose] >   Restoring C:\\home\\git\\polyglot\\apps\\lib\\rust\\fable\\fable_modules\\fable-library-rust\\src\\Fable.Library.Rust.fsproj\r\n",
      "00:00:19 #12 [Verbose] >   Restoring C:\\home\\git\\polyglot\\apps\\parser\\target\\DibParser.fsproj\r\n",
      "00:00:19 #13 [Verbose] >   Restoring C:\\home\\git\\polyglot\\apps\\spiral\\target\\Supervisor.fsproj\r\n",
      "00:00:19 #14 [Verbose] >   Restoring C:\\home\\git\\polyglot\\apps\\spiral\\temp\\package.fsproj\r\n",
      "00:00:19 #15 [Verbose] >   Restoring C:\\home\\git\\polyglot\\apps\\spiral\\temp\\cli\\cli.fsproj\r\n",
      "00:00:19 #16 [Verbose] >   Restoring C:\\home\\git\\polyglot\\apps\\spiral\\temp\\proxy\\proxy.fsproj\r\n",
      "00:00:19 #17 [Verbose] >   Restoring C:\\home\\git\\polyglot\\apps\\spiral\\temp\\test\\test.fsproj\r\n",
      "00:00:19 #18 [Verbose] >   Restoring C:\\home\\git\\polyglot\\apps\\spiral\\temp\\test\\fable_modules\\fable-library-rust\\src\\Fable.Library.Rust.fsproj\r\n",
      "00:00:19 #19 [Verbose] >   Restoring C:\\home\\git\\polyglot\\deps\\Argu\\samples\\Argu.Samples.LS\\Argu.Samples.LS.fsproj\r\n",
      "00:00:19 #20 [Verbose] >   Restoring C:\\home\\git\\polyglot\\deps\\Argu\\src\\Argu\\Argu.fsproj\r\n",
      "00:00:19 #21 [Verbose] >   Restoring C:\\home\\git\\polyglot\\deps\\Argu\\tests\\Argu.Tests\\Argu.Tests.fsproj\r\n",
      "00:00:19 #22 [Verbose] >   Restoring C:\\home\\git\\polyglot\\deps\\dotnet-interactive\\.dotnet\\sdk\\7.0.107\\Sdks\\Microsoft.NET.Sdk\\targets\\GenerateDeps\\GenerateDeps.proj\r\n",
      "00:00:19 #23 [Verbose] >   Restoring C:\\home\\git\\polyglot\\deps\\dotnet-interactive\\artifacts\\bin\\Microsoft.DotNet.Interactive.CSharpProject.Tests\\Debug\\net7.0\\TestProjects\\SampleConsole\\BasicConsoleApp.csproj\r\n",
      "00:00:19 #24 [Verbose] >   Restoring C:\\home\\git\\polyglot\\deps\\dotnet-interactive\\artifacts\\toolset\\restore.proj\r\n",
      "00:00:19 #25 [Verbose] >   Restoring C:\\home\\git\\polyglot\\deps\\dotnet-interactive\\eng\\common\\helixpublish.proj\r\n",
      "00:00:19 #26 [Verbose] >   Restoring C:\\home\\git\\polyglot\\deps\\dotnet-interactive\\eng\\common\\internal\\Tools.csproj\r\n",
      "00:00:19 #27 [Verbose] >   Restoring C:\\home\\git\\polyglot\\deps\\dotnet-interactive\\eng\\perf-tests\\perf-tests.csproj\r\n",
      "00:00:19 #28 [Verbose] >   Restoring C:\\home\\git\\polyglot\\deps\\dotnet-interactive\\samples\\connect-wpf\\WpfConnect.csproj\r\n",
      "00:00:19 #29 [Verbose] >   Restoring C:\\home\\git\\polyglot\\deps\\dotnet-interactive\\samples\\extensions\\ClockExtension\\ClockExtension.csproj\r\n",
      "00:00:19 #30 [Verbose] >   Restoring C:\\home\\git\\polyglot\\deps\\dotnet-interactive\\samples\\extensions\\Library\\Library.csproj\r\n",
      "00:00:19 #31 [Verbose] >   Restoring C:\\home\\git\\polyglot\\deps\\dotnet-interactive\\samples\\extensions\\Library.InteractiveExtension\\Library.InteractiveExtension.csproj\r\n",
      "00:00:19 #32 [Verbose] >   Restoring C:\\home\\git\\polyglot\\deps\\dotnet-interactive\\samples\\extensions\\Library.nuget\\Library.nuget.csproj\r\n",
      "00:00:19 #33 [Verbose] >   Restoring C:\\home\\git\\polyglot\\deps\\dotnet-interactive\\samples\\extensions\\RandomNumber\\RandomNumber.csproj\r\n",
      "00:00:19 #34 [Verbose] >   Restoring C:\\home\\git\\polyglot\\deps\\dotnet-interactive\\samples\\extensions\\SampleExtensions.Tests\\SampleExtensions.Tests.csproj\r\n",
      "00:00:19 #35 [Verbose] >   Restoring C:\\home\\git\\polyglot\\deps\\dotnet-interactive\\samples\\simple-fsharp-console\\FSharpConsole.csproj\r\n",
      "00:00:19 #36 [Verbose] >   Restoring C:\\home\\git\\polyglot\\deps\\dotnet-interactive\\src\\dotnet-interactive\\dotnet-interactive.csproj\r\n",
      "00:00:19 #37 [Verbose] >   Restoring C:\\home\\git\\polyglot\\deps\\dotnet-interactive\\src\\dotnet-interactive.Tests\\dotnet-interactive.Tests.csproj\r\n",
      "00:00:19 #38 [Verbose] >   Restoring C:\\home\\git\\polyglot\\deps\\dotnet-interactive\\src\\interface-generator\\interface-generator.csproj\r\n",
      "00:00:19 #39 [Verbose] >   Restoring C:\\home\\git\\polyglot\\deps\\dotnet-interactive\\src\\Microsoft.DotNet.Interactive\\Microsoft.DotNet.Interactive.csproj\r\n",
      "00:00:19 #40 [Verbose] >   Restoring C:\\home\\git\\polyglot\\deps\\dotnet-interactive\\src\\Microsoft.DotNet.Interactive.AIUtilities\\Microsoft.DotNet.Interactive.AIUtilities.csproj\r\n",
      "00:00:19 #41 [Verbose] >   Restoring C:\\home\\git\\polyglot\\deps\\dotnet-interactive\\src\\Microsoft.DotNet.Interactive.AIUtilities.Tests\\Microsoft.DotNet.Interactive.AIUtilities.Tests.csproj\r\n",
      "00:00:19 #42 [Verbose] >   Restoring C:\\home\\git\\polyglot\\deps\\dotnet-interactive\\src\\Microsoft.DotNet.Interactive.ApiCompatibility.Tests\\Microsoft.DotNet.Interactive.ApiCompatibility.Tests.csproj\r\n",
      "00:00:19 #43 [Verbose] >   Restoring C:\\home\\git\\polyglot\\deps\\dotnet-interactive\\src\\Microsoft.DotNet.Interactive.AspNetCore\\Microsoft.DotNet.Interactive.AspNetCore.csproj\r\n",
      "00:00:19 #44 [Verbose] >   Restoring C:\\home\\git\\polyglot\\deps\\dotnet-interactive\\src\\Microsoft.DotNet.Interactive.AspNetCore.Tests\\Microsoft.DotNet.Interactive.AspNetCore.Tests.csproj\r\n",
      "00:00:19 #45 [Verbose] >   Restoring C:\\home\\git\\polyglot\\deps\\dotnet-interactive\\src\\Microsoft.DotNet.Interactive.Browser\\Microsoft.DotNet.Interactive.Browser.csproj\r\n",
      "00:00:19 #46 [Verbose] >   Restoring C:\\home\\git\\polyglot\\deps\\dotnet-interactive\\src\\Microsoft.DotNet.Interactive.Browser.Tests\\Microsoft.DotNet.Interactive.Browser.Tests.csproj\r\n",
      "00:00:19 #47 [Verbose] >   Restoring C:\\home\\git\\polyglot\\deps\\dotnet-interactive\\src\\Microsoft.DotNet.Interactive.CSharp\\Microsoft.DotNet.Interactive.CSharp.csproj\r\n",
      "00:00:19 #48 [Verbose] >   Restoring C:\\home\\git\\polyglot\\deps\\dotnet-interactive\\src\\Microsoft.DotNet.Interactive.CSharp.Tests\\Microsoft.DotNet.Interactive.CSharp.Tests.csproj\r\n",
      "00:00:19 #49 [Verbose] >   Restoring C:\\home\\git\\polyglot\\deps\\dotnet-interactive\\src\\Microsoft.DotNet.Interactive.CSharpProject\\Microsoft.DotNet.Interactive.CSharpProject.csproj\r\n",
      "00:00:19 #50 [Verbose] >   Restoring C:\\home\\git\\polyglot\\deps\\dotnet-interactive\\src\\Microsoft.DotNet.Interactive.CSharpProject.Tests\\Microsoft.DotNet.Interactive.CSharpProject.Tests.csproj\r\n",
      "00:00:19 #51 [Verbose] >   Restoring C:\\home\\git\\polyglot\\deps\\dotnet-interactive\\src\\Microsoft.DotNet.Interactive.CSharpProject.Tests\\TestProjects\\SampleConsole\\BasicConsoleApp.csproj\r\n",
      "00:00:19 #52 [Verbose] >   Restoring C:\\home\\git\\polyglot\\deps\\dotnet-interactive\\src\\Microsoft.DotNet.Interactive.Documents\\Microsoft.DotNet.Interactive.Documents.csproj\r\n",
      "00:00:19 #53 [Verbose] >   Restoring C:\\home\\git\\polyglot\\deps\\dotnet-interactive\\src\\Microsoft.DotNet.Interactive.Documents.Tests\\Microsoft.DotNet.Interactive.Documents.Tests.csproj\r\n",
      "00:00:19 #54 [Verbose] >   Restoring C:\\home\\git\\polyglot\\deps\\dotnet-interactive\\src\\Microsoft.DotNet.Interactive.ExtensionLab\\Microsoft.DotNet.Interactive.ExtensionLab.csproj\r\n",
      "00:00:19 #55 [Verbose] >   Restoring C:\\home\\git\\polyglot\\deps\\dotnet-interactive\\src\\Microsoft.DotNet.Interactive.ExtensionLab.Tests\\Microsoft.DotNet.Interactive.ExtensionLab.Tests.csproj\r\n",
      "00:00:20 #56 [Verbose] >   Restoring C:\\home\\git\\polyglot\\deps\\dotnet-interactive\\src\\Microsoft.DotNet.Interactive.Formatting\\Microsoft.DotNet.Interactive.Formatting.csproj\r\n",
      "00:00:20 #57 [Verbose] >   Restoring C:\\home\\git\\polyglot\\deps\\dotnet-interactive\\src\\Microsoft.DotNet.Interactive.Formatting.Tests\\Microsoft.DotNet.Interactive.Formatting.Tests.csproj\r\n",
      "00:00:20 #58 [Verbose] >   Restoring C:\\home\\git\\polyglot\\deps\\dotnet-interactive\\src\\Microsoft.DotNet.Interactive.FSharp\\Microsoft.DotNet.Interactive.FSharp.fsproj\r\n",
      "00:00:20 #59 [Verbose] >   Restoring C:\\home\\git\\polyglot\\deps\\dotnet-interactive\\src\\Microsoft.DotNet.Interactive.FSharp.Tests\\Microsoft.DotNet.Interactive.FSharp.Tests.fsproj\r\n",
      "00:00:20 #60 [Verbose] >   Restoring C:\\home\\git\\polyglot\\deps\\dotnet-interactive\\src\\Microsoft.DotNet.Interactive.Http\\Microsoft.DotNet.Interactive.Http.csproj\r\n",
      "00:00:20 #61 [Verbose] >   Restoring C:\\home\\git\\polyglot\\deps\\dotnet-interactive\\src\\Microsoft.DotNet.Interactive.Http.Parsing\\Microsoft.DotNet.Interactive.Http.Parsing.csproj\r\n",
      "00:00:20 #62 [Verbose] >   Restoring C:\\home\\git\\polyglot\\deps\\dotnet-interactive\\src\\Microsoft.DotNet.Interactive.Http.Tests\\Microsoft.DotNet.Interactive.Http.Tests.csproj\r\n",
      "00:00:20 #63 [Verbose] >   Restoring C:\\home\\git\\polyglot\\deps\\dotnet-interactive\\src\\Microsoft.DotNet.Interactive.Journey\\Microsoft.DotNet.Interactive.Journey.csproj\r\n",
      "00:00:20 #64 [Verbose] >   Restoring C:\\home\\git\\polyglot\\deps\\dotnet-interactive\\src\\Microsoft.DotNet.Interactive.Journey.Tests\\Microsoft.DotNet.Interactive.Journey.Tests.csproj\r\n",
      "00:00:20 #65 [Verbose] >   Restoring C:\\home\\git\\polyglot\\deps\\dotnet-interactive\\src\\Microsoft.DotNet.Interactive.Jupyter\\Microsoft.DotNet.Interactive.Jupyter.csproj\r\n",
      "00:00:20 #66 [Verbose] >   Restoring C:\\home\\git\\polyglot\\deps\\dotnet-interactive\\src\\Microsoft.DotNet.Interactive.Jupyter.Tests\\Microsoft.DotNet.Interactive.Jupyter.Tests.csproj\r\n",
      "00:00:20 #67 [Verbose] >   Restoring C:\\home\\git\\polyglot\\deps\\dotnet-interactive\\src\\Microsoft.DotNet.Interactive.Kql\\Microsoft.DotNet.Interactive.Kql.csproj\r\n",
      "00:00:20 #68 [Verbose] >   Restoring C:\\home\\git\\polyglot\\deps\\dotnet-interactive\\src\\Microsoft.DotNet.Interactive.Kql.Tests\\Microsoft.DotNet.Interactive.Kql.Tests.csproj\r\n",
      "00:00:20 #69 [Verbose] >   Restoring C:\\home\\git\\polyglot\\deps\\dotnet-interactive\\src\\Microsoft.DotNet.Interactive.Mermaid\\Microsoft.DotNet.Interactive.Mermaid.csproj\r\n",
      "00:00:20 #70 [Verbose] >   Restoring C:\\home\\git\\polyglot\\deps\\dotnet-interactive\\src\\Microsoft.DotNet.Interactive.Mermaid.Tests\\Microsoft.DotNet.Interactive.Mermaid.Tests.csproj\r\n",
      "00:00:20 #71 [Verbose] >   Restoring C:\\home\\git\\polyglot\\deps\\dotnet-interactive\\src\\Microsoft.DotNet.Interactive.NamedPipeConnector\\Microsoft.DotNet.Interactive.NamedPipeConnector.csproj\r\n",
      "00:00:20 #72 [Verbose] >   Restoring C:\\home\\git\\polyglot\\deps\\dotnet-interactive\\src\\Microsoft.DotNet.Interactive.NamedPipeConnector.Tests\\Microsoft.DotNet.Interactive.NamedPipeConnector.Tests.csproj\r\n",
      "00:00:20 #73 [Verbose] >   Restoring C:\\home\\git\\polyglot\\deps\\dotnet-interactive\\src\\Microsoft.DotNet.Interactive.NetFramework.Tests\\Microsoft.DotNet.Interactive.NetFramework.Tests.csproj\r\n",
      "00:00:20 #74 [Verbose] >   Restoring C:\\home\\git\\polyglot\\deps\\dotnet-interactive\\src\\Microsoft.DotNet.Interactive.PackageManagement\\Microsoft.DotNet.Interactive.PackageManagement.csproj\r\n",
      "00:00:20 #75 [Verbose] >   Restoring C:\\home\\git\\polyglot\\deps\\dotnet-interactive\\src\\Microsoft.DotNet.Interactive.PowerShell\\Microsoft.DotNet.Interactive.PowerShell.csproj\r\n",
      "00:00:20 #76 [Verbose] >   Restoring C:\\home\\git\\polyglot\\deps\\dotnet-interactive\\src\\Microsoft.DotNet.Interactive.PowerShell.Tests\\Microsoft.DotNet.Interactive.PowerShell.Tests.csproj\r\n",
      "00:00:20 #77 [Verbose] >   Restoring C:\\home\\git\\polyglot\\deps\\dotnet-interactive\\src\\Microsoft.DotNet.Interactive.Spiral\\Microsoft.DotNet.Interactive.Spiral.fsproj\r\n",
      "00:00:20 #78 [Verbose] >   Restoring C:\\home\\git\\polyglot\\deps\\dotnet-interactive\\src\\Microsoft.DotNet.Interactive.Spiral.Tests\\Microsoft.DotNet.Interactive.Spiral.Tests.fsproj\r\n",
      "00:00:20 #79 [Verbose] >   Restoring C:\\home\\git\\polyglot\\deps\\dotnet-interactive\\src\\Microsoft.DotNet.Interactive.SQLite\\Microsoft.DotNet.Interactive.SQLite.csproj\r\n",
      "00:00:20 #80 [Verbose] >   Restoring C:\\home\\git\\polyglot\\deps\\dotnet-interactive\\src\\Microsoft.DotNet.Interactive.SQLite.Tests\\Microsoft.DotNet.Interactive.SQLite.Tests.csproj\r\n",
      "00:00:20 #81 [Verbose] >   Restoring C:\\home\\git\\polyglot\\deps\\dotnet-interactive\\src\\Microsoft.DotNet.Interactive.SqlServer\\Microsoft.DotNet.Interactive.SqlServer.csproj\r\n",
      "00:00:20 #82 [Verbose] >   Restoring C:\\home\\git\\polyglot\\deps\\dotnet-interactive\\src\\Microsoft.DotNet.Interactive.SqlServer.Tests\\Microsoft.DotNet.Interactive.SqlServer.Tests.csproj\r\n",
      "00:00:20 #83 [Verbose] >   Restoring C:\\home\\git\\polyglot\\deps\\dotnet-interactive\\src\\Microsoft.DotNet.Interactive.Telemetry\\Microsoft.DotNet.Interactive.Telemetry.csproj\r\n",
      "00:00:20 #84 [Verbose] >   Restoring C:\\home\\git\\polyglot\\deps\\dotnet-interactive\\src\\Microsoft.DotNet.Interactive.Telemetry.Tests\\Microsoft.DotNet.Interactive.Telemetry.Tests.csproj\r\n",
      "00:00:20 #85 [Verbose] >   Restoring C:\\home\\git\\polyglot\\deps\\dotnet-interactive\\src\\Microsoft.DotNet.Interactive.Tests\\Microsoft.DotNet.Interactive.Tests.csproj\r\n",
      "00:00:20 #86 [Verbose] >   Restoring C:\\home\\git\\polyglot\\deps\\dotnet-interactive\\src\\Microsoft.DotNet.Interactive.VSCode\\Microsoft.DotNet.Interactive.VSCode.csproj\r\n",
      "00:00:20 #87 [Verbose] >   Restoring C:\\home\\git\\polyglot\\deps\\dotnet-repl\\src\\dotnet-repl\\dotnet-repl.csproj\r\n",
      "00:00:20 #88 [Verbose] >   Restoring C:\\home\\git\\polyglot\\deps\\dotnet-repl\\src\\dotnet-repl.Tests\\dotnet-repl.Tests.csproj\r\n",
      "00:00:20 #89 [Verbose] >   Restoring C:\\home\\git\\polyglot\\deps\\Fable\\src\\fable-compiler-js\\src\\fable-compiler-js.fsproj\r\n",
      "00:00:20 #90 [Verbose] >   Restoring C:\\home\\git\\polyglot\\deps\\Fable\\src\\fable-library-dart\\Fable.Library.Dart.fsproj\r\n",
      "00:00:20 #91 [Verbose] >   Restoring C:\\home\\git\\polyglot\\deps\\Fable\\src\\fable-library-py\\fable_library\\Fable.Library.Python.fsproj\r\n",
      "00:00:20 #92 [Verbose] >   Restoring C:\\home\\git\\polyglot\\deps\\Fable\\src\\fable-library-rust\\src\\Fable.Library.Rust.fsproj\r\n",
      "00:00:20 #93 [Verbose] >   Restoring C:\\home\\git\\polyglot\\deps\\Fable\\src\\fable-library-ts\\Fable.Library.TypeScript.fsproj\r\n",
      "00:00:20 #94 [Verbose] >   Restoring C:\\home\\git\\polyglot\\deps\\Fable\\src\\fable-standalone\\src\\Fable.Standalone.fsproj\r\n",
      "00:00:20 #95 [Verbose] >   Restoring C:\\home\\git\\polyglot\\deps\\Fable\\src\\fable-standalone\\src\\Worker\\Worker.fsproj\r\n",
      "00:00:20 #96 [Verbose] >   Restoring C:\\home\\git\\polyglot\\deps\\Fable\\src\\fable-standalone\\test\\bench\\bench.fsproj\r\n",
      "00:00:20 #97 [Verbose] >   Restoring C:\\home\\git\\polyglot\\deps\\Fable\\src\\fable-standalone\\test\\bench-compiler\\bench-compiler.fsproj\r\n",
      "00:00:20 #98 [Verbose] >   Restoring C:\\home\\git\\polyglot\\deps\\Fable\\src\\Fable.Analyzers\\Fable.Analyzers.fsproj\r\n",
      "00:00:20 #99 [Verbose] >   Restoring C:\\home\\git\\polyglot\\deps\\Fable\\src\\Fable.AST\\Fable.AST.fsproj\r\n",
      "00:00:20 #100 [Verbose] >   Restoring C:\\home\\git\\polyglot\\deps\\Fable\\src\\Fable.Build\\Fable.Build.fsproj\r\n",
      "00:00:20 #101 [Verbose] >   Restoring C:\\home\\git\\polyglot\\deps\\Fable\\src\\Fable.Cli\\Fable.Cli.fsproj\r\n",
      "00:00:20 #102 [Verbose] >   Restoring C:\\home\\git\\polyglot\\deps\\Fable\\src\\Fable.Compiler\\Fable.Compiler.fsproj\r\n",
      "00:00:20 #103 [Verbose] >   Restoring C:\\home\\git\\polyglot\\deps\\Fable\\src\\Fable.Core\\Fable.Core.fsproj\r\n",
      "00:00:20 #104 [Verbose] >   Restoring C:\\home\\git\\polyglot\\deps\\Fable\\src\\Fable.PublishUtils\\Fable.PublishUtils.fsproj\r\n",
      "00:00:20 #105 [Verbose] >   Restoring C:\\home\\git\\polyglot\\deps\\Fable\\src\\Fable.Transforms\\Fable.Transforms.fsproj\r\n",
      "00:00:20 #106 [Verbose] >   Restoring C:\\home\\git\\polyglot\\deps\\Fable\\src\\Fable.Transforms\\Rust\\AST\\Rust.AST.fsproj\r\n",
      "00:00:20 #107 [Verbose] >   Restoring C:\\home\\git\\polyglot\\deps\\Fable\\src\\Fable.Transforms\\Rust\\AST\\Tests\\Rust.AST.Tests.fsproj\r\n",
      "00:00:20 #108 [Verbose] >   Restoring C:\\home\\git\\polyglot\\deps\\Fable\\src\\fcs-fable\\fcs-fable.fsproj\r\n",
      "00:00:20 #109 [Verbose] >   Restoring C:\\home\\git\\polyglot\\deps\\Fable\\src\\fcs-fable\\codegen\\codegen.fsproj\r\n",
      "00:00:20 #110 [Verbose] >   Restoring C:\\home\\git\\polyglot\\deps\\Fable\\src\\fcs-fable\\src\\Compiler\\FSharp.Compiler.Service.fsproj\r\n",
      "00:00:20 #111 [Verbose] >   Restoring C:\\home\\git\\polyglot\\deps\\Fable\\src\\fcs-fable\\test\\fcs-fable-test.fsproj\r\n",
      "00:00:20 #112 [Verbose] >   Restoring C:\\home\\git\\polyglot\\deps\\Fable\\src\\fcs-fable\\test\\bench\\fcs-fable-bench.fsproj\r\n",
      "00:00:20 #113 [Verbose] >   Restoring C:\\home\\git\\polyglot\\deps\\Fable\\src\\quicktest\\QuickTest.fsproj\r\n",
      "00:00:20 #114 [Verbose] >   Restoring C:\\home\\git\\polyglot\\deps\\Fable\\src\\quicktest-dart\\Quicktest.Dart.fsproj\r\n",
      "00:00:20 #115 [Verbose] >   Restoring C:\\home\\git\\polyglot\\deps\\Fable\\src\\quicktest-rust\\Quicktest.Rust.fsproj\r\n",
      "00:00:20 #116 [Verbose] >   Restoring C:\\home\\git\\polyglot\\deps\\Fable\\src\\tools\\ASTViewer\\ASTViewer.fsproj\r\n",
      "00:00:20 #117 [Verbose] >   Restoring C:\\home\\git\\polyglot\\deps\\Fable\\src\\tools\\InjectProcessor\\InjectProcessor.fsproj\r\n",
      "00:00:20 #118 [Verbose] >   Restoring C:\\home\\git\\polyglot\\deps\\Fable\\tests\\Dart\\src\\Fable.Tests.Dart.fsproj\r\n",
      "00:00:20 #119 [Verbose] >   Restoring C:\\home\\git\\polyglot\\deps\\Fable\\tests\\Integration\\Compiler\\Fable.Tests.Compiler.fsproj\r\n",
      "00:00:20 #120 [Verbose] >   Restoring C:\\home\\git\\polyglot\\deps\\Fable\\tests\\Integration\\Compiler\\TestProject\\TestProject.fsproj\r\n",
      "00:00:20 #121 [Verbose] >   Restoring C:\\home\\git\\polyglot\\deps\\Fable\\tests\\Integration\\Integration\\Fable.Tests.Integration.fsproj\r\n",
      "00:00:20 #122 [Verbose] >   Restoring C:\\home\\git\\polyglot\\deps\\Fable\\tests\\Integration\\Integration\\data\\signatureHidesFunction\\signatureHidesFunction.fsproj\r\n",
      "00:00:20 #123 [Verbose] >   Restoring C:\\home\\git\\polyglot\\deps\\Fable\\tests\\Integration\\ProjectConfigs\\ConsoleApp\\Fable.Tests.ConsoleApp.fsproj\r\n",
      "00:00:20 #124 [Verbose] >   Restoring C:\\home\\git\\polyglot\\deps\\Fable\\tests\\Integration\\ProjectConfigs\\CustomConfiguration\\Fable.Tests.DefineConstants.CustomConfiguration.fsproj\r\n",
      "00:00:20 #125 [Verbose] >   Restoring C:\\home\\git\\polyglot\\deps\\Fable\\tests\\Integration\\ProjectConfigs\\DebugWithExtraDefines\\Fable.Tests.DefineConstants.DebugWithExtraDefines.fsproj\r\n",
      "00:00:20 #126 [Verbose] >   Restoring C:\\home\\git\\polyglot\\deps\\Fable\\tests\\Integration\\ProjectConfigs\\ReleaseNoExtraDefines\\Fable.Tests.DefineConstants.ReleaseNoExtraDefines.fsproj\r\n",
      "00:00:20 #127 [Verbose] >   Restoring C:\\home\\git\\polyglot\\deps\\Fable\\tests\\Js\\Adaptive\\Fable.Tests.Adaptive.fsproj\r\n",
      "00:00:20 #128 [Verbose] >   Restoring C:\\home\\git\\polyglot\\deps\\Fable\\tests\\Js\\DllRef\\Fable.Tests.DllRef.csproj\r\n",
      "00:00:21 #129 [Verbose] >   Restoring C:\\home\\git\\polyglot\\deps\\Fable\\tests\\Js\\DllRef\\Fable.Tests.DllRef.fsproj\r\n",
      "00:00:21 #130 [Verbose] >   Restoring C:\\home\\git\\polyglot\\deps\\Fable\\tests\\Js\\Main\\Fable.Tests.fsproj\r\n",
      "00:00:21 #131 [Verbose] >   Restoring C:\\home\\git\\polyglot\\deps\\Fable\\tests\\Js\\Project With Spaces\\Fable.Tests.Spaces.fsproj\r\n",
      "00:00:21 #132 [Verbose] >   Restoring C:\\home\\git\\polyglot\\deps\\Fable\\tests\\Php\\Fable.Tests.Php.fsproj\r\n",
      "00:00:21 #133 [Verbose] >   Restoring C:\\home\\git\\polyglot\\deps\\Fable\\tests\\Python\\Fable.Tests.Python.fsproj\r\n",
      "00:00:21 #134 [Verbose] >   Restoring C:\\home\\git\\polyglot\\deps\\Fable\\tests\\React\\Fable.Tests.React.fsproj\r\n",
      "00:00:21 #135 [Verbose] >   Restoring C:\\home\\git\\polyglot\\deps\\Fable\\tests\\Rust\\Fable.Tests.Rust.fsproj\r\n",
      "00:00:21 #136 [Verbose] >   Restoring C:\\home\\git\\polyglot\\deps\\Fable\\tests\\TypeScript\\Fable.Tests.TypeScript.fsproj\r\n",
      "00:00:21 #137 [Verbose] >   Restoring C:\\home\\git\\polyglot\\deps\\Fable\\tests_external\\Fable.Tests.External.fsproj\r\n",
      "00:00:21 #138 [Verbose] >   Restoring C:\\home\\git\\polyglot\\deps\\The-Spiral-Language\\The Spiral Language 2\\The Spiral Language 2.fsproj\r\n",
      "00:00:21 #139 [Verbose] >   Restoring C:\\home\\git\\polyglot\\lib\\rust\\fable\\fable-library-rust.fsproj\r\n",
      "00:00:21 #140 [Verbose] >   Restoring C:\\home\\git\\polyglot\\lib\\rust\\fable\\fable_modules\\fable-library-rust\\src\\Fable.Library.Rust.fsproj\r\n",
      "00:00:21 #141 [Verbose] >   Restoring C:\\home\\git\\polyglot\\target\\polyglot\\builder\\dice_ui\\dice_ui.fsproj\r\n",
      "00:00:21 #142 [Verbose] >   Restoring C:\\home\\git\\polyglot\\target\\polyglot\\builder\\dice_ui\\rs\\fable_modules\\fable-library-rust\\src\\Fable.Library.Rust.fsproj\r\n",
      "00:00:21 #143 [Verbose] >   Restoring C:\\home\\git\\polyglot\\target\\polyglot\\builder\\fs_rs\\fs_rs.fable-temp.csproj\r\n",
      "00:00:21 #144 [Verbose] >   Restoring C:\\home\\git\\polyglot\\target\\polyglot\\builder\\fs_rs\\fs_rs.fsproj\r\n",
      "00:00:21 #145 [Verbose] >   Restoring C:\\home\\git\\polyglot\\target\\polyglot\\builder\\fs_rs\\target\\fable-library-rust\\src\\Fable.Library.Rust.fsproj\r\n",
      "00:00:21 #146 [Verbose] >   Restoring C:\\home\\git\\polyglot\\target\\polyglot\\builder\\fs_rs\\target\\repl_fs_rs\\fable_modules\\fable-library-rust\\src\\Fable.Library.Rust.fsproj\r\n",
      "00:00:21 #147 [Verbose] >   Restoring C:\\home\\git\\polyglot\\target\\polyglot\\builder\\test1\\test1.fsproj\r\n",
      "00:00:21 #148 [Verbose] >   Restoring C:\\home\\git\\polyglot\\target\\test\\test.fsproj\r\n",
      "00:00:21 #149 [Verbose] >   Starting full restore process.\r\n",
      "00:00:21 #150 [Verbose] >   Total time taken: 0 milliseconds\r\n",
      "00:00:23 #151 [Verbose] >   Restored C:\\home\\git\\polyglot\\target\\polyglot\\builder\\test1\\test1.fsproj (in 1.3 sec).\r\n",
      "00:00:23 #152 [Verbose] > C:\\Users\\i574n\\scoop\\apps\\dotnet-sdk-preview\\current\\sdk\\9.0.100-preview.1.24101.2\\Sdks\\Microsoft.NET.Sdk\\targets\\Microsoft.NET.RuntimeIdentifierInference.targets(313,5): message NETSDK1057: You are using a preview version of .NET. See: https://aka.ms/dotnet-support-policy [C:\\home\\git\\polyglot\\target\\polyglot\\builder\\test1\\test1.fsproj]\r\n",
      "00:00:28 #153 [Verbose] > C:\\home\\git\\polyglot\\target\\polyglot\\builder\\test1\\test1.fs(1,16): warning FS0988: Main module of program is empty: nothing will happen when it is run [C:\\home\\git\\polyglot\\target\\polyglot\\builder\\test1\\test1.fsproj]\r\n",
      "00:00:30 #154 [Verbose] >   test1 -> C:\\home\\git\\polyglot\\target\\polyglot\\builder\\test1\\bin\\Release\\net9.0\\linux-x64\\test1.dll\r\n",
      "00:00:37 #155 [Verbose] >   test1 -> C:\\home\\git\\polyglot\\target\\polyglot\\builder\\test1\\dist\\\r\n",
      "00:00:37 #156 [Debug] executeAsync / exitCode: 0 / output.Length: 17250\r\n",
      "00:00:37 #157 [Debug] executeAsync / options: { Command =\n",
      "   \"dotnet publish \"C:\\home\\git\\polyglot\\target/polyglot/builder\\test1\\test1.fsproj\" --configuration Release --output \"dist\" --runtime win-x64\"\n",
      "  WorkingDirectory = Some \"C:\\home\\git\\polyglot\\target\\polyglot\\builder\\test1\"\n",
      "  CancellationToken = None\n",
      "  OnLine = None }\r\n",
      "00:00:39 #158 [Verbose] > MSBuild version 17.10.0-preview-24101-01+07fd5d51f for .NET\r\n",
      "00:00:43 #159 [Verbose] >   Determining projects to restore...\r\n",
      "00:00:45 #160 [Verbose] >   Restored C:\\home\\git\\polyglot\\target\\polyglot\\builder\\test1\\test1.fsproj (in 1.34 sec).\r\n",
      "00:00:46 #161 [Verbose] > C:\\Users\\i574n\\scoop\\apps\\dotnet-sdk-preview\\current\\sdk\\9.0.100-preview.1.24101.2\\Sdks\\Microsoft.NET.Sdk\\targets\\Microsoft.NET.RuntimeIdentifierInference.targets(313,5): message NETSDK1057: You are using a preview version of .NET. See: https://aka.ms/dotnet-support-policy [C:\\home\\git\\polyglot\\target\\polyglot\\builder\\test1\\test1.fsproj]\r\n",
      "00:00:51 #162 [Verbose] > C:\\home\\git\\polyglot\\target\\polyglot\\builder\\test1\\test1.fs(1,16): warning FS0988: Main module of program is empty: nothing will happen when it is run [C:\\home\\git\\polyglot\\target\\polyglot\\builder\\test1\\test1.fsproj]\r\n",
      "00:00:53 #163 [Verbose] >   test1 -> C:\\home\\git\\polyglot\\target\\polyglot\\builder\\test1\\bin\\Release\\net9.0\\win-x64\\test1.dll\r\n",
      "00:01:00 #164 [Verbose] >   test1 -> C:\\home\\git\\polyglot\\target\\polyglot\\builder\\test1\\dist\\\r\n",
      "00:01:00 #165 [Debug] executeAsync / exitCode: 0 / output.Length: 910\r\n",
      "FSharpOption<Int32>\r\n",
      "      Value: 0\r\n"
     ]
    }
   ],
   "source": [
    "//// test\n",
    "\n",
    "\"1 + 1 |> ignore\"\n",
    "|> buildCode None [] [] None \"test1\"\n",
    "|> Async.runWithTimeout 180000\n",
    "|> _equal (Some 0)"
   ]
  },
  {
   "cell_type": "code",
   "execution_count": null,
   "metadata": {
    "dotnet_interactive": {
     "language": "fsharp"
    },
    "polyglot_notebook": {
     "kernelName": "fsharp"
    }
   },
   "outputs": [
    {
     "name": "stdout",
     "output_type": "stream",
     "text": [
      "00:01:01 #166 [Debug] persistCodeProject / packages: [] / modules: [] / name: test2 / code.Length: 15\r\n",
      "00:01:01 #167 [Debug] buildProject / fullPath: C:\\home\\git\\polyglot\\target\\polyglot\\builder\\test2\\test2.fsproj\r\n",
      "00:01:01 #168 [Debug] executeAsync / options: { Command =\n",
      "   \"dotnet publish \"C:\\home\\git\\polyglot\\target/polyglot/builder\\test2\\test2.fsproj\" --configuration Release --output \"dist\" --runtime linux-x64\"\n",
      "  WorkingDirectory = Some \"C:\\home\\git\\polyglot\\target\\polyglot\\builder\\test2\"\n",
      "  CancellationToken = None\n",
      "  OnLine = None }\r\n",
      "00:01:02 #169 [Verbose] > MSBuild version 17.10.0-preview-24101-01+07fd5d51f for .NET\r\n",
      "00:01:03 #170 [Verbose] >   Determining projects to restore...\r\n",
      "00:01:03 #171 [Verbose] >   Paket version 8.1.0-alpha001+ce4f2f15c42d2baa2414f79df344dd390c3621dc\r\n",
      "00:01:04 #172 [Verbose] >   The last full restore is still up to date. Nothing left to do.\r\n",
      "00:01:04 #173 [Verbose] >   Total time taken: 0 milliseconds\r\n",
      "00:01:04 #174 [Verbose] >   Paket version 8.1.0-alpha001+ce4f2f15c42d2baa2414f79df344dd390c3621dc\r\n",
      "00:01:05 #175 [Verbose] >   Restoring C:\\home\\git\\polyglot\\target\\polyglot\\builder\\test2\\test2.fsproj\r\n",
      "00:01:05 #176 [Verbose] >   Starting restore process.\r\n",
      "00:01:05 #177 [Verbose] >   Total time taken: 0 milliseconds\r\n",
      "00:01:06 #178 [Verbose] >   Restored C:\\home\\git\\polyglot\\target\\polyglot\\builder\\test2\\test2.fsproj (in 438 ms).\r\n",
      "00:01:06 #179 [Verbose] > C:\\Users\\i574n\\scoop\\apps\\dotnet-sdk-preview\\current\\sdk\\9.0.100-preview.1.24101.2\\Sdks\\Microsoft.NET.Sdk\\targets\\Microsoft.NET.RuntimeIdentifierInference.targets(313,5): message NETSDK1057: You are using a preview version of .NET. See: https://aka.ms/dotnet-support-policy [C:\\home\\git\\polyglot\\target\\polyglot\\builder\\test2\\test2.fsproj]\r\n",
      "00:01:09 #180 [Verbose] > C:\\home\\git\\polyglot\\target\\polyglot\\builder\\test2\\test2.fs(1,5): error FS0039: The value or constructor 'a' is not defined. [C:\\home\\git\\polyglot\\target\\polyglot\\builder\\test2\\test2.fsproj]\r\n",
      "00:01:09 #181 [Debug] executeAsync / exitCode: 1 / output.Length: 1098\r\n",
      "00:01:09 #182 [Debug] executeAsync / options: { Command =\n",
      "   \"dotnet publish \"C:\\home\\git\\polyglot\\target/polyglot/builder\\test2\\test2.fsproj\" --configuration Release --output \"dist\" --runtime win-x64\"\n",
      "  WorkingDirectory = Some \"C:\\home\\git\\polyglot\\target\\polyglot\\builder\\test2\"\n",
      "  CancellationToken = None\n",
      "  OnLine = None }\r\n",
      "00:01:10 #183 [Verbose] > MSBuild version 17.10.0-preview-24101-01+07fd5d51f for .NET\r\n",
      "00:01:11 #184 [Verbose] >   Determining projects to restore...\r\n",
      "00:01:13 #185 [Verbose] >   Restored C:\\home\\git\\polyglot\\target\\polyglot\\builder\\test2\\test2.fsproj (in 965 ms).\r\n",
      "00:01:13 #186 [Verbose] > C:\\Users\\i574n\\scoop\\apps\\dotnet-sdk-preview\\current\\sdk\\9.0.100-preview.1.24101.2\\Sdks\\Microsoft.NET.Sdk\\targets\\Microsoft.NET.RuntimeIdentifierInference.targets(313,5): message NETSDK1057: You are using a preview version of .NET. See: https://aka.ms/dotnet-support-policy [C:\\home\\git\\polyglot\\target\\polyglot\\builder\\test2\\test2.fsproj]\r\n",
      "00:01:17 #187 [Verbose] > C:\\home\\git\\polyglot\\target\\polyglot\\builder\\test2\\test2.fs(1,5): error FS0039: The value or constructor 'a' is not defined. [C:\\home\\git\\polyglot\\target\\polyglot\\builder\\test2\\test2.fsproj]\r\n",
      "00:01:17 #188 [Debug] executeAsync / exitCode: 1 / output.Length: 715\r\n",
      "FSharpOption<Int32>\r\n",
      "      Value: 2\r\n"
     ]
    }
   ],
   "source": [
    "//// test\n",
    "\n",
    "\"1 + a |> ignore\"\n",
    "|> buildCode None [] [] None \"test2\"\n",
    "|> Async.runWithTimeout 180000\n",
    "|> _equal (Some 2)"
   ]
  },
  {
   "cell_type": "markdown",
   "metadata": {},
   "source": [
    "## readFile"
   ]
  },
  {
   "cell_type": "code",
   "execution_count": null,
   "metadata": {
    "dotnet_interactive": {
     "language": "fsharp"
    },
    "polyglot_notebook": {
     "kernelName": "fsharp"
    }
   },
   "outputs": [],
   "source": [
    "let inline readFile path = async {\n",
    "    let! code = path |> FileSystem.readAllTextAsync\n",
    "\n",
    "    let code = System.Text.RegularExpressions.Regex.Replace (\n",
    "        code,\n",
    "        @\"( *)(let\\s+main\\s+.*?\\s*=)\",\n",
    "        fun m -> m.Groups.[1].Value + \"[<EntryPoint>]\\n\" + m.Groups.[1].Value + m.Groups.[2].Value\n",
    "    )\n",
    "\n",
    "    let codeTrim = code |> String.trimEnd [||]\n",
    "    return\n",
    "        if codeTrim |> String.endsWith \"\\n()\"\n",
    "        then codeTrim |> String.substring 0 ((codeTrim |> String.length) - 2)\n",
    "        else code\n",
    "}"
   ]
  },
  {
   "cell_type": "markdown",
   "metadata": {},
   "source": [
    "## buildFile"
   ]
  },
  {
   "cell_type": "code",
   "execution_count": null,
   "metadata": {
    "dotnet_interactive": {
     "language": "fsharp"
    },
    "polyglot_notebook": {
     "kernelName": "fsharp"
    }
   },
   "outputs": [],
   "source": [
    "let inline buildFile runtime packages modules path = async {\n",
    "    let fullPath = path |> System.IO.Path.GetFullPath\n",
    "    let dir = fullPath |> System.IO.Path.GetDirectoryName\n",
    "    let name = fullPath |> System.IO.Path.GetFileNameWithoutExtension\n",
    "    let! code = fullPath |> readFile\n",
    "    return! code |> buildCode runtime packages modules (dir </> \"dist\" |> Some) name\n",
    "}"
   ]
  },
  {
   "cell_type": "markdown",
   "metadata": {},
   "source": [
    "## persistFile"
   ]
  },
  {
   "cell_type": "code",
   "execution_count": null,
   "metadata": {
    "dotnet_interactive": {
     "language": "fsharp"
    },
    "polyglot_notebook": {
     "kernelName": "fsharp"
    }
   },
   "outputs": [],
   "source": [
    "let inline persistFile packages modules path = async {\n",
    "    let fullPath = path |> System.IO.Path.GetFullPath\n",
    "    let name = fullPath |> System.IO.Path.GetFileNameWithoutExtension\n",
    "    let! code = fullPath |> readFile\n",
    "    return! code |> persistCodeProject packages modules name\n",
    "}"
   ]
  },
  {
   "cell_type": "markdown",
   "metadata": {},
   "source": [
    "## Arguments"
   ]
  },
  {
   "cell_type": "code",
   "execution_count": null,
   "metadata": {
    "dotnet_interactive": {
     "language": "fsharp"
    },
    "polyglot_notebook": {
     "kernelName": "fsharp"
    }
   },
   "outputs": [],
   "source": [
    "[<RequireQualifiedAccess>]\n",
    "type Arguments =\n",
    "    | [<Argu.ArguAttributes.MainCommand; Argu.ArguAttributes.ExactlyOnce>] Path of path : string\n",
    "    | [<Argu.ArguAttributes.Unique>] Packages of packages : string list\n",
    "    | [<Argu.ArguAttributes.Unique>] Modules of modules : string list\n",
    "    | [<Argu.ArguAttributes.Unique>] Runtime of runtime : string\n",
    "    | [<Argu.ArguAttributes.Unique>] Persist_Only\n",
    "\n",
    "    interface Argu.IArgParserTemplate with\n",
    "        member s.Usage =\n",
    "            match s with\n",
    "            | Path _ -> nameof Path\n",
    "            | Packages _ -> nameof Packages\n",
    "            | Modules _ -> nameof Modules\n",
    "            | Runtime _ -> nameof Runtime\n",
    "            | Persist_Only -> nameof Persist_Only"
   ]
  },
  {
   "cell_type": "code",
   "execution_count": null,
   "metadata": {
    "dotnet_interactive": {
     "language": "fsharp"
    },
    "polyglot_notebook": {
     "kernelName": "fsharp"
    }
   },
   "outputs": [
    {
     "data": {
      "text/plain": [
       "USAGE: dotnet-repl [--help] [--packages [<packages>...]] [--modules [<modules>...]] [--runtime <runtime>] [--persist-only] <path>\r\n",
       "\r\n",
       "PATH:\r\n",
       "\r\n",
       "    <path>                Path\r\n",
       "\r\n",
       "OPTIONS:\r\n",
       "\r\n",
       "    --packages [<packages>...]\r\n",
       "                          Packages\r\n",
       "    --modules [<modules>...]\r\n",
       "                          Modules\r\n",
       "    --runtime <runtime>   Runtime\r\n",
       "    --persist-only        Persist_Only\r\n",
       "    --help                display this list of options.\r\n"
      ]
     },
     "metadata": {},
     "output_type": "display_data"
    }
   ],
   "source": [
    "//// test\n",
    "\n",
    "Argu.ArgumentParser.Create<Arguments>().PrintUsage ()"
   ]
  },
  {
   "cell_type": "markdown",
   "metadata": {},
   "source": [
    "## main"
   ]
  },
  {
   "cell_type": "code",
   "execution_count": null,
   "metadata": {
    "dotnet_interactive": {
     "language": "fsharp"
    },
    "polyglot_notebook": {
     "kernelName": "fsharp"
    }
   },
   "outputs": [],
   "source": [
    "let main args =\n",
    "    let argsMap = args |> Runtime.parseArgsMap<Arguments>\n",
    "\n",
    "    let path =\n",
    "        match argsMap.[nameof Arguments.Path] with\n",
    "        | [ Arguments.Path path ] -> Some path\n",
    "        | _ -> None\n",
    "        |> Option.get\n",
    "\n",
    "    let packages =\n",
    "        match argsMap |> Map.tryFind (nameof Arguments.Packages) with\n",
    "        | Some [ Arguments.Packages packages ] -> packages\n",
    "        | _ -> []\n",
    "\n",
    "    let modules =\n",
    "        match argsMap |> Map.tryFind (nameof Arguments.Modules) with\n",
    "        | Some [ Arguments.Modules modules ] -> modules\n",
    "        | _ -> []\n",
    "\n",
    "    let runtime =\n",
    "        match argsMap |> Map.tryFind (nameof Arguments.Runtime) with\n",
    "        | Some [ Arguments.Runtime runtime ] -> Some runtime\n",
    "        | _ -> None\n",
    "\n",
    "    let persistOnly = argsMap |> Map.containsKey (nameof Arguments.Persist_Only)\n",
    "\n",
    "    if persistOnly\n",
    "    then path |> persistFile packages modules |> Async.map (fun _ -> 0)\n",
    "    else path |> buildFile runtime packages modules\n",
    "    |> Async.runWithTimeout 60000\n",
    "    |> function\n",
    "        | Some exitCode -> exitCode\n",
    "        | None -> 1"
   ]
  },
  {
   "cell_type": "code",
   "execution_count": null,
   "metadata": {
    "dotnet_interactive": {
     "language": "fsharp"
    },
    "polyglot_notebook": {
     "kernelName": "fsharp"
    }
   },
   "outputs": [
    {
     "data": {
      "text/html": [
       "<div class=\"dni-plaintext\"><pre>0</pre></div><style>\r\n",
       ".dni-code-hint {\r\n",
       "    font-style: italic;\r\n",
       "    overflow: hidden;\r\n",
       "    white-space: nowrap;\r\n",
       "}\r\n",
       ".dni-treeview {\r\n",
       "    white-space: nowrap;\r\n",
       "}\r\n",
       ".dni-treeview td {\r\n",
       "    vertical-align: top;\r\n",
       "    text-align: start;\r\n",
       "}\r\n",
       "details.dni-treeview {\r\n",
       "    padding-left: 1em;\r\n",
       "}\r\n",
       "table td {\r\n",
       "    text-align: start;\r\n",
       "}\r\n",
       "table tr { \r\n",
       "    vertical-align: top; \r\n",
       "    margin: 0em 0px;\r\n",
       "}\r\n",
       "table tr td pre \r\n",
       "{ \r\n",
       "    vertical-align: top !important; \r\n",
       "    margin: 0em 0px !important;\r\n",
       "} \r\n",
       "table th {\r\n",
       "    text-align: start;\r\n",
       "}\r\n",
       "</style>"
      ]
     },
     "metadata": {},
     "output_type": "display_data"
    },
    {
     "name": "stdout",
     "output_type": "stream",
     "text": [
      "00:01:22 #189 [Debug] persistCodeProject / packages: [Argu; FSharp.Control.AsyncSeq; System.CommandLine; ... ] / modules: [lib/fsharp/Common.fs; lib/fsharp/CommonFSharp.fs; lib/fsharp/Async.fs; ... ] / name: Builder / code.Length: 7079\r\n",
      "00:01:22 #190 [Debug] buildProject / fullPath: C:\\home\\git\\polyglot\\target\\polyglot\\builder\\Builder\\Builder.fsproj\r\n",
      "00:01:22 #191 [Debug] executeAsync / options: { Command =\n",
      "   \"dotnet publish \"C:\\home\\git\\polyglot\\target/polyglot/builder\\Builder\\Builder.fsproj\" --configuration Release --output \"C:\\home\\git\\polyglot\\apps\\builder\\dist\" --runtime linux-x64\"\n",
      "  WorkingDirectory = Some \"C:\\home\\git\\polyglot\\target\\polyglot\\builder\\Builder\"\n",
      "  CancellationToken = None\n",
      "  OnLine = None }\r\n",
      "00:01:22 #192 [Verbose] > MSBuild version 17.10.0-preview-24101-01+07fd5d51f for .NET\r\n",
      "00:01:24 #193 [Verbose] >   Determining projects to restore...\r\n",
      "00:01:25 #194 [Verbose] >   Paket version 8.1.0-alpha001+ce4f2f15c42d2baa2414f79df344dd390c3621dc\r\n",
      "00:01:25 #195 [Verbose] >   The last full restore is still up to date. Nothing left to do.\r\n",
      "00:01:25 #196 [Verbose] >   Total time taken: 0 milliseconds\r\n",
      "00:01:26 #197 [Verbose] >   Paket version 8.1.0-alpha001+ce4f2f15c42d2baa2414f79df344dd390c3621dc\r\n",
      "00:01:27 #198 [Verbose] >   Restoring C:\\home\\git\\polyglot\\target\\polyglot\\builder\\Builder\\Builder.fsproj\r\n",
      "00:01:27 #199 [Verbose] >   Starting restore process.\r\n",
      "00:01:27 #200 [Verbose] >   Total time taken: 0 milliseconds\r\n",
      "00:01:29 #201 [Verbose] >   Restored C:\\home\\git\\polyglot\\target\\polyglot\\builder\\Builder\\Builder.fsproj (in 730 ms).\r\n",
      "00:01:29 #202 [Verbose] > C:\\Users\\i574n\\scoop\\apps\\dotnet-sdk-preview\\current\\sdk\\9.0.100-preview.1.24101.2\\Sdks\\Microsoft.NET.Sdk\\targets\\Microsoft.NET.RuntimeIdentifierInference.targets(313,5): message NETSDK1057: You are using a preview version of .NET. See: https://aka.ms/dotnet-support-policy [C:\\home\\git\\polyglot\\target\\polyglot\\builder\\Builder\\Builder.fsproj]\r\n",
      "00:01:39 #203 [Verbose] >   Builder -> C:\\home\\git\\polyglot\\target\\polyglot\\builder\\Builder\\bin\\Release\\net9.0\\linux-x64\\Builder.dll\r\n",
      "00:01:41 #204 [Verbose] >   Builder -> C:\\home\\git\\polyglot\\apps\\builder\\dist\\\r\n",
      "00:01:41 #205 [Debug] executeAsync / exitCode: 0 / output.Length: 1079\r\n",
      "00:01:41 #206 [Debug] executeAsync / options: { Command =\n",
      "   \"dotnet publish \"C:\\home\\git\\polyglot\\target/polyglot/builder\\Builder\\Builder.fsproj\" --configuration Release --output \"C:\\home\\git\\polyglot\\apps\\builder\\dist\" --runtime win-x64\"\n",
      "  WorkingDirectory = Some \"C:\\home\\git\\polyglot\\target\\polyglot\\builder\\Builder\"\n",
      "  CancellationToken = None\n",
      "  OnLine = None }\r\n",
      "00:01:41 #207 [Verbose] > MSBuild version 17.10.0-preview-24101-01+07fd5d51f for .NET\r\n",
      "00:01:42 #208 [Verbose] >   Determining projects to restore...\r\n",
      "00:01:43 #209 [Verbose] >   Restored C:\\home\\git\\polyglot\\target\\polyglot\\builder\\Builder\\Builder.fsproj (in 607 ms).\r\n",
      "00:01:43 #210 [Verbose] > C:\\Users\\i574n\\scoop\\apps\\dotnet-sdk-preview\\current\\sdk\\9.0.100-preview.1.24101.2\\Sdks\\Microsoft.NET.Sdk\\targets\\Microsoft.NET.RuntimeIdentifierInference.targets(313,5): message NETSDK1057: You are using a preview version of .NET. See: https://aka.ms/dotnet-support-policy [C:\\home\\git\\polyglot\\target\\polyglot\\builder\\Builder\\Builder.fsproj]\r\n",
      "00:01:51 #211 [Verbose] >   Builder -> C:\\home\\git\\polyglot\\target\\polyglot\\builder\\Builder\\bin\\Release\\net9.0\\win-x64\\Builder.dll\r\n",
      "00:01:56 #212 [Verbose] >   Builder -> C:\\home\\git\\polyglot\\apps\\builder\\dist\\\r\n",
      "00:01:56 #213 [Debug] executeAsync / exitCode: 0 / output.Length: 690\r\n"
     ]
    }
   ],
   "source": [
    "//// test\n",
    "\n",
    "let args =\n",
    "    System.Environment.GetEnvironmentVariable \"ARGS\"\n",
    "    |> Runtime.splitArgs\n",
    "    |> Seq.toArray\n",
    "\n",
    "match args with\n",
    "| [||] -> 0\n",
    "| args -> if main args = 0 then 0 else failwith \"main failed\""
   ]
  }
 ],
 "metadata": {},
 "nbformat": 4,
 "nbformat_minor": 5
}