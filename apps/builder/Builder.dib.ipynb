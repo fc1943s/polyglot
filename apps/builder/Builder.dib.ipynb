{
 "cells": [
  {
   "cell_type": "markdown",
   "metadata": {},
   "source": [
    "# Builder (Polyglot)"
   ]
  },
  {
   "cell_type": "code",
   "execution_count": null,
   "metadata": {
    "dotnet_interactive": {
     "language": "fsharp"
    },
    "polyglot_notebook": {
     "kernelName": "fsharp"
    }
   },
   "outputs": [],
   "source": [
    "#r @\"../../../../../../../.nuget/packages/fsharp.control.asyncseq/3.2.1/lib/netstandard2.1/FSharp.Control.AsyncSeq.dll\"\n",
    "#r @\"../../../../../../../.nuget/packages/system.reactive/6.0.1-preview.1/lib/net6.0/System.Reactive.dll\"\n",
    "#r @\"../../../../../../../.nuget/packages/system.reactive.linq/6.0.1-preview.1/lib/netstandard2.0/System.Reactive.Linq.dll\"\n",
    "#r @\"../../../../../../../.nuget/packages/argu/6.2.2/lib/netstandard2.0/Argu.dll\""
   ]
  },
  {
   "cell_type": "code",
   "execution_count": null,
   "metadata": {
    "dotnet_interactive": {
     "language": "fsharp"
    },
    "polyglot_notebook": {
     "kernelName": "fsharp"
    }
   },
   "outputs": [],
   "source": [
    "#!import ../../lib/fsharp/Notebooks.dib\n",
    "#!import ../../lib/fsharp/Testing.dib"
   ]
  },
  {
   "cell_type": "code",
   "execution_count": null,
   "metadata": {
    "dotnet_interactive": {
     "language": "fsharp"
    },
    "polyglot_notebook": {
     "kernelName": "fsharp"
    }
   },
   "outputs": [],
   "source": [
    "#!import ../../lib/fsharp/Common.fs\n",
    "#!import ../../lib/fsharp/CommonFSharp.fs\n",
    "#!import ../../lib/fsharp/Async.fs\n",
    "#!import ../../lib/fsharp/AsyncSeq.fs\n",
    "#!import ../../lib/fsharp/Runtime.fs\n",
    "#!import ../../lib/fsharp/FileSystem.fs"
   ]
  },
  {
   "cell_type": "code",
   "execution_count": null,
   "metadata": {
    "dotnet_interactive": {
     "language": "fsharp"
    },
    "polyglot_notebook": {
     "kernelName": "fsharp"
    }
   },
   "outputs": [],
   "source": [
    "#if !INTERACTIVE\n",
    "open Lib\n",
    "#endif"
   ]
  },
  {
   "cell_type": "code",
   "execution_count": null,
   "metadata": {
    "dotnet_interactive": {
     "language": "fsharp"
    },
    "polyglot_notebook": {
     "kernelName": "fsharp"
    }
   },
   "outputs": [],
   "source": [
    "open Common\n",
    "open SpiralFileSystem.Operators"
   ]
  },
  {
   "cell_type": "markdown",
   "metadata": {},
   "source": [
    "## buildProject"
   ]
  },
  {
   "cell_type": "code",
   "execution_count": null,
   "metadata": {
    "dotnet_interactive": {
     "language": "fsharp"
    },
    "polyglot_notebook": {
     "kernelName": "fsharp"
    }
   },
   "outputs": [],
   "source": [
    "let inline buildProject runtime outputDir path = async {\n",
    "    let fullPath = path |> System.IO.Path.GetFullPath\n",
    "    let fileDir = fullPath |> System.IO.Path.GetDirectoryName\n",
    "    let extension = fullPath |> System.IO.Path.GetExtension\n",
    "\n",
    "    trace Debug\n",
    "        (fun () -> \"buildProject\")\n",
    "        (fun () -> $\"fullPath: {fullPath} / {_locals ()}\")\n",
    "\n",
    "    match extension with\n",
    "    | \".fsproj\" -> ()\n",
    "    | _ -> failwith \"Invalid project file\"\n",
    "\n",
    "    let runtimes =\n",
    "        runtime\n",
    "        |> Option.map List.singleton\n",
    "        |> Option.defaultValue [ \"linux-x64\"; \"win-x64\" ]\n",
    "\n",
    "    let outputDir = outputDir |> Option.defaultValue \"dist\"\n",
    "\n",
    "    return!\n",
    "        runtimes\n",
    "        |> List.map (fun runtime -> async {\n",
    "            let command = $@\"dotnet publish \"\"{path}\"\" --configuration Release --output \"\"{outputDir}\"\" --runtime {runtime}\"\n",
    "            let! exitCode, _result =\n",
    "                SpiralRuntime.execution_options (fun x ->\n",
    "                    { x with\n",
    "                        l1 = command\n",
    "                        l6 = Some fileDir\n",
    "                    }\n",
    "                )\n",
    "                |> SpiralRuntime.execute_with_options_async\n",
    "            return exitCode\n",
    "        })\n",
    "        |> Async.Sequential\n",
    "        |> Async.map Array.sum\n",
    "}"
   ]
  },
  {
   "cell_type": "markdown",
   "metadata": {},
   "source": [
    "## persistCodeProject"
   ]
  },
  {
   "cell_type": "code",
   "execution_count": null,
   "metadata": {
    "dotnet_interactive": {
     "language": "fsharp"
    },
    "polyglot_notebook": {
     "kernelName": "fsharp"
    }
   },
   "outputs": [],
   "source": [
    "let inline persistCodeProject packages modules name hash code = async {\n",
    "    trace Debug\n",
    "        (fun () -> \"persistCodeProject\")\n",
    "        (fun () -> $\"packages: {packages} / modules: {modules} / name: {name} / hash: {hash} / code.Length: {code |> String.length} / {_locals ()}\")\n",
    "\n",
    "    let workspaceRoot = SpiralFileSystem.get_workspace_root ()\n",
    "\n",
    "    let targetDir =\n",
    "        let targetDir = workspaceRoot </> \"target/polyglot/builder\" </> name\n",
    "        match hash with\n",
    "        | Some hash -> targetDir </> \"packages\" </> hash\n",
    "        | None -> targetDir\n",
    "    System.IO.Directory.CreateDirectory targetDir |> ignore\n",
    "\n",
    "    let filePath = targetDir </> $\"{name}.fs\" |> System.IO.Path.GetFullPath\n",
    "    do! code |> SpiralFileSystem.write_all_text_exists filePath\n",
    "\n",
    "    let modulesCode =\n",
    "        modules\n",
    "        |> List.map (fun path -> $\"\"\"<Compile Include=\"{workspaceRoot </> path}\" />\"\"\")\n",
    "        |> SpiralSm.concat \"\\n        \"\n",
    "\n",
    "    let fsprojPath = targetDir </> $\"{name}.fsproj\"\n",
    "    let fsprojCode = $\"\"\"<Project Sdk=\"Microsoft.NET.Sdk\">\n",
    "    <PropertyGroup>\n",
    "        <TargetFramework>net9.0</TargetFramework>\n",
    "        <LangVersion>preview</LangVersion>\n",
    "        <RollForward>Major</RollForward>\n",
    "        <TargetLatestRuntimePatch>true</TargetLatestRuntimePatch>\n",
    "        <PublishAot>false</PublishAot>\n",
    "        <PublishTrimmed>false</PublishTrimmed>\n",
    "        <PublishSingleFile>true</PublishSingleFile>\n",
    "        <SelfContained>true</SelfContained>\n",
    "        <Version>0.0.1-alpha.1</Version>\n",
    "        <OutputType>Exe</OutputType>\n",
    "    </PropertyGroup>\n",
    "\n",
    "    <ItemGroup>\n",
    "        {modulesCode}\n",
    "        <Compile Include=\"{filePath}\" />\n",
    "    </ItemGroup>\n",
    "\n",
    "    <Import Project=\"{workspaceRoot}/.paket/Paket.Restore.targets\" />\n",
    "</Project>\n",
    "\"\"\"\n",
    "    do! fsprojCode |> SpiralFileSystem.write_all_text_exists fsprojPath\n",
    "\n",
    "    let paketReferencesPath = targetDir </> \"paket.references\"\n",
    "    let paketReferencesCode =\n",
    "        \"FSharp.Core\" :: packages\n",
    "        |> SpiralSm.concat \"\\n\"\n",
    "    do! paketReferencesCode |> SpiralFileSystem.write_all_text_exists paketReferencesPath\n",
    "\n",
    "    return fsprojPath\n",
    "}"
   ]
  },
  {
   "cell_type": "markdown",
   "metadata": {},
   "source": [
    "## buildCode"
   ]
  },
  {
   "cell_type": "code",
   "execution_count": null,
   "metadata": {
    "dotnet_interactive": {
     "language": "fsharp"
    },
    "polyglot_notebook": {
     "kernelName": "fsharp"
    }
   },
   "outputs": [],
   "source": [
    "let inline buildCode runtime packages modules outputDir name code = async {\n",
    "    let! fsprojPath = code |> persistCodeProject packages modules name None\n",
    "    let! exitCode = fsprojPath |> buildProject runtime outputDir\n",
    "    if exitCode > 0 then\n",
    "        let! fsprojText = fsprojPath |> SpiralFileSystem.read_all_text_async\n",
    "        trace Critical\n",
    "            (fun () -> \"buildCode\")\n",
    "            (fun () -> $\"code: {code |> SpiralSm.ellipsis_end 400} / fsprojText: {fsprojText} / {_locals ()}\")\n",
    "    return exitCode\n",
    "}"
   ]
  },
  {
   "cell_type": "code",
   "execution_count": null,
   "metadata": {
    "dotnet_interactive": {
     "language": "fsharp"
    },
    "polyglot_notebook": {
     "kernelName": "fsharp"
    }
   },
   "outputs": [
    {
     "name": "stdout",
     "output_type": "stream",
     "text": [
      "00:00:02   debug #1 persistCodeProject / packages: [] / modules: [] / name: test1 / hash:  / code.Length: 15\n",
      "00:00:02   debug #2 buildProject / fullPath: C:\\home\\git\\polyglot\\target\\polyglot\\builder\\test1\\test1.fsproj\n",
      "00:00:04   debug #1 execute_with_options_async / options: struct (None,\n",
      "        \"dotnet publish \"C:\\home\\git\\polyglot\\target/polyglot/builder\\test1\\test1.fsproj\" --configuration Release --output \"dist\" --runtime linux-x64\",\n",
      "        [||], None, None, true,\n",
      "        Some \"C:\\home\\git\\polyglot\\target\\polyglot\\builder\\test1\")\n",
      "00:00:04 verbose #2 > MSBuild version 17.10.0-preview-24101-01+07fd5d51f for .NET\n",
      "00:00:05 verbose #3 >   Determining projects to restore...\n",
      "00:00:07 verbose #4 >   Restored C:\\home\\git\\polyglot\\target\\polyglot\\builder\\test1\\test1.fsproj (in 1.23 sec).\n",
      "00:00:07 verbose #5 > C:\\Users\\i574n\\scoop\\apps\\dotnet-sdk-preview\\current\\sdk\\9.0.100-preview.1.24101.2\\Sdks\\Microsoft.NET.Sdk\\targets\\Microsoft.NET.RuntimeIdentifierInference.targets(313,5): message NETSDK1057: You are using a preview version of .NET. See: https://aka.ms/dotnet-support-policy [C:\\home\\git\\polyglot\\target\\polyglot\\builder\\test1\\test1.fsproj]\n",
      "00:00:09 verbose #6 > C:\\home\\git\\polyglot\\target\\polyglot\\builder\\test1\\test1.fs(1,16): warning FS0988: Main module of program is empty: nothing will happen when it is run [C:\\home\\git\\polyglot\\target\\polyglot\\builder\\test1\\test1.fsproj]\n",
      "00:00:10 verbose #7 >   test1 -> C:\\home\\git\\polyglot\\target\\polyglot\\builder\\test1\\bin\\Release\\net9.0\\linux-x64\\test1.dll\n",
      "00:00:12 verbose #8 >   test1 -> C:\\home\\git\\polyglot\\target\\polyglot\\builder\\test1\\dist\\\n",
      "00:00:12   debug #9 execute_with_options_async / exit_code: 0 / output.Length: 912\n",
      "00:00:12   debug #10 execute_with_options_async / options: struct (None,\n",
      "        \"dotnet publish \"C:\\home\\git\\polyglot\\target/polyglot/builder\\test1\\test1.fsproj\" --configuration Release --output \"dist\" --runtime win-x64\",\n",
      "        [||], None, None, true,\n",
      "        Some \"C:\\home\\git\\polyglot\\target\\polyglot\\builder\\test1\")\n",
      "00:00:12 verbose #11 > MSBuild version 17.10.0-preview-24101-01+07fd5d51f for .NET\n",
      "00:00:12 verbose #12 >   Determining projects to restore...\n",
      "00:00:13 verbose #13 >   Restored C:\\home\\git\\polyglot\\target\\polyglot\\builder\\test1\\test1.fsproj (in 298 ms).\n",
      "00:00:13 verbose #14 > C:\\Users\\i574n\\scoop\\apps\\dotnet-sdk-preview\\current\\sdk\\9.0.100-preview.1.24101.2\\Sdks\\Microsoft.NET.Sdk\\targets\\Microsoft.NET.RuntimeIdentifierInference.targets(313,5): message NETSDK1057: You are using a preview version of .NET. See: https://aka.ms/dotnet-support-policy [C:\\home\\git\\polyglot\\target\\polyglot\\builder\\test1\\test1.fsproj]\n",
      "00:00:15 verbose #15 > C:\\home\\git\\polyglot\\target\\polyglot\\builder\\test1\\test1.fs(1,16): warning FS0988: Main module of program is empty: nothing will happen when it is run [C:\\home\\git\\polyglot\\target\\polyglot\\builder\\test1\\test1.fsproj]\n",
      "00:00:16 verbose #16 >   test1 -> C:\\home\\git\\polyglot\\target\\polyglot\\builder\\test1\\bin\\Release\\net9.0\\win-x64\\test1.dll\n",
      "00:00:18 verbose #17 >   test1 -> C:\\home\\git\\polyglot\\target\\polyglot\\builder\\test1\\dist\\\n",
      "00:00:18   debug #18 execute_with_options_async / exit_code: 0 / output.Length: 908\n",
      "Some 0\n",
      "\n"
     ]
    }
   ],
   "source": [
    "//// test\n",
    "\n",
    "\"1 + 1 |> ignore\"\n",
    "|> buildCode None [] [] None \"test1\"\n",
    "|> Async.runWithTimeout 180000\n",
    "|> _assertEqual (Some 0)"
   ]
  },
  {
   "cell_type": "code",
   "execution_count": null,
   "metadata": {
    "dotnet_interactive": {
     "language": "fsharp"
    },
    "polyglot_notebook": {
     "kernelName": "fsharp"
    }
   },
   "outputs": [
    {
     "name": "stdout",
     "output_type": "stream",
     "text": [
      "00:00:17   debug #3 persistCodeProject / packages: [] / modules: [] / name: test2 / hash:  / code.Length: 15\n",
      "00:00:17   debug #4 buildProject / fullPath: C:\\home\\git\\polyglot\\target\\polyglot\\builder\\test2\\test2.fsproj\n",
      "00:00:19   debug #19 execute_with_options_async / options: struct (None,\n",
      "        \"dotnet publish \"C:\\home\\git\\polyglot\\target/polyglot/builder\\test2\\test2.fsproj\" --configuration Release --output \"dist\" --runtime linux-x64\",\n",
      "        [||], None, None, true,\n",
      "        Some \"C:\\home\\git\\polyglot\\target\\polyglot\\builder\\test2\")\n",
      "00:00:19 verbose #20 > MSBuild version 17.10.0-preview-24101-01+07fd5d51f for .NET\n",
      "00:00:19 verbose #21 >   Determining projects to restore...\n",
      "00:00:20 verbose #22 >   Restored C:\\home\\git\\polyglot\\target\\polyglot\\builder\\test2\\test2.fsproj (in 331 ms).\n",
      "00:00:20 verbose #23 > C:\\Users\\i574n\\scoop\\apps\\dotnet-sdk-preview\\current\\sdk\\9.0.100-preview.1.24101.2\\Sdks\\Microsoft.NET.Sdk\\targets\\Microsoft.NET.RuntimeIdentifierInference.targets(313,5): message NETSDK1057: You are using a preview version of .NET. See: https://aka.ms/dotnet-support-policy [C:\\home\\git\\polyglot\\target\\polyglot\\builder\\test2\\test2.fsproj]\n",
      "00:00:22 verbose #24 > C:\\home\\git\\polyglot\\target\\polyglot\\builder\\test2\\test2.fs(1,5): error FS0039: The value or constructor 'a' is not defined. [C:\\home\\git\\polyglot\\target\\polyglot\\builder\\test2\\test2.fsproj]\n",
      "00:00:22   debug #25 execute_with_options_async / exit_code: 1 / output.Length: 715\n",
      "00:00:22   debug #26 execute_with_options_async / options: struct (None,\n",
      "        \"dotnet publish \"C:\\home\\git\\polyglot\\target/polyglot/builder\\test2\\test2.fsproj\" --configuration Release --output \"dist\" --runtime win-x64\",\n",
      "        [||], None, None, true,\n",
      "        Some \"C:\\home\\git\\polyglot\\target\\polyglot\\builder\\test2\")\n",
      "00:00:22 verbose #27 > MSBuild version 17.10.0-preview-24101-01+07fd5d51f for .NET\n",
      "00:00:22 verbose #28 >   Determining projects to restore...\n",
      "00:00:23 verbose #29 >   Restored C:\\home\\git\\polyglot\\target\\polyglot\\builder\\test2\\test2.fsproj (in 302 ms).\n",
      "00:00:23 verbose #30 > C:\\Users\\i574n\\scoop\\apps\\dotnet-sdk-preview\\current\\sdk\\9.0.100-preview.1.24101.2\\Sdks\\Microsoft.NET.Sdk\\targets\\Microsoft.NET.RuntimeIdentifierInference.targets(313,5): message NETSDK1057: You are using a preview version of .NET. See: https://aka.ms/dotnet-support-policy [C:\\home\\git\\polyglot\\target\\polyglot\\builder\\test2\\test2.fsproj]\n",
      "00:00:25 verbose #31 > C:\\home\\git\\polyglot\\target\\polyglot\\builder\\test2\\test2.fs(1,5): error FS0039: The value or constructor 'a' is not defined. [C:\\home\\git\\polyglot\\target\\polyglot\\builder\\test2\\test2.fsproj]\n",
      "00:00:25   debug #32 execute_with_options_async / exit_code: 1 / output.Length: 715\n",
      "00:00:23 critical #5 buildCode / code: 1 + a |> ignore / fsprojText: <Project Sdk=\"Microsoft.NET.Sdk\">\n",
      "    <PropertyGroup>\n",
      "        <TargetFramework>net9.0</TargetFramework>\n",
      "        <LangVersion>preview</LangVersion>\n",
      "        <RollForward>Major</RollForward>\n",
      "        <TargetLatestRuntimePatch>true</TargetLatestRuntimePatch>\n",
      "        <PublishAot>false</PublishAot>\n",
      "        <PublishTrimmed>false</PublishTrimmed>\n",
      "        <PublishSingleFile>true</PublishSingleFile>\n",
      "        <SelfContained>true</SelfContained>\n",
      "        <Version>0.0.1-alpha.1</Version>\n",
      "        <OutputType>Exe</OutputType>\n",
      "    </PropertyGroup>\n",
      "\n",
      "    <ItemGroup>\n",
      "        \n",
      "        <Compile Include=\"C:\\home\\git\\polyglot\\target\\polyglot\\builder\\test2\\test2.fs\" />\n",
      "    </ItemGroup>\n",
      "\n",
      "    <Import Project=\"C:\\home\\git\\polyglot/.paket/Paket.Restore.targets\" />\n",
      "</Project>\n",
      "\n",
      "Some 2\n",
      "\n"
     ]
    }
   ],
   "source": [
    "//// test\n",
    "\n",
    "\"1 + a |> ignore\"\n",
    "|> buildCode None [] [] None \"test2\"\n",
    "|> Async.runWithTimeout 180000\n",
    "|> _assertEqual (Some 2)"
   ]
  },
  {
   "cell_type": "markdown",
   "metadata": {},
   "source": [
    "## readFile"
   ]
  },
  {
   "cell_type": "code",
   "execution_count": null,
   "metadata": {
    "dotnet_interactive": {
     "language": "fsharp"
    },
    "polyglot_notebook": {
     "kernelName": "fsharp"
    }
   },
   "outputs": [],
   "source": [
    "let inline readFile path = async {\n",
    "    let! code = path |> SpiralFileSystem.read_all_text_async\n",
    "\n",
    "    let code = System.Text.RegularExpressions.Regex.Replace (\n",
    "        code,\n",
    "        @\"( *)(let\\s+main\\s+.*?\\s*=)\",\n",
    "        fun m -> m.Groups.[1].Value + \"[<EntryPoint>]\\n\" + m.Groups.[1].Value + m.Groups.[2].Value\n",
    "    )\n",
    "\n",
    "    let codeTrim = code |> SpiralSm.trim_end [||]\n",
    "    return\n",
    "        if codeTrim |> SpiralSm.ends_with \"\\n()\"\n",
    "        then codeTrim |> SpiralSm.slice 0 ((codeTrim |> String.length) - 3)\n",
    "        else code\n",
    "}"
   ]
  },
  {
   "cell_type": "markdown",
   "metadata": {},
   "source": [
    "## buildFile"
   ]
  },
  {
   "cell_type": "code",
   "execution_count": null,
   "metadata": {
    "dotnet_interactive": {
     "language": "fsharp"
    },
    "polyglot_notebook": {
     "kernelName": "fsharp"
    }
   },
   "outputs": [],
   "source": [
    "let inline buildFile runtime packages modules path = async {\n",
    "    let fullPath = path |> System.IO.Path.GetFullPath\n",
    "    let dir = fullPath |> System.IO.Path.GetDirectoryName\n",
    "    let name = fullPath |> System.IO.Path.GetFileNameWithoutExtension\n",
    "    let! code = fullPath |> readFile\n",
    "    return! code |> buildCode runtime packages modules (dir </> \"dist\" |> Some) name\n",
    "}"
   ]
  },
  {
   "cell_type": "markdown",
   "metadata": {},
   "source": [
    "## persistFile"
   ]
  },
  {
   "cell_type": "code",
   "execution_count": null,
   "metadata": {
    "dotnet_interactive": {
     "language": "fsharp"
    },
    "polyglot_notebook": {
     "kernelName": "fsharp"
    }
   },
   "outputs": [],
   "source": [
    "let inline persistFile packages modules path = async {\n",
    "    let fullPath = path |> System.IO.Path.GetFullPath\n",
    "    let name = fullPath |> System.IO.Path.GetFileNameWithoutExtension\n",
    "    let! code = fullPath |> readFile\n",
    "    return! code |> persistCodeProject packages modules name None\n",
    "}"
   ]
  },
  {
   "cell_type": "markdown",
   "metadata": {},
   "source": [
    "## Arguments"
   ]
  },
  {
   "cell_type": "code",
   "execution_count": null,
   "metadata": {
    "dotnet_interactive": {
     "language": "fsharp"
    },
    "polyglot_notebook": {
     "kernelName": "fsharp"
    }
   },
   "outputs": [],
   "source": [
    "[<RequireQualifiedAccess>]\n",
    "type Arguments =\n",
    "    | [<Argu.ArguAttributes.MainCommand; Argu.ArguAttributes.ExactlyOnce>] Path of path : string\n",
    "    | [<Argu.ArguAttributes.Unique>] Packages of packages : string list\n",
    "    | [<Argu.ArguAttributes.Unique>] Modules of modules : string list\n",
    "    | [<Argu.ArguAttributes.Unique>] Runtime of runtime : string\n",
    "    | [<Argu.ArguAttributes.Unique>] Persist_Only\n",
    "\n",
    "    interface Argu.IArgParserTemplate with\n",
    "        member s.Usage =\n",
    "            match s with\n",
    "            | Path _ -> nameof Path\n",
    "            | Packages _ -> nameof Packages\n",
    "            | Modules _ -> nameof Modules\n",
    "            | Runtime _ -> nameof Runtime\n",
    "            | Persist_Only -> nameof Persist_Only"
   ]
  },
  {
   "cell_type": "code",
   "execution_count": null,
   "metadata": {
    "dotnet_interactive": {
     "language": "fsharp"
    },
    "polyglot_notebook": {
     "kernelName": "fsharp"
    }
   },
   "outputs": [
    {
     "data": {
      "text/plain": [
       "\"USAGE: dotnet-repl [--help] [--packages [<packages>...]]\n",
       "                   [--modules [<modules>...]] [--runtime <runtime>]\n",
       "                   [--persist-only] <path>\n",
       "\n",
       "PATH:\n",
       "\n",
       "    <path>                Path\n",
       "\n",
       "OPTIONS:\n",
       "\n",
       "    --packages [<packages>...]\n",
       "                          Packages\n",
       "    --modules [<modules>...]\n",
       "                          Modules\n",
       "    --runtime <runtime>   Runtime\n",
       "    --persist-only        Persist_Only\n",
       "    --help                display this list of options.\n",
       "\"\n"
      ]
     },
     "metadata": {},
     "output_type": "display_data"
    }
   ],
   "source": [
    "//// test\n",
    "\n",
    "Argu.ArgumentParser.Create<Arguments>().PrintUsage ()"
   ]
  },
  {
   "cell_type": "markdown",
   "metadata": {},
   "source": [
    "## main"
   ]
  },
  {
   "cell_type": "code",
   "execution_count": null,
   "metadata": {
    "dotnet_interactive": {
     "language": "fsharp"
    },
    "polyglot_notebook": {
     "kernelName": "fsharp"
    }
   },
   "outputs": [],
   "source": [
    "let main args =\n",
    "    let argsMap = args |> Runtime.parseArgsMap<Arguments>\n",
    "\n",
    "    let path =\n",
    "        match argsMap.[nameof Arguments.Path] with\n",
    "        | [ Arguments.Path path ] -> Some path\n",
    "        | _ -> None\n",
    "        |> Option.get\n",
    "\n",
    "    let packages =\n",
    "        match argsMap |> Map.tryFind (nameof Arguments.Packages) with\n",
    "        | Some [ Arguments.Packages packages ] -> packages\n",
    "        | _ -> []\n",
    "\n",
    "    let modules =\n",
    "        match argsMap |> Map.tryFind (nameof Arguments.Modules) with\n",
    "        | Some [ Arguments.Modules modules ] -> modules\n",
    "        | _ -> []\n",
    "\n",
    "    let runtime =\n",
    "        match argsMap |> Map.tryFind (nameof Arguments.Runtime) with\n",
    "        | Some [ Arguments.Runtime runtime ] -> Some runtime\n",
    "        | _ -> None\n",
    "\n",
    "    let persistOnly = argsMap |> Map.containsKey (nameof Arguments.Persist_Only)\n",
    "\n",
    "    if persistOnly\n",
    "    then path |> persistFile packages modules |> Async.map (fun _ -> 0)\n",
    "    else path |> buildFile runtime packages modules\n",
    "    |> Async.runWithTimeout (60000 * 60)\n",
    "    |> function\n",
    "        | Some exitCode -> exitCode\n",
    "        | None -> 1"
   ]
  },
  {
   "cell_type": "code",
   "execution_count": null,
   "metadata": {
    "dotnet_interactive": {
     "language": "fsharp"
    },
    "polyglot_notebook": {
     "kernelName": "fsharp"
    }
   },
   "outputs": [
    {
     "data": {
      "text/html": [
       "<div class=\"dni-plaintext\"><pre>0\n",
       "</pre></div><style>\n",
       ".dni-code-hint {\n",
       "    font-style: italic;\n",
       "    overflow: hidden;\n",
       "    white-space: nowrap;\n",
       "}\n",
       ".dni-treeview {\n",
       "    white-space: nowrap;\n",
       "}\n",
       ".dni-treeview td {\n",
       "    vertical-align: top;\n",
       "    text-align: start;\n",
       "}\n",
       "details.dni-treeview {\n",
       "    padding-left: 1em;\n",
       "}\n",
       "table td {\n",
       "    text-align: start;\n",
       "}\n",
       "table tr { \n",
       "    vertical-align: top; \n",
       "    margin: 0em 0px;\n",
       "}\n",
       "table tr td pre \n",
       "{ \n",
       "    vertical-align: top !important; \n",
       "    margin: 0em 0px !important;\n",
       "} \n",
       "table th {\n",
       "    text-align: start;\n",
       "}\n",
       "</style>"
      ]
     },
     "metadata": {},
     "output_type": "display_data"
    },
    {
     "name": "stdout",
     "output_type": "stream",
     "text": [
      "00:00:24   debug #6 persistCodeProject / packages: [Argu; FSharp.Control.AsyncSeq; System.Reactive.Linq] / modules: [lib/spiral/common.fsx; lib/spiral/sm.fsx; lib/spiral/crypto.fsx; ... ] / name: Builder / hash:  / code.Length: 7651\n",
      "00:00:24   debug #7 buildProject / fullPath: C:\\home\\git\\polyglot\\target\\polyglot\\builder\\Builder\\Builder.fsproj\n",
      "00:00:26   debug #33 execute_with_options_async / options: struct (None,\n",
      "        \"dotnet publish \"C:\\home\\git\\polyglot\\target/polyglot/builder\\Builder\\Builder.fsproj\" --configuration Release --output \"C:\\home\\git\\polyglot\\apps\\builder\\dist\" --runtime linux-x64\",\n",
      "        [||], None, None, true,\n",
      "        Some \"C:\\home\\git\\polyglot\\target\\polyglot\\builder\\Builder\")\n",
      "00:00:26 verbose #34 > MSBuild version 17.10.0-preview-24101-01+07fd5d51f for .NET\n",
      "00:00:26 verbose #35 >   Determining projects to restore...\n",
      "00:00:27 verbose #36 >   Restored C:\\home\\git\\polyglot\\target\\polyglot\\builder\\Builder\\Builder.fsproj (in 374 ms).\n",
      "00:00:27 verbose #37 > C:\\Users\\i574n\\scoop\\apps\\dotnet-sdk-preview\\current\\sdk\\9.0.100-preview.1.24101.2\\Sdks\\Microsoft.NET.Sdk\\targets\\Microsoft.NET.RuntimeIdentifierInference.targets(313,5): message NETSDK1057: You are using a preview version of .NET. See: https://aka.ms/dotnet-support-policy [C:\\home\\git\\polyglot\\target\\polyglot\\builder\\Builder\\Builder.fsproj]\n",
      "00:00:36 verbose #38 >   Builder -> C:\\home\\git\\polyglot\\target\\polyglot\\builder\\Builder\\bin\\Release\\net9.0\\linux-x64\\Builder.dll\n",
      "00:00:37 verbose #39 >   Builder -> C:\\home\\git\\polyglot\\apps\\builder\\dist\\\n",
      "00:00:37   debug #40 execute_with_options_async / exit_code: 0 / output.Length: 692\n",
      "00:00:37   debug #41 execute_with_options_async / options: struct (None,\n",
      "        \"dotnet publish \"C:\\home\\git\\polyglot\\target/polyglot/builder\\Builder\\Builder.fsproj\" --configuration Release --output \"C:\\home\\git\\polyglot\\apps\\builder\\dist\" --runtime win-x64\",\n",
      "        [||], None, None, true,\n",
      "        Some \"C:\\home\\git\\polyglot\\target\\polyglot\\builder\\Builder\")\n",
      "00:00:37 verbose #42 > MSBuild version 17.10.0-preview-24101-01+07fd5d51f for .NET\n",
      "00:00:38 verbose #43 >   Determining projects to restore...\n",
      "00:00:38 verbose #44 >   Restored C:\\home\\git\\polyglot\\target\\polyglot\\builder\\Builder\\Builder.fsproj (in 335 ms).\n",
      "00:00:39 verbose #45 > C:\\Users\\i574n\\scoop\\apps\\dotnet-sdk-preview\\current\\sdk\\9.0.100-preview.1.24101.2\\Sdks\\Microsoft.NET.Sdk\\targets\\Microsoft.NET.RuntimeIdentifierInference.targets(313,5): message NETSDK1057: You are using a preview version of .NET. See: https://aka.ms/dotnet-support-policy [C:\\home\\git\\polyglot\\target\\polyglot\\builder\\Builder\\Builder.fsproj]\n",
      "00:00:47 verbose #46 >   Builder -> C:\\home\\git\\polyglot\\target\\polyglot\\builder\\Builder\\bin\\Release\\net9.0\\win-x64\\Builder.dll\n",
      "00:00:50 verbose #47 >   Builder -> C:\\home\\git\\polyglot\\apps\\builder\\dist\\\n",
      "00:00:50   debug #48 execute_with_options_async / exit_code: 0 / output.Length: 690\n"
     ]
    }
   ],
   "source": [
    "//// test\n",
    "\n",
    "let args =\n",
    "    System.Environment.GetEnvironmentVariable \"ARGS\"\n",
    "    |> SpiralRuntime.split_args\n",
    "    |> Seq.toArray\n",
    "\n",
    "match args with\n",
    "| [||] -> 0\n",
    "| args -> if main args = 0 then 0 else failwith \"main failed\""
   ]
  }
 ],
 "metadata": {},
 "nbformat": 4,
 "nbformat_minor": 5
}