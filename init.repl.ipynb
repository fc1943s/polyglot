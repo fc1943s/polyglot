{
 "cells": [
  {
   "cell_type": "code",
   "execution_count": null,
   "metadata": {
    "dotnet_repl_cellExecutionStartTime": "2023-06-25T18:07:20.0440998-04:00",
    "dotnet_repl_cellExecutionEndTime": "2023-06-25T18:07:20.7394257-04:00",
    "dotnet_interactive": {
     "language": "pwsh"
    },
    "polyglot_notebook": {
     "kernelName": "pwsh"
    }
   },
   "outputs": [],
   "source": [
    "$ScriptDir =\n",
    "    [Environment]::CommandLine -match '--working-dir\\s+(\\S+)' ?\n",
    "        $Matches[1] :\n",
    "        ($m = [Environment]::CommandLine -match '--run\\s+(\\S+)' ? $Matches[1] : $null) -and $m -match '[\\\\/]' ?\n",
    "            (Split-Path -Path $m -Parent) :\n",
    "            [Environment]::CurrentDirectory\n",
    "Set-Location $ScriptDir\n",
    "$ErrorActionPreference = \"Stop\"\n",
    ". ./core.ps1"
   ]
  },
  {
   "cell_type": "code",
   "execution_count": null,
   "metadata": {
    "dotnet_repl_cellExecutionStartTime": "2023-06-25T18:07:20.7430891-04:00",
    "dotnet_repl_cellExecutionEndTime": "2023-06-25T18:07:21.3072217-04:00",
    "dotnet_interactive": {
     "language": "pwsh"
    },
    "polyglot_notebook": {
     "kernelName": "pwsh"
    }
   },
   "outputs": [
    {
     "name": "stdout",
     "output_type": "stream",
     "text": [
      "\u001B[31;1minfo: component 'clippy' for target 'x86_64-pc-windows-msvc' is up to date\u001B[0m\r\n",
      "\u001B[31;1minfo: component 'rust-src' is up to date\u001B[0m\r\n",
      "\u001B[31;1minfo: component 'rustfmt' for target 'x86_64-pc-windows-msvc' is up to date\u001B[0m\r\n"
     ]
    }
   ],
   "source": [
    "rustup +nightly component add clippy rust-src rustfmt"
   ]
  },
  {
   "cell_type": "code",
   "execution_count": null,
   "metadata": {
    "dotnet_repl_cellExecutionStartTime": "2023-06-25T18:07:21.307293-04:00",
    "dotnet_repl_cellExecutionEndTime": "2023-06-25T18:07:23.703358-04:00",
    "dotnet_interactive": {
     "language": "pwsh"
    },
    "polyglot_notebook": {
     "kernelName": "pwsh"
    }
   },
   "outputs": [
    {
     "name": "stdout",
     "output_type": "stream",
     "text": [
      "\u001B[31;1minfo: syncing channel updates for 'stable-x86_64-pc-windows-msvc'\u001B[0m\r\n",
      "\u001B[31;1minfo: syncing channel updates for 'nightly-x86_64-pc-windows-msvc'\u001B[0m\r\n",
      "\u001B[31;1minfo: checking for self-update\u001B[0m\r\n",
      "\r\n",
      "   stable-x86_64-pc-windows-msvc unchanged - rustc 1.70.0 (90c541806 2023-05-31)\r\n",
      "  nightly-x86_64-pc-windows-msvc unchanged - rustc 1.72.0-nightly (f7ca9df69 2023-06-24)\r\n",
      "\r\n",
      "\u001B[31;1minfo: cleaning up downloads & tmp directories\u001B[0m\r\n"
     ]
    }
   ],
   "source": [
    "rustup update"
   ]
  },
  {
   "cell_type": "code",
   "execution_count": null,
   "metadata": {
    "dotnet_repl_cellExecutionStartTime": "2023-06-25T18:07:23.7034089-04:00",
    "dotnet_repl_cellExecutionEndTime": "2023-06-25T18:07:26.5164714-04:00",
    "dotnet_interactive": {
     "language": "pwsh"
    },
    "polyglot_notebook": {
     "kernelName": "pwsh"
    }
   },
   "outputs": [
    {
     "name": "stdout",
     "output_type": "stream",
     "text": [
      "\u001B[31;1m    Updating crates.io index\u001B[0m\r\n",
      "\u001B[31;1m     Ignored package `wasm-pack v0.12.0` is already installed, use --force to override\u001B[0m\r\n"
     ]
    }
   ],
   "source": [
    "cargo +nightly install wasm-pack"
   ]
  },
  {
   "cell_type": "code",
   "execution_count": null,
   "metadata": {
    "dotnet_repl_cellExecutionStartTime": "2023-06-25T18:07:26.5165314-04:00",
    "dotnet_repl_cellExecutionEndTime": "2023-06-25T18:07:35.2985669-04:00",
    "dotnet_interactive": {
     "language": "pwsh"
    },
    "polyglot_notebook": {
     "kernelName": "pwsh"
    }
   },
   "outputs": [
    {
     "name": "stdout",
     "output_type": "stream",
     "text": [
      "\r\n",
      "changed 1 package in 7s\r\n"
     ]
    }
   ],
   "source": [
    "npm install -g pnpm"
   ]
  },
  {
   "cell_type": "code",
   "execution_count": null,
   "metadata": {
    "dotnet_repl_cellExecutionStartTime": "2023-06-25T18:07:35.2986-04:00",
    "dotnet_repl_cellExecutionEndTime": "2023-06-25T18:07:57.4974251-04:00",
    "dotnet_interactive": {
     "language": "pwsh"
    },
    "polyglot_notebook": {
     "kernelName": "pwsh"
    }
   },
   "outputs": [
    {
     "name": "stdout",
     "output_type": "stream",
     "text": [
      "\r\n",
      "changed 2 packages in 20s\r\n"
     ]
    }
   ],
   "source": [
    "npm install -g esbuild"
   ]
  },
  {
   "cell_type": "code",
   "execution_count": null,
   "metadata": {
    "dotnet_repl_cellExecutionStartTime": "2023-06-25T18:07:57.4974783-04:00",
    "dotnet_repl_cellExecutionEndTime": "2023-06-25T18:08:06.0618913-04:00",
    "dotnet_interactive": {
     "language": "pwsh"
    },
    "polyglot_notebook": {
     "kernelName": "pwsh"
    }
   },
   "outputs": [
    {
     "name": "stdout",
     "output_type": "stream",
     "text": [
      "\u001B[31;1m╔═══════════════════════════════════════════════════════════════════════════════╗\u001B[0m\r\n",
      "\u001B[31;1m║ WARNING: It looks like you are running 'npx playwright install' without first ║\u001B[0m\r\n",
      "\u001B[31;1m║ installing your project's dependencies.                                       ║\u001B[0m\r\n",
      "\u001B[31;1m║                                                                               ║\u001B[0m\r\n",
      "\u001B[31;1m║ To avoid unexpected behavior, please install your dependencies first, and     ║\u001B[0m\r\n",
      "\u001B[31;1m║ then run Playwright's install command:                                        ║\u001B[0m\r\n",
      "\u001B[31;1m║                                                                               ║\u001B[0m\r\n",
      "\u001B[31;1m║     npm install                                                               ║\u001B[0m\r\n",
      "\u001B[31;1m║     npx playwright install                                                    ║\u001B[0m\r\n",
      "\u001B[31;1m║                                                                               ║\u001B[0m\r\n",
      "\u001B[31;1m║ If your project does not yet depend on Playwright, first install the          ║\u001B[0m\r\n",
      "\u001B[31;1m║ applicable npm package (most commonly @playwright/test), and                  ║\u001B[0m\r\n",
      "\u001B[31;1m║ then run Playwright's install command to download the browsers:               ║\u001B[0m\r\n",
      "\u001B[31;1m║                                                                               ║\u001B[0m\r\n",
      "\u001B[31;1m║     npm install @playwright/test                                              ║\u001B[0m\r\n",
      "\u001B[31;1m║     npx playwright install                                                    ║\u001B[0m\r\n",
      "\u001B[31;1m║                                                                               ║\u001B[0m\r\n",
      "\u001B[31;1m╚═══════════════════════════════════════════════════════════════════════════════╝\u001B[0m\r\n"
     ]
    }
   ],
   "source": [
    "npx playwright install"
   ]
  },
  {
   "cell_type": "code",
   "execution_count": null,
   "metadata": {
    "dotnet_repl_cellExecutionStartTime": "2023-06-25T18:08:06.0619657-04:00",
    "dotnet_repl_cellExecutionEndTime": "2023-06-25T18:08:06.114856-04:00",
    "dotnet_interactive": {
     "language": "pwsh"
    },
    "polyglot_notebook": {
     "kernelName": "pwsh"
    }
   },
   "outputs": [],
   "source": [
    "[Net.ServicePointManager]::SecurityProtocol = [Net.SecurityProtocolType]::Tls12"
   ]
  },
  {
   "cell_type": "code",
   "execution_count": null,
   "metadata": {
    "dotnet_repl_cellExecutionStartTime": "2023-06-25T18:08:06.1148918-04:00",
    "dotnet_repl_cellExecutionEndTime": "2023-06-25T18:08:30.8857275-04:00",
    "dotnet_interactive": {
     "language": "pwsh"
    },
    "polyglot_notebook": {
     "kernelName": "pwsh"
    }
   },
   "outputs": [
    {
     "data": {
      "text/plain": [
       "\u001B[30;43m                                                                                                    \n",
       " Installing package 'PowerShellGet'                                                                 \n",
       "                                                                                                    \n",
       "    [                                                                                        ]      \n",
       "                                                                                                    \u001B[0m"
      ]
     },
     "metadata": {},
     "output_type": "display_data"
    },
    {
     "data": {
      "text/plain": [
       "\u001B[30;43m                                                                                                    \n",
       " Installing package 'PowerShellGet'                                                                 \n",
       "    Installing dependent package 'PackageManagement'                                                \n",
       "    [                                                                                        ]      \n",
       "   Installing package 'PackageManagement'                                                           \n",
       "      Downloaded 0.00 MB out of 1.10 MB.                                                            \n",
       "      [                                                                                      ]      \n",
       "                                                                                                    \u001B[0m"
      ]
     },
     "metadata": {},
     "output_type": "display_data"
    },
    {
     "data": {
      "text/plain": [
       "\u001B[30;43m                                                                                                    \n",
       " Installing package 'PowerShellGet'                                                                 \n",
       "    Installing dependent package 'PackageManagement'                                                \n",
       "    [                                                                                        ]      \n",
       "   Installing package 'PackageManagement'                                                           \n",
       "      Downloaded 0.12 MB out of 1.10 MB.                                                            \n",
       "      [oooooo                                                                                ]      \n",
       "                                                                                                    \u001B[0m"
      ]
     },
     "metadata": {},
     "output_type": "display_data"
    },
    {
     "data": {
      "text/plain": [
       "\u001B[30;43m                                                                                                    \n",
       " Installing package 'PowerShellGet'                                                                 \n",
       "    Installing dependent package 'PackageManagement'                                                \n",
       "    [                                                                                        ]      \n",
       "   Installing package 'PackageManagement'                                                           \n",
       "      Downloaded 0.25 MB out of 1.10 MB.                                                            \n",
       "      [oooooooooooo                                                                          ]      \n",
       "                                                                                                    \u001B[0m"
      ]
     },
     "metadata": {},
     "output_type": "display_data"
    },
    {
     "data": {
      "text/plain": [
       "\u001B[30;43m                                                                                                    \n",
       " Installing package 'PowerShellGet'                                                                 \n",
       "    Installing dependent package 'PackageManagement'                                                \n",
       "    [                                                                                        ]      \n",
       "   Installing package 'PackageManagement'                                                           \n",
       "      Downloaded 0.37 MB out of 1.10 MB.                                                            \n",
       "      [ooooooooooooooooooo                                                                   ]      \n",
       "                                                                                                    \u001B[0m"
      ]
     },
     "metadata": {},
     "output_type": "display_data"
    },
    {
     "data": {
      "text/plain": [
       "\u001B[30;43m                                                                                                    \n",
       " Installing package 'PowerShellGet'                                                                 \n",
       "    Installing dependent package 'PackageManagement'                                                \n",
       "    [                                                                                        ]      \n",
       "   Installing package 'PackageManagement'                                                           \n",
       "      Downloaded 0.62 MB out of 1.10 MB.                                                            \n",
       "      [ooooooooooooooooooooooooooooooooo                                                     ]      \n",
       "                                                                                                    \u001B[0m"
      ]
     },
     "metadata": {},
     "output_type": "display_data"
    },
    {
     "data": {
      "text/plain": [
       "\u001B[30;43m                                                                                                    \n",
       " Installing package 'PowerShellGet'                                                                 \n",
       "    Installing dependent package 'PackageManagement'                                                \n",
       "    [                                                                                        ]      \n",
       "   Installing package 'PackageManagement'                                                           \n",
       "      Downloaded 0.87 MB out of 1.10 MB.                                                            \n",
       "      [ooooooooooooooooooooooooooooooooooooooooooooooo                                       ]      \n",
       "                                                                                                    \u001B[0m"
      ]
     },
     "metadata": {},
     "output_type": "display_data"
    },
    {
     "data": {
      "text/plain": [
       "\u001B[30;43m                                                                                                    \n",
       " Installing package 'PowerShellGet'                                                                 \n",
       "    Installing dependent package 'PackageManagement'                                                \n",
       "    [                                                                                        ]      \n",
       "   Installing package 'PackageManagement'                                                           \n",
       "      Downloaded 1.10 MB out of 1.10 MB.                                                            \n",
       "      [oooooooooooooooooooooooooooooooooooooooooooooooooooooooooooo                          ]      \n",
       "                                                                                                    \u001B[0m"
      ]
     },
     "metadata": {},
     "output_type": "display_data"
    },
    {
     "data": {
      "text/plain": [
       "\u001B[30;43m                                                                                                    \n",
       " Installing package 'PowerShellGet'                                                                 \n",
       "    Installing dependent package 'PackageManagement'                                                \n",
       "    [                                                                                        ]      \n",
       "   Installing package 'PackageManagement'                                                           \n",
       "      Copying unzipped package to 'C:\\Users\\i574n\\AppData\\Local\\Temp\\1917275746\\PackageManagement.1.\n",
       "      4.8.1'                                                                                        \n",
       "      [oooooooooooooooooooooooooooooooooooooooooooooooooooooooooooooooooooooooooooooo        ]      \n",
       "                                                                                                    \u001B[0m"
      ]
     },
     "metadata": {},
     "output_type": "display_data"
    },
    {
     "data": {
      "text/plain": [
       "\u001B[30;43m                                                                                                    \n",
       " Installing package 'PowerShellGet'                                                                 \n",
       "    Installing dependent package 'PackageManagement'                                                \n",
       "    [                                                                                        ]      \n",
       "                                                                                                    \u001B[0m"
      ]
     },
     "metadata": {},
     "output_type": "display_data"
    },
    {
     "data": {
      "text/plain": [
       "\u001B[30;43m                                                                                                    \n",
       " Installing package 'PowerShellGet'                                                                 \n",
       "    Downloaded 0.00 MB out of 0.26 MB.                                                              \n",
       "    [oooooooooooooooooooooooooooooooooooooooooooo                                            ]      \n",
       "                                                                                                    \u001B[0m"
      ]
     },
     "metadata": {},
     "output_type": "display_data"
    },
    {
     "data": {
      "text/plain": [
       "\u001B[30;43m                                                                                                    \n",
       " Installing package 'PowerShellGet'                                                                 \n",
       "    Downloaded 0.26 MB out of 0.26 MB.                                                              \n",
       "    [oooooooooooooooooooooooooooooooooooooooooooooooooooooooooooooooooooooooooo              ]      \n",
       "                                                                                                    \u001B[0m"
      ]
     },
     "metadata": {},
     "output_type": "display_data"
    },
    {
     "data": {
      "text/plain": [
       "\u001B[30;43m                                                                                                    \n",
       " Installing package 'PowerShellGet'                                                                 \n",
       "    Process Package Manifest                                                                        \n",
       "    [ooooooooooooooooooooooooooooooooooooooooooooooooooooooooooooooooooooooooooooooooooooo   ]      \n",
       "                                                                                                    \u001B[0m"
      ]
     },
     "metadata": {},
     "output_type": "display_data"
    },
    {
     "data": {
      "text/plain": []
     },
     "metadata": {},
     "output_type": "display_data"
    },
    {
     "data": {
      "text/plain": []
     },
     "metadata": {},
     "output_type": "display_data"
    },
    {
     "name": "stdout",
     "output_type": "stream",
     "text": [
      "\u001B[93mWARNING: InternalWebProxy: Could not find a part of the path 'C:\\Users\\i574n\\.nuget\\packages\\dotnet-repl\\0.1.204\\tools\\net7.0\\any\\ref'.\u001B[0m\r\n",
      "\u001B[93mWARNING: Win32Helpers: Could not find a part of the path 'C:\\Users\\i574n\\.nuget\\packages\\dotnet-repl\\0.1.204\\tools\\net7.0\\any\\ref'.\u001B[0m\r\n"
     ]
    }
   ],
   "source": [
    "Install-Module -Name PowerShellGet -Force -AllowClobber -Scope CurrentUser"
   ]
  },
  {
   "cell_type": "code",
   "execution_count": null,
   "metadata": {
    "dotnet_repl_cellExecutionStartTime": "2023-06-25T18:08:30.8857726-04:00",
    "dotnet_repl_cellExecutionEndTime": "2023-06-25T18:08:37.3451265-04:00",
    "dotnet_interactive": {
     "language": "pwsh"
    },
    "polyglot_notebook": {
     "kernelName": "pwsh"
    }
   },
   "outputs": [],
   "source": [
    "Set-PSRepository -Name PSGallery -InstallationPolicy Trusted"
   ]
  },
  {
   "cell_type": "code",
   "execution_count": null,
   "metadata": {
    "dotnet_repl_cellExecutionStartTime": "2023-06-25T18:08:37.3451528-04:00",
    "dotnet_repl_cellExecutionEndTime": "2023-06-25T18:08:39.6974721-04:00",
    "dotnet_interactive": {
     "language": "pwsh"
    },
    "polyglot_notebook": {
     "kernelName": "pwsh"
    }
   },
   "outputs": [],
   "source": [
    "Install-Module -Name PSToml -Scope CurrentUser"
   ]
  },
  {
   "cell_type": "code",
   "execution_count": null,
   "metadata": {
    "dotnet_repl_cellExecutionStartTime": "2023-06-25T18:08:39.6974937-04:00",
    "dotnet_repl_cellExecutionEndTime": "2023-06-25T18:08:41.968682-04:00",
    "dotnet_interactive": {
     "language": "pwsh"
    },
    "polyglot_notebook": {
     "kernelName": "pwsh"
    }
   },
   "outputs": [
    {
     "name": "stdout",
     "output_type": "stream",
     "text": [
      "\u001B[31;1mfatal: destination path 'The-Spiral-Language' already exists and is not an empty directory.\u001B[0m\r\n",
      "MSBuild version 17.7.0-preview-23281-03+4ce2ff1f8 for .NET\r\n",
      "  Determining projects to restore...\r\n",
      "  All projects are up-to-date for restore.\r\n",
      "C:\\Program Files\\dotnet\\sdk\\8.0.100-preview.5.23303.2\\Sdks\\Microsoft.NET.Sdk\\targets\\Microsoft.NET.RuntimeIdentifierInference.targets(314,5): message NETSDK1057: You are using a preview version of .NET. See: https://aka.ms/dotnet-support-policy [C:\\home\\git\\polyglot\\ext\\The-Spiral-Language\\The Spiral Language 2\\The Spiral Language 2.fsproj]\r\n",
      "  The Spiral Language 2 -> C:\\home\\git\\polyglot\\ext\\The-Spiral-Language\\The Spiral Language 2\\artifacts\\bin\\The Spiral Language 2\\release\\Spiral.dll\r\n",
      "\r\n",
      "Build succeeded.\r\n",
      "    0 Warning(s)\r\n",
      "    0 Error(s)\r\n",
      "\r\n",
      "Time Elapsed 00:00:01.70\r\n"
     ]
    }
   ],
   "source": [
    "{ . \"$ScriptDir/ext/spiral.ps1\" } | Invoke-Block"
   ]
  },
  {
   "cell_type": "code",
   "execution_count": null,
   "metadata": {
    "dotnet_repl_cellExecutionStartTime": "2023-06-25T18:08:41.9687262-04:00",
    "dotnet_repl_cellExecutionEndTime": "2023-06-25T18:09:16.4211123-04:00",
    "dotnet_interactive": {
     "language": "pwsh"
    },
    "polyglot_notebook": {
     "kernelName": "pwsh"
    }
   },
   "outputs": [
    {
     "data": {
      "text/plain": [
       "\u001B[30;43m                                                                                                    \n",
       " Expand-Archive                                                                                     \n",
       "    The archive file 'C:\\Users\\i574n\\.vscode\\extensions\\mrakgr.spiral-lang-vscode-2.3.10/dist' expan\n",
       "    sion is in progress...                                                                          \n",
       "    [                                                                                        ]      \n",
       "                                                                                                    \u001B[0m"
      ]
     },
     "metadata": {},
     "output_type": "display_data"
    },
    {
     "data": {
      "text/plain": [
       "\u001B[30;43m                                                                                                    \n",
       " Expand-Archive                                                                                     \n",
       "    The archive file 'C:\\home\\git\\polyglot\\ext\\The-Spiral-Language\\VS Code Plugin\\spiral-lang-vscode\n",
       "    -2.3.10.vsix' expansion is in progress...                                                       \n",
       "    [ooooooo                                                                                 ]      \n",
       "                                                                                                    \u001B[0m"
      ]
     },
     "metadata": {},
     "output_type": "display_data"
    },
    {
     "data": {
      "text/plain": [
       "\u001B[30;43m                                                                                                    \n",
       " Expand-Archive                                                                                     \n",
       "    The archive file 'C:\\home\\git\\polyglot\\ext\\The-Spiral-Language\\VS Code Plugin\\spiral-lang-vscode\n",
       "    -2.3.10.vsix' expansion is in progress...                                                       \n",
       "    [ooooooooooooooo                                                                         ]      \n",
       "                                                                                                    \u001B[0m"
      ]
     },
     "metadata": {},
     "output_type": "display_data"
    },
    {
     "data": {
      "text/plain": [
       "\u001B[30;43m                                                                                                    \n",
       " Expand-Archive                                                                                     \n",
       "    The archive file 'C:\\home\\git\\polyglot\\ext\\The-Spiral-Language\\VS Code Plugin\\spiral-lang-vscode\n",
       "    -2.3.10.vsix' expansion is in progress...                                                       \n",
       "    [oooooooooooooooooooooooo                                                                ]      \n",
       "                                                                                                    \u001B[0m"
      ]
     },
     "metadata": {},
     "output_type": "display_data"
    },
    {
     "data": {
      "text/plain": [
       "\u001B[30;43m                                                                                                    \n",
       " Expand-Archive                                                                                     \n",
       "    The archive file 'C:\\home\\git\\polyglot\\ext\\The-Spiral-Language\\VS Code Plugin\\spiral-lang-vscode\n",
       "    -2.3.10.vsix' expansion is in progress...                                                       \n",
       "    [ooooooooooooooooooooooooooooooooooo                                                     ]      \n",
       "                                                                                                    \u001B[0m"
      ]
     },
     "metadata": {},
     "output_type": "display_data"
    },
    {
     "data": {
      "text/plain": [
       "\u001B[30;43m                                                                                                    \n",
       " Expand-Archive                                                                                     \n",
       "    The archive file 'C:\\home\\git\\polyglot\\ext\\The-Spiral-Language\\VS Code Plugin\\spiral-lang-vscode\n",
       "    -2.3.10.vsix' expansion is in progress...                                                       \n",
       "    [ooooooooooooooooooooooooooooooooooooooooooooooo                                         ]      \n",
       "                                                                                                    \u001B[0m"
      ]
     },
     "metadata": {},
     "output_type": "display_data"
    },
    {
     "data": {
      "text/plain": [
       "\u001B[30;43m                                                                                                    \n",
       " Expand-Archive                                                                                     \n",
       "    The archive file 'C:\\home\\git\\polyglot\\ext\\The-Spiral-Language\\VS Code Plugin\\spiral-lang-vscode\n",
       "    -2.3.10.vsix' expansion is in progress...                                                       \n",
       "    [oooooooooooooooooooooooooooooooooooooooooooooooooooooooooooo                            ]      \n",
       "                                                                                                    \u001B[0m"
      ]
     },
     "metadata": {},
     "output_type": "display_data"
    },
    {
     "data": {
      "text/plain": [
       "\u001B[30;43m                                                                                                    \n",
       " Expand-Archive                                                                                     \n",
       "    The archive file 'C:\\home\\git\\polyglot\\ext\\The-Spiral-Language\\VS Code Plugin\\spiral-lang-vscode\n",
       "    -2.3.10.vsix' expansion is in progress...                                                       \n",
       "    [ooooooooooooooooooooooooooooooooooooooooooooooooooooooooooooooooooooooooo               ]      \n",
       "                                                                                                    \u001B[0m"
      ]
     },
     "metadata": {},
     "output_type": "display_data"
    },
    {
     "data": {
      "text/plain": [
       "\u001B[30;43m                                                                                                    \n",
       " Expand-Archive                                                                                     \n",
       "    The archive file 'C:\\home\\git\\polyglot\\ext\\The-Spiral-Language\\VS Code Plugin\\spiral-lang-vscode\n",
       "    -2.3.10.vsix' expansion is in progress...                                                       \n",
       "    [ooooooooooooooooooooooooooooooooooooooooooooooooooooooooooooooooooooooooooooooooooooo   ]      \n",
       "                                                                                                    \u001B[0m"
      ]
     },
     "metadata": {},
     "output_type": "display_data"
    },
    {
     "data": {
      "text/plain": []
     },
     "metadata": {},
     "output_type": "display_data"
    },
    {
     "data": {
      "text/plain": [
       "\u001B[30;43m                                                                                                    \n",
       " Expand-Archive                                                                                     \n",
       "    The archive file 'C:\\Users\\i574n\\scoop\\persist\\vscode\\data\\extensions\\mrakgr.spiral-lang-vscode-\n",
       "    2.3.10/dist' expansion is in progress...                                                        \n",
       "    [                                                                                        ]      \n",
       "                                                                                                    \u001B[0m"
      ]
     },
     "metadata": {},
     "output_type": "display_data"
    },
    {
     "data": {
      "text/plain": [
       "\u001B[30;43m                                                                                                    \n",
       " Expand-Archive                                                                                     \n",
       "    The archive file 'C:\\home\\git\\polyglot\\ext\\The-Spiral-Language\\VS Code Plugin\\spiral-lang-vscode\n",
       "    -2.3.10.vsix' expansion is in progress...                                                       \n",
       "    [ooooooo                                                                                 ]      \n",
       "                                                                                                    \u001B[0m"
      ]
     },
     "metadata": {},
     "output_type": "display_data"
    },
    {
     "data": {
      "text/plain": [
       "\u001B[30;43m                                                                                                    \n",
       " Expand-Archive                                                                                     \n",
       "    The archive file 'C:\\home\\git\\polyglot\\ext\\The-Spiral-Language\\VS Code Plugin\\spiral-lang-vscode\n",
       "    -2.3.10.vsix' expansion is in progress...                                                       \n",
       "    [oooooooooooooooo                                                                        ]      \n",
       "                                                                                                    \u001B[0m"
      ]
     },
     "metadata": {},
     "output_type": "display_data"
    },
    {
     "data": {
      "text/plain": [
       "\u001B[30;43m                                                                                                    \n",
       " Expand-Archive                                                                                     \n",
       "    The archive file 'C:\\home\\git\\polyglot\\ext\\The-Spiral-Language\\VS Code Plugin\\spiral-lang-vscode\n",
       "    -2.3.10.vsix' expansion is in progress...                                                       \n",
       "    [oooooooooooooooooooooooooo                                                              ]      \n",
       "                                                                                                    \u001B[0m"
      ]
     },
     "metadata": {},
     "output_type": "display_data"
    },
    {
     "data": {
      "text/plain": [
       "\u001B[30;43m                                                                                                    \n",
       " Expand-Archive                                                                                     \n",
       "    The archive file 'C:\\home\\git\\polyglot\\ext\\The-Spiral-Language\\VS Code Plugin\\spiral-lang-vscode\n",
       "    -2.3.10.vsix' expansion is in progress...                                                       \n",
       "    [oooooooooooooooooooooooooooooooooooo                                                    ]      \n",
       "                                                                                                    \u001B[0m"
      ]
     },
     "metadata": {},
     "output_type": "display_data"
    },
    {
     "data": {
      "text/plain": [
       "\u001B[30;43m                                                                                                    \n",
       " Expand-Archive                                                                                     \n",
       "    The archive file 'C:\\home\\git\\polyglot\\ext\\The-Spiral-Language\\VS Code Plugin\\spiral-lang-vscode\n",
       "    -2.3.10.vsix' expansion is in progress...                                                       \n",
       "    [oooooooooooooooooooooooooooooooooooooooooooooooooo                                      ]      \n",
       "                                                                                                    \u001B[0m"
      ]
     },
     "metadata": {},
     "output_type": "display_data"
    },
    {
     "data": {
      "text/plain": [
       "\u001B[30;43m                                                                                                    \n",
       " Expand-Archive                                                                                     \n",
       "    The archive file 'C:\\home\\git\\polyglot\\ext\\The-Spiral-Language\\VS Code Plugin\\spiral-lang-vscode\n",
       "    -2.3.10.vsix' expansion is in progress...                                                       \n",
       "    [ooooooooooooooooooooooooooooooooooooooooooooooooooooooooooo                             ]      \n",
       "                                                                                                    \u001B[0m"
      ]
     },
     "metadata": {},
     "output_type": "display_data"
    },
    {
     "data": {
      "text/plain": [
       "\u001B[30;43m                                                                                                    \n",
       " Expand-Archive                                                                                     \n",
       "    The archive file 'C:\\home\\git\\polyglot\\ext\\The-Spiral-Language\\VS Code Plugin\\spiral-lang-vscode\n",
       "    -2.3.10.vsix' expansion is in progress...                                                       \n",
       "    [oooooooooooooooooooooooooooooooooooooooooooooooooooooooooooooooooooooo                  ]      \n",
       "                                                                                                    \u001B[0m"
      ]
     },
     "metadata": {},
     "output_type": "display_data"
    },
    {
     "data": {
      "text/plain": [
       "\u001B[30;43m                                                                                                    \n",
       " Expand-Archive                                                                                     \n",
       "    The archive file 'C:\\home\\git\\polyglot\\ext\\The-Spiral-Language\\VS Code Plugin\\spiral-lang-vscode\n",
       "    -2.3.10.vsix' expansion is in progress...                                                       \n",
       "    [oooooooooooooooooooooooooooooooooooooooooooooooooooooooooooooooooooooooooooooooo        ]      \n",
       "                                                                                                    \u001B[0m"
      ]
     },
     "metadata": {},
     "output_type": "display_data"
    },
    {
     "data": {
      "text/plain": []
     },
     "metadata": {},
     "output_type": "display_data"
    },
    {
     "data": {
      "text/plain": [
       "\u001B[30;43m                                                                                                    \n",
       " Expand-Archive                                                                                     \n",
       "    The archive file 'C:\\Users\\i574n\\scoop\\persist\\vscode-insiders\\data\\extensions\\mrakgr.spiral-lan\n",
       "    g-vscode-2.3.10/dist' expansion is in progress...                                               \n",
       "    [                                                                                        ]      \n",
       "                                                                                                    \u001B[0m"
      ]
     },
     "metadata": {},
     "output_type": "display_data"
    },
    {
     "data": {
      "text/plain": [
       "\u001B[30;43m                                                                                                    \n",
       " Expand-Archive                                                                                     \n",
       "    The archive file 'C:\\home\\git\\polyglot\\ext\\The-Spiral-Language\\VS Code Plugin\\spiral-lang-vscode\n",
       "    -2.3.10.vsix' expansion is in progress...                                                       \n",
       "    [oooo                                                                                    ]      \n",
       "                                                                                                    \u001B[0m"
      ]
     },
     "metadata": {},
     "output_type": "display_data"
    },
    {
     "data": {
      "text/plain": [
       "\u001B[30;43m                                                                                                    \n",
       " Expand-Archive                                                                                     \n",
       "    The archive file 'C:\\home\\git\\polyglot\\ext\\The-Spiral-Language\\VS Code Plugin\\spiral-lang-vscode\n",
       "    -2.3.10.vsix' expansion is in progress...                                                       \n",
       "    [ooooooooo                                                                               ]      \n",
       "                                                                                                    \u001B[0m"
      ]
     },
     "metadata": {},
     "output_type": "display_data"
    },
    {
     "data": {
      "text/plain": [
       "\u001B[30;43m                                                                                                    \n",
       " Expand-Archive                                                                                     \n",
       "    The archive file 'C:\\home\\git\\polyglot\\ext\\The-Spiral-Language\\VS Code Plugin\\spiral-lang-vscode\n",
       "    -2.3.10.vsix' expansion is in progress...                                                       \n",
       "    [oooooooooooooooooooooo                                                                  ]      \n",
       "                                                                                                    \u001B[0m"
      ]
     },
     "metadata": {},
     "output_type": "display_data"
    },
    {
     "data": {
      "text/plain": [
       "\u001B[30;43m                                                                                                    \n",
       " Expand-Archive                                                                                     \n",
       "    The archive file 'C:\\home\\git\\polyglot\\ext\\The-Spiral-Language\\VS Code Plugin\\spiral-lang-vscode\n",
       "    -2.3.10.vsix' expansion is in progress...                                                       \n",
       "    [oooooooooooooooooooooooooooo                                                            ]      \n",
       "                                                                                                    \u001B[0m"
      ]
     },
     "metadata": {},
     "output_type": "display_data"
    },
    {
     "data": {
      "text/plain": [
       "\u001B[30;43m                                                                                                    \n",
       " Expand-Archive                                                                                     \n",
       "    The archive file 'C:\\home\\git\\polyglot\\ext\\The-Spiral-Language\\VS Code Plugin\\spiral-lang-vscode\n",
       "    -2.3.10.vsix' expansion is in progress...                                                       \n",
       "    [ooooooooooooooooooooooooooooooooooooo                                                   ]      \n",
       "                                                                                                    \u001B[0m"
      ]
     },
     "metadata": {},
     "output_type": "display_data"
    },
    {
     "data": {
      "text/plain": [
       "\u001B[30;43m                                                                                                    \n",
       " Expand-Archive                                                                                     \n",
       "    The archive file 'C:\\home\\git\\polyglot\\ext\\The-Spiral-Language\\VS Code Plugin\\spiral-lang-vscode\n",
       "    -2.3.10.vsix' expansion is in progress...                                                       \n",
       "    [ooooooooooooooooooooooooooooooooooooooooooooooooo                                       ]      \n",
       "                                                                                                    \u001B[0m"
      ]
     },
     "metadata": {},
     "output_type": "display_data"
    },
    {
     "data": {
      "text/plain": [
       "\u001B[30;43m                                                                                                    \n",
       " Expand-Archive                                                                                     \n",
       "    The archive file 'C:\\home\\git\\polyglot\\ext\\The-Spiral-Language\\VS Code Plugin\\spiral-lang-vscode\n",
       "    -2.3.10.vsix' expansion is in progress...                                                       \n",
       "    [oooooooooooooooooooooooooooooooooooooooooooooooooooooooooo                              ]      \n",
       "                                                                                                    \u001B[0m"
      ]
     },
     "metadata": {},
     "output_type": "display_data"
    },
    {
     "data": {
      "text/plain": [
       "\u001B[30;43m                                                                                                    \n",
       " Expand-Archive                                                                                     \n",
       "    The archive file 'C:\\home\\git\\polyglot\\ext\\The-Spiral-Language\\VS Code Plugin\\spiral-lang-vscode\n",
       "    -2.3.10.vsix' expansion is in progress...                                                       \n",
       "    [ooooooooooooooooooooooooooooooooooooooooooooooooooooooooooooooooooooooo                 ]      \n",
       "                                                                                                    \u001B[0m"
      ]
     },
     "metadata": {},
     "output_type": "display_data"
    },
    {
     "data": {
      "text/plain": [
       "\u001B[30;43m                                                                                                    \n",
       " Expand-Archive                                                                                     \n",
       "    The archive file 'C:\\home\\git\\polyglot\\ext\\The-Spiral-Language\\VS Code Plugin\\spiral-lang-vscode\n",
       "    -2.3.10.vsix' expansion is in progress...                                                       \n",
       "    [ooooooooooooooooooooooooooooooooooooooooooooooooooooooooooooooooooooooooooooooooooo     ]      \n",
       "                                                                                                    \u001B[0m"
      ]
     },
     "metadata": {},
     "output_type": "display_data"
    },
    {
     "data": {
      "text/plain": []
     },
     "metadata": {},
     "output_type": "display_data"
    },
    {
     "data": {
      "text/plain": []
     },
     "metadata": {},
     "output_type": "display_data"
    },
    {
     "name": "stdout",
     "output_type": "stream",
     "text": [
      "\r\n",
      "up to date in 6s\r\n",
      "\r\n",
      "35 packages are looking for funding\r\n",
      "  run `npm fund` for details\r\n",
      "This extension consists of 546 files, out of which 207 are JavaScript files. For performance reasons, you should bundle your extension: https://aka.ms/vscode-bundle-extension . You should also exclude unnecessary files by adding them to your .vscodeignore: https://aka.ms/vscode-vscodeignore\r\n",
      " DONE  Packaged: C:\\home\\git\\polyglot\\ext\\The-Spiral-Language\\VS Code Plugin\\spiral-lang-vscode-2.3.10.vsix (546 files, 9MB)\r\n",
      "Copying compiler to C:\\Users\\i574n\\.vscode\\extensions\\mrakgr.spiral-lang-vscode-2.3.10\r\n",
      "Copying compiler to C:\\Users\\i574n\\scoop\\persist\\vscode\\data\\extensions\\mrakgr.spiral-lang-vscode-2.3.10\r\n",
      "Copying compiler to C:\\Users\\i574n\\scoop\\persist\\vscode-insiders\\data\\extensions\\mrakgr.spiral-lang-vscode-2.3.10\r\n"
     ]
    }
   ],
   "source": [
    "{ . \"$ScriptDir/spiral/extension.ps1\" } | Invoke-Block"
   ]
  },
  {
   "cell_type": "code",
   "execution_count": null,
   "metadata": {
    "dotnet_repl_cellExecutionStartTime": "2023-06-25T18:09:16.421153-04:00",
    "dotnet_repl_cellExecutionEndTime": "2023-06-25T18:09:20.378582-04:00",
    "dotnet_interactive": {
     "language": "pwsh"
    },
    "polyglot_notebook": {
     "kernelName": "pwsh"
    }
   },
   "outputs": [
    {
     "name": "stdout",
     "output_type": "stream",
     "text": [
      "\u001B[31;1mfatal: destination path 'Fable' already exists and is not an empty directory.\u001B[0m\r\n",
      "Tool path: C:\\Users\\i574n\\.nuget\\packages\\fable\\4.1.4\\tools\\net6.0\\any\r\n",
      "MSBuild version 17.7.0-preview-23281-03+4ce2ff1f8 for .NET\r\n",
      "  Determining projects to restore...\r\n",
      "  All projects are up-to-date for restore.\r\n",
      "C:\\Program Files\\dotnet\\sdk\\8.0.100-preview.5.23303.2\\Sdks\\Microsoft.NET.Sdk\\targets\\Microsoft.NET.RuntimeIdentifierInference.targets(314,5): message NETSDK1057: You are using a preview version of .NET. See: https://aka.ms/dotnet-support-policy [C:\\home\\git\\polyglot\\ext\\Fable\\src\\Fable.Transforms\\Fable.Transforms.fsproj]\r\n",
      "C:\\Program Files\\dotnet\\sdk\\8.0.100-preview.5.23303.2\\Sdks\\Microsoft.NET.Sdk\\targets\\Microsoft.NET.RuntimeIdentifierInference.targets(314,5): message NETSDK1057: You are using a preview version of .NET. See: https://aka.ms/dotnet-support-policy [C:\\home\\git\\polyglot\\ext\\Fable\\src\\Fable.Transforms\\Rust\\AST\\Rust.AST.fsproj]\r\n",
      "  Fable.AST -> C:\\home\\git\\polyglot\\ext\\Fable\\src\\Fable.AST\\bin\\Release\\netstandard2.0\\Fable.AST.dll\r\n",
      "  Rust.AST -> C:\\home\\git\\polyglot\\ext\\Fable\\src\\Fable.Transforms\\Rust\\AST\\bin\\Release\\netstandard2.0\\Rust.AST.dll\r\n",
      "  Fable.Transforms -> C:\\home\\git\\polyglot\\ext\\Fable\\src\\Fable.Transforms\\bin\\Release\\netstandard2.0\\Fable.Transforms.dll\r\n",
      "\r\n",
      "Build succeeded.\r\n",
      "    0 Warning(s)\r\n",
      "    0 Error(s)\r\n",
      "\r\n",
      "Time Elapsed 00:00:02.80\r\n"
     ]
    }
   ],
   "source": [
    "{ . \"$ScriptDir/ext/fable.ps1\" } | Invoke-Block"
   ]
  }
 ],
 "metadata": {
  "kernelspec": {
   "display_name": ".NET (C#)",
   "language": "C#",
   "name": ".net-csharp"
  },
  "language_info": {
   "file_extension": ".cs",
   "mimetype": "text/x-csharp",
   "name": "C#",
   "pygments_lexer": "csharp",
   "version": "10.0"
  },
  "polyglot_notebook": {
   "defaultKernelName": "csharp",
   "items": [
    {
     "name": "csharp"
    }
   ]
  },
  "dotnet_interactive": {
   "defaultKernelName": "csharp",
   "items": [
    {
     "name": "csharp"
    }
   ]
  }
 },
 "nbformat": 4,
 "nbformat_minor": 5
}