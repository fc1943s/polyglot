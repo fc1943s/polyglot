{
 "cells": [
  {
   "cell_type": "code",
   "execution_count": null,
   "metadata": {
    "dotnet_interactive": {
     "language": "pwsh"
    },
    "polyglot_notebook": {
     "kernelName": "pwsh"
    }
   },
   "outputs": [],
   "source": [
    ". ./nbs_header.ps1\n",
    ". ./core.ps1"
   ]
  },
  {
   "cell_type": "code",
   "execution_count": null,
   "metadata": {
    "dotnet_interactive": {
     "language": "pwsh"
    },
    "polyglot_notebook": {
     "kernelName": "pwsh"
    }
   },
   "outputs": [],
   "source": [
    "# rustup +nightly component add clippy rust-src rustfmt"
   ]
  },
  {
   "cell_type": "code",
   "execution_count": null,
   "metadata": {
    "dotnet_interactive": {
     "language": "pwsh"
    },
    "polyglot_notebook": {
     "kernelName": "pwsh"
    }
   },
   "outputs": [],
   "source": [
    "# rustup +nightly target add wasm32-unknown-unknown"
   ]
  },
  {
   "cell_type": "code",
   "execution_count": null,
   "metadata": {
    "dotnet_interactive": {
     "language": "pwsh"
    },
    "polyglot_notebook": {
     "kernelName": "pwsh"
    }
   },
   "outputs": [
    {
     "name": "stdout",
     "output_type": "stream",
     "text": [
      "\u001B[31;1minfo: syncing channel updates for 'nightly-x86_64-pc-windows-msvc'\u001B[0m\r\n",
      "\u001B[31;1minfo: latest update on 2024-04-04, rust version 1.79.0-nightly (4fd4797c2 2024-04-03)\u001B[0m\r\n",
      "\u001B[31;1minfo: downloading component 'cargo'\u001B[0m\r\n",
      "\u001B[31;1minfo: downloading component 'clippy'\u001B[0m\r\n",
      "\u001B[31;1minfo: downloading component 'rust-docs'\u001B[0m\r\n",
      "\u001B[31;1minfo: downloading component 'rust-std'\u001B[0m\r\n",
      "\u001B[31;1minfo: downloading component 'rustc'\u001B[0m\r\n",
      "\u001B[31;1minfo: downloading component 'rustfmt'\u001B[0m\r\n",
      "\u001B[31;1minfo: removing previous version of component 'cargo'\u001B[0m\r\n",
      "\u001B[31;1minfo: removing previous version of component 'clippy'\u001B[0m\r\n",
      "\u001B[31;1minfo: removing previous version of component 'rust-docs'\u001B[0m\r\n",
      "\u001B[31;1minfo: removing previous version of component 'rust-std'\u001B[0m\r\n",
      "\u001B[31;1minfo: removing previous version of component 'rustc'\u001B[0m\r\n",
      "\u001B[31;1minfo: removing previous version of component 'rustfmt'\u001B[0m\r\n",
      "\u001B[31;1minfo: installing component 'cargo'\u001B[0m\r\n",
      "\u001B[31;1minfo: installing component 'clippy'\u001B[0m\r\n",
      "\u001B[31;1minfo: installing component 'rust-docs'\u001B[0m\r\n",
      "\u001B[31;1minfo: installing component 'rust-std'\u001B[0m\r\n",
      "\u001B[31;1minfo: installing component 'rustc'\u001B[0m\r\n",
      "\u001B[31;1minfo: installing component 'rustfmt'\u001B[0m\r\n",
      "\u001B[31;1minfo: checking for self-update\u001B[0m\r\n",
      "\r\n",
      "  nightly-x86_64-pc-windows-msvc updated - rustc 1.79.0-nightly (4fd4797c2 2024-04-03) (from rustc 1.79.0-nightly (eb45c8444 2024-03-17))\r\n",
      "\r\n",
      "\u001B[31;1minfo: cleaning up downloads & tmp directories\u001B[0m\r\n"
     ]
    }
   ],
   "source": [
    "rustup update"
   ]
  },
  {
   "cell_type": "code",
   "execution_count": null,
   "metadata": {
    "dotnet_interactive": {
     "language": "pwsh"
    },
    "polyglot_notebook": {
     "kernelName": "pwsh"
    }
   },
   "outputs": [
    {
     "name": "stdout",
     "output_type": "stream",
     "text": [
      "\u001B[31;1m    Updating crates.io index\u001B[0m\r\n",
      "\u001B[31;1m     Ignored package `cargo-outdated v0.15.0` is already installed, use --force to override\u001B[0m\r\n"
     ]
    }
   ],
   "source": [
    "{ cargo +nightly install cargo-outdated } | Invoke-Block -OnError Continue"
   ]
  },
  {
   "cell_type": "code",
   "execution_count": null,
   "metadata": {
    "dotnet_interactive": {
     "language": "pwsh"
    },
    "polyglot_notebook": {
     "kernelName": "pwsh"
    }
   },
   "outputs": [
    {
     "name": "stdout",
     "output_type": "stream",
     "text": [
      "\u001B[31;1m    Updating crates.io index\u001B[0m\r\n",
      "\u001B[31;1m     Ignored package `wasm-pack v0.12.1` is already installed, use --force to override\u001B[0m\r\n"
     ]
    }
   ],
   "source": [
    "{ cargo +nightly install wasm-pack --locked } | Invoke-Block -OnError Continue"
   ]
  },
  {
   "cell_type": "code",
   "execution_count": null,
   "metadata": {
    "dotnet_interactive": {
     "language": "pwsh"
    },
    "polyglot_notebook": {
     "kernelName": "pwsh"
    }
   },
   "outputs": [
    {
     "name": "stdout",
     "output_type": "stream",
     "text": [
      "\u001B[31;1m     Ignored package `trunk v0.19.1` is already installed, use --force to override\u001B[0m\r\n"
     ]
    }
   ],
   "source": [
    "{ cargo +nightly install trunk --version 0.19.1 } | Invoke-Block -OnError Continue"
   ]
  },
  {
   "cell_type": "code",
   "execution_count": null,
   "metadata": {
    "dotnet_interactive": {
     "language": "pwsh"
    },
    "polyglot_notebook": {
     "kernelName": "pwsh"
    }
   },
   "outputs": [
    {
     "name": "stdout",
     "output_type": "stream",
     "text": [
      "\u001B[31;1m    Updating git repository `https://github.com/bram209/leptosfmt.git`\u001B[0m\r\n",
      "\u001B[31;1m     Ignored package `leptosfmt v0.1.18 (https://github.com/bram209/leptosfmt.git#7fec90b2)` is already installed, use --force to override\u001B[0m\r\n"
     ]
    }
   ],
   "source": [
    "{ cargo +nightly install --git https://github.com/bram209/leptosfmt.git --locked } | Invoke-Block -OnError Continue"
   ]
  },
  {
   "cell_type": "code",
   "execution_count": null,
   "metadata": {
    "dotnet_interactive": {
     "language": "pwsh"
    },
    "polyglot_notebook": {
     "kernelName": "pwsh"
    }
   },
   "outputs": [
    {
     "name": "stdout",
     "output_type": "stream",
     "text": [
      "\r\n",
      "changed 2 packages in 6s\r\n"
     ]
    }
   ],
   "source": [
    "npm install -g esbuild"
   ]
  },
  {
   "cell_type": "code",
   "execution_count": null,
   "metadata": {
    "dotnet_interactive": {
     "language": "pwsh"
    },
    "polyglot_notebook": {
     "kernelName": "pwsh"
    }
   },
   "outputs": [
    {
     "name": "stdout",
     "output_type": "stream",
     "text": [
      "\r\n",
      "changed 21 packages in 16s\r\n"
     ]
    }
   ],
   "source": [
    "npm install -g @chialab/rna"
   ]
  },
  {
   "cell_type": "code",
   "execution_count": null,
   "metadata": {
    "dotnet_interactive": {
     "language": "pwsh"
    },
    "polyglot_notebook": {
     "kernelName": "pwsh"
    }
   },
   "outputs": [
    {
     "name": "stdout",
     "output_type": "stream",
     "text": [
      "\r\n",
      "changed 20 packages in 2s\r\n"
     ]
    }
   ],
   "source": [
    "npm install -g @chialab/rna-bundler"
   ]
  },
  {
   "cell_type": "code",
   "execution_count": null,
   "metadata": {
    "dotnet_interactive": {
     "language": "pwsh"
    },
    "polyglot_notebook": {
     "kernelName": "pwsh"
    }
   },
   "outputs": [
    {
     "name": "stdout",
     "output_type": "stream",
     "text": [
      "\r\n",
      "changed 3 packages in 11s\r\n"
     ]
    }
   ],
   "source": [
    "npm install -g @playwright/test@1.42.1"
   ]
  },
  {
   "cell_type": "code",
   "execution_count": null,
   "metadata": {
    "dotnet_interactive": {
     "language": "pwsh"
    },
    "polyglot_notebook": {
     "kernelName": "pwsh"
    }
   },
   "outputs": [],
   "source": [
    "npx -y playwright@1.42.1 install"
   ]
  },
  {
   "cell_type": "code",
   "execution_count": null,
   "metadata": {
    "dotnet_interactive": {
     "language": "pwsh"
    },
    "polyglot_notebook": {
     "kernelName": "pwsh"
    }
   },
   "outputs": [],
   "source": [
    "[Net.ServicePointManager]::SecurityProtocol = [Net.SecurityProtocolType]::Tls12"
   ]
  },
  {
   "cell_type": "code",
   "execution_count": null,
   "metadata": {
    "dotnet_interactive": {
     "language": "pwsh"
    },
    "polyglot_notebook": {
     "kernelName": "pwsh"
    }
   },
   "outputs": [],
   "source": [
    "{ Install-Module -Name PowerShellGet -Force -AllowClobber -Scope CurrentUser } | Invoke-Block -OnError Continue"
   ]
  },
  {
   "cell_type": "code",
   "execution_count": null,
   "metadata": {
    "dotnet_interactive": {
     "language": "pwsh"
    },
    "polyglot_notebook": {
     "kernelName": "pwsh"
    }
   },
   "outputs": [
    {
     "name": "stdout",
     "output_type": "stream",
     "text": [
      "\n",
      "# Invoke-Block / $Retry: 1 / $Location:  / $OnError: Continue / $exitcode: 0 / $EnvVars: null / $Error: 'Cannot find a variable with the name 'PackageManagementProvider'. Cannot find a variable with the name 'SourceLocation'.' / $ScriptBlock:\n",
      "'Set-PSRepository -Name PSGallery -InstallationPolicy Trusted'\n",
      "\r\n"
     ]
    }
   ],
   "source": [
    "{ Set-PSRepository -Name PSGallery -InstallationPolicy Trusted } | Invoke-Block -OnError Continue"
   ]
  },
  {
   "cell_type": "code",
   "execution_count": null,
   "metadata": {
    "dotnet_interactive": {
     "language": "pwsh"
    },
    "polyglot_notebook": {
     "kernelName": "pwsh"
    }
   },
   "outputs": [
    {
     "name": "stdout",
     "output_type": "stream",
     "text": [
      "What if: Performing the operation \"Install-Module\" on target \"Version '0.3.1' of module 'PSToml'\".\r\n"
     ]
    }
   ],
   "source": [
    "{ Install-Module -Name PSToml -Scope CurrentUser -WhatIf } | Invoke-Block -OnError Continue"
   ]
  },
  {
   "cell_type": "code",
   "execution_count": null,
   "metadata": {
    "dotnet_interactive": {
     "language": "pwsh"
    },
    "polyglot_notebook": {
     "kernelName": "pwsh"
    }
   },
   "outputs": [
    {
     "name": "stdout",
     "output_type": "stream",
     "text": [
      "\u001B[31;1mbun install v1.1.0 (5903a614)\u001B[0m\r\n",
      "\r\n",
      "Checked 4 installs across 5 packages (no changes) [62.00ms]\r\n"
     ]
    }
   ],
   "source": [
    "{ ~/.bun/bin/bun install --cwd .. --frozen-lockfile } | Invoke-Block"
   ]
  },
  {
   "cell_type": "code",
   "execution_count": null,
   "metadata": {
    "dotnet_interactive": {
     "language": "pwsh"
    },
    "polyglot_notebook": {
     "kernelName": "pwsh"
    }
   },
   "outputs": [
    {
     "name": "stdout",
     "output_type": "stream",
     "text": [
      "\u001B[31;1mfatal: destination path 'The-Spiral-Language' already exists and is not an empty directory.\u001B[0m\r\n",
      "Already up to date.\r\n",
      "MSBuild version 17.10.0-preview-24101-01+07fd5d51f for .NET\r\n",
      "  Determining projects to restore...\r\n",
      "  All projects are up-to-date for restore.\r\n",
      "C:\\Users\\i574n\\scoop\\apps\\dotnet-sdk-preview\\current\\sdk\\9.0.100-preview.1.24101.2\\Sdks\\Microsoft.NET.Sdk\\targets\\Microsoft.NET.RuntimeIdentifierInference.targets(313,5): message NETSDK1057: You are using a preview version of .NET. See: https://aka.ms/dotnet-support-policy [C:\\home\\git\\polyglot\\deps\\The-Spiral-Language\\The Spiral Language 2\\The Spiral Language 2.fsproj]\r\n",
      "  The Spiral Language 2 -> C:\\home\\git\\polyglot\\deps\\The-Spiral-Language\\The Spiral Language 2\\artifacts\\bin\\The Spiral Language 2\\release\\Spiral.dll\r\n",
      "\r\n",
      "Build succeeded.\r\n",
      "    0 Warning(s)\r\n",
      "    0 Error(s)\r\n",
      "\r\n",
      "Time Elapsed 00:00:26.49\r\n"
     ]
    }
   ],
   "source": [
    "{ . \"$ScriptDir/dep_spiral.ps1\" } | Invoke-Block"
   ]
  },
  {
   "cell_type": "code",
   "execution_count": null,
   "metadata": {
    "dotnet_interactive": {
     "language": "pwsh"
    },
    "polyglot_notebook": {
     "kernelName": "pwsh"
    }
   },
   "outputs": [
    {
     "name": "stdout",
     "output_type": "stream",
     "text": [
      "path: ../deps/The-Spiral-Language/The Spiral Language 2/artifacts/bin/The Spiral Language 2/release/\r\n",
      "\r\n",
      "up to date, audited 138 packages in 3s\r\n",
      "\r\n",
      "36 packages are looking for funding\r\n",
      "  run `npm fund` for details\r\n",
      "\r\n",
      "found 0 vulnerabilities\r\n",
      "\u001B[31;1m(node:19188) [DEP0040] DeprecationWarning: The `punycode` module is deprecated. Please use a userland alternative instead.\u001B[0m\r\n",
      "\u001B[31;1m(Use `node --trace-deprecation ...` to show where the warning was created)\u001B[0m\r\n",
      "Executing prepublish script 'npm run vscode:prepublish'...\r\n",
      "\r\n",
      "> spiral-lang-vscode@2.4.21 vscode:prepublish\r\n",
      "> npm run esbuild-base -- --minify\r\n",
      "\r\n",
      "\r\n",
      "> spiral-lang-vscode@2.4.21 esbuild-base\r\n",
      "> esbuild ./src/index.ts --bundle --outfile=out/index.js --external:vscode --format=cjs --platform=node --minify\r\n",
      "\r\n",
      "\u001B[31;1m\u001B[0m\r\n",
      "\u001B[31;1m  out\\index.js  1.1mb ⚠️\u001B[0m\r\n",
      "\u001B[31;1m\u001B[0m\r\n",
      "\u001B[31;1m⚡ Done in 629ms\u001B[0m\r\n",
      "This extension consists of 12050 files, out of which 1 are JavaScript files. For performance reasons, you should bundle your extension: https://aka.ms/vscode-bundle-extension . You should also exclude unnecessary files by adding them to your .vscodeignore: https://aka.ms/vscode-vscodeignore\r\n",
      " DONE  Packaged: C:\\home\\git\\polyglot\\deps\\The-Spiral-Language\\VS Code Plugin\\spiral-lang-vscode-2.4.21.vsix (12050 files, 15.2MB)\r\n",
      "Copying extension to C:\\Users\\i574n\\scoop\\persist\\vscode-insiders\\data\\extensions\\mrakgr.spiral-lang-vscode-2.4.21\r\n"
     ]
    }
   ],
   "source": [
    "{ . \"$ScriptDir/dep_spiral_extension.ps1\" } | Invoke-Block"
   ]
  },
  {
   "cell_type": "code",
   "execution_count": null,
   "metadata": {
    "dotnet_interactive": {
     "language": "pwsh"
    },
    "polyglot_notebook": {
     "kernelName": "pwsh"
    }
   },
   "outputs": [
    {
     "name": "stdout",
     "output_type": "stream",
     "text": [
      "\u001B[31;1mfatal: destination path 'Fable' already exists and is not an empty directory.\u001B[0m\r\n",
      "Already up to date.\r\n",
      "Tool path: C:\\Users\\i574n\\.nuget\\packages\\fable\\4.13.0\\tools\\net6.0\\any\r\n",
      "MSBuild version 17.10.0-preview-24101-01+07fd5d51f for .NET\r\n",
      "  Determining projects to restore...\r\n",
      "  All projects are up-to-date for restore.\r\n",
      "C:\\Users\\i574n\\scoop\\apps\\dotnet-sdk-preview\\current\\sdk\\9.0.100-preview.1.24101.2\\Sdks\\Microsoft.NET.Sdk\\targets\\Microsoft.NET.RuntimeIdentifierInference.targets(313,5): message NETSDK1057: You are using a preview version of .NET. See: https://aka.ms/dotnet-support-policy [C:\\home\\git\\polyglot\\deps\\Fable\\src\\Fable.Cli\\Fable.Cli.fsproj]\r\n",
      "C:\\Users\\i574n\\scoop\\apps\\dotnet-sdk-preview\\current\\sdk\\9.0.100-preview.1.24101.2\\Sdks\\Microsoft.NET.Sdk\\targets\\Microsoft.NET.RuntimeIdentifierInference.targets(313,5): message NETSDK1057: You are using a preview version of .NET. See: https://aka.ms/dotnet-support-policy [C:\\home\\git\\polyglot\\deps\\Fable\\src\\Fable.Transforms\\Rust\\AST\\Rust.AST.fsproj]\r\n",
      "C:\\Users\\i574n\\scoop\\apps\\dotnet-sdk-preview\\current\\sdk\\9.0.100-preview.1.24101.2\\Sdks\\Microsoft.NET.Sdk\\targets\\Microsoft.NET.RuntimeIdentifierInference.targets(313,5): message NETSDK1057: You are using a preview version of .NET. See: https://aka.ms/dotnet-support-policy [C:\\home\\git\\polyglot\\deps\\Fable\\src\\Fable.AST\\Fable.AST.fsproj]\r\n",
      "C:\\Users\\i574n\\scoop\\apps\\dotnet-sdk-preview\\current\\sdk\\9.0.100-preview.1.24101.2\\Sdks\\Microsoft.NET.Sdk\\targets\\Microsoft.NET.RuntimeIdentifierInference.targets(313,5): message NETSDK1057: You are using a preview version of .NET. See: https://aka.ms/dotnet-support-policy [C:\\home\\git\\polyglot\\deps\\Fable\\src\\Fable.Transforms\\Fable.Transforms.fsproj]\r\n",
      "  Fable.AST -> C:\\home\\git\\polyglot\\deps\\Fable\\src\\Fable.AST\\bin\\Release\\netstandard2.0\\Fable.AST.dll\r\n",
      "  Rust.AST -> C:\\home\\git\\polyglot\\deps\\Fable\\src\\Fable.Transforms\\Rust\\AST\\bin\\Release\\netstandard2.0\\Rust.AST.dll\r\n",
      "C:\\Program Files\\dotnet\\sdk\\9.0.100-preview.1.24101.2\\Microsoft.Common.CurrentVersion.targets(2401,5): warning MSB3277: Found conflicts between different versions of \"System.Memory\" that could not be resolved. [C:\\home\\git\\polyglot\\deps\\Fable\\src\\Fable.Transforms\\Fable.Transforms.fsproj]\r\n",
      "C:\\Program Files\\dotnet\\sdk\\9.0.100-preview.1.24101.2\\Microsoft.Common.CurrentVersion.targets(2401,5): warning MSB3277: There was a conflict between \"System.Memory, Version=4.0.1.1, Culture=neutral, PublicKeyToken=cc7b13ffcd2ddd51\" and \"System.Memory, Version=4.0.1.2, Culture=neutral, PublicKeyToken=cc7b13ffcd2ddd51\". [C:\\home\\git\\polyglot\\deps\\Fable\\src\\Fable.Transforms\\Fable.Transforms.fsproj]\r\n",
      "C:\\Program Files\\dotnet\\sdk\\9.0.100-preview.1.24101.2\\Microsoft.Common.CurrentVersion.targets(2401,5): warning MSB3277:     \"System.Memory, Version=4.0.1.1, Culture=neutral, PublicKeyToken=cc7b13ffcd2ddd51\" was chosen because it was primary and \"System.Memory, Version=4.0.1.2, Culture=neutral, PublicKeyToken=cc7b13ffcd2ddd51\" was not. [C:\\home\\git\\polyglot\\deps\\Fable\\src\\Fable.Transforms\\Fable.Transforms.fsproj]\r\n",
      "C:\\Program Files\\dotnet\\sdk\\9.0.100-preview.1.24101.2\\Microsoft.Common.CurrentVersion.targets(2401,5): warning MSB3277:     References which depend on \"System.Memory, Version=4.0.1.1, Culture=neutral, PublicKeyToken=cc7b13ffcd2ddd51\" [C:\\Users\\i574n\\.nuget\\packages\\system.memory\\4.5.4\\lib\\netstandard2.0\\System.Memory.dll]. [C:\\home\\git\\polyglot\\deps\\Fable\\src\\Fable.Transforms\\Fable.Transforms.fsproj]\r\n",
      "C:\\Program Files\\dotnet\\sdk\\9.0.100-preview.1.24101.2\\Microsoft.Common.CurrentVersion.targets(2401,5): warning MSB3277:         C:\\Users\\i574n\\.nuget\\packages\\system.memory\\4.5.4\\lib\\netstandard2.0\\System.Memory.dll [C:\\home\\git\\polyglot\\deps\\Fable\\src\\Fable.Transforms\\Fable.Transforms.fsproj]\r\n",
      "C:\\Program Files\\dotnet\\sdk\\9.0.100-preview.1.24101.2\\Microsoft.Common.CurrentVersion.targets(2401,5): warning MSB3277:           Project file item includes which caused reference \"C:\\Users\\i574n\\.nuget\\packages\\system.memory\\4.5.4\\lib\\netstandard2.0\\System.Memory.dll\". [C:\\home\\git\\polyglot\\deps\\Fable\\src\\Fable.Transforms\\Fable.Transforms.fsproj]\r\n",
      "C:\\Program Files\\dotnet\\sdk\\9.0.100-preview.1.24101.2\\Microsoft.Common.CurrentVersion.targets(2401,5): warning MSB3277:             C:\\Users\\i574n\\.nuget\\packages\\system.memory\\4.5.4\\lib\\netstandard2.0\\System.Memory.dll [C:\\home\\git\\polyglot\\deps\\Fable\\src\\Fable.Transforms\\Fable.Transforms.fsproj]\r\n",
      "C:\\Program Files\\dotnet\\sdk\\9.0.100-preview.1.24101.2\\Microsoft.Common.CurrentVersion.targets(2401,5): warning MSB3277:     References which depend on or have been unified to \"System.Memory, Version=4.0.1.2, Culture=neutral, PublicKeyToken=cc7b13ffcd2ddd51\" []. [C:\\home\\git\\polyglot\\deps\\Fable\\src\\Fable.Transforms\\Fable.Transforms.fsproj]\r\n",
      "C:\\Program Files\\dotnet\\sdk\\9.0.100-preview.1.24101.2\\Microsoft.Common.CurrentVersion.targets(2401,5): warning MSB3277:         C:\\home\\git\\polyglot\\deps\\Fable\\lib\\fcs\\FSharp.Compiler.Service.dll [C:\\home\\git\\polyglot\\deps\\Fable\\src\\Fable.Transforms\\Fable.Transforms.fsproj]\r\n",
      "C:\\Program Files\\dotnet\\sdk\\9.0.100-preview.1.24101.2\\Microsoft.Common.CurrentVersion.targets(2401,5): warning MSB3277:           Project file item includes which caused reference \"C:\\home\\git\\polyglot\\deps\\Fable\\lib\\fcs\\FSharp.Compiler.Service.dll\". [C:\\home\\git\\polyglot\\deps\\Fable\\src\\Fable.Transforms\\Fable.Transforms.fsproj]\r\n",
      "C:\\Program Files\\dotnet\\sdk\\9.0.100-preview.1.24101.2\\Microsoft.Common.CurrentVersion.targets(2401,5): warning MSB3277:             ../../lib/fcs/FSharp.Compiler.Service.dll [C:\\home\\git\\polyglot\\deps\\Fable\\src\\Fable.Transforms\\Fable.Transforms.fsproj]\r\n",
      "  Fable.Transforms -> C:\\home\\git\\polyglot\\deps\\Fable\\src\\Fable.Transforms\\bin\\Release\\netstandard2.0\\Fable.Transforms.dll\r\n",
      "  Fable.Compiler -> C:\\home\\git\\polyglot\\deps\\Fable\\src\\Fable.Compiler\\bin\\Release\\net9.0\\Fable.Compiler.dll\r\n",
      "  Fable.Cli -> C:\\home\\git\\polyglot\\deps\\Fable\\src\\Fable.Cli\\bin\\Release\\net9.0\\fable.dll\r\n",
      "\r\n",
      "Build succeeded.\r\n",
      "\r\n",
      "C:\\Program Files\\dotnet\\sdk\\9.0.100-preview.1.24101.2\\Microsoft.Common.CurrentVersion.targets(2401,5): warning MSB3277: Found conflicts between different versions of \"System.Memory\" that could not be resolved. [C:\\home\\git\\polyglot\\deps\\Fable\\src\\Fable.Transforms\\Fable.Transforms.fsproj]\r\n",
      "C:\\Program Files\\dotnet\\sdk\\9.0.100-preview.1.24101.2\\Microsoft.Common.CurrentVersion.targets(2401,5): warning MSB3277: There was a conflict between \"System.Memory, Version=4.0.1.1, Culture=neutral, PublicKeyToken=cc7b13ffcd2ddd51\" and \"System.Memory, Version=4.0.1.2, Culture=neutral, PublicKeyToken=cc7b13ffcd2ddd51\". [C:\\home\\git\\polyglot\\deps\\Fable\\src\\Fable.Transforms\\Fable.Transforms.fsproj]\r\n",
      "C:\\Program Files\\dotnet\\sdk\\9.0.100-preview.1.24101.2\\Microsoft.Common.CurrentVersion.targets(2401,5): warning MSB3277:     \"System.Memory, Version=4.0.1.1, Culture=neutral, PublicKeyToken=cc7b13ffcd2ddd51\" was chosen because it was primary and \"System.Memory, Version=4.0.1.2, Culture=neutral, PublicKeyToken=cc7b13ffcd2ddd51\" was not. [C:\\home\\git\\polyglot\\deps\\Fable\\src\\Fable.Transforms\\Fable.Transforms.fsproj]\r\n",
      "C:\\Program Files\\dotnet\\sdk\\9.0.100-preview.1.24101.2\\Microsoft.Common.CurrentVersion.targets(2401,5): warning MSB3277:     References which depend on \"System.Memory, Version=4.0.1.1, Culture=neutral, PublicKeyToken=cc7b13ffcd2ddd51\" [C:\\Users\\i574n\\.nuget\\packages\\system.memory\\4.5.4\\lib\\netstandard2.0\\System.Memory.dll]. [C:\\home\\git\\polyglot\\deps\\Fable\\src\\Fable.Transforms\\Fable.Transforms.fsproj]\r\n",
      "C:\\Program Files\\dotnet\\sdk\\9.0.100-preview.1.24101.2\\Microsoft.Common.CurrentVersion.targets(2401,5): warning MSB3277:         C:\\Users\\i574n\\.nuget\\packages\\system.memory\\4.5.4\\lib\\netstandard2.0\\System.Memory.dll [C:\\home\\git\\polyglot\\deps\\Fable\\src\\Fable.Transforms\\Fable.Transforms.fsproj]\r\n",
      "C:\\Program Files\\dotnet\\sdk\\9.0.100-preview.1.24101.2\\Microsoft.Common.CurrentVersion.targets(2401,5): warning MSB3277:           Project file item includes which caused reference \"C:\\Users\\i574n\\.nuget\\packages\\system.memory\\4.5.4\\lib\\netstandard2.0\\System.Memory.dll\". [C:\\home\\git\\polyglot\\deps\\Fable\\src\\Fable.Transforms\\Fable.Transforms.fsproj]\r\n",
      "C:\\Program Files\\dotnet\\sdk\\9.0.100-preview.1.24101.2\\Microsoft.Common.CurrentVersion.targets(2401,5): warning MSB3277:             C:\\Users\\i574n\\.nuget\\packages\\system.memory\\4.5.4\\lib\\netstandard2.0\\System.Memory.dll [C:\\home\\git\\polyglot\\deps\\Fable\\src\\Fable.Transforms\\Fable.Transforms.fsproj]\r\n",
      "C:\\Program Files\\dotnet\\sdk\\9.0.100-preview.1.24101.2\\Microsoft.Common.CurrentVersion.targets(2401,5): warning MSB3277:     References which depend on or have been unified to \"System.Memory, Version=4.0.1.2, Culture=neutral, PublicKeyToken=cc7b13ffcd2ddd51\" []. [C:\\home\\git\\polyglot\\deps\\Fable\\src\\Fable.Transforms\\Fable.Transforms.fsproj]\r\n",
      "C:\\Program Files\\dotnet\\sdk\\9.0.100-preview.1.24101.2\\Microsoft.Common.CurrentVersion.targets(2401,5): warning MSB3277:         C:\\home\\git\\polyglot\\deps\\Fable\\lib\\fcs\\FSharp.Compiler.Service.dll [C:\\home\\git\\polyglot\\deps\\Fable\\src\\Fable.Transforms\\Fable.Transforms.fsproj]\r\n",
      "C:\\Program Files\\dotnet\\sdk\\9.0.100-preview.1.24101.2\\Microsoft.Common.CurrentVersion.targets(2401,5): warning MSB3277:           Project file item includes which caused reference \"C:\\home\\git\\polyglot\\deps\\Fable\\lib\\fcs\\FSharp.Compiler.Service.dll\". [C:\\home\\git\\polyglot\\deps\\Fable\\src\\Fable.Transforms\\Fable.Transforms.fsproj]\r\n",
      "C:\\Program Files\\dotnet\\sdk\\9.0.100-preview.1.24101.2\\Microsoft.Common.CurrentVersion.targets(2401,5): warning MSB3277:             ../../lib/fcs/FSharp.Compiler.Service.dll [C:\\home\\git\\polyglot\\deps\\Fable\\src\\Fable.Transforms\\Fable.Transforms.fsproj]\r\n",
      "    1 Warning(s)\r\n",
      "    0 Error(s)\r\n",
      "\r\n",
      "Time Elapsed 00:00:02.57\r\n",
      "fable.dll path: C:\\home\\git\\polyglot\\deps\\Fable\\src\\Fable.Cli\\bin\\Release\\net9.0\\fable.dll\r\n",
      "Lib path: C:\\Users\\i574n\\.nuget\\packages\\fable.core\\4.3.0\\lib\\netstandard2.0\r\n",
      "MSBuild version 17.10.0-preview-24101-01+07fd5d51f for .NET\r\n",
      "  Determining projects to restore...\r\n",
      "  All projects are up-to-date for restore.\r\n",
      "C:\\Users\\i574n\\scoop\\apps\\dotnet-sdk-preview\\current\\sdk\\9.0.100-preview.1.24101.2\\Sdks\\Microsoft.NET.Sdk\\targets\\Microsoft.NET.RuntimeIdentifierInference.targets(313,5): message NETSDK1057: You are using a preview version of .NET. See: https://aka.ms/dotnet-support-policy [C:\\home\\git\\polyglot\\deps\\Fable\\src\\Fable.Core\\Fable.Core.fsproj]\r\n",
      "  Fable.Core -> C:\\home\\git\\polyglot\\deps\\Fable\\src\\Fable.Core\\bin\\Release\\netstandard2.0\\Fable.Core.dll\r\n",
      "\r\n",
      "Build succeeded.\r\n",
      "    0 Warning(s)\r\n",
      "    0 Error(s)\r\n",
      "\r\n",
      "Time Elapsed 00:00:01.32\r\n"
     ]
    }
   ],
   "source": [
    "{ . \"$ScriptDir/dep_fable.ps1\" } | Invoke-Block"
   ]
  },
  {
   "cell_type": "code",
   "execution_count": null,
   "metadata": {
    "dotnet_interactive": {
     "language": "pwsh"
    },
    "polyglot_notebook": {
     "kernelName": "pwsh"
    }
   },
   "outputs": [
    {
     "name": "stdout",
     "output_type": "stream",
     "text": [
      "\u001B[31;1mfatal: destination path 'hyperui' already exists and is not an empty directory.\u001B[0m\r\n",
      "\u001B[31;1mFrom https://github.com/i574n/hyperui\u001B[0m\r\n",
      "\u001B[31;1m   e387ded..bc31f72  main       -> origin/main\u001B[0m\r\n",
      "Updating e387ded..bc31f72\r\n",
      "Fast-forward\r\n",
      " .eslintrc.json                                     |    7 +-\r\n",
      " .github/FUNDING.yml                                |    3 -\r\n",
      " .gitignore                                         |   17 +-\r\n",
      " .prettierignore                                    |    2 +\r\n",
      " README.md                                          |   97 +\r\n",
      " app/[components]/[category]/[collection]/page.jsx  |   62 +-\r\n",
      " app/[components]/[category]/page.jsx               |   94 +-\r\n",
      " app/about/[slug]/page.jsx                          |   47 +-\r\n",
      " app/api/search/route.js                            |    9 +-\r\n",
      " app/blog/[slug]/page.jsx                           |   49 +-\r\n",
      " app/blog/page.jsx                                  |   11 +-\r\n",
      " app/layout.jsx                                     |   35 +-\r\n",
      " app/not-found.jsx                                  |   14 +\r\n",
      " app/page.jsx                                       |   19 +-\r\n",
      " app/robots.js                                      |   10 +\r\n",
      " app/sitemap.js                                     |   15 +-\r\n",
      " jsconfig.json                                      |   12 +-\r\n",
      " next.config.js                                     |    3 -\r\n",
      " package-lock.json                                  | 8816 ++++++++++++++++++++\r\n",
      " package.json                                       |   50 +-\r\n",
      " prettier.config.js                                 |    8 +-\r\n",
      " public/blogs/animation-extensions.html             |    6 +-\r\n",
      " public/blogs/highlight-hover.html                  |   10 +-\r\n",
      " public/blogs/pixelated-lazy-load.html              |   12 +-\r\n",
      " public/blogs/remove-number-spinners.html           |   16 +-\r\n",
      " public/blogs/text-shadow.html                      |    8 +-\r\n",
      " .../components/application-ui-alerts/1-dark.html   |   10 +-\r\n",
      " public/components/application-ui-alerts/1.html     |   10 +-\r\n",
      " .../components/application-ui-alerts/2-dark.html   |   15 +-\r\n",
      " public/components/application-ui-alerts/2.html     |   14 +-\r\n",
      " .../components/application-ui-alerts/3-dark.html   |    8 +-\r\n",
      " public/components/application-ui-alerts/3.html     |    4 +-\r\n",
      " .../components/application-ui-alerts/4-dark.html   |   11 +-\r\n",
      " public/components/application-ui-alerts/4.html     |   11 +-\r\n",
      " public/components/application-ui-badges/1.html     |    4 +-\r\n",
      " public/components/application-ui-badges/3.html     |    2 +-\r\n",
      " .../components/application-ui-badges/5-dark.html   |    6 +-\r\n",
      " public/components/application-ui-badges/5.html     |    6 +-\r\n",
      " .../application-ui-breadcrumbs/1-dark.html         |   17 +-\r\n",
      " .../components/application-ui-breadcrumbs/2.html   |    4 +-\r\n",
      " .../components/application-ui-button-groups/1.html |    4 +-\r\n",
      " .../application-ui-button-groups/5-dark.html       |    6 +-\r\n",
      " .../components/application-ui-button-groups/5.html |    6 +-\r\n",
      " .../application-ui-checkboxes/1-dark.html          |   57 +\r\n",
      " public/components/application-ui-checkboxes/1.html |   45 +\r\n",
      " .../application-ui-checkboxes/2-dark.html          |   61 +\r\n",
      " public/components/application-ui-checkboxes/2.html |   49 +\r\n",
      " .../application-ui-checkboxes/3-dark.html          |   69 +\r\n",
      " public/components/application-ui-checkboxes/3.html |   57 +\r\n",
      " .../application-ui-checkboxes/4-dark.html          |   78 +\r\n",
      " public/components/application-ui-checkboxes/4.html |   66 +\r\n",
      " .../application-ui-checkboxes/5-dark.html          |   78 +\r\n",
      " public/components/application-ui-checkboxes/5.html |   66 +\r\n",
      " .../application-ui-checkboxes/6-dark.html          |   78 +\r\n",
      " public/components/application-ui-checkboxes/6.html |   66 +\r\n",
      " .../application-ui-details-list/1-dark.html        |   23 +-\r\n",
      " .../components/application-ui-details-list/1.html  |    9 +-\r\n",
      " .../application-ui-details-list/2-dark.html        |   33 +-\r\n",
      " .../components/application-ui-details-list/2.html  |   29 +-\r\n",
      " .../application-ui-details-list/3-dark.html        |   27 +-\r\n",
      " .../components/application-ui-details-list/3.html  |    9 +-\r\n",
      " .../application-ui-details-list/4-dark.html        |   37 +-\r\n",
      " .../components/application-ui-details-list/4.html  |   29 +-\r\n",
      " public/components/application-ui-dividers/1.html   |    5 +\r\n",
      " public/components/application-ui-dividers/2.html   |    7 +\r\n",
      " public/components/application-ui-dividers/3.html   |    4 +\r\n",
      " public/components/application-ui-dividers/4.html   |    4 +\r\n",
      " .../application-ui-dropdown/1-interactive.html     |    4 +-\r\n",
      " public/components/application-ui-dropdown/1.html   |    8 +-\r\n",
      " .../application-ui-dropdown/2-interactive.html     |    4 +-\r\n",
      " public/components/application-ui-dropdown/2.html   |    8 +-\r\n",
      " .../3-dark-interactive.html                        |    8 +-\r\n",
      " .../components/application-ui-dropdown/3-dark.html |    8 +-\r\n",
      " .../application-ui-dropdown/3-interactive.html     |   12 +-\r\n",
      " public/components/application-ui-dropdown/3.html   |   16 +-\r\n",
      " .../application-ui-error-pages/1-dark.html         |    6 +-\r\n",
      " .../components/application-ui-error-pages/1.html   |    4 +-\r\n",
      " .../application-ui-error-pages/2-dark.html         |   14 +-\r\n",
      " .../components/application-ui-error-pages/2.html   |   10 +-\r\n",
      " .../application-ui-error-pages/3-dark.html         |   12 +-\r\n",
      " .../components/application-ui-error-pages/3.html   |   10 +-\r\n",
      " .../application-ui-error-pages/4-dark.html         |   14 +-\r\n",
      " .../components/application-ui-error-pages/4.html   |   10 +-\r\n",
      " public/components/application-ui-grids/1.html      |    4 +-\r\n",
      " public/components/application-ui-grids/10.html     |    4 +-\r\n",
      " public/components/application-ui-grids/11.html     |    6 +-\r\n",
      " public/components/application-ui-grids/12.html     |    4 +-\r\n",
      " public/components/application-ui-grids/2.html      |    4 +-\r\n",
      " public/components/application-ui-grids/3.html      |    4 +-\r\n",
      " public/components/application-ui-grids/4.html      |    6 +-\r\n",
      " public/components/application-ui-grids/5.html      |    8 +-\r\n",
      " public/components/application-ui-grids/6.html      |    6 +-\r\n",
      " public/components/application-ui-grids/7.html      |    6 +-\r\n",
      " public/components/application-ui-grids/8.html      |    6 +-\r\n",
      " public/components/application-ui-grids/9.html      |    4 +-\r\n",
      " public/components/application-ui-headers/1.html    |    8 +-\r\n",
      " public/components/application-ui-headers/2.html    |    8 +-\r\n",
      " public/components/application-ui-headers/3.html    |   92 -\r\n",
      " public/components/application-ui-headers/4.html    |  159 -\r\n",
      " .../components/application-ui-inputs/1-dark.html   |    7 +-\r\n",
      " public/components/application-ui-inputs/1.html     |    4 +-\r\n",
      " .../components/application-ui-inputs/2-dark.html   |    9 +-\r\n",
      " public/components/application-ui-inputs/2.html     |    7 +-\r\n",
      " .../components/application-ui-inputs/3-dark.html   |    2 +-\r\n",
      " .../components/application-ui-inputs/4-dark.html   |    6 +-\r\n",
      " .../components/application-ui-inputs/6-dark.html   |    2 +-\r\n",
      " .../components/application-ui-inputs/7-dark.html   |    2 +-\r\n",
      " .../application-ui-login-forms/1-dark.html         |   36 +-\r\n",
      " .../components/application-ui-login-forms/1.html   |   51 +-\r\n",
      " .../application-ui-login-forms/2-dark.html         |   44 +-\r\n",
      " .../components/application-ui-login-forms/2.html   |   59 +-\r\n",
      " public/components/application-ui-media/1.html      |   16 +\r\n",
      " public/components/application-ui-media/2.html      |   16 +\r\n",
      " public/components/application-ui-media/3.html      |   16 +\r\n",
      " public/components/application-ui-media/4.html      |   16 +\r\n",
      " public/components/application-ui-media/5.html      |   16 +\r\n",
      " public/components/application-ui-media/6.html      |   16 +\r\n",
      " public/components/application-ui-media/7.html      |   16 +\r\n",
      " public/components/application-ui-media/8.html      |   16 +\r\n",
      " .../application-ui-pagination/1-dark.html          |   12 +-\r\n",
      " public/components/application-ui-pagination/1.html |   14 +-\r\n",
      " .../application-ui-pagination/2-dark.html          |   18 +-\r\n",
      " public/components/application-ui-pagination/2.html |   18 +-\r\n",
      " .../application-ui-pagination/3-dark.html          |   28 +-\r\n",
      " public/components/application-ui-pagination/3.html |   28 +-\r\n",
      " .../application-ui-pagination/4-dark.html          |   18 +-\r\n",
      " public/components/application-ui-pagination/4.html |   18 +-\r\n",
      " .../components/application-ui-progress/1-dark.html |    5 +-\r\n",
      " public/components/application-ui-progress/1.html   |    5 +-\r\n",
      " .../components/application-ui-progress/2-dark.html |    5 +-\r\n",
      " public/components/application-ui-progress/2.html   |    5 +-\r\n",
      " .../components/application-ui-progress/3-dark.html |   10 +-\r\n",
      " public/components/application-ui-progress/3.html   |   10 +-\r\n",
      " .../application-ui-radio-groups/1-dark.html        |   38 +-\r\n",
      " .../components/application-ui-radio-groups/1.html  |   38 +-\r\n",
      " .../application-ui-radio-groups/2-dark.html        |   72 +-\r\n",
      " .../components/application-ui-radio-groups/2.html  |   72 +-\r\n",
      " .../application-ui-radio-groups/3-dark.html        |   50 +-\r\n",
      " .../components/application-ui-radio-groups/3.html  |   50 +-\r\n",
      " .../application-ui-radio-groups/4-dark.html        |   68 +-\r\n",
      " .../components/application-ui-radio-groups/4.html  |   68 +-\r\n",
      " .../application-ui-radio-groups/5-dark.html        |   72 -\r\n",
      " .../components/application-ui-radio-groups/5.html  |   56 +-\r\n",
      " .../components/application-ui-radio-groups/6.html  |   82 +-\r\n",
      " public/components/application-ui-selects/1.html    |    4 +-\r\n",
      " public/components/application-ui-selects/2.html    |    4 +-\r\n",
      " public/components/application-ui-selects/3.html    |    6 +-\r\n",
      " public/components/application-ui-side-menu/1.html  |   32 +-\r\n",
      " public/components/application-ui-side-menu/2.html  |   42 +-\r\n",
      " public/components/application-ui-side-menu/3.html  |  328 +\r\n",
      " public/components/application-ui-stats/1-dark.html |   24 +-\r\n",
      " public/components/application-ui-stats/1.html      |   12 +-\r\n",
      " public/components/application-ui-stats/2-dark.html |    4 +-\r\n",
      " public/components/application-ui-stats/2.html      |    8 +-\r\n",
      " public/components/application-ui-stats/3.html      |    8 +-\r\n",
      " public/components/application-ui-stats/4-dark.html |    8 +-\r\n",
      " public/components/application-ui-stats/4.html      |    4 +-\r\n",
      " public/components/application-ui-stats/6-dark.html |    8 +-\r\n",
      " public/components/application-ui-steps/1.html      |    6 +-\r\n",
      " public/components/application-ui-steps/3.html      |   18 +-\r\n",
      " public/components/application-ui-steps/4.html      |   14 +-\r\n",
      " public/components/application-ui-steps/5.html      |   14 +-\r\n",
      " public/components/application-ui-steps/6.html      |   18 +-\r\n",
      " .../components/application-ui-tables/1-dark.html   |   86 +-\r\n",
      " public/components/application-ui-tables/1.html     |   28 +-\r\n",
      " .../components/application-ui-tables/2-dark.html   |   94 +-\r\n",
      " public/components/application-ui-tables/2.html     |   28 +-\r\n",
      " .../components/application-ui-tables/3-dark.html   |   86 +-\r\n",
      " public/components/application-ui-tables/3.html     |   28 +-\r\n",
      " .../components/application-ui-tables/4-dark.html   |   86 +-\r\n",
      " public/components/application-ui-tables/4.html     |   28 +-\r\n",
      " .../components/application-ui-tables/5-dark.html   |   94 +-\r\n",
      " public/components/application-ui-tables/5.html     |   52 +-\r\n",
      " .../components/application-ui-tables/6-dark.html   |  110 +-\r\n",
      " public/components/application-ui-tables/6.html     |   52 +-\r\n",
      " .../components/application-ui-tables/7-dark.html   |  140 +\r\n",
      " public/components/application-ui-tables/7.html     |  120 +\r\n",
      " .../application-ui-textareas/1-dark.html           |    7 +-\r\n",
      " public/components/application-ui-textareas/1.html  |    4 +-\r\n",
      " .../application-ui-textareas/2-dark.html           |    6 +-\r\n",
      " .../application-ui-textareas/3-dark.html           |    2 +-\r\n",
      " .../application-ui-toggles/1-interactive.html      |   17 +-\r\n",
      " public/components/application-ui-toggles/1.html    |   11 +-\r\n",
      " .../application-ui-toggles/2-interactive.html      |   17 +-\r\n",
      " public/components/application-ui-toggles/2.html    |   11 +-\r\n",
      " public/components/application-ui-toggles/3.html    |   12 +-\r\n",
      " public/components/application-ui-toggles/4.html    |   11 +-\r\n",
      " .../application-ui-vertical-menu/1-dark.html       |   10 +-\r\n",
      " .../components/application-ui-vertical-menu/1.html |   13 +-\r\n",
      " .../application-ui-vertical-menu/2-dark.html       |   10 +-\r\n",
      " .../components/application-ui-vertical-menu/2.html |   10 +-\r\n",
      " .../application-ui-vertical-menu/3-dark.html       |   26 +-\r\n",
      " .../components/application-ui-vertical-menu/3.html |   29 +-\r\n",
      " .../application-ui-vertical-menu/4-dark.html       |   26 +-\r\n",
      " .../components/application-ui-vertical-menu/4.html |   29 +-\r\n",
      " .../application-ui-vertical-menu/5-dark.html       |   26 +-\r\n",
      " .../components/application-ui-vertical-menu/5.html |   26 +-\r\n",
      " .../6-dark-interactive.html                        |   16 +-\r\n",
      " .../application-ui-vertical-menu/6-dark.html       |   16 +-\r\n",
      " .../6-interactive.html                             |   19 +-\r\n",
      " .../components/application-ui-vertical-menu/6.html |   19 +-\r\n",
      " .../7-dark-interactive.html                        |   32 +-\r\n",
      " .../application-ui-vertical-menu/7-dark.html       |   32 +-\r\n",
      " .../7-interactive.html                             |   35 +-\r\n",
      " .../components/application-ui-vertical-menu/7.html |   35 +-\r\n",
      " .../application-ui-vertical-menu/8-dark.html       |   18 +-\r\n",
      " .../components/application-ui-vertical-menu/8.html |   18 +-\r\n",
      " .../application-ui-vertical-menu/9-dark.html       |   34 +-\r\n",
      " .../components/application-ui-vertical-menu/9.html |   34 +-\r\n",
      " public/components/ecommerce-carts/1.html           |   12 +-\r\n",
      " public/components/ecommerce-carts/2.html           |   12 +-\r\n",
      " public/components/ecommerce-carts/3.html           |    6 +-\r\n",
      " .../components/ecommerce-collection-cards/1.html   |   10 +-\r\n",
      " .../components/ecommerce-collection-cards/2.html   |    6 +-\r\n",
      " .../1-dark-interactive.html                        |   52 +-\r\n",
      " .../ecommerce-collection-filters/1-dark.html       |   60 +-\r\n",
      " .../1-interactive.html                             |   64 +-\r\n",
      " .../components/ecommerce-collection-filters/1.html |   72 +-\r\n",
      " .../2-dark-interactive.html                        |   30 +-\r\n",
      " .../ecommerce-collection-filters/2-dark.html       |   38 +-\r\n",
      " .../2-interactive.html                             |   62 +-\r\n",
      " .../components/ecommerce-collection-filters/2.html |   52 +-\r\n",
      " .../components/ecommerce-featured-sections/1.html  |   20 +-\r\n",
      " .../components/ecommerce-featured-sections/2.html  |   39 +-\r\n",
      " public/components/ecommerce-product-cards/1.html   |    4 +-\r\n",
      " public/components/ecommerce-product-cards/2.html   |    4 +-\r\n",
      " public/components/ecommerce-product-cards/3.html   |   10 +-\r\n",
      " public/components/ecommerce-product-cards/4.html   |    8 +-\r\n",
      " public/components/ecommerce-product-cards/5.html   |   22 +-\r\n",
      " public/components/ecommerce-product-cards/6.html   |    6 +-\r\n",
      " .../ecommerce-product-collections/1.html           |   49 +-\r\n",
      " .../ecommerce-product-collections/2.html           |   49 +-\r\n",
      " .../ecommerce-product-collections/3.html           |   29 +-\r\n",
      " .../ecommerce-product-collections/4.html           |   50 +-\r\n",
      " .../ecommerce-product-collections/5.html           |   87 +-\r\n",
      " .../ecommerce-product-collections/6.html           |  144 +-\r\n",
      " .../1-dark-interactive.html                        |    6 +-\r\n",
      " .../ecommerce-quantity-inputs/1-dark.html          |    6 +-\r\n",
      " .../ecommerce-quantity-inputs/1-interactive.html   |    4 +-\r\n",
      " public/components/ecommerce-quantity-inputs/1.html |   10 +-\r\n",
      " .../2-dark-interactive.html                        |    6 +-\r\n",
      " .../ecommerce-quantity-inputs/2-dark.html          |    6 +-\r\n",
      " .../ecommerce-quantity-inputs/2-interactive.html   |    6 +-\r\n",
      " public/components/ecommerce-quantity-inputs/2.html |   12 +-\r\n",
      " .../3-dark-interactive.html                        |    6 +-\r\n",
      " .../ecommerce-quantity-inputs/3-dark.html          |    6 +-\r\n",
      " .../ecommerce-quantity-inputs/3-interactive.html   |    6 +-\r\n",
      " public/components/ecommerce-quantity-inputs/3.html |   12 +-\r\n",
      " .../4-dark-interactive.html                        |   10 +-\r\n",
      " .../ecommerce-quantity-inputs/4-dark.html          |   10 +-\r\n",
      " .../ecommerce-quantity-inputs/4-interactive.html   |    8 +-\r\n",
      " public/components/ecommerce-quantity-inputs/4.html |   14 +-\r\n",
      " .../components/marketing-announcements/2-dark.html |   11 +-\r\n",
      " public/components/marketing-announcements/2.html   |   11 +-\r\n",
      " .../components/marketing-announcements/4-dark.html |    4 +-\r\n",
      " public/components/marketing-announcements/4.html   |    4 +-\r\n",
      " .../components/marketing-announcements/5-dark.html |    4 +-\r\n",
      " public/components/marketing-announcements/5.html   |    4 +-\r\n",
      " .../components/marketing-announcements/6-dark.html |    4 +-\r\n",
      " public/components/marketing-announcements/6.html   |    4 +-\r\n",
      " .../components/marketing-announcements/8-dark.html |   32 +-\r\n",
      " public/components/marketing-announcements/8.html   |   16 +-\r\n",
      " public/components/marketing-banners/1.html         |   16 +-\r\n",
      " public/components/marketing-banners/2.html         |   12 +-\r\n",
      " public/components/marketing-banners/3.html         |    8 +-\r\n",
      " public/components/marketing-blog-cards/1-dark.html |   22 +-\r\n",
      " public/components/marketing-blog-cards/1.html      |   19 +-\r\n",
      " public/components/marketing-blog-cards/2-dark.html |   15 +-\r\n",
      " public/components/marketing-blog-cards/2.html      |   15 +-\r\n",
      " public/components/marketing-blog-cards/3-dark.html |   25 +-\r\n",
      " public/components/marketing-blog-cards/3.html      |   25 +-\r\n",
      " public/components/marketing-blog-cards/4-dark.html |    7 +-\r\n",
      " public/components/marketing-blog-cards/4.html      |    4 +-\r\n",
      " public/components/marketing-blog-cards/5-dark.html |   23 +-\r\n",
      " public/components/marketing-blog-cards/5.html      |   17 +-\r\n",
      " public/components/marketing-blog-cards/6-dark.html |   21 +-\r\n",
      " public/components/marketing-blog-cards/6.html      |   11 +-\r\n",
      " public/components/marketing-blog-cards/7.html      |   27 +-\r\n",
      " public/components/marketing-buttons/1.html         |    4 +-\r\n",
      " public/components/marketing-buttons/10.html        |    8 +-\r\n",
      " public/components/marketing-buttons/11.html        |   12 +-\r\n",
      " public/components/marketing-buttons/12.html        |    8 +-\r\n",
      " public/components/marketing-buttons/2.html         |    8 +-\r\n",
      " public/components/marketing-buttons/3.html         |   14 +-\r\n",
      " public/components/marketing-buttons/4.html         |    8 +-\r\n",
      " public/components/marketing-buttons/5.html         |   16 +-\r\n",
      " public/components/marketing-buttons/6.html         |   32 +-\r\n",
      " public/components/marketing-buttons/7.html         |    4 +-\r\n",
      " public/components/marketing-buttons/8.html         |    8 +-\r\n",
      " public/components/marketing-buttons/9.html         |   14 +-\r\n",
      " public/components/marketing-cards/1.html           |   10 +-\r\n",
      " public/components/marketing-cards/2.html           |    9 +-\r\n",
      " public/components/marketing-cards/3.html           |   11 +-\r\n",
      " public/components/marketing-cards/4.html           |    8 +-\r\n",
      " public/components/marketing-cards/5.html           |    8 +-\r\n",
      " public/components/marketing-cards/6.html           |   21 +-\r\n",
      " public/components/marketing-cards/7.html           |    2 +-\r\n",
      " public/components/marketing-cards/8.html           |   11 +-\r\n",
      " public/components/marketing-cards/9.html           |   17 +-\r\n",
      " public/components/marketing-cards/_12.html         |   31 -\r\n",
      " public/components/marketing-cards/_9.html          |   28 -\r\n",
      " public/components/marketing-ctas/1-dark.html       |   21 +-\r\n",
      " public/components/marketing-ctas/1.html            |   13 +-\r\n",
      " public/components/marketing-ctas/2-dark.html       |   12 +-\r\n",
      " public/components/marketing-ctas/2.html            |    8 +-\r\n",
      " public/components/marketing-ctas/3-dark.html       |   21 +-\r\n",
      " public/components/marketing-ctas/3.html            |   17 +-\r\n",
      " public/components/marketing-ctas/4.html            |   13 +-\r\n",
      " public/components/marketing-ctas/5.html            |   11 +-\r\n",
      " public/components/marketing-faqs/1-dark.html       |   40 +-\r\n",
      " public/components/marketing-faqs/1.html            |   40 +-\r\n",
      " public/components/marketing-faqs/2-dark.html       |   30 +-\r\n",
      " public/components/marketing-faqs/2.html            |   47 +-\r\n",
      " public/components/marketing-faqs/3-dark.html       |   22 +-\r\n",
      " public/components/marketing-faqs/3.html            |   18 +-\r\n",
      " public/components/marketing-faqs/4-dark.html       |   34 +-\r\n",
      " public/components/marketing-faqs/4.html            |   42 +-\r\n",
      " public/components/marketing-faqs/5-dark.html       |   34 +-\r\n",
      " public/components/marketing-faqs/5.html            |   46 +-\r\n",
      " public/components/marketing-footers/1-dark.html    |  176 +-\r\n",
      " public/components/marketing-footers/1.html         |  156 +-\r\n",
      " public/components/marketing-footers/10-dark.html   |  138 +-\r\n",
      " public/components/marketing-footers/10.html        |  154 +-\r\n",
      " public/components/marketing-footers/11-dark.html   |   15 +-\r\n",
      " public/components/marketing-footers/11.html        |    7 +-\r\n",
      " public/components/marketing-footers/12-dark.html   |  136 +-\r\n",
      " public/components/marketing-footers/12.html        |  138 +-\r\n",
      " public/components/marketing-footers/13-dark.html   |  120 +-\r\n",
      " public/components/marketing-footers/13.html        |  122 +-\r\n",
      " public/components/marketing-footers/2-dark.html    |  133 +-\r\n",
      " public/components/marketing-footers/2.html         |  120 +-\r\n",
      " public/components/marketing-footers/3-dark.html    |  139 +-\r\n",
      " public/components/marketing-footers/3.html         |  128 +-\r\n",
      " public/components/marketing-footers/4-dark.html    |   70 +-\r\n",
      " public/components/marketing-footers/4.html         |   65 +-\r\n",
      " public/components/marketing-footers/5-dark.html    |  110 +-\r\n",
      " public/components/marketing-footers/5.html         |  100 +-\r\n",
      " public/components/marketing-footers/6-dark.html    |  109 +-\r\n",
      " public/components/marketing-footers/6.html         |   81 +-\r\n",
      " public/components/marketing-footers/7-dark.html    |  100 +-\r\n",
      " public/components/marketing-footers/7.html         |  139 +-\r\n",
      " public/components/marketing-footers/8-dark.html    |   72 +-\r\n",
      " public/components/marketing-footers/8.html         |   80 +-\r\n",
      " public/components/marketing-footers/9-dark.html    |   35 +-\r\n",
      " public/components/marketing-footers/9.html         |   35 +-\r\n",
      " public/components/marketing-forms/1.html           |   12 +-\r\n",
      " public/components/marketing-forms/2.html           |   14 +-\r\n",
      " public/components/marketing-forms/3.html           |   19 +-\r\n",
      " public/components/marketing-forms/4.html           |   58 +-\r\n",
      " public/components/marketing-headers/1-dark.html    |   39 +-\r\n",
      " public/components/marketing-headers/1.html         |   47 +-\r\n",
      " public/components/marketing-headers/2-dark.html    |   31 +-\r\n",
      " public/components/marketing-headers/2.html         |   65 +-\r\n",
      " public/components/marketing-headers/3-dark.html    |   31 +-\r\n",
      " public/components/marketing-headers/3.html         |   65 +-\r\n",
      " public/components/marketing-popups/1.html          |   12 +-\r\n",
      " public/components/marketing-popups/2.html          |   13 +-\r\n",
      " public/components/marketing-popups/3.html          |    6 +-\r\n",
      " public/components/marketing-popups/4.html          |   25 +-\r\n",
      " public/components/marketing-popups/5.html          |   18 +-\r\n",
      " public/components/marketing-popups/6.html          |    7 +-\r\n",
      " public/components/marketing-popups/7.html          |   13 +-\r\n",
      " public/components/marketing-popups/8.html          |   14 +-\r\n",
      " public/components/marketing-pricings/1.html        |   92 +-\r\n",
      " public/components/marketing-pricings/2.html        |  363 +\r\n",
      " public/components/marketing-sections/1.html        |   42 +-\r\n",
      " public/components/marketing-sections/2.html        |   27 +-\r\n",
      " public/components/marketing-sections/3.html        |   16 +-\r\n",
      " public/components/marketing-sections/4.html        |   57 +-\r\n",
      " public/components/marketing-sections/5.html        |   23 +-\r\n",
      " public/components/marketing-sections/6.html        |   12 +-\r\n",
      " public/components/marketing-stats/1-dark.html      |   25 +-\r\n",
      " public/components/marketing-stats/1.html           |   37 +-\r\n",
      " public/components/marketing-stats/2-dark.html      |   25 +-\r\n",
      " public/components/marketing-stats/2.html           |   29 +-\r\n",
      " public/components/marketing-stats/3-dark.html      |   51 +-\r\n",
      " public/components/marketing-stats/3.html           |   31 +-\r\n",
      " public/components/marketing-testimonials/1.html    |   78 +-\r\n",
      " public/components/marketing-testimonials/2.html    |   54 +-\r\n",
      " public/components/marketing-testimonials/3.html    |   37 +-\r\n",
      " public/components/marketing-testimonials/4.html    |   56 +-\r\n",
      " public/components/marketing-testimonials/5.html    |   92 +-\r\n",
      " public/iframe.js                                   |   12 -\r\n",
      " src/components/BlogCard.jsx                        |   16 +-\r\n",
      " src/components/BlogPreview.jsx                     |   17 +-\r\n",
      " src/components/BlogTableContent.jsx                |   48 +-\r\n",
      " src/components/ButtonStyle.jsx                     |   23 +-\r\n",
      " src/components/CollectionCard.jsx                  |   19 +-\r\n",
      " src/components/CollectionGrid.jsx                  |    2 +-\r\n",
      " src/components/CollectionLinks.jsx                 |   92 +-\r\n",
      " src/components/ComponentPreview.jsx                |   49 +-\r\n",
      " src/components/Container.jsx                       |    6 +-\r\n",
      " src/components/FaqList.jsx                         |    8 +-\r\n",
      " src/components/Footer.jsx                          |   24 +-\r\n",
      " src/components/GithubSocial.jsx                    |   16 +\r\n",
      " src/components/Header.jsx                          |   50 +-\r\n",
      " src/components/HeaderBanner.jsx                    |    6 +-\r\n",
      " src/components/HeaderMenu.jsx                      |    7 +-\r\n",
      " src/components/HeaderMenuLinks.jsx                 |    9 +-\r\n",
      " src/components/HeaderSearch.jsx                    |   27 +-\r\n",
      " src/components/HeroBanner.jsx                      |    6 +-\r\n",
      " src/components/IconClose.jsx                       |    6 +-\r\n",
      " src/components/IconGithub.jsx                      |    7 +-\r\n",
      " src/components/IconMenu.jsx                        |    6 +-\r\n",
      " src/components/MdxRemoteRender.jsx                 |   10 +-\r\n",
      " src/components/PreviewCode.jsx                     |    9 +-\r\n",
      " src/components/PreviewCopy.jsx                     |    8 +-\r\n",
      " src/components/PreviewCreator.jsx                  |    4 +-\r\n",
      " src/components/PreviewIframe.jsx                   |    5 +-\r\n",
      " src/components/PreviewInteractive.jsx              |    5 +-\r\n",
      " src/components/PreviewTitle.jsx                    |    2 +-\r\n",
      " src/components/PreviewView.jsx                     |    6 +-\r\n",
      " src/components/SponsorGrid.jsx                     |   33 -\r\n",
      " src/data/components/application-ui-alerts.mdx      |    6 +-\r\n",
      " src/data/components/application-ui-badges.mdx      |    6 +-\r\n",
      " src/data/components/application-ui-breadcrumbs.mdx |    6 +-\r\n",
      " .../components/application-ui-button-groups.mdx    |    6 +-\r\n",
      " src/data/components/application-ui-checkboxes.mdx  |   34 +\r\n",
      " .../components/application-ui-details-list.mdx     |    6 +-\r\n",
      " src/data/components/application-ui-dividers.mdx    |   23 +\r\n",
      " src/data/components/application-ui-dropdown.mdx    |    5 +-\r\n",
      " src/data/components/application-ui-error-pages.mdx |    5 +-\r\n",
      " src/data/components/application-ui-grids.mdx       |    6 +-\r\n",
      " src/data/components/application-ui-headers.mdx     |   10 +-\r\n",
      " src/data/components/application-ui-inputs.mdx      |    7 +-\r\n",
      " src/data/components/application-ui-login-forms.mdx |    5 +-\r\n",
      " src/data/components/application-ui-media.mdx       |   31 +\r\n",
      " src/data/components/application-ui-pagination.mdx  |    6 +-\r\n",
      " src/data/components/application-ui-progress.mdx    |    6 +-\r\n",
      " .../components/application-ui-radio-groups.mdx     |    9 +-\r\n",
      " src/data/components/application-ui-selects.mdx     |    6 +-\r\n",
      " src/data/components/application-ui-side-menu.mdx   |    8 +-\r\n",
      " src/data/components/application-ui-stats.mdx       |    6 +-\r\n",
      " src/data/components/application-ui-steps.mdx       |    6 +-\r\n",
      " src/data/components/application-ui-tables.mdx      |    9 +-\r\n",
      " src/data/components/application-ui-tabs.mdx        |    7 +-\r\n",
      " src/data/components/application-ui-textareas.mdx   |    7 +-\r\n",
      " src/data/components/application-ui-toggles.mdx     |    6 +-\r\n",
      " .../components/application-ui-vertical-menu.mdx    |    5 +-\r\n",
      " src/data/components/ecommerce-carts.mdx            |    5 +-\r\n",
      " src/data/components/ecommerce-collection-cards.mdx |    5 +-\r\n",
      " .../components/ecommerce-collection-filters.mdx    |    6 +-\r\n",
      " .../components/ecommerce-featured-sections.mdx     |    5 +-\r\n",
      " src/data/components/ecommerce-product-cards.mdx    |    5 +-\r\n",
      " .../components/ecommerce-product-collections.mdx   |    5 +-\r\n",
      " src/data/components/ecommerce-quantity-inputs.mdx  |    6 +-\r\n",
      " src/data/components/marketing-announcements.mdx    |    6 +-\r\n",
      " src/data/components/marketing-banners.mdx          |    5 +-\r\n",
      " src/data/components/marketing-blog-cards.mdx       |    5 +-\r\n",
      " src/data/components/marketing-buttons.mdx          |    6 +-\r\n",
      " src/data/components/marketing-cards.mdx            |    5 +-\r\n",
      " src/data/components/marketing-ctas.mdx             |    5 +-\r\n",
      " src/data/components/marketing-faqs.mdx             |    5 +-\r\n",
      " src/data/components/marketing-footers.mdx          |    5 +-\r\n",
      " src/data/components/marketing-forms.mdx            |    5 +-\r\n",
      " src/data/components/marketing-headers.mdx          |    6 +-\r\n",
      " src/data/components/marketing-popups.mdx           |    5 +-\r\n",
      " src/data/components/marketing-pricings.mdx         |   10 +-\r\n",
      " src/data/components/marketing-sections.mdx         |    5 +-\r\n",
      " src/data/components/marketing-stats.mdx            |    5 +-\r\n",
      " src/data/components/marketing-testimonials.mdx     |    6 +-\r\n",
      " src/data/metadata.js                               |    3 +-\r\n",
      " src/data/pages/acknowledgements.mdx                |    4 +-\r\n",
      " src/data/pages/faqs.mdx                            |    2 -\r\n",
      " src/data/pages/sponsors.mdx                        |   10 -\r\n",
      " .../animated-border-gradient-with-tailwindcss.mdx  |    5 +-\r\n",
      " .../animation-duration-delay-with-tailwindcss.mdx  |    6 +-\r\n",
      " .../custom-gradients-with-tailwindcss-jit.mdx      |   15 +-\r\n",
      " .../posts/how-to-clean-up-tailwindcss-code.mdx     |    2 +\r\n",
      " src/data/posts/how-to-contribute.mdx               |    6 +-\r\n",
      " ...xelated-image-lazy-loading-with-tailwindcss.mdx |    5 +-\r\n",
      " src/styles/tailwind/site.config.js                 |    2 +-\r\n",
      " src/utils/transformers.js                          |   15 +-\r\n",
      " yarn.lock                                          | 3818 ---------\r\n",
      " 474 files changed, 14249 insertions(+), 11556 deletions(-)\r\n",
      " delete mode 100644 .github/FUNDING.yml\r\n",
      " create mode 100644 .prettierignore\r\n",
      " create mode 100644 app/not-found.jsx\r\n",
      " create mode 100644 app/robots.js\r\n",
      " create mode 100644 package-lock.json\r\n",
      " create mode 100644 public/components/application-ui-checkboxes/1-dark.html\r\n",
      " create mode 100644 public/components/application-ui-checkboxes/1.html\r\n",
      " create mode 100644 public/components/application-ui-checkboxes/2-dark.html\r\n",
      " create mode 100644 public/components/application-ui-checkboxes/2.html\r\n",
      " create mode 100644 public/components/application-ui-checkboxes/3-dark.html\r\n",
      " create mode 100644 public/components/application-ui-checkboxes/3.html\r\n",
      " create mode 100644 public/components/application-ui-checkboxes/4-dark.html\r\n",
      " create mode 100644 public/components/application-ui-checkboxes/4.html\r\n",
      " create mode 100644 public/components/application-ui-checkboxes/5-dark.html\r\n",
      " create mode 100644 public/components/application-ui-checkboxes/5.html\r\n",
      " create mode 100644 public/components/application-ui-checkboxes/6-dark.html\r\n",
      " create mode 100644 public/components/application-ui-checkboxes/6.html\r\n",
      " create mode 100644 public/components/application-ui-dividers/1.html\r\n",
      " create mode 100644 public/components/application-ui-dividers/2.html\r\n",
      " create mode 100644 public/components/application-ui-dividers/3.html\r\n",
      " create mode 100644 public/components/application-ui-dividers/4.html\r\n",
      " delete mode 100644 public/components/application-ui-headers/3.html\r\n",
      " delete mode 100644 public/components/application-ui-headers/4.html\r\n",
      " create mode 100644 public/components/application-ui-media/1.html\r\n",
      " create mode 100644 public/components/application-ui-media/2.html\r\n",
      " create mode 100644 public/components/application-ui-media/3.html\r\n",
      " create mode 100644 public/components/application-ui-media/4.html\r\n",
      " create mode 100644 public/components/application-ui-media/5.html\r\n",
      " create mode 100644 public/components/application-ui-media/6.html\r\n",
      " create mode 100644 public/components/application-ui-media/7.html\r\n",
      " create mode 100644 public/components/application-ui-media/8.html\r\n",
      " delete mode 100644 public/components/application-ui-radio-groups/5-dark.html\r\n",
      " create mode 100644 public/components/application-ui-side-menu/3.html\r\n",
      " create mode 100644 public/components/application-ui-tables/7-dark.html\r\n",
      " create mode 100644 public/components/application-ui-tables/7.html\r\n",
      " delete mode 100644 public/components/marketing-cards/_12.html\r\n",
      " delete mode 100644 public/components/marketing-cards/_9.html\r\n",
      " create mode 100644 public/components/marketing-pricings/2.html\r\n",
      " delete mode 100644 public/iframe.js\r\n",
      " create mode 100644 src/components/GithubSocial.jsx\r\n",
      " delete mode 100644 src/components/SponsorGrid.jsx\r\n",
      " create mode 100644 src/data/components/application-ui-checkboxes.mdx\r\n",
      " create mode 100644 src/data/components/application-ui-dividers.mdx\r\n",
      " create mode 100644 src/data/components/application-ui-media.mdx\r\n",
      " delete mode 100644 src/data/pages/sponsors.mdx\r\n",
      " delete mode 100644 yarn.lock\r\n",
      "yarn install v1.22.19\r\n",
      "info No lockfile found.\r\n",
      "\u001B[31;1mwarning package-lock.json found. Your project contains lock files generated by tools other than Yarn. It is advised not to mix package managers in order to avoid resolution inconsistencies caused by unsynchronized lock files. To clear this warning, remove package-lock.json.\u001B[0m\r\n",
      "[1/4] Resolving packages...\r\n",
      "\u001B[31;1m(node:24616) [DEP0040] DeprecationWarning: The `punycode` module is deprecated. Please use a userland alternative instead.\u001B[0m\r\n",
      "\u001B[31;1m(Use `node --trace-deprecation ...` to show where the warning was created)\u001B[0m\r\n",
      "[2/4] Fetching packages...\r\n",
      "info There appears to be trouble with your network connection. Retrying...\r\n",
      "info There appears to be trouble with your network connection. Retrying...\r\n",
      "[3/4] Linking dependencies...\r\n",
      "\u001B[31;1mwarning \"eslint-config-next > @typescript-eslint/parser > @typescript-eslint/typescript-estree > ts-api-utils@1.3.0\" has unmet peer dependency \"typescript@>=4.2.0\".\u001B[0m\r\n",
      "[4/4] Building fresh packages...\r\n",
      "success Saved lockfile.\r\n",
      "Done in 2621.34s.\r\n",
      "yarn run v1.22.19\r\n",
      "$ next build\r\n",
      "   ▲ Next.js 14.1.4\r\n",
      "\r\n",
      "   Creating an optimized production build ...\r\n",
      "\u001B[31;1m(node:66004) [DEP0040] DeprecationWarning: The `punycode` module is deprecated. Please use a userland alternative instead.\u001B[0m\r\n",
      "\u001B[31;1m(Use `node --trace-deprecation ...` to show where the warning was created)\u001B[0m\r\n",
      "\u001B[31;1m(node:66312) [DEP0040] DeprecationWarning: The `punycode` module is deprecated. Please use a userland alternative instead.\u001B[0m\r\n",
      "\u001B[31;1m(Use `node --trace-deprecation ...` to show where the warning was created)\u001B[0m\r\n",
      " ✓ Compiled successfully\r\n",
      "   Linting and checking validity of types ...\r\n",
      "   Collecting page data ...\r\n",
      "   Generating static pages (0/8) ...\r\n",
      "\r\n",
      "   Generating static pages (2/8) \r\n",
      "\r\n",
      "   Generating static pages (4/8) \r\n",
      "\r\n",
      "   Generating static pages (6/8) \r\n",
      "\r\n",
      " ✓ Generating static pages (8/8) \r\n",
      "   Finalizing page optimization ...\r\n",
      "   Collecting build traces ...\r\n",
      "\r\n",
      "Route (app)                                Size     First Load JS\r\n",
      "┌ ○ /                                      180 B          91.3 kB\r\n",
      "├ ○ /_not-found                            0 B                0 B\r\n",
      "├ ● /[components]/[category]               180 B          91.3 kB\r\n",
      "├ ● /[components]/[category]/[collection]  3.79 kB         105 kB\r\n",
      "├ ● /about/[slug]                          2.63 kB          87 kB\r\n",
      "├ ○ /api/search                            0 B                0 B\r\n",
      "├ ○ /blog                                  180 B          91.3 kB\r\n",
      "├ ● /blog/[slug]                           3.04 kB        97.9 kB\r\n",
      "├ ○ /robots.txt                            0 B                0 B\r\n",
      "└ ○ /sitemap.xml                           0 B                0 B\r\n",
      "+ First Load JS shared by all              84.4 kB\r\n",
      "  ├ chunks/69-e2c27963538a19c9.js          29 kB\r\n",
      "  ├ chunks/fd9d1056-c6fa962edfe9fed9.js    53.4 kB\r\n",
      "  └ other shared chunks (total)            1.96 kB\r\n",
      "\r\n",
      "\r\n",
      "○  (Static)  prerendered as static content\r\n",
      "●  (SSG)     prerendered as static HTML (uses getStaticProps)\r\n",
      "\r\n",
      "$ npm run css\r\n",
      "\r\n",
      "> css\r\n",
      "> npm run css:components && npm run css:blogs\r\n",
      "\r\n",
      "\r\n",
      "> css:components\r\n",
      "> npx tailwindcss -i src/styles/components.css -o public/components.css -m\r\n",
      "\r\n",
      "\u001B[31;1m\u001B[0m\r\n",
      "\u001B[31;1mRebuilding...\u001B[0m\r\n",
      "\u001B[31;1m\u001B[0m\r\n",
      "\u001B[31;1mDone in 3836ms.\u001B[0m\r\n",
      "\r\n",
      "> css:blogs\r\n",
      "> npx tailwindcss -i src/styles/blogs.css -o public/blogs.css -m\r\n",
      "\r\n",
      "\u001B[31;1m\u001B[0m\r\n",
      "\u001B[31;1mRebuilding...\u001B[0m\r\n",
      "\u001B[31;1m\u001B[0m\r\n",
      "\u001B[31;1mDone in 573ms.\u001B[0m\r\n",
      "Done in 57.83s.\r\n"
     ]
    }
   ],
   "source": [
    "{ . \"$ScriptDir/dep_hyperui.ps1\" } | Invoke-Block"
   ]
  }
 ],
 "metadata": {},
 "nbformat": 4,
 "nbformat_minor": 5
}