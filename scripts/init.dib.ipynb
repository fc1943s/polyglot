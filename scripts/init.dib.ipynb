{
 "cells": [
  {
   "cell_type": "code",
   "execution_count": null,
   "metadata": {
    "dotnet_interactive": {
     "language": "pwsh"
    },
    "polyglot_notebook": {
     "kernelName": "pwsh"
    }
   },
   "outputs": [],
   "source": [
    ". ./nbs_header.ps1\n",
    ". ./core.ps1"
   ]
  },
  {
   "cell_type": "code",
   "execution_count": null,
   "metadata": {
    "dotnet_interactive": {
     "language": "pwsh"
    },
    "polyglot_notebook": {
     "kernelName": "pwsh"
    }
   },
   "outputs": [],
   "source": [
    "# rustup component add clippy rust-src rustfmt"
   ]
  },
  {
   "cell_type": "code",
   "execution_count": null,
   "metadata": {
    "dotnet_interactive": {
     "language": "pwsh"
    },
    "polyglot_notebook": {
     "kernelName": "pwsh"
    }
   },
   "outputs": [],
   "source": [
    "# rustup target add wasm32-unknown-unknown"
   ]
  },
  {
   "cell_type": "code",
   "execution_count": null,
   "metadata": {
    "dotnet_interactive": {
     "language": "pwsh"
    },
    "polyglot_notebook": {
     "kernelName": "pwsh"
    }
   },
   "outputs": [
    {
     "name": "stdout",
     "output_type": "stream",
     "text": [
      "\u001B[31;1minfo: syncing channel updates for 'stable-x86_64-pc-windows-msvc'\u001B[0m\r\n",
      "\u001B[31;1minfo: syncing channel updates for 'nightly-x86_64-pc-windows-msvc'\u001B[0m\r\n",
      "\u001B[31;1minfo: latest update on 2024-12-08, rust version 1.85.0-nightly (9c707a8b7 2024-12-07)\u001B[0m\r\n",
      "\u001B[31;1minfo: downloading component 'cargo'\u001B[0m\r\n",
      "\u001B[31;1minfo: downloading component 'clippy'\u001B[0m\r\n",
      "\u001B[31;1minfo: downloading component 'rust-analyzer'\u001B[0m\r\n",
      "\u001B[31;1minfo: downloading component 'rust-docs'\u001B[0m\r\n",
      "\u001B[31;1minfo: downloading component 'rust-src'\u001B[0m\r\n",
      "\u001B[31;1minfo: downloading component 'rust-std'\u001B[0m\r\n",
      "\u001B[31;1minfo: downloading component 'rustc'\u001B[0m\r\n",
      "\u001B[31;1minfo: downloading component 'rustfmt'\u001B[0m\r\n",
      "\u001B[31;1minfo: removing previous version of component 'cargo'\u001B[0m\r\n",
      "\u001B[31;1minfo: removing previous version of component 'clippy'\u001B[0m\r\n",
      "\u001B[31;1minfo: removing previous version of component 'rust-analyzer'\u001B[0m\r\n",
      "\u001B[31;1minfo: removing previous version of component 'rust-docs'\u001B[0m\r\n",
      "\u001B[31;1minfo: removing previous version of component 'rust-src'\u001B[0m\r\n",
      "\u001B[31;1minfo: removing previous version of component 'rust-std'\u001B[0m\r\n",
      "\u001B[31;1minfo: removing previous version of component 'rustc'\u001B[0m\r\n",
      "\u001B[31;1minfo: removing previous version of component 'rustfmt'\u001B[0m\r\n",
      "\u001B[31;1minfo: installing component 'cargo'\u001B[0m\r\n",
      "\u001B[31;1minfo: installing component 'clippy'\u001B[0m\r\n",
      "\u001B[31;1minfo: installing component 'rust-analyzer'\u001B[0m\r\n",
      "\u001B[31;1minfo: installing component 'rust-docs'\u001B[0m\r\n",
      "\u001B[31;1minfo: installing component 'rust-src'\u001B[0m\r\n",
      "\u001B[31;1minfo: installing component 'rust-std'\u001B[0m\r\n",
      "\u001B[31;1minfo: installing component 'rustc'\u001B[0m\r\n",
      "\u001B[31;1minfo: installing component 'rustfmt'\u001B[0m\r\n",
      "\u001B[31;1minfo: checking for self-update\u001B[0m\r\n",
      "\r\n",
      "  stable-x86_64-pc-windows-msvc unchanged - rustc 1.83.0 (90b35a623 2024-11-26)\r\n",
      "   nightly-x86_64-pc-windows-msvc updated - rustc 1.85.0-nightly (9c707a8b7 2024-12-07) (from rustc 1.85.0-nightly (d49be02cf 2024-12-02))\r\n",
      "\r\n",
      "\u001B[31;1minfo: cleaning up downloads & tmp directories\u001B[0m\r\n"
     ]
    }
   ],
   "source": [
    "rustup update"
   ]
  },
  {
   "cell_type": "code",
   "execution_count": null,
   "metadata": {
    "dotnet_interactive": {
     "language": "pwsh"
    },
    "polyglot_notebook": {
     "kernelName": "pwsh"
    }
   },
   "outputs": [
    {
     "name": "stdout",
     "output_type": "stream",
     "text": [
      "\u001B[31;1m    Updating git repository `https://github.com/i574n/cargo-outdated.git`\u001B[0m\r\n",
      "\u001B[31;1m     Ignored package `cargo-outdated v0.15.0 (https://github.com/i574n/cargo-outdated.git#4b101263)` is already installed, use --force to override\u001B[0m\r\n"
     ]
    }
   ],
   "source": [
    "{ cargo install --git https://github.com/i574n/cargo-outdated.git --locked } | Invoke-Block -OnError Continue"
   ]
  },
  {
   "cell_type": "code",
   "execution_count": null,
   "metadata": {
    "dotnet_interactive": {
     "language": "pwsh"
    },
    "polyglot_notebook": {
     "kernelName": "pwsh"
    }
   },
   "outputs": [
    {
     "name": "stdout",
     "output_type": "stream",
     "text": [
      "\u001B[31;1m    Updating crates.io index\u001B[0m\r\n",
      "\u001B[31;1m  Installing sccache v0.8.2\u001B[0m\r\n",
      "\u001B[31;1m    Updating crates.io index\u001B[0m\r\n",
      "\u001B[31;1m     Locking 367 packages to latest compatible versions\u001B[0m\r\n",
      "\u001B[31;1m      Adding base64 v0.21.7 (available: v0.22.1)\u001B[0m\r\n",
      "\u001B[31;1m      Adding env_logger v0.10.2 (available: v0.11.5)\u001B[0m\r\n",
      "\u001B[31;1m      Adding fs-err v2.11.0 (available: v3.0.0)\u001B[0m\r\n",
      "\u001B[31;1m      Adding object v0.32.2 (available: v0.36.5)\u001B[0m\r\n",
      "\u001B[31;1m      Adding opendal v0.48.0 (available: v0.50.2)\u001B[0m\r\n",
      "\u001B[31;1m      Adding tokio-serde v0.8.0 (available: v0.9.0)\u001B[0m\r\n",
      "\u001B[31;1m      Adding tower v0.4.13 (available: v0.5.1)\u001B[0m\r\n",
      "\u001B[31;1m      Adding which v6.0.3 (available: v7.0.0)\u001B[0m\r\n",
      "\u001B[31;1m      Adding windows-sys v0.52.0 (available: v0.59.0)\u001B[0m\r\n",
      "\u001B[31;1m      Adding zip v0.6.6 (available: v2.2.1)\u001B[0m\r\n",
      "\u001B[31;1m Downloading crates ...\u001B[0m\r\n",
      "\u001B[31;1m  Downloaded thiserror-impl v2.0.5\u001B[0m\r\n",
      "\u001B[31;1m  Downloaded thiserror v2.0.5\u001B[0m\r\n",
      "\u001B[31;1m  Downloaded cc v1.2.3\u001B[0m\r\n",
      "\u001B[31;1m  Downloaded clap_lex v0.7.4\u001B[0m\r\n",
      "\u001B[31;1m  Downloaded clap v4.5.23\u001B[0m\r\n",
      "\u001B[31;1m  Downloaded clap_builder v4.5.23\u001B[0m\r\n",
      "\u001B[31;1m   Compiling proc-macro2 v1.0.92\u001B[0m\r\n",
      "\u001B[31;1m   Compiling unicode-ident v1.0.14\u001B[0m\r\n",
      "\u001B[31;1m   Compiling cfg-if v1.0.0\u001B[0m\r\n",
      "\u001B[31;1m   Compiling windows_x86_64_msvc v0.52.6\u001B[0m\r\n",
      "\u001B[31;1m   Compiling autocfg v1.4.0\u001B[0m\r\n",
      "\u001B[31;1m   Compiling scopeguard v1.2.0\u001B[0m\r\n",
      "\u001B[31;1m   Compiling smallvec v1.13.2\u001B[0m\r\n",
      "\u001B[31;1m   Compiling shlex v1.3.0\u001B[0m\r\n",
      "\u001B[31;1m   Compiling getrandom v0.2.15\u001B[0m\r\n",
      "\u001B[31;1m   Compiling jobserver v0.1.32\u001B[0m\r\n",
      "\u001B[31;1m   Compiling typenum v1.17.0\u001B[0m\r\n",
      "\u001B[31;1m   Compiling version_check v0.9.5\u001B[0m\r\n",
      "\u001B[31;1m   Compiling pin-project-lite v0.2.15\u001B[0m\r\n",
      "\u001B[31;1m   Compiling cc v1.2.3\u001B[0m\r\n",
      "\u001B[31;1m   Compiling memchr v2.7.4\u001B[0m\r\n",
      "\u001B[31;1m   Compiling windows-targets v0.52.6\u001B[0m\r\n",
      "\u001B[31;1m   Compiling windows-sys v0.59.0\u001B[0m\r\n",
      "\u001B[31;1m   Compiling windows-sys v0.52.0\u001B[0m\r\n",
      "\u001B[31;1m   Compiling lock_api v0.4.12\u001B[0m\r\n",
      "\u001B[31;1m   Compiling generic-array v0.14.7\u001B[0m\r\n",
      "\u001B[31;1m   Compiling bytes v1.9.0\u001B[0m\r\n",
      "\u001B[31;1m   Compiling quote v1.0.37\u001B[0m\r\n",
      "\u001B[31;1m   Compiling syn v2.0.90\u001B[0m\r\n",
      "\u001B[31;1m   Compiling futures-core v0.3.31\u001B[0m\r\n",
      "\u001B[31;1m   Compiling subtle v2.6.1\u001B[0m\r\n",
      "\u001B[31;1m   Compiling parking_lot_core v0.9.10\u001B[0m\r\n",
      "\u001B[31;1m   Compiling futures-sink v0.3.31\u001B[0m\r\n",
      "\u001B[31;1m   Compiling spin v0.9.8\u001B[0m\r\n",
      "\u001B[31;1m   Compiling itoa v1.0.14\u001B[0m\r\n",
      "\u001B[31;1m   Compiling slab v0.4.9\u001B[0m\r\n",
      "\u001B[31;1m   Compiling zeroize v1.8.1\u001B[0m\r\n",
      "\u001B[31;1m   Compiling stable_deref_trait v1.2.0\u001B[0m\r\n",
      "\u001B[31;1m   Compiling parking_lot v0.12.3\u001B[0m\r\n",
      "\u001B[31;1m   Compiling serde v1.0.215\u001B[0m\r\n",
      "\u001B[31;1m   Compiling const-oid v0.9.6\u001B[0m\r\n",
      "\u001B[31;1m   Compiling crypto-common v0.1.6\u001B[0m\r\n",
      "\u001B[31;1m   Compiling byteorder v1.5.0\u001B[0m\r\n",
      "\u001B[31;1m   Compiling block-buffer v0.10.4\u001B[0m\r\n",
      "\u001B[31;1m   Compiling once_cell v1.20.2\u001B[0m\r\n",
      "\u001B[31;1m   Compiling log v0.4.22\u001B[0m\r\n",
      "\u001B[31;1m   Compiling rustls-pki-types v1.10.0\u001B[0m\r\n",
      "\u001B[31;1m   Compiling digest v0.10.7\u001B[0m\r\n",
      "\u001B[31;1m   Compiling futures-channel v0.3.31\u001B[0m\r\n",
      "\u001B[31;1m   Compiling futures-io v0.3.31\u001B[0m\r\n",
      "\u001B[31;1m   Compiling libm v0.2.11\u001B[0m\r\n",
      "\u001B[31;1m   Compiling pin-utils v0.1.0\u001B[0m\r\n",
      "\u001B[31;1m   Compiling futures-task v0.3.31\u001B[0m\r\n",
      "\u001B[31;1m   Compiling block-padding v0.3.3\u001B[0m\r\n",
      "\u001B[31;1m   Compiling num-traits v0.2.19\u001B[0m\r\n",
      "\u001B[31;1m   Compiling rand_core v0.6.4\u001B[0m\r\n",
      "\u001B[31;1m   Compiling writeable v0.5.5\u001B[0m\r\n",
      "\u001B[31;1m   Compiling ring v0.17.8\u001B[0m\r\n",
      "\u001B[31;1m   Compiling untrusted v0.9.0\u001B[0m\r\n",
      "\u001B[31;1m   Compiling litemap v0.7.4\u001B[0m\r\n",
      "\u001B[31;1m   Compiling inout v0.1.3\u001B[0m\r\n",
      "\u001B[31;1m   Compiling hashbrown v0.15.2\u001B[0m\r\n",
      "\u001B[31;1m   Compiling equivalent v1.0.1\u001B[0m\r\n",
      "\u001B[31;1m   Compiling fnv v1.0.7\u001B[0m\r\n",
      "\u001B[31;1m   Compiling cipher v0.4.4\u001B[0m\r\n",
      "\u001B[31;1m   Compiling mio v1.0.3\u001B[0m\r\n",
      "\u001B[31;1m   Compiling socket2 v0.5.8\u001B[0m\r\n",
      "\u001B[31;1m   Compiling http v1.2.0\u001B[0m\r\n",
      "\u001B[31;1m   Compiling schannel v0.1.27\u001B[0m\r\n",
      "\u001B[31;1m   Compiling indexmap v2.7.0\u001B[0m\r\n",
      "\u001B[31;1m   Compiling synstructure v0.13.1\u001B[0m\r\n",
      "\u001B[31;1m   Compiling tracing-core v0.1.33\u001B[0m\r\n",
      "\u001B[31;1m   Compiling cpufeatures v0.2.16\u001B[0m\r\n",
      "\u001B[31;1m   Compiling icu_locid_transform_data v1.5.0\u001B[0m\r\n",
      "\u001B[31;1m   Compiling crunchy v0.2.2\u001B[0m\r\n",
      "\u001B[31;1m   Compiling semver v1.0.23\u001B[0m\r\n",
      "\u001B[31;1m   Compiling base64ct v1.6.0\u001B[0m\r\n",
      "\u001B[31;1m   Compiling httparse v1.9.5\u001B[0m\r\n",
      "\u001B[31;1m   Compiling icu_properties_data v1.5.0\u001B[0m\r\n",
      "\u001B[31;1m   Compiling tracing v0.1.41\u001B[0m\r\n",
      "\u001B[31;1m   Compiling tiny-keccak v2.0.2\u001B[0m\r\n",
      "\u001B[31;1m   Compiling num-integer v0.1.46\u001B[0m\r\n",
      "\u001B[31;1m   Compiling pem-rfc7468 v0.7.0\u001B[0m\r\n",
      "\u001B[31;1m   Compiling http-body v1.0.1\u001B[0m\r\n",
      "\u001B[31;1m   Compiling hmac v0.12.1\u001B[0m\r\n",
      "\u001B[31;1m   Compiling utf8_iter v1.0.4\u001B[0m\r\n",
      "\u001B[31;1m   Compiling atomic-waker v1.1.2\u001B[0m\r\n",
      "\u001B[31;1m   Compiling utf16_iter v1.0.5\u001B[0m\r\n",
      "\u001B[31;1m   Compiling icu_normalizer_data v1.5.0\u001B[0m\r\n",
      "\u001B[31;1m   Compiling write16 v1.0.0\u001B[0m\r\n",
      "\u001B[31;1m   Compiling try-lock v0.2.5\u001B[0m\r\n",
      "\u001B[31;1m   Compiling pbkdf2 v0.12.2\u001B[0m\r\n",
      "\u001B[31;1m   Compiling want v0.3.1\u001B[0m\r\n",
      "\u001B[31;1m   Compiling der v0.7.9\u001B[0m\r\n",
      "\u001B[31;1m   Compiling sha2 v0.10.8\u001B[0m\r\n",
      "\u001B[31;1m   Compiling salsa20 v0.10.2\u001B[0m\r\n",
      "\u001B[31;1m   Compiling ryu v1.0.18\u001B[0m\r\n",
      "\u001B[31;1m   Compiling native-tls v0.2.12\u001B[0m\r\n",
      "\u001B[31;1m   Compiling tower-service v0.3.3\u001B[0m\r\n",
      "\u001B[31;1m   Compiling rustls v0.23.19\u001B[0m\r\n",
      "\u001B[31;1m   Compiling httpdate v1.0.3\u001B[0m\r\n",
      "\u001B[31;1m   Compiling percent-encoding v2.3.1\u001B[0m\r\n",
      "\u001B[31;1m   Compiling thiserror v1.0.69\u001B[0m\r\n",
      "\u001B[31;1m   Compiling scrypt v0.11.0\u001B[0m\r\n",
      "\u001B[31;1m   Compiling form_urlencoded v1.2.1\u001B[0m\r\n",
      "\u001B[31;1m   Compiling const-random-macro v0.1.16\u001B[0m\r\n",
      "\u001B[31;1m   Compiling aes v0.8.4\u001B[0m\r\n",
      "\u001B[31;1m   Compiling cbc v0.1.2\u001B[0m\r\n",
      "\u001B[31;1m   Compiling num-conv v0.1.0\u001B[0m\r\n",
      "\u001B[31;1m   Compiling windows_x86_64_msvc v0.48.5\u001B[0m\r\n",
      "\u001B[31;1m   Compiling serde_json v1.0.133\u001B[0m\r\n",
      "\u001B[31;1m   Compiling powerfmt v0.2.0\u001B[0m\r\n",
      "\u001B[31;1m   Compiling utf8parse v0.2.2\u001B[0m\r\n",
      "\u001B[31;1m   Compiling time-core v0.1.2\u001B[0m\r\n",
      "\u001B[31;1m   Compiling pkg-config v0.3.31\u001B[0m\r\n",
      "\u001B[31;1m   Compiling time-macros v0.2.19\u001B[0m\r\n",
      "\u001B[31;1m   Compiling deranged v0.3.11\u001B[0m\r\n",
      "\u001B[31;1m   Compiling tokio-macros v2.4.0\u001B[0m\r\n",
      "\u001B[31;1m   Compiling zerofrom-derive v0.1.5\u001B[0m\r\n",
      "\u001B[31;1m   Compiling yoke-derive v0.7.5\u001B[0m\r\n",
      "\u001B[31;1m   Compiling serde_derive v1.0.215\u001B[0m\r\n",
      "\u001B[31;1m   Compiling zerovec-derive v0.10.3\u001B[0m\r\n",
      "\u001B[31;1m   Compiling tokio v1.42.0\u001B[0m\r\n",
      "\u001B[31;1m   Compiling displaydoc v0.2.5\u001B[0m\r\n",
      "\u001B[31;1m   Compiling futures-macro v0.3.31\u001B[0m\r\n",
      "\u001B[31;1m   Compiling zerocopy-derive v0.7.35\u001B[0m\r\n",
      "\u001B[31;1m   Compiling zerofrom v0.1.5\u001B[0m\r\n",
      "\u001B[31;1m   Compiling yoke v0.7.5\u001B[0m\r\n",
      "\u001B[31;1m   Compiling icu_provider_macros v1.5.0\u001B[0m\r\n",
      "\u001B[31;1m   Compiling rustls-webpki v0.102.8\u001B[0m\r\n",
      "\u001B[31;1m   Compiling zerovec v0.10.4\u001B[0m\r\n",
      "\u001B[31;1m   Compiling pin-project-internal v1.1.7\u001B[0m\r\n",
      "\u001B[31;1m   Compiling thiserror-impl v1.0.69\u001B[0m\r\n",
      "\u001B[31;1m   Compiling futures-util v0.3.31\u001B[0m\r\n",
      "\u001B[31;1m   Compiling zerocopy v0.7.35\u001B[0m\r\n",
      "\u001B[31;1m   Compiling tinystr v0.7.6\u001B[0m\r\n",
      "\u001B[31;1m   Compiling ppv-lite86 v0.2.20\u001B[0m\r\n",
      "\u001B[31;1m   Compiling icu_collections v1.5.0\u001B[0m\r\n",
      "\u001B[31;1m   Compiling icu_locid v1.5.0\u001B[0m\r\n",
      "\u001B[31;1m   Compiling pin-project v1.1.7\u001B[0m\r\n",
      "\u001B[31;1m   Compiling rand_chacha v0.3.1\u001B[0m\r\n",
      "\u001B[31;1m   Compiling spki v0.7.3\u001B[0m\r\n",
      "\u001B[31;1m   Compiling rand v0.8.5\u001B[0m\r\n",
      "\u001B[31;1m   Compiling icu_provider v1.5.0\u001B[0m\r\n",
      "\u001B[31;1m   Compiling pkcs5 v0.7.1\u001B[0m\r\n",
      "\u001B[31;1m   Compiling icu_locid_transform v1.5.0\u001B[0m\r\n",
      "\u001B[31;1m   Compiling tokio-util v0.7.13\u001B[0m\r\n",
      "\u001B[31;1m   Compiling icu_properties v1.5.1\u001B[0m\r\n",
      "\u001B[31;1m   Compiling h2 v0.4.7\u001B[0m\r\n",
      "\u001B[31;1m   Compiling zstd-sys v2.0.13+zstd.1.5.6\u001B[0m\r\n",
      "\u001B[31;1m   Compiling const-random v0.1.18\u001B[0m\r\n",
      "\u001B[31;1m   Compiling rustls-pemfile v2.2.0\u001B[0m\r\n",
      "\u001B[31;1m   Compiling windows-result v0.2.0\u001B[0m\r\n",
      "\u001B[31;1m   Compiling base64 v0.22.1\u001B[0m\r\n",
      "\u001B[31;1m   Compiling num-bigint-dig v0.8.4\u001B[0m\r\n",
      "\u001B[31;1m   Compiling rustls v0.22.4\u001B[0m\r\n",
      "\u001B[31;1m   Compiling windows-strings v0.1.0\u001B[0m\r\n",
      "\u001B[31;1m   Compiling tokio-native-tls v0.3.1\u001B[0m\r\n",
      "\u001B[31;1m   Compiling time v0.3.37\u001B[0m\r\n",
      "\u001B[31;1m   Compiling rustc_version v0.4.1\u001B[0m\r\n",
      "\u001B[31;1m   Compiling icu_normalizer v1.5.0\u001B[0m\r\n",
      "\u001B[31;1m   Compiling toml_datetime v0.6.8\u001B[0m\r\n",
      "\u001B[31;1m   Compiling serde_spanned v0.6.8\u001B[0m\r\n",
      "\u001B[31;1m   Compiling idna_adapter v1.2.0\u001B[0m\r\n",
      "\u001B[31;1m   Compiling idna v1.0.3\u001B[0m\r\n",
      "\u001B[31;1m   Compiling url v2.5.4\u001B[0m\r\n",
      "\u001B[31;1m   Compiling tokio-rustls v0.26.1\u001B[0m\r\n",
      "\u001B[31;1m   Compiling dlv-list v0.5.2\u001B[0m\r\n",
      "\u001B[31;1m   Compiling http-body-util v0.1.2\u001B[0m\r\n",
      "\u001B[31;1m   Compiling pkcs8 v0.10.2\u001B[0m\r\n",
      "\u001B[31;1m   Compiling hyper v1.5.1\u001B[0m\r\n",
      "\u001B[31;1m   Compiling async-trait v0.1.83\u001B[0m\r\n",
      "\u001B[31;1m   Compiling num-iter v0.1.45\u001B[0m\r\n",
      "\u001B[31;1m   Compiling num-bigint v0.4.6\u001B[0m\r\n",
      "\u001B[31;1m   Compiling rustls-native-certs v0.8.1\u001B[0m\r\n",
      "\u001B[31;1m   Compiling winapi-util v0.1.9\u001B[0m\r\n",
      "\u001B[31;1m   Compiling webpki-roots v0.26.7\u001B[0m\r\n",
      "\u001B[31;1m   Compiling lazy_static v1.5.0\u001B[0m\r\n",
      "\u001B[31;1m   Compiling hyper-util v0.1.10\u001B[0m\r\n",
      "\u001B[31;1m   Compiling crc32fast v1.4.2\u001B[0m\r\n",
      "\u001B[31;1m   Compiling rustc-demangle v0.1.24\u001B[0m\r\n",
      "\u001B[31;1m   Compiling adler2 v2.0.0\u001B[0m\r\n",
      "\u001B[31;1m   Compiling anyhow v1.0.94\u001B[0m\r\n",
      "\u001B[31;1m   Compiling winapi v0.3.9\u001B[0m\r\n",
      "\u001B[31;1m   Compiling anstyle v1.0.10\u001B[0m\r\n",
      "\u001B[31;1m   Compiling winnow v0.6.20\u001B[0m\r\n",
      "\u001B[31;1m   Compiling hashbrown v0.14.5\u001B[0m\r\n",
      "\u001B[31;1m   Compiling crc16 v0.4.0\u001B[0m\r\n",
      "\u001B[31;1m   Compiling ordered-multimap v0.7.3\u001B[0m\r\n",
      "\u001B[31;1m   Compiling hyper-tls v0.6.0\u001B[0m\r\n",
      "\u001B[31;1m   Compiling hyper-rustls v0.27.3\u001B[0m\r\n",
      "\u001B[31;1m   Compiling anstyle-wincon v3.0.6\u001B[0m\r\n",
      "\u001B[31;1m   Compiling simple_asn1 v0.6.2\u001B[0m\r\n",
      "\u001B[31;1m   Compiling backtrace v0.3.74\u001B[0m\r\n",
      "\u001B[31;1m   Compiling miniz_oxide v0.8.0\u001B[0m\r\n",
      "\u001B[31;1m   Compiling toml_edit v0.22.22\u001B[0m\r\n",
      "\u001B[31;1m   Compiling pkcs1 v0.7.5\u001B[0m\r\n",
      "\u001B[31;1m   Compiling windows-targets v0.48.5\u001B[0m\r\n",
      "\u001B[31;1m   Compiling crc32c v0.6.8\u001B[0m\r\n",
      "\u001B[31;1m   Compiling serde_urlencoded v0.7.1\u001B[0m\r\n",
      "\u001B[31;1m   Compiling windows-registry v0.2.0\u001B[0m\r\n",
      "\u001B[31;1m   Compiling pem v3.0.4\u001B[0m\r\n",
      "\u001B[31;1m   Compiling futures-executor v0.3.31\u001B[0m\r\n",
      "\u001B[31;1m   Compiling anstyle-parse v0.2.6\u001B[0m\r\n",
      "\u001B[31;1m   Compiling anstyle-query v1.1.2\u001B[0m\r\n",
      "\u001B[31;1m   Compiling home v0.5.9\u001B[0m\r\n",
      "\u001B[31;1m   Compiling signature v2.2.0\u001B[0m\r\n",
      "\u001B[31;1m   Compiling sync_wrapper v1.0.2\u001B[0m\r\n",
      "\u001B[31;1m   Compiling aho-corasick v1.1.3\u001B[0m\r\n",
      "\u001B[31;1m   Compiling encoding_rs v0.8.35\u001B[0m\r\n",
      "\u001B[31;1m   Compiling is_terminal_polyfill v1.70.1\u001B[0m\r\n",
      "\u001B[31;1m   Compiling colorchoice v1.0.3\u001B[0m\r\n",
      "\u001B[31;1m   Compiling base64 v0.21.7\u001B[0m\r\n",
      "\u001B[31;1m   Compiling ipnet v2.10.1\u001B[0m\r\n",
      "\u001B[31;1m   Compiling fastrand v2.2.0\u001B[0m\r\n",
      "\u001B[31;1m   Compiling trim-in-place v0.1.7\u001B[0m\r\n",
      "\u001B[31;1m   Compiling mime v0.3.17\u001B[0m\r\n",
      "\u001B[31;1m   Compiling regex-syntax v0.8.5\u001B[0m\r\n",
      "\u001B[31;1m   Compiling zstd-safe v7.2.1\u001B[0m\r\n",
      "\u001B[31;1m   Compiling static_assertions v1.1.0\u001B[0m\r\n",
      "\u001B[31;1m   Compiling reqwest v0.12.9\u001B[0m\r\n",
      "\u001B[31;1m   Compiling twox-hash v1.6.3\u001B[0m\r\n",
      "\u001B[31;1m   Compiling tokio-rustls v0.25.0\u001B[0m\r\n",
      "\u001B[31;1m   Compiling rust-ini v0.21.1\u001B[0m\r\n",
      "\u001B[31;1m   Compiling jsonwebtoken v9.3.0\u001B[0m\r\n",
      "\u001B[31;1m   Compiling regex-automata v0.4.9\u001B[0m\r\n",
      "\u001B[31;1m   Compiling anstream v0.6.18\u001B[0m\r\n",
      "\u001B[31;1m   Compiling toml v0.8.19\u001B[0m\r\n",
      "\u001B[31;1m   Compiling rsa v0.9.7\u001B[0m\r\n",
      "\u001B[31;1m   Compiling futures v0.3.31\u001B[0m\r\n",
      "\u001B[31;1m   Compiling windows-sys v0.48.0\u001B[0m\r\n",
      "\u001B[31;1m   Compiling flate2 v1.0.35\u001B[0m\r\n",
      "\u001B[31;1m   Compiling quick-xml v0.35.0\u001B[0m\r\n",
      "\u001B[31;1m   Compiling rustls-native-certs v0.7.3\u001B[0m\r\n",
      "\u001B[31;1m   Compiling combine v4.6.7\u001B[0m\r\n",
      "\u001B[31;1m   Compiling tokio-retry v0.3.0\u001B[0m\r\n",
      "\u001B[31;1m   Compiling derive_more v0.99.18\u001B[0m\r\n",
      "\u001B[31;1m   Compiling chrono v0.4.38\u001B[0m\r\n",
      "\u001B[31;1m   Compiling sha1 v0.10.6\u001B[0m\r\n",
      "\u001B[31;1m   Compiling terminal_size v0.4.1\u001B[0m\r\n",
      "\u001B[31;1m   Compiling blake3 v1.5.5\u001B[0m\r\n",
      "\u001B[31;1m   Compiling vte_generate_state_changes v0.1.2\u001B[0m\r\n",
      "\u001B[31;1m   Compiling fs-err v2.11.0\u001B[0m\r\n",
      "\u001B[31;1m   Compiling nanorand v0.7.0\u001B[0m\r\n",
      "\u001B[31;1m   Compiling clap_lex v0.7.4\u001B[0m\r\n",
      "\u001B[31;1m   Compiling heck v0.5.0\u001B[0m\r\n",
      "\u001B[31;1m   Compiling hex v0.4.3\u001B[0m\r\n",
      "\u001B[31;1m   Compiling num_cpus v1.16.0\u001B[0m\r\n",
      "\u001B[31;1m   Compiling sha1_smol v1.0.1\u001B[0m\r\n",
      "\u001B[31;1m   Compiling strsim v0.11.1\u001B[0m\r\n",
      "\u001B[31;1m   Compiling arc-swap v1.7.1\u001B[0m\r\n",
      "\u001B[31;1m   Compiling libc v0.2.167\u001B[0m\r\n",
      "\u001B[31;1m   Compiling option-ext v0.2.0\u001B[0m\r\n",
      "\u001B[31;1m   Compiling dirs-sys v0.4.1\u001B[0m\r\n",
      "\u001B[31;1m   Compiling ruzstd v0.5.0\u001B[0m\r\n",
      "\u001B[31;1m   Compiling clap_builder v4.5.23\u001B[0m\r\n",
      "\u001B[31;1m   Compiling reqsign v0.16.1\u001B[0m\r\n",
      "\u001B[31;1m   Compiling core_affinity v0.8.1\u001B[0m\r\n",
      "\u001B[31;1m   Compiling clap_derive v4.5.18\u001B[0m\r\n",
      "\u001B[31;1m   Compiling flume v0.10.14\u001B[0m\r\n",
      "\u001B[31;1m   Compiling vte v0.11.1\u001B[0m\r\n",
      "\u001B[31;1m   Compiling regex v1.11.1\u001B[0m\r\n",
      "\u001B[31;1m   Compiling backon v0.4.4\u001B[0m\r\n",
      "\u001B[31;1m   Compiling redis v0.25.4\u001B[0m\r\n",
      "\u001B[31;1m   Compiling same-file v1.0.6\u001B[0m\r\n",
      "\u001B[31;1m   Compiling termcolor v1.4.1\u001B[0m\r\n",
      "\u001B[31;1m   Compiling bb8 v0.8.6\u001B[0m\r\n",
      "\u001B[31;1m   Compiling quick-xml v0.36.2\u001B[0m\r\n",
      "\u001B[31;1m   Compiling uuid v1.11.0\u001B[0m\r\n",
      "\u001B[31;1m   Compiling filetime v0.2.25\u001B[0m\r\n",
      "\u001B[31;1m   Compiling is-terminal v0.4.13\u001B[0m\r\n",
      "\u001B[31;1m   Compiling md-5 v0.10.6\u001B[0m\r\n",
      "\u001B[31;1m   Compiling constant_time_eq v0.3.1\u001B[0m\r\n",
      "\u001B[31;1m   Compiling humantime v2.1.0\u001B[0m\r\n",
      "\u001B[31;1m   Compiling flagset v0.4.6\u001B[0m\r\n",
      "\u001B[31;1m   Compiling tower-layer v0.3.3\u001B[0m\r\n",
      "\u001B[31;1m   Compiling arrayref v0.3.9\u001B[0m\r\n",
      "\u001B[31;1m   Compiling either v1.13.0\u001B[0m\r\n",
      "\u001B[31;1m   Compiling arrayvec v0.7.6\u001B[0m\r\n",
      "\u001B[31;1m   Compiling winsafe v0.0.19\u001B[0m\r\n",
      "\u001B[31;1m   Compiling tower v0.4.13\u001B[0m\r\n",
      "\u001B[31;1m   Compiling env_logger v0.10.2\u001B[0m\r\n",
      "\u001B[31;1m   Compiling tar v0.4.43\u001B[0m\r\n",
      "\u001B[31;1m   Compiling clap v4.5.23\u001B[0m\r\n",
      "\u001B[31;1m   Compiling walkdir v2.5.0\u001B[0m\r\n",
      "\u001B[31;1m   Compiling zstd v0.13.2\u001B[0m\r\n",
      "\u001B[31;1m   Compiling strip-ansi-escapes v0.2.0\u001B[0m\r\n",
      "\u001B[31;1m   Compiling object v0.32.2\u001B[0m\r\n",
      "\u001B[31;1m   Compiling which v6.0.3\u001B[0m\r\n",
      "\u001B[31;1m   Compiling gzp v0.11.3\u001B[0m\r\n",
      "\u001B[31;1m   Compiling directories v5.0.1\u001B[0m\r\n",
      "\u001B[31;1m   Compiling opendal v0.48.0\u001B[0m\r\n",
      "\u001B[31;1m   Compiling tempfile v3.14.0\u001B[0m\r\n",
      "\u001B[31;1m   Compiling zip v0.6.6\u001B[0m\r\n",
      "\u001B[31;1m   Compiling bincode v1.3.3\u001B[0m\r\n",
      "\u001B[31;1m   Compiling retry v2.0.0\u001B[0m\r\n",
      "\u001B[31;1m   Compiling tokio-serde v0.8.0\u001B[0m\r\n",
      "\u001B[31;1m   Compiling linked-hash-map v0.5.6\u001B[0m\r\n",
      "\u001B[31;1m   Compiling memmap2 v0.9.5\u001B[0m\r\n",
      "\u001B[31;1m   Compiling number_prefix v0.4.0\u001B[0m\r\n",
      "\u001B[31;1m   Compiling ar v0.9.0\u001B[0m\r\n",
      "\u001B[31;1m   Compiling sccache v0.8.2\u001B[0m\r\n",
      "\u001B[31;1m    Finished `release` profile [optimized] target(s) in 11m 29s\u001B[0m\r\n",
      "\u001B[31;1m   Replacing C:\\Users\\i574n\\scoop\\persist\\rustup\\.cargo\\bin\\sccache.exe\u001B[0m\r\n",
      "\u001B[31;1m    Replaced package `sccache v0.8.2` with `sccache v0.8.2` (executable `sccache.exe`)\u001B[0m\r\n"
     ]
    }
   ],
   "source": [
    "{ cargo install sccache } | Invoke-Block -OnError Continue"
   ]
  },
  {
   "cell_type": "code",
   "execution_count": null,
   "metadata": {
    "dotnet_interactive": {
     "language": "pwsh"
    },
    "polyglot_notebook": {
     "kernelName": "pwsh"
    }
   },
   "outputs": [
    {
     "name": "stdout",
     "output_type": "stream",
     "text": [
      "\u001B[31;1m    Updating crates.io index\u001B[0m\r\n",
      "\u001B[31;1m     Ignored package `wasm-pack v0.13.1` is already installed, use --force to override\u001B[0m\r\n"
     ]
    }
   ],
   "source": [
    "{ cargo install wasm-pack --locked } | Invoke-Block -OnError Continue"
   ]
  },
  {
   "cell_type": "code",
   "execution_count": null,
   "metadata": {
    "dotnet_interactive": {
     "language": "pwsh"
    },
    "polyglot_notebook": {
     "kernelName": "pwsh"
    }
   },
   "outputs": [
    {
     "name": "stdout",
     "output_type": "stream",
     "text": [
      "\u001B[31;1m     Ignored package `trunk v0.20.3` is already installed, use --force to override\u001B[0m\r\n"
     ]
    }
   ],
   "source": [
    "{ cargo install trunk --version 0.20.3 } | Invoke-Block -OnError Continue"
   ]
  },
  {
   "cell_type": "code",
   "execution_count": null,
   "metadata": {
    "dotnet_interactive": {
     "language": "pwsh"
    },
    "polyglot_notebook": {
     "kernelName": "pwsh"
    }
   },
   "outputs": [
    {
     "name": "stdout",
     "output_type": "stream",
     "text": [
      "\u001B[31;1m    Updating git repository `https://github.com/bram209/leptosfmt.git`\u001B[0m\r\n",
      "\u001B[31;1m     Ignored package `leptosfmt v0.1.32 (https://github.com/bram209/leptosfmt.git#dd2d8e3b)` is already installed, use --force to override\u001B[0m\r\n"
     ]
    }
   ],
   "source": [
    "{ cargo install --git https://github.com/bram209/leptosfmt.git --locked } | Invoke-Block -OnError Continue"
   ]
  },
  {
   "cell_type": "code",
   "execution_count": null,
   "metadata": {
    "dotnet_interactive": {
     "language": "pwsh"
    },
    "polyglot_notebook": {
     "kernelName": "pwsh"
    }
   },
   "outputs": [
    {
     "name": "stdout",
     "output_type": "stream",
     "text": [
      "\u001B[31;1m Saved lockfile\u001B[0m\r\n"
     ]
    }
   ],
   "source": [
    "if (!(Search-Command \"nix\")) {\n",
    "    { ~/.bun/bin/bunx --bun playwright@1.44.0 install } | Invoke-Block\n",
    "}"
   ]
  },
  {
   "cell_type": "code",
   "execution_count": null,
   "metadata": {
    "dotnet_interactive": {
     "language": "pwsh"
    },
    "polyglot_notebook": {
     "kernelName": "pwsh"
    }
   },
   "outputs": [],
   "source": [
    "[Net.ServicePointManager]::SecurityProtocol = [Net.SecurityProtocolType]::Tls12"
   ]
  },
  {
   "cell_type": "code",
   "execution_count": null,
   "metadata": {
    "dotnet_interactive": {
     "language": "pwsh"
    },
    "polyglot_notebook": {
     "kernelName": "pwsh"
    }
   },
   "outputs": [
    {
     "name": "stdout",
     "output_type": "stream",
     "text": [
      "\u001B[93mWARNING: The version '1.4.8.1' of module 'PackageManagement' is currently in use. Retry the operation after closing the applications.\u001B[0m\r\n"
     ]
    }
   ],
   "source": [
    "{ Install-Module -Name PowerShellGet -Force -AllowClobber -Scope CurrentUser } | Invoke-Block -OnError Continue"
   ]
  },
  {
   "cell_type": "code",
   "execution_count": null,
   "metadata": {
    "dotnet_interactive": {
     "language": "pwsh"
    },
    "polyglot_notebook": {
     "kernelName": "pwsh"
    }
   },
   "outputs": [
    {
     "name": "stdout",
     "output_type": "stream",
     "text": [
      "\n",
      "# Invoke-Block / $retry: 1/1 / $Location:  / Get-Location: C:\\home\\git\\polyglot\\scripts / $OnError: Continue / $exitcode: 0 / $EnvVars: {\r\n",
      "  \"PATH\": \"C:\\\\Users\\\\i574n\\\\scoop\\\\apps\\\\pwsh\\\\current;C:\\\\Users\\\\i574n\\\\scoop\\\\apps\\\\vscode-insiders\\\\current\\\\bin;C:\\\\Users\\\\i574n\\\\scoop\\\\apps\\\\python312\\\\current\\\\Scripts;C:\\\\Users\\\\i574n\\\\scoop\\\\apps\\\\python312\\\\current\\\\.;C:\\\\Program Files\\\\NVIDIA\\\\CUDNN\\\\v9.1\\\\bin;C:\\\\ProgramData\\\\scoop\\\\shims;C:\\\\WINDOWS\\\\system32;C:\\\\WINDOWS;C:\\\\WINDOWS\\\\System32\\\\Wbem;C:\\\\WINDOWS\\\\System32\\\\WindowsPowerShell\\\\v1.0\\\\;C:\\\\WINDOWS\\\\System32\\\\OpenSSH\\\\;C:\\\\ProgramData\\\\chocolatey\\\\bin;C:\\\\Program Files\\\\dotnet\\\\;C:\\\\WINDOWS\\\\system32;C:\\\\WINDOWS;C:\\\\WINDOWS\\\\System32\\\\Wbem;C:\\\\WINDOWS\\\\System32\\\\WindowsPowerShell\\\\v1.0\\\\;C:\\\\WINDOWS\\\\System32\\\\OpenSSH\\\\;C:\\\\Program Files\\\\Intel\\\\WiFi\\\\bin\\\\;C:\\\\Program Files\\\\Common Files\\\\Intel\\\\WirelessCommon\\\\;C:\\\\Program Files\\\\Perforce;C:\\\\Program Files\\\\Wasmtime\\\\bin;C:\\\\Program Files\\\\Perforce\\\\;C:\\\\Users\\\\i574n\\\\scoop\\\\apps\\\\dotnet-sdk\\\\current\\\\.;C:\\\\Users\\\\i574n\\\\scoop\\\\apps\\\\perl\\\\current\\\\perl\\\\site\\\\bin;C:\\\\Users\\\\i574n\\\\scoop\\\\apps\\\\perl\\\\current\\\\perl\\\\bin;C:\\\\Users\\\\i574n\\\\scoop\\\\apps\\\\elixir\\\\current\\\\bin;C:\\\\Users\\\\i574n\\\\scoop\\\\apps\\\\rustup\\\\current\\\\.cargo\\\\bin;C:\\\\Users\\\\i574n\\\\scoop\\\\apps\\\\latex\\\\current\\\\texmfs\\\\install\\\\miktex\\\\bin\\\\x64;C:\\\\Users\\\\i574n\\\\scoop\\\\apps\\\\dotnet-sdk-preview\\\\current;C:\\\\Users\\\\i574n\\\\scoop\\\\apps\\\\dotnet-sdk\\\\current;C:\\\\Users\\\\i574n\\\\scoop\\\\apps\\\\gsudo\\\\current;C:\\\\Users\\\\i574n\\\\scoop\\\\apps\\\\python\\\\current;C:\\\\Users\\\\i574n\\\\scoop\\\\apps\\\\nircmd\\\\current;C:\\\\Users\\\\i574n\\\\AppData\\\\Local\\\\Microsoft\\\\WindowsApps;C:\\\\Users\\\\i574n/scoop/buckets/mold/home/windows/path;C:\\\\Users\\\\i574n/scoop/persist/rustup/.cargo/bin;C:\\\\Users\\\\i574n/scoop/apps/nvm/current/nodejs/nodejs;C:\\\\Users\\\\i574n/scoop/apps/cygwin/current/root/bin;C:\\\\Users\\\\i574n\\\\AppData\\\\Local\\\\Programs\\\\Microsoft VS Code\\\\bin;C:\\\\Users\\\\i574n\\\\AppData\\\\Local\\\\Microsoft\\\\WindowsApps;C:\\\\Users\\\\i574n\\\\.bun\\\\bin;C:\\\\Users\\\\i574n\\\\.dotnet\\\\tools;C:\\\\Users\\\\i574n\\\\scoop\\\\shims;C:\\\\Users\\\\i574n\\\\.fly\\\\bin;C:\\\\Program Files\\\\Wasmtime\\\\bin;C:\\\\Users\\\\i574n\\\\.dotnet\\\\tools;C:\\\\Users\\\\i574n/.cargo/bin;C:\\\\Users\\\\i574n/.bun/bin;C:\\\\Users\\\\i574n/.cargo/bin;C:\\\\Users\\\\i574n/.bun/bin;C:\\\\Users\\\\i574n/.cargo/bin;C:\\\\Users\\\\i574n/.bun/bin\"\r\n",
      "} / $Error: 'Cannot find a variable with the name 'PackageManagementProvider'. Cannot find a variable with the name 'SourceLocation'.' / $ScriptBlock:\n",
      "'Set-PSRepository -Name PSGallery -InstallationPolicy Trusted'\n",
      "\r\n"
     ]
    }
   ],
   "source": [
    "{ Set-PSRepository -Name PSGallery -InstallationPolicy Trusted } | Invoke-Block -OnError Continue"
   ]
  },
  {
   "cell_type": "code",
   "execution_count": null,
   "metadata": {
    "dotnet_interactive": {
     "language": "pwsh"
    },
    "polyglot_notebook": {
     "kernelName": "pwsh"
    }
   },
   "outputs": [
    {
     "name": "stdout",
     "output_type": "stream",
     "text": [
      "\u001B[31;1mbun install v1.1.7 (b0b7db5c)\u001B[0m\r\n",
      "\r\n",
      "Checked 4 installs across 5 packages (no changes) [15.00ms]\r\n"
     ]
    }
   ],
   "source": [
    "{ ~/.bun/bin/bun install --cwd .. --frozen-lockfile } | Invoke-Block"
   ]
  },
  {
   "cell_type": "code",
   "execution_count": null,
   "metadata": {
    "dotnet_interactive": {
     "language": "pwsh"
    },
    "polyglot_notebook": {
     "kernelName": "pwsh"
    }
   },
   "outputs": [
    {
     "name": "stdout",
     "output_type": "stream",
     "text": [
      "\u001B[31;1mfatal: destination path 'The-Spiral-Language' already exists and is not an empty directory.\u001B[0m\r\n",
      "Already up to date.\r\n",
      "  Determining projects to restore...\r\n",
      "  All projects are up-to-date for restore.\r\n",
      "  The Spiral Language 2 -> C:\\home\\git\\polyglot\\deps\\The-Spiral-Language\\The Spiral Language 2\\artifacts\\bin\\The Spiral Language 2\\release\\Spiral.dll\r\n",
      "\r\n",
      "Build succeeded.\r\n",
      "    0 Warning(s)\r\n",
      "    0 Error(s)\r\n",
      "\r\n",
      "Time Elapsed 00:00:39.42\r\n"
     ]
    }
   ],
   "source": [
    "{ . \"$ScriptDir/dep_spiral.ps1\" } | Invoke-Block"
   ]
  },
  {
   "cell_type": "code",
   "execution_count": null,
   "metadata": {
    "dotnet_interactive": {
     "language": "pwsh"
    },
    "polyglot_notebook": {
     "kernelName": "pwsh"
    }
   },
   "outputs": [
    {
     "name": "stdout",
     "output_type": "stream",
     "text": [
      "path: ../deps/The-Spiral-Language/The Spiral Language 2/artifacts/bin/The Spiral Language 2/release/\r\n",
      "\u001B[31;1mbun install v1.1.7 (b0b7db5c)\u001B[0m\r\n",
      "\r\n",
      "Checked 234 installs across 253 packages (no changes) [234.00ms]\r\n",
      "Executing prepublish script 'npm run vscode:prepublish'...\r\n",
      "\r\n",
      "> spiral-lang-vscode-i574n@2.15.14 vscode:prepublish\r\n",
      "> npm run esbuild-base -- --minify\r\n",
      "\r\n",
      "\r\n",
      "> spiral-lang-vscode-i574n@2.15.14 esbuild-base\r\n",
      "> esbuild ./src/index.ts --bundle --outfile=out/index.js --external:vscode --format=cjs --platform=node --minify\r\n",
      "\r\n",
      "\u001B[31;1m\u001B[0m\r\n",
      "\u001B[31;1m  out\\index.js  644.9kb\u001B[0m\r\n",
      "\u001B[31;1m\u001B[0m\r\n",
      "\u001B[31;1m⚡ Done in 110ms\u001B[0m\r\n",
      " INFO  Files included in the VSIX:\r\n",
      "spiral-lang-vscode-i574n-2.15.14.vsix\r\n",
      "├─ [Content_Types].xml \r\n",
      "├─ extension.vsixmanifest \r\n",
      "└─ extension/\r\n",
      "   ├─ LICENSE.txt [16.7 KB]\r\n",
      "   ├─ language-configuration.json [0.51 KB]\r\n",
      "   ├─ package.json [4.88 KB]\r\n",
      "   ├─ compiler/ (353 files) [15.46 MB]\r\n",
      "   ├─ core/ (22 files) [53.06 KB]\r\n",
      "   └─ out/ (2 files) [644.91 KB]\r\n",
      "\r\n",
      "=> Run vsce ls --tree to see all included files.\r\n",
      "\r\n",
      " DONE  Packaged: C:\\home\\git\\polyglot\\deps\\The-Spiral-Language\\VS Code Plugin\\spiral-lang-vscode-i574n-2.15.14.vsix (382 files, 5.44 MB)\r\n",
      "Skipping copying extension to C:\\Users\\i574n/.vscode/extensions\r\n",
      "Skipping copying extension to C:\\Users\\i574n/scoop/persist/vscode/data/extensions\r\n",
      "Copying extension to C:\\Users\\i574n\\scoop\\persist\\vscode-insiders\\data\\extensions\\i574n.spiral-lang-vscode-i574n-2.15.12\r\n"
     ]
    }
   ],
   "source": [
    "{ . \"$ScriptDir/dep_spiral_extension.ps1\" } | Invoke-Block"
   ]
  },
  {
   "cell_type": "code",
   "execution_count": null,
   "metadata": {
    "dotnet_interactive": {
     "language": "pwsh"
    },
    "polyglot_notebook": {
     "kernelName": "pwsh"
    }
   },
   "outputs": [
    {
     "name": "stdout",
     "output_type": "stream",
     "text": [
      "\u001B[31;1mfatal: destination path 'Fable' already exists and is not an empty directory.\u001B[0m\r\n",
      "Already up to date.\r\n",
      "Tool path: C:\\Users\\i574n\\.nuget\\packages\\fable\\4.24.0\\tools\\net6.0\\any\r\n",
      "  Determining projects to restore...\r\n",
      "  All projects are up-to-date for restore.\r\n",
      "  Fable.AST -> C:\\home\\git\\polyglot\\deps\\Fable\\src\\Fable.AST\\bin\\Release\\netstandard2.0\\Fable.AST.dll\r\n",
      "  Rust.AST -> C:\\home\\git\\polyglot\\deps\\Fable\\src\\Fable.Transforms\\Rust\\AST\\bin\\Release\\netstandard2.0\\Rust.AST.dll\r\n",
      "C:\\Program Files\\dotnet\\sdk\\9.0.101\\Microsoft.Common.CurrentVersion.targets(2413,5): warning MSB3277: Found conflicts between different versions of \"System.Memory\" that could not be resolved. [C:\\home\\git\\polyglot\\deps\\Fable\\src\\Fable.Transforms\\Fable.Transforms.fsproj]\r\n",
      "C:\\Program Files\\dotnet\\sdk\\9.0.101\\Microsoft.Common.CurrentVersion.targets(2413,5): warning MSB3277: There was a conflict between \"System.Memory, Version=4.0.1.1, Culture=neutral, PublicKeyToken=cc7b13ffcd2ddd51\" and \"System.Memory, Version=4.0.1.2, Culture=neutral, PublicKeyToken=cc7b13ffcd2ddd51\". [C:\\home\\git\\polyglot\\deps\\Fable\\src\\Fable.Transforms\\Fable.Transforms.fsproj]\r\n",
      "C:\\Program Files\\dotnet\\sdk\\9.0.101\\Microsoft.Common.CurrentVersion.targets(2413,5): warning MSB3277:     \"System.Memory, Version=4.0.1.1, Culture=neutral, PublicKeyToken=cc7b13ffcd2ddd51\" was chosen because it was primary and \"System.Memory, Version=4.0.1.2, Culture=neutral, PublicKeyToken=cc7b13ffcd2ddd51\" was not. [C:\\home\\git\\polyglot\\deps\\Fable\\src\\Fable.Transforms\\Fable.Transforms.fsproj]\r\n",
      "C:\\Program Files\\dotnet\\sdk\\9.0.101\\Microsoft.Common.CurrentVersion.targets(2413,5): warning MSB3277:     References which depend on \"System.Memory, Version=4.0.1.1, Culture=neutral, PublicKeyToken=cc7b13ffcd2ddd51\" [C:\\Users\\i574n\\.nuget\\packages\\system.memory\\4.5.4\\lib\\netstandard2.0\\System.Memory.dll]. [C:\\home\\git\\polyglot\\deps\\Fable\\src\\Fable.Transforms\\Fable.Transforms.fsproj]\r\n",
      "C:\\Program Files\\dotnet\\sdk\\9.0.101\\Microsoft.Common.CurrentVersion.targets(2413,5): warning MSB3277:         C:\\Users\\i574n\\.nuget\\packages\\system.memory\\4.5.4\\lib\\netstandard2.0\\System.Memory.dll [C:\\home\\git\\polyglot\\deps\\Fable\\src\\Fable.Transforms\\Fable.Transforms.fsproj]\r\n",
      "C:\\Program Files\\dotnet\\sdk\\9.0.101\\Microsoft.Common.CurrentVersion.targets(2413,5): warning MSB3277:           Project file item includes which caused reference \"C:\\Users\\i574n\\.nuget\\packages\\system.memory\\4.5.4\\lib\\netstandard2.0\\System.Memory.dll\". [C:\\home\\git\\polyglot\\deps\\Fable\\src\\Fable.Transforms\\Fable.Transforms.fsproj]\r\n",
      "C:\\Program Files\\dotnet\\sdk\\9.0.101\\Microsoft.Common.CurrentVersion.targets(2413,5): warning MSB3277:             C:\\Users\\i574n\\.nuget\\packages\\system.memory\\4.5.4\\lib\\netstandard2.0\\System.Memory.dll [C:\\home\\git\\polyglot\\deps\\Fable\\src\\Fable.Transforms\\Fable.Transforms.fsproj]\r\n",
      "C:\\Program Files\\dotnet\\sdk\\9.0.101\\Microsoft.Common.CurrentVersion.targets(2413,5): warning MSB3277:     References which depend on or have been unified to \"System.Memory, Version=4.0.1.2, Culture=neutral, PublicKeyToken=cc7b13ffcd2ddd51\" []. [C:\\home\\git\\polyglot\\deps\\Fable\\src\\Fable.Transforms\\Fable.Transforms.fsproj]\r\n",
      "C:\\Program Files\\dotnet\\sdk\\9.0.101\\Microsoft.Common.CurrentVersion.targets(2413,5): warning MSB3277:         C:\\home\\git\\polyglot\\deps\\Fable\\lib\\fcs\\FSharp.Compiler.Service.dll [C:\\home\\git\\polyglot\\deps\\Fable\\src\\Fable.Transforms\\Fable.Transforms.fsproj]\r\n",
      "C:\\Program Files\\dotnet\\sdk\\9.0.101\\Microsoft.Common.CurrentVersion.targets(2413,5): warning MSB3277:           Project file item includes which caused reference \"C:\\home\\git\\polyglot\\deps\\Fable\\lib\\fcs\\FSharp.Compiler.Service.dll\". [C:\\home\\git\\polyglot\\deps\\Fable\\src\\Fable.Transforms\\Fable.Transforms.fsproj]\r\n",
      "C:\\Program Files\\dotnet\\sdk\\9.0.101\\Microsoft.Common.CurrentVersion.targets(2413,5): warning MSB3277:             ../../lib/fcs/FSharp.Compiler.Service.dll [C:\\home\\git\\polyglot\\deps\\Fable\\src\\Fable.Transforms\\Fable.Transforms.fsproj]\r\n",
      "  Fable.Transforms -> C:\\home\\git\\polyglot\\deps\\Fable\\src\\Fable.Transforms\\bin\\Release\\netstandard2.0\\Fable.Transforms.dll\r\n",
      "  Fable.Compiler -> C:\\home\\git\\polyglot\\deps\\Fable\\src\\Fable.Compiler\\bin\\Release\\net9.0\\Fable.Compiler.dll\r\n",
      "  Fable.Cli -> C:\\home\\git\\polyglot\\deps\\Fable\\src\\Fable.Cli\\bin\\Release\\net9.0\\fable.dll\r\n",
      "\r\n",
      "Build succeeded.\r\n",
      "\r\n",
      "C:\\Program Files\\dotnet\\sdk\\9.0.101\\Microsoft.Common.CurrentVersion.targets(2413,5): warning MSB3277: Found conflicts between different versions of \"System.Memory\" that could not be resolved. [C:\\home\\git\\polyglot\\deps\\Fable\\src\\Fable.Transforms\\Fable.Transforms.fsproj]\r\n",
      "C:\\Program Files\\dotnet\\sdk\\9.0.101\\Microsoft.Common.CurrentVersion.targets(2413,5): warning MSB3277: There was a conflict between \"System.Memory, Version=4.0.1.1, Culture=neutral, PublicKeyToken=cc7b13ffcd2ddd51\" and \"System.Memory, Version=4.0.1.2, Culture=neutral, PublicKeyToken=cc7b13ffcd2ddd51\". [C:\\home\\git\\polyglot\\deps\\Fable\\src\\Fable.Transforms\\Fable.Transforms.fsproj]\r\n",
      "C:\\Program Files\\dotnet\\sdk\\9.0.101\\Microsoft.Common.CurrentVersion.targets(2413,5): warning MSB3277:     \"System.Memory, Version=4.0.1.1, Culture=neutral, PublicKeyToken=cc7b13ffcd2ddd51\" was chosen because it was primary and \"System.Memory, Version=4.0.1.2, Culture=neutral, PublicKeyToken=cc7b13ffcd2ddd51\" was not. [C:\\home\\git\\polyglot\\deps\\Fable\\src\\Fable.Transforms\\Fable.Transforms.fsproj]\r\n",
      "C:\\Program Files\\dotnet\\sdk\\9.0.101\\Microsoft.Common.CurrentVersion.targets(2413,5): warning MSB3277:     References which depend on \"System.Memory, Version=4.0.1.1, Culture=neutral, PublicKeyToken=cc7b13ffcd2ddd51\" [C:\\Users\\i574n\\.nuget\\packages\\system.memory\\4.5.4\\lib\\netstandard2.0\\System.Memory.dll]. [C:\\home\\git\\polyglot\\deps\\Fable\\src\\Fable.Transforms\\Fable.Transforms.fsproj]\r\n",
      "C:\\Program Files\\dotnet\\sdk\\9.0.101\\Microsoft.Common.CurrentVersion.targets(2413,5): warning MSB3277:         C:\\Users\\i574n\\.nuget\\packages\\system.memory\\4.5.4\\lib\\netstandard2.0\\System.Memory.dll [C:\\home\\git\\polyglot\\deps\\Fable\\src\\Fable.Transforms\\Fable.Transforms.fsproj]\r\n",
      "C:\\Program Files\\dotnet\\sdk\\9.0.101\\Microsoft.Common.CurrentVersion.targets(2413,5): warning MSB3277:           Project file item includes which caused reference \"C:\\Users\\i574n\\.nuget\\packages\\system.memory\\4.5.4\\lib\\netstandard2.0\\System.Memory.dll\". [C:\\home\\git\\polyglot\\deps\\Fable\\src\\Fable.Transforms\\Fable.Transforms.fsproj]\r\n",
      "C:\\Program Files\\dotnet\\sdk\\9.0.101\\Microsoft.Common.CurrentVersion.targets(2413,5): warning MSB3277:             C:\\Users\\i574n\\.nuget\\packages\\system.memory\\4.5.4\\lib\\netstandard2.0\\System.Memory.dll [C:\\home\\git\\polyglot\\deps\\Fable\\src\\Fable.Transforms\\Fable.Transforms.fsproj]\r\n",
      "C:\\Program Files\\dotnet\\sdk\\9.0.101\\Microsoft.Common.CurrentVersion.targets(2413,5): warning MSB3277:     References which depend on or have been unified to \"System.Memory, Version=4.0.1.2, Culture=neutral, PublicKeyToken=cc7b13ffcd2ddd51\" []. [C:\\home\\git\\polyglot\\deps\\Fable\\src\\Fable.Transforms\\Fable.Transforms.fsproj]\r\n",
      "C:\\Program Files\\dotnet\\sdk\\9.0.101\\Microsoft.Common.CurrentVersion.targets(2413,5): warning MSB3277:         C:\\home\\git\\polyglot\\deps\\Fable\\lib\\fcs\\FSharp.Compiler.Service.dll [C:\\home\\git\\polyglot\\deps\\Fable\\src\\Fable.Transforms\\Fable.Transforms.fsproj]\r\n",
      "C:\\Program Files\\dotnet\\sdk\\9.0.101\\Microsoft.Common.CurrentVersion.targets(2413,5): warning MSB3277:           Project file item includes which caused reference \"C:\\home\\git\\polyglot\\deps\\Fable\\lib\\fcs\\FSharp.Compiler.Service.dll\". [C:\\home\\git\\polyglot\\deps\\Fable\\src\\Fable.Transforms\\Fable.Transforms.fsproj]\r\n",
      "C:\\Program Files\\dotnet\\sdk\\9.0.101\\Microsoft.Common.CurrentVersion.targets(2413,5): warning MSB3277:             ../../lib/fcs/FSharp.Compiler.Service.dll [C:\\home\\git\\polyglot\\deps\\Fable\\src\\Fable.Transforms\\Fable.Transforms.fsproj]\r\n",
      "    1 Warning(s)\r\n",
      "    0 Error(s)\r\n",
      "\r\n",
      "Time Elapsed 00:00:03.62\r\n",
      "fable.dll path: C:\\home\\git\\polyglot\\deps\\Fable\\src\\Fable.Cli\\bin\\Release\\net9.0\\fable.dll\r\n",
      "Lib path: C:\\Users\\i574n\\.nuget\\packages\\fable.core\\4.3.0\\lib\\netstandard2.0\r\n",
      "  Determining projects to restore...\r\n",
      "  All projects are up-to-date for restore.\r\n",
      "  Fable.Core -> C:\\home\\git\\polyglot\\deps\\Fable\\src\\Fable.Core\\bin\\Release\\netstandard2.0\\Fable.Core.dll\r\n",
      "\r\n",
      "Build succeeded.\r\n",
      "    0 Warning(s)\r\n",
      "    0 Error(s)\r\n",
      "\r\n",
      "Time Elapsed 00:00:01.11\r\n"
     ]
    }
   ],
   "source": [
    "{ . \"$ScriptDir/dep_fable.ps1\" } | Invoke-Block"
   ]
  },
  {
   "cell_type": "code",
   "execution_count": null,
   "metadata": {
    "dotnet_interactive": {
     "language": "pwsh"
    },
    "polyglot_notebook": {
     "kernelName": "pwsh"
    }
   },
   "outputs": [
    {
     "name": "stdout",
     "output_type": "stream",
     "text": [
      "\u001B[31;1mfatal: destination path 'hyperui' already exists and is not an empty directory.\u001B[0m\r\n",
      "Already up to date.\r\n",
      "\u001B[31;1mbun install v1.1.7 (b0b7db5c)\u001B[0m\r\n",
      "\r\n",
      "Checked 708 installs across 635 packages (no changes) [624.00ms]\r\n",
      "\u001B[31;1m$ next build\u001B[0m\r\n",
      "  ▲ Next.js 14.2.3\r\n",
      "\r\n",
      "   Creating an optimized production build ...\r\n",
      " ✓ Compiled successfully\r\n",
      "   Linting and checking validity of types ...\r\n",
      "\r\n",
      "./src/components/Announcement.jsx\r\n",
      "35:6  Warning: React Hook useEffect has a missing dependency: 'promotionProducts'. Either include it or remove the dependency array.  react-hooks/exhaustive-deps\r\n",
      "\r\n",
      "info  - Need to disable some ESLint rules? Learn more here: https://nextjs.org/docs/basic-features/eslint#disabling-rules\r\n",
      "   Collecting page data ...\r\n",
      "   Generating static pages (0/11) ...\r\n",
      "   Generating static pages (1/11) \r\n",
      "   Generating static pages (2/11) \r\n",
      "   Generating static pages (5/11) \r\n",
      "   Generating static pages (8/11) \r\n",
      " ✓ Generating static pages (11/11)\r\n",
      "   Finalizing page optimization ...\r\n",
      "   Collecting build traces ...\r\n",
      "\r\n",
      "Route (app)                                Size     First Load JS\r\n",
      "┌ ○ /                                      178 B            94 kB\r\n",
      "├ ○ /_not-found                            140 B          87.2 kB\r\n",
      "├ ● /[components]/[category]               178 B            94 kB\r\n",
      "├ ● /[components]/[category]/[collection]  4.08 kB         102 kB\r\n",
      "├ ● /about/[slug]                          3.2 kB         90.3 kB\r\n",
      "├ ○ /api/products                          0 B                0 B\r\n",
      "├ ○ /api/search                            0 B                0 B\r\n",
      "├ ○ /blog                                  177 B            94 kB\r\n",
      "├ ● /blog/[slug]                           3.43 kB         101 kB\r\n",
      "├ ○ /robots.txt                            0 B                0 B\r\n",
      "├ ○ /shop                                  1.27 kB        88.3 kB\r\n",
      "└ ○ /sitemap.xml                           0 B                0 B\r\n",
      "+ First Load JS shared by all              87.1 kB\r\n",
      "  ├ chunks/23-560b6f74da37f254.js          31.5 kB\r\n",
      "  ├ chunks/fd9d1056-50bd1f2db165ce37.js    53.7 kB\r\n",
      "  └ other shared chunks (total)            1.94 kB\r\n",
      "\r\n",
      "\r\n",
      "○  (Static)  prerendered as static content\r\n",
      "●  (SSG)     prerendered as static HTML (uses getStaticProps)\r\n",
      "\r\n"
     ]
    }
   ],
   "source": [
    "{ . \"$ScriptDir/dep_hyperui.ps1\" } | Invoke-Block"
   ]
  }
 ],
 "metadata": {},
 "nbformat": 4,
 "nbformat_minor": 5
}