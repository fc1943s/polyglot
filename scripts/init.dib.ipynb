{
 "cells": [
  {
   "cell_type": "code",
   "execution_count": null,
   "metadata": {
    "dotnet_interactive": {
     "language": "pwsh"
    },
    "polyglot_notebook": {
     "kernelName": "pwsh"
    }
   },
   "outputs": [],
   "source": [
    ". ./nbs_header.ps1\n",
    ". ./core.ps1"
   ]
  },
  {
   "cell_type": "code",
   "execution_count": null,
   "metadata": {
    "dotnet_interactive": {
     "language": "pwsh"
    },
    "polyglot_notebook": {
     "kernelName": "pwsh"
    }
   },
   "outputs": [],
   "source": [
    "# rustup +nightly component add clippy rust-src rustfmt"
   ]
  },
  {
   "cell_type": "code",
   "execution_count": null,
   "metadata": {
    "dotnet_interactive": {
     "language": "pwsh"
    },
    "polyglot_notebook": {
     "kernelName": "pwsh"
    }
   },
   "outputs": [],
   "source": [
    "# rustup +nightly target add wasm32-unknown-unknown"
   ]
  },
  {
   "cell_type": "code",
   "execution_count": null,
   "metadata": {
    "dotnet_interactive": {
     "language": "pwsh"
    },
    "polyglot_notebook": {
     "kernelName": "pwsh"
    }
   },
   "outputs": [
    {
     "name": "stdout",
     "output_type": "stream",
     "text": [
      "\u001B[31;1minfo: syncing channel updates for 'stable-x86_64-pc-windows-msvc'\u001B[0m\r\n",
      "\u001B[31;1minfo: syncing channel updates for 'nightly-x86_64-pc-windows-msvc'\u001B[0m\r\n",
      "\u001B[31;1minfo: latest update on 2024-02-24, rust version 1.78.0-nightly (8f359beca 2024-02-23)\u001B[0m\r\n",
      "\u001B[31;1minfo: downloading component 'rust-std' for 'wasm32-unknown-unknown'\u001B[0m\r\n",
      "\u001B[31;1minfo: downloading component 'rust-src'\u001B[0m\r\n",
      "\u001B[31;1minfo: downloading component 'cargo'\u001B[0m\r\n",
      "\u001B[31;1minfo: downloading component 'clippy'\u001B[0m\r\n",
      "\u001B[31;1minfo: downloading component 'rust-docs'\u001B[0m\r\n",
      "\u001B[31;1minfo: downloading component 'rust-std'\u001B[0m\r\n",
      "\u001B[31;1minfo: downloading component 'rustc'\u001B[0m\r\n",
      "\u001B[31;1minfo: downloading component 'rustfmt'\u001B[0m\r\n",
      "\u001B[31;1minfo: removing previous version of component 'rust-std' for 'wasm32-unknown-unknown'\u001B[0m\r\n",
      "\u001B[31;1mwarning: during uninstall component rust-std was not found\u001B[0m\r\n",
      "\u001B[31;1minfo: removing previous version of component 'rust-src'\u001B[0m\r\n",
      "\u001B[31;1mwarning: during uninstall component rust-src was not found\u001B[0m\r\n",
      "\u001B[31;1minfo: removing previous version of component 'cargo'\u001B[0m\r\n",
      "\u001B[31;1minfo: removing previous version of component 'clippy'\u001B[0m\r\n",
      "\u001B[31;1minfo: removing previous version of component 'rust-docs'\u001B[0m\r\n",
      "\u001B[31;1minfo: removing previous version of component 'rust-std'\u001B[0m\r\n",
      "\u001B[31;1minfo: removing previous version of component 'rustc'\u001B[0m\r\n",
      "\u001B[31;1minfo: removing previous version of component 'rustfmt'\u001B[0m\r\n",
      "\u001B[31;1minfo: installing component 'rust-std' for 'wasm32-unknown-unknown'\u001B[0m\r\n",
      "\u001B[31;1minfo: installing component 'rust-src'\u001B[0m\r\n",
      "\u001B[31;1minfo: rolling back changes\u001B[0m\r\n",
      "\u001B[31;1merror: failed to install component: 'rust-src', detected conflict: 'lib/rustlib\\manifest-rust-src'\u001B[0m\r\n",
      "\u001B[31;1minfo: syncing channel updates for '1.56-x86_64-pc-windows-msvc'\u001B[0m\r\n",
      "\u001B[31;1minfo: checking for self-update\u001B[0m\r\n",
      "\r\n",
      "       stable-x86_64-pc-windows-msvc unchanged - rustc 1.76.0 (07dca489a 2024-02-04)\r\n",
      "  nightly-x86_64-pc-windows-msvc update failed - rustc 1.73.0-nightly (0e8e857b1 2023-07-16)\r\n",
      "         1.56-x86_64-pc-windows-msvc unchanged - rustc 1.56.1 (59eed8a2a 2021-11-01)\r\n",
      "\r\n",
      "\u001B[31;1minfo: cleaning up downloads & tmp directories\u001B[0m\r\n"
     ]
    }
   ],
   "source": [
    "rustup update"
   ]
  },
  {
   "cell_type": "code",
   "execution_count": null,
   "metadata": {
    "dotnet_interactive": {
     "language": "pwsh"
    },
    "polyglot_notebook": {
     "kernelName": "pwsh"
    }
   },
   "outputs": [
    {
     "name": "stdout",
     "output_type": "stream",
     "text": [
      "\u001B[31;1m    Updating crates.io index\u001B[0m\r\n",
      "\u001B[31;1m     Ignored package `cargo-outdated v0.14.0` is already installed, use --force to override\u001B[0m\r\n"
     ]
    }
   ],
   "source": [
    "{ cargo +nightly install cargo-outdated --locked } | Invoke-Block -OnError Continue"
   ]
  },
  {
   "cell_type": "code",
   "execution_count": null,
   "metadata": {
    "dotnet_interactive": {
     "language": "pwsh"
    },
    "polyglot_notebook": {
     "kernelName": "pwsh"
    }
   },
   "outputs": [
    {
     "name": "stdout",
     "output_type": "stream",
     "text": [
      "\u001B[31;1m    Updating crates.io index\u001B[0m\r\n",
      "\u001B[31;1m     Ignored package `wasm-pack v0.12.1` is already installed, use --force to override\u001B[0m\r\n"
     ]
    }
   ],
   "source": [
    "{ cargo +nightly install wasm-pack --locked } | Invoke-Block -OnError Continue"
   ]
  },
  {
   "cell_type": "code",
   "execution_count": null,
   "metadata": {
    "dotnet_interactive": {
     "language": "pwsh"
    },
    "polyglot_notebook": {
     "kernelName": "pwsh"
    }
   },
   "outputs": [
    {
     "name": "stdout",
     "output_type": "stream",
     "text": [
      "\u001B[31;1m     Ignored package `trunk v0.19.0-alpha.3` is already installed, use --force to override\u001B[0m\r\n"
     ]
    }
   ],
   "source": [
    "{ cargo +nightly install trunk --locked --version 0.19.0-alpha.3 } | Invoke-Block -OnError Continue"
   ]
  },
  {
   "cell_type": "code",
   "execution_count": null,
   "metadata": {
    "dotnet_interactive": {
     "language": "pwsh"
    },
    "polyglot_notebook": {
     "kernelName": "pwsh"
    }
   },
   "outputs": [
    {
     "name": "stdout",
     "output_type": "stream",
     "text": [
      "\u001B[31;1m    Updating git repository `https://github.com/bram209/leptosfmt.git`\u001B[0m\r\n",
      "\u001B[31;1m  Installing leptosfmt v0.1.18 (https://github.com/bram209/leptosfmt.git#ad499011)\u001B[0m\r\n",
      "\u001B[31;1m    Updating crates.io index\u001B[0m\r\n",
      "\u001B[31;1mwarning: package `hermit-abi v0.3.1` in Cargo.lock is yanked in registry `crates-io`, consider running without --locked\u001B[0m\r\n",
      "\u001B[31;1m   Compiling quote v1.0.28\u001B[0m\r\n",
      "\u001B[31;1m   Compiling proc-macro2 v1.0.68\u001B[0m\r\n",
      "\u001B[31;1m   Compiling unicode-ident v1.0.9\u001B[0m\r\n",
      "\u001B[31;1m   Compiling autocfg v1.1.0\u001B[0m\r\n",
      "\u001B[31;1m   Compiling version_check v0.9.4\u001B[0m\r\n",
      "\u001B[31;1m   Compiling windows_x86_64_msvc v0.48.0\u001B[0m\r\n",
      "\u001B[31;1m   Compiling serde v1.0.164\u001B[0m\r\n",
      "\u001B[31;1m   Compiling crossbeam-utils v0.8.15\u001B[0m\r\n",
      "\u001B[31;1m   Compiling memoffset v0.8.0\u001B[0m\r\n",
      "\u001B[31;1m   Compiling proc-macro-error-attr v1.0.4\u001B[0m\r\n",
      "\u001B[31;1m   Compiling windows-targets v0.48.0\u001B[0m\r\n",
      "\u001B[31;1m   Compiling syn v1.0.109\u001B[0m\r\n",
      "\u001B[31;1m   Compiling io-lifetimes v1.0.11\u001B[0m\r\n",
      "\u001B[31;1m   Compiling windows-sys v0.48.0\u001B[0m\r\n",
      "\u001B[31;1m   Compiling cfg-if v1.0.0\u001B[0m\r\n",
      "\u001B[31;1m   Compiling proc-macro-error v1.0.4\u001B[0m\r\n",
      "\u001B[31;1m   Compiling syn v2.0.42\u001B[0m\r\n",
      "\u001B[31;1m   Compiling crossbeam-epoch v0.9.14\u001B[0m\r\n",
      "\u001B[31;1m   Compiling windows_x86_64_msvc v0.42.2\u001B[0m\r\n",
      "\u001B[31;1m   Compiling proc-macro2-diagnostics v0.10.0\u001B[0m\r\n",
      "\u001B[31;1m   Compiling indexmap v1.9.3\u001B[0m\r\n",
      "\u001B[31;1m   Compiling thiserror v1.0.40\u001B[0m\r\n",
      "\u001B[31;1m   Compiling anstyle v1.0.0\u001B[0m\r\n",
      "\u001B[31;1m   Compiling scopeguard v1.1.0\u001B[0m\r\n",
      "\u001B[31;1m   Compiling utf8parse v0.2.1\u001B[0m\r\n",
      "\u001B[31;1m   Compiling anstyle-wincon v1.0.1\u001B[0m\r\n",
      "\u001B[31;1m   Compiling anstyle-parse v0.2.0\u001B[0m\r\n",
      "\u001B[31;1m   Compiling is-terminal v0.4.7\u001B[0m\r\n",
      "\u001B[31;1m   Compiling anstyle-query v1.0.0\u001B[0m\r\n",
      "\u001B[31;1m   Compiling colorchoice v1.0.0\u001B[0m\r\n",
      "\u001B[31;1m   Compiling hashbrown v0.12.3\u001B[0m\r\n",
      "\u001B[31;1m   Compiling libc v0.2.146\u001B[0m\r\n",
      "\u001B[31;1m   Compiling rayon-core v1.11.0\u001B[0m\r\n",
      "\u001B[31;1m   Compiling yansi v0.5.1\u001B[0m\r\n",
      "\u001B[31;1m   Compiling leptosfmt-prettyplease v0.2.16\u001B[0m\r\n",
      "\u001B[31;1m   Compiling anstream v0.3.2\u001B[0m\r\n",
      "\u001B[31;1m   Compiling windows-targets v0.42.2\u001B[0m\r\n",
      "\u001B[31;1m   Compiling crossbeam-deque v0.8.3\u001B[0m\r\n",
      "\u001B[31;1m   Compiling crossbeam-channel v0.5.8\u001B[0m\r\n",
      "\u001B[31;1m   Compiling anyhow v1.0.71\u001B[0m\r\n",
      "\u001B[31;1m   Compiling clap_lex v0.5.0\u001B[0m\r\n",
      "\u001B[31;1m   Compiling bitflags v1.3.2\u001B[0m\r\n",
      "\u001B[31;1m   Compiling winnow v0.4.6\u001B[0m\r\n",
      "\u001B[31;1m   Compiling leptosfmt-pretty-printer v0.1.8 (C:\\Users\\i574n\\scoop\\persist\\rustup\\.cargo\\git\\checkouts\\leptosfmt-e22a3f497dc21d3f\\ad49901\\printer)\u001B[0m\r\n",
      "\u001B[31;1m   Compiling str_indices v0.4.1\u001B[0m\r\n",
      "\u001B[31;1m   Compiling heck v0.4.1\u001B[0m\r\n",
      "\u001B[31;1m   Compiling strsim v0.10.0\u001B[0m\r\n",
      "\u001B[31;1m   Compiling num_cpus v1.15.0\u001B[0m\r\n",
      "\u001B[31;1m   Compiling clap_builder v4.3.3\u001B[0m\r\n",
      "\u001B[31;1m   Compiling crop v0.3.0\u001B[0m\r\n",
      "\u001B[31;1m   Compiling serde_derive v1.0.164\u001B[0m\r\n",
      "\u001B[31;1m   Compiling thiserror-impl v1.0.40\u001B[0m\r\n",
      "\u001B[31;1m   Compiling syn_derive v0.1.6\u001B[0m\r\n",
      "\u001B[31;1m   Compiling clap_derive v4.3.2\u001B[0m\r\n",
      "\u001B[31;1m   Compiling windows-sys v0.45.0\u001B[0m\r\n",
      "\u001B[31;1m   Compiling rstml v0.10.6\u001B[0m\r\n",
      "\u001B[31;1m   Compiling encode_unicode v0.3.6\u001B[0m\r\n",
      "\u001B[31;1m   Compiling once_cell v1.18.0\u001B[0m\r\n",
      "\u001B[31;1m   Compiling unicode-width v0.1.10\u001B[0m\r\n",
      "\u001B[31;1m   Compiling either v1.8.1\u001B[0m\r\n",
      "\u001B[31;1m   Compiling lazy_static v1.4.0\u001B[0m\r\n",
      "\u001B[31;1m   Compiling console v0.15.7\u001B[0m\r\n",
      "\u001B[31;1m   Compiling clap v4.3.3\u001B[0m\r\n",
      "\u001B[31;1m   Compiling rayon v1.7.0\u001B[0m\r\n",
      "\u001B[31;1m   Compiling similar v2.2.1\u001B[0m\r\n",
      "\u001B[31;1m   Compiling glob v0.3.1\u001B[0m\r\n",
      "\u001B[31;1m   Compiling toml_datetime v0.6.2\u001B[0m\r\n",
      "\u001B[31;1m   Compiling serde_spanned v0.6.2\u001B[0m\r\n",
      "\u001B[31;1m   Compiling toml_edit v0.19.10\u001B[0m\r\n",
      "\u001B[31;1m   Compiling leptosfmt-formatter v0.1.18 (C:\\Users\\i574n\\scoop\\persist\\rustup\\.cargo\\git\\checkouts\\leptosfmt-e22a3f497dc21d3f\\ad49901\\formatter)\u001B[0m\r\n",
      "\u001B[31;1m   Compiling toml v0.7.4\u001B[0m\r\n",
      "\u001B[31;1m   Compiling leptosfmt v0.1.18 (C:\\Users\\i574n\\scoop\\persist\\rustup\\.cargo\\git\\checkouts\\leptosfmt-e22a3f497dc21d3f\\ad49901\\cli)\u001B[0m\r\n",
      "\u001B[31;1m    Finished release [optimized] target(s) in 4m 54s\u001B[0m\r\n",
      "\u001B[31;1m   Replacing C:\\Users\\i574n\\scoop\\persist\\rustup\\.cargo\\bin\\leptosfmt.exe\u001B[0m\r\n",
      "\u001B[31;1m    Replaced package `leptosfmt v0.1.17 (https://github.com/bram209/leptosfmt.git#dfc05ea0)` with `leptosfmt v0.1.18 (https://github.com/bram209/leptosfmt.git#ad499011)` (executable `leptosfmt.exe`)\u001B[0m\r\n"
     ]
    }
   ],
   "source": [
    "{ cargo +nightly install --git https://github.com/bram209/leptosfmt.git --locked } | Invoke-Block -OnError Continue"
   ]
  },
  {
   "cell_type": "code",
   "execution_count": null,
   "metadata": {
    "dotnet_interactive": {
     "language": "pwsh"
    },
    "polyglot_notebook": {
     "kernelName": "pwsh"
    }
   },
   "outputs": [
    {
     "name": "stdout",
     "output_type": "stream",
     "text": [
      "\r\n",
      "changed 1 package in 3s\r\n"
     ]
    }
   ],
   "source": [
    "npm install -g pnpm"
   ]
  },
  {
   "cell_type": "code",
   "execution_count": null,
   "metadata": {
    "dotnet_interactive": {
     "language": "pwsh"
    },
    "polyglot_notebook": {
     "kernelName": "pwsh"
    }
   },
   "outputs": [
    {
     "name": "stdout",
     "output_type": "stream",
     "text": [
      "\r\n",
      "changed 2 packages in 3s\r\n"
     ]
    }
   ],
   "source": [
    "npm install -g esbuild"
   ]
  },
  {
   "cell_type": "code",
   "execution_count": null,
   "metadata": {
    "dotnet_interactive": {
     "language": "pwsh"
    },
    "polyglot_notebook": {
     "kernelName": "pwsh"
    }
   },
   "outputs": [
    {
     "name": "stdout",
     "output_type": "stream",
     "text": [
      "\r\n",
      "changed 21 packages in 13s\r\n"
     ]
    }
   ],
   "source": [
    "npm install -g @chialab/rna"
   ]
  },
  {
   "cell_type": "code",
   "execution_count": null,
   "metadata": {
    "dotnet_interactive": {
     "language": "pwsh"
    },
    "polyglot_notebook": {
     "kernelName": "pwsh"
    }
   },
   "outputs": [
    {
     "name": "stdout",
     "output_type": "stream",
     "text": [
      "\r\n",
      "changed 20 packages in 2s\r\n"
     ]
    }
   ],
   "source": [
    "npm install -g @chialab/rna-bundler"
   ]
  },
  {
   "cell_type": "code",
   "execution_count": null,
   "metadata": {
    "dotnet_interactive": {
     "language": "pwsh"
    },
    "polyglot_notebook": {
     "kernelName": "pwsh"
    }
   },
   "outputs": [
    {
     "name": "stdout",
     "output_type": "stream",
     "text": [
      "\r\n",
      "changed 3 packages in 3s\r\n"
     ]
    }
   ],
   "source": [
    "npm install -g @playwright/test@1.41.2"
   ]
  },
  {
   "cell_type": "code",
   "execution_count": null,
   "metadata": {
    "dotnet_interactive": {
     "language": "pwsh"
    },
    "polyglot_notebook": {
     "kernelName": "pwsh"
    }
   },
   "outputs": [
    {
     "name": "stdout",
     "output_type": "stream",
     "text": [
      "Downloading Chromium 121.0.6167.57 (playwright build v1097)\u001B[2m from https://playwright.azureedge.net/builds/chromium/1097/chromium-win64.zip\u001B[22m\r\n",
      "|                                                                                |   0% of 122.2 MiB\r\n",
      "|■■■■■■■■                                                                        |  10% of 122.2 MiB\r\n",
      "|■■■■■■■■■■■■■■■■                                                                |  20% of 122.2 MiB\r\n",
      "|■■■■■■■■■■■■■■■■■■■■■■■■                                                        |  30% of 122.2 MiB\r\n",
      "|■■■■■■■■■■■■■■■■■■■■■■■■■■■■■■■■                                                |  40% of 122.2 MiB\r\n",
      "|■■■■■■■■■■■■■■■■■■■■■■■■■■■■■■■■■■■■■■■■                                        |  50% of 122.2 MiB\r\n",
      "|■■■■■■■■■■■■■■■■■■■■■■■■■■■■■■■■■■■■■■■■■■■■■■■■                                |  60% of 122.2 MiB\r\n",
      "|■■■■■■■■■■■■■■■■■■■■■■■■■■■■■■■■■■■■■■■■■■■■■■■■■■■■■■■■                        |  70% of 122.2 MiB\r\n",
      "|■■■■■■■■■■■■■■■■■■■■■■■■■■■■■■■■■■■■■■■■■■■■■■■■■■■■■■■■■■■■■■■■                |  80% of 122.2 MiB\r\n",
      "|■■■■■■■■■■■■■■■■■■■■■■■■■■■■■■■■■■■■■■■■■■■■■■■■■■■■■■■■■■■■■■■■■■■■■■■■        |  90% of 122.2 MiB\r\n",
      "|■■■■■■■■■■■■■■■■■■■■■■■■■■■■■■■■■■■■■■■■■■■■■■■■■■■■■■■■■■■■■■■■■■■■■■■■■■■■■■■■| 100% of 122.2 MiB\r\n",
      "Chromium 121.0.6167.57 (playwright build v1097) downloaded to C:\\Users\\i574n\\AppData\\Local\\ms-playwright\\chromium-1097\r\n",
      "Downloading Firefox 121.0 (playwright build v1438)\u001B[2m from https://playwright.azureedge.net/builds/firefox/1438/firefox-win64.zip\u001B[22m\r\n",
      "|                                                                                |   0% of 80.9 MiB\r\n",
      "|■■■■■■■■                                                                        |  10% of 80.9 MiB\r\n",
      "|■■■■■■■■■■■■■■■■                                                                |  20% of 80.9 MiB\r\n",
      "|■■■■■■■■■■■■■■■■■■■■■■■■                                                        |  30% of 80.9 MiB\r\n",
      "|■■■■■■■■■■■■■■■■■■■■■■■■■■■■■■■■                                                |  40% of 80.9 MiB\r\n",
      "|■■■■■■■■■■■■■■■■■■■■■■■■■■■■■■■■■■■■■■■■                                        |  50% of 80.9 MiB\r\n",
      "|■■■■■■■■■■■■■■■■■■■■■■■■■■■■■■■■■■■■■■■■■■■■■■■■                                |  60% of 80.9 MiB\r\n",
      "|■■■■■■■■■■■■■■■■■■■■■■■■■■■■■■■■■■■■■■■■■■■■■■■■■■■■■■■■                        |  70% of 80.9 MiB\r\n",
      "|■■■■■■■■■■■■■■■■■■■■■■■■■■■■■■■■■■■■■■■■■■■■■■■■■■■■■■■■■■■■■■■■                |  80% of 80.9 MiB\r\n",
      "|■■■■■■■■■■■■■■■■■■■■■■■■■■■■■■■■■■■■■■■■■■■■■■■■■■■■■■■■■■■■■■■■■■■■■■■■        |  90% of 80.9 MiB\r\n",
      "|■■■■■■■■■■■■■■■■■■■■■■■■■■■■■■■■■■■■■■■■■■■■■■■■■■■■■■■■■■■■■■■■■■■■■■■■■■■■■■■■| 100% of 80.9 MiB\r\n",
      "Firefox 121.0 (playwright build v1438) downloaded to C:\\Users\\i574n\\AppData\\Local\\ms-playwright\\firefox-1438\r\n",
      "Downloading Webkit 17.4 (playwright build v1967)\u001B[2m from https://playwright.azureedge.net/builds/webkit/1967/webkit-win64.zip\u001B[22m\r\n",
      "|                                                                                |   0% of 46.6 MiB\r\n",
      "|■■■■■■■■                                                                        |  10% of 46.6 MiB\r\n",
      "|■■■■■■■■■■■■■■■■                                                                |  20% of 46.6 MiB\r\n",
      "|■■■■■■■■■■■■■■■■■■■■■■■■                                                        |  30% of 46.6 MiB\r\n",
      "|■■■■■■■■■■■■■■■■■■■■■■■■■■■■■■■■                                                |  40% of 46.6 MiB\r\n",
      "|■■■■■■■■■■■■■■■■■■■■■■■■■■■■■■■■■■■■■■■■                                        |  50% of 46.6 MiB\r\n",
      "|■■■■■■■■■■■■■■■■■■■■■■■■■■■■■■■■■■■■■■■■■■■■■■■■                                |  60% of 46.6 MiB\r\n",
      "|■■■■■■■■■■■■■■■■■■■■■■■■■■■■■■■■■■■■■■■■■■■■■■■■■■■■■■■■                        |  70% of 46.6 MiB\r\n",
      "|■■■■■■■■■■■■■■■■■■■■■■■■■■■■■■■■■■■■■■■■■■■■■■■■■■■■■■■■■■■■■■■■                |  80% of 46.6 MiB\r\n",
      "|■■■■■■■■■■■■■■■■■■■■■■■■■■■■■■■■■■■■■■■■■■■■■■■■■■■■■■■■■■■■■■■■■■■■■■■■        |  90% of 46.6 MiB\r\n",
      "|■■■■■■■■■■■■■■■■■■■■■■■■■■■■■■■■■■■■■■■■■■■■■■■■■■■■■■■■■■■■■■■■■■■■■■■■■■■■■■■■| 100% of 46.6 MiB\r\n",
      "Webkit 17.4 (playwright build v1967) downloaded to C:\\Users\\i574n\\AppData\\Local\\ms-playwright\\webkit-1967\r\n"
     ]
    }
   ],
   "source": [
    "npx -y playwright@1.41.2 install"
   ]
  },
  {
   "cell_type": "code",
   "execution_count": null,
   "metadata": {
    "dotnet_interactive": {
     "language": "pwsh"
    },
    "polyglot_notebook": {
     "kernelName": "pwsh"
    }
   },
   "outputs": [],
   "source": [
    "[Net.ServicePointManager]::SecurityProtocol = [Net.SecurityProtocolType]::Tls12"
   ]
  },
  {
   "cell_type": "code",
   "execution_count": null,
   "metadata": {
    "dotnet_interactive": {
     "language": "pwsh"
    },
    "polyglot_notebook": {
     "kernelName": "pwsh"
    }
   },
   "outputs": [],
   "source": [
    "{ Install-Module -Name PowerShellGet -Force -AllowClobber -Scope CurrentUser } | Invoke-Block -OnError Continue"
   ]
  },
  {
   "cell_type": "code",
   "execution_count": null,
   "metadata": {
    "dotnet_interactive": {
     "language": "pwsh"
    },
    "polyglot_notebook": {
     "kernelName": "pwsh"
    }
   },
   "outputs": [
    {
     "name": "stdout",
     "output_type": "stream",
     "text": [
      "\n",
      "# Invoke-Block / $Retry: 1 / $OnError: Continue / $exitcode: 0 / $EnvVars: null / $Error: 'Cannot find a variable with the name 'PackageManagementProvider'. Cannot find a variable with the name 'SourceLocation'.' / $ScriptBlock:\n",
      "'Set-PSRepository -Name PSGallery -InstallationPolicy Trusted'\n",
      "\r\n"
     ]
    }
   ],
   "source": [
    "{ Set-PSRepository -Name PSGallery -InstallationPolicy Trusted } | Invoke-Block -OnError Continue"
   ]
  },
  {
   "cell_type": "code",
   "execution_count": null,
   "metadata": {
    "dotnet_interactive": {
     "language": "pwsh"
    },
    "polyglot_notebook": {
     "kernelName": "pwsh"
    }
   },
   "outputs": [
    {
     "name": "stdout",
     "output_type": "stream",
     "text": [
      "What if: Performing the operation \"Install-Module\" on target \"Version '0.3.1' of module 'PSToml'\".\r\n"
     ]
    }
   ],
   "source": [
    "{ Install-Module -Name PSToml -Scope CurrentUser -WhatIf } | Invoke-Block -OnError Continue"
   ]
  },
  {
   "cell_type": "code",
   "execution_count": null,
   "metadata": {
    "dotnet_interactive": {
     "language": "pwsh"
    },
    "polyglot_notebook": {
     "kernelName": "pwsh"
    }
   },
   "outputs": [
    {
     "name": "stdout",
     "output_type": "stream",
     "text": [
      "Lockfile is up to date, resolution step is skipped\r\n",
      "Already up to date\r\n",
      "\r\n",
      "Done in 4.7s\r\n"
     ]
    }
   ],
   "source": [
    "{ pnpm -C .. install --frozen-lockfile } | Invoke-Block"
   ]
  },
  {
   "cell_type": "code",
   "execution_count": null,
   "metadata": {
    "dotnet_interactive": {
     "language": "pwsh"
    },
    "polyglot_notebook": {
     "kernelName": "pwsh"
    }
   },
   "outputs": [
    {
     "name": "stdout",
     "output_type": "stream",
     "text": [
      "\u001B[31;1mfatal: destination path 'The-Spiral-Language' already exists and is not an empty directory.\u001B[0m\r\n",
      "Already up to date.\r\n",
      "MSBuild version 17.10.0-preview-24101-01+07fd5d51f for .NET\r\n",
      "  Determining projects to restore...\r\n",
      "  All projects are up-to-date for restore.\r\n",
      "C:\\Program Files\\dotnet\\sdk\\9.0.100-preview.1.24101.2\\Sdks\\Microsoft.NET.Sdk\\targets\\Microsoft.NET.RuntimeIdentifierInference.targets(313,5): message NETSDK1057: You are using a preview version of .NET. See: https://aka.ms/dotnet-support-policy [C:\\home\\git\\polyglot\\deps\\The-Spiral-Language\\The Spiral Language 2\\The Spiral Language 2.fsproj]\r\n",
      "  The Spiral Language 2 -> C:\\home\\git\\polyglot\\deps\\The-Spiral-Language\\The Spiral Language 2\\artifacts\\bin\\The Spiral Language 2\\release\\Spiral.dll\r\n",
      "\r\n",
      "Build succeeded.\r\n",
      "    0 Warning(s)\r\n",
      "    0 Error(s)\r\n",
      "\r\n",
      "Time Elapsed 00:00:53.21\r\n"
     ]
    }
   ],
   "source": [
    "{ . \"$ScriptDir/dep_spiral.ps1\" } | Invoke-Block"
   ]
  },
  {
   "cell_type": "code",
   "execution_count": null,
   "metadata": {
    "dotnet_interactive": {
     "language": "pwsh"
    },
    "polyglot_notebook": {
     "kernelName": "pwsh"
    }
   },
   "outputs": [
    {
     "name": "stdout",
     "output_type": "stream",
     "text": [
      "\r\n",
      "up to date, audited 135 packages in 1s\r\n",
      "\r\n",
      "36 packages are looking for funding\r\n",
      "  run `npm fund` for details\r\n",
      "\r\n",
      "found 0 vulnerabilities\r\n",
      "\u001B[31;1m(node:67824) [DEP0040] DeprecationWarning: The `punycode` module is deprecated. Please use a userland alternative instead.\u001B[0m\r\n",
      "\u001B[31;1m(Use `node --trace-deprecation ...` to show where the warning was created)\u001B[0m\r\n",
      "Executing prepublish script 'npm run vscode:prepublish'...\r\n",
      "\r\n",
      "> spiral-lang-vscode@2.4.21 vscode:prepublish\r\n",
      "> tsc\r\n",
      "\r\n",
      "This extension consists of 712 files, out of which 127 are JavaScript files. For performance reasons, you should bundle your extension: https://aka.ms/vscode-bundle-extension . You should also exclude unnecessary files by adding them to your .vscodeignore: https://aka.ms/vscode-vscodeignore\r\n",
      " DONE  Packaged: C:\\home\\git\\polyglot\\deps\\The-Spiral-Language\\VS Code Plugin\\spiral-lang-vscode-2.4.21.vsix (712 files, 5.91MB)\r\n",
      "Copying extension to C:\\Users\\i574n\\scoop\\persist\\vscode-insiders\\data\\extensions\\mrakgr.spiral-lang-vscode-2.4.21\r\n"
     ]
    }
   ],
   "source": [
    "{ . \"$ScriptDir/dep_spiral_extension.ps1\" } | Invoke-Block"
   ]
  },
  {
   "cell_type": "code",
   "execution_count": null,
   "metadata": {
    "dotnet_interactive": {
     "language": "pwsh"
    },
    "polyglot_notebook": {
     "kernelName": "pwsh"
    }
   },
   "outputs": [
    {
     "name": "stdout",
     "output_type": "stream",
     "text": [
      "\u001B[31;1mfatal: destination path 'Fable' already exists and is not an empty directory.\u001B[0m\r\n",
      "Already up to date.\r\n",
      "Tool path: C:\\Users\\i574n\\.nuget\\packages\\fable\\4.13.0\\tools\\net6.0\\any\r\n",
      "MSBuild version 17.10.0-preview-24101-01+07fd5d51f for .NET\r\n",
      "  Determining projects to restore...\r\n",
      "  All projects are up-to-date for restore.\r\n",
      "C:\\Program Files\\dotnet\\sdk\\9.0.100-preview.1.24101.2\\Sdks\\Microsoft.NET.Sdk\\targets\\Microsoft.NET.RuntimeIdentifierInference.targets(313,5): message NETSDK1057: You are using a preview version of .NET. See: https://aka.ms/dotnet-support-policy [C:\\home\\git\\polyglot\\deps\\Fable\\src\\Fable.Cli\\Fable.Cli.fsproj]\r\n",
      "C:\\Program Files\\dotnet\\sdk\\9.0.100-preview.1.24101.2\\Sdks\\Microsoft.NET.Sdk\\targets\\Microsoft.NET.RuntimeIdentifierInference.targets(313,5): message NETSDK1057: You are using a preview version of .NET. See: https://aka.ms/dotnet-support-policy [C:\\home\\git\\polyglot\\deps\\Fable\\src\\Fable.Transforms\\Rust\\AST\\Rust.AST.fsproj]\r\n",
      "C:\\Program Files\\dotnet\\sdk\\9.0.100-preview.1.24101.2\\Sdks\\Microsoft.NET.Sdk\\targets\\Microsoft.NET.RuntimeIdentifierInference.targets(313,5): message NETSDK1057: You are using a preview version of .NET. See: https://aka.ms/dotnet-support-policy [C:\\home\\git\\polyglot\\deps\\Fable\\src\\Fable.AST\\Fable.AST.fsproj]\r\n",
      "C:\\Program Files\\dotnet\\sdk\\9.0.100-preview.1.24101.2\\Sdks\\Microsoft.NET.Sdk\\targets\\Microsoft.NET.RuntimeIdentifierInference.targets(313,5): message NETSDK1057: You are using a preview version of .NET. See: https://aka.ms/dotnet-support-policy [C:\\home\\git\\polyglot\\deps\\Fable\\src\\Fable.Transforms\\Fable.Transforms.fsproj]\r\n",
      "  Fable.AST -> C:\\home\\git\\polyglot\\deps\\Fable\\src\\Fable.AST\\bin\\Release\\netstandard2.0\\Fable.AST.dll\r\n",
      "  Rust.AST -> C:\\home\\git\\polyglot\\deps\\Fable\\src\\Fable.Transforms\\Rust\\AST\\bin\\Release\\netstandard2.0\\Rust.AST.dll\r\n",
      "C:\\Program Files\\dotnet\\sdk\\9.0.100-preview.1.24101.2\\Microsoft.Common.CurrentVersion.targets(2401,5): warning MSB3277: Found conflicts between different versions of \"System.Memory\" that could not be resolved. [C:\\home\\git\\polyglot\\deps\\Fable\\src\\Fable.Transforms\\Fable.Transforms.fsproj]\r\n",
      "C:\\Program Files\\dotnet\\sdk\\9.0.100-preview.1.24101.2\\Microsoft.Common.CurrentVersion.targets(2401,5): warning MSB3277: There was a conflict between \"System.Memory, Version=4.0.1.1, Culture=neutral, PublicKeyToken=cc7b13ffcd2ddd51\" and \"System.Memory, Version=4.0.1.2, Culture=neutral, PublicKeyToken=cc7b13ffcd2ddd51\". [C:\\home\\git\\polyglot\\deps\\Fable\\src\\Fable.Transforms\\Fable.Transforms.fsproj]\r\n",
      "C:\\Program Files\\dotnet\\sdk\\9.0.100-preview.1.24101.2\\Microsoft.Common.CurrentVersion.targets(2401,5): warning MSB3277:     \"System.Memory, Version=4.0.1.1, Culture=neutral, PublicKeyToken=cc7b13ffcd2ddd51\" was chosen because it was primary and \"System.Memory, Version=4.0.1.2, Culture=neutral, PublicKeyToken=cc7b13ffcd2ddd51\" was not. [C:\\home\\git\\polyglot\\deps\\Fable\\src\\Fable.Transforms\\Fable.Transforms.fsproj]\r\n",
      "C:\\Program Files\\dotnet\\sdk\\9.0.100-preview.1.24101.2\\Microsoft.Common.CurrentVersion.targets(2401,5): warning MSB3277:     References which depend on \"System.Memory, Version=4.0.1.1, Culture=neutral, PublicKeyToken=cc7b13ffcd2ddd51\" [C:\\Users\\i574n\\.nuget\\packages\\system.memory\\4.5.4\\lib\\netstandard2.0\\System.Memory.dll]. [C:\\home\\git\\polyglot\\deps\\Fable\\src\\Fable.Transforms\\Fable.Transforms.fsproj]\r\n",
      "C:\\Program Files\\dotnet\\sdk\\9.0.100-preview.1.24101.2\\Microsoft.Common.CurrentVersion.targets(2401,5): warning MSB3277:         C:\\Users\\i574n\\.nuget\\packages\\system.memory\\4.5.4\\lib\\netstandard2.0\\System.Memory.dll [C:\\home\\git\\polyglot\\deps\\Fable\\src\\Fable.Transforms\\Fable.Transforms.fsproj]\r\n",
      "C:\\Program Files\\dotnet\\sdk\\9.0.100-preview.1.24101.2\\Microsoft.Common.CurrentVersion.targets(2401,5): warning MSB3277:           Project file item includes which caused reference \"C:\\Users\\i574n\\.nuget\\packages\\system.memory\\4.5.4\\lib\\netstandard2.0\\System.Memory.dll\". [C:\\home\\git\\polyglot\\deps\\Fable\\src\\Fable.Transforms\\Fable.Transforms.fsproj]\r\n",
      "C:\\Program Files\\dotnet\\sdk\\9.0.100-preview.1.24101.2\\Microsoft.Common.CurrentVersion.targets(2401,5): warning MSB3277:             C:\\Users\\i574n\\.nuget\\packages\\system.memory\\4.5.4\\lib\\netstandard2.0\\System.Memory.dll [C:\\home\\git\\polyglot\\deps\\Fable\\src\\Fable.Transforms\\Fable.Transforms.fsproj]\r\n",
      "C:\\Program Files\\dotnet\\sdk\\9.0.100-preview.1.24101.2\\Microsoft.Common.CurrentVersion.targets(2401,5): warning MSB3277:     References which depend on or have been unified to \"System.Memory, Version=4.0.1.2, Culture=neutral, PublicKeyToken=cc7b13ffcd2ddd51\" []. [C:\\home\\git\\polyglot\\deps\\Fable\\src\\Fable.Transforms\\Fable.Transforms.fsproj]\r\n",
      "C:\\Program Files\\dotnet\\sdk\\9.0.100-preview.1.24101.2\\Microsoft.Common.CurrentVersion.targets(2401,5): warning MSB3277:         C:\\home\\git\\polyglot\\deps\\Fable\\lib\\fcs\\FSharp.Compiler.Service.dll [C:\\home\\git\\polyglot\\deps\\Fable\\src\\Fable.Transforms\\Fable.Transforms.fsproj]\r\n",
      "C:\\Program Files\\dotnet\\sdk\\9.0.100-preview.1.24101.2\\Microsoft.Common.CurrentVersion.targets(2401,5): warning MSB3277:           Project file item includes which caused reference \"C:\\home\\git\\polyglot\\deps\\Fable\\lib\\fcs\\FSharp.Compiler.Service.dll\". [C:\\home\\git\\polyglot\\deps\\Fable\\src\\Fable.Transforms\\Fable.Transforms.fsproj]\r\n",
      "C:\\Program Files\\dotnet\\sdk\\9.0.100-preview.1.24101.2\\Microsoft.Common.CurrentVersion.targets(2401,5): warning MSB3277:             ../../lib/fcs/FSharp.Compiler.Service.dll [C:\\home\\git\\polyglot\\deps\\Fable\\src\\Fable.Transforms\\Fable.Transforms.fsproj]\r\n",
      "  Fable.Transforms -> C:\\home\\git\\polyglot\\deps\\Fable\\src\\Fable.Transforms\\bin\\Release\\netstandard2.0\\Fable.Transforms.dll\r\n",
      "  Fable.Compiler -> C:\\home\\git\\polyglot\\deps\\Fable\\src\\Fable.Compiler\\bin\\Release\\net9.0\\Fable.Compiler.dll\r\n",
      "  Fable.Cli -> C:\\home\\git\\polyglot\\deps\\Fable\\src\\Fable.Cli\\bin\\Release\\net9.0\\fable.dll\r\n",
      "\r\n",
      "Build succeeded.\r\n",
      "\r\n",
      "C:\\Program Files\\dotnet\\sdk\\9.0.100-preview.1.24101.2\\Microsoft.Common.CurrentVersion.targets(2401,5): warning MSB3277: Found conflicts between different versions of \"System.Memory\" that could not be resolved. [C:\\home\\git\\polyglot\\deps\\Fable\\src\\Fable.Transforms\\Fable.Transforms.fsproj]\r\n",
      "C:\\Program Files\\dotnet\\sdk\\9.0.100-preview.1.24101.2\\Microsoft.Common.CurrentVersion.targets(2401,5): warning MSB3277: There was a conflict between \"System.Memory, Version=4.0.1.1, Culture=neutral, PublicKeyToken=cc7b13ffcd2ddd51\" and \"System.Memory, Version=4.0.1.2, Culture=neutral, PublicKeyToken=cc7b13ffcd2ddd51\". [C:\\home\\git\\polyglot\\deps\\Fable\\src\\Fable.Transforms\\Fable.Transforms.fsproj]\r\n",
      "C:\\Program Files\\dotnet\\sdk\\9.0.100-preview.1.24101.2\\Microsoft.Common.CurrentVersion.targets(2401,5): warning MSB3277:     \"System.Memory, Version=4.0.1.1, Culture=neutral, PublicKeyToken=cc7b13ffcd2ddd51\" was chosen because it was primary and \"System.Memory, Version=4.0.1.2, Culture=neutral, PublicKeyToken=cc7b13ffcd2ddd51\" was not. [C:\\home\\git\\polyglot\\deps\\Fable\\src\\Fable.Transforms\\Fable.Transforms.fsproj]\r\n",
      "C:\\Program Files\\dotnet\\sdk\\9.0.100-preview.1.24101.2\\Microsoft.Common.CurrentVersion.targets(2401,5): warning MSB3277:     References which depend on \"System.Memory, Version=4.0.1.1, Culture=neutral, PublicKeyToken=cc7b13ffcd2ddd51\" [C:\\Users\\i574n\\.nuget\\packages\\system.memory\\4.5.4\\lib\\netstandard2.0\\System.Memory.dll]. [C:\\home\\git\\polyglot\\deps\\Fable\\src\\Fable.Transforms\\Fable.Transforms.fsproj]\r\n",
      "C:\\Program Files\\dotnet\\sdk\\9.0.100-preview.1.24101.2\\Microsoft.Common.CurrentVersion.targets(2401,5): warning MSB3277:         C:\\Users\\i574n\\.nuget\\packages\\system.memory\\4.5.4\\lib\\netstandard2.0\\System.Memory.dll [C:\\home\\git\\polyglot\\deps\\Fable\\src\\Fable.Transforms\\Fable.Transforms.fsproj]\r\n",
      "C:\\Program Files\\dotnet\\sdk\\9.0.100-preview.1.24101.2\\Microsoft.Common.CurrentVersion.targets(2401,5): warning MSB3277:           Project file item includes which caused reference \"C:\\Users\\i574n\\.nuget\\packages\\system.memory\\4.5.4\\lib\\netstandard2.0\\System.Memory.dll\". [C:\\home\\git\\polyglot\\deps\\Fable\\src\\Fable.Transforms\\Fable.Transforms.fsproj]\r\n",
      "C:\\Program Files\\dotnet\\sdk\\9.0.100-preview.1.24101.2\\Microsoft.Common.CurrentVersion.targets(2401,5): warning MSB3277:             C:\\Users\\i574n\\.nuget\\packages\\system.memory\\4.5.4\\lib\\netstandard2.0\\System.Memory.dll [C:\\home\\git\\polyglot\\deps\\Fable\\src\\Fable.Transforms\\Fable.Transforms.fsproj]\r\n",
      "C:\\Program Files\\dotnet\\sdk\\9.0.100-preview.1.24101.2\\Microsoft.Common.CurrentVersion.targets(2401,5): warning MSB3277:     References which depend on or have been unified to \"System.Memory, Version=4.0.1.2, Culture=neutral, PublicKeyToken=cc7b13ffcd2ddd51\" []. [C:\\home\\git\\polyglot\\deps\\Fable\\src\\Fable.Transforms\\Fable.Transforms.fsproj]\r\n",
      "C:\\Program Files\\dotnet\\sdk\\9.0.100-preview.1.24101.2\\Microsoft.Common.CurrentVersion.targets(2401,5): warning MSB3277:         C:\\home\\git\\polyglot\\deps\\Fable\\lib\\fcs\\FSharp.Compiler.Service.dll [C:\\home\\git\\polyglot\\deps\\Fable\\src\\Fable.Transforms\\Fable.Transforms.fsproj]\r\n",
      "C:\\Program Files\\dotnet\\sdk\\9.0.100-preview.1.24101.2\\Microsoft.Common.CurrentVersion.targets(2401,5): warning MSB3277:           Project file item includes which caused reference \"C:\\home\\git\\polyglot\\deps\\Fable\\lib\\fcs\\FSharp.Compiler.Service.dll\". [C:\\home\\git\\polyglot\\deps\\Fable\\src\\Fable.Transforms\\Fable.Transforms.fsproj]\r\n",
      "C:\\Program Files\\dotnet\\sdk\\9.0.100-preview.1.24101.2\\Microsoft.Common.CurrentVersion.targets(2401,5): warning MSB3277:             ../../lib/fcs/FSharp.Compiler.Service.dll [C:\\home\\git\\polyglot\\deps\\Fable\\src\\Fable.Transforms\\Fable.Transforms.fsproj]\r\n",
      "    1 Warning(s)\r\n",
      "    0 Error(s)\r\n",
      "\r\n",
      "Time Elapsed 00:00:03.91\r\n",
      "fable.dll path: C:\\home\\git\\polyglot\\deps\\Fable\\src\\Fable.Cli\\bin\\Release\\net9.0\\fable.dll\r\n",
      "Lib path: C:\\Users\\i574n\\.nuget\\packages\\fable.core\\4.3.0\\lib\\netstandard2.0\r\n",
      "MSBuild version 17.10.0-preview-24101-01+07fd5d51f for .NET\r\n",
      "  Determining projects to restore...\r\n",
      "  All projects are up-to-date for restore.\r\n",
      "C:\\Program Files\\dotnet\\sdk\\9.0.100-preview.1.24101.2\\Sdks\\Microsoft.NET.Sdk\\targets\\Microsoft.NET.RuntimeIdentifierInference.targets(313,5): message NETSDK1057: You are using a preview version of .NET. See: https://aka.ms/dotnet-support-policy [C:\\home\\git\\polyglot\\deps\\Fable\\src\\Fable.Core\\Fable.Core.fsproj]\r\n",
      "  Fable.Core -> C:\\home\\git\\polyglot\\deps\\Fable\\src\\Fable.Core\\bin\\Release\\netstandard2.0\\Fable.Core.dll\r\n",
      "\r\n",
      "Build succeeded.\r\n",
      "    0 Warning(s)\r\n",
      "    0 Error(s)\r\n",
      "\r\n",
      "Time Elapsed 00:00:05.78\r\n"
     ]
    }
   ],
   "source": [
    "{ . \"$ScriptDir/dep_fable.ps1\" } | Invoke-Block"
   ]
  },
  {
   "cell_type": "code",
   "execution_count": null,
   "metadata": {
    "dotnet_interactive": {
     "language": "pwsh"
    },
    "polyglot_notebook": {
     "kernelName": "pwsh"
    }
   },
   "outputs": [
    {
     "name": "stdout",
     "output_type": "stream",
     "text": [
      "\u001B[31;1mfatal: destination path 'hyperui' already exists and is not an empty directory.\u001B[0m\r\n",
      "Already up to date.\r\n",
      "yarn install v1.22.19\r\n",
      "[1/4] Resolving packages...\r\n",
      "success Already up-to-date.\r\n",
      "Done in 0.76s.\r\n",
      "yarn run v1.22.19\r\n",
      "$ next build\r\n",
      "- info Creating an optimized production build...\r\n",
      "- info Compiled successfully\r\n",
      "- info Linting and checking validity of types...\r\n",
      "- info Collecting page data...\r\n",
      "- info Generating static pages (0/6)\r\n",
      "- info Generating static pages (1/6)\r\n",
      "\u001B[31;1m- warn \u001B[0m\r\n",
      "\u001B[31;1mmetadata.metadataBase is not set for resolving social open graph or twitter images, using \"http://localhost:3000\". See https://nextjs.org/docs/app/api-reference/functions/generate-metadata#metadatabase\u001B[0m\r\n",
      "\u001B[31;1m- warn \u001B[0m\r\n",
      "\u001B[31;1mmetadata.metadataBase is not set for resolving social open graph or twitter images, using \"http://localhost:3000\". See https://nextjs.org/docs/app/api-reference/functions/generate-metadata#metadatabase\u001B[0m\r\n",
      "- info Generating static pages (2/6)\r\n",
      "- info Generating static pages (4/6)\r\n",
      "- info Generating static pages (6/6)\r\n",
      "- info Finalizing page optimization...\r\n",
      "\r\n",
      "Route (app)                                Size     First Load JS\r\n",
      "┌ ○ /                                      182 B          84.6 kB\r\n",
      "├ ● /[components]/[category]               182 B          84.6 kB\r\n",
      "├ ● /[components]/[category]/[collection]  3.55 kB        99.6 kB\r\n",
      "├ ● /about/[slug]                          3.41 kB          82 kB\r\n",
      "├ ○ /api/search                            0 B                0 B\r\n",
      "├ ○ /blog                                  182 B          84.6 kB\r\n",
      "├ ● /blog/[slug]                           2.85 kB        93.1 kB\r\n",
      "└ ○ /sitemap.xml                           0 B                0 B\r\n",
      "+ First Load JS shared by all              78.6 kB\r\n",
      "  ├ chunks/596-ef6f8f5604ac81a7.js         26.1 kB\r\n",
      "  ├ chunks/fd9d1056-ae0ceb7ffa373b0f.js    50.6 kB\r\n",
      "  ├ chunks/main-app-e140771f15cb57c2.js    217 B\r\n",
      "  └ chunks/webpack-dfc3920b6219521e.js     1.74 kB\r\n",
      "\r\n",
      "Route (pages)                              Size     First Load JS\r\n",
      "─ ○ /404                                   181 B          76.6 kB\r\n",
      "+ First Load JS shared by all              76.4 kB\r\n",
      "  ├ chunks/framework-8883d1e9be70c3da.js   45 kB\r\n",
      "  ├ chunks/main-9e0ffd36f36951ba.js        29.4 kB\r\n",
      "  ├ chunks/pages/_app-52924524f99094ab.js  195 B\r\n",
      "  └ chunks/webpack-dfc3920b6219521e.js     1.74 kB\r\n",
      "\r\n",
      "○  (Static)  automatically rendered as static HTML (uses no initial props)\r\n",
      "●  (SSG)     automatically generated as static HTML + JSON (uses getStaticProps)\r\n",
      "\r\n",
      "$ yarn css\r\n",
      "$ yarn css:components && yarn css:blogs\r\n",
      "$ npx tailwindcss -i src/styles/components.css -o public/components.css -m\r\n",
      "\u001B[31;1mBrowserslist: caniuse-lite is outdated. Please run:\u001B[0m\r\n",
      "\u001B[31;1m  npx update-browserslist-db@latest\u001B[0m\r\n",
      "\u001B[31;1m  Why you should do it regularly: https://github.com/browserslist/update-db#readme\u001B[0m\r\n",
      "\u001B[31;1mBrowserslist: caniuse-lite is outdated. Please run:\u001B[0m\r\n",
      "\u001B[31;1m  npx update-browserslist-db@latest\u001B[0m\r\n",
      "\u001B[31;1m  Why you should do it regularly: https://github.com/browserslist/update-db#readme\u001B[0m\r\n",
      "\u001B[31;1m\u001B[0m\r\n",
      "\u001B[31;1mRebuilding...\u001B[0m\r\n",
      "\u001B[31;1m\u001B[0m\r\n",
      "\u001B[31;1mDone in 6510ms.\u001B[0m\r\n",
      "$ npx tailwindcss -i src/styles/blogs.css -o public/blogs.css -m\r\n",
      "\u001B[31;1mBrowserslist: caniuse-lite is outdated. Please run:\u001B[0m\r\n",
      "\u001B[31;1m  npx update-browserslist-db@latest\u001B[0m\r\n",
      "\u001B[31;1m  Why you should do it regularly: https://github.com/browserslist/update-db#readme\u001B[0m\r\n",
      "\u001B[31;1mBrowserslist: caniuse-lite is outdated. Please run:\u001B[0m\r\n",
      "\u001B[31;1m  npx update-browserslist-db@latest\u001B[0m\r\n",
      "\u001B[31;1m  Why you should do it regularly: https://github.com/browserslist/update-db#readme\u001B[0m\r\n",
      "\u001B[31;1m\u001B[0m\r\n",
      "\u001B[31;1mRebuilding...\u001B[0m\r\n",
      "\u001B[31;1m\u001B[0m\r\n",
      "\u001B[31;1mDone in 1077ms.\u001B[0m\r\n",
      "Done in 123.21s.\r\n"
     ]
    }
   ],
   "source": [
    "{ . \"$ScriptDir/dep_hyperui.ps1\" } | Invoke-Block"
   ]
  }
 ],
 "metadata": {},
 "nbformat": 4,
 "nbformat_minor": 5
}