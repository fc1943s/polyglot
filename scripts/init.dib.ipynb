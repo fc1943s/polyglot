{
 "cells": [
  {
   "cell_type": "code",
   "execution_count": null,
   "metadata": {
    "dotnet_interactive": {
     "language": "pwsh"
    },
    "polyglot_notebook": {
     "kernelName": "pwsh"
    }
   },
   "outputs": [],
   "source": [
    ". ./nbs_header.ps1\n",
    ". ./core.ps1"
   ]
  },
  {
   "cell_type": "code",
   "execution_count": null,
   "metadata": {
    "dotnet_interactive": {
     "language": "pwsh"
    },
    "polyglot_notebook": {
     "kernelName": "pwsh"
    }
   },
   "outputs": [],
   "source": [
    "# rustup component add clippy rust-src rustfmt"
   ]
  },
  {
   "cell_type": "code",
   "execution_count": null,
   "metadata": {
    "dotnet_interactive": {
     "language": "pwsh"
    },
    "polyglot_notebook": {
     "kernelName": "pwsh"
    }
   },
   "outputs": [],
   "source": [
    "# rustup target add wasm32-unknown-unknown"
   ]
  },
  {
   "cell_type": "code",
   "execution_count": null,
   "metadata": {
    "dotnet_interactive": {
     "language": "pwsh"
    },
    "polyglot_notebook": {
     "kernelName": "pwsh"
    }
   },
   "outputs": [],
   "source": [
    "# rustup update"
   ]
  },
  {
   "cell_type": "code",
   "execution_count": null,
   "metadata": {
    "dotnet_interactive": {
     "language": "pwsh"
    },
    "polyglot_notebook": {
     "kernelName": "pwsh"
    }
   },
   "outputs": [],
   "source": [
    "if (!(Search-Command \"cargo-outdated\")) {\n",
    "    { cargo install --git https://github.com/i574n/cargo-outdated.git --locked } | Invoke-Block -OnError Continue\n",
    "}"
   ]
  },
  {
   "cell_type": "code",
   "execution_count": null,
   "metadata": {
    "dotnet_interactive": {
     "language": "pwsh"
    },
    "polyglot_notebook": {
     "kernelName": "pwsh"
    }
   },
   "outputs": [],
   "source": [
    "if (!(Search-Command \"sccache\")) {\n",
    "    { cargo install sccache } | Invoke-Block -OnError Continue\n",
    "}"
   ]
  },
  {
   "cell_type": "code",
   "execution_count": null,
   "metadata": {
    "dotnet_interactive": {
     "language": "pwsh"
    },
    "polyglot_notebook": {
     "kernelName": "pwsh"
    }
   },
   "outputs": [],
   "source": [
    "if (!(Search-Command \"wasm-pack\")) {\n",
    "    { cargo install wasm-pack --locked } | Invoke-Block -OnError Continue\n",
    "}"
   ]
  },
  {
   "cell_type": "code",
   "execution_count": null,
   "metadata": {
    "dotnet_interactive": {
     "language": "pwsh"
    },
    "polyglot_notebook": {
     "kernelName": "pwsh"
    }
   },
   "outputs": [],
   "source": [
    "if (!(Search-Command \"trunk\")) {\n",
    "    { cargo install trunk --version 0.21.5 } | Invoke-Block -OnError Continue\n",
    "}"
   ]
  },
  {
   "cell_type": "code",
   "execution_count": null,
   "metadata": {
    "dotnet_interactive": {
     "language": "pwsh"
    },
    "polyglot_notebook": {
     "kernelName": "pwsh"
    }
   },
   "outputs": [],
   "source": [
    "if (!(Search-Command \"leptosfmt\")) {\n",
    "    { cargo install --git https://github.com/bram209/leptosfmt.git --locked } | Invoke-Block -OnError Continue\n",
    "}"
   ]
  },
  {
   "cell_type": "code",
   "execution_count": null,
   "metadata": {
    "dotnet_interactive": {
     "language": "pwsh"
    },
    "polyglot_notebook": {
     "kernelName": "pwsh"
    }
   },
   "outputs": [
    {
     "name": "stdout",
     "output_type": "stream",
     "text": [
      "\u001B[31;1mSaved lockfile\u001B[0m\r\n"
     ]
    }
   ],
   "source": [
    "if (!(Search-Command \"nix\")) {\n",
    "    { ~/.bun/bin/bunx --bun playwright@1.44.0 install } | Invoke-Block -OnError Continue\n",
    "}"
   ]
  },
  {
   "cell_type": "code",
   "execution_count": null,
   "metadata": {
    "dotnet_interactive": {
     "language": "pwsh"
    },
    "polyglot_notebook": {
     "kernelName": "pwsh"
    }
   },
   "outputs": [],
   "source": [
    "[Net.ServicePointManager]::SecurityProtocol = [Net.SecurityProtocolType]::Tls12"
   ]
  },
  {
   "cell_type": "code",
   "execution_count": null,
   "metadata": {
    "dotnet_interactive": {
     "language": "pwsh"
    },
    "polyglot_notebook": {
     "kernelName": "pwsh"
    }
   },
   "outputs": [
    {
     "name": "stdout",
     "output_type": "stream",
     "text": [
      "\u001B[93mWARNING: Unable to resolve package source 'https://www.powershellgallery.com/api/v2'.\u001B[0m\r\n",
      "\n",
      "# Invoke-Block / $retry: 1/1 / $Location:  / Get-Location: C:\\home\\git\\polyglot\\scripts / $OnError: Continue / $exitcode: -1 / $Error: 'No match was found for the specified search criteria and module name 'PowerShellGet'. Try Get-PSRepository to see all available registered module repositories.' / $ScriptBlock:\n",
      "'Install-Module -Name PowerShellGet -Force -AllowClobber -Scope CurrentUser'\n",
      "\r\n"
     ]
    }
   ],
   "source": [
    "{ Install-Module -Name PowerShellGet -Force -AllowClobber -Scope CurrentUser } | Invoke-Block -OnError Continue"
   ]
  },
  {
   "cell_type": "code",
   "execution_count": null,
   "metadata": {
    "dotnet_interactive": {
     "language": "pwsh"
    },
    "polyglot_notebook": {
     "kernelName": "pwsh"
    }
   },
   "outputs": [
    {
     "name": "stdout",
     "output_type": "stream",
     "text": [
      "\n",
      "# Invoke-Block / $retry: 1/1 / $Location:  / Get-Location: C:\\home\\git\\polyglot\\scripts / $OnError: Continue / $exitcode: 0 / $Error: 'Cannot find a variable with the name 'PackageManagementProvider'. Cannot find a variable with the name 'SourceLocation'.' / $ScriptBlock:\n",
      "'Set-PSRepository -Name PSGallery -InstallationPolicy Trusted'\n",
      "\r\n"
     ]
    }
   ],
   "source": [
    "{ Set-PSRepository -Name PSGallery -InstallationPolicy Trusted } | Invoke-Block -OnError Continue"
   ]
  },
  {
   "cell_type": "code",
   "execution_count": null,
   "metadata": {
    "dotnet_interactive": {
     "language": "pwsh"
    },
    "polyglot_notebook": {
     "kernelName": "pwsh"
    }
   },
   "outputs": [
    {
     "name": "stdout",
     "output_type": "stream",
     "text": [
      "bun install v1.1.45 (196621f2)\r\n",
      "\r\n",
      "Checked 4 installs across 5 packages (no changes) [31.00ms]\r\n"
     ]
    }
   ],
   "source": [
    "{ ~/.bun/bin/bun install --cwd .. --frozen-lockfile } | Invoke-Block"
   ]
  },
  {
   "cell_type": "code",
   "execution_count": null,
   "metadata": {
    "dotnet_interactive": {
     "language": "pwsh"
    },
    "polyglot_notebook": {
     "kernelName": "pwsh"
    }
   },
   "outputs": [
    {
     "name": "stdout",
     "output_type": "stream",
     "text": [
      "\u001B[31;1mfatal: destination path 'The-Spiral-Language' already exists and is not an empty directory.\u001B[0m\r\n",
      "\u001B[31;1mfatal: unable to access 'https://github.com/i574n/The-Spiral-Language.git/': Could not resolve host: github.com\u001B[0m\r\n",
      "\n",
      "# Invoke-Block / $retry: 1/1 / $Location: The-Spiral-Language / Get-Location: C:\\home\\git\\polyglot\\deps\\The-Spiral-Language / $OnError: Continue / $exitcode: 1 / $Error: '' / $ScriptBlock:\n",
      "'git pull'\n",
      "\r\n",
      "  Determining projects to restore...\r\n",
      "  All projects are up-to-date for restore.\r\n",
      "C:\\home\\git\\polyglot\\apps\\spiral\\Supervisor.fs(213,19): warning FS0686: The method or function 'new_server' should not be given explicit type argument(s) because it does not declare its type parameters explicitly [C:\\home\\git\\polyglot\\deps\\The-Spiral-Language\\The Spiral Language 2\\The Spiral Language 2.fsproj]\r\n",
      "C:\\home\\git\\polyglot\\apps\\spiral\\Supervisor.fs(214,19): warning FS0686: The method or function 'new_server' should not be given explicit type argument(s) because it does not declare its type parameters explicitly [C:\\home\\git\\polyglot\\deps\\The-Spiral-Language\\The Spiral Language 2\\The Spiral Language 2.fsproj]\r\n",
      "  The Spiral Language 2 -> C:\\home\\git\\polyglot\\deps\\The-Spiral-Language\\The Spiral Language 2\\artifacts\\bin\\The Spiral Language 2\\release\\Spiral.dll\r\n",
      "\r\n",
      "Build succeeded.\r\n",
      "\r\n",
      "C:\\home\\git\\polyglot\\apps\\spiral\\Supervisor.fs(213,19): warning FS0686: The method or function 'new_server' should not be given explicit type argument(s) because it does not declare its type parameters explicitly [C:\\home\\git\\polyglot\\deps\\The-Spiral-Language\\The Spiral Language 2\\The Spiral Language 2.fsproj]\r\n",
      "C:\\home\\git\\polyglot\\apps\\spiral\\Supervisor.fs(214,19): warning FS0686: The method or function 'new_server' should not be given explicit type argument(s) because it does not declare its type parameters explicitly [C:\\home\\git\\polyglot\\deps\\The-Spiral-Language\\The Spiral Language 2\\The Spiral Language 2.fsproj]\r\n",
      "    2 Warning(s)\r\n",
      "    0 Error(s)\r\n",
      "\r\n",
      "Time Elapsed 00:01:05.74\r\n",
      "\r\n",
      "Workload updates are available. Run `dotnet workload list` for more information.\r\n"
     ]
    }
   ],
   "source": [
    "{ . \"$ScriptDir/dep_spiral.ps1\" } | Invoke-Block"
   ]
  },
  {
   "cell_type": "code",
   "execution_count": null,
   "metadata": {
    "dotnet_interactive": {
     "language": "pwsh"
    },
    "polyglot_notebook": {
     "kernelName": "pwsh"
    }
   },
   "outputs": [
    {
     "name": "stdout",
     "output_type": "stream",
     "text": [
      "path: ../deps/The-Spiral-Language/The Spiral Language 2/artifacts/bin/The Spiral Language 2/release/\r\n",
      "bun install v1.1.45 (196621f2)\r\n",
      "\r\n",
      "Checked 238 installs across 264 packages (no changes) [249.00ms]\r\n",
      "\u001B[31;1m$ ~/.bun/bin/bunx --bun esbuild ./src/index.ts --bundle --outfile=out/index.js --external:vscode --format=cjs --platform=node --minify\u001B[0m\r\n",
      "\u001B[31;1m\u001B[0m\r\n",
      "\u001B[31;1m  out\\index.js  668.7kb\u001B[0m\r\n",
      "\u001B[31;1m\u001B[0m\r\n",
      "\u001B[31;1m⚡ Done in 148ms\u001B[0m\r\n",
      " INFO  Files included in the VSIX:\r\n",
      "spiral-lang-vscode-i574n-2.15.17.vsix\r\n",
      "├─ [Content_Types].xml \r\n",
      "├─ extension.vsixmanifest \r\n",
      "└─ extension/\r\n",
      "   ├─ LICENSE.txt [16.7 KB]\r\n",
      "   ├─ language-configuration.json [0.51 KB]\r\n",
      "   ├─ package.json [5.12 KB]\r\n",
      "   ├─ compiler/ (353 files) [18.4 MB]\r\n",
      "   ├─ core/ (22 files) [53.06 KB]\r\n",
      "   └─ out/ (2 files) [668.76 KB]\r\n",
      "\r\n",
      "=> Run vsce ls --tree to see all included files.\r\n",
      "\r\n",
      " DONE  Packaged: C:\\home\\git\\polyglot\\deps\\The-Spiral-Language\\VS Code Plugin\\spiral-lang-vscode-i574n-2.15.17.vsix (382 files, 6.63 MB)\r\n",
      "Skipping copying extension to C:\\Users\\i574n/.vscode/extensions\r\n",
      "Skipping copying extension to C:\\Users\\i574n/scoop/persist/vscode/data/extensions\r\n",
      "Copying extension to C:\\Users\\i574n\\scoop\\persist\\vscode-insiders\\data\\extensions\\i574n.spiral-lang-vscode-i574n-2.15.12\r\n"
     ]
    }
   ],
   "source": [
    "{ . \"$ScriptDir/dep_spiral_extension.ps1\" } | Invoke-Block -OnError Continue"
   ]
  },
  {
   "cell_type": "code",
   "execution_count": null,
   "metadata": {
    "dotnet_interactive": {
     "language": "pwsh"
    },
    "polyglot_notebook": {
     "kernelName": "pwsh"
    }
   },
   "outputs": [
    {
     "name": "stdout",
     "output_type": "stream",
     "text": [
      "\u001B[31;1mfatal: destination path 'Fable' already exists and is not an empty directory.\u001B[0m\r\n",
      "\u001B[31;1mfatal: unable to access 'https://github.com/i574n/Fable.git/': Could not resolve host: github.com\u001B[0m\r\n",
      "\n",
      "# Invoke-Block / $retry: 1/1 / $Location: Fable / Get-Location: C:\\home\\git\\polyglot\\deps\\Fable / $OnError: Continue / $exitcode: 1 / $Error: '' / $ScriptBlock:\n",
      "'git pull'\n",
      "\r\n",
      "Tool path: C:\\Users\\i574n\\.nuget\\packages\\fable\\5.0.0-alpha.9\\tools\\net8.0\\any\r\n",
      "  Determining projects to restore...\r\n",
      "  All projects are up-to-date for restore.\r\n",
      "  Rust.AST -> C:\\home\\git\\polyglot\\deps\\Fable\\src\\Fable.Transforms\\Rust\\AST\\bin\\Release\\netstandard2.0\\Rust.AST.dll\r\n",
      "  Fable.AST -> C:\\home\\git\\polyglot\\deps\\Fable\\src\\Fable.AST\\bin\\Release\\netstandard2.0\\Fable.AST.dll\r\n",
      "  Fable.Transforms -> C:\\home\\git\\polyglot\\deps\\Fable\\src\\Fable.Transforms\\bin\\Release\\netstandard2.0\\Fable.Transforms.dll\r\n",
      "  Fable.Compiler -> C:\\home\\git\\polyglot\\deps\\Fable\\src\\Fable.Compiler\\bin\\Release\\net9.0\\Fable.Compiler.dll\r\n",
      "  Fable.Cli -> C:\\home\\git\\polyglot\\deps\\Fable\\src\\Fable.Cli\\bin\\Release\\net9.0\\fable.dll\r\n",
      "\r\n",
      "Build succeeded.\r\n",
      "    0 Warning(s)\r\n",
      "    0 Error(s)\r\n",
      "\r\n",
      "Time Elapsed 00:00:05.34\r\n",
      "\r\n",
      "Workload updates are available. Run `dotnet workload list` for more information.\r\n",
      "fable.dll path: C:\\home\\git\\polyglot\\deps\\Fable\\src\\Fable.Cli\\bin\\Release\\net9.0\\fable.dll\r\n",
      "Lib path: C:\\Users\\i574n\\.nuget\\packages\\fable.core\\4.3.0\\lib\\netstandard2.0\r\n",
      "  Determining projects to restore...\r\n",
      "C:\\home\\git\\polyglot\\deps\\Fable\\src\\Fable.Core\\Fable.Core.fsproj : warning NU1900: Error occurred while getting package vulnerability data: Unable to load the service index for source https://api.nuget.org/v3/index.json.\r\n",
      "  Restored C:\\home\\git\\polyglot\\deps\\Fable\\src\\Fable.Core\\Fable.Core.fsproj (in 5.86 sec).\r\n",
      "C:\\home\\git\\polyglot\\deps\\Fable\\src\\Fable.Core\\Fable.Core.fsproj : warning NU1900: Error occurred while getting package vulnerability data: Unable to load the service index for source https://api.nuget.org/v3/index.json.\r\n",
      "  Fable.Core -> C:\\home\\git\\polyglot\\deps\\Fable\\src\\Fable.Core\\bin\\Release\\netstandard2.0\\Fable.Core.dll\r\n",
      "\r\n",
      "Build succeeded.\r\n",
      "\r\n",
      "C:\\home\\git\\polyglot\\deps\\Fable\\src\\Fable.Core\\Fable.Core.fsproj : warning NU1900: Error occurred while getting package vulnerability data: Unable to load the service index for source https://api.nuget.org/v3/index.json.\r\n",
      "C:\\home\\git\\polyglot\\deps\\Fable\\src\\Fable.Core\\Fable.Core.fsproj : warning NU1900: Error occurred while getting package vulnerability data: Unable to load the service index for source https://api.nuget.org/v3/index.json.\r\n",
      "    2 Warning(s)\r\n",
      "    0 Error(s)\r\n",
      "\r\n",
      "Time Elapsed 00:00:11.77\r\n",
      "\r\n",
      "Workload updates are available. Run `dotnet workload list` for more information.\r\n",
      "Fable 5.0.0-alpha.9: F# to TypeScript compiler\r\n",
      "Minimum @fable-org/fable-library-ts version (when installed from npm): 1.10.0\r\n",
      "\r\n",
      "Thanks to the contributor! @hensou\r\n",
      "Stand with Ukraine! https://standwithukraine.com.ua/\r\n",
      "\r\n",
      "Parsing fable-library-typescript.fsproj...\r\n",
      "Project and references (1 source files) parsed in 145315ms\r\n",
      "\r\n",
      "Started Fable compilation...\r\n",
      "\r\n",
      "Fable compilation finished in 633ms\r\n",
      "\r\n",
      "Fable 5.0.0-alpha.9: F# to TypeScript compiler\r\n",
      "Minimum @fable-org/fable-library-ts version (when installed from npm): 1.10.0\r\n",
      "\r\n",
      "Thanks to the contributor! @valery-vitko\r\n",
      "Stand with Ukraine! https://standwithukraine.com.ua/\r\n",
      "\r\n",
      "Parsing ..\\..\\..\\deps\\Fable\\src\\fable-library-ts\\Fable.Library.TypeScript.fsproj...\r\n",
      "\u001B[31;1mUnhandled exception. System.AggregateException: One or more errors occurred. (In C:\\Users\\i574n:\u001B[0m\r\n",
      "\u001B[31;1mdotnet msbuild C:\\home\\git\\polyglot\\deps\\Fable\\src\\fable-library-ts\\Fable.Library.TypeScript.fsproj /restore /t:ResolveAssemblyReferencesDesignTime,ResolveProjectReferencesDesignTime,ResolvePackageDependenciesDesignTime,FindReferenceAssembliesForReferences,_GenerateCompileDependencyCache,_ComputeNonExistentFileProperty,BeforeBuild,BeforeCompile,CoreCompile /p:Fable=True /p:Configuration=Release /p:TargetFramework=net9.0 /p:DesignTimeBuild=True /p:SkipCompilerExecution=True /p:ProvideCommandLineArgs=True /p:RestoreUseStaticGraphEvaluation=False /p:RestoreLockedMode=false /p:RestorePackagesWithLockFile=false  /p:NuGetLockFilePath=Fable.lock /p:NonExistentFile=\"__NonExistentSubDir__\\__NonExistentFile__\" --getItem:FscCommandLineArgs --getItem:ProjectReference --getProperty:OutputType -warnAsMessage:NU1608\u001B[0m\r\n",
      "\u001B[31;1mfailed with\u001B[0m\r\n",
      "\u001B[31;1mC:\\home\\git\\polyglot\\deps\\Fable\\src\\Fable.Core\\Fable.Core.fsproj : warning NU1900: Error occurred while getting package vulnerability data: Unable to load the service index for source https://api.nuget.org/v3/index.json. [C:\\home\\git\\polyglot\\deps\\Fable\\src\\fable-library-ts\\Fable.Library.TypeScript.fsproj]\u001B[0m\r\n",
      "\u001B[31;1m)\u001B[0m\r\n",
      "\u001B[31;1m ---> System.Exception: In C:\\Users\\i574n:\u001B[0m\r\n",
      "\u001B[31;1mdotnet msbuild C:\\home\\git\\polyglot\\deps\\Fable\\src\\fable-library-ts\\Fable.Library.TypeScript.fsproj /restore /t:ResolveAssemblyReferencesDesignTime,ResolveProjectReferencesDesignTime,ResolvePackageDependenciesDesignTime,FindReferenceAssembliesForReferences,_GenerateCompileDependencyCache,_ComputeNonExistentFileProperty,BeforeBuild,BeforeCompile,CoreCompile /p:Fable=True /p:Configuration=Release /p:TargetFramework=net9.0 /p:DesignTimeBuild=True /p:SkipCompilerExecution=True /p:ProvideCommandLineArgs=True /p:RestoreUseStaticGraphEvaluation=False /p:RestoreLockedMode=false /p:RestorePackagesWithLockFile=false  /p:NuGetLockFilePath=Fable.lock /p:NonExistentFile=\"__NonExistentSubDir__\\__NonExistentFile__\" --getItem:FscCommandLineArgs --getItem:ProjectReference --getProperty:OutputType -warnAsMessage:NU1608\u001B[0m\r\n",
      "\u001B[31;1mfailed with\u001B[0m\r\n",
      "\u001B[31;1mC:\\home\\git\\polyglot\\deps\\Fable\\src\\Fable.Core\\Fable.Core.fsproj : warning NU1900: Error occurred while getting package vulnerability data: Unable to load the service index for source https://api.nuget.org/v3/index.json. [C:\\home\\git\\polyglot\\deps\\Fable\\src\\fable-library-ts\\Fable.Library.TypeScript.fsproj]\u001B[0m\r\n",
      "\u001B[31;1m\u001B[0m\r\n",
      "\u001B[31;1m   at Microsoft.FSharp.Core.PrintfModule.PrintFormatToStringThenFail@1448.Invoke(String message)\u001B[0m\r\n",
      "\u001B[31;1m   at Microsoft.FSharp.Core.PrintfModule.gprintf[a,TState,TResidue,TResult,TPrinter](FSharpFunc`2 envf, PrintfFormat`4 format) in /home/dev/Projects/fsharp/src/FSharp.Core/printf.fs:line 1398\u001B[0m\r\n",
      "\u001B[31;1m   at Fable.Compiler.MSBuildCrackerResolverModule.dotnet_msbuild_with_defines@32.MoveNext() in C:\\home\\git\\polyglot\\deps\\Fable\\src\\Fable.Compiler\\MSBuildCrackerResolver.fs:line 59\u001B[0m\r\n",
      "\u001B[31;1m   --- End of inner exception stack trace ---\u001B[0m\r\n",
      "\u001B[31;1m   at Microsoft.FSharp.Control.AsyncResult`1.Commit() in /home/dev/Projects/fsharp/src/FSharp.Core/async.fs:line 454\u001B[0m\r\n",
      "\u001B[31;1m   at Microsoft.FSharp.Control.AsyncPrimitives.RunImmediate[a](CancellationToken cancellationToken, FSharpAsync`1 computation) in /home/dev/Projects/fsharp/src/FSharp.Core/async.fs:line 1159\u001B[0m\r\n",
      "\u001B[31;1m   at Microsoft.FSharp.Control.AsyncPrimitives.RunSynchronously[T](CancellationToken cancellationToken, FSharpAsync`1 computation, FSharpOption`1 timeout) in /home/dev/Projects/fsharp/src/FSharp.Core/async.fs:line 1165\u001B[0m\r\n",
      "\u001B[31;1m   at Microsoft.FSharp.Control.FSharpAsync.RunSynchronously[T](FSharpAsync`1 computation, FSharpOption`1 timeout, FSharpOption`1 cancellationToken) in /home/dev/Projects/fsharp/src/FSharp.Core/async.fs:line 1515\u001B[0m\r\n",
      "\u001B[31;1m   at Fable.Compiler.ProjectCracker.crackMainProject(ProjectCrackerResolver resolver, CrackerOptions opts) in C:\\home\\git\\polyglot\\deps\\Fable\\src\\Fable.Compiler\\ProjectCracker.fs:line 546\u001B[0m\r\n",
      "\u001B[31;1m   at Fable.Compiler.ProjectCracker.getCrackedProjectsFromMainFsproj(ProjectCrackerResolver resolver, CrackerOptions opts) in C:\\home\\git\\polyglot\\deps\\Fable\\src\\Fable.Compiler\\ProjectCracker.fs:line 582\u001B[0m\r\n",
      "\u001B[31;1m   at Fable.Compiler.ProjectCracker.getCrackedProjects(ProjectCrackerResolver resolver, CrackerOptions opts) in C:\\home\\git\\polyglot\\deps\\Fable\\src\\Fable.Compiler\\ProjectCracker.fs:line 602\u001B[0m\r\n",
      "\u001B[31;1m   at Fable.Compiler.ProjectCracker.retry@613.Invoke(Unit unitVar0) in C:\\home\\git\\polyglot\\deps\\Fable\\src\\Fable.Compiler\\ProjectCracker.fs:line 614\u001B[0m\r\n",
      "\u001B[31;1m   at Fable.Compiler.ProjectCracker.getFullProjectOpts(ProjectCrackerResolver resolver, CrackerOptions opts) in C:\\home\\git\\polyglot\\deps\\Fable\\src\\Fable.Compiler\\ProjectCracker.fs:line 921\u001B[0m\r\n",
      "\u001B[31;1m   at Fable.Compiler.Util.Performance.measure[a](FSharpFunc`2 f) in C:\\home\\git\\polyglot\\deps\\Fable\\src\\Fable.Compiler\\Util.fs:line 835\u001B[0m\r\n",
      "\u001B[31;1m   at Fable.Cli.Main.ProjectCracked.Init(CliArgs cliArgs, Boolean useMSBuildForCracking, FSharpOption`1 evaluateOnly) in C:\\home\\git\\polyglot\\deps\\Fable\\src\\Fable.Cli\\Main.fs:line 373\u001B[0m\r\n",
      "\u001B[31;1m   at Fable.Cli.Main.compilationCycle@1001.Invoke(Unit unitVar) in C:\\home\\git\\polyglot\\deps\\Fable\\src\\Fable.Cli\\Main.fs:line 1011\u001B[0m\r\n",
      "\u001B[31;1m   at Microsoft.FSharp.Control.AsyncPrimitives.CallThenInvoke[T,TResult](AsyncActivation`1 ctxt, TResult result1, FSharpFunc`2 part2) in /home/dev/Projects/fsharp/src/FSharp.Core/async.fs:line 510\u001B[0m\r\n",
      "\u001B[31;1m   at Microsoft.FSharp.Control.Trampoline.Execute(FSharpFunc`2 firstAction) in /home/dev/Projects/fsharp/src/FSharp.Core/async.fs:line 112\u001B[0m\r\n",
      "\u001B[31;1m--- End of stack trace from previous location ---\u001B[0m\r\n",
      "\u001B[31;1m   at Microsoft.FSharp.Control.AsyncResult`1.Commit() in /home/dev/Projects/fsharp/src/FSharp.Core/async.fs:line 454\u001B[0m\r\n",
      "\u001B[31;1m   at Microsoft.FSharp.Control.AsyncPrimitives.QueueAsyncAndWaitForResultSynchronously[a](CancellationToken token, FSharpAsync`1 computation, FSharpOption`1 timeout) in /home/dev/Projects/fsharp/src/FSharp.Core/async.fs:line 1139\u001B[0m\r\n",
      "\u001B[31;1m   at Microsoft.FSharp.Control.AsyncPrimitives.RunSynchronously[T](CancellationToken cancellationToken, FSharpAsync`1 computation, FSharpOption`1 timeout) in /home/dev/Projects/fsharp/src/FSharp.Core/async.fs:line 1166\u001B[0m\r\n",
      "\u001B[31;1m   at Microsoft.FSharp.Control.FSharpAsync.RunSynchronously[T](FSharpAsync`1 computation, FSharpOption`1 timeout, FSharpOption`1 cancellationToken) in /home/dev/Projects/fsharp/src/FSharp.Core/async.fs:line 1515\u001B[0m\r\n",
      "\u001B[31;1m   at Fable.Cli.Entry.Runner.startCompilation@390.Invoke(Unit unitVar0) in C:\\home\\git\\polyglot\\deps\\Fable\\src\\Fable.Cli\\Entry.fs:line 390\u001B[0m\r\n",
      "\u001B[31;1m   at Fable.Cli.Entry.Runner.Run@300-4.Invoke(Unit _arg5) in C:\\home\\git\\polyglot\\deps\\Fable\\src\\Fable.Cli\\Entry.fs:line 394\u001B[0m\r\n",
      "\u001B[31;1m   at Fable.Cli.Entry.main@533-2.Invoke(Tuple`2 _arg2) in C:\\home\\git\\polyglot\\deps\\Fable\\src\\Fable.Cli\\Entry.fs:line 539\u001B[0m\r\n",
      "\u001B[31;1m   at Fable.Cli.Entry.main(String[] argv) in C:\\home\\git\\polyglot\\deps\\Fable\\src\\Fable.Cli\\Entry.fs:line 531\u001B[0m\r\n",
      "\r\n",
      "# Invoke-Block / $retry: 1/1 / $Location:  / Get-Location: C:\\home\\git\\polyglot\\lib\\typescript\\fable / $OnError: Continue / $exitcode: -532462766 / $Error: '' / $ScriptBlock:\r\n",
      "'dotnet fable ../../../deps/Fable/src/fable-library-ts/Fable.Library.TypeScript.fsproj --lang ts --extension .ts --noCache'\r\n",
      "\r\n",
      "Fable 5.0.0-alpha.9: F# to Python compiler (status: beta)\r\n",
      "\r\n",
      "Thanks to the contributor! @coolya\r\n",
      "Stand with Ukraine! https://standwithukraine.com.ua/\r\n",
      "\r\n",
      "Parsing fable-library-python.fsproj...\r\n",
      "Project and references (1 source files) parsed in 2062ms\r\n",
      "\r\n",
      "Started Fable compilation...\r\n",
      "\r\n",
      "Fable compilation finished in 534ms\r\n",
      "\r\n"
     ]
    }
   ],
   "source": [
    "{ . \"$ScriptDir/dep_fable.ps1\" } | Invoke-Block"
   ]
  },
  {
   "cell_type": "code",
   "execution_count": null,
   "metadata": {
    "dotnet_interactive": {
     "language": "pwsh"
    },
    "polyglot_notebook": {
     "kernelName": "pwsh"
    }
   },
   "outputs": [],
   "source": [
    "if (!(Test-Path ../deps/hyperui/.next/package.json)) {\n",
    "    { . \"$ScriptDir/dep_hyperui.ps1\" } | Invoke-Block\n",
    "}"
   ]
  }
 ],
 "metadata": {},
 "nbformat": 4,
 "nbformat_minor": 5
}