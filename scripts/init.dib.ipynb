{
 "cells": [
  {
   "cell_type": "code",
   "execution_count": null,
   "metadata": {
    "dotnet_interactive": {
     "language": "pwsh"
    },
    "polyglot_notebook": {
     "kernelName": "pwsh"
    }
   },
   "outputs": [],
   "source": [
    ". ./nbs_header.ps1\n",
    ". ./core.ps1"
   ]
  },
  {
   "cell_type": "code",
   "execution_count": null,
   "metadata": {
    "dotnet_interactive": {
     "language": "pwsh"
    },
    "polyglot_notebook": {
     "kernelName": "pwsh"
    }
   },
   "outputs": [],
   "source": [
    "# rustup +nightly component add clippy rust-src rustfmt"
   ]
  },
  {
   "cell_type": "code",
   "execution_count": null,
   "metadata": {
    "dotnet_interactive": {
     "language": "pwsh"
    },
    "polyglot_notebook": {
     "kernelName": "pwsh"
    }
   },
   "outputs": [],
   "source": [
    "# rustup +nightly target add wasm32-unknown-unknown"
   ]
  },
  {
   "cell_type": "code",
   "execution_count": null,
   "metadata": {
    "dotnet_interactive": {
     "language": "pwsh"
    },
    "polyglot_notebook": {
     "kernelName": "pwsh"
    }
   },
   "outputs": [
    {
     "name": "stdout",
     "output_type": "stream",
     "text": [
      "\u001B[31;1minfo: syncing channel updates for 'stable-x86_64-pc-windows-msvc'\u001B[0m\r\n",
      "\u001B[31;1minfo: syncing channel updates for 'nightly-x86_64-pc-windows-msvc'\u001B[0m\r\n",
      "\u001B[31;1minfo: latest update on 2023-11-15, rust version 1.76.0-nightly (dd430bc8c 2023-11-14)\u001B[0m\r\n",
      "\u001B[31;1minfo: downloading component 'rust-std' for 'wasm32-unknown-unknown'\u001B[0m\r\n",
      "\u001B[31;1minfo: downloading component 'rust-src'\u001B[0m\r\n",
      "\u001B[31;1minfo: downloading component 'cargo'\u001B[0m\r\n",
      "\u001B[31;1minfo: downloading component 'clippy'\u001B[0m\r\n",
      "\u001B[31;1minfo: downloading component 'rust-docs'\u001B[0m\r\n",
      "\u001B[31;1minfo: downloading component 'rust-std'\u001B[0m\r\n",
      "\u001B[31;1minfo: downloading component 'rustc'\u001B[0m\r\n",
      "\u001B[31;1minfo: downloading component 'rustfmt'\u001B[0m\r\n",
      "\u001B[31;1minfo: removing previous version of component 'rust-std' for 'wasm32-unknown-unknown'\u001B[0m\r\n",
      "\u001B[31;1mwarning: during uninstall component rust-std was not found\u001B[0m\r\n",
      "\u001B[31;1minfo: removing previous version of component 'rust-src'\u001B[0m\r\n",
      "\u001B[31;1mwarning: during uninstall component rust-src was not found\u001B[0m\r\n",
      "\u001B[31;1minfo: removing previous version of component 'cargo'\u001B[0m\r\n",
      "\u001B[31;1minfo: removing previous version of component 'clippy'\u001B[0m\r\n",
      "\u001B[31;1minfo: removing previous version of component 'rust-docs'\u001B[0m\r\n",
      "\u001B[31;1minfo: removing previous version of component 'rust-std'\u001B[0m\r\n",
      "\u001B[31;1minfo: removing previous version of component 'rustc'\u001B[0m\r\n",
      "\u001B[31;1minfo: removing previous version of component 'rustfmt'\u001B[0m\r\n",
      "\u001B[31;1minfo: installing component 'rust-std' for 'wasm32-unknown-unknown'\u001B[0m\r\n",
      "\u001B[31;1minfo: installing component 'rust-src'\u001B[0m\r\n",
      "\u001B[31;1minfo: rolling back changes\u001B[0m\r\n",
      "\u001B[31;1merror: failed to install component: 'rust-src', detected conflict: 'lib/rustlib\\manifest-rust-src'\u001B[0m\r\n",
      "\u001B[31;1minfo: syncing channel updates for '1.56-x86_64-pc-windows-msvc'\u001B[0m\r\n",
      "\u001B[31;1minfo: checking for self-update\u001B[0m\r\n",
      "\r\n",
      "       stable-x86_64-pc-windows-msvc unchanged - rustc 1.73.0 (cc66ad468 2023-10-03)\r\n",
      "  nightly-x86_64-pc-windows-msvc update failed - rustc 1.73.0-nightly (0e8e857b1 2023-07-16)\r\n",
      "         1.56-x86_64-pc-windows-msvc unchanged - rustc 1.56.1 (59eed8a2a 2021-11-01)\r\n",
      "\r\n",
      "\u001B[31;1minfo: cleaning up downloads & tmp directories\u001B[0m\r\n"
     ]
    }
   ],
   "source": [
    "rustup update"
   ]
  },
  {
   "cell_type": "code",
   "execution_count": null,
   "metadata": {
    "dotnet_interactive": {
     "language": "pwsh"
    },
    "polyglot_notebook": {
     "kernelName": "pwsh"
    }
   },
   "outputs": [
    {
     "name": "stdout",
     "output_type": "stream",
     "text": [
      "\u001B[31;1m    Updating crates.io index\u001B[0m\r\n",
      "\u001B[31;1m Downloading crates ...\u001B[0m\r\n",
      "\u001B[31;1m  Downloaded cargo-outdated v0.14.0\u001B[0m\r\n",
      "\u001B[31;1m  Installing cargo-outdated v0.14.0\u001B[0m\r\n",
      "\u001B[31;1m    Updating crates.io index\u001B[0m\r\n",
      "\u001B[31;1m Downloading crates ...\u001B[0m\r\n",
      "\u001B[31;1m  Downloaded gix-prompt v0.5.5\u001B[0m\r\n",
      "\u001B[31;1m  Downloaded gix-traverse v0.25.0\u001B[0m\r\n",
      "\u001B[31;1m  Downloaded crates-io v0.37.0\u001B[0m\r\n",
      "\u001B[31;1m  Downloaded unicode-bom v2.0.3\u001B[0m\r\n",
      "\u001B[31;1m  Downloaded gix-fs v0.1.1\u001B[0m\r\n",
      "\u001B[31;1m  Downloaded tabwriter v1.3.0\u001B[0m\r\n",
      "\u001B[31;1m  Downloaded gix-quote v0.4.7\u001B[0m\r\n",
      "\u001B[31;1m  Downloaded gix-bitmap v0.2.7\u001B[0m\r\n",
      "\u001B[31;1m  Downloaded gix-trace v0.1.3\u001B[0m\r\n",
      "\u001B[31;1m  Downloaded gix-ignore v0.2.0\u001B[0m\r\n",
      "\u001B[31;1m  Downloaded gix-command v0.2.10\u001B[0m\r\n",
      "\u001B[31;1m  Downloaded faster-hex v0.8.1\u001B[0m\r\n",
      "\u001B[31;1m  Downloaded gix-hashtable v0.2.4\u001B[0m\r\n",
      "\u001B[31;1m  Downloaded gix-utils v0.1.5\u001B[0m\r\n",
      "\u001B[31;1m  Downloaded ordered-float v2.10.1\u001B[0m\r\n",
      "\u001B[31;1m  Downloaded gix-mailmap v0.12.0\u001B[0m\r\n",
      "\u001B[31;1m  Downloaded globset v0.4.13\u001B[0m\r\n",
      "\u001B[31;1m  Downloaded gix-sec v0.8.4\u001B[0m\r\n",
      "\u001B[31;1m  Downloaded cargo-util v0.2.6\u001B[0m\r\n",
      "\u001B[31;1m  Downloaded primeorder v0.13.3\u001B[0m\r\n",
      "\u001B[31;1m  Downloaded gix-chunk v0.4.4\u001B[0m\r\n",
      "\u001B[31;1m  Downloaded strum_macros v0.25.3\u001B[0m\r\n",
      "\u001B[31;1m  Downloaded gix-config-value v0.12.5\u001B[0m\r\n",
      "\u001B[31;1m  Downloaded kstring v2.0.0\u001B[0m\r\n",
      "\u001B[31;1m  Downloaded gix-validate v0.7.7\u001B[0m\r\n",
      "\u001B[31;1m  Downloaded env_logger v0.10.1\u001B[0m\r\n",
      "\u001B[31;1m  Downloaded gix-revision v0.13.0\u001B[0m\r\n",
      "\u001B[31;1m  Downloaded gix-packetline v0.16.7\u001B[0m\r\n",
      "\u001B[31;1m  Downloaded gix-tempfile v5.0.3\u001B[0m\r\n",
      "\u001B[31;1m  Downloaded gix-path v0.8.4\u001B[0m\r\n",
      "\u001B[31;1m  Downloaded crypto-bigint v0.5.4\u001B[0m\r\n",
      "\u001B[31;1m  Downloaded gix-protocol v0.32.0\u001B[0m\r\n",
      "\u001B[31;1m  Downloaded gix-worktree v0.17.1\u001B[0m\r\n",
      "\u001B[31;1m  Downloaded gix-pack v0.35.0\u001B[0m\r\n",
      "\u001B[31;1m  Downloaded orion v0.17.6\u001B[0m\r\n",
      "\u001B[31;1m  Downloaded bstr v1.8.0\u001B[0m\r\n",
      "\u001B[31;1m  Downloaded gix-odb v0.45.0\u001B[0m\r\n",
      "\u001B[31;1m  Downloaded gix-config v0.22.0\u001B[0m\r\n",
      "\u001B[31;1m  Downloaded gix-glob v0.7.0\u001B[0m\r\n",
      "\u001B[31;1m  Downloaded gix-attributes v0.12.0\u001B[0m\r\n",
      "\u001B[31;1m  Downloaded gix-hash v0.11.4\u001B[0m\r\n",
      "\u001B[31;1m  Downloaded gix-url v0.18.0\u001B[0m\r\n",
      "\u001B[31;1m  Downloaded gix-date v0.5.1\u001B[0m\r\n",
      "\u001B[31;1m  Downloaded gix-object v0.29.2\u001B[0m\r\n",
      "\u001B[31;1m  Downloaded libnghttp2-sys v0.1.8+1.55.1\u001B[0m\r\n",
      "\u001B[31;1m  Downloaded cargo v0.72.2\u001B[0m\r\n",
      "\u001B[31;1m  Downloaded gix-features v0.29.0\u001B[0m\r\n",
      "\u001B[31;1m  Downloaded gix v0.44.1\u001B[0m\r\n",
      "\u001B[31;1m  Downloaded gix-transport v0.31.0\u001B[0m\r\n",
      "\u001B[31;1m  Downloaded gix-refspec v0.10.1\u001B[0m\r\n",
      "\u001B[31;1m  Downloaded gix-discover v0.18.1\u001B[0m\r\n",
      "\u001B[31;1m  Downloaded fiat-crypto v0.2.4\u001B[0m\r\n",
      "\u001B[31;1m  Downloaded miow v0.6.0\u001B[0m\r\n",
      "\u001B[31;1m  Downloaded gix-lock v5.0.1\u001B[0m\r\n",
      "\u001B[31;1m  Downloaded gix-diff v0.29.0\u001B[0m\r\n",
      "\u001B[31;1m  Downloaded gix-index v0.16.1\u001B[0m\r\n",
      "\u001B[31;1m  Downloaded gix-credentials v0.14.0\u001B[0m\r\n",
      "\u001B[31;1m  Downloaded curl-sys v0.4.68+curl-8.4.0\u001B[0m\r\n",
      "\u001B[31;1m  Downloaded gix-ref v0.29.1\u001B[0m\r\n",
      "\u001B[31;1m  Downloaded gix-actor v0.20.0\u001B[0m\r\n",
      "\u001B[31;1m   Compiling proc-macro2 v1.0.69\u001B[0m\r\n",
      "\u001B[31;1m   Compiling unicode-ident v1.0.12\u001B[0m\r\n",
      "\u001B[31;1m   Compiling windows_x86_64_msvc v0.48.5\u001B[0m\r\n",
      "\u001B[31;1m   Compiling cfg-if v1.0.0\u001B[0m\r\n",
      "\u001B[31;1m   Compiling jobserver v0.1.27\u001B[0m\r\n",
      "\u001B[31;1m   Compiling pkg-config v0.3.27\u001B[0m\r\n",
      "\u001B[31;1m   Compiling vcpkg v0.2.15\u001B[0m\r\n",
      "\u001B[31;1m   Compiling autocfg v1.1.0\u001B[0m\r\n",
      "\u001B[31;1m   Compiling memchr v2.6.4\u001B[0m\r\n",
      "\u001B[31;1m   Compiling winapi v0.3.9\u001B[0m\r\n",
      "\u001B[31;1m   Compiling cc v1.0.83\u001B[0m\r\n",
      "\u001B[31;1m   Compiling thiserror v1.0.50\u001B[0m\r\n",
      "\u001B[31;1m   Compiling windows-targets v0.48.5\u001B[0m\r\n",
      "\u001B[31;1m   Compiling windows-sys v0.48.0\u001B[0m\r\n",
      "\u001B[31;1m   Compiling libc v0.2.150\u001B[0m\r\n",
      "\u001B[31;1m   Compiling aho-corasick v1.1.2\u001B[0m\r\n",
      "\u001B[31;1m   Compiling quote v1.0.33\u001B[0m\r\n",
      "\u001B[31;1m   Compiling regex-syntax v0.8.2\u001B[0m\r\n",
      "\u001B[31;1m   Compiling syn v2.0.39\u001B[0m\r\n",
      "\u001B[31;1m   Compiling once_cell v1.18.0\u001B[0m\r\n",
      "\u001B[31;1m   Compiling crc32fast v1.3.2\u001B[0m\r\n",
      "\u001B[31;1m   Compiling version_check v0.9.4\u001B[0m\r\n",
      "\u001B[31;1m   Compiling lock_api v0.4.11\u001B[0m\r\n",
      "\u001B[31;1m   Compiling parking_lot_core v0.9.9\u001B[0m\r\n",
      "\u001B[31;1m   Compiling smallvec v1.11.2\u001B[0m\r\n",
      "\u001B[31;1m   Compiling scopeguard v1.2.0\u001B[0m\r\n",
      "\u001B[31;1m   Compiling libz-sys v1.1.12\u001B[0m\r\n",
      "\u001B[31;1m   Compiling parking_lot v0.12.1\u001B[0m\r\n",
      "\u001B[31;1m   Compiling hex v0.4.3\u001B[0m\r\n",
      "\u001B[31;1m   Compiling regex-automata v0.4.3\u001B[0m\r\n",
      "\u001B[31;1m   Compiling crossbeam-utils v0.8.16\u001B[0m\r\n",
      "\u001B[31;1m   Compiling adler v1.0.2\u001B[0m\r\n",
      "\u001B[31;1m   Compiling winapi-util v0.1.6\u001B[0m\r\n",
      "\u001B[31;1m   Compiling miniz_oxide v0.7.1\u001B[0m\r\n",
      "\u001B[31;1m   Compiling same-file v1.0.6\u001B[0m\r\n",
      "\u001B[31;1m   Compiling walkdir v2.4.0\u001B[0m\r\n",
      "\u001B[31;1m   Compiling crossbeam-channel v0.5.8\u001B[0m\r\n",
      "\u001B[31;1m   Compiling prodash v23.1.2\u001B[0m\r\n",
      "\u001B[31;1m   Compiling num-traits v0.2.17\u001B[0m\r\n",
      "\u001B[31;1m   Compiling bytes v1.5.0\u001B[0m\r\n",
      "\u001B[31;1m   Compiling bstr v1.8.0\u001B[0m\r\n",
      "\u001B[31;1m   Compiling sha1_smol v1.0.0\u001B[0m\r\n",
      "\u001B[31;1m   Compiling typenum v1.17.0\u001B[0m\r\n",
      "\u001B[31;1m   Compiling zeroize v1.6.0\u001B[0m\r\n",
      "\u001B[31;1m   Compiling getrandom v0.2.11\u001B[0m\r\n",
      "\u001B[31;1m   Compiling itoa v1.0.9\u001B[0m\r\n",
      "\u001B[31;1m   Compiling serde v1.0.192\u001B[0m\r\n",
      "\u001B[31;1m   Compiling generic-array v0.14.7\u001B[0m\r\n",
      "\u001B[31;1m   Compiling powerfmt v0.2.0\u001B[0m\r\n",
      "\u001B[31;1m   Compiling time-core v0.1.2\u001B[0m\r\n",
      "\u001B[31;1m   Compiling deranged v0.3.9\u001B[0m\r\n",
      "\u001B[31;1m   Compiling time-macros v0.2.15\u001B[0m\r\n",
      "\u001B[31;1m   Compiling home v0.5.5\u001B[0m\r\n",
      "\u001B[31;1m   Compiling gix-trace v0.1.3\u001B[0m\r\n",
      "\u001B[31;1m   Compiling subtle v2.5.0\u001B[0m\r\n",
      "\u001B[31;1m   Compiling minimal-lexical v0.2.1\u001B[0m\r\n",
      "\u001B[31;1m   Compiling const-oid v0.9.5\u001B[0m\r\n",
      "\u001B[31;1m   Compiling btoi v0.4.3\u001B[0m\r\n",
      "\u001B[31;1m   Compiling nom v7.1.3\u001B[0m\r\n",
      "\u001B[31;1m   Compiling bitflags v2.4.1\u001B[0m\r\n",
      "\u001B[31;1m   Compiling rand_core v0.6.4\u001B[0m\r\n",
      "\u001B[31;1m   Compiling thiserror-impl v1.0.50\u001B[0m\r\n",
      "\u001B[31;1m   Compiling serde_derive v1.0.192\u001B[0m\r\n",
      "\u001B[31;1m   Compiling fastrand v2.0.1\u001B[0m\r\n",
      "\u001B[31;1m   Compiling libnghttp2-sys v0.1.8+1.55.1\u001B[0m\r\n",
      "\u001B[31;1m   Compiling crypto-common v0.1.6\u001B[0m\r\n",
      "\u001B[31;1m   Compiling block-buffer v0.10.4\u001B[0m\r\n",
      "\u001B[31;1m   Compiling signal-hook v0.3.17\u001B[0m\r\n",
      "\u001B[31;1m   Compiling tinyvec_macros v0.1.1\u001B[0m\r\n",
      "\u001B[31;1m   Compiling digest v0.10.7\u001B[0m\r\n",
      "\u001B[31;1m   Compiling hashbrown v0.14.2\u001B[0m\r\n",
      "\u001B[31;1m   Compiling tinyvec v1.6.0\u001B[0m\r\n",
      "\u001B[31;1m   Compiling tempfile v3.8.1\u001B[0m\r\n",
      "\u001B[31;1m   Compiling signal-hook-registry v1.4.1\u001B[0m\r\n",
      "\u001B[31;1m   Compiling time v0.3.30\u001B[0m\r\n",
      "\u001B[31;1m   Compiling log v0.4.20\u001B[0m\r\n",
      "\u001B[31;1m   Compiling gix-hash v0.11.4\u001B[0m\r\n",
      "\u001B[31;1m   Compiling gix-path v0.8.4\u001B[0m\r\n",
      "\u001B[31;1m   Compiling gix-validate v0.7.7\u001B[0m\r\n",
      "\u001B[31;1m   Compiling unicode-normalization v0.1.22\u001B[0m\r\n",
      "\u001B[31;1m   Compiling curl-sys v0.4.68+curl-8.4.0\u001B[0m\r\n",
      "\u001B[31;1m   Compiling unicode-bidi v0.3.13\u001B[0m\r\n",
      "\u001B[31;1m   Compiling base64ct v1.6.0\u001B[0m\r\n",
      "\u001B[31;1m   Compiling percent-encoding v2.3.0\u001B[0m\r\n",
      "\u001B[31;1m   Compiling form_urlencoded v1.2.0\u001B[0m\r\n",
      "\u001B[31;1m   Compiling idna v0.4.0\u001B[0m\r\n",
      "\u001B[31;1m   Compiling pem-rfc7468 v0.7.0\u001B[0m\r\n",
      "\u001B[31;1m   Compiling gix-hashtable v0.2.4\u001B[0m\r\n",
      "\u001B[31;1m   Compiling memmap2 v0.5.10\u001B[0m\r\n",
      "\u001B[31;1m   Compiling der v0.7.8\u001B[0m\r\n",
      "\u001B[31;1m   Compiling gix-date v0.5.1\u001B[0m\r\n",
      "\u001B[31;1m   Compiling gix-actor v0.20.0\u001B[0m\r\n",
      "\u001B[31;1m   Compiling url v2.4.1\u001B[0m\r\n",
      "\u001B[31;1m   Compiling hmac v0.12.1\u001B[0m\r\n",
      "\u001B[31;1m   Compiling gix-utils v0.1.5\u001B[0m\r\n",
      "\u001B[31;1m   Compiling libssh2-sys v0.3.0\u001B[0m\r\n",
      "\u001B[31;1m   Compiling ahash v0.8.6\u001B[0m\r\n",
      "\u001B[31;1m   Compiling spki v0.7.2\u001B[0m\r\n",
      "\u001B[31;1m   Compiling windows v0.48.0\u001B[0m\r\n",
      "\u001B[31;1m   Compiling curl v0.4.44\u001B[0m\r\n",
      "\u001B[31;1m   Compiling pkcs8 v0.10.2\u001B[0m\r\n",
      "\u001B[31;1m   Compiling gix-config-value v0.12.5\u001B[0m\r\n",
      "\u001B[31;1m   Compiling gix-quote v0.4.7\u001B[0m\r\n",
      "\u001B[31;1m   Compiling ff v0.13.0\u001B[0m\r\n",
      "\u001B[31;1m   Compiling schannel v0.1.22\u001B[0m\r\n",
      "\u001B[31;1m   Compiling socket2 v0.4.10\u001B[0m\r\n",
      "\u001B[31;1m   Compiling utf8parse v0.2.1\u001B[0m\r\n",
      "\u001B[31;1m   Compiling zerocopy v0.7.26\u001B[0m\r\n",
      "\u001B[31;1m   Compiling base16ct v0.2.0\u001B[0m\r\n",
      "\u001B[31;1m   Compiling hashbrown v0.12.3\u001B[0m\r\n",
      "\u001B[31;1m   Compiling sec1 v0.7.3\u001B[0m\r\n",
      "\u001B[31;1m   Compiling group v0.13.0\u001B[0m\r\n",
      "\u001B[31;1m   Compiling hkdf v0.12.3\u001B[0m\r\n",
      "\u001B[31;1m   Compiling crypto-bigint v0.5.4\u001B[0m\r\n",
      "\u001B[31;1m   Compiling filetime v0.2.22\u001B[0m\r\n",
      "\u001B[31;1m   Compiling gix-command v0.2.10\u001B[0m\r\n",
      "\u001B[31;1m   Compiling libgit2-sys v0.15.2+1.6.4\u001B[0m\r\n",
      "\u001B[31;1m   Compiling cpufeatures v0.2.11\u001B[0m\r\n",
      "\u001B[31;1m   Compiling syn v1.0.109\u001B[0m\r\n",
      "\u001B[31;1m   Compiling unicode-bom v2.0.3\u001B[0m\r\n",
      "\u001B[31;1m   Compiling serde_json v1.0.108\u001B[0m\r\n",
      "\u001B[31;1m   Compiling anyhow v1.0.75\u001B[0m\r\n",
      "\u001B[31;1m   Compiling gix-prompt v0.5.5\u001B[0m\r\n",
      "\u001B[31;1m   Compiling imara-diff v0.1.5\u001B[0m\r\n",
      "\u001B[31;1m   Compiling faster-hex v0.8.1\u001B[0m\r\n",
      "\u001B[31;1m   Compiling elliptic-curve v0.13.6\u001B[0m\r\n",
      "\u001B[31;1m   Compiling regex v1.10.2\u001B[0m\r\n",
      "\u001B[31;1m   Compiling static_assertions v1.1.0\u001B[0m\r\n",
      "\u001B[31;1m   Compiling anstyle v1.0.4\u001B[0m\r\n",
      "\u001B[31;1m   Compiling ryu v1.0.15\u001B[0m\r\n",
      "\u001B[31;1m   Compiling heck v0.4.1\u001B[0m\r\n",
      "\u001B[31;1m   Compiling anstyle-wincon v3.0.1\u001B[0m\r\n",
      "\u001B[31;1m   Compiling kstring v2.0.0\u001B[0m\r\n",
      "\u001B[31;1m   Compiling gix-packetline v0.16.7\u001B[0m\r\n",
      "\u001B[31;1m   Compiling sha2 v0.10.8\u001B[0m\r\n",
      "\u001B[31;1m   Compiling gix-sec v0.8.4\u001B[0m\r\n",
      "\u001B[31;1m   Compiling anstyle-parse v0.2.2\u001B[0m\r\n",
      "\u001B[31;1m   Compiling rfc6979 v0.4.0\u001B[0m\r\n",
      "\u001B[31;1m   Compiling gix-chunk v0.4.4\u001B[0m\r\n",
      "\u001B[31;1m   Compiling gix-bitmap v0.2.7\u001B[0m\r\n",
      "\u001B[31;1m   Compiling signature v2.1.0\u001B[0m\r\n",
      "\u001B[31;1m   Compiling anstyle-query v1.0.0\u001B[0m\r\n",
      "\u001B[31;1m   Compiling clru v0.6.1\u001B[0m\r\n",
      "\u001B[31;1m   Compiling base64 v0.21.5\u001B[0m\r\n",
      "\u001B[31;1m   Compiling equivalent v1.0.1\u001B[0m\r\n",
      "\u001B[31;1m   Compiling rustversion v1.0.14\u001B[0m\r\n",
      "\u001B[31;1m   Compiling colorchoice v1.0.0\u001B[0m\r\n",
      "\u001B[31;1m   Compiling anstream v0.6.4\u001B[0m\r\n",
      "\u001B[31;1m   Compiling indexmap v2.1.0\u001B[0m\r\n",
      "\u001B[31;1m   Compiling ecdsa v0.16.8\u001B[0m\r\n",
      "\u001B[31;1m   Compiling tar v0.4.40\u001B[0m\r\n",
      "\u001B[31;1m   Compiling primeorder v0.13.3\u001B[0m\r\n",
      "\u001B[31;1m   Compiling toml_datetime v0.6.5\u001B[0m\r\n",
      "\u001B[31;1m   Compiling serde_spanned v0.6.4\u001B[0m\r\n",
      "\u001B[31;1m   Compiling tracing-attributes v0.1.27\u001B[0m\r\n",
      "\u001B[31;1m   Compiling bitmaps v2.1.0\u001B[0m\r\n",
      "\u001B[31;1m   Compiling terminal_size v0.3.0\u001B[0m\r\n",
      "\u001B[31;1m   Compiling termcolor v1.4.0\u001B[0m\r\n",
      "\u001B[31;1m   Compiling io-close v0.3.7\u001B[0m\r\n",
      "\u001B[31;1m   Compiling im-rc v15.1.0\u001B[0m\r\n",
      "\u001B[31;1m   Compiling tracing-core v0.1.32\u001B[0m\r\n",
      "\u001B[31;1m   Compiling vte_generate_state_changes v0.1.1\u001B[0m\r\n",
      "\u001B[31;1m   Compiling indexmap v1.9.3\u001B[0m\r\n",
      "\u001B[31;1m   Compiling arc-swap v1.6.0\u001B[0m\r\n",
      "\u001B[31;1m   Compiling dunce v1.0.4\u001B[0m\r\n",
      "\u001B[31;1m   Compiling arrayvec v0.5.2\u001B[0m\r\n",
      "\u001B[31;1m   Compiling ppv-lite86 v0.2.17\u001B[0m\r\n",
      "\u001B[31;1m   Compiling fnv v1.0.7\u001B[0m\r\n",
      "\u001B[31;1m   Compiling winnow v0.5.19\u001B[0m\r\n",
      "\u001B[31;1m   Compiling pin-project-lite v0.2.13\u001B[0m\r\n",
      "\u001B[31;1m   Compiling strsim v0.10.0\u001B[0m\r\n",
      "\u001B[31;1m   Compiling clap_lex v0.6.0\u001B[0m\r\n",
      "\u001B[31;1m   Compiling fiat-crypto v0.2.4\u001B[0m\r\n",
      "\u001B[31;1m   Compiling bitflags v1.3.2\u001B[0m\r\n",
      "\u001B[31;1m   Compiling semver v1.0.20\u001B[0m\r\n",
      "\u001B[31;1m   Compiling rand_chacha v0.3.1\u001B[0m\r\n",
      "\u001B[31;1m   Compiling clap_builder v4.4.8\u001B[0m\r\n",
      "\u001B[31;1m   Compiling vte v0.10.1\u001B[0m\r\n",
      "\u001B[31;1m   Compiling tracing v0.1.40\u001B[0m\r\n",
      "\u001B[31;1m   Compiling globset v0.4.13\u001B[0m\r\n",
      "\u001B[31;1m   Compiling sized-chunks v0.6.5\u001B[0m\r\n",
      "\u001B[31;1m   Compiling p384 v0.13.0\u001B[0m\r\n",
      "\u001B[31;1m   Compiling clap_derive v4.4.7\u001B[0m\r\n",
      "\u001B[31;1m   Compiling toml_edit v0.19.15\u001B[0m\r\n",
      "\u001B[31;1m   Compiling gix-mailmap v0.12.0\u001B[0m\r\n",
      "\u001B[31;1m   Compiling rand_xoshiro v0.6.0\u001B[0m\r\n",
      "\u001B[31;1m   Compiling maybe-async v0.2.7\u001B[0m\r\n",
      "\u001B[31;1m   Compiling ordered-float v2.10.1\u001B[0m\r\n",
      "\u001B[31;1m   Compiling ed25519-compact v2.0.4\u001B[0m\r\n",
      "\u001B[31;1m   Compiling miow v0.6.0\u001B[0m\r\n",
      "\u001B[31;1m   Compiling is-terminal v0.4.9\u001B[0m\r\n",
      "\u001B[31;1m   Compiling thread_local v1.1.7\u001B[0m\r\n",
      "\u001B[31;1m   Compiling lazy_static v1.4.0\u001B[0m\r\n",
      "\u001B[31;1m   Compiling humantime v2.1.0\u001B[0m\r\n",
      "\u001B[31;1m   Compiling ct-codecs v1.1.1\u001B[0m\r\n",
      "\u001B[31;1m   Compiling shell-escape v0.1.5\u001B[0m\r\n",
      "\u001B[31;1m   Compiling either v1.9.0\u001B[0m\r\n",
      "\u001B[31;1m   Compiling unicode-width v0.1.11\u001B[0m\r\n",
      "\u001B[31;1m   Compiling cargo-util v0.2.6\u001B[0m\r\n",
      "\u001B[31;1m   Compiling itertools v0.10.5\u001B[0m\r\n",
      "\u001B[31;1m   Compiling env_logger v0.10.1\u001B[0m\r\n",
      "\u001B[31;1m   Compiling ignore v0.4.20\u001B[0m\r\n",
      "\u001B[31;1m   Compiling clap v4.4.8\u001B[0m\r\n",
      "\u001B[31;1m   Compiling serde-value v0.7.0\u001B[0m\r\n",
      "\u001B[31;1m   Compiling orion v0.17.6\u001B[0m\r\n",
      "\u001B[31;1m   Compiling toml v0.7.8\u001B[0m\r\n",
      "\u001B[31;1m   Compiling strum_macros v0.25.3\u001B[0m\r\n",
      "\u001B[31;1m   Compiling pasetors v0.6.7\u001B[0m\r\n",
      "\u001B[31;1m   Compiling strip-ansi-escapes v0.1.1\u001B[0m\r\n",
      "\u001B[31;1m   Compiling rand v0.8.5\u001B[0m\r\n",
      "\u001B[31;1m   Compiling fwdansi v1.1.0\u001B[0m\r\n",
      "\u001B[31;1m   Compiling rustfix v0.6.1\u001B[0m\r\n",
      "\u001B[31;1m   Compiling cargo-platform v0.1.4\u001B[0m\r\n",
      "\u001B[31;1m   Compiling os_info v3.7.0\u001B[0m\r\n",
      "\u001B[31;1m   Compiling serde_ignored v0.1.9\u001B[0m\r\n",
      "\u001B[31;1m   Compiling sha1 v0.10.6\u001B[0m\r\n",
      "\u001B[31;1m   Compiling opener v0.5.2\u001B[0m\r\n",
      "\u001B[31;1m   Compiling http-auth v0.1.8\u001B[0m\r\n",
      "\u001B[31;1m   Compiling lazycell v1.3.0\u001B[0m\r\n",
      "\u001B[31;1m   Compiling bytesize v1.3.0\u001B[0m\r\n",
      "\u001B[31;1m   Compiling glob v0.3.1\u001B[0m\r\n",
      "\u001B[31;1m   Compiling pathdiff v0.2.1\u001B[0m\r\n",
      "\u001B[31;1m   Compiling unicode-xid v0.2.4\u001B[0m\r\n",
      "\u001B[31;1m   Compiling strum v0.25.0\u001B[0m\r\n",
      "\u001B[31;1m   Compiling tabwriter v1.3.0\u001B[0m\r\n",
      "\u001B[31;1m   Compiling flate2 v1.0.28\u001B[0m\r\n",
      "\u001B[31;1m   Compiling cargo v0.72.2\u001B[0m\r\n",
      "\u001B[31;1m   Compiling gix-features v0.29.0\u001B[0m\r\n",
      "\u001B[31;1m   Compiling gix-object v0.29.2\u001B[0m\r\n",
      "\u001B[31;1m   Compiling gix-fs v0.1.1\u001B[0m\r\n",
      "\u001B[31;1m   Compiling gix-glob v0.7.0\u001B[0m\r\n",
      "\u001B[31;1m   Compiling gix-tempfile v5.0.3\u001B[0m\r\n",
      "\u001B[31;1m   Compiling gix-url v0.18.0\u001B[0m\r\n",
      "\u001B[31;1m   Compiling gix-lock v5.0.1\u001B[0m\r\n",
      "\u001B[31;1m   Compiling gix-traverse v0.25.0\u001B[0m\r\n",
      "\u001B[31;1m   Compiling gix-ref v0.29.1\u001B[0m\r\n",
      "\u001B[31;1m   Compiling gix-credentials v0.14.0\u001B[0m\r\n",
      "\u001B[31;1m   Compiling gix-diff v0.29.0\u001B[0m\r\n",
      "\u001B[31;1m   Compiling gix-index v0.16.1\u001B[0m\r\n",
      "\u001B[31;1m   Compiling gix-revision v0.13.0\u001B[0m\r\n",
      "\u001B[31;1m   Compiling gix-ignore v0.2.0\u001B[0m\r\n",
      "\u001B[31;1m   Compiling gix-pack v0.35.0\u001B[0m\r\n",
      "\u001B[31;1m   Compiling gix-attributes v0.12.0\u001B[0m\r\n",
      "\u001B[31;1m   Compiling gix-config v0.22.0\u001B[0m\r\n",
      "\u001B[31;1m   Compiling gix-worktree v0.17.1\u001B[0m\r\n",
      "\u001B[31;1m   Compiling gix-discover v0.18.1\u001B[0m\r\n",
      "\u001B[31;1m   Compiling gix-refspec v0.10.1\u001B[0m\r\n",
      "\u001B[31;1m   Compiling gix-odb v0.45.0\u001B[0m\r\n",
      "\u001B[31;1m   Compiling gix-transport v0.31.0\u001B[0m\r\n",
      "\u001B[31;1m   Compiling crates-io v0.37.0\u001B[0m\r\n",
      "\u001B[31;1m   Compiling gix-protocol v0.32.0\u001B[0m\r\n",
      "\u001B[31;1m   Compiling gix v0.44.1\u001B[0m\r\n",
      "\u001B[31;1m   Compiling git2 v0.17.2\u001B[0m\r\n",
      "\u001B[31;1m   Compiling git2-curl v0.18.0\u001B[0m\r\n",
      "\u001B[31;1m   Compiling cargo-outdated v0.14.0\u001B[0m\r\n",
      "\u001B[31;1m    Finished release [optimized] target(s) in 10m 40s\u001B[0m\r\n",
      "\u001B[31;1m   Replacing C:\\Users\\i574n\\scoop\\persist\\rustup\\.cargo\\bin\\cargo-outdated.exe\u001B[0m\r\n",
      "\u001B[31;1m    Replaced package `cargo-outdated v0.13.1` with `cargo-outdated v0.14.0` (executable `cargo-outdated.exe`)\u001B[0m\r\n"
     ]
    }
   ],
   "source": [
    "{ cargo +nightly install cargo-outdated } | Invoke-Block -OnError Continue"
   ]
  },
  {
   "cell_type": "code",
   "execution_count": null,
   "metadata": {
    "dotnet_interactive": {
     "language": "pwsh"
    },
    "polyglot_notebook": {
     "kernelName": "pwsh"
    }
   },
   "outputs": [
    {
     "name": "stdout",
     "output_type": "stream",
     "text": [
      "\u001B[31;1m    Updating crates.io index\u001B[0m\r\n",
      "\u001B[31;1m     Ignored package `wasm-pack v0.12.1` is already installed, use --force to override\u001B[0m\r\n"
     ]
    }
   ],
   "source": [
    "{ cargo +nightly install wasm-pack } | Invoke-Block -OnError Continue"
   ]
  },
  {
   "cell_type": "code",
   "execution_count": null,
   "metadata": {
    "dotnet_interactive": {
     "language": "pwsh"
    },
    "polyglot_notebook": {
     "kernelName": "pwsh"
    }
   },
   "outputs": [
    {
     "name": "stdout",
     "output_type": "stream",
     "text": [
      "\u001B[31;1m    Updating crates.io index\u001B[0m\r\n",
      "\u001B[31;1m     Ignored package `trunk v0.17.5` is already installed, use --force to override\u001B[0m\r\n"
     ]
    }
   ],
   "source": [
    "{ cargo +nightly install trunk } | Invoke-Block -OnError Continue"
   ]
  },
  {
   "cell_type": "code",
   "execution_count": null,
   "metadata": {
    "dotnet_interactive": {
     "language": "pwsh"
    },
    "polyglot_notebook": {
     "kernelName": "pwsh"
    }
   },
   "outputs": [
    {
     "name": "stdout",
     "output_type": "stream",
     "text": [
      "\u001B[31;1m    Updating git repository `https://github.com/bram209/leptosfmt.git`\u001B[0m\r\n",
      "\u001B[31;1m     Ignored package `leptosfmt v0.1.17 (https://github.com/bram209/leptosfmt.git#dfc05ea0)` is already installed, use --force to override\u001B[0m\r\n"
     ]
    }
   ],
   "source": [
    "{ cargo +nightly install --git https://github.com/bram209/leptosfmt.git } | Invoke-Block -OnError Continue"
   ]
  },
  {
   "cell_type": "code",
   "execution_count": null,
   "metadata": {
    "dotnet_interactive": {
     "language": "pwsh"
    },
    "polyglot_notebook": {
     "kernelName": "pwsh"
    }
   },
   "outputs": [
    {
     "name": "stdout",
     "output_type": "stream",
     "text": [
      "\r\n",
      "changed 1 package in 6s\r\n"
     ]
    }
   ],
   "source": [
    "npm install -g pnpm"
   ]
  },
  {
   "cell_type": "code",
   "execution_count": null,
   "metadata": {
    "dotnet_interactive": {
     "language": "pwsh"
    },
    "polyglot_notebook": {
     "kernelName": "pwsh"
    }
   },
   "outputs": [
    {
     "name": "stdout",
     "output_type": "stream",
     "text": [
      "\r\n",
      "changed 2 packages in 22s\r\n"
     ]
    }
   ],
   "source": [
    "npm install -g esbuild"
   ]
  },
  {
   "cell_type": "code",
   "execution_count": null,
   "metadata": {
    "dotnet_interactive": {
     "language": "pwsh"
    },
    "polyglot_notebook": {
     "kernelName": "pwsh"
    }
   },
   "outputs": [
    {
     "name": "stdout",
     "output_type": "stream",
     "text": [
      "\r\n",
      "changed 2 packages in 4s\r\n"
     ]
    }
   ],
   "source": [
    "npm install -g @chialab/rna"
   ]
  },
  {
   "cell_type": "code",
   "execution_count": null,
   "metadata": {
    "dotnet_interactive": {
     "language": "pwsh"
    },
    "polyglot_notebook": {
     "kernelName": "pwsh"
    }
   },
   "outputs": [
    {
     "name": "stdout",
     "output_type": "stream",
     "text": [
      "\r\n",
      "changed 24 packages in 26s\r\n"
     ]
    }
   ],
   "source": [
    "npm install -g @chialab/rna-bundler"
   ]
  },
  {
   "cell_type": "code",
   "execution_count": null,
   "metadata": {
    "dotnet_interactive": {
     "language": "pwsh"
    },
    "polyglot_notebook": {
     "kernelName": "pwsh"
    }
   },
   "outputs": [
    {
     "name": "stdout",
     "output_type": "stream",
     "text": [
      "\r\n",
      "added 1 package, and changed 3 packages in 22s\r\n"
     ]
    }
   ],
   "source": [
    "npm install -g @playwright/test@1.38.0-beta-1691778350000"
   ]
  },
  {
   "cell_type": "code",
   "execution_count": null,
   "metadata": {
    "dotnet_interactive": {
     "language": "pwsh"
    },
    "polyglot_notebook": {
     "kernelName": "pwsh"
    }
   },
   "outputs": [
    {
     "name": "stdout",
     "output_type": "stream",
     "text": [
      "\u001B[31;1m╔═══════════════════════════════════════════════════════════════════════════════╗\u001B[0m\r\n",
      "\u001B[31;1m║ WARNING: It looks like you are running 'npx playwright install' without first ║\u001B[0m\r\n",
      "\u001B[31;1m║ installing your project's dependencies.                                       ║\u001B[0m\r\n",
      "\u001B[31;1m║                                                                               ║\u001B[0m\r\n",
      "\u001B[31;1m║ To avoid unexpected behavior, please install your dependencies first, and     ║\u001B[0m\r\n",
      "\u001B[31;1m║ then run Playwright's install command:                                        ║\u001B[0m\r\n",
      "\u001B[31;1m║                                                                               ║\u001B[0m\r\n",
      "\u001B[31;1m║     npm install                                                               ║\u001B[0m\r\n",
      "\u001B[31;1m║     npx playwright install                                                    ║\u001B[0m\r\n",
      "\u001B[31;1m║                                                                               ║\u001B[0m\r\n",
      "\u001B[31;1m║ If your project does not yet depend on Playwright, first install the          ║\u001B[0m\r\n",
      "\u001B[31;1m║ applicable npm package (most commonly @playwright/test), and                  ║\u001B[0m\r\n",
      "\u001B[31;1m║ then run Playwright's install command to download the browsers:               ║\u001B[0m\r\n",
      "\u001B[31;1m║                                                                               ║\u001B[0m\r\n",
      "\u001B[31;1m║     npm install @playwright/test                                              ║\u001B[0m\r\n",
      "\u001B[31;1m║     npx playwright install                                                    ║\u001B[0m\r\n",
      "\u001B[31;1m║                                                                               ║\u001B[0m\r\n",
      "\u001B[31;1m╚═══════════════════════════════════════════════════════════════════════════════╝\u001B[0m\r\n"
     ]
    }
   ],
   "source": [
    "npx -y playwright@1.38.0-beta-1691778350000 install"
   ]
  },
  {
   "cell_type": "code",
   "execution_count": null,
   "metadata": {
    "dotnet_interactive": {
     "language": "pwsh"
    },
    "polyglot_notebook": {
     "kernelName": "pwsh"
    }
   },
   "outputs": [],
   "source": [
    "[Net.ServicePointManager]::SecurityProtocol = [Net.SecurityProtocolType]::Tls12"
   ]
  },
  {
   "cell_type": "code",
   "execution_count": null,
   "metadata": {
    "dotnet_interactive": {
     "language": "pwsh"
    },
    "polyglot_notebook": {
     "kernelName": "pwsh"
    }
   },
   "outputs": [],
   "source": [
    "Install-Module -Name PowerShellGet -Force -AllowClobber -Scope CurrentUser"
   ]
  },
  {
   "cell_type": "code",
   "execution_count": null,
   "metadata": {
    "dotnet_interactive": {
     "language": "pwsh"
    },
    "polyglot_notebook": {
     "kernelName": "pwsh"
    }
   },
   "outputs": [],
   "source": [
    "Set-PSRepository -Name PSGallery -InstallationPolicy Trusted"
   ]
  },
  {
   "cell_type": "code",
   "execution_count": null,
   "metadata": {
    "dotnet_interactive": {
     "language": "pwsh"
    },
    "polyglot_notebook": {
     "kernelName": "pwsh"
    }
   },
   "outputs": [],
   "source": [
    "Install-Module -Name PSToml -Scope CurrentUser"
   ]
  },
  {
   "cell_type": "code",
   "execution_count": null,
   "metadata": {
    "dotnet_interactive": {
     "language": "pwsh"
    },
    "polyglot_notebook": {
     "kernelName": "pwsh"
    }
   },
   "outputs": [
    {
     "name": "stdout",
     "output_type": "stream",
     "text": [
      "Lockfile is up to date, resolution step is skipped\r\n",
      "Progress: resolved 1, reused 0, downloaded 0, added 0\r\n",
      "Packages: +5 -1\r\n",
      "+++++-\r\n",
      "Progress: resolved 1, reused 1, downloaded 0, added 0, done\r\n",
      "\r\n",
      "devDependencies:\r\n",
      "- typescript 5.4.0-dev.20231104\r\n",
      "+ typescript 5.4.0-dev.20231103\r\n",
      "\r\n",
      "Done in 1.6s\r\n"
     ]
    }
   ],
   "source": [
    "{ pnpm -C .. install --frozen-lockfile } | Invoke-Block"
   ]
  },
  {
   "cell_type": "code",
   "execution_count": null,
   "metadata": {
    "dotnet_interactive": {
     "language": "pwsh"
    },
    "polyglot_notebook": {
     "kernelName": "pwsh"
    }
   },
   "outputs": [
    {
     "name": "stdout",
     "output_type": "stream",
     "text": [
      "\u001B[31;1mfatal: destination path 'The-Spiral-Language' already exists and is not an empty directory.\u001B[0m\r\n",
      "Already up to date.\r\n",
      "MSBuild version 17.8.0-preview-23418-03+0125fc9fb for .NET\r\n",
      "  Determining projects to restore...\r\n",
      "  All projects are up-to-date for restore.\r\n",
      "C:\\Program Files\\dotnet\\sdk\\8.0.100-rc.1.23463.5\\Sdks\\Microsoft.NET.Sdk\\targets\\Microsoft.NET.RuntimeIdentifierInference.targets(311,5): message NETSDK1057: You are using a preview version of .NET. See: https://aka.ms/dotnet-support-policy [C:\\home\\git\\polyglot\\deps\\The-Spiral-Language\\The Spiral Language 2\\The Spiral Language 2.fsproj]\r\n",
      "  The Spiral Language 2 -> C:\\home\\git\\polyglot\\deps\\The-Spiral-Language\\The Spiral Language 2\\artifacts\\bin\\The Spiral Language 2\\release\\Spiral.dll\r\n",
      "\r\n",
      "Build succeeded.\r\n",
      "    0 Warning(s)\r\n",
      "    0 Error(s)\r\n",
      "\r\n",
      "Time Elapsed 00:00:01.94\r\n"
     ]
    }
   ],
   "source": [
    "{ . \"$ScriptDir/dep_spiral.ps1\" } | Invoke-Block"
   ]
  },
  {
   "cell_type": "code",
   "execution_count": null,
   "metadata": {
    "dotnet_interactive": {
     "language": "pwsh"
    },
    "polyglot_notebook": {
     "kernelName": "pwsh"
    }
   },
   "outputs": [
    {
     "name": "stdout",
     "output_type": "stream",
     "text": [
      "\r\n",
      "up to date in 6s\r\n",
      "\r\n",
      "32 packages are looking for funding\r\n",
      "  run `npm fund` for details\r\n",
      "Executing prepublish script 'npm run vscode:prepublish'...\r\n",
      "\r\n",
      "> spiral-lang-vscode@2.4.21 vscode:prepublish\r\n",
      "> tsc\r\n",
      "\r\n",
      "This extension consists of 23158 files, out of which 127 are JavaScript files. For performance reasons, you should bundle your extension: https://aka.ms/vscode-bundle-extension . You should also exclude unnecessary files by adding them to your .vscodeignore: https://aka.ms/vscode-vscodeignore\r\n",
      " DONE  Packaged: C:\\home\\git\\polyglot\\deps\\The-Spiral-Language\\VS Code Plugin\\spiral-lang-vscode-2.4.21.vsix (23158 files, 27.71MB)\r\n",
      "Copying extension to C:\\Users\\i574n\\scoop\\persist\\vscode-insiders\\data\\extensions\\mrakgr.spiral-lang-vscode-2.4.21\r\n"
     ]
    }
   ],
   "source": [
    "{ . \"$ScriptDir/dep_spiral_extension.ps1\" } | Invoke-Block"
   ]
  },
  {
   "cell_type": "code",
   "execution_count": null,
   "metadata": {
    "dotnet_interactive": {
     "language": "pwsh"
    },
    "polyglot_notebook": {
     "kernelName": "pwsh"
    }
   },
   "outputs": [
    {
     "name": "stdout",
     "output_type": "stream",
     "text": [
      "\u001B[31;1mfatal: destination path 'Fable' already exists and is not an empty directory.\u001B[0m\r\n",
      "Already up to date.\r\n",
      "Tool path: C:\\Users\\i574n\\.nuget\\packages\\fable\\4.2.1\\tools\\net6.0\\any\r\n",
      "MSBuild version 17.8.0-preview-23418-03+0125fc9fb for .NET\r\n",
      "  Determining projects to restore...\r\n",
      "  All projects are up-to-date for restore.\r\n",
      "C:\\Program Files\\dotnet\\sdk\\8.0.100-rc.1.23463.5\\Sdks\\Microsoft.NET.Sdk\\targets\\Microsoft.NET.RuntimeIdentifierInference.targets(311,5): message NETSDK1057: You are using a preview version of .NET. See: https://aka.ms/dotnet-support-policy [C:\\home\\git\\polyglot\\deps\\Fable\\src\\Fable.Cli\\Fable.Cli.fsproj]\r\n",
      "C:\\Program Files\\dotnet\\sdk\\8.0.100-rc.1.23463.5\\Sdks\\Microsoft.NET.Sdk\\targets\\Microsoft.NET.RuntimeIdentifierInference.targets(311,5): message NETSDK1057: You are using a preview version of .NET. See: https://aka.ms/dotnet-support-policy [C:\\home\\git\\polyglot\\deps\\Fable\\src\\Fable.AST\\Fable.AST.fsproj]\r\n",
      "C:\\Program Files\\dotnet\\sdk\\8.0.100-rc.1.23463.5\\Sdks\\Microsoft.NET.Sdk\\targets\\Microsoft.NET.RuntimeIdentifierInference.targets(311,5): message NETSDK1057: You are using a preview version of .NET. See: https://aka.ms/dotnet-support-policy [C:\\home\\git\\polyglot\\deps\\Fable\\src\\Fable.Transforms\\Rust\\AST\\Rust.AST.fsproj]\r\n",
      "  Fable.AST -> C:\\home\\git\\polyglot\\deps\\Fable\\src\\Fable.AST\\bin\\Release\\netstandard2.0\\Fable.AST.dll\r\n",
      "  Rust.AST -> C:\\home\\git\\polyglot\\deps\\Fable\\src\\Fable.Transforms\\Rust\\AST\\bin\\Release\\netstandard2.0\\Rust.AST.dll\r\n",
      "  Fable.Transforms -> C:\\home\\git\\polyglot\\deps\\Fable\\src\\Fable.Transforms\\bin\\Release\\netstandard2.0\\Fable.Transforms.dll\r\n",
      "  Fable.Cli -> C:\\home\\git\\polyglot\\deps\\Fable\\src\\Fable.Cli\\bin\\Release\\net6.0\\fable.dll\r\n",
      "\r\n",
      "Build succeeded.\r\n",
      "    0 Warning(s)\r\n",
      "    0 Error(s)\r\n",
      "\r\n",
      "Time Elapsed 00:00:58.04\r\n",
      "Lib path: C:\\Users\\i574n\\.nuget\\packages\\fable.core\\4.2.0\\lib\\netstandard2.0\r\n",
      "MSBuild version 17.8.0-preview-23418-03+0125fc9fb for .NET\r\n",
      "  Determining projects to restore...\r\n",
      "  All projects are up-to-date for restore.\r\n",
      "C:\\Program Files\\dotnet\\sdk\\8.0.100-rc.1.23463.5\\Sdks\\Microsoft.NET.Sdk\\targets\\Microsoft.NET.RuntimeIdentifierInference.targets(311,5): message NETSDK1057: You are using a preview version of .NET. See: https://aka.ms/dotnet-support-policy [C:\\home\\git\\polyglot\\deps\\Fable\\src\\Fable.Core\\Fable.Core.fsproj]\r\n",
      "  Fable.Core -> C:\\home\\git\\polyglot\\deps\\Fable\\src\\Fable.Core\\bin\\Release\\netstandard2.0\\Fable.Core.dll\r\n",
      "\r\n",
      "Build succeeded.\r\n",
      "    0 Warning(s)\r\n",
      "    0 Error(s)\r\n",
      "\r\n",
      "Time Elapsed 00:00:05.37\r\n"
     ]
    }
   ],
   "source": [
    "{ . \"$ScriptDir/dep_fable.ps1\" } | Invoke-Block"
   ]
  },
  {
   "cell_type": "code",
   "execution_count": null,
   "metadata": {
    "dotnet_interactive": {
     "language": "pwsh"
    },
    "polyglot_notebook": {
     "kernelName": "pwsh"
    }
   },
   "outputs": [
    {
     "name": "stdout",
     "output_type": "stream",
     "text": [
      "\u001B[31;1mfatal: destination path 'hyperui' already exists and is not an empty directory.\u001B[0m\r\n",
      "Already up to date.\r\n",
      "yarn install v1.22.19\r\n",
      "[1/4] Resolving packages...\r\n",
      "success Already up-to-date.\r\n",
      "Done in 0.45s.\r\n",
      "yarn run v1.22.19\r\n",
      "$ next build\r\n",
      "- info Creating an optimized production build...\r\n",
      "- info Compiled successfully\r\n",
      "- info Linting and checking validity of types...\r\n",
      "- info Collecting page data...\r\n",
      "- info Generating static pages (0/6)\r\n",
      "\u001B[31;1m- warn \u001B[0m\r\n",
      "\u001B[31;1mmetadata.metadataBase is not set for resolving social open graph or twitter images, using \"http://localhost:3000\". See https://nextjs.org/docs/app/api-reference/functions/generate-metadata#metadatabase\u001B[0m\r\n",
      "\u001B[31;1m- warn \u001B[0m\r\n",
      "\u001B[31;1mmetadata.metadataBase is not set for resolving social open graph or twitter images, using \"http://localhost:3000\". See https://nextjs.org/docs/app/api-reference/functions/generate-metadata#metadatabase\u001B[0m\r\n",
      "- info Generating static pages (1/6)\r\n",
      "- info Generating static pages (2/6)\r\n",
      "- info Generating static pages (4/6)\r\n",
      "- info Generating static pages (6/6)\r\n",
      "- info Finalizing page optimization...\r\n",
      "\r\n",
      "Route (app)                                Size     First Load JS\r\n",
      "┌ ○ /                                      181 B          84.5 kB\r\n",
      "├ ● /[components]/[category]               182 B          84.5 kB\r\n",
      "├ ● /[components]/[category]/[collection]  3.55 kB        99.4 kB\r\n",
      "├ ● /about/[slug]                          3.41 kB        81.9 kB\r\n",
      "├ ○ /api/search                            0 B                0 B\r\n",
      "├ ○ /blog                                  181 B          84.5 kB\r\n",
      "├ ● /blog/[slug]                           2.85 kB          93 kB\r\n",
      "└ ○ /sitemap.xml                           0 B                0 B\r\n",
      "+ First Load JS shared by all              78.5 kB\r\n",
      "  ├ chunks/596-ef6f8f5604ac81a7.js         26.1 kB\r\n",
      "  ├ chunks/fd9d1056-ae0ceb7ffa373b0f.js    50.5 kB\r\n",
      "  ├ chunks/main-app-e140771f15cb57c2.js    219 B\r\n",
      "  └ chunks/webpack-dfc3920b6219521e.js     1.74 kB\r\n",
      "\r\n",
      "Route (pages)                              Size     First Load JS\r\n",
      "─ ○ /404                                   182 B          76.6 kB\r\n",
      "+ First Load JS shared by all              76.4 kB\r\n",
      "  ├ chunks/framework-8883d1e9be70c3da.js   45.1 kB\r\n",
      "  ├ chunks/main-9e0ffd36f36951ba.js        29.4 kB\r\n",
      "  ├ chunks/pages/_app-52924524f99094ab.js  195 B\r\n",
      "  └ chunks/webpack-dfc3920b6219521e.js     1.74 kB\r\n",
      "\r\n",
      "○  (Static)  automatically rendered as static HTML (uses no initial props)\r\n",
      "●  (SSG)     automatically generated as static HTML + JSON (uses getStaticProps)\r\n",
      "\r\n",
      "$ yarn css\r\n",
      "$ yarn css:components && yarn css:blogs\r\n",
      "$ npx tailwindcss -i src/styles/components.css -o public/components.css -m\r\n",
      "\u001B[31;1mBrowserslist: caniuse-lite is outdated. Please run:\u001B[0m\r\n",
      "\u001B[31;1m  npx update-browserslist-db@latest\u001B[0m\r\n",
      "\u001B[31;1m  Why you should do it regularly: https://github.com/browserslist/update-db#readme\u001B[0m\r\n",
      "\u001B[31;1m\u001B[0m\r\n",
      "\u001B[31;1mRebuilding...\u001B[0m\r\n",
      "\u001B[31;1m\u001B[0m\r\n",
      "\u001B[31;1mDone in 5625ms.\u001B[0m\r\n",
      "$ npx tailwindcss -i src/styles/blogs.css -o public/blogs.css -m\r\n",
      "\u001B[31;1mBrowserslist: caniuse-lite is outdated. Please run:\u001B[0m\r\n",
      "\u001B[31;1m  npx update-browserslist-db@latest\u001B[0m\r\n",
      "\u001B[31;1m  Why you should do it regularly: https://github.com/browserslist/update-db#readme\u001B[0m\r\n",
      "\u001B[31;1m\u001B[0m\r\n",
      "\u001B[31;1mRebuilding...\u001B[0m\r\n",
      "\u001B[31;1m\u001B[0m\r\n",
      "\u001B[31;1mDone in 769ms.\u001B[0m\r\n",
      "Done in 85.22s.\r\n"
     ]
    }
   ],
   "source": [
    "{ . \"$ScriptDir/dep_hyperui.ps1\" } | Invoke-Block"
   ]
  }
 ],
 "metadata": {},
 "nbformat": 4,
 "nbformat_minor": 5
}