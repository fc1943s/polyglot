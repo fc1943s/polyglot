{
 "cells": [
  {
   "cell_type": "code",
   "execution_count": null,
   "metadata": {
    "dotnet_interactive": {
     "language": "pwsh"
    },
    "polyglot_notebook": {
     "kernelName": "pwsh"
    }
   },
   "outputs": [],
   "source": [
    ". ./nbs_header.ps1\n",
    ". ./core.ps1"
   ]
  },
  {
   "cell_type": "code",
   "execution_count": null,
   "metadata": {
    "dotnet_interactive": {
     "language": "pwsh"
    },
    "polyglot_notebook": {
     "kernelName": "pwsh"
    }
   },
   "outputs": [],
   "source": [
    "# rustup +nightly component add clippy rust-src rustfmt"
   ]
  },
  {
   "cell_type": "code",
   "execution_count": null,
   "metadata": {
    "dotnet_interactive": {
     "language": "pwsh"
    },
    "polyglot_notebook": {
     "kernelName": "pwsh"
    }
   },
   "outputs": [],
   "source": [
    "# rustup +nightly target add wasm32-unknown-unknown"
   ]
  },
  {
   "cell_type": "code",
   "execution_count": null,
   "metadata": {
    "dotnet_interactive": {
     "language": "pwsh"
    },
    "polyglot_notebook": {
     "kernelName": "pwsh"
    }
   },
   "outputs": [
    {
     "name": "stdout",
     "output_type": "stream",
     "text": [
      "\u001B[31;1minfo: syncing channel updates for 'stable-x86_64-pc-windows-msvc'\u001B[0m\r\n",
      "\u001B[31;1minfo: latest update on 2024-02-08, rust version 1.76.0 (07dca489a 2024-02-04)\u001B[0m\r\n",
      "\u001B[31;1minfo: downloading component 'rust-std' for 'wasm32-unknown-unknown'\u001B[0m\r\n",
      "\u001B[31;1minfo: downloading component 'rust-src'\u001B[0m\r\n",
      "\u001B[31;1minfo: downloading component 'cargo'\u001B[0m\r\n",
      "\u001B[31;1minfo: downloading component 'clippy'\u001B[0m\r\n",
      "\u001B[31;1minfo: downloading component 'rust-docs'\u001B[0m\r\n",
      "\u001B[31;1minfo: downloading component 'rust-std'\u001B[0m\r\n",
      "\u001B[31;1minfo: downloading component 'rustc'\u001B[0m\r\n",
      "\u001B[31;1minfo: downloading component 'rustfmt'\u001B[0m\r\n",
      "\u001B[31;1minfo: removing previous version of component 'rust-std' for 'wasm32-unknown-unknown'\u001B[0m\r\n",
      "\u001B[31;1minfo: removing previous version of component 'rust-src'\u001B[0m\r\n",
      "\u001B[31;1minfo: removing previous version of component 'cargo'\u001B[0m\r\n",
      "\u001B[31;1minfo: removing previous version of component 'clippy'\u001B[0m\r\n",
      "\u001B[31;1minfo: removing previous version of component 'rust-docs'\u001B[0m\r\n",
      "\u001B[31;1minfo: removing previous version of component 'rust-std'\u001B[0m\r\n",
      "\u001B[31;1minfo: removing previous version of component 'rustc'\u001B[0m\r\n",
      "\u001B[31;1minfo: removing previous version of component 'rustfmt'\u001B[0m\r\n",
      "\u001B[31;1minfo: installing component 'rust-std' for 'wasm32-unknown-unknown'\u001B[0m\r\n",
      "\u001B[31;1minfo: installing component 'rust-src'\u001B[0m\r\n",
      "\u001B[31;1minfo: installing component 'cargo'\u001B[0m\r\n",
      "\u001B[31;1minfo: installing component 'clippy'\u001B[0m\r\n",
      "\u001B[31;1minfo: installing component 'rust-docs'\u001B[0m\r\n",
      "\u001B[31;1minfo: installing component 'rust-std'\u001B[0m\r\n",
      "\u001B[31;1minfo: installing component 'rustc'\u001B[0m\r\n",
      "\u001B[31;1minfo: installing component 'rustfmt'\u001B[0m\r\n",
      "\u001B[31;1minfo: syncing channel updates for 'nightly-x86_64-pc-windows-msvc'\u001B[0m\r\n",
      "\u001B[31;1minfo: latest update on 2024-02-08, rust version 1.78.0-nightly (8ace7ea1f 2024-02-07)\u001B[0m\r\n",
      "\u001B[31;1minfo: downloading component 'rust-std' for 'wasm32-unknown-unknown'\u001B[0m\r\n",
      "\u001B[31;1minfo: downloading component 'rust-src'\u001B[0m\r\n",
      "\u001B[31;1minfo: downloading component 'cargo'\u001B[0m\r\n",
      "\u001B[31;1minfo: downloading component 'clippy'\u001B[0m\r\n",
      "\u001B[31;1minfo: downloading component 'rust-docs'\u001B[0m\r\n",
      "\u001B[31;1minfo: downloading component 'rust-std'\u001B[0m\r\n",
      "\u001B[31;1minfo: downloading component 'rustc'\u001B[0m\r\n",
      "\u001B[31;1minfo: downloading component 'rustfmt'\u001B[0m\r\n",
      "\u001B[31;1minfo: removing previous version of component 'rust-std' for 'wasm32-unknown-unknown'\u001B[0m\r\n",
      "\u001B[31;1mwarning: during uninstall component rust-std was not found\u001B[0m\r\n",
      "\u001B[31;1minfo: removing previous version of component 'rust-src'\u001B[0m\r\n",
      "\u001B[31;1mwarning: during uninstall component rust-src was not found\u001B[0m\r\n",
      "\u001B[31;1minfo: removing previous version of component 'cargo'\u001B[0m\r\n",
      "\u001B[31;1minfo: removing previous version of component 'clippy'\u001B[0m\r\n",
      "\u001B[31;1minfo: removing previous version of component 'rust-docs'\u001B[0m\r\n",
      "\u001B[31;1minfo: removing previous version of component 'rust-std'\u001B[0m\r\n",
      "\u001B[31;1minfo: removing previous version of component 'rustc'\u001B[0m\r\n",
      "\u001B[31;1minfo: removing previous version of component 'rustfmt'\u001B[0m\r\n",
      "\u001B[31;1minfo: installing component 'rust-std' for 'wasm32-unknown-unknown'\u001B[0m\r\n",
      "\u001B[31;1minfo: installing component 'rust-src'\u001B[0m\r\n",
      "\u001B[31;1minfo: rolling back changes\u001B[0m\r\n",
      "\u001B[31;1merror: failed to install component: 'rust-src', detected conflict: 'lib/rustlib\\manifest-rust-src'\u001B[0m\r\n",
      "\u001B[31;1minfo: syncing channel updates for '1.56-x86_64-pc-windows-msvc'\u001B[0m\r\n",
      "\u001B[31;1minfo: checking for self-update\u001B[0m\r\n",
      "\r\n",
      "         stable-x86_64-pc-windows-msvc updated - rustc 1.76.0 (07dca489a 2024-02-04) (from rustc 1.74.0 (79e9716c9 2023-11-13))\r\n",
      "  nightly-x86_64-pc-windows-msvc update failed - rustc 1.73.0-nightly (0e8e857b1 2023-07-16)\r\n",
      "         1.56-x86_64-pc-windows-msvc unchanged - rustc 1.56.1 (59eed8a2a 2021-11-01)\r\n",
      "\r\n",
      "\u001B[31;1minfo: cleaning up downloads & tmp directories\u001B[0m\r\n"
     ]
    }
   ],
   "source": [
    "rustup update"
   ]
  },
  {
   "cell_type": "code",
   "execution_count": null,
   "metadata": {
    "dotnet_interactive": {
     "language": "pwsh"
    },
    "polyglot_notebook": {
     "kernelName": "pwsh"
    }
   },
   "outputs": [
    {
     "name": "stdout",
     "output_type": "stream",
     "text": [
      "\u001B[31;1m    Updating crates.io index\u001B[0m\r\n",
      "\u001B[31;1m     Ignored package `cargo-outdated v0.14.0` is already installed, use --force to override\u001B[0m\r\n"
     ]
    }
   ],
   "source": [
    "{ cargo +nightly install cargo-outdated } | Invoke-Block -OnError Continue"
   ]
  },
  {
   "cell_type": "code",
   "execution_count": null,
   "metadata": {
    "dotnet_interactive": {
     "language": "pwsh"
    },
    "polyglot_notebook": {
     "kernelName": "pwsh"
    }
   },
   "outputs": [
    {
     "name": "stdout",
     "output_type": "stream",
     "text": [
      "\u001B[31;1m    Updating crates.io index\u001B[0m\r\n",
      "\u001B[31;1m     Ignored package `wasm-pack v0.12.1` is already installed, use --force to override\u001B[0m\r\n"
     ]
    }
   ],
   "source": [
    "{ cargo +nightly install wasm-pack } | Invoke-Block -OnError Continue"
   ]
  },
  {
   "cell_type": "code",
   "execution_count": null,
   "metadata": {
    "dotnet_interactive": {
     "language": "pwsh"
    },
    "polyglot_notebook": {
     "kernelName": "pwsh"
    }
   },
   "outputs": [
    {
     "name": "stdout",
     "output_type": "stream",
     "text": [
      "\u001B[31;1m    Updating crates.io index\u001B[0m\r\n",
      "\u001B[31;1m     Ignored package `trunk v0.18.7` is already installed, use --force to override\u001B[0m\r\n"
     ]
    }
   ],
   "source": [
    "{ cargo +nightly install trunk } | Invoke-Block -OnError Continue"
   ]
  },
  {
   "cell_type": "code",
   "execution_count": null,
   "metadata": {
    "dotnet_interactive": {
     "language": "pwsh"
    },
    "polyglot_notebook": {
     "kernelName": "pwsh"
    }
   },
   "outputs": [
    {
     "name": "stdout",
     "output_type": "stream",
     "text": [
      "\u001B[31;1m    Updating git repository `https://github.com/bram209/leptosfmt.git`\u001B[0m\r\n",
      "\u001B[31;1m  Installing leptosfmt v0.1.18 (https://github.com/bram209/leptosfmt.git#ad499011)\u001B[0m\r\n",
      "\u001B[31;1m    Updating crates.io index\u001B[0m\r\n",
      "\u001B[31;1m    Blocking waiting for file lock on package cache\u001B[0m\r\n",
      "\u001B[31;1m Downloading crates ...\u001B[0m\r\n",
      "\u001B[31;1m  Downloaded strsim v0.11.0\u001B[0m\r\n",
      "\u001B[31;1m  Downloaded rayon-core v1.12.1\u001B[0m\r\n",
      "\u001B[31;1m  Downloaded similar v2.4.0\u001B[0m\r\n",
      "\u001B[31;1m  Downloaded clap_lex v0.7.0\u001B[0m\r\n",
      "\u001B[31;1m  Downloaded console v0.15.8\u001B[0m\r\n",
      "\u001B[31;1m  Downloaded clap_derive v4.5.0\u001B[0m\r\n",
      "\u001B[31;1m  Downloaded clap v4.5.0\u001B[0m\r\n",
      "\u001B[31;1m  Downloaded leptosfmt-prettyplease v0.2.16\u001B[0m\r\n",
      "\u001B[31;1m  Downloaded rayon v1.8.1\u001B[0m\r\n",
      "\u001B[31;1m  Downloaded indexmap v2.2.2\u001B[0m\r\n",
      "\u001B[31;1m  Downloaded winnow v0.5.39\u001B[0m\r\n",
      "\u001B[31;1m  Downloaded anstyle v1.0.6\u001B[0m\r\n",
      "\u001B[31;1m  Downloaded clap_builder v4.5.0\u001B[0m\r\n",
      "\u001B[31;1m  Downloaded libc v0.2.153\u001B[0m\r\n",
      "\u001B[31;1m    Blocking waiting for file lock on package cache\u001B[0m\r\n",
      "\u001B[31;1merror: failed to compile `leptosfmt v0.1.18 (https://github.com/bram209/leptosfmt.git#ad499011)`, intermediate artifacts can be found at `C:\\Users\\i574n\\AppData\\Local\\Temp\\cargo-installVGxC5L`.\u001B[0m\r\n",
      "\u001B[31;1mTo reuse those artifacts with a future compilation, set the environment variable `CARGO_TARGET_DIR` to that path.\u001B[0m\r\n",
      "\u001B[31;1m\u001B[0m\r\n",
      "\u001B[31;1mCaused by:\u001B[0m\r\n",
      "\u001B[31;1m  package `clap_builder v4.5.0` cannot be built because it requires rustc 1.74 or newer, while the currently active rustc version is 1.73.0-nightly\u001B[0m\r\n",
      "\u001B[31;1m  Either upgrade to rustc 1.74 or newer, or use\u001B[0m\r\n",
      "\u001B[31;1m  cargo update -p clap_builder@4.5.0 --precise ver\u001B[0m\r\n",
      "\u001B[31;1m  where `ver` is the latest version of `clap_builder` supporting rustc 1.73.0-nightly\u001B[0m\r\n",
      "\n",
      "# Invoke-Block / $Retry: 1 / $OnError: Continue / $exitcode: 101 / $EnvVars: null / $Error: '' / $ScriptBlock:\n",
      "'cargo +nightly install --git https://github.com/bram209/leptosfmt.git'\n",
      "\r\n"
     ]
    }
   ],
   "source": [
    "{ cargo +nightly install --git https://github.com/bram209/leptosfmt.git } | Invoke-Block -OnError Continue"
   ]
  },
  {
   "cell_type": "code",
   "execution_count": null,
   "metadata": {
    "dotnet_interactive": {
     "language": "pwsh"
    },
    "polyglot_notebook": {
     "kernelName": "pwsh"
    }
   },
   "outputs": [
    {
     "name": "stdout",
     "output_type": "stream",
     "text": [
      "\r\n",
      "changed 1 package in 5s\r\n"
     ]
    }
   ],
   "source": [
    "npm install -g pnpm"
   ]
  },
  {
   "cell_type": "code",
   "execution_count": null,
   "metadata": {
    "dotnet_interactive": {
     "language": "pwsh"
    },
    "polyglot_notebook": {
     "kernelName": "pwsh"
    }
   },
   "outputs": [
    {
     "name": "stdout",
     "output_type": "stream",
     "text": [
      "\r\n",
      "added 2 packages in 13s\r\n"
     ]
    }
   ],
   "source": [
    "npm install -g esbuild"
   ]
  },
  {
   "cell_type": "code",
   "execution_count": null,
   "metadata": {
    "dotnet_interactive": {
     "language": "pwsh"
    },
    "polyglot_notebook": {
     "kernelName": "pwsh"
    }
   },
   "outputs": [
    {
     "name": "stdout",
     "output_type": "stream",
     "text": [
      "\r\n",
      "added 21 packages in 22s\r\n"
     ]
    }
   ],
   "source": [
    "npm install -g @chialab/rna"
   ]
  },
  {
   "cell_type": "code",
   "execution_count": null,
   "metadata": {
    "dotnet_interactive": {
     "language": "pwsh"
    },
    "polyglot_notebook": {
     "kernelName": "pwsh"
    }
   },
   "outputs": [
    {
     "name": "stdout",
     "output_type": "stream",
     "text": [
      "\r\n",
      "added 20 packages in 4s\r\n"
     ]
    }
   ],
   "source": [
    "npm install -g @chialab/rna-bundler"
   ]
  },
  {
   "cell_type": "code",
   "execution_count": null,
   "metadata": {
    "dotnet_interactive": {
     "language": "pwsh"
    },
    "polyglot_notebook": {
     "kernelName": "pwsh"
    }
   },
   "outputs": [
    {
     "name": "stdout",
     "output_type": "stream",
     "text": [
      "\r\n",
      "added 3 packages in 10s\r\n"
     ]
    }
   ],
   "source": [
    "npm install -g @playwright/test@1.40.0"
   ]
  },
  {
   "cell_type": "code",
   "execution_count": null,
   "metadata": {
    "dotnet_interactive": {
     "language": "pwsh"
    },
    "polyglot_notebook": {
     "kernelName": "pwsh"
    }
   },
   "outputs": [],
   "source": [
    "npx -y playwright@1.40.0 install"
   ]
  },
  {
   "cell_type": "code",
   "execution_count": null,
   "metadata": {
    "dotnet_interactive": {
     "language": "pwsh"
    },
    "polyglot_notebook": {
     "kernelName": "pwsh"
    }
   },
   "outputs": [],
   "source": [
    "[Net.ServicePointManager]::SecurityProtocol = [Net.SecurityProtocolType]::Tls12"
   ]
  },
  {
   "cell_type": "code",
   "execution_count": null,
   "metadata": {
    "dotnet_interactive": {
     "language": "pwsh"
    },
    "polyglot_notebook": {
     "kernelName": "pwsh"
    }
   },
   "outputs": [],
   "source": [
    "{ Install-Module -Name PowerShellGet -Force -AllowClobber -Scope CurrentUser } | Invoke-Block -OnError Continue"
   ]
  },
  {
   "cell_type": "code",
   "execution_count": null,
   "metadata": {
    "dotnet_interactive": {
     "language": "pwsh"
    },
    "polyglot_notebook": {
     "kernelName": "pwsh"
    }
   },
   "outputs": [
    {
     "name": "stdout",
     "output_type": "stream",
     "text": [
      "\n",
      "# Invoke-Block / $Retry: 1 / $OnError: Continue / $exitcode: 0 / $EnvVars: null / $Error: 'Cannot find a variable with the name 'PackageManagementProvider'. Cannot find a variable with the name 'SourceLocation'.' / $ScriptBlock:\n",
      "'Set-PSRepository -Name PSGallery -InstallationPolicy Trusted'\n",
      "\r\n"
     ]
    }
   ],
   "source": [
    "{ Set-PSRepository -Name PSGallery -InstallationPolicy Trusted } | Invoke-Block -OnError Continue"
   ]
  },
  {
   "cell_type": "code",
   "execution_count": null,
   "metadata": {
    "dotnet_interactive": {
     "language": "pwsh"
    },
    "polyglot_notebook": {
     "kernelName": "pwsh"
    }
   },
   "outputs": [
    {
     "name": "stdout",
     "output_type": "stream",
     "text": [
      "What if: Performing the operation \"Install-Module\" on target \"Version '0.3.1' of module 'PSToml'\".\r\n"
     ]
    }
   ],
   "source": [
    "{ Install-Module -Name PSToml -Scope CurrentUser -WhatIf } | Invoke-Block -OnError Continue"
   ]
  },
  {
   "cell_type": "code",
   "execution_count": null,
   "metadata": {
    "dotnet_interactive": {
     "language": "pwsh"
    },
    "polyglot_notebook": {
     "kernelName": "pwsh"
    }
   },
   "outputs": [
    {
     "name": "stdout",
     "output_type": "stream",
     "text": [
      "Lockfile is up to date, resolution step is skipped\r\n",
      "Already up to date\r\n",
      "\r\n",
      "Done in 2.7s\r\n"
     ]
    }
   ],
   "source": [
    "{ pnpm -C .. install --frozen-lockfile } | Invoke-Block"
   ]
  },
  {
   "cell_type": "code",
   "execution_count": null,
   "metadata": {
    "dotnet_interactive": {
     "language": "pwsh"
    },
    "polyglot_notebook": {
     "kernelName": "pwsh"
    }
   },
   "outputs": [
    {
     "name": "stdout",
     "output_type": "stream",
     "text": [
      "\u001B[31;1mfatal: destination path 'The-Spiral-Language' already exists and is not an empty directory.\u001B[0m\r\n",
      "Already up to date.\r\n",
      "MSBuild version 17.8.3+195e7f5a3 for .NET\r\n",
      "  Determining projects to restore...\r\n",
      "  All projects are up-to-date for restore.\r\n",
      "  The Spiral Language 2 -> C:\\home\\git\\polyglot\\deps\\The-Spiral-Language\\The Spiral Language 2\\artifacts\\bin\\The Spiral Language 2\\release\\Spiral.dll\r\n",
      "\r\n",
      "Build succeeded.\r\n",
      "    0 Warning(s)\r\n",
      "    0 Error(s)\r\n",
      "\r\n",
      "Time Elapsed 00:00:45.02\r\n"
     ]
    }
   ],
   "source": [
    "{ . \"$ScriptDir/dep_spiral.ps1\" } | Invoke-Block"
   ]
  },
  {
   "cell_type": "code",
   "execution_count": null,
   "metadata": {
    "dotnet_interactive": {
     "language": "pwsh"
    },
    "polyglot_notebook": {
     "kernelName": "pwsh"
    }
   },
   "outputs": [
    {
     "name": "stdout",
     "output_type": "stream",
     "text": [
      "\r\n",
      "up to date, audited 129 packages in 3s\r\n",
      "\r\n",
      "32 packages are looking for funding\r\n",
      "  run `npm fund` for details\r\n",
      "\r\n",
      "found 0 vulnerabilities\r\n",
      "\u001B[31;1m(node:24324) [DEP0040] DeprecationWarning: The `punycode` module is deprecated. Please use a userland alternative instead.\u001B[0m\r\n",
      "\u001B[31;1m(Use `node --trace-deprecation ...` to show where the warning was created)\u001B[0m\r\n",
      "Executing prepublish script 'npm run vscode:prepublish'...\r\n",
      "\r\n",
      "> spiral-lang-vscode@2.4.21 vscode:prepublish\r\n",
      "> tsc\r\n",
      "\r\n",
      "This extension consists of 3830 files, out of which 127 are JavaScript files. For performance reasons, you should bundle your extension: https://aka.ms/vscode-bundle-extension . You should also exclude unnecessary files by adding them to your .vscodeignore: https://aka.ms/vscode-vscodeignore\r\n",
      " DONE  Packaged: C:\\home\\git\\polyglot\\deps\\The-Spiral-Language\\VS Code Plugin\\spiral-lang-vscode-2.4.21.vsix (3830 files, 8.31MB)\r\n",
      "Copying extension to C:\\Users\\i574n\\scoop\\persist\\vscode-insiders\\data\\extensions\\mrakgr.spiral-lang-vscode-2.4.21\r\n"
     ]
    }
   ],
   "source": [
    "{ . \"$ScriptDir/dep_spiral_extension.ps1\" } | Invoke-Block"
   ]
  },
  {
   "cell_type": "code",
   "execution_count": null,
   "metadata": {
    "dotnet_interactive": {
     "language": "pwsh"
    },
    "polyglot_notebook": {
     "kernelName": "pwsh"
    }
   },
   "outputs": [
    {
     "name": "stdout",
     "output_type": "stream",
     "text": [
      "\u001B[31;1mfatal: destination path 'Fable' already exists and is not an empty directory.\u001B[0m\r\n",
      "Already up to date.\r\n",
      "Tool path: C:\\Users\\i574n\\.nuget\\packages\\fable\\4.2.1\\tools\\net6.0\\any\r\n",
      "MSBuild version 17.8.3+195e7f5a3 for .NET\r\n",
      "  Determining projects to restore...\r\n",
      "  All projects are up-to-date for restore.\r\n",
      "  Rust.AST -> C:\\home\\git\\polyglot\\deps\\Fable\\src\\Fable.Transforms\\Rust\\AST\\bin\\Release\\netstandard2.0\\Rust.AST.dll\r\n",
      "  Fable.AST -> C:\\home\\git\\polyglot\\deps\\Fable\\src\\Fable.AST\\bin\\Release\\netstandard2.0\\Fable.AST.dll\r\n",
      "C:\\Program Files\\dotnet\\sdk\\8.0.100\\Microsoft.Common.CurrentVersion.targets(2382,5): warning MSB3277: Found conflicts between different versions of \"System.Memory\" that could not be resolved. [C:\\home\\git\\polyglot\\deps\\Fable\\src\\Fable.Transforms\\Fable.Transforms.fsproj]\r\n",
      "C:\\Program Files\\dotnet\\sdk\\8.0.100\\Microsoft.Common.CurrentVersion.targets(2382,5): warning MSB3277: There was a conflict between \"System.Memory, Version=4.0.1.1, Culture=neutral, PublicKeyToken=cc7b13ffcd2ddd51\" and \"System.Memory, Version=4.0.1.2, Culture=neutral, PublicKeyToken=cc7b13ffcd2ddd51\". [C:\\home\\git\\polyglot\\deps\\Fable\\src\\Fable.Transforms\\Fable.Transforms.fsproj]\r\n",
      "C:\\Program Files\\dotnet\\sdk\\8.0.100\\Microsoft.Common.CurrentVersion.targets(2382,5): warning MSB3277:     \"System.Memory, Version=4.0.1.1, Culture=neutral, PublicKeyToken=cc7b13ffcd2ddd51\" was chosen because it was primary and \"System.Memory, Version=4.0.1.2, Culture=neutral, PublicKeyToken=cc7b13ffcd2ddd51\" was not. [C:\\home\\git\\polyglot\\deps\\Fable\\src\\Fable.Transforms\\Fable.Transforms.fsproj]\r\n",
      "C:\\Program Files\\dotnet\\sdk\\8.0.100\\Microsoft.Common.CurrentVersion.targets(2382,5): warning MSB3277:     References which depend on \"System.Memory, Version=4.0.1.1, Culture=neutral, PublicKeyToken=cc7b13ffcd2ddd51\" [C:\\Users\\i574n\\.nuget\\packages\\system.memory\\4.5.4\\lib\\netstandard2.0\\System.Memory.dll]. [C:\\home\\git\\polyglot\\deps\\Fable\\src\\Fable.Transforms\\Fable.Transforms.fsproj]\r\n",
      "C:\\Program Files\\dotnet\\sdk\\8.0.100\\Microsoft.Common.CurrentVersion.targets(2382,5): warning MSB3277:         C:\\Users\\i574n\\.nuget\\packages\\system.memory\\4.5.4\\lib\\netstandard2.0\\System.Memory.dll [C:\\home\\git\\polyglot\\deps\\Fable\\src\\Fable.Transforms\\Fable.Transforms.fsproj]\r\n",
      "C:\\Program Files\\dotnet\\sdk\\8.0.100\\Microsoft.Common.CurrentVersion.targets(2382,5): warning MSB3277:           Project file item includes which caused reference \"C:\\Users\\i574n\\.nuget\\packages\\system.memory\\4.5.4\\lib\\netstandard2.0\\System.Memory.dll\". [C:\\home\\git\\polyglot\\deps\\Fable\\src\\Fable.Transforms\\Fable.Transforms.fsproj]\r\n",
      "C:\\Program Files\\dotnet\\sdk\\8.0.100\\Microsoft.Common.CurrentVersion.targets(2382,5): warning MSB3277:             C:\\Users\\i574n\\.nuget\\packages\\system.memory\\4.5.4\\lib\\netstandard2.0\\System.Memory.dll [C:\\home\\git\\polyglot\\deps\\Fable\\src\\Fable.Transforms\\Fable.Transforms.fsproj]\r\n",
      "C:\\Program Files\\dotnet\\sdk\\8.0.100\\Microsoft.Common.CurrentVersion.targets(2382,5): warning MSB3277:     References which depend on \"System.Memory, Version=4.0.1.2, Culture=neutral, PublicKeyToken=cc7b13ffcd2ddd51\" []. [C:\\home\\git\\polyglot\\deps\\Fable\\src\\Fable.Transforms\\Fable.Transforms.fsproj]\r\n",
      "C:\\Program Files\\dotnet\\sdk\\8.0.100\\Microsoft.Common.CurrentVersion.targets(2382,5): warning MSB3277:         C:\\home\\git\\polyglot\\deps\\Fable\\lib\\fcs\\FSharp.Compiler.Service.dll [C:\\home\\git\\polyglot\\deps\\Fable\\src\\Fable.Transforms\\Fable.Transforms.fsproj]\r\n",
      "C:\\Program Files\\dotnet\\sdk\\8.0.100\\Microsoft.Common.CurrentVersion.targets(2382,5): warning MSB3277:           Project file item includes which caused reference \"C:\\home\\git\\polyglot\\deps\\Fable\\lib\\fcs\\FSharp.Compiler.Service.dll\". [C:\\home\\git\\polyglot\\deps\\Fable\\src\\Fable.Transforms\\Fable.Transforms.fsproj]\r\n",
      "C:\\Program Files\\dotnet\\sdk\\8.0.100\\Microsoft.Common.CurrentVersion.targets(2382,5): warning MSB3277:             ../../lib/fcs/FSharp.Compiler.Service.dll [C:\\home\\git\\polyglot\\deps\\Fable\\src\\Fable.Transforms\\Fable.Transforms.fsproj]\r\n",
      "  Fable.Transforms -> C:\\home\\git\\polyglot\\deps\\Fable\\src\\Fable.Transforms\\bin\\Release\\netstandard2.0\\Fable.Transforms.dll\r\n",
      "  Fable.Cli -> C:\\home\\git\\polyglot\\deps\\Fable\\src\\Fable.Cli\\bin\\Release\\net6.0\\fable.dll\r\n",
      "\r\n",
      "Build succeeded.\r\n",
      "\r\n",
      "C:\\Program Files\\dotnet\\sdk\\8.0.100\\Microsoft.Common.CurrentVersion.targets(2382,5): warning MSB3277: Found conflicts between different versions of \"System.Memory\" that could not be resolved. [C:\\home\\git\\polyglot\\deps\\Fable\\src\\Fable.Transforms\\Fable.Transforms.fsproj]\r\n",
      "C:\\Program Files\\dotnet\\sdk\\8.0.100\\Microsoft.Common.CurrentVersion.targets(2382,5): warning MSB3277: There was a conflict between \"System.Memory, Version=4.0.1.1, Culture=neutral, PublicKeyToken=cc7b13ffcd2ddd51\" and \"System.Memory, Version=4.0.1.2, Culture=neutral, PublicKeyToken=cc7b13ffcd2ddd51\". [C:\\home\\git\\polyglot\\deps\\Fable\\src\\Fable.Transforms\\Fable.Transforms.fsproj]\r\n",
      "C:\\Program Files\\dotnet\\sdk\\8.0.100\\Microsoft.Common.CurrentVersion.targets(2382,5): warning MSB3277:     \"System.Memory, Version=4.0.1.1, Culture=neutral, PublicKeyToken=cc7b13ffcd2ddd51\" was chosen because it was primary and \"System.Memory, Version=4.0.1.2, Culture=neutral, PublicKeyToken=cc7b13ffcd2ddd51\" was not. [C:\\home\\git\\polyglot\\deps\\Fable\\src\\Fable.Transforms\\Fable.Transforms.fsproj]\r\n",
      "C:\\Program Files\\dotnet\\sdk\\8.0.100\\Microsoft.Common.CurrentVersion.targets(2382,5): warning MSB3277:     References which depend on \"System.Memory, Version=4.0.1.1, Culture=neutral, PublicKeyToken=cc7b13ffcd2ddd51\" [C:\\Users\\i574n\\.nuget\\packages\\system.memory\\4.5.4\\lib\\netstandard2.0\\System.Memory.dll]. [C:\\home\\git\\polyglot\\deps\\Fable\\src\\Fable.Transforms\\Fable.Transforms.fsproj]\r\n",
      "C:\\Program Files\\dotnet\\sdk\\8.0.100\\Microsoft.Common.CurrentVersion.targets(2382,5): warning MSB3277:         C:\\Users\\i574n\\.nuget\\packages\\system.memory\\4.5.4\\lib\\netstandard2.0\\System.Memory.dll [C:\\home\\git\\polyglot\\deps\\Fable\\src\\Fable.Transforms\\Fable.Transforms.fsproj]\r\n",
      "C:\\Program Files\\dotnet\\sdk\\8.0.100\\Microsoft.Common.CurrentVersion.targets(2382,5): warning MSB3277:           Project file item includes which caused reference \"C:\\Users\\i574n\\.nuget\\packages\\system.memory\\4.5.4\\lib\\netstandard2.0\\System.Memory.dll\". [C:\\home\\git\\polyglot\\deps\\Fable\\src\\Fable.Transforms\\Fable.Transforms.fsproj]\r\n",
      "C:\\Program Files\\dotnet\\sdk\\8.0.100\\Microsoft.Common.CurrentVersion.targets(2382,5): warning MSB3277:             C:\\Users\\i574n\\.nuget\\packages\\system.memory\\4.5.4\\lib\\netstandard2.0\\System.Memory.dll [C:\\home\\git\\polyglot\\deps\\Fable\\src\\Fable.Transforms\\Fable.Transforms.fsproj]\r\n",
      "C:\\Program Files\\dotnet\\sdk\\8.0.100\\Microsoft.Common.CurrentVersion.targets(2382,5): warning MSB3277:     References which depend on \"System.Memory, Version=4.0.1.2, Culture=neutral, PublicKeyToken=cc7b13ffcd2ddd51\" []. [C:\\home\\git\\polyglot\\deps\\Fable\\src\\Fable.Transforms\\Fable.Transforms.fsproj]\r\n",
      "C:\\Program Files\\dotnet\\sdk\\8.0.100\\Microsoft.Common.CurrentVersion.targets(2382,5): warning MSB3277:         C:\\home\\git\\polyglot\\deps\\Fable\\lib\\fcs\\FSharp.Compiler.Service.dll [C:\\home\\git\\polyglot\\deps\\Fable\\src\\Fable.Transforms\\Fable.Transforms.fsproj]\r\n",
      "C:\\Program Files\\dotnet\\sdk\\8.0.100\\Microsoft.Common.CurrentVersion.targets(2382,5): warning MSB3277:           Project file item includes which caused reference \"C:\\home\\git\\polyglot\\deps\\Fable\\lib\\fcs\\FSharp.Compiler.Service.dll\". [C:\\home\\git\\polyglot\\deps\\Fable\\src\\Fable.Transforms\\Fable.Transforms.fsproj]\r\n",
      "C:\\Program Files\\dotnet\\sdk\\8.0.100\\Microsoft.Common.CurrentVersion.targets(2382,5): warning MSB3277:             ../../lib/fcs/FSharp.Compiler.Service.dll [C:\\home\\git\\polyglot\\deps\\Fable\\src\\Fable.Transforms\\Fable.Transforms.fsproj]\r\n",
      "    1 Warning(s)\r\n",
      "    0 Error(s)\r\n",
      "\r\n",
      "Time Elapsed 00:00:02.75\r\n",
      "Lib path: C:\\Users\\i574n\\.nuget\\packages\\fable.core\\4.3.0\\lib\\netstandard2.0\r\n",
      "MSBuild version 17.8.3+195e7f5a3 for .NET\r\n",
      "  Determining projects to restore...\r\n",
      "  All projects are up-to-date for restore.\r\n",
      "  Fable.Core -> C:\\home\\git\\polyglot\\deps\\Fable\\src\\Fable.Core\\bin\\Release\\netstandard2.0\\Fable.Core.dll\r\n",
      "\r\n",
      "Build succeeded.\r\n",
      "    0 Warning(s)\r\n",
      "    0 Error(s)\r\n",
      "\r\n",
      "Time Elapsed 00:00:01.42\r\n"
     ]
    }
   ],
   "source": [
    "{ . \"$ScriptDir/dep_fable.ps1\" } | Invoke-Block"
   ]
  },
  {
   "cell_type": "code",
   "execution_count": null,
   "metadata": {
    "dotnet_interactive": {
     "language": "pwsh"
    },
    "polyglot_notebook": {
     "kernelName": "pwsh"
    }
   },
   "outputs": [
    {
     "name": "stdout",
     "output_type": "stream",
     "text": [
      "\u001B[31;1mfatal: destination path 'hyperui' already exists and is not an empty directory.\u001B[0m\r\n",
      "Already up to date.\r\n",
      "yarn install v1.22.19\r\n",
      "[1/4] Resolving packages...\r\n",
      "[2/4] Fetching packages...\r\n",
      "[3/4] Linking dependencies...\r\n",
      "\u001B[31;1mwarning \"eslint-config-next > @typescript-eslint/parser > @typescript-eslint/typescript-estree > ts-api-utils@1.0.2\" has unmet peer dependency \"typescript@>=4.2.0\".\u001B[0m\r\n",
      "[4/4] Building fresh packages...\r\n",
      "Done in 6.87s.\r\n",
      "yarn run v1.22.19\r\n",
      "$ next build\r\n",
      "- info Creating an optimized production build...\r\n",
      "- info Compiled successfully\r\n",
      "- info Linting and checking validity of types...\r\n",
      "- info Collecting page data...\r\n",
      "- info Generating static pages (0/6)\r\n",
      "- info Generating static pages (1/6)\r\n",
      "\u001B[31;1m- warn \u001B[0m\r\n",
      "\u001B[31;1mmetadata.metadataBase is not set for resolving social open graph or twitter images, using \"http://localhost:3000\". See https://nextjs.org/docs/app/api-reference/functions/generate-metadata#metadatabase\u001B[0m\r\n",
      "\u001B[31;1m- warn \u001B[0m\r\n",
      "\u001B[31;1mmetadata.metadataBase is not set for resolving social open graph or twitter images, using \"http://localhost:3000\". See https://nextjs.org/docs/app/api-reference/functions/generate-metadata#metadatabase\u001B[0m\r\n",
      "- info Generating static pages (2/6)\r\n",
      "- info Generating static pages (4/6)\r\n",
      "- info Generating static pages (6/6)\r\n",
      "- info Finalizing page optimization...\r\n",
      "\r\n",
      "Route (app)                                Size     First Load JS\r\n",
      "┌ ○ /                                      182 B          84.6 kB\r\n",
      "├ ● /[components]/[category]               182 B          84.6 kB\r\n",
      "├ ● /[components]/[category]/[collection]  3.55 kB        99.6 kB\r\n",
      "├ ● /about/[slug]                          3.41 kB          82 kB\r\n",
      "├ ○ /api/search                            0 B                0 B\r\n",
      "├ ○ /blog                                  182 B          84.6 kB\r\n",
      "├ ● /blog/[slug]                           2.85 kB        93.1 kB\r\n",
      "└ ○ /sitemap.xml                           0 B                0 B\r\n",
      "+ First Load JS shared by all              78.6 kB\r\n",
      "  ├ chunks/596-ef6f8f5604ac81a7.js         26.1 kB\r\n",
      "  ├ chunks/fd9d1056-ae0ceb7ffa373b0f.js    50.6 kB\r\n",
      "  ├ chunks/main-app-e140771f15cb57c2.js    217 B\r\n",
      "  └ chunks/webpack-dfc3920b6219521e.js     1.74 kB\r\n",
      "\r\n",
      "Route (pages)                              Size     First Load JS\r\n",
      "─ ○ /404                                   181 B          76.6 kB\r\n",
      "+ First Load JS shared by all              76.4 kB\r\n",
      "  ├ chunks/framework-8883d1e9be70c3da.js   45 kB\r\n",
      "  ├ chunks/main-9e0ffd36f36951ba.js        29.4 kB\r\n",
      "  ├ chunks/pages/_app-52924524f99094ab.js  195 B\r\n",
      "  └ chunks/webpack-dfc3920b6219521e.js     1.74 kB\r\n",
      "\r\n",
      "○  (Static)  automatically rendered as static HTML (uses no initial props)\r\n",
      "●  (SSG)     automatically generated as static HTML + JSON (uses getStaticProps)\r\n",
      "\r\n",
      "$ yarn css\r\n",
      "$ yarn css:components && yarn css:blogs\r\n",
      "$ npx tailwindcss -i src/styles/components.css -o public/components.css -m\r\n",
      "\u001B[31;1mBrowserslist: caniuse-lite is outdated. Please run:\u001B[0m\r\n",
      "\u001B[31;1m  npx update-browserslist-db@latest\u001B[0m\r\n",
      "\u001B[31;1m  Why you should do it regularly: https://github.com/browserslist/update-db#readme\u001B[0m\r\n",
      "\u001B[31;1m\u001B[0m\r\n",
      "\u001B[31;1mRebuilding...\u001B[0m\r\n",
      "\u001B[31;1m\u001B[0m\r\n",
      "\u001B[31;1mDone in 9080ms.\u001B[0m\r\n",
      "$ npx tailwindcss -i src/styles/blogs.css -o public/blogs.css -m\r\n",
      "\u001B[31;1mBrowserslist: caniuse-lite is outdated. Please run:\u001B[0m\r\n",
      "\u001B[31;1m  npx update-browserslist-db@latest\u001B[0m\r\n",
      "\u001B[31;1m  Why you should do it regularly: https://github.com/browserslist/update-db#readme\u001B[0m\r\n",
      "\u001B[31;1m\u001B[0m\r\n",
      "\u001B[31;1mRebuilding...\u001B[0m\r\n",
      "\u001B[31;1m\u001B[0m\r\n",
      "\u001B[31;1mDone in 905ms.\u001B[0m\r\n",
      "Done in 110.43s.\r\n"
     ]
    }
   ],
   "source": [
    "{ . \"$ScriptDir/dep_hyperui.ps1\" } | Invoke-Block"
   ]
  }
 ],
 "metadata": {},
 "nbformat": 4,
 "nbformat_minor": 5
}