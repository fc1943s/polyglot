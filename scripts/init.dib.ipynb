{
 "cells": [
  {
   "cell_type": "code",
   "execution_count": null,
   "metadata": {
    "dotnet_interactive": {
     "language": "pwsh"
    },
    "polyglot_notebook": {
     "kernelName": "pwsh"
    }
   },
   "outputs": [],
   "source": [
    ". ./nbs_header.ps1\n",
    ". ./core.ps1"
   ]
  },
  {
   "cell_type": "code",
   "execution_count": null,
   "metadata": {
    "dotnet_interactive": {
     "language": "pwsh"
    },
    "polyglot_notebook": {
     "kernelName": "pwsh"
    }
   },
   "outputs": [],
   "source": [
    "# rustup component add clippy rust-src rustfmt"
   ]
  },
  {
   "cell_type": "code",
   "execution_count": null,
   "metadata": {
    "dotnet_interactive": {
     "language": "pwsh"
    },
    "polyglot_notebook": {
     "kernelName": "pwsh"
    }
   },
   "outputs": [],
   "source": [
    "# rustup target add wasm32-unknown-unknown"
   ]
  },
  {
   "cell_type": "code",
   "execution_count": null,
   "metadata": {
    "dotnet_interactive": {
     "language": "pwsh"
    },
    "polyglot_notebook": {
     "kernelName": "pwsh"
    }
   },
   "outputs": [],
   "source": [
    "# rustup update"
   ]
  },
  {
   "cell_type": "code",
   "execution_count": null,
   "metadata": {
    "dotnet_interactive": {
     "language": "pwsh"
    },
    "polyglot_notebook": {
     "kernelName": "pwsh"
    }
   },
   "outputs": [],
   "source": [
    "if (!(Search-Command \"cargo-outdated\")) {\n",
    "    { cargo install --git https://github.com/i574n/cargo-outdated.git --locked } | Invoke-Block -OnError Continue\n",
    "}"
   ]
  },
  {
   "cell_type": "code",
   "execution_count": null,
   "metadata": {
    "dotnet_interactive": {
     "language": "pwsh"
    },
    "polyglot_notebook": {
     "kernelName": "pwsh"
    }
   },
   "outputs": [],
   "source": [
    "if (!(Search-Command \"sccache\")) {\n",
    "    { cargo install sccache } | Invoke-Block -OnError Continue\n",
    "}"
   ]
  },
  {
   "cell_type": "code",
   "execution_count": null,
   "metadata": {
    "dotnet_interactive": {
     "language": "pwsh"
    },
    "polyglot_notebook": {
     "kernelName": "pwsh"
    }
   },
   "outputs": [],
   "source": [
    "if (!(Search-Command \"wasm-pack\")) {\n",
    "    { cargo install wasm-pack --locked } | Invoke-Block -OnError Continue\n",
    "}"
   ]
  },
  {
   "cell_type": "code",
   "execution_count": null,
   "metadata": {
    "dotnet_interactive": {
     "language": "pwsh"
    },
    "polyglot_notebook": {
     "kernelName": "pwsh"
    }
   },
   "outputs": [],
   "source": [
    "if (!(Search-Command \"trunk\")) {\n",
    "    { cargo install trunk --version 0.21.12 } | Invoke-Block -OnError Continue\n",
    "}"
   ]
  },
  {
   "cell_type": "code",
   "execution_count": null,
   "metadata": {
    "dotnet_interactive": {
     "language": "pwsh"
    },
    "polyglot_notebook": {
     "kernelName": "pwsh"
    }
   },
   "outputs": [],
   "source": [
    "if (!(Search-Command \"leptosfmt\")) {\n",
    "    { cargo install --git https://github.com/bram209/leptosfmt.git --locked } | Invoke-Block -OnError Continue\n",
    "}"
   ]
  },
  {
   "cell_type": "code",
   "execution_count": null,
   "metadata": {
    "dotnet_interactive": {
     "language": "pwsh"
    },
    "polyglot_notebook": {
     "kernelName": "pwsh"
    }
   },
   "outputs": [],
   "source": [
    "if (!(Search-Command \"nix\")) {\n",
    "    { . $(Search-Command bunx) --bun playwright@1.44.0 install } | Invoke-Block -OnError Continue\n",
    "}"
   ]
  },
  {
   "cell_type": "code",
   "execution_count": null,
   "metadata": {
    "dotnet_interactive": {
     "language": "pwsh"
    },
    "polyglot_notebook": {
     "kernelName": "pwsh"
    }
   },
   "outputs": [],
   "source": [
    "[Net.ServicePointManager]::SecurityProtocol = [Net.SecurityProtocolType]::Tls12"
   ]
  },
  {
   "cell_type": "code",
   "execution_count": null,
   "metadata": {
    "dotnet_interactive": {
     "language": "pwsh"
    },
    "polyglot_notebook": {
     "kernelName": "pwsh"
    }
   },
   "outputs": [
    {
     "name": "stdout",
     "output_type": "stream",
     "text": [
      "\u001B[93mWARNING: The version '1.4.8.1' of module 'PackageManagement' is currently in use. Retry the operation after closing the applications.\u001B[0m\r\n"
     ]
    }
   ],
   "source": [
    "{ Install-Module -Name PowerShellGet -Force -AllowClobber -Scope CurrentUser } | Invoke-Block -OnError Continue"
   ]
  },
  {
   "cell_type": "code",
   "execution_count": null,
   "metadata": {
    "dotnet_interactive": {
     "language": "pwsh"
    },
    "polyglot_notebook": {
     "kernelName": "pwsh"
    }
   },
   "outputs": [
    {
     "name": "stdout",
     "output_type": "stream",
     "text": [
      "\n",
      "# Invoke-Block / $retry: 1/1 / $Location:  / Get-Location: C:\\home\\git\\polyglot\\scripts / $OnError: Continue / $exitcode: 0 / $Error: 'Cannot find a variable with the name 'PackageManagementProvider'. Cannot find a variable with the name 'SourceLocation'.' / $ScriptBlock:\n",
      "'Set-PSRepository -Name PSGallery -InstallationPolicy Trusted'\n",
      "\r\n"
     ]
    }
   ],
   "source": [
    "{ Set-PSRepository -Name PSGallery -InstallationPolicy Trusted } | Invoke-Block -OnError Continue"
   ]
  },
  {
   "cell_type": "code",
   "execution_count": null,
   "metadata": {
    "dotnet_interactive": {
     "language": "pwsh"
    },
    "polyglot_notebook": {
     "kernelName": "pwsh"
    }
   },
   "outputs": [
    {
     "name": "stdout",
     "output_type": "stream",
     "text": [
      "bun install v1.2.15 (df017990)\r\n",
      "\r\n",
      "Checked 4 installs across 5 packages (no changes) [11.00ms]\r\n"
     ]
    }
   ],
   "source": [
    "{ . $(Search-Command bun) install --cwd .. --frozen-lockfile } | Invoke-Block"
   ]
  },
  {
   "cell_type": "code",
   "execution_count": null,
   "metadata": {
    "dotnet_interactive": {
     "language": "pwsh"
    },
    "polyglot_notebook": {
     "kernelName": "pwsh"
    }
   },
   "outputs": [
    {
     "name": "stdout",
     "output_type": "stream",
     "text": [
      "\u001B[31;1mfatal: destination path 'The-Spiral-Language' already exists and is not an empty directory.\u001B[0m\r\n",
      "Already up to date.\r\n",
      "  Determining projects to restore...\r\n",
      "  All projects are up-to-date for restore.\r\n",
      "  The Spiral Language 2 -> C:\\home\\git\\polyglot\\deps\\The-Spiral-Language\\The Spiral Language 2\\artifacts\\bin\\The Spiral Language 2\\release\\Spiral.dll\r\n",
      "\r\n",
      "Build succeeded.\r\n",
      "    0 Warning(s)\r\n",
      "    0 Error(s)\r\n",
      "\r\n",
      "Time Elapsed 00:00:50.37\r\n"
     ]
    }
   ],
   "source": [
    "{ . \"$ScriptDir/dep_spiral.ps1\" } | Invoke-Block"
   ]
  },
  {
   "cell_type": "code",
   "execution_count": null,
   "metadata": {
    "dotnet_interactive": {
     "language": "pwsh"
    },
    "polyglot_notebook": {
     "kernelName": "pwsh"
    }
   },
   "outputs": [
    {
     "name": "stdout",
     "output_type": "stream",
     "text": [
      "path: ../deps/The-Spiral-Language/The Spiral Language 2/artifacts/bin/The Spiral Language 2/release/\r\n",
      "bun install v1.2.15 (df017990)\r\n",
      "\r\n",
      "Checked 238 installs across 264 packages (no changes) [25.00ms]\r\n",
      "\u001B[31;1m$ ~/.bun/bin/bunx --bun esbuild ./src/index.ts --bundle --outfile=out/index.js --external:vscode --format=cjs --platform=node --minify\u001B[0m\r\n",
      "\u001B[31;1m\u001B[0m\r\n",
      "\u001B[31;1m  out\\index.js  668.7kb\u001B[0m\r\n",
      "\u001B[31;1m\u001B[0m\r\n",
      "\u001B[31;1m⚡ Done in 57ms\u001B[0m\r\n",
      " INFO  Files included in the VSIX:\r\n",
      "spiral-lang-vscode-i574n-2.15.19.vsix\r\n",
      "├─ [Content_Types].xml \r\n",
      "├─ extension.vsixmanifest \r\n",
      "└─ extension/\r\n",
      "   ├─ LICENSE.txt [16.7 KB]\r\n",
      "   ├─ language-configuration.json [0.51 KB]\r\n",
      "   ├─ package.json [4.96 KB]\r\n",
      "   ├─ compiler/ (351 files) [17.74 MB]\r\n",
      "   ├─ core/ (22 files) [53.06 KB]\r\n",
      "   └─ out/ (2 files) [668.76 KB]\r\n",
      "\r\n",
      "=> Run vsce ls --tree to see all included files.\r\n",
      "\r\n",
      " DONE  Packaged: C:\\home\\git\\polyglot\\deps\\The-Spiral-Language\\VS Code Plugin\\spiral-lang-vscode-i574n-2.15.19.vsix (380 files, 6.72 MB)\r\n",
      "Skipping copying extension to C:\\Users\\i574n/.vscode/extensions\r\n",
      "Skipping copying extension to C:\\Users\\i574n/scoop/persist/vscode/data/extensions\r\n",
      "Copying extension to C:\\Users\\i574n\\scoop\\persist\\vscode-insiders\\data\\extensions\\i574n.spiral-lang-vscode-i574n-2.15.19\r\n"
     ]
    }
   ],
   "source": [
    "{ . \"$ScriptDir/dep_spiral_extension.ps1\" } | Invoke-Block -OnError Continue"
   ]
  },
  {
   "cell_type": "code",
   "execution_count": null,
   "metadata": {
    "dotnet_interactive": {
     "language": "pwsh"
    },
    "polyglot_notebook": {
     "kernelName": "pwsh"
    }
   },
   "outputs": [
    {
     "name": "stdout",
     "output_type": "stream",
     "text": [
      "\u001B[31;1mfatal: destination path 'Fable' already exists and is not an empty directory.\u001B[0m\r\n",
      "Already up to date.\r\n",
      "polyglot/scripts/dep_fable.ps1 / $toolVersionPath: C:\\Users\\i574n\\.nuget\\packages\\fable\\5.0.0-alpha.9\\tools\\net8.0\\any\r\n",
      "  Determining projects to restore...\r\n",
      "  All projects are up-to-date for restore.\r\n",
      "  Rust.AST -> C:\\home\\git\\polyglot\\deps\\Fable\\src\\Fable.Transforms\\Rust\\AST\\bin\\Release\\netstandard2.0\\Rust.AST.dll\r\n",
      "  Fable.AST -> C:\\home\\git\\polyglot\\deps\\Fable\\src\\Fable.AST\\bin\\Release\\netstandard2.0\\Fable.AST.dll\r\n",
      "  Fable.Transforms -> C:\\home\\git\\polyglot\\deps\\Fable\\src\\Fable.Transforms\\bin\\Release\\netstandard2.0\\Fable.Transforms.dll\r\n",
      "  Fable.Compiler -> C:\\home\\git\\polyglot\\deps\\Fable\\src\\Fable.Compiler\\bin\\Release\\net9.0\\Fable.Compiler.dll\r\n",
      "  Fable.Cli -> C:\\home\\git\\polyglot\\deps\\Fable\\src\\Fable.Cli\\bin\\Release\\net9.0\\fable.dll\r\n",
      "\r\n",
      "Build succeeded.\r\n",
      "    0 Warning(s)\r\n",
      "    0 Error(s)\r\n",
      "\r\n",
      "Time Elapsed 00:00:03.31\r\n",
      "polyglot/scripts/dep_fable.ps1 / $dllPath: C:\\home\\git\\polyglot\\deps\\Fable\\src\\Fable.Cli\\bin\\Release\\net9.0\\fable.dll\r\n",
      "polyglot/scripts/dep_fable.ps1 / $libVersionPath: C:\\Users\\i574n\\.nuget\\packages\\fable.core\\4.3.0\\lib\\netstandard2.0\r\n",
      "  Determining projects to restore...\r\n",
      "  Restored C:\\home\\git\\polyglot\\deps\\Fable\\src\\Fable.Core\\Fable.Core.fsproj (in 1.47 sec).\r\n",
      "  Fable.Core -> C:\\home\\git\\polyglot\\deps\\Fable\\src\\Fable.Core\\bin\\Release\\netstandard2.0\\Fable.Core.dll\r\n",
      "\r\n",
      "Build succeeded.\r\n",
      "    0 Warning(s)\r\n",
      "    0 Error(s)\r\n",
      "\r\n",
      "Time Elapsed 00:00:06.16\r\n",
      "Fable 5.0.0-alpha.9: F# to TypeScript compiler\r\n",
      "Minimum @fable-org/fable-library-ts version (when installed from npm): 1.10.0\r\n",
      "\r\n",
      "Thanks to the contributor! @entropitor\r\n",
      "Stand with Ukraine! https://standwithukraine.com.ua/\r\n",
      "\r\n",
      "Parsing fable-library-typescript.fsproj...\r\n",
      "Project and references (1 source files) parsed in 2144ms\r\n",
      "\r\n",
      "Started Fable compilation...\r\n",
      "\r\n",
      "Fable compilation finished in 473ms\r\n",
      "\r\n",
      "Fable 5.0.0-alpha.9: F# to TypeScript compiler\r\n",
      "Minimum @fable-org/fable-library-ts version (when installed from npm): 1.10.0\r\n",
      "\r\n",
      "Thanks to the contributor! @Neftedollar\r\n",
      "Stand with Ukraine! https://standwithukraine.com.ua/\r\n",
      "\r\n",
      "Parsing ..\\..\\..\\deps\\Fable\\src\\fable-library-ts\\Fable.Library.TypeScript.fsproj...\r\n",
      "Project and references (32 source files) parsed in 4473ms\r\n",
      "\r\n",
      "Started Fable compilation...\r\n",
      "\r\n",
      "Fable compilation finished in 7777ms\r\n",
      "\r\n",
      ".\\..\\..\\..\\deps\\Fable\\src\\Fable.Core\\Fable.Core.Util.fs(33,68): (33,78) warning FABLE: nativeOnly is being compiled without replacement, this will fail at runtime.\r\n",
      ".\\..\\..\\..\\deps\\Fable\\src\\Fable.Core\\Fable.Core.Util.fs(36,70): (36,80) warning FABLE: nativeOnly is being compiled without replacement, this will fail at runtime.\r\n",
      ".\\..\\..\\..\\deps\\Fable\\src\\Fable.Core\\Fable.Core.Util.fs(40,80): (40,90) warning FABLE: nativeOnly is being compiled without replacement, this will fail at runtime.\r\n",
      ".\\..\\..\\..\\deps\\Fable\\src\\Fable.Core\\Fable.Core.Util.fs(42,80): (42,90) warning FABLE: nativeOnly is being compiled without replacement, this will fail at runtime.\r\n",
      ".\\..\\..\\..\\deps\\Fable\\src\\Fable.Core\\Fable.Core.Util.fs(46,34): (46,44) warning FABLE: nativeOnly is being compiled without replacement, this will fail at runtime.\r\n",
      ".\\..\\..\\..\\deps\\Fable\\src\\Fable.Core\\Fable.Core.Util.fs(47,35): (47,45) warning FABLE: nativeOnly is being compiled without replacement, this will fail at runtime.\r\n",
      ".\\..\\..\\..\\deps\\Fable\\src\\Fable.Core\\Fable.Core.Util.fs(49,36): (49,46) warning FABLE: nativeOnly is being compiled without replacement, this will fail at runtime.\r\n",
      ".\\..\\..\\..\\deps\\Fable\\src\\Fable.Core\\Fable.Core.Util.fs(50,40): (50,50) warning FABLE: nativeOnly is being compiled without replacement, this will fail at runtime.\r\n",
      ".\\..\\..\\..\\deps\\Fable\\src\\Fable.Core\\Fable.Core.Util.fs(51,41): (51,51) warning FABLE: nativeOnly is being compiled without replacement, this will fail at runtime.\r\n",
      ".\\..\\..\\..\\deps\\Fable\\src\\Fable.Core\\Fable.Core.Py.fs(60,41): (60,51) warning FABLE: nativeOnly is being compiled without replacement, this will fail at runtime.\r\n",
      ".\\..\\..\\..\\deps\\Fable\\src\\Fable.Core\\Fable.Core.Dart.fs(11,30): (11,40) warning FABLE: nativeOnly is being compiled without replacement, this will fail at runtime.\r\n",
      ".\\..\\..\\..\\deps\\Fable\\src\\Fable.Core\\Fable.Core.Dart.fs(12,25): (12,35) warning FABLE: nativeOnly is being compiled without replacement, this will fail at runtime.\r\n",
      ".\\..\\..\\..\\deps\\Fable\\src\\Fable.Core\\Fable.Core.Dart.fs(15,67): (15,77) warning FABLE: nativeOnly is being compiled without replacement, this will fail at runtime.\r\n",
      ".\\..\\..\\..\\deps\\Fable\\src\\Fable.Core\\Fable.Core.Dart.fs(17,76): (17,86) warning FABLE: nativeOnly is being compiled without replacement, this will fail at runtime.\r\n",
      ".\\..\\..\\..\\deps\\Fable\\src\\Fable.Core\\Fable.Core.Dart.fs(19,57): (19,67) warning FABLE: nativeOnly is being compiled without replacement, this will fail at runtime.\r\n",
      ".\\..\\..\\..\\deps\\Fable\\src\\Fable.Core\\Fable.Core.Dart.fs(20,57): (20,67) warning FABLE: nativeOnly is being compiled without replacement, this will fail at runtime.\r\n",
      ".\\..\\..\\..\\deps\\Fable\\src\\Fable.Core\\Fable.Core.Dart.fs(21,62): (21,72) warning FABLE: nativeOnly is being compiled without replacement, this will fail at runtime.\r\n",
      ".\\..\\..\\..\\deps\\Fable\\src\\Fable.Core\\Fable.Core.Dart.fs(22,61): (22,71) warning FABLE: nativeOnly is being compiled without replacement, this will fail at runtime.\r\n",
      ".\\..\\..\\..\\deps\\Fable\\src\\Fable.Core\\Fable.Core.Dart.fs(36,51): (36,61) warning FABLE: nativeOnly is being compiled without replacement, this will fail at runtime.\r\n",
      ".\\..\\..\\..\\deps\\Fable\\src\\Fable.Core\\Fable.Core.Dart.fs(41,56): (41,66) warning FABLE: nativeOnly is being compiled without replacement, this will fail at runtime.\r\n",
      ".\\..\\..\\..\\deps\\Fable\\src\\Fable.Core\\Fable.Core.Dart.fs(45,56): (45,66) warning FABLE: nativeOnly is being compiled without replacement, this will fail at runtime.\r\n",
      ".\\..\\..\\..\\deps\\Fable\\src\\Fable.Core\\Fable.Core.Dart.fs(49,43): (49,53) warning FABLE: nativeOnly is being compiled without replacement, this will fail at runtime.\r\n",
      ".\\..\\..\\..\\deps\\Fable\\src\\Fable.Core\\Fable.Core.Dart.fs(52,40): (52,50) warning FABLE: nativeOnly is being compiled without replacement, this will fail at runtime.\r\n",
      ".\\..\\..\\..\\deps\\Fable\\src\\Fable.Core\\Fable.Core.Rust.fs(57,56): (57,66) warning FABLE: nativeOnly is being compiled without replacement, this will fail at runtime.\r\n",
      ".\\..\\..\\..\\deps\\Fable\\src\\Fable.Core\\Fable.Core.Rust.fs(60,40): (60,50) warning FABLE: nativeOnly is being compiled without replacement, this will fail at runtime.\r\n",
      ".\\..\\..\\..\\deps\\Fable\\src\\Fable.Core\\Fable.Core.PhpInterop.fs(8,18): (8,28) warning FABLE: nativeOnly is being compiled without replacement, this will fail at runtime.\r\n",
      ".\\..\\..\\..\\deps\\Fable\\src\\Fable.Core\\Fable.Core.PhpInterop.fs(17,36): (17,46) warning FABLE: nativeOnly is being compiled without replacement, this will fail at runtime.\r\n",
      ".\\..\\..\\..\\deps\\Fable\\src\\Fable.Core\\Fable.Core.PhpInterop.fs(22,49): (22,59) warning FABLE: nativeOnly is being compiled without replacement, this will fail at runtime.\r\n",
      ".\\..\\..\\..\\deps\\Fable\\src\\Fable.Core\\Fable.Core.PhpInterop.fs(26,41): (26,51) warning FABLE: nativeOnly is being compiled without replacement, this will fail at runtime.\r\n",
      ".\\..\\..\\..\\deps\\Fable\\src\\Fable.Core\\Fable.Core.PhpInterop.fs(31,50): (31,60) warning FABLE: nativeOnly is being compiled without replacement, this will fail at runtime.\r\n",
      ".\\..\\..\\..\\deps\\Fable\\src\\Fable.Core\\Fable.Core.PhpInterop.fs(38,56): (38,66) warning FABLE: nativeOnly is being compiled without replacement, this will fail at runtime.\r\n",
      ".\\..\\..\\..\\deps\\Fable\\src\\Fable.Core\\Fable.Core.PhpInterop.fs(43,61): (43,71) warning FABLE: nativeOnly is being compiled without replacement, this will fail at runtime.\r\n",
      ".\\..\\..\\..\\deps\\Fable\\src\\Fable.Core\\Fable.Core.PhpInterop.fs(47,51): (47,61) warning FABLE: nativeOnly is being compiled without replacement, this will fail at runtime.\r\n",
      ".\\..\\..\\..\\deps\\Fable\\src\\Fable.Core\\Fable.Core.PhpInterop.fs(51,60): (51,70) warning FABLE: nativeOnly is being compiled without replacement, this will fail at runtime.\r\n",
      ".\\..\\..\\..\\deps\\Fable\\src\\Fable.Core\\Fable.Core.PhpInterop.fs(56,42): (56,52) warning FABLE: nativeOnly is being compiled without replacement, this will fail at runtime.\r\n",
      ".\\..\\..\\..\\deps\\Fable\\src\\Fable.Core\\Fable.Core.RustInterop.fs(11,55): (11,65) warning FABLE: nativeOnly is being compiled without replacement, this will fail at runtime.\r\n",
      ".\\..\\..\\..\\deps\\Fable\\src\\Fable.Core\\Fable.Core.JsInterop.fs(12,18): (12,28) warning FABLE: nativeOnly is being compiled without replacement, this will fail at runtime.\r\n",
      ".\\..\\..\\..\\deps\\Fable\\src\\Fable.Core\\Fable.Core.JsInterop.fs(21,36): (21,46) warning FABLE: nativeOnly is being compiled without replacement, this will fail at runtime.\r\n",
      ".\\..\\..\\..\\deps\\Fable\\src\\Fable.Core\\Fable.Core.JsInterop.fs(26,49): (26,59) warning FABLE: nativeOnly is being compiled without replacement, this will fail at runtime.\r\n",
      ".\\..\\..\\..\\deps\\Fable\\src\\Fable.Core\\Fable.Core.JsInterop.fs(30,41): (30,51) warning FABLE: nativeOnly is being compiled without replacement, this will fail at runtime.\r\n",
      ".\\..\\..\\..\\deps\\Fable\\src\\Fable.Core\\Fable.Core.JsInterop.fs(35,50): (35,60) warning FABLE: nativeOnly is being compiled without replacement, this will fail at runtime.\r\n",
      ".\\..\\..\\..\\deps\\Fable\\src\\Fable.Core\\Fable.Core.JsInterop.fs(39,43): (39,53) warning FABLE: nativeOnly is being compiled without replacement, this will fail at runtime.\r\n",
      ".\\..\\..\\..\\deps\\Fable\\src\\Fable.Core\\Fable.Core.JsInterop.fs(43,55): (43,65) warning FABLE: nativeOnly is being compiled without replacement, this will fail at runtime.\r\n",
      ".\\..\\..\\..\\deps\\Fable\\src\\Fable.Core\\Fable.Core.JsInterop.fs(48,60): (48,70) warning FABLE: nativeOnly is being compiled without replacement, this will fail at runtime.\r\n",
      ".\\..\\..\\..\\deps\\Fable\\src\\Fable.Core\\Fable.Core.JsInterop.fs(52,51): (52,61) warning FABLE: nativeOnly is being compiled without replacement, this will fail at runtime.\r\n",
      ".\\..\\..\\..\\deps\\Fable\\src\\Fable.Core\\Fable.Core.JsInterop.fs(56,60): (56,70) warning FABLE: nativeOnly is being compiled without replacement, this will fail at runtime.\r\n",
      ".\\..\\..\\..\\deps\\Fable\\src\\Fable.Core\\Fable.Core.JsInterop.fs(61,41): (61,51) warning FABLE: nativeOnly is being compiled without replacement, this will fail at runtime.\r\n",
      ".\\..\\..\\..\\deps\\Fable\\src\\Fable.Core\\Fable.Core.JsInterop.fs(64,27): (64,37) warning FABLE: nativeOnly is being compiled without replacement, this will fail at runtime.\r\n",
      ".\\..\\..\\..\\deps\\Fable\\src\\Fable.Core\\Fable.Core.JsInterop.fs(67,33): (67,43) warning FABLE: nativeOnly is being compiled without replacement, this will fail at runtime.\r\n",
      ".\\..\\..\\..\\deps\\Fable\\src\\Fable.Core\\Fable.Core.JsInterop.fs(70,30): (70,40) warning FABLE: nativeOnly is being compiled without replacement, this will fail at runtime.\r\n",
      ".\\..\\..\\..\\deps\\Fable\\src\\Fable.Core\\Fable.Core.JsInterop.fs(100,56): (100,66) warning FABLE: nativeOnly is being compiled without replacement, this will fail at runtime.\r\n",
      ".\\..\\..\\..\\deps\\Fable\\src\\Fable.Core\\Fable.Core.JsInterop.fs(105,43): (105,53) warning FABLE: nativeOnly is being compiled without replacement, this will fail at runtime.\r\n",
      ".\\..\\..\\..\\deps\\Fable\\src\\Fable.Core\\Fable.Core.JsInterop.fs(109,44): (109,54) warning FABLE: nativeOnly is being compiled without replacement, this will fail at runtime.\r\n",
      ".\\..\\..\\..\\deps\\Fable\\src\\Fable.Core\\Fable.Core.JsInterop.fs(113,40): (113,50) warning FABLE: nativeOnly is being compiled without replacement, this will fail at runtime.\r\n",
      ".\\..\\..\\..\\deps\\Fable\\src\\Fable.Core\\Fable.Core.JsInterop.fs(116,46): (116,56) warning FABLE: nativeOnly is being compiled without replacement, this will fail at runtime.\r\n",
      ".\\..\\..\\..\\deps\\Fable\\src\\Fable.Core\\Fable.Core.JsInterop.fs(119,56): (119,66) warning FABLE: nativeOnly is being compiled without replacement, this will fail at runtime.\r\n",
      ".\\..\\..\\..\\deps\\Fable\\src\\Fable.Core\\Fable.Core.JsInterop.fs(123,50): (123,60) warning FABLE: nativeOnly is being compiled without replacement, this will fail at runtime.\r\n",
      ".\\..\\..\\..\\deps\\Fable\\src\\Fable.Core\\Fable.Core.PyInterop.fs(8,18): (8,28) warning FABLE: nativeOnly is being compiled without replacement, this will fail at runtime.\r\n",
      ".\\..\\..\\..\\deps\\Fable\\src\\Fable.Core\\Fable.Core.PyInterop.fs(17,36): (17,46) warning FABLE: nativeOnly is being compiled without replacement, this will fail at runtime.\r\n",
      ".\\..\\..\\..\\deps\\Fable\\src\\Fable.Core\\Fable.Core.PyInterop.fs(22,49): (22,59) warning FABLE: nativeOnly is being compiled without replacement, this will fail at runtime.\r\n",
      ".\\..\\..\\..\\deps\\Fable\\src\\Fable.Core\\Fable.Core.PyInterop.fs(26,41): (26,51) warning FABLE: nativeOnly is being compiled without replacement, this will fail at runtime.\r\n",
      ".\\..\\..\\..\\deps\\Fable\\src\\Fable.Core\\Fable.Core.PyInterop.fs(31,50): (31,60) warning FABLE: nativeOnly is being compiled without replacement, this will fail at runtime.\r\n",
      ".\\..\\..\\..\\deps\\Fable\\src\\Fable.Core\\Fable.Core.PyInterop.fs(35,55): (35,65) warning FABLE: nativeOnly is being compiled without replacement, this will fail at runtime.\r\n",
      ".\\..\\..\\..\\deps\\Fable\\src\\Fable.Core\\Fable.Core.PyInterop.fs(39,60): (39,70) warning FABLE: nativeOnly is being compiled without replacement, this will fail at runtime.\r\n",
      ".\\..\\..\\..\\deps\\Fable\\src\\Fable.Core\\Fable.Core.PyInterop.fs(43,51): (43,61) warning FABLE: nativeOnly is being compiled without replacement, this will fail at runtime.\r\n",
      ".\\..\\..\\..\\deps\\Fable\\src\\Fable.Core\\Fable.Core.PyInterop.fs(47,60): (47,70) warning FABLE: nativeOnly is being compiled without replacement, this will fail at runtime.\r\n",
      ".\\..\\..\\..\\deps\\Fable\\src\\Fable.Core\\Fable.Core.PyInterop.fs(50,27): (50,37) warning FABLE: nativeOnly is being compiled without replacement, this will fail at runtime.\r\n",
      ".\\..\\..\\..\\deps\\Fable\\src\\Fable.Core\\Fable.Core.PyInterop.fs(60,56): (60,66) warning FABLE: nativeOnly is being compiled without replacement, this will fail at runtime.\r\n",
      ".\\..\\..\\..\\deps\\Fable\\src\\Fable.Core\\Fable.Core.PyInterop.fs(65,43): (65,53) warning FABLE: nativeOnly is being compiled without replacement, this will fail at runtime.\r\n",
      ".\\..\\..\\..\\deps\\Fable\\src\\Fable.Core\\Fable.Core.PyInterop.fs(69,40): (69,50) warning FABLE: nativeOnly is being compiled without replacement, this will fail at runtime.\r\n",
      ".\\..\\..\\..\\deps\\Fable\\src\\Fable.Core\\Fable.Core.PyInterop.fs(72,46): (72,56) warning FABLE: nativeOnly is being compiled without replacement, this will fail at runtime.\r\n",
      ".\\..\\..\\..\\deps\\Fable\\src\\Fable.Core\\Fable.Core.JS.fs(34,76): (34,86) warning FABLE: nativeOnly is being compiled without replacement, this will fail at runtime.\r\n",
      ".\\..\\..\\..\\deps\\Fable\\src\\Fable.Core\\Fable.Core.JS.fs(39,44): (39,54) warning FABLE: nativeOnly is being compiled without replacement, this will fail at runtime.\r\n",
      ".\\..\\..\\..\\deps\\Fable\\src\\Fable.Core\\Fable.Core.JS.fs(42,43): (42,53) warning FABLE: nativeOnly is being compiled without replacement, this will fail at runtime.\r\n",
      ".\\..\\..\\..\\deps\\Fable\\src\\Fable.Core\\Fable.Core.JS.fs(45,40): (45,50) warning FABLE: nativeOnly is being compiled without replacement, this will fail at runtime.\r\n",
      ".\\..\\..\\..\\deps\\Fable\\src\\Fable.Core\\Fable.Core.JS.fs(48,27): (48,37) warning FABLE: nativeOnly is being compiled without replacement, this will fail at runtime.\r\n",
      ".\\..\\..\\..\\deps\\Fable\\src\\Fable.Core\\Fable.Core.JS.fs(787,37): (787,47) warning FABLE: nativeOnly is being compiled without replacement, this will fail at runtime.\r\n",
      ".\\..\\..\\..\\deps\\Fable\\src\\Fable.Core\\Fable.Core.JS.fs(790,42): (790,52) warning FABLE: nativeOnly is being compiled without replacement, this will fail at runtime.\r\n",
      ".\\..\\..\\..\\deps\\Fable\\src\\Fable.Core\\Fable.Core.Extensions.fs(9,43): (9,53) warning FABLE: nativeOnly is being compiled without replacement, this will fail at runtime.\r\n",
      ".\\..\\..\\..\\deps\\Fable\\src\\Fable.Core\\Fable.Core.Extensions.fs(13,74): (13,84) warning FABLE: nativeOnly is being compiled without replacement, this will fail at runtime.\r\n",
      ".\\..\\..\\..\\deps\\Fable\\src\\Fable.Core\\Fable.Core.Extensions.fs(16,12): (16,22) warning FABLE: nativeOnly is being compiled without replacement, this will fail at runtime.\r\n",
      ".\\..\\..\\..\\deps\\Fable\\src\\fable-library-ts\\List.fs(339,10): (339,12) warning FABLE: Generic args are ignored in type testing\r\n",
      ".\\..\\..\\..\\deps\\Fable\\src\\fable-library-ts\\Set.fs(36,18): (36,20) warning FABLE: Generic args are ignored in type testing\r\n",
      ".\\..\\..\\..\\deps\\Fable\\src\\fable-library-ts\\Map.fs(34,18): (34,20) warning FABLE: Generic args are ignored in type testing\r\n",
      "Fable 5.0.0-alpha.9: F# to Python compiler (status: beta)\r\n",
      "\r\n",
      "Thanks to the contributor! @tpetricek\r\n",
      "Stand with Ukraine! https://standwithukraine.com.ua/\r\n",
      "\r\n",
      "Parsing fable-library-python.fsproj...\r\n",
      "Project and references (1 source files) parsed in 2005ms\r\n",
      "\r\n",
      "Started Fable compilation...\r\n",
      "\r\n",
      "Fable compilation finished in 472ms\r\n",
      "\r\n",
      "polyglot/scripts/dep_fable.ps1 / $dotnetVersion: netstandard2.0 / $env:CI:''\r\n"
     ]
    }
   ],
   "source": [
    "{ . \"$ScriptDir/dep_fable.ps1\" } | Invoke-Block"
   ]
  },
  {
   "cell_type": "code",
   "execution_count": null,
   "metadata": {
    "dotnet_interactive": {
     "language": "pwsh"
    },
    "polyglot_notebook": {
     "kernelName": "pwsh"
    }
   },
   "outputs": [],
   "source": [
    "if (!(Test-Path ../deps/hyperui/.next/package.json)) {\n",
    "    { . \"$ScriptDir/dep_hyperui.ps1\" } | Invoke-Block\n",
    "}"
   ]
  }
 ],
 "metadata": {},
 "nbformat": 4,
 "nbformat_minor": 5
}