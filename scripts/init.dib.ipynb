{
 "cells": [
  {
   "cell_type": "code",
   "execution_count": null,
   "metadata": {
    "dotnet_interactive": {
     "language": "pwsh"
    },
    "polyglot_notebook": {
     "kernelName": "pwsh"
    }
   },
   "outputs": [],
   "source": [
    ". ./nbs_header.ps1\n",
    ". ./core.ps1"
   ]
  },
  {
   "cell_type": "code",
   "execution_count": null,
   "metadata": {
    "dotnet_interactive": {
     "language": "pwsh"
    },
    "polyglot_notebook": {
     "kernelName": "pwsh"
    }
   },
   "outputs": [],
   "source": [
    "# rustup +nightly component add clippy rust-src rustfmt"
   ]
  },
  {
   "cell_type": "code",
   "execution_count": null,
   "metadata": {
    "dotnet_interactive": {
     "language": "pwsh"
    },
    "polyglot_notebook": {
     "kernelName": "pwsh"
    }
   },
   "outputs": [],
   "source": [
    "# rustup +nightly target add wasm32-unknown-unknown"
   ]
  },
  {
   "cell_type": "code",
   "execution_count": null,
   "metadata": {
    "dotnet_interactive": {
     "language": "pwsh"
    },
    "polyglot_notebook": {
     "kernelName": "pwsh"
    }
   },
   "outputs": [
    {
     "name": "stdout",
     "output_type": "stream",
     "text": [
      "\u001B[31;1minfo: syncing channel updates for 'nightly-x86_64-pc-windows-msvc'\u001B[0m\r\n",
      "\u001B[31;1minfo: checking for self-update\u001B[0m\r\n",
      "\r\n",
      "  nightly-x86_64-pc-windows-msvc unchanged - rustc 1.81.0-nightly (cf2df68d1 2024-07-01)\r\n",
      "\r\n",
      "\u001B[31;1minfo: cleaning up downloads & tmp directories\u001B[0m\r\n"
     ]
    }
   ],
   "source": [
    "rustup +nightly update"
   ]
  },
  {
   "cell_type": "code",
   "execution_count": null,
   "metadata": {
    "dotnet_interactive": {
     "language": "pwsh"
    },
    "polyglot_notebook": {
     "kernelName": "pwsh"
    }
   },
   "outputs": [
    {
     "name": "stdout",
     "output_type": "stream",
     "text": [
      "\u001B[31;1m    Updating git repository `https://github.com/i574n/cargo-outdated.git`\u001B[0m\r\n",
      "\u001B[31;1m     Ignored package `cargo-outdated v0.15.0 (https://github.com/i574n/cargo-outdated.git#6ee2f109)` is already installed, use --force to override\u001B[0m\r\n"
     ]
    }
   ],
   "source": [
    "{ cargo +nightly install --git https://github.com/i574n/cargo-outdated.git --locked } | Invoke-Block -OnError Continue"
   ]
  },
  {
   "cell_type": "code",
   "execution_count": null,
   "metadata": {
    "dotnet_interactive": {
     "language": "pwsh"
    },
    "polyglot_notebook": {
     "kernelName": "pwsh"
    }
   },
   "outputs": [
    {
     "name": "stdout",
     "output_type": "stream",
     "text": [
      "\u001B[31;1m    Updating crates.io index\u001B[0m\r\n",
      "\u001B[31;1m Downloading crates ...\u001B[0m\r\n",
      "\u001B[31;1m  Downloaded sccache v0.8.1\u001B[0m\r\n",
      "\u001B[31;1m  Installing sccache v0.8.1\u001B[0m\r\n",
      "\u001B[31;1m    Updating crates.io index\u001B[0m\r\n",
      "\u001B[31;1m     Locking 338 packages to latest compatible versions\u001B[0m\r\n",
      "\u001B[31;1m      Adding addr2line v0.22.0 (latest: v0.23.0)\u001B[0m\r\n",
      "\u001B[31;1m      Adding base64 v0.21.7 (latest: v0.22.1)\u001B[0m\r\n",
      "\u001B[31;1m      Adding bitflags v1.3.2 (latest: v2.6.0)\u001B[0m\r\n",
      "\u001B[31;1m      Adding env_logger v0.10.2 (latest: v0.11.3)\u001B[0m\r\n",
      "\u001B[31;1m      Adding flume v0.10.14 (latest: v0.11.0)\u001B[0m\r\n",
      "\u001B[31;1m      Adding foreign-types v0.3.2 (latest: v0.5.0)\u001B[0m\r\n",
      "\u001B[31;1m      Adding foreign-types-shared v0.1.1 (latest: v0.3.1)\u001B[0m\r\n",
      "\u001B[31;1m      Adding generic-array v0.14.7 (latest: v1.0.0)\u001B[0m\r\n",
      "\u001B[31;1m      Adding gimli v0.29.0 (latest: v0.30.0)\u001B[0m\r\n",
      "\u001B[31;1m      Adding h2 v0.3.26 (latest: v0.4.5)\u001B[0m\r\n",
      "\u001B[31;1m      Adding heck v0.4.1 (latest: v0.5.0)\u001B[0m\r\n",
      "\u001B[31;1m      Adding hermit-abi v0.3.9 (latest: v0.4.0)\u001B[0m\r\n",
      "\u001B[31;1m      Adding hostname v0.3.1 (latest: v0.4.0)\u001B[0m\r\n",
      "\u001B[31;1m      Adding http v0.2.12 (latest: v1.1.0)\u001B[0m\r\n",
      "\u001B[31;1m      Adding http-body v0.4.6 (latest: v1.0.0)\u001B[0m\r\n",
      "\u001B[31;1m      Adding hyper v0.14.29 (latest: v1.4.0)\u001B[0m\r\n",
      "\u001B[31;1m      Adding hyper-rustls v0.24.2 (latest: v0.27.2)\u001B[0m\r\n",
      "\u001B[31;1m      Adding hyper-tls v0.5.0 (latest: v0.6.0)\u001B[0m\r\n",
      "\u001B[31;1m      Adding idna v0.4.0 (latest: v1.0.2)\u001B[0m\r\n",
      "\u001B[31;1m      Adding idna v0.5.0 (latest: v1.0.2)\u001B[0m\r\n",
      "\u001B[31;1m      Adding linux-raw-sys v0.4.14 (latest: v0.6.4)\u001B[0m\r\n",
      "\u001B[31;1m      Adding mio v0.8.11 (latest: v1.0.0)\u001B[0m\r\n",
      "\u001B[31;1m      Adding object v0.32.2 (latest: v0.36.1)\u001B[0m\r\n",
      "\u001B[31;1m      Adding opendal v0.45.1 (latest: v0.47.1)\u001B[0m\r\n",
      "\u001B[31;1m      Adding quick-error v1.2.3 (latest: v2.0.1)\u001B[0m\r\n",
      "\u001B[31;1m      Adding quick-xml v0.31.0 (latest: v0.35.0)\u001B[0m\r\n",
      "\u001B[31;1m      Adding redis v0.23.3 (latest: v0.25.4)\u001B[0m\r\n",
      "\u001B[31;1m      Adding redox_syscall v0.4.1 (latest: v0.5.2)\u001B[0m\r\n",
      "\u001B[31;1m      Adding reqsign v0.14.9 (latest: v0.15.2)\u001B[0m\r\n",
      "\u001B[31;1m      Adding reqwest v0.11.27 (latest: v0.12.5)\u001B[0m\r\n",
      "\u001B[31;1m      Adding rust-ini v0.20.0 (latest: v0.21.0)\u001B[0m\r\n",
      "\u001B[31;1m      Adding rustls v0.21.12 (latest: v0.23.10)\u001B[0m\r\n",
      "\u001B[31;1m      Adding rustls-native-certs v0.6.3 (latest: v0.7.0)\u001B[0m\r\n",
      "\u001B[31;1m      Adding rustls-pemfile v1.0.4 (latest: v2.1.2)\u001B[0m\r\n",
      "\u001B[31;1m      Adding rustls-webpki v0.101.7 (latest: v0.102.4)\u001B[0m\r\n",
      "\u001B[31;1m      Adding ruzstd v0.5.0 (latest: v0.7.0)\u001B[0m\r\n",
      "\u001B[31;1m      Adding socket2 v0.4.10 (latest: v0.5.7)\u001B[0m\r\n",
      "\u001B[31;1m      Adding sync_wrapper v0.1.2 (latest: v1.0.1)\u001B[0m\r\n",
      "\u001B[31;1m      Adding system-configuration v0.5.1 (latest: v0.6.0)\u001B[0m\r\n",
      "\u001B[31;1m      Adding system-configuration-sys v0.5.0 (latest: v0.6.0)\u001B[0m\r\n",
      "\u001B[31;1m      Adding tokio-rustls v0.24.1 (latest: v0.26.0)\u001B[0m\r\n",
      "\u001B[31;1m      Adding tokio-serde v0.8.0 (latest: v0.9.0)\u001B[0m\r\n",
      "\u001B[31;1m      Adding vte v0.11.1 (latest: v0.13.0)\u001B[0m\r\n",
      "\u001B[31;1m      Adding wasi v0.11.0+wasi-snapshot-preview1 (latest: v0.13.1+wasi-0.2.0)\u001B[0m\r\n",
      "\u001B[31;1m      Adding webpki-roots v0.25.4 (latest: v0.26.3)\u001B[0m\r\n",
      "\u001B[31;1m      Adding windows-core v0.52.0 (latest: v0.57.0)\u001B[0m\r\n",
      "\u001B[31;1m      Adding windows-sys v0.48.0 (latest: v0.52.0)\u001B[0m\r\n",
      "\u001B[31;1m      Adding windows-targets v0.48.5 (latest: v0.52.5)\u001B[0m\r\n",
      "\u001B[31;1m      Adding windows_aarch64_gnullvm v0.48.5 (latest: v0.52.5)\u001B[0m\r\n",
      "\u001B[31;1m      Adding windows_aarch64_msvc v0.48.5 (latest: v0.52.5)\u001B[0m\r\n",
      "\u001B[31;1m      Adding windows_i686_gnu v0.48.5 (latest: v0.52.5)\u001B[0m\r\n",
      "\u001B[31;1m      Adding windows_i686_msvc v0.48.5 (latest: v0.52.5)\u001B[0m\r\n",
      "\u001B[31;1m      Adding windows_x86_64_gnu v0.48.5 (latest: v0.52.5)\u001B[0m\r\n",
      "\u001B[31;1m      Adding windows_x86_64_gnullvm v0.48.5 (latest: v0.52.5)\u001B[0m\r\n",
      "\u001B[31;1m      Adding windows_x86_64_msvc v0.48.5 (latest: v0.52.5)\u001B[0m\r\n",
      "\u001B[31;1m      Adding winreg v0.50.0 (latest: v0.52.0)\u001B[0m\r\n",
      "\u001B[31;1m      Adding winsafe v0.0.19 (latest: v0.0.21)\u001B[0m\r\n",
      "\u001B[31;1m      Adding zip v0.6.6 (latest: v2.1.3)\u001B[0m\r\n",
      "\u001B[31;1m Downloading crates ...\u001B[0m\r\n",
      "\u001B[31;1m  Downloaded http-body-util v0.1.2\u001B[0m\r\n",
      "\u001B[31;1m  Downloaded vte_generate_state_changes v0.1.2\u001B[0m\r\n",
      "\u001B[31;1m  Downloaded bb8 v0.8.5\u001B[0m\r\n",
      "\u001B[31;1m  Downloaded hyper-util v0.1.6\u001B[0m\r\n",
      "\u001B[31;1m  Downloaded hyper v1.4.0\u001B[0m\r\n",
      "\u001B[31;1m   Compiling cfg-if v1.0.0\u001B[0m\r\n",
      "\u001B[31;1m   Compiling proc-macro2 v1.0.86\u001B[0m\r\n",
      "\u001B[31;1m   Compiling unicode-ident v1.0.12\u001B[0m\r\n",
      "\u001B[31;1m   Compiling autocfg v1.3.0\u001B[0m\r\n",
      "\u001B[31;1m   Compiling windows_x86_64_msvc v0.52.5\u001B[0m\r\n",
      "\u001B[31;1m   Compiling scopeguard v1.2.0\u001B[0m\r\n",
      "\u001B[31;1m   Compiling once_cell v1.19.0\u001B[0m\r\n",
      "\u001B[31;1m   Compiling windows_x86_64_msvc v0.48.5\u001B[0m\r\n",
      "\u001B[31;1m   Compiling jobserver v0.1.31\u001B[0m\r\n",
      "\u001B[31;1m   Compiling getrandom v0.2.15\u001B[0m\r\n",
      "\u001B[31;1m   Compiling bytes v1.6.0\u001B[0m\r\n",
      "\u001B[31;1m   Compiling cc v1.0.104\u001B[0m\r\n",
      "\u001B[31;1m   Compiling pin-project-lite v0.2.14\u001B[0m\r\n",
      "\u001B[31;1m   Compiling version_check v0.9.4\u001B[0m\r\n",
      "\u001B[31;1m   Compiling windows-targets v0.52.5\u001B[0m\r\n",
      "\u001B[31;1m   Compiling lock_api v0.4.12\u001B[0m\r\n",
      "\u001B[31;1m   Compiling windows-targets v0.48.5\u001B[0m\r\n",
      "\u001B[31;1m   Compiling windows-sys v0.52.0\u001B[0m\r\n",
      "\u001B[31;1m   Compiling windows-sys v0.48.0\u001B[0m\r\n",
      "\u001B[31;1m   Compiling typenum v1.17.0\u001B[0m\r\n",
      "\u001B[31;1m   Compiling generic-array v0.14.7\u001B[0m\r\n",
      "\u001B[31;1m   Compiling futures-core v0.3.30\u001B[0m\r\n",
      "\u001B[31;1m   Compiling quote v1.0.36\u001B[0m\r\n",
      "\u001B[31;1m   Compiling memchr v2.7.4\u001B[0m\r\n",
      "\u001B[31;1m   Compiling syn v2.0.68\u001B[0m\r\n",
      "\u001B[31;1m   Compiling smallvec v1.13.2\u001B[0m\r\n",
      "\u001B[31;1m   Compiling futures-sink v0.3.30\u001B[0m\r\n",
      "\u001B[31;1m   Compiling parking_lot_core v0.9.10\u001B[0m\r\n",
      "\u001B[31;1m   Compiling num_cpus v1.16.0\u001B[0m\r\n",
      "\u001B[31;1m   Compiling itoa v1.0.11\u001B[0m\r\n",
      "\u001B[31;1m   Compiling slab v0.4.9\u001B[0m\r\n",
      "\u001B[31;1m   Compiling parking_lot v0.12.3\u001B[0m\r\n",
      "\u001B[31;1m   Compiling futures-channel v0.3.30\u001B[0m\r\n",
      "\u001B[31;1m   Compiling pin-utils v0.1.0\u001B[0m\r\n",
      "\u001B[31;1m   Compiling futures-io v0.3.30\u001B[0m\r\n",
      "\u001B[31;1m   Compiling futures-task v0.3.30\u001B[0m\r\n",
      "\u001B[31;1m   Compiling crypto-common v0.1.6\u001B[0m\r\n",
      "\u001B[31;1m   Compiling spin v0.9.8\u001B[0m\r\n",
      "\u001B[31;1m   Compiling const-oid v0.9.6\u001B[0m\r\n",
      "\u001B[31;1m   Compiling rand_core v0.6.4\u001B[0m\r\n",
      "\u001B[31;1m   Compiling serde v1.0.203\u001B[0m\r\n",
      "\u001B[31;1m   Compiling log v0.4.22\u001B[0m\r\n",
      "\u001B[31;1m   Compiling block-buffer v0.10.4\u001B[0m\r\n",
      "\u001B[31;1m   Compiling fnv v1.0.7\u001B[0m\r\n",
      "\u001B[31;1m   Compiling subtle v2.6.1\u001B[0m\r\n",
      "\u001B[31;1m   Compiling ring v0.17.8\u001B[0m\r\n",
      "\u001B[31;1m   Compiling libm v0.2.8\u001B[0m\r\n",
      "\u001B[31;1m   Compiling digest v0.10.7\u001B[0m\r\n",
      "\u001B[31;1m   Compiling block-padding v0.3.3\u001B[0m\r\n",
      "\u001B[31;1m   Compiling num-traits v0.2.19\u001B[0m\r\n",
      "\u001B[31;1m   Compiling winapi v0.3.9\u001B[0m\r\n",
      "\u001B[31;1m   Compiling hashbrown v0.14.5\u001B[0m\r\n",
      "\u001B[31;1m   Compiling ppv-lite86 v0.2.17\u001B[0m\r\n",
      "\u001B[31;1m   Compiling tracing-core v0.1.32\u001B[0m\r\n",
      "\u001B[31;1m   Compiling rand_chacha v0.3.1\u001B[0m\r\n",
      "\u001B[31;1m   Compiling inout v0.1.3\u001B[0m\r\n",
      "\u001B[31;1m   Compiling untrusted v0.9.0\u001B[0m\r\n",
      "\u001B[31;1m   Compiling tinyvec_macros v0.1.1\u001B[0m\r\n",
      "\u001B[31;1m   Compiling tinyvec v1.6.1\u001B[0m\r\n",
      "\u001B[31;1m   Compiling cipher v0.4.4\u001B[0m\r\n",
      "\u001B[31;1m   Compiling rand v0.8.5\u001B[0m\r\n",
      "\u001B[31;1m   Compiling cpufeatures v0.2.12\u001B[0m\r\n",
      "\u001B[31;1m   Compiling thiserror v1.0.61\u001B[0m\r\n",
      "\u001B[31;1m   Compiling socket2 v0.5.7\u001B[0m\r\n",
      "\u001B[31;1m   Compiling httparse v1.9.4\u001B[0m\r\n",
      "\u001B[31;1m   Compiling crunchy v0.2.2\u001B[0m\r\n",
      "\u001B[31;1m   Compiling equivalent v1.0.1\u001B[0m\r\n",
      "\u001B[31;1m   Compiling indexmap v2.2.6\u001B[0m\r\n",
      "\u001B[31;1m   Compiling unicode-normalization v0.1.23\u001B[0m\r\n",
      "\u001B[31;1m   Compiling tiny-keccak v2.0.2\u001B[0m\r\n",
      "\u001B[31;1m   Compiling base64ct v1.6.0\u001B[0m\r\n",
      "\u001B[31;1m   Compiling mio v0.8.11\u001B[0m\r\n",
      "\u001B[31;1m   Compiling percent-encoding v2.3.1\u001B[0m\r\n",
      "\u001B[31;1m   Compiling unicode-bidi v0.3.15\u001B[0m\r\n",
      "\u001B[31;1m   Compiling zeroize v1.8.1\u001B[0m\r\n",
      "\u001B[31;1m   Compiling form_urlencoded v1.2.1\u001B[0m\r\n",
      "\u001B[31;1m   Compiling pem-rfc7468 v0.7.0\u001B[0m\r\n",
      "\u001B[31;1m   Compiling schannel v0.1.23\u001B[0m\r\n",
      "\u001B[31;1m   Compiling num-integer v0.1.46\u001B[0m\r\n",
      "\u001B[31;1m   Compiling hmac v0.12.1\u001B[0m\r\n",
      "\u001B[31;1m   Compiling tokio-macros v2.3.0\u001B[0m\r\n",
      "\u001B[31;1m   Compiling futures-macro v0.3.30\u001B[0m\r\n",
      "\u001B[31;1m   Compiling serde_derive v1.0.203\u001B[0m\r\n",
      "\u001B[31;1m   Compiling tracing-attributes v0.1.27\u001B[0m\r\n",
      "\u001B[31;1m   Compiling thiserror-impl v1.0.61\u001B[0m\r\n",
      "\u001B[31;1m   Compiling pin-project-internal v1.1.5\u001B[0m\r\n",
      "\u001B[31;1m   Compiling http v0.2.12\u001B[0m\r\n",
      "\u001B[31;1m   Compiling tokio v1.38.0\u001B[0m\r\n",
      "\u001B[31;1m   Compiling futures-util v0.3.30\u001B[0m\r\n",
      "\u001B[31;1m   Compiling tracing v0.1.40\u001B[0m\r\n",
      "\u001B[31;1m   Compiling byteorder v1.5.0\u001B[0m\r\n",
      "\u001B[31;1m   Compiling httpdate v1.0.3\u001B[0m\r\n",
      "\u001B[31;1m   Compiling rustls v0.21.12\u001B[0m\r\n",
      "\u001B[31;1m   Compiling pin-project v1.1.5\u001B[0m\r\n",
      "\u001B[31;1m   Compiling rustls-webpki v0.101.7\u001B[0m\r\n",
      "\u001B[31;1m   Compiling sct v0.7.1\u001B[0m\r\n",
      "\u001B[31;1m   Compiling pbkdf2 v0.12.2\u001B[0m\r\n",
      "\u001B[31;1m   Compiling async-trait v0.1.80\u001B[0m\r\n",
      "\u001B[31;1m   Compiling der v0.7.9\u001B[0m\r\n",
      "\u001B[31;1m   Compiling idna v0.5.0\u001B[0m\r\n",
      "\u001B[31;1m   Compiling sha2 v0.10.8\u001B[0m\r\n",
      "\u001B[31;1m   Compiling salsa20 v0.10.2\u001B[0m\r\n",
      "\u001B[31;1m   Compiling tower-service v0.3.2\u001B[0m\r\n",
      "\u001B[31;1m   Compiling try-lock v0.2.5\u001B[0m\r\n",
      "\u001B[31;1m   Compiling native-tls v0.2.12\u001B[0m\r\n",
      "\u001B[31;1m   Compiling ryu v1.0.18\u001B[0m\r\n",
      "\u001B[31;1m   Compiling base64 v0.21.7\u001B[0m\r\n",
      "\u001B[31;1m   Compiling want v0.3.1\u001B[0m\r\n",
      "\u001B[31;1m   Compiling scrypt v0.11.0\u001B[0m\r\n",
      "\u001B[31;1m   Compiling spki v0.7.3\u001B[0m\r\n",
      "\u001B[31;1m   Compiling url v2.5.2\u001B[0m\r\n",
      "\u001B[31;1m   Compiling const-random-macro v0.1.16\u001B[0m\r\n",
      "\u001B[31;1m   Compiling http-body v0.4.6\u001B[0m\r\n",
      "\u001B[31;1m   Compiling aes v0.8.4\u001B[0m\r\n",
      "\u001B[31;1m   Compiling tokio-util v0.7.11\u001B[0m\r\n",
      "\u001B[31;1m   Compiling cbc v0.1.2\u001B[0m\r\n",
      "\u001B[31;1m   Compiling heck v0.4.1\u001B[0m\r\n",
      "\u001B[31;1m   Compiling num-conv v0.1.0\u001B[0m\r\n",
      "\u001B[31;1m   Compiling match_cfg v0.1.0\u001B[0m\r\n",
      "\u001B[31;1m   Compiling ipconfig v0.3.2\u001B[0m\r\n",
      "\u001B[31;1m   Compiling h2 v0.3.26\u001B[0m\r\n",
      "\u001B[31;1m   Compiling serde_json v1.0.120\u001B[0m\r\n",
      "\u001B[31;1m   Compiling pkg-config v0.3.30\u001B[0m\r\n",
      "\u001B[31;1m   Compiling time-core v0.1.2\u001B[0m\r\n",
      "\u001B[31;1m   Compiling powerfmt v0.2.0\u001B[0m\r\n",
      "\u001B[31;1m   Compiling utf8parse v0.2.2\u001B[0m\r\n",
      "\u001B[31;1m   Compiling deranged v0.3.11\u001B[0m\r\n",
      "\u001B[31;1m   Compiling time-macros v0.2.18\u001B[0m\r\n",
      "\u001B[31;1m   Compiling hostname v0.3.1\u001B[0m\r\n",
      "\u001B[31;1m   Compiling enum-as-inner v0.6.0\u001B[0m\r\n",
      "\u001B[31;1m   Compiling zstd-sys v2.0.11+zstd.1.5.6\u001B[0m\r\n",
      "\u001B[31;1m   Compiling tokio-rustls v0.24.1\u001B[0m\r\n",
      "\u001B[31;1m   Compiling pkcs5 v0.7.1\u001B[0m\r\n",
      "\u001B[31;1m   Compiling const-random v0.1.18\u001B[0m\r\n",
      "\u001B[31;1m   Compiling rustls-pemfile v1.0.4\u001B[0m\r\n",
      "\u001B[31;1m   Compiling idna v0.4.0\u001B[0m\r\n",
      "\u001B[31;1m   Compiling winreg v0.50.0\u001B[0m\r\n",
      "\u001B[31;1m   Compiling backtrace v0.3.73\u001B[0m\r\n",
      "\u001B[31;1m   Compiling linked-hash-map v0.5.6\u001B[0m\r\n",
      "\u001B[31;1m   Compiling quick-error v1.2.3\u001B[0m\r\n",
      "\u001B[31;1m   Compiling widestring v1.1.0\u001B[0m\r\n",
      "\u001B[31;1m   Compiling ipnet v2.9.0\u001B[0m\r\n",
      "\u001B[31;1m   Compiling num-bigint-dig v0.8.4\u001B[0m\r\n",
      "\u001B[31;1m   Compiling data-encoding v2.6.0\u001B[0m\r\n",
      "\u001B[31;1m   Compiling time v0.3.36\u001B[0m\r\n",
      "\u001B[31;1m   Compiling hickory-proto v0.24.1\u001B[0m\r\n",
      "\u001B[31;1m   Compiling hyper v0.14.29\u001B[0m\r\n",
      "\u001B[31;1m   Compiling resolv-conf v0.7.0\u001B[0m\r\n",
      "\u001B[31;1m   Compiling lru-cache v0.1.2\u001B[0m\r\n",
      "\u001B[31;1m   Compiling pkcs8 v0.10.2\u001B[0m\r\n",
      "\u001B[31;1m   Compiling rustls-native-certs v0.6.3\u001B[0m\r\n",
      "\u001B[31;1m   Compiling tokio-native-tls v0.3.1\u001B[0m\r\n",
      "\u001B[31;1m   Compiling toml_datetime v0.6.6\u001B[0m\r\n",
      "\u001B[31;1m   Compiling serde_spanned v0.6.6\u001B[0m\r\n",
      "\u001B[31;1m   Compiling dlv-list v0.5.2\u001B[0m\r\n",
      "\u001B[31;1m   Compiling num-bigint v0.4.6\u001B[0m\r\n",
      "\u001B[31;1m   Compiling num-iter v0.1.45\u001B[0m\r\n",
      "\u001B[31;1m   Compiling winapi-util v0.1.8\u001B[0m\r\n",
      "\u001B[31;1m   Compiling http v1.1.0\u001B[0m\r\n",
      "\u001B[31;1m   Compiling lazy_static v1.5.0\u001B[0m\r\n",
      "\u001B[31;1m   Compiling crc32fast v1.4.2\u001B[0m\r\n",
      "\u001B[31;1m   Compiling base64 v0.22.1\u001B[0m\r\n",
      "\u001B[31;1m   Compiling anyhow v1.0.86\u001B[0m\r\n",
      "\u001B[31;1m   Compiling adler v1.0.2\u001B[0m\r\n",
      "\u001B[31;1m   Compiling anstyle v1.0.7\u001B[0m\r\n",
      "\u001B[31;1m   Compiling crc16 v0.4.0\u001B[0m\r\n",
      "\u001B[31;1m   Compiling winnow v0.6.13\u001B[0m\r\n",
      "\u001B[31;1m   Compiling rustc-demangle v0.1.24\u001B[0m\r\n",
      "\u001B[31;1m   Compiling anstyle-wincon v3.0.3\u001B[0m\r\n",
      "\u001B[31;1m   Compiling miniz_oxide v0.7.4\u001B[0m\r\n",
      "\u001B[31;1m   Compiling simple_asn1 v0.6.2\u001B[0m\r\n",
      "\u001B[31;1m   Compiling toml_edit v0.22.14\u001B[0m\r\n",
      "\u001B[31;1m   Compiling pem v3.0.4\u001B[0m\r\n",
      "\u001B[31;1m   Compiling http-body v1.0.0\u001B[0m\r\n",
      "\u001B[31;1m   Compiling ordered-multimap v0.7.3\u001B[0m\r\n",
      "\u001B[31;1m   Compiling hyper-rustls v0.24.2\u001B[0m\r\n",
      "\u001B[31;1m   Compiling hyper-tls v0.5.0\u001B[0m\r\n",
      "\u001B[31;1m   Compiling hickory-resolver v0.24.1\u001B[0m\r\n",
      "\u001B[31;1m   Compiling pkcs1 v0.7.5\u001B[0m\r\n",
      "\u001B[31;1m   Compiling serde_urlencoded v0.7.1\u001B[0m\r\n",
      "\u001B[31;1m   Compiling anstyle-parse v0.2.4\u001B[0m\r\n",
      "\u001B[31;1m   Compiling futures-executor v0.3.30\u001B[0m\r\n",
      "\u001B[31;1m   Compiling anstyle-query v1.1.0\u001B[0m\r\n",
      "\u001B[31;1m   Compiling home v0.5.9\u001B[0m\r\n",
      "\u001B[31;1m   Compiling signature v2.2.0\u001B[0m\r\n",
      "\u001B[31;1m   Compiling aho-corasick v1.1.3\u001B[0m\r\n",
      "\u001B[31;1m   Compiling encoding_rs v0.8.34\u001B[0m\r\n",
      "\u001B[31;1m   Compiling mime v0.3.17\u001B[0m\r\n",
      "\u001B[31;1m   Compiling is_terminal_polyfill v1.70.0\u001B[0m\r\n",
      "\u001B[31;1m   Compiling zstd-safe v7.1.0\u001B[0m\r\n",
      "\u001B[31;1m   Compiling regex-syntax v0.8.4\u001B[0m\r\n",
      "\u001B[31;1m   Compiling static_assertions v1.1.0\u001B[0m\r\n",
      "\u001B[31;1m   Compiling colorchoice v1.0.1\u001B[0m\r\n",
      "\u001B[31;1m   Compiling webpki-roots v0.25.4\u001B[0m\r\n",
      "\u001B[31;1m   Compiling fastrand v2.1.0\u001B[0m\r\n",
      "\u001B[31;1m   Compiling sync_wrapper v0.1.2\u001B[0m\r\n",
      "\u001B[31;1m   Compiling reqwest v0.11.27\u001B[0m\r\n",
      "\u001B[31;1m   Compiling anstream v0.6.14\u001B[0m\r\n",
      "\u001B[31;1m   Compiling regex-automata v0.4.7\u001B[0m\r\n",
      "\u001B[31;1m   Compiling twox-hash v1.6.3\u001B[0m\r\n",
      "\u001B[31;1m   Compiling toml v0.8.14\u001B[0m\r\n",
      "\u001B[31;1m   Compiling rsa v0.9.6\u001B[0m\r\n",
      "\u001B[31;1m   Compiling futures v0.3.30\u001B[0m\r\n",
      "\u001B[31;1m   Compiling rust-ini v0.20.0\u001B[0m\r\n",
      "\u001B[31;1m   Compiling jsonwebtoken v9.3.0\u001B[0m\r\n",
      "\u001B[31;1m   Compiling flate2 v1.0.30\u001B[0m\r\n",
      "\u001B[31;1m   Compiling quick-xml v0.31.0\u001B[0m\r\n",
      "\u001B[31;1m   Compiling combine v4.6.7\u001B[0m\r\n",
      "\u001B[31;1m   Compiling tokio-retry v0.3.0\u001B[0m\r\n",
      "\u001B[31;1m   Compiling derive_more v0.99.18\u001B[0m\r\n",
      "\u001B[31;1m   Compiling socket2 v0.4.10\u001B[0m\r\n",
      "\u001B[31;1m   Compiling terminal_size v0.3.0\u001B[0m\r\n",
      "\u001B[31;1m   Compiling chrono v0.4.38\u001B[0m\r\n",
      "\u001B[31;1m   Compiling sha1 v0.10.6\u001B[0m\r\n",
      "\u001B[31;1m   Compiling blake3 v1.5.1\u001B[0m\r\n",
      "\u001B[31;1m   Compiling vte_generate_state_changes v0.1.2\u001B[0m\r\n",
      "\u001B[31;1m   Compiling fs-err v2.11.0\u001B[0m\r\n",
      "\u001B[31;1m   Compiling nanorand v0.7.0\u001B[0m\r\n",
      "\u001B[31;1m   Compiling option-ext v0.2.0\u001B[0m\r\n",
      "\u001B[31;1m   Compiling sha1_smol v1.0.0\u001B[0m\r\n",
      "\u001B[31;1m   Compiling strsim v0.11.1\u001B[0m\r\n",
      "\u001B[31;1m   Compiling semver v1.0.23\u001B[0m\r\n",
      "\u001B[31;1m   Compiling arc-swap v1.7.1\u001B[0m\r\n",
      "\u001B[31;1m   Compiling hex v0.4.3\u001B[0m\r\n",
      "\u001B[31;1m   Compiling heck v0.5.0\u001B[0m\r\n",
      "\u001B[31;1m   Compiling libc v0.2.155\u001B[0m\r\n",
      "\u001B[31;1m   Compiling clap_lex v0.7.1\u001B[0m\r\n",
      "\u001B[31;1m   Compiling clap_derive v4.5.8\u001B[0m\r\n",
      "\u001B[31;1m   Compiling clap_builder v4.5.8\u001B[0m\r\n",
      "\u001B[31;1m   Compiling reqsign v0.14.9\u001B[0m\r\n",
      "\u001B[31;1m   Compiling ruzstd v0.5.0\u001B[0m\r\n",
      "\u001B[31;1m   Compiling redis v0.23.3\u001B[0m\r\n",
      "\u001B[31;1m   Compiling flume v0.10.14\u001B[0m\r\n",
      "\u001B[31;1m   Compiling dirs-sys v0.4.1\u001B[0m\r\n",
      "\u001B[31;1m   Compiling vte v0.11.1\u001B[0m\r\n",
      "\u001B[31;1m   Compiling regex v1.10.5\u001B[0m\r\n",
      "\u001B[31;1m   Compiling backon v0.4.4\u001B[0m\r\n",
      "\u001B[31;1m   Compiling hyper v1.4.0\u001B[0m\r\n",
      "\u001B[31;1m   Compiling termcolor v1.4.1\u001B[0m\r\n",
      "\u001B[31;1m   Compiling same-file v1.0.6\u001B[0m\r\n",
      "\u001B[31;1m   Compiling uuid v1.9.1\u001B[0m\r\n",
      "\u001B[31;1m   Compiling bb8 v0.8.5\u001B[0m\r\n",
      "\u001B[31;1m   Compiling core_affinity v0.8.1\u001B[0m\r\n",
      "\u001B[31;1m   Compiling filetime v0.2.23\u001B[0m\r\n",
      "\u001B[31;1m   Compiling is-terminal v0.4.12\u001B[0m\r\n",
      "\u001B[31;1m   Compiling md-5 v0.10.6\u001B[0m\r\n",
      "\u001B[31;1m   Compiling either v1.13.0\u001B[0m\r\n",
      "\u001B[31;1m   Compiling humantime v2.1.0\u001B[0m\r\n",
      "\u001B[31;1m   Compiling flagset v0.4.5\u001B[0m\r\n",
      "\u001B[31;1m   Compiling arrayvec v0.7.4\u001B[0m\r\n",
      "\u001B[31;1m   Compiling arrayref v0.3.7\u001B[0m\r\n",
      "\u001B[31;1m   Compiling constant_time_eq v0.3.0\u001B[0m\r\n",
      "\u001B[31;1m   Compiling tower-layer v0.3.2\u001B[0m\r\n",
      "\u001B[31;1m   Compiling winsafe v0.0.19\u001B[0m\r\n",
      "\u001B[31;1m   Compiling opendal v0.45.1\u001B[0m\r\n",
      "\u001B[31;1m   Compiling tower v0.4.13\u001B[0m\r\n",
      "\u001B[31;1m   Compiling env_logger v0.10.2\u001B[0m\r\n",
      "\u001B[31;1m   Compiling tar v0.4.41\u001B[0m\r\n",
      "\u001B[31;1m   Compiling gzp v0.11.3\u001B[0m\r\n",
      "\u001B[31;1m   Compiling walkdir v2.5.0\u001B[0m\r\n",
      "\u001B[31;1m   Compiling hyper-util v0.1.6\u001B[0m\r\n",
      "\u001B[31;1m   Compiling clap v4.5.8\u001B[0m\r\n",
      "\u001B[31;1m   Compiling strip-ansi-escapes v0.2.0\u001B[0m\r\n",
      "\u001B[31;1m   Compiling zstd v0.13.1\u001B[0m\r\n",
      "\u001B[31;1m   Compiling directories v5.0.1\u001B[0m\r\n",
      "\u001B[31;1m   Compiling object v0.32.2\u001B[0m\r\n",
      "\u001B[31;1m   Compiling which v6.0.1\u001B[0m\r\n",
      "\u001B[31;1m   Compiling tempfile v3.10.1\u001B[0m\r\n",
      "\u001B[31;1m   Compiling http-body-util v0.1.2\u001B[0m\r\n",
      "\u001B[31;1m   Compiling zip v0.6.6\u001B[0m\r\n",
      "\u001B[31;1m   Compiling bincode v1.3.3\u001B[0m\r\n",
      "\u001B[31;1m   Compiling tokio-serde v0.8.0\u001B[0m\r\n",
      "\u001B[31;1m   Compiling retry v2.0.0\u001B[0m\r\n",
      "\u001B[31;1m   Compiling number_prefix v0.4.0\u001B[0m\r\n",
      "\u001B[31;1m   Compiling ar v0.9.0\u001B[0m\r\n",
      "\u001B[31;1m   Compiling memmap2 v0.9.4\u001B[0m\r\n",
      "\u001B[31;1m   Compiling sccache v0.8.1\u001B[0m\r\n",
      "\u001B[31;1m    Finished `release` profile [optimized] target(s) in 17m 12s\u001B[0m\r\n",
      "\u001B[31;1m   Replacing C:\\Users\\i574n\\scoop\\persist\\rustup\\.cargo\\bin\\sccache.exe\u001B[0m\r\n",
      "\u001B[31;1m    Replaced package `sccache v0.8.0` with `sccache v0.8.1` (executable `sccache.exe`)\u001B[0m\r\n"
     ]
    }
   ],
   "source": [
    "{ cargo +nightly install sccache } | Invoke-Block -OnError Continue"
   ]
  },
  {
   "cell_type": "code",
   "execution_count": null,
   "metadata": {
    "dotnet_interactive": {
     "language": "pwsh"
    },
    "polyglot_notebook": {
     "kernelName": "pwsh"
    }
   },
   "outputs": [
    {
     "name": "stdout",
     "output_type": "stream",
     "text": [
      "\u001B[31;1m    Updating crates.io index\u001B[0m\r\n",
      "\u001B[31;1m Downloading crates ...\u001B[0m\r\n",
      "\u001B[31;1m  Downloaded wasm-pack v0.13.0\u001B[0m\r\n",
      "\u001B[31;1m  Installing wasm-pack v0.13.0\u001B[0m\r\n",
      "\u001B[31;1m    Updating crates.io index\u001B[0m\r\n",
      "\u001B[31;1m    Updating crates.io index\u001B[0m\r\n",
      "\u001B[31;1m Downloading crates ...\u001B[0m\r\n",
      "\u001B[31;1m  Downloaded cmake v0.1.50\u001B[0m\r\n",
      "\u001B[31;1m  Downloaded human-panic v1.2.3\u001B[0m\r\n",
      "\u001B[31;1m  Downloaded displaydoc v0.2.5\u001B[0m\r\n",
      "\u001B[31;1m  Downloaded fs4 v0.6.6\u001B[0m\r\n",
      "\u001B[31;1m  Downloaded deflate64 v0.1.8\u001B[0m\r\n",
      "\u001B[31;1m  Downloaded crc-catalog v2.4.0\u001B[0m\r\n",
      "\u001B[31;1m  Downloaded path-clean v1.0.1\u001B[0m\r\n",
      "\u001B[31;1m  Downloaded lzma-rs v0.3.0\u001B[0m\r\n",
      "\u001B[31;1m  Downloaded crc v3.2.1\u001B[0m\r\n",
      "\u001B[31;1m  Downloaded num_enum v0.7.2\u001B[0m\r\n",
      "\u001B[31;1m  Downloaded num_enum_derive v0.7.2\u001B[0m\r\n",
      "\u001B[31;1m  Downloaded zip v1.1.4\u001B[0m\r\n",
      "\u001B[31;1m  Downloaded zip_next v1.1.1\u001B[0m\r\n",
      "\u001B[31;1m  Downloaded binary-install v0.4.0\u001B[0m\r\n",
      "\u001B[31;1m  Downloaded libz-ng-sys v1.1.15\u001B[0m\r\n",
      "\u001B[31;1m   Compiling proc-macro2 v1.0.86\u001B[0m\r\n",
      "\u001B[31;1m   Compiling jobserver v0.1.31\u001B[0m\r\n",
      "\u001B[31;1m   Compiling once_cell v1.19.0\u001B[0m\r\n",
      "\u001B[31;1m   Compiling unicode-ident v1.0.12\u001B[0m\r\n",
      "\u001B[31;1m   Compiling windows_x86_64_msvc v0.52.5\u001B[0m\r\n",
      "\u001B[31;1m   Compiling cfg-if v1.0.0\u001B[0m\r\n",
      "\u001B[31;1m   Compiling serde v1.0.203\u001B[0m\r\n",
      "\u001B[31;1m   Compiling typenum v1.17.0\u001B[0m\r\n",
      "\u001B[31;1m   Compiling version_check v0.9.4\u001B[0m\r\n",
      "\u001B[31;1m   Compiling pkg-config v0.3.30\u001B[0m\r\n",
      "\u001B[31;1m   Compiling cc v1.0.104\u001B[0m\r\n",
      "\u001B[31;1m   Compiling windows-targets v0.52.5\u001B[0m\r\n",
      "\u001B[31;1m   Compiling libc v0.2.155\u001B[0m\r\n",
      "\u001B[31;1m   Compiling equivalent v1.0.1\u001B[0m\r\n",
      "\u001B[31;1m   Compiling windows-sys v0.52.0\u001B[0m\r\n",
      "\u001B[31;1m   Compiling generic-array v0.14.7\u001B[0m\r\n",
      "\u001B[31;1m   Compiling subtle v2.6.1\u001B[0m\r\n",
      "\u001B[31;1m   Compiling log v0.4.22\u001B[0m\r\n",
      "\u001B[31;1m   Compiling hashbrown v0.14.5\u001B[0m\r\n",
      "\u001B[31;1m   Compiling quote v1.0.36\u001B[0m\r\n",
      "\u001B[31;1m   Compiling syn v2.0.68\u001B[0m\r\n",
      "\u001B[31;1m   Compiling autocfg v1.3.0\u001B[0m\r\n",
      "\u001B[31;1m   Compiling cmake v0.1.50\u001B[0m\r\n",
      "\u001B[31;1m   Compiling indexmap v2.2.6\u001B[0m\r\n",
      "\u001B[31;1m   Compiling getrandom v0.2.15\u001B[0m\r\n",
      "\u001B[31;1m   Compiling toml_datetime v0.6.6\u001B[0m\r\n",
      "\u001B[31;1m   Compiling winnow v0.5.40\u001B[0m\r\n",
      "\u001B[31;1m   Compiling crypto-common v0.1.6\u001B[0m\r\n",
      "\u001B[31;1m   Compiling block-buffer v0.10.4\u001B[0m\r\n",
      "\u001B[31;1m   Compiling winapi v0.3.9\u001B[0m\r\n",
      "\u001B[31;1m   Compiling digest v0.10.7\u001B[0m\r\n",
      "\u001B[31;1m   Compiling crc32fast v1.4.2\u001B[0m\r\n",
      "\u001B[31;1m   Compiling zstd-safe v7.1.0\u001B[0m\r\n",
      "\u001B[31;1m   Compiling tinyvec_macros v0.1.1\u001B[0m\r\n",
      "\u001B[31;1m   Compiling adler v1.0.2\u001B[0m\r\n",
      "\u001B[31;1m   Compiling windows_x86_64_msvc v0.48.5\u001B[0m\r\n",
      "\u001B[31;1m   Compiling thiserror v1.0.61\u001B[0m\r\n",
      "\u001B[31;1m   Compiling miniz_oxide v0.7.4\u001B[0m\r\n",
      "\u001B[31;1m   Compiling zstd-sys v2.0.11+zstd.1.5.6\u001B[0m\r\n",
      "\u001B[31;1m   Compiling ring v0.17.8\u001B[0m\r\n",
      "\u001B[31;1m   Compiling libz-ng-sys v1.1.15\u001B[0m\r\n",
      "\u001B[31;1merror: failed to run custom build command for `libz-ng-sys v1.1.15`\u001B[0m\r\n",
      "\u001B[31;1m\u001B[0m\r\n",
      "\u001B[31;1mCaused by:\u001B[0m\r\n",
      "\u001B[31;1m  process didn't exit successfully: `C:\\Users\\i574n\\AppData\\Local\\Temp\\cargo-installHWCNW0\\release\\build\\libz-ng-sys-931167cd034ef85d\\build-script-build_zng` (exit code: 101)\u001B[0m\r\n",
      "\u001B[31;1m  --- stdout\u001B[0m\r\n",
      "\u001B[31;1m  CMAKE_TOOLCHAIN_FILE_x86_64-pc-windows-msvc = None\u001B[0m\r\n",
      "\u001B[31;1m  CMAKE_TOOLCHAIN_FILE_x86_64_pc_windows_msvc = None\u001B[0m\r\n",
      "\u001B[31;1m  HOST_CMAKE_TOOLCHAIN_FILE = None\u001B[0m\r\n",
      "\u001B[31;1m  CMAKE_TOOLCHAIN_FILE = None\u001B[0m\r\n",
      "\u001B[31;1m  CMAKE_GENERATOR_x86_64-pc-windows-msvc = None\u001B[0m\r\n",
      "\u001B[31;1m  CMAKE_GENERATOR_x86_64_pc_windows_msvc = None\u001B[0m\r\n",
      "\u001B[31;1m  HOST_CMAKE_GENERATOR = None\u001B[0m\r\n",
      "\u001B[31;1m  CMAKE_GENERATOR = None\u001B[0m\r\n",
      "\u001B[31;1m  CMAKE_PREFIX_PATH_x86_64-pc-windows-msvc = None\u001B[0m\r\n",
      "\u001B[31;1m  CMAKE_PREFIX_PATH_x86_64_pc_windows_msvc = None\u001B[0m\r\n",
      "\u001B[31;1m  HOST_CMAKE_PREFIX_PATH = None\u001B[0m\r\n",
      "\u001B[31;1m  CMAKE_PREFIX_PATH = None\u001B[0m\r\n",
      "\u001B[31;1m  CMAKE_x86_64-pc-windows-msvc = None\u001B[0m\r\n",
      "\u001B[31;1m  CMAKE_x86_64_pc_windows_msvc = None\u001B[0m\r\n",
      "\u001B[31;1m  HOST_CMAKE = None\u001B[0m\r\n",
      "\u001B[31;1m  CMAKE = None\u001B[0m\r\n",
      "\u001B[31;1m  running: \"cmake\" \"C:\\\\Users\\\\i574n\\\\scoop\\\\persist\\\\rustup\\\\.cargo\\\\registry\\\\src\\\\index.crates.io-6f17d22bba15001f\\\\libz-ng-sys-1.1.15\\\\src/zlib-ng\" \"-G\" \"Visual Studio 17 2022\" \"-Thost=x64\" \"-Ax64\" \"-DBUILD_SHARED_LIBS=OFF\" \"-DZLIB_COMPAT=OFF\" \"-DZLIB_ENABLE_TESTS=OFF\" \"-DWITH_GZFILEOP=ON\" \"-DCMAKE_INSTALL_PREFIX=C:\\\\Users\\\\i574n\\\\AppData\\\\Local\\\\Temp\\\\cargo-installHWCNW0\\\\release\\\\build\\\\libz-ng-sys-9586ea2184239dd8\\\\out\" \"-DCMAKE_C_FLAGS= -nologo -MD -Brepro\" \"-DCMAKE_C_FLAGS_RELEASE= -nologo -MD -Brepro\" \"-DCMAKE_CXX_FLAGS= -nologo -MD -Brepro\" \"-DCMAKE_CXX_FLAGS_RELEASE= -nologo -MD -Brepro\" \"-DCMAKE_ASM_FLAGS= -nologo -MD -Brepro\" \"-DCMAKE_ASM_FLAGS_RELEASE= -nologo -MD -Brepro\" \"-DCMAKE_BUILD_TYPE=Release\"\u001B[0m\r\n",
      "\u001B[31;1m\u001B[0m\r\n",
      "\u001B[31;1m  --- stderr\u001B[0m\r\n",
      "\u001B[31;1m  thread 'main' panicked at C:\\Users\\i574n\\scoop\\persist\\rustup\\.cargo\\registry\\src\\index.crates.io-6f17d22bba15001f\\cmake-0.1.50\\src\\lib.rs:1098:5:\u001B[0m\r\n",
      "\u001B[31;1m\u001B[0m\r\n",
      "\u001B[31;1m  failed to execute command: program not found\u001B[0m\r\n",
      "\u001B[31;1m  is `cmake` not installed?\u001B[0m\r\n",
      "\u001B[31;1m\u001B[0m\r\n",
      "\u001B[31;1m  build script failed, must exit now\u001B[0m\r\n",
      "\u001B[31;1m  note: run with `RUST_BACKTRACE=1` environment variable to display a backtrace\u001B[0m\r\n",
      "\u001B[31;1mwarning: build failed, waiting for other jobs to finish...\u001B[0m\r\n",
      "\u001B[31;1merror: failed to compile `wasm-pack v0.13.0`, intermediate artifacts can be found at `C:\\Users\\i574n\\AppData\\Local\\Temp\\cargo-installHWCNW0`.\u001B[0m\r\n",
      "\u001B[31;1mTo reuse those artifacts with a future compilation, set the environment variable `CARGO_TARGET_DIR` to that path.\u001B[0m\r\n",
      "\n",
      "# Invoke-Block / $retry: 1/1 / $Location:  / Get-Location: C:\\home\\git\\polyglot\\scripts / $OnError: Continue / $exitcode: 101 / $EnvVars: {\r\n",
      "  \"PATH\": \"C:\\\\Users\\\\i574n\\\\scoop\\\\apps\\\\pwsh\\\\current;C:\\\\Program Files\\\\NVIDIA\\\\CUDNN\\\\v9.1\\\\bin;C:\\\\ProgramData\\\\scoop\\\\shims;C:\\\\WINDOWS\\\\system32;C:\\\\WINDOWS;C:\\\\WINDOWS\\\\System32\\\\Wbem;C:\\\\WINDOWS\\\\System32\\\\WindowsPowerShell\\\\v1.0\\\\;C:\\\\WINDOWS\\\\System32\\\\OpenSSH\\\\;C:\\\\ProgramData\\\\chocolatey\\\\bin;C:\\\\Program Files\\\\dotnet\\\\;C:\\\\WINDOWS\\\\system32;C:\\\\WINDOWS;C:\\\\WINDOWS\\\\System32\\\\Wbem;C:\\\\WINDOWS\\\\System32\\\\WindowsPowerShell\\\\v1.0\\\\;C:\\\\WINDOWS\\\\System32\\\\OpenSSH\\\\;C:\\\\Program Files\\\\Intel\\\\WiFi\\\\bin\\\\;C:\\\\Program Files\\\\Common Files\\\\Intel\\\\WirelessCommon\\\\;C:\\\\Program Files\\\\Perforce;C:\\\\Users\\\\i574n\\\\scoop\\\\apps\\\\vscode-insiders\\\\current\\\\bin;C:\\\\Users\\\\i574n\\\\scoop\\\\apps\\\\elixir\\\\current\\\\bin;C:\\\\Users\\\\i574n\\\\scoop\\\\apps\\\\python\\\\current\\\\Scripts;C:\\\\Users\\\\i574n\\\\scoop\\\\apps\\\\rustup\\\\current\\\\.cargo\\\\bin;C:\\\\Users\\\\i574n\\\\scoop\\\\apps\\\\latex\\\\current\\\\texmfs\\\\install\\\\miktex\\\\bin\\\\x64;C:\\\\Users\\\\i574n\\\\scoop\\\\apps\\\\dotnet-sdk-preview\\\\current;C:\\\\Users\\\\i574n\\\\scoop\\\\apps\\\\dotnet-sdk\\\\current;C:\\\\Users\\\\i574n\\\\scoop\\\\apps\\\\gsudo\\\\current;C:\\\\Users\\\\i574n\\\\scoop\\\\apps\\\\python\\\\current;C:\\\\Users\\\\i574n\\\\scoop\\\\apps\\\\nircmd\\\\current;C:\\\\Users\\\\i574n\\\\AppData\\\\Local\\\\Microsoft\\\\WindowsApps;C:\\\\Users\\\\i574n/scoop/buckets/mold/home/windows/path;C:\\\\Users\\\\i574n/scoop/persist/rustup/.cargo/bin;C:\\\\Users\\\\i574n/scoop/apps/nvm/current/nodejs/nodejs;C:\\\\Users\\\\i574n/scoop/apps/cygwin/current/root/bin;C:\\\\Users\\\\i574n\\\\AppData\\\\Local\\\\Programs\\\\Microsoft VS Code\\\\bin;C:\\\\Users\\\\i574n\\\\AppData\\\\Local\\\\Microsoft\\\\WindowsApps;C:\\\\Users\\\\i574n\\\\.bun\\\\bin;C:\\\\Users\\\\i574n\\\\.dotnet\\\\tools;C:\\\\Users\\\\i574n\\\\scoop\\\\shims;C:\\\\Users\\\\i574n\\\\.fly\\\\bin;C:\\\\Users\\\\i574n/.cargo/bin;C:\\\\Users\\\\i574n/.bun/bin;C:\\\\Users\\\\i574n/.cargo/bin;C:\\\\Users\\\\i574n/.bun/bin;C:\\\\Users\\\\i574n/.cargo/bin;C:\\\\Users\\\\i574n/.bun/bin\"\r\n",
      "} / $Error: '' / $ScriptBlock:\n",
      "'cargo +nightly install wasm-pack --locked'\n",
      "\r\n"
     ]
    }
   ],
   "source": [
    "{ cargo +nightly install wasm-pack --locked } | Invoke-Block -OnError Continue"
   ]
  },
  {
   "cell_type": "code",
   "execution_count": null,
   "metadata": {
    "dotnet_interactive": {
     "language": "pwsh"
    },
    "polyglot_notebook": {
     "kernelName": "pwsh"
    }
   },
   "outputs": [
    {
     "name": "stdout",
     "output_type": "stream",
     "text": [
      "\u001B[31;1m     Ignored package `trunk v0.20.2` is already installed, use --force to override\u001B[0m\r\n"
     ]
    }
   ],
   "source": [
    "{ cargo +nightly install trunk --version 0.20.2 } | Invoke-Block -OnError Continue"
   ]
  },
  {
   "cell_type": "code",
   "execution_count": null,
   "metadata": {
    "dotnet_interactive": {
     "language": "pwsh"
    },
    "polyglot_notebook": {
     "kernelName": "pwsh"
    }
   },
   "outputs": [
    {
     "name": "stdout",
     "output_type": "stream",
     "text": [
      "\u001B[31;1m    Updating git repository `https://github.com/bram209/leptosfmt.git`\u001B[0m\r\n",
      "\u001B[31;1m    Updating git submodule `https://github.com/bram209/prettyplease.git`\u001B[0m\r\n",
      "\u001B[31;1m  Installing leptosfmt v0.1.18 (https://github.com/bram209/leptosfmt.git#926b642b)\u001B[0m\r\n",
      "\u001B[31;1m    Updating crates.io index\u001B[0m\r\n",
      "\u001B[31;1m Downloading crates ...\u001B[0m\r\n",
      "\u001B[31;1m  Downloaded similar v2.5.0\u001B[0m\r\n",
      "\u001B[31;1m  Downloaded itertools v0.13.0\u001B[0m\r\n",
      "\u001B[31;1m  Downloaded rustywind_core v0.1.2\u001B[0m\r\n",
      "\u001B[31;1m   Compiling proc-macro2 v1.0.85\u001B[0m\r\n",
      "\u001B[31;1m   Compiling unicode-ident v1.0.12\u001B[0m\r\n",
      "\u001B[31;1m   Compiling version_check v0.9.4\u001B[0m\r\n",
      "\u001B[31;1m   Compiling windows_x86_64_msvc v0.52.5\u001B[0m\r\n",
      "\u001B[31;1m   Compiling serde v1.0.203\u001B[0m\r\n",
      "\u001B[31;1m   Compiling crossbeam-utils v0.8.20\u001B[0m\r\n",
      "\u001B[31;1m   Compiling memchr v2.7.2\u001B[0m\r\n",
      "\u001B[31;1m   Compiling anstyle v1.0.7\u001B[0m\r\n",
      "\u001B[31;1m   Compiling windows-targets v0.52.5\u001B[0m\r\n",
      "\u001B[31;1m   Compiling regex-syntax v0.8.4\u001B[0m\r\n",
      "\u001B[31;1m   Compiling proc-macro-error-attr v1.0.4\u001B[0m\r\n",
      "\u001B[31;1m   Compiling windows-sys v0.52.0\u001B[0m\r\n",
      "\u001B[31;1m   Compiling proc-macro-error v1.0.4\u001B[0m\r\n",
      "\u001B[31;1m   Compiling aho-corasick v1.1.3\u001B[0m\r\n",
      "\u001B[31;1m   Compiling proc-macro2-diagnostics v0.10.1\u001B[0m\r\n",
      "\u001B[31;1m   Compiling quote v1.0.36\u001B[0m\r\n",
      "\u001B[31;1m   Compiling syn v2.0.66\u001B[0m\r\n",
      "\u001B[31;1m   Compiling ahash v0.8.11\u001B[0m\r\n",
      "\u001B[31;1m   Compiling utf8parse v0.2.2\u001B[0m\r\n",
      "\u001B[31;1m   Compiling cfg-if v1.0.0\u001B[0m\r\n",
      "\u001B[31;1m   Compiling once_cell v1.19.0\u001B[0m\r\n",
      "\u001B[31;1m   Compiling either v1.12.0\u001B[0m\r\n",
      "\u001B[31;1m   Compiling thiserror v1.0.61\u001B[0m\r\n",
      "\u001B[31;1m   Compiling eyre v0.6.12\u001B[0m\r\n",
      "\u001B[31;1m   Compiling regex-automata v0.4.7\u001B[0m\r\n",
      "\u001B[31;1m   Compiling getrandom v0.2.15\u001B[0m\r\n",
      "\u001B[31;1m   Compiling anstyle-parse v0.2.4\u001B[0m\r\n",
      "\u001B[31;1m   Compiling anstyle-wincon v3.0.3\u001B[0m\r\n",
      "\u001B[31;1m   Compiling anstyle-query v1.1.0\u001B[0m\r\n",
      "\u001B[31;1m   Compiling crossbeam-epoch v0.9.18\u001B[0m\r\n",
      "\u001B[31;1m   Compiling indenter v0.3.3\u001B[0m\r\n",
      "\u001B[31;1m   Compiling equivalent v1.0.1\u001B[0m\r\n",
      "\u001B[31;1m   Compiling hashbrown v0.14.5\u001B[0m\r\n",
      "\u001B[31;1m   Compiling colorchoice v1.0.1\u001B[0m\r\n",
      "\u001B[31;1m   Compiling leptosfmt-prettyplease v0.1.18 (C:\\Users\\i574n\\scoop\\persist\\rustup\\.cargo\\git\\checkouts\\leptosfmt-e22a3f497dc21d3f\\926b642\\prettyplease)\u001B[0m\r\n",
      "\u001B[31;1m   Compiling rayon-core v1.12.1\u001B[0m\r\n",
      "\u001B[31;1m   Compiling yansi v1.0.1\u001B[0m\r\n",
      "\u001B[31;1m   Compiling libc v0.2.155\u001B[0m\r\n",
      "\u001B[31;1m   Compiling zerocopy v0.7.34\u001B[0m\r\n",
      "\u001B[31;1m   Compiling is_terminal_polyfill v1.70.0\u001B[0m\r\n",
      "\u001B[31;1m   Compiling anstream v0.6.14\u001B[0m\r\n",
      "\u001B[31;1m   Compiling serde_derive v1.0.203\u001B[0m\r\n",
      "\u001B[31;1m   Compiling thiserror-impl v1.0.61\u001B[0m\r\n",
      "\u001B[31;1m   Compiling syn_derive v0.1.8\u001B[0m\r\n",
      "\u001B[31;1m   Compiling regex v1.10.5\u001B[0m\r\n",
      "\u001B[31;1m   Compiling indexmap v2.2.6\u001B[0m\r\n",
      "\u001B[31;1m   Compiling crossbeam-deque v0.8.5\u001B[0m\r\n",
      "\u001B[31;1m   Compiling itertools v0.13.0\u001B[0m\r\n",
      "\u001B[31;1m   Compiling heck v0.5.0\u001B[0m\r\n",
      "\u001B[31;1m   Compiling clap_lex v0.7.1\u001B[0m\r\n",
      "\u001B[31;1m   Compiling anyhow v1.0.86\u001B[0m\r\n",
      "\u001B[31;1m   Compiling strsim v0.11.1\u001B[0m\r\n",
      "\u001B[31;1m   Compiling leptosfmt-pretty-printer v0.1.18 (C:\\Users\\i574n\\scoop\\persist\\rustup\\.cargo\\git\\checkouts\\leptosfmt-e22a3f497dc21d3f\\926b642\\printer)\u001B[0m\r\n",
      "\u001B[31;1m   Compiling str_indices v0.4.3\u001B[0m\r\n",
      "\u001B[31;1m   Compiling winnow v0.5.40\u001B[0m\r\n",
      "\u001B[31;1m   Compiling crop v0.3.0\u001B[0m\r\n",
      "\u001B[31;1m   Compiling rustywind_core v0.1.2\u001B[0m\r\n",
      "\u001B[31;1m   Compiling clap_builder v4.5.7\u001B[0m\r\n",
      "\u001B[31;1m   Compiling clap_derive v4.5.5\u001B[0m\r\n",
      "\u001B[31;1m   Compiling serde_spanned v0.6.6\u001B[0m\r\n",
      "\u001B[31;1m   Compiling toml_datetime v0.6.6\u001B[0m\r\n",
      "\u001B[31;1m   Compiling toml_edit v0.19.15\u001B[0m\r\n",
      "\u001B[31;1m   Compiling rstml v0.11.2\u001B[0m\r\n",
      "\u001B[31;1m   Compiling lazy_static v1.4.0\u001B[0m\r\n",
      "\u001B[31;1m   Compiling unicode-width v0.1.13\u001B[0m\r\n",
      "\u001B[31;1m   Compiling encode_unicode v0.3.6\u001B[0m\r\n",
      "\u001B[31;1m   Compiling console v0.15.8\u001B[0m\r\n",
      "\u001B[31;1m   Compiling toml v0.7.8\u001B[0m\r\n",
      "\u001B[31;1m   Compiling leptosfmt-formatter v0.1.18 (C:\\Users\\i574n\\scoop\\persist\\rustup\\.cargo\\git\\checkouts\\leptosfmt-e22a3f497dc21d3f\\926b642\\formatter)\u001B[0m\r\n",
      "\u001B[31;1m   Compiling clap v4.5.7\u001B[0m\r\n",
      "\u001B[31;1m   Compiling rayon v1.10.0\u001B[0m\r\n",
      "\u001B[31;1m   Compiling glob v0.3.1\u001B[0m\r\n",
      "\u001B[31;1m   Compiling similar v2.5.0\u001B[0m\r\n",
      "\u001B[31;1m   Compiling leptosfmt v0.1.18 (C:\\Users\\i574n\\scoop\\persist\\rustup\\.cargo\\git\\checkouts\\leptosfmt-e22a3f497dc21d3f\\926b642\\cli)\u001B[0m\r\n",
      "\u001B[31;1m    Finished `release` profile [optimized] target(s) in 3m 31s\u001B[0m\r\n",
      "\u001B[31;1m   Replacing C:\\Users\\i574n\\scoop\\persist\\rustup\\.cargo\\bin\\leptosfmt.exe\u001B[0m\r\n",
      "\u001B[31;1m    Replaced package `leptosfmt v0.1.18 (https://github.com/bram209/leptosfmt.git#7fec90b2)` with `leptosfmt v0.1.18 (https://github.com/bram209/leptosfmt.git#926b642b)` (executable `leptosfmt.exe`)\u001B[0m\r\n"
     ]
    }
   ],
   "source": [
    "{ cargo +nightly install --git https://github.com/bram209/leptosfmt.git --locked } | Invoke-Block -OnError Continue"
   ]
  },
  {
   "cell_type": "code",
   "execution_count": null,
   "metadata": {
    "dotnet_interactive": {
     "language": "pwsh"
    },
    "polyglot_notebook": {
     "kernelName": "pwsh"
    }
   },
   "outputs": [],
   "source": [
    "if (!(Search-Command \"nix\")) {\n",
    "    { ~/.bun/bin/bunx --bun playwright@1.44.0 install } | Invoke-Block\n",
    "}"
   ]
  },
  {
   "cell_type": "code",
   "execution_count": null,
   "metadata": {
    "dotnet_interactive": {
     "language": "pwsh"
    },
    "polyglot_notebook": {
     "kernelName": "pwsh"
    }
   },
   "outputs": [],
   "source": [
    "[Net.ServicePointManager]::SecurityProtocol = [Net.SecurityProtocolType]::Tls12"
   ]
  },
  {
   "cell_type": "code",
   "execution_count": null,
   "metadata": {
    "dotnet_interactive": {
     "language": "pwsh"
    },
    "polyglot_notebook": {
     "kernelName": "pwsh"
    }
   },
   "outputs": [],
   "source": [
    "{ Install-Module -Name PowerShellGet -Force -AllowClobber -Scope CurrentUser } | Invoke-Block -OnError Continue"
   ]
  },
  {
   "cell_type": "code",
   "execution_count": null,
   "metadata": {
    "dotnet_interactive": {
     "language": "pwsh"
    },
    "polyglot_notebook": {
     "kernelName": "pwsh"
    }
   },
   "outputs": [
    {
     "name": "stdout",
     "output_type": "stream",
     "text": [
      "\n",
      "# Invoke-Block / $retry: 1/1 / $Location:  / Get-Location: C:\\home\\git\\polyglot\\scripts / $OnError: Continue / $exitcode: 0 / $EnvVars: {\r\n",
      "  \"PATH\": \"C:\\\\Users\\\\i574n\\\\scoop\\\\apps\\\\pwsh\\\\current;C:\\\\Program Files\\\\NVIDIA\\\\CUDNN\\\\v9.1\\\\bin;C:\\\\ProgramData\\\\scoop\\\\shims;C:\\\\WINDOWS\\\\system32;C:\\\\WINDOWS;C:\\\\WINDOWS\\\\System32\\\\Wbem;C:\\\\WINDOWS\\\\System32\\\\WindowsPowerShell\\\\v1.0\\\\;C:\\\\WINDOWS\\\\System32\\\\OpenSSH\\\\;C:\\\\ProgramData\\\\chocolatey\\\\bin;C:\\\\Program Files\\\\dotnet\\\\;C:\\\\WINDOWS\\\\system32;C:\\\\WINDOWS;C:\\\\WINDOWS\\\\System32\\\\Wbem;C:\\\\WINDOWS\\\\System32\\\\WindowsPowerShell\\\\v1.0\\\\;C:\\\\WINDOWS\\\\System32\\\\OpenSSH\\\\;C:\\\\Program Files\\\\Intel\\\\WiFi\\\\bin\\\\;C:\\\\Program Files\\\\Common Files\\\\Intel\\\\WirelessCommon\\\\;C:\\\\Program Files\\\\Perforce;C:\\\\Users\\\\i574n\\\\scoop\\\\apps\\\\vscode-insiders\\\\current\\\\bin;C:\\\\Users\\\\i574n\\\\scoop\\\\apps\\\\elixir\\\\current\\\\bin;C:\\\\Users\\\\i574n\\\\scoop\\\\apps\\\\python\\\\current\\\\Scripts;C:\\\\Users\\\\i574n\\\\scoop\\\\apps\\\\rustup\\\\current\\\\.cargo\\\\bin;C:\\\\Users\\\\i574n\\\\scoop\\\\apps\\\\latex\\\\current\\\\texmfs\\\\install\\\\miktex\\\\bin\\\\x64;C:\\\\Users\\\\i574n\\\\scoop\\\\apps\\\\dotnet-sdk-preview\\\\current;C:\\\\Users\\\\i574n\\\\scoop\\\\apps\\\\dotnet-sdk\\\\current;C:\\\\Users\\\\i574n\\\\scoop\\\\apps\\\\gsudo\\\\current;C:\\\\Users\\\\i574n\\\\scoop\\\\apps\\\\python\\\\current;C:\\\\Users\\\\i574n\\\\scoop\\\\apps\\\\nircmd\\\\current;C:\\\\Users\\\\i574n\\\\AppData\\\\Local\\\\Microsoft\\\\WindowsApps;C:\\\\Users\\\\i574n/scoop/buckets/mold/home/windows/path;C:\\\\Users\\\\i574n/scoop/persist/rustup/.cargo/bin;C:\\\\Users\\\\i574n/scoop/apps/nvm/current/nodejs/nodejs;C:\\\\Users\\\\i574n/scoop/apps/cygwin/current/root/bin;C:\\\\Users\\\\i574n\\\\AppData\\\\Local\\\\Programs\\\\Microsoft VS Code\\\\bin;C:\\\\Users\\\\i574n\\\\AppData\\\\Local\\\\Microsoft\\\\WindowsApps;C:\\\\Users\\\\i574n\\\\.bun\\\\bin;C:\\\\Users\\\\i574n\\\\.dotnet\\\\tools;C:\\\\Users\\\\i574n\\\\scoop\\\\shims;C:\\\\Users\\\\i574n\\\\.fly\\\\bin;C:\\\\Users\\\\i574n/.cargo/bin;C:\\\\Users\\\\i574n/.bun/bin;C:\\\\Users\\\\i574n/.cargo/bin;C:\\\\Users\\\\i574n/.bun/bin;C:\\\\Users\\\\i574n/.cargo/bin;C:\\\\Users\\\\i574n/.bun/bin\"\r\n",
      "} / $Error: 'Cannot find a variable with the name 'PackageManagementProvider'. Cannot find a variable with the name 'SourceLocation'.' / $ScriptBlock:\n",
      "'Set-PSRepository -Name PSGallery -InstallationPolicy Trusted'\n",
      "\r\n"
     ]
    }
   ],
   "source": [
    "{ Set-PSRepository -Name PSGallery -InstallationPolicy Trusted } | Invoke-Block -OnError Continue"
   ]
  },
  {
   "cell_type": "code",
   "execution_count": null,
   "metadata": {
    "dotnet_interactive": {
     "language": "pwsh"
    },
    "polyglot_notebook": {
     "kernelName": "pwsh"
    }
   },
   "outputs": [
    {
     "name": "stdout",
     "output_type": "stream",
     "text": [
      "\u001B[31;1mbun install v1.1.7 (b0b7db5c)\u001B[0m\r\n",
      "\r\n",
      "Checked 4 installs across 5 packages (no changes) [46.00ms]\r\n"
     ]
    }
   ],
   "source": [
    "{ ~/.bun/bin/bun install --cwd .. --frozen-lockfile } | Invoke-Block"
   ]
  },
  {
   "cell_type": "code",
   "execution_count": null,
   "metadata": {
    "dotnet_interactive": {
     "language": "pwsh"
    },
    "polyglot_notebook": {
     "kernelName": "pwsh"
    }
   },
   "outputs": [
    {
     "name": "stdout",
     "output_type": "stream",
     "text": [
      "\u001B[31;1mfatal: destination path 'The-Spiral-Language' already exists and is not an empty directory.\u001B[0m\r\n",
      "Already up to date.\r\n",
      "MSBuild version 17.10.0-preview-24101-01+07fd5d51f for .NET\r\n",
      "  Determining projects to restore...\r\n",
      "  All projects are up-to-date for restore.\r\n",
      "C:\\Users\\i574n\\scoop\\apps\\dotnet-sdk-preview\\current\\sdk\\9.0.100-preview.1.24101.2\\Sdks\\Microsoft.NET.Sdk\\targets\\Microsoft.NET.RuntimeIdentifierInference.targets(313,5): message NETSDK1057: You are using a preview version of .NET. See: https://aka.ms/dotnet-support-policy [C:\\home\\git\\polyglot\\deps\\The-Spiral-Language\\The Spiral Language 2\\The Spiral Language 2.fsproj]\r\n",
      "  The Spiral Language 2 -> C:\\home\\git\\polyglot\\deps\\The-Spiral-Language\\The Spiral Language 2\\artifacts\\bin\\The Spiral Language 2\\release\\Spiral.dll\r\n",
      "\r\n",
      "Build succeeded.\r\n",
      "    0 Warning(s)\r\n",
      "    0 Error(s)\r\n",
      "\r\n",
      "Time Elapsed 00:00:03.53\r\n"
     ]
    }
   ],
   "source": [
    "{ . \"$ScriptDir/dep_spiral.ps1\" } | Invoke-Block"
   ]
  },
  {
   "cell_type": "code",
   "execution_count": null,
   "metadata": {
    "dotnet_interactive": {
     "language": "pwsh"
    },
    "polyglot_notebook": {
     "kernelName": "pwsh"
    }
   },
   "outputs": [
    {
     "name": "stdout",
     "output_type": "stream",
     "text": [
      "path: ../deps/The-Spiral-Language/The Spiral Language 2/artifacts/bin/The Spiral Language 2/release/\r\n",
      "\u001B[31;1mbun install v1.1.7 (b0b7db5c)\u001B[0m\r\n",
      "\r\n",
      "Checked 193 installs across 219 packages (no changes) [171.00ms]\r\n",
      "Executing prepublish script 'npm run vscode:prepublish'...\r\n",
      "\r\n",
      "> spiral-lang-vscode-i574n@2.11.4 vscode:prepublish\r\n",
      "> npm run esbuild-base -- --minify\r\n",
      "\r\n",
      "\r\n",
      "> spiral-lang-vscode-i574n@2.11.4 esbuild-base\r\n",
      "> esbuild ./src/index.ts --bundle --outfile=out/index.js --external:vscode --format=cjs --platform=node --minify\r\n",
      "\r\n",
      "\u001B[31;1m\u001B[0m\r\n",
      "\u001B[31;1m  out\\index.js  1.1mb ⚠️\u001B[0m\r\n",
      "\u001B[31;1m\u001B[0m\r\n",
      "\u001B[31;1m⚡ Done in 160ms\u001B[0m\r\n",
      " DONE  Packaged: C:\\home\\git\\polyglot\\deps\\The-Spiral-Language\\VS Code Plugin\\spiral-lang-vscode-i574n-2.11.4.vsix (382 files, 5.6MB)\r\n",
      "Skipping copying extension to C:\\Users\\i574n/.vscode/extensions\r\n",
      "Skipping copying extension to C:\\Users\\i574n/scoop/persist/vscode/data/extensions\r\n"
     ]
    }
   ],
   "source": [
    "{ . \"$ScriptDir/dep_spiral_extension.ps1\" } | Invoke-Block"
   ]
  },
  {
   "cell_type": "code",
   "execution_count": null,
   "metadata": {
    "dotnet_interactive": {
     "language": "pwsh"
    },
    "polyglot_notebook": {
     "kernelName": "pwsh"
    }
   },
   "outputs": [
    {
     "name": "stdout",
     "output_type": "stream",
     "text": [
      "\u001B[31;1mfatal: destination path 'Fable' already exists and is not an empty directory.\u001B[0m\r\n",
      "Already up to date.\r\n",
      "Tool path: C:\\Users\\i574n\\.nuget\\packages\\fable\\4.19.3\\tools\\net6.0\\any\r\n",
      "MSBuild version 17.10.0-preview-24101-01+07fd5d51f for .NET\r\n",
      "  Determining projects to restore...\r\n",
      "  All projects are up-to-date for restore.\r\n",
      "C:\\Users\\i574n\\scoop\\apps\\dotnet-sdk-preview\\current\\sdk\\9.0.100-preview.1.24101.2\\Sdks\\Microsoft.NET.Sdk\\targets\\Microsoft.NET.RuntimeIdentifierInference.targets(313,5): message NETSDK1057: You are using a preview version of .NET. See: https://aka.ms/dotnet-support-policy [C:\\home\\git\\polyglot\\deps\\Fable\\src\\Fable.Cli\\Fable.Cli.fsproj]\r\n",
      "C:\\Users\\i574n\\scoop\\apps\\dotnet-sdk-preview\\current\\sdk\\9.0.100-preview.1.24101.2\\Sdks\\Microsoft.NET.Sdk\\targets\\Microsoft.NET.RuntimeIdentifierInference.targets(313,5): message NETSDK1057: You are using a preview version of .NET. See: https://aka.ms/dotnet-support-policy [C:\\home\\git\\polyglot\\deps\\Fable\\src\\Fable.AST\\Fable.AST.fsproj]\r\n",
      "C:\\Users\\i574n\\scoop\\apps\\dotnet-sdk-preview\\current\\sdk\\9.0.100-preview.1.24101.2\\Sdks\\Microsoft.NET.Sdk\\targets\\Microsoft.NET.RuntimeIdentifierInference.targets(313,5): message NETSDK1057: You are using a preview version of .NET. See: https://aka.ms/dotnet-support-policy [C:\\home\\git\\polyglot\\deps\\Fable\\src\\Fable.Transforms\\Rust\\AST\\Rust.AST.fsproj]\r\n",
      "C:\\Users\\i574n\\scoop\\apps\\dotnet-sdk-preview\\current\\sdk\\9.0.100-preview.1.24101.2\\Sdks\\Microsoft.NET.Sdk\\targets\\Microsoft.NET.RuntimeIdentifierInference.targets(313,5): message NETSDK1057: You are using a preview version of .NET. See: https://aka.ms/dotnet-support-policy [C:\\home\\git\\polyglot\\deps\\Fable\\src\\Fable.Transforms\\Fable.Transforms.fsproj]\r\n",
      "  Fable.AST -> C:\\home\\git\\polyglot\\deps\\Fable\\src\\Fable.AST\\bin\\Release\\netstandard2.0\\Fable.AST.dll\r\n",
      "  Rust.AST -> C:\\home\\git\\polyglot\\deps\\Fable\\src\\Fable.Transforms\\Rust\\AST\\bin\\Release\\netstandard2.0\\Rust.AST.dll\r\n",
      "C:\\Program Files\\dotnet\\sdk\\9.0.100-preview.1.24101.2\\Microsoft.Common.CurrentVersion.targets(2401,5): warning MSB3277: Found conflicts between different versions of \"System.Memory\" that could not be resolved. [C:\\home\\git\\polyglot\\deps\\Fable\\src\\Fable.Transforms\\Fable.Transforms.fsproj]\r\n",
      "C:\\Program Files\\dotnet\\sdk\\9.0.100-preview.1.24101.2\\Microsoft.Common.CurrentVersion.targets(2401,5): warning MSB3277: There was a conflict between \"System.Memory, Version=4.0.1.1, Culture=neutral, PublicKeyToken=cc7b13ffcd2ddd51\" and \"System.Memory, Version=4.0.1.2, Culture=neutral, PublicKeyToken=cc7b13ffcd2ddd51\". [C:\\home\\git\\polyglot\\deps\\Fable\\src\\Fable.Transforms\\Fable.Transforms.fsproj]\r\n",
      "C:\\Program Files\\dotnet\\sdk\\9.0.100-preview.1.24101.2\\Microsoft.Common.CurrentVersion.targets(2401,5): warning MSB3277:     \"System.Memory, Version=4.0.1.1, Culture=neutral, PublicKeyToken=cc7b13ffcd2ddd51\" was chosen because it was primary and \"System.Memory, Version=4.0.1.2, Culture=neutral, PublicKeyToken=cc7b13ffcd2ddd51\" was not. [C:\\home\\git\\polyglot\\deps\\Fable\\src\\Fable.Transforms\\Fable.Transforms.fsproj]\r\n",
      "C:\\Program Files\\dotnet\\sdk\\9.0.100-preview.1.24101.2\\Microsoft.Common.CurrentVersion.targets(2401,5): warning MSB3277:     References which depend on \"System.Memory, Version=4.0.1.1, Culture=neutral, PublicKeyToken=cc7b13ffcd2ddd51\" [C:\\Users\\i574n\\.nuget\\packages\\system.memory\\4.5.4\\lib\\netstandard2.0\\System.Memory.dll]. [C:\\home\\git\\polyglot\\deps\\Fable\\src\\Fable.Transforms\\Fable.Transforms.fsproj]\r\n",
      "C:\\Program Files\\dotnet\\sdk\\9.0.100-preview.1.24101.2\\Microsoft.Common.CurrentVersion.targets(2401,5): warning MSB3277:         C:\\Users\\i574n\\.nuget\\packages\\system.memory\\4.5.4\\lib\\netstandard2.0\\System.Memory.dll [C:\\home\\git\\polyglot\\deps\\Fable\\src\\Fable.Transforms\\Fable.Transforms.fsproj]\r\n",
      "C:\\Program Files\\dotnet\\sdk\\9.0.100-preview.1.24101.2\\Microsoft.Common.CurrentVersion.targets(2401,5): warning MSB3277:           Project file item includes which caused reference \"C:\\Users\\i574n\\.nuget\\packages\\system.memory\\4.5.4\\lib\\netstandard2.0\\System.Memory.dll\". [C:\\home\\git\\polyglot\\deps\\Fable\\src\\Fable.Transforms\\Fable.Transforms.fsproj]\r\n",
      "C:\\Program Files\\dotnet\\sdk\\9.0.100-preview.1.24101.2\\Microsoft.Common.CurrentVersion.targets(2401,5): warning MSB3277:             C:\\Users\\i574n\\.nuget\\packages\\system.memory\\4.5.4\\lib\\netstandard2.0\\System.Memory.dll [C:\\home\\git\\polyglot\\deps\\Fable\\src\\Fable.Transforms\\Fable.Transforms.fsproj]\r\n",
      "C:\\Program Files\\dotnet\\sdk\\9.0.100-preview.1.24101.2\\Microsoft.Common.CurrentVersion.targets(2401,5): warning MSB3277:     References which depend on or have been unified to \"System.Memory, Version=4.0.1.2, Culture=neutral, PublicKeyToken=cc7b13ffcd2ddd51\" []. [C:\\home\\git\\polyglot\\deps\\Fable\\src\\Fable.Transforms\\Fable.Transforms.fsproj]\r\n",
      "C:\\Program Files\\dotnet\\sdk\\9.0.100-preview.1.24101.2\\Microsoft.Common.CurrentVersion.targets(2401,5): warning MSB3277:         C:\\home\\git\\polyglot\\deps\\Fable\\lib\\fcs\\FSharp.Compiler.Service.dll [C:\\home\\git\\polyglot\\deps\\Fable\\src\\Fable.Transforms\\Fable.Transforms.fsproj]\r\n",
      "C:\\Program Files\\dotnet\\sdk\\9.0.100-preview.1.24101.2\\Microsoft.Common.CurrentVersion.targets(2401,5): warning MSB3277:           Project file item includes which caused reference \"C:\\home\\git\\polyglot\\deps\\Fable\\lib\\fcs\\FSharp.Compiler.Service.dll\". [C:\\home\\git\\polyglot\\deps\\Fable\\src\\Fable.Transforms\\Fable.Transforms.fsproj]\r\n",
      "C:\\Program Files\\dotnet\\sdk\\9.0.100-preview.1.24101.2\\Microsoft.Common.CurrentVersion.targets(2401,5): warning MSB3277:             ../../lib/fcs/FSharp.Compiler.Service.dll [C:\\home\\git\\polyglot\\deps\\Fable\\src\\Fable.Transforms\\Fable.Transforms.fsproj]\r\n",
      "  Fable.Transforms -> C:\\home\\git\\polyglot\\deps\\Fable\\src\\Fable.Transforms\\bin\\Release\\netstandard2.0\\Fable.Transforms.dll\r\n",
      "  Fable.Compiler -> C:\\home\\git\\polyglot\\deps\\Fable\\src\\Fable.Compiler\\bin\\Release\\net9.0\\Fable.Compiler.dll\r\n",
      "  Fable.Cli -> C:\\home\\git\\polyglot\\deps\\Fable\\src\\Fable.Cli\\bin\\Release\\net9.0\\fable.dll\r\n",
      "\r\n",
      "Build succeeded.\r\n",
      "\r\n",
      "C:\\Program Files\\dotnet\\sdk\\9.0.100-preview.1.24101.2\\Microsoft.Common.CurrentVersion.targets(2401,5): warning MSB3277: Found conflicts between different versions of \"System.Memory\" that could not be resolved. [C:\\home\\git\\polyglot\\deps\\Fable\\src\\Fable.Transforms\\Fable.Transforms.fsproj]\r\n",
      "C:\\Program Files\\dotnet\\sdk\\9.0.100-preview.1.24101.2\\Microsoft.Common.CurrentVersion.targets(2401,5): warning MSB3277: There was a conflict between \"System.Memory, Version=4.0.1.1, Culture=neutral, PublicKeyToken=cc7b13ffcd2ddd51\" and \"System.Memory, Version=4.0.1.2, Culture=neutral, PublicKeyToken=cc7b13ffcd2ddd51\". [C:\\home\\git\\polyglot\\deps\\Fable\\src\\Fable.Transforms\\Fable.Transforms.fsproj]\r\n",
      "C:\\Program Files\\dotnet\\sdk\\9.0.100-preview.1.24101.2\\Microsoft.Common.CurrentVersion.targets(2401,5): warning MSB3277:     \"System.Memory, Version=4.0.1.1, Culture=neutral, PublicKeyToken=cc7b13ffcd2ddd51\" was chosen because it was primary and \"System.Memory, Version=4.0.1.2, Culture=neutral, PublicKeyToken=cc7b13ffcd2ddd51\" was not. [C:\\home\\git\\polyglot\\deps\\Fable\\src\\Fable.Transforms\\Fable.Transforms.fsproj]\r\n",
      "C:\\Program Files\\dotnet\\sdk\\9.0.100-preview.1.24101.2\\Microsoft.Common.CurrentVersion.targets(2401,5): warning MSB3277:     References which depend on \"System.Memory, Version=4.0.1.1, Culture=neutral, PublicKeyToken=cc7b13ffcd2ddd51\" [C:\\Users\\i574n\\.nuget\\packages\\system.memory\\4.5.4\\lib\\netstandard2.0\\System.Memory.dll]. [C:\\home\\git\\polyglot\\deps\\Fable\\src\\Fable.Transforms\\Fable.Transforms.fsproj]\r\n",
      "C:\\Program Files\\dotnet\\sdk\\9.0.100-preview.1.24101.2\\Microsoft.Common.CurrentVersion.targets(2401,5): warning MSB3277:         C:\\Users\\i574n\\.nuget\\packages\\system.memory\\4.5.4\\lib\\netstandard2.0\\System.Memory.dll [C:\\home\\git\\polyglot\\deps\\Fable\\src\\Fable.Transforms\\Fable.Transforms.fsproj]\r\n",
      "C:\\Program Files\\dotnet\\sdk\\9.0.100-preview.1.24101.2\\Microsoft.Common.CurrentVersion.targets(2401,5): warning MSB3277:           Project file item includes which caused reference \"C:\\Users\\i574n\\.nuget\\packages\\system.memory\\4.5.4\\lib\\netstandard2.0\\System.Memory.dll\". [C:\\home\\git\\polyglot\\deps\\Fable\\src\\Fable.Transforms\\Fable.Transforms.fsproj]\r\n",
      "C:\\Program Files\\dotnet\\sdk\\9.0.100-preview.1.24101.2\\Microsoft.Common.CurrentVersion.targets(2401,5): warning MSB3277:             C:\\Users\\i574n\\.nuget\\packages\\system.memory\\4.5.4\\lib\\netstandard2.0\\System.Memory.dll [C:\\home\\git\\polyglot\\deps\\Fable\\src\\Fable.Transforms\\Fable.Transforms.fsproj]\r\n",
      "C:\\Program Files\\dotnet\\sdk\\9.0.100-preview.1.24101.2\\Microsoft.Common.CurrentVersion.targets(2401,5): warning MSB3277:     References which depend on or have been unified to \"System.Memory, Version=4.0.1.2, Culture=neutral, PublicKeyToken=cc7b13ffcd2ddd51\" []. [C:\\home\\git\\polyglot\\deps\\Fable\\src\\Fable.Transforms\\Fable.Transforms.fsproj]\r\n",
      "C:\\Program Files\\dotnet\\sdk\\9.0.100-preview.1.24101.2\\Microsoft.Common.CurrentVersion.targets(2401,5): warning MSB3277:         C:\\home\\git\\polyglot\\deps\\Fable\\lib\\fcs\\FSharp.Compiler.Service.dll [C:\\home\\git\\polyglot\\deps\\Fable\\src\\Fable.Transforms\\Fable.Transforms.fsproj]\r\n",
      "C:\\Program Files\\dotnet\\sdk\\9.0.100-preview.1.24101.2\\Microsoft.Common.CurrentVersion.targets(2401,5): warning MSB3277:           Project file item includes which caused reference \"C:\\home\\git\\polyglot\\deps\\Fable\\lib\\fcs\\FSharp.Compiler.Service.dll\". [C:\\home\\git\\polyglot\\deps\\Fable\\src\\Fable.Transforms\\Fable.Transforms.fsproj]\r\n",
      "C:\\Program Files\\dotnet\\sdk\\9.0.100-preview.1.24101.2\\Microsoft.Common.CurrentVersion.targets(2401,5): warning MSB3277:             ../../lib/fcs/FSharp.Compiler.Service.dll [C:\\home\\git\\polyglot\\deps\\Fable\\src\\Fable.Transforms\\Fable.Transforms.fsproj]\r\n",
      "    1 Warning(s)\r\n",
      "    0 Error(s)\r\n",
      "\r\n",
      "Time Elapsed 00:01:21.58\r\n",
      "fable.dll path: C:\\home\\git\\polyglot\\deps\\Fable\\src\\Fable.Cli\\bin\\Release\\net9.0\\fable.dll\r\n",
      "Lib path: C:\\Users\\i574n\\.nuget\\packages\\fable.core\\4.3.0\\lib\\netstandard2.0\r\n",
      "MSBuild version 17.10.0-preview-24101-01+07fd5d51f for .NET\r\n",
      "  Determining projects to restore...\r\n",
      "  All projects are up-to-date for restore.\r\n",
      "C:\\Users\\i574n\\scoop\\apps\\dotnet-sdk-preview\\current\\sdk\\9.0.100-preview.1.24101.2\\Sdks\\Microsoft.NET.Sdk\\targets\\Microsoft.NET.RuntimeIdentifierInference.targets(313,5): message NETSDK1057: You are using a preview version of .NET. See: https://aka.ms/dotnet-support-policy [C:\\home\\git\\polyglot\\deps\\Fable\\src\\Fable.Core\\Fable.Core.fsproj]\r\n",
      "  Fable.Core -> C:\\home\\git\\polyglot\\deps\\Fable\\src\\Fable.Core\\bin\\Release\\netstandard2.0\\Fable.Core.dll\r\n",
      "\r\n",
      "Build succeeded.\r\n",
      "    0 Warning(s)\r\n",
      "    0 Error(s)\r\n",
      "\r\n",
      "Time Elapsed 00:00:06.61\r\n"
     ]
    }
   ],
   "source": [
    "{ . \"$ScriptDir/dep_fable.ps1\" } | Invoke-Block"
   ]
  },
  {
   "cell_type": "code",
   "execution_count": null,
   "metadata": {
    "dotnet_interactive": {
     "language": "pwsh"
    },
    "polyglot_notebook": {
     "kernelName": "pwsh"
    }
   },
   "outputs": [
    {
     "name": "stdout",
     "output_type": "stream",
     "text": [
      "\u001B[31;1mfatal: destination path 'hyperui' already exists and is not an empty directory.\u001B[0m\r\n",
      "Already up to date.\r\n",
      "\u001B[31;1mbun install v1.1.7 (b0b7db5c)\u001B[0m\r\n",
      "\r\n",
      "Checked 708 installs across 635 packages (no changes) [6.83s]\r\n",
      "\u001B[31;1m$ next build\u001B[0m\r\n",
      "  ▲ Next.js 14.2.3\r\n",
      "\r\n",
      "   Creating an optimized production build ...\r\n",
      " ✓ Compiled successfully\r\n",
      "   Linting and checking validity of types ...\r\n",
      "\r\n",
      "./src/components/Announcement.jsx\r\n",
      "35:6  Warning: React Hook useEffect has a missing dependency: 'promotionProducts'. Either include it or remove the dependency array.  react-hooks/exhaustive-deps\r\n",
      "\r\n",
      "info  - Need to disable some ESLint rules? Learn more here: https://nextjs.org/docs/basic-features/eslint#disabling-rules\r\n",
      "   Collecting page data ...\r\n",
      "   Generating static pages (0/11) ...\r\n",
      "   Generating static pages (2/11) \r\n",
      "   Generating static pages (5/11) \r\n",
      "   Generating static pages (8/11) \r\n",
      " ✓ Generating static pages (11/11)\r\n",
      "   Finalizing page optimization ...\r\n",
      "   Collecting build traces ...\r\n",
      "\r\n",
      "Route (app)                                Size     First Load JS\r\n",
      "┌ ○ /                                      178 B            94 kB\r\n",
      "├ ○ /_not-found                            140 B          87.2 kB\r\n",
      "├ ● /[components]/[category]               178 B            94 kB\r\n",
      "├ ● /[components]/[category]/[collection]  4.08 kB         102 kB\r\n",
      "├ ● /about/[slug]                          3.2 kB         90.3 kB\r\n",
      "├ ○ /api/products                          0 B                0 B\r\n",
      "├ ○ /api/search                            0 B                0 B\r\n",
      "├ ○ /blog                                  177 B            94 kB\r\n",
      "├ ● /blog/[slug]                           3.43 kB         101 kB\r\n",
      "├ ○ /robots.txt                            0 B                0 B\r\n",
      "├ ○ /shop                                  1.27 kB        88.3 kB\r\n",
      "└ ○ /sitemap.xml                           0 B                0 B\r\n",
      "+ First Load JS shared by all              87.1 kB\r\n",
      "  ├ chunks/23-560b6f74da37f254.js          31.5 kB\r\n",
      "  ├ chunks/fd9d1056-50bd1f2db165ce37.js    53.7 kB\r\n",
      "  └ other shared chunks (total)            1.94 kB\r\n",
      "\r\n",
      "\r\n",
      "○  (Static)  prerendered as static content\r\n",
      "●  (SSG)     prerendered as static HTML (uses getStaticProps)\r\n",
      "\r\n"
     ]
    }
   ],
   "source": [
    "{ . \"$ScriptDir/dep_hyperui.ps1\" } | Invoke-Block"
   ]
  }
 ],
 "metadata": {},
 "nbformat": 4,
 "nbformat_minor": 5
}