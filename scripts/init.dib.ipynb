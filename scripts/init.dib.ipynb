{
 "cells": [
  {
   "cell_type": "code",
   "execution_count": null,
   "metadata": {
    "dotnet_interactive": {
     "language": "pwsh"
    },
    "polyglot_notebook": {
     "kernelName": "pwsh"
    }
   },
   "outputs": [],
   "source": [
    ". ./nbs_header.ps1\n",
    ". ./core.ps1"
   ]
  },
  {
   "cell_type": "code",
   "execution_count": null,
   "metadata": {
    "dotnet_interactive": {
     "language": "pwsh"
    },
    "polyglot_notebook": {
     "kernelName": "pwsh"
    }
   },
   "outputs": [],
   "source": [
    "# rustup component add clippy rust-src rustfmt"
   ]
  },
  {
   "cell_type": "code",
   "execution_count": null,
   "metadata": {
    "dotnet_interactive": {
     "language": "pwsh"
    },
    "polyglot_notebook": {
     "kernelName": "pwsh"
    }
   },
   "outputs": [],
   "source": [
    "# rustup target add wasm32-unknown-unknown"
   ]
  },
  {
   "cell_type": "code",
   "execution_count": null,
   "metadata": {
    "dotnet_interactive": {
     "language": "pwsh"
    },
    "polyglot_notebook": {
     "kernelName": "pwsh"
    }
   },
   "outputs": [
    {
     "name": "stdout",
     "output_type": "stream",
     "text": [
      "\u001B[31;1minfo: syncing channel updates for 'stable-x86_64-pc-windows-msvc'\u001B[0m\r\n",
      "\u001B[31;1minfo: syncing channel updates for 'nightly-x86_64-pc-windows-msvc'\u001B[0m\r\n",
      "\u001B[31;1minfo: syncing channel updates for '1.81-x86_64-pc-windows-msvc'\u001B[0m\r\n",
      "\u001B[31;1minfo: checking for self-update\u001B[0m\r\n",
      "\r\n",
      "   stable-x86_64-pc-windows-msvc unchanged - rustc 1.83.0 (90b35a623 2024-11-26)\r\n",
      "  nightly-x86_64-pc-windows-msvc unchanged - rustc 1.86.0-nightly (243d2ca4d 2025-01-06)\r\n",
      "     1.81-x86_64-pc-windows-msvc unchanged - rustc 1.81.0 (eeb90cda1 2024-09-04)\r\n",
      "\r\n",
      "\u001B[31;1minfo: cleaning up downloads & tmp directories\u001B[0m\r\n"
     ]
    }
   ],
   "source": [
    "rustup update"
   ]
  },
  {
   "cell_type": "code",
   "execution_count": null,
   "metadata": {
    "dotnet_interactive": {
     "language": "pwsh"
    },
    "polyglot_notebook": {
     "kernelName": "pwsh"
    }
   },
   "outputs": [],
   "source": [
    "if (!(Search-Command \"cargo-outdated\")) {\n",
    "    { cargo install --git https://github.com/i574n/cargo-outdated.git --locked } | Invoke-Block -OnError Continue\n",
    "}"
   ]
  },
  {
   "cell_type": "code",
   "execution_count": null,
   "metadata": {
    "dotnet_interactive": {
     "language": "pwsh"
    },
    "polyglot_notebook": {
     "kernelName": "pwsh"
    }
   },
   "outputs": [],
   "source": [
    "if (!(Search-Command \"sccache\")) {\n",
    "    { cargo install sccache } | Invoke-Block -OnError Continue\n",
    "}"
   ]
  },
  {
   "cell_type": "code",
   "execution_count": null,
   "metadata": {
    "dotnet_interactive": {
     "language": "pwsh"
    },
    "polyglot_notebook": {
     "kernelName": "pwsh"
    }
   },
   "outputs": [],
   "source": [
    "if (!(Search-Command \"wasm-pack\")) {\n",
    "    { cargo install wasm-pack --locked } | Invoke-Block -OnError Continue\n",
    "}"
   ]
  },
  {
   "cell_type": "code",
   "execution_count": null,
   "metadata": {
    "dotnet_interactive": {
     "language": "pwsh"
    },
    "polyglot_notebook": {
     "kernelName": "pwsh"
    }
   },
   "outputs": [],
   "source": [
    "if (!(Search-Command \"trunk\")) {\n",
    "    { cargo install trunk --version 0.21.5 } | Invoke-Block -OnError Continue\n",
    "}"
   ]
  },
  {
   "cell_type": "code",
   "execution_count": null,
   "metadata": {
    "dotnet_interactive": {
     "language": "pwsh"
    },
    "polyglot_notebook": {
     "kernelName": "pwsh"
    }
   },
   "outputs": [],
   "source": [
    "if (!(Search-Command \"leptosfmt\")) {\n",
    "    { cargo install --git https://github.com/bram209/leptosfmt.git --locked } | Invoke-Block -OnError Continue\n",
    "}"
   ]
  },
  {
   "cell_type": "code",
   "execution_count": null,
   "metadata": {
    "dotnet_interactive": {
     "language": "pwsh"
    },
    "polyglot_notebook": {
     "kernelName": "pwsh"
    }
   },
   "outputs": [],
   "source": [
    "if (!(Search-Command \"nix\")) {\n",
    "    { ~/.bun/bin/bunx --bun playwright@1.44.0 install } | Invoke-Block\n",
    "}"
   ]
  },
  {
   "cell_type": "code",
   "execution_count": null,
   "metadata": {
    "dotnet_interactive": {
     "language": "pwsh"
    },
    "polyglot_notebook": {
     "kernelName": "pwsh"
    }
   },
   "outputs": [],
   "source": [
    "[Net.ServicePointManager]::SecurityProtocol = [Net.SecurityProtocolType]::Tls12"
   ]
  },
  {
   "cell_type": "code",
   "execution_count": null,
   "metadata": {
    "dotnet_interactive": {
     "language": "pwsh"
    },
    "polyglot_notebook": {
     "kernelName": "pwsh"
    }
   },
   "outputs": [
    {
     "name": "stdout",
     "output_type": "stream",
     "text": [
      "\u001B[93mWARNING: The version '1.4.8.1' of module 'PackageManagement' is currently in use. Retry the operation after closing the applications.\u001B[0m\r\n"
     ]
    }
   ],
   "source": [
    "{ Install-Module -Name PowerShellGet -Force -AllowClobber -Scope CurrentUser } | Invoke-Block -OnError Continue"
   ]
  },
  {
   "cell_type": "code",
   "execution_count": null,
   "metadata": {
    "dotnet_interactive": {
     "language": "pwsh"
    },
    "polyglot_notebook": {
     "kernelName": "pwsh"
    }
   },
   "outputs": [
    {
     "name": "stdout",
     "output_type": "stream",
     "text": [
      "\n",
      "# Invoke-Block / $retry: 1/1 / $Location:  / Get-Location: C:\\home\\git\\polyglot\\scripts / $OnError: Continue / $exitcode: 0 / $EnvVars: {\r\n",
      "  \"PATH\": \"C:\\\\Users\\\\i574n\\\\scoop\\\\apps\\\\pwsh\\\\current;C:\\\\Program Files\\\\NVIDIA\\\\CUDNN\\\\v9.1\\\\bin;C:\\\\ProgramData\\\\scoop\\\\shims;C:\\\\WINDOWS\\\\system32;C:\\\\WINDOWS;C:\\\\WINDOWS\\\\System32\\\\Wbem;C:\\\\WINDOWS\\\\System32\\\\WindowsPowerShell\\\\v1.0\\\\;C:\\\\WINDOWS\\\\System32\\\\OpenSSH\\\\;C:\\\\ProgramData\\\\chocolatey\\\\bin;C:\\\\Program Files\\\\dotnet\\\\;C:\\\\WINDOWS\\\\system32;C:\\\\WINDOWS;C:\\\\WINDOWS\\\\System32\\\\Wbem;C:\\\\WINDOWS\\\\System32\\\\WindowsPowerShell\\\\v1.0\\\\;C:\\\\WINDOWS\\\\System32\\\\OpenSSH\\\\;C:\\\\Program Files\\\\Intel\\\\WiFi\\\\bin\\\\;C:\\\\Program Files\\\\Common Files\\\\Intel\\\\WirelessCommon\\\\;C:\\\\Program Files\\\\Perforce;C:\\\\Program Files\\\\Wasmtime\\\\bin;C:\\\\Program Files\\\\Perforce\\\\;C:\\\\Program Files\\\\Microsoft SQL Server\\\\150\\\\Tools\\\\Binn\\\\;C:\\\\Program Files (x86)\\\\Windows Kits\\\\10\\\\Windows Performance Toolkit\\\\;C:\\\\Users\\\\i574n\\\\scoop\\\\apps\\\\vscode-insiders\\\\current\\\\bin;C:\\\\Users\\\\i574n\\\\scoop\\\\apps\\\\elixir\\\\current\\\\bin;C:\\\\Users\\\\i574n\\\\scoop\\\\apps\\\\openssl\\\\current\\\\bin;C:\\\\Users\\\\i574n\\\\scoop\\\\apps\\\\vulkan\\\\current\\\\Bin;C:\\\\Users\\\\i574n\\\\scoop\\\\apps\\\\vulkan\\\\current\\\\Tools;C:\\\\Users\\\\i574n\\\\scoop\\\\apps\\\\python312\\\\current\\\\Scripts;C:\\\\Users\\\\i574n\\\\scoop\\\\apps\\\\python312\\\\current\\\\.;C:\\\\Users\\\\i574n\\\\scoop\\\\apps\\\\dotnet-sdk\\\\current\\\\.;C:\\\\Users\\\\i574n\\\\scoop\\\\apps\\\\perl\\\\current\\\\perl\\\\site\\\\bin;C:\\\\Users\\\\i574n\\\\scoop\\\\apps\\\\perl\\\\current\\\\perl\\\\bin;C:\\\\Users\\\\i574n\\\\scoop\\\\apps\\\\rustup\\\\current\\\\.cargo\\\\bin;C:\\\\Users\\\\i574n\\\\scoop\\\\apps\\\\latex\\\\current\\\\texmfs\\\\install\\\\miktex\\\\bin\\\\x64;C:\\\\Users\\\\i574n\\\\scoop\\\\apps\\\\dotnet-sdk-preview\\\\current;C:\\\\Users\\\\i574n\\\\scoop\\\\apps\\\\dotnet-sdk\\\\current;C:\\\\Users\\\\i574n\\\\scoop\\\\apps\\\\gsudo\\\\current;C:\\\\Users\\\\i574n\\\\scoop\\\\apps\\\\python\\\\current;C:\\\\Users\\\\i574n\\\\scoop\\\\apps\\\\nircmd\\\\current;C:\\\\Users\\\\i574n\\\\AppData\\\\Local\\\\Microsoft\\\\WindowsApps;C:\\\\Users\\\\i574n/scoop/buckets/mold/home/windows/path;C:\\\\Users\\\\i574n/scoop/persist/rustup/.cargo/bin;C:\\\\Users\\\\i574n/scoop/apps/nvm/current/nodejs/nodejs;C:\\\\Users\\\\i574n/scoop/apps/cygwin/current/root/bin;C:\\\\Users\\\\i574n\\\\AppData\\\\Local\\\\Programs\\\\Microsoft VS Code\\\\bin;C:\\\\Users\\\\i574n\\\\AppData\\\\Local\\\\Microsoft\\\\WindowsApps;C:\\\\Users\\\\i574n\\\\.bun\\\\bin;C:\\\\Users\\\\i574n\\\\.dotnet\\\\tools;C:\\\\Users\\\\i574n\\\\scoop\\\\shims;C:\\\\Users\\\\i574n\\\\.fly\\\\bin;C:\\\\Program Files\\\\Wasmtime\\\\bin;C:\\\\Users\\\\i574n\\\\.dotnet\\\\tools;C:\\\\Users\\\\i574n/.cargo/bin;C:\\\\Users\\\\i574n/.bun/bin;C:\\\\Users\\\\i574n/.cargo/bin;C:\\\\Users\\\\i574n/.bun/bin;C:\\\\Users\\\\i574n/.cargo/bin;C:\\\\Users\\\\i574n/.bun/bin\"\r\n",
      "} / $Error: 'Cannot find a variable with the name 'PackageManagementProvider'. Cannot find a variable with the name 'SourceLocation'.' / $ScriptBlock:\n",
      "'Set-PSRepository -Name PSGallery -InstallationPolicy Trusted'\n",
      "\r\n"
     ]
    }
   ],
   "source": [
    "{ Set-PSRepository -Name PSGallery -InstallationPolicy Trusted } | Invoke-Block -OnError Continue"
   ]
  },
  {
   "cell_type": "code",
   "execution_count": null,
   "metadata": {
    "dotnet_interactive": {
     "language": "pwsh"
    },
    "polyglot_notebook": {
     "kernelName": "pwsh"
    }
   },
   "outputs": [
    {
     "name": "stdout",
     "output_type": "stream",
     "text": [
      "\u001B[31;1mbun install v1.1.7 (b0b7db5c)\u001B[0m\r\n",
      "\r\n",
      "Checked 4 installs across 5 packages (no changes) [16.00ms]\r\n"
     ]
    }
   ],
   "source": [
    "{ ~/.bun/bin/bun install --cwd .. --frozen-lockfile } | Invoke-Block"
   ]
  },
  {
   "cell_type": "code",
   "execution_count": null,
   "metadata": {
    "dotnet_interactive": {
     "language": "pwsh"
    },
    "polyglot_notebook": {
     "kernelName": "pwsh"
    }
   },
   "outputs": [
    {
     "name": "stdout",
     "output_type": "stream",
     "text": [
      "\u001B[31;1mfatal: destination path 'The-Spiral-Language' already exists and is not an empty directory.\u001B[0m\r\n",
      "Already up to date.\r\n",
      "  Determining projects to restore...\r\n",
      "  All projects are up-to-date for restore.\r\n",
      "  The Spiral Language 2 -> C:\\home\\git\\polyglot\\deps\\The-Spiral-Language\\The Spiral Language 2\\artifacts\\bin\\The Spiral Language 2\\release\\Spiral.dll\r\n",
      "\r\n",
      "Build succeeded.\r\n",
      "    0 Warning(s)\r\n",
      "    0 Error(s)\r\n",
      "\r\n",
      "Time Elapsed 00:00:01.73\r\n",
      "\r\n",
      "Workload updates are available. Run `dotnet workload list` for more information.\r\n"
     ]
    }
   ],
   "source": [
    "{ . \"$ScriptDir/dep_spiral.ps1\" } | Invoke-Block"
   ]
  },
  {
   "cell_type": "code",
   "execution_count": null,
   "metadata": {
    "dotnet_interactive": {
     "language": "pwsh"
    },
    "polyglot_notebook": {
     "kernelName": "pwsh"
    }
   },
   "outputs": [
    {
     "name": "stdout",
     "output_type": "stream",
     "text": [
      "path: ../deps/The-Spiral-Language/The Spiral Language 2/artifacts/bin/The Spiral Language 2/release/\r\n",
      "\u001B[31;1mbun install v1.1.7 (b0b7db5c)\u001B[0m\r\n",
      "\r\n",
      "Checked 234 installs across 253 packages (no changes) [31.00ms]\r\n",
      "\u001B[31;1m$ esbuild ./src/index.ts --bundle --outfile=out/index.js --external:vscode --format=cjs --platform=node --minify\u001B[0m\r\n",
      "\u001B[31;1m\u001B[0m\r\n",
      "\u001B[31;1m  out\\index.js  644.9kb\u001B[0m\r\n",
      "\u001B[31;1m\u001B[0m\r\n",
      "\u001B[31;1m⚡ Done in 54ms\u001B[0m\r\n",
      " INFO  Files included in the VSIX:\r\n",
      "spiral-lang-vscode-i574n-2.15.14.vsix\r\n",
      "├─ [Content_Types].xml \r\n",
      "├─ extension.vsixmanifest \r\n",
      "└─ extension/\r\n",
      "   ├─ LICENSE.txt [16.7 KB]\r\n",
      "   ├─ language-configuration.json [0.51 KB]\r\n",
      "   ├─ package.json [4.9 KB]\r\n",
      "   ├─ compiler/ (353 files) [14.65 MB]\r\n",
      "   ├─ core/ (22 files) [53.06 KB]\r\n",
      "   └─ out/ (2 files) [644.91 KB]\r\n",
      "\r\n",
      "=> Run vsce ls --tree to see all included files.\r\n",
      "\r\n",
      " DONE  Packaged: C:\\home\\git\\polyglot\\deps\\The-Spiral-Language\\VS Code Plugin\\spiral-lang-vscode-i574n-2.15.14.vsix (382 files, 5.21 MB)\r\n",
      "Skipping copying extension to C:\\Users\\i574n/.vscode/extensions\r\n",
      "Skipping copying extension to C:\\Users\\i574n/scoop/persist/vscode/data/extensions\r\n",
      "Copying extension to C:\\Users\\i574n\\scoop\\persist\\vscode-insiders\\data\\extensions\\i574n.spiral-lang-vscode-i574n-2.15.12\r\n"
     ]
    }
   ],
   "source": [
    "{ . \"$ScriptDir/dep_spiral_extension.ps1\" } | Invoke-Block -OnError Continue"
   ]
  },
  {
   "cell_type": "code",
   "execution_count": null,
   "metadata": {
    "dotnet_interactive": {
     "language": "pwsh"
    },
    "polyglot_notebook": {
     "kernelName": "pwsh"
    }
   },
   "outputs": [
    {
     "name": "stdout",
     "output_type": "stream",
     "text": [
      "\u001B[31;1mfatal: destination path 'Fable' already exists and is not an empty directory.\u001B[0m\r\n",
      "Already up to date.\r\n",
      "Tool path: C:\\Users\\i574n\\.nuget\\packages\\fable\\4.24.0\\tools\\net6.0\\any\r\n",
      "  Determining projects to restore...\r\n",
      "  All projects are up-to-date for restore.\r\n",
      "  Fable.AST -> C:\\home\\git\\polyglot\\deps\\Fable\\src\\Fable.AST\\bin\\Release\\netstandard2.0\\Fable.AST.dll\r\n",
      "  Rust.AST -> C:\\home\\git\\polyglot\\deps\\Fable\\src\\Fable.Transforms\\Rust\\AST\\bin\\Release\\netstandard2.0\\Rust.AST.dll\r\n",
      "  Fable.Transforms -> C:\\home\\git\\polyglot\\deps\\Fable\\src\\Fable.Transforms\\bin\\Release\\netstandard2.0\\Fable.Transforms.dll\r\n",
      "  Fable.Compiler -> C:\\home\\git\\polyglot\\deps\\Fable\\src\\Fable.Compiler\\bin\\Release\\net9.0\\Fable.Compiler.dll\r\n",
      "  Fable.Cli -> C:\\home\\git\\polyglot\\deps\\Fable\\src\\Fable.Cli\\bin\\Release\\net9.0\\fable.dll\r\n",
      "\r\n",
      "Build succeeded.\r\n",
      "    0 Warning(s)\r\n",
      "    0 Error(s)\r\n",
      "\r\n",
      "Time Elapsed 00:00:03.61\r\n",
      "\r\n",
      "Workload updates are available. Run `dotnet workload list` for more information.\r\n",
      "fable.dll path: C:\\home\\git\\polyglot\\deps\\Fable\\src\\Fable.Cli\\bin\\Release\\net9.0\\fable.dll\r\n",
      "Lib path: C:\\Users\\i574n\\.nuget\\packages\\fable.core\\4.3.0\\lib\\netstandard2.0\r\n",
      "  Determining projects to restore...\r\n",
      "  All projects are up-to-date for restore.\r\n",
      "  Fable.Core -> C:\\home\\git\\polyglot\\deps\\Fable\\src\\Fable.Core\\bin\\Release\\netstandard2.0\\Fable.Core.dll\r\n",
      "\r\n",
      "Build succeeded.\r\n",
      "    0 Warning(s)\r\n",
      "    0 Error(s)\r\n",
      "\r\n",
      "Time Elapsed 00:00:01.00\r\n",
      "\r\n",
      "Workload updates are available. Run `dotnet workload list` for more information.\r\n"
     ]
    }
   ],
   "source": [
    "{ . \"$ScriptDir/dep_fable.ps1\" } | Invoke-Block"
   ]
  },
  {
   "cell_type": "code",
   "execution_count": null,
   "metadata": {
    "dotnet_interactive": {
     "language": "pwsh"
    },
    "polyglot_notebook": {
     "kernelName": "pwsh"
    }
   },
   "outputs": [],
   "source": [
    "if (!(Test-Path ../deps/hyperui/.next/package.json)) {\n",
    "    { . \"$ScriptDir/dep_hyperui.ps1\" } | Invoke-Block\n",
    "}"
   ]
  }
 ],
 "metadata": {},
 "nbformat": 4,
 "nbformat_minor": 5
}