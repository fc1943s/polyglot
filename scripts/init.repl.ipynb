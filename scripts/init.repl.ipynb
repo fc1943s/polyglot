{
 "cells": [
  {
   "cell_type": "code",
   "execution_count": null,
   "metadata": {
    "dotnet_interactive": {
     "language": "pwsh"
    },
    "polyglot_notebook": {
     "kernelName": "pwsh"
    }
   },
   "outputs": [],
   "source": [
    ". ./nbs_header.ps1\n",
    ". ./core.ps1"
   ]
  },
  {
   "cell_type": "code",
   "execution_count": null,
   "metadata": {
    "dotnet_interactive": {
     "language": "pwsh"
    },
    "polyglot_notebook": {
     "kernelName": "pwsh"
    }
   },
   "outputs": [
    {
     "name": "stdout",
     "output_type": "stream",
     "text": [
      "\u001B[31;1minfo: component 'clippy' for target 'x86_64-pc-windows-msvc' is up to date\u001B[0m\r\n",
      "\u001B[31;1minfo: component 'rust-src' is up to date\u001B[0m\r\n",
      "\u001B[31;1minfo: component 'rustfmt' for target 'x86_64-pc-windows-msvc' is up to date\u001B[0m\r\n"
     ]
    }
   ],
   "source": [
    "rustup +nightly component add clippy rust-src rustfmt"
   ]
  },
  {
   "cell_type": "code",
   "execution_count": null,
   "metadata": {
    "dotnet_interactive": {
     "language": "pwsh"
    },
    "polyglot_notebook": {
     "kernelName": "pwsh"
    }
   },
   "outputs": [
    {
     "name": "stdout",
     "output_type": "stream",
     "text": [
      "\u001B[31;1minfo: syncing channel updates for 'stable-x86_64-pc-windows-msvc'\u001B[0m\r\n",
      "\u001B[31;1minfo: syncing channel updates for 'nightly-x86_64-pc-windows-msvc'\u001B[0m\r\n",
      "\u001B[31;1minfo: latest update on 2023-07-30, rust version 1.73.0-nightly (32303b219 2023-07-29)\u001B[0m\r\n",
      "\u001B[31;1minfo: downloading component 'rust-std' for 'wasm32-unknown-unknown'\u001B[0m\r\n",
      "\u001B[31;1minfo: downloading component 'rust-src'\u001B[0m\r\n",
      "\u001B[31;1minfo: downloading component 'cargo'\u001B[0m\r\n",
      "\u001B[31;1minfo: downloading component 'clippy'\u001B[0m\r\n",
      "\u001B[31;1minfo: downloading component 'rust-docs'\u001B[0m\r\n",
      "\u001B[31;1minfo: downloading component 'rust-std'\u001B[0m\r\n",
      "\u001B[31;1minfo: downloading component 'rustc'\u001B[0m\r\n",
      "\u001B[31;1minfo: downloading component 'rustfmt'\u001B[0m\r\n",
      "\u001B[31;1minfo: removing previous version of component 'rust-std' for 'wasm32-unknown-unknown'\u001B[0m\r\n",
      "\u001B[31;1mwarning: during uninstall component rust-std was not found\u001B[0m\r\n",
      "\u001B[31;1minfo: removing previous version of component 'rust-src'\u001B[0m\r\n",
      "\u001B[31;1mwarning: during uninstall component rust-src was not found\u001B[0m\r\n",
      "\u001B[31;1minfo: removing previous version of component 'cargo'\u001B[0m\r\n",
      "\u001B[31;1minfo: removing previous version of component 'clippy'\u001B[0m\r\n",
      "\u001B[31;1minfo: removing previous version of component 'rust-docs'\u001B[0m\r\n",
      "\u001B[31;1minfo: removing previous version of component 'rust-std'\u001B[0m\r\n",
      "\u001B[31;1minfo: removing previous version of component 'rustc'\u001B[0m\r\n",
      "\u001B[31;1minfo: removing previous version of component 'rustfmt'\u001B[0m\r\n",
      "\u001B[31;1minfo: installing component 'rust-std' for 'wasm32-unknown-unknown'\u001B[0m\r\n",
      "\u001B[31;1minfo: installing component 'rust-src'\u001B[0m\r\n",
      "\u001B[31;1minfo: rolling back changes\u001B[0m\r\n",
      "\u001B[31;1merror: failed to install component: 'rust-src', detected conflict: 'lib/rustlib\\manifest-rust-src'\u001B[0m\r\n",
      "\u001B[31;1minfo: checking for self-update\u001B[0m\r\n",
      "\r\n",
      "       stable-x86_64-pc-windows-msvc unchanged - rustc 1.71.0 (8ede3aae2 2023-07-12)\r\n",
      "  nightly-x86_64-pc-windows-msvc update failed - rustc 1.73.0-nightly (0e8e857b1 2023-07-16)\r\n",
      "\r\n",
      "\u001B[31;1minfo: cleaning up downloads & tmp directories\u001B[0m\r\n"
     ]
    }
   ],
   "source": [
    "rustup update"
   ]
  },
  {
   "cell_type": "code",
   "execution_count": null,
   "metadata": {
    "dotnet_interactive": {
     "language": "pwsh"
    },
    "polyglot_notebook": {
     "kernelName": "pwsh"
    }
   },
   "outputs": [
    {
     "name": "stdout",
     "output_type": "stream",
     "text": [
      "\u001B[31;1m    Updating crates.io index\u001B[0m\r\n",
      "\u001B[31;1m     Ignored package `cargo-outdated v0.13.1` is already installed, use --force to override\u001B[0m\r\n"
     ]
    }
   ],
   "source": [
    "cargo +nightly install cargo-outdated"
   ]
  },
  {
   "cell_type": "code",
   "execution_count": null,
   "metadata": {
    "dotnet_interactive": {
     "language": "pwsh"
    },
    "polyglot_notebook": {
     "kernelName": "pwsh"
    }
   },
   "outputs": [
    {
     "name": "stdout",
     "output_type": "stream",
     "text": [
      "\u001B[31;1m    Updating crates.io index\u001B[0m\r\n",
      "\u001B[31;1m     Ignored package `wasm-pack v0.12.1` is already installed, use --force to override\u001B[0m\r\n"
     ]
    }
   ],
   "source": [
    "cargo +nightly install wasm-pack"
   ]
  },
  {
   "cell_type": "code",
   "execution_count": null,
   "metadata": {
    "dotnet_interactive": {
     "language": "pwsh"
    },
    "polyglot_notebook": {
     "kernelName": "pwsh"
    }
   },
   "outputs": [
    {
     "name": "stdout",
     "output_type": "stream",
     "text": [
      "\r\n",
      "changed 1 package in 8s\r\n"
     ]
    }
   ],
   "source": [
    "npm install -g pnpm"
   ]
  },
  {
   "cell_type": "code",
   "execution_count": null,
   "metadata": {
    "dotnet_interactive": {
     "language": "pwsh"
    },
    "polyglot_notebook": {
     "kernelName": "pwsh"
    }
   },
   "outputs": [
    {
     "name": "stdout",
     "output_type": "stream",
     "text": [
      "\r\n",
      "changed 2 packages in 17s\r\n"
     ]
    }
   ],
   "source": [
    "npm install -g esbuild"
   ]
  },
  {
   "cell_type": "code",
   "execution_count": null,
   "metadata": {
    "dotnet_interactive": {
     "language": "pwsh"
    },
    "polyglot_notebook": {
     "kernelName": "pwsh"
    }
   },
   "outputs": [
    {
     "name": "stdout",
     "output_type": "stream",
     "text": [
      "\r\n",
      "changed 3 packages in 8s\r\n"
     ]
    }
   ],
   "source": [
    "npm install -g @playwright/test"
   ]
  },
  {
   "cell_type": "code",
   "execution_count": null,
   "metadata": {
    "dotnet_interactive": {
     "language": "pwsh"
    },
    "polyglot_notebook": {
     "kernelName": "pwsh"
    }
   },
   "outputs": [
    {
     "name": "stdout",
     "output_type": "stream",
     "text": [
      "Removing unused browser at C:\\Users\\i574n\\AppData\\Local\\ms-playwright\\chromium-1067\r\n",
      "Removing unused browser at C:\\Users\\i574n\\AppData\\Local\\ms-playwright\\firefox-1408\r\n",
      "Removing unused browser at C:\\Users\\i574n\\AppData\\Local\\ms-playwright\\webkit-1861\r\n"
     ]
    }
   ],
   "source": [
    "npx -y playwright install"
   ]
  },
  {
   "cell_type": "code",
   "execution_count": null,
   "metadata": {
    "dotnet_interactive": {
     "language": "pwsh"
    },
    "polyglot_notebook": {
     "kernelName": "pwsh"
    }
   },
   "outputs": [],
   "source": [
    "[Net.ServicePointManager]::SecurityProtocol = [Net.SecurityProtocolType]::Tls12"
   ]
  },
  {
   "cell_type": "code",
   "execution_count": null,
   "metadata": {
    "dotnet_interactive": {
     "language": "pwsh"
    },
    "polyglot_notebook": {
     "kernelName": "pwsh"
    }
   },
   "outputs": [
    {
     "data": {
      "text/plain": [
       "\u001B[30;43m                                                                                                    \n",
       " Installing package 'PowerShellGet'                                                                 \n",
       "                                                                                                    \n",
       "    [                                                                                        ]      \n",
       "                                                                                                    \u001B[0m"
      ]
     },
     "metadata": {},
     "output_type": "display_data"
    },
    {
     "data": {
      "text/plain": [
       "\u001B[30;43m                                                                                                    \n",
       " Installing package 'PowerShellGet'                                                                 \n",
       "    Installing dependent package 'PackageManagement'                                                \n",
       "    [                                                                                        ]      \n",
       "   Installing package 'PackageManagement'                                                           \n",
       "      Downloaded 0.00 MB out of 1.10 MB.                                                            \n",
       "      [                                                                                      ]      \n",
       "                                                                                                    \u001B[0m"
      ]
     },
     "metadata": {},
     "output_type": "display_data"
    },
    {
     "data": {
      "text/plain": [
       "\u001B[30;43m                                                                                                    \n",
       " Installing package 'PowerShellGet'                                                                 \n",
       "    Installing dependent package 'PackageManagement'                                                \n",
       "    [                                                                                        ]      \n",
       "   Installing package 'PackageManagement'                                                           \n",
       "      Downloaded 0.12 MB out of 1.10 MB.                                                            \n",
       "      [oooooo                                                                                ]      \n",
       "                                                                                                    \u001B[0m"
      ]
     },
     "metadata": {},
     "output_type": "display_data"
    },
    {
     "data": {
      "text/plain": [
       "\u001B[30;43m                                                                                                    \n",
       " Installing package 'PowerShellGet'                                                                 \n",
       "    Installing dependent package 'PackageManagement'                                                \n",
       "    [                                                                                        ]      \n",
       "   Installing package 'PackageManagement'                                                           \n",
       "      Downloaded 0.25 MB out of 1.10 MB.                                                            \n",
       "      [oooooooooooo                                                                          ]      \n",
       "                                                                                                    \u001B[0m"
      ]
     },
     "metadata": {},
     "output_type": "display_data"
    },
    {
     "data": {
      "text/plain": [
       "\u001B[30;43m                                                                                                    \n",
       " Installing package 'PowerShellGet'                                                                 \n",
       "    Installing dependent package 'PackageManagement'                                                \n",
       "    [                                                                                        ]      \n",
       "   Installing package 'PackageManagement'                                                           \n",
       "      Downloaded 0.75 MB out of 1.10 MB.                                                            \n",
       "      [oooooooooooooooooooooooooooooooooooooooo                                              ]      \n",
       "                                                                                                    \u001B[0m"
      ]
     },
     "metadata": {},
     "output_type": "display_data"
    },
    {
     "data": {
      "text/plain": [
       "\u001B[30;43m                                                                                                    \n",
       " Installing package 'PowerShellGet'                                                                 \n",
       "    Installing dependent package 'PackageManagement'                                                \n",
       "    [                                                                                        ]      \n",
       "   Installing package 'PackageManagement'                                                           \n",
       "      Downloaded 1.10 MB out of 1.10 MB.                                                            \n",
       "      [oooooooooooooooooooooooooooooooooooooooooooooooooooooooooooo                          ]      \n",
       "                                                                                                    \u001B[0m"
      ]
     },
     "metadata": {},
     "output_type": "display_data"
    },
    {
     "data": {
      "text/plain": [
       "\u001B[30;43m                                                                                                    \n",
       " Installing package 'PowerShellGet'                                                                 \n",
       "    Installing dependent package 'PackageManagement'                                                \n",
       "    [                                                                                        ]      \n",
       "                                                                                                    \u001B[0m"
      ]
     },
     "metadata": {},
     "output_type": "display_data"
    },
    {
     "data": {
      "text/plain": [
       "\u001B[30;43m                                                                                                    \n",
       " Installing package 'PowerShellGet'                                                                 \n",
       "    Downloaded 0.00 MB out of 0.26 MB.                                                              \n",
       "    [oooooooooooooooooooooooooooooooooooooooooooo                                            ]      \n",
       "                                                                                                    \u001B[0m"
      ]
     },
     "metadata": {},
     "output_type": "display_data"
    },
    {
     "data": {
      "text/plain": [
       "\u001B[30;43m                                                                                                    \n",
       " Installing package 'PowerShellGet'                                                                 \n",
       "    Downloaded 0.26 MB out of 0.26 MB.                                                              \n",
       "    [oooooooooooooooooooooooooooooooooooooooooooooooooooooooooooooooooooooooooo              ]      \n",
       "                                                                                                    \u001B[0m"
      ]
     },
     "metadata": {},
     "output_type": "display_data"
    },
    {
     "data": {
      "text/plain": []
     },
     "metadata": {},
     "output_type": "display_data"
    },
    {
     "data": {
      "text/plain": []
     },
     "metadata": {},
     "output_type": "display_data"
    },
    {
     "name": "stdout",
     "output_type": "stream",
     "text": [
      "\u001B[93mWARNING: InternalWebProxy: Could not find a part of the path 'C:\\Users\\i574n\\.nuget\\packages\\dotnet-repl\\0.1.204\\tools\\net7.0\\any\\ref'.\u001B[0m\r\n",
      "\u001B[93mWARNING: Win32Helpers: Could not find a part of the path 'C:\\Users\\i574n\\.nuget\\packages\\dotnet-repl\\0.1.204\\tools\\net7.0\\any\\ref'.\u001B[0m\r\n"
     ]
    }
   ],
   "source": [
    "Install-Module -Name PowerShellGet -Force -AllowClobber -Scope CurrentUser"
   ]
  },
  {
   "cell_type": "code",
   "execution_count": null,
   "metadata": {
    "dotnet_interactive": {
     "language": "pwsh"
    },
    "polyglot_notebook": {
     "kernelName": "pwsh"
    }
   },
   "outputs": [],
   "source": [
    "Set-PSRepository -Name PSGallery -InstallationPolicy Trusted"
   ]
  },
  {
   "cell_type": "code",
   "execution_count": null,
   "metadata": {
    "dotnet_interactive": {
     "language": "pwsh"
    },
    "polyglot_notebook": {
     "kernelName": "pwsh"
    }
   },
   "outputs": [],
   "source": [
    "Install-Module -Name PSToml -Scope CurrentUser"
   ]
  },
  {
   "cell_type": "code",
   "execution_count": null,
   "metadata": {
    "dotnet_interactive": {
     "language": "pwsh"
    },
    "polyglot_notebook": {
     "kernelName": "pwsh"
    }
   },
   "outputs": [],
   "source": [
    "# { . \"$ScriptDir/dep_netmq.ps1\" } | Invoke-Block"
   ]
  },
  {
   "cell_type": "code",
   "execution_count": null,
   "metadata": {
    "dotnet_interactive": {
     "language": "pwsh"
    },
    "polyglot_notebook": {
     "kernelName": "pwsh"
    }
   },
   "outputs": [
    {
     "name": "stdout",
     "output_type": "stream",
     "text": [
      "\u001B[31;1mfatal: destination path 'The-Spiral-Language' already exists and is not an empty directory.\u001B[0m\r\n",
      "Already up to date.\r\n",
      "MSBuild version 17.7.0+5785ed5c2 for .NET\r\n",
      "  Determining projects to restore...\r\n",
      "  All projects are up-to-date for restore.\r\n",
      "C:\\Users\\i574n\\scoop\\apps\\dotnet-sdk-preview\\current\\sdk\\8.0.100-preview.6.23330.14\\Sdks\\Microsoft.NET.Sdk\\targets\\Microsoft.NET.RuntimeIdentifierInference.targets(314,5): message NETSDK1057: You are using a preview version of .NET. See: https://aka.ms/dotnet-support-policy [C:\\home\\git\\polyglot\\deps\\The-Spiral-Language\\The Spiral Language 2\\The Spiral Language 2.fsproj]\r\n",
      "  The Spiral Language 2 -> C:\\home\\git\\polyglot\\deps\\The-Spiral-Language\\The Spiral Language 2\\artifacts\\bin\\The Spiral Language 2\\release\\Spiral.dll\r\n",
      "\r\n",
      "Build succeeded.\r\n",
      "    0 Warning(s)\r\n",
      "    0 Error(s)\r\n",
      "\r\n",
      "Time Elapsed 00:00:37.01\r\n",
      "\u001B[31;1mCopy-Item: \u001B[0mC:\\home\\git\\polyglot\\scripts\\dep_spiral.ps1:14:1\u001B[0m\r\n",
      "\u001B[31;1m\u001B[0m\u001B[36;1mLine |\u001B[0m\r\n",
      "\u001B[31;1m\u001B[0m\u001B[36;1m\u001B[36;1m  14 | \u001B[0m \u001B[36;1mCopy-Item -Recurse \"../deps/The-Spiral-Language/VS Code Plugin/core/\"\u001B[0m …\u001B[0m\r\n",
      "\u001B[31;1m\u001B[0m\u001B[36;1m\u001B[36;1m\u001B[0m\u001B[36;1m\u001B[0m\u001B[36;1m     | \u001B[31;1m ~~~~~~~~~~~~~~~~~~~~~~~~~~~~~~~~~~~~~~~~~~~~~~~~~~~~~~~~~~~~~~~~~~~~~\u001B[0m\r\n",
      "\u001B[31;1m\u001B[0m\u001B[36;1m\u001B[36;1m\u001B[0m\u001B[36;1m\u001B[0m\u001B[36;1m\u001B[31;1m\u001B[31;1m\u001B[36;1m     | \u001B[31;1mAn item with the specified name C:\\home\\git\\polyglot\\deps\\The-Spiral-Language\\The Spiral\u001B[0m\r\n",
      "\u001B[31;1m\u001B[0m\u001B[36;1m\u001B[36;1m\u001B[0m\u001B[36;1m\u001B[0m\u001B[36;1m\u001B[31;1m\u001B[31;1m\u001B[36;1m\u001B[31;1m\u001B[36;1m     | \u001B[31;1mLanguage 2\\artifacts\\bin\\The Spiral Language 2\\core\\core already exists.\u001B[0m\r\n"
     ]
    }
   ],
   "source": [
    "{ . \"$ScriptDir/dep_spiral.ps1\" } | Invoke-Block"
   ]
  },
  {
   "cell_type": "code",
   "execution_count": null,
   "metadata": {
    "dotnet_interactive": {
     "language": "pwsh"
    },
    "polyglot_notebook": {
     "kernelName": "pwsh"
    }
   },
   "outputs": [
    {
     "data": {
      "text/plain": [
       "\u001B[30;43m                                                                                                    \n",
       " Expand-Archive                                                                                     \n",
       "    The archive file 'C:\\Users\\i574n\\.vscode\\extensions\\mrakgr.spiral-lang-vscode-2.3.10/dist' expan\n",
       "    sion is in progress...                                                                          \n",
       "    [                                                                                        ]      \n",
       "                                                                                                    \u001B[0m"
      ]
     },
     "metadata": {},
     "output_type": "display_data"
    },
    {
     "data": {
      "text/plain": [
       "\u001B[30;43m                                                                                                    \n",
       " Expand-Archive                                                                                     \n",
       "    The archive file 'C:\\home\\git\\polyglot\\deps\\The-Spiral-Language\\VS Code Plugin\\spiral-lang-vscod\n",
       "    e-2.3.10.vsix' expansion is in progress...                                                      \n",
       "    [o                                                                                       ]      \n",
       "                                                                                                    \u001B[0m"
      ]
     },
     "metadata": {},
     "output_type": "display_data"
    },
    {
     "data": {
      "text/plain": [
       "\u001B[30;43m                                                                                                    \n",
       " Expand-Archive                                                                                     \n",
       "    The archive file 'C:\\home\\git\\polyglot\\deps\\The-Spiral-Language\\VS Code Plugin\\spiral-lang-vscod\n",
       "    e-2.3.10.vsix' expansion is in progress...                                                      \n",
       "    [ooo                                                                                     ]      \n",
       "                                                                                                    \u001B[0m"
      ]
     },
     "metadata": {},
     "output_type": "display_data"
    },
    {
     "data": {
      "text/plain": [
       "\u001B[30;43m                                                                                                    \n",
       " Expand-Archive                                                                                     \n",
       "    The archive file 'C:\\home\\git\\polyglot\\deps\\The-Spiral-Language\\VS Code Plugin\\spiral-lang-vscod\n",
       "    e-2.3.10.vsix' expansion is in progress...                                                      \n",
       "    [ooooo                                                                                   ]      \n",
       "                                                                                                    \u001B[0m"
      ]
     },
     "metadata": {},
     "output_type": "display_data"
    },
    {
     "data": {
      "text/plain": [
       "\u001B[30;43m                                                                                                    \n",
       " Expand-Archive                                                                                     \n",
       "    The archive file 'C:\\home\\git\\polyglot\\deps\\The-Spiral-Language\\VS Code Plugin\\spiral-lang-vscod\n",
       "    e-2.3.10.vsix' expansion is in progress...                                                      \n",
       "    [oooooooo                                                                                ]      \n",
       "                                                                                                    \u001B[0m"
      ]
     },
     "metadata": {},
     "output_type": "display_data"
    },
    {
     "data": {
      "text/plain": [
       "\u001B[30;43m                                                                                                    \n",
       " Expand-Archive                                                                                     \n",
       "    The archive file 'C:\\home\\git\\polyglot\\deps\\The-Spiral-Language\\VS Code Plugin\\spiral-lang-vscod\n",
       "    e-2.3.10.vsix' expansion is in progress...                                                      \n",
       "    [ooooooooooooo                                                                           ]      \n",
       "                                                                                                    \u001B[0m"
      ]
     },
     "metadata": {},
     "output_type": "display_data"
    },
    {
     "data": {
      "text/plain": [
       "\u001B[30;43m                                                                                                    \n",
       " Expand-Archive                                                                                     \n",
       "    The archive file 'C:\\home\\git\\polyglot\\deps\\The-Spiral-Language\\VS Code Plugin\\spiral-lang-vscod\n",
       "    e-2.3.10.vsix' expansion is in progress...                                                      \n",
       "    [ooooooooooooooooo                                                                       ]      \n",
       "                                                                                                    \u001B[0m"
      ]
     },
     "metadata": {},
     "output_type": "display_data"
    },
    {
     "data": {
      "text/plain": [
       "\u001B[30;43m                                                                                                    \n",
       " Expand-Archive                                                                                     \n",
       "    The archive file 'C:\\home\\git\\polyglot\\deps\\The-Spiral-Language\\VS Code Plugin\\spiral-lang-vscod\n",
       "    e-2.3.10.vsix' expansion is in progress...                                                      \n",
       "    [oooooooooooooooooooooo                                                                  ]      \n",
       "                                                                                                    \u001B[0m"
      ]
     },
     "metadata": {},
     "output_type": "display_data"
    },
    {
     "data": {
      "text/plain": [
       "\u001B[30;43m                                                                                                    \n",
       " Expand-Archive                                                                                     \n",
       "    The archive file 'C:\\home\\git\\polyglot\\deps\\The-Spiral-Language\\VS Code Plugin\\spiral-lang-vscod\n",
       "    e-2.3.10.vsix' expansion is in progress...                                                      \n",
       "    [oooooooooooooooooooooooooo                                                              ]      \n",
       "                                                                                                    \u001B[0m"
      ]
     },
     "metadata": {},
     "output_type": "display_data"
    },
    {
     "data": {
      "text/plain": [
       "\u001B[30;43m                                                                                                    \n",
       " Expand-Archive                                                                                     \n",
       "    The archive file 'C:\\home\\git\\polyglot\\deps\\The-Spiral-Language\\VS Code Plugin\\spiral-lang-vscod\n",
       "    e-2.3.10.vsix' expansion is in progress...                                                      \n",
       "    [oooooooooooooooooooooooooooooooo                                                        ]      \n",
       "                                                                                                    \u001B[0m"
      ]
     },
     "metadata": {},
     "output_type": "display_data"
    },
    {
     "data": {
      "text/plain": [
       "\u001B[30;43m                                                                                                    \n",
       " Expand-Archive                                                                                     \n",
       "    The archive file 'C:\\home\\git\\polyglot\\deps\\The-Spiral-Language\\VS Code Plugin\\spiral-lang-vscod\n",
       "    e-2.3.10.vsix' expansion is in progress...                                                      \n",
       "    [ooooooooooooooooooooooooooooooooooooo                                                   ]      \n",
       "                                                                                                    \u001B[0m"
      ]
     },
     "metadata": {},
     "output_type": "display_data"
    },
    {
     "data": {
      "text/plain": [
       "\u001B[30;43m                                                                                                    \n",
       " Expand-Archive                                                                                     \n",
       "    The archive file 'C:\\home\\git\\polyglot\\deps\\The-Spiral-Language\\VS Code Plugin\\spiral-lang-vscod\n",
       "    e-2.3.10.vsix' expansion is in progress...                                                      \n",
       "    [oooooooooooooooooooooooooooooooooooooooooo                                              ]      \n",
       "                                                                                                    \u001B[0m"
      ]
     },
     "metadata": {},
     "output_type": "display_data"
    },
    {
     "data": {
      "text/plain": [
       "\u001B[30;43m                                                                                                    \n",
       " Expand-Archive                                                                                     \n",
       "    The archive file 'C:\\home\\git\\polyglot\\deps\\The-Spiral-Language\\VS Code Plugin\\spiral-lang-vscod\n",
       "    e-2.3.10.vsix' expansion is in progress...                                                      \n",
       "    [oooooooooooooooooooooooooooooooooooooooooooooooo                                        ]      \n",
       "                                                                                                    \u001B[0m"
      ]
     },
     "metadata": {},
     "output_type": "display_data"
    },
    {
     "data": {
      "text/plain": [
       "\u001B[30;43m                                                                                                    \n",
       " Expand-Archive                                                                                     \n",
       "    The archive file 'C:\\home\\git\\polyglot\\deps\\The-Spiral-Language\\VS Code Plugin\\spiral-lang-vscod\n",
       "    e-2.3.10.vsix' expansion is in progress...                                                      \n",
       "    [oooooooooooooooooooooooooooooooooooooooooooooooooooooo                                  ]      \n",
       "                                                                                                    \u001B[0m"
      ]
     },
     "metadata": {},
     "output_type": "display_data"
    },
    {
     "data": {
      "text/plain": [
       "\u001B[30;43m                                                                                                    \n",
       " Expand-Archive                                                                                     \n",
       "    The archive file 'C:\\home\\git\\polyglot\\deps\\The-Spiral-Language\\VS Code Plugin\\spiral-lang-vscod\n",
       "    e-2.3.10.vsix' expansion is in progress...                                                      \n",
       "    [ooooooooooooooooooooooooooooooooooooooooooooooooooooooooooo                             ]      \n",
       "                                                                                                    \u001B[0m"
      ]
     },
     "metadata": {},
     "output_type": "display_data"
    },
    {
     "data": {
      "text/plain": [
       "\u001B[30;43m                                                                                                    \n",
       " Expand-Archive                                                                                     \n",
       "    The archive file 'C:\\home\\git\\polyglot\\deps\\The-Spiral-Language\\VS Code Plugin\\spiral-lang-vscod\n",
       "    e-2.3.10.vsix' expansion is in progress...                                                      \n",
       "    [ooooooooooooooooooooooooooooooooooooooooooooooooooooooooooooooooo                       ]      \n",
       "                                                                                                    \u001B[0m"
      ]
     },
     "metadata": {},
     "output_type": "display_data"
    },
    {
     "data": {
      "text/plain": [
       "\u001B[30;43m                                                                                                    \n",
       " Expand-Archive                                                                                     \n",
       "    The archive file 'C:\\home\\git\\polyglot\\deps\\The-Spiral-Language\\VS Code Plugin\\spiral-lang-vscod\n",
       "    e-2.3.10.vsix' expansion is in progress...                                                      \n",
       "    [ooooooooooooooooooooooooooooooooooooooooooooooooooooooooooooooooooooo                   ]      \n",
       "                                                                                                    \u001B[0m"
      ]
     },
     "metadata": {},
     "output_type": "display_data"
    },
    {
     "data": {
      "text/plain": [
       "\u001B[30;43m                                                                                                    \n",
       " Expand-Archive                                                                                     \n",
       "    The archive file 'C:\\home\\git\\polyglot\\deps\\The-Spiral-Language\\VS Code Plugin\\spiral-lang-vscod\n",
       "    e-2.3.10.vsix' expansion is in progress...                                                      \n",
       "    [ooooooooooooooooooooooooooooooooooooooooooooooooooooooooooooooooooooooooo               ]      \n",
       "                                                                                                    \u001B[0m"
      ]
     },
     "metadata": {},
     "output_type": "display_data"
    },
    {
     "data": {
      "text/plain": [
       "\u001B[30;43m                                                                                                    \n",
       " Expand-Archive                                                                                     \n",
       "    The archive file 'C:\\home\\git\\polyglot\\deps\\The-Spiral-Language\\VS Code Plugin\\spiral-lang-vscod\n",
       "    e-2.3.10.vsix' expansion is in progress...                                                      \n",
       "    [ooooooooooooooooooooooooooooooooooooooooooooooooooooooooooooooooooooooooooooo           ]      \n",
       "                                                                                                    \u001B[0m"
      ]
     },
     "metadata": {},
     "output_type": "display_data"
    },
    {
     "data": {
      "text/plain": [
       "\u001B[30;43m                                                                                                    \n",
       " Expand-Archive                                                                                     \n",
       "    The archive file 'C:\\home\\git\\polyglot\\deps\\The-Spiral-Language\\VS Code Plugin\\spiral-lang-vscod\n",
       "    e-2.3.10.vsix' expansion is in progress...                                                      \n",
       "    [oooooooooooooooooooooooooooooooooooooooooooooooooooooooooooooooooooooooooooooooo        ]      \n",
       "                                                                                                    \u001B[0m"
      ]
     },
     "metadata": {},
     "output_type": "display_data"
    },
    {
     "data": {
      "text/plain": [
       "\u001B[30;43m                                                                                                    \n",
       " Expand-Archive                                                                                     \n",
       "    The archive file 'C:\\home\\git\\polyglot\\deps\\The-Spiral-Language\\VS Code Plugin\\spiral-lang-vscod\n",
       "    e-2.3.10.vsix' expansion is in progress...                                                      \n",
       "    [oooooooooooooooooooooooooooooooooooooooooooooooooooooooooooooooooooooooooooooooooooo    ]      \n",
       "                                                                                                    \u001B[0m"
      ]
     },
     "metadata": {},
     "output_type": "display_data"
    },
    {
     "data": {
      "text/plain": []
     },
     "metadata": {},
     "output_type": "display_data"
    },
    {
     "data": {
      "text/plain": [
       "\u001B[30;43m                                                                                                    \n",
       " Expand-Archive                                                                                     \n",
       "    The archive file 'C:\\Users\\i574n\\scoop\\persist\\vscode\\data\\extensions\\mrakgr.spiral-lang-vscode-\n",
       "    2.3.10/dist' expansion is in progress...                                                        \n",
       "    [                                                                                        ]      \n",
       "                                                                                                    \u001B[0m"
      ]
     },
     "metadata": {},
     "output_type": "display_data"
    },
    {
     "data": {
      "text/plain": [
       "\u001B[30;43m                                                                                                    \n",
       " Expand-Archive                                                                                     \n",
       "    The archive file 'C:\\home\\git\\polyglot\\deps\\The-Spiral-Language\\VS Code Plugin\\spiral-lang-vscod\n",
       "    e-2.3.10.vsix' expansion is in progress...                                                      \n",
       "    [oo                                                                                      ]      \n",
       "                                                                                                    \u001B[0m"
      ]
     },
     "metadata": {},
     "output_type": "display_data"
    },
    {
     "data": {
      "text/plain": [
       "\u001B[30;43m                                                                                                    \n",
       " Expand-Archive                                                                                     \n",
       "    The archive file 'C:\\home\\git\\polyglot\\deps\\The-Spiral-Language\\VS Code Plugin\\spiral-lang-vscod\n",
       "    e-2.3.10.vsix' expansion is in progress...                                                      \n",
       "    [oooooo                                                                                  ]      \n",
       "                                                                                                    \u001B[0m"
      ]
     },
     "metadata": {},
     "output_type": "display_data"
    },
    {
     "data": {
      "text/plain": [
       "\u001B[30;43m                                                                                                    \n",
       " Expand-Archive                                                                                     \n",
       "    The archive file 'C:\\home\\git\\polyglot\\deps\\The-Spiral-Language\\VS Code Plugin\\spiral-lang-vscod\n",
       "    e-2.3.10.vsix' expansion is in progress...                                                      \n",
       "    [ooooooooooo                                                                             ]      \n",
       "                                                                                                    \u001B[0m"
      ]
     },
     "metadata": {},
     "output_type": "display_data"
    },
    {
     "data": {
      "text/plain": [
       "\u001B[30;43m                                                                                                    \n",
       " Expand-Archive                                                                                     \n",
       "    The archive file 'C:\\home\\git\\polyglot\\deps\\The-Spiral-Language\\VS Code Plugin\\spiral-lang-vscod\n",
       "    e-2.3.10.vsix' expansion is in progress...                                                      \n",
       "    [ooooooooooooooooo                                                                       ]      \n",
       "                                                                                                    \u001B[0m"
      ]
     },
     "metadata": {},
     "output_type": "display_data"
    },
    {
     "data": {
      "text/plain": [
       "\u001B[30;43m                                                                                                    \n",
       " Expand-Archive                                                                                     \n",
       "    The archive file 'C:\\home\\git\\polyglot\\deps\\The-Spiral-Language\\VS Code Plugin\\spiral-lang-vscod\n",
       "    e-2.3.10.vsix' expansion is in progress...                                                      \n",
       "    [ooooooooooooooooooooo                                                                   ]      \n",
       "                                                                                                    \u001B[0m"
      ]
     },
     "metadata": {},
     "output_type": "display_data"
    },
    {
     "data": {
      "text/plain": [
       "\u001B[30;43m                                                                                                    \n",
       " Expand-Archive                                                                                     \n",
       "    The archive file 'C:\\home\\git\\polyglot\\deps\\The-Spiral-Language\\VS Code Plugin\\spiral-lang-vscod\n",
       "    e-2.3.10.vsix' expansion is in progress...                                                      \n",
       "    [ooooooooooooooooooooooooo                                                               ]      \n",
       "                                                                                                    \u001B[0m"
      ]
     },
     "metadata": {},
     "output_type": "display_data"
    },
    {
     "data": {
      "text/plain": [
       "\u001B[30;43m                                                                                                    \n",
       " Expand-Archive                                                                                     \n",
       "    The archive file 'C:\\home\\git\\polyglot\\deps\\The-Spiral-Language\\VS Code Plugin\\spiral-lang-vscod\n",
       "    e-2.3.10.vsix' expansion is in progress...                                                      \n",
       "    [oooooooooooooooooooooooooooooo                                                          ]      \n",
       "                                                                                                    \u001B[0m"
      ]
     },
     "metadata": {},
     "output_type": "display_data"
    },
    {
     "data": {
      "text/plain": [
       "\u001B[30;43m                                                                                                    \n",
       " Expand-Archive                                                                                     \n",
       "    The archive file 'C:\\home\\git\\polyglot\\deps\\The-Spiral-Language\\VS Code Plugin\\spiral-lang-vscod\n",
       "    e-2.3.10.vsix' expansion is in progress...                                                      \n",
       "    [oooooooooooooooooooooooooooooooooo                                                      ]      \n",
       "                                                                                                    \u001B[0m"
      ]
     },
     "metadata": {},
     "output_type": "display_data"
    },
    {
     "data": {
      "text/plain": [
       "\u001B[30;43m                                                                                                    \n",
       " Expand-Archive                                                                                     \n",
       "    The archive file 'C:\\home\\git\\polyglot\\deps\\The-Spiral-Language\\VS Code Plugin\\spiral-lang-vscod\n",
       "    e-2.3.10.vsix' expansion is in progress...                                                      \n",
       "    [ooooooooooooooooooooooooooooooooooooo                                                   ]      \n",
       "                                                                                                    \u001B[0m"
      ]
     },
     "metadata": {},
     "output_type": "display_data"
    },
    {
     "data": {
      "text/plain": [
       "\u001B[30;43m                                                                                                    \n",
       " Expand-Archive                                                                                     \n",
       "    The archive file 'C:\\home\\git\\polyglot\\deps\\The-Spiral-Language\\VS Code Plugin\\spiral-lang-vscod\n",
       "    e-2.3.10.vsix' expansion is in progress...                                                      \n",
       "    [oooooooooooooooooooooooooooooooooooooooooo                                              ]      \n",
       "                                                                                                    \u001B[0m"
      ]
     },
     "metadata": {},
     "output_type": "display_data"
    },
    {
     "data": {
      "text/plain": [
       "\u001B[30;43m                                                                                                    \n",
       " Expand-Archive                                                                                     \n",
       "    The archive file 'C:\\home\\git\\polyglot\\deps\\The-Spiral-Language\\VS Code Plugin\\spiral-lang-vscod\n",
       "    e-2.3.10.vsix' expansion is in progress...                                                      \n",
       "    [oooooooooooooooooooooooooooooooooooooooooooooooo                                        ]      \n",
       "                                                                                                    \u001B[0m"
      ]
     },
     "metadata": {},
     "output_type": "display_data"
    },
    {
     "data": {
      "text/plain": [
       "\u001B[30;43m                                                                                                    \n",
       " Expand-Archive                                                                                     \n",
       "    The archive file 'C:\\home\\git\\polyglot\\deps\\The-Spiral-Language\\VS Code Plugin\\spiral-lang-vscod\n",
       "    e-2.3.10.vsix' expansion is in progress...                                                      \n",
       "    [ooooooooooooooooooooooooooooooooooooooooooooooooooooo                                   ]      \n",
       "                                                                                                    \u001B[0m"
      ]
     },
     "metadata": {},
     "output_type": "display_data"
    },
    {
     "data": {
      "text/plain": [
       "\u001B[30;43m                                                                                                    \n",
       " Expand-Archive                                                                                     \n",
       "    The archive file 'C:\\home\\git\\polyglot\\deps\\The-Spiral-Language\\VS Code Plugin\\spiral-lang-vscod\n",
       "    e-2.3.10.vsix' expansion is in progress...                                                      \n",
       "    [oooooooooooooooooooooooooooooooooooooooooooooooooooooooooo                              ]      \n",
       "                                                                                                    \u001B[0m"
      ]
     },
     "metadata": {},
     "output_type": "display_data"
    },
    {
     "data": {
      "text/plain": [
       "\u001B[30;43m                                                                                                    \n",
       " Expand-Archive                                                                                     \n",
       "    The archive file 'C:\\home\\git\\polyglot\\deps\\The-Spiral-Language\\VS Code Plugin\\spiral-lang-vscod\n",
       "    e-2.3.10.vsix' expansion is in progress...                                                      \n",
       "    [ooooooooooooooooooooooooooooooooooooooooooooooooooooooooooooooo                         ]      \n",
       "                                                                                                    \u001B[0m"
      ]
     },
     "metadata": {},
     "output_type": "display_data"
    },
    {
     "data": {
      "text/plain": [
       "\u001B[30;43m                                                                                                    \n",
       " Expand-Archive                                                                                     \n",
       "    The archive file 'C:\\home\\git\\polyglot\\deps\\The-Spiral-Language\\VS Code Plugin\\spiral-lang-vscod\n",
       "    e-2.3.10.vsix' expansion is in progress...                                                      \n",
       "    [oooooooooooooooooooooooooooooooooooooooooooooooooooooooooooooooooooo                    ]      \n",
       "                                                                                                    \u001B[0m"
      ]
     },
     "metadata": {},
     "output_type": "display_data"
    },
    {
     "data": {
      "text/plain": [
       "\u001B[30;43m                                                                                                    \n",
       " Expand-Archive                                                                                     \n",
       "    The archive file 'C:\\home\\git\\polyglot\\deps\\The-Spiral-Language\\VS Code Plugin\\spiral-lang-vscod\n",
       "    e-2.3.10.vsix' expansion is in progress...                                                      \n",
       "    [ooooooooooooooooooooooooooooooooooooooooooooooooooooooooooooooooooooooooo               ]      \n",
       "                                                                                                    \u001B[0m"
      ]
     },
     "metadata": {},
     "output_type": "display_data"
    },
    {
     "data": {
      "text/plain": [
       "\u001B[30;43m                                                                                                    \n",
       " Expand-Archive                                                                                     \n",
       "    The archive file 'C:\\home\\git\\polyglot\\deps\\The-Spiral-Language\\VS Code Plugin\\spiral-lang-vscod\n",
       "    e-2.3.10.vsix' expansion is in progress...                                                      \n",
       "    [oooooooooooooooooooooooooooooooooooooooooooooooooooooooooooooooooooooooooooooo          ]      \n",
       "                                                                                                    \u001B[0m"
      ]
     },
     "metadata": {},
     "output_type": "display_data"
    },
    {
     "data": {
      "text/plain": [
       "\u001B[30;43m                                                                                                    \n",
       " Expand-Archive                                                                                     \n",
       "    The archive file 'C:\\home\\git\\polyglot\\deps\\The-Spiral-Language\\VS Code Plugin\\spiral-lang-vscod\n",
       "    e-2.3.10.vsix' expansion is in progress...                                                      \n",
       "    [oooooooooooooooooooooooooooooooooooooooooooooooooooooooooooooooooooooooooooooooo        ]      \n",
       "                                                                                                    \u001B[0m"
      ]
     },
     "metadata": {},
     "output_type": "display_data"
    },
    {
     "data": {
      "text/plain": [
       "\u001B[30;43m                                                                                                    \n",
       " Expand-Archive                                                                                     \n",
       "    The archive file 'C:\\home\\git\\polyglot\\deps\\The-Spiral-Language\\VS Code Plugin\\spiral-lang-vscod\n",
       "    e-2.3.10.vsix' expansion is in progress...                                                      \n",
       "    [ooooooooooooooooooooooooooooooooooooooooooooooooooooooooooooooooooooooooooooooooooo     ]      \n",
       "                                                                                                    \u001B[0m"
      ]
     },
     "metadata": {},
     "output_type": "display_data"
    },
    {
     "data": {
      "text/plain": []
     },
     "metadata": {},
     "output_type": "display_data"
    },
    {
     "data": {
      "text/plain": [
       "\u001B[30;43m                                                                                                    \n",
       " Expand-Archive                                                                                     \n",
       "    The archive file 'C:\\Users\\i574n\\scoop\\persist\\vscode-insiders\\data\\extensions\\mrakgr.spiral-lan\n",
       "    g-vscode-2.3.10/dist' expansion is in progress...                                               \n",
       "    [                                                                                        ]      \n",
       "                                                                                                    \u001B[0m"
      ]
     },
     "metadata": {},
     "output_type": "display_data"
    },
    {
     "data": {
      "text/plain": [
       "\u001B[30;43m                                                                                                    \n",
       " Expand-Archive                                                                                     \n",
       "    The archive file 'C:\\home\\git\\polyglot\\deps\\The-Spiral-Language\\VS Code Plugin\\spiral-lang-vscod\n",
       "    e-2.3.10.vsix' expansion is in progress...                                                      \n",
       "    [oooo                                                                                    ]      \n",
       "                                                                                                    \u001B[0m"
      ]
     },
     "metadata": {},
     "output_type": "display_data"
    },
    {
     "data": {
      "text/plain": [
       "\u001B[30;43m                                                                                                    \n",
       " Expand-Archive                                                                                     \n",
       "    The archive file 'C:\\home\\git\\polyglot\\deps\\The-Spiral-Language\\VS Code Plugin\\spiral-lang-vscod\n",
       "    e-2.3.10.vsix' expansion is in progress...                                                      \n",
       "    [ooooooooo                                                                               ]      \n",
       "                                                                                                    \u001B[0m"
      ]
     },
     "metadata": {},
     "output_type": "display_data"
    },
    {
     "data": {
      "text/plain": [
       "\u001B[30;43m                                                                                                    \n",
       " Expand-Archive                                                                                     \n",
       "    The archive file 'C:\\home\\git\\polyglot\\deps\\The-Spiral-Language\\VS Code Plugin\\spiral-lang-vscod\n",
       "    e-2.3.10.vsix' expansion is in progress...                                                      \n",
       "    [oooooooooooooo                                                                          ]      \n",
       "                                                                                                    \u001B[0m"
      ]
     },
     "metadata": {},
     "output_type": "display_data"
    },
    {
     "data": {
      "text/plain": [
       "\u001B[30;43m                                                                                                    \n",
       " Expand-Archive                                                                                     \n",
       "    The archive file 'C:\\home\\git\\polyglot\\deps\\The-Spiral-Language\\VS Code Plugin\\spiral-lang-vscod\n",
       "    e-2.3.10.vsix' expansion is in progress...                                                      \n",
       "    [oooooooooooooooooooooo                                                                  ]      \n",
       "                                                                                                    \u001B[0m"
      ]
     },
     "metadata": {},
     "output_type": "display_data"
    },
    {
     "data": {
      "text/plain": [
       "\u001B[30;43m                                                                                                    \n",
       " Expand-Archive                                                                                     \n",
       "    The archive file 'C:\\home\\git\\polyglot\\deps\\The-Spiral-Language\\VS Code Plugin\\spiral-lang-vscod\n",
       "    e-2.3.10.vsix' expansion is in progress...                                                      \n",
       "    [oooooooooooooooooooooooooooo                                                            ]      \n",
       "                                                                                                    \u001B[0m"
      ]
     },
     "metadata": {},
     "output_type": "display_data"
    },
    {
     "data": {
      "text/plain": [
       "\u001B[30;43m                                                                                                    \n",
       " Expand-Archive                                                                                     \n",
       "    The archive file 'C:\\home\\git\\polyglot\\deps\\The-Spiral-Language\\VS Code Plugin\\spiral-lang-vscod\n",
       "    e-2.3.10.vsix' expansion is in progress...                                                      \n",
       "    [ooooooooooooooooooooooooooooooooo                                                       ]      \n",
       "                                                                                                    \u001B[0m"
      ]
     },
     "metadata": {},
     "output_type": "display_data"
    },
    {
     "data": {
      "text/plain": [
       "\u001B[30;43m                                                                                                    \n",
       " Expand-Archive                                                                                     \n",
       "    The archive file 'C:\\home\\git\\polyglot\\deps\\The-Spiral-Language\\VS Code Plugin\\spiral-lang-vscod\n",
       "    e-2.3.10.vsix' expansion is in progress...                                                      \n",
       "    [ooooooooooooooooooooooooooooooooooooo                                                   ]      \n",
       "                                                                                                    \u001B[0m"
      ]
     },
     "metadata": {},
     "output_type": "display_data"
    },
    {
     "data": {
      "text/plain": [
       "\u001B[30;43m                                                                                                    \n",
       " Expand-Archive                                                                                     \n",
       "    The archive file 'C:\\home\\git\\polyglot\\deps\\The-Spiral-Language\\VS Code Plugin\\spiral-lang-vscod\n",
       "    e-2.3.10.vsix' expansion is in progress...                                                      \n",
       "    [ooooooooooooooooooooooooooooooooooooooooo                                               ]      \n",
       "                                                                                                    \u001B[0m"
      ]
     },
     "metadata": {},
     "output_type": "display_data"
    },
    {
     "data": {
      "text/plain": [
       "\u001B[30;43m                                                                                                    \n",
       " Expand-Archive                                                                                     \n",
       "    The archive file 'C:\\home\\git\\polyglot\\deps\\The-Spiral-Language\\VS Code Plugin\\spiral-lang-vscod\n",
       "    e-2.3.10.vsix' expansion is in progress...                                                      \n",
       "    [ooooooooooooooooooooooooooooooooooooooooooooooo                                         ]      \n",
       "                                                                                                    \u001B[0m"
      ]
     },
     "metadata": {},
     "output_type": "display_data"
    },
    {
     "data": {
      "text/plain": [
       "\u001B[30;43m                                                                                                    \n",
       " Expand-Archive                                                                                     \n",
       "    The archive file 'C:\\home\\git\\polyglot\\deps\\The-Spiral-Language\\VS Code Plugin\\spiral-lang-vscod\n",
       "    e-2.3.10.vsix' expansion is in progress...                                                      \n",
       "    [oooooooooooooooooooooooooooooooooooooooooooooooooooo                                    ]      \n",
       "                                                                                                    \u001B[0m"
      ]
     },
     "metadata": {},
     "output_type": "display_data"
    },
    {
     "data": {
      "text/plain": [
       "\u001B[30;43m                                                                                                    \n",
       " Expand-Archive                                                                                     \n",
       "    The archive file 'C:\\home\\git\\polyglot\\deps\\The-Spiral-Language\\VS Code Plugin\\spiral-lang-vscod\n",
       "    e-2.3.10.vsix' expansion is in progress...                                                      \n",
       "    [oooooooooooooooooooooooooooooooooooooooooooooooooooooooo                                ]      \n",
       "                                                                                                    \u001B[0m"
      ]
     },
     "metadata": {},
     "output_type": "display_data"
    },
    {
     "data": {
      "text/plain": [
       "\u001B[30;43m                                                                                                    \n",
       " Expand-Archive                                                                                     \n",
       "    The archive file 'C:\\home\\git\\polyglot\\deps\\The-Spiral-Language\\VS Code Plugin\\spiral-lang-vscod\n",
       "    e-2.3.10.vsix' expansion is in progress...                                                      \n",
       "    [ooooooooooooooooooooooooooooooooooooooooooooooooooooooooooo                             ]      \n",
       "                                                                                                    \u001B[0m"
      ]
     },
     "metadata": {},
     "output_type": "display_data"
    },
    {
     "data": {
      "text/plain": [
       "\u001B[30;43m                                                                                                    \n",
       " Expand-Archive                                                                                     \n",
       "    The archive file 'C:\\home\\git\\polyglot\\deps\\The-Spiral-Language\\VS Code Plugin\\spiral-lang-vscod\n",
       "    e-2.3.10.vsix' expansion is in progress...                                                      \n",
       "    [ooooooooooooooooooooooooooooooooooooooooooooooooooooooooooooooo                         ]      \n",
       "                                                                                                    \u001B[0m"
      ]
     },
     "metadata": {},
     "output_type": "display_data"
    },
    {
     "data": {
      "text/plain": [
       "\u001B[30;43m                                                                                                    \n",
       " Expand-Archive                                                                                     \n",
       "    The archive file 'C:\\home\\git\\polyglot\\deps\\The-Spiral-Language\\VS Code Plugin\\spiral-lang-vscod\n",
       "    e-2.3.10.vsix' expansion is in progress...                                                      \n",
       "    [ooooooooooooooooooooooooooooooooooooooooooooooooooooooooooooooooo                       ]      \n",
       "                                                                                                    \u001B[0m"
      ]
     },
     "metadata": {},
     "output_type": "display_data"
    },
    {
     "data": {
      "text/plain": [
       "\u001B[30;43m                                                                                                    \n",
       " Expand-Archive                                                                                     \n",
       "    The archive file 'C:\\home\\git\\polyglot\\deps\\The-Spiral-Language\\VS Code Plugin\\spiral-lang-vscod\n",
       "    e-2.3.10.vsix' expansion is in progress...                                                      \n",
       "    [ooooooooooooooooooooooooooooooooooooooooooooooooooooooooooooooooooo                     ]      \n",
       "                                                                                                    \u001B[0m"
      ]
     },
     "metadata": {},
     "output_type": "display_data"
    },
    {
     "data": {
      "text/plain": [
       "\u001B[30;43m                                                                                                    \n",
       " Expand-Archive                                                                                     \n",
       "    The archive file 'C:\\home\\git\\polyglot\\deps\\The-Spiral-Language\\VS Code Plugin\\spiral-lang-vscod\n",
       "    e-2.3.10.vsix' expansion is in progress...                                                      \n",
       "    [ooooooooooooooooooooooooooooooooooooooooooooooooooooooooooooooooooooooo                 ]      \n",
       "                                                                                                    \u001B[0m"
      ]
     },
     "metadata": {},
     "output_type": "display_data"
    },
    {
     "data": {
      "text/plain": [
       "\u001B[30;43m                                                                                                    \n",
       " Expand-Archive                                                                                     \n",
       "    The archive file 'C:\\home\\git\\polyglot\\deps\\The-Spiral-Language\\VS Code Plugin\\spiral-lang-vscod\n",
       "    e-2.3.10.vsix' expansion is in progress...                                                      \n",
       "    [ooooooooooooooooooooooooooooooooooooooooooooooooooooooooooooooooooooooooo               ]      \n",
       "                                                                                                    \u001B[0m"
      ]
     },
     "metadata": {},
     "output_type": "display_data"
    },
    {
     "data": {
      "text/plain": [
       "\u001B[30;43m                                                                                                    \n",
       " Expand-Archive                                                                                     \n",
       "    The archive file 'C:\\home\\git\\polyglot\\deps\\The-Spiral-Language\\VS Code Plugin\\spiral-lang-vscod\n",
       "    e-2.3.10.vsix' expansion is in progress...                                                      \n",
       "    [ooooooooooooooooooooooooooooooooooooooooooooooooooooooooooooooooooooooooooooo           ]      \n",
       "                                                                                                    \u001B[0m"
      ]
     },
     "metadata": {},
     "output_type": "display_data"
    },
    {
     "data": {
      "text/plain": [
       "\u001B[30;43m                                                                                                    \n",
       " Expand-Archive                                                                                     \n",
       "    The archive file 'C:\\home\\git\\polyglot\\deps\\The-Spiral-Language\\VS Code Plugin\\spiral-lang-vscod\n",
       "    e-2.3.10.vsix' expansion is in progress...                                                      \n",
       "    [ooooooooooooooooooooooooooooooooooooooooooooooooooooooooooooooooooooooooooooooo         ]      \n",
       "                                                                                                    \u001B[0m"
      ]
     },
     "metadata": {},
     "output_type": "display_data"
    },
    {
     "data": {
      "text/plain": [
       "\u001B[30;43m                                                                                                    \n",
       " Expand-Archive                                                                                     \n",
       "    The archive file 'C:\\home\\git\\polyglot\\deps\\The-Spiral-Language\\VS Code Plugin\\spiral-lang-vscod\n",
       "    e-2.3.10.vsix' expansion is in progress...                                                      \n",
       "    [oooooooooooooooooooooooooooooooooooooooooooooooooooooooooooooooooooooooooooooooo        ]      \n",
       "                                                                                                    \u001B[0m"
      ]
     },
     "metadata": {},
     "output_type": "display_data"
    },
    {
     "data": {
      "text/plain": [
       "\u001B[30;43m                                                                                                    \n",
       " Expand-Archive                                                                                     \n",
       "    The archive file 'C:\\home\\git\\polyglot\\deps\\The-Spiral-Language\\VS Code Plugin\\spiral-lang-vscod\n",
       "    e-2.3.10.vsix' expansion is in progress...                                                      \n",
       "    [oooooooooooooooooooooooooooooooooooooooooooooooooooooooooooooooooooooooooooooooooo      ]      \n",
       "                                                                                                    \u001B[0m"
      ]
     },
     "metadata": {},
     "output_type": "display_data"
    },
    {
     "data": {
      "text/plain": [
       "\u001B[30;43m                                                                                                    \n",
       " Expand-Archive                                                                                     \n",
       "    The archive file 'C:\\home\\git\\polyglot\\deps\\The-Spiral-Language\\VS Code Plugin\\spiral-lang-vscod\n",
       "    e-2.3.10.vsix' expansion is in progress...                                                      \n",
       "    [ooooooooooooooooooooooooooooooooooooooooooooooooooooooooooooooooooooooooooooooooooooo   ]      \n",
       "                                                                                                    \u001B[0m"
      ]
     },
     "metadata": {},
     "output_type": "display_data"
    },
    {
     "data": {
      "text/plain": []
     },
     "metadata": {},
     "output_type": "display_data"
    },
    {
     "data": {
      "text/plain": []
     },
     "metadata": {},
     "output_type": "display_data"
    },
    {
     "name": "stdout",
     "output_type": "stream",
     "text": [
      "\r\n",
      "up to date, audited 131 packages in 4s\r\n",
      "\r\n",
      "35 packages are looking for funding\r\n",
      "  run `npm fund` for details\r\n",
      "\r\n",
      "1 moderate severity vulnerability\r\n",
      "\r\n",
      "To address all issues, run:\r\n",
      "  npm audit fix\r\n",
      "\r\n",
      "Run `npm audit` for details.\r\n",
      "This extension consists of 773 files, out of which 207 are JavaScript files. For performance reasons, you should bundle your extension: https://aka.ms/vscode-bundle-extension . You should also exclude unnecessary files by adding them to your .vscodeignore: https://aka.ms/vscode-vscodeignore\r\n",
      " DONE  Packaged: C:\\home\\git\\polyglot\\deps\\The-Spiral-Language\\VS Code Plugin\\spiral-lang-vscode-2.3.10.vsix (773 files, 8.87MB)\r\n",
      "Copying extension to C:\\Users\\i574n\\.vscode\\extensions\\mrakgr.spiral-lang-vscode-2.3.10\r\n",
      "Copying extension to C:\\Users\\i574n\\scoop\\persist\\vscode\\data\\extensions\\mrakgr.spiral-lang-vscode-2.3.10\r\n",
      "Copying extension to C:\\Users\\i574n\\scoop\\persist\\vscode-insiders\\data\\extensions\\mrakgr.spiral-lang-vscode-2.3.10\r\n",
      "Failed to delete C:\\Users\\i574n\\scoop\\persist\\vscode-insiders\\data\\extensions\\mrakgr.spiral-lang-vscode-2.3.10\\node_modules\\zeromq\\prebuilds\\win32-x64\\node.napi.glibc.node\r\n"
     ]
    }
   ],
   "source": [
    "{ . \"$ScriptDir/../spiral/extension.ps1\" } | Invoke-Block"
   ]
  },
  {
   "cell_type": "code",
   "execution_count": null,
   "metadata": {
    "dotnet_interactive": {
     "language": "pwsh"
    },
    "polyglot_notebook": {
     "kernelName": "pwsh"
    }
   },
   "outputs": [
    {
     "name": "stdout",
     "output_type": "stream",
     "text": [
      "\u001B[31;1mfatal: destination path 'Fable' already exists and is not an empty directory.\u001B[0m\r\n",
      "Already up to date.\r\n",
      "Tool path: C:\\Users\\i574n\\.nuget\\packages\\fable\\4.1.4\\tools\\net6.0\\any\r\n",
      "MSBuild version 17.7.0+5785ed5c2 for .NET\r\n",
      "  Determining projects to restore...\r\n",
      "  All projects are up-to-date for restore.\r\n",
      "C:\\Users\\i574n\\scoop\\apps\\dotnet-sdk-preview\\current\\sdk\\8.0.100-preview.6.23330.14\\Sdks\\Microsoft.NET.Sdk\\targets\\Microsoft.NET.RuntimeIdentifierInference.targets(314,5): message NETSDK1057: You are using a preview version of .NET. See: https://aka.ms/dotnet-support-policy [C:\\home\\git\\polyglot\\deps\\Fable\\src\\Fable.Cli\\Fable.Cli.fsproj]\r\n",
      "C:\\Users\\i574n\\scoop\\apps\\dotnet-sdk-preview\\current\\sdk\\8.0.100-preview.6.23330.14\\Sdks\\Microsoft.NET.Sdk\\targets\\Microsoft.NET.RuntimeIdentifierInference.targets(314,5): message NETSDK1057: You are using a preview version of .NET. See: https://aka.ms/dotnet-support-policy [C:\\home\\git\\polyglot\\deps\\Fable\\src\\Fable.AST\\Fable.AST.fsproj]\r\n",
      "C:\\Users\\i574n\\scoop\\apps\\dotnet-sdk-preview\\current\\sdk\\8.0.100-preview.6.23330.14\\Sdks\\Microsoft.NET.Sdk\\targets\\Microsoft.NET.RuntimeIdentifierInference.targets(314,5): message NETSDK1057: You are using a preview version of .NET. See: https://aka.ms/dotnet-support-policy [C:\\home\\git\\polyglot\\deps\\Fable\\src\\Fable.Transforms\\Rust\\AST\\Rust.AST.fsproj]\r\n",
      "  Fable.AST -> C:\\home\\git\\polyglot\\deps\\Fable\\src\\Fable.AST\\bin\\Release\\netstandard2.0\\Fable.AST.dll\r\n",
      "  Rust.AST -> C:\\home\\git\\polyglot\\deps\\Fable\\src\\Fable.Transforms\\Rust\\AST\\bin\\Release\\netstandard2.0\\Rust.AST.dll\r\n",
      "  Fable.Transforms -> C:\\home\\git\\polyglot\\deps\\Fable\\src\\Fable.Transforms\\bin\\Release\\netstandard2.0\\Fable.Transforms.dll\r\n",
      "  Fable.Cli -> C:\\home\\git\\polyglot\\deps\\Fable\\src\\Fable.Cli\\bin\\Release\\net6.0\\fable.dll\r\n",
      "\r\n",
      "Build succeeded.\r\n",
      "    0 Warning(s)\r\n",
      "    0 Error(s)\r\n",
      "\r\n",
      "Time Elapsed 00:00:06.40\r\n"
     ]
    }
   ],
   "source": [
    "{ . \"$ScriptDir/dep_fable.ps1\" } | Invoke-Block"
   ]
  }
 ],
 "metadata": {
  "kernelspec": {
   "display_name": ".NET (C#)",
   "language": "C#",
   "name": ".net-csharp"
  },
  "language_info": {
   "file_extension": ".cs",
   "mimetype": "text/x-csharp",
   "name": "C#",
   "pygments_lexer": "csharp",
   "version": "10.0"
  },
  "polyglot_notebook": {
   "defaultKernelName": "csharp",
   "items": [
    {
     "name": "csharp"
    }
   ]
  },
  "dotnet_interactive": {
   "defaultKernelName": "csharp",
   "items": [
    {
     "name": "csharp"
    }
   ]
  }
 },
 "nbformat": 4,
 "nbformat_minor": 5
}