{
 "cells": [
  {
   "cell_type": "code",
   "execution_count": null,
   "metadata": {
    "dotnet_interactive": {
     "language": "pwsh"
    },
    "polyglot_notebook": {
     "kernelName": "pwsh"
    }
   },
   "outputs": [],
   "source": [
    ". ./nbs_header.ps1\n",
    ". ./core.ps1"
   ]
  },
  {
   "cell_type": "code",
   "execution_count": null,
   "metadata": {
    "dotnet_interactive": {
     "language": "pwsh"
    },
    "polyglot_notebook": {
     "kernelName": "pwsh"
    }
   },
   "outputs": [
    {
     "name": "stdout",
     "output_type": "stream",
     "text": [
      "\u001B[31;1minfo: component 'clippy' for target 'x86_64-pc-windows-msvc' is up to date\u001B[0m\r\n",
      "\u001B[31;1minfo: component 'rust-src' is up to date\u001B[0m\r\n",
      "\u001B[31;1minfo: component 'rustfmt' for target 'x86_64-pc-windows-msvc' is up to date\u001B[0m\r\n"
     ]
    }
   ],
   "source": [
    "rustup +nightly component add clippy rust-src rustfmt"
   ]
  },
  {
   "cell_type": "code",
   "execution_count": null,
   "metadata": {
    "dotnet_interactive": {
     "language": "pwsh"
    },
    "polyglot_notebook": {
     "kernelName": "pwsh"
    }
   },
   "outputs": [
    {
     "name": "stdout",
     "output_type": "stream",
     "text": [
      "\u001B[31;1minfo: syncing channel updates for 'stable-x86_64-pc-windows-msvc'\u001B[0m\r\n",
      "\u001B[31;1minfo: syncing channel updates for 'nightly-x86_64-pc-windows-msvc'\u001B[0m\r\n",
      "\u001B[31;1minfo: latest update on 2023-07-30, rust version 1.73.0-nightly (32303b219 2023-07-29)\u001B[0m\r\n",
      "\u001B[31;1minfo: downloading component 'rust-std' for 'wasm32-unknown-unknown'\u001B[0m\r\n",
      "\u001B[31;1minfo: downloading component 'rust-src'\u001B[0m\r\n",
      "\u001B[31;1minfo: downloading component 'cargo'\u001B[0m\r\n",
      "\u001B[31;1minfo: downloading component 'clippy'\u001B[0m\r\n",
      "\u001B[31;1minfo: downloading component 'rust-docs'\u001B[0m\r\n",
      "\u001B[31;1minfo: downloading component 'rust-std'\u001B[0m\r\n",
      "\u001B[31;1minfo: downloading component 'rustc'\u001B[0m\r\n",
      "\u001B[31;1minfo: downloading component 'rustfmt'\u001B[0m\r\n",
      "\u001B[31;1minfo: removing previous version of component 'rust-std' for 'wasm32-unknown-unknown'\u001B[0m\r\n",
      "\u001B[31;1mwarning: during uninstall component rust-std was not found\u001B[0m\r\n",
      "\u001B[31;1minfo: removing previous version of component 'rust-src'\u001B[0m\r\n",
      "\u001B[31;1mwarning: during uninstall component rust-src was not found\u001B[0m\r\n",
      "\u001B[31;1minfo: removing previous version of component 'cargo'\u001B[0m\r\n",
      "\u001B[31;1minfo: removing previous version of component 'clippy'\u001B[0m\r\n",
      "\u001B[31;1minfo: removing previous version of component 'rust-docs'\u001B[0m\r\n",
      "\u001B[31;1minfo: removing previous version of component 'rust-std'\u001B[0m\r\n",
      "\u001B[31;1minfo: removing previous version of component 'rustc'\u001B[0m\r\n",
      "\u001B[31;1minfo: removing previous version of component 'rustfmt'\u001B[0m\r\n",
      "\u001B[31;1minfo: installing component 'rust-std' for 'wasm32-unknown-unknown'\u001B[0m\r\n",
      "\u001B[31;1minfo: installing component 'rust-src'\u001B[0m\r\n",
      "\u001B[31;1minfo: rolling back changes\u001B[0m\r\n",
      "\u001B[31;1merror: failed to install component: 'rust-src', detected conflict: 'lib/rustlib\\manifest-rust-src'\u001B[0m\r\n",
      "\u001B[31;1minfo: checking for self-update\u001B[0m\r\n",
      "\r\n",
      "       stable-x86_64-pc-windows-msvc unchanged - rustc 1.71.0 (8ede3aae2 2023-07-12)\r\n",
      "  nightly-x86_64-pc-windows-msvc update failed - rustc 1.73.0-nightly (0e8e857b1 2023-07-16)\r\n",
      "\r\n",
      "\u001B[31;1minfo: cleaning up downloads & tmp directories\u001B[0m\r\n"
     ]
    }
   ],
   "source": [
    "rustup update"
   ]
  },
  {
   "cell_type": "code",
   "execution_count": null,
   "metadata": {
    "dotnet_interactive": {
     "language": "pwsh"
    },
    "polyglot_notebook": {
     "kernelName": "pwsh"
    }
   },
   "outputs": [
    {
     "name": "stdout",
     "output_type": "stream",
     "text": [
      "\u001B[31;1m    Updating crates.io index\u001B[0m\r\n",
      "\u001B[31;1m     Ignored package `cargo-outdated v0.13.1` is already installed, use --force to override\u001B[0m\r\n"
     ]
    }
   ],
   "source": [
    "cargo +nightly install cargo-outdated"
   ]
  },
  {
   "cell_type": "code",
   "execution_count": null,
   "metadata": {
    "dotnet_interactive": {
     "language": "pwsh"
    },
    "polyglot_notebook": {
     "kernelName": "pwsh"
    }
   },
   "outputs": [
    {
     "name": "stdout",
     "output_type": "stream",
     "text": [
      "\u001B[31;1m    Updating crates.io index\u001B[0m\r\n",
      "\u001B[31;1m     Ignored package `wasm-pack v0.12.1` is already installed, use --force to override\u001B[0m\r\n"
     ]
    }
   ],
   "source": [
    "cargo +nightly install wasm-pack"
   ]
  },
  {
   "cell_type": "code",
   "execution_count": null,
   "metadata": {
    "dotnet_interactive": {
     "language": "pwsh"
    },
    "polyglot_notebook": {
     "kernelName": "pwsh"
    }
   },
   "outputs": [
    {
     "name": "stdout",
     "output_type": "stream",
     "text": [
      "\r\n",
      "changed 1 package in 6s\r\n"
     ]
    }
   ],
   "source": [
    "npm install -g pnpm"
   ]
  },
  {
   "cell_type": "code",
   "execution_count": null,
   "metadata": {
    "dotnet_interactive": {
     "language": "pwsh"
    },
    "polyglot_notebook": {
     "kernelName": "pwsh"
    }
   },
   "outputs": [
    {
     "name": "stdout",
     "output_type": "stream",
     "text": [
      "\r\n",
      "changed 2 packages in 18s\r\n"
     ]
    }
   ],
   "source": [
    "npm install -g esbuild"
   ]
  },
  {
   "cell_type": "code",
   "execution_count": null,
   "metadata": {
    "dotnet_interactive": {
     "language": "pwsh"
    },
    "polyglot_notebook": {
     "kernelName": "pwsh"
    }
   },
   "outputs": [
    {
     "name": "stdout",
     "output_type": "stream",
     "text": [
      "\r\n",
      "changed 3 packages in 6s\r\n"
     ]
    }
   ],
   "source": [
    "npm install -g @playwright/test"
   ]
  },
  {
   "cell_type": "code",
   "execution_count": null,
   "metadata": {
    "dotnet_interactive": {
     "language": "pwsh"
    },
    "polyglot_notebook": {
     "kernelName": "pwsh"
    }
   },
   "outputs": [],
   "source": [
    "npx -y playwright install"
   ]
  },
  {
   "cell_type": "code",
   "execution_count": null,
   "metadata": {
    "dotnet_interactive": {
     "language": "pwsh"
    },
    "polyglot_notebook": {
     "kernelName": "pwsh"
    }
   },
   "outputs": [],
   "source": [
    "[Net.ServicePointManager]::SecurityProtocol = [Net.SecurityProtocolType]::Tls12"
   ]
  },
  {
   "cell_type": "code",
   "execution_count": null,
   "metadata": {
    "dotnet_interactive": {
     "language": "pwsh"
    },
    "polyglot_notebook": {
     "kernelName": "pwsh"
    }
   },
   "outputs": [
    {
     "data": {
      "text/plain": [
       "\u001B[30;43m                                                                                                    \n",
       " Installing package 'PowerShellGet'                                                                 \n",
       "                                                                                                    \n",
       "    [                                                                                        ]      \n",
       "                                                                                                    \u001B[0m"
      ]
     },
     "metadata": {},
     "output_type": "display_data"
    },
    {
     "data": {
      "text/plain": [
       "\u001B[30;43m                                                                                                    \n",
       " Installing package 'PowerShellGet'                                                                 \n",
       "    Installing dependent package 'PackageManagement'                                                \n",
       "    [                                                                                        ]      \n",
       "   Installing package 'PackageManagement'                                                           \n",
       "      Downloaded 0.00 MB out of 1.10 MB.                                                            \n",
       "      [                                                                                      ]      \n",
       "                                                                                                    \u001B[0m"
      ]
     },
     "metadata": {},
     "output_type": "display_data"
    },
    {
     "data": {
      "text/plain": [
       "\u001B[30;43m                                                                                                    \n",
       " Installing package 'PowerShellGet'                                                                 \n",
       "    Installing dependent package 'PackageManagement'                                                \n",
       "    [                                                                                        ]      \n",
       "   Installing package 'PackageManagement'                                                           \n",
       "      Downloaded 0.12 MB out of 1.10 MB.                                                            \n",
       "      [oooooo                                                                                ]      \n",
       "                                                                                                    \u001B[0m"
      ]
     },
     "metadata": {},
     "output_type": "display_data"
    },
    {
     "data": {
      "text/plain": [
       "\u001B[30;43m                                                                                                    \n",
       " Installing package 'PowerShellGet'                                                                 \n",
       "    Installing dependent package 'PackageManagement'                                                \n",
       "    [                                                                                        ]      \n",
       "   Installing package 'PackageManagement'                                                           \n",
       "      Downloaded 0.25 MB out of 1.10 MB.                                                            \n",
       "      [oooooooooooo                                                                          ]      \n",
       "                                                                                                    \u001B[0m"
      ]
     },
     "metadata": {},
     "output_type": "display_data"
    },
    {
     "data": {
      "text/plain": [
       "\u001B[30;43m                                                                                                    \n",
       " Installing package 'PowerShellGet'                                                                 \n",
       "    Installing dependent package 'PackageManagement'                                                \n",
       "    [                                                                                        ]      \n",
       "   Installing package 'PackageManagement'                                                           \n",
       "      Downloaded 0.62 MB out of 1.10 MB.                                                            \n",
       "      [ooooooooooooooooooooooooooooooooo                                                     ]      \n",
       "                                                                                                    \u001B[0m"
      ]
     },
     "metadata": {},
     "output_type": "display_data"
    },
    {
     "data": {
      "text/plain": [
       "\u001B[30;43m                                                                                                    \n",
       " Installing package 'PowerShellGet'                                                                 \n",
       "    Installing dependent package 'PackageManagement'                                                \n",
       "    [                                                                                        ]      \n",
       "   Installing package 'PackageManagement'                                                           \n",
       "      Downloaded 1.10 MB out of 1.10 MB.                                                            \n",
       "      [oooooooooooooooooooooooooooooooooooooooooooooooooooooooooooo                          ]      \n",
       "                                                                                                    \u001B[0m"
      ]
     },
     "metadata": {},
     "output_type": "display_data"
    },
    {
     "data": {
      "text/plain": [
       "\u001B[30;43m                                                                                                    \n",
       " Installing package 'PowerShellGet'                                                                 \n",
       "    Installing dependent package 'PackageManagement'                                                \n",
       "    [                                                                                        ]      \n",
       "                                                                                                    \u001B[0m"
      ]
     },
     "metadata": {},
     "output_type": "display_data"
    },
    {
     "data": {
      "text/plain": [
       "\u001B[30;43m                                                                                                    \n",
       " Installing package 'PowerShellGet'                                                                 \n",
       "    Installed dependent package 'PackageManagement'                                                 \n",
       "    [oooooooooooooooooooooooooooooooooooooooooooo                                            ]      \n",
       "                                                                                                    \u001B[0m"
      ]
     },
     "metadata": {},
     "output_type": "display_data"
    },
    {
     "data": {
      "text/plain": [
       "\u001B[30;43m                                                                                                    \n",
       " Installing package 'PowerShellGet'                                                                 \n",
       "    Downloaded 0.00 MB out of 0.26 MB.                                                              \n",
       "    [oooooooooooooooooooooooooooooooooooooooooooo                                            ]      \n",
       "                                                                                                    \u001B[0m"
      ]
     },
     "metadata": {},
     "output_type": "display_data"
    },
    {
     "data": {
      "text/plain": [
       "\u001B[30;43m                                                                                                    \n",
       " Installing package 'PowerShellGet'                                                                 \n",
       "    Downloaded 0.26 MB out of 0.26 MB.                                                              \n",
       "    [oooooooooooooooooooooooooooooooooooooooooooooooooooooooooooooooooooooooooo              ]      \n",
       "                                                                                                    \u001B[0m"
      ]
     },
     "metadata": {},
     "output_type": "display_data"
    },
    {
     "data": {
      "text/plain": []
     },
     "metadata": {},
     "output_type": "display_data"
    },
    {
     "data": {
      "text/plain": []
     },
     "metadata": {},
     "output_type": "display_data"
    },
    {
     "name": "stdout",
     "output_type": "stream",
     "text": [
      "\u001B[93mWARNING: InternalWebProxy: Could not find a part of the path 'C:\\Users\\i574n\\.nuget\\packages\\dotnet-repl\\0.1.204\\tools\\net7.0\\any\\ref'.\u001B[0m\r\n",
      "\u001B[93mWARNING: Win32Helpers: Could not find a part of the path 'C:\\Users\\i574n\\.nuget\\packages\\dotnet-repl\\0.1.204\\tools\\net7.0\\any\\ref'.\u001B[0m\r\n"
     ]
    }
   ],
   "source": [
    "Install-Module -Name PowerShellGet -Force -AllowClobber -Scope CurrentUser"
   ]
  },
  {
   "cell_type": "code",
   "execution_count": null,
   "metadata": {
    "dotnet_interactive": {
     "language": "pwsh"
    },
    "polyglot_notebook": {
     "kernelName": "pwsh"
    }
   },
   "outputs": [],
   "source": [
    "Set-PSRepository -Name PSGallery -InstallationPolicy Trusted"
   ]
  },
  {
   "cell_type": "code",
   "execution_count": null,
   "metadata": {
    "dotnet_interactive": {
     "language": "pwsh"
    },
    "polyglot_notebook": {
     "kernelName": "pwsh"
    }
   },
   "outputs": [],
   "source": [
    "Install-Module -Name PSToml -Scope CurrentUser"
   ]
  },
  {
   "cell_type": "code",
   "execution_count": null,
   "metadata": {
    "dotnet_interactive": {
     "language": "fsharp"
    },
    "polyglot_notebook": {
     "kernelName": "fsharp"
    }
   },
   "outputs": [
    {
     "data": {
      "text/html": [
       "<div><div></div><div><strong>Installing Packages</strong><ul><li><span>NetMQ</span></li></ul></div><div></div></div>"
      ]
     },
     "metadata": {},
     "output_type": "display_data"
    },
    {
     "data": {
      "text/html": [
       "<div><div></div><div><strong>Installing Packages</strong><ul><li><span>NetMQ.</span></li></ul></div><div></div></div>"
      ]
     },
     "metadata": {},
     "output_type": "display_data"
    },
    {
     "data": {
      "text/html": [
       "<div><div></div><div></div><div><strong>Installed Packages</strong><ul><li><span>NetMQ, 4.0.1.12</span></li></ul></div></div>"
      ]
     },
     "metadata": {},
     "output_type": "display_data"
    }
   ],
   "source": [
    "#r \"nuget:NetMQ,4.0.1.12\""
   ]
  },
  {
   "cell_type": "code",
   "execution_count": null,
   "metadata": {
    "dotnet_interactive": {
     "language": "pwsh"
    },
    "polyglot_notebook": {
     "kernelName": "pwsh"
    }
   },
   "outputs": [
    {
     "name": "stdout",
     "output_type": "stream",
     "text": [
      "\u001B[31;1mfatal: destination path 'netmq' already exists and is not an empty directory.\u001B[0m\r\n",
      "Already up to date.\r\n",
      "Tool path: C:\\Users\\i574n\\.nuget\\packages\\netmq\\4.0.1.12\\lib\\netstandard2.1\r\n",
      "MSBuild version 17.7.0+5785ed5c2 for .NET\r\n",
      "  Determining projects to restore...\r\n",
      "  All projects are up-to-date for restore.\r\n",
      "C:\\Users\\i574n\\scoop\\apps\\dotnet-sdk-preview\\current\\sdk\\8.0.100-preview.6.23330.14\\Sdks\\Microsoft.NET.Sdk\\targets\\Microsoft.NET.RuntimeIdentifierInference.targets(314,5): message NETSDK1057: You are using a preview version of .NET. See: https://aka.ms/dotnet-support-policy [C:\\home\\git\\polyglot\\deps\\netmq\\src\\NetMQ\\NetMQ.csproj::TargetFramework=net45]\r\n",
      "  NetMQ -> C:\\home\\git\\polyglot\\deps\\netmq\\src\\NetMQ\\bin\\Release\\net45\\NetMQ.dll\r\n",
      "C:\\Users\\i574n\\scoop\\apps\\dotnet-sdk-preview\\current\\sdk\\8.0.100-preview.6.23330.14\\Sdks\\Microsoft.NET.Sdk\\targets\\Microsoft.NET.RuntimeIdentifierInference.targets(314,5): message NETSDK1057: You are using a preview version of .NET. See: https://aka.ms/dotnet-support-policy [C:\\home\\git\\polyglot\\deps\\netmq\\src\\NetMQ\\NetMQ.csproj::TargetFramework=netstandard2.1]\r\n",
      "C:\\Users\\i574n\\scoop\\apps\\dotnet-sdk-preview\\current\\sdk\\8.0.100-preview.6.23330.14\\Sdks\\Microsoft.NET.Sdk\\targets\\Microsoft.NET.RuntimeIdentifierInference.targets(314,5): message NETSDK1057: You are using a preview version of .NET. See: https://aka.ms/dotnet-support-policy [C:\\home\\git\\polyglot\\deps\\netmq\\src\\NetMQ\\NetMQ.csproj::TargetFramework=net47]\r\n",
      "C:\\Users\\i574n\\scoop\\apps\\dotnet-sdk-preview\\current\\sdk\\8.0.100-preview.6.23330.14\\Sdks\\Microsoft.NET.Sdk\\targets\\Microsoft.NET.RuntimeIdentifierInference.targets(314,5): message NETSDK1057: You are using a preview version of .NET. See: https://aka.ms/dotnet-support-policy [C:\\home\\git\\polyglot\\deps\\netmq\\src\\NetMQ\\NetMQ.csproj::TargetFramework=netstandard2.0]\r\n",
      "  NetMQ -> C:\\home\\git\\polyglot\\deps\\netmq\\src\\NetMQ\\bin\\Release\\netstandard2.0\\NetMQ.dll\r\n",
      "  NetMQ -> C:\\home\\git\\polyglot\\deps\\netmq\\src\\NetMQ\\bin\\Release\\netstandard2.1\\NetMQ.dll\r\n",
      "  NetMQ -> C:\\home\\git\\polyglot\\deps\\netmq\\src\\NetMQ\\bin\\Release\\net47\\NetMQ.dll\r\n",
      "\r\n",
      "Build succeeded.\r\n",
      "    0 Warning(s)\r\n",
      "    0 Error(s)\r\n",
      "\r\n",
      "Time Elapsed 00:00:04.05\r\n"
     ]
    }
   ],
   "source": [
    "{ . \"$ScriptDir/dep_netmq.ps1\" } | Invoke-Block"
   ]
  },
  {
   "cell_type": "code",
   "execution_count": null,
   "metadata": {
    "dotnet_interactive": {
     "language": "pwsh"
    },
    "polyglot_notebook": {
     "kernelName": "pwsh"
    }
   },
   "outputs": [
    {
     "name": "stdout",
     "output_type": "stream",
     "text": [
      "\u001B[31;1mfatal: destination path 'The-Spiral-Language' already exists and is not an empty directory.\u001B[0m\r\n",
      "Already up to date.\r\n",
      "MSBuild version 17.7.0+5785ed5c2 for .NET\r\n",
      "  Determining projects to restore...\r\n",
      "  All projects are up-to-date for restore.\r\n",
      "C:\\Users\\i574n\\scoop\\apps\\dotnet-sdk-preview\\current\\sdk\\8.0.100-preview.6.23330.14\\Sdks\\Microsoft.NET.Sdk\\targets\\Microsoft.NET.RuntimeIdentifierInference.targets(314,5): message NETSDK1057: You are using a preview version of .NET. See: https://aka.ms/dotnet-support-policy [C:\\home\\git\\polyglot\\deps\\The-Spiral-Language\\The Spiral Language 2\\The Spiral Language 2.fsproj]\r\n",
      "  The Spiral Language 2 -> C:\\home\\git\\polyglot\\deps\\The-Spiral-Language\\The Spiral Language 2\\artifacts\\bin\\The Spiral Language 2\\release\\Spiral.dll\r\n",
      "\r\n",
      "Build succeeded.\r\n",
      "    0 Warning(s)\r\n",
      "    0 Error(s)\r\n",
      "\r\n",
      "Time Elapsed 00:00:38.86\r\n",
      "\u001B[31;1mCopy-Item: \u001B[0mC:\\home\\git\\polyglot\\scripts\\dep_spiral.ps1:14:1\u001B[0m\r\n",
      "\u001B[31;1m\u001B[0m\u001B[36;1mLine |\u001B[0m\r\n",
      "\u001B[31;1m\u001B[0m\u001B[36;1m\u001B[36;1m  14 | \u001B[0m \u001B[36;1mCopy-Item -Recurse \"../deps/The-Spiral-Language/VS Code Plugin/core/\"\u001B[0m …\u001B[0m\r\n",
      "\u001B[31;1m\u001B[0m\u001B[36;1m\u001B[36;1m\u001B[0m\u001B[36;1m\u001B[0m\u001B[36;1m     | \u001B[31;1m ~~~~~~~~~~~~~~~~~~~~~~~~~~~~~~~~~~~~~~~~~~~~~~~~~~~~~~~~~~~~~~~~~~~~~\u001B[0m\r\n",
      "\u001B[31;1m\u001B[0m\u001B[36;1m\u001B[36;1m\u001B[0m\u001B[36;1m\u001B[0m\u001B[36;1m\u001B[31;1m\u001B[31;1m\u001B[36;1m     | \u001B[31;1mAn item with the specified name C:\\home\\git\\polyglot\\deps\\The-Spiral-Language\\The Spiral\u001B[0m\r\n",
      "\u001B[31;1m\u001B[0m\u001B[36;1m\u001B[36;1m\u001B[0m\u001B[36;1m\u001B[0m\u001B[36;1m\u001B[31;1m\u001B[31;1m\u001B[36;1m\u001B[31;1m\u001B[36;1m     | \u001B[31;1mLanguage 2\\artifacts\\bin\\The Spiral Language 2\\core\\core already exists.\u001B[0m\r\n"
     ]
    }
   ],
   "source": [
    "{ . \"$ScriptDir/dep_spiral.ps1\" } | Invoke-Block"
   ]
  },
  {
   "cell_type": "code",
   "execution_count": null,
   "metadata": {
    "dotnet_interactive": {
     "language": "pwsh"
    },
    "polyglot_notebook": {
     "kernelName": "pwsh"
    }
   },
   "outputs": [
    {
     "data": {
      "text/plain": [
       "\u001B[30;43m                                                                                                    \n",
       " Expand-Archive                                                                                     \n",
       "    The archive file 'C:\\Users\\i574n\\.vscode\\extensions\\mrakgr.spiral-lang-vscode-2.3.10/dist' expan\n",
       "    sion is in progress...                                                                          \n",
       "    [                                                                                        ]      \n",
       "                                                                                                    \u001B[0m"
      ]
     },
     "metadata": {},
     "output_type": "display_data"
    },
    {
     "data": {
      "text/plain": [
       "\u001B[30;43m                                                                                                    \n",
       " Expand-Archive                                                                                     \n",
       "    The archive file 'C:\\home\\git\\polyglot\\deps\\The-Spiral-Language\\VS Code Plugin\\spiral-lang-vscod\n",
       "    e-2.3.10.vsix' expansion is in progress...                                                      \n",
       "    [oo                                                                                      ]      \n",
       "                                                                                                    \u001B[0m"
      ]
     },
     "metadata": {},
     "output_type": "display_data"
    },
    {
     "data": {
      "text/plain": [
       "\u001B[30;43m                                                                                                    \n",
       " Expand-Archive                                                                                     \n",
       "    The archive file 'C:\\home\\git\\polyglot\\deps\\The-Spiral-Language\\VS Code Plugin\\spiral-lang-vscod\n",
       "    e-2.3.10.vsix' expansion is in progress...                                                      \n",
       "    [ooooo                                                                                   ]      \n",
       "                                                                                                    \u001B[0m"
      ]
     },
     "metadata": {},
     "output_type": "display_data"
    },
    {
     "data": {
      "text/plain": [
       "\u001B[30;43m                                                                                                    \n",
       " Expand-Archive                                                                                     \n",
       "    The archive file 'C:\\home\\git\\polyglot\\deps\\The-Spiral-Language\\VS Code Plugin\\spiral-lang-vscod\n",
       "    e-2.3.10.vsix' expansion is in progress...                                                      \n",
       "    [oooooooooo                                                                              ]      \n",
       "                                                                                                    \u001B[0m"
      ]
     },
     "metadata": {},
     "output_type": "display_data"
    },
    {
     "data": {
      "text/plain": [
       "\u001B[30;43m                                                                                                    \n",
       " Expand-Archive                                                                                     \n",
       "    The archive file 'C:\\home\\git\\polyglot\\deps\\The-Spiral-Language\\VS Code Plugin\\spiral-lang-vscod\n",
       "    e-2.3.10.vsix' expansion is in progress...                                                      \n",
       "    [oooooooooooooooo                                                                        ]      \n",
       "                                                                                                    \u001B[0m"
      ]
     },
     "metadata": {},
     "output_type": "display_data"
    },
    {
     "data": {
      "text/plain": [
       "\u001B[30;43m                                                                                                    \n",
       " Expand-Archive                                                                                     \n",
       "    The archive file 'C:\\home\\git\\polyglot\\deps\\The-Spiral-Language\\VS Code Plugin\\spiral-lang-vscod\n",
       "    e-2.3.10.vsix' expansion is in progress...                                                      \n",
       "    [oooooooooooooooooooooo                                                                  ]      \n",
       "                                                                                                    \u001B[0m"
      ]
     },
     "metadata": {},
     "output_type": "display_data"
    },
    {
     "data": {
      "text/plain": [
       "\u001B[30;43m                                                                                                    \n",
       " Expand-Archive                                                                                     \n",
       "    The archive file 'C:\\home\\git\\polyglot\\deps\\The-Spiral-Language\\VS Code Plugin\\spiral-lang-vscod\n",
       "    e-2.3.10.vsix' expansion is in progress...                                                      \n",
       "    [oooooooooooooooooooooooooooo                                                            ]      \n",
       "                                                                                                    \u001B[0m"
      ]
     },
     "metadata": {},
     "output_type": "display_data"
    },
    {
     "data": {
      "text/plain": [
       "\u001B[30;43m                                                                                                    \n",
       " Expand-Archive                                                                                     \n",
       "    The archive file 'C:\\home\\git\\polyglot\\deps\\The-Spiral-Language\\VS Code Plugin\\spiral-lang-vscod\n",
       "    e-2.3.10.vsix' expansion is in progress...                                                      \n",
       "    [oooooooooooooooooooooooooooooooo                                                        ]      \n",
       "                                                                                                    \u001B[0m"
      ]
     },
     "metadata": {},
     "output_type": "display_data"
    },
    {
     "data": {
      "text/plain": [
       "\u001B[30;43m                                                                                                    \n",
       " Expand-Archive                                                                                     \n",
       "    The archive file 'C:\\home\\git\\polyglot\\deps\\The-Spiral-Language\\VS Code Plugin\\spiral-lang-vscod\n",
       "    e-2.3.10.vsix' expansion is in progress...                                                      \n",
       "    [oooooooooooooooooooooooooooooooooooooo                                                  ]      \n",
       "                                                                                                    \u001B[0m"
      ]
     },
     "metadata": {},
     "output_type": "display_data"
    },
    {
     "data": {
      "text/plain": [
       "\u001B[30;43m                                                                                                    \n",
       " Expand-Archive                                                                                     \n",
       "    The archive file 'C:\\home\\git\\polyglot\\deps\\The-Spiral-Language\\VS Code Plugin\\spiral-lang-vscod\n",
       "    e-2.3.10.vsix' expansion is in progress...                                                      \n",
       "    [ooooooooooooooooooooooooooooooooooooooooooo                                             ]      \n",
       "                                                                                                    \u001B[0m"
      ]
     },
     "metadata": {},
     "output_type": "display_data"
    },
    {
     "data": {
      "text/plain": [
       "\u001B[30;43m                                                                                                    \n",
       " Expand-Archive                                                                                     \n",
       "    The archive file 'C:\\home\\git\\polyglot\\deps\\The-Spiral-Language\\VS Code Plugin\\spiral-lang-vscod\n",
       "    e-2.3.10.vsix' expansion is in progress...                                                      \n",
       "    [ooooooooooooooooooooooooooooooooooooooooooooooooo                                       ]      \n",
       "                                                                                                    \u001B[0m"
      ]
     },
     "metadata": {},
     "output_type": "display_data"
    },
    {
     "data": {
      "text/plain": [
       "\u001B[30;43m                                                                                                    \n",
       " Expand-Archive                                                                                     \n",
       "    The archive file 'C:\\home\\git\\polyglot\\deps\\The-Spiral-Language\\VS Code Plugin\\spiral-lang-vscod\n",
       "    e-2.3.10.vsix' expansion is in progress...                                                      \n",
       "    [ooooooooooooooooooooooooooooooooooooooooooooooooooooooo                                 ]      \n",
       "                                                                                                    \u001B[0m"
      ]
     },
     "metadata": {},
     "output_type": "display_data"
    },
    {
     "data": {
      "text/plain": [
       "\u001B[30;43m                                                                                                    \n",
       " Expand-Archive                                                                                     \n",
       "    The archive file 'C:\\home\\git\\polyglot\\deps\\The-Spiral-Language\\VS Code Plugin\\spiral-lang-vscod\n",
       "    e-2.3.10.vsix' expansion is in progress...                                                      \n",
       "    [oooooooooooooooooooooooooooooooooooooooooooooooooooooooooooo                            ]      \n",
       "                                                                                                    \u001B[0m"
      ]
     },
     "metadata": {},
     "output_type": "display_data"
    },
    {
     "data": {
      "text/plain": [
       "\u001B[30;43m                                                                                                    \n",
       " Expand-Archive                                                                                     \n",
       "    The archive file 'C:\\home\\git\\polyglot\\deps\\The-Spiral-Language\\VS Code Plugin\\spiral-lang-vscod\n",
       "    e-2.3.10.vsix' expansion is in progress...                                                      \n",
       "    [oooooooooooooooooooooooooooooooooooooooooooooooooooooooooooooooooo                      ]      \n",
       "                                                                                                    \u001B[0m"
      ]
     },
     "metadata": {},
     "output_type": "display_data"
    },
    {
     "data": {
      "text/plain": [
       "\u001B[30;43m                                                                                                    \n",
       " Expand-Archive                                                                                     \n",
       "    The archive file 'C:\\home\\git\\polyglot\\deps\\The-Spiral-Language\\VS Code Plugin\\spiral-lang-vscod\n",
       "    e-2.3.10.vsix' expansion is in progress...                                                      \n",
       "    [oooooooooooooooooooooooooooooooooooooooooooooooooooooooooooooooooooooooo                ]      \n",
       "                                                                                                    \u001B[0m"
      ]
     },
     "metadata": {},
     "output_type": "display_data"
    },
    {
     "data": {
      "text/plain": [
       "\u001B[30;43m                                                                                                    \n",
       " Expand-Archive                                                                                     \n",
       "    The archive file 'C:\\home\\git\\polyglot\\deps\\The-Spiral-Language\\VS Code Plugin\\spiral-lang-vscod\n",
       "    e-2.3.10.vsix' expansion is in progress...                                                      \n",
       "    [oooooooooooooooooooooooooooooooooooooooooooooooooooooooooooooooooooooooooooo            ]      \n",
       "                                                                                                    \u001B[0m"
      ]
     },
     "metadata": {},
     "output_type": "display_data"
    },
    {
     "data": {
      "text/plain": [
       "\u001B[30;43m                                                                                                    \n",
       " Expand-Archive                                                                                     \n",
       "    The archive file 'C:\\home\\git\\polyglot\\deps\\The-Spiral-Language\\VS Code Plugin\\spiral-lang-vscod\n",
       "    e-2.3.10.vsix' expansion is in progress...                                                      \n",
       "    [ooooooooooooooooooooooooooooooooooooooooooooooooooooooooooooooooooooooooooooooooo       ]      \n",
       "                                                                                                    \u001B[0m"
      ]
     },
     "metadata": {},
     "output_type": "display_data"
    },
    {
     "data": {
      "text/plain": [
       "\u001B[30;43m                                                                                                    \n",
       " Expand-Archive                                                                                     \n",
       "    The archive file 'C:\\home\\git\\polyglot\\deps\\The-Spiral-Language\\VS Code Plugin\\spiral-lang-vscod\n",
       "    e-2.3.10.vsix' expansion is in progress...                                                      \n",
       "    [ooooooooooooooooooooooooooooooooooooooooooooooooooooooooooooooooooooooooooooooooooooooo ]      \n",
       "                                                                                                    \u001B[0m"
      ]
     },
     "metadata": {},
     "output_type": "display_data"
    },
    {
     "data": {
      "text/plain": []
     },
     "metadata": {},
     "output_type": "display_data"
    },
    {
     "data": {
      "text/plain": [
       "\u001B[30;43m                                                                                                    \n",
       " Expand-Archive                                                                                     \n",
       "    The archive file 'C:\\Users\\i574n\\scoop\\persist\\vscode\\data\\extensions\\mrakgr.spiral-lang-vscode-\n",
       "    2.3.10/dist' expansion is in progress...                                                        \n",
       "    [                                                                                        ]      \n",
       "                                                                                                    \u001B[0m"
      ]
     },
     "metadata": {},
     "output_type": "display_data"
    },
    {
     "data": {
      "text/plain": [
       "\u001B[30;43m                                                                                                    \n",
       " Expand-Archive                                                                                     \n",
       "    The archive file 'C:\\home\\git\\polyglot\\deps\\The-Spiral-Language\\VS Code Plugin\\spiral-lang-vscod\n",
       "    e-2.3.10.vsix' expansion is in progress...                                                      \n",
       "    [                                                                                        ]      \n",
       "                                                                                                    \u001B[0m"
      ]
     },
     "metadata": {},
     "output_type": "display_data"
    },
    {
     "data": {
      "text/plain": [
       "\u001B[30;43m                                                                                                    \n",
       " Expand-Archive                                                                                     \n",
       "    The archive file 'C:\\home\\git\\polyglot\\deps\\The-Spiral-Language\\VS Code Plugin\\spiral-lang-vscod\n",
       "    e-2.3.10.vsix' expansion is in progress...                                                      \n",
       "    [oooo                                                                                    ]      \n",
       "                                                                                                    \u001B[0m"
      ]
     },
     "metadata": {},
     "output_type": "display_data"
    },
    {
     "data": {
      "text/plain": [
       "\u001B[30;43m                                                                                                    \n",
       " Expand-Archive                                                                                     \n",
       "    The archive file 'C:\\home\\git\\polyglot\\deps\\The-Spiral-Language\\VS Code Plugin\\spiral-lang-vscod\n",
       "    e-2.3.10.vsix' expansion is in progress...                                                      \n",
       "    [ooooooooo                                                                               ]      \n",
       "                                                                                                    \u001B[0m"
      ]
     },
     "metadata": {},
     "output_type": "display_data"
    },
    {
     "data": {
      "text/plain": [
       "\u001B[30;43m                                                                                                    \n",
       " Expand-Archive                                                                                     \n",
       "    The archive file 'C:\\home\\git\\polyglot\\deps\\The-Spiral-Language\\VS Code Plugin\\spiral-lang-vscod\n",
       "    e-2.3.10.vsix' expansion is in progress...                                                      \n",
       "    [ooooooooooooooo                                                                         ]      \n",
       "                                                                                                    \u001B[0m"
      ]
     },
     "metadata": {},
     "output_type": "display_data"
    },
    {
     "data": {
      "text/plain": [
       "\u001B[30;43m                                                                                                    \n",
       " Expand-Archive                                                                                     \n",
       "    The archive file 'C:\\home\\git\\polyglot\\deps\\The-Spiral-Language\\VS Code Plugin\\spiral-lang-vscod\n",
       "    e-2.3.10.vsix' expansion is in progress...                                                      \n",
       "    [ooooooooooooooooooooo                                                                   ]      \n",
       "                                                                                                    \u001B[0m"
      ]
     },
     "metadata": {},
     "output_type": "display_data"
    },
    {
     "data": {
      "text/plain": [
       "\u001B[30;43m                                                                                                    \n",
       " Expand-Archive                                                                                     \n",
       "    The archive file 'C:\\home\\git\\polyglot\\deps\\The-Spiral-Language\\VS Code Plugin\\spiral-lang-vscod\n",
       "    e-2.3.10.vsix' expansion is in progress...                                                      \n",
       "    [ooooooooooooooooooooooooooo                                                             ]      \n",
       "                                                                                                    \u001B[0m"
      ]
     },
     "metadata": {},
     "output_type": "display_data"
    },
    {
     "data": {
      "text/plain": [
       "\u001B[30;43m                                                                                                    \n",
       " Expand-Archive                                                                                     \n",
       "    The archive file 'C:\\home\\git\\polyglot\\deps\\The-Spiral-Language\\VS Code Plugin\\spiral-lang-vscod\n",
       "    e-2.3.10.vsix' expansion is in progress...                                                      \n",
       "    [ooooooooooooooooooooooooooooooo                                                         ]      \n",
       "                                                                                                    \u001B[0m"
      ]
     },
     "metadata": {},
     "output_type": "display_data"
    },
    {
     "data": {
      "text/plain": [
       "\u001B[30;43m                                                                                                    \n",
       " Expand-Archive                                                                                     \n",
       "    The archive file 'C:\\home\\git\\polyglot\\deps\\The-Spiral-Language\\VS Code Plugin\\spiral-lang-vscod\n",
       "    e-2.3.10.vsix' expansion is in progress...                                                      \n",
       "    [oooooooooooooooooooooooooooooooooooo                                                    ]      \n",
       "                                                                                                    \u001B[0m"
      ]
     },
     "metadata": {},
     "output_type": "display_data"
    },
    {
     "data": {
      "text/plain": [
       "\u001B[30;43m                                                                                                    \n",
       " Expand-Archive                                                                                     \n",
       "    The archive file 'C:\\home\\git\\polyglot\\deps\\The-Spiral-Language\\VS Code Plugin\\spiral-lang-vscod\n",
       "    e-2.3.10.vsix' expansion is in progress...                                                      \n",
       "    [oooooooooooooooooooooooooooooooooooooooo                                                ]      \n",
       "                                                                                                    \u001B[0m"
      ]
     },
     "metadata": {},
     "output_type": "display_data"
    },
    {
     "data": {
      "text/plain": [
       "\u001B[30;43m                                                                                                    \n",
       " Expand-Archive                                                                                     \n",
       "    The archive file 'C:\\home\\git\\polyglot\\deps\\The-Spiral-Language\\VS Code Plugin\\spiral-lang-vscod\n",
       "    e-2.3.10.vsix' expansion is in progress...                                                      \n",
       "    [oooooooooooooooooooooooooooooooooooooooooooo                                            ]      \n",
       "                                                                                                    \u001B[0m"
      ]
     },
     "metadata": {},
     "output_type": "display_data"
    },
    {
     "data": {
      "text/plain": [
       "\u001B[30;43m                                                                                                    \n",
       " Expand-Archive                                                                                     \n",
       "    The archive file 'C:\\home\\git\\polyglot\\deps\\The-Spiral-Language\\VS Code Plugin\\spiral-lang-vscod\n",
       "    e-2.3.10.vsix' expansion is in progress...                                                      \n",
       "    [oooooooooooooooooooooooooooooooooooooooooooooooooo                                      ]      \n",
       "                                                                                                    \u001B[0m"
      ]
     },
     "metadata": {},
     "output_type": "display_data"
    },
    {
     "data": {
      "text/plain": [
       "\u001B[30;43m                                                                                                    \n",
       " Expand-Archive                                                                                     \n",
       "    The archive file 'C:\\home\\git\\polyglot\\deps\\The-Spiral-Language\\VS Code Plugin\\spiral-lang-vscod\n",
       "    e-2.3.10.vsix' expansion is in progress...                                                      \n",
       "    [ooooooooooooooooooooooooooooooooooooooooooooooooooooooo                                 ]      \n",
       "                                                                                                    \u001B[0m"
      ]
     },
     "metadata": {},
     "output_type": "display_data"
    },
    {
     "data": {
      "text/plain": [
       "\u001B[30;43m                                                                                                    \n",
       " Expand-Archive                                                                                     \n",
       "    The archive file 'C:\\home\\git\\polyglot\\deps\\The-Spiral-Language\\VS Code Plugin\\spiral-lang-vscod\n",
       "    e-2.3.10.vsix' expansion is in progress...                                                      \n",
       "    [oooooooooooooooooooooooooooooooooooooooooooooooooooooooooo                              ]      \n",
       "                                                                                                    \u001B[0m"
      ]
     },
     "metadata": {},
     "output_type": "display_data"
    },
    {
     "data": {
      "text/plain": [
       "\u001B[30;43m                                                                                                    \n",
       " Expand-Archive                                                                                     \n",
       "    The archive file 'C:\\home\\git\\polyglot\\deps\\The-Spiral-Language\\VS Code Plugin\\spiral-lang-vscod\n",
       "    e-2.3.10.vsix' expansion is in progress...                                                      \n",
       "    [ooooooooooooooooooooooooooooooooooooooooooooooooooooooooooooooo                         ]      \n",
       "                                                                                                    \u001B[0m"
      ]
     },
     "metadata": {},
     "output_type": "display_data"
    },
    {
     "data": {
      "text/plain": [
       "\u001B[30;43m                                                                                                    \n",
       " Expand-Archive                                                                                     \n",
       "    The archive file 'C:\\home\\git\\polyglot\\deps\\The-Spiral-Language\\VS Code Plugin\\spiral-lang-vscod\n",
       "    e-2.3.10.vsix' expansion is in progress...                                                      \n",
       "    [oooooooooooooooooooooooooooooooooooooooooooooooooooooooooooooooooooo                    ]      \n",
       "                                                                                                    \u001B[0m"
      ]
     },
     "metadata": {},
     "output_type": "display_data"
    },
    {
     "data": {
      "text/plain": [
       "\u001B[30;43m                                                                                                    \n",
       " Expand-Archive                                                                                     \n",
       "    The archive file 'C:\\home\\git\\polyglot\\deps\\The-Spiral-Language\\VS Code Plugin\\spiral-lang-vscod\n",
       "    e-2.3.10.vsix' expansion is in progress...                                                      \n",
       "    [oooooooooooooooooooooooooooooooooooooooooooooooooooooooooooooooooooooooo                ]      \n",
       "                                                                                                    \u001B[0m"
      ]
     },
     "metadata": {},
     "output_type": "display_data"
    },
    {
     "data": {
      "text/plain": [
       "\u001B[30;43m                                                                                                    \n",
       " Expand-Archive                                                                                     \n",
       "    The archive file 'C:\\home\\git\\polyglot\\deps\\The-Spiral-Language\\VS Code Plugin\\spiral-lang-vscod\n",
       "    e-2.3.10.vsix' expansion is in progress...                                                      \n",
       "    [ooooooooooooooooooooooooooooooooooooooooooooooooooooooooooooooooooooooooooo             ]      \n",
       "                                                                                                    \u001B[0m"
      ]
     },
     "metadata": {},
     "output_type": "display_data"
    },
    {
     "data": {
      "text/plain": [
       "\u001B[30;43m                                                                                                    \n",
       " Expand-Archive                                                                                     \n",
       "    The archive file 'C:\\home\\git\\polyglot\\deps\\The-Spiral-Language\\VS Code Plugin\\spiral-lang-vscod\n",
       "    e-2.3.10.vsix' expansion is in progress...                                                      \n",
       "    [oooooooooooooooooooooooooooooooooooooooooooooooooooooooooooooooooooooooooooooo          ]      \n",
       "                                                                                                    \u001B[0m"
      ]
     },
     "metadata": {},
     "output_type": "display_data"
    },
    {
     "data": {
      "text/plain": [
       "\u001B[30;43m                                                                                                    \n",
       " Expand-Archive                                                                                     \n",
       "    The archive file 'C:\\home\\git\\polyglot\\deps\\The-Spiral-Language\\VS Code Plugin\\spiral-lang-vscod\n",
       "    e-2.3.10.vsix' expansion is in progress...                                                      \n",
       "    [ooooooooooooooooooooooooooooooooooooooooooooooooooooooooooooooooooooooooooooooooo       ]      \n",
       "                                                                                                    \u001B[0m"
      ]
     },
     "metadata": {},
     "output_type": "display_data"
    },
    {
     "data": {
      "text/plain": [
       "\u001B[30;43m                                                                                                    \n",
       " Expand-Archive                                                                                     \n",
       "    The archive file 'C:\\home\\git\\polyglot\\deps\\The-Spiral-Language\\VS Code Plugin\\spiral-lang-vscod\n",
       "    e-2.3.10.vsix' expansion is in progress...                                                      \n",
       "    [ooooooooooooooooooooooooooooooooooooooooooooooooooooooooooooooooooooooooooooooooooooooo ]      \n",
       "                                                                                                    \u001B[0m"
      ]
     },
     "metadata": {},
     "output_type": "display_data"
    },
    {
     "data": {
      "text/plain": []
     },
     "metadata": {},
     "output_type": "display_data"
    },
    {
     "data": {
      "text/plain": [
       "\u001B[30;43m                                                                                                    \n",
       " Expand-Archive                                                                                     \n",
       "    The archive file 'C:\\Users\\i574n\\scoop\\persist\\vscode-insiders\\data\\extensions\\mrakgr.spiral-lan\n",
       "    g-vscode-2.3.10/dist' expansion is in progress...                                               \n",
       "    [                                                                                        ]      \n",
       "                                                                                                    \u001B[0m"
      ]
     },
     "metadata": {},
     "output_type": "display_data"
    },
    {
     "data": {
      "text/plain": [
       "\u001B[30;43m                                                                                                    \n",
       " Expand-Archive                                                                                     \n",
       "    The archive file 'C:\\home\\git\\polyglot\\deps\\The-Spiral-Language\\VS Code Plugin\\spiral-lang-vscod\n",
       "    e-2.3.10.vsix' expansion is in progress...                                                      \n",
       "    [                                                                                        ]      \n",
       "                                                                                                    \u001B[0m"
      ]
     },
     "metadata": {},
     "output_type": "display_data"
    },
    {
     "data": {
      "text/plain": [
       "\u001B[30;43m                                                                                                    \n",
       " Expand-Archive                                                                                     \n",
       "    The archive file 'C:\\home\\git\\polyglot\\deps\\The-Spiral-Language\\VS Code Plugin\\spiral-lang-vscod\n",
       "    e-2.3.10.vsix' expansion is in progress...                                                      \n",
       "    [oo                                                                                      ]      \n",
       "                                                                                                    \u001B[0m"
      ]
     },
     "metadata": {},
     "output_type": "display_data"
    },
    {
     "data": {
      "text/plain": [
       "\u001B[30;43m                                                                                                    \n",
       " Expand-Archive                                                                                     \n",
       "    The archive file 'C:\\home\\git\\polyglot\\deps\\The-Spiral-Language\\VS Code Plugin\\spiral-lang-vscod\n",
       "    e-2.3.10.vsix' expansion is in progress...                                                      \n",
       "    [ooooo                                                                                   ]      \n",
       "                                                                                                    \u001B[0m"
      ]
     },
     "metadata": {},
     "output_type": "display_data"
    },
    {
     "data": {
      "text/plain": [
       "\u001B[30;43m                                                                                                    \n",
       " Expand-Archive                                                                                     \n",
       "    The archive file 'C:\\home\\git\\polyglot\\deps\\The-Spiral-Language\\VS Code Plugin\\spiral-lang-vscod\n",
       "    e-2.3.10.vsix' expansion is in progress...                                                      \n",
       "    [oooooooo                                                                                ]      \n",
       "                                                                                                    \u001B[0m"
      ]
     },
     "metadata": {},
     "output_type": "display_data"
    },
    {
     "data": {
      "text/plain": [
       "\u001B[30;43m                                                                                                    \n",
       " Expand-Archive                                                                                     \n",
       "    The archive file 'C:\\home\\git\\polyglot\\deps\\The-Spiral-Language\\VS Code Plugin\\spiral-lang-vscod\n",
       "    e-2.3.10.vsix' expansion is in progress...                                                      \n",
       "    [oooooooooooo                                                                            ]      \n",
       "                                                                                                    \u001B[0m"
      ]
     },
     "metadata": {},
     "output_type": "display_data"
    },
    {
     "data": {
      "text/plain": [
       "\u001B[30;43m                                                                                                    \n",
       " Expand-Archive                                                                                     \n",
       "    The archive file 'C:\\home\\git\\polyglot\\deps\\The-Spiral-Language\\VS Code Plugin\\spiral-lang-vscod\n",
       "    e-2.3.10.vsix' expansion is in progress...                                                      \n",
       "    [oooooooooooooooo                                                                        ]      \n",
       "                                                                                                    \u001B[0m"
      ]
     },
     "metadata": {},
     "output_type": "display_data"
    },
    {
     "data": {
      "text/plain": [
       "\u001B[30;43m                                                                                                    \n",
       " Expand-Archive                                                                                     \n",
       "    The archive file 'C:\\home\\git\\polyglot\\deps\\The-Spiral-Language\\VS Code Plugin\\spiral-lang-vscod\n",
       "    e-2.3.10.vsix' expansion is in progress...                                                      \n",
       "    [ooooooooooooooooooo                                                                     ]      \n",
       "                                                                                                    \u001B[0m"
      ]
     },
     "metadata": {},
     "output_type": "display_data"
    },
    {
     "data": {
      "text/plain": [
       "\u001B[30;43m                                                                                                    \n",
       " Expand-Archive                                                                                     \n",
       "    The archive file 'C:\\home\\git\\polyglot\\deps\\The-Spiral-Language\\VS Code Plugin\\spiral-lang-vscod\n",
       "    e-2.3.10.vsix' expansion is in progress...                                                      \n",
       "    [oooooooooooooooooooooo                                                                  ]      \n",
       "                                                                                                    \u001B[0m"
      ]
     },
     "metadata": {},
     "output_type": "display_data"
    },
    {
     "data": {
      "text/plain": [
       "\u001B[30;43m                                                                                                    \n",
       " Expand-Archive                                                                                     \n",
       "    The archive file 'C:\\home\\git\\polyglot\\deps\\The-Spiral-Language\\VS Code Plugin\\spiral-lang-vscod\n",
       "    e-2.3.10.vsix' expansion is in progress...                                                      \n",
       "    [ooooooooooooooooooooooooo                                                               ]      \n",
       "                                                                                                    \u001B[0m"
      ]
     },
     "metadata": {},
     "output_type": "display_data"
    },
    {
     "data": {
      "text/plain": [
       "\u001B[30;43m                                                                                                    \n",
       " Expand-Archive                                                                                     \n",
       "    The archive file 'C:\\home\\git\\polyglot\\deps\\The-Spiral-Language\\VS Code Plugin\\spiral-lang-vscod\n",
       "    e-2.3.10.vsix' expansion is in progress...                                                      \n",
       "    [ooooooooooooooooooooooooooooo                                                           ]      \n",
       "                                                                                                    \u001B[0m"
      ]
     },
     "metadata": {},
     "output_type": "display_data"
    },
    {
     "data": {
      "text/plain": [
       "\u001B[30;43m                                                                                                    \n",
       " Expand-Archive                                                                                     \n",
       "    The archive file 'C:\\home\\git\\polyglot\\deps\\The-Spiral-Language\\VS Code Plugin\\spiral-lang-vscod\n",
       "    e-2.3.10.vsix' expansion is in progress...                                                      \n",
       "    [oooooooooooooooooooooooooooooooo                                                        ]      \n",
       "                                                                                                    \u001B[0m"
      ]
     },
     "metadata": {},
     "output_type": "display_data"
    },
    {
     "data": {
      "text/plain": [
       "\u001B[30;43m                                                                                                    \n",
       " Expand-Archive                                                                                     \n",
       "    The archive file 'C:\\home\\git\\polyglot\\deps\\The-Spiral-Language\\VS Code Plugin\\spiral-lang-vscod\n",
       "    e-2.3.10.vsix' expansion is in progress...                                                      \n",
       "    [oooooooooooooooooooooooooooooooooooo                                                    ]      \n",
       "                                                                                                    \u001B[0m"
      ]
     },
     "metadata": {},
     "output_type": "display_data"
    },
    {
     "data": {
      "text/plain": [
       "\u001B[30;43m                                                                                                    \n",
       " Expand-Archive                                                                                     \n",
       "    The archive file 'C:\\home\\git\\polyglot\\deps\\The-Spiral-Language\\VS Code Plugin\\spiral-lang-vscod\n",
       "    e-2.3.10.vsix' expansion is in progress...                                                      \n",
       "    [ooooooooooooooooooooooooooooooooooooooo                                                 ]      \n",
       "                                                                                                    \u001B[0m"
      ]
     },
     "metadata": {},
     "output_type": "display_data"
    },
    {
     "data": {
      "text/plain": [
       "\u001B[30;43m                                                                                                    \n",
       " Expand-Archive                                                                                     \n",
       "    The archive file 'C:\\home\\git\\polyglot\\deps\\The-Spiral-Language\\VS Code Plugin\\spiral-lang-vscod\n",
       "    e-2.3.10.vsix' expansion is in progress...                                                      \n",
       "    [oooooooooooooooooooooooooooooooooooooooooo                                              ]      \n",
       "                                                                                                    \u001B[0m"
      ]
     },
     "metadata": {},
     "output_type": "display_data"
    },
    {
     "data": {
      "text/plain": [
       "\u001B[30;43m                                                                                                    \n",
       " Expand-Archive                                                                                     \n",
       "    The archive file 'C:\\home\\git\\polyglot\\deps\\The-Spiral-Language\\VS Code Plugin\\spiral-lang-vscod\n",
       "    e-2.3.10.vsix' expansion is in progress...                                                      \n",
       "    [oooooooooooooooooooooooooooooooooooooooooooo                                            ]      \n",
       "                                                                                                    \u001B[0m"
      ]
     },
     "metadata": {},
     "output_type": "display_data"
    },
    {
     "data": {
      "text/plain": [
       "\u001B[30;43m                                                                                                    \n",
       " Expand-Archive                                                                                     \n",
       "    The archive file 'C:\\home\\git\\polyglot\\deps\\The-Spiral-Language\\VS Code Plugin\\spiral-lang-vscod\n",
       "    e-2.3.10.vsix' expansion is in progress...                                                      \n",
       "    [ooooooooooooooooooooooooooooooooooooooooooooooo                                         ]      \n",
       "                                                                                                    \u001B[0m"
      ]
     },
     "metadata": {},
     "output_type": "display_data"
    },
    {
     "data": {
      "text/plain": [
       "\u001B[30;43m                                                                                                    \n",
       " Expand-Archive                                                                                     \n",
       "    The archive file 'C:\\home\\git\\polyglot\\deps\\The-Spiral-Language\\VS Code Plugin\\spiral-lang-vscod\n",
       "    e-2.3.10.vsix' expansion is in progress...                                                      \n",
       "    [oooooooooooooooooooooooooooooooooooooooooooooooooo                                      ]      \n",
       "                                                                                                    \u001B[0m"
      ]
     },
     "metadata": {},
     "output_type": "display_data"
    },
    {
     "data": {
      "text/plain": [
       "\u001B[30;43m                                                                                                    \n",
       " Expand-Archive                                                                                     \n",
       "    The archive file 'C:\\home\\git\\polyglot\\deps\\The-Spiral-Language\\VS Code Plugin\\spiral-lang-vscod\n",
       "    e-2.3.10.vsix' expansion is in progress...                                                      \n",
       "    [oooooooooooooooooooooooooooooooooooooooooooooooooooo                                    ]      \n",
       "                                                                                                    \u001B[0m"
      ]
     },
     "metadata": {},
     "output_type": "display_data"
    },
    {
     "data": {
      "text/plain": [
       "\u001B[30;43m                                                                                                    \n",
       " Expand-Archive                                                                                     \n",
       "    The archive file 'C:\\home\\git\\polyglot\\deps\\The-Spiral-Language\\VS Code Plugin\\spiral-lang-vscod\n",
       "    e-2.3.10.vsix' expansion is in progress...                                                      \n",
       "    [ooooooooooooooooooooooooooooooooooooooooooooooooooooooo                                 ]      \n",
       "                                                                                                    \u001B[0m"
      ]
     },
     "metadata": {},
     "output_type": "display_data"
    },
    {
     "data": {
      "text/plain": [
       "\u001B[30;43m                                                                                                    \n",
       " Expand-Archive                                                                                     \n",
       "    The archive file 'C:\\home\\git\\polyglot\\deps\\The-Spiral-Language\\VS Code Plugin\\spiral-lang-vscod\n",
       "    e-2.3.10.vsix' expansion is in progress...                                                      \n",
       "    [oooooooooooooooooooooooooooooooooooooooooooooooooooooooooo                              ]      \n",
       "                                                                                                    \u001B[0m"
      ]
     },
     "metadata": {},
     "output_type": "display_data"
    },
    {
     "data": {
      "text/plain": [
       "\u001B[30;43m                                                                                                    \n",
       " Expand-Archive                                                                                     \n",
       "    The archive file 'C:\\home\\git\\polyglot\\deps\\The-Spiral-Language\\VS Code Plugin\\spiral-lang-vscod\n",
       "    e-2.3.10.vsix' expansion is in progress...                                                      \n",
       "    [oooooooooooooooooooooooooooooooooooooooooooooooooooooooooooooo                          ]      \n",
       "                                                                                                    \u001B[0m"
      ]
     },
     "metadata": {},
     "output_type": "display_data"
    },
    {
     "data": {
      "text/plain": [
       "\u001B[30;43m                                                                                                    \n",
       " Expand-Archive                                                                                     \n",
       "    The archive file 'C:\\home\\git\\polyglot\\deps\\The-Spiral-Language\\VS Code Plugin\\spiral-lang-vscod\n",
       "    e-2.3.10.vsix' expansion is in progress...                                                      \n",
       "    [ooooooooooooooooooooooooooooooooooooooooooooooooooooooooooooooooo                       ]      \n",
       "                                                                                                    \u001B[0m"
      ]
     },
     "metadata": {},
     "output_type": "display_data"
    },
    {
     "data": {
      "text/plain": [
       "\u001B[30;43m                                                                                                    \n",
       " Expand-Archive                                                                                     \n",
       "    The archive file 'C:\\home\\git\\polyglot\\deps\\The-Spiral-Language\\VS Code Plugin\\spiral-lang-vscod\n",
       "    e-2.3.10.vsix' expansion is in progress...                                                      \n",
       "    [ooooooooooooooooooooooooooooooooooooooooooooooooooooooooooooooooooo                     ]      \n",
       "                                                                                                    \u001B[0m"
      ]
     },
     "metadata": {},
     "output_type": "display_data"
    },
    {
     "data": {
      "text/plain": [
       "\u001B[30;43m                                                                                                    \n",
       " Expand-Archive                                                                                     \n",
       "    The archive file 'C:\\home\\git\\polyglot\\deps\\The-Spiral-Language\\VS Code Plugin\\spiral-lang-vscod\n",
       "    e-2.3.10.vsix' expansion is in progress...                                                      \n",
       "    [oooooooooooooooooooooooooooooooooooooooooooooooooooooooooooooooooooooo                  ]      \n",
       "                                                                                                    \u001B[0m"
      ]
     },
     "metadata": {},
     "output_type": "display_data"
    },
    {
     "data": {
      "text/plain": [
       "\u001B[30;43m                                                                                                    \n",
       " Expand-Archive                                                                                     \n",
       "    The archive file 'C:\\home\\git\\polyglot\\deps\\The-Spiral-Language\\VS Code Plugin\\spiral-lang-vscod\n",
       "    e-2.3.10.vsix' expansion is in progress...                                                      \n",
       "    [ooooooooooooooooooooooooooooooooooooooooooooooooooooooooooooooooooooooooo               ]      \n",
       "                                                                                                    \u001B[0m"
      ]
     },
     "metadata": {},
     "output_type": "display_data"
    },
    {
     "data": {
      "text/plain": [
       "\u001B[30;43m                                                                                                    \n",
       " Expand-Archive                                                                                     \n",
       "    The archive file 'C:\\home\\git\\polyglot\\deps\\The-Spiral-Language\\VS Code Plugin\\spiral-lang-vscod\n",
       "    e-2.3.10.vsix' expansion is in progress...                                                      \n",
       "    [ooooooooooooooooooooooooooooooooooooooooooooooooooooooooooooooooooooooooooo             ]      \n",
       "                                                                                                    \u001B[0m"
      ]
     },
     "metadata": {},
     "output_type": "display_data"
    },
    {
     "data": {
      "text/plain": [
       "\u001B[30;43m                                                                                                    \n",
       " Expand-Archive                                                                                     \n",
       "    The archive file 'C:\\home\\git\\polyglot\\deps\\The-Spiral-Language\\VS Code Plugin\\spiral-lang-vscod\n",
       "    e-2.3.10.vsix' expansion is in progress...                                                      \n",
       "    [ooooooooooooooooooooooooooooooooooooooooooooooooooooooooooooooooooooooooooooooo         ]      \n",
       "                                                                                                    \u001B[0m"
      ]
     },
     "metadata": {},
     "output_type": "display_data"
    },
    {
     "data": {
      "text/plain": [
       "\u001B[30;43m                                                                                                    \n",
       " Expand-Archive                                                                                     \n",
       "    The archive file 'C:\\home\\git\\polyglot\\deps\\The-Spiral-Language\\VS Code Plugin\\spiral-lang-vscod\n",
       "    e-2.3.10.vsix' expansion is in progress...                                                      \n",
       "    [ooooooooooooooooooooooooooooooooooooooooooooooooooooooooooooooooooooooooooooooooo       ]      \n",
       "                                                                                                    \u001B[0m"
      ]
     },
     "metadata": {},
     "output_type": "display_data"
    },
    {
     "data": {
      "text/plain": [
       "\u001B[30;43m                                                                                                    \n",
       " Expand-Archive                                                                                     \n",
       "    The archive file 'C:\\home\\git\\polyglot\\deps\\The-Spiral-Language\\VS Code Plugin\\spiral-lang-vscod\n",
       "    e-2.3.10.vsix' expansion is in progress...                                                      \n",
       "    [oooooooooooooooooooooooooooooooooooooooooooooooooooooooooooooooooooooooooooooooooooo    ]      \n",
       "                                                                                                    \u001B[0m"
      ]
     },
     "metadata": {},
     "output_type": "display_data"
    },
    {
     "data": {
      "text/plain": [
       "\u001B[30;43m                                                                                                    \n",
       " Expand-Archive                                                                                     \n",
       "    The archive file 'C:\\home\\git\\polyglot\\deps\\The-Spiral-Language\\VS Code Plugin\\spiral-lang-vscod\n",
       "    e-2.3.10.vsix' expansion is in progress...                                                      \n",
       "    [ooooooooooooooooooooooooooooooooooooooooooooooooooooooooooooooooooooooooooooooooooooooo ]      \n",
       "                                                                                                    \u001B[0m"
      ]
     },
     "metadata": {},
     "output_type": "display_data"
    },
    {
     "data": {
      "text/plain": []
     },
     "metadata": {},
     "output_type": "display_data"
    },
    {
     "data": {
      "text/plain": []
     },
     "metadata": {},
     "output_type": "display_data"
    },
    {
     "name": "stdout",
     "output_type": "stream",
     "text": [
      "\r\n",
      "up to date, audited 130 packages in 4s\r\n",
      "\r\n",
      "35 packages are looking for funding\r\n",
      "  run `npm fund` for details\r\n",
      "\r\n",
      "1 moderate severity vulnerability\r\n",
      "\r\n",
      "To address all issues, run:\r\n",
      "  npm audit fix\r\n",
      "\r\n",
      "Run `npm audit` for details.\r\n",
      "This extension consists of 753 files, out of which 207 are JavaScript files. For performance reasons, you should bundle your extension: https://aka.ms/vscode-bundle-extension . You should also exclude unnecessary files by adding them to your .vscodeignore: https://aka.ms/vscode-vscodeignore\r\n",
      " DONE  Packaged: C:\\home\\git\\polyglot\\deps\\The-Spiral-Language\\VS Code Plugin\\spiral-lang-vscode-2.3.10.vsix (753 files, 8.86MB)\r\n",
      "Copying extension to C:\\Users\\i574n\\.vscode\\extensions\\mrakgr.spiral-lang-vscode-2.3.10\r\n",
      "Copying extension to C:\\Users\\i574n\\scoop\\persist\\vscode\\data\\extensions\\mrakgr.spiral-lang-vscode-2.3.10\r\n",
      "Copying extension to C:\\Users\\i574n\\scoop\\persist\\vscode-insiders\\data\\extensions\\mrakgr.spiral-lang-vscode-2.3.10\r\n"
     ]
    }
   ],
   "source": [
    "{ . \"$ScriptDir/../spiral/extension.ps1\" } | Invoke-Block"
   ]
  },
  {
   "cell_type": "code",
   "execution_count": null,
   "metadata": {
    "dotnet_interactive": {
     "language": "pwsh"
    },
    "polyglot_notebook": {
     "kernelName": "pwsh"
    }
   },
   "outputs": [
    {
     "name": "stdout",
     "output_type": "stream",
     "text": [
      "\u001B[31;1mfatal: destination path 'Fable' already exists and is not an empty directory.\u001B[0m\r\n",
      "Already up to date.\r\n",
      "Tool path: C:\\Users\\i574n\\.nuget\\packages\\fable\\4.1.4\\tools\\net6.0\\any\r\n",
      "MSBuild version 17.7.0+5785ed5c2 for .NET\r\n",
      "  Determining projects to restore...\r\n",
      "  Restored C:\\home\\git\\polyglot\\deps\\Fable\\src\\Fable.Transforms\\Rust\\AST\\Rust.AST.fsproj (in 798 ms).\r\n",
      "  Restored C:\\home\\git\\polyglot\\deps\\Fable\\src\\Fable.AST\\Fable.AST.fsproj (in 798 ms).\r\n",
      "  Restored C:\\home\\git\\polyglot\\deps\\Fable\\src\\Fable.Transforms\\Fable.Transforms.fsproj (in 798 ms).\r\n",
      "  Restored C:\\home\\git\\polyglot\\deps\\Fable\\src\\Fable.Cli\\Fable.Cli.fsproj (in 1000 ms).\r\n",
      "C:\\Users\\i574n\\scoop\\apps\\dotnet-sdk-preview\\current\\sdk\\8.0.100-preview.6.23330.14\\Sdks\\Microsoft.NET.Sdk\\targets\\Microsoft.NET.RuntimeIdentifierInference.targets(314,5): message NETSDK1057: You are using a preview version of .NET. See: https://aka.ms/dotnet-support-policy [C:\\home\\git\\polyglot\\deps\\Fable\\src\\Fable.Cli\\Fable.Cli.fsproj]\r\n",
      "C:\\Users\\i574n\\scoop\\apps\\dotnet-sdk-preview\\current\\sdk\\8.0.100-preview.6.23330.14\\Sdks\\Microsoft.NET.Sdk\\targets\\Microsoft.NET.RuntimeIdentifierInference.targets(314,5): message NETSDK1057: You are using a preview version of .NET. See: https://aka.ms/dotnet-support-policy [C:\\home\\git\\polyglot\\deps\\Fable\\src\\Fable.AST\\Fable.AST.fsproj]\r\n",
      "C:\\Users\\i574n\\scoop\\apps\\dotnet-sdk-preview\\current\\sdk\\8.0.100-preview.6.23330.14\\Sdks\\Microsoft.NET.Sdk\\targets\\Microsoft.NET.RuntimeIdentifierInference.targets(314,5): message NETSDK1057: You are using a preview version of .NET. See: https://aka.ms/dotnet-support-policy [C:\\home\\git\\polyglot\\deps\\Fable\\src\\Fable.Transforms\\Rust\\AST\\Rust.AST.fsproj]\r\n",
      "  Fable.AST -> C:\\home\\git\\polyglot\\deps\\Fable\\src\\Fable.AST\\bin\\Release\\netstandard2.0\\Fable.AST.dll\r\n",
      "  Rust.AST -> C:\\home\\git\\polyglot\\deps\\Fable\\src\\Fable.Transforms\\Rust\\AST\\bin\\Release\\netstandard2.0\\Rust.AST.dll\r\n",
      "  Fable.Transforms -> C:\\home\\git\\polyglot\\deps\\Fable\\src\\Fable.Transforms\\bin\\Release\\netstandard2.0\\Fable.Transforms.dll\r\n",
      "  Fable.Cli -> C:\\home\\git\\polyglot\\deps\\Fable\\src\\Fable.Cli\\bin\\Release\\net6.0\\fable.dll\r\n",
      "\r\n",
      "Build succeeded.\r\n",
      "    0 Warning(s)\r\n",
      "    0 Error(s)\r\n",
      "\r\n",
      "Time Elapsed 00:01:01.77\r\n"
     ]
    }
   ],
   "source": [
    "{ . \"$ScriptDir/dep_fable.ps1\" } | Invoke-Block"
   ]
  }
 ],
 "metadata": {
  "kernelspec": {
   "display_name": ".NET (C#)",
   "language": "C#",
   "name": ".net-csharp"
  },
  "language_info": {
   "file_extension": ".cs",
   "mimetype": "text/x-csharp",
   "name": "C#",
   "pygments_lexer": "csharp",
   "version": "10.0"
  },
  "polyglot_notebook": {
   "defaultKernelName": "csharp",
   "items": [
    {
     "name": "csharp"
    }
   ]
  },
  "dotnet_interactive": {
   "defaultKernelName": "csharp",
   "items": [
    {
     "name": "csharp"
    }
   ]
  }
 },
 "nbformat": 4,
 "nbformat_minor": 5
}