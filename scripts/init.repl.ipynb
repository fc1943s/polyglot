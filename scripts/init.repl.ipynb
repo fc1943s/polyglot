{
 "cells": [
  {
   "cell_type": "code",
   "execution_count": null,
   "metadata": {
    "dotnet_repl_cellExecutionStartTime": "2023-07-09T18:48:37.2528493-03:00",
    "dotnet_repl_cellExecutionEndTime": "2023-07-09T18:48:38.1506769-03:00",
    "dotnet_interactive": {
     "language": "pwsh"
    },
    "polyglot_notebook": {
     "kernelName": "pwsh"
    }
   },
   "outputs": [],
   "source": [
    "#!import header.dib\n",
    ". ./core.ps1"
   ]
  },
  {
   "cell_type": "code",
   "execution_count": null,
   "metadata": {
    "dotnet_repl_cellExecutionStartTime": "2023-07-09T18:48:38.1524459-03:00",
    "dotnet_repl_cellExecutionEndTime": "2023-07-09T18:48:38.7517477-03:00",
    "dotnet_interactive": {
     "language": "pwsh"
    },
    "polyglot_notebook": {
     "kernelName": "pwsh"
    }
   },
   "outputs": [
    {
     "name": "stdout",
     "output_type": "stream",
     "text": [
      "\u001B[31;1minfo: component 'clippy' for target 'x86_64-pc-windows-msvc' is up to date\u001B[0m\r\n",
      "\u001B[31;1minfo: component 'rust-src' is up to date\u001B[0m\r\n",
      "\u001B[31;1minfo: component 'rustfmt' for target 'x86_64-pc-windows-msvc' is up to date\u001B[0m\r\n"
     ]
    }
   ],
   "source": [
    "rustup +nightly component add clippy rust-src rustfmt"
   ]
  },
  {
   "cell_type": "code",
   "execution_count": null,
   "metadata": {
    "dotnet_repl_cellExecutionStartTime": "2023-07-09T18:48:38.7518072-03:00",
    "dotnet_repl_cellExecutionEndTime": "2023-07-09T18:48:40.6372566-03:00",
    "dotnet_interactive": {
     "language": "pwsh"
    },
    "polyglot_notebook": {
     "kernelName": "pwsh"
    }
   },
   "outputs": [
    {
     "name": "stdout",
     "output_type": "stream",
     "text": [
      "\u001B[31;1minfo: syncing channel updates for 'stable-x86_64-pc-windows-msvc'\u001B[0m\r\n",
      "\u001B[31;1minfo: syncing channel updates for 'nightly-x86_64-pc-windows-msvc'\u001B[0m\r\n",
      "\u001B[31;1minfo: checking for self-update\u001B[0m\r\n",
      "\r\n",
      "   stable-x86_64-pc-windows-msvc unchanged - rustc 1.70.0 (90c541806 2023-05-31)\r\n",
      "  nightly-x86_64-pc-windows-msvc unchanged - rustc 1.72.0-nightly (83964c156 2023-07-08)\r\n",
      "\r\n",
      "\u001B[31;1minfo: cleaning up downloads & tmp directories\u001B[0m\r\n"
     ]
    }
   ],
   "source": [
    "rustup update"
   ]
  },
  {
   "cell_type": "code",
   "execution_count": null,
   "metadata": {
    "dotnet_repl_cellExecutionStartTime": "2023-07-09T18:48:40.6372914-03:00",
    "dotnet_repl_cellExecutionEndTime": "2023-07-09T18:48:41.9004269-03:00",
    "dotnet_interactive": {
     "language": "pwsh"
    },
    "polyglot_notebook": {
     "kernelName": "pwsh"
    }
   },
   "outputs": [
    {
     "name": "stdout",
     "output_type": "stream",
     "text": [
      "\u001B[31;1m    Updating crates.io index\u001B[0m\r\n",
      "\u001B[31;1m     Ignored package `wasm-pack v0.12.1` is already installed, use --force to override\u001B[0m\r\n"
     ]
    }
   ],
   "source": [
    "cargo +nightly install wasm-pack"
   ]
  },
  {
   "cell_type": "code",
   "execution_count": null,
   "metadata": {
    "dotnet_repl_cellExecutionStartTime": "2023-07-09T18:48:41.9004689-03:00",
    "dotnet_repl_cellExecutionEndTime": "2023-07-09T18:48:49.588911-03:00",
    "dotnet_interactive": {
     "language": "pwsh"
    },
    "polyglot_notebook": {
     "kernelName": "pwsh"
    }
   },
   "outputs": [
    {
     "name": "stdout",
     "output_type": "stream",
     "text": [
      "\r\n",
      "changed 1 package in 6s\r\n"
     ]
    }
   ],
   "source": [
    "npm install -g pnpm"
   ]
  },
  {
   "cell_type": "code",
   "execution_count": null,
   "metadata": {
    "dotnet_repl_cellExecutionStartTime": "2023-07-09T18:48:49.5889686-03:00",
    "dotnet_repl_cellExecutionEndTime": "2023-07-09T18:49:08.2481258-03:00",
    "dotnet_interactive": {
     "language": "pwsh"
    },
    "polyglot_notebook": {
     "kernelName": "pwsh"
    }
   },
   "outputs": [
    {
     "name": "stdout",
     "output_type": "stream",
     "text": [
      "\r\n",
      "changed 2 packages in 17s\r\n"
     ]
    }
   ],
   "source": [
    "npm install -g esbuild"
   ]
  },
  {
   "cell_type": "code",
   "execution_count": null,
   "metadata": {
    "dotnet_repl_cellExecutionStartTime": "2023-07-09T18:49:08.2481602-03:00",
    "dotnet_repl_cellExecutionEndTime": "2023-07-09T18:49:13.8591516-03:00",
    "dotnet_interactive": {
     "language": "pwsh"
    },
    "polyglot_notebook": {
     "kernelName": "pwsh"
    }
   },
   "outputs": [
    {
     "name": "stdout",
     "output_type": "stream",
     "text": [
      "\u001B[31;1m╔═══════════════════════════════════════════════════════════════════════════════╗\u001B[0m\r\n",
      "\u001B[31;1m║ WARNING: It looks like you are running 'npx playwright install' without first ║\u001B[0m\r\n",
      "\u001B[31;1m║ installing your project's dependencies.                                       ║\u001B[0m\r\n",
      "\u001B[31;1m║                                                                               ║\u001B[0m\r\n",
      "\u001B[31;1m║ To avoid unexpected behavior, please install your dependencies first, and     ║\u001B[0m\r\n",
      "\u001B[31;1m║ then run Playwright's install command:                                        ║\u001B[0m\r\n",
      "\u001B[31;1m║                                                                               ║\u001B[0m\r\n",
      "\u001B[31;1m║     npm install                                                               ║\u001B[0m\r\n",
      "\u001B[31;1m║     npx playwright install                                                    ║\u001B[0m\r\n",
      "\u001B[31;1m║                                                                               ║\u001B[0m\r\n",
      "\u001B[31;1m║ If your project does not yet depend on Playwright, first install the          ║\u001B[0m\r\n",
      "\u001B[31;1m║ applicable npm package (most commonly @playwright/test), and                  ║\u001B[0m\r\n",
      "\u001B[31;1m║ then run Playwright's install command to download the browsers:               ║\u001B[0m\r\n",
      "\u001B[31;1m║                                                                               ║\u001B[0m\r\n",
      "\u001B[31;1m║     npm install @playwright/test                                              ║\u001B[0m\r\n",
      "\u001B[31;1m║     npx playwright install                                                    ║\u001B[0m\r\n",
      "\u001B[31;1m║                                                                               ║\u001B[0m\r\n",
      "\u001B[31;1m╚═══════════════════════════════════════════════════════════════════════════════╝\u001B[0m\r\n"
     ]
    }
   ],
   "source": [
    "npx playwright install"
   ]
  },
  {
   "cell_type": "code",
   "execution_count": null,
   "metadata": {
    "dotnet_repl_cellExecutionStartTime": "2023-07-09T18:49:13.859211-03:00",
    "dotnet_repl_cellExecutionEndTime": "2023-07-09T18:49:13.8795246-03:00",
    "dotnet_interactive": {
     "language": "pwsh"
    },
    "polyglot_notebook": {
     "kernelName": "pwsh"
    }
   },
   "outputs": [],
   "source": [
    "[Net.ServicePointManager]::SecurityProtocol = [Net.SecurityProtocolType]::Tls12"
   ]
  },
  {
   "cell_type": "code",
   "execution_count": null,
   "metadata": {
    "dotnet_repl_cellExecutionStartTime": "2023-07-09T18:49:13.8795524-03:00",
    "dotnet_repl_cellExecutionEndTime": "2023-07-09T18:49:29.7233932-03:00",
    "dotnet_interactive": {
     "language": "pwsh"
    },
    "polyglot_notebook": {
     "kernelName": "pwsh"
    }
   },
   "outputs": [
    {
     "data": {
      "text/plain": [
       "\u001B[30;43m                                                                                                    \n",
       " Installing package 'PowerShellGet'                                                                 \n",
       "                                                                                                    \n",
       "    [                                                                                        ]      \n",
       "                                                                                                    \u001B[0m"
      ]
     },
     "metadata": {},
     "output_type": "display_data"
    },
    {
     "data": {
      "text/plain": [
       "\u001B[30;43m                                                                                                    \n",
       " Installing package 'PowerShellGet'                                                                 \n",
       "    Installing dependent package 'PackageManagement'                                                \n",
       "    [                                                                                        ]      \n",
       "   Installing package 'PackageManagement'                                                           \n",
       "      Downloaded 0.00 MB out of 1.10 MB.                                                            \n",
       "      [                                                                                      ]      \n",
       "                                                                                                    \u001B[0m"
      ]
     },
     "metadata": {},
     "output_type": "display_data"
    },
    {
     "data": {
      "text/plain": [
       "\u001B[30;43m                                                                                                    \n",
       " Installing package 'PowerShellGet'                                                                 \n",
       "    Installing dependent package 'PackageManagement'                                                \n",
       "    [                                                                                        ]      \n",
       "   Installing package 'PackageManagement'                                                           \n",
       "      Downloaded 0.13 MB out of 1.10 MB.                                                            \n",
       "      [oooooo                                                                                ]      \n",
       "                                                                                                    \u001B[0m"
      ]
     },
     "metadata": {},
     "output_type": "display_data"
    },
    {
     "data": {
      "text/plain": [
       "\u001B[30;43m                                                                                                    \n",
       " Installing package 'PowerShellGet'                                                                 \n",
       "    Installing dependent package 'PackageManagement'                                                \n",
       "    [                                                                                        ]      \n",
       "   Installing package 'PackageManagement'                                                           \n",
       "      Downloaded 0.25 MB out of 1.10 MB.                                                            \n",
       "      [oooooooooooo                                                                          ]      \n",
       "                                                                                                    \u001B[0m"
      ]
     },
     "metadata": {},
     "output_type": "display_data"
    },
    {
     "data": {
      "text/plain": [
       "\u001B[30;43m                                                                                                    \n",
       " Installing package 'PowerShellGet'                                                                 \n",
       "    Installing dependent package 'PackageManagement'                                                \n",
       "    [                                                                                        ]      \n",
       "   Installing package 'PackageManagement'                                                           \n",
       "      Downloaded 0.75 MB out of 1.10 MB.                                                            \n",
       "      [oooooooooooooooooooooooooooooooooooooooo                                              ]      \n",
       "                                                                                                    \u001B[0m"
      ]
     },
     "metadata": {},
     "output_type": "display_data"
    },
    {
     "data": {
      "text/plain": [
       "\u001B[30;43m                                                                                                    \n",
       " Installing package 'PowerShellGet'                                                                 \n",
       "    Installing dependent package 'PackageManagement'                                                \n",
       "    [                                                                                        ]      \n",
       "   Installing package 'PackageManagement'                                                           \n",
       "      Unzipping                                                                                     \n",
       "      [oooooooooooooooooooooooooooooooooooooooooooooooooooooooooooo                          ]      \n",
       "                                                                                                    \u001B[0m"
      ]
     },
     "metadata": {},
     "output_type": "display_data"
    },
    {
     "data": {
      "text/plain": [
       "\u001B[30;43m                                                                                                    \n",
       " Installing package 'PowerShellGet'                                                                 \n",
       "    Installing dependent package 'PackageManagement'                                                \n",
       "    [                                                                                        ]      \n",
       "                                                                                                    \u001B[0m"
      ]
     },
     "metadata": {},
     "output_type": "display_data"
    },
    {
     "data": {
      "text/plain": [
       "\u001B[30;43m                                                                                                    \n",
       " Installing package 'PowerShellGet'                                                                 \n",
       "    Downloaded 0.00 MB out of 0.26 MB.                                                              \n",
       "    [oooooooooooooooooooooooooooooooooooooooooooo                                            ]      \n",
       "                                                                                                    \u001B[0m"
      ]
     },
     "metadata": {},
     "output_type": "display_data"
    },
    {
     "data": {
      "text/plain": [
       "\u001B[30;43m                                                                                                    \n",
       " Installing package 'PowerShellGet'                                                                 \n",
       "    Downloaded 0.06 MB out of 0.26 MB.                                                              \n",
       "    [ooooooooooooooooooooooooooooooooooooooooooooooooooo                                     ]      \n",
       "                                                                                                    \u001B[0m"
      ]
     },
     "metadata": {},
     "output_type": "display_data"
    },
    {
     "data": {
      "text/plain": []
     },
     "metadata": {},
     "output_type": "display_data"
    },
    {
     "data": {
      "text/plain": []
     },
     "metadata": {},
     "output_type": "display_data"
    },
    {
     "name": "stdout",
     "output_type": "stream",
     "text": [
      "\u001B[93mWARNING: InternalWebProxy: Could not find a part of the path 'C:\\Users\\i574n\\.nuget\\packages\\dotnet-repl\\0.1.204\\tools\\net7.0\\any\\ref'.\u001B[0m\r\n",
      "\u001B[93mWARNING: Win32Helpers: Could not find a part of the path 'C:\\Users\\i574n\\.nuget\\packages\\dotnet-repl\\0.1.204\\tools\\net7.0\\any\\ref'.\u001B[0m\r\n"
     ]
    }
   ],
   "source": [
    "Install-Module -Name PowerShellGet -Force -AllowClobber -Scope CurrentUser"
   ]
  },
  {
   "cell_type": "code",
   "execution_count": null,
   "metadata": {
    "dotnet_repl_cellExecutionStartTime": "2023-07-09T18:49:29.7234248-03:00",
    "dotnet_repl_cellExecutionEndTime": "2023-07-09T18:49:33.4901615-03:00",
    "dotnet_interactive": {
     "language": "pwsh"
    },
    "polyglot_notebook": {
     "kernelName": "pwsh"
    }
   },
   "outputs": [],
   "source": [
    "Set-PSRepository -Name PSGallery -InstallationPolicy Trusted"
   ]
  },
  {
   "cell_type": "code",
   "execution_count": null,
   "metadata": {
    "dotnet_repl_cellExecutionStartTime": "2023-07-09T18:49:33.4902127-03:00",
    "dotnet_repl_cellExecutionEndTime": "2023-07-09T18:49:34.7360044-03:00",
    "dotnet_interactive": {
     "language": "pwsh"
    },
    "polyglot_notebook": {
     "kernelName": "pwsh"
    }
   },
   "outputs": [],
   "source": [
    "Install-Module -Name PSToml -Scope CurrentUser"
   ]
  },
  {
   "cell_type": "code",
   "execution_count": null,
   "metadata": {
    "dotnet_repl_cellExecutionStartTime": "2023-07-09T18:49:34.7360276-03:00",
    "dotnet_repl_cellExecutionEndTime": "2023-07-09T18:49:36.7967037-03:00",
    "dotnet_interactive": {
     "language": "pwsh"
    },
    "polyglot_notebook": {
     "kernelName": "pwsh"
    }
   },
   "outputs": [
    {
     "name": "stdout",
     "output_type": "stream",
     "text": [
      "\u001B[31;1mfatal: destination path 'The-Spiral-Language' already exists and is not an empty directory.\u001B[0m\r\n",
      "MSBuild version 17.7.0-preview-23281-03+4ce2ff1f8 for .NET\r\n",
      "  Determining projects to restore...\r\n",
      "  All projects are up-to-date for restore.\r\n",
      "C:\\Program Files\\dotnet\\sdk\\8.0.100-preview.5.23303.2\\Sdks\\Microsoft.NET.Sdk\\targets\\Microsoft.NET.RuntimeIdentifierInference.targets(314,5): message NETSDK1057: You are using a preview version of .NET. See: https://aka.ms/dotnet-support-policy [C:\\home\\git\\polyglot\\deps\\The-Spiral-Language\\The Spiral Language 2\\The Spiral Language 2.fsproj]\r\n",
      "  The Spiral Language 2 -> C:\\home\\git\\polyglot\\deps\\The-Spiral-Language\\The Spiral Language 2\\artifacts\\bin\\The Spiral Language 2\\release\\Spiral.dll\r\n",
      "\r\n",
      "Build succeeded.\r\n",
      "    0 Warning(s)\r\n",
      "    0 Error(s)\r\n",
      "\r\n",
      "Time Elapsed 00:00:01.44\r\n"
     ]
    }
   ],
   "source": [
    "{ . \"$ScriptDir/dep_spiral.ps1\" } | Invoke-Block"
   ]
  },
  {
   "cell_type": "code",
   "execution_count": null,
   "metadata": {
    "dotnet_repl_cellExecutionStartTime": "2023-07-09T18:49:36.7967405-03:00",
    "dotnet_repl_cellExecutionEndTime": "2023-07-09T18:50:16.07362-03:00",
    "dotnet_interactive": {
     "language": "pwsh"
    },
    "polyglot_notebook": {
     "kernelName": "pwsh"
    }
   },
   "outputs": [
    {
     "data": {
      "text/plain": [
       "\u001B[30;43m                                                                                                    \n",
       " Expand-Archive                                                                                     \n",
       "    The archive file 'C:\\Users\\i574n\\.vscode\\extensions\\mrakgr.spiral-lang-vscode-2.3.10/dist' expan\n",
       "    sion is in progress...                                                                          \n",
       "    [                                                                                        ]      \n",
       "                                                                                                    \u001B[0m"
      ]
     },
     "metadata": {},
     "output_type": "display_data"
    },
    {
     "data": {
      "text/plain": [
       "\u001B[30;43m                                                                                                    \n",
       " Expand-Archive                                                                                     \n",
       "    The archive file 'C:\\home\\git\\polyglot\\deps\\The-Spiral-Language\\VS Code Plugin\\spiral-lang-vscod\n",
       "    e-2.3.10.vsix' expansion is in progress...                                                      \n",
       "    [oo                                                                                      ]      \n",
       "                                                                                                    \u001B[0m"
      ]
     },
     "metadata": {},
     "output_type": "display_data"
    },
    {
     "data": {
      "text/plain": [
       "\u001B[30;43m                                                                                                    \n",
       " Expand-Archive                                                                                     \n",
       "    The archive file 'C:\\home\\git\\polyglot\\deps\\The-Spiral-Language\\VS Code Plugin\\spiral-lang-vscod\n",
       "    e-2.3.10.vsix' expansion is in progress...                                                      \n",
       "    [ooooooo                                                                                 ]      \n",
       "                                                                                                    \u001B[0m"
      ]
     },
     "metadata": {},
     "output_type": "display_data"
    },
    {
     "data": {
      "text/plain": [
       "\u001B[30;43m                                                                                                    \n",
       " Expand-Archive                                                                                     \n",
       "    The archive file 'C:\\home\\git\\polyglot\\deps\\The-Spiral-Language\\VS Code Plugin\\spiral-lang-vscod\n",
       "    e-2.3.10.vsix' expansion is in progress...                                                      \n",
       "    [oooooooooooooo                                                                          ]      \n",
       "                                                                                                    \u001B[0m"
      ]
     },
     "metadata": {},
     "output_type": "display_data"
    },
    {
     "data": {
      "text/plain": [
       "\u001B[30;43m                                                                                                    \n",
       " Expand-Archive                                                                                     \n",
       "    The archive file 'C:\\home\\git\\polyglot\\deps\\The-Spiral-Language\\VS Code Plugin\\spiral-lang-vscod\n",
       "    e-2.3.10.vsix' expansion is in progress...                                                      \n",
       "    [ooooooooooooooooooooooo                                                                 ]      \n",
       "                                                                                                    \u001B[0m"
      ]
     },
     "metadata": {},
     "output_type": "display_data"
    },
    {
     "data": {
      "text/plain": [
       "\u001B[30;43m                                                                                                    \n",
       " Expand-Archive                                                                                     \n",
       "    The archive file 'C:\\home\\git\\polyglot\\deps\\The-Spiral-Language\\VS Code Plugin\\spiral-lang-vscod\n",
       "    e-2.3.10.vsix' expansion is in progress...                                                      \n",
       "    [ooooooooooooooooooooooooooooooooooo                                                     ]      \n",
       "                                                                                                    \u001B[0m"
      ]
     },
     "metadata": {},
     "output_type": "display_data"
    },
    {
     "data": {
      "text/plain": [
       "\u001B[30;43m                                                                                                    \n",
       " Expand-Archive                                                                                     \n",
       "    The archive file 'C:\\home\\git\\polyglot\\deps\\The-Spiral-Language\\VS Code Plugin\\spiral-lang-vscod\n",
       "    e-2.3.10.vsix' expansion is in progress...                                                      \n",
       "    [oooooooooooooooooooooooooooooooooooooooooooo                                            ]      \n",
       "                                                                                                    \u001B[0m"
      ]
     },
     "metadata": {},
     "output_type": "display_data"
    },
    {
     "data": {
      "text/plain": [
       "\u001B[30;43m                                                                                                    \n",
       " Expand-Archive                                                                                     \n",
       "    The archive file 'C:\\home\\git\\polyglot\\deps\\The-Spiral-Language\\VS Code Plugin\\spiral-lang-vscod\n",
       "    e-2.3.10.vsix' expansion is in progress...                                                      \n",
       "    [oooooooooooooooooooooooooooooooooooooooooooooooooooooo                                  ]      \n",
       "                                                                                                    \u001B[0m"
      ]
     },
     "metadata": {},
     "output_type": "display_data"
    },
    {
     "data": {
      "text/plain": [
       "\u001B[30;43m                                                                                                    \n",
       " Expand-Archive                                                                                     \n",
       "    The archive file 'C:\\home\\git\\polyglot\\deps\\The-Spiral-Language\\VS Code Plugin\\spiral-lang-vscod\n",
       "    e-2.3.10.vsix' expansion is in progress...                                                      \n",
       "    [oooooooooooooooooooooooooooooooooooooooooooooooooooooooooooooooo                        ]      \n",
       "                                                                                                    \u001B[0m"
      ]
     },
     "metadata": {},
     "output_type": "display_data"
    },
    {
     "data": {
      "text/plain": [
       "\u001B[30;43m                                                                                                    \n",
       " Expand-Archive                                                                                     \n",
       "    The archive file 'C:\\home\\git\\polyglot\\deps\\The-Spiral-Language\\VS Code Plugin\\spiral-lang-vscod\n",
       "    e-2.3.10.vsix' expansion is in progress...                                                      \n",
       "    [oooooooooooooooooooooooooooooooooooooooooooooooooooooooooooooooooooooooo                ]      \n",
       "                                                                                                    \u001B[0m"
      ]
     },
     "metadata": {},
     "output_type": "display_data"
    },
    {
     "data": {
      "text/plain": [
       "\u001B[30;43m                                                                                                    \n",
       " Expand-Archive                                                                                     \n",
       "    The archive file 'C:\\home\\git\\polyglot\\deps\\The-Spiral-Language\\VS Code Plugin\\spiral-lang-vscod\n",
       "    e-2.3.10.vsix' expansion is in progress...                                                      \n",
       "    [oooooooooooooooooooooooooooooooooooooooooooooooooooooooooooooooooooooooooooooo          ]      \n",
       "                                                                                                    \u001B[0m"
      ]
     },
     "metadata": {},
     "output_type": "display_data"
    },
    {
     "data": {
      "text/plain": [
       "\u001B[30;43m                                                                                                    \n",
       " Expand-Archive                                                                                     \n",
       "    The archive file 'C:\\home\\git\\polyglot\\deps\\The-Spiral-Language\\VS Code Plugin\\spiral-lang-vscod\n",
       "    e-2.3.10.vsix' expansion is in progress...                                                      \n",
       "    [oooooooooooooooooooooooooooooooooooooooooooooooooooooooooooooooooooooooooooooooooooooo  ]      \n",
       "                                                                                                    \u001B[0m"
      ]
     },
     "metadata": {},
     "output_type": "display_data"
    },
    {
     "data": {
      "text/plain": []
     },
     "metadata": {},
     "output_type": "display_data"
    },
    {
     "data": {
      "text/plain": [
       "\u001B[30;43m                                                                                                    \n",
       " Expand-Archive                                                                                     \n",
       "    The archive file 'C:\\Users\\i574n\\scoop\\persist\\vscode\\data\\extensions\\mrakgr.spiral-lang-vscode-\n",
       "    2.3.10/dist' expansion is in progress...                                                        \n",
       "    [                                                                                        ]      \n",
       "                                                                                                    \u001B[0m"
      ]
     },
     "metadata": {},
     "output_type": "display_data"
    },
    {
     "data": {
      "text/plain": [
       "\u001B[30;43m                                                                                                    \n",
       " Expand-Archive                                                                                     \n",
       "    The archive file 'C:\\home\\git\\polyglot\\deps\\The-Spiral-Language\\VS Code Plugin\\spiral-lang-vscod\n",
       "    e-2.3.10.vsix' expansion is in progress...                                                      \n",
       "    [oooo                                                                                    ]      \n",
       "                                                                                                    \u001B[0m"
      ]
     },
     "metadata": {},
     "output_type": "display_data"
    },
    {
     "data": {
      "text/plain": [
       "\u001B[30;43m                                                                                                    \n",
       " Expand-Archive                                                                                     \n",
       "    The archive file 'C:\\home\\git\\polyglot\\deps\\The-Spiral-Language\\VS Code Plugin\\spiral-lang-vscod\n",
       "    e-2.3.10.vsix' expansion is in progress...                                                      \n",
       "    [oooooooooo                                                                              ]      \n",
       "                                                                                                    \u001B[0m"
      ]
     },
     "metadata": {},
     "output_type": "display_data"
    },
    {
     "data": {
      "text/plain": [
       "\u001B[30;43m                                                                                                    \n",
       " Expand-Archive                                                                                     \n",
       "    The archive file 'C:\\home\\git\\polyglot\\deps\\The-Spiral-Language\\VS Code Plugin\\spiral-lang-vscod\n",
       "    e-2.3.10.vsix' expansion is in progress...                                                      \n",
       "    [oooooooooooooooooo                                                                      ]      \n",
       "                                                                                                    \u001B[0m"
      ]
     },
     "metadata": {},
     "output_type": "display_data"
    },
    {
     "data": {
      "text/plain": [
       "\u001B[30;43m                                                                                                    \n",
       " Expand-Archive                                                                                     \n",
       "    The archive file 'C:\\home\\git\\polyglot\\deps\\The-Spiral-Language\\VS Code Plugin\\spiral-lang-vscod\n",
       "    e-2.3.10.vsix' expansion is in progress...                                                      \n",
       "    [ooooooooooooooooooooooooooo                                                             ]      \n",
       "                                                                                                    \u001B[0m"
      ]
     },
     "metadata": {},
     "output_type": "display_data"
    },
    {
     "data": {
      "text/plain": [
       "\u001B[30;43m                                                                                                    \n",
       " Expand-Archive                                                                                     \n",
       "    The archive file 'C:\\home\\git\\polyglot\\deps\\The-Spiral-Language\\VS Code Plugin\\spiral-lang-vscod\n",
       "    e-2.3.10.vsix' expansion is in progress...                                                      \n",
       "    [oooooooooooooooooooooooooooooooooooo                                                    ]      \n",
       "                                                                                                    \u001B[0m"
      ]
     },
     "metadata": {},
     "output_type": "display_data"
    },
    {
     "data": {
      "text/plain": [
       "\u001B[30;43m                                                                                                    \n",
       " Expand-Archive                                                                                     \n",
       "    The archive file 'C:\\home\\git\\polyglot\\deps\\The-Spiral-Language\\VS Code Plugin\\spiral-lang-vscod\n",
       "    e-2.3.10.vsix' expansion is in progress...                                                      \n",
       "    [ooooooooooooooooooooooooooooooooooooooooooooo                                           ]      \n",
       "                                                                                                    \u001B[0m"
      ]
     },
     "metadata": {},
     "output_type": "display_data"
    },
    {
     "data": {
      "text/plain": [
       "\u001B[30;43m                                                                                                    \n",
       " Expand-Archive                                                                                     \n",
       "    The archive file 'C:\\home\\git\\polyglot\\deps\\The-Spiral-Language\\VS Code Plugin\\spiral-lang-vscod\n",
       "    e-2.3.10.vsix' expansion is in progress...                                                      \n",
       "    [oooooooooooooooooooooooooooooooooooooooooooooooooooooo                                  ]      \n",
       "                                                                                                    \u001B[0m"
      ]
     },
     "metadata": {},
     "output_type": "display_data"
    },
    {
     "data": {
      "text/plain": [
       "\u001B[30;43m                                                                                                    \n",
       " Expand-Archive                                                                                     \n",
       "    The archive file 'C:\\home\\git\\polyglot\\deps\\The-Spiral-Language\\VS Code Plugin\\spiral-lang-vscod\n",
       "    e-2.3.10.vsix' expansion is in progress...                                                      \n",
       "    [oooooooooooooooooooooooooooooooooooooooooooooooooooooooooooooooo                        ]      \n",
       "                                                                                                    \u001B[0m"
      ]
     },
     "metadata": {},
     "output_type": "display_data"
    },
    {
     "data": {
      "text/plain": [
       "\u001B[30;43m                                                                                                    \n",
       " Expand-Archive                                                                                     \n",
       "    The archive file 'C:\\home\\git\\polyglot\\deps\\The-Spiral-Language\\VS Code Plugin\\spiral-lang-vscod\n",
       "    e-2.3.10.vsix' expansion is in progress...                                                      \n",
       "    [oooooooooooooooooooooooooooooooooooooooooooooooooooooooooooooooooooooo                  ]      \n",
       "                                                                                                    \u001B[0m"
      ]
     },
     "metadata": {},
     "output_type": "display_data"
    },
    {
     "data": {
      "text/plain": [
       "\u001B[30;43m                                                                                                    \n",
       " Expand-Archive                                                                                     \n",
       "    The archive file 'C:\\home\\git\\polyglot\\deps\\The-Spiral-Language\\VS Code Plugin\\spiral-lang-vscod\n",
       "    e-2.3.10.vsix' expansion is in progress...                                                      \n",
       "    [ooooooooooooooooooooooooooooooooooooooooooooooooooooooooooooooooooooooooooooo           ]      \n",
       "                                                                                                    \u001B[0m"
      ]
     },
     "metadata": {},
     "output_type": "display_data"
    },
    {
     "data": {
      "text/plain": [
       "\u001B[30;43m                                                                                                    \n",
       " Expand-Archive                                                                                     \n",
       "    The archive file 'C:\\home\\git\\polyglot\\deps\\The-Spiral-Language\\VS Code Plugin\\spiral-lang-vscod\n",
       "    e-2.3.10.vsix' expansion is in progress...                                                      \n",
       "    [ooooooooooooooooooooooooooooooooooooooooooooooooooooooooooooooooooooooooooooooooooooooo ]      \n",
       "                                                                                                    \u001B[0m"
      ]
     },
     "metadata": {},
     "output_type": "display_data"
    },
    {
     "data": {
      "text/plain": []
     },
     "metadata": {},
     "output_type": "display_data"
    },
    {
     "data": {
      "text/plain": [
       "\u001B[30;43m                                                                                                    \n",
       " Expand-Archive                                                                                     \n",
       "    The archive file 'C:\\Users\\i574n\\scoop\\persist\\vscode-insiders\\data\\extensions\\mrakgr.spiral-lan\n",
       "    g-vscode-2.3.10/dist' expansion is in progress...                                               \n",
       "    [                                                                                        ]      \n",
       "                                                                                                    \u001B[0m"
      ]
     },
     "metadata": {},
     "output_type": "display_data"
    },
    {
     "data": {
      "text/plain": [
       "\u001B[30;43m                                                                                                    \n",
       " Expand-Archive                                                                                     \n",
       "    The archive file 'C:\\home\\git\\polyglot\\deps\\The-Spiral-Language\\VS Code Plugin\\spiral-lang-vscod\n",
       "    e-2.3.10.vsix' expansion is in progress...                                                      \n",
       "    [                                                                                        ]      \n",
       "                                                                                                    \u001B[0m"
      ]
     },
     "metadata": {},
     "output_type": "display_data"
    },
    {
     "data": {
      "text/plain": [
       "\u001B[30;43m                                                                                                    \n",
       " Expand-Archive                                                                                     \n",
       "    The archive file 'C:\\home\\git\\polyglot\\deps\\The-Spiral-Language\\VS Code Plugin\\spiral-lang-vscod\n",
       "    e-2.3.10.vsix' expansion is in progress...                                                      \n",
       "    [oooo                                                                                    ]      \n",
       "                                                                                                    \u001B[0m"
      ]
     },
     "metadata": {},
     "output_type": "display_data"
    },
    {
     "data": {
      "text/plain": [
       "\u001B[30;43m                                                                                                    \n",
       " Expand-Archive                                                                                     \n",
       "    The archive file 'C:\\home\\git\\polyglot\\deps\\The-Spiral-Language\\VS Code Plugin\\spiral-lang-vscod\n",
       "    e-2.3.10.vsix' expansion is in progress...                                                      \n",
       "    [ooooooo                                                                                 ]      \n",
       "                                                                                                    \u001B[0m"
      ]
     },
     "metadata": {},
     "output_type": "display_data"
    },
    {
     "data": {
      "text/plain": [
       "\u001B[30;43m                                                                                                    \n",
       " Expand-Archive                                                                                     \n",
       "    The archive file 'C:\\home\\git\\polyglot\\deps\\The-Spiral-Language\\VS Code Plugin\\spiral-lang-vscod\n",
       "    e-2.3.10.vsix' expansion is in progress...                                                      \n",
       "    [oooooooooooo                                                                            ]      \n",
       "                                                                                                    \u001B[0m"
      ]
     },
     "metadata": {},
     "output_type": "display_data"
    },
    {
     "data": {
      "text/plain": [
       "\u001B[30;43m                                                                                                    \n",
       " Expand-Archive                                                                                     \n",
       "    The archive file 'C:\\home\\git\\polyglot\\deps\\The-Spiral-Language\\VS Code Plugin\\spiral-lang-vscod\n",
       "    e-2.3.10.vsix' expansion is in progress...                                                      \n",
       "    [oooooooooooooooooo                                                                      ]      \n",
       "                                                                                                    \u001B[0m"
      ]
     },
     "metadata": {},
     "output_type": "display_data"
    },
    {
     "data": {
      "text/plain": [
       "\u001B[30;43m                                                                                                    \n",
       " Expand-Archive                                                                                     \n",
       "    The archive file 'C:\\home\\git\\polyglot\\deps\\The-Spiral-Language\\VS Code Plugin\\spiral-lang-vscod\n",
       "    e-2.3.10.vsix' expansion is in progress...                                                      \n",
       "    [ooooooooooooooooooooooooo                                                               ]      \n",
       "                                                                                                    \u001B[0m"
      ]
     },
     "metadata": {},
     "output_type": "display_data"
    },
    {
     "data": {
      "text/plain": [
       "\u001B[30;43m                                                                                                    \n",
       " Expand-Archive                                                                                     \n",
       "    The archive file 'C:\\home\\git\\polyglot\\deps\\The-Spiral-Language\\VS Code Plugin\\spiral-lang-vscod\n",
       "    e-2.3.10.vsix' expansion is in progress...                                                      \n",
       "    [ooooooooooooooooooooooooooooooooooo                                                     ]      \n",
       "                                                                                                    \u001B[0m"
      ]
     },
     "metadata": {},
     "output_type": "display_data"
    },
    {
     "data": {
      "text/plain": [
       "\u001B[30;43m                                                                                                    \n",
       " Expand-Archive                                                                                     \n",
       "    The archive file 'C:\\home\\git\\polyglot\\deps\\The-Spiral-Language\\VS Code Plugin\\spiral-lang-vscod\n",
       "    e-2.3.10.vsix' expansion is in progress...                                                      \n",
       "    [ooooooooooooooooooooooooooooooooooooooooooo                                             ]      \n",
       "                                                                                                    \u001B[0m"
      ]
     },
     "metadata": {},
     "output_type": "display_data"
    },
    {
     "data": {
      "text/plain": [
       "\u001B[30;43m                                                                                                    \n",
       " Expand-Archive                                                                                     \n",
       "    The archive file 'C:\\home\\git\\polyglot\\deps\\The-Spiral-Language\\VS Code Plugin\\spiral-lang-vscod\n",
       "    e-2.3.10.vsix' expansion is in progress...                                                      \n",
       "    [ooooooooooooooooooooooooooooooooooooooooooooooooooo                                     ]      \n",
       "                                                                                                    \u001B[0m"
      ]
     },
     "metadata": {},
     "output_type": "display_data"
    },
    {
     "data": {
      "text/plain": [
       "\u001B[30;43m                                                                                                    \n",
       " Expand-Archive                                                                                     \n",
       "    The archive file 'C:\\home\\git\\polyglot\\deps\\The-Spiral-Language\\VS Code Plugin\\spiral-lang-vscod\n",
       "    e-2.3.10.vsix' expansion is in progress...                                                      \n",
       "    [oooooooooooooooooooooooooooooooooooooooooooooooooooooooo                                ]      \n",
       "                                                                                                    \u001B[0m"
      ]
     },
     "metadata": {},
     "output_type": "display_data"
    },
    {
     "data": {
      "text/plain": [
       "\u001B[30;43m                                                                                                    \n",
       " Expand-Archive                                                                                     \n",
       "    The archive file 'C:\\home\\git\\polyglot\\deps\\The-Spiral-Language\\VS Code Plugin\\spiral-lang-vscod\n",
       "    e-2.3.10.vsix' expansion is in progress...                                                      \n",
       "    [oooooooooooooooooooooooooooooooooooooooooooooooooooooooooooooo                          ]      \n",
       "                                                                                                    \u001B[0m"
      ]
     },
     "metadata": {},
     "output_type": "display_data"
    },
    {
     "data": {
      "text/plain": [
       "\u001B[30;43m                                                                                                    \n",
       " Expand-Archive                                                                                     \n",
       "    The archive file 'C:\\home\\git\\polyglot\\deps\\The-Spiral-Language\\VS Code Plugin\\spiral-lang-vscod\n",
       "    e-2.3.10.vsix' expansion is in progress...                                                      \n",
       "    [oooooooooooooooooooooooooooooooooooooooooooooooooooooooooooooooooo                      ]      \n",
       "                                                                                                    \u001B[0m"
      ]
     },
     "metadata": {},
     "output_type": "display_data"
    },
    {
     "data": {
      "text/plain": [
       "\u001B[30;43m                                                                                                    \n",
       " Expand-Archive                                                                                     \n",
       "    The archive file 'C:\\home\\git\\polyglot\\deps\\The-Spiral-Language\\VS Code Plugin\\spiral-lang-vscod\n",
       "    e-2.3.10.vsix' expansion is in progress...                                                      \n",
       "    [ooooooooooooooooooooooooooooooooooooooooooooooooooooooooooooooooooooooooo               ]      \n",
       "                                                                                                    \u001B[0m"
      ]
     },
     "metadata": {},
     "output_type": "display_data"
    },
    {
     "data": {
      "text/plain": [
       "\u001B[30;43m                                                                                                    \n",
       " Expand-Archive                                                                                     \n",
       "    The archive file 'C:\\home\\git\\polyglot\\deps\\The-Spiral-Language\\VS Code Plugin\\spiral-lang-vscod\n",
       "    e-2.3.10.vsix' expansion is in progress...                                                      \n",
       "    [ooooooooooooooooooooooooooooooooooooooooooooooooooooooooooooooooooooooooooooooooooo     ]      \n",
       "                                                                                                    \u001B[0m"
      ]
     },
     "metadata": {},
     "output_type": "display_data"
    },
    {
     "data": {
      "text/plain": []
     },
     "metadata": {},
     "output_type": "display_data"
    },
    {
     "data": {
      "text/plain": []
     },
     "metadata": {},
     "output_type": "display_data"
    },
    {
     "name": "stdout",
     "output_type": "stream",
     "text": [
      "\r\n",
      "up to date, audited 130 packages in 3s\r\n",
      "\r\n",
      "35 packages are looking for funding\r\n",
      "  run `npm fund` for details\r\n",
      "\r\n",
      "3 moderate severity vulnerabilities\r\n",
      "\r\n",
      "To address issues that do not require attention, run:\r\n",
      "  npm audit fix\r\n",
      "\r\n",
      "Some issues need review, and may require choosing\r\n",
      "a different dependency.\r\n",
      "\r\n",
      "Run `npm audit` for details.\r\n",
      "This extension consists of 546 files, out of which 207 are JavaScript files. For performance reasons, you should bundle your extension: https://aka.ms/vscode-bundle-extension . You should also exclude unnecessary files by adding them to your .vscodeignore: https://aka.ms/vscode-vscodeignore\r\n",
      " DONE  Packaged: C:\\home\\git\\polyglot\\deps\\The-Spiral-Language\\VS Code Plugin\\spiral-lang-vscode-2.3.10.vsix (546 files, 9MB)\r\n",
      "Copying extension to C:\\Users\\i574n\\.vscode\\extensions\\mrakgr.spiral-lang-vscode-2.3.10\r\n",
      "Copying extension to C:\\Users\\i574n\\scoop\\persist\\vscode\\data\\extensions\\mrakgr.spiral-lang-vscode-2.3.10\r\n",
      "Copying extension to C:\\Users\\i574n\\scoop\\persist\\vscode-insiders\\data\\extensions\\mrakgr.spiral-lang-vscode-2.3.10\r\n"
     ]
    }
   ],
   "source": [
    "{ . \"$ScriptDir/../spiral/extension.ps1\" } | Invoke-Block"
   ]
  },
  {
   "cell_type": "code",
   "execution_count": null,
   "metadata": {
    "dotnet_repl_cellExecutionStartTime": "2023-07-09T18:50:16.0736613-03:00",
    "dotnet_repl_cellExecutionEndTime": "2023-07-09T18:50:19.5726079-03:00",
    "dotnet_interactive": {
     "language": "pwsh"
    },
    "polyglot_notebook": {
     "kernelName": "pwsh"
    }
   },
   "outputs": [
    {
     "name": "stdout",
     "output_type": "stream",
     "text": [
      "\u001B[31;1mfatal: destination path 'Fable' already exists and is not an empty directory.\u001B[0m\r\n",
      "Tool path: C:\\Users\\i574n\\.nuget\\packages\\fable\\4.1.4\\tools\\net6.0\\any\r\n",
      "MSBuild version 17.7.0-preview-23281-03+4ce2ff1f8 for .NET\r\n",
      "  Determining projects to restore...\r\n",
      "  All projects are up-to-date for restore.\r\n",
      "C:\\Program Files\\dotnet\\sdk\\8.0.100-preview.5.23303.2\\Sdks\\Microsoft.NET.Sdk\\targets\\Microsoft.NET.RuntimeIdentifierInference.targets(314,5): message NETSDK1057: You are using a preview version of .NET. See: https://aka.ms/dotnet-support-policy [C:\\home\\git\\polyglot\\deps\\Fable\\src\\Fable.Transforms\\Fable.Transforms.fsproj]\r\n",
      "C:\\Program Files\\dotnet\\sdk\\8.0.100-preview.5.23303.2\\Sdks\\Microsoft.NET.Sdk\\targets\\Microsoft.NET.RuntimeIdentifierInference.targets(314,5): message NETSDK1057: You are using a preview version of .NET. See: https://aka.ms/dotnet-support-policy [C:\\home\\git\\polyglot\\deps\\Fable\\src\\Fable.Transforms\\Rust\\AST\\Rust.AST.fsproj]\r\n",
      "  Fable.AST -> C:\\home\\git\\polyglot\\deps\\Fable\\src\\Fable.AST\\bin\\Release\\netstandard2.0\\Fable.AST.dll\r\n",
      "  Rust.AST -> C:\\home\\git\\polyglot\\deps\\Fable\\src\\Fable.Transforms\\Rust\\AST\\bin\\Release\\netstandard2.0\\Rust.AST.dll\r\n",
      "  Fable.Transforms -> C:\\home\\git\\polyglot\\deps\\Fable\\src\\Fable.Transforms\\bin\\Release\\netstandard2.0\\Fable.Transforms.dll\r\n",
      "\r\n",
      "Build succeeded.\r\n",
      "    0 Warning(s)\r\n",
      "    0 Error(s)\r\n",
      "\r\n",
      "Time Elapsed 00:00:02.60\r\n"
     ]
    }
   ],
   "source": [
    "{ . \"$ScriptDir/dep_fable.ps1\" } | Invoke-Block"
   ]
  }
 ],
 "metadata": {
  "kernelspec": {
   "display_name": ".NET (C#)",
   "language": "C#",
   "name": ".net-csharp"
  },
  "language_info": {
   "file_extension": ".cs",
   "mimetype": "text/x-csharp",
   "name": "C#",
   "pygments_lexer": "csharp",
   "version": "10.0"
  },
  "polyglot_notebook": {
   "defaultKernelName": "csharp",
   "items": [
    {
     "name": "csharp"
    }
   ]
  },
  "dotnet_interactive": {
   "defaultKernelName": "csharp",
   "items": [
    {
     "name": "csharp"
    }
   ]
  }
 },
 "nbformat": 4,
 "nbformat_minor": 5
}